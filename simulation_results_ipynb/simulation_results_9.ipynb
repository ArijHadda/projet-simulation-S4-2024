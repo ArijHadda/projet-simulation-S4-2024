{
 "cells": [
  {
   "cell_type": "markdown",
   "id": "fa8f426f",
   "metadata": {},
   "source": [
    "nombre_infected        20\n",
    "nombre_sain         19980\n",
    "nombre_exposed          0\n",
    "nombre_recovered        0\n",
    "Name: 0, dtype: int64"
   ]
  },
  {
   "cell_type": "markdown",
   "id": "947bf01c",
   "metadata": {},
   "source": [
    "nombre_infected        20\n",
    "nombre_sain         19961\n",
    "nombre_exposed         19\n",
    "nombre_recovered        0\n",
    "Name: 1, dtype: int64"
   ]
  },
  {
   "cell_type": "markdown",
   "id": "4608728a",
   "metadata": {},
   "source": [
    "nombre_infected         0\n",
    "nombre_sain         19943\n",
    "nombre_exposed         37\n",
    "nombre_recovered       20\n",
    "Name: 2, dtype: int64"
   ]
  },
  {
   "cell_type": "markdown",
   "id": "c41b760e",
   "metadata": {},
   "source": [
    "nombre_infected         7\n",
    "nombre_sain         19941\n",
    "nombre_exposed         32\n",
    "nombre_recovered       20\n",
    "Name: 3, dtype: int64"
   ]
  },
  {
   "cell_type": "markdown",
   "id": "c3e91076",
   "metadata": {},
   "source": [
    "nombre_infected        18\n",
    "nombre_sain         19929\n",
    "nombre_exposed         33\n",
    "nombre_recovered       20\n",
    "Name: 4, dtype: int64"
   ]
  },
  {
   "cell_type": "markdown",
   "id": "99f2207e",
   "metadata": {},
   "source": [
    "nombre_infected        23\n",
    "nombre_sain         19908\n",
    "nombre_exposed         49\n",
    "nombre_recovered       20\n",
    "Name: 5, dtype: int64"
   ]
  },
  {
   "cell_type": "markdown",
   "id": "6faee23c",
   "metadata": {},
   "source": [
    "nombre_infected        31\n",
    "nombre_sain         19880\n",
    "nombre_exposed         66\n",
    "nombre_recovered       23\n",
    "Name: 6, dtype: int64"
   ]
  },
  {
   "cell_type": "markdown",
   "id": "8b2d4739",
   "metadata": {},
   "source": [
    "nombre_infected        43\n",
    "nombre_sain         19842\n",
    "nombre_exposed         92\n",
    "nombre_recovered       23\n",
    "Name: 7, dtype: int64"
   ]
  },
  {
   "cell_type": "markdown",
   "id": "e66c8ec1",
   "metadata": {},
   "source": [
    "nombre_infected        49\n",
    "nombre_sain         19795\n",
    "nombre_exposed        131\n",
    "nombre_recovered       25\n",
    "Name: 8, dtype: int64"
   ]
  },
  {
   "cell_type": "markdown",
   "id": "787cc67c",
   "metadata": {},
   "source": [
    "nombre_infected        68\n",
    "nombre_sain         19730\n",
    "nombre_exposed        172\n",
    "nombre_recovered       30\n",
    "Name: 9, dtype: int64"
   ]
  },
  {
   "cell_type": "markdown",
   "id": "af7ffc4f",
   "metadata": {},
   "source": [
    "nombre_infected        85\n",
    "nombre_sain         19635\n",
    "nombre_exposed        242\n",
    "nombre_recovered       38\n",
    "Name: 10, dtype: int64"
   ]
  },
  {
   "cell_type": "markdown",
   "id": "97d3cef7",
   "metadata": {},
   "source": [
    "nombre_infected       119\n",
    "nombre_sain         19517\n",
    "nombre_exposed        317\n",
    "nombre_recovered       47\n",
    "Name: 11, dtype: int64"
   ]
  },
  {
   "cell_type": "markdown",
   "id": "9003a317",
   "metadata": {},
   "source": [
    "nombre_infected       155\n",
    "nombre_sain         19350\n",
    "nombre_exposed        433\n",
    "nombre_recovered       62\n",
    "Name: 12, dtype: int64"
   ]
  },
  {
   "cell_type": "markdown",
   "id": "c281e769",
   "metadata": {},
   "source": [
    "nombre_infected       210\n",
    "nombre_sain         19099\n",
    "nombre_exposed        619\n",
    "nombre_recovered       72\n",
    "Name: 13, dtype: int64"
   ]
  },
  {
   "cell_type": "markdown",
   "id": "f86f84b1",
   "metadata": {},
   "source": [
    "nombre_infected       288\n",
    "nombre_sain         18828\n",
    "nombre_exposed        792\n",
    "nombre_recovered       92\n",
    "Name: 14, dtype: int64"
   ]
  },
  {
   "cell_type": "markdown",
   "id": "3eabd8f1",
   "metadata": {},
   "source": [
    "nombre_infected       419\n",
    "nombre_sain         18428\n",
    "nombre_exposed       1041\n",
    "nombre_recovered      112\n",
    "Name: 15, dtype: int64"
   ]
  },
  {
   "cell_type": "markdown",
   "id": "02a1636f",
   "metadata": {},
   "source": [
    "nombre_infected       554\n",
    "nombre_sain         17864\n",
    "nombre_exposed       1429\n",
    "nombre_recovered      153\n",
    "Name: 16, dtype: int64"
   ]
  },
  {
   "cell_type": "markdown",
   "id": "d44652de",
   "metadata": {},
   "source": [
    "nombre_infected       744\n",
    "nombre_sain         17239\n",
    "nombre_exposed       1824\n",
    "nombre_recovered      193\n",
    "Name: 17, dtype: int64"
   ]
  },
  {
   "cell_type": "markdown",
   "id": "6aedb1a4",
   "metadata": {},
   "source": [
    "nombre_infected       985\n",
    "nombre_sain         16417\n",
    "nombre_exposed       2340\n",
    "nombre_recovered      258\n",
    "Name: 18, dtype: int64"
   ]
  },
  {
   "cell_type": "markdown",
   "id": "b36ecaf5",
   "metadata": {},
   "source": [
    "nombre_infected      1314\n",
    "nombre_sain         15340\n",
    "nombre_exposed       3021\n",
    "nombre_recovered      325\n",
    "Name: 19, dtype: int64"
   ]
  },
  {
   "cell_type": "markdown",
   "id": "99ad3d03",
   "metadata": {},
   "source": [
    "nombre_infected      1745\n",
    "nombre_sain         14079\n",
    "nombre_exposed       3737\n",
    "nombre_recovered      439\n",
    "Name: 20, dtype: int64"
   ]
  },
  {
   "cell_type": "markdown",
   "id": "1a42b850",
   "metadata": {},
   "source": [
    "nombre_infected      2297\n",
    "nombre_sain         12591\n",
    "nombre_exposed       4533\n",
    "nombre_recovered      579\n",
    "Name: 21, dtype: int64"
   ]
  },
  {
   "cell_type": "markdown",
   "id": "5ad5a8d8",
   "metadata": {},
   "source": [
    "nombre_infected      2966\n",
    "nombre_sain         10910\n",
    "nombre_exposed       5376\n",
    "nombre_recovered      748\n",
    "Name: 22, dtype: int64"
   ]
  },
  {
   "cell_type": "markdown",
   "id": "917f05f2",
   "metadata": {},
   "source": [
    "nombre_infected     3781\n",
    "nombre_sain         9128\n",
    "nombre_exposed      6100\n",
    "nombre_recovered     991\n",
    "Name: 23, dtype: int64"
   ]
  },
  {
   "cell_type": "markdown",
   "id": "6f10b2c0",
   "metadata": {},
   "source": [
    "nombre_infected     4675\n",
    "nombre_sain         7290\n",
    "nombre_exposed      6718\n",
    "nombre_recovered    1317\n",
    "Name: 24, dtype: int64"
   ]
  },
  {
   "cell_type": "markdown",
   "id": "8925fb4a",
   "metadata": {},
   "source": [
    "nombre_infected     5603\n",
    "nombre_sain         5648\n",
    "nombre_exposed      7040\n",
    "nombre_recovered    1709\n",
    "Name: 25, dtype: int64"
   ]
  },
  {
   "cell_type": "markdown",
   "id": "da37d107",
   "metadata": {},
   "source": [
    "nombre_infected     6588\n",
    "nombre_sain         4267\n",
    "nombre_exposed      6918\n",
    "nombre_recovered    2227\n",
    "Name: 26, dtype: int64"
   ]
  },
  {
   "cell_type": "markdown",
   "id": "79c3c378",
   "metadata": {},
   "source": [
    "nombre_infected     7508\n",
    "nombre_sain         3017\n",
    "nombre_exposed      6661\n",
    "nombre_recovered    2814\n",
    "Name: 27, dtype: int64"
   ]
  },
  {
   "cell_type": "markdown",
   "id": "f2f64572",
   "metadata": {},
   "source": [
    "nombre_infected     8329\n",
    "nombre_sain         2107\n",
    "nombre_exposed      6052\n",
    "nombre_recovered    3512\n",
    "Name: 28, dtype: int64"
   ]
  },
  {
   "cell_type": "markdown",
   "id": "d7a3d7f4",
   "metadata": {},
   "source": [
    "nombre_infected     9007\n",
    "nombre_sain         1401\n",
    "nombre_exposed      5355\n",
    "nombre_recovered    4237\n",
    "Name: 29, dtype: int64"
   ]
  },
  {
   "cell_type": "markdown",
   "id": "a4cbd92e",
   "metadata": {},
   "source": [
    "nombre_infected     9271\n",
    "nombre_sain          944\n",
    "nombre_exposed      4600\n",
    "nombre_recovered    5185\n",
    "Name: 30, dtype: int64"
   ]
  },
  {
   "cell_type": "markdown",
   "id": "2ecea064",
   "metadata": {},
   "source": [
    "nombre_infected     9431\n",
    "nombre_sain          629\n",
    "nombre_exposed      3820\n",
    "nombre_recovered    6120\n",
    "Name: 31, dtype: int64"
   ]
  },
  {
   "cell_type": "markdown",
   "id": "161dbd36",
   "metadata": {},
   "source": [
    "nombre_infected     9416\n",
    "nombre_sain          421\n",
    "nombre_exposed      3065\n",
    "nombre_recovered    7098\n",
    "Name: 32, dtype: int64"
   ]
  },
  {
   "cell_type": "markdown",
   "id": "7ab42f89",
   "metadata": {},
   "source": [
    "nombre_infected     9151\n",
    "nombre_sain          284\n",
    "nombre_exposed      2469\n",
    "nombre_recovered    8096\n",
    "Name: 33, dtype: int64"
   ]
  },
  {
   "cell_type": "markdown",
   "id": "70185f15",
   "metadata": {},
   "source": [
    "nombre_infected     8696\n",
    "nombre_sain          205\n",
    "nombre_exposed      1937\n",
    "nombre_recovered    9162\n",
    "Name: 34, dtype: int64"
   ]
  },
  {
   "cell_type": "markdown",
   "id": "f21e1df5",
   "metadata": {},
   "source": [
    "nombre_infected      8217\n",
    "nombre_sain           153\n",
    "nombre_exposed       1508\n",
    "nombre_recovered    10122\n",
    "Name: 35, dtype: int64"
   ]
  },
  {
   "cell_type": "markdown",
   "id": "6721747a",
   "metadata": {},
   "source": [
    "nombre_infected      7629\n",
    "nombre_sain           124\n",
    "nombre_exposed       1172\n",
    "nombre_recovered    11075\n",
    "Name: 36, dtype: int64"
   ]
  },
  {
   "cell_type": "markdown",
   "id": "0616efa7",
   "metadata": {},
   "source": [
    "nombre_infected      6984\n",
    "nombre_sain           115\n",
    "nombre_exposed        888\n",
    "nombre_recovered    12013\n",
    "Name: 37, dtype: int64"
   ]
  },
  {
   "cell_type": "markdown",
   "id": "b9c4274c",
   "metadata": {},
   "source": [
    "nombre_infected      6381\n",
    "nombre_sain           118\n",
    "nombre_exposed        687\n",
    "nombre_recovered    12814\n",
    "Name: 38, dtype: int64"
   ]
  },
  {
   "cell_type": "markdown",
   "id": "7d9b32b9",
   "metadata": {},
   "source": [
    "nombre_infected      5774\n",
    "nombre_sain           120\n",
    "nombre_exposed        546\n",
    "nombre_recovered    13560\n",
    "Name: 39, dtype: int64"
   ]
  },
  {
   "cell_type": "markdown",
   "id": "4ad193b6",
   "metadata": {},
   "source": [
    "nombre_infected      5223\n",
    "nombre_sain           117\n",
    "nombre_exposed        439\n",
    "nombre_recovered    14221\n",
    "Name: 40, dtype: int64"
   ]
  },
  {
   "cell_type": "markdown",
   "id": "22437148",
   "metadata": {},
   "source": [
    "nombre_infected      4711\n",
    "nombre_sain           127\n",
    "nombre_exposed        358\n",
    "nombre_recovered    14804\n",
    "Name: 41, dtype: int64"
   ]
  },
  {
   "cell_type": "markdown",
   "id": "10221118",
   "metadata": {},
   "source": [
    "nombre_infected      4209\n",
    "nombre_sain           135\n",
    "nombre_exposed        299\n",
    "nombre_recovered    15357\n",
    "Name: 42, dtype: int64"
   ]
  },
  {
   "cell_type": "markdown",
   "id": "d2b2ec69",
   "metadata": {},
   "source": [
    "nombre_infected      3751\n",
    "nombre_sain           145\n",
    "nombre_exposed        244\n",
    "nombre_recovered    15860\n",
    "Name: 43, dtype: int64"
   ]
  },
  {
   "cell_type": "markdown",
   "id": "1e41689a",
   "metadata": {},
   "source": [
    "nombre_infected      3357\n",
    "nombre_sain           174\n",
    "nombre_exposed        213\n",
    "nombre_recovered    16256\n",
    "Name: 44, dtype: int64"
   ]
  },
  {
   "cell_type": "markdown",
   "id": "e8331c7a",
   "metadata": {},
   "source": [
    "nombre_infected      3005\n",
    "nombre_sain           199\n",
    "nombre_exposed        173\n",
    "nombre_recovered    16623\n",
    "Name: 45, dtype: int64"
   ]
  },
  {
   "cell_type": "markdown",
   "id": "1409fd43",
   "metadata": {},
   "source": [
    "nombre_infected      2671\n",
    "nombre_sain           215\n",
    "nombre_exposed        149\n",
    "nombre_recovered    16965\n",
    "Name: 46, dtype: int64"
   ]
  },
  {
   "cell_type": "markdown",
   "id": "b15e3c46",
   "metadata": {},
   "source": [
    "nombre_infected      2380\n",
    "nombre_sain           241\n",
    "nombre_exposed        143\n",
    "nombre_recovered    17236\n",
    "Name: 47, dtype: int64"
   ]
  },
  {
   "cell_type": "markdown",
   "id": "61130fd5",
   "metadata": {},
   "source": [
    "nombre_infected      2117\n",
    "nombre_sain           278\n",
    "nombre_exposed        152\n",
    "nombre_recovered    17453\n",
    "Name: 48, dtype: int64"
   ]
  },
  {
   "cell_type": "markdown",
   "id": "50a0535e",
   "metadata": {},
   "source": [
    "nombre_infected      1921\n",
    "nombre_sain           332\n",
    "nombre_exposed        139\n",
    "nombre_recovered    17608\n",
    "Name: 49, dtype: int64"
   ]
  },
  {
   "cell_type": "markdown",
   "id": "30d1d76f",
   "metadata": {},
   "source": [
    "nombre_infected      1713\n",
    "nombre_sain           351\n",
    "nombre_exposed        143\n",
    "nombre_recovered    17793\n",
    "Name: 50, dtype: int64"
   ]
  },
  {
   "cell_type": "markdown",
   "id": "7eec1c2f",
   "metadata": {},
   "source": [
    "nombre_infected      1535\n",
    "nombre_sain           380\n",
    "nombre_exposed        147\n",
    "nombre_recovered    17938\n",
    "Name: 51, dtype: int64"
   ]
  },
  {
   "cell_type": "markdown",
   "id": "dcfdf825",
   "metadata": {},
   "source": [
    "nombre_infected      1374\n",
    "nombre_sain           415\n",
    "nombre_exposed        145\n",
    "nombre_recovered    18066\n",
    "Name: 52, dtype: int64"
   ]
  },
  {
   "cell_type": "markdown",
   "id": "fa1109d9",
   "metadata": {},
   "source": [
    "nombre_infected      1248\n",
    "nombre_sain           466\n",
    "nombre_exposed        146\n",
    "nombre_recovered    18140\n",
    "Name: 53, dtype: int64"
   ]
  },
  {
   "cell_type": "markdown",
   "id": "7e076a89",
   "metadata": {},
   "source": [
    "nombre_infected      1133\n",
    "nombre_sain           516\n",
    "nombre_exposed        130\n",
    "nombre_recovered    18221\n",
    "Name: 54, dtype: int64"
   ]
  },
  {
   "cell_type": "markdown",
   "id": "f92b5382",
   "metadata": {},
   "source": [
    "nombre_infected      1038\n",
    "nombre_sain           573\n",
    "nombre_exposed        114\n",
    "nombre_recovered    18275\n",
    "Name: 55, dtype: int64"
   ]
  },
  {
   "cell_type": "markdown",
   "id": "20d440f0",
   "metadata": {},
   "source": [
    "nombre_infected       932\n",
    "nombre_sain           607\n",
    "nombre_exposed        124\n",
    "nombre_recovered    18337\n",
    "Name: 56, dtype: int64"
   ]
  },
  {
   "cell_type": "markdown",
   "id": "1fb2868e",
   "metadata": {},
   "source": [
    "nombre_infected       843\n",
    "nombre_sain           642\n",
    "nombre_exposed        127\n",
    "nombre_recovered    18388\n",
    "Name: 57, dtype: int64"
   ]
  },
  {
   "cell_type": "markdown",
   "id": "e723e366",
   "metadata": {},
   "source": [
    "nombre_infected       767\n",
    "nombre_sain           687\n",
    "nombre_exposed        138\n",
    "nombre_recovered    18408\n",
    "Name: 58, dtype: int64"
   ]
  },
  {
   "cell_type": "markdown",
   "id": "ca7562d4",
   "metadata": {},
   "source": [
    "nombre_infected       685\n",
    "nombre_sain           722\n",
    "nombre_exposed        149\n",
    "nombre_recovered    18444\n",
    "Name: 59, dtype: int64"
   ]
  },
  {
   "cell_type": "markdown",
   "id": "cde07b80",
   "metadata": {},
   "source": [
    "nombre_infected       591\n",
    "nombre_sain           766\n",
    "nombre_exposed        150\n",
    "nombre_recovered    18493\n",
    "Name: 60, dtype: int64"
   ]
  },
  {
   "cell_type": "markdown",
   "id": "c0ec6634",
   "metadata": {},
   "source": [
    "nombre_infected       531\n",
    "nombre_sain           806\n",
    "nombre_exposed        145\n",
    "nombre_recovered    18518\n",
    "Name: 61, dtype: int64"
   ]
  },
  {
   "cell_type": "markdown",
   "id": "9cc958c0",
   "metadata": {},
   "source": [
    "nombre_infected       482\n",
    "nombre_sain           859\n",
    "nombre_exposed        129\n",
    "nombre_recovered    18530\n",
    "Name: 62, dtype: int64"
   ]
  },
  {
   "cell_type": "markdown",
   "id": "6b639e58",
   "metadata": {},
   "source": [
    "nombre_infected       436\n",
    "nombre_sain           902\n",
    "nombre_exposed        119\n",
    "nombre_recovered    18543\n",
    "Name: 63, dtype: int64"
   ]
  },
  {
   "cell_type": "markdown",
   "id": "70d3b37d",
   "metadata": {},
   "source": [
    "nombre_infected       392\n",
    "nombre_sain           940\n",
    "nombre_exposed        116\n",
    "nombre_recovered    18552\n",
    "Name: 64, dtype: int64"
   ]
  },
  {
   "cell_type": "markdown",
   "id": "87f40a97",
   "metadata": {},
   "source": [
    "nombre_infected       359\n",
    "nombre_sain          1001\n",
    "nombre_exposed        114\n",
    "nombre_recovered    18526\n",
    "Name: 65, dtype: int64"
   ]
  },
  {
   "cell_type": "markdown",
   "id": "2b67e525",
   "metadata": {},
   "source": [
    "nombre_infected       323\n",
    "nombre_sain          1059\n",
    "nombre_exposed        113\n",
    "nombre_recovered    18505\n",
    "Name: 66, dtype: int64"
   ]
  },
  {
   "cell_type": "markdown",
   "id": "f5e51c63",
   "metadata": {},
   "source": [
    "nombre_infected       282\n",
    "nombre_sain          1124\n",
    "nombre_exposed        108\n",
    "nombre_recovered    18486\n",
    "Name: 67, dtype: int64"
   ]
  },
  {
   "cell_type": "markdown",
   "id": "2459607f",
   "metadata": {},
   "source": [
    "nombre_infected       269\n",
    "nombre_sain          1185\n",
    "nombre_exposed        100\n",
    "nombre_recovered    18446\n",
    "Name: 68, dtype: int64"
   ]
  },
  {
   "cell_type": "markdown",
   "id": "4ba9bc63",
   "metadata": {},
   "source": [
    "nombre_infected       239\n",
    "nombre_sain          1233\n",
    "nombre_exposed         95\n",
    "nombre_recovered    18433\n",
    "Name: 69, dtype: int64"
   ]
  },
  {
   "cell_type": "markdown",
   "id": "0470f201",
   "metadata": {},
   "source": [
    "nombre_infected       219\n",
    "nombre_sain          1270\n",
    "nombre_exposed         96\n",
    "nombre_recovered    18415\n",
    "Name: 70, dtype: int64"
   ]
  },
  {
   "cell_type": "markdown",
   "id": "b2189703",
   "metadata": {},
   "source": [
    "nombre_infected       197\n",
    "nombre_sain          1317\n",
    "nombre_exposed         94\n",
    "nombre_recovered    18392\n",
    "Name: 71, dtype: int64"
   ]
  },
  {
   "cell_type": "markdown",
   "id": "09b94bb6",
   "metadata": {},
   "source": [
    "nombre_infected       186\n",
    "nombre_sain          1366\n",
    "nombre_exposed         88\n",
    "nombre_recovered    18360\n",
    "Name: 72, dtype: int64"
   ]
  },
  {
   "cell_type": "markdown",
   "id": "135d8c2b",
   "metadata": {},
   "source": [
    "nombre_infected       170\n",
    "nombre_sain          1413\n",
    "nombre_exposed         86\n",
    "nombre_recovered    18331\n",
    "Name: 73, dtype: int64"
   ]
  },
  {
   "cell_type": "markdown",
   "id": "3f5d2c21",
   "metadata": {},
   "source": [
    "nombre_infected       168\n",
    "nombre_sain          1463\n",
    "nombre_exposed         76\n",
    "nombre_recovered    18293\n",
    "Name: 74, dtype: int64"
   ]
  },
  {
   "cell_type": "markdown",
   "id": "dd98f7e4",
   "metadata": {},
   "source": [
    "nombre_infected       153\n",
    "nombre_sain          1518\n",
    "nombre_exposed         80\n",
    "nombre_recovered    18249\n",
    "Name: 75, dtype: int64"
   ]
  },
  {
   "cell_type": "markdown",
   "id": "b5677070",
   "metadata": {},
   "source": [
    "nombre_infected       143\n",
    "nombre_sain          1563\n",
    "nombre_exposed         82\n",
    "nombre_recovered    18212\n",
    "Name: 76, dtype: int64"
   ]
  },
  {
   "cell_type": "markdown",
   "id": "04702655",
   "metadata": {},
   "source": [
    "nombre_infected       123\n",
    "nombre_sain          1624\n",
    "nombre_exposed         79\n",
    "nombre_recovered    18174\n",
    "Name: 77, dtype: int64"
   ]
  },
  {
   "cell_type": "markdown",
   "id": "4ed269eb",
   "metadata": {},
   "source": [
    "nombre_infected       116\n",
    "nombre_sain          1690\n",
    "nombre_exposed         78\n",
    "nombre_recovered    18116\n",
    "Name: 78, dtype: int64"
   ]
  },
  {
   "cell_type": "markdown",
   "id": "a6f5d764",
   "metadata": {},
   "source": [
    "nombre_infected       107\n",
    "nombre_sain          1771\n",
    "nombre_exposed         70\n",
    "nombre_recovered    18052\n",
    "Name: 79, dtype: int64"
   ]
  },
  {
   "cell_type": "markdown",
   "id": "322ea29c",
   "metadata": {},
   "source": [
    "nombre_infected       102\n",
    "nombre_sain          1837\n",
    "nombre_exposed         68\n",
    "nombre_recovered    17993\n",
    "Name: 80, dtype: int64"
   ]
  },
  {
   "cell_type": "markdown",
   "id": "e377ae73",
   "metadata": {},
   "source": [
    "nombre_infected        94\n",
    "nombre_sain          1898\n",
    "nombre_exposed         63\n",
    "nombre_recovered    17945\n",
    "Name: 81, dtype: int64"
   ]
  },
  {
   "cell_type": "markdown",
   "id": "843e74de",
   "metadata": {},
   "source": [
    "nombre_infected        91\n",
    "nombre_sain          1956\n",
    "nombre_exposed         58\n",
    "nombre_recovered    17895\n",
    "Name: 82, dtype: int64"
   ]
  },
  {
   "cell_type": "markdown",
   "id": "13357dd1",
   "metadata": {},
   "source": [
    "nombre_infected        88\n",
    "nombre_sain          2009\n",
    "nombre_exposed         57\n",
    "nombre_recovered    17846\n",
    "Name: 83, dtype: int64"
   ]
  },
  {
   "cell_type": "markdown",
   "id": "2fa5b664",
   "metadata": {},
   "source": [
    "nombre_infected        91\n",
    "nombre_sain          2062\n",
    "nombre_exposed         55\n",
    "nombre_recovered    17792\n",
    "Name: 84, dtype: int64"
   ]
  },
  {
   "cell_type": "markdown",
   "id": "37dc7c8f",
   "metadata": {},
   "source": [
    "nombre_infected        82\n",
    "nombre_sain          2102\n",
    "nombre_exposed         64\n",
    "nombre_recovered    17752\n",
    "Name: 85, dtype: int64"
   ]
  },
  {
   "cell_type": "markdown",
   "id": "95536167",
   "metadata": {},
   "source": [
    "nombre_infected        79\n",
    "nombre_sain          2148\n",
    "nombre_exposed         67\n",
    "nombre_recovered    17706\n",
    "Name: 86, dtype: int64"
   ]
  },
  {
   "cell_type": "markdown",
   "id": "f1e4039a",
   "metadata": {},
   "source": [
    "nombre_infected        71\n",
    "nombre_sain          2202\n",
    "nombre_exposed         65\n",
    "nombre_recovered    17662\n",
    "Name: 87, dtype: int64"
   ]
  },
  {
   "cell_type": "markdown",
   "id": "a6febf78",
   "metadata": {},
   "source": [
    "nombre_infected        71\n",
    "nombre_sain          2252\n",
    "nombre_exposed         62\n",
    "nombre_recovered    17615\n",
    "Name: 88, dtype: int64"
   ]
  },
  {
   "cell_type": "markdown",
   "id": "ea756590",
   "metadata": {},
   "source": [
    "nombre_infected        66\n",
    "nombre_sain          2292\n",
    "nombre_exposed         64\n",
    "nombre_recovered    17578\n",
    "Name: 89, dtype: int64"
   ]
  },
  {
   "cell_type": "markdown",
   "id": "51538b5b",
   "metadata": {},
   "source": [
    "nombre_infected        70\n",
    "nombre_sain          2336\n",
    "nombre_exposed         59\n",
    "nombre_recovered    17535\n",
    "Name: 90, dtype: int64"
   ]
  },
  {
   "cell_type": "markdown",
   "id": "10a4dd6b",
   "metadata": {},
   "source": [
    "nombre_infected        71\n",
    "nombre_sain          2382\n",
    "nombre_exposed         51\n",
    "nombre_recovered    17496\n",
    "Name: 91, dtype: int64"
   ]
  },
  {
   "cell_type": "markdown",
   "id": "1f0592ca",
   "metadata": {},
   "source": [
    "nombre_infected        70\n",
    "nombre_sain          2441\n",
    "nombre_exposed         46\n",
    "nombre_recovered    17443\n",
    "Name: 92, dtype: int64"
   ]
  },
  {
   "cell_type": "markdown",
   "id": "d0e8fd7e",
   "metadata": {},
   "source": [
    "nombre_infected        67\n",
    "nombre_sain          2489\n",
    "nombre_exposed         47\n",
    "nombre_recovered    17397\n",
    "Name: 93, dtype: int64"
   ]
  },
  {
   "cell_type": "markdown",
   "id": "7dc5e631",
   "metadata": {},
   "source": [
    "nombre_infected        68\n",
    "nombre_sain          2547\n",
    "nombre_exposed         39\n",
    "nombre_recovered    17346\n",
    "Name: 94, dtype: int64"
   ]
  },
  {
   "cell_type": "markdown",
   "id": "ccba320e",
   "metadata": {},
   "source": [
    "nombre_infected        69\n",
    "nombre_sain          2610\n",
    "nombre_exposed         45\n",
    "nombre_recovered    17276\n",
    "Name: 95, dtype: int64"
   ]
  },
  {
   "cell_type": "markdown",
   "id": "8cda6e77",
   "metadata": {},
   "source": [
    "nombre_infected        71\n",
    "nombre_sain          2656\n",
    "nombre_exposed         46\n",
    "nombre_recovered    17227\n",
    "Name: 96, dtype: int64"
   ]
  },
  {
   "cell_type": "markdown",
   "id": "394d1e63",
   "metadata": {},
   "source": [
    "nombre_infected        65\n",
    "nombre_sain          2716\n",
    "nombre_exposed         49\n",
    "nombre_recovered    17170\n",
    "Name: 97, dtype: int64"
   ]
  },
  {
   "cell_type": "markdown",
   "id": "1bc1b8f9",
   "metadata": {},
   "source": [
    "nombre_infected        64\n",
    "nombre_sain          2784\n",
    "nombre_exposed         46\n",
    "nombre_recovered    17106\n",
    "Name: 98, dtype: int64"
   ]
  },
  {
   "cell_type": "markdown",
   "id": "7c0cc3e8",
   "metadata": {},
   "source": [
    "nombre_infected        59\n",
    "nombre_sain          2840\n",
    "nombre_exposed         51\n",
    "nombre_recovered    17050\n",
    "Name: 99, dtype: int64"
   ]
  },
  {
   "cell_type": "markdown",
   "id": "c2c1789f",
   "metadata": {},
   "source": [
    "nombre_infected        55\n",
    "nombre_sain          2899\n",
    "nombre_exposed         55\n",
    "nombre_recovered    16991\n",
    "Name: 100, dtype: int64"
   ]
  },
  {
   "cell_type": "markdown",
   "id": "ee940077",
   "metadata": {},
   "source": [
    "nombre_infected        64\n",
    "nombre_sain          2972\n",
    "nombre_exposed         57\n",
    "nombre_recovered    16907\n",
    "Name: 101, dtype: int64"
   ]
  },
  {
   "cell_type": "markdown",
   "id": "a72dced8",
   "metadata": {},
   "source": [
    "nombre_infected        62\n",
    "nombre_sain          3027\n",
    "nombre_exposed         56\n",
    "nombre_recovered    16855\n",
    "Name: 102, dtype: int64"
   ]
  },
  {
   "cell_type": "markdown",
   "id": "52ca154a",
   "metadata": {},
   "source": [
    "nombre_infected        67\n",
    "nombre_sain          3067\n",
    "nombre_exposed         55\n",
    "nombre_recovered    16811\n",
    "Name: 103, dtype: int64"
   ]
  },
  {
   "cell_type": "markdown",
   "id": "b21fe11f",
   "metadata": {},
   "source": [
    "nombre_infected        73\n",
    "nombre_sain          3094\n",
    "nombre_exposed         66\n",
    "nombre_recovered    16767\n",
    "Name: 104, dtype: int64"
   ]
  },
  {
   "cell_type": "markdown",
   "id": "4d19ca34",
   "metadata": {},
   "source": [
    "nombre_infected        79\n",
    "nombre_sain          3130\n",
    "nombre_exposed         74\n",
    "nombre_recovered    16717\n",
    "Name: 105, dtype: int64"
   ]
  },
  {
   "cell_type": "markdown",
   "id": "929cd497",
   "metadata": {},
   "source": [
    "nombre_infected        77\n",
    "nombre_sain          3164\n",
    "nombre_exposed         81\n",
    "nombre_recovered    16678\n",
    "Name: 106, dtype: int64"
   ]
  },
  {
   "cell_type": "markdown",
   "id": "a9a54569",
   "metadata": {},
   "source": [
    "nombre_infected        85\n",
    "nombre_sain          3194\n",
    "nombre_exposed         81\n",
    "nombre_recovered    16640\n",
    "Name: 107, dtype: int64"
   ]
  },
  {
   "cell_type": "markdown",
   "id": "3cf900ef",
   "metadata": {},
   "source": [
    "nombre_infected        99\n",
    "nombre_sain          3212\n",
    "nombre_exposed         87\n",
    "nombre_recovered    16602\n",
    "Name: 108, dtype: int64"
   ]
  },
  {
   "cell_type": "markdown",
   "id": "f15447bf",
   "metadata": {},
   "source": [
    "nombre_infected       110\n",
    "nombre_sain          3239\n",
    "nombre_exposed         86\n",
    "nombre_recovered    16565\n",
    "Name: 109, dtype: int64"
   ]
  },
  {
   "cell_type": "markdown",
   "id": "cd0a7372",
   "metadata": {},
   "source": [
    "nombre_infected       114\n",
    "nombre_sain          3262\n",
    "nombre_exposed         93\n",
    "nombre_recovered    16531\n",
    "Name: 110, dtype: int64"
   ]
  },
  {
   "cell_type": "markdown",
   "id": "44bc43f8",
   "metadata": {},
   "source": [
    "nombre_infected       111\n",
    "nombre_sain          3277\n",
    "nombre_exposed        106\n",
    "nombre_recovered    16506\n",
    "Name: 111, dtype: int64"
   ]
  },
  {
   "cell_type": "markdown",
   "id": "6ec5466e",
   "metadata": {},
   "source": [
    "nombre_infected       119\n",
    "nombre_sain          3298\n",
    "nombre_exposed        119\n",
    "nombre_recovered    16464\n",
    "Name: 112, dtype: int64"
   ]
  },
  {
   "cell_type": "markdown",
   "id": "761e898a",
   "metadata": {},
   "source": [
    "nombre_infected       121\n",
    "nombre_sain          3330\n",
    "nombre_exposed        124\n",
    "nombre_recovered    16425\n",
    "Name: 113, dtype: int64"
   ]
  },
  {
   "cell_type": "markdown",
   "id": "2db6c1be",
   "metadata": {},
   "source": [
    "nombre_infected       132\n",
    "nombre_sain          3345\n",
    "nombre_exposed        131\n",
    "nombre_recovered    16392\n",
    "Name: 114, dtype: int64"
   ]
  },
  {
   "cell_type": "markdown",
   "id": "fcb42c9e",
   "metadata": {},
   "source": [
    "nombre_infected       144\n",
    "nombre_sain          3364\n",
    "nombre_exposed        136\n",
    "nombre_recovered    16356\n",
    "Name: 115, dtype: int64"
   ]
  },
  {
   "cell_type": "markdown",
   "id": "73433ad1",
   "metadata": {},
   "source": [
    "nombre_infected       148\n",
    "nombre_sain          3383\n",
    "nombre_exposed        143\n",
    "nombre_recovered    16326\n",
    "Name: 116, dtype: int64"
   ]
  },
  {
   "cell_type": "markdown",
   "id": "3ede8cda",
   "metadata": {},
   "source": [
    "nombre_infected       159\n",
    "nombre_sain          3392\n",
    "nombre_exposed        143\n",
    "nombre_recovered    16306\n",
    "Name: 117, dtype: int64"
   ]
  },
  {
   "cell_type": "markdown",
   "id": "0181072a",
   "metadata": {},
   "source": [
    "nombre_infected       165\n",
    "nombre_sain          3411\n",
    "nombre_exposed        153\n",
    "nombre_recovered    16271\n",
    "Name: 118, dtype: int64"
   ]
  },
  {
   "cell_type": "markdown",
   "id": "d399418f",
   "metadata": {},
   "source": [
    "nombre_infected       174\n",
    "nombre_sain          3436\n",
    "nombre_exposed        161\n",
    "nombre_recovered    16229\n",
    "Name: 119, dtype: int64"
   ]
  },
  {
   "cell_type": "markdown",
   "id": "b542cf71",
   "metadata": {},
   "source": [
    "nombre_infected       184\n",
    "nombre_sain          3455\n",
    "nombre_exposed        164\n",
    "nombre_recovered    16197\n",
    "Name: 120, dtype: int64"
   ]
  },
  {
   "cell_type": "markdown",
   "id": "8048d455",
   "metadata": {},
   "source": [
    "nombre_infected       202\n",
    "nombre_sain          3473\n",
    "nombre_exposed        169\n",
    "nombre_recovered    16156\n",
    "Name: 121, dtype: int64"
   ]
  },
  {
   "cell_type": "markdown",
   "id": "4fc5441e",
   "metadata": {},
   "source": [
    "nombre_infected       204\n",
    "nombre_sain          3502\n",
    "nombre_exposed        186\n",
    "nombre_recovered    16108\n",
    "Name: 122, dtype: int64"
   ]
  },
  {
   "cell_type": "markdown",
   "id": "5c03a7ed",
   "metadata": {},
   "source": [
    "nombre_infected       215\n",
    "nombre_sain          3511\n",
    "nombre_exposed        209\n",
    "nombre_recovered    16065\n",
    "Name: 123, dtype: int64"
   ]
  },
  {
   "cell_type": "markdown",
   "id": "a8871a00",
   "metadata": {},
   "source": [
    "nombre_infected       228\n",
    "nombre_sain          3567\n",
    "nombre_exposed        200\n",
    "nombre_recovered    16005\n",
    "Name: 124, dtype: int64"
   ]
  },
  {
   "cell_type": "markdown",
   "id": "6df25146",
   "metadata": {},
   "source": [
    "nombre_infected       251\n",
    "nombre_sain          3570\n",
    "nombre_exposed        212\n",
    "nombre_recovered    15967\n",
    "Name: 125, dtype: int64"
   ]
  },
  {
   "cell_type": "markdown",
   "id": "c630f962",
   "metadata": {},
   "source": [
    "nombre_infected       262\n",
    "nombre_sain          3581\n",
    "nombre_exposed        243\n",
    "nombre_recovered    15914\n",
    "Name: 126, dtype: int64"
   ]
  },
  {
   "cell_type": "markdown",
   "id": "3b048102",
   "metadata": {},
   "source": [
    "nombre_infected       275\n",
    "nombre_sain          3582\n",
    "nombre_exposed        272\n",
    "nombre_recovered    15871\n",
    "Name: 127, dtype: int64"
   ]
  },
  {
   "cell_type": "markdown",
   "id": "26490398",
   "metadata": {},
   "source": [
    "nombre_infected       298\n",
    "nombre_sain          3597\n",
    "nombre_exposed        277\n",
    "nombre_recovered    15828\n",
    "Name: 128, dtype: int64"
   ]
  },
  {
   "cell_type": "markdown",
   "id": "c7531490",
   "metadata": {},
   "source": [
    "nombre_infected       324\n",
    "nombre_sain          3584\n",
    "nombre_exposed        298\n",
    "nombre_recovered    15794\n",
    "Name: 129, dtype: int64"
   ]
  },
  {
   "cell_type": "markdown",
   "id": "961b273c",
   "metadata": {},
   "source": [
    "nombre_infected       339\n",
    "nombre_sain          3560\n",
    "nombre_exposed        323\n",
    "nombre_recovered    15778\n",
    "Name: 130, dtype: int64"
   ]
  },
  {
   "cell_type": "markdown",
   "id": "d91f5b7e",
   "metadata": {},
   "source": [
    "nombre_infected       351\n",
    "nombre_sain          3554\n",
    "nombre_exposed        340\n",
    "nombre_recovered    15755\n",
    "Name: 131, dtype: int64"
   ]
  },
  {
   "cell_type": "markdown",
   "id": "f4d5b123",
   "metadata": {},
   "source": [
    "nombre_infected       375\n",
    "nombre_sain          3517\n",
    "nombre_exposed        358\n",
    "nombre_recovered    15750\n",
    "Name: 132, dtype: int64"
   ]
  },
  {
   "cell_type": "markdown",
   "id": "4bcb5cd0",
   "metadata": {},
   "source": [
    "nombre_infected       387\n",
    "nombre_sain          3489\n",
    "nombre_exposed        376\n",
    "nombre_recovered    15748\n",
    "Name: 133, dtype: int64"
   ]
  },
  {
   "cell_type": "markdown",
   "id": "afac9dc6",
   "metadata": {},
   "source": [
    "nombre_infected       410\n",
    "nombre_sain          3462\n",
    "nombre_exposed        395\n",
    "nombre_recovered    15733\n",
    "Name: 134, dtype: int64"
   ]
  },
  {
   "cell_type": "markdown",
   "id": "31c340ee",
   "metadata": {},
   "source": [
    "nombre_infected       446\n",
    "nombre_sain          3419\n",
    "nombre_exposed        407\n",
    "nombre_recovered    15728\n",
    "Name: 135, dtype: int64"
   ]
  },
  {
   "cell_type": "markdown",
   "id": "0c1ce31c",
   "metadata": {},
   "source": [
    "nombre_infected       480\n",
    "nombre_sain          3358\n",
    "nombre_exposed        435\n",
    "nombre_recovered    15727\n",
    "Name: 136, dtype: int64"
   ]
  },
  {
   "cell_type": "markdown",
   "id": "496604ba",
   "metadata": {},
   "source": [
    "nombre_infected       512\n",
    "nombre_sain          3312\n",
    "nombre_exposed        445\n",
    "nombre_recovered    15731\n",
    "Name: 137, dtype: int64"
   ]
  },
  {
   "cell_type": "markdown",
   "id": "d879100d",
   "metadata": {},
   "source": [
    "nombre_infected       543\n",
    "nombre_sain          3271\n",
    "nombre_exposed        459\n",
    "nombre_recovered    15727\n",
    "Name: 138, dtype: int64"
   ]
  },
  {
   "cell_type": "markdown",
   "id": "d2578911",
   "metadata": {},
   "source": [
    "nombre_infected       557\n",
    "nombre_sain          3233\n",
    "nombre_exposed        469\n",
    "nombre_recovered    15741\n",
    "Name: 139, dtype: int64"
   ]
  },
  {
   "cell_type": "markdown",
   "id": "4c7b780e",
   "metadata": {},
   "source": [
    "nombre_infected       580\n",
    "nombre_sain          3161\n",
    "nombre_exposed        496\n",
    "nombre_recovered    15763\n",
    "Name: 140, dtype: int64"
   ]
  },
  {
   "cell_type": "markdown",
   "id": "5720946f",
   "metadata": {},
   "source": [
    "nombre_infected       625\n",
    "nombre_sain          3086\n",
    "nombre_exposed        499\n",
    "nombre_recovered    15790\n",
    "Name: 141, dtype: int64"
   ]
  },
  {
   "cell_type": "markdown",
   "id": "d48a8025",
   "metadata": {},
   "source": [
    "nombre_infected       646\n",
    "nombre_sain          3012\n",
    "nombre_exposed        548\n",
    "nombre_recovered    15794\n",
    "Name: 142, dtype: int64"
   ]
  },
  {
   "cell_type": "markdown",
   "id": "6062247b",
   "metadata": {},
   "source": [
    "nombre_infected       666\n",
    "nombre_sain          2953\n",
    "nombre_exposed        573\n",
    "nombre_recovered    15808\n",
    "Name: 143, dtype: int64"
   ]
  },
  {
   "cell_type": "markdown",
   "id": "e9f66fe6",
   "metadata": {},
   "source": [
    "nombre_infected       712\n",
    "nombre_sain          2887\n",
    "nombre_exposed        579\n",
    "nombre_recovered    15822\n",
    "Name: 144, dtype: int64"
   ]
  },
  {
   "cell_type": "markdown",
   "id": "2ca66035",
   "metadata": {},
   "source": [
    "nombre_infected       750\n",
    "nombre_sain          2814\n",
    "nombre_exposed        605\n",
    "nombre_recovered    15831\n",
    "Name: 145, dtype: int64"
   ]
  },
  {
   "cell_type": "markdown",
   "id": "9a6e94e4",
   "metadata": {},
   "source": [
    "nombre_infected       775\n",
    "nombre_sain          2764\n",
    "nombre_exposed        602\n",
    "nombre_recovered    15859\n",
    "Name: 146, dtype: int64"
   ]
  },
  {
   "cell_type": "markdown",
   "id": "f88a9a3c",
   "metadata": {},
   "source": [
    "nombre_infected       813\n",
    "nombre_sain          2701\n",
    "nombre_exposed        608\n",
    "nombre_recovered    15878\n",
    "Name: 147, dtype: int64"
   ]
  },
  {
   "cell_type": "markdown",
   "id": "a9c9045d",
   "metadata": {},
   "source": [
    "nombre_infected       841\n",
    "nombre_sain          2630\n",
    "nombre_exposed        609\n",
    "nombre_recovered    15920\n",
    "Name: 148, dtype: int64"
   ]
  },
  {
   "cell_type": "markdown",
   "id": "88fa627c",
   "metadata": {},
   "source": [
    "nombre_infected       877\n",
    "nombre_sain          2554\n",
    "nombre_exposed        623\n",
    "nombre_recovered    15946\n",
    "Name: 149, dtype: int64"
   ]
  },
  {
   "cell_type": "markdown",
   "id": "0dbaca45",
   "metadata": {},
   "source": [
    "nombre_infected       896\n",
    "nombre_sain          2470\n",
    "nombre_exposed        641\n",
    "nombre_recovered    15993\n",
    "Name: 150, dtype: int64"
   ]
  },
  {
   "cell_type": "markdown",
   "id": "ff87c111",
   "metadata": {},
   "source": [
    "nombre_infected       917\n",
    "nombre_sain          2398\n",
    "nombre_exposed        624\n",
    "nombre_recovered    16061\n",
    "Name: 151, dtype: int64"
   ]
  },
  {
   "cell_type": "markdown",
   "id": "e971407f",
   "metadata": {},
   "source": [
    "nombre_infected       949\n",
    "nombre_sain          2327\n",
    "nombre_exposed        614\n",
    "nombre_recovered    16110\n",
    "Name: 152, dtype: int64"
   ]
  },
  {
   "cell_type": "markdown",
   "id": "7e5518e5",
   "metadata": {},
   "source": [
    "nombre_infected       979\n",
    "nombre_sain          2238\n",
    "nombre_exposed        612\n",
    "nombre_recovered    16171\n",
    "Name: 153, dtype: int64"
   ]
  },
  {
   "cell_type": "markdown",
   "id": "a23ca9e9",
   "metadata": {},
   "source": [
    "nombre_infected       974\n",
    "nombre_sain          2150\n",
    "nombre_exposed        617\n",
    "nombre_recovered    16259\n",
    "Name: 154, dtype: int64"
   ]
  },
  {
   "cell_type": "markdown",
   "id": "55f1e03d",
   "metadata": {},
   "source": [
    "nombre_infected      1000\n",
    "nombre_sain          2055\n",
    "nombre_exposed        619\n",
    "nombre_recovered    16326\n",
    "Name: 155, dtype: int64"
   ]
  },
  {
   "cell_type": "markdown",
   "id": "108fd9ed",
   "metadata": {},
   "source": [
    "nombre_infected      1018\n",
    "nombre_sain          1961\n",
    "nombre_exposed        614\n",
    "nombre_recovered    16407\n",
    "Name: 156, dtype: int64"
   ]
  },
  {
   "cell_type": "markdown",
   "id": "51fe9c13",
   "metadata": {},
   "source": [
    "nombre_infected      1023\n",
    "nombre_sain          1871\n",
    "nombre_exposed        623\n",
    "nombre_recovered    16483\n",
    "Name: 157, dtype: int64"
   ]
  },
  {
   "cell_type": "markdown",
   "id": "3550b84d",
   "metadata": {},
   "source": [
    "nombre_infected      1047\n",
    "nombre_sain          1794\n",
    "nombre_exposed        589\n",
    "nombre_recovered    16570\n",
    "Name: 158, dtype: int64"
   ]
  },
  {
   "cell_type": "markdown",
   "id": "53c57608",
   "metadata": {},
   "source": [
    "nombre_infected      1066\n",
    "nombre_sain          1729\n",
    "nombre_exposed        558\n",
    "nombre_recovered    16647\n",
    "Name: 159, dtype: int64"
   ]
  },
  {
   "cell_type": "markdown",
   "id": "d941e120",
   "metadata": {},
   "source": [
    "nombre_infected      1064\n",
    "nombre_sain          1684\n",
    "nombre_exposed        544\n",
    "nombre_recovered    16708\n",
    "Name: 160, dtype: int64"
   ]
  },
  {
   "cell_type": "markdown",
   "id": "eada24e9",
   "metadata": {},
   "source": [
    "nombre_infected      1038\n",
    "nombre_sain          1641\n",
    "nombre_exposed        511\n",
    "nombre_recovered    16810\n",
    "Name: 161, dtype: int64"
   ]
  },
  {
   "cell_type": "markdown",
   "id": "25bfb131",
   "metadata": {},
   "source": [
    "nombre_infected      1004\n",
    "nombre_sain          1598\n",
    "nombre_exposed        505\n",
    "nombre_recovered    16893\n",
    "Name: 162, dtype: int64"
   ]
  },
  {
   "cell_type": "markdown",
   "id": "fc87d3bc",
   "metadata": {},
   "source": [
    "nombre_infected       981\n",
    "nombre_sain          1550\n",
    "nombre_exposed        507\n",
    "nombre_recovered    16962\n",
    "Name: 163, dtype: int64"
   ]
  },
  {
   "cell_type": "markdown",
   "id": "e7e5a57d",
   "metadata": {},
   "source": [
    "nombre_infected       957\n",
    "nombre_sain          1512\n",
    "nombre_exposed        508\n",
    "nombre_recovered    17023\n",
    "Name: 164, dtype: int64"
   ]
  },
  {
   "cell_type": "markdown",
   "id": "409608cb",
   "metadata": {},
   "source": [
    "nombre_infected       943\n",
    "nombre_sain          1502\n",
    "nombre_exposed        487\n",
    "nombre_recovered    17068\n",
    "Name: 165, dtype: int64"
   ]
  },
  {
   "cell_type": "markdown",
   "id": "2e6dcb06",
   "metadata": {},
   "source": [
    "nombre_infected       917\n",
    "nombre_sain          1484\n",
    "nombre_exposed        471\n",
    "nombre_recovered    17128\n",
    "Name: 166, dtype: int64"
   ]
  },
  {
   "cell_type": "markdown",
   "id": "00cb5283",
   "metadata": {},
   "source": [
    "nombre_infected       901\n",
    "nombre_sain          1477\n",
    "nombre_exposed        446\n",
    "nombre_recovered    17176\n",
    "Name: 167, dtype: int64"
   ]
  },
  {
   "cell_type": "markdown",
   "id": "bf254306",
   "metadata": {},
   "source": [
    "nombre_infected       877\n",
    "nombre_sain          1479\n",
    "nombre_exposed        426\n",
    "nombre_recovered    17218\n",
    "Name: 168, dtype: int64"
   ]
  },
  {
   "cell_type": "markdown",
   "id": "4a0c9557",
   "metadata": {},
   "source": [
    "nombre_infected       847\n",
    "nombre_sain          1502\n",
    "nombre_exposed        405\n",
    "nombre_recovered    17246\n",
    "Name: 169, dtype: int64"
   ]
  },
  {
   "cell_type": "markdown",
   "id": "f519a030",
   "metadata": {},
   "source": [
    "nombre_infected       829\n",
    "nombre_sain          1520\n",
    "nombre_exposed        387\n",
    "nombre_recovered    17264\n",
    "Name: 170, dtype: int64"
   ]
  },
  {
   "cell_type": "markdown",
   "id": "b2024896",
   "metadata": {},
   "source": [
    "nombre_infected       797\n",
    "nombre_sain          1517\n",
    "nombre_exposed        381\n",
    "nombre_recovered    17305\n",
    "Name: 171, dtype: int64"
   ]
  },
  {
   "cell_type": "markdown",
   "id": "b3026800",
   "metadata": {},
   "source": [
    "nombre_infected       782\n",
    "nombre_sain          1538\n",
    "nombre_exposed        365\n",
    "nombre_recovered    17315\n",
    "Name: 172, dtype: int64"
   ]
  },
  {
   "cell_type": "markdown",
   "id": "c14fe52f",
   "metadata": {},
   "source": [
    "nombre_infected       776\n",
    "nombre_sain          1577\n",
    "nombre_exposed        337\n",
    "nombre_recovered    17310\n",
    "Name: 173, dtype: int64"
   ]
  },
  {
   "cell_type": "markdown",
   "id": "2cc299e9",
   "metadata": {},
   "source": [
    "nombre_infected       754\n",
    "nombre_sain          1603\n",
    "nombre_exposed        330\n",
    "nombre_recovered    17313\n",
    "Name: 174, dtype: int64"
   ]
  },
  {
   "cell_type": "markdown",
   "id": "d3315117",
   "metadata": {},
   "source": [
    "nombre_infected       736\n",
    "nombre_sain          1628\n",
    "nombre_exposed        334\n",
    "nombre_recovered    17302\n",
    "Name: 175, dtype: int64"
   ]
  },
  {
   "cell_type": "markdown",
   "id": "a277cb0d",
   "metadata": {},
   "source": [
    "nombre_infected       711\n",
    "nombre_sain          1655\n",
    "nombre_exposed        349\n",
    "nombre_recovered    17285\n",
    "Name: 176, dtype: int64"
   ]
  },
  {
   "cell_type": "markdown",
   "id": "0e4c9347",
   "metadata": {},
   "source": [
    "nombre_infected       685\n",
    "nombre_sain          1695\n",
    "nombre_exposed        339\n",
    "nombre_recovered    17281\n",
    "Name: 177, dtype: int64"
   ]
  },
  {
   "cell_type": "markdown",
   "id": "07b88119",
   "metadata": {},
   "source": [
    "nombre_infected       677\n",
    "nombre_sain          1721\n",
    "nombre_exposed        337\n",
    "nombre_recovered    17265\n",
    "Name: 178, dtype: int64"
   ]
  },
  {
   "cell_type": "markdown",
   "id": "169fa43d",
   "metadata": {},
   "source": [
    "nombre_infected       698\n",
    "nombre_sain          1778\n",
    "nombre_exposed        317\n",
    "nombre_recovered    17207\n",
    "Name: 179, dtype: int64"
   ]
  },
  {
   "cell_type": "markdown",
   "id": "d144a7ec",
   "metadata": {},
   "source": [
    "nombre_infected       676\n",
    "nombre_sain          1809\n",
    "nombre_exposed        326\n",
    "nombre_recovered    17189\n",
    "Name: 180, dtype: int64"
   ]
  },
  {
   "cell_type": "markdown",
   "id": "297f3af5",
   "metadata": {},
   "source": [
    "nombre_infected       657\n",
    "nombre_sain          1830\n",
    "nombre_exposed        320\n",
    "nombre_recovered    17193\n",
    "Name: 181, dtype: int64"
   ]
  },
  {
   "cell_type": "markdown",
   "id": "0f36224a",
   "metadata": {},
   "source": [
    "nombre_infected       638\n",
    "nombre_sain          1863\n",
    "nombre_exposed        331\n",
    "nombre_recovered    17168\n",
    "Name: 182, dtype: int64"
   ]
  },
  {
   "cell_type": "markdown",
   "id": "00bbecf1",
   "metadata": {},
   "source": [
    "nombre_infected       606\n",
    "nombre_sain          1879\n",
    "nombre_exposed        357\n",
    "nombre_recovered    17158\n",
    "Name: 183, dtype: int64"
   ]
  },
  {
   "cell_type": "markdown",
   "id": "51ebd361",
   "metadata": {},
   "source": [
    "nombre_infected       597\n",
    "nombre_sain          1918\n",
    "nombre_exposed        348\n",
    "nombre_recovered    17137\n",
    "Name: 184, dtype: int64"
   ]
  },
  {
   "cell_type": "markdown",
   "id": "4e5c2f8a",
   "metadata": {},
   "source": [
    "nombre_infected       588\n",
    "nombre_sain          1957\n",
    "nombre_exposed        331\n",
    "nombre_recovered    17124\n",
    "Name: 185, dtype: int64"
   ]
  },
  {
   "cell_type": "markdown",
   "id": "fffe7270",
   "metadata": {},
   "source": [
    "nombre_infected       580\n",
    "nombre_sain          1978\n",
    "nombre_exposed        334\n",
    "nombre_recovered    17108\n",
    "Name: 186, dtype: int64"
   ]
  },
  {
   "cell_type": "markdown",
   "id": "fa86d4ec",
   "metadata": {},
   "source": [
    "nombre_infected       565\n",
    "nombre_sain          2005\n",
    "nombre_exposed        339\n",
    "nombre_recovered    17091\n",
    "Name: 187, dtype: int64"
   ]
  },
  {
   "cell_type": "markdown",
   "id": "d6fcff89",
   "metadata": {},
   "source": [
    "nombre_infected       552\n",
    "nombre_sain          2029\n",
    "nombre_exposed        342\n",
    "nombre_recovered    17077\n",
    "Name: 188, dtype: int64"
   ]
  },
  {
   "cell_type": "markdown",
   "id": "73173c78",
   "metadata": {},
   "source": [
    "nombre_infected       543\n",
    "nombre_sain          2053\n",
    "nombre_exposed        338\n",
    "nombre_recovered    17066\n",
    "Name: 189, dtype: int64"
   ]
  },
  {
   "cell_type": "markdown",
   "id": "46c02a46",
   "metadata": {},
   "source": [
    "nombre_infected       553\n",
    "nombre_sain          2073\n",
    "nombre_exposed        339\n",
    "nombre_recovered    17035\n",
    "Name: 190, dtype: int64"
   ]
  },
  {
   "cell_type": "markdown",
   "id": "0d03870f",
   "metadata": {},
   "source": [
    "nombre_infected       542\n",
    "nombre_sain          2088\n",
    "nombre_exposed        340\n",
    "nombre_recovered    17030\n",
    "Name: 191, dtype: int64"
   ]
  },
  {
   "cell_type": "markdown",
   "id": "1d65e96b",
   "metadata": {},
   "source": [
    "nombre_infected       534\n",
    "nombre_sain          2115\n",
    "nombre_exposed        331\n",
    "nombre_recovered    17020\n",
    "Name: 192, dtype: int64"
   ]
  },
  {
   "cell_type": "markdown",
   "id": "4384da7e",
   "metadata": {},
   "source": [
    "nombre_infected       530\n",
    "nombre_sain          2131\n",
    "nombre_exposed        339\n",
    "nombre_recovered    17000\n",
    "Name: 193, dtype: int64"
   ]
  },
  {
   "cell_type": "markdown",
   "id": "17724777",
   "metadata": {},
   "source": [
    "nombre_infected       531\n",
    "nombre_sain          2160\n",
    "nombre_exposed        327\n",
    "nombre_recovered    16982\n",
    "Name: 194, dtype: int64"
   ]
  },
  {
   "cell_type": "markdown",
   "id": "513c8c02",
   "metadata": {},
   "source": [
    "nombre_infected       530\n",
    "nombre_sain          2178\n",
    "nombre_exposed        332\n",
    "nombre_recovered    16960\n",
    "Name: 195, dtype: int64"
   ]
  },
  {
   "cell_type": "markdown",
   "id": "2431f32e",
   "metadata": {},
   "source": [
    "nombre_infected       522\n",
    "nombre_sain          2191\n",
    "nombre_exposed        332\n",
    "nombre_recovered    16955\n",
    "Name: 196, dtype: int64"
   ]
  },
  {
   "cell_type": "markdown",
   "id": "ab052790",
   "metadata": {},
   "source": [
    "nombre_infected       514\n",
    "nombre_sain          2236\n",
    "nombre_exposed        327\n",
    "nombre_recovered    16923\n",
    "Name: 197, dtype: int64"
   ]
  },
  {
   "cell_type": "markdown",
   "id": "d216bb7a",
   "metadata": {},
   "source": [
    "nombre_infected       520\n",
    "nombre_sain          2239\n",
    "nombre_exposed        341\n",
    "nombre_recovered    16900\n",
    "Name: 198, dtype: int64"
   ]
  },
  {
   "cell_type": "markdown",
   "id": "13dee65b",
   "metadata": {},
   "source": [
    "nombre_infected       503\n",
    "nombre_sain          2253\n",
    "nombre_exposed        353\n",
    "nombre_recovered    16891\n",
    "Name: 199, dtype: int64"
   ]
  },
  {
   "cell_type": "markdown",
   "id": "f76f7c69",
   "metadata": {},
   "source": [
    "nombre_infected       513\n",
    "nombre_sain          2284\n",
    "nombre_exposed        335\n",
    "nombre_recovered    16868\n",
    "Name: 200, dtype: int64"
   ]
  },
  {
   "cell_type": "markdown",
   "id": "f9781885",
   "metadata": {},
   "source": [
    "nombre_infected       517\n",
    "nombre_sain          2324\n",
    "nombre_exposed        334\n",
    "nombre_recovered    16825\n",
    "Name: 201, dtype: int64"
   ]
  },
  {
   "cell_type": "markdown",
   "id": "a5647715",
   "metadata": {},
   "source": [
    "nombre_infected       521\n",
    "nombre_sain          2329\n",
    "nombre_exposed        347\n",
    "nombre_recovered    16803\n",
    "Name: 202, dtype: int64"
   ]
  },
  {
   "cell_type": "markdown",
   "id": "64d36b97",
   "metadata": {},
   "source": [
    "nombre_infected       521\n",
    "nombre_sain          2338\n",
    "nombre_exposed        353\n",
    "nombre_recovered    16788\n",
    "Name: 203, dtype: int64"
   ]
  },
  {
   "cell_type": "markdown",
   "id": "05487fae",
   "metadata": {},
   "source": [
    "nombre_infected       550\n",
    "nombre_sain          2356\n",
    "nombre_exposed        358\n",
    "nombre_recovered    16736\n",
    "Name: 204, dtype: int64"
   ]
  },
  {
   "cell_type": "markdown",
   "id": "9980e404",
   "metadata": {},
   "source": [
    "nombre_infected       572\n",
    "nombre_sain          2387\n",
    "nombre_exposed        353\n",
    "nombre_recovered    16688\n",
    "Name: 205, dtype: int64"
   ]
  },
  {
   "cell_type": "markdown",
   "id": "048b4765",
   "metadata": {},
   "source": [
    "nombre_infected       585\n",
    "nombre_sain          2395\n",
    "nombre_exposed        351\n",
    "nombre_recovered    16669\n",
    "Name: 206, dtype: int64"
   ]
  },
  {
   "cell_type": "markdown",
   "id": "738a391d",
   "metadata": {},
   "source": [
    "nombre_infected       588\n",
    "nombre_sain          2382\n",
    "nombre_exposed        369\n",
    "nombre_recovered    16661\n",
    "Name: 207, dtype: int64"
   ]
  },
  {
   "cell_type": "markdown",
   "id": "9c5e50dd",
   "metadata": {},
   "source": [
    "nombre_infected       592\n",
    "nombre_sain          2382\n",
    "nombre_exposed        379\n",
    "nombre_recovered    16647\n",
    "Name: 208, dtype: int64"
   ]
  },
  {
   "cell_type": "markdown",
   "id": "cee3cb7c",
   "metadata": {},
   "source": [
    "nombre_infected       586\n",
    "nombre_sain          2380\n",
    "nombre_exposed        395\n",
    "nombre_recovered    16639\n",
    "Name: 209, dtype: int64"
   ]
  },
  {
   "cell_type": "markdown",
   "id": "046411c1",
   "metadata": {},
   "source": [
    "nombre_infected       596\n",
    "nombre_sain          2385\n",
    "nombre_exposed        392\n",
    "nombre_recovered    16627\n",
    "Name: 210, dtype: int64"
   ]
  },
  {
   "cell_type": "markdown",
   "id": "98f8c88f",
   "metadata": {},
   "source": [
    "nombre_infected       616\n",
    "nombre_sain          2421\n",
    "nombre_exposed        394\n",
    "nombre_recovered    16569\n",
    "Name: 211, dtype: int64"
   ]
  },
  {
   "cell_type": "markdown",
   "id": "3d6150bd",
   "metadata": {},
   "source": [
    "nombre_infected       633\n",
    "nombre_sain          2434\n",
    "nombre_exposed        413\n",
    "nombre_recovered    16520\n",
    "Name: 212, dtype: int64"
   ]
  },
  {
   "cell_type": "markdown",
   "id": "c958fb16",
   "metadata": {},
   "source": [
    "nombre_infected       640\n",
    "nombre_sain          2439\n",
    "nombre_exposed        420\n",
    "nombre_recovered    16501\n",
    "Name: 213, dtype: int64"
   ]
  },
  {
   "cell_type": "markdown",
   "id": "a30a1b94",
   "metadata": {},
   "source": [
    "nombre_infected       652\n",
    "nombre_sain          2431\n",
    "nombre_exposed        433\n",
    "nombre_recovered    16484\n",
    "Name: 214, dtype: int64"
   ]
  },
  {
   "cell_type": "markdown",
   "id": "76afe701",
   "metadata": {},
   "source": [
    "nombre_infected       652\n",
    "nombre_sain          2445\n",
    "nombre_exposed        456\n",
    "nombre_recovered    16447\n",
    "Name: 215, dtype: int64"
   ]
  },
  {
   "cell_type": "markdown",
   "id": "e66fdc26",
   "metadata": {},
   "source": [
    "nombre_infected       655\n",
    "nombre_sain          2465\n",
    "nombre_exposed        483\n",
    "nombre_recovered    16397\n",
    "Name: 216, dtype: int64"
   ]
  },
  {
   "cell_type": "markdown",
   "id": "8eca7204",
   "metadata": {},
   "source": [
    "nombre_infected       672\n",
    "nombre_sain          2481\n",
    "nombre_exposed        478\n",
    "nombre_recovered    16369\n",
    "Name: 217, dtype: int64"
   ]
  },
  {
   "cell_type": "markdown",
   "id": "aed06d51",
   "metadata": {},
   "source": [
    "nombre_infected       709\n",
    "nombre_sain          2482\n",
    "nombre_exposed        474\n",
    "nombre_recovered    16335\n",
    "Name: 218, dtype: int64"
   ]
  },
  {
   "cell_type": "markdown",
   "id": "25a96e6e",
   "metadata": {},
   "source": [
    "nombre_infected       726\n",
    "nombre_sain          2492\n",
    "nombre_exposed        465\n",
    "nombre_recovered    16317\n",
    "Name: 219, dtype: int64"
   ]
  },
  {
   "cell_type": "markdown",
   "id": "1a57a656",
   "metadata": {},
   "source": [
    "nombre_infected       728\n",
    "nombre_sain          2487\n",
    "nombre_exposed        476\n",
    "nombre_recovered    16309\n",
    "Name: 220, dtype: int64"
   ]
  },
  {
   "cell_type": "markdown",
   "id": "9d99702e",
   "metadata": {},
   "source": [
    "nombre_infected       754\n",
    "nombre_sain          2472\n",
    "nombre_exposed        482\n",
    "nombre_recovered    16292\n",
    "Name: 221, dtype: int64"
   ]
  },
  {
   "cell_type": "markdown",
   "id": "cd08a1ec",
   "metadata": {},
   "source": [
    "nombre_infected       756\n",
    "nombre_sain          2483\n",
    "nombre_exposed        498\n",
    "nombre_recovered    16263\n",
    "Name: 222, dtype: int64"
   ]
  },
  {
   "cell_type": "markdown",
   "id": "7314539f",
   "metadata": {},
   "source": [
    "nombre_infected       769\n",
    "nombre_sain          2484\n",
    "nombre_exposed        520\n",
    "nombre_recovered    16227\n",
    "Name: 223, dtype: int64"
   ]
  },
  {
   "cell_type": "markdown",
   "id": "3b3354d3",
   "metadata": {},
   "source": [
    "nombre_infected       792\n",
    "nombre_sain          2486\n",
    "nombre_exposed        522\n",
    "nombre_recovered    16200\n",
    "Name: 224, dtype: int64"
   ]
  },
  {
   "cell_type": "markdown",
   "id": "ba685a5a",
   "metadata": {},
   "source": [
    "nombre_infected       810\n",
    "nombre_sain          2469\n",
    "nombre_exposed        541\n",
    "nombre_recovered    16180\n",
    "Name: 225, dtype: int64"
   ]
  },
  {
   "cell_type": "markdown",
   "id": "3a8f266b",
   "metadata": {},
   "source": [
    "nombre_infected       801\n",
    "nombre_sain          2438\n",
    "nombre_exposed        553\n",
    "nombre_recovered    16208\n",
    "Name: 226, dtype: int64"
   ]
  },
  {
   "cell_type": "markdown",
   "id": "b29772a0",
   "metadata": {},
   "source": [
    "nombre_infected       811\n",
    "nombre_sain          2437\n",
    "nombre_exposed        565\n",
    "nombre_recovered    16187\n",
    "Name: 227, dtype: int64"
   ]
  },
  {
   "cell_type": "markdown",
   "id": "b182846c",
   "metadata": {},
   "source": [
    "nombre_infected       818\n",
    "nombre_sain          2434\n",
    "nombre_exposed        569\n",
    "nombre_recovered    16179\n",
    "Name: 228, dtype: int64"
   ]
  },
  {
   "cell_type": "markdown",
   "id": "e81e5b8a",
   "metadata": {},
   "source": [
    "nombre_infected       857\n",
    "nombre_sain          2391\n",
    "nombre_exposed        582\n",
    "nombre_recovered    16170\n",
    "Name: 229, dtype: int64"
   ]
  },
  {
   "cell_type": "markdown",
   "id": "7439b257",
   "metadata": {},
   "source": [
    "nombre_infected       874\n",
    "nombre_sain          2387\n",
    "nombre_exposed        595\n",
    "nombre_recovered    16144\n",
    "Name: 230, dtype: int64"
   ]
  },
  {
   "cell_type": "markdown",
   "id": "7a4835b6",
   "metadata": {},
   "source": [
    "nombre_infected       909\n",
    "nombre_sain          2363\n",
    "nombre_exposed        581\n",
    "nombre_recovered    16147\n",
    "Name: 231, dtype: int64"
   ]
  },
  {
   "cell_type": "markdown",
   "id": "112ddefa",
   "metadata": {},
   "source": [
    "nombre_infected       951\n",
    "nombre_sain          2339\n",
    "nombre_exposed        577\n",
    "nombre_recovered    16133\n",
    "Name: 232, dtype: int64"
   ]
  },
  {
   "cell_type": "markdown",
   "id": "fa5127e9",
   "metadata": {},
   "source": [
    "nombre_infected       966\n",
    "nombre_sain          2334\n",
    "nombre_exposed        569\n",
    "nombre_recovered    16131\n",
    "Name: 233, dtype: int64"
   ]
  },
  {
   "cell_type": "markdown",
   "id": "98c46111",
   "metadata": {},
   "source": [
    "nombre_infected       967\n",
    "nombre_sain          2319\n",
    "nombre_exposed        581\n",
    "nombre_recovered    16133\n",
    "Name: 234, dtype: int64"
   ]
  },
  {
   "cell_type": "markdown",
   "id": "6c6d4dcd",
   "metadata": {},
   "source": [
    "nombre_infected       978\n",
    "nombre_sain          2286\n",
    "nombre_exposed        580\n",
    "nombre_recovered    16156\n",
    "Name: 235, dtype: int64"
   ]
  },
  {
   "cell_type": "markdown",
   "id": "9a5dbcf9",
   "metadata": {},
   "source": [
    "nombre_infected      1006\n",
    "nombre_sain          2232\n",
    "nombre_exposed        578\n",
    "nombre_recovered    16184\n",
    "Name: 236, dtype: int64"
   ]
  },
  {
   "cell_type": "markdown",
   "id": "79f85f75",
   "metadata": {},
   "source": [
    "nombre_infected       989\n",
    "nombre_sain          2194\n",
    "nombre_exposed        596\n",
    "nombre_recovered    16221\n",
    "Name: 237, dtype: int64"
   ]
  },
  {
   "cell_type": "markdown",
   "id": "6785b403",
   "metadata": {},
   "source": [
    "nombre_infected      1000\n",
    "nombre_sain          2176\n",
    "nombre_exposed        566\n",
    "nombre_recovered    16258\n",
    "Name: 238, dtype: int64"
   ]
  },
  {
   "cell_type": "markdown",
   "id": "61f37578",
   "metadata": {},
   "source": [
    "nombre_infected      1003\n",
    "nombre_sain          2140\n",
    "nombre_exposed        583\n",
    "nombre_recovered    16274\n",
    "Name: 239, dtype: int64"
   ]
  },
  {
   "cell_type": "markdown",
   "id": "b50b8d2f",
   "metadata": {},
   "source": [
    "nombre_infected      1022\n",
    "nombre_sain          2108\n",
    "nombre_exposed        565\n",
    "nombre_recovered    16305\n",
    "Name: 240, dtype: int64"
   ]
  },
  {
   "cell_type": "markdown",
   "id": "21513ca3",
   "metadata": {},
   "source": [
    "nombre_infected      1014\n",
    "nombre_sain          2093\n",
    "nombre_exposed        552\n",
    "nombre_recovered    16341\n",
    "Name: 241, dtype: int64"
   ]
  },
  {
   "cell_type": "markdown",
   "id": "11cc81c1",
   "metadata": {},
   "source": [
    "nombre_infected      1018\n",
    "nombre_sain          2064\n",
    "nombre_exposed        542\n",
    "nombre_recovered    16376\n",
    "Name: 242, dtype: int64"
   ]
  },
  {
   "cell_type": "markdown",
   "id": "efcc685b",
   "metadata": {},
   "source": [
    "nombre_infected       992\n",
    "nombre_sain          2050\n",
    "nombre_exposed        546\n",
    "nombre_recovered    16412\n",
    "Name: 243, dtype: int64"
   ]
  },
  {
   "cell_type": "markdown",
   "id": "07a0a85b",
   "metadata": {},
   "source": [
    "nombre_infected       983\n",
    "nombre_sain          1994\n",
    "nombre_exposed        551\n",
    "nombre_recovered    16472\n",
    "Name: 244, dtype: int64"
   ]
  },
  {
   "cell_type": "markdown",
   "id": "7961ab54",
   "metadata": {},
   "source": [
    "nombre_infected       975\n",
    "nombre_sain          1971\n",
    "nombre_exposed        558\n",
    "nombre_recovered    16496\n",
    "Name: 245, dtype: int64"
   ]
  },
  {
   "cell_type": "markdown",
   "id": "389c9276",
   "metadata": {},
   "source": [
    "nombre_infected       968\n",
    "nombre_sain          1945\n",
    "nombre_exposed        568\n",
    "nombre_recovered    16519\n",
    "Name: 246, dtype: int64"
   ]
  },
  {
   "cell_type": "markdown",
   "id": "3871765d",
   "metadata": {},
   "source": [
    "nombre_infected       974\n",
    "nombre_sain          1950\n",
    "nombre_exposed        531\n",
    "nombre_recovered    16545\n",
    "Name: 247, dtype: int64"
   ]
  },
  {
   "cell_type": "markdown",
   "id": "2314d3d2",
   "metadata": {},
   "source": [
    "nombre_infected       978\n",
    "nombre_sain          1935\n",
    "nombre_exposed        516\n",
    "nombre_recovered    16571\n",
    "Name: 248, dtype: int64"
   ]
  },
  {
   "cell_type": "markdown",
   "id": "b4d0350c",
   "metadata": {},
   "source": [
    "nombre_infected       969\n",
    "nombre_sain          1942\n",
    "nombre_exposed        499\n",
    "nombre_recovered    16590\n",
    "Name: 249, dtype: int64"
   ]
  },
  {
   "cell_type": "markdown",
   "id": "67816c42",
   "metadata": {},
   "source": [
    "nombre_infected       967\n",
    "nombre_sain          1902\n",
    "nombre_exposed        514\n",
    "nombre_recovered    16617\n",
    "Name: 250, dtype: int64"
   ]
  },
  {
   "cell_type": "markdown",
   "id": "1e342eff",
   "metadata": {},
   "source": [
    "nombre_infected       944\n",
    "nombre_sain          1894\n",
    "nombre_exposed        533\n",
    "nombre_recovered    16629\n",
    "Name: 251, dtype: int64"
   ]
  },
  {
   "cell_type": "markdown",
   "id": "9ee5017b",
   "metadata": {},
   "source": [
    "nombre_infected       939\n",
    "nombre_sain          1878\n",
    "nombre_exposed        530\n",
    "nombre_recovered    16653\n",
    "Name: 252, dtype: int64"
   ]
  },
  {
   "cell_type": "markdown",
   "id": "fd748ea1",
   "metadata": {},
   "source": [
    "nombre_infected       930\n",
    "nombre_sain          1902\n",
    "nombre_exposed        514\n",
    "nombre_recovered    16654\n",
    "Name: 253, dtype: int64"
   ]
  },
  {
   "cell_type": "markdown",
   "id": "e704b417",
   "metadata": {},
   "source": [
    "nombre_infected       904\n",
    "nombre_sain          1905\n",
    "nombre_exposed        534\n",
    "nombre_recovered    16657\n",
    "Name: 254, dtype: int64"
   ]
  },
  {
   "cell_type": "markdown",
   "id": "605fa9a6",
   "metadata": {},
   "source": [
    "nombre_infected       892\n",
    "nombre_sain          1898\n",
    "nombre_exposed        516\n",
    "nombre_recovered    16694\n",
    "Name: 255, dtype: int64"
   ]
  },
  {
   "cell_type": "markdown",
   "id": "aa12cb56",
   "metadata": {},
   "source": [
    "nombre_infected       886\n",
    "nombre_sain          1890\n",
    "nombre_exposed        516\n",
    "nombre_recovered    16708\n",
    "Name: 256, dtype: int64"
   ]
  },
  {
   "cell_type": "markdown",
   "id": "85f2329b",
   "metadata": {},
   "source": [
    "nombre_infected       871\n",
    "nombre_sain          1894\n",
    "nombre_exposed        506\n",
    "nombre_recovered    16729\n",
    "Name: 257, dtype: int64"
   ]
  },
  {
   "cell_type": "markdown",
   "id": "8ed8492d",
   "metadata": {},
   "source": [
    "nombre_infected       851\n",
    "nombre_sain          1906\n",
    "nombre_exposed        507\n",
    "nombre_recovered    16736\n",
    "Name: 258, dtype: int64"
   ]
  },
  {
   "cell_type": "markdown",
   "id": "8930cf76",
   "metadata": {},
   "source": [
    "nombre_infected       856\n",
    "nombre_sain          1891\n",
    "nombre_exposed        498\n",
    "nombre_recovered    16755\n",
    "Name: 259, dtype: int64"
   ]
  },
  {
   "cell_type": "markdown",
   "id": "2c82ffeb",
   "metadata": {},
   "source": [
    "nombre_infected       865\n",
    "nombre_sain          1932\n",
    "nombre_exposed        478\n",
    "nombre_recovered    16725\n",
    "Name: 260, dtype: int64"
   ]
  },
  {
   "cell_type": "markdown",
   "id": "c04d7340",
   "metadata": {},
   "source": [
    "nombre_infected       871\n",
    "nombre_sain          1937\n",
    "nombre_exposed        466\n",
    "nombre_recovered    16726\n",
    "Name: 261, dtype: int64"
   ]
  },
  {
   "cell_type": "markdown",
   "id": "95aa9d9c",
   "metadata": {},
   "source": [
    "nombre_infected       836\n",
    "nombre_sain          1944\n",
    "nombre_exposed        468\n",
    "nombre_recovered    16752\n",
    "Name: 262, dtype: int64"
   ]
  },
  {
   "cell_type": "markdown",
   "id": "d91405ac",
   "metadata": {},
   "source": [
    "nombre_infected       820\n",
    "nombre_sain          1943\n",
    "nombre_exposed        464\n",
    "nombre_recovered    16773\n",
    "Name: 263, dtype: int64"
   ]
  },
  {
   "cell_type": "markdown",
   "id": "b5c54172",
   "metadata": {},
   "source": [
    "nombre_infected       808\n",
    "nombre_sain          1951\n",
    "nombre_exposed        481\n",
    "nombre_recovered    16760\n",
    "Name: 264, dtype: int64"
   ]
  },
  {
   "cell_type": "markdown",
   "id": "7351ff29",
   "metadata": {},
   "source": [
    "nombre_infected       790\n",
    "nombre_sain          1960\n",
    "nombre_exposed        485\n",
    "nombre_recovered    16765\n",
    "Name: 265, dtype: int64"
   ]
  },
  {
   "cell_type": "markdown",
   "id": "2e593772",
   "metadata": {},
   "source": [
    "nombre_infected       807\n",
    "nombre_sain          1953\n",
    "nombre_exposed        486\n",
    "nombre_recovered    16754\n",
    "Name: 266, dtype: int64"
   ]
  },
  {
   "cell_type": "markdown",
   "id": "9eb14e50",
   "metadata": {},
   "source": [
    "nombre_infected       794\n",
    "nombre_sain          1941\n",
    "nombre_exposed        495\n",
    "nombre_recovered    16770\n",
    "Name: 267, dtype: int64"
   ]
  },
  {
   "cell_type": "markdown",
   "id": "03b842b1",
   "metadata": {},
   "source": [
    "nombre_infected       806\n",
    "nombre_sain          1926\n",
    "nombre_exposed        497\n",
    "nombre_recovered    16771\n",
    "Name: 268, dtype: int64"
   ]
  },
  {
   "cell_type": "markdown",
   "id": "21d085b7",
   "metadata": {},
   "source": [
    "nombre_infected       828\n",
    "nombre_sain          1936\n",
    "nombre_exposed        493\n",
    "nombre_recovered    16743\n",
    "Name: 269, dtype: int64"
   ]
  },
  {
   "cell_type": "markdown",
   "id": "340abf45",
   "metadata": {},
   "source": [
    "nombre_infected       812\n",
    "nombre_sain          1947\n",
    "nombre_exposed        479\n",
    "nombre_recovered    16762\n",
    "Name: 270, dtype: int64"
   ]
  },
  {
   "cell_type": "markdown",
   "id": "97ff7be4",
   "metadata": {},
   "source": [
    "nombre_infected       832\n",
    "nombre_sain          1963\n",
    "nombre_exposed        464\n",
    "nombre_recovered    16741\n",
    "Name: 271, dtype: int64"
   ]
  },
  {
   "cell_type": "markdown",
   "id": "1d353fa0",
   "metadata": {},
   "source": [
    "nombre_infected       842\n",
    "nombre_sain          1952\n",
    "nombre_exposed        468\n",
    "nombre_recovered    16738\n",
    "Name: 272, dtype: int64"
   ]
  },
  {
   "cell_type": "markdown",
   "id": "7a24b66f",
   "metadata": {},
   "source": [
    "nombre_infected       822\n",
    "nombre_sain          1980\n",
    "nombre_exposed        488\n",
    "nombre_recovered    16710\n",
    "Name: 273, dtype: int64"
   ]
  },
  {
   "cell_type": "markdown",
   "id": "8b0ce0a5",
   "metadata": {},
   "source": [
    "nombre_infected       826\n",
    "nombre_sain          1997\n",
    "nombre_exposed        486\n",
    "nombre_recovered    16691\n",
    "Name: 274, dtype: int64"
   ]
  },
  {
   "cell_type": "markdown",
   "id": "2e74fb4e",
   "metadata": {},
   "source": [
    "nombre_infected       844\n",
    "nombre_sain          2018\n",
    "nombre_exposed        465\n",
    "nombre_recovered    16673\n",
    "Name: 275, dtype: int64"
   ]
  },
  {
   "cell_type": "markdown",
   "id": "3545ed8b",
   "metadata": {},
   "source": [
    "nombre_infected       835\n",
    "nombre_sain          2036\n",
    "nombre_exposed        489\n",
    "nombre_recovered    16640\n",
    "Name: 276, dtype: int64"
   ]
  },
  {
   "cell_type": "markdown",
   "id": "6a44cdf7",
   "metadata": {},
   "source": [
    "nombre_infected       825\n",
    "nombre_sain          2037\n",
    "nombre_exposed        503\n",
    "nombre_recovered    16635\n",
    "Name: 277, dtype: int64"
   ]
  },
  {
   "cell_type": "markdown",
   "id": "915c1923",
   "metadata": {},
   "source": [
    "nombre_infected       824\n",
    "nombre_sain          2045\n",
    "nombre_exposed        517\n",
    "nombre_recovered    16614\n",
    "Name: 278, dtype: int64"
   ]
  },
  {
   "cell_type": "markdown",
   "id": "d0fdce9f",
   "metadata": {},
   "source": [
    "nombre_infected       807\n",
    "nombre_sain          2078\n",
    "nombre_exposed        510\n",
    "nombre_recovered    16605\n",
    "Name: 279, dtype: int64"
   ]
  },
  {
   "cell_type": "markdown",
   "id": "59cfc4a9",
   "metadata": {},
   "source": [
    "nombre_infected       819\n",
    "nombre_sain          2115\n",
    "nombre_exposed        476\n",
    "nombre_recovered    16590\n",
    "Name: 280, dtype: int64"
   ]
  },
  {
   "cell_type": "markdown",
   "id": "c86230e0",
   "metadata": {},
   "source": [
    "nombre_infected       828\n",
    "nombre_sain          2149\n",
    "nombre_exposed        459\n",
    "nombre_recovered    16564\n",
    "Name: 281, dtype: int64"
   ]
  },
  {
   "cell_type": "markdown",
   "id": "a9301407",
   "metadata": {},
   "source": [
    "nombre_infected       807\n",
    "nombre_sain          2165\n",
    "nombre_exposed        466\n",
    "nombre_recovered    16562\n",
    "Name: 282, dtype: int64"
   ]
  },
  {
   "cell_type": "markdown",
   "id": "d2ce6463",
   "metadata": {},
   "source": [
    "nombre_infected       781\n",
    "nombre_sain          2173\n",
    "nombre_exposed        489\n",
    "nombre_recovered    16557\n",
    "Name: 283, dtype: int64"
   ]
  },
  {
   "cell_type": "markdown",
   "id": "e78a3239",
   "metadata": {},
   "source": [
    "nombre_infected       768\n",
    "nombre_sain          2192\n",
    "nombre_exposed        472\n",
    "nombre_recovered    16568\n",
    "Name: 284, dtype: int64"
   ]
  },
  {
   "cell_type": "markdown",
   "id": "82138438",
   "metadata": {},
   "source": [
    "nombre_infected       754\n",
    "nombre_sain          2218\n",
    "nombre_exposed        489\n",
    "nombre_recovered    16539\n",
    "Name: 285, dtype: int64"
   ]
  },
  {
   "cell_type": "markdown",
   "id": "59d413ce",
   "metadata": {},
   "source": [
    "nombre_infected       767\n",
    "nombre_sain          2254\n",
    "nombre_exposed        469\n",
    "nombre_recovered    16510\n",
    "Name: 286, dtype: int64"
   ]
  },
  {
   "cell_type": "markdown",
   "id": "73774f7d",
   "metadata": {},
   "source": [
    "nombre_infected       776\n",
    "nombre_sain          2285\n",
    "nombre_exposed        466\n",
    "nombre_recovered    16473\n",
    "Name: 287, dtype: int64"
   ]
  },
  {
   "cell_type": "markdown",
   "id": "31e1056f",
   "metadata": {},
   "source": [
    "nombre_infected       773\n",
    "nombre_sain          2295\n",
    "nombre_exposed        476\n",
    "nombre_recovered    16456\n",
    "Name: 288, dtype: int64"
   ]
  },
  {
   "cell_type": "markdown",
   "id": "42dedad2",
   "metadata": {},
   "source": [
    "nombre_infected       791\n",
    "nombre_sain          2312\n",
    "nombre_exposed        474\n",
    "nombre_recovered    16423\n",
    "Name: 289, dtype: int64"
   ]
  },
  {
   "cell_type": "markdown",
   "id": "6c2f06f6",
   "metadata": {},
   "source": [
    "nombre_infected       808\n",
    "nombre_sain          2320\n",
    "nombre_exposed        488\n",
    "nombre_recovered    16384\n",
    "Name: 290, dtype: int64"
   ]
  },
  {
   "cell_type": "markdown",
   "id": "df15d4d4",
   "metadata": {},
   "source": [
    "nombre_infected       783\n",
    "nombre_sain          2351\n",
    "nombre_exposed        520\n",
    "nombre_recovered    16346\n",
    "Name: 291, dtype: int64"
   ]
  },
  {
   "cell_type": "markdown",
   "id": "5ba3b77c",
   "metadata": {},
   "source": [
    "nombre_infected       774\n",
    "nombre_sain          2367\n",
    "nombre_exposed        536\n",
    "nombre_recovered    16323\n",
    "Name: 292, dtype: int64"
   ]
  },
  {
   "cell_type": "markdown",
   "id": "7b4dd868",
   "metadata": {},
   "source": [
    "nombre_infected       786\n",
    "nombre_sain          2363\n",
    "nombre_exposed        524\n",
    "nombre_recovered    16327\n",
    "Name: 293, dtype: int64"
   ]
  },
  {
   "cell_type": "markdown",
   "id": "d05dac47",
   "metadata": {},
   "source": [
    "nombre_infected       839\n",
    "nombre_sain          2358\n",
    "nombre_exposed        497\n",
    "nombre_recovered    16306\n",
    "Name: 294, dtype: int64"
   ]
  },
  {
   "cell_type": "markdown",
   "id": "16164cb3",
   "metadata": {},
   "source": [
    "nombre_infected       859\n",
    "nombre_sain          2349\n",
    "nombre_exposed        482\n",
    "nombre_recovered    16310\n",
    "Name: 295, dtype: int64"
   ]
  },
  {
   "cell_type": "markdown",
   "id": "142a36a3",
   "metadata": {},
   "source": [
    "nombre_infected       857\n",
    "nombre_sain          2300\n",
    "nombre_exposed        517\n",
    "nombre_recovered    16326\n",
    "Name: 296, dtype: int64"
   ]
  },
  {
   "cell_type": "markdown",
   "id": "fe61ab4e",
   "metadata": {},
   "source": [
    "nombre_infected       854\n",
    "nombre_sain          2260\n",
    "nombre_exposed        540\n",
    "nombre_recovered    16346\n",
    "Name: 297, dtype: int64"
   ]
  },
  {
   "cell_type": "markdown",
   "id": "351e9050",
   "metadata": {},
   "source": [
    "nombre_infected       844\n",
    "nombre_sain          2253\n",
    "nombre_exposed        524\n",
    "nombre_recovered    16379\n",
    "Name: 298, dtype: int64"
   ]
  },
  {
   "cell_type": "markdown",
   "id": "d87cd19c",
   "metadata": {},
   "source": [
    "nombre_infected       849\n",
    "nombre_sain          2243\n",
    "nombre_exposed        525\n",
    "nombre_recovered    16383\n",
    "Name: 299, dtype: int64"
   ]
  },
  {
   "cell_type": "markdown",
   "id": "563fbcdb",
   "metadata": {},
   "source": [
    "nombre_infected       886\n",
    "nombre_sain          2214\n",
    "nombre_exposed        526\n",
    "nombre_recovered    16374\n",
    "Name: 300, dtype: int64"
   ]
  },
  {
   "cell_type": "markdown",
   "id": "abf75edf",
   "metadata": {},
   "source": [
    "nombre_infected       893\n",
    "nombre_sain          2184\n",
    "nombre_exposed        541\n",
    "nombre_recovered    16382\n",
    "Name: 301, dtype: int64"
   ]
  },
  {
   "cell_type": "markdown",
   "id": "98bad9d2",
   "metadata": {},
   "source": [
    "nombre_infected       914\n",
    "nombre_sain          2161\n",
    "nombre_exposed        549\n",
    "nombre_recovered    16376\n",
    "Name: 302, dtype: int64"
   ]
  },
  {
   "cell_type": "markdown",
   "id": "5363b16a",
   "metadata": {},
   "source": [
    "nombre_infected       913\n",
    "nombre_sain          2151\n",
    "nombre_exposed        549\n",
    "nombre_recovered    16387\n",
    "Name: 303, dtype: int64"
   ]
  },
  {
   "cell_type": "markdown",
   "id": "b0a129e6",
   "metadata": {},
   "source": [
    "nombre_infected       926\n",
    "nombre_sain          2153\n",
    "nombre_exposed        543\n",
    "nombre_recovered    16378\n",
    "Name: 304, dtype: int64"
   ]
  },
  {
   "cell_type": "markdown",
   "id": "29994cfc",
   "metadata": {},
   "source": [
    "nombre_infected       927\n",
    "nombre_sain          2139\n",
    "nombre_exposed        555\n",
    "nombre_recovered    16379\n",
    "Name: 305, dtype: int64"
   ]
  },
  {
   "cell_type": "markdown",
   "id": "e22c4b2e",
   "metadata": {},
   "source": [
    "nombre_infected       940\n",
    "nombre_sain          2128\n",
    "nombre_exposed        554\n",
    "nombre_recovered    16378\n",
    "Name: 306, dtype: int64"
   ]
  },
  {
   "cell_type": "markdown",
   "id": "45e8ce22",
   "metadata": {},
   "source": [
    "nombre_infected       975\n",
    "nombre_sain          2098\n",
    "nombre_exposed        533\n",
    "nombre_recovered    16394\n",
    "Name: 307, dtype: int64"
   ]
  },
  {
   "cell_type": "markdown",
   "id": "63d18221",
   "metadata": {},
   "source": [
    "nombre_infected       984\n",
    "nombre_sain          2058\n",
    "nombre_exposed        552\n",
    "nombre_recovered    16406\n",
    "Name: 308, dtype: int64"
   ]
  },
  {
   "cell_type": "markdown",
   "id": "3b330bd1",
   "metadata": {},
   "source": [
    "nombre_infected       992\n",
    "nombre_sain          2014\n",
    "nombre_exposed        567\n",
    "nombre_recovered    16427\n",
    "Name: 309, dtype: int64"
   ]
  },
  {
   "cell_type": "markdown",
   "id": "e982b807",
   "metadata": {},
   "source": [
    "nombre_infected       998\n",
    "nombre_sain          1996\n",
    "nombre_exposed        555\n",
    "nombre_recovered    16451\n",
    "Name: 310, dtype: int64"
   ]
  },
  {
   "cell_type": "markdown",
   "id": "c081f8c5",
   "metadata": {},
   "source": [
    "nombre_infected      1000\n",
    "nombre_sain          1972\n",
    "nombre_exposed        548\n",
    "nombre_recovered    16480\n",
    "Name: 311, dtype: int64"
   ]
  },
  {
   "cell_type": "markdown",
   "id": "89bef05d",
   "metadata": {},
   "source": [
    "nombre_infected      1019\n",
    "nombre_sain          1940\n",
    "nombre_exposed        533\n",
    "nombre_recovered    16508\n",
    "Name: 312, dtype: int64"
   ]
  },
  {
   "cell_type": "markdown",
   "id": "1b469f68",
   "metadata": {},
   "source": [
    "nombre_infected       996\n",
    "nombre_sain          1892\n",
    "nombre_exposed        547\n",
    "nombre_recovered    16565\n",
    "Name: 313, dtype: int64"
   ]
  },
  {
   "cell_type": "markdown",
   "id": "54836ff1",
   "metadata": {},
   "source": [
    "nombre_infected       991\n",
    "nombre_sain          1870\n",
    "nombre_exposed        552\n",
    "nombre_recovered    16587\n",
    "Name: 314, dtype: int64"
   ]
  },
  {
   "cell_type": "markdown",
   "id": "5f128b9b",
   "metadata": {},
   "source": [
    "nombre_infected      1027\n",
    "nombre_sain          1841\n",
    "nombre_exposed        524\n",
    "nombre_recovered    16608\n",
    "Name: 315, dtype: int64"
   ]
  },
  {
   "cell_type": "markdown",
   "id": "1cdfd6ed",
   "metadata": {},
   "source": [
    "nombre_infected      1019\n",
    "nombre_sain          1845\n",
    "nombre_exposed        513\n",
    "nombre_recovered    16623\n",
    "Name: 316, dtype: int64"
   ]
  },
  {
   "cell_type": "markdown",
   "id": "a1e089ff",
   "metadata": {},
   "source": [
    "nombre_infected      1025\n",
    "nombre_sain          1816\n",
    "nombre_exposed        499\n",
    "nombre_recovered    16660\n",
    "Name: 317, dtype: int64"
   ]
  },
  {
   "cell_type": "markdown",
   "id": "0334df98",
   "metadata": {},
   "source": [
    "nombre_infected      1006\n",
    "nombre_sain          1791\n",
    "nombre_exposed        486\n",
    "nombre_recovered    16717\n",
    "Name: 318, dtype: int64"
   ]
  },
  {
   "cell_type": "markdown",
   "id": "690e0163",
   "metadata": {},
   "source": [
    "nombre_infected      1011\n",
    "nombre_sain          1786\n",
    "nombre_exposed        476\n",
    "nombre_recovered    16727\n",
    "Name: 319, dtype: int64"
   ]
  },
  {
   "cell_type": "markdown",
   "id": "ba582c69",
   "metadata": {},
   "source": [
    "nombre_infected       978\n",
    "nombre_sain          1780\n",
    "nombre_exposed        487\n",
    "nombre_recovered    16755\n",
    "Name: 320, dtype: int64"
   ]
  },
  {
   "cell_type": "markdown",
   "id": "b66db7a9",
   "metadata": {},
   "source": [
    "nombre_infected       968\n",
    "nombre_sain          1773\n",
    "nombre_exposed        479\n",
    "nombre_recovered    16780\n",
    "Name: 321, dtype: int64"
   ]
  },
  {
   "cell_type": "markdown",
   "id": "afde0b7f",
   "metadata": {},
   "source": [
    "nombre_infected       973\n",
    "nombre_sain          1767\n",
    "nombre_exposed        463\n",
    "nombre_recovered    16797\n",
    "Name: 322, dtype: int64"
   ]
  },
  {
   "cell_type": "markdown",
   "id": "3f66f680",
   "metadata": {},
   "source": [
    "nombre_infected       946\n",
    "nombre_sain          1751\n",
    "nombre_exposed        456\n",
    "nombre_recovered    16847\n",
    "Name: 323, dtype: int64"
   ]
  },
  {
   "cell_type": "markdown",
   "id": "0155e7ee",
   "metadata": {},
   "source": [
    "nombre_infected       933\n",
    "nombre_sain          1756\n",
    "nombre_exposed        424\n",
    "nombre_recovered    16887\n",
    "Name: 324, dtype: int64"
   ]
  },
  {
   "cell_type": "markdown",
   "id": "b9f65993",
   "metadata": {},
   "source": [
    "nombre_infected       915\n",
    "nombre_sain          1736\n",
    "nombre_exposed        441\n",
    "nombre_recovered    16908\n",
    "Name: 325, dtype: int64"
   ]
  },
  {
   "cell_type": "markdown",
   "id": "e72d1d4d",
   "metadata": {},
   "source": [
    "nombre_infected       886\n",
    "nombre_sain          1750\n",
    "nombre_exposed        427\n",
    "nombre_recovered    16937\n",
    "Name: 326, dtype: int64"
   ]
  },
  {
   "cell_type": "markdown",
   "id": "16ed753a",
   "metadata": {},
   "source": [
    "nombre_infected       896\n",
    "nombre_sain          1756\n",
    "nombre_exposed        421\n",
    "nombre_recovered    16927\n",
    "Name: 327, dtype: int64"
   ]
  },
  {
   "cell_type": "markdown",
   "id": "4257b756",
   "metadata": {},
   "source": [
    "nombre_infected       870\n",
    "nombre_sain          1769\n",
    "nombre_exposed        427\n",
    "nombre_recovered    16934\n",
    "Name: 328, dtype: int64"
   ]
  },
  {
   "cell_type": "markdown",
   "id": "280a5d7b",
   "metadata": {},
   "source": [
    "nombre_infected       872\n",
    "nombre_sain          1769\n",
    "nombre_exposed        421\n",
    "nombre_recovered    16938\n",
    "Name: 329, dtype: int64"
   ]
  },
  {
   "cell_type": "markdown",
   "id": "7011c734",
   "metadata": {},
   "source": [
    "nombre_infected       850\n",
    "nombre_sain          1794\n",
    "nombre_exposed        426\n",
    "nombre_recovered    16930\n",
    "Name: 330, dtype: int64"
   ]
  },
  {
   "cell_type": "markdown",
   "id": "47650c89",
   "metadata": {},
   "source": [
    "nombre_infected       828\n",
    "nombre_sain          1805\n",
    "nombre_exposed        422\n",
    "nombre_recovered    16945\n",
    "Name: 331, dtype: int64"
   ]
  },
  {
   "cell_type": "markdown",
   "id": "d2b81085",
   "metadata": {},
   "source": [
    "nombre_infected       834\n",
    "nombre_sain          1836\n",
    "nombre_exposed        414\n",
    "nombre_recovered    16916\n",
    "Name: 332, dtype: int64"
   ]
  },
  {
   "cell_type": "markdown",
   "id": "cec5c73e",
   "metadata": {},
   "source": [
    "nombre_infected       824\n",
    "nombre_sain          1859\n",
    "nombre_exposed        408\n",
    "nombre_recovered    16909\n",
    "Name: 333, dtype: int64"
   ]
  },
  {
   "cell_type": "markdown",
   "id": "d55c7030",
   "metadata": {},
   "source": [
    "nombre_infected       795\n",
    "nombre_sain          1862\n",
    "nombre_exposed        420\n",
    "nombre_recovered    16923\n",
    "Name: 334, dtype: int64"
   ]
  },
  {
   "cell_type": "markdown",
   "id": "59e9c3a0",
   "metadata": {},
   "source": [
    "nombre_infected       786\n",
    "nombre_sain          1888\n",
    "nombre_exposed        415\n",
    "nombre_recovered    16911\n",
    "Name: 335, dtype: int64"
   ]
  },
  {
   "cell_type": "markdown",
   "id": "5602a3bd",
   "metadata": {},
   "source": [
    "nombre_infected       787\n",
    "nombre_sain          1888\n",
    "nombre_exposed        417\n",
    "nombre_recovered    16908\n",
    "Name: 336, dtype: int64"
   ]
  },
  {
   "cell_type": "markdown",
   "id": "db90e8ff",
   "metadata": {},
   "source": [
    "nombre_infected       776\n",
    "nombre_sain          1907\n",
    "nombre_exposed        421\n",
    "nombre_recovered    16896\n",
    "Name: 337, dtype: int64"
   ]
  },
  {
   "cell_type": "markdown",
   "id": "a99b819d",
   "metadata": {},
   "source": [
    "nombre_infected       780\n",
    "nombre_sain          1936\n",
    "nombre_exposed        419\n",
    "nombre_recovered    16865\n",
    "Name: 338, dtype: int64"
   ]
  },
  {
   "cell_type": "markdown",
   "id": "a2e59158",
   "metadata": {},
   "source": [
    "nombre_infected       760\n",
    "nombre_sain          1948\n",
    "nombre_exposed        430\n",
    "nombre_recovered    16862\n",
    "Name: 339, dtype: int64"
   ]
  },
  {
   "cell_type": "markdown",
   "id": "7404aea2",
   "metadata": {},
   "source": [
    "nombre_infected       751\n",
    "nombre_sain          2007\n",
    "nombre_exposed        408\n",
    "nombre_recovered    16834\n",
    "Name: 340, dtype: int64"
   ]
  },
  {
   "cell_type": "markdown",
   "id": "47d925e0",
   "metadata": {},
   "source": [
    "nombre_infected       742\n",
    "nombre_sain          2044\n",
    "nombre_exposed        410\n",
    "nombre_recovered    16804\n",
    "Name: 341, dtype: int64"
   ]
  },
  {
   "cell_type": "markdown",
   "id": "6e02fc39",
   "metadata": {},
   "source": [
    "nombre_infected       737\n",
    "nombre_sain          2080\n",
    "nombre_exposed        408\n",
    "nombre_recovered    16775\n",
    "Name: 342, dtype: int64"
   ]
  },
  {
   "cell_type": "markdown",
   "id": "095e93ab",
   "metadata": {},
   "source": [
    "nombre_infected       748\n",
    "nombre_sain          2115\n",
    "nombre_exposed        398\n",
    "nombre_recovered    16739\n",
    "Name: 343, dtype: int64"
   ]
  },
  {
   "cell_type": "markdown",
   "id": "3a3c7544",
   "metadata": {},
   "source": [
    "nombre_infected       730\n",
    "nombre_sain          2149\n",
    "nombre_exposed        417\n",
    "nombre_recovered    16704\n",
    "Name: 344, dtype: int64"
   ]
  },
  {
   "cell_type": "markdown",
   "id": "be8c76e3",
   "metadata": {},
   "source": [
    "nombre_infected       728\n",
    "nombre_sain          2196\n",
    "nombre_exposed        407\n",
    "nombre_recovered    16669\n",
    "Name: 345, dtype: int64"
   ]
  },
  {
   "cell_type": "markdown",
   "id": "5bc103dc",
   "metadata": {},
   "source": [
    "nombre_infected       724\n",
    "nombre_sain          2220\n",
    "nombre_exposed        423\n",
    "nombre_recovered    16633\n",
    "Name: 346, dtype: int64"
   ]
  },
  {
   "cell_type": "markdown",
   "id": "5ae2dc8f",
   "metadata": {},
   "source": [
    "nombre_infected       696\n",
    "nombre_sain          2260\n",
    "nombre_exposed        457\n",
    "nombre_recovered    16587\n",
    "Name: 347, dtype: int64"
   ]
  },
  {
   "cell_type": "markdown",
   "id": "4b004a07",
   "metadata": {},
   "source": [
    "nombre_infected       700\n",
    "nombre_sain          2296\n",
    "nombre_exposed        449\n",
    "nombre_recovered    16555\n",
    "Name: 348, dtype: int64"
   ]
  },
  {
   "cell_type": "markdown",
   "id": "dd469c05",
   "metadata": {},
   "source": [
    "nombre_infected       714\n",
    "nombre_sain          2312\n",
    "nombre_exposed        447\n",
    "nombre_recovered    16527\n",
    "Name: 349, dtype: int64"
   ]
  },
  {
   "cell_type": "markdown",
   "id": "f7028c93",
   "metadata": {},
   "source": [
    "nombre_infected       733\n",
    "nombre_sain          2325\n",
    "nombre_exposed        430\n",
    "nombre_recovered    16512\n",
    "Name: 350, dtype: int64"
   ]
  },
  {
   "cell_type": "markdown",
   "id": "1f3aadfa",
   "metadata": {},
   "source": [
    "nombre_infected       724\n",
    "nombre_sain          2346\n",
    "nombre_exposed        453\n",
    "nombre_recovered    16477\n",
    "Name: 351, dtype: int64"
   ]
  },
  {
   "cell_type": "markdown",
   "id": "9813adb5",
   "metadata": {},
   "source": [
    "nombre_infected       714\n",
    "nombre_sain          2372\n",
    "nombre_exposed        467\n",
    "nombre_recovered    16447\n",
    "Name: 352, dtype: int64"
   ]
  },
  {
   "cell_type": "markdown",
   "id": "ea1dece4",
   "metadata": {},
   "source": [
    "nombre_infected       706\n",
    "nombre_sain          2423\n",
    "nombre_exposed        475\n",
    "nombre_recovered    16396\n",
    "Name: 353, dtype: int64"
   ]
  },
  {
   "cell_type": "markdown",
   "id": "b2a8810f",
   "metadata": {},
   "source": [
    "nombre_infected       706\n",
    "nombre_sain          2446\n",
    "nombre_exposed        476\n",
    "nombre_recovered    16372\n",
    "Name: 354, dtype: int64"
   ]
  },
  {
   "cell_type": "markdown",
   "id": "38b2e74a",
   "metadata": {},
   "source": [
    "nombre_infected       706\n",
    "nombre_sain          2481\n",
    "nombre_exposed        479\n",
    "nombre_recovered    16334\n",
    "Name: 355, dtype: int64"
   ]
  },
  {
   "cell_type": "markdown",
   "id": "2f1be026",
   "metadata": {},
   "source": [
    "nombre_infected       724\n",
    "nombre_sain          2494\n",
    "nombre_exposed        487\n",
    "nombre_recovered    16295\n",
    "Name: 356, dtype: int64"
   ]
  },
  {
   "cell_type": "markdown",
   "id": "ed0980e0",
   "metadata": {},
   "source": [
    "nombre_infected       735\n",
    "nombre_sain          2527\n",
    "nombre_exposed        487\n",
    "nombre_recovered    16251\n",
    "Name: 357, dtype: int64"
   ]
  },
  {
   "cell_type": "markdown",
   "id": "c112e5c0",
   "metadata": {},
   "source": [
    "nombre_infected       737\n",
    "nombre_sain          2536\n",
    "nombre_exposed        497\n",
    "nombre_recovered    16230\n",
    "Name: 358, dtype: int64"
   ]
  },
  {
   "cell_type": "markdown",
   "id": "b122e6f7",
   "metadata": {},
   "source": [
    "nombre_infected       748\n",
    "nombre_sain          2561\n",
    "nombre_exposed        492\n",
    "nombre_recovered    16199\n",
    "Name: 359, dtype: int64"
   ]
  },
  {
   "cell_type": "markdown",
   "id": "940fc214",
   "metadata": {},
   "source": [
    "nombre_infected       735\n",
    "nombre_sain          2598\n",
    "nombre_exposed        500\n",
    "nombre_recovered    16167\n",
    "Name: 360, dtype: int64"
   ]
  },
  {
   "cell_type": "markdown",
   "id": "82dbeb6e",
   "metadata": {},
   "source": [
    "nombre_infected       727\n",
    "nombre_sain          2621\n",
    "nombre_exposed        512\n",
    "nombre_recovered    16140\n",
    "Name: 361, dtype: int64"
   ]
  },
  {
   "cell_type": "markdown",
   "id": "ee9c1bdb",
   "metadata": {},
   "source": [
    "nombre_infected       736\n",
    "nombre_sain          2637\n",
    "nombre_exposed        504\n",
    "nombre_recovered    16123\n",
    "Name: 362, dtype: int64"
   ]
  },
  {
   "cell_type": "markdown",
   "id": "0e0a5eff",
   "metadata": {},
   "source": [
    "nombre_infected       762\n",
    "nombre_sain          2615\n",
    "nombre_exposed        532\n",
    "nombre_recovered    16091\n",
    "Name: 363, dtype: int64"
   ]
  },
  {
   "cell_type": "markdown",
   "id": "1cc48693",
   "metadata": {},
   "source": [
    "nombre_infected       763\n",
    "nombre_sain          2647\n",
    "nombre_exposed        536\n",
    "nombre_recovered    16054\n",
    "Name: 364, dtype: int64"
   ]
  },
  {
   "cell_type": "markdown",
   "id": "38885427",
   "metadata": {},
   "source": [
    "nombre_infected       758\n",
    "nombre_sain          2624\n",
    "nombre_exposed        565\n",
    "nombre_recovered    16053\n",
    "Name: 365, dtype: int64"
   ]
  },
  {
   "cell_type": "markdown",
   "id": "28e820aa",
   "metadata": {},
   "source": [
    "nombre_infected       793\n",
    "nombre_sain          2619\n",
    "nombre_exposed        564\n",
    "nombre_recovered    16024\n",
    "Name: 366, dtype: int64"
   ]
  },
  {
   "cell_type": "markdown",
   "id": "414cd37a",
   "metadata": {},
   "source": [
    "nombre_infected       812\n",
    "nombre_sain          2621\n",
    "nombre_exposed        550\n",
    "nombre_recovered    16017\n",
    "Name: 367, dtype: int64"
   ]
  },
  {
   "cell_type": "markdown",
   "id": "0bdc8db6",
   "metadata": {},
   "source": [
    "nombre_infected       834\n",
    "nombre_sain          2593\n",
    "nombre_exposed        580\n",
    "nombre_recovered    15993\n",
    "Name: 368, dtype: int64"
   ]
  },
  {
   "cell_type": "markdown",
   "id": "0bead0dc",
   "metadata": {},
   "source": [
    "nombre_infected       854\n",
    "nombre_sain          2537\n",
    "nombre_exposed        596\n",
    "nombre_recovered    16013\n",
    "Name: 369, dtype: int64"
   ]
  },
  {
   "cell_type": "markdown",
   "id": "c6b6aa70",
   "metadata": {},
   "source": [
    "nombre_infected       848\n",
    "nombre_sain          2539\n",
    "nombre_exposed        612\n",
    "nombre_recovered    16001\n",
    "Name: 370, dtype: int64"
   ]
  },
  {
   "cell_type": "markdown",
   "id": "33747775",
   "metadata": {},
   "source": [
    "nombre_infected       849\n",
    "nombre_sain          2523\n",
    "nombre_exposed        626\n",
    "nombre_recovered    16002\n",
    "Name: 371, dtype: int64"
   ]
  },
  {
   "cell_type": "markdown",
   "id": "8d558707",
   "metadata": {},
   "source": [
    "nombre_infected       877\n",
    "nombre_sain          2515\n",
    "nombre_exposed        613\n",
    "nombre_recovered    15995\n",
    "Name: 372, dtype: int64"
   ]
  },
  {
   "cell_type": "markdown",
   "id": "923868f4",
   "metadata": {},
   "source": [
    "nombre_infected       911\n",
    "nombre_sain          2500\n",
    "nombre_exposed        616\n",
    "nombre_recovered    15973\n",
    "Name: 373, dtype: int64"
   ]
  },
  {
   "cell_type": "markdown",
   "id": "aaf4d89c",
   "metadata": {},
   "source": [
    "nombre_infected       899\n",
    "nombre_sain          2456\n",
    "nombre_exposed        672\n",
    "nombre_recovered    15973\n",
    "Name: 374, dtype: int64"
   ]
  },
  {
   "cell_type": "markdown",
   "id": "cfcc895c",
   "metadata": {},
   "source": [
    "nombre_infected       937\n",
    "nombre_sain          2449\n",
    "nombre_exposed        643\n",
    "nombre_recovered    15971\n",
    "Name: 375, dtype: int64"
   ]
  },
  {
   "cell_type": "markdown",
   "id": "9af41912",
   "metadata": {},
   "source": [
    "nombre_infected       978\n",
    "nombre_sain          2432\n",
    "nombre_exposed        629\n",
    "nombre_recovered    15961\n",
    "Name: 376, dtype: int64"
   ]
  },
  {
   "cell_type": "markdown",
   "id": "23a3d97c",
   "metadata": {},
   "source": [
    "nombre_infected      1002\n",
    "nombre_sain          2407\n",
    "nombre_exposed        641\n",
    "nombre_recovered    15950\n",
    "Name: 377, dtype: int64"
   ]
  },
  {
   "cell_type": "markdown",
   "id": "93c9f525",
   "metadata": {},
   "source": [
    "nombre_infected      1029\n",
    "nombre_sain          2362\n",
    "nombre_exposed        655\n",
    "nombre_recovered    15954\n",
    "Name: 378, dtype: int64"
   ]
  },
  {
   "cell_type": "markdown",
   "id": "392615fb",
   "metadata": {},
   "source": [
    "nombre_infected      1051\n",
    "nombre_sain          2298\n",
    "nombre_exposed        681\n",
    "nombre_recovered    15970\n",
    "Name: 379, dtype: int64"
   ]
  },
  {
   "cell_type": "markdown",
   "id": "5a8acd00",
   "metadata": {},
   "source": [
    "nombre_infected      1057\n",
    "nombre_sain          2294\n",
    "nombre_exposed        671\n",
    "nombre_recovered    15978\n",
    "Name: 380, dtype: int64"
   ]
  },
  {
   "cell_type": "markdown",
   "id": "087e2ca3",
   "metadata": {},
   "source": [
    "nombre_infected      1067\n",
    "nombre_sain          2259\n",
    "nombre_exposed        682\n",
    "nombre_recovered    15992\n",
    "Name: 381, dtype: int64"
   ]
  },
  {
   "cell_type": "markdown",
   "id": "8687f606",
   "metadata": {},
   "source": [
    "nombre_infected      1068\n",
    "nombre_sain          2235\n",
    "nombre_exposed        690\n",
    "nombre_recovered    16007\n",
    "Name: 382, dtype: int64"
   ]
  },
  {
   "cell_type": "markdown",
   "id": "beac290e",
   "metadata": {},
   "source": [
    "nombre_infected      1107\n",
    "nombre_sain          2201\n",
    "nombre_exposed        664\n",
    "nombre_recovered    16028\n",
    "Name: 383, dtype: int64"
   ]
  },
  {
   "cell_type": "markdown",
   "id": "b0510dfb",
   "metadata": {},
   "source": [
    "nombre_infected      1136\n",
    "nombre_sain          2136\n",
    "nombre_exposed        665\n",
    "nombre_recovered    16063\n",
    "Name: 384, dtype: int64"
   ]
  },
  {
   "cell_type": "markdown",
   "id": "e60b6128",
   "metadata": {},
   "source": [
    "nombre_infected      1141\n",
    "nombre_sain          2073\n",
    "nombre_exposed        678\n",
    "nombre_recovered    16108\n",
    "Name: 385, dtype: int64"
   ]
  },
  {
   "cell_type": "markdown",
   "id": "0e09e819",
   "metadata": {},
   "source": [
    "nombre_infected      1161\n",
    "nombre_sain          2039\n",
    "nombre_exposed        672\n",
    "nombre_recovered    16128\n",
    "Name: 386, dtype: int64"
   ]
  },
  {
   "cell_type": "markdown",
   "id": "1bc3cc5f",
   "metadata": {},
   "source": [
    "nombre_infected      1154\n",
    "nombre_sain          2033\n",
    "nombre_exposed        666\n",
    "nombre_recovered    16147\n",
    "Name: 387, dtype: int64"
   ]
  },
  {
   "cell_type": "markdown",
   "id": "ffb77c0f",
   "metadata": {},
   "source": [
    "nombre_infected      1173\n",
    "nombre_sain          2000\n",
    "nombre_exposed        654\n",
    "nombre_recovered    16173\n",
    "Name: 388, dtype: int64"
   ]
  },
  {
   "cell_type": "markdown",
   "id": "59fe7980",
   "metadata": {},
   "source": [
    "nombre_infected      1186\n",
    "nombre_sain          1978\n",
    "nombre_exposed        629\n",
    "nombre_recovered    16207\n",
    "Name: 389, dtype: int64"
   ]
  },
  {
   "cell_type": "markdown",
   "id": "28eae10d",
   "metadata": {},
   "source": [
    "nombre_infected      1196\n",
    "nombre_sain          1941\n",
    "nombre_exposed        631\n",
    "nombre_recovered    16232\n",
    "Name: 390, dtype: int64"
   ]
  },
  {
   "cell_type": "markdown",
   "id": "678bee01",
   "metadata": {},
   "source": [
    "nombre_infected      1210\n",
    "nombre_sain          1909\n",
    "nombre_exposed        629\n",
    "nombre_recovered    16252\n",
    "Name: 391, dtype: int64"
   ]
  },
  {
   "cell_type": "markdown",
   "id": "e5b1e0cb",
   "metadata": {},
   "source": [
    "nombre_infected      1211\n",
    "nombre_sain          1872\n",
    "nombre_exposed        642\n",
    "nombre_recovered    16275\n",
    "Name: 392, dtype: int64"
   ]
  },
  {
   "cell_type": "markdown",
   "id": "697c4277",
   "metadata": {},
   "source": [
    "nombre_infected      1184\n",
    "nombre_sain          1868\n",
    "nombre_exposed        640\n",
    "nombre_recovered    16308\n",
    "Name: 393, dtype: int64"
   ]
  },
  {
   "cell_type": "markdown",
   "id": "4cdbfb3f",
   "metadata": {},
   "source": [
    "nombre_infected      1192\n",
    "nombre_sain          1841\n",
    "nombre_exposed        636\n",
    "nombre_recovered    16331\n",
    "Name: 394, dtype: int64"
   ]
  },
  {
   "cell_type": "markdown",
   "id": "8fa9c0df",
   "metadata": {},
   "source": [
    "nombre_infected      1212\n",
    "nombre_sain          1861\n",
    "nombre_exposed        625\n",
    "nombre_recovered    16302\n",
    "Name: 395, dtype: int64"
   ]
  },
  {
   "cell_type": "markdown",
   "id": "e0920bbc",
   "metadata": {},
   "source": [
    "nombre_infected      1217\n",
    "nombre_sain          1850\n",
    "nombre_exposed        633\n",
    "nombre_recovered    16300\n",
    "Name: 396, dtype: int64"
   ]
  },
  {
   "cell_type": "markdown",
   "id": "2c4fecec",
   "metadata": {},
   "source": [
    "nombre_infected      1201\n",
    "nombre_sain          1799\n",
    "nombre_exposed        662\n",
    "nombre_recovered    16338\n",
    "Name: 397, dtype: int64"
   ]
  },
  {
   "cell_type": "markdown",
   "id": "94c0b483",
   "metadata": {},
   "source": [
    "nombre_infected      1207\n",
    "nombre_sain          1793\n",
    "nombre_exposed        643\n",
    "nombre_recovered    16357\n",
    "Name: 398, dtype: int64"
   ]
  },
  {
   "cell_type": "markdown",
   "id": "cd014799",
   "metadata": {},
   "source": [
    "nombre_infected      1218\n",
    "nombre_sain          1789\n",
    "nombre_exposed        613\n",
    "nombre_recovered    16380\n",
    "Name: 399, dtype: int64"
   ]
  },
  {
   "cell_type": "markdown",
   "id": "6085b18d",
   "metadata": {},
   "source": [
    "nombre_infected      1237\n",
    "nombre_sain          1780\n",
    "nombre_exposed        589\n",
    "nombre_recovered    16394\n",
    "Name: 400, dtype: int64"
   ]
  },
  {
   "cell_type": "markdown",
   "id": "ec1b1d79",
   "metadata": {},
   "source": [
    "nombre_infected      1245\n",
    "nombre_sain          1744\n",
    "nombre_exposed        593\n",
    "nombre_recovered    16418\n",
    "Name: 401, dtype: int64"
   ]
  },
  {
   "cell_type": "markdown",
   "id": "39706916",
   "metadata": {},
   "source": [
    "nombre_infected      1241\n",
    "nombre_sain          1736\n",
    "nombre_exposed        586\n",
    "nombre_recovered    16437\n",
    "Name: 402, dtype: int64"
   ]
  },
  {
   "cell_type": "markdown",
   "id": "a56c22a4",
   "metadata": {},
   "source": [
    "nombre_infected      1230\n",
    "nombre_sain          1705\n",
    "nombre_exposed        614\n",
    "nombre_recovered    16451\n",
    "Name: 403, dtype: int64"
   ]
  },
  {
   "cell_type": "markdown",
   "id": "c39d417d",
   "metadata": {},
   "source": [
    "nombre_infected      1212\n",
    "nombre_sain          1696\n",
    "nombre_exposed        616\n",
    "nombre_recovered    16476\n",
    "Name: 404, dtype: int64"
   ]
  },
  {
   "cell_type": "markdown",
   "id": "00ed6713",
   "metadata": {},
   "source": [
    "nombre_infected      1178\n",
    "nombre_sain          1726\n",
    "nombre_exposed        597\n",
    "nombre_recovered    16499\n",
    "Name: 405, dtype: int64"
   ]
  },
  {
   "cell_type": "markdown",
   "id": "7e1621ba",
   "metadata": {},
   "source": [
    "nombre_infected      1183\n",
    "nombre_sain          1749\n",
    "nombre_exposed        579\n",
    "nombre_recovered    16489\n",
    "Name: 406, dtype: int64"
   ]
  },
  {
   "cell_type": "markdown",
   "id": "aa558759",
   "metadata": {},
   "source": [
    "nombre_infected      1188\n",
    "nombre_sain          1785\n",
    "nombre_exposed        547\n",
    "nombre_recovered    16480\n",
    "Name: 407, dtype: int64"
   ]
  },
  {
   "cell_type": "markdown",
   "id": "13e5eba4",
   "metadata": {},
   "source": [
    "nombre_infected      1187\n",
    "nombre_sain          1794\n",
    "nombre_exposed        533\n",
    "nombre_recovered    16486\n",
    "Name: 408, dtype: int64"
   ]
  },
  {
   "cell_type": "markdown",
   "id": "233ae53c",
   "metadata": {},
   "source": [
    "nombre_infected      1172\n",
    "nombre_sain          1800\n",
    "nombre_exposed        556\n",
    "nombre_recovered    16472\n",
    "Name: 409, dtype: int64"
   ]
  },
  {
   "cell_type": "markdown",
   "id": "900c7b21",
   "metadata": {},
   "source": [
    "nombre_infected      1140\n",
    "nombre_sain          1804\n",
    "nombre_exposed        576\n",
    "nombre_recovered    16480\n",
    "Name: 410, dtype: int64"
   ]
  },
  {
   "cell_type": "markdown",
   "id": "34835cef",
   "metadata": {},
   "source": [
    "nombre_infected      1153\n",
    "nombre_sain          1832\n",
    "nombre_exposed        554\n",
    "nombre_recovered    16461\n",
    "Name: 411, dtype: int64"
   ]
  },
  {
   "cell_type": "markdown",
   "id": "12dd7547",
   "metadata": {},
   "source": [
    "nombre_infected      1141\n",
    "nombre_sain          1854\n",
    "nombre_exposed        550\n",
    "nombre_recovered    16455\n",
    "Name: 412, dtype: int64"
   ]
  },
  {
   "cell_type": "markdown",
   "id": "51405673",
   "metadata": {},
   "source": [
    "nombre_infected      1101\n",
    "nombre_sain          1854\n",
    "nombre_exposed        572\n",
    "nombre_recovered    16473\n",
    "Name: 413, dtype: int64"
   ]
  },
  {
   "cell_type": "markdown",
   "id": "f5ef2bd6",
   "metadata": {},
   "source": [
    "nombre_infected      1089\n",
    "nombre_sain          1858\n",
    "nombre_exposed        585\n",
    "nombre_recovered    16468\n",
    "Name: 414, dtype: int64"
   ]
  },
  {
   "cell_type": "markdown",
   "id": "f113914c",
   "metadata": {},
   "source": [
    "nombre_infected      1062\n",
    "nombre_sain          1899\n",
    "nombre_exposed        586\n",
    "nombre_recovered    16453\n",
    "Name: 415, dtype: int64"
   ]
  },
  {
   "cell_type": "markdown",
   "id": "1c77bc1a",
   "metadata": {},
   "source": [
    "nombre_infected      1067\n",
    "nombre_sain          1925\n",
    "nombre_exposed        582\n",
    "nombre_recovered    16426\n",
    "Name: 416, dtype: int64"
   ]
  },
  {
   "cell_type": "markdown",
   "id": "6683d098",
   "metadata": {},
   "source": [
    "nombre_infected      1065\n",
    "nombre_sain          1940\n",
    "nombre_exposed        592\n",
    "nombre_recovered    16403\n",
    "Name: 417, dtype: int64"
   ]
  },
  {
   "cell_type": "markdown",
   "id": "0b1b5069",
   "metadata": {},
   "source": [
    "nombre_infected      1049\n",
    "nombre_sain          1956\n",
    "nombre_exposed        593\n",
    "nombre_recovered    16402\n",
    "Name: 418, dtype: int64"
   ]
  },
  {
   "cell_type": "markdown",
   "id": "18a2beac",
   "metadata": {},
   "source": [
    "nombre_infected      1042\n",
    "nombre_sain          1963\n",
    "nombre_exposed        608\n",
    "nombre_recovered    16387\n",
    "Name: 419, dtype: int64"
   ]
  },
  {
   "cell_type": "markdown",
   "id": "f60db218",
   "metadata": {},
   "source": [
    "nombre_infected      1050\n",
    "nombre_sain          1969\n",
    "nombre_exposed        608\n",
    "nombre_recovered    16373\n",
    "Name: 420, dtype: int64"
   ]
  },
  {
   "cell_type": "markdown",
   "id": "63597f80",
   "metadata": {},
   "source": [
    "nombre_infected      1060\n",
    "nombre_sain          1984\n",
    "nombre_exposed        585\n",
    "nombre_recovered    16371\n",
    "Name: 421, dtype: int64"
   ]
  },
  {
   "cell_type": "markdown",
   "id": "8bedcfdc",
   "metadata": {},
   "source": [
    "nombre_infected      1070\n",
    "nombre_sain          2007\n",
    "nombre_exposed        585\n",
    "nombre_recovered    16338\n",
    "Name: 422, dtype: int64"
   ]
  },
  {
   "cell_type": "markdown",
   "id": "3a67a071",
   "metadata": {},
   "source": [
    "nombre_infected      1069\n",
    "nombre_sain          2039\n",
    "nombre_exposed        580\n",
    "nombre_recovered    16312\n",
    "Name: 423, dtype: int64"
   ]
  },
  {
   "cell_type": "markdown",
   "id": "a0cd0dbb",
   "metadata": {},
   "source": [
    "nombre_infected      1079\n",
    "nombre_sain          2069\n",
    "nombre_exposed        581\n",
    "nombre_recovered    16271\n",
    "Name: 424, dtype: int64"
   ]
  },
  {
   "cell_type": "markdown",
   "id": "f6b63727",
   "metadata": {},
   "source": [
    "nombre_infected      1047\n",
    "nombre_sain          2090\n",
    "nombre_exposed        610\n",
    "nombre_recovered    16253\n",
    "Name: 425, dtype: int64"
   ]
  },
  {
   "cell_type": "markdown",
   "id": "6a385e08",
   "metadata": {},
   "source": [
    "nombre_infected      1044\n",
    "nombre_sain          2096\n",
    "nombre_exposed        615\n",
    "nombre_recovered    16245\n",
    "Name: 426, dtype: int64"
   ]
  },
  {
   "cell_type": "markdown",
   "id": "5ef1b328",
   "metadata": {},
   "source": [
    "nombre_infected      1052\n",
    "nombre_sain          2109\n",
    "nombre_exposed        612\n",
    "nombre_recovered    16227\n",
    "Name: 427, dtype: int64"
   ]
  },
  {
   "cell_type": "markdown",
   "id": "cc7448ad",
   "metadata": {},
   "source": [
    "nombre_infected      1058\n",
    "nombre_sain          2105\n",
    "nombre_exposed        604\n",
    "nombre_recovered    16233\n",
    "Name: 428, dtype: int64"
   ]
  },
  {
   "cell_type": "markdown",
   "id": "f9c46e43",
   "metadata": {},
   "source": [
    "nombre_infected      1044\n",
    "nombre_sain          2101\n",
    "nombre_exposed        618\n",
    "nombre_recovered    16237\n",
    "Name: 429, dtype: int64"
   ]
  },
  {
   "cell_type": "markdown",
   "id": "a82ce316",
   "metadata": {},
   "source": [
    "nombre_infected      1040\n",
    "nombre_sain          2130\n",
    "nombre_exposed        616\n",
    "nombre_recovered    16214\n",
    "Name: 430, dtype: int64"
   ]
  },
  {
   "cell_type": "markdown",
   "id": "c809420a",
   "metadata": {},
   "source": [
    "nombre_infected      1015\n",
    "nombre_sain          2110\n",
    "nombre_exposed        637\n",
    "nombre_recovered    16238\n",
    "Name: 431, dtype: int64"
   ]
  },
  {
   "cell_type": "markdown",
   "id": "163eca26",
   "metadata": {},
   "source": [
    "nombre_infected      1013\n",
    "nombre_sain          2129\n",
    "nombre_exposed        645\n",
    "nombre_recovered    16213\n",
    "Name: 432, dtype: int64"
   ]
  },
  {
   "cell_type": "markdown",
   "id": "6e77e2e1",
   "metadata": {},
   "source": [
    "nombre_infected       997\n",
    "nombre_sain          2117\n",
    "nombre_exposed        642\n",
    "nombre_recovered    16244\n",
    "Name: 433, dtype: int64"
   ]
  },
  {
   "cell_type": "markdown",
   "id": "81256087",
   "metadata": {},
   "source": [
    "nombre_infected      1008\n",
    "nombre_sain          2111\n",
    "nombre_exposed        616\n",
    "nombre_recovered    16265\n",
    "Name: 434, dtype: int64"
   ]
  },
  {
   "cell_type": "markdown",
   "id": "0b66d67a",
   "metadata": {},
   "source": [
    "nombre_infected       992\n",
    "nombre_sain          2083\n",
    "nombre_exposed        631\n",
    "nombre_recovered    16294\n",
    "Name: 435, dtype: int64"
   ]
  },
  {
   "cell_type": "markdown",
   "id": "63d36321",
   "metadata": {},
   "source": [
    "nombre_infected       993\n",
    "nombre_sain          2075\n",
    "nombre_exposed        618\n",
    "nombre_recovered    16314\n",
    "Name: 436, dtype: int64"
   ]
  },
  {
   "cell_type": "markdown",
   "id": "4e90a9f8",
   "metadata": {},
   "source": [
    "nombre_infected       987\n",
    "nombre_sain          2064\n",
    "nombre_exposed        606\n",
    "nombre_recovered    16343\n",
    "Name: 437, dtype: int64"
   ]
  },
  {
   "cell_type": "markdown",
   "id": "2f45f738",
   "metadata": {},
   "source": [
    "nombre_infected       965\n",
    "nombre_sain          2046\n",
    "nombre_exposed        616\n",
    "nombre_recovered    16373\n",
    "Name: 438, dtype: int64"
   ]
  },
  {
   "cell_type": "markdown",
   "id": "07406f93",
   "metadata": {},
   "source": [
    "nombre_infected       970\n",
    "nombre_sain          2075\n",
    "nombre_exposed        595\n",
    "nombre_recovered    16360\n",
    "Name: 439, dtype: int64"
   ]
  },
  {
   "cell_type": "markdown",
   "id": "245f1a7e",
   "metadata": {},
   "source": [
    "nombre_infected       954\n",
    "nombre_sain          2068\n",
    "nombre_exposed        593\n",
    "nombre_recovered    16385\n",
    "Name: 440, dtype: int64"
   ]
  },
  {
   "cell_type": "markdown",
   "id": "575541ef",
   "metadata": {},
   "source": [
    "nombre_infected       952\n",
    "nombre_sain          2063\n",
    "nombre_exposed        581\n",
    "nombre_recovered    16404\n",
    "Name: 441, dtype: int64"
   ]
  },
  {
   "cell_type": "markdown",
   "id": "ac1f0107",
   "metadata": {},
   "source": [
    "nombre_infected       943\n",
    "nombre_sain          2073\n",
    "nombre_exposed        555\n",
    "nombre_recovered    16429\n",
    "Name: 442, dtype: int64"
   ]
  },
  {
   "cell_type": "markdown",
   "id": "c0b62eee",
   "metadata": {},
   "source": [
    "nombre_infected       942\n",
    "nombre_sain          2067\n",
    "nombre_exposed        525\n",
    "nombre_recovered    16466\n",
    "Name: 443, dtype: int64"
   ]
  },
  {
   "cell_type": "markdown",
   "id": "084e229a",
   "metadata": {},
   "source": [
    "nombre_infected       923\n",
    "nombre_sain          2058\n",
    "nombre_exposed        526\n",
    "nombre_recovered    16493\n",
    "Name: 444, dtype: int64"
   ]
  },
  {
   "cell_type": "markdown",
   "id": "0afa74b9",
   "metadata": {},
   "source": [
    "nombre_infected       931\n",
    "nombre_sain          2080\n",
    "nombre_exposed        502\n",
    "nombre_recovered    16487\n",
    "Name: 445, dtype: int64"
   ]
  },
  {
   "cell_type": "markdown",
   "id": "0e9c3f0b",
   "metadata": {},
   "source": [
    "nombre_infected       905\n",
    "nombre_sain          2083\n",
    "nombre_exposed        489\n",
    "nombre_recovered    16523\n",
    "Name: 446, dtype: int64"
   ]
  },
  {
   "cell_type": "markdown",
   "id": "a135b46d",
   "metadata": {},
   "source": [
    "nombre_infected       916\n",
    "nombre_sain          2056\n",
    "nombre_exposed        501\n",
    "nombre_recovered    16527\n",
    "Name: 447, dtype: int64"
   ]
  },
  {
   "cell_type": "markdown",
   "id": "b110b7a9",
   "metadata": {},
   "source": [
    "nombre_infected       889\n",
    "nombre_sain          2072\n",
    "nombre_exposed        497\n",
    "nombre_recovered    16542\n",
    "Name: 448, dtype: int64"
   ]
  },
  {
   "cell_type": "markdown",
   "id": "674510dc",
   "metadata": {},
   "source": [
    "nombre_infected       898\n",
    "nombre_sain          2059\n",
    "nombre_exposed        503\n",
    "nombre_recovered    16540\n",
    "Name: 449, dtype: int64"
   ]
  },
  {
   "cell_type": "markdown",
   "id": "c11f1cbd",
   "metadata": {},
   "source": [
    "nombre_infected       886\n",
    "nombre_sain          2057\n",
    "nombre_exposed        512\n",
    "nombre_recovered    16545\n",
    "Name: 450, dtype: int64"
   ]
  },
  {
   "cell_type": "markdown",
   "id": "a2e1c14b",
   "metadata": {},
   "source": [
    "nombre_infected       866\n",
    "nombre_sain          2084\n",
    "nombre_exposed        513\n",
    "nombre_recovered    16537\n",
    "Name: 451, dtype: int64"
   ]
  },
  {
   "cell_type": "markdown",
   "id": "95e2c4b9",
   "metadata": {},
   "source": [
    "nombre_infected       886\n",
    "nombre_sain          2098\n",
    "nombre_exposed        502\n",
    "nombre_recovered    16514\n",
    "Name: 452, dtype: int64"
   ]
  },
  {
   "cell_type": "markdown",
   "id": "7c924c00",
   "metadata": {},
   "source": [
    "nombre_infected       870\n",
    "nombre_sain          2093\n",
    "nombre_exposed        504\n",
    "nombre_recovered    16533\n",
    "Name: 453, dtype: int64"
   ]
  },
  {
   "cell_type": "markdown",
   "id": "28903b61",
   "metadata": {},
   "source": [
    "nombre_infected       853\n",
    "nombre_sain          2099\n",
    "nombre_exposed        493\n",
    "nombre_recovered    16555\n",
    "Name: 454, dtype: int64"
   ]
  },
  {
   "cell_type": "markdown",
   "id": "1f4e02f5",
   "metadata": {},
   "source": [
    "nombre_infected       845\n",
    "nombre_sain          2105\n",
    "nombre_exposed        493\n",
    "nombre_recovered    16557\n",
    "Name: 455, dtype: int64"
   ]
  },
  {
   "cell_type": "markdown",
   "id": "23070be7",
   "metadata": {},
   "source": [
    "nombre_infected       838\n",
    "nombre_sain          2131\n",
    "nombre_exposed        489\n",
    "nombre_recovered    16542\n",
    "Name: 456, dtype: int64"
   ]
  },
  {
   "cell_type": "markdown",
   "id": "36037131",
   "metadata": {},
   "source": [
    "nombre_infected       847\n",
    "nombre_sain          2139\n",
    "nombre_exposed        481\n",
    "nombre_recovered    16533\n",
    "Name: 457, dtype: int64"
   ]
  },
  {
   "cell_type": "markdown",
   "id": "8e054212",
   "metadata": {},
   "source": [
    "nombre_infected       854\n",
    "nombre_sain          2157\n",
    "nombre_exposed        481\n",
    "nombre_recovered    16508\n",
    "Name: 458, dtype: int64"
   ]
  },
  {
   "cell_type": "markdown",
   "id": "8ce740d6",
   "metadata": {},
   "source": [
    "nombre_infected       840\n",
    "nombre_sain          2151\n",
    "nombre_exposed        466\n",
    "nombre_recovered    16543\n",
    "Name: 459, dtype: int64"
   ]
  },
  {
   "cell_type": "markdown",
   "id": "261398d3",
   "metadata": {},
   "source": [
    "nombre_infected       824\n",
    "nombre_sain          2169\n",
    "nombre_exposed        470\n",
    "nombre_recovered    16537\n",
    "Name: 460, dtype: int64"
   ]
  },
  {
   "cell_type": "markdown",
   "id": "104c83d8",
   "metadata": {},
   "source": [
    "nombre_infected       838\n",
    "nombre_sain          2178\n",
    "nombre_exposed        460\n",
    "nombre_recovered    16524\n",
    "Name: 461, dtype: int64"
   ]
  },
  {
   "cell_type": "markdown",
   "id": "9cec2989",
   "metadata": {},
   "source": [
    "nombre_infected       832\n",
    "nombre_sain          2178\n",
    "nombre_exposed        477\n",
    "nombre_recovered    16513\n",
    "Name: 462, dtype: int64"
   ]
  },
  {
   "cell_type": "markdown",
   "id": "81d96a6e",
   "metadata": {},
   "source": [
    "nombre_infected       818\n",
    "nombre_sain          2184\n",
    "nombre_exposed        487\n",
    "nombre_recovered    16511\n",
    "Name: 463, dtype: int64"
   ]
  },
  {
   "cell_type": "markdown",
   "id": "ce2be484",
   "metadata": {},
   "source": [
    "nombre_infected       813\n",
    "nombre_sain          2155\n",
    "nombre_exposed        494\n",
    "nombre_recovered    16538\n",
    "Name: 464, dtype: int64"
   ]
  },
  {
   "cell_type": "markdown",
   "id": "01860b7b",
   "metadata": {},
   "source": [
    "nombre_infected       815\n",
    "nombre_sain          2145\n",
    "nombre_exposed        500\n",
    "nombre_recovered    16540\n",
    "Name: 465, dtype: int64"
   ]
  },
  {
   "cell_type": "markdown",
   "id": "4295b788",
   "metadata": {},
   "source": [
    "nombre_infected       816\n",
    "nombre_sain          2150\n",
    "nombre_exposed        506\n",
    "nombre_recovered    16528\n",
    "Name: 466, dtype: int64"
   ]
  },
  {
   "cell_type": "markdown",
   "id": "418a938a",
   "metadata": {},
   "source": [
    "nombre_infected       802\n",
    "nombre_sain          2153\n",
    "nombre_exposed        516\n",
    "nombre_recovered    16529\n",
    "Name: 467, dtype: int64"
   ]
  },
  {
   "cell_type": "markdown",
   "id": "d5f6684c",
   "metadata": {},
   "source": [
    "nombre_infected       810\n",
    "nombre_sain          2168\n",
    "nombre_exposed        503\n",
    "nombre_recovered    16519\n",
    "Name: 468, dtype: int64"
   ]
  },
  {
   "cell_type": "markdown",
   "id": "8d2c94a9",
   "metadata": {},
   "source": [
    "nombre_infected       817\n",
    "nombre_sain          2174\n",
    "nombre_exposed        522\n",
    "nombre_recovered    16487\n",
    "Name: 469, dtype: int64"
   ]
  },
  {
   "cell_type": "markdown",
   "id": "3bc47652",
   "metadata": {},
   "source": [
    "nombre_infected       812\n",
    "nombre_sain          2150\n",
    "nombre_exposed        533\n",
    "nombre_recovered    16505\n",
    "Name: 470, dtype: int64"
   ]
  },
  {
   "cell_type": "markdown",
   "id": "06d2093d",
   "metadata": {},
   "source": [
    "nombre_infected       826\n",
    "nombre_sain          2152\n",
    "nombre_exposed        519\n",
    "nombre_recovered    16503\n",
    "Name: 471, dtype: int64"
   ]
  },
  {
   "cell_type": "markdown",
   "id": "5dd5575f",
   "metadata": {},
   "source": [
    "nombre_infected       826\n",
    "nombre_sain          2144\n",
    "nombre_exposed        519\n",
    "nombre_recovered    16511\n",
    "Name: 472, dtype: int64"
   ]
  },
  {
   "cell_type": "markdown",
   "id": "245ff09a",
   "metadata": {},
   "source": [
    "nombre_infected       847\n",
    "nombre_sain          2123\n",
    "nombre_exposed        517\n",
    "nombre_recovered    16513\n",
    "Name: 473, dtype: int64"
   ]
  },
  {
   "cell_type": "markdown",
   "id": "263d4c34",
   "metadata": {},
   "source": [
    "nombre_infected       853\n",
    "nombre_sain          2118\n",
    "nombre_exposed        523\n",
    "nombre_recovered    16506\n",
    "Name: 474, dtype: int64"
   ]
  },
  {
   "cell_type": "markdown",
   "id": "4a173e70",
   "metadata": {},
   "source": [
    "nombre_infected       863\n",
    "nombre_sain          2138\n",
    "nombre_exposed        525\n",
    "nombre_recovered    16474\n",
    "Name: 475, dtype: int64"
   ]
  },
  {
   "cell_type": "markdown",
   "id": "3ee5ec5c",
   "metadata": {},
   "source": [
    "nombre_infected       862\n",
    "nombre_sain          2135\n",
    "nombre_exposed        534\n",
    "nombre_recovered    16469\n",
    "Name: 476, dtype: int64"
   ]
  },
  {
   "cell_type": "markdown",
   "id": "e7743081",
   "metadata": {},
   "source": [
    "nombre_infected       861\n",
    "nombre_sain          2114\n",
    "nombre_exposed        546\n",
    "nombre_recovered    16479\n",
    "Name: 477, dtype: int64"
   ]
  },
  {
   "cell_type": "markdown",
   "id": "425cf1f4",
   "metadata": {},
   "source": [
    "nombre_infected       880\n",
    "nombre_sain          2161\n",
    "nombre_exposed        524\n",
    "nombre_recovered    16435\n",
    "Name: 478, dtype: int64"
   ]
  },
  {
   "cell_type": "markdown",
   "id": "8b2dfa8e",
   "metadata": {},
   "source": [
    "nombre_infected       899\n",
    "nombre_sain          2162\n",
    "nombre_exposed        513\n",
    "nombre_recovered    16426\n",
    "Name: 479, dtype: int64"
   ]
  },
  {
   "cell_type": "markdown",
   "id": "35cb84c0",
   "metadata": {},
   "source": [
    "nombre_infected       907\n",
    "nombre_sain          2138\n",
    "nombre_exposed        528\n",
    "nombre_recovered    16427\n",
    "Name: 480, dtype: int64"
   ]
  },
  {
   "cell_type": "markdown",
   "id": "2ed8c00e",
   "metadata": {},
   "source": [
    "nombre_infected       901\n",
    "nombre_sain          2137\n",
    "nombre_exposed        542\n",
    "nombre_recovered    16420\n",
    "Name: 481, dtype: int64"
   ]
  },
  {
   "cell_type": "markdown",
   "id": "6c458f8f",
   "metadata": {},
   "source": [
    "nombre_infected       881\n",
    "nombre_sain          2135\n",
    "nombre_exposed        562\n",
    "nombre_recovered    16422\n",
    "Name: 482, dtype: int64"
   ]
  },
  {
   "cell_type": "markdown",
   "id": "7061e520",
   "metadata": {},
   "source": [
    "nombre_infected       899\n",
    "nombre_sain          2166\n",
    "nombre_exposed        546\n",
    "nombre_recovered    16389\n",
    "Name: 483, dtype: int64"
   ]
  },
  {
   "cell_type": "markdown",
   "id": "93edacc6",
   "metadata": {},
   "source": [
    "nombre_infected       923\n",
    "nombre_sain          2159\n",
    "nombre_exposed        529\n",
    "nombre_recovered    16389\n",
    "Name: 484, dtype: int64"
   ]
  },
  {
   "cell_type": "markdown",
   "id": "58267c08",
   "metadata": {},
   "source": [
    "nombre_infected       936\n",
    "nombre_sain          2127\n",
    "nombre_exposed        556\n",
    "nombre_recovered    16381\n",
    "Name: 485, dtype: int64"
   ]
  },
  {
   "cell_type": "markdown",
   "id": "affcb93f",
   "metadata": {},
   "source": [
    "nombre_infected       930\n",
    "nombre_sain          2098\n",
    "nombre_exposed        562\n",
    "nombre_recovered    16410\n",
    "Name: 486, dtype: int64"
   ]
  },
  {
   "cell_type": "markdown",
   "id": "71b94963",
   "metadata": {},
   "source": [
    "nombre_infected       923\n",
    "nombre_sain          2075\n",
    "nombre_exposed        552\n",
    "nombre_recovered    16450\n",
    "Name: 487, dtype: int64"
   ]
  },
  {
   "cell_type": "markdown",
   "id": "ed6997ce",
   "metadata": {},
   "source": [
    "nombre_infected       899\n",
    "nombre_sain          2043\n",
    "nombre_exposed        580\n",
    "nombre_recovered    16478\n",
    "Name: 488, dtype: int64"
   ]
  },
  {
   "cell_type": "markdown",
   "id": "8e186563",
   "metadata": {},
   "source": [
    "nombre_infected       910\n",
    "nombre_sain          2042\n",
    "nombre_exposed        585\n",
    "nombre_recovered    16463\n",
    "Name: 489, dtype: int64"
   ]
  },
  {
   "cell_type": "markdown",
   "id": "e04bcdf4",
   "metadata": {},
   "source": [
    "nombre_infected       904\n",
    "nombre_sain          2029\n",
    "nombre_exposed        599\n",
    "nombre_recovered    16468\n",
    "Name: 490, dtype: int64"
   ]
  },
  {
   "cell_type": "markdown",
   "id": "bad2f786",
   "metadata": {},
   "source": [
    "nombre_infected       916\n",
    "nombre_sain          2043\n",
    "nombre_exposed        596\n",
    "nombre_recovered    16445\n",
    "Name: 491, dtype: int64"
   ]
  },
  {
   "cell_type": "markdown",
   "id": "dbf21102",
   "metadata": {},
   "source": [
    "nombre_infected       933\n",
    "nombre_sain          2013\n",
    "nombre_exposed        590\n",
    "nombre_recovered    16464\n",
    "Name: 492, dtype: int64"
   ]
  },
  {
   "cell_type": "markdown",
   "id": "ba49427f",
   "metadata": {},
   "source": [
    "nombre_infected       925\n",
    "nombre_sain          1986\n",
    "nombre_exposed        610\n",
    "nombre_recovered    16479\n",
    "Name: 493, dtype: int64"
   ]
  },
  {
   "cell_type": "markdown",
   "id": "59f6dfda",
   "metadata": {},
   "source": [
    "nombre_infected       932\n",
    "nombre_sain          1965\n",
    "nombre_exposed        623\n",
    "nombre_recovered    16480\n",
    "Name: 494, dtype: int64"
   ]
  },
  {
   "cell_type": "markdown",
   "id": "a5b34963",
   "metadata": {},
   "source": [
    "nombre_infected       952\n",
    "nombre_sain          1956\n",
    "nombre_exposed        612\n",
    "nombre_recovered    16480\n",
    "Name: 495, dtype: int64"
   ]
  },
  {
   "cell_type": "markdown",
   "id": "e1303aec",
   "metadata": {},
   "source": [
    "nombre_infected       995\n",
    "nombre_sain          1951\n",
    "nombre_exposed        575\n",
    "nombre_recovered    16479\n",
    "Name: 496, dtype: int64"
   ]
  },
  {
   "cell_type": "markdown",
   "id": "c6e2dffd",
   "metadata": {},
   "source": [
    "nombre_infected      1018\n",
    "nombre_sain          1929\n",
    "nombre_exposed        572\n",
    "nombre_recovered    16481\n",
    "Name: 497, dtype: int64"
   ]
  },
  {
   "cell_type": "markdown",
   "id": "0e6b8dcb",
   "metadata": {},
   "source": [
    "nombre_infected      1027\n",
    "nombre_sain          1908\n",
    "nombre_exposed        574\n",
    "nombre_recovered    16491\n",
    "Name: 498, dtype: int64"
   ]
  },
  {
   "cell_type": "markdown",
   "id": "7f88e10c",
   "metadata": {},
   "source": [
    "nombre_infected      1023\n",
    "nombre_sain          1905\n",
    "nombre_exposed        570\n",
    "nombre_recovered    16502\n",
    "Name: 499, dtype: int64"
   ]
  },
  {
   "cell_type": "markdown",
   "id": "6fa53dd4",
   "metadata": {},
   "source": [
    "nombre_infected      1029\n",
    "nombre_sain          1892\n",
    "nombre_exposed        565\n",
    "nombre_recovered    16514\n",
    "Name: 500, dtype: int64"
   ]
  },
  {
   "cell_type": "markdown",
   "id": "cb1e1240",
   "metadata": {},
   "source": [
    "nombre_infected      1004\n",
    "nombre_sain          1877\n",
    "nombre_exposed        590\n",
    "nombre_recovered    16529\n",
    "Name: 501, dtype: int64"
   ]
  },
  {
   "cell_type": "markdown",
   "id": "9139b48f",
   "metadata": {},
   "source": [
    "nombre_infected      1007\n",
    "nombre_sain          1856\n",
    "nombre_exposed        601\n",
    "nombre_recovered    16536\n",
    "Name: 502, dtype: int64"
   ]
  },
  {
   "cell_type": "markdown",
   "id": "ac9f5df9",
   "metadata": {},
   "source": [
    "nombre_infected       992\n",
    "nombre_sain          1866\n",
    "nombre_exposed        607\n",
    "nombre_recovered    16535\n",
    "Name: 503, dtype: int64"
   ]
  },
  {
   "cell_type": "markdown",
   "id": "95d10011",
   "metadata": {},
   "source": [
    "nombre_infected       981\n",
    "nombre_sain          1882\n",
    "nombre_exposed        597\n",
    "nombre_recovered    16540\n",
    "Name: 504, dtype: int64"
   ]
  },
  {
   "cell_type": "markdown",
   "id": "2734410e",
   "metadata": {},
   "source": [
    "nombre_infected       974\n",
    "nombre_sain          1886\n",
    "nombre_exposed        600\n",
    "nombre_recovered    16540\n",
    "Name: 505, dtype: int64"
   ]
  },
  {
   "cell_type": "markdown",
   "id": "8a158a2d",
   "metadata": {},
   "source": [
    "nombre_infected       968\n",
    "nombre_sain          1922\n",
    "nombre_exposed        584\n",
    "nombre_recovered    16526\n",
    "Name: 506, dtype: int64"
   ]
  },
  {
   "cell_type": "markdown",
   "id": "9688671e",
   "metadata": {},
   "source": [
    "nombre_infected       966\n",
    "nombre_sain          1932\n",
    "nombre_exposed        574\n",
    "nombre_recovered    16528\n",
    "Name: 507, dtype: int64"
   ]
  },
  {
   "cell_type": "markdown",
   "id": "b7492e47",
   "metadata": {},
   "source": [
    "nombre_infected       973\n",
    "nombre_sain          1924\n",
    "nombre_exposed        567\n",
    "nombre_recovered    16536\n",
    "Name: 508, dtype: int64"
   ]
  },
  {
   "cell_type": "markdown",
   "id": "118c6db8",
   "metadata": {},
   "source": [
    "nombre_infected       971\n",
    "nombre_sain          1903\n",
    "nombre_exposed        579\n",
    "nombre_recovered    16547\n",
    "Name: 509, dtype: int64"
   ]
  },
  {
   "cell_type": "markdown",
   "id": "a84bfb07",
   "metadata": {},
   "source": [
    "nombre_infected       984\n",
    "nombre_sain          1905\n",
    "nombre_exposed        553\n",
    "nombre_recovered    16558\n",
    "Name: 510, dtype: int64"
   ]
  },
  {
   "cell_type": "markdown",
   "id": "fe072f59",
   "metadata": {},
   "source": [
    "nombre_infected       963\n",
    "nombre_sain          1890\n",
    "nombre_exposed        572\n",
    "nombre_recovered    16575\n",
    "Name: 511, dtype: int64"
   ]
  },
  {
   "cell_type": "markdown",
   "id": "db0493c6",
   "metadata": {},
   "source": [
    "nombre_infected       953\n",
    "nombre_sain          1881\n",
    "nombre_exposed        568\n",
    "nombre_recovered    16598\n",
    "Name: 512, dtype: int64"
   ]
  },
  {
   "cell_type": "markdown",
   "id": "a29c8d07",
   "metadata": {},
   "source": [
    "nombre_infected       939\n",
    "nombre_sain          1888\n",
    "nombre_exposed        551\n",
    "nombre_recovered    16622\n",
    "Name: 513, dtype: int64"
   ]
  },
  {
   "cell_type": "markdown",
   "id": "3a5e2b61",
   "metadata": {},
   "source": [
    "nombre_infected       945\n",
    "nombre_sain          1896\n",
    "nombre_exposed        533\n",
    "nombre_recovered    16626\n",
    "Name: 514, dtype: int64"
   ]
  },
  {
   "cell_type": "markdown",
   "id": "4d405202",
   "metadata": {},
   "source": [
    "nombre_infected       932\n",
    "nombre_sain          1888\n",
    "nombre_exposed        535\n",
    "nombre_recovered    16645\n",
    "Name: 515, dtype: int64"
   ]
  },
  {
   "cell_type": "markdown",
   "id": "454a42d3",
   "metadata": {},
   "source": [
    "nombre_infected       947\n",
    "nombre_sain          1910\n",
    "nombre_exposed        495\n",
    "nombre_recovered    16648\n",
    "Name: 516, dtype: int64"
   ]
  },
  {
   "cell_type": "markdown",
   "id": "feacd95d",
   "metadata": {},
   "source": [
    "nombre_infected       965\n",
    "nombre_sain          1892\n",
    "nombre_exposed        501\n",
    "nombre_recovered    16642\n",
    "Name: 517, dtype: int64"
   ]
  },
  {
   "cell_type": "markdown",
   "id": "91339fb0",
   "metadata": {},
   "source": [
    "nombre_infected       947\n",
    "nombre_sain          1902\n",
    "nombre_exposed        508\n",
    "nombre_recovered    16643\n",
    "Name: 518, dtype: int64"
   ]
  },
  {
   "cell_type": "markdown",
   "id": "14fcee44",
   "metadata": {},
   "source": [
    "nombre_infected       922\n",
    "nombre_sain          1900\n",
    "nombre_exposed        518\n",
    "nombre_recovered    16660\n",
    "Name: 519, dtype: int64"
   ]
  },
  {
   "cell_type": "markdown",
   "id": "59f8a2b8",
   "metadata": {},
   "source": [
    "nombre_infected       901\n",
    "nombre_sain          1877\n",
    "nombre_exposed        531\n",
    "nombre_recovered    16691\n",
    "Name: 520, dtype: int64"
   ]
  },
  {
   "cell_type": "markdown",
   "id": "d2e19fb7",
   "metadata": {},
   "source": [
    "nombre_infected       897\n",
    "nombre_sain          1894\n",
    "nombre_exposed        531\n",
    "nombre_recovered    16678\n",
    "Name: 521, dtype: int64"
   ]
  },
  {
   "cell_type": "markdown",
   "id": "ee5a8f45",
   "metadata": {},
   "source": [
    "nombre_infected       866\n",
    "nombre_sain          1936\n",
    "nombre_exposed        531\n",
    "nombre_recovered    16667\n",
    "Name: 522, dtype: int64"
   ]
  },
  {
   "cell_type": "markdown",
   "id": "04900742",
   "metadata": {},
   "source": [
    "nombre_infected       888\n",
    "nombre_sain          1935\n",
    "nombre_exposed        510\n",
    "nombre_recovered    16667\n",
    "Name: 523, dtype: int64"
   ]
  },
  {
   "cell_type": "markdown",
   "id": "063f3d6a",
   "metadata": {},
   "source": [
    "nombre_infected       895\n",
    "nombre_sain          1933\n",
    "nombre_exposed        517\n",
    "nombre_recovered    16655\n",
    "Name: 524, dtype: int64"
   ]
  },
  {
   "cell_type": "markdown",
   "id": "cb8236a5",
   "metadata": {},
   "source": [
    "nombre_infected       880\n",
    "nombre_sain          1953\n",
    "nombre_exposed        515\n",
    "nombre_recovered    16652\n",
    "Name: 525, dtype: int64"
   ]
  },
  {
   "cell_type": "markdown",
   "id": "3af23e90",
   "metadata": {},
   "source": [
    "nombre_infected       870\n",
    "nombre_sain          1953\n",
    "nombre_exposed        515\n",
    "nombre_recovered    16662\n",
    "Name: 526, dtype: int64"
   ]
  },
  {
   "cell_type": "markdown",
   "id": "19004540",
   "metadata": {},
   "source": [
    "nombre_infected       899\n",
    "nombre_sain          1961\n",
    "nombre_exposed        501\n",
    "nombre_recovered    16639\n",
    "Name: 527, dtype: int64"
   ]
  },
  {
   "cell_type": "markdown",
   "id": "e47c1dd0",
   "metadata": {},
   "source": [
    "nombre_infected       897\n",
    "nombre_sain          1978\n",
    "nombre_exposed        505\n",
    "nombre_recovered    16620\n",
    "Name: 528, dtype: int64"
   ]
  },
  {
   "cell_type": "markdown",
   "id": "99543f52",
   "metadata": {},
   "source": [
    "nombre_infected       885\n",
    "nombre_sain          1985\n",
    "nombre_exposed        509\n",
    "nombre_recovered    16621\n",
    "Name: 529, dtype: int64"
   ]
  },
  {
   "cell_type": "markdown",
   "id": "641b9f54",
   "metadata": {},
   "source": [
    "nombre_infected       900\n",
    "nombre_sain          1984\n",
    "nombre_exposed        493\n",
    "nombre_recovered    16623\n",
    "Name: 530, dtype: int64"
   ]
  },
  {
   "cell_type": "markdown",
   "id": "47fef494",
   "metadata": {},
   "source": [
    "nombre_infected       903\n",
    "nombre_sain          1998\n",
    "nombre_exposed        483\n",
    "nombre_recovered    16616\n",
    "Name: 531, dtype: int64"
   ]
  },
  {
   "cell_type": "markdown",
   "id": "a2f1b17b",
   "metadata": {},
   "source": [
    "nombre_infected       906\n",
    "nombre_sain          1988\n",
    "nombre_exposed        511\n",
    "nombre_recovered    16595\n",
    "Name: 532, dtype: int64"
   ]
  },
  {
   "cell_type": "markdown",
   "id": "8032d89a",
   "metadata": {},
   "source": [
    "nombre_infected       901\n",
    "nombre_sain          1986\n",
    "nombre_exposed        521\n",
    "nombre_recovered    16592\n",
    "Name: 533, dtype: int64"
   ]
  },
  {
   "cell_type": "markdown",
   "id": "491ea7d7",
   "metadata": {},
   "source": [
    "nombre_infected       892\n",
    "nombre_sain          1992\n",
    "nombre_exposed        528\n",
    "nombre_recovered    16588\n",
    "Name: 534, dtype: int64"
   ]
  },
  {
   "cell_type": "markdown",
   "id": "a9ed9635",
   "metadata": {},
   "source": [
    "nombre_infected       921\n",
    "nombre_sain          2024\n",
    "nombre_exposed        504\n",
    "nombre_recovered    16551\n",
    "Name: 535, dtype: int64"
   ]
  },
  {
   "cell_type": "markdown",
   "id": "8066aec7",
   "metadata": {},
   "source": [
    "nombre_infected       909\n",
    "nombre_sain          2043\n",
    "nombre_exposed        503\n",
    "nombre_recovered    16545\n",
    "Name: 536, dtype: int64"
   ]
  },
  {
   "cell_type": "markdown",
   "id": "629a1bc0",
   "metadata": {},
   "source": [
    "nombre_infected       928\n",
    "nombre_sain          2062\n",
    "nombre_exposed        504\n",
    "nombre_recovered    16506\n",
    "Name: 537, dtype: int64"
   ]
  },
  {
   "cell_type": "markdown",
   "id": "1a986356",
   "metadata": {},
   "source": [
    "nombre_infected       930\n",
    "nombre_sain          2041\n",
    "nombre_exposed        533\n",
    "nombre_recovered    16496\n",
    "Name: 538, dtype: int64"
   ]
  },
  {
   "cell_type": "markdown",
   "id": "d7f38898",
   "metadata": {},
   "source": [
    "nombre_infected       927\n",
    "nombre_sain          2076\n",
    "nombre_exposed        522\n",
    "nombre_recovered    16475\n",
    "Name: 539, dtype: int64"
   ]
  },
  {
   "cell_type": "markdown",
   "id": "5a9f30ad",
   "metadata": {},
   "source": [
    "nombre_infected       921\n",
    "nombre_sain          2104\n",
    "nombre_exposed        529\n",
    "nombre_recovered    16446\n",
    "Name: 540, dtype: int64"
   ]
  },
  {
   "cell_type": "markdown",
   "id": "7a1fd898",
   "metadata": {},
   "source": [
    "nombre_infected       923\n",
    "nombre_sain          2115\n",
    "nombre_exposed        531\n",
    "nombre_recovered    16431\n",
    "Name: 541, dtype: int64"
   ]
  },
  {
   "cell_type": "markdown",
   "id": "4a163631",
   "metadata": {},
   "source": [
    "nombre_infected       924\n",
    "nombre_sain          2145\n",
    "nombre_exposed        552\n",
    "nombre_recovered    16379\n",
    "Name: 542, dtype: int64"
   ]
  },
  {
   "cell_type": "markdown",
   "id": "e090e649",
   "metadata": {},
   "source": [
    "nombre_infected       921\n",
    "nombre_sain          2177\n",
    "nombre_exposed        553\n",
    "nombre_recovered    16349\n",
    "Name: 543, dtype: int64"
   ]
  },
  {
   "cell_type": "markdown",
   "id": "df65b182",
   "metadata": {},
   "source": [
    "nombre_infected       917\n",
    "nombre_sain          2180\n",
    "nombre_exposed        564\n",
    "nombre_recovered    16339\n",
    "Name: 544, dtype: int64"
   ]
  },
  {
   "cell_type": "markdown",
   "id": "07a78fbd",
   "metadata": {},
   "source": [
    "nombre_infected       923\n",
    "nombre_sain          2197\n",
    "nombre_exposed        556\n",
    "nombre_recovered    16324\n",
    "Name: 545, dtype: int64"
   ]
  },
  {
   "cell_type": "markdown",
   "id": "2d51d1c4",
   "metadata": {},
   "source": [
    "nombre_infected       931\n",
    "nombre_sain          2196\n",
    "nombre_exposed        577\n",
    "nombre_recovered    16296\n",
    "Name: 546, dtype: int64"
   ]
  },
  {
   "cell_type": "markdown",
   "id": "ce396674",
   "metadata": {},
   "source": [
    "nombre_infected       932\n",
    "nombre_sain          2201\n",
    "nombre_exposed        604\n",
    "nombre_recovered    16263\n",
    "Name: 547, dtype: int64"
   ]
  },
  {
   "cell_type": "markdown",
   "id": "db35d99f",
   "metadata": {},
   "source": [
    "nombre_infected       948\n",
    "nombre_sain          2191\n",
    "nombre_exposed        603\n",
    "nombre_recovered    16258\n",
    "Name: 548, dtype: int64"
   ]
  },
  {
   "cell_type": "markdown",
   "id": "50faea7b",
   "metadata": {},
   "source": [
    "nombre_infected       940\n",
    "nombre_sain          2205\n",
    "nombre_exposed        610\n",
    "nombre_recovered    16245\n",
    "Name: 549, dtype: int64"
   ]
  },
  {
   "cell_type": "markdown",
   "id": "29b8a6cf",
   "metadata": {},
   "source": [
    "nombre_infected       964\n",
    "nombre_sain          2195\n",
    "nombre_exposed        591\n",
    "nombre_recovered    16250\n",
    "Name: 550, dtype: int64"
   ]
  },
  {
   "cell_type": "markdown",
   "id": "86c820a1",
   "metadata": {},
   "source": [
    "nombre_infected       980\n",
    "nombre_sain          2194\n",
    "nombre_exposed        588\n",
    "nombre_recovered    16238\n",
    "Name: 551, dtype: int64"
   ]
  },
  {
   "cell_type": "markdown",
   "id": "dac0611b",
   "metadata": {},
   "source": [
    "nombre_infected       969\n",
    "nombre_sain          2163\n",
    "nombre_exposed        605\n",
    "nombre_recovered    16263\n",
    "Name: 552, dtype: int64"
   ]
  },
  {
   "cell_type": "markdown",
   "id": "21d151b5",
   "metadata": {},
   "source": [
    "nombre_infected       984\n",
    "nombre_sain          2150\n",
    "nombre_exposed        598\n",
    "nombre_recovered    16268\n",
    "Name: 553, dtype: int64"
   ]
  },
  {
   "cell_type": "markdown",
   "id": "ea36bd9d",
   "metadata": {},
   "source": [
    "nombre_infected       984\n",
    "nombre_sain          2168\n",
    "nombre_exposed        578\n",
    "nombre_recovered    16270\n",
    "Name: 554, dtype: int64"
   ]
  },
  {
   "cell_type": "markdown",
   "id": "31c9516a",
   "metadata": {},
   "source": [
    "nombre_infected       980\n",
    "nombre_sain          2145\n",
    "nombre_exposed        592\n",
    "nombre_recovered    16283\n",
    "Name: 555, dtype: int64"
   ]
  },
  {
   "cell_type": "markdown",
   "id": "709009f7",
   "metadata": {},
   "source": [
    "nombre_infected       982\n",
    "nombre_sain          2138\n",
    "nombre_exposed        615\n",
    "nombre_recovered    16265\n",
    "Name: 556, dtype: int64"
   ]
  },
  {
   "cell_type": "markdown",
   "id": "439846d8",
   "metadata": {},
   "source": [
    "nombre_infected      1012\n",
    "nombre_sain          2150\n",
    "nombre_exposed        580\n",
    "nombre_recovered    16258\n",
    "Name: 557, dtype: int64"
   ]
  },
  {
   "cell_type": "markdown",
   "id": "d147d21a",
   "metadata": {},
   "source": [
    "nombre_infected      1001\n",
    "nombre_sain          2170\n",
    "nombre_exposed        571\n",
    "nombre_recovered    16258\n",
    "Name: 558, dtype: int64"
   ]
  },
  {
   "cell_type": "markdown",
   "id": "f03bbd86",
   "metadata": {},
   "source": [
    "nombre_infected      1006\n",
    "nombre_sain          2173\n",
    "nombre_exposed        561\n",
    "nombre_recovered    16260\n",
    "Name: 559, dtype: int64"
   ]
  },
  {
   "cell_type": "markdown",
   "id": "b835ec60",
   "metadata": {},
   "source": [
    "nombre_infected       984\n",
    "nombre_sain          2194\n",
    "nombre_exposed        574\n",
    "nombre_recovered    16248\n",
    "Name: 560, dtype: int64"
   ]
  },
  {
   "cell_type": "markdown",
   "id": "b774fb21",
   "metadata": {},
   "source": [
    "nombre_infected       999\n",
    "nombre_sain          2211\n",
    "nombre_exposed        580\n",
    "nombre_recovered    16210\n",
    "Name: 561, dtype: int64"
   ]
  },
  {
   "cell_type": "markdown",
   "id": "2d32a91d",
   "metadata": {},
   "source": [
    "nombre_infected       993\n",
    "nombre_sain          2201\n",
    "nombre_exposed        587\n",
    "nombre_recovered    16219\n",
    "Name: 562, dtype: int64"
   ]
  },
  {
   "cell_type": "markdown",
   "id": "3c2ea754",
   "metadata": {},
   "source": [
    "nombre_infected      1004\n",
    "nombre_sain          2203\n",
    "nombre_exposed        587\n",
    "nombre_recovered    16206\n",
    "Name: 563, dtype: int64"
   ]
  },
  {
   "cell_type": "markdown",
   "id": "905bf910",
   "metadata": {},
   "source": [
    "nombre_infected      1019\n",
    "nombre_sain          2198\n",
    "nombre_exposed        615\n",
    "nombre_recovered    16168\n",
    "Name: 564, dtype: int64"
   ]
  },
  {
   "cell_type": "markdown",
   "id": "eaf02801",
   "metadata": {},
   "source": [
    "nombre_infected      1016\n",
    "nombre_sain          2177\n",
    "nombre_exposed        626\n",
    "nombre_recovered    16181\n",
    "Name: 565, dtype: int64"
   ]
  },
  {
   "cell_type": "markdown",
   "id": "4f7084d1",
   "metadata": {},
   "source": [
    "nombre_infected      1017\n",
    "nombre_sain          2197\n",
    "nombre_exposed        618\n",
    "nombre_recovered    16168\n",
    "Name: 566, dtype: int64"
   ]
  },
  {
   "cell_type": "markdown",
   "id": "da6beb2f",
   "metadata": {},
   "source": [
    "nombre_infected      1022\n",
    "nombre_sain          2175\n",
    "nombre_exposed        625\n",
    "nombre_recovered    16178\n",
    "Name: 567, dtype: int64"
   ]
  },
  {
   "cell_type": "markdown",
   "id": "a80745ad",
   "metadata": {},
   "source": [
    "nombre_infected      1028\n",
    "nombre_sain          2152\n",
    "nombre_exposed        646\n",
    "nombre_recovered    16174\n",
    "Name: 568, dtype: int64"
   ]
  },
  {
   "cell_type": "markdown",
   "id": "dcf5ae48",
   "metadata": {},
   "source": [
    "nombre_infected      1046\n",
    "nombre_sain          2154\n",
    "nombre_exposed        620\n",
    "nombre_recovered    16180\n",
    "Name: 569, dtype: int64"
   ]
  },
  {
   "cell_type": "markdown",
   "id": "d41cce68",
   "metadata": {},
   "source": [
    "nombre_infected      1055\n",
    "nombre_sain          2164\n",
    "nombre_exposed        595\n",
    "nombre_recovered    16186\n",
    "Name: 570, dtype: int64"
   ]
  },
  {
   "cell_type": "markdown",
   "id": "6dacac9f",
   "metadata": {},
   "source": [
    "nombre_infected      1031\n",
    "nombre_sain          2125\n",
    "nombre_exposed        622\n",
    "nombre_recovered    16222\n",
    "Name: 571, dtype: int64"
   ]
  },
  {
   "cell_type": "markdown",
   "id": "4ef35d11",
   "metadata": {},
   "source": [
    "nombre_infected      1039\n",
    "nombre_sain          2122\n",
    "nombre_exposed        618\n",
    "nombre_recovered    16221\n",
    "Name: 572, dtype: int64"
   ]
  },
  {
   "cell_type": "markdown",
   "id": "3549b3e0",
   "metadata": {},
   "source": [
    "nombre_infected      1030\n",
    "nombre_sain          2114\n",
    "nombre_exposed        620\n",
    "nombre_recovered    16236\n",
    "Name: 573, dtype: int64"
   ]
  },
  {
   "cell_type": "markdown",
   "id": "6b2f09c8",
   "metadata": {},
   "source": [
    "nombre_infected      1034\n",
    "nombre_sain          2106\n",
    "nombre_exposed        618\n",
    "nombre_recovered    16242\n",
    "Name: 574, dtype: int64"
   ]
  },
  {
   "cell_type": "markdown",
   "id": "ec0ca1f4",
   "metadata": {},
   "source": [
    "nombre_infected      1063\n",
    "nombre_sain          2100\n",
    "nombre_exposed        600\n",
    "nombre_recovered    16237\n",
    "Name: 575, dtype: int64"
   ]
  },
  {
   "cell_type": "markdown",
   "id": "277594d4",
   "metadata": {},
   "source": [
    "nombre_infected      1058\n",
    "nombre_sain          2098\n",
    "nombre_exposed        610\n",
    "nombre_recovered    16234\n",
    "Name: 576, dtype: int64"
   ]
  },
  {
   "cell_type": "markdown",
   "id": "e68cd947",
   "metadata": {},
   "source": [
    "nombre_infected      1088\n",
    "nombre_sain          2050\n",
    "nombre_exposed        610\n",
    "nombre_recovered    16252\n",
    "Name: 577, dtype: int64"
   ]
  },
  {
   "cell_type": "markdown",
   "id": "3a962872",
   "metadata": {},
   "source": [
    "nombre_infected      1098\n",
    "nombre_sain          2055\n",
    "nombre_exposed        583\n",
    "nombre_recovered    16264\n",
    "Name: 578, dtype: int64"
   ]
  },
  {
   "cell_type": "markdown",
   "id": "f72e8845",
   "metadata": {},
   "source": [
    "nombre_infected      1099\n",
    "nombre_sain          2044\n",
    "nombre_exposed        591\n",
    "nombre_recovered    16266\n",
    "Name: 579, dtype: int64"
   ]
  },
  {
   "cell_type": "markdown",
   "id": "a81d82c0",
   "metadata": {},
   "source": [
    "nombre_infected      1093\n",
    "nombre_sain          2040\n",
    "nombre_exposed        590\n",
    "nombre_recovered    16277\n",
    "Name: 580, dtype: int64"
   ]
  },
  {
   "cell_type": "markdown",
   "id": "06d04205",
   "metadata": {},
   "source": [
    "nombre_infected      1061\n",
    "nombre_sain          2067\n",
    "nombre_exposed        575\n",
    "nombre_recovered    16297\n",
    "Name: 581, dtype: int64"
   ]
  },
  {
   "cell_type": "markdown",
   "id": "ada27320",
   "metadata": {},
   "source": [
    "nombre_infected      1068\n",
    "nombre_sain          2053\n",
    "nombre_exposed        577\n",
    "nombre_recovered    16302\n",
    "Name: 582, dtype: int64"
   ]
  },
  {
   "cell_type": "markdown",
   "id": "22c2262d",
   "metadata": {},
   "source": [
    "nombre_infected      1076\n",
    "nombre_sain          2051\n",
    "nombre_exposed        560\n",
    "nombre_recovered    16313\n",
    "Name: 583, dtype: int64"
   ]
  },
  {
   "cell_type": "markdown",
   "id": "e049e89e",
   "metadata": {},
   "source": [
    "nombre_infected      1066\n",
    "nombre_sain          2054\n",
    "nombre_exposed        559\n",
    "nombre_recovered    16321\n",
    "Name: 584, dtype: int64"
   ]
  },
  {
   "cell_type": "markdown",
   "id": "11468f74",
   "metadata": {},
   "source": [
    "nombre_infected      1058\n",
    "nombre_sain          2031\n",
    "nombre_exposed        570\n",
    "nombre_recovered    16341\n",
    "Name: 585, dtype: int64"
   ]
  },
  {
   "cell_type": "markdown",
   "id": "2ed4e295",
   "metadata": {},
   "source": [
    "nombre_infected      1053\n",
    "nombre_sain          2043\n",
    "nombre_exposed        585\n",
    "nombre_recovered    16319\n",
    "Name: 586, dtype: int64"
   ]
  },
  {
   "cell_type": "markdown",
   "id": "1e102096",
   "metadata": {},
   "source": [
    "nombre_infected      1053\n",
    "nombre_sain          2072\n",
    "nombre_exposed        578\n",
    "nombre_recovered    16297\n",
    "Name: 587, dtype: int64"
   ]
  },
  {
   "cell_type": "markdown",
   "id": "4d998724",
   "metadata": {},
   "source": [
    "nombre_infected      1026\n",
    "nombre_sain          2056\n",
    "nombre_exposed        589\n",
    "nombre_recovered    16329\n",
    "Name: 588, dtype: int64"
   ]
  },
  {
   "cell_type": "markdown",
   "id": "eca9c2a0",
   "metadata": {},
   "source": [
    "nombre_infected      1026\n",
    "nombre_sain          2065\n",
    "nombre_exposed        586\n",
    "nombre_recovered    16323\n",
    "Name: 589, dtype: int64"
   ]
  },
  {
   "cell_type": "markdown",
   "id": "c85470cb",
   "metadata": {},
   "source": [
    "nombre_infected      1045\n",
    "nombre_sain          2087\n",
    "nombre_exposed        575\n",
    "nombre_recovered    16293\n",
    "Name: 590, dtype: int64"
   ]
  },
  {
   "cell_type": "markdown",
   "id": "1cd93719",
   "metadata": {},
   "source": [
    "nombre_infected      1039\n",
    "nombre_sain          2059\n",
    "nombre_exposed        588\n",
    "nombre_recovered    16314\n",
    "Name: 591, dtype: int64"
   ]
  },
  {
   "cell_type": "markdown",
   "id": "4bfa0885",
   "metadata": {},
   "source": [
    "nombre_infected      1043\n",
    "nombre_sain          2043\n",
    "nombre_exposed        597\n",
    "nombre_recovered    16317\n",
    "Name: 592, dtype: int64"
   ]
  },
  {
   "cell_type": "markdown",
   "id": "d7587d37",
   "metadata": {},
   "source": [
    "nombre_infected      1040\n",
    "nombre_sain          2040\n",
    "nombre_exposed        588\n",
    "nombre_recovered    16332\n",
    "Name: 593, dtype: int64"
   ]
  },
  {
   "cell_type": "markdown",
   "id": "049e2a57",
   "metadata": {},
   "source": [
    "nombre_infected      1040\n",
    "nombre_sain          2034\n",
    "nombre_exposed        593\n",
    "nombre_recovered    16333\n",
    "Name: 594, dtype: int64"
   ]
  },
  {
   "cell_type": "markdown",
   "id": "48894840",
   "metadata": {},
   "source": [
    "nombre_infected      1042\n",
    "nombre_sain          2012\n",
    "nombre_exposed        625\n",
    "nombre_recovered    16321\n",
    "Name: 595, dtype: int64"
   ]
  },
  {
   "cell_type": "markdown",
   "id": "9e5ca78e",
   "metadata": {},
   "source": [
    "nombre_infected      1053\n",
    "nombre_sain          2014\n",
    "nombre_exposed        611\n",
    "nombre_recovered    16322\n",
    "Name: 596, dtype: int64"
   ]
  },
  {
   "cell_type": "markdown",
   "id": "c0d3be1f",
   "metadata": {},
   "source": [
    "nombre_infected      1054\n",
    "nombre_sain          2011\n",
    "nombre_exposed        600\n",
    "nombre_recovered    16335\n",
    "Name: 597, dtype: int64"
   ]
  },
  {
   "cell_type": "markdown",
   "id": "8d4d08db",
   "metadata": {},
   "source": [
    "nombre_infected      1059\n",
    "nombre_sain          2020\n",
    "nombre_exposed        598\n",
    "nombre_recovered    16323\n",
    "Name: 598, dtype: int64"
   ]
  },
  {
   "cell_type": "markdown",
   "id": "35251a92",
   "metadata": {},
   "source": [
    "nombre_infected      1054\n",
    "nombre_sain          1986\n",
    "nombre_exposed        613\n",
    "nombre_recovered    16347\n",
    "Name: 599, dtype: int64"
   ]
  },
  {
   "cell_type": "markdown",
   "id": "2caf8e83",
   "metadata": {},
   "source": [
    "nombre_infected      1058\n",
    "nombre_sain          1981\n",
    "nombre_exposed        623\n",
    "nombre_recovered    16338\n",
    "Name: 600, dtype: int64"
   ]
  },
  {
   "cell_type": "markdown",
   "id": "37133520",
   "metadata": {},
   "source": [
    "nombre_infected      1052\n",
    "nombre_sain          1951\n",
    "nombre_exposed        617\n",
    "nombre_recovered    16380\n",
    "Name: 601, dtype: int64"
   ]
  },
  {
   "cell_type": "markdown",
   "id": "2be22bcf",
   "metadata": {},
   "source": [
    "nombre_infected      1057\n",
    "nombre_sain          1941\n",
    "nombre_exposed        593\n",
    "nombre_recovered    16409\n",
    "Name: 602, dtype: int64"
   ]
  },
  {
   "cell_type": "markdown",
   "id": "f890e713",
   "metadata": {},
   "source": [
    "nombre_infected      1060\n",
    "nombre_sain          1928\n",
    "nombre_exposed        573\n",
    "nombre_recovered    16439\n",
    "Name: 603, dtype: int64"
   ]
  },
  {
   "cell_type": "markdown",
   "id": "550d242c",
   "metadata": {},
   "source": [
    "nombre_infected      1068\n",
    "nombre_sain          1924\n",
    "nombre_exposed        567\n",
    "nombre_recovered    16441\n",
    "Name: 604, dtype: int64"
   ]
  },
  {
   "cell_type": "markdown",
   "id": "b3fd6853",
   "metadata": {},
   "source": [
    "nombre_infected      1063\n",
    "nombre_sain          1951\n",
    "nombre_exposed        553\n",
    "nombre_recovered    16433\n",
    "Name: 605, dtype: int64"
   ]
  },
  {
   "cell_type": "markdown",
   "id": "02a09210",
   "metadata": {},
   "source": [
    "nombre_infected      1064\n",
    "nombre_sain          1958\n",
    "nombre_exposed        551\n",
    "nombre_recovered    16427\n",
    "Name: 606, dtype: int64"
   ]
  },
  {
   "cell_type": "markdown",
   "id": "58ed9bc7",
   "metadata": {},
   "source": [
    "nombre_infected      1063\n",
    "nombre_sain          1964\n",
    "nombre_exposed        539\n",
    "nombre_recovered    16434\n",
    "Name: 607, dtype: int64"
   ]
  },
  {
   "cell_type": "markdown",
   "id": "bf0ca020",
   "metadata": {},
   "source": [
    "nombre_infected      1063\n",
    "nombre_sain          1963\n",
    "nombre_exposed        554\n",
    "nombre_recovered    16420\n",
    "Name: 608, dtype: int64"
   ]
  },
  {
   "cell_type": "markdown",
   "id": "f68a0b60",
   "metadata": {},
   "source": [
    "nombre_infected      1020\n",
    "nombre_sain          1948\n",
    "nombre_exposed        562\n",
    "nombre_recovered    16470\n",
    "Name: 609, dtype: int64"
   ]
  },
  {
   "cell_type": "markdown",
   "id": "4eb17b75",
   "metadata": {},
   "source": [
    "nombre_infected       988\n",
    "nombre_sain          1936\n",
    "nombre_exposed        563\n",
    "nombre_recovered    16513\n",
    "Name: 610, dtype: int64"
   ]
  },
  {
   "cell_type": "markdown",
   "id": "65e33592",
   "metadata": {},
   "source": [
    "nombre_infected       970\n",
    "nombre_sain          1950\n",
    "nombre_exposed        533\n",
    "nombre_recovered    16547\n",
    "Name: 611, dtype: int64"
   ]
  },
  {
   "cell_type": "markdown",
   "id": "df6b3598",
   "metadata": {},
   "source": [
    "nombre_infected       950\n",
    "nombre_sain          1957\n",
    "nombre_exposed        534\n",
    "nombre_recovered    16559\n",
    "Name: 612, dtype: int64"
   ]
  },
  {
   "cell_type": "markdown",
   "id": "dcec9eb7",
   "metadata": {},
   "source": [
    "nombre_infected       954\n",
    "nombre_sain          1972\n",
    "nombre_exposed        522\n",
    "nombre_recovered    16552\n",
    "Name: 613, dtype: int64"
   ]
  },
  {
   "cell_type": "markdown",
   "id": "1bf31399",
   "metadata": {},
   "source": [
    "nombre_infected       952\n",
    "nombre_sain          1985\n",
    "nombre_exposed        508\n",
    "nombre_recovered    16555\n",
    "Name: 614, dtype: int64"
   ]
  },
  {
   "cell_type": "markdown",
   "id": "4d27afad",
   "metadata": {},
   "source": [
    "nombre_infected       952\n",
    "nombre_sain          1973\n",
    "nombre_exposed        517\n",
    "nombre_recovered    16558\n",
    "Name: 615, dtype: int64"
   ]
  },
  {
   "cell_type": "markdown",
   "id": "29806daa",
   "metadata": {},
   "source": [
    "nombre_infected       953\n",
    "nombre_sain          1955\n",
    "nombre_exposed        525\n",
    "nombre_recovered    16567\n",
    "Name: 616, dtype: int64"
   ]
  },
  {
   "cell_type": "markdown",
   "id": "388eae28",
   "metadata": {},
   "source": [
    "nombre_infected       937\n",
    "nombre_sain          1956\n",
    "nombre_exposed        536\n",
    "nombre_recovered    16571\n",
    "Name: 617, dtype: int64"
   ]
  },
  {
   "cell_type": "markdown",
   "id": "6c53fd99",
   "metadata": {},
   "source": [
    "nombre_infected       928\n",
    "nombre_sain          1943\n",
    "nombre_exposed        530\n",
    "nombre_recovered    16599\n",
    "Name: 618, dtype: int64"
   ]
  },
  {
   "cell_type": "markdown",
   "id": "0364457e",
   "metadata": {},
   "source": [
    "nombre_infected       915\n",
    "nombre_sain          1932\n",
    "nombre_exposed        529\n",
    "nombre_recovered    16624\n",
    "Name: 619, dtype: int64"
   ]
  },
  {
   "cell_type": "markdown",
   "id": "57ea899f",
   "metadata": {},
   "source": [
    "nombre_infected       924\n",
    "nombre_sain          1933\n",
    "nombre_exposed        514\n",
    "nombre_recovered    16629\n",
    "Name: 620, dtype: int64"
   ]
  },
  {
   "cell_type": "markdown",
   "id": "741c0d07",
   "metadata": {},
   "source": [
    "nombre_infected       911\n",
    "nombre_sain          1941\n",
    "nombre_exposed        502\n",
    "nombre_recovered    16646\n",
    "Name: 621, dtype: int64"
   ]
  },
  {
   "cell_type": "markdown",
   "id": "13afbba7",
   "metadata": {},
   "source": [
    "nombre_infected       915\n",
    "nombre_sain          1934\n",
    "nombre_exposed        503\n",
    "nombre_recovered    16648\n",
    "Name: 622, dtype: int64"
   ]
  },
  {
   "cell_type": "markdown",
   "id": "b9edc9e0",
   "metadata": {},
   "source": [
    "nombre_infected       918\n",
    "nombre_sain          1928\n",
    "nombre_exposed        506\n",
    "nombre_recovered    16648\n",
    "Name: 623, dtype: int64"
   ]
  },
  {
   "cell_type": "markdown",
   "id": "1c365629",
   "metadata": {},
   "source": [
    "nombre_infected       931\n",
    "nombre_sain          1923\n",
    "nombre_exposed        497\n",
    "nombre_recovered    16649\n",
    "Name: 624, dtype: int64"
   ]
  },
  {
   "cell_type": "markdown",
   "id": "b5ddbc84",
   "metadata": {},
   "source": [
    "nombre_infected       932\n",
    "nombre_sain          1909\n",
    "nombre_exposed        505\n",
    "nombre_recovered    16654\n",
    "Name: 625, dtype: int64"
   ]
  },
  {
   "cell_type": "markdown",
   "id": "fdca4105",
   "metadata": {},
   "source": [
    "nombre_infected       948\n",
    "nombre_sain          1900\n",
    "nombre_exposed        525\n",
    "nombre_recovered    16627\n",
    "Name: 626, dtype: int64"
   ]
  },
  {
   "cell_type": "markdown",
   "id": "99f0cfa3",
   "metadata": {},
   "source": [
    "nombre_infected       928\n",
    "nombre_sain          1886\n",
    "nombre_exposed        548\n",
    "nombre_recovered    16638\n",
    "Name: 627, dtype: int64"
   ]
  },
  {
   "cell_type": "markdown",
   "id": "30dbb481",
   "metadata": {},
   "source": [
    "nombre_infected       913\n",
    "nombre_sain          1883\n",
    "nombre_exposed        555\n",
    "nombre_recovered    16649\n",
    "Name: 628, dtype: int64"
   ]
  },
  {
   "cell_type": "markdown",
   "id": "0b736cac",
   "metadata": {},
   "source": [
    "nombre_infected       907\n",
    "nombre_sain          1871\n",
    "nombre_exposed        552\n",
    "nombre_recovered    16670\n",
    "Name: 629, dtype: int64"
   ]
  },
  {
   "cell_type": "markdown",
   "id": "3b4eb5a6",
   "metadata": {},
   "source": [
    "nombre_infected       903\n",
    "nombre_sain          1896\n",
    "nombre_exposed        556\n",
    "nombre_recovered    16645\n",
    "Name: 630, dtype: int64"
   ]
  },
  {
   "cell_type": "markdown",
   "id": "7078d966",
   "metadata": {},
   "source": [
    "nombre_infected       935\n",
    "nombre_sain          1899\n",
    "nombre_exposed        530\n",
    "nombre_recovered    16636\n",
    "Name: 631, dtype: int64"
   ]
  },
  {
   "cell_type": "markdown",
   "id": "06f7cb0f",
   "metadata": {},
   "source": [
    "nombre_infected       955\n",
    "nombre_sain          1906\n",
    "nombre_exposed        509\n",
    "nombre_recovered    16630\n",
    "Name: 632, dtype: int64"
   ]
  },
  {
   "cell_type": "markdown",
   "id": "f3728918",
   "metadata": {},
   "source": [
    "nombre_infected       947\n",
    "nombre_sain          1929\n",
    "nombre_exposed        505\n",
    "nombre_recovered    16619\n",
    "Name: 633, dtype: int64"
   ]
  },
  {
   "cell_type": "markdown",
   "id": "fb6df5aa",
   "metadata": {},
   "source": [
    "nombre_infected       929\n",
    "nombre_sain          1941\n",
    "nombre_exposed        517\n",
    "nombre_recovered    16613\n",
    "Name: 634, dtype: int64"
   ]
  },
  {
   "cell_type": "markdown",
   "id": "7594a46c",
   "metadata": {},
   "source": [
    "nombre_infected       925\n",
    "nombre_sain          1971\n",
    "nombre_exposed        515\n",
    "nombre_recovered    16589\n",
    "Name: 635, dtype: int64"
   ]
  },
  {
   "cell_type": "markdown",
   "id": "6b9d3103",
   "metadata": {},
   "source": [
    "nombre_infected       933\n",
    "nombre_sain          1969\n",
    "nombre_exposed        497\n",
    "nombre_recovered    16601\n",
    "Name: 636, dtype: int64"
   ]
  },
  {
   "cell_type": "markdown",
   "id": "dac871c2",
   "metadata": {},
   "source": [
    "nombre_infected       911\n",
    "nombre_sain          1974\n",
    "nombre_exposed        520\n",
    "nombre_recovered    16595\n",
    "Name: 637, dtype: int64"
   ]
  },
  {
   "cell_type": "markdown",
   "id": "32ea0309",
   "metadata": {},
   "source": [
    "nombre_infected       904\n",
    "nombre_sain          1980\n",
    "nombre_exposed        517\n",
    "nombre_recovered    16599\n",
    "Name: 638, dtype: int64"
   ]
  },
  {
   "cell_type": "markdown",
   "id": "2a69f353",
   "metadata": {},
   "source": [
    "nombre_infected       912\n",
    "nombre_sain          1966\n",
    "nombre_exposed        546\n",
    "nombre_recovered    16576\n",
    "Name: 639, dtype: int64"
   ]
  },
  {
   "cell_type": "markdown",
   "id": "b4efb185",
   "metadata": {},
   "source": [
    "nombre_infected       899\n",
    "nombre_sain          1980\n",
    "nombre_exposed        532\n",
    "nombre_recovered    16589\n",
    "Name: 640, dtype: int64"
   ]
  },
  {
   "cell_type": "markdown",
   "id": "5fa50baf",
   "metadata": {},
   "source": [
    "nombre_infected       904\n",
    "nombre_sain          1993\n",
    "nombre_exposed        514\n",
    "nombre_recovered    16589\n",
    "Name: 641, dtype: int64"
   ]
  },
  {
   "cell_type": "markdown",
   "id": "fbcc299e",
   "metadata": {},
   "source": [
    "nombre_infected       933\n",
    "nombre_sain          2001\n",
    "nombre_exposed        507\n",
    "nombre_recovered    16559\n",
    "Name: 642, dtype: int64"
   ]
  },
  {
   "cell_type": "markdown",
   "id": "0991e64e",
   "metadata": {},
   "source": [
    "nombre_infected       917\n",
    "nombre_sain          2027\n",
    "nombre_exposed        516\n",
    "nombre_recovered    16540\n",
    "Name: 643, dtype: int64"
   ]
  },
  {
   "cell_type": "markdown",
   "id": "3b1fae0d",
   "metadata": {},
   "source": [
    "nombre_infected       924\n",
    "nombre_sain          2039\n",
    "nombre_exposed        521\n",
    "nombre_recovered    16516\n",
    "Name: 644, dtype: int64"
   ]
  },
  {
   "cell_type": "markdown",
   "id": "82c1c4fd",
   "metadata": {},
   "source": [
    "nombre_infected       923\n",
    "nombre_sain          2043\n",
    "nombre_exposed        506\n",
    "nombre_recovered    16528\n",
    "Name: 645, dtype: int64"
   ]
  },
  {
   "cell_type": "markdown",
   "id": "cdede48d",
   "metadata": {},
   "source": [
    "nombre_infected       935\n",
    "nombre_sain          2024\n",
    "nombre_exposed        519\n",
    "nombre_recovered    16522\n",
    "Name: 646, dtype: int64"
   ]
  },
  {
   "cell_type": "markdown",
   "id": "7b366f98",
   "metadata": {},
   "source": [
    "nombre_infected       923\n",
    "nombre_sain          2030\n",
    "nombre_exposed        518\n",
    "nombre_recovered    16529\n",
    "Name: 647, dtype: int64"
   ]
  },
  {
   "cell_type": "markdown",
   "id": "384bd587",
   "metadata": {},
   "source": [
    "nombre_infected       914\n",
    "nombre_sain          2012\n",
    "nombre_exposed        533\n",
    "nombre_recovered    16541\n",
    "Name: 648, dtype: int64"
   ]
  },
  {
   "cell_type": "markdown",
   "id": "9e58b641",
   "metadata": {},
   "source": [
    "nombre_infected       910\n",
    "nombre_sain          1998\n",
    "nombre_exposed        550\n",
    "nombre_recovered    16542\n",
    "Name: 649, dtype: int64"
   ]
  },
  {
   "cell_type": "markdown",
   "id": "309cc8ee",
   "metadata": {},
   "source": [
    "nombre_infected       915\n",
    "nombre_sain          2011\n",
    "nombre_exposed        548\n",
    "nombre_recovered    16526\n",
    "Name: 650, dtype: int64"
   ]
  },
  {
   "cell_type": "markdown",
   "id": "79588516",
   "metadata": {},
   "source": [
    "nombre_infected       917\n",
    "nombre_sain          2012\n",
    "nombre_exposed        541\n",
    "nombre_recovered    16530\n",
    "Name: 651, dtype: int64"
   ]
  },
  {
   "cell_type": "markdown",
   "id": "9eee020c",
   "metadata": {},
   "source": [
    "nombre_infected       904\n",
    "nombre_sain          2017\n",
    "nombre_exposed        546\n",
    "nombre_recovered    16533\n",
    "Name: 652, dtype: int64"
   ]
  },
  {
   "cell_type": "markdown",
   "id": "919dcb5d",
   "metadata": {},
   "source": [
    "nombre_infected       894\n",
    "nombre_sain          2017\n",
    "nombre_exposed        538\n",
    "nombre_recovered    16551\n",
    "Name: 653, dtype: int64"
   ]
  },
  {
   "cell_type": "markdown",
   "id": "a34b34d6",
   "metadata": {},
   "source": [
    "nombre_infected       910\n",
    "nombre_sain          2057\n",
    "nombre_exposed        510\n",
    "nombre_recovered    16523\n",
    "Name: 654, dtype: int64"
   ]
  },
  {
   "cell_type": "markdown",
   "id": "87c5cda6",
   "metadata": {},
   "source": [
    "nombre_infected       938\n",
    "nombre_sain          2056\n",
    "nombre_exposed        479\n",
    "nombre_recovered    16527\n",
    "Name: 655, dtype: int64"
   ]
  },
  {
   "cell_type": "markdown",
   "id": "4f1edd4c",
   "metadata": {},
   "source": [
    "nombre_infected       952\n",
    "nombre_sain          2041\n",
    "nombre_exposed        477\n",
    "nombre_recovered    16530\n",
    "Name: 656, dtype: int64"
   ]
  },
  {
   "cell_type": "markdown",
   "id": "66f15803",
   "metadata": {},
   "source": [
    "nombre_infected       929\n",
    "nombre_sain          2022\n",
    "nombre_exposed        519\n",
    "nombre_recovered    16530\n",
    "Name: 657, dtype: int64"
   ]
  },
  {
   "cell_type": "markdown",
   "id": "052dd95c",
   "metadata": {},
   "source": [
    "nombre_infected       933\n",
    "nombre_sain          2036\n",
    "nombre_exposed        513\n",
    "nombre_recovered    16518\n",
    "Name: 658, dtype: int64"
   ]
  },
  {
   "cell_type": "markdown",
   "id": "8645fb61",
   "metadata": {},
   "source": [
    "nombre_infected       929\n",
    "nombre_sain          2059\n",
    "nombre_exposed        502\n",
    "nombre_recovered    16510\n",
    "Name: 659, dtype: int64"
   ]
  },
  {
   "cell_type": "markdown",
   "id": "92e3c0fc",
   "metadata": {},
   "source": [
    "nombre_infected       975\n",
    "nombre_sain          2072\n",
    "nombre_exposed        475\n",
    "nombre_recovered    16478\n",
    "Name: 660, dtype: int64"
   ]
  },
  {
   "cell_type": "markdown",
   "id": "93b4814d",
   "metadata": {},
   "source": [
    "nombre_infected       963\n",
    "nombre_sain          2069\n",
    "nombre_exposed        494\n",
    "nombre_recovered    16474\n",
    "Name: 661, dtype: int64"
   ]
  },
  {
   "cell_type": "markdown",
   "id": "53b83c19",
   "metadata": {},
   "source": [
    "nombre_infected       945\n",
    "nombre_sain          2065\n",
    "nombre_exposed        491\n",
    "nombre_recovered    16499\n",
    "Name: 662, dtype: int64"
   ]
  },
  {
   "cell_type": "markdown",
   "id": "904d18e5",
   "metadata": {},
   "source": [
    "nombre_infected       926\n",
    "nombre_sain          2056\n",
    "nombre_exposed        500\n",
    "nombre_recovered    16518\n",
    "Name: 663, dtype: int64"
   ]
  },
  {
   "cell_type": "markdown",
   "id": "b85dfae8",
   "metadata": {},
   "source": [
    "nombre_infected       930\n",
    "nombre_sain          2069\n",
    "nombre_exposed        478\n",
    "nombre_recovered    16523\n",
    "Name: 664, dtype: int64"
   ]
  },
  {
   "cell_type": "markdown",
   "id": "e5b8c724",
   "metadata": {},
   "source": [
    "nombre_infected       919\n",
    "nombre_sain          2064\n",
    "nombre_exposed        518\n",
    "nombre_recovered    16499\n",
    "Name: 665, dtype: int64"
   ]
  },
  {
   "cell_type": "markdown",
   "id": "7f7578fc",
   "metadata": {},
   "source": [
    "nombre_infected       917\n",
    "nombre_sain          2072\n",
    "nombre_exposed        513\n",
    "nombre_recovered    16498\n",
    "Name: 666, dtype: int64"
   ]
  },
  {
   "cell_type": "markdown",
   "id": "84cc4fd4",
   "metadata": {},
   "source": [
    "nombre_infected       918\n",
    "nombre_sain          2078\n",
    "nombre_exposed        525\n",
    "nombre_recovered    16479\n",
    "Name: 667, dtype: int64"
   ]
  },
  {
   "cell_type": "markdown",
   "id": "d50649bc",
   "metadata": {},
   "source": [
    "nombre_infected       895\n",
    "nombre_sain          2073\n",
    "nombre_exposed        555\n",
    "nombre_recovered    16477\n",
    "Name: 668, dtype: int64"
   ]
  },
  {
   "cell_type": "markdown",
   "id": "334f57a2",
   "metadata": {},
   "source": [
    "nombre_infected       912\n",
    "nombre_sain          2063\n",
    "nombre_exposed        546\n",
    "nombre_recovered    16479\n",
    "Name: 669, dtype: int64"
   ]
  },
  {
   "cell_type": "markdown",
   "id": "0bf93cbd",
   "metadata": {},
   "source": [
    "nombre_infected       901\n",
    "nombre_sain          2059\n",
    "nombre_exposed        552\n",
    "nombre_recovered    16488\n",
    "Name: 670, dtype: int64"
   ]
  },
  {
   "cell_type": "markdown",
   "id": "c65dd5da",
   "metadata": {},
   "source": [
    "nombre_infected       905\n",
    "nombre_sain          2076\n",
    "nombre_exposed        533\n",
    "nombre_recovered    16486\n",
    "Name: 671, dtype: int64"
   ]
  },
  {
   "cell_type": "markdown",
   "id": "ed5c55da",
   "metadata": {},
   "source": [
    "nombre_infected       910\n",
    "nombre_sain          2099\n",
    "nombre_exposed        518\n",
    "nombre_recovered    16473\n",
    "Name: 672, dtype: int64"
   ]
  },
  {
   "cell_type": "markdown",
   "id": "6a205e98",
   "metadata": {},
   "source": [
    "nombre_infected       882\n",
    "nombre_sain          2081\n",
    "nombre_exposed        537\n",
    "nombre_recovered    16500\n",
    "Name: 673, dtype: int64"
   ]
  },
  {
   "cell_type": "markdown",
   "id": "5d81d38a",
   "metadata": {},
   "source": [
    "nombre_infected       882\n",
    "nombre_sain          2071\n",
    "nombre_exposed        529\n",
    "nombre_recovered    16518\n",
    "Name: 674, dtype: int64"
   ]
  },
  {
   "cell_type": "markdown",
   "id": "0f1430dc",
   "metadata": {},
   "source": [
    "nombre_infected       892\n",
    "nombre_sain          2087\n",
    "nombre_exposed        512\n",
    "nombre_recovered    16509\n",
    "Name: 675, dtype: int64"
   ]
  },
  {
   "cell_type": "markdown",
   "id": "83710c10",
   "metadata": {},
   "source": [
    "nombre_infected       887\n",
    "nombre_sain          2109\n",
    "nombre_exposed        500\n",
    "nombre_recovered    16504\n",
    "Name: 676, dtype: int64"
   ]
  },
  {
   "cell_type": "markdown",
   "id": "311ac27f",
   "metadata": {},
   "source": [
    "nombre_infected       877\n",
    "nombre_sain          2140\n",
    "nombre_exposed        466\n",
    "nombre_recovered    16517\n",
    "Name: 677, dtype: int64"
   ]
  },
  {
   "cell_type": "markdown",
   "id": "93517bb4",
   "metadata": {},
   "source": [
    "nombre_infected       879\n",
    "nombre_sain          2155\n",
    "nombre_exposed        473\n",
    "nombre_recovered    16493\n",
    "Name: 678, dtype: int64"
   ]
  },
  {
   "cell_type": "markdown",
   "id": "49c29631",
   "metadata": {},
   "source": [
    "nombre_infected       853\n",
    "nombre_sain          2171\n",
    "nombre_exposed        474\n",
    "nombre_recovered    16502\n",
    "Name: 679, dtype: int64"
   ]
  },
  {
   "cell_type": "markdown",
   "id": "4ca0119b",
   "metadata": {},
   "source": [
    "nombre_infected       834\n",
    "nombre_sain          2191\n",
    "nombre_exposed        474\n",
    "nombre_recovered    16501\n",
    "Name: 680, dtype: int64"
   ]
  },
  {
   "cell_type": "markdown",
   "id": "98bf2039",
   "metadata": {},
   "source": [
    "nombre_infected       833\n",
    "nombre_sain          2200\n",
    "nombre_exposed        487\n",
    "nombre_recovered    16480\n",
    "Name: 681, dtype: int64"
   ]
  },
  {
   "cell_type": "markdown",
   "id": "becd0b17",
   "metadata": {},
   "source": [
    "nombre_infected       799\n",
    "nombre_sain          2220\n",
    "nombre_exposed        505\n",
    "nombre_recovered    16476\n",
    "Name: 682, dtype: int64"
   ]
  },
  {
   "cell_type": "markdown",
   "id": "7614fa88",
   "metadata": {},
   "source": [
    "nombre_infected       816\n",
    "nombre_sain          2232\n",
    "nombre_exposed        493\n",
    "nombre_recovered    16459\n",
    "Name: 683, dtype: int64"
   ]
  },
  {
   "cell_type": "markdown",
   "id": "1a1459f8",
   "metadata": {},
   "source": [
    "nombre_infected       832\n",
    "nombre_sain          2257\n",
    "nombre_exposed        475\n",
    "nombre_recovered    16436\n",
    "Name: 684, dtype: int64"
   ]
  },
  {
   "cell_type": "markdown",
   "id": "335e4604",
   "metadata": {},
   "source": [
    "nombre_infected       820\n",
    "nombre_sain          2256\n",
    "nombre_exposed        494\n",
    "nombre_recovered    16430\n",
    "Name: 685, dtype: int64"
   ]
  },
  {
   "cell_type": "markdown",
   "id": "8e0dfd0b",
   "metadata": {},
   "source": [
    "nombre_infected       833\n",
    "nombre_sain          2270\n",
    "nombre_exposed        510\n",
    "nombre_recovered    16387\n",
    "Name: 686, dtype: int64"
   ]
  },
  {
   "cell_type": "markdown",
   "id": "dd747c57",
   "metadata": {},
   "source": [
    "nombre_infected       817\n",
    "nombre_sain          2291\n",
    "nombre_exposed        528\n",
    "nombre_recovered    16364\n",
    "Name: 687, dtype: int64"
   ]
  },
  {
   "cell_type": "markdown",
   "id": "041c78c1",
   "metadata": {},
   "source": [
    "nombre_infected       849\n",
    "nombre_sain          2310\n",
    "nombre_exposed        504\n",
    "nombre_recovered    16337\n",
    "Name: 688, dtype: int64"
   ]
  },
  {
   "cell_type": "markdown",
   "id": "a3efa625",
   "metadata": {},
   "source": [
    "nombre_infected       862\n",
    "nombre_sain          2312\n",
    "nombre_exposed        509\n",
    "nombre_recovered    16317\n",
    "Name: 689, dtype: int64"
   ]
  },
  {
   "cell_type": "markdown",
   "id": "27cd96f8",
   "metadata": {},
   "source": [
    "nombre_infected       865\n",
    "nombre_sain          2332\n",
    "nombre_exposed        544\n",
    "nombre_recovered    16259\n",
    "Name: 690, dtype: int64"
   ]
  },
  {
   "cell_type": "markdown",
   "id": "06c35979",
   "metadata": {},
   "source": [
    "nombre_infected       865\n",
    "nombre_sain          2354\n",
    "nombre_exposed        528\n",
    "nombre_recovered    16253\n",
    "Name: 691, dtype: int64"
   ]
  },
  {
   "cell_type": "markdown",
   "id": "b1fcd165",
   "metadata": {},
   "source": [
    "nombre_infected       883\n",
    "nombre_sain          2371\n",
    "nombre_exposed        523\n",
    "nombre_recovered    16223\n",
    "Name: 692, dtype: int64"
   ]
  },
  {
   "cell_type": "markdown",
   "id": "d5718df7",
   "metadata": {},
   "source": [
    "nombre_infected       873\n",
    "nombre_sain          2371\n",
    "nombre_exposed        539\n",
    "nombre_recovered    16217\n",
    "Name: 693, dtype: int64"
   ]
  },
  {
   "cell_type": "markdown",
   "id": "8663c48a",
   "metadata": {},
   "source": [
    "nombre_infected       872\n",
    "nombre_sain          2349\n",
    "nombre_exposed        565\n",
    "nombre_recovered    16214\n",
    "Name: 694, dtype: int64"
   ]
  },
  {
   "cell_type": "markdown",
   "id": "06874ebe",
   "metadata": {},
   "source": [
    "nombre_infected       847\n",
    "nombre_sain          2361\n",
    "nombre_exposed        575\n",
    "nombre_recovered    16217\n",
    "Name: 695, dtype: int64"
   ]
  },
  {
   "cell_type": "markdown",
   "id": "7f902448",
   "metadata": {},
   "source": [
    "nombre_infected       836\n",
    "nombre_sain          2346\n",
    "nombre_exposed        593\n",
    "nombre_recovered    16225\n",
    "Name: 696, dtype: int64"
   ]
  },
  {
   "cell_type": "markdown",
   "id": "a020f2f9",
   "metadata": {},
   "source": [
    "nombre_infected       879\n",
    "nombre_sain          2348\n",
    "nombre_exposed        572\n",
    "nombre_recovered    16201\n",
    "Name: 697, dtype: int64"
   ]
  },
  {
   "cell_type": "markdown",
   "id": "981d8728",
   "metadata": {},
   "source": [
    "nombre_infected       888\n",
    "nombre_sain          2352\n",
    "nombre_exposed        556\n",
    "nombre_recovered    16204\n",
    "Name: 698, dtype: int64"
   ]
  },
  {
   "cell_type": "markdown",
   "id": "408847a5",
   "metadata": {},
   "source": [
    "nombre_infected       876\n",
    "nombre_sain          2370\n",
    "nombre_exposed        543\n",
    "nombre_recovered    16211\n",
    "Name: 699, dtype: int64"
   ]
  },
  {
   "cell_type": "markdown",
   "id": "298bda3f",
   "metadata": {},
   "source": [
    "nombre_infected       909\n",
    "nombre_sain          2372\n",
    "nombre_exposed        536\n",
    "nombre_recovered    16183\n",
    "Name: 700, dtype: int64"
   ]
  },
  {
   "cell_type": "markdown",
   "id": "99f71a38",
   "metadata": {},
   "source": [
    "nombre_infected       926\n",
    "nombre_sain          2360\n",
    "nombre_exposed        546\n",
    "nombre_recovered    16168\n",
    "Name: 701, dtype: int64"
   ]
  },
  {
   "cell_type": "markdown",
   "id": "21092162",
   "metadata": {},
   "source": [
    "nombre_infected       942\n",
    "nombre_sain          2343\n",
    "nombre_exposed        559\n",
    "nombre_recovered    16156\n",
    "Name: 702, dtype: int64"
   ]
  },
  {
   "cell_type": "markdown",
   "id": "e49d907f",
   "metadata": {},
   "source": [
    "nombre_infected       937\n",
    "nombre_sain          2334\n",
    "nombre_exposed        580\n",
    "nombre_recovered    16149\n",
    "Name: 703, dtype: int64"
   ]
  },
  {
   "cell_type": "markdown",
   "id": "6032be54",
   "metadata": {},
   "source": [
    "nombre_infected       944\n",
    "nombre_sain          2325\n",
    "nombre_exposed        587\n",
    "nombre_recovered    16144\n",
    "Name: 704, dtype: int64"
   ]
  },
  {
   "cell_type": "markdown",
   "id": "272fecc1",
   "metadata": {},
   "source": [
    "nombre_infected       945\n",
    "nombre_sain          2321\n",
    "nombre_exposed        604\n",
    "nombre_recovered    16130\n",
    "Name: 705, dtype: int64"
   ]
  },
  {
   "cell_type": "markdown",
   "id": "a78590d2",
   "metadata": {},
   "source": [
    "nombre_infected       946\n",
    "nombre_sain          2322\n",
    "nombre_exposed        605\n",
    "nombre_recovered    16127\n",
    "Name: 706, dtype: int64"
   ]
  },
  {
   "cell_type": "markdown",
   "id": "632c6417",
   "metadata": {},
   "source": [
    "nombre_infected       943\n",
    "nombre_sain          2305\n",
    "nombre_exposed        605\n",
    "nombre_recovered    16147\n",
    "Name: 707, dtype: int64"
   ]
  },
  {
   "cell_type": "markdown",
   "id": "f0d04bb2",
   "metadata": {},
   "source": [
    "nombre_infected       960\n",
    "nombre_sain          2277\n",
    "nombre_exposed        602\n",
    "nombre_recovered    16161\n",
    "Name: 708, dtype: int64"
   ]
  },
  {
   "cell_type": "markdown",
   "id": "aa06e57e",
   "metadata": {},
   "source": [
    "nombre_infected       950\n",
    "nombre_sain          2259\n",
    "nombre_exposed        626\n",
    "nombre_recovered    16165\n",
    "Name: 709, dtype: int64"
   ]
  },
  {
   "cell_type": "markdown",
   "id": "b40dd2a8",
   "metadata": {},
   "source": [
    "nombre_infected       970\n",
    "nombre_sain          2248\n",
    "nombre_exposed        607\n",
    "nombre_recovered    16175\n",
    "Name: 710, dtype: int64"
   ]
  },
  {
   "cell_type": "markdown",
   "id": "2547e337",
   "metadata": {},
   "source": [
    "nombre_infected       981\n",
    "nombre_sain          2265\n",
    "nombre_exposed        587\n",
    "nombre_recovered    16167\n",
    "Name: 711, dtype: int64"
   ]
  },
  {
   "cell_type": "markdown",
   "id": "d1048b11",
   "metadata": {},
   "source": [
    "nombre_infected       979\n",
    "nombre_sain          2270\n",
    "nombre_exposed        577\n",
    "nombre_recovered    16174\n",
    "Name: 712, dtype: int64"
   ]
  },
  {
   "cell_type": "markdown",
   "id": "5049a5fa",
   "metadata": {},
   "source": [
    "nombre_infected       982\n",
    "nombre_sain          2240\n",
    "nombre_exposed        586\n",
    "nombre_recovered    16192\n",
    "Name: 713, dtype: int64"
   ]
  },
  {
   "cell_type": "markdown",
   "id": "fbce41be",
   "metadata": {},
   "source": [
    "nombre_infected       963\n",
    "nombre_sain          2232\n",
    "nombre_exposed        613\n",
    "nombre_recovered    16192\n",
    "Name: 714, dtype: int64"
   ]
  },
  {
   "cell_type": "markdown",
   "id": "4bec7e51",
   "metadata": {},
   "source": [
    "nombre_infected       987\n",
    "nombre_sain          2232\n",
    "nombre_exposed        607\n",
    "nombre_recovered    16174\n",
    "Name: 715, dtype: int64"
   ]
  },
  {
   "cell_type": "markdown",
   "id": "9a3625e8",
   "metadata": {},
   "source": [
    "nombre_infected       995\n",
    "nombre_sain          2217\n",
    "nombre_exposed        592\n",
    "nombre_recovered    16196\n",
    "Name: 716, dtype: int64"
   ]
  },
  {
   "cell_type": "markdown",
   "id": "f6ba716f",
   "metadata": {},
   "source": [
    "nombre_infected       998\n",
    "nombre_sain          2216\n",
    "nombre_exposed        584\n",
    "nombre_recovered    16202\n",
    "Name: 717, dtype: int64"
   ]
  },
  {
   "cell_type": "markdown",
   "id": "df634ac6",
   "metadata": {},
   "source": [
    "nombre_infected      1019\n",
    "nombre_sain          2206\n",
    "nombre_exposed        567\n",
    "nombre_recovered    16208\n",
    "Name: 718, dtype: int64"
   ]
  },
  {
   "cell_type": "markdown",
   "id": "a25cad82",
   "metadata": {},
   "source": [
    "nombre_infected       999\n",
    "nombre_sain          2173\n",
    "nombre_exposed        592\n",
    "nombre_recovered    16236\n",
    "Name: 719, dtype: int64"
   ]
  },
  {
   "cell_type": "markdown",
   "id": "16073f6c",
   "metadata": {},
   "source": [
    "nombre_infected      1014\n",
    "nombre_sain          2144\n",
    "nombre_exposed        590\n",
    "nombre_recovered    16252\n",
    "Name: 720, dtype: int64"
   ]
  },
  {
   "cell_type": "markdown",
   "id": "614cbe6d",
   "metadata": {},
   "source": [
    "nombre_infected      1021\n",
    "nombre_sain          2136\n",
    "nombre_exposed        610\n",
    "nombre_recovered    16233\n",
    "Name: 721, dtype: int64"
   ]
  },
  {
   "cell_type": "markdown",
   "id": "260b26f9",
   "metadata": {},
   "source": [
    "nombre_infected      1047\n",
    "nombre_sain          2118\n",
    "nombre_exposed        607\n",
    "nombre_recovered    16228\n",
    "Name: 722, dtype: int64"
   ]
  },
  {
   "cell_type": "markdown",
   "id": "317aa18d",
   "metadata": {},
   "source": [
    "nombre_infected      1045\n",
    "nombre_sain          2097\n",
    "nombre_exposed        602\n",
    "nombre_recovered    16256\n",
    "Name: 723, dtype: int64"
   ]
  },
  {
   "cell_type": "markdown",
   "id": "95d4b3dd",
   "metadata": {},
   "source": [
    "nombre_infected      1025\n",
    "nombre_sain          2075\n",
    "nombre_exposed        612\n",
    "nombre_recovered    16288\n",
    "Name: 724, dtype: int64"
   ]
  },
  {
   "cell_type": "markdown",
   "id": "81520924",
   "metadata": {},
   "source": [
    "nombre_infected      1016\n",
    "nombre_sain          2073\n",
    "nombre_exposed        619\n",
    "nombre_recovered    16292\n",
    "Name: 725, dtype: int64"
   ]
  },
  {
   "cell_type": "markdown",
   "id": "7d66fc59",
   "metadata": {},
   "source": [
    "nombre_infected      1023\n",
    "nombre_sain          2076\n",
    "nombre_exposed        609\n",
    "nombre_recovered    16292\n",
    "Name: 726, dtype: int64"
   ]
  },
  {
   "cell_type": "markdown",
   "id": "0d59b911",
   "metadata": {},
   "source": [
    "nombre_infected      1015\n",
    "nombre_sain          2111\n",
    "nombre_exposed        585\n",
    "nombre_recovered    16289\n",
    "Name: 727, dtype: int64"
   ]
  },
  {
   "cell_type": "markdown",
   "id": "5fa3d9ec",
   "metadata": {},
   "source": [
    "nombre_infected      1042\n",
    "nombre_sain          2121\n",
    "nombre_exposed        559\n",
    "nombre_recovered    16278\n",
    "Name: 728, dtype: int64"
   ]
  },
  {
   "cell_type": "markdown",
   "id": "e1a922c4",
   "metadata": {},
   "source": [
    "nombre_infected      1017\n",
    "nombre_sain          2129\n",
    "nombre_exposed        548\n",
    "nombre_recovered    16306\n",
    "Name: 729, dtype: int64"
   ]
  },
  {
   "cell_type": "markdown",
   "id": "1a0897c4",
   "metadata": {},
   "source": [
    "nombre_infected      1022\n",
    "nombre_sain          2148\n",
    "nombre_exposed        553\n",
    "nombre_recovered    16277\n",
    "Name: 730, dtype: int64"
   ]
  }
 ],
 "metadata": {},
 "nbformat": 4,
 "nbformat_minor": 5
}
