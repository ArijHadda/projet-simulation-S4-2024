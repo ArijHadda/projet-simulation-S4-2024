{
 "cells": [
  {
   "cell_type": "markdown",
   "id": "bb380cf5",
   "metadata": {},
   "source": [
    "nombre_infected        20\n",
    "nombre_sain         19980\n",
    "nombre_exposed          0\n",
    "nombre_recovered        0\n",
    "Name: 0, dtype: int64"
   ]
  },
  {
   "cell_type": "markdown",
   "id": "67f4221a",
   "metadata": {},
   "source": [
    "nombre_infected        20\n",
    "nombre_sain         19963\n",
    "nombre_exposed         17\n",
    "nombre_recovered        0\n",
    "Name: 1, dtype: int64"
   ]
  },
  {
   "cell_type": "markdown",
   "id": "603099bf",
   "metadata": {},
   "source": [
    "nombre_infected         9\n",
    "nombre_sain         19956\n",
    "nombre_exposed         24\n",
    "nombre_recovered       11\n",
    "Name: 2, dtype: int64"
   ]
  },
  {
   "cell_type": "markdown",
   "id": "2351a5f4",
   "metadata": {},
   "source": [
    "nombre_infected        14\n",
    "nombre_sain         19945\n",
    "nombre_exposed         30\n",
    "nombre_recovered       11\n",
    "Name: 3, dtype: int64"
   ]
  },
  {
   "cell_type": "markdown",
   "id": "7ff9a8d9",
   "metadata": {},
   "source": [
    "nombre_infected        20\n",
    "nombre_sain         19921\n",
    "nombre_exposed         48\n",
    "nombre_recovered       11\n",
    "Name: 4, dtype: int64"
   ]
  },
  {
   "cell_type": "markdown",
   "id": "101879c3",
   "metadata": {},
   "source": [
    "nombre_infected        29\n",
    "nombre_sain         19895\n",
    "nombre_exposed         64\n",
    "nombre_recovered       12\n",
    "Name: 5, dtype: int64"
   ]
  },
  {
   "cell_type": "markdown",
   "id": "5e6c6d75",
   "metadata": {},
   "source": [
    "nombre_infected        37\n",
    "nombre_sain         19855\n",
    "nombre_exposed         95\n",
    "nombre_recovered       13\n",
    "Name: 6, dtype: int64"
   ]
  },
  {
   "cell_type": "markdown",
   "id": "65313a2f",
   "metadata": {},
   "source": [
    "nombre_infected        45\n",
    "nombre_sain         19803\n",
    "nombre_exposed        136\n",
    "nombre_recovered       16\n",
    "Name: 7, dtype: int64"
   ]
  },
  {
   "cell_type": "markdown",
   "id": "2e8cd637",
   "metadata": {},
   "source": [
    "nombre_infected        57\n",
    "nombre_sain         19732\n",
    "nombre_exposed        188\n",
    "nombre_recovered       23\n",
    "Name: 8, dtype: int64"
   ]
  },
  {
   "cell_type": "markdown",
   "id": "9c1f0610",
   "metadata": {},
   "source": [
    "nombre_infected        96\n",
    "nombre_sain         19620\n",
    "nombre_exposed        258\n",
    "nombre_recovered       26\n",
    "Name: 9, dtype: int64"
   ]
  },
  {
   "cell_type": "markdown",
   "id": "0fd4e4d2",
   "metadata": {},
   "source": [
    "nombre_infected       138\n",
    "nombre_sain         19483\n",
    "nombre_exposed        349\n",
    "nombre_recovered       30\n",
    "Name: 10, dtype: int64"
   ]
  },
  {
   "cell_type": "markdown",
   "id": "df2f9610",
   "metadata": {},
   "source": [
    "nombre_infected       175\n",
    "nombre_sain         19279\n",
    "nombre_exposed        504\n",
    "nombre_recovered       42\n",
    "Name: 11, dtype: int64"
   ]
  },
  {
   "cell_type": "markdown",
   "id": "85231ec7",
   "metadata": {},
   "source": [
    "nombre_infected       233\n",
    "nombre_sain         19020\n",
    "nombre_exposed        686\n",
    "nombre_recovered       61\n",
    "Name: 12, dtype: int64"
   ]
  },
  {
   "cell_type": "markdown",
   "id": "d4b55aa6",
   "metadata": {},
   "source": [
    "nombre_infected       337\n",
    "nombre_sain         18688\n",
    "nombre_exposed        898\n",
    "nombre_recovered       77\n",
    "Name: 13, dtype: int64"
   ]
  },
  {
   "cell_type": "markdown",
   "id": "d1864291",
   "metadata": {},
   "source": [
    "nombre_infected       482\n",
    "nombre_sain         18257\n",
    "nombre_exposed       1159\n",
    "nombre_recovered      102\n",
    "Name: 14, dtype: int64"
   ]
  },
  {
   "cell_type": "markdown",
   "id": "fe9226a8",
   "metadata": {},
   "source": [
    "nombre_infected       663\n",
    "nombre_sain         17586\n",
    "nombre_exposed       1624\n",
    "nombre_recovered      127\n",
    "Name: 15, dtype: int64"
   ]
  },
  {
   "cell_type": "markdown",
   "id": "557e65e1",
   "metadata": {},
   "source": [
    "nombre_infected       885\n",
    "nombre_sain         16756\n",
    "nombre_exposed       2175\n",
    "nombre_recovered      184\n",
    "Name: 16, dtype: int64"
   ]
  },
  {
   "cell_type": "markdown",
   "id": "04c65435",
   "metadata": {},
   "source": [
    "nombre_infected      1200\n",
    "nombre_sain         15792\n",
    "nombre_exposed       2742\n",
    "nombre_recovered      266\n",
    "Name: 17, dtype: int64"
   ]
  },
  {
   "cell_type": "markdown",
   "id": "dd29d022",
   "metadata": {},
   "source": [
    "nombre_infected      1650\n",
    "nombre_sain         14499\n",
    "nombre_exposed       3499\n",
    "nombre_recovered      352\n",
    "Name: 18, dtype: int64"
   ]
  },
  {
   "cell_type": "markdown",
   "id": "f2340937",
   "metadata": {},
   "source": [
    "nombre_infected      2141\n",
    "nombre_sain         13033\n",
    "nombre_exposed       4305\n",
    "nombre_recovered      521\n",
    "Name: 19, dtype: int64"
   ]
  },
  {
   "cell_type": "markdown",
   "id": "8143dbc0",
   "metadata": {},
   "source": [
    "nombre_infected      2778\n",
    "nombre_sain         11389\n",
    "nombre_exposed       5108\n",
    "nombre_recovered      725\n",
    "Name: 20, dtype: int64"
   ]
  },
  {
   "cell_type": "markdown",
   "id": "27bcd8fc",
   "metadata": {},
   "source": [
    "nombre_infected     3531\n",
    "nombre_sain         9587\n",
    "nombre_exposed      5914\n",
    "nombre_recovered     968\n",
    "Name: 21, dtype: int64"
   ]
  },
  {
   "cell_type": "markdown",
   "id": "4971b481",
   "metadata": {},
   "source": [
    "nombre_infected     4448\n",
    "nombre_sain         7762\n",
    "nombre_exposed      6527\n",
    "nombre_recovered    1263\n",
    "Name: 22, dtype: int64"
   ]
  },
  {
   "cell_type": "markdown",
   "id": "3785da8b",
   "metadata": {},
   "source": [
    "nombre_infected     5462\n",
    "nombre_sain         6004\n",
    "nombre_exposed      6847\n",
    "nombre_recovered    1687\n",
    "Name: 23, dtype: int64"
   ]
  },
  {
   "cell_type": "markdown",
   "id": "b67ed26e",
   "metadata": {},
   "source": [
    "nombre_infected     6439\n",
    "nombre_sain         4469\n",
    "nombre_exposed      6883\n",
    "nombre_recovered    2209\n",
    "Name: 24, dtype: int64"
   ]
  },
  {
   "cell_type": "markdown",
   "id": "bd10920d",
   "metadata": {},
   "source": [
    "nombre_infected     7314\n",
    "nombre_sain         3253\n",
    "nombre_exposed      6570\n",
    "nombre_recovered    2863\n",
    "Name: 25, dtype: int64"
   ]
  },
  {
   "cell_type": "markdown",
   "id": "dba18346",
   "metadata": {},
   "source": [
    "nombre_infected     8105\n",
    "nombre_sain         2295\n",
    "nombre_exposed      5980\n",
    "nombre_recovered    3620\n",
    "Name: 26, dtype: int64"
   ]
  },
  {
   "cell_type": "markdown",
   "id": "7fda9083",
   "metadata": {},
   "source": [
    "nombre_infected     8787\n",
    "nombre_sain         1608\n",
    "nombre_exposed      5197\n",
    "nombre_recovered    4408\n",
    "Name: 27, dtype: int64"
   ]
  },
  {
   "cell_type": "markdown",
   "id": "b0f56f0a",
   "metadata": {},
   "source": [
    "nombre_infected     9196\n",
    "nombre_sain         1118\n",
    "nombre_exposed      4394\n",
    "nombre_recovered    5292\n",
    "Name: 28, dtype: int64"
   ]
  },
  {
   "cell_type": "markdown",
   "id": "43b44781",
   "metadata": {},
   "source": [
    "nombre_infected     9313\n",
    "nombre_sain          777\n",
    "nombre_exposed      3648\n",
    "nombre_recovered    6262\n",
    "Name: 29, dtype: int64"
   ]
  },
  {
   "cell_type": "markdown",
   "id": "8b5a166f",
   "metadata": {},
   "source": [
    "nombre_infected     9221\n",
    "nombre_sain          549\n",
    "nombre_exposed      2968\n",
    "nombre_recovered    7262\n",
    "Name: 30, dtype: int64"
   ]
  },
  {
   "cell_type": "markdown",
   "id": "c3f110e0",
   "metadata": {},
   "source": [
    "nombre_infected     8982\n",
    "nombre_sain          368\n",
    "nombre_exposed      2400\n",
    "nombre_recovered    8250\n",
    "Name: 31, dtype: int64"
   ]
  },
  {
   "cell_type": "markdown",
   "id": "5531e709",
   "metadata": {},
   "source": [
    "nombre_infected     8614\n",
    "nombre_sain          284\n",
    "nombre_exposed      1869\n",
    "nombre_recovered    9233\n",
    "Name: 32, dtype: int64"
   ]
  },
  {
   "cell_type": "markdown",
   "id": "fcf02563",
   "metadata": {},
   "source": [
    "nombre_infected      8151\n",
    "nombre_sain           238\n",
    "nombre_exposed       1449\n",
    "nombre_recovered    10162\n",
    "Name: 33, dtype: int64"
   ]
  },
  {
   "cell_type": "markdown",
   "id": "57209548",
   "metadata": {},
   "source": [
    "nombre_infected      7604\n",
    "nombre_sain           213\n",
    "nombre_exposed       1136\n",
    "nombre_recovered    11047\n",
    "Name: 34, dtype: int64"
   ]
  },
  {
   "cell_type": "markdown",
   "id": "ee4ddb74",
   "metadata": {},
   "source": [
    "nombre_infected      7081\n",
    "nombre_sain           188\n",
    "nombre_exposed        936\n",
    "nombre_recovered    11795\n",
    "Name: 35, dtype: int64"
   ]
  },
  {
   "cell_type": "markdown",
   "id": "5cb22e0b",
   "metadata": {},
   "source": [
    "nombre_infected      6441\n",
    "nombre_sain           175\n",
    "nombre_exposed        782\n",
    "nombre_recovered    12602\n",
    "Name: 36, dtype: int64"
   ]
  },
  {
   "cell_type": "markdown",
   "id": "fe092450",
   "metadata": {},
   "source": [
    "nombre_infected      5830\n",
    "nombre_sain           181\n",
    "nombre_exposed        652\n",
    "nombre_recovered    13337\n",
    "Name: 37, dtype: int64"
   ]
  },
  {
   "cell_type": "markdown",
   "id": "6612097f",
   "metadata": {},
   "source": [
    "nombre_infected      5348\n",
    "nombre_sain           195\n",
    "nombre_exposed        551\n",
    "nombre_recovered    13906\n",
    "Name: 38, dtype: int64"
   ]
  },
  {
   "cell_type": "markdown",
   "id": "1df4819d",
   "metadata": {},
   "source": [
    "nombre_infected      4783\n",
    "nombre_sain           220\n",
    "nombre_exposed        468\n",
    "nombre_recovered    14529\n",
    "Name: 39, dtype: int64"
   ]
  },
  {
   "cell_type": "markdown",
   "id": "16346f5c",
   "metadata": {},
   "source": [
    "nombre_infected      4308\n",
    "nombre_sain           235\n",
    "nombre_exposed        426\n",
    "nombre_recovered    15031\n",
    "Name: 40, dtype: int64"
   ]
  },
  {
   "cell_type": "markdown",
   "id": "d9d97afe",
   "metadata": {},
   "source": [
    "nombre_infected      3868\n",
    "nombre_sain           253\n",
    "nombre_exposed        359\n",
    "nombre_recovered    15520\n",
    "Name: 41, dtype: int64"
   ]
  },
  {
   "cell_type": "markdown",
   "id": "7c5ec4b6",
   "metadata": {},
   "source": [
    "nombre_infected      3445\n",
    "nombre_sain           291\n",
    "nombre_exposed        309\n",
    "nombre_recovered    15955\n",
    "Name: 42, dtype: int64"
   ]
  },
  {
   "cell_type": "markdown",
   "id": "3ce2296e",
   "metadata": {},
   "source": [
    "nombre_infected      3088\n",
    "nombre_sain           291\n",
    "nombre_exposed        291\n",
    "nombre_recovered    16330\n",
    "Name: 43, dtype: int64"
   ]
  },
  {
   "cell_type": "markdown",
   "id": "d164bc2f",
   "metadata": {},
   "source": [
    "nombre_infected      2736\n",
    "nombre_sain           320\n",
    "nombre_exposed        275\n",
    "nombre_recovered    16669\n",
    "Name: 44, dtype: int64"
   ]
  },
  {
   "cell_type": "markdown",
   "id": "828117a9",
   "metadata": {},
   "source": [
    "nombre_infected      2431\n",
    "nombre_sain           346\n",
    "nombre_exposed        243\n",
    "nombre_recovered    16980\n",
    "Name: 45, dtype: int64"
   ]
  },
  {
   "cell_type": "markdown",
   "id": "8140f498",
   "metadata": {},
   "source": [
    "nombre_infected      2164\n",
    "nombre_sain           370\n",
    "nombre_exposed        207\n",
    "nombre_recovered    17259\n",
    "Name: 46, dtype: int64"
   ]
  },
  {
   "cell_type": "markdown",
   "id": "9c17b1b4",
   "metadata": {},
   "source": [
    "nombre_infected      1897\n",
    "nombre_sain           415\n",
    "nombre_exposed        178\n",
    "nombre_recovered    17510\n",
    "Name: 47, dtype: int64"
   ]
  },
  {
   "cell_type": "markdown",
   "id": "56bdbe59",
   "metadata": {},
   "source": [
    "nombre_infected      1710\n",
    "nombre_sain           458\n",
    "nombre_exposed        171\n",
    "nombre_recovered    17661\n",
    "Name: 48, dtype: int64"
   ]
  },
  {
   "cell_type": "markdown",
   "id": "fdf61df5",
   "metadata": {},
   "source": [
    "nombre_infected      1479\n",
    "nombre_sain           485\n",
    "nombre_exposed        172\n",
    "nombre_recovered    17864\n",
    "Name: 49, dtype: int64"
   ]
  },
  {
   "cell_type": "markdown",
   "id": "f635c53e",
   "metadata": {},
   "source": [
    "nombre_infected      1330\n",
    "nombre_sain           508\n",
    "nombre_exposed        164\n",
    "nombre_recovered    17998\n",
    "Name: 50, dtype: int64"
   ]
  },
  {
   "cell_type": "markdown",
   "id": "29c25d2d",
   "metadata": {},
   "source": [
    "nombre_infected      1230\n",
    "nombre_sain           555\n",
    "nombre_exposed        146\n",
    "nombre_recovered    18069\n",
    "Name: 51, dtype: int64"
   ]
  },
  {
   "cell_type": "markdown",
   "id": "9019d3ba",
   "metadata": {},
   "source": [
    "nombre_infected      1103\n",
    "nombre_sain           583\n",
    "nombre_exposed        141\n",
    "nombre_recovered    18173\n",
    "Name: 52, dtype: int64"
   ]
  },
  {
   "cell_type": "markdown",
   "id": "eea099e6",
   "metadata": {},
   "source": [
    "nombre_infected       985\n",
    "nombre_sain           608\n",
    "nombre_exposed        154\n",
    "nombre_recovered    18253\n",
    "Name: 53, dtype: int64"
   ]
  },
  {
   "cell_type": "markdown",
   "id": "087ab08a",
   "metadata": {},
   "source": [
    "nombre_infected       920\n",
    "nombre_sain           654\n",
    "nombre_exposed        141\n",
    "nombre_recovered    18285\n",
    "Name: 54, dtype: int64"
   ]
  },
  {
   "cell_type": "markdown",
   "id": "663cf789",
   "metadata": {},
   "source": [
    "nombre_infected       851\n",
    "nombre_sain           686\n",
    "nombre_exposed        136\n",
    "nombre_recovered    18327\n",
    "Name: 55, dtype: int64"
   ]
  },
  {
   "cell_type": "markdown",
   "id": "fc31dc91",
   "metadata": {},
   "source": [
    "nombre_infected       792\n",
    "nombre_sain           727\n",
    "nombre_exposed        138\n",
    "nombre_recovered    18343\n",
    "Name: 56, dtype: int64"
   ]
  },
  {
   "cell_type": "markdown",
   "id": "4af055ed",
   "metadata": {},
   "source": [
    "nombre_infected       735\n",
    "nombre_sain           778\n",
    "nombre_exposed        126\n",
    "nombre_recovered    18361\n",
    "Name: 57, dtype: int64"
   ]
  },
  {
   "cell_type": "markdown",
   "id": "f49d622b",
   "metadata": {},
   "source": [
    "nombre_infected       700\n",
    "nombre_sain           816\n",
    "nombre_exposed        136\n",
    "nombre_recovered    18348\n",
    "Name: 58, dtype: int64"
   ]
  },
  {
   "cell_type": "markdown",
   "id": "0abd10c4",
   "metadata": {},
   "source": [
    "nombre_infected       648\n",
    "nombre_sain           867\n",
    "nombre_exposed        132\n",
    "nombre_recovered    18353\n",
    "Name: 59, dtype: int64"
   ]
  },
  {
   "cell_type": "markdown",
   "id": "5f2002eb",
   "metadata": {},
   "source": [
    "nombre_infected       595\n",
    "nombre_sain           931\n",
    "nombre_exposed        116\n",
    "nombre_recovered    18358\n",
    "Name: 60, dtype: int64"
   ]
  },
  {
   "cell_type": "markdown",
   "id": "ffddeb91",
   "metadata": {},
   "source": [
    "nombre_infected       535\n",
    "nombre_sain           995\n",
    "nombre_exposed        120\n",
    "nombre_recovered    18350\n",
    "Name: 61, dtype: int64"
   ]
  },
  {
   "cell_type": "markdown",
   "id": "f01ff599",
   "metadata": {},
   "source": [
    "nombre_infected       486\n",
    "nombre_sain          1054\n",
    "nombre_exposed        122\n",
    "nombre_recovered    18338\n",
    "Name: 62, dtype: int64"
   ]
  },
  {
   "cell_type": "markdown",
   "id": "56c226c9",
   "metadata": {},
   "source": [
    "nombre_infected       419\n",
    "nombre_sain          1107\n",
    "nombre_exposed        117\n",
    "nombre_recovered    18357\n",
    "Name: 63, dtype: int64"
   ]
  },
  {
   "cell_type": "markdown",
   "id": "937b265f",
   "metadata": {},
   "source": [
    "nombre_infected       382\n",
    "nombre_sain          1158\n",
    "nombre_exposed        110\n",
    "nombre_recovered    18350\n",
    "Name: 64, dtype: int64"
   ]
  },
  {
   "cell_type": "markdown",
   "id": "1255411e",
   "metadata": {},
   "source": [
    "nombre_infected       333\n",
    "nombre_sain          1225\n",
    "nombre_exposed        116\n",
    "nombre_recovered    18326\n",
    "Name: 65, dtype: int64"
   ]
  },
  {
   "cell_type": "markdown",
   "id": "c6cdf946",
   "metadata": {},
   "source": [
    "nombre_infected       278\n",
    "nombre_sain          1259\n",
    "nombre_exposed        121\n",
    "nombre_recovered    18342\n",
    "Name: 66, dtype: int64"
   ]
  },
  {
   "cell_type": "markdown",
   "id": "19565493",
   "metadata": {},
   "source": [
    "nombre_infected       257\n",
    "nombre_sain          1329\n",
    "nombre_exposed        109\n",
    "nombre_recovered    18305\n",
    "Name: 67, dtype: int64"
   ]
  },
  {
   "cell_type": "markdown",
   "id": "a0f450e8",
   "metadata": {},
   "source": [
    "nombre_infected       244\n",
    "nombre_sain          1397\n",
    "nombre_exposed         95\n",
    "nombre_recovered    18264\n",
    "Name: 68, dtype: int64"
   ]
  },
  {
   "cell_type": "markdown",
   "id": "85440022",
   "metadata": {},
   "source": [
    "nombre_infected       219\n",
    "nombre_sain          1451\n",
    "nombre_exposed         95\n",
    "nombre_recovered    18235\n",
    "Name: 69, dtype: int64"
   ]
  },
  {
   "cell_type": "markdown",
   "id": "cceb40d1",
   "metadata": {},
   "source": [
    "nombre_infected       203\n",
    "nombre_sain          1512\n",
    "nombre_exposed         88\n",
    "nombre_recovered    18197\n",
    "Name: 70, dtype: int64"
   ]
  },
  {
   "cell_type": "markdown",
   "id": "5eccb3a5",
   "metadata": {},
   "source": [
    "nombre_infected       180\n",
    "nombre_sain          1580\n",
    "nombre_exposed         92\n",
    "nombre_recovered    18148\n",
    "Name: 71, dtype: int64"
   ]
  },
  {
   "cell_type": "markdown",
   "id": "c8dfc4af",
   "metadata": {},
   "source": [
    "nombre_infected       183\n",
    "nombre_sain          1639\n",
    "nombre_exposed         87\n",
    "nombre_recovered    18091\n",
    "Name: 72, dtype: int64"
   ]
  },
  {
   "cell_type": "markdown",
   "id": "5ce27469",
   "metadata": {},
   "source": [
    "nombre_infected       172\n",
    "nombre_sain          1698\n",
    "nombre_exposed         79\n",
    "nombre_recovered    18051\n",
    "Name: 73, dtype: int64"
   ]
  },
  {
   "cell_type": "markdown",
   "id": "582b5b45",
   "metadata": {},
   "source": [
    "nombre_infected       167\n",
    "nombre_sain          1780\n",
    "nombre_exposed         63\n",
    "nombre_recovered    17990\n",
    "Name: 74, dtype: int64"
   ]
  },
  {
   "cell_type": "markdown",
   "id": "99c3263e",
   "metadata": {},
   "source": [
    "nombre_infected       159\n",
    "nombre_sain          1841\n",
    "nombre_exposed         66\n",
    "nombre_recovered    17934\n",
    "Name: 75, dtype: int64"
   ]
  },
  {
   "cell_type": "markdown",
   "id": "ea0e8500",
   "metadata": {},
   "source": [
    "nombre_infected       143\n",
    "nombre_sain          1895\n",
    "nombre_exposed         74\n",
    "nombre_recovered    17888\n",
    "Name: 76, dtype: int64"
   ]
  },
  {
   "cell_type": "markdown",
   "id": "4b7af667",
   "metadata": {},
   "source": [
    "nombre_infected       135\n",
    "nombre_sain          1943\n",
    "nombre_exposed         65\n",
    "nombre_recovered    17857\n",
    "Name: 77, dtype: int64"
   ]
  },
  {
   "cell_type": "markdown",
   "id": "974015d2",
   "metadata": {},
   "source": [
    "nombre_infected       139\n",
    "nombre_sain          1993\n",
    "nombre_exposed         66\n",
    "nombre_recovered    17802\n",
    "Name: 78, dtype: int64"
   ]
  },
  {
   "cell_type": "markdown",
   "id": "00233693",
   "metadata": {},
   "source": [
    "nombre_infected       133\n",
    "nombre_sain          2059\n",
    "nombre_exposed         67\n",
    "nombre_recovered    17741\n",
    "Name: 79, dtype: int64"
   ]
  },
  {
   "cell_type": "markdown",
   "id": "955185e2",
   "metadata": {},
   "source": [
    "nombre_infected       122\n",
    "nombre_sain          2124\n",
    "nombre_exposed         65\n",
    "nombre_recovered    17689\n",
    "Name: 80, dtype: int64"
   ]
  },
  {
   "cell_type": "markdown",
   "id": "63b3a858",
   "metadata": {},
   "source": [
    "nombre_infected       130\n",
    "nombre_sain          2198\n",
    "nombre_exposed         62\n",
    "nombre_recovered    17610\n",
    "Name: 81, dtype: int64"
   ]
  },
  {
   "cell_type": "markdown",
   "id": "f2a520fa",
   "metadata": {},
   "source": [
    "nombre_infected       127\n",
    "nombre_sain          2245\n",
    "nombre_exposed         63\n",
    "nombre_recovered    17565\n",
    "Name: 82, dtype: int64"
   ]
  },
  {
   "cell_type": "markdown",
   "id": "e0fc6a3d",
   "metadata": {},
   "source": [
    "nombre_infected       129\n",
    "nombre_sain          2291\n",
    "nombre_exposed         63\n",
    "nombre_recovered    17517\n",
    "Name: 83, dtype: int64"
   ]
  },
  {
   "cell_type": "markdown",
   "id": "b8abeb13",
   "metadata": {},
   "source": [
    "nombre_infected       121\n",
    "nombre_sain          2370\n",
    "nombre_exposed         59\n",
    "nombre_recovered    17450\n",
    "Name: 84, dtype: int64"
   ]
  },
  {
   "cell_type": "markdown",
   "id": "61293e2d",
   "metadata": {},
   "source": [
    "nombre_infected       119\n",
    "nombre_sain          2430\n",
    "nombre_exposed         65\n",
    "nombre_recovered    17386\n",
    "Name: 85, dtype: int64"
   ]
  },
  {
   "cell_type": "markdown",
   "id": "904a23c0",
   "metadata": {},
   "source": [
    "nombre_infected       107\n",
    "nombre_sain          2472\n",
    "nombre_exposed         64\n",
    "nombre_recovered    17357\n",
    "Name: 86, dtype: int64"
   ]
  },
  {
   "cell_type": "markdown",
   "id": "b48e6deb",
   "metadata": {},
   "source": [
    "nombre_infected       106\n",
    "nombre_sain          2506\n",
    "nombre_exposed         71\n",
    "nombre_recovered    17317\n",
    "Name: 87, dtype: int64"
   ]
  },
  {
   "cell_type": "markdown",
   "id": "cbf1c2ba",
   "metadata": {},
   "source": [
    "nombre_infected       103\n",
    "nombre_sain          2538\n",
    "nombre_exposed         66\n",
    "nombre_recovered    17293\n",
    "Name: 88, dtype: int64"
   ]
  },
  {
   "cell_type": "markdown",
   "id": "c21d238d",
   "metadata": {},
   "source": [
    "nombre_infected        97\n",
    "nombre_sain          2569\n",
    "nombre_exposed         67\n",
    "nombre_recovered    17267\n",
    "Name: 89, dtype: int64"
   ]
  },
  {
   "cell_type": "markdown",
   "id": "10e528e7",
   "metadata": {},
   "source": [
    "nombre_infected       101\n",
    "nombre_sain          2606\n",
    "nombre_exposed         67\n",
    "nombre_recovered    17226\n",
    "Name: 90, dtype: int64"
   ]
  },
  {
   "cell_type": "markdown",
   "id": "80535f4c",
   "metadata": {},
   "source": [
    "nombre_infected        99\n",
    "nombre_sain          2635\n",
    "nombre_exposed         72\n",
    "nombre_recovered    17194\n",
    "Name: 91, dtype: int64"
   ]
  },
  {
   "cell_type": "markdown",
   "id": "30f34c53",
   "metadata": {},
   "source": [
    "nombre_infected        98\n",
    "nombre_sain          2676\n",
    "nombre_exposed         70\n",
    "nombre_recovered    17156\n",
    "Name: 92, dtype: int64"
   ]
  },
  {
   "cell_type": "markdown",
   "id": "417a756d",
   "metadata": {},
   "source": [
    "nombre_infected       110\n",
    "nombre_sain          2699\n",
    "nombre_exposed         63\n",
    "nombre_recovered    17128\n",
    "Name: 93, dtype: int64"
   ]
  },
  {
   "cell_type": "markdown",
   "id": "2b8de222",
   "metadata": {},
   "source": [
    "nombre_infected       116\n",
    "nombre_sain          2722\n",
    "nombre_exposed         67\n",
    "nombre_recovered    17095\n",
    "Name: 94, dtype: int64"
   ]
  },
  {
   "cell_type": "markdown",
   "id": "f378e400",
   "metadata": {},
   "source": [
    "nombre_infected       113\n",
    "nombre_sain          2744\n",
    "nombre_exposed         66\n",
    "nombre_recovered    17077\n",
    "Name: 95, dtype: int64"
   ]
  },
  {
   "cell_type": "markdown",
   "id": "ae5ac765",
   "metadata": {},
   "source": [
    "nombre_infected       113\n",
    "nombre_sain          2767\n",
    "nombre_exposed         65\n",
    "nombre_recovered    17055\n",
    "Name: 96, dtype: int64"
   ]
  },
  {
   "cell_type": "markdown",
   "id": "e425cfd8",
   "metadata": {},
   "source": [
    "nombre_infected       115\n",
    "nombre_sain          2795\n",
    "nombre_exposed         67\n",
    "nombre_recovered    17023\n",
    "Name: 97, dtype: int64"
   ]
  },
  {
   "cell_type": "markdown",
   "id": "3792f2df",
   "metadata": {},
   "source": [
    "nombre_infected       106\n",
    "nombre_sain          2824\n",
    "nombre_exposed         65\n",
    "nombre_recovered    17005\n",
    "Name: 98, dtype: int64"
   ]
  },
  {
   "cell_type": "markdown",
   "id": "a067e9e3",
   "metadata": {},
   "source": [
    "nombre_infected       103\n",
    "nombre_sain          2848\n",
    "nombre_exposed         65\n",
    "nombre_recovered    16984\n",
    "Name: 99, dtype: int64"
   ]
  },
  {
   "cell_type": "markdown",
   "id": "68e68160",
   "metadata": {},
   "source": [
    "nombre_infected       100\n",
    "nombre_sain          2866\n",
    "nombre_exposed         76\n",
    "nombre_recovered    16958\n",
    "Name: 100, dtype: int64"
   ]
  },
  {
   "cell_type": "markdown",
   "id": "baa2b6b9",
   "metadata": {},
   "source": [
    "nombre_infected       100\n",
    "nombre_sain          2884\n",
    "nombre_exposed         83\n",
    "nombre_recovered    16933\n",
    "Name: 101, dtype: int64"
   ]
  },
  {
   "cell_type": "markdown",
   "id": "ec160c02",
   "metadata": {},
   "source": [
    "nombre_infected       105\n",
    "nombre_sain          2904\n",
    "nombre_exposed         81\n",
    "nombre_recovered    16910\n",
    "Name: 102, dtype: int64"
   ]
  },
  {
   "cell_type": "markdown",
   "id": "3090eae4",
   "metadata": {},
   "source": [
    "nombre_infected       113\n",
    "nombre_sain          2936\n",
    "nombre_exposed         76\n",
    "nombre_recovered    16875\n",
    "Name: 103, dtype: int64"
   ]
  },
  {
   "cell_type": "markdown",
   "id": "9a200c7f",
   "metadata": {},
   "source": [
    "nombre_infected       112\n",
    "nombre_sain          2955\n",
    "nombre_exposed         88\n",
    "nombre_recovered    16845\n",
    "Name: 104, dtype: int64"
   ]
  },
  {
   "cell_type": "markdown",
   "id": "0da5739d",
   "metadata": {},
   "source": [
    "nombre_infected       109\n",
    "nombre_sain          2972\n",
    "nombre_exposed         89\n",
    "nombre_recovered    16830\n",
    "Name: 105, dtype: int64"
   ]
  },
  {
   "cell_type": "markdown",
   "id": "cdcf8069",
   "metadata": {},
   "source": [
    "nombre_infected       109\n",
    "nombre_sain          2978\n",
    "nombre_exposed         93\n",
    "nombre_recovered    16820\n",
    "Name: 106, dtype: int64"
   ]
  },
  {
   "cell_type": "markdown",
   "id": "3d9ff592",
   "metadata": {},
   "source": [
    "nombre_infected       119\n",
    "nombre_sain          2995\n",
    "nombre_exposed         83\n",
    "nombre_recovered    16803\n",
    "Name: 107, dtype: int64"
   ]
  },
  {
   "cell_type": "markdown",
   "id": "e9f1288b",
   "metadata": {},
   "source": [
    "nombre_infected       128\n",
    "nombre_sain          3011\n",
    "nombre_exposed         87\n",
    "nombre_recovered    16774\n",
    "Name: 108, dtype: int64"
   ]
  },
  {
   "cell_type": "markdown",
   "id": "a17448b1",
   "metadata": {},
   "source": [
    "nombre_infected       133\n",
    "nombre_sain          3013\n",
    "nombre_exposed         93\n",
    "nombre_recovered    16761\n",
    "Name: 109, dtype: int64"
   ]
  },
  {
   "cell_type": "markdown",
   "id": "127857fe",
   "metadata": {},
   "source": [
    "nombre_infected       122\n",
    "nombre_sain          3017\n",
    "nombre_exposed        105\n",
    "nombre_recovered    16756\n",
    "Name: 110, dtype: int64"
   ]
  },
  {
   "cell_type": "markdown",
   "id": "37aa129a",
   "metadata": {},
   "source": [
    "nombre_infected       126\n",
    "nombre_sain          3026\n",
    "nombre_exposed        111\n",
    "nombre_recovered    16737\n",
    "Name: 111, dtype: int64"
   ]
  },
  {
   "cell_type": "markdown",
   "id": "ffb245da",
   "metadata": {},
   "source": [
    "nombre_infected       133\n",
    "nombre_sain          3030\n",
    "nombre_exposed        111\n",
    "nombre_recovered    16726\n",
    "Name: 112, dtype: int64"
   ]
  },
  {
   "cell_type": "markdown",
   "id": "d78d5e04",
   "metadata": {},
   "source": [
    "nombre_infected       132\n",
    "nombre_sain          3050\n",
    "nombre_exposed        115\n",
    "nombre_recovered    16703\n",
    "Name: 113, dtype: int64"
   ]
  },
  {
   "cell_type": "markdown",
   "id": "3ae3f55c",
   "metadata": {},
   "source": [
    "nombre_infected       138\n",
    "nombre_sain          3049\n",
    "nombre_exposed        122\n",
    "nombre_recovered    16691\n",
    "Name: 114, dtype: int64"
   ]
  },
  {
   "cell_type": "markdown",
   "id": "e5a8a1a2",
   "metadata": {},
   "source": [
    "nombre_infected       146\n",
    "nombre_sain          3042\n",
    "nombre_exposed        131\n",
    "nombre_recovered    16681\n",
    "Name: 115, dtype: int64"
   ]
  },
  {
   "cell_type": "markdown",
   "id": "7436b1f2",
   "metadata": {},
   "source": [
    "nombre_infected       143\n",
    "nombre_sain          3052\n",
    "nombre_exposed        138\n",
    "nombre_recovered    16667\n",
    "Name: 116, dtype: int64"
   ]
  },
  {
   "cell_type": "markdown",
   "id": "16cc64b3",
   "metadata": {},
   "source": [
    "nombre_infected       151\n",
    "nombre_sain          3044\n",
    "nombre_exposed        155\n",
    "nombre_recovered    16650\n",
    "Name: 117, dtype: int64"
   ]
  },
  {
   "cell_type": "markdown",
   "id": "e92bfcec",
   "metadata": {},
   "source": [
    "nombre_infected       164\n",
    "nombre_sain          3050\n",
    "nombre_exposed        156\n",
    "nombre_recovered    16630\n",
    "Name: 118, dtype: int64"
   ]
  },
  {
   "cell_type": "markdown",
   "id": "8a900ce0",
   "metadata": {},
   "source": [
    "nombre_infected       176\n",
    "nombre_sain          3060\n",
    "nombre_exposed        152\n",
    "nombre_recovered    16612\n",
    "Name: 119, dtype: int64"
   ]
  },
  {
   "cell_type": "markdown",
   "id": "202c7926",
   "metadata": {},
   "source": [
    "nombre_infected       180\n",
    "nombre_sain          3075\n",
    "nombre_exposed        148\n",
    "nombre_recovered    16597\n",
    "Name: 120, dtype: int64"
   ]
  },
  {
   "cell_type": "markdown",
   "id": "64ab7ff6",
   "metadata": {},
   "source": [
    "nombre_infected       184\n",
    "nombre_sain          3089\n",
    "nombre_exposed        153\n",
    "nombre_recovered    16574\n",
    "Name: 121, dtype: int64"
   ]
  },
  {
   "cell_type": "markdown",
   "id": "0712e435",
   "metadata": {},
   "source": [
    "nombre_infected       173\n",
    "nombre_sain          3091\n",
    "nombre_exposed        167\n",
    "nombre_recovered    16569\n",
    "Name: 122, dtype: int64"
   ]
  },
  {
   "cell_type": "markdown",
   "id": "766a7f78",
   "metadata": {},
   "source": [
    "nombre_infected       175\n",
    "nombre_sain          3104\n",
    "nombre_exposed        166\n",
    "nombre_recovered    16555\n",
    "Name: 123, dtype: int64"
   ]
  },
  {
   "cell_type": "markdown",
   "id": "5449aa26",
   "metadata": {},
   "source": [
    "nombre_infected       180\n",
    "nombre_sain          3107\n",
    "nombre_exposed        171\n",
    "nombre_recovered    16542\n",
    "Name: 124, dtype: int64"
   ]
  },
  {
   "cell_type": "markdown",
   "id": "69c67c02",
   "metadata": {},
   "source": [
    "nombre_infected       191\n",
    "nombre_sain          3117\n",
    "nombre_exposed        168\n",
    "nombre_recovered    16524\n",
    "Name: 125, dtype: int64"
   ]
  },
  {
   "cell_type": "markdown",
   "id": "64dd1fcc",
   "metadata": {},
   "source": [
    "nombre_infected       213\n",
    "nombre_sain          3145\n",
    "nombre_exposed        148\n",
    "nombre_recovered    16494\n",
    "Name: 126, dtype: int64"
   ]
  },
  {
   "cell_type": "markdown",
   "id": "2903a08c",
   "metadata": {},
   "source": [
    "nombre_infected       226\n",
    "nombre_sain          3137\n",
    "nombre_exposed        159\n",
    "nombre_recovered    16478\n",
    "Name: 127, dtype: int64"
   ]
  },
  {
   "cell_type": "markdown",
   "id": "9d9a4bf9",
   "metadata": {},
   "source": [
    "nombre_infected       222\n",
    "nombre_sain          3135\n",
    "nombre_exposed        172\n",
    "nombre_recovered    16471\n",
    "Name: 128, dtype: int64"
   ]
  },
  {
   "cell_type": "markdown",
   "id": "4d4c9b2b",
   "metadata": {},
   "source": [
    "nombre_infected       216\n",
    "nombre_sain          3127\n",
    "nombre_exposed        198\n",
    "nombre_recovered    16459\n",
    "Name: 129, dtype: int64"
   ]
  },
  {
   "cell_type": "markdown",
   "id": "470e17b6",
   "metadata": {},
   "source": [
    "nombre_infected       225\n",
    "nombre_sain          3135\n",
    "nombre_exposed        203\n",
    "nombre_recovered    16437\n",
    "Name: 130, dtype: int64"
   ]
  },
  {
   "cell_type": "markdown",
   "id": "c4a79179",
   "metadata": {},
   "source": [
    "nombre_infected       229\n",
    "nombre_sain          3143\n",
    "nombre_exposed        204\n",
    "nombre_recovered    16424\n",
    "Name: 131, dtype: int64"
   ]
  },
  {
   "cell_type": "markdown",
   "id": "00b7dde0",
   "metadata": {},
   "source": [
    "nombre_infected       245\n",
    "nombre_sain          3152\n",
    "nombre_exposed        196\n",
    "nombre_recovered    16407\n",
    "Name: 132, dtype: int64"
   ]
  },
  {
   "cell_type": "markdown",
   "id": "4528382a",
   "metadata": {},
   "source": [
    "nombre_infected       250\n",
    "nombre_sain          3150\n",
    "nombre_exposed        208\n",
    "nombre_recovered    16392\n",
    "Name: 133, dtype: int64"
   ]
  },
  {
   "cell_type": "markdown",
   "id": "7aff54b6",
   "metadata": {},
   "source": [
    "nombre_infected       257\n",
    "nombre_sain          3154\n",
    "nombre_exposed        215\n",
    "nombre_recovered    16374\n",
    "Name: 134, dtype: int64"
   ]
  },
  {
   "cell_type": "markdown",
   "id": "985c270d",
   "metadata": {},
   "source": [
    "nombre_infected       252\n",
    "nombre_sain          3150\n",
    "nombre_exposed        233\n",
    "nombre_recovered    16365\n",
    "Name: 135, dtype: int64"
   ]
  },
  {
   "cell_type": "markdown",
   "id": "68bb352d",
   "metadata": {},
   "source": [
    "nombre_infected       253\n",
    "nombre_sain          3149\n",
    "nombre_exposed        229\n",
    "nombre_recovered    16369\n",
    "Name: 136, dtype: int64"
   ]
  },
  {
   "cell_type": "markdown",
   "id": "f15847ae",
   "metadata": {},
   "source": [
    "nombre_infected       263\n",
    "nombre_sain          3147\n",
    "nombre_exposed        225\n",
    "nombre_recovered    16365\n",
    "Name: 137, dtype: int64"
   ]
  },
  {
   "cell_type": "markdown",
   "id": "232bca00",
   "metadata": {},
   "source": [
    "nombre_infected       288\n",
    "nombre_sain          3143\n",
    "nombre_exposed        222\n",
    "nombre_recovered    16347\n",
    "Name: 138, dtype: int64"
   ]
  },
  {
   "cell_type": "markdown",
   "id": "6d6c8ed8",
   "metadata": {},
   "source": [
    "nombre_infected       299\n",
    "nombre_sain          3135\n",
    "nombre_exposed        227\n",
    "nombre_recovered    16339\n",
    "Name: 139, dtype: int64"
   ]
  },
  {
   "cell_type": "markdown",
   "id": "a80ca5fb",
   "metadata": {},
   "source": [
    "nombre_infected       314\n",
    "nombre_sain          3130\n",
    "nombre_exposed        236\n",
    "nombre_recovered    16320\n",
    "Name: 140, dtype: int64"
   ]
  },
  {
   "cell_type": "markdown",
   "id": "bd45e967",
   "metadata": {},
   "source": [
    "nombre_infected       328\n",
    "nombre_sain          3120\n",
    "nombre_exposed        251\n",
    "nombre_recovered    16301\n",
    "Name: 141, dtype: int64"
   ]
  },
  {
   "cell_type": "markdown",
   "id": "8f6fe5cc",
   "metadata": {},
   "source": [
    "nombre_infected       337\n",
    "nombre_sain          3114\n",
    "nombre_exposed        253\n",
    "nombre_recovered    16296\n",
    "Name: 142, dtype: int64"
   ]
  },
  {
   "cell_type": "markdown",
   "id": "a5fa3272",
   "metadata": {},
   "source": [
    "nombre_infected       347\n",
    "nombre_sain          3087\n",
    "nombre_exposed        275\n",
    "nombre_recovered    16291\n",
    "Name: 143, dtype: int64"
   ]
  },
  {
   "cell_type": "markdown",
   "id": "7ec53e7c",
   "metadata": {},
   "source": [
    "nombre_infected       354\n",
    "nombre_sain          3062\n",
    "nombre_exposed        293\n",
    "nombre_recovered    16291\n",
    "Name: 144, dtype: int64"
   ]
  },
  {
   "cell_type": "markdown",
   "id": "0accc0cd",
   "metadata": {},
   "source": [
    "nombre_infected       381\n",
    "nombre_sain          3047\n",
    "nombre_exposed        283\n",
    "nombre_recovered    16289\n",
    "Name: 145, dtype: int64"
   ]
  },
  {
   "cell_type": "markdown",
   "id": "cda48af1",
   "metadata": {},
   "source": [
    "nombre_infected       389\n",
    "nombre_sain          3021\n",
    "nombre_exposed        297\n",
    "nombre_recovered    16293\n",
    "Name: 146, dtype: int64"
   ]
  },
  {
   "cell_type": "markdown",
   "id": "f609a724",
   "metadata": {},
   "source": [
    "nombre_infected       397\n",
    "nombre_sain          2978\n",
    "nombre_exposed        319\n",
    "nombre_recovered    16306\n",
    "Name: 147, dtype: int64"
   ]
  },
  {
   "cell_type": "markdown",
   "id": "a11db00f",
   "metadata": {},
   "source": [
    "nombre_infected       412\n",
    "nombre_sain          2971\n",
    "nombre_exposed        320\n",
    "nombre_recovered    16297\n",
    "Name: 148, dtype: int64"
   ]
  },
  {
   "cell_type": "markdown",
   "id": "6f5a67c8",
   "metadata": {},
   "source": [
    "nombre_infected       434\n",
    "nombre_sain          2973\n",
    "nombre_exposed        319\n",
    "nombre_recovered    16274\n",
    "Name: 149, dtype: int64"
   ]
  },
  {
   "cell_type": "markdown",
   "id": "8021b576",
   "metadata": {},
   "source": [
    "nombre_infected       438\n",
    "nombre_sain          2950\n",
    "nombre_exposed        335\n",
    "nombre_recovered    16277\n",
    "Name: 150, dtype: int64"
   ]
  },
  {
   "cell_type": "markdown",
   "id": "fa262cba",
   "metadata": {},
   "source": [
    "nombre_infected       445\n",
    "nombre_sain          2947\n",
    "nombre_exposed        343\n",
    "nombre_recovered    16265\n",
    "Name: 151, dtype: int64"
   ]
  },
  {
   "cell_type": "markdown",
   "id": "b08de840",
   "metadata": {},
   "source": [
    "nombre_infected       439\n",
    "nombre_sain          2934\n",
    "nombre_exposed        381\n",
    "nombre_recovered    16246\n",
    "Name: 152, dtype: int64"
   ]
  },
  {
   "cell_type": "markdown",
   "id": "30fd1541",
   "metadata": {},
   "source": [
    "nombre_infected       476\n",
    "nombre_sain          2935\n",
    "nombre_exposed        363\n",
    "nombre_recovered    16226\n",
    "Name: 153, dtype: int64"
   ]
  },
  {
   "cell_type": "markdown",
   "id": "891cb49e",
   "metadata": {},
   "source": [
    "nombre_infected       500\n",
    "nombre_sain          2906\n",
    "nombre_exposed        375\n",
    "nombre_recovered    16219\n",
    "Name: 154, dtype: int64"
   ]
  },
  {
   "cell_type": "markdown",
   "id": "fd3d87f2",
   "metadata": {},
   "source": [
    "nombre_infected       515\n",
    "nombre_sain          2880\n",
    "nombre_exposed        391\n",
    "nombre_recovered    16214\n",
    "Name: 155, dtype: int64"
   ]
  },
  {
   "cell_type": "markdown",
   "id": "c6ca4ebe",
   "metadata": {},
   "source": [
    "nombre_infected       536\n",
    "nombre_sain          2857\n",
    "nombre_exposed        381\n",
    "nombre_recovered    16226\n",
    "Name: 156, dtype: int64"
   ]
  },
  {
   "cell_type": "markdown",
   "id": "28741f40",
   "metadata": {},
   "source": [
    "nombre_infected       543\n",
    "nombre_sain          2825\n",
    "nombre_exposed        410\n",
    "nombre_recovered    16222\n",
    "Name: 157, dtype: int64"
   ]
  },
  {
   "cell_type": "markdown",
   "id": "a00e5a01",
   "metadata": {},
   "source": [
    "nombre_infected       557\n",
    "nombre_sain          2789\n",
    "nombre_exposed        408\n",
    "nombre_recovered    16246\n",
    "Name: 158, dtype: int64"
   ]
  },
  {
   "cell_type": "markdown",
   "id": "db9af74a",
   "metadata": {},
   "source": [
    "nombre_infected       591\n",
    "nombre_sain          2754\n",
    "nombre_exposed        404\n",
    "nombre_recovered    16251\n",
    "Name: 159, dtype: int64"
   ]
  },
  {
   "cell_type": "markdown",
   "id": "de3519e4",
   "metadata": {},
   "source": [
    "nombre_infected       599\n",
    "nombre_sain          2726\n",
    "nombre_exposed        411\n",
    "nombre_recovered    16264\n",
    "Name: 160, dtype: int64"
   ]
  },
  {
   "cell_type": "markdown",
   "id": "5fab0779",
   "metadata": {},
   "source": [
    "nombre_infected       619\n",
    "nombre_sain          2669\n",
    "nombre_exposed        410\n",
    "nombre_recovered    16302\n",
    "Name: 161, dtype: int64"
   ]
  },
  {
   "cell_type": "markdown",
   "id": "7def3935",
   "metadata": {},
   "source": [
    "nombre_infected       627\n",
    "nombre_sain          2642\n",
    "nombre_exposed        421\n",
    "nombre_recovered    16310\n",
    "Name: 162, dtype: int64"
   ]
  },
  {
   "cell_type": "markdown",
   "id": "9f613d19",
   "metadata": {},
   "source": [
    "nombre_infected       641\n",
    "nombre_sain          2611\n",
    "nombre_exposed        434\n",
    "nombre_recovered    16314\n",
    "Name: 163, dtype: int64"
   ]
  },
  {
   "cell_type": "markdown",
   "id": "572272e9",
   "metadata": {},
   "source": [
    "nombre_infected       637\n",
    "nombre_sain          2602\n",
    "nombre_exposed        425\n",
    "nombre_recovered    16336\n",
    "Name: 164, dtype: int64"
   ]
  },
  {
   "cell_type": "markdown",
   "id": "c53d6540",
   "metadata": {},
   "source": [
    "nombre_infected       664\n",
    "nombre_sain          2546\n",
    "nombre_exposed        437\n",
    "nombre_recovered    16353\n",
    "Name: 165, dtype: int64"
   ]
  },
  {
   "cell_type": "markdown",
   "id": "f78fe6bb",
   "metadata": {},
   "source": [
    "nombre_infected       687\n",
    "nombre_sain          2528\n",
    "nombre_exposed        449\n",
    "nombre_recovered    16336\n",
    "Name: 166, dtype: int64"
   ]
  },
  {
   "cell_type": "markdown",
   "id": "2500c2be",
   "metadata": {},
   "source": [
    "nombre_infected       686\n",
    "nombre_sain          2482\n",
    "nombre_exposed        478\n",
    "nombre_recovered    16354\n",
    "Name: 167, dtype: int64"
   ]
  },
  {
   "cell_type": "markdown",
   "id": "21e09a5c",
   "metadata": {},
   "source": [
    "nombre_infected       700\n",
    "nombre_sain          2429\n",
    "nombre_exposed        504\n",
    "nombre_recovered    16367\n",
    "Name: 168, dtype: int64"
   ]
  },
  {
   "cell_type": "markdown",
   "id": "96b6d04e",
   "metadata": {},
   "source": [
    "nombre_infected       756\n",
    "nombre_sain          2411\n",
    "nombre_exposed        498\n",
    "nombre_recovered    16335\n",
    "Name: 169, dtype: int64"
   ]
  },
  {
   "cell_type": "markdown",
   "id": "758d6f95",
   "metadata": {},
   "source": [
    "nombre_infected       806\n",
    "nombre_sain          2389\n",
    "nombre_exposed        469\n",
    "nombre_recovered    16336\n",
    "Name: 170, dtype: int64"
   ]
  },
  {
   "cell_type": "markdown",
   "id": "67f49972",
   "metadata": {},
   "source": [
    "nombre_infected       808\n",
    "nombre_sain          2353\n",
    "nombre_exposed        482\n",
    "nombre_recovered    16357\n",
    "Name: 171, dtype: int64"
   ]
  },
  {
   "cell_type": "markdown",
   "id": "e762fba3",
   "metadata": {},
   "source": [
    "nombre_infected       796\n",
    "nombre_sain          2326\n",
    "nombre_exposed        476\n",
    "nombre_recovered    16402\n",
    "Name: 172, dtype: int64"
   ]
  },
  {
   "cell_type": "markdown",
   "id": "ff81f2d9",
   "metadata": {},
   "source": [
    "nombre_infected       806\n",
    "nombre_sain          2266\n",
    "nombre_exposed        508\n",
    "nombre_recovered    16420\n",
    "Name: 173, dtype: int64"
   ]
  },
  {
   "cell_type": "markdown",
   "id": "868d6ba4",
   "metadata": {},
   "source": [
    "nombre_infected       807\n",
    "nombre_sain          2229\n",
    "nombre_exposed        506\n",
    "nombre_recovered    16458\n",
    "Name: 174, dtype: int64"
   ]
  },
  {
   "cell_type": "markdown",
   "id": "55b6c945",
   "metadata": {},
   "source": [
    "nombre_infected       805\n",
    "nombre_sain          2208\n",
    "nombre_exposed        505\n",
    "nombre_recovered    16482\n",
    "Name: 175, dtype: int64"
   ]
  },
  {
   "cell_type": "markdown",
   "id": "ee7ac05d",
   "metadata": {},
   "source": [
    "nombre_infected       828\n",
    "nombre_sain          2194\n",
    "nombre_exposed        488\n",
    "nombre_recovered    16490\n",
    "Name: 176, dtype: int64"
   ]
  },
  {
   "cell_type": "markdown",
   "id": "cde899a0",
   "metadata": {},
   "source": [
    "nombre_infected       839\n",
    "nombre_sain          2157\n",
    "nombre_exposed        511\n",
    "nombre_recovered    16493\n",
    "Name: 177, dtype: int64"
   ]
  },
  {
   "cell_type": "markdown",
   "id": "d0810f40",
   "metadata": {},
   "source": [
    "nombre_infected       845\n",
    "nombre_sain          2110\n",
    "nombre_exposed        531\n",
    "nombre_recovered    16514\n",
    "Name: 178, dtype: int64"
   ]
  },
  {
   "cell_type": "markdown",
   "id": "fde2dd05",
   "metadata": {},
   "source": [
    "nombre_infected       848\n",
    "nombre_sain          2087\n",
    "nombre_exposed        519\n",
    "nombre_recovered    16546\n",
    "Name: 179, dtype: int64"
   ]
  },
  {
   "cell_type": "markdown",
   "id": "0fb6ffb1",
   "metadata": {},
   "source": [
    "nombre_infected       882\n",
    "nombre_sain          2061\n",
    "nombre_exposed        507\n",
    "nombre_recovered    16550\n",
    "Name: 180, dtype: int64"
   ]
  },
  {
   "cell_type": "markdown",
   "id": "fa7c2033",
   "metadata": {},
   "source": [
    "nombre_infected       921\n",
    "nombre_sain          2014\n",
    "nombre_exposed        495\n",
    "nombre_recovered    16570\n",
    "Name: 181, dtype: int64"
   ]
  },
  {
   "cell_type": "markdown",
   "id": "8dc645ea",
   "metadata": {},
   "source": [
    "nombre_infected       917\n",
    "nombre_sain          1983\n",
    "nombre_exposed        501\n",
    "nombre_recovered    16599\n",
    "Name: 182, dtype: int64"
   ]
  },
  {
   "cell_type": "markdown",
   "id": "747046c5",
   "metadata": {},
   "source": [
    "nombre_infected       913\n",
    "nombre_sain          1973\n",
    "nombre_exposed        487\n",
    "nombre_recovered    16627\n",
    "Name: 183, dtype: int64"
   ]
  },
  {
   "cell_type": "markdown",
   "id": "a2de934f",
   "metadata": {},
   "source": [
    "nombre_infected       941\n",
    "nombre_sain          1983\n",
    "nombre_exposed        461\n",
    "nombre_recovered    16615\n",
    "Name: 184, dtype: int64"
   ]
  },
  {
   "cell_type": "markdown",
   "id": "893e866b",
   "metadata": {},
   "source": [
    "nombre_infected       926\n",
    "nombre_sain          1973\n",
    "nombre_exposed        465\n",
    "nombre_recovered    16636\n",
    "Name: 185, dtype: int64"
   ]
  },
  {
   "cell_type": "markdown",
   "id": "9f3d4d29",
   "metadata": {},
   "source": [
    "nombre_infected       922\n",
    "nombre_sain          1970\n",
    "nombre_exposed        459\n",
    "nombre_recovered    16649\n",
    "Name: 186, dtype: int64"
   ]
  },
  {
   "cell_type": "markdown",
   "id": "c688f17c",
   "metadata": {},
   "source": [
    "nombre_infected       916\n",
    "nombre_sain          1959\n",
    "nombre_exposed        479\n",
    "nombre_recovered    16646\n",
    "Name: 187, dtype: int64"
   ]
  },
  {
   "cell_type": "markdown",
   "id": "f18ded8f",
   "metadata": {},
   "source": [
    "nombre_infected       899\n",
    "nombre_sain          1934\n",
    "nombre_exposed        499\n",
    "nombre_recovered    16668\n",
    "Name: 188, dtype: int64"
   ]
  },
  {
   "cell_type": "markdown",
   "id": "71424b30",
   "metadata": {},
   "source": [
    "nombre_infected       879\n",
    "nombre_sain          1966\n",
    "nombre_exposed        495\n",
    "nombre_recovered    16660\n",
    "Name: 189, dtype: int64"
   ]
  },
  {
   "cell_type": "markdown",
   "id": "cf01b4fa",
   "metadata": {},
   "source": [
    "nombre_infected       875\n",
    "nombre_sain          1977\n",
    "nombre_exposed        494\n",
    "nombre_recovered    16654\n",
    "Name: 190, dtype: int64"
   ]
  },
  {
   "cell_type": "markdown",
   "id": "52617c4e",
   "metadata": {},
   "source": [
    "nombre_infected       856\n",
    "nombre_sain          1984\n",
    "nombre_exposed        480\n",
    "nombre_recovered    16680\n",
    "Name: 191, dtype: int64"
   ]
  },
  {
   "cell_type": "markdown",
   "id": "985fc596",
   "metadata": {},
   "source": [
    "nombre_infected       832\n",
    "nombre_sain          2016\n",
    "nombre_exposed        471\n",
    "nombre_recovered    16681\n",
    "Name: 192, dtype: int64"
   ]
  },
  {
   "cell_type": "markdown",
   "id": "618978c6",
   "metadata": {},
   "source": [
    "nombre_infected       829\n",
    "nombre_sain          2031\n",
    "nombre_exposed        449\n",
    "nombre_recovered    16691\n",
    "Name: 193, dtype: int64"
   ]
  },
  {
   "cell_type": "markdown",
   "id": "acf1fe21",
   "metadata": {},
   "source": [
    "nombre_infected       820\n",
    "nombre_sain          2053\n",
    "nombre_exposed        441\n",
    "nombre_recovered    16686\n",
    "Name: 194, dtype: int64"
   ]
  },
  {
   "cell_type": "markdown",
   "id": "fd6ad63f",
   "metadata": {},
   "source": [
    "nombre_infected       812\n",
    "nombre_sain          2093\n",
    "nombre_exposed        422\n",
    "nombre_recovered    16673\n",
    "Name: 195, dtype: int64"
   ]
  },
  {
   "cell_type": "markdown",
   "id": "0c18bae0",
   "metadata": {},
   "source": [
    "nombre_infected       796\n",
    "nombre_sain          2113\n",
    "nombre_exposed        428\n",
    "nombre_recovered    16663\n",
    "Name: 196, dtype: int64"
   ]
  },
  {
   "cell_type": "markdown",
   "id": "83d84505",
   "metadata": {},
   "source": [
    "nombre_infected       777\n",
    "nombre_sain          2156\n",
    "nombre_exposed        405\n",
    "nombre_recovered    16662\n",
    "Name: 197, dtype: int64"
   ]
  },
  {
   "cell_type": "markdown",
   "id": "39c16b4d",
   "metadata": {},
   "source": [
    "nombre_infected       761\n",
    "nombre_sain          2163\n",
    "nombre_exposed        425\n",
    "nombre_recovered    16651\n",
    "Name: 198, dtype: int64"
   ]
  },
  {
   "cell_type": "markdown",
   "id": "def9ea0e",
   "metadata": {},
   "source": [
    "nombre_infected       739\n",
    "nombre_sain          2159\n",
    "nombre_exposed        439\n",
    "nombre_recovered    16663\n",
    "Name: 199, dtype: int64"
   ]
  },
  {
   "cell_type": "markdown",
   "id": "10e58ce6",
   "metadata": {},
   "source": [
    "nombre_infected       729\n",
    "nombre_sain          2180\n",
    "nombre_exposed        430\n",
    "nombre_recovered    16661\n",
    "Name: 200, dtype: int64"
   ]
  },
  {
   "cell_type": "markdown",
   "id": "99ef1037",
   "metadata": {},
   "source": [
    "nombre_infected       738\n",
    "nombre_sain          2202\n",
    "nombre_exposed        420\n",
    "nombre_recovered    16640\n",
    "Name: 201, dtype: int64"
   ]
  },
  {
   "cell_type": "markdown",
   "id": "f3f922bc",
   "metadata": {},
   "source": [
    "nombre_infected       731\n",
    "nombre_sain          2217\n",
    "nombre_exposed        414\n",
    "nombre_recovered    16638\n",
    "Name: 202, dtype: int64"
   ]
  },
  {
   "cell_type": "markdown",
   "id": "3fa1fb41",
   "metadata": {},
   "source": [
    "nombre_infected       723\n",
    "nombre_sain          2232\n",
    "nombre_exposed        421\n",
    "nombre_recovered    16624\n",
    "Name: 203, dtype: int64"
   ]
  },
  {
   "cell_type": "markdown",
   "id": "2b6ce456",
   "metadata": {},
   "source": [
    "nombre_infected       709\n",
    "nombre_sain          2234\n",
    "nombre_exposed        441\n",
    "nombre_recovered    16616\n",
    "Name: 204, dtype: int64"
   ]
  },
  {
   "cell_type": "markdown",
   "id": "75a7ab0f",
   "metadata": {},
   "source": [
    "nombre_infected       721\n",
    "nombre_sain          2236\n",
    "nombre_exposed        434\n",
    "nombre_recovered    16609\n",
    "Name: 205, dtype: int64"
   ]
  },
  {
   "cell_type": "markdown",
   "id": "539ae324",
   "metadata": {},
   "source": [
    "nombre_infected       725\n",
    "nombre_sain          2224\n",
    "nombre_exposed        440\n",
    "nombre_recovered    16611\n",
    "Name: 206, dtype: int64"
   ]
  },
  {
   "cell_type": "markdown",
   "id": "c003185b",
   "metadata": {},
   "source": [
    "nombre_infected       722\n",
    "nombre_sain          2219\n",
    "nombre_exposed        443\n",
    "nombre_recovered    16616\n",
    "Name: 207, dtype: int64"
   ]
  },
  {
   "cell_type": "markdown",
   "id": "e281a758",
   "metadata": {},
   "source": [
    "nombre_infected       717\n",
    "nombre_sain          2225\n",
    "nombre_exposed        440\n",
    "nombre_recovered    16618\n",
    "Name: 208, dtype: int64"
   ]
  },
  {
   "cell_type": "markdown",
   "id": "840866b2",
   "metadata": {},
   "source": [
    "nombre_infected       709\n",
    "nombre_sain          2224\n",
    "nombre_exposed        452\n",
    "nombre_recovered    16615\n",
    "Name: 209, dtype: int64"
   ]
  },
  {
   "cell_type": "markdown",
   "id": "d2564a39",
   "metadata": {},
   "source": [
    "nombre_infected       723\n",
    "nombre_sain          2222\n",
    "nombre_exposed        453\n",
    "nombre_recovered    16602\n",
    "Name: 210, dtype: int64"
   ]
  },
  {
   "cell_type": "markdown",
   "id": "30261fcb",
   "metadata": {},
   "source": [
    "nombre_infected       736\n",
    "nombre_sain          2224\n",
    "nombre_exposed        452\n",
    "nombre_recovered    16588\n",
    "Name: 211, dtype: int64"
   ]
  },
  {
   "cell_type": "markdown",
   "id": "3a986d36",
   "metadata": {},
   "source": [
    "nombre_infected       733\n",
    "nombre_sain          2229\n",
    "nombre_exposed        450\n",
    "nombre_recovered    16588\n",
    "Name: 212, dtype: int64"
   ]
  },
  {
   "cell_type": "markdown",
   "id": "e40a66e7",
   "metadata": {},
   "source": [
    "nombre_infected       724\n",
    "nombre_sain          2222\n",
    "nombre_exposed        455\n",
    "nombre_recovered    16599\n",
    "Name: 213, dtype: int64"
   ]
  },
  {
   "cell_type": "markdown",
   "id": "a2cd0356",
   "metadata": {},
   "source": [
    "nombre_infected       745\n",
    "nombre_sain          2211\n",
    "nombre_exposed        458\n",
    "nombre_recovered    16586\n",
    "Name: 214, dtype: int64"
   ]
  },
  {
   "cell_type": "markdown",
   "id": "d9cebefe",
   "metadata": {},
   "source": [
    "nombre_infected       769\n",
    "nombre_sain          2212\n",
    "nombre_exposed        430\n",
    "nombre_recovered    16589\n",
    "Name: 215, dtype: int64"
   ]
  },
  {
   "cell_type": "markdown",
   "id": "85aabd97",
   "metadata": {},
   "source": [
    "nombre_infected       769\n",
    "nombre_sain          2209\n",
    "nombre_exposed        433\n",
    "nombre_recovered    16589\n",
    "Name: 216, dtype: int64"
   ]
  },
  {
   "cell_type": "markdown",
   "id": "8d491b4c",
   "metadata": {},
   "source": [
    "nombre_infected       780\n",
    "nombre_sain          2212\n",
    "nombre_exposed        416\n",
    "nombre_recovered    16592\n",
    "Name: 217, dtype: int64"
   ]
  },
  {
   "cell_type": "markdown",
   "id": "5076b27f",
   "metadata": {},
   "source": [
    "nombre_infected       764\n",
    "nombre_sain          2196\n",
    "nombre_exposed        428\n",
    "nombre_recovered    16612\n",
    "Name: 218, dtype: int64"
   ]
  },
  {
   "cell_type": "markdown",
   "id": "69197130",
   "metadata": {},
   "source": [
    "nombre_infected       768\n",
    "nombre_sain          2206\n",
    "nombre_exposed        417\n",
    "nombre_recovered    16609\n",
    "Name: 219, dtype: int64"
   ]
  },
  {
   "cell_type": "markdown",
   "id": "f8c07bd1",
   "metadata": {},
   "source": [
    "nombre_infected       761\n",
    "nombre_sain          2208\n",
    "nombre_exposed        419\n",
    "nombre_recovered    16612\n",
    "Name: 220, dtype: int64"
   ]
  },
  {
   "cell_type": "markdown",
   "id": "c286cada",
   "metadata": {},
   "source": [
    "nombre_infected       751\n",
    "nombre_sain          2191\n",
    "nombre_exposed        439\n",
    "nombre_recovered    16619\n",
    "Name: 221, dtype: int64"
   ]
  },
  {
   "cell_type": "markdown",
   "id": "77dc0ca5",
   "metadata": {},
   "source": [
    "nombre_infected       739\n",
    "nombre_sain          2180\n",
    "nombre_exposed        454\n",
    "nombre_recovered    16627\n",
    "Name: 222, dtype: int64"
   ]
  },
  {
   "cell_type": "markdown",
   "id": "00a7648c",
   "metadata": {},
   "source": [
    "nombre_infected       746\n",
    "nombre_sain          2188\n",
    "nombre_exposed        433\n",
    "nombre_recovered    16633\n",
    "Name: 223, dtype: int64"
   ]
  },
  {
   "cell_type": "markdown",
   "id": "765de5b6",
   "metadata": {},
   "source": [
    "nombre_infected       742\n",
    "nombre_sain          2192\n",
    "nombre_exposed        413\n",
    "nombre_recovered    16653\n",
    "Name: 224, dtype: int64"
   ]
  },
  {
   "cell_type": "markdown",
   "id": "dd2c7ee0",
   "metadata": {},
   "source": [
    "nombre_infected       741\n",
    "nombre_sain          2211\n",
    "nombre_exposed        401\n",
    "nombre_recovered    16647\n",
    "Name: 225, dtype: int64"
   ]
  },
  {
   "cell_type": "markdown",
   "id": "a0264b00",
   "metadata": {},
   "source": [
    "nombre_infected       759\n",
    "nombre_sain          2217\n",
    "nombre_exposed        399\n",
    "nombre_recovered    16625\n",
    "Name: 226, dtype: int64"
   ]
  },
  {
   "cell_type": "markdown",
   "id": "dbe2bb95",
   "metadata": {},
   "source": [
    "nombre_infected       747\n",
    "nombre_sain          2246\n",
    "nombre_exposed        406\n",
    "nombre_recovered    16601\n",
    "Name: 227, dtype: int64"
   ]
  },
  {
   "cell_type": "markdown",
   "id": "f3e859df",
   "metadata": {},
   "source": [
    "nombre_infected       743\n",
    "nombre_sain          2256\n",
    "nombre_exposed        424\n",
    "nombre_recovered    16577\n",
    "Name: 228, dtype: int64"
   ]
  },
  {
   "cell_type": "markdown",
   "id": "8454d84e",
   "metadata": {},
   "source": [
    "nombre_infected       755\n",
    "nombre_sain          2268\n",
    "nombre_exposed        438\n",
    "nombre_recovered    16539\n",
    "Name: 229, dtype: int64"
   ]
  },
  {
   "cell_type": "markdown",
   "id": "4e6d0008",
   "metadata": {},
   "source": [
    "nombre_infected       786\n",
    "nombre_sain          2267\n",
    "nombre_exposed        437\n",
    "nombre_recovered    16510\n",
    "Name: 230, dtype: int64"
   ]
  },
  {
   "cell_type": "markdown",
   "id": "ec928860",
   "metadata": {},
   "source": [
    "nombre_infected       774\n",
    "nombre_sain          2282\n",
    "nombre_exposed        449\n",
    "nombre_recovered    16495\n",
    "Name: 231, dtype: int64"
   ]
  },
  {
   "cell_type": "markdown",
   "id": "15db42b9",
   "metadata": {},
   "source": [
    "nombre_infected       767\n",
    "nombre_sain          2315\n",
    "nombre_exposed        450\n",
    "nombre_recovered    16468\n",
    "Name: 232, dtype: int64"
   ]
  },
  {
   "cell_type": "markdown",
   "id": "fd09996d",
   "metadata": {},
   "source": [
    "nombre_infected       753\n",
    "nombre_sain          2343\n",
    "nombre_exposed        439\n",
    "nombre_recovered    16465\n",
    "Name: 233, dtype: int64"
   ]
  },
  {
   "cell_type": "markdown",
   "id": "e18a1b62",
   "metadata": {},
   "source": [
    "nombre_infected       744\n",
    "nombre_sain          2355\n",
    "nombre_exposed        446\n",
    "nombre_recovered    16455\n",
    "Name: 234, dtype: int64"
   ]
  },
  {
   "cell_type": "markdown",
   "id": "2438d699",
   "metadata": {},
   "source": [
    "nombre_infected       763\n",
    "nombre_sain          2353\n",
    "nombre_exposed        439\n",
    "nombre_recovered    16445\n",
    "Name: 235, dtype: int64"
   ]
  },
  {
   "cell_type": "markdown",
   "id": "8377d646",
   "metadata": {},
   "source": [
    "nombre_infected       775\n",
    "nombre_sain          2351\n",
    "nombre_exposed        444\n",
    "nombre_recovered    16430\n",
    "Name: 236, dtype: int64"
   ]
  },
  {
   "cell_type": "markdown",
   "id": "a4da0a51",
   "metadata": {},
   "source": [
    "nombre_infected       778\n",
    "nombre_sain          2326\n",
    "nombre_exposed        469\n",
    "nombre_recovered    16427\n",
    "Name: 237, dtype: int64"
   ]
  },
  {
   "cell_type": "markdown",
   "id": "6aca38df",
   "metadata": {},
   "source": [
    "nombre_infected       795\n",
    "nombre_sain          2327\n",
    "nombre_exposed        459\n",
    "nombre_recovered    16419\n",
    "Name: 238, dtype: int64"
   ]
  },
  {
   "cell_type": "markdown",
   "id": "de11e295",
   "metadata": {},
   "source": [
    "nombre_infected       827\n",
    "nombre_sain          2311\n",
    "nombre_exposed        457\n",
    "nombre_recovered    16405\n",
    "Name: 239, dtype: int64"
   ]
  },
  {
   "cell_type": "markdown",
   "id": "a6a3afbb",
   "metadata": {},
   "source": [
    "nombre_infected       857\n",
    "nombre_sain          2291\n",
    "nombre_exposed        465\n",
    "nombre_recovered    16387\n",
    "Name: 240, dtype: int64"
   ]
  },
  {
   "cell_type": "markdown",
   "id": "aac45a3e",
   "metadata": {},
   "source": [
    "nombre_infected       844\n",
    "nombre_sain          2282\n",
    "nombre_exposed        487\n",
    "nombre_recovered    16387\n",
    "Name: 241, dtype: int64"
   ]
  },
  {
   "cell_type": "markdown",
   "id": "f47c868a",
   "metadata": {},
   "source": [
    "nombre_infected       843\n",
    "nombre_sain          2281\n",
    "nombre_exposed        493\n",
    "nombre_recovered    16383\n",
    "Name: 242, dtype: int64"
   ]
  },
  {
   "cell_type": "markdown",
   "id": "14fd5c9e",
   "metadata": {},
   "source": [
    "nombre_infected       851\n",
    "nombre_sain          2244\n",
    "nombre_exposed        513\n",
    "nombre_recovered    16392\n",
    "Name: 243, dtype: int64"
   ]
  },
  {
   "cell_type": "markdown",
   "id": "5546d612",
   "metadata": {},
   "source": [
    "nombre_infected       875\n",
    "nombre_sain          2247\n",
    "nombre_exposed        498\n",
    "nombre_recovered    16380\n",
    "Name: 244, dtype: int64"
   ]
  },
  {
   "cell_type": "markdown",
   "id": "e3857dda",
   "metadata": {},
   "source": [
    "nombre_infected       899\n",
    "nombre_sain          2228\n",
    "nombre_exposed        501\n",
    "nombre_recovered    16372\n",
    "Name: 245, dtype: int64"
   ]
  },
  {
   "cell_type": "markdown",
   "id": "98d4d663",
   "metadata": {},
   "source": [
    "nombre_infected       902\n",
    "nombre_sain          2205\n",
    "nombre_exposed        527\n",
    "nombre_recovered    16366\n",
    "Name: 246, dtype: int64"
   ]
  },
  {
   "cell_type": "markdown",
   "id": "bff2db38",
   "metadata": {},
   "source": [
    "nombre_infected       913\n",
    "nombre_sain          2172\n",
    "nombre_exposed        539\n",
    "nombre_recovered    16376\n",
    "Name: 247, dtype: int64"
   ]
  },
  {
   "cell_type": "markdown",
   "id": "849bac42",
   "metadata": {},
   "source": [
    "nombre_infected       916\n",
    "nombre_sain          2168\n",
    "nombre_exposed        532\n",
    "nombre_recovered    16384\n",
    "Name: 248, dtype: int64"
   ]
  },
  {
   "cell_type": "markdown",
   "id": "6015e053",
   "metadata": {},
   "source": [
    "nombre_infected       940\n",
    "nombre_sain          2142\n",
    "nombre_exposed        522\n",
    "nombre_recovered    16396\n",
    "Name: 249, dtype: int64"
   ]
  },
  {
   "cell_type": "markdown",
   "id": "014c19f9",
   "metadata": {},
   "source": [
    "nombre_infected       968\n",
    "nombre_sain          2101\n",
    "nombre_exposed        527\n",
    "nombre_recovered    16404\n",
    "Name: 250, dtype: int64"
   ]
  },
  {
   "cell_type": "markdown",
   "id": "43b853b4",
   "metadata": {},
   "source": [
    "nombre_infected       969\n",
    "nombre_sain          2076\n",
    "nombre_exposed        544\n",
    "nombre_recovered    16411\n",
    "Name: 251, dtype: int64"
   ]
  },
  {
   "cell_type": "markdown",
   "id": "65a85a2a",
   "metadata": {},
   "source": [
    "nombre_infected       970\n",
    "nombre_sain          2052\n",
    "nombre_exposed        553\n",
    "nombre_recovered    16425\n",
    "Name: 252, dtype: int64"
   ]
  },
  {
   "cell_type": "markdown",
   "id": "d3e202cc",
   "metadata": {},
   "source": [
    "nombre_infected       974\n",
    "nombre_sain          2017\n",
    "nombre_exposed        550\n",
    "nombre_recovered    16459\n",
    "Name: 253, dtype: int64"
   ]
  },
  {
   "cell_type": "markdown",
   "id": "3c2608f3",
   "metadata": {},
   "source": [
    "nombre_infected       997\n",
    "nombre_sain          2009\n",
    "nombre_exposed        542\n",
    "nombre_recovered    16452\n",
    "Name: 254, dtype: int64"
   ]
  },
  {
   "cell_type": "markdown",
   "id": "912a62b8",
   "metadata": {},
   "source": [
    "nombre_infected      1017\n",
    "nombre_sain          1980\n",
    "nombre_exposed        543\n",
    "nombre_recovered    16460\n",
    "Name: 255, dtype: int64"
   ]
  },
  {
   "cell_type": "markdown",
   "id": "81ffa12a",
   "metadata": {},
   "source": [
    "nombre_infected      1016\n",
    "nombre_sain          1979\n",
    "nombre_exposed        536\n",
    "nombre_recovered    16469\n",
    "Name: 256, dtype: int64"
   ]
  },
  {
   "cell_type": "markdown",
   "id": "7ee8a704",
   "metadata": {},
   "source": [
    "nombre_infected      1005\n",
    "nombre_sain          1960\n",
    "nombre_exposed        534\n",
    "nombre_recovered    16501\n",
    "Name: 257, dtype: int64"
   ]
  },
  {
   "cell_type": "markdown",
   "id": "a9cdd630",
   "metadata": {},
   "source": [
    "nombre_infected      1011\n",
    "nombre_sain          1958\n",
    "nombre_exposed        512\n",
    "nombre_recovered    16519\n",
    "Name: 258, dtype: int64"
   ]
  },
  {
   "cell_type": "markdown",
   "id": "50eb89bf",
   "metadata": {},
   "source": [
    "nombre_infected       998\n",
    "nombre_sain          1943\n",
    "nombre_exposed        504\n",
    "nombre_recovered    16555\n",
    "Name: 259, dtype: int64"
   ]
  },
  {
   "cell_type": "markdown",
   "id": "93273ca0",
   "metadata": {},
   "source": [
    "nombre_infected       963\n",
    "nombre_sain          1935\n",
    "nombre_exposed        519\n",
    "nombre_recovered    16583\n",
    "Name: 260, dtype: int64"
   ]
  },
  {
   "cell_type": "markdown",
   "id": "36751839",
   "metadata": {},
   "source": [
    "nombre_infected       974\n",
    "nombre_sain          1918\n",
    "nombre_exposed        508\n",
    "nombre_recovered    16600\n",
    "Name: 261, dtype: int64"
   ]
  },
  {
   "cell_type": "markdown",
   "id": "42d43286",
   "metadata": {},
   "source": [
    "nombre_infected       974\n",
    "nombre_sain          1904\n",
    "nombre_exposed        485\n",
    "nombre_recovered    16637\n",
    "Name: 262, dtype: int64"
   ]
  },
  {
   "cell_type": "markdown",
   "id": "0af718ae",
   "metadata": {},
   "source": [
    "nombre_infected       950\n",
    "nombre_sain          1909\n",
    "nombre_exposed        468\n",
    "nombre_recovered    16673\n",
    "Name: 263, dtype: int64"
   ]
  },
  {
   "cell_type": "markdown",
   "id": "fe62a35f",
   "metadata": {},
   "source": [
    "nombre_infected       931\n",
    "nombre_sain          1931\n",
    "nombre_exposed        446\n",
    "nombre_recovered    16692\n",
    "Name: 264, dtype: int64"
   ]
  },
  {
   "cell_type": "markdown",
   "id": "c2ac3f9a",
   "metadata": {},
   "source": [
    "nombre_infected       901\n",
    "nombre_sain          1943\n",
    "nombre_exposed        444\n",
    "nombre_recovered    16712\n",
    "Name: 265, dtype: int64"
   ]
  },
  {
   "cell_type": "markdown",
   "id": "d4828d9e",
   "metadata": {},
   "source": [
    "nombre_infected       872\n",
    "nombre_sain          1937\n",
    "nombre_exposed        450\n",
    "nombre_recovered    16741\n",
    "Name: 266, dtype: int64"
   ]
  },
  {
   "cell_type": "markdown",
   "id": "f53ebc37",
   "metadata": {},
   "source": [
    "nombre_infected       858\n",
    "nombre_sain          1914\n",
    "nombre_exposed        459\n",
    "nombre_recovered    16769\n",
    "Name: 267, dtype: int64"
   ]
  },
  {
   "cell_type": "markdown",
   "id": "76b3bb37",
   "metadata": {},
   "source": [
    "nombre_infected       834\n",
    "nombre_sain          1899\n",
    "nombre_exposed        449\n",
    "nombre_recovered    16818\n",
    "Name: 268, dtype: int64"
   ]
  },
  {
   "cell_type": "markdown",
   "id": "4b1a8301",
   "metadata": {},
   "source": [
    "nombre_infected       821\n",
    "nombre_sain          1902\n",
    "nombre_exposed        448\n",
    "nombre_recovered    16829\n",
    "Name: 269, dtype: int64"
   ]
  },
  {
   "cell_type": "markdown",
   "id": "76bdc199",
   "metadata": {},
   "source": [
    "nombre_infected       816\n",
    "nombre_sain          1911\n",
    "nombre_exposed        437\n",
    "nombre_recovered    16836\n",
    "Name: 270, dtype: int64"
   ]
  },
  {
   "cell_type": "markdown",
   "id": "f7691e25",
   "metadata": {},
   "source": [
    "nombre_infected       775\n",
    "nombre_sain          1925\n",
    "nombre_exposed        440\n",
    "nombre_recovered    16860\n",
    "Name: 271, dtype: int64"
   ]
  },
  {
   "cell_type": "markdown",
   "id": "7c3a9796",
   "metadata": {},
   "source": [
    "nombre_infected       771\n",
    "nombre_sain          1951\n",
    "nombre_exposed        419\n",
    "nombre_recovered    16859\n",
    "Name: 272, dtype: int64"
   ]
  },
  {
   "cell_type": "markdown",
   "id": "8fa97a09",
   "metadata": {},
   "source": [
    "nombre_infected       774\n",
    "nombre_sain          1960\n",
    "nombre_exposed        414\n",
    "nombre_recovered    16852\n",
    "Name: 273, dtype: int64"
   ]
  },
  {
   "cell_type": "markdown",
   "id": "df3f0e71",
   "metadata": {},
   "source": [
    "nombre_infected       747\n",
    "nombre_sain          1967\n",
    "nombre_exposed        425\n",
    "nombre_recovered    16861\n",
    "Name: 274, dtype: int64"
   ]
  },
  {
   "cell_type": "markdown",
   "id": "5295189f",
   "metadata": {},
   "source": [
    "nombre_infected       736\n",
    "nombre_sain          2014\n",
    "nombre_exposed        429\n",
    "nombre_recovered    16821\n",
    "Name: 275, dtype: int64"
   ]
  },
  {
   "cell_type": "markdown",
   "id": "ed9fc1ec",
   "metadata": {},
   "source": [
    "nombre_infected       738\n",
    "nombre_sain          2024\n",
    "nombre_exposed        424\n",
    "nombre_recovered    16814\n",
    "Name: 276, dtype: int64"
   ]
  },
  {
   "cell_type": "markdown",
   "id": "9eb33c5d",
   "metadata": {},
   "source": [
    "nombre_infected       750\n",
    "nombre_sain          2017\n",
    "nombre_exposed        421\n",
    "nombre_recovered    16812\n",
    "Name: 277, dtype: int64"
   ]
  },
  {
   "cell_type": "markdown",
   "id": "addeb13e",
   "metadata": {},
   "source": [
    "nombre_infected       752\n",
    "nombre_sain          2005\n",
    "nombre_exposed        445\n",
    "nombre_recovered    16798\n",
    "Name: 278, dtype: int64"
   ]
  },
  {
   "cell_type": "markdown",
   "id": "66d83aa2",
   "metadata": {},
   "source": [
    "nombre_infected       741\n",
    "nombre_sain          2010\n",
    "nombre_exposed        435\n",
    "nombre_recovered    16814\n",
    "Name: 279, dtype: int64"
   ]
  },
  {
   "cell_type": "markdown",
   "id": "274ac84d",
   "metadata": {},
   "source": [
    "nombre_infected       734\n",
    "nombre_sain          2034\n",
    "nombre_exposed        421\n",
    "nombre_recovered    16811\n",
    "Name: 280, dtype: int64"
   ]
  },
  {
   "cell_type": "markdown",
   "id": "408fd204",
   "metadata": {},
   "source": [
    "nombre_infected       728\n",
    "nombre_sain          2029\n",
    "nombre_exposed        426\n",
    "nombre_recovered    16817\n",
    "Name: 281, dtype: int64"
   ]
  },
  {
   "cell_type": "markdown",
   "id": "273ae2f3",
   "metadata": {},
   "source": [
    "nombre_infected       736\n",
    "nombre_sain          2053\n",
    "nombre_exposed        406\n",
    "nombre_recovered    16805\n",
    "Name: 282, dtype: int64"
   ]
  },
  {
   "cell_type": "markdown",
   "id": "621b17f4",
   "metadata": {},
   "source": [
    "nombre_infected       718\n",
    "nombre_sain          2057\n",
    "nombre_exposed        417\n",
    "nombre_recovered    16808\n",
    "Name: 283, dtype: int64"
   ]
  },
  {
   "cell_type": "markdown",
   "id": "859f12bd",
   "metadata": {},
   "source": [
    "nombre_infected       705\n",
    "nombre_sain          2052\n",
    "nombre_exposed        418\n",
    "nombre_recovered    16825\n",
    "Name: 284, dtype: int64"
   ]
  },
  {
   "cell_type": "markdown",
   "id": "179b8a54",
   "metadata": {},
   "source": [
    "nombre_infected       711\n",
    "nombre_sain          2056\n",
    "nombre_exposed        399\n",
    "nombre_recovered    16834\n",
    "Name: 285, dtype: int64"
   ]
  },
  {
   "cell_type": "markdown",
   "id": "a2fee471",
   "metadata": {},
   "source": [
    "nombre_infected       722\n",
    "nombre_sain          2059\n",
    "nombre_exposed        390\n",
    "nombre_recovered    16829\n",
    "Name: 286, dtype: int64"
   ]
  },
  {
   "cell_type": "markdown",
   "id": "4b2c3b1e",
   "metadata": {},
   "source": [
    "nombre_infected       707\n",
    "nombre_sain          2032\n",
    "nombre_exposed        424\n",
    "nombre_recovered    16837\n",
    "Name: 287, dtype: int64"
   ]
  },
  {
   "cell_type": "markdown",
   "id": "c3b9502f",
   "metadata": {},
   "source": [
    "nombre_infected       706\n",
    "nombre_sain          2037\n",
    "nombre_exposed        420\n",
    "nombre_recovered    16837\n",
    "Name: 288, dtype: int64"
   ]
  },
  {
   "cell_type": "markdown",
   "id": "c0f23348",
   "metadata": {},
   "source": [
    "nombre_infected       730\n",
    "nombre_sain          2070\n",
    "nombre_exposed        376\n",
    "nombre_recovered    16824\n",
    "Name: 289, dtype: int64"
   ]
  },
  {
   "cell_type": "markdown",
   "id": "dc83b028",
   "metadata": {},
   "source": [
    "nombre_infected       725\n",
    "nombre_sain          2119\n",
    "nombre_exposed        363\n",
    "nombre_recovered    16793\n",
    "Name: 290, dtype: int64"
   ]
  },
  {
   "cell_type": "markdown",
   "id": "7b7df7cc",
   "metadata": {},
   "source": [
    "nombre_infected       709\n",
    "nombre_sain          2108\n",
    "nombre_exposed        369\n",
    "nombre_recovered    16814\n",
    "Name: 291, dtype: int64"
   ]
  },
  {
   "cell_type": "markdown",
   "id": "a4d17081",
   "metadata": {},
   "source": [
    "nombre_infected       702\n",
    "nombre_sain          2118\n",
    "nombre_exposed        373\n",
    "nombre_recovered    16807\n",
    "Name: 292, dtype: int64"
   ]
  },
  {
   "cell_type": "markdown",
   "id": "ee0a4545",
   "metadata": {},
   "source": [
    "nombre_infected       678\n",
    "nombre_sain          2127\n",
    "nombre_exposed        392\n",
    "nombre_recovered    16803\n",
    "Name: 293, dtype: int64"
   ]
  },
  {
   "cell_type": "markdown",
   "id": "867e18e4",
   "metadata": {},
   "source": [
    "nombre_infected       665\n",
    "nombre_sain          2137\n",
    "nombre_exposed        407\n",
    "nombre_recovered    16791\n",
    "Name: 294, dtype: int64"
   ]
  },
  {
   "cell_type": "markdown",
   "id": "67ebdf8f",
   "metadata": {},
   "source": [
    "nombre_infected       672\n",
    "nombre_sain          2155\n",
    "nombre_exposed        388\n",
    "nombre_recovered    16785\n",
    "Name: 295, dtype: int64"
   ]
  },
  {
   "cell_type": "markdown",
   "id": "92a5b643",
   "metadata": {},
   "source": [
    "nombre_infected       678\n",
    "nombre_sain          2171\n",
    "nombre_exposed        388\n",
    "nombre_recovered    16763\n",
    "Name: 296, dtype: int64"
   ]
  },
  {
   "cell_type": "markdown",
   "id": "64657eb8",
   "metadata": {},
   "source": [
    "nombre_infected       676\n",
    "nombre_sain          2165\n",
    "nombre_exposed        385\n",
    "nombre_recovered    16774\n",
    "Name: 297, dtype: int64"
   ]
  },
  {
   "cell_type": "markdown",
   "id": "83b7401f",
   "metadata": {},
   "source": [
    "nombre_infected       659\n",
    "nombre_sain          2177\n",
    "nombre_exposed        390\n",
    "nombre_recovered    16774\n",
    "Name: 298, dtype: int64"
   ]
  },
  {
   "cell_type": "markdown",
   "id": "d2aefe28",
   "metadata": {},
   "source": [
    "nombre_infected       642\n",
    "nombre_sain          2202\n",
    "nombre_exposed        400\n",
    "nombre_recovered    16756\n",
    "Name: 299, dtype: int64"
   ]
  },
  {
   "cell_type": "markdown",
   "id": "5a599011",
   "metadata": {},
   "source": [
    "nombre_infected       658\n",
    "nombre_sain          2228\n",
    "nombre_exposed        380\n",
    "nombre_recovered    16734\n",
    "Name: 300, dtype: int64"
   ]
  },
  {
   "cell_type": "markdown",
   "id": "22910379",
   "metadata": {},
   "source": [
    "nombre_infected       659\n",
    "nombre_sain          2261\n",
    "nombre_exposed        379\n",
    "nombre_recovered    16701\n",
    "Name: 301, dtype: int64"
   ]
  },
  {
   "cell_type": "markdown",
   "id": "820aac0f",
   "metadata": {},
   "source": [
    "nombre_infected       652\n",
    "nombre_sain          2253\n",
    "nombre_exposed        411\n",
    "nombre_recovered    16684\n",
    "Name: 302, dtype: int64"
   ]
  },
  {
   "cell_type": "markdown",
   "id": "b8466597",
   "metadata": {},
   "source": [
    "nombre_infected       665\n",
    "nombre_sain          2251\n",
    "nombre_exposed        412\n",
    "nombre_recovered    16672\n",
    "Name: 303, dtype: int64"
   ]
  },
  {
   "cell_type": "markdown",
   "id": "965d7b06",
   "metadata": {},
   "source": [
    "nombre_infected       665\n",
    "nombre_sain          2247\n",
    "nombre_exposed        415\n",
    "nombre_recovered    16673\n",
    "Name: 304, dtype: int64"
   ]
  },
  {
   "cell_type": "markdown",
   "id": "af40884e",
   "metadata": {},
   "source": [
    "nombre_infected       700\n",
    "nombre_sain          2254\n",
    "nombre_exposed        397\n",
    "nombre_recovered    16649\n",
    "Name: 305, dtype: int64"
   ]
  },
  {
   "cell_type": "markdown",
   "id": "98e9730e",
   "metadata": {},
   "source": [
    "nombre_infected       683\n",
    "nombre_sain          2271\n",
    "nombre_exposed        399\n",
    "nombre_recovered    16647\n",
    "Name: 306, dtype: int64"
   ]
  },
  {
   "cell_type": "markdown",
   "id": "7b283c44",
   "metadata": {},
   "source": [
    "nombre_infected       669\n",
    "nombre_sain          2243\n",
    "nombre_exposed        406\n",
    "nombre_recovered    16682\n",
    "Name: 307, dtype: int64"
   ]
  },
  {
   "cell_type": "markdown",
   "id": "c25a46e5",
   "metadata": {},
   "source": [
    "nombre_infected       675\n",
    "nombre_sain          2262\n",
    "nombre_exposed        408\n",
    "nombre_recovered    16655\n",
    "Name: 308, dtype: int64"
   ]
  },
  {
   "cell_type": "markdown",
   "id": "163611f0",
   "metadata": {},
   "source": [
    "nombre_infected       687\n",
    "nombre_sain          2266\n",
    "nombre_exposed        408\n",
    "nombre_recovered    16639\n",
    "Name: 309, dtype: int64"
   ]
  },
  {
   "cell_type": "markdown",
   "id": "9cac0407",
   "metadata": {},
   "source": [
    "nombre_infected       674\n",
    "nombre_sain          2239\n",
    "nombre_exposed        441\n",
    "nombre_recovered    16646\n",
    "Name: 310, dtype: int64"
   ]
  },
  {
   "cell_type": "markdown",
   "id": "51b244fe",
   "metadata": {},
   "source": [
    "nombre_infected       667\n",
    "nombre_sain          2264\n",
    "nombre_exposed        406\n",
    "nombre_recovered    16663\n",
    "Name: 311, dtype: int64"
   ]
  },
  {
   "cell_type": "markdown",
   "id": "5a980c1c",
   "metadata": {},
   "source": [
    "nombre_infected       657\n",
    "nombre_sain          2252\n",
    "nombre_exposed        405\n",
    "nombre_recovered    16686\n",
    "Name: 312, dtype: int64"
   ]
  },
  {
   "cell_type": "markdown",
   "id": "203a0357",
   "metadata": {},
   "source": [
    "nombre_infected       668\n",
    "nombre_sain          2266\n",
    "nombre_exposed        389\n",
    "nombre_recovered    16677\n",
    "Name: 313, dtype: int64"
   ]
  },
  {
   "cell_type": "markdown",
   "id": "918066e6",
   "metadata": {},
   "source": [
    "nombre_infected       657\n",
    "nombre_sain          2260\n",
    "nombre_exposed        405\n",
    "nombre_recovered    16678\n",
    "Name: 314, dtype: int64"
   ]
  },
  {
   "cell_type": "markdown",
   "id": "c9e6eb1e",
   "metadata": {},
   "source": [
    "nombre_infected       675\n",
    "nombre_sain          2251\n",
    "nombre_exposed        403\n",
    "nombre_recovered    16671\n",
    "Name: 315, dtype: int64"
   ]
  },
  {
   "cell_type": "markdown",
   "id": "82e09924",
   "metadata": {},
   "source": [
    "nombre_infected       664\n",
    "nombre_sain          2235\n",
    "nombre_exposed        420\n",
    "nombre_recovered    16681\n",
    "Name: 316, dtype: int64"
   ]
  },
  {
   "cell_type": "markdown",
   "id": "5ae346af",
   "metadata": {},
   "source": [
    "nombre_infected       643\n",
    "nombre_sain          2266\n",
    "nombre_exposed        413\n",
    "nombre_recovered    16678\n",
    "Name: 317, dtype: int64"
   ]
  },
  {
   "cell_type": "markdown",
   "id": "ff82de86",
   "metadata": {},
   "source": [
    "nombre_infected       634\n",
    "nombre_sain          2289\n",
    "nombre_exposed        414\n",
    "nombre_recovered    16663\n",
    "Name: 318, dtype: int64"
   ]
  },
  {
   "cell_type": "markdown",
   "id": "1cb7a14e",
   "metadata": {},
   "source": [
    "nombre_infected       664\n",
    "nombre_sain          2291\n",
    "nombre_exposed        419\n",
    "nombre_recovered    16626\n",
    "Name: 319, dtype: int64"
   ]
  },
  {
   "cell_type": "markdown",
   "id": "7c1c8bd8",
   "metadata": {},
   "source": [
    "nombre_infected       673\n",
    "nombre_sain          2304\n",
    "nombre_exposed        420\n",
    "nombre_recovered    16603\n",
    "Name: 320, dtype: int64"
   ]
  },
  {
   "cell_type": "markdown",
   "id": "3b959656",
   "metadata": {},
   "source": [
    "nombre_infected       692\n",
    "nombre_sain          2298\n",
    "nombre_exposed        413\n",
    "nombre_recovered    16597\n",
    "Name: 321, dtype: int64"
   ]
  },
  {
   "cell_type": "markdown",
   "id": "e23804f3",
   "metadata": {},
   "source": [
    "nombre_infected       694\n",
    "nombre_sain          2283\n",
    "nombre_exposed        429\n",
    "nombre_recovered    16594\n",
    "Name: 322, dtype: int64"
   ]
  },
  {
   "cell_type": "markdown",
   "id": "21bdbc3f",
   "metadata": {},
   "source": [
    "nombre_infected       700\n",
    "nombre_sain          2272\n",
    "nombre_exposed        442\n",
    "nombre_recovered    16586\n",
    "Name: 323, dtype: int64"
   ]
  },
  {
   "cell_type": "markdown",
   "id": "9bcbd0c5",
   "metadata": {},
   "source": [
    "nombre_infected       696\n",
    "nombre_sain          2277\n",
    "nombre_exposed        446\n",
    "nombre_recovered    16581\n",
    "Name: 324, dtype: int64"
   ]
  },
  {
   "cell_type": "markdown",
   "id": "bd020d8b",
   "metadata": {},
   "source": [
    "nombre_infected       716\n",
    "nombre_sain          2247\n",
    "nombre_exposed        444\n",
    "nombre_recovered    16593\n",
    "Name: 325, dtype: int64"
   ]
  },
  {
   "cell_type": "markdown",
   "id": "0e9cb225",
   "metadata": {},
   "source": [
    "nombre_infected       730\n",
    "nombre_sain          2219\n",
    "nombre_exposed        457\n",
    "nombre_recovered    16594\n",
    "Name: 326, dtype: int64"
   ]
  },
  {
   "cell_type": "markdown",
   "id": "d1e30523",
   "metadata": {},
   "source": [
    "nombre_infected       748\n",
    "nombre_sain          2212\n",
    "nombre_exposed        447\n",
    "nombre_recovered    16593\n",
    "Name: 327, dtype: int64"
   ]
  },
  {
   "cell_type": "markdown",
   "id": "1195dd95",
   "metadata": {},
   "source": [
    "nombre_infected       774\n",
    "nombre_sain          2226\n",
    "nombre_exposed        444\n",
    "nombre_recovered    16556\n",
    "Name: 328, dtype: int64"
   ]
  },
  {
   "cell_type": "markdown",
   "id": "d2e7f379",
   "metadata": {},
   "source": [
    "nombre_infected       766\n",
    "nombre_sain          2221\n",
    "nombre_exposed        444\n",
    "nombre_recovered    16569\n",
    "Name: 329, dtype: int64"
   ]
  },
  {
   "cell_type": "markdown",
   "id": "d3bba92e",
   "metadata": {},
   "source": [
    "nombre_infected       769\n",
    "nombre_sain          2239\n",
    "nombre_exposed        434\n",
    "nombre_recovered    16558\n",
    "Name: 330, dtype: int64"
   ]
  },
  {
   "cell_type": "markdown",
   "id": "6ec85eb6",
   "metadata": {},
   "source": [
    "nombre_infected       773\n",
    "nombre_sain          2253\n",
    "nombre_exposed        440\n",
    "nombre_recovered    16534\n",
    "Name: 331, dtype: int64"
   ]
  },
  {
   "cell_type": "markdown",
   "id": "f7ca3fba",
   "metadata": {},
   "source": [
    "nombre_infected       773\n",
    "nombre_sain          2274\n",
    "nombre_exposed        442\n",
    "nombre_recovered    16511\n",
    "Name: 332, dtype: int64"
   ]
  },
  {
   "cell_type": "markdown",
   "id": "eb56fe85",
   "metadata": {},
   "source": [
    "nombre_infected       776\n",
    "nombre_sain          2285\n",
    "nombre_exposed        454\n",
    "nombre_recovered    16485\n",
    "Name: 333, dtype: int64"
   ]
  },
  {
   "cell_type": "markdown",
   "id": "f19adbe9",
   "metadata": {},
   "source": [
    "nombre_infected       783\n",
    "nombre_sain          2301\n",
    "nombre_exposed        455\n",
    "nombre_recovered    16461\n",
    "Name: 334, dtype: int64"
   ]
  },
  {
   "cell_type": "markdown",
   "id": "f5422b02",
   "metadata": {},
   "source": [
    "nombre_infected       793\n",
    "nombre_sain          2314\n",
    "nombre_exposed        470\n",
    "nombre_recovered    16423\n",
    "Name: 335, dtype: int64"
   ]
  },
  {
   "cell_type": "markdown",
   "id": "27e5861c",
   "metadata": {},
   "source": [
    "nombre_infected       791\n",
    "nombre_sain          2307\n",
    "nombre_exposed        481\n",
    "nombre_recovered    16421\n",
    "Name: 336, dtype: int64"
   ]
  },
  {
   "cell_type": "markdown",
   "id": "56555d28",
   "metadata": {},
   "source": [
    "nombre_infected       795\n",
    "nombre_sain          2293\n",
    "nombre_exposed        476\n",
    "nombre_recovered    16436\n",
    "Name: 337, dtype: int64"
   ]
  },
  {
   "cell_type": "markdown",
   "id": "b9c1639e",
   "metadata": {},
   "source": [
    "nombre_infected       795\n",
    "nombre_sain          2282\n",
    "nombre_exposed        477\n",
    "nombre_recovered    16446\n",
    "Name: 338, dtype: int64"
   ]
  },
  {
   "cell_type": "markdown",
   "id": "4b9637e4",
   "metadata": {},
   "source": [
    "nombre_infected       793\n",
    "nombre_sain          2291\n",
    "nombre_exposed        476\n",
    "nombre_recovered    16440\n",
    "Name: 339, dtype: int64"
   ]
  },
  {
   "cell_type": "markdown",
   "id": "27be8423",
   "metadata": {},
   "source": [
    "nombre_infected       792\n",
    "nombre_sain          2266\n",
    "nombre_exposed        484\n",
    "nombre_recovered    16458\n",
    "Name: 340, dtype: int64"
   ]
  },
  {
   "cell_type": "markdown",
   "id": "a3ad7079",
   "metadata": {},
   "source": [
    "nombre_infected       779\n",
    "nombre_sain          2259\n",
    "nombre_exposed        499\n",
    "nombre_recovered    16463\n",
    "Name: 341, dtype: int64"
   ]
  },
  {
   "cell_type": "markdown",
   "id": "103595bb",
   "metadata": {},
   "source": [
    "nombre_infected       798\n",
    "nombre_sain          2266\n",
    "nombre_exposed        486\n",
    "nombre_recovered    16450\n",
    "Name: 342, dtype: int64"
   ]
  },
  {
   "cell_type": "markdown",
   "id": "919c76c2",
   "metadata": {},
   "source": [
    "nombre_infected       798\n",
    "nombre_sain          2235\n",
    "nombre_exposed        503\n",
    "nombre_recovered    16464\n",
    "Name: 343, dtype: int64"
   ]
  },
  {
   "cell_type": "markdown",
   "id": "97a33a14",
   "metadata": {},
   "source": [
    "nombre_infected       798\n",
    "nombre_sain          2213\n",
    "nombre_exposed        503\n",
    "nombre_recovered    16486\n",
    "Name: 344, dtype: int64"
   ]
  },
  {
   "cell_type": "markdown",
   "id": "d02f779e",
   "metadata": {},
   "source": [
    "nombre_infected       802\n",
    "nombre_sain          2175\n",
    "nombre_exposed        523\n",
    "nombre_recovered    16500\n",
    "Name: 345, dtype: int64"
   ]
  },
  {
   "cell_type": "markdown",
   "id": "e20feb1e",
   "metadata": {},
   "source": [
    "nombre_infected       803\n",
    "nombre_sain          2162\n",
    "nombre_exposed        527\n",
    "nombre_recovered    16508\n",
    "Name: 346, dtype: int64"
   ]
  },
  {
   "cell_type": "markdown",
   "id": "6a3f0240",
   "metadata": {},
   "source": [
    "nombre_infected       815\n",
    "nombre_sain          2162\n",
    "nombre_exposed        499\n",
    "nombre_recovered    16524\n",
    "Name: 347, dtype: int64"
   ]
  },
  {
   "cell_type": "markdown",
   "id": "ec873ed7",
   "metadata": {},
   "source": [
    "nombre_infected       830\n",
    "nombre_sain          2161\n",
    "nombre_exposed        491\n",
    "nombre_recovered    16518\n",
    "Name: 348, dtype: int64"
   ]
  },
  {
   "cell_type": "markdown",
   "id": "23a13907",
   "metadata": {},
   "source": [
    "nombre_infected       838\n",
    "nombre_sain          2148\n",
    "nombre_exposed        489\n",
    "nombre_recovered    16525\n",
    "Name: 349, dtype: int64"
   ]
  },
  {
   "cell_type": "markdown",
   "id": "92fc0d1d",
   "metadata": {},
   "source": [
    "nombre_infected       846\n",
    "nombre_sain          2139\n",
    "nombre_exposed        480\n",
    "nombre_recovered    16535\n",
    "Name: 350, dtype: int64"
   ]
  },
  {
   "cell_type": "markdown",
   "id": "4ebef65f",
   "metadata": {},
   "source": [
    "nombre_infected       857\n",
    "nombre_sain          2154\n",
    "nombre_exposed        464\n",
    "nombre_recovered    16525\n",
    "Name: 351, dtype: int64"
   ]
  },
  {
   "cell_type": "markdown",
   "id": "54648fcd",
   "metadata": {},
   "source": [
    "nombre_infected       839\n",
    "nombre_sain          2152\n",
    "nombre_exposed        488\n",
    "nombre_recovered    16521\n",
    "Name: 352, dtype: int64"
   ]
  },
  {
   "cell_type": "markdown",
   "id": "d17a4b64",
   "metadata": {},
   "source": [
    "nombre_infected       834\n",
    "nombre_sain          2136\n",
    "nombre_exposed        512\n",
    "nombre_recovered    16518\n",
    "Name: 353, dtype: int64"
   ]
  },
  {
   "cell_type": "markdown",
   "id": "773ca65e",
   "metadata": {},
   "source": [
    "nombre_infected       845\n",
    "nombre_sain          2134\n",
    "nombre_exposed        499\n",
    "nombre_recovered    16522\n",
    "Name: 354, dtype: int64"
   ]
  },
  {
   "cell_type": "markdown",
   "id": "26ed5d9c",
   "metadata": {},
   "source": [
    "nombre_infected       849\n",
    "nombre_sain          2137\n",
    "nombre_exposed        509\n",
    "nombre_recovered    16505\n",
    "Name: 355, dtype: int64"
   ]
  },
  {
   "cell_type": "markdown",
   "id": "4527ae2f",
   "metadata": {},
   "source": [
    "nombre_infected       833\n",
    "nombre_sain          2171\n",
    "nombre_exposed        490\n",
    "nombre_recovered    16506\n",
    "Name: 356, dtype: int64"
   ]
  },
  {
   "cell_type": "markdown",
   "id": "b15de772",
   "metadata": {},
   "source": [
    "nombre_infected       836\n",
    "nombre_sain          2180\n",
    "nombre_exposed        477\n",
    "nombre_recovered    16507\n",
    "Name: 357, dtype: int64"
   ]
  },
  {
   "cell_type": "markdown",
   "id": "65eaa623",
   "metadata": {},
   "source": [
    "nombre_infected       853\n",
    "nombre_sain          2165\n",
    "nombre_exposed        479\n",
    "nombre_recovered    16503\n",
    "Name: 358, dtype: int64"
   ]
  },
  {
   "cell_type": "markdown",
   "id": "b6352ecc",
   "metadata": {},
   "source": [
    "nombre_infected       852\n",
    "nombre_sain          2157\n",
    "nombre_exposed        482\n",
    "nombre_recovered    16509\n",
    "Name: 359, dtype: int64"
   ]
  },
  {
   "cell_type": "markdown",
   "id": "cb46fecc",
   "metadata": {},
   "source": [
    "nombre_infected       852\n",
    "nombre_sain          2170\n",
    "nombre_exposed        491\n",
    "nombre_recovered    16487\n",
    "Name: 360, dtype: int64"
   ]
  },
  {
   "cell_type": "markdown",
   "id": "e2b32f99",
   "metadata": {},
   "source": [
    "nombre_infected       845\n",
    "nombre_sain          2145\n",
    "nombre_exposed        489\n",
    "nombre_recovered    16521\n",
    "Name: 361, dtype: int64"
   ]
  },
  {
   "cell_type": "markdown",
   "id": "9d95032e",
   "metadata": {},
   "source": [
    "nombre_infected       863\n",
    "nombre_sain          2147\n",
    "nombre_exposed        463\n",
    "nombre_recovered    16527\n",
    "Name: 362, dtype: int64"
   ]
  },
  {
   "cell_type": "markdown",
   "id": "7e0c8fff",
   "metadata": {},
   "source": [
    "nombre_infected       840\n",
    "nombre_sain          2138\n",
    "nombre_exposed        456\n",
    "nombre_recovered    16566\n",
    "Name: 363, dtype: int64"
   ]
  },
  {
   "cell_type": "markdown",
   "id": "e48e74d6",
   "metadata": {},
   "source": [
    "nombre_infected       819\n",
    "nombre_sain          2137\n",
    "nombre_exposed        472\n",
    "nombre_recovered    16572\n",
    "Name: 364, dtype: int64"
   ]
  },
  {
   "cell_type": "markdown",
   "id": "60aa9836",
   "metadata": {},
   "source": [
    "nombre_infected       807\n",
    "nombre_sain          2161\n",
    "nombre_exposed        458\n",
    "nombre_recovered    16574\n",
    "Name: 365, dtype: int64"
   ]
  },
  {
   "cell_type": "markdown",
   "id": "18beecf6",
   "metadata": {},
   "source": [
    "nombre_infected       829\n",
    "nombre_sain          2170\n",
    "nombre_exposed        438\n",
    "nombre_recovered    16563\n",
    "Name: 366, dtype: int64"
   ]
  },
  {
   "cell_type": "markdown",
   "id": "f1c98947",
   "metadata": {},
   "source": [
    "nombre_infected       828\n",
    "nombre_sain          2197\n",
    "nombre_exposed        429\n",
    "nombre_recovered    16546\n",
    "Name: 367, dtype: int64"
   ]
  },
  {
   "cell_type": "markdown",
   "id": "2c7419ab",
   "metadata": {},
   "source": [
    "nombre_infected       819\n",
    "nombre_sain          2203\n",
    "nombre_exposed        443\n",
    "nombre_recovered    16535\n",
    "Name: 368, dtype: int64"
   ]
  },
  {
   "cell_type": "markdown",
   "id": "2cdc685d",
   "metadata": {},
   "source": [
    "nombre_infected       812\n",
    "nombre_sain          2226\n",
    "nombre_exposed        433\n",
    "nombre_recovered    16529\n",
    "Name: 369, dtype: int64"
   ]
  },
  {
   "cell_type": "markdown",
   "id": "548fd768",
   "metadata": {},
   "source": [
    "nombre_infected       815\n",
    "nombre_sain          2275\n",
    "nombre_exposed        415\n",
    "nombre_recovered    16495\n",
    "Name: 370, dtype: int64"
   ]
  },
  {
   "cell_type": "markdown",
   "id": "ee942fcb",
   "metadata": {},
   "source": [
    "nombre_infected       797\n",
    "nombre_sain          2289\n",
    "nombre_exposed        429\n",
    "nombre_recovered    16485\n",
    "Name: 371, dtype: int64"
   ]
  },
  {
   "cell_type": "markdown",
   "id": "57c532a3",
   "metadata": {},
   "source": [
    "nombre_infected       780\n",
    "nombre_sain          2297\n",
    "nombre_exposed        442\n",
    "nombre_recovered    16481\n",
    "Name: 372, dtype: int64"
   ]
  },
  {
   "cell_type": "markdown",
   "id": "f8b9fb85",
   "metadata": {},
   "source": [
    "nombre_infected       794\n",
    "nombre_sain          2296\n",
    "nombre_exposed        446\n",
    "nombre_recovered    16464\n",
    "Name: 373, dtype: int64"
   ]
  },
  {
   "cell_type": "markdown",
   "id": "38bc2fd6",
   "metadata": {},
   "source": [
    "nombre_infected       790\n",
    "nombre_sain          2327\n",
    "nombre_exposed        448\n",
    "nombre_recovered    16435\n",
    "Name: 374, dtype: int64"
   ]
  },
  {
   "cell_type": "markdown",
   "id": "86de5a2b",
   "metadata": {},
   "source": [
    "nombre_infected       785\n",
    "nombre_sain          2362\n",
    "nombre_exposed        448\n",
    "nombre_recovered    16405\n",
    "Name: 375, dtype: int64"
   ]
  },
  {
   "cell_type": "markdown",
   "id": "66228168",
   "metadata": {},
   "source": [
    "nombre_infected       781\n",
    "nombre_sain          2388\n",
    "nombre_exposed        445\n",
    "nombre_recovered    16386\n",
    "Name: 376, dtype: int64"
   ]
  },
  {
   "cell_type": "markdown",
   "id": "e688b947",
   "metadata": {},
   "source": [
    "nombre_infected       768\n",
    "nombre_sain          2393\n",
    "nombre_exposed        446\n",
    "nombre_recovered    16393\n",
    "Name: 377, dtype: int64"
   ]
  },
  {
   "cell_type": "markdown",
   "id": "3eb626e3",
   "metadata": {},
   "source": [
    "nombre_infected       781\n",
    "nombre_sain          2415\n",
    "nombre_exposed        452\n",
    "nombre_recovered    16352\n",
    "Name: 378, dtype: int64"
   ]
  },
  {
   "cell_type": "markdown",
   "id": "964b1397",
   "metadata": {},
   "source": [
    "nombre_infected       773\n",
    "nombre_sain          2412\n",
    "nombre_exposed        464\n",
    "nombre_recovered    16351\n",
    "Name: 379, dtype: int64"
   ]
  },
  {
   "cell_type": "markdown",
   "id": "52c6b3d7",
   "metadata": {},
   "source": [
    "nombre_infected       788\n",
    "nombre_sain          2432\n",
    "nombre_exposed        454\n",
    "nombre_recovered    16326\n",
    "Name: 380, dtype: int64"
   ]
  },
  {
   "cell_type": "markdown",
   "id": "3d9b9e38",
   "metadata": {},
   "source": [
    "nombre_infected       764\n",
    "nombre_sain          2411\n",
    "nombre_exposed        483\n",
    "nombre_recovered    16342\n",
    "Name: 381, dtype: int64"
   ]
  },
  {
   "cell_type": "markdown",
   "id": "b1934734",
   "metadata": {},
   "source": [
    "nombre_infected       759\n",
    "nombre_sain          2419\n",
    "nombre_exposed        491\n",
    "nombre_recovered    16331\n",
    "Name: 382, dtype: int64"
   ]
  },
  {
   "cell_type": "markdown",
   "id": "cd830695",
   "metadata": {},
   "source": [
    "nombre_infected       761\n",
    "nombre_sain          2411\n",
    "nombre_exposed        478\n",
    "nombre_recovered    16350\n",
    "Name: 383, dtype: int64"
   ]
  },
  {
   "cell_type": "markdown",
   "id": "f236e777",
   "metadata": {},
   "source": [
    "nombre_infected       794\n",
    "nombre_sain          2411\n",
    "nombre_exposed        475\n",
    "nombre_recovered    16320\n",
    "Name: 384, dtype: int64"
   ]
  },
  {
   "cell_type": "markdown",
   "id": "ca00b3c9",
   "metadata": {},
   "source": [
    "nombre_infected       819\n",
    "nombre_sain          2422\n",
    "nombre_exposed        463\n",
    "nombre_recovered    16296\n",
    "Name: 385, dtype: int64"
   ]
  },
  {
   "cell_type": "markdown",
   "id": "3c11d127",
   "metadata": {},
   "source": [
    "nombre_infected       786\n",
    "nombre_sain          2416\n",
    "nombre_exposed        487\n",
    "nombre_recovered    16311\n",
    "Name: 386, dtype: int64"
   ]
  },
  {
   "cell_type": "markdown",
   "id": "78a261b0",
   "metadata": {},
   "source": [
    "nombre_infected       793\n",
    "nombre_sain          2413\n",
    "nombre_exposed        486\n",
    "nombre_recovered    16308\n",
    "Name: 387, dtype: int64"
   ]
  },
  {
   "cell_type": "markdown",
   "id": "69699185",
   "metadata": {},
   "source": [
    "nombre_infected       786\n",
    "nombre_sain          2430\n",
    "nombre_exposed        483\n",
    "nombre_recovered    16301\n",
    "Name: 388, dtype: int64"
   ]
  },
  {
   "cell_type": "markdown",
   "id": "da553e74",
   "metadata": {},
   "source": [
    "nombre_infected       792\n",
    "nombre_sain          2427\n",
    "nombre_exposed        486\n",
    "nombre_recovered    16295\n",
    "Name: 389, dtype: int64"
   ]
  },
  {
   "cell_type": "markdown",
   "id": "f9ceabac",
   "metadata": {},
   "source": [
    "nombre_infected       796\n",
    "nombre_sain          2436\n",
    "nombre_exposed        497\n",
    "nombre_recovered    16271\n",
    "Name: 390, dtype: int64"
   ]
  },
  {
   "cell_type": "markdown",
   "id": "845414af",
   "metadata": {},
   "source": [
    "nombre_infected       805\n",
    "nombre_sain          2442\n",
    "nombre_exposed        509\n",
    "nombre_recovered    16244\n",
    "Name: 391, dtype: int64"
   ]
  },
  {
   "cell_type": "markdown",
   "id": "633decda",
   "metadata": {},
   "source": [
    "nombre_infected       833\n",
    "nombre_sain          2454\n",
    "nombre_exposed        518\n",
    "nombre_recovered    16195\n",
    "Name: 392, dtype: int64"
   ]
  },
  {
   "cell_type": "markdown",
   "id": "2f7324ff",
   "metadata": {},
   "source": [
    "nombre_infected       835\n",
    "nombre_sain          2493\n",
    "nombre_exposed        505\n",
    "nombre_recovered    16167\n",
    "Name: 393, dtype: int64"
   ]
  },
  {
   "cell_type": "markdown",
   "id": "23213afa",
   "metadata": {},
   "source": [
    "nombre_infected       843\n",
    "nombre_sain          2502\n",
    "nombre_exposed        516\n",
    "nombre_recovered    16139\n",
    "Name: 394, dtype: int64"
   ]
  },
  {
   "cell_type": "markdown",
   "id": "c2cc7814",
   "metadata": {},
   "source": [
    "nombre_infected       841\n",
    "nombre_sain          2491\n",
    "nombre_exposed        534\n",
    "nombre_recovered    16134\n",
    "Name: 395, dtype: int64"
   ]
  },
  {
   "cell_type": "markdown",
   "id": "2cf7e64a",
   "metadata": {},
   "source": [
    "nombre_infected       852\n",
    "nombre_sain          2500\n",
    "nombre_exposed        545\n",
    "nombre_recovered    16103\n",
    "Name: 396, dtype: int64"
   ]
  },
  {
   "cell_type": "markdown",
   "id": "5b687d4a",
   "metadata": {},
   "source": [
    "nombre_infected       872\n",
    "nombre_sain          2477\n",
    "nombre_exposed        540\n",
    "nombre_recovered    16111\n",
    "Name: 397, dtype: int64"
   ]
  },
  {
   "cell_type": "markdown",
   "id": "697ef041",
   "metadata": {},
   "source": [
    "nombre_infected       875\n",
    "nombre_sain          2504\n",
    "nombre_exposed        533\n",
    "nombre_recovered    16088\n",
    "Name: 398, dtype: int64"
   ]
  },
  {
   "cell_type": "markdown",
   "id": "d3983ff1",
   "metadata": {},
   "source": [
    "nombre_infected       863\n",
    "nombre_sain          2505\n",
    "nombre_exposed        558\n",
    "nombre_recovered    16074\n",
    "Name: 399, dtype: int64"
   ]
  },
  {
   "cell_type": "markdown",
   "id": "b7814ad9",
   "metadata": {},
   "source": [
    "nombre_infected       899\n",
    "nombre_sain          2469\n",
    "nombre_exposed        580\n",
    "nombre_recovered    16052\n",
    "Name: 400, dtype: int64"
   ]
  },
  {
   "cell_type": "markdown",
   "id": "1e9019cc",
   "metadata": {},
   "source": [
    "nombre_infected       926\n",
    "nombre_sain          2441\n",
    "nombre_exposed        574\n",
    "nombre_recovered    16059\n",
    "Name: 401, dtype: int64"
   ]
  },
  {
   "cell_type": "markdown",
   "id": "c1bddb84",
   "metadata": {},
   "source": [
    "nombre_infected       953\n",
    "nombre_sain          2436\n",
    "nombre_exposed        575\n",
    "nombre_recovered    16036\n",
    "Name: 402, dtype: int64"
   ]
  },
  {
   "cell_type": "markdown",
   "id": "70f7fdd3",
   "metadata": {},
   "source": [
    "nombre_infected       999\n",
    "nombre_sain          2439\n",
    "nombre_exposed        547\n",
    "nombre_recovered    16015\n",
    "Name: 403, dtype: int64"
   ]
  },
  {
   "cell_type": "markdown",
   "id": "05c3b3ad",
   "metadata": {},
   "source": [
    "nombre_infected       979\n",
    "nombre_sain          2397\n",
    "nombre_exposed        584\n",
    "nombre_recovered    16040\n",
    "Name: 404, dtype: int64"
   ]
  },
  {
   "cell_type": "markdown",
   "id": "26a07544",
   "metadata": {},
   "source": [
    "nombre_infected       979\n",
    "nombre_sain          2370\n",
    "nombre_exposed        594\n",
    "nombre_recovered    16057\n",
    "Name: 405, dtype: int64"
   ]
  },
  {
   "cell_type": "markdown",
   "id": "77a56b53",
   "metadata": {},
   "source": [
    "nombre_infected      1005\n",
    "nombre_sain          2325\n",
    "nombre_exposed        605\n",
    "nombre_recovered    16065\n",
    "Name: 406, dtype: int64"
   ]
  },
  {
   "cell_type": "markdown",
   "id": "9ae885e4",
   "metadata": {},
   "source": [
    "nombre_infected      1050\n",
    "nombre_sain          2326\n",
    "nombre_exposed        572\n",
    "nombre_recovered    16052\n",
    "Name: 407, dtype: int64"
   ]
  },
  {
   "cell_type": "markdown",
   "id": "eba53851",
   "metadata": {},
   "source": [
    "nombre_infected      1058\n",
    "nombre_sain          2310\n",
    "nombre_exposed        577\n",
    "nombre_recovered    16055\n",
    "Name: 408, dtype: int64"
   ]
  },
  {
   "cell_type": "markdown",
   "id": "fd8b1718",
   "metadata": {},
   "source": [
    "nombre_infected      1052\n",
    "nombre_sain          2273\n",
    "nombre_exposed        582\n",
    "nombre_recovered    16093\n",
    "Name: 409, dtype: int64"
   ]
  },
  {
   "cell_type": "markdown",
   "id": "3aa3cbd8",
   "metadata": {},
   "source": [
    "nombre_infected      1072\n",
    "nombre_sain          2255\n",
    "nombre_exposed        580\n",
    "nombre_recovered    16093\n",
    "Name: 410, dtype: int64"
   ]
  },
  {
   "cell_type": "markdown",
   "id": "7299ac52",
   "metadata": {},
   "source": [
    "nombre_infected      1076\n",
    "nombre_sain          2225\n",
    "nombre_exposed        596\n",
    "nombre_recovered    16103\n",
    "Name: 411, dtype: int64"
   ]
  },
  {
   "cell_type": "markdown",
   "id": "d2747ff3",
   "metadata": {},
   "source": [
    "nombre_infected      1060\n",
    "nombre_sain          2189\n",
    "nombre_exposed        625\n",
    "nombre_recovered    16126\n",
    "Name: 412, dtype: int64"
   ]
  },
  {
   "cell_type": "markdown",
   "id": "e79f84aa",
   "metadata": {},
   "source": [
    "nombre_infected      1064\n",
    "nombre_sain          2189\n",
    "nombre_exposed        624\n",
    "nombre_recovered    16123\n",
    "Name: 413, dtype: int64"
   ]
  },
  {
   "cell_type": "markdown",
   "id": "def59806",
   "metadata": {},
   "source": [
    "nombre_infected      1061\n",
    "nombre_sain          2180\n",
    "nombre_exposed        618\n",
    "nombre_recovered    16141\n",
    "Name: 414, dtype: int64"
   ]
  },
  {
   "cell_type": "markdown",
   "id": "ab30c166",
   "metadata": {},
   "source": [
    "nombre_infected      1061\n",
    "nombre_sain          2161\n",
    "nombre_exposed        622\n",
    "nombre_recovered    16156\n",
    "Name: 415, dtype: int64"
   ]
  },
  {
   "cell_type": "markdown",
   "id": "6771f184",
   "metadata": {},
   "source": [
    "nombre_infected      1066\n",
    "nombre_sain          2157\n",
    "nombre_exposed        615\n",
    "nombre_recovered    16162\n",
    "Name: 416, dtype: int64"
   ]
  },
  {
   "cell_type": "markdown",
   "id": "b996ee39",
   "metadata": {},
   "source": [
    "nombre_infected      1085\n",
    "nombre_sain          2129\n",
    "nombre_exposed        621\n",
    "nombre_recovered    16165\n",
    "Name: 417, dtype: int64"
   ]
  },
  {
   "cell_type": "markdown",
   "id": "2d6b6f92",
   "metadata": {},
   "source": [
    "nombre_infected      1101\n",
    "nombre_sain          2100\n",
    "nombre_exposed        615\n",
    "nombre_recovered    16184\n",
    "Name: 418, dtype: int64"
   ]
  },
  {
   "cell_type": "markdown",
   "id": "8e39b867",
   "metadata": {},
   "source": [
    "nombre_infected      1113\n",
    "nombre_sain          2085\n",
    "nombre_exposed        587\n",
    "nombre_recovered    16215\n",
    "Name: 419, dtype: int64"
   ]
  },
  {
   "cell_type": "markdown",
   "id": "ad45fd0a",
   "metadata": {},
   "source": [
    "nombre_infected      1078\n",
    "nombre_sain          2100\n",
    "nombre_exposed        581\n",
    "nombre_recovered    16241\n",
    "Name: 420, dtype: int64"
   ]
  },
  {
   "cell_type": "markdown",
   "id": "699ee2c3",
   "metadata": {},
   "source": [
    "nombre_infected      1064\n",
    "nombre_sain          2081\n",
    "nombre_exposed        596\n",
    "nombre_recovered    16259\n",
    "Name: 421, dtype: int64"
   ]
  },
  {
   "cell_type": "markdown",
   "id": "4ae7da40",
   "metadata": {},
   "source": [
    "nombre_infected      1032\n",
    "nombre_sain          2090\n",
    "nombre_exposed        585\n",
    "nombre_recovered    16293\n",
    "Name: 422, dtype: int64"
   ]
  },
  {
   "cell_type": "markdown",
   "id": "c28d56f8",
   "metadata": {},
   "source": [
    "nombre_infected      1026\n",
    "nombre_sain          2072\n",
    "nombre_exposed        581\n",
    "nombre_recovered    16321\n",
    "Name: 423, dtype: int64"
   ]
  },
  {
   "cell_type": "markdown",
   "id": "ddf59a7a",
   "metadata": {},
   "source": [
    "nombre_infected      1009\n",
    "nombre_sain          2069\n",
    "nombre_exposed        588\n",
    "nombre_recovered    16334\n",
    "Name: 424, dtype: int64"
   ]
  },
  {
   "cell_type": "markdown",
   "id": "d7b62d7f",
   "metadata": {},
   "source": [
    "nombre_infected       993\n",
    "nombre_sain          2084\n",
    "nombre_exposed        576\n",
    "nombre_recovered    16347\n",
    "Name: 425, dtype: int64"
   ]
  },
  {
   "cell_type": "markdown",
   "id": "dba1a091",
   "metadata": {},
   "source": [
    "nombre_infected       997\n",
    "nombre_sain          2097\n",
    "nombre_exposed        547\n",
    "nombre_recovered    16359\n",
    "Name: 426, dtype: int64"
   ]
  },
  {
   "cell_type": "markdown",
   "id": "ba893ac4",
   "metadata": {},
   "source": [
    "nombre_infected      1019\n",
    "nombre_sain          2066\n",
    "nombre_exposed        539\n",
    "nombre_recovered    16376\n",
    "Name: 427, dtype: int64"
   ]
  },
  {
   "cell_type": "markdown",
   "id": "502c8ebb",
   "metadata": {},
   "source": [
    "nombre_infected      1022\n",
    "nombre_sain          2051\n",
    "nombre_exposed        545\n",
    "nombre_recovered    16382\n",
    "Name: 428, dtype: int64"
   ]
  },
  {
   "cell_type": "markdown",
   "id": "f267bb14",
   "metadata": {},
   "source": [
    "nombre_infected       988\n",
    "nombre_sain          2034\n",
    "nombre_exposed        574\n",
    "nombre_recovered    16404\n",
    "Name: 429, dtype: int64"
   ]
  },
  {
   "cell_type": "markdown",
   "id": "08320375",
   "metadata": {},
   "source": [
    "nombre_infected       985\n",
    "nombre_sain          2008\n",
    "nombre_exposed        577\n",
    "nombre_recovered    16430\n",
    "Name: 430, dtype: int64"
   ]
  },
  {
   "cell_type": "markdown",
   "id": "358e54ba",
   "metadata": {},
   "source": [
    "nombre_infected       982\n",
    "nombre_sain          1999\n",
    "nombre_exposed        568\n",
    "nombre_recovered    16451\n",
    "Name: 431, dtype: int64"
   ]
  },
  {
   "cell_type": "markdown",
   "id": "fa1fcf02",
   "metadata": {},
   "source": [
    "nombre_infected       976\n",
    "nombre_sain          1997\n",
    "nombre_exposed        562\n",
    "nombre_recovered    16465\n",
    "Name: 432, dtype: int64"
   ]
  },
  {
   "cell_type": "markdown",
   "id": "250fe087",
   "metadata": {},
   "source": [
    "nombre_infected       973\n",
    "nombre_sain          1969\n",
    "nombre_exposed        586\n",
    "nombre_recovered    16472\n",
    "Name: 433, dtype: int64"
   ]
  },
  {
   "cell_type": "markdown",
   "id": "d1c67932",
   "metadata": {},
   "source": [
    "nombre_infected       983\n",
    "nombre_sain          1986\n",
    "nombre_exposed        578\n",
    "nombre_recovered    16453\n",
    "Name: 434, dtype: int64"
   ]
  },
  {
   "cell_type": "markdown",
   "id": "2f5fda62",
   "metadata": {},
   "source": [
    "nombre_infected       966\n",
    "nombre_sain          1988\n",
    "nombre_exposed        585\n",
    "nombre_recovered    16461\n",
    "Name: 435, dtype: int64"
   ]
  },
  {
   "cell_type": "markdown",
   "id": "c3051ca6",
   "metadata": {},
   "source": [
    "nombre_infected       950\n",
    "nombre_sain          2019\n",
    "nombre_exposed        556\n",
    "nombre_recovered    16475\n",
    "Name: 436, dtype: int64"
   ]
  },
  {
   "cell_type": "markdown",
   "id": "59dab4e0",
   "metadata": {},
   "source": [
    "nombre_infected       968\n",
    "nombre_sain          2026\n",
    "nombre_exposed        530\n",
    "nombre_recovered    16476\n",
    "Name: 437, dtype: int64"
   ]
  },
  {
   "cell_type": "markdown",
   "id": "18f11d42",
   "metadata": {},
   "source": [
    "nombre_infected       962\n",
    "nombre_sain          2024\n",
    "nombre_exposed        543\n",
    "nombre_recovered    16471\n",
    "Name: 438, dtype: int64"
   ]
  },
  {
   "cell_type": "markdown",
   "id": "13e2991c",
   "metadata": {},
   "source": [
    "nombre_infected       957\n",
    "nombre_sain          2024\n",
    "nombre_exposed        529\n",
    "nombre_recovered    16490\n",
    "Name: 439, dtype: int64"
   ]
  },
  {
   "cell_type": "markdown",
   "id": "a9e4720b",
   "metadata": {},
   "source": [
    "nombre_infected       947\n",
    "nombre_sain          2024\n",
    "nombre_exposed        528\n",
    "nombre_recovered    16501\n",
    "Name: 440, dtype: int64"
   ]
  },
  {
   "cell_type": "markdown",
   "id": "3ae01d7b",
   "metadata": {},
   "source": [
    "nombre_infected       928\n",
    "nombre_sain          2030\n",
    "nombre_exposed        538\n",
    "nombre_recovered    16504\n",
    "Name: 441, dtype: int64"
   ]
  },
  {
   "cell_type": "markdown",
   "id": "a497f57f",
   "metadata": {},
   "source": [
    "nombre_infected       916\n",
    "nombre_sain          2014\n",
    "nombre_exposed        547\n",
    "nombre_recovered    16523\n",
    "Name: 442, dtype: int64"
   ]
  },
  {
   "cell_type": "markdown",
   "id": "6324e09c",
   "metadata": {},
   "source": [
    "nombre_infected       900\n",
    "nombre_sain          2023\n",
    "nombre_exposed        563\n",
    "nombre_recovered    16514\n",
    "Name: 443, dtype: int64"
   ]
  },
  {
   "cell_type": "markdown",
   "id": "e6243262",
   "metadata": {},
   "source": [
    "nombre_infected       885\n",
    "nombre_sain          2040\n",
    "nombre_exposed        559\n",
    "nombre_recovered    16516\n",
    "Name: 444, dtype: int64"
   ]
  },
  {
   "cell_type": "markdown",
   "id": "5801bddb",
   "metadata": {},
   "source": [
    "nombre_infected       907\n",
    "nombre_sain          2100\n",
    "nombre_exposed        534\n",
    "nombre_recovered    16459\n",
    "Name: 445, dtype: int64"
   ]
  },
  {
   "cell_type": "markdown",
   "id": "9887f1a9",
   "metadata": {},
   "source": [
    "nombre_infected       935\n",
    "nombre_sain          2117\n",
    "nombre_exposed        528\n",
    "nombre_recovered    16420\n",
    "Name: 446, dtype: int64"
   ]
  },
  {
   "cell_type": "markdown",
   "id": "9a56a9b0",
   "metadata": {},
   "source": [
    "nombre_infected       925\n",
    "nombre_sain          2163\n",
    "nombre_exposed        543\n",
    "nombre_recovered    16369\n",
    "Name: 447, dtype: int64"
   ]
  },
  {
   "cell_type": "markdown",
   "id": "d015e172",
   "metadata": {},
   "source": [
    "nombre_infected       929\n",
    "nombre_sain          2189\n",
    "nombre_exposed        535\n",
    "nombre_recovered    16347\n",
    "Name: 448, dtype: int64"
   ]
  },
  {
   "cell_type": "markdown",
   "id": "11095b21",
   "metadata": {},
   "source": [
    "nombre_infected       946\n",
    "nombre_sain          2206\n",
    "nombre_exposed        515\n",
    "nombre_recovered    16333\n",
    "Name: 449, dtype: int64"
   ]
  },
  {
   "cell_type": "markdown",
   "id": "6e05a56c",
   "metadata": {},
   "source": [
    "nombre_infected       944\n",
    "nombre_sain          2248\n",
    "nombre_exposed        525\n",
    "nombre_recovered    16283\n",
    "Name: 450, dtype: int64"
   ]
  },
  {
   "cell_type": "markdown",
   "id": "6c746f66",
   "metadata": {},
   "source": [
    "nombre_infected       948\n",
    "nombre_sain          2245\n",
    "nombre_exposed        538\n",
    "nombre_recovered    16269\n",
    "Name: 451, dtype: int64"
   ]
  },
  {
   "cell_type": "markdown",
   "id": "2a048e52",
   "metadata": {},
   "source": [
    "nombre_infected       962\n",
    "nombre_sain          2237\n",
    "nombre_exposed        557\n",
    "nombre_recovered    16244\n",
    "Name: 452, dtype: int64"
   ]
  },
  {
   "cell_type": "markdown",
   "id": "4b37040c",
   "metadata": {},
   "source": [
    "nombre_infected       960\n",
    "nombre_sain          2229\n",
    "nombre_exposed        566\n",
    "nombre_recovered    16245\n",
    "Name: 453, dtype: int64"
   ]
  },
  {
   "cell_type": "markdown",
   "id": "a6fd9953",
   "metadata": {},
   "source": [
    "nombre_infected       963\n",
    "nombre_sain          2230\n",
    "nombre_exposed        567\n",
    "nombre_recovered    16240\n",
    "Name: 454, dtype: int64"
   ]
  },
  {
   "cell_type": "markdown",
   "id": "42220f4e",
   "metadata": {},
   "source": [
    "nombre_infected       961\n",
    "nombre_sain          2242\n",
    "nombre_exposed        560\n",
    "nombre_recovered    16237\n",
    "Name: 455, dtype: int64"
   ]
  },
  {
   "cell_type": "markdown",
   "id": "da1c846f",
   "metadata": {},
   "source": [
    "nombre_infected       966\n",
    "nombre_sain          2216\n",
    "nombre_exposed        573\n",
    "nombre_recovered    16245\n",
    "Name: 456, dtype: int64"
   ]
  },
  {
   "cell_type": "markdown",
   "id": "3f9113ca",
   "metadata": {},
   "source": [
    "nombre_infected       957\n",
    "nombre_sain          2210\n",
    "nombre_exposed        560\n",
    "nombre_recovered    16273\n",
    "Name: 457, dtype: int64"
   ]
  },
  {
   "cell_type": "markdown",
   "id": "a4692466",
   "metadata": {},
   "source": [
    "nombre_infected       969\n",
    "nombre_sain          2219\n",
    "nombre_exposed        544\n",
    "nombre_recovered    16268\n",
    "Name: 458, dtype: int64"
   ]
  },
  {
   "cell_type": "markdown",
   "id": "2bfac024",
   "metadata": {},
   "source": [
    "nombre_infected       963\n",
    "nombre_sain          2201\n",
    "nombre_exposed        553\n",
    "nombre_recovered    16283\n",
    "Name: 459, dtype: int64"
   ]
  },
  {
   "cell_type": "markdown",
   "id": "ee2f4cb2",
   "metadata": {},
   "source": [
    "nombre_infected       965\n",
    "nombre_sain          2177\n",
    "nombre_exposed        582\n",
    "nombre_recovered    16276\n",
    "Name: 460, dtype: int64"
   ]
  },
  {
   "cell_type": "markdown",
   "id": "47aaca18",
   "metadata": {},
   "source": [
    "nombre_infected       961\n",
    "nombre_sain          2145\n",
    "nombre_exposed        598\n",
    "nombre_recovered    16296\n",
    "Name: 461, dtype: int64"
   ]
  },
  {
   "cell_type": "markdown",
   "id": "e89e463b",
   "metadata": {},
   "source": [
    "nombre_infected       979\n",
    "nombre_sain          2143\n",
    "nombre_exposed        573\n",
    "nombre_recovered    16305\n",
    "Name: 462, dtype: int64"
   ]
  },
  {
   "cell_type": "markdown",
   "id": "8d25db5d",
   "metadata": {},
   "source": [
    "nombre_infected       974\n",
    "nombre_sain          2166\n",
    "nombre_exposed        562\n",
    "nombre_recovered    16298\n",
    "Name: 463, dtype: int64"
   ]
  },
  {
   "cell_type": "markdown",
   "id": "badf7570",
   "metadata": {},
   "source": [
    "nombre_infected       982\n",
    "nombre_sain          2161\n",
    "nombre_exposed        561\n",
    "nombre_recovered    16296\n",
    "Name: 464, dtype: int64"
   ]
  },
  {
   "cell_type": "markdown",
   "id": "0d6126f6",
   "metadata": {},
   "source": [
    "nombre_infected       996\n",
    "nombre_sain          2162\n",
    "nombre_exposed        535\n",
    "nombre_recovered    16307\n",
    "Name: 465, dtype: int64"
   ]
  },
  {
   "cell_type": "markdown",
   "id": "2bcbe673",
   "metadata": {},
   "source": [
    "nombre_infected      1006\n",
    "nombre_sain          2145\n",
    "nombre_exposed        559\n",
    "nombre_recovered    16290\n",
    "Name: 466, dtype: int64"
   ]
  },
  {
   "cell_type": "markdown",
   "id": "f51e81c4",
   "metadata": {},
   "source": [
    "nombre_infected      1008\n",
    "nombre_sain          2149\n",
    "nombre_exposed        555\n",
    "nombre_recovered    16288\n",
    "Name: 467, dtype: int64"
   ]
  },
  {
   "cell_type": "markdown",
   "id": "e8b07238",
   "metadata": {},
   "source": [
    "nombre_infected      1013\n",
    "nombre_sain          2125\n",
    "nombre_exposed        567\n",
    "nombre_recovered    16295\n",
    "Name: 468, dtype: int64"
   ]
  },
  {
   "cell_type": "markdown",
   "id": "60318a4f",
   "metadata": {},
   "source": [
    "nombre_infected      1007\n",
    "nombre_sain          2092\n",
    "nombre_exposed        593\n",
    "nombre_recovered    16308\n",
    "Name: 469, dtype: int64"
   ]
  },
  {
   "cell_type": "markdown",
   "id": "eaacfa5e",
   "metadata": {},
   "source": [
    "nombre_infected      1006\n",
    "nombre_sain          2078\n",
    "nombre_exposed        608\n",
    "nombre_recovered    16308\n",
    "Name: 470, dtype: int64"
   ]
  },
  {
   "cell_type": "markdown",
   "id": "6bf78659",
   "metadata": {},
   "source": [
    "nombre_infected      1014\n",
    "nombre_sain          2034\n",
    "nombre_exposed        632\n",
    "nombre_recovered    16320\n",
    "Name: 471, dtype: int64"
   ]
  },
  {
   "cell_type": "markdown",
   "id": "f1a9d5e1",
   "metadata": {},
   "source": [
    "nombre_infected      1016\n",
    "nombre_sain          2022\n",
    "nombre_exposed        637\n",
    "nombre_recovered    16325\n",
    "Name: 472, dtype: int64"
   ]
  },
  {
   "cell_type": "markdown",
   "id": "53df516f",
   "metadata": {},
   "source": [
    "nombre_infected      1032\n",
    "nombre_sain          2025\n",
    "nombre_exposed        624\n",
    "nombre_recovered    16319\n",
    "Name: 473, dtype: int64"
   ]
  },
  {
   "cell_type": "markdown",
   "id": "10893fff",
   "metadata": {},
   "source": [
    "nombre_infected      1026\n",
    "nombre_sain          2017\n",
    "nombre_exposed        622\n",
    "nombre_recovered    16335\n",
    "Name: 474, dtype: int64"
   ]
  },
  {
   "cell_type": "markdown",
   "id": "aaf6c95e",
   "metadata": {},
   "source": [
    "nombre_infected      1043\n",
    "nombre_sain          2014\n",
    "nombre_exposed        589\n",
    "nombre_recovered    16354\n",
    "Name: 475, dtype: int64"
   ]
  },
  {
   "cell_type": "markdown",
   "id": "85e779cd",
   "metadata": {},
   "source": [
    "nombre_infected      1061\n",
    "nombre_sain          1989\n",
    "nombre_exposed        582\n",
    "nombre_recovered    16368\n",
    "Name: 476, dtype: int64"
   ]
  },
  {
   "cell_type": "markdown",
   "id": "66d0902d",
   "metadata": {},
   "source": [
    "nombre_infected      1054\n",
    "nombre_sain          1991\n",
    "nombre_exposed        563\n",
    "nombre_recovered    16392\n",
    "Name: 477, dtype: int64"
   ]
  },
  {
   "cell_type": "markdown",
   "id": "48cfe6c1",
   "metadata": {},
   "source": [
    "nombre_infected      1050\n",
    "nombre_sain          2006\n",
    "nombre_exposed        562\n",
    "nombre_recovered    16382\n",
    "Name: 478, dtype: int64"
   ]
  },
  {
   "cell_type": "markdown",
   "id": "f63a521e",
   "metadata": {},
   "source": [
    "nombre_infected      1028\n",
    "nombre_sain          1998\n",
    "nombre_exposed        565\n",
    "nombre_recovered    16409\n",
    "Name: 479, dtype: int64"
   ]
  },
  {
   "cell_type": "markdown",
   "id": "0af37e9c",
   "metadata": {},
   "source": [
    "nombre_infected      1026\n",
    "nombre_sain          1979\n",
    "nombre_exposed        575\n",
    "nombre_recovered    16420\n",
    "Name: 480, dtype: int64"
   ]
  },
  {
   "cell_type": "markdown",
   "id": "e4effdbf",
   "metadata": {},
   "source": [
    "nombre_infected      1041\n",
    "nombre_sain          1967\n",
    "nombre_exposed        566\n",
    "nombre_recovered    16426\n",
    "Name: 481, dtype: int64"
   ]
  },
  {
   "cell_type": "markdown",
   "id": "329f6d54",
   "metadata": {},
   "source": [
    "nombre_infected      1038\n",
    "nombre_sain          1970\n",
    "nombre_exposed        555\n",
    "nombre_recovered    16437\n",
    "Name: 482, dtype: int64"
   ]
  },
  {
   "cell_type": "markdown",
   "id": "12ea51c3",
   "metadata": {},
   "source": [
    "nombre_infected      1008\n",
    "nombre_sain          1929\n",
    "nombre_exposed        594\n",
    "nombre_recovered    16469\n",
    "Name: 483, dtype: int64"
   ]
  },
  {
   "cell_type": "markdown",
   "id": "e42fcd1c",
   "metadata": {},
   "source": [
    "nombre_infected       997\n",
    "nombre_sain          1917\n",
    "nombre_exposed        601\n",
    "nombre_recovered    16485\n",
    "Name: 484, dtype: int64"
   ]
  },
  {
   "cell_type": "markdown",
   "id": "05915257",
   "metadata": {},
   "source": [
    "nombre_infected      1009\n",
    "nombre_sain          1931\n",
    "nombre_exposed        565\n",
    "nombre_recovered    16495\n",
    "Name: 485, dtype: int64"
   ]
  },
  {
   "cell_type": "markdown",
   "id": "c0736014",
   "metadata": {},
   "source": [
    "nombre_infected      1012\n",
    "nombre_sain          1940\n",
    "nombre_exposed        544\n",
    "nombre_recovered    16504\n",
    "Name: 486, dtype: int64"
   ]
  },
  {
   "cell_type": "markdown",
   "id": "5fd6c0e9",
   "metadata": {},
   "source": [
    "nombre_infected      1034\n",
    "nombre_sain          1936\n",
    "nombre_exposed        524\n",
    "nombre_recovered    16506\n",
    "Name: 487, dtype: int64"
   ]
  },
  {
   "cell_type": "markdown",
   "id": "9f982261",
   "metadata": {},
   "source": [
    "nombre_infected      1020\n",
    "nombre_sain          1962\n",
    "nombre_exposed        507\n",
    "nombre_recovered    16511\n",
    "Name: 488, dtype: int64"
   ]
  },
  {
   "cell_type": "markdown",
   "id": "83bf7e67",
   "metadata": {},
   "source": [
    "nombre_infected      1005\n",
    "nombre_sain          1994\n",
    "nombre_exposed        498\n",
    "nombre_recovered    16503\n",
    "Name: 489, dtype: int64"
   ]
  },
  {
   "cell_type": "markdown",
   "id": "81e08448",
   "metadata": {},
   "source": [
    "nombre_infected       998\n",
    "nombre_sain          1990\n",
    "nombre_exposed        497\n",
    "nombre_recovered    16515\n",
    "Name: 490, dtype: int64"
   ]
  },
  {
   "cell_type": "markdown",
   "id": "92653e91",
   "metadata": {},
   "source": [
    "nombre_infected       959\n",
    "nombre_sain          1995\n",
    "nombre_exposed        514\n",
    "nombre_recovered    16532\n",
    "Name: 491, dtype: int64"
   ]
  },
  {
   "cell_type": "markdown",
   "id": "6b96a2df",
   "metadata": {},
   "source": [
    "nombre_infected       930\n",
    "nombre_sain          1988\n",
    "nombre_exposed        521\n",
    "nombre_recovered    16561\n",
    "Name: 492, dtype: int64"
   ]
  },
  {
   "cell_type": "markdown",
   "id": "53fedc28",
   "metadata": {},
   "source": [
    "nombre_infected       917\n",
    "nombre_sain          2007\n",
    "nombre_exposed        492\n",
    "nombre_recovered    16584\n",
    "Name: 493, dtype: int64"
   ]
  },
  {
   "cell_type": "markdown",
   "id": "02336cb9",
   "metadata": {},
   "source": [
    "nombre_infected       935\n",
    "nombre_sain          2027\n",
    "nombre_exposed        466\n",
    "nombre_recovered    16572\n",
    "Name: 494, dtype: int64"
   ]
  },
  {
   "cell_type": "markdown",
   "id": "ffbcdcce",
   "metadata": {},
   "source": [
    "nombre_infected       937\n",
    "nombre_sain          2027\n",
    "nombre_exposed        466\n",
    "nombre_recovered    16570\n",
    "Name: 495, dtype: int64"
   ]
  },
  {
   "cell_type": "markdown",
   "id": "324976a8",
   "metadata": {},
   "source": [
    "nombre_infected       916\n",
    "nombre_sain          2030\n",
    "nombre_exposed        494\n",
    "nombre_recovered    16560\n",
    "Name: 496, dtype: int64"
   ]
  },
  {
   "cell_type": "markdown",
   "id": "34e47e93",
   "metadata": {},
   "source": [
    "nombre_infected       925\n",
    "nombre_sain          2041\n",
    "nombre_exposed        476\n",
    "nombre_recovered    16558\n",
    "Name: 497, dtype: int64"
   ]
  },
  {
   "cell_type": "markdown",
   "id": "525f37fa",
   "metadata": {},
   "source": [
    "nombre_infected       930\n",
    "nombre_sain          2051\n",
    "nombre_exposed        470\n",
    "nombre_recovered    16549\n",
    "Name: 498, dtype: int64"
   ]
  },
  {
   "cell_type": "markdown",
   "id": "5a9e0fe9",
   "metadata": {},
   "source": [
    "nombre_infected       914\n",
    "nombre_sain          2058\n",
    "nombre_exposed        488\n",
    "nombre_recovered    16540\n",
    "Name: 499, dtype: int64"
   ]
  },
  {
   "cell_type": "markdown",
   "id": "e7a77a21",
   "metadata": {},
   "source": [
    "nombre_infected       890\n",
    "nombre_sain          2053\n",
    "nombre_exposed        495\n",
    "nombre_recovered    16562\n",
    "Name: 500, dtype: int64"
   ]
  },
  {
   "cell_type": "markdown",
   "id": "c433cda6",
   "metadata": {},
   "source": [
    "nombre_infected       897\n",
    "nombre_sain          2069\n",
    "nombre_exposed        487\n",
    "nombre_recovered    16547\n",
    "Name: 501, dtype: int64"
   ]
  },
  {
   "cell_type": "markdown",
   "id": "28e3903f",
   "metadata": {},
   "source": [
    "nombre_infected       889\n",
    "nombre_sain          2078\n",
    "nombre_exposed        484\n",
    "nombre_recovered    16549\n",
    "Name: 502, dtype: int64"
   ]
  },
  {
   "cell_type": "markdown",
   "id": "98fc5183",
   "metadata": {},
   "source": [
    "nombre_infected       869\n",
    "nombre_sain          2073\n",
    "nombre_exposed        504\n",
    "nombre_recovered    16554\n",
    "Name: 503, dtype: int64"
   ]
  },
  {
   "cell_type": "markdown",
   "id": "a038550b",
   "metadata": {},
   "source": [
    "nombre_infected       869\n",
    "nombre_sain          2067\n",
    "nombre_exposed        515\n",
    "nombre_recovered    16549\n",
    "Name: 504, dtype: int64"
   ]
  },
  {
   "cell_type": "markdown",
   "id": "eb7a7488",
   "metadata": {},
   "source": [
    "nombre_infected       879\n",
    "nombre_sain          2052\n",
    "nombre_exposed        522\n",
    "nombre_recovered    16547\n",
    "Name: 505, dtype: int64"
   ]
  },
  {
   "cell_type": "markdown",
   "id": "67c3f495",
   "metadata": {},
   "source": [
    "nombre_infected       902\n",
    "nombre_sain          2057\n",
    "nombre_exposed        509\n",
    "nombre_recovered    16532\n",
    "Name: 506, dtype: int64"
   ]
  },
  {
   "cell_type": "markdown",
   "id": "b7d3e8ac",
   "metadata": {},
   "source": [
    "nombre_infected       883\n",
    "nombre_sain          2084\n",
    "nombre_exposed        486\n",
    "nombre_recovered    16547\n",
    "Name: 507, dtype: int64"
   ]
  },
  {
   "cell_type": "markdown",
   "id": "bd6c83af",
   "metadata": {},
   "source": [
    "nombre_infected       869\n",
    "nombre_sain          2077\n",
    "nombre_exposed        479\n",
    "nombre_recovered    16575\n",
    "Name: 508, dtype: int64"
   ]
  },
  {
   "cell_type": "markdown",
   "id": "d39cc0f9",
   "metadata": {},
   "source": [
    "nombre_infected       866\n",
    "nombre_sain          2079\n",
    "nombre_exposed        478\n",
    "nombre_recovered    16577\n",
    "Name: 509, dtype: int64"
   ]
  },
  {
   "cell_type": "markdown",
   "id": "b5f4ae5f",
   "metadata": {},
   "source": [
    "nombre_infected       888\n",
    "nombre_sain          2059\n",
    "nombre_exposed        463\n",
    "nombre_recovered    16590\n",
    "Name: 510, dtype: int64"
   ]
  },
  {
   "cell_type": "markdown",
   "id": "fb809512",
   "metadata": {},
   "source": [
    "nombre_infected       869\n",
    "nombre_sain          2051\n",
    "nombre_exposed        468\n",
    "nombre_recovered    16612\n",
    "Name: 511, dtype: int64"
   ]
  },
  {
   "cell_type": "markdown",
   "id": "0a48ed09",
   "metadata": {},
   "source": [
    "nombre_infected       871\n",
    "nombre_sain          2040\n",
    "nombre_exposed        459\n",
    "nombre_recovered    16630\n",
    "Name: 512, dtype: int64"
   ]
  },
  {
   "cell_type": "markdown",
   "id": "0d60057c",
   "metadata": {},
   "source": [
    "nombre_infected       850\n",
    "nombre_sain          2014\n",
    "nombre_exposed        470\n",
    "nombre_recovered    16666\n",
    "Name: 513, dtype: int64"
   ]
  },
  {
   "cell_type": "markdown",
   "id": "3b545d66",
   "metadata": {},
   "source": [
    "nombre_infected       865\n",
    "nombre_sain          2010\n",
    "nombre_exposed        465\n",
    "nombre_recovered    16660\n",
    "Name: 514, dtype: int64"
   ]
  },
  {
   "cell_type": "markdown",
   "id": "71d7ead3",
   "metadata": {},
   "source": [
    "nombre_infected       873\n",
    "nombre_sain          2027\n",
    "nombre_exposed        450\n",
    "nombre_recovered    16650\n",
    "Name: 515, dtype: int64"
   ]
  },
  {
   "cell_type": "markdown",
   "id": "080f116e",
   "metadata": {},
   "source": [
    "nombre_infected       878\n",
    "nombre_sain          2027\n",
    "nombre_exposed        432\n",
    "nombre_recovered    16663\n",
    "Name: 516, dtype: int64"
   ]
  },
  {
   "cell_type": "markdown",
   "id": "ee24c7c9",
   "metadata": {},
   "source": [
    "nombre_infected       863\n",
    "nombre_sain          2031\n",
    "nombre_exposed        438\n",
    "nombre_recovered    16668\n",
    "Name: 517, dtype: int64"
   ]
  },
  {
   "cell_type": "markdown",
   "id": "d1767f3f",
   "metadata": {},
   "source": [
    "nombre_infected       843\n",
    "nombre_sain          2018\n",
    "nombre_exposed        442\n",
    "nombre_recovered    16697\n",
    "Name: 518, dtype: int64"
   ]
  },
  {
   "cell_type": "markdown",
   "id": "d9eb6a55",
   "metadata": {},
   "source": [
    "nombre_infected       840\n",
    "nombre_sain          2022\n",
    "nombre_exposed        419\n",
    "nombre_recovered    16719\n",
    "Name: 519, dtype: int64"
   ]
  },
  {
   "cell_type": "markdown",
   "id": "81d7b677",
   "metadata": {},
   "source": [
    "nombre_infected       815\n",
    "nombre_sain          2041\n",
    "nombre_exposed        410\n",
    "nombre_recovered    16734\n",
    "Name: 520, dtype: int64"
   ]
  },
  {
   "cell_type": "markdown",
   "id": "1182bb38",
   "metadata": {},
   "source": [
    "nombre_infected       805\n",
    "nombre_sain          2048\n",
    "nombre_exposed        394\n",
    "nombre_recovered    16753\n",
    "Name: 521, dtype: int64"
   ]
  },
  {
   "cell_type": "markdown",
   "id": "10882627",
   "metadata": {},
   "source": [
    "nombre_infected       788\n",
    "nombre_sain          2048\n",
    "nombre_exposed        422\n",
    "nombre_recovered    16742\n",
    "Name: 522, dtype: int64"
   ]
  },
  {
   "cell_type": "markdown",
   "id": "7799addb",
   "metadata": {},
   "source": [
    "nombre_infected       778\n",
    "nombre_sain          2059\n",
    "nombre_exposed        429\n",
    "nombre_recovered    16734\n",
    "Name: 523, dtype: int64"
   ]
  },
  {
   "cell_type": "markdown",
   "id": "68ae390a",
   "metadata": {},
   "source": [
    "nombre_infected       757\n",
    "nombre_sain          2103\n",
    "nombre_exposed        419\n",
    "nombre_recovered    16721\n",
    "Name: 524, dtype: int64"
   ]
  },
  {
   "cell_type": "markdown",
   "id": "0e3c56fe",
   "metadata": {},
   "source": [
    "nombre_infected       764\n",
    "nombre_sain          2143\n",
    "nombre_exposed        419\n",
    "nombre_recovered    16674\n",
    "Name: 525, dtype: int64"
   ]
  },
  {
   "cell_type": "markdown",
   "id": "9773c4ed",
   "metadata": {},
   "source": [
    "nombre_infected       777\n",
    "nombre_sain          2145\n",
    "nombre_exposed        414\n",
    "nombre_recovered    16664\n",
    "Name: 526, dtype: int64"
   ]
  },
  {
   "cell_type": "markdown",
   "id": "31001048",
   "metadata": {},
   "source": [
    "nombre_infected       755\n",
    "nombre_sain          2163\n",
    "nombre_exposed        414\n",
    "nombre_recovered    16668\n",
    "Name: 527, dtype: int64"
   ]
  },
  {
   "cell_type": "markdown",
   "id": "d2f01c55",
   "metadata": {},
   "source": [
    "nombre_infected       771\n",
    "nombre_sain          2164\n",
    "nombre_exposed        419\n",
    "nombre_recovered    16646\n",
    "Name: 528, dtype: int64"
   ]
  },
  {
   "cell_type": "markdown",
   "id": "ced7aea4",
   "metadata": {},
   "source": [
    "nombre_infected       755\n",
    "nombre_sain          2200\n",
    "nombre_exposed        419\n",
    "nombre_recovered    16626\n",
    "Name: 529, dtype: int64"
   ]
  },
  {
   "cell_type": "markdown",
   "id": "7337dfb9",
   "metadata": {},
   "source": [
    "nombre_infected       756\n",
    "nombre_sain          2233\n",
    "nombre_exposed        417\n",
    "nombre_recovered    16594\n",
    "Name: 530, dtype: int64"
   ]
  },
  {
   "cell_type": "markdown",
   "id": "55dea5f7",
   "metadata": {},
   "source": [
    "nombre_infected       761\n",
    "nombre_sain          2265\n",
    "nombre_exposed        410\n",
    "nombre_recovered    16564\n",
    "Name: 531, dtype: int64"
   ]
  },
  {
   "cell_type": "markdown",
   "id": "96d2be83",
   "metadata": {},
   "source": [
    "nombre_infected       755\n",
    "nombre_sain          2293\n",
    "nombre_exposed        422\n",
    "nombre_recovered    16530\n",
    "Name: 532, dtype: int64"
   ]
  },
  {
   "cell_type": "markdown",
   "id": "14b3e3c2",
   "metadata": {},
   "source": [
    "nombre_infected       738\n",
    "nombre_sain          2305\n",
    "nombre_exposed        430\n",
    "nombre_recovered    16527\n",
    "Name: 533, dtype: int64"
   ]
  },
  {
   "cell_type": "markdown",
   "id": "d63648e0",
   "metadata": {},
   "source": [
    "nombre_infected       760\n",
    "nombre_sain          2341\n",
    "nombre_exposed        428\n",
    "nombre_recovered    16471\n",
    "Name: 534, dtype: int64"
   ]
  },
  {
   "cell_type": "markdown",
   "id": "a4ca557d",
   "metadata": {},
   "source": [
    "nombre_infected       752\n",
    "nombre_sain          2330\n",
    "nombre_exposed        454\n",
    "nombre_recovered    16464\n",
    "Name: 535, dtype: int64"
   ]
  },
  {
   "cell_type": "markdown",
   "id": "578157f6",
   "metadata": {},
   "source": [
    "nombre_infected       746\n",
    "nombre_sain          2346\n",
    "nombre_exposed        462\n",
    "nombre_recovered    16446\n",
    "Name: 536, dtype: int64"
   ]
  },
  {
   "cell_type": "markdown",
   "id": "a17335da",
   "metadata": {},
   "source": [
    "nombre_infected       759\n",
    "nombre_sain          2326\n",
    "nombre_exposed        465\n",
    "nombre_recovered    16450\n",
    "Name: 537, dtype: int64"
   ]
  },
  {
   "cell_type": "markdown",
   "id": "3c59564f",
   "metadata": {},
   "source": [
    "nombre_infected       785\n",
    "nombre_sain          2328\n",
    "nombre_exposed        470\n",
    "nombre_recovered    16417\n",
    "Name: 538, dtype: int64"
   ]
  },
  {
   "cell_type": "markdown",
   "id": "e66b42a7",
   "metadata": {},
   "source": [
    "nombre_infected       794\n",
    "nombre_sain          2292\n",
    "nombre_exposed        504\n",
    "nombre_recovered    16410\n",
    "Name: 539, dtype: int64"
   ]
  },
  {
   "cell_type": "markdown",
   "id": "dc504609",
   "metadata": {},
   "source": [
    "nombre_infected       800\n",
    "nombre_sain          2273\n",
    "nombre_exposed        505\n",
    "nombre_recovered    16422\n",
    "Name: 540, dtype: int64"
   ]
  },
  {
   "cell_type": "markdown",
   "id": "741a13c1",
   "metadata": {},
   "source": [
    "nombre_infected       830\n",
    "nombre_sain          2260\n",
    "nombre_exposed        494\n",
    "nombre_recovered    16416\n",
    "Name: 541, dtype: int64"
   ]
  },
  {
   "cell_type": "markdown",
   "id": "445a25ff",
   "metadata": {},
   "source": [
    "nombre_infected       869\n",
    "nombre_sain          2249\n",
    "nombre_exposed        471\n",
    "nombre_recovered    16411\n",
    "Name: 542, dtype: int64"
   ]
  },
  {
   "cell_type": "markdown",
   "id": "f65867d3",
   "metadata": {},
   "source": [
    "nombre_infected       846\n",
    "nombre_sain          2252\n",
    "nombre_exposed        484\n",
    "nombre_recovered    16418\n",
    "Name: 543, dtype: int64"
   ]
  },
  {
   "cell_type": "markdown",
   "id": "6f65a9c1",
   "metadata": {},
   "source": [
    "nombre_infected       831\n",
    "nombre_sain          2237\n",
    "nombre_exposed        511\n",
    "nombre_recovered    16421\n",
    "Name: 544, dtype: int64"
   ]
  },
  {
   "cell_type": "markdown",
   "id": "695f6d7a",
   "metadata": {},
   "source": [
    "nombre_infected       836\n",
    "nombre_sain          2241\n",
    "nombre_exposed        509\n",
    "nombre_recovered    16414\n",
    "Name: 545, dtype: int64"
   ]
  },
  {
   "cell_type": "markdown",
   "id": "515c903e",
   "metadata": {},
   "source": [
    "nombre_infected       851\n",
    "nombre_sain          2237\n",
    "nombre_exposed        508\n",
    "nombre_recovered    16404\n",
    "Name: 546, dtype: int64"
   ]
  },
  {
   "cell_type": "markdown",
   "id": "eff3b542",
   "metadata": {},
   "source": [
    "nombre_infected       856\n",
    "nombre_sain          2204\n",
    "nombre_exposed        512\n",
    "nombre_recovered    16428\n",
    "Name: 547, dtype: int64"
   ]
  },
  {
   "cell_type": "markdown",
   "id": "89cb439c",
   "metadata": {},
   "source": [
    "nombre_infected       887\n",
    "nombre_sain          2214\n",
    "nombre_exposed        475\n",
    "nombre_recovered    16424\n",
    "Name: 548, dtype: int64"
   ]
  },
  {
   "cell_type": "markdown",
   "id": "bd0dfcfa",
   "metadata": {},
   "source": [
    "nombre_infected       895\n",
    "nombre_sain          2219\n",
    "nombre_exposed        475\n",
    "nombre_recovered    16411\n",
    "Name: 549, dtype: int64"
   ]
  },
  {
   "cell_type": "markdown",
   "id": "bfc21585",
   "metadata": {},
   "source": [
    "nombre_infected       902\n",
    "nombre_sain          2212\n",
    "nombre_exposed        479\n",
    "nombre_recovered    16407\n",
    "Name: 550, dtype: int64"
   ]
  },
  {
   "cell_type": "markdown",
   "id": "b685f2d3",
   "metadata": {},
   "source": [
    "nombre_infected       876\n",
    "nombre_sain          2210\n",
    "nombre_exposed        503\n",
    "nombre_recovered    16411\n",
    "Name: 551, dtype: int64"
   ]
  },
  {
   "cell_type": "markdown",
   "id": "b975bfbf",
   "metadata": {},
   "source": [
    "nombre_infected       863\n",
    "nombre_sain          2234\n",
    "nombre_exposed        513\n",
    "nombre_recovered    16390\n",
    "Name: 552, dtype: int64"
   ]
  },
  {
   "cell_type": "markdown",
   "id": "2723cd15",
   "metadata": {},
   "source": [
    "nombre_infected       872\n",
    "nombre_sain          2237\n",
    "nombre_exposed        508\n",
    "nombre_recovered    16383\n",
    "Name: 553, dtype: int64"
   ]
  },
  {
   "cell_type": "markdown",
   "id": "cb1f3a93",
   "metadata": {},
   "source": [
    "nombre_infected       874\n",
    "nombre_sain          2218\n",
    "nombre_exposed        510\n",
    "nombre_recovered    16398\n",
    "Name: 554, dtype: int64"
   ]
  },
  {
   "cell_type": "markdown",
   "id": "1b26024d",
   "metadata": {},
   "source": [
    "nombre_infected       852\n",
    "nombre_sain          2244\n",
    "nombre_exposed        503\n",
    "nombre_recovered    16401\n",
    "Name: 555, dtype: int64"
   ]
  },
  {
   "cell_type": "markdown",
   "id": "84d34baa",
   "metadata": {},
   "source": [
    "nombre_infected       839\n",
    "nombre_sain          2240\n",
    "nombre_exposed        514\n",
    "nombre_recovered    16407\n",
    "Name: 556, dtype: int64"
   ]
  },
  {
   "cell_type": "markdown",
   "id": "a7a75cf8",
   "metadata": {},
   "source": [
    "nombre_infected       840\n",
    "nombre_sain          2223\n",
    "nombre_exposed        527\n",
    "nombre_recovered    16410\n",
    "Name: 557, dtype: int64"
   ]
  },
  {
   "cell_type": "markdown",
   "id": "f4cac24e",
   "metadata": {},
   "source": [
    "nombre_infected       849\n",
    "nombre_sain          2216\n",
    "nombre_exposed        510\n",
    "nombre_recovered    16425\n",
    "Name: 558, dtype: int64"
   ]
  },
  {
   "cell_type": "markdown",
   "id": "fc21522e",
   "metadata": {},
   "source": [
    "nombre_infected       862\n",
    "nombre_sain          2209\n",
    "nombre_exposed        494\n",
    "nombre_recovered    16435\n",
    "Name: 559, dtype: int64"
   ]
  },
  {
   "cell_type": "markdown",
   "id": "8f2087a4",
   "metadata": {},
   "source": [
    "nombre_infected       848\n",
    "nombre_sain          2217\n",
    "nombre_exposed        500\n",
    "nombre_recovered    16435\n",
    "Name: 560, dtype: int64"
   ]
  },
  {
   "cell_type": "markdown",
   "id": "78a5e683",
   "metadata": {},
   "source": [
    "nombre_infected       847\n",
    "nombre_sain          2235\n",
    "nombre_exposed        486\n",
    "nombre_recovered    16432\n",
    "Name: 561, dtype: int64"
   ]
  },
  {
   "cell_type": "markdown",
   "id": "a1116f80",
   "metadata": {},
   "source": [
    "nombre_infected       848\n",
    "nombre_sain          2237\n",
    "nombre_exposed        492\n",
    "nombre_recovered    16423\n",
    "Name: 562, dtype: int64"
   ]
  },
  {
   "cell_type": "markdown",
   "id": "68f40e42",
   "metadata": {},
   "source": [
    "nombre_infected       831\n",
    "nombre_sain          2215\n",
    "nombre_exposed        492\n",
    "nombre_recovered    16462\n",
    "Name: 563, dtype: int64"
   ]
  },
  {
   "cell_type": "markdown",
   "id": "2a6c4a4b",
   "metadata": {},
   "source": [
    "nombre_infected       841\n",
    "nombre_sain          2247\n",
    "nombre_exposed        456\n",
    "nombre_recovered    16456\n",
    "Name: 564, dtype: int64"
   ]
  },
  {
   "cell_type": "markdown",
   "id": "68b6e41b",
   "metadata": {},
   "source": [
    "nombre_infected       828\n",
    "nombre_sain          2262\n",
    "nombre_exposed        446\n",
    "nombre_recovered    16464\n",
    "Name: 565, dtype: int64"
   ]
  },
  {
   "cell_type": "markdown",
   "id": "1e4ca126",
   "metadata": {},
   "source": [
    "nombre_infected       842\n",
    "nombre_sain          2233\n",
    "nombre_exposed        464\n",
    "nombre_recovered    16461\n",
    "Name: 566, dtype: int64"
   ]
  },
  {
   "cell_type": "markdown",
   "id": "10225d14",
   "metadata": {},
   "source": [
    "nombre_infected       817\n",
    "nombre_sain          2210\n",
    "nombre_exposed        474\n",
    "nombre_recovered    16499\n",
    "Name: 567, dtype: int64"
   ]
  },
  {
   "cell_type": "markdown",
   "id": "35ebe3cc",
   "metadata": {},
   "source": [
    "nombre_infected       808\n",
    "nombre_sain          2202\n",
    "nombre_exposed        477\n",
    "nombre_recovered    16513\n",
    "Name: 568, dtype: int64"
   ]
  },
  {
   "cell_type": "markdown",
   "id": "245314ed",
   "metadata": {},
   "source": [
    "nombre_infected       807\n",
    "nombre_sain          2212\n",
    "nombre_exposed        469\n",
    "nombre_recovered    16512\n",
    "Name: 569, dtype: int64"
   ]
  },
  {
   "cell_type": "markdown",
   "id": "aec39a72",
   "metadata": {},
   "source": [
    "nombre_infected       807\n",
    "nombre_sain          2219\n",
    "nombre_exposed        451\n",
    "nombre_recovered    16523\n",
    "Name: 570, dtype: int64"
   ]
  },
  {
   "cell_type": "markdown",
   "id": "ffa8a1ca",
   "metadata": {},
   "source": [
    "nombre_infected       797\n",
    "nombre_sain          2225\n",
    "nombre_exposed        436\n",
    "nombre_recovered    16542\n",
    "Name: 571, dtype: int64"
   ]
  },
  {
   "cell_type": "markdown",
   "id": "96da851c",
   "metadata": {},
   "source": [
    "nombre_infected       803\n",
    "nombre_sain          2224\n",
    "nombre_exposed        453\n",
    "nombre_recovered    16520\n",
    "Name: 572, dtype: int64"
   ]
  },
  {
   "cell_type": "markdown",
   "id": "411983a8",
   "metadata": {},
   "source": [
    "nombre_infected       798\n",
    "nombre_sain          2234\n",
    "nombre_exposed        453\n",
    "nombre_recovered    16515\n",
    "Name: 573, dtype: int64"
   ]
  },
  {
   "cell_type": "markdown",
   "id": "bdd85e9b",
   "metadata": {},
   "source": [
    "nombre_infected       812\n",
    "nombre_sain          2255\n",
    "nombre_exposed        451\n",
    "nombre_recovered    16482\n",
    "Name: 574, dtype: int64"
   ]
  },
  {
   "cell_type": "markdown",
   "id": "541ec83f",
   "metadata": {},
   "source": [
    "nombre_infected       792\n",
    "nombre_sain          2270\n",
    "nombre_exposed        485\n",
    "nombre_recovered    16453\n",
    "Name: 575, dtype: int64"
   ]
  },
  {
   "cell_type": "markdown",
   "id": "b55a77ba",
   "metadata": {},
   "source": [
    "nombre_infected       788\n",
    "nombre_sain          2301\n",
    "nombre_exposed        485\n",
    "nombre_recovered    16426\n",
    "Name: 576, dtype: int64"
   ]
  },
  {
   "cell_type": "markdown",
   "id": "269890da",
   "metadata": {},
   "source": [
    "nombre_infected       797\n",
    "nombre_sain          2337\n",
    "nombre_exposed        482\n",
    "nombre_recovered    16384\n",
    "Name: 577, dtype: int64"
   ]
  },
  {
   "cell_type": "markdown",
   "id": "bdd4c509",
   "metadata": {},
   "source": [
    "nombre_infected       801\n",
    "nombre_sain          2381\n",
    "nombre_exposed        475\n",
    "nombre_recovered    16343\n",
    "Name: 578, dtype: int64"
   ]
  },
  {
   "cell_type": "markdown",
   "id": "64c8426b",
   "metadata": {},
   "source": [
    "nombre_infected       811\n",
    "nombre_sain          2413\n",
    "nombre_exposed        470\n",
    "nombre_recovered    16306\n",
    "Name: 579, dtype: int64"
   ]
  },
  {
   "cell_type": "markdown",
   "id": "16a60ec3",
   "metadata": {},
   "source": [
    "nombre_infected       822\n",
    "nombre_sain          2427\n",
    "nombre_exposed        461\n",
    "nombre_recovered    16290\n",
    "Name: 580, dtype: int64"
   ]
  },
  {
   "cell_type": "markdown",
   "id": "00b956b9",
   "metadata": {},
   "source": [
    "nombre_infected       798\n",
    "nombre_sain          2421\n",
    "nombre_exposed        480\n",
    "nombre_recovered    16301\n",
    "Name: 581, dtype: int64"
   ]
  },
  {
   "cell_type": "markdown",
   "id": "c73e8a69",
   "metadata": {},
   "source": [
    "nombre_infected       803\n",
    "nombre_sain          2437\n",
    "nombre_exposed        460\n",
    "nombre_recovered    16300\n",
    "Name: 582, dtype: int64"
   ]
  },
  {
   "cell_type": "markdown",
   "id": "7a432609",
   "metadata": {},
   "source": [
    "nombre_infected       793\n",
    "nombre_sain          2443\n",
    "nombre_exposed        477\n",
    "nombre_recovered    16287\n",
    "Name: 583, dtype: int64"
   ]
  },
  {
   "cell_type": "markdown",
   "id": "723927e9",
   "metadata": {},
   "source": [
    "nombre_infected       772\n",
    "nombre_sain          2458\n",
    "nombre_exposed        481\n",
    "nombre_recovered    16289\n",
    "Name: 584, dtype: int64"
   ]
  },
  {
   "cell_type": "markdown",
   "id": "105fa2ba",
   "metadata": {},
   "source": [
    "nombre_infected       788\n",
    "nombre_sain          2456\n",
    "nombre_exposed        471\n",
    "nombre_recovered    16285\n",
    "Name: 585, dtype: int64"
   ]
  },
  {
   "cell_type": "markdown",
   "id": "26f213e0",
   "metadata": {},
   "source": [
    "nombre_infected       770\n",
    "nombre_sain          2452\n",
    "nombre_exposed        495\n",
    "nombre_recovered    16283\n",
    "Name: 586, dtype: int64"
   ]
  },
  {
   "cell_type": "markdown",
   "id": "76683499",
   "metadata": {},
   "source": [
    "nombre_infected       750\n",
    "nombre_sain          2444\n",
    "nombre_exposed        515\n",
    "nombre_recovered    16291\n",
    "Name: 587, dtype: int64"
   ]
  },
  {
   "cell_type": "markdown",
   "id": "fa0413bd",
   "metadata": {},
   "source": [
    "nombre_infected       767\n",
    "nombre_sain          2451\n",
    "nombre_exposed        515\n",
    "nombre_recovered    16267\n",
    "Name: 588, dtype: int64"
   ]
  },
  {
   "cell_type": "markdown",
   "id": "26d8bb6b",
   "metadata": {},
   "source": [
    "nombre_infected       767\n",
    "nombre_sain          2444\n",
    "nombre_exposed        548\n",
    "nombre_recovered    16241\n",
    "Name: 589, dtype: int64"
   ]
  },
  {
   "cell_type": "markdown",
   "id": "f3889977",
   "metadata": {},
   "source": [
    "nombre_infected       788\n",
    "nombre_sain          2454\n",
    "nombre_exposed        545\n",
    "nombre_recovered    16213\n",
    "Name: 590, dtype: int64"
   ]
  },
  {
   "cell_type": "markdown",
   "id": "a85779b5",
   "metadata": {},
   "source": [
    "nombre_infected       784\n",
    "nombre_sain          2461\n",
    "nombre_exposed        574\n",
    "nombre_recovered    16181\n",
    "Name: 591, dtype: int64"
   ]
  },
  {
   "cell_type": "markdown",
   "id": "7b2a7c36",
   "metadata": {},
   "source": [
    "nombre_infected       795\n",
    "nombre_sain          2459\n",
    "nombre_exposed        568\n",
    "nombre_recovered    16178\n",
    "Name: 592, dtype: int64"
   ]
  },
  {
   "cell_type": "markdown",
   "id": "ade0ad88",
   "metadata": {},
   "source": [
    "nombre_infected       843\n",
    "nombre_sain          2458\n",
    "nombre_exposed        566\n",
    "nombre_recovered    16133\n",
    "Name: 593, dtype: int64"
   ]
  },
  {
   "cell_type": "markdown",
   "id": "2bc837f7",
   "metadata": {},
   "source": [
    "nombre_infected       854\n",
    "nombre_sain          2470\n",
    "nombre_exposed        573\n",
    "nombre_recovered    16103\n",
    "Name: 594, dtype: int64"
   ]
  },
  {
   "cell_type": "markdown",
   "id": "5c20f0ff",
   "metadata": {},
   "source": [
    "nombre_infected       849\n",
    "nombre_sain          2448\n",
    "nombre_exposed        589\n",
    "nombre_recovered    16114\n",
    "Name: 595, dtype: int64"
   ]
  },
  {
   "cell_type": "markdown",
   "id": "bdd57900",
   "metadata": {},
   "source": [
    "nombre_infected       890\n",
    "nombre_sain          2423\n",
    "nombre_exposed        577\n",
    "nombre_recovered    16110\n",
    "Name: 596, dtype: int64"
   ]
  },
  {
   "cell_type": "markdown",
   "id": "05647a9d",
   "metadata": {},
   "source": [
    "nombre_infected       885\n",
    "nombre_sain          2409\n",
    "nombre_exposed        598\n",
    "nombre_recovered    16108\n",
    "Name: 597, dtype: int64"
   ]
  },
  {
   "cell_type": "markdown",
   "id": "98a0049c",
   "metadata": {},
   "source": [
    "nombre_infected       898\n",
    "nombre_sain          2402\n",
    "nombre_exposed        604\n",
    "nombre_recovered    16096\n",
    "Name: 598, dtype: int64"
   ]
  },
  {
   "cell_type": "markdown",
   "id": "62a94809",
   "metadata": {},
   "source": [
    "nombre_infected       895\n",
    "nombre_sain          2415\n",
    "nombre_exposed        596\n",
    "nombre_recovered    16094\n",
    "Name: 599, dtype: int64"
   ]
  },
  {
   "cell_type": "markdown",
   "id": "5cd3e329",
   "metadata": {},
   "source": [
    "nombre_infected       929\n",
    "nombre_sain          2400\n",
    "nombre_exposed        584\n",
    "nombre_recovered    16087\n",
    "Name: 600, dtype: int64"
   ]
  },
  {
   "cell_type": "markdown",
   "id": "b1a32217",
   "metadata": {},
   "source": [
    "nombre_infected       946\n",
    "nombre_sain          2383\n",
    "nombre_exposed        591\n",
    "nombre_recovered    16080\n",
    "Name: 601, dtype: int64"
   ]
  },
  {
   "cell_type": "markdown",
   "id": "f03ca24d",
   "metadata": {},
   "source": [
    "nombre_infected       926\n",
    "nombre_sain          2359\n",
    "nombre_exposed        617\n",
    "nombre_recovered    16098\n",
    "Name: 602, dtype: int64"
   ]
  },
  {
   "cell_type": "markdown",
   "id": "cc1a65b1",
   "metadata": {},
   "source": [
    "nombre_infected       944\n",
    "nombre_sain          2323\n",
    "nombre_exposed        625\n",
    "nombre_recovered    16108\n",
    "Name: 603, dtype: int64"
   ]
  },
  {
   "cell_type": "markdown",
   "id": "3da31fe5",
   "metadata": {},
   "source": [
    "nombre_infected       975\n",
    "nombre_sain          2273\n",
    "nombre_exposed        640\n",
    "nombre_recovered    16112\n",
    "Name: 604, dtype: int64"
   ]
  },
  {
   "cell_type": "markdown",
   "id": "c9eab850",
   "metadata": {},
   "source": [
    "nombre_infected       998\n",
    "nombre_sain          2220\n",
    "nombre_exposed        619\n",
    "nombre_recovered    16163\n",
    "Name: 605, dtype: int64"
   ]
  },
  {
   "cell_type": "markdown",
   "id": "50327fea",
   "metadata": {},
   "source": [
    "nombre_infected      1005\n",
    "nombre_sain          2192\n",
    "nombre_exposed        627\n",
    "nombre_recovered    16176\n",
    "Name: 606, dtype: int64"
   ]
  },
  {
   "cell_type": "markdown",
   "id": "64764517",
   "metadata": {},
   "source": [
    "nombre_infected      1004\n",
    "nombre_sain          2166\n",
    "nombre_exposed        613\n",
    "nombre_recovered    16217\n",
    "Name: 607, dtype: int64"
   ]
  },
  {
   "cell_type": "markdown",
   "id": "bd79d5da",
   "metadata": {},
   "source": [
    "nombre_infected      1011\n",
    "nombre_sain          2094\n",
    "nombre_exposed        618\n",
    "nombre_recovered    16277\n",
    "Name: 608, dtype: int64"
   ]
  },
  {
   "cell_type": "markdown",
   "id": "f4420c69",
   "metadata": {},
   "source": [
    "nombre_infected      1017\n",
    "nombre_sain          2076\n",
    "nombre_exposed        612\n",
    "nombre_recovered    16295\n",
    "Name: 609, dtype: int64"
   ]
  },
  {
   "cell_type": "markdown",
   "id": "910ff2ac",
   "metadata": {},
   "source": [
    "nombre_infected      1010\n",
    "nombre_sain          2045\n",
    "nombre_exposed        593\n",
    "nombre_recovered    16352\n",
    "Name: 610, dtype: int64"
   ]
  },
  {
   "cell_type": "markdown",
   "id": "67f76f8d",
   "metadata": {},
   "source": [
    "nombre_infected      1008\n",
    "nombre_sain          2029\n",
    "nombre_exposed        587\n",
    "nombre_recovered    16376\n",
    "Name: 611, dtype: int64"
   ]
  },
  {
   "cell_type": "markdown",
   "id": "b9dcb659",
   "metadata": {},
   "source": [
    "nombre_infected      1041\n",
    "nombre_sain          1986\n",
    "nombre_exposed        579\n",
    "nombre_recovered    16394\n",
    "Name: 612, dtype: int64"
   ]
  },
  {
   "cell_type": "markdown",
   "id": "8b4c48de",
   "metadata": {},
   "source": [
    "nombre_infected      1024\n",
    "nombre_sain          1982\n",
    "nombre_exposed        580\n",
    "nombre_recovered    16414\n",
    "Name: 613, dtype: int64"
   ]
  },
  {
   "cell_type": "markdown",
   "id": "c0ae1d19",
   "metadata": {},
   "source": [
    "nombre_infected      1028\n",
    "nombre_sain          1945\n",
    "nombre_exposed        575\n",
    "nombre_recovered    16452\n",
    "Name: 614, dtype: int64"
   ]
  },
  {
   "cell_type": "markdown",
   "id": "714c2c62",
   "metadata": {},
   "source": [
    "nombre_infected      1028\n",
    "nombre_sain          1945\n",
    "nombre_exposed        545\n",
    "nombre_recovered    16482\n",
    "Name: 615, dtype: int64"
   ]
  },
  {
   "cell_type": "markdown",
   "id": "8b521a80",
   "metadata": {},
   "source": [
    "nombre_infected      1038\n",
    "nombre_sain          1924\n",
    "nombre_exposed        552\n",
    "nombre_recovered    16486\n",
    "Name: 616, dtype: int64"
   ]
  },
  {
   "cell_type": "markdown",
   "id": "4c1c8ec3",
   "metadata": {},
   "source": [
    "nombre_infected      1011\n",
    "nombre_sain          1914\n",
    "nombre_exposed        539\n",
    "nombre_recovered    16536\n",
    "Name: 617, dtype: int64"
   ]
  },
  {
   "cell_type": "markdown",
   "id": "283ef294",
   "metadata": {},
   "source": [
    "nombre_infected      1019\n",
    "nombre_sain          1892\n",
    "nombre_exposed        529\n",
    "nombre_recovered    16560\n",
    "Name: 618, dtype: int64"
   ]
  },
  {
   "cell_type": "markdown",
   "id": "21a442a6",
   "metadata": {},
   "source": [
    "nombre_infected       990\n",
    "nombre_sain          1901\n",
    "nombre_exposed        507\n",
    "nombre_recovered    16602\n",
    "Name: 619, dtype: int64"
   ]
  },
  {
   "cell_type": "markdown",
   "id": "8bebd916",
   "metadata": {},
   "source": [
    "nombre_infected       991\n",
    "nombre_sain          1886\n",
    "nombre_exposed        497\n",
    "nombre_recovered    16626\n",
    "Name: 620, dtype: int64"
   ]
  },
  {
   "cell_type": "markdown",
   "id": "d6e33abd",
   "metadata": {},
   "source": [
    "nombre_infected       970\n",
    "nombre_sain          1895\n",
    "nombre_exposed        496\n",
    "nombre_recovered    16639\n",
    "Name: 621, dtype: int64"
   ]
  },
  {
   "cell_type": "markdown",
   "id": "06241814",
   "metadata": {},
   "source": [
    "nombre_infected       973\n",
    "nombre_sain          1914\n",
    "nombre_exposed        494\n",
    "nombre_recovered    16619\n",
    "Name: 622, dtype: int64"
   ]
  },
  {
   "cell_type": "markdown",
   "id": "5f85ac64",
   "metadata": {},
   "source": [
    "nombre_infected       971\n",
    "nombre_sain          1918\n",
    "nombre_exposed        476\n",
    "nombre_recovered    16635\n",
    "Name: 623, dtype: int64"
   ]
  },
  {
   "cell_type": "markdown",
   "id": "c03017a6",
   "metadata": {},
   "source": [
    "nombre_infected       943\n",
    "nombre_sain          1932\n",
    "nombre_exposed        455\n",
    "nombre_recovered    16670\n",
    "Name: 624, dtype: int64"
   ]
  },
  {
   "cell_type": "markdown",
   "id": "3035662c",
   "metadata": {},
   "source": [
    "nombre_infected       921\n",
    "nombre_sain          1932\n",
    "nombre_exposed        466\n",
    "nombre_recovered    16681\n",
    "Name: 625, dtype: int64"
   ]
  },
  {
   "cell_type": "markdown",
   "id": "9b8c24ea",
   "metadata": {},
   "source": [
    "nombre_infected       926\n",
    "nombre_sain          1938\n",
    "nombre_exposed        458\n",
    "nombre_recovered    16678\n",
    "Name: 626, dtype: int64"
   ]
  },
  {
   "cell_type": "markdown",
   "id": "c7822dcf",
   "metadata": {},
   "source": [
    "nombre_infected       878\n",
    "nombre_sain          1923\n",
    "nombre_exposed        487\n",
    "nombre_recovered    16712\n",
    "Name: 627, dtype: int64"
   ]
  },
  {
   "cell_type": "markdown",
   "id": "0ce431a7",
   "metadata": {},
   "source": [
    "nombre_infected       891\n",
    "nombre_sain          1941\n",
    "nombre_exposed        458\n",
    "nombre_recovered    16710\n",
    "Name: 628, dtype: int64"
   ]
  },
  {
   "cell_type": "markdown",
   "id": "dae02620",
   "metadata": {},
   "source": [
    "nombre_infected       871\n",
    "nombre_sain          1933\n",
    "nombre_exposed        486\n",
    "nombre_recovered    16710\n",
    "Name: 629, dtype: int64"
   ]
  },
  {
   "cell_type": "markdown",
   "id": "22d26d6d",
   "metadata": {},
   "source": [
    "nombre_infected       846\n",
    "nombre_sain          1968\n",
    "nombre_exposed        476\n",
    "nombre_recovered    16710\n",
    "Name: 630, dtype: int64"
   ]
  },
  {
   "cell_type": "markdown",
   "id": "d700a49c",
   "metadata": {},
   "source": [
    "nombre_infected       841\n",
    "nombre_sain          2003\n",
    "nombre_exposed        468\n",
    "nombre_recovered    16688\n",
    "Name: 631, dtype: int64"
   ]
  },
  {
   "cell_type": "markdown",
   "id": "d537e85e",
   "metadata": {},
   "source": [
    "nombre_infected       826\n",
    "nombre_sain          2023\n",
    "nombre_exposed        476\n",
    "nombre_recovered    16675\n",
    "Name: 632, dtype: int64"
   ]
  },
  {
   "cell_type": "markdown",
   "id": "b9bb26b8",
   "metadata": {},
   "source": [
    "nombre_infected       822\n",
    "nombre_sain          2018\n",
    "nombre_exposed        473\n",
    "nombre_recovered    16687\n",
    "Name: 633, dtype: int64"
   ]
  },
  {
   "cell_type": "markdown",
   "id": "fb242442",
   "metadata": {},
   "source": [
    "nombre_infected       835\n",
    "nombre_sain          2059\n",
    "nombre_exposed        459\n",
    "nombre_recovered    16647\n",
    "Name: 634, dtype: int64"
   ]
  },
  {
   "cell_type": "markdown",
   "id": "b97628c1",
   "metadata": {},
   "source": [
    "nombre_infected       845\n",
    "nombre_sain          2086\n",
    "nombre_exposed        458\n",
    "nombre_recovered    16611\n",
    "Name: 635, dtype: int64"
   ]
  },
  {
   "cell_type": "markdown",
   "id": "1ab9931d",
   "metadata": {},
   "source": [
    "nombre_infected       834\n",
    "nombre_sain          2088\n",
    "nombre_exposed        454\n",
    "nombre_recovered    16624\n",
    "Name: 636, dtype: int64"
   ]
  },
  {
   "cell_type": "markdown",
   "id": "48a746d2",
   "metadata": {},
   "source": [
    "nombre_infected       836\n",
    "nombre_sain          2087\n",
    "nombre_exposed        445\n",
    "nombre_recovered    16632\n",
    "Name: 637, dtype: int64"
   ]
  },
  {
   "cell_type": "markdown",
   "id": "2a7ff094",
   "metadata": {},
   "source": [
    "nombre_infected       833\n",
    "nombre_sain          2115\n",
    "nombre_exposed        454\n",
    "nombre_recovered    16598\n",
    "Name: 638, dtype: int64"
   ]
  },
  {
   "cell_type": "markdown",
   "id": "0effb96a",
   "metadata": {},
   "source": [
    "nombre_infected       842\n",
    "nombre_sain          2111\n",
    "nombre_exposed        460\n",
    "nombre_recovered    16587\n",
    "Name: 639, dtype: int64"
   ]
  },
  {
   "cell_type": "markdown",
   "id": "1f3532ac",
   "metadata": {},
   "source": [
    "nombre_infected       838\n",
    "nombre_sain          2120\n",
    "nombre_exposed        458\n",
    "nombre_recovered    16584\n",
    "Name: 640, dtype: int64"
   ]
  },
  {
   "cell_type": "markdown",
   "id": "4b668dd3",
   "metadata": {},
   "source": [
    "nombre_infected       821\n",
    "nombre_sain          2129\n",
    "nombre_exposed        485\n",
    "nombre_recovered    16565\n",
    "Name: 641, dtype: int64"
   ]
  },
  {
   "cell_type": "markdown",
   "id": "05f1aee2",
   "metadata": {},
   "source": [
    "nombre_infected       821\n",
    "nombre_sain          2152\n",
    "nombre_exposed        474\n",
    "nombre_recovered    16553\n",
    "Name: 642, dtype: int64"
   ]
  },
  {
   "cell_type": "markdown",
   "id": "ed05968c",
   "metadata": {},
   "source": [
    "nombre_infected       825\n",
    "nombre_sain          2164\n",
    "nombre_exposed        461\n",
    "nombre_recovered    16550\n",
    "Name: 643, dtype: int64"
   ]
  },
  {
   "cell_type": "markdown",
   "id": "6b28983c",
   "metadata": {},
   "source": [
    "nombre_infected       803\n",
    "nombre_sain          2156\n",
    "nombre_exposed        464\n",
    "nombre_recovered    16577\n",
    "Name: 644, dtype: int64"
   ]
  },
  {
   "cell_type": "markdown",
   "id": "2591a117",
   "metadata": {},
   "source": [
    "nombre_infected       799\n",
    "nombre_sain          2182\n",
    "nombre_exposed        463\n",
    "nombre_recovered    16556\n",
    "Name: 645, dtype: int64"
   ]
  },
  {
   "cell_type": "markdown",
   "id": "d1c0a64a",
   "metadata": {},
   "source": [
    "nombre_infected       770\n",
    "nombre_sain          2198\n",
    "nombre_exposed        481\n",
    "nombre_recovered    16551\n",
    "Name: 646, dtype: int64"
   ]
  },
  {
   "cell_type": "markdown",
   "id": "97b2a242",
   "metadata": {},
   "source": [
    "nombre_infected       775\n",
    "nombre_sain          2228\n",
    "nombre_exposed        478\n",
    "nombre_recovered    16519\n",
    "Name: 647, dtype: int64"
   ]
  },
  {
   "cell_type": "markdown",
   "id": "e9180231",
   "metadata": {},
   "source": [
    "nombre_infected       772\n",
    "nombre_sain          2240\n",
    "nombre_exposed        486\n",
    "nombre_recovered    16502\n",
    "Name: 648, dtype: int64"
   ]
  },
  {
   "cell_type": "markdown",
   "id": "37636cf9",
   "metadata": {},
   "source": [
    "nombre_infected       768\n",
    "nombre_sain          2244\n",
    "nombre_exposed        498\n",
    "nombre_recovered    16490\n",
    "Name: 649, dtype: int64"
   ]
  },
  {
   "cell_type": "markdown",
   "id": "f37c207c",
   "metadata": {},
   "source": [
    "nombre_infected       768\n",
    "nombre_sain          2252\n",
    "nombre_exposed        501\n",
    "nombre_recovered    16479\n",
    "Name: 650, dtype: int64"
   ]
  },
  {
   "cell_type": "markdown",
   "id": "d555dda9",
   "metadata": {},
   "source": [
    "nombre_infected       779\n",
    "nombre_sain          2233\n",
    "nombre_exposed        521\n",
    "nombre_recovered    16467\n",
    "Name: 651, dtype: int64"
   ]
  },
  {
   "cell_type": "markdown",
   "id": "09285061",
   "metadata": {},
   "source": [
    "nombre_infected       782\n",
    "nombre_sain          2236\n",
    "nombre_exposed        530\n",
    "nombre_recovered    16452\n",
    "Name: 652, dtype: int64"
   ]
  },
  {
   "cell_type": "markdown",
   "id": "492c1cb8",
   "metadata": {},
   "source": [
    "nombre_infected       816\n",
    "nombre_sain          2257\n",
    "nombre_exposed        492\n",
    "nombre_recovered    16435\n",
    "Name: 653, dtype: int64"
   ]
  },
  {
   "cell_type": "markdown",
   "id": "6c55d1cc",
   "metadata": {},
   "source": [
    "nombre_infected       801\n",
    "nombre_sain          2244\n",
    "nombre_exposed        492\n",
    "nombre_recovered    16463\n",
    "Name: 654, dtype: int64"
   ]
  },
  {
   "cell_type": "markdown",
   "id": "5258e628",
   "metadata": {},
   "source": [
    "nombre_infected       792\n",
    "nombre_sain          2250\n",
    "nombre_exposed        507\n",
    "nombre_recovered    16451\n",
    "Name: 655, dtype: int64"
   ]
  },
  {
   "cell_type": "markdown",
   "id": "b38c7e5e",
   "metadata": {},
   "source": [
    "nombre_infected       793\n",
    "nombre_sain          2239\n",
    "nombre_exposed        522\n",
    "nombre_recovered    16446\n",
    "Name: 656, dtype: int64"
   ]
  },
  {
   "cell_type": "markdown",
   "id": "d5ac6817",
   "metadata": {},
   "source": [
    "nombre_infected       804\n",
    "nombre_sain          2282\n",
    "nombre_exposed        511\n",
    "nombre_recovered    16403\n",
    "Name: 657, dtype: int64"
   ]
  },
  {
   "cell_type": "markdown",
   "id": "79458945",
   "metadata": {},
   "source": [
    "nombre_infected       817\n",
    "nombre_sain          2294\n",
    "nombre_exposed        488\n",
    "nombre_recovered    16401\n",
    "Name: 658, dtype: int64"
   ]
  },
  {
   "cell_type": "markdown",
   "id": "bafc0312",
   "metadata": {},
   "source": [
    "nombre_infected       813\n",
    "nombre_sain          2293\n",
    "nombre_exposed        509\n",
    "nombre_recovered    16385\n",
    "Name: 659, dtype: int64"
   ]
  },
  {
   "cell_type": "markdown",
   "id": "3ebb2b6d",
   "metadata": {},
   "source": [
    "nombre_infected       800\n",
    "nombre_sain          2302\n",
    "nombre_exposed        525\n",
    "nombre_recovered    16373\n",
    "Name: 660, dtype: int64"
   ]
  },
  {
   "cell_type": "markdown",
   "id": "73f605b3",
   "metadata": {},
   "source": [
    "nombre_infected       827\n",
    "nombre_sain          2310\n",
    "nombre_exposed        509\n",
    "nombre_recovered    16354\n",
    "Name: 661, dtype: int64"
   ]
  },
  {
   "cell_type": "markdown",
   "id": "a8261928",
   "metadata": {},
   "source": [
    "nombre_infected       824\n",
    "nombre_sain          2325\n",
    "nombre_exposed        512\n",
    "nombre_recovered    16339\n",
    "Name: 662, dtype: int64"
   ]
  },
  {
   "cell_type": "markdown",
   "id": "973eb54f",
   "metadata": {},
   "source": [
    "nombre_infected       836\n",
    "nombre_sain          2312\n",
    "nombre_exposed        519\n",
    "nombre_recovered    16333\n",
    "Name: 663, dtype: int64"
   ]
  },
  {
   "cell_type": "markdown",
   "id": "e14a9459",
   "metadata": {},
   "source": [
    "nombre_infected       849\n",
    "nombre_sain          2324\n",
    "nombre_exposed        526\n",
    "nombre_recovered    16301\n",
    "Name: 664, dtype: int64"
   ]
  },
  {
   "cell_type": "markdown",
   "id": "45e50cf6",
   "metadata": {},
   "source": [
    "nombre_infected       863\n",
    "nombre_sain          2312\n",
    "nombre_exposed        525\n",
    "nombre_recovered    16300\n",
    "Name: 665, dtype: int64"
   ]
  },
  {
   "cell_type": "markdown",
   "id": "931d500f",
   "metadata": {},
   "source": [
    "nombre_infected       874\n",
    "nombre_sain          2290\n",
    "nombre_exposed        543\n",
    "nombre_recovered    16293\n",
    "Name: 666, dtype: int64"
   ]
  },
  {
   "cell_type": "markdown",
   "id": "6b487985",
   "metadata": {},
   "source": [
    "nombre_infected       902\n",
    "nombre_sain          2287\n",
    "nombre_exposed        522\n",
    "nombre_recovered    16289\n",
    "Name: 667, dtype: int64"
   ]
  },
  {
   "cell_type": "markdown",
   "id": "4c93b7de",
   "metadata": {},
   "source": [
    "nombre_infected       933\n",
    "nombre_sain          2262\n",
    "nombre_exposed        522\n",
    "nombre_recovered    16283\n",
    "Name: 668, dtype: int64"
   ]
  },
  {
   "cell_type": "markdown",
   "id": "fc621630",
   "metadata": {},
   "source": [
    "nombre_infected       949\n",
    "nombre_sain          2233\n",
    "nombre_exposed        528\n",
    "nombre_recovered    16290\n",
    "Name: 669, dtype: int64"
   ]
  },
  {
   "cell_type": "markdown",
   "id": "379ee59b",
   "metadata": {},
   "source": [
    "nombre_infected       945\n",
    "nombre_sain          2214\n",
    "nombre_exposed        548\n",
    "nombre_recovered    16293\n",
    "Name: 670, dtype: int64"
   ]
  },
  {
   "cell_type": "markdown",
   "id": "6d87fa4f",
   "metadata": {},
   "source": [
    "nombre_infected       953\n",
    "nombre_sain          2206\n",
    "nombre_exposed        568\n",
    "nombre_recovered    16273\n",
    "Name: 671, dtype: int64"
   ]
  },
  {
   "cell_type": "markdown",
   "id": "e6119760",
   "metadata": {},
   "source": [
    "nombre_infected       966\n",
    "nombre_sain          2198\n",
    "nombre_exposed        570\n",
    "nombre_recovered    16266\n",
    "Name: 672, dtype: int64"
   ]
  },
  {
   "cell_type": "markdown",
   "id": "bb7b8e9f",
   "metadata": {},
   "source": [
    "nombre_infected       981\n",
    "nombre_sain          2181\n",
    "nombre_exposed        563\n",
    "nombre_recovered    16275\n",
    "Name: 673, dtype: int64"
   ]
  },
  {
   "cell_type": "markdown",
   "id": "b4ecc3fa",
   "metadata": {},
   "source": [
    "nombre_infected       983\n",
    "nombre_sain          2158\n",
    "nombre_exposed        569\n",
    "nombre_recovered    16290\n",
    "Name: 674, dtype: int64"
   ]
  },
  {
   "cell_type": "markdown",
   "id": "b43902a3",
   "metadata": {},
   "source": [
    "nombre_infected       985\n",
    "nombre_sain          2138\n",
    "nombre_exposed        559\n",
    "nombre_recovered    16318\n",
    "Name: 675, dtype: int64"
   ]
  },
  {
   "cell_type": "markdown",
   "id": "f75b5b77",
   "metadata": {},
   "source": [
    "nombre_infected       981\n",
    "nombre_sain          2116\n",
    "nombre_exposed        574\n",
    "nombre_recovered    16329\n",
    "Name: 676, dtype: int64"
   ]
  },
  {
   "cell_type": "markdown",
   "id": "0ed9a997",
   "metadata": {},
   "source": [
    "nombre_infected       979\n",
    "nombre_sain          2112\n",
    "nombre_exposed        604\n",
    "nombre_recovered    16305\n",
    "Name: 677, dtype: int64"
   ]
  },
  {
   "cell_type": "markdown",
   "id": "41a840e1",
   "metadata": {},
   "source": [
    "nombre_infected      1006\n",
    "nombre_sain          2114\n",
    "nombre_exposed        574\n",
    "nombre_recovered    16306\n",
    "Name: 678, dtype: int64"
   ]
  },
  {
   "cell_type": "markdown",
   "id": "2cfaf6f7",
   "metadata": {},
   "source": [
    "nombre_infected       998\n",
    "nombre_sain          2111\n",
    "nombre_exposed        570\n",
    "nombre_recovered    16321\n",
    "Name: 679, dtype: int64"
   ]
  },
  {
   "cell_type": "markdown",
   "id": "a966fd46",
   "metadata": {},
   "source": [
    "nombre_infected       981\n",
    "nombre_sain          2137\n",
    "nombre_exposed        560\n",
    "nombre_recovered    16322\n",
    "Name: 680, dtype: int64"
   ]
  },
  {
   "cell_type": "markdown",
   "id": "33d49eb6",
   "metadata": {},
   "source": [
    "nombre_infected       978\n",
    "nombre_sain          2161\n",
    "nombre_exposed        539\n",
    "nombre_recovered    16322\n",
    "Name: 681, dtype: int64"
   ]
  },
  {
   "cell_type": "markdown",
   "id": "17dc364a",
   "metadata": {},
   "source": [
    "nombre_infected       987\n",
    "nombre_sain          2159\n",
    "nombre_exposed        537\n",
    "nombre_recovered    16317\n",
    "Name: 682, dtype: int64"
   ]
  },
  {
   "cell_type": "markdown",
   "id": "d0d4b255",
   "metadata": {},
   "source": [
    "nombre_infected       987\n",
    "nombre_sain          2114\n",
    "nombre_exposed        572\n",
    "nombre_recovered    16327\n",
    "Name: 683, dtype: int64"
   ]
  },
  {
   "cell_type": "markdown",
   "id": "14ea34c9",
   "metadata": {},
   "source": [
    "nombre_infected       994\n",
    "nombre_sain          2105\n",
    "nombre_exposed        579\n",
    "nombre_recovered    16322\n",
    "Name: 684, dtype: int64"
   ]
  },
  {
   "cell_type": "markdown",
   "id": "c254aaaa",
   "metadata": {},
   "source": [
    "nombre_infected      1008\n",
    "nombre_sain          2122\n",
    "nombre_exposed        561\n",
    "nombre_recovered    16309\n",
    "Name: 685, dtype: int64"
   ]
  },
  {
   "cell_type": "markdown",
   "id": "3b60a637",
   "metadata": {},
   "source": [
    "nombre_infected      1033\n",
    "nombre_sain          2138\n",
    "nombre_exposed        531\n",
    "nombre_recovered    16298\n",
    "Name: 686, dtype: int64"
   ]
  },
  {
   "cell_type": "markdown",
   "id": "ded9467b",
   "metadata": {},
   "source": [
    "nombre_infected      1026\n",
    "nombre_sain          2114\n",
    "nombre_exposed        558\n",
    "nombre_recovered    16302\n",
    "Name: 687, dtype: int64"
   ]
  },
  {
   "cell_type": "markdown",
   "id": "e5f7f23b",
   "metadata": {},
   "source": [
    "nombre_infected      1016\n",
    "nombre_sain          2105\n",
    "nombre_exposed        550\n",
    "nombre_recovered    16329\n",
    "Name: 688, dtype: int64"
   ]
  },
  {
   "cell_type": "markdown",
   "id": "3abe818a",
   "metadata": {},
   "source": [
    "nombre_infected      1040\n",
    "nombre_sain          2105\n",
    "nombre_exposed        537\n",
    "nombre_recovered    16318\n",
    "Name: 689, dtype: int64"
   ]
  },
  {
   "cell_type": "markdown",
   "id": "75c5764e",
   "metadata": {},
   "source": [
    "nombre_infected      1047\n",
    "nombre_sain          2112\n",
    "nombre_exposed        526\n",
    "nombre_recovered    16315\n",
    "Name: 690, dtype: int64"
   ]
  },
  {
   "cell_type": "markdown",
   "id": "4ea511e3",
   "metadata": {},
   "source": [
    "nombre_infected      1062\n",
    "nombre_sain          2077\n",
    "nombre_exposed        519\n",
    "nombre_recovered    16342\n",
    "Name: 691, dtype: int64"
   ]
  },
  {
   "cell_type": "markdown",
   "id": "0d19c1de",
   "metadata": {},
   "source": [
    "nombre_infected      1037\n",
    "nombre_sain          2067\n",
    "nombre_exposed        530\n",
    "nombre_recovered    16366\n",
    "Name: 692, dtype: int64"
   ]
  },
  {
   "cell_type": "markdown",
   "id": "240b756f",
   "metadata": {},
   "source": [
    "nombre_infected      1020\n",
    "nombre_sain          2044\n",
    "nombre_exposed        546\n",
    "nombre_recovered    16390\n",
    "Name: 693, dtype: int64"
   ]
  },
  {
   "cell_type": "markdown",
   "id": "295138cd",
   "metadata": {},
   "source": [
    "nombre_infected      1057\n",
    "nombre_sain          2038\n",
    "nombre_exposed        526\n",
    "nombre_recovered    16379\n",
    "Name: 694, dtype: int64"
   ]
  },
  {
   "cell_type": "markdown",
   "id": "1bb7a014",
   "metadata": {},
   "source": [
    "nombre_infected      1053\n",
    "nombre_sain          2018\n",
    "nombre_exposed        526\n",
    "nombre_recovered    16403\n",
    "Name: 695, dtype: int64"
   ]
  },
  {
   "cell_type": "markdown",
   "id": "9aa7202a",
   "metadata": {},
   "source": [
    "nombre_infected      1061\n",
    "nombre_sain          2018\n",
    "nombre_exposed        512\n",
    "nombre_recovered    16409\n",
    "Name: 696, dtype: int64"
   ]
  },
  {
   "cell_type": "markdown",
   "id": "484428ab",
   "metadata": {},
   "source": [
    "nombre_infected      1024\n",
    "nombre_sain          2011\n",
    "nombre_exposed        537\n",
    "nombre_recovered    16428\n",
    "Name: 697, dtype: int64"
   ]
  },
  {
   "cell_type": "markdown",
   "id": "ecf50047",
   "metadata": {},
   "source": [
    "nombre_infected      1030\n",
    "nombre_sain          2029\n",
    "nombre_exposed        514\n",
    "nombre_recovered    16427\n",
    "Name: 698, dtype: int64"
   ]
  },
  {
   "cell_type": "markdown",
   "id": "c3d6ddfb",
   "metadata": {},
   "source": [
    "nombre_infected      1028\n",
    "nombre_sain          1995\n",
    "nombre_exposed        522\n",
    "nombre_recovered    16455\n",
    "Name: 699, dtype: int64"
   ]
  },
  {
   "cell_type": "markdown",
   "id": "cd78363b",
   "metadata": {},
   "source": [
    "nombre_infected      1000\n",
    "nombre_sain          1981\n",
    "nombre_exposed        537\n",
    "nombre_recovered    16482\n",
    "Name: 700, dtype: int64"
   ]
  },
  {
   "cell_type": "markdown",
   "id": "c18de4be",
   "metadata": {},
   "source": [
    "nombre_infected      1003\n",
    "nombre_sain          1967\n",
    "nombre_exposed        547\n",
    "nombre_recovered    16483\n",
    "Name: 701, dtype: int64"
   ]
  },
  {
   "cell_type": "markdown",
   "id": "81e39d2e",
   "metadata": {},
   "source": [
    "nombre_infected      1013\n",
    "nombre_sain          1965\n",
    "nombre_exposed        535\n",
    "nombre_recovered    16487\n",
    "Name: 702, dtype: int64"
   ]
  },
  {
   "cell_type": "markdown",
   "id": "861c750d",
   "metadata": {},
   "source": [
    "nombre_infected      1022\n",
    "nombre_sain          1947\n",
    "nombre_exposed        536\n",
    "nombre_recovered    16495\n",
    "Name: 703, dtype: int64"
   ]
  },
  {
   "cell_type": "markdown",
   "id": "2624ef8b",
   "metadata": {},
   "source": [
    "nombre_infected      1022\n",
    "nombre_sain          1962\n",
    "nombre_exposed        527\n",
    "nombre_recovered    16489\n",
    "Name: 704, dtype: int64"
   ]
  },
  {
   "cell_type": "markdown",
   "id": "2b12b66e",
   "metadata": {},
   "source": [
    "nombre_infected      1003\n",
    "nombre_sain          1947\n",
    "nombre_exposed        522\n",
    "nombre_recovered    16528\n",
    "Name: 705, dtype: int64"
   ]
  },
  {
   "cell_type": "markdown",
   "id": "021c055b",
   "metadata": {},
   "source": [
    "nombre_infected      1003\n",
    "nombre_sain          1933\n",
    "nombre_exposed        519\n",
    "nombre_recovered    16545\n",
    "Name: 706, dtype: int64"
   ]
  },
  {
   "cell_type": "markdown",
   "id": "6063a92a",
   "metadata": {},
   "source": [
    "nombre_infected      1003\n",
    "nombre_sain          1924\n",
    "nombre_exposed        524\n",
    "nombre_recovered    16549\n",
    "Name: 707, dtype: int64"
   ]
  },
  {
   "cell_type": "markdown",
   "id": "3829eefc",
   "metadata": {},
   "source": [
    "nombre_infected       991\n",
    "nombre_sain          1923\n",
    "nombre_exposed        514\n",
    "nombre_recovered    16572\n",
    "Name: 708, dtype: int64"
   ]
  },
  {
   "cell_type": "markdown",
   "id": "6c7ec862",
   "metadata": {},
   "source": [
    "nombre_infected      1000\n",
    "nombre_sain          1938\n",
    "nombre_exposed        488\n",
    "nombre_recovered    16574\n",
    "Name: 709, dtype: int64"
   ]
  },
  {
   "cell_type": "markdown",
   "id": "08dd1b17",
   "metadata": {},
   "source": [
    "nombre_infected      1036\n",
    "nombre_sain          1943\n",
    "nombre_exposed        455\n",
    "nombre_recovered    16566\n",
    "Name: 710, dtype: int64"
   ]
  },
  {
   "cell_type": "markdown",
   "id": "590da918",
   "metadata": {},
   "source": [
    "nombre_infected      1012\n",
    "nombre_sain          1971\n",
    "nombre_exposed        444\n",
    "nombre_recovered    16573\n",
    "Name: 711, dtype: int64"
   ]
  },
  {
   "cell_type": "markdown",
   "id": "9a79a8a2",
   "metadata": {},
   "source": [
    "nombre_infected       980\n",
    "nombre_sain          2009\n",
    "nombre_exposed        445\n",
    "nombre_recovered    16566\n",
    "Name: 712, dtype: int64"
   ]
  },
  {
   "cell_type": "markdown",
   "id": "3ca28850",
   "metadata": {},
   "source": [
    "nombre_infected       979\n",
    "nombre_sain          2028\n",
    "nombre_exposed        442\n",
    "nombre_recovered    16551\n",
    "Name: 713, dtype: int64"
   ]
  },
  {
   "cell_type": "markdown",
   "id": "f39b35fa",
   "metadata": {},
   "source": [
    "nombre_infected       968\n",
    "nombre_sain          2046\n",
    "nombre_exposed        445\n",
    "nombre_recovered    16541\n",
    "Name: 714, dtype: int64"
   ]
  },
  {
   "cell_type": "markdown",
   "id": "cf58b613",
   "metadata": {},
   "source": [
    "nombre_infected       928\n",
    "nombre_sain          2048\n",
    "nombre_exposed        472\n",
    "nombre_recovered    16552\n",
    "Name: 715, dtype: int64"
   ]
  },
  {
   "cell_type": "markdown",
   "id": "b780b819",
   "metadata": {},
   "source": [
    "nombre_infected       935\n",
    "nombre_sain          2106\n",
    "nombre_exposed        453\n",
    "nombre_recovered    16506\n",
    "Name: 716, dtype: int64"
   ]
  },
  {
   "cell_type": "markdown",
   "id": "5ec05524",
   "metadata": {},
   "source": [
    "nombre_infected       950\n",
    "nombre_sain          2135\n",
    "nombre_exposed        441\n",
    "nombre_recovered    16474\n",
    "Name: 717, dtype: int64"
   ]
  },
  {
   "cell_type": "markdown",
   "id": "7a914403",
   "metadata": {},
   "source": [
    "nombre_infected       924\n",
    "nombre_sain          2129\n",
    "nombre_exposed        479\n",
    "nombre_recovered    16468\n",
    "Name: 718, dtype: int64"
   ]
  },
  {
   "cell_type": "markdown",
   "id": "653a773e",
   "metadata": {},
   "source": [
    "nombre_infected       893\n",
    "nombre_sain          2113\n",
    "nombre_exposed        514\n",
    "nombre_recovered    16480\n",
    "Name: 719, dtype: int64"
   ]
  },
  {
   "cell_type": "markdown",
   "id": "c1504870",
   "metadata": {},
   "source": [
    "nombre_infected       883\n",
    "nombre_sain          2118\n",
    "nombre_exposed        519\n",
    "nombre_recovered    16480\n",
    "Name: 720, dtype: int64"
   ]
  },
  {
   "cell_type": "markdown",
   "id": "823b72c6",
   "metadata": {},
   "source": [
    "nombre_infected       890\n",
    "nombre_sain          2117\n",
    "nombre_exposed        514\n",
    "nombre_recovered    16479\n",
    "Name: 721, dtype: int64"
   ]
  },
  {
   "cell_type": "markdown",
   "id": "4c2d6721",
   "metadata": {},
   "source": [
    "nombre_infected       899\n",
    "nombre_sain          2118\n",
    "nombre_exposed        531\n",
    "nombre_recovered    16452\n",
    "Name: 722, dtype: int64"
   ]
  },
  {
   "cell_type": "markdown",
   "id": "8915a915",
   "metadata": {},
   "source": [
    "nombre_infected       898\n",
    "nombre_sain          2143\n",
    "nombre_exposed        523\n",
    "nombre_recovered    16436\n",
    "Name: 723, dtype: int64"
   ]
  },
  {
   "cell_type": "markdown",
   "id": "cf07d40f",
   "metadata": {},
   "source": [
    "nombre_infected       896\n",
    "nombre_sain          2190\n",
    "nombre_exposed        514\n",
    "nombre_recovered    16400\n",
    "Name: 724, dtype: int64"
   ]
  },
  {
   "cell_type": "markdown",
   "id": "c17b84ea",
   "metadata": {},
   "source": [
    "nombre_infected       923\n",
    "nombre_sain          2192\n",
    "nombre_exposed        497\n",
    "nombre_recovered    16388\n",
    "Name: 725, dtype: int64"
   ]
  },
  {
   "cell_type": "markdown",
   "id": "8ed99db6",
   "metadata": {},
   "source": [
    "nombre_infected       906\n",
    "nombre_sain          2204\n",
    "nombre_exposed        508\n",
    "nombre_recovered    16382\n",
    "Name: 726, dtype: int64"
   ]
  },
  {
   "cell_type": "markdown",
   "id": "146b8dc8",
   "metadata": {},
   "source": [
    "nombre_infected       905\n",
    "nombre_sain          2234\n",
    "nombre_exposed        508\n",
    "nombre_recovered    16353\n",
    "Name: 727, dtype: int64"
   ]
  },
  {
   "cell_type": "markdown",
   "id": "64d5b827",
   "metadata": {},
   "source": [
    "nombre_infected       907\n",
    "nombre_sain          2250\n",
    "nombre_exposed        502\n",
    "nombre_recovered    16341\n",
    "Name: 728, dtype: int64"
   ]
  },
  {
   "cell_type": "markdown",
   "id": "67bf58b2",
   "metadata": {},
   "source": [
    "nombre_infected       903\n",
    "nombre_sain          2257\n",
    "nombre_exposed        508\n",
    "nombre_recovered    16332\n",
    "Name: 729, dtype: int64"
   ]
  },
  {
   "cell_type": "markdown",
   "id": "b8c2c4d9",
   "metadata": {},
   "source": [
    "nombre_infected       912\n",
    "nombre_sain          2250\n",
    "nombre_exposed        508\n",
    "nombre_recovered    16330\n",
    "Name: 730, dtype: int64"
   ]
  }
 ],
 "metadata": {},
 "nbformat": 4,
 "nbformat_minor": 5
}
