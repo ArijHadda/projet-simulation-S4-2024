{
 "cells": [
  {
   "cell_type": "markdown",
   "id": "31fd2e7b",
   "metadata": {},
   "source": [
    "nombre_infected        20\n",
    "nombre_sain         19980\n",
    "nombre_exposed          0\n",
    "nombre_recovered        0\n",
    "Name: 0, dtype: int64"
   ]
  },
  {
   "cell_type": "markdown",
   "id": "15820d78",
   "metadata": {},
   "source": [
    "nombre_infected        20\n",
    "nombre_sain         19974\n",
    "nombre_exposed          6\n",
    "nombre_recovered        0\n",
    "Name: 1, dtype: int64"
   ]
  },
  {
   "cell_type": "markdown",
   "id": "3766c8d7",
   "metadata": {},
   "source": [
    "nombre_infected        20\n",
    "nombre_sain         19962\n",
    "nombre_exposed         18\n",
    "nombre_recovered        0\n",
    "Name: 2, dtype: int64"
   ]
  },
  {
   "cell_type": "markdown",
   "id": "44325728",
   "metadata": {},
   "source": [
    "nombre_infected        21\n",
    "nombre_sain         19938\n",
    "nombre_exposed         41\n",
    "nombre_recovered        0\n",
    "Name: 3, dtype: int64"
   ]
  },
  {
   "cell_type": "markdown",
   "id": "3970df28",
   "metadata": {},
   "source": [
    "nombre_infected        23\n",
    "nombre_sain         19910\n",
    "nombre_exposed         67\n",
    "nombre_recovered        0\n",
    "Name: 4, dtype: int64"
   ]
  },
  {
   "cell_type": "markdown",
   "id": "411877ea",
   "metadata": {},
   "source": [
    "nombre_infected        34\n",
    "nombre_sain         19874\n",
    "nombre_exposed         92\n",
    "nombre_recovered        0\n",
    "Name: 5, dtype: int64"
   ]
  },
  {
   "cell_type": "markdown",
   "id": "89c8e845",
   "metadata": {},
   "source": [
    "nombre_infected        48\n",
    "nombre_sain         19816\n",
    "nombre_exposed        135\n",
    "nombre_recovered        1\n",
    "Name: 6, dtype: int64"
   ]
  },
  {
   "cell_type": "markdown",
   "id": "5bd555df",
   "metadata": {},
   "source": [
    "nombre_infected        75\n",
    "nombre_sain         19736\n",
    "nombre_exposed        186\n",
    "nombre_recovered        3\n",
    "Name: 7, dtype: int64"
   ]
  },
  {
   "cell_type": "markdown",
   "id": "5f3081fa",
   "metadata": {},
   "source": [
    "nombre_infected       104\n",
    "nombre_sain         19639\n",
    "nombre_exposed        251\n",
    "nombre_recovered        6\n",
    "Name: 8, dtype: int64"
   ]
  },
  {
   "cell_type": "markdown",
   "id": "09879adc",
   "metadata": {},
   "source": [
    "nombre_infected       150\n",
    "nombre_sain         19467\n",
    "nombre_exposed        374\n",
    "nombre_recovered        9\n",
    "Name: 9, dtype: int64"
   ]
  },
  {
   "cell_type": "markdown",
   "id": "a917000e",
   "metadata": {},
   "source": [
    "nombre_infected       193\n",
    "nombre_sain         19223\n",
    "nombre_exposed        562\n",
    "nombre_recovered       22\n",
    "Name: 10, dtype: int64"
   ]
  },
  {
   "cell_type": "markdown",
   "id": "eaf129d2",
   "metadata": {},
   "source": [
    "nombre_infected       268\n",
    "nombre_sain         19006\n",
    "nombre_exposed        694\n",
    "nombre_recovered       32\n",
    "Name: 11, dtype: int64"
   ]
  },
  {
   "cell_type": "markdown",
   "id": "a956f188",
   "metadata": {},
   "source": [
    "nombre_infected       357\n",
    "nombre_sain         18680\n",
    "nombre_exposed        907\n",
    "nombre_recovered       56\n",
    "Name: 12, dtype: int64"
   ]
  },
  {
   "cell_type": "markdown",
   "id": "5ec861b9",
   "metadata": {},
   "source": [
    "nombre_infected       438\n",
    "nombre_sain         18211\n",
    "nombre_exposed       1235\n",
    "nombre_recovered      116\n",
    "Name: 13, dtype: int64"
   ]
  },
  {
   "cell_type": "markdown",
   "id": "3743e9be",
   "metadata": {},
   "source": [
    "nombre_infected       601\n",
    "nombre_sain         17659\n",
    "nombre_exposed       1586\n",
    "nombre_recovered      154\n",
    "Name: 14, dtype: int64"
   ]
  },
  {
   "cell_type": "markdown",
   "id": "7c1722ce",
   "metadata": {},
   "source": [
    "nombre_infected       836\n",
    "nombre_sain         16874\n",
    "nombre_exposed       2089\n",
    "nombre_recovered      201\n",
    "Name: 15, dtype: int64"
   ]
  },
  {
   "cell_type": "markdown",
   "id": "30030e65",
   "metadata": {},
   "source": [
    "nombre_infected      1105\n",
    "nombre_sain         15928\n",
    "nombre_exposed       2684\n",
    "nombre_recovered      283\n",
    "Name: 16, dtype: int64"
   ]
  },
  {
   "cell_type": "markdown",
   "id": "2c8f77c9",
   "metadata": {},
   "source": [
    "nombre_infected      1514\n",
    "nombre_sain         14704\n",
    "nombre_exposed       3408\n",
    "nombre_recovered      374\n",
    "Name: 17, dtype: int64"
   ]
  },
  {
   "cell_type": "markdown",
   "id": "2217bd65",
   "metadata": {},
   "source": [
    "nombre_infected      1981\n",
    "nombre_sain         13259\n",
    "nombre_exposed       4258\n",
    "nombre_recovered      502\n",
    "Name: 18, dtype: int64"
   ]
  },
  {
   "cell_type": "markdown",
   "id": "f547dd1f",
   "metadata": {},
   "source": [
    "nombre_infected      2583\n",
    "nombre_sain         11657\n",
    "nombre_exposed       5073\n",
    "nombre_recovered      687\n",
    "Name: 19, dtype: int64"
   ]
  },
  {
   "cell_type": "markdown",
   "id": "7a3e7374",
   "metadata": {},
   "source": [
    "nombre_infected     3239\n",
    "nombre_sain         9913\n",
    "nombre_exposed      5901\n",
    "nombre_recovered     947\n",
    "Name: 20, dtype: int64"
   ]
  },
  {
   "cell_type": "markdown",
   "id": "c28d3deb",
   "metadata": {},
   "source": [
    "nombre_infected     4087\n",
    "nombre_sain         8114\n",
    "nombre_exposed      6567\n",
    "nombre_recovered    1232\n",
    "Name: 21, dtype: int64"
   ]
  },
  {
   "cell_type": "markdown",
   "id": "bf40d7a3",
   "metadata": {},
   "source": [
    "nombre_infected     4944\n",
    "nombre_sain         6493\n",
    "nombre_exposed      6932\n",
    "nombre_recovered    1631\n",
    "Name: 22, dtype: int64"
   ]
  },
  {
   "cell_type": "markdown",
   "id": "337ae799",
   "metadata": {},
   "source": [
    "nombre_infected     5863\n",
    "nombre_sain         4995\n",
    "nombre_exposed      6975\n",
    "nombre_recovered    2167\n",
    "Name: 23, dtype: int64"
   ]
  },
  {
   "cell_type": "markdown",
   "id": "cf99e40a",
   "metadata": {},
   "source": [
    "nombre_infected     6724\n",
    "nombre_sain         3672\n",
    "nombre_exposed      6852\n",
    "nombre_recovered    2752\n",
    "Name: 24, dtype: int64"
   ]
  },
  {
   "cell_type": "markdown",
   "id": "e314b14c",
   "metadata": {},
   "source": [
    "nombre_infected     7552\n",
    "nombre_sain         2600\n",
    "nombre_exposed      6424\n",
    "nombre_recovered    3424\n",
    "Name: 25, dtype: int64"
   ]
  },
  {
   "cell_type": "markdown",
   "id": "364ed644",
   "metadata": {},
   "source": [
    "nombre_infected     8164\n",
    "nombre_sain         1794\n",
    "nombre_exposed      5806\n",
    "nombre_recovered    4236\n",
    "Name: 26, dtype: int64"
   ]
  },
  {
   "cell_type": "markdown",
   "id": "be1bc11f",
   "metadata": {},
   "source": [
    "nombre_infected     8634\n",
    "nombre_sain         1256\n",
    "nombre_exposed      5013\n",
    "nombre_recovered    5097\n",
    "Name: 27, dtype: int64"
   ]
  },
  {
   "cell_type": "markdown",
   "id": "fe7dd097",
   "metadata": {},
   "source": [
    "nombre_infected     8832\n",
    "nombre_sain          840\n",
    "nombre_exposed      4244\n",
    "nombre_recovered    6084\n",
    "Name: 28, dtype: int64"
   ]
  },
  {
   "cell_type": "markdown",
   "id": "7956f47f",
   "metadata": {},
   "source": [
    "nombre_infected     8847\n",
    "nombre_sain          586\n",
    "nombre_exposed      3475\n",
    "nombre_recovered    7092\n",
    "Name: 29, dtype: int64"
   ]
  },
  {
   "cell_type": "markdown",
   "id": "5fda5352",
   "metadata": {},
   "source": [
    "nombre_infected     8579\n",
    "nombre_sain          402\n",
    "nombre_exposed      2877\n",
    "nombre_recovered    8142\n",
    "Name: 30, dtype: int64"
   ]
  },
  {
   "cell_type": "markdown",
   "id": "e928b02b",
   "metadata": {},
   "source": [
    "nombre_infected     8266\n",
    "nombre_sain          288\n",
    "nombre_exposed      2274\n",
    "nombre_recovered    9172\n",
    "Name: 31, dtype: int64"
   ]
  },
  {
   "cell_type": "markdown",
   "id": "4beed67f",
   "metadata": {},
   "source": [
    "nombre_infected      7895\n",
    "nombre_sain           208\n",
    "nombre_exposed       1806\n",
    "nombre_recovered    10091\n",
    "Name: 32, dtype: int64"
   ]
  },
  {
   "cell_type": "markdown",
   "id": "d15135df",
   "metadata": {},
   "source": [
    "nombre_infected      7352\n",
    "nombre_sain           156\n",
    "nombre_exposed       1429\n",
    "nombre_recovered    11063\n",
    "Name: 33, dtype: int64"
   ]
  },
  {
   "cell_type": "markdown",
   "id": "97f66f1e",
   "metadata": {},
   "source": [
    "nombre_infected      6808\n",
    "nombre_sain           140\n",
    "nombre_exposed       1098\n",
    "nombre_recovered    11954\n",
    "Name: 34, dtype: int64"
   ]
  },
  {
   "cell_type": "markdown",
   "id": "1e1b8fad",
   "metadata": {},
   "source": [
    "nombre_infected      6315\n",
    "nombre_sain           130\n",
    "nombre_exposed        821\n",
    "nombre_recovered    12734\n",
    "Name: 35, dtype: int64"
   ]
  },
  {
   "cell_type": "markdown",
   "id": "b94cc2c2",
   "metadata": {},
   "source": [
    "nombre_infected      5774\n",
    "nombre_sain           125\n",
    "nombre_exposed        622\n",
    "nombre_recovered    13479\n",
    "Name: 36, dtype: int64"
   ]
  },
  {
   "cell_type": "markdown",
   "id": "40b18a94",
   "metadata": {},
   "source": [
    "nombre_infected      5206\n",
    "nombre_sain           121\n",
    "nombre_exposed        481\n",
    "nombre_recovered    14192\n",
    "Name: 37, dtype: int64"
   ]
  },
  {
   "cell_type": "markdown",
   "id": "44d2a927",
   "metadata": {},
   "source": [
    "nombre_infected      4600\n",
    "nombre_sain           134\n",
    "nombre_exposed        367\n",
    "nombre_recovered    14899\n",
    "Name: 38, dtype: int64"
   ]
  },
  {
   "cell_type": "markdown",
   "id": "d5386cf8",
   "metadata": {},
   "source": [
    "nombre_infected      4139\n",
    "nombre_sain           137\n",
    "nombre_exposed        281\n",
    "nombre_recovered    15443\n",
    "Name: 39, dtype: int64"
   ]
  },
  {
   "cell_type": "markdown",
   "id": "7a8609bc",
   "metadata": {},
   "source": [
    "nombre_infected      3708\n",
    "nombre_sain           140\n",
    "nombre_exposed        227\n",
    "nombre_recovered    15925\n",
    "Name: 40, dtype: int64"
   ]
  },
  {
   "cell_type": "markdown",
   "id": "4559961b",
   "metadata": {},
   "source": [
    "nombre_infected      3289\n",
    "nombre_sain           146\n",
    "nombre_exposed        174\n",
    "nombre_recovered    16391\n",
    "Name: 41, dtype: int64"
   ]
  },
  {
   "cell_type": "markdown",
   "id": "d3698838",
   "metadata": {},
   "source": [
    "nombre_infected      2888\n",
    "nombre_sain           158\n",
    "nombre_exposed        149\n",
    "nombre_recovered    16805\n",
    "Name: 42, dtype: int64"
   ]
  },
  {
   "cell_type": "markdown",
   "id": "76130ead",
   "metadata": {},
   "source": [
    "nombre_infected      2571\n",
    "nombre_sain           165\n",
    "nombre_exposed        132\n",
    "nombre_recovered    17132\n",
    "Name: 43, dtype: int64"
   ]
  },
  {
   "cell_type": "markdown",
   "id": "5588acff",
   "metadata": {},
   "source": [
    "nombre_infected      2307\n",
    "nombre_sain           196\n",
    "nombre_exposed        112\n",
    "nombre_recovered    17385\n",
    "Name: 44, dtype: int64"
   ]
  },
  {
   "cell_type": "markdown",
   "id": "8df96d71",
   "metadata": {},
   "source": [
    "nombre_infected      2034\n",
    "nombre_sain           214\n",
    "nombre_exposed         94\n",
    "nombre_recovered    17658\n",
    "Name: 45, dtype: int64"
   ]
  },
  {
   "cell_type": "markdown",
   "id": "9d40e420",
   "metadata": {},
   "source": [
    "nombre_infected      1797\n",
    "nombre_sain           231\n",
    "nombre_exposed         92\n",
    "nombre_recovered    17880\n",
    "Name: 46, dtype: int64"
   ]
  },
  {
   "cell_type": "markdown",
   "id": "f9308c6c",
   "metadata": {},
   "source": [
    "nombre_infected      1583\n",
    "nombre_sain           261\n",
    "nombre_exposed         82\n",
    "nombre_recovered    18074\n",
    "Name: 47, dtype: int64"
   ]
  },
  {
   "cell_type": "markdown",
   "id": "808939b5",
   "metadata": {},
   "source": [
    "nombre_infected      1367\n",
    "nombre_sain           283\n",
    "nombre_exposed         76\n",
    "nombre_recovered    18274\n",
    "Name: 48, dtype: int64"
   ]
  },
  {
   "cell_type": "markdown",
   "id": "c3bd41e9",
   "metadata": {},
   "source": [
    "nombre_infected      1199\n",
    "nombre_sain           318\n",
    "nombre_exposed         79\n",
    "nombre_recovered    18404\n",
    "Name: 49, dtype: int64"
   ]
  },
  {
   "cell_type": "markdown",
   "id": "b83598b3",
   "metadata": {},
   "source": [
    "nombre_infected      1071\n",
    "nombre_sain           355\n",
    "nombre_exposed         76\n",
    "nombre_recovered    18498\n",
    "Name: 50, dtype: int64"
   ]
  },
  {
   "cell_type": "markdown",
   "id": "8ca149cf",
   "metadata": {},
   "source": [
    "nombre_infected       937\n",
    "nombre_sain           382\n",
    "nombre_exposed         83\n",
    "nombre_recovered    18598\n",
    "Name: 51, dtype: int64"
   ]
  },
  {
   "cell_type": "markdown",
   "id": "114e6949",
   "metadata": {},
   "source": [
    "nombre_infected       823\n",
    "nombre_sain           420\n",
    "nombre_exposed         78\n",
    "nombre_recovered    18679\n",
    "Name: 52, dtype: int64"
   ]
  },
  {
   "cell_type": "markdown",
   "id": "945b2686",
   "metadata": {},
   "source": [
    "nombre_infected       731\n",
    "nombre_sain           453\n",
    "nombre_exposed         75\n",
    "nombre_recovered    18741\n",
    "Name: 53, dtype: int64"
   ]
  },
  {
   "cell_type": "markdown",
   "id": "1dcfbabf",
   "metadata": {},
   "source": [
    "nombre_infected       657\n",
    "nombre_sain           505\n",
    "nombre_exposed         69\n",
    "nombre_recovered    18769\n",
    "Name: 54, dtype: int64"
   ]
  },
  {
   "cell_type": "markdown",
   "id": "4099d1a4",
   "metadata": {},
   "source": [
    "nombre_infected       585\n",
    "nombre_sain           546\n",
    "nombre_exposed         73\n",
    "nombre_recovered    18796\n",
    "Name: 55, dtype: int64"
   ]
  },
  {
   "cell_type": "markdown",
   "id": "55173e3d",
   "metadata": {},
   "source": [
    "nombre_infected       525\n",
    "nombre_sain           595\n",
    "nombre_exposed         74\n",
    "nombre_recovered    18806\n",
    "Name: 56, dtype: int64"
   ]
  },
  {
   "cell_type": "markdown",
   "id": "68b37c30",
   "metadata": {},
   "source": [
    "nombre_infected       475\n",
    "nombre_sain           640\n",
    "nombre_exposed         72\n",
    "nombre_recovered    18813\n",
    "Name: 57, dtype: int64"
   ]
  },
  {
   "cell_type": "markdown",
   "id": "67122425",
   "metadata": {},
   "source": [
    "nombre_infected       422\n",
    "nombre_sain           665\n",
    "nombre_exposed         71\n",
    "nombre_recovered    18842\n",
    "Name: 58, dtype: int64"
   ]
  },
  {
   "cell_type": "markdown",
   "id": "526b4e0b",
   "metadata": {},
   "source": [
    "nombre_infected       380\n",
    "nombre_sain           713\n",
    "nombre_exposed         77\n",
    "nombre_recovered    18830\n",
    "Name: 59, dtype: int64"
   ]
  },
  {
   "cell_type": "markdown",
   "id": "0e281ff2",
   "metadata": {},
   "source": [
    "nombre_infected       366\n",
    "nombre_sain           781\n",
    "nombre_exposed         67\n",
    "nombre_recovered    18786\n",
    "Name: 60, dtype: int64"
   ]
  },
  {
   "cell_type": "markdown",
   "id": "3b80c457",
   "metadata": {},
   "source": [
    "nombre_infected       330\n",
    "nombre_sain           819\n",
    "nombre_exposed         66\n",
    "nombre_recovered    18785\n",
    "Name: 61, dtype: int64"
   ]
  },
  {
   "cell_type": "markdown",
   "id": "93583f9e",
   "metadata": {},
   "source": [
    "nombre_infected       301\n",
    "nombre_sain           864\n",
    "nombre_exposed         71\n",
    "nombre_recovered    18764\n",
    "Name: 62, dtype: int64"
   ]
  },
  {
   "cell_type": "markdown",
   "id": "5f3af8d6",
   "metadata": {},
   "source": [
    "nombre_infected       282\n",
    "nombre_sain           908\n",
    "nombre_exposed         69\n",
    "nombre_recovered    18741\n",
    "Name: 63, dtype: int64"
   ]
  },
  {
   "cell_type": "markdown",
   "id": "37cd7f61",
   "metadata": {},
   "source": [
    "nombre_infected       275\n",
    "nombre_sain           935\n",
    "nombre_exposed         73\n",
    "nombre_recovered    18717\n",
    "Name: 64, dtype: int64"
   ]
  },
  {
   "cell_type": "markdown",
   "id": "e4a9dc09",
   "metadata": {},
   "source": [
    "nombre_infected       248\n",
    "nombre_sain           985\n",
    "nombre_exposed         63\n",
    "nombre_recovered    18704\n",
    "Name: 65, dtype: int64"
   ]
  },
  {
   "cell_type": "markdown",
   "id": "85b7b4fc",
   "metadata": {},
   "source": [
    "nombre_infected       228\n",
    "nombre_sain          1026\n",
    "nombre_exposed         70\n",
    "nombre_recovered    18676\n",
    "Name: 66, dtype: int64"
   ]
  },
  {
   "cell_type": "markdown",
   "id": "3f1b1705",
   "metadata": {},
   "source": [
    "nombre_infected       222\n",
    "nombre_sain          1063\n",
    "nombre_exposed         64\n",
    "nombre_recovered    18651\n",
    "Name: 67, dtype: int64"
   ]
  },
  {
   "cell_type": "markdown",
   "id": "422a1e51",
   "metadata": {},
   "source": [
    "nombre_infected       216\n",
    "nombre_sain          1103\n",
    "nombre_exposed         63\n",
    "nombre_recovered    18618\n",
    "Name: 68, dtype: int64"
   ]
  },
  {
   "cell_type": "markdown",
   "id": "a4cb8ab9",
   "metadata": {},
   "source": [
    "nombre_infected       211\n",
    "nombre_sain          1159\n",
    "nombre_exposed         63\n",
    "nombre_recovered    18567\n",
    "Name: 69, dtype: int64"
   ]
  },
  {
   "cell_type": "markdown",
   "id": "fafdf432",
   "metadata": {},
   "source": [
    "nombre_infected       206\n",
    "nombre_sain          1215\n",
    "nombre_exposed         61\n",
    "nombre_recovered    18518\n",
    "Name: 70, dtype: int64"
   ]
  },
  {
   "cell_type": "markdown",
   "id": "820d5dcf",
   "metadata": {},
   "source": [
    "nombre_infected       200\n",
    "nombre_sain          1287\n",
    "nombre_exposed         55\n",
    "nombre_recovered    18458\n",
    "Name: 71, dtype: int64"
   ]
  },
  {
   "cell_type": "markdown",
   "id": "3a5c35f5",
   "metadata": {},
   "source": [
    "nombre_infected       199\n",
    "nombre_sain          1358\n",
    "nombre_exposed         55\n",
    "nombre_recovered    18388\n",
    "Name: 72, dtype: int64"
   ]
  },
  {
   "cell_type": "markdown",
   "id": "9804d570",
   "metadata": {},
   "source": [
    "nombre_infected       194\n",
    "nombre_sain          1422\n",
    "nombre_exposed         60\n",
    "nombre_recovered    18324\n",
    "Name: 73, dtype: int64"
   ]
  },
  {
   "cell_type": "markdown",
   "id": "8967706e",
   "metadata": {},
   "source": [
    "nombre_infected       191\n",
    "nombre_sain          1484\n",
    "nombre_exposed         62\n",
    "nombre_recovered    18263\n",
    "Name: 74, dtype: int64"
   ]
  },
  {
   "cell_type": "markdown",
   "id": "7061ba41",
   "metadata": {},
   "source": [
    "nombre_infected       191\n",
    "nombre_sain          1541\n",
    "nombre_exposed         65\n",
    "nombre_recovered    18203\n",
    "Name: 75, dtype: int64"
   ]
  },
  {
   "cell_type": "markdown",
   "id": "72305a8c",
   "metadata": {},
   "source": [
    "nombre_infected       193\n",
    "nombre_sain          1616\n",
    "nombre_exposed         63\n",
    "nombre_recovered    18128\n",
    "Name: 76, dtype: int64"
   ]
  },
  {
   "cell_type": "markdown",
   "id": "afc58786",
   "metadata": {},
   "source": [
    "nombre_infected       196\n",
    "nombre_sain          1670\n",
    "nombre_exposed         67\n",
    "nombre_recovered    18067\n",
    "Name: 77, dtype: int64"
   ]
  },
  {
   "cell_type": "markdown",
   "id": "1966b977",
   "metadata": {},
   "source": [
    "nombre_infected       195\n",
    "nombre_sain          1715\n",
    "nombre_exposed         72\n",
    "nombre_recovered    18018\n",
    "Name: 78, dtype: int64"
   ]
  },
  {
   "cell_type": "markdown",
   "id": "a2e32489",
   "metadata": {},
   "source": [
    "nombre_infected       184\n",
    "nombre_sain          1779\n",
    "nombre_exposed         72\n",
    "nombre_recovered    17965\n",
    "Name: 79, dtype: int64"
   ]
  },
  {
   "cell_type": "markdown",
   "id": "81714d24",
   "metadata": {},
   "source": [
    "nombre_infected       189\n",
    "nombre_sain          1828\n",
    "nombre_exposed         67\n",
    "nombre_recovered    17916\n",
    "Name: 80, dtype: int64"
   ]
  },
  {
   "cell_type": "markdown",
   "id": "303577cb",
   "metadata": {},
   "source": [
    "nombre_infected       189\n",
    "nombre_sain          1869\n",
    "nombre_exposed         81\n",
    "nombre_recovered    17861\n",
    "Name: 81, dtype: int64"
   ]
  },
  {
   "cell_type": "markdown",
   "id": "bbe7452a",
   "metadata": {},
   "source": [
    "nombre_infected       194\n",
    "nombre_sain          1895\n",
    "nombre_exposed         78\n",
    "nombre_recovered    17833\n",
    "Name: 82, dtype: int64"
   ]
  },
  {
   "cell_type": "markdown",
   "id": "3afd8ed4",
   "metadata": {},
   "source": [
    "nombre_infected       194\n",
    "nombre_sain          1926\n",
    "nombre_exposed         80\n",
    "nombre_recovered    17800\n",
    "Name: 83, dtype: int64"
   ]
  },
  {
   "cell_type": "markdown",
   "id": "a4327ecb",
   "metadata": {},
   "source": [
    "nombre_infected       195\n",
    "nombre_sain          1933\n",
    "nombre_exposed         86\n",
    "nombre_recovered    17786\n",
    "Name: 84, dtype: int64"
   ]
  },
  {
   "cell_type": "markdown",
   "id": "a919a95d",
   "metadata": {},
   "source": [
    "nombre_infected       196\n",
    "nombre_sain          1954\n",
    "nombre_exposed         93\n",
    "nombre_recovered    17757\n",
    "Name: 85, dtype: int64"
   ]
  },
  {
   "cell_type": "markdown",
   "id": "d0a207a7",
   "metadata": {},
   "source": [
    "nombre_infected       208\n",
    "nombre_sain          1984\n",
    "nombre_exposed         94\n",
    "nombre_recovered    17714\n",
    "Name: 86, dtype: int64"
   ]
  },
  {
   "cell_type": "markdown",
   "id": "9932c6aa",
   "metadata": {},
   "source": [
    "nombre_infected       196\n",
    "nombre_sain          2024\n",
    "nombre_exposed         92\n",
    "nombre_recovered    17688\n",
    "Name: 87, dtype: int64"
   ]
  },
  {
   "cell_type": "markdown",
   "id": "bd2d296b",
   "metadata": {},
   "source": [
    "nombre_infected       195\n",
    "nombre_sain          2049\n",
    "nombre_exposed         85\n",
    "nombre_recovered    17671\n",
    "Name: 88, dtype: int64"
   ]
  },
  {
   "cell_type": "markdown",
   "id": "0df99317",
   "metadata": {},
   "source": [
    "nombre_infected       207\n",
    "nombre_sain          2059\n",
    "nombre_exposed         82\n",
    "nombre_recovered    17652\n",
    "Name: 89, dtype: int64"
   ]
  },
  {
   "cell_type": "markdown",
   "id": "7a22f501",
   "metadata": {},
   "source": [
    "nombre_infected       191\n",
    "nombre_sain          2087\n",
    "nombre_exposed         90\n",
    "nombre_recovered    17632\n",
    "Name: 90, dtype: int64"
   ]
  },
  {
   "cell_type": "markdown",
   "id": "d7903a7e",
   "metadata": {},
   "source": [
    "nombre_infected       188\n",
    "nombre_sain          2117\n",
    "nombre_exposed         82\n",
    "nombre_recovered    17613\n",
    "Name: 91, dtype: int64"
   ]
  },
  {
   "cell_type": "markdown",
   "id": "384d65ac",
   "metadata": {},
   "source": [
    "nombre_infected       192\n",
    "nombre_sain          2118\n",
    "nombre_exposed         98\n",
    "nombre_recovered    17592\n",
    "Name: 92, dtype: int64"
   ]
  },
  {
   "cell_type": "markdown",
   "id": "62f39edd",
   "metadata": {},
   "source": [
    "nombre_infected       184\n",
    "nombre_sain          2134\n",
    "nombre_exposed        110\n",
    "nombre_recovered    17572\n",
    "Name: 93, dtype: int64"
   ]
  },
  {
   "cell_type": "markdown",
   "id": "6efa3f48",
   "metadata": {},
   "source": [
    "nombre_infected       186\n",
    "nombre_sain          2144\n",
    "nombre_exposed        111\n",
    "nombre_recovered    17559\n",
    "Name: 94, dtype: int64"
   ]
  },
  {
   "cell_type": "markdown",
   "id": "f19251f7",
   "metadata": {},
   "source": [
    "nombre_infected       192\n",
    "nombre_sain          2178\n",
    "nombre_exposed        117\n",
    "nombre_recovered    17513\n",
    "Name: 95, dtype: int64"
   ]
  },
  {
   "cell_type": "markdown",
   "id": "055dcf8d",
   "metadata": {},
   "source": [
    "nombre_infected       199\n",
    "nombre_sain          2211\n",
    "nombre_exposed        115\n",
    "nombre_recovered    17475\n",
    "Name: 96, dtype: int64"
   ]
  },
  {
   "cell_type": "markdown",
   "id": "f0a0fc9b",
   "metadata": {},
   "source": [
    "nombre_infected       199\n",
    "nombre_sain          2245\n",
    "nombre_exposed        122\n",
    "nombre_recovered    17434\n",
    "Name: 97, dtype: int64"
   ]
  },
  {
   "cell_type": "markdown",
   "id": "ee58aa1e",
   "metadata": {},
   "source": [
    "nombre_infected       201\n",
    "nombre_sain          2264\n",
    "nombre_exposed        125\n",
    "nombre_recovered    17410\n",
    "Name: 98, dtype: int64"
   ]
  },
  {
   "cell_type": "markdown",
   "id": "a801f9f5",
   "metadata": {},
   "source": [
    "nombre_infected       204\n",
    "nombre_sain          2286\n",
    "nombre_exposed        122\n",
    "nombre_recovered    17388\n",
    "Name: 99, dtype: int64"
   ]
  },
  {
   "cell_type": "markdown",
   "id": "7af2d00c",
   "metadata": {},
   "source": [
    "nombre_infected       208\n",
    "nombre_sain          2313\n",
    "nombre_exposed        118\n",
    "nombre_recovered    17361\n",
    "Name: 100, dtype: int64"
   ]
  },
  {
   "cell_type": "markdown",
   "id": "eb8fa873",
   "metadata": {},
   "source": [
    "nombre_infected       213\n",
    "nombre_sain          2348\n",
    "nombre_exposed        126\n",
    "nombre_recovered    17313\n",
    "Name: 101, dtype: int64"
   ]
  },
  {
   "cell_type": "markdown",
   "id": "50607a25",
   "metadata": {},
   "source": [
    "nombre_infected       224\n",
    "nombre_sain          2353\n",
    "nombre_exposed        131\n",
    "nombre_recovered    17292\n",
    "Name: 102, dtype: int64"
   ]
  },
  {
   "cell_type": "markdown",
   "id": "b9f8a32a",
   "metadata": {},
   "source": [
    "nombre_infected       229\n",
    "nombre_sain          2366\n",
    "nombre_exposed        140\n",
    "nombre_recovered    17265\n",
    "Name: 103, dtype: int64"
   ]
  },
  {
   "cell_type": "markdown",
   "id": "4cb154ca",
   "metadata": {},
   "source": [
    "nombre_infected       227\n",
    "nombre_sain          2383\n",
    "nombre_exposed        149\n",
    "nombre_recovered    17241\n",
    "Name: 104, dtype: int64"
   ]
  },
  {
   "cell_type": "markdown",
   "id": "ffc80c06",
   "metadata": {},
   "source": [
    "nombre_infected       235\n",
    "nombre_sain          2401\n",
    "nombre_exposed        156\n",
    "nombre_recovered    17208\n",
    "Name: 105, dtype: int64"
   ]
  },
  {
   "cell_type": "markdown",
   "id": "b8febbe5",
   "metadata": {},
   "source": [
    "nombre_infected       245\n",
    "nombre_sain          2410\n",
    "nombre_exposed        147\n",
    "nombre_recovered    17198\n",
    "Name: 106, dtype: int64"
   ]
  },
  {
   "cell_type": "markdown",
   "id": "c7c18ca2",
   "metadata": {},
   "source": [
    "nombre_infected       254\n",
    "nombre_sain          2414\n",
    "nombre_exposed        144\n",
    "nombre_recovered    17188\n",
    "Name: 107, dtype: int64"
   ]
  },
  {
   "cell_type": "markdown",
   "id": "a2636729",
   "metadata": {},
   "source": [
    "nombre_infected       262\n",
    "nombre_sain          2425\n",
    "nombre_exposed        148\n",
    "nombre_recovered    17165\n",
    "Name: 108, dtype: int64"
   ]
  },
  {
   "cell_type": "markdown",
   "id": "dd961dd9",
   "metadata": {},
   "source": [
    "nombre_infected       267\n",
    "nombre_sain          2434\n",
    "nombre_exposed        153\n",
    "nombre_recovered    17146\n",
    "Name: 109, dtype: int64"
   ]
  },
  {
   "cell_type": "markdown",
   "id": "5380bb8a",
   "metadata": {},
   "source": [
    "nombre_infected       277\n",
    "nombre_sain          2448\n",
    "nombre_exposed        153\n",
    "nombre_recovered    17122\n",
    "Name: 110, dtype: int64"
   ]
  },
  {
   "cell_type": "markdown",
   "id": "2af8bdda",
   "metadata": {},
   "source": [
    "nombre_infected       292\n",
    "nombre_sain          2467\n",
    "nombre_exposed        160\n",
    "nombre_recovered    17081\n",
    "Name: 111, dtype: int64"
   ]
  },
  {
   "cell_type": "markdown",
   "id": "2f8449c8",
   "metadata": {},
   "source": [
    "nombre_infected       302\n",
    "nombre_sain          2478\n",
    "nombre_exposed        164\n",
    "nombre_recovered    17056\n",
    "Name: 112, dtype: int64"
   ]
  },
  {
   "cell_type": "markdown",
   "id": "818e9013",
   "metadata": {},
   "source": [
    "nombre_infected       305\n",
    "nombre_sain          2467\n",
    "nombre_exposed        187\n",
    "nombre_recovered    17041\n",
    "Name: 113, dtype: int64"
   ]
  },
  {
   "cell_type": "markdown",
   "id": "af09663a",
   "metadata": {},
   "source": [
    "nombre_infected       312\n",
    "nombre_sain          2466\n",
    "nombre_exposed        202\n",
    "nombre_recovered    17020\n",
    "Name: 114, dtype: int64"
   ]
  },
  {
   "cell_type": "markdown",
   "id": "9e55204c",
   "metadata": {},
   "source": [
    "nombre_infected       317\n",
    "nombre_sain          2473\n",
    "nombre_exposed        208\n",
    "nombre_recovered    17002\n",
    "Name: 115, dtype: int64"
   ]
  },
  {
   "cell_type": "markdown",
   "id": "002689d2",
   "metadata": {},
   "source": [
    "nombre_infected       339\n",
    "nombre_sain          2507\n",
    "nombre_exposed        189\n",
    "nombre_recovered    16965\n",
    "Name: 116, dtype: int64"
   ]
  },
  {
   "cell_type": "markdown",
   "id": "9e3dcaa0",
   "metadata": {},
   "source": [
    "nombre_infected       350\n",
    "nombre_sain          2531\n",
    "nombre_exposed        192\n",
    "nombre_recovered    16927\n",
    "Name: 117, dtype: int64"
   ]
  },
  {
   "cell_type": "markdown",
   "id": "f7ff6424",
   "metadata": {},
   "source": [
    "nombre_infected       345\n",
    "nombre_sain          2557\n",
    "nombre_exposed        199\n",
    "nombre_recovered    16899\n",
    "Name: 118, dtype: int64"
   ]
  },
  {
   "cell_type": "markdown",
   "id": "4e51e1db",
   "metadata": {},
   "source": [
    "nombre_infected       338\n",
    "nombre_sain          2560\n",
    "nombre_exposed        219\n",
    "nombre_recovered    16883\n",
    "Name: 119, dtype: int64"
   ]
  },
  {
   "cell_type": "markdown",
   "id": "86348399",
   "metadata": {},
   "source": [
    "nombre_infected       354\n",
    "nombre_sain          2574\n",
    "nombre_exposed        220\n",
    "nombre_recovered    16852\n",
    "Name: 120, dtype: int64"
   ]
  },
  {
   "cell_type": "markdown",
   "id": "ac0662ac",
   "metadata": {},
   "source": [
    "nombre_infected       364\n",
    "nombre_sain          2598\n",
    "nombre_exposed        218\n",
    "nombre_recovered    16820\n",
    "Name: 121, dtype: int64"
   ]
  },
  {
   "cell_type": "markdown",
   "id": "83ce2ba5",
   "metadata": {},
   "source": [
    "nombre_infected       375\n",
    "nombre_sain          2613\n",
    "nombre_exposed        234\n",
    "nombre_recovered    16778\n",
    "Name: 122, dtype: int64"
   ]
  },
  {
   "cell_type": "markdown",
   "id": "c3d01edf",
   "metadata": {},
   "source": [
    "nombre_infected       381\n",
    "nombre_sain          2606\n",
    "nombre_exposed        261\n",
    "nombre_recovered    16752\n",
    "Name: 123, dtype: int64"
   ]
  },
  {
   "cell_type": "markdown",
   "id": "14e8e373",
   "metadata": {},
   "source": [
    "nombre_infected       405\n",
    "nombre_sain          2622\n",
    "nombre_exposed        267\n",
    "nombre_recovered    16706\n",
    "Name: 124, dtype: int64"
   ]
  },
  {
   "cell_type": "markdown",
   "id": "9af99e5f",
   "metadata": {},
   "source": [
    "nombre_infected       410\n",
    "nombre_sain          2626\n",
    "nombre_exposed        274\n",
    "nombre_recovered    16690\n",
    "Name: 125, dtype: int64"
   ]
  },
  {
   "cell_type": "markdown",
   "id": "7fdc85f2",
   "metadata": {},
   "source": [
    "nombre_infected       416\n",
    "nombre_sain          2636\n",
    "nombre_exposed        276\n",
    "nombre_recovered    16672\n",
    "Name: 126, dtype: int64"
   ]
  },
  {
   "cell_type": "markdown",
   "id": "770366e7",
   "metadata": {},
   "source": [
    "nombre_infected       439\n",
    "nombre_sain          2645\n",
    "nombre_exposed        274\n",
    "nombre_recovered    16642\n",
    "Name: 127, dtype: int64"
   ]
  },
  {
   "cell_type": "markdown",
   "id": "a41fe7cc",
   "metadata": {},
   "source": [
    "nombre_infected       457\n",
    "nombre_sain          2634\n",
    "nombre_exposed        283\n",
    "nombre_recovered    16626\n",
    "Name: 128, dtype: int64"
   ]
  },
  {
   "cell_type": "markdown",
   "id": "05824ead",
   "metadata": {},
   "source": [
    "nombre_infected       472\n",
    "nombre_sain          2633\n",
    "nombre_exposed        295\n",
    "nombre_recovered    16600\n",
    "Name: 129, dtype: int64"
   ]
  },
  {
   "cell_type": "markdown",
   "id": "dd0a525e",
   "metadata": {},
   "source": [
    "nombre_infected       474\n",
    "nombre_sain          2617\n",
    "nombre_exposed        322\n",
    "nombre_recovered    16587\n",
    "Name: 130, dtype: int64"
   ]
  },
  {
   "cell_type": "markdown",
   "id": "5afce608",
   "metadata": {},
   "source": [
    "nombre_infected       498\n",
    "nombre_sain          2612\n",
    "nombre_exposed        325\n",
    "nombre_recovered    16565\n",
    "Name: 131, dtype: int64"
   ]
  },
  {
   "cell_type": "markdown",
   "id": "fa1c144b",
   "metadata": {},
   "source": [
    "nombre_infected       511\n",
    "nombre_sain          2592\n",
    "nombre_exposed        336\n",
    "nombre_recovered    16561\n",
    "Name: 132, dtype: int64"
   ]
  },
  {
   "cell_type": "markdown",
   "id": "70da6df8",
   "metadata": {},
   "source": [
    "nombre_infected       526\n",
    "nombre_sain          2578\n",
    "nombre_exposed        347\n",
    "nombre_recovered    16549\n",
    "Name: 133, dtype: int64"
   ]
  },
  {
   "cell_type": "markdown",
   "id": "365e0d32",
   "metadata": {},
   "source": [
    "nombre_infected       544\n",
    "nombre_sain          2545\n",
    "nombre_exposed        364\n",
    "nombre_recovered    16547\n",
    "Name: 134, dtype: int64"
   ]
  },
  {
   "cell_type": "markdown",
   "id": "c5576737",
   "metadata": {},
   "source": [
    "nombre_infected       576\n",
    "nombre_sain          2523\n",
    "nombre_exposed        364\n",
    "nombre_recovered    16537\n",
    "Name: 135, dtype: int64"
   ]
  },
  {
   "cell_type": "markdown",
   "id": "0d95b8e9",
   "metadata": {},
   "source": [
    "nombre_infected       596\n",
    "nombre_sain          2506\n",
    "nombre_exposed        362\n",
    "nombre_recovered    16536\n",
    "Name: 136, dtype: int64"
   ]
  },
  {
   "cell_type": "markdown",
   "id": "04daecdf",
   "metadata": {},
   "source": [
    "nombre_infected       605\n",
    "nombre_sain          2483\n",
    "nombre_exposed        368\n",
    "nombre_recovered    16544\n",
    "Name: 137, dtype: int64"
   ]
  },
  {
   "cell_type": "markdown",
   "id": "a089cc67",
   "metadata": {},
   "source": [
    "nombre_infected       607\n",
    "nombre_sain          2448\n",
    "nombre_exposed        378\n",
    "nombre_recovered    16567\n",
    "Name: 138, dtype: int64"
   ]
  },
  {
   "cell_type": "markdown",
   "id": "cd1860e8",
   "metadata": {},
   "source": [
    "nombre_infected       604\n",
    "nombre_sain          2406\n",
    "nombre_exposed        389\n",
    "nombre_recovered    16601\n",
    "Name: 139, dtype: int64"
   ]
  },
  {
   "cell_type": "markdown",
   "id": "c8baa0c0",
   "metadata": {},
   "source": [
    "nombre_infected       612\n",
    "nombre_sain          2387\n",
    "nombre_exposed        382\n",
    "nombre_recovered    16619\n",
    "Name: 140, dtype: int64"
   ]
  },
  {
   "cell_type": "markdown",
   "id": "48b26818",
   "metadata": {},
   "source": [
    "nombre_infected       617\n",
    "nombre_sain          2366\n",
    "nombre_exposed        378\n",
    "nombre_recovered    16639\n",
    "Name: 141, dtype: int64"
   ]
  },
  {
   "cell_type": "markdown",
   "id": "42cbe38f",
   "metadata": {},
   "source": [
    "nombre_infected       616\n",
    "nombre_sain          2344\n",
    "nombre_exposed        398\n",
    "nombre_recovered    16642\n",
    "Name: 142, dtype: int64"
   ]
  },
  {
   "cell_type": "markdown",
   "id": "06e8d237",
   "metadata": {},
   "source": [
    "nombre_infected       631\n",
    "nombre_sain          2335\n",
    "nombre_exposed        394\n",
    "nombre_recovered    16640\n",
    "Name: 143, dtype: int64"
   ]
  },
  {
   "cell_type": "markdown",
   "id": "8c544403",
   "metadata": {},
   "source": [
    "nombre_infected       640\n",
    "nombre_sain          2309\n",
    "nombre_exposed        408\n",
    "nombre_recovered    16643\n",
    "Name: 144, dtype: int64"
   ]
  },
  {
   "cell_type": "markdown",
   "id": "6ddc99c2",
   "metadata": {},
   "source": [
    "nombre_infected       663\n",
    "nombre_sain          2272\n",
    "nombre_exposed        391\n",
    "nombre_recovered    16674\n",
    "Name: 145, dtype: int64"
   ]
  },
  {
   "cell_type": "markdown",
   "id": "dd819f1c",
   "metadata": {},
   "source": [
    "nombre_infected       673\n",
    "nombre_sain          2253\n",
    "nombre_exposed        381\n",
    "nombre_recovered    16693\n",
    "Name: 146, dtype: int64"
   ]
  },
  {
   "cell_type": "markdown",
   "id": "74e91718",
   "metadata": {},
   "source": [
    "nombre_infected       687\n",
    "nombre_sain          2243\n",
    "nombre_exposed        375\n",
    "nombre_recovered    16695\n",
    "Name: 147, dtype: int64"
   ]
  },
  {
   "cell_type": "markdown",
   "id": "751f8bb6",
   "metadata": {},
   "source": [
    "nombre_infected       686\n",
    "nombre_sain          2222\n",
    "nombre_exposed        393\n",
    "nombre_recovered    16699\n",
    "Name: 148, dtype: int64"
   ]
  },
  {
   "cell_type": "markdown",
   "id": "0a971dfd",
   "metadata": {},
   "source": [
    "nombre_infected       686\n",
    "nombre_sain          2187\n",
    "nombre_exposed        417\n",
    "nombre_recovered    16710\n",
    "Name: 149, dtype: int64"
   ]
  },
  {
   "cell_type": "markdown",
   "id": "2d3c675b",
   "metadata": {},
   "source": [
    "nombre_infected       679\n",
    "nombre_sain          2159\n",
    "nombre_exposed        438\n",
    "nombre_recovered    16724\n",
    "Name: 150, dtype: int64"
   ]
  },
  {
   "cell_type": "markdown",
   "id": "dda03cb2",
   "metadata": {},
   "source": [
    "nombre_infected       690\n",
    "nombre_sain          2153\n",
    "nombre_exposed        425\n",
    "nombre_recovered    16732\n",
    "Name: 151, dtype: int64"
   ]
  },
  {
   "cell_type": "markdown",
   "id": "36857d32",
   "metadata": {},
   "source": [
    "nombre_infected       701\n",
    "nombre_sain          2150\n",
    "nombre_exposed        418\n",
    "nombre_recovered    16731\n",
    "Name: 152, dtype: int64"
   ]
  },
  {
   "cell_type": "markdown",
   "id": "a90ba388",
   "metadata": {},
   "source": [
    "nombre_infected       717\n",
    "nombre_sain          2117\n",
    "nombre_exposed        422\n",
    "nombre_recovered    16744\n",
    "Name: 153, dtype: int64"
   ]
  },
  {
   "cell_type": "markdown",
   "id": "8d61e980",
   "metadata": {},
   "source": [
    "nombre_infected       724\n",
    "nombre_sain          2108\n",
    "nombre_exposed        419\n",
    "nombre_recovered    16749\n",
    "Name: 154, dtype: int64"
   ]
  },
  {
   "cell_type": "markdown",
   "id": "520fe773",
   "metadata": {},
   "source": [
    "nombre_infected       752\n",
    "nombre_sain          2080\n",
    "nombre_exposed        417\n",
    "nombre_recovered    16751\n",
    "Name: 155, dtype: int64"
   ]
  },
  {
   "cell_type": "markdown",
   "id": "074d20d5",
   "metadata": {},
   "source": [
    "nombre_infected       756\n",
    "nombre_sain          2063\n",
    "nombre_exposed        426\n",
    "nombre_recovered    16755\n",
    "Name: 156, dtype: int64"
   ]
  },
  {
   "cell_type": "markdown",
   "id": "b6875cb0",
   "metadata": {},
   "source": [
    "nombre_infected       743\n",
    "nombre_sain          2054\n",
    "nombre_exposed        438\n",
    "nombre_recovered    16765\n",
    "Name: 157, dtype: int64"
   ]
  },
  {
   "cell_type": "markdown",
   "id": "81a5e7f1",
   "metadata": {},
   "source": [
    "nombre_infected       755\n",
    "nombre_sain          2013\n",
    "nombre_exposed        425\n",
    "nombre_recovered    16807\n",
    "Name: 158, dtype: int64"
   ]
  },
  {
   "cell_type": "markdown",
   "id": "301c45a9",
   "metadata": {},
   "source": [
    "nombre_infected       759\n",
    "nombre_sain          2026\n",
    "nombre_exposed        413\n",
    "nombre_recovered    16802\n",
    "Name: 159, dtype: int64"
   ]
  },
  {
   "cell_type": "markdown",
   "id": "4a05dddc",
   "metadata": {},
   "source": [
    "nombre_infected       765\n",
    "nombre_sain          2007\n",
    "nombre_exposed        409\n",
    "nombre_recovered    16819\n",
    "Name: 160, dtype: int64"
   ]
  },
  {
   "cell_type": "markdown",
   "id": "e3742acd",
   "metadata": {},
   "source": [
    "nombre_infected       766\n",
    "nombre_sain          1997\n",
    "nombre_exposed        411\n",
    "nombre_recovered    16826\n",
    "Name: 161, dtype: int64"
   ]
  },
  {
   "cell_type": "markdown",
   "id": "c4bebf50",
   "metadata": {},
   "source": [
    "nombre_infected       784\n",
    "nombre_sain          2004\n",
    "nombre_exposed        407\n",
    "nombre_recovered    16805\n",
    "Name: 162, dtype: int64"
   ]
  },
  {
   "cell_type": "markdown",
   "id": "6315e877",
   "metadata": {},
   "source": [
    "nombre_infected       769\n",
    "nombre_sain          2005\n",
    "nombre_exposed        414\n",
    "nombre_recovered    16812\n",
    "Name: 163, dtype: int64"
   ]
  },
  {
   "cell_type": "markdown",
   "id": "76548971",
   "metadata": {},
   "source": [
    "nombre_infected       776\n",
    "nombre_sain          2012\n",
    "nombre_exposed        406\n",
    "nombre_recovered    16806\n",
    "Name: 164, dtype: int64"
   ]
  },
  {
   "cell_type": "markdown",
   "id": "e22a69cb",
   "metadata": {},
   "source": [
    "nombre_infected       773\n",
    "nombre_sain          2012\n",
    "nombre_exposed        409\n",
    "nombre_recovered    16806\n",
    "Name: 165, dtype: int64"
   ]
  },
  {
   "cell_type": "markdown",
   "id": "7dbf844a",
   "metadata": {},
   "source": [
    "nombre_infected       773\n",
    "nombre_sain          2028\n",
    "nombre_exposed        398\n",
    "nombre_recovered    16801\n",
    "Name: 166, dtype: int64"
   ]
  },
  {
   "cell_type": "markdown",
   "id": "d1c26138",
   "metadata": {},
   "source": [
    "nombre_infected       774\n",
    "nombre_sain          2056\n",
    "nombre_exposed        389\n",
    "nombre_recovered    16781\n",
    "Name: 167, dtype: int64"
   ]
  },
  {
   "cell_type": "markdown",
   "id": "908bbcb6",
   "metadata": {},
   "source": [
    "nombre_infected       771\n",
    "nombre_sain          2063\n",
    "nombre_exposed        401\n",
    "nombre_recovered    16765\n",
    "Name: 168, dtype: int64"
   ]
  },
  {
   "cell_type": "markdown",
   "id": "4be2b05e",
   "metadata": {},
   "source": [
    "nombre_infected       769\n",
    "nombre_sain          2052\n",
    "nombre_exposed        412\n",
    "nombre_recovered    16767\n",
    "Name: 169, dtype: int64"
   ]
  },
  {
   "cell_type": "markdown",
   "id": "6eabd604",
   "metadata": {},
   "source": [
    "nombre_infected       773\n",
    "nombre_sain          2057\n",
    "nombre_exposed        413\n",
    "nombre_recovered    16757\n",
    "Name: 170, dtype: int64"
   ]
  },
  {
   "cell_type": "markdown",
   "id": "32a94559",
   "metadata": {},
   "source": [
    "nombre_infected       750\n",
    "nombre_sain          2032\n",
    "nombre_exposed        435\n",
    "nombre_recovered    16783\n",
    "Name: 171, dtype: int64"
   ]
  },
  {
   "cell_type": "markdown",
   "id": "06e16bbe",
   "metadata": {},
   "source": [
    "nombre_infected       743\n",
    "nombre_sain          2016\n",
    "nombre_exposed        443\n",
    "nombre_recovered    16798\n",
    "Name: 172, dtype: int64"
   ]
  },
  {
   "cell_type": "markdown",
   "id": "59a6e359",
   "metadata": {},
   "source": [
    "nombre_infected       753\n",
    "nombre_sain          2006\n",
    "nombre_exposed        423\n",
    "nombre_recovered    16818\n",
    "Name: 173, dtype: int64"
   ]
  },
  {
   "cell_type": "markdown",
   "id": "5016e9c2",
   "metadata": {},
   "source": [
    "nombre_infected       768\n",
    "nombre_sain          1958\n",
    "nombre_exposed        431\n",
    "nombre_recovered    16843\n",
    "Name: 174, dtype: int64"
   ]
  },
  {
   "cell_type": "markdown",
   "id": "d3eb1c56",
   "metadata": {},
   "source": [
    "nombre_infected       760\n",
    "nombre_sain          1940\n",
    "nombre_exposed        446\n",
    "nombre_recovered    16854\n",
    "Name: 175, dtype: int64"
   ]
  },
  {
   "cell_type": "markdown",
   "id": "22487a45",
   "metadata": {},
   "source": [
    "nombre_infected       792\n",
    "nombre_sain          1952\n",
    "nombre_exposed        418\n",
    "nombre_recovered    16838\n",
    "Name: 176, dtype: int64"
   ]
  },
  {
   "cell_type": "markdown",
   "id": "f2dad4b0",
   "metadata": {},
   "source": [
    "nombre_infected       818\n",
    "nombre_sain          1933\n",
    "nombre_exposed        394\n",
    "nombre_recovered    16855\n",
    "Name: 177, dtype: int64"
   ]
  },
  {
   "cell_type": "markdown",
   "id": "0fe2a4ae",
   "metadata": {},
   "source": [
    "nombre_infected       819\n",
    "nombre_sain          1924\n",
    "nombre_exposed        403\n",
    "nombre_recovered    16854\n",
    "Name: 178, dtype: int64"
   ]
  },
  {
   "cell_type": "markdown",
   "id": "6ceae1f4",
   "metadata": {},
   "source": [
    "nombre_infected       806\n",
    "nombre_sain          1911\n",
    "nombre_exposed        409\n",
    "nombre_recovered    16874\n",
    "Name: 179, dtype: int64"
   ]
  },
  {
   "cell_type": "markdown",
   "id": "6b4b4f52",
   "metadata": {},
   "source": [
    "nombre_infected       795\n",
    "nombre_sain          1896\n",
    "nombre_exposed        426\n",
    "nombre_recovered    16883\n",
    "Name: 180, dtype: int64"
   ]
  },
  {
   "cell_type": "markdown",
   "id": "72249d3d",
   "metadata": {},
   "source": [
    "nombre_infected       763\n",
    "nombre_sain          1899\n",
    "nombre_exposed        423\n",
    "nombre_recovered    16915\n",
    "Name: 181, dtype: int64"
   ]
  },
  {
   "cell_type": "markdown",
   "id": "da91e2b0",
   "metadata": {},
   "source": [
    "nombre_infected       751\n",
    "nombre_sain          1887\n",
    "nombre_exposed        425\n",
    "nombre_recovered    16937\n",
    "Name: 182, dtype: int64"
   ]
  },
  {
   "cell_type": "markdown",
   "id": "9694a7e4",
   "metadata": {},
   "source": [
    "nombre_infected       736\n",
    "nombre_sain          1868\n",
    "nombre_exposed        425\n",
    "nombre_recovered    16971\n",
    "Name: 183, dtype: int64"
   ]
  },
  {
   "cell_type": "markdown",
   "id": "077a301c",
   "metadata": {},
   "source": [
    "nombre_infected       721\n",
    "nombre_sain          1865\n",
    "nombre_exposed        420\n",
    "nombre_recovered    16994\n",
    "Name: 184, dtype: int64"
   ]
  },
  {
   "cell_type": "markdown",
   "id": "4c9b7464",
   "metadata": {},
   "source": [
    "nombre_infected       720\n",
    "nombre_sain          1861\n",
    "nombre_exposed        407\n",
    "nombre_recovered    17012\n",
    "Name: 185, dtype: int64"
   ]
  },
  {
   "cell_type": "markdown",
   "id": "bb989247",
   "metadata": {},
   "source": [
    "nombre_infected       721\n",
    "nombre_sain          1850\n",
    "nombre_exposed        406\n",
    "nombre_recovered    17023\n",
    "Name: 186, dtype: int64"
   ]
  },
  {
   "cell_type": "markdown",
   "id": "59abd7cd",
   "metadata": {},
   "source": [
    "nombre_infected       710\n",
    "nombre_sain          1813\n",
    "nombre_exposed        413\n",
    "nombre_recovered    17064\n",
    "Name: 187, dtype: int64"
   ]
  },
  {
   "cell_type": "markdown",
   "id": "82654d46",
   "metadata": {},
   "source": [
    "nombre_infected       722\n",
    "nombre_sain          1807\n",
    "nombre_exposed        413\n",
    "nombre_recovered    17058\n",
    "Name: 188, dtype: int64"
   ]
  },
  {
   "cell_type": "markdown",
   "id": "881b0d49",
   "metadata": {},
   "source": [
    "nombre_infected       728\n",
    "nombre_sain          1816\n",
    "nombre_exposed        392\n",
    "nombre_recovered    17064\n",
    "Name: 189, dtype: int64"
   ]
  },
  {
   "cell_type": "markdown",
   "id": "974de682",
   "metadata": {},
   "source": [
    "nombre_infected       733\n",
    "nombre_sain          1809\n",
    "nombre_exposed        377\n",
    "nombre_recovered    17081\n",
    "Name: 190, dtype: int64"
   ]
  },
  {
   "cell_type": "markdown",
   "id": "0e5be340",
   "metadata": {},
   "source": [
    "nombre_infected       735\n",
    "nombre_sain          1806\n",
    "nombre_exposed        369\n",
    "nombre_recovered    17090\n",
    "Name: 191, dtype: int64"
   ]
  },
  {
   "cell_type": "markdown",
   "id": "ca07a8f8",
   "metadata": {},
   "source": [
    "nombre_infected       724\n",
    "nombre_sain          1840\n",
    "nombre_exposed        359\n",
    "nombre_recovered    17077\n",
    "Name: 192, dtype: int64"
   ]
  },
  {
   "cell_type": "markdown",
   "id": "0087e622",
   "metadata": {},
   "source": [
    "nombre_infected       692\n",
    "nombre_sain          1836\n",
    "nombre_exposed        362\n",
    "nombre_recovered    17110\n",
    "Name: 193, dtype: int64"
   ]
  },
  {
   "cell_type": "markdown",
   "id": "7e9d7c75",
   "metadata": {},
   "source": [
    "nombre_infected       693\n",
    "nombre_sain          1841\n",
    "nombre_exposed        359\n",
    "nombre_recovered    17107\n",
    "Name: 194, dtype: int64"
   ]
  },
  {
   "cell_type": "markdown",
   "id": "de44fae2",
   "metadata": {},
   "source": [
    "nombre_infected       699\n",
    "nombre_sain          1838\n",
    "nombre_exposed        361\n",
    "nombre_recovered    17102\n",
    "Name: 195, dtype: int64"
   ]
  },
  {
   "cell_type": "markdown",
   "id": "1936f3cb",
   "metadata": {},
   "source": [
    "nombre_infected       683\n",
    "nombre_sain          1849\n",
    "nombre_exposed        375\n",
    "nombre_recovered    17093\n",
    "Name: 196, dtype: int64"
   ]
  },
  {
   "cell_type": "markdown",
   "id": "2c851215",
   "metadata": {},
   "source": [
    "nombre_infected       684\n",
    "nombre_sain          1871\n",
    "nombre_exposed        367\n",
    "nombre_recovered    17078\n",
    "Name: 197, dtype: int64"
   ]
  },
  {
   "cell_type": "markdown",
   "id": "f3b50c06",
   "metadata": {},
   "source": [
    "nombre_infected       704\n",
    "nombre_sain          1905\n",
    "nombre_exposed        351\n",
    "nombre_recovered    17040\n",
    "Name: 198, dtype: int64"
   ]
  },
  {
   "cell_type": "markdown",
   "id": "1cc25b5f",
   "metadata": {},
   "source": [
    "nombre_infected       689\n",
    "nombre_sain          1930\n",
    "nombre_exposed        355\n",
    "nombre_recovered    17026\n",
    "Name: 199, dtype: int64"
   ]
  },
  {
   "cell_type": "markdown",
   "id": "b8b2671f",
   "metadata": {},
   "source": [
    "nombre_infected       682\n",
    "nombre_sain          1941\n",
    "nombre_exposed        351\n",
    "nombre_recovered    17026\n",
    "Name: 200, dtype: int64"
   ]
  },
  {
   "cell_type": "markdown",
   "id": "56331537",
   "metadata": {},
   "source": [
    "nombre_infected       692\n",
    "nombre_sain          1945\n",
    "nombre_exposed        346\n",
    "nombre_recovered    17017\n",
    "Name: 201, dtype: int64"
   ]
  },
  {
   "cell_type": "markdown",
   "id": "0f956691",
   "metadata": {},
   "source": [
    "nombre_infected       715\n",
    "nombre_sain          1936\n",
    "nombre_exposed        341\n",
    "nombre_recovered    17008\n",
    "Name: 202, dtype: int64"
   ]
  },
  {
   "cell_type": "markdown",
   "id": "f2ced7ff",
   "metadata": {},
   "source": [
    "nombre_infected       706\n",
    "nombre_sain          1944\n",
    "nombre_exposed        338\n",
    "nombre_recovered    17012\n",
    "Name: 203, dtype: int64"
   ]
  },
  {
   "cell_type": "markdown",
   "id": "313fc381",
   "metadata": {},
   "source": [
    "nombre_infected       678\n",
    "nombre_sain          1956\n",
    "nombre_exposed        348\n",
    "nombre_recovered    17018\n",
    "Name: 204, dtype: int64"
   ]
  },
  {
   "cell_type": "markdown",
   "id": "681bff73",
   "metadata": {},
   "source": [
    "nombre_infected       684\n",
    "nombre_sain          1958\n",
    "nombre_exposed        355\n",
    "nombre_recovered    17003\n",
    "Name: 205, dtype: int64"
   ]
  },
  {
   "cell_type": "markdown",
   "id": "72f96695",
   "metadata": {},
   "source": [
    "nombre_infected       676\n",
    "nombre_sain          1969\n",
    "nombre_exposed        358\n",
    "nombre_recovered    16997\n",
    "Name: 206, dtype: int64"
   ]
  },
  {
   "cell_type": "markdown",
   "id": "6df77862",
   "metadata": {},
   "source": [
    "nombre_infected       669\n",
    "nombre_sain          1968\n",
    "nombre_exposed        365\n",
    "nombre_recovered    16998\n",
    "Name: 207, dtype: int64"
   ]
  },
  {
   "cell_type": "markdown",
   "id": "b492beae",
   "metadata": {},
   "source": [
    "nombre_infected       684\n",
    "nombre_sain          1953\n",
    "nombre_exposed        343\n",
    "nombre_recovered    17020\n",
    "Name: 208, dtype: int64"
   ]
  },
  {
   "cell_type": "markdown",
   "id": "1f850b9a",
   "metadata": {},
   "source": [
    "nombre_infected       688\n",
    "nombre_sain          1987\n",
    "nombre_exposed        319\n",
    "nombre_recovered    17006\n",
    "Name: 209, dtype: int64"
   ]
  },
  {
   "cell_type": "markdown",
   "id": "56942c52",
   "metadata": {},
   "source": [
    "nombre_infected       683\n",
    "nombre_sain          1989\n",
    "nombre_exposed        329\n",
    "nombre_recovered    16999\n",
    "Name: 210, dtype: int64"
   ]
  },
  {
   "cell_type": "markdown",
   "id": "5559bbe1",
   "metadata": {},
   "source": [
    "nombre_infected       665\n",
    "nombre_sain          1992\n",
    "nombre_exposed        329\n",
    "nombre_recovered    17014\n",
    "Name: 211, dtype: int64"
   ]
  },
  {
   "cell_type": "markdown",
   "id": "e07b854a",
   "metadata": {},
   "source": [
    "nombre_infected       654\n",
    "nombre_sain          2022\n",
    "nombre_exposed        323\n",
    "nombre_recovered    17001\n",
    "Name: 212, dtype: int64"
   ]
  },
  {
   "cell_type": "markdown",
   "id": "4487f86a",
   "metadata": {},
   "source": [
    "nombre_infected       676\n",
    "nombre_sain          2035\n",
    "nombre_exposed        324\n",
    "nombre_recovered    16965\n",
    "Name: 213, dtype: int64"
   ]
  },
  {
   "cell_type": "markdown",
   "id": "fe94acf9",
   "metadata": {},
   "source": [
    "nombre_infected       659\n",
    "nombre_sain          2041\n",
    "nombre_exposed        339\n",
    "nombre_recovered    16961\n",
    "Name: 214, dtype: int64"
   ]
  },
  {
   "cell_type": "markdown",
   "id": "2eb9ad54",
   "metadata": {},
   "source": [
    "nombre_infected       643\n",
    "nombre_sain          2045\n",
    "nombre_exposed        349\n",
    "nombre_recovered    16963\n",
    "Name: 215, dtype: int64"
   ]
  },
  {
   "cell_type": "markdown",
   "id": "3796f87a",
   "metadata": {},
   "source": [
    "nombre_infected       634\n",
    "nombre_sain          2055\n",
    "nombre_exposed        362\n",
    "nombre_recovered    16949\n",
    "Name: 216, dtype: int64"
   ]
  },
  {
   "cell_type": "markdown",
   "id": "03cd751d",
   "metadata": {},
   "source": [
    "nombre_infected       649\n",
    "nombre_sain          2063\n",
    "nombre_exposed        370\n",
    "nombre_recovered    16918\n",
    "Name: 217, dtype: int64"
   ]
  },
  {
   "cell_type": "markdown",
   "id": "a8df2b34",
   "metadata": {},
   "source": [
    "nombre_infected       672\n",
    "nombre_sain          2073\n",
    "nombre_exposed        372\n",
    "nombre_recovered    16883\n",
    "Name: 218, dtype: int64"
   ]
  },
  {
   "cell_type": "markdown",
   "id": "b4573cd0",
   "metadata": {},
   "source": [
    "nombre_infected       658\n",
    "nombre_sain          2106\n",
    "nombre_exposed        372\n",
    "nombre_recovered    16864\n",
    "Name: 219, dtype: int64"
   ]
  },
  {
   "cell_type": "markdown",
   "id": "a1f03e06",
   "metadata": {},
   "source": [
    "nombre_infected       640\n",
    "nombre_sain          2142\n",
    "nombre_exposed        376\n",
    "nombre_recovered    16842\n",
    "Name: 220, dtype: int64"
   ]
  },
  {
   "cell_type": "markdown",
   "id": "f0085439",
   "metadata": {},
   "source": [
    "nombre_infected       649\n",
    "nombre_sain          2159\n",
    "nombre_exposed        360\n",
    "nombre_recovered    16832\n",
    "Name: 221, dtype: int64"
   ]
  },
  {
   "cell_type": "markdown",
   "id": "a603c27a",
   "metadata": {},
   "source": [
    "nombre_infected       647\n",
    "nombre_sain          2188\n",
    "nombre_exposed        364\n",
    "nombre_recovered    16801\n",
    "Name: 222, dtype: int64"
   ]
  },
  {
   "cell_type": "markdown",
   "id": "e8583721",
   "metadata": {},
   "source": [
    "nombre_infected       664\n",
    "nombre_sain          2227\n",
    "nombre_exposed        354\n",
    "nombre_recovered    16755\n",
    "Name: 223, dtype: int64"
   ]
  },
  {
   "cell_type": "markdown",
   "id": "4074ad2d",
   "metadata": {},
   "source": [
    "nombre_infected       673\n",
    "nombre_sain          2250\n",
    "nombre_exposed        344\n",
    "nombre_recovered    16733\n",
    "Name: 224, dtype: int64"
   ]
  },
  {
   "cell_type": "markdown",
   "id": "e786d96f",
   "metadata": {},
   "source": [
    "nombre_infected       678\n",
    "nombre_sain          2268\n",
    "nombre_exposed        368\n",
    "nombre_recovered    16686\n",
    "Name: 225, dtype: int64"
   ]
  },
  {
   "cell_type": "markdown",
   "id": "64aab7c6",
   "metadata": {},
   "source": [
    "nombre_infected       683\n",
    "nombre_sain          2275\n",
    "nombre_exposed        383\n",
    "nombre_recovered    16659\n",
    "Name: 226, dtype: int64"
   ]
  },
  {
   "cell_type": "markdown",
   "id": "50136cbc",
   "metadata": {},
   "source": [
    "nombre_infected       677\n",
    "nombre_sain          2290\n",
    "nombre_exposed        405\n",
    "nombre_recovered    16628\n",
    "Name: 227, dtype: int64"
   ]
  },
  {
   "cell_type": "markdown",
   "id": "0459649f",
   "metadata": {},
   "source": [
    "nombre_infected       672\n",
    "nombre_sain          2314\n",
    "nombre_exposed        418\n",
    "nombre_recovered    16596\n",
    "Name: 228, dtype: int64"
   ]
  },
  {
   "cell_type": "markdown",
   "id": "f3bef9cd",
   "metadata": {},
   "source": [
    "nombre_infected       690\n",
    "nombre_sain          2308\n",
    "nombre_exposed        422\n",
    "nombre_recovered    16580\n",
    "Name: 229, dtype: int64"
   ]
  },
  {
   "cell_type": "markdown",
   "id": "66c683ac",
   "metadata": {},
   "source": [
    "nombre_infected       706\n",
    "nombre_sain          2322\n",
    "nombre_exposed        431\n",
    "nombre_recovered    16541\n",
    "Name: 230, dtype: int64"
   ]
  },
  {
   "cell_type": "markdown",
   "id": "56894c68",
   "metadata": {},
   "source": [
    "nombre_infected       719\n",
    "nombre_sain          2311\n",
    "nombre_exposed        444\n",
    "nombre_recovered    16526\n",
    "Name: 231, dtype: int64"
   ]
  },
  {
   "cell_type": "markdown",
   "id": "523f065e",
   "metadata": {},
   "source": [
    "nombre_infected       722\n",
    "nombre_sain          2321\n",
    "nombre_exposed        432\n",
    "nombre_recovered    16525\n",
    "Name: 232, dtype: int64"
   ]
  },
  {
   "cell_type": "markdown",
   "id": "216443a0",
   "metadata": {},
   "source": [
    "nombre_infected       738\n",
    "nombre_sain          2316\n",
    "nombre_exposed        426\n",
    "nombre_recovered    16520\n",
    "Name: 233, dtype: int64"
   ]
  },
  {
   "cell_type": "markdown",
   "id": "bdca429d",
   "metadata": {},
   "source": [
    "nombre_infected       774\n",
    "nombre_sain          2286\n",
    "nombre_exposed        427\n",
    "nombre_recovered    16513\n",
    "Name: 234, dtype: int64"
   ]
  },
  {
   "cell_type": "markdown",
   "id": "9071a099",
   "metadata": {},
   "source": [
    "nombre_infected       789\n",
    "nombre_sain          2249\n",
    "nombre_exposed        432\n",
    "nombre_recovered    16530\n",
    "Name: 235, dtype: int64"
   ]
  },
  {
   "cell_type": "markdown",
   "id": "70f6e19b",
   "metadata": {},
   "source": [
    "nombre_infected       795\n",
    "nombre_sain          2212\n",
    "nombre_exposed        446\n",
    "nombre_recovered    16547\n",
    "Name: 236, dtype: int64"
   ]
  },
  {
   "cell_type": "markdown",
   "id": "80b9a652",
   "metadata": {},
   "source": [
    "nombre_infected       802\n",
    "nombre_sain          2196\n",
    "nombre_exposed        445\n",
    "nombre_recovered    16557\n",
    "Name: 237, dtype: int64"
   ]
  },
  {
   "cell_type": "markdown",
   "id": "72d56b98",
   "metadata": {},
   "source": [
    "nombre_infected       821\n",
    "nombre_sain          2178\n",
    "nombre_exposed        457\n",
    "nombre_recovered    16544\n",
    "Name: 238, dtype: int64"
   ]
  },
  {
   "cell_type": "markdown",
   "id": "e42500a7",
   "metadata": {},
   "source": [
    "nombre_infected       845\n",
    "nombre_sain          2171\n",
    "nombre_exposed        447\n",
    "nombre_recovered    16537\n",
    "Name: 239, dtype: int64"
   ]
  },
  {
   "cell_type": "markdown",
   "id": "87649582",
   "metadata": {},
   "source": [
    "nombre_infected       861\n",
    "nombre_sain          2187\n",
    "nombre_exposed        423\n",
    "nombre_recovered    16529\n",
    "Name: 240, dtype: int64"
   ]
  },
  {
   "cell_type": "markdown",
   "id": "ee3ca7d2",
   "metadata": {},
   "source": [
    "nombre_infected       878\n",
    "nombre_sain          2173\n",
    "nombre_exposed        446\n",
    "nombre_recovered    16503\n",
    "Name: 241, dtype: int64"
   ]
  },
  {
   "cell_type": "markdown",
   "id": "8cc13728",
   "metadata": {},
   "source": [
    "nombre_infected       858\n",
    "nombre_sain          2154\n",
    "nombre_exposed        470\n",
    "nombre_recovered    16518\n",
    "Name: 242, dtype: int64"
   ]
  },
  {
   "cell_type": "markdown",
   "id": "a089b20e",
   "metadata": {},
   "source": [
    "nombre_infected       872\n",
    "nombre_sain          2148\n",
    "nombre_exposed        475\n",
    "nombre_recovered    16505\n",
    "Name: 243, dtype: int64"
   ]
  },
  {
   "cell_type": "markdown",
   "id": "8a1b8873",
   "metadata": {},
   "source": [
    "nombre_infected       884\n",
    "nombre_sain          2115\n",
    "nombre_exposed        511\n",
    "nombre_recovered    16490\n",
    "Name: 244, dtype: int64"
   ]
  },
  {
   "cell_type": "markdown",
   "id": "ab7d12df",
   "metadata": {},
   "source": [
    "nombre_infected       920\n",
    "nombre_sain          2131\n",
    "nombre_exposed        498\n",
    "nombre_recovered    16451\n",
    "Name: 245, dtype: int64"
   ]
  },
  {
   "cell_type": "markdown",
   "id": "f891ac4b",
   "metadata": {},
   "source": [
    "nombre_infected       915\n",
    "nombre_sain          2115\n",
    "nombre_exposed        520\n",
    "nombre_recovered    16450\n",
    "Name: 246, dtype: int64"
   ]
  },
  {
   "cell_type": "markdown",
   "id": "270b3f8e",
   "metadata": {},
   "source": [
    "nombre_infected       906\n",
    "nombre_sain          2112\n",
    "nombre_exposed        521\n",
    "nombre_recovered    16461\n",
    "Name: 247, dtype: int64"
   ]
  },
  {
   "cell_type": "markdown",
   "id": "b30cdb98",
   "metadata": {},
   "source": [
    "nombre_infected       928\n",
    "nombre_sain          2133\n",
    "nombre_exposed        512\n",
    "nombre_recovered    16427\n",
    "Name: 248, dtype: int64"
   ]
  },
  {
   "cell_type": "markdown",
   "id": "0e221fdc",
   "metadata": {},
   "source": [
    "nombre_infected       940\n",
    "nombre_sain          2125\n",
    "nombre_exposed        526\n",
    "nombre_recovered    16409\n",
    "Name: 249, dtype: int64"
   ]
  },
  {
   "cell_type": "markdown",
   "id": "d57da57c",
   "metadata": {},
   "source": [
    "nombre_infected       948\n",
    "nombre_sain          2115\n",
    "nombre_exposed        547\n",
    "nombre_recovered    16390\n",
    "Name: 250, dtype: int64"
   ]
  },
  {
   "cell_type": "markdown",
   "id": "5d2ca552",
   "metadata": {},
   "source": [
    "nombre_infected       957\n",
    "nombre_sain          2119\n",
    "nombre_exposed        530\n",
    "nombre_recovered    16394\n",
    "Name: 251, dtype: int64"
   ]
  },
  {
   "cell_type": "markdown",
   "id": "f9e89ecf",
   "metadata": {},
   "source": [
    "nombre_infected       983\n",
    "nombre_sain          2103\n",
    "nombre_exposed        519\n",
    "nombre_recovered    16395\n",
    "Name: 252, dtype: int64"
   ]
  },
  {
   "cell_type": "markdown",
   "id": "d2198aa7",
   "metadata": {},
   "source": [
    "nombre_infected       965\n",
    "nombre_sain          2061\n",
    "nombre_exposed        545\n",
    "nombre_recovered    16429\n",
    "Name: 253, dtype: int64"
   ]
  },
  {
   "cell_type": "markdown",
   "id": "11fb9004",
   "metadata": {},
   "source": [
    "nombre_infected      1002\n",
    "nombre_sain          2045\n",
    "nombre_exposed        525\n",
    "nombre_recovered    16428\n",
    "Name: 254, dtype: int64"
   ]
  },
  {
   "cell_type": "markdown",
   "id": "2b09ace6",
   "metadata": {},
   "source": [
    "nombre_infected      1016\n",
    "nombre_sain          2040\n",
    "nombre_exposed        509\n",
    "nombre_recovered    16435\n",
    "Name: 255, dtype: int64"
   ]
  },
  {
   "cell_type": "markdown",
   "id": "5af26cc7",
   "metadata": {},
   "source": [
    "nombre_infected      1002\n",
    "nombre_sain          2024\n",
    "nombre_exposed        509\n",
    "nombre_recovered    16465\n",
    "Name: 256, dtype: int64"
   ]
  },
  {
   "cell_type": "markdown",
   "id": "1d23edfb",
   "metadata": {},
   "source": [
    "nombre_infected       997\n",
    "nombre_sain          2009\n",
    "nombre_exposed        489\n",
    "nombre_recovered    16505\n",
    "Name: 257, dtype: int64"
   ]
  },
  {
   "cell_type": "markdown",
   "id": "ba93bd43",
   "metadata": {},
   "source": [
    "nombre_infected      1007\n",
    "nombre_sain          1968\n",
    "nombre_exposed        489\n",
    "nombre_recovered    16536\n",
    "Name: 258, dtype: int64"
   ]
  },
  {
   "cell_type": "markdown",
   "id": "4ed1b3e0",
   "metadata": {},
   "source": [
    "nombre_infected      1017\n",
    "nombre_sain          1947\n",
    "nombre_exposed        488\n",
    "nombre_recovered    16548\n",
    "Name: 259, dtype: int64"
   ]
  },
  {
   "cell_type": "markdown",
   "id": "d10eb928",
   "metadata": {},
   "source": [
    "nombre_infected      1000\n",
    "nombre_sain          1950\n",
    "nombre_exposed        487\n",
    "nombre_recovered    16563\n",
    "Name: 260, dtype: int64"
   ]
  },
  {
   "cell_type": "markdown",
   "id": "d1d1041e",
   "metadata": {},
   "source": [
    "nombre_infected      1012\n",
    "nombre_sain          1934\n",
    "nombre_exposed        486\n",
    "nombre_recovered    16568\n",
    "Name: 261, dtype: int64"
   ]
  },
  {
   "cell_type": "markdown",
   "id": "9d662a3a",
   "metadata": {},
   "source": [
    "nombre_infected       988\n",
    "nombre_sain          1940\n",
    "nombre_exposed        487\n",
    "nombre_recovered    16585\n",
    "Name: 262, dtype: int64"
   ]
  },
  {
   "cell_type": "markdown",
   "id": "13d9659d",
   "metadata": {},
   "source": [
    "nombre_infected       998\n",
    "nombre_sain          1934\n",
    "nombre_exposed        484\n",
    "nombre_recovered    16584\n",
    "Name: 263, dtype: int64"
   ]
  },
  {
   "cell_type": "markdown",
   "id": "9cbc2dee",
   "metadata": {},
   "source": [
    "nombre_infected      1006\n",
    "nombre_sain          1920\n",
    "nombre_exposed        487\n",
    "nombre_recovered    16587\n",
    "Name: 264, dtype: int64"
   ]
  },
  {
   "cell_type": "markdown",
   "id": "674b2133",
   "metadata": {},
   "source": [
    "nombre_infected      1000\n",
    "nombre_sain          1906\n",
    "nombre_exposed        497\n",
    "nombre_recovered    16597\n",
    "Name: 265, dtype: int64"
   ]
  },
  {
   "cell_type": "markdown",
   "id": "f01ae37a",
   "metadata": {},
   "source": [
    "nombre_infected       963\n",
    "nombre_sain          1923\n",
    "nombre_exposed        512\n",
    "nombre_recovered    16602\n",
    "Name: 266, dtype: int64"
   ]
  },
  {
   "cell_type": "markdown",
   "id": "a28df80f",
   "metadata": {},
   "source": [
    "nombre_infected       997\n",
    "nombre_sain          1930\n",
    "nombre_exposed        498\n",
    "nombre_recovered    16575\n",
    "Name: 267, dtype: int64"
   ]
  },
  {
   "cell_type": "markdown",
   "id": "41191355",
   "metadata": {},
   "source": [
    "nombre_infected      1024\n",
    "nombre_sain          1964\n",
    "nombre_exposed        476\n",
    "nombre_recovered    16536\n",
    "Name: 268, dtype: int64"
   ]
  },
  {
   "cell_type": "markdown",
   "id": "02ba040b",
   "metadata": {},
   "source": [
    "nombre_infected      1031\n",
    "nombre_sain          1957\n",
    "nombre_exposed        476\n",
    "nombre_recovered    16536\n",
    "Name: 269, dtype: int64"
   ]
  },
  {
   "cell_type": "markdown",
   "id": "bf6c8195",
   "metadata": {},
   "source": [
    "nombre_infected      1026\n",
    "nombre_sain          1959\n",
    "nombre_exposed        491\n",
    "nombre_recovered    16524\n",
    "Name: 270, dtype: int64"
   ]
  },
  {
   "cell_type": "markdown",
   "id": "bba0e926",
   "metadata": {},
   "source": [
    "nombre_infected      1033\n",
    "nombre_sain          1965\n",
    "nombre_exposed        497\n",
    "nombre_recovered    16505\n",
    "Name: 271, dtype: int64"
   ]
  },
  {
   "cell_type": "markdown",
   "id": "816bf856",
   "metadata": {},
   "source": [
    "nombre_infected      1010\n",
    "nombre_sain          1993\n",
    "nombre_exposed        505\n",
    "nombre_recovered    16492\n",
    "Name: 272, dtype: int64"
   ]
  },
  {
   "cell_type": "markdown",
   "id": "e55d80cc",
   "metadata": {},
   "source": [
    "nombre_infected      1013\n",
    "nombre_sain          1986\n",
    "nombre_exposed        509\n",
    "nombre_recovered    16492\n",
    "Name: 273, dtype: int64"
   ]
  },
  {
   "cell_type": "markdown",
   "id": "4232c863",
   "metadata": {},
   "source": [
    "nombre_infected      1041\n",
    "nombre_sain          1986\n",
    "nombre_exposed        497\n",
    "nombre_recovered    16476\n",
    "Name: 274, dtype: int64"
   ]
  },
  {
   "cell_type": "markdown",
   "id": "4a915d50",
   "metadata": {},
   "source": [
    "nombre_infected      1046\n",
    "nombre_sain          1987\n",
    "nombre_exposed        469\n",
    "nombre_recovered    16498\n",
    "Name: 275, dtype: int64"
   ]
  },
  {
   "cell_type": "markdown",
   "id": "ca8792bd",
   "metadata": {},
   "source": [
    "nombre_infected      1060\n",
    "nombre_sain          1977\n",
    "nombre_exposed        471\n",
    "nombre_recovered    16492\n",
    "Name: 276, dtype: int64"
   ]
  },
  {
   "cell_type": "markdown",
   "id": "0e77469f",
   "metadata": {},
   "source": [
    "nombre_infected      1030\n",
    "nombre_sain          1961\n",
    "nombre_exposed        497\n",
    "nombre_recovered    16512\n",
    "Name: 277, dtype: int64"
   ]
  },
  {
   "cell_type": "markdown",
   "id": "c7a3167e",
   "metadata": {},
   "source": [
    "nombre_infected      1040\n",
    "nombre_sain          1961\n",
    "nombre_exposed        488\n",
    "nombre_recovered    16511\n",
    "Name: 278, dtype: int64"
   ]
  },
  {
   "cell_type": "markdown",
   "id": "fec60fd6",
   "metadata": {},
   "source": [
    "nombre_infected      1022\n",
    "nombre_sain          1966\n",
    "nombre_exposed        478\n",
    "nombre_recovered    16534\n",
    "Name: 279, dtype: int64"
   ]
  },
  {
   "cell_type": "markdown",
   "id": "be108072",
   "metadata": {},
   "source": [
    "nombre_infected       994\n",
    "nombre_sain          1961\n",
    "nombre_exposed        484\n",
    "nombre_recovered    16561\n",
    "Name: 280, dtype: int64"
   ]
  },
  {
   "cell_type": "markdown",
   "id": "5b3cd2da",
   "metadata": {},
   "source": [
    "nombre_infected       990\n",
    "nombre_sain          1965\n",
    "nombre_exposed        469\n",
    "nombre_recovered    16576\n",
    "Name: 281, dtype: int64"
   ]
  },
  {
   "cell_type": "markdown",
   "id": "0bf5e038",
   "metadata": {},
   "source": [
    "nombre_infected       984\n",
    "nombre_sain          1967\n",
    "nombre_exposed        486\n",
    "nombre_recovered    16563\n",
    "Name: 282, dtype: int64"
   ]
  },
  {
   "cell_type": "markdown",
   "id": "b3819b30",
   "metadata": {},
   "source": [
    "nombre_infected       985\n",
    "nombre_sain          1973\n",
    "nombre_exposed        496\n",
    "nombre_recovered    16546\n",
    "Name: 283, dtype: int64"
   ]
  },
  {
   "cell_type": "markdown",
   "id": "770d8cb7",
   "metadata": {},
   "source": [
    "nombre_infected       973\n",
    "nombre_sain          1967\n",
    "nombre_exposed        516\n",
    "nombre_recovered    16544\n",
    "Name: 284, dtype: int64"
   ]
  },
  {
   "cell_type": "markdown",
   "id": "530452b0",
   "metadata": {},
   "source": [
    "nombre_infected       975\n",
    "nombre_sain          1969\n",
    "nombre_exposed        521\n",
    "nombre_recovered    16535\n",
    "Name: 285, dtype: int64"
   ]
  },
  {
   "cell_type": "markdown",
   "id": "74d1277b",
   "metadata": {},
   "source": [
    "nombre_infected       960\n",
    "nombre_sain          1976\n",
    "nombre_exposed        511\n",
    "nombre_recovered    16553\n",
    "Name: 286, dtype: int64"
   ]
  },
  {
   "cell_type": "markdown",
   "id": "5c53aea8",
   "metadata": {},
   "source": [
    "nombre_infected       959\n",
    "nombre_sain          1979\n",
    "nombre_exposed        510\n",
    "nombre_recovered    16552\n",
    "Name: 287, dtype: int64"
   ]
  },
  {
   "cell_type": "markdown",
   "id": "33fa8c2b",
   "metadata": {},
   "source": [
    "nombre_infected       951\n",
    "nombre_sain          1992\n",
    "nombre_exposed        497\n",
    "nombre_recovered    16560\n",
    "Name: 288, dtype: int64"
   ]
  },
  {
   "cell_type": "markdown",
   "id": "9e216ecd",
   "metadata": {},
   "source": [
    "nombre_infected       944\n",
    "nombre_sain          2012\n",
    "nombre_exposed        484\n",
    "nombre_recovered    16560\n",
    "Name: 289, dtype: int64"
   ]
  },
  {
   "cell_type": "markdown",
   "id": "7137c20f",
   "metadata": {},
   "source": [
    "nombre_infected       948\n",
    "nombre_sain          2005\n",
    "nombre_exposed        493\n",
    "nombre_recovered    16554\n",
    "Name: 290, dtype: int64"
   ]
  },
  {
   "cell_type": "markdown",
   "id": "9803048e",
   "metadata": {},
   "source": [
    "nombre_infected       942\n",
    "nombre_sain          2008\n",
    "nombre_exposed        487\n",
    "nombre_recovered    16563\n",
    "Name: 291, dtype: int64"
   ]
  },
  {
   "cell_type": "markdown",
   "id": "1ff650c3",
   "metadata": {},
   "source": [
    "nombre_infected       953\n",
    "nombre_sain          2002\n",
    "nombre_exposed        497\n",
    "nombre_recovered    16548\n",
    "Name: 292, dtype: int64"
   ]
  },
  {
   "cell_type": "markdown",
   "id": "e0f281a5",
   "metadata": {},
   "source": [
    "nombre_infected       948\n",
    "nombre_sain          2019\n",
    "nombre_exposed        488\n",
    "nombre_recovered    16545\n",
    "Name: 293, dtype: int64"
   ]
  },
  {
   "cell_type": "markdown",
   "id": "830769a4",
   "metadata": {},
   "source": [
    "nombre_infected       952\n",
    "nombre_sain          2017\n",
    "nombre_exposed        491\n",
    "nombre_recovered    16540\n",
    "Name: 294, dtype: int64"
   ]
  },
  {
   "cell_type": "markdown",
   "id": "0a3dea4c",
   "metadata": {},
   "source": [
    "nombre_infected       941\n",
    "nombre_sain          2029\n",
    "nombre_exposed        479\n",
    "nombre_recovered    16551\n",
    "Name: 295, dtype: int64"
   ]
  },
  {
   "cell_type": "markdown",
   "id": "524c5086",
   "metadata": {},
   "source": [
    "nombre_infected       935\n",
    "nombre_sain          2053\n",
    "nombre_exposed        485\n",
    "nombre_recovered    16527\n",
    "Name: 296, dtype: int64"
   ]
  },
  {
   "cell_type": "markdown",
   "id": "fee12b53",
   "metadata": {},
   "source": [
    "nombre_infected       929\n",
    "nombre_sain          2050\n",
    "nombre_exposed        490\n",
    "nombre_recovered    16531\n",
    "Name: 297, dtype: int64"
   ]
  },
  {
   "cell_type": "markdown",
   "id": "259cbc4e",
   "metadata": {},
   "source": [
    "nombre_infected       906\n",
    "nombre_sain          2068\n",
    "nombre_exposed        481\n",
    "nombre_recovered    16545\n",
    "Name: 298, dtype: int64"
   ]
  },
  {
   "cell_type": "markdown",
   "id": "c677e898",
   "metadata": {},
   "source": [
    "nombre_infected       929\n",
    "nombre_sain          2053\n",
    "nombre_exposed        478\n",
    "nombre_recovered    16540\n",
    "Name: 299, dtype: int64"
   ]
  },
  {
   "cell_type": "markdown",
   "id": "bf8de97c",
   "metadata": {},
   "source": [
    "nombre_infected       939\n",
    "nombre_sain          2047\n",
    "nombre_exposed        492\n",
    "nombre_recovered    16522\n",
    "Name: 300, dtype: int64"
   ]
  },
  {
   "cell_type": "markdown",
   "id": "9a034f91",
   "metadata": {},
   "source": [
    "nombre_infected       929\n",
    "nombre_sain          2027\n",
    "nombre_exposed        508\n",
    "nombre_recovered    16536\n",
    "Name: 301, dtype: int64"
   ]
  },
  {
   "cell_type": "markdown",
   "id": "db4c9749",
   "metadata": {},
   "source": [
    "nombre_infected       945\n",
    "nombre_sain          2028\n",
    "nombre_exposed        521\n",
    "nombre_recovered    16506\n",
    "Name: 302, dtype: int64"
   ]
  },
  {
   "cell_type": "markdown",
   "id": "e6e49aa4",
   "metadata": {},
   "source": [
    "nombre_infected       947\n",
    "nombre_sain          2025\n",
    "nombre_exposed        533\n",
    "nombre_recovered    16495\n",
    "Name: 303, dtype: int64"
   ]
  },
  {
   "cell_type": "markdown",
   "id": "0c2e1c2a",
   "metadata": {},
   "source": [
    "nombre_infected       955\n",
    "nombre_sain          2036\n",
    "nombre_exposed        501\n",
    "nombre_recovered    16508\n",
    "Name: 304, dtype: int64"
   ]
  },
  {
   "cell_type": "markdown",
   "id": "96384d90",
   "metadata": {},
   "source": [
    "nombre_infected       948\n",
    "nombre_sain          2052\n",
    "nombre_exposed        495\n",
    "nombre_recovered    16505\n",
    "Name: 305, dtype: int64"
   ]
  },
  {
   "cell_type": "markdown",
   "id": "d7f4f9cc",
   "metadata": {},
   "source": [
    "nombre_infected       937\n",
    "nombre_sain          2057\n",
    "nombre_exposed        512\n",
    "nombre_recovered    16494\n",
    "Name: 306, dtype: int64"
   ]
  },
  {
   "cell_type": "markdown",
   "id": "0d8ca40c",
   "metadata": {},
   "source": [
    "nombre_infected       913\n",
    "nombre_sain          2053\n",
    "nombre_exposed        533\n",
    "nombre_recovered    16501\n",
    "Name: 307, dtype: int64"
   ]
  },
  {
   "cell_type": "markdown",
   "id": "a5cb8059",
   "metadata": {},
   "source": [
    "nombre_infected       932\n",
    "nombre_sain          2065\n",
    "nombre_exposed        522\n",
    "nombre_recovered    16481\n",
    "Name: 308, dtype: int64"
   ]
  },
  {
   "cell_type": "markdown",
   "id": "2a00fe46",
   "metadata": {},
   "source": [
    "nombre_infected       943\n",
    "nombre_sain          2097\n",
    "nombre_exposed        517\n",
    "nombre_recovered    16443\n",
    "Name: 309, dtype: int64"
   ]
  },
  {
   "cell_type": "markdown",
   "id": "5aad8675",
   "metadata": {},
   "source": [
    "nombre_infected       963\n",
    "nombre_sain          2101\n",
    "nombre_exposed        529\n",
    "nombre_recovered    16407\n",
    "Name: 310, dtype: int64"
   ]
  },
  {
   "cell_type": "markdown",
   "id": "2b3b76a9",
   "metadata": {},
   "source": [
    "nombre_infected       969\n",
    "nombre_sain          2087\n",
    "nombre_exposed        524\n",
    "nombre_recovered    16420\n",
    "Name: 311, dtype: int64"
   ]
  },
  {
   "cell_type": "markdown",
   "id": "ed456be8",
   "metadata": {},
   "source": [
    "nombre_infected       970\n",
    "nombre_sain          2090\n",
    "nombre_exposed        509\n",
    "nombre_recovered    16431\n",
    "Name: 312, dtype: int64"
   ]
  },
  {
   "cell_type": "markdown",
   "id": "1fc4b111",
   "metadata": {},
   "source": [
    "nombre_infected       977\n",
    "nombre_sain          2083\n",
    "nombre_exposed        506\n",
    "nombre_recovered    16434\n",
    "Name: 313, dtype: int64"
   ]
  },
  {
   "cell_type": "markdown",
   "id": "2c8c35f8",
   "metadata": {},
   "source": [
    "nombre_infected       987\n",
    "nombre_sain          2074\n",
    "nombre_exposed        508\n",
    "nombre_recovered    16431\n",
    "Name: 314, dtype: int64"
   ]
  },
  {
   "cell_type": "markdown",
   "id": "6f9cc4b3",
   "metadata": {},
   "source": [
    "nombre_infected      1002\n",
    "nombre_sain          2052\n",
    "nombre_exposed        517\n",
    "nombre_recovered    16429\n",
    "Name: 315, dtype: int64"
   ]
  },
  {
   "cell_type": "markdown",
   "id": "5467937e",
   "metadata": {},
   "source": [
    "nombre_infected       998\n",
    "nombre_sain          2026\n",
    "nombre_exposed        518\n",
    "nombre_recovered    16458\n",
    "Name: 316, dtype: int64"
   ]
  },
  {
   "cell_type": "markdown",
   "id": "2e1a82fe",
   "metadata": {},
   "source": [
    "nombre_infected      1006\n",
    "nombre_sain          2013\n",
    "nombre_exposed        516\n",
    "nombre_recovered    16465\n",
    "Name: 317, dtype: int64"
   ]
  },
  {
   "cell_type": "markdown",
   "id": "b2ff3440",
   "metadata": {},
   "source": [
    "nombre_infected      1001\n",
    "nombre_sain          1999\n",
    "nombre_exposed        536\n",
    "nombre_recovered    16464\n",
    "Name: 318, dtype: int64"
   ]
  },
  {
   "cell_type": "markdown",
   "id": "80897873",
   "metadata": {},
   "source": [
    "nombre_infected      1003\n",
    "nombre_sain          1981\n",
    "nombre_exposed        536\n",
    "nombre_recovered    16480\n",
    "Name: 319, dtype: int64"
   ]
  },
  {
   "cell_type": "markdown",
   "id": "e9b04fc6",
   "metadata": {},
   "source": [
    "nombre_infected      1010\n",
    "nombre_sain          1977\n",
    "nombre_exposed        526\n",
    "nombre_recovered    16487\n",
    "Name: 320, dtype: int64"
   ]
  },
  {
   "cell_type": "markdown",
   "id": "9c0ff294",
   "metadata": {},
   "source": [
    "nombre_infected       982\n",
    "nombre_sain          1943\n",
    "nombre_exposed        537\n",
    "nombre_recovered    16538\n",
    "Name: 321, dtype: int64"
   ]
  },
  {
   "cell_type": "markdown",
   "id": "5e667c09",
   "metadata": {},
   "source": [
    "nombre_infected       972\n",
    "nombre_sain          1955\n",
    "nombre_exposed        530\n",
    "nombre_recovered    16543\n",
    "Name: 322, dtype: int64"
   ]
  },
  {
   "cell_type": "markdown",
   "id": "d3f1bc4f",
   "metadata": {},
   "source": [
    "nombre_infected       974\n",
    "nombre_sain          1918\n",
    "nombre_exposed        524\n",
    "nombre_recovered    16584\n",
    "Name: 323, dtype: int64"
   ]
  },
  {
   "cell_type": "markdown",
   "id": "5ab6b907",
   "metadata": {},
   "source": [
    "nombre_infected       949\n",
    "nombre_sain          1908\n",
    "nombre_exposed        541\n",
    "nombre_recovered    16602\n",
    "Name: 324, dtype: int64"
   ]
  },
  {
   "cell_type": "markdown",
   "id": "fae57d20",
   "metadata": {},
   "source": [
    "nombre_infected       945\n",
    "nombre_sain          1896\n",
    "nombre_exposed        544\n",
    "nombre_recovered    16615\n",
    "Name: 325, dtype: int64"
   ]
  },
  {
   "cell_type": "markdown",
   "id": "aee89709",
   "metadata": {},
   "source": [
    "nombre_infected       938\n",
    "nombre_sain          1879\n",
    "nombre_exposed        528\n",
    "nombre_recovered    16655\n",
    "Name: 326, dtype: int64"
   ]
  },
  {
   "cell_type": "markdown",
   "id": "8e88d685",
   "metadata": {},
   "source": [
    "nombre_infected       913\n",
    "nombre_sain          1854\n",
    "nombre_exposed        546\n",
    "nombre_recovered    16687\n",
    "Name: 327, dtype: int64"
   ]
  },
  {
   "cell_type": "markdown",
   "id": "552e5f6c",
   "metadata": {},
   "source": [
    "nombre_infected       907\n",
    "nombre_sain          1858\n",
    "nombre_exposed        528\n",
    "nombre_recovered    16707\n",
    "Name: 328, dtype: int64"
   ]
  },
  {
   "cell_type": "markdown",
   "id": "ef4f4218",
   "metadata": {},
   "source": [
    "nombre_infected       918\n",
    "nombre_sain          1855\n",
    "nombre_exposed        512\n",
    "nombre_recovered    16715\n",
    "Name: 329, dtype: int64"
   ]
  },
  {
   "cell_type": "markdown",
   "id": "fce98c6d",
   "metadata": {},
   "source": [
    "nombre_infected       932\n",
    "nombre_sain          1837\n",
    "nombre_exposed        496\n",
    "nombre_recovered    16735\n",
    "Name: 330, dtype: int64"
   ]
  },
  {
   "cell_type": "markdown",
   "id": "d8fa95f9",
   "metadata": {},
   "source": [
    "nombre_infected       920\n",
    "nombre_sain          1816\n",
    "nombre_exposed        506\n",
    "nombre_recovered    16758\n",
    "Name: 331, dtype: int64"
   ]
  },
  {
   "cell_type": "markdown",
   "id": "de70ed86",
   "metadata": {},
   "source": [
    "nombre_infected       920\n",
    "nombre_sain          1815\n",
    "nombre_exposed        518\n",
    "nombre_recovered    16747\n",
    "Name: 332, dtype: int64"
   ]
  },
  {
   "cell_type": "markdown",
   "id": "1e73e9c1",
   "metadata": {},
   "source": [
    "nombre_infected       892\n",
    "nombre_sain          1810\n",
    "nombre_exposed        527\n",
    "nombre_recovered    16771\n",
    "Name: 333, dtype: int64"
   ]
  },
  {
   "cell_type": "markdown",
   "id": "556b2c8f",
   "metadata": {},
   "source": [
    "nombre_infected       894\n",
    "nombre_sain          1816\n",
    "nombre_exposed        493\n",
    "nombre_recovered    16797\n",
    "Name: 334, dtype: int64"
   ]
  },
  {
   "cell_type": "markdown",
   "id": "ebae3f09",
   "metadata": {},
   "source": [
    "nombre_infected       901\n",
    "nombre_sain          1833\n",
    "nombre_exposed        462\n",
    "nombre_recovered    16804\n",
    "Name: 335, dtype: int64"
   ]
  },
  {
   "cell_type": "markdown",
   "id": "83b47bfa",
   "metadata": {},
   "source": [
    "nombre_infected       894\n",
    "nombre_sain          1845\n",
    "nombre_exposed        440\n",
    "nombre_recovered    16821\n",
    "Name: 336, dtype: int64"
   ]
  },
  {
   "cell_type": "markdown",
   "id": "985d5815",
   "metadata": {},
   "source": [
    "nombre_infected       895\n",
    "nombre_sain          1857\n",
    "nombre_exposed        427\n",
    "nombre_recovered    16821\n",
    "Name: 337, dtype: int64"
   ]
  },
  {
   "cell_type": "markdown",
   "id": "a2655f5a",
   "metadata": {},
   "source": [
    "nombre_infected       843\n",
    "nombre_sain          1861\n",
    "nombre_exposed        439\n",
    "nombre_recovered    16857\n",
    "Name: 338, dtype: int64"
   ]
  },
  {
   "cell_type": "markdown",
   "id": "b5f5aeb0",
   "metadata": {},
   "source": [
    "nombre_infected       834\n",
    "nombre_sain          1862\n",
    "nombre_exposed        426\n",
    "nombre_recovered    16878\n",
    "Name: 339, dtype: int64"
   ]
  },
  {
   "cell_type": "markdown",
   "id": "794a9a40",
   "metadata": {},
   "source": [
    "nombre_infected       823\n",
    "nombre_sain          1865\n",
    "nombre_exposed        443\n",
    "nombre_recovered    16869\n",
    "Name: 340, dtype: int64"
   ]
  },
  {
   "cell_type": "markdown",
   "id": "0c83ceb1",
   "metadata": {},
   "source": [
    "nombre_infected       815\n",
    "nombre_sain          1871\n",
    "nombre_exposed        424\n",
    "nombre_recovered    16890\n",
    "Name: 341, dtype: int64"
   ]
  },
  {
   "cell_type": "markdown",
   "id": "83bc510b",
   "metadata": {},
   "source": [
    "nombre_infected       823\n",
    "nombre_sain          1896\n",
    "nombre_exposed        412\n",
    "nombre_recovered    16869\n",
    "Name: 342, dtype: int64"
   ]
  },
  {
   "cell_type": "markdown",
   "id": "e4147ac9",
   "metadata": {},
   "source": [
    "nombre_infected       804\n",
    "nombre_sain          1895\n",
    "nombre_exposed        434\n",
    "nombre_recovered    16867\n",
    "Name: 343, dtype: int64"
   ]
  },
  {
   "cell_type": "markdown",
   "id": "3dcffe40",
   "metadata": {},
   "source": [
    "nombre_infected       795\n",
    "nombre_sain          1898\n",
    "nombre_exposed        423\n",
    "nombre_recovered    16884\n",
    "Name: 344, dtype: int64"
   ]
  },
  {
   "cell_type": "markdown",
   "id": "e509bea7",
   "metadata": {},
   "source": [
    "nombre_infected       773\n",
    "nombre_sain          1899\n",
    "nombre_exposed        430\n",
    "nombre_recovered    16898\n",
    "Name: 345, dtype: int64"
   ]
  },
  {
   "cell_type": "markdown",
   "id": "26d195c0",
   "metadata": {},
   "source": [
    "nombre_infected       758\n",
    "nombre_sain          1902\n",
    "nombre_exposed        418\n",
    "nombre_recovered    16922\n",
    "Name: 346, dtype: int64"
   ]
  },
  {
   "cell_type": "markdown",
   "id": "4d86eebd",
   "metadata": {},
   "source": [
    "nombre_infected       748\n",
    "nombre_sain          1952\n",
    "nombre_exposed        390\n",
    "nombre_recovered    16910\n",
    "Name: 347, dtype: int64"
   ]
  },
  {
   "cell_type": "markdown",
   "id": "cf2a73ab",
   "metadata": {},
   "source": [
    "nombre_infected       743\n",
    "nombre_sain          1950\n",
    "nombre_exposed        412\n",
    "nombre_recovered    16895\n",
    "Name: 348, dtype: int64"
   ]
  },
  {
   "cell_type": "markdown",
   "id": "30140391",
   "metadata": {},
   "source": [
    "nombre_infected       722\n",
    "nombre_sain          1966\n",
    "nombre_exposed        423\n",
    "nombre_recovered    16889\n",
    "Name: 349, dtype: int64"
   ]
  },
  {
   "cell_type": "markdown",
   "id": "a893d50c",
   "metadata": {},
   "source": [
    "nombre_infected       717\n",
    "nombre_sain          1991\n",
    "nombre_exposed        398\n",
    "nombre_recovered    16894\n",
    "Name: 350, dtype: int64"
   ]
  },
  {
   "cell_type": "markdown",
   "id": "6ef71779",
   "metadata": {},
   "source": [
    "nombre_infected       717\n",
    "nombre_sain          2015\n",
    "nombre_exposed        400\n",
    "nombre_recovered    16868\n",
    "Name: 351, dtype: int64"
   ]
  },
  {
   "cell_type": "markdown",
   "id": "254031e9",
   "metadata": {},
   "source": [
    "nombre_infected       698\n",
    "nombre_sain          2026\n",
    "nombre_exposed        410\n",
    "nombre_recovered    16866\n",
    "Name: 352, dtype: int64"
   ]
  },
  {
   "cell_type": "markdown",
   "id": "cc6385cb",
   "metadata": {},
   "source": [
    "nombre_infected       704\n",
    "nombre_sain          2054\n",
    "nombre_exposed        406\n",
    "nombre_recovered    16836\n",
    "Name: 353, dtype: int64"
   ]
  },
  {
   "cell_type": "markdown",
   "id": "154d05c7",
   "metadata": {},
   "source": [
    "nombre_infected       732\n",
    "nombre_sain          2054\n",
    "nombre_exposed        415\n",
    "nombre_recovered    16799\n",
    "Name: 354, dtype: int64"
   ]
  },
  {
   "cell_type": "markdown",
   "id": "37ca4a0a",
   "metadata": {},
   "source": [
    "nombre_infected       724\n",
    "nombre_sain          2085\n",
    "nombre_exposed        411\n",
    "nombre_recovered    16780\n",
    "Name: 355, dtype: int64"
   ]
  },
  {
   "cell_type": "markdown",
   "id": "31d09ecb",
   "metadata": {},
   "source": [
    "nombre_infected       722\n",
    "nombre_sain          2115\n",
    "nombre_exposed        400\n",
    "nombre_recovered    16763\n",
    "Name: 356, dtype: int64"
   ]
  },
  {
   "cell_type": "markdown",
   "id": "d48c2649",
   "metadata": {},
   "source": [
    "nombre_infected       741\n",
    "nombre_sain          2145\n",
    "nombre_exposed        387\n",
    "nombre_recovered    16727\n",
    "Name: 357, dtype: int64"
   ]
  },
  {
   "cell_type": "markdown",
   "id": "01590be3",
   "metadata": {},
   "source": [
    "nombre_infected       726\n",
    "nombre_sain          2162\n",
    "nombre_exposed        408\n",
    "nombre_recovered    16704\n",
    "Name: 358, dtype: int64"
   ]
  },
  {
   "cell_type": "markdown",
   "id": "16ecac2b",
   "metadata": {},
   "source": [
    "nombre_infected       728\n",
    "nombre_sain          2153\n",
    "nombre_exposed        419\n",
    "nombre_recovered    16700\n",
    "Name: 359, dtype: int64"
   ]
  },
  {
   "cell_type": "markdown",
   "id": "dbbd41d7",
   "metadata": {},
   "source": [
    "nombre_infected       726\n",
    "nombre_sain          2157\n",
    "nombre_exposed        424\n",
    "nombre_recovered    16693\n",
    "Name: 360, dtype: int64"
   ]
  },
  {
   "cell_type": "markdown",
   "id": "0e752c03",
   "metadata": {},
   "source": [
    "nombre_infected       727\n",
    "nombre_sain          2182\n",
    "nombre_exposed        404\n",
    "nombre_recovered    16687\n",
    "Name: 361, dtype: int64"
   ]
  },
  {
   "cell_type": "markdown",
   "id": "3f75f427",
   "metadata": {},
   "source": [
    "nombre_infected       709\n",
    "nombre_sain          2197\n",
    "nombre_exposed        417\n",
    "nombre_recovered    16677\n",
    "Name: 362, dtype: int64"
   ]
  },
  {
   "cell_type": "markdown",
   "id": "f6d79459",
   "metadata": {},
   "source": [
    "nombre_infected       705\n",
    "nombre_sain          2190\n",
    "nombre_exposed        441\n",
    "nombre_recovered    16664\n",
    "Name: 363, dtype: int64"
   ]
  },
  {
   "cell_type": "markdown",
   "id": "7ec8ed3e",
   "metadata": {},
   "source": [
    "nombre_infected       704\n",
    "nombre_sain          2210\n",
    "nombre_exposed        428\n",
    "nombre_recovered    16658\n",
    "Name: 364, dtype: int64"
   ]
  },
  {
   "cell_type": "markdown",
   "id": "92b3562c",
   "metadata": {},
   "source": [
    "nombre_infected       721\n",
    "nombre_sain          2214\n",
    "nombre_exposed        429\n",
    "nombre_recovered    16636\n",
    "Name: 365, dtype: int64"
   ]
  },
  {
   "cell_type": "markdown",
   "id": "7aa55deb",
   "metadata": {},
   "source": [
    "nombre_infected       727\n",
    "nombre_sain          2192\n",
    "nombre_exposed        445\n",
    "nombre_recovered    16636\n",
    "Name: 366, dtype: int64"
   ]
  },
  {
   "cell_type": "markdown",
   "id": "93f170bb",
   "metadata": {},
   "source": [
    "nombre_infected       734\n",
    "nombre_sain          2211\n",
    "nombre_exposed        440\n",
    "nombre_recovered    16615\n",
    "Name: 367, dtype: int64"
   ]
  },
  {
   "cell_type": "markdown",
   "id": "6e34e46d",
   "metadata": {},
   "source": [
    "nombre_infected       754\n",
    "nombre_sain          2213\n",
    "nombre_exposed        433\n",
    "nombre_recovered    16600\n",
    "Name: 368, dtype: int64"
   ]
  },
  {
   "cell_type": "markdown",
   "id": "f397e4d3",
   "metadata": {},
   "source": [
    "nombre_infected       761\n",
    "nombre_sain          2220\n",
    "nombre_exposed        430\n",
    "nombre_recovered    16589\n",
    "Name: 369, dtype: int64"
   ]
  },
  {
   "cell_type": "markdown",
   "id": "7c10febc",
   "metadata": {},
   "source": [
    "nombre_infected       757\n",
    "nombre_sain          2236\n",
    "nombre_exposed        427\n",
    "nombre_recovered    16580\n",
    "Name: 370, dtype: int64"
   ]
  },
  {
   "cell_type": "markdown",
   "id": "5264a245",
   "metadata": {},
   "source": [
    "nombre_infected       772\n",
    "nombre_sain          2228\n",
    "nombre_exposed        441\n",
    "nombre_recovered    16559\n",
    "Name: 371, dtype: int64"
   ]
  },
  {
   "cell_type": "markdown",
   "id": "da03a9cb",
   "metadata": {},
   "source": [
    "nombre_infected       775\n",
    "nombre_sain          2232\n",
    "nombre_exposed        445\n",
    "nombre_recovered    16548\n",
    "Name: 372, dtype: int64"
   ]
  },
  {
   "cell_type": "markdown",
   "id": "ad531ab0",
   "metadata": {},
   "source": [
    "nombre_infected       783\n",
    "nombre_sain          2235\n",
    "nombre_exposed        438\n",
    "nombre_recovered    16544\n",
    "Name: 373, dtype: int64"
   ]
  },
  {
   "cell_type": "markdown",
   "id": "09cbdf5a",
   "metadata": {},
   "source": [
    "nombre_infected       782\n",
    "nombre_sain          2217\n",
    "nombre_exposed        453\n",
    "nombre_recovered    16548\n",
    "Name: 374, dtype: int64"
   ]
  },
  {
   "cell_type": "markdown",
   "id": "e614c98d",
   "metadata": {},
   "source": [
    "nombre_infected       762\n",
    "nombre_sain          2225\n",
    "nombre_exposed        454\n",
    "nombre_recovered    16559\n",
    "Name: 375, dtype: int64"
   ]
  },
  {
   "cell_type": "markdown",
   "id": "b764b268",
   "metadata": {},
   "source": [
    "nombre_infected       751\n",
    "nombre_sain          2231\n",
    "nombre_exposed        460\n",
    "nombre_recovered    16558\n",
    "Name: 376, dtype: int64"
   ]
  },
  {
   "cell_type": "markdown",
   "id": "45bd0eab",
   "metadata": {},
   "source": [
    "nombre_infected       743\n",
    "nombre_sain          2241\n",
    "nombre_exposed        456\n",
    "nombre_recovered    16560\n",
    "Name: 377, dtype: int64"
   ]
  },
  {
   "cell_type": "markdown",
   "id": "8f573ffd",
   "metadata": {},
   "source": [
    "nombre_infected       750\n",
    "nombre_sain          2249\n",
    "nombre_exposed        457\n",
    "nombre_recovered    16544\n",
    "Name: 378, dtype: int64"
   ]
  },
  {
   "cell_type": "markdown",
   "id": "c736d268",
   "metadata": {},
   "source": [
    "nombre_infected       773\n",
    "nombre_sain          2244\n",
    "nombre_exposed        437\n",
    "nombre_recovered    16546\n",
    "Name: 379, dtype: int64"
   ]
  },
  {
   "cell_type": "markdown",
   "id": "0c443f60",
   "metadata": {},
   "source": [
    "nombre_infected       768\n",
    "nombre_sain          2240\n",
    "nombre_exposed        460\n",
    "nombre_recovered    16532\n",
    "Name: 380, dtype: int64"
   ]
  },
  {
   "cell_type": "markdown",
   "id": "828be1c1",
   "metadata": {},
   "source": [
    "nombre_infected       768\n",
    "nombre_sain          2212\n",
    "nombre_exposed        468\n",
    "nombre_recovered    16552\n",
    "Name: 381, dtype: int64"
   ]
  },
  {
   "cell_type": "markdown",
   "id": "af9fef4f",
   "metadata": {},
   "source": [
    "nombre_infected       786\n",
    "nombre_sain          2229\n",
    "nombre_exposed        452\n",
    "nombre_recovered    16533\n",
    "Name: 382, dtype: int64"
   ]
  },
  {
   "cell_type": "markdown",
   "id": "86720b0d",
   "metadata": {},
   "source": [
    "nombre_infected       793\n",
    "nombre_sain          2211\n",
    "nombre_exposed        451\n",
    "nombre_recovered    16545\n",
    "Name: 383, dtype: int64"
   ]
  },
  {
   "cell_type": "markdown",
   "id": "167a3353",
   "metadata": {},
   "source": [
    "nombre_infected       807\n",
    "nombre_sain          2209\n",
    "nombre_exposed        438\n",
    "nombre_recovered    16546\n",
    "Name: 384, dtype: int64"
   ]
  },
  {
   "cell_type": "markdown",
   "id": "a5eea29d",
   "metadata": {},
   "source": [
    "nombre_infected       809\n",
    "nombre_sain          2200\n",
    "nombre_exposed        452\n",
    "nombre_recovered    16539\n",
    "Name: 385, dtype: int64"
   ]
  },
  {
   "cell_type": "markdown",
   "id": "5268d843",
   "metadata": {},
   "source": [
    "nombre_infected       797\n",
    "nombre_sain          2185\n",
    "nombre_exposed        463\n",
    "nombre_recovered    16555\n",
    "Name: 386, dtype: int64"
   ]
  },
  {
   "cell_type": "markdown",
   "id": "6fb6cc90",
   "metadata": {},
   "source": [
    "nombre_infected       818\n",
    "nombre_sain          2196\n",
    "nombre_exposed        443\n",
    "nombre_recovered    16543\n",
    "Name: 387, dtype: int64"
   ]
  },
  {
   "cell_type": "markdown",
   "id": "c4166e02",
   "metadata": {},
   "source": [
    "nombre_infected       820\n",
    "nombre_sain          2186\n",
    "nombre_exposed        445\n",
    "nombre_recovered    16549\n",
    "Name: 388, dtype: int64"
   ]
  },
  {
   "cell_type": "markdown",
   "id": "7695b02d",
   "metadata": {},
   "source": [
    "nombre_infected       810\n",
    "nombre_sain          2196\n",
    "nombre_exposed        452\n",
    "nombre_recovered    16542\n",
    "Name: 389, dtype: int64"
   ]
  },
  {
   "cell_type": "markdown",
   "id": "cf729a32",
   "metadata": {},
   "source": [
    "nombre_infected       813\n",
    "nombre_sain          2217\n",
    "nombre_exposed        444\n",
    "nombre_recovered    16526\n",
    "Name: 390, dtype: int64"
   ]
  },
  {
   "cell_type": "markdown",
   "id": "ad0ef210",
   "metadata": {},
   "source": [
    "nombre_infected       815\n",
    "nombre_sain          2228\n",
    "nombre_exposed        460\n",
    "nombre_recovered    16497\n",
    "Name: 391, dtype: int64"
   ]
  },
  {
   "cell_type": "markdown",
   "id": "fcaa8cbc",
   "metadata": {},
   "source": [
    "nombre_infected       814\n",
    "nombre_sain          2235\n",
    "nombre_exposed        461\n",
    "nombre_recovered    16490\n",
    "Name: 392, dtype: int64"
   ]
  },
  {
   "cell_type": "markdown",
   "id": "b8cfe627",
   "metadata": {},
   "source": [
    "nombre_infected       829\n",
    "nombre_sain          2237\n",
    "nombre_exposed        462\n",
    "nombre_recovered    16472\n",
    "Name: 393, dtype: int64"
   ]
  },
  {
   "cell_type": "markdown",
   "id": "950871fb",
   "metadata": {},
   "source": [
    "nombre_infected       840\n",
    "nombre_sain          2242\n",
    "nombre_exposed        466\n",
    "nombre_recovered    16452\n",
    "Name: 394, dtype: int64"
   ]
  },
  {
   "cell_type": "markdown",
   "id": "0193e9ca",
   "metadata": {},
   "source": [
    "nombre_infected       799\n",
    "nombre_sain          2243\n",
    "nombre_exposed        486\n",
    "nombre_recovered    16472\n",
    "Name: 395, dtype: int64"
   ]
  },
  {
   "cell_type": "markdown",
   "id": "8b3ba9f2",
   "metadata": {},
   "source": [
    "nombre_infected       817\n",
    "nombre_sain          2217\n",
    "nombre_exposed        490\n",
    "nombre_recovered    16476\n",
    "Name: 396, dtype: int64"
   ]
  },
  {
   "cell_type": "markdown",
   "id": "01e5a753",
   "metadata": {},
   "source": [
    "nombre_infected       820\n",
    "nombre_sain          2234\n",
    "nombre_exposed        492\n",
    "nombre_recovered    16454\n",
    "Name: 397, dtype: int64"
   ]
  },
  {
   "cell_type": "markdown",
   "id": "9e8992fa",
   "metadata": {},
   "source": [
    "nombre_infected       829\n",
    "nombre_sain          2218\n",
    "nombre_exposed        496\n",
    "nombre_recovered    16457\n",
    "Name: 398, dtype: int64"
   ]
  },
  {
   "cell_type": "markdown",
   "id": "a9978560",
   "metadata": {},
   "source": [
    "nombre_infected       846\n",
    "nombre_sain          2194\n",
    "nombre_exposed        506\n",
    "nombre_recovered    16454\n",
    "Name: 399, dtype: int64"
   ]
  },
  {
   "cell_type": "markdown",
   "id": "3e59cd3d",
   "metadata": {},
   "source": [
    "nombre_infected       842\n",
    "nombre_sain          2174\n",
    "nombre_exposed        520\n",
    "nombre_recovered    16464\n",
    "Name: 400, dtype: int64"
   ]
  },
  {
   "cell_type": "markdown",
   "id": "d9bd0fbc",
   "metadata": {},
   "source": [
    "nombre_infected       840\n",
    "nombre_sain          2169\n",
    "nombre_exposed        528\n",
    "nombre_recovered    16463\n",
    "Name: 401, dtype: int64"
   ]
  },
  {
   "cell_type": "markdown",
   "id": "9cfa3e4f",
   "metadata": {},
   "source": [
    "nombre_infected       839\n",
    "nombre_sain          2180\n",
    "nombre_exposed        525\n",
    "nombre_recovered    16456\n",
    "Name: 402, dtype: int64"
   ]
  },
  {
   "cell_type": "markdown",
   "id": "04f8fde6",
   "metadata": {},
   "source": [
    "nombre_infected       828\n",
    "nombre_sain          2170\n",
    "nombre_exposed        540\n",
    "nombre_recovered    16462\n",
    "Name: 403, dtype: int64"
   ]
  },
  {
   "cell_type": "markdown",
   "id": "a16529ed",
   "metadata": {},
   "source": [
    "nombre_infected       844\n",
    "nombre_sain          2171\n",
    "nombre_exposed        522\n",
    "nombre_recovered    16463\n",
    "Name: 404, dtype: int64"
   ]
  },
  {
   "cell_type": "markdown",
   "id": "7d039ef1",
   "metadata": {},
   "source": [
    "nombre_infected       841\n",
    "nombre_sain          2178\n",
    "nombre_exposed        525\n",
    "nombre_recovered    16456\n",
    "Name: 405, dtype: int64"
   ]
  },
  {
   "cell_type": "markdown",
   "id": "a6a1a2cf",
   "metadata": {},
   "source": [
    "nombre_infected       855\n",
    "nombre_sain          2206\n",
    "nombre_exposed        521\n",
    "nombre_recovered    16418\n",
    "Name: 406, dtype: int64"
   ]
  },
  {
   "cell_type": "markdown",
   "id": "da484ecc",
   "metadata": {},
   "source": [
    "nombre_infected       851\n",
    "nombre_sain          2243\n",
    "nombre_exposed        513\n",
    "nombre_recovered    16393\n",
    "Name: 407, dtype: int64"
   ]
  },
  {
   "cell_type": "markdown",
   "id": "6c7a7a5c",
   "metadata": {},
   "source": [
    "nombre_infected       840\n",
    "nombre_sain          2220\n",
    "nombre_exposed        536\n",
    "nombre_recovered    16404\n",
    "Name: 408, dtype: int64"
   ]
  },
  {
   "cell_type": "markdown",
   "id": "d1299ce7",
   "metadata": {},
   "source": [
    "nombre_infected       835\n",
    "nombre_sain          2228\n",
    "nombre_exposed        560\n",
    "nombre_recovered    16377\n",
    "Name: 409, dtype: int64"
   ]
  },
  {
   "cell_type": "markdown",
   "id": "84599173",
   "metadata": {},
   "source": [
    "nombre_infected       829\n",
    "nombre_sain          2257\n",
    "nombre_exposed        553\n",
    "nombre_recovered    16361\n",
    "Name: 410, dtype: int64"
   ]
  },
  {
   "cell_type": "markdown",
   "id": "99ffa3c4",
   "metadata": {},
   "source": [
    "nombre_infected       858\n",
    "nombre_sain          2254\n",
    "nombre_exposed        531\n",
    "nombre_recovered    16357\n",
    "Name: 411, dtype: int64"
   ]
  },
  {
   "cell_type": "markdown",
   "id": "9320f599",
   "metadata": {},
   "source": [
    "nombre_infected       842\n",
    "nombre_sain          2243\n",
    "nombre_exposed        535\n",
    "nombre_recovered    16380\n",
    "Name: 412, dtype: int64"
   ]
  },
  {
   "cell_type": "markdown",
   "id": "01ef4fb8",
   "metadata": {},
   "source": [
    "nombre_infected       820\n",
    "nombre_sain          2236\n",
    "nombre_exposed        545\n",
    "nombre_recovered    16399\n",
    "Name: 413, dtype: int64"
   ]
  },
  {
   "cell_type": "markdown",
   "id": "611a491d",
   "metadata": {},
   "source": [
    "nombre_infected       834\n",
    "nombre_sain          2226\n",
    "nombre_exposed        540\n",
    "nombre_recovered    16400\n",
    "Name: 414, dtype: int64"
   ]
  },
  {
   "cell_type": "markdown",
   "id": "57be6fd8",
   "metadata": {},
   "source": [
    "nombre_infected       843\n",
    "nombre_sain          2226\n",
    "nombre_exposed        528\n",
    "nombre_recovered    16403\n",
    "Name: 415, dtype: int64"
   ]
  },
  {
   "cell_type": "markdown",
   "id": "ad858068",
   "metadata": {},
   "source": [
    "nombre_infected       853\n",
    "nombre_sain          2222\n",
    "nombre_exposed        537\n",
    "nombre_recovered    16388\n",
    "Name: 416, dtype: int64"
   ]
  },
  {
   "cell_type": "markdown",
   "id": "e5e85c5a",
   "metadata": {},
   "source": [
    "nombre_infected       853\n",
    "nombre_sain          2186\n",
    "nombre_exposed        550\n",
    "nombre_recovered    16411\n",
    "Name: 417, dtype: int64"
   ]
  },
  {
   "cell_type": "markdown",
   "id": "762b48b3",
   "metadata": {},
   "source": [
    "nombre_infected       882\n",
    "nombre_sain          2125\n",
    "nombre_exposed        573\n",
    "nombre_recovered    16420\n",
    "Name: 418, dtype: int64"
   ]
  },
  {
   "cell_type": "markdown",
   "id": "8e397645",
   "metadata": {},
   "source": [
    "nombre_infected       871\n",
    "nombre_sain          2101\n",
    "nombre_exposed        574\n",
    "nombre_recovered    16454\n",
    "Name: 419, dtype: int64"
   ]
  },
  {
   "cell_type": "markdown",
   "id": "df81260d",
   "metadata": {},
   "source": [
    "nombre_infected       890\n",
    "nombre_sain          2105\n",
    "nombre_exposed        547\n",
    "nombre_recovered    16458\n",
    "Name: 420, dtype: int64"
   ]
  },
  {
   "cell_type": "markdown",
   "id": "2e7f9a83",
   "metadata": {},
   "source": [
    "nombre_infected       902\n",
    "nombre_sain          2088\n",
    "nombre_exposed        538\n",
    "nombre_recovered    16472\n",
    "Name: 421, dtype: int64"
   ]
  },
  {
   "cell_type": "markdown",
   "id": "d2f52d2b",
   "metadata": {},
   "source": [
    "nombre_infected       895\n",
    "nombre_sain          2083\n",
    "nombre_exposed        535\n",
    "nombre_recovered    16487\n",
    "Name: 422, dtype: int64"
   ]
  },
  {
   "cell_type": "markdown",
   "id": "8706771e",
   "metadata": {},
   "source": [
    "nombre_infected       883\n",
    "nombre_sain          2086\n",
    "nombre_exposed        518\n",
    "nombre_recovered    16513\n",
    "Name: 423, dtype: int64"
   ]
  },
  {
   "cell_type": "markdown",
   "id": "fb445edf",
   "metadata": {},
   "source": [
    "nombre_infected       866\n",
    "nombre_sain          2063\n",
    "nombre_exposed        540\n",
    "nombre_recovered    16531\n",
    "Name: 424, dtype: int64"
   ]
  },
  {
   "cell_type": "markdown",
   "id": "ed0975a8",
   "metadata": {},
   "source": [
    "nombre_infected       878\n",
    "nombre_sain          2063\n",
    "nombre_exposed        535\n",
    "nombre_recovered    16524\n",
    "Name: 425, dtype: int64"
   ]
  },
  {
   "cell_type": "markdown",
   "id": "4f4f2798",
   "metadata": {},
   "source": [
    "nombre_infected       880\n",
    "nombre_sain          2068\n",
    "nombre_exposed        526\n",
    "nombre_recovered    16526\n",
    "Name: 426, dtype: int64"
   ]
  },
  {
   "cell_type": "markdown",
   "id": "181214fe",
   "metadata": {},
   "source": [
    "nombre_infected       890\n",
    "nombre_sain          2053\n",
    "nombre_exposed        516\n",
    "nombre_recovered    16541\n",
    "Name: 427, dtype: int64"
   ]
  },
  {
   "cell_type": "markdown",
   "id": "15614a72",
   "metadata": {},
   "source": [
    "nombre_infected       872\n",
    "nombre_sain          2042\n",
    "nombre_exposed        532\n",
    "nombre_recovered    16554\n",
    "Name: 428, dtype: int64"
   ]
  },
  {
   "cell_type": "markdown",
   "id": "e94bbae0",
   "metadata": {},
   "source": [
    "nombre_infected       883\n",
    "nombre_sain          2032\n",
    "nombre_exposed        515\n",
    "nombre_recovered    16570\n",
    "Name: 429, dtype: int64"
   ]
  },
  {
   "cell_type": "markdown",
   "id": "0764066a",
   "metadata": {},
   "source": [
    "nombre_infected       892\n",
    "nombre_sain          2035\n",
    "nombre_exposed        510\n",
    "nombre_recovered    16563\n",
    "Name: 430, dtype: int64"
   ]
  },
  {
   "cell_type": "markdown",
   "id": "104ea28c",
   "metadata": {},
   "source": [
    "nombre_infected       896\n",
    "nombre_sain          2025\n",
    "nombre_exposed        501\n",
    "nombre_recovered    16578\n",
    "Name: 431, dtype: int64"
   ]
  },
  {
   "cell_type": "markdown",
   "id": "5d275d18",
   "metadata": {},
   "source": [
    "nombre_infected       908\n",
    "nombre_sain          2029\n",
    "nombre_exposed        506\n",
    "nombre_recovered    16557\n",
    "Name: 432, dtype: int64"
   ]
  },
  {
   "cell_type": "markdown",
   "id": "f830f459",
   "metadata": {},
   "source": [
    "nombre_infected       900\n",
    "nombre_sain          2044\n",
    "nombre_exposed        513\n",
    "nombre_recovered    16543\n",
    "Name: 433, dtype: int64"
   ]
  },
  {
   "cell_type": "markdown",
   "id": "31273b3d",
   "metadata": {},
   "source": [
    "nombre_infected       896\n",
    "nombre_sain          2041\n",
    "nombre_exposed        526\n",
    "nombre_recovered    16537\n",
    "Name: 434, dtype: int64"
   ]
  },
  {
   "cell_type": "markdown",
   "id": "cdac914a",
   "metadata": {},
   "source": [
    "nombre_infected       902\n",
    "nombre_sain          2047\n",
    "nombre_exposed        524\n",
    "nombre_recovered    16527\n",
    "Name: 435, dtype: int64"
   ]
  },
  {
   "cell_type": "markdown",
   "id": "374928fe",
   "metadata": {},
   "source": [
    "nombre_infected       896\n",
    "nombre_sain          2051\n",
    "nombre_exposed        529\n",
    "nombre_recovered    16524\n",
    "Name: 436, dtype: int64"
   ]
  },
  {
   "cell_type": "markdown",
   "id": "614b3571",
   "metadata": {},
   "source": [
    "nombre_infected       880\n",
    "nombre_sain          2029\n",
    "nombre_exposed        529\n",
    "nombre_recovered    16562\n",
    "Name: 437, dtype: int64"
   ]
  },
  {
   "cell_type": "markdown",
   "id": "d4063520",
   "metadata": {},
   "source": [
    "nombre_infected       899\n",
    "nombre_sain          2046\n",
    "nombre_exposed        508\n",
    "nombre_recovered    16547\n",
    "Name: 438, dtype: int64"
   ]
  },
  {
   "cell_type": "markdown",
   "id": "f8a0e09d",
   "metadata": {},
   "source": [
    "nombre_infected       908\n",
    "nombre_sain          2051\n",
    "nombre_exposed        491\n",
    "nombre_recovered    16550\n",
    "Name: 439, dtype: int64"
   ]
  },
  {
   "cell_type": "markdown",
   "id": "e3e90f0c",
   "metadata": {},
   "source": [
    "nombre_infected       912\n",
    "nombre_sain          2032\n",
    "nombre_exposed        499\n",
    "nombre_recovered    16557\n",
    "Name: 440, dtype: int64"
   ]
  },
  {
   "cell_type": "markdown",
   "id": "a4657b9f",
   "metadata": {},
   "source": [
    "nombre_infected       889\n",
    "nombre_sain          2026\n",
    "nombre_exposed        516\n",
    "nombre_recovered    16569\n",
    "Name: 441, dtype: int64"
   ]
  },
  {
   "cell_type": "markdown",
   "id": "f543fcc9",
   "metadata": {},
   "source": [
    "nombre_infected       888\n",
    "nombre_sain          2040\n",
    "nombre_exposed        505\n",
    "nombre_recovered    16567\n",
    "Name: 442, dtype: int64"
   ]
  },
  {
   "cell_type": "markdown",
   "id": "14e4ec78",
   "metadata": {},
   "source": [
    "nombre_infected       910\n",
    "nombre_sain          2008\n",
    "nombre_exposed        531\n",
    "nombre_recovered    16551\n",
    "Name: 443, dtype: int64"
   ]
  },
  {
   "cell_type": "markdown",
   "id": "35dcde3c",
   "metadata": {},
   "source": [
    "nombre_infected       911\n",
    "nombre_sain          2019\n",
    "nombre_exposed        510\n",
    "nombre_recovered    16560\n",
    "Name: 444, dtype: int64"
   ]
  },
  {
   "cell_type": "markdown",
   "id": "3e707cca",
   "metadata": {},
   "source": [
    "nombre_infected       929\n",
    "nombre_sain          2041\n",
    "nombre_exposed        500\n",
    "nombre_recovered    16530\n",
    "Name: 445, dtype: int64"
   ]
  },
  {
   "cell_type": "markdown",
   "id": "7f862e0e",
   "metadata": {},
   "source": [
    "nombre_infected       950\n",
    "nombre_sain          2033\n",
    "nombre_exposed        492\n",
    "nombre_recovered    16525\n",
    "Name: 446, dtype: int64"
   ]
  },
  {
   "cell_type": "markdown",
   "id": "5e4dab5a",
   "metadata": {},
   "source": [
    "nombre_infected       934\n",
    "nombre_sain          2038\n",
    "nombre_exposed        500\n",
    "nombre_recovered    16528\n",
    "Name: 447, dtype: int64"
   ]
  },
  {
   "cell_type": "markdown",
   "id": "b1214a84",
   "metadata": {},
   "source": [
    "nombre_infected       937\n",
    "nombre_sain          2042\n",
    "nombre_exposed        504\n",
    "nombre_recovered    16517\n",
    "Name: 448, dtype: int64"
   ]
  },
  {
   "cell_type": "markdown",
   "id": "75fc04a3",
   "metadata": {},
   "source": [
    "nombre_infected       918\n",
    "nombre_sain          2045\n",
    "nombre_exposed        524\n",
    "nombre_recovered    16513\n",
    "Name: 449, dtype: int64"
   ]
  },
  {
   "cell_type": "markdown",
   "id": "fd0c3ec4",
   "metadata": {},
   "source": [
    "nombre_infected       929\n",
    "nombre_sain          2068\n",
    "nombre_exposed        514\n",
    "nombre_recovered    16489\n",
    "Name: 450, dtype: int64"
   ]
  },
  {
   "cell_type": "markdown",
   "id": "912685a3",
   "metadata": {},
   "source": [
    "nombre_infected       930\n",
    "nombre_sain          2063\n",
    "nombre_exposed        510\n",
    "nombre_recovered    16497\n",
    "Name: 451, dtype: int64"
   ]
  },
  {
   "cell_type": "markdown",
   "id": "2836691c",
   "metadata": {},
   "source": [
    "nombre_infected       939\n",
    "nombre_sain          2089\n",
    "nombre_exposed        491\n",
    "nombre_recovered    16481\n",
    "Name: 452, dtype: int64"
   ]
  },
  {
   "cell_type": "markdown",
   "id": "a4932301",
   "metadata": {},
   "source": [
    "nombre_infected       947\n",
    "nombre_sain          2081\n",
    "nombre_exposed        493\n",
    "nombre_recovered    16479\n",
    "Name: 453, dtype: int64"
   ]
  },
  {
   "cell_type": "markdown",
   "id": "4dbfe794",
   "metadata": {},
   "source": [
    "nombre_infected       920\n",
    "nombre_sain          2083\n",
    "nombre_exposed        509\n",
    "nombre_recovered    16488\n",
    "Name: 454, dtype: int64"
   ]
  },
  {
   "cell_type": "markdown",
   "id": "17abdd5e",
   "metadata": {},
   "source": [
    "nombre_infected       921\n",
    "nombre_sain          2076\n",
    "nombre_exposed        502\n",
    "nombre_recovered    16501\n",
    "Name: 455, dtype: int64"
   ]
  },
  {
   "cell_type": "markdown",
   "id": "609a4266",
   "metadata": {},
   "source": [
    "nombre_infected       947\n",
    "nombre_sain          2056\n",
    "nombre_exposed        499\n",
    "nombre_recovered    16498\n",
    "Name: 456, dtype: int64"
   ]
  },
  {
   "cell_type": "markdown",
   "id": "de5393c2",
   "metadata": {},
   "source": [
    "nombre_infected       953\n",
    "nombre_sain          2060\n",
    "nombre_exposed        499\n",
    "nombre_recovered    16488\n",
    "Name: 457, dtype: int64"
   ]
  },
  {
   "cell_type": "markdown",
   "id": "ebd065fd",
   "metadata": {},
   "source": [
    "nombre_infected       938\n",
    "nombre_sain          2037\n",
    "nombre_exposed        521\n",
    "nombre_recovered    16504\n",
    "Name: 458, dtype: int64"
   ]
  },
  {
   "cell_type": "markdown",
   "id": "5b34e6d7",
   "metadata": {},
   "source": [
    "nombre_infected       955\n",
    "nombre_sain          2040\n",
    "nombre_exposed        504\n",
    "nombre_recovered    16501\n",
    "Name: 459, dtype: int64"
   ]
  },
  {
   "cell_type": "markdown",
   "id": "4b6a4e37",
   "metadata": {},
   "source": [
    "nombre_infected       945\n",
    "nombre_sain          2018\n",
    "nombre_exposed        519\n",
    "nombre_recovered    16518\n",
    "Name: 460, dtype: int64"
   ]
  },
  {
   "cell_type": "markdown",
   "id": "db4b8c33",
   "metadata": {},
   "source": [
    "nombre_infected       941\n",
    "nombre_sain          2008\n",
    "nombre_exposed        540\n",
    "nombre_recovered    16511\n",
    "Name: 461, dtype: int64"
   ]
  },
  {
   "cell_type": "markdown",
   "id": "37b53135",
   "metadata": {},
   "source": [
    "nombre_infected       940\n",
    "nombre_sain          1996\n",
    "nombre_exposed        542\n",
    "nombre_recovered    16522\n",
    "Name: 462, dtype: int64"
   ]
  },
  {
   "cell_type": "markdown",
   "id": "a1d3a4d4",
   "metadata": {},
   "source": [
    "nombre_infected       941\n",
    "nombre_sain          2009\n",
    "nombre_exposed        544\n",
    "nombre_recovered    16506\n",
    "Name: 463, dtype: int64"
   ]
  },
  {
   "cell_type": "markdown",
   "id": "03c456d0",
   "metadata": {},
   "source": [
    "nombre_infected       967\n",
    "nombre_sain          1980\n",
    "nombre_exposed        538\n",
    "nombre_recovered    16515\n",
    "Name: 464, dtype: int64"
   ]
  },
  {
   "cell_type": "markdown",
   "id": "8bd0bf16",
   "metadata": {},
   "source": [
    "nombre_infected       987\n",
    "nombre_sain          1968\n",
    "nombre_exposed        525\n",
    "nombre_recovered    16520\n",
    "Name: 465, dtype: int64"
   ]
  },
  {
   "cell_type": "markdown",
   "id": "77072556",
   "metadata": {},
   "source": [
    "nombre_infected       988\n",
    "nombre_sain          1956\n",
    "nombre_exposed        520\n",
    "nombre_recovered    16536\n",
    "Name: 466, dtype: int64"
   ]
  },
  {
   "cell_type": "markdown",
   "id": "1da57021",
   "metadata": {},
   "source": [
    "nombre_infected       985\n",
    "nombre_sain          1935\n",
    "nombre_exposed        544\n",
    "nombre_recovered    16536\n",
    "Name: 467, dtype: int64"
   ]
  },
  {
   "cell_type": "markdown",
   "id": "5670f1f7",
   "metadata": {},
   "source": [
    "nombre_infected      1004\n",
    "nombre_sain          1919\n",
    "nombre_exposed        535\n",
    "nombre_recovered    16542\n",
    "Name: 468, dtype: int64"
   ]
  },
  {
   "cell_type": "markdown",
   "id": "a6d0cb16",
   "metadata": {},
   "source": [
    "nombre_infected       998\n",
    "nombre_sain          1921\n",
    "nombre_exposed        543\n",
    "nombre_recovered    16538\n",
    "Name: 469, dtype: int64"
   ]
  },
  {
   "cell_type": "markdown",
   "id": "61b8ebdc",
   "metadata": {},
   "source": [
    "nombre_infected       999\n",
    "nombre_sain          1907\n",
    "nombre_exposed        524\n",
    "nombre_recovered    16570\n",
    "Name: 470, dtype: int64"
   ]
  },
  {
   "cell_type": "markdown",
   "id": "d97b275a",
   "metadata": {},
   "source": [
    "nombre_infected      1004\n",
    "nombre_sain          1886\n",
    "nombre_exposed        525\n",
    "nombre_recovered    16585\n",
    "Name: 471, dtype: int64"
   ]
  },
  {
   "cell_type": "markdown",
   "id": "a8557308",
   "metadata": {},
   "source": [
    "nombre_infected       986\n",
    "nombre_sain          1883\n",
    "nombre_exposed        551\n",
    "nombre_recovered    16580\n",
    "Name: 472, dtype: int64"
   ]
  },
  {
   "cell_type": "markdown",
   "id": "e1cb112c",
   "metadata": {},
   "source": [
    "nombre_infected       982\n",
    "nombre_sain          1863\n",
    "nombre_exposed        552\n",
    "nombre_recovered    16603\n",
    "Name: 473, dtype: int64"
   ]
  },
  {
   "cell_type": "markdown",
   "id": "721f7e28",
   "metadata": {},
   "source": [
    "nombre_infected      1010\n",
    "nombre_sain          1850\n",
    "nombre_exposed        537\n",
    "nombre_recovered    16603\n",
    "Name: 474, dtype: int64"
   ]
  },
  {
   "cell_type": "markdown",
   "id": "9a2f7781",
   "metadata": {},
   "source": [
    "nombre_infected      1025\n",
    "nombre_sain          1851\n",
    "nombre_exposed        521\n",
    "nombre_recovered    16603\n",
    "Name: 475, dtype: int64"
   ]
  },
  {
   "cell_type": "markdown",
   "id": "405b0729",
   "metadata": {},
   "source": [
    "nombre_infected      1017\n",
    "nombre_sain          1872\n",
    "nombre_exposed        502\n",
    "nombre_recovered    16609\n",
    "Name: 476, dtype: int64"
   ]
  },
  {
   "cell_type": "markdown",
   "id": "2beb9599",
   "metadata": {},
   "source": [
    "nombre_infected      1012\n",
    "nombre_sain          1861\n",
    "nombre_exposed        509\n",
    "nombre_recovered    16618\n",
    "Name: 477, dtype: int64"
   ]
  },
  {
   "cell_type": "markdown",
   "id": "6a1128e0",
   "metadata": {},
   "source": [
    "nombre_infected       996\n",
    "nombre_sain          1875\n",
    "nombre_exposed        514\n",
    "nombre_recovered    16615\n",
    "Name: 478, dtype: int64"
   ]
  },
  {
   "cell_type": "markdown",
   "id": "13817e4a",
   "metadata": {},
   "source": [
    "nombre_infected      1001\n",
    "nombre_sain          1903\n",
    "nombre_exposed        493\n",
    "nombre_recovered    16603\n",
    "Name: 479, dtype: int64"
   ]
  },
  {
   "cell_type": "markdown",
   "id": "e29e1ffe",
   "metadata": {},
   "source": [
    "nombre_infected       999\n",
    "nombre_sain          1906\n",
    "nombre_exposed        502\n",
    "nombre_recovered    16593\n",
    "Name: 480, dtype: int64"
   ]
  },
  {
   "cell_type": "markdown",
   "id": "a1a45ef5",
   "metadata": {},
   "source": [
    "nombre_infected       998\n",
    "nombre_sain          1903\n",
    "nombre_exposed        505\n",
    "nombre_recovered    16594\n",
    "Name: 481, dtype: int64"
   ]
  },
  {
   "cell_type": "markdown",
   "id": "6dd717b0",
   "metadata": {},
   "source": [
    "nombre_infected       985\n",
    "nombre_sain          1904\n",
    "nombre_exposed        503\n",
    "nombre_recovered    16608\n",
    "Name: 482, dtype: int64"
   ]
  },
  {
   "cell_type": "markdown",
   "id": "574fad22",
   "metadata": {},
   "source": [
    "nombre_infected       971\n",
    "nombre_sain          1889\n",
    "nombre_exposed        506\n",
    "nombre_recovered    16634\n",
    "Name: 483, dtype: int64"
   ]
  },
  {
   "cell_type": "markdown",
   "id": "e3cf669a",
   "metadata": {},
   "source": [
    "nombre_infected       956\n",
    "nombre_sain          1912\n",
    "nombre_exposed        497\n",
    "nombre_recovered    16635\n",
    "Name: 484, dtype: int64"
   ]
  },
  {
   "cell_type": "markdown",
   "id": "850dda62",
   "metadata": {},
   "source": [
    "nombre_infected       930\n",
    "nombre_sain          1920\n",
    "nombre_exposed        498\n",
    "nombre_recovered    16652\n",
    "Name: 485, dtype: int64"
   ]
  },
  {
   "cell_type": "markdown",
   "id": "c5109ee0",
   "metadata": {},
   "source": [
    "nombre_infected       939\n",
    "nombre_sain          1934\n",
    "nombre_exposed        468\n",
    "nombre_recovered    16659\n",
    "Name: 486, dtype: int64"
   ]
  },
  {
   "cell_type": "markdown",
   "id": "67da0a7d",
   "metadata": {},
   "source": [
    "nombre_infected       938\n",
    "nombre_sain          1951\n",
    "nombre_exposed        458\n",
    "nombre_recovered    16653\n",
    "Name: 487, dtype: int64"
   ]
  },
  {
   "cell_type": "markdown",
   "id": "010fe72d",
   "metadata": {},
   "source": [
    "nombre_infected       939\n",
    "nombre_sain          1964\n",
    "nombre_exposed        465\n",
    "nombre_recovered    16632\n",
    "Name: 488, dtype: int64"
   ]
  },
  {
   "cell_type": "markdown",
   "id": "aa2fae8b",
   "metadata": {},
   "source": [
    "nombre_infected       918\n",
    "nombre_sain          1959\n",
    "nombre_exposed        475\n",
    "nombre_recovered    16648\n",
    "Name: 489, dtype: int64"
   ]
  },
  {
   "cell_type": "markdown",
   "id": "86db2864",
   "metadata": {},
   "source": [
    "nombre_infected       913\n",
    "nombre_sain          1947\n",
    "nombre_exposed        491\n",
    "nombre_recovered    16649\n",
    "Name: 490, dtype: int64"
   ]
  },
  {
   "cell_type": "markdown",
   "id": "e7533766",
   "metadata": {},
   "source": [
    "nombre_infected       900\n",
    "nombre_sain          1969\n",
    "nombre_exposed        484\n",
    "nombre_recovered    16647\n",
    "Name: 491, dtype: int64"
   ]
  },
  {
   "cell_type": "markdown",
   "id": "0547047e",
   "metadata": {},
   "source": [
    "nombre_infected       869\n",
    "nombre_sain          1981\n",
    "nombre_exposed        500\n",
    "nombre_recovered    16650\n",
    "Name: 492, dtype: int64"
   ]
  },
  {
   "cell_type": "markdown",
   "id": "c1954d09",
   "metadata": {},
   "source": [
    "nombre_infected       876\n",
    "nombre_sain          1986\n",
    "nombre_exposed        496\n",
    "nombre_recovered    16642\n",
    "Name: 493, dtype: int64"
   ]
  },
  {
   "cell_type": "markdown",
   "id": "53b4b66c",
   "metadata": {},
   "source": [
    "nombre_infected       863\n",
    "nombre_sain          2006\n",
    "nombre_exposed        497\n",
    "nombre_recovered    16634\n",
    "Name: 494, dtype: int64"
   ]
  },
  {
   "cell_type": "markdown",
   "id": "7e8e6153",
   "metadata": {},
   "source": [
    "nombre_infected       878\n",
    "nombre_sain          2022\n",
    "nombre_exposed        491\n",
    "nombre_recovered    16609\n",
    "Name: 495, dtype: int64"
   ]
  },
  {
   "cell_type": "markdown",
   "id": "1c621dec",
   "metadata": {},
   "source": [
    "nombre_infected       856\n",
    "nombre_sain          2062\n",
    "nombre_exposed        499\n",
    "nombre_recovered    16583\n",
    "Name: 496, dtype: int64"
   ]
  },
  {
   "cell_type": "markdown",
   "id": "c20d0458",
   "metadata": {},
   "source": [
    "nombre_infected       858\n",
    "nombre_sain          2099\n",
    "nombre_exposed        512\n",
    "nombre_recovered    16531\n",
    "Name: 497, dtype: int64"
   ]
  },
  {
   "cell_type": "markdown",
   "id": "198422ec",
   "metadata": {},
   "source": [
    "nombre_infected       872\n",
    "nombre_sain          2093\n",
    "nombre_exposed        511\n",
    "nombre_recovered    16524\n",
    "Name: 498, dtype: int64"
   ]
  },
  {
   "cell_type": "markdown",
   "id": "8a8890a5",
   "metadata": {},
   "source": [
    "nombre_infected       860\n",
    "nombre_sain          2122\n",
    "nombre_exposed        500\n",
    "nombre_recovered    16518\n",
    "Name: 499, dtype: int64"
   ]
  },
  {
   "cell_type": "markdown",
   "id": "3e7c2508",
   "metadata": {},
   "source": [
    "nombre_infected       862\n",
    "nombre_sain          2161\n",
    "nombre_exposed        492\n",
    "nombre_recovered    16485\n",
    "Name: 500, dtype: int64"
   ]
  },
  {
   "cell_type": "markdown",
   "id": "c9b3ee51",
   "metadata": {},
   "source": [
    "nombre_infected       868\n",
    "nombre_sain          2194\n",
    "nombre_exposed        495\n",
    "nombre_recovered    16443\n",
    "Name: 501, dtype: int64"
   ]
  },
  {
   "cell_type": "markdown",
   "id": "a1c68848",
   "metadata": {},
   "source": [
    "nombre_infected       900\n",
    "nombre_sain          2177\n",
    "nombre_exposed        498\n",
    "nombre_recovered    16425\n",
    "Name: 502, dtype: int64"
   ]
  },
  {
   "cell_type": "markdown",
   "id": "37d3a50d",
   "metadata": {},
   "source": [
    "nombre_infected       896\n",
    "nombre_sain          2129\n",
    "nombre_exposed        565\n",
    "nombre_recovered    16410\n",
    "Name: 503, dtype: int64"
   ]
  },
  {
   "cell_type": "markdown",
   "id": "ad20a147",
   "metadata": {},
   "source": [
    "nombre_infected       902\n",
    "nombre_sain          2125\n",
    "nombre_exposed        588\n",
    "nombre_recovered    16385\n",
    "Name: 504, dtype: int64"
   ]
  },
  {
   "cell_type": "markdown",
   "id": "0c5da04d",
   "metadata": {},
   "source": [
    "nombre_infected       927\n",
    "nombre_sain          2116\n",
    "nombre_exposed        576\n",
    "nombre_recovered    16381\n",
    "Name: 505, dtype: int64"
   ]
  },
  {
   "cell_type": "markdown",
   "id": "ce1c0251",
   "metadata": {},
   "source": [
    "nombre_infected       953\n",
    "nombre_sain          2107\n",
    "nombre_exposed        583\n",
    "nombre_recovered    16357\n",
    "Name: 506, dtype: int64"
   ]
  },
  {
   "cell_type": "markdown",
   "id": "af2d69e4",
   "metadata": {},
   "source": [
    "nombre_infected       938\n",
    "nombre_sain          2097\n",
    "nombre_exposed        612\n",
    "nombre_recovered    16353\n",
    "Name: 507, dtype: int64"
   ]
  },
  {
   "cell_type": "markdown",
   "id": "fd69c719",
   "metadata": {},
   "source": [
    "nombre_infected       985\n",
    "nombre_sain          2084\n",
    "nombre_exposed        570\n",
    "nombre_recovered    16361\n",
    "Name: 508, dtype: int64"
   ]
  },
  {
   "cell_type": "markdown",
   "id": "e150520e",
   "metadata": {},
   "source": [
    "nombre_infected      1013\n",
    "nombre_sain          2108\n",
    "nombre_exposed        543\n",
    "nombre_recovered    16336\n",
    "Name: 509, dtype: int64"
   ]
  },
  {
   "cell_type": "markdown",
   "id": "2383f9e0",
   "metadata": {},
   "source": [
    "nombre_infected      1022\n",
    "nombre_sain          2094\n",
    "nombre_exposed        534\n",
    "nombre_recovered    16350\n",
    "Name: 510, dtype: int64"
   ]
  },
  {
   "cell_type": "markdown",
   "id": "ff5c5991",
   "metadata": {},
   "source": [
    "nombre_infected      1003\n",
    "nombre_sain          2044\n",
    "nombre_exposed        569\n",
    "nombre_recovered    16384\n",
    "Name: 511, dtype: int64"
   ]
  },
  {
   "cell_type": "markdown",
   "id": "94ec043b",
   "metadata": {},
   "source": [
    "nombre_infected      1015\n",
    "nombre_sain          2012\n",
    "nombre_exposed        572\n",
    "nombre_recovered    16401\n",
    "Name: 512, dtype: int64"
   ]
  },
  {
   "cell_type": "markdown",
   "id": "a4bf57fe",
   "metadata": {},
   "source": [
    "nombre_infected      1027\n",
    "nombre_sain          2010\n",
    "nombre_exposed        569\n",
    "nombre_recovered    16394\n",
    "Name: 513, dtype: int64"
   ]
  },
  {
   "cell_type": "markdown",
   "id": "9c303030",
   "metadata": {},
   "source": [
    "nombre_infected      1045\n",
    "nombre_sain          1990\n",
    "nombre_exposed        561\n",
    "nombre_recovered    16404\n",
    "Name: 514, dtype: int64"
   ]
  },
  {
   "cell_type": "markdown",
   "id": "521a0d36",
   "metadata": {},
   "source": [
    "nombre_infected      1049\n",
    "nombre_sain          1988\n",
    "nombre_exposed        549\n",
    "nombre_recovered    16414\n",
    "Name: 515, dtype: int64"
   ]
  },
  {
   "cell_type": "markdown",
   "id": "39009bd8",
   "metadata": {},
   "source": [
    "nombre_infected      1036\n",
    "nombre_sain          1955\n",
    "nombre_exposed        576\n",
    "nombre_recovered    16433\n",
    "Name: 516, dtype: int64"
   ]
  },
  {
   "cell_type": "markdown",
   "id": "6e77f386",
   "metadata": {},
   "source": [
    "nombre_infected      1047\n",
    "nombre_sain          1931\n",
    "nombre_exposed        580\n",
    "nombre_recovered    16442\n",
    "Name: 517, dtype: int64"
   ]
  },
  {
   "cell_type": "markdown",
   "id": "74448229",
   "metadata": {},
   "source": [
    "nombre_infected      1050\n",
    "nombre_sain          1916\n",
    "nombre_exposed        565\n",
    "nombre_recovered    16469\n",
    "Name: 518, dtype: int64"
   ]
  },
  {
   "cell_type": "markdown",
   "id": "226b54cf",
   "metadata": {},
   "source": [
    "nombre_infected      1065\n",
    "nombre_sain          1891\n",
    "nombre_exposed        577\n",
    "nombre_recovered    16467\n",
    "Name: 519, dtype: int64"
   ]
  },
  {
   "cell_type": "markdown",
   "id": "78378724",
   "metadata": {},
   "source": [
    "nombre_infected      1064\n",
    "nombre_sain          1891\n",
    "nombre_exposed        577\n",
    "nombre_recovered    16468\n",
    "Name: 520, dtype: int64"
   ]
  },
  {
   "cell_type": "markdown",
   "id": "a28f0ee7",
   "metadata": {},
   "source": [
    "nombre_infected      1055\n",
    "nombre_sain          1907\n",
    "nombre_exposed        554\n",
    "nombre_recovered    16484\n",
    "Name: 521, dtype: int64"
   ]
  },
  {
   "cell_type": "markdown",
   "id": "45daf29a",
   "metadata": {},
   "source": [
    "nombre_infected      1059\n",
    "nombre_sain          1916\n",
    "nombre_exposed        548\n",
    "nombre_recovered    16477\n",
    "Name: 522, dtype: int64"
   ]
  },
  {
   "cell_type": "markdown",
   "id": "5e197005",
   "metadata": {},
   "source": [
    "nombre_infected      1070\n",
    "nombre_sain          1894\n",
    "nombre_exposed        546\n",
    "nombre_recovered    16490\n",
    "Name: 523, dtype: int64"
   ]
  },
  {
   "cell_type": "markdown",
   "id": "afa8ce69",
   "metadata": {},
   "source": [
    "nombre_infected      1054\n",
    "nombre_sain          1882\n",
    "nombre_exposed        549\n",
    "nombre_recovered    16515\n",
    "Name: 524, dtype: int64"
   ]
  },
  {
   "cell_type": "markdown",
   "id": "db062d1b",
   "metadata": {},
   "source": [
    "nombre_infected      1039\n",
    "nombre_sain          1874\n",
    "nombre_exposed        540\n",
    "nombre_recovered    16547\n",
    "Name: 525, dtype: int64"
   ]
  },
  {
   "cell_type": "markdown",
   "id": "beb93f87",
   "metadata": {},
   "source": [
    "nombre_infected      1070\n",
    "nombre_sain          1862\n",
    "nombre_exposed        530\n",
    "nombre_recovered    16538\n",
    "Name: 526, dtype: int64"
   ]
  },
  {
   "cell_type": "markdown",
   "id": "9330227d",
   "metadata": {},
   "source": [
    "nombre_infected      1070\n",
    "nombre_sain          1856\n",
    "nombre_exposed        547\n",
    "nombre_recovered    16527\n",
    "Name: 527, dtype: int64"
   ]
  },
  {
   "cell_type": "markdown",
   "id": "24ffa602",
   "metadata": {},
   "source": [
    "nombre_infected      1091\n",
    "nombre_sain          1862\n",
    "nombre_exposed        520\n",
    "nombre_recovered    16527\n",
    "Name: 528, dtype: int64"
   ]
  },
  {
   "cell_type": "markdown",
   "id": "639ce0fc",
   "metadata": {},
   "source": [
    "nombre_infected      1073\n",
    "nombre_sain          1834\n",
    "nombre_exposed        526\n",
    "nombre_recovered    16567\n",
    "Name: 529, dtype: int64"
   ]
  },
  {
   "cell_type": "markdown",
   "id": "cefd5e95",
   "metadata": {},
   "source": [
    "nombre_infected      1100\n",
    "nombre_sain          1814\n",
    "nombre_exposed        518\n",
    "nombre_recovered    16568\n",
    "Name: 530, dtype: int64"
   ]
  },
  {
   "cell_type": "markdown",
   "id": "543cf598",
   "metadata": {},
   "source": [
    "nombre_infected      1092\n",
    "nombre_sain          1787\n",
    "nombre_exposed        529\n",
    "nombre_recovered    16592\n",
    "Name: 531, dtype: int64"
   ]
  },
  {
   "cell_type": "markdown",
   "id": "bc9f370f",
   "metadata": {},
   "source": [
    "nombre_infected      1067\n",
    "nombre_sain          1765\n",
    "nombre_exposed        558\n",
    "nombre_recovered    16610\n",
    "Name: 532, dtype: int64"
   ]
  },
  {
   "cell_type": "markdown",
   "id": "3c9a1345",
   "metadata": {},
   "source": [
    "nombre_infected      1064\n",
    "nombre_sain          1753\n",
    "nombre_exposed        542\n",
    "nombre_recovered    16641\n",
    "Name: 533, dtype: int64"
   ]
  },
  {
   "cell_type": "markdown",
   "id": "b8bda4a3",
   "metadata": {},
   "source": [
    "nombre_infected      1076\n",
    "nombre_sain          1760\n",
    "nombre_exposed        505\n",
    "nombre_recovered    16659\n",
    "Name: 534, dtype: int64"
   ]
  },
  {
   "cell_type": "markdown",
   "id": "010edf79",
   "metadata": {},
   "source": [
    "nombre_infected      1051\n",
    "nombre_sain          1757\n",
    "nombre_exposed        514\n",
    "nombre_recovered    16678\n",
    "Name: 535, dtype: int64"
   ]
  },
  {
   "cell_type": "markdown",
   "id": "5ce24fd7",
   "metadata": {},
   "source": [
    "nombre_infected      1083\n",
    "nombre_sain          1765\n",
    "nombre_exposed        476\n",
    "nombre_recovered    16676\n",
    "Name: 536, dtype: int64"
   ]
  },
  {
   "cell_type": "markdown",
   "id": "5d00cc67",
   "metadata": {},
   "source": [
    "nombre_infected      1082\n",
    "nombre_sain          1779\n",
    "nombre_exposed        492\n",
    "nombre_recovered    16647\n",
    "Name: 537, dtype: int64"
   ]
  },
  {
   "cell_type": "markdown",
   "id": "8a1906c5",
   "metadata": {},
   "source": [
    "nombre_infected      1056\n",
    "nombre_sain          1778\n",
    "nombre_exposed        508\n",
    "nombre_recovered    16658\n",
    "Name: 538, dtype: int64"
   ]
  },
  {
   "cell_type": "markdown",
   "id": "4679a9fd",
   "metadata": {},
   "source": [
    "nombre_infected      1030\n",
    "nombre_sain          1783\n",
    "nombre_exposed        505\n",
    "nombre_recovered    16682\n",
    "Name: 539, dtype: int64"
   ]
  },
  {
   "cell_type": "markdown",
   "id": "68f15655",
   "metadata": {},
   "source": [
    "nombre_infected      1042\n",
    "nombre_sain          1795\n",
    "nombre_exposed        487\n",
    "nombre_recovered    16676\n",
    "Name: 540, dtype: int64"
   ]
  },
  {
   "cell_type": "markdown",
   "id": "bae35d81",
   "metadata": {},
   "source": [
    "nombre_infected      1017\n",
    "nombre_sain          1801\n",
    "nombre_exposed        497\n",
    "nombre_recovered    16685\n",
    "Name: 541, dtype: int64"
   ]
  },
  {
   "cell_type": "markdown",
   "id": "9fb3edc0",
   "metadata": {},
   "source": [
    "nombre_infected      1037\n",
    "nombre_sain          1803\n",
    "nombre_exposed        471\n",
    "nombre_recovered    16689\n",
    "Name: 542, dtype: int64"
   ]
  },
  {
   "cell_type": "markdown",
   "id": "8d2b2cbb",
   "metadata": {},
   "source": [
    "nombre_infected      1045\n",
    "nombre_sain          1831\n",
    "nombre_exposed        459\n",
    "nombre_recovered    16665\n",
    "Name: 543, dtype: int64"
   ]
  },
  {
   "cell_type": "markdown",
   "id": "186d3e84",
   "metadata": {},
   "source": [
    "nombre_infected      1026\n",
    "nombre_sain          1818\n",
    "nombre_exposed        488\n",
    "nombre_recovered    16668\n",
    "Name: 544, dtype: int64"
   ]
  },
  {
   "cell_type": "markdown",
   "id": "30b624a3",
   "metadata": {},
   "source": [
    "nombre_infected      1013\n",
    "nombre_sain          1830\n",
    "nombre_exposed        506\n",
    "nombre_recovered    16651\n",
    "Name: 545, dtype: int64"
   ]
  },
  {
   "cell_type": "markdown",
   "id": "14359eb8",
   "metadata": {},
   "source": [
    "nombre_infected       995\n",
    "nombre_sain          1836\n",
    "nombre_exposed        501\n",
    "nombre_recovered    16668\n",
    "Name: 546, dtype: int64"
   ]
  },
  {
   "cell_type": "markdown",
   "id": "807b9076",
   "metadata": {},
   "source": [
    "nombre_infected       976\n",
    "nombre_sain          1844\n",
    "nombre_exposed        486\n",
    "nombre_recovered    16694\n",
    "Name: 547, dtype: int64"
   ]
  },
  {
   "cell_type": "markdown",
   "id": "40407906",
   "metadata": {},
   "source": [
    "nombre_infected       974\n",
    "nombre_sain          1869\n",
    "nombre_exposed        466\n",
    "nombre_recovered    16691\n",
    "Name: 548, dtype: int64"
   ]
  },
  {
   "cell_type": "markdown",
   "id": "3cc65abd",
   "metadata": {},
   "source": [
    "nombre_infected       940\n",
    "nombre_sain          1889\n",
    "nombre_exposed        476\n",
    "nombre_recovered    16695\n",
    "Name: 549, dtype: int64"
   ]
  },
  {
   "cell_type": "markdown",
   "id": "104b53b5",
   "metadata": {},
   "source": [
    "nombre_infected       909\n",
    "nombre_sain          1885\n",
    "nombre_exposed        488\n",
    "nombre_recovered    16718\n",
    "Name: 550, dtype: int64"
   ]
  },
  {
   "cell_type": "markdown",
   "id": "40d95a6c",
   "metadata": {},
   "source": [
    "nombre_infected       915\n",
    "nombre_sain          1904\n",
    "nombre_exposed        485\n",
    "nombre_recovered    16696\n",
    "Name: 551, dtype: int64"
   ]
  },
  {
   "cell_type": "markdown",
   "id": "44a40fa9",
   "metadata": {},
   "source": [
    "nombre_infected       917\n",
    "nombre_sain          1903\n",
    "nombre_exposed        483\n",
    "nombre_recovered    16697\n",
    "Name: 552, dtype: int64"
   ]
  },
  {
   "cell_type": "markdown",
   "id": "f8785344",
   "metadata": {},
   "source": [
    "nombre_infected       946\n",
    "nombre_sain          1919\n",
    "nombre_exposed        467\n",
    "nombre_recovered    16668\n",
    "Name: 553, dtype: int64"
   ]
  },
  {
   "cell_type": "markdown",
   "id": "a6a3665f",
   "metadata": {},
   "source": [
    "nombre_infected       956\n",
    "nombre_sain          1920\n",
    "nombre_exposed        461\n",
    "nombre_recovered    16663\n",
    "Name: 554, dtype: int64"
   ]
  },
  {
   "cell_type": "markdown",
   "id": "fe98e494",
   "metadata": {},
   "source": [
    "nombre_infected       943\n",
    "nombre_sain          1965\n",
    "nombre_exposed        461\n",
    "nombre_recovered    16631\n",
    "Name: 555, dtype: int64"
   ]
  },
  {
   "cell_type": "markdown",
   "id": "9ccea534",
   "metadata": {},
   "source": [
    "nombre_infected       947\n",
    "nombre_sain          1940\n",
    "nombre_exposed        482\n",
    "nombre_recovered    16631\n",
    "Name: 556, dtype: int64"
   ]
  },
  {
   "cell_type": "markdown",
   "id": "422102ee",
   "metadata": {},
   "source": [
    "nombre_infected       931\n",
    "nombre_sain          1963\n",
    "nombre_exposed        499\n",
    "nombre_recovered    16607\n",
    "Name: 557, dtype: int64"
   ]
  },
  {
   "cell_type": "markdown",
   "id": "bff1970e",
   "metadata": {},
   "source": [
    "nombre_infected       937\n",
    "nombre_sain          1960\n",
    "nombre_exposed        509\n",
    "nombre_recovered    16594\n",
    "Name: 558, dtype: int64"
   ]
  },
  {
   "cell_type": "markdown",
   "id": "298ced30",
   "metadata": {},
   "source": [
    "nombre_infected       953\n",
    "nombre_sain          1944\n",
    "nombre_exposed        513\n",
    "nombre_recovered    16590\n",
    "Name: 559, dtype: int64"
   ]
  },
  {
   "cell_type": "markdown",
   "id": "e9c66764",
   "metadata": {},
   "source": [
    "nombre_infected       968\n",
    "nombre_sain          1934\n",
    "nombre_exposed        515\n",
    "nombre_recovered    16583\n",
    "Name: 560, dtype: int64"
   ]
  },
  {
   "cell_type": "markdown",
   "id": "630463d1",
   "metadata": {},
   "source": [
    "nombre_infected       962\n",
    "nombre_sain          1923\n",
    "nombre_exposed        502\n",
    "nombre_recovered    16613\n",
    "Name: 561, dtype: int64"
   ]
  },
  {
   "cell_type": "markdown",
   "id": "68c34391",
   "metadata": {},
   "source": [
    "nombre_infected       961\n",
    "nombre_sain          1911\n",
    "nombre_exposed        509\n",
    "nombre_recovered    16619\n",
    "Name: 562, dtype: int64"
   ]
  },
  {
   "cell_type": "markdown",
   "id": "52b9a9db",
   "metadata": {},
   "source": [
    "nombre_infected       946\n",
    "nombre_sain          1900\n",
    "nombre_exposed        532\n",
    "nombre_recovered    16622\n",
    "Name: 563, dtype: int64"
   ]
  },
  {
   "cell_type": "markdown",
   "id": "f10ff448",
   "metadata": {},
   "source": [
    "nombre_infected       966\n",
    "nombre_sain          1920\n",
    "nombre_exposed        507\n",
    "nombre_recovered    16607\n",
    "Name: 564, dtype: int64"
   ]
  },
  {
   "cell_type": "markdown",
   "id": "53b3bf21",
   "metadata": {},
   "source": [
    "nombre_infected       973\n",
    "nombre_sain          1908\n",
    "nombre_exposed        508\n",
    "nombre_recovered    16611\n",
    "Name: 565, dtype: int64"
   ]
  },
  {
   "cell_type": "markdown",
   "id": "5426f499",
   "metadata": {},
   "source": [
    "nombre_infected       971\n",
    "nombre_sain          1911\n",
    "nombre_exposed        511\n",
    "nombre_recovered    16607\n",
    "Name: 566, dtype: int64"
   ]
  },
  {
   "cell_type": "markdown",
   "id": "1e480c44",
   "metadata": {},
   "source": [
    "nombre_infected       946\n",
    "nombre_sain          1898\n",
    "nombre_exposed        530\n",
    "nombre_recovered    16626\n",
    "Name: 567, dtype: int64"
   ]
  },
  {
   "cell_type": "markdown",
   "id": "3569b345",
   "metadata": {},
   "source": [
    "nombre_infected       932\n",
    "nombre_sain          1909\n",
    "nombre_exposed        523\n",
    "nombre_recovered    16636\n",
    "Name: 568, dtype: int64"
   ]
  },
  {
   "cell_type": "markdown",
   "id": "6e2a3cc5",
   "metadata": {},
   "source": [
    "nombre_infected       935\n",
    "nombre_sain          1929\n",
    "nombre_exposed        509\n",
    "nombre_recovered    16627\n",
    "Name: 569, dtype: int64"
   ]
  },
  {
   "cell_type": "markdown",
   "id": "120aefc0",
   "metadata": {},
   "source": [
    "nombre_infected       948\n",
    "nombre_sain          1895\n",
    "nombre_exposed        529\n",
    "nombre_recovered    16628\n",
    "Name: 570, dtype: int64"
   ]
  },
  {
   "cell_type": "markdown",
   "id": "d4cb5b15",
   "metadata": {},
   "source": [
    "nombre_infected       951\n",
    "nombre_sain          1911\n",
    "nombre_exposed        514\n",
    "nombre_recovered    16624\n",
    "Name: 571, dtype: int64"
   ]
  },
  {
   "cell_type": "markdown",
   "id": "72b8ebd9",
   "metadata": {},
   "source": [
    "nombre_infected       934\n",
    "nombre_sain          1936\n",
    "nombre_exposed        519\n",
    "nombre_recovered    16611\n",
    "Name: 572, dtype: int64"
   ]
  },
  {
   "cell_type": "markdown",
   "id": "aca9c4c3",
   "metadata": {},
   "source": [
    "nombre_infected       924\n",
    "nombre_sain          1955\n",
    "nombre_exposed        510\n",
    "nombre_recovered    16611\n",
    "Name: 573, dtype: int64"
   ]
  },
  {
   "cell_type": "markdown",
   "id": "5cb949f7",
   "metadata": {},
   "source": [
    "nombre_infected       934\n",
    "nombre_sain          1990\n",
    "nombre_exposed        495\n",
    "nombre_recovered    16581\n",
    "Name: 574, dtype: int64"
   ]
  },
  {
   "cell_type": "markdown",
   "id": "33d0e365",
   "metadata": {},
   "source": [
    "nombre_infected       931\n",
    "nombre_sain          2006\n",
    "nombre_exposed        488\n",
    "nombre_recovered    16575\n",
    "Name: 575, dtype: int64"
   ]
  },
  {
   "cell_type": "markdown",
   "id": "18d5b4f0",
   "metadata": {},
   "source": [
    "nombre_infected       911\n",
    "nombre_sain          2004\n",
    "nombre_exposed        496\n",
    "nombre_recovered    16589\n",
    "Name: 576, dtype: int64"
   ]
  },
  {
   "cell_type": "markdown",
   "id": "22b90246",
   "metadata": {},
   "source": [
    "nombre_infected       925\n",
    "nombre_sain          2016\n",
    "nombre_exposed        500\n",
    "nombre_recovered    16559\n",
    "Name: 577, dtype: int64"
   ]
  },
  {
   "cell_type": "markdown",
   "id": "aa5c64b2",
   "metadata": {},
   "source": [
    "nombre_infected       922\n",
    "nombre_sain          2040\n",
    "nombre_exposed        503\n",
    "nombre_recovered    16535\n",
    "Name: 578, dtype: int64"
   ]
  },
  {
   "cell_type": "markdown",
   "id": "66029347",
   "metadata": {},
   "source": [
    "nombre_infected       911\n",
    "nombre_sain          2059\n",
    "nombre_exposed        496\n",
    "nombre_recovered    16534\n",
    "Name: 579, dtype: int64"
   ]
  },
  {
   "cell_type": "markdown",
   "id": "a569044f",
   "metadata": {},
   "source": [
    "nombre_infected       919\n",
    "nombre_sain          2088\n",
    "nombre_exposed        480\n",
    "nombre_recovered    16513\n",
    "Name: 580, dtype: int64"
   ]
  },
  {
   "cell_type": "markdown",
   "id": "6a477542",
   "metadata": {},
   "source": [
    "nombre_infected       905\n",
    "nombre_sain          2095\n",
    "nombre_exposed        487\n",
    "nombre_recovered    16513\n",
    "Name: 581, dtype: int64"
   ]
  },
  {
   "cell_type": "markdown",
   "id": "d7113285",
   "metadata": {},
   "source": [
    "nombre_infected       885\n",
    "nombre_sain          2121\n",
    "nombre_exposed        494\n",
    "nombre_recovered    16500\n",
    "Name: 582, dtype: int64"
   ]
  },
  {
   "cell_type": "markdown",
   "id": "59574e61",
   "metadata": {},
   "source": [
    "nombre_infected       865\n",
    "nombre_sain          2162\n",
    "nombre_exposed        486\n",
    "nombre_recovered    16487\n",
    "Name: 583, dtype: int64"
   ]
  },
  {
   "cell_type": "markdown",
   "id": "1e6b6bd6",
   "metadata": {},
   "source": [
    "nombre_infected       856\n",
    "nombre_sain          2181\n",
    "nombre_exposed        490\n",
    "nombre_recovered    16473\n",
    "Name: 584, dtype: int64"
   ]
  },
  {
   "cell_type": "markdown",
   "id": "7c6bb1f0",
   "metadata": {},
   "source": [
    "nombre_infected       877\n",
    "nombre_sain          2184\n",
    "nombre_exposed        475\n",
    "nombre_recovered    16464\n",
    "Name: 585, dtype: int64"
   ]
  },
  {
   "cell_type": "markdown",
   "id": "55099948",
   "metadata": {},
   "source": [
    "nombre_infected       899\n",
    "nombre_sain          2202\n",
    "nombre_exposed        460\n",
    "nombre_recovered    16439\n",
    "Name: 586, dtype: int64"
   ]
  },
  {
   "cell_type": "markdown",
   "id": "abe0a2c5",
   "metadata": {},
   "source": [
    "nombre_infected       875\n",
    "nombre_sain          2225\n",
    "nombre_exposed        458\n",
    "nombre_recovered    16442\n",
    "Name: 587, dtype: int64"
   ]
  },
  {
   "cell_type": "markdown",
   "id": "4e6333b5",
   "metadata": {},
   "source": [
    "nombre_infected       851\n",
    "nombre_sain          2220\n",
    "nombre_exposed        480\n",
    "nombre_recovered    16449\n",
    "Name: 588, dtype: int64"
   ]
  },
  {
   "cell_type": "markdown",
   "id": "caa1bbd9",
   "metadata": {},
   "source": [
    "nombre_infected       883\n",
    "nombre_sain          2241\n",
    "nombre_exposed        455\n",
    "nombre_recovered    16421\n",
    "Name: 589, dtype: int64"
   ]
  },
  {
   "cell_type": "markdown",
   "id": "718c44b9",
   "metadata": {},
   "source": [
    "nombre_infected       872\n",
    "nombre_sain          2210\n",
    "nombre_exposed        486\n",
    "nombre_recovered    16432\n",
    "Name: 590, dtype: int64"
   ]
  },
  {
   "cell_type": "markdown",
   "id": "f7e17f2c",
   "metadata": {},
   "source": [
    "nombre_infected       865\n",
    "nombre_sain          2215\n",
    "nombre_exposed        507\n",
    "nombre_recovered    16413\n",
    "Name: 591, dtype: int64"
   ]
  },
  {
   "cell_type": "markdown",
   "id": "195984cd",
   "metadata": {},
   "source": [
    "nombre_infected       880\n",
    "nombre_sain          2235\n",
    "nombre_exposed        478\n",
    "nombre_recovered    16407\n",
    "Name: 592, dtype: int64"
   ]
  },
  {
   "cell_type": "markdown",
   "id": "8344145a",
   "metadata": {},
   "source": [
    "nombre_infected       899\n",
    "nombre_sain          2225\n",
    "nombre_exposed        464\n",
    "nombre_recovered    16412\n",
    "Name: 593, dtype: int64"
   ]
  },
  {
   "cell_type": "markdown",
   "id": "6fa49033",
   "metadata": {},
   "source": [
    "nombre_infected       906\n",
    "nombre_sain          2206\n",
    "nombre_exposed        499\n",
    "nombre_recovered    16389\n",
    "Name: 594, dtype: int64"
   ]
  },
  {
   "cell_type": "markdown",
   "id": "fc1bace3",
   "metadata": {},
   "source": [
    "nombre_infected       905\n",
    "nombre_sain          2210\n",
    "nombre_exposed        495\n",
    "nombre_recovered    16390\n",
    "Name: 595, dtype: int64"
   ]
  },
  {
   "cell_type": "markdown",
   "id": "58b13958",
   "metadata": {},
   "source": [
    "nombre_infected       920\n",
    "nombre_sain          2233\n",
    "nombre_exposed        483\n",
    "nombre_recovered    16364\n",
    "Name: 596, dtype: int64"
   ]
  },
  {
   "cell_type": "markdown",
   "id": "ba0a84b8",
   "metadata": {},
   "source": [
    "nombre_infected       915\n",
    "nombre_sain          2237\n",
    "nombre_exposed        496\n",
    "nombre_recovered    16352\n",
    "Name: 597, dtype: int64"
   ]
  },
  {
   "cell_type": "markdown",
   "id": "21d6b812",
   "metadata": {},
   "source": [
    "nombre_infected       914\n",
    "nombre_sain          2237\n",
    "nombre_exposed        505\n",
    "nombre_recovered    16344\n",
    "Name: 598, dtype: int64"
   ]
  },
  {
   "cell_type": "markdown",
   "id": "91a39989",
   "metadata": {},
   "source": [
    "nombre_infected       923\n",
    "nombre_sain          2238\n",
    "nombre_exposed        496\n",
    "nombre_recovered    16343\n",
    "Name: 599, dtype: int64"
   ]
  },
  {
   "cell_type": "markdown",
   "id": "91744f15",
   "metadata": {},
   "source": [
    "nombre_infected       911\n",
    "nombre_sain          2221\n",
    "nombre_exposed        526\n",
    "nombre_recovered    16342\n",
    "Name: 600, dtype: int64"
   ]
  },
  {
   "cell_type": "markdown",
   "id": "ad935b3e",
   "metadata": {},
   "source": [
    "nombre_infected       911\n",
    "nombre_sain          2218\n",
    "nombre_exposed        530\n",
    "nombre_recovered    16341\n",
    "Name: 601, dtype: int64"
   ]
  },
  {
   "cell_type": "markdown",
   "id": "68b9aa4d",
   "metadata": {},
   "source": [
    "nombre_infected       920\n",
    "nombre_sain          2206\n",
    "nombre_exposed        525\n",
    "nombre_recovered    16349\n",
    "Name: 602, dtype: int64"
   ]
  },
  {
   "cell_type": "markdown",
   "id": "bcb31a59",
   "metadata": {},
   "source": [
    "nombre_infected       924\n",
    "nombre_sain          2212\n",
    "nombre_exposed        507\n",
    "nombre_recovered    16357\n",
    "Name: 603, dtype: int64"
   ]
  },
  {
   "cell_type": "markdown",
   "id": "91900e78",
   "metadata": {},
   "source": [
    "nombre_infected       956\n",
    "nombre_sain          2226\n",
    "nombre_exposed        497\n",
    "nombre_recovered    16321\n",
    "Name: 604, dtype: int64"
   ]
  },
  {
   "cell_type": "markdown",
   "id": "ee0a8262",
   "metadata": {},
   "source": [
    "nombre_infected       967\n",
    "nombre_sain          2233\n",
    "nombre_exposed        498\n",
    "nombre_recovered    16302\n",
    "Name: 605, dtype: int64"
   ]
  },
  {
   "cell_type": "markdown",
   "id": "4168b833",
   "metadata": {},
   "source": [
    "nombre_infected       966\n",
    "nombre_sain          2236\n",
    "nombre_exposed        495\n",
    "nombre_recovered    16303\n",
    "Name: 606, dtype: int64"
   ]
  },
  {
   "cell_type": "markdown",
   "id": "b14acef5",
   "metadata": {},
   "source": [
    "nombre_infected       964\n",
    "nombre_sain          2230\n",
    "nombre_exposed        499\n",
    "nombre_recovered    16307\n",
    "Name: 607, dtype: int64"
   ]
  },
  {
   "cell_type": "markdown",
   "id": "b782662c",
   "metadata": {},
   "source": [
    "nombre_infected       965\n",
    "nombre_sain          2242\n",
    "nombre_exposed        530\n",
    "nombre_recovered    16263\n",
    "Name: 608, dtype: int64"
   ]
  },
  {
   "cell_type": "markdown",
   "id": "8d2a3139",
   "metadata": {},
   "source": [
    "nombre_infected       965\n",
    "nombre_sain          2264\n",
    "nombre_exposed        526\n",
    "nombre_recovered    16245\n",
    "Name: 609, dtype: int64"
   ]
  },
  {
   "cell_type": "markdown",
   "id": "8d0bcead",
   "metadata": {},
   "source": [
    "nombre_infected       985\n",
    "nombre_sain          2241\n",
    "nombre_exposed        516\n",
    "nombre_recovered    16258\n",
    "Name: 610, dtype: int64"
   ]
  },
  {
   "cell_type": "markdown",
   "id": "ddc22cb4",
   "metadata": {},
   "source": [
    "nombre_infected       981\n",
    "nombre_sain          2224\n",
    "nombre_exposed        531\n",
    "nombre_recovered    16264\n",
    "Name: 611, dtype: int64"
   ]
  },
  {
   "cell_type": "markdown",
   "id": "e00ded91",
   "metadata": {},
   "source": [
    "nombre_infected       991\n",
    "nombre_sain          2194\n",
    "nombre_exposed        567\n",
    "nombre_recovered    16248\n",
    "Name: 612, dtype: int64"
   ]
  },
  {
   "cell_type": "markdown",
   "id": "041b3a1b",
   "metadata": {},
   "source": [
    "nombre_infected      1002\n",
    "nombre_sain          2203\n",
    "nombre_exposed        564\n",
    "nombre_recovered    16231\n",
    "Name: 613, dtype: int64"
   ]
  },
  {
   "cell_type": "markdown",
   "id": "1d0fef27",
   "metadata": {},
   "source": [
    "nombre_infected      1018\n",
    "nombre_sain          2195\n",
    "nombre_exposed        581\n",
    "nombre_recovered    16206\n",
    "Name: 614, dtype: int64"
   ]
  },
  {
   "cell_type": "markdown",
   "id": "fce4a3d2",
   "metadata": {},
   "source": [
    "nombre_infected      1017\n",
    "nombre_sain          2173\n",
    "nombre_exposed        593\n",
    "nombre_recovered    16217\n",
    "Name: 615, dtype: int64"
   ]
  },
  {
   "cell_type": "markdown",
   "id": "3c22beae",
   "metadata": {},
   "source": [
    "nombre_infected      1023\n",
    "nombre_sain          2152\n",
    "nombre_exposed        606\n",
    "nombre_recovered    16219\n",
    "Name: 616, dtype: int64"
   ]
  },
  {
   "cell_type": "markdown",
   "id": "10ec08fb",
   "metadata": {},
   "source": [
    "nombre_infected      1036\n",
    "nombre_sain          2184\n",
    "nombre_exposed        565\n",
    "nombre_recovered    16215\n",
    "Name: 617, dtype: int64"
   ]
  },
  {
   "cell_type": "markdown",
   "id": "94de1a38",
   "metadata": {},
   "source": [
    "nombre_infected      1046\n",
    "nombre_sain          2162\n",
    "nombre_exposed        571\n",
    "nombre_recovered    16221\n",
    "Name: 618, dtype: int64"
   ]
  },
  {
   "cell_type": "markdown",
   "id": "40747a3d",
   "metadata": {},
   "source": [
    "nombre_infected      1068\n",
    "nombre_sain          2128\n",
    "nombre_exposed        588\n",
    "nombre_recovered    16216\n",
    "Name: 619, dtype: int64"
   ]
  },
  {
   "cell_type": "markdown",
   "id": "dc301570",
   "metadata": {},
   "source": [
    "nombre_infected      1088\n",
    "nombre_sain          2110\n",
    "nombre_exposed        578\n",
    "nombre_recovered    16224\n",
    "Name: 620, dtype: int64"
   ]
  },
  {
   "cell_type": "markdown",
   "id": "75f3c10c",
   "metadata": {},
   "source": [
    "nombre_infected      1072\n",
    "nombre_sain          2083\n",
    "nombre_exposed        596\n",
    "nombre_recovered    16249\n",
    "Name: 621, dtype: int64"
   ]
  },
  {
   "cell_type": "markdown",
   "id": "7599f77b",
   "metadata": {},
   "source": [
    "nombre_infected      1072\n",
    "nombre_sain          2073\n",
    "nombre_exposed        588\n",
    "nombre_recovered    16267\n",
    "Name: 622, dtype: int64"
   ]
  },
  {
   "cell_type": "markdown",
   "id": "16a98f14",
   "metadata": {},
   "source": [
    "nombre_infected      1110\n",
    "nombre_sain          2072\n",
    "nombre_exposed        539\n",
    "nombre_recovered    16279\n",
    "Name: 623, dtype: int64"
   ]
  },
  {
   "cell_type": "markdown",
   "id": "0b00403a",
   "metadata": {},
   "source": [
    "nombre_infected      1125\n",
    "nombre_sain          2077\n",
    "nombre_exposed        525\n",
    "nombre_recovered    16273\n",
    "Name: 624, dtype: int64"
   ]
  },
  {
   "cell_type": "markdown",
   "id": "cfe7c3cb",
   "metadata": {},
   "source": [
    "nombre_infected      1099\n",
    "nombre_sain          2039\n",
    "nombre_exposed        546\n",
    "nombre_recovered    16316\n",
    "Name: 625, dtype: int64"
   ]
  },
  {
   "cell_type": "markdown",
   "id": "32cdca45",
   "metadata": {},
   "source": [
    "nombre_infected      1062\n",
    "nombre_sain          2013\n",
    "nombre_exposed        550\n",
    "nombre_recovered    16375\n",
    "Name: 626, dtype: int64"
   ]
  },
  {
   "cell_type": "markdown",
   "id": "44c5b30b",
   "metadata": {},
   "source": [
    "nombre_infected      1064\n",
    "nombre_sain          1986\n",
    "nombre_exposed        562\n",
    "nombre_recovered    16388\n",
    "Name: 627, dtype: int64"
   ]
  },
  {
   "cell_type": "markdown",
   "id": "dddeebf2",
   "metadata": {},
   "source": [
    "nombre_infected      1055\n",
    "nombre_sain          1952\n",
    "nombre_exposed        565\n",
    "nombre_recovered    16428\n",
    "Name: 628, dtype: int64"
   ]
  },
  {
   "cell_type": "markdown",
   "id": "e9d60a02",
   "metadata": {},
   "source": [
    "nombre_infected      1052\n",
    "nombre_sain          1946\n",
    "nombre_exposed        560\n",
    "nombre_recovered    16442\n",
    "Name: 629, dtype: int64"
   ]
  },
  {
   "cell_type": "markdown",
   "id": "717b3dbe",
   "metadata": {},
   "source": [
    "nombre_infected      1048\n",
    "nombre_sain          1941\n",
    "nombre_exposed        558\n",
    "nombre_recovered    16453\n",
    "Name: 630, dtype: int64"
   ]
  },
  {
   "cell_type": "markdown",
   "id": "7871d501",
   "metadata": {},
   "source": [
    "nombre_infected      1071\n",
    "nombre_sain          1873\n",
    "nombre_exposed        580\n",
    "nombre_recovered    16476\n",
    "Name: 631, dtype: int64"
   ]
  },
  {
   "cell_type": "markdown",
   "id": "c3ce3266",
   "metadata": {},
   "source": [
    "nombre_infected      1061\n",
    "nombre_sain          1826\n",
    "nombre_exposed        586\n",
    "nombre_recovered    16527\n",
    "Name: 632, dtype: int64"
   ]
  },
  {
   "cell_type": "markdown",
   "id": "b7a6c836",
   "metadata": {},
   "source": [
    "nombre_infected      1079\n",
    "nombre_sain          1810\n",
    "nombre_exposed        561\n",
    "nombre_recovered    16550\n",
    "Name: 633, dtype: int64"
   ]
  },
  {
   "cell_type": "markdown",
   "id": "9395168c",
   "metadata": {},
   "source": [
    "nombre_infected      1064\n",
    "nombre_sain          1800\n",
    "nombre_exposed        545\n",
    "nombre_recovered    16591\n",
    "Name: 634, dtype: int64"
   ]
  },
  {
   "cell_type": "markdown",
   "id": "6486f6cd",
   "metadata": {},
   "source": [
    "nombre_infected      1036\n",
    "nombre_sain          1795\n",
    "nombre_exposed        537\n",
    "nombre_recovered    16632\n",
    "Name: 635, dtype: int64"
   ]
  },
  {
   "cell_type": "markdown",
   "id": "0a2bd7cc",
   "metadata": {},
   "source": [
    "nombre_infected      1008\n",
    "nombre_sain          1811\n",
    "nombre_exposed        521\n",
    "nombre_recovered    16660\n",
    "Name: 636, dtype: int64"
   ]
  },
  {
   "cell_type": "markdown",
   "id": "bfe982e5",
   "metadata": {},
   "source": [
    "nombre_infected      1025\n",
    "nombre_sain          1830\n",
    "nombre_exposed        478\n",
    "nombre_recovered    16667\n",
    "Name: 637, dtype: int64"
   ]
  },
  {
   "cell_type": "markdown",
   "id": "9e10f031",
   "metadata": {},
   "source": [
    "nombre_infected       995\n",
    "nombre_sain          1839\n",
    "nombre_exposed        472\n",
    "nombre_recovered    16694\n",
    "Name: 638, dtype: int64"
   ]
  },
  {
   "cell_type": "markdown",
   "id": "1b85b158",
   "metadata": {},
   "source": [
    "nombre_infected       969\n",
    "nombre_sain          1832\n",
    "nombre_exposed        472\n",
    "nombre_recovered    16727\n",
    "Name: 639, dtype: int64"
   ]
  },
  {
   "cell_type": "markdown",
   "id": "5c618153",
   "metadata": {},
   "source": [
    "nombre_infected       939\n",
    "nombre_sain          1841\n",
    "nombre_exposed        478\n",
    "nombre_recovered    16742\n",
    "Name: 640, dtype: int64"
   ]
  },
  {
   "cell_type": "markdown",
   "id": "77c15f47",
   "metadata": {},
   "source": [
    "nombre_infected       918\n",
    "nombre_sain          1840\n",
    "nombre_exposed        487\n",
    "nombre_recovered    16755\n",
    "Name: 641, dtype: int64"
   ]
  },
  {
   "cell_type": "markdown",
   "id": "dae9740d",
   "metadata": {},
   "source": [
    "nombre_infected       901\n",
    "nombre_sain          1854\n",
    "nombre_exposed        485\n",
    "nombre_recovered    16760\n",
    "Name: 642, dtype: int64"
   ]
  },
  {
   "cell_type": "markdown",
   "id": "559a82f6",
   "metadata": {},
   "source": [
    "nombre_infected       910\n",
    "nombre_sain          1868\n",
    "nombre_exposed        463\n",
    "nombre_recovered    16759\n",
    "Name: 643, dtype: int64"
   ]
  },
  {
   "cell_type": "markdown",
   "id": "51102132",
   "metadata": {},
   "source": [
    "nombre_infected       892\n",
    "nombre_sain          1883\n",
    "nombre_exposed        462\n",
    "nombre_recovered    16763\n",
    "Name: 644, dtype: int64"
   ]
  },
  {
   "cell_type": "markdown",
   "id": "0a8672a8",
   "metadata": {},
   "source": [
    "nombre_infected       884\n",
    "nombre_sain          1910\n",
    "nombre_exposed        460\n",
    "nombre_recovered    16746\n",
    "Name: 645, dtype: int64"
   ]
  },
  {
   "cell_type": "markdown",
   "id": "9ad50a59",
   "metadata": {},
   "source": [
    "nombre_infected       889\n",
    "nombre_sain          1914\n",
    "nombre_exposed        468\n",
    "nombre_recovered    16729\n",
    "Name: 646, dtype: int64"
   ]
  },
  {
   "cell_type": "markdown",
   "id": "0776bd1a",
   "metadata": {},
   "source": [
    "nombre_infected       887\n",
    "nombre_sain          1916\n",
    "nombre_exposed        444\n",
    "nombre_recovered    16753\n",
    "Name: 647, dtype: int64"
   ]
  },
  {
   "cell_type": "markdown",
   "id": "72caa6d3",
   "metadata": {},
   "source": [
    "nombre_infected       862\n",
    "nombre_sain          1945\n",
    "nombre_exposed        446\n",
    "nombre_recovered    16747\n",
    "Name: 648, dtype: int64"
   ]
  },
  {
   "cell_type": "markdown",
   "id": "28f5fb63",
   "metadata": {},
   "source": [
    "nombre_infected       845\n",
    "nombre_sain          1948\n",
    "nombre_exposed        446\n",
    "nombre_recovered    16761\n",
    "Name: 649, dtype: int64"
   ]
  },
  {
   "cell_type": "markdown",
   "id": "e393d96f",
   "metadata": {},
   "source": [
    "nombre_infected       851\n",
    "nombre_sain          1949\n",
    "nombre_exposed        449\n",
    "nombre_recovered    16751\n",
    "Name: 650, dtype: int64"
   ]
  },
  {
   "cell_type": "markdown",
   "id": "52d3dbe4",
   "metadata": {},
   "source": [
    "nombre_infected       864\n",
    "nombre_sain          1952\n",
    "nombre_exposed        436\n",
    "nombre_recovered    16748\n",
    "Name: 651, dtype: int64"
   ]
  },
  {
   "cell_type": "markdown",
   "id": "07fd1925",
   "metadata": {},
   "source": [
    "nombre_infected       834\n",
    "nombre_sain          1949\n",
    "nombre_exposed        441\n",
    "nombre_recovered    16776\n",
    "Name: 652, dtype: int64"
   ]
  },
  {
   "cell_type": "markdown",
   "id": "e261087d",
   "metadata": {},
   "source": [
    "nombre_infected       832\n",
    "nombre_sain          1949\n",
    "nombre_exposed        454\n",
    "nombre_recovered    16765\n",
    "Name: 653, dtype: int64"
   ]
  },
  {
   "cell_type": "markdown",
   "id": "8d758ee5",
   "metadata": {},
   "source": [
    "nombre_infected       824\n",
    "nombre_sain          1954\n",
    "nombre_exposed        457\n",
    "nombre_recovered    16765\n",
    "Name: 654, dtype: int64"
   ]
  },
  {
   "cell_type": "markdown",
   "id": "b5d23964",
   "metadata": {},
   "source": [
    "nombre_infected       833\n",
    "nombre_sain          1947\n",
    "nombre_exposed        453\n",
    "nombre_recovered    16767\n",
    "Name: 655, dtype: int64"
   ]
  },
  {
   "cell_type": "markdown",
   "id": "0c985661",
   "metadata": {},
   "source": [
    "nombre_infected       812\n",
    "nombre_sain          1954\n",
    "nombre_exposed        459\n",
    "nombre_recovered    16775\n",
    "Name: 656, dtype: int64"
   ]
  },
  {
   "cell_type": "markdown",
   "id": "309948ee",
   "metadata": {},
   "source": [
    "nombre_infected       806\n",
    "nombre_sain          1957\n",
    "nombre_exposed        464\n",
    "nombre_recovered    16773\n",
    "Name: 657, dtype: int64"
   ]
  },
  {
   "cell_type": "markdown",
   "id": "9d942db6",
   "metadata": {},
   "source": [
    "nombre_infected       813\n",
    "nombre_sain          1963\n",
    "nombre_exposed        460\n",
    "nombre_recovered    16764\n",
    "Name: 658, dtype: int64"
   ]
  },
  {
   "cell_type": "markdown",
   "id": "835ced43",
   "metadata": {},
   "source": [
    "nombre_infected       817\n",
    "nombre_sain          1974\n",
    "nombre_exposed        454\n",
    "nombre_recovered    16755\n",
    "Name: 659, dtype: int64"
   ]
  },
  {
   "cell_type": "markdown",
   "id": "2973c3e2",
   "metadata": {},
   "source": [
    "nombre_infected       816\n",
    "nombre_sain          1982\n",
    "nombre_exposed        444\n",
    "nombre_recovered    16758\n",
    "Name: 660, dtype: int64"
   ]
  },
  {
   "cell_type": "markdown",
   "id": "788372b2",
   "metadata": {},
   "source": [
    "nombre_infected       808\n",
    "nombre_sain          1987\n",
    "nombre_exposed        428\n",
    "nombre_recovered    16777\n",
    "Name: 661, dtype: int64"
   ]
  },
  {
   "cell_type": "markdown",
   "id": "3fbe3bd4",
   "metadata": {},
   "source": [
    "nombre_infected       820\n",
    "nombre_sain          1978\n",
    "nombre_exposed        438\n",
    "nombre_recovered    16764\n",
    "Name: 662, dtype: int64"
   ]
  },
  {
   "cell_type": "markdown",
   "id": "a2096010",
   "metadata": {},
   "source": [
    "nombre_infected       796\n",
    "nombre_sain          1979\n",
    "nombre_exposed        450\n",
    "nombre_recovered    16775\n",
    "Name: 663, dtype: int64"
   ]
  },
  {
   "cell_type": "markdown",
   "id": "61ed1b50",
   "metadata": {},
   "source": [
    "nombre_infected       806\n",
    "nombre_sain          1967\n",
    "nombre_exposed        461\n",
    "nombre_recovered    16766\n",
    "Name: 664, dtype: int64"
   ]
  },
  {
   "cell_type": "markdown",
   "id": "9b1fea62",
   "metadata": {},
   "source": [
    "nombre_infected       819\n",
    "nombre_sain          1981\n",
    "nombre_exposed        448\n",
    "nombre_recovered    16752\n",
    "Name: 665, dtype: int64"
   ]
  },
  {
   "cell_type": "markdown",
   "id": "f5eb40a4",
   "metadata": {},
   "source": [
    "nombre_infected       821\n",
    "nombre_sain          1974\n",
    "nombre_exposed        444\n",
    "nombre_recovered    16761\n",
    "Name: 666, dtype: int64"
   ]
  },
  {
   "cell_type": "markdown",
   "id": "33305a59",
   "metadata": {},
   "source": [
    "nombre_infected       827\n",
    "nombre_sain          1962\n",
    "nombre_exposed        453\n",
    "nombre_recovered    16758\n",
    "Name: 667, dtype: int64"
   ]
  },
  {
   "cell_type": "markdown",
   "id": "16c498ad",
   "metadata": {},
   "source": [
    "nombre_infected       825\n",
    "nombre_sain          2007\n",
    "nombre_exposed        432\n",
    "nombre_recovered    16736\n",
    "Name: 668, dtype: int64"
   ]
  },
  {
   "cell_type": "markdown",
   "id": "4ea0aefb",
   "metadata": {},
   "source": [
    "nombre_infected       827\n",
    "nombre_sain          2032\n",
    "nombre_exposed        409\n",
    "nombre_recovered    16732\n",
    "Name: 669, dtype: int64"
   ]
  },
  {
   "cell_type": "markdown",
   "id": "752bd69f",
   "metadata": {},
   "source": [
    "nombre_infected       813\n",
    "nombre_sain          2048\n",
    "nombre_exposed        421\n",
    "nombre_recovered    16718\n",
    "Name: 670, dtype: int64"
   ]
  },
  {
   "cell_type": "markdown",
   "id": "d35bb24b",
   "metadata": {},
   "source": [
    "nombre_infected       811\n",
    "nombre_sain          2099\n",
    "nombre_exposed        409\n",
    "nombre_recovered    16681\n",
    "Name: 671, dtype: int64"
   ]
  },
  {
   "cell_type": "markdown",
   "id": "e2d62486",
   "metadata": {},
   "source": [
    "nombre_infected       798\n",
    "nombre_sain          2099\n",
    "nombre_exposed        434\n",
    "nombre_recovered    16669\n",
    "Name: 672, dtype: int64"
   ]
  },
  {
   "cell_type": "markdown",
   "id": "f814f3c3",
   "metadata": {},
   "source": [
    "nombre_infected       789\n",
    "nombre_sain          2123\n",
    "nombre_exposed        446\n",
    "nombre_recovered    16642\n",
    "Name: 673, dtype: int64"
   ]
  },
  {
   "cell_type": "markdown",
   "id": "95fcd530",
   "metadata": {},
   "source": [
    "nombre_infected       789\n",
    "nombre_sain          2137\n",
    "nombre_exposed        466\n",
    "nombre_recovered    16608\n",
    "Name: 674, dtype: int64"
   ]
  },
  {
   "cell_type": "markdown",
   "id": "8d6ca540",
   "metadata": {},
   "source": [
    "nombre_infected       791\n",
    "nombre_sain          2179\n",
    "nombre_exposed        455\n",
    "nombre_recovered    16575\n",
    "Name: 675, dtype: int64"
   ]
  },
  {
   "cell_type": "markdown",
   "id": "684e47fb",
   "metadata": {},
   "source": [
    "nombre_infected       823\n",
    "nombre_sain          2166\n",
    "nombre_exposed        453\n",
    "nombre_recovered    16558\n",
    "Name: 676, dtype: int64"
   ]
  },
  {
   "cell_type": "markdown",
   "id": "f51b6e6c",
   "metadata": {},
   "source": [
    "nombre_infected       810\n",
    "nombre_sain          2172\n",
    "nombre_exposed        450\n",
    "nombre_recovered    16568\n",
    "Name: 677, dtype: int64"
   ]
  },
  {
   "cell_type": "markdown",
   "id": "235defcc",
   "metadata": {},
   "source": [
    "nombre_infected       812\n",
    "nombre_sain          2167\n",
    "nombre_exposed        449\n",
    "nombre_recovered    16572\n",
    "Name: 678, dtype: int64"
   ]
  },
  {
   "cell_type": "markdown",
   "id": "b02ad52c",
   "metadata": {},
   "source": [
    "nombre_infected       822\n",
    "nombre_sain          2179\n",
    "nombre_exposed        444\n",
    "nombre_recovered    16555\n",
    "Name: 679, dtype: int64"
   ]
  },
  {
   "cell_type": "markdown",
   "id": "418ddf0d",
   "metadata": {},
   "source": [
    "nombre_infected       794\n",
    "nombre_sain          2200\n",
    "nombre_exposed        459\n",
    "nombre_recovered    16547\n",
    "Name: 680, dtype: int64"
   ]
  },
  {
   "cell_type": "markdown",
   "id": "2d49a05a",
   "metadata": {},
   "source": [
    "nombre_infected       817\n",
    "nombre_sain          2200\n",
    "nombre_exposed        434\n",
    "nombre_recovered    16549\n",
    "Name: 681, dtype: int64"
   ]
  },
  {
   "cell_type": "markdown",
   "id": "2686e125",
   "metadata": {},
   "source": [
    "nombre_infected       829\n",
    "nombre_sain          2183\n",
    "nombre_exposed        436\n",
    "nombre_recovered    16552\n",
    "Name: 682, dtype: int64"
   ]
  },
  {
   "cell_type": "markdown",
   "id": "afb05132",
   "metadata": {},
   "source": [
    "nombre_infected       847\n",
    "nombre_sain          2184\n",
    "nombre_exposed        436\n",
    "nombre_recovered    16533\n",
    "Name: 683, dtype: int64"
   ]
  },
  {
   "cell_type": "markdown",
   "id": "1fbe8fe2",
   "metadata": {},
   "source": [
    "nombre_infected       850\n",
    "nombre_sain          2185\n",
    "nombre_exposed        440\n",
    "nombre_recovered    16525\n",
    "Name: 684, dtype: int64"
   ]
  },
  {
   "cell_type": "markdown",
   "id": "c370190c",
   "metadata": {},
   "source": [
    "nombre_infected       834\n",
    "nombre_sain          2195\n",
    "nombre_exposed        446\n",
    "nombre_recovered    16525\n",
    "Name: 685, dtype: int64"
   ]
  },
  {
   "cell_type": "markdown",
   "id": "91285f6a",
   "metadata": {},
   "source": [
    "nombre_infected       854\n",
    "nombre_sain          2187\n",
    "nombre_exposed        437\n",
    "nombre_recovered    16522\n",
    "Name: 686, dtype: int64"
   ]
  },
  {
   "cell_type": "markdown",
   "id": "0035abf4",
   "metadata": {},
   "source": [
    "nombre_infected       850\n",
    "nombre_sain          2166\n",
    "nombre_exposed        458\n",
    "nombre_recovered    16526\n",
    "Name: 687, dtype: int64"
   ]
  },
  {
   "cell_type": "markdown",
   "id": "2c06b8a6",
   "metadata": {},
   "source": [
    "nombre_infected       832\n",
    "nombre_sain          2161\n",
    "nombre_exposed        486\n",
    "nombre_recovered    16521\n",
    "Name: 688, dtype: int64"
   ]
  },
  {
   "cell_type": "markdown",
   "id": "62172ab2",
   "metadata": {},
   "source": [
    "nombre_infected       842\n",
    "nombre_sain          2139\n",
    "nombre_exposed        488\n",
    "nombre_recovered    16531\n",
    "Name: 689, dtype: int64"
   ]
  },
  {
   "cell_type": "markdown",
   "id": "2bcaa37d",
   "metadata": {},
   "source": [
    "nombre_infected       869\n",
    "nombre_sain          2152\n",
    "nombre_exposed        461\n",
    "nombre_recovered    16518\n",
    "Name: 690, dtype: int64"
   ]
  },
  {
   "cell_type": "markdown",
   "id": "677c7961",
   "metadata": {},
   "source": [
    "nombre_infected       863\n",
    "nombre_sain          2138\n",
    "nombre_exposed        472\n",
    "nombre_recovered    16527\n",
    "Name: 691, dtype: int64"
   ]
  },
  {
   "cell_type": "markdown",
   "id": "d8cfeec2",
   "metadata": {},
   "source": [
    "nombre_infected       868\n",
    "nombre_sain          2115\n",
    "nombre_exposed        481\n",
    "nombre_recovered    16536\n",
    "Name: 692, dtype: int64"
   ]
  },
  {
   "cell_type": "markdown",
   "id": "c049f987",
   "metadata": {},
   "source": [
    "nombre_infected       893\n",
    "nombre_sain          2083\n",
    "nombre_exposed        477\n",
    "nombre_recovered    16547\n",
    "Name: 693, dtype: int64"
   ]
  },
  {
   "cell_type": "markdown",
   "id": "2fcfc0b3",
   "metadata": {},
   "source": [
    "nombre_infected       888\n",
    "nombre_sain          2061\n",
    "nombre_exposed        491\n",
    "nombre_recovered    16560\n",
    "Name: 694, dtype: int64"
   ]
  },
  {
   "cell_type": "markdown",
   "id": "5fd7fe0f",
   "metadata": {},
   "source": [
    "nombre_infected       897\n",
    "nombre_sain          2055\n",
    "nombre_exposed        492\n",
    "nombre_recovered    16556\n",
    "Name: 695, dtype: int64"
   ]
  },
  {
   "cell_type": "markdown",
   "id": "eb8c96af",
   "metadata": {},
   "source": [
    "nombre_infected       898\n",
    "nombre_sain          2055\n",
    "nombre_exposed        505\n",
    "nombre_recovered    16542\n",
    "Name: 696, dtype: int64"
   ]
  },
  {
   "cell_type": "markdown",
   "id": "cea299a9",
   "metadata": {},
   "source": [
    "nombre_infected       926\n",
    "nombre_sain          2054\n",
    "nombre_exposed        487\n",
    "nombre_recovered    16533\n",
    "Name: 697, dtype: int64"
   ]
  },
  {
   "cell_type": "markdown",
   "id": "0734d69d",
   "metadata": {},
   "source": [
    "nombre_infected       936\n",
    "nombre_sain          2046\n",
    "nombre_exposed        492\n",
    "nombre_recovered    16526\n",
    "Name: 698, dtype: int64"
   ]
  },
  {
   "cell_type": "markdown",
   "id": "68cd3e2a",
   "metadata": {},
   "source": [
    "nombre_infected       941\n",
    "nombre_sain          2024\n",
    "nombre_exposed        498\n",
    "nombre_recovered    16537\n",
    "Name: 699, dtype: int64"
   ]
  },
  {
   "cell_type": "markdown",
   "id": "f695bc79",
   "metadata": {},
   "source": [
    "nombre_infected       947\n",
    "nombre_sain          2017\n",
    "nombre_exposed        503\n",
    "nombre_recovered    16533\n",
    "Name: 700, dtype: int64"
   ]
  },
  {
   "cell_type": "markdown",
   "id": "9b282c75",
   "metadata": {},
   "source": [
    "nombre_infected       961\n",
    "nombre_sain          1996\n",
    "nombre_exposed        493\n",
    "nombre_recovered    16550\n",
    "Name: 701, dtype: int64"
   ]
  },
  {
   "cell_type": "markdown",
   "id": "7f3dd845",
   "metadata": {},
   "source": [
    "nombre_infected       956\n",
    "nombre_sain          2012\n",
    "nombre_exposed        503\n",
    "nombre_recovered    16529\n",
    "Name: 702, dtype: int64"
   ]
  },
  {
   "cell_type": "markdown",
   "id": "cf2f4109",
   "metadata": {},
   "source": [
    "nombre_infected       992\n",
    "nombre_sain          2006\n",
    "nombre_exposed        482\n",
    "nombre_recovered    16520\n",
    "Name: 703, dtype: int64"
   ]
  },
  {
   "cell_type": "markdown",
   "id": "e47861c6",
   "metadata": {},
   "source": [
    "nombre_infected       981\n",
    "nombre_sain          1985\n",
    "nombre_exposed        482\n",
    "nombre_recovered    16552\n",
    "Name: 704, dtype: int64"
   ]
  },
  {
   "cell_type": "markdown",
   "id": "e2e16d3f",
   "metadata": {},
   "source": [
    "nombre_infected       961\n",
    "nombre_sain          1947\n",
    "nombre_exposed        531\n",
    "nombre_recovered    16561\n",
    "Name: 705, dtype: int64"
   ]
  },
  {
   "cell_type": "markdown",
   "id": "f3d96a74",
   "metadata": {},
   "source": [
    "nombre_infected       965\n",
    "nombre_sain          1917\n",
    "nombre_exposed        550\n",
    "nombre_recovered    16568\n",
    "Name: 706, dtype: int64"
   ]
  },
  {
   "cell_type": "markdown",
   "id": "ee02f8a2",
   "metadata": {},
   "source": [
    "nombre_infected       994\n",
    "nombre_sain          1906\n",
    "nombre_exposed        538\n",
    "nombre_recovered    16562\n",
    "Name: 707, dtype: int64"
   ]
  },
  {
   "cell_type": "markdown",
   "id": "f3f88e5d",
   "metadata": {},
   "source": [
    "nombre_infected      1000\n",
    "nombre_sain          1873\n",
    "nombre_exposed        532\n",
    "nombre_recovered    16595\n",
    "Name: 708, dtype: int64"
   ]
  },
  {
   "cell_type": "markdown",
   "id": "92e1a94d",
   "metadata": {},
   "source": [
    "nombre_infected      1005\n",
    "nombre_sain          1855\n",
    "nombre_exposed        540\n",
    "nombre_recovered    16600\n",
    "Name: 709, dtype: int64"
   ]
  },
  {
   "cell_type": "markdown",
   "id": "2365cf21",
   "metadata": {},
   "source": [
    "nombre_infected      1032\n",
    "nombre_sain          1843\n",
    "nombre_exposed        517\n",
    "nombre_recovered    16608\n",
    "Name: 710, dtype: int64"
   ]
  },
  {
   "cell_type": "markdown",
   "id": "79e9d6ac",
   "metadata": {},
   "source": [
    "nombre_infected      1036\n",
    "nombre_sain          1828\n",
    "nombre_exposed        501\n",
    "nombre_recovered    16635\n",
    "Name: 711, dtype: int64"
   ]
  },
  {
   "cell_type": "markdown",
   "id": "df18c528",
   "metadata": {},
   "source": [
    "nombre_infected      1033\n",
    "nombre_sain          1789\n",
    "nombre_exposed        517\n",
    "nombre_recovered    16661\n",
    "Name: 712, dtype: int64"
   ]
  },
  {
   "cell_type": "markdown",
   "id": "1a4e6f00",
   "metadata": {},
   "source": [
    "nombre_infected      1015\n",
    "nombre_sain          1779\n",
    "nombre_exposed        537\n",
    "nombre_recovered    16669\n",
    "Name: 713, dtype: int64"
   ]
  },
  {
   "cell_type": "markdown",
   "id": "582a7c73",
   "metadata": {},
   "source": [
    "nombre_infected      1021\n",
    "nombre_sain          1753\n",
    "nombre_exposed        536\n",
    "nombre_recovered    16690\n",
    "Name: 714, dtype: int64"
   ]
  },
  {
   "cell_type": "markdown",
   "id": "c12f6592",
   "metadata": {},
   "source": [
    "nombre_infected      1029\n",
    "nombre_sain          1739\n",
    "nombre_exposed        522\n",
    "nombre_recovered    16710\n",
    "Name: 715, dtype: int64"
   ]
  },
  {
   "cell_type": "markdown",
   "id": "4e718278",
   "metadata": {},
   "source": [
    "nombre_infected      1035\n",
    "nombre_sain          1753\n",
    "nombre_exposed        499\n",
    "nombre_recovered    16713\n",
    "Name: 716, dtype: int64"
   ]
  },
  {
   "cell_type": "markdown",
   "id": "0b9dac73",
   "metadata": {},
   "source": [
    "nombre_infected      1046\n",
    "nombre_sain          1757\n",
    "nombre_exposed        486\n",
    "nombre_recovered    16711\n",
    "Name: 717, dtype: int64"
   ]
  },
  {
   "cell_type": "markdown",
   "id": "ac636e38",
   "metadata": {},
   "source": [
    "nombre_infected      1039\n",
    "nombre_sain          1746\n",
    "nombre_exposed        501\n",
    "nombre_recovered    16714\n",
    "Name: 718, dtype: int64"
   ]
  },
  {
   "cell_type": "markdown",
   "id": "ae08879f",
   "metadata": {},
   "source": [
    "nombre_infected      1022\n",
    "nombre_sain          1754\n",
    "nombre_exposed        507\n",
    "nombre_recovered    16717\n",
    "Name: 719, dtype: int64"
   ]
  },
  {
   "cell_type": "markdown",
   "id": "5f5288e7",
   "metadata": {},
   "source": [
    "nombre_infected      1018\n",
    "nombre_sain          1773\n",
    "nombre_exposed        487\n",
    "nombre_recovered    16722\n",
    "Name: 720, dtype: int64"
   ]
  },
  {
   "cell_type": "markdown",
   "id": "804a3241",
   "metadata": {},
   "source": [
    "nombre_infected      1020\n",
    "nombre_sain          1791\n",
    "nombre_exposed        466\n",
    "nombre_recovered    16723\n",
    "Name: 721, dtype: int64"
   ]
  },
  {
   "cell_type": "markdown",
   "id": "e8ec33a2",
   "metadata": {},
   "source": [
    "nombre_infected      1016\n",
    "nombre_sain          1805\n",
    "nombre_exposed        471\n",
    "nombre_recovered    16708\n",
    "Name: 722, dtype: int64"
   ]
  },
  {
   "cell_type": "markdown",
   "id": "fd266d17",
   "metadata": {},
   "source": [
    "nombre_infected       992\n",
    "nombre_sain          1811\n",
    "nombre_exposed        492\n",
    "nombre_recovered    16705\n",
    "Name: 723, dtype: int64"
   ]
  },
  {
   "cell_type": "markdown",
   "id": "e3a0bbc9",
   "metadata": {},
   "source": [
    "nombre_infected      1006\n",
    "nombre_sain          1791\n",
    "nombre_exposed        490\n",
    "nombre_recovered    16713\n",
    "Name: 724, dtype: int64"
   ]
  },
  {
   "cell_type": "markdown",
   "id": "224ebf5f",
   "metadata": {},
   "source": [
    "nombre_infected       981\n",
    "nombre_sain          1803\n",
    "nombre_exposed        484\n",
    "nombre_recovered    16732\n",
    "Name: 725, dtype: int64"
   ]
  },
  {
   "cell_type": "markdown",
   "id": "ef2cf59c",
   "metadata": {},
   "source": [
    "nombre_infected       982\n",
    "nombre_sain          1831\n",
    "nombre_exposed        484\n",
    "nombre_recovered    16703\n",
    "Name: 726, dtype: int64"
   ]
  },
  {
   "cell_type": "markdown",
   "id": "e2cb600a",
   "metadata": {},
   "source": [
    "nombre_infected       977\n",
    "nombre_sain          1837\n",
    "nombre_exposed        489\n",
    "nombre_recovered    16697\n",
    "Name: 727, dtype: int64"
   ]
  },
  {
   "cell_type": "markdown",
   "id": "314cd6cc",
   "metadata": {},
   "source": [
    "nombre_infected       961\n",
    "nombre_sain          1867\n",
    "nombre_exposed        503\n",
    "nombre_recovered    16669\n",
    "Name: 728, dtype: int64"
   ]
  },
  {
   "cell_type": "markdown",
   "id": "0ab663d6",
   "metadata": {},
   "source": [
    "nombre_infected       938\n",
    "nombre_sain          1888\n",
    "nombre_exposed        517\n",
    "nombre_recovered    16657\n",
    "Name: 729, dtype: int64"
   ]
  },
  {
   "cell_type": "markdown",
   "id": "7e9d2a93",
   "metadata": {},
   "source": [
    "nombre_infected       944\n",
    "nombre_sain          1903\n",
    "nombre_exposed        521\n",
    "nombre_recovered    16632\n",
    "Name: 730, dtype: int64"
   ]
  }
 ],
 "metadata": {},
 "nbformat": 4,
 "nbformat_minor": 5
}
