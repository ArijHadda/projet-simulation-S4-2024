{
 "cells": [
  {
   "cell_type": "markdown",
   "id": "21a2b77c",
   "metadata": {},
   "source": [
    "nombre_infected        20\n",
    "nombre_sain         19980\n",
    "nombre_exposed          0\n",
    "nombre_recovered        0\n",
    "Name: 0, dtype: int64"
   ]
  },
  {
   "cell_type": "markdown",
   "id": "a6190cf7",
   "metadata": {},
   "source": [
    "nombre_infected        20\n",
    "nombre_sain         19968\n",
    "nombre_exposed         12\n",
    "nombre_recovered        0\n",
    "Name: 1, dtype: int64"
   ]
  },
  {
   "cell_type": "markdown",
   "id": "538e151f",
   "metadata": {},
   "source": [
    "nombre_infected        20\n",
    "nombre_sain         19943\n",
    "nombre_exposed         37\n",
    "nombre_recovered        0\n",
    "Name: 2, dtype: int64"
   ]
  },
  {
   "cell_type": "markdown",
   "id": "cced9e12",
   "metadata": {},
   "source": [
    "nombre_infected         2\n",
    "nombre_sain         19923\n",
    "nombre_exposed         55\n",
    "nombre_recovered       20\n",
    "Name: 3, dtype: int64"
   ]
  },
  {
   "cell_type": "markdown",
   "id": "8ef97550",
   "metadata": {},
   "source": [
    "nombre_infected        11\n",
    "nombre_sain         19911\n",
    "nombre_exposed         58\n",
    "nombre_recovered       20\n",
    "Name: 4, dtype: int64"
   ]
  },
  {
   "cell_type": "markdown",
   "id": "1bd1d1ed",
   "metadata": {},
   "source": [
    "nombre_infected        22\n",
    "nombre_sain         19896\n",
    "nombre_exposed         62\n",
    "nombre_recovered       20\n",
    "Name: 5, dtype: int64"
   ]
  },
  {
   "cell_type": "markdown",
   "id": "42690c41",
   "metadata": {},
   "source": [
    "nombre_infected        39\n",
    "nombre_sain         19861\n",
    "nombre_exposed         79\n",
    "nombre_recovered       21\n",
    "Name: 6, dtype: int64"
   ]
  },
  {
   "cell_type": "markdown",
   "id": "9bf9b71d",
   "metadata": {},
   "source": [
    "nombre_infected        43\n",
    "nombre_sain         19809\n",
    "nombre_exposed        119\n",
    "nombre_recovered       29\n",
    "Name: 7, dtype: int64"
   ]
  },
  {
   "cell_type": "markdown",
   "id": "16d6b1f9",
   "metadata": {},
   "source": [
    "nombre_infected        60\n",
    "nombre_sain         19758\n",
    "nombre_exposed        152\n",
    "nombre_recovered       30\n",
    "Name: 8, dtype: int64"
   ]
  },
  {
   "cell_type": "markdown",
   "id": "621be658",
   "metadata": {},
   "source": [
    "nombre_infected        79\n",
    "nombre_sain         19674\n",
    "nombre_exposed        212\n",
    "nombre_recovered       35\n",
    "Name: 9, dtype: int64"
   ]
  },
  {
   "cell_type": "markdown",
   "id": "1aeb9bb8",
   "metadata": {},
   "source": [
    "nombre_infected       100\n",
    "nombre_sain         19554\n",
    "nombre_exposed        301\n",
    "nombre_recovered       45\n",
    "Name: 10, dtype: int64"
   ]
  },
  {
   "cell_type": "markdown",
   "id": "b446c278",
   "metadata": {},
   "source": [
    "nombre_infected       141\n",
    "nombre_sain         19405\n",
    "nombre_exposed        402\n",
    "nombre_recovered       52\n",
    "Name: 11, dtype: int64"
   ]
  },
  {
   "cell_type": "markdown",
   "id": "fe6e8f1e",
   "metadata": {},
   "source": [
    "nombre_infected       199\n",
    "nombre_sain         19207\n",
    "nombre_exposed        527\n",
    "nombre_recovered       67\n",
    "Name: 12, dtype: int64"
   ]
  },
  {
   "cell_type": "markdown",
   "id": "803a0cd3",
   "metadata": {},
   "source": [
    "nombre_infected       281\n",
    "nombre_sain         18932\n",
    "nombre_exposed        708\n",
    "nombre_recovered       79\n",
    "Name: 13, dtype: int64"
   ]
  },
  {
   "cell_type": "markdown",
   "id": "d56e0aaf",
   "metadata": {},
   "source": [
    "nombre_infected       373\n",
    "nombre_sain         18519\n",
    "nombre_exposed       1010\n",
    "nombre_recovered       98\n",
    "Name: 14, dtype: int64"
   ]
  },
  {
   "cell_type": "markdown",
   "id": "06a6e0ab",
   "metadata": {},
   "source": [
    "nombre_infected       493\n",
    "nombre_sain         18070\n",
    "nombre_exposed       1309\n",
    "nombre_recovered      128\n",
    "Name: 15, dtype: int64"
   ]
  },
  {
   "cell_type": "markdown",
   "id": "2dfa57fd",
   "metadata": {},
   "source": [
    "nombre_infected       658\n",
    "nombre_sain         17450\n",
    "nombre_exposed       1717\n",
    "nombre_recovered      175\n",
    "Name: 16, dtype: int64"
   ]
  },
  {
   "cell_type": "markdown",
   "id": "74304448",
   "metadata": {},
   "source": [
    "nombre_infected       874\n",
    "nombre_sain         16624\n",
    "nombre_exposed       2273\n",
    "nombre_recovered      229\n",
    "Name: 17, dtype: int64"
   ]
  },
  {
   "cell_type": "markdown",
   "id": "f7600ff7",
   "metadata": {},
   "source": [
    "nombre_infected      1151\n",
    "nombre_sain         15628\n",
    "nombre_exposed       2905\n",
    "nombre_recovered      316\n",
    "Name: 18, dtype: int64"
   ]
  },
  {
   "cell_type": "markdown",
   "id": "5a64ed81",
   "metadata": {},
   "source": [
    "nombre_infected      1512\n",
    "nombre_sain         14476\n",
    "nombre_exposed       3577\n",
    "nombre_recovered      435\n",
    "Name: 19, dtype: int64"
   ]
  },
  {
   "cell_type": "markdown",
   "id": "ef793634",
   "metadata": {},
   "source": [
    "nombre_infected      1985\n",
    "nombre_sain         12999\n",
    "nombre_exposed       4440\n",
    "nombre_recovered      576\n",
    "Name: 20, dtype: int64"
   ]
  },
  {
   "cell_type": "markdown",
   "id": "6795d59a",
   "metadata": {},
   "source": [
    "nombre_infected      2572\n",
    "nombre_sain         11436\n",
    "nombre_exposed       5226\n",
    "nombre_recovered      766\n",
    "Name: 21, dtype: int64"
   ]
  },
  {
   "cell_type": "markdown",
   "id": "02da60b8",
   "metadata": {},
   "source": [
    "nombre_infected     3322\n",
    "nombre_sain         9667\n",
    "nombre_exposed      6017\n",
    "nombre_recovered     994\n",
    "Name: 22, dtype: int64"
   ]
  },
  {
   "cell_type": "markdown",
   "id": "73d679cc",
   "metadata": {},
   "source": [
    "nombre_infected     4031\n",
    "nombre_sain         7918\n",
    "nombre_exposed      6713\n",
    "nombre_recovered    1338\n",
    "Name: 23, dtype: int64"
   ]
  },
  {
   "cell_type": "markdown",
   "id": "b523b510",
   "metadata": {},
   "source": [
    "nombre_infected     4951\n",
    "nombre_sain         6268\n",
    "nombre_exposed      7079\n",
    "nombre_recovered    1702\n",
    "Name: 24, dtype: int64"
   ]
  },
  {
   "cell_type": "markdown",
   "id": "94e7e9c5",
   "metadata": {},
   "source": [
    "nombre_infected     5814\n",
    "nombre_sain         4735\n",
    "nombre_exposed      7268\n",
    "nombre_recovered    2183\n",
    "Name: 25, dtype: int64"
   ]
  },
  {
   "cell_type": "markdown",
   "id": "e210fd2c",
   "metadata": {},
   "source": [
    "nombre_infected     6646\n",
    "nombre_sain         3434\n",
    "nombre_exposed      7148\n",
    "nombre_recovered    2772\n",
    "Name: 26, dtype: int64"
   ]
  },
  {
   "cell_type": "markdown",
   "id": "e617f8ba",
   "metadata": {},
   "source": [
    "nombre_infected     7557\n",
    "nombre_sain         2432\n",
    "nombre_exposed      6622\n",
    "nombre_recovered    3389\n",
    "Name: 27, dtype: int64"
   ]
  },
  {
   "cell_type": "markdown",
   "id": "4683e6dc",
   "metadata": {},
   "source": [
    "nombre_infected     8267\n",
    "nombre_sain         1713\n",
    "nombre_exposed      5902\n",
    "nombre_recovered    4118\n",
    "Name: 28, dtype: int64"
   ]
  },
  {
   "cell_type": "markdown",
   "id": "19c4ed85",
   "metadata": {},
   "source": [
    "nombre_infected     8642\n",
    "nombre_sain         1168\n",
    "nombre_exposed      5174\n",
    "nombre_recovered    5016\n",
    "Name: 29, dtype: int64"
   ]
  },
  {
   "cell_type": "markdown",
   "id": "abf9b4b1",
   "metadata": {},
   "source": [
    "nombre_infected     8906\n",
    "nombre_sain          777\n",
    "nombre_exposed      4395\n",
    "nombre_recovered    5922\n",
    "Name: 30, dtype: int64"
   ]
  },
  {
   "cell_type": "markdown",
   "id": "99da3d47",
   "metadata": {},
   "source": [
    "nombre_infected     8937\n",
    "nombre_sain          505\n",
    "nombre_exposed      3671\n",
    "nombre_recovered    6887\n",
    "Name: 31, dtype: int64"
   ]
  },
  {
   "cell_type": "markdown",
   "id": "7e2f27f3",
   "metadata": {},
   "source": [
    "nombre_infected     8897\n",
    "nombre_sain          354\n",
    "nombre_exposed      2917\n",
    "nombre_recovered    7832\n",
    "Name: 32, dtype: int64"
   ]
  },
  {
   "cell_type": "markdown",
   "id": "735b9b86",
   "metadata": {},
   "source": [
    "nombre_infected     8612\n",
    "nombre_sain          242\n",
    "nombre_exposed      2326\n",
    "nombre_recovered    8820\n",
    "Name: 33, dtype: int64"
   ]
  },
  {
   "cell_type": "markdown",
   "id": "41ca3c75",
   "metadata": {},
   "source": [
    "nombre_infected     8217\n",
    "nombre_sain          171\n",
    "nombre_exposed      1841\n",
    "nombre_recovered    9771\n",
    "Name: 34, dtype: int64"
   ]
  },
  {
   "cell_type": "markdown",
   "id": "eb441e6b",
   "metadata": {},
   "source": [
    "nombre_infected      7711\n",
    "nombre_sain           134\n",
    "nombre_exposed       1423\n",
    "nombre_recovered    10732\n",
    "Name: 35, dtype: int64"
   ]
  },
  {
   "cell_type": "markdown",
   "id": "e140b24c",
   "metadata": {},
   "source": [
    "nombre_infected      7220\n",
    "nombre_sain           100\n",
    "nombre_exposed       1078\n",
    "nombre_recovered    11602\n",
    "Name: 36, dtype: int64"
   ]
  },
  {
   "cell_type": "markdown",
   "id": "f0525c40",
   "metadata": {},
   "source": [
    "nombre_infected      6625\n",
    "nombre_sain            88\n",
    "nombre_exposed        808\n",
    "nombre_recovered    12479\n",
    "Name: 37, dtype: int64"
   ]
  },
  {
   "cell_type": "markdown",
   "id": "9cc805ee",
   "metadata": {},
   "source": [
    "nombre_infected      5999\n",
    "nombre_sain            73\n",
    "nombre_exposed        598\n",
    "nombre_recovered    13330\n",
    "Name: 38, dtype: int64"
   ]
  },
  {
   "cell_type": "markdown",
   "id": "4ea431a1",
   "metadata": {},
   "source": [
    "nombre_infected      5429\n",
    "nombre_sain            77\n",
    "nombre_exposed        453\n",
    "nombre_recovered    14041\n",
    "Name: 39, dtype: int64"
   ]
  },
  {
   "cell_type": "markdown",
   "id": "f58b8d68",
   "metadata": {},
   "source": [
    "nombre_infected      4815\n",
    "nombre_sain            76\n",
    "nombre_exposed        355\n",
    "nombre_recovered    14754\n",
    "Name: 40, dtype: int64"
   ]
  },
  {
   "cell_type": "markdown",
   "id": "ef8defd8",
   "metadata": {},
   "source": [
    "nombre_infected      4287\n",
    "nombre_sain            90\n",
    "nombre_exposed        280\n",
    "nombre_recovered    15343\n",
    "Name: 41, dtype: int64"
   ]
  },
  {
   "cell_type": "markdown",
   "id": "f109c5c8",
   "metadata": {},
   "source": [
    "nombre_infected      3804\n",
    "nombre_sain           100\n",
    "nombre_exposed        211\n",
    "nombre_recovered    15885\n",
    "Name: 42, dtype: int64"
   ]
  },
  {
   "cell_type": "markdown",
   "id": "23281fa1",
   "metadata": {},
   "source": [
    "nombre_infected      3351\n",
    "nombre_sain           109\n",
    "nombre_exposed        170\n",
    "nombre_recovered    16370\n",
    "Name: 43, dtype: int64"
   ]
  },
  {
   "cell_type": "markdown",
   "id": "f00d3aa0",
   "metadata": {},
   "source": [
    "nombre_infected      2944\n",
    "nombre_sain           123\n",
    "nombre_exposed        142\n",
    "nombre_recovered    16791\n",
    "Name: 44, dtype: int64"
   ]
  },
  {
   "cell_type": "markdown",
   "id": "0dc99708",
   "metadata": {},
   "source": [
    "nombre_infected      2562\n",
    "nombre_sain           130\n",
    "nombre_exposed        121\n",
    "nombre_recovered    17187\n",
    "Name: 45, dtype: int64"
   ]
  },
  {
   "cell_type": "markdown",
   "id": "80d9b058",
   "metadata": {},
   "source": [
    "nombre_infected      2226\n",
    "nombre_sain           150\n",
    "nombre_exposed        109\n",
    "nombre_recovered    17515\n",
    "Name: 46, dtype: int64"
   ]
  },
  {
   "cell_type": "markdown",
   "id": "18b31e2b",
   "metadata": {},
   "source": [
    "nombre_infected      1925\n",
    "nombre_sain           171\n",
    "nombre_exposed         99\n",
    "nombre_recovered    17805\n",
    "Name: 47, dtype: int64"
   ]
  },
  {
   "cell_type": "markdown",
   "id": "9c82246d",
   "metadata": {},
   "source": [
    "nombre_infected      1679\n",
    "nombre_sain           206\n",
    "nombre_exposed         93\n",
    "nombre_recovered    18022\n",
    "Name: 48, dtype: int64"
   ]
  },
  {
   "cell_type": "markdown",
   "id": "9c923895",
   "metadata": {},
   "source": [
    "nombre_infected      1458\n",
    "nombre_sain           232\n",
    "nombre_exposed         90\n",
    "nombre_recovered    18220\n",
    "Name: 49, dtype: int64"
   ]
  },
  {
   "cell_type": "markdown",
   "id": "b85cd7a3",
   "metadata": {},
   "source": [
    "nombre_infected      1293\n",
    "nombre_sain           262\n",
    "nombre_exposed         91\n",
    "nombre_recovered    18354\n",
    "Name: 50, dtype: int64"
   ]
  },
  {
   "cell_type": "markdown",
   "id": "97b5b369",
   "metadata": {},
   "source": [
    "nombre_infected      1110\n",
    "nombre_sain           292\n",
    "nombre_exposed         92\n",
    "nombre_recovered    18506\n",
    "Name: 51, dtype: int64"
   ]
  },
  {
   "cell_type": "markdown",
   "id": "89fd479a",
   "metadata": {},
   "source": [
    "nombre_infected       978\n",
    "nombre_sain           316\n",
    "nombre_exposed         85\n",
    "nombre_recovered    18621\n",
    "Name: 52, dtype: int64"
   ]
  },
  {
   "cell_type": "markdown",
   "id": "82dce0c3",
   "metadata": {},
   "source": [
    "nombre_infected       876\n",
    "nombre_sain           338\n",
    "nombre_exposed         86\n",
    "nombre_recovered    18700\n",
    "Name: 53, dtype: int64"
   ]
  },
  {
   "cell_type": "markdown",
   "id": "03492a92",
   "metadata": {},
   "source": [
    "nombre_infected       783\n",
    "nombre_sain           376\n",
    "nombre_exposed         83\n",
    "nombre_recovered    18758\n",
    "Name: 54, dtype: int64"
   ]
  },
  {
   "cell_type": "markdown",
   "id": "b2b36ca5",
   "metadata": {},
   "source": [
    "nombre_infected       695\n",
    "nombre_sain           398\n",
    "nombre_exposed         94\n",
    "nombre_recovered    18813\n",
    "Name: 55, dtype: int64"
   ]
  },
  {
   "cell_type": "markdown",
   "id": "5470cc41",
   "metadata": {},
   "source": [
    "nombre_infected       622\n",
    "nombre_sain           450\n",
    "nombre_exposed         93\n",
    "nombre_recovered    18835\n",
    "Name: 56, dtype: int64"
   ]
  },
  {
   "cell_type": "markdown",
   "id": "be12727a",
   "metadata": {},
   "source": [
    "nombre_infected       570\n",
    "nombre_sain           493\n",
    "nombre_exposed         86\n",
    "nombre_recovered    18851\n",
    "Name: 57, dtype: int64"
   ]
  },
  {
   "cell_type": "markdown",
   "id": "6d4f11c7",
   "metadata": {},
   "source": [
    "nombre_infected       518\n",
    "nombre_sain           553\n",
    "nombre_exposed         80\n",
    "nombre_recovered    18849\n",
    "Name: 58, dtype: int64"
   ]
  },
  {
   "cell_type": "markdown",
   "id": "ef0eeb40",
   "metadata": {},
   "source": [
    "nombre_infected       469\n",
    "nombre_sain           603\n",
    "nombre_exposed         77\n",
    "nombre_recovered    18851\n",
    "Name: 59, dtype: int64"
   ]
  },
  {
   "cell_type": "markdown",
   "id": "25d68561",
   "metadata": {},
   "source": [
    "nombre_infected       436\n",
    "nombre_sain           637\n",
    "nombre_exposed         79\n",
    "nombre_recovered    18848\n",
    "Name: 60, dtype: int64"
   ]
  },
  {
   "cell_type": "markdown",
   "id": "21e0aab4",
   "metadata": {},
   "source": [
    "nombre_infected       406\n",
    "nombre_sain           678\n",
    "nombre_exposed         84\n",
    "nombre_recovered    18832\n",
    "Name: 61, dtype: int64"
   ]
  },
  {
   "cell_type": "markdown",
   "id": "3ea01c53",
   "metadata": {},
   "source": [
    "nombre_infected       380\n",
    "nombre_sain           704\n",
    "nombre_exposed         93\n",
    "nombre_recovered    18823\n",
    "Name: 62, dtype: int64"
   ]
  },
  {
   "cell_type": "markdown",
   "id": "0a76f417",
   "metadata": {},
   "source": [
    "nombre_infected       352\n",
    "nombre_sain           752\n",
    "nombre_exposed         92\n",
    "nombre_recovered    18804\n",
    "Name: 63, dtype: int64"
   ]
  },
  {
   "cell_type": "markdown",
   "id": "daeef3d2",
   "metadata": {},
   "source": [
    "nombre_infected       330\n",
    "nombre_sain           784\n",
    "nombre_exposed         93\n",
    "nombre_recovered    18793\n",
    "Name: 64, dtype: int64"
   ]
  },
  {
   "cell_type": "markdown",
   "id": "52a8a2fd",
   "metadata": {},
   "source": [
    "nombre_infected       310\n",
    "nombre_sain           827\n",
    "nombre_exposed         80\n",
    "nombre_recovered    18783\n",
    "Name: 65, dtype: int64"
   ]
  },
  {
   "cell_type": "markdown",
   "id": "91a9b2ef",
   "metadata": {},
   "source": [
    "nombre_infected       297\n",
    "nombre_sain           876\n",
    "nombre_exposed         72\n",
    "nombre_recovered    18755\n",
    "Name: 66, dtype: int64"
   ]
  },
  {
   "cell_type": "markdown",
   "id": "646837e2",
   "metadata": {},
   "source": [
    "nombre_infected       279\n",
    "nombre_sain           906\n",
    "nombre_exposed         68\n",
    "nombre_recovered    18747\n",
    "Name: 67, dtype: int64"
   ]
  },
  {
   "cell_type": "markdown",
   "id": "1a035e39",
   "metadata": {},
   "source": [
    "nombre_infected       271\n",
    "nombre_sain           936\n",
    "nombre_exposed         70\n",
    "nombre_recovered    18723\n",
    "Name: 68, dtype: int64"
   ]
  },
  {
   "cell_type": "markdown",
   "id": "96d8b9ca",
   "metadata": {},
   "source": [
    "nombre_infected       240\n",
    "nombre_sain           968\n",
    "nombre_exposed         72\n",
    "nombre_recovered    18720\n",
    "Name: 69, dtype: int64"
   ]
  },
  {
   "cell_type": "markdown",
   "id": "99dfa06d",
   "metadata": {},
   "source": [
    "nombre_infected       225\n",
    "nombre_sain          1015\n",
    "nombre_exposed         66\n",
    "nombre_recovered    18694\n",
    "Name: 70, dtype: int64"
   ]
  },
  {
   "cell_type": "markdown",
   "id": "2d76bc84",
   "metadata": {},
   "source": [
    "nombre_infected       212\n",
    "nombre_sain          1049\n",
    "nombre_exposed         60\n",
    "nombre_recovered    18679\n",
    "Name: 71, dtype: int64"
   ]
  },
  {
   "cell_type": "markdown",
   "id": "a8e8ae9b",
   "metadata": {},
   "source": [
    "nombre_infected       204\n",
    "nombre_sain          1081\n",
    "nombre_exposed         59\n",
    "nombre_recovered    18656\n",
    "Name: 72, dtype: int64"
   ]
  },
  {
   "cell_type": "markdown",
   "id": "fbb82c3f",
   "metadata": {},
   "source": [
    "nombre_infected       196\n",
    "nombre_sain          1119\n",
    "nombre_exposed         55\n",
    "nombre_recovered    18630\n",
    "Name: 73, dtype: int64"
   ]
  },
  {
   "cell_type": "markdown",
   "id": "86ad6e35",
   "metadata": {},
   "source": [
    "nombre_infected       182\n",
    "nombre_sain          1148\n",
    "nombre_exposed         56\n",
    "nombre_recovered    18614\n",
    "Name: 74, dtype: int64"
   ]
  },
  {
   "cell_type": "markdown",
   "id": "86b33cc2",
   "metadata": {},
   "source": [
    "nombre_infected       167\n",
    "nombre_sain          1190\n",
    "nombre_exposed         50\n",
    "nombre_recovered    18593\n",
    "Name: 75, dtype: int64"
   ]
  },
  {
   "cell_type": "markdown",
   "id": "a0a907cb",
   "metadata": {},
   "source": [
    "nombre_infected       154\n",
    "nombre_sain          1227\n",
    "nombre_exposed         40\n",
    "nombre_recovered    18579\n",
    "Name: 76, dtype: int64"
   ]
  },
  {
   "cell_type": "markdown",
   "id": "e0479241",
   "metadata": {},
   "source": [
    "nombre_infected       142\n",
    "nombre_sain          1264\n",
    "nombre_exposed         40\n",
    "nombre_recovered    18554\n",
    "Name: 77, dtype: int64"
   ]
  },
  {
   "cell_type": "markdown",
   "id": "7d3e5746",
   "metadata": {},
   "source": [
    "nombre_infected       135\n",
    "nombre_sain          1303\n",
    "nombre_exposed         40\n",
    "nombre_recovered    18522\n",
    "Name: 78, dtype: int64"
   ]
  },
  {
   "cell_type": "markdown",
   "id": "9dada9c1",
   "metadata": {},
   "source": [
    "nombre_infected       130\n",
    "nombre_sain          1341\n",
    "nombre_exposed         43\n",
    "nombre_recovered    18486\n",
    "Name: 79, dtype: int64"
   ]
  },
  {
   "cell_type": "markdown",
   "id": "66cb6a03",
   "metadata": {},
   "source": [
    "nombre_infected       116\n",
    "nombre_sain          1383\n",
    "nombre_exposed         44\n",
    "nombre_recovered    18457\n",
    "Name: 80, dtype: int64"
   ]
  },
  {
   "cell_type": "markdown",
   "id": "d31c7780",
   "metadata": {},
   "source": [
    "nombre_infected       101\n",
    "nombre_sain          1424\n",
    "nombre_exposed         44\n",
    "nombre_recovered    18431\n",
    "Name: 81, dtype: int64"
   ]
  },
  {
   "cell_type": "markdown",
   "id": "b4d404cf",
   "metadata": {},
   "source": [
    "nombre_infected        95\n",
    "nombre_sain          1461\n",
    "nombre_exposed         46\n",
    "nombre_recovered    18398\n",
    "Name: 82, dtype: int64"
   ]
  },
  {
   "cell_type": "markdown",
   "id": "a2a21832",
   "metadata": {},
   "source": [
    "nombre_infected        88\n",
    "nombre_sain          1506\n",
    "nombre_exposed         57\n",
    "nombre_recovered    18349\n",
    "Name: 83, dtype: int64"
   ]
  },
  {
   "cell_type": "markdown",
   "id": "6544dd70",
   "metadata": {},
   "source": [
    "nombre_infected        78\n",
    "nombre_sain          1544\n",
    "nombre_exposed         59\n",
    "nombre_recovered    18319\n",
    "Name: 84, dtype: int64"
   ]
  },
  {
   "cell_type": "markdown",
   "id": "c847bc71",
   "metadata": {},
   "source": [
    "nombre_infected        71\n",
    "nombre_sain          1590\n",
    "nombre_exposed         62\n",
    "nombre_recovered    18277\n",
    "Name: 85, dtype: int64"
   ]
  },
  {
   "cell_type": "markdown",
   "id": "50060fb1",
   "metadata": {},
   "source": [
    "nombre_infected        77\n",
    "nombre_sain          1629\n",
    "nombre_exposed         54\n",
    "nombre_recovered    18240\n",
    "Name: 86, dtype: int64"
   ]
  },
  {
   "cell_type": "markdown",
   "id": "75efc855",
   "metadata": {},
   "source": [
    "nombre_infected        73\n",
    "nombre_sain          1694\n",
    "nombre_exposed         53\n",
    "nombre_recovered    18180\n",
    "Name: 87, dtype: int64"
   ]
  },
  {
   "cell_type": "markdown",
   "id": "b3755d66",
   "metadata": {},
   "source": [
    "nombre_infected        73\n",
    "nombre_sain          1752\n",
    "nombre_exposed         46\n",
    "nombre_recovered    18129\n",
    "Name: 88, dtype: int64"
   ]
  },
  {
   "cell_type": "markdown",
   "id": "900da48b",
   "metadata": {},
   "source": [
    "nombre_infected        76\n",
    "nombre_sain          1793\n",
    "nombre_exposed         40\n",
    "nombre_recovered    18091\n",
    "Name: 89, dtype: int64"
   ]
  },
  {
   "cell_type": "markdown",
   "id": "f1a9f930",
   "metadata": {},
   "source": [
    "nombre_infected        73\n",
    "nombre_sain          1839\n",
    "nombre_exposed         41\n",
    "nombre_recovered    18047\n",
    "Name: 90, dtype: int64"
   ]
  },
  {
   "cell_type": "markdown",
   "id": "b6b05b9c",
   "metadata": {},
   "source": [
    "nombre_infected        70\n",
    "nombre_sain          1888\n",
    "nombre_exposed         38\n",
    "nombre_recovered    18004\n",
    "Name: 91, dtype: int64"
   ]
  },
  {
   "cell_type": "markdown",
   "id": "2ca8f4fb",
   "metadata": {},
   "source": [
    "nombre_infected        76\n",
    "nombre_sain          1925\n",
    "nombre_exposed         34\n",
    "nombre_recovered    17965\n",
    "Name: 92, dtype: int64"
   ]
  },
  {
   "cell_type": "markdown",
   "id": "062984a7",
   "metadata": {},
   "source": [
    "nombre_infected        76\n",
    "nombre_sain          1961\n",
    "nombre_exposed         35\n",
    "nombre_recovered    17928\n",
    "Name: 93, dtype: int64"
   ]
  },
  {
   "cell_type": "markdown",
   "id": "874eb5fd",
   "metadata": {},
   "source": [
    "nombre_infected        75\n",
    "nombre_sain          2007\n",
    "nombre_exposed         32\n",
    "nombre_recovered    17886\n",
    "Name: 94, dtype: int64"
   ]
  },
  {
   "cell_type": "markdown",
   "id": "84cb726d",
   "metadata": {},
   "source": [
    "nombre_infected        77\n",
    "nombre_sain          2045\n",
    "nombre_exposed         33\n",
    "nombre_recovered    17845\n",
    "Name: 95, dtype: int64"
   ]
  },
  {
   "cell_type": "markdown",
   "id": "a5e8c9bf",
   "metadata": {},
   "source": [
    "nombre_infected        76\n",
    "nombre_sain          2075\n",
    "nombre_exposed         40\n",
    "nombre_recovered    17809\n",
    "Name: 96, dtype: int64"
   ]
  },
  {
   "cell_type": "markdown",
   "id": "1c0a4645",
   "metadata": {},
   "source": [
    "nombre_infected        77\n",
    "nombre_sain          2124\n",
    "nombre_exposed         43\n",
    "nombre_recovered    17756\n",
    "Name: 97, dtype: int64"
   ]
  },
  {
   "cell_type": "markdown",
   "id": "f7d4ad9e",
   "metadata": {},
   "source": [
    "nombre_infected        67\n",
    "nombre_sain          2182\n",
    "nombre_exposed         46\n",
    "nombre_recovered    17705\n",
    "Name: 98, dtype: int64"
   ]
  },
  {
   "cell_type": "markdown",
   "id": "144da48a",
   "metadata": {},
   "source": [
    "nombre_infected        69\n",
    "nombre_sain          2250\n",
    "nombre_exposed         40\n",
    "nombre_recovered    17641\n",
    "Name: 99, dtype: int64"
   ]
  },
  {
   "cell_type": "markdown",
   "id": "58004815",
   "metadata": {},
   "source": [
    "nombre_infected        66\n",
    "nombre_sain          2310\n",
    "nombre_exposed         36\n",
    "nombre_recovered    17588\n",
    "Name: 100, dtype: int64"
   ]
  },
  {
   "cell_type": "markdown",
   "id": "6d0e3e5e",
   "metadata": {},
   "source": [
    "nombre_infected        63\n",
    "nombre_sain          2379\n",
    "nombre_exposed         39\n",
    "nombre_recovered    17519\n",
    "Name: 101, dtype: int64"
   ]
  },
  {
   "cell_type": "markdown",
   "id": "fa6c7058",
   "metadata": {},
   "source": [
    "nombre_infected        64\n",
    "nombre_sain          2437\n",
    "nombre_exposed         44\n",
    "nombre_recovered    17455\n",
    "Name: 102, dtype: int64"
   ]
  },
  {
   "cell_type": "markdown",
   "id": "ae4a757f",
   "metadata": {},
   "source": [
    "nombre_infected        63\n",
    "nombre_sain          2487\n",
    "nombre_exposed         42\n",
    "nombre_recovered    17408\n",
    "Name: 103, dtype: int64"
   ]
  },
  {
   "cell_type": "markdown",
   "id": "1aacd144",
   "metadata": {},
   "source": [
    "nombre_infected        58\n",
    "nombre_sain          2539\n",
    "nombre_exposed         41\n",
    "nombre_recovered    17362\n",
    "Name: 104, dtype: int64"
   ]
  },
  {
   "cell_type": "markdown",
   "id": "74e02923",
   "metadata": {},
   "source": [
    "nombre_infected        64\n",
    "nombre_sain          2594\n",
    "nombre_exposed         40\n",
    "nombre_recovered    17302\n",
    "Name: 105, dtype: int64"
   ]
  },
  {
   "cell_type": "markdown",
   "id": "e3b28f94",
   "metadata": {},
   "source": [
    "nombre_infected        63\n",
    "nombre_sain          2641\n",
    "nombre_exposed         43\n",
    "nombre_recovered    17253\n",
    "Name: 106, dtype: int64"
   ]
  },
  {
   "cell_type": "markdown",
   "id": "b03d79ff",
   "metadata": {},
   "source": [
    "nombre_infected        56\n",
    "nombre_sain          2694\n",
    "nombre_exposed         49\n",
    "nombre_recovered    17201\n",
    "Name: 107, dtype: int64"
   ]
  },
  {
   "cell_type": "markdown",
   "id": "bb8e9858",
   "metadata": {},
   "source": [
    "nombre_infected        52\n",
    "nombre_sain          2750\n",
    "nombre_exposed         54\n",
    "nombre_recovered    17144\n",
    "Name: 108, dtype: int64"
   ]
  },
  {
   "cell_type": "markdown",
   "id": "7c68cf70",
   "metadata": {},
   "source": [
    "nombre_infected        60\n",
    "nombre_sain          2807\n",
    "nombre_exposed         55\n",
    "nombre_recovered    17078\n",
    "Name: 109, dtype: int64"
   ]
  },
  {
   "cell_type": "markdown",
   "id": "5f588fae",
   "metadata": {},
   "source": [
    "nombre_infected        65\n",
    "nombre_sain          2861\n",
    "nombre_exposed         48\n",
    "nombre_recovered    17026\n",
    "Name: 110, dtype: int64"
   ]
  },
  {
   "cell_type": "markdown",
   "id": "b183de7d",
   "metadata": {},
   "source": [
    "nombre_infected        73\n",
    "nombre_sain          2898\n",
    "nombre_exposed         51\n",
    "nombre_recovered    16978\n",
    "Name: 111, dtype: int64"
   ]
  },
  {
   "cell_type": "markdown",
   "id": "f9c9df8b",
   "metadata": {},
   "source": [
    "nombre_infected        70\n",
    "nombre_sain          2945\n",
    "nombre_exposed         56\n",
    "nombre_recovered    16929\n",
    "Name: 112, dtype: int64"
   ]
  },
  {
   "cell_type": "markdown",
   "id": "fbe1d487",
   "metadata": {},
   "source": [
    "nombre_infected        71\n",
    "nombre_sain          2992\n",
    "nombre_exposed         64\n",
    "nombre_recovered    16873\n",
    "Name: 113, dtype: int64"
   ]
  },
  {
   "cell_type": "markdown",
   "id": "f8a50653",
   "metadata": {},
   "source": [
    "nombre_infected        74\n",
    "nombre_sain          3039\n",
    "nombre_exposed         74\n",
    "nombre_recovered    16813\n",
    "Name: 114, dtype: int64"
   ]
  },
  {
   "cell_type": "markdown",
   "id": "2f4bacf9",
   "metadata": {},
   "source": [
    "nombre_infected        74\n",
    "nombre_sain          3082\n",
    "nombre_exposed         78\n",
    "nombre_recovered    16766\n",
    "Name: 115, dtype: int64"
   ]
  },
  {
   "cell_type": "markdown",
   "id": "fc528076",
   "metadata": {},
   "source": [
    "nombre_infected        83\n",
    "nombre_sain          3135\n",
    "nombre_exposed         78\n",
    "nombre_recovered    16704\n",
    "Name: 116, dtype: int64"
   ]
  },
  {
   "cell_type": "markdown",
   "id": "ed158d86",
   "metadata": {},
   "source": [
    "nombre_infected        75\n",
    "nombre_sain          3182\n",
    "nombre_exposed         86\n",
    "nombre_recovered    16657\n",
    "Name: 117, dtype: int64"
   ]
  },
  {
   "cell_type": "markdown",
   "id": "edb9aee0",
   "metadata": {},
   "source": [
    "nombre_infected        74\n",
    "nombre_sain          3224\n",
    "nombre_exposed         88\n",
    "nombre_recovered    16614\n",
    "Name: 118, dtype: int64"
   ]
  },
  {
   "cell_type": "markdown",
   "id": "d55a3192",
   "metadata": {},
   "source": [
    "nombre_infected        86\n",
    "nombre_sain          3250\n",
    "nombre_exposed         81\n",
    "nombre_recovered    16583\n",
    "Name: 119, dtype: int64"
   ]
  },
  {
   "cell_type": "markdown",
   "id": "aa74bc3e",
   "metadata": {},
   "source": [
    "nombre_infected        92\n",
    "nombre_sain          3294\n",
    "nombre_exposed         80\n",
    "nombre_recovered    16534\n",
    "Name: 120, dtype: int64"
   ]
  },
  {
   "cell_type": "markdown",
   "id": "3240b26e",
   "metadata": {},
   "source": [
    "nombre_infected        97\n",
    "nombre_sain          3314\n",
    "nombre_exposed         84\n",
    "nombre_recovered    16505\n",
    "Name: 121, dtype: int64"
   ]
  },
  {
   "cell_type": "markdown",
   "id": "df9b0b97",
   "metadata": {},
   "source": [
    "nombre_infected        95\n",
    "nombre_sain          3343\n",
    "nombre_exposed         88\n",
    "nombre_recovered    16474\n",
    "Name: 122, dtype: int64"
   ]
  },
  {
   "cell_type": "markdown",
   "id": "73c393af",
   "metadata": {},
   "source": [
    "nombre_infected       104\n",
    "nombre_sain          3360\n",
    "nombre_exposed         88\n",
    "nombre_recovered    16448\n",
    "Name: 123, dtype: int64"
   ]
  },
  {
   "cell_type": "markdown",
   "id": "0811948d",
   "metadata": {},
   "source": [
    "nombre_infected       105\n",
    "nombre_sain          3386\n",
    "nombre_exposed         93\n",
    "nombre_recovered    16416\n",
    "Name: 124, dtype: int64"
   ]
  },
  {
   "cell_type": "markdown",
   "id": "cf88b51f",
   "metadata": {},
   "source": [
    "nombre_infected       106\n",
    "nombre_sain          3402\n",
    "nombre_exposed        100\n",
    "nombre_recovered    16392\n",
    "Name: 125, dtype: int64"
   ]
  },
  {
   "cell_type": "markdown",
   "id": "6b29154f",
   "metadata": {},
   "source": [
    "nombre_infected       106\n",
    "nombre_sain          3425\n",
    "nombre_exposed        108\n",
    "nombre_recovered    16361\n",
    "Name: 126, dtype: int64"
   ]
  },
  {
   "cell_type": "markdown",
   "id": "353216b3",
   "metadata": {},
   "source": [
    "nombre_infected       110\n",
    "nombre_sain          3440\n",
    "nombre_exposed        116\n",
    "nombre_recovered    16334\n",
    "Name: 127, dtype: int64"
   ]
  },
  {
   "cell_type": "markdown",
   "id": "810118c8",
   "metadata": {},
   "source": [
    "nombre_infected       112\n",
    "nombre_sain          3475\n",
    "nombre_exposed        112\n",
    "nombre_recovered    16301\n",
    "Name: 128, dtype: int64"
   ]
  },
  {
   "cell_type": "markdown",
   "id": "59d3ba53",
   "metadata": {},
   "source": [
    "nombre_infected       121\n",
    "nombre_sain          3489\n",
    "nombre_exposed        121\n",
    "nombre_recovered    16269\n",
    "Name: 129, dtype: int64"
   ]
  },
  {
   "cell_type": "markdown",
   "id": "3435aac5",
   "metadata": {},
   "source": [
    "nombre_infected       128\n",
    "nombre_sain          3495\n",
    "nombre_exposed        129\n",
    "nombre_recovered    16248\n",
    "Name: 130, dtype: int64"
   ]
  },
  {
   "cell_type": "markdown",
   "id": "3d595bd3",
   "metadata": {},
   "source": [
    "nombre_infected       138\n",
    "nombre_sain          3511\n",
    "nombre_exposed        124\n",
    "nombre_recovered    16227\n",
    "Name: 131, dtype: int64"
   ]
  },
  {
   "cell_type": "markdown",
   "id": "23ba2f48",
   "metadata": {},
   "source": [
    "nombre_infected       139\n",
    "nombre_sain          3515\n",
    "nombre_exposed        123\n",
    "nombre_recovered    16223\n",
    "Name: 132, dtype: int64"
   ]
  },
  {
   "cell_type": "markdown",
   "id": "6b480ec6",
   "metadata": {},
   "source": [
    "nombre_infected       155\n",
    "nombre_sain          3515\n",
    "nombre_exposed        124\n",
    "nombre_recovered    16206\n",
    "Name: 133, dtype: int64"
   ]
  },
  {
   "cell_type": "markdown",
   "id": "66157c5e",
   "metadata": {},
   "source": [
    "nombre_infected       166\n",
    "nombre_sain          3508\n",
    "nombre_exposed        133\n",
    "nombre_recovered    16193\n",
    "Name: 134, dtype: int64"
   ]
  },
  {
   "cell_type": "markdown",
   "id": "a394e23a",
   "metadata": {},
   "source": [
    "nombre_infected       163\n",
    "nombre_sain          3516\n",
    "nombre_exposed        142\n",
    "nombre_recovered    16179\n",
    "Name: 135, dtype: int64"
   ]
  },
  {
   "cell_type": "markdown",
   "id": "9b8ddc77",
   "metadata": {},
   "source": [
    "nombre_infected       170\n",
    "nombre_sain          3513\n",
    "nombre_exposed        145\n",
    "nombre_recovered    16172\n",
    "Name: 136, dtype: int64"
   ]
  },
  {
   "cell_type": "markdown",
   "id": "e0662901",
   "metadata": {},
   "source": [
    "nombre_infected       173\n",
    "nombre_sain          3522\n",
    "nombre_exposed        150\n",
    "nombre_recovered    16155\n",
    "Name: 137, dtype: int64"
   ]
  },
  {
   "cell_type": "markdown",
   "id": "b69e266f",
   "metadata": {},
   "source": [
    "nombre_infected       165\n",
    "nombre_sain          3508\n",
    "nombre_exposed        172\n",
    "nombre_recovered    16155\n",
    "Name: 138, dtype: int64"
   ]
  },
  {
   "cell_type": "markdown",
   "id": "ef98f8b4",
   "metadata": {},
   "source": [
    "nombre_infected       168\n",
    "nombre_sain          3510\n",
    "nombre_exposed        184\n",
    "nombre_recovered    16138\n",
    "Name: 139, dtype: int64"
   ]
  },
  {
   "cell_type": "markdown",
   "id": "23608f0b",
   "metadata": {},
   "source": [
    "nombre_infected       184\n",
    "nombre_sain          3501\n",
    "nombre_exposed        186\n",
    "nombre_recovered    16129\n",
    "Name: 140, dtype: int64"
   ]
  },
  {
   "cell_type": "markdown",
   "id": "f76a66dc",
   "metadata": {},
   "source": [
    "nombre_infected       201\n",
    "nombre_sain          3513\n",
    "nombre_exposed        173\n",
    "nombre_recovered    16113\n",
    "Name: 141, dtype: int64"
   ]
  },
  {
   "cell_type": "markdown",
   "id": "4b18b2ca",
   "metadata": {},
   "source": [
    "nombre_infected       223\n",
    "nombre_sain          3516\n",
    "nombre_exposed        165\n",
    "nombre_recovered    16096\n",
    "Name: 142, dtype: int64"
   ]
  },
  {
   "cell_type": "markdown",
   "id": "c3696055",
   "metadata": {},
   "source": [
    "nombre_infected       227\n",
    "nombre_sain          3503\n",
    "nombre_exposed        181\n",
    "nombre_recovered    16089\n",
    "Name: 143, dtype: int64"
   ]
  },
  {
   "cell_type": "markdown",
   "id": "d5f36d7a",
   "metadata": {},
   "source": [
    "nombre_infected       230\n",
    "nombre_sain          3510\n",
    "nombre_exposed        196\n",
    "nombre_recovered    16064\n",
    "Name: 144, dtype: int64"
   ]
  },
  {
   "cell_type": "markdown",
   "id": "6514e9a9",
   "metadata": {},
   "source": [
    "nombre_infected       238\n",
    "nombre_sain          3506\n",
    "nombre_exposed        214\n",
    "nombre_recovered    16042\n",
    "Name: 145, dtype: int64"
   ]
  },
  {
   "cell_type": "markdown",
   "id": "b74b7876",
   "metadata": {},
   "source": [
    "nombre_infected       245\n",
    "nombre_sain          3511\n",
    "nombre_exposed        213\n",
    "nombre_recovered    16031\n",
    "Name: 146, dtype: int64"
   ]
  },
  {
   "cell_type": "markdown",
   "id": "958d9f8a",
   "metadata": {},
   "source": [
    "nombre_infected       266\n",
    "nombre_sain          3499\n",
    "nombre_exposed        209\n",
    "nombre_recovered    16026\n",
    "Name: 147, dtype: int64"
   ]
  },
  {
   "cell_type": "markdown",
   "id": "847ef07e",
   "metadata": {},
   "source": [
    "nombre_infected       276\n",
    "nombre_sain          3496\n",
    "nombre_exposed        222\n",
    "nombre_recovered    16006\n",
    "Name: 148, dtype: int64"
   ]
  },
  {
   "cell_type": "markdown",
   "id": "37951be2",
   "metadata": {},
   "source": [
    "nombre_infected       276\n",
    "nombre_sain          3464\n",
    "nombre_exposed        264\n",
    "nombre_recovered    15996\n",
    "Name: 149, dtype: int64"
   ]
  },
  {
   "cell_type": "markdown",
   "id": "3fb8ebbd",
   "metadata": {},
   "source": [
    "nombre_infected       290\n",
    "nombre_sain          3442\n",
    "nombre_exposed        277\n",
    "nombre_recovered    15991\n",
    "Name: 150, dtype: int64"
   ]
  },
  {
   "cell_type": "markdown",
   "id": "cff7b5c8",
   "metadata": {},
   "source": [
    "nombre_infected       307\n",
    "nombre_sain          3439\n",
    "nombre_exposed        284\n",
    "nombre_recovered    15970\n",
    "Name: 151, dtype: int64"
   ]
  },
  {
   "cell_type": "markdown",
   "id": "103bc5a5",
   "metadata": {},
   "source": [
    "nombre_infected       334\n",
    "nombre_sain          3424\n",
    "nombre_exposed        284\n",
    "nombre_recovered    15958\n",
    "Name: 152, dtype: int64"
   ]
  },
  {
   "cell_type": "markdown",
   "id": "a3dd573b",
   "metadata": {},
   "source": [
    "nombre_infected       359\n",
    "nombre_sain          3402\n",
    "nombre_exposed        298\n",
    "nombre_recovered    15941\n",
    "Name: 153, dtype: int64"
   ]
  },
  {
   "cell_type": "markdown",
   "id": "25b4dad5",
   "metadata": {},
   "source": [
    "nombre_infected       364\n",
    "nombre_sain          3380\n",
    "nombre_exposed        315\n",
    "nombre_recovered    15941\n",
    "Name: 154, dtype: int64"
   ]
  },
  {
   "cell_type": "markdown",
   "id": "d8d1deab",
   "metadata": {},
   "source": [
    "nombre_infected       373\n",
    "nombre_sain          3351\n",
    "nombre_exposed        333\n",
    "nombre_recovered    15943\n",
    "Name: 155, dtype: int64"
   ]
  },
  {
   "cell_type": "markdown",
   "id": "2a9ae31e",
   "metadata": {},
   "source": [
    "nombre_infected       384\n",
    "nombre_sain          3330\n",
    "nombre_exposed        342\n",
    "nombre_recovered    15944\n",
    "Name: 156, dtype: int64"
   ]
  },
  {
   "cell_type": "markdown",
   "id": "92874685",
   "metadata": {},
   "source": [
    "nombre_infected       399\n",
    "nombre_sain          3295\n",
    "nombre_exposed        378\n",
    "nombre_recovered    15928\n",
    "Name: 157, dtype: int64"
   ]
  },
  {
   "cell_type": "markdown",
   "id": "2744e0e4",
   "metadata": {},
   "source": [
    "nombre_infected       435\n",
    "nombre_sain          3243\n",
    "nombre_exposed        410\n",
    "nombre_recovered    15912\n",
    "Name: 158, dtype: int64"
   ]
  },
  {
   "cell_type": "markdown",
   "id": "57c67551",
   "metadata": {},
   "source": [
    "nombre_infected       469\n",
    "nombre_sain          3227\n",
    "nombre_exposed        426\n",
    "nombre_recovered    15878\n",
    "Name: 159, dtype: int64"
   ]
  },
  {
   "cell_type": "markdown",
   "id": "31e159c1",
   "metadata": {},
   "source": [
    "nombre_infected       498\n",
    "nombre_sain          3216\n",
    "nombre_exposed        414\n",
    "nombre_recovered    15872\n",
    "Name: 160, dtype: int64"
   ]
  },
  {
   "cell_type": "markdown",
   "id": "24842e95",
   "metadata": {},
   "source": [
    "nombre_infected       505\n",
    "nombre_sain          3181\n",
    "nombre_exposed        436\n",
    "nombre_recovered    15878\n",
    "Name: 161, dtype: int64"
   ]
  },
  {
   "cell_type": "markdown",
   "id": "1ce3dc5e",
   "metadata": {},
   "source": [
    "nombre_infected       512\n",
    "nombre_sain          3143\n",
    "nombre_exposed        454\n",
    "nombre_recovered    15891\n",
    "Name: 162, dtype: int64"
   ]
  },
  {
   "cell_type": "markdown",
   "id": "bbd56496",
   "metadata": {},
   "source": [
    "nombre_infected       529\n",
    "nombre_sain          3110\n",
    "nombre_exposed        467\n",
    "nombre_recovered    15894\n",
    "Name: 163, dtype: int64"
   ]
  },
  {
   "cell_type": "markdown",
   "id": "b144346d",
   "metadata": {},
   "source": [
    "nombre_infected       540\n",
    "nombre_sain          3046\n",
    "nombre_exposed        502\n",
    "nombre_recovered    15912\n",
    "Name: 164, dtype: int64"
   ]
  },
  {
   "cell_type": "markdown",
   "id": "ba995bb2",
   "metadata": {},
   "source": [
    "nombre_infected       573\n",
    "nombre_sain          2980\n",
    "nombre_exposed        505\n",
    "nombre_recovered    15942\n",
    "Name: 165, dtype: int64"
   ]
  },
  {
   "cell_type": "markdown",
   "id": "98ec003f",
   "metadata": {},
   "source": [
    "nombre_infected       591\n",
    "nombre_sain          2932\n",
    "nombre_exposed        509\n",
    "nombre_recovered    15968\n",
    "Name: 166, dtype: int64"
   ]
  },
  {
   "cell_type": "markdown",
   "id": "368d6e29",
   "metadata": {},
   "source": [
    "nombre_infected       617\n",
    "nombre_sain          2874\n",
    "nombre_exposed        526\n",
    "nombre_recovered    15983\n",
    "Name: 167, dtype: int64"
   ]
  },
  {
   "cell_type": "markdown",
   "id": "078fbeaf",
   "metadata": {},
   "source": [
    "nombre_infected       641\n",
    "nombre_sain          2840\n",
    "nombre_exposed        500\n",
    "nombre_recovered    16019\n",
    "Name: 168, dtype: int64"
   ]
  },
  {
   "cell_type": "markdown",
   "id": "fbc9b22c",
   "metadata": {},
   "source": [
    "nombre_infected       659\n",
    "nombre_sain          2792\n",
    "nombre_exposed        512\n",
    "nombre_recovered    16037\n",
    "Name: 169, dtype: int64"
   ]
  },
  {
   "cell_type": "markdown",
   "id": "7248ad04",
   "metadata": {},
   "source": [
    "nombre_infected       666\n",
    "nombre_sain          2745\n",
    "nombre_exposed        536\n",
    "nombre_recovered    16053\n",
    "Name: 170, dtype: int64"
   ]
  },
  {
   "cell_type": "markdown",
   "id": "6342564d",
   "metadata": {},
   "source": [
    "nombre_infected       708\n",
    "nombre_sain          2686\n",
    "nombre_exposed        533\n",
    "nombre_recovered    16073\n",
    "Name: 171, dtype: int64"
   ]
  },
  {
   "cell_type": "markdown",
   "id": "74cfaffa",
   "metadata": {},
   "source": [
    "nombre_infected       714\n",
    "nombre_sain          2644\n",
    "nombre_exposed        531\n",
    "nombre_recovered    16111\n",
    "Name: 172, dtype: int64"
   ]
  },
  {
   "cell_type": "markdown",
   "id": "da35f40a",
   "metadata": {},
   "source": [
    "nombre_infected       744\n",
    "nombre_sain          2621\n",
    "nombre_exposed        516\n",
    "nombre_recovered    16119\n",
    "Name: 173, dtype: int64"
   ]
  },
  {
   "cell_type": "markdown",
   "id": "623967e7",
   "metadata": {},
   "source": [
    "nombre_infected       775\n",
    "nombre_sain          2566\n",
    "nombre_exposed        511\n",
    "nombre_recovered    16148\n",
    "Name: 174, dtype: int64"
   ]
  },
  {
   "cell_type": "markdown",
   "id": "cf4e9441",
   "metadata": {},
   "source": [
    "nombre_infected       786\n",
    "nombre_sain          2510\n",
    "nombre_exposed        535\n",
    "nombre_recovered    16169\n",
    "Name: 175, dtype: int64"
   ]
  },
  {
   "cell_type": "markdown",
   "id": "28080c72",
   "metadata": {},
   "source": [
    "nombre_infected       785\n",
    "nombre_sain          2475\n",
    "nombre_exposed        547\n",
    "nombre_recovered    16193\n",
    "Name: 176, dtype: int64"
   ]
  },
  {
   "cell_type": "markdown",
   "id": "0306bfd7",
   "metadata": {},
   "source": [
    "nombre_infected       795\n",
    "nombre_sain          2423\n",
    "nombre_exposed        536\n",
    "nombre_recovered    16246\n",
    "Name: 177, dtype: int64"
   ]
  },
  {
   "cell_type": "markdown",
   "id": "fcabf6ae",
   "metadata": {},
   "source": [
    "nombre_infected       836\n",
    "nombre_sain          2374\n",
    "nombre_exposed        525\n",
    "nombre_recovered    16265\n",
    "Name: 178, dtype: int64"
   ]
  },
  {
   "cell_type": "markdown",
   "id": "dd0b8cb5",
   "metadata": {},
   "source": [
    "nombre_infected       853\n",
    "nombre_sain          2311\n",
    "nombre_exposed        551\n",
    "nombre_recovered    16285\n",
    "Name: 179, dtype: int64"
   ]
  },
  {
   "cell_type": "markdown",
   "id": "054f2a02",
   "metadata": {},
   "source": [
    "nombre_infected       840\n",
    "nombre_sain          2241\n",
    "nombre_exposed        578\n",
    "nombre_recovered    16341\n",
    "Name: 180, dtype: int64"
   ]
  },
  {
   "cell_type": "markdown",
   "id": "f0ff902b",
   "metadata": {},
   "source": [
    "nombre_infected       859\n",
    "nombre_sain          2172\n",
    "nombre_exposed        572\n",
    "nombre_recovered    16397\n",
    "Name: 181, dtype: int64"
   ]
  },
  {
   "cell_type": "markdown",
   "id": "15b73c05",
   "metadata": {},
   "source": [
    "nombre_infected       873\n",
    "nombre_sain          2112\n",
    "nombre_exposed        570\n",
    "nombre_recovered    16445\n",
    "Name: 182, dtype: int64"
   ]
  },
  {
   "cell_type": "markdown",
   "id": "8ecbe37d",
   "metadata": {},
   "source": [
    "nombre_infected       894\n",
    "nombre_sain          2053\n",
    "nombre_exposed        553\n",
    "nombre_recovered    16500\n",
    "Name: 183, dtype: int64"
   ]
  },
  {
   "cell_type": "markdown",
   "id": "0e98a5db",
   "metadata": {},
   "source": [
    "nombre_infected       902\n",
    "nombre_sain          2011\n",
    "nombre_exposed        545\n",
    "nombre_recovered    16542\n",
    "Name: 184, dtype: int64"
   ]
  },
  {
   "cell_type": "markdown",
   "id": "27a24aa6",
   "metadata": {},
   "source": [
    "nombre_infected       896\n",
    "nombre_sain          1968\n",
    "nombre_exposed        562\n",
    "nombre_recovered    16574\n",
    "Name: 185, dtype: int64"
   ]
  },
  {
   "cell_type": "markdown",
   "id": "1129c347",
   "metadata": {},
   "source": [
    "nombre_infected       874\n",
    "nombre_sain          1910\n",
    "nombre_exposed        580\n",
    "nombre_recovered    16636\n",
    "Name: 186, dtype: int64"
   ]
  },
  {
   "cell_type": "markdown",
   "id": "c6d38b5b",
   "metadata": {},
   "source": [
    "nombre_infected       877\n",
    "nombre_sain          1881\n",
    "nombre_exposed        553\n",
    "nombre_recovered    16689\n",
    "Name: 187, dtype: int64"
   ]
  },
  {
   "cell_type": "markdown",
   "id": "b79e8692",
   "metadata": {},
   "source": [
    "nombre_infected       885\n",
    "nombre_sain          1846\n",
    "nombre_exposed        548\n",
    "nombre_recovered    16721\n",
    "Name: 188, dtype: int64"
   ]
  },
  {
   "cell_type": "markdown",
   "id": "2d8083a4",
   "metadata": {},
   "source": [
    "nombre_infected       879\n",
    "nombre_sain          1814\n",
    "nombre_exposed        540\n",
    "nombre_recovered    16767\n",
    "Name: 189, dtype: int64"
   ]
  },
  {
   "cell_type": "markdown",
   "id": "5a80535e",
   "metadata": {},
   "source": [
    "nombre_infected       884\n",
    "nombre_sain          1769\n",
    "nombre_exposed        525\n",
    "nombre_recovered    16822\n",
    "Name: 190, dtype: int64"
   ]
  },
  {
   "cell_type": "markdown",
   "id": "5996632a",
   "metadata": {},
   "source": [
    "nombre_infected       883\n",
    "nombre_sain          1734\n",
    "nombre_exposed        512\n",
    "nombre_recovered    16871\n",
    "Name: 191, dtype: int64"
   ]
  },
  {
   "cell_type": "markdown",
   "id": "a8f33952",
   "metadata": {},
   "source": [
    "nombre_infected       888\n",
    "nombre_sain          1699\n",
    "nombre_exposed        488\n",
    "nombre_recovered    16925\n",
    "Name: 192, dtype: int64"
   ]
  },
  {
   "cell_type": "markdown",
   "id": "ff833d40",
   "metadata": {},
   "source": [
    "nombre_infected       881\n",
    "nombre_sain          1694\n",
    "nombre_exposed        475\n",
    "nombre_recovered    16950\n",
    "Name: 193, dtype: int64"
   ]
  },
  {
   "cell_type": "markdown",
   "id": "9cdb0ac3",
   "metadata": {},
   "source": [
    "nombre_infected       867\n",
    "nombre_sain          1689\n",
    "nombre_exposed        462\n",
    "nombre_recovered    16982\n",
    "Name: 194, dtype: int64"
   ]
  },
  {
   "cell_type": "markdown",
   "id": "626e9209",
   "metadata": {},
   "source": [
    "nombre_infected       857\n",
    "nombre_sain          1700\n",
    "nombre_exposed        459\n",
    "nombre_recovered    16984\n",
    "Name: 195, dtype: int64"
   ]
  },
  {
   "cell_type": "markdown",
   "id": "bed97622",
   "metadata": {},
   "source": [
    "nombre_infected       827\n",
    "nombre_sain          1712\n",
    "nombre_exposed        458\n",
    "nombre_recovered    17003\n",
    "Name: 196, dtype: int64"
   ]
  },
  {
   "cell_type": "markdown",
   "id": "8e989975",
   "metadata": {},
   "source": [
    "nombre_infected       809\n",
    "nombre_sain          1705\n",
    "nombre_exposed        465\n",
    "nombre_recovered    17021\n",
    "Name: 197, dtype: int64"
   ]
  },
  {
   "cell_type": "markdown",
   "id": "654b05b8",
   "metadata": {},
   "source": [
    "nombre_infected       803\n",
    "nombre_sain          1708\n",
    "nombre_exposed        446\n",
    "nombre_recovered    17043\n",
    "Name: 198, dtype: int64"
   ]
  },
  {
   "cell_type": "markdown",
   "id": "e83a82c9",
   "metadata": {},
   "source": [
    "nombre_infected       797\n",
    "nombre_sain          1703\n",
    "nombre_exposed        446\n",
    "nombre_recovered    17054\n",
    "Name: 199, dtype: int64"
   ]
  },
  {
   "cell_type": "markdown",
   "id": "280987e9",
   "metadata": {},
   "source": [
    "nombre_infected       796\n",
    "nombre_sain          1724\n",
    "nombre_exposed        459\n",
    "nombre_recovered    17021\n",
    "Name: 200, dtype: int64"
   ]
  },
  {
   "cell_type": "markdown",
   "id": "7f84495c",
   "metadata": {},
   "source": [
    "nombre_infected       774\n",
    "nombre_sain          1752\n",
    "nombre_exposed        462\n",
    "nombre_recovered    17012\n",
    "Name: 201, dtype: int64"
   ]
  },
  {
   "cell_type": "markdown",
   "id": "f6bd99c3",
   "metadata": {},
   "source": [
    "nombre_infected       768\n",
    "nombre_sain          1803\n",
    "nombre_exposed        444\n",
    "nombre_recovered    16985\n",
    "Name: 202, dtype: int64"
   ]
  },
  {
   "cell_type": "markdown",
   "id": "e50a76bd",
   "metadata": {},
   "source": [
    "nombre_infected       749\n",
    "nombre_sain          1812\n",
    "nombre_exposed        456\n",
    "nombre_recovered    16983\n",
    "Name: 203, dtype: int64"
   ]
  },
  {
   "cell_type": "markdown",
   "id": "b55fa6af",
   "metadata": {},
   "source": [
    "nombre_infected       753\n",
    "nombre_sain          1806\n",
    "nombre_exposed        451\n",
    "nombre_recovered    16990\n",
    "Name: 204, dtype: int64"
   ]
  },
  {
   "cell_type": "markdown",
   "id": "f9ac5585",
   "metadata": {},
   "source": [
    "nombre_infected       735\n",
    "nombre_sain          1811\n",
    "nombre_exposed        453\n",
    "nombre_recovered    17001\n",
    "Name: 205, dtype: int64"
   ]
  },
  {
   "cell_type": "markdown",
   "id": "bcee2949",
   "metadata": {},
   "source": [
    "nombre_infected       744\n",
    "nombre_sain          1828\n",
    "nombre_exposed        433\n",
    "nombre_recovered    16995\n",
    "Name: 206, dtype: int64"
   ]
  },
  {
   "cell_type": "markdown",
   "id": "bc2ce359",
   "metadata": {},
   "source": [
    "nombre_infected       746\n",
    "nombre_sain          1837\n",
    "nombre_exposed        440\n",
    "nombre_recovered    16977\n",
    "Name: 207, dtype: int64"
   ]
  },
  {
   "cell_type": "markdown",
   "id": "f1bfb00f",
   "metadata": {},
   "source": [
    "nombre_infected       717\n",
    "nombre_sain          1835\n",
    "nombre_exposed        455\n",
    "nombre_recovered    16993\n",
    "Name: 208, dtype: int64"
   ]
  },
  {
   "cell_type": "markdown",
   "id": "efc53458",
   "metadata": {},
   "source": [
    "nombre_infected       728\n",
    "nombre_sain          1846\n",
    "nombre_exposed        429\n",
    "nombre_recovered    16997\n",
    "Name: 209, dtype: int64"
   ]
  },
  {
   "cell_type": "markdown",
   "id": "f7842077",
   "metadata": {},
   "source": [
    "nombre_infected       711\n",
    "nombre_sain          1856\n",
    "nombre_exposed        432\n",
    "nombre_recovered    17001\n",
    "Name: 210, dtype: int64"
   ]
  },
  {
   "cell_type": "markdown",
   "id": "5ec32baf",
   "metadata": {},
   "source": [
    "nombre_infected       693\n",
    "nombre_sain          1858\n",
    "nombre_exposed        437\n",
    "nombre_recovered    17012\n",
    "Name: 211, dtype: int64"
   ]
  },
  {
   "cell_type": "markdown",
   "id": "0d3d2d9c",
   "metadata": {},
   "source": [
    "nombre_infected       688\n",
    "nombre_sain          1867\n",
    "nombre_exposed        436\n",
    "nombre_recovered    17009\n",
    "Name: 212, dtype: int64"
   ]
  },
  {
   "cell_type": "markdown",
   "id": "c87ec190",
   "metadata": {},
   "source": [
    "nombre_infected       686\n",
    "nombre_sain          1882\n",
    "nombre_exposed        404\n",
    "nombre_recovered    17028\n",
    "Name: 213, dtype: int64"
   ]
  },
  {
   "cell_type": "markdown",
   "id": "f42f0751",
   "metadata": {},
   "source": [
    "nombre_infected       678\n",
    "nombre_sain          1899\n",
    "nombre_exposed        400\n",
    "nombre_recovered    17023\n",
    "Name: 214, dtype: int64"
   ]
  },
  {
   "cell_type": "markdown",
   "id": "a97fd756",
   "metadata": {},
   "source": [
    "nombre_infected       661\n",
    "nombre_sain          1915\n",
    "nombre_exposed        384\n",
    "nombre_recovered    17040\n",
    "Name: 215, dtype: int64"
   ]
  },
  {
   "cell_type": "markdown",
   "id": "efcacda1",
   "metadata": {},
   "source": [
    "nombre_infected       657\n",
    "nombre_sain          1899\n",
    "nombre_exposed        408\n",
    "nombre_recovered    17036\n",
    "Name: 216, dtype: int64"
   ]
  },
  {
   "cell_type": "markdown",
   "id": "17583edf",
   "metadata": {},
   "source": [
    "nombre_infected       632\n",
    "nombre_sain          1906\n",
    "nombre_exposed        413\n",
    "nombre_recovered    17049\n",
    "Name: 217, dtype: int64"
   ]
  },
  {
   "cell_type": "markdown",
   "id": "2204fb67",
   "metadata": {},
   "source": [
    "nombre_infected       626\n",
    "nombre_sain          1931\n",
    "nombre_exposed        395\n",
    "nombre_recovered    17048\n",
    "Name: 218, dtype: int64"
   ]
  },
  {
   "cell_type": "markdown",
   "id": "3947bb35",
   "metadata": {},
   "source": [
    "nombre_infected       611\n",
    "nombre_sain          1953\n",
    "nombre_exposed        403\n",
    "nombre_recovered    17033\n",
    "Name: 219, dtype: int64"
   ]
  },
  {
   "cell_type": "markdown",
   "id": "61c75bf2",
   "metadata": {},
   "source": [
    "nombre_infected       590\n",
    "nombre_sain          1962\n",
    "nombre_exposed        401\n",
    "nombre_recovered    17047\n",
    "Name: 220, dtype: int64"
   ]
  },
  {
   "cell_type": "markdown",
   "id": "3bb46f31",
   "metadata": {},
   "source": [
    "nombre_infected       596\n",
    "nombre_sain          1970\n",
    "nombre_exposed        387\n",
    "nombre_recovered    17047\n",
    "Name: 221, dtype: int64"
   ]
  },
  {
   "cell_type": "markdown",
   "id": "b4a31301",
   "metadata": {},
   "source": [
    "nombre_infected       581\n",
    "nombre_sain          1997\n",
    "nombre_exposed        373\n",
    "nombre_recovered    17049\n",
    "Name: 222, dtype: int64"
   ]
  },
  {
   "cell_type": "markdown",
   "id": "58f7cb1c",
   "metadata": {},
   "source": [
    "nombre_infected       571\n",
    "nombre_sain          2002\n",
    "nombre_exposed        372\n",
    "nombre_recovered    17055\n",
    "Name: 223, dtype: int64"
   ]
  },
  {
   "cell_type": "markdown",
   "id": "6a7f3afa",
   "metadata": {},
   "source": [
    "nombre_infected       578\n",
    "nombre_sain          2031\n",
    "nombre_exposed        353\n",
    "nombre_recovered    17038\n",
    "Name: 224, dtype: int64"
   ]
  },
  {
   "cell_type": "markdown",
   "id": "122b099c",
   "metadata": {},
   "source": [
    "nombre_infected       586\n",
    "nombre_sain          2017\n",
    "nombre_exposed        354\n",
    "nombre_recovered    17043\n",
    "Name: 225, dtype: int64"
   ]
  },
  {
   "cell_type": "markdown",
   "id": "2a216f7d",
   "metadata": {},
   "source": [
    "nombre_infected       564\n",
    "nombre_sain          2034\n",
    "nombre_exposed        379\n",
    "nombre_recovered    17023\n",
    "Name: 226, dtype: int64"
   ]
  },
  {
   "cell_type": "markdown",
   "id": "a7dedcfa",
   "metadata": {},
   "source": [
    "nombre_infected       576\n",
    "nombre_sain          2077\n",
    "nombre_exposed        359\n",
    "nombre_recovered    16988\n",
    "Name: 227, dtype: int64"
   ]
  },
  {
   "cell_type": "markdown",
   "id": "251ac389",
   "metadata": {},
   "source": [
    "nombre_infected       569\n",
    "nombre_sain          2106\n",
    "nombre_exposed        353\n",
    "nombre_recovered    16972\n",
    "Name: 228, dtype: int64"
   ]
  },
  {
   "cell_type": "markdown",
   "id": "a2588f1b",
   "metadata": {},
   "source": [
    "nombre_infected       569\n",
    "nombre_sain          2156\n",
    "nombre_exposed        352\n",
    "nombre_recovered    16923\n",
    "Name: 229, dtype: int64"
   ]
  },
  {
   "cell_type": "markdown",
   "id": "9da8b302",
   "metadata": {},
   "source": [
    "nombre_infected       571\n",
    "nombre_sain          2187\n",
    "nombre_exposed        349\n",
    "nombre_recovered    16893\n",
    "Name: 230, dtype: int64"
   ]
  },
  {
   "cell_type": "markdown",
   "id": "a3998cf5",
   "metadata": {},
   "source": [
    "nombre_infected       558\n",
    "nombre_sain          2242\n",
    "nombre_exposed        340\n",
    "nombre_recovered    16860\n",
    "Name: 231, dtype: int64"
   ]
  },
  {
   "cell_type": "markdown",
   "id": "6dc1be49",
   "metadata": {},
   "source": [
    "nombre_infected       539\n",
    "nombre_sain          2259\n",
    "nombre_exposed        358\n",
    "nombre_recovered    16844\n",
    "Name: 232, dtype: int64"
   ]
  },
  {
   "cell_type": "markdown",
   "id": "ce5a1b0f",
   "metadata": {},
   "source": [
    "nombre_infected       559\n",
    "nombre_sain          2300\n",
    "nombre_exposed        340\n",
    "nombre_recovered    16801\n",
    "Name: 233, dtype: int64"
   ]
  },
  {
   "cell_type": "markdown",
   "id": "3e571476",
   "metadata": {},
   "source": [
    "nombre_infected       523\n",
    "nombre_sain          2314\n",
    "nombre_exposed        363\n",
    "nombre_recovered    16800\n",
    "Name: 234, dtype: int64"
   ]
  },
  {
   "cell_type": "markdown",
   "id": "c042b65f",
   "metadata": {},
   "source": [
    "nombre_infected       524\n",
    "nombre_sain          2350\n",
    "nombre_exposed        357\n",
    "nombre_recovered    16769\n",
    "Name: 235, dtype: int64"
   ]
  },
  {
   "cell_type": "markdown",
   "id": "fd082f28",
   "metadata": {},
   "source": [
    "nombre_infected       522\n",
    "nombre_sain          2369\n",
    "nombre_exposed        362\n",
    "nombre_recovered    16747\n",
    "Name: 236, dtype: int64"
   ]
  },
  {
   "cell_type": "markdown",
   "id": "1065994e",
   "metadata": {},
   "source": [
    "nombre_infected       523\n",
    "nombre_sain          2366\n",
    "nombre_exposed        355\n",
    "nombre_recovered    16756\n",
    "Name: 237, dtype: int64"
   ]
  },
  {
   "cell_type": "markdown",
   "id": "83394aa4",
   "metadata": {},
   "source": [
    "nombre_infected       529\n",
    "nombre_sain          2387\n",
    "nombre_exposed        354\n",
    "nombre_recovered    16730\n",
    "Name: 238, dtype: int64"
   ]
  },
  {
   "cell_type": "markdown",
   "id": "04305d45",
   "metadata": {},
   "source": [
    "nombre_infected       535\n",
    "nombre_sain          2385\n",
    "nombre_exposed        351\n",
    "nombre_recovered    16729\n",
    "Name: 239, dtype: int64"
   ]
  },
  {
   "cell_type": "markdown",
   "id": "9483da9c",
   "metadata": {},
   "source": [
    "nombre_infected       537\n",
    "nombre_sain          2376\n",
    "nombre_exposed        361\n",
    "nombre_recovered    16726\n",
    "Name: 240, dtype: int64"
   ]
  },
  {
   "cell_type": "markdown",
   "id": "b7c5ba3d",
   "metadata": {},
   "source": [
    "nombre_infected       542\n",
    "nombre_sain          2381\n",
    "nombre_exposed        360\n",
    "nombre_recovered    16717\n",
    "Name: 241, dtype: int64"
   ]
  },
  {
   "cell_type": "markdown",
   "id": "0c00da65",
   "metadata": {},
   "source": [
    "nombre_infected       550\n",
    "nombre_sain          2395\n",
    "nombre_exposed        359\n",
    "nombre_recovered    16696\n",
    "Name: 242, dtype: int64"
   ]
  },
  {
   "cell_type": "markdown",
   "id": "fc1b78e0",
   "metadata": {},
   "source": [
    "nombre_infected       562\n",
    "nombre_sain          2393\n",
    "nombre_exposed        360\n",
    "nombre_recovered    16685\n",
    "Name: 243, dtype: int64"
   ]
  },
  {
   "cell_type": "markdown",
   "id": "3b5cd2ca",
   "metadata": {},
   "source": [
    "nombre_infected       572\n",
    "nombre_sain          2400\n",
    "nombre_exposed        371\n",
    "nombre_recovered    16657\n",
    "Name: 244, dtype: int64"
   ]
  },
  {
   "cell_type": "markdown",
   "id": "9a077889",
   "metadata": {},
   "source": [
    "nombre_infected       575\n",
    "nombre_sain          2409\n",
    "nombre_exposed        383\n",
    "nombre_recovered    16633\n",
    "Name: 245, dtype: int64"
   ]
  },
  {
   "cell_type": "markdown",
   "id": "c1796ef8",
   "metadata": {},
   "source": [
    "nombre_infected       583\n",
    "nombre_sain          2408\n",
    "nombre_exposed        387\n",
    "nombre_recovered    16622\n",
    "Name: 246, dtype: int64"
   ]
  },
  {
   "cell_type": "markdown",
   "id": "a1dfe294",
   "metadata": {},
   "source": [
    "nombre_infected       603\n",
    "nombre_sain          2436\n",
    "nombre_exposed        403\n",
    "nombre_recovered    16558\n",
    "Name: 247, dtype: int64"
   ]
  },
  {
   "cell_type": "markdown",
   "id": "f08f930d",
   "metadata": {},
   "source": [
    "nombre_infected       598\n",
    "nombre_sain          2426\n",
    "nombre_exposed        415\n",
    "nombre_recovered    16561\n",
    "Name: 248, dtype: int64"
   ]
  },
  {
   "cell_type": "markdown",
   "id": "5aa11c7a",
   "metadata": {},
   "source": [
    "nombre_infected       606\n",
    "nombre_sain          2414\n",
    "nombre_exposed        432\n",
    "nombre_recovered    16548\n",
    "Name: 249, dtype: int64"
   ]
  },
  {
   "cell_type": "markdown",
   "id": "dabbfc60",
   "metadata": {},
   "source": [
    "nombre_infected       612\n",
    "nombre_sain          2396\n",
    "nombre_exposed        447\n",
    "nombre_recovered    16545\n",
    "Name: 250, dtype: int64"
   ]
  },
  {
   "cell_type": "markdown",
   "id": "26986543",
   "metadata": {},
   "source": [
    "nombre_infected       647\n",
    "nombre_sain          2379\n",
    "nombre_exposed        434\n",
    "nombre_recovered    16540\n",
    "Name: 251, dtype: int64"
   ]
  },
  {
   "cell_type": "markdown",
   "id": "1573be9b",
   "metadata": {},
   "source": [
    "nombre_infected       655\n",
    "nombre_sain          2392\n",
    "nombre_exposed        432\n",
    "nombre_recovered    16521\n",
    "Name: 252, dtype: int64"
   ]
  },
  {
   "cell_type": "markdown",
   "id": "16357dcd",
   "metadata": {},
   "source": [
    "nombre_infected       656\n",
    "nombre_sain          2398\n",
    "nombre_exposed        433\n",
    "nombre_recovered    16513\n",
    "Name: 253, dtype: int64"
   ]
  },
  {
   "cell_type": "markdown",
   "id": "9cd57a1f",
   "metadata": {},
   "source": [
    "nombre_infected       652\n",
    "nombre_sain          2390\n",
    "nombre_exposed        448\n",
    "nombre_recovered    16510\n",
    "Name: 254, dtype: int64"
   ]
  },
  {
   "cell_type": "markdown",
   "id": "2ed7b0b2",
   "metadata": {},
   "source": [
    "nombre_infected       632\n",
    "nombre_sain          2383\n",
    "nombre_exposed        463\n",
    "nombre_recovered    16522\n",
    "Name: 255, dtype: int64"
   ]
  },
  {
   "cell_type": "markdown",
   "id": "3e9ecd8d",
   "metadata": {},
   "source": [
    "nombre_infected       653\n",
    "nombre_sain          2378\n",
    "nombre_exposed        453\n",
    "nombre_recovered    16516\n",
    "Name: 256, dtype: int64"
   ]
  },
  {
   "cell_type": "markdown",
   "id": "66df2dba",
   "metadata": {},
   "source": [
    "nombre_infected       667\n",
    "nombre_sain          2360\n",
    "nombre_exposed        455\n",
    "nombre_recovered    16518\n",
    "Name: 257, dtype: int64"
   ]
  },
  {
   "cell_type": "markdown",
   "id": "4a61f6c2",
   "metadata": {},
   "source": [
    "nombre_infected       663\n",
    "nombre_sain          2371\n",
    "nombre_exposed        435\n",
    "nombre_recovered    16531\n",
    "Name: 258, dtype: int64"
   ]
  },
  {
   "cell_type": "markdown",
   "id": "d1962643",
   "metadata": {},
   "source": [
    "nombre_infected       688\n",
    "nombre_sain          2352\n",
    "nombre_exposed        414\n",
    "nombre_recovered    16546\n",
    "Name: 259, dtype: int64"
   ]
  },
  {
   "cell_type": "markdown",
   "id": "6caccb7a",
   "metadata": {},
   "source": [
    "nombre_infected       691\n",
    "nombre_sain          2345\n",
    "nombre_exposed        414\n",
    "nombre_recovered    16550\n",
    "Name: 260, dtype: int64"
   ]
  },
  {
   "cell_type": "markdown",
   "id": "8803a0d7",
   "metadata": {},
   "source": [
    "nombre_infected       698\n",
    "nombre_sain          2321\n",
    "nombre_exposed        426\n",
    "nombre_recovered    16555\n",
    "Name: 261, dtype: int64"
   ]
  },
  {
   "cell_type": "markdown",
   "id": "8a760526",
   "metadata": {},
   "source": [
    "nombre_infected       707\n",
    "nombre_sain          2297\n",
    "nombre_exposed        431\n",
    "nombre_recovered    16565\n",
    "Name: 262, dtype: int64"
   ]
  },
  {
   "cell_type": "markdown",
   "id": "6e06973d",
   "metadata": {},
   "source": [
    "nombre_infected       706\n",
    "nombre_sain          2284\n",
    "nombre_exposed        447\n",
    "nombre_recovered    16563\n",
    "Name: 263, dtype: int64"
   ]
  },
  {
   "cell_type": "markdown",
   "id": "af0bcfcd",
   "metadata": {},
   "source": [
    "nombre_infected       715\n",
    "nombre_sain          2273\n",
    "nombre_exposed        432\n",
    "nombre_recovered    16580\n",
    "Name: 264, dtype: int64"
   ]
  },
  {
   "cell_type": "markdown",
   "id": "30176680",
   "metadata": {},
   "source": [
    "nombre_infected       706\n",
    "nombre_sain          2259\n",
    "nombre_exposed        442\n",
    "nombre_recovered    16593\n",
    "Name: 265, dtype: int64"
   ]
  },
  {
   "cell_type": "markdown",
   "id": "1cbb4cee",
   "metadata": {},
   "source": [
    "nombre_infected       702\n",
    "nombre_sain          2276\n",
    "nombre_exposed        427\n",
    "nombre_recovered    16595\n",
    "Name: 266, dtype: int64"
   ]
  },
  {
   "cell_type": "markdown",
   "id": "3a915ffb",
   "metadata": {},
   "source": [
    "nombre_infected       709\n",
    "nombre_sain          2264\n",
    "nombre_exposed        428\n",
    "nombre_recovered    16599\n",
    "Name: 267, dtype: int64"
   ]
  },
  {
   "cell_type": "markdown",
   "id": "0cf01c4d",
   "metadata": {},
   "source": [
    "nombre_infected       724\n",
    "nombre_sain          2210\n",
    "nombre_exposed        451\n",
    "nombre_recovered    16615\n",
    "Name: 268, dtype: int64"
   ]
  },
  {
   "cell_type": "markdown",
   "id": "5d1672d5",
   "metadata": {},
   "source": [
    "nombre_infected       706\n",
    "nombre_sain          2182\n",
    "nombre_exposed        454\n",
    "nombre_recovered    16658\n",
    "Name: 269, dtype: int64"
   ]
  },
  {
   "cell_type": "markdown",
   "id": "0d4e0864",
   "metadata": {},
   "source": [
    "nombre_infected       713\n",
    "nombre_sain          2160\n",
    "nombre_exposed        452\n",
    "nombre_recovered    16675\n",
    "Name: 270, dtype: int64"
   ]
  },
  {
   "cell_type": "markdown",
   "id": "bcc6b514",
   "metadata": {},
   "source": [
    "nombre_infected       722\n",
    "nombre_sain          2140\n",
    "nombre_exposed        447\n",
    "nombre_recovered    16691\n",
    "Name: 271, dtype: int64"
   ]
  },
  {
   "cell_type": "markdown",
   "id": "03eb0414",
   "metadata": {},
   "source": [
    "nombre_infected       712\n",
    "nombre_sain          2162\n",
    "nombre_exposed        438\n",
    "nombre_recovered    16688\n",
    "Name: 272, dtype: int64"
   ]
  },
  {
   "cell_type": "markdown",
   "id": "e515eed7",
   "metadata": {},
   "source": [
    "nombre_infected       700\n",
    "nombre_sain          2189\n",
    "nombre_exposed        427\n",
    "nombre_recovered    16684\n",
    "Name: 273, dtype: int64"
   ]
  },
  {
   "cell_type": "markdown",
   "id": "dc0726d7",
   "metadata": {},
   "source": [
    "nombre_infected       697\n",
    "nombre_sain          2199\n",
    "nombre_exposed        420\n",
    "nombre_recovered    16684\n",
    "Name: 274, dtype: int64"
   ]
  },
  {
   "cell_type": "markdown",
   "id": "4ab00e68",
   "metadata": {},
   "source": [
    "nombre_infected       724\n",
    "nombre_sain          2209\n",
    "nombre_exposed        387\n",
    "nombre_recovered    16680\n",
    "Name: 275, dtype: int64"
   ]
  },
  {
   "cell_type": "markdown",
   "id": "d80f9542",
   "metadata": {},
   "source": [
    "nombre_infected       700\n",
    "nombre_sain          2197\n",
    "nombre_exposed        418\n",
    "nombre_recovered    16685\n",
    "Name: 276, dtype: int64"
   ]
  },
  {
   "cell_type": "markdown",
   "id": "675bb450",
   "metadata": {},
   "source": [
    "nombre_infected       719\n",
    "nombre_sain          2185\n",
    "nombre_exposed        422\n",
    "nombre_recovered    16674\n",
    "Name: 277, dtype: int64"
   ]
  },
  {
   "cell_type": "markdown",
   "id": "840d3f93",
   "metadata": {},
   "source": [
    "nombre_infected       702\n",
    "nombre_sain          2181\n",
    "nombre_exposed        422\n",
    "nombre_recovered    16695\n",
    "Name: 278, dtype: int64"
   ]
  },
  {
   "cell_type": "markdown",
   "id": "b4e8ddef",
   "metadata": {},
   "source": [
    "nombre_infected       675\n",
    "nombre_sain          2159\n",
    "nombre_exposed        436\n",
    "nombre_recovered    16730\n",
    "Name: 279, dtype: int64"
   ]
  },
  {
   "cell_type": "markdown",
   "id": "8c461f0a",
   "metadata": {},
   "source": [
    "nombre_infected       673\n",
    "nombre_sain          2154\n",
    "nombre_exposed        427\n",
    "nombre_recovered    16746\n",
    "Name: 280, dtype: int64"
   ]
  },
  {
   "cell_type": "markdown",
   "id": "0ebaa618",
   "metadata": {},
   "source": [
    "nombre_infected       669\n",
    "nombre_sain          2155\n",
    "nombre_exposed        424\n",
    "nombre_recovered    16752\n",
    "Name: 281, dtype: int64"
   ]
  },
  {
   "cell_type": "markdown",
   "id": "39ea68ea",
   "metadata": {},
   "source": [
    "nombre_infected       676\n",
    "nombre_sain          2139\n",
    "nombre_exposed        406\n",
    "nombre_recovered    16779\n",
    "Name: 282, dtype: int64"
   ]
  },
  {
   "cell_type": "markdown",
   "id": "ceb0d7f0",
   "metadata": {},
   "source": [
    "nombre_infected       690\n",
    "nombre_sain          2129\n",
    "nombre_exposed        416\n",
    "nombre_recovered    16765\n",
    "Name: 283, dtype: int64"
   ]
  },
  {
   "cell_type": "markdown",
   "id": "ea6e0e70",
   "metadata": {},
   "source": [
    "nombre_infected       678\n",
    "nombre_sain          2143\n",
    "nombre_exposed        406\n",
    "nombre_recovered    16773\n",
    "Name: 284, dtype: int64"
   ]
  },
  {
   "cell_type": "markdown",
   "id": "cb5769e5",
   "metadata": {},
   "source": [
    "nombre_infected       662\n",
    "nombre_sain          2155\n",
    "nombre_exposed        384\n",
    "nombre_recovered    16799\n",
    "Name: 285, dtype: int64"
   ]
  },
  {
   "cell_type": "markdown",
   "id": "b689c46e",
   "metadata": {},
   "source": [
    "nombre_infected       657\n",
    "nombre_sain          2148\n",
    "nombre_exposed        385\n",
    "nombre_recovered    16810\n",
    "Name: 286, dtype: int64"
   ]
  },
  {
   "cell_type": "markdown",
   "id": "1dac535e",
   "metadata": {},
   "source": [
    "nombre_infected       631\n",
    "nombre_sain          2143\n",
    "nombre_exposed        379\n",
    "nombre_recovered    16847\n",
    "Name: 287, dtype: int64"
   ]
  },
  {
   "cell_type": "markdown",
   "id": "727a8f22",
   "metadata": {},
   "source": [
    "nombre_infected       618\n",
    "nombre_sain          2152\n",
    "nombre_exposed        373\n",
    "nombre_recovered    16857\n",
    "Name: 288, dtype: int64"
   ]
  },
  {
   "cell_type": "markdown",
   "id": "d31d1f43",
   "metadata": {},
   "source": [
    "nombre_infected       609\n",
    "nombre_sain          2142\n",
    "nombre_exposed        379\n",
    "nombre_recovered    16870\n",
    "Name: 289, dtype: int64"
   ]
  },
  {
   "cell_type": "markdown",
   "id": "a055268a",
   "metadata": {},
   "source": [
    "nombre_infected       599\n",
    "nombre_sain          2144\n",
    "nombre_exposed        379\n",
    "nombre_recovered    16878\n",
    "Name: 290, dtype: int64"
   ]
  },
  {
   "cell_type": "markdown",
   "id": "a75fe52b",
   "metadata": {},
   "source": [
    "nombre_infected       604\n",
    "nombre_sain          2147\n",
    "nombre_exposed        374\n",
    "nombre_recovered    16875\n",
    "Name: 291, dtype: int64"
   ]
  },
  {
   "cell_type": "markdown",
   "id": "5748cdf7",
   "metadata": {},
   "source": [
    "nombre_infected       597\n",
    "nombre_sain          2149\n",
    "nombre_exposed        379\n",
    "nombre_recovered    16875\n",
    "Name: 292, dtype: int64"
   ]
  },
  {
   "cell_type": "markdown",
   "id": "05174efe",
   "metadata": {},
   "source": [
    "nombre_infected       593\n",
    "nombre_sain          2169\n",
    "nombre_exposed        393\n",
    "nombre_recovered    16845\n",
    "Name: 293, dtype: int64"
   ]
  },
  {
   "cell_type": "markdown",
   "id": "1368737a",
   "metadata": {},
   "source": [
    "nombre_infected       581\n",
    "nombre_sain          2203\n",
    "nombre_exposed        390\n",
    "nombre_recovered    16826\n",
    "Name: 294, dtype: int64"
   ]
  },
  {
   "cell_type": "markdown",
   "id": "0e587563",
   "metadata": {},
   "source": [
    "nombre_infected       577\n",
    "nombre_sain          2212\n",
    "nombre_exposed        400\n",
    "nombre_recovered    16811\n",
    "Name: 295, dtype: int64"
   ]
  },
  {
   "cell_type": "markdown",
   "id": "5d33917c",
   "metadata": {},
   "source": [
    "nombre_infected       580\n",
    "nombre_sain          2236\n",
    "nombre_exposed        379\n",
    "nombre_recovered    16805\n",
    "Name: 296, dtype: int64"
   ]
  },
  {
   "cell_type": "markdown",
   "id": "c5e47ff7",
   "metadata": {},
   "source": [
    "nombre_infected       573\n",
    "nombre_sain          2249\n",
    "nombre_exposed        369\n",
    "nombre_recovered    16809\n",
    "Name: 297, dtype: int64"
   ]
  },
  {
   "cell_type": "markdown",
   "id": "43e34b4e",
   "metadata": {},
   "source": [
    "nombre_infected       572\n",
    "nombre_sain          2275\n",
    "nombre_exposed        357\n",
    "nombre_recovered    16796\n",
    "Name: 298, dtype: int64"
   ]
  },
  {
   "cell_type": "markdown",
   "id": "899265da",
   "metadata": {},
   "source": [
    "nombre_infected       591\n",
    "nombre_sain          2301\n",
    "nombre_exposed        345\n",
    "nombre_recovered    16763\n",
    "Name: 299, dtype: int64"
   ]
  },
  {
   "cell_type": "markdown",
   "id": "041c986b",
   "metadata": {},
   "source": [
    "nombre_infected       570\n",
    "nombre_sain          2339\n",
    "nombre_exposed        348\n",
    "nombre_recovered    16743\n",
    "Name: 300, dtype: int64"
   ]
  },
  {
   "cell_type": "markdown",
   "id": "807fee44",
   "metadata": {},
   "source": [
    "nombre_infected       581\n",
    "nombre_sain          2338\n",
    "nombre_exposed        352\n",
    "nombre_recovered    16729\n",
    "Name: 301, dtype: int64"
   ]
  },
  {
   "cell_type": "markdown",
   "id": "3c7ae29d",
   "metadata": {},
   "source": [
    "nombre_infected       570\n",
    "nombre_sain          2352\n",
    "nombre_exposed        359\n",
    "nombre_recovered    16719\n",
    "Name: 302, dtype: int64"
   ]
  },
  {
   "cell_type": "markdown",
   "id": "d988728b",
   "metadata": {},
   "source": [
    "nombre_infected       572\n",
    "nombre_sain          2375\n",
    "nombre_exposed        369\n",
    "nombre_recovered    16684\n",
    "Name: 303, dtype: int64"
   ]
  },
  {
   "cell_type": "markdown",
   "id": "41105524",
   "metadata": {},
   "source": [
    "nombre_infected       593\n",
    "nombre_sain          2369\n",
    "nombre_exposed        382\n",
    "nombre_recovered    16656\n",
    "Name: 304, dtype: int64"
   ]
  },
  {
   "cell_type": "markdown",
   "id": "241e8260",
   "metadata": {},
   "source": [
    "nombre_infected       596\n",
    "nombre_sain          2395\n",
    "nombre_exposed        397\n",
    "nombre_recovered    16612\n",
    "Name: 305, dtype: int64"
   ]
  },
  {
   "cell_type": "markdown",
   "id": "291f606a",
   "metadata": {},
   "source": [
    "nombre_infected       600\n",
    "nombre_sain          2444\n",
    "nombre_exposed        383\n",
    "nombre_recovered    16573\n",
    "Name: 306, dtype: int64"
   ]
  },
  {
   "cell_type": "markdown",
   "id": "33b300d6",
   "metadata": {},
   "source": [
    "nombre_infected       623\n",
    "nombre_sain          2447\n",
    "nombre_exposed        383\n",
    "nombre_recovered    16547\n",
    "Name: 307, dtype: int64"
   ]
  },
  {
   "cell_type": "markdown",
   "id": "cac47d1b",
   "metadata": {},
   "source": [
    "nombre_infected       639\n",
    "nombre_sain          2446\n",
    "nombre_exposed        378\n",
    "nombre_recovered    16537\n",
    "Name: 308, dtype: int64"
   ]
  },
  {
   "cell_type": "markdown",
   "id": "88dcb69e",
   "metadata": {},
   "source": [
    "nombre_infected       639\n",
    "nombre_sain          2459\n",
    "nombre_exposed        388\n",
    "nombre_recovered    16514\n",
    "Name: 309, dtype: int64"
   ]
  },
  {
   "cell_type": "markdown",
   "id": "f2f26b84",
   "metadata": {},
   "source": [
    "nombre_infected       643\n",
    "nombre_sain          2468\n",
    "nombre_exposed        398\n",
    "nombre_recovered    16491\n",
    "Name: 310, dtype: int64"
   ]
  },
  {
   "cell_type": "markdown",
   "id": "2de616aa",
   "metadata": {},
   "source": [
    "nombre_infected       648\n",
    "nombre_sain          2477\n",
    "nombre_exposed        409\n",
    "nombre_recovered    16466\n",
    "Name: 311, dtype: int64"
   ]
  },
  {
   "cell_type": "markdown",
   "id": "474ba6df",
   "metadata": {},
   "source": [
    "nombre_infected       663\n",
    "nombre_sain          2467\n",
    "nombre_exposed        406\n",
    "nombre_recovered    16464\n",
    "Name: 312, dtype: int64"
   ]
  },
  {
   "cell_type": "markdown",
   "id": "2d87338e",
   "metadata": {},
   "source": [
    "nombre_infected       667\n",
    "nombre_sain          2470\n",
    "nombre_exposed        418\n",
    "nombre_recovered    16445\n",
    "Name: 313, dtype: int64"
   ]
  },
  {
   "cell_type": "markdown",
   "id": "f6f77a70",
   "metadata": {},
   "source": [
    "nombre_infected       673\n",
    "nombre_sain          2476\n",
    "nombre_exposed        421\n",
    "nombre_recovered    16430\n",
    "Name: 314, dtype: int64"
   ]
  },
  {
   "cell_type": "markdown",
   "id": "e24f83f2",
   "metadata": {},
   "source": [
    "nombre_infected       658\n",
    "nombre_sain          2481\n",
    "nombre_exposed        443\n",
    "nombre_recovered    16418\n",
    "Name: 315, dtype: int64"
   ]
  },
  {
   "cell_type": "markdown",
   "id": "50c95763",
   "metadata": {},
   "source": [
    "nombre_infected       666\n",
    "nombre_sain          2499\n",
    "nombre_exposed        450\n",
    "nombre_recovered    16385\n",
    "Name: 316, dtype: int64"
   ]
  },
  {
   "cell_type": "markdown",
   "id": "29c17beb",
   "metadata": {},
   "source": [
    "nombre_infected       696\n",
    "nombre_sain          2508\n",
    "nombre_exposed        431\n",
    "nombre_recovered    16365\n",
    "Name: 317, dtype: int64"
   ]
  },
  {
   "cell_type": "markdown",
   "id": "822b2958",
   "metadata": {},
   "source": [
    "nombre_infected       697\n",
    "nombre_sain          2517\n",
    "nombre_exposed        463\n",
    "nombre_recovered    16323\n",
    "Name: 318, dtype: int64"
   ]
  },
  {
   "cell_type": "markdown",
   "id": "12ad561f",
   "metadata": {},
   "source": [
    "nombre_infected       710\n",
    "nombre_sain          2521\n",
    "nombre_exposed        466\n",
    "nombre_recovered    16303\n",
    "Name: 319, dtype: int64"
   ]
  },
  {
   "cell_type": "markdown",
   "id": "52e0145f",
   "metadata": {},
   "source": [
    "nombre_infected       716\n",
    "nombre_sain          2523\n",
    "nombre_exposed        472\n",
    "nombre_recovered    16289\n",
    "Name: 320, dtype: int64"
   ]
  },
  {
   "cell_type": "markdown",
   "id": "ffa47602",
   "metadata": {},
   "source": [
    "nombre_infected       751\n",
    "nombre_sain          2496\n",
    "nombre_exposed        478\n",
    "nombre_recovered    16275\n",
    "Name: 321, dtype: int64"
   ]
  },
  {
   "cell_type": "markdown",
   "id": "e03fe630",
   "metadata": {},
   "source": [
    "nombre_infected       754\n",
    "nombre_sain          2495\n",
    "nombre_exposed        498\n",
    "nombre_recovered    16253\n",
    "Name: 322, dtype: int64"
   ]
  },
  {
   "cell_type": "markdown",
   "id": "4d8aa16a",
   "metadata": {},
   "source": [
    "nombre_infected       773\n",
    "nombre_sain          2502\n",
    "nombre_exposed        498\n",
    "nombre_recovered    16227\n",
    "Name: 323, dtype: int64"
   ]
  },
  {
   "cell_type": "markdown",
   "id": "ec21ce1b",
   "metadata": {},
   "source": [
    "nombre_infected       779\n",
    "nombre_sain          2490\n",
    "nombre_exposed        503\n",
    "nombre_recovered    16228\n",
    "Name: 324, dtype: int64"
   ]
  },
  {
   "cell_type": "markdown",
   "id": "b3028129",
   "metadata": {},
   "source": [
    "nombre_infected       801\n",
    "nombre_sain          2459\n",
    "nombre_exposed        518\n",
    "nombre_recovered    16222\n",
    "Name: 325, dtype: int64"
   ]
  },
  {
   "cell_type": "markdown",
   "id": "22ae2954",
   "metadata": {},
   "source": [
    "nombre_infected       820\n",
    "nombre_sain          2435\n",
    "nombre_exposed        527\n",
    "nombre_recovered    16218\n",
    "Name: 326, dtype: int64"
   ]
  },
  {
   "cell_type": "markdown",
   "id": "24566bcc",
   "metadata": {},
   "source": [
    "nombre_infected       817\n",
    "nombre_sain          2413\n",
    "nombre_exposed        545\n",
    "nombre_recovered    16225\n",
    "Name: 327, dtype: int64"
   ]
  },
  {
   "cell_type": "markdown",
   "id": "9ea02187",
   "metadata": {},
   "source": [
    "nombre_infected       795\n",
    "nombre_sain          2392\n",
    "nombre_exposed        541\n",
    "nombre_recovered    16272\n",
    "Name: 328, dtype: int64"
   ]
  },
  {
   "cell_type": "markdown",
   "id": "3e5ff459",
   "metadata": {},
   "source": [
    "nombre_infected       826\n",
    "nombre_sain          2406\n",
    "nombre_exposed        518\n",
    "nombre_recovered    16250\n",
    "Name: 329, dtype: int64"
   ]
  },
  {
   "cell_type": "markdown",
   "id": "02545b5c",
   "metadata": {},
   "source": [
    "nombre_infected       840\n",
    "nombre_sain          2369\n",
    "nombre_exposed        519\n",
    "nombre_recovered    16272\n",
    "Name: 330, dtype: int64"
   ]
  },
  {
   "cell_type": "markdown",
   "id": "1773a9fd",
   "metadata": {},
   "source": [
    "nombre_infected       847\n",
    "nombre_sain          2329\n",
    "nombre_exposed        529\n",
    "nombre_recovered    16295\n",
    "Name: 331, dtype: int64"
   ]
  },
  {
   "cell_type": "markdown",
   "id": "cc579795",
   "metadata": {},
   "source": [
    "nombre_infected       837\n",
    "nombre_sain          2309\n",
    "nombre_exposed        542\n",
    "nombre_recovered    16312\n",
    "Name: 332, dtype: int64"
   ]
  },
  {
   "cell_type": "markdown",
   "id": "f9811db5",
   "metadata": {},
   "source": [
    "nombre_infected       825\n",
    "nombre_sain          2287\n",
    "nombre_exposed        556\n",
    "nombre_recovered    16332\n",
    "Name: 333, dtype: int64"
   ]
  },
  {
   "cell_type": "markdown",
   "id": "e65569b5",
   "metadata": {},
   "source": [
    "nombre_infected       844\n",
    "nombre_sain          2272\n",
    "nombre_exposed        555\n",
    "nombre_recovered    16329\n",
    "Name: 334, dtype: int64"
   ]
  },
  {
   "cell_type": "markdown",
   "id": "3d41d13d",
   "metadata": {},
   "source": [
    "nombre_infected       859\n",
    "nombre_sain          2268\n",
    "nombre_exposed        564\n",
    "nombre_recovered    16309\n",
    "Name: 335, dtype: int64"
   ]
  },
  {
   "cell_type": "markdown",
   "id": "03b0e975",
   "metadata": {},
   "source": [
    "nombre_infected       876\n",
    "nombre_sain          2264\n",
    "nombre_exposed        555\n",
    "nombre_recovered    16305\n",
    "Name: 336, dtype: int64"
   ]
  },
  {
   "cell_type": "markdown",
   "id": "b7f30b2a",
   "metadata": {},
   "source": [
    "nombre_infected       891\n",
    "nombre_sain          2262\n",
    "nombre_exposed        541\n",
    "nombre_recovered    16306\n",
    "Name: 337, dtype: int64"
   ]
  },
  {
   "cell_type": "markdown",
   "id": "a96a2456",
   "metadata": {},
   "source": [
    "nombre_infected       882\n",
    "nombre_sain          2230\n",
    "nombre_exposed        557\n",
    "nombre_recovered    16331\n",
    "Name: 338, dtype: int64"
   ]
  },
  {
   "cell_type": "markdown",
   "id": "51f23162",
   "metadata": {},
   "source": [
    "nombre_infected       901\n",
    "nombre_sain          2221\n",
    "nombre_exposed        533\n",
    "nombre_recovered    16345\n",
    "Name: 339, dtype: int64"
   ]
  },
  {
   "cell_type": "markdown",
   "id": "5ad8b9da",
   "metadata": {},
   "source": [
    "nombre_infected       927\n",
    "nombre_sain          2195\n",
    "nombre_exposed        518\n",
    "nombre_recovered    16360\n",
    "Name: 340, dtype: int64"
   ]
  },
  {
   "cell_type": "markdown",
   "id": "4bcbfbd7",
   "metadata": {},
   "source": [
    "nombre_infected       951\n",
    "nombre_sain          2154\n",
    "nombre_exposed        527\n",
    "nombre_recovered    16368\n",
    "Name: 341, dtype: int64"
   ]
  },
  {
   "cell_type": "markdown",
   "id": "6759e618",
   "metadata": {},
   "source": [
    "nombre_infected       971\n",
    "nombre_sain          2135\n",
    "nombre_exposed        507\n",
    "nombre_recovered    16387\n",
    "Name: 342, dtype: int64"
   ]
  },
  {
   "cell_type": "markdown",
   "id": "680215cc",
   "metadata": {},
   "source": [
    "nombre_infected       941\n",
    "nombre_sain          2098\n",
    "nombre_exposed        513\n",
    "nombre_recovered    16448\n",
    "Name: 343, dtype: int64"
   ]
  },
  {
   "cell_type": "markdown",
   "id": "73271c7f",
   "metadata": {},
   "source": [
    "nombre_infected       952\n",
    "nombre_sain          2090\n",
    "nombre_exposed        501\n",
    "nombre_recovered    16457\n",
    "Name: 344, dtype: int64"
   ]
  },
  {
   "cell_type": "markdown",
   "id": "76d650af",
   "metadata": {},
   "source": [
    "nombre_infected       948\n",
    "nombre_sain          2085\n",
    "nombre_exposed        497\n",
    "nombre_recovered    16470\n",
    "Name: 345, dtype: int64"
   ]
  },
  {
   "cell_type": "markdown",
   "id": "c3b7d471",
   "metadata": {},
   "source": [
    "nombre_infected       940\n",
    "nombre_sain          2053\n",
    "nombre_exposed        515\n",
    "nombre_recovered    16492\n",
    "Name: 346, dtype: int64"
   ]
  },
  {
   "cell_type": "markdown",
   "id": "a883cdca",
   "metadata": {},
   "source": [
    "nombre_infected       923\n",
    "nombre_sain          2041\n",
    "nombre_exposed        528\n",
    "nombre_recovered    16508\n",
    "Name: 347, dtype: int64"
   ]
  },
  {
   "cell_type": "markdown",
   "id": "bf88d95f",
   "metadata": {},
   "source": [
    "nombre_infected       926\n",
    "nombre_sain          2028\n",
    "nombre_exposed        516\n",
    "nombre_recovered    16530\n",
    "Name: 348, dtype: int64"
   ]
  },
  {
   "cell_type": "markdown",
   "id": "01db1f1c",
   "metadata": {},
   "source": [
    "nombre_infected       914\n",
    "nombre_sain          2019\n",
    "nombre_exposed        517\n",
    "nombre_recovered    16550\n",
    "Name: 349, dtype: int64"
   ]
  },
  {
   "cell_type": "markdown",
   "id": "e717ec37",
   "metadata": {},
   "source": [
    "nombre_infected       910\n",
    "nombre_sain          2016\n",
    "nombre_exposed        512\n",
    "nombre_recovered    16562\n",
    "Name: 350, dtype: int64"
   ]
  },
  {
   "cell_type": "markdown",
   "id": "ab81d354",
   "metadata": {},
   "source": [
    "nombre_infected       918\n",
    "nombre_sain          2005\n",
    "nombre_exposed        505\n",
    "nombre_recovered    16572\n",
    "Name: 351, dtype: int64"
   ]
  },
  {
   "cell_type": "markdown",
   "id": "304a2060",
   "metadata": {},
   "source": [
    "nombre_infected       898\n",
    "nombre_sain          2012\n",
    "nombre_exposed        505\n",
    "nombre_recovered    16585\n",
    "Name: 352, dtype: int64"
   ]
  },
  {
   "cell_type": "markdown",
   "id": "27cb7d8a",
   "metadata": {},
   "source": [
    "nombre_infected       884\n",
    "nombre_sain          2010\n",
    "nombre_exposed        515\n",
    "nombre_recovered    16591\n",
    "Name: 353, dtype: int64"
   ]
  },
  {
   "cell_type": "markdown",
   "id": "fcb364a4",
   "metadata": {},
   "source": [
    "nombre_infected       876\n",
    "nombre_sain          2014\n",
    "nombre_exposed        507\n",
    "nombre_recovered    16603\n",
    "Name: 354, dtype: int64"
   ]
  },
  {
   "cell_type": "markdown",
   "id": "2c50811e",
   "metadata": {},
   "source": [
    "nombre_infected       859\n",
    "nombre_sain          2019\n",
    "nombre_exposed        502\n",
    "nombre_recovered    16620\n",
    "Name: 355, dtype: int64"
   ]
  },
  {
   "cell_type": "markdown",
   "id": "4debd177",
   "metadata": {},
   "source": [
    "nombre_infected       834\n",
    "nombre_sain          2027\n",
    "nombre_exposed        521\n",
    "nombre_recovered    16618\n",
    "Name: 356, dtype: int64"
   ]
  },
  {
   "cell_type": "markdown",
   "id": "038adfa3",
   "metadata": {},
   "source": [
    "nombre_infected       831\n",
    "nombre_sain          2034\n",
    "nombre_exposed        531\n",
    "nombre_recovered    16604\n",
    "Name: 357, dtype: int64"
   ]
  },
  {
   "cell_type": "markdown",
   "id": "be1105cb",
   "metadata": {},
   "source": [
    "nombre_infected       843\n",
    "nombre_sain          2043\n",
    "nombre_exposed        517\n",
    "nombre_recovered    16597\n",
    "Name: 358, dtype: int64"
   ]
  },
  {
   "cell_type": "markdown",
   "id": "8ed7a955",
   "metadata": {},
   "source": [
    "nombre_infected       849\n",
    "nombre_sain          2024\n",
    "nombre_exposed        541\n",
    "nombre_recovered    16586\n",
    "Name: 359, dtype: int64"
   ]
  },
  {
   "cell_type": "markdown",
   "id": "5e494839",
   "metadata": {},
   "source": [
    "nombre_infected       854\n",
    "nombre_sain          2028\n",
    "nombre_exposed        510\n",
    "nombre_recovered    16608\n",
    "Name: 360, dtype: int64"
   ]
  },
  {
   "cell_type": "markdown",
   "id": "15a3a5cf",
   "metadata": {},
   "source": [
    "nombre_infected       867\n",
    "nombre_sain          2026\n",
    "nombre_exposed        482\n",
    "nombre_recovered    16625\n",
    "Name: 361, dtype: int64"
   ]
  },
  {
   "cell_type": "markdown",
   "id": "fdce8fc1",
   "metadata": {},
   "source": [
    "nombre_infected       874\n",
    "nombre_sain          2031\n",
    "nombre_exposed        487\n",
    "nombre_recovered    16608\n",
    "Name: 362, dtype: int64"
   ]
  },
  {
   "cell_type": "markdown",
   "id": "f27353de",
   "metadata": {},
   "source": [
    "nombre_infected       867\n",
    "nombre_sain          2014\n",
    "nombre_exposed        482\n",
    "nombre_recovered    16637\n",
    "Name: 363, dtype: int64"
   ]
  },
  {
   "cell_type": "markdown",
   "id": "da86afec",
   "metadata": {},
   "source": [
    "nombre_infected       837\n",
    "nombre_sain          2002\n",
    "nombre_exposed        502\n",
    "nombre_recovered    16659\n",
    "Name: 364, dtype: int64"
   ]
  },
  {
   "cell_type": "markdown",
   "id": "5247137f",
   "metadata": {},
   "source": [
    "nombre_infected       818\n",
    "nombre_sain          1982\n",
    "nombre_exposed        514\n",
    "nombre_recovered    16686\n",
    "Name: 365, dtype: int64"
   ]
  },
  {
   "cell_type": "markdown",
   "id": "8dc8943c",
   "metadata": {},
   "source": [
    "nombre_infected       804\n",
    "nombre_sain          1985\n",
    "nombre_exposed        496\n",
    "nombre_recovered    16715\n",
    "Name: 366, dtype: int64"
   ]
  },
  {
   "cell_type": "markdown",
   "id": "4d92ace9",
   "metadata": {},
   "source": [
    "nombre_infected       803\n",
    "nombre_sain          1975\n",
    "nombre_exposed        477\n",
    "nombre_recovered    16745\n",
    "Name: 367, dtype: int64"
   ]
  },
  {
   "cell_type": "markdown",
   "id": "7b72c378",
   "metadata": {},
   "source": [
    "nombre_infected       802\n",
    "nombre_sain          1969\n",
    "nombre_exposed        486\n",
    "nombre_recovered    16743\n",
    "Name: 368, dtype: int64"
   ]
  },
  {
   "cell_type": "markdown",
   "id": "4957b0c6",
   "metadata": {},
   "source": [
    "nombre_infected       782\n",
    "nombre_sain          1999\n",
    "nombre_exposed        469\n",
    "nombre_recovered    16750\n",
    "Name: 369, dtype: int64"
   ]
  },
  {
   "cell_type": "markdown",
   "id": "2d5d6155",
   "metadata": {},
   "source": [
    "nombre_infected       771\n",
    "nombre_sain          2028\n",
    "nombre_exposed        440\n",
    "nombre_recovered    16761\n",
    "Name: 370, dtype: int64"
   ]
  },
  {
   "cell_type": "markdown",
   "id": "fb352a2b",
   "metadata": {},
   "source": [
    "nombre_infected       765\n",
    "nombre_sain          2031\n",
    "nombre_exposed        451\n",
    "nombre_recovered    16753\n",
    "Name: 371, dtype: int64"
   ]
  },
  {
   "cell_type": "markdown",
   "id": "843df80d",
   "metadata": {},
   "source": [
    "nombre_infected       744\n",
    "nombre_sain          2031\n",
    "nombre_exposed        446\n",
    "nombre_recovered    16779\n",
    "Name: 372, dtype: int64"
   ]
  },
  {
   "cell_type": "markdown",
   "id": "4c9a03c9",
   "metadata": {},
   "source": [
    "nombre_infected       730\n",
    "nombre_sain          2083\n",
    "nombre_exposed        421\n",
    "nombre_recovered    16766\n",
    "Name: 373, dtype: int64"
   ]
  },
  {
   "cell_type": "markdown",
   "id": "264716af",
   "metadata": {},
   "source": [
    "nombre_infected       738\n",
    "nombre_sain          2120\n",
    "nombre_exposed        399\n",
    "nombre_recovered    16743\n",
    "Name: 374, dtype: int64"
   ]
  },
  {
   "cell_type": "markdown",
   "id": "23fa74b8",
   "metadata": {},
   "source": [
    "nombre_infected       716\n",
    "nombre_sain          2146\n",
    "nombre_exposed        410\n",
    "nombre_recovered    16728\n",
    "Name: 375, dtype: int64"
   ]
  },
  {
   "cell_type": "markdown",
   "id": "a61a9c21",
   "metadata": {},
   "source": [
    "nombre_infected       705\n",
    "nombre_sain          2156\n",
    "nombre_exposed        406\n",
    "nombre_recovered    16733\n",
    "Name: 376, dtype: int64"
   ]
  },
  {
   "cell_type": "markdown",
   "id": "9a0f4976",
   "metadata": {},
   "source": [
    "nombre_infected       697\n",
    "nombre_sain          2194\n",
    "nombre_exposed        416\n",
    "nombre_recovered    16693\n",
    "Name: 377, dtype: int64"
   ]
  },
  {
   "cell_type": "markdown",
   "id": "04097a6a",
   "metadata": {},
   "source": [
    "nombre_infected       691\n",
    "nombre_sain          2200\n",
    "nombre_exposed        438\n",
    "nombre_recovered    16671\n",
    "Name: 378, dtype: int64"
   ]
  },
  {
   "cell_type": "markdown",
   "id": "071b03a1",
   "metadata": {},
   "source": [
    "nombre_infected       679\n",
    "nombre_sain          2206\n",
    "nombre_exposed        442\n",
    "nombre_recovered    16673\n",
    "Name: 379, dtype: int64"
   ]
  },
  {
   "cell_type": "markdown",
   "id": "a4b8b5bb",
   "metadata": {},
   "source": [
    "nombre_infected       686\n",
    "nombre_sain          2246\n",
    "nombre_exposed        402\n",
    "nombre_recovered    16666\n",
    "Name: 380, dtype: int64"
   ]
  },
  {
   "cell_type": "markdown",
   "id": "0486b0c0",
   "metadata": {},
   "source": [
    "nombre_infected       671\n",
    "nombre_sain          2279\n",
    "nombre_exposed        403\n",
    "nombre_recovered    16647\n",
    "Name: 381, dtype: int64"
   ]
  },
  {
   "cell_type": "markdown",
   "id": "a5e25f04",
   "metadata": {},
   "source": [
    "nombre_infected       671\n",
    "nombre_sain          2305\n",
    "nombre_exposed        405\n",
    "nombre_recovered    16619\n",
    "Name: 382, dtype: int64"
   ]
  },
  {
   "cell_type": "markdown",
   "id": "c58961d4",
   "metadata": {},
   "source": [
    "nombre_infected       662\n",
    "nombre_sain          2338\n",
    "nombre_exposed        421\n",
    "nombre_recovered    16579\n",
    "Name: 383, dtype: int64"
   ]
  },
  {
   "cell_type": "markdown",
   "id": "7f247064",
   "metadata": {},
   "source": [
    "nombre_infected       661\n",
    "nombre_sain          2380\n",
    "nombre_exposed        420\n",
    "nombre_recovered    16539\n",
    "Name: 384, dtype: int64"
   ]
  },
  {
   "cell_type": "markdown",
   "id": "e1d0b392",
   "metadata": {},
   "source": [
    "nombre_infected       680\n",
    "nombre_sain          2426\n",
    "nombre_exposed        402\n",
    "nombre_recovered    16492\n",
    "Name: 385, dtype: int64"
   ]
  },
  {
   "cell_type": "markdown",
   "id": "865734a0",
   "metadata": {},
   "source": [
    "nombre_infected       694\n",
    "nombre_sain          2459\n",
    "nombre_exposed        392\n",
    "nombre_recovered    16455\n",
    "Name: 386, dtype: int64"
   ]
  },
  {
   "cell_type": "markdown",
   "id": "f50fc098",
   "metadata": {},
   "source": [
    "nombre_infected       672\n",
    "nombre_sain          2438\n",
    "nombre_exposed        428\n",
    "nombre_recovered    16462\n",
    "Name: 387, dtype: int64"
   ]
  },
  {
   "cell_type": "markdown",
   "id": "90265a48",
   "metadata": {},
   "source": [
    "nombre_infected       683\n",
    "nombre_sain          2430\n",
    "nombre_exposed        433\n",
    "nombre_recovered    16454\n",
    "Name: 388, dtype: int64"
   ]
  },
  {
   "cell_type": "markdown",
   "id": "cb3045aa",
   "metadata": {},
   "source": [
    "nombre_infected       666\n",
    "nombre_sain          2417\n",
    "nombre_exposed        453\n",
    "nombre_recovered    16464\n",
    "Name: 389, dtype: int64"
   ]
  },
  {
   "cell_type": "markdown",
   "id": "7e8f6a96",
   "metadata": {},
   "source": [
    "nombre_infected       671\n",
    "nombre_sain          2453\n",
    "nombre_exposed        441\n",
    "nombre_recovered    16435\n",
    "Name: 390, dtype: int64"
   ]
  },
  {
   "cell_type": "markdown",
   "id": "39b6507d",
   "metadata": {},
   "source": [
    "nombre_infected       682\n",
    "nombre_sain          2451\n",
    "nombre_exposed        430\n",
    "nombre_recovered    16437\n",
    "Name: 391, dtype: int64"
   ]
  },
  {
   "cell_type": "markdown",
   "id": "c4ff5f91",
   "metadata": {},
   "source": [
    "nombre_infected       674\n",
    "nombre_sain          2460\n",
    "nombre_exposed        426\n",
    "nombre_recovered    16440\n",
    "Name: 392, dtype: int64"
   ]
  },
  {
   "cell_type": "markdown",
   "id": "c8a6b38c",
   "metadata": {},
   "source": [
    "nombre_infected       659\n",
    "nombre_sain          2479\n",
    "nombre_exposed        441\n",
    "nombre_recovered    16421\n",
    "Name: 393, dtype: int64"
   ]
  },
  {
   "cell_type": "markdown",
   "id": "c51fc460",
   "metadata": {},
   "source": [
    "nombre_infected       629\n",
    "nombre_sain          2467\n",
    "nombre_exposed        458\n",
    "nombre_recovered    16446\n",
    "Name: 394, dtype: int64"
   ]
  },
  {
   "cell_type": "markdown",
   "id": "cb79c11c",
   "metadata": {},
   "source": [
    "nombre_infected       652\n",
    "nombre_sain          2482\n",
    "nombre_exposed        443\n",
    "nombre_recovered    16423\n",
    "Name: 395, dtype: int64"
   ]
  },
  {
   "cell_type": "markdown",
   "id": "98b5b44d",
   "metadata": {},
   "source": [
    "nombre_infected       653\n",
    "nombre_sain          2496\n",
    "nombre_exposed        451\n",
    "nombre_recovered    16400\n",
    "Name: 396, dtype: int64"
   ]
  },
  {
   "cell_type": "markdown",
   "id": "7f86def8",
   "metadata": {},
   "source": [
    "nombre_infected       660\n",
    "nombre_sain          2489\n",
    "nombre_exposed        464\n",
    "nombre_recovered    16387\n",
    "Name: 397, dtype: int64"
   ]
  },
  {
   "cell_type": "markdown",
   "id": "2a0f433a",
   "metadata": {},
   "source": [
    "nombre_infected       656\n",
    "nombre_sain          2487\n",
    "nombre_exposed        494\n",
    "nombre_recovered    16363\n",
    "Name: 398, dtype: int64"
   ]
  },
  {
   "cell_type": "markdown",
   "id": "aaa308cb",
   "metadata": {},
   "source": [
    "nombre_infected       674\n",
    "nombre_sain          2471\n",
    "nombre_exposed        486\n",
    "nombre_recovered    16369\n",
    "Name: 399, dtype: int64"
   ]
  },
  {
   "cell_type": "markdown",
   "id": "0dbba11b",
   "metadata": {},
   "source": [
    "nombre_infected       702\n",
    "nombre_sain          2496\n",
    "nombre_exposed        459\n",
    "nombre_recovered    16343\n",
    "Name: 400, dtype: int64"
   ]
  },
  {
   "cell_type": "markdown",
   "id": "61384070",
   "metadata": {},
   "source": [
    "nombre_infected       711\n",
    "nombre_sain          2499\n",
    "nombre_exposed        477\n",
    "nombre_recovered    16313\n",
    "Name: 401, dtype: int64"
   ]
  },
  {
   "cell_type": "markdown",
   "id": "fa2a9323",
   "metadata": {},
   "source": [
    "nombre_infected       722\n",
    "nombre_sain          2508\n",
    "nombre_exposed        497\n",
    "nombre_recovered    16273\n",
    "Name: 402, dtype: int64"
   ]
  },
  {
   "cell_type": "markdown",
   "id": "081567b0",
   "metadata": {},
   "source": [
    "nombre_infected       723\n",
    "nombre_sain          2501\n",
    "nombre_exposed        517\n",
    "nombre_recovered    16259\n",
    "Name: 403, dtype: int64"
   ]
  },
  {
   "cell_type": "markdown",
   "id": "c497b6c2",
   "metadata": {},
   "source": [
    "nombre_infected       731\n",
    "nombre_sain          2460\n",
    "nombre_exposed        550\n",
    "nombre_recovered    16259\n",
    "Name: 404, dtype: int64"
   ]
  },
  {
   "cell_type": "markdown",
   "id": "5f61ec92",
   "metadata": {},
   "source": [
    "nombre_infected       738\n",
    "nombre_sain          2452\n",
    "nombre_exposed        556\n",
    "nombre_recovered    16254\n",
    "Name: 405, dtype: int64"
   ]
  },
  {
   "cell_type": "markdown",
   "id": "8945bef1",
   "metadata": {},
   "source": [
    "nombre_infected       748\n",
    "nombre_sain          2440\n",
    "nombre_exposed        578\n",
    "nombre_recovered    16234\n",
    "Name: 406, dtype: int64"
   ]
  },
  {
   "cell_type": "markdown",
   "id": "f177a056",
   "metadata": {},
   "source": [
    "nombre_infected       782\n",
    "nombre_sain          2402\n",
    "nombre_exposed        599\n",
    "nombre_recovered    16217\n",
    "Name: 407, dtype: int64"
   ]
  },
  {
   "cell_type": "markdown",
   "id": "a171cce1",
   "metadata": {},
   "source": [
    "nombre_infected       807\n",
    "nombre_sain          2374\n",
    "nombre_exposed        606\n",
    "nombre_recovered    16213\n",
    "Name: 408, dtype: int64"
   ]
  },
  {
   "cell_type": "markdown",
   "id": "193ef3c1",
   "metadata": {},
   "source": [
    "nombre_infected       806\n",
    "nombre_sain          2348\n",
    "nombre_exposed        617\n",
    "nombre_recovered    16229\n",
    "Name: 409, dtype: int64"
   ]
  },
  {
   "cell_type": "markdown",
   "id": "abd0857c",
   "metadata": {},
   "source": [
    "nombre_infected       825\n",
    "nombre_sain          2310\n",
    "nombre_exposed        630\n",
    "nombre_recovered    16235\n",
    "Name: 410, dtype: int64"
   ]
  },
  {
   "cell_type": "markdown",
   "id": "c6caaf9f",
   "metadata": {},
   "source": [
    "nombre_infected       839\n",
    "nombre_sain          2302\n",
    "nombre_exposed        633\n",
    "nombre_recovered    16226\n",
    "Name: 411, dtype: int64"
   ]
  },
  {
   "cell_type": "markdown",
   "id": "4acc0598",
   "metadata": {},
   "source": [
    "nombre_infected       863\n",
    "nombre_sain          2312\n",
    "nombre_exposed        601\n",
    "nombre_recovered    16224\n",
    "Name: 412, dtype: int64"
   ]
  },
  {
   "cell_type": "markdown",
   "id": "eb38f4b7",
   "metadata": {},
   "source": [
    "nombre_infected       891\n",
    "nombre_sain          2294\n",
    "nombre_exposed        604\n",
    "nombre_recovered    16211\n",
    "Name: 413, dtype: int64"
   ]
  },
  {
   "cell_type": "markdown",
   "id": "869b317a",
   "metadata": {},
   "source": [
    "nombre_infected       884\n",
    "nombre_sain          2288\n",
    "nombre_exposed        619\n",
    "nombre_recovered    16209\n",
    "Name: 414, dtype: int64"
   ]
  },
  {
   "cell_type": "markdown",
   "id": "d44b28a7",
   "metadata": {},
   "source": [
    "nombre_infected       888\n",
    "nombre_sain          2280\n",
    "nombre_exposed        616\n",
    "nombre_recovered    16216\n",
    "Name: 415, dtype: int64"
   ]
  },
  {
   "cell_type": "markdown",
   "id": "6be6a0a5",
   "metadata": {},
   "source": [
    "nombre_infected       915\n",
    "nombre_sain          2254\n",
    "nombre_exposed        602\n",
    "nombre_recovered    16229\n",
    "Name: 416, dtype: int64"
   ]
  },
  {
   "cell_type": "markdown",
   "id": "7f2900e9",
   "metadata": {},
   "source": [
    "nombre_infected       923\n",
    "nombre_sain          2235\n",
    "nombre_exposed        605\n",
    "nombre_recovered    16237\n",
    "Name: 417, dtype: int64"
   ]
  },
  {
   "cell_type": "markdown",
   "id": "065a96b6",
   "metadata": {},
   "source": [
    "nombre_infected       932\n",
    "nombre_sain          2200\n",
    "nombre_exposed        619\n",
    "nombre_recovered    16249\n",
    "Name: 418, dtype: int64"
   ]
  },
  {
   "cell_type": "markdown",
   "id": "fda7c7fc",
   "metadata": {},
   "source": [
    "nombre_infected       952\n",
    "nombre_sain          2171\n",
    "nombre_exposed        610\n",
    "nombre_recovered    16267\n",
    "Name: 419, dtype: int64"
   ]
  },
  {
   "cell_type": "markdown",
   "id": "8192b1a4",
   "metadata": {},
   "source": [
    "nombre_infected       938\n",
    "nombre_sain          2154\n",
    "nombre_exposed        622\n",
    "nombre_recovered    16286\n",
    "Name: 420, dtype: int64"
   ]
  },
  {
   "cell_type": "markdown",
   "id": "2d384094",
   "metadata": {},
   "source": [
    "nombre_infected       961\n",
    "nombre_sain          2142\n",
    "nombre_exposed        615\n",
    "nombre_recovered    16282\n",
    "Name: 421, dtype: int64"
   ]
  },
  {
   "cell_type": "markdown",
   "id": "aa4fd428",
   "metadata": {},
   "source": [
    "nombre_infected       945\n",
    "nombre_sain          2103\n",
    "nombre_exposed        628\n",
    "nombre_recovered    16324\n",
    "Name: 422, dtype: int64"
   ]
  },
  {
   "cell_type": "markdown",
   "id": "7d0fc38a",
   "metadata": {},
   "source": [
    "nombre_infected       950\n",
    "nombre_sain          2111\n",
    "nombre_exposed        616\n",
    "nombre_recovered    16323\n",
    "Name: 423, dtype: int64"
   ]
  },
  {
   "cell_type": "markdown",
   "id": "52431f88",
   "metadata": {},
   "source": [
    "nombre_infected       949\n",
    "nombre_sain          2078\n",
    "nombre_exposed        631\n",
    "nombre_recovered    16342\n",
    "Name: 424, dtype: int64"
   ]
  },
  {
   "cell_type": "markdown",
   "id": "76c270d2",
   "metadata": {},
   "source": [
    "nombre_infected       974\n",
    "nombre_sain          2070\n",
    "nombre_exposed        625\n",
    "nombre_recovered    16331\n",
    "Name: 425, dtype: int64"
   ]
  },
  {
   "cell_type": "markdown",
   "id": "2c176d10",
   "metadata": {},
   "source": [
    "nombre_infected       976\n",
    "nombre_sain          2090\n",
    "nombre_exposed        605\n",
    "nombre_recovered    16329\n",
    "Name: 426, dtype: int64"
   ]
  },
  {
   "cell_type": "markdown",
   "id": "2362736d",
   "metadata": {},
   "source": [
    "nombre_infected       984\n",
    "nombre_sain          2048\n",
    "nombre_exposed        612\n",
    "nombre_recovered    16356\n",
    "Name: 427, dtype: int64"
   ]
  },
  {
   "cell_type": "markdown",
   "id": "417a246e",
   "metadata": {},
   "source": [
    "nombre_infected       977\n",
    "nombre_sain          2035\n",
    "nombre_exposed        606\n",
    "nombre_recovered    16382\n",
    "Name: 428, dtype: int64"
   ]
  },
  {
   "cell_type": "markdown",
   "id": "fa3177f3",
   "metadata": {},
   "source": [
    "nombre_infected       963\n",
    "nombre_sain          2006\n",
    "nombre_exposed        609\n",
    "nombre_recovered    16422\n",
    "Name: 429, dtype: int64"
   ]
  },
  {
   "cell_type": "markdown",
   "id": "01dbbf33",
   "metadata": {},
   "source": [
    "nombre_infected       966\n",
    "nombre_sain          1989\n",
    "nombre_exposed        599\n",
    "nombre_recovered    16446\n",
    "Name: 430, dtype: int64"
   ]
  },
  {
   "cell_type": "markdown",
   "id": "6980bc41",
   "metadata": {},
   "source": [
    "nombre_infected       995\n",
    "nombre_sain          1991\n",
    "nombre_exposed        566\n",
    "nombre_recovered    16448\n",
    "Name: 431, dtype: int64"
   ]
  },
  {
   "cell_type": "markdown",
   "id": "b82b50b4",
   "metadata": {},
   "source": [
    "nombre_infected       979\n",
    "nombre_sain          1971\n",
    "nombre_exposed        567\n",
    "nombre_recovered    16483\n",
    "Name: 432, dtype: int64"
   ]
  },
  {
   "cell_type": "markdown",
   "id": "16c2f325",
   "metadata": {},
   "source": [
    "nombre_infected       993\n",
    "nombre_sain          1974\n",
    "nombre_exposed        540\n",
    "nombre_recovered    16493\n",
    "Name: 433, dtype: int64"
   ]
  },
  {
   "cell_type": "markdown",
   "id": "8c849268",
   "metadata": {},
   "source": [
    "nombre_infected       975\n",
    "nombre_sain          1969\n",
    "nombre_exposed        556\n",
    "nombre_recovered    16500\n",
    "Name: 434, dtype: int64"
   ]
  },
  {
   "cell_type": "markdown",
   "id": "af98393d",
   "metadata": {},
   "source": [
    "nombre_infected       954\n",
    "nombre_sain          1941\n",
    "nombre_exposed        555\n",
    "nombre_recovered    16550\n",
    "Name: 435, dtype: int64"
   ]
  },
  {
   "cell_type": "markdown",
   "id": "8926de05",
   "metadata": {},
   "source": [
    "nombre_infected       951\n",
    "nombre_sain          1930\n",
    "nombre_exposed        537\n",
    "nombre_recovered    16582\n",
    "Name: 436, dtype: int64"
   ]
  },
  {
   "cell_type": "markdown",
   "id": "811bafcd",
   "metadata": {},
   "source": [
    "nombre_infected       944\n",
    "nombre_sain          1948\n",
    "nombre_exposed        512\n",
    "nombre_recovered    16596\n",
    "Name: 437, dtype: int64"
   ]
  },
  {
   "cell_type": "markdown",
   "id": "b465b843",
   "metadata": {},
   "source": [
    "nombre_infected       956\n",
    "nombre_sain          1942\n",
    "nombre_exposed        490\n",
    "nombre_recovered    16612\n",
    "Name: 438, dtype: int64"
   ]
  },
  {
   "cell_type": "markdown",
   "id": "235cb237",
   "metadata": {},
   "source": [
    "nombre_infected       927\n",
    "nombre_sain          1940\n",
    "nombre_exposed        510\n",
    "nombre_recovered    16623\n",
    "Name: 439, dtype: int64"
   ]
  },
  {
   "cell_type": "markdown",
   "id": "4e810eef",
   "metadata": {},
   "source": [
    "nombre_infected       912\n",
    "nombre_sain          1935\n",
    "nombre_exposed        497\n",
    "nombre_recovered    16656\n",
    "Name: 440, dtype: int64"
   ]
  },
  {
   "cell_type": "markdown",
   "id": "199185e2",
   "metadata": {},
   "source": [
    "nombre_infected       918\n",
    "nombre_sain          1942\n",
    "nombre_exposed        490\n",
    "nombre_recovered    16650\n",
    "Name: 441, dtype: int64"
   ]
  },
  {
   "cell_type": "markdown",
   "id": "24996494",
   "metadata": {},
   "source": [
    "nombre_infected       881\n",
    "nombre_sain          1917\n",
    "nombre_exposed        516\n",
    "nombre_recovered    16686\n",
    "Name: 442, dtype: int64"
   ]
  },
  {
   "cell_type": "markdown",
   "id": "0540b201",
   "metadata": {},
   "source": [
    "nombre_infected       877\n",
    "nombre_sain          1918\n",
    "nombre_exposed        504\n",
    "nombre_recovered    16701\n",
    "Name: 443, dtype: int64"
   ]
  },
  {
   "cell_type": "markdown",
   "id": "5f1bb185",
   "metadata": {},
   "source": [
    "nombre_infected       859\n",
    "nombre_sain          1930\n",
    "nombre_exposed        507\n",
    "nombre_recovered    16704\n",
    "Name: 444, dtype: int64"
   ]
  },
  {
   "cell_type": "markdown",
   "id": "6d2dbcc9",
   "metadata": {},
   "source": [
    "nombre_infected       824\n",
    "nombre_sain          1948\n",
    "nombre_exposed        500\n",
    "nombre_recovered    16728\n",
    "Name: 445, dtype: int64"
   ]
  },
  {
   "cell_type": "markdown",
   "id": "9710a689",
   "metadata": {},
   "source": [
    "nombre_infected       805\n",
    "nombre_sain          1950\n",
    "nombre_exposed        484\n",
    "nombre_recovered    16761\n",
    "Name: 446, dtype: int64"
   ]
  },
  {
   "cell_type": "markdown",
   "id": "fbce86a9",
   "metadata": {},
   "source": [
    "nombre_infected       808\n",
    "nombre_sain          1945\n",
    "nombre_exposed        471\n",
    "nombre_recovered    16776\n",
    "Name: 447, dtype: int64"
   ]
  },
  {
   "cell_type": "markdown",
   "id": "f7ec1532",
   "metadata": {},
   "source": [
    "nombre_infected       797\n",
    "nombre_sain          1942\n",
    "nombre_exposed        480\n",
    "nombre_recovered    16781\n",
    "Name: 448, dtype: int64"
   ]
  },
  {
   "cell_type": "markdown",
   "id": "cf7f932d",
   "metadata": {},
   "source": [
    "nombre_infected       777\n",
    "nombre_sain          1932\n",
    "nombre_exposed        491\n",
    "nombre_recovered    16800\n",
    "Name: 449, dtype: int64"
   ]
  },
  {
   "cell_type": "markdown",
   "id": "b8f97692",
   "metadata": {},
   "source": [
    "nombre_infected       797\n",
    "nombre_sain          1934\n",
    "nombre_exposed        473\n",
    "nombre_recovered    16796\n",
    "Name: 450, dtype: int64"
   ]
  },
  {
   "cell_type": "markdown",
   "id": "54c0cf07",
   "metadata": {},
   "source": [
    "nombre_infected       809\n",
    "nombre_sain          1920\n",
    "nombre_exposed        454\n",
    "nombre_recovered    16817\n",
    "Name: 451, dtype: int64"
   ]
  },
  {
   "cell_type": "markdown",
   "id": "54e9900b",
   "metadata": {},
   "source": [
    "nombre_infected       806\n",
    "nombre_sain          1938\n",
    "nombre_exposed        425\n",
    "nombre_recovered    16831\n",
    "Name: 452, dtype: int64"
   ]
  },
  {
   "cell_type": "markdown",
   "id": "95a9665d",
   "metadata": {},
   "source": [
    "nombre_infected       794\n",
    "nombre_sain          1939\n",
    "nombre_exposed        457\n",
    "nombre_recovered    16810\n",
    "Name: 453, dtype: int64"
   ]
  },
  {
   "cell_type": "markdown",
   "id": "2b5e5699",
   "metadata": {},
   "source": [
    "nombre_infected       785\n",
    "nombre_sain          1943\n",
    "nombre_exposed        457\n",
    "nombre_recovered    16815\n",
    "Name: 454, dtype: int64"
   ]
  },
  {
   "cell_type": "markdown",
   "id": "1bcb6434",
   "metadata": {},
   "source": [
    "nombre_infected       770\n",
    "nombre_sain          1946\n",
    "nombre_exposed        445\n",
    "nombre_recovered    16839\n",
    "Name: 455, dtype: int64"
   ]
  },
  {
   "cell_type": "markdown",
   "id": "e420ff12",
   "metadata": {},
   "source": [
    "nombre_infected       769\n",
    "nombre_sain          1962\n",
    "nombre_exposed        426\n",
    "nombre_recovered    16843\n",
    "Name: 456, dtype: int64"
   ]
  },
  {
   "cell_type": "markdown",
   "id": "19f8ad19",
   "metadata": {},
   "source": [
    "nombre_infected       787\n",
    "nombre_sain          1965\n",
    "nombre_exposed        413\n",
    "nombre_recovered    16835\n",
    "Name: 457, dtype: int64"
   ]
  },
  {
   "cell_type": "markdown",
   "id": "1773195e",
   "metadata": {},
   "source": [
    "nombre_infected       745\n",
    "nombre_sain          1985\n",
    "nombre_exposed        433\n",
    "nombre_recovered    16837\n",
    "Name: 458, dtype: int64"
   ]
  },
  {
   "cell_type": "markdown",
   "id": "8c13cae3",
   "metadata": {},
   "source": [
    "nombre_infected       724\n",
    "nombre_sain          1978\n",
    "nombre_exposed        453\n",
    "nombre_recovered    16845\n",
    "Name: 459, dtype: int64"
   ]
  },
  {
   "cell_type": "markdown",
   "id": "3328a4a8",
   "metadata": {},
   "source": [
    "nombre_infected       727\n",
    "nombre_sain          2009\n",
    "nombre_exposed        441\n",
    "nombre_recovered    16823\n",
    "Name: 460, dtype: int64"
   ]
  },
  {
   "cell_type": "markdown",
   "id": "0c0a176d",
   "metadata": {},
   "source": [
    "nombre_infected       724\n",
    "nombre_sain          2033\n",
    "nombre_exposed        439\n",
    "nombre_recovered    16804\n",
    "Name: 461, dtype: int64"
   ]
  },
  {
   "cell_type": "markdown",
   "id": "a6ae78b4",
   "metadata": {},
   "source": [
    "nombre_infected       736\n",
    "nombre_sain          2061\n",
    "nombre_exposed        418\n",
    "nombre_recovered    16785\n",
    "Name: 462, dtype: int64"
   ]
  },
  {
   "cell_type": "markdown",
   "id": "25b05d61",
   "metadata": {},
   "source": [
    "nombre_infected       716\n",
    "nombre_sain          2103\n",
    "nombre_exposed        424\n",
    "nombre_recovered    16757\n",
    "Name: 463, dtype: int64"
   ]
  },
  {
   "cell_type": "markdown",
   "id": "eeff192c",
   "metadata": {},
   "source": [
    "nombre_infected       698\n",
    "nombre_sain          2129\n",
    "nombre_exposed        420\n",
    "nombre_recovered    16753\n",
    "Name: 464, dtype: int64"
   ]
  },
  {
   "cell_type": "markdown",
   "id": "6154b3b4",
   "metadata": {},
   "source": [
    "nombre_infected       698\n",
    "nombre_sain          2150\n",
    "nombre_exposed        408\n",
    "nombre_recovered    16744\n",
    "Name: 465, dtype: int64"
   ]
  },
  {
   "cell_type": "markdown",
   "id": "af310b19",
   "metadata": {},
   "source": [
    "nombre_infected       683\n",
    "nombre_sain          2208\n",
    "nombre_exposed        414\n",
    "nombre_recovered    16695\n",
    "Name: 466, dtype: int64"
   ]
  },
  {
   "cell_type": "markdown",
   "id": "0b76dab9",
   "metadata": {},
   "source": [
    "nombre_infected       685\n",
    "nombre_sain          2218\n",
    "nombre_exposed        431\n",
    "nombre_recovered    16666\n",
    "Name: 467, dtype: int64"
   ]
  },
  {
   "cell_type": "markdown",
   "id": "9df33181",
   "metadata": {},
   "source": [
    "nombre_infected       685\n",
    "nombre_sain          2242\n",
    "nombre_exposed        438\n",
    "nombre_recovered    16635\n",
    "Name: 468, dtype: int64"
   ]
  },
  {
   "cell_type": "markdown",
   "id": "3863f873",
   "metadata": {},
   "source": [
    "nombre_infected       697\n",
    "nombre_sain          2273\n",
    "nombre_exposed        435\n",
    "nombre_recovered    16595\n",
    "Name: 469, dtype: int64"
   ]
  },
  {
   "cell_type": "markdown",
   "id": "49870834",
   "metadata": {},
   "source": [
    "nombre_infected       667\n",
    "nombre_sain          2302\n",
    "nombre_exposed        457\n",
    "nombre_recovered    16574\n",
    "Name: 470, dtype: int64"
   ]
  },
  {
   "cell_type": "markdown",
   "id": "347c4c2b",
   "metadata": {},
   "source": [
    "nombre_infected       697\n",
    "nombre_sain          2349\n",
    "nombre_exposed        427\n",
    "nombre_recovered    16527\n",
    "Name: 471, dtype: int64"
   ]
  },
  {
   "cell_type": "markdown",
   "id": "423bce50",
   "metadata": {},
   "source": [
    "nombre_infected       704\n",
    "nombre_sain          2390\n",
    "nombre_exposed        422\n",
    "nombre_recovered    16484\n",
    "Name: 472, dtype: int64"
   ]
  },
  {
   "cell_type": "markdown",
   "id": "e85509c6",
   "metadata": {},
   "source": [
    "nombre_infected       699\n",
    "nombre_sain          2378\n",
    "nombre_exposed        446\n",
    "nombre_recovered    16477\n",
    "Name: 473, dtype: int64"
   ]
  },
  {
   "cell_type": "markdown",
   "id": "761c0bdd",
   "metadata": {},
   "source": [
    "nombre_infected       689\n",
    "nombre_sain          2409\n",
    "nombre_exposed        455\n",
    "nombre_recovered    16447\n",
    "Name: 474, dtype: int64"
   ]
  },
  {
   "cell_type": "markdown",
   "id": "69aa0dc8",
   "metadata": {},
   "source": [
    "nombre_infected       681\n",
    "nombre_sain          2434\n",
    "nombre_exposed        466\n",
    "nombre_recovered    16419\n",
    "Name: 475, dtype: int64"
   ]
  },
  {
   "cell_type": "markdown",
   "id": "e3dd24e3",
   "metadata": {},
   "source": [
    "nombre_infected       668\n",
    "nombre_sain          2449\n",
    "nombre_exposed        488\n",
    "nombre_recovered    16395\n",
    "Name: 476, dtype: int64"
   ]
  },
  {
   "cell_type": "markdown",
   "id": "b8c2741d",
   "metadata": {},
   "source": [
    "nombre_infected       684\n",
    "nombre_sain          2460\n",
    "nombre_exposed        504\n",
    "nombre_recovered    16352\n",
    "Name: 477, dtype: int64"
   ]
  },
  {
   "cell_type": "markdown",
   "id": "d2fac0da",
   "metadata": {},
   "source": [
    "nombre_infected       696\n",
    "nombre_sain          2485\n",
    "nombre_exposed        501\n",
    "nombre_recovered    16318\n",
    "Name: 478, dtype: int64"
   ]
  },
  {
   "cell_type": "markdown",
   "id": "9bfc7187",
   "metadata": {},
   "source": [
    "nombre_infected       735\n",
    "nombre_sain          2505\n",
    "nombre_exposed        503\n",
    "nombre_recovered    16257\n",
    "Name: 479, dtype: int64"
   ]
  },
  {
   "cell_type": "markdown",
   "id": "b29c7c04",
   "metadata": {},
   "source": [
    "nombre_infected       748\n",
    "nombre_sain          2490\n",
    "nombre_exposed        528\n",
    "nombre_recovered    16234\n",
    "Name: 480, dtype: int64"
   ]
  },
  {
   "cell_type": "markdown",
   "id": "6d3bc5b0",
   "metadata": {},
   "source": [
    "nombre_infected       769\n",
    "nombre_sain          2476\n",
    "nombre_exposed        512\n",
    "nombre_recovered    16243\n",
    "Name: 481, dtype: int64"
   ]
  },
  {
   "cell_type": "markdown",
   "id": "33313470",
   "metadata": {},
   "source": [
    "nombre_infected       780\n",
    "nombre_sain          2461\n",
    "nombre_exposed        528\n",
    "nombre_recovered    16231\n",
    "Name: 482, dtype: int64"
   ]
  },
  {
   "cell_type": "markdown",
   "id": "59ada748",
   "metadata": {},
   "source": [
    "nombre_infected       811\n",
    "nombre_sain          2453\n",
    "nombre_exposed        540\n",
    "nombre_recovered    16196\n",
    "Name: 483, dtype: int64"
   ]
  },
  {
   "cell_type": "markdown",
   "id": "9aa5f5d3",
   "metadata": {},
   "source": [
    "nombre_infected       832\n",
    "nombre_sain          2454\n",
    "nombre_exposed        534\n",
    "nombre_recovered    16180\n",
    "Name: 484, dtype: int64"
   ]
  },
  {
   "cell_type": "markdown",
   "id": "dc8bb5f7",
   "metadata": {},
   "source": [
    "nombre_infected       851\n",
    "nombre_sain          2459\n",
    "nombre_exposed        537\n",
    "nombre_recovered    16153\n",
    "Name: 485, dtype: int64"
   ]
  },
  {
   "cell_type": "markdown",
   "id": "cdf27a85",
   "metadata": {},
   "source": [
    "nombre_infected       871\n",
    "nombre_sain          2447\n",
    "nombre_exposed        559\n",
    "nombre_recovered    16123\n",
    "Name: 486, dtype: int64"
   ]
  },
  {
   "cell_type": "markdown",
   "id": "deddca4d",
   "metadata": {},
   "source": [
    "nombre_infected       883\n",
    "nombre_sain          2432\n",
    "nombre_exposed        574\n",
    "nombre_recovered    16111\n",
    "Name: 487, dtype: int64"
   ]
  },
  {
   "cell_type": "markdown",
   "id": "9decb06d",
   "metadata": {},
   "source": [
    "nombre_infected       909\n",
    "nombre_sain          2400\n",
    "nombre_exposed        599\n",
    "nombre_recovered    16092\n",
    "Name: 488, dtype: int64"
   ]
  },
  {
   "cell_type": "markdown",
   "id": "5355c572",
   "metadata": {},
   "source": [
    "nombre_infected       923\n",
    "nombre_sain          2389\n",
    "nombre_exposed        589\n",
    "nombre_recovered    16099\n",
    "Name: 489, dtype: int64"
   ]
  },
  {
   "cell_type": "markdown",
   "id": "9e80bd76",
   "metadata": {},
   "source": [
    "nombre_infected       915\n",
    "nombre_sain          2347\n",
    "nombre_exposed        603\n",
    "nombre_recovered    16135\n",
    "Name: 490, dtype: int64"
   ]
  },
  {
   "cell_type": "markdown",
   "id": "6bd5d0f7",
   "metadata": {},
   "source": [
    "nombre_infected       948\n",
    "nombre_sain          2341\n",
    "nombre_exposed        598\n",
    "nombre_recovered    16113\n",
    "Name: 491, dtype: int64"
   ]
  },
  {
   "cell_type": "markdown",
   "id": "19e1ceaa",
   "metadata": {},
   "source": [
    "nombre_infected       957\n",
    "nombre_sain          2319\n",
    "nombre_exposed        613\n",
    "nombre_recovered    16111\n",
    "Name: 492, dtype: int64"
   ]
  },
  {
   "cell_type": "markdown",
   "id": "1039e5a9",
   "metadata": {},
   "source": [
    "nombre_infected       981\n",
    "nombre_sain          2289\n",
    "nombre_exposed        628\n",
    "nombre_recovered    16102\n",
    "Name: 493, dtype: int64"
   ]
  },
  {
   "cell_type": "markdown",
   "id": "bae624f1",
   "metadata": {},
   "source": [
    "nombre_infected      1019\n",
    "nombre_sain          2241\n",
    "nombre_exposed        645\n",
    "nombre_recovered    16095\n",
    "Name: 494, dtype: int64"
   ]
  },
  {
   "cell_type": "markdown",
   "id": "658ab002",
   "metadata": {},
   "source": [
    "nombre_infected      1033\n",
    "nombre_sain          2225\n",
    "nombre_exposed        647\n",
    "nombre_recovered    16095\n",
    "Name: 495, dtype: int64"
   ]
  },
  {
   "cell_type": "markdown",
   "id": "24a93173",
   "metadata": {},
   "source": [
    "nombre_infected      1055\n",
    "nombre_sain          2173\n",
    "nombre_exposed        665\n",
    "nombre_recovered    16107\n",
    "Name: 496, dtype: int64"
   ]
  },
  {
   "cell_type": "markdown",
   "id": "ec8d7044",
   "metadata": {},
   "source": [
    "nombre_infected      1039\n",
    "nombre_sain          2147\n",
    "nombre_exposed        676\n",
    "nombre_recovered    16138\n",
    "Name: 497, dtype: int64"
   ]
  },
  {
   "cell_type": "markdown",
   "id": "53c1e8ea",
   "metadata": {},
   "source": [
    "nombre_infected      1055\n",
    "nombre_sain          2124\n",
    "nombre_exposed        658\n",
    "nombre_recovered    16163\n",
    "Name: 498, dtype: int64"
   ]
  },
  {
   "cell_type": "markdown",
   "id": "d5ac73da",
   "metadata": {},
   "source": [
    "nombre_infected      1070\n",
    "nombre_sain          2085\n",
    "nombre_exposed        666\n",
    "nombre_recovered    16179\n",
    "Name: 499, dtype: int64"
   ]
  },
  {
   "cell_type": "markdown",
   "id": "e1bf0a40",
   "metadata": {},
   "source": [
    "nombre_infected      1088\n",
    "nombre_sain          2063\n",
    "nombre_exposed        663\n",
    "nombre_recovered    16186\n",
    "Name: 500, dtype: int64"
   ]
  },
  {
   "cell_type": "markdown",
   "id": "2eee7c8b",
   "metadata": {},
   "source": [
    "nombre_infected      1114\n",
    "nombre_sain          2034\n",
    "nombre_exposed        644\n",
    "nombre_recovered    16208\n",
    "Name: 501, dtype: int64"
   ]
  },
  {
   "cell_type": "markdown",
   "id": "4d56d9fb",
   "metadata": {},
   "source": [
    "nombre_infected      1147\n",
    "nombre_sain          2007\n",
    "nombre_exposed        621\n",
    "nombre_recovered    16225\n",
    "Name: 502, dtype: int64"
   ]
  },
  {
   "cell_type": "markdown",
   "id": "9049c5bd",
   "metadata": {},
   "source": [
    "nombre_infected      1162\n",
    "nombre_sain          1955\n",
    "nombre_exposed        628\n",
    "nombre_recovered    16255\n",
    "Name: 503, dtype: int64"
   ]
  },
  {
   "cell_type": "markdown",
   "id": "495de6fc",
   "metadata": {},
   "source": [
    "nombre_infected      1161\n",
    "nombre_sain          1896\n",
    "nombre_exposed        632\n",
    "nombre_recovered    16311\n",
    "Name: 504, dtype: int64"
   ]
  },
  {
   "cell_type": "markdown",
   "id": "236431e2",
   "metadata": {},
   "source": [
    "nombre_infected      1139\n",
    "nombre_sain          1859\n",
    "nombre_exposed        635\n",
    "nombre_recovered    16367\n",
    "Name: 505, dtype: int64"
   ]
  },
  {
   "cell_type": "markdown",
   "id": "0374db2d",
   "metadata": {},
   "source": [
    "nombre_infected      1125\n",
    "nombre_sain          1809\n",
    "nombre_exposed        649\n",
    "nombre_recovered    16417\n",
    "Name: 506, dtype: int64"
   ]
  },
  {
   "cell_type": "markdown",
   "id": "da2b4da3",
   "metadata": {},
   "source": [
    "nombre_infected      1130\n",
    "nombre_sain          1773\n",
    "nombre_exposed        643\n",
    "nombre_recovered    16454\n",
    "Name: 507, dtype: int64"
   ]
  },
  {
   "cell_type": "markdown",
   "id": "0d848cbd",
   "metadata": {},
   "source": [
    "nombre_infected      1152\n",
    "nombre_sain          1740\n",
    "nombre_exposed        608\n",
    "nombre_recovered    16500\n",
    "Name: 508, dtype: int64"
   ]
  },
  {
   "cell_type": "markdown",
   "id": "670bfd98",
   "metadata": {},
   "source": [
    "nombre_infected      1159\n",
    "nombre_sain          1703\n",
    "nombre_exposed        594\n",
    "nombre_recovered    16544\n",
    "Name: 509, dtype: int64"
   ]
  },
  {
   "cell_type": "markdown",
   "id": "abc91cc3",
   "metadata": {},
   "source": [
    "nombre_infected      1162\n",
    "nombre_sain          1692\n",
    "nombre_exposed        586\n",
    "nombre_recovered    16560\n",
    "Name: 510, dtype: int64"
   ]
  },
  {
   "cell_type": "markdown",
   "id": "5c203720",
   "metadata": {},
   "source": [
    "nombre_infected      1115\n",
    "nombre_sain          1672\n",
    "nombre_exposed        591\n",
    "nombre_recovered    16622\n",
    "Name: 511, dtype: int64"
   ]
  },
  {
   "cell_type": "markdown",
   "id": "7d09f685",
   "metadata": {},
   "source": [
    "nombre_infected      1115\n",
    "nombre_sain          1669\n",
    "nombre_exposed        565\n",
    "nombre_recovered    16651\n",
    "Name: 512, dtype: int64"
   ]
  },
  {
   "cell_type": "markdown",
   "id": "dfd1cebf",
   "metadata": {},
   "source": [
    "nombre_infected      1113\n",
    "nombre_sain          1668\n",
    "nombre_exposed        530\n",
    "nombre_recovered    16689\n",
    "Name: 513, dtype: int64"
   ]
  },
  {
   "cell_type": "markdown",
   "id": "e7b34427",
   "metadata": {},
   "source": [
    "nombre_infected      1098\n",
    "nombre_sain          1654\n",
    "nombre_exposed        524\n",
    "nombre_recovered    16724\n",
    "Name: 514, dtype: int64"
   ]
  },
  {
   "cell_type": "markdown",
   "id": "557cd767",
   "metadata": {},
   "source": [
    "nombre_infected      1081\n",
    "nombre_sain          1667\n",
    "nombre_exposed        503\n",
    "nombre_recovered    16749\n",
    "Name: 515, dtype: int64"
   ]
  },
  {
   "cell_type": "markdown",
   "id": "ef0e991e",
   "metadata": {},
   "source": [
    "nombre_infected      1048\n",
    "nombre_sain          1662\n",
    "nombre_exposed        509\n",
    "nombre_recovered    16781\n",
    "Name: 516, dtype: int64"
   ]
  },
  {
   "cell_type": "markdown",
   "id": "17e1aa49",
   "metadata": {},
   "source": [
    "nombre_infected      1038\n",
    "nombre_sain          1659\n",
    "nombre_exposed        513\n",
    "nombre_recovered    16790\n",
    "Name: 517, dtype: int64"
   ]
  },
  {
   "cell_type": "markdown",
   "id": "a4ebd237",
   "metadata": {},
   "source": [
    "nombre_infected      1036\n",
    "nombre_sain          1646\n",
    "nombre_exposed        511\n",
    "nombre_recovered    16807\n",
    "Name: 518, dtype: int64"
   ]
  },
  {
   "cell_type": "markdown",
   "id": "2a8fbbbe",
   "metadata": {},
   "source": [
    "nombre_infected      1021\n",
    "nombre_sain          1666\n",
    "nombre_exposed        486\n",
    "nombre_recovered    16827\n",
    "Name: 519, dtype: int64"
   ]
  },
  {
   "cell_type": "markdown",
   "id": "61227ac7",
   "metadata": {},
   "source": [
    "nombre_infected      1024\n",
    "nombre_sain          1665\n",
    "nombre_exposed        460\n",
    "nombre_recovered    16851\n",
    "Name: 520, dtype: int64"
   ]
  },
  {
   "cell_type": "markdown",
   "id": "e31011ed",
   "metadata": {},
   "source": [
    "nombre_infected      1018\n",
    "nombre_sain          1667\n",
    "nombre_exposed        455\n",
    "nombre_recovered    16860\n",
    "Name: 521, dtype: int64"
   ]
  },
  {
   "cell_type": "markdown",
   "id": "768c8ee8",
   "metadata": {},
   "source": [
    "nombre_infected       972\n",
    "nombre_sain          1690\n",
    "nombre_exposed        456\n",
    "nombre_recovered    16882\n",
    "Name: 522, dtype: int64"
   ]
  },
  {
   "cell_type": "markdown",
   "id": "0afa0f9d",
   "metadata": {},
   "source": [
    "nombre_infected       971\n",
    "nombre_sain          1702\n",
    "nombre_exposed        445\n",
    "nombre_recovered    16882\n",
    "Name: 523, dtype: int64"
   ]
  },
  {
   "cell_type": "markdown",
   "id": "31f97efb",
   "metadata": {},
   "source": [
    "nombre_infected       948\n",
    "nombre_sain          1717\n",
    "nombre_exposed        450\n",
    "nombre_recovered    16885\n",
    "Name: 524, dtype: int64"
   ]
  },
  {
   "cell_type": "markdown",
   "id": "f7cbe08c",
   "metadata": {},
   "source": [
    "nombre_infected       931\n",
    "nombre_sain          1717\n",
    "nombre_exposed        446\n",
    "nombre_recovered    16906\n",
    "Name: 525, dtype: int64"
   ]
  },
  {
   "cell_type": "markdown",
   "id": "d38d32ca",
   "metadata": {},
   "source": [
    "nombre_infected       897\n",
    "nombre_sain          1730\n",
    "nombre_exposed        443\n",
    "nombre_recovered    16930\n",
    "Name: 526, dtype: int64"
   ]
  },
  {
   "cell_type": "markdown",
   "id": "425e3712",
   "metadata": {},
   "source": [
    "nombre_infected       887\n",
    "nombre_sain          1714\n",
    "nombre_exposed        445\n",
    "nombre_recovered    16954\n",
    "Name: 527, dtype: int64"
   ]
  },
  {
   "cell_type": "markdown",
   "id": "6cca6780",
   "metadata": {},
   "source": [
    "nombre_infected       867\n",
    "nombre_sain          1726\n",
    "nombre_exposed        457\n",
    "nombre_recovered    16950\n",
    "Name: 528, dtype: int64"
   ]
  },
  {
   "cell_type": "markdown",
   "id": "f92adca0",
   "metadata": {},
   "source": [
    "nombre_infected       857\n",
    "nombre_sain          1730\n",
    "nombre_exposed        443\n",
    "nombre_recovered    16970\n",
    "Name: 529, dtype: int64"
   ]
  },
  {
   "cell_type": "markdown",
   "id": "12fa87bd",
   "metadata": {},
   "source": [
    "nombre_infected       852\n",
    "nombre_sain          1758\n",
    "nombre_exposed        411\n",
    "nombre_recovered    16979\n",
    "Name: 530, dtype: int64"
   ]
  },
  {
   "cell_type": "markdown",
   "id": "187de362",
   "metadata": {},
   "source": [
    "nombre_infected       843\n",
    "nombre_sain          1768\n",
    "nombre_exposed        407\n",
    "nombre_recovered    16982\n",
    "Name: 531, dtype: int64"
   ]
  },
  {
   "cell_type": "markdown",
   "id": "8d09920e",
   "metadata": {},
   "source": [
    "nombre_infected       816\n",
    "nombre_sain          1773\n",
    "nombre_exposed        434\n",
    "nombre_recovered    16977\n",
    "Name: 532, dtype: int64"
   ]
  },
  {
   "cell_type": "markdown",
   "id": "d84318ba",
   "metadata": {},
   "source": [
    "nombre_infected       790\n",
    "nombre_sain          1795\n",
    "nombre_exposed        429\n",
    "nombre_recovered    16986\n",
    "Name: 533, dtype: int64"
   ]
  },
  {
   "cell_type": "markdown",
   "id": "3f1ecc0b",
   "metadata": {},
   "source": [
    "nombre_infected       803\n",
    "nombre_sain          1805\n",
    "nombre_exposed        414\n",
    "nombre_recovered    16978\n",
    "Name: 534, dtype: int64"
   ]
  },
  {
   "cell_type": "markdown",
   "id": "22119ecb",
   "metadata": {},
   "source": [
    "nombre_infected       792\n",
    "nombre_sain          1822\n",
    "nombre_exposed        383\n",
    "nombre_recovered    17003\n",
    "Name: 535, dtype: int64"
   ]
  },
  {
   "cell_type": "markdown",
   "id": "70ae7131",
   "metadata": {},
   "source": [
    "nombre_infected       790\n",
    "nombre_sain          1823\n",
    "nombre_exposed        382\n",
    "nombre_recovered    17005\n",
    "Name: 536, dtype: int64"
   ]
  },
  {
   "cell_type": "markdown",
   "id": "e55ad76c",
   "metadata": {},
   "source": [
    "nombre_infected       778\n",
    "nombre_sain          1824\n",
    "nombre_exposed        393\n",
    "nombre_recovered    17005\n",
    "Name: 537, dtype: int64"
   ]
  },
  {
   "cell_type": "markdown",
   "id": "9764e12e",
   "metadata": {},
   "source": [
    "nombre_infected       756\n",
    "nombre_sain          1823\n",
    "nombre_exposed        403\n",
    "nombre_recovered    17018\n",
    "Name: 538, dtype: int64"
   ]
  },
  {
   "cell_type": "markdown",
   "id": "43d81e6b",
   "metadata": {},
   "source": [
    "nombre_infected       742\n",
    "nombre_sain          1840\n",
    "nombre_exposed        409\n",
    "nombre_recovered    17009\n",
    "Name: 539, dtype: int64"
   ]
  },
  {
   "cell_type": "markdown",
   "id": "4dbd6d77",
   "metadata": {},
   "source": [
    "nombre_infected       726\n",
    "nombre_sain          1844\n",
    "nombre_exposed        399\n",
    "nombre_recovered    17031\n",
    "Name: 540, dtype: int64"
   ]
  },
  {
   "cell_type": "markdown",
   "id": "7fcd299d",
   "metadata": {},
   "source": [
    "nombre_infected       701\n",
    "nombre_sain          1857\n",
    "nombre_exposed        416\n",
    "nombre_recovered    17026\n",
    "Name: 541, dtype: int64"
   ]
  },
  {
   "cell_type": "markdown",
   "id": "3832019d",
   "metadata": {},
   "source": [
    "nombre_infected       695\n",
    "nombre_sain          1851\n",
    "nombre_exposed        418\n",
    "nombre_recovered    17036\n",
    "Name: 542, dtype: int64"
   ]
  },
  {
   "cell_type": "markdown",
   "id": "f3bbb4c1",
   "metadata": {},
   "source": [
    "nombre_infected       690\n",
    "nombre_sain          1870\n",
    "nombre_exposed        413\n",
    "nombre_recovered    17027\n",
    "Name: 543, dtype: int64"
   ]
  },
  {
   "cell_type": "markdown",
   "id": "46494606",
   "metadata": {},
   "source": [
    "nombre_infected       675\n",
    "nombre_sain          1897\n",
    "nombre_exposed        408\n",
    "nombre_recovered    17020\n",
    "Name: 544, dtype: int64"
   ]
  },
  {
   "cell_type": "markdown",
   "id": "a29ccf6d",
   "metadata": {},
   "source": [
    "nombre_infected       649\n",
    "nombre_sain          1894\n",
    "nombre_exposed        413\n",
    "nombre_recovered    17044\n",
    "Name: 545, dtype: int64"
   ]
  },
  {
   "cell_type": "markdown",
   "id": "149793fb",
   "metadata": {},
   "source": [
    "nombre_infected       665\n",
    "nombre_sain          1915\n",
    "nombre_exposed        386\n",
    "nombre_recovered    17034\n",
    "Name: 546, dtype: int64"
   ]
  },
  {
   "cell_type": "markdown",
   "id": "de12a0d8",
   "metadata": {},
   "source": [
    "nombre_infected       666\n",
    "nombre_sain          1922\n",
    "nombre_exposed        386\n",
    "nombre_recovered    17026\n",
    "Name: 547, dtype: int64"
   ]
  },
  {
   "cell_type": "markdown",
   "id": "15729b31",
   "metadata": {},
   "source": [
    "nombre_infected       662\n",
    "nombre_sain          1964\n",
    "nombre_exposed        367\n",
    "nombre_recovered    17007\n",
    "Name: 548, dtype: int64"
   ]
  },
  {
   "cell_type": "markdown",
   "id": "a698bfd7",
   "metadata": {},
   "source": [
    "nombre_infected       659\n",
    "nombre_sain          1985\n",
    "nombre_exposed        363\n",
    "nombre_recovered    16993\n",
    "Name: 549, dtype: int64"
   ]
  },
  {
   "cell_type": "markdown",
   "id": "b3fec5ae",
   "metadata": {},
   "source": [
    "nombre_infected       638\n",
    "nombre_sain          1997\n",
    "nombre_exposed        379\n",
    "nombre_recovered    16986\n",
    "Name: 550, dtype: int64"
   ]
  },
  {
   "cell_type": "markdown",
   "id": "2a233b17",
   "metadata": {},
   "source": [
    "nombre_infected       637\n",
    "nombre_sain          2037\n",
    "nombre_exposed        377\n",
    "nombre_recovered    16949\n",
    "Name: 551, dtype: int64"
   ]
  },
  {
   "cell_type": "markdown",
   "id": "f80be248",
   "metadata": {},
   "source": [
    "nombre_infected       635\n",
    "nombre_sain          2042\n",
    "nombre_exposed        374\n",
    "nombre_recovered    16949\n",
    "Name: 552, dtype: int64"
   ]
  },
  {
   "cell_type": "markdown",
   "id": "a8a1ea57",
   "metadata": {},
   "source": [
    "nombre_infected       627\n",
    "nombre_sain          2062\n",
    "nombre_exposed        380\n",
    "nombre_recovered    16931\n",
    "Name: 553, dtype: int64"
   ]
  },
  {
   "cell_type": "markdown",
   "id": "1d377c4d",
   "metadata": {},
   "source": [
    "nombre_infected       629\n",
    "nombre_sain          2090\n",
    "nombre_exposed        379\n",
    "nombre_recovered    16902\n",
    "Name: 554, dtype: int64"
   ]
  },
  {
   "cell_type": "markdown",
   "id": "9709fe12",
   "metadata": {},
   "source": [
    "nombre_infected       629\n",
    "nombre_sain          2082\n",
    "nombre_exposed        386\n",
    "nombre_recovered    16903\n",
    "Name: 555, dtype: int64"
   ]
  },
  {
   "cell_type": "markdown",
   "id": "5875ecea",
   "metadata": {},
   "source": [
    "nombre_infected       623\n",
    "nombre_sain          2113\n",
    "nombre_exposed        389\n",
    "nombre_recovered    16875\n",
    "Name: 556, dtype: int64"
   ]
  },
  {
   "cell_type": "markdown",
   "id": "0ebbbafa",
   "metadata": {},
   "source": [
    "nombre_infected       636\n",
    "nombre_sain          2120\n",
    "nombre_exposed        370\n",
    "nombre_recovered    16874\n",
    "Name: 557, dtype: int64"
   ]
  },
  {
   "cell_type": "markdown",
   "id": "b5b63bb0",
   "metadata": {},
   "source": [
    "nombre_infected       605\n",
    "nombre_sain          2134\n",
    "nombre_exposed        385\n",
    "nombre_recovered    16876\n",
    "Name: 558, dtype: int64"
   ]
  },
  {
   "cell_type": "markdown",
   "id": "d6222868",
   "metadata": {},
   "source": [
    "nombre_infected       592\n",
    "nombre_sain          2156\n",
    "nombre_exposed        408\n",
    "nombre_recovered    16844\n",
    "Name: 559, dtype: int64"
   ]
  },
  {
   "cell_type": "markdown",
   "id": "67b66cc5",
   "metadata": {},
   "source": [
    "nombre_infected       596\n",
    "nombre_sain          2185\n",
    "nombre_exposed        407\n",
    "nombre_recovered    16812\n",
    "Name: 560, dtype: int64"
   ]
  },
  {
   "cell_type": "markdown",
   "id": "f75f2e24",
   "metadata": {},
   "source": [
    "nombre_infected       600\n",
    "nombre_sain          2206\n",
    "nombre_exposed        407\n",
    "nombre_recovered    16787\n",
    "Name: 561, dtype: int64"
   ]
  },
  {
   "cell_type": "markdown",
   "id": "9b1fe20c",
   "metadata": {},
   "source": [
    "nombre_infected       611\n",
    "nombre_sain          2226\n",
    "nombre_exposed        401\n",
    "nombre_recovered    16762\n",
    "Name: 562, dtype: int64"
   ]
  },
  {
   "cell_type": "markdown",
   "id": "84988cd8",
   "metadata": {},
   "source": [
    "nombre_infected       607\n",
    "nombre_sain          2248\n",
    "nombre_exposed        412\n",
    "nombre_recovered    16733\n",
    "Name: 563, dtype: int64"
   ]
  },
  {
   "cell_type": "markdown",
   "id": "2082e36e",
   "metadata": {},
   "source": [
    "nombre_infected       619\n",
    "nombre_sain          2286\n",
    "nombre_exposed        404\n",
    "nombre_recovered    16691\n",
    "Name: 564, dtype: int64"
   ]
  },
  {
   "cell_type": "markdown",
   "id": "b96d9477",
   "metadata": {},
   "source": [
    "nombre_infected       625\n",
    "nombre_sain          2314\n",
    "nombre_exposed        387\n",
    "nombre_recovered    16674\n",
    "Name: 565, dtype: int64"
   ]
  },
  {
   "cell_type": "markdown",
   "id": "2002e9dc",
   "metadata": {},
   "source": [
    "nombre_infected       616\n",
    "nombre_sain          2374\n",
    "nombre_exposed        372\n",
    "nombre_recovered    16638\n",
    "Name: 566, dtype: int64"
   ]
  },
  {
   "cell_type": "markdown",
   "id": "245a97ba",
   "metadata": {},
   "source": [
    "nombre_infected       630\n",
    "nombre_sain          2373\n",
    "nombre_exposed        369\n",
    "nombre_recovered    16628\n",
    "Name: 567, dtype: int64"
   ]
  },
  {
   "cell_type": "markdown",
   "id": "792f5297",
   "metadata": {},
   "source": [
    "nombre_infected       634\n",
    "nombre_sain          2363\n",
    "nombre_exposed        398\n",
    "nombre_recovered    16605\n",
    "Name: 568, dtype: int64"
   ]
  },
  {
   "cell_type": "markdown",
   "id": "bd457084",
   "metadata": {},
   "source": [
    "nombre_infected       611\n",
    "nombre_sain          2381\n",
    "nombre_exposed        425\n",
    "nombre_recovered    16583\n",
    "Name: 569, dtype: int64"
   ]
  },
  {
   "cell_type": "markdown",
   "id": "a2afa837",
   "metadata": {},
   "source": [
    "nombre_infected       606\n",
    "nombre_sain          2394\n",
    "nombre_exposed        431\n",
    "nombre_recovered    16569\n",
    "Name: 570, dtype: int64"
   ]
  },
  {
   "cell_type": "markdown",
   "id": "e8eb285e",
   "metadata": {},
   "source": [
    "nombre_infected       607\n",
    "nombre_sain          2420\n",
    "nombre_exposed        436\n",
    "nombre_recovered    16537\n",
    "Name: 571, dtype: int64"
   ]
  },
  {
   "cell_type": "markdown",
   "id": "25d47af3",
   "metadata": {},
   "source": [
    "nombre_infected       617\n",
    "nombre_sain          2449\n",
    "nombre_exposed        437\n",
    "nombre_recovered    16497\n",
    "Name: 572, dtype: int64"
   ]
  },
  {
   "cell_type": "markdown",
   "id": "89894606",
   "metadata": {},
   "source": [
    "nombre_infected       616\n",
    "nombre_sain          2454\n",
    "nombre_exposed        445\n",
    "nombre_recovered    16485\n",
    "Name: 573, dtype: int64"
   ]
  },
  {
   "cell_type": "markdown",
   "id": "d50ed8e7",
   "metadata": {},
   "source": [
    "nombre_infected       627\n",
    "nombre_sain          2457\n",
    "nombre_exposed        437\n",
    "nombre_recovered    16479\n",
    "Name: 574, dtype: int64"
   ]
  },
  {
   "cell_type": "markdown",
   "id": "e1972dbb",
   "metadata": {},
   "source": [
    "nombre_infected       632\n",
    "nombre_sain          2464\n",
    "nombre_exposed        460\n",
    "nombre_recovered    16444\n",
    "Name: 575, dtype: int64"
   ]
  },
  {
   "cell_type": "markdown",
   "id": "63dcdf14",
   "metadata": {},
   "source": [
    "nombre_infected       645\n",
    "nombre_sain          2504\n",
    "nombre_exposed        451\n",
    "nombre_recovered    16400\n",
    "Name: 576, dtype: int64"
   ]
  },
  {
   "cell_type": "markdown",
   "id": "e2a88df2",
   "metadata": {},
   "source": [
    "nombre_infected       649\n",
    "nombre_sain          2491\n",
    "nombre_exposed        477\n",
    "nombre_recovered    16383\n",
    "Name: 577, dtype: int64"
   ]
  },
  {
   "cell_type": "markdown",
   "id": "e9c15994",
   "metadata": {},
   "source": [
    "nombre_infected       664\n",
    "nombre_sain          2501\n",
    "nombre_exposed        483\n",
    "nombre_recovered    16352\n",
    "Name: 578, dtype: int64"
   ]
  },
  {
   "cell_type": "markdown",
   "id": "e51d1bde",
   "metadata": {},
   "source": [
    "nombre_infected       684\n",
    "nombre_sain          2495\n",
    "nombre_exposed        480\n",
    "nombre_recovered    16341\n",
    "Name: 579, dtype: int64"
   ]
  },
  {
   "cell_type": "markdown",
   "id": "4510fff0",
   "metadata": {},
   "source": [
    "nombre_infected       684\n",
    "nombre_sain          2490\n",
    "nombre_exposed        501\n",
    "nombre_recovered    16325\n",
    "Name: 580, dtype: int64"
   ]
  },
  {
   "cell_type": "markdown",
   "id": "fe7b5704",
   "metadata": {},
   "source": [
    "nombre_infected       682\n",
    "nombre_sain          2518\n",
    "nombre_exposed        478\n",
    "nombre_recovered    16322\n",
    "Name: 581, dtype: int64"
   ]
  },
  {
   "cell_type": "markdown",
   "id": "2c8b751d",
   "metadata": {},
   "source": [
    "nombre_infected       697\n",
    "nombre_sain          2558\n",
    "nombre_exposed        457\n",
    "nombre_recovered    16288\n",
    "Name: 582, dtype: int64"
   ]
  },
  {
   "cell_type": "markdown",
   "id": "7c1cabc7",
   "metadata": {},
   "source": [
    "nombre_infected       716\n",
    "nombre_sain          2556\n",
    "nombre_exposed        455\n",
    "nombre_recovered    16273\n",
    "Name: 583, dtype: int64"
   ]
  },
  {
   "cell_type": "markdown",
   "id": "a30ce5db",
   "metadata": {},
   "source": [
    "nombre_infected       703\n",
    "nombre_sain          2534\n",
    "nombre_exposed        489\n",
    "nombre_recovered    16274\n",
    "Name: 584, dtype: int64"
   ]
  },
  {
   "cell_type": "markdown",
   "id": "cf6a2cc7",
   "metadata": {},
   "source": [
    "nombre_infected       705\n",
    "nombre_sain          2522\n",
    "nombre_exposed        518\n",
    "nombre_recovered    16255\n",
    "Name: 585, dtype: int64"
   ]
  },
  {
   "cell_type": "markdown",
   "id": "35cfe3d8",
   "metadata": {},
   "source": [
    "nombre_infected       690\n",
    "nombre_sain          2504\n",
    "nombre_exposed        541\n",
    "nombre_recovered    16265\n",
    "Name: 586, dtype: int64"
   ]
  },
  {
   "cell_type": "markdown",
   "id": "6058fb9a",
   "metadata": {},
   "source": [
    "nombre_infected       700\n",
    "nombre_sain          2485\n",
    "nombre_exposed        561\n",
    "nombre_recovered    16254\n",
    "Name: 587, dtype: int64"
   ]
  },
  {
   "cell_type": "markdown",
   "id": "c8e35b32",
   "metadata": {},
   "source": [
    "nombre_infected       712\n",
    "nombre_sain          2459\n",
    "nombre_exposed        578\n",
    "nombre_recovered    16251\n",
    "Name: 588, dtype: int64"
   ]
  },
  {
   "cell_type": "markdown",
   "id": "90b84f47",
   "metadata": {},
   "source": [
    "nombre_infected       740\n",
    "nombre_sain          2458\n",
    "nombre_exposed        558\n",
    "nombre_recovered    16244\n",
    "Name: 589, dtype: int64"
   ]
  },
  {
   "cell_type": "markdown",
   "id": "0fef948d",
   "metadata": {},
   "source": [
    "nombre_infected       752\n",
    "nombre_sain          2443\n",
    "nombre_exposed        581\n",
    "nombre_recovered    16224\n",
    "Name: 590, dtype: int64"
   ]
  },
  {
   "cell_type": "markdown",
   "id": "25a1e25a",
   "metadata": {},
   "source": [
    "nombre_infected       763\n",
    "nombre_sain          2457\n",
    "nombre_exposed        576\n",
    "nombre_recovered    16204\n",
    "Name: 591, dtype: int64"
   ]
  },
  {
   "cell_type": "markdown",
   "id": "ebe92cac",
   "metadata": {},
   "source": [
    "nombre_infected       796\n",
    "nombre_sain          2433\n",
    "nombre_exposed        574\n",
    "nombre_recovered    16197\n",
    "Name: 592, dtype: int64"
   ]
  },
  {
   "cell_type": "markdown",
   "id": "91956829",
   "metadata": {},
   "source": [
    "nombre_infected       825\n",
    "nombre_sain          2396\n",
    "nombre_exposed        577\n",
    "nombre_recovered    16202\n",
    "Name: 593, dtype: int64"
   ]
  },
  {
   "cell_type": "markdown",
   "id": "24fb4b4b",
   "metadata": {},
   "source": [
    "nombre_infected       823\n",
    "nombre_sain          2380\n",
    "nombre_exposed        583\n",
    "nombre_recovered    16214\n",
    "Name: 594, dtype: int64"
   ]
  },
  {
   "cell_type": "markdown",
   "id": "06b7e46c",
   "metadata": {},
   "source": [
    "nombre_infected       836\n",
    "nombre_sain          2357\n",
    "nombre_exposed        576\n",
    "nombre_recovered    16231\n",
    "Name: 595, dtype: int64"
   ]
  },
  {
   "cell_type": "markdown",
   "id": "89820bfa",
   "metadata": {},
   "source": [
    "nombre_infected       839\n",
    "nombre_sain          2336\n",
    "nombre_exposed        585\n",
    "nombre_recovered    16240\n",
    "Name: 596, dtype: int64"
   ]
  },
  {
   "cell_type": "markdown",
   "id": "c0a8c163",
   "metadata": {},
   "source": [
    "nombre_infected       854\n",
    "nombre_sain          2328\n",
    "nombre_exposed        571\n",
    "nombre_recovered    16247\n",
    "Name: 597, dtype: int64"
   ]
  },
  {
   "cell_type": "markdown",
   "id": "dde2b54f",
   "metadata": {},
   "source": [
    "nombre_infected       842\n",
    "nombre_sain          2313\n",
    "nombre_exposed        592\n",
    "nombre_recovered    16253\n",
    "Name: 598, dtype: int64"
   ]
  },
  {
   "cell_type": "markdown",
   "id": "ff73a27c",
   "metadata": {},
   "source": [
    "nombre_infected       845\n",
    "nombre_sain          2301\n",
    "nombre_exposed        614\n",
    "nombre_recovered    16240\n",
    "Name: 599, dtype: int64"
   ]
  },
  {
   "cell_type": "markdown",
   "id": "d08f67c6",
   "metadata": {},
   "source": [
    "nombre_infected       849\n",
    "nombre_sain          2269\n",
    "nombre_exposed        610\n",
    "nombre_recovered    16272\n",
    "Name: 600, dtype: int64"
   ]
  },
  {
   "cell_type": "markdown",
   "id": "0cde1b84",
   "metadata": {},
   "source": [
    "nombre_infected       857\n",
    "nombre_sain          2277\n",
    "nombre_exposed        605\n",
    "nombre_recovered    16261\n",
    "Name: 601, dtype: int64"
   ]
  },
  {
   "cell_type": "markdown",
   "id": "bc32c314",
   "metadata": {},
   "source": [
    "nombre_infected       844\n",
    "nombre_sain          2267\n",
    "nombre_exposed        607\n",
    "nombre_recovered    16282\n",
    "Name: 602, dtype: int64"
   ]
  },
  {
   "cell_type": "markdown",
   "id": "573316a9",
   "metadata": {},
   "source": [
    "nombre_infected       840\n",
    "nombre_sain          2277\n",
    "nombre_exposed        579\n",
    "nombre_recovered    16304\n",
    "Name: 603, dtype: int64"
   ]
  },
  {
   "cell_type": "markdown",
   "id": "c7f17fcf",
   "metadata": {},
   "source": [
    "nombre_infected       843\n",
    "nombre_sain          2265\n",
    "nombre_exposed        590\n",
    "nombre_recovered    16302\n",
    "Name: 604, dtype: int64"
   ]
  },
  {
   "cell_type": "markdown",
   "id": "ac418a5e",
   "metadata": {},
   "source": [
    "nombre_infected       866\n",
    "nombre_sain          2288\n",
    "nombre_exposed        558\n",
    "nombre_recovered    16288\n",
    "Name: 605, dtype: int64"
   ]
  },
  {
   "cell_type": "markdown",
   "id": "5fe44dca",
   "metadata": {},
   "source": [
    "nombre_infected       849\n",
    "nombre_sain          2275\n",
    "nombre_exposed        576\n",
    "nombre_recovered    16300\n",
    "Name: 606, dtype: int64"
   ]
  },
  {
   "cell_type": "markdown",
   "id": "b769d07e",
   "metadata": {},
   "source": [
    "nombre_infected       855\n",
    "nombre_sain          2257\n",
    "nombre_exposed        586\n",
    "nombre_recovered    16302\n",
    "Name: 607, dtype: int64"
   ]
  },
  {
   "cell_type": "markdown",
   "id": "d6ee17ad",
   "metadata": {},
   "source": [
    "nombre_infected       849\n",
    "nombre_sain          2279\n",
    "nombre_exposed        589\n",
    "nombre_recovered    16283\n",
    "Name: 608, dtype: int64"
   ]
  },
  {
   "cell_type": "markdown",
   "id": "8a9d5a2a",
   "metadata": {},
   "source": [
    "nombre_infected       880\n",
    "nombre_sain          2297\n",
    "nombre_exposed        572\n",
    "nombre_recovered    16251\n",
    "Name: 609, dtype: int64"
   ]
  },
  {
   "cell_type": "markdown",
   "id": "edcf4dde",
   "metadata": {},
   "source": [
    "nombre_infected       893\n",
    "nombre_sain          2277\n",
    "nombre_exposed        581\n",
    "nombre_recovered    16249\n",
    "Name: 610, dtype: int64"
   ]
  },
  {
   "cell_type": "markdown",
   "id": "658cf2ca",
   "metadata": {},
   "source": [
    "nombre_infected       899\n",
    "nombre_sain          2261\n",
    "nombre_exposed        571\n",
    "nombre_recovered    16269\n",
    "Name: 611, dtype: int64"
   ]
  },
  {
   "cell_type": "markdown",
   "id": "c9be7984",
   "metadata": {},
   "source": [
    "nombre_infected       889\n",
    "nombre_sain          2237\n",
    "nombre_exposed        598\n",
    "nombre_recovered    16276\n",
    "Name: 612, dtype: int64"
   ]
  },
  {
   "cell_type": "markdown",
   "id": "4c419ad8",
   "metadata": {},
   "source": [
    "nombre_infected       866\n",
    "nombre_sain          2238\n",
    "nombre_exposed        598\n",
    "nombre_recovered    16298\n",
    "Name: 613, dtype: int64"
   ]
  },
  {
   "cell_type": "markdown",
   "id": "77b493cd",
   "metadata": {},
   "source": [
    "nombre_infected       900\n",
    "nombre_sain          2235\n",
    "nombre_exposed        569\n",
    "nombre_recovered    16296\n",
    "Name: 614, dtype: int64"
   ]
  },
  {
   "cell_type": "markdown",
   "id": "207b3dd0",
   "metadata": {},
   "source": [
    "nombre_infected       891\n",
    "nombre_sain          2226\n",
    "nombre_exposed        566\n",
    "nombre_recovered    16317\n",
    "Name: 615, dtype: int64"
   ]
  },
  {
   "cell_type": "markdown",
   "id": "04067e7b",
   "metadata": {},
   "source": [
    "nombre_infected       888\n",
    "nombre_sain          2197\n",
    "nombre_exposed        567\n",
    "nombre_recovered    16348\n",
    "Name: 616, dtype: int64"
   ]
  },
  {
   "cell_type": "markdown",
   "id": "0ced1b02",
   "metadata": {},
   "source": [
    "nombre_infected       885\n",
    "nombre_sain          2169\n",
    "nombre_exposed        589\n",
    "nombre_recovered    16357\n",
    "Name: 617, dtype: int64"
   ]
  },
  {
   "cell_type": "markdown",
   "id": "bb52357c",
   "metadata": {},
   "source": [
    "nombre_infected       855\n",
    "nombre_sain          2129\n",
    "nombre_exposed        605\n",
    "nombre_recovered    16411\n",
    "Name: 618, dtype: int64"
   ]
  },
  {
   "cell_type": "markdown",
   "id": "32ca9665",
   "metadata": {},
   "source": [
    "nombre_infected       851\n",
    "nombre_sain          2119\n",
    "nombre_exposed        602\n",
    "nombre_recovered    16428\n",
    "Name: 619, dtype: int64"
   ]
  },
  {
   "cell_type": "markdown",
   "id": "a8375f63",
   "metadata": {},
   "source": [
    "nombre_infected       869\n",
    "nombre_sain          2102\n",
    "nombre_exposed        580\n",
    "nombre_recovered    16449\n",
    "Name: 620, dtype: int64"
   ]
  },
  {
   "cell_type": "markdown",
   "id": "b662a186",
   "metadata": {},
   "source": [
    "nombre_infected       868\n",
    "nombre_sain          2105\n",
    "nombre_exposed        579\n",
    "nombre_recovered    16448\n",
    "Name: 621, dtype: int64"
   ]
  },
  {
   "cell_type": "markdown",
   "id": "328da52d",
   "metadata": {},
   "source": [
    "nombre_infected       878\n",
    "nombre_sain          2134\n",
    "nombre_exposed        540\n",
    "nombre_recovered    16448\n",
    "Name: 622, dtype: int64"
   ]
  },
  {
   "cell_type": "markdown",
   "id": "1b5d1c2e",
   "metadata": {},
   "source": [
    "nombre_infected       884\n",
    "nombre_sain          2137\n",
    "nombre_exposed        527\n",
    "nombre_recovered    16452\n",
    "Name: 623, dtype: int64"
   ]
  },
  {
   "cell_type": "markdown",
   "id": "de327d9c",
   "metadata": {},
   "source": [
    "nombre_infected       892\n",
    "nombre_sain          2119\n",
    "nombre_exposed        516\n",
    "nombre_recovered    16473\n",
    "Name: 624, dtype: int64"
   ]
  },
  {
   "cell_type": "markdown",
   "id": "aa0a512a",
   "metadata": {},
   "source": [
    "nombre_infected       883\n",
    "nombre_sain          2138\n",
    "nombre_exposed        507\n",
    "nombre_recovered    16472\n",
    "Name: 625, dtype: int64"
   ]
  },
  {
   "cell_type": "markdown",
   "id": "df2e3cc2",
   "metadata": {},
   "source": [
    "nombre_infected       871\n",
    "nombre_sain          2164\n",
    "nombre_exposed        507\n",
    "nombre_recovered    16458\n",
    "Name: 626, dtype: int64"
   ]
  },
  {
   "cell_type": "markdown",
   "id": "fa704c94",
   "metadata": {},
   "source": [
    "nombre_infected       852\n",
    "nombre_sain          2124\n",
    "nombre_exposed        522\n",
    "nombre_recovered    16502\n",
    "Name: 627, dtype: int64"
   ]
  },
  {
   "cell_type": "markdown",
   "id": "cf5329c9",
   "metadata": {},
   "source": [
    "nombre_infected       827\n",
    "nombre_sain          2105\n",
    "nombre_exposed        531\n",
    "nombre_recovered    16537\n",
    "Name: 628, dtype: int64"
   ]
  },
  {
   "cell_type": "markdown",
   "id": "411033b9",
   "metadata": {},
   "source": [
    "nombre_infected       807\n",
    "nombre_sain          2102\n",
    "nombre_exposed        536\n",
    "nombre_recovered    16555\n",
    "Name: 629, dtype: int64"
   ]
  },
  {
   "cell_type": "markdown",
   "id": "9f855ce4",
   "metadata": {},
   "source": [
    "nombre_infected       791\n",
    "nombre_sain          2109\n",
    "nombre_exposed        543\n",
    "nombre_recovered    16557\n",
    "Name: 630, dtype: int64"
   ]
  },
  {
   "cell_type": "markdown",
   "id": "67a1a53b",
   "metadata": {},
   "source": [
    "nombre_infected       798\n",
    "nombre_sain          2116\n",
    "nombre_exposed        531\n",
    "nombre_recovered    16555\n",
    "Name: 631, dtype: int64"
   ]
  },
  {
   "cell_type": "markdown",
   "id": "9fc0fbb1",
   "metadata": {},
   "source": [
    "nombre_infected       811\n",
    "nombre_sain          2119\n",
    "nombre_exposed        511\n",
    "nombre_recovered    16559\n",
    "Name: 632, dtype: int64"
   ]
  },
  {
   "cell_type": "markdown",
   "id": "fe8e23ef",
   "metadata": {},
   "source": [
    "nombre_infected       823\n",
    "nombre_sain          2150\n",
    "nombre_exposed        480\n",
    "nombre_recovered    16547\n",
    "Name: 633, dtype: int64"
   ]
  },
  {
   "cell_type": "markdown",
   "id": "1beaedf4",
   "metadata": {},
   "source": [
    "nombre_infected       829\n",
    "nombre_sain          2162\n",
    "nombre_exposed        472\n",
    "nombre_recovered    16537\n",
    "Name: 634, dtype: int64"
   ]
  },
  {
   "cell_type": "markdown",
   "id": "b0eb8ace",
   "metadata": {},
   "source": [
    "nombre_infected       805\n",
    "nombre_sain          2153\n",
    "nombre_exposed        488\n",
    "nombre_recovered    16554\n",
    "Name: 635, dtype: int64"
   ]
  },
  {
   "cell_type": "markdown",
   "id": "0b26dc98",
   "metadata": {},
   "source": [
    "nombre_infected       800\n",
    "nombre_sain          2128\n",
    "nombre_exposed        504\n",
    "nombre_recovered    16568\n",
    "Name: 636, dtype: int64"
   ]
  },
  {
   "cell_type": "markdown",
   "id": "5b468488",
   "metadata": {},
   "source": [
    "nombre_infected       797\n",
    "nombre_sain          2143\n",
    "nombre_exposed        493\n",
    "nombre_recovered    16567\n",
    "Name: 637, dtype: int64"
   ]
  },
  {
   "cell_type": "markdown",
   "id": "84cbbc64",
   "metadata": {},
   "source": [
    "nombre_infected       812\n",
    "nombre_sain          2129\n",
    "nombre_exposed        501\n",
    "nombre_recovered    16558\n",
    "Name: 638, dtype: int64"
   ]
  },
  {
   "cell_type": "markdown",
   "id": "56248932",
   "metadata": {},
   "source": [
    "nombre_infected       804\n",
    "nombre_sain          2134\n",
    "nombre_exposed        511\n",
    "nombre_recovered    16551\n",
    "Name: 639, dtype: int64"
   ]
  },
  {
   "cell_type": "markdown",
   "id": "11fd4e1d",
   "metadata": {},
   "source": [
    "nombre_infected       783\n",
    "nombre_sain          2170\n",
    "nombre_exposed        495\n",
    "nombre_recovered    16552\n",
    "Name: 640, dtype: int64"
   ]
  },
  {
   "cell_type": "markdown",
   "id": "9ff83105",
   "metadata": {},
   "source": [
    "nombre_infected       804\n",
    "nombre_sain          2189\n",
    "nombre_exposed        473\n",
    "nombre_recovered    16534\n",
    "Name: 641, dtype: int64"
   ]
  },
  {
   "cell_type": "markdown",
   "id": "6e148d22",
   "metadata": {},
   "source": [
    "nombre_infected       803\n",
    "nombre_sain          2171\n",
    "nombre_exposed        481\n",
    "nombre_recovered    16545\n",
    "Name: 642, dtype: int64"
   ]
  },
  {
   "cell_type": "markdown",
   "id": "d5796b9e",
   "metadata": {},
   "source": [
    "nombre_infected       775\n",
    "nombre_sain          2179\n",
    "nombre_exposed        478\n",
    "nombre_recovered    16568\n",
    "Name: 643, dtype: int64"
   ]
  },
  {
   "cell_type": "markdown",
   "id": "00be03d3",
   "metadata": {},
   "source": [
    "nombre_infected       762\n",
    "nombre_sain          2187\n",
    "nombre_exposed        467\n",
    "nombre_recovered    16584\n",
    "Name: 644, dtype: int64"
   ]
  },
  {
   "cell_type": "markdown",
   "id": "6483fbdc",
   "metadata": {},
   "source": [
    "nombre_infected       750\n",
    "nombre_sain          2186\n",
    "nombre_exposed        460\n",
    "nombre_recovered    16604\n",
    "Name: 645, dtype: int64"
   ]
  },
  {
   "cell_type": "markdown",
   "id": "cc592ed7",
   "metadata": {},
   "source": [
    "nombre_infected       756\n",
    "nombre_sain          2186\n",
    "nombre_exposed        471\n",
    "nombre_recovered    16587\n",
    "Name: 646, dtype: int64"
   ]
  },
  {
   "cell_type": "markdown",
   "id": "0cdf7b55",
   "metadata": {},
   "source": [
    "nombre_infected       750\n",
    "nombre_sain          2189\n",
    "nombre_exposed        464\n",
    "nombre_recovered    16597\n",
    "Name: 647, dtype: int64"
   ]
  },
  {
   "cell_type": "markdown",
   "id": "73db8074",
   "metadata": {},
   "source": [
    "nombre_infected       752\n",
    "nombre_sain          2196\n",
    "nombre_exposed        449\n",
    "nombre_recovered    16603\n",
    "Name: 648, dtype: int64"
   ]
  },
  {
   "cell_type": "markdown",
   "id": "4c0804ac",
   "metadata": {},
   "source": [
    "nombre_infected       751\n",
    "nombre_sain          2206\n",
    "nombre_exposed        431\n",
    "nombre_recovered    16612\n",
    "Name: 649, dtype: int64"
   ]
  },
  {
   "cell_type": "markdown",
   "id": "60004533",
   "metadata": {},
   "source": [
    "nombre_infected       736\n",
    "nombre_sain          2177\n",
    "nombre_exposed        470\n",
    "nombre_recovered    16617\n",
    "Name: 650, dtype: int64"
   ]
  },
  {
   "cell_type": "markdown",
   "id": "82971e7f",
   "metadata": {},
   "source": [
    "nombre_infected       732\n",
    "nombre_sain          2182\n",
    "nombre_exposed        468\n",
    "nombre_recovered    16618\n",
    "Name: 651, dtype: int64"
   ]
  },
  {
   "cell_type": "markdown",
   "id": "05d1cd9f",
   "metadata": {},
   "source": [
    "nombre_infected       728\n",
    "nombre_sain          2180\n",
    "nombre_exposed        476\n",
    "nombre_recovered    16616\n",
    "Name: 652, dtype: int64"
   ]
  },
  {
   "cell_type": "markdown",
   "id": "d0db2d32",
   "metadata": {},
   "source": [
    "nombre_infected       723\n",
    "nombre_sain          2167\n",
    "nombre_exposed        495\n",
    "nombre_recovered    16615\n",
    "Name: 653, dtype: int64"
   ]
  },
  {
   "cell_type": "markdown",
   "id": "c5b09538",
   "metadata": {},
   "source": [
    "nombre_infected       712\n",
    "nombre_sain          2190\n",
    "nombre_exposed        477\n",
    "nombre_recovered    16621\n",
    "Name: 654, dtype: int64"
   ]
  },
  {
   "cell_type": "markdown",
   "id": "0bc441a9",
   "metadata": {},
   "source": [
    "nombre_infected       715\n",
    "nombre_sain          2186\n",
    "nombre_exposed        476\n",
    "nombre_recovered    16623\n",
    "Name: 655, dtype: int64"
   ]
  },
  {
   "cell_type": "markdown",
   "id": "ad632a49",
   "metadata": {},
   "source": [
    "nombre_infected       708\n",
    "nombre_sain          2194\n",
    "nombre_exposed        488\n",
    "nombre_recovered    16610\n",
    "Name: 656, dtype: int64"
   ]
  },
  {
   "cell_type": "markdown",
   "id": "838f681f",
   "metadata": {},
   "source": [
    "nombre_infected       697\n",
    "nombre_sain          2215\n",
    "nombre_exposed        493\n",
    "nombre_recovered    16595\n",
    "Name: 657, dtype: int64"
   ]
  },
  {
   "cell_type": "markdown",
   "id": "6c30ff14",
   "metadata": {},
   "source": [
    "nombre_infected       689\n",
    "nombre_sain          2239\n",
    "nombre_exposed        481\n",
    "nombre_recovered    16591\n",
    "Name: 658, dtype: int64"
   ]
  },
  {
   "cell_type": "markdown",
   "id": "d295b264",
   "metadata": {},
   "source": [
    "nombre_infected       684\n",
    "nombre_sain          2219\n",
    "nombre_exposed        493\n",
    "nombre_recovered    16604\n",
    "Name: 659, dtype: int64"
   ]
  },
  {
   "cell_type": "markdown",
   "id": "80c34cfa",
   "metadata": {},
   "source": [
    "nombre_infected       688\n",
    "nombre_sain          2243\n",
    "nombre_exposed        468\n",
    "nombre_recovered    16601\n",
    "Name: 660, dtype: int64"
   ]
  },
  {
   "cell_type": "markdown",
   "id": "eff7f562",
   "metadata": {},
   "source": [
    "nombre_infected       712\n",
    "nombre_sain          2259\n",
    "nombre_exposed        452\n",
    "nombre_recovered    16577\n",
    "Name: 661, dtype: int64"
   ]
  },
  {
   "cell_type": "markdown",
   "id": "c879365c",
   "metadata": {},
   "source": [
    "nombre_infected       745\n",
    "nombre_sain          2262\n",
    "nombre_exposed        446\n",
    "nombre_recovered    16547\n",
    "Name: 662, dtype: int64"
   ]
  },
  {
   "cell_type": "markdown",
   "id": "b768c0a5",
   "metadata": {},
   "source": [
    "nombre_infected       745\n",
    "nombre_sain          2243\n",
    "nombre_exposed        462\n",
    "nombre_recovered    16550\n",
    "Name: 663, dtype: int64"
   ]
  },
  {
   "cell_type": "markdown",
   "id": "8733ad49",
   "metadata": {},
   "source": [
    "nombre_infected       732\n",
    "nombre_sain          2242\n",
    "nombre_exposed        489\n",
    "nombre_recovered    16537\n",
    "Name: 664, dtype: int64"
   ]
  },
  {
   "cell_type": "markdown",
   "id": "111ecca7",
   "metadata": {},
   "source": [
    "nombre_infected       747\n",
    "nombre_sain          2249\n",
    "nombre_exposed        493\n",
    "nombre_recovered    16511\n",
    "Name: 665, dtype: int64"
   ]
  },
  {
   "cell_type": "markdown",
   "id": "70d11062",
   "metadata": {},
   "source": [
    "nombre_infected       763\n",
    "nombre_sain          2271\n",
    "nombre_exposed        490\n",
    "nombre_recovered    16476\n",
    "Name: 666, dtype: int64"
   ]
  },
  {
   "cell_type": "markdown",
   "id": "7a1c31ff",
   "metadata": {},
   "source": [
    "nombre_infected       773\n",
    "nombre_sain          2240\n",
    "nombre_exposed        512\n",
    "nombre_recovered    16475\n",
    "Name: 667, dtype: int64"
   ]
  },
  {
   "cell_type": "markdown",
   "id": "74d94475",
   "metadata": {},
   "source": [
    "nombre_infected       792\n",
    "nombre_sain          2218\n",
    "nombre_exposed        525\n",
    "nombre_recovered    16465\n",
    "Name: 668, dtype: int64"
   ]
  },
  {
   "cell_type": "markdown",
   "id": "898847ef",
   "metadata": {},
   "source": [
    "nombre_infected       812\n",
    "nombre_sain          2229\n",
    "nombre_exposed        515\n",
    "nombre_recovered    16444\n",
    "Name: 669, dtype: int64"
   ]
  },
  {
   "cell_type": "markdown",
   "id": "ebdf966a",
   "metadata": {},
   "source": [
    "nombre_infected       827\n",
    "nombre_sain          2227\n",
    "nombre_exposed        504\n",
    "nombre_recovered    16442\n",
    "Name: 670, dtype: int64"
   ]
  },
  {
   "cell_type": "markdown",
   "id": "d1c4dd37",
   "metadata": {},
   "source": [
    "nombre_infected       825\n",
    "nombre_sain          2213\n",
    "nombre_exposed        512\n",
    "nombre_recovered    16450\n",
    "Name: 671, dtype: int64"
   ]
  },
  {
   "cell_type": "markdown",
   "id": "decf45ce",
   "metadata": {},
   "source": [
    "nombre_infected       821\n",
    "nombre_sain          2223\n",
    "nombre_exposed        510\n",
    "nombre_recovered    16446\n",
    "Name: 672, dtype: int64"
   ]
  },
  {
   "cell_type": "markdown",
   "id": "604a50f1",
   "metadata": {},
   "source": [
    "nombre_infected       795\n",
    "nombre_sain          2220\n",
    "nombre_exposed        531\n",
    "nombre_recovered    16454\n",
    "Name: 673, dtype: int64"
   ]
  },
  {
   "cell_type": "markdown",
   "id": "09d770a9",
   "metadata": {},
   "source": [
    "nombre_infected       792\n",
    "nombre_sain          2206\n",
    "nombre_exposed        547\n",
    "nombre_recovered    16455\n",
    "Name: 674, dtype: int64"
   ]
  },
  {
   "cell_type": "markdown",
   "id": "b079664c",
   "metadata": {},
   "source": [
    "nombre_infected       803\n",
    "nombre_sain          2196\n",
    "nombre_exposed        558\n",
    "nombre_recovered    16443\n",
    "Name: 675, dtype: int64"
   ]
  },
  {
   "cell_type": "markdown",
   "id": "7e01e331",
   "metadata": {},
   "source": [
    "nombre_infected       811\n",
    "nombre_sain          2200\n",
    "nombre_exposed        558\n",
    "nombre_recovered    16431\n",
    "Name: 676, dtype: int64"
   ]
  },
  {
   "cell_type": "markdown",
   "id": "3bc4a2c9",
   "metadata": {},
   "source": [
    "nombre_infected       809\n",
    "nombre_sain          2211\n",
    "nombre_exposed        560\n",
    "nombre_recovered    16420\n",
    "Name: 677, dtype: int64"
   ]
  },
  {
   "cell_type": "markdown",
   "id": "84a29d2b",
   "metadata": {},
   "source": [
    "nombre_infected       818\n",
    "nombre_sain          2207\n",
    "nombre_exposed        555\n",
    "nombre_recovered    16420\n",
    "Name: 678, dtype: int64"
   ]
  },
  {
   "cell_type": "markdown",
   "id": "6559706f",
   "metadata": {},
   "source": [
    "nombre_infected       836\n",
    "nombre_sain          2223\n",
    "nombre_exposed        548\n",
    "nombre_recovered    16393\n",
    "Name: 679, dtype: int64"
   ]
  },
  {
   "cell_type": "markdown",
   "id": "55a75d77",
   "metadata": {},
   "source": [
    "nombre_infected       850\n",
    "nombre_sain          2226\n",
    "nombre_exposed        553\n",
    "nombre_recovered    16371\n",
    "Name: 680, dtype: int64"
   ]
  },
  {
   "cell_type": "markdown",
   "id": "6cf2ca24",
   "metadata": {},
   "source": [
    "nombre_infected       846\n",
    "nombre_sain          2213\n",
    "nombre_exposed        557\n",
    "nombre_recovered    16384\n",
    "Name: 681, dtype: int64"
   ]
  },
  {
   "cell_type": "markdown",
   "id": "f3858930",
   "metadata": {},
   "source": [
    "nombre_infected       847\n",
    "nombre_sain          2205\n",
    "nombre_exposed        564\n",
    "nombre_recovered    16384\n",
    "Name: 682, dtype: int64"
   ]
  },
  {
   "cell_type": "markdown",
   "id": "9e6a02bf",
   "metadata": {},
   "source": [
    "nombre_infected       852\n",
    "nombre_sain          2198\n",
    "nombre_exposed        563\n",
    "nombre_recovered    16387\n",
    "Name: 683, dtype: int64"
   ]
  },
  {
   "cell_type": "markdown",
   "id": "39f4b7eb",
   "metadata": {},
   "source": [
    "nombre_infected       846\n",
    "nombre_sain          2194\n",
    "nombre_exposed        560\n",
    "nombre_recovered    16400\n",
    "Name: 684, dtype: int64"
   ]
  },
  {
   "cell_type": "markdown",
   "id": "10bf5312",
   "metadata": {},
   "source": [
    "nombre_infected       847\n",
    "nombre_sain          2213\n",
    "nombre_exposed        530\n",
    "nombre_recovered    16410\n",
    "Name: 685, dtype: int64"
   ]
  },
  {
   "cell_type": "markdown",
   "id": "94edc5a7",
   "metadata": {},
   "source": [
    "nombre_infected       838\n",
    "nombre_sain          2216\n",
    "nombre_exposed        526\n",
    "nombre_recovered    16420\n",
    "Name: 686, dtype: int64"
   ]
  },
  {
   "cell_type": "markdown",
   "id": "3216bfd5",
   "metadata": {},
   "source": [
    "nombre_infected       848\n",
    "nombre_sain          2217\n",
    "nombre_exposed        518\n",
    "nombre_recovered    16417\n",
    "Name: 687, dtype: int64"
   ]
  },
  {
   "cell_type": "markdown",
   "id": "41010c3d",
   "metadata": {},
   "source": [
    "nombre_infected       844\n",
    "nombre_sain          2207\n",
    "nombre_exposed        518\n",
    "nombre_recovered    16431\n",
    "Name: 688, dtype: int64"
   ]
  },
  {
   "cell_type": "markdown",
   "id": "338e4e7c",
   "metadata": {},
   "source": [
    "nombre_infected       842\n",
    "nombre_sain          2205\n",
    "nombre_exposed        515\n",
    "nombre_recovered    16438\n",
    "Name: 689, dtype: int64"
   ]
  },
  {
   "cell_type": "markdown",
   "id": "2e4932d9",
   "metadata": {},
   "source": [
    "nombre_infected       830\n",
    "nombre_sain          2189\n",
    "nombre_exposed        527\n",
    "nombre_recovered    16454\n",
    "Name: 690, dtype: int64"
   ]
  },
  {
   "cell_type": "markdown",
   "id": "8d66f2f9",
   "metadata": {},
   "source": [
    "nombre_infected       820\n",
    "nombre_sain          2181\n",
    "nombre_exposed        536\n",
    "nombre_recovered    16463\n",
    "Name: 691, dtype: int64"
   ]
  },
  {
   "cell_type": "markdown",
   "id": "2793b3f7",
   "metadata": {},
   "source": [
    "nombre_infected       822\n",
    "nombre_sain          2188\n",
    "nombre_exposed        540\n",
    "nombre_recovered    16450\n",
    "Name: 692, dtype: int64"
   ]
  },
  {
   "cell_type": "markdown",
   "id": "540e3596",
   "metadata": {},
   "source": [
    "nombre_infected       831\n",
    "nombre_sain          2204\n",
    "nombre_exposed        523\n",
    "nombre_recovered    16442\n",
    "Name: 693, dtype: int64"
   ]
  },
  {
   "cell_type": "markdown",
   "id": "eb0e42d8",
   "metadata": {},
   "source": [
    "nombre_infected       827\n",
    "nombre_sain          2219\n",
    "nombre_exposed        508\n",
    "nombre_recovered    16446\n",
    "Name: 694, dtype: int64"
   ]
  },
  {
   "cell_type": "markdown",
   "id": "bd8d0dbd",
   "metadata": {},
   "source": [
    "nombre_infected       845\n",
    "nombre_sain          2230\n",
    "nombre_exposed        503\n",
    "nombre_recovered    16422\n",
    "Name: 695, dtype: int64"
   ]
  },
  {
   "cell_type": "markdown",
   "id": "a75612ca",
   "metadata": {},
   "source": [
    "nombre_infected       840\n",
    "nombre_sain          2203\n",
    "nombre_exposed        516\n",
    "nombre_recovered    16441\n",
    "Name: 696, dtype: int64"
   ]
  },
  {
   "cell_type": "markdown",
   "id": "f150dd16",
   "metadata": {},
   "source": [
    "nombre_infected       836\n",
    "nombre_sain          2201\n",
    "nombre_exposed        515\n",
    "nombre_recovered    16448\n",
    "Name: 697, dtype: int64"
   ]
  },
  {
   "cell_type": "markdown",
   "id": "69dec4c9",
   "metadata": {},
   "source": [
    "nombre_infected       843\n",
    "nombre_sain          2220\n",
    "nombre_exposed        508\n",
    "nombre_recovered    16429\n",
    "Name: 698, dtype: int64"
   ]
  },
  {
   "cell_type": "markdown",
   "id": "362c669c",
   "metadata": {},
   "source": [
    "nombre_infected       828\n",
    "nombre_sain          2253\n",
    "nombre_exposed        482\n",
    "nombre_recovered    16437\n",
    "Name: 699, dtype: int64"
   ]
  },
  {
   "cell_type": "markdown",
   "id": "e2bfabb8",
   "metadata": {},
   "source": [
    "nombre_infected       834\n",
    "nombre_sain          2239\n",
    "nombre_exposed        484\n",
    "nombre_recovered    16443\n",
    "Name: 700, dtype: int64"
   ]
  },
  {
   "cell_type": "markdown",
   "id": "1ff2036e",
   "metadata": {},
   "source": [
    "nombre_infected       824\n",
    "nombre_sain          2219\n",
    "nombre_exposed        512\n",
    "nombre_recovered    16445\n",
    "Name: 701, dtype: int64"
   ]
  },
  {
   "cell_type": "markdown",
   "id": "4f12c556",
   "metadata": {},
   "source": [
    "nombre_infected       798\n",
    "nombre_sain          2209\n",
    "nombre_exposed        527\n",
    "nombre_recovered    16466\n",
    "Name: 702, dtype: int64"
   ]
  },
  {
   "cell_type": "markdown",
   "id": "7d6a8eb5",
   "metadata": {},
   "source": [
    "nombre_infected       800\n",
    "nombre_sain          2213\n",
    "nombre_exposed        527\n",
    "nombre_recovered    16460\n",
    "Name: 703, dtype: int64"
   ]
  },
  {
   "cell_type": "markdown",
   "id": "ec4619e5",
   "metadata": {},
   "source": [
    "nombre_infected       805\n",
    "nombre_sain          2217\n",
    "nombre_exposed        509\n",
    "nombre_recovered    16469\n",
    "Name: 704, dtype: int64"
   ]
  },
  {
   "cell_type": "markdown",
   "id": "742d8907",
   "metadata": {},
   "source": [
    "nombre_infected       824\n",
    "nombre_sain          2219\n",
    "nombre_exposed        513\n",
    "nombre_recovered    16444\n",
    "Name: 705, dtype: int64"
   ]
  },
  {
   "cell_type": "markdown",
   "id": "6e8efb7f",
   "metadata": {},
   "source": [
    "nombre_infected       834\n",
    "nombre_sain          2207\n",
    "nombre_exposed        520\n",
    "nombre_recovered    16439\n",
    "Name: 706, dtype: int64"
   ]
  },
  {
   "cell_type": "markdown",
   "id": "965d0732",
   "metadata": {},
   "source": [
    "nombre_infected       823\n",
    "nombre_sain          2225\n",
    "nombre_exposed        507\n",
    "nombre_recovered    16445\n",
    "Name: 707, dtype: int64"
   ]
  },
  {
   "cell_type": "markdown",
   "id": "aae732c1",
   "metadata": {},
   "source": [
    "nombre_infected       794\n",
    "nombre_sain          2237\n",
    "nombre_exposed        518\n",
    "nombre_recovered    16451\n",
    "Name: 708, dtype: int64"
   ]
  },
  {
   "cell_type": "markdown",
   "id": "79b09ec7",
   "metadata": {},
   "source": [
    "nombre_infected       808\n",
    "nombre_sain          2236\n",
    "nombre_exposed        505\n",
    "nombre_recovered    16451\n",
    "Name: 709, dtype: int64"
   ]
  },
  {
   "cell_type": "markdown",
   "id": "17b77504",
   "metadata": {},
   "source": [
    "nombre_infected       821\n",
    "nombre_sain          2236\n",
    "nombre_exposed        494\n",
    "nombre_recovered    16449\n",
    "Name: 710, dtype: int64"
   ]
  },
  {
   "cell_type": "markdown",
   "id": "bab3a0a1",
   "metadata": {},
   "source": [
    "nombre_infected       835\n",
    "nombre_sain          2201\n",
    "nombre_exposed        520\n",
    "nombre_recovered    16444\n",
    "Name: 711, dtype: int64"
   ]
  },
  {
   "cell_type": "markdown",
   "id": "8c5fc9a1",
   "metadata": {},
   "source": [
    "nombre_infected       823\n",
    "nombre_sain          2167\n",
    "nombre_exposed        545\n",
    "nombre_recovered    16465\n",
    "Name: 712, dtype: int64"
   ]
  },
  {
   "cell_type": "markdown",
   "id": "9bc3622f",
   "metadata": {},
   "source": [
    "nombre_infected       855\n",
    "nombre_sain          2162\n",
    "nombre_exposed        538\n",
    "nombre_recovered    16445\n",
    "Name: 713, dtype: int64"
   ]
  },
  {
   "cell_type": "markdown",
   "id": "6bd08056",
   "metadata": {},
   "source": [
    "nombre_infected       830\n",
    "nombre_sain          2165\n",
    "nombre_exposed        535\n",
    "nombre_recovered    16470\n",
    "Name: 714, dtype: int64"
   ]
  },
  {
   "cell_type": "markdown",
   "id": "9854df94",
   "metadata": {},
   "source": [
    "nombre_infected       829\n",
    "nombre_sain          2162\n",
    "nombre_exposed        525\n",
    "nombre_recovered    16484\n",
    "Name: 715, dtype: int64"
   ]
  },
  {
   "cell_type": "markdown",
   "id": "9889a4fc",
   "metadata": {},
   "source": [
    "nombre_infected       850\n",
    "nombre_sain          2192\n",
    "nombre_exposed        500\n",
    "nombre_recovered    16458\n",
    "Name: 716, dtype: int64"
   ]
  },
  {
   "cell_type": "markdown",
   "id": "0b70b0d1",
   "metadata": {},
   "source": [
    "nombre_infected       858\n",
    "nombre_sain          2173\n",
    "nombre_exposed        517\n",
    "nombre_recovered    16452\n",
    "Name: 717, dtype: int64"
   ]
  },
  {
   "cell_type": "markdown",
   "id": "f8b687eb",
   "metadata": {},
   "source": [
    "nombre_infected       849\n",
    "nombre_sain          2163\n",
    "nombre_exposed        520\n",
    "nombre_recovered    16468\n",
    "Name: 718, dtype: int64"
   ]
  },
  {
   "cell_type": "markdown",
   "id": "15f47a4f",
   "metadata": {},
   "source": [
    "nombre_infected       851\n",
    "nombre_sain          2179\n",
    "nombre_exposed        501\n",
    "nombre_recovered    16469\n",
    "Name: 719, dtype: int64"
   ]
  },
  {
   "cell_type": "markdown",
   "id": "e19d9e7b",
   "metadata": {},
   "source": [
    "nombre_infected       868\n",
    "nombre_sain          2180\n",
    "nombre_exposed        497\n",
    "nombre_recovered    16455\n",
    "Name: 720, dtype: int64"
   ]
  },
  {
   "cell_type": "markdown",
   "id": "7f4ef06f",
   "metadata": {},
   "source": [
    "nombre_infected       854\n",
    "nombre_sain          2176\n",
    "nombre_exposed        478\n",
    "nombre_recovered    16492\n",
    "Name: 721, dtype: int64"
   ]
  },
  {
   "cell_type": "markdown",
   "id": "68d002c0",
   "metadata": {},
   "source": [
    "nombre_infected       849\n",
    "nombre_sain          2168\n",
    "nombre_exposed        486\n",
    "nombre_recovered    16497\n",
    "Name: 722, dtype: int64"
   ]
  },
  {
   "cell_type": "markdown",
   "id": "19bbed56",
   "metadata": {},
   "source": [
    "nombre_infected       838\n",
    "nombre_sain          2155\n",
    "nombre_exposed        486\n",
    "nombre_recovered    16521\n",
    "Name: 723, dtype: int64"
   ]
  },
  {
   "cell_type": "markdown",
   "id": "ce8e00c8",
   "metadata": {},
   "source": [
    "nombre_infected       849\n",
    "nombre_sain          2178\n",
    "nombre_exposed        456\n",
    "nombre_recovered    16517\n",
    "Name: 724, dtype: int64"
   ]
  },
  {
   "cell_type": "markdown",
   "id": "a08e1695",
   "metadata": {},
   "source": [
    "nombre_infected       834\n",
    "nombre_sain          2169\n",
    "nombre_exposed        457\n",
    "nombre_recovered    16540\n",
    "Name: 725, dtype: int64"
   ]
  },
  {
   "cell_type": "markdown",
   "id": "0a016bf6",
   "metadata": {},
   "source": [
    "nombre_infected       825\n",
    "nombre_sain          2176\n",
    "nombre_exposed        453\n",
    "nombre_recovered    16546\n",
    "Name: 726, dtype: int64"
   ]
  },
  {
   "cell_type": "markdown",
   "id": "0d3168d9",
   "metadata": {},
   "source": [
    "nombre_infected       821\n",
    "nombre_sain          2160\n",
    "nombre_exposed        467\n",
    "nombre_recovered    16552\n",
    "Name: 727, dtype: int64"
   ]
  },
  {
   "cell_type": "markdown",
   "id": "c086585b",
   "metadata": {},
   "source": [
    "nombre_infected       789\n",
    "nombre_sain          2184\n",
    "nombre_exposed        455\n",
    "nombre_recovered    16572\n",
    "Name: 728, dtype: int64"
   ]
  },
  {
   "cell_type": "markdown",
   "id": "661e862b",
   "metadata": {},
   "source": [
    "nombre_infected       820\n",
    "nombre_sain          2157\n",
    "nombre_exposed        453\n",
    "nombre_recovered    16570\n",
    "Name: 729, dtype: int64"
   ]
  },
  {
   "cell_type": "markdown",
   "id": "82032a41",
   "metadata": {},
   "source": [
    "nombre_infected       804\n",
    "nombre_sain          2120\n",
    "nombre_exposed        493\n",
    "nombre_recovered    16583\n",
    "Name: 730, dtype: int64"
   ]
  }
 ],
 "metadata": {},
 "nbformat": 4,
 "nbformat_minor": 5
}
