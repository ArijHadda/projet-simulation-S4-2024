{
 "cells": [
  {
   "cell_type": "markdown",
   "id": "d3277fd7",
   "metadata": {},
   "source": [
    "nombre_infected        20\n",
    "nombre_sain         19980\n",
    "nombre_exposed          0\n",
    "nombre_recovered        0\n",
    "Name: 0, dtype: int64"
   ]
  },
  {
   "cell_type": "markdown",
   "id": "e9d17417",
   "metadata": {},
   "source": [
    "nombre_infected        20\n",
    "nombre_sain         19959\n",
    "nombre_exposed         21\n",
    "nombre_recovered        0\n",
    "Name: 1, dtype: int64"
   ]
  },
  {
   "cell_type": "markdown",
   "id": "4c4d890d",
   "metadata": {},
   "source": [
    "nombre_infected        20\n",
    "nombre_sain         19933\n",
    "nombre_exposed         47\n",
    "nombre_recovered        0\n",
    "Name: 2, dtype: int64"
   ]
  },
  {
   "cell_type": "markdown",
   "id": "4dbcf7aa",
   "metadata": {},
   "source": [
    "nombre_infected        24\n",
    "nombre_sain         19914\n",
    "nombre_exposed         62\n",
    "nombre_recovered        0\n",
    "Name: 3, dtype: int64"
   ]
  },
  {
   "cell_type": "markdown",
   "id": "bc2eb89b",
   "metadata": {},
   "source": [
    "nombre_infected        37\n",
    "nombre_sain         19885\n",
    "nombre_exposed         78\n",
    "nombre_recovered        0\n",
    "Name: 4, dtype: int64"
   ]
  },
  {
   "cell_type": "markdown",
   "id": "7bb40c1f",
   "metadata": {},
   "source": [
    "nombre_infected        55\n",
    "nombre_sain         19844\n",
    "nombre_exposed        100\n",
    "nombre_recovered        1\n",
    "Name: 5, dtype: int64"
   ]
  },
  {
   "cell_type": "markdown",
   "id": "991adfd6",
   "metadata": {},
   "source": [
    "nombre_infected        75\n",
    "nombre_sain         19757\n",
    "nombre_exposed        166\n",
    "nombre_recovered        2\n",
    "Name: 6, dtype: int64"
   ]
  },
  {
   "cell_type": "markdown",
   "id": "0585c942",
   "metadata": {},
   "source": [
    "nombre_infected        93\n",
    "nombre_sain         19653\n",
    "nombre_exposed        244\n",
    "nombre_recovered       10\n",
    "Name: 7, dtype: int64"
   ]
  },
  {
   "cell_type": "markdown",
   "id": "e43365c7",
   "metadata": {},
   "source": [
    "nombre_infected       130\n",
    "nombre_sain         19511\n",
    "nombre_exposed        342\n",
    "nombre_recovered       17\n",
    "Name: 8, dtype: int64"
   ]
  },
  {
   "cell_type": "markdown",
   "id": "a475d6dd",
   "metadata": {},
   "source": [
    "nombre_infected       190\n",
    "nombre_sain         19318\n",
    "nombre_exposed        465\n",
    "nombre_recovered       27\n",
    "Name: 9, dtype: int64"
   ]
  },
  {
   "cell_type": "markdown",
   "id": "18c1d841",
   "metadata": {},
   "source": [
    "nombre_infected       261\n",
    "nombre_sain         19030\n",
    "nombre_exposed        671\n",
    "nombre_recovered       38\n",
    "Name: 10, dtype: int64"
   ]
  },
  {
   "cell_type": "markdown",
   "id": "6b261633",
   "metadata": {},
   "source": [
    "nombre_infected       349\n",
    "nombre_sain         18637\n",
    "nombre_exposed        954\n",
    "nombre_recovered       60\n",
    "Name: 11, dtype: int64"
   ]
  },
  {
   "cell_type": "markdown",
   "id": "4d3e90cc",
   "metadata": {},
   "source": [
    "nombre_infected       482\n",
    "nombre_sain         18165\n",
    "nombre_exposed       1257\n",
    "nombre_recovered       96\n",
    "Name: 12, dtype: int64"
   ]
  },
  {
   "cell_type": "markdown",
   "id": "c3c8049a",
   "metadata": {},
   "source": [
    "nombre_infected       645\n",
    "nombre_sain         17514\n",
    "nombre_exposed       1702\n",
    "nombre_recovered      139\n",
    "Name: 13, dtype: int64"
   ]
  },
  {
   "cell_type": "markdown",
   "id": "9e76579a",
   "metadata": {},
   "source": [
    "nombre_infected       916\n",
    "nombre_sain         16758\n",
    "nombre_exposed       2128\n",
    "nombre_recovered      198\n",
    "Name: 14, dtype: int64"
   ]
  },
  {
   "cell_type": "markdown",
   "id": "050c5f3e",
   "metadata": {},
   "source": [
    "nombre_infected      1239\n",
    "nombre_sain         15761\n",
    "nombre_exposed       2723\n",
    "nombre_recovered      277\n",
    "Name: 15, dtype: int64"
   ]
  },
  {
   "cell_type": "markdown",
   "id": "1b3a20f1",
   "metadata": {},
   "source": [
    "nombre_infected      1680\n",
    "nombre_sain         14512\n",
    "nombre_exposed       3425\n",
    "nombre_recovered      383\n",
    "Name: 16, dtype: int64"
   ]
  },
  {
   "cell_type": "markdown",
   "id": "abf02fa9",
   "metadata": {},
   "source": [
    "nombre_infected      2170\n",
    "nombre_sain         12958\n",
    "nombre_exposed       4320\n",
    "nombre_recovered      552\n",
    "Name: 17, dtype: int64"
   ]
  },
  {
   "cell_type": "markdown",
   "id": "cafcbb5e",
   "metadata": {},
   "source": [
    "nombre_infected      2789\n",
    "nombre_sain         11260\n",
    "nombre_exposed       5171\n",
    "nombre_recovered      780\n",
    "Name: 18, dtype: int64"
   ]
  },
  {
   "cell_type": "markdown",
   "id": "a903cce3",
   "metadata": {},
   "source": [
    "nombre_infected     3592\n",
    "nombre_sain         9425\n",
    "nombre_exposed      5970\n",
    "nombre_recovered    1013\n",
    "Name: 19, dtype: int64"
   ]
  },
  {
   "cell_type": "markdown",
   "id": "b8877fd5",
   "metadata": {},
   "source": [
    "nombre_infected     4538\n",
    "nombre_sain         7570\n",
    "nombre_exposed      6534\n",
    "nombre_recovered    1358\n",
    "Name: 20, dtype: int64"
   ]
  },
  {
   "cell_type": "markdown",
   "id": "51e11fa3",
   "metadata": {},
   "source": [
    "nombre_infected     5470\n",
    "nombre_sain         5848\n",
    "nombre_exposed      6869\n",
    "nombre_recovered    1813\n",
    "Name: 21, dtype: int64"
   ]
  },
  {
   "cell_type": "markdown",
   "id": "1b4b4dd9",
   "metadata": {},
   "source": [
    "nombre_infected     6455\n",
    "nombre_sain         4302\n",
    "nombre_exposed      6877\n",
    "nombre_recovered    2366\n",
    "Name: 22, dtype: int64"
   ]
  },
  {
   "cell_type": "markdown",
   "id": "6a35932a",
   "metadata": {},
   "source": [
    "nombre_infected     7475\n",
    "nombre_sain         3078\n",
    "nombre_exposed      6448\n",
    "nombre_recovered    2999\n",
    "Name: 23, dtype: int64"
   ]
  },
  {
   "cell_type": "markdown",
   "id": "32f5cd61",
   "metadata": {},
   "source": [
    "nombre_infected     8289\n",
    "nombre_sain         2109\n",
    "nombre_exposed      5821\n",
    "nombre_recovered    3781\n",
    "Name: 24, dtype: int64"
   ]
  },
  {
   "cell_type": "markdown",
   "id": "78af8bdc",
   "metadata": {},
   "source": [
    "nombre_infected     8900\n",
    "nombre_sain         1407\n",
    "nombre_exposed      5039\n",
    "nombre_recovered    4654\n",
    "Name: 25, dtype: int64"
   ]
  },
  {
   "cell_type": "markdown",
   "id": "3d5ce971",
   "metadata": {},
   "source": [
    "nombre_infected     9301\n",
    "nombre_sain          944\n",
    "nombre_exposed      4156\n",
    "nombre_recovered    5599\n",
    "Name: 26, dtype: int64"
   ]
  },
  {
   "cell_type": "markdown",
   "id": "9f80e5e9",
   "metadata": {},
   "source": [
    "nombre_infected     9433\n",
    "nombre_sain          643\n",
    "nombre_exposed      3305\n",
    "nombre_recovered    6619\n",
    "Name: 27, dtype: int64"
   ]
  },
  {
   "cell_type": "markdown",
   "id": "5d8fa519",
   "metadata": {},
   "source": [
    "nombre_infected     9284\n",
    "nombre_sain          426\n",
    "nombre_exposed      2594\n",
    "nombre_recovered    7696\n",
    "Name: 28, dtype: int64"
   ]
  },
  {
   "cell_type": "markdown",
   "id": "e6feeb38",
   "metadata": {},
   "source": [
    "nombre_infected     8938\n",
    "nombre_sain          306\n",
    "nombre_exposed      1957\n",
    "nombre_recovered    8799\n",
    "Name: 29, dtype: int64"
   ]
  },
  {
   "cell_type": "markdown",
   "id": "07cedca8",
   "metadata": {},
   "source": [
    "nombre_infected     8438\n",
    "nombre_sain          226\n",
    "nombre_exposed      1459\n",
    "nombre_recovered    9877\n",
    "Name: 30, dtype: int64"
   ]
  },
  {
   "cell_type": "markdown",
   "id": "e0f7520e",
   "metadata": {},
   "source": [
    "nombre_infected      7704\n",
    "nombre_sain           197\n",
    "nombre_exposed       1089\n",
    "nombre_recovered    11010\n",
    "Name: 31, dtype: int64"
   ]
  },
  {
   "cell_type": "markdown",
   "id": "55f53f8a",
   "metadata": {},
   "source": [
    "nombre_infected      7007\n",
    "nombre_sain           178\n",
    "nombre_exposed        795\n",
    "nombre_recovered    12020\n",
    "Name: 32, dtype: int64"
   ]
  },
  {
   "cell_type": "markdown",
   "id": "e001f0d0",
   "metadata": {},
   "source": [
    "nombre_infected      6316\n",
    "nombre_sain           164\n",
    "nombre_exposed        555\n",
    "nombre_recovered    12965\n",
    "Name: 33, dtype: int64"
   ]
  },
  {
   "cell_type": "markdown",
   "id": "485e4757",
   "metadata": {},
   "source": [
    "nombre_infected      5562\n",
    "nombre_sain           161\n",
    "nombre_exposed        399\n",
    "nombre_recovered    13878\n",
    "Name: 34, dtype: int64"
   ]
  },
  {
   "cell_type": "markdown",
   "id": "71d14ab6",
   "metadata": {},
   "source": [
    "nombre_infected      4880\n",
    "nombre_sain           165\n",
    "nombre_exposed        306\n",
    "nombre_recovered    14649\n",
    "Name: 35, dtype: int64"
   ]
  },
  {
   "cell_type": "markdown",
   "id": "15ed45c6",
   "metadata": {},
   "source": [
    "nombre_infected      4230\n",
    "nombre_sain           175\n",
    "nombre_exposed        249\n",
    "nombre_recovered    15346\n",
    "Name: 36, dtype: int64"
   ]
  },
  {
   "cell_type": "markdown",
   "id": "0a4b1b63",
   "metadata": {},
   "source": [
    "nombre_infected      3686\n",
    "nombre_sain           183\n",
    "nombre_exposed        217\n",
    "nombre_recovered    15914\n",
    "Name: 37, dtype: int64"
   ]
  },
  {
   "cell_type": "markdown",
   "id": "f02aee95",
   "metadata": {},
   "source": [
    "nombre_infected      3194\n",
    "nombre_sain           207\n",
    "nombre_exposed        172\n",
    "nombre_recovered    16427\n",
    "Name: 38, dtype: int64"
   ]
  },
  {
   "cell_type": "markdown",
   "id": "01d42f3b",
   "metadata": {},
   "source": [
    "nombre_infected      2773\n",
    "nombre_sain           237\n",
    "nombre_exposed        151\n",
    "nombre_recovered    16839\n",
    "Name: 39, dtype: int64"
   ]
  },
  {
   "cell_type": "markdown",
   "id": "a3a7875f",
   "metadata": {},
   "source": [
    "nombre_infected      2419\n",
    "nombre_sain           256\n",
    "nombre_exposed        144\n",
    "nombre_recovered    17181\n",
    "Name: 40, dtype: int64"
   ]
  },
  {
   "cell_type": "markdown",
   "id": "5dce451d",
   "metadata": {},
   "source": [
    "nombre_infected      2100\n",
    "nombre_sain           278\n",
    "nombre_exposed        125\n",
    "nombre_recovered    17497\n",
    "Name: 41, dtype: int64"
   ]
  },
  {
   "cell_type": "markdown",
   "id": "fef7edd8",
   "metadata": {},
   "source": [
    "nombre_infected      1832\n",
    "nombre_sain           287\n",
    "nombre_exposed        131\n",
    "nombre_recovered    17750\n",
    "Name: 42, dtype: int64"
   ]
  },
  {
   "cell_type": "markdown",
   "id": "130e06e8",
   "metadata": {},
   "source": [
    "nombre_infected      1566\n",
    "nombre_sain           310\n",
    "nombre_exposed        128\n",
    "nombre_recovered    17996\n",
    "Name: 43, dtype: int64"
   ]
  },
  {
   "cell_type": "markdown",
   "id": "bae316d1",
   "metadata": {},
   "source": [
    "nombre_infected      1346\n",
    "nombre_sain           333\n",
    "nombre_exposed        129\n",
    "nombre_recovered    18192\n",
    "Name: 44, dtype: int64"
   ]
  },
  {
   "cell_type": "markdown",
   "id": "23ba8e64",
   "metadata": {},
   "source": [
    "nombre_infected      1182\n",
    "nombre_sain           399\n",
    "nombre_exposed        122\n",
    "nombre_recovered    18297\n",
    "Name: 45, dtype: int64"
   ]
  },
  {
   "cell_type": "markdown",
   "id": "4a0ed3c0",
   "metadata": {},
   "source": [
    "nombre_infected      1045\n",
    "nombre_sain           438\n",
    "nombre_exposed        100\n",
    "nombre_recovered    18417\n",
    "Name: 46, dtype: int64"
   ]
  },
  {
   "cell_type": "markdown",
   "id": "a31a1811",
   "metadata": {},
   "source": [
    "nombre_infected       904\n",
    "nombre_sain           487\n",
    "nombre_exposed        108\n",
    "nombre_recovered    18501\n",
    "Name: 47, dtype: int64"
   ]
  },
  {
   "cell_type": "markdown",
   "id": "accfb98c",
   "metadata": {},
   "source": [
    "nombre_infected       792\n",
    "nombre_sain           545\n",
    "nombre_exposed         87\n",
    "nombre_recovered    18576\n",
    "Name: 48, dtype: int64"
   ]
  },
  {
   "cell_type": "markdown",
   "id": "97dd8533",
   "metadata": {},
   "source": [
    "nombre_infected       671\n",
    "nombre_sain           591\n",
    "nombre_exposed         85\n",
    "nombre_recovered    18653\n",
    "Name: 49, dtype: int64"
   ]
  },
  {
   "cell_type": "markdown",
   "id": "9cbe1da8",
   "metadata": {},
   "source": [
    "nombre_infected       590\n",
    "nombre_sain           628\n",
    "nombre_exposed         80\n",
    "nombre_recovered    18702\n",
    "Name: 50, dtype: int64"
   ]
  },
  {
   "cell_type": "markdown",
   "id": "914896c7",
   "metadata": {},
   "source": [
    "nombre_infected       516\n",
    "nombre_sain           700\n",
    "nombre_exposed         86\n",
    "nombre_recovered    18698\n",
    "Name: 51, dtype: int64"
   ]
  },
  {
   "cell_type": "markdown",
   "id": "a8d96419",
   "metadata": {},
   "source": [
    "nombre_infected       449\n",
    "nombre_sain           754\n",
    "nombre_exposed         84\n",
    "nombre_recovered    18713\n",
    "Name: 52, dtype: int64"
   ]
  },
  {
   "cell_type": "markdown",
   "id": "8053a66f",
   "metadata": {},
   "source": [
    "nombre_infected       388\n",
    "nombre_sain           813\n",
    "nombre_exposed         86\n",
    "nombre_recovered    18713\n",
    "Name: 53, dtype: int64"
   ]
  },
  {
   "cell_type": "markdown",
   "id": "dde70289",
   "metadata": {},
   "source": [
    "nombre_infected       343\n",
    "nombre_sain           863\n",
    "nombre_exposed         85\n",
    "nombre_recovered    18709\n",
    "Name: 54, dtype: int64"
   ]
  },
  {
   "cell_type": "markdown",
   "id": "1f1247ce",
   "metadata": {},
   "source": [
    "nombre_infected       310\n",
    "nombre_sain           944\n",
    "nombre_exposed         89\n",
    "nombre_recovered    18657\n",
    "Name: 55, dtype: int64"
   ]
  },
  {
   "cell_type": "markdown",
   "id": "55bdab08",
   "metadata": {},
   "source": [
    "nombre_infected       266\n",
    "nombre_sain          1014\n",
    "nombre_exposed         86\n",
    "nombre_recovered    18634\n",
    "Name: 56, dtype: int64"
   ]
  },
  {
   "cell_type": "markdown",
   "id": "3757c4a9",
   "metadata": {},
   "source": [
    "nombre_infected       236\n",
    "nombre_sain          1089\n",
    "nombre_exposed         84\n",
    "nombre_recovered    18591\n",
    "Name: 57, dtype: int64"
   ]
  },
  {
   "cell_type": "markdown",
   "id": "3dbd0bd3",
   "metadata": {},
   "source": [
    "nombre_infected       215\n",
    "nombre_sain          1164\n",
    "nombre_exposed         84\n",
    "nombre_recovered    18537\n",
    "Name: 58, dtype: int64"
   ]
  },
  {
   "cell_type": "markdown",
   "id": "7a0570f4",
   "metadata": {},
   "source": [
    "nombre_infected       196\n",
    "nombre_sain          1238\n",
    "nombre_exposed         82\n",
    "nombre_recovered    18484\n",
    "Name: 59, dtype: int64"
   ]
  },
  {
   "cell_type": "markdown",
   "id": "be6d9649",
   "metadata": {},
   "source": [
    "nombre_infected       178\n",
    "nombre_sain          1329\n",
    "nombre_exposed         72\n",
    "nombre_recovered    18421\n",
    "Name: 60, dtype: int64"
   ]
  },
  {
   "cell_type": "markdown",
   "id": "c5c2af24",
   "metadata": {},
   "source": [
    "nombre_infected       169\n",
    "nombre_sain          1412\n",
    "nombre_exposed         67\n",
    "nombre_recovered    18352\n",
    "Name: 61, dtype: int64"
   ]
  },
  {
   "cell_type": "markdown",
   "id": "19f79d6d",
   "metadata": {},
   "source": [
    "nombre_infected       170\n",
    "nombre_sain          1495\n",
    "nombre_exposed         57\n",
    "nombre_recovered    18278\n",
    "Name: 62, dtype: int64"
   ]
  },
  {
   "cell_type": "markdown",
   "id": "539080f3",
   "metadata": {},
   "source": [
    "nombre_infected       155\n",
    "nombre_sain          1581\n",
    "nombre_exposed         58\n",
    "nombre_recovered    18206\n",
    "Name: 63, dtype: int64"
   ]
  },
  {
   "cell_type": "markdown",
   "id": "c336b219",
   "metadata": {},
   "source": [
    "nombre_infected       143\n",
    "nombre_sain          1673\n",
    "nombre_exposed         59\n",
    "nombre_recovered    18125\n",
    "Name: 64, dtype: int64"
   ]
  },
  {
   "cell_type": "markdown",
   "id": "e6153dc6",
   "metadata": {},
   "source": [
    "nombre_infected       138\n",
    "nombre_sain          1757\n",
    "nombre_exposed         63\n",
    "nombre_recovered    18042\n",
    "Name: 65, dtype: int64"
   ]
  },
  {
   "cell_type": "markdown",
   "id": "bc6ff9c1",
   "metadata": {},
   "source": [
    "nombre_infected       128\n",
    "nombre_sain          1836\n",
    "nombre_exposed         63\n",
    "nombre_recovered    17973\n",
    "Name: 66, dtype: int64"
   ]
  },
  {
   "cell_type": "markdown",
   "id": "22fdd293",
   "metadata": {},
   "source": [
    "nombre_infected       135\n",
    "nombre_sain          1903\n",
    "nombre_exposed         52\n",
    "nombre_recovered    17910\n",
    "Name: 67, dtype: int64"
   ]
  },
  {
   "cell_type": "markdown",
   "id": "a09049af",
   "metadata": {},
   "source": [
    "nombre_infected       127\n",
    "nombre_sain          1965\n",
    "nombre_exposed         60\n",
    "nombre_recovered    17848\n",
    "Name: 68, dtype: int64"
   ]
  },
  {
   "cell_type": "markdown",
   "id": "ae5baf8b",
   "metadata": {},
   "source": [
    "nombre_infected       122\n",
    "nombre_sain          2010\n",
    "nombre_exposed         79\n",
    "nombre_recovered    17789\n",
    "Name: 69, dtype: int64"
   ]
  },
  {
   "cell_type": "markdown",
   "id": "b604ce46",
   "metadata": {},
   "source": [
    "nombre_infected       123\n",
    "nombre_sain          2066\n",
    "nombre_exposed         78\n",
    "nombre_recovered    17733\n",
    "Name: 70, dtype: int64"
   ]
  },
  {
   "cell_type": "markdown",
   "id": "dd8842c3",
   "metadata": {},
   "source": [
    "nombre_infected       132\n",
    "nombre_sain          2110\n",
    "nombre_exposed         74\n",
    "nombre_recovered    17684\n",
    "Name: 71, dtype: int64"
   ]
  },
  {
   "cell_type": "markdown",
   "id": "9dbf2bbc",
   "metadata": {},
   "source": [
    "nombre_infected       130\n",
    "nombre_sain          2152\n",
    "nombre_exposed         74\n",
    "nombre_recovered    17644\n",
    "Name: 72, dtype: int64"
   ]
  },
  {
   "cell_type": "markdown",
   "id": "2b81bd2d",
   "metadata": {},
   "source": [
    "nombre_infected       131\n",
    "nombre_sain          2201\n",
    "nombre_exposed         67\n",
    "nombre_recovered    17601\n",
    "Name: 73, dtype: int64"
   ]
  },
  {
   "cell_type": "markdown",
   "id": "05058f8b",
   "metadata": {},
   "source": [
    "nombre_infected       134\n",
    "nombre_sain          2256\n",
    "nombre_exposed         66\n",
    "nombre_recovered    17544\n",
    "Name: 74, dtype: int64"
   ]
  },
  {
   "cell_type": "markdown",
   "id": "62931a04",
   "metadata": {},
   "source": [
    "nombre_infected       126\n",
    "nombre_sain          2299\n",
    "nombre_exposed         68\n",
    "nombre_recovered    17507\n",
    "Name: 75, dtype: int64"
   ]
  },
  {
   "cell_type": "markdown",
   "id": "f8f672ae",
   "metadata": {},
   "source": [
    "nombre_infected       137\n",
    "nombre_sain          2341\n",
    "nombre_exposed         63\n",
    "nombre_recovered    17459\n",
    "Name: 76, dtype: int64"
   ]
  },
  {
   "cell_type": "markdown",
   "id": "921a83d4",
   "metadata": {},
   "source": [
    "nombre_infected       142\n",
    "nombre_sain          2371\n",
    "nombre_exposed         67\n",
    "nombre_recovered    17420\n",
    "Name: 77, dtype: int64"
   ]
  },
  {
   "cell_type": "markdown",
   "id": "e14bc9f9",
   "metadata": {},
   "source": [
    "nombre_infected       138\n",
    "nombre_sain          2393\n",
    "nombre_exposed         76\n",
    "nombre_recovered    17393\n",
    "Name: 78, dtype: int64"
   ]
  },
  {
   "cell_type": "markdown",
   "id": "2aac199f",
   "metadata": {},
   "source": [
    "nombre_infected       136\n",
    "nombre_sain          2419\n",
    "nombre_exposed         79\n",
    "nombre_recovered    17366\n",
    "Name: 79, dtype: int64"
   ]
  },
  {
   "cell_type": "markdown",
   "id": "118532cf",
   "metadata": {},
   "source": [
    "nombre_infected       139\n",
    "nombre_sain          2458\n",
    "nombre_exposed         77\n",
    "nombre_recovered    17326\n",
    "Name: 80, dtype: int64"
   ]
  },
  {
   "cell_type": "markdown",
   "id": "cadd0451",
   "metadata": {},
   "source": [
    "nombre_infected       143\n",
    "nombre_sain          2509\n",
    "nombre_exposed         76\n",
    "nombre_recovered    17272\n",
    "Name: 81, dtype: int64"
   ]
  },
  {
   "cell_type": "markdown",
   "id": "a451505a",
   "metadata": {},
   "source": [
    "nombre_infected       147\n",
    "nombre_sain          2538\n",
    "nombre_exposed         85\n",
    "nombre_recovered    17230\n",
    "Name: 82, dtype: int64"
   ]
  },
  {
   "cell_type": "markdown",
   "id": "45d51297",
   "metadata": {},
   "source": [
    "nombre_infected       145\n",
    "nombre_sain          2576\n",
    "nombre_exposed         90\n",
    "nombre_recovered    17189\n",
    "Name: 83, dtype: int64"
   ]
  },
  {
   "cell_type": "markdown",
   "id": "58fc46c3",
   "metadata": {},
   "source": [
    "nombre_infected       148\n",
    "nombre_sain          2597\n",
    "nombre_exposed        100\n",
    "nombre_recovered    17155\n",
    "Name: 84, dtype: int64"
   ]
  },
  {
   "cell_type": "markdown",
   "id": "b224a182",
   "metadata": {},
   "source": [
    "nombre_infected       156\n",
    "nombre_sain          2632\n",
    "nombre_exposed        100\n",
    "nombre_recovered    17112\n",
    "Name: 85, dtype: int64"
   ]
  },
  {
   "cell_type": "markdown",
   "id": "a3195b2c",
   "metadata": {},
   "source": [
    "nombre_infected       156\n",
    "nombre_sain          2671\n",
    "nombre_exposed         99\n",
    "nombre_recovered    17074\n",
    "Name: 86, dtype: int64"
   ]
  },
  {
   "cell_type": "markdown",
   "id": "154a6059",
   "metadata": {},
   "source": [
    "nombre_infected       163\n",
    "nombre_sain          2695\n",
    "nombre_exposed        101\n",
    "nombre_recovered    17041\n",
    "Name: 87, dtype: int64"
   ]
  },
  {
   "cell_type": "markdown",
   "id": "a64482ab",
   "metadata": {},
   "source": [
    "nombre_infected       171\n",
    "nombre_sain          2739\n",
    "nombre_exposed        103\n",
    "nombre_recovered    16987\n",
    "Name: 88, dtype: int64"
   ]
  },
  {
   "cell_type": "markdown",
   "id": "8579c498",
   "metadata": {},
   "source": [
    "nombre_infected       163\n",
    "nombre_sain          2775\n",
    "nombre_exposed        101\n",
    "nombre_recovered    16961\n",
    "Name: 89, dtype: int64"
   ]
  },
  {
   "cell_type": "markdown",
   "id": "663b99be",
   "metadata": {},
   "source": [
    "nombre_infected       164\n",
    "nombre_sain          2794\n",
    "nombre_exposed        114\n",
    "nombre_recovered    16928\n",
    "Name: 90, dtype: int64"
   ]
  },
  {
   "cell_type": "markdown",
   "id": "c59ed6b4",
   "metadata": {},
   "source": [
    "nombre_infected       164\n",
    "nombre_sain          2826\n",
    "nombre_exposed        117\n",
    "nombre_recovered    16893\n",
    "Name: 91, dtype: int64"
   ]
  },
  {
   "cell_type": "markdown",
   "id": "d65a16aa",
   "metadata": {},
   "source": [
    "nombre_infected       166\n",
    "nombre_sain          2847\n",
    "nombre_exposed        122\n",
    "nombre_recovered    16865\n",
    "Name: 92, dtype: int64"
   ]
  },
  {
   "cell_type": "markdown",
   "id": "e8c89258",
   "metadata": {},
   "source": [
    "nombre_infected       186\n",
    "nombre_sain          2870\n",
    "nombre_exposed        110\n",
    "nombre_recovered    16834\n",
    "Name: 93, dtype: int64"
   ]
  },
  {
   "cell_type": "markdown",
   "id": "c4da4336",
   "metadata": {},
   "source": [
    "nombre_infected       191\n",
    "nombre_sain          2901\n",
    "nombre_exposed        108\n",
    "nombre_recovered    16800\n",
    "Name: 94, dtype: int64"
   ]
  },
  {
   "cell_type": "markdown",
   "id": "55875d0d",
   "metadata": {},
   "source": [
    "nombre_infected       196\n",
    "nombre_sain          2939\n",
    "nombre_exposed        114\n",
    "nombre_recovered    16751\n",
    "Name: 95, dtype: int64"
   ]
  },
  {
   "cell_type": "markdown",
   "id": "d3cdef87",
   "metadata": {},
   "source": [
    "nombre_infected       199\n",
    "nombre_sain          2955\n",
    "nombre_exposed        126\n",
    "nombre_recovered    16720\n",
    "Name: 96, dtype: int64"
   ]
  },
  {
   "cell_type": "markdown",
   "id": "54e5c6e8",
   "metadata": {},
   "source": [
    "nombre_infected       214\n",
    "nombre_sain          2973\n",
    "nombre_exposed        125\n",
    "nombre_recovered    16688\n",
    "Name: 97, dtype: int64"
   ]
  },
  {
   "cell_type": "markdown",
   "id": "2b16843f",
   "metadata": {},
   "source": [
    "nombre_infected       222\n",
    "nombre_sain          2970\n",
    "nombre_exposed        136\n",
    "nombre_recovered    16672\n",
    "Name: 98, dtype: int64"
   ]
  },
  {
   "cell_type": "markdown",
   "id": "c3d297a9",
   "metadata": {},
   "source": [
    "nombre_infected       238\n",
    "nombre_sain          2980\n",
    "nombre_exposed        151\n",
    "nombre_recovered    16631\n",
    "Name: 99, dtype: int64"
   ]
  },
  {
   "cell_type": "markdown",
   "id": "c8ae2bdf",
   "metadata": {},
   "source": [
    "nombre_infected       244\n",
    "nombre_sain          2979\n",
    "nombre_exposed        166\n",
    "nombre_recovered    16611\n",
    "Name: 100, dtype: int64"
   ]
  },
  {
   "cell_type": "markdown",
   "id": "42172736",
   "metadata": {},
   "source": [
    "nombre_infected       258\n",
    "nombre_sain          3002\n",
    "nombre_exposed        164\n",
    "nombre_recovered    16576\n",
    "Name: 101, dtype: int64"
   ]
  },
  {
   "cell_type": "markdown",
   "id": "733d7a14",
   "metadata": {},
   "source": [
    "nombre_infected       264\n",
    "nombre_sain          3011\n",
    "nombre_exposed        171\n",
    "nombre_recovered    16554\n",
    "Name: 102, dtype: int64"
   ]
  },
  {
   "cell_type": "markdown",
   "id": "350f16b0",
   "metadata": {},
   "source": [
    "nombre_infected       271\n",
    "nombre_sain          3042\n",
    "nombre_exposed        174\n",
    "nombre_recovered    16513\n",
    "Name: 103, dtype: int64"
   ]
  },
  {
   "cell_type": "markdown",
   "id": "3bfdd873",
   "metadata": {},
   "source": [
    "nombre_infected       290\n",
    "nombre_sain          3067\n",
    "nombre_exposed        192\n",
    "nombre_recovered    16451\n",
    "Name: 104, dtype: int64"
   ]
  },
  {
   "cell_type": "markdown",
   "id": "975a27f0",
   "metadata": {},
   "source": [
    "nombre_infected       306\n",
    "nombre_sain          3069\n",
    "nombre_exposed        198\n",
    "nombre_recovered    16427\n",
    "Name: 105, dtype: int64"
   ]
  },
  {
   "cell_type": "markdown",
   "id": "5361b6cd",
   "metadata": {},
   "source": [
    "nombre_infected       335\n",
    "nombre_sain          3108\n",
    "nombre_exposed        179\n",
    "nombre_recovered    16378\n",
    "Name: 106, dtype: int64"
   ]
  },
  {
   "cell_type": "markdown",
   "id": "bc51ace1",
   "metadata": {},
   "source": [
    "nombre_infected       344\n",
    "nombre_sain          3111\n",
    "nombre_exposed        200\n",
    "nombre_recovered    16345\n",
    "Name: 107, dtype: int64"
   ]
  },
  {
   "cell_type": "markdown",
   "id": "efb84712",
   "metadata": {},
   "source": [
    "nombre_infected       353\n",
    "nombre_sain          3101\n",
    "nombre_exposed        224\n",
    "nombre_recovered    16322\n",
    "Name: 108, dtype: int64"
   ]
  },
  {
   "cell_type": "markdown",
   "id": "2b61e235",
   "metadata": {},
   "source": [
    "nombre_infected       369\n",
    "nombre_sain          3099\n",
    "nombre_exposed        239\n",
    "nombre_recovered    16293\n",
    "Name: 109, dtype: int64"
   ]
  },
  {
   "cell_type": "markdown",
   "id": "ac10001c",
   "metadata": {},
   "source": [
    "nombre_infected       381\n",
    "nombre_sain          3088\n",
    "nombre_exposed        248\n",
    "nombre_recovered    16283\n",
    "Name: 110, dtype: int64"
   ]
  },
  {
   "cell_type": "markdown",
   "id": "0534365d",
   "metadata": {},
   "source": [
    "nombre_infected       387\n",
    "nombre_sain          3070\n",
    "nombre_exposed        259\n",
    "nombre_recovered    16284\n",
    "Name: 111, dtype: int64"
   ]
  },
  {
   "cell_type": "markdown",
   "id": "e4d5b2e7",
   "metadata": {},
   "source": [
    "nombre_infected       408\n",
    "nombre_sain          3044\n",
    "nombre_exposed        264\n",
    "nombre_recovered    16284\n",
    "Name: 112, dtype: int64"
   ]
  },
  {
   "cell_type": "markdown",
   "id": "59f2c19a",
   "metadata": {},
   "source": [
    "nombre_infected       434\n",
    "nombre_sain          3004\n",
    "nombre_exposed        277\n",
    "nombre_recovered    16285\n",
    "Name: 113, dtype: int64"
   ]
  },
  {
   "cell_type": "markdown",
   "id": "3b06ef7d",
   "metadata": {},
   "source": [
    "nombre_infected       462\n",
    "nombre_sain          2954\n",
    "nombre_exposed        303\n",
    "nombre_recovered    16281\n",
    "Name: 114, dtype: int64"
   ]
  },
  {
   "cell_type": "markdown",
   "id": "1774b5ec",
   "metadata": {},
   "source": [
    "nombre_infected       480\n",
    "nombre_sain          2928\n",
    "nombre_exposed        298\n",
    "nombre_recovered    16294\n",
    "Name: 115, dtype: int64"
   ]
  },
  {
   "cell_type": "markdown",
   "id": "d160a9ee",
   "metadata": {},
   "source": [
    "nombre_infected       512\n",
    "nombre_sain          2896\n",
    "nombre_exposed        306\n",
    "nombre_recovered    16286\n",
    "Name: 116, dtype: int64"
   ]
  },
  {
   "cell_type": "markdown",
   "id": "fd3639af",
   "metadata": {},
   "source": [
    "nombre_infected       545\n",
    "nombre_sain          2845\n",
    "nombre_exposed        324\n",
    "nombre_recovered    16286\n",
    "Name: 117, dtype: int64"
   ]
  },
  {
   "cell_type": "markdown",
   "id": "b0ff45cc",
   "metadata": {},
   "source": [
    "nombre_infected       549\n",
    "nombre_sain          2796\n",
    "nombre_exposed        346\n",
    "nombre_recovered    16309\n",
    "Name: 118, dtype: int64"
   ]
  },
  {
   "cell_type": "markdown",
   "id": "8bb26219",
   "metadata": {},
   "source": [
    "nombre_infected       573\n",
    "nombre_sain          2736\n",
    "nombre_exposed        368\n",
    "nombre_recovered    16323\n",
    "Name: 119, dtype: int64"
   ]
  },
  {
   "cell_type": "markdown",
   "id": "d68e30a5",
   "metadata": {},
   "source": [
    "nombre_infected       596\n",
    "nombre_sain          2693\n",
    "nombre_exposed        362\n",
    "nombre_recovered    16349\n",
    "Name: 120, dtype: int64"
   ]
  },
  {
   "cell_type": "markdown",
   "id": "b8a39161",
   "metadata": {},
   "source": [
    "nombre_infected       631\n",
    "nombre_sain          2639\n",
    "nombre_exposed        365\n",
    "nombre_recovered    16365\n",
    "Name: 121, dtype: int64"
   ]
  },
  {
   "cell_type": "markdown",
   "id": "d882787a",
   "metadata": {},
   "source": [
    "nombre_infected       653\n",
    "nombre_sain          2571\n",
    "nombre_exposed        399\n",
    "nombre_recovered    16377\n",
    "Name: 122, dtype: int64"
   ]
  },
  {
   "cell_type": "markdown",
   "id": "261257c1",
   "metadata": {},
   "source": [
    "nombre_infected       681\n",
    "nombre_sain          2516\n",
    "nombre_exposed        412\n",
    "nombre_recovered    16391\n",
    "Name: 123, dtype: int64"
   ]
  },
  {
   "cell_type": "markdown",
   "id": "46054190",
   "metadata": {},
   "source": [
    "nombre_infected       705\n",
    "nombre_sain          2454\n",
    "nombre_exposed        406\n",
    "nombre_recovered    16435\n",
    "Name: 124, dtype: int64"
   ]
  },
  {
   "cell_type": "markdown",
   "id": "08605fdc",
   "metadata": {},
   "source": [
    "nombre_infected       730\n",
    "nombre_sain          2406\n",
    "nombre_exposed        397\n",
    "nombre_recovered    16467\n",
    "Name: 125, dtype: int64"
   ]
  },
  {
   "cell_type": "markdown",
   "id": "a67c43ed",
   "metadata": {},
   "source": [
    "nombre_infected       743\n",
    "nombre_sain          2347\n",
    "nombre_exposed        412\n",
    "nombre_recovered    16498\n",
    "Name: 126, dtype: int64"
   ]
  },
  {
   "cell_type": "markdown",
   "id": "04099c32",
   "metadata": {},
   "source": [
    "nombre_infected       740\n",
    "nombre_sain          2309\n",
    "nombre_exposed        416\n",
    "nombre_recovered    16535\n",
    "Name: 127, dtype: int64"
   ]
  },
  {
   "cell_type": "markdown",
   "id": "a8c4c73d",
   "metadata": {},
   "source": [
    "nombre_infected       755\n",
    "nombre_sain          2251\n",
    "nombre_exposed        430\n",
    "nombre_recovered    16564\n",
    "Name: 128, dtype: int64"
   ]
  },
  {
   "cell_type": "markdown",
   "id": "2c0fcd21",
   "metadata": {},
   "source": [
    "nombre_infected       777\n",
    "nombre_sain          2201\n",
    "nombre_exposed        431\n",
    "nombre_recovered    16591\n",
    "Name: 129, dtype: int64"
   ]
  },
  {
   "cell_type": "markdown",
   "id": "94c85976",
   "metadata": {},
   "source": [
    "nombre_infected       808\n",
    "nombre_sain          2155\n",
    "nombre_exposed        404\n",
    "nombre_recovered    16633\n",
    "Name: 130, dtype: int64"
   ]
  },
  {
   "cell_type": "markdown",
   "id": "a4a37dbd",
   "metadata": {},
   "source": [
    "nombre_infected       823\n",
    "nombre_sain          2127\n",
    "nombre_exposed        396\n",
    "nombre_recovered    16654\n",
    "Name: 131, dtype: int64"
   ]
  },
  {
   "cell_type": "markdown",
   "id": "068e4c2b",
   "metadata": {},
   "source": [
    "nombre_infected       812\n",
    "nombre_sain          2101\n",
    "nombre_exposed        396\n",
    "nombre_recovered    16691\n",
    "Name: 132, dtype: int64"
   ]
  },
  {
   "cell_type": "markdown",
   "id": "51baef83",
   "metadata": {},
   "source": [
    "nombre_infected       806\n",
    "nombre_sain          2059\n",
    "nombre_exposed        411\n",
    "nombre_recovered    16724\n",
    "Name: 133, dtype: int64"
   ]
  },
  {
   "cell_type": "markdown",
   "id": "432a6a30",
   "metadata": {},
   "source": [
    "nombre_infected       801\n",
    "nombre_sain          2031\n",
    "nombre_exposed        420\n",
    "nombre_recovered    16748\n",
    "Name: 134, dtype: int64"
   ]
  },
  {
   "cell_type": "markdown",
   "id": "7e4e2107",
   "metadata": {},
   "source": [
    "nombre_infected       816\n",
    "nombre_sain          2005\n",
    "nombre_exposed        405\n",
    "nombre_recovered    16774\n",
    "Name: 135, dtype: int64"
   ]
  },
  {
   "cell_type": "markdown",
   "id": "c5b84d6b",
   "metadata": {},
   "source": [
    "nombre_infected       831\n",
    "nombre_sain          1978\n",
    "nombre_exposed        387\n",
    "nombre_recovered    16804\n",
    "Name: 136, dtype: int64"
   ]
  },
  {
   "cell_type": "markdown",
   "id": "ee7ee83c",
   "metadata": {},
   "source": [
    "nombre_infected       825\n",
    "nombre_sain          1957\n",
    "nombre_exposed        380\n",
    "nombre_recovered    16838\n",
    "Name: 137, dtype: int64"
   ]
  },
  {
   "cell_type": "markdown",
   "id": "f22dd0ba",
   "metadata": {},
   "source": [
    "nombre_infected       791\n",
    "nombre_sain          1950\n",
    "nombre_exposed        380\n",
    "nombre_recovered    16879\n",
    "Name: 138, dtype: int64"
   ]
  },
  {
   "cell_type": "markdown",
   "id": "f98b8c58",
   "metadata": {},
   "source": [
    "nombre_infected       799\n",
    "nombre_sain          1917\n",
    "nombre_exposed        383\n",
    "nombre_recovered    16901\n",
    "Name: 139, dtype: int64"
   ]
  },
  {
   "cell_type": "markdown",
   "id": "6b6bfd3f",
   "metadata": {},
   "source": [
    "nombre_infected       804\n",
    "nombre_sain          1902\n",
    "nombre_exposed        366\n",
    "nombre_recovered    16928\n",
    "Name: 140, dtype: int64"
   ]
  },
  {
   "cell_type": "markdown",
   "id": "c4d39db8",
   "metadata": {},
   "source": [
    "nombre_infected       791\n",
    "nombre_sain          1897\n",
    "nombre_exposed        358\n",
    "nombre_recovered    16954\n",
    "Name: 141, dtype: int64"
   ]
  },
  {
   "cell_type": "markdown",
   "id": "1d8d3e50",
   "metadata": {},
   "source": [
    "nombre_infected       771\n",
    "nombre_sain          1874\n",
    "nombre_exposed        382\n",
    "nombre_recovered    16973\n",
    "Name: 142, dtype: int64"
   ]
  },
  {
   "cell_type": "markdown",
   "id": "c1bf9e37",
   "metadata": {},
   "source": [
    "nombre_infected       762\n",
    "nombre_sain          1861\n",
    "nombre_exposed        379\n",
    "nombre_recovered    16998\n",
    "Name: 143, dtype: int64"
   ]
  },
  {
   "cell_type": "markdown",
   "id": "1cefff39",
   "metadata": {},
   "source": [
    "nombre_infected       752\n",
    "nombre_sain          1853\n",
    "nombre_exposed        375\n",
    "nombre_recovered    17020\n",
    "Name: 144, dtype: int64"
   ]
  },
  {
   "cell_type": "markdown",
   "id": "b20715c4",
   "metadata": {},
   "source": [
    "nombre_infected       776\n",
    "nombre_sain          1850\n",
    "nombre_exposed        362\n",
    "nombre_recovered    17012\n",
    "Name: 145, dtype: int64"
   ]
  },
  {
   "cell_type": "markdown",
   "id": "6640a5fd",
   "metadata": {},
   "source": [
    "nombre_infected       770\n",
    "nombre_sain          1856\n",
    "nombre_exposed        341\n",
    "nombre_recovered    17033\n",
    "Name: 146, dtype: int64"
   ]
  },
  {
   "cell_type": "markdown",
   "id": "87853d7a",
   "metadata": {},
   "source": [
    "nombre_infected       742\n",
    "nombre_sain          1867\n",
    "nombre_exposed        341\n",
    "nombre_recovered    17050\n",
    "Name: 147, dtype: int64"
   ]
  },
  {
   "cell_type": "markdown",
   "id": "fc598419",
   "metadata": {},
   "source": [
    "nombre_infected       720\n",
    "nombre_sain          1871\n",
    "nombre_exposed        342\n",
    "nombre_recovered    17067\n",
    "Name: 148, dtype: int64"
   ]
  },
  {
   "cell_type": "markdown",
   "id": "a68f34a2",
   "metadata": {},
   "source": [
    "nombre_infected       716\n",
    "nombre_sain          1863\n",
    "nombre_exposed        357\n",
    "nombre_recovered    17064\n",
    "Name: 149, dtype: int64"
   ]
  },
  {
   "cell_type": "markdown",
   "id": "81fb49b2",
   "metadata": {},
   "source": [
    "nombre_infected       720\n",
    "nombre_sain          1885\n",
    "nombre_exposed        347\n",
    "nombre_recovered    17048\n",
    "Name: 150, dtype: int64"
   ]
  },
  {
   "cell_type": "markdown",
   "id": "131ae824",
   "metadata": {},
   "source": [
    "nombre_infected       736\n",
    "nombre_sain          1899\n",
    "nombre_exposed        342\n",
    "nombre_recovered    17023\n",
    "Name: 151, dtype: int64"
   ]
  },
  {
   "cell_type": "markdown",
   "id": "5a4e4cfe",
   "metadata": {},
   "source": [
    "nombre_infected       701\n",
    "nombre_sain          1943\n",
    "nombre_exposed        343\n",
    "nombre_recovered    17013\n",
    "Name: 152, dtype: int64"
   ]
  },
  {
   "cell_type": "markdown",
   "id": "294caa37",
   "metadata": {},
   "source": [
    "nombre_infected       699\n",
    "nombre_sain          1964\n",
    "nombre_exposed        329\n",
    "nombre_recovered    17008\n",
    "Name: 153, dtype: int64"
   ]
  },
  {
   "cell_type": "markdown",
   "id": "000c6df5",
   "metadata": {},
   "source": [
    "nombre_infected       687\n",
    "nombre_sain          1983\n",
    "nombre_exposed        336\n",
    "nombre_recovered    16994\n",
    "Name: 154, dtype: int64"
   ]
  },
  {
   "cell_type": "markdown",
   "id": "93bf6807",
   "metadata": {},
   "source": [
    "nombre_infected       679\n",
    "nombre_sain          2015\n",
    "nombre_exposed        335\n",
    "nombre_recovered    16971\n",
    "Name: 155, dtype: int64"
   ]
  },
  {
   "cell_type": "markdown",
   "id": "834f804f",
   "metadata": {},
   "source": [
    "nombre_infected       654\n",
    "nombre_sain          2048\n",
    "nombre_exposed        347\n",
    "nombre_recovered    16951\n",
    "Name: 156, dtype: int64"
   ]
  },
  {
   "cell_type": "markdown",
   "id": "d4907b0c",
   "metadata": {},
   "source": [
    "nombre_infected       660\n",
    "nombre_sain          2066\n",
    "nombre_exposed        354\n",
    "nombre_recovered    16920\n",
    "Name: 157, dtype: int64"
   ]
  },
  {
   "cell_type": "markdown",
   "id": "0d010095",
   "metadata": {},
   "source": [
    "nombre_infected       657\n",
    "nombre_sain          2078\n",
    "nombre_exposed        370\n",
    "nombre_recovered    16895\n",
    "Name: 158, dtype: int64"
   ]
  },
  {
   "cell_type": "markdown",
   "id": "4ac87e32",
   "metadata": {},
   "source": [
    "nombre_infected       649\n",
    "nombre_sain          2111\n",
    "nombre_exposed        364\n",
    "nombre_recovered    16876\n",
    "Name: 159, dtype: int64"
   ]
  },
  {
   "cell_type": "markdown",
   "id": "4a7b5a54",
   "metadata": {},
   "source": [
    "nombre_infected       645\n",
    "nombre_sain          2120\n",
    "nombre_exposed        357\n",
    "nombre_recovered    16878\n",
    "Name: 160, dtype: int64"
   ]
  },
  {
   "cell_type": "markdown",
   "id": "0c5b0145",
   "metadata": {},
   "source": [
    "nombre_infected       647\n",
    "nombre_sain          2142\n",
    "nombre_exposed        353\n",
    "nombre_recovered    16858\n",
    "Name: 161, dtype: int64"
   ]
  },
  {
   "cell_type": "markdown",
   "id": "57c4864f",
   "metadata": {},
   "source": [
    "nombre_infected       650\n",
    "nombre_sain          2162\n",
    "nombre_exposed        316\n",
    "nombre_recovered    16872\n",
    "Name: 162, dtype: int64"
   ]
  },
  {
   "cell_type": "markdown",
   "id": "9b522a7e",
   "metadata": {},
   "source": [
    "nombre_infected       661\n",
    "nombre_sain          2181\n",
    "nombre_exposed        297\n",
    "nombre_recovered    16861\n",
    "Name: 163, dtype: int64"
   ]
  },
  {
   "cell_type": "markdown",
   "id": "6bff56c9",
   "metadata": {},
   "source": [
    "nombre_infected       652\n",
    "nombre_sain          2171\n",
    "nombre_exposed        315\n",
    "nombre_recovered    16862\n",
    "Name: 164, dtype: int64"
   ]
  },
  {
   "cell_type": "markdown",
   "id": "dfec294a",
   "metadata": {},
   "source": [
    "nombre_infected       630\n",
    "nombre_sain          2169\n",
    "nombre_exposed        337\n",
    "nombre_recovered    16864\n",
    "Name: 165, dtype: int64"
   ]
  },
  {
   "cell_type": "markdown",
   "id": "6690a4ef",
   "metadata": {},
   "source": [
    "nombre_infected       629\n",
    "nombre_sain          2176\n",
    "nombre_exposed        330\n",
    "nombre_recovered    16865\n",
    "Name: 166, dtype: int64"
   ]
  },
  {
   "cell_type": "markdown",
   "id": "8c4bf7dc",
   "metadata": {},
   "source": [
    "nombre_infected       618\n",
    "nombre_sain          2165\n",
    "nombre_exposed        343\n",
    "nombre_recovered    16874\n",
    "Name: 167, dtype: int64"
   ]
  },
  {
   "cell_type": "markdown",
   "id": "27cd07d5",
   "metadata": {},
   "source": [
    "nombre_infected       606\n",
    "nombre_sain          2172\n",
    "nombre_exposed        340\n",
    "nombre_recovered    16882\n",
    "Name: 168, dtype: int64"
   ]
  },
  {
   "cell_type": "markdown",
   "id": "38b86941",
   "metadata": {},
   "source": [
    "nombre_infected       609\n",
    "nombre_sain          2181\n",
    "nombre_exposed        323\n",
    "nombre_recovered    16887\n",
    "Name: 169, dtype: int64"
   ]
  },
  {
   "cell_type": "markdown",
   "id": "a54a808e",
   "metadata": {},
   "source": [
    "nombre_infected       605\n",
    "nombre_sain          2178\n",
    "nombre_exposed        324\n",
    "nombre_recovered    16893\n",
    "Name: 170, dtype: int64"
   ]
  },
  {
   "cell_type": "markdown",
   "id": "af2a46ad",
   "metadata": {},
   "source": [
    "nombre_infected       600\n",
    "nombre_sain          2183\n",
    "nombre_exposed        325\n",
    "nombre_recovered    16892\n",
    "Name: 171, dtype: int64"
   ]
  },
  {
   "cell_type": "markdown",
   "id": "c5cbdf6f",
   "metadata": {},
   "source": [
    "nombre_infected       606\n",
    "nombre_sain          2191\n",
    "nombre_exposed        319\n",
    "nombre_recovered    16884\n",
    "Name: 172, dtype: int64"
   ]
  },
  {
   "cell_type": "markdown",
   "id": "b1e20853",
   "metadata": {},
   "source": [
    "nombre_infected       602\n",
    "nombre_sain          2210\n",
    "nombre_exposed        317\n",
    "nombre_recovered    16871\n",
    "Name: 173, dtype: int64"
   ]
  },
  {
   "cell_type": "markdown",
   "id": "68b6550c",
   "metadata": {},
   "source": [
    "nombre_infected       598\n",
    "nombre_sain          2219\n",
    "nombre_exposed        320\n",
    "nombre_recovered    16863\n",
    "Name: 174, dtype: int64"
   ]
  },
  {
   "cell_type": "markdown",
   "id": "0f8c2da4",
   "metadata": {},
   "source": [
    "nombre_infected       608\n",
    "nombre_sain          2245\n",
    "nombre_exposed        314\n",
    "nombre_recovered    16833\n",
    "Name: 175, dtype: int64"
   ]
  },
  {
   "cell_type": "markdown",
   "id": "a71b00b8",
   "metadata": {},
   "source": [
    "nombre_infected       610\n",
    "nombre_sain          2272\n",
    "nombre_exposed        338\n",
    "nombre_recovered    16780\n",
    "Name: 176, dtype: int64"
   ]
  },
  {
   "cell_type": "markdown",
   "id": "2ca17977",
   "metadata": {},
   "source": [
    "nombre_infected       614\n",
    "nombre_sain          2306\n",
    "nombre_exposed        317\n",
    "nombre_recovered    16763\n",
    "Name: 177, dtype: int64"
   ]
  },
  {
   "cell_type": "markdown",
   "id": "ae7c0e64",
   "metadata": {},
   "source": [
    "nombre_infected       624\n",
    "nombre_sain          2335\n",
    "nombre_exposed        306\n",
    "nombre_recovered    16735\n",
    "Name: 178, dtype: int64"
   ]
  },
  {
   "cell_type": "markdown",
   "id": "27ec162e",
   "metadata": {},
   "source": [
    "nombre_infected       603\n",
    "nombre_sain          2336\n",
    "nombre_exposed        333\n",
    "nombre_recovered    16728\n",
    "Name: 179, dtype: int64"
   ]
  },
  {
   "cell_type": "markdown",
   "id": "7f07d334",
   "metadata": {},
   "source": [
    "nombre_infected       605\n",
    "nombre_sain          2379\n",
    "nombre_exposed        331\n",
    "nombre_recovered    16685\n",
    "Name: 180, dtype: int64"
   ]
  },
  {
   "cell_type": "markdown",
   "id": "47649850",
   "metadata": {},
   "source": [
    "nombre_infected       609\n",
    "nombre_sain          2394\n",
    "nombre_exposed        328\n",
    "nombre_recovered    16669\n",
    "Name: 181, dtype: int64"
   ]
  },
  {
   "cell_type": "markdown",
   "id": "78a9974d",
   "metadata": {},
   "source": [
    "nombre_infected       607\n",
    "nombre_sain          2402\n",
    "nombre_exposed        361\n",
    "nombre_recovered    16630\n",
    "Name: 182, dtype: int64"
   ]
  },
  {
   "cell_type": "markdown",
   "id": "f3c763e9",
   "metadata": {},
   "source": [
    "nombre_infected       593\n",
    "nombre_sain          2409\n",
    "nombre_exposed        382\n",
    "nombre_recovered    16616\n",
    "Name: 183, dtype: int64"
   ]
  },
  {
   "cell_type": "markdown",
   "id": "bd7fdcf9",
   "metadata": {},
   "source": [
    "nombre_infected       602\n",
    "nombre_sain          2444\n",
    "nombre_exposed        366\n",
    "nombre_recovered    16588\n",
    "Name: 184, dtype: int64"
   ]
  },
  {
   "cell_type": "markdown",
   "id": "38cda10a",
   "metadata": {},
   "source": [
    "nombre_infected       622\n",
    "nombre_sain          2453\n",
    "nombre_exposed        353\n",
    "nombre_recovered    16572\n",
    "Name: 185, dtype: int64"
   ]
  },
  {
   "cell_type": "markdown",
   "id": "68ccdf16",
   "metadata": {},
   "source": [
    "nombre_infected       615\n",
    "nombre_sain          2454\n",
    "nombre_exposed        373\n",
    "nombre_recovered    16558\n",
    "Name: 186, dtype: int64"
   ]
  },
  {
   "cell_type": "markdown",
   "id": "523cd160",
   "metadata": {},
   "source": [
    "nombre_infected       629\n",
    "nombre_sain          2460\n",
    "nombre_exposed        388\n",
    "nombre_recovered    16523\n",
    "Name: 187, dtype: int64"
   ]
  },
  {
   "cell_type": "markdown",
   "id": "72645885",
   "metadata": {},
   "source": [
    "nombre_infected       646\n",
    "nombre_sain          2448\n",
    "nombre_exposed        385\n",
    "nombre_recovered    16521\n",
    "Name: 188, dtype: int64"
   ]
  },
  {
   "cell_type": "markdown",
   "id": "be8745d5",
   "metadata": {},
   "source": [
    "nombre_infected       649\n",
    "nombre_sain          2492\n",
    "nombre_exposed        374\n",
    "nombre_recovered    16485\n",
    "Name: 189, dtype: int64"
   ]
  },
  {
   "cell_type": "markdown",
   "id": "b1077a11",
   "metadata": {},
   "source": [
    "nombre_infected       668\n",
    "nombre_sain          2490\n",
    "nombre_exposed        393\n",
    "nombre_recovered    16449\n",
    "Name: 190, dtype: int64"
   ]
  },
  {
   "cell_type": "markdown",
   "id": "3ec09d40",
   "metadata": {},
   "source": [
    "nombre_infected       686\n",
    "nombre_sain          2508\n",
    "nombre_exposed        406\n",
    "nombre_recovered    16400\n",
    "Name: 191, dtype: int64"
   ]
  },
  {
   "cell_type": "markdown",
   "id": "e65d541e",
   "metadata": {},
   "source": [
    "nombre_infected       687\n",
    "nombre_sain          2518\n",
    "nombre_exposed        410\n",
    "nombre_recovered    16385\n",
    "Name: 192, dtype: int64"
   ]
  },
  {
   "cell_type": "markdown",
   "id": "fdc83bd0",
   "metadata": {},
   "source": [
    "nombre_infected       710\n",
    "nombre_sain          2499\n",
    "nombre_exposed        405\n",
    "nombre_recovered    16386\n",
    "Name: 193, dtype: int64"
   ]
  },
  {
   "cell_type": "markdown",
   "id": "de4a7be6",
   "metadata": {},
   "source": [
    "nombre_infected       731\n",
    "nombre_sain          2495\n",
    "nombre_exposed        410\n",
    "nombre_recovered    16364\n",
    "Name: 194, dtype: int64"
   ]
  },
  {
   "cell_type": "markdown",
   "id": "195bbb89",
   "metadata": {},
   "source": [
    "nombre_infected       734\n",
    "nombre_sain          2465\n",
    "nombre_exposed        437\n",
    "nombre_recovered    16364\n",
    "Name: 195, dtype: int64"
   ]
  },
  {
   "cell_type": "markdown",
   "id": "bf9952bb",
   "metadata": {},
   "source": [
    "nombre_infected       746\n",
    "nombre_sain          2441\n",
    "nombre_exposed        462\n",
    "nombre_recovered    16351\n",
    "Name: 196, dtype: int64"
   ]
  },
  {
   "cell_type": "markdown",
   "id": "4d553127",
   "metadata": {},
   "source": [
    "nombre_infected       758\n",
    "nombre_sain          2422\n",
    "nombre_exposed        477\n",
    "nombre_recovered    16343\n",
    "Name: 197, dtype: int64"
   ]
  },
  {
   "cell_type": "markdown",
   "id": "5f784167",
   "metadata": {},
   "source": [
    "nombre_infected       790\n",
    "nombre_sain          2400\n",
    "nombre_exposed        476\n",
    "nombre_recovered    16334\n",
    "Name: 198, dtype: int64"
   ]
  },
  {
   "cell_type": "markdown",
   "id": "2a5d84d3",
   "metadata": {},
   "source": [
    "nombre_infected       779\n",
    "nombre_sain          2389\n",
    "nombre_exposed        499\n",
    "nombre_recovered    16333\n",
    "Name: 199, dtype: int64"
   ]
  },
  {
   "cell_type": "markdown",
   "id": "2ee5fad9",
   "metadata": {},
   "source": [
    "nombre_infected       797\n",
    "nombre_sain          2404\n",
    "nombre_exposed        471\n",
    "nombre_recovered    16328\n",
    "Name: 200, dtype: int64"
   ]
  },
  {
   "cell_type": "markdown",
   "id": "4281ff31",
   "metadata": {},
   "source": [
    "nombre_infected       829\n",
    "nombre_sain          2381\n",
    "nombre_exposed        464\n",
    "nombre_recovered    16326\n",
    "Name: 201, dtype: int64"
   ]
  },
  {
   "cell_type": "markdown",
   "id": "758ec6ba",
   "metadata": {},
   "source": [
    "nombre_infected       856\n",
    "nombre_sain          2365\n",
    "nombre_exposed        451\n",
    "nombre_recovered    16328\n",
    "Name: 202, dtype: int64"
   ]
  },
  {
   "cell_type": "markdown",
   "id": "1753c5a0",
   "metadata": {},
   "source": [
    "nombre_infected       868\n",
    "nombre_sain          2344\n",
    "nombre_exposed        450\n",
    "nombre_recovered    16338\n",
    "Name: 203, dtype: int64"
   ]
  },
  {
   "cell_type": "markdown",
   "id": "3b22005e",
   "metadata": {},
   "source": [
    "nombre_infected       882\n",
    "nombre_sain          2337\n",
    "nombre_exposed        455\n",
    "nombre_recovered    16326\n",
    "Name: 204, dtype: int64"
   ]
  },
  {
   "cell_type": "markdown",
   "id": "22ee3613",
   "metadata": {},
   "source": [
    "nombre_infected       895\n",
    "nombre_sain          2284\n",
    "nombre_exposed        474\n",
    "nombre_recovered    16347\n",
    "Name: 205, dtype: int64"
   ]
  },
  {
   "cell_type": "markdown",
   "id": "00a3034d",
   "metadata": {},
   "source": [
    "nombre_infected       877\n",
    "nombre_sain          2258\n",
    "nombre_exposed        492\n",
    "nombre_recovered    16373\n",
    "Name: 206, dtype: int64"
   ]
  },
  {
   "cell_type": "markdown",
   "id": "b5d72fa1",
   "metadata": {},
   "source": [
    "nombre_infected       900\n",
    "nombre_sain          2192\n",
    "nombre_exposed        517\n",
    "nombre_recovered    16391\n",
    "Name: 207, dtype: int64"
   ]
  },
  {
   "cell_type": "markdown",
   "id": "faf83d95",
   "metadata": {},
   "source": [
    "nombre_infected       934\n",
    "nombre_sain          2169\n",
    "nombre_exposed        493\n",
    "nombre_recovered    16404\n",
    "Name: 208, dtype: int64"
   ]
  },
  {
   "cell_type": "markdown",
   "id": "fe0e516f",
   "metadata": {},
   "source": [
    "nombre_infected       949\n",
    "nombre_sain          2162\n",
    "nombre_exposed        478\n",
    "nombre_recovered    16411\n",
    "Name: 209, dtype: int64"
   ]
  },
  {
   "cell_type": "markdown",
   "id": "d18418bb",
   "metadata": {},
   "source": [
    "nombre_infected       959\n",
    "nombre_sain          2145\n",
    "nombre_exposed        490\n",
    "nombre_recovered    16406\n",
    "Name: 210, dtype: int64"
   ]
  },
  {
   "cell_type": "markdown",
   "id": "2ac11932",
   "metadata": {},
   "source": [
    "nombre_infected       950\n",
    "nombre_sain          2119\n",
    "nombre_exposed        517\n",
    "nombre_recovered    16414\n",
    "Name: 211, dtype: int64"
   ]
  },
  {
   "cell_type": "markdown",
   "id": "3c3df9a9",
   "metadata": {},
   "source": [
    "nombre_infected       962\n",
    "nombre_sain          2124\n",
    "nombre_exposed        520\n",
    "nombre_recovered    16394\n",
    "Name: 212, dtype: int64"
   ]
  },
  {
   "cell_type": "markdown",
   "id": "603732ca",
   "metadata": {},
   "source": [
    "nombre_infected       979\n",
    "nombre_sain          2088\n",
    "nombre_exposed        544\n",
    "nombre_recovered    16389\n",
    "Name: 213, dtype: int64"
   ]
  },
  {
   "cell_type": "markdown",
   "id": "279420a4",
   "metadata": {},
   "source": [
    "nombre_infected       981\n",
    "nombre_sain          2064\n",
    "nombre_exposed        535\n",
    "nombre_recovered    16420\n",
    "Name: 214, dtype: int64"
   ]
  },
  {
   "cell_type": "markdown",
   "id": "73032e0a",
   "metadata": {},
   "source": [
    "nombre_infected       990\n",
    "nombre_sain          2079\n",
    "nombre_exposed        532\n",
    "nombre_recovered    16399\n",
    "Name: 215, dtype: int64"
   ]
  },
  {
   "cell_type": "markdown",
   "id": "0a630fc4",
   "metadata": {},
   "source": [
    "nombre_infected      1005\n",
    "nombre_sain          2091\n",
    "nombre_exposed        530\n",
    "nombre_recovered    16374\n",
    "Name: 216, dtype: int64"
   ]
  },
  {
   "cell_type": "markdown",
   "id": "77ba5391",
   "metadata": {},
   "source": [
    "nombre_infected      1017\n",
    "nombre_sain          2066\n",
    "nombre_exposed        511\n",
    "nombre_recovered    16406\n",
    "Name: 217, dtype: int64"
   ]
  },
  {
   "cell_type": "markdown",
   "id": "e606631c",
   "metadata": {},
   "source": [
    "nombre_infected      1013\n",
    "nombre_sain          2046\n",
    "nombre_exposed        515\n",
    "nombre_recovered    16426\n",
    "Name: 218, dtype: int64"
   ]
  },
  {
   "cell_type": "markdown",
   "id": "98a4a25e",
   "metadata": {},
   "source": [
    "nombre_infected       996\n",
    "nombre_sain          2031\n",
    "nombre_exposed        527\n",
    "nombre_recovered    16446\n",
    "Name: 219, dtype: int64"
   ]
  },
  {
   "cell_type": "markdown",
   "id": "6dd62441",
   "metadata": {},
   "source": [
    "nombre_infected      1006\n",
    "nombre_sain          2012\n",
    "nombre_exposed        534\n",
    "nombre_recovered    16448\n",
    "Name: 220, dtype: int64"
   ]
  },
  {
   "cell_type": "markdown",
   "id": "6c8acfa7",
   "metadata": {},
   "source": [
    "nombre_infected      1017\n",
    "nombre_sain          1977\n",
    "nombre_exposed        543\n",
    "nombre_recovered    16463\n",
    "Name: 221, dtype: int64"
   ]
  },
  {
   "cell_type": "markdown",
   "id": "46e8e144",
   "metadata": {},
   "source": [
    "nombre_infected      1026\n",
    "nombre_sain          1970\n",
    "nombre_exposed        516\n",
    "nombre_recovered    16488\n",
    "Name: 222, dtype: int64"
   ]
  },
  {
   "cell_type": "markdown",
   "id": "666875da",
   "metadata": {},
   "source": [
    "nombre_infected      1030\n",
    "nombre_sain          1936\n",
    "nombre_exposed        503\n",
    "nombre_recovered    16531\n",
    "Name: 223, dtype: int64"
   ]
  },
  {
   "cell_type": "markdown",
   "id": "35c73416",
   "metadata": {},
   "source": [
    "nombre_infected      1003\n",
    "nombre_sain          1911\n",
    "nombre_exposed        527\n",
    "nombre_recovered    16559\n",
    "Name: 224, dtype: int64"
   ]
  },
  {
   "cell_type": "markdown",
   "id": "4b9632b9",
   "metadata": {},
   "source": [
    "nombre_infected      1001\n",
    "nombre_sain          1908\n",
    "nombre_exposed        498\n",
    "nombre_recovered    16593\n",
    "Name: 225, dtype: int64"
   ]
  },
  {
   "cell_type": "markdown",
   "id": "de1b1f08",
   "metadata": {},
   "source": [
    "nombre_infected       989\n",
    "nombre_sain          1903\n",
    "nombre_exposed        486\n",
    "nombre_recovered    16622\n",
    "Name: 226, dtype: int64"
   ]
  },
  {
   "cell_type": "markdown",
   "id": "f8645d8e",
   "metadata": {},
   "source": [
    "nombre_infected       993\n",
    "nombre_sain          1904\n",
    "nombre_exposed        486\n",
    "nombre_recovered    16617\n",
    "Name: 227, dtype: int64"
   ]
  },
  {
   "cell_type": "markdown",
   "id": "0bda4f41",
   "metadata": {},
   "source": [
    "nombre_infected      1003\n",
    "nombre_sain          1912\n",
    "nombre_exposed        484\n",
    "nombre_recovered    16601\n",
    "Name: 228, dtype: int64"
   ]
  },
  {
   "cell_type": "markdown",
   "id": "92a642f8",
   "metadata": {},
   "source": [
    "nombre_infected       973\n",
    "nombre_sain          1891\n",
    "nombre_exposed        505\n",
    "nombre_recovered    16631\n",
    "Name: 229, dtype: int64"
   ]
  },
  {
   "cell_type": "markdown",
   "id": "bc085d40",
   "metadata": {},
   "source": [
    "nombre_infected       998\n",
    "nombre_sain          1912\n",
    "nombre_exposed        485\n",
    "nombre_recovered    16605\n",
    "Name: 230, dtype: int64"
   ]
  },
  {
   "cell_type": "markdown",
   "id": "f669fc9f",
   "metadata": {},
   "source": [
    "nombre_infected       984\n",
    "nombre_sain          1928\n",
    "nombre_exposed        480\n",
    "nombre_recovered    16608\n",
    "Name: 231, dtype: int64"
   ]
  },
  {
   "cell_type": "markdown",
   "id": "564c9946",
   "metadata": {},
   "source": [
    "nombre_infected       988\n",
    "nombre_sain          1923\n",
    "nombre_exposed        481\n",
    "nombre_recovered    16608\n",
    "Name: 232, dtype: int64"
   ]
  },
  {
   "cell_type": "markdown",
   "id": "296cacd1",
   "metadata": {},
   "source": [
    "nombre_infected       983\n",
    "nombre_sain          1911\n",
    "nombre_exposed        481\n",
    "nombre_recovered    16625\n",
    "Name: 233, dtype: int64"
   ]
  },
  {
   "cell_type": "markdown",
   "id": "c9255d1a",
   "metadata": {},
   "source": [
    "nombre_infected      1004\n",
    "nombre_sain          1928\n",
    "nombre_exposed        464\n",
    "nombre_recovered    16604\n",
    "Name: 234, dtype: int64"
   ]
  },
  {
   "cell_type": "markdown",
   "id": "b4624acf",
   "metadata": {},
   "source": [
    "nombre_infected      1002\n",
    "nombre_sain          1923\n",
    "nombre_exposed        465\n",
    "nombre_recovered    16610\n",
    "Name: 235, dtype: int64"
   ]
  },
  {
   "cell_type": "markdown",
   "id": "cf036e3f",
   "metadata": {},
   "source": [
    "nombre_infected       985\n",
    "nombre_sain          1923\n",
    "nombre_exposed        463\n",
    "nombre_recovered    16629\n",
    "Name: 236, dtype: int64"
   ]
  },
  {
   "cell_type": "markdown",
   "id": "739c7f7b",
   "metadata": {},
   "source": [
    "nombre_infected       969\n",
    "nombre_sain          1927\n",
    "nombre_exposed        471\n",
    "nombre_recovered    16633\n",
    "Name: 237, dtype: int64"
   ]
  },
  {
   "cell_type": "markdown",
   "id": "e1ba176b",
   "metadata": {},
   "source": [
    "nombre_infected       973\n",
    "nombre_sain          1947\n",
    "nombre_exposed        479\n",
    "nombre_recovered    16601\n",
    "Name: 238, dtype: int64"
   ]
  },
  {
   "cell_type": "markdown",
   "id": "6b1171ad",
   "metadata": {},
   "source": [
    "nombre_infected       979\n",
    "nombre_sain          1958\n",
    "nombre_exposed        454\n",
    "nombre_recovered    16609\n",
    "Name: 239, dtype: int64"
   ]
  },
  {
   "cell_type": "markdown",
   "id": "5343a9b1",
   "metadata": {},
   "source": [
    "nombre_infected       985\n",
    "nombre_sain          1977\n",
    "nombre_exposed        439\n",
    "nombre_recovered    16599\n",
    "Name: 240, dtype: int64"
   ]
  },
  {
   "cell_type": "markdown",
   "id": "0e504da4",
   "metadata": {},
   "source": [
    "nombre_infected       970\n",
    "nombre_sain          1984\n",
    "nombre_exposed        441\n",
    "nombre_recovered    16605\n",
    "Name: 241, dtype: int64"
   ]
  },
  {
   "cell_type": "markdown",
   "id": "1b169b1e",
   "metadata": {},
   "source": [
    "nombre_infected       987\n",
    "nombre_sain          2000\n",
    "nombre_exposed        422\n",
    "nombre_recovered    16591\n",
    "Name: 242, dtype: int64"
   ]
  },
  {
   "cell_type": "markdown",
   "id": "29129f1c",
   "metadata": {},
   "source": [
    "nombre_infected       997\n",
    "nombre_sain          1987\n",
    "nombre_exposed        416\n",
    "nombre_recovered    16600\n",
    "Name: 243, dtype: int64"
   ]
  },
  {
   "cell_type": "markdown",
   "id": "bc2b7501",
   "metadata": {},
   "source": [
    "nombre_infected       976\n",
    "nombre_sain          1979\n",
    "nombre_exposed        413\n",
    "nombre_recovered    16632\n",
    "Name: 244, dtype: int64"
   ]
  },
  {
   "cell_type": "markdown",
   "id": "fecbd684",
   "metadata": {},
   "source": [
    "nombre_infected       956\n",
    "nombre_sain          1954\n",
    "nombre_exposed        433\n",
    "nombre_recovered    16657\n",
    "Name: 245, dtype: int64"
   ]
  },
  {
   "cell_type": "markdown",
   "id": "4567d78b",
   "metadata": {},
   "source": [
    "nombre_infected       950\n",
    "nombre_sain          1945\n",
    "nombre_exposed        437\n",
    "nombre_recovered    16668\n",
    "Name: 246, dtype: int64"
   ]
  },
  {
   "cell_type": "markdown",
   "id": "4f6618e3",
   "metadata": {},
   "source": [
    "nombre_infected       928\n",
    "nombre_sain          1955\n",
    "nombre_exposed        423\n",
    "nombre_recovered    16694\n",
    "Name: 247, dtype: int64"
   ]
  },
  {
   "cell_type": "markdown",
   "id": "fa269cac",
   "metadata": {},
   "source": [
    "nombre_infected       912\n",
    "nombre_sain          1955\n",
    "nombre_exposed        453\n",
    "nombre_recovered    16680\n",
    "Name: 248, dtype: int64"
   ]
  },
  {
   "cell_type": "markdown",
   "id": "944157c7",
   "metadata": {},
   "source": [
    "nombre_infected       886\n",
    "nombre_sain          1983\n",
    "nombre_exposed        445\n",
    "nombre_recovered    16686\n",
    "Name: 249, dtype: int64"
   ]
  },
  {
   "cell_type": "markdown",
   "id": "bd17d54b",
   "metadata": {},
   "source": [
    "nombre_infected       888\n",
    "nombre_sain          1963\n",
    "nombre_exposed        443\n",
    "nombre_recovered    16706\n",
    "Name: 250, dtype: int64"
   ]
  },
  {
   "cell_type": "markdown",
   "id": "47c3eb3e",
   "metadata": {},
   "source": [
    "nombre_infected       864\n",
    "nombre_sain          1968\n",
    "nombre_exposed        453\n",
    "nombre_recovered    16715\n",
    "Name: 251, dtype: int64"
   ]
  },
  {
   "cell_type": "markdown",
   "id": "2ac5ef1a",
   "metadata": {},
   "source": [
    "nombre_infected       867\n",
    "nombre_sain          1969\n",
    "nombre_exposed        444\n",
    "nombre_recovered    16720\n",
    "Name: 252, dtype: int64"
   ]
  },
  {
   "cell_type": "markdown",
   "id": "5f559f8f",
   "metadata": {},
   "source": [
    "nombre_infected       847\n",
    "nombre_sain          2008\n",
    "nombre_exposed        418\n",
    "nombre_recovered    16727\n",
    "Name: 253, dtype: int64"
   ]
  },
  {
   "cell_type": "markdown",
   "id": "f46ccbb8",
   "metadata": {},
   "source": [
    "nombre_infected       852\n",
    "nombre_sain          2029\n",
    "nombre_exposed        413\n",
    "nombre_recovered    16706\n",
    "Name: 254, dtype: int64"
   ]
  },
  {
   "cell_type": "markdown",
   "id": "51165d94",
   "metadata": {},
   "source": [
    "nombre_infected       848\n",
    "nombre_sain          2040\n",
    "nombre_exposed        411\n",
    "nombre_recovered    16701\n",
    "Name: 255, dtype: int64"
   ]
  },
  {
   "cell_type": "markdown",
   "id": "1ae2a9e0",
   "metadata": {},
   "source": [
    "nombre_infected       839\n",
    "nombre_sain          2042\n",
    "nombre_exposed        434\n",
    "nombre_recovered    16685\n",
    "Name: 256, dtype: int64"
   ]
  },
  {
   "cell_type": "markdown",
   "id": "d2a30c7e",
   "metadata": {},
   "source": [
    "nombre_infected       833\n",
    "nombre_sain          2057\n",
    "nombre_exposed        450\n",
    "nombre_recovered    16660\n",
    "Name: 257, dtype: int64"
   ]
  },
  {
   "cell_type": "markdown",
   "id": "097cbd3e",
   "metadata": {},
   "source": [
    "nombre_infected       838\n",
    "nombre_sain          2061\n",
    "nombre_exposed        444\n",
    "nombre_recovered    16657\n",
    "Name: 258, dtype: int64"
   ]
  },
  {
   "cell_type": "markdown",
   "id": "f9ce38d8",
   "metadata": {},
   "source": [
    "nombre_infected       836\n",
    "nombre_sain          2045\n",
    "nombre_exposed        463\n",
    "nombre_recovered    16656\n",
    "Name: 259, dtype: int64"
   ]
  },
  {
   "cell_type": "markdown",
   "id": "a3646380",
   "metadata": {},
   "source": [
    "nombre_infected       837\n",
    "nombre_sain          2055\n",
    "nombre_exposed        458\n",
    "nombre_recovered    16650\n",
    "Name: 260, dtype: int64"
   ]
  },
  {
   "cell_type": "markdown",
   "id": "8172457b",
   "metadata": {},
   "source": [
    "nombre_infected       828\n",
    "nombre_sain          2060\n",
    "nombre_exposed        459\n",
    "nombre_recovered    16653\n",
    "Name: 261, dtype: int64"
   ]
  },
  {
   "cell_type": "markdown",
   "id": "3f735d13",
   "metadata": {},
   "source": [
    "nombre_infected       835\n",
    "nombre_sain          2089\n",
    "nombre_exposed        448\n",
    "nombre_recovered    16628\n",
    "Name: 262, dtype: int64"
   ]
  },
  {
   "cell_type": "markdown",
   "id": "ee4486ff",
   "metadata": {},
   "source": [
    "nombre_infected       830\n",
    "nombre_sain          2091\n",
    "nombre_exposed        439\n",
    "nombre_recovered    16640\n",
    "Name: 263, dtype: int64"
   ]
  },
  {
   "cell_type": "markdown",
   "id": "8c688598",
   "metadata": {},
   "source": [
    "nombre_infected       854\n",
    "nombre_sain          2124\n",
    "nombre_exposed        416\n",
    "nombre_recovered    16606\n",
    "Name: 264, dtype: int64"
   ]
  },
  {
   "cell_type": "markdown",
   "id": "fc410e49",
   "metadata": {},
   "source": [
    "nombre_infected       839\n",
    "nombre_sain          2137\n",
    "nombre_exposed        429\n",
    "nombre_recovered    16595\n",
    "Name: 265, dtype: int64"
   ]
  },
  {
   "cell_type": "markdown",
   "id": "2138259f",
   "metadata": {},
   "source": [
    "nombre_infected       820\n",
    "nombre_sain          2178\n",
    "nombre_exposed        428\n",
    "nombre_recovered    16574\n",
    "Name: 266, dtype: int64"
   ]
  },
  {
   "cell_type": "markdown",
   "id": "f9e36f6d",
   "metadata": {},
   "source": [
    "nombre_infected       830\n",
    "nombre_sain          2176\n",
    "nombre_exposed        432\n",
    "nombre_recovered    16562\n",
    "Name: 267, dtype: int64"
   ]
  },
  {
   "cell_type": "markdown",
   "id": "c3fb2a84",
   "metadata": {},
   "source": [
    "nombre_infected       846\n",
    "nombre_sain          2197\n",
    "nombre_exposed        415\n",
    "nombre_recovered    16542\n",
    "Name: 268, dtype: int64"
   ]
  },
  {
   "cell_type": "markdown",
   "id": "c960a8c4",
   "metadata": {},
   "source": [
    "nombre_infected       849\n",
    "nombre_sain          2193\n",
    "nombre_exposed        404\n",
    "nombre_recovered    16554\n",
    "Name: 269, dtype: int64"
   ]
  },
  {
   "cell_type": "markdown",
   "id": "27255863",
   "metadata": {},
   "source": [
    "nombre_infected       856\n",
    "nombre_sain          2199\n",
    "nombre_exposed        414\n",
    "nombre_recovered    16531\n",
    "Name: 270, dtype: int64"
   ]
  },
  {
   "cell_type": "markdown",
   "id": "3623bbd3",
   "metadata": {},
   "source": [
    "nombre_infected       846\n",
    "nombre_sain          2172\n",
    "nombre_exposed        440\n",
    "nombre_recovered    16542\n",
    "Name: 271, dtype: int64"
   ]
  },
  {
   "cell_type": "markdown",
   "id": "d1040e99",
   "metadata": {},
   "source": [
    "nombre_infected       829\n",
    "nombre_sain          2176\n",
    "nombre_exposed        457\n",
    "nombre_recovered    16538\n",
    "Name: 272, dtype: int64"
   ]
  },
  {
   "cell_type": "markdown",
   "id": "87e2c2c3",
   "metadata": {},
   "source": [
    "nombre_infected       833\n",
    "nombre_sain          2194\n",
    "nombre_exposed        445\n",
    "nombre_recovered    16528\n",
    "Name: 273, dtype: int64"
   ]
  },
  {
   "cell_type": "markdown",
   "id": "ec3f870b",
   "metadata": {},
   "source": [
    "nombre_infected       855\n",
    "nombre_sain          2221\n",
    "nombre_exposed        429\n",
    "nombre_recovered    16495\n",
    "Name: 274, dtype: int64"
   ]
  },
  {
   "cell_type": "markdown",
   "id": "acd8424b",
   "metadata": {},
   "source": [
    "nombre_infected       865\n",
    "nombre_sain          2253\n",
    "nombre_exposed        432\n",
    "nombre_recovered    16450\n",
    "Name: 275, dtype: int64"
   ]
  },
  {
   "cell_type": "markdown",
   "id": "d57de5d3",
   "metadata": {},
   "source": [
    "nombre_infected       873\n",
    "nombre_sain          2272\n",
    "nombre_exposed        446\n",
    "nombre_recovered    16409\n",
    "Name: 276, dtype: int64"
   ]
  },
  {
   "cell_type": "markdown",
   "id": "b607f0a5",
   "metadata": {},
   "source": [
    "nombre_infected       876\n",
    "nombre_sain          2292\n",
    "nombre_exposed        443\n",
    "nombre_recovered    16389\n",
    "Name: 277, dtype: int64"
   ]
  },
  {
   "cell_type": "markdown",
   "id": "82419047",
   "metadata": {},
   "source": [
    "nombre_infected       870\n",
    "nombre_sain          2296\n",
    "nombre_exposed        446\n",
    "nombre_recovered    16388\n",
    "Name: 278, dtype: int64"
   ]
  },
  {
   "cell_type": "markdown",
   "id": "38123c9c",
   "metadata": {},
   "source": [
    "nombre_infected       879\n",
    "nombre_sain          2323\n",
    "nombre_exposed        460\n",
    "nombre_recovered    16338\n",
    "Name: 279, dtype: int64"
   ]
  },
  {
   "cell_type": "markdown",
   "id": "5ceef0a8",
   "metadata": {},
   "source": [
    "nombre_infected       886\n",
    "nombre_sain          2327\n",
    "nombre_exposed        475\n",
    "nombre_recovered    16312\n",
    "Name: 280, dtype: int64"
   ]
  },
  {
   "cell_type": "markdown",
   "id": "81670f01",
   "metadata": {},
   "source": [
    "nombre_infected       889\n",
    "nombre_sain          2333\n",
    "nombre_exposed        484\n",
    "nombre_recovered    16294\n",
    "Name: 281, dtype: int64"
   ]
  },
  {
   "cell_type": "markdown",
   "id": "6d72ab5c",
   "metadata": {},
   "source": [
    "nombre_infected       909\n",
    "nombre_sain          2313\n",
    "nombre_exposed        509\n",
    "nombre_recovered    16269\n",
    "Name: 282, dtype: int64"
   ]
  },
  {
   "cell_type": "markdown",
   "id": "8b28e9b8",
   "metadata": {},
   "source": [
    "nombre_infected       930\n",
    "nombre_sain          2318\n",
    "nombre_exposed        495\n",
    "nombre_recovered    16257\n",
    "Name: 283, dtype: int64"
   ]
  },
  {
   "cell_type": "markdown",
   "id": "f0257468",
   "metadata": {},
   "source": [
    "nombre_infected       932\n",
    "nombre_sain          2279\n",
    "nombre_exposed        509\n",
    "nombre_recovered    16280\n",
    "Name: 284, dtype: int64"
   ]
  },
  {
   "cell_type": "markdown",
   "id": "9a28db96",
   "metadata": {},
   "source": [
    "nombre_infected       955\n",
    "nombre_sain          2268\n",
    "nombre_exposed        493\n",
    "nombre_recovered    16284\n",
    "Name: 285, dtype: int64"
   ]
  },
  {
   "cell_type": "markdown",
   "id": "f6197e8f",
   "metadata": {},
   "source": [
    "nombre_infected       977\n",
    "nombre_sain          2237\n",
    "nombre_exposed        497\n",
    "nombre_recovered    16289\n",
    "Name: 286, dtype: int64"
   ]
  },
  {
   "cell_type": "markdown",
   "id": "13402e5d",
   "metadata": {},
   "source": [
    "nombre_infected       975\n",
    "nombre_sain          2211\n",
    "nombre_exposed        519\n",
    "nombre_recovered    16295\n",
    "Name: 287, dtype: int64"
   ]
  },
  {
   "cell_type": "markdown",
   "id": "a2da6df9",
   "metadata": {},
   "source": [
    "nombre_infected       986\n",
    "nombre_sain          2195\n",
    "nombre_exposed        506\n",
    "nombre_recovered    16313\n",
    "Name: 288, dtype: int64"
   ]
  },
  {
   "cell_type": "markdown",
   "id": "7a3e213c",
   "metadata": {},
   "source": [
    "nombre_infected       990\n",
    "nombre_sain          2192\n",
    "nombre_exposed        482\n",
    "nombre_recovered    16336\n",
    "Name: 289, dtype: int64"
   ]
  },
  {
   "cell_type": "markdown",
   "id": "6974759a",
   "metadata": {},
   "source": [
    "nombre_infected       994\n",
    "nombre_sain          2165\n",
    "nombre_exposed        496\n",
    "nombre_recovered    16345\n",
    "Name: 290, dtype: int64"
   ]
  },
  {
   "cell_type": "markdown",
   "id": "6af57082",
   "metadata": {},
   "source": [
    "nombre_infected       991\n",
    "nombre_sain          2141\n",
    "nombre_exposed        495\n",
    "nombre_recovered    16373\n",
    "Name: 291, dtype: int64"
   ]
  },
  {
   "cell_type": "markdown",
   "id": "c769c185",
   "metadata": {},
   "source": [
    "nombre_infected       982\n",
    "nombre_sain          2134\n",
    "nombre_exposed        500\n",
    "nombre_recovered    16384\n",
    "Name: 292, dtype: int64"
   ]
  },
  {
   "cell_type": "markdown",
   "id": "d48a13c9",
   "metadata": {},
   "source": [
    "nombre_infected       992\n",
    "nombre_sain          2129\n",
    "nombre_exposed        498\n",
    "nombre_recovered    16381\n",
    "Name: 293, dtype: int64"
   ]
  },
  {
   "cell_type": "markdown",
   "id": "505d326b",
   "metadata": {},
   "source": [
    "nombre_infected      1013\n",
    "nombre_sain          2124\n",
    "nombre_exposed        482\n",
    "nombre_recovered    16381\n",
    "Name: 294, dtype: int64"
   ]
  },
  {
   "cell_type": "markdown",
   "id": "8c9822a7",
   "metadata": {},
   "source": [
    "nombre_infected      1013\n",
    "nombre_sain          2128\n",
    "nombre_exposed        474\n",
    "nombre_recovered    16385\n",
    "Name: 295, dtype: int64"
   ]
  },
  {
   "cell_type": "markdown",
   "id": "f20191e2",
   "metadata": {},
   "source": [
    "nombre_infected      1006\n",
    "nombre_sain          2084\n",
    "nombre_exposed        491\n",
    "nombre_recovered    16419\n",
    "Name: 296, dtype: int64"
   ]
  },
  {
   "cell_type": "markdown",
   "id": "cfe3c178",
   "metadata": {},
   "source": [
    "nombre_infected      1007\n",
    "nombre_sain          2070\n",
    "nombre_exposed        514\n",
    "nombre_recovered    16409\n",
    "Name: 297, dtype: int64"
   ]
  },
  {
   "cell_type": "markdown",
   "id": "042fe7c8",
   "metadata": {},
   "source": [
    "nombre_infected      1001\n",
    "nombre_sain          2068\n",
    "nombre_exposed        504\n",
    "nombre_recovered    16427\n",
    "Name: 298, dtype: int64"
   ]
  },
  {
   "cell_type": "markdown",
   "id": "9926f511",
   "metadata": {},
   "source": [
    "nombre_infected      1019\n",
    "nombre_sain          2065\n",
    "nombre_exposed        509\n",
    "nombre_recovered    16407\n",
    "Name: 299, dtype: int64"
   ]
  },
  {
   "cell_type": "markdown",
   "id": "4fba653b",
   "metadata": {},
   "source": [
    "nombre_infected      1027\n",
    "nombre_sain          2070\n",
    "nombre_exposed        483\n",
    "nombre_recovered    16420\n",
    "Name: 300, dtype: int64"
   ]
  },
  {
   "cell_type": "markdown",
   "id": "11940147",
   "metadata": {},
   "source": [
    "nombre_infected      1046\n",
    "nombre_sain          2076\n",
    "nombre_exposed        491\n",
    "nombre_recovered    16387\n",
    "Name: 301, dtype: int64"
   ]
  },
  {
   "cell_type": "markdown",
   "id": "3c5f8df5",
   "metadata": {},
   "source": [
    "nombre_infected      1057\n",
    "nombre_sain          2086\n",
    "nombre_exposed        505\n",
    "nombre_recovered    16352\n",
    "Name: 302, dtype: int64"
   ]
  },
  {
   "cell_type": "markdown",
   "id": "af49607a",
   "metadata": {},
   "source": [
    "nombre_infected      1061\n",
    "nombre_sain          2082\n",
    "nombre_exposed        512\n",
    "nombre_recovered    16345\n",
    "Name: 303, dtype: int64"
   ]
  },
  {
   "cell_type": "markdown",
   "id": "6c46b6fe",
   "metadata": {},
   "source": [
    "nombre_infected      1058\n",
    "nombre_sain          2078\n",
    "nombre_exposed        510\n",
    "nombre_recovered    16354\n",
    "Name: 304, dtype: int64"
   ]
  },
  {
   "cell_type": "markdown",
   "id": "6fde76ff",
   "metadata": {},
   "source": [
    "nombre_infected      1058\n",
    "nombre_sain          2081\n",
    "nombre_exposed        506\n",
    "nombre_recovered    16355\n",
    "Name: 305, dtype: int64"
   ]
  },
  {
   "cell_type": "markdown",
   "id": "b452e608",
   "metadata": {},
   "source": [
    "nombre_infected      1087\n",
    "nombre_sain          2076\n",
    "nombre_exposed        500\n",
    "nombre_recovered    16337\n",
    "Name: 306, dtype: int64"
   ]
  },
  {
   "cell_type": "markdown",
   "id": "0a2e7aae",
   "metadata": {},
   "source": [
    "nombre_infected      1080\n",
    "nombre_sain          2070\n",
    "nombre_exposed        498\n",
    "nombre_recovered    16352\n",
    "Name: 307, dtype: int64"
   ]
  },
  {
   "cell_type": "markdown",
   "id": "0a527499",
   "metadata": {},
   "source": [
    "nombre_infected      1077\n",
    "nombre_sain          2052\n",
    "nombre_exposed        492\n",
    "nombre_recovered    16379\n",
    "Name: 308, dtype: int64"
   ]
  },
  {
   "cell_type": "markdown",
   "id": "e32cf241",
   "metadata": {},
   "source": [
    "nombre_infected      1079\n",
    "nombre_sain          2064\n",
    "nombre_exposed        487\n",
    "nombre_recovered    16370\n",
    "Name: 309, dtype: int64"
   ]
  },
  {
   "cell_type": "markdown",
   "id": "d6409f8b",
   "metadata": {},
   "source": [
    "nombre_infected      1065\n",
    "nombre_sain          2042\n",
    "nombre_exposed        494\n",
    "nombre_recovered    16399\n",
    "Name: 310, dtype: int64"
   ]
  },
  {
   "cell_type": "markdown",
   "id": "567cc229",
   "metadata": {},
   "source": [
    "nombre_infected      1070\n",
    "nombre_sain          2029\n",
    "nombre_exposed        482\n",
    "nombre_recovered    16419\n",
    "Name: 311, dtype: int64"
   ]
  },
  {
   "cell_type": "markdown",
   "id": "38d1b87e",
   "metadata": {},
   "source": [
    "nombre_infected      1063\n",
    "nombre_sain          2011\n",
    "nombre_exposed        468\n",
    "nombre_recovered    16458\n",
    "Name: 312, dtype: int64"
   ]
  },
  {
   "cell_type": "markdown",
   "id": "ca64513d",
   "metadata": {},
   "source": [
    "nombre_infected      1038\n",
    "nombre_sain          2000\n",
    "nombre_exposed        479\n",
    "nombre_recovered    16483\n",
    "Name: 313, dtype: int64"
   ]
  },
  {
   "cell_type": "markdown",
   "id": "5cad37b0",
   "metadata": {},
   "source": [
    "nombre_infected      1035\n",
    "nombre_sain          1967\n",
    "nombre_exposed        475\n",
    "nombre_recovered    16523\n",
    "Name: 314, dtype: int64"
   ]
  },
  {
   "cell_type": "markdown",
   "id": "3179d0a6",
   "metadata": {},
   "source": [
    "nombre_infected      1055\n",
    "nombre_sain          1978\n",
    "nombre_exposed        440\n",
    "nombre_recovered    16527\n",
    "Name: 315, dtype: int64"
   ]
  },
  {
   "cell_type": "markdown",
   "id": "e70913df",
   "metadata": {},
   "source": [
    "nombre_infected      1030\n",
    "nombre_sain          1949\n",
    "nombre_exposed        452\n",
    "nombre_recovered    16569\n",
    "Name: 316, dtype: int64"
   ]
  },
  {
   "cell_type": "markdown",
   "id": "602e932b",
   "metadata": {},
   "source": [
    "nombre_infected      1030\n",
    "nombre_sain          1943\n",
    "nombre_exposed        465\n",
    "nombre_recovered    16562\n",
    "Name: 317, dtype: int64"
   ]
  },
  {
   "cell_type": "markdown",
   "id": "eb9d6ea0",
   "metadata": {},
   "source": [
    "nombre_infected      1031\n",
    "nombre_sain          1921\n",
    "nombre_exposed        472\n",
    "nombre_recovered    16576\n",
    "Name: 318, dtype: int64"
   ]
  },
  {
   "cell_type": "markdown",
   "id": "ce439b8a",
   "metadata": {},
   "source": [
    "nombre_infected      1049\n",
    "nombre_sain          1934\n",
    "nombre_exposed        446\n",
    "nombre_recovered    16571\n",
    "Name: 319, dtype: int64"
   ]
  },
  {
   "cell_type": "markdown",
   "id": "3c9b9487",
   "metadata": {},
   "source": [
    "nombre_infected      1035\n",
    "nombre_sain          1957\n",
    "nombre_exposed        450\n",
    "nombre_recovered    16558\n",
    "Name: 320, dtype: int64"
   ]
  },
  {
   "cell_type": "markdown",
   "id": "3449b5bb",
   "metadata": {},
   "source": [
    "nombre_infected      1014\n",
    "nombre_sain          1970\n",
    "nombre_exposed        440\n",
    "nombre_recovered    16576\n",
    "Name: 321, dtype: int64"
   ]
  },
  {
   "cell_type": "markdown",
   "id": "86682d1f",
   "metadata": {},
   "source": [
    "nombre_infected       987\n",
    "nombre_sain          1985\n",
    "nombre_exposed        453\n",
    "nombre_recovered    16575\n",
    "Name: 322, dtype: int64"
   ]
  },
  {
   "cell_type": "markdown",
   "id": "dc907a77",
   "metadata": {},
   "source": [
    "nombre_infected       994\n",
    "nombre_sain          2009\n",
    "nombre_exposed        439\n",
    "nombre_recovered    16558\n",
    "Name: 323, dtype: int64"
   ]
  },
  {
   "cell_type": "markdown",
   "id": "6297cae2",
   "metadata": {},
   "source": [
    "nombre_infected       941\n",
    "nombre_sain          2022\n",
    "nombre_exposed        450\n",
    "nombre_recovered    16587\n",
    "Name: 324, dtype: int64"
   ]
  },
  {
   "cell_type": "markdown",
   "id": "9642a4ba",
   "metadata": {},
   "source": [
    "nombre_infected       964\n",
    "nombre_sain          2028\n",
    "nombre_exposed        453\n",
    "nombre_recovered    16555\n",
    "Name: 325, dtype: int64"
   ]
  },
  {
   "cell_type": "markdown",
   "id": "e0a549a4",
   "metadata": {},
   "source": [
    "nombre_infected       951\n",
    "nombre_sain          2043\n",
    "nombre_exposed        468\n",
    "nombre_recovered    16538\n",
    "Name: 326, dtype: int64"
   ]
  },
  {
   "cell_type": "markdown",
   "id": "0e70adfb",
   "metadata": {},
   "source": [
    "nombre_infected       942\n",
    "nombre_sain          2034\n",
    "nombre_exposed        454\n",
    "nombre_recovered    16570\n",
    "Name: 327, dtype: int64"
   ]
  },
  {
   "cell_type": "markdown",
   "id": "c7839b7d",
   "metadata": {},
   "source": [
    "nombre_infected       934\n",
    "nombre_sain          2025\n",
    "nombre_exposed        462\n",
    "nombre_recovered    16579\n",
    "Name: 328, dtype: int64"
   ]
  },
  {
   "cell_type": "markdown",
   "id": "ff0b7d01",
   "metadata": {},
   "source": [
    "nombre_infected       907\n",
    "nombre_sain          2051\n",
    "nombre_exposed        451\n",
    "nombre_recovered    16591\n",
    "Name: 329, dtype: int64"
   ]
  },
  {
   "cell_type": "markdown",
   "id": "a7c5d95d",
   "metadata": {},
   "source": [
    "nombre_infected       896\n",
    "nombre_sain          2060\n",
    "nombre_exposed        461\n",
    "nombre_recovered    16583\n",
    "Name: 330, dtype: int64"
   ]
  },
  {
   "cell_type": "markdown",
   "id": "bacc8f5c",
   "metadata": {},
   "source": [
    "nombre_infected       894\n",
    "nombre_sain          2062\n",
    "nombre_exposed        459\n",
    "nombre_recovered    16585\n",
    "Name: 331, dtype: int64"
   ]
  },
  {
   "cell_type": "markdown",
   "id": "7bbc84c8",
   "metadata": {},
   "source": [
    "nombre_infected       914\n",
    "nombre_sain          2095\n",
    "nombre_exposed        426\n",
    "nombre_recovered    16565\n",
    "Name: 332, dtype: int64"
   ]
  },
  {
   "cell_type": "markdown",
   "id": "e11e258c",
   "metadata": {},
   "source": [
    "nombre_infected       941\n",
    "nombre_sain          2107\n",
    "nombre_exposed        407\n",
    "nombre_recovered    16545\n",
    "Name: 333, dtype: int64"
   ]
  },
  {
   "cell_type": "markdown",
   "id": "5e66f44a",
   "metadata": {},
   "source": [
    "nombre_infected       908\n",
    "nombre_sain          2103\n",
    "nombre_exposed        423\n",
    "nombre_recovered    16566\n",
    "Name: 334, dtype: int64"
   ]
  },
  {
   "cell_type": "markdown",
   "id": "50bacd1e",
   "metadata": {},
   "source": [
    "nombre_infected       884\n",
    "nombre_sain          2119\n",
    "nombre_exposed        426\n",
    "nombre_recovered    16571\n",
    "Name: 335, dtype: int64"
   ]
  },
  {
   "cell_type": "markdown",
   "id": "f6e29bda",
   "metadata": {},
   "source": [
    "nombre_infected       893\n",
    "nombre_sain          2141\n",
    "nombre_exposed        408\n",
    "nombre_recovered    16558\n",
    "Name: 336, dtype: int64"
   ]
  },
  {
   "cell_type": "markdown",
   "id": "d5dfd49c",
   "metadata": {},
   "source": [
    "nombre_infected       897\n",
    "nombre_sain          2134\n",
    "nombre_exposed        409\n",
    "nombre_recovered    16560\n",
    "Name: 337, dtype: int64"
   ]
  },
  {
   "cell_type": "markdown",
   "id": "b2f902f6",
   "metadata": {},
   "source": [
    "nombre_infected       872\n",
    "nombre_sain          2165\n",
    "nombre_exposed        411\n",
    "nombre_recovered    16552\n",
    "Name: 338, dtype: int64"
   ]
  },
  {
   "cell_type": "markdown",
   "id": "ec5ba73a",
   "metadata": {},
   "source": [
    "nombre_infected       847\n",
    "nombre_sain          2188\n",
    "nombre_exposed        397\n",
    "nombre_recovered    16568\n",
    "Name: 339, dtype: int64"
   ]
  },
  {
   "cell_type": "markdown",
   "id": "b1c1b03d",
   "metadata": {},
   "source": [
    "nombre_infected       822\n",
    "nombre_sain          2206\n",
    "nombre_exposed        404\n",
    "nombre_recovered    16568\n",
    "Name: 340, dtype: int64"
   ]
  },
  {
   "cell_type": "markdown",
   "id": "00c28ec0",
   "metadata": {},
   "source": [
    "nombre_infected       821\n",
    "nombre_sain          2228\n",
    "nombre_exposed        403\n",
    "nombre_recovered    16548\n",
    "Name: 341, dtype: int64"
   ]
  },
  {
   "cell_type": "markdown",
   "id": "b2536c02",
   "metadata": {},
   "source": [
    "nombre_infected       807\n",
    "nombre_sain          2251\n",
    "nombre_exposed        400\n",
    "nombre_recovered    16542\n",
    "Name: 342, dtype: int64"
   ]
  },
  {
   "cell_type": "markdown",
   "id": "f5136e3f",
   "metadata": {},
   "source": [
    "nombre_infected       816\n",
    "nombre_sain          2271\n",
    "nombre_exposed        401\n",
    "nombre_recovered    16512\n",
    "Name: 343, dtype: int64"
   ]
  },
  {
   "cell_type": "markdown",
   "id": "0e6da629",
   "metadata": {},
   "source": [
    "nombre_infected       822\n",
    "nombre_sain          2289\n",
    "nombre_exposed        402\n",
    "nombre_recovered    16487\n",
    "Name: 344, dtype: int64"
   ]
  },
  {
   "cell_type": "markdown",
   "id": "3ecbc396",
   "metadata": {},
   "source": [
    "nombre_infected       781\n",
    "nombre_sain          2280\n",
    "nombre_exposed        419\n",
    "nombre_recovered    16520\n",
    "Name: 345, dtype: int64"
   ]
  },
  {
   "cell_type": "markdown",
   "id": "eaa37b97",
   "metadata": {},
   "source": [
    "nombre_infected       784\n",
    "nombre_sain          2301\n",
    "nombre_exposed        418\n",
    "nombre_recovered    16497\n",
    "Name: 346, dtype: int64"
   ]
  },
  {
   "cell_type": "markdown",
   "id": "5a97c78f",
   "metadata": {},
   "source": [
    "nombre_infected       785\n",
    "nombre_sain          2328\n",
    "nombre_exposed        430\n",
    "nombre_recovered    16457\n",
    "Name: 347, dtype: int64"
   ]
  },
  {
   "cell_type": "markdown",
   "id": "189bbc3f",
   "metadata": {},
   "source": [
    "nombre_infected       804\n",
    "nombre_sain          2370\n",
    "nombre_exposed        410\n",
    "nombre_recovered    16416\n",
    "Name: 348, dtype: int64"
   ]
  },
  {
   "cell_type": "markdown",
   "id": "bcdd9400",
   "metadata": {},
   "source": [
    "nombre_infected       811\n",
    "nombre_sain          2396\n",
    "nombre_exposed        404\n",
    "nombre_recovered    16389\n",
    "Name: 349, dtype: int64"
   ]
  },
  {
   "cell_type": "markdown",
   "id": "3e418d4e",
   "metadata": {},
   "source": [
    "nombre_infected       802\n",
    "nombre_sain          2418\n",
    "nombre_exposed        397\n",
    "nombre_recovered    16383\n",
    "Name: 350, dtype: int64"
   ]
  },
  {
   "cell_type": "markdown",
   "id": "d823e42f",
   "metadata": {},
   "source": [
    "nombre_infected       806\n",
    "nombre_sain          2425\n",
    "nombre_exposed        412\n",
    "nombre_recovered    16357\n",
    "Name: 351, dtype: int64"
   ]
  },
  {
   "cell_type": "markdown",
   "id": "f44bd0d4",
   "metadata": {},
   "source": [
    "nombre_infected       810\n",
    "nombre_sain          2432\n",
    "nombre_exposed        412\n",
    "nombre_recovered    16346\n",
    "Name: 352, dtype: int64"
   ]
  },
  {
   "cell_type": "markdown",
   "id": "7ca97301",
   "metadata": {},
   "source": [
    "nombre_infected       803\n",
    "nombre_sain          2449\n",
    "nombre_exposed        434\n",
    "nombre_recovered    16314\n",
    "Name: 353, dtype: int64"
   ]
  },
  {
   "cell_type": "markdown",
   "id": "5f1eb106",
   "metadata": {},
   "source": [
    "nombre_infected       820\n",
    "nombre_sain          2480\n",
    "nombre_exposed        421\n",
    "nombre_recovered    16279\n",
    "Name: 354, dtype: int64"
   ]
  },
  {
   "cell_type": "markdown",
   "id": "7a0aacdd",
   "metadata": {},
   "source": [
    "nombre_infected       820\n",
    "nombre_sain          2476\n",
    "nombre_exposed        440\n",
    "nombre_recovered    16264\n",
    "Name: 355, dtype: int64"
   ]
  },
  {
   "cell_type": "markdown",
   "id": "e777849f",
   "metadata": {},
   "source": [
    "nombre_infected       822\n",
    "nombre_sain          2465\n",
    "nombre_exposed        454\n",
    "nombre_recovered    16259\n",
    "Name: 356, dtype: int64"
   ]
  },
  {
   "cell_type": "markdown",
   "id": "5edfc1be",
   "metadata": {},
   "source": [
    "nombre_infected       824\n",
    "nombre_sain          2457\n",
    "nombre_exposed        470\n",
    "nombre_recovered    16249\n",
    "Name: 357, dtype: int64"
   ]
  },
  {
   "cell_type": "markdown",
   "id": "05c1d2d2",
   "metadata": {},
   "source": [
    "nombre_infected       835\n",
    "nombre_sain          2438\n",
    "nombre_exposed        472\n",
    "nombre_recovered    16255\n",
    "Name: 358, dtype: int64"
   ]
  },
  {
   "cell_type": "markdown",
   "id": "dba3d8c5",
   "metadata": {},
   "source": [
    "nombre_infected       854\n",
    "nombre_sain          2433\n",
    "nombre_exposed        466\n",
    "nombre_recovered    16247\n",
    "Name: 359, dtype: int64"
   ]
  },
  {
   "cell_type": "markdown",
   "id": "64755a26",
   "metadata": {},
   "source": [
    "nombre_infected       866\n",
    "nombre_sain          2442\n",
    "nombre_exposed        444\n",
    "nombre_recovered    16248\n",
    "Name: 360, dtype: int64"
   ]
  },
  {
   "cell_type": "markdown",
   "id": "9e3d61be",
   "metadata": {},
   "source": [
    "nombre_infected       856\n",
    "nombre_sain          2427\n",
    "nombre_exposed        460\n",
    "nombre_recovered    16257\n",
    "Name: 361, dtype: int64"
   ]
  },
  {
   "cell_type": "markdown",
   "id": "1c49f646",
   "metadata": {},
   "source": [
    "nombre_infected       864\n",
    "nombre_sain          2418\n",
    "nombre_exposed        461\n",
    "nombre_recovered    16257\n",
    "Name: 362, dtype: int64"
   ]
  },
  {
   "cell_type": "markdown",
   "id": "32e0b4f8",
   "metadata": {},
   "source": [
    "nombre_infected       867\n",
    "nombre_sain          2405\n",
    "nombre_exposed        452\n",
    "nombre_recovered    16276\n",
    "Name: 363, dtype: int64"
   ]
  },
  {
   "cell_type": "markdown",
   "id": "1fc75e2a",
   "metadata": {},
   "source": [
    "nombre_infected       868\n",
    "nombre_sain          2384\n",
    "nombre_exposed        455\n",
    "nombre_recovered    16293\n",
    "Name: 364, dtype: int64"
   ]
  },
  {
   "cell_type": "markdown",
   "id": "f9605879",
   "metadata": {},
   "source": [
    "nombre_infected       864\n",
    "nombre_sain          2423\n",
    "nombre_exposed        440\n",
    "nombre_recovered    16273\n",
    "Name: 365, dtype: int64"
   ]
  },
  {
   "cell_type": "markdown",
   "id": "fbff4cea",
   "metadata": {},
   "source": [
    "nombre_infected       868\n",
    "nombre_sain          2406\n",
    "nombre_exposed        446\n",
    "nombre_recovered    16280\n",
    "Name: 366, dtype: int64"
   ]
  },
  {
   "cell_type": "markdown",
   "id": "c9e1a48a",
   "metadata": {},
   "source": [
    "nombre_infected       864\n",
    "nombre_sain          2369\n",
    "nombre_exposed        481\n",
    "nombre_recovered    16286\n",
    "Name: 367, dtype: int64"
   ]
  },
  {
   "cell_type": "markdown",
   "id": "479322a0",
   "metadata": {},
   "source": [
    "nombre_infected       863\n",
    "nombre_sain          2362\n",
    "nombre_exposed        467\n",
    "nombre_recovered    16308\n",
    "Name: 368, dtype: int64"
   ]
  },
  {
   "cell_type": "markdown",
   "id": "81f779ce",
   "metadata": {},
   "source": [
    "nombre_infected       848\n",
    "nombre_sain          2350\n",
    "nombre_exposed        462\n",
    "nombre_recovered    16340\n",
    "Name: 369, dtype: int64"
   ]
  },
  {
   "cell_type": "markdown",
   "id": "8421eaa1",
   "metadata": {},
   "source": [
    "nombre_infected       875\n",
    "nombre_sain          2341\n",
    "nombre_exposed        441\n",
    "nombre_recovered    16343\n",
    "Name: 370, dtype: int64"
   ]
  },
  {
   "cell_type": "markdown",
   "id": "6d12d1cd",
   "metadata": {},
   "source": [
    "nombre_infected       874\n",
    "nombre_sain          2323\n",
    "nombre_exposed        457\n",
    "nombre_recovered    16346\n",
    "Name: 371, dtype: int64"
   ]
  },
  {
   "cell_type": "markdown",
   "id": "4c0eaf21",
   "metadata": {},
   "source": [
    "nombre_infected       862\n",
    "nombre_sain          2349\n",
    "nombre_exposed        444\n",
    "nombre_recovered    16345\n",
    "Name: 372, dtype: int64"
   ]
  },
  {
   "cell_type": "markdown",
   "id": "9414eebf",
   "metadata": {},
   "source": [
    "nombre_infected       858\n",
    "nombre_sain          2331\n",
    "nombre_exposed        445\n",
    "nombre_recovered    16366\n",
    "Name: 373, dtype: int64"
   ]
  },
  {
   "cell_type": "markdown",
   "id": "6059fc2b",
   "metadata": {},
   "source": [
    "nombre_infected       872\n",
    "nombre_sain          2319\n",
    "nombre_exposed        467\n",
    "nombre_recovered    16342\n",
    "Name: 374, dtype: int64"
   ]
  },
  {
   "cell_type": "markdown",
   "id": "b16fad15",
   "metadata": {},
   "source": [
    "nombre_infected       883\n",
    "nombre_sain          2305\n",
    "nombre_exposed        485\n",
    "nombre_recovered    16327\n",
    "Name: 375, dtype: int64"
   ]
  },
  {
   "cell_type": "markdown",
   "id": "fb7cc7bc",
   "metadata": {},
   "source": [
    "nombre_infected       887\n",
    "nombre_sain          2310\n",
    "nombre_exposed        484\n",
    "nombre_recovered    16319\n",
    "Name: 376, dtype: int64"
   ]
  },
  {
   "cell_type": "markdown",
   "id": "e0b4506f",
   "metadata": {},
   "source": [
    "nombre_infected       892\n",
    "nombre_sain          2300\n",
    "nombre_exposed        482\n",
    "nombre_recovered    16326\n",
    "Name: 377, dtype: int64"
   ]
  },
  {
   "cell_type": "markdown",
   "id": "aac746ad",
   "metadata": {},
   "source": [
    "nombre_infected       891\n",
    "nombre_sain          2301\n",
    "nombre_exposed        499\n",
    "nombre_recovered    16309\n",
    "Name: 378, dtype: int64"
   ]
  },
  {
   "cell_type": "markdown",
   "id": "267061ca",
   "metadata": {},
   "source": [
    "nombre_infected       903\n",
    "nombre_sain          2295\n",
    "nombre_exposed        476\n",
    "nombre_recovered    16326\n",
    "Name: 379, dtype: int64"
   ]
  },
  {
   "cell_type": "markdown",
   "id": "f79689f8",
   "metadata": {},
   "source": [
    "nombre_infected       911\n",
    "nombre_sain          2282\n",
    "nombre_exposed        475\n",
    "nombre_recovered    16332\n",
    "Name: 380, dtype: int64"
   ]
  },
  {
   "cell_type": "markdown",
   "id": "35243870",
   "metadata": {},
   "source": [
    "nombre_infected       909\n",
    "nombre_sain          2271\n",
    "nombre_exposed        473\n",
    "nombre_recovered    16347\n",
    "Name: 381, dtype: int64"
   ]
  },
  {
   "cell_type": "markdown",
   "id": "a3e33234",
   "metadata": {},
   "source": [
    "nombre_infected       918\n",
    "nombre_sain          2245\n",
    "nombre_exposed        472\n",
    "nombre_recovered    16365\n",
    "Name: 382, dtype: int64"
   ]
  },
  {
   "cell_type": "markdown",
   "id": "46227dff",
   "metadata": {},
   "source": [
    "nombre_infected       908\n",
    "nombre_sain          2230\n",
    "nombre_exposed        473\n",
    "nombre_recovered    16389\n",
    "Name: 383, dtype: int64"
   ]
  },
  {
   "cell_type": "markdown",
   "id": "9dd7bef2",
   "metadata": {},
   "source": [
    "nombre_infected       929\n",
    "nombre_sain          2220\n",
    "nombre_exposed        487\n",
    "nombre_recovered    16364\n",
    "Name: 384, dtype: int64"
   ]
  },
  {
   "cell_type": "markdown",
   "id": "3e4b1c3f",
   "metadata": {},
   "source": [
    "nombre_infected       941\n",
    "nombre_sain          2192\n",
    "nombre_exposed        501\n",
    "nombre_recovered    16366\n",
    "Name: 385, dtype: int64"
   ]
  },
  {
   "cell_type": "markdown",
   "id": "6264543b",
   "metadata": {},
   "source": [
    "nombre_infected       946\n",
    "nombre_sain          2176\n",
    "nombre_exposed        480\n",
    "nombre_recovered    16398\n",
    "Name: 386, dtype: int64"
   ]
  },
  {
   "cell_type": "markdown",
   "id": "3606a7e3",
   "metadata": {},
   "source": [
    "nombre_infected       976\n",
    "nombre_sain          2150\n",
    "nombre_exposed        480\n",
    "nombre_recovered    16394\n",
    "Name: 387, dtype: int64"
   ]
  },
  {
   "cell_type": "markdown",
   "id": "63abbbe3",
   "metadata": {},
   "source": [
    "nombre_infected       963\n",
    "nombre_sain          2118\n",
    "nombre_exposed        493\n",
    "nombre_recovered    16426\n",
    "Name: 388, dtype: int64"
   ]
  },
  {
   "cell_type": "markdown",
   "id": "8d8727d2",
   "metadata": {},
   "source": [
    "nombre_infected       959\n",
    "nombre_sain          2110\n",
    "nombre_exposed        497\n",
    "nombre_recovered    16434\n",
    "Name: 389, dtype: int64"
   ]
  },
  {
   "cell_type": "markdown",
   "id": "d2ddfb81",
   "metadata": {},
   "source": [
    "nombre_infected       965\n",
    "nombre_sain          2108\n",
    "nombre_exposed        479\n",
    "nombre_recovered    16448\n",
    "Name: 390, dtype: int64"
   ]
  },
  {
   "cell_type": "markdown",
   "id": "32f3fa47",
   "metadata": {},
   "source": [
    "nombre_infected       967\n",
    "nombre_sain          2102\n",
    "nombre_exposed        482\n",
    "nombre_recovered    16449\n",
    "Name: 391, dtype: int64"
   ]
  },
  {
   "cell_type": "markdown",
   "id": "3d0aee3f",
   "metadata": {},
   "source": [
    "nombre_infected       950\n",
    "nombre_sain          2112\n",
    "nombre_exposed        478\n",
    "nombre_recovered    16460\n",
    "Name: 392, dtype: int64"
   ]
  },
  {
   "cell_type": "markdown",
   "id": "0eb67c28",
   "metadata": {},
   "source": [
    "nombre_infected       984\n",
    "nombre_sain          2096\n",
    "nombre_exposed        464\n",
    "nombre_recovered    16456\n",
    "Name: 393, dtype: int64"
   ]
  },
  {
   "cell_type": "markdown",
   "id": "48ab0ab1",
   "metadata": {},
   "source": [
    "nombre_infected       977\n",
    "nombre_sain          2099\n",
    "nombre_exposed        457\n",
    "nombre_recovered    16467\n",
    "Name: 394, dtype: int64"
   ]
  },
  {
   "cell_type": "markdown",
   "id": "321f82fe",
   "metadata": {},
   "source": [
    "nombre_infected       970\n",
    "nombre_sain          2072\n",
    "nombre_exposed        459\n",
    "nombre_recovered    16499\n",
    "Name: 395, dtype: int64"
   ]
  },
  {
   "cell_type": "markdown",
   "id": "f57247fa",
   "metadata": {},
   "source": [
    "nombre_infected       928\n",
    "nombre_sain          2093\n",
    "nombre_exposed        466\n",
    "nombre_recovered    16513\n",
    "Name: 396, dtype: int64"
   ]
  },
  {
   "cell_type": "markdown",
   "id": "fe861a33",
   "metadata": {},
   "source": [
    "nombre_infected       947\n",
    "nombre_sain          2076\n",
    "nombre_exposed        469\n",
    "nombre_recovered    16508\n",
    "Name: 397, dtype: int64"
   ]
  },
  {
   "cell_type": "markdown",
   "id": "2ef5f757",
   "metadata": {},
   "source": [
    "nombre_infected       938\n",
    "nombre_sain          2072\n",
    "nombre_exposed        475\n",
    "nombre_recovered    16515\n",
    "Name: 398, dtype: int64"
   ]
  },
  {
   "cell_type": "markdown",
   "id": "55ea5140",
   "metadata": {},
   "source": [
    "nombre_infected       947\n",
    "nombre_sain          2052\n",
    "nombre_exposed        487\n",
    "nombre_recovered    16514\n",
    "Name: 399, dtype: int64"
   ]
  },
  {
   "cell_type": "markdown",
   "id": "ee2fa3aa",
   "metadata": {},
   "source": [
    "nombre_infected       920\n",
    "nombre_sain          2040\n",
    "nombre_exposed        510\n",
    "nombre_recovered    16530\n",
    "Name: 400, dtype: int64"
   ]
  },
  {
   "cell_type": "markdown",
   "id": "9a0e89f2",
   "metadata": {},
   "source": [
    "nombre_infected       930\n",
    "nombre_sain          2065\n",
    "nombre_exposed        493\n",
    "nombre_recovered    16512\n",
    "Name: 401, dtype: int64"
   ]
  },
  {
   "cell_type": "markdown",
   "id": "5bdcdf83",
   "metadata": {},
   "source": [
    "nombre_infected       947\n",
    "nombre_sain          2062\n",
    "nombre_exposed        490\n",
    "nombre_recovered    16501\n",
    "Name: 402, dtype: int64"
   ]
  },
  {
   "cell_type": "markdown",
   "id": "3ed9265f",
   "metadata": {},
   "source": [
    "nombre_infected       940\n",
    "nombre_sain          2068\n",
    "nombre_exposed        483\n",
    "nombre_recovered    16509\n",
    "Name: 403, dtype: int64"
   ]
  },
  {
   "cell_type": "markdown",
   "id": "832e0175",
   "metadata": {},
   "source": [
    "nombre_infected       955\n",
    "nombre_sain          2078\n",
    "nombre_exposed        470\n",
    "nombre_recovered    16497\n",
    "Name: 404, dtype: int64"
   ]
  },
  {
   "cell_type": "markdown",
   "id": "290dae0c",
   "metadata": {},
   "source": [
    "nombre_infected       947\n",
    "nombre_sain          2055\n",
    "nombre_exposed        487\n",
    "nombre_recovered    16511\n",
    "Name: 405, dtype: int64"
   ]
  },
  {
   "cell_type": "markdown",
   "id": "a1bd3367",
   "metadata": {},
   "source": [
    "nombre_infected       934\n",
    "nombre_sain          2063\n",
    "nombre_exposed        513\n",
    "nombre_recovered    16490\n",
    "Name: 406, dtype: int64"
   ]
  },
  {
   "cell_type": "markdown",
   "id": "ba09c38c",
   "metadata": {},
   "source": [
    "nombre_infected       969\n",
    "nombre_sain          2069\n",
    "nombre_exposed        508\n",
    "nombre_recovered    16454\n",
    "Name: 407, dtype: int64"
   ]
  },
  {
   "cell_type": "markdown",
   "id": "11b2bd7c",
   "metadata": {},
   "source": [
    "nombre_infected       957\n",
    "nombre_sain          2057\n",
    "nombre_exposed        514\n",
    "nombre_recovered    16472\n",
    "Name: 408, dtype: int64"
   ]
  },
  {
   "cell_type": "markdown",
   "id": "31a6908d",
   "metadata": {},
   "source": [
    "nombre_infected       965\n",
    "nombre_sain          2076\n",
    "nombre_exposed        504\n",
    "nombre_recovered    16455\n",
    "Name: 409, dtype: int64"
   ]
  },
  {
   "cell_type": "markdown",
   "id": "36b64c9b",
   "metadata": {},
   "source": [
    "nombre_infected       974\n",
    "nombre_sain          2088\n",
    "nombre_exposed        502\n",
    "nombre_recovered    16436\n",
    "Name: 410, dtype: int64"
   ]
  },
  {
   "cell_type": "markdown",
   "id": "6b906ceb",
   "metadata": {},
   "source": [
    "nombre_infected       979\n",
    "nombre_sain          2073\n",
    "nombre_exposed        512\n",
    "nombre_recovered    16436\n",
    "Name: 411, dtype: int64"
   ]
  },
  {
   "cell_type": "markdown",
   "id": "50cdfd65",
   "metadata": {},
   "source": [
    "nombre_infected       969\n",
    "nombre_sain          2076\n",
    "nombre_exposed        496\n",
    "nombre_recovered    16459\n",
    "Name: 412, dtype: int64"
   ]
  },
  {
   "cell_type": "markdown",
   "id": "429fd84f",
   "metadata": {},
   "source": [
    "nombre_infected       966\n",
    "nombre_sain          2072\n",
    "nombre_exposed        506\n",
    "nombre_recovered    16456\n",
    "Name: 413, dtype: int64"
   ]
  },
  {
   "cell_type": "markdown",
   "id": "a006b884",
   "metadata": {},
   "source": [
    "nombre_infected       954\n",
    "nombre_sain          2088\n",
    "nombre_exposed        504\n",
    "nombre_recovered    16454\n",
    "Name: 414, dtype: int64"
   ]
  },
  {
   "cell_type": "markdown",
   "id": "c2653d37",
   "metadata": {},
   "source": [
    "nombre_infected       947\n",
    "nombre_sain          2118\n",
    "nombre_exposed        499\n",
    "nombre_recovered    16436\n",
    "Name: 415, dtype: int64"
   ]
  },
  {
   "cell_type": "markdown",
   "id": "af18579d",
   "metadata": {},
   "source": [
    "nombre_infected       945\n",
    "nombre_sain          2124\n",
    "nombre_exposed        524\n",
    "nombre_recovered    16407\n",
    "Name: 416, dtype: int64"
   ]
  },
  {
   "cell_type": "markdown",
   "id": "5e851f1e",
   "metadata": {},
   "source": [
    "nombre_infected       921\n",
    "nombre_sain          2182\n",
    "nombre_exposed        508\n",
    "nombre_recovered    16389\n",
    "Name: 417, dtype: int64"
   ]
  },
  {
   "cell_type": "markdown",
   "id": "ede62d71",
   "metadata": {},
   "source": [
    "nombre_infected       925\n",
    "nombre_sain          2186\n",
    "nombre_exposed        509\n",
    "nombre_recovered    16380\n",
    "Name: 418, dtype: int64"
   ]
  },
  {
   "cell_type": "markdown",
   "id": "c5db93df",
   "metadata": {},
   "source": [
    "nombre_infected       934\n",
    "nombre_sain          2232\n",
    "nombre_exposed        503\n",
    "nombre_recovered    16331\n",
    "Name: 419, dtype: int64"
   ]
  },
  {
   "cell_type": "markdown",
   "id": "0fcaba50",
   "metadata": {},
   "source": [
    "nombre_infected       918\n",
    "nombre_sain          2251\n",
    "nombre_exposed        525\n",
    "nombre_recovered    16306\n",
    "Name: 420, dtype: int64"
   ]
  },
  {
   "cell_type": "markdown",
   "id": "774aed0f",
   "metadata": {},
   "source": [
    "nombre_infected       896\n",
    "nombre_sain          2288\n",
    "nombre_exposed        502\n",
    "nombre_recovered    16314\n",
    "Name: 421, dtype: int64"
   ]
  },
  {
   "cell_type": "markdown",
   "id": "8e38314e",
   "metadata": {},
   "source": [
    "nombre_infected       908\n",
    "nombre_sain          2307\n",
    "nombre_exposed        485\n",
    "nombre_recovered    16300\n",
    "Name: 422, dtype: int64"
   ]
  },
  {
   "cell_type": "markdown",
   "id": "3298f293",
   "metadata": {},
   "source": [
    "nombre_infected       908\n",
    "nombre_sain          2329\n",
    "nombre_exposed        498\n",
    "nombre_recovered    16265\n",
    "Name: 423, dtype: int64"
   ]
  },
  {
   "cell_type": "markdown",
   "id": "fce3dbaa",
   "metadata": {},
   "source": [
    "nombre_infected       910\n",
    "nombre_sain          2346\n",
    "nombre_exposed        506\n",
    "nombre_recovered    16238\n",
    "Name: 424, dtype: int64"
   ]
  },
  {
   "cell_type": "markdown",
   "id": "40994153",
   "metadata": {},
   "source": [
    "nombre_infected       895\n",
    "nombre_sain          2352\n",
    "nombre_exposed        514\n",
    "nombre_recovered    16239\n",
    "Name: 425, dtype: int64"
   ]
  },
  {
   "cell_type": "markdown",
   "id": "fb524883",
   "metadata": {},
   "source": [
    "nombre_infected       907\n",
    "nombre_sain          2366\n",
    "nombre_exposed        510\n",
    "nombre_recovered    16217\n",
    "Name: 426, dtype: int64"
   ]
  },
  {
   "cell_type": "markdown",
   "id": "b9efbe08",
   "metadata": {},
   "source": [
    "nombre_infected       921\n",
    "nombre_sain          2346\n",
    "nombre_exposed        515\n",
    "nombre_recovered    16218\n",
    "Name: 427, dtype: int64"
   ]
  },
  {
   "cell_type": "markdown",
   "id": "c0b880e8",
   "metadata": {},
   "source": [
    "nombre_infected       920\n",
    "nombre_sain          2356\n",
    "nombre_exposed        524\n",
    "nombre_recovered    16200\n",
    "Name: 428, dtype: int64"
   ]
  },
  {
   "cell_type": "markdown",
   "id": "2e92640f",
   "metadata": {},
   "source": [
    "nombre_infected       926\n",
    "nombre_sain          2373\n",
    "nombre_exposed        528\n",
    "nombre_recovered    16173\n",
    "Name: 429, dtype: int64"
   ]
  },
  {
   "cell_type": "markdown",
   "id": "337a5ba0",
   "metadata": {},
   "source": [
    "nombre_infected       923\n",
    "nombre_sain          2363\n",
    "nombre_exposed        536\n",
    "nombre_recovered    16178\n",
    "Name: 430, dtype: int64"
   ]
  },
  {
   "cell_type": "markdown",
   "id": "4ca0703b",
   "metadata": {},
   "source": [
    "nombre_infected       952\n",
    "nombre_sain          2360\n",
    "nombre_exposed        527\n",
    "nombre_recovered    16161\n",
    "Name: 431, dtype: int64"
   ]
  },
  {
   "cell_type": "markdown",
   "id": "e82ee6f6",
   "metadata": {},
   "source": [
    "nombre_infected       943\n",
    "nombre_sain          2350\n",
    "nombre_exposed        559\n",
    "nombre_recovered    16148\n",
    "Name: 432, dtype: int64"
   ]
  },
  {
   "cell_type": "markdown",
   "id": "be024f4b",
   "metadata": {},
   "source": [
    "nombre_infected       954\n",
    "nombre_sain          2344\n",
    "nombre_exposed        560\n",
    "nombre_recovered    16142\n",
    "Name: 433, dtype: int64"
   ]
  },
  {
   "cell_type": "markdown",
   "id": "a7cfa5c8",
   "metadata": {},
   "source": [
    "nombre_infected       982\n",
    "nombre_sain          2357\n",
    "nombre_exposed        537\n",
    "nombre_recovered    16124\n",
    "Name: 434, dtype: int64"
   ]
  },
  {
   "cell_type": "markdown",
   "id": "37543ae3",
   "metadata": {},
   "source": [
    "nombre_infected       980\n",
    "nombre_sain          2345\n",
    "nombre_exposed        552\n",
    "nombre_recovered    16123\n",
    "Name: 435, dtype: int64"
   ]
  },
  {
   "cell_type": "markdown",
   "id": "223ef8ef",
   "metadata": {},
   "source": [
    "nombre_infected      1001\n",
    "nombre_sain          2319\n",
    "nombre_exposed        565\n",
    "nombre_recovered    16115\n",
    "Name: 436, dtype: int64"
   ]
  },
  {
   "cell_type": "markdown",
   "id": "06028c62",
   "metadata": {},
   "source": [
    "nombre_infected      1025\n",
    "nombre_sain          2314\n",
    "nombre_exposed        565\n",
    "nombre_recovered    16096\n",
    "Name: 437, dtype: int64"
   ]
  },
  {
   "cell_type": "markdown",
   "id": "39f60454",
   "metadata": {},
   "source": [
    "nombre_infected      1003\n",
    "nombre_sain          2281\n",
    "nombre_exposed        599\n",
    "nombre_recovered    16117\n",
    "Name: 438, dtype: int64"
   ]
  },
  {
   "cell_type": "markdown",
   "id": "cfb59d50",
   "metadata": {},
   "source": [
    "nombre_infected      1030\n",
    "nombre_sain          2281\n",
    "nombre_exposed        587\n",
    "nombre_recovered    16102\n",
    "Name: 439, dtype: int64"
   ]
  },
  {
   "cell_type": "markdown",
   "id": "eb039362",
   "metadata": {},
   "source": [
    "nombre_infected      1048\n",
    "nombre_sain          2268\n",
    "nombre_exposed        565\n",
    "nombre_recovered    16119\n",
    "Name: 440, dtype: int64"
   ]
  },
  {
   "cell_type": "markdown",
   "id": "3fc8a476",
   "metadata": {},
   "source": [
    "nombre_infected      1046\n",
    "nombre_sain          2252\n",
    "nombre_exposed        560\n",
    "nombre_recovered    16142\n",
    "Name: 441, dtype: int64"
   ]
  },
  {
   "cell_type": "markdown",
   "id": "c782d040",
   "metadata": {},
   "source": [
    "nombre_infected      1024\n",
    "nombre_sain          2223\n",
    "nombre_exposed        574\n",
    "nombre_recovered    16179\n",
    "Name: 442, dtype: int64"
   ]
  },
  {
   "cell_type": "markdown",
   "id": "8c0a5b2d",
   "metadata": {},
   "source": [
    "nombre_infected      1026\n",
    "nombre_sain          2212\n",
    "nombre_exposed        584\n",
    "nombre_recovered    16178\n",
    "Name: 443, dtype: int64"
   ]
  },
  {
   "cell_type": "markdown",
   "id": "542f9c95",
   "metadata": {},
   "source": [
    "nombre_infected      1047\n",
    "nombre_sain          2186\n",
    "nombre_exposed        583\n",
    "nombre_recovered    16184\n",
    "Name: 444, dtype: int64"
   ]
  },
  {
   "cell_type": "markdown",
   "id": "262e4c57",
   "metadata": {},
   "source": [
    "nombre_infected      1055\n",
    "nombre_sain          2176\n",
    "nombre_exposed        578\n",
    "nombre_recovered    16191\n",
    "Name: 445, dtype: int64"
   ]
  },
  {
   "cell_type": "markdown",
   "id": "5ea69ab2",
   "metadata": {},
   "source": [
    "nombre_infected      1076\n",
    "nombre_sain          2169\n",
    "nombre_exposed        572\n",
    "nombre_recovered    16183\n",
    "Name: 446, dtype: int64"
   ]
  },
  {
   "cell_type": "markdown",
   "id": "fcf850e7",
   "metadata": {},
   "source": [
    "nombre_infected      1059\n",
    "nombre_sain          2173\n",
    "nombre_exposed        566\n",
    "nombre_recovered    16202\n",
    "Name: 447, dtype: int64"
   ]
  },
  {
   "cell_type": "markdown",
   "id": "594a1f0e",
   "metadata": {},
   "source": [
    "nombre_infected      1083\n",
    "nombre_sain          2170\n",
    "nombre_exposed        556\n",
    "nombre_recovered    16191\n",
    "Name: 448, dtype: int64"
   ]
  },
  {
   "cell_type": "markdown",
   "id": "1c527418",
   "metadata": {},
   "source": [
    "nombre_infected      1087\n",
    "nombre_sain          2147\n",
    "nombre_exposed        558\n",
    "nombre_recovered    16208\n",
    "Name: 449, dtype: int64"
   ]
  },
  {
   "cell_type": "markdown",
   "id": "d1bf41ec",
   "metadata": {},
   "source": [
    "nombre_infected      1070\n",
    "nombre_sain          2150\n",
    "nombre_exposed        560\n",
    "nombre_recovered    16220\n",
    "Name: 450, dtype: int64"
   ]
  },
  {
   "cell_type": "markdown",
   "id": "47d49120",
   "metadata": {},
   "source": [
    "nombre_infected      1056\n",
    "nombre_sain          2142\n",
    "nombre_exposed        586\n",
    "nombre_recovered    16216\n",
    "Name: 451, dtype: int64"
   ]
  },
  {
   "cell_type": "markdown",
   "id": "48684008",
   "metadata": {},
   "source": [
    "nombre_infected      1063\n",
    "nombre_sain          2118\n",
    "nombre_exposed        580\n",
    "nombre_recovered    16239\n",
    "Name: 452, dtype: int64"
   ]
  },
  {
   "cell_type": "markdown",
   "id": "37f93a47",
   "metadata": {},
   "source": [
    "nombre_infected      1055\n",
    "nombre_sain          2107\n",
    "nombre_exposed        586\n",
    "nombre_recovered    16252\n",
    "Name: 453, dtype: int64"
   ]
  },
  {
   "cell_type": "markdown",
   "id": "16eae983",
   "metadata": {},
   "source": [
    "nombre_infected      1055\n",
    "nombre_sain          2096\n",
    "nombre_exposed        585\n",
    "nombre_recovered    16264\n",
    "Name: 454, dtype: int64"
   ]
  },
  {
   "cell_type": "markdown",
   "id": "79f8f87c",
   "metadata": {},
   "source": [
    "nombre_infected      1048\n",
    "nombre_sain          2107\n",
    "nombre_exposed        560\n",
    "nombre_recovered    16285\n",
    "Name: 455, dtype: int64"
   ]
  },
  {
   "cell_type": "markdown",
   "id": "f10048c9",
   "metadata": {},
   "source": [
    "nombre_infected      1042\n",
    "nombre_sain          2108\n",
    "nombre_exposed        556\n",
    "nombre_recovered    16294\n",
    "Name: 456, dtype: int64"
   ]
  },
  {
   "cell_type": "markdown",
   "id": "bc799a96",
   "metadata": {},
   "source": [
    "nombre_infected      1038\n",
    "nombre_sain          2079\n",
    "nombre_exposed        573\n",
    "nombre_recovered    16310\n",
    "Name: 457, dtype: int64"
   ]
  },
  {
   "cell_type": "markdown",
   "id": "33b1adba",
   "metadata": {},
   "source": [
    "nombre_infected      1025\n",
    "nombre_sain          2071\n",
    "nombre_exposed        563\n",
    "nombre_recovered    16341\n",
    "Name: 458, dtype: int64"
   ]
  },
  {
   "cell_type": "markdown",
   "id": "c031b522",
   "metadata": {},
   "source": [
    "nombre_infected      1037\n",
    "nombre_sain          2050\n",
    "nombre_exposed        561\n",
    "nombre_recovered    16352\n",
    "Name: 459, dtype: int64"
   ]
  },
  {
   "cell_type": "markdown",
   "id": "f5b23da6",
   "metadata": {},
   "source": [
    "nombre_infected      1024\n",
    "nombre_sain          2045\n",
    "nombre_exposed        561\n",
    "nombre_recovered    16370\n",
    "Name: 460, dtype: int64"
   ]
  },
  {
   "cell_type": "markdown",
   "id": "04a3e9be",
   "metadata": {},
   "source": [
    "nombre_infected      1043\n",
    "nombre_sain          2042\n",
    "nombre_exposed        536\n",
    "nombre_recovered    16379\n",
    "Name: 461, dtype: int64"
   ]
  },
  {
   "cell_type": "markdown",
   "id": "22807ab6",
   "metadata": {},
   "source": [
    "nombre_infected      1051\n",
    "nombre_sain          2038\n",
    "nombre_exposed        540\n",
    "nombre_recovered    16371\n",
    "Name: 462, dtype: int64"
   ]
  },
  {
   "cell_type": "markdown",
   "id": "06fefc0b",
   "metadata": {},
   "source": [
    "nombre_infected      1038\n",
    "nombre_sain          2034\n",
    "nombre_exposed        540\n",
    "nombre_recovered    16388\n",
    "Name: 463, dtype: int64"
   ]
  },
  {
   "cell_type": "markdown",
   "id": "5c8a7e43",
   "metadata": {},
   "source": [
    "nombre_infected      1009\n",
    "nombre_sain          2042\n",
    "nombre_exposed        551\n",
    "nombre_recovered    16398\n",
    "Name: 464, dtype: int64"
   ]
  },
  {
   "cell_type": "markdown",
   "id": "ea4f17e6",
   "metadata": {},
   "source": [
    "nombre_infected      1020\n",
    "nombre_sain          2046\n",
    "nombre_exposed        531\n",
    "nombre_recovered    16403\n",
    "Name: 465, dtype: int64"
   ]
  },
  {
   "cell_type": "markdown",
   "id": "4f579a5c",
   "metadata": {},
   "source": [
    "nombre_infected      1030\n",
    "nombre_sain          2026\n",
    "nombre_exposed        528\n",
    "nombre_recovered    16416\n",
    "Name: 466, dtype: int64"
   ]
  },
  {
   "cell_type": "markdown",
   "id": "dfb51a82",
   "metadata": {},
   "source": [
    "nombre_infected      1015\n",
    "nombre_sain          2014\n",
    "nombre_exposed        519\n",
    "nombre_recovered    16452\n",
    "Name: 467, dtype: int64"
   ]
  },
  {
   "cell_type": "markdown",
   "id": "0804fc3a",
   "metadata": {},
   "source": [
    "nombre_infected       979\n",
    "nombre_sain          1996\n",
    "nombre_exposed        527\n",
    "nombre_recovered    16498\n",
    "Name: 468, dtype: int64"
   ]
  },
  {
   "cell_type": "markdown",
   "id": "0f300f09",
   "metadata": {},
   "source": [
    "nombre_infected       957\n",
    "nombre_sain          1996\n",
    "nombre_exposed        517\n",
    "nombre_recovered    16530\n",
    "Name: 469, dtype: int64"
   ]
  },
  {
   "cell_type": "markdown",
   "id": "52f7db1e",
   "metadata": {},
   "source": [
    "nombre_infected       962\n",
    "nombre_sain          1990\n",
    "nombre_exposed        518\n",
    "nombre_recovered    16530\n",
    "Name: 470, dtype: int64"
   ]
  },
  {
   "cell_type": "markdown",
   "id": "325a8de7",
   "metadata": {},
   "source": [
    "nombre_infected       960\n",
    "nombre_sain          2025\n",
    "nombre_exposed        461\n",
    "nombre_recovered    16554\n",
    "Name: 471, dtype: int64"
   ]
  },
  {
   "cell_type": "markdown",
   "id": "0ada7fd7",
   "metadata": {},
   "source": [
    "nombre_infected       951\n",
    "nombre_sain          2046\n",
    "nombre_exposed        456\n",
    "nombre_recovered    16547\n",
    "Name: 472, dtype: int64"
   ]
  },
  {
   "cell_type": "markdown",
   "id": "c36a622d",
   "metadata": {},
   "source": [
    "nombre_infected       935\n",
    "nombre_sain          2059\n",
    "nombre_exposed        451\n",
    "nombre_recovered    16555\n",
    "Name: 473, dtype: int64"
   ]
  },
  {
   "cell_type": "markdown",
   "id": "a5443455",
   "metadata": {},
   "source": [
    "nombre_infected       943\n",
    "nombre_sain          2068\n",
    "nombre_exposed        451\n",
    "nombre_recovered    16538\n",
    "Name: 474, dtype: int64"
   ]
  },
  {
   "cell_type": "markdown",
   "id": "5ab32b8e",
   "metadata": {},
   "source": [
    "nombre_infected       919\n",
    "nombre_sain          2069\n",
    "nombre_exposed        453\n",
    "nombre_recovered    16559\n",
    "Name: 475, dtype: int64"
   ]
  },
  {
   "cell_type": "markdown",
   "id": "f93d39c5",
   "metadata": {},
   "source": [
    "nombre_infected       909\n",
    "nombre_sain          2107\n",
    "nombre_exposed        432\n",
    "nombre_recovered    16552\n",
    "Name: 476, dtype: int64"
   ]
  },
  {
   "cell_type": "markdown",
   "id": "7b6b2654",
   "metadata": {},
   "source": [
    "nombre_infected       911\n",
    "nombre_sain          2109\n",
    "nombre_exposed        422\n",
    "nombre_recovered    16558\n",
    "Name: 477, dtype: int64"
   ]
  },
  {
   "cell_type": "markdown",
   "id": "85d75c5a",
   "metadata": {},
   "source": [
    "nombre_infected       872\n",
    "nombre_sain          2103\n",
    "nombre_exposed        444\n",
    "nombre_recovered    16581\n",
    "Name: 478, dtype: int64"
   ]
  },
  {
   "cell_type": "markdown",
   "id": "0a6362eb",
   "metadata": {},
   "source": [
    "nombre_infected       857\n",
    "nombre_sain          2141\n",
    "nombre_exposed        414\n",
    "nombre_recovered    16588\n",
    "Name: 479, dtype: int64"
   ]
  },
  {
   "cell_type": "markdown",
   "id": "527b13a0",
   "metadata": {},
   "source": [
    "nombre_infected       838\n",
    "nombre_sain          2140\n",
    "nombre_exposed        429\n",
    "nombre_recovered    16593\n",
    "Name: 480, dtype: int64"
   ]
  },
  {
   "cell_type": "markdown",
   "id": "9afb73cc",
   "metadata": {},
   "source": [
    "nombre_infected       844\n",
    "nombre_sain          2178\n",
    "nombre_exposed        414\n",
    "nombre_recovered    16564\n",
    "Name: 481, dtype: int64"
   ]
  },
  {
   "cell_type": "markdown",
   "id": "5cfae5fa",
   "metadata": {},
   "source": [
    "nombre_infected       835\n",
    "nombre_sain          2178\n",
    "nombre_exposed        417\n",
    "nombre_recovered    16570\n",
    "Name: 482, dtype: int64"
   ]
  },
  {
   "cell_type": "markdown",
   "id": "3f1595da",
   "metadata": {},
   "source": [
    "nombre_infected       820\n",
    "nombre_sain          2182\n",
    "nombre_exposed        435\n",
    "nombre_recovered    16563\n",
    "Name: 483, dtype: int64"
   ]
  },
  {
   "cell_type": "markdown",
   "id": "9b790a0f",
   "metadata": {},
   "source": [
    "nombre_infected       818\n",
    "nombre_sain          2204\n",
    "nombre_exposed        447\n",
    "nombre_recovered    16531\n",
    "Name: 484, dtype: int64"
   ]
  },
  {
   "cell_type": "markdown",
   "id": "b61958cd",
   "metadata": {},
   "source": [
    "nombre_infected       837\n",
    "nombre_sain          2209\n",
    "nombre_exposed        418\n",
    "nombre_recovered    16536\n",
    "Name: 485, dtype: int64"
   ]
  },
  {
   "cell_type": "markdown",
   "id": "0314c7a1",
   "metadata": {},
   "source": [
    "nombre_infected       833\n",
    "nombre_sain          2239\n",
    "nombre_exposed        407\n",
    "nombre_recovered    16521\n",
    "Name: 486, dtype: int64"
   ]
  },
  {
   "cell_type": "markdown",
   "id": "c20dc5cb",
   "metadata": {},
   "source": [
    "nombre_infected       828\n",
    "nombre_sain          2255\n",
    "nombre_exposed        431\n",
    "nombre_recovered    16486\n",
    "Name: 487, dtype: int64"
   ]
  },
  {
   "cell_type": "markdown",
   "id": "bab292f6",
   "metadata": {},
   "source": [
    "nombre_infected       845\n",
    "nombre_sain          2279\n",
    "nombre_exposed        419\n",
    "nombre_recovered    16457\n",
    "Name: 488, dtype: int64"
   ]
  },
  {
   "cell_type": "markdown",
   "id": "6125b184",
   "metadata": {},
   "source": [
    "nombre_infected       808\n",
    "nombre_sain          2287\n",
    "nombre_exposed        443\n",
    "nombre_recovered    16462\n",
    "Name: 489, dtype: int64"
   ]
  },
  {
   "cell_type": "markdown",
   "id": "1babc50b",
   "metadata": {},
   "source": [
    "nombre_infected       819\n",
    "nombre_sain          2299\n",
    "nombre_exposed        439\n",
    "nombre_recovered    16443\n",
    "Name: 490, dtype: int64"
   ]
  },
  {
   "cell_type": "markdown",
   "id": "6ff4e408",
   "metadata": {},
   "source": [
    "nombre_infected       821\n",
    "nombre_sain          2300\n",
    "nombre_exposed        435\n",
    "nombre_recovered    16444\n",
    "Name: 491, dtype: int64"
   ]
  },
  {
   "cell_type": "markdown",
   "id": "f16c91d8",
   "metadata": {},
   "source": [
    "nombre_infected       793\n",
    "nombre_sain          2323\n",
    "nombre_exposed        448\n",
    "nombre_recovered    16436\n",
    "Name: 492, dtype: int64"
   ]
  },
  {
   "cell_type": "markdown",
   "id": "71c3080c",
   "metadata": {},
   "source": [
    "nombre_infected       814\n",
    "nombre_sain          2330\n",
    "nombre_exposed        439\n",
    "nombre_recovered    16417\n",
    "Name: 493, dtype: int64"
   ]
  },
  {
   "cell_type": "markdown",
   "id": "ca8165e9",
   "metadata": {},
   "source": [
    "nombre_infected       806\n",
    "nombre_sain          2345\n",
    "nombre_exposed        434\n",
    "nombre_recovered    16415\n",
    "Name: 494, dtype: int64"
   ]
  },
  {
   "cell_type": "markdown",
   "id": "16e325a6",
   "metadata": {},
   "source": [
    "nombre_infected       795\n",
    "nombre_sain          2358\n",
    "nombre_exposed        451\n",
    "nombre_recovered    16396\n",
    "Name: 495, dtype: int64"
   ]
  },
  {
   "cell_type": "markdown",
   "id": "9ad751bc",
   "metadata": {},
   "source": [
    "nombre_infected       794\n",
    "nombre_sain          2373\n",
    "nombre_exposed        451\n",
    "nombre_recovered    16382\n",
    "Name: 496, dtype: int64"
   ]
  },
  {
   "cell_type": "markdown",
   "id": "ff07125c",
   "metadata": {},
   "source": [
    "nombre_infected       827\n",
    "nombre_sain          2377\n",
    "nombre_exposed        452\n",
    "nombre_recovered    16344\n",
    "Name: 497, dtype: int64"
   ]
  },
  {
   "cell_type": "markdown",
   "id": "8c1f395c",
   "metadata": {},
   "source": [
    "nombre_infected       829\n",
    "nombre_sain          2379\n",
    "nombre_exposed        448\n",
    "nombre_recovered    16344\n",
    "Name: 498, dtype: int64"
   ]
  },
  {
   "cell_type": "markdown",
   "id": "116e2491",
   "metadata": {},
   "source": [
    "nombre_infected       830\n",
    "nombre_sain          2409\n",
    "nombre_exposed        453\n",
    "nombre_recovered    16308\n",
    "Name: 499, dtype: int64"
   ]
  },
  {
   "cell_type": "markdown",
   "id": "0df19c42",
   "metadata": {},
   "source": [
    "nombre_infected       852\n",
    "nombre_sain          2392\n",
    "nombre_exposed        455\n",
    "nombre_recovered    16301\n",
    "Name: 500, dtype: int64"
   ]
  },
  {
   "cell_type": "markdown",
   "id": "16aba43b",
   "metadata": {},
   "source": [
    "nombre_infected       838\n",
    "nombre_sain          2384\n",
    "nombre_exposed        483\n",
    "nombre_recovered    16295\n",
    "Name: 501, dtype: int64"
   ]
  },
  {
   "cell_type": "markdown",
   "id": "38cc6936",
   "metadata": {},
   "source": [
    "nombre_infected       847\n",
    "nombre_sain          2386\n",
    "nombre_exposed        482\n",
    "nombre_recovered    16285\n",
    "Name: 502, dtype: int64"
   ]
  },
  {
   "cell_type": "markdown",
   "id": "61d94f10",
   "metadata": {},
   "source": [
    "nombre_infected       858\n",
    "nombre_sain          2355\n",
    "nombre_exposed        507\n",
    "nombre_recovered    16280\n",
    "Name: 503, dtype: int64"
   ]
  },
  {
   "cell_type": "markdown",
   "id": "0ab929d1",
   "metadata": {},
   "source": [
    "nombre_infected       887\n",
    "nombre_sain          2360\n",
    "nombre_exposed        490\n",
    "nombre_recovered    16263\n",
    "Name: 504, dtype: int64"
   ]
  },
  {
   "cell_type": "markdown",
   "id": "b69d7038",
   "metadata": {},
   "source": [
    "nombre_infected       894\n",
    "nombre_sain          2372\n",
    "nombre_exposed        492\n",
    "nombre_recovered    16242\n",
    "Name: 505, dtype: int64"
   ]
  },
  {
   "cell_type": "markdown",
   "id": "ebbbb02d",
   "metadata": {},
   "source": [
    "nombre_infected       894\n",
    "nombre_sain          2350\n",
    "nombre_exposed        500\n",
    "nombre_recovered    16256\n",
    "Name: 506, dtype: int64"
   ]
  },
  {
   "cell_type": "markdown",
   "id": "c31310e7",
   "metadata": {},
   "source": [
    "nombre_infected       905\n",
    "nombre_sain          2337\n",
    "nombre_exposed        501\n",
    "nombre_recovered    16257\n",
    "Name: 507, dtype: int64"
   ]
  },
  {
   "cell_type": "markdown",
   "id": "1f333937",
   "metadata": {},
   "source": [
    "nombre_infected       922\n",
    "nombre_sain          2334\n",
    "nombre_exposed        495\n",
    "nombre_recovered    16249\n",
    "Name: 508, dtype: int64"
   ]
  },
  {
   "cell_type": "markdown",
   "id": "8a5b4db4",
   "metadata": {},
   "source": [
    "nombre_infected       929\n",
    "nombre_sain          2343\n",
    "nombre_exposed        498\n",
    "nombre_recovered    16230\n",
    "Name: 509, dtype: int64"
   ]
  },
  {
   "cell_type": "markdown",
   "id": "981b3810",
   "metadata": {},
   "source": [
    "nombre_infected       937\n",
    "nombre_sain          2351\n",
    "nombre_exposed        492\n",
    "nombre_recovered    16220\n",
    "Name: 510, dtype: int64"
   ]
  },
  {
   "cell_type": "markdown",
   "id": "2836c8f6",
   "metadata": {},
   "source": [
    "nombre_infected       922\n",
    "nombre_sain          2348\n",
    "nombre_exposed        518\n",
    "nombre_recovered    16212\n",
    "Name: 511, dtype: int64"
   ]
  },
  {
   "cell_type": "markdown",
   "id": "98874743",
   "metadata": {},
   "source": [
    "nombre_infected       920\n",
    "nombre_sain          2353\n",
    "nombre_exposed        523\n",
    "nombre_recovered    16204\n",
    "Name: 512, dtype: int64"
   ]
  },
  {
   "cell_type": "markdown",
   "id": "c13b775a",
   "metadata": {},
   "source": [
    "nombre_infected       949\n",
    "nombre_sain          2348\n",
    "nombre_exposed        512\n",
    "nombre_recovered    16191\n",
    "Name: 513, dtype: int64"
   ]
  },
  {
   "cell_type": "markdown",
   "id": "26d4a223",
   "metadata": {},
   "source": [
    "nombre_infected       971\n",
    "nombre_sain          2328\n",
    "nombre_exposed        512\n",
    "nombre_recovered    16189\n",
    "Name: 514, dtype: int64"
   ]
  },
  {
   "cell_type": "markdown",
   "id": "bef45e8b",
   "metadata": {},
   "source": [
    "nombre_infected       955\n",
    "nombre_sain          2294\n",
    "nombre_exposed        524\n",
    "nombre_recovered    16227\n",
    "Name: 515, dtype: int64"
   ]
  },
  {
   "cell_type": "markdown",
   "id": "bf122892",
   "metadata": {},
   "source": [
    "nombre_infected       965\n",
    "nombre_sain          2284\n",
    "nombre_exposed        532\n",
    "nombre_recovered    16219\n",
    "Name: 516, dtype: int64"
   ]
  },
  {
   "cell_type": "markdown",
   "id": "1286bbc7",
   "metadata": {},
   "source": [
    "nombre_infected       992\n",
    "nombre_sain          2270\n",
    "nombre_exposed        500\n",
    "nombre_recovered    16238\n",
    "Name: 517, dtype: int64"
   ]
  },
  {
   "cell_type": "markdown",
   "id": "3dd79007",
   "metadata": {},
   "source": [
    "nombre_infected       993\n",
    "nombre_sain          2248\n",
    "nombre_exposed        502\n",
    "nombre_recovered    16257\n",
    "Name: 518, dtype: int64"
   ]
  },
  {
   "cell_type": "markdown",
   "id": "29240090",
   "metadata": {},
   "source": [
    "nombre_infected       989\n",
    "nombre_sain          2277\n",
    "nombre_exposed        487\n",
    "nombre_recovered    16247\n",
    "Name: 519, dtype: int64"
   ]
  },
  {
   "cell_type": "markdown",
   "id": "fc0e1ad6",
   "metadata": {},
   "source": [
    "nombre_infected       992\n",
    "nombre_sain          2255\n",
    "nombre_exposed        488\n",
    "nombre_recovered    16265\n",
    "Name: 520, dtype: int64"
   ]
  },
  {
   "cell_type": "markdown",
   "id": "992db3e7",
   "metadata": {},
   "source": [
    "nombre_infected       996\n",
    "nombre_sain          2222\n",
    "nombre_exposed        509\n",
    "nombre_recovered    16273\n",
    "Name: 521, dtype: int64"
   ]
  },
  {
   "cell_type": "markdown",
   "id": "484143e1",
   "metadata": {},
   "source": [
    "nombre_infected       993\n",
    "nombre_sain          2206\n",
    "nombre_exposed        536\n",
    "nombre_recovered    16265\n",
    "Name: 522, dtype: int64"
   ]
  },
  {
   "cell_type": "markdown",
   "id": "f22384c9",
   "metadata": {},
   "source": [
    "nombre_infected       998\n",
    "nombre_sain          2201\n",
    "nombre_exposed        520\n",
    "nombre_recovered    16281\n",
    "Name: 523, dtype: int64"
   ]
  },
  {
   "cell_type": "markdown",
   "id": "7932e2eb",
   "metadata": {},
   "source": [
    "nombre_infected      1015\n",
    "nombre_sain          2186\n",
    "nombre_exposed        520\n",
    "nombre_recovered    16279\n",
    "Name: 524, dtype: int64"
   ]
  },
  {
   "cell_type": "markdown",
   "id": "34487c75",
   "metadata": {},
   "source": [
    "nombre_infected      1013\n",
    "nombre_sain          2197\n",
    "nombre_exposed        503\n",
    "nombre_recovered    16287\n",
    "Name: 525, dtype: int64"
   ]
  },
  {
   "cell_type": "markdown",
   "id": "1560c00a",
   "metadata": {},
   "source": [
    "nombre_infected      1007\n",
    "nombre_sain          2161\n",
    "nombre_exposed        512\n",
    "nombre_recovered    16320\n",
    "Name: 526, dtype: int64"
   ]
  },
  {
   "cell_type": "markdown",
   "id": "6f44c1fc",
   "metadata": {},
   "source": [
    "nombre_infected       998\n",
    "nombre_sain          2168\n",
    "nombre_exposed        524\n",
    "nombre_recovered    16310\n",
    "Name: 527, dtype: int64"
   ]
  },
  {
   "cell_type": "markdown",
   "id": "7654c5f7",
   "metadata": {},
   "source": [
    "nombre_infected      1006\n",
    "nombre_sain          2157\n",
    "nombre_exposed        514\n",
    "nombre_recovered    16323\n",
    "Name: 528, dtype: int64"
   ]
  },
  {
   "cell_type": "markdown",
   "id": "3d6711fa",
   "metadata": {},
   "source": [
    "nombre_infected      1021\n",
    "nombre_sain          2146\n",
    "nombre_exposed        527\n",
    "nombre_recovered    16306\n",
    "Name: 529, dtype: int64"
   ]
  },
  {
   "cell_type": "markdown",
   "id": "3d91fae4",
   "metadata": {},
   "source": [
    "nombre_infected      1018\n",
    "nombre_sain          2177\n",
    "nombre_exposed        502\n",
    "nombre_recovered    16303\n",
    "Name: 530, dtype: int64"
   ]
  },
  {
   "cell_type": "markdown",
   "id": "ffe4ec55",
   "metadata": {},
   "source": [
    "nombre_infected       998\n",
    "nombre_sain          2181\n",
    "nombre_exposed        499\n",
    "nombre_recovered    16322\n",
    "Name: 531, dtype: int64"
   ]
  },
  {
   "cell_type": "markdown",
   "id": "0be849b7",
   "metadata": {},
   "source": [
    "nombre_infected       970\n",
    "nombre_sain          2158\n",
    "nombre_exposed        529\n",
    "nombre_recovered    16343\n",
    "Name: 532, dtype: int64"
   ]
  },
  {
   "cell_type": "markdown",
   "id": "572e5b0d",
   "metadata": {},
   "source": [
    "nombre_infected       978\n",
    "nombre_sain          2151\n",
    "nombre_exposed        519\n",
    "nombre_recovered    16352\n",
    "Name: 533, dtype: int64"
   ]
  },
  {
   "cell_type": "markdown",
   "id": "b7a58dc4",
   "metadata": {},
   "source": [
    "nombre_infected       993\n",
    "nombre_sain          2171\n",
    "nombre_exposed        505\n",
    "nombre_recovered    16331\n",
    "Name: 534, dtype: int64"
   ]
  },
  {
   "cell_type": "markdown",
   "id": "5f4a2ca5",
   "metadata": {},
   "source": [
    "nombre_infected       978\n",
    "nombre_sain          2173\n",
    "nombre_exposed        516\n",
    "nombre_recovered    16333\n",
    "Name: 535, dtype: int64"
   ]
  },
  {
   "cell_type": "markdown",
   "id": "8be413cf",
   "metadata": {},
   "source": [
    "nombre_infected       956\n",
    "nombre_sain          2206\n",
    "nombre_exposed        498\n",
    "nombre_recovered    16340\n",
    "Name: 536, dtype: int64"
   ]
  },
  {
   "cell_type": "markdown",
   "id": "ad0bfe79",
   "metadata": {},
   "source": [
    "nombre_infected       953\n",
    "nombre_sain          2207\n",
    "nombre_exposed        489\n",
    "nombre_recovered    16351\n",
    "Name: 537, dtype: int64"
   ]
  },
  {
   "cell_type": "markdown",
   "id": "c99bef47",
   "metadata": {},
   "source": [
    "nombre_infected       969\n",
    "nombre_sain          2215\n",
    "nombre_exposed        482\n",
    "nombre_recovered    16334\n",
    "Name: 538, dtype: int64"
   ]
  },
  {
   "cell_type": "markdown",
   "id": "54546f1c",
   "metadata": {},
   "source": [
    "nombre_infected       955\n",
    "nombre_sain          2211\n",
    "nombre_exposed        517\n",
    "nombre_recovered    16317\n",
    "Name: 539, dtype: int64"
   ]
  },
  {
   "cell_type": "markdown",
   "id": "d05d3018",
   "metadata": {},
   "source": [
    "nombre_infected       964\n",
    "nombre_sain          2233\n",
    "nombre_exposed        500\n",
    "nombre_recovered    16303\n",
    "Name: 540, dtype: int64"
   ]
  },
  {
   "cell_type": "markdown",
   "id": "cebcc52a",
   "metadata": {},
   "source": [
    "nombre_infected       951\n",
    "nombre_sain          2230\n",
    "nombre_exposed        528\n",
    "nombre_recovered    16291\n",
    "Name: 541, dtype: int64"
   ]
  },
  {
   "cell_type": "markdown",
   "id": "de45dd66",
   "metadata": {},
   "source": [
    "nombre_infected       941\n",
    "nombre_sain          2242\n",
    "nombre_exposed        548\n",
    "nombre_recovered    16269\n",
    "Name: 542, dtype: int64"
   ]
  },
  {
   "cell_type": "markdown",
   "id": "2070cb77",
   "metadata": {},
   "source": [
    "nombre_infected       953\n",
    "nombre_sain          2253\n",
    "nombre_exposed        547\n",
    "nombre_recovered    16247\n",
    "Name: 543, dtype: int64"
   ]
  },
  {
   "cell_type": "markdown",
   "id": "1f60caff",
   "metadata": {},
   "source": [
    "nombre_infected       972\n",
    "nombre_sain          2221\n",
    "nombre_exposed        568\n",
    "nombre_recovered    16239\n",
    "Name: 544, dtype: int64"
   ]
  },
  {
   "cell_type": "markdown",
   "id": "f2bc39bc",
   "metadata": {},
   "source": [
    "nombre_infected       999\n",
    "nombre_sain          2215\n",
    "nombre_exposed        565\n",
    "nombre_recovered    16221\n",
    "Name: 545, dtype: int64"
   ]
  },
  {
   "cell_type": "markdown",
   "id": "bcccbf69",
   "metadata": {},
   "source": [
    "nombre_infected      1009\n",
    "nombre_sain          2231\n",
    "nombre_exposed        550\n",
    "nombre_recovered    16210\n",
    "Name: 546, dtype: int64"
   ]
  },
  {
   "cell_type": "markdown",
   "id": "b22883b0",
   "metadata": {},
   "source": [
    "nombre_infected      1021\n",
    "nombre_sain          2219\n",
    "nombre_exposed        550\n",
    "nombre_recovered    16210\n",
    "Name: 547, dtype: int64"
   ]
  },
  {
   "cell_type": "markdown",
   "id": "5bb9c77b",
   "metadata": {},
   "source": [
    "nombre_infected      1026\n",
    "nombre_sain          2208\n",
    "nombre_exposed        560\n",
    "nombre_recovered    16206\n",
    "Name: 548, dtype: int64"
   ]
  },
  {
   "cell_type": "markdown",
   "id": "939e4892",
   "metadata": {},
   "source": [
    "nombre_infected      1019\n",
    "nombre_sain          2179\n",
    "nombre_exposed        588\n",
    "nombre_recovered    16214\n",
    "Name: 549, dtype: int64"
   ]
  },
  {
   "cell_type": "markdown",
   "id": "5f45b44b",
   "metadata": {},
   "source": [
    "nombre_infected      1031\n",
    "nombre_sain          2186\n",
    "nombre_exposed        587\n",
    "nombre_recovered    16196\n",
    "Name: 550, dtype: int64"
   ]
  },
  {
   "cell_type": "markdown",
   "id": "be66b970",
   "metadata": {},
   "source": [
    "nombre_infected      1025\n",
    "nombre_sain          2162\n",
    "nombre_exposed        595\n",
    "nombre_recovered    16218\n",
    "Name: 551, dtype: int64"
   ]
  },
  {
   "cell_type": "markdown",
   "id": "6e92e708",
   "metadata": {},
   "source": [
    "nombre_infected      1049\n",
    "nombre_sain          2159\n",
    "nombre_exposed        555\n",
    "nombre_recovered    16237\n",
    "Name: 552, dtype: int64"
   ]
  },
  {
   "cell_type": "markdown",
   "id": "7169d081",
   "metadata": {},
   "source": [
    "nombre_infected      1062\n",
    "nombre_sain          2153\n",
    "nombre_exposed        558\n",
    "nombre_recovered    16227\n",
    "Name: 553, dtype: int64"
   ]
  },
  {
   "cell_type": "markdown",
   "id": "700c06cf",
   "metadata": {},
   "source": [
    "nombre_infected      1063\n",
    "nombre_sain          2112\n",
    "nombre_exposed        588\n",
    "nombre_recovered    16237\n",
    "Name: 554, dtype: int64"
   ]
  },
  {
   "cell_type": "markdown",
   "id": "a897044c",
   "metadata": {},
   "source": [
    "nombre_infected      1067\n",
    "nombre_sain          2067\n",
    "nombre_exposed        616\n",
    "nombre_recovered    16250\n",
    "Name: 555, dtype: int64"
   ]
  },
  {
   "cell_type": "markdown",
   "id": "29c76af0",
   "metadata": {},
   "source": [
    "nombre_infected      1092\n",
    "nombre_sain          2023\n",
    "nombre_exposed        615\n",
    "nombre_recovered    16270\n",
    "Name: 556, dtype: int64"
   ]
  },
  {
   "cell_type": "markdown",
   "id": "850c7311",
   "metadata": {},
   "source": [
    "nombre_infected      1126\n",
    "nombre_sain          2032\n",
    "nombre_exposed        572\n",
    "nombre_recovered    16270\n",
    "Name: 557, dtype: int64"
   ]
  },
  {
   "cell_type": "markdown",
   "id": "fba5909c",
   "metadata": {},
   "source": [
    "nombre_infected      1141\n",
    "nombre_sain          2004\n",
    "nombre_exposed        557\n",
    "nombre_recovered    16298\n",
    "Name: 558, dtype: int64"
   ]
  },
  {
   "cell_type": "markdown",
   "id": "fb4bf32a",
   "metadata": {},
   "source": [
    "nombre_infected      1132\n",
    "nombre_sain          2029\n",
    "nombre_exposed        528\n",
    "nombre_recovered    16311\n",
    "Name: 559, dtype: int64"
   ]
  },
  {
   "cell_type": "markdown",
   "id": "1bf5af0e",
   "metadata": {},
   "source": [
    "nombre_infected      1120\n",
    "nombre_sain          2010\n",
    "nombre_exposed        519\n",
    "nombre_recovered    16351\n",
    "Name: 560, dtype: int64"
   ]
  },
  {
   "cell_type": "markdown",
   "id": "0ef2ae30",
   "metadata": {},
   "source": [
    "nombre_infected      1109\n",
    "nombre_sain          2011\n",
    "nombre_exposed        523\n",
    "nombre_recovered    16357\n",
    "Name: 561, dtype: int64"
   ]
  },
  {
   "cell_type": "markdown",
   "id": "9159cd3e",
   "metadata": {},
   "source": [
    "nombre_infected      1122\n",
    "nombre_sain          2017\n",
    "nombre_exposed        501\n",
    "nombre_recovered    16360\n",
    "Name: 562, dtype: int64"
   ]
  },
  {
   "cell_type": "markdown",
   "id": "662718d4",
   "metadata": {},
   "source": [
    "nombre_infected      1105\n",
    "nombre_sain          2045\n",
    "nombre_exposed        487\n",
    "nombre_recovered    16363\n",
    "Name: 563, dtype: int64"
   ]
  },
  {
   "cell_type": "markdown",
   "id": "a8c48eba",
   "metadata": {},
   "source": [
    "nombre_infected      1075\n",
    "nombre_sain          2045\n",
    "nombre_exposed        496\n",
    "nombre_recovered    16384\n",
    "Name: 564, dtype: int64"
   ]
  },
  {
   "cell_type": "markdown",
   "id": "aea948f7",
   "metadata": {},
   "source": [
    "nombre_infected      1018\n",
    "nombre_sain          2052\n",
    "nombre_exposed        515\n",
    "nombre_recovered    16415\n",
    "Name: 565, dtype: int64"
   ]
  },
  {
   "cell_type": "markdown",
   "id": "04fa094f",
   "metadata": {},
   "source": [
    "nombre_infected      1013\n",
    "nombre_sain          2050\n",
    "nombre_exposed        512\n",
    "nombre_recovered    16425\n",
    "Name: 566, dtype: int64"
   ]
  },
  {
   "cell_type": "markdown",
   "id": "78b38d88",
   "metadata": {},
   "source": [
    "nombre_infected      1043\n",
    "nombre_sain          2029\n",
    "nombre_exposed        520\n",
    "nombre_recovered    16408\n",
    "Name: 567, dtype: int64"
   ]
  },
  {
   "cell_type": "markdown",
   "id": "d220654f",
   "metadata": {},
   "source": [
    "nombre_infected      1032\n",
    "nombre_sain          2061\n",
    "nombre_exposed        511\n",
    "nombre_recovered    16396\n",
    "Name: 568, dtype: int64"
   ]
  },
  {
   "cell_type": "markdown",
   "id": "b532b396",
   "metadata": {},
   "source": [
    "nombre_infected      1027\n",
    "nombre_sain          2074\n",
    "nombre_exposed        512\n",
    "nombre_recovered    16387\n",
    "Name: 569, dtype: int64"
   ]
  },
  {
   "cell_type": "markdown",
   "id": "2210c4f4",
   "metadata": {},
   "source": [
    "nombre_infected      1037\n",
    "nombre_sain          2094\n",
    "nombre_exposed        494\n",
    "nombre_recovered    16375\n",
    "Name: 570, dtype: int64"
   ]
  },
  {
   "cell_type": "markdown",
   "id": "7e0b88c9",
   "metadata": {},
   "source": [
    "nombre_infected      1029\n",
    "nombre_sain          2101\n",
    "nombre_exposed        503\n",
    "nombre_recovered    16367\n",
    "Name: 571, dtype: int64"
   ]
  },
  {
   "cell_type": "markdown",
   "id": "d036d9cb",
   "metadata": {},
   "source": [
    "nombre_infected      1018\n",
    "nombre_sain          2120\n",
    "nombre_exposed        495\n",
    "nombre_recovered    16367\n",
    "Name: 572, dtype: int64"
   ]
  },
  {
   "cell_type": "markdown",
   "id": "e5c20ee4",
   "metadata": {},
   "source": [
    "nombre_infected       988\n",
    "nombre_sain          2116\n",
    "nombre_exposed        517\n",
    "nombre_recovered    16379\n",
    "Name: 573, dtype: int64"
   ]
  },
  {
   "cell_type": "markdown",
   "id": "c0bd0dc7",
   "metadata": {},
   "source": [
    "nombre_infected       969\n",
    "nombre_sain          2127\n",
    "nombre_exposed        525\n",
    "nombre_recovered    16379\n",
    "Name: 574, dtype: int64"
   ]
  },
  {
   "cell_type": "markdown",
   "id": "e9ec77eb",
   "metadata": {},
   "source": [
    "nombre_infected       995\n",
    "nombre_sain          2148\n",
    "nombre_exposed        508\n",
    "nombre_recovered    16349\n",
    "Name: 575, dtype: int64"
   ]
  },
  {
   "cell_type": "markdown",
   "id": "b7918358",
   "metadata": {},
   "source": [
    "nombre_infected      1002\n",
    "nombre_sain          2137\n",
    "nombre_exposed        517\n",
    "nombre_recovered    16344\n",
    "Name: 576, dtype: int64"
   ]
  },
  {
   "cell_type": "markdown",
   "id": "7e14d1a9",
   "metadata": {},
   "source": [
    "nombre_infected       970\n",
    "nombre_sain          2134\n",
    "nombre_exposed        559\n",
    "nombre_recovered    16337\n",
    "Name: 577, dtype: int64"
   ]
  },
  {
   "cell_type": "markdown",
   "id": "6cc0b89f",
   "metadata": {},
   "source": [
    "nombre_infected       983\n",
    "nombre_sain          2135\n",
    "nombre_exposed        560\n",
    "nombre_recovered    16322\n",
    "Name: 578, dtype: int64"
   ]
  },
  {
   "cell_type": "markdown",
   "id": "21248434",
   "metadata": {},
   "source": [
    "nombre_infected       966\n",
    "nombre_sain          2121\n",
    "nombre_exposed        580\n",
    "nombre_recovered    16333\n",
    "Name: 579, dtype: int64"
   ]
  },
  {
   "cell_type": "markdown",
   "id": "54db641a",
   "metadata": {},
   "source": [
    "nombre_infected       996\n",
    "nombre_sain          2161\n",
    "nombre_exposed        541\n",
    "nombre_recovered    16302\n",
    "Name: 580, dtype: int64"
   ]
  },
  {
   "cell_type": "markdown",
   "id": "4886cbdb",
   "metadata": {},
   "source": [
    "nombre_infected      1014\n",
    "nombre_sain          2143\n",
    "nombre_exposed        555\n",
    "nombre_recovered    16288\n",
    "Name: 581, dtype: int64"
   ]
  },
  {
   "cell_type": "markdown",
   "id": "0da43d67",
   "metadata": {},
   "source": [
    "nombre_infected      1031\n",
    "nombre_sain          2148\n",
    "nombre_exposed        532\n",
    "nombre_recovered    16289\n",
    "Name: 582, dtype: int64"
   ]
  },
  {
   "cell_type": "markdown",
   "id": "3e0450e3",
   "metadata": {},
   "source": [
    "nombre_infected      1052\n",
    "nombre_sain          2191\n",
    "nombre_exposed        518\n",
    "nombre_recovered    16239\n",
    "Name: 583, dtype: int64"
   ]
  },
  {
   "cell_type": "markdown",
   "id": "4f5e699e",
   "metadata": {},
   "source": [
    "nombre_infected      1048\n",
    "nombre_sain          2186\n",
    "nombre_exposed        521\n",
    "nombre_recovered    16245\n",
    "Name: 584, dtype: int64"
   ]
  },
  {
   "cell_type": "markdown",
   "id": "1cf3433b",
   "metadata": {},
   "source": [
    "nombre_infected      1044\n",
    "nombre_sain          2200\n",
    "nombre_exposed        530\n",
    "nombre_recovered    16226\n",
    "Name: 585, dtype: int64"
   ]
  },
  {
   "cell_type": "markdown",
   "id": "276f06cb",
   "metadata": {},
   "source": [
    "nombre_infected      1026\n",
    "nombre_sain          2221\n",
    "nombre_exposed        537\n",
    "nombre_recovered    16216\n",
    "Name: 586, dtype: int64"
   ]
  },
  {
   "cell_type": "markdown",
   "id": "3dc35372",
   "metadata": {},
   "source": [
    "nombre_infected      1026\n",
    "nombre_sain          2192\n",
    "nombre_exposed        547\n",
    "nombre_recovered    16235\n",
    "Name: 587, dtype: int64"
   ]
  },
  {
   "cell_type": "markdown",
   "id": "af14a53a",
   "metadata": {},
   "source": [
    "nombre_infected      1042\n",
    "nombre_sain          2200\n",
    "nombre_exposed        538\n",
    "nombre_recovered    16220\n",
    "Name: 588, dtype: int64"
   ]
  },
  {
   "cell_type": "markdown",
   "id": "e282038b",
   "metadata": {},
   "source": [
    "nombre_infected      1068\n",
    "nombre_sain          2195\n",
    "nombre_exposed        541\n",
    "nombre_recovered    16196\n",
    "Name: 589, dtype: int64"
   ]
  },
  {
   "cell_type": "markdown",
   "id": "f24b90bc",
   "metadata": {},
   "source": [
    "nombre_infected      1060\n",
    "nombre_sain          2219\n",
    "nombre_exposed        538\n",
    "nombre_recovered    16183\n",
    "Name: 590, dtype: int64"
   ]
  },
  {
   "cell_type": "markdown",
   "id": "a5b8de8c",
   "metadata": {},
   "source": [
    "nombre_infected      1072\n",
    "nombre_sain          2219\n",
    "nombre_exposed        517\n",
    "nombre_recovered    16192\n",
    "Name: 591, dtype: int64"
   ]
  },
  {
   "cell_type": "markdown",
   "id": "ba49eb91",
   "metadata": {},
   "source": [
    "nombre_infected      1071\n",
    "nombre_sain          2204\n",
    "nombre_exposed        522\n",
    "nombre_recovered    16203\n",
    "Name: 592, dtype: int64"
   ]
  },
  {
   "cell_type": "markdown",
   "id": "d297fc95",
   "metadata": {},
   "source": [
    "nombre_infected      1042\n",
    "nombre_sain          2225\n",
    "nombre_exposed        526\n",
    "nombre_recovered    16207\n",
    "Name: 593, dtype: int64"
   ]
  },
  {
   "cell_type": "markdown",
   "id": "be866eb1",
   "metadata": {},
   "source": [
    "nombre_infected      1047\n",
    "nombre_sain          2209\n",
    "nombre_exposed        542\n",
    "nombre_recovered    16202\n",
    "Name: 594, dtype: int64"
   ]
  },
  {
   "cell_type": "markdown",
   "id": "61937cbc",
   "metadata": {},
   "source": [
    "nombre_infected      1052\n",
    "nombre_sain          2201\n",
    "nombre_exposed        541\n",
    "nombre_recovered    16206\n",
    "Name: 595, dtype: int64"
   ]
  },
  {
   "cell_type": "markdown",
   "id": "627ea742",
   "metadata": {},
   "source": [
    "nombre_infected      1054\n",
    "nombre_sain          2192\n",
    "nombre_exposed        534\n",
    "nombre_recovered    16220\n",
    "Name: 596, dtype: int64"
   ]
  },
  {
   "cell_type": "markdown",
   "id": "5533d296",
   "metadata": {},
   "source": [
    "nombre_infected      1053\n",
    "nombre_sain          2181\n",
    "nombre_exposed        541\n",
    "nombre_recovered    16225\n",
    "Name: 597, dtype: int64"
   ]
  },
  {
   "cell_type": "markdown",
   "id": "3df9cd92",
   "metadata": {},
   "source": [
    "nombre_infected      1067\n",
    "nombre_sain          2175\n",
    "nombre_exposed        528\n",
    "nombre_recovered    16230\n",
    "Name: 598, dtype: int64"
   ]
  },
  {
   "cell_type": "markdown",
   "id": "40b53388",
   "metadata": {},
   "source": [
    "nombre_infected      1049\n",
    "nombre_sain          2147\n",
    "nombre_exposed        562\n",
    "nombre_recovered    16242\n",
    "Name: 599, dtype: int64"
   ]
  },
  {
   "cell_type": "markdown",
   "id": "46d2ae6c",
   "metadata": {},
   "source": [
    "nombre_infected      1046\n",
    "nombre_sain          2107\n",
    "nombre_exposed        601\n",
    "nombre_recovered    16246\n",
    "Name: 600, dtype: int64"
   ]
  },
  {
   "cell_type": "markdown",
   "id": "e3674304",
   "metadata": {},
   "source": [
    "nombre_infected      1042\n",
    "nombre_sain          2100\n",
    "nombre_exposed        578\n",
    "nombre_recovered    16280\n",
    "Name: 601, dtype: int64"
   ]
  },
  {
   "cell_type": "markdown",
   "id": "43080cde",
   "metadata": {},
   "source": [
    "nombre_infected      1061\n",
    "nombre_sain          2079\n",
    "nombre_exposed        552\n",
    "nombre_recovered    16308\n",
    "Name: 602, dtype: int64"
   ]
  },
  {
   "cell_type": "markdown",
   "id": "079d6118",
   "metadata": {},
   "source": [
    "nombre_infected      1075\n",
    "nombre_sain          2087\n",
    "nombre_exposed        548\n",
    "nombre_recovered    16290\n",
    "Name: 603, dtype: int64"
   ]
  },
  {
   "cell_type": "markdown",
   "id": "969bb47c",
   "metadata": {},
   "source": [
    "nombre_infected      1103\n",
    "nombre_sain          2120\n",
    "nombre_exposed        521\n",
    "nombre_recovered    16256\n",
    "Name: 604, dtype: int64"
   ]
  },
  {
   "cell_type": "markdown",
   "id": "5f1e88fa",
   "metadata": {},
   "source": [
    "nombre_infected      1099\n",
    "nombre_sain          2109\n",
    "nombre_exposed        514\n",
    "nombre_recovered    16278\n",
    "Name: 605, dtype: int64"
   ]
  },
  {
   "cell_type": "markdown",
   "id": "1739a352",
   "metadata": {},
   "source": [
    "nombre_infected      1101\n",
    "nombre_sain          2090\n",
    "nombre_exposed        538\n",
    "nombre_recovered    16271\n",
    "Name: 606, dtype: int64"
   ]
  },
  {
   "cell_type": "markdown",
   "id": "606753cd",
   "metadata": {},
   "source": [
    "nombre_infected      1108\n",
    "nombre_sain          2114\n",
    "nombre_exposed        518\n",
    "nombre_recovered    16260\n",
    "Name: 607, dtype: int64"
   ]
  },
  {
   "cell_type": "markdown",
   "id": "01621521",
   "metadata": {},
   "source": [
    "nombre_infected      1088\n",
    "nombre_sain          2122\n",
    "nombre_exposed        518\n",
    "nombre_recovered    16272\n",
    "Name: 608, dtype: int64"
   ]
  },
  {
   "cell_type": "markdown",
   "id": "fe6b30ee",
   "metadata": {},
   "source": [
    "nombre_infected      1085\n",
    "nombre_sain          2136\n",
    "nombre_exposed        502\n",
    "nombre_recovered    16277\n",
    "Name: 609, dtype: int64"
   ]
  },
  {
   "cell_type": "markdown",
   "id": "9936b216",
   "metadata": {},
   "source": [
    "nombre_infected      1071\n",
    "nombre_sain          2114\n",
    "nombre_exposed        506\n",
    "nombre_recovered    16309\n",
    "Name: 610, dtype: int64"
   ]
  },
  {
   "cell_type": "markdown",
   "id": "9079ad55",
   "metadata": {},
   "source": [
    "nombre_infected      1060\n",
    "nombre_sain          2102\n",
    "nombre_exposed        538\n",
    "nombre_recovered    16300\n",
    "Name: 611, dtype: int64"
   ]
  },
  {
   "cell_type": "markdown",
   "id": "b27b6dca",
   "metadata": {},
   "source": [
    "nombre_infected      1041\n",
    "nombre_sain          2079\n",
    "nombre_exposed        574\n",
    "nombre_recovered    16306\n",
    "Name: 612, dtype: int64"
   ]
  },
  {
   "cell_type": "markdown",
   "id": "5998c185",
   "metadata": {},
   "source": [
    "nombre_infected      1069\n",
    "nombre_sain          2054\n",
    "nombre_exposed        559\n",
    "nombre_recovered    16318\n",
    "Name: 613, dtype: int64"
   ]
  },
  {
   "cell_type": "markdown",
   "id": "65ebfac9",
   "metadata": {},
   "source": [
    "nombre_infected      1081\n",
    "nombre_sain          2065\n",
    "nombre_exposed        532\n",
    "nombre_recovered    16322\n",
    "Name: 614, dtype: int64"
   ]
  },
  {
   "cell_type": "markdown",
   "id": "b3e09510",
   "metadata": {},
   "source": [
    "nombre_infected      1085\n",
    "nombre_sain          2064\n",
    "nombre_exposed        516\n",
    "nombre_recovered    16335\n",
    "Name: 615, dtype: int64"
   ]
  },
  {
   "cell_type": "markdown",
   "id": "5544b694",
   "metadata": {},
   "source": [
    "nombre_infected      1086\n",
    "nombre_sain          2042\n",
    "nombre_exposed        509\n",
    "nombre_recovered    16363\n",
    "Name: 616, dtype: int64"
   ]
  },
  {
   "cell_type": "markdown",
   "id": "727c05bb",
   "metadata": {},
   "source": [
    "nombre_infected      1084\n",
    "nombre_sain          2036\n",
    "nombre_exposed        488\n",
    "nombre_recovered    16392\n",
    "Name: 617, dtype: int64"
   ]
  },
  {
   "cell_type": "markdown",
   "id": "f8f9a469",
   "metadata": {},
   "source": [
    "nombre_infected      1087\n",
    "nombre_sain          2041\n",
    "nombre_exposed        494\n",
    "nombre_recovered    16378\n",
    "Name: 618, dtype: int64"
   ]
  },
  {
   "cell_type": "markdown",
   "id": "3337053e",
   "metadata": {},
   "source": [
    "nombre_infected      1084\n",
    "nombre_sain          2052\n",
    "nombre_exposed        480\n",
    "nombre_recovered    16384\n",
    "Name: 619, dtype: int64"
   ]
  },
  {
   "cell_type": "markdown",
   "id": "cfcfd1e6",
   "metadata": {},
   "source": [
    "nombre_infected      1066\n",
    "nombre_sain          2062\n",
    "nombre_exposed        486\n",
    "nombre_recovered    16386\n",
    "Name: 620, dtype: int64"
   ]
  },
  {
   "cell_type": "markdown",
   "id": "25d5c8b0",
   "metadata": {},
   "source": [
    "nombre_infected      1056\n",
    "nombre_sain          2060\n",
    "nombre_exposed        488\n",
    "nombre_recovered    16396\n",
    "Name: 621, dtype: int64"
   ]
  },
  {
   "cell_type": "markdown",
   "id": "214853e3",
   "metadata": {},
   "source": [
    "nombre_infected      1067\n",
    "nombre_sain          2056\n",
    "nombre_exposed        491\n",
    "nombre_recovered    16386\n",
    "Name: 622, dtype: int64"
   ]
  },
  {
   "cell_type": "markdown",
   "id": "ada86434",
   "metadata": {},
   "source": [
    "nombre_infected      1056\n",
    "nombre_sain          2046\n",
    "nombre_exposed        519\n",
    "nombre_recovered    16379\n",
    "Name: 623, dtype: int64"
   ]
  },
  {
   "cell_type": "markdown",
   "id": "c67160a8",
   "metadata": {},
   "source": [
    "nombre_infected      1046\n",
    "nombre_sain          2023\n",
    "nombre_exposed        538\n",
    "nombre_recovered    16393\n",
    "Name: 624, dtype: int64"
   ]
  },
  {
   "cell_type": "markdown",
   "id": "b124239d",
   "metadata": {},
   "source": [
    "nombre_infected      1039\n",
    "nombre_sain          2032\n",
    "nombre_exposed        541\n",
    "nombre_recovered    16388\n",
    "Name: 625, dtype: int64"
   ]
  },
  {
   "cell_type": "markdown",
   "id": "5e5863fd",
   "metadata": {},
   "source": [
    "nombre_infected      1026\n",
    "nombre_sain          2061\n",
    "nombre_exposed        534\n",
    "nombre_recovered    16379\n",
    "Name: 626, dtype: int64"
   ]
  },
  {
   "cell_type": "markdown",
   "id": "41257637",
   "metadata": {},
   "source": [
    "nombre_infected      1055\n",
    "nombre_sain          2047\n",
    "nombre_exposed        517\n",
    "nombre_recovered    16381\n",
    "Name: 627, dtype: int64"
   ]
  },
  {
   "cell_type": "markdown",
   "id": "664ce3c6",
   "metadata": {},
   "source": [
    "nombre_infected      1069\n",
    "nombre_sain          2033\n",
    "nombre_exposed        516\n",
    "nombre_recovered    16382\n",
    "Name: 628, dtype: int64"
   ]
  },
  {
   "cell_type": "markdown",
   "id": "e8ccb768",
   "metadata": {},
   "source": [
    "nombre_infected      1087\n",
    "nombre_sain          2050\n",
    "nombre_exposed        503\n",
    "nombre_recovered    16360\n",
    "Name: 629, dtype: int64"
   ]
  },
  {
   "cell_type": "markdown",
   "id": "83ded3c5",
   "metadata": {},
   "source": [
    "nombre_infected      1056\n",
    "nombre_sain          2052\n",
    "nombre_exposed        511\n",
    "nombre_recovered    16381\n",
    "Name: 630, dtype: int64"
   ]
  },
  {
   "cell_type": "markdown",
   "id": "81fb2ec2",
   "metadata": {},
   "source": [
    "nombre_infected      1062\n",
    "nombre_sain          2063\n",
    "nombre_exposed        487\n",
    "nombre_recovered    16388\n",
    "Name: 631, dtype: int64"
   ]
  },
  {
   "cell_type": "markdown",
   "id": "fdde0b0f",
   "metadata": {},
   "source": [
    "nombre_infected      1024\n",
    "nombre_sain          2072\n",
    "nombre_exposed        502\n",
    "nombre_recovered    16402\n",
    "Name: 632, dtype: int64"
   ]
  },
  {
   "cell_type": "markdown",
   "id": "bbd723df",
   "metadata": {},
   "source": [
    "nombre_infected      1032\n",
    "nombre_sain          2096\n",
    "nombre_exposed        482\n",
    "nombre_recovered    16390\n",
    "Name: 633, dtype: int64"
   ]
  },
  {
   "cell_type": "markdown",
   "id": "8382cc1f",
   "metadata": {},
   "source": [
    "nombre_infected      1032\n",
    "nombre_sain          2130\n",
    "nombre_exposed        463\n",
    "nombre_recovered    16375\n",
    "Name: 634, dtype: int64"
   ]
  },
  {
   "cell_type": "markdown",
   "id": "638f6b4b",
   "metadata": {},
   "source": [
    "nombre_infected      1040\n",
    "nombre_sain          2145\n",
    "nombre_exposed        457\n",
    "nombre_recovered    16358\n",
    "Name: 635, dtype: int64"
   ]
  },
  {
   "cell_type": "markdown",
   "id": "511a6e55",
   "metadata": {},
   "source": [
    "nombre_infected      1006\n",
    "nombre_sain          2135\n",
    "nombre_exposed        484\n",
    "nombre_recovered    16375\n",
    "Name: 636, dtype: int64"
   ]
  },
  {
   "cell_type": "markdown",
   "id": "ed920c70",
   "metadata": {},
   "source": [
    "nombre_infected       976\n",
    "nombre_sain          2138\n",
    "nombre_exposed        503\n",
    "nombre_recovered    16383\n",
    "Name: 637, dtype: int64"
   ]
  },
  {
   "cell_type": "markdown",
   "id": "2da57efd",
   "metadata": {},
   "source": [
    "nombre_infected       988\n",
    "nombre_sain          2142\n",
    "nombre_exposed        492\n",
    "nombre_recovered    16378\n",
    "Name: 638, dtype: int64"
   ]
  },
  {
   "cell_type": "markdown",
   "id": "8b0a20fb",
   "metadata": {},
   "source": [
    "nombre_infected       987\n",
    "nombre_sain          2140\n",
    "nombre_exposed        492\n",
    "nombre_recovered    16381\n",
    "Name: 639, dtype: int64"
   ]
  },
  {
   "cell_type": "markdown",
   "id": "5b0ce2f8",
   "metadata": {},
   "source": [
    "nombre_infected       982\n",
    "nombre_sain          2146\n",
    "nombre_exposed        493\n",
    "nombre_recovered    16379\n",
    "Name: 640, dtype: int64"
   ]
  },
  {
   "cell_type": "markdown",
   "id": "bbdbe5fb",
   "metadata": {},
   "source": [
    "nombre_infected       950\n",
    "nombre_sain          2144\n",
    "nombre_exposed        484\n",
    "nombre_recovered    16422\n",
    "Name: 641, dtype: int64"
   ]
  },
  {
   "cell_type": "markdown",
   "id": "8e7c8a4e",
   "metadata": {},
   "source": [
    "nombre_infected       949\n",
    "nombre_sain          2146\n",
    "nombre_exposed        496\n",
    "nombre_recovered    16409\n",
    "Name: 642, dtype: int64"
   ]
  },
  {
   "cell_type": "markdown",
   "id": "b31cd75d",
   "metadata": {},
   "source": [
    "nombre_infected       941\n",
    "nombre_sain          2142\n",
    "nombre_exposed        502\n",
    "nombre_recovered    16415\n",
    "Name: 643, dtype: int64"
   ]
  },
  {
   "cell_type": "markdown",
   "id": "e2a3a265",
   "metadata": {},
   "source": [
    "nombre_infected       964\n",
    "nombre_sain          2133\n",
    "nombre_exposed        507\n",
    "nombre_recovered    16396\n",
    "Name: 644, dtype: int64"
   ]
  },
  {
   "cell_type": "markdown",
   "id": "677eccfd",
   "metadata": {},
   "source": [
    "nombre_infected       980\n",
    "nombre_sain          2113\n",
    "nombre_exposed        515\n",
    "nombre_recovered    16392\n",
    "Name: 645, dtype: int64"
   ]
  },
  {
   "cell_type": "markdown",
   "id": "114c53e4",
   "metadata": {},
   "source": [
    "nombre_infected       982\n",
    "nombre_sain          2120\n",
    "nombre_exposed        509\n",
    "nombre_recovered    16389\n",
    "Name: 646, dtype: int64"
   ]
  },
  {
   "cell_type": "markdown",
   "id": "644ca759",
   "metadata": {},
   "source": [
    "nombre_infected       989\n",
    "nombre_sain          2115\n",
    "nombre_exposed        484\n",
    "nombre_recovered    16412\n",
    "Name: 647, dtype: int64"
   ]
  },
  {
   "cell_type": "markdown",
   "id": "99ddf846",
   "metadata": {},
   "source": [
    "nombre_infected      1002\n",
    "nombre_sain          2123\n",
    "nombre_exposed        473\n",
    "nombre_recovered    16402\n",
    "Name: 648, dtype: int64"
   ]
  },
  {
   "cell_type": "markdown",
   "id": "27913c1d",
   "metadata": {},
   "source": [
    "nombre_infected       998\n",
    "nombre_sain          2119\n",
    "nombre_exposed        488\n",
    "nombre_recovered    16395\n",
    "Name: 649, dtype: int64"
   ]
  },
  {
   "cell_type": "markdown",
   "id": "a8d30d24",
   "metadata": {},
   "source": [
    "nombre_infected       977\n",
    "nombre_sain          2131\n",
    "nombre_exposed        479\n",
    "nombre_recovered    16413\n",
    "Name: 650, dtype: int64"
   ]
  },
  {
   "cell_type": "markdown",
   "id": "d1dafed9",
   "metadata": {},
   "source": [
    "nombre_infected       968\n",
    "nombre_sain          2109\n",
    "nombre_exposed        483\n",
    "nombre_recovered    16440\n",
    "Name: 651, dtype: int64"
   ]
  },
  {
   "cell_type": "markdown",
   "id": "5fda814f",
   "metadata": {},
   "source": [
    "nombre_infected       977\n",
    "nombre_sain          2121\n",
    "nombre_exposed        486\n",
    "nombre_recovered    16416\n",
    "Name: 652, dtype: int64"
   ]
  },
  {
   "cell_type": "markdown",
   "id": "8a6ad615",
   "metadata": {},
   "source": [
    "nombre_infected       984\n",
    "nombre_sain          2099\n",
    "nombre_exposed        495\n",
    "nombre_recovered    16422\n",
    "Name: 653, dtype: int64"
   ]
  },
  {
   "cell_type": "markdown",
   "id": "8a0d2dbb",
   "metadata": {},
   "source": [
    "nombre_infected       965\n",
    "nombre_sain          2092\n",
    "nombre_exposed        499\n",
    "nombre_recovered    16444\n",
    "Name: 654, dtype: int64"
   ]
  },
  {
   "cell_type": "markdown",
   "id": "db1fd6f6",
   "metadata": {},
   "source": [
    "nombre_infected       958\n",
    "nombre_sain          2071\n",
    "nombre_exposed        505\n",
    "nombre_recovered    16466\n",
    "Name: 655, dtype: int64"
   ]
  },
  {
   "cell_type": "markdown",
   "id": "954c71eb",
   "metadata": {},
   "source": [
    "nombre_infected       960\n",
    "nombre_sain          2076\n",
    "nombre_exposed        501\n",
    "nombre_recovered    16463\n",
    "Name: 656, dtype: int64"
   ]
  },
  {
   "cell_type": "markdown",
   "id": "683e5865",
   "metadata": {},
   "source": [
    "nombre_infected       966\n",
    "nombre_sain          2090\n",
    "nombre_exposed        481\n",
    "nombre_recovered    16463\n",
    "Name: 657, dtype: int64"
   ]
  },
  {
   "cell_type": "markdown",
   "id": "838f3be9",
   "metadata": {},
   "source": [
    "nombre_infected       959\n",
    "nombre_sain          2114\n",
    "nombre_exposed        475\n",
    "nombre_recovered    16452\n",
    "Name: 658, dtype: int64"
   ]
  },
  {
   "cell_type": "markdown",
   "id": "35f1ace0",
   "metadata": {},
   "source": [
    "nombre_infected       957\n",
    "nombre_sain          2129\n",
    "nombre_exposed        461\n",
    "nombre_recovered    16453\n",
    "Name: 659, dtype: int64"
   ]
  },
  {
   "cell_type": "markdown",
   "id": "de39d2ca",
   "metadata": {},
   "source": [
    "nombre_infected       962\n",
    "nombre_sain          2126\n",
    "nombre_exposed        467\n",
    "nombre_recovered    16445\n",
    "Name: 660, dtype: int64"
   ]
  },
  {
   "cell_type": "markdown",
   "id": "d6110d3e",
   "metadata": {},
   "source": [
    "nombre_infected       959\n",
    "nombre_sain          2153\n",
    "nombre_exposed        474\n",
    "nombre_recovered    16414\n",
    "Name: 661, dtype: int64"
   ]
  },
  {
   "cell_type": "markdown",
   "id": "d4702390",
   "metadata": {},
   "source": [
    "nombre_infected       960\n",
    "nombre_sain          2165\n",
    "nombre_exposed        487\n",
    "nombre_recovered    16388\n",
    "Name: 662, dtype: int64"
   ]
  },
  {
   "cell_type": "markdown",
   "id": "1175fb2a",
   "metadata": {},
   "source": [
    "nombre_infected       953\n",
    "nombre_sain          2179\n",
    "nombre_exposed        486\n",
    "nombre_recovered    16382\n",
    "Name: 663, dtype: int64"
   ]
  },
  {
   "cell_type": "markdown",
   "id": "ec30e457",
   "metadata": {},
   "source": [
    "nombre_infected       934\n",
    "nombre_sain          2195\n",
    "nombre_exposed        495\n",
    "nombre_recovered    16376\n",
    "Name: 664, dtype: int64"
   ]
  },
  {
   "cell_type": "markdown",
   "id": "de339756",
   "metadata": {},
   "source": [
    "nombre_infected       926\n",
    "nombre_sain          2213\n",
    "nombre_exposed        509\n",
    "nombre_recovered    16352\n",
    "Name: 665, dtype: int64"
   ]
  },
  {
   "cell_type": "markdown",
   "id": "99cd7406",
   "metadata": {},
   "source": [
    "nombre_infected       945\n",
    "nombre_sain          2244\n",
    "nombre_exposed        460\n",
    "nombre_recovered    16351\n",
    "Name: 666, dtype: int64"
   ]
  },
  {
   "cell_type": "markdown",
   "id": "3ca85435",
   "metadata": {},
   "source": [
    "nombre_infected       945\n",
    "nombre_sain          2268\n",
    "nombre_exposed        474\n",
    "nombre_recovered    16313\n",
    "Name: 667, dtype: int64"
   ]
  },
  {
   "cell_type": "markdown",
   "id": "ce4044a7",
   "metadata": {},
   "source": [
    "nombre_infected       948\n",
    "nombre_sain          2274\n",
    "nombre_exposed        469\n",
    "nombre_recovered    16309\n",
    "Name: 668, dtype: int64"
   ]
  },
  {
   "cell_type": "markdown",
   "id": "aa06c511",
   "metadata": {},
   "source": [
    "nombre_infected       928\n",
    "nombre_sain          2300\n",
    "nombre_exposed        469\n",
    "nombre_recovered    16303\n",
    "Name: 669, dtype: int64"
   ]
  },
  {
   "cell_type": "markdown",
   "id": "ea2dafbc",
   "metadata": {},
   "source": [
    "nombre_infected       925\n",
    "nombre_sain          2289\n",
    "nombre_exposed        458\n",
    "nombre_recovered    16328\n",
    "Name: 670, dtype: int64"
   ]
  },
  {
   "cell_type": "markdown",
   "id": "0c365fa2",
   "metadata": {},
   "source": [
    "nombre_infected       938\n",
    "nombre_sain          2289\n",
    "nombre_exposed        465\n",
    "nombre_recovered    16308\n",
    "Name: 671, dtype: int64"
   ]
  },
  {
   "cell_type": "markdown",
   "id": "0ec74acd",
   "metadata": {},
   "source": [
    "nombre_infected       919\n",
    "nombre_sain          2310\n",
    "nombre_exposed        473\n",
    "nombre_recovered    16298\n",
    "Name: 672, dtype: int64"
   ]
  },
  {
   "cell_type": "markdown",
   "id": "7a76f54d",
   "metadata": {},
   "source": [
    "nombre_infected       934\n",
    "nombre_sain          2312\n",
    "nombre_exposed        482\n",
    "nombre_recovered    16272\n",
    "Name: 673, dtype: int64"
   ]
  },
  {
   "cell_type": "markdown",
   "id": "00d36c60",
   "metadata": {},
   "source": [
    "nombre_infected       940\n",
    "nombre_sain          2317\n",
    "nombre_exposed        476\n",
    "nombre_recovered    16267\n",
    "Name: 674, dtype: int64"
   ]
  },
  {
   "cell_type": "markdown",
   "id": "bf94450c",
   "metadata": {},
   "source": [
    "nombre_infected       919\n",
    "nombre_sain          2357\n",
    "nombre_exposed        465\n",
    "nombre_recovered    16259\n",
    "Name: 675, dtype: int64"
   ]
  },
  {
   "cell_type": "markdown",
   "id": "abc02ae3",
   "metadata": {},
   "source": [
    "nombre_infected       919\n",
    "nombre_sain          2341\n",
    "nombre_exposed        491\n",
    "nombre_recovered    16249\n",
    "Name: 676, dtype: int64"
   ]
  },
  {
   "cell_type": "markdown",
   "id": "06ae7afe",
   "metadata": {},
   "source": [
    "nombre_infected       924\n",
    "nombre_sain          2314\n",
    "nombre_exposed        518\n",
    "nombre_recovered    16244\n",
    "Name: 677, dtype: int64"
   ]
  },
  {
   "cell_type": "markdown",
   "id": "35c1abeb",
   "metadata": {},
   "source": [
    "nombre_infected       930\n",
    "nombre_sain          2323\n",
    "nombre_exposed        515\n",
    "nombre_recovered    16232\n",
    "Name: 678, dtype: int64"
   ]
  },
  {
   "cell_type": "markdown",
   "id": "227107d1",
   "metadata": {},
   "source": [
    "nombre_infected       942\n",
    "nombre_sain          2291\n",
    "nombre_exposed        516\n",
    "nombre_recovered    16251\n",
    "Name: 679, dtype: int64"
   ]
  },
  {
   "cell_type": "markdown",
   "id": "07e62a2b",
   "metadata": {},
   "source": [
    "nombre_infected       965\n",
    "nombre_sain          2267\n",
    "nombre_exposed        508\n",
    "nombre_recovered    16260\n",
    "Name: 680, dtype: int64"
   ]
  },
  {
   "cell_type": "markdown",
   "id": "2664bb7f",
   "metadata": {},
   "source": [
    "nombre_infected       965\n",
    "nombre_sain          2259\n",
    "nombre_exposed        494\n",
    "nombre_recovered    16282\n",
    "Name: 681, dtype: int64"
   ]
  },
  {
   "cell_type": "markdown",
   "id": "90f7b139",
   "metadata": {},
   "source": [
    "nombre_infected       943\n",
    "nombre_sain          2246\n",
    "nombre_exposed        518\n",
    "nombre_recovered    16293\n",
    "Name: 682, dtype: int64"
   ]
  },
  {
   "cell_type": "markdown",
   "id": "b83037a9",
   "metadata": {},
   "source": [
    "nombre_infected       937\n",
    "nombre_sain          2268\n",
    "nombre_exposed        497\n",
    "nombre_recovered    16298\n",
    "Name: 683, dtype: int64"
   ]
  },
  {
   "cell_type": "markdown",
   "id": "4ef87329",
   "metadata": {},
   "source": [
    "nombre_infected       963\n",
    "nombre_sain          2226\n",
    "nombre_exposed        495\n",
    "nombre_recovered    16316\n",
    "Name: 684, dtype: int64"
   ]
  },
  {
   "cell_type": "markdown",
   "id": "3da0b111",
   "metadata": {},
   "source": [
    "nombre_infected       948\n",
    "nombre_sain          2220\n",
    "nombre_exposed        506\n",
    "nombre_recovered    16326\n",
    "Name: 685, dtype: int64"
   ]
  },
  {
   "cell_type": "markdown",
   "id": "22401b5c",
   "metadata": {},
   "source": [
    "nombre_infected       957\n",
    "nombre_sain          2196\n",
    "nombre_exposed        503\n",
    "nombre_recovered    16344\n",
    "Name: 686, dtype: int64"
   ]
  },
  {
   "cell_type": "markdown",
   "id": "9fa20cae",
   "metadata": {},
   "source": [
    "nombre_infected       972\n",
    "nombre_sain          2201\n",
    "nombre_exposed        485\n",
    "nombre_recovered    16342\n",
    "Name: 687, dtype: int64"
   ]
  },
  {
   "cell_type": "markdown",
   "id": "ac1c5efc",
   "metadata": {},
   "source": [
    "nombre_infected      1003\n",
    "nombre_sain          2207\n",
    "nombre_exposed        466\n",
    "nombre_recovered    16324\n",
    "Name: 688, dtype: int64"
   ]
  },
  {
   "cell_type": "markdown",
   "id": "5e0958d2",
   "metadata": {},
   "source": [
    "nombre_infected       981\n",
    "nombre_sain          2201\n",
    "nombre_exposed        499\n",
    "nombre_recovered    16319\n",
    "Name: 689, dtype: int64"
   ]
  },
  {
   "cell_type": "markdown",
   "id": "155cf24c",
   "metadata": {},
   "source": [
    "nombre_infected       974\n",
    "nombre_sain          2165\n",
    "nombre_exposed        514\n",
    "nombre_recovered    16347\n",
    "Name: 690, dtype: int64"
   ]
  },
  {
   "cell_type": "markdown",
   "id": "ea70ab67",
   "metadata": {},
   "source": [
    "nombre_infected       968\n",
    "nombre_sain          2166\n",
    "nombre_exposed        511\n",
    "nombre_recovered    16355\n",
    "Name: 691, dtype: int64"
   ]
  },
  {
   "cell_type": "markdown",
   "id": "06649124",
   "metadata": {},
   "source": [
    "nombre_infected       980\n",
    "nombre_sain          2142\n",
    "nombre_exposed        515\n",
    "nombre_recovered    16363\n",
    "Name: 692, dtype: int64"
   ]
  },
  {
   "cell_type": "markdown",
   "id": "69a86b9d",
   "metadata": {},
   "source": [
    "nombre_infected       992\n",
    "nombre_sain          2145\n",
    "nombre_exposed        481\n",
    "nombre_recovered    16382\n",
    "Name: 693, dtype: int64"
   ]
  },
  {
   "cell_type": "markdown",
   "id": "7c2d171d",
   "metadata": {},
   "source": [
    "nombre_infected       982\n",
    "nombre_sain          2126\n",
    "nombre_exposed        474\n",
    "nombre_recovered    16418\n",
    "Name: 694, dtype: int64"
   ]
  },
  {
   "cell_type": "markdown",
   "id": "2a318aa2",
   "metadata": {},
   "source": [
    "nombre_infected       985\n",
    "nombre_sain          2130\n",
    "nombre_exposed        477\n",
    "nombre_recovered    16408\n",
    "Name: 695, dtype: int64"
   ]
  },
  {
   "cell_type": "markdown",
   "id": "fcbe3d80",
   "metadata": {},
   "source": [
    "nombre_infected       959\n",
    "nombre_sain          2122\n",
    "nombre_exposed        493\n",
    "nombre_recovered    16426\n",
    "Name: 696, dtype: int64"
   ]
  },
  {
   "cell_type": "markdown",
   "id": "04bb4094",
   "metadata": {},
   "source": [
    "nombre_infected       973\n",
    "nombre_sain          2112\n",
    "nombre_exposed        484\n",
    "nombre_recovered    16431\n",
    "Name: 697, dtype: int64"
   ]
  },
  {
   "cell_type": "markdown",
   "id": "9ab7829a",
   "metadata": {},
   "source": [
    "nombre_infected       952\n",
    "nombre_sain          2108\n",
    "nombre_exposed        475\n",
    "nombre_recovered    16465\n",
    "Name: 698, dtype: int64"
   ]
  },
  {
   "cell_type": "markdown",
   "id": "baee807b",
   "metadata": {},
   "source": [
    "nombre_infected       950\n",
    "nombre_sain          2119\n",
    "nombre_exposed        476\n",
    "nombre_recovered    16455\n",
    "Name: 699, dtype: int64"
   ]
  },
  {
   "cell_type": "markdown",
   "id": "b184eba9",
   "metadata": {},
   "source": [
    "nombre_infected       939\n",
    "nombre_sain          2096\n",
    "nombre_exposed        484\n",
    "nombre_recovered    16481\n",
    "Name: 700, dtype: int64"
   ]
  },
  {
   "cell_type": "markdown",
   "id": "5594bca3",
   "metadata": {},
   "source": [
    "nombre_infected       933\n",
    "nombre_sain          2113\n",
    "nombre_exposed        478\n",
    "nombre_recovered    16476\n",
    "Name: 701, dtype: int64"
   ]
  },
  {
   "cell_type": "markdown",
   "id": "6be84ab7",
   "metadata": {},
   "source": [
    "nombre_infected       949\n",
    "nombre_sain          2094\n",
    "nombre_exposed        484\n",
    "nombre_recovered    16473\n",
    "Name: 702, dtype: int64"
   ]
  },
  {
   "cell_type": "markdown",
   "id": "fc14e33e",
   "metadata": {},
   "source": [
    "nombre_infected       924\n",
    "nombre_sain          2104\n",
    "nombre_exposed        462\n",
    "nombre_recovered    16510\n",
    "Name: 703, dtype: int64"
   ]
  },
  {
   "cell_type": "markdown",
   "id": "4a5b845c",
   "metadata": {},
   "source": [
    "nombre_infected       930\n",
    "nombre_sain          2102\n",
    "nombre_exposed        456\n",
    "nombre_recovered    16512\n",
    "Name: 704, dtype: int64"
   ]
  },
  {
   "cell_type": "markdown",
   "id": "40ed3d70",
   "metadata": {},
   "source": [
    "nombre_infected       912\n",
    "nombre_sain          2101\n",
    "nombre_exposed        460\n",
    "nombre_recovered    16527\n",
    "Name: 705, dtype: int64"
   ]
  },
  {
   "cell_type": "markdown",
   "id": "84454550",
   "metadata": {},
   "source": [
    "nombre_infected       918\n",
    "nombre_sain          2109\n",
    "nombre_exposed        437\n",
    "nombre_recovered    16536\n",
    "Name: 706, dtype: int64"
   ]
  },
  {
   "cell_type": "markdown",
   "id": "85aa7c5f",
   "metadata": {},
   "source": [
    "nombre_infected       876\n",
    "nombre_sain          2103\n",
    "nombre_exposed        450\n",
    "nombre_recovered    16571\n",
    "Name: 707, dtype: int64"
   ]
  },
  {
   "cell_type": "markdown",
   "id": "5e49bb37",
   "metadata": {},
   "source": [
    "nombre_infected       874\n",
    "nombre_sain          2115\n",
    "nombre_exposed        453\n",
    "nombre_recovered    16558\n",
    "Name: 708, dtype: int64"
   ]
  },
  {
   "cell_type": "markdown",
   "id": "01aa2f57",
   "metadata": {},
   "source": [
    "nombre_infected       883\n",
    "nombre_sain          2152\n",
    "nombre_exposed        425\n",
    "nombre_recovered    16540\n",
    "Name: 709, dtype: int64"
   ]
  },
  {
   "cell_type": "markdown",
   "id": "7060f31f",
   "metadata": {},
   "source": [
    "nombre_infected       878\n",
    "nombre_sain          2155\n",
    "nombre_exposed        417\n",
    "nombre_recovered    16550\n",
    "Name: 710, dtype: int64"
   ]
  },
  {
   "cell_type": "markdown",
   "id": "6a0b4487",
   "metadata": {},
   "source": [
    "nombre_infected       867\n",
    "nombre_sain          2150\n",
    "nombre_exposed        428\n",
    "nombre_recovered    16555\n",
    "Name: 711, dtype: int64"
   ]
  },
  {
   "cell_type": "markdown",
   "id": "b9519a34",
   "metadata": {},
   "source": [
    "nombre_infected       866\n",
    "nombre_sain          2153\n",
    "nombre_exposed        421\n",
    "nombre_recovered    16560\n",
    "Name: 712, dtype: int64"
   ]
  },
  {
   "cell_type": "markdown",
   "id": "9aa1299f",
   "metadata": {},
   "source": [
    "nombre_infected       856\n",
    "nombre_sain          2184\n",
    "nombre_exposed        425\n",
    "nombre_recovered    16535\n",
    "Name: 713, dtype: int64"
   ]
  },
  {
   "cell_type": "markdown",
   "id": "4292f5a9",
   "metadata": {},
   "source": [
    "nombre_infected       862\n",
    "nombre_sain          2185\n",
    "nombre_exposed        430\n",
    "nombre_recovered    16523\n",
    "Name: 714, dtype: int64"
   ]
  },
  {
   "cell_type": "markdown",
   "id": "1a33b2e5",
   "metadata": {},
   "source": [
    "nombre_infected       848\n",
    "nombre_sain          2214\n",
    "nombre_exposed        445\n",
    "nombre_recovered    16493\n",
    "Name: 715, dtype: int64"
   ]
  },
  {
   "cell_type": "markdown",
   "id": "e6618b8a",
   "metadata": {},
   "source": [
    "nombre_infected       851\n",
    "nombre_sain          2224\n",
    "nombre_exposed        445\n",
    "nombre_recovered    16480\n",
    "Name: 716, dtype: int64"
   ]
  },
  {
   "cell_type": "markdown",
   "id": "386ce2bc",
   "metadata": {},
   "source": [
    "nombre_infected       831\n",
    "nombre_sain          2253\n",
    "nombre_exposed        463\n",
    "nombre_recovered    16453\n",
    "Name: 717, dtype: int64"
   ]
  },
  {
   "cell_type": "markdown",
   "id": "eb481f27",
   "metadata": {},
   "source": [
    "nombre_infected       824\n",
    "nombre_sain          2250\n",
    "nombre_exposed        480\n",
    "nombre_recovered    16446\n",
    "Name: 718, dtype: int64"
   ]
  },
  {
   "cell_type": "markdown",
   "id": "2dac7e38",
   "metadata": {},
   "source": [
    "nombre_infected       848\n",
    "nombre_sain          2259\n",
    "nombre_exposed        465\n",
    "nombre_recovered    16428\n",
    "Name: 719, dtype: int64"
   ]
  },
  {
   "cell_type": "markdown",
   "id": "2769c013",
   "metadata": {},
   "source": [
    "nombre_infected       855\n",
    "nombre_sain          2269\n",
    "nombre_exposed        453\n",
    "nombre_recovered    16423\n",
    "Name: 720, dtype: int64"
   ]
  },
  {
   "cell_type": "markdown",
   "id": "f55eb8d4",
   "metadata": {},
   "source": [
    "nombre_infected       856\n",
    "nombre_sain          2250\n",
    "nombre_exposed        481\n",
    "nombre_recovered    16413\n",
    "Name: 721, dtype: int64"
   ]
  },
  {
   "cell_type": "markdown",
   "id": "f082db23",
   "metadata": {},
   "source": [
    "nombre_infected       853\n",
    "nombre_sain          2252\n",
    "nombre_exposed        492\n",
    "nombre_recovered    16403\n",
    "Name: 722, dtype: int64"
   ]
  },
  {
   "cell_type": "markdown",
   "id": "819ed39d",
   "metadata": {},
   "source": [
    "nombre_infected       892\n",
    "nombre_sain          2241\n",
    "nombre_exposed        476\n",
    "nombre_recovered    16391\n",
    "Name: 723, dtype: int64"
   ]
  },
  {
   "cell_type": "markdown",
   "id": "f0a21de7",
   "metadata": {},
   "source": [
    "nombre_infected       907\n",
    "nombre_sain          2251\n",
    "nombre_exposed        453\n",
    "nombre_recovered    16389\n",
    "Name: 724, dtype: int64"
   ]
  },
  {
   "cell_type": "markdown",
   "id": "606a70fe",
   "metadata": {},
   "source": [
    "nombre_infected       910\n",
    "nombre_sain          2255\n",
    "nombre_exposed        473\n",
    "nombre_recovered    16362\n",
    "Name: 725, dtype: int64"
   ]
  },
  {
   "cell_type": "markdown",
   "id": "73f4eadf",
   "metadata": {},
   "source": [
    "nombre_infected       928\n",
    "nombre_sain          2207\n",
    "nombre_exposed        495\n",
    "nombre_recovered    16370\n",
    "Name: 726, dtype: int64"
   ]
  },
  {
   "cell_type": "markdown",
   "id": "0a5f90ed",
   "metadata": {},
   "source": [
    "nombre_infected       908\n",
    "nombre_sain          2227\n",
    "nombre_exposed        499\n",
    "nombre_recovered    16366\n",
    "Name: 727, dtype: int64"
   ]
  },
  {
   "cell_type": "markdown",
   "id": "971d8404",
   "metadata": {},
   "source": [
    "nombre_infected       915\n",
    "nombre_sain          2229\n",
    "nombre_exposed        512\n",
    "nombre_recovered    16344\n",
    "Name: 728, dtype: int64"
   ]
  },
  {
   "cell_type": "markdown",
   "id": "31990838",
   "metadata": {},
   "source": [
    "nombre_infected       921\n",
    "nombre_sain          2292\n",
    "nombre_exposed        495\n",
    "nombre_recovered    16292\n",
    "Name: 729, dtype: int64"
   ]
  },
  {
   "cell_type": "markdown",
   "id": "aca13256",
   "metadata": {},
   "source": [
    "nombre_infected       917\n",
    "nombre_sain          2311\n",
    "nombre_exposed        481\n",
    "nombre_recovered    16291\n",
    "Name: 730, dtype: int64"
   ]
  }
 ],
 "metadata": {},
 "nbformat": 4,
 "nbformat_minor": 5
}
