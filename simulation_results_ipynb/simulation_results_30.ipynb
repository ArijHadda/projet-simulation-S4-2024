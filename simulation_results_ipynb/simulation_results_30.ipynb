{
 "cells": [
  {
   "cell_type": "markdown",
   "id": "35583dba",
   "metadata": {},
   "source": [
    "nombre_infected        20\n",
    "nombre_sain         19980\n",
    "nombre_exposed          0\n",
    "nombre_recovered        0\n",
    "Name: 0, dtype: int64"
   ]
  },
  {
   "cell_type": "markdown",
   "id": "77dfabc5",
   "metadata": {},
   "source": [
    "nombre_infected        20\n",
    "nombre_sain         19970\n",
    "nombre_exposed         10\n",
    "nombre_recovered        0\n",
    "Name: 1, dtype: int64"
   ]
  },
  {
   "cell_type": "markdown",
   "id": "2fcc3d84",
   "metadata": {},
   "source": [
    "nombre_infected         0\n",
    "nombre_sain         19962\n",
    "nombre_exposed         18\n",
    "nombre_recovered       20\n",
    "Name: 2, dtype: int64"
   ]
  },
  {
   "cell_type": "markdown",
   "id": "f254c67a",
   "metadata": {},
   "source": [
    "nombre_infected         2\n",
    "nombre_sain         19959\n",
    "nombre_exposed         19\n",
    "nombre_recovered       20\n",
    "Name: 3, dtype: int64"
   ]
  },
  {
   "cell_type": "markdown",
   "id": "d7f695ae",
   "metadata": {},
   "source": [
    "nombre_infected         9\n",
    "nombre_sain         19954\n",
    "nombre_exposed         17\n",
    "nombre_recovered       20\n",
    "Name: 4, dtype: int64"
   ]
  },
  {
   "cell_type": "markdown",
   "id": "84f22c1d",
   "metadata": {},
   "source": [
    "nombre_infected        13\n",
    "nombre_sain         19939\n",
    "nombre_exposed         28\n",
    "nombre_recovered       20\n",
    "Name: 5, dtype: int64"
   ]
  },
  {
   "cell_type": "markdown",
   "id": "f8a3b789",
   "metadata": {},
   "source": [
    "nombre_infected        14\n",
    "nombre_sain         19932\n",
    "nombre_exposed         32\n",
    "nombre_recovered       22\n",
    "Name: 6, dtype: int64"
   ]
  },
  {
   "cell_type": "markdown",
   "id": "71c90e44",
   "metadata": {},
   "source": [
    "nombre_infected        26\n",
    "nombre_sain         19900\n",
    "nombre_exposed         50\n",
    "nombre_recovered       24\n",
    "Name: 7, dtype: int64"
   ]
  },
  {
   "cell_type": "markdown",
   "id": "cb103649",
   "metadata": {},
   "source": [
    "nombre_infected        27\n",
    "nombre_sain         19863\n",
    "nombre_exposed         84\n",
    "nombre_recovered       26\n",
    "Name: 8, dtype: int64"
   ]
  },
  {
   "cell_type": "markdown",
   "id": "960540b7",
   "metadata": {},
   "source": [
    "nombre_infected        37\n",
    "nombre_sain         19821\n",
    "nombre_exposed        112\n",
    "nombre_recovered       30\n",
    "Name: 9, dtype: int64"
   ]
  },
  {
   "cell_type": "markdown",
   "id": "f7134213",
   "metadata": {},
   "source": [
    "nombre_infected        57\n",
    "nombre_sain         19762\n",
    "nombre_exposed        148\n",
    "nombre_recovered       33\n",
    "Name: 10, dtype: int64"
   ]
  },
  {
   "cell_type": "markdown",
   "id": "2669e823",
   "metadata": {},
   "source": [
    "nombre_infected        76\n",
    "nombre_sain         19695\n",
    "nombre_exposed        194\n",
    "nombre_recovered       35\n",
    "Name: 11, dtype: int64"
   ]
  },
  {
   "cell_type": "markdown",
   "id": "fe5fc325",
   "metadata": {},
   "source": [
    "nombre_infected        99\n",
    "nombre_sain         19587\n",
    "nombre_exposed        273\n",
    "nombre_recovered       41\n",
    "Name: 12, dtype: int64"
   ]
  },
  {
   "cell_type": "markdown",
   "id": "829c3320",
   "metadata": {},
   "source": [
    "nombre_infected       131\n",
    "nombre_sain         19445\n",
    "nombre_exposed        371\n",
    "nombre_recovered       53\n",
    "Name: 13, dtype: int64"
   ]
  },
  {
   "cell_type": "markdown",
   "id": "b5951580",
   "metadata": {},
   "source": [
    "nombre_infected       188\n",
    "nombre_sain         19240\n",
    "nombre_exposed        504\n",
    "nombre_recovered       68\n",
    "Name: 14, dtype: int64"
   ]
  },
  {
   "cell_type": "markdown",
   "id": "d4db24d5",
   "metadata": {},
   "source": [
    "nombre_infected       270\n",
    "nombre_sain         18959\n",
    "nombre_exposed        681\n",
    "nombre_recovered       90\n",
    "Name: 15, dtype: int64"
   ]
  },
  {
   "cell_type": "markdown",
   "id": "a09b777f",
   "metadata": {},
   "source": [
    "nombre_infected       372\n",
    "nombre_sain         18599\n",
    "nombre_exposed        913\n",
    "nombre_recovered      116\n",
    "Name: 16, dtype: int64"
   ]
  },
  {
   "cell_type": "markdown",
   "id": "9b856d34",
   "metadata": {},
   "source": [
    "nombre_infected       504\n",
    "nombre_sain         18053\n",
    "nombre_exposed       1300\n",
    "nombre_recovered      143\n",
    "Name: 17, dtype: int64"
   ]
  },
  {
   "cell_type": "markdown",
   "id": "4f93564a",
   "metadata": {},
   "source": [
    "nombre_infected       653\n",
    "nombre_sain         17449\n",
    "nombre_exposed       1703\n",
    "nombre_recovered      195\n",
    "Name: 18, dtype: int64"
   ]
  },
  {
   "cell_type": "markdown",
   "id": "c90d924e",
   "metadata": {},
   "source": [
    "nombre_infected       907\n",
    "nombre_sain         16654\n",
    "nombre_exposed       2190\n",
    "nombre_recovered      249\n",
    "Name: 19, dtype: int64"
   ]
  },
  {
   "cell_type": "markdown",
   "id": "8d2b3ef4",
   "metadata": {},
   "source": [
    "nombre_infected      1263\n",
    "nombre_sain         15540\n",
    "nombre_exposed       2858\n",
    "nombre_recovered      339\n",
    "Name: 20, dtype: int64"
   ]
  },
  {
   "cell_type": "markdown",
   "id": "92d54b05",
   "metadata": {},
   "source": [
    "nombre_infected      1647\n",
    "nombre_sain         14255\n",
    "nombre_exposed       3629\n",
    "nombre_recovered      469\n",
    "Name: 21, dtype: int64"
   ]
  },
  {
   "cell_type": "markdown",
   "id": "ac2e1e42",
   "metadata": {},
   "source": [
    "nombre_infected      2213\n",
    "nombre_sain         12651\n",
    "nombre_exposed       4528\n",
    "nombre_recovered      608\n",
    "Name: 22, dtype: int64"
   ]
  },
  {
   "cell_type": "markdown",
   "id": "cf6077d0",
   "metadata": {},
   "source": [
    "nombre_infected      2885\n",
    "nombre_sain         11020\n",
    "nombre_exposed       5299\n",
    "nombre_recovered      796\n",
    "Name: 23, dtype: int64"
   ]
  },
  {
   "cell_type": "markdown",
   "id": "812e4671",
   "metadata": {},
   "source": [
    "nombre_infected     3693\n",
    "nombre_sain         9160\n",
    "nombre_exposed      6099\n",
    "nombre_recovered    1048\n",
    "Name: 24, dtype: int64"
   ]
  },
  {
   "cell_type": "markdown",
   "id": "6e4a10e5",
   "metadata": {},
   "source": [
    "nombre_infected     4606\n",
    "nombre_sain         7359\n",
    "nombre_exposed      6661\n",
    "nombre_recovered    1374\n",
    "Name: 25, dtype: int64"
   ]
  },
  {
   "cell_type": "markdown",
   "id": "ffb161b3",
   "metadata": {},
   "source": [
    "nombre_infected     5578\n",
    "nombre_sain         5794\n",
    "nombre_exposed      6802\n",
    "nombre_recovered    1826\n",
    "Name: 26, dtype: int64"
   ]
  },
  {
   "cell_type": "markdown",
   "id": "7754dcef",
   "metadata": {},
   "source": [
    "nombre_infected     6540\n",
    "nombre_sain         4315\n",
    "nombre_exposed      6775\n",
    "nombre_recovered    2370\n",
    "Name: 27, dtype: int64"
   ]
  },
  {
   "cell_type": "markdown",
   "id": "3613ddd6",
   "metadata": {},
   "source": [
    "nombre_infected     7390\n",
    "nombre_sain         3111\n",
    "nombre_exposed      6434\n",
    "nombre_recovered    3065\n",
    "Name: 28, dtype: int64"
   ]
  },
  {
   "cell_type": "markdown",
   "id": "b6c1d8d0",
   "metadata": {},
   "source": [
    "nombre_infected     8124\n",
    "nombre_sain         2256\n",
    "nombre_exposed      5785\n",
    "nombre_recovered    3835\n",
    "Name: 29, dtype: int64"
   ]
  },
  {
   "cell_type": "markdown",
   "id": "4f875b96",
   "metadata": {},
   "source": [
    "nombre_infected     8689\n",
    "nombre_sain         1560\n",
    "nombre_exposed      5045\n",
    "nombre_recovered    4706\n",
    "Name: 30, dtype: int64"
   ]
  },
  {
   "cell_type": "markdown",
   "id": "df186bcf",
   "metadata": {},
   "source": [
    "nombre_infected     8964\n",
    "nombre_sain         1075\n",
    "nombre_exposed      4326\n",
    "nombre_recovered    5635\n",
    "Name: 31, dtype: int64"
   ]
  },
  {
   "cell_type": "markdown",
   "id": "50e4ea9a",
   "metadata": {},
   "source": [
    "nombre_infected     9058\n",
    "nombre_sain          726\n",
    "nombre_exposed      3567\n",
    "nombre_recovered    6649\n",
    "Name: 32, dtype: int64"
   ]
  },
  {
   "cell_type": "markdown",
   "id": "051c0274",
   "metadata": {},
   "source": [
    "nombre_infected     8969\n",
    "nombre_sain          479\n",
    "nombre_exposed      2881\n",
    "nombre_recovered    7671\n",
    "Name: 33, dtype: int64"
   ]
  },
  {
   "cell_type": "markdown",
   "id": "590f95b8",
   "metadata": {},
   "source": [
    "nombre_infected     8727\n",
    "nombre_sain          329\n",
    "nombre_exposed      2252\n",
    "nombre_recovered    8692\n",
    "Name: 34, dtype: int64"
   ]
  },
  {
   "cell_type": "markdown",
   "id": "d219c720",
   "metadata": {},
   "source": [
    "nombre_infected     8361\n",
    "nombre_sain          244\n",
    "nombre_exposed      1723\n",
    "nombre_recovered    9672\n",
    "Name: 35, dtype: int64"
   ]
  },
  {
   "cell_type": "markdown",
   "id": "71ec7a43",
   "metadata": {},
   "source": [
    "nombre_infected      7869\n",
    "nombre_sain           191\n",
    "nombre_exposed       1321\n",
    "nombre_recovered    10619\n",
    "Name: 36, dtype: int64"
   ]
  },
  {
   "cell_type": "markdown",
   "id": "6ef985bb",
   "metadata": {},
   "source": [
    "nombre_infected      7330\n",
    "nombre_sain           178\n",
    "nombre_exposed       1000\n",
    "nombre_recovered    11492\n",
    "Name: 37, dtype: int64"
   ]
  },
  {
   "cell_type": "markdown",
   "id": "ac1ee28a",
   "metadata": {},
   "source": [
    "nombre_infected      6683\n",
    "nombre_sain           160\n",
    "nombre_exposed        775\n",
    "nombre_recovered    12382\n",
    "Name: 38, dtype: int64"
   ]
  },
  {
   "cell_type": "markdown",
   "id": "45c77d91",
   "metadata": {},
   "source": [
    "nombre_infected      6056\n",
    "nombre_sain           150\n",
    "nombre_exposed        616\n",
    "nombre_recovered    13178\n",
    "Name: 39, dtype: int64"
   ]
  },
  {
   "cell_type": "markdown",
   "id": "2632c151",
   "metadata": {},
   "source": [
    "nombre_infected      5482\n",
    "nombre_sain           145\n",
    "nombre_exposed        478\n",
    "nombre_recovered    13895\n",
    "Name: 40, dtype: int64"
   ]
  },
  {
   "cell_type": "markdown",
   "id": "2fd88fde",
   "metadata": {},
   "source": [
    "nombre_infected      4878\n",
    "nombre_sain           157\n",
    "nombre_exposed        361\n",
    "nombre_recovered    14604\n",
    "Name: 41, dtype: int64"
   ]
  },
  {
   "cell_type": "markdown",
   "id": "67d0bfbd",
   "metadata": {},
   "source": [
    "nombre_infected      4351\n",
    "nombre_sain           165\n",
    "nombre_exposed        274\n",
    "nombre_recovered    15210\n",
    "Name: 42, dtype: int64"
   ]
  },
  {
   "cell_type": "markdown",
   "id": "e52fe147",
   "metadata": {},
   "source": [
    "nombre_infected      3872\n",
    "nombre_sain           176\n",
    "nombre_exposed        224\n",
    "nombre_recovered    15728\n",
    "Name: 43, dtype: int64"
   ]
  },
  {
   "cell_type": "markdown",
   "id": "cd5d74f1",
   "metadata": {},
   "source": [
    "nombre_infected      3424\n",
    "nombre_sain           188\n",
    "nombre_exposed        186\n",
    "nombre_recovered    16202\n",
    "Name: 44, dtype: int64"
   ]
  },
  {
   "cell_type": "markdown",
   "id": "3f5092c0",
   "metadata": {},
   "source": [
    "nombre_infected      3032\n",
    "nombre_sain           199\n",
    "nombre_exposed        158\n",
    "nombre_recovered    16611\n",
    "Name: 45, dtype: int64"
   ]
  },
  {
   "cell_type": "markdown",
   "id": "951de3fc",
   "metadata": {},
   "source": [
    "nombre_infected      2710\n",
    "nombre_sain           211\n",
    "nombre_exposed        133\n",
    "nombre_recovered    16946\n",
    "Name: 46, dtype: int64"
   ]
  },
  {
   "cell_type": "markdown",
   "id": "203331c9",
   "metadata": {},
   "source": [
    "nombre_infected      2380\n",
    "nombre_sain           212\n",
    "nombre_exposed        124\n",
    "nombre_recovered    17284\n",
    "Name: 47, dtype: int64"
   ]
  },
  {
   "cell_type": "markdown",
   "id": "bee2cb37",
   "metadata": {},
   "source": [
    "nombre_infected      2129\n",
    "nombre_sain           216\n",
    "nombre_exposed        117\n",
    "nombre_recovered    17538\n",
    "Name: 48, dtype: int64"
   ]
  },
  {
   "cell_type": "markdown",
   "id": "1e056036",
   "metadata": {},
   "source": [
    "nombre_infected      1912\n",
    "nombre_sain           228\n",
    "nombre_exposed        113\n",
    "nombre_recovered    17747\n",
    "Name: 49, dtype: int64"
   ]
  },
  {
   "cell_type": "markdown",
   "id": "045d88bf",
   "metadata": {},
   "source": [
    "nombre_infected      1710\n",
    "nombre_sain           252\n",
    "nombre_exposed         99\n",
    "nombre_recovered    17939\n",
    "Name: 50, dtype: int64"
   ]
  },
  {
   "cell_type": "markdown",
   "id": "247f02f9",
   "metadata": {},
   "source": [
    "nombre_infected      1519\n",
    "nombre_sain           280\n",
    "nombre_exposed         81\n",
    "nombre_recovered    18120\n",
    "Name: 51, dtype: int64"
   ]
  },
  {
   "cell_type": "markdown",
   "id": "cf560ba9",
   "metadata": {},
   "source": [
    "nombre_infected      1371\n",
    "nombre_sain           310\n",
    "nombre_exposed         61\n",
    "nombre_recovered    18258\n",
    "Name: 52, dtype: int64"
   ]
  },
  {
   "cell_type": "markdown",
   "id": "c4154dd5",
   "metadata": {},
   "source": [
    "nombre_infected      1214\n",
    "nombre_sain           336\n",
    "nombre_exposed         59\n",
    "nombre_recovered    18391\n",
    "Name: 53, dtype: int64"
   ]
  },
  {
   "cell_type": "markdown",
   "id": "64c07c60",
   "metadata": {},
   "source": [
    "nombre_infected      1065\n",
    "nombre_sain           373\n",
    "nombre_exposed         57\n",
    "nombre_recovered    18505\n",
    "Name: 54, dtype: int64"
   ]
  },
  {
   "cell_type": "markdown",
   "id": "fccb2ec1",
   "metadata": {},
   "source": [
    "nombre_infected       935\n",
    "nombre_sain           402\n",
    "nombre_exposed         64\n",
    "nombre_recovered    18599\n",
    "Name: 55, dtype: int64"
   ]
  },
  {
   "cell_type": "markdown",
   "id": "87236779",
   "metadata": {},
   "source": [
    "nombre_infected       819\n",
    "nombre_sain           437\n",
    "nombre_exposed         62\n",
    "nombre_recovered    18682\n",
    "Name: 56, dtype: int64"
   ]
  },
  {
   "cell_type": "markdown",
   "id": "6c609d61",
   "metadata": {},
   "source": [
    "nombre_infected       740\n",
    "nombre_sain           477\n",
    "nombre_exposed         58\n",
    "nombre_recovered    18725\n",
    "Name: 57, dtype: int64"
   ]
  },
  {
   "cell_type": "markdown",
   "id": "f5f517ee",
   "metadata": {},
   "source": [
    "nombre_infected       663\n",
    "nombre_sain           532\n",
    "nombre_exposed         47\n",
    "nombre_recovered    18758\n",
    "Name: 58, dtype: int64"
   ]
  },
  {
   "cell_type": "markdown",
   "id": "91b52593",
   "metadata": {},
   "source": [
    "nombre_infected       595\n",
    "nombre_sain           567\n",
    "nombre_exposed         50\n",
    "nombre_recovered    18788\n",
    "Name: 59, dtype: int64"
   ]
  },
  {
   "cell_type": "markdown",
   "id": "c3038ce1",
   "metadata": {},
   "source": [
    "nombre_infected       530\n",
    "nombre_sain           601\n",
    "nombre_exposed         52\n",
    "nombre_recovered    18817\n",
    "Name: 60, dtype: int64"
   ]
  },
  {
   "cell_type": "markdown",
   "id": "1e5983a1",
   "metadata": {},
   "source": [
    "nombre_infected       488\n",
    "nombre_sain           634\n",
    "nombre_exposed         51\n",
    "nombre_recovered    18827\n",
    "Name: 61, dtype: int64"
   ]
  },
  {
   "cell_type": "markdown",
   "id": "38e958a3",
   "metadata": {},
   "source": [
    "nombre_infected       438\n",
    "nombre_sain           673\n",
    "nombre_exposed         49\n",
    "nombre_recovered    18840\n",
    "Name: 62, dtype: int64"
   ]
  },
  {
   "cell_type": "markdown",
   "id": "07c0d4f6",
   "metadata": {},
   "source": [
    "nombre_infected       408\n",
    "nombre_sain           690\n",
    "nombre_exposed         54\n",
    "nombre_recovered    18848\n",
    "Name: 63, dtype: int64"
   ]
  },
  {
   "cell_type": "markdown",
   "id": "f29b5340",
   "metadata": {},
   "source": [
    "nombre_infected       372\n",
    "nombre_sain           700\n",
    "nombre_exposed         65\n",
    "nombre_recovered    18863\n",
    "Name: 64, dtype: int64"
   ]
  },
  {
   "cell_type": "markdown",
   "id": "ec0533a1",
   "metadata": {},
   "source": [
    "nombre_infected       336\n",
    "nombre_sain           739\n",
    "nombre_exposed         57\n",
    "nombre_recovered    18868\n",
    "Name: 65, dtype: int64"
   ]
  },
  {
   "cell_type": "markdown",
   "id": "0f726602",
   "metadata": {},
   "source": [
    "nombre_infected       316\n",
    "nombre_sain           776\n",
    "nombre_exposed         49\n",
    "nombre_recovered    18859\n",
    "Name: 66, dtype: int64"
   ]
  },
  {
   "cell_type": "markdown",
   "id": "edef165a",
   "metadata": {},
   "source": [
    "nombre_infected       291\n",
    "nombre_sain           809\n",
    "nombre_exposed         45\n",
    "nombre_recovered    18855\n",
    "Name: 67, dtype: int64"
   ]
  },
  {
   "cell_type": "markdown",
   "id": "0e30169f",
   "metadata": {},
   "source": [
    "nombre_infected       255\n",
    "nombre_sain           842\n",
    "nombre_exposed         39\n",
    "nombre_recovered    18864\n",
    "Name: 68, dtype: int64"
   ]
  },
  {
   "cell_type": "markdown",
   "id": "e974350e",
   "metadata": {},
   "source": [
    "nombre_infected       225\n",
    "nombre_sain           888\n",
    "nombre_exposed         40\n",
    "nombre_recovered    18847\n",
    "Name: 69, dtype: int64"
   ]
  },
  {
   "cell_type": "markdown",
   "id": "f5b0c686",
   "metadata": {},
   "source": [
    "nombre_infected       199\n",
    "nombre_sain           938\n",
    "nombre_exposed         38\n",
    "nombre_recovered    18825\n",
    "Name: 70, dtype: int64"
   ]
  },
  {
   "cell_type": "markdown",
   "id": "90738010",
   "metadata": {},
   "source": [
    "nombre_infected       187\n",
    "nombre_sain           978\n",
    "nombre_exposed         28\n",
    "nombre_recovered    18807\n",
    "Name: 71, dtype: int64"
   ]
  },
  {
   "cell_type": "markdown",
   "id": "992b28f4",
   "metadata": {},
   "source": [
    "nombre_infected       154\n",
    "nombre_sain          1017\n",
    "nombre_exposed         34\n",
    "nombre_recovered    18795\n",
    "Name: 72, dtype: int64"
   ]
  },
  {
   "cell_type": "markdown",
   "id": "1e81e82e",
   "metadata": {},
   "source": [
    "nombre_infected       134\n",
    "nombre_sain          1052\n",
    "nombre_exposed         37\n",
    "nombre_recovered    18777\n",
    "Name: 73, dtype: int64"
   ]
  },
  {
   "cell_type": "markdown",
   "id": "91b4e677",
   "metadata": {},
   "source": [
    "nombre_infected       122\n",
    "nombre_sain          1095\n",
    "nombre_exposed         37\n",
    "nombre_recovered    18746\n",
    "Name: 74, dtype: int64"
   ]
  },
  {
   "cell_type": "markdown",
   "id": "06761b60",
   "metadata": {},
   "source": [
    "nombre_infected       107\n",
    "nombre_sain          1144\n",
    "nombre_exposed         38\n",
    "nombre_recovered    18711\n",
    "Name: 75, dtype: int64"
   ]
  },
  {
   "cell_type": "markdown",
   "id": "fdb9c3eb",
   "metadata": {},
   "source": [
    "nombre_infected       100\n",
    "nombre_sain          1185\n",
    "nombre_exposed         34\n",
    "nombre_recovered    18681\n",
    "Name: 76, dtype: int64"
   ]
  },
  {
   "cell_type": "markdown",
   "id": "07caa63d",
   "metadata": {},
   "source": [
    "nombre_infected        90\n",
    "nombre_sain          1240\n",
    "nombre_exposed         29\n",
    "nombre_recovered    18641\n",
    "Name: 77, dtype: int64"
   ]
  },
  {
   "cell_type": "markdown",
   "id": "3c673d1c",
   "metadata": {},
   "source": [
    "nombre_infected        83\n",
    "nombre_sain          1284\n",
    "nombre_exposed         31\n",
    "nombre_recovered    18602\n",
    "Name: 78, dtype: int64"
   ]
  },
  {
   "cell_type": "markdown",
   "id": "6595d8bc",
   "metadata": {},
   "source": [
    "nombre_infected        82\n",
    "nombre_sain          1354\n",
    "nombre_exposed         29\n",
    "nombre_recovered    18535\n",
    "Name: 79, dtype: int64"
   ]
  },
  {
   "cell_type": "markdown",
   "id": "fa250bd1",
   "metadata": {},
   "source": [
    "nombre_infected        80\n",
    "nombre_sain          1404\n",
    "nombre_exposed         26\n",
    "nombre_recovered    18490\n",
    "Name: 80, dtype: int64"
   ]
  },
  {
   "cell_type": "markdown",
   "id": "efa71e10",
   "metadata": {},
   "source": [
    "nombre_infected        74\n",
    "nombre_sain          1444\n",
    "nombre_exposed         30\n",
    "nombre_recovered    18452\n",
    "Name: 81, dtype: int64"
   ]
  },
  {
   "cell_type": "markdown",
   "id": "840d4439",
   "metadata": {},
   "source": [
    "nombre_infected        77\n",
    "nombre_sain          1505\n",
    "nombre_exposed         31\n",
    "nombre_recovered    18387\n",
    "Name: 82, dtype: int64"
   ]
  },
  {
   "cell_type": "markdown",
   "id": "e1e750ea",
   "metadata": {},
   "source": [
    "nombre_infected        72\n",
    "nombre_sain          1551\n",
    "nombre_exposed         25\n",
    "nombre_recovered    18352\n",
    "Name: 83, dtype: int64"
   ]
  },
  {
   "cell_type": "markdown",
   "id": "33e0cf96",
   "metadata": {},
   "source": [
    "nombre_infected        75\n",
    "nombre_sain          1595\n",
    "nombre_exposed         28\n",
    "nombre_recovered    18302\n",
    "Name: 84, dtype: int64"
   ]
  },
  {
   "cell_type": "markdown",
   "id": "cc8998cb",
   "metadata": {},
   "source": [
    "nombre_infected        78\n",
    "nombre_sain          1659\n",
    "nombre_exposed         25\n",
    "nombre_recovered    18238\n",
    "Name: 85, dtype: int64"
   ]
  },
  {
   "cell_type": "markdown",
   "id": "4a8f52c6",
   "metadata": {},
   "source": [
    "nombre_infected        74\n",
    "nombre_sain          1719\n",
    "nombre_exposed         19\n",
    "nombre_recovered    18188\n",
    "Name: 86, dtype: int64"
   ]
  },
  {
   "cell_type": "markdown",
   "id": "a530ce0c",
   "metadata": {},
   "source": [
    "nombre_infected        69\n",
    "nombre_sain          1757\n",
    "nombre_exposed         31\n",
    "nombre_recovered    18143\n",
    "Name: 87, dtype: int64"
   ]
  },
  {
   "cell_type": "markdown",
   "id": "cc694ece",
   "metadata": {},
   "source": [
    "nombre_infected        65\n",
    "nombre_sain          1820\n",
    "nombre_exposed         27\n",
    "nombre_recovered    18088\n",
    "Name: 88, dtype: int64"
   ]
  },
  {
   "cell_type": "markdown",
   "id": "25a07f0d",
   "metadata": {},
   "source": [
    "nombre_infected        72\n",
    "nombre_sain          1862\n",
    "nombre_exposed         24\n",
    "nombre_recovered    18042\n",
    "Name: 89, dtype: int64"
   ]
  },
  {
   "cell_type": "markdown",
   "id": "49edd8f1",
   "metadata": {},
   "source": [
    "nombre_infected        68\n",
    "nombre_sain          1914\n",
    "nombre_exposed         25\n",
    "nombre_recovered    17993\n",
    "Name: 90, dtype: int64"
   ]
  },
  {
   "cell_type": "markdown",
   "id": "728e5c11",
   "metadata": {},
   "source": [
    "nombre_infected        71\n",
    "nombre_sain          1966\n",
    "nombre_exposed         25\n",
    "nombre_recovered    17938\n",
    "Name: 91, dtype: int64"
   ]
  },
  {
   "cell_type": "markdown",
   "id": "13684dcc",
   "metadata": {},
   "source": [
    "nombre_infected        74\n",
    "nombre_sain          2028\n",
    "nombre_exposed         24\n",
    "nombre_recovered    17874\n",
    "Name: 92, dtype: int64"
   ]
  },
  {
   "cell_type": "markdown",
   "id": "c37c3afc",
   "metadata": {},
   "source": [
    "nombre_infected        64\n",
    "nombre_sain          2073\n",
    "nombre_exposed         22\n",
    "nombre_recovered    17841\n",
    "Name: 93, dtype: int64"
   ]
  },
  {
   "cell_type": "markdown",
   "id": "421d9944",
   "metadata": {},
   "source": [
    "nombre_infected        62\n",
    "nombre_sain          2113\n",
    "nombre_exposed         21\n",
    "nombre_recovered    17804\n",
    "Name: 94, dtype: int64"
   ]
  },
  {
   "cell_type": "markdown",
   "id": "bcac0656",
   "metadata": {},
   "source": [
    "nombre_infected        59\n",
    "nombre_sain          2147\n",
    "nombre_exposed         25\n",
    "nombre_recovered    17769\n",
    "Name: 95, dtype: int64"
   ]
  },
  {
   "cell_type": "markdown",
   "id": "c304c6ac",
   "metadata": {},
   "source": [
    "nombre_infected        56\n",
    "nombre_sain          2179\n",
    "nombre_exposed         27\n",
    "nombre_recovered    17738\n",
    "Name: 96, dtype: int64"
   ]
  },
  {
   "cell_type": "markdown",
   "id": "7abee2a9",
   "metadata": {},
   "source": [
    "nombre_infected        57\n",
    "nombre_sain          2231\n",
    "nombre_exposed         26\n",
    "nombre_recovered    17686\n",
    "Name: 97, dtype: int64"
   ]
  },
  {
   "cell_type": "markdown",
   "id": "670ad38c",
   "metadata": {},
   "source": [
    "nombre_infected        58\n",
    "nombre_sain          2270\n",
    "nombre_exposed         27\n",
    "nombre_recovered    17645\n",
    "Name: 98, dtype: int64"
   ]
  },
  {
   "cell_type": "markdown",
   "id": "240d50d4",
   "metadata": {},
   "source": [
    "nombre_infected        58\n",
    "nombre_sain          2315\n",
    "nombre_exposed         30\n",
    "nombre_recovered    17597\n",
    "Name: 99, dtype: int64"
   ]
  },
  {
   "cell_type": "markdown",
   "id": "c7807de3",
   "metadata": {},
   "source": [
    "nombre_infected        59\n",
    "nombre_sain          2339\n",
    "nombre_exposed         40\n",
    "nombre_recovered    17562\n",
    "Name: 100, dtype: int64"
   ]
  },
  {
   "cell_type": "markdown",
   "id": "197273a1",
   "metadata": {},
   "source": [
    "nombre_infected        63\n",
    "nombre_sain          2393\n",
    "nombre_exposed         41\n",
    "nombre_recovered    17503\n",
    "Name: 101, dtype: int64"
   ]
  },
  {
   "cell_type": "markdown",
   "id": "5b2f6870",
   "metadata": {},
   "source": [
    "nombre_infected        67\n",
    "nombre_sain          2447\n",
    "nombre_exposed         41\n",
    "nombre_recovered    17445\n",
    "Name: 102, dtype: int64"
   ]
  },
  {
   "cell_type": "markdown",
   "id": "af26f3e8",
   "metadata": {},
   "source": [
    "nombre_infected        69\n",
    "nombre_sain          2494\n",
    "nombre_exposed         39\n",
    "nombre_recovered    17398\n",
    "Name: 103, dtype: int64"
   ]
  },
  {
   "cell_type": "markdown",
   "id": "b572774d",
   "metadata": {},
   "source": [
    "nombre_infected        67\n",
    "nombre_sain          2536\n",
    "nombre_exposed         40\n",
    "nombre_recovered    17357\n",
    "Name: 104, dtype: int64"
   ]
  },
  {
   "cell_type": "markdown",
   "id": "cbe2e466",
   "metadata": {},
   "source": [
    "nombre_infected        67\n",
    "nombre_sain          2582\n",
    "nombre_exposed         43\n",
    "nombre_recovered    17308\n",
    "Name: 105, dtype: int64"
   ]
  },
  {
   "cell_type": "markdown",
   "id": "787d08c3",
   "metadata": {},
   "source": [
    "nombre_infected        71\n",
    "nombre_sain          2637\n",
    "nombre_exposed         42\n",
    "nombre_recovered    17250\n",
    "Name: 106, dtype: int64"
   ]
  },
  {
   "cell_type": "markdown",
   "id": "9eb3cf0b",
   "metadata": {},
   "source": [
    "nombre_infected        75\n",
    "nombre_sain          2698\n",
    "nombre_exposed         43\n",
    "nombre_recovered    17184\n",
    "Name: 107, dtype: int64"
   ]
  },
  {
   "cell_type": "markdown",
   "id": "4e6ce04a",
   "metadata": {},
   "source": [
    "nombre_infected        76\n",
    "nombre_sain          2745\n",
    "nombre_exposed         44\n",
    "nombre_recovered    17135\n",
    "Name: 108, dtype: int64"
   ]
  },
  {
   "cell_type": "markdown",
   "id": "9440c68f",
   "metadata": {},
   "source": [
    "nombre_infected        76\n",
    "nombre_sain          2796\n",
    "nombre_exposed         53\n",
    "nombre_recovered    17075\n",
    "Name: 109, dtype: int64"
   ]
  },
  {
   "cell_type": "markdown",
   "id": "f4f0f586",
   "metadata": {},
   "source": [
    "nombre_infected        75\n",
    "nombre_sain          2858\n",
    "nombre_exposed         57\n",
    "nombre_recovered    17010\n",
    "Name: 110, dtype: int64"
   ]
  },
  {
   "cell_type": "markdown",
   "id": "f4180258",
   "metadata": {},
   "source": [
    "nombre_infected        85\n",
    "nombre_sain          2949\n",
    "nombre_exposed         54\n",
    "nombre_recovered    16912\n",
    "Name: 111, dtype: int64"
   ]
  },
  {
   "cell_type": "markdown",
   "id": "3f449be9",
   "metadata": {},
   "source": [
    "nombre_infected        92\n",
    "nombre_sain          3026\n",
    "nombre_exposed         57\n",
    "nombre_recovered    16825\n",
    "Name: 112, dtype: int64"
   ]
  },
  {
   "cell_type": "markdown",
   "id": "e38b8eed",
   "metadata": {},
   "source": [
    "nombre_infected        93\n",
    "nombre_sain          3097\n",
    "nombre_exposed         63\n",
    "nombre_recovered    16747\n",
    "Name: 113, dtype: int64"
   ]
  },
  {
   "cell_type": "markdown",
   "id": "538f05cf",
   "metadata": {},
   "source": [
    "nombre_infected        86\n",
    "nombre_sain          3142\n",
    "nombre_exposed         76\n",
    "nombre_recovered    16696\n",
    "Name: 114, dtype: int64"
   ]
  },
  {
   "cell_type": "markdown",
   "id": "da431e73",
   "metadata": {},
   "source": [
    "nombre_infected        95\n",
    "nombre_sain          3199\n",
    "nombre_exposed         82\n",
    "nombre_recovered    16624\n",
    "Name: 115, dtype: int64"
   ]
  },
  {
   "cell_type": "markdown",
   "id": "a3c2daa5",
   "metadata": {},
   "source": [
    "nombre_infected        99\n",
    "nombre_sain          3265\n",
    "nombre_exposed         87\n",
    "nombre_recovered    16549\n",
    "Name: 116, dtype: int64"
   ]
  },
  {
   "cell_type": "markdown",
   "id": "9212842e",
   "metadata": {},
   "source": [
    "nombre_infected       101\n",
    "nombre_sain          3322\n",
    "nombre_exposed         90\n",
    "nombre_recovered    16487\n",
    "Name: 117, dtype: int64"
   ]
  },
  {
   "cell_type": "markdown",
   "id": "4536aca5",
   "metadata": {},
   "source": [
    "nombre_infected       121\n",
    "nombre_sain          3368\n",
    "nombre_exposed         84\n",
    "nombre_recovered    16427\n",
    "Name: 118, dtype: int64"
   ]
  },
  {
   "cell_type": "markdown",
   "id": "084cb16a",
   "metadata": {},
   "source": [
    "nombre_infected       129\n",
    "nombre_sain          3403\n",
    "nombre_exposed         94\n",
    "nombre_recovered    16374\n",
    "Name: 119, dtype: int64"
   ]
  },
  {
   "cell_type": "markdown",
   "id": "4fc719e2",
   "metadata": {},
   "source": [
    "nombre_infected       135\n",
    "nombre_sain          3435\n",
    "nombre_exposed        100\n",
    "nombre_recovered    16330\n",
    "Name: 120, dtype: int64"
   ]
  },
  {
   "cell_type": "markdown",
   "id": "55020f91",
   "metadata": {},
   "source": [
    "nombre_infected       152\n",
    "nombre_sain          3466\n",
    "nombre_exposed        105\n",
    "nombre_recovered    16277\n",
    "Name: 121, dtype: int64"
   ]
  },
  {
   "cell_type": "markdown",
   "id": "3894e430",
   "metadata": {},
   "source": [
    "nombre_infected       160\n",
    "nombre_sain          3499\n",
    "nombre_exposed        112\n",
    "nombre_recovered    16229\n",
    "Name: 122, dtype: int64"
   ]
  },
  {
   "cell_type": "markdown",
   "id": "d1b3e4ff",
   "metadata": {},
   "source": [
    "nombre_infected       174\n",
    "nombre_sain          3509\n",
    "nombre_exposed        124\n",
    "nombre_recovered    16193\n",
    "Name: 123, dtype: int64"
   ]
  },
  {
   "cell_type": "markdown",
   "id": "8ea07f11",
   "metadata": {},
   "source": [
    "nombre_infected       179\n",
    "nombre_sain          3518\n",
    "nombre_exposed        147\n",
    "nombre_recovered    16156\n",
    "Name: 124, dtype: int64"
   ]
  },
  {
   "cell_type": "markdown",
   "id": "bb51be26",
   "metadata": {},
   "source": [
    "nombre_infected       193\n",
    "nombre_sain          3529\n",
    "nombre_exposed        153\n",
    "nombre_recovered    16125\n",
    "Name: 125, dtype: int64"
   ]
  },
  {
   "cell_type": "markdown",
   "id": "6959a77a",
   "metadata": {},
   "source": [
    "nombre_infected       209\n",
    "nombre_sain          3514\n",
    "nombre_exposed        176\n",
    "nombre_recovered    16101\n",
    "Name: 126, dtype: int64"
   ]
  },
  {
   "cell_type": "markdown",
   "id": "3a4849c2",
   "metadata": {},
   "source": [
    "nombre_infected       211\n",
    "nombre_sain          3490\n",
    "nombre_exposed        206\n",
    "nombre_recovered    16093\n",
    "Name: 127, dtype: int64"
   ]
  },
  {
   "cell_type": "markdown",
   "id": "05ee6214",
   "metadata": {},
   "source": [
    "nombre_infected       225\n",
    "nombre_sain          3488\n",
    "nombre_exposed        210\n",
    "nombre_recovered    16077\n",
    "Name: 128, dtype: int64"
   ]
  },
  {
   "cell_type": "markdown",
   "id": "5169399f",
   "metadata": {},
   "source": [
    "nombre_infected       242\n",
    "nombre_sain          3493\n",
    "nombre_exposed        212\n",
    "nombre_recovered    16053\n",
    "Name: 129, dtype: int64"
   ]
  },
  {
   "cell_type": "markdown",
   "id": "b24d32f8",
   "metadata": {},
   "source": [
    "nombre_infected       269\n",
    "nombre_sain          3503\n",
    "nombre_exposed        205\n",
    "nombre_recovered    16023\n",
    "Name: 130, dtype: int64"
   ]
  },
  {
   "cell_type": "markdown",
   "id": "8fa78350",
   "metadata": {},
   "source": [
    "nombre_infected       284\n",
    "nombre_sain          3475\n",
    "nombre_exposed        222\n",
    "nombre_recovered    16019\n",
    "Name: 131, dtype: int64"
   ]
  },
  {
   "cell_type": "markdown",
   "id": "422ad2b8",
   "metadata": {},
   "source": [
    "nombre_infected       309\n",
    "nombre_sain          3468\n",
    "nombre_exposed        228\n",
    "nombre_recovered    15995\n",
    "Name: 132, dtype: int64"
   ]
  },
  {
   "cell_type": "markdown",
   "id": "cb33621f",
   "metadata": {},
   "source": [
    "nombre_infected       316\n",
    "nombre_sain          3441\n",
    "nombre_exposed        247\n",
    "nombre_recovered    15996\n",
    "Name: 133, dtype: int64"
   ]
  },
  {
   "cell_type": "markdown",
   "id": "c2b1e00a",
   "metadata": {},
   "source": [
    "nombre_infected       311\n",
    "nombre_sain          3418\n",
    "nombre_exposed        262\n",
    "nombre_recovered    16009\n",
    "Name: 134, dtype: int64"
   ]
  },
  {
   "cell_type": "markdown",
   "id": "3a0be829",
   "metadata": {},
   "source": [
    "nombre_infected       327\n",
    "nombre_sain          3393\n",
    "nombre_exposed        264\n",
    "nombre_recovered    16016\n",
    "Name: 135, dtype: int64"
   ]
  },
  {
   "cell_type": "markdown",
   "id": "c9087cbd",
   "metadata": {},
   "source": [
    "nombre_infected       366\n",
    "nombre_sain          3361\n",
    "nombre_exposed        273\n",
    "nombre_recovered    16000\n",
    "Name: 136, dtype: int64"
   ]
  },
  {
   "cell_type": "markdown",
   "id": "90739f06",
   "metadata": {},
   "source": [
    "nombre_infected       375\n",
    "nombre_sain          3331\n",
    "nombre_exposed        292\n",
    "nombre_recovered    16002\n",
    "Name: 137, dtype: int64"
   ]
  },
  {
   "cell_type": "markdown",
   "id": "8945c0d8",
   "metadata": {},
   "source": [
    "nombre_infected       400\n",
    "nombre_sain          3286\n",
    "nombre_exposed        304\n",
    "nombre_recovered    16010\n",
    "Name: 138, dtype: int64"
   ]
  },
  {
   "cell_type": "markdown",
   "id": "ebf3ca55",
   "metadata": {},
   "source": [
    "nombre_infected       402\n",
    "nombre_sain          3242\n",
    "nombre_exposed        323\n",
    "nombre_recovered    16033\n",
    "Name: 139, dtype: int64"
   ]
  },
  {
   "cell_type": "markdown",
   "id": "7aac8381",
   "metadata": {},
   "source": [
    "nombre_infected       433\n",
    "nombre_sain          3201\n",
    "nombre_exposed        332\n",
    "nombre_recovered    16034\n",
    "Name: 140, dtype: int64"
   ]
  },
  {
   "cell_type": "markdown",
   "id": "af9de1b0",
   "metadata": {},
   "source": [
    "nombre_infected       457\n",
    "nombre_sain          3160\n",
    "nombre_exposed        336\n",
    "nombre_recovered    16047\n",
    "Name: 141, dtype: int64"
   ]
  },
  {
   "cell_type": "markdown",
   "id": "c88e79c7",
   "metadata": {},
   "source": [
    "nombre_infected       479\n",
    "nombre_sain          3102\n",
    "nombre_exposed        357\n",
    "nombre_recovered    16062\n",
    "Name: 142, dtype: int64"
   ]
  },
  {
   "cell_type": "markdown",
   "id": "2f827441",
   "metadata": {},
   "source": [
    "nombre_infected       506\n",
    "nombre_sain          3064\n",
    "nombre_exposed        363\n",
    "nombre_recovered    16067\n",
    "Name: 143, dtype: int64"
   ]
  },
  {
   "cell_type": "markdown",
   "id": "1abbe2a8",
   "metadata": {},
   "source": [
    "nombre_infected       530\n",
    "nombre_sain          3023\n",
    "nombre_exposed        378\n",
    "nombre_recovered    16069\n",
    "Name: 144, dtype: int64"
   ]
  },
  {
   "cell_type": "markdown",
   "id": "d65c02d7",
   "metadata": {},
   "source": [
    "nombre_infected       563\n",
    "nombre_sain          2972\n",
    "nombre_exposed        384\n",
    "nombre_recovered    16081\n",
    "Name: 145, dtype: int64"
   ]
  },
  {
   "cell_type": "markdown",
   "id": "f074e894",
   "metadata": {},
   "source": [
    "nombre_infected       594\n",
    "nombre_sain          2920\n",
    "nombre_exposed        395\n",
    "nombre_recovered    16091\n",
    "Name: 146, dtype: int64"
   ]
  },
  {
   "cell_type": "markdown",
   "id": "7a9e9c92",
   "metadata": {},
   "source": [
    "nombre_infected       593\n",
    "nombre_sain          2859\n",
    "nombre_exposed        420\n",
    "nombre_recovered    16128\n",
    "Name: 147, dtype: int64"
   ]
  },
  {
   "cell_type": "markdown",
   "id": "ee6c7367",
   "metadata": {},
   "source": [
    "nombre_infected       621\n",
    "nombre_sain          2779\n",
    "nombre_exposed        441\n",
    "nombre_recovered    16159\n",
    "Name: 148, dtype: int64"
   ]
  },
  {
   "cell_type": "markdown",
   "id": "3aaac771",
   "metadata": {},
   "source": [
    "nombre_infected       638\n",
    "nombre_sain          2729\n",
    "nombre_exposed        450\n",
    "nombre_recovered    16183\n",
    "Name: 149, dtype: int64"
   ]
  },
  {
   "cell_type": "markdown",
   "id": "290460e7",
   "metadata": {},
   "source": [
    "nombre_infected       682\n",
    "nombre_sain          2673\n",
    "nombre_exposed        446\n",
    "nombre_recovered    16199\n",
    "Name: 150, dtype: int64"
   ]
  },
  {
   "cell_type": "markdown",
   "id": "181a0273",
   "metadata": {},
   "source": [
    "nombre_infected       705\n",
    "nombre_sain          2614\n",
    "nombre_exposed        432\n",
    "nombre_recovered    16249\n",
    "Name: 151, dtype: int64"
   ]
  },
  {
   "cell_type": "markdown",
   "id": "084c9c72",
   "metadata": {},
   "source": [
    "nombre_infected       717\n",
    "nombre_sain          2536\n",
    "nombre_exposed        451\n",
    "nombre_recovered    16296\n",
    "Name: 152, dtype: int64"
   ]
  },
  {
   "cell_type": "markdown",
   "id": "2dcb941d",
   "metadata": {},
   "source": [
    "nombre_infected       727\n",
    "nombre_sain          2484\n",
    "nombre_exposed        453\n",
    "nombre_recovered    16336\n",
    "Name: 153, dtype: int64"
   ]
  },
  {
   "cell_type": "markdown",
   "id": "02570e48",
   "metadata": {},
   "source": [
    "nombre_infected       747\n",
    "nombre_sain          2429\n",
    "nombre_exposed        443\n",
    "nombre_recovered    16381\n",
    "Name: 154, dtype: int64"
   ]
  },
  {
   "cell_type": "markdown",
   "id": "b5f33d69",
   "metadata": {},
   "source": [
    "nombre_infected       764\n",
    "nombre_sain          2367\n",
    "nombre_exposed        443\n",
    "nombre_recovered    16426\n",
    "Name: 155, dtype: int64"
   ]
  },
  {
   "cell_type": "markdown",
   "id": "4e5878bd",
   "metadata": {},
   "source": [
    "nombre_infected       786\n",
    "nombre_sain          2284\n",
    "nombre_exposed        449\n",
    "nombre_recovered    16481\n",
    "Name: 156, dtype: int64"
   ]
  },
  {
   "cell_type": "markdown",
   "id": "5fb85868",
   "metadata": {},
   "source": [
    "nombre_infected       789\n",
    "nombre_sain          2230\n",
    "nombre_exposed        440\n",
    "nombre_recovered    16541\n",
    "Name: 157, dtype: int64"
   ]
  },
  {
   "cell_type": "markdown",
   "id": "4e14ef3c",
   "metadata": {},
   "source": [
    "nombre_infected       785\n",
    "nombre_sain          2172\n",
    "nombre_exposed        438\n",
    "nombre_recovered    16605\n",
    "Name: 158, dtype: int64"
   ]
  },
  {
   "cell_type": "markdown",
   "id": "e40a58c8",
   "metadata": {},
   "source": [
    "nombre_infected       784\n",
    "nombre_sain          2131\n",
    "nombre_exposed        406\n",
    "nombre_recovered    16679\n",
    "Name: 159, dtype: int64"
   ]
  },
  {
   "cell_type": "markdown",
   "id": "7ea0bb4b",
   "metadata": {},
   "source": [
    "nombre_infected       769\n",
    "nombre_sain          2109\n",
    "nombre_exposed        398\n",
    "nombre_recovered    16724\n",
    "Name: 160, dtype: int64"
   ]
  },
  {
   "cell_type": "markdown",
   "id": "22ad9958",
   "metadata": {},
   "source": [
    "nombre_infected       745\n",
    "nombre_sain          2042\n",
    "nombre_exposed        420\n",
    "nombre_recovered    16793\n",
    "Name: 161, dtype: int64"
   ]
  },
  {
   "cell_type": "markdown",
   "id": "9a3fb079",
   "metadata": {},
   "source": [
    "nombre_infected       767\n",
    "nombre_sain          2023\n",
    "nombre_exposed        396\n",
    "nombre_recovered    16814\n",
    "Name: 162, dtype: int64"
   ]
  },
  {
   "cell_type": "markdown",
   "id": "dd033104",
   "metadata": {},
   "source": [
    "nombre_infected       793\n",
    "nombre_sain          1985\n",
    "nombre_exposed        378\n",
    "nombre_recovered    16844\n",
    "Name: 163, dtype: int64"
   ]
  },
  {
   "cell_type": "markdown",
   "id": "870675b8",
   "metadata": {},
   "source": [
    "nombre_infected       753\n",
    "nombre_sain          1946\n",
    "nombre_exposed        394\n",
    "nombre_recovered    16907\n",
    "Name: 164, dtype: int64"
   ]
  },
  {
   "cell_type": "markdown",
   "id": "ddad97ba",
   "metadata": {},
   "source": [
    "nombre_infected       728\n",
    "nombre_sain          1896\n",
    "nombre_exposed        390\n",
    "nombre_recovered    16986\n",
    "Name: 165, dtype: int64"
   ]
  },
  {
   "cell_type": "markdown",
   "id": "9526a7eb",
   "metadata": {},
   "source": [
    "nombre_infected       728\n",
    "nombre_sain          1871\n",
    "nombre_exposed        390\n",
    "nombre_recovered    17011\n",
    "Name: 166, dtype: int64"
   ]
  },
  {
   "cell_type": "markdown",
   "id": "9935c495",
   "metadata": {},
   "source": [
    "nombre_infected       745\n",
    "nombre_sain          1833\n",
    "nombre_exposed        356\n",
    "nombre_recovered    17066\n",
    "Name: 167, dtype: int64"
   ]
  },
  {
   "cell_type": "markdown",
   "id": "a631a61c",
   "metadata": {},
   "source": [
    "nombre_infected       739\n",
    "nombre_sain          1812\n",
    "nombre_exposed        340\n",
    "nombre_recovered    17109\n",
    "Name: 168, dtype: int64"
   ]
  },
  {
   "cell_type": "markdown",
   "id": "01b7fd37",
   "metadata": {},
   "source": [
    "nombre_infected       727\n",
    "nombre_sain          1762\n",
    "nombre_exposed        358\n",
    "nombre_recovered    17153\n",
    "Name: 169, dtype: int64"
   ]
  },
  {
   "cell_type": "markdown",
   "id": "37573985",
   "metadata": {},
   "source": [
    "nombre_infected       710\n",
    "nombre_sain          1733\n",
    "nombre_exposed        370\n",
    "nombre_recovered    17187\n",
    "Name: 170, dtype: int64"
   ]
  },
  {
   "cell_type": "markdown",
   "id": "cf9f2429",
   "metadata": {},
   "source": [
    "nombre_infected       731\n",
    "nombre_sain          1725\n",
    "nombre_exposed        322\n",
    "nombre_recovered    17222\n",
    "Name: 171, dtype: int64"
   ]
  },
  {
   "cell_type": "markdown",
   "id": "0410df12",
   "metadata": {},
   "source": [
    "nombre_infected       740\n",
    "nombre_sain          1714\n",
    "nombre_exposed        308\n",
    "nombre_recovered    17238\n",
    "Name: 172, dtype: int64"
   ]
  },
  {
   "cell_type": "markdown",
   "id": "0d0ae712",
   "metadata": {},
   "source": [
    "nombre_infected       714\n",
    "nombre_sain          1706\n",
    "nombre_exposed        317\n",
    "nombre_recovered    17263\n",
    "Name: 173, dtype: int64"
   ]
  },
  {
   "cell_type": "markdown",
   "id": "228e5bf1",
   "metadata": {},
   "source": [
    "nombre_infected       688\n",
    "nombre_sain          1691\n",
    "nombre_exposed        322\n",
    "nombre_recovered    17299\n",
    "Name: 174, dtype: int64"
   ]
  },
  {
   "cell_type": "markdown",
   "id": "dba0745a",
   "metadata": {},
   "source": [
    "nombre_infected       688\n",
    "nombre_sain          1685\n",
    "nombre_exposed        302\n",
    "nombre_recovered    17325\n",
    "Name: 175, dtype: int64"
   ]
  },
  {
   "cell_type": "markdown",
   "id": "c7887564",
   "metadata": {},
   "source": [
    "nombre_infected       676\n",
    "nombre_sain          1689\n",
    "nombre_exposed        292\n",
    "nombre_recovered    17343\n",
    "Name: 176, dtype: int64"
   ]
  },
  {
   "cell_type": "markdown",
   "id": "365998fa",
   "metadata": {},
   "source": [
    "nombre_infected       667\n",
    "nombre_sain          1701\n",
    "nombre_exposed        280\n",
    "nombre_recovered    17352\n",
    "Name: 177, dtype: int64"
   ]
  },
  {
   "cell_type": "markdown",
   "id": "9747ccac",
   "metadata": {},
   "source": [
    "nombre_infected       663\n",
    "nombre_sain          1665\n",
    "nombre_exposed        296\n",
    "nombre_recovered    17376\n",
    "Name: 178, dtype: int64"
   ]
  },
  {
   "cell_type": "markdown",
   "id": "5ff84be8",
   "metadata": {},
   "source": [
    "nombre_infected       665\n",
    "nombre_sain          1666\n",
    "nombre_exposed        292\n",
    "nombre_recovered    17377\n",
    "Name: 179, dtype: int64"
   ]
  },
  {
   "cell_type": "markdown",
   "id": "11d51357",
   "metadata": {},
   "source": [
    "nombre_infected       659\n",
    "nombre_sain          1658\n",
    "nombre_exposed        269\n",
    "nombre_recovered    17414\n",
    "Name: 180, dtype: int64"
   ]
  },
  {
   "cell_type": "markdown",
   "id": "dd7f2ec6",
   "metadata": {},
   "source": [
    "nombre_infected       634\n",
    "nombre_sain          1651\n",
    "nombre_exposed        271\n",
    "nombre_recovered    17444\n",
    "Name: 181, dtype: int64"
   ]
  },
  {
   "cell_type": "markdown",
   "id": "8620364b",
   "metadata": {},
   "source": [
    "nombre_infected       624\n",
    "nombre_sain          1661\n",
    "nombre_exposed        269\n",
    "nombre_recovered    17446\n",
    "Name: 182, dtype: int64"
   ]
  },
  {
   "cell_type": "markdown",
   "id": "048d9859",
   "metadata": {},
   "source": [
    "nombre_infected       604\n",
    "nombre_sain          1652\n",
    "nombre_exposed        278\n",
    "nombre_recovered    17466\n",
    "Name: 183, dtype: int64"
   ]
  },
  {
   "cell_type": "markdown",
   "id": "d4b0642b",
   "metadata": {},
   "source": [
    "nombre_infected       560\n",
    "nombre_sain          1653\n",
    "nombre_exposed        277\n",
    "nombre_recovered    17510\n",
    "Name: 184, dtype: int64"
   ]
  },
  {
   "cell_type": "markdown",
   "id": "24660212",
   "metadata": {},
   "source": [
    "nombre_infected       538\n",
    "nombre_sain          1661\n",
    "nombre_exposed        263\n",
    "nombre_recovered    17538\n",
    "Name: 185, dtype: int64"
   ]
  },
  {
   "cell_type": "markdown",
   "id": "4fa0e5b5",
   "metadata": {},
   "source": [
    "nombre_infected       523\n",
    "nombre_sain          1685\n",
    "nombre_exposed        251\n",
    "nombre_recovered    17541\n",
    "Name: 186, dtype: int64"
   ]
  },
  {
   "cell_type": "markdown",
   "id": "ecd70cbd",
   "metadata": {},
   "source": [
    "nombre_infected       525\n",
    "nombre_sain          1695\n",
    "nombre_exposed        249\n",
    "nombre_recovered    17531\n",
    "Name: 187, dtype: int64"
   ]
  },
  {
   "cell_type": "markdown",
   "id": "42533d5b",
   "metadata": {},
   "source": [
    "nombre_infected       519\n",
    "nombre_sain          1730\n",
    "nombre_exposed        247\n",
    "nombre_recovered    17504\n",
    "Name: 188, dtype: int64"
   ]
  },
  {
   "cell_type": "markdown",
   "id": "2d6564db",
   "metadata": {},
   "source": [
    "nombre_infected       503\n",
    "nombre_sain          1747\n",
    "nombre_exposed        252\n",
    "nombre_recovered    17498\n",
    "Name: 189, dtype: int64"
   ]
  },
  {
   "cell_type": "markdown",
   "id": "5f4173d2",
   "metadata": {},
   "source": [
    "nombre_infected       500\n",
    "nombre_sain          1753\n",
    "nombre_exposed        257\n",
    "nombre_recovered    17490\n",
    "Name: 190, dtype: int64"
   ]
  },
  {
   "cell_type": "markdown",
   "id": "f28b814f",
   "metadata": {},
   "source": [
    "nombre_infected       497\n",
    "nombre_sain          1783\n",
    "nombre_exposed        238\n",
    "nombre_recovered    17482\n",
    "Name: 191, dtype: int64"
   ]
  },
  {
   "cell_type": "markdown",
   "id": "fb86b01c",
   "metadata": {},
   "source": [
    "nombre_infected       515\n",
    "nombre_sain          1802\n",
    "nombre_exposed        205\n",
    "nombre_recovered    17478\n",
    "Name: 192, dtype: int64"
   ]
  },
  {
   "cell_type": "markdown",
   "id": "7c702020",
   "metadata": {},
   "source": [
    "nombre_infected       517\n",
    "nombre_sain          1844\n",
    "nombre_exposed        198\n",
    "nombre_recovered    17441\n",
    "Name: 193, dtype: int64"
   ]
  },
  {
   "cell_type": "markdown",
   "id": "d1f42543",
   "metadata": {},
   "source": [
    "nombre_infected       502\n",
    "nombre_sain          1858\n",
    "nombre_exposed        211\n",
    "nombre_recovered    17429\n",
    "Name: 194, dtype: int64"
   ]
  },
  {
   "cell_type": "markdown",
   "id": "8c63feb4",
   "metadata": {},
   "source": [
    "nombre_infected       489\n",
    "nombre_sain          1879\n",
    "nombre_exposed        207\n",
    "nombre_recovered    17425\n",
    "Name: 195, dtype: int64"
   ]
  },
  {
   "cell_type": "markdown",
   "id": "e6f0e5b9",
   "metadata": {},
   "source": [
    "nombre_infected       459\n",
    "nombre_sain          1889\n",
    "nombre_exposed        209\n",
    "nombre_recovered    17443\n",
    "Name: 196, dtype: int64"
   ]
  },
  {
   "cell_type": "markdown",
   "id": "3df6bc33",
   "metadata": {},
   "source": [
    "nombre_infected       451\n",
    "nombre_sain          1910\n",
    "nombre_exposed        209\n",
    "nombre_recovered    17430\n",
    "Name: 197, dtype: int64"
   ]
  },
  {
   "cell_type": "markdown",
   "id": "0d90e97c",
   "metadata": {},
   "source": [
    "nombre_infected       460\n",
    "nombre_sain          1917\n",
    "nombre_exposed        212\n",
    "nombre_recovered    17411\n",
    "Name: 198, dtype: int64"
   ]
  },
  {
   "cell_type": "markdown",
   "id": "5f67c760",
   "metadata": {},
   "source": [
    "nombre_infected       463\n",
    "nombre_sain          1957\n",
    "nombre_exposed        212\n",
    "nombre_recovered    17368\n",
    "Name: 199, dtype: int64"
   ]
  },
  {
   "cell_type": "markdown",
   "id": "1d3c367a",
   "metadata": {},
   "source": [
    "nombre_infected       458\n",
    "nombre_sain          1975\n",
    "nombre_exposed        214\n",
    "nombre_recovered    17353\n",
    "Name: 200, dtype: int64"
   ]
  },
  {
   "cell_type": "markdown",
   "id": "e4310172",
   "metadata": {},
   "source": [
    "nombre_infected       460\n",
    "nombre_sain          2000\n",
    "nombre_exposed        218\n",
    "nombre_recovered    17322\n",
    "Name: 201, dtype: int64"
   ]
  },
  {
   "cell_type": "markdown",
   "id": "3343075a",
   "metadata": {},
   "source": [
    "nombre_infected       467\n",
    "nombre_sain          2024\n",
    "nombre_exposed        209\n",
    "nombre_recovered    17300\n",
    "Name: 202, dtype: int64"
   ]
  },
  {
   "cell_type": "markdown",
   "id": "90d5eda4",
   "metadata": {},
   "source": [
    "nombre_infected       463\n",
    "nombre_sain          2050\n",
    "nombre_exposed        214\n",
    "nombre_recovered    17273\n",
    "Name: 203, dtype: int64"
   ]
  },
  {
   "cell_type": "markdown",
   "id": "4a31caba",
   "metadata": {},
   "source": [
    "nombre_infected       464\n",
    "nombre_sain          2076\n",
    "nombre_exposed        225\n",
    "nombre_recovered    17235\n",
    "Name: 204, dtype: int64"
   ]
  },
  {
   "cell_type": "markdown",
   "id": "c959c5a9",
   "metadata": {},
   "source": [
    "nombre_infected       478\n",
    "nombre_sain          2115\n",
    "nombre_exposed        215\n",
    "nombre_recovered    17192\n",
    "Name: 205, dtype: int64"
   ]
  },
  {
   "cell_type": "markdown",
   "id": "3b393e1d",
   "metadata": {},
   "source": [
    "nombre_infected       465\n",
    "nombre_sain          2163\n",
    "nombre_exposed        212\n",
    "nombre_recovered    17160\n",
    "Name: 206, dtype: int64"
   ]
  },
  {
   "cell_type": "markdown",
   "id": "8f6572b8",
   "metadata": {},
   "source": [
    "nombre_infected       468\n",
    "nombre_sain          2193\n",
    "nombre_exposed        216\n",
    "nombre_recovered    17123\n",
    "Name: 207, dtype: int64"
   ]
  },
  {
   "cell_type": "markdown",
   "id": "dfb15653",
   "metadata": {},
   "source": [
    "nombre_infected       466\n",
    "nombre_sain          2260\n",
    "nombre_exposed        209\n",
    "nombre_recovered    17065\n",
    "Name: 208, dtype: int64"
   ]
  },
  {
   "cell_type": "markdown",
   "id": "d01ead35",
   "metadata": {},
   "source": [
    "nombre_infected       482\n",
    "nombre_sain          2296\n",
    "nombre_exposed        209\n",
    "nombre_recovered    17013\n",
    "Name: 209, dtype: int64"
   ]
  },
  {
   "cell_type": "markdown",
   "id": "020bb26f",
   "metadata": {},
   "source": [
    "nombre_infected       469\n",
    "nombre_sain          2337\n",
    "nombre_exposed        224\n",
    "nombre_recovered    16970\n",
    "Name: 210, dtype: int64"
   ]
  },
  {
   "cell_type": "markdown",
   "id": "0f23704f",
   "metadata": {},
   "source": [
    "nombre_infected       454\n",
    "nombre_sain          2380\n",
    "nombre_exposed        252\n",
    "nombre_recovered    16914\n",
    "Name: 211, dtype: int64"
   ]
  },
  {
   "cell_type": "markdown",
   "id": "34d1abc1",
   "metadata": {},
   "source": [
    "nombre_infected       449\n",
    "nombre_sain          2443\n",
    "nombre_exposed        272\n",
    "nombre_recovered    16836\n",
    "Name: 212, dtype: int64"
   ]
  },
  {
   "cell_type": "markdown",
   "id": "5c8abe9a",
   "metadata": {},
   "source": [
    "nombre_infected       482\n",
    "nombre_sain          2508\n",
    "nombre_exposed        254\n",
    "nombre_recovered    16756\n",
    "Name: 213, dtype: int64"
   ]
  },
  {
   "cell_type": "markdown",
   "id": "40d37426",
   "metadata": {},
   "source": [
    "nombre_infected       504\n",
    "nombre_sain          2556\n",
    "nombre_exposed        249\n",
    "nombre_recovered    16691\n",
    "Name: 214, dtype: int64"
   ]
  },
  {
   "cell_type": "markdown",
   "id": "4628aa53",
   "metadata": {},
   "source": [
    "nombre_infected       508\n",
    "nombre_sain          2609\n",
    "nombre_exposed        255\n",
    "nombre_recovered    16628\n",
    "Name: 215, dtype: int64"
   ]
  },
  {
   "cell_type": "markdown",
   "id": "5a942673",
   "metadata": {},
   "source": [
    "nombre_infected       502\n",
    "nombre_sain          2641\n",
    "nombre_exposed        281\n",
    "nombre_recovered    16576\n",
    "Name: 216, dtype: int64"
   ]
  },
  {
   "cell_type": "markdown",
   "id": "874a0569",
   "metadata": {},
   "source": [
    "nombre_infected       494\n",
    "nombre_sain          2692\n",
    "nombre_exposed        290\n",
    "nombre_recovered    16524\n",
    "Name: 217, dtype: int64"
   ]
  },
  {
   "cell_type": "markdown",
   "id": "c5a2d4ac",
   "metadata": {},
   "source": [
    "nombre_infected       515\n",
    "nombre_sain          2759\n",
    "nombre_exposed        277\n",
    "nombre_recovered    16449\n",
    "Name: 218, dtype: int64"
   ]
  },
  {
   "cell_type": "markdown",
   "id": "ac97f407",
   "metadata": {},
   "source": [
    "nombre_infected       527\n",
    "nombre_sain          2780\n",
    "nombre_exposed        312\n",
    "nombre_recovered    16381\n",
    "Name: 219, dtype: int64"
   ]
  },
  {
   "cell_type": "markdown",
   "id": "19e1e443",
   "metadata": {},
   "source": [
    "nombre_infected       528\n",
    "nombre_sain          2834\n",
    "nombre_exposed        322\n",
    "nombre_recovered    16316\n",
    "Name: 220, dtype: int64"
   ]
  },
  {
   "cell_type": "markdown",
   "id": "14ed945e",
   "metadata": {},
   "source": [
    "nombre_infected       543\n",
    "nombre_sain          2884\n",
    "nombre_exposed        317\n",
    "nombre_recovered    16256\n",
    "Name: 221, dtype: int64"
   ]
  },
  {
   "cell_type": "markdown",
   "id": "1577d946",
   "metadata": {},
   "source": [
    "nombre_infected       560\n",
    "nombre_sain          2923\n",
    "nombre_exposed        308\n",
    "nombre_recovered    16209\n",
    "Name: 222, dtype: int64"
   ]
  },
  {
   "cell_type": "markdown",
   "id": "9488127f",
   "metadata": {},
   "source": [
    "nombre_infected       566\n",
    "nombre_sain          2928\n",
    "nombre_exposed        337\n",
    "nombre_recovered    16169\n",
    "Name: 223, dtype: int64"
   ]
  },
  {
   "cell_type": "markdown",
   "id": "fd6fa98b",
   "metadata": {},
   "source": [
    "nombre_infected       570\n",
    "nombre_sain          2969\n",
    "nombre_exposed        352\n",
    "nombre_recovered    16109\n",
    "Name: 224, dtype: int64"
   ]
  },
  {
   "cell_type": "markdown",
   "id": "0ca4016c",
   "metadata": {},
   "source": [
    "nombre_infected       583\n",
    "nombre_sain          2963\n",
    "nombre_exposed        371\n",
    "nombre_recovered    16083\n",
    "Name: 225, dtype: int64"
   ]
  },
  {
   "cell_type": "markdown",
   "id": "44106605",
   "metadata": {},
   "source": [
    "nombre_infected       591\n",
    "nombre_sain          2983\n",
    "nombre_exposed        392\n",
    "nombre_recovered    16034\n",
    "Name: 226, dtype: int64"
   ]
  },
  {
   "cell_type": "markdown",
   "id": "34f62b9b",
   "metadata": {},
   "source": [
    "nombre_infected       625\n",
    "nombre_sain          2995\n",
    "nombre_exposed        381\n",
    "nombre_recovered    15999\n",
    "Name: 227, dtype: int64"
   ]
  },
  {
   "cell_type": "markdown",
   "id": "f0e36d5f",
   "metadata": {},
   "source": [
    "nombre_infected       668\n",
    "nombre_sain          2965\n",
    "nombre_exposed        415\n",
    "nombre_recovered    15952\n",
    "Name: 228, dtype: int64"
   ]
  },
  {
   "cell_type": "markdown",
   "id": "9135210e",
   "metadata": {},
   "source": [
    "nombre_infected       693\n",
    "nombre_sain          2968\n",
    "nombre_exposed        426\n",
    "nombre_recovered    15913\n",
    "Name: 229, dtype: int64"
   ]
  },
  {
   "cell_type": "markdown",
   "id": "f9a4fcb2",
   "metadata": {},
   "source": [
    "nombre_infected       700\n",
    "nombre_sain          2967\n",
    "nombre_exposed        454\n",
    "nombre_recovered    15879\n",
    "Name: 230, dtype: int64"
   ]
  },
  {
   "cell_type": "markdown",
   "id": "e5339f7b",
   "metadata": {},
   "source": [
    "nombre_infected       727\n",
    "nombre_sain          2926\n",
    "nombre_exposed        468\n",
    "nombre_recovered    15879\n",
    "Name: 231, dtype: int64"
   ]
  },
  {
   "cell_type": "markdown",
   "id": "a77fc805",
   "metadata": {},
   "source": [
    "nombre_infected       767\n",
    "nombre_sain          2876\n",
    "nombre_exposed        501\n",
    "nombre_recovered    15856\n",
    "Name: 232, dtype: int64"
   ]
  },
  {
   "cell_type": "markdown",
   "id": "71c73867",
   "metadata": {},
   "source": [
    "nombre_infected       777\n",
    "nombre_sain          2850\n",
    "nombre_exposed        529\n",
    "nombre_recovered    15844\n",
    "Name: 233, dtype: int64"
   ]
  },
  {
   "cell_type": "markdown",
   "id": "3e284f8a",
   "metadata": {},
   "source": [
    "nombre_infected       812\n",
    "nombre_sain          2812\n",
    "nombre_exposed        541\n",
    "nombre_recovered    15835\n",
    "Name: 234, dtype: int64"
   ]
  },
  {
   "cell_type": "markdown",
   "id": "901111bd",
   "metadata": {},
   "source": [
    "nombre_infected       848\n",
    "nombre_sain          2780\n",
    "nombre_exposed        553\n",
    "nombre_recovered    15819\n",
    "Name: 235, dtype: int64"
   ]
  },
  {
   "cell_type": "markdown",
   "id": "a1a86786",
   "metadata": {},
   "source": [
    "nombre_infected       855\n",
    "nombre_sain          2722\n",
    "nombre_exposed        601\n",
    "nombre_recovered    15822\n",
    "Name: 236, dtype: int64"
   ]
  },
  {
   "cell_type": "markdown",
   "id": "886714f3",
   "metadata": {},
   "source": [
    "nombre_infected       897\n",
    "nombre_sain          2691\n",
    "nombre_exposed        603\n",
    "nombre_recovered    15809\n",
    "Name: 237, dtype: int64"
   ]
  },
  {
   "cell_type": "markdown",
   "id": "75095e67",
   "metadata": {},
   "source": [
    "nombre_infected       938\n",
    "nombre_sain          2640\n",
    "nombre_exposed        604\n",
    "nombre_recovered    15818\n",
    "Name: 238, dtype: int64"
   ]
  },
  {
   "cell_type": "markdown",
   "id": "8a47afbf",
   "metadata": {},
   "source": [
    "nombre_infected       970\n",
    "nombre_sain          2578\n",
    "nombre_exposed        613\n",
    "nombre_recovered    15839\n",
    "Name: 239, dtype: int64"
   ]
  },
  {
   "cell_type": "markdown",
   "id": "c7c93c11",
   "metadata": {},
   "source": [
    "nombre_infected      1001\n",
    "nombre_sain          2512\n",
    "nombre_exposed        620\n",
    "nombre_recovered    15867\n",
    "Name: 240, dtype: int64"
   ]
  },
  {
   "cell_type": "markdown",
   "id": "3df28131",
   "metadata": {},
   "source": [
    "nombre_infected      1015\n",
    "nombre_sain          2427\n",
    "nombre_exposed        641\n",
    "nombre_recovered    15917\n",
    "Name: 241, dtype: int64"
   ]
  },
  {
   "cell_type": "markdown",
   "id": "e13792fd",
   "metadata": {},
   "source": [
    "nombre_infected      1019\n",
    "nombre_sain          2374\n",
    "nombre_exposed        640\n",
    "nombre_recovered    15967\n",
    "Name: 242, dtype: int64"
   ]
  },
  {
   "cell_type": "markdown",
   "id": "db278f9b",
   "metadata": {},
   "source": [
    "nombre_infected      1052\n",
    "nombre_sain          2303\n",
    "nombre_exposed        632\n",
    "nombre_recovered    16013\n",
    "Name: 243, dtype: int64"
   ]
  },
  {
   "cell_type": "markdown",
   "id": "2444f435",
   "metadata": {},
   "source": [
    "nombre_infected      1053\n",
    "nombre_sain          2213\n",
    "nombre_exposed        680\n",
    "nombre_recovered    16054\n",
    "Name: 244, dtype: int64"
   ]
  },
  {
   "cell_type": "markdown",
   "id": "f8558c3d",
   "metadata": {},
   "source": [
    "nombre_infected      1075\n",
    "nombre_sain          2159\n",
    "nombre_exposed        670\n",
    "nombre_recovered    16096\n",
    "Name: 245, dtype: int64"
   ]
  },
  {
   "cell_type": "markdown",
   "id": "abbda75f",
   "metadata": {},
   "source": [
    "nombre_infected      1117\n",
    "nombre_sain          2117\n",
    "nombre_exposed        659\n",
    "nombre_recovered    16107\n",
    "Name: 246, dtype: int64"
   ]
  },
  {
   "cell_type": "markdown",
   "id": "489c8ba5",
   "metadata": {},
   "source": [
    "nombre_infected      1144\n",
    "nombre_sain          2083\n",
    "nombre_exposed        609\n",
    "nombre_recovered    16164\n",
    "Name: 247, dtype: int64"
   ]
  },
  {
   "cell_type": "markdown",
   "id": "3fd52f15",
   "metadata": {},
   "source": [
    "nombre_infected      1174\n",
    "nombre_sain          2042\n",
    "nombre_exposed        599\n",
    "nombre_recovered    16185\n",
    "Name: 248, dtype: int64"
   ]
  },
  {
   "cell_type": "markdown",
   "id": "144ed1f5",
   "metadata": {},
   "source": [
    "nombre_infected      1165\n",
    "nombre_sain          2014\n",
    "nombre_exposed        587\n",
    "nombre_recovered    16234\n",
    "Name: 249, dtype: int64"
   ]
  },
  {
   "cell_type": "markdown",
   "id": "741af5c4",
   "metadata": {},
   "source": [
    "nombre_infected      1173\n",
    "nombre_sain          1960\n",
    "nombre_exposed        593\n",
    "nombre_recovered    16274\n",
    "Name: 250, dtype: int64"
   ]
  },
  {
   "cell_type": "markdown",
   "id": "a5f33441",
   "metadata": {},
   "source": [
    "nombre_infected      1176\n",
    "nombre_sain          1923\n",
    "nombre_exposed        562\n",
    "nombre_recovered    16339\n",
    "Name: 251, dtype: int64"
   ]
  },
  {
   "cell_type": "markdown",
   "id": "59c551f9",
   "metadata": {},
   "source": [
    "nombre_infected      1175\n",
    "nombre_sain          1885\n",
    "nombre_exposed        553\n",
    "nombre_recovered    16387\n",
    "Name: 252, dtype: int64"
   ]
  },
  {
   "cell_type": "markdown",
   "id": "b79767f3",
   "metadata": {},
   "source": [
    "nombre_infected      1142\n",
    "nombre_sain          1842\n",
    "nombre_exposed        563\n",
    "nombre_recovered    16453\n",
    "Name: 253, dtype: int64"
   ]
  },
  {
   "cell_type": "markdown",
   "id": "04d8990c",
   "metadata": {},
   "source": [
    "nombre_infected      1143\n",
    "nombre_sain          1821\n",
    "nombre_exposed        526\n",
    "nombre_recovered    16510\n",
    "Name: 254, dtype: int64"
   ]
  },
  {
   "cell_type": "markdown",
   "id": "e92c53dd",
   "metadata": {},
   "source": [
    "nombre_infected      1136\n",
    "nombre_sain          1794\n",
    "nombre_exposed        519\n",
    "nombre_recovered    16551\n",
    "Name: 255, dtype: int64"
   ]
  },
  {
   "cell_type": "markdown",
   "id": "ab9e9f18",
   "metadata": {},
   "source": [
    "nombre_infected      1102\n",
    "nombre_sain          1738\n",
    "nombre_exposed        541\n",
    "nombre_recovered    16619\n",
    "Name: 256, dtype: int64"
   ]
  },
  {
   "cell_type": "markdown",
   "id": "1a15475c",
   "metadata": {},
   "source": [
    "nombre_infected      1091\n",
    "nombre_sain          1725\n",
    "nombre_exposed        513\n",
    "nombre_recovered    16671\n",
    "Name: 257, dtype: int64"
   ]
  },
  {
   "cell_type": "markdown",
   "id": "c1e6ffc5",
   "metadata": {},
   "source": [
    "nombre_infected      1081\n",
    "nombre_sain          1725\n",
    "nombre_exposed        476\n",
    "nombre_recovered    16718\n",
    "Name: 258, dtype: int64"
   ]
  },
  {
   "cell_type": "markdown",
   "id": "b6c35eab",
   "metadata": {},
   "source": [
    "nombre_infected      1080\n",
    "nombre_sain          1682\n",
    "nombre_exposed        475\n",
    "nombre_recovered    16763\n",
    "Name: 259, dtype: int64"
   ]
  },
  {
   "cell_type": "markdown",
   "id": "366d3229",
   "metadata": {},
   "source": [
    "nombre_infected      1062\n",
    "nombre_sain          1667\n",
    "nombre_exposed        445\n",
    "nombre_recovered    16826\n",
    "Name: 260, dtype: int64"
   ]
  },
  {
   "cell_type": "markdown",
   "id": "ced757a4",
   "metadata": {},
   "source": [
    "nombre_infected      1060\n",
    "nombre_sain          1653\n",
    "nombre_exposed        435\n",
    "nombre_recovered    16852\n",
    "Name: 261, dtype: int64"
   ]
  },
  {
   "cell_type": "markdown",
   "id": "38f3132e",
   "metadata": {},
   "source": [
    "nombre_infected      1034\n",
    "nombre_sain          1624\n",
    "nombre_exposed        442\n",
    "nombre_recovered    16900\n",
    "Name: 262, dtype: int64"
   ]
  },
  {
   "cell_type": "markdown",
   "id": "6dc06e1d",
   "metadata": {},
   "source": [
    "nombre_infected      1004\n",
    "nombre_sain          1620\n",
    "nombre_exposed        410\n",
    "nombre_recovered    16966\n",
    "Name: 263, dtype: int64"
   ]
  },
  {
   "cell_type": "markdown",
   "id": "5a9f5c3d",
   "metadata": {},
   "source": [
    "nombre_infected       988\n",
    "nombre_sain          1593\n",
    "nombre_exposed        400\n",
    "nombre_recovered    17019\n",
    "Name: 264, dtype: int64"
   ]
  },
  {
   "cell_type": "markdown",
   "id": "4f1856a8",
   "metadata": {},
   "source": [
    "nombre_infected       952\n",
    "nombre_sain          1585\n",
    "nombre_exposed        397\n",
    "nombre_recovered    17066\n",
    "Name: 265, dtype: int64"
   ]
  },
  {
   "cell_type": "markdown",
   "id": "4eaec9ea",
   "metadata": {},
   "source": [
    "nombre_infected       917\n",
    "nombre_sain          1596\n",
    "nombre_exposed        388\n",
    "nombre_recovered    17099\n",
    "Name: 266, dtype: int64"
   ]
  },
  {
   "cell_type": "markdown",
   "id": "429af334",
   "metadata": {},
   "source": [
    "nombre_infected       895\n",
    "nombre_sain          1610\n",
    "nombre_exposed        363\n",
    "nombre_recovered    17132\n",
    "Name: 267, dtype: int64"
   ]
  },
  {
   "cell_type": "markdown",
   "id": "b74a4259",
   "metadata": {},
   "source": [
    "nombre_infected       899\n",
    "nombre_sain          1638\n",
    "nombre_exposed        345\n",
    "nombre_recovered    17118\n",
    "Name: 268, dtype: int64"
   ]
  },
  {
   "cell_type": "markdown",
   "id": "1b9faa95",
   "metadata": {},
   "source": [
    "nombre_infected       844\n",
    "nombre_sain          1642\n",
    "nombre_exposed        344\n",
    "nombre_recovered    17170\n",
    "Name: 269, dtype: int64"
   ]
  },
  {
   "cell_type": "markdown",
   "id": "a1b0a4d5",
   "metadata": {},
   "source": [
    "nombre_infected       840\n",
    "nombre_sain          1652\n",
    "nombre_exposed        334\n",
    "nombre_recovered    17174\n",
    "Name: 270, dtype: int64"
   ]
  },
  {
   "cell_type": "markdown",
   "id": "71a8dc04",
   "metadata": {},
   "source": [
    "nombre_infected       830\n",
    "nombre_sain          1646\n",
    "nombre_exposed        337\n",
    "nombre_recovered    17187\n",
    "Name: 271, dtype: int64"
   ]
  },
  {
   "cell_type": "markdown",
   "id": "e30176fb",
   "metadata": {},
   "source": [
    "nombre_infected       767\n",
    "nombre_sain          1668\n",
    "nombre_exposed        343\n",
    "nombre_recovered    17222\n",
    "Name: 272, dtype: int64"
   ]
  },
  {
   "cell_type": "markdown",
   "id": "4d64cd64",
   "metadata": {},
   "source": [
    "nombre_infected       744\n",
    "nombre_sain          1698\n",
    "nombre_exposed        328\n",
    "nombre_recovered    17230\n",
    "Name: 273, dtype: int64"
   ]
  },
  {
   "cell_type": "markdown",
   "id": "67fd268b",
   "metadata": {},
   "source": [
    "nombre_infected       725\n",
    "nombre_sain          1741\n",
    "nombre_exposed        307\n",
    "nombre_recovered    17227\n",
    "Name: 274, dtype: int64"
   ]
  },
  {
   "cell_type": "markdown",
   "id": "93ffd7ea",
   "metadata": {},
   "source": [
    "nombre_infected       713\n",
    "nombre_sain          1758\n",
    "nombre_exposed        292\n",
    "nombre_recovered    17237\n",
    "Name: 275, dtype: int64"
   ]
  },
  {
   "cell_type": "markdown",
   "id": "6148aed1",
   "metadata": {},
   "source": [
    "nombre_infected       686\n",
    "nombre_sain          1755\n",
    "nombre_exposed        298\n",
    "nombre_recovered    17261\n",
    "Name: 276, dtype: int64"
   ]
  },
  {
   "cell_type": "markdown",
   "id": "f4ab206c",
   "metadata": {},
   "source": [
    "nombre_infected       658\n",
    "nombre_sain          1786\n",
    "nombre_exposed        306\n",
    "nombre_recovered    17250\n",
    "Name: 277, dtype: int64"
   ]
  },
  {
   "cell_type": "markdown",
   "id": "25a01f20",
   "metadata": {},
   "source": [
    "nombre_infected       643\n",
    "nombre_sain          1831\n",
    "nombre_exposed        292\n",
    "nombre_recovered    17234\n",
    "Name: 278, dtype: int64"
   ]
  },
  {
   "cell_type": "markdown",
   "id": "fe559af6",
   "metadata": {},
   "source": [
    "nombre_infected       627\n",
    "nombre_sain          1864\n",
    "nombre_exposed        296\n",
    "nombre_recovered    17213\n",
    "Name: 279, dtype: int64"
   ]
  },
  {
   "cell_type": "markdown",
   "id": "9d16bd14",
   "metadata": {},
   "source": [
    "nombre_infected       643\n",
    "nombre_sain          1900\n",
    "nombre_exposed        270\n",
    "nombre_recovered    17187\n",
    "Name: 280, dtype: int64"
   ]
  },
  {
   "cell_type": "markdown",
   "id": "27fd7c62",
   "metadata": {},
   "source": [
    "nombre_infected       616\n",
    "nombre_sain          1945\n",
    "nombre_exposed        292\n",
    "nombre_recovered    17147\n",
    "Name: 281, dtype: int64"
   ]
  },
  {
   "cell_type": "markdown",
   "id": "ff5fdcc3",
   "metadata": {},
   "source": [
    "nombre_infected       602\n",
    "nombre_sain          1987\n",
    "nombre_exposed        293\n",
    "nombre_recovered    17118\n",
    "Name: 282, dtype: int64"
   ]
  },
  {
   "cell_type": "markdown",
   "id": "bbee98d2",
   "metadata": {},
   "source": [
    "nombre_infected       581\n",
    "nombre_sain          2045\n",
    "nombre_exposed        301\n",
    "nombre_recovered    17073\n",
    "Name: 283, dtype: int64"
   ]
  },
  {
   "cell_type": "markdown",
   "id": "b69a1eae",
   "metadata": {},
   "source": [
    "nombre_infected       574\n",
    "nombre_sain          2078\n",
    "nombre_exposed        300\n",
    "nombre_recovered    17048\n",
    "Name: 284, dtype: int64"
   ]
  },
  {
   "cell_type": "markdown",
   "id": "9aecf802",
   "metadata": {},
   "source": [
    "nombre_infected       575\n",
    "nombre_sain          2090\n",
    "nombre_exposed        318\n",
    "nombre_recovered    17017\n",
    "Name: 285, dtype: int64"
   ]
  },
  {
   "cell_type": "markdown",
   "id": "bc145096",
   "metadata": {},
   "source": [
    "nombre_infected       579\n",
    "nombre_sain          2134\n",
    "nombre_exposed        321\n",
    "nombre_recovered    16966\n",
    "Name: 286, dtype: int64"
   ]
  },
  {
   "cell_type": "markdown",
   "id": "25b5daa7",
   "metadata": {},
   "source": [
    "nombre_infected       594\n",
    "nombre_sain          2174\n",
    "nombre_exposed        300\n",
    "nombre_recovered    16932\n",
    "Name: 287, dtype: int64"
   ]
  },
  {
   "cell_type": "markdown",
   "id": "1b438dce",
   "metadata": {},
   "source": [
    "nombre_infected       606\n",
    "nombre_sain          2187\n",
    "nombre_exposed        304\n",
    "nombre_recovered    16903\n",
    "Name: 288, dtype: int64"
   ]
  },
  {
   "cell_type": "markdown",
   "id": "8a095968",
   "metadata": {},
   "source": [
    "nombre_infected       600\n",
    "nombre_sain          2211\n",
    "nombre_exposed        303\n",
    "nombre_recovered    16886\n",
    "Name: 289, dtype: int64"
   ]
  },
  {
   "cell_type": "markdown",
   "id": "ce176210",
   "metadata": {},
   "source": [
    "nombre_infected       601\n",
    "nombre_sain          2218\n",
    "nombre_exposed        320\n",
    "nombre_recovered    16861\n",
    "Name: 290, dtype: int64"
   ]
  },
  {
   "cell_type": "markdown",
   "id": "dfd43807",
   "metadata": {},
   "source": [
    "nombre_infected       603\n",
    "nombre_sain          2262\n",
    "nombre_exposed        313\n",
    "nombre_recovered    16822\n",
    "Name: 291, dtype: int64"
   ]
  },
  {
   "cell_type": "markdown",
   "id": "b9084ba4",
   "metadata": {},
   "source": [
    "nombre_infected       608\n",
    "nombre_sain          2256\n",
    "nombre_exposed        333\n",
    "nombre_recovered    16803\n",
    "Name: 292, dtype: int64"
   ]
  },
  {
   "cell_type": "markdown",
   "id": "1f23665d",
   "metadata": {},
   "source": [
    "nombre_infected       613\n",
    "nombre_sain          2300\n",
    "nombre_exposed        325\n",
    "nombre_recovered    16762\n",
    "Name: 293, dtype: int64"
   ]
  },
  {
   "cell_type": "markdown",
   "id": "b183705e",
   "metadata": {},
   "source": [
    "nombre_infected       636\n",
    "nombre_sain          2301\n",
    "nombre_exposed        318\n",
    "nombre_recovered    16745\n",
    "Name: 294, dtype: int64"
   ]
  },
  {
   "cell_type": "markdown",
   "id": "576d1f30",
   "metadata": {},
   "source": [
    "nombre_infected       625\n",
    "nombre_sain          2328\n",
    "nombre_exposed        326\n",
    "nombre_recovered    16721\n",
    "Name: 295, dtype: int64"
   ]
  },
  {
   "cell_type": "markdown",
   "id": "0d49ef62",
   "metadata": {},
   "source": [
    "nombre_infected       645\n",
    "nombre_sain          2332\n",
    "nombre_exposed        336\n",
    "nombre_recovered    16687\n",
    "Name: 296, dtype: int64"
   ]
  },
  {
   "cell_type": "markdown",
   "id": "d2a7682f",
   "metadata": {},
   "source": [
    "nombre_infected       654\n",
    "nombre_sain          2343\n",
    "nombre_exposed        336\n",
    "nombre_recovered    16667\n",
    "Name: 297, dtype: int64"
   ]
  },
  {
   "cell_type": "markdown",
   "id": "1ab27c85",
   "metadata": {},
   "source": [
    "nombre_infected       671\n",
    "nombre_sain          2360\n",
    "nombre_exposed        338\n",
    "nombre_recovered    16631\n",
    "Name: 298, dtype: int64"
   ]
  },
  {
   "cell_type": "markdown",
   "id": "acf24147",
   "metadata": {},
   "source": [
    "nombre_infected       672\n",
    "nombre_sain          2367\n",
    "nombre_exposed        351\n",
    "nombre_recovered    16610\n",
    "Name: 299, dtype: int64"
   ]
  },
  {
   "cell_type": "markdown",
   "id": "1b4d6e0c",
   "metadata": {},
   "source": [
    "nombre_infected       664\n",
    "nombre_sain          2386\n",
    "nombre_exposed        379\n",
    "nombre_recovered    16571\n",
    "Name: 300, dtype: int64"
   ]
  },
  {
   "cell_type": "markdown",
   "id": "b1b1970c",
   "metadata": {},
   "source": [
    "nombre_infected       699\n",
    "nombre_sain          2404\n",
    "nombre_exposed        375\n",
    "nombre_recovered    16522\n",
    "Name: 301, dtype: int64"
   ]
  },
  {
   "cell_type": "markdown",
   "id": "46bb0d4b",
   "metadata": {},
   "source": [
    "nombre_infected       709\n",
    "nombre_sain          2390\n",
    "nombre_exposed        381\n",
    "nombre_recovered    16520\n",
    "Name: 302, dtype: int64"
   ]
  },
  {
   "cell_type": "markdown",
   "id": "51033a5b",
   "metadata": {},
   "source": [
    "nombre_infected       710\n",
    "nombre_sain          2422\n",
    "nombre_exposed        377\n",
    "nombre_recovered    16491\n",
    "Name: 303, dtype: int64"
   ]
  },
  {
   "cell_type": "markdown",
   "id": "1471bd96",
   "metadata": {},
   "source": [
    "nombre_infected       721\n",
    "nombre_sain          2440\n",
    "nombre_exposed        364\n",
    "nombre_recovered    16475\n",
    "Name: 304, dtype: int64"
   ]
  },
  {
   "cell_type": "markdown",
   "id": "bada4278",
   "metadata": {},
   "source": [
    "nombre_infected       726\n",
    "nombre_sain          2431\n",
    "nombre_exposed        365\n",
    "nombre_recovered    16478\n",
    "Name: 305, dtype: int64"
   ]
  },
  {
   "cell_type": "markdown",
   "id": "8f106faf",
   "metadata": {},
   "source": [
    "nombre_infected       730\n",
    "nombre_sain          2433\n",
    "nombre_exposed        388\n",
    "nombre_recovered    16449\n",
    "Name: 306, dtype: int64"
   ]
  },
  {
   "cell_type": "markdown",
   "id": "73fd162b",
   "metadata": {},
   "source": [
    "nombre_infected       744\n",
    "nombre_sain          2433\n",
    "nombre_exposed        403\n",
    "nombre_recovered    16420\n",
    "Name: 307, dtype: int64"
   ]
  },
  {
   "cell_type": "markdown",
   "id": "c789900d",
   "metadata": {},
   "source": [
    "nombre_infected       776\n",
    "nombre_sain          2420\n",
    "nombre_exposed        404\n",
    "nombre_recovered    16400\n",
    "Name: 308, dtype: int64"
   ]
  },
  {
   "cell_type": "markdown",
   "id": "534712f4",
   "metadata": {},
   "source": [
    "nombre_infected       788\n",
    "nombre_sain          2386\n",
    "nombre_exposed        434\n",
    "nombre_recovered    16392\n",
    "Name: 309, dtype: int64"
   ]
  },
  {
   "cell_type": "markdown",
   "id": "9e693706",
   "metadata": {},
   "source": [
    "nombre_infected       792\n",
    "nombre_sain          2412\n",
    "nombre_exposed        421\n",
    "nombre_recovered    16375\n",
    "Name: 310, dtype: int64"
   ]
  },
  {
   "cell_type": "markdown",
   "id": "b55bad15",
   "metadata": {},
   "source": [
    "nombre_infected       827\n",
    "nombre_sain          2372\n",
    "nombre_exposed        417\n",
    "nombre_recovered    16384\n",
    "Name: 311, dtype: int64"
   ]
  },
  {
   "cell_type": "markdown",
   "id": "79ba47c2",
   "metadata": {},
   "source": [
    "nombre_infected       836\n",
    "nombre_sain          2341\n",
    "nombre_exposed        443\n",
    "nombre_recovered    16380\n",
    "Name: 312, dtype: int64"
   ]
  },
  {
   "cell_type": "markdown",
   "id": "9cc3a210",
   "metadata": {},
   "source": [
    "nombre_infected       828\n",
    "nombre_sain          2336\n",
    "nombre_exposed        459\n",
    "nombre_recovered    16377\n",
    "Name: 313, dtype: int64"
   ]
  },
  {
   "cell_type": "markdown",
   "id": "2d0ed063",
   "metadata": {},
   "source": [
    "nombre_infected       850\n",
    "nombre_sain          2314\n",
    "nombre_exposed        450\n",
    "nombre_recovered    16386\n",
    "Name: 314, dtype: int64"
   ]
  },
  {
   "cell_type": "markdown",
   "id": "1aadf880",
   "metadata": {},
   "source": [
    "nombre_infected       859\n",
    "nombre_sain          2286\n",
    "nombre_exposed        466\n",
    "nombre_recovered    16389\n",
    "Name: 315, dtype: int64"
   ]
  },
  {
   "cell_type": "markdown",
   "id": "2fa6db1a",
   "metadata": {},
   "source": [
    "nombre_infected       871\n",
    "nombre_sain          2249\n",
    "nombre_exposed        466\n",
    "nombre_recovered    16414\n",
    "Name: 316, dtype: int64"
   ]
  },
  {
   "cell_type": "markdown",
   "id": "b9becd2f",
   "metadata": {},
   "source": [
    "nombre_infected       904\n",
    "nombre_sain          2204\n",
    "nombre_exposed        482\n",
    "nombre_recovered    16410\n",
    "Name: 317, dtype: int64"
   ]
  },
  {
   "cell_type": "markdown",
   "id": "fff0dcb0",
   "metadata": {},
   "source": [
    "nombre_infected       932\n",
    "nombre_sain          2180\n",
    "nombre_exposed        475\n",
    "nombre_recovered    16413\n",
    "Name: 318, dtype: int64"
   ]
  },
  {
   "cell_type": "markdown",
   "id": "9fcda251",
   "metadata": {},
   "source": [
    "nombre_infected       933\n",
    "nombre_sain          2159\n",
    "nombre_exposed        476\n",
    "nombre_recovered    16432\n",
    "Name: 319, dtype: int64"
   ]
  },
  {
   "cell_type": "markdown",
   "id": "73b5f338",
   "metadata": {},
   "source": [
    "nombre_infected       915\n",
    "nombre_sain          2103\n",
    "nombre_exposed        507\n",
    "nombre_recovered    16475\n",
    "Name: 320, dtype: int64"
   ]
  },
  {
   "cell_type": "markdown",
   "id": "5c656eba",
   "metadata": {},
   "source": [
    "nombre_infected       933\n",
    "nombre_sain          2077\n",
    "nombre_exposed        506\n",
    "nombre_recovered    16484\n",
    "Name: 321, dtype: int64"
   ]
  },
  {
   "cell_type": "markdown",
   "id": "7f299615",
   "metadata": {},
   "source": [
    "nombre_infected       964\n",
    "nombre_sain          2038\n",
    "nombre_exposed        503\n",
    "nombre_recovered    16495\n",
    "Name: 322, dtype: int64"
   ]
  },
  {
   "cell_type": "markdown",
   "id": "000f7d8f",
   "metadata": {},
   "source": [
    "nombre_infected       981\n",
    "nombre_sain          2008\n",
    "nombre_exposed        504\n",
    "nombre_recovered    16507\n",
    "Name: 323, dtype: int64"
   ]
  },
  {
   "cell_type": "markdown",
   "id": "336e1354",
   "metadata": {},
   "source": [
    "nombre_infected       983\n",
    "nombre_sain          1988\n",
    "nombre_exposed        499\n",
    "nombre_recovered    16530\n",
    "Name: 324, dtype: int64"
   ]
  },
  {
   "cell_type": "markdown",
   "id": "048ba137",
   "metadata": {},
   "source": [
    "nombre_infected      1002\n",
    "nombre_sain          1955\n",
    "nombre_exposed        465\n",
    "nombre_recovered    16578\n",
    "Name: 325, dtype: int64"
   ]
  },
  {
   "cell_type": "markdown",
   "id": "2b0ec622",
   "metadata": {},
   "source": [
    "nombre_infected      1024\n",
    "nombre_sain          1915\n",
    "nombre_exposed        465\n",
    "nombre_recovered    16596\n",
    "Name: 326, dtype: int64"
   ]
  },
  {
   "cell_type": "markdown",
   "id": "b0439e5e",
   "metadata": {},
   "source": [
    "nombre_infected       992\n",
    "nombre_sain          1913\n",
    "nombre_exposed        469\n",
    "nombre_recovered    16626\n",
    "Name: 327, dtype: int64"
   ]
  },
  {
   "cell_type": "markdown",
   "id": "b1e175b2",
   "metadata": {},
   "source": [
    "nombre_infected       992\n",
    "nombre_sain          1897\n",
    "nombre_exposed        454\n",
    "nombre_recovered    16657\n",
    "Name: 328, dtype: int64"
   ]
  },
  {
   "cell_type": "markdown",
   "id": "053c5fc9",
   "metadata": {},
   "source": [
    "nombre_infected       987\n",
    "nombre_sain          1913\n",
    "nombre_exposed        439\n",
    "nombre_recovered    16661\n",
    "Name: 329, dtype: int64"
   ]
  },
  {
   "cell_type": "markdown",
   "id": "a035e3ad",
   "metadata": {},
   "source": [
    "nombre_infected       953\n",
    "nombre_sain          1915\n",
    "nombre_exposed        451\n",
    "nombre_recovered    16681\n",
    "Name: 330, dtype: int64"
   ]
  },
  {
   "cell_type": "markdown",
   "id": "6934a46b",
   "metadata": {},
   "source": [
    "nombre_infected       918\n",
    "nombre_sain          1900\n",
    "nombre_exposed        474\n",
    "nombre_recovered    16708\n",
    "Name: 331, dtype: int64"
   ]
  },
  {
   "cell_type": "markdown",
   "id": "ebce7a8d",
   "metadata": {},
   "source": [
    "nombre_infected       907\n",
    "nombre_sain          1893\n",
    "nombre_exposed        471\n",
    "nombre_recovered    16729\n",
    "Name: 332, dtype: int64"
   ]
  },
  {
   "cell_type": "markdown",
   "id": "50d5f123",
   "metadata": {},
   "source": [
    "nombre_infected       891\n",
    "nombre_sain          1902\n",
    "nombre_exposed        455\n",
    "nombre_recovered    16752\n",
    "Name: 333, dtype: int64"
   ]
  },
  {
   "cell_type": "markdown",
   "id": "9485c34c",
   "metadata": {},
   "source": [
    "nombre_infected       902\n",
    "nombre_sain          1927\n",
    "nombre_exposed        444\n",
    "nombre_recovered    16727\n",
    "Name: 334, dtype: int64"
   ]
  },
  {
   "cell_type": "markdown",
   "id": "332271eb",
   "metadata": {},
   "source": [
    "nombre_infected       873\n",
    "nombre_sain          1910\n",
    "nombre_exposed        473\n",
    "nombre_recovered    16744\n",
    "Name: 335, dtype: int64"
   ]
  },
  {
   "cell_type": "markdown",
   "id": "25383556",
   "metadata": {},
   "source": [
    "nombre_infected       867\n",
    "nombre_sain          1930\n",
    "nombre_exposed        470\n",
    "nombre_recovered    16733\n",
    "Name: 336, dtype: int64"
   ]
  },
  {
   "cell_type": "markdown",
   "id": "0e46e99c",
   "metadata": {},
   "source": [
    "nombre_infected       874\n",
    "nombre_sain          1945\n",
    "nombre_exposed        449\n",
    "nombre_recovered    16732\n",
    "Name: 337, dtype: int64"
   ]
  },
  {
   "cell_type": "markdown",
   "id": "14ed68de",
   "metadata": {},
   "source": [
    "nombre_infected       875\n",
    "nombre_sain          1943\n",
    "nombre_exposed        440\n",
    "nombre_recovered    16742\n",
    "Name: 338, dtype: int64"
   ]
  },
  {
   "cell_type": "markdown",
   "id": "589f755e",
   "metadata": {},
   "source": [
    "nombre_infected       861\n",
    "nombre_sain          1953\n",
    "nombre_exposed        434\n",
    "nombre_recovered    16752\n",
    "Name: 339, dtype: int64"
   ]
  },
  {
   "cell_type": "markdown",
   "id": "b832cbcb",
   "metadata": {},
   "source": [
    "nombre_infected       869\n",
    "nombre_sain          1972\n",
    "nombre_exposed        407\n",
    "nombre_recovered    16752\n",
    "Name: 340, dtype: int64"
   ]
  },
  {
   "cell_type": "markdown",
   "id": "2ec4b174",
   "metadata": {},
   "source": [
    "nombre_infected       846\n",
    "nombre_sain          1957\n",
    "nombre_exposed        419\n",
    "nombre_recovered    16778\n",
    "Name: 341, dtype: int64"
   ]
  },
  {
   "cell_type": "markdown",
   "id": "3c7809da",
   "metadata": {},
   "source": [
    "nombre_infected       814\n",
    "nombre_sain          1989\n",
    "nombre_exposed        416\n",
    "nombre_recovered    16781\n",
    "Name: 342, dtype: int64"
   ]
  },
  {
   "cell_type": "markdown",
   "id": "435aee03",
   "metadata": {},
   "source": [
    "nombre_infected       778\n",
    "nombre_sain          1993\n",
    "nombre_exposed        415\n",
    "nombre_recovered    16814\n",
    "Name: 343, dtype: int64"
   ]
  },
  {
   "cell_type": "markdown",
   "id": "f4393ebf",
   "metadata": {},
   "source": [
    "nombre_infected       791\n",
    "nombre_sain          1994\n",
    "nombre_exposed        405\n",
    "nombre_recovered    16810\n",
    "Name: 344, dtype: int64"
   ]
  },
  {
   "cell_type": "markdown",
   "id": "c821646a",
   "metadata": {},
   "source": [
    "nombre_infected       785\n",
    "nombre_sain          1998\n",
    "nombre_exposed        408\n",
    "nombre_recovered    16809\n",
    "Name: 345, dtype: int64"
   ]
  },
  {
   "cell_type": "markdown",
   "id": "011a20b6",
   "metadata": {},
   "source": [
    "nombre_infected       787\n",
    "nombre_sain          1980\n",
    "nombre_exposed        407\n",
    "nombre_recovered    16826\n",
    "Name: 346, dtype: int64"
   ]
  },
  {
   "cell_type": "markdown",
   "id": "e7cd976c",
   "metadata": {},
   "source": [
    "nombre_infected       793\n",
    "nombre_sain          1989\n",
    "nombre_exposed        386\n",
    "nombre_recovered    16832\n",
    "Name: 347, dtype: int64"
   ]
  },
  {
   "cell_type": "markdown",
   "id": "9a1ca179",
   "metadata": {},
   "source": [
    "nombre_infected       764\n",
    "nombre_sain          2009\n",
    "nombre_exposed        382\n",
    "nombre_recovered    16845\n",
    "Name: 348, dtype: int64"
   ]
  },
  {
   "cell_type": "markdown",
   "id": "43d0e8ec",
   "metadata": {},
   "source": [
    "nombre_infected       745\n",
    "nombre_sain          2018\n",
    "nombre_exposed        388\n",
    "nombre_recovered    16849\n",
    "Name: 349, dtype: int64"
   ]
  },
  {
   "cell_type": "markdown",
   "id": "a3552082",
   "metadata": {},
   "source": [
    "nombre_infected       761\n",
    "nombre_sain          2035\n",
    "nombre_exposed        378\n",
    "nombre_recovered    16826\n",
    "Name: 350, dtype: int64"
   ]
  },
  {
   "cell_type": "markdown",
   "id": "c8aa78c5",
   "metadata": {},
   "source": [
    "nombre_infected       754\n",
    "nombre_sain          2047\n",
    "nombre_exposed        366\n",
    "nombre_recovered    16833\n",
    "Name: 351, dtype: int64"
   ]
  },
  {
   "cell_type": "markdown",
   "id": "9d91e756",
   "metadata": {},
   "source": [
    "nombre_infected       759\n",
    "nombre_sain          2060\n",
    "nombre_exposed        356\n",
    "nombre_recovered    16825\n",
    "Name: 352, dtype: int64"
   ]
  },
  {
   "cell_type": "markdown",
   "id": "831be3cb",
   "metadata": {},
   "source": [
    "nombre_infected       722\n",
    "nombre_sain          2055\n",
    "nombre_exposed        388\n",
    "nombre_recovered    16835\n",
    "Name: 353, dtype: int64"
   ]
  },
  {
   "cell_type": "markdown",
   "id": "9dd9fe4a",
   "metadata": {},
   "source": [
    "nombre_infected       719\n",
    "nombre_sain          2064\n",
    "nombre_exposed        390\n",
    "nombre_recovered    16827\n",
    "Name: 354, dtype: int64"
   ]
  },
  {
   "cell_type": "markdown",
   "id": "ec674d0b",
   "metadata": {},
   "source": [
    "nombre_infected       723\n",
    "nombre_sain          2075\n",
    "nombre_exposed        384\n",
    "nombre_recovered    16818\n",
    "Name: 355, dtype: int64"
   ]
  },
  {
   "cell_type": "markdown",
   "id": "42e8be59",
   "metadata": {},
   "source": [
    "nombre_infected       725\n",
    "nombre_sain          2079\n",
    "nombre_exposed        371\n",
    "nombre_recovered    16825\n",
    "Name: 356, dtype: int64"
   ]
  },
  {
   "cell_type": "markdown",
   "id": "c5a0472d",
   "metadata": {},
   "source": [
    "nombre_infected       735\n",
    "nombre_sain          2096\n",
    "nombre_exposed        375\n",
    "nombre_recovered    16794\n",
    "Name: 357, dtype: int64"
   ]
  },
  {
   "cell_type": "markdown",
   "id": "6b462d67",
   "metadata": {},
   "source": [
    "nombre_infected       728\n",
    "nombre_sain          2099\n",
    "nombre_exposed        368\n",
    "nombre_recovered    16805\n",
    "Name: 358, dtype: int64"
   ]
  },
  {
   "cell_type": "markdown",
   "id": "e1bc05e5",
   "metadata": {},
   "source": [
    "nombre_infected       719\n",
    "nombre_sain          2111\n",
    "nombre_exposed        376\n",
    "nombre_recovered    16794\n",
    "Name: 359, dtype: int64"
   ]
  },
  {
   "cell_type": "markdown",
   "id": "207d994e",
   "metadata": {},
   "source": [
    "nombre_infected       698\n",
    "nombre_sain          2089\n",
    "nombre_exposed        385\n",
    "nombre_recovered    16828\n",
    "Name: 360, dtype: int64"
   ]
  },
  {
   "cell_type": "markdown",
   "id": "e52b0927",
   "metadata": {},
   "source": [
    "nombre_infected       700\n",
    "nombre_sain          2085\n",
    "nombre_exposed        382\n",
    "nombre_recovered    16833\n",
    "Name: 361, dtype: int64"
   ]
  },
  {
   "cell_type": "markdown",
   "id": "c606e451",
   "metadata": {},
   "source": [
    "nombre_infected       723\n",
    "nombre_sain          2077\n",
    "nombre_exposed        355\n",
    "nombre_recovered    16845\n",
    "Name: 362, dtype: int64"
   ]
  },
  {
   "cell_type": "markdown",
   "id": "a1335ccd",
   "metadata": {},
   "source": [
    "nombre_infected       711\n",
    "nombre_sain          2079\n",
    "nombre_exposed        354\n",
    "nombre_recovered    16856\n",
    "Name: 363, dtype: int64"
   ]
  },
  {
   "cell_type": "markdown",
   "id": "026961e4",
   "metadata": {},
   "source": [
    "nombre_infected       684\n",
    "nombre_sain          2099\n",
    "nombre_exposed        358\n",
    "nombre_recovered    16859\n",
    "Name: 364, dtype: int64"
   ]
  },
  {
   "cell_type": "markdown",
   "id": "d26e7f7c",
   "metadata": {},
   "source": [
    "nombre_infected       678\n",
    "nombre_sain          2094\n",
    "nombre_exposed        362\n",
    "nombre_recovered    16866\n",
    "Name: 365, dtype: int64"
   ]
  },
  {
   "cell_type": "markdown",
   "id": "3e3000d5",
   "metadata": {},
   "source": [
    "nombre_infected       670\n",
    "nombre_sain          2102\n",
    "nombre_exposed        353\n",
    "nombre_recovered    16875\n",
    "Name: 366, dtype: int64"
   ]
  },
  {
   "cell_type": "markdown",
   "id": "3901edab",
   "metadata": {},
   "source": [
    "nombre_infected       667\n",
    "nombre_sain          2099\n",
    "nombre_exposed        362\n",
    "nombre_recovered    16872\n",
    "Name: 367, dtype: int64"
   ]
  },
  {
   "cell_type": "markdown",
   "id": "bf6723eb",
   "metadata": {},
   "source": [
    "nombre_infected       652\n",
    "nombre_sain          2115\n",
    "nombre_exposed        368\n",
    "nombre_recovered    16865\n",
    "Name: 368, dtype: int64"
   ]
  },
  {
   "cell_type": "markdown",
   "id": "c4b85715",
   "metadata": {},
   "source": [
    "nombre_infected       653\n",
    "nombre_sain          2111\n",
    "nombre_exposed        372\n",
    "nombre_recovered    16864\n",
    "Name: 369, dtype: int64"
   ]
  },
  {
   "cell_type": "markdown",
   "id": "d917e1da",
   "metadata": {},
   "source": [
    "nombre_infected       654\n",
    "nombre_sain          2125\n",
    "nombre_exposed        359\n",
    "nombre_recovered    16862\n",
    "Name: 370, dtype: int64"
   ]
  },
  {
   "cell_type": "markdown",
   "id": "028072ac",
   "metadata": {},
   "source": [
    "nombre_infected       670\n",
    "nombre_sain          2122\n",
    "nombre_exposed        348\n",
    "nombre_recovered    16860\n",
    "Name: 371, dtype: int64"
   ]
  },
  {
   "cell_type": "markdown",
   "id": "16879f60",
   "metadata": {},
   "source": [
    "nombre_infected       693\n",
    "nombre_sain          2113\n",
    "nombre_exposed        355\n",
    "nombre_recovered    16839\n",
    "Name: 372, dtype: int64"
   ]
  },
  {
   "cell_type": "markdown",
   "id": "f76adf12",
   "metadata": {},
   "source": [
    "nombre_infected       678\n",
    "nombre_sain          2118\n",
    "nombre_exposed        366\n",
    "nombre_recovered    16838\n",
    "Name: 373, dtype: int64"
   ]
  },
  {
   "cell_type": "markdown",
   "id": "00a4317f",
   "metadata": {},
   "source": [
    "nombre_infected       683\n",
    "nombre_sain          2128\n",
    "nombre_exposed        364\n",
    "nombre_recovered    16825\n",
    "Name: 374, dtype: int64"
   ]
  },
  {
   "cell_type": "markdown",
   "id": "0ebf1775",
   "metadata": {},
   "source": [
    "nombre_infected       682\n",
    "nombre_sain          2139\n",
    "nombre_exposed        355\n",
    "nombre_recovered    16824\n",
    "Name: 375, dtype: int64"
   ]
  },
  {
   "cell_type": "markdown",
   "id": "f32f7ff4",
   "metadata": {},
   "source": [
    "nombre_infected       700\n",
    "nombre_sain          2159\n",
    "nombre_exposed        333\n",
    "nombre_recovered    16808\n",
    "Name: 376, dtype: int64"
   ]
  },
  {
   "cell_type": "markdown",
   "id": "1d94d16e",
   "metadata": {},
   "source": [
    "nombre_infected       706\n",
    "nombre_sain          2171\n",
    "nombre_exposed        337\n",
    "nombre_recovered    16786\n",
    "Name: 377, dtype: int64"
   ]
  },
  {
   "cell_type": "markdown",
   "id": "66acb9e7",
   "metadata": {},
   "source": [
    "nombre_infected       704\n",
    "nombre_sain          2194\n",
    "nombre_exposed        320\n",
    "nombre_recovered    16782\n",
    "Name: 378, dtype: int64"
   ]
  },
  {
   "cell_type": "markdown",
   "id": "bddd0100",
   "metadata": {},
   "source": [
    "nombre_infected       697\n",
    "nombre_sain          2233\n",
    "nombre_exposed        330\n",
    "nombre_recovered    16740\n",
    "Name: 379, dtype: int64"
   ]
  },
  {
   "cell_type": "markdown",
   "id": "2d0235f3",
   "metadata": {},
   "source": [
    "nombre_infected       665\n",
    "nombre_sain          2247\n",
    "nombre_exposed        345\n",
    "nombre_recovered    16743\n",
    "Name: 380, dtype: int64"
   ]
  },
  {
   "cell_type": "markdown",
   "id": "9c1e069c",
   "metadata": {},
   "source": [
    "nombre_infected       667\n",
    "nombre_sain          2269\n",
    "nombre_exposed        363\n",
    "nombre_recovered    16701\n",
    "Name: 381, dtype: int64"
   ]
  },
  {
   "cell_type": "markdown",
   "id": "3748e4b1",
   "metadata": {},
   "source": [
    "nombre_infected       671\n",
    "nombre_sain          2303\n",
    "nombre_exposed        365\n",
    "nombre_recovered    16661\n",
    "Name: 382, dtype: int64"
   ]
  },
  {
   "cell_type": "markdown",
   "id": "c68fcad8",
   "metadata": {},
   "source": [
    "nombre_infected       698\n",
    "nombre_sain          2327\n",
    "nombre_exposed        349\n",
    "nombre_recovered    16626\n",
    "Name: 383, dtype: int64"
   ]
  },
  {
   "cell_type": "markdown",
   "id": "0b79299d",
   "metadata": {},
   "source": [
    "nombre_infected       680\n",
    "nombre_sain          2351\n",
    "nombre_exposed        351\n",
    "nombre_recovered    16618\n",
    "Name: 384, dtype: int64"
   ]
  },
  {
   "cell_type": "markdown",
   "id": "21ac760c",
   "metadata": {},
   "source": [
    "nombre_infected       673\n",
    "nombre_sain          2370\n",
    "nombre_exposed        363\n",
    "nombre_recovered    16594\n",
    "Name: 385, dtype: int64"
   ]
  },
  {
   "cell_type": "markdown",
   "id": "77a7bfc0",
   "metadata": {},
   "source": [
    "nombre_infected       670\n",
    "nombre_sain          2394\n",
    "nombre_exposed        375\n",
    "nombre_recovered    16561\n",
    "Name: 386, dtype: int64"
   ]
  },
  {
   "cell_type": "markdown",
   "id": "fc584118",
   "metadata": {},
   "source": [
    "nombre_infected       674\n",
    "nombre_sain          2405\n",
    "nombre_exposed        391\n",
    "nombre_recovered    16530\n",
    "Name: 387, dtype: int64"
   ]
  },
  {
   "cell_type": "markdown",
   "id": "b4757a15",
   "metadata": {},
   "source": [
    "nombre_infected       678\n",
    "nombre_sain          2390\n",
    "nombre_exposed        418\n",
    "nombre_recovered    16514\n",
    "Name: 388, dtype: int64"
   ]
  },
  {
   "cell_type": "markdown",
   "id": "cb6f4c86",
   "metadata": {},
   "source": [
    "nombre_infected       671\n",
    "nombre_sain          2397\n",
    "nombre_exposed        435\n",
    "nombre_recovered    16497\n",
    "Name: 389, dtype: int64"
   ]
  },
  {
   "cell_type": "markdown",
   "id": "d20d64df",
   "metadata": {},
   "source": [
    "nombre_infected       688\n",
    "nombre_sain          2390\n",
    "nombre_exposed        436\n",
    "nombre_recovered    16486\n",
    "Name: 390, dtype: int64"
   ]
  },
  {
   "cell_type": "markdown",
   "id": "684ced10",
   "metadata": {},
   "source": [
    "nombre_infected       706\n",
    "nombre_sain          2406\n",
    "nombre_exposed        434\n",
    "nombre_recovered    16454\n",
    "Name: 391, dtype: int64"
   ]
  },
  {
   "cell_type": "markdown",
   "id": "2d24d34b",
   "metadata": {},
   "source": [
    "nombre_infected       723\n",
    "nombre_sain          2388\n",
    "nombre_exposed        449\n",
    "nombre_recovered    16440\n",
    "Name: 392, dtype: int64"
   ]
  },
  {
   "cell_type": "markdown",
   "id": "2791071f",
   "metadata": {},
   "source": [
    "nombre_infected       754\n",
    "nombre_sain          2375\n",
    "nombre_exposed        448\n",
    "nombre_recovered    16423\n",
    "Name: 393, dtype: int64"
   ]
  },
  {
   "cell_type": "markdown",
   "id": "cebf4f4b",
   "metadata": {},
   "source": [
    "nombre_infected       762\n",
    "nombre_sain          2357\n",
    "nombre_exposed        460\n",
    "nombre_recovered    16421\n",
    "Name: 394, dtype: int64"
   ]
  },
  {
   "cell_type": "markdown",
   "id": "ee254371",
   "metadata": {},
   "source": [
    "nombre_infected       765\n",
    "nombre_sain          2336\n",
    "nombre_exposed        459\n",
    "nombre_recovered    16440\n",
    "Name: 395, dtype: int64"
   ]
  },
  {
   "cell_type": "markdown",
   "id": "dc8014a8",
   "metadata": {},
   "source": [
    "nombre_infected       775\n",
    "nombre_sain          2319\n",
    "nombre_exposed        467\n",
    "nombre_recovered    16439\n",
    "Name: 396, dtype: int64"
   ]
  },
  {
   "cell_type": "markdown",
   "id": "1a2e83e8",
   "metadata": {},
   "source": [
    "nombre_infected       802\n",
    "nombre_sain          2304\n",
    "nombre_exposed        461\n",
    "nombre_recovered    16433\n",
    "Name: 397, dtype: int64"
   ]
  },
  {
   "cell_type": "markdown",
   "id": "ce7e9648",
   "metadata": {},
   "source": [
    "nombre_infected       813\n",
    "nombre_sain          2299\n",
    "nombre_exposed        463\n",
    "nombre_recovered    16425\n",
    "Name: 398, dtype: int64"
   ]
  },
  {
   "cell_type": "markdown",
   "id": "4d407545",
   "metadata": {},
   "source": [
    "nombre_infected       854\n",
    "nombre_sain          2239\n",
    "nombre_exposed        466\n",
    "nombre_recovered    16441\n",
    "Name: 399, dtype: int64"
   ]
  },
  {
   "cell_type": "markdown",
   "id": "aba1b622",
   "metadata": {},
   "source": [
    "nombre_infected       851\n",
    "nombre_sain          2216\n",
    "nombre_exposed        489\n",
    "nombre_recovered    16444\n",
    "Name: 400, dtype: int64"
   ]
  },
  {
   "cell_type": "markdown",
   "id": "cb424174",
   "metadata": {},
   "source": [
    "nombre_infected       850\n",
    "nombre_sain          2202\n",
    "nombre_exposed        489\n",
    "nombre_recovered    16459\n",
    "Name: 401, dtype: int64"
   ]
  },
  {
   "cell_type": "markdown",
   "id": "a83d4044",
   "metadata": {},
   "source": [
    "nombre_infected       845\n",
    "nombre_sain          2194\n",
    "nombre_exposed        489\n",
    "nombre_recovered    16472\n",
    "Name: 402, dtype: int64"
   ]
  },
  {
   "cell_type": "markdown",
   "id": "d9a16a7a",
   "metadata": {},
   "source": [
    "nombre_infected       857\n",
    "nombre_sain          2179\n",
    "nombre_exposed        486\n",
    "nombre_recovered    16478\n",
    "Name: 403, dtype: int64"
   ]
  },
  {
   "cell_type": "markdown",
   "id": "c63774fa",
   "metadata": {},
   "source": [
    "nombre_infected       859\n",
    "nombre_sain          2172\n",
    "nombre_exposed        501\n",
    "nombre_recovered    16468\n",
    "Name: 404, dtype: int64"
   ]
  },
  {
   "cell_type": "markdown",
   "id": "62353ce3",
   "metadata": {},
   "source": [
    "nombre_infected       855\n",
    "nombre_sain          2184\n",
    "nombre_exposed        478\n",
    "nombre_recovered    16483\n",
    "Name: 405, dtype: int64"
   ]
  },
  {
   "cell_type": "markdown",
   "id": "b126a4b9",
   "metadata": {},
   "source": [
    "nombre_infected       860\n",
    "nombre_sain          2166\n",
    "nombre_exposed        488\n",
    "nombre_recovered    16486\n",
    "Name: 406, dtype: int64"
   ]
  },
  {
   "cell_type": "markdown",
   "id": "4dbaf807",
   "metadata": {},
   "source": [
    "nombre_infected       857\n",
    "nombre_sain          2158\n",
    "nombre_exposed        487\n",
    "nombre_recovered    16498\n",
    "Name: 407, dtype: int64"
   ]
  },
  {
   "cell_type": "markdown",
   "id": "c30c0356",
   "metadata": {},
   "source": [
    "nombre_infected       869\n",
    "nombre_sain          2144\n",
    "nombre_exposed        473\n",
    "nombre_recovered    16514\n",
    "Name: 408, dtype: int64"
   ]
  },
  {
   "cell_type": "markdown",
   "id": "df7e32f7",
   "metadata": {},
   "source": [
    "nombre_infected       874\n",
    "nombre_sain          2126\n",
    "nombre_exposed        480\n",
    "nombre_recovered    16520\n",
    "Name: 409, dtype: int64"
   ]
  },
  {
   "cell_type": "markdown",
   "id": "c3be4623",
   "metadata": {},
   "source": [
    "nombre_infected       878\n",
    "nombre_sain          2108\n",
    "nombre_exposed        495\n",
    "nombre_recovered    16519\n",
    "Name: 410, dtype: int64"
   ]
  },
  {
   "cell_type": "markdown",
   "id": "69d088bd",
   "metadata": {},
   "source": [
    "nombre_infected       905\n",
    "nombre_sain          2098\n",
    "nombre_exposed        496\n",
    "nombre_recovered    16501\n",
    "Name: 411, dtype: int64"
   ]
  },
  {
   "cell_type": "markdown",
   "id": "d972c8e6",
   "metadata": {},
   "source": [
    "nombre_infected       912\n",
    "nombre_sain          2073\n",
    "nombre_exposed        522\n",
    "nombre_recovered    16493\n",
    "Name: 412, dtype: int64"
   ]
  },
  {
   "cell_type": "markdown",
   "id": "413dc521",
   "metadata": {},
   "source": [
    "nombre_infected       930\n",
    "nombre_sain          2088\n",
    "nombre_exposed        493\n",
    "nombre_recovered    16489\n",
    "Name: 413, dtype: int64"
   ]
  },
  {
   "cell_type": "markdown",
   "id": "da3ded5a",
   "metadata": {},
   "source": [
    "nombre_infected       936\n",
    "nombre_sain          2087\n",
    "nombre_exposed        496\n",
    "nombre_recovered    16481\n",
    "Name: 414, dtype: int64"
   ]
  },
  {
   "cell_type": "markdown",
   "id": "c856e488",
   "metadata": {},
   "source": [
    "nombre_infected       905\n",
    "nombre_sain          2070\n",
    "nombre_exposed        505\n",
    "nombre_recovered    16520\n",
    "Name: 415, dtype: int64"
   ]
  },
  {
   "cell_type": "markdown",
   "id": "1c48e6ce",
   "metadata": {},
   "source": [
    "nombre_infected       914\n",
    "nombre_sain          2083\n",
    "nombre_exposed        488\n",
    "nombre_recovered    16515\n",
    "Name: 416, dtype: int64"
   ]
  },
  {
   "cell_type": "markdown",
   "id": "ebc75d24",
   "metadata": {},
   "source": [
    "nombre_infected       926\n",
    "nombre_sain          2098\n",
    "nombre_exposed        487\n",
    "nombre_recovered    16489\n",
    "Name: 417, dtype: int64"
   ]
  },
  {
   "cell_type": "markdown",
   "id": "76aee5c3",
   "metadata": {},
   "source": [
    "nombre_infected       917\n",
    "nombre_sain          2135\n",
    "nombre_exposed        475\n",
    "nombre_recovered    16473\n",
    "Name: 418, dtype: int64"
   ]
  },
  {
   "cell_type": "markdown",
   "id": "c28287a0",
   "metadata": {},
   "source": [
    "nombre_infected       909\n",
    "nombre_sain          2151\n",
    "nombre_exposed        475\n",
    "nombre_recovered    16465\n",
    "Name: 419, dtype: int64"
   ]
  },
  {
   "cell_type": "markdown",
   "id": "f39677f8",
   "metadata": {},
   "source": [
    "nombre_infected       894\n",
    "nombre_sain          2181\n",
    "nombre_exposed        478\n",
    "nombre_recovered    16447\n",
    "Name: 420, dtype: int64"
   ]
  },
  {
   "cell_type": "markdown",
   "id": "7c9ace6c",
   "metadata": {},
   "source": [
    "nombre_infected       893\n",
    "nombre_sain          2218\n",
    "nombre_exposed        487\n",
    "nombre_recovered    16402\n",
    "Name: 421, dtype: int64"
   ]
  },
  {
   "cell_type": "markdown",
   "id": "0a57e45c",
   "metadata": {},
   "source": [
    "nombre_infected       893\n",
    "nombre_sain          2226\n",
    "nombre_exposed        512\n",
    "nombre_recovered    16369\n",
    "Name: 422, dtype: int64"
   ]
  },
  {
   "cell_type": "markdown",
   "id": "bb70f030",
   "metadata": {},
   "source": [
    "nombre_infected       898\n",
    "nombre_sain          2272\n",
    "nombre_exposed        511\n",
    "nombre_recovered    16319\n",
    "Name: 423, dtype: int64"
   ]
  },
  {
   "cell_type": "markdown",
   "id": "7646c566",
   "metadata": {},
   "source": [
    "nombre_infected       917\n",
    "nombre_sain          2294\n",
    "nombre_exposed        500\n",
    "nombre_recovered    16289\n",
    "Name: 424, dtype: int64"
   ]
  },
  {
   "cell_type": "markdown",
   "id": "1a738da4",
   "metadata": {},
   "source": [
    "nombre_infected       914\n",
    "nombre_sain          2295\n",
    "nombre_exposed        514\n",
    "nombre_recovered    16277\n",
    "Name: 425, dtype: int64"
   ]
  },
  {
   "cell_type": "markdown",
   "id": "770749df",
   "metadata": {},
   "source": [
    "nombre_infected       914\n",
    "nombre_sain          2268\n",
    "nombre_exposed        542\n",
    "nombre_recovered    16276\n",
    "Name: 426, dtype: int64"
   ]
  },
  {
   "cell_type": "markdown",
   "id": "5f998f29",
   "metadata": {},
   "source": [
    "nombre_infected       935\n",
    "nombre_sain          2283\n",
    "nombre_exposed        540\n",
    "nombre_recovered    16242\n",
    "Name: 427, dtype: int64"
   ]
  },
  {
   "cell_type": "markdown",
   "id": "a4469aa6",
   "metadata": {},
   "source": [
    "nombre_infected       954\n",
    "nombre_sain          2276\n",
    "nombre_exposed        534\n",
    "nombre_recovered    16236\n",
    "Name: 428, dtype: int64"
   ]
  },
  {
   "cell_type": "markdown",
   "id": "ea469b93",
   "metadata": {},
   "source": [
    "nombre_infected       968\n",
    "nombre_sain          2254\n",
    "nombre_exposed        533\n",
    "nombre_recovered    16245\n",
    "Name: 429, dtype: int64"
   ]
  },
  {
   "cell_type": "markdown",
   "id": "2c120f00",
   "metadata": {},
   "source": [
    "nombre_infected       973\n",
    "nombre_sain          2236\n",
    "nombre_exposed        518\n",
    "nombre_recovered    16273\n",
    "Name: 430, dtype: int64"
   ]
  },
  {
   "cell_type": "markdown",
   "id": "6a4eaa17",
   "metadata": {},
   "source": [
    "nombre_infected       998\n",
    "nombre_sain          2232\n",
    "nombre_exposed        519\n",
    "nombre_recovered    16251\n",
    "Name: 431, dtype: int64"
   ]
  },
  {
   "cell_type": "markdown",
   "id": "44814992",
   "metadata": {},
   "source": [
    "nombre_infected       986\n",
    "nombre_sain          2212\n",
    "nombre_exposed        541\n",
    "nombre_recovered    16261\n",
    "Name: 432, dtype: int64"
   ]
  },
  {
   "cell_type": "markdown",
   "id": "2e2955d7",
   "metadata": {},
   "source": [
    "nombre_infected      1005\n",
    "nombre_sain          2172\n",
    "nombre_exposed        561\n",
    "nombre_recovered    16262\n",
    "Name: 433, dtype: int64"
   ]
  },
  {
   "cell_type": "markdown",
   "id": "e6ca2ee5",
   "metadata": {},
   "source": [
    "nombre_infected      1009\n",
    "nombre_sain          2159\n",
    "nombre_exposed        573\n",
    "nombre_recovered    16259\n",
    "Name: 434, dtype: int64"
   ]
  },
  {
   "cell_type": "markdown",
   "id": "4eb675cd",
   "metadata": {},
   "source": [
    "nombre_infected      1024\n",
    "nombre_sain          2143\n",
    "nombre_exposed        565\n",
    "nombre_recovered    16268\n",
    "Name: 435, dtype: int64"
   ]
  },
  {
   "cell_type": "markdown",
   "id": "98ba1af9",
   "metadata": {},
   "source": [
    "nombre_infected      1050\n",
    "nombre_sain          2153\n",
    "nombre_exposed        539\n",
    "nombre_recovered    16258\n",
    "Name: 436, dtype: int64"
   ]
  },
  {
   "cell_type": "markdown",
   "id": "8415a380",
   "metadata": {},
   "source": [
    "nombre_infected      1045\n",
    "nombre_sain          2151\n",
    "nombre_exposed        552\n",
    "nombre_recovered    16252\n",
    "Name: 437, dtype: int64"
   ]
  },
  {
   "cell_type": "markdown",
   "id": "36154857",
   "metadata": {},
   "source": [
    "nombre_infected      1029\n",
    "nombre_sain          2157\n",
    "nombre_exposed        534\n",
    "nombre_recovered    16280\n",
    "Name: 438, dtype: int64"
   ]
  },
  {
   "cell_type": "markdown",
   "id": "b9283499",
   "metadata": {},
   "source": [
    "nombre_infected      1040\n",
    "nombre_sain          2165\n",
    "nombre_exposed        530\n",
    "nombre_recovered    16265\n",
    "Name: 439, dtype: int64"
   ]
  },
  {
   "cell_type": "markdown",
   "id": "ef59ab69",
   "metadata": {},
   "source": [
    "nombre_infected      1063\n",
    "nombre_sain          2153\n",
    "nombre_exposed        526\n",
    "nombre_recovered    16258\n",
    "Name: 440, dtype: int64"
   ]
  },
  {
   "cell_type": "markdown",
   "id": "2c155eb6",
   "metadata": {},
   "source": [
    "nombre_infected      1068\n",
    "nombre_sain          2141\n",
    "nombre_exposed        519\n",
    "nombre_recovered    16272\n",
    "Name: 441, dtype: int64"
   ]
  },
  {
   "cell_type": "markdown",
   "id": "4c1bf7ad",
   "metadata": {},
   "source": [
    "nombre_infected      1053\n",
    "nombre_sain          2142\n",
    "nombre_exposed        547\n",
    "nombre_recovered    16258\n",
    "Name: 442, dtype: int64"
   ]
  },
  {
   "cell_type": "markdown",
   "id": "b5836309",
   "metadata": {},
   "source": [
    "nombre_infected      1040\n",
    "nombre_sain          2118\n",
    "nombre_exposed        558\n",
    "nombre_recovered    16284\n",
    "Name: 443, dtype: int64"
   ]
  },
  {
   "cell_type": "markdown",
   "id": "be4146ac",
   "metadata": {},
   "source": [
    "nombre_infected      1068\n",
    "nombre_sain          2135\n",
    "nombre_exposed        531\n",
    "nombre_recovered    16266\n",
    "Name: 444, dtype: int64"
   ]
  },
  {
   "cell_type": "markdown",
   "id": "8bc04841",
   "metadata": {},
   "source": [
    "nombre_infected      1077\n",
    "nombre_sain          2148\n",
    "nombre_exposed        510\n",
    "nombre_recovered    16265\n",
    "Name: 445, dtype: int64"
   ]
  },
  {
   "cell_type": "markdown",
   "id": "065243d4",
   "metadata": {},
   "source": [
    "nombre_infected      1058\n",
    "nombre_sain          2157\n",
    "nombre_exposed        517\n",
    "nombre_recovered    16268\n",
    "Name: 446, dtype: int64"
   ]
  },
  {
   "cell_type": "markdown",
   "id": "a8cb9c8a",
   "metadata": {},
   "source": [
    "nombre_infected      1052\n",
    "nombre_sain          2146\n",
    "nombre_exposed        532\n",
    "nombre_recovered    16270\n",
    "Name: 447, dtype: int64"
   ]
  },
  {
   "cell_type": "markdown",
   "id": "cb739844",
   "metadata": {},
   "source": [
    "nombre_infected      1053\n",
    "nombre_sain          2156\n",
    "nombre_exposed        528\n",
    "nombre_recovered    16263\n",
    "Name: 448, dtype: int64"
   ]
  },
  {
   "cell_type": "markdown",
   "id": "d21c6215",
   "metadata": {},
   "source": [
    "nombre_infected      1043\n",
    "nombre_sain          2153\n",
    "nombre_exposed        538\n",
    "nombre_recovered    16266\n",
    "Name: 449, dtype: int64"
   ]
  },
  {
   "cell_type": "markdown",
   "id": "f3184fc7",
   "metadata": {},
   "source": [
    "nombre_infected      1038\n",
    "nombre_sain          2163\n",
    "nombre_exposed        535\n",
    "nombre_recovered    16264\n",
    "Name: 450, dtype: int64"
   ]
  },
  {
   "cell_type": "markdown",
   "id": "a6eacc11",
   "metadata": {},
   "source": [
    "nombre_infected      1043\n",
    "nombre_sain          2150\n",
    "nombre_exposed        561\n",
    "nombre_recovered    16246\n",
    "Name: 451, dtype: int64"
   ]
  },
  {
   "cell_type": "markdown",
   "id": "77829b77",
   "metadata": {},
   "source": [
    "nombre_infected      1040\n",
    "nombre_sain          2152\n",
    "nombre_exposed        568\n",
    "nombre_recovered    16240\n",
    "Name: 452, dtype: int64"
   ]
  },
  {
   "cell_type": "markdown",
   "id": "f04cbaae",
   "metadata": {},
   "source": [
    "nombre_infected      1041\n",
    "nombre_sain          2136\n",
    "nombre_exposed        576\n",
    "nombre_recovered    16247\n",
    "Name: 453, dtype: int64"
   ]
  },
  {
   "cell_type": "markdown",
   "id": "a1f964e5",
   "metadata": {},
   "source": [
    "nombre_infected      1039\n",
    "nombre_sain          2126\n",
    "nombre_exposed        575\n",
    "nombre_recovered    16260\n",
    "Name: 454, dtype: int64"
   ]
  },
  {
   "cell_type": "markdown",
   "id": "70c37124",
   "metadata": {},
   "source": [
    "nombre_infected      1059\n",
    "nombre_sain          2099\n",
    "nombre_exposed        561\n",
    "nombre_recovered    16281\n",
    "Name: 455, dtype: int64"
   ]
  },
  {
   "cell_type": "markdown",
   "id": "f48bab36",
   "metadata": {},
   "source": [
    "nombre_infected      1083\n",
    "nombre_sain          2084\n",
    "nombre_exposed        563\n",
    "nombre_recovered    16270\n",
    "Name: 456, dtype: int64"
   ]
  },
  {
   "cell_type": "markdown",
   "id": "0a223406",
   "metadata": {},
   "source": [
    "nombre_infected      1099\n",
    "nombre_sain          2078\n",
    "nombre_exposed        543\n",
    "nombre_recovered    16280\n",
    "Name: 457, dtype: int64"
   ]
  },
  {
   "cell_type": "markdown",
   "id": "c22b018b",
   "metadata": {},
   "source": [
    "nombre_infected      1089\n",
    "nombre_sain          2086\n",
    "nombre_exposed        545\n",
    "nombre_recovered    16280\n",
    "Name: 458, dtype: int64"
   ]
  },
  {
   "cell_type": "markdown",
   "id": "88ad206a",
   "metadata": {},
   "source": [
    "nombre_infected      1072\n",
    "nombre_sain          2085\n",
    "nombre_exposed        554\n",
    "nombre_recovered    16289\n",
    "Name: 459, dtype: int64"
   ]
  },
  {
   "cell_type": "markdown",
   "id": "d7044097",
   "metadata": {},
   "source": [
    "nombre_infected      1085\n",
    "nombre_sain          2075\n",
    "nombre_exposed        551\n",
    "nombre_recovered    16289\n",
    "Name: 460, dtype: int64"
   ]
  },
  {
   "cell_type": "markdown",
   "id": "e2ec7684",
   "metadata": {},
   "source": [
    "nombre_infected      1083\n",
    "nombre_sain          2022\n",
    "nombre_exposed        580\n",
    "nombre_recovered    16315\n",
    "Name: 461, dtype: int64"
   ]
  },
  {
   "cell_type": "markdown",
   "id": "184c6ca7",
   "metadata": {},
   "source": [
    "nombre_infected      1075\n",
    "nombre_sain          2027\n",
    "nombre_exposed        563\n",
    "nombre_recovered    16335\n",
    "Name: 462, dtype: int64"
   ]
  },
  {
   "cell_type": "markdown",
   "id": "94bd44c7",
   "metadata": {},
   "source": [
    "nombre_infected      1067\n",
    "nombre_sain          2013\n",
    "nombre_exposed        559\n",
    "nombre_recovered    16361\n",
    "Name: 463, dtype: int64"
   ]
  },
  {
   "cell_type": "markdown",
   "id": "9fa08896",
   "metadata": {},
   "source": [
    "nombre_infected      1062\n",
    "nombre_sain          1977\n",
    "nombre_exposed        589\n",
    "nombre_recovered    16372\n",
    "Name: 464, dtype: int64"
   ]
  },
  {
   "cell_type": "markdown",
   "id": "dac40afa",
   "metadata": {},
   "source": [
    "nombre_infected      1047\n",
    "nombre_sain          1933\n",
    "nombre_exposed        577\n",
    "nombre_recovered    16443\n",
    "Name: 465, dtype: int64"
   ]
  },
  {
   "cell_type": "markdown",
   "id": "9a36c83f",
   "metadata": {},
   "source": [
    "nombre_infected      1056\n",
    "nombre_sain          1906\n",
    "nombre_exposed        558\n",
    "nombre_recovered    16480\n",
    "Name: 466, dtype: int64"
   ]
  },
  {
   "cell_type": "markdown",
   "id": "81ade131",
   "metadata": {},
   "source": [
    "nombre_infected      1086\n",
    "nombre_sain          1875\n",
    "nombre_exposed        523\n",
    "nombre_recovered    16516\n",
    "Name: 467, dtype: int64"
   ]
  },
  {
   "cell_type": "markdown",
   "id": "2f1dce62",
   "metadata": {},
   "source": [
    "nombre_infected      1062\n",
    "nombre_sain          1851\n",
    "nombre_exposed        527\n",
    "nombre_recovered    16560\n",
    "Name: 468, dtype: int64"
   ]
  },
  {
   "cell_type": "markdown",
   "id": "a9a6eb25",
   "metadata": {},
   "source": [
    "nombre_infected      1076\n",
    "nombre_sain          1828\n",
    "nombre_exposed        520\n",
    "nombre_recovered    16576\n",
    "Name: 469, dtype: int64"
   ]
  },
  {
   "cell_type": "markdown",
   "id": "72fca0f0",
   "metadata": {},
   "source": [
    "nombre_infected      1066\n",
    "nombre_sain          1798\n",
    "nombre_exposed        553\n",
    "nombre_recovered    16583\n",
    "Name: 470, dtype: int64"
   ]
  },
  {
   "cell_type": "markdown",
   "id": "87a26e7b",
   "metadata": {},
   "source": [
    "nombre_infected      1037\n",
    "nombre_sain          1757\n",
    "nombre_exposed        569\n",
    "nombre_recovered    16637\n",
    "Name: 471, dtype: int64"
   ]
  },
  {
   "cell_type": "markdown",
   "id": "08d75979",
   "metadata": {},
   "source": [
    "nombre_infected      1054\n",
    "nombre_sain          1757\n",
    "nombre_exposed        520\n",
    "nombre_recovered    16669\n",
    "Name: 472, dtype: int64"
   ]
  },
  {
   "cell_type": "markdown",
   "id": "028502c2",
   "metadata": {},
   "source": [
    "nombre_infected      1051\n",
    "nombre_sain          1763\n",
    "nombre_exposed        498\n",
    "nombre_recovered    16688\n",
    "Name: 473, dtype: int64"
   ]
  },
  {
   "cell_type": "markdown",
   "id": "2de8dd83",
   "metadata": {},
   "source": [
    "nombre_infected      1065\n",
    "nombre_sain          1746\n",
    "nombre_exposed        495\n",
    "nombre_recovered    16694\n",
    "Name: 474, dtype: int64"
   ]
  },
  {
   "cell_type": "markdown",
   "id": "502c75e5",
   "metadata": {},
   "source": [
    "nombre_infected      1041\n",
    "nombre_sain          1730\n",
    "nombre_exposed        496\n",
    "nombre_recovered    16733\n",
    "Name: 475, dtype: int64"
   ]
  },
  {
   "cell_type": "markdown",
   "id": "fe437a23",
   "metadata": {},
   "source": [
    "nombre_infected      1041\n",
    "nombre_sain          1707\n",
    "nombre_exposed        482\n",
    "nombre_recovered    16770\n",
    "Name: 476, dtype: int64"
   ]
  },
  {
   "cell_type": "markdown",
   "id": "fb315e96",
   "metadata": {},
   "source": [
    "nombre_infected      1007\n",
    "nombre_sain          1712\n",
    "nombre_exposed        489\n",
    "nombre_recovered    16792\n",
    "Name: 477, dtype: int64"
   ]
  },
  {
   "cell_type": "markdown",
   "id": "4b5c440f",
   "metadata": {},
   "source": [
    "nombre_infected      1003\n",
    "nombre_sain          1697\n",
    "nombre_exposed        478\n",
    "nombre_recovered    16822\n",
    "Name: 478, dtype: int64"
   ]
  },
  {
   "cell_type": "markdown",
   "id": "2db80c42",
   "metadata": {},
   "source": [
    "nombre_infected       988\n",
    "nombre_sain          1726\n",
    "nombre_exposed        442\n",
    "nombre_recovered    16844\n",
    "Name: 479, dtype: int64"
   ]
  },
  {
   "cell_type": "markdown",
   "id": "526464a8",
   "metadata": {},
   "source": [
    "nombre_infected       968\n",
    "nombre_sain          1739\n",
    "nombre_exposed        430\n",
    "nombre_recovered    16863\n",
    "Name: 480, dtype: int64"
   ]
  },
  {
   "cell_type": "markdown",
   "id": "7752d77c",
   "metadata": {},
   "source": [
    "nombre_infected       941\n",
    "nombre_sain          1758\n",
    "nombre_exposed        426\n",
    "nombre_recovered    16875\n",
    "Name: 481, dtype: int64"
   ]
  },
  {
   "cell_type": "markdown",
   "id": "5f237fde",
   "metadata": {},
   "source": [
    "nombre_infected       941\n",
    "nombre_sain          1783\n",
    "nombre_exposed        405\n",
    "nombre_recovered    16871\n",
    "Name: 482, dtype: int64"
   ]
  },
  {
   "cell_type": "markdown",
   "id": "e9109722",
   "metadata": {},
   "source": [
    "nombre_infected       932\n",
    "nombre_sain          1791\n",
    "nombre_exposed        386\n",
    "nombre_recovered    16891\n",
    "Name: 483, dtype: int64"
   ]
  },
  {
   "cell_type": "markdown",
   "id": "dea60275",
   "metadata": {},
   "source": [
    "nombre_infected       894\n",
    "nombre_sain          1790\n",
    "nombre_exposed        393\n",
    "nombre_recovered    16923\n",
    "Name: 484, dtype: int64"
   ]
  },
  {
   "cell_type": "markdown",
   "id": "e2e91deb",
   "metadata": {},
   "source": [
    "nombre_infected       873\n",
    "nombre_sain          1775\n",
    "nombre_exposed        400\n",
    "nombre_recovered    16952\n",
    "Name: 485, dtype: int64"
   ]
  },
  {
   "cell_type": "markdown",
   "id": "7b2a30a3",
   "metadata": {},
   "source": [
    "nombre_infected       863\n",
    "nombre_sain          1785\n",
    "nombre_exposed        385\n",
    "nombre_recovered    16967\n",
    "Name: 486, dtype: int64"
   ]
  },
  {
   "cell_type": "markdown",
   "id": "4de28cd7",
   "metadata": {},
   "source": [
    "nombre_infected       866\n",
    "nombre_sain          1780\n",
    "nombre_exposed        379\n",
    "nombre_recovered    16975\n",
    "Name: 487, dtype: int64"
   ]
  },
  {
   "cell_type": "markdown",
   "id": "b3fa18ee",
   "metadata": {},
   "source": [
    "nombre_infected       835\n",
    "nombre_sain          1758\n",
    "nombre_exposed        398\n",
    "nombre_recovered    17009\n",
    "Name: 488, dtype: int64"
   ]
  },
  {
   "cell_type": "markdown",
   "id": "749cd91c",
   "metadata": {},
   "source": [
    "nombre_infected       813\n",
    "nombre_sain          1769\n",
    "nombre_exposed        401\n",
    "nombre_recovered    17017\n",
    "Name: 489, dtype: int64"
   ]
  },
  {
   "cell_type": "markdown",
   "id": "4dab1c42",
   "metadata": {},
   "source": [
    "nombre_infected       803\n",
    "nombre_sain          1790\n",
    "nombre_exposed        380\n",
    "nombre_recovered    17027\n",
    "Name: 490, dtype: int64"
   ]
  },
  {
   "cell_type": "markdown",
   "id": "b6df3e24",
   "metadata": {},
   "source": [
    "nombre_infected       780\n",
    "nombre_sain          1784\n",
    "nombre_exposed        386\n",
    "nombre_recovered    17050\n",
    "Name: 491, dtype: int64"
   ]
  },
  {
   "cell_type": "markdown",
   "id": "b558179d",
   "metadata": {},
   "source": [
    "nombre_infected       768\n",
    "nombre_sain          1792\n",
    "nombre_exposed        380\n",
    "nombre_recovered    17060\n",
    "Name: 492, dtype: int64"
   ]
  },
  {
   "cell_type": "markdown",
   "id": "1d94de90",
   "metadata": {},
   "source": [
    "nombre_infected       752\n",
    "nombre_sain          1813\n",
    "nombre_exposed        364\n",
    "nombre_recovered    17071\n",
    "Name: 493, dtype: int64"
   ]
  },
  {
   "cell_type": "markdown",
   "id": "1fa57192",
   "metadata": {},
   "source": [
    "nombre_infected       733\n",
    "nombre_sain          1840\n",
    "nombre_exposed        343\n",
    "nombre_recovered    17084\n",
    "Name: 494, dtype: int64"
   ]
  },
  {
   "cell_type": "markdown",
   "id": "02e32e1e",
   "metadata": {},
   "source": [
    "nombre_infected       717\n",
    "nombre_sain          1888\n",
    "nombre_exposed        315\n",
    "nombre_recovered    17080\n",
    "Name: 495, dtype: int64"
   ]
  },
  {
   "cell_type": "markdown",
   "id": "1fe9785c",
   "metadata": {},
   "source": [
    "nombre_infected       699\n",
    "nombre_sain          1951\n",
    "nombre_exposed        306\n",
    "nombre_recovered    17044\n",
    "Name: 496, dtype: int64"
   ]
  },
  {
   "cell_type": "markdown",
   "id": "d684b0a3",
   "metadata": {},
   "source": [
    "nombre_infected       671\n",
    "nombre_sain          1980\n",
    "nombre_exposed        326\n",
    "nombre_recovered    17023\n",
    "Name: 497, dtype: int64"
   ]
  },
  {
   "cell_type": "markdown",
   "id": "390563c6",
   "metadata": {},
   "source": [
    "nombre_infected       663\n",
    "nombre_sain          1999\n",
    "nombre_exposed        329\n",
    "nombre_recovered    17009\n",
    "Name: 498, dtype: int64"
   ]
  },
  {
   "cell_type": "markdown",
   "id": "95e6d556",
   "metadata": {},
   "source": [
    "nombre_infected       645\n",
    "nombre_sain          2032\n",
    "nombre_exposed        323\n",
    "nombre_recovered    17000\n",
    "Name: 499, dtype: int64"
   ]
  },
  {
   "cell_type": "markdown",
   "id": "1e51c257",
   "metadata": {},
   "source": [
    "nombre_infected       647\n",
    "nombre_sain          2046\n",
    "nombre_exposed        330\n",
    "nombre_recovered    16977\n",
    "Name: 500, dtype: int64"
   ]
  },
  {
   "cell_type": "markdown",
   "id": "b1cf20d4",
   "metadata": {},
   "source": [
    "nombre_infected       627\n",
    "nombre_sain          2081\n",
    "nombre_exposed        341\n",
    "nombre_recovered    16951\n",
    "Name: 501, dtype: int64"
   ]
  },
  {
   "cell_type": "markdown",
   "id": "fd7b9650",
   "metadata": {},
   "source": [
    "nombre_infected       641\n",
    "nombre_sain          2114\n",
    "nombre_exposed        329\n",
    "nombre_recovered    16916\n",
    "Name: 502, dtype: int64"
   ]
  },
  {
   "cell_type": "markdown",
   "id": "7e486559",
   "metadata": {},
   "source": [
    "nombre_infected       644\n",
    "nombre_sain          2151\n",
    "nombre_exposed        324\n",
    "nombre_recovered    16881\n",
    "Name: 503, dtype: int64"
   ]
  },
  {
   "cell_type": "markdown",
   "id": "d6895c02",
   "metadata": {},
   "source": [
    "nombre_infected       651\n",
    "nombre_sain          2193\n",
    "nombre_exposed        323\n",
    "nombre_recovered    16833\n",
    "Name: 504, dtype: int64"
   ]
  },
  {
   "cell_type": "markdown",
   "id": "a9d55aeb",
   "metadata": {},
   "source": [
    "nombre_infected       659\n",
    "nombre_sain          2228\n",
    "nombre_exposed        319\n",
    "nombre_recovered    16794\n",
    "Name: 505, dtype: int64"
   ]
  },
  {
   "cell_type": "markdown",
   "id": "32ee0d09",
   "metadata": {},
   "source": [
    "nombre_infected       657\n",
    "nombre_sain          2250\n",
    "nombre_exposed        328\n",
    "nombre_recovered    16765\n",
    "Name: 506, dtype: int64"
   ]
  },
  {
   "cell_type": "markdown",
   "id": "23a529a3",
   "metadata": {},
   "source": [
    "nombre_infected       629\n",
    "nombre_sain          2242\n",
    "nombre_exposed        360\n",
    "nombre_recovered    16769\n",
    "Name: 507, dtype: int64"
   ]
  },
  {
   "cell_type": "markdown",
   "id": "f340133d",
   "metadata": {},
   "source": [
    "nombre_infected       631\n",
    "nombre_sain          2254\n",
    "nombre_exposed        360\n",
    "nombre_recovered    16755\n",
    "Name: 508, dtype: int64"
   ]
  },
  {
   "cell_type": "markdown",
   "id": "c1e65c63",
   "metadata": {},
   "source": [
    "nombre_infected       644\n",
    "nombre_sain          2271\n",
    "nombre_exposed        357\n",
    "nombre_recovered    16728\n",
    "Name: 509, dtype: int64"
   ]
  },
  {
   "cell_type": "markdown",
   "id": "7858293c",
   "metadata": {},
   "source": [
    "nombre_infected       628\n",
    "nombre_sain          2251\n",
    "nombre_exposed        372\n",
    "nombre_recovered    16749\n",
    "Name: 510, dtype: int64"
   ]
  },
  {
   "cell_type": "markdown",
   "id": "6d3b34de",
   "metadata": {},
   "source": [
    "nombre_infected       626\n",
    "nombre_sain          2259\n",
    "nombre_exposed        381\n",
    "nombre_recovered    16734\n",
    "Name: 511, dtype: int64"
   ]
  },
  {
   "cell_type": "markdown",
   "id": "b1ed5aa8",
   "metadata": {},
   "source": [
    "nombre_infected       638\n",
    "nombre_sain          2256\n",
    "nombre_exposed        379\n",
    "nombre_recovered    16727\n",
    "Name: 512, dtype: int64"
   ]
  },
  {
   "cell_type": "markdown",
   "id": "6b5fb99a",
   "metadata": {},
   "source": [
    "nombre_infected       658\n",
    "nombre_sain          2252\n",
    "nombre_exposed        371\n",
    "nombre_recovered    16719\n",
    "Name: 513, dtype: int64"
   ]
  },
  {
   "cell_type": "markdown",
   "id": "7241e4e8",
   "metadata": {},
   "source": [
    "nombre_infected       683\n",
    "nombre_sain          2253\n",
    "nombre_exposed        381\n",
    "nombre_recovered    16683\n",
    "Name: 514, dtype: int64"
   ]
  },
  {
   "cell_type": "markdown",
   "id": "ad5dc47e",
   "metadata": {},
   "source": [
    "nombre_infected       677\n",
    "nombre_sain          2239\n",
    "nombre_exposed        396\n",
    "nombre_recovered    16688\n",
    "Name: 515, dtype: int64"
   ]
  },
  {
   "cell_type": "markdown",
   "id": "14df0d33",
   "metadata": {},
   "source": [
    "nombre_infected       696\n",
    "nombre_sain          2228\n",
    "nombre_exposed        390\n",
    "nombre_recovered    16686\n",
    "Name: 516, dtype: int64"
   ]
  },
  {
   "cell_type": "markdown",
   "id": "6190e8a5",
   "metadata": {},
   "source": [
    "nombre_infected       698\n",
    "nombre_sain          2238\n",
    "nombre_exposed        390\n",
    "nombre_recovered    16674\n",
    "Name: 517, dtype: int64"
   ]
  },
  {
   "cell_type": "markdown",
   "id": "56fe13b2",
   "metadata": {},
   "source": [
    "nombre_infected       710\n",
    "nombre_sain          2226\n",
    "nombre_exposed        381\n",
    "nombre_recovered    16683\n",
    "Name: 518, dtype: int64"
   ]
  },
  {
   "cell_type": "markdown",
   "id": "4cfc3e1c",
   "metadata": {},
   "source": [
    "nombre_infected       724\n",
    "nombre_sain          2216\n",
    "nombre_exposed        365\n",
    "nombre_recovered    16695\n",
    "Name: 519, dtype: int64"
   ]
  },
  {
   "cell_type": "markdown",
   "id": "c5c415a1",
   "metadata": {},
   "source": [
    "nombre_infected       709\n",
    "nombre_sain          2209\n",
    "nombre_exposed        366\n",
    "nombre_recovered    16716\n",
    "Name: 520, dtype: int64"
   ]
  },
  {
   "cell_type": "markdown",
   "id": "744f82c4",
   "metadata": {},
   "source": [
    "nombre_infected       704\n",
    "nombre_sain          2205\n",
    "nombre_exposed        371\n",
    "nombre_recovered    16720\n",
    "Name: 521, dtype: int64"
   ]
  },
  {
   "cell_type": "markdown",
   "id": "2493e6e4",
   "metadata": {},
   "source": [
    "nombre_infected       691\n",
    "nombre_sain          2211\n",
    "nombre_exposed        379\n",
    "nombre_recovered    16719\n",
    "Name: 522, dtype: int64"
   ]
  },
  {
   "cell_type": "markdown",
   "id": "1bf7196b",
   "metadata": {},
   "source": [
    "nombre_infected       689\n",
    "nombre_sain          2202\n",
    "nombre_exposed        375\n",
    "nombre_recovered    16734\n",
    "Name: 523, dtype: int64"
   ]
  },
  {
   "cell_type": "markdown",
   "id": "d944d456",
   "metadata": {},
   "source": [
    "nombre_infected       678\n",
    "nombre_sain          2201\n",
    "nombre_exposed        386\n",
    "nombre_recovered    16735\n",
    "Name: 524, dtype: int64"
   ]
  },
  {
   "cell_type": "markdown",
   "id": "20034504",
   "metadata": {},
   "source": [
    "nombre_infected       690\n",
    "nombre_sain          2185\n",
    "nombre_exposed        382\n",
    "nombre_recovered    16743\n",
    "Name: 525, dtype: int64"
   ]
  },
  {
   "cell_type": "markdown",
   "id": "05f20b77",
   "metadata": {},
   "source": [
    "nombre_infected       683\n",
    "nombre_sain          2180\n",
    "nombre_exposed        400\n",
    "nombre_recovered    16737\n",
    "Name: 526, dtype: int64"
   ]
  },
  {
   "cell_type": "markdown",
   "id": "6bffa514",
   "metadata": {},
   "source": [
    "nombre_infected       705\n",
    "nombre_sain          2197\n",
    "nombre_exposed        397\n",
    "nombre_recovered    16701\n",
    "Name: 527, dtype: int64"
   ]
  },
  {
   "cell_type": "markdown",
   "id": "92e5231c",
   "metadata": {},
   "source": [
    "nombre_infected       678\n",
    "nombre_sain          2188\n",
    "nombre_exposed        415\n",
    "nombre_recovered    16719\n",
    "Name: 528, dtype: int64"
   ]
  },
  {
   "cell_type": "markdown",
   "id": "9585f1a4",
   "metadata": {},
   "source": [
    "nombre_infected       691\n",
    "nombre_sain          2206\n",
    "nombre_exposed        396\n",
    "nombre_recovered    16707\n",
    "Name: 529, dtype: int64"
   ]
  },
  {
   "cell_type": "markdown",
   "id": "046b24c2",
   "metadata": {},
   "source": [
    "nombre_infected       713\n",
    "nombre_sain          2202\n",
    "nombre_exposed        398\n",
    "nombre_recovered    16687\n",
    "Name: 530, dtype: int64"
   ]
  },
  {
   "cell_type": "markdown",
   "id": "a399110b",
   "metadata": {},
   "source": [
    "nombre_infected       713\n",
    "nombre_sain          2198\n",
    "nombre_exposed        427\n",
    "nombre_recovered    16662\n",
    "Name: 531, dtype: int64"
   ]
  },
  {
   "cell_type": "markdown",
   "id": "390ff707",
   "metadata": {},
   "source": [
    "nombre_infected       690\n",
    "nombre_sain          2175\n",
    "nombre_exposed        451\n",
    "nombre_recovered    16684\n",
    "Name: 532, dtype: int64"
   ]
  },
  {
   "cell_type": "markdown",
   "id": "8a847b1d",
   "metadata": {},
   "source": [
    "nombre_infected       715\n",
    "nombre_sain          2185\n",
    "nombre_exposed        446\n",
    "nombre_recovered    16654\n",
    "Name: 533, dtype: int64"
   ]
  },
  {
   "cell_type": "markdown",
   "id": "010f11e7",
   "metadata": {},
   "source": [
    "nombre_infected       726\n",
    "nombre_sain          2199\n",
    "nombre_exposed        419\n",
    "nombre_recovered    16656\n",
    "Name: 534, dtype: int64"
   ]
  },
  {
   "cell_type": "markdown",
   "id": "04f61d1e",
   "metadata": {},
   "source": [
    "nombre_infected       726\n",
    "nombre_sain          2181\n",
    "nombre_exposed        431\n",
    "nombre_recovered    16662\n",
    "Name: 535, dtype: int64"
   ]
  },
  {
   "cell_type": "markdown",
   "id": "53078799",
   "metadata": {},
   "source": [
    "nombre_infected       740\n",
    "nombre_sain          2169\n",
    "nombre_exposed        441\n",
    "nombre_recovered    16650\n",
    "Name: 536, dtype: int64"
   ]
  },
  {
   "cell_type": "markdown",
   "id": "5f120e11",
   "metadata": {},
   "source": [
    "nombre_infected       754\n",
    "nombre_sain          2171\n",
    "nombre_exposed        439\n",
    "nombre_recovered    16636\n",
    "Name: 537, dtype: int64"
   ]
  },
  {
   "cell_type": "markdown",
   "id": "cbbb37f8",
   "metadata": {},
   "source": [
    "nombre_infected       758\n",
    "nombre_sain          2185\n",
    "nombre_exposed        436\n",
    "nombre_recovered    16621\n",
    "Name: 538, dtype: int64"
   ]
  },
  {
   "cell_type": "markdown",
   "id": "424c11a6",
   "metadata": {},
   "source": [
    "nombre_infected       782\n",
    "nombre_sain          2195\n",
    "nombre_exposed        416\n",
    "nombre_recovered    16607\n",
    "Name: 539, dtype: int64"
   ]
  },
  {
   "cell_type": "markdown",
   "id": "e0bced25",
   "metadata": {},
   "source": [
    "nombre_infected       766\n",
    "nombre_sain          2198\n",
    "nombre_exposed        427\n",
    "nombre_recovered    16609\n",
    "Name: 540, dtype: int64"
   ]
  },
  {
   "cell_type": "markdown",
   "id": "88e3f34d",
   "metadata": {},
   "source": [
    "nombre_infected       765\n",
    "nombre_sain          2204\n",
    "nombre_exposed        415\n",
    "nombre_recovered    16616\n",
    "Name: 541, dtype: int64"
   ]
  },
  {
   "cell_type": "markdown",
   "id": "9a679fea",
   "metadata": {},
   "source": [
    "nombre_infected       766\n",
    "nombre_sain          2194\n",
    "nombre_exposed        430\n",
    "nombre_recovered    16610\n",
    "Name: 542, dtype: int64"
   ]
  },
  {
   "cell_type": "markdown",
   "id": "459c05da",
   "metadata": {},
   "source": [
    "nombre_infected       757\n",
    "nombre_sain          2182\n",
    "nombre_exposed        429\n",
    "nombre_recovered    16632\n",
    "Name: 543, dtype: int64"
   ]
  },
  {
   "cell_type": "markdown",
   "id": "7997132d",
   "metadata": {},
   "source": [
    "nombre_infected       751\n",
    "nombre_sain          2199\n",
    "nombre_exposed        412\n",
    "nombre_recovered    16638\n",
    "Name: 544, dtype: int64"
   ]
  },
  {
   "cell_type": "markdown",
   "id": "8390785e",
   "metadata": {},
   "source": [
    "nombre_infected       769\n",
    "nombre_sain          2209\n",
    "nombre_exposed        418\n",
    "nombre_recovered    16604\n",
    "Name: 545, dtype: int64"
   ]
  },
  {
   "cell_type": "markdown",
   "id": "41243299",
   "metadata": {},
   "source": [
    "nombre_infected       766\n",
    "nombre_sain          2215\n",
    "nombre_exposed        417\n",
    "nombre_recovered    16602\n",
    "Name: 546, dtype: int64"
   ]
  },
  {
   "cell_type": "markdown",
   "id": "8af9c2bd",
   "metadata": {},
   "source": [
    "nombre_infected       780\n",
    "nombre_sain          2200\n",
    "nombre_exposed        422\n",
    "nombre_recovered    16598\n",
    "Name: 547, dtype: int64"
   ]
  },
  {
   "cell_type": "markdown",
   "id": "e1c9c9bd",
   "metadata": {},
   "source": [
    "nombre_infected       773\n",
    "nombre_sain          2186\n",
    "nombre_exposed        432\n",
    "nombre_recovered    16609\n",
    "Name: 548, dtype: int64"
   ]
  },
  {
   "cell_type": "markdown",
   "id": "7f7b5006",
   "metadata": {},
   "source": [
    "nombre_infected       773\n",
    "nombre_sain          2180\n",
    "nombre_exposed        435\n",
    "nombre_recovered    16612\n",
    "Name: 549, dtype: int64"
   ]
  },
  {
   "cell_type": "markdown",
   "id": "535cb486",
   "metadata": {},
   "source": [
    "nombre_infected       769\n",
    "nombre_sain          2185\n",
    "nombre_exposed        428\n",
    "nombre_recovered    16618\n",
    "Name: 550, dtype: int64"
   ]
  },
  {
   "cell_type": "markdown",
   "id": "242ca7c4",
   "metadata": {},
   "source": [
    "nombre_infected       784\n",
    "nombre_sain          2165\n",
    "nombre_exposed        421\n",
    "nombre_recovered    16630\n",
    "Name: 551, dtype: int64"
   ]
  },
  {
   "cell_type": "markdown",
   "id": "e86f6e34",
   "metadata": {},
   "source": [
    "nombre_infected       798\n",
    "nombre_sain          2152\n",
    "nombre_exposed        429\n",
    "nombre_recovered    16621\n",
    "Name: 552, dtype: int64"
   ]
  },
  {
   "cell_type": "markdown",
   "id": "a04d6516",
   "metadata": {},
   "source": [
    "nombre_infected       800\n",
    "nombre_sain          2146\n",
    "nombre_exposed        437\n",
    "nombre_recovered    16617\n",
    "Name: 553, dtype: int64"
   ]
  },
  {
   "cell_type": "markdown",
   "id": "7d26a870",
   "metadata": {},
   "source": [
    "nombre_infected       811\n",
    "nombre_sain          2149\n",
    "nombre_exposed        431\n",
    "nombre_recovered    16609\n",
    "Name: 554, dtype: int64"
   ]
  },
  {
   "cell_type": "markdown",
   "id": "939a80e7",
   "metadata": {},
   "source": [
    "nombre_infected       811\n",
    "nombre_sain          2158\n",
    "nombre_exposed        426\n",
    "nombre_recovered    16605\n",
    "Name: 555, dtype: int64"
   ]
  },
  {
   "cell_type": "markdown",
   "id": "58b1a91e",
   "metadata": {},
   "source": [
    "nombre_infected       810\n",
    "nombre_sain          2141\n",
    "nombre_exposed        440\n",
    "nombre_recovered    16609\n",
    "Name: 556, dtype: int64"
   ]
  },
  {
   "cell_type": "markdown",
   "id": "c86afb67",
   "metadata": {},
   "source": [
    "nombre_infected       817\n",
    "nombre_sain          2142\n",
    "nombre_exposed        428\n",
    "nombre_recovered    16613\n",
    "Name: 557, dtype: int64"
   ]
  },
  {
   "cell_type": "markdown",
   "id": "247899b3",
   "metadata": {},
   "source": [
    "nombre_infected       823\n",
    "nombre_sain          2140\n",
    "nombre_exposed        422\n",
    "nombre_recovered    16615\n",
    "Name: 558, dtype: int64"
   ]
  },
  {
   "cell_type": "markdown",
   "id": "2e9a8251",
   "metadata": {},
   "source": [
    "nombre_infected       828\n",
    "nombre_sain          2119\n",
    "nombre_exposed        432\n",
    "nombre_recovered    16621\n",
    "Name: 559, dtype: int64"
   ]
  },
  {
   "cell_type": "markdown",
   "id": "ef94b3ab",
   "metadata": {},
   "source": [
    "nombre_infected       822\n",
    "nombre_sain          2123\n",
    "nombre_exposed        434\n",
    "nombre_recovered    16621\n",
    "Name: 560, dtype: int64"
   ]
  },
  {
   "cell_type": "markdown",
   "id": "26f6db49",
   "metadata": {},
   "source": [
    "nombre_infected       819\n",
    "nombre_sain          2115\n",
    "nombre_exposed        449\n",
    "nombre_recovered    16617\n",
    "Name: 561, dtype: int64"
   ]
  },
  {
   "cell_type": "markdown",
   "id": "4bead004",
   "metadata": {},
   "source": [
    "nombre_infected       818\n",
    "nombre_sain          2109\n",
    "nombre_exposed        435\n",
    "nombre_recovered    16638\n",
    "Name: 562, dtype: int64"
   ]
  },
  {
   "cell_type": "markdown",
   "id": "aed8ac6f",
   "metadata": {},
   "source": [
    "nombre_infected       835\n",
    "nombre_sain          2079\n",
    "nombre_exposed        431\n",
    "nombre_recovered    16655\n",
    "Name: 563, dtype: int64"
   ]
  },
  {
   "cell_type": "markdown",
   "id": "25d9156d",
   "metadata": {},
   "source": [
    "nombre_infected       816\n",
    "nombre_sain          2063\n",
    "nombre_exposed        462\n",
    "nombre_recovered    16659\n",
    "Name: 564, dtype: int64"
   ]
  },
  {
   "cell_type": "markdown",
   "id": "5b625757",
   "metadata": {},
   "source": [
    "nombre_infected       836\n",
    "nombre_sain          2043\n",
    "nombre_exposed        459\n",
    "nombre_recovered    16662\n",
    "Name: 565, dtype: int64"
   ]
  },
  {
   "cell_type": "markdown",
   "id": "0efa0ddf",
   "metadata": {},
   "source": [
    "nombre_infected       854\n",
    "nombre_sain          2030\n",
    "nombre_exposed        466\n",
    "nombre_recovered    16650\n",
    "Name: 566, dtype: int64"
   ]
  },
  {
   "cell_type": "markdown",
   "id": "61157c2d",
   "metadata": {},
   "source": [
    "nombre_infected       864\n",
    "nombre_sain          2025\n",
    "nombre_exposed        462\n",
    "nombre_recovered    16649\n",
    "Name: 567, dtype: int64"
   ]
  },
  {
   "cell_type": "markdown",
   "id": "35bfdcf2",
   "metadata": {},
   "source": [
    "nombre_infected       873\n",
    "nombre_sain          2039\n",
    "nombre_exposed        440\n",
    "nombre_recovered    16648\n",
    "Name: 568, dtype: int64"
   ]
  },
  {
   "cell_type": "markdown",
   "id": "ea54a013",
   "metadata": {},
   "source": [
    "nombre_infected       871\n",
    "nombre_sain          2041\n",
    "nombre_exposed        448\n",
    "nombre_recovered    16640\n",
    "Name: 569, dtype: int64"
   ]
  },
  {
   "cell_type": "markdown",
   "id": "ab633303",
   "metadata": {},
   "source": [
    "nombre_infected       876\n",
    "nombre_sain          2036\n",
    "nombre_exposed        463\n",
    "nombre_recovered    16625\n",
    "Name: 570, dtype: int64"
   ]
  },
  {
   "cell_type": "markdown",
   "id": "aeb3f640",
   "metadata": {},
   "source": [
    "nombre_infected       897\n",
    "nombre_sain          2020\n",
    "nombre_exposed        460\n",
    "nombre_recovered    16623\n",
    "Name: 571, dtype: int64"
   ]
  },
  {
   "cell_type": "markdown",
   "id": "f248c3b1",
   "metadata": {},
   "source": [
    "nombre_infected       895\n",
    "nombre_sain          2016\n",
    "nombre_exposed        463\n",
    "nombre_recovered    16626\n",
    "Name: 572, dtype: int64"
   ]
  },
  {
   "cell_type": "markdown",
   "id": "ddd137ac",
   "metadata": {},
   "source": [
    "nombre_infected       883\n",
    "nombre_sain          2015\n",
    "nombre_exposed        462\n",
    "nombre_recovered    16640\n",
    "Name: 573, dtype: int64"
   ]
  },
  {
   "cell_type": "markdown",
   "id": "6463251c",
   "metadata": {},
   "source": [
    "nombre_infected       885\n",
    "nombre_sain          1997\n",
    "nombre_exposed        483\n",
    "nombre_recovered    16635\n",
    "Name: 574, dtype: int64"
   ]
  },
  {
   "cell_type": "markdown",
   "id": "62e85332",
   "metadata": {},
   "source": [
    "nombre_infected       891\n",
    "nombre_sain          2027\n",
    "nombre_exposed        470\n",
    "nombre_recovered    16612\n",
    "Name: 575, dtype: int64"
   ]
  },
  {
   "cell_type": "markdown",
   "id": "89d0ffe0",
   "metadata": {},
   "source": [
    "nombre_infected       927\n",
    "nombre_sain          2047\n",
    "nombre_exposed        457\n",
    "nombre_recovered    16569\n",
    "Name: 576, dtype: int64"
   ]
  },
  {
   "cell_type": "markdown",
   "id": "9e79845b",
   "metadata": {},
   "source": [
    "nombre_infected       930\n",
    "nombre_sain          2047\n",
    "nombre_exposed        445\n",
    "nombre_recovered    16578\n",
    "Name: 577, dtype: int64"
   ]
  },
  {
   "cell_type": "markdown",
   "id": "6437e22c",
   "metadata": {},
   "source": [
    "nombre_infected       939\n",
    "nombre_sain          2030\n",
    "nombre_exposed        439\n",
    "nombre_recovered    16592\n",
    "Name: 578, dtype: int64"
   ]
  },
  {
   "cell_type": "markdown",
   "id": "177a05ab",
   "metadata": {},
   "source": [
    "nombre_infected       933\n",
    "nombre_sain          2039\n",
    "nombre_exposed        450\n",
    "nombre_recovered    16578\n",
    "Name: 579, dtype: int64"
   ]
  },
  {
   "cell_type": "markdown",
   "id": "e23a56fc",
   "metadata": {},
   "source": [
    "nombre_infected       939\n",
    "nombre_sain          2020\n",
    "nombre_exposed        481\n",
    "nombre_recovered    16560\n",
    "Name: 580, dtype: int64"
   ]
  },
  {
   "cell_type": "markdown",
   "id": "39130036",
   "metadata": {},
   "source": [
    "nombre_infected       934\n",
    "nombre_sain          1995\n",
    "nombre_exposed        496\n",
    "nombre_recovered    16575\n",
    "Name: 581, dtype: int64"
   ]
  },
  {
   "cell_type": "markdown",
   "id": "70958f5c",
   "metadata": {},
   "source": [
    "nombre_infected       954\n",
    "nombre_sain          1973\n",
    "nombre_exposed        507\n",
    "nombre_recovered    16566\n",
    "Name: 582, dtype: int64"
   ]
  },
  {
   "cell_type": "markdown",
   "id": "c171c70f",
   "metadata": {},
   "source": [
    "nombre_infected       971\n",
    "nombre_sain          1954\n",
    "nombre_exposed        501\n",
    "nombre_recovered    16574\n",
    "Name: 583, dtype: int64"
   ]
  },
  {
   "cell_type": "markdown",
   "id": "cd658d4e",
   "metadata": {},
   "source": [
    "nombre_infected      1007\n",
    "nombre_sain          1941\n",
    "nombre_exposed        456\n",
    "nombre_recovered    16596\n",
    "Name: 584, dtype: int64"
   ]
  },
  {
   "cell_type": "markdown",
   "id": "b941a9de",
   "metadata": {},
   "source": [
    "nombre_infected       993\n",
    "nombre_sain          1918\n",
    "nombre_exposed        463\n",
    "nombre_recovered    16626\n",
    "Name: 585, dtype: int64"
   ]
  },
  {
   "cell_type": "markdown",
   "id": "a0f5447b",
   "metadata": {},
   "source": [
    "nombre_infected       972\n",
    "nombre_sain          1913\n",
    "nombre_exposed        466\n",
    "nombre_recovered    16649\n",
    "Name: 586, dtype: int64"
   ]
  },
  {
   "cell_type": "markdown",
   "id": "d4d4d575",
   "metadata": {},
   "source": [
    "nombre_infected       975\n",
    "nombre_sain          1889\n",
    "nombre_exposed        472\n",
    "nombre_recovered    16664\n",
    "Name: 587, dtype: int64"
   ]
  },
  {
   "cell_type": "markdown",
   "id": "7db6d01c",
   "metadata": {},
   "source": [
    "nombre_infected       968\n",
    "nombre_sain          1865\n",
    "nombre_exposed        488\n",
    "nombre_recovered    16679\n",
    "Name: 588, dtype: int64"
   ]
  },
  {
   "cell_type": "markdown",
   "id": "9847f0e3",
   "metadata": {},
   "source": [
    "nombre_infected       964\n",
    "nombre_sain          1851\n",
    "nombre_exposed        477\n",
    "nombre_recovered    16708\n",
    "Name: 589, dtype: int64"
   ]
  },
  {
   "cell_type": "markdown",
   "id": "babf0d4d",
   "metadata": {},
   "source": [
    "nombre_infected       969\n",
    "nombre_sain          1846\n",
    "nombre_exposed        458\n",
    "nombre_recovered    16727\n",
    "Name: 590, dtype: int64"
   ]
  },
  {
   "cell_type": "markdown",
   "id": "4c127a4a",
   "metadata": {},
   "source": [
    "nombre_infected       964\n",
    "nombre_sain          1856\n",
    "nombre_exposed        450\n",
    "nombre_recovered    16730\n",
    "Name: 591, dtype: int64"
   ]
  },
  {
   "cell_type": "markdown",
   "id": "05b3c64e",
   "metadata": {},
   "source": [
    "nombre_infected       962\n",
    "nombre_sain          1853\n",
    "nombre_exposed        439\n",
    "nombre_recovered    16746\n",
    "Name: 592, dtype: int64"
   ]
  },
  {
   "cell_type": "markdown",
   "id": "bd595bb9",
   "metadata": {},
   "source": [
    "nombre_infected       965\n",
    "nombre_sain          1877\n",
    "nombre_exposed        411\n",
    "nombre_recovered    16747\n",
    "Name: 593, dtype: int64"
   ]
  },
  {
   "cell_type": "markdown",
   "id": "b1ed8b00",
   "metadata": {},
   "source": [
    "nombre_infected       951\n",
    "nombre_sain          1878\n",
    "nombre_exposed        428\n",
    "nombre_recovered    16743\n",
    "Name: 594, dtype: int64"
   ]
  },
  {
   "cell_type": "markdown",
   "id": "ff4951f9",
   "metadata": {},
   "source": [
    "nombre_infected       924\n",
    "nombre_sain          1878\n",
    "nombre_exposed        444\n",
    "nombre_recovered    16754\n",
    "Name: 595, dtype: int64"
   ]
  },
  {
   "cell_type": "markdown",
   "id": "83e038ed",
   "metadata": {},
   "source": [
    "nombre_infected       902\n",
    "nombre_sain          1879\n",
    "nombre_exposed        443\n",
    "nombre_recovered    16776\n",
    "Name: 596, dtype: int64"
   ]
  },
  {
   "cell_type": "markdown",
   "id": "c9433579",
   "metadata": {},
   "source": [
    "nombre_infected       932\n",
    "nombre_sain          1890\n",
    "nombre_exposed        415\n",
    "nombre_recovered    16763\n",
    "Name: 597, dtype: int64"
   ]
  },
  {
   "cell_type": "markdown",
   "id": "836ce10b",
   "metadata": {},
   "source": [
    "nombre_infected       951\n",
    "nombre_sain          1900\n",
    "nombre_exposed        408\n",
    "nombre_recovered    16741\n",
    "Name: 598, dtype: int64"
   ]
  },
  {
   "cell_type": "markdown",
   "id": "5f3c64ee",
   "metadata": {},
   "source": [
    "nombre_infected       931\n",
    "nombre_sain          1889\n",
    "nombre_exposed        416\n",
    "nombre_recovered    16764\n",
    "Name: 599, dtype: int64"
   ]
  },
  {
   "cell_type": "markdown",
   "id": "ff14e073",
   "metadata": {},
   "source": [
    "nombre_infected       916\n",
    "nombre_sain          1894\n",
    "nombre_exposed        429\n",
    "nombre_recovered    16761\n",
    "Name: 600, dtype: int64"
   ]
  },
  {
   "cell_type": "markdown",
   "id": "30caf904",
   "metadata": {},
   "source": [
    "nombre_infected       905\n",
    "nombre_sain          1907\n",
    "nombre_exposed        435\n",
    "nombre_recovered    16753\n",
    "Name: 601, dtype: int64"
   ]
  },
  {
   "cell_type": "markdown",
   "id": "8b6a8a45",
   "metadata": {},
   "source": [
    "nombre_infected       908\n",
    "nombre_sain          1898\n",
    "nombre_exposed        446\n",
    "nombre_recovered    16748\n",
    "Name: 602, dtype: int64"
   ]
  },
  {
   "cell_type": "markdown",
   "id": "38e2a004",
   "metadata": {},
   "source": [
    "nombre_infected       914\n",
    "nombre_sain          1925\n",
    "nombre_exposed        403\n",
    "nombre_recovered    16758\n",
    "Name: 603, dtype: int64"
   ]
  },
  {
   "cell_type": "markdown",
   "id": "737ce0f3",
   "metadata": {},
   "source": [
    "nombre_infected       918\n",
    "nombre_sain          1948\n",
    "nombre_exposed        383\n",
    "nombre_recovered    16751\n",
    "Name: 604, dtype: int64"
   ]
  },
  {
   "cell_type": "markdown",
   "id": "7452155a",
   "metadata": {},
   "source": [
    "nombre_infected       912\n",
    "nombre_sain          1949\n",
    "nombre_exposed        381\n",
    "nombre_recovered    16758\n",
    "Name: 605, dtype: int64"
   ]
  },
  {
   "cell_type": "markdown",
   "id": "8b835fb5",
   "metadata": {},
   "source": [
    "nombre_infected       875\n",
    "nombre_sain          1937\n",
    "nombre_exposed        408\n",
    "nombre_recovered    16780\n",
    "Name: 606, dtype: int64"
   ]
  },
  {
   "cell_type": "markdown",
   "id": "fe2cf0df",
   "metadata": {},
   "source": [
    "nombre_infected       858\n",
    "nombre_sain          1956\n",
    "nombre_exposed        422\n",
    "nombre_recovered    16764\n",
    "Name: 607, dtype: int64"
   ]
  },
  {
   "cell_type": "markdown",
   "id": "aa524049",
   "metadata": {},
   "source": [
    "nombre_infected       855\n",
    "nombre_sain          1985\n",
    "nombre_exposed        405\n",
    "nombre_recovered    16755\n",
    "Name: 608, dtype: int64"
   ]
  },
  {
   "cell_type": "markdown",
   "id": "c7c29abb",
   "metadata": {},
   "source": [
    "nombre_infected       847\n",
    "nombre_sain          1991\n",
    "nombre_exposed        397\n",
    "nombre_recovered    16765\n",
    "Name: 609, dtype: int64"
   ]
  },
  {
   "cell_type": "markdown",
   "id": "5dac2485",
   "metadata": {},
   "source": [
    "nombre_infected       817\n",
    "nombre_sain          2012\n",
    "nombre_exposed        401\n",
    "nombre_recovered    16770\n",
    "Name: 610, dtype: int64"
   ]
  },
  {
   "cell_type": "markdown",
   "id": "e317f966",
   "metadata": {},
   "source": [
    "nombre_infected       830\n",
    "nombre_sain          2035\n",
    "nombre_exposed        395\n",
    "nombre_recovered    16740\n",
    "Name: 611, dtype: int64"
   ]
  },
  {
   "cell_type": "markdown",
   "id": "5b965e22",
   "metadata": {},
   "source": [
    "nombre_infected       812\n",
    "nombre_sain          2064\n",
    "nombre_exposed        375\n",
    "nombre_recovered    16749\n",
    "Name: 612, dtype: int64"
   ]
  },
  {
   "cell_type": "markdown",
   "id": "fd697d51",
   "metadata": {},
   "source": [
    "nombre_infected       826\n",
    "nombre_sain          2063\n",
    "nombre_exposed        365\n",
    "nombre_recovered    16746\n",
    "Name: 613, dtype: int64"
   ]
  },
  {
   "cell_type": "markdown",
   "id": "4d9b5f4f",
   "metadata": {},
   "source": [
    "nombre_infected       804\n",
    "nombre_sain          2081\n",
    "nombre_exposed        387\n",
    "nombre_recovered    16728\n",
    "Name: 614, dtype: int64"
   ]
  },
  {
   "cell_type": "markdown",
   "id": "1a8fe4e6",
   "metadata": {},
   "source": [
    "nombre_infected       780\n",
    "nombre_sain          2095\n",
    "nombre_exposed        401\n",
    "nombre_recovered    16724\n",
    "Name: 615, dtype: int64"
   ]
  },
  {
   "cell_type": "markdown",
   "id": "3ca1ac31",
   "metadata": {},
   "source": [
    "nombre_infected       786\n",
    "nombre_sain          2118\n",
    "nombre_exposed        396\n",
    "nombre_recovered    16700\n",
    "Name: 616, dtype: int64"
   ]
  },
  {
   "cell_type": "markdown",
   "id": "1b0eaebf",
   "metadata": {},
   "source": [
    "nombre_infected       776\n",
    "nombre_sain          2148\n",
    "nombre_exposed        394\n",
    "nombre_recovered    16682\n",
    "Name: 617, dtype: int64"
   ]
  },
  {
   "cell_type": "markdown",
   "id": "4312c02f",
   "metadata": {},
   "source": [
    "nombre_infected       775\n",
    "nombre_sain          2191\n",
    "nombre_exposed        375\n",
    "nombre_recovered    16659\n",
    "Name: 618, dtype: int64"
   ]
  },
  {
   "cell_type": "markdown",
   "id": "cf1049c6",
   "metadata": {},
   "source": [
    "nombre_infected       770\n",
    "nombre_sain          2205\n",
    "nombre_exposed        385\n",
    "nombre_recovered    16640\n",
    "Name: 619, dtype: int64"
   ]
  },
  {
   "cell_type": "markdown",
   "id": "1facfc7b",
   "metadata": {},
   "source": [
    "nombre_infected       769\n",
    "nombre_sain          2228\n",
    "nombre_exposed        381\n",
    "nombre_recovered    16622\n",
    "Name: 620, dtype: int64"
   ]
  },
  {
   "cell_type": "markdown",
   "id": "98621987",
   "metadata": {},
   "source": [
    "nombre_infected       766\n",
    "nombre_sain          2241\n",
    "nombre_exposed        398\n",
    "nombre_recovered    16595\n",
    "Name: 621, dtype: int64"
   ]
  },
  {
   "cell_type": "markdown",
   "id": "95f76284",
   "metadata": {},
   "source": [
    "nombre_infected       764\n",
    "nombre_sain          2247\n",
    "nombre_exposed        404\n",
    "nombre_recovered    16585\n",
    "Name: 622, dtype: int64"
   ]
  },
  {
   "cell_type": "markdown",
   "id": "df08ab46",
   "metadata": {},
   "source": [
    "nombre_infected       785\n",
    "nombre_sain          2256\n",
    "nombre_exposed        390\n",
    "nombre_recovered    16569\n",
    "Name: 623, dtype: int64"
   ]
  },
  {
   "cell_type": "markdown",
   "id": "b2edc8e3",
   "metadata": {},
   "source": [
    "nombre_infected       764\n",
    "nombre_sain          2252\n",
    "nombre_exposed        406\n",
    "nombre_recovered    16578\n",
    "Name: 624, dtype: int64"
   ]
  },
  {
   "cell_type": "markdown",
   "id": "bbef48ba",
   "metadata": {},
   "source": [
    "nombre_infected       774\n",
    "nombre_sain          2292\n",
    "nombre_exposed        390\n",
    "nombre_recovered    16544\n",
    "Name: 625, dtype: int64"
   ]
  },
  {
   "cell_type": "markdown",
   "id": "b6bd28fb",
   "metadata": {},
   "source": [
    "nombre_infected       794\n",
    "nombre_sain          2289\n",
    "nombre_exposed        407\n",
    "nombre_recovered    16510\n",
    "Name: 626, dtype: int64"
   ]
  },
  {
   "cell_type": "markdown",
   "id": "d6da60a6",
   "metadata": {},
   "source": [
    "nombre_infected       796\n",
    "nombre_sain          2293\n",
    "nombre_exposed        424\n",
    "nombre_recovered    16487\n",
    "Name: 627, dtype: int64"
   ]
  },
  {
   "cell_type": "markdown",
   "id": "79f252a6",
   "metadata": {},
   "source": [
    "nombre_infected       795\n",
    "nombre_sain          2303\n",
    "nombre_exposed        416\n",
    "nombre_recovered    16486\n",
    "Name: 628, dtype: int64"
   ]
  },
  {
   "cell_type": "markdown",
   "id": "b1d17ef4",
   "metadata": {},
   "source": [
    "nombre_infected       819\n",
    "nombre_sain          2295\n",
    "nombre_exposed        439\n",
    "nombre_recovered    16447\n",
    "Name: 629, dtype: int64"
   ]
  },
  {
   "cell_type": "markdown",
   "id": "76e34213",
   "metadata": {},
   "source": [
    "nombre_infected       850\n",
    "nombre_sain          2307\n",
    "nombre_exposed        432\n",
    "nombre_recovered    16411\n",
    "Name: 630, dtype: int64"
   ]
  },
  {
   "cell_type": "markdown",
   "id": "4ee4d42e",
   "metadata": {},
   "source": [
    "nombre_infected       872\n",
    "nombre_sain          2285\n",
    "nombre_exposed        444\n",
    "nombre_recovered    16399\n",
    "Name: 631, dtype: int64"
   ]
  },
  {
   "cell_type": "markdown",
   "id": "79302d08",
   "metadata": {},
   "source": [
    "nombre_infected       866\n",
    "nombre_sain          2280\n",
    "nombre_exposed        456\n",
    "nombre_recovered    16398\n",
    "Name: 632, dtype: int64"
   ]
  },
  {
   "cell_type": "markdown",
   "id": "bf401a20",
   "metadata": {},
   "source": [
    "nombre_infected       895\n",
    "nombre_sain          2291\n",
    "nombre_exposed        434\n",
    "nombre_recovered    16380\n",
    "Name: 633, dtype: int64"
   ]
  },
  {
   "cell_type": "markdown",
   "id": "330e5d46",
   "metadata": {},
   "source": [
    "nombre_infected       895\n",
    "nombre_sain          2266\n",
    "nombre_exposed        447\n",
    "nombre_recovered    16392\n",
    "Name: 634, dtype: int64"
   ]
  },
  {
   "cell_type": "markdown",
   "id": "1fb0159a",
   "metadata": {},
   "source": [
    "nombre_infected       904\n",
    "nombre_sain          2241\n",
    "nombre_exposed        476\n",
    "nombre_recovered    16379\n",
    "Name: 635, dtype: int64"
   ]
  },
  {
   "cell_type": "markdown",
   "id": "69a31c8c",
   "metadata": {},
   "source": [
    "nombre_infected       920\n",
    "nombre_sain          2230\n",
    "nombre_exposed        464\n",
    "nombre_recovered    16386\n",
    "Name: 636, dtype: int64"
   ]
  },
  {
   "cell_type": "markdown",
   "id": "3f13a4d2",
   "metadata": {},
   "source": [
    "nombre_infected       941\n",
    "nombre_sain          2209\n",
    "nombre_exposed        449\n",
    "nombre_recovered    16401\n",
    "Name: 637, dtype: int64"
   ]
  },
  {
   "cell_type": "markdown",
   "id": "4116e1d9",
   "metadata": {},
   "source": [
    "nombre_infected       944\n",
    "nombre_sain          2169\n",
    "nombre_exposed        482\n",
    "nombre_recovered    16405\n",
    "Name: 638, dtype: int64"
   ]
  },
  {
   "cell_type": "markdown",
   "id": "b66dc925",
   "metadata": {},
   "source": [
    "nombre_infected       932\n",
    "nombre_sain          2160\n",
    "nombre_exposed        464\n",
    "nombre_recovered    16444\n",
    "Name: 639, dtype: int64"
   ]
  },
  {
   "cell_type": "markdown",
   "id": "c4e8beb7",
   "metadata": {},
   "source": [
    "nombre_infected       947\n",
    "nombre_sain          2146\n",
    "nombre_exposed        472\n",
    "nombre_recovered    16435\n",
    "Name: 640, dtype: int64"
   ]
  },
  {
   "cell_type": "markdown",
   "id": "20121d13",
   "metadata": {},
   "source": [
    "nombre_infected       953\n",
    "nombre_sain          2148\n",
    "nombre_exposed        477\n",
    "nombre_recovered    16422\n",
    "Name: 641, dtype: int64"
   ]
  },
  {
   "cell_type": "markdown",
   "id": "c7758645",
   "metadata": {},
   "source": [
    "nombre_infected       975\n",
    "nombre_sain          2143\n",
    "nombre_exposed        462\n",
    "nombre_recovered    16420\n",
    "Name: 642, dtype: int64"
   ]
  },
  {
   "cell_type": "markdown",
   "id": "b2aeec63",
   "metadata": {},
   "source": [
    "nombre_infected       979\n",
    "nombre_sain          2153\n",
    "nombre_exposed        461\n",
    "nombre_recovered    16407\n",
    "Name: 643, dtype: int64"
   ]
  },
  {
   "cell_type": "markdown",
   "id": "be2bd18c",
   "metadata": {},
   "source": [
    "nombre_infected       982\n",
    "nombre_sain          2148\n",
    "nombre_exposed        470\n",
    "nombre_recovered    16400\n",
    "Name: 644, dtype: int64"
   ]
  },
  {
   "cell_type": "markdown",
   "id": "ec8ee104",
   "metadata": {},
   "source": [
    "nombre_infected       996\n",
    "nombre_sain          2132\n",
    "nombre_exposed        471\n",
    "nombre_recovered    16401\n",
    "Name: 645, dtype: int64"
   ]
  },
  {
   "cell_type": "markdown",
   "id": "02fa1189",
   "metadata": {},
   "source": [
    "nombre_infected      1004\n",
    "nombre_sain          2112\n",
    "nombre_exposed        479\n",
    "nombre_recovered    16405\n",
    "Name: 646, dtype: int64"
   ]
  },
  {
   "cell_type": "markdown",
   "id": "674725a6",
   "metadata": {},
   "source": [
    "nombre_infected       992\n",
    "nombre_sain          2106\n",
    "nombre_exposed        490\n",
    "nombre_recovered    16412\n",
    "Name: 647, dtype: int64"
   ]
  },
  {
   "cell_type": "markdown",
   "id": "11536d37",
   "metadata": {},
   "source": [
    "nombre_infected       984\n",
    "nombre_sain          2109\n",
    "nombre_exposed        500\n",
    "nombre_recovered    16407\n",
    "Name: 648, dtype: int64"
   ]
  },
  {
   "cell_type": "markdown",
   "id": "4d02c6ed",
   "metadata": {},
   "source": [
    "nombre_infected       972\n",
    "nombre_sain          2105\n",
    "nombre_exposed        499\n",
    "nombre_recovered    16424\n",
    "Name: 649, dtype: int64"
   ]
  },
  {
   "cell_type": "markdown",
   "id": "94c5adee",
   "metadata": {},
   "source": [
    "nombre_infected      1011\n",
    "nombre_sain          2094\n",
    "nombre_exposed        496\n",
    "nombre_recovered    16399\n",
    "Name: 650, dtype: int64"
   ]
  },
  {
   "cell_type": "markdown",
   "id": "54d5fbe2",
   "metadata": {},
   "source": [
    "nombre_infected      1021\n",
    "nombre_sain          2061\n",
    "nombre_exposed        508\n",
    "nombre_recovered    16410\n",
    "Name: 651, dtype: int64"
   ]
  },
  {
   "cell_type": "markdown",
   "id": "46df45c1",
   "metadata": {},
   "source": [
    "nombre_infected      1020\n",
    "nombre_sain          2052\n",
    "nombre_exposed        508\n",
    "nombre_recovered    16420\n",
    "Name: 652, dtype: int64"
   ]
  },
  {
   "cell_type": "markdown",
   "id": "902acc3e",
   "metadata": {},
   "source": [
    "nombre_infected      1028\n",
    "nombre_sain          2039\n",
    "nombre_exposed        504\n",
    "nombre_recovered    16429\n",
    "Name: 653, dtype: int64"
   ]
  },
  {
   "cell_type": "markdown",
   "id": "b2270834",
   "metadata": {},
   "source": [
    "nombre_infected      1045\n",
    "nombre_sain          1999\n",
    "nombre_exposed        494\n",
    "nombre_recovered    16462\n",
    "Name: 654, dtype: int64"
   ]
  },
  {
   "cell_type": "markdown",
   "id": "f3685bba",
   "metadata": {},
   "source": [
    "nombre_infected      1019\n",
    "nombre_sain          1953\n",
    "nombre_exposed        522\n",
    "nombre_recovered    16506\n",
    "Name: 655, dtype: int64"
   ]
  },
  {
   "cell_type": "markdown",
   "id": "cf952d7c",
   "metadata": {},
   "source": [
    "nombre_infected      1007\n",
    "nombre_sain          1957\n",
    "nombre_exposed        504\n",
    "nombre_recovered    16532\n",
    "Name: 656, dtype: int64"
   ]
  },
  {
   "cell_type": "markdown",
   "id": "063ae27f",
   "metadata": {},
   "source": [
    "nombre_infected       999\n",
    "nombre_sain          1964\n",
    "nombre_exposed        496\n",
    "nombre_recovered    16541\n",
    "Name: 657, dtype: int64"
   ]
  },
  {
   "cell_type": "markdown",
   "id": "38dcd55f",
   "metadata": {},
   "source": [
    "nombre_infected      1007\n",
    "nombre_sain          1963\n",
    "nombre_exposed        492\n",
    "nombre_recovered    16538\n",
    "Name: 658, dtype: int64"
   ]
  },
  {
   "cell_type": "markdown",
   "id": "86472c6e",
   "metadata": {},
   "source": [
    "nombre_infected       974\n",
    "nombre_sain          1965\n",
    "nombre_exposed        490\n",
    "nombre_recovered    16571\n",
    "Name: 659, dtype: int64"
   ]
  },
  {
   "cell_type": "markdown",
   "id": "0986e477",
   "metadata": {},
   "source": [
    "nombre_infected       968\n",
    "nombre_sain          1986\n",
    "nombre_exposed        463\n",
    "nombre_recovered    16583\n",
    "Name: 660, dtype: int64"
   ]
  },
  {
   "cell_type": "markdown",
   "id": "334f93b2",
   "metadata": {},
   "source": [
    "nombre_infected       950\n",
    "nombre_sain          2004\n",
    "nombre_exposed        465\n",
    "nombre_recovered    16581\n",
    "Name: 661, dtype: int64"
   ]
  },
  {
   "cell_type": "markdown",
   "id": "d3e9e7c2",
   "metadata": {},
   "source": [
    "nombre_infected       942\n",
    "nombre_sain          1978\n",
    "nombre_exposed        483\n",
    "nombre_recovered    16597\n",
    "Name: 662, dtype: int64"
   ]
  },
  {
   "cell_type": "markdown",
   "id": "f0bd0a26",
   "metadata": {},
   "source": [
    "nombre_infected       926\n",
    "nombre_sain          1997\n",
    "nombre_exposed        486\n",
    "nombre_recovered    16591\n",
    "Name: 663, dtype: int64"
   ]
  },
  {
   "cell_type": "markdown",
   "id": "a33e89b4",
   "metadata": {},
   "source": [
    "nombre_infected       908\n",
    "nombre_sain          2007\n",
    "nombre_exposed        489\n",
    "nombre_recovered    16596\n",
    "Name: 664, dtype: int64"
   ]
  },
  {
   "cell_type": "markdown",
   "id": "d05e3844",
   "metadata": {},
   "source": [
    "nombre_infected       925\n",
    "nombre_sain          2029\n",
    "nombre_exposed        471\n",
    "nombre_recovered    16575\n",
    "Name: 665, dtype: int64"
   ]
  },
  {
   "cell_type": "markdown",
   "id": "1f4b4247",
   "metadata": {},
   "source": [
    "nombre_infected       913\n",
    "nombre_sain          2030\n",
    "nombre_exposed        481\n",
    "nombre_recovered    16576\n",
    "Name: 666, dtype: int64"
   ]
  },
  {
   "cell_type": "markdown",
   "id": "8a1bc580",
   "metadata": {},
   "source": [
    "nombre_infected       939\n",
    "nombre_sain          2061\n",
    "nombre_exposed        450\n",
    "nombre_recovered    16550\n",
    "Name: 667, dtype: int64"
   ]
  },
  {
   "cell_type": "markdown",
   "id": "ce3b5361",
   "metadata": {},
   "source": [
    "nombre_infected       912\n",
    "nombre_sain          2035\n",
    "nombre_exposed        473\n",
    "nombre_recovered    16580\n",
    "Name: 668, dtype: int64"
   ]
  },
  {
   "cell_type": "markdown",
   "id": "1765b7bf",
   "metadata": {},
   "source": [
    "nombre_infected       898\n",
    "nombre_sain          2038\n",
    "nombre_exposed        495\n",
    "nombre_recovered    16569\n",
    "Name: 669, dtype: int64"
   ]
  },
  {
   "cell_type": "markdown",
   "id": "ff4b8f49",
   "metadata": {},
   "source": [
    "nombre_infected       911\n",
    "nombre_sain          2050\n",
    "nombre_exposed        475\n",
    "nombre_recovered    16564\n",
    "Name: 670, dtype: int64"
   ]
  },
  {
   "cell_type": "markdown",
   "id": "6faab11c",
   "metadata": {},
   "source": [
    "nombre_infected       894\n",
    "nombre_sain          2062\n",
    "nombre_exposed        471\n",
    "nombre_recovered    16573\n",
    "Name: 671, dtype: int64"
   ]
  },
  {
   "cell_type": "markdown",
   "id": "565e65ce",
   "metadata": {},
   "source": [
    "nombre_infected       881\n",
    "nombre_sain          2054\n",
    "nombre_exposed        484\n",
    "nombre_recovered    16581\n",
    "Name: 672, dtype: int64"
   ]
  },
  {
   "cell_type": "markdown",
   "id": "3c47625b",
   "metadata": {},
   "source": [
    "nombre_infected       883\n",
    "nombre_sain          2065\n",
    "nombre_exposed        471\n",
    "nombre_recovered    16581\n",
    "Name: 673, dtype: int64"
   ]
  },
  {
   "cell_type": "markdown",
   "id": "b2519125",
   "metadata": {},
   "source": [
    "nombre_infected       910\n",
    "nombre_sain          2050\n",
    "nombre_exposed        470\n",
    "nombre_recovered    16570\n",
    "Name: 674, dtype: int64"
   ]
  },
  {
   "cell_type": "markdown",
   "id": "545c8012",
   "metadata": {},
   "source": [
    "nombre_infected       876\n",
    "nombre_sain          2061\n",
    "nombre_exposed        472\n",
    "nombre_recovered    16591\n",
    "Name: 675, dtype: int64"
   ]
  },
  {
   "cell_type": "markdown",
   "id": "3c45d940",
   "metadata": {},
   "source": [
    "nombre_infected       865\n",
    "nombre_sain          2044\n",
    "nombre_exposed        465\n",
    "nombre_recovered    16626\n",
    "Name: 676, dtype: int64"
   ]
  },
  {
   "cell_type": "markdown",
   "id": "dfcf752f",
   "metadata": {},
   "source": [
    "nombre_infected       866\n",
    "nombre_sain          2034\n",
    "nombre_exposed        474\n",
    "nombre_recovered    16626\n",
    "Name: 677, dtype: int64"
   ]
  },
  {
   "cell_type": "markdown",
   "id": "460f9338",
   "metadata": {},
   "source": [
    "nombre_infected       872\n",
    "nombre_sain          2069\n",
    "nombre_exposed        460\n",
    "nombre_recovered    16599\n",
    "Name: 678, dtype: int64"
   ]
  },
  {
   "cell_type": "markdown",
   "id": "6e20ef72",
   "metadata": {},
   "source": [
    "nombre_infected       874\n",
    "nombre_sain          2078\n",
    "nombre_exposed        454\n",
    "nombre_recovered    16594\n",
    "Name: 679, dtype: int64"
   ]
  },
  {
   "cell_type": "markdown",
   "id": "913282ff",
   "metadata": {},
   "source": [
    "nombre_infected       859\n",
    "nombre_sain          2078\n",
    "nombre_exposed        446\n",
    "nombre_recovered    16617\n",
    "Name: 680, dtype: int64"
   ]
  },
  {
   "cell_type": "markdown",
   "id": "e2e5e54a",
   "metadata": {},
   "source": [
    "nombre_infected       878\n",
    "nombre_sain          2088\n",
    "nombre_exposed        429\n",
    "nombre_recovered    16605\n",
    "Name: 681, dtype: int64"
   ]
  },
  {
   "cell_type": "markdown",
   "id": "f8d958cd",
   "metadata": {},
   "source": [
    "nombre_infected       869\n",
    "nombre_sain          2076\n",
    "nombre_exposed        445\n",
    "nombre_recovered    16610\n",
    "Name: 682, dtype: int64"
   ]
  },
  {
   "cell_type": "markdown",
   "id": "a3620ade",
   "metadata": {},
   "source": [
    "nombre_infected       885\n",
    "nombre_sain          2070\n",
    "nombre_exposed        443\n",
    "nombre_recovered    16602\n",
    "Name: 683, dtype: int64"
   ]
  },
  {
   "cell_type": "markdown",
   "id": "ea6d3fab",
   "metadata": {},
   "source": [
    "nombre_infected       865\n",
    "nombre_sain          2093\n",
    "nombre_exposed        422\n",
    "nombre_recovered    16620\n",
    "Name: 684, dtype: int64"
   ]
  },
  {
   "cell_type": "markdown",
   "id": "e2f4cc27",
   "metadata": {},
   "source": [
    "nombre_infected       850\n",
    "nombre_sain          2094\n",
    "nombre_exposed        429\n",
    "nombre_recovered    16627\n",
    "Name: 685, dtype: int64"
   ]
  },
  {
   "cell_type": "markdown",
   "id": "eea84ebc",
   "metadata": {},
   "source": [
    "nombre_infected       835\n",
    "nombre_sain          2068\n",
    "nombre_exposed        451\n",
    "nombre_recovered    16646\n",
    "Name: 686, dtype: int64"
   ]
  },
  {
   "cell_type": "markdown",
   "id": "a64713ea",
   "metadata": {},
   "source": [
    "nombre_infected       821\n",
    "nombre_sain          2065\n",
    "nombre_exposed        446\n",
    "nombre_recovered    16668\n",
    "Name: 687, dtype: int64"
   ]
  },
  {
   "cell_type": "markdown",
   "id": "fecf01f6",
   "metadata": {},
   "source": [
    "nombre_infected       823\n",
    "nombre_sain          2047\n",
    "nombre_exposed        439\n",
    "nombre_recovered    16691\n",
    "Name: 688, dtype: int64"
   ]
  },
  {
   "cell_type": "markdown",
   "id": "99f84e9d",
   "metadata": {},
   "source": [
    "nombre_infected       840\n",
    "nombre_sain          2038\n",
    "nombre_exposed        448\n",
    "nombre_recovered    16674\n",
    "Name: 689, dtype: int64"
   ]
  },
  {
   "cell_type": "markdown",
   "id": "8c610721",
   "metadata": {},
   "source": [
    "nombre_infected       831\n",
    "nombre_sain          2035\n",
    "nombre_exposed        446\n",
    "nombre_recovered    16688\n",
    "Name: 690, dtype: int64"
   ]
  },
  {
   "cell_type": "markdown",
   "id": "cb051a3b",
   "metadata": {},
   "source": [
    "nombre_infected       822\n",
    "nombre_sain          2049\n",
    "nombre_exposed        451\n",
    "nombre_recovered    16678\n",
    "Name: 691, dtype: int64"
   ]
  },
  {
   "cell_type": "markdown",
   "id": "c60d6df7",
   "metadata": {},
   "source": [
    "nombre_infected       800\n",
    "nombre_sain          2044\n",
    "nombre_exposed        474\n",
    "nombre_recovered    16682\n",
    "Name: 692, dtype: int64"
   ]
  },
  {
   "cell_type": "markdown",
   "id": "8e526d3f",
   "metadata": {},
   "source": [
    "nombre_infected       798\n",
    "nombre_sain          2051\n",
    "nombre_exposed        447\n",
    "nombre_recovered    16704\n",
    "Name: 693, dtype: int64"
   ]
  },
  {
   "cell_type": "markdown",
   "id": "1c7ca8a8",
   "metadata": {},
   "source": [
    "nombre_infected       802\n",
    "nombre_sain          2078\n",
    "nombre_exposed        435\n",
    "nombre_recovered    16685\n",
    "Name: 694, dtype: int64"
   ]
  },
  {
   "cell_type": "markdown",
   "id": "00f1279e",
   "metadata": {},
   "source": [
    "nombre_infected       819\n",
    "nombre_sain          2100\n",
    "nombre_exposed        403\n",
    "nombre_recovered    16678\n",
    "Name: 695, dtype: int64"
   ]
  },
  {
   "cell_type": "markdown",
   "id": "fea97d60",
   "metadata": {},
   "source": [
    "nombre_infected       843\n",
    "nombre_sain          2115\n",
    "nombre_exposed        381\n",
    "nombre_recovered    16661\n",
    "Name: 696, dtype: int64"
   ]
  },
  {
   "cell_type": "markdown",
   "id": "029e4275",
   "metadata": {},
   "source": [
    "nombre_infected       832\n",
    "nombre_sain          2112\n",
    "nombre_exposed        382\n",
    "nombre_recovered    16674\n",
    "Name: 697, dtype: int64"
   ]
  },
  {
   "cell_type": "markdown",
   "id": "f2b5e96c",
   "metadata": {},
   "source": [
    "nombre_infected       809\n",
    "nombre_sain          2100\n",
    "nombre_exposed        413\n",
    "nombre_recovered    16678\n",
    "Name: 698, dtype: int64"
   ]
  },
  {
   "cell_type": "markdown",
   "id": "c01c3256",
   "metadata": {},
   "source": [
    "nombre_infected       788\n",
    "nombre_sain          2108\n",
    "nombre_exposed        414\n",
    "nombre_recovered    16690\n",
    "Name: 699, dtype: int64"
   ]
  },
  {
   "cell_type": "markdown",
   "id": "8df3589d",
   "metadata": {},
   "source": [
    "nombre_infected       786\n",
    "nombre_sain          2121\n",
    "nombre_exposed        400\n",
    "nombre_recovered    16693\n",
    "Name: 700, dtype: int64"
   ]
  },
  {
   "cell_type": "markdown",
   "id": "4c28de91",
   "metadata": {},
   "source": [
    "nombre_infected       794\n",
    "nombre_sain          2122\n",
    "nombre_exposed        397\n",
    "nombre_recovered    16687\n",
    "Name: 701, dtype: int64"
   ]
  },
  {
   "cell_type": "markdown",
   "id": "76fb24ba",
   "metadata": {},
   "source": [
    "nombre_infected       777\n",
    "nombre_sain          2105\n",
    "nombre_exposed        414\n",
    "nombre_recovered    16704\n",
    "Name: 702, dtype: int64"
   ]
  },
  {
   "cell_type": "markdown",
   "id": "e1bb5bbe",
   "metadata": {},
   "source": [
    "nombre_infected       775\n",
    "nombre_sain          2111\n",
    "nombre_exposed        415\n",
    "nombre_recovered    16699\n",
    "Name: 703, dtype: int64"
   ]
  },
  {
   "cell_type": "markdown",
   "id": "16eeccab",
   "metadata": {},
   "source": [
    "nombre_infected       757\n",
    "nombre_sain          2140\n",
    "nombre_exposed        397\n",
    "nombre_recovered    16706\n",
    "Name: 704, dtype: int64"
   ]
  },
  {
   "cell_type": "markdown",
   "id": "686124d4",
   "metadata": {},
   "source": [
    "nombre_infected       759\n",
    "nombre_sain          2128\n",
    "nombre_exposed        413\n",
    "nombre_recovered    16700\n",
    "Name: 705, dtype: int64"
   ]
  },
  {
   "cell_type": "markdown",
   "id": "0ca83958",
   "metadata": {},
   "source": [
    "nombre_infected       771\n",
    "nombre_sain          2119\n",
    "nombre_exposed        423\n",
    "nombre_recovered    16687\n",
    "Name: 706, dtype: int64"
   ]
  },
  {
   "cell_type": "markdown",
   "id": "5c64a882",
   "metadata": {},
   "source": [
    "nombre_infected       807\n",
    "nombre_sain          2130\n",
    "nombre_exposed        413\n",
    "nombre_recovered    16650\n",
    "Name: 707, dtype: int64"
   ]
  },
  {
   "cell_type": "markdown",
   "id": "058e8b1a",
   "metadata": {},
   "source": [
    "nombre_infected       841\n",
    "nombre_sain          2127\n",
    "nombre_exposed        398\n",
    "nombre_recovered    16634\n",
    "Name: 708, dtype: int64"
   ]
  },
  {
   "cell_type": "markdown",
   "id": "ad33cab6",
   "metadata": {},
   "source": [
    "nombre_infected       811\n",
    "nombre_sain          2123\n",
    "nombre_exposed        427\n",
    "nombre_recovered    16639\n",
    "Name: 709, dtype: int64"
   ]
  },
  {
   "cell_type": "markdown",
   "id": "a52549a3",
   "metadata": {},
   "source": [
    "nombre_infected       816\n",
    "nombre_sain          2118\n",
    "nombre_exposed        422\n",
    "nombre_recovered    16644\n",
    "Name: 710, dtype: int64"
   ]
  },
  {
   "cell_type": "markdown",
   "id": "92b1bae2",
   "metadata": {},
   "source": [
    "nombre_infected       813\n",
    "nombre_sain          2107\n",
    "nombre_exposed        443\n",
    "nombre_recovered    16637\n",
    "Name: 711, dtype: int64"
   ]
  },
  {
   "cell_type": "markdown",
   "id": "ee1a13ec",
   "metadata": {},
   "source": [
    "nombre_infected       802\n",
    "nombre_sain          2113\n",
    "nombre_exposed        439\n",
    "nombre_recovered    16646\n",
    "Name: 712, dtype: int64"
   ]
  },
  {
   "cell_type": "markdown",
   "id": "4c0f46a6",
   "metadata": {},
   "source": [
    "nombre_infected       816\n",
    "nombre_sain          2114\n",
    "nombre_exposed        419\n",
    "nombre_recovered    16651\n",
    "Name: 713, dtype: int64"
   ]
  },
  {
   "cell_type": "markdown",
   "id": "00523990",
   "metadata": {},
   "source": [
    "nombre_infected       844\n",
    "nombre_sain          2134\n",
    "nombre_exposed        416\n",
    "nombre_recovered    16606\n",
    "Name: 714, dtype: int64"
   ]
  },
  {
   "cell_type": "markdown",
   "id": "73df6b31",
   "metadata": {},
   "source": [
    "nombre_infected       850\n",
    "nombre_sain          2126\n",
    "nombre_exposed        399\n",
    "nombre_recovered    16625\n",
    "Name: 715, dtype: int64"
   ]
  },
  {
   "cell_type": "markdown",
   "id": "950722e5",
   "metadata": {},
   "source": [
    "nombre_infected       856\n",
    "nombre_sain          2115\n",
    "nombre_exposed        410\n",
    "nombre_recovered    16619\n",
    "Name: 716, dtype: int64"
   ]
  },
  {
   "cell_type": "markdown",
   "id": "91352c66",
   "metadata": {},
   "source": [
    "nombre_infected       867\n",
    "nombre_sain          2120\n",
    "nombre_exposed        405\n",
    "nombre_recovered    16608\n",
    "Name: 717, dtype: int64"
   ]
  },
  {
   "cell_type": "markdown",
   "id": "2eea0fbb",
   "metadata": {},
   "source": [
    "nombre_infected       837\n",
    "nombre_sain          2109\n",
    "nombre_exposed        412\n",
    "nombre_recovered    16642\n",
    "Name: 718, dtype: int64"
   ]
  },
  {
   "cell_type": "markdown",
   "id": "af110d19",
   "metadata": {},
   "source": [
    "nombre_infected       836\n",
    "nombre_sain          2139\n",
    "nombre_exposed        424\n",
    "nombre_recovered    16601\n",
    "Name: 719, dtype: int64"
   ]
  },
  {
   "cell_type": "markdown",
   "id": "07e419a3",
   "metadata": {},
   "source": [
    "nombre_infected       842\n",
    "nombre_sain          2138\n",
    "nombre_exposed        428\n",
    "nombre_recovered    16592\n",
    "Name: 720, dtype: int64"
   ]
  },
  {
   "cell_type": "markdown",
   "id": "23b39cac",
   "metadata": {},
   "source": [
    "nombre_infected       828\n",
    "nombre_sain          2149\n",
    "nombre_exposed        412\n",
    "nombre_recovered    16611\n",
    "Name: 721, dtype: int64"
   ]
  },
  {
   "cell_type": "markdown",
   "id": "07ebf1b2",
   "metadata": {},
   "source": [
    "nombre_infected       836\n",
    "nombre_sain          2116\n",
    "nombre_exposed        408\n",
    "nombre_recovered    16640\n",
    "Name: 722, dtype: int64"
   ]
  },
  {
   "cell_type": "markdown",
   "id": "b5d96652",
   "metadata": {},
   "source": [
    "nombre_infected       802\n",
    "nombre_sain          2118\n",
    "nombre_exposed        432\n",
    "nombre_recovered    16648\n",
    "Name: 723, dtype: int64"
   ]
  },
  {
   "cell_type": "markdown",
   "id": "01e9e8e3",
   "metadata": {},
   "source": [
    "nombre_infected       783\n",
    "nombre_sain          2117\n",
    "nombre_exposed        440\n",
    "nombre_recovered    16660\n",
    "Name: 724, dtype: int64"
   ]
  },
  {
   "cell_type": "markdown",
   "id": "799f2b67",
   "metadata": {},
   "source": [
    "nombre_infected       801\n",
    "nombre_sain          2110\n",
    "nombre_exposed        424\n",
    "nombre_recovered    16665\n",
    "Name: 725, dtype: int64"
   ]
  },
  {
   "cell_type": "markdown",
   "id": "d356064f",
   "metadata": {},
   "source": [
    "nombre_infected       826\n",
    "nombre_sain          2115\n",
    "nombre_exposed        416\n",
    "nombre_recovered    16643\n",
    "Name: 726, dtype: int64"
   ]
  },
  {
   "cell_type": "markdown",
   "id": "e342d3db",
   "metadata": {},
   "source": [
    "nombre_infected       831\n",
    "nombre_sain          2128\n",
    "nombre_exposed        418\n",
    "nombre_recovered    16623\n",
    "Name: 727, dtype: int64"
   ]
  },
  {
   "cell_type": "markdown",
   "id": "b1217c2b",
   "metadata": {},
   "source": [
    "nombre_infected       823\n",
    "nombre_sain          2097\n",
    "nombre_exposed        424\n",
    "nombre_recovered    16656\n",
    "Name: 728, dtype: int64"
   ]
  },
  {
   "cell_type": "markdown",
   "id": "ff0f6af8",
   "metadata": {},
   "source": [
    "nombre_infected       822\n",
    "nombre_sain          2089\n",
    "nombre_exposed        437\n",
    "nombre_recovered    16652\n",
    "Name: 729, dtype: int64"
   ]
  },
  {
   "cell_type": "markdown",
   "id": "673fec64",
   "metadata": {},
   "source": [
    "nombre_infected       815\n",
    "nombre_sain          2081\n",
    "nombre_exposed        431\n",
    "nombre_recovered    16673\n",
    "Name: 730, dtype: int64"
   ]
  }
 ],
 "metadata": {},
 "nbformat": 4,
 "nbformat_minor": 5
}
