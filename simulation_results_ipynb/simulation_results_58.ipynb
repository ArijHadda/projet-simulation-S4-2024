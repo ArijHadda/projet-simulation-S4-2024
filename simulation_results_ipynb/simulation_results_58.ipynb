{
 "cells": [
  {
   "cell_type": "markdown",
   "id": "5a6c18ec",
   "metadata": {},
   "source": [
    "nombre_infected        20\n",
    "nombre_sain         19980\n",
    "nombre_exposed          0\n",
    "nombre_recovered        0\n",
    "Name: 0, dtype: int64"
   ]
  },
  {
   "cell_type": "markdown",
   "id": "ce51e492",
   "metadata": {},
   "source": [
    "nombre_infected        20\n",
    "nombre_sain         19964\n",
    "nombre_exposed         16\n",
    "nombre_recovered        0\n",
    "Name: 1, dtype: int64"
   ]
  },
  {
   "cell_type": "markdown",
   "id": "1e26171c",
   "metadata": {},
   "source": [
    "nombre_infected        20\n",
    "nombre_sain         19947\n",
    "nombre_exposed         33\n",
    "nombre_recovered        0\n",
    "Name: 2, dtype: int64"
   ]
  },
  {
   "cell_type": "markdown",
   "id": "836136f1",
   "metadata": {},
   "source": [
    "nombre_infected        25\n",
    "nombre_sain         19919\n",
    "nombre_exposed         56\n",
    "nombre_recovered        0\n",
    "Name: 3, dtype: int64"
   ]
  },
  {
   "cell_type": "markdown",
   "id": "fdbb90d5",
   "metadata": {},
   "source": [
    "nombre_infected        34\n",
    "nombre_sain         19883\n",
    "nombre_exposed         83\n",
    "nombre_recovered        0\n",
    "Name: 4, dtype: int64"
   ]
  },
  {
   "cell_type": "markdown",
   "id": "abd979ed",
   "metadata": {},
   "source": [
    "nombre_infected        49\n",
    "nombre_sain         19822\n",
    "nombre_exposed        129\n",
    "nombre_recovered        0\n",
    "Name: 5, dtype: int64"
   ]
  },
  {
   "cell_type": "markdown",
   "id": "8778abe8",
   "metadata": {},
   "source": [
    "nombre_infected        50\n",
    "nombre_sain         19763\n",
    "nombre_exposed        165\n",
    "nombre_recovered       22\n",
    "Name: 6, dtype: int64"
   ]
  },
  {
   "cell_type": "markdown",
   "id": "057f286a",
   "metadata": {},
   "source": [
    "nombre_infected        67\n",
    "nombre_sain         19682\n",
    "nombre_exposed        221\n",
    "nombre_recovered       30\n",
    "Name: 7, dtype: int64"
   ]
  },
  {
   "cell_type": "markdown",
   "id": "50763cff",
   "metadata": {},
   "source": [
    "nombre_infected       106\n",
    "nombre_sain         19599\n",
    "nombre_exposed        257\n",
    "nombre_recovered       38\n",
    "Name: 8, dtype: int64"
   ]
  },
  {
   "cell_type": "markdown",
   "id": "3cf7a1a8",
   "metadata": {},
   "source": [
    "nombre_infected       149\n",
    "nombre_sain         19461\n",
    "nombre_exposed        345\n",
    "nombre_recovered       45\n",
    "Name: 9, dtype: int64"
   ]
  },
  {
   "cell_type": "markdown",
   "id": "34b1c22f",
   "metadata": {},
   "source": [
    "nombre_infected       181\n",
    "nombre_sain         19274\n",
    "nombre_exposed        483\n",
    "nombre_recovered       62\n",
    "Name: 10, dtype: int64"
   ]
  },
  {
   "cell_type": "markdown",
   "id": "5fa4b85f",
   "metadata": {},
   "source": [
    "nombre_infected       237\n",
    "nombre_sain         19044\n",
    "nombre_exposed        634\n",
    "nombre_recovered       85\n",
    "Name: 11, dtype: int64"
   ]
  },
  {
   "cell_type": "markdown",
   "id": "2b78f2f2",
   "metadata": {},
   "source": [
    "nombre_infected       338\n",
    "nombre_sain         18727\n",
    "nombre_exposed        825\n",
    "nombre_recovered      110\n",
    "Name: 12, dtype: int64"
   ]
  },
  {
   "cell_type": "markdown",
   "id": "9c247cb9",
   "metadata": {},
   "source": [
    "nombre_infected       473\n",
    "nombre_sain         18258\n",
    "nombre_exposed       1132\n",
    "nombre_recovered      137\n",
    "Name: 13, dtype: int64"
   ]
  },
  {
   "cell_type": "markdown",
   "id": "9c264344",
   "metadata": {},
   "source": [
    "nombre_infected       617\n",
    "nombre_sain         17647\n",
    "nombre_exposed       1551\n",
    "nombre_recovered      185\n",
    "Name: 14, dtype: int64"
   ]
  },
  {
   "cell_type": "markdown",
   "id": "cb9fc1b4",
   "metadata": {},
   "source": [
    "nombre_infected       797\n",
    "nombre_sain         16938\n",
    "nombre_exposed       2014\n",
    "nombre_recovered      251\n",
    "Name: 15, dtype: int64"
   ]
  },
  {
   "cell_type": "markdown",
   "id": "31ecfe57",
   "metadata": {},
   "source": [
    "nombre_infected      1056\n",
    "nombre_sain         16003\n",
    "nombre_exposed       2612\n",
    "nombre_recovered      329\n",
    "Name: 16, dtype: int64"
   ]
  },
  {
   "cell_type": "markdown",
   "id": "25e4508c",
   "metadata": {},
   "source": [
    "nombre_infected      1385\n",
    "nombre_sain         14911\n",
    "nombre_exposed       3270\n",
    "nombre_recovered      434\n",
    "Name: 17, dtype: int64"
   ]
  },
  {
   "cell_type": "markdown",
   "id": "6924a1b4",
   "metadata": {},
   "source": [
    "nombre_infected      1875\n",
    "nombre_sain         13549\n",
    "nombre_exposed       4003\n",
    "nombre_recovered      573\n",
    "Name: 18, dtype: int64"
   ]
  },
  {
   "cell_type": "markdown",
   "id": "9f5ea2cc",
   "metadata": {},
   "source": [
    "nombre_infected      2447\n",
    "nombre_sain         12006\n",
    "nombre_exposed       4801\n",
    "nombre_recovered      746\n",
    "Name: 19, dtype: int64"
   ]
  },
  {
   "cell_type": "markdown",
   "id": "a8c79455",
   "metadata": {},
   "source": [
    "nombre_infected      3145\n",
    "nombre_sain         10270\n",
    "nombre_exposed       5611\n",
    "nombre_recovered      974\n",
    "Name: 20, dtype: int64"
   ]
  },
  {
   "cell_type": "markdown",
   "id": "51d6081f",
   "metadata": {},
   "source": [
    "nombre_infected     3911\n",
    "nombre_sain         8428\n",
    "nombre_exposed      6365\n",
    "nombre_recovered    1296\n",
    "Name: 21, dtype: int64"
   ]
  },
  {
   "cell_type": "markdown",
   "id": "9ca6b4d6",
   "metadata": {},
   "source": [
    "nombre_infected     4713\n",
    "nombre_sain         6647\n",
    "nombre_exposed      6891\n",
    "nombre_recovered    1749\n",
    "Name: 22, dtype: int64"
   ]
  },
  {
   "cell_type": "markdown",
   "id": "151a3001",
   "metadata": {},
   "source": [
    "nombre_infected     5629\n",
    "nombre_sain         5108\n",
    "nombre_exposed      7008\n",
    "nombre_recovered    2255\n",
    "Name: 23, dtype: int64"
   ]
  },
  {
   "cell_type": "markdown",
   "id": "6fca1f4f",
   "metadata": {},
   "source": [
    "nombre_infected     6536\n",
    "nombre_sain         3799\n",
    "nombre_exposed      6845\n",
    "nombre_recovered    2820\n",
    "Name: 24, dtype: int64"
   ]
  },
  {
   "cell_type": "markdown",
   "id": "3a988fd3",
   "metadata": {},
   "source": [
    "nombre_infected     7350\n",
    "nombre_sain         2695\n",
    "nombre_exposed      6415\n",
    "nombre_recovered    3540\n",
    "Name: 25, dtype: int64"
   ]
  },
  {
   "cell_type": "markdown",
   "id": "e8744795",
   "metadata": {},
   "source": [
    "nombre_infected     7912\n",
    "nombre_sain         1872\n",
    "nombre_exposed      5772\n",
    "nombre_recovered    4444\n",
    "Name: 26, dtype: int64"
   ]
  },
  {
   "cell_type": "markdown",
   "id": "95b6d779",
   "metadata": {},
   "source": [
    "nombre_infected     8320\n",
    "nombre_sain         1309\n",
    "nombre_exposed      4999\n",
    "nombre_recovered    5372\n",
    "Name: 27, dtype: int64"
   ]
  },
  {
   "cell_type": "markdown",
   "id": "40be7605",
   "metadata": {},
   "source": [
    "nombre_infected     8491\n",
    "nombre_sain          856\n",
    "nombre_exposed      4247\n",
    "nombre_recovered    6406\n",
    "Name: 28, dtype: int64"
   ]
  },
  {
   "cell_type": "markdown",
   "id": "7be586f2",
   "metadata": {},
   "source": [
    "nombre_infected     8528\n",
    "nombre_sain          586\n",
    "nombre_exposed      3444\n",
    "nombre_recovered    7442\n",
    "Name: 29, dtype: int64"
   ]
  },
  {
   "cell_type": "markdown",
   "id": "b72b6ebd",
   "metadata": {},
   "source": [
    "nombre_infected     8392\n",
    "nombre_sain          404\n",
    "nombre_exposed      2719\n",
    "nombre_recovered    8485\n",
    "Name: 30, dtype: int64"
   ]
  },
  {
   "cell_type": "markdown",
   "id": "002002b8",
   "metadata": {},
   "source": [
    "nombre_infected     8056\n",
    "nombre_sain          274\n",
    "nombre_exposed      2133\n",
    "nombre_recovered    9537\n",
    "Name: 31, dtype: int64"
   ]
  },
  {
   "cell_type": "markdown",
   "id": "2ffcaee2",
   "metadata": {},
   "source": [
    "nombre_infected      7581\n",
    "nombre_sain           201\n",
    "nombre_exposed       1631\n",
    "nombre_recovered    10587\n",
    "Name: 32, dtype: int64"
   ]
  },
  {
   "cell_type": "markdown",
   "id": "d511396c",
   "metadata": {},
   "source": [
    "nombre_infected      7053\n",
    "nombre_sain           153\n",
    "nombre_exposed       1237\n",
    "nombre_recovered    11557\n",
    "Name: 33, dtype: int64"
   ]
  },
  {
   "cell_type": "markdown",
   "id": "7a4c71ae",
   "metadata": {},
   "source": [
    "nombre_infected      6532\n",
    "nombre_sain           129\n",
    "nombre_exposed        910\n",
    "nombre_recovered    12429\n",
    "Name: 34, dtype: int64"
   ]
  },
  {
   "cell_type": "markdown",
   "id": "5be3a35f",
   "metadata": {},
   "source": [
    "nombre_infected      5917\n",
    "nombre_sain           122\n",
    "nombre_exposed        672\n",
    "nombre_recovered    13289\n",
    "Name: 35, dtype: int64"
   ]
  },
  {
   "cell_type": "markdown",
   "id": "d1c99634",
   "metadata": {},
   "source": [
    "nombre_infected      5347\n",
    "nombre_sain           118\n",
    "nombre_exposed        529\n",
    "nombre_recovered    14006\n",
    "Name: 36, dtype: int64"
   ]
  },
  {
   "cell_type": "markdown",
   "id": "7fa2a25f",
   "metadata": {},
   "source": [
    "nombre_infected      4790\n",
    "nombre_sain           107\n",
    "nombre_exposed        398\n",
    "nombre_recovered    14705\n",
    "Name: 37, dtype: int64"
   ]
  },
  {
   "cell_type": "markdown",
   "id": "0dfc0ba5",
   "metadata": {},
   "source": [
    "nombre_infected      4264\n",
    "nombre_sain           124\n",
    "nombre_exposed        281\n",
    "nombre_recovered    15331\n",
    "Name: 38, dtype: int64"
   ]
  },
  {
   "cell_type": "markdown",
   "id": "0aa3edfe",
   "metadata": {},
   "source": [
    "nombre_infected      3773\n",
    "nombre_sain           154\n",
    "nombre_exposed        210\n",
    "nombre_recovered    15863\n",
    "Name: 39, dtype: int64"
   ]
  },
  {
   "cell_type": "markdown",
   "id": "7c5fbfd8",
   "metadata": {},
   "source": [
    "nombre_infected      3323\n",
    "nombre_sain           164\n",
    "nombre_exposed        174\n",
    "nombre_recovered    16339\n",
    "Name: 40, dtype: int64"
   ]
  },
  {
   "cell_type": "markdown",
   "id": "0268b890",
   "metadata": {},
   "source": [
    "nombre_infected      2913\n",
    "nombre_sain           205\n",
    "nombre_exposed        153\n",
    "nombre_recovered    16729\n",
    "Name: 41, dtype: int64"
   ]
  },
  {
   "cell_type": "markdown",
   "id": "5ae8c773",
   "metadata": {},
   "source": [
    "nombre_infected      2565\n",
    "nombre_sain           234\n",
    "nombre_exposed        141\n",
    "nombre_recovered    17060\n",
    "Name: 42, dtype: int64"
   ]
  },
  {
   "cell_type": "markdown",
   "id": "9aba07c9",
   "metadata": {},
   "source": [
    "nombre_infected      2294\n",
    "nombre_sain           274\n",
    "nombre_exposed        139\n",
    "nombre_recovered    17293\n",
    "Name: 43, dtype: int64"
   ]
  },
  {
   "cell_type": "markdown",
   "id": "40dffbe3",
   "metadata": {},
   "source": [
    "nombre_infected      2009\n",
    "nombre_sain           311\n",
    "nombre_exposed        129\n",
    "nombre_recovered    17551\n",
    "Name: 44, dtype: int64"
   ]
  },
  {
   "cell_type": "markdown",
   "id": "156a8988",
   "metadata": {},
   "source": [
    "nombre_infected      1780\n",
    "nombre_sain           339\n",
    "nombre_exposed        139\n",
    "nombre_recovered    17742\n",
    "Name: 45, dtype: int64"
   ]
  },
  {
   "cell_type": "markdown",
   "id": "dee8fabe",
   "metadata": {},
   "source": [
    "nombre_infected      1582\n",
    "nombre_sain           374\n",
    "nombre_exposed        146\n",
    "nombre_recovered    17898\n",
    "Name: 46, dtype: int64"
   ]
  },
  {
   "cell_type": "markdown",
   "id": "365e8e25",
   "metadata": {},
   "source": [
    "nombre_infected      1387\n",
    "nombre_sain           412\n",
    "nombre_exposed        151\n",
    "nombre_recovered    18050\n",
    "Name: 47, dtype: int64"
   ]
  },
  {
   "cell_type": "markdown",
   "id": "60f3729c",
   "metadata": {},
   "source": [
    "nombre_infected      1232\n",
    "nombre_sain           435\n",
    "nombre_exposed        156\n",
    "nombre_recovered    18177\n",
    "Name: 48, dtype: int64"
   ]
  },
  {
   "cell_type": "markdown",
   "id": "c7b9521c",
   "metadata": {},
   "source": [
    "nombre_infected      1098\n",
    "nombre_sain           458\n",
    "nombre_exposed        160\n",
    "nombre_recovered    18284\n",
    "Name: 49, dtype: int64"
   ]
  },
  {
   "cell_type": "markdown",
   "id": "792fe17b",
   "metadata": {},
   "source": [
    "nombre_infected       990\n",
    "nombre_sain           490\n",
    "nombre_exposed        151\n",
    "nombre_recovered    18369\n",
    "Name: 50, dtype: int64"
   ]
  },
  {
   "cell_type": "markdown",
   "id": "5a148e5a",
   "metadata": {},
   "source": [
    "nombre_infected       879\n",
    "nombre_sain           518\n",
    "nombre_exposed        143\n",
    "nombre_recovered    18460\n",
    "Name: 51, dtype: int64"
   ]
  },
  {
   "cell_type": "markdown",
   "id": "41fa754b",
   "metadata": {},
   "source": [
    "nombre_infected       780\n",
    "nombre_sain           558\n",
    "nombre_exposed        146\n",
    "nombre_recovered    18516\n",
    "Name: 52, dtype: int64"
   ]
  },
  {
   "cell_type": "markdown",
   "id": "a04110ca",
   "metadata": {},
   "source": [
    "nombre_infected       699\n",
    "nombre_sain           608\n",
    "nombre_exposed        144\n",
    "nombre_recovered    18549\n",
    "Name: 53, dtype: int64"
   ]
  },
  {
   "cell_type": "markdown",
   "id": "bcd942d4",
   "metadata": {},
   "source": [
    "nombre_infected       622\n",
    "nombre_sain           640\n",
    "nombre_exposed        142\n",
    "nombre_recovered    18596\n",
    "Name: 54, dtype: int64"
   ]
  },
  {
   "cell_type": "markdown",
   "id": "f19b1f9e",
   "metadata": {},
   "source": [
    "nombre_infected       550\n",
    "nombre_sain           665\n",
    "nombre_exposed        143\n",
    "nombre_recovered    18642\n",
    "Name: 55, dtype: int64"
   ]
  },
  {
   "cell_type": "markdown",
   "id": "1b7586fa",
   "metadata": {},
   "source": [
    "nombre_infected       497\n",
    "nombre_sain           703\n",
    "nombre_exposed        139\n",
    "nombre_recovered    18661\n",
    "Name: 56, dtype: int64"
   ]
  },
  {
   "cell_type": "markdown",
   "id": "a3643c96",
   "metadata": {},
   "source": [
    "nombre_infected       452\n",
    "nombre_sain           734\n",
    "nombre_exposed        131\n",
    "nombre_recovered    18683\n",
    "Name: 57, dtype: int64"
   ]
  },
  {
   "cell_type": "markdown",
   "id": "49524692",
   "metadata": {},
   "source": [
    "nombre_infected       429\n",
    "nombre_sain           776\n",
    "nombre_exposed        116\n",
    "nombre_recovered    18679\n",
    "Name: 58, dtype: int64"
   ]
  },
  {
   "cell_type": "markdown",
   "id": "86d5eb60",
   "metadata": {},
   "source": [
    "nombre_infected       384\n",
    "nombre_sain           821\n",
    "nombre_exposed        117\n",
    "nombre_recovered    18678\n",
    "Name: 59, dtype: int64"
   ]
  },
  {
   "cell_type": "markdown",
   "id": "339d9ee6",
   "metadata": {},
   "source": [
    "nombre_infected       359\n",
    "nombre_sain           853\n",
    "nombre_exposed        114\n",
    "nombre_recovered    18674\n",
    "Name: 60, dtype: int64"
   ]
  },
  {
   "cell_type": "markdown",
   "id": "05b7383a",
   "metadata": {},
   "source": [
    "nombre_infected       327\n",
    "nombre_sain           888\n",
    "nombre_exposed        112\n",
    "nombre_recovered    18673\n",
    "Name: 61, dtype: int64"
   ]
  },
  {
   "cell_type": "markdown",
   "id": "fac31d35",
   "metadata": {},
   "source": [
    "nombre_infected       326\n",
    "nombre_sain           927\n",
    "nombre_exposed         93\n",
    "nombre_recovered    18654\n",
    "Name: 62, dtype: int64"
   ]
  },
  {
   "cell_type": "markdown",
   "id": "bb3c4c0a",
   "metadata": {},
   "source": [
    "nombre_infected       301\n",
    "nombre_sain           953\n",
    "nombre_exposed         92\n",
    "nombre_recovered    18654\n",
    "Name: 63, dtype: int64"
   ]
  },
  {
   "cell_type": "markdown",
   "id": "4ce34c36",
   "metadata": {},
   "source": [
    "nombre_infected       278\n",
    "nombre_sain           995\n",
    "nombre_exposed         88\n",
    "nombre_recovered    18639\n",
    "Name: 64, dtype: int64"
   ]
  },
  {
   "cell_type": "markdown",
   "id": "5d462061",
   "metadata": {},
   "source": [
    "nombre_infected       265\n",
    "nombre_sain          1035\n",
    "nombre_exposed         83\n",
    "nombre_recovered    18617\n",
    "Name: 65, dtype: int64"
   ]
  },
  {
   "cell_type": "markdown",
   "id": "7ce1140e",
   "metadata": {},
   "source": [
    "nombre_infected       251\n",
    "nombre_sain          1065\n",
    "nombre_exposed         79\n",
    "nombre_recovered    18605\n",
    "Name: 66, dtype: int64"
   ]
  },
  {
   "cell_type": "markdown",
   "id": "9e9bce9d",
   "metadata": {},
   "source": [
    "nombre_infected       235\n",
    "nombre_sain          1109\n",
    "nombre_exposed         84\n",
    "nombre_recovered    18572\n",
    "Name: 67, dtype: int64"
   ]
  },
  {
   "cell_type": "markdown",
   "id": "8c4dd972",
   "metadata": {},
   "source": [
    "nombre_infected       216\n",
    "nombre_sain          1141\n",
    "nombre_exposed         77\n",
    "nombre_recovered    18566\n",
    "Name: 68, dtype: int64"
   ]
  },
  {
   "cell_type": "markdown",
   "id": "e22219bf",
   "metadata": {},
   "source": [
    "nombre_infected       207\n",
    "nombre_sain          1177\n",
    "nombre_exposed         80\n",
    "nombre_recovered    18536\n",
    "Name: 69, dtype: int64"
   ]
  },
  {
   "cell_type": "markdown",
   "id": "ec5c553f",
   "metadata": {},
   "source": [
    "nombre_infected       197\n",
    "nombre_sain          1216\n",
    "nombre_exposed         75\n",
    "nombre_recovered    18512\n",
    "Name: 70, dtype: int64"
   ]
  },
  {
   "cell_type": "markdown",
   "id": "07022779",
   "metadata": {},
   "source": [
    "nombre_infected       189\n",
    "nombre_sain          1254\n",
    "nombre_exposed         69\n",
    "nombre_recovered    18488\n",
    "Name: 71, dtype: int64"
   ]
  },
  {
   "cell_type": "markdown",
   "id": "a29ba2b8",
   "metadata": {},
   "source": [
    "nombre_infected       170\n",
    "nombre_sain          1296\n",
    "nombre_exposed         63\n",
    "nombre_recovered    18471\n",
    "Name: 72, dtype: int64"
   ]
  },
  {
   "cell_type": "markdown",
   "id": "807e1c48",
   "metadata": {},
   "source": [
    "nombre_infected       156\n",
    "nombre_sain          1319\n",
    "nombre_exposed         63\n",
    "nombre_recovered    18462\n",
    "Name: 73, dtype: int64"
   ]
  },
  {
   "cell_type": "markdown",
   "id": "e3685f03",
   "metadata": {},
   "source": [
    "nombre_infected       150\n",
    "nombre_sain          1377\n",
    "nombre_exposed         63\n",
    "nombre_recovered    18410\n",
    "Name: 74, dtype: int64"
   ]
  },
  {
   "cell_type": "markdown",
   "id": "3ea5ff1c",
   "metadata": {},
   "source": [
    "nombre_infected       144\n",
    "nombre_sain          1418\n",
    "nombre_exposed         62\n",
    "nombre_recovered    18376\n",
    "Name: 75, dtype: int64"
   ]
  },
  {
   "cell_type": "markdown",
   "id": "6586f8bb",
   "metadata": {},
   "source": [
    "nombre_infected       129\n",
    "nombre_sain          1456\n",
    "nombre_exposed         67\n",
    "nombre_recovered    18348\n",
    "Name: 76, dtype: int64"
   ]
  },
  {
   "cell_type": "markdown",
   "id": "852473ba",
   "metadata": {},
   "source": [
    "nombre_infected       125\n",
    "nombre_sain          1481\n",
    "nombre_exposed         67\n",
    "nombre_recovered    18327\n",
    "Name: 77, dtype: int64"
   ]
  },
  {
   "cell_type": "markdown",
   "id": "ca7771c2",
   "metadata": {},
   "source": [
    "nombre_infected       116\n",
    "nombre_sain          1529\n",
    "nombre_exposed         70\n",
    "nombre_recovered    18285\n",
    "Name: 78, dtype: int64"
   ]
  },
  {
   "cell_type": "markdown",
   "id": "be9189aa",
   "metadata": {},
   "source": [
    "nombre_infected       107\n",
    "nombre_sain          1565\n",
    "nombre_exposed         67\n",
    "nombre_recovered    18261\n",
    "Name: 79, dtype: int64"
   ]
  },
  {
   "cell_type": "markdown",
   "id": "a6a116a2",
   "metadata": {},
   "source": [
    "nombre_infected       109\n",
    "nombre_sain          1615\n",
    "nombre_exposed         58\n",
    "nombre_recovered    18218\n",
    "Name: 80, dtype: int64"
   ]
  },
  {
   "cell_type": "markdown",
   "id": "316ce406",
   "metadata": {},
   "source": [
    "nombre_infected       109\n",
    "nombre_sain          1661\n",
    "nombre_exposed         51\n",
    "nombre_recovered    18179\n",
    "Name: 81, dtype: int64"
   ]
  },
  {
   "cell_type": "markdown",
   "id": "e7081bae",
   "metadata": {},
   "source": [
    "nombre_infected       115\n",
    "nombre_sain          1696\n",
    "nombre_exposed         43\n",
    "nombre_recovered    18146\n",
    "Name: 82, dtype: int64"
   ]
  },
  {
   "cell_type": "markdown",
   "id": "0418a48c",
   "metadata": {},
   "source": [
    "nombre_infected       106\n",
    "nombre_sain          1748\n",
    "nombre_exposed         47\n",
    "nombre_recovered    18099\n",
    "Name: 83, dtype: int64"
   ]
  },
  {
   "cell_type": "markdown",
   "id": "d7a704ae",
   "metadata": {},
   "source": [
    "nombre_infected        93\n",
    "nombre_sain          1789\n",
    "nombre_exposed         54\n",
    "nombre_recovered    18064\n",
    "Name: 84, dtype: int64"
   ]
  },
  {
   "cell_type": "markdown",
   "id": "2fc27147",
   "metadata": {},
   "source": [
    "nombre_infected        96\n",
    "nombre_sain          1849\n",
    "nombre_exposed         57\n",
    "nombre_recovered    17998\n",
    "Name: 85, dtype: int64"
   ]
  },
  {
   "cell_type": "markdown",
   "id": "da0e59e8",
   "metadata": {},
   "source": [
    "nombre_infected        89\n",
    "nombre_sain          1918\n",
    "nombre_exposed         55\n",
    "nombre_recovered    17938\n",
    "Name: 86, dtype: int64"
   ]
  },
  {
   "cell_type": "markdown",
   "id": "18811555",
   "metadata": {},
   "source": [
    "nombre_infected        84\n",
    "nombre_sain          1988\n",
    "nombre_exposed         53\n",
    "nombre_recovered    17875\n",
    "Name: 87, dtype: int64"
   ]
  },
  {
   "cell_type": "markdown",
   "id": "4ad7a396",
   "metadata": {},
   "source": [
    "nombre_infected        90\n",
    "nombre_sain          2049\n",
    "nombre_exposed         53\n",
    "nombre_recovered    17808\n",
    "Name: 88, dtype: int64"
   ]
  },
  {
   "cell_type": "markdown",
   "id": "8911bc05",
   "metadata": {},
   "source": [
    "nombre_infected        97\n",
    "nombre_sain          2130\n",
    "nombre_exposed         46\n",
    "nombre_recovered    17727\n",
    "Name: 89, dtype: int64"
   ]
  },
  {
   "cell_type": "markdown",
   "id": "3c17b4f6",
   "metadata": {},
   "source": [
    "nombre_infected        96\n",
    "nombre_sain          2187\n",
    "nombre_exposed         44\n",
    "nombre_recovered    17673\n",
    "Name: 90, dtype: int64"
   ]
  },
  {
   "cell_type": "markdown",
   "id": "f3bc7e9c",
   "metadata": {},
   "source": [
    "nombre_infected        89\n",
    "nombre_sain          2244\n",
    "nombre_exposed         48\n",
    "nombre_recovered    17619\n",
    "Name: 91, dtype: int64"
   ]
  },
  {
   "cell_type": "markdown",
   "id": "acdd98fa",
   "metadata": {},
   "source": [
    "nombre_infected        89\n",
    "nombre_sain          2302\n",
    "nombre_exposed         51\n",
    "nombre_recovered    17558\n",
    "Name: 92, dtype: int64"
   ]
  },
  {
   "cell_type": "markdown",
   "id": "46c35d57",
   "metadata": {},
   "source": [
    "nombre_infected        89\n",
    "nombre_sain          2362\n",
    "nombre_exposed         45\n",
    "nombre_recovered    17504\n",
    "Name: 93, dtype: int64"
   ]
  },
  {
   "cell_type": "markdown",
   "id": "2dcdd5e3",
   "metadata": {},
   "source": [
    "nombre_infected        77\n",
    "nombre_sain          2402\n",
    "nombre_exposed         49\n",
    "nombre_recovered    17472\n",
    "Name: 94, dtype: int64"
   ]
  },
  {
   "cell_type": "markdown",
   "id": "8e1736f5",
   "metadata": {},
   "source": [
    "nombre_infected        75\n",
    "nombre_sain          2453\n",
    "nombre_exposed         56\n",
    "nombre_recovered    17416\n",
    "Name: 95, dtype: int64"
   ]
  },
  {
   "cell_type": "markdown",
   "id": "2e151994",
   "metadata": {},
   "source": [
    "nombre_infected        81\n",
    "nombre_sain          2491\n",
    "nombre_exposed         54\n",
    "nombre_recovered    17374\n",
    "Name: 96, dtype: int64"
   ]
  },
  {
   "cell_type": "markdown",
   "id": "8e1ea357",
   "metadata": {},
   "source": [
    "nombre_infected        79\n",
    "nombre_sain          2524\n",
    "nombre_exposed         62\n",
    "nombre_recovered    17335\n",
    "Name: 97, dtype: int64"
   ]
  },
  {
   "cell_type": "markdown",
   "id": "5132fc98",
   "metadata": {},
   "source": [
    "nombre_infected        84\n",
    "nombre_sain          2570\n",
    "nombre_exposed         58\n",
    "nombre_recovered    17288\n",
    "Name: 98, dtype: int64"
   ]
  },
  {
   "cell_type": "markdown",
   "id": "382a9d34",
   "metadata": {},
   "source": [
    "nombre_infected        88\n",
    "nombre_sain          2606\n",
    "nombre_exposed         65\n",
    "nombre_recovered    17241\n",
    "Name: 99, dtype: int64"
   ]
  },
  {
   "cell_type": "markdown",
   "id": "d415ebfa",
   "metadata": {},
   "source": [
    "nombre_infected        85\n",
    "nombre_sain          2641\n",
    "nombre_exposed         70\n",
    "nombre_recovered    17204\n",
    "Name: 100, dtype: int64"
   ]
  },
  {
   "cell_type": "markdown",
   "id": "8ce82342",
   "metadata": {},
   "source": [
    "nombre_infected        91\n",
    "nombre_sain          2690\n",
    "nombre_exposed         65\n",
    "nombre_recovered    17154\n",
    "Name: 101, dtype: int64"
   ]
  },
  {
   "cell_type": "markdown",
   "id": "25eabd11",
   "metadata": {},
   "source": [
    "nombre_infected       100\n",
    "nombre_sain          2719\n",
    "nombre_exposed         73\n",
    "nombre_recovered    17108\n",
    "Name: 102, dtype: int64"
   ]
  },
  {
   "cell_type": "markdown",
   "id": "3b0da4be",
   "metadata": {},
   "source": [
    "nombre_infected       100\n",
    "nombre_sain          2758\n",
    "nombre_exposed         71\n",
    "nombre_recovered    17071\n",
    "Name: 103, dtype: int64"
   ]
  },
  {
   "cell_type": "markdown",
   "id": "2e604151",
   "metadata": {},
   "source": [
    "nombre_infected        98\n",
    "nombre_sain          2803\n",
    "nombre_exposed         76\n",
    "nombre_recovered    17023\n",
    "Name: 104, dtype: int64"
   ]
  },
  {
   "cell_type": "markdown",
   "id": "a539907e",
   "metadata": {},
   "source": [
    "nombre_infected       107\n",
    "nombre_sain          2830\n",
    "nombre_exposed         73\n",
    "nombre_recovered    16990\n",
    "Name: 105, dtype: int64"
   ]
  },
  {
   "cell_type": "markdown",
   "id": "0c6f451f",
   "metadata": {},
   "source": [
    "nombre_infected       113\n",
    "nombre_sain          2860\n",
    "nombre_exposed         79\n",
    "nombre_recovered    16948\n",
    "Name: 106, dtype: int64"
   ]
  },
  {
   "cell_type": "markdown",
   "id": "ee9fbff3",
   "metadata": {},
   "source": [
    "nombre_infected       107\n",
    "nombre_sain          2901\n",
    "nombre_exposed         83\n",
    "nombre_recovered    16909\n",
    "Name: 107, dtype: int64"
   ]
  },
  {
   "cell_type": "markdown",
   "id": "6a28adca",
   "metadata": {},
   "source": [
    "nombre_infected       105\n",
    "nombre_sain          2929\n",
    "nombre_exposed         84\n",
    "nombre_recovered    16882\n",
    "Name: 108, dtype: int64"
   ]
  },
  {
   "cell_type": "markdown",
   "id": "62ba84bb",
   "metadata": {},
   "source": [
    "nombre_infected       116\n",
    "nombre_sain          2942\n",
    "nombre_exposed         88\n",
    "nombre_recovered    16854\n",
    "Name: 109, dtype: int64"
   ]
  },
  {
   "cell_type": "markdown",
   "id": "f1c7fc4a",
   "metadata": {},
   "source": [
    "nombre_infected       113\n",
    "nombre_sain          2963\n",
    "nombre_exposed         91\n",
    "nombre_recovered    16833\n",
    "Name: 110, dtype: int64"
   ]
  },
  {
   "cell_type": "markdown",
   "id": "8a0ce8db",
   "metadata": {},
   "source": [
    "nombre_infected       116\n",
    "nombre_sain          2993\n",
    "nombre_exposed         88\n",
    "nombre_recovered    16803\n",
    "Name: 111, dtype: int64"
   ]
  },
  {
   "cell_type": "markdown",
   "id": "8ace1009",
   "metadata": {},
   "source": [
    "nombre_infected       123\n",
    "nombre_sain          3010\n",
    "nombre_exposed         91\n",
    "nombre_recovered    16776\n",
    "Name: 112, dtype: int64"
   ]
  },
  {
   "cell_type": "markdown",
   "id": "e8cf5ead",
   "metadata": {},
   "source": [
    "nombre_infected       117\n",
    "nombre_sain          3029\n",
    "nombre_exposed        100\n",
    "nombre_recovered    16754\n",
    "Name: 113, dtype: int64"
   ]
  },
  {
   "cell_type": "markdown",
   "id": "ff1bff60",
   "metadata": {},
   "source": [
    "nombre_infected       118\n",
    "nombre_sain          3056\n",
    "nombre_exposed        100\n",
    "nombre_recovered    16726\n",
    "Name: 114, dtype: int64"
   ]
  },
  {
   "cell_type": "markdown",
   "id": "d1e5c9c1",
   "metadata": {},
   "source": [
    "nombre_infected       120\n",
    "nombre_sain          3074\n",
    "nombre_exposed        107\n",
    "nombre_recovered    16699\n",
    "Name: 115, dtype: int64"
   ]
  },
  {
   "cell_type": "markdown",
   "id": "13ee0a83",
   "metadata": {},
   "source": [
    "nombre_infected       128\n",
    "nombre_sain          3061\n",
    "nombre_exposed        128\n",
    "nombre_recovered    16683\n",
    "Name: 116, dtype: int64"
   ]
  },
  {
   "cell_type": "markdown",
   "id": "298fc587",
   "metadata": {},
   "source": [
    "nombre_infected       131\n",
    "nombre_sain          3084\n",
    "nombre_exposed        125\n",
    "nombre_recovered    16660\n",
    "Name: 117, dtype: int64"
   ]
  },
  {
   "cell_type": "markdown",
   "id": "6cb9d372",
   "metadata": {},
   "source": [
    "nombre_infected       147\n",
    "nombre_sain          3108\n",
    "nombre_exposed        118\n",
    "nombre_recovered    16627\n",
    "Name: 118, dtype: int64"
   ]
  },
  {
   "cell_type": "markdown",
   "id": "136c01b9",
   "metadata": {},
   "source": [
    "nombre_infected       145\n",
    "nombre_sain          3119\n",
    "nombre_exposed        131\n",
    "nombre_recovered    16605\n",
    "Name: 119, dtype: int64"
   ]
  },
  {
   "cell_type": "markdown",
   "id": "9e224e39",
   "metadata": {},
   "source": [
    "nombre_infected       145\n",
    "nombre_sain          3137\n",
    "nombre_exposed        140\n",
    "nombre_recovered    16578\n",
    "Name: 120, dtype: int64"
   ]
  },
  {
   "cell_type": "markdown",
   "id": "0d0f2689",
   "metadata": {},
   "source": [
    "nombre_infected       156\n",
    "nombre_sain          3160\n",
    "nombre_exposed        130\n",
    "nombre_recovered    16554\n",
    "Name: 121, dtype: int64"
   ]
  },
  {
   "cell_type": "markdown",
   "id": "3c75682c",
   "metadata": {},
   "source": [
    "nombre_infected       176\n",
    "nombre_sain          3158\n",
    "nombre_exposed        127\n",
    "nombre_recovered    16539\n",
    "Name: 122, dtype: int64"
   ]
  },
  {
   "cell_type": "markdown",
   "id": "38f53ca0",
   "metadata": {},
   "source": [
    "nombre_infected       179\n",
    "nombre_sain          3168\n",
    "nombre_exposed        130\n",
    "nombre_recovered    16523\n",
    "Name: 123, dtype: int64"
   ]
  },
  {
   "cell_type": "markdown",
   "id": "6766b5c2",
   "metadata": {},
   "source": [
    "nombre_infected       187\n",
    "nombre_sain          3169\n",
    "nombre_exposed        135\n",
    "nombre_recovered    16509\n",
    "Name: 124, dtype: int64"
   ]
  },
  {
   "cell_type": "markdown",
   "id": "102e5171",
   "metadata": {},
   "source": [
    "nombre_infected       180\n",
    "nombre_sain          3158\n",
    "nombre_exposed        151\n",
    "nombre_recovered    16511\n",
    "Name: 125, dtype: int64"
   ]
  },
  {
   "cell_type": "markdown",
   "id": "a6ee226e",
   "metadata": {},
   "source": [
    "nombre_infected       178\n",
    "nombre_sain          3171\n",
    "nombre_exposed        156\n",
    "nombre_recovered    16495\n",
    "Name: 126, dtype: int64"
   ]
  },
  {
   "cell_type": "markdown",
   "id": "9eb35953",
   "metadata": {},
   "source": [
    "nombre_infected       185\n",
    "nombre_sain          3175\n",
    "nombre_exposed        160\n",
    "nombre_recovered    16480\n",
    "Name: 127, dtype: int64"
   ]
  },
  {
   "cell_type": "markdown",
   "id": "a47d24ab",
   "metadata": {},
   "source": [
    "nombre_infected       179\n",
    "nombre_sain          3167\n",
    "nombre_exposed        177\n",
    "nombre_recovered    16477\n",
    "Name: 128, dtype: int64"
   ]
  },
  {
   "cell_type": "markdown",
   "id": "5b8a2b8e",
   "metadata": {},
   "source": [
    "nombre_infected       190\n",
    "nombre_sain          3157\n",
    "nombre_exposed        174\n",
    "nombre_recovered    16479\n",
    "Name: 129, dtype: int64"
   ]
  },
  {
   "cell_type": "markdown",
   "id": "6146d6d0",
   "metadata": {},
   "source": [
    "nombre_infected       198\n",
    "nombre_sain          3169\n",
    "nombre_exposed        162\n",
    "nombre_recovered    16471\n",
    "Name: 130, dtype: int64"
   ]
  },
  {
   "cell_type": "markdown",
   "id": "7c253575",
   "metadata": {},
   "source": [
    "nombre_infected       202\n",
    "nombre_sain          3165\n",
    "nombre_exposed        177\n",
    "nombre_recovered    16456\n",
    "Name: 131, dtype: int64"
   ]
  },
  {
   "cell_type": "markdown",
   "id": "de946ee9",
   "metadata": {},
   "source": [
    "nombre_infected       214\n",
    "nombre_sain          3163\n",
    "nombre_exposed        183\n",
    "nombre_recovered    16440\n",
    "Name: 132, dtype: int64"
   ]
  },
  {
   "cell_type": "markdown",
   "id": "e7a77df7",
   "metadata": {},
   "source": [
    "nombre_infected       229\n",
    "nombre_sain          3147\n",
    "nombre_exposed        191\n",
    "nombre_recovered    16433\n",
    "Name: 133, dtype: int64"
   ]
  },
  {
   "cell_type": "markdown",
   "id": "e801990f",
   "metadata": {},
   "source": [
    "nombre_infected       238\n",
    "nombre_sain          3143\n",
    "nombre_exposed        202\n",
    "nombre_recovered    16417\n",
    "Name: 134, dtype: int64"
   ]
  },
  {
   "cell_type": "markdown",
   "id": "1d8b629d",
   "metadata": {},
   "source": [
    "nombre_infected       240\n",
    "nombre_sain          3137\n",
    "nombre_exposed        202\n",
    "nombre_recovered    16421\n",
    "Name: 135, dtype: int64"
   ]
  },
  {
   "cell_type": "markdown",
   "id": "56c91708",
   "metadata": {},
   "source": [
    "nombre_infected       247\n",
    "nombre_sain          3118\n",
    "nombre_exposed        216\n",
    "nombre_recovered    16419\n",
    "Name: 136, dtype: int64"
   ]
  },
  {
   "cell_type": "markdown",
   "id": "d53dd1eb",
   "metadata": {},
   "source": [
    "nombre_infected       269\n",
    "nombre_sain          3092\n",
    "nombre_exposed        215\n",
    "nombre_recovered    16424\n",
    "Name: 137, dtype: int64"
   ]
  },
  {
   "cell_type": "markdown",
   "id": "72225107",
   "metadata": {},
   "source": [
    "nombre_infected       283\n",
    "nombre_sain          3056\n",
    "nombre_exposed        239\n",
    "nombre_recovered    16422\n",
    "Name: 138, dtype: int64"
   ]
  },
  {
   "cell_type": "markdown",
   "id": "9c8679ee",
   "metadata": {},
   "source": [
    "nombre_infected       288\n",
    "nombre_sain          3029\n",
    "nombre_exposed        257\n",
    "nombre_recovered    16426\n",
    "Name: 139, dtype: int64"
   ]
  },
  {
   "cell_type": "markdown",
   "id": "68e967e8",
   "metadata": {},
   "source": [
    "nombre_infected       307\n",
    "nombre_sain          3013\n",
    "nombre_exposed        254\n",
    "nombre_recovered    16426\n",
    "Name: 140, dtype: int64"
   ]
  },
  {
   "cell_type": "markdown",
   "id": "cea2f3e9",
   "metadata": {},
   "source": [
    "nombre_infected       298\n",
    "nombre_sain          3000\n",
    "nombre_exposed        266\n",
    "nombre_recovered    16436\n",
    "Name: 141, dtype: int64"
   ]
  },
  {
   "cell_type": "markdown",
   "id": "e3c14cfc",
   "metadata": {},
   "source": [
    "nombre_infected       329\n",
    "nombre_sain          2999\n",
    "nombre_exposed        251\n",
    "nombre_recovered    16421\n",
    "Name: 142, dtype: int64"
   ]
  },
  {
   "cell_type": "markdown",
   "id": "e0276bae",
   "metadata": {},
   "source": [
    "nombre_infected       348\n",
    "nombre_sain          2994\n",
    "nombre_exposed        256\n",
    "nombre_recovered    16402\n",
    "Name: 143, dtype: int64"
   ]
  },
  {
   "cell_type": "markdown",
   "id": "a445c353",
   "metadata": {},
   "source": [
    "nombre_infected       364\n",
    "nombre_sain          2968\n",
    "nombre_exposed        282\n",
    "nombre_recovered    16386\n",
    "Name: 144, dtype: int64"
   ]
  },
  {
   "cell_type": "markdown",
   "id": "c1d7b788",
   "metadata": {},
   "source": [
    "nombre_infected       369\n",
    "nombre_sain          2951\n",
    "nombre_exposed        296\n",
    "nombre_recovered    16384\n",
    "Name: 145, dtype: int64"
   ]
  },
  {
   "cell_type": "markdown",
   "id": "baffd39e",
   "metadata": {},
   "source": [
    "nombre_infected       388\n",
    "nombre_sain          2946\n",
    "nombre_exposed        299\n",
    "nombre_recovered    16367\n",
    "Name: 146, dtype: int64"
   ]
  },
  {
   "cell_type": "markdown",
   "id": "87601a89",
   "metadata": {},
   "source": [
    "nombre_infected       407\n",
    "nombre_sain          2928\n",
    "nombre_exposed        302\n",
    "nombre_recovered    16363\n",
    "Name: 147, dtype: int64"
   ]
  },
  {
   "cell_type": "markdown",
   "id": "813d4a26",
   "metadata": {},
   "source": [
    "nombre_infected       417\n",
    "nombre_sain          2919\n",
    "nombre_exposed        316\n",
    "nombre_recovered    16348\n",
    "Name: 148, dtype: int64"
   ]
  },
  {
   "cell_type": "markdown",
   "id": "90fe1740",
   "metadata": {},
   "source": [
    "nombre_infected       422\n",
    "nombre_sain          2917\n",
    "nombre_exposed        327\n",
    "nombre_recovered    16334\n",
    "Name: 149, dtype: int64"
   ]
  },
  {
   "cell_type": "markdown",
   "id": "bcfa9bcd",
   "metadata": {},
   "source": [
    "nombre_infected       444\n",
    "nombre_sain          2899\n",
    "nombre_exposed        334\n",
    "nombre_recovered    16323\n",
    "Name: 150, dtype: int64"
   ]
  },
  {
   "cell_type": "markdown",
   "id": "9f14f51d",
   "metadata": {},
   "source": [
    "nombre_infected       430\n",
    "nombre_sain          2896\n",
    "nombre_exposed        346\n",
    "nombre_recovered    16328\n",
    "Name: 151, dtype: int64"
   ]
  },
  {
   "cell_type": "markdown",
   "id": "f8e8173e",
   "metadata": {},
   "source": [
    "nombre_infected       407\n",
    "nombre_sain          2870\n",
    "nombre_exposed        364\n",
    "nombre_recovered    16359\n",
    "Name: 152, dtype: int64"
   ]
  },
  {
   "cell_type": "markdown",
   "id": "ccd1390a",
   "metadata": {},
   "source": [
    "nombre_infected       447\n",
    "nombre_sain          2865\n",
    "nombre_exposed        353\n",
    "nombre_recovered    16335\n",
    "Name: 153, dtype: int64"
   ]
  },
  {
   "cell_type": "markdown",
   "id": "b53258d9",
   "metadata": {},
   "source": [
    "nombre_infected       467\n",
    "nombre_sain          2863\n",
    "nombre_exposed        342\n",
    "nombre_recovered    16328\n",
    "Name: 154, dtype: int64"
   ]
  },
  {
   "cell_type": "markdown",
   "id": "fb5e3388",
   "metadata": {},
   "source": [
    "nombre_infected       485\n",
    "nombre_sain          2837\n",
    "nombre_exposed        357\n",
    "nombre_recovered    16321\n",
    "Name: 155, dtype: int64"
   ]
  },
  {
   "cell_type": "markdown",
   "id": "f5a8d1f9",
   "metadata": {},
   "source": [
    "nombre_infected       484\n",
    "nombre_sain          2808\n",
    "nombre_exposed        381\n",
    "nombre_recovered    16327\n",
    "Name: 156, dtype: int64"
   ]
  },
  {
   "cell_type": "markdown",
   "id": "62e8adb9",
   "metadata": {},
   "source": [
    "nombre_infected       500\n",
    "nombre_sain          2782\n",
    "nombre_exposed        396\n",
    "nombre_recovered    16322\n",
    "Name: 157, dtype: int64"
   ]
  },
  {
   "cell_type": "markdown",
   "id": "1c2896e0",
   "metadata": {},
   "source": [
    "nombre_infected       519\n",
    "nombre_sain          2752\n",
    "nombre_exposed        414\n",
    "nombre_recovered    16315\n",
    "Name: 158, dtype: int64"
   ]
  },
  {
   "cell_type": "markdown",
   "id": "4f28ce93",
   "metadata": {},
   "source": [
    "nombre_infected       553\n",
    "nombre_sain          2715\n",
    "nombre_exposed        415\n",
    "nombre_recovered    16317\n",
    "Name: 159, dtype: int64"
   ]
  },
  {
   "cell_type": "markdown",
   "id": "f0697727",
   "metadata": {},
   "source": [
    "nombre_infected       566\n",
    "nombre_sain          2697\n",
    "nombre_exposed        411\n",
    "nombre_recovered    16326\n",
    "Name: 160, dtype: int64"
   ]
  },
  {
   "cell_type": "markdown",
   "id": "3b6a624f",
   "metadata": {},
   "source": [
    "nombre_infected       570\n",
    "nombre_sain          2676\n",
    "nombre_exposed        405\n",
    "nombre_recovered    16349\n",
    "Name: 161, dtype: int64"
   ]
  },
  {
   "cell_type": "markdown",
   "id": "64ce7be3",
   "metadata": {},
   "source": [
    "nombre_infected       611\n",
    "nombre_sain          2631\n",
    "nombre_exposed        401\n",
    "nombre_recovered    16357\n",
    "Name: 162, dtype: int64"
   ]
  },
  {
   "cell_type": "markdown",
   "id": "1ce16f8c",
   "metadata": {},
   "source": [
    "nombre_infected       605\n",
    "nombre_sain          2597\n",
    "nombre_exposed        419\n",
    "nombre_recovered    16379\n",
    "Name: 163, dtype: int64"
   ]
  },
  {
   "cell_type": "markdown",
   "id": "db4c71b9",
   "metadata": {},
   "source": [
    "nombre_infected       609\n",
    "nombre_sain          2579\n",
    "nombre_exposed        424\n",
    "nombre_recovered    16388\n",
    "Name: 164, dtype: int64"
   ]
  },
  {
   "cell_type": "markdown",
   "id": "376e9bd7",
   "metadata": {},
   "source": [
    "nombre_infected       615\n",
    "nombre_sain          2570\n",
    "nombre_exposed        417\n",
    "nombre_recovered    16398\n",
    "Name: 165, dtype: int64"
   ]
  },
  {
   "cell_type": "markdown",
   "id": "5e2de4f8",
   "metadata": {},
   "source": [
    "nombre_infected       645\n",
    "nombre_sain          2523\n",
    "nombre_exposed        408\n",
    "nombre_recovered    16424\n",
    "Name: 166, dtype: int64"
   ]
  },
  {
   "cell_type": "markdown",
   "id": "b78b4868",
   "metadata": {},
   "source": [
    "nombre_infected       660\n",
    "nombre_sain          2486\n",
    "nombre_exposed        411\n",
    "nombre_recovered    16443\n",
    "Name: 167, dtype: int64"
   ]
  },
  {
   "cell_type": "markdown",
   "id": "b243c4f3",
   "metadata": {},
   "source": [
    "nombre_infected       636\n",
    "nombre_sain          2443\n",
    "nombre_exposed        433\n",
    "nombre_recovered    16488\n",
    "Name: 168, dtype: int64"
   ]
  },
  {
   "cell_type": "markdown",
   "id": "7d12d17a",
   "metadata": {},
   "source": [
    "nombre_infected       652\n",
    "nombre_sain          2409\n",
    "nombre_exposed        439\n",
    "nombre_recovered    16500\n",
    "Name: 169, dtype: int64"
   ]
  },
  {
   "cell_type": "markdown",
   "id": "3e7704b8",
   "metadata": {},
   "source": [
    "nombre_infected       659\n",
    "nombre_sain          2373\n",
    "nombre_exposed        422\n",
    "nombre_recovered    16546\n",
    "Name: 170, dtype: int64"
   ]
  },
  {
   "cell_type": "markdown",
   "id": "e6cf1e94",
   "metadata": {},
   "source": [
    "nombre_infected       687\n",
    "nombre_sain          2340\n",
    "nombre_exposed        397\n",
    "nombre_recovered    16576\n",
    "Name: 171, dtype: int64"
   ]
  },
  {
   "cell_type": "markdown",
   "id": "01978020",
   "metadata": {},
   "source": [
    "nombre_infected       692\n",
    "nombre_sain          2304\n",
    "nombre_exposed        390\n",
    "nombre_recovered    16614\n",
    "Name: 172, dtype: int64"
   ]
  },
  {
   "cell_type": "markdown",
   "id": "25a76b03",
   "metadata": {},
   "source": [
    "nombre_infected       701\n",
    "nombre_sain          2269\n",
    "nombre_exposed        379\n",
    "nombre_recovered    16651\n",
    "Name: 173, dtype: int64"
   ]
  },
  {
   "cell_type": "markdown",
   "id": "edb746b5",
   "metadata": {},
   "source": [
    "nombre_infected       674\n",
    "nombre_sain          2231\n",
    "nombre_exposed        380\n",
    "nombre_recovered    16715\n",
    "Name: 174, dtype: int64"
   ]
  },
  {
   "cell_type": "markdown",
   "id": "b4e4a1ca",
   "metadata": {},
   "source": [
    "nombre_infected       650\n",
    "nombre_sain          2188\n",
    "nombre_exposed        379\n",
    "nombre_recovered    16783\n",
    "Name: 175, dtype: int64"
   ]
  },
  {
   "cell_type": "markdown",
   "id": "511a9a32",
   "metadata": {},
   "source": [
    "nombre_infected       634\n",
    "nombre_sain          2155\n",
    "nombre_exposed        376\n",
    "nombre_recovered    16835\n",
    "Name: 176, dtype: int64"
   ]
  },
  {
   "cell_type": "markdown",
   "id": "22c7b9ec",
   "metadata": {},
   "source": [
    "nombre_infected       632\n",
    "nombre_sain          2108\n",
    "nombre_exposed        382\n",
    "nombre_recovered    16878\n",
    "Name: 177, dtype: int64"
   ]
  },
  {
   "cell_type": "markdown",
   "id": "89803f39",
   "metadata": {},
   "source": [
    "nombre_infected       627\n",
    "nombre_sain          2088\n",
    "nombre_exposed        369\n",
    "nombre_recovered    16916\n",
    "Name: 178, dtype: int64"
   ]
  },
  {
   "cell_type": "markdown",
   "id": "8ef65fa9",
   "metadata": {},
   "source": [
    "nombre_infected       639\n",
    "nombre_sain          2064\n",
    "nombre_exposed        369\n",
    "nombre_recovered    16928\n",
    "Name: 179, dtype: int64"
   ]
  },
  {
   "cell_type": "markdown",
   "id": "45834bc6",
   "metadata": {},
   "source": [
    "nombre_infected       610\n",
    "nombre_sain          2066\n",
    "nombre_exposed        363\n",
    "nombre_recovered    16961\n",
    "Name: 180, dtype: int64"
   ]
  },
  {
   "cell_type": "markdown",
   "id": "9fd0e4f9",
   "metadata": {},
   "source": [
    "nombre_infected       623\n",
    "nombre_sain          2050\n",
    "nombre_exposed        348\n",
    "nombre_recovered    16979\n",
    "Name: 181, dtype: int64"
   ]
  },
  {
   "cell_type": "markdown",
   "id": "3cdd714a",
   "metadata": {},
   "source": [
    "nombre_infected       626\n",
    "nombre_sain          2029\n",
    "nombre_exposed        347\n",
    "nombre_recovered    16998\n",
    "Name: 182, dtype: int64"
   ]
  },
  {
   "cell_type": "markdown",
   "id": "15cd8e4c",
   "metadata": {},
   "source": [
    "nombre_infected       625\n",
    "nombre_sain          2011\n",
    "nombre_exposed        347\n",
    "nombre_recovered    17017\n",
    "Name: 183, dtype: int64"
   ]
  },
  {
   "cell_type": "markdown",
   "id": "761b33e8",
   "metadata": {},
   "source": [
    "nombre_infected       630\n",
    "nombre_sain          2020\n",
    "nombre_exposed        324\n",
    "nombre_recovered    17026\n",
    "Name: 184, dtype: int64"
   ]
  },
  {
   "cell_type": "markdown",
   "id": "a987fdf1",
   "metadata": {},
   "source": [
    "nombre_infected       615\n",
    "nombre_sain          2024\n",
    "nombre_exposed        331\n",
    "nombre_recovered    17030\n",
    "Name: 185, dtype: int64"
   ]
  },
  {
   "cell_type": "markdown",
   "id": "462942a1",
   "metadata": {},
   "source": [
    "nombre_infected       622\n",
    "nombre_sain          2045\n",
    "nombre_exposed        312\n",
    "nombre_recovered    17021\n",
    "Name: 186, dtype: int64"
   ]
  },
  {
   "cell_type": "markdown",
   "id": "17bf146e",
   "metadata": {},
   "source": [
    "nombre_infected       607\n",
    "nombre_sain          2057\n",
    "nombre_exposed        320\n",
    "nombre_recovered    17016\n",
    "Name: 187, dtype: int64"
   ]
  },
  {
   "cell_type": "markdown",
   "id": "339a5abd",
   "metadata": {},
   "source": [
    "nombre_infected       585\n",
    "nombre_sain          2064\n",
    "nombre_exposed        314\n",
    "nombre_recovered    17037\n",
    "Name: 188, dtype: int64"
   ]
  },
  {
   "cell_type": "markdown",
   "id": "9aa5141a",
   "metadata": {},
   "source": [
    "nombre_infected       585\n",
    "nombre_sain          2071\n",
    "nombre_exposed        317\n",
    "nombre_recovered    17027\n",
    "Name: 189, dtype: int64"
   ]
  },
  {
   "cell_type": "markdown",
   "id": "5dfb692a",
   "metadata": {},
   "source": [
    "nombre_infected       562\n",
    "nombre_sain          2086\n",
    "nombre_exposed        323\n",
    "nombre_recovered    17029\n",
    "Name: 190, dtype: int64"
   ]
  },
  {
   "cell_type": "markdown",
   "id": "7a64436a",
   "metadata": {},
   "source": [
    "nombre_infected       569\n",
    "nombre_sain          2095\n",
    "nombre_exposed        299\n",
    "nombre_recovered    17037\n",
    "Name: 191, dtype: int64"
   ]
  },
  {
   "cell_type": "markdown",
   "id": "a7215db6",
   "metadata": {},
   "source": [
    "nombre_infected       565\n",
    "nombre_sain          2094\n",
    "nombre_exposed        300\n",
    "nombre_recovered    17041\n",
    "Name: 192, dtype: int64"
   ]
  },
  {
   "cell_type": "markdown",
   "id": "49471b4b",
   "metadata": {},
   "source": [
    "nombre_infected       544\n",
    "nombre_sain          2108\n",
    "nombre_exposed        315\n",
    "nombre_recovered    17033\n",
    "Name: 193, dtype: int64"
   ]
  },
  {
   "cell_type": "markdown",
   "id": "34af1a82",
   "metadata": {},
   "source": [
    "nombre_infected       542\n",
    "nombre_sain          2136\n",
    "nombre_exposed        312\n",
    "nombre_recovered    17010\n",
    "Name: 194, dtype: int64"
   ]
  },
  {
   "cell_type": "markdown",
   "id": "820aa241",
   "metadata": {},
   "source": [
    "nombre_infected       535\n",
    "nombre_sain          2144\n",
    "nombre_exposed        302\n",
    "nombre_recovered    17019\n",
    "Name: 195, dtype: int64"
   ]
  },
  {
   "cell_type": "markdown",
   "id": "a3390802",
   "metadata": {},
   "source": [
    "nombre_infected       558\n",
    "nombre_sain          2159\n",
    "nombre_exposed        307\n",
    "nombre_recovered    16976\n",
    "Name: 196, dtype: int64"
   ]
  },
  {
   "cell_type": "markdown",
   "id": "d37fb063",
   "metadata": {},
   "source": [
    "nombre_infected       567\n",
    "nombre_sain          2190\n",
    "nombre_exposed        293\n",
    "nombre_recovered    16950\n",
    "Name: 197, dtype: int64"
   ]
  },
  {
   "cell_type": "markdown",
   "id": "56f686bb",
   "metadata": {},
   "source": [
    "nombre_infected       548\n",
    "nombre_sain          2201\n",
    "nombre_exposed        303\n",
    "nombre_recovered    16948\n",
    "Name: 198, dtype: int64"
   ]
  },
  {
   "cell_type": "markdown",
   "id": "8ebe25d8",
   "metadata": {},
   "source": [
    "nombre_infected       551\n",
    "nombre_sain          2191\n",
    "nombre_exposed        311\n",
    "nombre_recovered    16947\n",
    "Name: 199, dtype: int64"
   ]
  },
  {
   "cell_type": "markdown",
   "id": "be902994",
   "metadata": {},
   "source": [
    "nombre_infected       539\n",
    "nombre_sain          2212\n",
    "nombre_exposed        325\n",
    "nombre_recovered    16924\n",
    "Name: 200, dtype: int64"
   ]
  },
  {
   "cell_type": "markdown",
   "id": "7b6323ac",
   "metadata": {},
   "source": [
    "nombre_infected       531\n",
    "nombre_sain          2232\n",
    "nombre_exposed        331\n",
    "nombre_recovered    16906\n",
    "Name: 201, dtype: int64"
   ]
  },
  {
   "cell_type": "markdown",
   "id": "58754642",
   "metadata": {},
   "source": [
    "nombre_infected       540\n",
    "nombre_sain          2229\n",
    "nombre_exposed        336\n",
    "nombre_recovered    16895\n",
    "Name: 202, dtype: int64"
   ]
  },
  {
   "cell_type": "markdown",
   "id": "f9d1e89b",
   "metadata": {},
   "source": [
    "nombre_infected       532\n",
    "nombre_sain          2245\n",
    "nombre_exposed        339\n",
    "nombre_recovered    16884\n",
    "Name: 203, dtype: int64"
   ]
  },
  {
   "cell_type": "markdown",
   "id": "534bc483",
   "metadata": {},
   "source": [
    "nombre_infected       532\n",
    "nombre_sain          2251\n",
    "nombre_exposed        328\n",
    "nombre_recovered    16889\n",
    "Name: 204, dtype: int64"
   ]
  },
  {
   "cell_type": "markdown",
   "id": "b0376407",
   "metadata": {},
   "source": [
    "nombre_infected       544\n",
    "nombre_sain          2256\n",
    "nombre_exposed        312\n",
    "nombre_recovered    16888\n",
    "Name: 205, dtype: int64"
   ]
  },
  {
   "cell_type": "markdown",
   "id": "209222ec",
   "metadata": {},
   "source": [
    "nombre_infected       532\n",
    "nombre_sain          2236\n",
    "nombre_exposed        334\n",
    "nombre_recovered    16898\n",
    "Name: 206, dtype: int64"
   ]
  },
  {
   "cell_type": "markdown",
   "id": "cfd5f6f0",
   "metadata": {},
   "source": [
    "nombre_infected       534\n",
    "nombre_sain          2213\n",
    "nombre_exposed        352\n",
    "nombre_recovered    16901\n",
    "Name: 207, dtype: int64"
   ]
  },
  {
   "cell_type": "markdown",
   "id": "649e18cf",
   "metadata": {},
   "source": [
    "nombre_infected       527\n",
    "nombre_sain          2216\n",
    "nombre_exposed        360\n",
    "nombre_recovered    16897\n",
    "Name: 208, dtype: int64"
   ]
  },
  {
   "cell_type": "markdown",
   "id": "650f2ab3",
   "metadata": {},
   "source": [
    "nombre_infected       534\n",
    "nombre_sain          2213\n",
    "nombre_exposed        352\n",
    "nombre_recovered    16901\n",
    "Name: 209, dtype: int64"
   ]
  },
  {
   "cell_type": "markdown",
   "id": "9adf57c4",
   "metadata": {},
   "source": [
    "nombre_infected       532\n",
    "nombre_sain          2221\n",
    "nombre_exposed        360\n",
    "nombre_recovered    16887\n",
    "Name: 210, dtype: int64"
   ]
  },
  {
   "cell_type": "markdown",
   "id": "d881eb28",
   "metadata": {},
   "source": [
    "nombre_infected       552\n",
    "nombre_sain          2230\n",
    "nombre_exposed        352\n",
    "nombre_recovered    16866\n",
    "Name: 211, dtype: int64"
   ]
  },
  {
   "cell_type": "markdown",
   "id": "1a648c81",
   "metadata": {},
   "source": [
    "nombre_infected       562\n",
    "nombre_sain          2233\n",
    "nombre_exposed        340\n",
    "nombre_recovered    16865\n",
    "Name: 212, dtype: int64"
   ]
  },
  {
   "cell_type": "markdown",
   "id": "af613c4f",
   "metadata": {},
   "source": [
    "nombre_infected       568\n",
    "nombre_sain          2234\n",
    "nombre_exposed        337\n",
    "nombre_recovered    16861\n",
    "Name: 213, dtype: int64"
   ]
  },
  {
   "cell_type": "markdown",
   "id": "4e2dc182",
   "metadata": {},
   "source": [
    "nombre_infected       558\n",
    "nombre_sain          2217\n",
    "nombre_exposed        347\n",
    "nombre_recovered    16878\n",
    "Name: 214, dtype: int64"
   ]
  },
  {
   "cell_type": "markdown",
   "id": "7988be3c",
   "metadata": {},
   "source": [
    "nombre_infected       568\n",
    "nombre_sain          2199\n",
    "nombre_exposed        351\n",
    "nombre_recovered    16882\n",
    "Name: 215, dtype: int64"
   ]
  },
  {
   "cell_type": "markdown",
   "id": "75631114",
   "metadata": {},
   "source": [
    "nombre_infected       572\n",
    "nombre_sain          2191\n",
    "nombre_exposed        353\n",
    "nombre_recovered    16884\n",
    "Name: 216, dtype: int64"
   ]
  },
  {
   "cell_type": "markdown",
   "id": "7ca153e8",
   "metadata": {},
   "source": [
    "nombre_infected       560\n",
    "nombre_sain          2189\n",
    "nombre_exposed        349\n",
    "nombre_recovered    16902\n",
    "Name: 217, dtype: int64"
   ]
  },
  {
   "cell_type": "markdown",
   "id": "b2d0b41c",
   "metadata": {},
   "source": [
    "nombre_infected       570\n",
    "nombre_sain          2197\n",
    "nombre_exposed        318\n",
    "nombre_recovered    16915\n",
    "Name: 218, dtype: int64"
   ]
  },
  {
   "cell_type": "markdown",
   "id": "b78cf3c1",
   "metadata": {},
   "source": [
    "nombre_infected       574\n",
    "nombre_sain          2176\n",
    "nombre_exposed        330\n",
    "nombre_recovered    16920\n",
    "Name: 219, dtype: int64"
   ]
  },
  {
   "cell_type": "markdown",
   "id": "776bbfe4",
   "metadata": {},
   "source": [
    "nombre_infected       561\n",
    "nombre_sain          2196\n",
    "nombre_exposed        324\n",
    "nombre_recovered    16919\n",
    "Name: 220, dtype: int64"
   ]
  },
  {
   "cell_type": "markdown",
   "id": "35edf04d",
   "metadata": {},
   "source": [
    "nombre_infected       551\n",
    "nombre_sain          2200\n",
    "nombre_exposed        335\n",
    "nombre_recovered    16914\n",
    "Name: 221, dtype: int64"
   ]
  },
  {
   "cell_type": "markdown",
   "id": "71141417",
   "metadata": {},
   "source": [
    "nombre_infected       568\n",
    "nombre_sain          2198\n",
    "nombre_exposed        323\n",
    "nombre_recovered    16911\n",
    "Name: 222, dtype: int64"
   ]
  },
  {
   "cell_type": "markdown",
   "id": "f99630bb",
   "metadata": {},
   "source": [
    "nombre_infected       569\n",
    "nombre_sain          2192\n",
    "nombre_exposed        334\n",
    "nombre_recovered    16905\n",
    "Name: 223, dtype: int64"
   ]
  },
  {
   "cell_type": "markdown",
   "id": "5cac5562",
   "metadata": {},
   "source": [
    "nombre_infected       565\n",
    "nombre_sain          2176\n",
    "nombre_exposed        352\n",
    "nombre_recovered    16907\n",
    "Name: 224, dtype: int64"
   ]
  },
  {
   "cell_type": "markdown",
   "id": "93e66f74",
   "metadata": {},
   "source": [
    "nombre_infected       565\n",
    "nombre_sain          2180\n",
    "nombre_exposed        351\n",
    "nombre_recovered    16904\n",
    "Name: 225, dtype: int64"
   ]
  },
  {
   "cell_type": "markdown",
   "id": "901699cb",
   "metadata": {},
   "source": [
    "nombre_infected       563\n",
    "nombre_sain          2205\n",
    "nombre_exposed        339\n",
    "nombre_recovered    16893\n",
    "Name: 226, dtype: int64"
   ]
  },
  {
   "cell_type": "markdown",
   "id": "e23750c5",
   "metadata": {},
   "source": [
    "nombre_infected       555\n",
    "nombre_sain          2232\n",
    "nombre_exposed        330\n",
    "nombre_recovered    16883\n",
    "Name: 227, dtype: int64"
   ]
  },
  {
   "cell_type": "markdown",
   "id": "416e032b",
   "metadata": {},
   "source": [
    "nombre_infected       558\n",
    "nombre_sain          2247\n",
    "nombre_exposed        323\n",
    "nombre_recovered    16872\n",
    "Name: 228, dtype: int64"
   ]
  },
  {
   "cell_type": "markdown",
   "id": "c9f5eb0e",
   "metadata": {},
   "source": [
    "nombre_infected       562\n",
    "nombre_sain          2280\n",
    "nombre_exposed        318\n",
    "nombre_recovered    16840\n",
    "Name: 229, dtype: int64"
   ]
  },
  {
   "cell_type": "markdown",
   "id": "fd254b7e",
   "metadata": {},
   "source": [
    "nombre_infected       571\n",
    "nombre_sain          2288\n",
    "nombre_exposed        333\n",
    "nombre_recovered    16808\n",
    "Name: 230, dtype: int64"
   ]
  },
  {
   "cell_type": "markdown",
   "id": "844809f6",
   "metadata": {},
   "source": [
    "nombre_infected       576\n",
    "nombre_sain          2286\n",
    "nombre_exposed        352\n",
    "nombre_recovered    16786\n",
    "Name: 231, dtype: int64"
   ]
  },
  {
   "cell_type": "markdown",
   "id": "aef3ca1a",
   "metadata": {},
   "source": [
    "nombre_infected       572\n",
    "nombre_sain          2306\n",
    "nombre_exposed        347\n",
    "nombre_recovered    16775\n",
    "Name: 232, dtype: int64"
   ]
  },
  {
   "cell_type": "markdown",
   "id": "6644be80",
   "metadata": {},
   "source": [
    "nombre_infected       560\n",
    "nombre_sain          2332\n",
    "nombre_exposed        360\n",
    "nombre_recovered    16748\n",
    "Name: 233, dtype: int64"
   ]
  },
  {
   "cell_type": "markdown",
   "id": "92bf5aeb",
   "metadata": {},
   "source": [
    "nombre_infected       569\n",
    "nombre_sain          2360\n",
    "nombre_exposed        373\n",
    "nombre_recovered    16698\n",
    "Name: 234, dtype: int64"
   ]
  },
  {
   "cell_type": "markdown",
   "id": "0e2c7cb4",
   "metadata": {},
   "source": [
    "nombre_infected       580\n",
    "nombre_sain          2355\n",
    "nombre_exposed        389\n",
    "nombre_recovered    16676\n",
    "Name: 235, dtype: int64"
   ]
  },
  {
   "cell_type": "markdown",
   "id": "948304c6",
   "metadata": {},
   "source": [
    "nombre_infected       591\n",
    "nombre_sain          2361\n",
    "nombre_exposed        393\n",
    "nombre_recovered    16655\n",
    "Name: 236, dtype: int64"
   ]
  },
  {
   "cell_type": "markdown",
   "id": "5bffd5a2",
   "metadata": {},
   "source": [
    "nombre_infected       587\n",
    "nombre_sain          2396\n",
    "nombre_exposed        388\n",
    "nombre_recovered    16629\n",
    "Name: 237, dtype: int64"
   ]
  },
  {
   "cell_type": "markdown",
   "id": "ed7c255f",
   "metadata": {},
   "source": [
    "nombre_infected       594\n",
    "nombre_sain          2404\n",
    "nombre_exposed        393\n",
    "nombre_recovered    16609\n",
    "Name: 238, dtype: int64"
   ]
  },
  {
   "cell_type": "markdown",
   "id": "5fe7715e",
   "metadata": {},
   "source": [
    "nombre_infected       623\n",
    "nombre_sain          2398\n",
    "nombre_exposed        402\n",
    "nombre_recovered    16577\n",
    "Name: 239, dtype: int64"
   ]
  },
  {
   "cell_type": "markdown",
   "id": "fbb91474",
   "metadata": {},
   "source": [
    "nombre_infected       621\n",
    "nombre_sain          2389\n",
    "nombre_exposed        432\n",
    "nombre_recovered    16558\n",
    "Name: 240, dtype: int64"
   ]
  },
  {
   "cell_type": "markdown",
   "id": "9c31cd2a",
   "metadata": {},
   "source": [
    "nombre_infected       623\n",
    "nombre_sain          2385\n",
    "nombre_exposed        424\n",
    "nombre_recovered    16568\n",
    "Name: 241, dtype: int64"
   ]
  },
  {
   "cell_type": "markdown",
   "id": "c952498e",
   "metadata": {},
   "source": [
    "nombre_infected       655\n",
    "nombre_sain          2386\n",
    "nombre_exposed        423\n",
    "nombre_recovered    16536\n",
    "Name: 242, dtype: int64"
   ]
  },
  {
   "cell_type": "markdown",
   "id": "ce946d9b",
   "metadata": {},
   "source": [
    "nombre_infected       660\n",
    "nombre_sain          2390\n",
    "nombre_exposed        420\n",
    "nombre_recovered    16530\n",
    "Name: 243, dtype: int64"
   ]
  },
  {
   "cell_type": "markdown",
   "id": "451814a9",
   "metadata": {},
   "source": [
    "nombre_infected       656\n",
    "nombre_sain          2401\n",
    "nombre_exposed        413\n",
    "nombre_recovered    16530\n",
    "Name: 244, dtype: int64"
   ]
  },
  {
   "cell_type": "markdown",
   "id": "1e4f44a8",
   "metadata": {},
   "source": [
    "nombre_infected       679\n",
    "nombre_sain          2394\n",
    "nombre_exposed        408\n",
    "nombre_recovered    16519\n",
    "Name: 245, dtype: int64"
   ]
  },
  {
   "cell_type": "markdown",
   "id": "13d48452",
   "metadata": {},
   "source": [
    "nombre_infected       666\n",
    "nombre_sain          2394\n",
    "nombre_exposed        417\n",
    "nombre_recovered    16523\n",
    "Name: 246, dtype: int64"
   ]
  },
  {
   "cell_type": "markdown",
   "id": "9ba5e535",
   "metadata": {},
   "source": [
    "nombre_infected       662\n",
    "nombre_sain          2365\n",
    "nombre_exposed        441\n",
    "nombre_recovered    16532\n",
    "Name: 247, dtype: int64"
   ]
  },
  {
   "cell_type": "markdown",
   "id": "2612daff",
   "metadata": {},
   "source": [
    "nombre_infected       650\n",
    "nombre_sain          2372\n",
    "nombre_exposed        445\n",
    "nombre_recovered    16533\n",
    "Name: 248, dtype: int64"
   ]
  },
  {
   "cell_type": "markdown",
   "id": "cf6476bd",
   "metadata": {},
   "source": [
    "nombre_infected       656\n",
    "nombre_sain          2367\n",
    "nombre_exposed        442\n",
    "nombre_recovered    16535\n",
    "Name: 249, dtype: int64"
   ]
  },
  {
   "cell_type": "markdown",
   "id": "ee81c0cd",
   "metadata": {},
   "source": [
    "nombre_infected       659\n",
    "nombre_sain          2386\n",
    "nombre_exposed        421\n",
    "nombre_recovered    16534\n",
    "Name: 250, dtype: int64"
   ]
  },
  {
   "cell_type": "markdown",
   "id": "62608d73",
   "metadata": {},
   "source": [
    "nombre_infected       669\n",
    "nombre_sain          2380\n",
    "nombre_exposed        397\n",
    "nombre_recovered    16554\n",
    "Name: 251, dtype: int64"
   ]
  },
  {
   "cell_type": "markdown",
   "id": "d40b3809",
   "metadata": {},
   "source": [
    "nombre_infected       675\n",
    "nombre_sain          2382\n",
    "nombre_exposed        398\n",
    "nombre_recovered    16545\n",
    "Name: 252, dtype: int64"
   ]
  },
  {
   "cell_type": "markdown",
   "id": "79774bbe",
   "metadata": {},
   "source": [
    "nombre_infected       671\n",
    "nombre_sain          2387\n",
    "nombre_exposed        391\n",
    "nombre_recovered    16551\n",
    "Name: 253, dtype: int64"
   ]
  },
  {
   "cell_type": "markdown",
   "id": "9ec41645",
   "metadata": {},
   "source": [
    "nombre_infected       667\n",
    "nombre_sain          2400\n",
    "nombre_exposed        391\n",
    "nombre_recovered    16542\n",
    "Name: 254, dtype: int64"
   ]
  },
  {
   "cell_type": "markdown",
   "id": "09f02eb3",
   "metadata": {},
   "source": [
    "nombre_infected       681\n",
    "nombre_sain          2398\n",
    "nombre_exposed        388\n",
    "nombre_recovered    16533\n",
    "Name: 255, dtype: int64"
   ]
  },
  {
   "cell_type": "markdown",
   "id": "518dcb03",
   "metadata": {},
   "source": [
    "nombre_infected       686\n",
    "nombre_sain          2390\n",
    "nombre_exposed        416\n",
    "nombre_recovered    16508\n",
    "Name: 256, dtype: int64"
   ]
  },
  {
   "cell_type": "markdown",
   "id": "db6e97f3",
   "metadata": {},
   "source": [
    "nombre_infected       700\n",
    "nombre_sain          2402\n",
    "nombre_exposed        409\n",
    "nombre_recovered    16489\n",
    "Name: 257, dtype: int64"
   ]
  },
  {
   "cell_type": "markdown",
   "id": "eec480b6",
   "metadata": {},
   "source": [
    "nombre_infected       716\n",
    "nombre_sain          2378\n",
    "nombre_exposed        423\n",
    "nombre_recovered    16483\n",
    "Name: 258, dtype: int64"
   ]
  },
  {
   "cell_type": "markdown",
   "id": "b340196e",
   "metadata": {},
   "source": [
    "nombre_infected       713\n",
    "nombre_sain          2390\n",
    "nombre_exposed        420\n",
    "nombre_recovered    16477\n",
    "Name: 259, dtype: int64"
   ]
  },
  {
   "cell_type": "markdown",
   "id": "d2c81a53",
   "metadata": {},
   "source": [
    "nombre_infected       734\n",
    "nombre_sain          2396\n",
    "nombre_exposed        410\n",
    "nombre_recovered    16460\n",
    "Name: 260, dtype: int64"
   ]
  },
  {
   "cell_type": "markdown",
   "id": "fcea3544",
   "metadata": {},
   "source": [
    "nombre_infected       732\n",
    "nombre_sain          2398\n",
    "nombre_exposed        428\n",
    "nombre_recovered    16442\n",
    "Name: 261, dtype: int64"
   ]
  },
  {
   "cell_type": "markdown",
   "id": "b16b55cc",
   "metadata": {},
   "source": [
    "nombre_infected       728\n",
    "nombre_sain          2407\n",
    "nombre_exposed        421\n",
    "nombre_recovered    16444\n",
    "Name: 262, dtype: int64"
   ]
  },
  {
   "cell_type": "markdown",
   "id": "17c37bdc",
   "metadata": {},
   "source": [
    "nombre_infected       737\n",
    "nombre_sain          2387\n",
    "nombre_exposed        443\n",
    "nombre_recovered    16433\n",
    "Name: 263, dtype: int64"
   ]
  },
  {
   "cell_type": "markdown",
   "id": "f5d35475",
   "metadata": {},
   "source": [
    "nombre_infected       759\n",
    "nombre_sain          2403\n",
    "nombre_exposed        449\n",
    "nombre_recovered    16389\n",
    "Name: 264, dtype: int64"
   ]
  },
  {
   "cell_type": "markdown",
   "id": "ffe1f4b8",
   "metadata": {},
   "source": [
    "nombre_infected       765\n",
    "nombre_sain          2397\n",
    "nombre_exposed        437\n",
    "nombre_recovered    16401\n",
    "Name: 265, dtype: int64"
   ]
  },
  {
   "cell_type": "markdown",
   "id": "81b066ae",
   "metadata": {},
   "source": [
    "nombre_infected       767\n",
    "nombre_sain          2386\n",
    "nombre_exposed        429\n",
    "nombre_recovered    16418\n",
    "Name: 266, dtype: int64"
   ]
  },
  {
   "cell_type": "markdown",
   "id": "383f5e0a",
   "metadata": {},
   "source": [
    "nombre_infected       779\n",
    "nombre_sain          2367\n",
    "nombre_exposed        427\n",
    "nombre_recovered    16427\n",
    "Name: 267, dtype: int64"
   ]
  },
  {
   "cell_type": "markdown",
   "id": "d6e59fdf",
   "metadata": {},
   "source": [
    "nombre_infected       795\n",
    "nombre_sain          2359\n",
    "nombre_exposed        438\n",
    "nombre_recovered    16408\n",
    "Name: 268, dtype: int64"
   ]
  },
  {
   "cell_type": "markdown",
   "id": "38271ebe",
   "metadata": {},
   "source": [
    "nombre_infected       794\n",
    "nombre_sain          2340\n",
    "nombre_exposed        438\n",
    "nombre_recovered    16428\n",
    "Name: 269, dtype: int64"
   ]
  },
  {
   "cell_type": "markdown",
   "id": "91aac032",
   "metadata": {},
   "source": [
    "nombre_infected       791\n",
    "nombre_sain          2306\n",
    "nombre_exposed        452\n",
    "nombre_recovered    16451\n",
    "Name: 270, dtype: int64"
   ]
  },
  {
   "cell_type": "markdown",
   "id": "883680b9",
   "metadata": {},
   "source": [
    "nombre_infected       792\n",
    "nombre_sain          2289\n",
    "nombre_exposed        448\n",
    "nombre_recovered    16471\n",
    "Name: 271, dtype: int64"
   ]
  },
  {
   "cell_type": "markdown",
   "id": "89f72082",
   "metadata": {},
   "source": [
    "nombre_infected       793\n",
    "nombre_sain          2278\n",
    "nombre_exposed        449\n",
    "nombre_recovered    16480\n",
    "Name: 272, dtype: int64"
   ]
  },
  {
   "cell_type": "markdown",
   "id": "1ec3fe9f",
   "metadata": {},
   "source": [
    "nombre_infected       801\n",
    "nombre_sain          2259\n",
    "nombre_exposed        474\n",
    "nombre_recovered    16466\n",
    "Name: 273, dtype: int64"
   ]
  },
  {
   "cell_type": "markdown",
   "id": "d86bd8a0",
   "metadata": {},
   "source": [
    "nombre_infected       812\n",
    "nombre_sain          2244\n",
    "nombre_exposed        469\n",
    "nombre_recovered    16475\n",
    "Name: 274, dtype: int64"
   ]
  },
  {
   "cell_type": "markdown",
   "id": "4e7b2b1e",
   "metadata": {},
   "source": [
    "nombre_infected       818\n",
    "nombre_sain          2234\n",
    "nombre_exposed        452\n",
    "nombre_recovered    16496\n",
    "Name: 275, dtype: int64"
   ]
  },
  {
   "cell_type": "markdown",
   "id": "dfd2151f",
   "metadata": {},
   "source": [
    "nombre_infected       803\n",
    "nombre_sain          2216\n",
    "nombre_exposed        470\n",
    "nombre_recovered    16511\n",
    "Name: 276, dtype: int64"
   ]
  },
  {
   "cell_type": "markdown",
   "id": "8623b6f2",
   "metadata": {},
   "source": [
    "nombre_infected       825\n",
    "nombre_sain          2209\n",
    "nombre_exposed        452\n",
    "nombre_recovered    16514\n",
    "Name: 277, dtype: int64"
   ]
  },
  {
   "cell_type": "markdown",
   "id": "be6375ef",
   "metadata": {},
   "source": [
    "nombre_infected       805\n",
    "nombre_sain          2186\n",
    "nombre_exposed        488\n",
    "nombre_recovered    16521\n",
    "Name: 278, dtype: int64"
   ]
  },
  {
   "cell_type": "markdown",
   "id": "b1f02f42",
   "metadata": {},
   "source": [
    "nombre_infected       793\n",
    "nombre_sain          2178\n",
    "nombre_exposed        482\n",
    "nombre_recovered    16547\n",
    "Name: 279, dtype: int64"
   ]
  },
  {
   "cell_type": "markdown",
   "id": "296823cf",
   "metadata": {},
   "source": [
    "nombre_infected       821\n",
    "nombre_sain          2152\n",
    "nombre_exposed        470\n",
    "nombre_recovered    16557\n",
    "Name: 280, dtype: int64"
   ]
  },
  {
   "cell_type": "markdown",
   "id": "5fc6017b",
   "metadata": {},
   "source": [
    "nombre_infected       812\n",
    "nombre_sain          2148\n",
    "nombre_exposed        476\n",
    "nombre_recovered    16564\n",
    "Name: 281, dtype: int64"
   ]
  },
  {
   "cell_type": "markdown",
   "id": "59f9ac44",
   "metadata": {},
   "source": [
    "nombre_infected       805\n",
    "nombre_sain          2128\n",
    "nombre_exposed        467\n",
    "nombre_recovered    16600\n",
    "Name: 282, dtype: int64"
   ]
  },
  {
   "cell_type": "markdown",
   "id": "8f2b9c8a",
   "metadata": {},
   "source": [
    "nombre_infected       812\n",
    "nombre_sain          2113\n",
    "nombre_exposed        458\n",
    "nombre_recovered    16617\n",
    "Name: 283, dtype: int64"
   ]
  },
  {
   "cell_type": "markdown",
   "id": "a19bfcf9",
   "metadata": {},
   "source": [
    "nombre_infected       825\n",
    "nombre_sain          2105\n",
    "nombre_exposed        444\n",
    "nombre_recovered    16626\n",
    "Name: 284, dtype: int64"
   ]
  },
  {
   "cell_type": "markdown",
   "id": "fdac5a87",
   "metadata": {},
   "source": [
    "nombre_infected       803\n",
    "nombre_sain          2098\n",
    "nombre_exposed        462\n",
    "nombre_recovered    16637\n",
    "Name: 285, dtype: int64"
   ]
  },
  {
   "cell_type": "markdown",
   "id": "742889ae",
   "metadata": {},
   "source": [
    "nombre_infected       774\n",
    "nombre_sain          2092\n",
    "nombre_exposed        475\n",
    "nombre_recovered    16659\n",
    "Name: 286, dtype: int64"
   ]
  },
  {
   "cell_type": "markdown",
   "id": "4cced3be",
   "metadata": {},
   "source": [
    "nombre_infected       785\n",
    "nombre_sain          2082\n",
    "nombre_exposed        487\n",
    "nombre_recovered    16646\n",
    "Name: 287, dtype: int64"
   ]
  },
  {
   "cell_type": "markdown",
   "id": "a10873ef",
   "metadata": {},
   "source": [
    "nombre_infected       783\n",
    "nombre_sain          2075\n",
    "nombre_exposed        486\n",
    "nombre_recovered    16656\n",
    "Name: 288, dtype: int64"
   ]
  },
  {
   "cell_type": "markdown",
   "id": "1782c992",
   "metadata": {},
   "source": [
    "nombre_infected       784\n",
    "nombre_sain          2064\n",
    "nombre_exposed        474\n",
    "nombre_recovered    16678\n",
    "Name: 289, dtype: int64"
   ]
  },
  {
   "cell_type": "markdown",
   "id": "569290c9",
   "metadata": {},
   "source": [
    "nombre_infected       798\n",
    "nombre_sain          2058\n",
    "nombre_exposed        473\n",
    "nombre_recovered    16671\n",
    "Name: 290, dtype: int64"
   ]
  },
  {
   "cell_type": "markdown",
   "id": "f02127af",
   "metadata": {},
   "source": [
    "nombre_infected       799\n",
    "nombre_sain          2087\n",
    "nombre_exposed        464\n",
    "nombre_recovered    16650\n",
    "Name: 291, dtype: int64"
   ]
  },
  {
   "cell_type": "markdown",
   "id": "24d57deb",
   "metadata": {},
   "source": [
    "nombre_infected       788\n",
    "nombre_sain          2082\n",
    "nombre_exposed        487\n",
    "nombre_recovered    16643\n",
    "Name: 292, dtype: int64"
   ]
  },
  {
   "cell_type": "markdown",
   "id": "dce433b6",
   "metadata": {},
   "source": [
    "nombre_infected       783\n",
    "nombre_sain          2082\n",
    "nombre_exposed        490\n",
    "nombre_recovered    16645\n",
    "Name: 293, dtype: int64"
   ]
  },
  {
   "cell_type": "markdown",
   "id": "e0fdcd2a",
   "metadata": {},
   "source": [
    "nombre_infected       812\n",
    "nombre_sain          2094\n",
    "nombre_exposed        482\n",
    "nombre_recovered    16612\n",
    "Name: 294, dtype: int64"
   ]
  },
  {
   "cell_type": "markdown",
   "id": "141009c5",
   "metadata": {},
   "source": [
    "nombre_infected       824\n",
    "nombre_sain          2123\n",
    "nombre_exposed        462\n",
    "nombre_recovered    16591\n",
    "Name: 295, dtype: int64"
   ]
  },
  {
   "cell_type": "markdown",
   "id": "9eadef95",
   "metadata": {},
   "source": [
    "nombre_infected       828\n",
    "nombre_sain          2117\n",
    "nombre_exposed        470\n",
    "nombre_recovered    16585\n",
    "Name: 296, dtype: int64"
   ]
  },
  {
   "cell_type": "markdown",
   "id": "b02d1952",
   "metadata": {},
   "source": [
    "nombre_infected       817\n",
    "nombre_sain          2130\n",
    "nombre_exposed        472\n",
    "nombre_recovered    16581\n",
    "Name: 297, dtype: int64"
   ]
  },
  {
   "cell_type": "markdown",
   "id": "bc51ae98",
   "metadata": {},
   "source": [
    "nombre_infected       810\n",
    "nombre_sain          2136\n",
    "nombre_exposed        480\n",
    "nombre_recovered    16574\n",
    "Name: 298, dtype: int64"
   ]
  },
  {
   "cell_type": "markdown",
   "id": "1b57e2cb",
   "metadata": {},
   "source": [
    "nombre_infected       787\n",
    "nombre_sain          2158\n",
    "nombre_exposed        492\n",
    "nombre_recovered    16563\n",
    "Name: 299, dtype: int64"
   ]
  },
  {
   "cell_type": "markdown",
   "id": "72838f9b",
   "metadata": {},
   "source": [
    "nombre_infected       783\n",
    "nombre_sain          2176\n",
    "nombre_exposed        489\n",
    "nombre_recovered    16552\n",
    "Name: 300, dtype: int64"
   ]
  },
  {
   "cell_type": "markdown",
   "id": "df118b14",
   "metadata": {},
   "source": [
    "nombre_infected       791\n",
    "nombre_sain          2173\n",
    "nombre_exposed        474\n",
    "nombre_recovered    16562\n",
    "Name: 301, dtype: int64"
   ]
  },
  {
   "cell_type": "markdown",
   "id": "b56784c3",
   "metadata": {},
   "source": [
    "nombre_infected       812\n",
    "nombre_sain          2183\n",
    "nombre_exposed        453\n",
    "nombre_recovered    16552\n",
    "Name: 302, dtype: int64"
   ]
  },
  {
   "cell_type": "markdown",
   "id": "eddc0777",
   "metadata": {},
   "source": [
    "nombre_infected       779\n",
    "nombre_sain          2197\n",
    "nombre_exposed        464\n",
    "nombre_recovered    16560\n",
    "Name: 303, dtype: int64"
   ]
  },
  {
   "cell_type": "markdown",
   "id": "a51a3849",
   "metadata": {},
   "source": [
    "nombre_infected       773\n",
    "nombre_sain          2190\n",
    "nombre_exposed        467\n",
    "nombre_recovered    16570\n",
    "Name: 304, dtype: int64"
   ]
  },
  {
   "cell_type": "markdown",
   "id": "ab048581",
   "metadata": {},
   "source": [
    "nombre_infected       760\n",
    "nombre_sain          2207\n",
    "nombre_exposed        473\n",
    "nombre_recovered    16560\n",
    "Name: 305, dtype: int64"
   ]
  },
  {
   "cell_type": "markdown",
   "id": "f26e54f2",
   "metadata": {},
   "source": [
    "nombre_infected       749\n",
    "nombre_sain          2212\n",
    "nombre_exposed        481\n",
    "nombre_recovered    16558\n",
    "Name: 306, dtype: int64"
   ]
  },
  {
   "cell_type": "markdown",
   "id": "44e69fa6",
   "metadata": {},
   "source": [
    "nombre_infected       775\n",
    "nombre_sain          2219\n",
    "nombre_exposed        461\n",
    "nombre_recovered    16545\n",
    "Name: 307, dtype: int64"
   ]
  },
  {
   "cell_type": "markdown",
   "id": "1eef7030",
   "metadata": {},
   "source": [
    "nombre_infected       779\n",
    "nombre_sain          2228\n",
    "nombre_exposed        452\n",
    "nombre_recovered    16541\n",
    "Name: 308, dtype: int64"
   ]
  },
  {
   "cell_type": "markdown",
   "id": "3acb3071",
   "metadata": {},
   "source": [
    "nombre_infected       791\n",
    "nombre_sain          2230\n",
    "nombre_exposed        466\n",
    "nombre_recovered    16513\n",
    "Name: 309, dtype: int64"
   ]
  },
  {
   "cell_type": "markdown",
   "id": "f373a6a1",
   "metadata": {},
   "source": [
    "nombre_infected       778\n",
    "nombre_sain          2227\n",
    "nombre_exposed        486\n",
    "nombre_recovered    16509\n",
    "Name: 310, dtype: int64"
   ]
  },
  {
   "cell_type": "markdown",
   "id": "380a6f3d",
   "metadata": {},
   "source": [
    "nombre_infected       767\n",
    "nombre_sain          2235\n",
    "nombre_exposed        488\n",
    "nombre_recovered    16510\n",
    "Name: 311, dtype: int64"
   ]
  },
  {
   "cell_type": "markdown",
   "id": "9e51f978",
   "metadata": {},
   "source": [
    "nombre_infected       765\n",
    "nombre_sain          2248\n",
    "nombre_exposed        492\n",
    "nombre_recovered    16495\n",
    "Name: 312, dtype: int64"
   ]
  },
  {
   "cell_type": "markdown",
   "id": "ed99d13b",
   "metadata": {},
   "source": [
    "nombre_infected       780\n",
    "nombre_sain          2245\n",
    "nombre_exposed        479\n",
    "nombre_recovered    16496\n",
    "Name: 313, dtype: int64"
   ]
  },
  {
   "cell_type": "markdown",
   "id": "56950451",
   "metadata": {},
   "source": [
    "nombre_infected       775\n",
    "nombre_sain          2232\n",
    "nombre_exposed        487\n",
    "nombre_recovered    16506\n",
    "Name: 314, dtype: int64"
   ]
  },
  {
   "cell_type": "markdown",
   "id": "aea7546c",
   "metadata": {},
   "source": [
    "nombre_infected       794\n",
    "nombre_sain          2250\n",
    "nombre_exposed        481\n",
    "nombre_recovered    16475\n",
    "Name: 315, dtype: int64"
   ]
  },
  {
   "cell_type": "markdown",
   "id": "a269ab9b",
   "metadata": {},
   "source": [
    "nombre_infected       799\n",
    "nombre_sain          2253\n",
    "nombre_exposed        477\n",
    "nombre_recovered    16471\n",
    "Name: 316, dtype: int64"
   ]
  },
  {
   "cell_type": "markdown",
   "id": "58143809",
   "metadata": {},
   "source": [
    "nombre_infected       793\n",
    "nombre_sain          2251\n",
    "nombre_exposed        477\n",
    "nombre_recovered    16479\n",
    "Name: 317, dtype: int64"
   ]
  },
  {
   "cell_type": "markdown",
   "id": "847652d3",
   "metadata": {},
   "source": [
    "nombre_infected       777\n",
    "nombre_sain          2229\n",
    "nombre_exposed        495\n",
    "nombre_recovered    16499\n",
    "Name: 318, dtype: int64"
   ]
  },
  {
   "cell_type": "markdown",
   "id": "64c03b49",
   "metadata": {},
   "source": [
    "nombre_infected       778\n",
    "nombre_sain          2227\n",
    "nombre_exposed        495\n",
    "nombre_recovered    16500\n",
    "Name: 319, dtype: int64"
   ]
  },
  {
   "cell_type": "markdown",
   "id": "e04db33c",
   "metadata": {},
   "source": [
    "nombre_infected       779\n",
    "nombre_sain          2200\n",
    "nombre_exposed        514\n",
    "nombre_recovered    16507\n",
    "Name: 320, dtype: int64"
   ]
  },
  {
   "cell_type": "markdown",
   "id": "f3e30684",
   "metadata": {},
   "source": [
    "nombre_infected       770\n",
    "nombre_sain          2204\n",
    "nombre_exposed        497\n",
    "nombre_recovered    16529\n",
    "Name: 321, dtype: int64"
   ]
  },
  {
   "cell_type": "markdown",
   "id": "5969ffa3",
   "metadata": {},
   "source": [
    "nombre_infected       745\n",
    "nombre_sain          2200\n",
    "nombre_exposed        511\n",
    "nombre_recovered    16544\n",
    "Name: 322, dtype: int64"
   ]
  },
  {
   "cell_type": "markdown",
   "id": "07d75af6",
   "metadata": {},
   "source": [
    "nombre_infected       762\n",
    "nombre_sain          2201\n",
    "nombre_exposed        489\n",
    "nombre_recovered    16548\n",
    "Name: 323, dtype: int64"
   ]
  },
  {
   "cell_type": "markdown",
   "id": "ce58a634",
   "metadata": {},
   "source": [
    "nombre_infected       754\n",
    "nombre_sain          2185\n",
    "nombre_exposed        527\n",
    "nombre_recovered    16534\n",
    "Name: 324, dtype: int64"
   ]
  },
  {
   "cell_type": "markdown",
   "id": "f63272a6",
   "metadata": {},
   "source": [
    "nombre_infected       737\n",
    "nombre_sain          2187\n",
    "nombre_exposed        513\n",
    "nombre_recovered    16563\n",
    "Name: 325, dtype: int64"
   ]
  },
  {
   "cell_type": "markdown",
   "id": "c6ba52e3",
   "metadata": {},
   "source": [
    "nombre_infected       755\n",
    "nombre_sain          2164\n",
    "nombre_exposed        512\n",
    "nombre_recovered    16569\n",
    "Name: 326, dtype: int64"
   ]
  },
  {
   "cell_type": "markdown",
   "id": "c71c2a17",
   "metadata": {},
   "source": [
    "nombre_infected       763\n",
    "nombre_sain          2156\n",
    "nombre_exposed        493\n",
    "nombre_recovered    16588\n",
    "Name: 327, dtype: int64"
   ]
  },
  {
   "cell_type": "markdown",
   "id": "bf1bb292",
   "metadata": {},
   "source": [
    "nombre_infected       785\n",
    "nombre_sain          2144\n",
    "nombre_exposed        470\n",
    "nombre_recovered    16601\n",
    "Name: 328, dtype: int64"
   ]
  },
  {
   "cell_type": "markdown",
   "id": "55a44b55",
   "metadata": {},
   "source": [
    "nombre_infected       777\n",
    "nombre_sain          2140\n",
    "nombre_exposed        463\n",
    "nombre_recovered    16620\n",
    "Name: 329, dtype: int64"
   ]
  },
  {
   "cell_type": "markdown",
   "id": "e49946aa",
   "metadata": {},
   "source": [
    "nombre_infected       784\n",
    "nombre_sain          2123\n",
    "nombre_exposed        453\n",
    "nombre_recovered    16640\n",
    "Name: 330, dtype: int64"
   ]
  },
  {
   "cell_type": "markdown",
   "id": "806461e9",
   "metadata": {},
   "source": [
    "nombre_infected       788\n",
    "nombre_sain          2094\n",
    "nombre_exposed        456\n",
    "nombre_recovered    16662\n",
    "Name: 331, dtype: int64"
   ]
  },
  {
   "cell_type": "markdown",
   "id": "c5f6d1f5",
   "metadata": {},
   "source": [
    "nombre_infected       765\n",
    "nombre_sain          2079\n",
    "nombre_exposed        460\n",
    "nombre_recovered    16696\n",
    "Name: 332, dtype: int64"
   ]
  },
  {
   "cell_type": "markdown",
   "id": "4b7364a4",
   "metadata": {},
   "source": [
    "nombre_infected       738\n",
    "nombre_sain          2085\n",
    "nombre_exposed        439\n",
    "nombre_recovered    16738\n",
    "Name: 333, dtype: int64"
   ]
  },
  {
   "cell_type": "markdown",
   "id": "372af3fb",
   "metadata": {},
   "source": [
    "nombre_infected       739\n",
    "nombre_sain          2090\n",
    "nombre_exposed        431\n",
    "nombre_recovered    16740\n",
    "Name: 334, dtype: int64"
   ]
  },
  {
   "cell_type": "markdown",
   "id": "1f00aff7",
   "metadata": {},
   "source": [
    "nombre_infected       705\n",
    "nombre_sain          2106\n",
    "nombre_exposed        433\n",
    "nombre_recovered    16756\n",
    "Name: 335, dtype: int64"
   ]
  },
  {
   "cell_type": "markdown",
   "id": "cb56840d",
   "metadata": {},
   "source": [
    "nombre_infected       708\n",
    "nombre_sain          2136\n",
    "nombre_exposed        401\n",
    "nombre_recovered    16755\n",
    "Name: 336, dtype: int64"
   ]
  },
  {
   "cell_type": "markdown",
   "id": "953558a5",
   "metadata": {},
   "source": [
    "nombre_infected       717\n",
    "nombre_sain          2139\n",
    "nombre_exposed        403\n",
    "nombre_recovered    16741\n",
    "Name: 337, dtype: int64"
   ]
  },
  {
   "cell_type": "markdown",
   "id": "4346418f",
   "metadata": {},
   "source": [
    "nombre_infected       709\n",
    "nombre_sain          2186\n",
    "nombre_exposed        380\n",
    "nombre_recovered    16725\n",
    "Name: 338, dtype: int64"
   ]
  },
  {
   "cell_type": "markdown",
   "id": "d33289d7",
   "metadata": {},
   "source": [
    "nombre_infected       696\n",
    "nombre_sain          2223\n",
    "nombre_exposed        386\n",
    "nombre_recovered    16695\n",
    "Name: 339, dtype: int64"
   ]
  },
  {
   "cell_type": "markdown",
   "id": "d19c4173",
   "metadata": {},
   "source": [
    "nombre_infected       702\n",
    "nombre_sain          2255\n",
    "nombre_exposed        386\n",
    "nombre_recovered    16657\n",
    "Name: 340, dtype: int64"
   ]
  },
  {
   "cell_type": "markdown",
   "id": "30050917",
   "metadata": {},
   "source": [
    "nombre_infected       703\n",
    "nombre_sain          2280\n",
    "nombre_exposed        393\n",
    "nombre_recovered    16624\n",
    "Name: 341, dtype: int64"
   ]
  },
  {
   "cell_type": "markdown",
   "id": "25ffc976",
   "metadata": {},
   "source": [
    "nombre_infected       705\n",
    "nombre_sain          2281\n",
    "nombre_exposed        407\n",
    "nombre_recovered    16607\n",
    "Name: 342, dtype: int64"
   ]
  },
  {
   "cell_type": "markdown",
   "id": "fa9a6767",
   "metadata": {},
   "source": [
    "nombre_infected       680\n",
    "nombre_sain          2279\n",
    "nombre_exposed        430\n",
    "nombre_recovered    16611\n",
    "Name: 343, dtype: int64"
   ]
  },
  {
   "cell_type": "markdown",
   "id": "3694868b",
   "metadata": {},
   "source": [
    "nombre_infected       679\n",
    "nombre_sain          2312\n",
    "nombre_exposed        435\n",
    "nombre_recovered    16574\n",
    "Name: 344, dtype: int64"
   ]
  },
  {
   "cell_type": "markdown",
   "id": "b127c1e8",
   "metadata": {},
   "source": [
    "nombre_infected       694\n",
    "nombre_sain          2355\n",
    "nombre_exposed        395\n",
    "nombre_recovered    16556\n",
    "Name: 345, dtype: int64"
   ]
  },
  {
   "cell_type": "markdown",
   "id": "66ae774d",
   "metadata": {},
   "source": [
    "nombre_infected       713\n",
    "nombre_sain          2347\n",
    "nombre_exposed        387\n",
    "nombre_recovered    16553\n",
    "Name: 346, dtype: int64"
   ]
  },
  {
   "cell_type": "markdown",
   "id": "db8b8528",
   "metadata": {},
   "source": [
    "nombre_infected       670\n",
    "nombre_sain          2341\n",
    "nombre_exposed        409\n",
    "nombre_recovered    16580\n",
    "Name: 347, dtype: int64"
   ]
  },
  {
   "cell_type": "markdown",
   "id": "4eac87e3",
   "metadata": {},
   "source": [
    "nombre_infected       668\n",
    "nombre_sain          2350\n",
    "nombre_exposed        407\n",
    "nombre_recovered    16575\n",
    "Name: 348, dtype: int64"
   ]
  },
  {
   "cell_type": "markdown",
   "id": "42cc34ac",
   "metadata": {},
   "source": [
    "nombre_infected       662\n",
    "nombre_sain          2370\n",
    "nombre_exposed        404\n",
    "nombre_recovered    16564\n",
    "Name: 349, dtype: int64"
   ]
  },
  {
   "cell_type": "markdown",
   "id": "bd21ff45",
   "metadata": {},
   "source": [
    "nombre_infected       669\n",
    "nombre_sain          2372\n",
    "nombre_exposed        401\n",
    "nombre_recovered    16558\n",
    "Name: 350, dtype: int64"
   ]
  },
  {
   "cell_type": "markdown",
   "id": "96cdeeec",
   "metadata": {},
   "source": [
    "nombre_infected       700\n",
    "nombre_sain          2367\n",
    "nombre_exposed        403\n",
    "nombre_recovered    16530\n",
    "Name: 351, dtype: int64"
   ]
  },
  {
   "cell_type": "markdown",
   "id": "fd9b15df",
   "metadata": {},
   "source": [
    "nombre_infected       695\n",
    "nombre_sain          2385\n",
    "nombre_exposed        403\n",
    "nombre_recovered    16517\n",
    "Name: 352, dtype: int64"
   ]
  },
  {
   "cell_type": "markdown",
   "id": "707dbf85",
   "metadata": {},
   "source": [
    "nombre_infected       682\n",
    "nombre_sain          2408\n",
    "nombre_exposed        390\n",
    "nombre_recovered    16520\n",
    "Name: 353, dtype: int64"
   ]
  },
  {
   "cell_type": "markdown",
   "id": "b4ab3fac",
   "metadata": {},
   "source": [
    "nombre_infected       677\n",
    "nombre_sain          2402\n",
    "nombre_exposed        408\n",
    "nombre_recovered    16513\n",
    "Name: 354, dtype: int64"
   ]
  },
  {
   "cell_type": "markdown",
   "id": "3cae9eea",
   "metadata": {},
   "source": [
    "nombre_infected       668\n",
    "nombre_sain          2400\n",
    "nombre_exposed        434\n",
    "nombre_recovered    16498\n",
    "Name: 355, dtype: int64"
   ]
  },
  {
   "cell_type": "markdown",
   "id": "40a516d7",
   "metadata": {},
   "source": [
    "nombre_infected       676\n",
    "nombre_sain          2410\n",
    "nombre_exposed        451\n",
    "nombre_recovered    16463\n",
    "Name: 356, dtype: int64"
   ]
  },
  {
   "cell_type": "markdown",
   "id": "a05452cb",
   "metadata": {},
   "source": [
    "nombre_infected       673\n",
    "nombre_sain          2432\n",
    "nombre_exposed        450\n",
    "nombre_recovered    16445\n",
    "Name: 357, dtype: int64"
   ]
  },
  {
   "cell_type": "markdown",
   "id": "3a186728",
   "metadata": {},
   "source": [
    "nombre_infected       679\n",
    "nombre_sain          2437\n",
    "nombre_exposed        445\n",
    "nombre_recovered    16439\n",
    "Name: 358, dtype: int64"
   ]
  },
  {
   "cell_type": "markdown",
   "id": "d975b740",
   "metadata": {},
   "source": [
    "nombre_infected       682\n",
    "nombre_sain          2429\n",
    "nombre_exposed        454\n",
    "nombre_recovered    16435\n",
    "Name: 359, dtype: int64"
   ]
  },
  {
   "cell_type": "markdown",
   "id": "3d094022",
   "metadata": {},
   "source": [
    "nombre_infected       673\n",
    "nombre_sain          2441\n",
    "nombre_exposed        453\n",
    "nombre_recovered    16433\n",
    "Name: 360, dtype: int64"
   ]
  },
  {
   "cell_type": "markdown",
   "id": "5746c2ec",
   "metadata": {},
   "source": [
    "nombre_infected       691\n",
    "nombre_sain          2422\n",
    "nombre_exposed        463\n",
    "nombre_recovered    16424\n",
    "Name: 361, dtype: int64"
   ]
  },
  {
   "cell_type": "markdown",
   "id": "7a317d08",
   "metadata": {},
   "source": [
    "nombre_infected       687\n",
    "nombre_sain          2442\n",
    "nombre_exposed        466\n",
    "nombre_recovered    16405\n",
    "Name: 362, dtype: int64"
   ]
  },
  {
   "cell_type": "markdown",
   "id": "905bb2cf",
   "metadata": {},
   "source": [
    "nombre_infected       701\n",
    "nombre_sain          2453\n",
    "nombre_exposed        459\n",
    "nombre_recovered    16387\n",
    "Name: 363, dtype: int64"
   ]
  },
  {
   "cell_type": "markdown",
   "id": "a5b1b697",
   "metadata": {},
   "source": [
    "nombre_infected       711\n",
    "nombre_sain          2452\n",
    "nombre_exposed        450\n",
    "nombre_recovered    16387\n",
    "Name: 364, dtype: int64"
   ]
  },
  {
   "cell_type": "markdown",
   "id": "67f74e46",
   "metadata": {},
   "source": [
    "nombre_infected       726\n",
    "nombre_sain          2471\n",
    "nombre_exposed        441\n",
    "nombre_recovered    16362\n",
    "Name: 365, dtype: int64"
   ]
  },
  {
   "cell_type": "markdown",
   "id": "dc0e9553",
   "metadata": {},
   "source": [
    "nombre_infected       736\n",
    "nombre_sain          2439\n",
    "nombre_exposed        466\n",
    "nombre_recovered    16359\n",
    "Name: 366, dtype: int64"
   ]
  },
  {
   "cell_type": "markdown",
   "id": "cca92416",
   "metadata": {},
   "source": [
    "nombre_infected       744\n",
    "nombre_sain          2433\n",
    "nombre_exposed        473\n",
    "nombre_recovered    16350\n",
    "Name: 367, dtype: int64"
   ]
  },
  {
   "cell_type": "markdown",
   "id": "fcad16bf",
   "metadata": {},
   "source": [
    "nombre_infected       729\n",
    "nombre_sain          2429\n",
    "nombre_exposed        487\n",
    "nombre_recovered    16355\n",
    "Name: 368, dtype: int64"
   ]
  },
  {
   "cell_type": "markdown",
   "id": "d9404a9b",
   "metadata": {},
   "source": [
    "nombre_infected       734\n",
    "nombre_sain          2440\n",
    "nombre_exposed        491\n",
    "nombre_recovered    16335\n",
    "Name: 369, dtype: int64"
   ]
  },
  {
   "cell_type": "markdown",
   "id": "2511664a",
   "metadata": {},
   "source": [
    "nombre_infected       765\n",
    "nombre_sain          2453\n",
    "nombre_exposed        465\n",
    "nombre_recovered    16317\n",
    "Name: 370, dtype: int64"
   ]
  },
  {
   "cell_type": "markdown",
   "id": "35ad9763",
   "metadata": {},
   "source": [
    "nombre_infected       770\n",
    "nombre_sain          2442\n",
    "nombre_exposed        468\n",
    "nombre_recovered    16320\n",
    "Name: 371, dtype: int64"
   ]
  },
  {
   "cell_type": "markdown",
   "id": "dbc82854",
   "metadata": {},
   "source": [
    "nombre_infected       745\n",
    "nombre_sain          2469\n",
    "nombre_exposed        458\n",
    "nombre_recovered    16328\n",
    "Name: 372, dtype: int64"
   ]
  },
  {
   "cell_type": "markdown",
   "id": "5826f956",
   "metadata": {},
   "source": [
    "nombre_infected       720\n",
    "nombre_sain          2489\n",
    "nombre_exposed        472\n",
    "nombre_recovered    16319\n",
    "Name: 373, dtype: int64"
   ]
  },
  {
   "cell_type": "markdown",
   "id": "79360949",
   "metadata": {},
   "source": [
    "nombre_infected       702\n",
    "nombre_sain          2489\n",
    "nombre_exposed        481\n",
    "nombre_recovered    16328\n",
    "Name: 374, dtype: int64"
   ]
  },
  {
   "cell_type": "markdown",
   "id": "0509e3cd",
   "metadata": {},
   "source": [
    "nombre_infected       695\n",
    "nombre_sain          2507\n",
    "nombre_exposed        479\n",
    "nombre_recovered    16319\n",
    "Name: 375, dtype: int64"
   ]
  },
  {
   "cell_type": "markdown",
   "id": "65a9fc00",
   "metadata": {},
   "source": [
    "nombre_infected       695\n",
    "nombre_sain          2514\n",
    "nombre_exposed        495\n",
    "nombre_recovered    16296\n",
    "Name: 376, dtype: int64"
   ]
  },
  {
   "cell_type": "markdown",
   "id": "5da859bb",
   "metadata": {},
   "source": [
    "nombre_infected       678\n",
    "nombre_sain          2512\n",
    "nombre_exposed        506\n",
    "nombre_recovered    16304\n",
    "Name: 377, dtype: int64"
   ]
  },
  {
   "cell_type": "markdown",
   "id": "30bc310a",
   "metadata": {},
   "source": [
    "nombre_infected       706\n",
    "nombre_sain          2532\n",
    "nombre_exposed        475\n",
    "nombre_recovered    16287\n",
    "Name: 378, dtype: int64"
   ]
  },
  {
   "cell_type": "markdown",
   "id": "1d44fff7",
   "metadata": {},
   "source": [
    "nombre_infected       728\n",
    "nombre_sain          2529\n",
    "nombre_exposed        478\n",
    "nombre_recovered    16265\n",
    "Name: 379, dtype: int64"
   ]
  },
  {
   "cell_type": "markdown",
   "id": "f898cf80",
   "metadata": {},
   "source": [
    "nombre_infected       744\n",
    "nombre_sain          2535\n",
    "nombre_exposed        496\n",
    "nombre_recovered    16225\n",
    "Name: 380, dtype: int64"
   ]
  },
  {
   "cell_type": "markdown",
   "id": "78ca2fbb",
   "metadata": {},
   "source": [
    "nombre_infected       740\n",
    "nombre_sain          2518\n",
    "nombre_exposed        504\n",
    "nombre_recovered    16238\n",
    "Name: 381, dtype: int64"
   ]
  },
  {
   "cell_type": "markdown",
   "id": "49ffd276",
   "metadata": {},
   "source": [
    "nombre_infected       734\n",
    "nombre_sain          2527\n",
    "nombre_exposed        518\n",
    "nombre_recovered    16221\n",
    "Name: 382, dtype: int64"
   ]
  },
  {
   "cell_type": "markdown",
   "id": "b97c5bd2",
   "metadata": {},
   "source": [
    "nombre_infected       742\n",
    "nombre_sain          2533\n",
    "nombre_exposed        527\n",
    "nombre_recovered    16198\n",
    "Name: 383, dtype: int64"
   ]
  },
  {
   "cell_type": "markdown",
   "id": "2c20d821",
   "metadata": {},
   "source": [
    "nombre_infected       770\n",
    "nombre_sain          2552\n",
    "nombre_exposed        520\n",
    "nombre_recovered    16158\n",
    "Name: 384, dtype: int64"
   ]
  },
  {
   "cell_type": "markdown",
   "id": "74eb629e",
   "metadata": {},
   "source": [
    "nombre_infected       786\n",
    "nombre_sain          2544\n",
    "nombre_exposed        525\n",
    "nombre_recovered    16145\n",
    "Name: 385, dtype: int64"
   ]
  },
  {
   "cell_type": "markdown",
   "id": "03a035bc",
   "metadata": {},
   "source": [
    "nombre_infected       779\n",
    "nombre_sain          2536\n",
    "nombre_exposed        528\n",
    "nombre_recovered    16157\n",
    "Name: 386, dtype: int64"
   ]
  },
  {
   "cell_type": "markdown",
   "id": "58a5f973",
   "metadata": {},
   "source": [
    "nombre_infected       758\n",
    "nombre_sain          2499\n",
    "nombre_exposed        572\n",
    "nombre_recovered    16171\n",
    "Name: 387, dtype: int64"
   ]
  },
  {
   "cell_type": "markdown",
   "id": "08f3c0ae",
   "metadata": {},
   "source": [
    "nombre_infected       776\n",
    "nombre_sain          2482\n",
    "nombre_exposed        566\n",
    "nombre_recovered    16176\n",
    "Name: 388, dtype: int64"
   ]
  },
  {
   "cell_type": "markdown",
   "id": "8540273c",
   "metadata": {},
   "source": [
    "nombre_infected       794\n",
    "nombre_sain          2454\n",
    "nombre_exposed        571\n",
    "nombre_recovered    16181\n",
    "Name: 389, dtype: int64"
   ]
  },
  {
   "cell_type": "markdown",
   "id": "cbffc0d0",
   "metadata": {},
   "source": [
    "nombre_infected       804\n",
    "nombre_sain          2442\n",
    "nombre_exposed        565\n",
    "nombre_recovered    16189\n",
    "Name: 390, dtype: int64"
   ]
  },
  {
   "cell_type": "markdown",
   "id": "af02032c",
   "metadata": {},
   "source": [
    "nombre_infected       825\n",
    "nombre_sain          2435\n",
    "nombre_exposed        543\n",
    "nombre_recovered    16197\n",
    "Name: 391, dtype: int64"
   ]
  },
  {
   "cell_type": "markdown",
   "id": "ca7c5f0b",
   "metadata": {},
   "source": [
    "nombre_infected       803\n",
    "nombre_sain          2395\n",
    "nombre_exposed        542\n",
    "nombre_recovered    16260\n",
    "Name: 392, dtype: int64"
   ]
  },
  {
   "cell_type": "markdown",
   "id": "b737c074",
   "metadata": {},
   "source": [
    "nombre_infected       805\n",
    "nombre_sain          2386\n",
    "nombre_exposed        544\n",
    "nombre_recovered    16265\n",
    "Name: 393, dtype: int64"
   ]
  },
  {
   "cell_type": "markdown",
   "id": "ab1bed76",
   "metadata": {},
   "source": [
    "nombre_infected       829\n",
    "nombre_sain          2351\n",
    "nombre_exposed        537\n",
    "nombre_recovered    16283\n",
    "Name: 394, dtype: int64"
   ]
  },
  {
   "cell_type": "markdown",
   "id": "7f75dec4",
   "metadata": {},
   "source": [
    "nombre_infected       813\n",
    "nombre_sain          2319\n",
    "nombre_exposed        566\n",
    "nombre_recovered    16302\n",
    "Name: 395, dtype: int64"
   ]
  },
  {
   "cell_type": "markdown",
   "id": "76528b01",
   "metadata": {},
   "source": [
    "nombre_infected       796\n",
    "nombre_sain          2298\n",
    "nombre_exposed        553\n",
    "nombre_recovered    16353\n",
    "Name: 396, dtype: int64"
   ]
  },
  {
   "cell_type": "markdown",
   "id": "6fa8182d",
   "metadata": {},
   "source": [
    "nombre_infected       795\n",
    "nombre_sain          2289\n",
    "nombre_exposed        564\n",
    "nombre_recovered    16352\n",
    "Name: 397, dtype: int64"
   ]
  },
  {
   "cell_type": "markdown",
   "id": "e51d2c28",
   "metadata": {},
   "source": [
    "nombre_infected       786\n",
    "nombre_sain          2277\n",
    "nombre_exposed        560\n",
    "nombre_recovered    16377\n",
    "Name: 398, dtype: int64"
   ]
  },
  {
   "cell_type": "markdown",
   "id": "3de0af3e",
   "metadata": {},
   "source": [
    "nombre_infected       804\n",
    "nombre_sain          2273\n",
    "nombre_exposed        554\n",
    "nombre_recovered    16369\n",
    "Name: 399, dtype: int64"
   ]
  },
  {
   "cell_type": "markdown",
   "id": "473cc0b0",
   "metadata": {},
   "source": [
    "nombre_infected       799\n",
    "nombre_sain          2259\n",
    "nombre_exposed        543\n",
    "nombre_recovered    16399\n",
    "Name: 400, dtype: int64"
   ]
  },
  {
   "cell_type": "markdown",
   "id": "4e9c1546",
   "metadata": {},
   "source": [
    "nombre_infected       794\n",
    "nombre_sain          2252\n",
    "nombre_exposed        535\n",
    "nombre_recovered    16419\n",
    "Name: 401, dtype: int64"
   ]
  },
  {
   "cell_type": "markdown",
   "id": "b533cf24",
   "metadata": {},
   "source": [
    "nombre_infected       814\n",
    "nombre_sain          2269\n",
    "nombre_exposed        508\n",
    "nombre_recovered    16409\n",
    "Name: 402, dtype: int64"
   ]
  },
  {
   "cell_type": "markdown",
   "id": "86107733",
   "metadata": {},
   "source": [
    "nombre_infected       796\n",
    "nombre_sain          2284\n",
    "nombre_exposed        514\n",
    "nombre_recovered    16406\n",
    "Name: 403, dtype: int64"
   ]
  },
  {
   "cell_type": "markdown",
   "id": "b8cb9e3b",
   "metadata": {},
   "source": [
    "nombre_infected       788\n",
    "nombre_sain          2296\n",
    "nombre_exposed        531\n",
    "nombre_recovered    16385\n",
    "Name: 404, dtype: int64"
   ]
  },
  {
   "cell_type": "markdown",
   "id": "98f859e6",
   "metadata": {},
   "source": [
    "nombre_infected       786\n",
    "nombre_sain          2277\n",
    "nombre_exposed        542\n",
    "nombre_recovered    16395\n",
    "Name: 405, dtype: int64"
   ]
  },
  {
   "cell_type": "markdown",
   "id": "71770867",
   "metadata": {},
   "source": [
    "nombre_infected       786\n",
    "nombre_sain          2257\n",
    "nombre_exposed        557\n",
    "nombre_recovered    16400\n",
    "Name: 406, dtype: int64"
   ]
  },
  {
   "cell_type": "markdown",
   "id": "3e27aa74",
   "metadata": {},
   "source": [
    "nombre_infected       791\n",
    "nombre_sain          2263\n",
    "nombre_exposed        548\n",
    "nombre_recovered    16398\n",
    "Name: 407, dtype: int64"
   ]
  },
  {
   "cell_type": "markdown",
   "id": "decf8171",
   "metadata": {},
   "source": [
    "nombre_infected       778\n",
    "nombre_sain          2261\n",
    "nombre_exposed        560\n",
    "nombre_recovered    16401\n",
    "Name: 408, dtype: int64"
   ]
  },
  {
   "cell_type": "markdown",
   "id": "69c20e40",
   "metadata": {},
   "source": [
    "nombre_infected       797\n",
    "nombre_sain          2276\n",
    "nombre_exposed        539\n",
    "nombre_recovered    16388\n",
    "Name: 409, dtype: int64"
   ]
  },
  {
   "cell_type": "markdown",
   "id": "d40b2925",
   "metadata": {},
   "source": [
    "nombre_infected       810\n",
    "nombre_sain          2250\n",
    "nombre_exposed        556\n",
    "nombre_recovered    16384\n",
    "Name: 410, dtype: int64"
   ]
  },
  {
   "cell_type": "markdown",
   "id": "ee35c3f5",
   "metadata": {},
   "source": [
    "nombre_infected       791\n",
    "nombre_sain          2250\n",
    "nombre_exposed        563\n",
    "nombre_recovered    16396\n",
    "Name: 411, dtype: int64"
   ]
  },
  {
   "cell_type": "markdown",
   "id": "3b8fc97e",
   "metadata": {},
   "source": [
    "nombre_infected       794\n",
    "nombre_sain          2251\n",
    "nombre_exposed        568\n",
    "nombre_recovered    16387\n",
    "Name: 412, dtype: int64"
   ]
  },
  {
   "cell_type": "markdown",
   "id": "49aefdf8",
   "metadata": {},
   "source": [
    "nombre_infected       818\n",
    "nombre_sain          2253\n",
    "nombre_exposed        529\n",
    "nombre_recovered    16400\n",
    "Name: 413, dtype: int64"
   ]
  },
  {
   "cell_type": "markdown",
   "id": "f92c80e2",
   "metadata": {},
   "source": [
    "nombre_infected       846\n",
    "nombre_sain          2254\n",
    "nombre_exposed        498\n",
    "nombre_recovered    16402\n",
    "Name: 414, dtype: int64"
   ]
  },
  {
   "cell_type": "markdown",
   "id": "8de88dbd",
   "metadata": {},
   "source": [
    "nombre_infected       864\n",
    "nombre_sain          2242\n",
    "nombre_exposed        507\n",
    "nombre_recovered    16387\n",
    "Name: 415, dtype: int64"
   ]
  },
  {
   "cell_type": "markdown",
   "id": "c50c4fe0",
   "metadata": {},
   "source": [
    "nombre_infected       885\n",
    "nombre_sain          2198\n",
    "nombre_exposed        500\n",
    "nombre_recovered    16417\n",
    "Name: 416, dtype: int64"
   ]
  },
  {
   "cell_type": "markdown",
   "id": "02232eee",
   "metadata": {},
   "source": [
    "nombre_infected       849\n",
    "nombre_sain          2192\n",
    "nombre_exposed        512\n",
    "nombre_recovered    16447\n",
    "Name: 417, dtype: int64"
   ]
  },
  {
   "cell_type": "markdown",
   "id": "fc1d74ae",
   "metadata": {},
   "source": [
    "nombre_infected       855\n",
    "nombre_sain          2166\n",
    "nombre_exposed        506\n",
    "nombre_recovered    16473\n",
    "Name: 418, dtype: int64"
   ]
  },
  {
   "cell_type": "markdown",
   "id": "6a008fdd",
   "metadata": {},
   "source": [
    "nombre_infected       872\n",
    "nombre_sain          2132\n",
    "nombre_exposed        492\n",
    "nombre_recovered    16504\n",
    "Name: 419, dtype: int64"
   ]
  },
  {
   "cell_type": "markdown",
   "id": "17016307",
   "metadata": {},
   "source": [
    "nombre_infected       889\n",
    "nombre_sain          2118\n",
    "nombre_exposed        464\n",
    "nombre_recovered    16529\n",
    "Name: 420, dtype: int64"
   ]
  },
  {
   "cell_type": "markdown",
   "id": "3f1249ea",
   "metadata": {},
   "source": [
    "nombre_infected       874\n",
    "nombre_sain          2098\n",
    "nombre_exposed        467\n",
    "nombre_recovered    16561\n",
    "Name: 421, dtype: int64"
   ]
  },
  {
   "cell_type": "markdown",
   "id": "ebb60b9f",
   "metadata": {},
   "source": [
    "nombre_infected       851\n",
    "nombre_sain          2075\n",
    "nombre_exposed        488\n",
    "nombre_recovered    16586\n",
    "Name: 422, dtype: int64"
   ]
  },
  {
   "cell_type": "markdown",
   "id": "e3950215",
   "metadata": {},
   "source": [
    "nombre_infected       844\n",
    "nombre_sain          2060\n",
    "nombre_exposed        499\n",
    "nombre_recovered    16597\n",
    "Name: 423, dtype: int64"
   ]
  },
  {
   "cell_type": "markdown",
   "id": "2e0a76e3",
   "metadata": {},
   "source": [
    "nombre_infected       835\n",
    "nombre_sain          2052\n",
    "nombre_exposed        501\n",
    "nombre_recovered    16612\n",
    "Name: 424, dtype: int64"
   ]
  },
  {
   "cell_type": "markdown",
   "id": "1ea8e0c0",
   "metadata": {},
   "source": [
    "nombre_infected       847\n",
    "nombre_sain          2028\n",
    "nombre_exposed        488\n",
    "nombre_recovered    16637\n",
    "Name: 425, dtype: int64"
   ]
  },
  {
   "cell_type": "markdown",
   "id": "d39d0600",
   "metadata": {},
   "source": [
    "nombre_infected       841\n",
    "nombre_sain          2037\n",
    "nombre_exposed        469\n",
    "nombre_recovered    16653\n",
    "Name: 426, dtype: int64"
   ]
  },
  {
   "cell_type": "markdown",
   "id": "1743905b",
   "metadata": {},
   "source": [
    "nombre_infected       864\n",
    "nombre_sain          2020\n",
    "nombre_exposed        452\n",
    "nombre_recovered    16664\n",
    "Name: 427, dtype: int64"
   ]
  },
  {
   "cell_type": "markdown",
   "id": "25d8b343",
   "metadata": {},
   "source": [
    "nombre_infected       860\n",
    "nombre_sain          2030\n",
    "nombre_exposed        428\n",
    "nombre_recovered    16682\n",
    "Name: 428, dtype: int64"
   ]
  },
  {
   "cell_type": "markdown",
   "id": "419d593d",
   "metadata": {},
   "source": [
    "nombre_infected       814\n",
    "nombre_sain          2015\n",
    "nombre_exposed        455\n",
    "nombre_recovered    16716\n",
    "Name: 429, dtype: int64"
   ]
  },
  {
   "cell_type": "markdown",
   "id": "ee8abe89",
   "metadata": {},
   "source": [
    "nombre_infected       798\n",
    "nombre_sain          2014\n",
    "nombre_exposed        470\n",
    "nombre_recovered    16718\n",
    "Name: 430, dtype: int64"
   ]
  },
  {
   "cell_type": "markdown",
   "id": "13989322",
   "metadata": {},
   "source": [
    "nombre_infected       802\n",
    "nombre_sain          1991\n",
    "nombre_exposed        460\n",
    "nombre_recovered    16747\n",
    "Name: 431, dtype: int64"
   ]
  },
  {
   "cell_type": "markdown",
   "id": "45b88af6",
   "metadata": {},
   "source": [
    "nombre_infected       786\n",
    "nombre_sain          2007\n",
    "nombre_exposed        447\n",
    "nombre_recovered    16760\n",
    "Name: 432, dtype: int64"
   ]
  },
  {
   "cell_type": "markdown",
   "id": "e98a0972",
   "metadata": {},
   "source": [
    "nombre_infected       811\n",
    "nombre_sain          2018\n",
    "nombre_exposed        428\n",
    "nombre_recovered    16743\n",
    "Name: 433, dtype: int64"
   ]
  },
  {
   "cell_type": "markdown",
   "id": "878be2a6",
   "metadata": {},
   "source": [
    "nombre_infected       823\n",
    "nombre_sain          2021\n",
    "nombre_exposed        416\n",
    "nombre_recovered    16740\n",
    "Name: 434, dtype: int64"
   ]
  },
  {
   "cell_type": "markdown",
   "id": "197d7259",
   "metadata": {},
   "source": [
    "nombre_infected       827\n",
    "nombre_sain          2012\n",
    "nombre_exposed        427\n",
    "nombre_recovered    16734\n",
    "Name: 435, dtype: int64"
   ]
  },
  {
   "cell_type": "markdown",
   "id": "e779ce93",
   "metadata": {},
   "source": [
    "nombre_infected       790\n",
    "nombre_sain          2014\n",
    "nombre_exposed        436\n",
    "nombre_recovered    16760\n",
    "Name: 436, dtype: int64"
   ]
  },
  {
   "cell_type": "markdown",
   "id": "1af70abf",
   "metadata": {},
   "source": [
    "nombre_infected       802\n",
    "nombre_sain          2044\n",
    "nombre_exposed        420\n",
    "nombre_recovered    16734\n",
    "Name: 437, dtype: int64"
   ]
  },
  {
   "cell_type": "markdown",
   "id": "39f2fddb",
   "metadata": {},
   "source": [
    "nombre_infected       830\n",
    "nombre_sain          2041\n",
    "nombre_exposed        401\n",
    "nombre_recovered    16728\n",
    "Name: 438, dtype: int64"
   ]
  },
  {
   "cell_type": "markdown",
   "id": "fb8041dd",
   "metadata": {},
   "source": [
    "nombre_infected       807\n",
    "nombre_sain          2029\n",
    "nombre_exposed        420\n",
    "nombre_recovered    16744\n",
    "Name: 439, dtype: int64"
   ]
  },
  {
   "cell_type": "markdown",
   "id": "b249e388",
   "metadata": {},
   "source": [
    "nombre_infected       773\n",
    "nombre_sain          2042\n",
    "nombre_exposed        417\n",
    "nombre_recovered    16768\n",
    "Name: 440, dtype: int64"
   ]
  },
  {
   "cell_type": "markdown",
   "id": "93576833",
   "metadata": {},
   "source": [
    "nombre_infected       767\n",
    "nombre_sain          2043\n",
    "nombre_exposed        413\n",
    "nombre_recovered    16777\n",
    "Name: 441, dtype: int64"
   ]
  },
  {
   "cell_type": "markdown",
   "id": "82acb7f0",
   "metadata": {},
   "source": [
    "nombre_infected       758\n",
    "nombre_sain          2056\n",
    "nombre_exposed        417\n",
    "nombre_recovered    16769\n",
    "Name: 442, dtype: int64"
   ]
  },
  {
   "cell_type": "markdown",
   "id": "d2b7e1f8",
   "metadata": {},
   "source": [
    "nombre_infected       732\n",
    "nombre_sain          2084\n",
    "nombre_exposed        404\n",
    "nombre_recovered    16780\n",
    "Name: 443, dtype: int64"
   ]
  },
  {
   "cell_type": "markdown",
   "id": "ec4fc8c4",
   "metadata": {},
   "source": [
    "nombre_infected       734\n",
    "nombre_sain          2085\n",
    "nombre_exposed        401\n",
    "nombre_recovered    16780\n",
    "Name: 444, dtype: int64"
   ]
  },
  {
   "cell_type": "markdown",
   "id": "0d655100",
   "metadata": {},
   "source": [
    "nombre_infected       746\n",
    "nombre_sain          2095\n",
    "nombre_exposed        398\n",
    "nombre_recovered    16761\n",
    "Name: 445, dtype: int64"
   ]
  },
  {
   "cell_type": "markdown",
   "id": "6d5f6710",
   "metadata": {},
   "source": [
    "nombre_infected       721\n",
    "nombre_sain          2099\n",
    "nombre_exposed        415\n",
    "nombre_recovered    16765\n",
    "Name: 446, dtype: int64"
   ]
  },
  {
   "cell_type": "markdown",
   "id": "674a14c5",
   "metadata": {},
   "source": [
    "nombre_infected       724\n",
    "nombre_sain          2102\n",
    "nombre_exposed        419\n",
    "nombre_recovered    16755\n",
    "Name: 447, dtype: int64"
   ]
  },
  {
   "cell_type": "markdown",
   "id": "e2e531e1",
   "metadata": {},
   "source": [
    "nombre_infected       703\n",
    "nombre_sain          2090\n",
    "nombre_exposed        440\n",
    "nombre_recovered    16767\n",
    "Name: 448, dtype: int64"
   ]
  },
  {
   "cell_type": "markdown",
   "id": "0ee52798",
   "metadata": {},
   "source": [
    "nombre_infected       712\n",
    "nombre_sain          2095\n",
    "nombre_exposed        398\n",
    "nombre_recovered    16795\n",
    "Name: 449, dtype: int64"
   ]
  },
  {
   "cell_type": "markdown",
   "id": "390f7b7a",
   "metadata": {},
   "source": [
    "nombre_infected       735\n",
    "nombre_sain          2083\n",
    "nombre_exposed        390\n",
    "nombre_recovered    16792\n",
    "Name: 450, dtype: int64"
   ]
  },
  {
   "cell_type": "markdown",
   "id": "525efce7",
   "metadata": {},
   "source": [
    "nombre_infected       740\n",
    "nombre_sain          2097\n",
    "nombre_exposed        399\n",
    "nombre_recovered    16764\n",
    "Name: 451, dtype: int64"
   ]
  },
  {
   "cell_type": "markdown",
   "id": "1f5c067f",
   "metadata": {},
   "source": [
    "nombre_infected       739\n",
    "nombre_sain          2098\n",
    "nombre_exposed        397\n",
    "nombre_recovered    16766\n",
    "Name: 452, dtype: int64"
   ]
  },
  {
   "cell_type": "markdown",
   "id": "b96e2e57",
   "metadata": {},
   "source": [
    "nombre_infected       736\n",
    "nombre_sain          2109\n",
    "nombre_exposed        383\n",
    "nombre_recovered    16772\n",
    "Name: 453, dtype: int64"
   ]
  },
  {
   "cell_type": "markdown",
   "id": "e63b4975",
   "metadata": {},
   "source": [
    "nombre_infected       725\n",
    "nombre_sain          2110\n",
    "nombre_exposed        376\n",
    "nombre_recovered    16789\n",
    "Name: 454, dtype: int64"
   ]
  },
  {
   "cell_type": "markdown",
   "id": "4f8acce4",
   "metadata": {},
   "source": [
    "nombre_infected       697\n",
    "nombre_sain          2116\n",
    "nombre_exposed        400\n",
    "nombre_recovered    16787\n",
    "Name: 455, dtype: int64"
   ]
  },
  {
   "cell_type": "markdown",
   "id": "08e09dd7",
   "metadata": {},
   "source": [
    "nombre_infected       697\n",
    "nombre_sain          2119\n",
    "nombre_exposed        404\n",
    "nombre_recovered    16780\n",
    "Name: 456, dtype: int64"
   ]
  },
  {
   "cell_type": "markdown",
   "id": "5feab56b",
   "metadata": {},
   "source": [
    "nombre_infected       689\n",
    "nombre_sain          2161\n",
    "nombre_exposed        398\n",
    "nombre_recovered    16752\n",
    "Name: 457, dtype: int64"
   ]
  },
  {
   "cell_type": "markdown",
   "id": "24065d3f",
   "metadata": {},
   "source": [
    "nombre_infected       677\n",
    "nombre_sain          2182\n",
    "nombre_exposed        407\n",
    "nombre_recovered    16734\n",
    "Name: 458, dtype: int64"
   ]
  },
  {
   "cell_type": "markdown",
   "id": "7dd1d512",
   "metadata": {},
   "source": [
    "nombre_infected       682\n",
    "nombre_sain          2225\n",
    "nombre_exposed        390\n",
    "nombre_recovered    16703\n",
    "Name: 459, dtype: int64"
   ]
  },
  {
   "cell_type": "markdown",
   "id": "01c52571",
   "metadata": {},
   "source": [
    "nombre_infected       692\n",
    "nombre_sain          2250\n",
    "nombre_exposed        382\n",
    "nombre_recovered    16676\n",
    "Name: 460, dtype: int64"
   ]
  },
  {
   "cell_type": "markdown",
   "id": "2dad444c",
   "metadata": {},
   "source": [
    "nombre_infected       672\n",
    "nombre_sain          2274\n",
    "nombre_exposed        386\n",
    "nombre_recovered    16668\n",
    "Name: 461, dtype: int64"
   ]
  },
  {
   "cell_type": "markdown",
   "id": "b088b281",
   "metadata": {},
   "source": [
    "nombre_infected       686\n",
    "nombre_sain          2311\n",
    "nombre_exposed        368\n",
    "nombre_recovered    16635\n",
    "Name: 462, dtype: int64"
   ]
  },
  {
   "cell_type": "markdown",
   "id": "93b71cc8",
   "metadata": {},
   "source": [
    "nombre_infected       677\n",
    "nombre_sain          2348\n",
    "nombre_exposed        383\n",
    "nombre_recovered    16592\n",
    "Name: 463, dtype: int64"
   ]
  },
  {
   "cell_type": "markdown",
   "id": "bf32cf43",
   "metadata": {},
   "source": [
    "nombre_infected       689\n",
    "nombre_sain          2353\n",
    "nombre_exposed        382\n",
    "nombre_recovered    16576\n",
    "Name: 464, dtype: int64"
   ]
  },
  {
   "cell_type": "markdown",
   "id": "44a504fd",
   "metadata": {},
   "source": [
    "nombre_infected       693\n",
    "nombre_sain          2359\n",
    "nombre_exposed        388\n",
    "nombre_recovered    16560\n",
    "Name: 465, dtype: int64"
   ]
  },
  {
   "cell_type": "markdown",
   "id": "c25ea82d",
   "metadata": {},
   "source": [
    "nombre_infected       719\n",
    "nombre_sain          2365\n",
    "nombre_exposed        390\n",
    "nombre_recovered    16526\n",
    "Name: 466, dtype: int64"
   ]
  },
  {
   "cell_type": "markdown",
   "id": "bda525fe",
   "metadata": {},
   "source": [
    "nombre_infected       702\n",
    "nombre_sain          2362\n",
    "nombre_exposed        415\n",
    "nombre_recovered    16521\n",
    "Name: 467, dtype: int64"
   ]
  },
  {
   "cell_type": "markdown",
   "id": "b2e6ceb8",
   "metadata": {},
   "source": [
    "nombre_infected       710\n",
    "nombre_sain          2392\n",
    "nombre_exposed        404\n",
    "nombre_recovered    16494\n",
    "Name: 468, dtype: int64"
   ]
  },
  {
   "cell_type": "markdown",
   "id": "b86ebf47",
   "metadata": {},
   "source": [
    "nombre_infected       691\n",
    "nombre_sain          2404\n",
    "nombre_exposed        420\n",
    "nombre_recovered    16485\n",
    "Name: 469, dtype: int64"
   ]
  },
  {
   "cell_type": "markdown",
   "id": "78b3bf15",
   "metadata": {},
   "source": [
    "nombre_infected       690\n",
    "nombre_sain          2419\n",
    "nombre_exposed        411\n",
    "nombre_recovered    16480\n",
    "Name: 470, dtype: int64"
   ]
  },
  {
   "cell_type": "markdown",
   "id": "7569acca",
   "metadata": {},
   "source": [
    "nombre_infected       720\n",
    "nombre_sain          2429\n",
    "nombre_exposed        403\n",
    "nombre_recovered    16448\n",
    "Name: 471, dtype: int64"
   ]
  },
  {
   "cell_type": "markdown",
   "id": "4db83942",
   "metadata": {},
   "source": [
    "nombre_infected       719\n",
    "nombre_sain          2421\n",
    "nombre_exposed        417\n",
    "nombre_recovered    16443\n",
    "Name: 472, dtype: int64"
   ]
  },
  {
   "cell_type": "markdown",
   "id": "a9ac7a89",
   "metadata": {},
   "source": [
    "nombre_infected       721\n",
    "nombre_sain          2435\n",
    "nombre_exposed        405\n",
    "nombre_recovered    16439\n",
    "Name: 473, dtype: int64"
   ]
  },
  {
   "cell_type": "markdown",
   "id": "06c14319",
   "metadata": {},
   "source": [
    "nombre_infected       721\n",
    "nombre_sain          2422\n",
    "nombre_exposed        410\n",
    "nombre_recovered    16447\n",
    "Name: 474, dtype: int64"
   ]
  },
  {
   "cell_type": "markdown",
   "id": "4fd33805",
   "metadata": {},
   "source": [
    "nombre_infected       733\n",
    "nombre_sain          2409\n",
    "nombre_exposed        414\n",
    "nombre_recovered    16444\n",
    "Name: 475, dtype: int64"
   ]
  },
  {
   "cell_type": "markdown",
   "id": "cb7926c8",
   "metadata": {},
   "source": [
    "nombre_infected       719\n",
    "nombre_sain          2408\n",
    "nombre_exposed        428\n",
    "nombre_recovered    16445\n",
    "Name: 476, dtype: int64"
   ]
  },
  {
   "cell_type": "markdown",
   "id": "3ff25834",
   "metadata": {},
   "source": [
    "nombre_infected       714\n",
    "nombre_sain          2410\n",
    "nombre_exposed        421\n",
    "nombre_recovered    16455\n",
    "Name: 477, dtype: int64"
   ]
  },
  {
   "cell_type": "markdown",
   "id": "ec9695ed",
   "metadata": {},
   "source": [
    "nombre_infected       722\n",
    "nombre_sain          2411\n",
    "nombre_exposed        413\n",
    "nombre_recovered    16454\n",
    "Name: 478, dtype: int64"
   ]
  },
  {
   "cell_type": "markdown",
   "id": "de974de9",
   "metadata": {},
   "source": [
    "nombre_infected       706\n",
    "nombre_sain          2405\n",
    "nombre_exposed        428\n",
    "nombre_recovered    16461\n",
    "Name: 479, dtype: int64"
   ]
  },
  {
   "cell_type": "markdown",
   "id": "9e7a7f7b",
   "metadata": {},
   "source": [
    "nombre_infected       701\n",
    "nombre_sain          2403\n",
    "nombre_exposed        434\n",
    "nombre_recovered    16462\n",
    "Name: 480, dtype: int64"
   ]
  },
  {
   "cell_type": "markdown",
   "id": "c669528d",
   "metadata": {},
   "source": [
    "nombre_infected       719\n",
    "nombre_sain          2408\n",
    "nombre_exposed        429\n",
    "nombre_recovered    16444\n",
    "Name: 481, dtype: int64"
   ]
  },
  {
   "cell_type": "markdown",
   "id": "a9230da5",
   "metadata": {},
   "source": [
    "nombre_infected       743\n",
    "nombre_sain          2390\n",
    "nombre_exposed        446\n",
    "nombre_recovered    16421\n",
    "Name: 482, dtype: int64"
   ]
  },
  {
   "cell_type": "markdown",
   "id": "90d8f195",
   "metadata": {},
   "source": [
    "nombre_infected       756\n",
    "nombre_sain          2369\n",
    "nombre_exposed        457\n",
    "nombre_recovered    16418\n",
    "Name: 483, dtype: int64"
   ]
  },
  {
   "cell_type": "markdown",
   "id": "830a1179",
   "metadata": {},
   "source": [
    "nombre_infected       747\n",
    "nombre_sain          2350\n",
    "nombre_exposed        461\n",
    "nombre_recovered    16442\n",
    "Name: 484, dtype: int64"
   ]
  },
  {
   "cell_type": "markdown",
   "id": "b955fce3",
   "metadata": {},
   "source": [
    "nombre_infected       738\n",
    "nombre_sain          2332\n",
    "nombre_exposed        449\n",
    "nombre_recovered    16481\n",
    "Name: 485, dtype: int64"
   ]
  },
  {
   "cell_type": "markdown",
   "id": "5f79e2b5",
   "metadata": {},
   "source": [
    "nombre_infected       740\n",
    "nombre_sain          2319\n",
    "nombre_exposed        472\n",
    "nombre_recovered    16469\n",
    "Name: 486, dtype: int64"
   ]
  },
  {
   "cell_type": "markdown",
   "id": "c2edb328",
   "metadata": {},
   "source": [
    "nombre_infected       745\n",
    "nombre_sain          2309\n",
    "nombre_exposed        478\n",
    "nombre_recovered    16468\n",
    "Name: 487, dtype: int64"
   ]
  },
  {
   "cell_type": "markdown",
   "id": "47cbb494",
   "metadata": {},
   "source": [
    "nombre_infected       772\n",
    "nombre_sain          2318\n",
    "nombre_exposed        458\n",
    "nombre_recovered    16452\n",
    "Name: 488, dtype: int64"
   ]
  },
  {
   "cell_type": "markdown",
   "id": "30179af5",
   "metadata": {},
   "source": [
    "nombre_infected       773\n",
    "nombre_sain          2308\n",
    "nombre_exposed        454\n",
    "nombre_recovered    16465\n",
    "Name: 489, dtype: int64"
   ]
  },
  {
   "cell_type": "markdown",
   "id": "1c616963",
   "metadata": {},
   "source": [
    "nombre_infected       768\n",
    "nombre_sain          2297\n",
    "nombre_exposed        453\n",
    "nombre_recovered    16482\n",
    "Name: 490, dtype: int64"
   ]
  },
  {
   "cell_type": "markdown",
   "id": "65476256",
   "metadata": {},
   "source": [
    "nombre_infected       755\n",
    "nombre_sain          2298\n",
    "nombre_exposed        456\n",
    "nombre_recovered    16491\n",
    "Name: 491, dtype: int64"
   ]
  },
  {
   "cell_type": "markdown",
   "id": "c24e0ed7",
   "metadata": {},
   "source": [
    "nombre_infected       759\n",
    "nombre_sain          2295\n",
    "nombre_exposed        465\n",
    "nombre_recovered    16481\n",
    "Name: 492, dtype: int64"
   ]
  },
  {
   "cell_type": "markdown",
   "id": "167b6f0f",
   "metadata": {},
   "source": [
    "nombre_infected       782\n",
    "nombre_sain          2279\n",
    "nombre_exposed        469\n",
    "nombre_recovered    16470\n",
    "Name: 493, dtype: int64"
   ]
  },
  {
   "cell_type": "markdown",
   "id": "7691955c",
   "metadata": {},
   "source": [
    "nombre_infected       775\n",
    "nombre_sain          2302\n",
    "nombre_exposed        458\n",
    "nombre_recovered    16465\n",
    "Name: 494, dtype: int64"
   ]
  },
  {
   "cell_type": "markdown",
   "id": "b5d6bf37",
   "metadata": {},
   "source": [
    "nombre_infected       783\n",
    "nombre_sain          2296\n",
    "nombre_exposed        486\n",
    "nombre_recovered    16435\n",
    "Name: 495, dtype: int64"
   ]
  },
  {
   "cell_type": "markdown",
   "id": "21bcd3b5",
   "metadata": {},
   "source": [
    "nombre_infected       805\n",
    "nombre_sain          2276\n",
    "nombre_exposed        498\n",
    "nombre_recovered    16421\n",
    "Name: 496, dtype: int64"
   ]
  },
  {
   "cell_type": "markdown",
   "id": "d3cc0cf1",
   "metadata": {},
   "source": [
    "nombre_infected       822\n",
    "nombre_sain          2258\n",
    "nombre_exposed        496\n",
    "nombre_recovered    16424\n",
    "Name: 497, dtype: int64"
   ]
  },
  {
   "cell_type": "markdown",
   "id": "84235e15",
   "metadata": {},
   "source": [
    "nombre_infected       829\n",
    "nombre_sain          2285\n",
    "nombre_exposed        478\n",
    "nombre_recovered    16408\n",
    "Name: 498, dtype: int64"
   ]
  },
  {
   "cell_type": "markdown",
   "id": "c1e72106",
   "metadata": {},
   "source": [
    "nombre_infected       838\n",
    "nombre_sain          2279\n",
    "nombre_exposed        483\n",
    "nombre_recovered    16400\n",
    "Name: 499, dtype: int64"
   ]
  },
  {
   "cell_type": "markdown",
   "id": "a6cc5a20",
   "metadata": {},
   "source": [
    "nombre_infected       846\n",
    "nombre_sain          2268\n",
    "nombre_exposed        481\n",
    "nombre_recovered    16405\n",
    "Name: 500, dtype: int64"
   ]
  },
  {
   "cell_type": "markdown",
   "id": "8cdce43a",
   "metadata": {},
   "source": [
    "nombre_infected       843\n",
    "nombre_sain          2255\n",
    "nombre_exposed        482\n",
    "nombre_recovered    16420\n",
    "Name: 501, dtype: int64"
   ]
  },
  {
   "cell_type": "markdown",
   "id": "4456d32f",
   "metadata": {},
   "source": [
    "nombre_infected       838\n",
    "nombre_sain          2248\n",
    "nombre_exposed        480\n",
    "nombre_recovered    16434\n",
    "Name: 502, dtype: int64"
   ]
  },
  {
   "cell_type": "markdown",
   "id": "60205376",
   "metadata": {},
   "source": [
    "nombre_infected       845\n",
    "nombre_sain          2255\n",
    "nombre_exposed        467\n",
    "nombre_recovered    16433\n",
    "Name: 503, dtype: int64"
   ]
  },
  {
   "cell_type": "markdown",
   "id": "c9d83086",
   "metadata": {},
   "source": [
    "nombre_infected       848\n",
    "nombre_sain          2249\n",
    "nombre_exposed        456\n",
    "nombre_recovered    16447\n",
    "Name: 504, dtype: int64"
   ]
  },
  {
   "cell_type": "markdown",
   "id": "2f9b879e",
   "metadata": {},
   "source": [
    "nombre_infected       828\n",
    "nombre_sain          2247\n",
    "nombre_exposed        475\n",
    "nombre_recovered    16450\n",
    "Name: 505, dtype: int64"
   ]
  },
  {
   "cell_type": "markdown",
   "id": "5984e1fd",
   "metadata": {},
   "source": [
    "nombre_infected       836\n",
    "nombre_sain          2224\n",
    "nombre_exposed        472\n",
    "nombre_recovered    16468\n",
    "Name: 506, dtype: int64"
   ]
  },
  {
   "cell_type": "markdown",
   "id": "f6f7b8a6",
   "metadata": {},
   "source": [
    "nombre_infected       839\n",
    "nombre_sain          2202\n",
    "nombre_exposed        489\n",
    "nombre_recovered    16470\n",
    "Name: 507, dtype: int64"
   ]
  },
  {
   "cell_type": "markdown",
   "id": "708e8c28",
   "metadata": {},
   "source": [
    "nombre_infected       853\n",
    "nombre_sain          2220\n",
    "nombre_exposed        482\n",
    "nombre_recovered    16445\n",
    "Name: 508, dtype: int64"
   ]
  },
  {
   "cell_type": "markdown",
   "id": "c62bac3c",
   "metadata": {},
   "source": [
    "nombre_infected       857\n",
    "nombre_sain          2201\n",
    "nombre_exposed        483\n",
    "nombre_recovered    16459\n",
    "Name: 509, dtype: int64"
   ]
  },
  {
   "cell_type": "markdown",
   "id": "01e67488",
   "metadata": {},
   "source": [
    "nombre_infected       837\n",
    "nombre_sain          2200\n",
    "nombre_exposed        492\n",
    "nombre_recovered    16471\n",
    "Name: 510, dtype: int64"
   ]
  },
  {
   "cell_type": "markdown",
   "id": "9e695da7",
   "metadata": {},
   "source": [
    "nombre_infected       822\n",
    "nombre_sain          2177\n",
    "nombre_exposed        507\n",
    "nombre_recovered    16494\n",
    "Name: 511, dtype: int64"
   ]
  },
  {
   "cell_type": "markdown",
   "id": "a900860b",
   "metadata": {},
   "source": [
    "nombre_infected       827\n",
    "nombre_sain          2181\n",
    "nombre_exposed        489\n",
    "nombre_recovered    16503\n",
    "Name: 512, dtype: int64"
   ]
  },
  {
   "cell_type": "markdown",
   "id": "fd529382",
   "metadata": {},
   "source": [
    "nombre_infected       818\n",
    "nombre_sain          2181\n",
    "nombre_exposed        470\n",
    "nombre_recovered    16531\n",
    "Name: 513, dtype: int64"
   ]
  },
  {
   "cell_type": "markdown",
   "id": "46cf7e83",
   "metadata": {},
   "source": [
    "nombre_infected       829\n",
    "nombre_sain          2178\n",
    "nombre_exposed        466\n",
    "nombre_recovered    16527\n",
    "Name: 514, dtype: int64"
   ]
  },
  {
   "cell_type": "markdown",
   "id": "41405132",
   "metadata": {},
   "source": [
    "nombre_infected       817\n",
    "nombre_sain          2180\n",
    "nombre_exposed        455\n",
    "nombre_recovered    16548\n",
    "Name: 515, dtype: int64"
   ]
  },
  {
   "cell_type": "markdown",
   "id": "d4ad6074",
   "metadata": {},
   "source": [
    "nombre_infected       823\n",
    "nombre_sain          2158\n",
    "nombre_exposed        451\n",
    "nombre_recovered    16568\n",
    "Name: 516, dtype: int64"
   ]
  },
  {
   "cell_type": "markdown",
   "id": "e5f98ae3",
   "metadata": {},
   "source": [
    "nombre_infected       832\n",
    "nombre_sain          2169\n",
    "nombre_exposed        440\n",
    "nombre_recovered    16559\n",
    "Name: 517, dtype: int64"
   ]
  },
  {
   "cell_type": "markdown",
   "id": "1c83e44e",
   "metadata": {},
   "source": [
    "nombre_infected       823\n",
    "nombre_sain          2128\n",
    "nombre_exposed        472\n",
    "nombre_recovered    16577\n",
    "Name: 518, dtype: int64"
   ]
  },
  {
   "cell_type": "markdown",
   "id": "60c76895",
   "metadata": {},
   "source": [
    "nombre_infected       826\n",
    "nombre_sain          2100\n",
    "nombre_exposed        473\n",
    "nombre_recovered    16601\n",
    "Name: 519, dtype: int64"
   ]
  },
  {
   "cell_type": "markdown",
   "id": "e12c2e23",
   "metadata": {},
   "source": [
    "nombre_infected       830\n",
    "nombre_sain          2084\n",
    "nombre_exposed        466\n",
    "nombre_recovered    16620\n",
    "Name: 520, dtype: int64"
   ]
  },
  {
   "cell_type": "markdown",
   "id": "03156e45",
   "metadata": {},
   "source": [
    "nombre_infected       853\n",
    "nombre_sain          2084\n",
    "nombre_exposed        441\n",
    "nombre_recovered    16622\n",
    "Name: 521, dtype: int64"
   ]
  },
  {
   "cell_type": "markdown",
   "id": "83ebe903",
   "metadata": {},
   "source": [
    "nombre_infected       856\n",
    "nombre_sain          2065\n",
    "nombre_exposed        441\n",
    "nombre_recovered    16638\n",
    "Name: 522, dtype: int64"
   ]
  },
  {
   "cell_type": "markdown",
   "id": "d1c261d1",
   "metadata": {},
   "source": [
    "nombre_infected       853\n",
    "nombre_sain          2052\n",
    "nombre_exposed        437\n",
    "nombre_recovered    16658\n",
    "Name: 523, dtype: int64"
   ]
  },
  {
   "cell_type": "markdown",
   "id": "a2ec361a",
   "metadata": {},
   "source": [
    "nombre_infected       848\n",
    "nombre_sain          2036\n",
    "nombre_exposed        451\n",
    "nombre_recovered    16665\n",
    "Name: 524, dtype: int64"
   ]
  },
  {
   "cell_type": "markdown",
   "id": "345d95a7",
   "metadata": {},
   "source": [
    "nombre_infected       831\n",
    "nombre_sain          2026\n",
    "nombre_exposed        452\n",
    "nombre_recovered    16691\n",
    "Name: 525, dtype: int64"
   ]
  },
  {
   "cell_type": "markdown",
   "id": "4fb465d2",
   "metadata": {},
   "source": [
    "nombre_infected       852\n",
    "nombre_sain          2018\n",
    "nombre_exposed        438\n",
    "nombre_recovered    16692\n",
    "Name: 526, dtype: int64"
   ]
  },
  {
   "cell_type": "markdown",
   "id": "ecbed921",
   "metadata": {},
   "source": [
    "nombre_infected       866\n",
    "nombre_sain          2016\n",
    "nombre_exposed        433\n",
    "nombre_recovered    16685\n",
    "Name: 527, dtype: int64"
   ]
  },
  {
   "cell_type": "markdown",
   "id": "fb475bea",
   "metadata": {},
   "source": [
    "nombre_infected       852\n",
    "nombre_sain          2027\n",
    "nombre_exposed        434\n",
    "nombre_recovered    16687\n",
    "Name: 528, dtype: int64"
   ]
  },
  {
   "cell_type": "markdown",
   "id": "359a27f6",
   "metadata": {},
   "source": [
    "nombre_infected       838\n",
    "nombre_sain          2044\n",
    "nombre_exposed        439\n",
    "nombre_recovered    16679\n",
    "Name: 529, dtype: int64"
   ]
  },
  {
   "cell_type": "markdown",
   "id": "f852ac86",
   "metadata": {},
   "source": [
    "nombre_infected       825\n",
    "nombre_sain          2037\n",
    "nombre_exposed        436\n",
    "nombre_recovered    16702\n",
    "Name: 530, dtype: int64"
   ]
  },
  {
   "cell_type": "markdown",
   "id": "0a85680f",
   "metadata": {},
   "source": [
    "nombre_infected       830\n",
    "nombre_sain          2044\n",
    "nombre_exposed        420\n",
    "nombre_recovered    16706\n",
    "Name: 531, dtype: int64"
   ]
  },
  {
   "cell_type": "markdown",
   "id": "1c83b0be",
   "metadata": {},
   "source": [
    "nombre_infected       817\n",
    "nombre_sain          2061\n",
    "nombre_exposed        413\n",
    "nombre_recovered    16709\n",
    "Name: 532, dtype: int64"
   ]
  },
  {
   "cell_type": "markdown",
   "id": "285b431e",
   "metadata": {},
   "source": [
    "nombre_infected       800\n",
    "nombre_sain          2089\n",
    "nombre_exposed        434\n",
    "nombre_recovered    16677\n",
    "Name: 533, dtype: int64"
   ]
  },
  {
   "cell_type": "markdown",
   "id": "cef75250",
   "metadata": {},
   "source": [
    "nombre_infected       790\n",
    "nombre_sain          2095\n",
    "nombre_exposed        449\n",
    "nombre_recovered    16666\n",
    "Name: 534, dtype: int64"
   ]
  },
  {
   "cell_type": "markdown",
   "id": "5f49c2e3",
   "metadata": {},
   "source": [
    "nombre_infected       781\n",
    "nombre_sain          2106\n",
    "nombre_exposed        436\n",
    "nombre_recovered    16677\n",
    "Name: 535, dtype: int64"
   ]
  },
  {
   "cell_type": "markdown",
   "id": "2ec2f00c",
   "metadata": {},
   "source": [
    "nombre_infected       797\n",
    "nombre_sain          2101\n",
    "nombre_exposed        434\n",
    "nombre_recovered    16668\n",
    "Name: 536, dtype: int64"
   ]
  },
  {
   "cell_type": "markdown",
   "id": "9707900e",
   "metadata": {},
   "source": [
    "nombre_infected       812\n",
    "nombre_sain          2100\n",
    "nombre_exposed        416\n",
    "nombre_recovered    16672\n",
    "Name: 537, dtype: int64"
   ]
  },
  {
   "cell_type": "markdown",
   "id": "5337ba48",
   "metadata": {},
   "source": [
    "nombre_infected       801\n",
    "nombre_sain          2098\n",
    "nombre_exposed        431\n",
    "nombre_recovered    16670\n",
    "Name: 538, dtype: int64"
   ]
  },
  {
   "cell_type": "markdown",
   "id": "f496e6b1",
   "metadata": {},
   "source": [
    "nombre_infected       804\n",
    "nombre_sain          2063\n",
    "nombre_exposed        453\n",
    "nombre_recovered    16680\n",
    "Name: 539, dtype: int64"
   ]
  },
  {
   "cell_type": "markdown",
   "id": "56190b19",
   "metadata": {},
   "source": [
    "nombre_infected       795\n",
    "nombre_sain          2054\n",
    "nombre_exposed        457\n",
    "nombre_recovered    16694\n",
    "Name: 540, dtype: int64"
   ]
  },
  {
   "cell_type": "markdown",
   "id": "56b6cb00",
   "metadata": {},
   "source": [
    "nombre_infected       800\n",
    "nombre_sain          2024\n",
    "nombre_exposed        455\n",
    "nombre_recovered    16721\n",
    "Name: 541, dtype: int64"
   ]
  },
  {
   "cell_type": "markdown",
   "id": "480f4371",
   "metadata": {},
   "source": [
    "nombre_infected       769\n",
    "nombre_sain          2039\n",
    "nombre_exposed        452\n",
    "nombre_recovered    16740\n",
    "Name: 542, dtype: int64"
   ]
  },
  {
   "cell_type": "markdown",
   "id": "3cb35b0d",
   "metadata": {},
   "source": [
    "nombre_infected       773\n",
    "nombre_sain          2054\n",
    "nombre_exposed        443\n",
    "nombre_recovered    16730\n",
    "Name: 543, dtype: int64"
   ]
  },
  {
   "cell_type": "markdown",
   "id": "d622b2b5",
   "metadata": {},
   "source": [
    "nombre_infected       783\n",
    "nombre_sain          2051\n",
    "nombre_exposed        427\n",
    "nombre_recovered    16739\n",
    "Name: 544, dtype: int64"
   ]
  },
  {
   "cell_type": "markdown",
   "id": "a35622bb",
   "metadata": {},
   "source": [
    "nombre_infected       774\n",
    "nombre_sain          2035\n",
    "nombre_exposed        438\n",
    "nombre_recovered    16753\n",
    "Name: 545, dtype: int64"
   ]
  },
  {
   "cell_type": "markdown",
   "id": "36a4463e",
   "metadata": {},
   "source": [
    "nombre_infected       772\n",
    "nombre_sain          2043\n",
    "nombre_exposed        431\n",
    "nombre_recovered    16754\n",
    "Name: 546, dtype: int64"
   ]
  },
  {
   "cell_type": "markdown",
   "id": "4300fed3",
   "metadata": {},
   "source": [
    "nombre_infected       766\n",
    "nombre_sain          2044\n",
    "nombre_exposed        430\n",
    "nombre_recovered    16760\n",
    "Name: 547, dtype: int64"
   ]
  },
  {
   "cell_type": "markdown",
   "id": "b20bc5e5",
   "metadata": {},
   "source": [
    "nombre_infected       749\n",
    "nombre_sain          2076\n",
    "nombre_exposed        432\n",
    "nombre_recovered    16743\n",
    "Name: 548, dtype: int64"
   ]
  },
  {
   "cell_type": "markdown",
   "id": "233b893c",
   "metadata": {},
   "source": [
    "nombre_infected       746\n",
    "nombre_sain          2076\n",
    "nombre_exposed        439\n",
    "nombre_recovered    16739\n",
    "Name: 549, dtype: int64"
   ]
  },
  {
   "cell_type": "markdown",
   "id": "d3a08d76",
   "metadata": {},
   "source": [
    "nombre_infected       733\n",
    "nombre_sain          2095\n",
    "nombre_exposed        437\n",
    "nombre_recovered    16735\n",
    "Name: 550, dtype: int64"
   ]
  },
  {
   "cell_type": "markdown",
   "id": "c4f88cdb",
   "metadata": {},
   "source": [
    "nombre_infected       731\n",
    "nombre_sain          2105\n",
    "nombre_exposed        426\n",
    "nombre_recovered    16738\n",
    "Name: 551, dtype: int64"
   ]
  },
  {
   "cell_type": "markdown",
   "id": "23efe2ee",
   "metadata": {},
   "source": [
    "nombre_infected       709\n",
    "nombre_sain          2107\n",
    "nombre_exposed        444\n",
    "nombre_recovered    16740\n",
    "Name: 552, dtype: int64"
   ]
  },
  {
   "cell_type": "markdown",
   "id": "91c8b53c",
   "metadata": {},
   "source": [
    "nombre_infected       708\n",
    "nombre_sain          2113\n",
    "nombre_exposed        428\n",
    "nombre_recovered    16751\n",
    "Name: 553, dtype: int64"
   ]
  },
  {
   "cell_type": "markdown",
   "id": "853e1747",
   "metadata": {},
   "source": [
    "nombre_infected       710\n",
    "nombre_sain          2127\n",
    "nombre_exposed        411\n",
    "nombre_recovered    16752\n",
    "Name: 554, dtype: int64"
   ]
  },
  {
   "cell_type": "markdown",
   "id": "c4b50fb9",
   "metadata": {},
   "source": [
    "nombre_infected       714\n",
    "nombre_sain          2108\n",
    "nombre_exposed        419\n",
    "nombre_recovered    16759\n",
    "Name: 555, dtype: int64"
   ]
  },
  {
   "cell_type": "markdown",
   "id": "1c600360",
   "metadata": {},
   "source": [
    "nombre_infected       707\n",
    "nombre_sain          2132\n",
    "nombre_exposed        402\n",
    "nombre_recovered    16759\n",
    "Name: 556, dtype: int64"
   ]
  },
  {
   "cell_type": "markdown",
   "id": "805043db",
   "metadata": {},
   "source": [
    "nombre_infected       703\n",
    "nombre_sain          2138\n",
    "nombre_exposed        426\n",
    "nombre_recovered    16733\n",
    "Name: 557, dtype: int64"
   ]
  },
  {
   "cell_type": "markdown",
   "id": "50e27e5a",
   "metadata": {},
   "source": [
    "nombre_infected       683\n",
    "nombre_sain          2160\n",
    "nombre_exposed        434\n",
    "nombre_recovered    16723\n",
    "Name: 558, dtype: int64"
   ]
  },
  {
   "cell_type": "markdown",
   "id": "bfb770f0",
   "metadata": {},
   "source": [
    "nombre_infected       681\n",
    "nombre_sain          2169\n",
    "nombre_exposed        435\n",
    "nombre_recovered    16715\n",
    "Name: 559, dtype: int64"
   ]
  },
  {
   "cell_type": "markdown",
   "id": "349ca60b",
   "metadata": {},
   "source": [
    "nombre_infected       683\n",
    "nombre_sain          2190\n",
    "nombre_exposed        434\n",
    "nombre_recovered    16693\n",
    "Name: 560, dtype: int64"
   ]
  },
  {
   "cell_type": "markdown",
   "id": "e88498dd",
   "metadata": {},
   "source": [
    "nombre_infected       677\n",
    "nombre_sain          2199\n",
    "nombre_exposed        443\n",
    "nombre_recovered    16681\n",
    "Name: 561, dtype: int64"
   ]
  },
  {
   "cell_type": "markdown",
   "id": "2cdf88de",
   "metadata": {},
   "source": [
    "nombre_infected       689\n",
    "nombre_sain          2216\n",
    "nombre_exposed        428\n",
    "nombre_recovered    16667\n",
    "Name: 562, dtype: int64"
   ]
  },
  {
   "cell_type": "markdown",
   "id": "919f63bf",
   "metadata": {},
   "source": [
    "nombre_infected       689\n",
    "nombre_sain          2229\n",
    "nombre_exposed        438\n",
    "nombre_recovered    16644\n",
    "Name: 563, dtype: int64"
   ]
  },
  {
   "cell_type": "markdown",
   "id": "45d5219e",
   "metadata": {},
   "source": [
    "nombre_infected       705\n",
    "nombre_sain          2251\n",
    "nombre_exposed        419\n",
    "nombre_recovered    16625\n",
    "Name: 564, dtype: int64"
   ]
  },
  {
   "cell_type": "markdown",
   "id": "afa38c76",
   "metadata": {},
   "source": [
    "nombre_infected       718\n",
    "nombre_sain          2253\n",
    "nombre_exposed        425\n",
    "nombre_recovered    16604\n",
    "Name: 565, dtype: int64"
   ]
  },
  {
   "cell_type": "markdown",
   "id": "cd843e6d",
   "metadata": {},
   "source": [
    "nombre_infected       742\n",
    "nombre_sain          2243\n",
    "nombre_exposed        441\n",
    "nombre_recovered    16574\n",
    "Name: 566, dtype: int64"
   ]
  },
  {
   "cell_type": "markdown",
   "id": "e0d1fbf4",
   "metadata": {},
   "source": [
    "nombre_infected       739\n",
    "nombre_sain          2235\n",
    "nombre_exposed        439\n",
    "nombre_recovered    16587\n",
    "Name: 567, dtype: int64"
   ]
  },
  {
   "cell_type": "markdown",
   "id": "57a5d33e",
   "metadata": {},
   "source": [
    "nombre_infected       745\n",
    "nombre_sain          2244\n",
    "nombre_exposed        431\n",
    "nombre_recovered    16580\n",
    "Name: 568, dtype: int64"
   ]
  },
  {
   "cell_type": "markdown",
   "id": "5000ecd6",
   "metadata": {},
   "source": [
    "nombre_infected       735\n",
    "nombre_sain          2252\n",
    "nombre_exposed        438\n",
    "nombre_recovered    16575\n",
    "Name: 569, dtype: int64"
   ]
  },
  {
   "cell_type": "markdown",
   "id": "6f4aa721",
   "metadata": {},
   "source": [
    "nombre_infected       727\n",
    "nombre_sain          2261\n",
    "nombre_exposed        445\n",
    "nombre_recovered    16567\n",
    "Name: 570, dtype: int64"
   ]
  },
  {
   "cell_type": "markdown",
   "id": "2db6bb12",
   "metadata": {},
   "source": [
    "nombre_infected       720\n",
    "nombre_sain          2288\n",
    "nombre_exposed        441\n",
    "nombre_recovered    16551\n",
    "Name: 571, dtype: int64"
   ]
  },
  {
   "cell_type": "markdown",
   "id": "4389b257",
   "metadata": {},
   "source": [
    "nombre_infected       733\n",
    "nombre_sain          2321\n",
    "nombre_exposed        435\n",
    "nombre_recovered    16511\n",
    "Name: 572, dtype: int64"
   ]
  },
  {
   "cell_type": "markdown",
   "id": "59c975b4",
   "metadata": {},
   "source": [
    "nombre_infected       722\n",
    "nombre_sain          2350\n",
    "nombre_exposed        451\n",
    "nombre_recovered    16477\n",
    "Name: 573, dtype: int64"
   ]
  },
  {
   "cell_type": "markdown",
   "id": "6fa3857d",
   "metadata": {},
   "source": [
    "nombre_infected       720\n",
    "nombre_sain          2377\n",
    "nombre_exposed        465\n",
    "nombre_recovered    16438\n",
    "Name: 574, dtype: int64"
   ]
  },
  {
   "cell_type": "markdown",
   "id": "3db365df",
   "metadata": {},
   "source": [
    "nombre_infected       724\n",
    "nombre_sain          2385\n",
    "nombre_exposed        488\n",
    "nombre_recovered    16403\n",
    "Name: 575, dtype: int64"
   ]
  },
  {
   "cell_type": "markdown",
   "id": "bf8fcd34",
   "metadata": {},
   "source": [
    "nombre_infected       714\n",
    "nombre_sain          2395\n",
    "nombre_exposed        511\n",
    "nombre_recovered    16380\n",
    "Name: 576, dtype: int64"
   ]
  },
  {
   "cell_type": "markdown",
   "id": "de9fb428",
   "metadata": {},
   "source": [
    "nombre_infected       756\n",
    "nombre_sain          2404\n",
    "nombre_exposed        501\n",
    "nombre_recovered    16339\n",
    "Name: 577, dtype: int64"
   ]
  },
  {
   "cell_type": "markdown",
   "id": "6e616e42",
   "metadata": {},
   "source": [
    "nombre_infected       772\n",
    "nombre_sain          2394\n",
    "nombre_exposed        525\n",
    "nombre_recovered    16309\n",
    "Name: 578, dtype: int64"
   ]
  },
  {
   "cell_type": "markdown",
   "id": "c430e15e",
   "metadata": {},
   "source": [
    "nombre_infected       772\n",
    "nombre_sain          2381\n",
    "nombre_exposed        541\n",
    "nombre_recovered    16306\n",
    "Name: 579, dtype: int64"
   ]
  },
  {
   "cell_type": "markdown",
   "id": "19ceb9c2",
   "metadata": {},
   "source": [
    "nombre_infected       786\n",
    "nombre_sain          2365\n",
    "nombre_exposed        560\n",
    "nombre_recovered    16289\n",
    "Name: 580, dtype: int64"
   ]
  },
  {
   "cell_type": "markdown",
   "id": "24a4aaaa",
   "metadata": {},
   "source": [
    "nombre_infected       799\n",
    "nombre_sain          2375\n",
    "nombre_exposed        568\n",
    "nombre_recovered    16258\n",
    "Name: 581, dtype: int64"
   ]
  },
  {
   "cell_type": "markdown",
   "id": "2d25abee",
   "metadata": {},
   "source": [
    "nombre_infected       808\n",
    "nombre_sain          2369\n",
    "nombre_exposed        562\n",
    "nombre_recovered    16261\n",
    "Name: 582, dtype: int64"
   ]
  },
  {
   "cell_type": "markdown",
   "id": "55babffe",
   "metadata": {},
   "source": [
    "nombre_infected       818\n",
    "nombre_sain          2346\n",
    "nombre_exposed        554\n",
    "nombre_recovered    16282\n",
    "Name: 583, dtype: int64"
   ]
  },
  {
   "cell_type": "markdown",
   "id": "b9ac5b95",
   "metadata": {},
   "source": [
    "nombre_infected       811\n",
    "nombre_sain          2319\n",
    "nombre_exposed        584\n",
    "nombre_recovered    16286\n",
    "Name: 584, dtype: int64"
   ]
  },
  {
   "cell_type": "markdown",
   "id": "0491c853",
   "metadata": {},
   "source": [
    "nombre_infected       827\n",
    "nombre_sain          2309\n",
    "nombre_exposed        584\n",
    "nombre_recovered    16280\n",
    "Name: 585, dtype: int64"
   ]
  },
  {
   "cell_type": "markdown",
   "id": "cfc9cdc3",
   "metadata": {},
   "source": [
    "nombre_infected       854\n",
    "nombre_sain          2308\n",
    "nombre_exposed        578\n",
    "nombre_recovered    16260\n",
    "Name: 586, dtype: int64"
   ]
  },
  {
   "cell_type": "markdown",
   "id": "f5367d35",
   "metadata": {},
   "source": [
    "nombre_infected       880\n",
    "nombre_sain          2320\n",
    "nombre_exposed        569\n",
    "nombre_recovered    16231\n",
    "Name: 587, dtype: int64"
   ]
  },
  {
   "cell_type": "markdown",
   "id": "44e34720",
   "metadata": {},
   "source": [
    "nombre_infected       908\n",
    "nombre_sain          2307\n",
    "nombre_exposed        561\n",
    "nombre_recovered    16224\n",
    "Name: 588, dtype: int64"
   ]
  },
  {
   "cell_type": "markdown",
   "id": "08411a82",
   "metadata": {},
   "source": [
    "nombre_infected       873\n",
    "nombre_sain          2276\n",
    "nombre_exposed        597\n",
    "nombre_recovered    16254\n",
    "Name: 589, dtype: int64"
   ]
  },
  {
   "cell_type": "markdown",
   "id": "f55e75d1",
   "metadata": {},
   "source": [
    "nombre_infected       893\n",
    "nombre_sain          2249\n",
    "nombre_exposed        606\n",
    "nombre_recovered    16252\n",
    "Name: 590, dtype: int64"
   ]
  },
  {
   "cell_type": "markdown",
   "id": "40b78adc",
   "metadata": {},
   "source": [
    "nombre_infected       914\n",
    "nombre_sain          2213\n",
    "nombre_exposed        614\n",
    "nombre_recovered    16259\n",
    "Name: 591, dtype: int64"
   ]
  },
  {
   "cell_type": "markdown",
   "id": "d384fde1",
   "metadata": {},
   "source": [
    "nombre_infected       927\n",
    "nombre_sain          2195\n",
    "nombre_exposed        600\n",
    "nombre_recovered    16278\n",
    "Name: 592, dtype: int64"
   ]
  },
  {
   "cell_type": "markdown",
   "id": "9cc2f81a",
   "metadata": {},
   "source": [
    "nombre_infected       954\n",
    "nombre_sain          2187\n",
    "nombre_exposed        586\n",
    "nombre_recovered    16273\n",
    "Name: 593, dtype: int64"
   ]
  },
  {
   "cell_type": "markdown",
   "id": "2e778be2",
   "metadata": {},
   "source": [
    "nombre_infected       970\n",
    "nombre_sain          2144\n",
    "nombre_exposed        588\n",
    "nombre_recovered    16298\n",
    "Name: 594, dtype: int64"
   ]
  },
  {
   "cell_type": "markdown",
   "id": "c33c7cf0",
   "metadata": {},
   "source": [
    "nombre_infected       969\n",
    "nombre_sain          2139\n",
    "nombre_exposed        584\n",
    "nombre_recovered    16308\n",
    "Name: 595, dtype: int64"
   ]
  },
  {
   "cell_type": "markdown",
   "id": "72086d84",
   "metadata": {},
   "source": [
    "nombre_infected       962\n",
    "nombre_sain          2125\n",
    "nombre_exposed        584\n",
    "nombre_recovered    16329\n",
    "Name: 596, dtype: int64"
   ]
  },
  {
   "cell_type": "markdown",
   "id": "f1d088c2",
   "metadata": {},
   "source": [
    "nombre_infected       965\n",
    "nombre_sain          2119\n",
    "nombre_exposed        582\n",
    "nombre_recovered    16334\n",
    "Name: 597, dtype: int64"
   ]
  },
  {
   "cell_type": "markdown",
   "id": "e31aa5ca",
   "metadata": {},
   "source": [
    "nombre_infected       964\n",
    "nombre_sain          2112\n",
    "nombre_exposed        585\n",
    "nombre_recovered    16339\n",
    "Name: 598, dtype: int64"
   ]
  },
  {
   "cell_type": "markdown",
   "id": "f1e1b3e5",
   "metadata": {},
   "source": [
    "nombre_infected       987\n",
    "nombre_sain          2096\n",
    "nombre_exposed        582\n",
    "nombre_recovered    16335\n",
    "Name: 599, dtype: int64"
   ]
  },
  {
   "cell_type": "markdown",
   "id": "5ed5995e",
   "metadata": {},
   "source": [
    "nombre_infected       986\n",
    "nombre_sain          2074\n",
    "nombre_exposed        579\n",
    "nombre_recovered    16361\n",
    "Name: 600, dtype: int64"
   ]
  },
  {
   "cell_type": "markdown",
   "id": "842c7913",
   "metadata": {},
   "source": [
    "nombre_infected       982\n",
    "nombre_sain          2040\n",
    "nombre_exposed        572\n",
    "nombre_recovered    16406\n",
    "Name: 601, dtype: int64"
   ]
  },
  {
   "cell_type": "markdown",
   "id": "976b93ee",
   "metadata": {},
   "source": [
    "nombre_infected       974\n",
    "nombre_sain          2031\n",
    "nombre_exposed        561\n",
    "nombre_recovered    16434\n",
    "Name: 602, dtype: int64"
   ]
  },
  {
   "cell_type": "markdown",
   "id": "3042ccaa",
   "metadata": {},
   "source": [
    "nombre_infected       983\n",
    "nombre_sain          2019\n",
    "nombre_exposed        547\n",
    "nombre_recovered    16451\n",
    "Name: 603, dtype: int64"
   ]
  },
  {
   "cell_type": "markdown",
   "id": "82ac819d",
   "metadata": {},
   "source": [
    "nombre_infected       998\n",
    "nombre_sain          2038\n",
    "nombre_exposed        500\n",
    "nombre_recovered    16464\n",
    "Name: 604, dtype: int64"
   ]
  },
  {
   "cell_type": "markdown",
   "id": "ad7621e3",
   "metadata": {},
   "source": [
    "nombre_infected       995\n",
    "nombre_sain          2017\n",
    "nombre_exposed        520\n",
    "nombre_recovered    16468\n",
    "Name: 605, dtype: int64"
   ]
  },
  {
   "cell_type": "markdown",
   "id": "09475e12",
   "metadata": {},
   "source": [
    "nombre_infected       990\n",
    "nombre_sain          1999\n",
    "nombre_exposed        515\n",
    "nombre_recovered    16496\n",
    "Name: 606, dtype: int64"
   ]
  },
  {
   "cell_type": "markdown",
   "id": "7d135c6b",
   "metadata": {},
   "source": [
    "nombre_infected       970\n",
    "nombre_sain          1974\n",
    "nombre_exposed        521\n",
    "nombre_recovered    16535\n",
    "Name: 607, dtype: int64"
   ]
  },
  {
   "cell_type": "markdown",
   "id": "489a3f4f",
   "metadata": {},
   "source": [
    "nombre_infected       975\n",
    "nombre_sain          1965\n",
    "nombre_exposed        532\n",
    "nombre_recovered    16528\n",
    "Name: 608, dtype: int64"
   ]
  },
  {
   "cell_type": "markdown",
   "id": "f27fe278",
   "metadata": {},
   "source": [
    "nombre_infected       965\n",
    "nombre_sain          1950\n",
    "nombre_exposed        534\n",
    "nombre_recovered    16551\n",
    "Name: 609, dtype: int64"
   ]
  },
  {
   "cell_type": "markdown",
   "id": "bd177338",
   "metadata": {},
   "source": [
    "nombre_infected       938\n",
    "nombre_sain          1938\n",
    "nombre_exposed        537\n",
    "nombre_recovered    16587\n",
    "Name: 610, dtype: int64"
   ]
  },
  {
   "cell_type": "markdown",
   "id": "1d75088e",
   "metadata": {},
   "source": [
    "nombre_infected       937\n",
    "nombre_sain          1942\n",
    "nombre_exposed        524\n",
    "nombre_recovered    16597\n",
    "Name: 611, dtype: int64"
   ]
  },
  {
   "cell_type": "markdown",
   "id": "38c9fd19",
   "metadata": {},
   "source": [
    "nombre_infected       964\n",
    "nombre_sain          1928\n",
    "nombre_exposed        500\n",
    "nombre_recovered    16608\n",
    "Name: 612, dtype: int64"
   ]
  },
  {
   "cell_type": "markdown",
   "id": "1bc6f97f",
   "metadata": {},
   "source": [
    "nombre_infected       957\n",
    "nombre_sain          1955\n",
    "nombre_exposed        498\n",
    "nombre_recovered    16590\n",
    "Name: 613, dtype: int64"
   ]
  },
  {
   "cell_type": "markdown",
   "id": "7d62616b",
   "metadata": {},
   "source": [
    "nombre_infected       942\n",
    "nombre_sain          1949\n",
    "nombre_exposed        512\n",
    "nombre_recovered    16597\n",
    "Name: 614, dtype: int64"
   ]
  },
  {
   "cell_type": "markdown",
   "id": "5d7e4ab5",
   "metadata": {},
   "source": [
    "nombre_infected       909\n",
    "nombre_sain          1960\n",
    "nombre_exposed        505\n",
    "nombre_recovered    16626\n",
    "Name: 615, dtype: int64"
   ]
  },
  {
   "cell_type": "markdown",
   "id": "9e9bcadc",
   "metadata": {},
   "source": [
    "nombre_infected       919\n",
    "nombre_sain          1963\n",
    "nombre_exposed        480\n",
    "nombre_recovered    16638\n",
    "Name: 616, dtype: int64"
   ]
  },
  {
   "cell_type": "markdown",
   "id": "c4a073dd",
   "metadata": {},
   "source": [
    "nombre_infected       899\n",
    "nombre_sain          1985\n",
    "nombre_exposed        472\n",
    "nombre_recovered    16644\n",
    "Name: 617, dtype: int64"
   ]
  },
  {
   "cell_type": "markdown",
   "id": "9a2d7175",
   "metadata": {},
   "source": [
    "nombre_infected       854\n",
    "nombre_sain          2000\n",
    "nombre_exposed        488\n",
    "nombre_recovered    16658\n",
    "Name: 618, dtype: int64"
   ]
  },
  {
   "cell_type": "markdown",
   "id": "69e01cc4",
   "metadata": {},
   "source": [
    "nombre_infected       836\n",
    "nombre_sain          1992\n",
    "nombre_exposed        506\n",
    "nombre_recovered    16666\n",
    "Name: 619, dtype: int64"
   ]
  },
  {
   "cell_type": "markdown",
   "id": "4eae9fde",
   "metadata": {},
   "source": [
    "nombre_infected       795\n",
    "nombre_sain          2016\n",
    "nombre_exposed        522\n",
    "nombre_recovered    16667\n",
    "Name: 620, dtype: int64"
   ]
  },
  {
   "cell_type": "markdown",
   "id": "2995cb18",
   "metadata": {},
   "source": [
    "nombre_infected       804\n",
    "nombre_sain          2025\n",
    "nombre_exposed        500\n",
    "nombre_recovered    16671\n",
    "Name: 621, dtype: int64"
   ]
  },
  {
   "cell_type": "markdown",
   "id": "687f7ef6",
   "metadata": {},
   "source": [
    "nombre_infected       814\n",
    "nombre_sain          2036\n",
    "nombre_exposed        488\n",
    "nombre_recovered    16662\n",
    "Name: 622, dtype: int64"
   ]
  },
  {
   "cell_type": "markdown",
   "id": "10ef313e",
   "metadata": {},
   "source": [
    "nombre_infected       797\n",
    "nombre_sain          2018\n",
    "nombre_exposed        494\n",
    "nombre_recovered    16691\n",
    "Name: 623, dtype: int64"
   ]
  },
  {
   "cell_type": "markdown",
   "id": "08bfb4d1",
   "metadata": {},
   "source": [
    "nombre_infected       818\n",
    "nombre_sain          2025\n",
    "nombre_exposed        474\n",
    "nombre_recovered    16683\n",
    "Name: 624, dtype: int64"
   ]
  },
  {
   "cell_type": "markdown",
   "id": "c5a08466",
   "metadata": {},
   "source": [
    "nombre_infected       813\n",
    "nombre_sain          2040\n",
    "nombre_exposed        463\n",
    "nombre_recovered    16684\n",
    "Name: 625, dtype: int64"
   ]
  },
  {
   "cell_type": "markdown",
   "id": "fcfa4c8a",
   "metadata": {},
   "source": [
    "nombre_infected       795\n",
    "nombre_sain          2042\n",
    "nombre_exposed        451\n",
    "nombre_recovered    16712\n",
    "Name: 626, dtype: int64"
   ]
  },
  {
   "cell_type": "markdown",
   "id": "421eb40c",
   "metadata": {},
   "source": [
    "nombre_infected       777\n",
    "nombre_sain          2053\n",
    "nombre_exposed        473\n",
    "nombre_recovered    16697\n",
    "Name: 627, dtype: int64"
   ]
  },
  {
   "cell_type": "markdown",
   "id": "e112e59d",
   "metadata": {},
   "source": [
    "nombre_infected       767\n",
    "nombre_sain          2097\n",
    "nombre_exposed        468\n",
    "nombre_recovered    16668\n",
    "Name: 628, dtype: int64"
   ]
  },
  {
   "cell_type": "markdown",
   "id": "dd81dcca",
   "metadata": {},
   "source": [
    "nombre_infected       763\n",
    "nombre_sain          2115\n",
    "nombre_exposed        451\n",
    "nombre_recovered    16671\n",
    "Name: 629, dtype: int64"
   ]
  },
  {
   "cell_type": "markdown",
   "id": "9dcd22e3",
   "metadata": {},
   "source": [
    "nombre_infected       764\n",
    "nombre_sain          2133\n",
    "nombre_exposed        439\n",
    "nombre_recovered    16664\n",
    "Name: 630, dtype: int64"
   ]
  },
  {
   "cell_type": "markdown",
   "id": "5b0b876d",
   "metadata": {},
   "source": [
    "nombre_infected       747\n",
    "nombre_sain          2133\n",
    "nombre_exposed        457\n",
    "nombre_recovered    16663\n",
    "Name: 631, dtype: int64"
   ]
  },
  {
   "cell_type": "markdown",
   "id": "e3fb0eef",
   "metadata": {},
   "source": [
    "nombre_infected       760\n",
    "nombre_sain          2137\n",
    "nombre_exposed        443\n",
    "nombre_recovered    16660\n",
    "Name: 632, dtype: int64"
   ]
  },
  {
   "cell_type": "markdown",
   "id": "465d5db2",
   "metadata": {},
   "source": [
    "nombre_infected       736\n",
    "nombre_sain          2155\n",
    "nombre_exposed        461\n",
    "nombre_recovered    16648\n",
    "Name: 633, dtype: int64"
   ]
  },
  {
   "cell_type": "markdown",
   "id": "230907b4",
   "metadata": {},
   "source": [
    "nombre_infected       732\n",
    "nombre_sain          2152\n",
    "nombre_exposed        445\n",
    "nombre_recovered    16671\n",
    "Name: 634, dtype: int64"
   ]
  },
  {
   "cell_type": "markdown",
   "id": "4cde12ca",
   "metadata": {},
   "source": [
    "nombre_infected       723\n",
    "nombre_sain          2163\n",
    "nombre_exposed        445\n",
    "nombre_recovered    16669\n",
    "Name: 635, dtype: int64"
   ]
  },
  {
   "cell_type": "markdown",
   "id": "4d76bd99",
   "metadata": {},
   "source": [
    "nombre_infected       727\n",
    "nombre_sain          2145\n",
    "nombre_exposed        455\n",
    "nombre_recovered    16673\n",
    "Name: 636, dtype: int64"
   ]
  },
  {
   "cell_type": "markdown",
   "id": "807ed82e",
   "metadata": {},
   "source": [
    "nombre_infected       729\n",
    "nombre_sain          2150\n",
    "nombre_exposed        446\n",
    "nombre_recovered    16675\n",
    "Name: 637, dtype: int64"
   ]
  },
  {
   "cell_type": "markdown",
   "id": "ab4686f9",
   "metadata": {},
   "source": [
    "nombre_infected       725\n",
    "nombre_sain          2136\n",
    "nombre_exposed        435\n",
    "nombre_recovered    16704\n",
    "Name: 638, dtype: int64"
   ]
  },
  {
   "cell_type": "markdown",
   "id": "cdd02ec6",
   "metadata": {},
   "source": [
    "nombre_infected       720\n",
    "nombre_sain          2151\n",
    "nombre_exposed        438\n",
    "nombre_recovered    16691\n",
    "Name: 639, dtype: int64"
   ]
  },
  {
   "cell_type": "markdown",
   "id": "a62264ca",
   "metadata": {},
   "source": [
    "nombre_infected       727\n",
    "nombre_sain          2145\n",
    "nombre_exposed        440\n",
    "nombre_recovered    16688\n",
    "Name: 640, dtype: int64"
   ]
  },
  {
   "cell_type": "markdown",
   "id": "31e73139",
   "metadata": {},
   "source": [
    "nombre_infected       725\n",
    "nombre_sain          2138\n",
    "nombre_exposed        458\n",
    "nombre_recovered    16679\n",
    "Name: 641, dtype: int64"
   ]
  },
  {
   "cell_type": "markdown",
   "id": "900536fe",
   "metadata": {},
   "source": [
    "nombre_infected       719\n",
    "nombre_sain          2144\n",
    "nombre_exposed        462\n",
    "nombre_recovered    16675\n",
    "Name: 642, dtype: int64"
   ]
  },
  {
   "cell_type": "markdown",
   "id": "70395a4f",
   "metadata": {},
   "source": [
    "nombre_infected       736\n",
    "nombre_sain          2154\n",
    "nombre_exposed        455\n",
    "nombre_recovered    16655\n",
    "Name: 643, dtype: int64"
   ]
  },
  {
   "cell_type": "markdown",
   "id": "597cef1f",
   "metadata": {},
   "source": [
    "nombre_infected       743\n",
    "nombre_sain          2137\n",
    "nombre_exposed        447\n",
    "nombre_recovered    16673\n",
    "Name: 644, dtype: int64"
   ]
  },
  {
   "cell_type": "markdown",
   "id": "cdad27a6",
   "metadata": {},
   "source": [
    "nombre_infected       723\n",
    "nombre_sain          2144\n",
    "nombre_exposed        453\n",
    "nombre_recovered    16680\n",
    "Name: 645, dtype: int64"
   ]
  },
  {
   "cell_type": "markdown",
   "id": "e08e9c8b",
   "metadata": {},
   "source": [
    "nombre_infected       726\n",
    "nombre_sain          2170\n",
    "nombre_exposed        430\n",
    "nombre_recovered    16674\n",
    "Name: 646, dtype: int64"
   ]
  },
  {
   "cell_type": "markdown",
   "id": "efa7df16",
   "metadata": {},
   "source": [
    "nombre_infected       716\n",
    "nombre_sain          2182\n",
    "nombre_exposed        435\n",
    "nombre_recovered    16667\n",
    "Name: 647, dtype: int64"
   ]
  },
  {
   "cell_type": "markdown",
   "id": "d23257f3",
   "metadata": {},
   "source": [
    "nombre_infected       722\n",
    "nombre_sain          2184\n",
    "nombre_exposed        425\n",
    "nombre_recovered    16669\n",
    "Name: 648, dtype: int64"
   ]
  },
  {
   "cell_type": "markdown",
   "id": "14e96d45",
   "metadata": {},
   "source": [
    "nombre_infected       724\n",
    "nombre_sain          2189\n",
    "nombre_exposed        410\n",
    "nombre_recovered    16677\n",
    "Name: 649, dtype: int64"
   ]
  },
  {
   "cell_type": "markdown",
   "id": "a3225553",
   "metadata": {},
   "source": [
    "nombre_infected       723\n",
    "nombre_sain          2187\n",
    "nombre_exposed        410\n",
    "nombre_recovered    16680\n",
    "Name: 650, dtype: int64"
   ]
  },
  {
   "cell_type": "markdown",
   "id": "ef5c48f1",
   "metadata": {},
   "source": [
    "nombre_infected       707\n",
    "nombre_sain          2186\n",
    "nombre_exposed        425\n",
    "nombre_recovered    16682\n",
    "Name: 651, dtype: int64"
   ]
  },
  {
   "cell_type": "markdown",
   "id": "e4d0fcd0",
   "metadata": {},
   "source": [
    "nombre_infected       712\n",
    "nombre_sain          2203\n",
    "nombre_exposed        413\n",
    "nombre_recovered    16672\n",
    "Name: 652, dtype: int64"
   ]
  },
  {
   "cell_type": "markdown",
   "id": "7f28e443",
   "metadata": {},
   "source": [
    "nombre_infected       721\n",
    "nombre_sain          2207\n",
    "nombre_exposed        428\n",
    "nombre_recovered    16644\n",
    "Name: 653, dtype: int64"
   ]
  },
  {
   "cell_type": "markdown",
   "id": "d48c9769",
   "metadata": {},
   "source": [
    "nombre_infected       697\n",
    "nombre_sain          2208\n",
    "nombre_exposed        449\n",
    "nombre_recovered    16646\n",
    "Name: 654, dtype: int64"
   ]
  },
  {
   "cell_type": "markdown",
   "id": "3dded80f",
   "metadata": {},
   "source": [
    "nombre_infected       683\n",
    "nombre_sain          2227\n",
    "nombre_exposed        445\n",
    "nombre_recovered    16645\n",
    "Name: 655, dtype: int64"
   ]
  },
  {
   "cell_type": "markdown",
   "id": "2a77dc7e",
   "metadata": {},
   "source": [
    "nombre_infected       690\n",
    "nombre_sain          2233\n",
    "nombre_exposed        434\n",
    "nombre_recovered    16643\n",
    "Name: 656, dtype: int64"
   ]
  },
  {
   "cell_type": "markdown",
   "id": "a8cc7e58",
   "metadata": {},
   "source": [
    "nombre_infected       676\n",
    "nombre_sain          2238\n",
    "nombre_exposed        443\n",
    "nombre_recovered    16643\n",
    "Name: 657, dtype: int64"
   ]
  },
  {
   "cell_type": "markdown",
   "id": "4643b7c7",
   "metadata": {},
   "source": [
    "nombre_infected       673\n",
    "nombre_sain          2275\n",
    "nombre_exposed        434\n",
    "nombre_recovered    16618\n",
    "Name: 658, dtype: int64"
   ]
  },
  {
   "cell_type": "markdown",
   "id": "490b3ae9",
   "metadata": {},
   "source": [
    "nombre_infected       683\n",
    "nombre_sain          2296\n",
    "nombre_exposed        412\n",
    "nombre_recovered    16609\n",
    "Name: 659, dtype: int64"
   ]
  },
  {
   "cell_type": "markdown",
   "id": "e91a4e06",
   "metadata": {},
   "source": [
    "nombre_infected       703\n",
    "nombre_sain          2316\n",
    "nombre_exposed        405\n",
    "nombre_recovered    16576\n",
    "Name: 660, dtype: int64"
   ]
  },
  {
   "cell_type": "markdown",
   "id": "ab9be178",
   "metadata": {},
   "source": [
    "nombre_infected       675\n",
    "nombre_sain          2326\n",
    "nombre_exposed        426\n",
    "nombre_recovered    16573\n",
    "Name: 661, dtype: int64"
   ]
  },
  {
   "cell_type": "markdown",
   "id": "6747b56e",
   "metadata": {},
   "source": [
    "nombre_infected       669\n",
    "nombre_sain          2325\n",
    "nombre_exposed        454\n",
    "nombre_recovered    16552\n",
    "Name: 662, dtype: int64"
   ]
  },
  {
   "cell_type": "markdown",
   "id": "a28c64d2",
   "metadata": {},
   "source": [
    "nombre_infected       651\n",
    "nombre_sain          2332\n",
    "nombre_exposed        468\n",
    "nombre_recovered    16549\n",
    "Name: 663, dtype: int64"
   ]
  },
  {
   "cell_type": "markdown",
   "id": "5277dac7",
   "metadata": {},
   "source": [
    "nombre_infected       670\n",
    "nombre_sain          2350\n",
    "nombre_exposed        455\n",
    "nombre_recovered    16525\n",
    "Name: 664, dtype: int64"
   ]
  },
  {
   "cell_type": "markdown",
   "id": "ae405089",
   "metadata": {},
   "source": [
    "nombre_infected       657\n",
    "nombre_sain          2370\n",
    "nombre_exposed        460\n",
    "nombre_recovered    16513\n",
    "Name: 665, dtype: int64"
   ]
  },
  {
   "cell_type": "markdown",
   "id": "698d75b0",
   "metadata": {},
   "source": [
    "nombre_infected       661\n",
    "nombre_sain          2370\n",
    "nombre_exposed        461\n",
    "nombre_recovered    16508\n",
    "Name: 666, dtype: int64"
   ]
  },
  {
   "cell_type": "markdown",
   "id": "e9145956",
   "metadata": {},
   "source": [
    "nombre_infected       665\n",
    "nombre_sain          2372\n",
    "nombre_exposed        482\n",
    "nombre_recovered    16481\n",
    "Name: 667, dtype: int64"
   ]
  },
  {
   "cell_type": "markdown",
   "id": "bf84d111",
   "metadata": {},
   "source": [
    "nombre_infected       681\n",
    "nombre_sain          2380\n",
    "nombre_exposed        486\n",
    "nombre_recovered    16453\n",
    "Name: 668, dtype: int64"
   ]
  },
  {
   "cell_type": "markdown",
   "id": "f9fb5679",
   "metadata": {},
   "source": [
    "nombre_infected       684\n",
    "nombre_sain          2381\n",
    "nombre_exposed        499\n",
    "nombre_recovered    16436\n",
    "Name: 669, dtype: int64"
   ]
  },
  {
   "cell_type": "markdown",
   "id": "176ad864",
   "metadata": {},
   "source": [
    "nombre_infected       710\n",
    "nombre_sain          2379\n",
    "nombre_exposed        495\n",
    "nombre_recovered    16416\n",
    "Name: 670, dtype: int64"
   ]
  },
  {
   "cell_type": "markdown",
   "id": "52d82172",
   "metadata": {},
   "source": [
    "nombre_infected       713\n",
    "nombre_sain          2399\n",
    "nombre_exposed        490\n",
    "nombre_recovered    16398\n",
    "Name: 671, dtype: int64"
   ]
  },
  {
   "cell_type": "markdown",
   "id": "1e967c8c",
   "metadata": {},
   "source": [
    "nombre_infected       753\n",
    "nombre_sain          2370\n",
    "nombre_exposed        501\n",
    "nombre_recovered    16376\n",
    "Name: 672, dtype: int64"
   ]
  },
  {
   "cell_type": "markdown",
   "id": "1ce08105",
   "metadata": {},
   "source": [
    "nombre_infected       757\n",
    "nombre_sain          2384\n",
    "nombre_exposed        494\n",
    "nombre_recovered    16365\n",
    "Name: 673, dtype: int64"
   ]
  },
  {
   "cell_type": "markdown",
   "id": "2e9eb8f2",
   "metadata": {},
   "source": [
    "nombre_infected       756\n",
    "nombre_sain          2380\n",
    "nombre_exposed        489\n",
    "nombre_recovered    16375\n",
    "Name: 674, dtype: int64"
   ]
  },
  {
   "cell_type": "markdown",
   "id": "62ed184a",
   "metadata": {},
   "source": [
    "nombre_infected       784\n",
    "nombre_sain          2364\n",
    "nombre_exposed        496\n",
    "nombre_recovered    16356\n",
    "Name: 675, dtype: int64"
   ]
  },
  {
   "cell_type": "markdown",
   "id": "844e62a4",
   "metadata": {},
   "source": [
    "nombre_infected       769\n",
    "nombre_sain          2348\n",
    "nombre_exposed        511\n",
    "nombre_recovered    16372\n",
    "Name: 676, dtype: int64"
   ]
  },
  {
   "cell_type": "markdown",
   "id": "4b9f3b77",
   "metadata": {},
   "source": [
    "nombre_infected       789\n",
    "nombre_sain          2353\n",
    "nombre_exposed        505\n",
    "nombre_recovered    16353\n",
    "Name: 677, dtype: int64"
   ]
  },
  {
   "cell_type": "markdown",
   "id": "79ee0652",
   "metadata": {},
   "source": [
    "nombre_infected       802\n",
    "nombre_sain          2339\n",
    "nombre_exposed        503\n",
    "nombre_recovered    16356\n",
    "Name: 678, dtype: int64"
   ]
  },
  {
   "cell_type": "markdown",
   "id": "d78a6372",
   "metadata": {},
   "source": [
    "nombre_infected       798\n",
    "nombre_sain          2336\n",
    "nombre_exposed        499\n",
    "nombre_recovered    16367\n",
    "Name: 679, dtype: int64"
   ]
  },
  {
   "cell_type": "markdown",
   "id": "8944972e",
   "metadata": {},
   "source": [
    "nombre_infected       803\n",
    "nombre_sain          2331\n",
    "nombre_exposed        487\n",
    "nombre_recovered    16379\n",
    "Name: 680, dtype: int64"
   ]
  },
  {
   "cell_type": "markdown",
   "id": "43c517e5",
   "metadata": {},
   "source": [
    "nombre_infected       795\n",
    "nombre_sain          2320\n",
    "nombre_exposed        504\n",
    "nombre_recovered    16381\n",
    "Name: 681, dtype: int64"
   ]
  },
  {
   "cell_type": "markdown",
   "id": "df100973",
   "metadata": {},
   "source": [
    "nombre_infected       808\n",
    "nombre_sain          2323\n",
    "nombre_exposed        496\n",
    "nombre_recovered    16373\n",
    "Name: 682, dtype: int64"
   ]
  },
  {
   "cell_type": "markdown",
   "id": "b08698ec",
   "metadata": {},
   "source": [
    "nombre_infected       828\n",
    "nombre_sain          2309\n",
    "nombre_exposed        487\n",
    "nombre_recovered    16376\n",
    "Name: 683, dtype: int64"
   ]
  },
  {
   "cell_type": "markdown",
   "id": "8a343f9c",
   "metadata": {},
   "source": [
    "nombre_infected       834\n",
    "nombre_sain          2290\n",
    "nombre_exposed        502\n",
    "nombre_recovered    16374\n",
    "Name: 684, dtype: int64"
   ]
  },
  {
   "cell_type": "markdown",
   "id": "70e626e6",
   "metadata": {},
   "source": [
    "nombre_infected       809\n",
    "nombre_sain          2274\n",
    "nombre_exposed        516\n",
    "nombre_recovered    16401\n",
    "Name: 685, dtype: int64"
   ]
  },
  {
   "cell_type": "markdown",
   "id": "8b04306e",
   "metadata": {},
   "source": [
    "nombre_infected       827\n",
    "nombre_sain          2272\n",
    "nombre_exposed        504\n",
    "nombre_recovered    16397\n",
    "Name: 686, dtype: int64"
   ]
  },
  {
   "cell_type": "markdown",
   "id": "60273570",
   "metadata": {},
   "source": [
    "nombre_infected       853\n",
    "nombre_sain          2250\n",
    "nombre_exposed        509\n",
    "nombre_recovered    16388\n",
    "Name: 687, dtype: int64"
   ]
  },
  {
   "cell_type": "markdown",
   "id": "9018da58",
   "metadata": {},
   "source": [
    "nombre_infected       856\n",
    "nombre_sain          2233\n",
    "nombre_exposed        501\n",
    "nombre_recovered    16410\n",
    "Name: 688, dtype: int64"
   ]
  },
  {
   "cell_type": "markdown",
   "id": "42447276",
   "metadata": {},
   "source": [
    "nombre_infected       842\n",
    "nombre_sain          2247\n",
    "nombre_exposed        502\n",
    "nombre_recovered    16409\n",
    "Name: 689, dtype: int64"
   ]
  },
  {
   "cell_type": "markdown",
   "id": "ea78e69b",
   "metadata": {},
   "source": [
    "nombre_infected       835\n",
    "nombre_sain          2227\n",
    "nombre_exposed        527\n",
    "nombre_recovered    16411\n",
    "Name: 690, dtype: int64"
   ]
  },
  {
   "cell_type": "markdown",
   "id": "efaaa4a9",
   "metadata": {},
   "source": [
    "nombre_infected       824\n",
    "nombre_sain          2227\n",
    "nombre_exposed        518\n",
    "nombre_recovered    16431\n",
    "Name: 691, dtype: int64"
   ]
  },
  {
   "cell_type": "markdown",
   "id": "cb94a5c0",
   "metadata": {},
   "source": [
    "nombre_infected       838\n",
    "nombre_sain          2224\n",
    "nombre_exposed        508\n",
    "nombre_recovered    16430\n",
    "Name: 692, dtype: int64"
   ]
  },
  {
   "cell_type": "markdown",
   "id": "dcebdc0c",
   "metadata": {},
   "source": [
    "nombre_infected       832\n",
    "nombre_sain          2231\n",
    "nombre_exposed        508\n",
    "nombre_recovered    16429\n",
    "Name: 693, dtype: int64"
   ]
  },
  {
   "cell_type": "markdown",
   "id": "7d87f3e0",
   "metadata": {},
   "source": [
    "nombre_infected       813\n",
    "nombre_sain          2248\n",
    "nombre_exposed        521\n",
    "nombre_recovered    16418\n",
    "Name: 694, dtype: int64"
   ]
  },
  {
   "cell_type": "markdown",
   "id": "b2962d30",
   "metadata": {},
   "source": [
    "nombre_infected       805\n",
    "nombre_sain          2231\n",
    "nombre_exposed        531\n",
    "nombre_recovered    16433\n",
    "Name: 695, dtype: int64"
   ]
  },
  {
   "cell_type": "markdown",
   "id": "6db0c2ea",
   "metadata": {},
   "source": [
    "nombre_infected       824\n",
    "nombre_sain          2239\n",
    "nombre_exposed        524\n",
    "nombre_recovered    16413\n",
    "Name: 696, dtype: int64"
   ]
  },
  {
   "cell_type": "markdown",
   "id": "33508c42",
   "metadata": {},
   "source": [
    "nombre_infected       818\n",
    "nombre_sain          2250\n",
    "nombre_exposed        520\n",
    "nombre_recovered    16412\n",
    "Name: 697, dtype: int64"
   ]
  },
  {
   "cell_type": "markdown",
   "id": "8794f8de",
   "metadata": {},
   "source": [
    "nombre_infected       818\n",
    "nombre_sain          2245\n",
    "nombre_exposed        508\n",
    "nombre_recovered    16429\n",
    "Name: 698, dtype: int64"
   ]
  },
  {
   "cell_type": "markdown",
   "id": "a70f8c68",
   "metadata": {},
   "source": [
    "nombre_infected       811\n",
    "nombre_sain          2232\n",
    "nombre_exposed        512\n",
    "nombre_recovered    16445\n",
    "Name: 699, dtype: int64"
   ]
  },
  {
   "cell_type": "markdown",
   "id": "2c4dbccd",
   "metadata": {},
   "source": [
    "nombre_infected       791\n",
    "nombre_sain          2228\n",
    "nombre_exposed        517\n",
    "nombre_recovered    16464\n",
    "Name: 700, dtype: int64"
   ]
  },
  {
   "cell_type": "markdown",
   "id": "cd60cdf2",
   "metadata": {},
   "source": [
    "nombre_infected       816\n",
    "nombre_sain          2262\n",
    "nombre_exposed        500\n",
    "nombre_recovered    16422\n",
    "Name: 701, dtype: int64"
   ]
  },
  {
   "cell_type": "markdown",
   "id": "c579020e",
   "metadata": {},
   "source": [
    "nombre_infected       830\n",
    "nombre_sain          2257\n",
    "nombre_exposed        497\n",
    "nombre_recovered    16416\n",
    "Name: 702, dtype: int64"
   ]
  },
  {
   "cell_type": "markdown",
   "id": "30fc9cbc",
   "metadata": {},
   "source": [
    "nombre_infected       827\n",
    "nombre_sain          2266\n",
    "nombre_exposed        487\n",
    "nombre_recovered    16420\n",
    "Name: 703, dtype: int64"
   ]
  },
  {
   "cell_type": "markdown",
   "id": "bc6ad9a4",
   "metadata": {},
   "source": [
    "nombre_infected       800\n",
    "nombre_sain          2285\n",
    "nombre_exposed        492\n",
    "nombre_recovered    16423\n",
    "Name: 704, dtype: int64"
   ]
  },
  {
   "cell_type": "markdown",
   "id": "cf70f2be",
   "metadata": {},
   "source": [
    "nombre_infected       816\n",
    "nombre_sain          2293\n",
    "nombre_exposed        488\n",
    "nombre_recovered    16403\n",
    "Name: 705, dtype: int64"
   ]
  },
  {
   "cell_type": "markdown",
   "id": "17a55ef4",
   "metadata": {},
   "source": [
    "nombre_infected       806\n",
    "nombre_sain          2333\n",
    "nombre_exposed        483\n",
    "nombre_recovered    16378\n",
    "Name: 706, dtype: int64"
   ]
  },
  {
   "cell_type": "markdown",
   "id": "124bfc69",
   "metadata": {},
   "source": [
    "nombre_infected       779\n",
    "nombre_sain          2332\n",
    "nombre_exposed        516\n",
    "nombre_recovered    16373\n",
    "Name: 707, dtype: int64"
   ]
  },
  {
   "cell_type": "markdown",
   "id": "2bf5801d",
   "metadata": {},
   "source": [
    "nombre_infected       795\n",
    "nombre_sain          2359\n",
    "nombre_exposed        495\n",
    "nombre_recovered    16351\n",
    "Name: 708, dtype: int64"
   ]
  },
  {
   "cell_type": "markdown",
   "id": "ecff3cc8",
   "metadata": {},
   "source": [
    "nombre_infected       819\n",
    "nombre_sain          2351\n",
    "nombre_exposed        489\n",
    "nombre_recovered    16341\n",
    "Name: 709, dtype: int64"
   ]
  },
  {
   "cell_type": "markdown",
   "id": "2cb706ec",
   "metadata": {},
   "source": [
    "nombre_infected       835\n",
    "nombre_sain          2315\n",
    "nombre_exposed        517\n",
    "nombre_recovered    16333\n",
    "Name: 710, dtype: int64"
   ]
  },
  {
   "cell_type": "markdown",
   "id": "c5430f5e",
   "metadata": {},
   "source": [
    "nombre_infected       844\n",
    "nombre_sain          2321\n",
    "nombre_exposed        475\n",
    "nombre_recovered    16360\n",
    "Name: 711, dtype: int64"
   ]
  },
  {
   "cell_type": "markdown",
   "id": "79c10ab6",
   "metadata": {},
   "source": [
    "nombre_infected       862\n",
    "nombre_sain          2300\n",
    "nombre_exposed        477\n",
    "nombre_recovered    16361\n",
    "Name: 712, dtype: int64"
   ]
  },
  {
   "cell_type": "markdown",
   "id": "15e569f2",
   "metadata": {},
   "source": [
    "nombre_infected       840\n",
    "nombre_sain          2308\n",
    "nombre_exposed        491\n",
    "nombre_recovered    16361\n",
    "Name: 713, dtype: int64"
   ]
  },
  {
   "cell_type": "markdown",
   "id": "434c37ae",
   "metadata": {},
   "source": [
    "nombre_infected       858\n",
    "nombre_sain          2308\n",
    "nombre_exposed        492\n",
    "nombre_recovered    16342\n",
    "Name: 714, dtype: int64"
   ]
  },
  {
   "cell_type": "markdown",
   "id": "5f2a2bd3",
   "metadata": {},
   "source": [
    "nombre_infected       864\n",
    "nombre_sain          2272\n",
    "nombre_exposed        513\n",
    "nombre_recovered    16351\n",
    "Name: 715, dtype: int64"
   ]
  },
  {
   "cell_type": "markdown",
   "id": "d2e7a0f8",
   "metadata": {},
   "source": [
    "nombre_infected       856\n",
    "nombre_sain          2244\n",
    "nombre_exposed        513\n",
    "nombre_recovered    16387\n",
    "Name: 716, dtype: int64"
   ]
  },
  {
   "cell_type": "markdown",
   "id": "d9a8c097",
   "metadata": {},
   "source": [
    "nombre_infected       849\n",
    "nombre_sain          2213\n",
    "nombre_exposed        530\n",
    "nombre_recovered    16408\n",
    "Name: 717, dtype: int64"
   ]
  },
  {
   "cell_type": "markdown",
   "id": "0d433fdd",
   "metadata": {},
   "source": [
    "nombre_infected       846\n",
    "nombre_sain          2223\n",
    "nombre_exposed        542\n",
    "nombre_recovered    16389\n",
    "Name: 718, dtype: int64"
   ]
  },
  {
   "cell_type": "markdown",
   "id": "0a981094",
   "metadata": {},
   "source": [
    "nombre_infected       871\n",
    "nombre_sain          2222\n",
    "nombre_exposed        509\n",
    "nombre_recovered    16398\n",
    "Name: 719, dtype: int64"
   ]
  },
  {
   "cell_type": "markdown",
   "id": "5a7282df",
   "metadata": {},
   "source": [
    "nombre_infected       867\n",
    "nombre_sain          2240\n",
    "nombre_exposed        508\n",
    "nombre_recovered    16385\n",
    "Name: 720, dtype: int64"
   ]
  },
  {
   "cell_type": "markdown",
   "id": "8af72263",
   "metadata": {},
   "source": [
    "nombre_infected       896\n",
    "nombre_sain          2201\n",
    "nombre_exposed        495\n",
    "nombre_recovered    16408\n",
    "Name: 721, dtype: int64"
   ]
  },
  {
   "cell_type": "markdown",
   "id": "9ea5193c",
   "metadata": {},
   "source": [
    "nombre_infected       851\n",
    "nombre_sain          2173\n",
    "nombre_exposed        537\n",
    "nombre_recovered    16439\n",
    "Name: 722, dtype: int64"
   ]
  },
  {
   "cell_type": "markdown",
   "id": "f0da9e28",
   "metadata": {},
   "source": [
    "nombre_infected       857\n",
    "nombre_sain          2178\n",
    "nombre_exposed        521\n",
    "nombre_recovered    16444\n",
    "Name: 723, dtype: int64"
   ]
  },
  {
   "cell_type": "markdown",
   "id": "c7ebdd6b",
   "metadata": {},
   "source": [
    "nombre_infected       857\n",
    "nombre_sain          2171\n",
    "nombre_exposed        502\n",
    "nombre_recovered    16470\n",
    "Name: 724, dtype: int64"
   ]
  },
  {
   "cell_type": "markdown",
   "id": "38f5129e",
   "metadata": {},
   "source": [
    "nombre_infected       878\n",
    "nombre_sain          2187\n",
    "nombre_exposed        479\n",
    "nombre_recovered    16456\n",
    "Name: 725, dtype: int64"
   ]
  },
  {
   "cell_type": "markdown",
   "id": "7eee0fb8",
   "metadata": {},
   "source": [
    "nombre_infected       849\n",
    "nombre_sain          2194\n",
    "nombre_exposed        484\n",
    "nombre_recovered    16473\n",
    "Name: 726, dtype: int64"
   ]
  },
  {
   "cell_type": "markdown",
   "id": "ae49714e",
   "metadata": {},
   "source": [
    "nombre_infected       822\n",
    "nombre_sain          2236\n",
    "nombre_exposed        476\n",
    "nombre_recovered    16466\n",
    "Name: 727, dtype: int64"
   ]
  },
  {
   "cell_type": "markdown",
   "id": "92c73812",
   "metadata": {},
   "source": [
    "nombre_infected       806\n",
    "nombre_sain          2248\n",
    "nombre_exposed        499\n",
    "nombre_recovered    16447\n",
    "Name: 728, dtype: int64"
   ]
  },
  {
   "cell_type": "markdown",
   "id": "352f9eb5",
   "metadata": {},
   "source": [
    "nombre_infected       807\n",
    "nombre_sain          2250\n",
    "nombre_exposed        506\n",
    "nombre_recovered    16437\n",
    "Name: 729, dtype: int64"
   ]
  },
  {
   "cell_type": "markdown",
   "id": "7b523021",
   "metadata": {},
   "source": [
    "nombre_infected       798\n",
    "nombre_sain          2249\n",
    "nombre_exposed        500\n",
    "nombre_recovered    16453\n",
    "Name: 730, dtype: int64"
   ]
  }
 ],
 "metadata": {},
 "nbformat": 4,
 "nbformat_minor": 5
}
