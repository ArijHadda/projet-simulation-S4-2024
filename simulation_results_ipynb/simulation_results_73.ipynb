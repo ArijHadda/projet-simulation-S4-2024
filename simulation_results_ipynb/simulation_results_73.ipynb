{
 "cells": [
  {
   "cell_type": "markdown",
   "id": "f7c89c35",
   "metadata": {},
   "source": [
    "nombre_infected        20\n",
    "nombre_sain         19980\n",
    "nombre_exposed          0\n",
    "nombre_recovered        0\n",
    "Name: 0, dtype: int64"
   ]
  },
  {
   "cell_type": "markdown",
   "id": "46907254",
   "metadata": {},
   "source": [
    "nombre_infected        20\n",
    "nombre_sain         19965\n",
    "nombre_exposed         15\n",
    "nombre_recovered        0\n",
    "Name: 1, dtype: int64"
   ]
  },
  {
   "cell_type": "markdown",
   "id": "a10aaa0f",
   "metadata": {},
   "source": [
    "nombre_infected        20\n",
    "nombre_sain         19946\n",
    "nombre_exposed         34\n",
    "nombre_recovered        0\n",
    "Name: 2, dtype: int64"
   ]
  },
  {
   "cell_type": "markdown",
   "id": "f4cb4de3",
   "metadata": {},
   "source": [
    "nombre_infected         7\n",
    "nombre_sain         19929\n",
    "nombre_exposed         44\n",
    "nombre_recovered       20\n",
    "Name: 3, dtype: int64"
   ]
  },
  {
   "cell_type": "markdown",
   "id": "6f342481",
   "metadata": {},
   "source": [
    "nombre_infected        18\n",
    "nombre_sain         19909\n",
    "nombre_exposed         53\n",
    "nombre_recovered       20\n",
    "Name: 4, dtype: int64"
   ]
  },
  {
   "cell_type": "markdown",
   "id": "0b9e8fd8",
   "metadata": {},
   "source": [
    "nombre_infected        29\n",
    "nombre_sain         19885\n",
    "nombre_exposed         66\n",
    "nombre_recovered       20\n",
    "Name: 5, dtype: int64"
   ]
  },
  {
   "cell_type": "markdown",
   "id": "651abe8c",
   "metadata": {},
   "source": [
    "nombre_infected        48\n",
    "nombre_sain         19843\n",
    "nombre_exposed         89\n",
    "nombre_recovered       20\n",
    "Name: 6, dtype: int64"
   ]
  },
  {
   "cell_type": "markdown",
   "id": "1f9bd339",
   "metadata": {},
   "source": [
    "nombre_infected        54\n",
    "nombre_sain         19785\n",
    "nombre_exposed        138\n",
    "nombre_recovered       23\n",
    "Name: 7, dtype: int64"
   ]
  },
  {
   "cell_type": "markdown",
   "id": "494843c6",
   "metadata": {},
   "source": [
    "nombre_infected        79\n",
    "nombre_sain         19681\n",
    "nombre_exposed        217\n",
    "nombre_recovered       23\n",
    "Name: 8, dtype: int64"
   ]
  },
  {
   "cell_type": "markdown",
   "id": "25bedc4e",
   "metadata": {},
   "source": [
    "nombre_infected       107\n",
    "nombre_sain         19562\n",
    "nombre_exposed        302\n",
    "nombre_recovered       29\n",
    "Name: 9, dtype: int64"
   ]
  },
  {
   "cell_type": "markdown",
   "id": "93a5ca31",
   "metadata": {},
   "source": [
    "nombre_infected       153\n",
    "nombre_sain         19427\n",
    "nombre_exposed        384\n",
    "nombre_recovered       36\n",
    "Name: 10, dtype: int64"
   ]
  },
  {
   "cell_type": "markdown",
   "id": "eec2688f",
   "metadata": {},
   "source": [
    "nombre_infected       226\n",
    "nombre_sain         19167\n",
    "nombre_exposed        563\n",
    "nombre_recovered       44\n",
    "Name: 11, dtype: int64"
   ]
  },
  {
   "cell_type": "markdown",
   "id": "e3d12acd",
   "metadata": {},
   "source": [
    "nombre_infected       312\n",
    "nombre_sain         18854\n",
    "nombre_exposed        778\n",
    "nombre_recovered       56\n",
    "Name: 12, dtype: int64"
   ]
  },
  {
   "cell_type": "markdown",
   "id": "c5991361",
   "metadata": {},
   "source": [
    "nombre_infected       423\n",
    "nombre_sain         18424\n",
    "nombre_exposed       1073\n",
    "nombre_recovered       80\n",
    "Name: 13, dtype: int64"
   ]
  },
  {
   "cell_type": "markdown",
   "id": "1c84f13a",
   "metadata": {},
   "source": [
    "nombre_infected       586\n",
    "nombre_sain         17876\n",
    "nombre_exposed       1437\n",
    "nombre_recovered      101\n",
    "Name: 14, dtype: int64"
   ]
  },
  {
   "cell_type": "markdown",
   "id": "c9c2df20",
   "metadata": {},
   "source": [
    "nombre_infected       815\n",
    "nombre_sain         17119\n",
    "nombre_exposed       1927\n",
    "nombre_recovered      139\n",
    "Name: 15, dtype: int64"
   ]
  },
  {
   "cell_type": "markdown",
   "id": "804be9af",
   "metadata": {},
   "source": [
    "nombre_infected      1094\n",
    "nombre_sain         16246\n",
    "nombre_exposed       2459\n",
    "nombre_recovered      201\n",
    "Name: 16, dtype: int64"
   ]
  },
  {
   "cell_type": "markdown",
   "id": "688ad380",
   "metadata": {},
   "source": [
    "nombre_infected      1498\n",
    "nombre_sain         15050\n",
    "nombre_exposed       3166\n",
    "nombre_recovered      286\n",
    "Name: 17, dtype: int64"
   ]
  },
  {
   "cell_type": "markdown",
   "id": "7e027f26",
   "metadata": {},
   "source": [
    "nombre_infected      1988\n",
    "nombre_sain         13623\n",
    "nombre_exposed       4010\n",
    "nombre_recovered      379\n",
    "Name: 18, dtype: int64"
   ]
  },
  {
   "cell_type": "markdown",
   "id": "ba63f487",
   "metadata": {},
   "source": [
    "nombre_infected      2659\n",
    "nombre_sain         11921\n",
    "nombre_exposed       4900\n",
    "nombre_recovered      520\n",
    "Name: 19, dtype: int64"
   ]
  },
  {
   "cell_type": "markdown",
   "id": "e17ef132",
   "metadata": {},
   "source": [
    "nombre_infected      3422\n",
    "nombre_sain         10075\n",
    "nombre_exposed       5798\n",
    "nombre_recovered      705\n",
    "Name: 20, dtype: int64"
   ]
  },
  {
   "cell_type": "markdown",
   "id": "c9292289",
   "metadata": {},
   "source": [
    "nombre_infected     4342\n",
    "nombre_sain         8203\n",
    "nombre_exposed      6498\n",
    "nombre_recovered     957\n",
    "Name: 21, dtype: int64"
   ]
  },
  {
   "cell_type": "markdown",
   "id": "e996e265",
   "metadata": {},
   "source": [
    "nombre_infected     5389\n",
    "nombre_sain         6329\n",
    "nombre_exposed      6975\n",
    "nombre_recovered    1307\n",
    "Name: 22, dtype: int64"
   ]
  },
  {
   "cell_type": "markdown",
   "id": "f6780521",
   "metadata": {},
   "source": [
    "nombre_infected     6448\n",
    "nombre_sain         4688\n",
    "nombre_exposed      7141\n",
    "nombre_recovered    1723\n",
    "Name: 23, dtype: int64"
   ]
  },
  {
   "cell_type": "markdown",
   "id": "0e7d72a9",
   "metadata": {},
   "source": [
    "nombre_infected     7608\n",
    "nombre_sain         3338\n",
    "nombre_exposed      6787\n",
    "nombre_recovered    2267\n",
    "Name: 24, dtype: int64"
   ]
  },
  {
   "cell_type": "markdown",
   "id": "fcbdd576",
   "metadata": {},
   "source": [
    "nombre_infected     8542\n",
    "nombre_sain         2290\n",
    "nombre_exposed      6240\n",
    "nombre_recovered    2928\n",
    "Name: 25, dtype: int64"
   ]
  },
  {
   "cell_type": "markdown",
   "id": "d62eda39",
   "metadata": {},
   "source": [
    "nombre_infected     9311\n",
    "nombre_sain         1546\n",
    "nombre_exposed      5453\n",
    "nombre_recovered    3690\n",
    "Name: 26, dtype: int64"
   ]
  },
  {
   "cell_type": "markdown",
   "id": "0514cba4",
   "metadata": {},
   "source": [
    "nombre_infected     9886\n",
    "nombre_sain         1017\n",
    "nombre_exposed      4584\n",
    "nombre_recovered    4513\n",
    "Name: 27, dtype: int64"
   ]
  },
  {
   "cell_type": "markdown",
   "id": "56b37037",
   "metadata": {},
   "source": [
    "nombre_infected     10149\n",
    "nombre_sain           655\n",
    "nombre_exposed       3802\n",
    "nombre_recovered     5394\n",
    "Name: 28, dtype: int64"
   ]
  },
  {
   "cell_type": "markdown",
   "id": "64dfc425",
   "metadata": {},
   "source": [
    "nombre_infected     10148\n",
    "nombre_sain           429\n",
    "nombre_exposed       3005\n",
    "nombre_recovered     6418\n",
    "Name: 29, dtype: int64"
   ]
  },
  {
   "cell_type": "markdown",
   "id": "f73c421e",
   "metadata": {},
   "source": [
    "nombre_infected     9854\n",
    "nombre_sain          277\n",
    "nombre_exposed      2386\n",
    "nombre_recovered    7483\n",
    "Name: 30, dtype: int64"
   ]
  },
  {
   "cell_type": "markdown",
   "id": "2175af99",
   "metadata": {},
   "source": [
    "nombre_infected     9481\n",
    "nombre_sain          183\n",
    "nombre_exposed      1841\n",
    "nombre_recovered    8495\n",
    "Name: 31, dtype: int64"
   ]
  },
  {
   "cell_type": "markdown",
   "id": "d4842365",
   "metadata": {},
   "source": [
    "nombre_infected     8964\n",
    "nombre_sain          143\n",
    "nombre_exposed      1382\n",
    "nombre_recovered    9511\n",
    "Name: 32, dtype: int64"
   ]
  },
  {
   "cell_type": "markdown",
   "id": "6644ee5b",
   "metadata": {},
   "source": [
    "nombre_infected      8397\n",
    "nombre_sain           121\n",
    "nombre_exposed       1036\n",
    "nombre_recovered    10446\n",
    "Name: 33, dtype: int64"
   ]
  },
  {
   "cell_type": "markdown",
   "id": "666a9d4d",
   "metadata": {},
   "source": [
    "nombre_infected      7716\n",
    "nombre_sain           100\n",
    "nombre_exposed        794\n",
    "nombre_recovered    11390\n",
    "Name: 34, dtype: int64"
   ]
  },
  {
   "cell_type": "markdown",
   "id": "1054cf48",
   "metadata": {},
   "source": [
    "nombre_infected      7127\n",
    "nombre_sain            88\n",
    "nombre_exposed        628\n",
    "nombre_recovered    12157\n",
    "Name: 35, dtype: int64"
   ]
  },
  {
   "cell_type": "markdown",
   "id": "21a2dc47",
   "metadata": {},
   "source": [
    "nombre_infected      6469\n",
    "nombre_sain            89\n",
    "nombre_exposed        484\n",
    "nombre_recovered    12958\n",
    "Name: 36, dtype: int64"
   ]
  },
  {
   "cell_type": "markdown",
   "id": "cb442f51",
   "metadata": {},
   "source": [
    "nombre_infected      5799\n",
    "nombre_sain           102\n",
    "nombre_exposed        391\n",
    "nombre_recovered    13708\n",
    "Name: 37, dtype: int64"
   ]
  },
  {
   "cell_type": "markdown",
   "id": "776cd35e",
   "metadata": {},
   "source": [
    "nombre_infected      5214\n",
    "nombre_sain           121\n",
    "nombre_exposed        303\n",
    "nombre_recovered    14362\n",
    "Name: 38, dtype: int64"
   ]
  },
  {
   "cell_type": "markdown",
   "id": "64eb7d02",
   "metadata": {},
   "source": [
    "nombre_infected      4647\n",
    "nombre_sain           131\n",
    "nombre_exposed        246\n",
    "nombre_recovered    14976\n",
    "Name: 39, dtype: int64"
   ]
  },
  {
   "cell_type": "markdown",
   "id": "20e2a8a4",
   "metadata": {},
   "source": [
    "nombre_infected      4124\n",
    "nombre_sain           131\n",
    "nombre_exposed        213\n",
    "nombre_recovered    15532\n",
    "Name: 40, dtype: int64"
   ]
  },
  {
   "cell_type": "markdown",
   "id": "8f273289",
   "metadata": {},
   "source": [
    "nombre_infected      3639\n",
    "nombre_sain           157\n",
    "nombre_exposed        168\n",
    "nombre_recovered    16036\n",
    "Name: 41, dtype: int64"
   ]
  },
  {
   "cell_type": "markdown",
   "id": "caf7b494",
   "metadata": {},
   "source": [
    "nombre_infected      3222\n",
    "nombre_sain           186\n",
    "nombre_exposed        142\n",
    "nombre_recovered    16450\n",
    "Name: 42, dtype: int64"
   ]
  },
  {
   "cell_type": "markdown",
   "id": "eced912f",
   "metadata": {},
   "source": [
    "nombre_infected      2859\n",
    "nombre_sain           212\n",
    "nombre_exposed        132\n",
    "nombre_recovered    16797\n",
    "Name: 43, dtype: int64"
   ]
  },
  {
   "cell_type": "markdown",
   "id": "4bd29fd1",
   "metadata": {},
   "source": [
    "nombre_infected      2513\n",
    "nombre_sain           274\n",
    "nombre_exposed        110\n",
    "nombre_recovered    17103\n",
    "Name: 44, dtype: int64"
   ]
  },
  {
   "cell_type": "markdown",
   "id": "16fdb99e",
   "metadata": {},
   "source": [
    "nombre_infected      2207\n",
    "nombre_sain           303\n",
    "nombre_exposed        108\n",
    "nombre_recovered    17382\n",
    "Name: 45, dtype: int64"
   ]
  },
  {
   "cell_type": "markdown",
   "id": "005120ac",
   "metadata": {},
   "source": [
    "nombre_infected      1985\n",
    "nombre_sain           341\n",
    "nombre_exposed        109\n",
    "nombre_recovered    17565\n",
    "Name: 46, dtype: int64"
   ]
  },
  {
   "cell_type": "markdown",
   "id": "4bf846fd",
   "metadata": {},
   "source": [
    "nombre_infected      1777\n",
    "nombre_sain           375\n",
    "nombre_exposed        127\n",
    "nombre_recovered    17721\n",
    "Name: 47, dtype: int64"
   ]
  },
  {
   "cell_type": "markdown",
   "id": "da07dc1f",
   "metadata": {},
   "source": [
    "nombre_infected      1587\n",
    "nombre_sain           427\n",
    "nombre_exposed        139\n",
    "nombre_recovered    17847\n",
    "Name: 48, dtype: int64"
   ]
  },
  {
   "cell_type": "markdown",
   "id": "c340f57e",
   "metadata": {},
   "source": [
    "nombre_infected      1450\n",
    "nombre_sain           471\n",
    "nombre_exposed        138\n",
    "nombre_recovered    17941\n",
    "Name: 49, dtype: int64"
   ]
  },
  {
   "cell_type": "markdown",
   "id": "468e371e",
   "metadata": {},
   "source": [
    "nombre_infected      1325\n",
    "nombre_sain           506\n",
    "nombre_exposed        141\n",
    "nombre_recovered    18028\n",
    "Name: 50, dtype: int64"
   ]
  },
  {
   "cell_type": "markdown",
   "id": "65c65864",
   "metadata": {},
   "source": [
    "nombre_infected      1212\n",
    "nombre_sain           549\n",
    "nombre_exposed        141\n",
    "nombre_recovered    18098\n",
    "Name: 51, dtype: int64"
   ]
  },
  {
   "cell_type": "markdown",
   "id": "f26758c3",
   "metadata": {},
   "source": [
    "nombre_infected      1099\n",
    "nombre_sain           603\n",
    "nombre_exposed        145\n",
    "nombre_recovered    18153\n",
    "Name: 52, dtype: int64"
   ]
  },
  {
   "cell_type": "markdown",
   "id": "a9613e7c",
   "metadata": {},
   "source": [
    "nombre_infected      1006\n",
    "nombre_sain           650\n",
    "nombre_exposed        164\n",
    "nombre_recovered    18180\n",
    "Name: 53, dtype: int64"
   ]
  },
  {
   "cell_type": "markdown",
   "id": "32486483",
   "metadata": {},
   "source": [
    "nombre_infected       937\n",
    "nombre_sain           712\n",
    "nombre_exposed        159\n",
    "nombre_recovered    18192\n",
    "Name: 54, dtype: int64"
   ]
  },
  {
   "cell_type": "markdown",
   "id": "6e30539a",
   "metadata": {},
   "source": [
    "nombre_infected       858\n",
    "nombre_sain           766\n",
    "nombre_exposed        161\n",
    "nombre_recovered    18215\n",
    "Name: 55, dtype: int64"
   ]
  },
  {
   "cell_type": "markdown",
   "id": "4a8adbd2",
   "metadata": {},
   "source": [
    "nombre_infected       801\n",
    "nombre_sain           833\n",
    "nombre_exposed        154\n",
    "nombre_recovered    18212\n",
    "Name: 56, dtype: int64"
   ]
  },
  {
   "cell_type": "markdown",
   "id": "4a921f78",
   "metadata": {},
   "source": [
    "nombre_infected       743\n",
    "nombre_sain           885\n",
    "nombre_exposed        157\n",
    "nombre_recovered    18215\n",
    "Name: 57, dtype: int64"
   ]
  },
  {
   "cell_type": "markdown",
   "id": "1823e62c",
   "metadata": {},
   "source": [
    "nombre_infected       691\n",
    "nombre_sain           946\n",
    "nombre_exposed        160\n",
    "nombre_recovered    18203\n",
    "Name: 58, dtype: int64"
   ]
  },
  {
   "cell_type": "markdown",
   "id": "9957ff1c",
   "metadata": {},
   "source": [
    "nombre_infected       650\n",
    "nombre_sain          1007\n",
    "nombre_exposed        156\n",
    "nombre_recovered    18187\n",
    "Name: 59, dtype: int64"
   ]
  },
  {
   "cell_type": "markdown",
   "id": "56066d60",
   "metadata": {},
   "source": [
    "nombre_infected       603\n",
    "nombre_sain          1042\n",
    "nombre_exposed        160\n",
    "nombre_recovered    18195\n",
    "Name: 60, dtype: int64"
   ]
  },
  {
   "cell_type": "markdown",
   "id": "03a9abfc",
   "metadata": {},
   "source": [
    "nombre_infected       562\n",
    "nombre_sain          1074\n",
    "nombre_exposed        167\n",
    "nombre_recovered    18197\n",
    "Name: 61, dtype: int64"
   ]
  },
  {
   "cell_type": "markdown",
   "id": "deae50fa",
   "metadata": {},
   "source": [
    "nombre_infected       528\n",
    "nombre_sain          1104\n",
    "nombre_exposed        169\n",
    "nombre_recovered    18199\n",
    "Name: 62, dtype: int64"
   ]
  },
  {
   "cell_type": "markdown",
   "id": "72c481c0",
   "metadata": {},
   "source": [
    "nombre_infected       506\n",
    "nombre_sain          1143\n",
    "nombre_exposed        168\n",
    "nombre_recovered    18183\n",
    "Name: 63, dtype: int64"
   ]
  },
  {
   "cell_type": "markdown",
   "id": "17bfbf8e",
   "metadata": {},
   "source": [
    "nombre_infected       492\n",
    "nombre_sain          1168\n",
    "nombre_exposed        151\n",
    "nombre_recovered    18189\n",
    "Name: 64, dtype: int64"
   ]
  },
  {
   "cell_type": "markdown",
   "id": "5b274ed5",
   "metadata": {},
   "source": [
    "nombre_infected       446\n",
    "nombre_sain          1205\n",
    "nombre_exposed        146\n",
    "nombre_recovered    18203\n",
    "Name: 65, dtype: int64"
   ]
  },
  {
   "cell_type": "markdown",
   "id": "d3a47c56",
   "metadata": {},
   "source": [
    "nombre_infected       403\n",
    "nombre_sain          1227\n",
    "nombre_exposed        143\n",
    "nombre_recovered    18227\n",
    "Name: 66, dtype: int64"
   ]
  },
  {
   "cell_type": "markdown",
   "id": "b9d0daf4",
   "metadata": {},
   "source": [
    "nombre_infected       380\n",
    "nombre_sain          1244\n",
    "nombre_exposed        133\n",
    "nombre_recovered    18243\n",
    "Name: 67, dtype: int64"
   ]
  },
  {
   "cell_type": "markdown",
   "id": "f2402326",
   "metadata": {},
   "source": [
    "nombre_infected       366\n",
    "nombre_sain          1262\n",
    "nombre_exposed        118\n",
    "nombre_recovered    18254\n",
    "Name: 68, dtype: int64"
   ]
  },
  {
   "cell_type": "markdown",
   "id": "6d6cdab8",
   "metadata": {},
   "source": [
    "nombre_infected       341\n",
    "nombre_sain          1286\n",
    "nombre_exposed        119\n",
    "nombre_recovered    18254\n",
    "Name: 69, dtype: int64"
   ]
  },
  {
   "cell_type": "markdown",
   "id": "b5c13c8d",
   "metadata": {},
   "source": [
    "nombre_infected       322\n",
    "nombre_sain          1312\n",
    "nombre_exposed        103\n",
    "nombre_recovered    18263\n",
    "Name: 70, dtype: int64"
   ]
  },
  {
   "cell_type": "markdown",
   "id": "4142ccbb",
   "metadata": {},
   "source": [
    "nombre_infected       293\n",
    "nombre_sain          1348\n",
    "nombre_exposed        108\n",
    "nombre_recovered    18251\n",
    "Name: 71, dtype: int64"
   ]
  },
  {
   "cell_type": "markdown",
   "id": "574910b4",
   "metadata": {},
   "source": [
    "nombre_infected       279\n",
    "nombre_sain          1375\n",
    "nombre_exposed        112\n",
    "nombre_recovered    18234\n",
    "Name: 72, dtype: int64"
   ]
  },
  {
   "cell_type": "markdown",
   "id": "5c862532",
   "metadata": {},
   "source": [
    "nombre_infected       264\n",
    "nombre_sain          1409\n",
    "nombre_exposed        108\n",
    "nombre_recovered    18219\n",
    "Name: 73, dtype: int64"
   ]
  },
  {
   "cell_type": "markdown",
   "id": "83423cc9",
   "metadata": {},
   "source": [
    "nombre_infected       254\n",
    "nombre_sain          1430\n",
    "nombre_exposed        111\n",
    "nombre_recovered    18205\n",
    "Name: 74, dtype: int64"
   ]
  },
  {
   "cell_type": "markdown",
   "id": "0b59af70",
   "metadata": {},
   "source": [
    "nombre_infected       251\n",
    "nombre_sain          1456\n",
    "nombre_exposed        118\n",
    "nombre_recovered    18175\n",
    "Name: 75, dtype: int64"
   ]
  },
  {
   "cell_type": "markdown",
   "id": "25dd5d5a",
   "metadata": {},
   "source": [
    "nombre_infected       237\n",
    "nombre_sain          1479\n",
    "nombre_exposed        123\n",
    "nombre_recovered    18161\n",
    "Name: 76, dtype: int64"
   ]
  },
  {
   "cell_type": "markdown",
   "id": "588cb335",
   "metadata": {},
   "source": [
    "nombre_infected       224\n",
    "nombre_sain          1522\n",
    "nombre_exposed        120\n",
    "nombre_recovered    18134\n",
    "Name: 77, dtype: int64"
   ]
  },
  {
   "cell_type": "markdown",
   "id": "8bf8eafc",
   "metadata": {},
   "source": [
    "nombre_infected       224\n",
    "nombre_sain          1567\n",
    "nombre_exposed        107\n",
    "nombre_recovered    18102\n",
    "Name: 78, dtype: int64"
   ]
  },
  {
   "cell_type": "markdown",
   "id": "a5a0ed82",
   "metadata": {},
   "source": [
    "nombre_infected       234\n",
    "nombre_sain          1593\n",
    "nombre_exposed        104\n",
    "nombre_recovered    18069\n",
    "Name: 79, dtype: int64"
   ]
  },
  {
   "cell_type": "markdown",
   "id": "a1e01df7",
   "metadata": {},
   "source": [
    "nombre_infected       228\n",
    "nombre_sain          1618\n",
    "nombre_exposed        106\n",
    "nombre_recovered    18048\n",
    "Name: 80, dtype: int64"
   ]
  },
  {
   "cell_type": "markdown",
   "id": "b15475bc",
   "metadata": {},
   "source": [
    "nombre_infected       223\n",
    "nombre_sain          1651\n",
    "nombre_exposed        105\n",
    "nombre_recovered    18021\n",
    "Name: 81, dtype: int64"
   ]
  },
  {
   "cell_type": "markdown",
   "id": "fd270a0f",
   "metadata": {},
   "source": [
    "nombre_infected       217\n",
    "nombre_sain          1689\n",
    "nombre_exposed        101\n",
    "nombre_recovered    17993\n",
    "Name: 82, dtype: int64"
   ]
  },
  {
   "cell_type": "markdown",
   "id": "4ffdaa98",
   "metadata": {},
   "source": [
    "nombre_infected       210\n",
    "nombre_sain          1734\n",
    "nombre_exposed         97\n",
    "nombre_recovered    17959\n",
    "Name: 83, dtype: int64"
   ]
  },
  {
   "cell_type": "markdown",
   "id": "474e3921",
   "metadata": {},
   "source": [
    "nombre_infected       204\n",
    "nombre_sain          1784\n",
    "nombre_exposed        103\n",
    "nombre_recovered    17909\n",
    "Name: 84, dtype: int64"
   ]
  },
  {
   "cell_type": "markdown",
   "id": "bfecdba7",
   "metadata": {},
   "source": [
    "nombre_infected       205\n",
    "nombre_sain          1824\n",
    "nombre_exposed         99\n",
    "nombre_recovered    17872\n",
    "Name: 85, dtype: int64"
   ]
  },
  {
   "cell_type": "markdown",
   "id": "b742a27c",
   "metadata": {},
   "source": [
    "nombre_infected       184\n",
    "nombre_sain          1885\n",
    "nombre_exposed        102\n",
    "nombre_recovered    17829\n",
    "Name: 86, dtype: int64"
   ]
  },
  {
   "cell_type": "markdown",
   "id": "7c193949",
   "metadata": {},
   "source": [
    "nombre_infected       179\n",
    "nombre_sain          1958\n",
    "nombre_exposed         97\n",
    "nombre_recovered    17766\n",
    "Name: 87, dtype: int64"
   ]
  },
  {
   "cell_type": "markdown",
   "id": "774c8659",
   "metadata": {},
   "source": [
    "nombre_infected       174\n",
    "nombre_sain          2012\n",
    "nombre_exposed         92\n",
    "nombre_recovered    17722\n",
    "Name: 88, dtype: int64"
   ]
  },
  {
   "cell_type": "markdown",
   "id": "d93a5e5a",
   "metadata": {},
   "source": [
    "nombre_infected       177\n",
    "nombre_sain          2080\n",
    "nombre_exposed         94\n",
    "nombre_recovered    17649\n",
    "Name: 89, dtype: int64"
   ]
  },
  {
   "cell_type": "markdown",
   "id": "8828dc67",
   "metadata": {},
   "source": [
    "nombre_infected       180\n",
    "nombre_sain          2146\n",
    "nombre_exposed         96\n",
    "nombre_recovered    17578\n",
    "Name: 90, dtype: int64"
   ]
  },
  {
   "cell_type": "markdown",
   "id": "cb253480",
   "metadata": {},
   "source": [
    "nombre_infected       178\n",
    "nombre_sain          2193\n",
    "nombre_exposed        109\n",
    "nombre_recovered    17520\n",
    "Name: 91, dtype: int64"
   ]
  },
  {
   "cell_type": "markdown",
   "id": "50be2d4e",
   "metadata": {},
   "source": [
    "nombre_infected       174\n",
    "nombre_sain          2264\n",
    "nombre_exposed        111\n",
    "nombre_recovered    17451\n",
    "Name: 92, dtype: int64"
   ]
  },
  {
   "cell_type": "markdown",
   "id": "70193ec3",
   "metadata": {},
   "source": [
    "nombre_infected       175\n",
    "nombre_sain          2318\n",
    "nombre_exposed        111\n",
    "nombre_recovered    17396\n",
    "Name: 93, dtype: int64"
   ]
  },
  {
   "cell_type": "markdown",
   "id": "dbb94335",
   "metadata": {},
   "source": [
    "nombre_infected       175\n",
    "nombre_sain          2384\n",
    "nombre_exposed        108\n",
    "nombre_recovered    17333\n",
    "Name: 94, dtype: int64"
   ]
  },
  {
   "cell_type": "markdown",
   "id": "c05ac8ee",
   "metadata": {},
   "source": [
    "nombre_infected       175\n",
    "nombre_sain          2436\n",
    "nombre_exposed        115\n",
    "nombre_recovered    17274\n",
    "Name: 95, dtype: int64"
   ]
  },
  {
   "cell_type": "markdown",
   "id": "54bafb32",
   "metadata": {},
   "source": [
    "nombre_infected       174\n",
    "nombre_sain          2481\n",
    "nombre_exposed        126\n",
    "nombre_recovered    17219\n",
    "Name: 96, dtype: int64"
   ]
  },
  {
   "cell_type": "markdown",
   "id": "6cc73df8",
   "metadata": {},
   "source": [
    "nombre_infected       174\n",
    "nombre_sain          2529\n",
    "nombre_exposed        124\n",
    "nombre_recovered    17173\n",
    "Name: 97, dtype: int64"
   ]
  },
  {
   "cell_type": "markdown",
   "id": "39ae27c6",
   "metadata": {},
   "source": [
    "nombre_infected       185\n",
    "nombre_sain          2599\n",
    "nombre_exposed        114\n",
    "nombre_recovered    17102\n",
    "Name: 98, dtype: int64"
   ]
  },
  {
   "cell_type": "markdown",
   "id": "0fea63aa",
   "metadata": {},
   "source": [
    "nombre_infected       184\n",
    "nombre_sain          2669\n",
    "nombre_exposed        117\n",
    "nombre_recovered    17030\n",
    "Name: 99, dtype: int64"
   ]
  },
  {
   "cell_type": "markdown",
   "id": "ec9992ff",
   "metadata": {},
   "source": [
    "nombre_infected       184\n",
    "nombre_sain          2727\n",
    "nombre_exposed        113\n",
    "nombre_recovered    16976\n",
    "Name: 100, dtype: int64"
   ]
  },
  {
   "cell_type": "markdown",
   "id": "a017b4d7",
   "metadata": {},
   "source": [
    "nombre_infected       187\n",
    "nombre_sain          2751\n",
    "nombre_exposed        124\n",
    "nombre_recovered    16938\n",
    "Name: 101, dtype: int64"
   ]
  },
  {
   "cell_type": "markdown",
   "id": "6d6d8631",
   "metadata": {},
   "source": [
    "nombre_infected       179\n",
    "nombre_sain          2788\n",
    "nombre_exposed        132\n",
    "nombre_recovered    16901\n",
    "Name: 102, dtype: int64"
   ]
  },
  {
   "cell_type": "markdown",
   "id": "7bc1b570",
   "metadata": {},
   "source": [
    "nombre_infected       191\n",
    "nombre_sain          2825\n",
    "nombre_exposed        148\n",
    "nombre_recovered    16836\n",
    "Name: 103, dtype: int64"
   ]
  },
  {
   "cell_type": "markdown",
   "id": "290df649",
   "metadata": {},
   "source": [
    "nombre_infected       207\n",
    "nombre_sain          2855\n",
    "nombre_exposed        151\n",
    "nombre_recovered    16787\n",
    "Name: 104, dtype: int64"
   ]
  },
  {
   "cell_type": "markdown",
   "id": "6236f5f3",
   "metadata": {},
   "source": [
    "nombre_infected       221\n",
    "nombre_sain          2891\n",
    "nombre_exposed        149\n",
    "nombre_recovered    16739\n",
    "Name: 105, dtype: int64"
   ]
  },
  {
   "cell_type": "markdown",
   "id": "481aa892",
   "metadata": {},
   "source": [
    "nombre_infected       238\n",
    "nombre_sain          2922\n",
    "nombre_exposed        147\n",
    "nombre_recovered    16693\n",
    "Name: 106, dtype: int64"
   ]
  },
  {
   "cell_type": "markdown",
   "id": "55a3af98",
   "metadata": {},
   "source": [
    "nombre_infected       249\n",
    "nombre_sain          2937\n",
    "nombre_exposed        151\n",
    "nombre_recovered    16663\n",
    "Name: 107, dtype: int64"
   ]
  },
  {
   "cell_type": "markdown",
   "id": "d39af9be",
   "metadata": {},
   "source": [
    "nombre_infected       253\n",
    "nombre_sain          2950\n",
    "nombre_exposed        165\n",
    "nombre_recovered    16632\n",
    "Name: 108, dtype: int64"
   ]
  },
  {
   "cell_type": "markdown",
   "id": "1c1e7c25",
   "metadata": {},
   "source": [
    "nombre_infected       271\n",
    "nombre_sain          2972\n",
    "nombre_exposed        163\n",
    "nombre_recovered    16594\n",
    "Name: 109, dtype: int64"
   ]
  },
  {
   "cell_type": "markdown",
   "id": "dd12c229",
   "metadata": {},
   "source": [
    "nombre_infected       270\n",
    "nombre_sain          2972\n",
    "nombre_exposed        194\n",
    "nombre_recovered    16564\n",
    "Name: 110, dtype: int64"
   ]
  },
  {
   "cell_type": "markdown",
   "id": "b722a832",
   "metadata": {},
   "source": [
    "nombre_infected       272\n",
    "nombre_sain          2989\n",
    "nombre_exposed        193\n",
    "nombre_recovered    16546\n",
    "Name: 111, dtype: int64"
   ]
  },
  {
   "cell_type": "markdown",
   "id": "b3aeb25e",
   "metadata": {},
   "source": [
    "nombre_infected       287\n",
    "nombre_sain          2974\n",
    "nombre_exposed        201\n",
    "nombre_recovered    16538\n",
    "Name: 112, dtype: int64"
   ]
  },
  {
   "cell_type": "markdown",
   "id": "866619c9",
   "metadata": {},
   "source": [
    "nombre_infected       304\n",
    "nombre_sain          2947\n",
    "nombre_exposed        215\n",
    "nombre_recovered    16534\n",
    "Name: 113, dtype: int64"
   ]
  },
  {
   "cell_type": "markdown",
   "id": "0330ea29",
   "metadata": {},
   "source": [
    "nombre_infected       314\n",
    "nombre_sain          2945\n",
    "nombre_exposed        220\n",
    "nombre_recovered    16521\n",
    "Name: 114, dtype: int64"
   ]
  },
  {
   "cell_type": "markdown",
   "id": "1a921d16",
   "metadata": {},
   "source": [
    "nombre_infected       324\n",
    "nombre_sain          2927\n",
    "nombre_exposed        226\n",
    "nombre_recovered    16523\n",
    "Name: 115, dtype: int64"
   ]
  },
  {
   "cell_type": "markdown",
   "id": "e5172148",
   "metadata": {},
   "source": [
    "nombre_infected       316\n",
    "nombre_sain          2902\n",
    "nombre_exposed        252\n",
    "nombre_recovered    16530\n",
    "Name: 116, dtype: int64"
   ]
  },
  {
   "cell_type": "markdown",
   "id": "430e3f95",
   "metadata": {},
   "source": [
    "nombre_infected       338\n",
    "nombre_sain          2868\n",
    "nombre_exposed        256\n",
    "nombre_recovered    16538\n",
    "Name: 117, dtype: int64"
   ]
  },
  {
   "cell_type": "markdown",
   "id": "80e4f862",
   "metadata": {},
   "source": [
    "nombre_infected       362\n",
    "nombre_sain          2851\n",
    "nombre_exposed        248\n",
    "nombre_recovered    16539\n",
    "Name: 118, dtype: int64"
   ]
  },
  {
   "cell_type": "markdown",
   "id": "6e3185e7",
   "metadata": {},
   "source": [
    "nombre_infected       388\n",
    "nombre_sain          2846\n",
    "nombre_exposed        246\n",
    "nombre_recovered    16520\n",
    "Name: 119, dtype: int64"
   ]
  },
  {
   "cell_type": "markdown",
   "id": "7a00b362",
   "metadata": {},
   "source": [
    "nombre_infected       397\n",
    "nombre_sain          2843\n",
    "nombre_exposed        248\n",
    "nombre_recovered    16512\n",
    "Name: 120, dtype: int64"
   ]
  },
  {
   "cell_type": "markdown",
   "id": "1119752a",
   "metadata": {},
   "source": [
    "nombre_infected       393\n",
    "nombre_sain          2831\n",
    "nombre_exposed        264\n",
    "nombre_recovered    16512\n",
    "Name: 121, dtype: int64"
   ]
  },
  {
   "cell_type": "markdown",
   "id": "39a47bda",
   "metadata": {},
   "source": [
    "nombre_infected       416\n",
    "nombre_sain          2806\n",
    "nombre_exposed        274\n",
    "nombre_recovered    16504\n",
    "Name: 122, dtype: int64"
   ]
  },
  {
   "cell_type": "markdown",
   "id": "440db930",
   "metadata": {},
   "source": [
    "nombre_infected       449\n",
    "nombre_sain          2788\n",
    "nombre_exposed        258\n",
    "nombre_recovered    16505\n",
    "Name: 123, dtype: int64"
   ]
  },
  {
   "cell_type": "markdown",
   "id": "d95b97c7",
   "metadata": {},
   "source": [
    "nombre_infected       463\n",
    "nombre_sain          2760\n",
    "nombre_exposed        269\n",
    "nombre_recovered    16508\n",
    "Name: 124, dtype: int64"
   ]
  },
  {
   "cell_type": "markdown",
   "id": "33847146",
   "metadata": {},
   "source": [
    "nombre_infected       482\n",
    "nombre_sain          2724\n",
    "nombre_exposed        298\n",
    "nombre_recovered    16496\n",
    "Name: 125, dtype: int64"
   ]
  },
  {
   "cell_type": "markdown",
   "id": "939c8b9b",
   "metadata": {},
   "source": [
    "nombre_infected       500\n",
    "nombre_sain          2706\n",
    "nombre_exposed        297\n",
    "nombre_recovered    16497\n",
    "Name: 126, dtype: int64"
   ]
  },
  {
   "cell_type": "markdown",
   "id": "0508a120",
   "metadata": {},
   "source": [
    "nombre_infected       526\n",
    "nombre_sain          2662\n",
    "nombre_exposed        304\n",
    "nombre_recovered    16508\n",
    "Name: 127, dtype: int64"
   ]
  },
  {
   "cell_type": "markdown",
   "id": "234e9526",
   "metadata": {},
   "source": [
    "nombre_infected       546\n",
    "nombre_sain          2627\n",
    "nombre_exposed        314\n",
    "nombre_recovered    16513\n",
    "Name: 128, dtype: int64"
   ]
  },
  {
   "cell_type": "markdown",
   "id": "fba54023",
   "metadata": {},
   "source": [
    "nombre_infected       563\n",
    "nombre_sain          2612\n",
    "nombre_exposed        311\n",
    "nombre_recovered    16514\n",
    "Name: 129, dtype: int64"
   ]
  },
  {
   "cell_type": "markdown",
   "id": "74eaa49d",
   "metadata": {},
   "source": [
    "nombre_infected       578\n",
    "nombre_sain          2569\n",
    "nombre_exposed        315\n",
    "nombre_recovered    16538\n",
    "Name: 130, dtype: int64"
   ]
  },
  {
   "cell_type": "markdown",
   "id": "8d90fd2e",
   "metadata": {},
   "source": [
    "nombre_infected       601\n",
    "nombre_sain          2553\n",
    "nombre_exposed        318\n",
    "nombre_recovered    16528\n",
    "Name: 131, dtype: int64"
   ]
  },
  {
   "cell_type": "markdown",
   "id": "1e840848",
   "metadata": {},
   "source": [
    "nombre_infected       596\n",
    "nombre_sain          2518\n",
    "nombre_exposed        341\n",
    "nombre_recovered    16545\n",
    "Name: 132, dtype: int64"
   ]
  },
  {
   "cell_type": "markdown",
   "id": "dca63271",
   "metadata": {},
   "source": [
    "nombre_infected       589\n",
    "nombre_sain          2475\n",
    "nombre_exposed        358\n",
    "nombre_recovered    16578\n",
    "Name: 133, dtype: int64"
   ]
  },
  {
   "cell_type": "markdown",
   "id": "b7197735",
   "metadata": {},
   "source": [
    "nombre_infected       611\n",
    "nombre_sain          2424\n",
    "nombre_exposed        369\n",
    "nombre_recovered    16596\n",
    "Name: 134, dtype: int64"
   ]
  },
  {
   "cell_type": "markdown",
   "id": "50f35430",
   "metadata": {},
   "source": [
    "nombre_infected       631\n",
    "nombre_sain          2411\n",
    "nombre_exposed        366\n",
    "nombre_recovered    16592\n",
    "Name: 135, dtype: int64"
   ]
  },
  {
   "cell_type": "markdown",
   "id": "a2014b50",
   "metadata": {},
   "source": [
    "nombre_infected       653\n",
    "nombre_sain          2388\n",
    "nombre_exposed        355\n",
    "nombre_recovered    16604\n",
    "Name: 136, dtype: int64"
   ]
  },
  {
   "cell_type": "markdown",
   "id": "db5ce15b",
   "metadata": {},
   "source": [
    "nombre_infected       631\n",
    "nombre_sain          2360\n",
    "nombre_exposed        372\n",
    "nombre_recovered    16637\n",
    "Name: 137, dtype: int64"
   ]
  },
  {
   "cell_type": "markdown",
   "id": "6aeafbbc",
   "metadata": {},
   "source": [
    "nombre_infected       615\n",
    "nombre_sain          2352\n",
    "nombre_exposed        384\n",
    "nombre_recovered    16649\n",
    "Name: 138, dtype: int64"
   ]
  },
  {
   "cell_type": "markdown",
   "id": "c00649fe",
   "metadata": {},
   "source": [
    "nombre_infected       641\n",
    "nombre_sain          2357\n",
    "nombre_exposed        363\n",
    "nombre_recovered    16639\n",
    "Name: 139, dtype: int64"
   ]
  },
  {
   "cell_type": "markdown",
   "id": "d364f89b",
   "metadata": {},
   "source": [
    "nombre_infected       658\n",
    "nombre_sain          2324\n",
    "nombre_exposed        380\n",
    "nombre_recovered    16638\n",
    "Name: 140, dtype: int64"
   ]
  },
  {
   "cell_type": "markdown",
   "id": "bb71c999",
   "metadata": {},
   "source": [
    "nombre_infected       675\n",
    "nombre_sain          2304\n",
    "nombre_exposed        379\n",
    "nombre_recovered    16642\n",
    "Name: 141, dtype: int64"
   ]
  },
  {
   "cell_type": "markdown",
   "id": "ef686485",
   "metadata": {},
   "source": [
    "nombre_infected       688\n",
    "nombre_sain          2273\n",
    "nombre_exposed        403\n",
    "nombre_recovered    16636\n",
    "Name: 142, dtype: int64"
   ]
  },
  {
   "cell_type": "markdown",
   "id": "f30af6a3",
   "metadata": {},
   "source": [
    "nombre_infected       687\n",
    "nombre_sain          2250\n",
    "nombre_exposed        421\n",
    "nombre_recovered    16642\n",
    "Name: 143, dtype: int64"
   ]
  },
  {
   "cell_type": "markdown",
   "id": "60793f56",
   "metadata": {},
   "source": [
    "nombre_infected       727\n",
    "nombre_sain          2225\n",
    "nombre_exposed        411\n",
    "nombre_recovered    16637\n",
    "Name: 144, dtype: int64"
   ]
  },
  {
   "cell_type": "markdown",
   "id": "f9a1e813",
   "metadata": {},
   "source": [
    "nombre_infected       747\n",
    "nombre_sain          2200\n",
    "nombre_exposed        407\n",
    "nombre_recovered    16646\n",
    "Name: 145, dtype: int64"
   ]
  },
  {
   "cell_type": "markdown",
   "id": "d660a20e",
   "metadata": {},
   "source": [
    "nombre_infected       762\n",
    "nombre_sain          2187\n",
    "nombre_exposed        401\n",
    "nombre_recovered    16650\n",
    "Name: 146, dtype: int64"
   ]
  },
  {
   "cell_type": "markdown",
   "id": "5dbc7f18",
   "metadata": {},
   "source": [
    "nombre_infected       774\n",
    "nombre_sain          2157\n",
    "nombre_exposed        397\n",
    "nombre_recovered    16672\n",
    "Name: 147, dtype: int64"
   ]
  },
  {
   "cell_type": "markdown",
   "id": "47c5f1b7",
   "metadata": {},
   "source": [
    "nombre_infected       762\n",
    "nombre_sain          2132\n",
    "nombre_exposed        414\n",
    "nombre_recovered    16692\n",
    "Name: 148, dtype: int64"
   ]
  },
  {
   "cell_type": "markdown",
   "id": "968c5219",
   "metadata": {},
   "source": [
    "nombre_infected       761\n",
    "nombre_sain          2095\n",
    "nombre_exposed        430\n",
    "nombre_recovered    16714\n",
    "Name: 149, dtype: int64"
   ]
  },
  {
   "cell_type": "markdown",
   "id": "4c5838d9",
   "metadata": {},
   "source": [
    "nombre_infected       771\n",
    "nombre_sain          2068\n",
    "nombre_exposed        429\n",
    "nombre_recovered    16732\n",
    "Name: 150, dtype: int64"
   ]
  },
  {
   "cell_type": "markdown",
   "id": "58d12829",
   "metadata": {},
   "source": [
    "nombre_infected       792\n",
    "nombre_sain          2061\n",
    "nombre_exposed        409\n",
    "nombre_recovered    16738\n",
    "Name: 151, dtype: int64"
   ]
  },
  {
   "cell_type": "markdown",
   "id": "7c6743e8",
   "metadata": {},
   "source": [
    "nombre_infected       811\n",
    "nombre_sain          2020\n",
    "nombre_exposed        411\n",
    "nombre_recovered    16758\n",
    "Name: 152, dtype: int64"
   ]
  },
  {
   "cell_type": "markdown",
   "id": "5c6cf5f7",
   "metadata": {},
   "source": [
    "nombre_infected       815\n",
    "nombre_sain          2000\n",
    "nombre_exposed        427\n",
    "nombre_recovered    16758\n",
    "Name: 153, dtype: int64"
   ]
  },
  {
   "cell_type": "markdown",
   "id": "c5c987c1",
   "metadata": {},
   "source": [
    "nombre_infected       835\n",
    "nombre_sain          2019\n",
    "nombre_exposed        380\n",
    "nombre_recovered    16766\n",
    "Name: 154, dtype: int64"
   ]
  },
  {
   "cell_type": "markdown",
   "id": "8d0af392",
   "metadata": {},
   "source": [
    "nombre_infected       828\n",
    "nombre_sain          1996\n",
    "nombre_exposed        407\n",
    "nombre_recovered    16769\n",
    "Name: 155, dtype: int64"
   ]
  },
  {
   "cell_type": "markdown",
   "id": "3e71bda5",
   "metadata": {},
   "source": [
    "nombre_infected       845\n",
    "nombre_sain          2005\n",
    "nombre_exposed        394\n",
    "nombre_recovered    16756\n",
    "Name: 156, dtype: int64"
   ]
  },
  {
   "cell_type": "markdown",
   "id": "0f52ab70",
   "metadata": {},
   "source": [
    "nombre_infected       827\n",
    "nombre_sain          2027\n",
    "nombre_exposed        400\n",
    "nombre_recovered    16746\n",
    "Name: 157, dtype: int64"
   ]
  },
  {
   "cell_type": "markdown",
   "id": "ee8a2bc5",
   "metadata": {},
   "source": [
    "nombre_infected       814\n",
    "nombre_sain          2021\n",
    "nombre_exposed        421\n",
    "nombre_recovered    16744\n",
    "Name: 158, dtype: int64"
   ]
  },
  {
   "cell_type": "markdown",
   "id": "015de999",
   "metadata": {},
   "source": [
    "nombre_infected       801\n",
    "nombre_sain          2009\n",
    "nombre_exposed        411\n",
    "nombre_recovered    16779\n",
    "Name: 159, dtype: int64"
   ]
  },
  {
   "cell_type": "markdown",
   "id": "aef6f2f8",
   "metadata": {},
   "source": [
    "nombre_infected       813\n",
    "nombre_sain          1991\n",
    "nombre_exposed        401\n",
    "nombre_recovered    16795\n",
    "Name: 160, dtype: int64"
   ]
  },
  {
   "cell_type": "markdown",
   "id": "51924ab0",
   "metadata": {},
   "source": [
    "nombre_infected       805\n",
    "nombre_sain          1995\n",
    "nombre_exposed        409\n",
    "nombre_recovered    16791\n",
    "Name: 161, dtype: int64"
   ]
  },
  {
   "cell_type": "markdown",
   "id": "b4d64074",
   "metadata": {},
   "source": [
    "nombre_infected       814\n",
    "nombre_sain          2007\n",
    "nombre_exposed        394\n",
    "nombre_recovered    16785\n",
    "Name: 162, dtype: int64"
   ]
  },
  {
   "cell_type": "markdown",
   "id": "e32707c4",
   "metadata": {},
   "source": [
    "nombre_infected       821\n",
    "nombre_sain          1968\n",
    "nombre_exposed        414\n",
    "nombre_recovered    16797\n",
    "Name: 163, dtype: int64"
   ]
  },
  {
   "cell_type": "markdown",
   "id": "660c5fa9",
   "metadata": {},
   "source": [
    "nombre_infected       824\n",
    "nombre_sain          1942\n",
    "nombre_exposed        427\n",
    "nombre_recovered    16807\n",
    "Name: 164, dtype: int64"
   ]
  },
  {
   "cell_type": "markdown",
   "id": "490835d5",
   "metadata": {},
   "source": [
    "nombre_infected       810\n",
    "nombre_sain          1930\n",
    "nombre_exposed        442\n",
    "nombre_recovered    16818\n",
    "Name: 165, dtype: int64"
   ]
  },
  {
   "cell_type": "markdown",
   "id": "09052aa5",
   "metadata": {},
   "source": [
    "nombre_infected       818\n",
    "nombre_sain          1903\n",
    "nombre_exposed        445\n",
    "nombre_recovered    16834\n",
    "Name: 166, dtype: int64"
   ]
  },
  {
   "cell_type": "markdown",
   "id": "3c8e2bd8",
   "metadata": {},
   "source": [
    "nombre_infected       843\n",
    "nombre_sain          1906\n",
    "nombre_exposed        425\n",
    "nombre_recovered    16826\n",
    "Name: 167, dtype: int64"
   ]
  },
  {
   "cell_type": "markdown",
   "id": "69e84e57",
   "metadata": {},
   "source": [
    "nombre_infected       842\n",
    "nombre_sain          1897\n",
    "nombre_exposed        437\n",
    "nombre_recovered    16824\n",
    "Name: 168, dtype: int64"
   ]
  },
  {
   "cell_type": "markdown",
   "id": "bf969131",
   "metadata": {},
   "source": [
    "nombre_infected       840\n",
    "nombre_sain          1903\n",
    "nombre_exposed        419\n",
    "nombre_recovered    16838\n",
    "Name: 169, dtype: int64"
   ]
  },
  {
   "cell_type": "markdown",
   "id": "8a8705bb",
   "metadata": {},
   "source": [
    "nombre_infected       853\n",
    "nombre_sain          1899\n",
    "nombre_exposed        399\n",
    "nombre_recovered    16849\n",
    "Name: 170, dtype: int64"
   ]
  },
  {
   "cell_type": "markdown",
   "id": "0bca20d1",
   "metadata": {},
   "source": [
    "nombre_infected       848\n",
    "nombre_sain          1880\n",
    "nombre_exposed        420\n",
    "nombre_recovered    16852\n",
    "Name: 171, dtype: int64"
   ]
  },
  {
   "cell_type": "markdown",
   "id": "5ae73ee8",
   "metadata": {},
   "source": [
    "nombre_infected       835\n",
    "nombre_sain          1887\n",
    "nombre_exposed        428\n",
    "nombre_recovered    16850\n",
    "Name: 172, dtype: int64"
   ]
  },
  {
   "cell_type": "markdown",
   "id": "336375be",
   "metadata": {},
   "source": [
    "nombre_infected       826\n",
    "nombre_sain          1900\n",
    "nombre_exposed        421\n",
    "nombre_recovered    16853\n",
    "Name: 173, dtype: int64"
   ]
  },
  {
   "cell_type": "markdown",
   "id": "2c90821b",
   "metadata": {},
   "source": [
    "nombre_infected       832\n",
    "nombre_sain          1923\n",
    "nombre_exposed        404\n",
    "nombre_recovered    16841\n",
    "Name: 174, dtype: int64"
   ]
  },
  {
   "cell_type": "markdown",
   "id": "12d98f59",
   "metadata": {},
   "source": [
    "nombre_infected       833\n",
    "nombre_sain          1920\n",
    "nombre_exposed        400\n",
    "nombre_recovered    16847\n",
    "Name: 175, dtype: int64"
   ]
  },
  {
   "cell_type": "markdown",
   "id": "2758b98a",
   "metadata": {},
   "source": [
    "nombre_infected       829\n",
    "nombre_sain          1936\n",
    "nombre_exposed        378\n",
    "nombre_recovered    16857\n",
    "Name: 176, dtype: int64"
   ]
  },
  {
   "cell_type": "markdown",
   "id": "13dec34f",
   "metadata": {},
   "source": [
    "nombre_infected       829\n",
    "nombre_sain          1938\n",
    "nombre_exposed        378\n",
    "nombre_recovered    16855\n",
    "Name: 177, dtype: int64"
   ]
  },
  {
   "cell_type": "markdown",
   "id": "83c50067",
   "metadata": {},
   "source": [
    "nombre_infected       812\n",
    "nombre_sain          1948\n",
    "nombre_exposed        395\n",
    "nombre_recovered    16845\n",
    "Name: 178, dtype: int64"
   ]
  },
  {
   "cell_type": "markdown",
   "id": "de5d1b63",
   "metadata": {},
   "source": [
    "nombre_infected       825\n",
    "nombre_sain          1951\n",
    "nombre_exposed        405\n",
    "nombre_recovered    16819\n",
    "Name: 179, dtype: int64"
   ]
  },
  {
   "cell_type": "markdown",
   "id": "29bb043e",
   "metadata": {},
   "source": [
    "nombre_infected       812\n",
    "nombre_sain          1976\n",
    "nombre_exposed        412\n",
    "nombre_recovered    16800\n",
    "Name: 180, dtype: int64"
   ]
  },
  {
   "cell_type": "markdown",
   "id": "6e6c8633",
   "metadata": {},
   "source": [
    "nombre_infected       815\n",
    "nombre_sain          1983\n",
    "nombre_exposed        414\n",
    "nombre_recovered    16788\n",
    "Name: 181, dtype: int64"
   ]
  },
  {
   "cell_type": "markdown",
   "id": "2159a6bf",
   "metadata": {},
   "source": [
    "nombre_infected       823\n",
    "nombre_sain          2000\n",
    "nombre_exposed        397\n",
    "nombre_recovered    16780\n",
    "Name: 182, dtype: int64"
   ]
  },
  {
   "cell_type": "markdown",
   "id": "8fe7b331",
   "metadata": {},
   "source": [
    "nombre_infected       842\n",
    "nombre_sain          1992\n",
    "nombre_exposed        402\n",
    "nombre_recovered    16764\n",
    "Name: 183, dtype: int64"
   ]
  },
  {
   "cell_type": "markdown",
   "id": "231aa5b6",
   "metadata": {},
   "source": [
    "nombre_infected       860\n",
    "nombre_sain          1978\n",
    "nombre_exposed        411\n",
    "nombre_recovered    16751\n",
    "Name: 184, dtype: int64"
   ]
  },
  {
   "cell_type": "markdown",
   "id": "0922308d",
   "metadata": {},
   "source": [
    "nombre_infected       826\n",
    "nombre_sain          1980\n",
    "nombre_exposed        435\n",
    "nombre_recovered    16759\n",
    "Name: 185, dtype: int64"
   ]
  },
  {
   "cell_type": "markdown",
   "id": "cd060964",
   "metadata": {},
   "source": [
    "nombre_infected       841\n",
    "nombre_sain          2010\n",
    "nombre_exposed        415\n",
    "nombre_recovered    16734\n",
    "Name: 186, dtype: int64"
   ]
  },
  {
   "cell_type": "markdown",
   "id": "6c81f243",
   "metadata": {},
   "source": [
    "nombre_infected       853\n",
    "nombre_sain          2009\n",
    "nombre_exposed        420\n",
    "nombre_recovered    16718\n",
    "Name: 187, dtype: int64"
   ]
  },
  {
   "cell_type": "markdown",
   "id": "beeeefc8",
   "metadata": {},
   "source": [
    "nombre_infected       861\n",
    "nombre_sain          2037\n",
    "nombre_exposed        414\n",
    "nombre_recovered    16688\n",
    "Name: 188, dtype: int64"
   ]
  },
  {
   "cell_type": "markdown",
   "id": "a3e0f9dc",
   "metadata": {},
   "source": [
    "nombre_infected       892\n",
    "nombre_sain          2049\n",
    "nombre_exposed        386\n",
    "nombre_recovered    16673\n",
    "Name: 189, dtype: int64"
   ]
  },
  {
   "cell_type": "markdown",
   "id": "bc43e9e7",
   "metadata": {},
   "source": [
    "nombre_infected       895\n",
    "nombre_sain          2037\n",
    "nombre_exposed        418\n",
    "nombre_recovered    16650\n",
    "Name: 190, dtype: int64"
   ]
  },
  {
   "cell_type": "markdown",
   "id": "7f1d8e54",
   "metadata": {},
   "source": [
    "nombre_infected       880\n",
    "nombre_sain          2047\n",
    "nombre_exposed        429\n",
    "nombre_recovered    16644\n",
    "Name: 191, dtype: int64"
   ]
  },
  {
   "cell_type": "markdown",
   "id": "0dcd2d35",
   "metadata": {},
   "source": [
    "nombre_infected       893\n",
    "nombre_sain          2019\n",
    "nombre_exposed        443\n",
    "nombre_recovered    16645\n",
    "Name: 192, dtype: int64"
   ]
  },
  {
   "cell_type": "markdown",
   "id": "17137c00",
   "metadata": {},
   "source": [
    "nombre_infected       911\n",
    "nombre_sain          2021\n",
    "nombre_exposed        446\n",
    "nombre_recovered    16622\n",
    "Name: 193, dtype: int64"
   ]
  },
  {
   "cell_type": "markdown",
   "id": "989ca011",
   "metadata": {},
   "source": [
    "nombre_infected       930\n",
    "nombre_sain          1993\n",
    "nombre_exposed        456\n",
    "nombre_recovered    16621\n",
    "Name: 194, dtype: int64"
   ]
  },
  {
   "cell_type": "markdown",
   "id": "354e9e3e",
   "metadata": {},
   "source": [
    "nombre_infected       939\n",
    "nombre_sain          1971\n",
    "nombre_exposed        480\n",
    "nombre_recovered    16610\n",
    "Name: 195, dtype: int64"
   ]
  },
  {
   "cell_type": "markdown",
   "id": "a1103ea0",
   "metadata": {},
   "source": [
    "nombre_infected       939\n",
    "nombre_sain          1943\n",
    "nombre_exposed        493\n",
    "nombre_recovered    16625\n",
    "Name: 196, dtype: int64"
   ]
  },
  {
   "cell_type": "markdown",
   "id": "271f8946",
   "metadata": {},
   "source": [
    "nombre_infected       969\n",
    "nombre_sain          1943\n",
    "nombre_exposed        468\n",
    "nombre_recovered    16620\n",
    "Name: 197, dtype: int64"
   ]
  },
  {
   "cell_type": "markdown",
   "id": "9d4075ac",
   "metadata": {},
   "source": [
    "nombre_infected       982\n",
    "nombre_sain          1945\n",
    "nombre_exposed        450\n",
    "nombre_recovered    16623\n",
    "Name: 198, dtype: int64"
   ]
  },
  {
   "cell_type": "markdown",
   "id": "19e22207",
   "metadata": {},
   "source": [
    "nombre_infected      1008\n",
    "nombre_sain          1919\n",
    "nombre_exposed        444\n",
    "nombre_recovered    16629\n",
    "Name: 199, dtype: int64"
   ]
  },
  {
   "cell_type": "markdown",
   "id": "1ffbdc94",
   "metadata": {},
   "source": [
    "nombre_infected       992\n",
    "nombre_sain          1896\n",
    "nombre_exposed        452\n",
    "nombre_recovered    16660\n",
    "Name: 200, dtype: int64"
   ]
  },
  {
   "cell_type": "markdown",
   "id": "8c044a46",
   "metadata": {},
   "source": [
    "nombre_infected      1010\n",
    "nombre_sain          1866\n",
    "nombre_exposed        438\n",
    "nombre_recovered    16686\n",
    "Name: 201, dtype: int64"
   ]
  },
  {
   "cell_type": "markdown",
   "id": "4bd8e6e4",
   "metadata": {},
   "source": [
    "nombre_infected      1006\n",
    "nombre_sain          1850\n",
    "nombre_exposed        460\n",
    "nombre_recovered    16684\n",
    "Name: 202, dtype: int64"
   ]
  },
  {
   "cell_type": "markdown",
   "id": "474f8d64",
   "metadata": {},
   "source": [
    "nombre_infected      1004\n",
    "nombre_sain          1833\n",
    "nombre_exposed        471\n",
    "nombre_recovered    16692\n",
    "Name: 203, dtype: int64"
   ]
  },
  {
   "cell_type": "markdown",
   "id": "6146cb57",
   "metadata": {},
   "source": [
    "nombre_infected      1014\n",
    "nombre_sain          1835\n",
    "nombre_exposed        457\n",
    "nombre_recovered    16694\n",
    "Name: 204, dtype: int64"
   ]
  },
  {
   "cell_type": "markdown",
   "id": "5a57b1ad",
   "metadata": {},
   "source": [
    "nombre_infected      1000\n",
    "nombre_sain          1825\n",
    "nombre_exposed        456\n",
    "nombre_recovered    16719\n",
    "Name: 205, dtype: int64"
   ]
  },
  {
   "cell_type": "markdown",
   "id": "5523f8c3",
   "metadata": {},
   "source": [
    "nombre_infected      1006\n",
    "nombre_sain          1814\n",
    "nombre_exposed        421\n",
    "nombre_recovered    16759\n",
    "Name: 206, dtype: int64"
   ]
  },
  {
   "cell_type": "markdown",
   "id": "9c902afd",
   "metadata": {},
   "source": [
    "nombre_infected      1007\n",
    "nombre_sain          1785\n",
    "nombre_exposed        442\n",
    "nombre_recovered    16766\n",
    "Name: 207, dtype: int64"
   ]
  },
  {
   "cell_type": "markdown",
   "id": "8144f58c",
   "metadata": {},
   "source": [
    "nombre_infected      1021\n",
    "nombre_sain          1791\n",
    "nombre_exposed        441\n",
    "nombre_recovered    16747\n",
    "Name: 208, dtype: int64"
   ]
  },
  {
   "cell_type": "markdown",
   "id": "9abb8800",
   "metadata": {},
   "source": [
    "nombre_infected      1006\n",
    "nombre_sain          1783\n",
    "nombre_exposed        432\n",
    "nombre_recovered    16779\n",
    "Name: 209, dtype: int64"
   ]
  },
  {
   "cell_type": "markdown",
   "id": "b52cb5b6",
   "metadata": {},
   "source": [
    "nombre_infected      1016\n",
    "nombre_sain          1784\n",
    "nombre_exposed        432\n",
    "nombre_recovered    16768\n",
    "Name: 210, dtype: int64"
   ]
  },
  {
   "cell_type": "markdown",
   "id": "942c5999",
   "metadata": {},
   "source": [
    "nombre_infected      1001\n",
    "nombre_sain          1771\n",
    "nombre_exposed        436\n",
    "nombre_recovered    16792\n",
    "Name: 211, dtype: int64"
   ]
  },
  {
   "cell_type": "markdown",
   "id": "34be653b",
   "metadata": {},
   "source": [
    "nombre_infected      1018\n",
    "nombre_sain          1804\n",
    "nombre_exposed        423\n",
    "nombre_recovered    16755\n",
    "Name: 212, dtype: int64"
   ]
  },
  {
   "cell_type": "markdown",
   "id": "5530c043",
   "metadata": {},
   "source": [
    "nombre_infected       995\n",
    "nombre_sain          1802\n",
    "nombre_exposed        428\n",
    "nombre_recovered    16775\n",
    "Name: 213, dtype: int64"
   ]
  },
  {
   "cell_type": "markdown",
   "id": "b0ebfd4b",
   "metadata": {},
   "source": [
    "nombre_infected       960\n",
    "nombre_sain          1831\n",
    "nombre_exposed        413\n",
    "nombre_recovered    16796\n",
    "Name: 214, dtype: int64"
   ]
  },
  {
   "cell_type": "markdown",
   "id": "8cfcf2ea",
   "metadata": {},
   "source": [
    "nombre_infected       970\n",
    "nombre_sain          1847\n",
    "nombre_exposed        399\n",
    "nombre_recovered    16784\n",
    "Name: 215, dtype: int64"
   ]
  },
  {
   "cell_type": "markdown",
   "id": "be6910e2",
   "metadata": {},
   "source": [
    "nombre_infected       937\n",
    "nombre_sain          1849\n",
    "nombre_exposed        408\n",
    "nombre_recovered    16806\n",
    "Name: 216, dtype: int64"
   ]
  },
  {
   "cell_type": "markdown",
   "id": "47595fd7",
   "metadata": {},
   "source": [
    "nombre_infected       924\n",
    "nombre_sain          1841\n",
    "nombre_exposed        427\n",
    "nombre_recovered    16808\n",
    "Name: 217, dtype: int64"
   ]
  },
  {
   "cell_type": "markdown",
   "id": "ba7e756a",
   "metadata": {},
   "source": [
    "nombre_infected       916\n",
    "nombre_sain          1838\n",
    "nombre_exposed        431\n",
    "nombre_recovered    16815\n",
    "Name: 218, dtype: int64"
   ]
  },
  {
   "cell_type": "markdown",
   "id": "3893baf5",
   "metadata": {},
   "source": [
    "nombre_infected       926\n",
    "nombre_sain          1830\n",
    "nombre_exposed        418\n",
    "nombre_recovered    16826\n",
    "Name: 219, dtype: int64"
   ]
  },
  {
   "cell_type": "markdown",
   "id": "7faeb718",
   "metadata": {},
   "source": [
    "nombre_infected       936\n",
    "nombre_sain          1843\n",
    "nombre_exposed        402\n",
    "nombre_recovered    16819\n",
    "Name: 220, dtype: int64"
   ]
  },
  {
   "cell_type": "markdown",
   "id": "a532e698",
   "metadata": {},
   "source": [
    "nombre_infected       921\n",
    "nombre_sain          1819\n",
    "nombre_exposed        395\n",
    "nombre_recovered    16865\n",
    "Name: 221, dtype: int64"
   ]
  },
  {
   "cell_type": "markdown",
   "id": "6db723c3",
   "metadata": {},
   "source": [
    "nombre_infected       893\n",
    "nombre_sain          1809\n",
    "nombre_exposed        396\n",
    "nombre_recovered    16902\n",
    "Name: 222, dtype: int64"
   ]
  },
  {
   "cell_type": "markdown",
   "id": "f8887389",
   "metadata": {},
   "source": [
    "nombre_infected       876\n",
    "nombre_sain          1815\n",
    "nombre_exposed        391\n",
    "nombre_recovered    16918\n",
    "Name: 223, dtype: int64"
   ]
  },
  {
   "cell_type": "markdown",
   "id": "a0e56c82",
   "metadata": {},
   "source": [
    "nombre_infected       875\n",
    "nombre_sain          1827\n",
    "nombre_exposed        378\n",
    "nombre_recovered    16920\n",
    "Name: 224, dtype: int64"
   ]
  },
  {
   "cell_type": "markdown",
   "id": "9cd46051",
   "metadata": {},
   "source": [
    "nombre_infected       847\n",
    "nombre_sain          1816\n",
    "nombre_exposed        383\n",
    "nombre_recovered    16954\n",
    "Name: 225, dtype: int64"
   ]
  },
  {
   "cell_type": "markdown",
   "id": "b5445b36",
   "metadata": {},
   "source": [
    "nombre_infected       833\n",
    "nombre_sain          1820\n",
    "nombre_exposed        369\n",
    "nombre_recovered    16978\n",
    "Name: 226, dtype: int64"
   ]
  },
  {
   "cell_type": "markdown",
   "id": "3e27fa94",
   "metadata": {},
   "source": [
    "nombre_infected       837\n",
    "nombre_sain          1811\n",
    "nombre_exposed        373\n",
    "nombre_recovered    16979\n",
    "Name: 227, dtype: int64"
   ]
  },
  {
   "cell_type": "markdown",
   "id": "f5b774f9",
   "metadata": {},
   "source": [
    "nombre_infected       849\n",
    "nombre_sain          1805\n",
    "nombre_exposed        371\n",
    "nombre_recovered    16975\n",
    "Name: 228, dtype: int64"
   ]
  },
  {
   "cell_type": "markdown",
   "id": "d1d7195d",
   "metadata": {},
   "source": [
    "nombre_infected       840\n",
    "nombre_sain          1819\n",
    "nombre_exposed        371\n",
    "nombre_recovered    16970\n",
    "Name: 229, dtype: int64"
   ]
  },
  {
   "cell_type": "markdown",
   "id": "a2ee7be5",
   "metadata": {},
   "source": [
    "nombre_infected       813\n",
    "nombre_sain          1834\n",
    "nombre_exposed        373\n",
    "nombre_recovered    16980\n",
    "Name: 230, dtype: int64"
   ]
  },
  {
   "cell_type": "markdown",
   "id": "60aa668e",
   "metadata": {},
   "source": [
    "nombre_infected       819\n",
    "nombre_sain          1831\n",
    "nombre_exposed        372\n",
    "nombre_recovered    16978\n",
    "Name: 231, dtype: int64"
   ]
  },
  {
   "cell_type": "markdown",
   "id": "2e4b8b93",
   "metadata": {},
   "source": [
    "nombre_infected       814\n",
    "nombre_sain          1830\n",
    "nombre_exposed        389\n",
    "nombre_recovered    16967\n",
    "Name: 232, dtype: int64"
   ]
  },
  {
   "cell_type": "markdown",
   "id": "73fc5289",
   "metadata": {},
   "source": [
    "nombre_infected       820\n",
    "nombre_sain          1848\n",
    "nombre_exposed        390\n",
    "nombre_recovered    16942\n",
    "Name: 233, dtype: int64"
   ]
  },
  {
   "cell_type": "markdown",
   "id": "d2f09bcb",
   "metadata": {},
   "source": [
    "nombre_infected       832\n",
    "nombre_sain          1868\n",
    "nombre_exposed        377\n",
    "nombre_recovered    16923\n",
    "Name: 234, dtype: int64"
   ]
  },
  {
   "cell_type": "markdown",
   "id": "fb788a3c",
   "metadata": {},
   "source": [
    "nombre_infected       837\n",
    "nombre_sain          1903\n",
    "nombre_exposed        373\n",
    "nombre_recovered    16887\n",
    "Name: 235, dtype: int64"
   ]
  },
  {
   "cell_type": "markdown",
   "id": "4b74cc51",
   "metadata": {},
   "source": [
    "nombre_infected       830\n",
    "nombre_sain          1898\n",
    "nombre_exposed        382\n",
    "nombre_recovered    16890\n",
    "Name: 236, dtype: int64"
   ]
  },
  {
   "cell_type": "markdown",
   "id": "556ab585",
   "metadata": {},
   "source": [
    "nombre_infected       821\n",
    "nombre_sain          1912\n",
    "nombre_exposed        399\n",
    "nombre_recovered    16868\n",
    "Name: 237, dtype: int64"
   ]
  },
  {
   "cell_type": "markdown",
   "id": "02893621",
   "metadata": {},
   "source": [
    "nombre_infected       838\n",
    "nombre_sain          1935\n",
    "nombre_exposed        378\n",
    "nombre_recovered    16849\n",
    "Name: 238, dtype: int64"
   ]
  },
  {
   "cell_type": "markdown",
   "id": "c11e1c4c",
   "metadata": {},
   "source": [
    "nombre_infected       824\n",
    "nombre_sain          1956\n",
    "nombre_exposed        370\n",
    "nombre_recovered    16850\n",
    "Name: 239, dtype: int64"
   ]
  },
  {
   "cell_type": "markdown",
   "id": "f3871521",
   "metadata": {},
   "source": [
    "nombre_infected       830\n",
    "nombre_sain          1976\n",
    "nombre_exposed        377\n",
    "nombre_recovered    16817\n",
    "Name: 240, dtype: int64"
   ]
  },
  {
   "cell_type": "markdown",
   "id": "86586418",
   "metadata": {},
   "source": [
    "nombre_infected       848\n",
    "nombre_sain          1979\n",
    "nombre_exposed        382\n",
    "nombre_recovered    16791\n",
    "Name: 241, dtype: int64"
   ]
  },
  {
   "cell_type": "markdown",
   "id": "9924aebe",
   "metadata": {},
   "source": [
    "nombre_infected       849\n",
    "nombre_sain          1977\n",
    "nombre_exposed        402\n",
    "nombre_recovered    16772\n",
    "Name: 242, dtype: int64"
   ]
  },
  {
   "cell_type": "markdown",
   "id": "c51a65ed",
   "metadata": {},
   "source": [
    "nombre_infected       845\n",
    "nombre_sain          1992\n",
    "nombre_exposed        402\n",
    "nombre_recovered    16761\n",
    "Name: 243, dtype: int64"
   ]
  },
  {
   "cell_type": "markdown",
   "id": "3fff6ffe",
   "metadata": {},
   "source": [
    "nombre_infected       860\n",
    "nombre_sain          2006\n",
    "nombre_exposed        385\n",
    "nombre_recovered    16749\n",
    "Name: 244, dtype: int64"
   ]
  },
  {
   "cell_type": "markdown",
   "id": "8fea3a2a",
   "metadata": {},
   "source": [
    "nombre_infected       858\n",
    "nombre_sain          2011\n",
    "nombre_exposed        390\n",
    "nombre_recovered    16741\n",
    "Name: 245, dtype: int64"
   ]
  },
  {
   "cell_type": "markdown",
   "id": "76cde15d",
   "metadata": {},
   "source": [
    "nombre_infected       882\n",
    "nombre_sain          2022\n",
    "nombre_exposed        396\n",
    "nombre_recovered    16700\n",
    "Name: 246, dtype: int64"
   ]
  },
  {
   "cell_type": "markdown",
   "id": "bd2d892e",
   "metadata": {},
   "source": [
    "nombre_infected       881\n",
    "nombre_sain          2034\n",
    "nombre_exposed        413\n",
    "nombre_recovered    16672\n",
    "Name: 247, dtype: int64"
   ]
  },
  {
   "cell_type": "markdown",
   "id": "6e6ce924",
   "metadata": {},
   "source": [
    "nombre_infected       890\n",
    "nombre_sain          2041\n",
    "nombre_exposed        417\n",
    "nombre_recovered    16652\n",
    "Name: 248, dtype: int64"
   ]
  },
  {
   "cell_type": "markdown",
   "id": "efc328f2",
   "metadata": {},
   "source": [
    "nombre_infected       892\n",
    "nombre_sain          2038\n",
    "nombre_exposed        414\n",
    "nombre_recovered    16656\n",
    "Name: 249, dtype: int64"
   ]
  },
  {
   "cell_type": "markdown",
   "id": "f64515c9",
   "metadata": {},
   "source": [
    "nombre_infected       876\n",
    "nombre_sain          2040\n",
    "nombre_exposed        415\n",
    "nombre_recovered    16669\n",
    "Name: 250, dtype: int64"
   ]
  },
  {
   "cell_type": "markdown",
   "id": "11765e76",
   "metadata": {},
   "source": [
    "nombre_infected       902\n",
    "nombre_sain          2047\n",
    "nombre_exposed        381\n",
    "nombre_recovered    16670\n",
    "Name: 251, dtype: int64"
   ]
  },
  {
   "cell_type": "markdown",
   "id": "cef453f8",
   "metadata": {},
   "source": [
    "nombre_infected       904\n",
    "nombre_sain          2055\n",
    "nombre_exposed        385\n",
    "nombre_recovered    16656\n",
    "Name: 252, dtype: int64"
   ]
  },
  {
   "cell_type": "markdown",
   "id": "12e23d3f",
   "metadata": {},
   "source": [
    "nombre_infected       892\n",
    "nombre_sain          2044\n",
    "nombre_exposed        420\n",
    "nombre_recovered    16644\n",
    "Name: 253, dtype: int64"
   ]
  },
  {
   "cell_type": "markdown",
   "id": "1135d1d1",
   "metadata": {},
   "source": [
    "nombre_infected       895\n",
    "nombre_sain          2010\n",
    "nombre_exposed        459\n",
    "nombre_recovered    16636\n",
    "Name: 254, dtype: int64"
   ]
  },
  {
   "cell_type": "markdown",
   "id": "233b7948",
   "metadata": {},
   "source": [
    "nombre_infected       888\n",
    "nombre_sain          1996\n",
    "nombre_exposed        462\n",
    "nombre_recovered    16654\n",
    "Name: 255, dtype: int64"
   ]
  },
  {
   "cell_type": "markdown",
   "id": "18b99a9c",
   "metadata": {},
   "source": [
    "nombre_infected       884\n",
    "nombre_sain          1993\n",
    "nombre_exposed        457\n",
    "nombre_recovered    16666\n",
    "Name: 256, dtype: int64"
   ]
  },
  {
   "cell_type": "markdown",
   "id": "32cdde12",
   "metadata": {},
   "source": [
    "nombre_infected       886\n",
    "nombre_sain          1994\n",
    "nombre_exposed        447\n",
    "nombre_recovered    16673\n",
    "Name: 257, dtype: int64"
   ]
  },
  {
   "cell_type": "markdown",
   "id": "1c1bea9f",
   "metadata": {},
   "source": [
    "nombre_infected       895\n",
    "nombre_sain          1975\n",
    "nombre_exposed        445\n",
    "nombre_recovered    16685\n",
    "Name: 258, dtype: int64"
   ]
  },
  {
   "cell_type": "markdown",
   "id": "469d3a1b",
   "metadata": {},
   "source": [
    "nombre_infected       927\n",
    "nombre_sain          1982\n",
    "nombre_exposed        427\n",
    "nombre_recovered    16664\n",
    "Name: 259, dtype: int64"
   ]
  },
  {
   "cell_type": "markdown",
   "id": "dcdfae6f",
   "metadata": {},
   "source": [
    "nombre_infected       936\n",
    "nombre_sain          1949\n",
    "nombre_exposed        441\n",
    "nombre_recovered    16674\n",
    "Name: 260, dtype: int64"
   ]
  },
  {
   "cell_type": "markdown",
   "id": "fa64b478",
   "metadata": {},
   "source": [
    "nombre_infected       924\n",
    "nombre_sain          1940\n",
    "nombre_exposed        460\n",
    "nombre_recovered    16676\n",
    "Name: 261, dtype: int64"
   ]
  },
  {
   "cell_type": "markdown",
   "id": "f9d8a052",
   "metadata": {},
   "source": [
    "nombre_infected       937\n",
    "nombre_sain          1952\n",
    "nombre_exposed        456\n",
    "nombre_recovered    16655\n",
    "Name: 262, dtype: int64"
   ]
  },
  {
   "cell_type": "markdown",
   "id": "50b8ba7b",
   "metadata": {},
   "source": [
    "nombre_infected       956\n",
    "nombre_sain          1946\n",
    "nombre_exposed        450\n",
    "nombre_recovered    16648\n",
    "Name: 263, dtype: int64"
   ]
  },
  {
   "cell_type": "markdown",
   "id": "1f154545",
   "metadata": {},
   "source": [
    "nombre_infected       964\n",
    "nombre_sain          1908\n",
    "nombre_exposed        456\n",
    "nombre_recovered    16672\n",
    "Name: 264, dtype: int64"
   ]
  },
  {
   "cell_type": "markdown",
   "id": "87ee811a",
   "metadata": {},
   "source": [
    "nombre_infected       978\n",
    "nombre_sain          1864\n",
    "nombre_exposed        465\n",
    "nombre_recovered    16693\n",
    "Name: 265, dtype: int64"
   ]
  },
  {
   "cell_type": "markdown",
   "id": "bd48d875",
   "metadata": {},
   "source": [
    "nombre_infected       975\n",
    "nombre_sain          1871\n",
    "nombre_exposed        458\n",
    "nombre_recovered    16696\n",
    "Name: 266, dtype: int64"
   ]
  },
  {
   "cell_type": "markdown",
   "id": "5da1e49a",
   "metadata": {},
   "source": [
    "nombre_infected       992\n",
    "nombre_sain          1873\n",
    "nombre_exposed        418\n",
    "nombre_recovered    16717\n",
    "Name: 267, dtype: int64"
   ]
  },
  {
   "cell_type": "markdown",
   "id": "3c5e099a",
   "metadata": {},
   "source": [
    "nombre_infected      1000\n",
    "nombre_sain          1844\n",
    "nombre_exposed        420\n",
    "nombre_recovered    16736\n",
    "Name: 268, dtype: int64"
   ]
  },
  {
   "cell_type": "markdown",
   "id": "9b54a1bf",
   "metadata": {},
   "source": [
    "nombre_infected      1016\n",
    "nombre_sain          1847\n",
    "nombre_exposed        428\n",
    "nombre_recovered    16709\n",
    "Name: 269, dtype: int64"
   ]
  },
  {
   "cell_type": "markdown",
   "id": "b67601a6",
   "metadata": {},
   "source": [
    "nombre_infected      1002\n",
    "nombre_sain          1847\n",
    "nombre_exposed        445\n",
    "nombre_recovered    16706\n",
    "Name: 270, dtype: int64"
   ]
  },
  {
   "cell_type": "markdown",
   "id": "c898c36d",
   "metadata": {},
   "source": [
    "nombre_infected       982\n",
    "nombre_sain          1812\n",
    "nombre_exposed        470\n",
    "nombre_recovered    16736\n",
    "Name: 271, dtype: int64"
   ]
  },
  {
   "cell_type": "markdown",
   "id": "8656d4a9",
   "metadata": {},
   "source": [
    "nombre_infected       978\n",
    "nombre_sain          1818\n",
    "nombre_exposed        479\n",
    "nombre_recovered    16725\n",
    "Name: 272, dtype: int64"
   ]
  },
  {
   "cell_type": "markdown",
   "id": "c35017f8",
   "metadata": {},
   "source": [
    "nombre_infected       978\n",
    "nombre_sain          1834\n",
    "nombre_exposed        463\n",
    "nombre_recovered    16725\n",
    "Name: 273, dtype: int64"
   ]
  },
  {
   "cell_type": "markdown",
   "id": "38a2b1b2",
   "metadata": {},
   "source": [
    "nombre_infected       968\n",
    "nombre_sain          1849\n",
    "nombre_exposed        466\n",
    "nombre_recovered    16717\n",
    "Name: 274, dtype: int64"
   ]
  },
  {
   "cell_type": "markdown",
   "id": "6fa2cd85",
   "metadata": {},
   "source": [
    "nombre_infected       958\n",
    "nombre_sain          1874\n",
    "nombre_exposed        475\n",
    "nombre_recovered    16693\n",
    "Name: 275, dtype: int64"
   ]
  },
  {
   "cell_type": "markdown",
   "id": "efc3c824",
   "metadata": {},
   "source": [
    "nombre_infected       964\n",
    "nombre_sain          1894\n",
    "nombre_exposed        465\n",
    "nombre_recovered    16677\n",
    "Name: 276, dtype: int64"
   ]
  },
  {
   "cell_type": "markdown",
   "id": "a922d565",
   "metadata": {},
   "source": [
    "nombre_infected       968\n",
    "nombre_sain          1924\n",
    "nombre_exposed        447\n",
    "nombre_recovered    16661\n",
    "Name: 277, dtype: int64"
   ]
  },
  {
   "cell_type": "markdown",
   "id": "76921e15",
   "metadata": {},
   "source": [
    "nombre_infected       970\n",
    "nombre_sain          1957\n",
    "nombre_exposed        443\n",
    "nombre_recovered    16630\n",
    "Name: 278, dtype: int64"
   ]
  },
  {
   "cell_type": "markdown",
   "id": "11ab6ea6",
   "metadata": {},
   "source": [
    "nombre_infected       950\n",
    "nombre_sain          2004\n",
    "nombre_exposed        441\n",
    "nombre_recovered    16605\n",
    "Name: 279, dtype: int64"
   ]
  },
  {
   "cell_type": "markdown",
   "id": "d9a77188",
   "metadata": {},
   "source": [
    "nombre_infected       954\n",
    "nombre_sain          1999\n",
    "nombre_exposed        456\n",
    "nombre_recovered    16591\n",
    "Name: 280, dtype: int64"
   ]
  },
  {
   "cell_type": "markdown",
   "id": "1743278c",
   "metadata": {},
   "source": [
    "nombre_infected       941\n",
    "nombre_sain          2026\n",
    "nombre_exposed        466\n",
    "nombre_recovered    16567\n",
    "Name: 281, dtype: int64"
   ]
  },
  {
   "cell_type": "markdown",
   "id": "16a04f65",
   "metadata": {},
   "source": [
    "nombre_infected       931\n",
    "nombre_sain          2030\n",
    "nombre_exposed        475\n",
    "nombre_recovered    16564\n",
    "Name: 282, dtype: int64"
   ]
  },
  {
   "cell_type": "markdown",
   "id": "a40b910d",
   "metadata": {},
   "source": [
    "nombre_infected       914\n",
    "nombre_sain          2045\n",
    "nombre_exposed        495\n",
    "nombre_recovered    16546\n",
    "Name: 283, dtype: int64"
   ]
  },
  {
   "cell_type": "markdown",
   "id": "7ab63528",
   "metadata": {},
   "source": [
    "nombre_infected       914\n",
    "nombre_sain          2049\n",
    "nombre_exposed        504\n",
    "nombre_recovered    16533\n",
    "Name: 284, dtype: int64"
   ]
  },
  {
   "cell_type": "markdown",
   "id": "6b7851ee",
   "metadata": {},
   "source": [
    "nombre_infected       917\n",
    "nombre_sain          2056\n",
    "nombre_exposed        507\n",
    "nombre_recovered    16520\n",
    "Name: 285, dtype: int64"
   ]
  },
  {
   "cell_type": "markdown",
   "id": "2f014b69",
   "metadata": {},
   "source": [
    "nombre_infected       903\n",
    "nombre_sain          2072\n",
    "nombre_exposed        493\n",
    "nombre_recovered    16532\n",
    "Name: 286, dtype: int64"
   ]
  },
  {
   "cell_type": "markdown",
   "id": "972be2c1",
   "metadata": {},
   "source": [
    "nombre_infected       891\n",
    "nombre_sain          2072\n",
    "nombre_exposed        491\n",
    "nombre_recovered    16546\n",
    "Name: 287, dtype: int64"
   ]
  },
  {
   "cell_type": "markdown",
   "id": "595cbec2",
   "metadata": {},
   "source": [
    "nombre_infected       905\n",
    "nombre_sain          2067\n",
    "nombre_exposed        501\n",
    "nombre_recovered    16527\n",
    "Name: 288, dtype: int64"
   ]
  },
  {
   "cell_type": "markdown",
   "id": "b8dd642c",
   "metadata": {},
   "source": [
    "nombre_infected       934\n",
    "nombre_sain          2070\n",
    "nombre_exposed        486\n",
    "nombre_recovered    16510\n",
    "Name: 289, dtype: int64"
   ]
  },
  {
   "cell_type": "markdown",
   "id": "02d29f3a",
   "metadata": {},
   "source": [
    "nombre_infected       940\n",
    "nombre_sain          2049\n",
    "nombre_exposed        480\n",
    "nombre_recovered    16531\n",
    "Name: 290, dtype: int64"
   ]
  },
  {
   "cell_type": "markdown",
   "id": "0bdf5ba8",
   "metadata": {},
   "source": [
    "nombre_infected       944\n",
    "nombre_sain          2043\n",
    "nombre_exposed        474\n",
    "nombre_recovered    16539\n",
    "Name: 291, dtype: int64"
   ]
  },
  {
   "cell_type": "markdown",
   "id": "98ace507",
   "metadata": {},
   "source": [
    "nombre_infected       953\n",
    "nombre_sain          2043\n",
    "nombre_exposed        494\n",
    "nombre_recovered    16510\n",
    "Name: 292, dtype: int64"
   ]
  },
  {
   "cell_type": "markdown",
   "id": "28b56b2f",
   "metadata": {},
   "source": [
    "nombre_infected       956\n",
    "nombre_sain          2052\n",
    "nombre_exposed        465\n",
    "nombre_recovered    16527\n",
    "Name: 293, dtype: int64"
   ]
  },
  {
   "cell_type": "markdown",
   "id": "b357bc56",
   "metadata": {},
   "source": [
    "nombre_infected       935\n",
    "nombre_sain          2013\n",
    "nombre_exposed        480\n",
    "nombre_recovered    16572\n",
    "Name: 294, dtype: int64"
   ]
  },
  {
   "cell_type": "markdown",
   "id": "5855db9c",
   "metadata": {},
   "source": [
    "nombre_infected       940\n",
    "nombre_sain          2007\n",
    "nombre_exposed        492\n",
    "nombre_recovered    16561\n",
    "Name: 295, dtype: int64"
   ]
  },
  {
   "cell_type": "markdown",
   "id": "a7164ab5",
   "metadata": {},
   "source": [
    "nombre_infected       958\n",
    "nombre_sain          2010\n",
    "nombre_exposed        461\n",
    "nombre_recovered    16571\n",
    "Name: 296, dtype: int64"
   ]
  },
  {
   "cell_type": "markdown",
   "id": "40ab5bb4",
   "metadata": {},
   "source": [
    "nombre_infected       964\n",
    "nombre_sain          1988\n",
    "nombre_exposed        473\n",
    "nombre_recovered    16575\n",
    "Name: 297, dtype: int64"
   ]
  },
  {
   "cell_type": "markdown",
   "id": "3f9380f2",
   "metadata": {},
   "source": [
    "nombre_infected       947\n",
    "nombre_sain          1977\n",
    "nombre_exposed        488\n",
    "nombre_recovered    16588\n",
    "Name: 298, dtype: int64"
   ]
  },
  {
   "cell_type": "markdown",
   "id": "7c849b4e",
   "metadata": {},
   "source": [
    "nombre_infected       934\n",
    "nombre_sain          1969\n",
    "nombre_exposed        472\n",
    "nombre_recovered    16625\n",
    "Name: 299, dtype: int64"
   ]
  },
  {
   "cell_type": "markdown",
   "id": "c0cd633f",
   "metadata": {},
   "source": [
    "nombre_infected       936\n",
    "nombre_sain          1969\n",
    "nombre_exposed        467\n",
    "nombre_recovered    16628\n",
    "Name: 300, dtype: int64"
   ]
  },
  {
   "cell_type": "markdown",
   "id": "233ae2a7",
   "metadata": {},
   "source": [
    "nombre_infected       941\n",
    "nombre_sain          1955\n",
    "nombre_exposed        468\n",
    "nombre_recovered    16636\n",
    "Name: 301, dtype: int64"
   ]
  },
  {
   "cell_type": "markdown",
   "id": "34a28619",
   "metadata": {},
   "source": [
    "nombre_infected       946\n",
    "nombre_sain          1988\n",
    "nombre_exposed        446\n",
    "nombre_recovered    16620\n",
    "Name: 302, dtype: int64"
   ]
  },
  {
   "cell_type": "markdown",
   "id": "f7967733",
   "metadata": {},
   "source": [
    "nombre_infected       967\n",
    "nombre_sain          1993\n",
    "nombre_exposed        428\n",
    "nombre_recovered    16612\n",
    "Name: 303, dtype: int64"
   ]
  },
  {
   "cell_type": "markdown",
   "id": "b95d53fd",
   "metadata": {},
   "source": [
    "nombre_infected       955\n",
    "nombre_sain          2022\n",
    "nombre_exposed        431\n",
    "nombre_recovered    16592\n",
    "Name: 304, dtype: int64"
   ]
  },
  {
   "cell_type": "markdown",
   "id": "fb56d3b9",
   "metadata": {},
   "source": [
    "nombre_infected       951\n",
    "nombre_sain          2016\n",
    "nombre_exposed        446\n",
    "nombre_recovered    16587\n",
    "Name: 305, dtype: int64"
   ]
  },
  {
   "cell_type": "markdown",
   "id": "8cbdaa61",
   "metadata": {},
   "source": [
    "nombre_infected       934\n",
    "nombre_sain          2024\n",
    "nombre_exposed        466\n",
    "nombre_recovered    16576\n",
    "Name: 306, dtype: int64"
   ]
  },
  {
   "cell_type": "markdown",
   "id": "2ece3878",
   "metadata": {},
   "source": [
    "nombre_infected       941\n",
    "nombre_sain          2043\n",
    "nombre_exposed        455\n",
    "nombre_recovered    16561\n",
    "Name: 307, dtype: int64"
   ]
  },
  {
   "cell_type": "markdown",
   "id": "fc5795ba",
   "metadata": {},
   "source": [
    "nombre_infected       937\n",
    "nombre_sain          2040\n",
    "nombre_exposed        475\n",
    "nombre_recovered    16548\n",
    "Name: 308, dtype: int64"
   ]
  },
  {
   "cell_type": "markdown",
   "id": "012dfc08",
   "metadata": {},
   "source": [
    "nombre_infected       945\n",
    "nombre_sain          2035\n",
    "nombre_exposed        464\n",
    "nombre_recovered    16556\n",
    "Name: 309, dtype: int64"
   ]
  },
  {
   "cell_type": "markdown",
   "id": "6a58be60",
   "metadata": {},
   "source": [
    "nombre_infected       952\n",
    "nombre_sain          2046\n",
    "nombre_exposed        459\n",
    "nombre_recovered    16543\n",
    "Name: 310, dtype: int64"
   ]
  },
  {
   "cell_type": "markdown",
   "id": "f0aeb419",
   "metadata": {},
   "source": [
    "nombre_infected       935\n",
    "nombre_sain          2014\n",
    "nombre_exposed        467\n",
    "nombre_recovered    16584\n",
    "Name: 311, dtype: int64"
   ]
  },
  {
   "cell_type": "markdown",
   "id": "5e15dd68",
   "metadata": {},
   "source": [
    "nombre_infected       924\n",
    "nombre_sain          2014\n",
    "nombre_exposed        451\n",
    "nombre_recovered    16611\n",
    "Name: 312, dtype: int64"
   ]
  },
  {
   "cell_type": "markdown",
   "id": "338db7a0",
   "metadata": {},
   "source": [
    "nombre_infected       903\n",
    "nombre_sain          2004\n",
    "nombre_exposed        453\n",
    "nombre_recovered    16640\n",
    "Name: 313, dtype: int64"
   ]
  },
  {
   "cell_type": "markdown",
   "id": "a3fb8b7d",
   "metadata": {},
   "source": [
    "nombre_infected       905\n",
    "nombre_sain          1990\n",
    "nombre_exposed        478\n",
    "nombre_recovered    16627\n",
    "Name: 314, dtype: int64"
   ]
  },
  {
   "cell_type": "markdown",
   "id": "3cce3ef3",
   "metadata": {},
   "source": [
    "nombre_infected       913\n",
    "nombre_sain          1984\n",
    "nombre_exposed        445\n",
    "nombre_recovered    16658\n",
    "Name: 315, dtype: int64"
   ]
  },
  {
   "cell_type": "markdown",
   "id": "f3bd99ef",
   "metadata": {},
   "source": [
    "nombre_infected       895\n",
    "nombre_sain          2007\n",
    "nombre_exposed        438\n",
    "nombre_recovered    16660\n",
    "Name: 316, dtype: int64"
   ]
  },
  {
   "cell_type": "markdown",
   "id": "33d8140b",
   "metadata": {},
   "source": [
    "nombre_infected       899\n",
    "nombre_sain          2017\n",
    "nombre_exposed        447\n",
    "nombre_recovered    16637\n",
    "Name: 317, dtype: int64"
   ]
  },
  {
   "cell_type": "markdown",
   "id": "b5b4dfb4",
   "metadata": {},
   "source": [
    "nombre_infected       885\n",
    "nombre_sain          2020\n",
    "nombre_exposed        444\n",
    "nombre_recovered    16651\n",
    "Name: 318, dtype: int64"
   ]
  },
  {
   "cell_type": "markdown",
   "id": "2469544f",
   "metadata": {},
   "source": [
    "nombre_infected       872\n",
    "nombre_sain          2041\n",
    "nombre_exposed        443\n",
    "nombre_recovered    16644\n",
    "Name: 319, dtype: int64"
   ]
  },
  {
   "cell_type": "markdown",
   "id": "2f822e01",
   "metadata": {},
   "source": [
    "nombre_infected       862\n",
    "nombre_sain          2048\n",
    "nombre_exposed        454\n",
    "nombre_recovered    16636\n",
    "Name: 320, dtype: int64"
   ]
  },
  {
   "cell_type": "markdown",
   "id": "0629015c",
   "metadata": {},
   "source": [
    "nombre_infected       871\n",
    "nombre_sain          2055\n",
    "nombre_exposed        443\n",
    "nombre_recovered    16631\n",
    "Name: 321, dtype: int64"
   ]
  },
  {
   "cell_type": "markdown",
   "id": "e64a88f8",
   "metadata": {},
   "source": [
    "nombre_infected       876\n",
    "nombre_sain          2070\n",
    "nombre_exposed        440\n",
    "nombre_recovered    16614\n",
    "Name: 322, dtype: int64"
   ]
  },
  {
   "cell_type": "markdown",
   "id": "94cb5551",
   "metadata": {},
   "source": [
    "nombre_infected       879\n",
    "nombre_sain          2086\n",
    "nombre_exposed        444\n",
    "nombre_recovered    16591\n",
    "Name: 323, dtype: int64"
   ]
  },
  {
   "cell_type": "markdown",
   "id": "2ed55cca",
   "metadata": {},
   "source": [
    "nombre_infected       867\n",
    "nombre_sain          2079\n",
    "nombre_exposed        439\n",
    "nombre_recovered    16615\n",
    "Name: 324, dtype: int64"
   ]
  },
  {
   "cell_type": "markdown",
   "id": "f291c9da",
   "metadata": {},
   "source": [
    "nombre_infected       834\n",
    "nombre_sain          2096\n",
    "nombre_exposed        438\n",
    "nombre_recovered    16632\n",
    "Name: 325, dtype: int64"
   ]
  },
  {
   "cell_type": "markdown",
   "id": "d68f476b",
   "metadata": {},
   "source": [
    "nombre_infected       853\n",
    "nombre_sain          2119\n",
    "nombre_exposed        424\n",
    "nombre_recovered    16604\n",
    "Name: 326, dtype: int64"
   ]
  },
  {
   "cell_type": "markdown",
   "id": "02a387bc",
   "metadata": {},
   "source": [
    "nombre_infected       847\n",
    "nombre_sain          2168\n",
    "nombre_exposed        414\n",
    "nombre_recovered    16571\n",
    "Name: 327, dtype: int64"
   ]
  },
  {
   "cell_type": "markdown",
   "id": "40d54b33",
   "metadata": {},
   "source": [
    "nombre_infected       830\n",
    "nombre_sain          2198\n",
    "nombre_exposed        418\n",
    "nombre_recovered    16554\n",
    "Name: 328, dtype: int64"
   ]
  },
  {
   "cell_type": "markdown",
   "id": "82ff8435",
   "metadata": {},
   "source": [
    "nombre_infected       830\n",
    "nombre_sain          2220\n",
    "nombre_exposed        406\n",
    "nombre_recovered    16544\n",
    "Name: 329, dtype: int64"
   ]
  },
  {
   "cell_type": "markdown",
   "id": "9f674d00",
   "metadata": {},
   "source": [
    "nombre_infected       811\n",
    "nombre_sain          2257\n",
    "nombre_exposed        419\n",
    "nombre_recovered    16513\n",
    "Name: 330, dtype: int64"
   ]
  },
  {
   "cell_type": "markdown",
   "id": "e67ee30d",
   "metadata": {},
   "source": [
    "nombre_infected       805\n",
    "nombre_sain          2280\n",
    "nombre_exposed        429\n",
    "nombre_recovered    16486\n",
    "Name: 331, dtype: int64"
   ]
  },
  {
   "cell_type": "markdown",
   "id": "65de4f6c",
   "metadata": {},
   "source": [
    "nombre_infected       814\n",
    "nombre_sain          2313\n",
    "nombre_exposed        427\n",
    "nombre_recovered    16446\n",
    "Name: 332, dtype: int64"
   ]
  },
  {
   "cell_type": "markdown",
   "id": "65135417",
   "metadata": {},
   "source": [
    "nombre_infected       810\n",
    "nombre_sain          2347\n",
    "nombre_exposed        436\n",
    "nombre_recovered    16407\n",
    "Name: 333, dtype: int64"
   ]
  },
  {
   "cell_type": "markdown",
   "id": "31e4e04e",
   "metadata": {},
   "source": [
    "nombre_infected       829\n",
    "nombre_sain          2357\n",
    "nombre_exposed        433\n",
    "nombre_recovered    16381\n",
    "Name: 334, dtype: int64"
   ]
  },
  {
   "cell_type": "markdown",
   "id": "7784e420",
   "metadata": {},
   "source": [
    "nombre_infected       839\n",
    "nombre_sain          2349\n",
    "nombre_exposed        442\n",
    "nombre_recovered    16370\n",
    "Name: 335, dtype: int64"
   ]
  },
  {
   "cell_type": "markdown",
   "id": "9175e1f7",
   "metadata": {},
   "source": [
    "nombre_infected       834\n",
    "nombre_sain          2342\n",
    "nombre_exposed        455\n",
    "nombre_recovered    16369\n",
    "Name: 336, dtype: int64"
   ]
  },
  {
   "cell_type": "markdown",
   "id": "a6c9ed3f",
   "metadata": {},
   "source": [
    "nombre_infected       811\n",
    "nombre_sain          2328\n",
    "nombre_exposed        483\n",
    "nombre_recovered    16378\n",
    "Name: 337, dtype: int64"
   ]
  },
  {
   "cell_type": "markdown",
   "id": "fd8cbe10",
   "metadata": {},
   "source": [
    "nombre_infected       832\n",
    "nombre_sain          2322\n",
    "nombre_exposed        498\n",
    "nombre_recovered    16348\n",
    "Name: 338, dtype: int64"
   ]
  },
  {
   "cell_type": "markdown",
   "id": "9e3ee00c",
   "metadata": {},
   "source": [
    "nombre_infected       851\n",
    "nombre_sain          2335\n",
    "nombre_exposed        485\n",
    "nombre_recovered    16329\n",
    "Name: 339, dtype: int64"
   ]
  },
  {
   "cell_type": "markdown",
   "id": "9058c347",
   "metadata": {},
   "source": [
    "nombre_infected       857\n",
    "nombre_sain          2346\n",
    "nombre_exposed        505\n",
    "nombre_recovered    16292\n",
    "Name: 340, dtype: int64"
   ]
  },
  {
   "cell_type": "markdown",
   "id": "5f7c1e0d",
   "metadata": {},
   "source": [
    "nombre_infected       855\n",
    "nombre_sain          2322\n",
    "nombre_exposed        547\n",
    "nombre_recovered    16276\n",
    "Name: 341, dtype: int64"
   ]
  },
  {
   "cell_type": "markdown",
   "id": "8d1e9c4a",
   "metadata": {},
   "source": [
    "nombre_infected       840\n",
    "nombre_sain          2323\n",
    "nombre_exposed        549\n",
    "nombre_recovered    16288\n",
    "Name: 342, dtype: int64"
   ]
  },
  {
   "cell_type": "markdown",
   "id": "e4b47356",
   "metadata": {},
   "source": [
    "nombre_infected       889\n",
    "nombre_sain          2304\n",
    "nombre_exposed        556\n",
    "nombre_recovered    16251\n",
    "Name: 343, dtype: int64"
   ]
  },
  {
   "cell_type": "markdown",
   "id": "0044452a",
   "metadata": {},
   "source": [
    "nombre_infected       918\n",
    "nombre_sain          2294\n",
    "nombre_exposed        529\n",
    "nombre_recovered    16259\n",
    "Name: 344, dtype: int64"
   ]
  },
  {
   "cell_type": "markdown",
   "id": "36cc68d7",
   "metadata": {},
   "source": [
    "nombre_infected       945\n",
    "nombre_sain          2276\n",
    "nombre_exposed        528\n",
    "nombre_recovered    16251\n",
    "Name: 345, dtype: int64"
   ]
  },
  {
   "cell_type": "markdown",
   "id": "98438162",
   "metadata": {},
   "source": [
    "nombre_infected       956\n",
    "nombre_sain          2266\n",
    "nombre_exposed        517\n",
    "nombre_recovered    16261\n",
    "Name: 346, dtype: int64"
   ]
  },
  {
   "cell_type": "markdown",
   "id": "789f0da5",
   "metadata": {},
   "source": [
    "nombre_infected       962\n",
    "nombre_sain          2224\n",
    "nombre_exposed        537\n",
    "nombre_recovered    16277\n",
    "Name: 347, dtype: int64"
   ]
  },
  {
   "cell_type": "markdown",
   "id": "790bd295",
   "metadata": {},
   "source": [
    "nombre_infected       965\n",
    "nombre_sain          2218\n",
    "nombre_exposed        539\n",
    "nombre_recovered    16278\n",
    "Name: 348, dtype: int64"
   ]
  },
  {
   "cell_type": "markdown",
   "id": "485a0a1c",
   "metadata": {},
   "source": [
    "nombre_infected       992\n",
    "nombre_sain          2200\n",
    "nombre_exposed        555\n",
    "nombre_recovered    16253\n",
    "Name: 349, dtype: int64"
   ]
  },
  {
   "cell_type": "markdown",
   "id": "3cbce0d7",
   "metadata": {},
   "source": [
    "nombre_infected      1020\n",
    "nombre_sain          2177\n",
    "nombre_exposed        545\n",
    "nombre_recovered    16258\n",
    "Name: 350, dtype: int64"
   ]
  },
  {
   "cell_type": "markdown",
   "id": "a333d70a",
   "metadata": {},
   "source": [
    "nombre_infected      1043\n",
    "nombre_sain          2153\n",
    "nombre_exposed        538\n",
    "nombre_recovered    16266\n",
    "Name: 351, dtype: int64"
   ]
  },
  {
   "cell_type": "markdown",
   "id": "edea07b1",
   "metadata": {},
   "source": [
    "nombre_infected      1041\n",
    "nombre_sain          2109\n",
    "nombre_exposed        556\n",
    "nombre_recovered    16294\n",
    "Name: 352, dtype: int64"
   ]
  },
  {
   "cell_type": "markdown",
   "id": "fe91c24c",
   "metadata": {},
   "source": [
    "nombre_infected      1078\n",
    "nombre_sain          2079\n",
    "nombre_exposed        536\n",
    "nombre_recovered    16307\n",
    "Name: 353, dtype: int64"
   ]
  },
  {
   "cell_type": "markdown",
   "id": "007b0436",
   "metadata": {},
   "source": [
    "nombre_infected      1086\n",
    "nombre_sain          2034\n",
    "nombre_exposed        544\n",
    "nombre_recovered    16336\n",
    "Name: 354, dtype: int64"
   ]
  },
  {
   "cell_type": "markdown",
   "id": "7ed39cb1",
   "metadata": {},
   "source": [
    "nombre_infected      1096\n",
    "nombre_sain          2006\n",
    "nombre_exposed        555\n",
    "nombre_recovered    16343\n",
    "Name: 355, dtype: int64"
   ]
  },
  {
   "cell_type": "markdown",
   "id": "19507eac",
   "metadata": {},
   "source": [
    "nombre_infected      1131\n",
    "nombre_sain          1952\n",
    "nombre_exposed        571\n",
    "nombre_recovered    16346\n",
    "Name: 356, dtype: int64"
   ]
  },
  {
   "cell_type": "markdown",
   "id": "3dc4bfc1",
   "metadata": {},
   "source": [
    "nombre_infected      1163\n",
    "nombre_sain          1925\n",
    "nombre_exposed        552\n",
    "nombre_recovered    16360\n",
    "Name: 357, dtype: int64"
   ]
  },
  {
   "cell_type": "markdown",
   "id": "2548af80",
   "metadata": {},
   "source": [
    "nombre_infected      1189\n",
    "nombre_sain          1917\n",
    "nombre_exposed        539\n",
    "nombre_recovered    16355\n",
    "Name: 358, dtype: int64"
   ]
  },
  {
   "cell_type": "markdown",
   "id": "5bdac038",
   "metadata": {},
   "source": [
    "nombre_infected      1189\n",
    "nombre_sain          1888\n",
    "nombre_exposed        543\n",
    "nombre_recovered    16380\n",
    "Name: 359, dtype: int64"
   ]
  },
  {
   "cell_type": "markdown",
   "id": "3cc786a3",
   "metadata": {},
   "source": [
    "nombre_infected      1194\n",
    "nombre_sain          1856\n",
    "nombre_exposed        549\n",
    "nombre_recovered    16401\n",
    "Name: 360, dtype: int64"
   ]
  },
  {
   "cell_type": "markdown",
   "id": "d5211805",
   "metadata": {},
   "source": [
    "nombre_infected      1184\n",
    "nombre_sain          1811\n",
    "nombre_exposed        552\n",
    "nombre_recovered    16453\n",
    "Name: 361, dtype: int64"
   ]
  },
  {
   "cell_type": "markdown",
   "id": "47981c67",
   "metadata": {},
   "source": [
    "nombre_infected      1160\n",
    "nombre_sain          1818\n",
    "nombre_exposed        555\n",
    "nombre_recovered    16467\n",
    "Name: 362, dtype: int64"
   ]
  },
  {
   "cell_type": "markdown",
   "id": "55f7baf8",
   "metadata": {},
   "source": [
    "nombre_infected      1151\n",
    "nombre_sain          1777\n",
    "nombre_exposed        566\n",
    "nombre_recovered    16506\n",
    "Name: 363, dtype: int64"
   ]
  },
  {
   "cell_type": "markdown",
   "id": "0568120d",
   "metadata": {},
   "source": [
    "nombre_infected      1151\n",
    "nombre_sain          1753\n",
    "nombre_exposed        573\n",
    "nombre_recovered    16523\n",
    "Name: 364, dtype: int64"
   ]
  },
  {
   "cell_type": "markdown",
   "id": "5f66e718",
   "metadata": {},
   "source": [
    "nombre_infected      1172\n",
    "nombre_sain          1749\n",
    "nombre_exposed        549\n",
    "nombre_recovered    16530\n",
    "Name: 365, dtype: int64"
   ]
  },
  {
   "cell_type": "markdown",
   "id": "8b0f7926",
   "metadata": {},
   "source": [
    "nombre_infected      1176\n",
    "nombre_sain          1744\n",
    "nombre_exposed        535\n",
    "nombre_recovered    16545\n",
    "Name: 366, dtype: int64"
   ]
  },
  {
   "cell_type": "markdown",
   "id": "dec82af3",
   "metadata": {},
   "source": [
    "nombre_infected      1161\n",
    "nombre_sain          1729\n",
    "nombre_exposed        537\n",
    "nombre_recovered    16573\n",
    "Name: 367, dtype: int64"
   ]
  },
  {
   "cell_type": "markdown",
   "id": "7dfc1826",
   "metadata": {},
   "source": [
    "nombre_infected      1168\n",
    "nombre_sain          1696\n",
    "nombre_exposed        538\n",
    "nombre_recovered    16598\n",
    "Name: 368, dtype: int64"
   ]
  },
  {
   "cell_type": "markdown",
   "id": "41cf3853",
   "metadata": {},
   "source": [
    "nombre_infected      1166\n",
    "nombre_sain          1683\n",
    "nombre_exposed        519\n",
    "nombre_recovered    16632\n",
    "Name: 369, dtype: int64"
   ]
  },
  {
   "cell_type": "markdown",
   "id": "05db3ccc",
   "metadata": {},
   "source": [
    "nombre_infected      1168\n",
    "nombre_sain          1680\n",
    "nombre_exposed        521\n",
    "nombre_recovered    16631\n",
    "Name: 370, dtype: int64"
   ]
  },
  {
   "cell_type": "markdown",
   "id": "3deef09d",
   "metadata": {},
   "source": [
    "nombre_infected      1136\n",
    "nombre_sain          1672\n",
    "nombre_exposed        516\n",
    "nombre_recovered    16676\n",
    "Name: 371, dtype: int64"
   ]
  },
  {
   "cell_type": "markdown",
   "id": "f40df20d",
   "metadata": {},
   "source": [
    "nombre_infected      1138\n",
    "nombre_sain          1711\n",
    "nombre_exposed        464\n",
    "nombre_recovered    16687\n",
    "Name: 372, dtype: int64"
   ]
  },
  {
   "cell_type": "markdown",
   "id": "e277180b",
   "metadata": {},
   "source": [
    "nombre_infected      1116\n",
    "nombre_sain          1693\n",
    "nombre_exposed        485\n",
    "nombre_recovered    16706\n",
    "Name: 373, dtype: int64"
   ]
  },
  {
   "cell_type": "markdown",
   "id": "16cd1306",
   "metadata": {},
   "source": [
    "nombre_infected      1083\n",
    "nombre_sain          1711\n",
    "nombre_exposed        489\n",
    "nombre_recovered    16717\n",
    "Name: 374, dtype: int64"
   ]
  },
  {
   "cell_type": "markdown",
   "id": "e5266d4d",
   "metadata": {},
   "source": [
    "nombre_infected      1097\n",
    "nombre_sain          1705\n",
    "nombre_exposed        464\n",
    "nombre_recovered    16734\n",
    "Name: 375, dtype: int64"
   ]
  },
  {
   "cell_type": "markdown",
   "id": "df36eb25",
   "metadata": {},
   "source": [
    "nombre_infected      1098\n",
    "nombre_sain          1704\n",
    "nombre_exposed        452\n",
    "nombre_recovered    16746\n",
    "Name: 376, dtype: int64"
   ]
  },
  {
   "cell_type": "markdown",
   "id": "839a40d8",
   "metadata": {},
   "source": [
    "nombre_infected      1076\n",
    "nombre_sain          1713\n",
    "nombre_exposed        467\n",
    "nombre_recovered    16744\n",
    "Name: 377, dtype: int64"
   ]
  },
  {
   "cell_type": "markdown",
   "id": "28a0db62",
   "metadata": {},
   "source": [
    "nombre_infected      1037\n",
    "nombre_sain          1706\n",
    "nombre_exposed        486\n",
    "nombre_recovered    16771\n",
    "Name: 378, dtype: int64"
   ]
  },
  {
   "cell_type": "markdown",
   "id": "88c2b7b2",
   "metadata": {},
   "source": [
    "nombre_infected      1018\n",
    "nombre_sain          1712\n",
    "nombre_exposed        477\n",
    "nombre_recovered    16793\n",
    "Name: 379, dtype: int64"
   ]
  },
  {
   "cell_type": "markdown",
   "id": "76c30804",
   "metadata": {},
   "source": [
    "nombre_infected      1022\n",
    "nombre_sain          1741\n",
    "nombre_exposed        446\n",
    "nombre_recovered    16791\n",
    "Name: 380, dtype: int64"
   ]
  },
  {
   "cell_type": "markdown",
   "id": "af47a2c6",
   "metadata": {},
   "source": [
    "nombre_infected      1028\n",
    "nombre_sain          1736\n",
    "nombre_exposed        453\n",
    "nombre_recovered    16783\n",
    "Name: 381, dtype: int64"
   ]
  },
  {
   "cell_type": "markdown",
   "id": "5cbe820f",
   "metadata": {},
   "source": [
    "nombre_infected      1022\n",
    "nombre_sain          1761\n",
    "nombre_exposed        457\n",
    "nombre_recovered    16760\n",
    "Name: 382, dtype: int64"
   ]
  },
  {
   "cell_type": "markdown",
   "id": "c112f3f6",
   "metadata": {},
   "source": [
    "nombre_infected      1003\n",
    "nombre_sain          1775\n",
    "nombre_exposed        457\n",
    "nombre_recovered    16765\n",
    "Name: 383, dtype: int64"
   ]
  },
  {
   "cell_type": "markdown",
   "id": "35d19c7d",
   "metadata": {},
   "source": [
    "nombre_infected      1008\n",
    "nombre_sain          1797\n",
    "nombre_exposed        442\n",
    "nombre_recovered    16753\n",
    "Name: 384, dtype: int64"
   ]
  },
  {
   "cell_type": "markdown",
   "id": "d7bf81d5",
   "metadata": {},
   "source": [
    "nombre_infected       998\n",
    "nombre_sain          1838\n",
    "nombre_exposed        421\n",
    "nombre_recovered    16743\n",
    "Name: 385, dtype: int64"
   ]
  },
  {
   "cell_type": "markdown",
   "id": "abf6ce12",
   "metadata": {},
   "source": [
    "nombre_infected       998\n",
    "nombre_sain          1846\n",
    "nombre_exposed        425\n",
    "nombre_recovered    16731\n",
    "Name: 386, dtype: int64"
   ]
  },
  {
   "cell_type": "markdown",
   "id": "bf2a61c0",
   "metadata": {},
   "source": [
    "nombre_infected       977\n",
    "nombre_sain          1855\n",
    "nombre_exposed        426\n",
    "nombre_recovered    16742\n",
    "Name: 387, dtype: int64"
   ]
  },
  {
   "cell_type": "markdown",
   "id": "d38cee81",
   "metadata": {},
   "source": [
    "nombre_infected       957\n",
    "nombre_sain          1850\n",
    "nombre_exposed        421\n",
    "nombre_recovered    16772\n",
    "Name: 388, dtype: int64"
   ]
  },
  {
   "cell_type": "markdown",
   "id": "dde71912",
   "metadata": {},
   "source": [
    "nombre_infected       945\n",
    "nombre_sain          1861\n",
    "nombre_exposed        408\n",
    "nombre_recovered    16786\n",
    "Name: 389, dtype: int64"
   ]
  },
  {
   "cell_type": "markdown",
   "id": "1567e159",
   "metadata": {},
   "source": [
    "nombre_infected       939\n",
    "nombre_sain          1876\n",
    "nombre_exposed        401\n",
    "nombre_recovered    16784\n",
    "Name: 390, dtype: int64"
   ]
  },
  {
   "cell_type": "markdown",
   "id": "d8859bf4",
   "metadata": {},
   "source": [
    "nombre_infected       933\n",
    "nombre_sain          1877\n",
    "nombre_exposed        419\n",
    "nombre_recovered    16771\n",
    "Name: 391, dtype: int64"
   ]
  },
  {
   "cell_type": "markdown",
   "id": "a2c35bef",
   "metadata": {},
   "source": [
    "nombre_infected       919\n",
    "nombre_sain          1897\n",
    "nombre_exposed        419\n",
    "nombre_recovered    16765\n",
    "Name: 392, dtype: int64"
   ]
  },
  {
   "cell_type": "markdown",
   "id": "e844fd6d",
   "metadata": {},
   "source": [
    "nombre_infected       917\n",
    "nombre_sain          1902\n",
    "nombre_exposed        425\n",
    "nombre_recovered    16756\n",
    "Name: 393, dtype: int64"
   ]
  },
  {
   "cell_type": "markdown",
   "id": "dfbfdc44",
   "metadata": {},
   "source": [
    "nombre_infected       902\n",
    "nombre_sain          1907\n",
    "nombre_exposed        414\n",
    "nombre_recovered    16777\n",
    "Name: 394, dtype: int64"
   ]
  },
  {
   "cell_type": "markdown",
   "id": "4d46f08d",
   "metadata": {},
   "source": [
    "nombre_infected       928\n",
    "nombre_sain          1909\n",
    "nombre_exposed        400\n",
    "nombre_recovered    16763\n",
    "Name: 395, dtype: int64"
   ]
  },
  {
   "cell_type": "markdown",
   "id": "70994b66",
   "metadata": {},
   "source": [
    "nombre_infected       905\n",
    "nombre_sain          1897\n",
    "nombre_exposed        434\n",
    "nombre_recovered    16764\n",
    "Name: 396, dtype: int64"
   ]
  },
  {
   "cell_type": "markdown",
   "id": "0d840981",
   "metadata": {},
   "source": [
    "nombre_infected       895\n",
    "nombre_sain          1901\n",
    "nombre_exposed        410\n",
    "nombre_recovered    16794\n",
    "Name: 397, dtype: int64"
   ]
  },
  {
   "cell_type": "markdown",
   "id": "a334013c",
   "metadata": {},
   "source": [
    "nombre_infected       882\n",
    "nombre_sain          1891\n",
    "nombre_exposed        422\n",
    "nombre_recovered    16805\n",
    "Name: 398, dtype: int64"
   ]
  },
  {
   "cell_type": "markdown",
   "id": "1731db6f",
   "metadata": {},
   "source": [
    "nombre_infected       884\n",
    "nombre_sain          1901\n",
    "nombre_exposed        438\n",
    "nombre_recovered    16777\n",
    "Name: 399, dtype: int64"
   ]
  },
  {
   "cell_type": "markdown",
   "id": "882424cd",
   "metadata": {},
   "source": [
    "nombre_infected       868\n",
    "nombre_sain          1926\n",
    "nombre_exposed        424\n",
    "nombre_recovered    16782\n",
    "Name: 400, dtype: int64"
   ]
  },
  {
   "cell_type": "markdown",
   "id": "2ad59409",
   "metadata": {},
   "source": [
    "nombre_infected       885\n",
    "nombre_sain          1964\n",
    "nombre_exposed        401\n",
    "nombre_recovered    16750\n",
    "Name: 401, dtype: int64"
   ]
  },
  {
   "cell_type": "markdown",
   "id": "f3282909",
   "metadata": {},
   "source": [
    "nombre_infected       877\n",
    "nombre_sain          1992\n",
    "nombre_exposed        393\n",
    "nombre_recovered    16738\n",
    "Name: 402, dtype: int64"
   ]
  },
  {
   "cell_type": "markdown",
   "id": "cc0cb34c",
   "metadata": {},
   "source": [
    "nombre_infected       865\n",
    "nombre_sain          1996\n",
    "nombre_exposed        403\n",
    "nombre_recovered    16736\n",
    "Name: 403, dtype: int64"
   ]
  },
  {
   "cell_type": "markdown",
   "id": "81ba6be7",
   "metadata": {},
   "source": [
    "nombre_infected       861\n",
    "nombre_sain          2028\n",
    "nombre_exposed        416\n",
    "nombre_recovered    16695\n",
    "Name: 404, dtype: int64"
   ]
  },
  {
   "cell_type": "markdown",
   "id": "bf1e7783",
   "metadata": {},
   "source": [
    "nombre_infected       886\n",
    "nombre_sain          2036\n",
    "nombre_exposed        430\n",
    "nombre_recovered    16648\n",
    "Name: 405, dtype: int64"
   ]
  },
  {
   "cell_type": "markdown",
   "id": "2c129821",
   "metadata": {},
   "source": [
    "nombre_infected       903\n",
    "nombre_sain          2031\n",
    "nombre_exposed        432\n",
    "nombre_recovered    16634\n",
    "Name: 406, dtype: int64"
   ]
  },
  {
   "cell_type": "markdown",
   "id": "dbce8e74",
   "metadata": {},
   "source": [
    "nombre_infected       902\n",
    "nombre_sain          2058\n",
    "nombre_exposed        424\n",
    "nombre_recovered    16616\n",
    "Name: 407, dtype: int64"
   ]
  },
  {
   "cell_type": "markdown",
   "id": "2410fbe2",
   "metadata": {},
   "source": [
    "nombre_infected       910\n",
    "nombre_sain          2057\n",
    "nombre_exposed        426\n",
    "nombre_recovered    16607\n",
    "Name: 408, dtype: int64"
   ]
  },
  {
   "cell_type": "markdown",
   "id": "51d448f0",
   "metadata": {},
   "source": [
    "nombre_infected       907\n",
    "nombre_sain          2061\n",
    "nombre_exposed        426\n",
    "nombre_recovered    16606\n",
    "Name: 409, dtype: int64"
   ]
  },
  {
   "cell_type": "markdown",
   "id": "4fa551c1",
   "metadata": {},
   "source": [
    "nombre_infected       917\n",
    "nombre_sain          2070\n",
    "nombre_exposed        423\n",
    "nombre_recovered    16590\n",
    "Name: 410, dtype: int64"
   ]
  },
  {
   "cell_type": "markdown",
   "id": "c543faa2",
   "metadata": {},
   "source": [
    "nombre_infected       919\n",
    "nombre_sain          2064\n",
    "nombre_exposed        435\n",
    "nombre_recovered    16582\n",
    "Name: 411, dtype: int64"
   ]
  },
  {
   "cell_type": "markdown",
   "id": "20be947e",
   "metadata": {},
   "source": [
    "nombre_infected       915\n",
    "nombre_sain          2082\n",
    "nombre_exposed        437\n",
    "nombre_recovered    16566\n",
    "Name: 412, dtype: int64"
   ]
  },
  {
   "cell_type": "markdown",
   "id": "542d0b8c",
   "metadata": {},
   "source": [
    "nombre_infected       914\n",
    "nombre_sain          2089\n",
    "nombre_exposed        441\n",
    "nombre_recovered    16556\n",
    "Name: 413, dtype: int64"
   ]
  },
  {
   "cell_type": "markdown",
   "id": "6a18d189",
   "metadata": {},
   "source": [
    "nombre_infected       904\n",
    "nombre_sain          2083\n",
    "nombre_exposed        448\n",
    "nombre_recovered    16565\n",
    "Name: 414, dtype: int64"
   ]
  },
  {
   "cell_type": "markdown",
   "id": "5433a89f",
   "metadata": {},
   "source": [
    "nombre_infected       955\n",
    "nombre_sain          2107\n",
    "nombre_exposed        412\n",
    "nombre_recovered    16526\n",
    "Name: 415, dtype: int64"
   ]
  },
  {
   "cell_type": "markdown",
   "id": "2ebeb754",
   "metadata": {},
   "source": [
    "nombre_infected       930\n",
    "nombre_sain          2136\n",
    "nombre_exposed        423\n",
    "nombre_recovered    16511\n",
    "Name: 416, dtype: int64"
   ]
  },
  {
   "cell_type": "markdown",
   "id": "ab7a8ea5",
   "metadata": {},
   "source": [
    "nombre_infected       937\n",
    "nombre_sain          2140\n",
    "nombre_exposed        432\n",
    "nombre_recovered    16491\n",
    "Name: 417, dtype: int64"
   ]
  },
  {
   "cell_type": "markdown",
   "id": "b82caf08",
   "metadata": {},
   "source": [
    "nombre_infected       917\n",
    "nombre_sain          2135\n",
    "nombre_exposed        445\n",
    "nombre_recovered    16503\n",
    "Name: 418, dtype: int64"
   ]
  },
  {
   "cell_type": "markdown",
   "id": "7268a001",
   "metadata": {},
   "source": [
    "nombre_infected       923\n",
    "nombre_sain          2143\n",
    "nombre_exposed        480\n",
    "nombre_recovered    16454\n",
    "Name: 419, dtype: int64"
   ]
  },
  {
   "cell_type": "markdown",
   "id": "bfeda5b8",
   "metadata": {},
   "source": [
    "nombre_infected       922\n",
    "nombre_sain          2163\n",
    "nombre_exposed        471\n",
    "nombre_recovered    16444\n",
    "Name: 420, dtype: int64"
   ]
  },
  {
   "cell_type": "markdown",
   "id": "30669ba1",
   "metadata": {},
   "source": [
    "nombre_infected       937\n",
    "nombre_sain          2177\n",
    "nombre_exposed        472\n",
    "nombre_recovered    16414\n",
    "Name: 421, dtype: int64"
   ]
  },
  {
   "cell_type": "markdown",
   "id": "87213f63",
   "metadata": {},
   "source": [
    "nombre_infected       942\n",
    "nombre_sain          2163\n",
    "nombre_exposed        476\n",
    "nombre_recovered    16419\n",
    "Name: 422, dtype: int64"
   ]
  },
  {
   "cell_type": "markdown",
   "id": "c5853317",
   "metadata": {},
   "source": [
    "nombre_infected       965\n",
    "nombre_sain          2171\n",
    "nombre_exposed        487\n",
    "nombre_recovered    16377\n",
    "Name: 423, dtype: int64"
   ]
  },
  {
   "cell_type": "markdown",
   "id": "f4f5c7ad",
   "metadata": {},
   "source": [
    "nombre_infected       992\n",
    "nombre_sain          2185\n",
    "nombre_exposed        466\n",
    "nombre_recovered    16357\n",
    "Name: 424, dtype: int64"
   ]
  },
  {
   "cell_type": "markdown",
   "id": "590107ff",
   "metadata": {},
   "source": [
    "nombre_infected      1018\n",
    "nombre_sain          2158\n",
    "nombre_exposed        473\n",
    "nombre_recovered    16351\n",
    "Name: 425, dtype: int64"
   ]
  },
  {
   "cell_type": "markdown",
   "id": "38d34a40",
   "metadata": {},
   "source": [
    "nombre_infected      1016\n",
    "nombre_sain          2150\n",
    "nombre_exposed        508\n",
    "nombre_recovered    16326\n",
    "Name: 426, dtype: int64"
   ]
  },
  {
   "cell_type": "markdown",
   "id": "3c26441b",
   "metadata": {},
   "source": [
    "nombre_infected      1021\n",
    "nombre_sain          2116\n",
    "nombre_exposed        524\n",
    "nombre_recovered    16339\n",
    "Name: 427, dtype: int64"
   ]
  },
  {
   "cell_type": "markdown",
   "id": "191ed9bb",
   "metadata": {},
   "source": [
    "nombre_infected      1048\n",
    "nombre_sain          2087\n",
    "nombre_exposed        534\n",
    "nombre_recovered    16331\n",
    "Name: 428, dtype: int64"
   ]
  },
  {
   "cell_type": "markdown",
   "id": "da4e7b5f",
   "metadata": {},
   "source": [
    "nombre_infected      1026\n",
    "nombre_sain          2075\n",
    "nombre_exposed        531\n",
    "nombre_recovered    16368\n",
    "Name: 429, dtype: int64"
   ]
  },
  {
   "cell_type": "markdown",
   "id": "4e03f0b5",
   "metadata": {},
   "source": [
    "nombre_infected      1007\n",
    "nombre_sain          2072\n",
    "nombre_exposed        539\n",
    "nombre_recovered    16382\n",
    "Name: 430, dtype: int64"
   ]
  },
  {
   "cell_type": "markdown",
   "id": "06a12049",
   "metadata": {},
   "source": [
    "nombre_infected      1042\n",
    "nombre_sain          2050\n",
    "nombre_exposed        510\n",
    "nombre_recovered    16398\n",
    "Name: 431, dtype: int64"
   ]
  },
  {
   "cell_type": "markdown",
   "id": "335015ac",
   "metadata": {},
   "source": [
    "nombre_infected      1047\n",
    "nombre_sain          2006\n",
    "nombre_exposed        540\n",
    "nombre_recovered    16407\n",
    "Name: 432, dtype: int64"
   ]
  },
  {
   "cell_type": "markdown",
   "id": "df2c93e4",
   "metadata": {},
   "source": [
    "nombre_infected      1033\n",
    "nombre_sain          1973\n",
    "nombre_exposed        566\n",
    "nombre_recovered    16428\n",
    "Name: 433, dtype: int64"
   ]
  },
  {
   "cell_type": "markdown",
   "id": "fbe2c785",
   "metadata": {},
   "source": [
    "nombre_infected      1050\n",
    "nombre_sain          1977\n",
    "nombre_exposed        541\n",
    "nombre_recovered    16432\n",
    "Name: 434, dtype: int64"
   ]
  },
  {
   "cell_type": "markdown",
   "id": "c7d9a4fb",
   "metadata": {},
   "source": [
    "nombre_infected      1080\n",
    "nombre_sain          1962\n",
    "nombre_exposed        512\n",
    "nombre_recovered    16446\n",
    "Name: 435, dtype: int64"
   ]
  },
  {
   "cell_type": "markdown",
   "id": "875074e5",
   "metadata": {},
   "source": [
    "nombre_infected      1081\n",
    "nombre_sain          1944\n",
    "nombre_exposed        505\n",
    "nombre_recovered    16470\n",
    "Name: 436, dtype: int64"
   ]
  },
  {
   "cell_type": "markdown",
   "id": "a6671a2d",
   "metadata": {},
   "source": [
    "nombre_infected      1086\n",
    "nombre_sain          1918\n",
    "nombre_exposed        510\n",
    "nombre_recovered    16486\n",
    "Name: 437, dtype: int64"
   ]
  },
  {
   "cell_type": "markdown",
   "id": "c8d1de7b",
   "metadata": {},
   "source": [
    "nombre_infected      1090\n",
    "nombre_sain          1880\n",
    "nombre_exposed        546\n",
    "nombre_recovered    16484\n",
    "Name: 438, dtype: int64"
   ]
  },
  {
   "cell_type": "markdown",
   "id": "0b5d3ba7",
   "metadata": {},
   "source": [
    "nombre_infected      1094\n",
    "nombre_sain          1890\n",
    "nombre_exposed        532\n",
    "nombre_recovered    16484\n",
    "Name: 439, dtype: int64"
   ]
  },
  {
   "cell_type": "markdown",
   "id": "85e37241",
   "metadata": {},
   "source": [
    "nombre_infected      1132\n",
    "nombre_sain          1871\n",
    "nombre_exposed        507\n",
    "nombre_recovered    16490\n",
    "Name: 440, dtype: int64"
   ]
  },
  {
   "cell_type": "markdown",
   "id": "78eed264",
   "metadata": {},
   "source": [
    "nombre_infected      1123\n",
    "nombre_sain          1860\n",
    "nombre_exposed        521\n",
    "nombre_recovered    16496\n",
    "Name: 441, dtype: int64"
   ]
  },
  {
   "cell_type": "markdown",
   "id": "60f50e27",
   "metadata": {},
   "source": [
    "nombre_infected      1126\n",
    "nombre_sain          1850\n",
    "nombre_exposed        527\n",
    "nombre_recovered    16497\n",
    "Name: 442, dtype: int64"
   ]
  },
  {
   "cell_type": "markdown",
   "id": "91ad41a6",
   "metadata": {},
   "source": [
    "nombre_infected      1135\n",
    "nombre_sain          1825\n",
    "nombre_exposed        545\n",
    "nombre_recovered    16495\n",
    "Name: 443, dtype: int64"
   ]
  },
  {
   "cell_type": "markdown",
   "id": "50289a8c",
   "metadata": {},
   "source": [
    "nombre_infected      1157\n",
    "nombre_sain          1834\n",
    "nombre_exposed        514\n",
    "nombre_recovered    16495\n",
    "Name: 444, dtype: int64"
   ]
  },
  {
   "cell_type": "markdown",
   "id": "81d37d60",
   "metadata": {},
   "source": [
    "nombre_infected      1162\n",
    "nombre_sain          1852\n",
    "nombre_exposed        491\n",
    "nombre_recovered    16495\n",
    "Name: 445, dtype: int64"
   ]
  },
  {
   "cell_type": "markdown",
   "id": "74583cb6",
   "metadata": {},
   "source": [
    "nombre_infected      1152\n",
    "nombre_sain          1842\n",
    "nombre_exposed        502\n",
    "nombre_recovered    16504\n",
    "Name: 446, dtype: int64"
   ]
  },
  {
   "cell_type": "markdown",
   "id": "7358f7be",
   "metadata": {},
   "source": [
    "nombre_infected      1124\n",
    "nombre_sain          1832\n",
    "nombre_exposed        526\n",
    "nombre_recovered    16518\n",
    "Name: 447, dtype: int64"
   ]
  },
  {
   "cell_type": "markdown",
   "id": "59dd22a3",
   "metadata": {},
   "source": [
    "nombre_infected      1135\n",
    "nombre_sain          1851\n",
    "nombre_exposed        492\n",
    "nombre_recovered    16522\n",
    "Name: 448, dtype: int64"
   ]
  },
  {
   "cell_type": "markdown",
   "id": "82634ed5",
   "metadata": {},
   "source": [
    "nombre_infected      1126\n",
    "nombre_sain          1836\n",
    "nombre_exposed        510\n",
    "nombre_recovered    16528\n",
    "Name: 449, dtype: int64"
   ]
  },
  {
   "cell_type": "markdown",
   "id": "1f78247a",
   "metadata": {},
   "source": [
    "nombre_infected      1117\n",
    "nombre_sain          1862\n",
    "nombre_exposed        482\n",
    "nombre_recovered    16539\n",
    "Name: 450, dtype: int64"
   ]
  },
  {
   "cell_type": "markdown",
   "id": "6a6f2b95",
   "metadata": {},
   "source": [
    "nombre_infected      1115\n",
    "nombre_sain          1847\n",
    "nombre_exposed        484\n",
    "nombre_recovered    16554\n",
    "Name: 451, dtype: int64"
   ]
  },
  {
   "cell_type": "markdown",
   "id": "b0fcd191",
   "metadata": {},
   "source": [
    "nombre_infected      1113\n",
    "nombre_sain          1850\n",
    "nombre_exposed        492\n",
    "nombre_recovered    16545\n",
    "Name: 452, dtype: int64"
   ]
  },
  {
   "cell_type": "markdown",
   "id": "3ac728f1",
   "metadata": {},
   "source": [
    "nombre_infected      1116\n",
    "nombre_sain          1873\n",
    "nombre_exposed        479\n",
    "nombre_recovered    16532\n",
    "Name: 453, dtype: int64"
   ]
  },
  {
   "cell_type": "markdown",
   "id": "919ae5f7",
   "metadata": {},
   "source": [
    "nombre_infected      1089\n",
    "nombre_sain          1871\n",
    "nombre_exposed        493\n",
    "nombre_recovered    16547\n",
    "Name: 454, dtype: int64"
   ]
  },
  {
   "cell_type": "markdown",
   "id": "4681d0fc",
   "metadata": {},
   "source": [
    "nombre_infected      1094\n",
    "nombre_sain          1867\n",
    "nombre_exposed        472\n",
    "nombre_recovered    16567\n",
    "Name: 455, dtype: int64"
   ]
  },
  {
   "cell_type": "markdown",
   "id": "c8bb1b3f",
   "metadata": {},
   "source": [
    "nombre_infected      1069\n",
    "nombre_sain          1875\n",
    "nombre_exposed        491\n",
    "nombre_recovered    16565\n",
    "Name: 456, dtype: int64"
   ]
  },
  {
   "cell_type": "markdown",
   "id": "375aa9a8",
   "metadata": {},
   "source": [
    "nombre_infected      1089\n",
    "nombre_sain          1890\n",
    "nombre_exposed        469\n",
    "nombre_recovered    16552\n",
    "Name: 457, dtype: int64"
   ]
  },
  {
   "cell_type": "markdown",
   "id": "a0145c48",
   "metadata": {},
   "source": [
    "nombre_infected      1099\n",
    "nombre_sain          1876\n",
    "nombre_exposed        461\n",
    "nombre_recovered    16564\n",
    "Name: 458, dtype: int64"
   ]
  },
  {
   "cell_type": "markdown",
   "id": "ad7a1634",
   "metadata": {},
   "source": [
    "nombre_infected      1063\n",
    "nombre_sain          1901\n",
    "nombre_exposed        473\n",
    "nombre_recovered    16563\n",
    "Name: 459, dtype: int64"
   ]
  },
  {
   "cell_type": "markdown",
   "id": "3617cc3e",
   "metadata": {},
   "source": [
    "nombre_infected      1035\n",
    "nombre_sain          1904\n",
    "nombre_exposed        475\n",
    "nombre_recovered    16586\n",
    "Name: 460, dtype: int64"
   ]
  },
  {
   "cell_type": "markdown",
   "id": "f65485cc",
   "metadata": {},
   "source": [
    "nombre_infected      1025\n",
    "nombre_sain          1923\n",
    "nombre_exposed        459\n",
    "nombre_recovered    16593\n",
    "Name: 461, dtype: int64"
   ]
  },
  {
   "cell_type": "markdown",
   "id": "0cd47269",
   "metadata": {},
   "source": [
    "nombre_infected      1047\n",
    "nombre_sain          1907\n",
    "nombre_exposed        449\n",
    "nombre_recovered    16597\n",
    "Name: 462, dtype: int64"
   ]
  },
  {
   "cell_type": "markdown",
   "id": "e807eaae",
   "metadata": {},
   "source": [
    "nombre_infected      1049\n",
    "nombre_sain          1880\n",
    "nombre_exposed        470\n",
    "nombre_recovered    16601\n",
    "Name: 463, dtype: int64"
   ]
  },
  {
   "cell_type": "markdown",
   "id": "c1382a04",
   "metadata": {},
   "source": [
    "nombre_infected      1060\n",
    "nombre_sain          1895\n",
    "nombre_exposed        455\n",
    "nombre_recovered    16590\n",
    "Name: 464, dtype: int64"
   ]
  },
  {
   "cell_type": "markdown",
   "id": "9c6e4c15",
   "metadata": {},
   "source": [
    "nombre_infected      1055\n",
    "nombre_sain          1880\n",
    "nombre_exposed        466\n",
    "nombre_recovered    16599\n",
    "Name: 465, dtype: int64"
   ]
  },
  {
   "cell_type": "markdown",
   "id": "7c60b99f",
   "metadata": {},
   "source": [
    "nombre_infected      1042\n",
    "nombre_sain          1885\n",
    "nombre_exposed        465\n",
    "nombre_recovered    16608\n",
    "Name: 466, dtype: int64"
   ]
  },
  {
   "cell_type": "markdown",
   "id": "d7b953c1",
   "metadata": {},
   "source": [
    "nombre_infected      1033\n",
    "nombre_sain          1895\n",
    "nombre_exposed        460\n",
    "nombre_recovered    16612\n",
    "Name: 467, dtype: int64"
   ]
  },
  {
   "cell_type": "markdown",
   "id": "ae83e5f3",
   "metadata": {},
   "source": [
    "nombre_infected      1008\n",
    "nombre_sain          1886\n",
    "nombre_exposed        481\n",
    "nombre_recovered    16625\n",
    "Name: 468, dtype: int64"
   ]
  },
  {
   "cell_type": "markdown",
   "id": "63772631",
   "metadata": {},
   "source": [
    "nombre_infected      1024\n",
    "nombre_sain          1864\n",
    "nombre_exposed        486\n",
    "nombre_recovered    16626\n",
    "Name: 469, dtype: int64"
   ]
  },
  {
   "cell_type": "markdown",
   "id": "4f153d16",
   "metadata": {},
   "source": [
    "nombre_infected      1013\n",
    "nombre_sain          1855\n",
    "nombre_exposed        499\n",
    "nombre_recovered    16633\n",
    "Name: 470, dtype: int64"
   ]
  },
  {
   "cell_type": "markdown",
   "id": "643e52c6",
   "metadata": {},
   "source": [
    "nombre_infected      1039\n",
    "nombre_sain          1874\n",
    "nombre_exposed        471\n",
    "nombre_recovered    16616\n",
    "Name: 471, dtype: int64"
   ]
  },
  {
   "cell_type": "markdown",
   "id": "2bb6d0b1",
   "metadata": {},
   "source": [
    "nombre_infected      1026\n",
    "nombre_sain          1866\n",
    "nombre_exposed        457\n",
    "nombre_recovered    16651\n",
    "Name: 472, dtype: int64"
   ]
  },
  {
   "cell_type": "markdown",
   "id": "71633442",
   "metadata": {},
   "source": [
    "nombre_infected      1002\n",
    "nombre_sain          1839\n",
    "nombre_exposed        480\n",
    "nombre_recovered    16679\n",
    "Name: 473, dtype: int64"
   ]
  },
  {
   "cell_type": "markdown",
   "id": "df277e34",
   "metadata": {},
   "source": [
    "nombre_infected      1007\n",
    "nombre_sain          1852\n",
    "nombre_exposed        488\n",
    "nombre_recovered    16653\n",
    "Name: 474, dtype: int64"
   ]
  },
  {
   "cell_type": "markdown",
   "id": "622ec7ad",
   "metadata": {},
   "source": [
    "nombre_infected      1002\n",
    "nombre_sain          1869\n",
    "nombre_exposed        466\n",
    "nombre_recovered    16663\n",
    "Name: 475, dtype: int64"
   ]
  },
  {
   "cell_type": "markdown",
   "id": "9cbf2ee2",
   "metadata": {},
   "source": [
    "nombre_infected      1019\n",
    "nombre_sain          1889\n",
    "nombre_exposed        466\n",
    "nombre_recovered    16626\n",
    "Name: 476, dtype: int64"
   ]
  },
  {
   "cell_type": "markdown",
   "id": "c50e66e5",
   "metadata": {},
   "source": [
    "nombre_infected      1009\n",
    "nombre_sain          1916\n",
    "nombre_exposed        466\n",
    "nombre_recovered    16609\n",
    "Name: 477, dtype: int64"
   ]
  },
  {
   "cell_type": "markdown",
   "id": "bdb4656d",
   "metadata": {},
   "source": [
    "nombre_infected      1018\n",
    "nombre_sain          1949\n",
    "nombre_exposed        449\n",
    "nombre_recovered    16584\n",
    "Name: 478, dtype: int64"
   ]
  },
  {
   "cell_type": "markdown",
   "id": "bdf69c30",
   "metadata": {},
   "source": [
    "nombre_infected      1011\n",
    "nombre_sain          1984\n",
    "nombre_exposed        437\n",
    "nombre_recovered    16568\n",
    "Name: 479, dtype: int64"
   ]
  },
  {
   "cell_type": "markdown",
   "id": "da9c1454",
   "metadata": {},
   "source": [
    "nombre_infected       994\n",
    "nombre_sain          2027\n",
    "nombre_exposed        431\n",
    "nombre_recovered    16548\n",
    "Name: 480, dtype: int64"
   ]
  },
  {
   "cell_type": "markdown",
   "id": "0b51f696",
   "metadata": {},
   "source": [
    "nombre_infected       984\n",
    "nombre_sain          2049\n",
    "nombre_exposed        445\n",
    "nombre_recovered    16522\n",
    "Name: 481, dtype: int64"
   ]
  },
  {
   "cell_type": "markdown",
   "id": "d9516002",
   "metadata": {},
   "source": [
    "nombre_infected       971\n",
    "nombre_sain          2059\n",
    "nombre_exposed        453\n",
    "nombre_recovered    16517\n",
    "Name: 482, dtype: int64"
   ]
  },
  {
   "cell_type": "markdown",
   "id": "e4fcf318",
   "metadata": {},
   "source": [
    "nombre_infected       953\n",
    "nombre_sain          2074\n",
    "nombre_exposed        465\n",
    "nombre_recovered    16508\n",
    "Name: 483, dtype: int64"
   ]
  },
  {
   "cell_type": "markdown",
   "id": "f5e0a775",
   "metadata": {},
   "source": [
    "nombre_infected       949\n",
    "nombre_sain          2069\n",
    "nombre_exposed        487\n",
    "nombre_recovered    16495\n",
    "Name: 484, dtype: int64"
   ]
  },
  {
   "cell_type": "markdown",
   "id": "0b4d535c",
   "metadata": {},
   "source": [
    "nombre_infected       962\n",
    "nombre_sain          2090\n",
    "nombre_exposed        480\n",
    "nombre_recovered    16468\n",
    "Name: 485, dtype: int64"
   ]
  },
  {
   "cell_type": "markdown",
   "id": "0dd16bfe",
   "metadata": {},
   "source": [
    "nombre_infected       974\n",
    "nombre_sain          2087\n",
    "nombre_exposed        474\n",
    "nombre_recovered    16465\n",
    "Name: 486, dtype: int64"
   ]
  },
  {
   "cell_type": "markdown",
   "id": "5a3d2767",
   "metadata": {},
   "source": [
    "nombre_infected       970\n",
    "nombre_sain          2101\n",
    "nombre_exposed        486\n",
    "nombre_recovered    16443\n",
    "Name: 487, dtype: int64"
   ]
  },
  {
   "cell_type": "markdown",
   "id": "47114c4d",
   "metadata": {},
   "source": [
    "nombre_infected       956\n",
    "nombre_sain          2095\n",
    "nombre_exposed        509\n",
    "nombre_recovered    16440\n",
    "Name: 488, dtype: int64"
   ]
  },
  {
   "cell_type": "markdown",
   "id": "d469ffaf",
   "metadata": {},
   "source": [
    "nombre_infected       954\n",
    "nombre_sain          2121\n",
    "nombre_exposed        508\n",
    "nombre_recovered    16417\n",
    "Name: 489, dtype: int64"
   ]
  },
  {
   "cell_type": "markdown",
   "id": "99109b39",
   "metadata": {},
   "source": [
    "nombre_infected       961\n",
    "nombre_sain          2132\n",
    "nombre_exposed        491\n",
    "nombre_recovered    16416\n",
    "Name: 490, dtype: int64"
   ]
  },
  {
   "cell_type": "markdown",
   "id": "6b857fe5",
   "metadata": {},
   "source": [
    "nombre_infected       983\n",
    "nombre_sain          2121\n",
    "nombre_exposed        500\n",
    "nombre_recovered    16396\n",
    "Name: 491, dtype: int64"
   ]
  },
  {
   "cell_type": "markdown",
   "id": "cf9b7159",
   "metadata": {},
   "source": [
    "nombre_infected       997\n",
    "nombre_sain          2150\n",
    "nombre_exposed        497\n",
    "nombre_recovered    16356\n",
    "Name: 492, dtype: int64"
   ]
  },
  {
   "cell_type": "markdown",
   "id": "5824d785",
   "metadata": {},
   "source": [
    "nombre_infected      1012\n",
    "nombre_sain          2173\n",
    "nombre_exposed        464\n",
    "nombre_recovered    16351\n",
    "Name: 493, dtype: int64"
   ]
  },
  {
   "cell_type": "markdown",
   "id": "3131e28d",
   "metadata": {},
   "source": [
    "nombre_infected      1022\n",
    "nombre_sain          2158\n",
    "nombre_exposed        479\n",
    "nombre_recovered    16341\n",
    "Name: 494, dtype: int64"
   ]
  },
  {
   "cell_type": "markdown",
   "id": "2466cb54",
   "metadata": {},
   "source": [
    "nombre_infected      1014\n",
    "nombre_sain          2157\n",
    "nombre_exposed        480\n",
    "nombre_recovered    16349\n",
    "Name: 495, dtype: int64"
   ]
  },
  {
   "cell_type": "markdown",
   "id": "237618f4",
   "metadata": {},
   "source": [
    "nombre_infected      1018\n",
    "nombre_sain          2156\n",
    "nombre_exposed        468\n",
    "nombre_recovered    16358\n",
    "Name: 496, dtype: int64"
   ]
  },
  {
   "cell_type": "markdown",
   "id": "97d48fc3",
   "metadata": {},
   "source": [
    "nombre_infected      1008\n",
    "nombre_sain          2162\n",
    "nombre_exposed        475\n",
    "nombre_recovered    16355\n",
    "Name: 497, dtype: int64"
   ]
  },
  {
   "cell_type": "markdown",
   "id": "c207e5fe",
   "metadata": {},
   "source": [
    "nombre_infected       996\n",
    "nombre_sain          2130\n",
    "nombre_exposed        489\n",
    "nombre_recovered    16385\n",
    "Name: 498, dtype: int64"
   ]
  },
  {
   "cell_type": "markdown",
   "id": "e61dcfc1",
   "metadata": {},
   "source": [
    "nombre_infected       991\n",
    "nombre_sain          2133\n",
    "nombre_exposed        484\n",
    "nombre_recovered    16392\n",
    "Name: 499, dtype: int64"
   ]
  },
  {
   "cell_type": "markdown",
   "id": "1f9f0f74",
   "metadata": {},
   "source": [
    "nombre_infected       977\n",
    "nombre_sain          2130\n",
    "nombre_exposed        483\n",
    "nombre_recovered    16410\n",
    "Name: 500, dtype: int64"
   ]
  },
  {
   "cell_type": "markdown",
   "id": "ab308a2f",
   "metadata": {},
   "source": [
    "nombre_infected       978\n",
    "nombre_sain          2118\n",
    "nombre_exposed        488\n",
    "nombre_recovered    16416\n",
    "Name: 501, dtype: int64"
   ]
  },
  {
   "cell_type": "markdown",
   "id": "3ccf107b",
   "metadata": {},
   "source": [
    "nombre_infected      1014\n",
    "nombre_sain          2099\n",
    "nombre_exposed        466\n",
    "nombre_recovered    16421\n",
    "Name: 502, dtype: int64"
   ]
  },
  {
   "cell_type": "markdown",
   "id": "25bf8478",
   "metadata": {},
   "source": [
    "nombre_infected      1009\n",
    "nombre_sain          2091\n",
    "nombre_exposed        481\n",
    "nombre_recovered    16419\n",
    "Name: 503, dtype: int64"
   ]
  },
  {
   "cell_type": "markdown",
   "id": "aeb079ca",
   "metadata": {},
   "source": [
    "nombre_infected       997\n",
    "nombre_sain          2107\n",
    "nombre_exposed        487\n",
    "nombre_recovered    16409\n",
    "Name: 504, dtype: int64"
   ]
  },
  {
   "cell_type": "markdown",
   "id": "1e0c4250",
   "metadata": {},
   "source": [
    "nombre_infected      1001\n",
    "nombre_sain          2103\n",
    "nombre_exposed        459\n",
    "nombre_recovered    16437\n",
    "Name: 505, dtype: int64"
   ]
  },
  {
   "cell_type": "markdown",
   "id": "f0bfa1e8",
   "metadata": {},
   "source": [
    "nombre_infected      1012\n",
    "nombre_sain          2095\n",
    "nombre_exposed        464\n",
    "nombre_recovered    16429\n",
    "Name: 506, dtype: int64"
   ]
  },
  {
   "cell_type": "markdown",
   "id": "18bf5db8",
   "metadata": {},
   "source": [
    "nombre_infected      1002\n",
    "nombre_sain          2057\n",
    "nombre_exposed        495\n",
    "nombre_recovered    16446\n",
    "Name: 507, dtype: int64"
   ]
  },
  {
   "cell_type": "markdown",
   "id": "73a62f34",
   "metadata": {},
   "source": [
    "nombre_infected       992\n",
    "nombre_sain          2043\n",
    "nombre_exposed        498\n",
    "nombre_recovered    16467\n",
    "Name: 508, dtype: int64"
   ]
  },
  {
   "cell_type": "markdown",
   "id": "27a66657",
   "metadata": {},
   "source": [
    "nombre_infected      1027\n",
    "nombre_sain          2030\n",
    "nombre_exposed        488\n",
    "nombre_recovered    16455\n",
    "Name: 509, dtype: int64"
   ]
  },
  {
   "cell_type": "markdown",
   "id": "107094df",
   "metadata": {},
   "source": [
    "nombre_infected      1035\n",
    "nombre_sain          2023\n",
    "nombre_exposed        497\n",
    "nombre_recovered    16445\n",
    "Name: 510, dtype: int64"
   ]
  },
  {
   "cell_type": "markdown",
   "id": "02811e4a",
   "metadata": {},
   "source": [
    "nombre_infected      1046\n",
    "nombre_sain          2017\n",
    "nombre_exposed        498\n",
    "nombre_recovered    16439\n",
    "Name: 511, dtype: int64"
   ]
  },
  {
   "cell_type": "markdown",
   "id": "7522d948",
   "metadata": {},
   "source": [
    "nombre_infected      1063\n",
    "nombre_sain          2012\n",
    "nombre_exposed        475\n",
    "nombre_recovered    16450\n",
    "Name: 512, dtype: int64"
   ]
  },
  {
   "cell_type": "markdown",
   "id": "4a7651de",
   "metadata": {},
   "source": [
    "nombre_infected      1053\n",
    "nombre_sain          1994\n",
    "nombre_exposed        489\n",
    "nombre_recovered    16464\n",
    "Name: 513, dtype: int64"
   ]
  },
  {
   "cell_type": "markdown",
   "id": "7bfb80c9",
   "metadata": {},
   "source": [
    "nombre_infected      1054\n",
    "nombre_sain          1970\n",
    "nombre_exposed        505\n",
    "nombre_recovered    16471\n",
    "Name: 514, dtype: int64"
   ]
  },
  {
   "cell_type": "markdown",
   "id": "c5183f80",
   "metadata": {},
   "source": [
    "nombre_infected      1019\n",
    "nombre_sain          1952\n",
    "nombre_exposed        540\n",
    "nombre_recovered    16489\n",
    "Name: 515, dtype: int64"
   ]
  },
  {
   "cell_type": "markdown",
   "id": "783249e8",
   "metadata": {},
   "source": [
    "nombre_infected      1041\n",
    "nombre_sain          1935\n",
    "nombre_exposed        530\n",
    "nombre_recovered    16494\n",
    "Name: 516, dtype: int64"
   ]
  },
  {
   "cell_type": "markdown",
   "id": "1d0eb623",
   "metadata": {},
   "source": [
    "nombre_infected      1064\n",
    "nombre_sain          1924\n",
    "nombre_exposed        520\n",
    "nombre_recovered    16492\n",
    "Name: 517, dtype: int64"
   ]
  },
  {
   "cell_type": "markdown",
   "id": "2f4eaead",
   "metadata": {},
   "source": [
    "nombre_infected      1097\n",
    "nombre_sain          1903\n",
    "nombre_exposed        520\n",
    "nombre_recovered    16480\n",
    "Name: 518, dtype: int64"
   ]
  },
  {
   "cell_type": "markdown",
   "id": "77a1806f",
   "metadata": {},
   "source": [
    "nombre_infected      1097\n",
    "nombre_sain          1899\n",
    "nombre_exposed        534\n",
    "nombre_recovered    16470\n",
    "Name: 519, dtype: int64"
   ]
  },
  {
   "cell_type": "markdown",
   "id": "1f5af86e",
   "metadata": {},
   "source": [
    "nombre_infected      1111\n",
    "nombre_sain          1867\n",
    "nombre_exposed        560\n",
    "nombre_recovered    16462\n",
    "Name: 520, dtype: int64"
   ]
  },
  {
   "cell_type": "markdown",
   "id": "8f66299e",
   "metadata": {},
   "source": [
    "nombre_infected      1143\n",
    "nombre_sain          1863\n",
    "nombre_exposed        538\n",
    "nombre_recovered    16456\n",
    "Name: 521, dtype: int64"
   ]
  },
  {
   "cell_type": "markdown",
   "id": "b54e9acc",
   "metadata": {},
   "source": [
    "nombre_infected      1127\n",
    "nombre_sain          1832\n",
    "nombre_exposed        553\n",
    "nombre_recovered    16488\n",
    "Name: 522, dtype: int64"
   ]
  },
  {
   "cell_type": "markdown",
   "id": "22b7df6a",
   "metadata": {},
   "source": [
    "nombre_infected      1126\n",
    "nombre_sain          1817\n",
    "nombre_exposed        534\n",
    "nombre_recovered    16523\n",
    "Name: 523, dtype: int64"
   ]
  },
  {
   "cell_type": "markdown",
   "id": "db2aa405",
   "metadata": {},
   "source": [
    "nombre_infected      1131\n",
    "nombre_sain          1778\n",
    "nombre_exposed        525\n",
    "nombre_recovered    16566\n",
    "Name: 524, dtype: int64"
   ]
  },
  {
   "cell_type": "markdown",
   "id": "c13530b4",
   "metadata": {},
   "source": [
    "nombre_infected      1144\n",
    "nombre_sain          1771\n",
    "nombre_exposed        507\n",
    "nombre_recovered    16578\n",
    "Name: 525, dtype: int64"
   ]
  },
  {
   "cell_type": "markdown",
   "id": "09babbc2",
   "metadata": {},
   "source": [
    "nombre_infected      1143\n",
    "nombre_sain          1752\n",
    "nombre_exposed        521\n",
    "nombre_recovered    16584\n",
    "Name: 526, dtype: int64"
   ]
  },
  {
   "cell_type": "markdown",
   "id": "053b2528",
   "metadata": {},
   "source": [
    "nombre_infected      1135\n",
    "nombre_sain          1776\n",
    "nombre_exposed        503\n",
    "nombre_recovered    16586\n",
    "Name: 527, dtype: int64"
   ]
  },
  {
   "cell_type": "markdown",
   "id": "41f1d325",
   "metadata": {},
   "source": [
    "nombre_infected      1118\n",
    "nombre_sain          1763\n",
    "nombre_exposed        515\n",
    "nombre_recovered    16604\n",
    "Name: 528, dtype: int64"
   ]
  },
  {
   "cell_type": "markdown",
   "id": "4c92c53b",
   "metadata": {},
   "source": [
    "nombre_infected      1129\n",
    "nombre_sain          1788\n",
    "nombre_exposed        490\n",
    "nombre_recovered    16593\n",
    "Name: 529, dtype: int64"
   ]
  },
  {
   "cell_type": "markdown",
   "id": "80649fef",
   "metadata": {},
   "source": [
    "nombre_infected      1121\n",
    "nombre_sain          1784\n",
    "nombre_exposed        490\n",
    "nombre_recovered    16605\n",
    "Name: 530, dtype: int64"
   ]
  },
  {
   "cell_type": "markdown",
   "id": "4bdd1798",
   "metadata": {},
   "source": [
    "nombre_infected      1110\n",
    "nombre_sain          1783\n",
    "nombre_exposed        507\n",
    "nombre_recovered    16600\n",
    "Name: 531, dtype: int64"
   ]
  },
  {
   "cell_type": "markdown",
   "id": "4f01e0cf",
   "metadata": {},
   "source": [
    "nombre_infected      1114\n",
    "nombre_sain          1799\n",
    "nombre_exposed        494\n",
    "nombre_recovered    16593\n",
    "Name: 532, dtype: int64"
   ]
  },
  {
   "cell_type": "markdown",
   "id": "d1beea9f",
   "metadata": {},
   "source": [
    "nombre_infected      1128\n",
    "nombre_sain          1781\n",
    "nombre_exposed        482\n",
    "nombre_recovered    16609\n",
    "Name: 533, dtype: int64"
   ]
  },
  {
   "cell_type": "markdown",
   "id": "29d84c7c",
   "metadata": {},
   "source": [
    "nombre_infected      1098\n",
    "nombre_sain          1785\n",
    "nombre_exposed        503\n",
    "nombre_recovered    16614\n",
    "Name: 534, dtype: int64"
   ]
  },
  {
   "cell_type": "markdown",
   "id": "f4ea5269",
   "metadata": {},
   "source": [
    "nombre_infected      1098\n",
    "nombre_sain          1808\n",
    "nombre_exposed        494\n",
    "nombre_recovered    16600\n",
    "Name: 535, dtype: int64"
   ]
  },
  {
   "cell_type": "markdown",
   "id": "7de8e483",
   "metadata": {},
   "source": [
    "nombre_infected      1073\n",
    "nombre_sain          1831\n",
    "nombre_exposed        492\n",
    "nombre_recovered    16604\n",
    "Name: 536, dtype: int64"
   ]
  },
  {
   "cell_type": "markdown",
   "id": "bb071c49",
   "metadata": {},
   "source": [
    "nombre_infected      1058\n",
    "nombre_sain          1820\n",
    "nombre_exposed        487\n",
    "nombre_recovered    16635\n",
    "Name: 537, dtype: int64"
   ]
  },
  {
   "cell_type": "markdown",
   "id": "ea734fe7",
   "metadata": {},
   "source": [
    "nombre_infected      1064\n",
    "nombre_sain          1831\n",
    "nombre_exposed        459\n",
    "nombre_recovered    16646\n",
    "Name: 538, dtype: int64"
   ]
  },
  {
   "cell_type": "markdown",
   "id": "f4ef4023",
   "metadata": {},
   "source": [
    "nombre_infected      1036\n",
    "nombre_sain          1853\n",
    "nombre_exposed        475\n",
    "nombre_recovered    16636\n",
    "Name: 539, dtype: int64"
   ]
  },
  {
   "cell_type": "markdown",
   "id": "1c1be8e2",
   "metadata": {},
   "source": [
    "nombre_infected      1037\n",
    "nombre_sain          1881\n",
    "nombre_exposed        467\n",
    "nombre_recovered    16615\n",
    "Name: 540, dtype: int64"
   ]
  },
  {
   "cell_type": "markdown",
   "id": "e6a0d5a6",
   "metadata": {},
   "source": [
    "nombre_infected      1035\n",
    "nombre_sain          1881\n",
    "nombre_exposed        449\n",
    "nombre_recovered    16635\n",
    "Name: 541, dtype: int64"
   ]
  },
  {
   "cell_type": "markdown",
   "id": "c5862b3f",
   "metadata": {},
   "source": [
    "nombre_infected      1034\n",
    "nombre_sain          1913\n",
    "nombre_exposed        459\n",
    "nombre_recovered    16594\n",
    "Name: 542, dtype: int64"
   ]
  },
  {
   "cell_type": "markdown",
   "id": "dbbb7753",
   "metadata": {},
   "source": [
    "nombre_infected      1027\n",
    "nombre_sain          1900\n",
    "nombre_exposed        477\n",
    "nombre_recovered    16596\n",
    "Name: 543, dtype: int64"
   ]
  },
  {
   "cell_type": "markdown",
   "id": "a389ad36",
   "metadata": {},
   "source": [
    "nombre_infected      1005\n",
    "nombre_sain          1913\n",
    "nombre_exposed        509\n",
    "nombre_recovered    16573\n",
    "Name: 544, dtype: int64"
   ]
  },
  {
   "cell_type": "markdown",
   "id": "8a87f876",
   "metadata": {},
   "source": [
    "nombre_infected       996\n",
    "nombre_sain          1943\n",
    "nombre_exposed        482\n",
    "nombre_recovered    16579\n",
    "Name: 545, dtype: int64"
   ]
  },
  {
   "cell_type": "markdown",
   "id": "29ccbf0c",
   "metadata": {},
   "source": [
    "nombre_infected       993\n",
    "nombre_sain          1973\n",
    "nombre_exposed        458\n",
    "nombre_recovered    16576\n",
    "Name: 546, dtype: int64"
   ]
  },
  {
   "cell_type": "markdown",
   "id": "109cdea2",
   "metadata": {},
   "source": [
    "nombre_infected       989\n",
    "nombre_sain          1969\n",
    "nombre_exposed        472\n",
    "nombre_recovered    16570\n",
    "Name: 547, dtype: int64"
   ]
  },
  {
   "cell_type": "markdown",
   "id": "58a1a0f3",
   "metadata": {},
   "source": [
    "nombre_infected       983\n",
    "nombre_sain          1957\n",
    "nombre_exposed        499\n",
    "nombre_recovered    16561\n",
    "Name: 548, dtype: int64"
   ]
  },
  {
   "cell_type": "markdown",
   "id": "38430782",
   "metadata": {},
   "source": [
    "nombre_infected       958\n",
    "nombre_sain          1967\n",
    "nombre_exposed        507\n",
    "nombre_recovered    16568\n",
    "Name: 549, dtype: int64"
   ]
  },
  {
   "cell_type": "markdown",
   "id": "5238c6b8",
   "metadata": {},
   "source": [
    "nombre_infected       963\n",
    "nombre_sain          1969\n",
    "nombre_exposed        516\n",
    "nombre_recovered    16552\n",
    "Name: 550, dtype: int64"
   ]
  },
  {
   "cell_type": "markdown",
   "id": "024d4e36",
   "metadata": {},
   "source": [
    "nombre_infected       965\n",
    "nombre_sain          1995\n",
    "nombre_exposed        510\n",
    "nombre_recovered    16530\n",
    "Name: 551, dtype: int64"
   ]
  },
  {
   "cell_type": "markdown",
   "id": "1edc56bd",
   "metadata": {},
   "source": [
    "nombre_infected       970\n",
    "nombre_sain          2020\n",
    "nombre_exposed        497\n",
    "nombre_recovered    16513\n",
    "Name: 552, dtype: int64"
   ]
  },
  {
   "cell_type": "markdown",
   "id": "4ce5dd9c",
   "metadata": {},
   "source": [
    "nombre_infected       961\n",
    "nombre_sain          2029\n",
    "nombre_exposed        500\n",
    "nombre_recovered    16510\n",
    "Name: 553, dtype: int64"
   ]
  },
  {
   "cell_type": "markdown",
   "id": "3e280a66",
   "metadata": {},
   "source": [
    "nombre_infected       966\n",
    "nombre_sain          2036\n",
    "nombre_exposed        503\n",
    "nombre_recovered    16495\n",
    "Name: 554, dtype: int64"
   ]
  },
  {
   "cell_type": "markdown",
   "id": "aaaf3f57",
   "metadata": {},
   "source": [
    "nombre_infected       936\n",
    "nombre_sain          2066\n",
    "nombre_exposed        499\n",
    "nombre_recovered    16499\n",
    "Name: 555, dtype: int64"
   ]
  },
  {
   "cell_type": "markdown",
   "id": "f09a4591",
   "metadata": {},
   "source": [
    "nombre_infected       949\n",
    "nombre_sain          2110\n",
    "nombre_exposed        462\n",
    "nombre_recovered    16479\n",
    "Name: 556, dtype: int64"
   ]
  },
  {
   "cell_type": "markdown",
   "id": "5bcaadeb",
   "metadata": {},
   "source": [
    "nombre_infected       971\n",
    "nombre_sain          2130\n",
    "nombre_exposed        458\n",
    "nombre_recovered    16441\n",
    "Name: 557, dtype: int64"
   ]
  },
  {
   "cell_type": "markdown",
   "id": "6741a412",
   "metadata": {},
   "source": [
    "nombre_infected       973\n",
    "nombre_sain          2144\n",
    "nombre_exposed        484\n",
    "nombre_recovered    16399\n",
    "Name: 558, dtype: int64"
   ]
  },
  {
   "cell_type": "markdown",
   "id": "d39e81ed",
   "metadata": {},
   "source": [
    "nombre_infected       968\n",
    "nombre_sain          2155\n",
    "nombre_exposed        498\n",
    "nombre_recovered    16379\n",
    "Name: 559, dtype: int64"
   ]
  },
  {
   "cell_type": "markdown",
   "id": "c640f89d",
   "metadata": {},
   "source": [
    "nombre_infected       966\n",
    "nombre_sain          2165\n",
    "nombre_exposed        504\n",
    "nombre_recovered    16365\n",
    "Name: 560, dtype: int64"
   ]
  },
  {
   "cell_type": "markdown",
   "id": "4022bab3",
   "metadata": {},
   "source": [
    "nombre_infected      1002\n",
    "nombre_sain          2143\n",
    "nombre_exposed        508\n",
    "nombre_recovered    16347\n",
    "Name: 561, dtype: int64"
   ]
  },
  {
   "cell_type": "markdown",
   "id": "3b76f0a6",
   "metadata": {},
   "source": [
    "nombre_infected      1022\n",
    "nombre_sain          2132\n",
    "nombre_exposed        513\n",
    "nombre_recovered    16333\n",
    "Name: 562, dtype: int64"
   ]
  },
  {
   "cell_type": "markdown",
   "id": "76d694a5",
   "metadata": {},
   "source": [
    "nombre_infected      1013\n",
    "nombre_sain          2118\n",
    "nombre_exposed        516\n",
    "nombre_recovered    16353\n",
    "Name: 563, dtype: int64"
   ]
  },
  {
   "cell_type": "markdown",
   "id": "c90492cd",
   "metadata": {},
   "source": [
    "nombre_infected      1013\n",
    "nombre_sain          2129\n",
    "nombre_exposed        507\n",
    "nombre_recovered    16351\n",
    "Name: 564, dtype: int64"
   ]
  },
  {
   "cell_type": "markdown",
   "id": "def3021a",
   "metadata": {},
   "source": [
    "nombre_infected      1040\n",
    "nombre_sain          2122\n",
    "nombre_exposed        508\n",
    "nombre_recovered    16330\n",
    "Name: 565, dtype: int64"
   ]
  },
  {
   "cell_type": "markdown",
   "id": "5a0d839d",
   "metadata": {},
   "source": [
    "nombre_infected      1031\n",
    "nombre_sain          2114\n",
    "nombre_exposed        498\n",
    "nombre_recovered    16357\n",
    "Name: 566, dtype: int64"
   ]
  },
  {
   "cell_type": "markdown",
   "id": "40a43270",
   "metadata": {},
   "source": [
    "nombre_infected      1018\n",
    "nombre_sain          2118\n",
    "nombre_exposed        498\n",
    "nombre_recovered    16366\n",
    "Name: 567, dtype: int64"
   ]
  },
  {
   "cell_type": "markdown",
   "id": "8a787afb",
   "metadata": {},
   "source": [
    "nombre_infected      1010\n",
    "nombre_sain          2094\n",
    "nombre_exposed        518\n",
    "nombre_recovered    16378\n",
    "Name: 568, dtype: int64"
   ]
  },
  {
   "cell_type": "markdown",
   "id": "d1c353ae",
   "metadata": {},
   "source": [
    "nombre_infected       987\n",
    "nombre_sain          2089\n",
    "nombre_exposed        517\n",
    "nombre_recovered    16407\n",
    "Name: 569, dtype: int64"
   ]
  },
  {
   "cell_type": "markdown",
   "id": "6e00d2c4",
   "metadata": {},
   "source": [
    "nombre_infected      1019\n",
    "nombre_sain          2073\n",
    "nombre_exposed        510\n",
    "nombre_recovered    16398\n",
    "Name: 570, dtype: int64"
   ]
  },
  {
   "cell_type": "markdown",
   "id": "381f2bd2",
   "metadata": {},
   "source": [
    "nombre_infected      1012\n",
    "nombre_sain          2087\n",
    "nombre_exposed        511\n",
    "nombre_recovered    16390\n",
    "Name: 571, dtype: int64"
   ]
  },
  {
   "cell_type": "markdown",
   "id": "f7f6f90b",
   "metadata": {},
   "source": [
    "nombre_infected      1012\n",
    "nombre_sain          2080\n",
    "nombre_exposed        517\n",
    "nombre_recovered    16391\n",
    "Name: 572, dtype: int64"
   ]
  },
  {
   "cell_type": "markdown",
   "id": "492e7f8a",
   "metadata": {},
   "source": [
    "nombre_infected      1002\n",
    "nombre_sain          2072\n",
    "nombre_exposed        515\n",
    "nombre_recovered    16411\n",
    "Name: 573, dtype: int64"
   ]
  },
  {
   "cell_type": "markdown",
   "id": "1be658b0",
   "metadata": {},
   "source": [
    "nombre_infected      1003\n",
    "nombre_sain          2044\n",
    "nombre_exposed        496\n",
    "nombre_recovered    16457\n",
    "Name: 574, dtype: int64"
   ]
  },
  {
   "cell_type": "markdown",
   "id": "c2ff0411",
   "metadata": {},
   "source": [
    "nombre_infected      1023\n",
    "nombre_sain          2019\n",
    "nombre_exposed        483\n",
    "nombre_recovered    16475\n",
    "Name: 575, dtype: int64"
   ]
  },
  {
   "cell_type": "markdown",
   "id": "0e699ebc",
   "metadata": {},
   "source": [
    "nombre_infected      1018\n",
    "nombre_sain          1994\n",
    "nombre_exposed        502\n",
    "nombre_recovered    16486\n",
    "Name: 576, dtype: int64"
   ]
  },
  {
   "cell_type": "markdown",
   "id": "e0472e76",
   "metadata": {},
   "source": [
    "nombre_infected      1012\n",
    "nombre_sain          1977\n",
    "nombre_exposed        511\n",
    "nombre_recovered    16500\n",
    "Name: 577, dtype: int64"
   ]
  },
  {
   "cell_type": "markdown",
   "id": "be9c34cb",
   "metadata": {},
   "source": [
    "nombre_infected      1002\n",
    "nombre_sain          1968\n",
    "nombre_exposed        510\n",
    "nombre_recovered    16520\n",
    "Name: 578, dtype: int64"
   ]
  },
  {
   "cell_type": "markdown",
   "id": "4ac40975",
   "metadata": {},
   "source": [
    "nombre_infected      1013\n",
    "nombre_sain          1962\n",
    "nombre_exposed        496\n",
    "nombre_recovered    16529\n",
    "Name: 579, dtype: int64"
   ]
  },
  {
   "cell_type": "markdown",
   "id": "210c7246",
   "metadata": {},
   "source": [
    "nombre_infected      1005\n",
    "nombre_sain          1945\n",
    "nombre_exposed        492\n",
    "nombre_recovered    16558\n",
    "Name: 580, dtype: int64"
   ]
  },
  {
   "cell_type": "markdown",
   "id": "bac9c51d",
   "metadata": {},
   "source": [
    "nombre_infected      1000\n",
    "nombre_sain          1952\n",
    "nombre_exposed        477\n",
    "nombre_recovered    16571\n",
    "Name: 581, dtype: int64"
   ]
  },
  {
   "cell_type": "markdown",
   "id": "c33e96f8",
   "metadata": {},
   "source": [
    "nombre_infected      1006\n",
    "nombre_sain          1933\n",
    "nombre_exposed        487\n",
    "nombre_recovered    16574\n",
    "Name: 582, dtype: int64"
   ]
  },
  {
   "cell_type": "markdown",
   "id": "dfdb170b",
   "metadata": {},
   "source": [
    "nombre_infected       999\n",
    "nombre_sain          1937\n",
    "nombre_exposed        483\n",
    "nombre_recovered    16581\n",
    "Name: 583, dtype: int64"
   ]
  },
  {
   "cell_type": "markdown",
   "id": "15bbc586",
   "metadata": {},
   "source": [
    "nombre_infected      1009\n",
    "nombre_sain          1935\n",
    "nombre_exposed        476\n",
    "nombre_recovered    16580\n",
    "Name: 584, dtype: int64"
   ]
  },
  {
   "cell_type": "markdown",
   "id": "c005b859",
   "metadata": {},
   "source": [
    "nombre_infected      1005\n",
    "nombre_sain          1936\n",
    "nombre_exposed        494\n",
    "nombre_recovered    16565\n",
    "Name: 585, dtype: int64"
   ]
  },
  {
   "cell_type": "markdown",
   "id": "da54669c",
   "metadata": {},
   "source": [
    "nombre_infected       993\n",
    "nombre_sain          1937\n",
    "nombre_exposed        501\n",
    "nombre_recovered    16569\n",
    "Name: 586, dtype: int64"
   ]
  },
  {
   "cell_type": "markdown",
   "id": "58899edd",
   "metadata": {},
   "source": [
    "nombre_infected       960\n",
    "nombre_sain          1951\n",
    "nombre_exposed        518\n",
    "nombre_recovered    16571\n",
    "Name: 587, dtype: int64"
   ]
  },
  {
   "cell_type": "markdown",
   "id": "358f5dbc",
   "metadata": {},
   "source": [
    "nombre_infected       986\n",
    "nombre_sain          1966\n",
    "nombre_exposed        480\n",
    "nombre_recovered    16568\n",
    "Name: 588, dtype: int64"
   ]
  },
  {
   "cell_type": "markdown",
   "id": "fa731822",
   "metadata": {},
   "source": [
    "nombre_infected      1002\n",
    "nombre_sain          1939\n",
    "nombre_exposed        465\n",
    "nombre_recovered    16594\n",
    "Name: 589, dtype: int64"
   ]
  },
  {
   "cell_type": "markdown",
   "id": "7ca10fce",
   "metadata": {},
   "source": [
    "nombre_infected       981\n",
    "nombre_sain          1944\n",
    "nombre_exposed        484\n",
    "nombre_recovered    16591\n",
    "Name: 590, dtype: int64"
   ]
  },
  {
   "cell_type": "markdown",
   "id": "30e3b2c8",
   "metadata": {},
   "source": [
    "nombre_infected       973\n",
    "nombre_sain          1957\n",
    "nombre_exposed        473\n",
    "nombre_recovered    16597\n",
    "Name: 591, dtype: int64"
   ]
  },
  {
   "cell_type": "markdown",
   "id": "34e28f66",
   "metadata": {},
   "source": [
    "nombre_infected       962\n",
    "nombre_sain          1958\n",
    "nombre_exposed        476\n",
    "nombre_recovered    16604\n",
    "Name: 592, dtype: int64"
   ]
  },
  {
   "cell_type": "markdown",
   "id": "f9f157cb",
   "metadata": {},
   "source": [
    "nombre_infected       959\n",
    "nombre_sain          1955\n",
    "nombre_exposed        475\n",
    "nombre_recovered    16611\n",
    "Name: 593, dtype: int64"
   ]
  },
  {
   "cell_type": "markdown",
   "id": "64bdd777",
   "metadata": {},
   "source": [
    "nombre_infected       958\n",
    "nombre_sain          1964\n",
    "nombre_exposed        456\n",
    "nombre_recovered    16622\n",
    "Name: 594, dtype: int64"
   ]
  },
  {
   "cell_type": "markdown",
   "id": "3414f863",
   "metadata": {},
   "source": [
    "nombre_infected       972\n",
    "nombre_sain          2002\n",
    "nombre_exposed        438\n",
    "nombre_recovered    16588\n",
    "Name: 595, dtype: int64"
   ]
  },
  {
   "cell_type": "markdown",
   "id": "462455c0",
   "metadata": {},
   "source": [
    "nombre_infected       964\n",
    "nombre_sain          2014\n",
    "nombre_exposed        432\n",
    "nombre_recovered    16590\n",
    "Name: 596, dtype: int64"
   ]
  },
  {
   "cell_type": "markdown",
   "id": "ef68ca3e",
   "metadata": {},
   "source": [
    "nombre_infected       952\n",
    "nombre_sain          2019\n",
    "nombre_exposed        433\n",
    "nombre_recovered    16596\n",
    "Name: 597, dtype: int64"
   ]
  },
  {
   "cell_type": "markdown",
   "id": "37c3c571",
   "metadata": {},
   "source": [
    "nombre_infected       940\n",
    "nombre_sain          2013\n",
    "nombre_exposed        432\n",
    "nombre_recovered    16615\n",
    "Name: 598, dtype: int64"
   ]
  },
  {
   "cell_type": "markdown",
   "id": "9a11b2cf",
   "metadata": {},
   "source": [
    "nombre_infected       911\n",
    "nombre_sain          2022\n",
    "nombre_exposed        442\n",
    "nombre_recovered    16625\n",
    "Name: 599, dtype: int64"
   ]
  },
  {
   "cell_type": "markdown",
   "id": "e4906dac",
   "metadata": {},
   "source": [
    "nombre_infected       912\n",
    "nombre_sain          2013\n",
    "nombre_exposed        452\n",
    "nombre_recovered    16623\n",
    "Name: 600, dtype: int64"
   ]
  },
  {
   "cell_type": "markdown",
   "id": "32a44241",
   "metadata": {},
   "source": [
    "nombre_infected       897\n",
    "nombre_sain          1996\n",
    "nombre_exposed        460\n",
    "nombre_recovered    16647\n",
    "Name: 601, dtype: int64"
   ]
  },
  {
   "cell_type": "markdown",
   "id": "8deafeeb",
   "metadata": {},
   "source": [
    "nombre_infected       881\n",
    "nombre_sain          2016\n",
    "nombre_exposed        451\n",
    "nombre_recovered    16652\n",
    "Name: 602, dtype: int64"
   ]
  },
  {
   "cell_type": "markdown",
   "id": "8d6a3697",
   "metadata": {},
   "source": [
    "nombre_infected       854\n",
    "nombre_sain          2015\n",
    "nombre_exposed        468\n",
    "nombre_recovered    16663\n",
    "Name: 603, dtype: int64"
   ]
  },
  {
   "cell_type": "markdown",
   "id": "e131b500",
   "metadata": {},
   "source": [
    "nombre_infected       868\n",
    "nombre_sain          2045\n",
    "nombre_exposed        457\n",
    "nombre_recovered    16630\n",
    "Name: 604, dtype: int64"
   ]
  },
  {
   "cell_type": "markdown",
   "id": "346a8ff1",
   "metadata": {},
   "source": [
    "nombre_infected       866\n",
    "nombre_sain          2036\n",
    "nombre_exposed        464\n",
    "nombre_recovered    16634\n",
    "Name: 605, dtype: int64"
   ]
  },
  {
   "cell_type": "markdown",
   "id": "4053ad39",
   "metadata": {},
   "source": [
    "nombre_infected       877\n",
    "nombre_sain          2061\n",
    "nombre_exposed        449\n",
    "nombre_recovered    16613\n",
    "Name: 606, dtype: int64"
   ]
  },
  {
   "cell_type": "markdown",
   "id": "79a5b5df",
   "metadata": {},
   "source": [
    "nombre_infected       879\n",
    "nombre_sain          2068\n",
    "nombre_exposed        438\n",
    "nombre_recovered    16615\n",
    "Name: 607, dtype: int64"
   ]
  },
  {
   "cell_type": "markdown",
   "id": "cf9ac100",
   "metadata": {},
   "source": [
    "nombre_infected       907\n",
    "nombre_sain          2084\n",
    "nombre_exposed        423\n",
    "nombre_recovered    16586\n",
    "Name: 608, dtype: int64"
   ]
  },
  {
   "cell_type": "markdown",
   "id": "070cf4a5",
   "metadata": {},
   "source": [
    "nombre_infected       913\n",
    "nombre_sain          2103\n",
    "nombre_exposed        421\n",
    "nombre_recovered    16563\n",
    "Name: 609, dtype: int64"
   ]
  },
  {
   "cell_type": "markdown",
   "id": "aad2c35d",
   "metadata": {},
   "source": [
    "nombre_infected       931\n",
    "nombre_sain          2114\n",
    "nombre_exposed        416\n",
    "nombre_recovered    16539\n",
    "Name: 610, dtype: int64"
   ]
  },
  {
   "cell_type": "markdown",
   "id": "ff1bd7e2",
   "metadata": {},
   "source": [
    "nombre_infected       924\n",
    "nombre_sain          2127\n",
    "nombre_exposed        396\n",
    "nombre_recovered    16553\n",
    "Name: 611, dtype: int64"
   ]
  },
  {
   "cell_type": "markdown",
   "id": "3d8dd1b9",
   "metadata": {},
   "source": [
    "nombre_infected       914\n",
    "nombre_sain          2112\n",
    "nombre_exposed        404\n",
    "nombre_recovered    16570\n",
    "Name: 612, dtype: int64"
   ]
  },
  {
   "cell_type": "markdown",
   "id": "f4af0994",
   "metadata": {},
   "source": [
    "nombre_infected       903\n",
    "nombre_sain          2123\n",
    "nombre_exposed        420\n",
    "nombre_recovered    16554\n",
    "Name: 613, dtype: int64"
   ]
  },
  {
   "cell_type": "markdown",
   "id": "f861bcda",
   "metadata": {},
   "source": [
    "nombre_infected       917\n",
    "nombre_sain          2135\n",
    "nombre_exposed        426\n",
    "nombre_recovered    16522\n",
    "Name: 614, dtype: int64"
   ]
  },
  {
   "cell_type": "markdown",
   "id": "a96fa062",
   "metadata": {},
   "source": [
    "nombre_infected       912\n",
    "nombre_sain          2142\n",
    "nombre_exposed        436\n",
    "nombre_recovered    16510\n",
    "Name: 615, dtype: int64"
   ]
  },
  {
   "cell_type": "markdown",
   "id": "5c2d0993",
   "metadata": {},
   "source": [
    "nombre_infected       905\n",
    "nombre_sain          2159\n",
    "nombre_exposed        431\n",
    "nombre_recovered    16505\n",
    "Name: 616, dtype: int64"
   ]
  },
  {
   "cell_type": "markdown",
   "id": "edc9a9bc",
   "metadata": {},
   "source": [
    "nombre_infected       917\n",
    "nombre_sain          2146\n",
    "nombre_exposed        441\n",
    "nombre_recovered    16496\n",
    "Name: 617, dtype: int64"
   ]
  },
  {
   "cell_type": "markdown",
   "id": "c8c91e90",
   "metadata": {},
   "source": [
    "nombre_infected       925\n",
    "nombre_sain          2124\n",
    "nombre_exposed        449\n",
    "nombre_recovered    16502\n",
    "Name: 618, dtype: int64"
   ]
  },
  {
   "cell_type": "markdown",
   "id": "dcdba965",
   "metadata": {},
   "source": [
    "nombre_infected       930\n",
    "nombre_sain          2155\n",
    "nombre_exposed        430\n",
    "nombre_recovered    16485\n",
    "Name: 619, dtype: int64"
   ]
  },
  {
   "cell_type": "markdown",
   "id": "889d3adb",
   "metadata": {},
   "source": [
    "nombre_infected       922\n",
    "nombre_sain          2138\n",
    "nombre_exposed        466\n",
    "nombre_recovered    16474\n",
    "Name: 620, dtype: int64"
   ]
  },
  {
   "cell_type": "markdown",
   "id": "85b9e335",
   "metadata": {},
   "source": [
    "nombre_infected       909\n",
    "nombre_sain          2153\n",
    "nombre_exposed        472\n",
    "nombre_recovered    16466\n",
    "Name: 621, dtype: int64"
   ]
  },
  {
   "cell_type": "markdown",
   "id": "6a4aeb16",
   "metadata": {},
   "source": [
    "nombre_infected       918\n",
    "nombre_sain          2137\n",
    "nombre_exposed        476\n",
    "nombre_recovered    16469\n",
    "Name: 622, dtype: int64"
   ]
  },
  {
   "cell_type": "markdown",
   "id": "e7a93595",
   "metadata": {},
   "source": [
    "nombre_infected       936\n",
    "nombre_sain          2154\n",
    "nombre_exposed        464\n",
    "nombre_recovered    16446\n",
    "Name: 623, dtype: int64"
   ]
  },
  {
   "cell_type": "markdown",
   "id": "78931cc6",
   "metadata": {},
   "source": [
    "nombre_infected       957\n",
    "nombre_sain          2139\n",
    "nombre_exposed        465\n",
    "nombre_recovered    16439\n",
    "Name: 624, dtype: int64"
   ]
  },
  {
   "cell_type": "markdown",
   "id": "8dcb13de",
   "metadata": {},
   "source": [
    "nombre_infected       967\n",
    "nombre_sain          2142\n",
    "nombre_exposed        465\n",
    "nombre_recovered    16426\n",
    "Name: 625, dtype: int64"
   ]
  },
  {
   "cell_type": "markdown",
   "id": "b1a2d2d6",
   "metadata": {},
   "source": [
    "nombre_infected       957\n",
    "nombre_sain          2167\n",
    "nombre_exposed        437\n",
    "nombre_recovered    16439\n",
    "Name: 626, dtype: int64"
   ]
  },
  {
   "cell_type": "markdown",
   "id": "23d23758",
   "metadata": {},
   "source": [
    "nombre_infected       944\n",
    "nombre_sain          2154\n",
    "nombre_exposed        474\n",
    "nombre_recovered    16428\n",
    "Name: 627, dtype: int64"
   ]
  },
  {
   "cell_type": "markdown",
   "id": "618ff334",
   "metadata": {},
   "source": [
    "nombre_infected       964\n",
    "nombre_sain          2161\n",
    "nombre_exposed        468\n",
    "nombre_recovered    16407\n",
    "Name: 628, dtype: int64"
   ]
  },
  {
   "cell_type": "markdown",
   "id": "7d47675b",
   "metadata": {},
   "source": [
    "nombre_infected       972\n",
    "nombre_sain          2142\n",
    "nombre_exposed        472\n",
    "nombre_recovered    16414\n",
    "Name: 629, dtype: int64"
   ]
  },
  {
   "cell_type": "markdown",
   "id": "808f22df",
   "metadata": {},
   "source": [
    "nombre_infected       954\n",
    "nombre_sain          2147\n",
    "nombre_exposed        481\n",
    "nombre_recovered    16418\n",
    "Name: 630, dtype: int64"
   ]
  },
  {
   "cell_type": "markdown",
   "id": "a45ab283",
   "metadata": {},
   "source": [
    "nombre_infected       956\n",
    "nombre_sain          2109\n",
    "nombre_exposed        503\n",
    "nombre_recovered    16432\n",
    "Name: 631, dtype: int64"
   ]
  },
  {
   "cell_type": "markdown",
   "id": "eaaeccd9",
   "metadata": {},
   "source": [
    "nombre_infected       974\n",
    "nombre_sain          2100\n",
    "nombre_exposed        502\n",
    "nombre_recovered    16424\n",
    "Name: 632, dtype: int64"
   ]
  },
  {
   "cell_type": "markdown",
   "id": "9650c9e3",
   "metadata": {},
   "source": [
    "nombre_infected       987\n",
    "nombre_sain          2099\n",
    "nombre_exposed        520\n",
    "nombre_recovered    16394\n",
    "Name: 633, dtype: int64"
   ]
  },
  {
   "cell_type": "markdown",
   "id": "4b9eb532",
   "metadata": {},
   "source": [
    "nombre_infected       975\n",
    "nombre_sain          2085\n",
    "nombre_exposed        532\n",
    "nombre_recovered    16408\n",
    "Name: 634, dtype: int64"
   ]
  },
  {
   "cell_type": "markdown",
   "id": "d9eaa37f",
   "metadata": {},
   "source": [
    "nombre_infected       976\n",
    "nombre_sain          2103\n",
    "nombre_exposed        514\n",
    "nombre_recovered    16407\n",
    "Name: 635, dtype: int64"
   ]
  },
  {
   "cell_type": "markdown",
   "id": "4a90a735",
   "metadata": {},
   "source": [
    "nombre_infected       994\n",
    "nombre_sain          2100\n",
    "nombre_exposed        490\n",
    "nombre_recovered    16416\n",
    "Name: 636, dtype: int64"
   ]
  },
  {
   "cell_type": "markdown",
   "id": "1763b0a2",
   "metadata": {},
   "source": [
    "nombre_infected      1033\n",
    "nombre_sain          2080\n",
    "nombre_exposed        477\n",
    "nombre_recovered    16410\n",
    "Name: 637, dtype: int64"
   ]
  },
  {
   "cell_type": "markdown",
   "id": "da2a0d76",
   "metadata": {},
   "source": [
    "nombre_infected      1020\n",
    "nombre_sain          2052\n",
    "nombre_exposed        485\n",
    "nombre_recovered    16443\n",
    "Name: 638, dtype: int64"
   ]
  },
  {
   "cell_type": "markdown",
   "id": "1659f8f6",
   "metadata": {},
   "source": [
    "nombre_infected      1022\n",
    "nombre_sain          2012\n",
    "nombre_exposed        512\n",
    "nombre_recovered    16454\n",
    "Name: 639, dtype: int64"
   ]
  },
  {
   "cell_type": "markdown",
   "id": "f148bf2f",
   "metadata": {},
   "source": [
    "nombre_infected      1017\n",
    "nombre_sain          1986\n",
    "nombre_exposed        505\n",
    "nombre_recovered    16492\n",
    "Name: 640, dtype: int64"
   ]
  },
  {
   "cell_type": "markdown",
   "id": "f9adc9ed",
   "metadata": {},
   "source": [
    "nombre_infected      1024\n",
    "nombre_sain          1974\n",
    "nombre_exposed        490\n",
    "nombre_recovered    16512\n",
    "Name: 641, dtype: int64"
   ]
  },
  {
   "cell_type": "markdown",
   "id": "a6b7635a",
   "metadata": {},
   "source": [
    "nombre_infected      1021\n",
    "nombre_sain          1947\n",
    "nombre_exposed        499\n",
    "nombre_recovered    16533\n",
    "Name: 642, dtype: int64"
   ]
  },
  {
   "cell_type": "markdown",
   "id": "577f461c",
   "metadata": {},
   "source": [
    "nombre_infected      1026\n",
    "nombre_sain          1906\n",
    "nombre_exposed        520\n",
    "nombre_recovered    16548\n",
    "Name: 643, dtype: int64"
   ]
  },
  {
   "cell_type": "markdown",
   "id": "9493e7b2",
   "metadata": {},
   "source": [
    "nombre_infected      1026\n",
    "nombre_sain          1905\n",
    "nombre_exposed        520\n",
    "nombre_recovered    16549\n",
    "Name: 644, dtype: int64"
   ]
  },
  {
   "cell_type": "markdown",
   "id": "0d04b52a",
   "metadata": {},
   "source": [
    "nombre_infected      1045\n",
    "nombre_sain          1912\n",
    "nombre_exposed        488\n",
    "nombre_recovered    16555\n",
    "Name: 645, dtype: int64"
   ]
  },
  {
   "cell_type": "markdown",
   "id": "ccbb639e",
   "metadata": {},
   "source": [
    "nombre_infected      1046\n",
    "nombre_sain          1905\n",
    "nombre_exposed        493\n",
    "nombre_recovered    16556\n",
    "Name: 646, dtype: int64"
   ]
  },
  {
   "cell_type": "markdown",
   "id": "57962fb3",
   "metadata": {},
   "source": [
    "nombre_infected      1062\n",
    "nombre_sain          1888\n",
    "nombre_exposed        494\n",
    "nombre_recovered    16556\n",
    "Name: 647, dtype: int64"
   ]
  },
  {
   "cell_type": "markdown",
   "id": "5f0ce6f4",
   "metadata": {},
   "source": [
    "nombre_infected      1057\n",
    "nombre_sain          1876\n",
    "nombre_exposed        492\n",
    "nombre_recovered    16575\n",
    "Name: 648, dtype: int64"
   ]
  },
  {
   "cell_type": "markdown",
   "id": "7395eed1",
   "metadata": {},
   "source": [
    "nombre_infected      1053\n",
    "nombre_sain          1880\n",
    "nombre_exposed        497\n",
    "nombre_recovered    16570\n",
    "Name: 649, dtype: int64"
   ]
  },
  {
   "cell_type": "markdown",
   "id": "d92a6408",
   "metadata": {},
   "source": [
    "nombre_infected      1043\n",
    "nombre_sain          1879\n",
    "nombre_exposed        496\n",
    "nombre_recovered    16582\n",
    "Name: 650, dtype: int64"
   ]
  },
  {
   "cell_type": "markdown",
   "id": "f554c73a",
   "metadata": {},
   "source": [
    "nombre_infected      1050\n",
    "nombre_sain          1897\n",
    "nombre_exposed        465\n",
    "nombre_recovered    16588\n",
    "Name: 651, dtype: int64"
   ]
  },
  {
   "cell_type": "markdown",
   "id": "496b9bd7",
   "metadata": {},
   "source": [
    "nombre_infected      1069\n",
    "nombre_sain          1892\n",
    "nombre_exposed        453\n",
    "nombre_recovered    16586\n",
    "Name: 652, dtype: int64"
   ]
  },
  {
   "cell_type": "markdown",
   "id": "ee58b70a",
   "metadata": {},
   "source": [
    "nombre_infected      1047\n",
    "nombre_sain          1902\n",
    "nombre_exposed        463\n",
    "nombre_recovered    16588\n",
    "Name: 653, dtype: int64"
   ]
  },
  {
   "cell_type": "markdown",
   "id": "f02c52ce",
   "metadata": {},
   "source": [
    "nombre_infected      1035\n",
    "nombre_sain          1881\n",
    "nombre_exposed        466\n",
    "nombre_recovered    16618\n",
    "Name: 654, dtype: int64"
   ]
  },
  {
   "cell_type": "markdown",
   "id": "fa1d6eba",
   "metadata": {},
   "source": [
    "nombre_infected      1023\n",
    "nombre_sain          1862\n",
    "nombre_exposed        492\n",
    "nombre_recovered    16623\n",
    "Name: 655, dtype: int64"
   ]
  },
  {
   "cell_type": "markdown",
   "id": "dd38ddcd",
   "metadata": {},
   "source": [
    "nombre_infected      1050\n",
    "nombre_sain          1859\n",
    "nombre_exposed        480\n",
    "nombre_recovered    16611\n",
    "Name: 656, dtype: int64"
   ]
  },
  {
   "cell_type": "markdown",
   "id": "b36a1679",
   "metadata": {},
   "source": [
    "nombre_infected      1057\n",
    "nombre_sain          1859\n",
    "nombre_exposed        476\n",
    "nombre_recovered    16608\n",
    "Name: 657, dtype: int64"
   ]
  },
  {
   "cell_type": "markdown",
   "id": "0588c27f",
   "metadata": {},
   "source": [
    "nombre_infected      1038\n",
    "nombre_sain          1861\n",
    "nombre_exposed        481\n",
    "nombre_recovered    16620\n",
    "Name: 658, dtype: int64"
   ]
  },
  {
   "cell_type": "markdown",
   "id": "c533f0b3",
   "metadata": {},
   "source": [
    "nombre_infected      1067\n",
    "nombre_sain          1846\n",
    "nombre_exposed        452\n",
    "nombre_recovered    16635\n",
    "Name: 659, dtype: int64"
   ]
  },
  {
   "cell_type": "markdown",
   "id": "4b55eb45",
   "metadata": {},
   "source": [
    "nombre_infected      1091\n",
    "nombre_sain          1852\n",
    "nombre_exposed        436\n",
    "nombre_recovered    16621\n",
    "Name: 660, dtype: int64"
   ]
  },
  {
   "cell_type": "markdown",
   "id": "fe51d4ae",
   "metadata": {},
   "source": [
    "nombre_infected      1060\n",
    "nombre_sain          1827\n",
    "nombre_exposed        477\n",
    "nombre_recovered    16636\n",
    "Name: 661, dtype: int64"
   ]
  },
  {
   "cell_type": "markdown",
   "id": "23f8b45a",
   "metadata": {},
   "source": [
    "nombre_infected      1052\n",
    "nombre_sain          1830\n",
    "nombre_exposed        482\n",
    "nombre_recovered    16636\n",
    "Name: 662, dtype: int64"
   ]
  },
  {
   "cell_type": "markdown",
   "id": "5f48a596",
   "metadata": {},
   "source": [
    "nombre_infected      1035\n",
    "nombre_sain          1875\n",
    "nombre_exposed        490\n",
    "nombre_recovered    16600\n",
    "Name: 663, dtype: int64"
   ]
  },
  {
   "cell_type": "markdown",
   "id": "89bc218e",
   "metadata": {},
   "source": [
    "nombre_infected      1031\n",
    "nombre_sain          1895\n",
    "nombre_exposed        468\n",
    "nombre_recovered    16606\n",
    "Name: 664, dtype: int64"
   ]
  },
  {
   "cell_type": "markdown",
   "id": "4a5678bc",
   "metadata": {},
   "source": [
    "nombre_infected      1027\n",
    "nombre_sain          1906\n",
    "nombre_exposed        470\n",
    "nombre_recovered    16597\n",
    "Name: 665, dtype: int64"
   ]
  },
  {
   "cell_type": "markdown",
   "id": "bfcfd085",
   "metadata": {},
   "source": [
    "nombre_infected      1019\n",
    "nombre_sain          1879\n",
    "nombre_exposed        493\n",
    "nombre_recovered    16609\n",
    "Name: 666, dtype: int64"
   ]
  },
  {
   "cell_type": "markdown",
   "id": "d540d0bc",
   "metadata": {},
   "source": [
    "nombre_infected      1023\n",
    "nombre_sain          1913\n",
    "nombre_exposed        478\n",
    "nombre_recovered    16586\n",
    "Name: 667, dtype: int64"
   ]
  },
  {
   "cell_type": "markdown",
   "id": "59734148",
   "metadata": {},
   "source": [
    "nombre_infected      1024\n",
    "nombre_sain          1936\n",
    "nombre_exposed        469\n",
    "nombre_recovered    16571\n",
    "Name: 668, dtype: int64"
   ]
  },
  {
   "cell_type": "markdown",
   "id": "c5bc7141",
   "metadata": {},
   "source": [
    "nombre_infected      1025\n",
    "nombre_sain          1943\n",
    "nombre_exposed        476\n",
    "nombre_recovered    16556\n",
    "Name: 669, dtype: int64"
   ]
  },
  {
   "cell_type": "markdown",
   "id": "7b09ad01",
   "metadata": {},
   "source": [
    "nombre_infected      1025\n",
    "nombre_sain          1947\n",
    "nombre_exposed        492\n",
    "nombre_recovered    16536\n",
    "Name: 670, dtype: int64"
   ]
  },
  {
   "cell_type": "markdown",
   "id": "71468bba",
   "metadata": {},
   "source": [
    "nombre_infected      1019\n",
    "nombre_sain          1960\n",
    "nombre_exposed        492\n",
    "nombre_recovered    16529\n",
    "Name: 671, dtype: int64"
   ]
  },
  {
   "cell_type": "markdown",
   "id": "835191c8",
   "metadata": {},
   "source": [
    "nombre_infected      1003\n",
    "nombre_sain          1964\n",
    "nombre_exposed        506\n",
    "nombre_recovered    16527\n",
    "Name: 672, dtype: int64"
   ]
  },
  {
   "cell_type": "markdown",
   "id": "f9e36296",
   "metadata": {},
   "source": [
    "nombre_infected       997\n",
    "nombre_sain          1966\n",
    "nombre_exposed        517\n",
    "nombre_recovered    16520\n",
    "Name: 673, dtype: int64"
   ]
  },
  {
   "cell_type": "markdown",
   "id": "7a010d7f",
   "metadata": {},
   "source": [
    "nombre_infected      1018\n",
    "nombre_sain          1976\n",
    "nombre_exposed        514\n",
    "nombre_recovered    16492\n",
    "Name: 674, dtype: int64"
   ]
  },
  {
   "cell_type": "markdown",
   "id": "29d80017",
   "metadata": {},
   "source": [
    "nombre_infected      1040\n",
    "nombre_sain          1990\n",
    "nombre_exposed        518\n",
    "nombre_recovered    16452\n",
    "Name: 675, dtype: int64"
   ]
  },
  {
   "cell_type": "markdown",
   "id": "f7ebd682",
   "metadata": {},
   "source": [
    "nombre_infected      1060\n",
    "nombre_sain          1983\n",
    "nombre_exposed        530\n",
    "nombre_recovered    16427\n",
    "Name: 676, dtype: int64"
   ]
  },
  {
   "cell_type": "markdown",
   "id": "8e1d8969",
   "metadata": {},
   "source": [
    "nombre_infected      1062\n",
    "nombre_sain          2013\n",
    "nombre_exposed        514\n",
    "nombre_recovered    16411\n",
    "Name: 677, dtype: int64"
   ]
  },
  {
   "cell_type": "markdown",
   "id": "c142fdbf",
   "metadata": {},
   "source": [
    "nombre_infected      1092\n",
    "nombre_sain          2018\n",
    "nombre_exposed        498\n",
    "nombre_recovered    16392\n",
    "Name: 678, dtype: int64"
   ]
  },
  {
   "cell_type": "markdown",
   "id": "8ca6cda1",
   "metadata": {},
   "source": [
    "nombre_infected      1085\n",
    "nombre_sain          2009\n",
    "nombre_exposed        517\n",
    "nombre_recovered    16389\n",
    "Name: 679, dtype: int64"
   ]
  },
  {
   "cell_type": "markdown",
   "id": "f96991ff",
   "metadata": {},
   "source": [
    "nombre_infected      1076\n",
    "nombre_sain          1982\n",
    "nombre_exposed        542\n",
    "nombre_recovered    16400\n",
    "Name: 680, dtype: int64"
   ]
  },
  {
   "cell_type": "markdown",
   "id": "789c62af",
   "metadata": {},
   "source": [
    "nombre_infected      1096\n",
    "nombre_sain          1967\n",
    "nombre_exposed        558\n",
    "nombre_recovered    16379\n",
    "Name: 681, dtype: int64"
   ]
  },
  {
   "cell_type": "markdown",
   "id": "94b3b8dd",
   "metadata": {},
   "source": [
    "nombre_infected      1093\n",
    "nombre_sain          1976\n",
    "nombre_exposed        562\n",
    "nombre_recovered    16369\n",
    "Name: 682, dtype: int64"
   ]
  },
  {
   "cell_type": "markdown",
   "id": "793f114a",
   "metadata": {},
   "source": [
    "nombre_infected      1123\n",
    "nombre_sain          1981\n",
    "nombre_exposed        546\n",
    "nombre_recovered    16350\n",
    "Name: 683, dtype: int64"
   ]
  },
  {
   "cell_type": "markdown",
   "id": "e1a873e8",
   "metadata": {},
   "source": [
    "nombre_infected      1130\n",
    "nombre_sain          1971\n",
    "nombre_exposed        549\n",
    "nombre_recovered    16350\n",
    "Name: 684, dtype: int64"
   ]
  },
  {
   "cell_type": "markdown",
   "id": "cefb8aa2",
   "metadata": {},
   "source": [
    "nombre_infected      1151\n",
    "nombre_sain          1950\n",
    "nombre_exposed        558\n",
    "nombre_recovered    16341\n",
    "Name: 685, dtype: int64"
   ]
  },
  {
   "cell_type": "markdown",
   "id": "c1caeccd",
   "metadata": {},
   "source": [
    "nombre_infected      1147\n",
    "nombre_sain          1965\n",
    "nombre_exposed        546\n",
    "nombre_recovered    16342\n",
    "Name: 686, dtype: int64"
   ]
  },
  {
   "cell_type": "markdown",
   "id": "fc01fa48",
   "metadata": {},
   "source": [
    "nombre_infected      1163\n",
    "nombre_sain          1985\n",
    "nombre_exposed        535\n",
    "nombre_recovered    16317\n",
    "Name: 687, dtype: int64"
   ]
  },
  {
   "cell_type": "markdown",
   "id": "e826461b",
   "metadata": {},
   "source": [
    "nombre_infected      1172\n",
    "nombre_sain          1965\n",
    "nombre_exposed        559\n",
    "nombre_recovered    16304\n",
    "Name: 688, dtype: int64"
   ]
  },
  {
   "cell_type": "markdown",
   "id": "5353588b",
   "metadata": {},
   "source": [
    "nombre_infected      1162\n",
    "nombre_sain          1939\n",
    "nombre_exposed        571\n",
    "nombre_recovered    16328\n",
    "Name: 689, dtype: int64"
   ]
  },
  {
   "cell_type": "markdown",
   "id": "ee794127",
   "metadata": {},
   "source": [
    "nombre_infected      1167\n",
    "nombre_sain          1909\n",
    "nombre_exposed        581\n",
    "nombre_recovered    16343\n",
    "Name: 690, dtype: int64"
   ]
  },
  {
   "cell_type": "markdown",
   "id": "5c210d2f",
   "metadata": {},
   "source": [
    "nombre_infected      1182\n",
    "nombre_sain          1888\n",
    "nombre_exposed        585\n",
    "nombre_recovered    16345\n",
    "Name: 691, dtype: int64"
   ]
  },
  {
   "cell_type": "markdown",
   "id": "a3274214",
   "metadata": {},
   "source": [
    "nombre_infected      1187\n",
    "nombre_sain          1885\n",
    "nombre_exposed        575\n",
    "nombre_recovered    16353\n",
    "Name: 692, dtype: int64"
   ]
  },
  {
   "cell_type": "markdown",
   "id": "a534d96d",
   "metadata": {},
   "source": [
    "nombre_infected      1182\n",
    "nombre_sain          1894\n",
    "nombre_exposed        578\n",
    "nombre_recovered    16346\n",
    "Name: 693, dtype: int64"
   ]
  },
  {
   "cell_type": "markdown",
   "id": "19e322c3",
   "metadata": {},
   "source": [
    "nombre_infected      1182\n",
    "nombre_sain          1857\n",
    "nombre_exposed        584\n",
    "nombre_recovered    16377\n",
    "Name: 694, dtype: int64"
   ]
  },
  {
   "cell_type": "markdown",
   "id": "4f8232ef",
   "metadata": {},
   "source": [
    "nombre_infected      1179\n",
    "nombre_sain          1859\n",
    "nombre_exposed        579\n",
    "nombre_recovered    16383\n",
    "Name: 695, dtype: int64"
   ]
  },
  {
   "cell_type": "markdown",
   "id": "2ec10796",
   "metadata": {},
   "source": [
    "nombre_infected      1184\n",
    "nombre_sain          1848\n",
    "nombre_exposed        591\n",
    "nombre_recovered    16377\n",
    "Name: 696, dtype: int64"
   ]
  },
  {
   "cell_type": "markdown",
   "id": "82fcb8ae",
   "metadata": {},
   "source": [
    "nombre_infected      1213\n",
    "nombre_sain          1832\n",
    "nombre_exposed        575\n",
    "nombre_recovered    16380\n",
    "Name: 697, dtype: int64"
   ]
  },
  {
   "cell_type": "markdown",
   "id": "c4abc089",
   "metadata": {},
   "source": [
    "nombre_infected      1208\n",
    "nombre_sain          1819\n",
    "nombre_exposed        587\n",
    "nombre_recovered    16386\n",
    "Name: 698, dtype: int64"
   ]
  },
  {
   "cell_type": "markdown",
   "id": "ebd33844",
   "metadata": {},
   "source": [
    "nombre_infected      1207\n",
    "nombre_sain          1799\n",
    "nombre_exposed        590\n",
    "nombre_recovered    16404\n",
    "Name: 699, dtype: int64"
   ]
  },
  {
   "cell_type": "markdown",
   "id": "18b790d9",
   "metadata": {},
   "source": [
    "nombre_infected      1218\n",
    "nombre_sain          1796\n",
    "nombre_exposed        580\n",
    "nombre_recovered    16406\n",
    "Name: 700, dtype: int64"
   ]
  },
  {
   "cell_type": "markdown",
   "id": "f8f87f89",
   "metadata": {},
   "source": [
    "nombre_infected      1215\n",
    "nombre_sain          1765\n",
    "nombre_exposed        585\n",
    "nombre_recovered    16435\n",
    "Name: 701, dtype: int64"
   ]
  },
  {
   "cell_type": "markdown",
   "id": "2fb4c872",
   "metadata": {},
   "source": [
    "nombre_infected      1216\n",
    "nombre_sain          1768\n",
    "nombre_exposed        569\n",
    "nombre_recovered    16447\n",
    "Name: 702, dtype: int64"
   ]
  },
  {
   "cell_type": "markdown",
   "id": "27bb9f3d",
   "metadata": {},
   "source": [
    "nombre_infected      1250\n",
    "nombre_sain          1795\n",
    "nombre_exposed        543\n",
    "nombre_recovered    16412\n",
    "Name: 703, dtype: int64"
   ]
  },
  {
   "cell_type": "markdown",
   "id": "a348dcb4",
   "metadata": {},
   "source": [
    "nombre_infected      1255\n",
    "nombre_sain          1804\n",
    "nombre_exposed        539\n",
    "nombre_recovered    16402\n",
    "Name: 704, dtype: int64"
   ]
  },
  {
   "cell_type": "markdown",
   "id": "87a0e178",
   "metadata": {},
   "source": [
    "nombre_infected      1239\n",
    "nombre_sain          1823\n",
    "nombre_exposed        538\n",
    "nombre_recovered    16400\n",
    "Name: 705, dtype: int64"
   ]
  },
  {
   "cell_type": "markdown",
   "id": "e51cbae9",
   "metadata": {},
   "source": [
    "nombre_infected      1211\n",
    "nombre_sain          1821\n",
    "nombre_exposed        540\n",
    "nombre_recovered    16428\n",
    "Name: 706, dtype: int64"
   ]
  },
  {
   "cell_type": "markdown",
   "id": "26e253f9",
   "metadata": {},
   "source": [
    "nombre_infected      1217\n",
    "nombre_sain          1834\n",
    "nombre_exposed        528\n",
    "nombre_recovered    16421\n",
    "Name: 707, dtype: int64"
   ]
  },
  {
   "cell_type": "markdown",
   "id": "e7fe38d7",
   "metadata": {},
   "source": [
    "nombre_infected      1221\n",
    "nombre_sain          1831\n",
    "nombre_exposed        531\n",
    "nombre_recovered    16417\n",
    "Name: 708, dtype: int64"
   ]
  },
  {
   "cell_type": "markdown",
   "id": "0f2f52be",
   "metadata": {},
   "source": [
    "nombre_infected      1201\n",
    "nombre_sain          1816\n",
    "nombre_exposed        548\n",
    "nombre_recovered    16435\n",
    "Name: 709, dtype: int64"
   ]
  },
  {
   "cell_type": "markdown",
   "id": "cc6fac65",
   "metadata": {},
   "source": [
    "nombre_infected      1215\n",
    "nombre_sain          1811\n",
    "nombre_exposed        533\n",
    "nombre_recovered    16441\n",
    "Name: 710, dtype: int64"
   ]
  },
  {
   "cell_type": "markdown",
   "id": "48445a1f",
   "metadata": {},
   "source": [
    "nombre_infected      1211\n",
    "nombre_sain          1815\n",
    "nombre_exposed        522\n",
    "nombre_recovered    16452\n",
    "Name: 711, dtype: int64"
   ]
  },
  {
   "cell_type": "markdown",
   "id": "0258b96b",
   "metadata": {},
   "source": [
    "nombre_infected      1205\n",
    "nombre_sain          1797\n",
    "nombre_exposed        520\n",
    "nombre_recovered    16478\n",
    "Name: 712, dtype: int64"
   ]
  },
  {
   "cell_type": "markdown",
   "id": "d9e83b88",
   "metadata": {},
   "source": [
    "nombre_infected      1206\n",
    "nombre_sain          1777\n",
    "nombre_exposed        540\n",
    "nombre_recovered    16477\n",
    "Name: 713, dtype: int64"
   ]
  },
  {
   "cell_type": "markdown",
   "id": "82db3df9",
   "metadata": {},
   "source": [
    "nombre_infected      1162\n",
    "nombre_sain          1770\n",
    "nombre_exposed        549\n",
    "nombre_recovered    16519\n",
    "Name: 714, dtype: int64"
   ]
  },
  {
   "cell_type": "markdown",
   "id": "e34f7e84",
   "metadata": {},
   "source": [
    "nombre_infected      1185\n",
    "nombre_sain          1770\n",
    "nombre_exposed        528\n",
    "nombre_recovered    16517\n",
    "Name: 715, dtype: int64"
   ]
  },
  {
   "cell_type": "markdown",
   "id": "f83c528b",
   "metadata": {},
   "source": [
    "nombre_infected      1196\n",
    "nombre_sain          1761\n",
    "nombre_exposed        514\n",
    "nombre_recovered    16529\n",
    "Name: 716, dtype: int64"
   ]
  },
  {
   "cell_type": "markdown",
   "id": "7c9377d2",
   "metadata": {},
   "source": [
    "nombre_infected      1180\n",
    "nombre_sain          1771\n",
    "nombre_exposed        530\n",
    "nombre_recovered    16519\n",
    "Name: 717, dtype: int64"
   ]
  },
  {
   "cell_type": "markdown",
   "id": "e38cf706",
   "metadata": {},
   "source": [
    "nombre_infected      1179\n",
    "nombre_sain          1784\n",
    "nombre_exposed        509\n",
    "nombre_recovered    16528\n",
    "Name: 718, dtype: int64"
   ]
  },
  {
   "cell_type": "markdown",
   "id": "4eb5c5f7",
   "metadata": {},
   "source": [
    "nombre_infected      1179\n",
    "nombre_sain          1784\n",
    "nombre_exposed        518\n",
    "nombre_recovered    16519\n",
    "Name: 719, dtype: int64"
   ]
  },
  {
   "cell_type": "markdown",
   "id": "ced38071",
   "metadata": {},
   "source": [
    "nombre_infected      1179\n",
    "nombre_sain          1791\n",
    "nombre_exposed        512\n",
    "nombre_recovered    16518\n",
    "Name: 720, dtype: int64"
   ]
  },
  {
   "cell_type": "markdown",
   "id": "74f4dd5a",
   "metadata": {},
   "source": [
    "nombre_infected      1169\n",
    "nombre_sain          1765\n",
    "nombre_exposed        532\n",
    "nombre_recovered    16534\n",
    "Name: 721, dtype: int64"
   ]
  },
  {
   "cell_type": "markdown",
   "id": "bf939518",
   "metadata": {},
   "source": [
    "nombre_infected      1192\n",
    "nombre_sain          1773\n",
    "nombre_exposed        524\n",
    "nombre_recovered    16511\n",
    "Name: 722, dtype: int64"
   ]
  },
  {
   "cell_type": "markdown",
   "id": "314dc54e",
   "metadata": {},
   "source": [
    "nombre_infected      1151\n",
    "nombre_sain          1771\n",
    "nombre_exposed        540\n",
    "nombre_recovered    16538\n",
    "Name: 723, dtype: int64"
   ]
  },
  {
   "cell_type": "markdown",
   "id": "fc5bf9bb",
   "metadata": {},
   "source": [
    "nombre_infected      1114\n",
    "nombre_sain          1756\n",
    "nombre_exposed        549\n",
    "nombre_recovered    16581\n",
    "Name: 724, dtype: int64"
   ]
  },
  {
   "cell_type": "markdown",
   "id": "effbefcd",
   "metadata": {},
   "source": [
    "nombre_infected      1113\n",
    "nombre_sain          1771\n",
    "nombre_exposed        540\n",
    "nombre_recovered    16576\n",
    "Name: 725, dtype: int64"
   ]
  },
  {
   "cell_type": "markdown",
   "id": "24e5403c",
   "metadata": {},
   "source": [
    "nombre_infected      1114\n",
    "nombre_sain          1770\n",
    "nombre_exposed        542\n",
    "nombre_recovered    16574\n",
    "Name: 726, dtype: int64"
   ]
  },
  {
   "cell_type": "markdown",
   "id": "caaa80c9",
   "metadata": {},
   "source": [
    "nombre_infected      1108\n",
    "nombre_sain          1804\n",
    "nombre_exposed        535\n",
    "nombre_recovered    16553\n",
    "Name: 727, dtype: int64"
   ]
  },
  {
   "cell_type": "markdown",
   "id": "485b9d8e",
   "metadata": {},
   "source": [
    "nombre_infected      1092\n",
    "nombre_sain          1803\n",
    "nombre_exposed        537\n",
    "nombre_recovered    16568\n",
    "Name: 728, dtype: int64"
   ]
  },
  {
   "cell_type": "markdown",
   "id": "6ebacf1a",
   "metadata": {},
   "source": [
    "nombre_infected      1064\n",
    "nombre_sain          1785\n",
    "nombre_exposed        540\n",
    "nombre_recovered    16611\n",
    "Name: 729, dtype: int64"
   ]
  },
  {
   "cell_type": "markdown",
   "id": "7247c0bd",
   "metadata": {},
   "source": [
    "nombre_infected      1083\n",
    "nombre_sain          1801\n",
    "nombre_exposed        504\n",
    "nombre_recovered    16612\n",
    "Name: 730, dtype: int64"
   ]
  }
 ],
 "metadata": {},
 "nbformat": 4,
 "nbformat_minor": 5
}
