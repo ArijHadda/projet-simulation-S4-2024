{
 "cells": [
  {
   "cell_type": "markdown",
   "id": "dad81210",
   "metadata": {},
   "source": [
    "nombre_infected        20\n",
    "nombre_sain         19980\n",
    "nombre_exposed          0\n",
    "nombre_recovered        0\n",
    "Name: 0, dtype: int64"
   ]
  },
  {
   "cell_type": "markdown",
   "id": "d83e2d84",
   "metadata": {},
   "source": [
    "nombre_infected        20\n",
    "nombre_sain         19960\n",
    "nombre_exposed         20\n",
    "nombre_recovered        0\n",
    "Name: 1, dtype: int64"
   ]
  },
  {
   "cell_type": "markdown",
   "id": "529eddc9",
   "metadata": {},
   "source": [
    "nombre_infected        20\n",
    "nombre_sain         19936\n",
    "nombre_exposed         44\n",
    "nombre_recovered        0\n",
    "Name: 2, dtype: int64"
   ]
  },
  {
   "cell_type": "markdown",
   "id": "eb3d45bb",
   "metadata": {},
   "source": [
    "nombre_infected        25\n",
    "nombre_sain         19899\n",
    "nombre_exposed         76\n",
    "nombre_recovered        0\n",
    "Name: 3, dtype: int64"
   ]
  },
  {
   "cell_type": "markdown",
   "id": "817de5d8",
   "metadata": {},
   "source": [
    "nombre_infected        39\n",
    "nombre_sain         19855\n",
    "nombre_exposed        106\n",
    "nombre_recovered        0\n",
    "Name: 4, dtype: int64"
   ]
  },
  {
   "cell_type": "markdown",
   "id": "5f5921a4",
   "metadata": {},
   "source": [
    "nombre_infected        51\n",
    "nombre_sain         19793\n",
    "nombre_exposed        155\n",
    "nombre_recovered        1\n",
    "Name: 5, dtype: int64"
   ]
  },
  {
   "cell_type": "markdown",
   "id": "325ab722",
   "metadata": {},
   "source": [
    "nombre_infected        72\n",
    "nombre_sain         19724\n",
    "nombre_exposed        203\n",
    "nombre_recovered        1\n",
    "Name: 6, dtype: int64"
   ]
  },
  {
   "cell_type": "markdown",
   "id": "138d1a6f",
   "metadata": {},
   "source": [
    "nombre_infected       106\n",
    "nombre_sain         19619\n",
    "nombre_exposed        269\n",
    "nombre_recovered        6\n",
    "Name: 7, dtype: int64"
   ]
  },
  {
   "cell_type": "markdown",
   "id": "fd3970e6",
   "metadata": {},
   "source": [
    "nombre_infected       154\n",
    "nombre_sain         19483\n",
    "nombre_exposed        352\n",
    "nombre_recovered       11\n",
    "Name: 8, dtype: int64"
   ]
  },
  {
   "cell_type": "markdown",
   "id": "853f53b2",
   "metadata": {},
   "source": [
    "nombre_infected       200\n",
    "nombre_sain         19256\n",
    "nombre_exposed        520\n",
    "nombre_recovered       24\n",
    "Name: 9, dtype: int64"
   ]
  },
  {
   "cell_type": "markdown",
   "id": "885a839d",
   "metadata": {},
   "source": [
    "nombre_infected       267\n",
    "nombre_sain         18987\n",
    "nombre_exposed        700\n",
    "nombre_recovered       46\n",
    "Name: 10, dtype: int64"
   ]
  },
  {
   "cell_type": "markdown",
   "id": "75eff2a0",
   "metadata": {},
   "source": [
    "nombre_infected       377\n",
    "nombre_sain         18619\n",
    "nombre_exposed        935\n",
    "nombre_recovered       69\n",
    "Name: 11, dtype: int64"
   ]
  },
  {
   "cell_type": "markdown",
   "id": "38e52cd7",
   "metadata": {},
   "source": [
    "nombre_infected       493\n",
    "nombre_sain         18144\n",
    "nombre_exposed       1266\n",
    "nombre_recovered       97\n",
    "Name: 12, dtype: int64"
   ]
  },
  {
   "cell_type": "markdown",
   "id": "47887dcf",
   "metadata": {},
   "source": [
    "nombre_infected       684\n",
    "nombre_sain         17531\n",
    "nombre_exposed       1651\n",
    "nombre_recovered      134\n",
    "Name: 13, dtype: int64"
   ]
  },
  {
   "cell_type": "markdown",
   "id": "64963f01",
   "metadata": {},
   "source": [
    "nombre_infected       898\n",
    "nombre_sain         16734\n",
    "nombre_exposed       2172\n",
    "nombre_recovered      196\n",
    "Name: 14, dtype: int64"
   ]
  },
  {
   "cell_type": "markdown",
   "id": "94360077",
   "metadata": {},
   "source": [
    "nombre_infected      1187\n",
    "nombre_sain         15763\n",
    "nombre_exposed       2746\n",
    "nombre_recovered      304\n",
    "Name: 15, dtype: int64"
   ]
  },
  {
   "cell_type": "markdown",
   "id": "1e560796",
   "metadata": {},
   "source": [
    "nombre_infected      1579\n",
    "nombre_sain         14515\n",
    "nombre_exposed       3500\n",
    "nombre_recovered      406\n",
    "Name: 16, dtype: int64"
   ]
  },
  {
   "cell_type": "markdown",
   "id": "ca6ba7f7",
   "metadata": {},
   "source": [
    "nombre_infected      2070\n",
    "nombre_sain         13054\n",
    "nombre_exposed       4326\n",
    "nombre_recovered      550\n",
    "Name: 17, dtype: int64"
   ]
  },
  {
   "cell_type": "markdown",
   "id": "71bc37a4",
   "metadata": {},
   "source": [
    "nombre_infected      2699\n",
    "nombre_sain         11375\n",
    "nombre_exposed       5186\n",
    "nombre_recovered      740\n",
    "Name: 18, dtype: int64"
   ]
  },
  {
   "cell_type": "markdown",
   "id": "125dd691",
   "metadata": {},
   "source": [
    "nombre_infected     3358\n",
    "nombre_sain         9546\n",
    "nombre_exposed      6099\n",
    "nombre_recovered     997\n",
    "Name: 19, dtype: int64"
   ]
  },
  {
   "cell_type": "markdown",
   "id": "df700f74",
   "metadata": {},
   "source": [
    "nombre_infected     4192\n",
    "nombre_sain         7787\n",
    "nombre_exposed      6717\n",
    "nombre_recovered    1304\n",
    "Name: 20, dtype: int64"
   ]
  },
  {
   "cell_type": "markdown",
   "id": "40796c13",
   "metadata": {},
   "source": [
    "nombre_infected     5152\n",
    "nombre_sain         6126\n",
    "nombre_exposed      7001\n",
    "nombre_recovered    1721\n",
    "Name: 21, dtype: int64"
   ]
  },
  {
   "cell_type": "markdown",
   "id": "f12e001c",
   "metadata": {},
   "source": [
    "nombre_infected     6059\n",
    "nombre_sain         4580\n",
    "nombre_exposed      7134\n",
    "nombre_recovered    2227\n",
    "Name: 22, dtype: int64"
   ]
  },
  {
   "cell_type": "markdown",
   "id": "4afb7162",
   "metadata": {},
   "source": [
    "nombre_infected     6938\n",
    "nombre_sain         3350\n",
    "nombre_exposed      6828\n",
    "nombre_recovered    2884\n",
    "Name: 23, dtype: int64"
   ]
  },
  {
   "cell_type": "markdown",
   "id": "2a70a5d9",
   "metadata": {},
   "source": [
    "nombre_infected     7729\n",
    "nombre_sain         2347\n",
    "nombre_exposed      6331\n",
    "nombre_recovered    3593\n",
    "Name: 24, dtype: int64"
   ]
  },
  {
   "cell_type": "markdown",
   "id": "ede99213",
   "metadata": {},
   "source": [
    "nombre_infected     8277\n",
    "nombre_sain         1630\n",
    "nombre_exposed      5672\n",
    "nombre_recovered    4421\n",
    "Name: 25, dtype: int64"
   ]
  },
  {
   "cell_type": "markdown",
   "id": "27336b82",
   "metadata": {},
   "source": [
    "nombre_infected     8679\n",
    "nombre_sain         1120\n",
    "nombre_exposed      4832\n",
    "nombre_recovered    5369\n",
    "Name: 26, dtype: int64"
   ]
  },
  {
   "cell_type": "markdown",
   "id": "0efe49c2",
   "metadata": {},
   "source": [
    "nombre_infected     8820\n",
    "nombre_sain          757\n",
    "nombre_exposed      4062\n",
    "nombre_recovered    6361\n",
    "Name: 27, dtype: int64"
   ]
  },
  {
   "cell_type": "markdown",
   "id": "1463f6ef",
   "metadata": {},
   "source": [
    "nombre_infected     8706\n",
    "nombre_sain          531\n",
    "nombre_exposed      3331\n",
    "nombre_recovered    7432\n",
    "Name: 28, dtype: int64"
   ]
  },
  {
   "cell_type": "markdown",
   "id": "3e0db42a",
   "metadata": {},
   "source": [
    "nombre_infected     8466\n",
    "nombre_sain          364\n",
    "nombre_exposed      2709\n",
    "nombre_recovered    8461\n",
    "Name: 29, dtype: int64"
   ]
  },
  {
   "cell_type": "markdown",
   "id": "09dd5d68",
   "metadata": {},
   "source": [
    "nombre_infected     8056\n",
    "nombre_sain          276\n",
    "nombre_exposed      2168\n",
    "nombre_recovered    9500\n",
    "Name: 30, dtype: int64"
   ]
  },
  {
   "cell_type": "markdown",
   "id": "d11b04a9",
   "metadata": {},
   "source": [
    "nombre_infected      7592\n",
    "nombre_sain           220\n",
    "nombre_exposed       1681\n",
    "nombre_recovered    10507\n",
    "Name: 31, dtype: int64"
   ]
  },
  {
   "cell_type": "markdown",
   "id": "e1d1d859",
   "metadata": {},
   "source": [
    "nombre_infected      7050\n",
    "nombre_sain           187\n",
    "nombre_exposed       1321\n",
    "nombre_recovered    11442\n",
    "Name: 32, dtype: int64"
   ]
  },
  {
   "cell_type": "markdown",
   "id": "9ceb913d",
   "metadata": {},
   "source": [
    "nombre_infected      6459\n",
    "nombre_sain           158\n",
    "nombre_exposed       1041\n",
    "nombre_recovered    12342\n",
    "Name: 33, dtype: int64"
   ]
  },
  {
   "cell_type": "markdown",
   "id": "92f5b21f",
   "metadata": {},
   "source": [
    "nombre_infected      5807\n",
    "nombre_sain           158\n",
    "nombre_exposed        788\n",
    "nombre_recovered    13247\n",
    "Name: 34, dtype: int64"
   ]
  },
  {
   "cell_type": "markdown",
   "id": "4beff0ba",
   "metadata": {},
   "source": [
    "nombre_infected      5220\n",
    "nombre_sain           146\n",
    "nombre_exposed        613\n",
    "nombre_recovered    14021\n",
    "Name: 35, dtype: int64"
   ]
  },
  {
   "cell_type": "markdown",
   "id": "e8a3b625",
   "metadata": {},
   "source": [
    "nombre_infected      4684\n",
    "nombre_sain           144\n",
    "nombre_exposed        487\n",
    "nombre_recovered    14685\n",
    "Name: 36, dtype: int64"
   ]
  },
  {
   "cell_type": "markdown",
   "id": "a32cc8bc",
   "metadata": {},
   "source": [
    "nombre_infected      4178\n",
    "nombre_sain           151\n",
    "nombre_exposed        381\n",
    "nombre_recovered    15290\n",
    "Name: 37, dtype: int64"
   ]
  },
  {
   "cell_type": "markdown",
   "id": "8229c924",
   "metadata": {},
   "source": [
    "nombre_infected      3719\n",
    "nombre_sain           163\n",
    "nombre_exposed        300\n",
    "nombre_recovered    15818\n",
    "Name: 38, dtype: int64"
   ]
  },
  {
   "cell_type": "markdown",
   "id": "4d239784",
   "metadata": {},
   "source": [
    "nombre_infected      3317\n",
    "nombre_sain           194\n",
    "nombre_exposed        241\n",
    "nombre_recovered    16248\n",
    "Name: 39, dtype: int64"
   ]
  },
  {
   "cell_type": "markdown",
   "id": "dd0ff3f5",
   "metadata": {},
   "source": [
    "nombre_infected      2973\n",
    "nombre_sain           217\n",
    "nombre_exposed        206\n",
    "nombre_recovered    16604\n",
    "Name: 40, dtype: int64"
   ]
  },
  {
   "cell_type": "markdown",
   "id": "878dfd0d",
   "metadata": {},
   "source": [
    "nombre_infected      2660\n",
    "nombre_sain           222\n",
    "nombre_exposed        184\n",
    "nombre_recovered    16934\n",
    "Name: 41, dtype: int64"
   ]
  },
  {
   "cell_type": "markdown",
   "id": "abcbeaca",
   "metadata": {},
   "source": [
    "nombre_infected      2362\n",
    "nombre_sain           238\n",
    "nombre_exposed        171\n",
    "nombre_recovered    17229\n",
    "Name: 42, dtype: int64"
   ]
  },
  {
   "cell_type": "markdown",
   "id": "af449516",
   "metadata": {},
   "source": [
    "nombre_infected      2121\n",
    "nombre_sain           267\n",
    "nombre_exposed        148\n",
    "nombre_recovered    17464\n",
    "Name: 43, dtype: int64"
   ]
  },
  {
   "cell_type": "markdown",
   "id": "e380cc61",
   "metadata": {},
   "source": [
    "nombre_infected      1887\n",
    "nombre_sain           313\n",
    "nombre_exposed        128\n",
    "nombre_recovered    17672\n",
    "Name: 44, dtype: int64"
   ]
  },
  {
   "cell_type": "markdown",
   "id": "8b80e6e7",
   "metadata": {},
   "source": [
    "nombre_infected      1691\n",
    "nombre_sain           334\n",
    "nombre_exposed        141\n",
    "nombre_recovered    17834\n",
    "Name: 45, dtype: int64"
   ]
  },
  {
   "cell_type": "markdown",
   "id": "8b185778",
   "metadata": {},
   "source": [
    "nombre_infected      1518\n",
    "nombre_sain           382\n",
    "nombre_exposed        137\n",
    "nombre_recovered    17963\n",
    "Name: 46, dtype: int64"
   ]
  },
  {
   "cell_type": "markdown",
   "id": "a43ac0be",
   "metadata": {},
   "source": [
    "nombre_infected      1397\n",
    "nombre_sain           417\n",
    "nombre_exposed        121\n",
    "nombre_recovered    18065\n",
    "Name: 47, dtype: int64"
   ]
  },
  {
   "cell_type": "markdown",
   "id": "6871e8ea",
   "metadata": {},
   "source": [
    "nombre_infected      1277\n",
    "nombre_sain           457\n",
    "nombre_exposed        122\n",
    "nombre_recovered    18144\n",
    "Name: 48, dtype: int64"
   ]
  },
  {
   "cell_type": "markdown",
   "id": "c5aa035e",
   "metadata": {},
   "source": [
    "nombre_infected      1173\n",
    "nombre_sain           495\n",
    "nombre_exposed        122\n",
    "nombre_recovered    18210\n",
    "Name: 49, dtype: int64"
   ]
  },
  {
   "cell_type": "markdown",
   "id": "e55f13e9",
   "metadata": {},
   "source": [
    "nombre_infected      1056\n",
    "nombre_sain           532\n",
    "nombre_exposed        117\n",
    "nombre_recovered    18295\n",
    "Name: 50, dtype: int64"
   ]
  },
  {
   "cell_type": "markdown",
   "id": "9ef48e8b",
   "metadata": {},
   "source": [
    "nombre_infected       976\n",
    "nombre_sain           560\n",
    "nombre_exposed        111\n",
    "nombre_recovered    18353\n",
    "Name: 51, dtype: int64"
   ]
  },
  {
   "cell_type": "markdown",
   "id": "c6265329",
   "metadata": {},
   "source": [
    "nombre_infected       913\n",
    "nombre_sain           596\n",
    "nombre_exposed        112\n",
    "nombre_recovered    18379\n",
    "Name: 52, dtype: int64"
   ]
  },
  {
   "cell_type": "markdown",
   "id": "dbafdae1",
   "metadata": {},
   "source": [
    "nombre_infected       852\n",
    "nombre_sain           641\n",
    "nombre_exposed        117\n",
    "nombre_recovered    18390\n",
    "Name: 53, dtype: int64"
   ]
  },
  {
   "cell_type": "markdown",
   "id": "d0ecff57",
   "metadata": {},
   "source": [
    "nombre_infected       781\n",
    "nombre_sain           674\n",
    "nombre_exposed        125\n",
    "nombre_recovered    18420\n",
    "Name: 54, dtype: int64"
   ]
  },
  {
   "cell_type": "markdown",
   "id": "985b6fe5",
   "metadata": {},
   "source": [
    "nombre_infected       729\n",
    "nombre_sain           712\n",
    "nombre_exposed        120\n",
    "nombre_recovered    18439\n",
    "Name: 55, dtype: int64"
   ]
  },
  {
   "cell_type": "markdown",
   "id": "17286a36",
   "metadata": {},
   "source": [
    "nombre_infected       677\n",
    "nombre_sain           763\n",
    "nombre_exposed        120\n",
    "nombre_recovered    18440\n",
    "Name: 56, dtype: int64"
   ]
  },
  {
   "cell_type": "markdown",
   "id": "eb157db3",
   "metadata": {},
   "source": [
    "nombre_infected       637\n",
    "nombre_sain           780\n",
    "nombre_exposed        124\n",
    "nombre_recovered    18459\n",
    "Name: 57, dtype: int64"
   ]
  },
  {
   "cell_type": "markdown",
   "id": "2be403d7",
   "metadata": {},
   "source": [
    "nombre_infected       590\n",
    "nombre_sain           833\n",
    "nombre_exposed        128\n",
    "nombre_recovered    18449\n",
    "Name: 58, dtype: int64"
   ]
  },
  {
   "cell_type": "markdown",
   "id": "c933c088",
   "metadata": {},
   "source": [
    "nombre_infected       551\n",
    "nombre_sain           881\n",
    "nombre_exposed        118\n",
    "nombre_recovered    18450\n",
    "Name: 59, dtype: int64"
   ]
  },
  {
   "cell_type": "markdown",
   "id": "0ea413d3",
   "metadata": {},
   "source": [
    "nombre_infected       529\n",
    "nombre_sain           906\n",
    "nombre_exposed        113\n",
    "nombre_recovered    18452\n",
    "Name: 60, dtype: int64"
   ]
  },
  {
   "cell_type": "markdown",
   "id": "d76896dd",
   "metadata": {},
   "source": [
    "nombre_infected       488\n",
    "nombre_sain           941\n",
    "nombre_exposed        103\n",
    "nombre_recovered    18468\n",
    "Name: 61, dtype: int64"
   ]
  },
  {
   "cell_type": "markdown",
   "id": "d4a75fb6",
   "metadata": {},
   "source": [
    "nombre_infected       472\n",
    "nombre_sain           971\n",
    "nombre_exposed         95\n",
    "nombre_recovered    18462\n",
    "Name: 62, dtype: int64"
   ]
  },
  {
   "cell_type": "markdown",
   "id": "7099c486",
   "metadata": {},
   "source": [
    "nombre_infected       435\n",
    "nombre_sain          1014\n",
    "nombre_exposed         95\n",
    "nombre_recovered    18456\n",
    "Name: 63, dtype: int64"
   ]
  },
  {
   "cell_type": "markdown",
   "id": "875041cf",
   "metadata": {},
   "source": [
    "nombre_infected       414\n",
    "nombre_sain          1065\n",
    "nombre_exposed         86\n",
    "nombre_recovered    18435\n",
    "Name: 64, dtype: int64"
   ]
  },
  {
   "cell_type": "markdown",
   "id": "2bc060fa",
   "metadata": {},
   "source": [
    "nombre_infected       376\n",
    "nombre_sain          1103\n",
    "nombre_exposed         87\n",
    "nombre_recovered    18434\n",
    "Name: 65, dtype: int64"
   ]
  },
  {
   "cell_type": "markdown",
   "id": "5becc9cf",
   "metadata": {},
   "source": [
    "nombre_infected       347\n",
    "nombre_sain          1150\n",
    "nombre_exposed         93\n",
    "nombre_recovered    18410\n",
    "Name: 66, dtype: int64"
   ]
  },
  {
   "cell_type": "markdown",
   "id": "7eefc24d",
   "metadata": {},
   "source": [
    "nombre_infected       334\n",
    "nombre_sain          1183\n",
    "nombre_exposed         87\n",
    "nombre_recovered    18396\n",
    "Name: 67, dtype: int64"
   ]
  },
  {
   "cell_type": "markdown",
   "id": "6920638a",
   "metadata": {},
   "source": [
    "nombre_infected       314\n",
    "nombre_sain          1232\n",
    "nombre_exposed         84\n",
    "nombre_recovered    18370\n",
    "Name: 68, dtype: int64"
   ]
  },
  {
   "cell_type": "markdown",
   "id": "a0ca2b9a",
   "metadata": {},
   "source": [
    "nombre_infected       295\n",
    "nombre_sain          1281\n",
    "nombre_exposed         85\n",
    "nombre_recovered    18339\n",
    "Name: 69, dtype: int64"
   ]
  },
  {
   "cell_type": "markdown",
   "id": "097f597a",
   "metadata": {},
   "source": [
    "nombre_infected       286\n",
    "nombre_sain          1326\n",
    "nombre_exposed         82\n",
    "nombre_recovered    18306\n",
    "Name: 70, dtype: int64"
   ]
  },
  {
   "cell_type": "markdown",
   "id": "06e4104b",
   "metadata": {},
   "source": [
    "nombre_infected       270\n",
    "nombre_sain          1387\n",
    "nombre_exposed         85\n",
    "nombre_recovered    18258\n",
    "Name: 71, dtype: int64"
   ]
  },
  {
   "cell_type": "markdown",
   "id": "81ba4afa",
   "metadata": {},
   "source": [
    "nombre_infected       250\n",
    "nombre_sain          1434\n",
    "nombre_exposed         89\n",
    "nombre_recovered    18227\n",
    "Name: 72, dtype: int64"
   ]
  },
  {
   "cell_type": "markdown",
   "id": "b7a43407",
   "metadata": {},
   "source": [
    "nombre_infected       238\n",
    "nombre_sain          1480\n",
    "nombre_exposed         80\n",
    "nombre_recovered    18202\n",
    "Name: 73, dtype: int64"
   ]
  },
  {
   "cell_type": "markdown",
   "id": "c93786d9",
   "metadata": {},
   "source": [
    "nombre_infected       221\n",
    "nombre_sain          1529\n",
    "nombre_exposed         86\n",
    "nombre_recovered    18164\n",
    "Name: 74, dtype: int64"
   ]
  },
  {
   "cell_type": "markdown",
   "id": "896a7a1f",
   "metadata": {},
   "source": [
    "nombre_infected       206\n",
    "nombre_sain          1588\n",
    "nombre_exposed         80\n",
    "nombre_recovered    18126\n",
    "Name: 75, dtype: int64"
   ]
  },
  {
   "cell_type": "markdown",
   "id": "f3c1cf5f",
   "metadata": {},
   "source": [
    "nombre_infected       199\n",
    "nombre_sain          1645\n",
    "nombre_exposed         65\n",
    "nombre_recovered    18091\n",
    "Name: 76, dtype: int64"
   ]
  },
  {
   "cell_type": "markdown",
   "id": "d27c3f05",
   "metadata": {},
   "source": [
    "nombre_infected       194\n",
    "nombre_sain          1708\n",
    "nombre_exposed         68\n",
    "nombre_recovered    18030\n",
    "Name: 77, dtype: int64"
   ]
  },
  {
   "cell_type": "markdown",
   "id": "4f34c18c",
   "metadata": {},
   "source": [
    "nombre_infected       171\n",
    "nombre_sain          1768\n",
    "nombre_exposed         66\n",
    "nombre_recovered    17995\n",
    "Name: 78, dtype: int64"
   ]
  },
  {
   "cell_type": "markdown",
   "id": "3299611e",
   "metadata": {},
   "source": [
    "nombre_infected       158\n",
    "nombre_sain          1829\n",
    "nombre_exposed         63\n",
    "nombre_recovered    17950\n",
    "Name: 79, dtype: int64"
   ]
  },
  {
   "cell_type": "markdown",
   "id": "bae003a7",
   "metadata": {},
   "source": [
    "nombre_infected       154\n",
    "nombre_sain          1898\n",
    "nombre_exposed         70\n",
    "nombre_recovered    17878\n",
    "Name: 80, dtype: int64"
   ]
  },
  {
   "cell_type": "markdown",
   "id": "0038bd1e",
   "metadata": {},
   "source": [
    "nombre_infected       147\n",
    "nombre_sain          1963\n",
    "nombre_exposed         71\n",
    "nombre_recovered    17819\n",
    "Name: 81, dtype: int64"
   ]
  },
  {
   "cell_type": "markdown",
   "id": "68e38a8d",
   "metadata": {},
   "source": [
    "nombre_infected       137\n",
    "nombre_sain          1998\n",
    "nombre_exposed         78\n",
    "nombre_recovered    17787\n",
    "Name: 82, dtype: int64"
   ]
  },
  {
   "cell_type": "markdown",
   "id": "dfc6f80e",
   "metadata": {},
   "source": [
    "nombre_infected       132\n",
    "nombre_sain          2069\n",
    "nombre_exposed         76\n",
    "nombre_recovered    17723\n",
    "Name: 83, dtype: int64"
   ]
  },
  {
   "cell_type": "markdown",
   "id": "6caa4319",
   "metadata": {},
   "source": [
    "nombre_infected       139\n",
    "nombre_sain          2138\n",
    "nombre_exposed         61\n",
    "nombre_recovered    17662\n",
    "Name: 84, dtype: int64"
   ]
  },
  {
   "cell_type": "markdown",
   "id": "ec2b59b2",
   "metadata": {},
   "source": [
    "nombre_infected       132\n",
    "nombre_sain          2195\n",
    "nombre_exposed         64\n",
    "nombre_recovered    17609\n",
    "Name: 85, dtype: int64"
   ]
  },
  {
   "cell_type": "markdown",
   "id": "f97bffd8",
   "metadata": {},
   "source": [
    "nombre_infected       125\n",
    "nombre_sain          2247\n",
    "nombre_exposed         70\n",
    "nombre_recovered    17558\n",
    "Name: 86, dtype: int64"
   ]
  },
  {
   "cell_type": "markdown",
   "id": "96b6128e",
   "metadata": {},
   "source": [
    "nombre_infected       123\n",
    "nombre_sain          2315\n",
    "nombre_exposed         66\n",
    "nombre_recovered    17496\n",
    "Name: 87, dtype: int64"
   ]
  },
  {
   "cell_type": "markdown",
   "id": "23ea753e",
   "metadata": {},
   "source": [
    "nombre_infected       125\n",
    "nombre_sain          2373\n",
    "nombre_exposed         69\n",
    "nombre_recovered    17433\n",
    "Name: 88, dtype: int64"
   ]
  },
  {
   "cell_type": "markdown",
   "id": "2d83e8ac",
   "metadata": {},
   "source": [
    "nombre_infected       122\n",
    "nombre_sain          2433\n",
    "nombre_exposed         66\n",
    "nombre_recovered    17379\n",
    "Name: 89, dtype: int64"
   ]
  },
  {
   "cell_type": "markdown",
   "id": "3825fe08",
   "metadata": {},
   "source": [
    "nombre_infected       122\n",
    "nombre_sain          2486\n",
    "nombre_exposed         69\n",
    "nombre_recovered    17323\n",
    "Name: 90, dtype: int64"
   ]
  },
  {
   "cell_type": "markdown",
   "id": "b1b31fc7",
   "metadata": {},
   "source": [
    "nombre_infected       121\n",
    "nombre_sain          2525\n",
    "nombre_exposed         78\n",
    "nombre_recovered    17276\n",
    "Name: 91, dtype: int64"
   ]
  },
  {
   "cell_type": "markdown",
   "id": "a7c4ce33",
   "metadata": {},
   "source": [
    "nombre_infected       126\n",
    "nombre_sain          2591\n",
    "nombre_exposed         68\n",
    "nombre_recovered    17215\n",
    "Name: 92, dtype: int64"
   ]
  },
  {
   "cell_type": "markdown",
   "id": "713d3024",
   "metadata": {},
   "source": [
    "nombre_infected       118\n",
    "nombre_sain          2646\n",
    "nombre_exposed         71\n",
    "nombre_recovered    17165\n",
    "Name: 93, dtype: int64"
   ]
  },
  {
   "cell_type": "markdown",
   "id": "d49ec85a",
   "metadata": {},
   "source": [
    "nombre_infected       122\n",
    "nombre_sain          2686\n",
    "nombre_exposed         69\n",
    "nombre_recovered    17123\n",
    "Name: 94, dtype: int64"
   ]
  },
  {
   "cell_type": "markdown",
   "id": "3137578d",
   "metadata": {},
   "source": [
    "nombre_infected       125\n",
    "nombre_sain          2750\n",
    "nombre_exposed         68\n",
    "nombre_recovered    17057\n",
    "Name: 95, dtype: int64"
   ]
  },
  {
   "cell_type": "markdown",
   "id": "021d5136",
   "metadata": {},
   "source": [
    "nombre_infected       128\n",
    "nombre_sain          2805\n",
    "nombre_exposed         78\n",
    "nombre_recovered    16989\n",
    "Name: 96, dtype: int64"
   ]
  },
  {
   "cell_type": "markdown",
   "id": "e6de3495",
   "metadata": {},
   "source": [
    "nombre_infected       121\n",
    "nombre_sain          2852\n",
    "nombre_exposed         87\n",
    "nombre_recovered    16940\n",
    "Name: 97, dtype: int64"
   ]
  },
  {
   "cell_type": "markdown",
   "id": "f106ebc8",
   "metadata": {},
   "source": [
    "nombre_infected       122\n",
    "nombre_sain          2885\n",
    "nombre_exposed         88\n",
    "nombre_recovered    16905\n",
    "Name: 98, dtype: int64"
   ]
  },
  {
   "cell_type": "markdown",
   "id": "2146e0c6",
   "metadata": {},
   "source": [
    "nombre_infected       129\n",
    "nombre_sain          2937\n",
    "nombre_exposed         85\n",
    "nombre_recovered    16849\n",
    "Name: 99, dtype: int64"
   ]
  },
  {
   "cell_type": "markdown",
   "id": "e391eaf4",
   "metadata": {},
   "source": [
    "nombre_infected       129\n",
    "nombre_sain          2979\n",
    "nombre_exposed         87\n",
    "nombre_recovered    16805\n",
    "Name: 100, dtype: int64"
   ]
  },
  {
   "cell_type": "markdown",
   "id": "f84bf38f",
   "metadata": {},
   "source": [
    "nombre_infected       124\n",
    "nombre_sain          3025\n",
    "nombre_exposed         82\n",
    "nombre_recovered    16769\n",
    "Name: 101, dtype: int64"
   ]
  },
  {
   "cell_type": "markdown",
   "id": "45b0a00a",
   "metadata": {},
   "source": [
    "nombre_infected       138\n",
    "nombre_sain          3064\n",
    "nombre_exposed         80\n",
    "nombre_recovered    16718\n",
    "Name: 102, dtype: int64"
   ]
  },
  {
   "cell_type": "markdown",
   "id": "40add387",
   "metadata": {},
   "source": [
    "nombre_infected       134\n",
    "nombre_sain          3084\n",
    "nombre_exposed         87\n",
    "nombre_recovered    16695\n",
    "Name: 103, dtype: int64"
   ]
  },
  {
   "cell_type": "markdown",
   "id": "a397735d",
   "metadata": {},
   "source": [
    "nombre_infected       136\n",
    "nombre_sain          3105\n",
    "nombre_exposed         98\n",
    "nombre_recovered    16661\n",
    "Name: 104, dtype: int64"
   ]
  },
  {
   "cell_type": "markdown",
   "id": "0016fb69",
   "metadata": {},
   "source": [
    "nombre_infected       137\n",
    "nombre_sain          3137\n",
    "nombre_exposed        108\n",
    "nombre_recovered    16618\n",
    "Name: 105, dtype: int64"
   ]
  },
  {
   "cell_type": "markdown",
   "id": "6f7cb2d7",
   "metadata": {},
   "source": [
    "nombre_infected       144\n",
    "nombre_sain          3175\n",
    "nombre_exposed        103\n",
    "nombre_recovered    16578\n",
    "Name: 106, dtype: int64"
   ]
  },
  {
   "cell_type": "markdown",
   "id": "688e734d",
   "metadata": {},
   "source": [
    "nombre_infected       145\n",
    "nombre_sain          3197\n",
    "nombre_exposed        103\n",
    "nombre_recovered    16555\n",
    "Name: 107, dtype: int64"
   ]
  },
  {
   "cell_type": "markdown",
   "id": "6fb6cb07",
   "metadata": {},
   "source": [
    "nombre_infected       150\n",
    "nombre_sain          3226\n",
    "nombre_exposed        102\n",
    "nombre_recovered    16522\n",
    "Name: 108, dtype: int64"
   ]
  },
  {
   "cell_type": "markdown",
   "id": "a76e4634",
   "metadata": {},
   "source": [
    "nombre_infected       158\n",
    "nombre_sain          3249\n",
    "nombre_exposed        101\n",
    "nombre_recovered    16492\n",
    "Name: 109, dtype: int64"
   ]
  },
  {
   "cell_type": "markdown",
   "id": "874caab8",
   "metadata": {},
   "source": [
    "nombre_infected       155\n",
    "nombre_sain          3264\n",
    "nombre_exposed        119\n",
    "nombre_recovered    16462\n",
    "Name: 110, dtype: int64"
   ]
  },
  {
   "cell_type": "markdown",
   "id": "9e31bc4e",
   "metadata": {},
   "source": [
    "nombre_infected       155\n",
    "nombre_sain          3276\n",
    "nombre_exposed        121\n",
    "nombre_recovered    16448\n",
    "Name: 111, dtype: int64"
   ]
  },
  {
   "cell_type": "markdown",
   "id": "6feaf956",
   "metadata": {},
   "source": [
    "nombre_infected       166\n",
    "nombre_sain          3296\n",
    "nombre_exposed        119\n",
    "nombre_recovered    16419\n",
    "Name: 112, dtype: int64"
   ]
  },
  {
   "cell_type": "markdown",
   "id": "c5481cda",
   "metadata": {},
   "source": [
    "nombre_infected       174\n",
    "nombre_sain          3313\n",
    "nombre_exposed        129\n",
    "nombre_recovered    16384\n",
    "Name: 113, dtype: int64"
   ]
  },
  {
   "cell_type": "markdown",
   "id": "18d8e87f",
   "metadata": {},
   "source": [
    "nombre_infected       184\n",
    "nombre_sain          3329\n",
    "nombre_exposed        129\n",
    "nombre_recovered    16358\n",
    "Name: 114, dtype: int64"
   ]
  },
  {
   "cell_type": "markdown",
   "id": "435ff727",
   "metadata": {},
   "source": [
    "nombre_infected       196\n",
    "nombre_sain          3342\n",
    "nombre_exposed        131\n",
    "nombre_recovered    16331\n",
    "Name: 115, dtype: int64"
   ]
  },
  {
   "cell_type": "markdown",
   "id": "234030b3",
   "metadata": {},
   "source": [
    "nombre_infected       192\n",
    "nombre_sain          3345\n",
    "nombre_exposed        152\n",
    "nombre_recovered    16311\n",
    "Name: 116, dtype: int64"
   ]
  },
  {
   "cell_type": "markdown",
   "id": "240a5e5b",
   "metadata": {},
   "source": [
    "nombre_infected       200\n",
    "nombre_sain          3363\n",
    "nombre_exposed        154\n",
    "nombre_recovered    16283\n",
    "Name: 117, dtype: int64"
   ]
  },
  {
   "cell_type": "markdown",
   "id": "7a545b10",
   "metadata": {},
   "source": [
    "nombre_infected       210\n",
    "nombre_sain          3389\n",
    "nombre_exposed        157\n",
    "nombre_recovered    16244\n",
    "Name: 118, dtype: int64"
   ]
  },
  {
   "cell_type": "markdown",
   "id": "9a1a4108",
   "metadata": {},
   "source": [
    "nombre_infected       230\n",
    "nombre_sain          3397\n",
    "nombre_exposed        170\n",
    "nombre_recovered    16203\n",
    "Name: 119, dtype: int64"
   ]
  },
  {
   "cell_type": "markdown",
   "id": "326f0129",
   "metadata": {},
   "source": [
    "nombre_infected       244\n",
    "nombre_sain          3396\n",
    "nombre_exposed        178\n",
    "nombre_recovered    16182\n",
    "Name: 120, dtype: int64"
   ]
  },
  {
   "cell_type": "markdown",
   "id": "ba4573c6",
   "metadata": {},
   "source": [
    "nombre_infected       265\n",
    "nombre_sain          3406\n",
    "nombre_exposed        181\n",
    "nombre_recovered    16148\n",
    "Name: 121, dtype: int64"
   ]
  },
  {
   "cell_type": "markdown",
   "id": "2b68a8ca",
   "metadata": {},
   "source": [
    "nombre_infected       274\n",
    "nombre_sain          3396\n",
    "nombre_exposed        190\n",
    "nombre_recovered    16140\n",
    "Name: 122, dtype: int64"
   ]
  },
  {
   "cell_type": "markdown",
   "id": "e8ba8266",
   "metadata": {},
   "source": [
    "nombre_infected       275\n",
    "nombre_sain          3398\n",
    "nombre_exposed        207\n",
    "nombre_recovered    16120\n",
    "Name: 123, dtype: int64"
   ]
  },
  {
   "cell_type": "markdown",
   "id": "1c6a0f9e",
   "metadata": {},
   "source": [
    "nombre_infected       285\n",
    "nombre_sain          3404\n",
    "nombre_exposed        214\n",
    "nombre_recovered    16097\n",
    "Name: 124, dtype: int64"
   ]
  },
  {
   "cell_type": "markdown",
   "id": "e2ee75ac",
   "metadata": {},
   "source": [
    "nombre_infected       305\n",
    "nombre_sain          3407\n",
    "nombre_exposed        215\n",
    "nombre_recovered    16073\n",
    "Name: 125, dtype: int64"
   ]
  },
  {
   "cell_type": "markdown",
   "id": "1886a210",
   "metadata": {},
   "source": [
    "nombre_infected       323\n",
    "nombre_sain          3403\n",
    "nombre_exposed        222\n",
    "nombre_recovered    16052\n",
    "Name: 126, dtype: int64"
   ]
  },
  {
   "cell_type": "markdown",
   "id": "cfcfffbc",
   "metadata": {},
   "source": [
    "nombre_infected       343\n",
    "nombre_sain          3372\n",
    "nombre_exposed        251\n",
    "nombre_recovered    16034\n",
    "Name: 127, dtype: int64"
   ]
  },
  {
   "cell_type": "markdown",
   "id": "590c08e2",
   "metadata": {},
   "source": [
    "nombre_infected       357\n",
    "nombre_sain          3327\n",
    "nombre_exposed        283\n",
    "nombre_recovered    16033\n",
    "Name: 128, dtype: int64"
   ]
  },
  {
   "cell_type": "markdown",
   "id": "87ea0cbd",
   "metadata": {},
   "source": [
    "nombre_infected       372\n",
    "nombre_sain          3314\n",
    "nombre_exposed        285\n",
    "nombre_recovered    16029\n",
    "Name: 129, dtype: int64"
   ]
  },
  {
   "cell_type": "markdown",
   "id": "0d79ced3",
   "metadata": {},
   "source": [
    "nombre_infected       407\n",
    "nombre_sain          3298\n",
    "nombre_exposed        271\n",
    "nombre_recovered    16024\n",
    "Name: 130, dtype: int64"
   ]
  },
  {
   "cell_type": "markdown",
   "id": "61070c2d",
   "metadata": {},
   "source": [
    "nombre_infected       432\n",
    "nombre_sain          3261\n",
    "nombre_exposed        295\n",
    "nombre_recovered    16012\n",
    "Name: 131, dtype: int64"
   ]
  },
  {
   "cell_type": "markdown",
   "id": "516a8595",
   "metadata": {},
   "source": [
    "nombre_infected       431\n",
    "nombre_sain          3219\n",
    "nombre_exposed        323\n",
    "nombre_recovered    16027\n",
    "Name: 132, dtype: int64"
   ]
  },
  {
   "cell_type": "markdown",
   "id": "c3ac8167",
   "metadata": {},
   "source": [
    "nombre_infected       459\n",
    "nombre_sain          3210\n",
    "nombre_exposed        321\n",
    "nombre_recovered    16010\n",
    "Name: 133, dtype: int64"
   ]
  },
  {
   "cell_type": "markdown",
   "id": "bd9cbc82",
   "metadata": {},
   "source": [
    "nombre_infected       485\n",
    "nombre_sain          3177\n",
    "nombre_exposed        339\n",
    "nombre_recovered    15999\n",
    "Name: 134, dtype: int64"
   ]
  },
  {
   "cell_type": "markdown",
   "id": "1994a40c",
   "metadata": {},
   "source": [
    "nombre_infected       527\n",
    "nombre_sain          3147\n",
    "nombre_exposed        342\n",
    "nombre_recovered    15984\n",
    "Name: 135, dtype: int64"
   ]
  },
  {
   "cell_type": "markdown",
   "id": "f03159d2",
   "metadata": {},
   "source": [
    "nombre_infected       548\n",
    "nombre_sain          3112\n",
    "nombre_exposed        365\n",
    "nombre_recovered    15975\n",
    "Name: 136, dtype: int64"
   ]
  },
  {
   "cell_type": "markdown",
   "id": "0e6afee0",
   "metadata": {},
   "source": [
    "nombre_infected       577\n",
    "nombre_sain          3076\n",
    "nombre_exposed        373\n",
    "nombre_recovered    15974\n",
    "Name: 137, dtype: int64"
   ]
  },
  {
   "cell_type": "markdown",
   "id": "13d09c07",
   "metadata": {},
   "source": [
    "nombre_infected       587\n",
    "nombre_sain          3041\n",
    "nombre_exposed        394\n",
    "nombre_recovered    15978\n",
    "Name: 138, dtype: int64"
   ]
  },
  {
   "cell_type": "markdown",
   "id": "7f82c9be",
   "metadata": {},
   "source": [
    "nombre_infected       617\n",
    "nombre_sain          2987\n",
    "nombre_exposed        410\n",
    "nombre_recovered    15986\n",
    "Name: 139, dtype: int64"
   ]
  },
  {
   "cell_type": "markdown",
   "id": "a77dd175",
   "metadata": {},
   "source": [
    "nombre_infected       637\n",
    "nombre_sain          2932\n",
    "nombre_exposed        436\n",
    "nombre_recovered    15995\n",
    "Name: 140, dtype: int64"
   ]
  },
  {
   "cell_type": "markdown",
   "id": "b009191d",
   "metadata": {},
   "source": [
    "nombre_infected       653\n",
    "nombre_sain          2868\n",
    "nombre_exposed        464\n",
    "nombre_recovered    16015\n",
    "Name: 141, dtype: int64"
   ]
  },
  {
   "cell_type": "markdown",
   "id": "3e21c947",
   "metadata": {},
   "source": [
    "nombre_infected       690\n",
    "nombre_sain          2835\n",
    "nombre_exposed        466\n",
    "nombre_recovered    16009\n",
    "Name: 142, dtype: int64"
   ]
  },
  {
   "cell_type": "markdown",
   "id": "754f5d34",
   "metadata": {},
   "source": [
    "nombre_infected       719\n",
    "nombre_sain          2802\n",
    "nombre_exposed        488\n",
    "nombre_recovered    15991\n",
    "Name: 143, dtype: int64"
   ]
  },
  {
   "cell_type": "markdown",
   "id": "4b6eda9f",
   "metadata": {},
   "source": [
    "nombre_infected       748\n",
    "nombre_sain          2728\n",
    "nombre_exposed        515\n",
    "nombre_recovered    16009\n",
    "Name: 144, dtype: int64"
   ]
  },
  {
   "cell_type": "markdown",
   "id": "822bbbd1",
   "metadata": {},
   "source": [
    "nombre_infected       779\n",
    "nombre_sain          2682\n",
    "nombre_exposed        520\n",
    "nombre_recovered    16019\n",
    "Name: 145, dtype: int64"
   ]
  },
  {
   "cell_type": "markdown",
   "id": "898c8083",
   "metadata": {},
   "source": [
    "nombre_infected       821\n",
    "nombre_sain          2620\n",
    "nombre_exposed        513\n",
    "nombre_recovered    16046\n",
    "Name: 146, dtype: int64"
   ]
  },
  {
   "cell_type": "markdown",
   "id": "0a3850cf",
   "metadata": {},
   "source": [
    "nombre_infected       863\n",
    "nombre_sain          2577\n",
    "nombre_exposed        505\n",
    "nombre_recovered    16055\n",
    "Name: 147, dtype: int64"
   ]
  },
  {
   "cell_type": "markdown",
   "id": "00aeefcb",
   "metadata": {},
   "source": [
    "nombre_infected       868\n",
    "nombre_sain          2541\n",
    "nombre_exposed        518\n",
    "nombre_recovered    16073\n",
    "Name: 148, dtype: int64"
   ]
  },
  {
   "cell_type": "markdown",
   "id": "957e4d82",
   "metadata": {},
   "source": [
    "nombre_infected       890\n",
    "nombre_sain          2456\n",
    "nombre_exposed        564\n",
    "nombre_recovered    16090\n",
    "Name: 149, dtype: int64"
   ]
  },
  {
   "cell_type": "markdown",
   "id": "4b55df10",
   "metadata": {},
   "source": [
    "nombre_infected       908\n",
    "nombre_sain          2399\n",
    "nombre_exposed        565\n",
    "nombre_recovered    16128\n",
    "Name: 150, dtype: int64"
   ]
  },
  {
   "cell_type": "markdown",
   "id": "db3e760f",
   "metadata": {},
   "source": [
    "nombre_infected       949\n",
    "nombre_sain          2357\n",
    "nombre_exposed        575\n",
    "nombre_recovered    16119\n",
    "Name: 151, dtype: int64"
   ]
  },
  {
   "cell_type": "markdown",
   "id": "5c0942fe",
   "metadata": {},
   "source": [
    "nombre_infected       977\n",
    "nombre_sain          2316\n",
    "nombre_exposed        567\n",
    "nombre_recovered    16140\n",
    "Name: 152, dtype: int64"
   ]
  },
  {
   "cell_type": "markdown",
   "id": "e800354b",
   "metadata": {},
   "source": [
    "nombre_infected       997\n",
    "nombre_sain          2269\n",
    "nombre_exposed        569\n",
    "nombre_recovered    16165\n",
    "Name: 153, dtype: int64"
   ]
  },
  {
   "cell_type": "markdown",
   "id": "305fa59f",
   "metadata": {},
   "source": [
    "nombre_infected      1030\n",
    "nombre_sain          2206\n",
    "nombre_exposed        559\n",
    "nombre_recovered    16205\n",
    "Name: 154, dtype: int64"
   ]
  },
  {
   "cell_type": "markdown",
   "id": "c3465eb2",
   "metadata": {},
   "source": [
    "nombre_infected      1050\n",
    "nombre_sain          2146\n",
    "nombre_exposed        560\n",
    "nombre_recovered    16244\n",
    "Name: 155, dtype: int64"
   ]
  },
  {
   "cell_type": "markdown",
   "id": "0ddfda20",
   "metadata": {},
   "source": [
    "nombre_infected      1041\n",
    "nombre_sain          2098\n",
    "nombre_exposed        564\n",
    "nombre_recovered    16297\n",
    "Name: 156, dtype: int64"
   ]
  },
  {
   "cell_type": "markdown",
   "id": "d422f6ac",
   "metadata": {},
   "source": [
    "nombre_infected      1049\n",
    "nombre_sain          2054\n",
    "nombre_exposed        565\n",
    "nombre_recovered    16332\n",
    "Name: 157, dtype: int64"
   ]
  },
  {
   "cell_type": "markdown",
   "id": "27391a25",
   "metadata": {},
   "source": [
    "nombre_infected      1080\n",
    "nombre_sain          2008\n",
    "nombre_exposed        555\n",
    "nombre_recovered    16357\n",
    "Name: 158, dtype: int64"
   ]
  },
  {
   "cell_type": "markdown",
   "id": "0c55decf",
   "metadata": {},
   "source": [
    "nombre_infected      1090\n",
    "nombre_sain          1955\n",
    "nombre_exposed        543\n",
    "nombre_recovered    16412\n",
    "Name: 159, dtype: int64"
   ]
  },
  {
   "cell_type": "markdown",
   "id": "9d5c7934",
   "metadata": {},
   "source": [
    "nombre_infected      1108\n",
    "nombre_sain          1925\n",
    "nombre_exposed        533\n",
    "nombre_recovered    16434\n",
    "Name: 160, dtype: int64"
   ]
  },
  {
   "cell_type": "markdown",
   "id": "1e867e20",
   "metadata": {},
   "source": [
    "nombre_infected      1097\n",
    "nombre_sain          1911\n",
    "nombre_exposed        519\n",
    "nombre_recovered    16473\n",
    "Name: 161, dtype: int64"
   ]
  },
  {
   "cell_type": "markdown",
   "id": "7bc5dd91",
   "metadata": {},
   "source": [
    "nombre_infected      1113\n",
    "nombre_sain          1874\n",
    "nombre_exposed        510\n",
    "nombre_recovered    16503\n",
    "Name: 162, dtype: int64"
   ]
  },
  {
   "cell_type": "markdown",
   "id": "d8296676",
   "metadata": {},
   "source": [
    "nombre_infected      1127\n",
    "nombre_sain          1821\n",
    "nombre_exposed        498\n",
    "nombre_recovered    16554\n",
    "Name: 163, dtype: int64"
   ]
  },
  {
   "cell_type": "markdown",
   "id": "c643bf21",
   "metadata": {},
   "source": [
    "nombre_infected      1121\n",
    "nombre_sain          1773\n",
    "nombre_exposed        523\n",
    "nombre_recovered    16583\n",
    "Name: 164, dtype: int64"
   ]
  },
  {
   "cell_type": "markdown",
   "id": "109517d3",
   "metadata": {},
   "source": [
    "nombre_infected      1114\n",
    "nombre_sain          1764\n",
    "nombre_exposed        523\n",
    "nombre_recovered    16599\n",
    "Name: 165, dtype: int64"
   ]
  },
  {
   "cell_type": "markdown",
   "id": "b218f034",
   "metadata": {},
   "source": [
    "nombre_infected      1084\n",
    "nombre_sain          1765\n",
    "nombre_exposed        503\n",
    "nombre_recovered    16648\n",
    "Name: 166, dtype: int64"
   ]
  },
  {
   "cell_type": "markdown",
   "id": "d743fb54",
   "metadata": {},
   "source": [
    "nombre_infected      1087\n",
    "nombre_sain          1766\n",
    "nombre_exposed        486\n",
    "nombre_recovered    16661\n",
    "Name: 167, dtype: int64"
   ]
  },
  {
   "cell_type": "markdown",
   "id": "9ce1fe8a",
   "metadata": {},
   "source": [
    "nombre_infected      1076\n",
    "nombre_sain          1721\n",
    "nombre_exposed        491\n",
    "nombre_recovered    16712\n",
    "Name: 168, dtype: int64"
   ]
  },
  {
   "cell_type": "markdown",
   "id": "0a617723",
   "metadata": {},
   "source": [
    "nombre_infected      1062\n",
    "nombre_sain          1699\n",
    "nombre_exposed        485\n",
    "nombre_recovered    16754\n",
    "Name: 169, dtype: int64"
   ]
  },
  {
   "cell_type": "markdown",
   "id": "847e04f2",
   "metadata": {},
   "source": [
    "nombre_infected      1061\n",
    "nombre_sain          1673\n",
    "nombre_exposed        476\n",
    "nombre_recovered    16790\n",
    "Name: 170, dtype: int64"
   ]
  },
  {
   "cell_type": "markdown",
   "id": "f9f909f3",
   "metadata": {},
   "source": [
    "nombre_infected      1064\n",
    "nombre_sain          1643\n",
    "nombre_exposed        465\n",
    "nombre_recovered    16828\n",
    "Name: 171, dtype: int64"
   ]
  },
  {
   "cell_type": "markdown",
   "id": "85e4eb84",
   "metadata": {},
   "source": [
    "nombre_infected      1026\n",
    "nombre_sain          1633\n",
    "nombre_exposed        445\n",
    "nombre_recovered    16896\n",
    "Name: 172, dtype: int64"
   ]
  },
  {
   "cell_type": "markdown",
   "id": "3786a15b",
   "metadata": {},
   "source": [
    "nombre_infected      1007\n",
    "nombre_sain          1616\n",
    "nombre_exposed        450\n",
    "nombre_recovered    16927\n",
    "Name: 173, dtype: int64"
   ]
  },
  {
   "cell_type": "markdown",
   "id": "baebbcc0",
   "metadata": {},
   "source": [
    "nombre_infected      1004\n",
    "nombre_sain          1620\n",
    "nombre_exposed        430\n",
    "nombre_recovered    16946\n",
    "Name: 174, dtype: int64"
   ]
  },
  {
   "cell_type": "markdown",
   "id": "6401302a",
   "metadata": {},
   "source": [
    "nombre_infected       996\n",
    "nombre_sain          1597\n",
    "nombre_exposed        413\n",
    "nombre_recovered    16994\n",
    "Name: 175, dtype: int64"
   ]
  },
  {
   "cell_type": "markdown",
   "id": "dfc0bc6b",
   "metadata": {},
   "source": [
    "nombre_infected       958\n",
    "nombre_sain          1602\n",
    "nombre_exposed        404\n",
    "nombre_recovered    17036\n",
    "Name: 176, dtype: int64"
   ]
  },
  {
   "cell_type": "markdown",
   "id": "cf890b2d",
   "metadata": {},
   "source": [
    "nombre_infected       915\n",
    "nombre_sain          1601\n",
    "nombre_exposed        411\n",
    "nombre_recovered    17073\n",
    "Name: 177, dtype: int64"
   ]
  },
  {
   "cell_type": "markdown",
   "id": "aeb06fee",
   "metadata": {},
   "source": [
    "nombre_infected       907\n",
    "nombre_sain          1599\n",
    "nombre_exposed        419\n",
    "nombre_recovered    17075\n",
    "Name: 178, dtype: int64"
   ]
  },
  {
   "cell_type": "markdown",
   "id": "10a7649f",
   "metadata": {},
   "source": [
    "nombre_infected       897\n",
    "nombre_sain          1611\n",
    "nombre_exposed        390\n",
    "nombre_recovered    17102\n",
    "Name: 179, dtype: int64"
   ]
  },
  {
   "cell_type": "markdown",
   "id": "3275f33a",
   "metadata": {},
   "source": [
    "nombre_infected       897\n",
    "nombre_sain          1604\n",
    "nombre_exposed        375\n",
    "nombre_recovered    17124\n",
    "Name: 180, dtype: int64"
   ]
  },
  {
   "cell_type": "markdown",
   "id": "bba6e911",
   "metadata": {},
   "source": [
    "nombre_infected       874\n",
    "nombre_sain          1609\n",
    "nombre_exposed        395\n",
    "nombre_recovered    17122\n",
    "Name: 181, dtype: int64"
   ]
  },
  {
   "cell_type": "markdown",
   "id": "f61d3edb",
   "metadata": {},
   "source": [
    "nombre_infected       847\n",
    "nombre_sain          1635\n",
    "nombre_exposed        379\n",
    "nombre_recovered    17139\n",
    "Name: 182, dtype: int64"
   ]
  },
  {
   "cell_type": "markdown",
   "id": "98161e7e",
   "metadata": {},
   "source": [
    "nombre_infected       853\n",
    "nombre_sain          1615\n",
    "nombre_exposed        379\n",
    "nombre_recovered    17153\n",
    "Name: 183, dtype: int64"
   ]
  },
  {
   "cell_type": "markdown",
   "id": "aca1237b",
   "metadata": {},
   "source": [
    "nombre_infected       861\n",
    "nombre_sain          1639\n",
    "nombre_exposed        341\n",
    "nombre_recovered    17159\n",
    "Name: 184, dtype: int64"
   ]
  },
  {
   "cell_type": "markdown",
   "id": "ea633b5f",
   "metadata": {},
   "source": [
    "nombre_infected       827\n",
    "nombre_sain          1655\n",
    "nombre_exposed        344\n",
    "nombre_recovered    17174\n",
    "Name: 185, dtype: int64"
   ]
  },
  {
   "cell_type": "markdown",
   "id": "cac618f0",
   "metadata": {},
   "source": [
    "nombre_infected       809\n",
    "nombre_sain          1674\n",
    "nombre_exposed        325\n",
    "nombre_recovered    17192\n",
    "Name: 186, dtype: int64"
   ]
  },
  {
   "cell_type": "markdown",
   "id": "a2de6046",
   "metadata": {},
   "source": [
    "nombre_infected       765\n",
    "nombre_sain          1701\n",
    "nombre_exposed        334\n",
    "nombre_recovered    17200\n",
    "Name: 187, dtype: int64"
   ]
  },
  {
   "cell_type": "markdown",
   "id": "4298b033",
   "metadata": {},
   "source": [
    "nombre_infected       738\n",
    "nombre_sain          1728\n",
    "nombre_exposed        322\n",
    "nombre_recovered    17212\n",
    "Name: 188, dtype: int64"
   ]
  },
  {
   "cell_type": "markdown",
   "id": "df541a3a",
   "metadata": {},
   "source": [
    "nombre_infected       743\n",
    "nombre_sain          1745\n",
    "nombre_exposed        302\n",
    "nombre_recovered    17210\n",
    "Name: 189, dtype: int64"
   ]
  },
  {
   "cell_type": "markdown",
   "id": "7b183fff",
   "metadata": {},
   "source": [
    "nombre_infected       718\n",
    "nombre_sain          1750\n",
    "nombre_exposed        310\n",
    "nombre_recovered    17222\n",
    "Name: 190, dtype: int64"
   ]
  },
  {
   "cell_type": "markdown",
   "id": "4d252a5f",
   "metadata": {},
   "source": [
    "nombre_infected       704\n",
    "nombre_sain          1801\n",
    "nombre_exposed        300\n",
    "nombre_recovered    17195\n",
    "Name: 191, dtype: int64"
   ]
  },
  {
   "cell_type": "markdown",
   "id": "7956fd4c",
   "metadata": {},
   "source": [
    "nombre_infected       665\n",
    "nombre_sain          1815\n",
    "nombre_exposed        300\n",
    "nombre_recovered    17220\n",
    "Name: 192, dtype: int64"
   ]
  },
  {
   "cell_type": "markdown",
   "id": "febb8a72",
   "metadata": {},
   "source": [
    "nombre_infected       651\n",
    "nombre_sain          1849\n",
    "nombre_exposed        289\n",
    "nombre_recovered    17211\n",
    "Name: 193, dtype: int64"
   ]
  },
  {
   "cell_type": "markdown",
   "id": "b524f26e",
   "metadata": {},
   "source": [
    "nombre_infected       639\n",
    "nombre_sain          1881\n",
    "nombre_exposed        283\n",
    "nombre_recovered    17197\n",
    "Name: 194, dtype: int64"
   ]
  },
  {
   "cell_type": "markdown",
   "id": "f15228be",
   "metadata": {},
   "source": [
    "nombre_infected       609\n",
    "nombre_sain          1904\n",
    "nombre_exposed        317\n",
    "nombre_recovered    17170\n",
    "Name: 195, dtype: int64"
   ]
  },
  {
   "cell_type": "markdown",
   "id": "ba2528c7",
   "metadata": {},
   "source": [
    "nombre_infected       606\n",
    "nombre_sain          1942\n",
    "nombre_exposed        320\n",
    "nombre_recovered    17132\n",
    "Name: 196, dtype: int64"
   ]
  },
  {
   "cell_type": "markdown",
   "id": "a9fd5e4a",
   "metadata": {},
   "source": [
    "nombre_infected       619\n",
    "nombre_sain          1971\n",
    "nombre_exposed        315\n",
    "nombre_recovered    17095\n",
    "Name: 197, dtype: int64"
   ]
  },
  {
   "cell_type": "markdown",
   "id": "74755dea",
   "metadata": {},
   "source": [
    "nombre_infected       604\n",
    "nombre_sain          2007\n",
    "nombre_exposed        320\n",
    "nombre_recovered    17069\n",
    "Name: 198, dtype: int64"
   ]
  },
  {
   "cell_type": "markdown",
   "id": "0cb900cf",
   "metadata": {},
   "source": [
    "nombre_infected       610\n",
    "nombre_sain          2035\n",
    "nombre_exposed        325\n",
    "nombre_recovered    17030\n",
    "Name: 199, dtype: int64"
   ]
  },
  {
   "cell_type": "markdown",
   "id": "e8f0cf35",
   "metadata": {},
   "source": [
    "nombre_infected       613\n",
    "nombre_sain          2071\n",
    "nombre_exposed        324\n",
    "nombre_recovered    16992\n",
    "Name: 200, dtype: int64"
   ]
  },
  {
   "cell_type": "markdown",
   "id": "efbd8a21",
   "metadata": {},
   "source": [
    "nombre_infected       612\n",
    "nombre_sain          2109\n",
    "nombre_exposed        324\n",
    "nombre_recovered    16955\n",
    "Name: 201, dtype: int64"
   ]
  },
  {
   "cell_type": "markdown",
   "id": "b272c95b",
   "metadata": {},
   "source": [
    "nombre_infected       619\n",
    "nombre_sain          2139\n",
    "nombre_exposed        316\n",
    "nombre_recovered    16926\n",
    "Name: 202, dtype: int64"
   ]
  },
  {
   "cell_type": "markdown",
   "id": "1ecd030b",
   "metadata": {},
   "source": [
    "nombre_infected       630\n",
    "nombre_sain          2165\n",
    "nombre_exposed        317\n",
    "nombre_recovered    16888\n",
    "Name: 203, dtype: int64"
   ]
  },
  {
   "cell_type": "markdown",
   "id": "2ce9b40f",
   "metadata": {},
   "source": [
    "nombre_infected       631\n",
    "nombre_sain          2207\n",
    "nombre_exposed        330\n",
    "nombre_recovered    16832\n",
    "Name: 204, dtype: int64"
   ]
  },
  {
   "cell_type": "markdown",
   "id": "2a2dc1af",
   "metadata": {},
   "source": [
    "nombre_infected       634\n",
    "nombre_sain          2211\n",
    "nombre_exposed        346\n",
    "nombre_recovered    16809\n",
    "Name: 205, dtype: int64"
   ]
  },
  {
   "cell_type": "markdown",
   "id": "86dbe305",
   "metadata": {},
   "source": [
    "nombre_infected       632\n",
    "nombre_sain          2228\n",
    "nombre_exposed        345\n",
    "nombre_recovered    16795\n",
    "Name: 206, dtype: int64"
   ]
  },
  {
   "cell_type": "markdown",
   "id": "ed0cb7bd",
   "metadata": {},
   "source": [
    "nombre_infected       637\n",
    "nombre_sain          2257\n",
    "nombre_exposed        335\n",
    "nombre_recovered    16771\n",
    "Name: 207, dtype: int64"
   ]
  },
  {
   "cell_type": "markdown",
   "id": "4f0737d5",
   "metadata": {},
   "source": [
    "nombre_infected       620\n",
    "nombre_sain          2288\n",
    "nombre_exposed        351\n",
    "nombre_recovered    16741\n",
    "Name: 208, dtype: int64"
   ]
  },
  {
   "cell_type": "markdown",
   "id": "12a37687",
   "metadata": {},
   "source": [
    "nombre_infected       628\n",
    "nombre_sain          2341\n",
    "nombre_exposed        345\n",
    "nombre_recovered    16686\n",
    "Name: 209, dtype: int64"
   ]
  },
  {
   "cell_type": "markdown",
   "id": "3b203498",
   "metadata": {},
   "source": [
    "nombre_infected       624\n",
    "nombre_sain          2364\n",
    "nombre_exposed        352\n",
    "nombre_recovered    16660\n",
    "Name: 210, dtype: int64"
   ]
  },
  {
   "cell_type": "markdown",
   "id": "539bf8f9",
   "metadata": {},
   "source": [
    "nombre_infected       628\n",
    "nombre_sain          2403\n",
    "nombre_exposed        357\n",
    "nombre_recovered    16612\n",
    "Name: 211, dtype: int64"
   ]
  },
  {
   "cell_type": "markdown",
   "id": "de31993a",
   "metadata": {},
   "source": [
    "nombre_infected       632\n",
    "nombre_sain          2426\n",
    "nombre_exposed        384\n",
    "nombre_recovered    16558\n",
    "Name: 212, dtype: int64"
   ]
  },
  {
   "cell_type": "markdown",
   "id": "2f314e56",
   "metadata": {},
   "source": [
    "nombre_infected       626\n",
    "nombre_sain          2440\n",
    "nombre_exposed        411\n",
    "nombre_recovered    16523\n",
    "Name: 213, dtype: int64"
   ]
  },
  {
   "cell_type": "markdown",
   "id": "afe77696",
   "metadata": {},
   "source": [
    "nombre_infected       632\n",
    "nombre_sain          2453\n",
    "nombre_exposed        422\n",
    "nombre_recovered    16493\n",
    "Name: 214, dtype: int64"
   ]
  },
  {
   "cell_type": "markdown",
   "id": "8d7c84d1",
   "metadata": {},
   "source": [
    "nombre_infected       647\n",
    "nombre_sain          2468\n",
    "nombre_exposed        417\n",
    "nombre_recovered    16468\n",
    "Name: 215, dtype: int64"
   ]
  },
  {
   "cell_type": "markdown",
   "id": "43d10b04",
   "metadata": {},
   "source": [
    "nombre_infected       670\n",
    "nombre_sain          2491\n",
    "nombre_exposed        408\n",
    "nombre_recovered    16431\n",
    "Name: 216, dtype: int64"
   ]
  },
  {
   "cell_type": "markdown",
   "id": "2f33bfbb",
   "metadata": {},
   "source": [
    "nombre_infected       689\n",
    "nombre_sain          2493\n",
    "nombre_exposed        422\n",
    "nombre_recovered    16396\n",
    "Name: 217, dtype: int64"
   ]
  },
  {
   "cell_type": "markdown",
   "id": "7555c210",
   "metadata": {},
   "source": [
    "nombre_infected       710\n",
    "nombre_sain          2496\n",
    "nombre_exposed        424\n",
    "nombre_recovered    16370\n",
    "Name: 218, dtype: int64"
   ]
  },
  {
   "cell_type": "markdown",
   "id": "78e08602",
   "metadata": {},
   "source": [
    "nombre_infected       710\n",
    "nombre_sain          2482\n",
    "nombre_exposed        441\n",
    "nombre_recovered    16367\n",
    "Name: 219, dtype: int64"
   ]
  },
  {
   "cell_type": "markdown",
   "id": "541cc2cf",
   "metadata": {},
   "source": [
    "nombre_infected       710\n",
    "nombre_sain          2454\n",
    "nombre_exposed        448\n",
    "nombre_recovered    16388\n",
    "Name: 220, dtype: int64"
   ]
  },
  {
   "cell_type": "markdown",
   "id": "cb84c0cf",
   "metadata": {},
   "source": [
    "nombre_infected       735\n",
    "nombre_sain          2441\n",
    "nombre_exposed        416\n",
    "nombre_recovered    16408\n",
    "Name: 221, dtype: int64"
   ]
  },
  {
   "cell_type": "markdown",
   "id": "891cce38",
   "metadata": {},
   "source": [
    "nombre_infected       755\n",
    "nombre_sain          2435\n",
    "nombre_exposed        413\n",
    "nombre_recovered    16397\n",
    "Name: 222, dtype: int64"
   ]
  },
  {
   "cell_type": "markdown",
   "id": "58d6fa04",
   "metadata": {},
   "source": [
    "nombre_infected       767\n",
    "nombre_sain          2393\n",
    "nombre_exposed        437\n",
    "nombre_recovered    16403\n",
    "Name: 223, dtype: int64"
   ]
  },
  {
   "cell_type": "markdown",
   "id": "1539188e",
   "metadata": {},
   "source": [
    "nombre_infected       784\n",
    "nombre_sain          2365\n",
    "nombre_exposed        442\n",
    "nombre_recovered    16409\n",
    "Name: 224, dtype: int64"
   ]
  },
  {
   "cell_type": "markdown",
   "id": "b2b9ad44",
   "metadata": {},
   "source": [
    "nombre_infected       783\n",
    "nombre_sain          2325\n",
    "nombre_exposed        454\n",
    "nombre_recovered    16438\n",
    "Name: 225, dtype: int64"
   ]
  },
  {
   "cell_type": "markdown",
   "id": "d415d8bf",
   "metadata": {},
   "source": [
    "nombre_infected       816\n",
    "nombre_sain          2275\n",
    "nombre_exposed        464\n",
    "nombre_recovered    16445\n",
    "Name: 226, dtype: int64"
   ]
  },
  {
   "cell_type": "markdown",
   "id": "c0ea7a21",
   "metadata": {},
   "source": [
    "nombre_infected       834\n",
    "nombre_sain          2278\n",
    "nombre_exposed        466\n",
    "nombre_recovered    16422\n",
    "Name: 227, dtype: int64"
   ]
  },
  {
   "cell_type": "markdown",
   "id": "16d58c5e",
   "metadata": {},
   "source": [
    "nombre_infected       862\n",
    "nombre_sain          2236\n",
    "nombre_exposed        465\n",
    "nombre_recovered    16437\n",
    "Name: 228, dtype: int64"
   ]
  },
  {
   "cell_type": "markdown",
   "id": "72ae4b4e",
   "metadata": {},
   "source": [
    "nombre_infected       857\n",
    "nombre_sain          2219\n",
    "nombre_exposed        471\n",
    "nombre_recovered    16453\n",
    "Name: 229, dtype: int64"
   ]
  },
  {
   "cell_type": "markdown",
   "id": "014b3179",
   "metadata": {},
   "source": [
    "nombre_infected       853\n",
    "nombre_sain          2209\n",
    "nombre_exposed        482\n",
    "nombre_recovered    16456\n",
    "Name: 230, dtype: int64"
   ]
  },
  {
   "cell_type": "markdown",
   "id": "0ac315d9",
   "metadata": {},
   "source": [
    "nombre_infected       854\n",
    "nombre_sain          2156\n",
    "nombre_exposed        492\n",
    "nombre_recovered    16498\n",
    "Name: 231, dtype: int64"
   ]
  },
  {
   "cell_type": "markdown",
   "id": "1eab7f48",
   "metadata": {},
   "source": [
    "nombre_infected       836\n",
    "nombre_sain          2114\n",
    "nombre_exposed        512\n",
    "nombre_recovered    16538\n",
    "Name: 232, dtype: int64"
   ]
  },
  {
   "cell_type": "markdown",
   "id": "9faa1a0d",
   "metadata": {},
   "source": [
    "nombre_infected       846\n",
    "nombre_sain          2111\n",
    "nombre_exposed        500\n",
    "nombre_recovered    16543\n",
    "Name: 233, dtype: int64"
   ]
  },
  {
   "cell_type": "markdown",
   "id": "9b70c85e",
   "metadata": {},
   "source": [
    "nombre_infected       856\n",
    "nombre_sain          2099\n",
    "nombre_exposed        513\n",
    "nombre_recovered    16532\n",
    "Name: 234, dtype: int64"
   ]
  },
  {
   "cell_type": "markdown",
   "id": "4d318a33",
   "metadata": {},
   "source": [
    "nombre_infected       867\n",
    "nombre_sain          2100\n",
    "nombre_exposed        494\n",
    "nombre_recovered    16539\n",
    "Name: 235, dtype: int64"
   ]
  },
  {
   "cell_type": "markdown",
   "id": "5cad1c50",
   "metadata": {},
   "source": [
    "nombre_infected       868\n",
    "nombre_sain          2066\n",
    "nombre_exposed        494\n",
    "nombre_recovered    16572\n",
    "Name: 236, dtype: int64"
   ]
  },
  {
   "cell_type": "markdown",
   "id": "a84904fe",
   "metadata": {},
   "source": [
    "nombre_infected       868\n",
    "nombre_sain          2043\n",
    "nombre_exposed        492\n",
    "nombre_recovered    16597\n",
    "Name: 237, dtype: int64"
   ]
  },
  {
   "cell_type": "markdown",
   "id": "85ee33e2",
   "metadata": {},
   "source": [
    "nombre_infected       830\n",
    "nombre_sain          2033\n",
    "nombre_exposed        503\n",
    "nombre_recovered    16634\n",
    "Name: 238, dtype: int64"
   ]
  },
  {
   "cell_type": "markdown",
   "id": "5b09182a",
   "metadata": {},
   "source": [
    "nombre_infected       843\n",
    "nombre_sain          2010\n",
    "nombre_exposed        483\n",
    "nombre_recovered    16664\n",
    "Name: 239, dtype: int64"
   ]
  },
  {
   "cell_type": "markdown",
   "id": "c942d6b8",
   "metadata": {},
   "source": [
    "nombre_infected       891\n",
    "nombre_sain          2015\n",
    "nombre_exposed        417\n",
    "nombre_recovered    16677\n",
    "Name: 240, dtype: int64"
   ]
  },
  {
   "cell_type": "markdown",
   "id": "fee293a9",
   "metadata": {},
   "source": [
    "nombre_infected       898\n",
    "nombre_sain          1982\n",
    "nombre_exposed        423\n",
    "nombre_recovered    16697\n",
    "Name: 241, dtype: int64"
   ]
  },
  {
   "cell_type": "markdown",
   "id": "0323fce5",
   "metadata": {},
   "source": [
    "nombre_infected       875\n",
    "nombre_sain          1962\n",
    "nombre_exposed        419\n",
    "nombre_recovered    16744\n",
    "Name: 242, dtype: int64"
   ]
  },
  {
   "cell_type": "markdown",
   "id": "66e3eda4",
   "metadata": {},
   "source": [
    "nombre_infected       848\n",
    "nombre_sain          1949\n",
    "nombre_exposed        413\n",
    "nombre_recovered    16790\n",
    "Name: 243, dtype: int64"
   ]
  },
  {
   "cell_type": "markdown",
   "id": "2b6a5852",
   "metadata": {},
   "source": [
    "nombre_infected       843\n",
    "nombre_sain          1952\n",
    "nombre_exposed        406\n",
    "nombre_recovered    16799\n",
    "Name: 244, dtype: int64"
   ]
  },
  {
   "cell_type": "markdown",
   "id": "33b83fa9",
   "metadata": {},
   "source": [
    "nombre_infected       835\n",
    "nombre_sain          1914\n",
    "nombre_exposed        413\n",
    "nombre_recovered    16838\n",
    "Name: 245, dtype: int64"
   ]
  },
  {
   "cell_type": "markdown",
   "id": "2ea0ac21",
   "metadata": {},
   "source": [
    "nombre_infected       834\n",
    "nombre_sain          1887\n",
    "nombre_exposed        408\n",
    "nombre_recovered    16871\n",
    "Name: 246, dtype: int64"
   ]
  },
  {
   "cell_type": "markdown",
   "id": "e37308fc",
   "metadata": {},
   "source": [
    "nombre_infected       807\n",
    "nombre_sain          1887\n",
    "nombre_exposed        401\n",
    "nombre_recovered    16905\n",
    "Name: 247, dtype: int64"
   ]
  },
  {
   "cell_type": "markdown",
   "id": "49cec4ff",
   "metadata": {},
   "source": [
    "nombre_infected       825\n",
    "nombre_sain          1881\n",
    "nombre_exposed        400\n",
    "nombre_recovered    16894\n",
    "Name: 248, dtype: int64"
   ]
  },
  {
   "cell_type": "markdown",
   "id": "1bd91f1b",
   "metadata": {},
   "source": [
    "nombre_infected       821\n",
    "nombre_sain          1878\n",
    "nombre_exposed        397\n",
    "nombre_recovered    16904\n",
    "Name: 249, dtype: int64"
   ]
  },
  {
   "cell_type": "markdown",
   "id": "dc9c0e46",
   "metadata": {},
   "source": [
    "nombre_infected       794\n",
    "nombre_sain          1858\n",
    "nombre_exposed        406\n",
    "nombre_recovered    16942\n",
    "Name: 250, dtype: int64"
   ]
  },
  {
   "cell_type": "markdown",
   "id": "3d4be568",
   "metadata": {},
   "source": [
    "nombre_infected       805\n",
    "nombre_sain          1866\n",
    "nombre_exposed        395\n",
    "nombre_recovered    16934\n",
    "Name: 251, dtype: int64"
   ]
  },
  {
   "cell_type": "markdown",
   "id": "c6ca9272",
   "metadata": {},
   "source": [
    "nombre_infected       787\n",
    "nombre_sain          1861\n",
    "nombre_exposed        392\n",
    "nombre_recovered    16960\n",
    "Name: 252, dtype: int64"
   ]
  },
  {
   "cell_type": "markdown",
   "id": "44d8a742",
   "metadata": {},
   "source": [
    "nombre_infected       786\n",
    "nombre_sain          1842\n",
    "nombre_exposed        397\n",
    "nombre_recovered    16975\n",
    "Name: 253, dtype: int64"
   ]
  },
  {
   "cell_type": "markdown",
   "id": "db33ad0a",
   "metadata": {},
   "source": [
    "nombre_infected       799\n",
    "nombre_sain          1844\n",
    "nombre_exposed        390\n",
    "nombre_recovered    16967\n",
    "Name: 254, dtype: int64"
   ]
  },
  {
   "cell_type": "markdown",
   "id": "de847d2f",
   "metadata": {},
   "source": [
    "nombre_infected       808\n",
    "nombre_sain          1829\n",
    "nombre_exposed        388\n",
    "nombre_recovered    16975\n",
    "Name: 255, dtype: int64"
   ]
  },
  {
   "cell_type": "markdown",
   "id": "1bf54012",
   "metadata": {},
   "source": [
    "nombre_infected       821\n",
    "nombre_sain          1827\n",
    "nombre_exposed        373\n",
    "nombre_recovered    16979\n",
    "Name: 256, dtype: int64"
   ]
  },
  {
   "cell_type": "markdown",
   "id": "08e8da1c",
   "metadata": {},
   "source": [
    "nombre_infected       813\n",
    "nombre_sain          1850\n",
    "nombre_exposed        352\n",
    "nombre_recovered    16985\n",
    "Name: 257, dtype: int64"
   ]
  },
  {
   "cell_type": "markdown",
   "id": "baf3206d",
   "metadata": {},
   "source": [
    "nombre_infected       802\n",
    "nombre_sain          1862\n",
    "nombre_exposed        367\n",
    "nombre_recovered    16969\n",
    "Name: 258, dtype: int64"
   ]
  },
  {
   "cell_type": "markdown",
   "id": "de4a92d2",
   "metadata": {},
   "source": [
    "nombre_infected       782\n",
    "nombre_sain          1878\n",
    "nombre_exposed        373\n",
    "nombre_recovered    16967\n",
    "Name: 259, dtype: int64"
   ]
  },
  {
   "cell_type": "markdown",
   "id": "5bb749b1",
   "metadata": {},
   "source": [
    "nombre_infected       776\n",
    "nombre_sain          1891\n",
    "nombre_exposed        388\n",
    "nombre_recovered    16945\n",
    "Name: 260, dtype: int64"
   ]
  },
  {
   "cell_type": "markdown",
   "id": "64d1e708",
   "metadata": {},
   "source": [
    "nombre_infected       769\n",
    "nombre_sain          1896\n",
    "nombre_exposed        395\n",
    "nombre_recovered    16940\n",
    "Name: 261, dtype: int64"
   ]
  },
  {
   "cell_type": "markdown",
   "id": "4b215667",
   "metadata": {},
   "source": [
    "nombre_infected       774\n",
    "nombre_sain          1943\n",
    "nombre_exposed        381\n",
    "nombre_recovered    16902\n",
    "Name: 262, dtype: int64"
   ]
  },
  {
   "cell_type": "markdown",
   "id": "59306e69",
   "metadata": {},
   "source": [
    "nombre_infected       757\n",
    "nombre_sain          1973\n",
    "nombre_exposed        396\n",
    "nombre_recovered    16874\n",
    "Name: 263, dtype: int64"
   ]
  },
  {
   "cell_type": "markdown",
   "id": "69a6c78e",
   "metadata": {},
   "source": [
    "nombre_infected       745\n",
    "nombre_sain          2010\n",
    "nombre_exposed        384\n",
    "nombre_recovered    16861\n",
    "Name: 264, dtype: int64"
   ]
  },
  {
   "cell_type": "markdown",
   "id": "d19723c4",
   "metadata": {},
   "source": [
    "nombre_infected       772\n",
    "nombre_sain          2050\n",
    "nombre_exposed        360\n",
    "nombre_recovered    16818\n",
    "Name: 265, dtype: int64"
   ]
  },
  {
   "cell_type": "markdown",
   "id": "4d10c7cd",
   "metadata": {},
   "source": [
    "nombre_infected       782\n",
    "nombre_sain          2062\n",
    "nombre_exposed        382\n",
    "nombre_recovered    16774\n",
    "Name: 266, dtype: int64"
   ]
  },
  {
   "cell_type": "markdown",
   "id": "0429c726",
   "metadata": {},
   "source": [
    "nombre_infected       769\n",
    "nombre_sain          2101\n",
    "nombre_exposed        403\n",
    "nombre_recovered    16727\n",
    "Name: 267, dtype: int64"
   ]
  },
  {
   "cell_type": "markdown",
   "id": "da25be9c",
   "metadata": {},
   "source": [
    "nombre_infected       776\n",
    "nombre_sain          2141\n",
    "nombre_exposed        400\n",
    "nombre_recovered    16683\n",
    "Name: 268, dtype: int64"
   ]
  },
  {
   "cell_type": "markdown",
   "id": "cfc88a5f",
   "metadata": {},
   "source": [
    "nombre_infected       800\n",
    "nombre_sain          2165\n",
    "nombre_exposed        387\n",
    "nombre_recovered    16648\n",
    "Name: 269, dtype: int64"
   ]
  },
  {
   "cell_type": "markdown",
   "id": "9f8156c0",
   "metadata": {},
   "source": [
    "nombre_infected       798\n",
    "nombre_sain          2183\n",
    "nombre_exposed        397\n",
    "nombre_recovered    16622\n",
    "Name: 270, dtype: int64"
   ]
  },
  {
   "cell_type": "markdown",
   "id": "1c944ad5",
   "metadata": {},
   "source": [
    "nombre_infected       778\n",
    "nombre_sain          2210\n",
    "nombre_exposed        427\n",
    "nombre_recovered    16585\n",
    "Name: 271, dtype: int64"
   ]
  },
  {
   "cell_type": "markdown",
   "id": "f99bde9d",
   "metadata": {},
   "source": [
    "nombre_infected       770\n",
    "nombre_sain          2236\n",
    "nombre_exposed        444\n",
    "nombre_recovered    16550\n",
    "Name: 272, dtype: int64"
   ]
  },
  {
   "cell_type": "markdown",
   "id": "23139116",
   "metadata": {},
   "source": [
    "nombre_infected       768\n",
    "nombre_sain          2263\n",
    "nombre_exposed        468\n",
    "nombre_recovered    16501\n",
    "Name: 273, dtype: int64"
   ]
  },
  {
   "cell_type": "markdown",
   "id": "80323da6",
   "metadata": {},
   "source": [
    "nombre_infected       781\n",
    "nombre_sain          2273\n",
    "nombre_exposed        477\n",
    "nombre_recovered    16469\n",
    "Name: 274, dtype: int64"
   ]
  },
  {
   "cell_type": "markdown",
   "id": "c3a15a97",
   "metadata": {},
   "source": [
    "nombre_infected       800\n",
    "nombre_sain          2306\n",
    "nombre_exposed        462\n",
    "nombre_recovered    16432\n",
    "Name: 275, dtype: int64"
   ]
  },
  {
   "cell_type": "markdown",
   "id": "9eb47aa3",
   "metadata": {},
   "source": [
    "nombre_infected       804\n",
    "nombre_sain          2324\n",
    "nombre_exposed        462\n",
    "nombre_recovered    16410\n",
    "Name: 276, dtype: int64"
   ]
  },
  {
   "cell_type": "markdown",
   "id": "6cc2d060",
   "metadata": {},
   "source": [
    "nombre_infected       778\n",
    "nombre_sain          2320\n",
    "nombre_exposed        494\n",
    "nombre_recovered    16408\n",
    "Name: 277, dtype: int64"
   ]
  },
  {
   "cell_type": "markdown",
   "id": "b36cc282",
   "metadata": {},
   "source": [
    "nombre_infected       791\n",
    "nombre_sain          2350\n",
    "nombre_exposed        474\n",
    "nombre_recovered    16385\n",
    "Name: 278, dtype: int64"
   ]
  },
  {
   "cell_type": "markdown",
   "id": "e2951802",
   "metadata": {},
   "source": [
    "nombre_infected       777\n",
    "nombre_sain          2358\n",
    "nombre_exposed        492\n",
    "nombre_recovered    16373\n",
    "Name: 279, dtype: int64"
   ]
  },
  {
   "cell_type": "markdown",
   "id": "57600099",
   "metadata": {},
   "source": [
    "nombre_infected       786\n",
    "nombre_sain          2342\n",
    "nombre_exposed        499\n",
    "nombre_recovered    16373\n",
    "Name: 280, dtype: int64"
   ]
  },
  {
   "cell_type": "markdown",
   "id": "c3ff577b",
   "metadata": {},
   "source": [
    "nombre_infected       777\n",
    "nombre_sain          2348\n",
    "nombre_exposed        516\n",
    "nombre_recovered    16359\n",
    "Name: 281, dtype: int64"
   ]
  },
  {
   "cell_type": "markdown",
   "id": "c33cb41a",
   "metadata": {},
   "source": [
    "nombre_infected       796\n",
    "nombre_sain          2352\n",
    "nombre_exposed        494\n",
    "nombre_recovered    16358\n",
    "Name: 282, dtype: int64"
   ]
  },
  {
   "cell_type": "markdown",
   "id": "5c63756a",
   "metadata": {},
   "source": [
    "nombre_infected       835\n",
    "nombre_sain          2371\n",
    "nombre_exposed        487\n",
    "nombre_recovered    16307\n",
    "Name: 283, dtype: int64"
   ]
  },
  {
   "cell_type": "markdown",
   "id": "f54f95e6",
   "metadata": {},
   "source": [
    "nombre_infected       824\n",
    "nombre_sain          2360\n",
    "nombre_exposed        508\n",
    "nombre_recovered    16308\n",
    "Name: 284, dtype: int64"
   ]
  },
  {
   "cell_type": "markdown",
   "id": "7094610c",
   "metadata": {},
   "source": [
    "nombre_infected       838\n",
    "nombre_sain          2342\n",
    "nombre_exposed        517\n",
    "nombre_recovered    16303\n",
    "Name: 285, dtype: int64"
   ]
  },
  {
   "cell_type": "markdown",
   "id": "b7d5f4a8",
   "metadata": {},
   "source": [
    "nombre_infected       840\n",
    "nombre_sain          2301\n",
    "nombre_exposed        541\n",
    "nombre_recovered    16318\n",
    "Name: 286, dtype: int64"
   ]
  },
  {
   "cell_type": "markdown",
   "id": "edc7060f",
   "metadata": {},
   "source": [
    "nombre_infected       868\n",
    "nombre_sain          2294\n",
    "nombre_exposed        539\n",
    "nombre_recovered    16299\n",
    "Name: 287, dtype: int64"
   ]
  },
  {
   "cell_type": "markdown",
   "id": "528f6f4e",
   "metadata": {},
   "source": [
    "nombre_infected       874\n",
    "nombre_sain          2307\n",
    "nombre_exposed        533\n",
    "nombre_recovered    16286\n",
    "Name: 288, dtype: int64"
   ]
  },
  {
   "cell_type": "markdown",
   "id": "61e60a10",
   "metadata": {},
   "source": [
    "nombre_infected       897\n",
    "nombre_sain          2319\n",
    "nombre_exposed        492\n",
    "nombre_recovered    16292\n",
    "Name: 289, dtype: int64"
   ]
  },
  {
   "cell_type": "markdown",
   "id": "673c5210",
   "metadata": {},
   "source": [
    "nombre_infected       909\n",
    "nombre_sain          2320\n",
    "nombre_exposed        501\n",
    "nombre_recovered    16270\n",
    "Name: 290, dtype: int64"
   ]
  },
  {
   "cell_type": "markdown",
   "id": "6ea72b37",
   "metadata": {},
   "source": [
    "nombre_infected       903\n",
    "nombre_sain          2304\n",
    "nombre_exposed        535\n",
    "nombre_recovered    16258\n",
    "Name: 291, dtype: int64"
   ]
  },
  {
   "cell_type": "markdown",
   "id": "b12e0640",
   "metadata": {},
   "source": [
    "nombre_infected       911\n",
    "nombre_sain          2281\n",
    "nombre_exposed        555\n",
    "nombre_recovered    16253\n",
    "Name: 292, dtype: int64"
   ]
  },
  {
   "cell_type": "markdown",
   "id": "448c222e",
   "metadata": {},
   "source": [
    "nombre_infected       939\n",
    "nombre_sain          2278\n",
    "nombre_exposed        534\n",
    "nombre_recovered    16249\n",
    "Name: 293, dtype: int64"
   ]
  },
  {
   "cell_type": "markdown",
   "id": "19dcb0ff",
   "metadata": {},
   "source": [
    "nombre_infected       951\n",
    "nombre_sain          2267\n",
    "nombre_exposed        538\n",
    "nombre_recovered    16244\n",
    "Name: 294, dtype: int64"
   ]
  },
  {
   "cell_type": "markdown",
   "id": "0464c362",
   "metadata": {},
   "source": [
    "nombre_infected       963\n",
    "nombre_sain          2249\n",
    "nombre_exposed        538\n",
    "nombre_recovered    16250\n",
    "Name: 295, dtype: int64"
   ]
  },
  {
   "cell_type": "markdown",
   "id": "5605c41c",
   "metadata": {},
   "source": [
    "nombre_infected       980\n",
    "nombre_sain          2243\n",
    "nombre_exposed        529\n",
    "nombre_recovered    16248\n",
    "Name: 296, dtype: int64"
   ]
  },
  {
   "cell_type": "markdown",
   "id": "1c7296c6",
   "metadata": {},
   "source": [
    "nombre_infected       995\n",
    "nombre_sain          2244\n",
    "nombre_exposed        527\n",
    "nombre_recovered    16234\n",
    "Name: 297, dtype: int64"
   ]
  },
  {
   "cell_type": "markdown",
   "id": "33f7904d",
   "metadata": {},
   "source": [
    "nombre_infected       981\n",
    "nombre_sain          2243\n",
    "nombre_exposed        520\n",
    "nombre_recovered    16256\n",
    "Name: 298, dtype: int64"
   ]
  },
  {
   "cell_type": "markdown",
   "id": "72ccd873",
   "metadata": {},
   "source": [
    "nombre_infected       950\n",
    "nombre_sain          2211\n",
    "nombre_exposed        545\n",
    "nombre_recovered    16294\n",
    "Name: 299, dtype: int64"
   ]
  },
  {
   "cell_type": "markdown",
   "id": "37e0edfe",
   "metadata": {},
   "source": [
    "nombre_infected       986\n",
    "nombre_sain          2231\n",
    "nombre_exposed        524\n",
    "nombre_recovered    16259\n",
    "Name: 300, dtype: int64"
   ]
  },
  {
   "cell_type": "markdown",
   "id": "a5056364",
   "metadata": {},
   "source": [
    "nombre_infected       983\n",
    "nombre_sain          2228\n",
    "nombre_exposed        539\n",
    "nombre_recovered    16250\n",
    "Name: 301, dtype: int64"
   ]
  },
  {
   "cell_type": "markdown",
   "id": "6d5b858a",
   "metadata": {},
   "source": [
    "nombre_infected       977\n",
    "nombre_sain          2222\n",
    "nombre_exposed        538\n",
    "nombre_recovered    16263\n",
    "Name: 302, dtype: int64"
   ]
  },
  {
   "cell_type": "markdown",
   "id": "684cb0c8",
   "metadata": {},
   "source": [
    "nombre_infected      1001\n",
    "nombre_sain          2191\n",
    "nombre_exposed        552\n",
    "nombre_recovered    16256\n",
    "Name: 303, dtype: int64"
   ]
  },
  {
   "cell_type": "markdown",
   "id": "618044a7",
   "metadata": {},
   "source": [
    "nombre_infected      1000\n",
    "nombre_sain          2179\n",
    "nombre_exposed        560\n",
    "nombre_recovered    16261\n",
    "Name: 304, dtype: int64"
   ]
  },
  {
   "cell_type": "markdown",
   "id": "36db4c26",
   "metadata": {},
   "source": [
    "nombre_infected      1007\n",
    "nombre_sain          2207\n",
    "nombre_exposed        547\n",
    "nombre_recovered    16239\n",
    "Name: 305, dtype: int64"
   ]
  },
  {
   "cell_type": "markdown",
   "id": "efffce73",
   "metadata": {},
   "source": [
    "nombre_infected      1026\n",
    "nombre_sain          2205\n",
    "nombre_exposed        542\n",
    "nombre_recovered    16227\n",
    "Name: 306, dtype: int64"
   ]
  },
  {
   "cell_type": "markdown",
   "id": "6159d01f",
   "metadata": {},
   "source": [
    "nombre_infected      1015\n",
    "nombre_sain          2236\n",
    "nombre_exposed        549\n",
    "nombre_recovered    16200\n",
    "Name: 307, dtype: int64"
   ]
  },
  {
   "cell_type": "markdown",
   "id": "73149dcf",
   "metadata": {},
   "source": [
    "nombre_infected      1008\n",
    "nombre_sain          2239\n",
    "nombre_exposed        546\n",
    "nombre_recovered    16207\n",
    "Name: 308, dtype: int64"
   ]
  },
  {
   "cell_type": "markdown",
   "id": "9b1d30c9",
   "metadata": {},
   "source": [
    "nombre_infected       985\n",
    "nombre_sain          2259\n",
    "nombre_exposed        571\n",
    "nombre_recovered    16185\n",
    "Name: 309, dtype: int64"
   ]
  },
  {
   "cell_type": "markdown",
   "id": "53f19f9d",
   "metadata": {},
   "source": [
    "nombre_infected       980\n",
    "nombre_sain          2269\n",
    "nombre_exposed        564\n",
    "nombre_recovered    16187\n",
    "Name: 310, dtype: int64"
   ]
  },
  {
   "cell_type": "markdown",
   "id": "c1b355ee",
   "metadata": {},
   "source": [
    "nombre_infected       985\n",
    "nombre_sain          2275\n",
    "nombre_exposed        562\n",
    "nombre_recovered    16178\n",
    "Name: 311, dtype: int64"
   ]
  },
  {
   "cell_type": "markdown",
   "id": "f774586b",
   "metadata": {},
   "source": [
    "nombre_infected       992\n",
    "nombre_sain          2279\n",
    "nombre_exposed        566\n",
    "nombre_recovered    16163\n",
    "Name: 312, dtype: int64"
   ]
  },
  {
   "cell_type": "markdown",
   "id": "fc11e592",
   "metadata": {},
   "source": [
    "nombre_infected       991\n",
    "nombre_sain          2276\n",
    "nombre_exposed        570\n",
    "nombre_recovered    16163\n",
    "Name: 313, dtype: int64"
   ]
  },
  {
   "cell_type": "markdown",
   "id": "49887e8a",
   "metadata": {},
   "source": [
    "nombre_infected      1002\n",
    "nombre_sain          2266\n",
    "nombre_exposed        565\n",
    "nombre_recovered    16167\n",
    "Name: 314, dtype: int64"
   ]
  },
  {
   "cell_type": "markdown",
   "id": "74f13e24",
   "metadata": {},
   "source": [
    "nombre_infected      1017\n",
    "nombre_sain          2260\n",
    "nombre_exposed        564\n",
    "nombre_recovered    16159\n",
    "Name: 315, dtype: int64"
   ]
  },
  {
   "cell_type": "markdown",
   "id": "dd21b97c",
   "metadata": {},
   "source": [
    "nombre_infected      1022\n",
    "nombre_sain          2240\n",
    "nombre_exposed        588\n",
    "nombre_recovered    16150\n",
    "Name: 316, dtype: int64"
   ]
  },
  {
   "cell_type": "markdown",
   "id": "95f4902e",
   "metadata": {},
   "source": [
    "nombre_infected      1063\n",
    "nombre_sain          2211\n",
    "nombre_exposed        574\n",
    "nombre_recovered    16152\n",
    "Name: 317, dtype: int64"
   ]
  },
  {
   "cell_type": "markdown",
   "id": "135da632",
   "metadata": {},
   "source": [
    "nombre_infected      1070\n",
    "nombre_sain          2176\n",
    "nombre_exposed        582\n",
    "nombre_recovered    16172\n",
    "Name: 318, dtype: int64"
   ]
  },
  {
   "cell_type": "markdown",
   "id": "137e289e",
   "metadata": {},
   "source": [
    "nombre_infected      1068\n",
    "nombre_sain          2169\n",
    "nombre_exposed        562\n",
    "nombre_recovered    16201\n",
    "Name: 319, dtype: int64"
   ]
  },
  {
   "cell_type": "markdown",
   "id": "86e84abd",
   "metadata": {},
   "source": [
    "nombre_infected      1048\n",
    "nombre_sain          2156\n",
    "nombre_exposed        562\n",
    "nombre_recovered    16234\n",
    "Name: 320, dtype: int64"
   ]
  },
  {
   "cell_type": "markdown",
   "id": "983c9386",
   "metadata": {},
   "source": [
    "nombre_infected      1043\n",
    "nombre_sain          2149\n",
    "nombre_exposed        556\n",
    "nombre_recovered    16252\n",
    "Name: 321, dtype: int64"
   ]
  },
  {
   "cell_type": "markdown",
   "id": "34c26988",
   "metadata": {},
   "source": [
    "nombre_infected      1051\n",
    "nombre_sain          2127\n",
    "nombre_exposed        558\n",
    "nombre_recovered    16264\n",
    "Name: 322, dtype: int64"
   ]
  },
  {
   "cell_type": "markdown",
   "id": "0b250dbe",
   "metadata": {},
   "source": [
    "nombre_infected      1069\n",
    "nombre_sain          2116\n",
    "nombre_exposed        534\n",
    "nombre_recovered    16281\n",
    "Name: 323, dtype: int64"
   ]
  },
  {
   "cell_type": "markdown",
   "id": "d19d1f30",
   "metadata": {},
   "source": [
    "nombre_infected      1061\n",
    "nombre_sain          2134\n",
    "nombre_exposed        540\n",
    "nombre_recovered    16265\n",
    "Name: 324, dtype: int64"
   ]
  },
  {
   "cell_type": "markdown",
   "id": "6742bc41",
   "metadata": {},
   "source": [
    "nombre_infected      1037\n",
    "nombre_sain          2151\n",
    "nombre_exposed        581\n",
    "nombre_recovered    16231\n",
    "Name: 325, dtype: int64"
   ]
  },
  {
   "cell_type": "markdown",
   "id": "d1acedc2",
   "metadata": {},
   "source": [
    "nombre_infected      1032\n",
    "nombre_sain          2121\n",
    "nombre_exposed        595\n",
    "nombre_recovered    16252\n",
    "Name: 326, dtype: int64"
   ]
  },
  {
   "cell_type": "markdown",
   "id": "52086daf",
   "metadata": {},
   "source": [
    "nombre_infected      1049\n",
    "nombre_sain          2107\n",
    "nombre_exposed        589\n",
    "nombre_recovered    16255\n",
    "Name: 327, dtype: int64"
   ]
  },
  {
   "cell_type": "markdown",
   "id": "7dbafc4d",
   "metadata": {},
   "source": [
    "nombre_infected      1053\n",
    "nombre_sain          2079\n",
    "nombre_exposed        615\n",
    "nombre_recovered    16253\n",
    "Name: 328, dtype: int64"
   ]
  },
  {
   "cell_type": "markdown",
   "id": "837f76c4",
   "metadata": {},
   "source": [
    "nombre_infected      1070\n",
    "nombre_sain          2076\n",
    "nombre_exposed        583\n",
    "nombre_recovered    16271\n",
    "Name: 329, dtype: int64"
   ]
  },
  {
   "cell_type": "markdown",
   "id": "a8daf545",
   "metadata": {},
   "source": [
    "nombre_infected      1083\n",
    "nombre_sain          2071\n",
    "nombre_exposed        571\n",
    "nombre_recovered    16275\n",
    "Name: 330, dtype: int64"
   ]
  },
  {
   "cell_type": "markdown",
   "id": "272c1e60",
   "metadata": {},
   "source": [
    "nombre_infected      1074\n",
    "nombre_sain          2043\n",
    "nombre_exposed        581\n",
    "nombre_recovered    16302\n",
    "Name: 331, dtype: int64"
   ]
  },
  {
   "cell_type": "markdown",
   "id": "e944111d",
   "metadata": {},
   "source": [
    "nombre_infected      1051\n",
    "nombre_sain          2031\n",
    "nombre_exposed        604\n",
    "nombre_recovered    16314\n",
    "Name: 332, dtype: int64"
   ]
  },
  {
   "cell_type": "markdown",
   "id": "783cbd9e",
   "metadata": {},
   "source": [
    "nombre_infected      1076\n",
    "nombre_sain          2016\n",
    "nombre_exposed        608\n",
    "nombre_recovered    16300\n",
    "Name: 333, dtype: int64"
   ]
  },
  {
   "cell_type": "markdown",
   "id": "263f9a9b",
   "metadata": {},
   "source": [
    "nombre_infected      1073\n",
    "nombre_sain          2023\n",
    "nombre_exposed        620\n",
    "nombre_recovered    16284\n",
    "Name: 334, dtype: int64"
   ]
  },
  {
   "cell_type": "markdown",
   "id": "669f6266",
   "metadata": {},
   "source": [
    "nombre_infected      1086\n",
    "nombre_sain          2027\n",
    "nombre_exposed        607\n",
    "nombre_recovered    16280\n",
    "Name: 335, dtype: int64"
   ]
  },
  {
   "cell_type": "markdown",
   "id": "66df1728",
   "metadata": {},
   "source": [
    "nombre_infected      1086\n",
    "nombre_sain          2019\n",
    "nombre_exposed        607\n",
    "nombre_recovered    16288\n",
    "Name: 336, dtype: int64"
   ]
  },
  {
   "cell_type": "markdown",
   "id": "461d6a9e",
   "metadata": {},
   "source": [
    "nombre_infected      1084\n",
    "nombre_sain          2016\n",
    "nombre_exposed        609\n",
    "nombre_recovered    16291\n",
    "Name: 337, dtype: int64"
   ]
  },
  {
   "cell_type": "markdown",
   "id": "e591bd06",
   "metadata": {},
   "source": [
    "nombre_infected      1103\n",
    "nombre_sain          2034\n",
    "nombre_exposed        582\n",
    "nombre_recovered    16281\n",
    "Name: 338, dtype: int64"
   ]
  },
  {
   "cell_type": "markdown",
   "id": "f686b35d",
   "metadata": {},
   "source": [
    "nombre_infected      1091\n",
    "nombre_sain          2017\n",
    "nombre_exposed        602\n",
    "nombre_recovered    16290\n",
    "Name: 339, dtype: int64"
   ]
  },
  {
   "cell_type": "markdown",
   "id": "b3afcc9e",
   "metadata": {},
   "source": [
    "nombre_infected      1073\n",
    "nombre_sain          1997\n",
    "nombre_exposed        627\n",
    "nombre_recovered    16303\n",
    "Name: 340, dtype: int64"
   ]
  },
  {
   "cell_type": "markdown",
   "id": "2a499e84",
   "metadata": {},
   "source": [
    "nombre_infected      1095\n",
    "nombre_sain          1984\n",
    "nombre_exposed        617\n",
    "nombre_recovered    16304\n",
    "Name: 341, dtype: int64"
   ]
  },
  {
   "cell_type": "markdown",
   "id": "a9a2e7eb",
   "metadata": {},
   "source": [
    "nombre_infected      1062\n",
    "nombre_sain          1973\n",
    "nombre_exposed        622\n",
    "nombre_recovered    16343\n",
    "Name: 342, dtype: int64"
   ]
  },
  {
   "cell_type": "markdown",
   "id": "a4f5c49e",
   "metadata": {},
   "source": [
    "nombre_infected      1042\n",
    "nombre_sain          1995\n",
    "nombre_exposed        617\n",
    "nombre_recovered    16346\n",
    "Name: 343, dtype: int64"
   ]
  },
  {
   "cell_type": "markdown",
   "id": "bc2a8813",
   "metadata": {},
   "source": [
    "nombre_infected      1007\n",
    "nombre_sain          2006\n",
    "nombre_exposed        614\n",
    "nombre_recovered    16373\n",
    "Name: 344, dtype: int64"
   ]
  },
  {
   "cell_type": "markdown",
   "id": "47c8180b",
   "metadata": {},
   "source": [
    "nombre_infected      1026\n",
    "nombre_sain          2015\n",
    "nombre_exposed        592\n",
    "nombre_recovered    16367\n",
    "Name: 345, dtype: int64"
   ]
  },
  {
   "cell_type": "markdown",
   "id": "cd9d390c",
   "metadata": {},
   "source": [
    "nombre_infected      1016\n",
    "nombre_sain          2008\n",
    "nombre_exposed        590\n",
    "nombre_recovered    16386\n",
    "Name: 346, dtype: int64"
   ]
  },
  {
   "cell_type": "markdown",
   "id": "b19c32f2",
   "metadata": {},
   "source": [
    "nombre_infected      1010\n",
    "nombre_sain          2024\n",
    "nombre_exposed        579\n",
    "nombre_recovered    16387\n",
    "Name: 347, dtype: int64"
   ]
  },
  {
   "cell_type": "markdown",
   "id": "f0763405",
   "metadata": {},
   "source": [
    "nombre_infected       999\n",
    "nombre_sain          2042\n",
    "nombre_exposed        588\n",
    "nombre_recovered    16371\n",
    "Name: 348, dtype: int64"
   ]
  },
  {
   "cell_type": "markdown",
   "id": "0c439921",
   "metadata": {},
   "source": [
    "nombre_infected      1009\n",
    "nombre_sain          2026\n",
    "nombre_exposed        579\n",
    "nombre_recovered    16386\n",
    "Name: 349, dtype: int64"
   ]
  },
  {
   "cell_type": "markdown",
   "id": "eb069b18",
   "metadata": {},
   "source": [
    "nombre_infected      1003\n",
    "nombre_sain          2025\n",
    "nombre_exposed        583\n",
    "nombre_recovered    16389\n",
    "Name: 350, dtype: int64"
   ]
  },
  {
   "cell_type": "markdown",
   "id": "9d44e8f4",
   "metadata": {},
   "source": [
    "nombre_infected      1018\n",
    "nombre_sain          2054\n",
    "nombre_exposed        548\n",
    "nombre_recovered    16380\n",
    "Name: 351, dtype: int64"
   ]
  },
  {
   "cell_type": "markdown",
   "id": "0d033647",
   "metadata": {},
   "source": [
    "nombre_infected      1007\n",
    "nombre_sain          2066\n",
    "nombre_exposed        555\n",
    "nombre_recovered    16372\n",
    "Name: 352, dtype: int64"
   ]
  },
  {
   "cell_type": "markdown",
   "id": "f4ad281f",
   "metadata": {},
   "source": [
    "nombre_infected      1009\n",
    "nombre_sain          2053\n",
    "nombre_exposed        547\n",
    "nombre_recovered    16391\n",
    "Name: 353, dtype: int64"
   ]
  },
  {
   "cell_type": "markdown",
   "id": "6e5a797b",
   "metadata": {},
   "source": [
    "nombre_infected      1025\n",
    "nombre_sain          2063\n",
    "nombre_exposed        538\n",
    "nombre_recovered    16374\n",
    "Name: 354, dtype: int64"
   ]
  },
  {
   "cell_type": "markdown",
   "id": "fc359b85",
   "metadata": {},
   "source": [
    "nombre_infected      1023\n",
    "nombre_sain          2047\n",
    "nombre_exposed        572\n",
    "nombre_recovered    16358\n",
    "Name: 355, dtype: int64"
   ]
  },
  {
   "cell_type": "markdown",
   "id": "19186ed9",
   "metadata": {},
   "source": [
    "nombre_infected      1022\n",
    "nombre_sain          2032\n",
    "nombre_exposed        562\n",
    "nombre_recovered    16384\n",
    "Name: 356, dtype: int64"
   ]
  },
  {
   "cell_type": "markdown",
   "id": "4269ebaa",
   "metadata": {},
   "source": [
    "nombre_infected      1022\n",
    "nombre_sain          2051\n",
    "nombre_exposed        541\n",
    "nombre_recovered    16386\n",
    "Name: 357, dtype: int64"
   ]
  },
  {
   "cell_type": "markdown",
   "id": "312d1ea4",
   "metadata": {},
   "source": [
    "nombre_infected      1014\n",
    "nombre_sain          2044\n",
    "nombre_exposed        566\n",
    "nombre_recovered    16376\n",
    "Name: 358, dtype: int64"
   ]
  },
  {
   "cell_type": "markdown",
   "id": "5daa40ab",
   "metadata": {},
   "source": [
    "nombre_infected      1000\n",
    "nombre_sain          2042\n",
    "nombre_exposed        577\n",
    "nombre_recovered    16381\n",
    "Name: 359, dtype: int64"
   ]
  },
  {
   "cell_type": "markdown",
   "id": "452e8c7f",
   "metadata": {},
   "source": [
    "nombre_infected      1004\n",
    "nombre_sain          2034\n",
    "nombre_exposed        571\n",
    "nombre_recovered    16391\n",
    "Name: 360, dtype: int64"
   ]
  },
  {
   "cell_type": "markdown",
   "id": "62a829e4",
   "metadata": {},
   "source": [
    "nombre_infected      1001\n",
    "nombre_sain          2039\n",
    "nombre_exposed        567\n",
    "nombre_recovered    16393\n",
    "Name: 361, dtype: int64"
   ]
  },
  {
   "cell_type": "markdown",
   "id": "f52a94e8",
   "metadata": {},
   "source": [
    "nombre_infected       972\n",
    "nombre_sain          2051\n",
    "nombre_exposed        560\n",
    "nombre_recovered    16417\n",
    "Name: 362, dtype: int64"
   ]
  },
  {
   "cell_type": "markdown",
   "id": "6c75f936",
   "metadata": {},
   "source": [
    "nombre_infected       991\n",
    "nombre_sain          2040\n",
    "nombre_exposed        543\n",
    "nombre_recovered    16426\n",
    "Name: 363, dtype: int64"
   ]
  },
  {
   "cell_type": "markdown",
   "id": "826eeb13",
   "metadata": {},
   "source": [
    "nombre_infected       990\n",
    "nombre_sain          2041\n",
    "nombre_exposed        537\n",
    "nombre_recovered    16432\n",
    "Name: 364, dtype: int64"
   ]
  },
  {
   "cell_type": "markdown",
   "id": "b2b02ec7",
   "metadata": {},
   "source": [
    "nombre_infected       991\n",
    "nombre_sain          2033\n",
    "nombre_exposed        522\n",
    "nombre_recovered    16454\n",
    "Name: 365, dtype: int64"
   ]
  },
  {
   "cell_type": "markdown",
   "id": "4ec668ff",
   "metadata": {},
   "source": [
    "nombre_infected       965\n",
    "nombre_sain          2025\n",
    "nombre_exposed        532\n",
    "nombre_recovered    16478\n",
    "Name: 366, dtype: int64"
   ]
  },
  {
   "cell_type": "markdown",
   "id": "f873f092",
   "metadata": {},
   "source": [
    "nombre_infected       975\n",
    "nombre_sain          2046\n",
    "nombre_exposed        511\n",
    "nombre_recovered    16468\n",
    "Name: 367, dtype: int64"
   ]
  },
  {
   "cell_type": "markdown",
   "id": "dcca3649",
   "metadata": {},
   "source": [
    "nombre_infected       991\n",
    "nombre_sain          2034\n",
    "nombre_exposed        500\n",
    "nombre_recovered    16475\n",
    "Name: 368, dtype: int64"
   ]
  },
  {
   "cell_type": "markdown",
   "id": "65f80f6f",
   "metadata": {},
   "source": [
    "nombre_infected       963\n",
    "nombre_sain          2004\n",
    "nombre_exposed        534\n",
    "nombre_recovered    16499\n",
    "Name: 369, dtype: int64"
   ]
  },
  {
   "cell_type": "markdown",
   "id": "6aadb5d1",
   "metadata": {},
   "source": [
    "nombre_infected       979\n",
    "nombre_sain          2004\n",
    "nombre_exposed        508\n",
    "nombre_recovered    16509\n",
    "Name: 370, dtype: int64"
   ]
  },
  {
   "cell_type": "markdown",
   "id": "a256e545",
   "metadata": {},
   "source": [
    "nombre_infected       942\n",
    "nombre_sain          2005\n",
    "nombre_exposed        516\n",
    "nombre_recovered    16537\n",
    "Name: 371, dtype: int64"
   ]
  },
  {
   "cell_type": "markdown",
   "id": "ec36669d",
   "metadata": {},
   "source": [
    "nombre_infected       897\n",
    "nombre_sain          2014\n",
    "nombre_exposed        512\n",
    "nombre_recovered    16577\n",
    "Name: 372, dtype: int64"
   ]
  },
  {
   "cell_type": "markdown",
   "id": "7594aa4d",
   "metadata": {},
   "source": [
    "nombre_infected       885\n",
    "nombre_sain          2011\n",
    "nombre_exposed        500\n",
    "nombre_recovered    16604\n",
    "Name: 373, dtype: int64"
   ]
  },
  {
   "cell_type": "markdown",
   "id": "9b96bd1f",
   "metadata": {},
   "source": [
    "nombre_infected       874\n",
    "nombre_sain          2004\n",
    "nombre_exposed        496\n",
    "nombre_recovered    16626\n",
    "Name: 374, dtype: int64"
   ]
  },
  {
   "cell_type": "markdown",
   "id": "2ec32ece",
   "metadata": {},
   "source": [
    "nombre_infected       867\n",
    "nombre_sain          1997\n",
    "nombre_exposed        502\n",
    "nombre_recovered    16634\n",
    "Name: 375, dtype: int64"
   ]
  },
  {
   "cell_type": "markdown",
   "id": "4abf41f6",
   "metadata": {},
   "source": [
    "nombre_infected       887\n",
    "nombre_sain          2001\n",
    "nombre_exposed        495\n",
    "nombre_recovered    16617\n",
    "Name: 376, dtype: int64"
   ]
  },
  {
   "cell_type": "markdown",
   "id": "bb4a3d5a",
   "metadata": {},
   "source": [
    "nombre_infected       886\n",
    "nombre_sain          2006\n",
    "nombre_exposed        486\n",
    "nombre_recovered    16622\n",
    "Name: 377, dtype: int64"
   ]
  },
  {
   "cell_type": "markdown",
   "id": "92bc7bef",
   "metadata": {},
   "source": [
    "nombre_infected       914\n",
    "nombre_sain          2004\n",
    "nombre_exposed        460\n",
    "nombre_recovered    16622\n",
    "Name: 378, dtype: int64"
   ]
  },
  {
   "cell_type": "markdown",
   "id": "4dbc330d",
   "metadata": {},
   "source": [
    "nombre_infected       916\n",
    "nombre_sain          2004\n",
    "nombre_exposed        467\n",
    "nombre_recovered    16613\n",
    "Name: 379, dtype: int64"
   ]
  },
  {
   "cell_type": "markdown",
   "id": "dab5917d",
   "metadata": {},
   "source": [
    "nombre_infected       885\n",
    "nombre_sain          1988\n",
    "nombre_exposed        485\n",
    "nombre_recovered    16642\n",
    "Name: 380, dtype: int64"
   ]
  },
  {
   "cell_type": "markdown",
   "id": "253b8e1c",
   "metadata": {},
   "source": [
    "nombre_infected       886\n",
    "nombre_sain          1994\n",
    "nombre_exposed        469\n",
    "nombre_recovered    16651\n",
    "Name: 381, dtype: int64"
   ]
  },
  {
   "cell_type": "markdown",
   "id": "fa4fc565",
   "metadata": {},
   "source": [
    "nombre_infected       891\n",
    "nombre_sain          2002\n",
    "nombre_exposed        470\n",
    "nombre_recovered    16637\n",
    "Name: 382, dtype: int64"
   ]
  },
  {
   "cell_type": "markdown",
   "id": "31edf101",
   "metadata": {},
   "source": [
    "nombre_infected       897\n",
    "nombre_sain          1983\n",
    "nombre_exposed        498\n",
    "nombre_recovered    16622\n",
    "Name: 383, dtype: int64"
   ]
  },
  {
   "cell_type": "markdown",
   "id": "2ad42fe1",
   "metadata": {},
   "source": [
    "nombre_infected       871\n",
    "nombre_sain          2000\n",
    "nombre_exposed        502\n",
    "nombre_recovered    16627\n",
    "Name: 384, dtype: int64"
   ]
  },
  {
   "cell_type": "markdown",
   "id": "9e64b86d",
   "metadata": {},
   "source": [
    "nombre_infected       884\n",
    "nombre_sain          2007\n",
    "nombre_exposed        469\n",
    "nombre_recovered    16640\n",
    "Name: 385, dtype: int64"
   ]
  },
  {
   "cell_type": "markdown",
   "id": "a81676e1",
   "metadata": {},
   "source": [
    "nombre_infected       890\n",
    "nombre_sain          2036\n",
    "nombre_exposed        450\n",
    "nombre_recovered    16624\n",
    "Name: 386, dtype: int64"
   ]
  },
  {
   "cell_type": "markdown",
   "id": "a6640d87",
   "metadata": {},
   "source": [
    "nombre_infected       892\n",
    "nombre_sain          2041\n",
    "nombre_exposed        467\n",
    "nombre_recovered    16600\n",
    "Name: 387, dtype: int64"
   ]
  },
  {
   "cell_type": "markdown",
   "id": "76ea7020",
   "metadata": {},
   "source": [
    "nombre_infected       845\n",
    "nombre_sain          2043\n",
    "nombre_exposed        486\n",
    "nombre_recovered    16626\n",
    "Name: 388, dtype: int64"
   ]
  },
  {
   "cell_type": "markdown",
   "id": "ed93ffd9",
   "metadata": {},
   "source": [
    "nombre_infected       868\n",
    "nombre_sain          2072\n",
    "nombre_exposed        473\n",
    "nombre_recovered    16587\n",
    "Name: 389, dtype: int64"
   ]
  },
  {
   "cell_type": "markdown",
   "id": "4bcb7cf2",
   "metadata": {},
   "source": [
    "nombre_infected       904\n",
    "nombre_sain          2102\n",
    "nombre_exposed        453\n",
    "nombre_recovered    16541\n",
    "Name: 390, dtype: int64"
   ]
  },
  {
   "cell_type": "markdown",
   "id": "63d9c95d",
   "metadata": {},
   "source": [
    "nombre_infected       917\n",
    "nombre_sain          2146\n",
    "nombre_exposed        437\n",
    "nombre_recovered    16500\n",
    "Name: 391, dtype: int64"
   ]
  },
  {
   "cell_type": "markdown",
   "id": "cf6ff3ee",
   "metadata": {},
   "source": [
    "nombre_infected       896\n",
    "nombre_sain          2182\n",
    "nombre_exposed        444\n",
    "nombre_recovered    16478\n",
    "Name: 392, dtype: int64"
   ]
  },
  {
   "cell_type": "markdown",
   "id": "5832ac83",
   "metadata": {},
   "source": [
    "nombre_infected       908\n",
    "nombre_sain          2178\n",
    "nombre_exposed        458\n",
    "nombre_recovered    16456\n",
    "Name: 393, dtype: int64"
   ]
  },
  {
   "cell_type": "markdown",
   "id": "7299f477",
   "metadata": {},
   "source": [
    "nombre_infected       915\n",
    "nombre_sain          2143\n",
    "nombre_exposed        487\n",
    "nombre_recovered    16455\n",
    "Name: 394, dtype: int64"
   ]
  },
  {
   "cell_type": "markdown",
   "id": "0851381b",
   "metadata": {},
   "source": [
    "nombre_infected       955\n",
    "nombre_sain          2181\n",
    "nombre_exposed        451\n",
    "nombre_recovered    16413\n",
    "Name: 395, dtype: int64"
   ]
  },
  {
   "cell_type": "markdown",
   "id": "3079d74a",
   "metadata": {},
   "source": [
    "nombre_infected       943\n",
    "nombre_sain          2197\n",
    "nombre_exposed        455\n",
    "nombre_recovered    16405\n",
    "Name: 396, dtype: int64"
   ]
  },
  {
   "cell_type": "markdown",
   "id": "055e1d44",
   "metadata": {},
   "source": [
    "nombre_infected       913\n",
    "nombre_sain          2205\n",
    "nombre_exposed        461\n",
    "nombre_recovered    16421\n",
    "Name: 397, dtype: int64"
   ]
  },
  {
   "cell_type": "markdown",
   "id": "297b4d28",
   "metadata": {},
   "source": [
    "nombre_infected       894\n",
    "nombre_sain          2215\n",
    "nombre_exposed        474\n",
    "nombre_recovered    16417\n",
    "Name: 398, dtype: int64"
   ]
  },
  {
   "cell_type": "markdown",
   "id": "91793d5e",
   "metadata": {},
   "source": [
    "nombre_infected       889\n",
    "nombre_sain          2217\n",
    "nombre_exposed        476\n",
    "nombre_recovered    16418\n",
    "Name: 399, dtype: int64"
   ]
  },
  {
   "cell_type": "markdown",
   "id": "45e6fad1",
   "metadata": {},
   "source": [
    "nombre_infected       912\n",
    "nombre_sain          2210\n",
    "nombre_exposed        475\n",
    "nombre_recovered    16403\n",
    "Name: 400, dtype: int64"
   ]
  },
  {
   "cell_type": "markdown",
   "id": "db134c8a",
   "metadata": {},
   "source": [
    "nombre_infected       890\n",
    "nombre_sain          2196\n",
    "nombre_exposed        491\n",
    "nombre_recovered    16423\n",
    "Name: 401, dtype: int64"
   ]
  },
  {
   "cell_type": "markdown",
   "id": "899c938c",
   "metadata": {},
   "source": [
    "nombre_infected       926\n",
    "nombre_sain          2193\n",
    "nombre_exposed        488\n",
    "nombre_recovered    16393\n",
    "Name: 402, dtype: int64"
   ]
  },
  {
   "cell_type": "markdown",
   "id": "5d176c52",
   "metadata": {},
   "source": [
    "nombre_infected       928\n",
    "nombre_sain          2189\n",
    "nombre_exposed        500\n",
    "nombre_recovered    16383\n",
    "Name: 403, dtype: int64"
   ]
  },
  {
   "cell_type": "markdown",
   "id": "0198290d",
   "metadata": {},
   "source": [
    "nombre_infected       934\n",
    "nombre_sain          2201\n",
    "nombre_exposed        499\n",
    "nombre_recovered    16366\n",
    "Name: 404, dtype: int64"
   ]
  },
  {
   "cell_type": "markdown",
   "id": "8f81ed72",
   "metadata": {},
   "source": [
    "nombre_infected       941\n",
    "nombre_sain          2171\n",
    "nombre_exposed        512\n",
    "nombre_recovered    16376\n",
    "Name: 405, dtype: int64"
   ]
  },
  {
   "cell_type": "markdown",
   "id": "ed094884",
   "metadata": {},
   "source": [
    "nombre_infected       934\n",
    "nombre_sain          2171\n",
    "nombre_exposed        521\n",
    "nombre_recovered    16374\n",
    "Name: 406, dtype: int64"
   ]
  },
  {
   "cell_type": "markdown",
   "id": "dedf6878",
   "metadata": {},
   "source": [
    "nombre_infected       923\n",
    "nombre_sain          2178\n",
    "nombre_exposed        538\n",
    "nombre_recovered    16361\n",
    "Name: 407, dtype: int64"
   ]
  },
  {
   "cell_type": "markdown",
   "id": "3a9f9cef",
   "metadata": {},
   "source": [
    "nombre_infected       958\n",
    "nombre_sain          2168\n",
    "nombre_exposed        546\n",
    "nombre_recovered    16328\n",
    "Name: 408, dtype: int64"
   ]
  },
  {
   "cell_type": "markdown",
   "id": "353e3fd7",
   "metadata": {},
   "source": [
    "nombre_infected       978\n",
    "nombre_sain          2141\n",
    "nombre_exposed        544\n",
    "nombre_recovered    16337\n",
    "Name: 409, dtype: int64"
   ]
  },
  {
   "cell_type": "markdown",
   "id": "38c0d4aa",
   "metadata": {},
   "source": [
    "nombre_infected       976\n",
    "nombre_sain          2139\n",
    "nombre_exposed        548\n",
    "nombre_recovered    16337\n",
    "Name: 410, dtype: int64"
   ]
  },
  {
   "cell_type": "markdown",
   "id": "f745e130",
   "metadata": {},
   "source": [
    "nombre_infected       997\n",
    "nombre_sain          2118\n",
    "nombre_exposed        547\n",
    "nombre_recovered    16338\n",
    "Name: 411, dtype: int64"
   ]
  },
  {
   "cell_type": "markdown",
   "id": "cf6bad3c",
   "metadata": {},
   "source": [
    "nombre_infected      1004\n",
    "nombre_sain          2095\n",
    "nombre_exposed        563\n",
    "nombre_recovered    16338\n",
    "Name: 412, dtype: int64"
   ]
  },
  {
   "cell_type": "markdown",
   "id": "97c618cf",
   "metadata": {},
   "source": [
    "nombre_infected       989\n",
    "nombre_sain          2108\n",
    "nombre_exposed        557\n",
    "nombre_recovered    16346\n",
    "Name: 413, dtype: int64"
   ]
  },
  {
   "cell_type": "markdown",
   "id": "952bab85",
   "metadata": {},
   "source": [
    "nombre_infected       998\n",
    "nombre_sain          2115\n",
    "nombre_exposed        544\n",
    "nombre_recovered    16343\n",
    "Name: 414, dtype: int64"
   ]
  },
  {
   "cell_type": "markdown",
   "id": "d2858315",
   "metadata": {},
   "source": [
    "nombre_infected      1023\n",
    "nombre_sain          2117\n",
    "nombre_exposed        531\n",
    "nombre_recovered    16329\n",
    "Name: 415, dtype: int64"
   ]
  },
  {
   "cell_type": "markdown",
   "id": "596e3f92",
   "metadata": {},
   "source": [
    "nombre_infected      1016\n",
    "nombre_sain          2117\n",
    "nombre_exposed        534\n",
    "nombre_recovered    16333\n",
    "Name: 416, dtype: int64"
   ]
  },
  {
   "cell_type": "markdown",
   "id": "ecde8841",
   "metadata": {},
   "source": [
    "nombre_infected       996\n",
    "nombre_sain          2143\n",
    "nombre_exposed        548\n",
    "nombre_recovered    16313\n",
    "Name: 417, dtype: int64"
   ]
  },
  {
   "cell_type": "markdown",
   "id": "cc30bae6",
   "metadata": {},
   "source": [
    "nombre_infected       987\n",
    "nombre_sain          2129\n",
    "nombre_exposed        565\n",
    "nombre_recovered    16319\n",
    "Name: 418, dtype: int64"
   ]
  },
  {
   "cell_type": "markdown",
   "id": "5c10d1b9",
   "metadata": {},
   "source": [
    "nombre_infected       997\n",
    "nombre_sain          2135\n",
    "nombre_exposed        546\n",
    "nombre_recovered    16322\n",
    "Name: 419, dtype: int64"
   ]
  },
  {
   "cell_type": "markdown",
   "id": "32be8da3",
   "metadata": {},
   "source": [
    "nombre_infected       998\n",
    "nombre_sain          2135\n",
    "nombre_exposed        546\n",
    "nombre_recovered    16321\n",
    "Name: 420, dtype: int64"
   ]
  },
  {
   "cell_type": "markdown",
   "id": "0df01f41",
   "metadata": {},
   "source": [
    "nombre_infected       999\n",
    "nombre_sain          2122\n",
    "nombre_exposed        543\n",
    "nombre_recovered    16336\n",
    "Name: 421, dtype: int64"
   ]
  },
  {
   "cell_type": "markdown",
   "id": "08075c53",
   "metadata": {},
   "source": [
    "nombre_infected       991\n",
    "nombre_sain          2131\n",
    "nombre_exposed        514\n",
    "nombre_recovered    16364\n",
    "Name: 422, dtype: int64"
   ]
  },
  {
   "cell_type": "markdown",
   "id": "a41487f8",
   "metadata": {},
   "source": [
    "nombre_infected       986\n",
    "nombre_sain          2147\n",
    "nombre_exposed        498\n",
    "nombre_recovered    16369\n",
    "Name: 423, dtype: int64"
   ]
  },
  {
   "cell_type": "markdown",
   "id": "79d66313",
   "metadata": {},
   "source": [
    "nombre_infected       990\n",
    "nombre_sain          2143\n",
    "nombre_exposed        503\n",
    "nombre_recovered    16364\n",
    "Name: 424, dtype: int64"
   ]
  },
  {
   "cell_type": "markdown",
   "id": "c8022f41",
   "metadata": {},
   "source": [
    "nombre_infected       975\n",
    "nombre_sain          2147\n",
    "nombre_exposed        524\n",
    "nombre_recovered    16354\n",
    "Name: 425, dtype: int64"
   ]
  },
  {
   "cell_type": "markdown",
   "id": "c52c9a91",
   "metadata": {},
   "source": [
    "nombre_infected       948\n",
    "nombre_sain          2152\n",
    "nombre_exposed        528\n",
    "nombre_recovered    16372\n",
    "Name: 426, dtype: int64"
   ]
  },
  {
   "cell_type": "markdown",
   "id": "1dcb95f2",
   "metadata": {},
   "source": [
    "nombre_infected       936\n",
    "nombre_sain          2151\n",
    "nombre_exposed        507\n",
    "nombre_recovered    16406\n",
    "Name: 427, dtype: int64"
   ]
  },
  {
   "cell_type": "markdown",
   "id": "b8dcb6cb",
   "metadata": {},
   "source": [
    "nombre_infected       954\n",
    "nombre_sain          2127\n",
    "nombre_exposed        508\n",
    "nombre_recovered    16411\n",
    "Name: 428, dtype: int64"
   ]
  },
  {
   "cell_type": "markdown",
   "id": "2775f1c2",
   "metadata": {},
   "source": [
    "nombre_infected       935\n",
    "nombre_sain          2155\n",
    "nombre_exposed        494\n",
    "nombre_recovered    16416\n",
    "Name: 429, dtype: int64"
   ]
  },
  {
   "cell_type": "markdown",
   "id": "6038b68c",
   "metadata": {},
   "source": [
    "nombre_infected       949\n",
    "nombre_sain          2158\n",
    "nombre_exposed        484\n",
    "nombre_recovered    16409\n",
    "Name: 430, dtype: int64"
   ]
  },
  {
   "cell_type": "markdown",
   "id": "a646d78c",
   "metadata": {},
   "source": [
    "nombre_infected       930\n",
    "nombre_sain          2135\n",
    "nombre_exposed        508\n",
    "nombre_recovered    16427\n",
    "Name: 431, dtype: int64"
   ]
  },
  {
   "cell_type": "markdown",
   "id": "35d36b28",
   "metadata": {},
   "source": [
    "nombre_infected       920\n",
    "nombre_sain          2160\n",
    "nombre_exposed        490\n",
    "nombre_recovered    16430\n",
    "Name: 432, dtype: int64"
   ]
  },
  {
   "cell_type": "markdown",
   "id": "94494834",
   "metadata": {},
   "source": [
    "nombre_infected       935\n",
    "nombre_sain          2148\n",
    "nombre_exposed        481\n",
    "nombre_recovered    16436\n",
    "Name: 433, dtype: int64"
   ]
  },
  {
   "cell_type": "markdown",
   "id": "e8d233b3",
   "metadata": {},
   "source": [
    "nombre_infected       912\n",
    "nombre_sain          2134\n",
    "nombre_exposed        498\n",
    "nombre_recovered    16456\n",
    "Name: 434, dtype: int64"
   ]
  },
  {
   "cell_type": "markdown",
   "id": "8f15dfc1",
   "metadata": {},
   "source": [
    "nombre_infected       916\n",
    "nombre_sain          2142\n",
    "nombre_exposed        484\n",
    "nombre_recovered    16458\n",
    "Name: 435, dtype: int64"
   ]
  },
  {
   "cell_type": "markdown",
   "id": "c67006f0",
   "metadata": {},
   "source": [
    "nombre_infected       923\n",
    "nombre_sain          2142\n",
    "nombre_exposed        484\n",
    "nombre_recovered    16451\n",
    "Name: 436, dtype: int64"
   ]
  },
  {
   "cell_type": "markdown",
   "id": "3d5a9f4f",
   "metadata": {},
   "source": [
    "nombre_infected       911\n",
    "nombre_sain          2162\n",
    "nombre_exposed        491\n",
    "nombre_recovered    16436\n",
    "Name: 437, dtype: int64"
   ]
  },
  {
   "cell_type": "markdown",
   "id": "4df191cc",
   "metadata": {},
   "source": [
    "nombre_infected       933\n",
    "nombre_sain          2166\n",
    "nombre_exposed        487\n",
    "nombre_recovered    16414\n",
    "Name: 438, dtype: int64"
   ]
  },
  {
   "cell_type": "markdown",
   "id": "801ef51f",
   "metadata": {},
   "source": [
    "nombre_infected       944\n",
    "nombre_sain          2159\n",
    "nombre_exposed        491\n",
    "nombre_recovered    16406\n",
    "Name: 439, dtype: int64"
   ]
  },
  {
   "cell_type": "markdown",
   "id": "4220a4cf",
   "metadata": {},
   "source": [
    "nombre_infected       907\n",
    "nombre_sain          2163\n",
    "nombre_exposed        506\n",
    "nombre_recovered    16424\n",
    "Name: 440, dtype: int64"
   ]
  },
  {
   "cell_type": "markdown",
   "id": "2d63933d",
   "metadata": {},
   "source": [
    "nombre_infected       911\n",
    "nombre_sain          2165\n",
    "nombre_exposed        516\n",
    "nombre_recovered    16408\n",
    "Name: 441, dtype: int64"
   ]
  },
  {
   "cell_type": "markdown",
   "id": "d468a05a",
   "metadata": {},
   "source": [
    "nombre_infected       937\n",
    "nombre_sain          2159\n",
    "nombre_exposed        499\n",
    "nombre_recovered    16405\n",
    "Name: 442, dtype: int64"
   ]
  },
  {
   "cell_type": "markdown",
   "id": "2deac777",
   "metadata": {},
   "source": [
    "nombre_infected       946\n",
    "nombre_sain          2126\n",
    "nombre_exposed        511\n",
    "nombre_recovered    16417\n",
    "Name: 443, dtype: int64"
   ]
  },
  {
   "cell_type": "markdown",
   "id": "371d5b52",
   "metadata": {},
   "source": [
    "nombre_infected       939\n",
    "nombre_sain          2121\n",
    "nombre_exposed        496\n",
    "nombre_recovered    16444\n",
    "Name: 444, dtype: int64"
   ]
  },
  {
   "cell_type": "markdown",
   "id": "e0181a43",
   "metadata": {},
   "source": [
    "nombre_infected       943\n",
    "nombre_sain          2112\n",
    "nombre_exposed        488\n",
    "nombre_recovered    16457\n",
    "Name: 445, dtype: int64"
   ]
  },
  {
   "cell_type": "markdown",
   "id": "41c46ff5",
   "metadata": {},
   "source": [
    "nombre_infected       922\n",
    "nombre_sain          2069\n",
    "nombre_exposed        545\n",
    "nombre_recovered    16464\n",
    "Name: 446, dtype: int64"
   ]
  },
  {
   "cell_type": "markdown",
   "id": "73db0dbc",
   "metadata": {},
   "source": [
    "nombre_infected       934\n",
    "nombre_sain          2047\n",
    "nombre_exposed        549\n",
    "nombre_recovered    16470\n",
    "Name: 447, dtype: int64"
   ]
  },
  {
   "cell_type": "markdown",
   "id": "8363e782",
   "metadata": {},
   "source": [
    "nombre_infected       951\n",
    "nombre_sain          2046\n",
    "nombre_exposed        523\n",
    "nombre_recovered    16480\n",
    "Name: 448, dtype: int64"
   ]
  },
  {
   "cell_type": "markdown",
   "id": "69643d9f",
   "metadata": {},
   "source": [
    "nombre_infected       983\n",
    "nombre_sain          2074\n",
    "nombre_exposed        489\n",
    "nombre_recovered    16454\n",
    "Name: 449, dtype: int64"
   ]
  },
  {
   "cell_type": "markdown",
   "id": "4a78fcb6",
   "metadata": {},
   "source": [
    "nombre_infected      1010\n",
    "nombre_sain          2070\n",
    "nombre_exposed        474\n",
    "nombre_recovered    16446\n",
    "Name: 450, dtype: int64"
   ]
  },
  {
   "cell_type": "markdown",
   "id": "652829d2",
   "metadata": {},
   "source": [
    "nombre_infected       999\n",
    "nombre_sain          2087\n",
    "nombre_exposed        494\n",
    "nombre_recovered    16420\n",
    "Name: 451, dtype: int64"
   ]
  },
  {
   "cell_type": "markdown",
   "id": "8c172835",
   "metadata": {},
   "source": [
    "nombre_infected      1014\n",
    "nombre_sain          2113\n",
    "nombre_exposed        470\n",
    "nombre_recovered    16403\n",
    "Name: 452, dtype: int64"
   ]
  },
  {
   "cell_type": "markdown",
   "id": "01eef172",
   "metadata": {},
   "source": [
    "nombre_infected      1021\n",
    "nombre_sain          2094\n",
    "nombre_exposed        471\n",
    "nombre_recovered    16414\n",
    "Name: 453, dtype: int64"
   ]
  },
  {
   "cell_type": "markdown",
   "id": "a99c9c9b",
   "metadata": {},
   "source": [
    "nombre_infected      1034\n",
    "nombre_sain          2082\n",
    "nombre_exposed        466\n",
    "nombre_recovered    16418\n",
    "Name: 454, dtype: int64"
   ]
  },
  {
   "cell_type": "markdown",
   "id": "bcb3e69e",
   "metadata": {},
   "source": [
    "nombre_infected      1040\n",
    "nombre_sain          2064\n",
    "nombre_exposed        482\n",
    "nombre_recovered    16414\n",
    "Name: 455, dtype: int64"
   ]
  },
  {
   "cell_type": "markdown",
   "id": "2e61529b",
   "metadata": {},
   "source": [
    "nombre_infected      1017\n",
    "nombre_sain          2052\n",
    "nombre_exposed        494\n",
    "nombre_recovered    16437\n",
    "Name: 456, dtype: int64"
   ]
  },
  {
   "cell_type": "markdown",
   "id": "bb9bec78",
   "metadata": {},
   "source": [
    "nombre_infected      1029\n",
    "nombre_sain          2042\n",
    "nombre_exposed        485\n",
    "nombre_recovered    16444\n",
    "Name: 457, dtype: int64"
   ]
  },
  {
   "cell_type": "markdown",
   "id": "55d68164",
   "metadata": {},
   "source": [
    "nombre_infected      1026\n",
    "nombre_sain          2055\n",
    "nombre_exposed        476\n",
    "nombre_recovered    16443\n",
    "Name: 458, dtype: int64"
   ]
  },
  {
   "cell_type": "markdown",
   "id": "e767addd",
   "metadata": {},
   "source": [
    "nombre_infected      1029\n",
    "nombre_sain          2027\n",
    "nombre_exposed        485\n",
    "nombre_recovered    16459\n",
    "Name: 459, dtype: int64"
   ]
  },
  {
   "cell_type": "markdown",
   "id": "83390ec0",
   "metadata": {},
   "source": [
    "nombre_infected      1027\n",
    "nombre_sain          1986\n",
    "nombre_exposed        515\n",
    "nombre_recovered    16472\n",
    "Name: 460, dtype: int64"
   ]
  },
  {
   "cell_type": "markdown",
   "id": "6ed29d9a",
   "metadata": {},
   "source": [
    "nombre_infected      1064\n",
    "nombre_sain          1945\n",
    "nombre_exposed        525\n",
    "nombre_recovered    16466\n",
    "Name: 461, dtype: int64"
   ]
  },
  {
   "cell_type": "markdown",
   "id": "51bc9061",
   "metadata": {},
   "source": [
    "nombre_infected      1080\n",
    "nombre_sain          1918\n",
    "nombre_exposed        520\n",
    "nombre_recovered    16482\n",
    "Name: 462, dtype: int64"
   ]
  },
  {
   "cell_type": "markdown",
   "id": "df3a2bcd",
   "metadata": {},
   "source": [
    "nombre_infected      1107\n",
    "nombre_sain          1914\n",
    "nombre_exposed        493\n",
    "nombre_recovered    16486\n",
    "Name: 463, dtype: int64"
   ]
  },
  {
   "cell_type": "markdown",
   "id": "83e3b92b",
   "metadata": {},
   "source": [
    "nombre_infected      1096\n",
    "nombre_sain          1902\n",
    "nombre_exposed        494\n",
    "nombre_recovered    16508\n",
    "Name: 464, dtype: int64"
   ]
  },
  {
   "cell_type": "markdown",
   "id": "38c3828d",
   "metadata": {},
   "source": [
    "nombre_infected      1083\n",
    "nombre_sain          1874\n",
    "nombre_exposed        501\n",
    "nombre_recovered    16542\n",
    "Name: 465, dtype: int64"
   ]
  },
  {
   "cell_type": "markdown",
   "id": "f5abc414",
   "metadata": {},
   "source": [
    "nombre_infected      1109\n",
    "nombre_sain          1874\n",
    "nombre_exposed        487\n",
    "nombre_recovered    16530\n",
    "Name: 466, dtype: int64"
   ]
  },
  {
   "cell_type": "markdown",
   "id": "5c20d576",
   "metadata": {},
   "source": [
    "nombre_infected      1121\n",
    "nombre_sain          1843\n",
    "nombre_exposed        509\n",
    "nombre_recovered    16527\n",
    "Name: 467, dtype: int64"
   ]
  },
  {
   "cell_type": "markdown",
   "id": "c42dbe23",
   "metadata": {},
   "source": [
    "nombre_infected      1086\n",
    "nombre_sain          1834\n",
    "nombre_exposed        517\n",
    "nombre_recovered    16563\n",
    "Name: 468, dtype: int64"
   ]
  },
  {
   "cell_type": "markdown",
   "id": "cc7a8f3e",
   "metadata": {},
   "source": [
    "nombre_infected      1102\n",
    "nombre_sain          1848\n",
    "nombre_exposed        490\n",
    "nombre_recovered    16560\n",
    "Name: 469, dtype: int64"
   ]
  },
  {
   "cell_type": "markdown",
   "id": "4bc347ef",
   "metadata": {},
   "source": [
    "nombre_infected      1083\n",
    "nombre_sain          1871\n",
    "nombre_exposed        486\n",
    "nombre_recovered    16560\n",
    "Name: 470, dtype: int64"
   ]
  },
  {
   "cell_type": "markdown",
   "id": "b5adab9a",
   "metadata": {},
   "source": [
    "nombre_infected      1072\n",
    "nombre_sain          1878\n",
    "nombre_exposed        481\n",
    "nombre_recovered    16569\n",
    "Name: 471, dtype: int64"
   ]
  },
  {
   "cell_type": "markdown",
   "id": "fe52a9aa",
   "metadata": {},
   "source": [
    "nombre_infected      1065\n",
    "nombre_sain          1888\n",
    "nombre_exposed        481\n",
    "nombre_recovered    16566\n",
    "Name: 472, dtype: int64"
   ]
  },
  {
   "cell_type": "markdown",
   "id": "b122163c",
   "metadata": {},
   "source": [
    "nombre_infected      1060\n",
    "nombre_sain          1906\n",
    "nombre_exposed        474\n",
    "nombre_recovered    16560\n",
    "Name: 473, dtype: int64"
   ]
  },
  {
   "cell_type": "markdown",
   "id": "9546d4b0",
   "metadata": {},
   "source": [
    "nombre_infected      1028\n",
    "nombre_sain          1921\n",
    "nombre_exposed        481\n",
    "nombre_recovered    16570\n",
    "Name: 474, dtype: int64"
   ]
  },
  {
   "cell_type": "markdown",
   "id": "5549899f",
   "metadata": {},
   "source": [
    "nombre_infected      1018\n",
    "nombre_sain          1932\n",
    "nombre_exposed        472\n",
    "nombre_recovered    16578\n",
    "Name: 475, dtype: int64"
   ]
  },
  {
   "cell_type": "markdown",
   "id": "c6e4e5f1",
   "metadata": {},
   "source": [
    "nombre_infected      1025\n",
    "nombre_sain          1938\n",
    "nombre_exposed        441\n",
    "nombre_recovered    16596\n",
    "Name: 476, dtype: int64"
   ]
  },
  {
   "cell_type": "markdown",
   "id": "4ae8905c",
   "metadata": {},
   "source": [
    "nombre_infected      1020\n",
    "nombre_sain          1957\n",
    "nombre_exposed        443\n",
    "nombre_recovered    16580\n",
    "Name: 477, dtype: int64"
   ]
  },
  {
   "cell_type": "markdown",
   "id": "5bfc430f",
   "metadata": {},
   "source": [
    "nombre_infected      1001\n",
    "nombre_sain          1974\n",
    "nombre_exposed        458\n",
    "nombre_recovered    16567\n",
    "Name: 478, dtype: int64"
   ]
  },
  {
   "cell_type": "markdown",
   "id": "e0087c14",
   "metadata": {},
   "source": [
    "nombre_infected      1005\n",
    "nombre_sain          1943\n",
    "nombre_exposed        469\n",
    "nombre_recovered    16583\n",
    "Name: 479, dtype: int64"
   ]
  },
  {
   "cell_type": "markdown",
   "id": "4b2e818c",
   "metadata": {},
   "source": [
    "nombre_infected      1001\n",
    "nombre_sain          1968\n",
    "nombre_exposed        471\n",
    "nombre_recovered    16560\n",
    "Name: 480, dtype: int64"
   ]
  },
  {
   "cell_type": "markdown",
   "id": "0e40f579",
   "metadata": {},
   "source": [
    "nombre_infected       991\n",
    "nombre_sain          1962\n",
    "nombre_exposed        478\n",
    "nombre_recovered    16569\n",
    "Name: 481, dtype: int64"
   ]
  },
  {
   "cell_type": "markdown",
   "id": "2431237b",
   "metadata": {},
   "source": [
    "nombre_infected       992\n",
    "nombre_sain          1960\n",
    "nombre_exposed        471\n",
    "nombre_recovered    16577\n",
    "Name: 482, dtype: int64"
   ]
  },
  {
   "cell_type": "markdown",
   "id": "729bb8c8",
   "metadata": {},
   "source": [
    "nombre_infected       966\n",
    "nombre_sain          1962\n",
    "nombre_exposed        483\n",
    "nombre_recovered    16589\n",
    "Name: 483, dtype: int64"
   ]
  },
  {
   "cell_type": "markdown",
   "id": "b8996bd2",
   "metadata": {},
   "source": [
    "nombre_infected       947\n",
    "nombre_sain          1950\n",
    "nombre_exposed        481\n",
    "nombre_recovered    16622\n",
    "Name: 484, dtype: int64"
   ]
  },
  {
   "cell_type": "markdown",
   "id": "852d4dff",
   "metadata": {},
   "source": [
    "nombre_infected       939\n",
    "nombre_sain          1918\n",
    "nombre_exposed        489\n",
    "nombre_recovered    16654\n",
    "Name: 485, dtype: int64"
   ]
  },
  {
   "cell_type": "markdown",
   "id": "9dbfc0e0",
   "metadata": {},
   "source": [
    "nombre_infected       929\n",
    "nombre_sain          1917\n",
    "nombre_exposed        494\n",
    "nombre_recovered    16660\n",
    "Name: 486, dtype: int64"
   ]
  },
  {
   "cell_type": "markdown",
   "id": "29397aa7",
   "metadata": {},
   "source": [
    "nombre_infected       975\n",
    "nombre_sain          1897\n",
    "nombre_exposed        474\n",
    "nombre_recovered    16654\n",
    "Name: 487, dtype: int64"
   ]
  },
  {
   "cell_type": "markdown",
   "id": "58cb6304",
   "metadata": {},
   "source": [
    "nombre_infected       971\n",
    "nombre_sain          1890\n",
    "nombre_exposed        488\n",
    "nombre_recovered    16651\n",
    "Name: 488, dtype: int64"
   ]
  },
  {
   "cell_type": "markdown",
   "id": "23b359e9",
   "metadata": {},
   "source": [
    "nombre_infected       986\n",
    "nombre_sain          1900\n",
    "nombre_exposed        479\n",
    "nombre_recovered    16635\n",
    "Name: 489, dtype: int64"
   ]
  },
  {
   "cell_type": "markdown",
   "id": "3f6e14fe",
   "metadata": {},
   "source": [
    "nombre_infected       978\n",
    "nombre_sain          1911\n",
    "nombre_exposed        476\n",
    "nombre_recovered    16635\n",
    "Name: 490, dtype: int64"
   ]
  },
  {
   "cell_type": "markdown",
   "id": "224ed41a",
   "metadata": {},
   "source": [
    "nombre_infected       955\n",
    "nombre_sain          1906\n",
    "nombre_exposed        474\n",
    "nombre_recovered    16665\n",
    "Name: 491, dtype: int64"
   ]
  },
  {
   "cell_type": "markdown",
   "id": "0d53238e",
   "metadata": {},
   "source": [
    "nombre_infected       975\n",
    "nombre_sain          1888\n",
    "nombre_exposed        470\n",
    "nombre_recovered    16667\n",
    "Name: 492, dtype: int64"
   ]
  },
  {
   "cell_type": "markdown",
   "id": "95d01544",
   "metadata": {},
   "source": [
    "nombre_infected       967\n",
    "nombre_sain          1873\n",
    "nombre_exposed        470\n",
    "nombre_recovered    16690\n",
    "Name: 493, dtype: int64"
   ]
  },
  {
   "cell_type": "markdown",
   "id": "f604a3c5",
   "metadata": {},
   "source": [
    "nombre_infected       960\n",
    "nombre_sain          1865\n",
    "nombre_exposed        462\n",
    "nombre_recovered    16713\n",
    "Name: 494, dtype: int64"
   ]
  },
  {
   "cell_type": "markdown",
   "id": "eb016f45",
   "metadata": {},
   "source": [
    "nombre_infected       938\n",
    "nombre_sain          1847\n",
    "nombre_exposed        463\n",
    "nombre_recovered    16752\n",
    "Name: 495, dtype: int64"
   ]
  },
  {
   "cell_type": "markdown",
   "id": "208822ae",
   "metadata": {},
   "source": [
    "nombre_infected       922\n",
    "nombre_sain          1861\n",
    "nombre_exposed        447\n",
    "nombre_recovered    16770\n",
    "Name: 496, dtype: int64"
   ]
  },
  {
   "cell_type": "markdown",
   "id": "13e98a06",
   "metadata": {},
   "source": [
    "nombre_infected       921\n",
    "nombre_sain          1885\n",
    "nombre_exposed        436\n",
    "nombre_recovered    16758\n",
    "Name: 497, dtype: int64"
   ]
  },
  {
   "cell_type": "markdown",
   "id": "aefa3fa7",
   "metadata": {},
   "source": [
    "nombre_infected       917\n",
    "nombre_sain          1904\n",
    "nombre_exposed        409\n",
    "nombre_recovered    16770\n",
    "Name: 498, dtype: int64"
   ]
  },
  {
   "cell_type": "markdown",
   "id": "d3129d74",
   "metadata": {},
   "source": [
    "nombre_infected       908\n",
    "nombre_sain          1917\n",
    "nombre_exposed        413\n",
    "nombre_recovered    16762\n",
    "Name: 499, dtype: int64"
   ]
  },
  {
   "cell_type": "markdown",
   "id": "3c5ba892",
   "metadata": {},
   "source": [
    "nombre_infected       881\n",
    "nombre_sain          1911\n",
    "nombre_exposed        432\n",
    "nombre_recovered    16776\n",
    "Name: 500, dtype: int64"
   ]
  },
  {
   "cell_type": "markdown",
   "id": "53458ca9",
   "metadata": {},
   "source": [
    "nombre_infected       862\n",
    "nombre_sain          1924\n",
    "nombre_exposed        441\n",
    "nombre_recovered    16773\n",
    "Name: 501, dtype: int64"
   ]
  },
  {
   "cell_type": "markdown",
   "id": "67fe8174",
   "metadata": {},
   "source": [
    "nombre_infected       837\n",
    "nombre_sain          1971\n",
    "nombre_exposed        418\n",
    "nombre_recovered    16774\n",
    "Name: 502, dtype: int64"
   ]
  },
  {
   "cell_type": "markdown",
   "id": "22f5806a",
   "metadata": {},
   "source": [
    "nombre_infected       842\n",
    "nombre_sain          1964\n",
    "nombre_exposed        410\n",
    "nombre_recovered    16784\n",
    "Name: 503, dtype: int64"
   ]
  },
  {
   "cell_type": "markdown",
   "id": "a67f0ea8",
   "metadata": {},
   "source": [
    "nombre_infected       820\n",
    "nombre_sain          1948\n",
    "nombre_exposed        424\n",
    "nombre_recovered    16808\n",
    "Name: 504, dtype: int64"
   ]
  },
  {
   "cell_type": "markdown",
   "id": "0f691e7f",
   "metadata": {},
   "source": [
    "nombre_infected       832\n",
    "nombre_sain          1958\n",
    "nombre_exposed        417\n",
    "nombre_recovered    16793\n",
    "Name: 505, dtype: int64"
   ]
  },
  {
   "cell_type": "markdown",
   "id": "48247bba",
   "metadata": {},
   "source": [
    "nombre_infected       823\n",
    "nombre_sain          1955\n",
    "nombre_exposed        444\n",
    "nombre_recovered    16778\n",
    "Name: 506, dtype: int64"
   ]
  },
  {
   "cell_type": "markdown",
   "id": "0d986806",
   "metadata": {},
   "source": [
    "nombre_infected       805\n",
    "nombre_sain          1976\n",
    "nombre_exposed        434\n",
    "nombre_recovered    16785\n",
    "Name: 507, dtype: int64"
   ]
  },
  {
   "cell_type": "markdown",
   "id": "89f28e91",
   "metadata": {},
   "source": [
    "nombre_infected       815\n",
    "nombre_sain          1990\n",
    "nombre_exposed        427\n",
    "nombre_recovered    16768\n",
    "Name: 508, dtype: int64"
   ]
  },
  {
   "cell_type": "markdown",
   "id": "2e0de36b",
   "metadata": {},
   "source": [
    "nombre_infected       834\n",
    "nombre_sain          1985\n",
    "nombre_exposed        416\n",
    "nombre_recovered    16765\n",
    "Name: 509, dtype: int64"
   ]
  },
  {
   "cell_type": "markdown",
   "id": "e828ba98",
   "metadata": {},
   "source": [
    "nombre_infected       839\n",
    "nombre_sain          1989\n",
    "nombre_exposed        416\n",
    "nombre_recovered    16756\n",
    "Name: 510, dtype: int64"
   ]
  },
  {
   "cell_type": "markdown",
   "id": "17af564a",
   "metadata": {},
   "source": [
    "nombre_infected       834\n",
    "nombre_sain          1987\n",
    "nombre_exposed        422\n",
    "nombre_recovered    16757\n",
    "Name: 511, dtype: int64"
   ]
  },
  {
   "cell_type": "markdown",
   "id": "517b5e87",
   "metadata": {},
   "source": [
    "nombre_infected       823\n",
    "nombre_sain          2019\n",
    "nombre_exposed        413\n",
    "nombre_recovered    16745\n",
    "Name: 512, dtype: int64"
   ]
  },
  {
   "cell_type": "markdown",
   "id": "f2cb58c8",
   "metadata": {},
   "source": [
    "nombre_infected       821\n",
    "nombre_sain          2021\n",
    "nombre_exposed        413\n",
    "nombre_recovered    16745\n",
    "Name: 513, dtype: int64"
   ]
  },
  {
   "cell_type": "markdown",
   "id": "c500bb86",
   "metadata": {},
   "source": [
    "nombre_infected       801\n",
    "nombre_sain          2035\n",
    "nombre_exposed        426\n",
    "nombre_recovered    16738\n",
    "Name: 514, dtype: int64"
   ]
  },
  {
   "cell_type": "markdown",
   "id": "a71eca61",
   "metadata": {},
   "source": [
    "nombre_infected       799\n",
    "nombre_sain          2069\n",
    "nombre_exposed        398\n",
    "nombre_recovered    16734\n",
    "Name: 515, dtype: int64"
   ]
  },
  {
   "cell_type": "markdown",
   "id": "aef669e1",
   "metadata": {},
   "source": [
    "nombre_infected       799\n",
    "nombre_sain          2089\n",
    "nombre_exposed        400\n",
    "nombre_recovered    16712\n",
    "Name: 516, dtype: int64"
   ]
  },
  {
   "cell_type": "markdown",
   "id": "0b2c18dd",
   "metadata": {},
   "source": [
    "nombre_infected       772\n",
    "nombre_sain          2124\n",
    "nombre_exposed        413\n",
    "nombre_recovered    16691\n",
    "Name: 517, dtype: int64"
   ]
  },
  {
   "cell_type": "markdown",
   "id": "fe83849c",
   "metadata": {},
   "source": [
    "nombre_infected       771\n",
    "nombre_sain          2156\n",
    "nombre_exposed        394\n",
    "nombre_recovered    16679\n",
    "Name: 518, dtype: int64"
   ]
  },
  {
   "cell_type": "markdown",
   "id": "4c5a626e",
   "metadata": {},
   "source": [
    "nombre_infected       797\n",
    "nombre_sain          2187\n",
    "nombre_exposed        375\n",
    "nombre_recovered    16641\n",
    "Name: 519, dtype: int64"
   ]
  },
  {
   "cell_type": "markdown",
   "id": "e0dba8a4",
   "metadata": {},
   "source": [
    "nombre_infected       796\n",
    "nombre_sain          2220\n",
    "nombre_exposed        387\n",
    "nombre_recovered    16597\n",
    "Name: 520, dtype: int64"
   ]
  },
  {
   "cell_type": "markdown",
   "id": "6401baeb",
   "metadata": {},
   "source": [
    "nombre_infected       780\n",
    "nombre_sain          2223\n",
    "nombre_exposed        418\n",
    "nombre_recovered    16579\n",
    "Name: 521, dtype: int64"
   ]
  },
  {
   "cell_type": "markdown",
   "id": "3b6d4ed3",
   "metadata": {},
   "source": [
    "nombre_infected       771\n",
    "nombre_sain          2219\n",
    "nombre_exposed        450\n",
    "nombre_recovered    16560\n",
    "Name: 522, dtype: int64"
   ]
  },
  {
   "cell_type": "markdown",
   "id": "61ed2977",
   "metadata": {},
   "source": [
    "nombre_infected       767\n",
    "nombre_sain          2252\n",
    "nombre_exposed        463\n",
    "nombre_recovered    16518\n",
    "Name: 523, dtype: int64"
   ]
  },
  {
   "cell_type": "markdown",
   "id": "ad41cef8",
   "metadata": {},
   "source": [
    "nombre_infected       768\n",
    "nombre_sain          2281\n",
    "nombre_exposed        444\n",
    "nombre_recovered    16507\n",
    "Name: 524, dtype: int64"
   ]
  },
  {
   "cell_type": "markdown",
   "id": "1912d934",
   "metadata": {},
   "source": [
    "nombre_infected       782\n",
    "nombre_sain          2301\n",
    "nombre_exposed        444\n",
    "nombre_recovered    16473\n",
    "Name: 525, dtype: int64"
   ]
  },
  {
   "cell_type": "markdown",
   "id": "5739f9d4",
   "metadata": {},
   "source": [
    "nombre_infected       791\n",
    "nombre_sain          2314\n",
    "nombre_exposed        444\n",
    "nombre_recovered    16451\n",
    "Name: 526, dtype: int64"
   ]
  },
  {
   "cell_type": "markdown",
   "id": "f13171fc",
   "metadata": {},
   "source": [
    "nombre_infected       770\n",
    "nombre_sain          2335\n",
    "nombre_exposed        445\n",
    "nombre_recovered    16450\n",
    "Name: 527, dtype: int64"
   ]
  },
  {
   "cell_type": "markdown",
   "id": "8884f94c",
   "metadata": {},
   "source": [
    "nombre_infected       767\n",
    "nombre_sain          2331\n",
    "nombre_exposed        452\n",
    "nombre_recovered    16450\n",
    "Name: 528, dtype: int64"
   ]
  },
  {
   "cell_type": "markdown",
   "id": "1cf21dd2",
   "metadata": {},
   "source": [
    "nombre_infected       769\n",
    "nombre_sain          2325\n",
    "nombre_exposed        456\n",
    "nombre_recovered    16450\n",
    "Name: 529, dtype: int64"
   ]
  },
  {
   "cell_type": "markdown",
   "id": "221ba85e",
   "metadata": {},
   "source": [
    "nombre_infected       761\n",
    "nombre_sain          2365\n",
    "nombre_exposed        459\n",
    "nombre_recovered    16415\n",
    "Name: 530, dtype: int64"
   ]
  },
  {
   "cell_type": "markdown",
   "id": "b8d89321",
   "metadata": {},
   "source": [
    "nombre_infected       773\n",
    "nombre_sain          2361\n",
    "nombre_exposed        464\n",
    "nombre_recovered    16402\n",
    "Name: 531, dtype: int64"
   ]
  },
  {
   "cell_type": "markdown",
   "id": "306125d3",
   "metadata": {},
   "source": [
    "nombre_infected       773\n",
    "nombre_sain          2381\n",
    "nombre_exposed        468\n",
    "nombre_recovered    16378\n",
    "Name: 532, dtype: int64"
   ]
  },
  {
   "cell_type": "markdown",
   "id": "c4121b4e",
   "metadata": {},
   "source": [
    "nombre_infected       770\n",
    "nombre_sain          2420\n",
    "nombre_exposed        480\n",
    "nombre_recovered    16330\n",
    "Name: 533, dtype: int64"
   ]
  },
  {
   "cell_type": "markdown",
   "id": "fc716145",
   "metadata": {},
   "source": [
    "nombre_infected       792\n",
    "nombre_sain          2418\n",
    "nombre_exposed        480\n",
    "nombre_recovered    16310\n",
    "Name: 534, dtype: int64"
   ]
  },
  {
   "cell_type": "markdown",
   "id": "b90201df",
   "metadata": {},
   "source": [
    "nombre_infected       825\n",
    "nombre_sain          2434\n",
    "nombre_exposed        470\n",
    "nombre_recovered    16271\n",
    "Name: 535, dtype: int64"
   ]
  },
  {
   "cell_type": "markdown",
   "id": "3010bf98",
   "metadata": {},
   "source": [
    "nombre_infected       846\n",
    "nombre_sain          2435\n",
    "nombre_exposed        454\n",
    "nombre_recovered    16265\n",
    "Name: 536, dtype: int64"
   ]
  },
  {
   "cell_type": "markdown",
   "id": "f55413b9",
   "metadata": {},
   "source": [
    "nombre_infected       845\n",
    "nombre_sain          2440\n",
    "nombre_exposed        458\n",
    "nombre_recovered    16257\n",
    "Name: 537, dtype: int64"
   ]
  },
  {
   "cell_type": "markdown",
   "id": "014c84e0",
   "metadata": {},
   "source": [
    "nombre_infected       850\n",
    "nombre_sain          2425\n",
    "nombre_exposed        478\n",
    "nombre_recovered    16247\n",
    "Name: 538, dtype: int64"
   ]
  },
  {
   "cell_type": "markdown",
   "id": "142f90b0",
   "metadata": {},
   "source": [
    "nombre_infected       850\n",
    "nombre_sain          2433\n",
    "nombre_exposed        478\n",
    "nombre_recovered    16239\n",
    "Name: 539, dtype: int64"
   ]
  },
  {
   "cell_type": "markdown",
   "id": "83588317",
   "metadata": {},
   "source": [
    "nombre_infected       839\n",
    "nombre_sain          2412\n",
    "nombre_exposed        497\n",
    "nombre_recovered    16252\n",
    "Name: 540, dtype: int64"
   ]
  },
  {
   "cell_type": "markdown",
   "id": "6f8c1083",
   "metadata": {},
   "source": [
    "nombre_infected       857\n",
    "nombre_sain          2393\n",
    "nombre_exposed        500\n",
    "nombre_recovered    16250\n",
    "Name: 541, dtype: int64"
   ]
  },
  {
   "cell_type": "markdown",
   "id": "147b2f6c",
   "metadata": {},
   "source": [
    "nombre_infected       862\n",
    "nombre_sain          2395\n",
    "nombre_exposed        480\n",
    "nombre_recovered    16263\n",
    "Name: 542, dtype: int64"
   ]
  },
  {
   "cell_type": "markdown",
   "id": "808cb271",
   "metadata": {},
   "source": [
    "nombre_infected       868\n",
    "nombre_sain          2407\n",
    "nombre_exposed        474\n",
    "nombre_recovered    16251\n",
    "Name: 543, dtype: int64"
   ]
  },
  {
   "cell_type": "markdown",
   "id": "2fb3a88a",
   "metadata": {},
   "source": [
    "nombre_infected       866\n",
    "nombre_sain          2417\n",
    "nombre_exposed        484\n",
    "nombre_recovered    16233\n",
    "Name: 544, dtype: int64"
   ]
  },
  {
   "cell_type": "markdown",
   "id": "9e1132c1",
   "metadata": {},
   "source": [
    "nombre_infected       873\n",
    "nombre_sain          2396\n",
    "nombre_exposed        495\n",
    "nombre_recovered    16236\n",
    "Name: 545, dtype: int64"
   ]
  },
  {
   "cell_type": "markdown",
   "id": "ff6495d5",
   "metadata": {},
   "source": [
    "nombre_infected       882\n",
    "nombre_sain          2369\n",
    "nombre_exposed        530\n",
    "nombre_recovered    16219\n",
    "Name: 546, dtype: int64"
   ]
  },
  {
   "cell_type": "markdown",
   "id": "b300c60b",
   "metadata": {},
   "source": [
    "nombre_infected       904\n",
    "nombre_sain          2357\n",
    "nombre_exposed        523\n",
    "nombre_recovered    16216\n",
    "Name: 547, dtype: int64"
   ]
  },
  {
   "cell_type": "markdown",
   "id": "3bf50c09",
   "metadata": {},
   "source": [
    "nombre_infected       915\n",
    "nombre_sain          2332\n",
    "nombre_exposed        539\n",
    "nombre_recovered    16214\n",
    "Name: 548, dtype: int64"
   ]
  },
  {
   "cell_type": "markdown",
   "id": "531d4e9c",
   "metadata": {},
   "source": [
    "nombre_infected       916\n",
    "nombre_sain          2344\n",
    "nombre_exposed        537\n",
    "nombre_recovered    16203\n",
    "Name: 549, dtype: int64"
   ]
  },
  {
   "cell_type": "markdown",
   "id": "161028ef",
   "metadata": {},
   "source": [
    "nombre_infected       956\n",
    "nombre_sain          2337\n",
    "nombre_exposed        528\n",
    "nombre_recovered    16179\n",
    "Name: 550, dtype: int64"
   ]
  },
  {
   "cell_type": "markdown",
   "id": "79ce60c6",
   "metadata": {},
   "source": [
    "nombre_infected       954\n",
    "nombre_sain          2330\n",
    "nombre_exposed        539\n",
    "nombre_recovered    16177\n",
    "Name: 551, dtype: int64"
   ]
  },
  {
   "cell_type": "markdown",
   "id": "3fa34f49",
   "metadata": {},
   "source": [
    "nombre_infected       958\n",
    "nombre_sain          2353\n",
    "nombre_exposed        529\n",
    "nombre_recovered    16160\n",
    "Name: 552, dtype: int64"
   ]
  },
  {
   "cell_type": "markdown",
   "id": "a57d3c43",
   "metadata": {},
   "source": [
    "nombre_infected       941\n",
    "nombre_sain          2368\n",
    "nombre_exposed        546\n",
    "nombre_recovered    16145\n",
    "Name: 553, dtype: int64"
   ]
  },
  {
   "cell_type": "markdown",
   "id": "ec4f8ef4",
   "metadata": {},
   "source": [
    "nombre_infected       949\n",
    "nombre_sain          2358\n",
    "nombre_exposed        568\n",
    "nombre_recovered    16125\n",
    "Name: 554, dtype: int64"
   ]
  },
  {
   "cell_type": "markdown",
   "id": "5d5f3316",
   "metadata": {},
   "source": [
    "nombre_infected       953\n",
    "nombre_sain          2369\n",
    "nombre_exposed        583\n",
    "nombre_recovered    16095\n",
    "Name: 555, dtype: int64"
   ]
  },
  {
   "cell_type": "markdown",
   "id": "5a64e802",
   "metadata": {},
   "source": [
    "nombre_infected       970\n",
    "nombre_sain          2350\n",
    "nombre_exposed        580\n",
    "nombre_recovered    16100\n",
    "Name: 556, dtype: int64"
   ]
  },
  {
   "cell_type": "markdown",
   "id": "e4b2c08f",
   "metadata": {},
   "source": [
    "nombre_infected       993\n",
    "nombre_sain          2331\n",
    "nombre_exposed        585\n",
    "nombre_recovered    16091\n",
    "Name: 557, dtype: int64"
   ]
  },
  {
   "cell_type": "markdown",
   "id": "f0248846",
   "metadata": {},
   "source": [
    "nombre_infected       996\n",
    "nombre_sain          2286\n",
    "nombre_exposed        620\n",
    "nombre_recovered    16098\n",
    "Name: 558, dtype: int64"
   ]
  },
  {
   "cell_type": "markdown",
   "id": "c33f0a02",
   "metadata": {},
   "source": [
    "nombre_infected      1006\n",
    "nombre_sain          2252\n",
    "nombre_exposed        624\n",
    "nombre_recovered    16118\n",
    "Name: 559, dtype: int64"
   ]
  },
  {
   "cell_type": "markdown",
   "id": "55e57939",
   "metadata": {},
   "source": [
    "nombre_infected      1050\n",
    "nombre_sain          2236\n",
    "nombre_exposed        603\n",
    "nombre_recovered    16111\n",
    "Name: 560, dtype: int64"
   ]
  },
  {
   "cell_type": "markdown",
   "id": "f3536d72",
   "metadata": {},
   "source": [
    "nombre_infected      1066\n",
    "nombre_sain          2192\n",
    "nombre_exposed        606\n",
    "nombre_recovered    16136\n",
    "Name: 561, dtype: int64"
   ]
  },
  {
   "cell_type": "markdown",
   "id": "ca13ab4d",
   "metadata": {},
   "source": [
    "nombre_infected      1083\n",
    "nombre_sain          2166\n",
    "nombre_exposed        592\n",
    "nombre_recovered    16159\n",
    "Name: 562, dtype: int64"
   ]
  },
  {
   "cell_type": "markdown",
   "id": "516c3856",
   "metadata": {},
   "source": [
    "nombre_infected      1106\n",
    "nombre_sain          2122\n",
    "nombre_exposed        585\n",
    "nombre_recovered    16187\n",
    "Name: 563, dtype: int64"
   ]
  },
  {
   "cell_type": "markdown",
   "id": "b1b8ed7e",
   "metadata": {},
   "source": [
    "nombre_infected      1107\n",
    "nombre_sain          2079\n",
    "nombre_exposed        585\n",
    "nombre_recovered    16229\n",
    "Name: 564, dtype: int64"
   ]
  },
  {
   "cell_type": "markdown",
   "id": "b00687f1",
   "metadata": {},
   "source": [
    "nombre_infected      1106\n",
    "nombre_sain          2054\n",
    "nombre_exposed        581\n",
    "nombre_recovered    16259\n",
    "Name: 565, dtype: int64"
   ]
  },
  {
   "cell_type": "markdown",
   "id": "51a63445",
   "metadata": {},
   "source": [
    "nombre_infected      1110\n",
    "nombre_sain          2036\n",
    "nombre_exposed        587\n",
    "nombre_recovered    16267\n",
    "Name: 566, dtype: int64"
   ]
  },
  {
   "cell_type": "markdown",
   "id": "079597b8",
   "metadata": {},
   "source": [
    "nombre_infected      1105\n",
    "nombre_sain          2022\n",
    "nombre_exposed        594\n",
    "nombre_recovered    16279\n",
    "Name: 567, dtype: int64"
   ]
  },
  {
   "cell_type": "markdown",
   "id": "318949d7",
   "metadata": {},
   "source": [
    "nombre_infected      1082\n",
    "nombre_sain          2005\n",
    "nombre_exposed        628\n",
    "nombre_recovered    16285\n",
    "Name: 568, dtype: int64"
   ]
  },
  {
   "cell_type": "markdown",
   "id": "18a4f0fd",
   "metadata": {},
   "source": [
    "nombre_infected      1121\n",
    "nombre_sain          1960\n",
    "nombre_exposed        634\n",
    "nombre_recovered    16285\n",
    "Name: 569, dtype: int64"
   ]
  },
  {
   "cell_type": "markdown",
   "id": "6cc60a1f",
   "metadata": {},
   "source": [
    "nombre_infected      1115\n",
    "nombre_sain          1944\n",
    "nombre_exposed        618\n",
    "nombre_recovered    16323\n",
    "Name: 570, dtype: int64"
   ]
  },
  {
   "cell_type": "markdown",
   "id": "c6ab95c3",
   "metadata": {},
   "source": [
    "nombre_infected      1154\n",
    "nombre_sain          1942\n",
    "nombre_exposed        577\n",
    "nombre_recovered    16327\n",
    "Name: 571, dtype: int64"
   ]
  },
  {
   "cell_type": "markdown",
   "id": "46ef0917",
   "metadata": {},
   "source": [
    "nombre_infected      1166\n",
    "nombre_sain          1940\n",
    "nombre_exposed        565\n",
    "nombre_recovered    16329\n",
    "Name: 572, dtype: int64"
   ]
  },
  {
   "cell_type": "markdown",
   "id": "11452a07",
   "metadata": {},
   "source": [
    "nombre_infected      1147\n",
    "nombre_sain          1937\n",
    "nombre_exposed        573\n",
    "nombre_recovered    16343\n",
    "Name: 573, dtype: int64"
   ]
  },
  {
   "cell_type": "markdown",
   "id": "0c61ba03",
   "metadata": {},
   "source": [
    "nombre_infected      1128\n",
    "nombre_sain          1898\n",
    "nombre_exposed        599\n",
    "nombre_recovered    16375\n",
    "Name: 574, dtype: int64"
   ]
  },
  {
   "cell_type": "markdown",
   "id": "f372adc0",
   "metadata": {},
   "source": [
    "nombre_infected      1139\n",
    "nombre_sain          1872\n",
    "nombre_exposed        592\n",
    "nombre_recovered    16397\n",
    "Name: 575, dtype: int64"
   ]
  },
  {
   "cell_type": "markdown",
   "id": "42f4b474",
   "metadata": {},
   "source": [
    "nombre_infected      1140\n",
    "nombre_sain          1843\n",
    "nombre_exposed        611\n",
    "nombre_recovered    16406\n",
    "Name: 576, dtype: int64"
   ]
  },
  {
   "cell_type": "markdown",
   "id": "454cfe35",
   "metadata": {},
   "source": [
    "nombre_infected      1165\n",
    "nombre_sain          1821\n",
    "nombre_exposed        612\n",
    "nombre_recovered    16402\n",
    "Name: 577, dtype: int64"
   ]
  },
  {
   "cell_type": "markdown",
   "id": "cee44976",
   "metadata": {},
   "source": [
    "nombre_infected      1156\n",
    "nombre_sain          1809\n",
    "nombre_exposed        609\n",
    "nombre_recovered    16426\n",
    "Name: 578, dtype: int64"
   ]
  },
  {
   "cell_type": "markdown",
   "id": "4693df11",
   "metadata": {},
   "source": [
    "nombre_infected      1131\n",
    "nombre_sain          1822\n",
    "nombre_exposed        608\n",
    "nombre_recovered    16439\n",
    "Name: 579, dtype: int64"
   ]
  },
  {
   "cell_type": "markdown",
   "id": "8286eb5b",
   "metadata": {},
   "source": [
    "nombre_infected      1134\n",
    "nombre_sain          1826\n",
    "nombre_exposed        593\n",
    "nombre_recovered    16447\n",
    "Name: 580, dtype: int64"
   ]
  },
  {
   "cell_type": "markdown",
   "id": "c47342cb",
   "metadata": {},
   "source": [
    "nombre_infected      1153\n",
    "nombre_sain          1843\n",
    "nombre_exposed        548\n",
    "nombre_recovered    16456\n",
    "Name: 581, dtype: int64"
   ]
  },
  {
   "cell_type": "markdown",
   "id": "a7236843",
   "metadata": {},
   "source": [
    "nombre_infected      1138\n",
    "nombre_sain          1841\n",
    "nombre_exposed        543\n",
    "nombre_recovered    16478\n",
    "Name: 582, dtype: int64"
   ]
  },
  {
   "cell_type": "markdown",
   "id": "7318af52",
   "metadata": {},
   "source": [
    "nombre_infected      1112\n",
    "nombre_sain          1865\n",
    "nombre_exposed        545\n",
    "nombre_recovered    16478\n",
    "Name: 583, dtype: int64"
   ]
  },
  {
   "cell_type": "markdown",
   "id": "84aafaa5",
   "metadata": {},
   "source": [
    "nombre_infected      1120\n",
    "nombre_sain          1855\n",
    "nombre_exposed        527\n",
    "nombre_recovered    16498\n",
    "Name: 584, dtype: int64"
   ]
  },
  {
   "cell_type": "markdown",
   "id": "4aa8b5f3",
   "metadata": {},
   "source": [
    "nombre_infected      1121\n",
    "nombre_sain          1883\n",
    "nombre_exposed        511\n",
    "nombre_recovered    16485\n",
    "Name: 585, dtype: int64"
   ]
  },
  {
   "cell_type": "markdown",
   "id": "19b7c6da",
   "metadata": {},
   "source": [
    "nombre_infected      1106\n",
    "nombre_sain          1883\n",
    "nombre_exposed        505\n",
    "nombre_recovered    16506\n",
    "Name: 586, dtype: int64"
   ]
  },
  {
   "cell_type": "markdown",
   "id": "56f16879",
   "metadata": {},
   "source": [
    "nombre_infected      1125\n",
    "nombre_sain          1869\n",
    "nombre_exposed        510\n",
    "nombre_recovered    16496\n",
    "Name: 587, dtype: int64"
   ]
  },
  {
   "cell_type": "markdown",
   "id": "f2116604",
   "metadata": {},
   "source": [
    "nombre_infected      1105\n",
    "nombre_sain          1871\n",
    "nombre_exposed        528\n",
    "nombre_recovered    16496\n",
    "Name: 588, dtype: int64"
   ]
  },
  {
   "cell_type": "markdown",
   "id": "813bd8ad",
   "metadata": {},
   "source": [
    "nombre_infected      1110\n",
    "nombre_sain          1861\n",
    "nombre_exposed        533\n",
    "nombre_recovered    16496\n",
    "Name: 589, dtype: int64"
   ]
  },
  {
   "cell_type": "markdown",
   "id": "8b9aa8ff",
   "metadata": {},
   "source": [
    "nombre_infected      1107\n",
    "nombre_sain          1885\n",
    "nombre_exposed        516\n",
    "nombre_recovered    16492\n",
    "Name: 590, dtype: int64"
   ]
  },
  {
   "cell_type": "markdown",
   "id": "3249b26e",
   "metadata": {},
   "source": [
    "nombre_infected      1113\n",
    "nombre_sain          1899\n",
    "nombre_exposed        502\n",
    "nombre_recovered    16486\n",
    "Name: 591, dtype: int64"
   ]
  },
  {
   "cell_type": "markdown",
   "id": "20aca48c",
   "metadata": {},
   "source": [
    "nombre_infected      1094\n",
    "nombre_sain          1914\n",
    "nombre_exposed        518\n",
    "nombre_recovered    16474\n",
    "Name: 592, dtype: int64"
   ]
  },
  {
   "cell_type": "markdown",
   "id": "1a3ae85c",
   "metadata": {},
   "source": [
    "nombre_infected      1097\n",
    "nombre_sain          1928\n",
    "nombre_exposed        507\n",
    "nombre_recovered    16468\n",
    "Name: 593, dtype: int64"
   ]
  },
  {
   "cell_type": "markdown",
   "id": "a3401d3f",
   "metadata": {},
   "source": [
    "nombre_infected      1109\n",
    "nombre_sain          1928\n",
    "nombre_exposed        506\n",
    "nombre_recovered    16457\n",
    "Name: 594, dtype: int64"
   ]
  },
  {
   "cell_type": "markdown",
   "id": "21a33ebf",
   "metadata": {},
   "source": [
    "nombre_infected      1087\n",
    "nombre_sain          1948\n",
    "nombre_exposed        510\n",
    "nombre_recovered    16455\n",
    "Name: 595, dtype: int64"
   ]
  },
  {
   "cell_type": "markdown",
   "id": "8b64ca69",
   "metadata": {},
   "source": [
    "nombre_infected      1080\n",
    "nombre_sain          1954\n",
    "nombre_exposed        522\n",
    "nombre_recovered    16444\n",
    "Name: 596, dtype: int64"
   ]
  },
  {
   "cell_type": "markdown",
   "id": "571c020e",
   "metadata": {},
   "source": [
    "nombre_infected      1057\n",
    "nombre_sain          1972\n",
    "nombre_exposed        525\n",
    "nombre_recovered    16446\n",
    "Name: 597, dtype: int64"
   ]
  },
  {
   "cell_type": "markdown",
   "id": "732f8394",
   "metadata": {},
   "source": [
    "nombre_infected      1068\n",
    "nombre_sain          1987\n",
    "nombre_exposed        519\n",
    "nombre_recovered    16426\n",
    "Name: 598, dtype: int64"
   ]
  },
  {
   "cell_type": "markdown",
   "id": "9c956618",
   "metadata": {},
   "source": [
    "nombre_infected      1072\n",
    "nombre_sain          2023\n",
    "nombre_exposed        498\n",
    "nombre_recovered    16407\n",
    "Name: 599, dtype: int64"
   ]
  },
  {
   "cell_type": "markdown",
   "id": "b62258d5",
   "metadata": {},
   "source": [
    "nombre_infected      1066\n",
    "nombre_sain          2009\n",
    "nombre_exposed        511\n",
    "nombre_recovered    16414\n",
    "Name: 600, dtype: int64"
   ]
  },
  {
   "cell_type": "markdown",
   "id": "21643cdc",
   "metadata": {},
   "source": [
    "nombre_infected      1047\n",
    "nombre_sain          1984\n",
    "nombre_exposed        539\n",
    "nombre_recovered    16430\n",
    "Name: 601, dtype: int64"
   ]
  },
  {
   "cell_type": "markdown",
   "id": "3e724f2c",
   "metadata": {},
   "source": [
    "nombre_infected      1040\n",
    "nombre_sain          1998\n",
    "nombre_exposed        540\n",
    "nombre_recovered    16422\n",
    "Name: 602, dtype: int64"
   ]
  },
  {
   "cell_type": "markdown",
   "id": "30805457",
   "metadata": {},
   "source": [
    "nombre_infected      1064\n",
    "nombre_sain          2002\n",
    "nombre_exposed        529\n",
    "nombre_recovered    16405\n",
    "Name: 603, dtype: int64"
   ]
  },
  {
   "cell_type": "markdown",
   "id": "61aa74ba",
   "metadata": {},
   "source": [
    "nombre_infected      1046\n",
    "nombre_sain          2017\n",
    "nombre_exposed        542\n",
    "nombre_recovered    16395\n",
    "Name: 604, dtype: int64"
   ]
  },
  {
   "cell_type": "markdown",
   "id": "124136f6",
   "metadata": {},
   "source": [
    "nombre_infected      1069\n",
    "nombre_sain          2030\n",
    "nombre_exposed        530\n",
    "nombre_recovered    16371\n",
    "Name: 605, dtype: int64"
   ]
  },
  {
   "cell_type": "markdown",
   "id": "b4ed544c",
   "metadata": {},
   "source": [
    "nombre_infected      1059\n",
    "nombre_sain          2040\n",
    "nombre_exposed        541\n",
    "nombre_recovered    16360\n",
    "Name: 606, dtype: int64"
   ]
  },
  {
   "cell_type": "markdown",
   "id": "4e09064f",
   "metadata": {},
   "source": [
    "nombre_infected      1052\n",
    "nombre_sain          2032\n",
    "nombre_exposed        556\n",
    "nombre_recovered    16360\n",
    "Name: 607, dtype: int64"
   ]
  },
  {
   "cell_type": "markdown",
   "id": "b9d31a39",
   "metadata": {},
   "source": [
    "nombre_infected      1056\n",
    "nombre_sain          2042\n",
    "nombre_exposed        556\n",
    "nombre_recovered    16346\n",
    "Name: 608, dtype: int64"
   ]
  },
  {
   "cell_type": "markdown",
   "id": "0da02d8b",
   "metadata": {},
   "source": [
    "nombre_infected      1064\n",
    "nombre_sain          2044\n",
    "nombre_exposed        560\n",
    "nombre_recovered    16332\n",
    "Name: 609, dtype: int64"
   ]
  },
  {
   "cell_type": "markdown",
   "id": "54fd2702",
   "metadata": {},
   "source": [
    "nombre_infected      1056\n",
    "nombre_sain          2076\n",
    "nombre_exposed        537\n",
    "nombre_recovered    16331\n",
    "Name: 610, dtype: int64"
   ]
  },
  {
   "cell_type": "markdown",
   "id": "cfcec89c",
   "metadata": {},
   "source": [
    "nombre_infected      1061\n",
    "nombre_sain          2081\n",
    "nombre_exposed        530\n",
    "nombre_recovered    16328\n",
    "Name: 611, dtype: int64"
   ]
  },
  {
   "cell_type": "markdown",
   "id": "605671fc",
   "metadata": {},
   "source": [
    "nombre_infected      1066\n",
    "nombre_sain          2106\n",
    "nombre_exposed        540\n",
    "nombre_recovered    16288\n",
    "Name: 612, dtype: int64"
   ]
  },
  {
   "cell_type": "markdown",
   "id": "d40168fa",
   "metadata": {},
   "source": [
    "nombre_infected      1061\n",
    "nombre_sain          2113\n",
    "nombre_exposed        528\n",
    "nombre_recovered    16298\n",
    "Name: 613, dtype: int64"
   ]
  },
  {
   "cell_type": "markdown",
   "id": "3dd970e7",
   "metadata": {},
   "source": [
    "nombre_infected      1068\n",
    "nombre_sain          2110\n",
    "nombre_exposed        524\n",
    "nombre_recovered    16298\n",
    "Name: 614, dtype: int64"
   ]
  },
  {
   "cell_type": "markdown",
   "id": "1c36bee8",
   "metadata": {},
   "source": [
    "nombre_infected      1078\n",
    "nombre_sain          2104\n",
    "nombre_exposed        533\n",
    "nombre_recovered    16285\n",
    "Name: 615, dtype: int64"
   ]
  },
  {
   "cell_type": "markdown",
   "id": "22b1d856",
   "metadata": {},
   "source": [
    "nombre_infected      1075\n",
    "nombre_sain          2115\n",
    "nombre_exposed        542\n",
    "nombre_recovered    16268\n",
    "Name: 616, dtype: int64"
   ]
  },
  {
   "cell_type": "markdown",
   "id": "ad9c471d",
   "metadata": {},
   "source": [
    "nombre_infected      1072\n",
    "nombre_sain          2098\n",
    "nombre_exposed        549\n",
    "nombre_recovered    16281\n",
    "Name: 617, dtype: int64"
   ]
  },
  {
   "cell_type": "markdown",
   "id": "f5b45c0f",
   "metadata": {},
   "source": [
    "nombre_infected      1066\n",
    "nombre_sain          2082\n",
    "nombre_exposed        560\n",
    "nombre_recovered    16292\n",
    "Name: 618, dtype: int64"
   ]
  },
  {
   "cell_type": "markdown",
   "id": "91b31a38",
   "metadata": {},
   "source": [
    "nombre_infected      1058\n",
    "nombre_sain          2069\n",
    "nombre_exposed        569\n",
    "nombre_recovered    16304\n",
    "Name: 619, dtype: int64"
   ]
  },
  {
   "cell_type": "markdown",
   "id": "ef805a0c",
   "metadata": {},
   "source": [
    "nombre_infected      1074\n",
    "nombre_sain          2088\n",
    "nombre_exposed        565\n",
    "nombre_recovered    16273\n",
    "Name: 620, dtype: int64"
   ]
  },
  {
   "cell_type": "markdown",
   "id": "1ecb5ecc",
   "metadata": {},
   "source": [
    "nombre_infected      1065\n",
    "nombre_sain          2067\n",
    "nombre_exposed        589\n",
    "nombre_recovered    16279\n",
    "Name: 621, dtype: int64"
   ]
  },
  {
   "cell_type": "markdown",
   "id": "229823f1",
   "metadata": {},
   "source": [
    "nombre_infected      1092\n",
    "nombre_sain          2066\n",
    "nombre_exposed        559\n",
    "nombre_recovered    16283\n",
    "Name: 622, dtype: int64"
   ]
  },
  {
   "cell_type": "markdown",
   "id": "be6babab",
   "metadata": {},
   "source": [
    "nombre_infected      1116\n",
    "nombre_sain          2068\n",
    "nombre_exposed        562\n",
    "nombre_recovered    16254\n",
    "Name: 623, dtype: int64"
   ]
  },
  {
   "cell_type": "markdown",
   "id": "207819ef",
   "metadata": {},
   "source": [
    "nombre_infected      1118\n",
    "nombre_sain          2031\n",
    "nombre_exposed        587\n",
    "nombre_recovered    16264\n",
    "Name: 624, dtype: int64"
   ]
  },
  {
   "cell_type": "markdown",
   "id": "211c73a2",
   "metadata": {},
   "source": [
    "nombre_infected      1124\n",
    "nombre_sain          2037\n",
    "nombre_exposed        575\n",
    "nombre_recovered    16264\n",
    "Name: 625, dtype: int64"
   ]
  },
  {
   "cell_type": "markdown",
   "id": "7bc7c2b4",
   "metadata": {},
   "source": [
    "nombre_infected      1151\n",
    "nombre_sain          2008\n",
    "nombre_exposed        566\n",
    "nombre_recovered    16275\n",
    "Name: 626, dtype: int64"
   ]
  },
  {
   "cell_type": "markdown",
   "id": "a8796e5e",
   "metadata": {},
   "source": [
    "nombre_infected      1156\n",
    "nombre_sain          1982\n",
    "nombre_exposed        566\n",
    "nombre_recovered    16296\n",
    "Name: 627, dtype: int64"
   ]
  },
  {
   "cell_type": "markdown",
   "id": "72ed6c1a",
   "metadata": {},
   "source": [
    "nombre_infected      1164\n",
    "nombre_sain          1969\n",
    "nombre_exposed        562\n",
    "nombre_recovered    16305\n",
    "Name: 628, dtype: int64"
   ]
  },
  {
   "cell_type": "markdown",
   "id": "180ac1e2",
   "metadata": {},
   "source": [
    "nombre_infected      1158\n",
    "nombre_sain          1956\n",
    "nombre_exposed        566\n",
    "nombre_recovered    16320\n",
    "Name: 629, dtype: int64"
   ]
  },
  {
   "cell_type": "markdown",
   "id": "f896c8f7",
   "metadata": {},
   "source": [
    "nombre_infected      1194\n",
    "nombre_sain          1944\n",
    "nombre_exposed        550\n",
    "nombre_recovered    16312\n",
    "Name: 630, dtype: int64"
   ]
  },
  {
   "cell_type": "markdown",
   "id": "5e0827ae",
   "metadata": {},
   "source": [
    "nombre_infected      1202\n",
    "nombre_sain          1935\n",
    "nombre_exposed        537\n",
    "nombre_recovered    16326\n",
    "Name: 631, dtype: int64"
   ]
  },
  {
   "cell_type": "markdown",
   "id": "6eceec94",
   "metadata": {},
   "source": [
    "nombre_infected      1216\n",
    "nombre_sain          1914\n",
    "nombre_exposed        524\n",
    "nombre_recovered    16346\n",
    "Name: 632, dtype: int64"
   ]
  },
  {
   "cell_type": "markdown",
   "id": "deb4422d",
   "metadata": {},
   "source": [
    "nombre_infected      1226\n",
    "nombre_sain          1927\n",
    "nombre_exposed        517\n",
    "nombre_recovered    16330\n",
    "Name: 633, dtype: int64"
   ]
  },
  {
   "cell_type": "markdown",
   "id": "dca94756",
   "metadata": {},
   "source": [
    "nombre_infected      1183\n",
    "nombre_sain          1929\n",
    "nombre_exposed        527\n",
    "nombre_recovered    16361\n",
    "Name: 634, dtype: int64"
   ]
  },
  {
   "cell_type": "markdown",
   "id": "798d84c0",
   "metadata": {},
   "source": [
    "nombre_infected      1151\n",
    "nombre_sain          1882\n",
    "nombre_exposed        577\n",
    "nombre_recovered    16390\n",
    "Name: 635, dtype: int64"
   ]
  },
  {
   "cell_type": "markdown",
   "id": "319b96bd",
   "metadata": {},
   "source": [
    "nombre_infected      1181\n",
    "nombre_sain          1877\n",
    "nombre_exposed        565\n",
    "nombre_recovered    16377\n",
    "Name: 636, dtype: int64"
   ]
  },
  {
   "cell_type": "markdown",
   "id": "df25589b",
   "metadata": {},
   "source": [
    "nombre_infected      1165\n",
    "nombre_sain          1864\n",
    "nombre_exposed        583\n",
    "nombre_recovered    16388\n",
    "Name: 637, dtype: int64"
   ]
  },
  {
   "cell_type": "markdown",
   "id": "aebb6c54",
   "metadata": {},
   "source": [
    "nombre_infected      1178\n",
    "nombre_sain          1853\n",
    "nombre_exposed        552\n",
    "nombre_recovered    16417\n",
    "Name: 638, dtype: int64"
   ]
  },
  {
   "cell_type": "markdown",
   "id": "7d2499d4",
   "metadata": {},
   "source": [
    "nombre_infected      1173\n",
    "nombre_sain          1843\n",
    "nombre_exposed        556\n",
    "nombre_recovered    16428\n",
    "Name: 639, dtype: int64"
   ]
  },
  {
   "cell_type": "markdown",
   "id": "fc25ab05",
   "metadata": {},
   "source": [
    "nombre_infected      1158\n",
    "nombre_sain          1838\n",
    "nombre_exposed        552\n",
    "nombre_recovered    16452\n",
    "Name: 640, dtype: int64"
   ]
  },
  {
   "cell_type": "markdown",
   "id": "aba2f316",
   "metadata": {},
   "source": [
    "nombre_infected      1139\n",
    "nombre_sain          1830\n",
    "nombre_exposed        536\n",
    "nombre_recovered    16495\n",
    "Name: 641, dtype: int64"
   ]
  },
  {
   "cell_type": "markdown",
   "id": "8cdde218",
   "metadata": {},
   "source": [
    "nombre_infected      1148\n",
    "nombre_sain          1808\n",
    "nombre_exposed        526\n",
    "nombre_recovered    16518\n",
    "Name: 642, dtype: int64"
   ]
  },
  {
   "cell_type": "markdown",
   "id": "6a9d4e42",
   "metadata": {},
   "source": [
    "nombre_infected      1150\n",
    "nombre_sain          1849\n",
    "nombre_exposed        496\n",
    "nombre_recovered    16505\n",
    "Name: 643, dtype: int64"
   ]
  },
  {
   "cell_type": "markdown",
   "id": "02a447d5",
   "metadata": {},
   "source": [
    "nombre_infected      1100\n",
    "nombre_sain          1847\n",
    "nombre_exposed        499\n",
    "nombre_recovered    16554\n",
    "Name: 644, dtype: int64"
   ]
  },
  {
   "cell_type": "markdown",
   "id": "3dc27602",
   "metadata": {},
   "source": [
    "nombre_infected      1079\n",
    "nombre_sain          1851\n",
    "nombre_exposed        490\n",
    "nombre_recovered    16580\n",
    "Name: 645, dtype: int64"
   ]
  },
  {
   "cell_type": "markdown",
   "id": "9a38fe0f",
   "metadata": {},
   "source": [
    "nombre_infected      1062\n",
    "nombre_sain          1829\n",
    "nombre_exposed        501\n",
    "nombre_recovered    16608\n",
    "Name: 646, dtype: int64"
   ]
  },
  {
   "cell_type": "markdown",
   "id": "3488eeda",
   "metadata": {},
   "source": [
    "nombre_infected      1050\n",
    "nombre_sain          1850\n",
    "nombre_exposed        503\n",
    "nombre_recovered    16597\n",
    "Name: 647, dtype: int64"
   ]
  },
  {
   "cell_type": "markdown",
   "id": "d1570695",
   "metadata": {},
   "source": [
    "nombre_infected      1043\n",
    "nombre_sain          1865\n",
    "nombre_exposed        501\n",
    "nombre_recovered    16591\n",
    "Name: 648, dtype: int64"
   ]
  },
  {
   "cell_type": "markdown",
   "id": "063620af",
   "metadata": {},
   "source": [
    "nombre_infected      1013\n",
    "nombre_sain          1856\n",
    "nombre_exposed        512\n",
    "nombre_recovered    16619\n",
    "Name: 649, dtype: int64"
   ]
  },
  {
   "cell_type": "markdown",
   "id": "1eea2bfa",
   "metadata": {},
   "source": [
    "nombre_infected       971\n",
    "nombre_sain          1847\n",
    "nombre_exposed        533\n",
    "nombre_recovered    16649\n",
    "Name: 650, dtype: int64"
   ]
  },
  {
   "cell_type": "markdown",
   "id": "7c04a393",
   "metadata": {},
   "source": [
    "nombre_infected       968\n",
    "nombre_sain          1830\n",
    "nombre_exposed        538\n",
    "nombre_recovered    16664\n",
    "Name: 651, dtype: int64"
   ]
  },
  {
   "cell_type": "markdown",
   "id": "2b26015b",
   "metadata": {},
   "source": [
    "nombre_infected       982\n",
    "nombre_sain          1836\n",
    "nombre_exposed        519\n",
    "nombre_recovered    16663\n",
    "Name: 652, dtype: int64"
   ]
  },
  {
   "cell_type": "markdown",
   "id": "ba577438",
   "metadata": {},
   "source": [
    "nombre_infected       985\n",
    "nombre_sain          1869\n",
    "nombre_exposed        479\n",
    "nombre_recovered    16667\n",
    "Name: 653, dtype: int64"
   ]
  },
  {
   "cell_type": "markdown",
   "id": "1b0df47b",
   "metadata": {},
   "source": [
    "nombre_infected       969\n",
    "nombre_sain          1878\n",
    "nombre_exposed        493\n",
    "nombre_recovered    16660\n",
    "Name: 654, dtype: int64"
   ]
  },
  {
   "cell_type": "markdown",
   "id": "38adc34d",
   "metadata": {},
   "source": [
    "nombre_infected       924\n",
    "nombre_sain          1906\n",
    "nombre_exposed        487\n",
    "nombre_recovered    16683\n",
    "Name: 655, dtype: int64"
   ]
  },
  {
   "cell_type": "markdown",
   "id": "8763aa56",
   "metadata": {},
   "source": [
    "nombre_infected       924\n",
    "nombre_sain          1920\n",
    "nombre_exposed        462\n",
    "nombre_recovered    16694\n",
    "Name: 656, dtype: int64"
   ]
  },
  {
   "cell_type": "markdown",
   "id": "65663c38",
   "metadata": {},
   "source": [
    "nombre_infected       917\n",
    "nombre_sain          1938\n",
    "nombre_exposed        444\n",
    "nombre_recovered    16701\n",
    "Name: 657, dtype: int64"
   ]
  },
  {
   "cell_type": "markdown",
   "id": "736e9e29",
   "metadata": {},
   "source": [
    "nombre_infected       880\n",
    "nombre_sain          1967\n",
    "nombre_exposed        456\n",
    "nombre_recovered    16697\n",
    "Name: 658, dtype: int64"
   ]
  },
  {
   "cell_type": "markdown",
   "id": "2760dad6",
   "metadata": {},
   "source": [
    "nombre_infected       867\n",
    "nombre_sain          1979\n",
    "nombre_exposed        448\n",
    "nombre_recovered    16706\n",
    "Name: 659, dtype: int64"
   ]
  },
  {
   "cell_type": "markdown",
   "id": "384d8924",
   "metadata": {},
   "source": [
    "nombre_infected       858\n",
    "nombre_sain          2026\n",
    "nombre_exposed        452\n",
    "nombre_recovered    16664\n",
    "Name: 660, dtype: int64"
   ]
  },
  {
   "cell_type": "markdown",
   "id": "eec79060",
   "metadata": {},
   "source": [
    "nombre_infected       845\n",
    "nombre_sain          2035\n",
    "nombre_exposed        460\n",
    "nombre_recovered    16660\n",
    "Name: 661, dtype: int64"
   ]
  },
  {
   "cell_type": "markdown",
   "id": "d5953db5",
   "metadata": {},
   "source": [
    "nombre_infected       856\n",
    "nombre_sain          2061\n",
    "nombre_exposed        460\n",
    "nombre_recovered    16623\n",
    "Name: 662, dtype: int64"
   ]
  },
  {
   "cell_type": "markdown",
   "id": "753be6a7",
   "metadata": {},
   "source": [
    "nombre_infected       860\n",
    "nombre_sain          2088\n",
    "nombre_exposed        453\n",
    "nombre_recovered    16599\n",
    "Name: 663, dtype: int64"
   ]
  },
  {
   "cell_type": "markdown",
   "id": "23b13bd3",
   "metadata": {},
   "source": [
    "nombre_infected       842\n",
    "nombre_sain          2116\n",
    "nombre_exposed        471\n",
    "nombre_recovered    16571\n",
    "Name: 664, dtype: int64"
   ]
  },
  {
   "cell_type": "markdown",
   "id": "fc354a05",
   "metadata": {},
   "source": [
    "nombre_infected       834\n",
    "nombre_sain          2133\n",
    "nombre_exposed        473\n",
    "nombre_recovered    16560\n",
    "Name: 665, dtype: int64"
   ]
  },
  {
   "cell_type": "markdown",
   "id": "9f72eae6",
   "metadata": {},
   "source": [
    "nombre_infected       841\n",
    "nombre_sain          2153\n",
    "nombre_exposed        455\n",
    "nombre_recovered    16551\n",
    "Name: 666, dtype: int64"
   ]
  },
  {
   "cell_type": "markdown",
   "id": "46f530e7",
   "metadata": {},
   "source": [
    "nombre_infected       826\n",
    "nombre_sain          2135\n",
    "nombre_exposed        476\n",
    "nombre_recovered    16563\n",
    "Name: 667, dtype: int64"
   ]
  },
  {
   "cell_type": "markdown",
   "id": "4e22f70e",
   "metadata": {},
   "source": [
    "nombre_infected       836\n",
    "nombre_sain          2147\n",
    "nombre_exposed        470\n",
    "nombre_recovered    16547\n",
    "Name: 668, dtype: int64"
   ]
  },
  {
   "cell_type": "markdown",
   "id": "4d43a6d3",
   "metadata": {},
   "source": [
    "nombre_infected       852\n",
    "nombre_sain          2144\n",
    "nombre_exposed        484\n",
    "nombre_recovered    16520\n",
    "Name: 669, dtype: int64"
   ]
  },
  {
   "cell_type": "markdown",
   "id": "e3bef6d1",
   "metadata": {},
   "source": [
    "nombre_infected       860\n",
    "nombre_sain          2154\n",
    "nombre_exposed        480\n",
    "nombre_recovered    16506\n",
    "Name: 670, dtype: int64"
   ]
  },
  {
   "cell_type": "markdown",
   "id": "c99a577e",
   "metadata": {},
   "source": [
    "nombre_infected       862\n",
    "nombre_sain          2173\n",
    "nombre_exposed        469\n",
    "nombre_recovered    16496\n",
    "Name: 671, dtype: int64"
   ]
  },
  {
   "cell_type": "markdown",
   "id": "e276030e",
   "metadata": {},
   "source": [
    "nombre_infected       853\n",
    "nombre_sain          2169\n",
    "nombre_exposed        498\n",
    "nombre_recovered    16480\n",
    "Name: 672, dtype: int64"
   ]
  },
  {
   "cell_type": "markdown",
   "id": "920dd045",
   "metadata": {},
   "source": [
    "nombre_infected       857\n",
    "nombre_sain          2182\n",
    "nombre_exposed        511\n",
    "nombre_recovered    16450\n",
    "Name: 673, dtype: int64"
   ]
  },
  {
   "cell_type": "markdown",
   "id": "f3469569",
   "metadata": {},
   "source": [
    "nombre_infected       849\n",
    "nombre_sain          2180\n",
    "nombre_exposed        514\n",
    "nombre_recovered    16457\n",
    "Name: 674, dtype: int64"
   ]
  },
  {
   "cell_type": "markdown",
   "id": "8ed14693",
   "metadata": {},
   "source": [
    "nombre_infected       871\n",
    "nombre_sain          2185\n",
    "nombre_exposed        508\n",
    "nombre_recovered    16436\n",
    "Name: 675, dtype: int64"
   ]
  },
  {
   "cell_type": "markdown",
   "id": "1b674530",
   "metadata": {},
   "source": [
    "nombre_infected       884\n",
    "nombre_sain          2180\n",
    "nombre_exposed        517\n",
    "nombre_recovered    16419\n",
    "Name: 676, dtype: int64"
   ]
  },
  {
   "cell_type": "markdown",
   "id": "5f9b4268",
   "metadata": {},
   "source": [
    "nombre_infected       877\n",
    "nombre_sain          2187\n",
    "nombre_exposed        534\n",
    "nombre_recovered    16402\n",
    "Name: 677, dtype: int64"
   ]
  },
  {
   "cell_type": "markdown",
   "id": "2ab2d425",
   "metadata": {},
   "source": [
    "nombre_infected       889\n",
    "nombre_sain          2188\n",
    "nombre_exposed        542\n",
    "nombre_recovered    16381\n",
    "Name: 678, dtype: int64"
   ]
  },
  {
   "cell_type": "markdown",
   "id": "70ae32ad",
   "metadata": {},
   "source": [
    "nombre_infected       894\n",
    "nombre_sain          2188\n",
    "nombre_exposed        534\n",
    "nombre_recovered    16384\n",
    "Name: 679, dtype: int64"
   ]
  },
  {
   "cell_type": "markdown",
   "id": "91319ffa",
   "metadata": {},
   "source": [
    "nombre_infected       906\n",
    "nombre_sain          2168\n",
    "nombre_exposed        524\n",
    "nombre_recovered    16402\n",
    "Name: 680, dtype: int64"
   ]
  },
  {
   "cell_type": "markdown",
   "id": "a24054fb",
   "metadata": {},
   "source": [
    "nombre_infected       904\n",
    "nombre_sain          2146\n",
    "nombre_exposed        527\n",
    "nombre_recovered    16423\n",
    "Name: 681, dtype: int64"
   ]
  },
  {
   "cell_type": "markdown",
   "id": "d704d479",
   "metadata": {},
   "source": [
    "nombre_infected       911\n",
    "nombre_sain          2134\n",
    "nombre_exposed        545\n",
    "nombre_recovered    16410\n",
    "Name: 682, dtype: int64"
   ]
  },
  {
   "cell_type": "markdown",
   "id": "3575efe9",
   "metadata": {},
   "source": [
    "nombre_infected       895\n",
    "nombre_sain          2135\n",
    "nombre_exposed        536\n",
    "nombre_recovered    16434\n",
    "Name: 683, dtype: int64"
   ]
  },
  {
   "cell_type": "markdown",
   "id": "30202dcb",
   "metadata": {},
   "source": [
    "nombre_infected       889\n",
    "nombre_sain          2136\n",
    "nombre_exposed        552\n",
    "nombre_recovered    16423\n",
    "Name: 684, dtype: int64"
   ]
  },
  {
   "cell_type": "markdown",
   "id": "7eff5513",
   "metadata": {},
   "source": [
    "nombre_infected       876\n",
    "nombre_sain          2186\n",
    "nombre_exposed        540\n",
    "nombre_recovered    16398\n",
    "Name: 685, dtype: int64"
   ]
  },
  {
   "cell_type": "markdown",
   "id": "7b673839",
   "metadata": {},
   "source": [
    "nombre_infected       893\n",
    "nombre_sain          2180\n",
    "nombre_exposed        528\n",
    "nombre_recovered    16399\n",
    "Name: 686, dtype: int64"
   ]
  },
  {
   "cell_type": "markdown",
   "id": "ee3ee459",
   "metadata": {},
   "source": [
    "nombre_infected       888\n",
    "nombre_sain          2186\n",
    "nombre_exposed        539\n",
    "nombre_recovered    16387\n",
    "Name: 687, dtype: int64"
   ]
  },
  {
   "cell_type": "markdown",
   "id": "e136a2f0",
   "metadata": {},
   "source": [
    "nombre_infected       887\n",
    "nombre_sain          2180\n",
    "nombre_exposed        569\n",
    "nombre_recovered    16364\n",
    "Name: 688, dtype: int64"
   ]
  },
  {
   "cell_type": "markdown",
   "id": "5b76c7cc",
   "metadata": {},
   "source": [
    "nombre_infected       882\n",
    "nombre_sain          2208\n",
    "nombre_exposed        552\n",
    "nombre_recovered    16358\n",
    "Name: 689, dtype: int64"
   ]
  },
  {
   "cell_type": "markdown",
   "id": "369fa5df",
   "metadata": {},
   "source": [
    "nombre_infected       896\n",
    "nombre_sain          2200\n",
    "nombre_exposed        537\n",
    "nombre_recovered    16367\n",
    "Name: 690, dtype: int64"
   ]
  },
  {
   "cell_type": "markdown",
   "id": "997dd4ac",
   "metadata": {},
   "source": [
    "nombre_infected       903\n",
    "nombre_sain          2202\n",
    "nombre_exposed        520\n",
    "nombre_recovered    16375\n",
    "Name: 691, dtype: int64"
   ]
  },
  {
   "cell_type": "markdown",
   "id": "33141083",
   "metadata": {},
   "source": [
    "nombre_infected       901\n",
    "nombre_sain          2220\n",
    "nombre_exposed        507\n",
    "nombre_recovered    16372\n",
    "Name: 692, dtype: int64"
   ]
  },
  {
   "cell_type": "markdown",
   "id": "0e86e2c6",
   "metadata": {},
   "source": [
    "nombre_infected       912\n",
    "nombre_sain          2238\n",
    "nombre_exposed        510\n",
    "nombre_recovered    16340\n",
    "Name: 693, dtype: int64"
   ]
  },
  {
   "cell_type": "markdown",
   "id": "46ac5839",
   "metadata": {},
   "source": [
    "nombre_infected       911\n",
    "nombre_sain          2220\n",
    "nombre_exposed        538\n",
    "nombre_recovered    16331\n",
    "Name: 694, dtype: int64"
   ]
  },
  {
   "cell_type": "markdown",
   "id": "c9038358",
   "metadata": {},
   "source": [
    "nombre_infected       911\n",
    "nombre_sain          2244\n",
    "nombre_exposed        513\n",
    "nombre_recovered    16332\n",
    "Name: 695, dtype: int64"
   ]
  },
  {
   "cell_type": "markdown",
   "id": "83e5f894",
   "metadata": {},
   "source": [
    "nombre_infected       898\n",
    "nombre_sain          2232\n",
    "nombre_exposed        545\n",
    "nombre_recovered    16325\n",
    "Name: 696, dtype: int64"
   ]
  },
  {
   "cell_type": "markdown",
   "id": "a17a4f18",
   "metadata": {},
   "source": [
    "nombre_infected       869\n",
    "nombre_sain          2251\n",
    "nombre_exposed        584\n",
    "nombre_recovered    16296\n",
    "Name: 697, dtype: int64"
   ]
  },
  {
   "cell_type": "markdown",
   "id": "8507a055",
   "metadata": {},
   "source": [
    "nombre_infected       907\n",
    "nombre_sain          2248\n",
    "nombre_exposed        562\n",
    "nombre_recovered    16283\n",
    "Name: 698, dtype: int64"
   ]
  },
  {
   "cell_type": "markdown",
   "id": "dd09ec7e",
   "metadata": {},
   "source": [
    "nombre_infected       925\n",
    "nombre_sain          2291\n",
    "nombre_exposed        549\n",
    "nombre_recovered    16235\n",
    "Name: 699, dtype: int64"
   ]
  },
  {
   "cell_type": "markdown",
   "id": "cd1cbb65",
   "metadata": {},
   "source": [
    "nombre_infected       939\n",
    "nombre_sain          2316\n",
    "nombre_exposed        543\n",
    "nombre_recovered    16202\n",
    "Name: 700, dtype: int64"
   ]
  },
  {
   "cell_type": "markdown",
   "id": "6a54fc0d",
   "metadata": {},
   "source": [
    "nombre_infected       930\n",
    "nombre_sain          2294\n",
    "nombre_exposed        559\n",
    "nombre_recovered    16217\n",
    "Name: 701, dtype: int64"
   ]
  },
  {
   "cell_type": "markdown",
   "id": "0f2d872c",
   "metadata": {},
   "source": [
    "nombre_infected       922\n",
    "nombre_sain          2284\n",
    "nombre_exposed        580\n",
    "nombre_recovered    16214\n",
    "Name: 702, dtype: int64"
   ]
  },
  {
   "cell_type": "markdown",
   "id": "87a89504",
   "metadata": {},
   "source": [
    "nombre_infected       939\n",
    "nombre_sain          2279\n",
    "nombre_exposed        571\n",
    "nombre_recovered    16211\n",
    "Name: 703, dtype: int64"
   ]
  },
  {
   "cell_type": "markdown",
   "id": "2c16399c",
   "metadata": {},
   "source": [
    "nombre_infected       924\n",
    "nombre_sain          2249\n",
    "nombre_exposed        601\n",
    "nombre_recovered    16226\n",
    "Name: 704, dtype: int64"
   ]
  },
  {
   "cell_type": "markdown",
   "id": "b759b4e7",
   "metadata": {},
   "source": [
    "nombre_infected       922\n",
    "nombre_sain          2249\n",
    "nombre_exposed        589\n",
    "nombre_recovered    16240\n",
    "Name: 705, dtype: int64"
   ]
  },
  {
   "cell_type": "markdown",
   "id": "cc649517",
   "metadata": {},
   "source": [
    "nombre_infected       970\n",
    "nombre_sain          2244\n",
    "nombre_exposed        548\n",
    "nombre_recovered    16238\n",
    "Name: 706, dtype: int64"
   ]
  },
  {
   "cell_type": "markdown",
   "id": "c43c64e7",
   "metadata": {},
   "source": [
    "nombre_infected       952\n",
    "nombre_sain          2208\n",
    "nombre_exposed        572\n",
    "nombre_recovered    16268\n",
    "Name: 707, dtype: int64"
   ]
  },
  {
   "cell_type": "markdown",
   "id": "a470343f",
   "metadata": {},
   "source": [
    "nombre_infected       934\n",
    "nombre_sain          2182\n",
    "nombre_exposed        575\n",
    "nombre_recovered    16309\n",
    "Name: 708, dtype: int64"
   ]
  },
  {
   "cell_type": "markdown",
   "id": "4e848c68",
   "metadata": {},
   "source": [
    "nombre_infected       920\n",
    "nombre_sain          2218\n",
    "nombre_exposed        557\n",
    "nombre_recovered    16305\n",
    "Name: 709, dtype: int64"
   ]
  },
  {
   "cell_type": "markdown",
   "id": "4b6edbc7",
   "metadata": {},
   "source": [
    "nombre_infected       946\n",
    "nombre_sain          2188\n",
    "nombre_exposed        545\n",
    "nombre_recovered    16321\n",
    "Name: 710, dtype: int64"
   ]
  },
  {
   "cell_type": "markdown",
   "id": "5e86e4af",
   "metadata": {},
   "source": [
    "nombre_infected       954\n",
    "nombre_sain          2177\n",
    "nombre_exposed        546\n",
    "nombre_recovered    16323\n",
    "Name: 711, dtype: int64"
   ]
  },
  {
   "cell_type": "markdown",
   "id": "a08fa2d3",
   "metadata": {},
   "source": [
    "nombre_infected       959\n",
    "nombre_sain          2190\n",
    "nombre_exposed        539\n",
    "nombre_recovered    16312\n",
    "Name: 712, dtype: int64"
   ]
  },
  {
   "cell_type": "markdown",
   "id": "66f00b96",
   "metadata": {},
   "source": [
    "nombre_infected       946\n",
    "nombre_sain          2151\n",
    "nombre_exposed        564\n",
    "nombre_recovered    16339\n",
    "Name: 713, dtype: int64"
   ]
  },
  {
   "cell_type": "markdown",
   "id": "72ca595f",
   "metadata": {},
   "source": [
    "nombre_infected       932\n",
    "nombre_sain          2140\n",
    "nombre_exposed        582\n",
    "nombre_recovered    16346\n",
    "Name: 714, dtype: int64"
   ]
  },
  {
   "cell_type": "markdown",
   "id": "cda87bc0",
   "metadata": {},
   "source": [
    "nombre_infected       919\n",
    "nombre_sain          2143\n",
    "nombre_exposed        569\n",
    "nombre_recovered    16369\n",
    "Name: 715, dtype: int64"
   ]
  },
  {
   "cell_type": "markdown",
   "id": "ebe121e0",
   "metadata": {},
   "source": [
    "nombre_infected       925\n",
    "nombre_sain          2138\n",
    "nombre_exposed        553\n",
    "nombre_recovered    16384\n",
    "Name: 716, dtype: int64"
   ]
  },
  {
   "cell_type": "markdown",
   "id": "f6be710b",
   "metadata": {},
   "source": [
    "nombre_infected       922\n",
    "nombre_sain          2125\n",
    "nombre_exposed        550\n",
    "nombre_recovered    16403\n",
    "Name: 717, dtype: int64"
   ]
  },
  {
   "cell_type": "markdown",
   "id": "9c7befbf",
   "metadata": {},
   "source": [
    "nombre_infected       940\n",
    "nombre_sain          2125\n",
    "nombre_exposed        533\n",
    "nombre_recovered    16402\n",
    "Name: 718, dtype: int64"
   ]
  },
  {
   "cell_type": "markdown",
   "id": "42fe9c9d",
   "metadata": {},
   "source": [
    "nombre_infected       941\n",
    "nombre_sain          2112\n",
    "nombre_exposed        518\n",
    "nombre_recovered    16429\n",
    "Name: 719, dtype: int64"
   ]
  },
  {
   "cell_type": "markdown",
   "id": "95013a1c",
   "metadata": {},
   "source": [
    "nombre_infected       917\n",
    "nombre_sain          2106\n",
    "nombre_exposed        537\n",
    "nombre_recovered    16440\n",
    "Name: 720, dtype: int64"
   ]
  },
  {
   "cell_type": "markdown",
   "id": "b7a5843a",
   "metadata": {},
   "source": [
    "nombre_infected       910\n",
    "nombre_sain          2084\n",
    "nombre_exposed        551\n",
    "nombre_recovered    16455\n",
    "Name: 721, dtype: int64"
   ]
  },
  {
   "cell_type": "markdown",
   "id": "f4f57c86",
   "metadata": {},
   "source": [
    "nombre_infected       928\n",
    "nombre_sain          2076\n",
    "nombre_exposed        531\n",
    "nombre_recovered    16465\n",
    "Name: 722, dtype: int64"
   ]
  },
  {
   "cell_type": "markdown",
   "id": "0a405cc0",
   "metadata": {},
   "source": [
    "nombre_infected       929\n",
    "nombre_sain          2078\n",
    "nombre_exposed        512\n",
    "nombre_recovered    16481\n",
    "Name: 723, dtype: int64"
   ]
  },
  {
   "cell_type": "markdown",
   "id": "f9b12d5d",
   "metadata": {},
   "source": [
    "nombre_infected       933\n",
    "nombre_sain          2078\n",
    "nombre_exposed        499\n",
    "nombre_recovered    16490\n",
    "Name: 724, dtype: int64"
   ]
  },
  {
   "cell_type": "markdown",
   "id": "acd52b0a",
   "metadata": {},
   "source": [
    "nombre_infected       923\n",
    "nombre_sain          2068\n",
    "nombre_exposed        523\n",
    "nombre_recovered    16486\n",
    "Name: 725, dtype: int64"
   ]
  },
  {
   "cell_type": "markdown",
   "id": "d452f07a",
   "metadata": {},
   "source": [
    "nombre_infected       903\n",
    "nombre_sain          2061\n",
    "nombre_exposed        527\n",
    "nombre_recovered    16509\n",
    "Name: 726, dtype: int64"
   ]
  },
  {
   "cell_type": "markdown",
   "id": "2d1b7cf2",
   "metadata": {},
   "source": [
    "nombre_infected       923\n",
    "nombre_sain          2050\n",
    "nombre_exposed        518\n",
    "nombre_recovered    16509\n",
    "Name: 727, dtype: int64"
   ]
  },
  {
   "cell_type": "markdown",
   "id": "66df6e9c",
   "metadata": {},
   "source": [
    "nombre_infected       897\n",
    "nombre_sain          2045\n",
    "nombre_exposed        512\n",
    "nombre_recovered    16546\n",
    "Name: 728, dtype: int64"
   ]
  },
  {
   "cell_type": "markdown",
   "id": "89e3a14a",
   "metadata": {},
   "source": [
    "nombre_infected       905\n",
    "nombre_sain          2062\n",
    "nombre_exposed        501\n",
    "nombre_recovered    16532\n",
    "Name: 729, dtype: int64"
   ]
  },
  {
   "cell_type": "markdown",
   "id": "aebb1460",
   "metadata": {},
   "source": [
    "nombre_infected       907\n",
    "nombre_sain          2040\n",
    "nombre_exposed        505\n",
    "nombre_recovered    16548\n",
    "Name: 730, dtype: int64"
   ]
  }
 ],
 "metadata": {},
 "nbformat": 4,
 "nbformat_minor": 5
}
