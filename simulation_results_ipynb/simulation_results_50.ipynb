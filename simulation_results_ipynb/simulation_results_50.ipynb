{
 "cells": [
  {
   "cell_type": "markdown",
   "id": "11fc6515",
   "metadata": {},
   "source": [
    "nombre_infected        20\n",
    "nombre_sain         19980\n",
    "nombre_exposed          0\n",
    "nombre_recovered        0\n",
    "Name: 0, dtype: int64"
   ]
  },
  {
   "cell_type": "markdown",
   "id": "4f641f7a",
   "metadata": {},
   "source": [
    "nombre_infected        20\n",
    "nombre_sain         19970\n",
    "nombre_exposed         10\n",
    "nombre_recovered        0\n",
    "Name: 1, dtype: int64"
   ]
  },
  {
   "cell_type": "markdown",
   "id": "a2ad7cab",
   "metadata": {},
   "source": [
    "nombre_infected        20\n",
    "nombre_sain         19948\n",
    "nombre_exposed         32\n",
    "nombre_recovered        0\n",
    "Name: 2, dtype: int64"
   ]
  },
  {
   "cell_type": "markdown",
   "id": "482644b0",
   "metadata": {},
   "source": [
    "nombre_infected        23\n",
    "nombre_sain         19919\n",
    "nombre_exposed         58\n",
    "nombre_recovered        0\n",
    "Name: 3, dtype: int64"
   ]
  },
  {
   "cell_type": "markdown",
   "id": "7473b4cd",
   "metadata": {},
   "source": [
    "nombre_infected        28\n",
    "nombre_sain         19889\n",
    "nombre_exposed         83\n",
    "nombre_recovered        0\n",
    "Name: 4, dtype: int64"
   ]
  },
  {
   "cell_type": "markdown",
   "id": "ac4dd3cf",
   "metadata": {},
   "source": [
    "nombre_infected        47\n",
    "nombre_sain         19845\n",
    "nombre_exposed        108\n",
    "nombre_recovered        0\n",
    "Name: 5, dtype: int64"
   ]
  },
  {
   "cell_type": "markdown",
   "id": "de13da6b",
   "metadata": {},
   "source": [
    "nombre_infected        59\n",
    "nombre_sain         19782\n",
    "nombre_exposed        157\n",
    "nombre_recovered        2\n",
    "Name: 6, dtype: int64"
   ]
  },
  {
   "cell_type": "markdown",
   "id": "d23f6172",
   "metadata": {},
   "source": [
    "nombre_infected        88\n",
    "nombre_sain         19681\n",
    "nombre_exposed        228\n",
    "nombre_recovered        3\n",
    "Name: 7, dtype: int64"
   ]
  },
  {
   "cell_type": "markdown",
   "id": "af1dc337",
   "metadata": {},
   "source": [
    "nombre_infected       120\n",
    "nombre_sain         19542\n",
    "nombre_exposed        331\n",
    "nombre_recovered        7\n",
    "Name: 8, dtype: int64"
   ]
  },
  {
   "cell_type": "markdown",
   "id": "749e25b9",
   "metadata": {},
   "source": [
    "nombre_infected       165\n",
    "nombre_sain         19384\n",
    "nombre_exposed        436\n",
    "nombre_recovered       15\n",
    "Name: 9, dtype: int64"
   ]
  },
  {
   "cell_type": "markdown",
   "id": "1fe89dcc",
   "metadata": {},
   "source": [
    "nombre_infected       228\n",
    "nombre_sain         19133\n",
    "nombre_exposed        612\n",
    "nombre_recovered       27\n",
    "Name: 10, dtype: int64"
   ]
  },
  {
   "cell_type": "markdown",
   "id": "6a0aee40",
   "metadata": {},
   "source": [
    "nombre_infected       308\n",
    "nombre_sain         18829\n",
    "nombre_exposed        826\n",
    "nombre_recovered       37\n",
    "Name: 11, dtype: int64"
   ]
  },
  {
   "cell_type": "markdown",
   "id": "3ed74f30",
   "metadata": {},
   "source": [
    "nombre_infected       414\n",
    "nombre_sain         18418\n",
    "nombre_exposed       1100\n",
    "nombre_recovered       68\n",
    "Name: 12, dtype: int64"
   ]
  },
  {
   "cell_type": "markdown",
   "id": "b6d39615",
   "metadata": {},
   "source": [
    "nombre_infected       567\n",
    "nombre_sain         17831\n",
    "nombre_exposed       1505\n",
    "nombre_recovered       97\n",
    "Name: 13, dtype: int64"
   ]
  },
  {
   "cell_type": "markdown",
   "id": "68a2cf93",
   "metadata": {},
   "source": [
    "nombre_infected       761\n",
    "nombre_sain         17163\n",
    "nombre_exposed       1937\n",
    "nombre_recovered      139\n",
    "Name: 14, dtype: int64"
   ]
  },
  {
   "cell_type": "markdown",
   "id": "09ca95d0",
   "metadata": {},
   "source": [
    "nombre_infected      1050\n",
    "nombre_sain         16252\n",
    "nombre_exposed       2495\n",
    "nombre_recovered      203\n",
    "Name: 15, dtype: int64"
   ]
  },
  {
   "cell_type": "markdown",
   "id": "685bd2e1",
   "metadata": {},
   "source": [
    "nombre_infected      1405\n",
    "nombre_sain         15130\n",
    "nombre_exposed       3185\n",
    "nombre_recovered      280\n",
    "Name: 16, dtype: int64"
   ]
  },
  {
   "cell_type": "markdown",
   "id": "3b7db8ea",
   "metadata": {},
   "source": [
    "nombre_infected      1842\n",
    "nombre_sain         13825\n",
    "nombre_exposed       3917\n",
    "nombre_recovered      416\n",
    "Name: 17, dtype: int64"
   ]
  },
  {
   "cell_type": "markdown",
   "id": "8a534e08",
   "metadata": {},
   "source": [
    "nombre_infected      2400\n",
    "nombre_sain         12284\n",
    "nombre_exposed       4717\n",
    "nombre_recovered      599\n",
    "Name: 18, dtype: int64"
   ]
  },
  {
   "cell_type": "markdown",
   "id": "89402360",
   "metadata": {},
   "source": [
    "nombre_infected      3076\n",
    "nombre_sain         10574\n",
    "nombre_exposed       5546\n",
    "nombre_recovered      804\n",
    "Name: 19, dtype: int64"
   ]
  },
  {
   "cell_type": "markdown",
   "id": "4eaf5797",
   "metadata": {},
   "source": [
    "nombre_infected     3812\n",
    "nombre_sain         8749\n",
    "nombre_exposed      6338\n",
    "nombre_recovered    1101\n",
    "Name: 20, dtype: int64"
   ]
  },
  {
   "cell_type": "markdown",
   "id": "2af1b125",
   "metadata": {},
   "source": [
    "nombre_infected     4710\n",
    "nombre_sain         6926\n",
    "nombre_exposed      6925\n",
    "nombre_recovered    1439\n",
    "Name: 21, dtype: int64"
   ]
  },
  {
   "cell_type": "markdown",
   "id": "1c5c6b3d",
   "metadata": {},
   "source": [
    "nombre_infected     5643\n",
    "nombre_sain         5286\n",
    "nombre_exposed      7200\n",
    "nombre_recovered    1871\n",
    "Name: 22, dtype: int64"
   ]
  },
  {
   "cell_type": "markdown",
   "id": "65c2c3a4",
   "metadata": {},
   "source": [
    "nombre_infected     6640\n",
    "nombre_sain         3935\n",
    "nombre_exposed      7027\n",
    "nombre_recovered    2398\n",
    "Name: 23, dtype: int64"
   ]
  },
  {
   "cell_type": "markdown",
   "id": "a7069e03",
   "metadata": {},
   "source": [
    "nombre_infected     7538\n",
    "nombre_sain         2799\n",
    "nombre_exposed      6634\n",
    "nombre_recovered    3029\n",
    "Name: 24, dtype: int64"
   ]
  },
  {
   "cell_type": "markdown",
   "id": "11ea4e17",
   "metadata": {},
   "source": [
    "nombre_infected     8283\n",
    "nombre_sain         1948\n",
    "nombre_exposed      6017\n",
    "nombre_recovered    3752\n",
    "Name: 25, dtype: int64"
   ]
  },
  {
   "cell_type": "markdown",
   "id": "4d8be639",
   "metadata": {},
   "source": [
    "nombre_infected     8782\n",
    "nombre_sain         1363\n",
    "nombre_exposed      5272\n",
    "nombre_recovered    4583\n",
    "Name: 26, dtype: int64"
   ]
  },
  {
   "cell_type": "markdown",
   "id": "a60fe267",
   "metadata": {},
   "source": [
    "nombre_infected     9214\n",
    "nombre_sain          927\n",
    "nombre_exposed      4408\n",
    "nombre_recovered    5451\n",
    "Name: 27, dtype: int64"
   ]
  },
  {
   "cell_type": "markdown",
   "id": "ff3c9911",
   "metadata": {},
   "source": [
    "nombre_infected     9330\n",
    "nombre_sain          650\n",
    "nombre_exposed      3568\n",
    "nombre_recovered    6452\n",
    "Name: 28, dtype: int64"
   ]
  },
  {
   "cell_type": "markdown",
   "id": "43e940d2",
   "metadata": {},
   "source": [
    "nombre_infected     9254\n",
    "nombre_sain          462\n",
    "nombre_exposed      2829\n",
    "nombre_recovered    7455\n",
    "Name: 29, dtype: int64"
   ]
  },
  {
   "cell_type": "markdown",
   "id": "f10ce4fb",
   "metadata": {},
   "source": [
    "nombre_infected     8947\n",
    "nombre_sain          335\n",
    "nombre_exposed      2255\n",
    "nombre_recovered    8463\n",
    "Name: 30, dtype: int64"
   ]
  },
  {
   "cell_type": "markdown",
   "id": "4c5a56bd",
   "metadata": {},
   "source": [
    "nombre_infected     8526\n",
    "nombre_sain          250\n",
    "nombre_exposed      1764\n",
    "nombre_recovered    9460\n",
    "Name: 31, dtype: int64"
   ]
  },
  {
   "cell_type": "markdown",
   "id": "a184da2b",
   "metadata": {},
   "source": [
    "nombre_infected      7975\n",
    "nombre_sain           203\n",
    "nombre_exposed       1361\n",
    "nombre_recovered    10461\n",
    "Name: 32, dtype: int64"
   ]
  },
  {
   "cell_type": "markdown",
   "id": "22c377cf",
   "metadata": {},
   "source": [
    "nombre_infected      7455\n",
    "nombre_sain           188\n",
    "nombre_exposed       1044\n",
    "nombre_recovered    11313\n",
    "Name: 33, dtype: int64"
   ]
  },
  {
   "cell_type": "markdown",
   "id": "4b030ffc",
   "metadata": {},
   "source": [
    "nombre_infected      6838\n",
    "nombre_sain           181\n",
    "nombre_exposed        802\n",
    "nombre_recovered    12179\n",
    "Name: 34, dtype: int64"
   ]
  },
  {
   "cell_type": "markdown",
   "id": "b3370f7f",
   "metadata": {},
   "source": [
    "nombre_infected      6194\n",
    "nombre_sain           186\n",
    "nombre_exposed        641\n",
    "nombre_recovered    12979\n",
    "Name: 35, dtype: int64"
   ]
  },
  {
   "cell_type": "markdown",
   "id": "74c02e48",
   "metadata": {},
   "source": [
    "nombre_infected      5513\n",
    "nombre_sain           176\n",
    "nombre_exposed        541\n",
    "nombre_recovered    13770\n",
    "Name: 36, dtype: int64"
   ]
  },
  {
   "cell_type": "markdown",
   "id": "9ddec6fd",
   "metadata": {},
   "source": [
    "nombre_infected      4960\n",
    "nombre_sain           180\n",
    "nombre_exposed        449\n",
    "nombre_recovered    14411\n",
    "Name: 37, dtype: int64"
   ]
  },
  {
   "cell_type": "markdown",
   "id": "9ce0748a",
   "metadata": {},
   "source": [
    "nombre_infected      4448\n",
    "nombre_sain           193\n",
    "nombre_exposed        371\n",
    "nombre_recovered    14988\n",
    "Name: 38, dtype: int64"
   ]
  },
  {
   "cell_type": "markdown",
   "id": "2f8dcde7",
   "metadata": {},
   "source": [
    "nombre_infected      4008\n",
    "nombre_sain           205\n",
    "nombre_exposed        305\n",
    "nombre_recovered    15482\n",
    "Name: 39, dtype: int64"
   ]
  },
  {
   "cell_type": "markdown",
   "id": "9ad14d98",
   "metadata": {},
   "source": [
    "nombre_infected      3557\n",
    "nombre_sain           220\n",
    "nombre_exposed        284\n",
    "nombre_recovered    15939\n",
    "Name: 40, dtype: int64"
   ]
  },
  {
   "cell_type": "markdown",
   "id": "e941eecf",
   "metadata": {},
   "source": [
    "nombre_infected      3173\n",
    "nombre_sain           229\n",
    "nombre_exposed        257\n",
    "nombre_recovered    16341\n",
    "Name: 41, dtype: int64"
   ]
  },
  {
   "cell_type": "markdown",
   "id": "ae9dcc3d",
   "metadata": {},
   "source": [
    "nombre_infected      2833\n",
    "nombre_sain           265\n",
    "nombre_exposed        229\n",
    "nombre_recovered    16673\n",
    "Name: 42, dtype: int64"
   ]
  },
  {
   "cell_type": "markdown",
   "id": "82789a1d",
   "metadata": {},
   "source": [
    "nombre_infected      2525\n",
    "nombre_sain           287\n",
    "nombre_exposed        203\n",
    "nombre_recovered    16985\n",
    "Name: 43, dtype: int64"
   ]
  },
  {
   "cell_type": "markdown",
   "id": "07d49a7e",
   "metadata": {},
   "source": [
    "nombre_infected      2237\n",
    "nombre_sain           319\n",
    "nombre_exposed        183\n",
    "nombre_recovered    17261\n",
    "Name: 44, dtype: int64"
   ]
  },
  {
   "cell_type": "markdown",
   "id": "30b5b4ac",
   "metadata": {},
   "source": [
    "nombre_infected      2030\n",
    "nombre_sain           337\n",
    "nombre_exposed        162\n",
    "nombre_recovered    17471\n",
    "Name: 45, dtype: int64"
   ]
  },
  {
   "cell_type": "markdown",
   "id": "00edddbd",
   "metadata": {},
   "source": [
    "nombre_infected      1844\n",
    "nombre_sain           356\n",
    "nombre_exposed        149\n",
    "nombre_recovered    17651\n",
    "Name: 46, dtype: int64"
   ]
  },
  {
   "cell_type": "markdown",
   "id": "db360d07",
   "metadata": {},
   "source": [
    "nombre_infected      1634\n",
    "nombre_sain           381\n",
    "nombre_exposed        165\n",
    "nombre_recovered    17820\n",
    "Name: 47, dtype: int64"
   ]
  },
  {
   "cell_type": "markdown",
   "id": "96389070",
   "metadata": {},
   "source": [
    "nombre_infected      1470\n",
    "nombre_sain           400\n",
    "nombre_exposed        156\n",
    "nombre_recovered    17974\n",
    "Name: 48, dtype: int64"
   ]
  },
  {
   "cell_type": "markdown",
   "id": "ac1e4239",
   "metadata": {},
   "source": [
    "nombre_infected      1318\n",
    "nombre_sain           427\n",
    "nombre_exposed        156\n",
    "nombre_recovered    18099\n",
    "Name: 49, dtype: int64"
   ]
  },
  {
   "cell_type": "markdown",
   "id": "5a903d01",
   "metadata": {},
   "source": [
    "nombre_infected      1166\n",
    "nombre_sain           437\n",
    "nombre_exposed        150\n",
    "nombre_recovered    18247\n",
    "Name: 50, dtype: int64"
   ]
  },
  {
   "cell_type": "markdown",
   "id": "7e5f7d9e",
   "metadata": {},
   "source": [
    "nombre_infected      1042\n",
    "nombre_sain           479\n",
    "nombre_exposed        148\n",
    "nombre_recovered    18331\n",
    "Name: 51, dtype: int64"
   ]
  },
  {
   "cell_type": "markdown",
   "id": "3f497f64",
   "metadata": {},
   "source": [
    "nombre_infected       914\n",
    "nombre_sain           521\n",
    "nombre_exposed        138\n",
    "nombre_recovered    18427\n",
    "Name: 52, dtype: int64"
   ]
  },
  {
   "cell_type": "markdown",
   "id": "0099b2b1",
   "metadata": {},
   "source": [
    "nombre_infected       831\n",
    "nombre_sain           557\n",
    "nombre_exposed        111\n",
    "nombre_recovered    18501\n",
    "Name: 53, dtype: int64"
   ]
  },
  {
   "cell_type": "markdown",
   "id": "7fda6574",
   "metadata": {},
   "source": [
    "nombre_infected       719\n",
    "nombre_sain           617\n",
    "nombre_exposed         96\n",
    "nombre_recovered    18568\n",
    "Name: 54, dtype: int64"
   ]
  },
  {
   "cell_type": "markdown",
   "id": "ab8c966a",
   "metadata": {},
   "source": [
    "nombre_infected       617\n",
    "nombre_sain           675\n",
    "nombre_exposed         95\n",
    "nombre_recovered    18613\n",
    "Name: 55, dtype: int64"
   ]
  },
  {
   "cell_type": "markdown",
   "id": "1f048084",
   "metadata": {},
   "source": [
    "nombre_infected       548\n",
    "nombre_sain           738\n",
    "nombre_exposed         87\n",
    "nombre_recovered    18627\n",
    "Name: 56, dtype: int64"
   ]
  },
  {
   "cell_type": "markdown",
   "id": "5dac9dd4",
   "metadata": {},
   "source": [
    "nombre_infected       478\n",
    "nombre_sain           789\n",
    "nombre_exposed         97\n",
    "nombre_recovered    18636\n",
    "Name: 57, dtype: int64"
   ]
  },
  {
   "cell_type": "markdown",
   "id": "eb048415",
   "metadata": {},
   "source": [
    "nombre_infected       409\n",
    "nombre_sain           853\n",
    "nombre_exposed         98\n",
    "nombre_recovered    18640\n",
    "Name: 58, dtype: int64"
   ]
  },
  {
   "cell_type": "markdown",
   "id": "9e3bae5e",
   "metadata": {},
   "source": [
    "nombre_infected       372\n",
    "nombre_sain           930\n",
    "nombre_exposed         85\n",
    "nombre_recovered    18613\n",
    "Name: 59, dtype: int64"
   ]
  },
  {
   "cell_type": "markdown",
   "id": "395242da",
   "metadata": {},
   "source": [
    "nombre_infected       349\n",
    "nombre_sain          1009\n",
    "nombre_exposed         81\n",
    "nombre_recovered    18561\n",
    "Name: 60, dtype: int64"
   ]
  },
  {
   "cell_type": "markdown",
   "id": "c2be8545",
   "metadata": {},
   "source": [
    "nombre_infected       319\n",
    "nombre_sain          1094\n",
    "nombre_exposed         77\n",
    "nombre_recovered    18510\n",
    "Name: 61, dtype: int64"
   ]
  },
  {
   "cell_type": "markdown",
   "id": "8d89bc19",
   "metadata": {},
   "source": [
    "nombre_infected       297\n",
    "nombre_sain          1159\n",
    "nombre_exposed         82\n",
    "nombre_recovered    18462\n",
    "Name: 62, dtype: int64"
   ]
  },
  {
   "cell_type": "markdown",
   "id": "769658a3",
   "metadata": {},
   "source": [
    "nombre_infected       284\n",
    "nombre_sain          1225\n",
    "nombre_exposed         69\n",
    "nombre_recovered    18422\n",
    "Name: 63, dtype: int64"
   ]
  },
  {
   "cell_type": "markdown",
   "id": "980f7f51",
   "metadata": {},
   "source": [
    "nombre_infected       265\n",
    "nombre_sain          1270\n",
    "nombre_exposed         77\n",
    "nombre_recovered    18388\n",
    "Name: 64, dtype: int64"
   ]
  },
  {
   "cell_type": "markdown",
   "id": "e845cf4d",
   "metadata": {},
   "source": [
    "nombre_infected       246\n",
    "nombre_sain          1323\n",
    "nombre_exposed         81\n",
    "nombre_recovered    18350\n",
    "Name: 65, dtype: int64"
   ]
  },
  {
   "cell_type": "markdown",
   "id": "9f8fa918",
   "metadata": {},
   "source": [
    "nombre_infected       240\n",
    "nombre_sain          1387\n",
    "nombre_exposed         77\n",
    "nombre_recovered    18296\n",
    "Name: 66, dtype: int64"
   ]
  },
  {
   "cell_type": "markdown",
   "id": "c60d7ee2",
   "metadata": {},
   "source": [
    "nombre_infected       227\n",
    "nombre_sain          1446\n",
    "nombre_exposed         82\n",
    "nombre_recovered    18245\n",
    "Name: 67, dtype: int64"
   ]
  },
  {
   "cell_type": "markdown",
   "id": "cc69fb24",
   "metadata": {},
   "source": [
    "nombre_infected       230\n",
    "nombre_sain          1483\n",
    "nombre_exposed         82\n",
    "nombre_recovered    18205\n",
    "Name: 68, dtype: int64"
   ]
  },
  {
   "cell_type": "markdown",
   "id": "60646071",
   "metadata": {},
   "source": [
    "nombre_infected       214\n",
    "nombre_sain          1531\n",
    "nombre_exposed         90\n",
    "nombre_recovered    18165\n",
    "Name: 69, dtype: int64"
   ]
  },
  {
   "cell_type": "markdown",
   "id": "de733f92",
   "metadata": {},
   "source": [
    "nombre_infected       210\n",
    "nombre_sain          1566\n",
    "nombre_exposed         92\n",
    "nombre_recovered    18132\n",
    "Name: 70, dtype: int64"
   ]
  },
  {
   "cell_type": "markdown",
   "id": "acd22901",
   "metadata": {},
   "source": [
    "nombre_infected       206\n",
    "nombre_sain          1631\n",
    "nombre_exposed         86\n",
    "nombre_recovered    18077\n",
    "Name: 71, dtype: int64"
   ]
  },
  {
   "cell_type": "markdown",
   "id": "43b2168a",
   "metadata": {},
   "source": [
    "nombre_infected       197\n",
    "nombre_sain          1667\n",
    "nombre_exposed         83\n",
    "nombre_recovered    18053\n",
    "Name: 72, dtype: int64"
   ]
  },
  {
   "cell_type": "markdown",
   "id": "ed2b9d4b",
   "metadata": {},
   "source": [
    "nombre_infected       199\n",
    "nombre_sain          1713\n",
    "nombre_exposed         76\n",
    "nombre_recovered    18012\n",
    "Name: 73, dtype: int64"
   ]
  },
  {
   "cell_type": "markdown",
   "id": "7c6696f2",
   "metadata": {},
   "source": [
    "nombre_infected       193\n",
    "nombre_sain          1763\n",
    "nombre_exposed         69\n",
    "nombre_recovered    17975\n",
    "Name: 74, dtype: int64"
   ]
  },
  {
   "cell_type": "markdown",
   "id": "1923be06",
   "metadata": {},
   "source": [
    "nombre_infected       183\n",
    "nombre_sain          1820\n",
    "nombre_exposed         57\n",
    "nombre_recovered    17940\n",
    "Name: 75, dtype: int64"
   ]
  },
  {
   "cell_type": "markdown",
   "id": "e96943cc",
   "metadata": {},
   "source": [
    "nombre_infected       180\n",
    "nombre_sain          1846\n",
    "nombre_exposed         65\n",
    "nombre_recovered    17909\n",
    "Name: 76, dtype: int64"
   ]
  },
  {
   "cell_type": "markdown",
   "id": "d6e313b2",
   "metadata": {},
   "source": [
    "nombre_infected       162\n",
    "nombre_sain          1884\n",
    "nombre_exposed         71\n",
    "nombre_recovered    17883\n",
    "Name: 77, dtype: int64"
   ]
  },
  {
   "cell_type": "markdown",
   "id": "e9339e1f",
   "metadata": {},
   "source": [
    "nombre_infected       158\n",
    "nombre_sain          1913\n",
    "nombre_exposed         68\n",
    "nombre_recovered    17861\n",
    "Name: 78, dtype: int64"
   ]
  },
  {
   "cell_type": "markdown",
   "id": "cfba882b",
   "metadata": {},
   "source": [
    "nombre_infected       163\n",
    "nombre_sain          1960\n",
    "nombre_exposed         64\n",
    "nombre_recovered    17813\n",
    "Name: 79, dtype: int64"
   ]
  },
  {
   "cell_type": "markdown",
   "id": "34974571",
   "metadata": {},
   "source": [
    "nombre_infected       160\n",
    "nombre_sain          1983\n",
    "nombre_exposed         63\n",
    "nombre_recovered    17794\n",
    "Name: 80, dtype: int64"
   ]
  },
  {
   "cell_type": "markdown",
   "id": "06ffc894",
   "metadata": {},
   "source": [
    "nombre_infected       144\n",
    "nombre_sain          2023\n",
    "nombre_exposed         66\n",
    "nombre_recovered    17767\n",
    "Name: 81, dtype: int64"
   ]
  },
  {
   "cell_type": "markdown",
   "id": "d9cdf7de",
   "metadata": {},
   "source": [
    "nombre_infected       138\n",
    "nombre_sain          2044\n",
    "nombre_exposed         68\n",
    "nombre_recovered    17750\n",
    "Name: 82, dtype: int64"
   ]
  },
  {
   "cell_type": "markdown",
   "id": "b6507bdb",
   "metadata": {},
   "source": [
    "nombre_infected       127\n",
    "nombre_sain          2076\n",
    "nombre_exposed         69\n",
    "nombre_recovered    17728\n",
    "Name: 83, dtype: int64"
   ]
  },
  {
   "cell_type": "markdown",
   "id": "53c9a08a",
   "metadata": {},
   "source": [
    "nombre_infected       132\n",
    "nombre_sain          2118\n",
    "nombre_exposed         64\n",
    "nombre_recovered    17686\n",
    "Name: 84, dtype: int64"
   ]
  },
  {
   "cell_type": "markdown",
   "id": "a8bb5ffb",
   "metadata": {},
   "source": [
    "nombre_infected       139\n",
    "nombre_sain          2171\n",
    "nombre_exposed         54\n",
    "nombre_recovered    17636\n",
    "Name: 85, dtype: int64"
   ]
  },
  {
   "cell_type": "markdown",
   "id": "a007602c",
   "metadata": {},
   "source": [
    "nombre_infected       140\n",
    "nombre_sain          2215\n",
    "nombre_exposed         54\n",
    "nombre_recovered    17591\n",
    "Name: 86, dtype: int64"
   ]
  },
  {
   "cell_type": "markdown",
   "id": "b576170b",
   "metadata": {},
   "source": [
    "nombre_infected       145\n",
    "nombre_sain          2237\n",
    "nombre_exposed         68\n",
    "nombre_recovered    17550\n",
    "Name: 87, dtype: int64"
   ]
  },
  {
   "cell_type": "markdown",
   "id": "5d7b1af4",
   "metadata": {},
   "source": [
    "nombre_infected       149\n",
    "nombre_sain          2286\n",
    "nombre_exposed         66\n",
    "nombre_recovered    17499\n",
    "Name: 88, dtype: int64"
   ]
  },
  {
   "cell_type": "markdown",
   "id": "1660a060",
   "metadata": {},
   "source": [
    "nombre_infected       143\n",
    "nombre_sain          2332\n",
    "nombre_exposed         60\n",
    "nombre_recovered    17465\n",
    "Name: 89, dtype: int64"
   ]
  },
  {
   "cell_type": "markdown",
   "id": "9c2b370c",
   "metadata": {},
   "source": [
    "nombre_infected       132\n",
    "nombre_sain          2370\n",
    "nombre_exposed         69\n",
    "nombre_recovered    17429\n",
    "Name: 90, dtype: int64"
   ]
  },
  {
   "cell_type": "markdown",
   "id": "21e1fa4b",
   "metadata": {},
   "source": [
    "nombre_infected       116\n",
    "nombre_sain          2418\n",
    "nombre_exposed         75\n",
    "nombre_recovered    17391\n",
    "Name: 91, dtype: int64"
   ]
  },
  {
   "cell_type": "markdown",
   "id": "a324b091",
   "metadata": {},
   "source": [
    "nombre_infected       113\n",
    "nombre_sain          2466\n",
    "nombre_exposed         75\n",
    "nombre_recovered    17346\n",
    "Name: 92, dtype: int64"
   ]
  },
  {
   "cell_type": "markdown",
   "id": "5ae036a3",
   "metadata": {},
   "source": [
    "nombre_infected       118\n",
    "nombre_sain          2506\n",
    "nombre_exposed         80\n",
    "nombre_recovered    17296\n",
    "Name: 93, dtype: int64"
   ]
  },
  {
   "cell_type": "markdown",
   "id": "ddebf75a",
   "metadata": {},
   "source": [
    "nombre_infected       119\n",
    "nombre_sain          2566\n",
    "nombre_exposed         76\n",
    "nombre_recovered    17239\n",
    "Name: 94, dtype: int64"
   ]
  },
  {
   "cell_type": "markdown",
   "id": "a3677040",
   "metadata": {},
   "source": [
    "nombre_infected       128\n",
    "nombre_sain          2633\n",
    "nombre_exposed         76\n",
    "nombre_recovered    17163\n",
    "Name: 95, dtype: int64"
   ]
  },
  {
   "cell_type": "markdown",
   "id": "73654440",
   "metadata": {},
   "source": [
    "nombre_infected       137\n",
    "nombre_sain          2693\n",
    "nombre_exposed         69\n",
    "nombre_recovered    17101\n",
    "Name: 96, dtype: int64"
   ]
  },
  {
   "cell_type": "markdown",
   "id": "57d514b9",
   "metadata": {},
   "source": [
    "nombre_infected       130\n",
    "nombre_sain          2767\n",
    "nombre_exposed         81\n",
    "nombre_recovered    17022\n",
    "Name: 97, dtype: int64"
   ]
  },
  {
   "cell_type": "markdown",
   "id": "3c798ad0",
   "metadata": {},
   "source": [
    "nombre_infected       132\n",
    "nombre_sain          2820\n",
    "nombre_exposed         72\n",
    "nombre_recovered    16976\n",
    "Name: 98, dtype: int64"
   ]
  },
  {
   "cell_type": "markdown",
   "id": "2ace90a4",
   "metadata": {},
   "source": [
    "nombre_infected       137\n",
    "nombre_sain          2877\n",
    "nombre_exposed         84\n",
    "nombre_recovered    16902\n",
    "Name: 99, dtype: int64"
   ]
  },
  {
   "cell_type": "markdown",
   "id": "4b87ce05",
   "metadata": {},
   "source": [
    "nombre_infected       142\n",
    "nombre_sain          2911\n",
    "nombre_exposed         98\n",
    "nombre_recovered    16849\n",
    "Name: 100, dtype: int64"
   ]
  },
  {
   "cell_type": "markdown",
   "id": "27f28a21",
   "metadata": {},
   "source": [
    "nombre_infected       152\n",
    "nombre_sain          2957\n",
    "nombre_exposed         90\n",
    "nombre_recovered    16801\n",
    "Name: 101, dtype: int64"
   ]
  },
  {
   "cell_type": "markdown",
   "id": "f24a31c6",
   "metadata": {},
   "source": [
    "nombre_infected       159\n",
    "nombre_sain          2992\n",
    "nombre_exposed         84\n",
    "nombre_recovered    16765\n",
    "Name: 102, dtype: int64"
   ]
  },
  {
   "cell_type": "markdown",
   "id": "b789676c",
   "metadata": {},
   "source": [
    "nombre_infected       162\n",
    "nombre_sain          3019\n",
    "nombre_exposed         99\n",
    "nombre_recovered    16720\n",
    "Name: 103, dtype: int64"
   ]
  },
  {
   "cell_type": "markdown",
   "id": "c95e948f",
   "metadata": {},
   "source": [
    "nombre_infected       159\n",
    "nombre_sain          3074\n",
    "nombre_exposed        105\n",
    "nombre_recovered    16662\n",
    "Name: 104, dtype: int64"
   ]
  },
  {
   "cell_type": "markdown",
   "id": "b3bfc127",
   "metadata": {},
   "source": [
    "nombre_infected       170\n",
    "nombre_sain          3120\n",
    "nombre_exposed         98\n",
    "nombre_recovered    16612\n",
    "Name: 105, dtype: int64"
   ]
  },
  {
   "cell_type": "markdown",
   "id": "e5d54c35",
   "metadata": {},
   "source": [
    "nombre_infected       180\n",
    "nombre_sain          3133\n",
    "nombre_exposed        107\n",
    "nombre_recovered    16580\n",
    "Name: 106, dtype: int64"
   ]
  },
  {
   "cell_type": "markdown",
   "id": "82726c41",
   "metadata": {},
   "source": [
    "nombre_infected       190\n",
    "nombre_sain          3161\n",
    "nombre_exposed        121\n",
    "nombre_recovered    16528\n",
    "Name: 107, dtype: int64"
   ]
  },
  {
   "cell_type": "markdown",
   "id": "b5125ab4",
   "metadata": {},
   "source": [
    "nombre_infected       192\n",
    "nombre_sain          3172\n",
    "nombre_exposed        142\n",
    "nombre_recovered    16494\n",
    "Name: 108, dtype: int64"
   ]
  },
  {
   "cell_type": "markdown",
   "id": "082c152c",
   "metadata": {},
   "source": [
    "nombre_infected       189\n",
    "nombre_sain          3175\n",
    "nombre_exposed        167\n",
    "nombre_recovered    16469\n",
    "Name: 109, dtype: int64"
   ]
  },
  {
   "cell_type": "markdown",
   "id": "e56904a9",
   "metadata": {},
   "source": [
    "nombre_infected       211\n",
    "nombre_sain          3194\n",
    "nombre_exposed        154\n",
    "nombre_recovered    16441\n",
    "Name: 110, dtype: int64"
   ]
  },
  {
   "cell_type": "markdown",
   "id": "d2c0e9fe",
   "metadata": {},
   "source": [
    "nombre_infected       221\n",
    "nombre_sain          3196\n",
    "nombre_exposed        157\n",
    "nombre_recovered    16426\n",
    "Name: 111, dtype: int64"
   ]
  },
  {
   "cell_type": "markdown",
   "id": "dd0191b1",
   "metadata": {},
   "source": [
    "nombre_infected       241\n",
    "nombre_sain          3197\n",
    "nombre_exposed        163\n",
    "nombre_recovered    16399\n",
    "Name: 112, dtype: int64"
   ]
  },
  {
   "cell_type": "markdown",
   "id": "595d9be1",
   "metadata": {},
   "source": [
    "nombre_infected       251\n",
    "nombre_sain          3187\n",
    "nombre_exposed        177\n",
    "nombre_recovered    16385\n",
    "Name: 113, dtype: int64"
   ]
  },
  {
   "cell_type": "markdown",
   "id": "9c97a610",
   "metadata": {},
   "source": [
    "nombre_infected       245\n",
    "nombre_sain          3203\n",
    "nombre_exposed        183\n",
    "nombre_recovered    16369\n",
    "Name: 114, dtype: int64"
   ]
  },
  {
   "cell_type": "markdown",
   "id": "ca0b180a",
   "metadata": {},
   "source": [
    "nombre_infected       251\n",
    "nombre_sain          3201\n",
    "nombre_exposed        185\n",
    "nombre_recovered    16363\n",
    "Name: 115, dtype: int64"
   ]
  },
  {
   "cell_type": "markdown",
   "id": "4105d0ed",
   "metadata": {},
   "source": [
    "nombre_infected       262\n",
    "nombre_sain          3189\n",
    "nombre_exposed        196\n",
    "nombre_recovered    16353\n",
    "Name: 116, dtype: int64"
   ]
  },
  {
   "cell_type": "markdown",
   "id": "11ed8229",
   "metadata": {},
   "source": [
    "nombre_infected       276\n",
    "nombre_sain          3175\n",
    "nombre_exposed        196\n",
    "nombre_recovered    16353\n",
    "Name: 117, dtype: int64"
   ]
  },
  {
   "cell_type": "markdown",
   "id": "513f4b49",
   "metadata": {},
   "source": [
    "nombre_infected       299\n",
    "nombre_sain          3160\n",
    "nombre_exposed        205\n",
    "nombre_recovered    16336\n",
    "Name: 118, dtype: int64"
   ]
  },
  {
   "cell_type": "markdown",
   "id": "f686eab1",
   "metadata": {},
   "source": [
    "nombre_infected       300\n",
    "nombre_sain          3144\n",
    "nombre_exposed        230\n",
    "nombre_recovered    16326\n",
    "Name: 119, dtype: int64"
   ]
  },
  {
   "cell_type": "markdown",
   "id": "a59a3513",
   "metadata": {},
   "source": [
    "nombre_infected       311\n",
    "nombre_sain          3111\n",
    "nombre_exposed        258\n",
    "nombre_recovered    16320\n",
    "Name: 120, dtype: int64"
   ]
  },
  {
   "cell_type": "markdown",
   "id": "8ccfedbb",
   "metadata": {},
   "source": [
    "nombre_infected       323\n",
    "nombre_sain          3079\n",
    "nombre_exposed        271\n",
    "nombre_recovered    16327\n",
    "Name: 121, dtype: int64"
   ]
  },
  {
   "cell_type": "markdown",
   "id": "a1232ce1",
   "metadata": {},
   "source": [
    "nombre_infected       349\n",
    "nombre_sain          3042\n",
    "nombre_exposed        284\n",
    "nombre_recovered    16325\n",
    "Name: 122, dtype: int64"
   ]
  },
  {
   "cell_type": "markdown",
   "id": "ef9ca159",
   "metadata": {},
   "source": [
    "nombre_infected       366\n",
    "nombre_sain          3030\n",
    "nombre_exposed        295\n",
    "nombre_recovered    16309\n",
    "Name: 123, dtype: int64"
   ]
  },
  {
   "cell_type": "markdown",
   "id": "ce62404a",
   "metadata": {},
   "source": [
    "nombre_infected       383\n",
    "nombre_sain          3005\n",
    "nombre_exposed        297\n",
    "nombre_recovered    16315\n",
    "Name: 124, dtype: int64"
   ]
  },
  {
   "cell_type": "markdown",
   "id": "89caec2b",
   "metadata": {},
   "source": [
    "nombre_infected       398\n",
    "nombre_sain          2991\n",
    "nombre_exposed        310\n",
    "nombre_recovered    16301\n",
    "Name: 125, dtype: int64"
   ]
  },
  {
   "cell_type": "markdown",
   "id": "ce034efb",
   "metadata": {},
   "source": [
    "nombre_infected       405\n",
    "nombre_sain          2973\n",
    "nombre_exposed        307\n",
    "nombre_recovered    16315\n",
    "Name: 126, dtype: int64"
   ]
  },
  {
   "cell_type": "markdown",
   "id": "de856fff",
   "metadata": {},
   "source": [
    "nombre_infected       434\n",
    "nombre_sain          2947\n",
    "nombre_exposed        308\n",
    "nombre_recovered    16311\n",
    "Name: 127, dtype: int64"
   ]
  },
  {
   "cell_type": "markdown",
   "id": "933e68bc",
   "metadata": {},
   "source": [
    "nombre_infected       452\n",
    "nombre_sain          2912\n",
    "nombre_exposed        316\n",
    "nombre_recovered    16320\n",
    "Name: 128, dtype: int64"
   ]
  },
  {
   "cell_type": "markdown",
   "id": "ba719bad",
   "metadata": {},
   "source": [
    "nombre_infected       477\n",
    "nombre_sain          2881\n",
    "nombre_exposed        326\n",
    "nombre_recovered    16316\n",
    "Name: 129, dtype: int64"
   ]
  },
  {
   "cell_type": "markdown",
   "id": "0b6e3bf3",
   "metadata": {},
   "source": [
    "nombre_infected       482\n",
    "nombre_sain          2863\n",
    "nombre_exposed        334\n",
    "nombre_recovered    16321\n",
    "Name: 130, dtype: int64"
   ]
  },
  {
   "cell_type": "markdown",
   "id": "56f16794",
   "metadata": {},
   "source": [
    "nombre_infected       486\n",
    "nombre_sain          2812\n",
    "nombre_exposed        360\n",
    "nombre_recovered    16342\n",
    "Name: 131, dtype: int64"
   ]
  },
  {
   "cell_type": "markdown",
   "id": "9a6d09e7",
   "metadata": {},
   "source": [
    "nombre_infected       495\n",
    "nombre_sain          2781\n",
    "nombre_exposed        367\n",
    "nombre_recovered    16357\n",
    "Name: 132, dtype: int64"
   ]
  },
  {
   "cell_type": "markdown",
   "id": "b5da025a",
   "metadata": {},
   "source": [
    "nombre_infected       508\n",
    "nombre_sain          2782\n",
    "nombre_exposed        351\n",
    "nombre_recovered    16359\n",
    "Name: 133, dtype: int64"
   ]
  },
  {
   "cell_type": "markdown",
   "id": "fa3319fc",
   "metadata": {},
   "source": [
    "nombre_infected       522\n",
    "nombre_sain          2780\n",
    "nombre_exposed        345\n",
    "nombre_recovered    16353\n",
    "Name: 134, dtype: int64"
   ]
  },
  {
   "cell_type": "markdown",
   "id": "93a07636",
   "metadata": {},
   "source": [
    "nombre_infected       522\n",
    "nombre_sain          2771\n",
    "nombre_exposed        355\n",
    "nombre_recovered    16352\n",
    "Name: 135, dtype: int64"
   ]
  },
  {
   "cell_type": "markdown",
   "id": "690735ed",
   "metadata": {},
   "source": [
    "nombre_infected       529\n",
    "nombre_sain          2757\n",
    "nombre_exposed        357\n",
    "nombre_recovered    16357\n",
    "Name: 136, dtype: int64"
   ]
  },
  {
   "cell_type": "markdown",
   "id": "082bd9fe",
   "metadata": {},
   "source": [
    "nombre_infected       542\n",
    "nombre_sain          2734\n",
    "nombre_exposed        376\n",
    "nombre_recovered    16348\n",
    "Name: 137, dtype: int64"
   ]
  },
  {
   "cell_type": "markdown",
   "id": "d8568234",
   "metadata": {},
   "source": [
    "nombre_infected       550\n",
    "nombre_sain          2712\n",
    "nombre_exposed        378\n",
    "nombre_recovered    16360\n",
    "Name: 138, dtype: int64"
   ]
  },
  {
   "cell_type": "markdown",
   "id": "71214658",
   "metadata": {},
   "source": [
    "nombre_infected       574\n",
    "nombre_sain          2707\n",
    "nombre_exposed        386\n",
    "nombre_recovered    16333\n",
    "Name: 139, dtype: int64"
   ]
  },
  {
   "cell_type": "markdown",
   "id": "086b8a3a",
   "metadata": {},
   "source": [
    "nombre_infected       585\n",
    "nombre_sain          2704\n",
    "nombre_exposed        394\n",
    "nombre_recovered    16317\n",
    "Name: 140, dtype: int64"
   ]
  },
  {
   "cell_type": "markdown",
   "id": "0f32fdc2",
   "metadata": {},
   "source": [
    "nombre_infected       597\n",
    "nombre_sain          2706\n",
    "nombre_exposed        394\n",
    "nombre_recovered    16303\n",
    "Name: 141, dtype: int64"
   ]
  },
  {
   "cell_type": "markdown",
   "id": "3d576877",
   "metadata": {},
   "source": [
    "nombre_infected       620\n",
    "nombre_sain          2717\n",
    "nombre_exposed        391\n",
    "nombre_recovered    16272\n",
    "Name: 142, dtype: int64"
   ]
  },
  {
   "cell_type": "markdown",
   "id": "eb612ef4",
   "metadata": {},
   "source": [
    "nombre_infected       634\n",
    "nombre_sain          2700\n",
    "nombre_exposed        386\n",
    "nombre_recovered    16280\n",
    "Name: 143, dtype: int64"
   ]
  },
  {
   "cell_type": "markdown",
   "id": "3d95b260",
   "metadata": {},
   "source": [
    "nombre_infected       642\n",
    "nombre_sain          2662\n",
    "nombre_exposed        395\n",
    "nombre_recovered    16301\n",
    "Name: 144, dtype: int64"
   ]
  },
  {
   "cell_type": "markdown",
   "id": "c077fd73",
   "metadata": {},
   "source": [
    "nombre_infected       654\n",
    "nombre_sain          2619\n",
    "nombre_exposed        407\n",
    "nombre_recovered    16320\n",
    "Name: 145, dtype: int64"
   ]
  },
  {
   "cell_type": "markdown",
   "id": "29073e23",
   "metadata": {},
   "source": [
    "nombre_infected       653\n",
    "nombre_sain          2621\n",
    "nombre_exposed        395\n",
    "nombre_recovered    16331\n",
    "Name: 146, dtype: int64"
   ]
  },
  {
   "cell_type": "markdown",
   "id": "3e34ae21",
   "metadata": {},
   "source": [
    "nombre_infected       675\n",
    "nombre_sain          2564\n",
    "nombre_exposed        395\n",
    "nombre_recovered    16366\n",
    "Name: 147, dtype: int64"
   ]
  },
  {
   "cell_type": "markdown",
   "id": "979e789d",
   "metadata": {},
   "source": [
    "nombre_infected       683\n",
    "nombre_sain          2513\n",
    "nombre_exposed        403\n",
    "nombre_recovered    16401\n",
    "Name: 148, dtype: int64"
   ]
  },
  {
   "cell_type": "markdown",
   "id": "d93a44c7",
   "metadata": {},
   "source": [
    "nombre_infected       692\n",
    "nombre_sain          2480\n",
    "nombre_exposed        401\n",
    "nombre_recovered    16427\n",
    "Name: 149, dtype: int64"
   ]
  },
  {
   "cell_type": "markdown",
   "id": "8f6a02b1",
   "metadata": {},
   "source": [
    "nombre_infected       708\n",
    "nombre_sain          2444\n",
    "nombre_exposed        394\n",
    "nombre_recovered    16454\n",
    "Name: 150, dtype: int64"
   ]
  },
  {
   "cell_type": "markdown",
   "id": "6f06c96b",
   "metadata": {},
   "source": [
    "nombre_infected       696\n",
    "nombre_sain          2403\n",
    "nombre_exposed        411\n",
    "nombre_recovered    16490\n",
    "Name: 151, dtype: int64"
   ]
  },
  {
   "cell_type": "markdown",
   "id": "83f9482c",
   "metadata": {},
   "source": [
    "nombre_infected       679\n",
    "nombre_sain          2397\n",
    "nombre_exposed        392\n",
    "nombre_recovered    16532\n",
    "Name: 152, dtype: int64"
   ]
  },
  {
   "cell_type": "markdown",
   "id": "6ee45fca",
   "metadata": {},
   "source": [
    "nombre_infected       710\n",
    "nombre_sain          2371\n",
    "nombre_exposed        371\n",
    "nombre_recovered    16548\n",
    "Name: 153, dtype: int64"
   ]
  },
  {
   "cell_type": "markdown",
   "id": "91f8acd6",
   "metadata": {},
   "source": [
    "nombre_infected       728\n",
    "nombre_sain          2368\n",
    "nombre_exposed        376\n",
    "nombre_recovered    16528\n",
    "Name: 154, dtype: int64"
   ]
  },
  {
   "cell_type": "markdown",
   "id": "8cbc12ec",
   "metadata": {},
   "source": [
    "nombre_infected       693\n",
    "nombre_sain          2330\n",
    "nombre_exposed        406\n",
    "nombre_recovered    16571\n",
    "Name: 155, dtype: int64"
   ]
  },
  {
   "cell_type": "markdown",
   "id": "87cf5fb3",
   "metadata": {},
   "source": [
    "nombre_infected       705\n",
    "nombre_sain          2311\n",
    "nombre_exposed        405\n",
    "nombre_recovered    16579\n",
    "Name: 156, dtype: int64"
   ]
  },
  {
   "cell_type": "markdown",
   "id": "ca9d4965",
   "metadata": {},
   "source": [
    "nombre_infected       705\n",
    "nombre_sain          2286\n",
    "nombre_exposed        416\n",
    "nombre_recovered    16593\n",
    "Name: 157, dtype: int64"
   ]
  },
  {
   "cell_type": "markdown",
   "id": "9091f423",
   "metadata": {},
   "source": [
    "nombre_infected       690\n",
    "nombre_sain          2266\n",
    "nombre_exposed        424\n",
    "nombre_recovered    16620\n",
    "Name: 158, dtype: int64"
   ]
  },
  {
   "cell_type": "markdown",
   "id": "49f63733",
   "metadata": {},
   "source": [
    "nombre_infected       706\n",
    "nombre_sain          2247\n",
    "nombre_exposed        394\n",
    "nombre_recovered    16653\n",
    "Name: 159, dtype: int64"
   ]
  },
  {
   "cell_type": "markdown",
   "id": "78f50275",
   "metadata": {},
   "source": [
    "nombre_infected       691\n",
    "nombre_sain          2218\n",
    "nombre_exposed        414\n",
    "nombre_recovered    16677\n",
    "Name: 160, dtype: int64"
   ]
  },
  {
   "cell_type": "markdown",
   "id": "93efae58",
   "metadata": {},
   "source": [
    "nombre_infected       694\n",
    "nombre_sain          2214\n",
    "nombre_exposed        411\n",
    "nombre_recovered    16681\n",
    "Name: 161, dtype: int64"
   ]
  },
  {
   "cell_type": "markdown",
   "id": "b0c1519a",
   "metadata": {},
   "source": [
    "nombre_infected       691\n",
    "nombre_sain          2214\n",
    "nombre_exposed        390\n",
    "nombre_recovered    16705\n",
    "Name: 162, dtype: int64"
   ]
  },
  {
   "cell_type": "markdown",
   "id": "836f5002",
   "metadata": {},
   "source": [
    "nombre_infected       738\n",
    "nombre_sain          2220\n",
    "nombre_exposed        360\n",
    "nombre_recovered    16682\n",
    "Name: 163, dtype: int64"
   ]
  },
  {
   "cell_type": "markdown",
   "id": "76dc6deb",
   "metadata": {},
   "source": [
    "nombre_infected       732\n",
    "nombre_sain          2200\n",
    "nombre_exposed        376\n",
    "nombre_recovered    16692\n",
    "Name: 164, dtype: int64"
   ]
  },
  {
   "cell_type": "markdown",
   "id": "7acdc787",
   "metadata": {},
   "source": [
    "nombre_infected       722\n",
    "nombre_sain          2205\n",
    "nombre_exposed        381\n",
    "nombre_recovered    16692\n",
    "Name: 165, dtype: int64"
   ]
  },
  {
   "cell_type": "markdown",
   "id": "c01869ee",
   "metadata": {},
   "source": [
    "nombre_infected       723\n",
    "nombre_sain          2192\n",
    "nombre_exposed        378\n",
    "nombre_recovered    16707\n",
    "Name: 166, dtype: int64"
   ]
  },
  {
   "cell_type": "markdown",
   "id": "fcf9f724",
   "metadata": {},
   "source": [
    "nombre_infected       722\n",
    "nombre_sain          2201\n",
    "nombre_exposed        362\n",
    "nombre_recovered    16715\n",
    "Name: 167, dtype: int64"
   ]
  },
  {
   "cell_type": "markdown",
   "id": "d90e668c",
   "metadata": {},
   "source": [
    "nombre_infected       714\n",
    "nombre_sain          2192\n",
    "nombre_exposed        362\n",
    "nombre_recovered    16732\n",
    "Name: 168, dtype: int64"
   ]
  },
  {
   "cell_type": "markdown",
   "id": "2e35fec9",
   "metadata": {},
   "source": [
    "nombre_infected       714\n",
    "nombre_sain          2199\n",
    "nombre_exposed        353\n",
    "nombre_recovered    16734\n",
    "Name: 169, dtype: int64"
   ]
  },
  {
   "cell_type": "markdown",
   "id": "e7b81f86",
   "metadata": {},
   "source": [
    "nombre_infected       705\n",
    "nombre_sain          2183\n",
    "nombre_exposed        363\n",
    "nombre_recovered    16749\n",
    "Name: 170, dtype: int64"
   ]
  },
  {
   "cell_type": "markdown",
   "id": "621393c2",
   "metadata": {},
   "source": [
    "nombre_infected       713\n",
    "nombre_sain          2171\n",
    "nombre_exposed        365\n",
    "nombre_recovered    16751\n",
    "Name: 171, dtype: int64"
   ]
  },
  {
   "cell_type": "markdown",
   "id": "e3ab04ee",
   "metadata": {},
   "source": [
    "nombre_infected       707\n",
    "nombre_sain          2150\n",
    "nombre_exposed        368\n",
    "nombre_recovered    16775\n",
    "Name: 172, dtype: int64"
   ]
  },
  {
   "cell_type": "markdown",
   "id": "aadb1ca9",
   "metadata": {},
   "source": [
    "nombre_infected       713\n",
    "nombre_sain          2131\n",
    "nombre_exposed        375\n",
    "nombre_recovered    16781\n",
    "Name: 173, dtype: int64"
   ]
  },
  {
   "cell_type": "markdown",
   "id": "7b728e7d",
   "metadata": {},
   "source": [
    "nombre_infected       710\n",
    "nombre_sain          2106\n",
    "nombre_exposed        394\n",
    "nombre_recovered    16790\n",
    "Name: 174, dtype: int64"
   ]
  },
  {
   "cell_type": "markdown",
   "id": "993e4190",
   "metadata": {},
   "source": [
    "nombre_infected       740\n",
    "nombre_sain          2098\n",
    "nombre_exposed        369\n",
    "nombre_recovered    16793\n",
    "Name: 175, dtype: int64"
   ]
  },
  {
   "cell_type": "markdown",
   "id": "e23b60fb",
   "metadata": {},
   "source": [
    "nombre_infected       751\n",
    "nombre_sain          2104\n",
    "nombre_exposed        361\n",
    "nombre_recovered    16784\n",
    "Name: 176, dtype: int64"
   ]
  },
  {
   "cell_type": "markdown",
   "id": "676b30b3",
   "metadata": {},
   "source": [
    "nombre_infected       759\n",
    "nombre_sain          2084\n",
    "nombre_exposed        367\n",
    "nombre_recovered    16790\n",
    "Name: 177, dtype: int64"
   ]
  },
  {
   "cell_type": "markdown",
   "id": "02467873",
   "metadata": {},
   "source": [
    "nombre_infected       737\n",
    "nombre_sain          2089\n",
    "nombre_exposed        363\n",
    "nombre_recovered    16811\n",
    "Name: 178, dtype: int64"
   ]
  },
  {
   "cell_type": "markdown",
   "id": "6f4c5759",
   "metadata": {},
   "source": [
    "nombre_infected       752\n",
    "nombre_sain          2098\n",
    "nombre_exposed        354\n",
    "nombre_recovered    16796\n",
    "Name: 179, dtype: int64"
   ]
  },
  {
   "cell_type": "markdown",
   "id": "de4d4746",
   "metadata": {},
   "source": [
    "nombre_infected       749\n",
    "nombre_sain          2103\n",
    "nombre_exposed        385\n",
    "nombre_recovered    16763\n",
    "Name: 180, dtype: int64"
   ]
  },
  {
   "cell_type": "markdown",
   "id": "da663ec4",
   "metadata": {},
   "source": [
    "nombre_infected       745\n",
    "nombre_sain          2109\n",
    "nombre_exposed        386\n",
    "nombre_recovered    16760\n",
    "Name: 181, dtype: int64"
   ]
  },
  {
   "cell_type": "markdown",
   "id": "d154bf1a",
   "metadata": {},
   "source": [
    "nombre_infected       752\n",
    "nombre_sain          2121\n",
    "nombre_exposed        376\n",
    "nombre_recovered    16751\n",
    "Name: 182, dtype: int64"
   ]
  },
  {
   "cell_type": "markdown",
   "id": "623f6e3f",
   "metadata": {},
   "source": [
    "nombre_infected       791\n",
    "nombre_sain          2101\n",
    "nombre_exposed        385\n",
    "nombre_recovered    16723\n",
    "Name: 183, dtype: int64"
   ]
  },
  {
   "cell_type": "markdown",
   "id": "5d951692",
   "metadata": {},
   "source": [
    "nombre_infected       796\n",
    "nombre_sain          2079\n",
    "nombre_exposed        404\n",
    "nombre_recovered    16721\n",
    "Name: 184, dtype: int64"
   ]
  },
  {
   "cell_type": "markdown",
   "id": "e4bd8074",
   "metadata": {},
   "source": [
    "nombre_infected       820\n",
    "nombre_sain          2091\n",
    "nombre_exposed        408\n",
    "nombre_recovered    16681\n",
    "Name: 185, dtype: int64"
   ]
  },
  {
   "cell_type": "markdown",
   "id": "97723946",
   "metadata": {},
   "source": [
    "nombre_infected       825\n",
    "nombre_sain          2060\n",
    "nombre_exposed        427\n",
    "nombre_recovered    16688\n",
    "Name: 186, dtype: int64"
   ]
  },
  {
   "cell_type": "markdown",
   "id": "d76ef8f4",
   "metadata": {},
   "source": [
    "nombre_infected       807\n",
    "nombre_sain          2057\n",
    "nombre_exposed        440\n",
    "nombre_recovered    16696\n",
    "Name: 187, dtype: int64"
   ]
  },
  {
   "cell_type": "markdown",
   "id": "f47e92ae",
   "metadata": {},
   "source": [
    "nombre_infected       813\n",
    "nombre_sain          2067\n",
    "nombre_exposed        422\n",
    "nombre_recovered    16698\n",
    "Name: 188, dtype: int64"
   ]
  },
  {
   "cell_type": "markdown",
   "id": "ab974578",
   "metadata": {},
   "source": [
    "nombre_infected       824\n",
    "nombre_sain          2055\n",
    "nombre_exposed        415\n",
    "nombre_recovered    16706\n",
    "Name: 189, dtype: int64"
   ]
  },
  {
   "cell_type": "markdown",
   "id": "ca298fc3",
   "metadata": {},
   "source": [
    "nombre_infected       827\n",
    "nombre_sain          2037\n",
    "nombre_exposed        427\n",
    "nombre_recovered    16709\n",
    "Name: 190, dtype: int64"
   ]
  },
  {
   "cell_type": "markdown",
   "id": "4e98fe90",
   "metadata": {},
   "source": [
    "nombre_infected       828\n",
    "nombre_sain          2020\n",
    "nombre_exposed        422\n",
    "nombre_recovered    16730\n",
    "Name: 191, dtype: int64"
   ]
  },
  {
   "cell_type": "markdown",
   "id": "7bec8a8a",
   "metadata": {},
   "source": [
    "nombre_infected       863\n",
    "nombre_sain          2014\n",
    "nombre_exposed        392\n",
    "nombre_recovered    16731\n",
    "Name: 192, dtype: int64"
   ]
  },
  {
   "cell_type": "markdown",
   "id": "7ab51ca4",
   "metadata": {},
   "source": [
    "nombre_infected       862\n",
    "nombre_sain          2002\n",
    "nombre_exposed        410\n",
    "nombre_recovered    16726\n",
    "Name: 193, dtype: int64"
   ]
  },
  {
   "cell_type": "markdown",
   "id": "ff4d70df",
   "metadata": {},
   "source": [
    "nombre_infected       844\n",
    "nombre_sain          2008\n",
    "nombre_exposed        430\n",
    "nombre_recovered    16718\n",
    "Name: 194, dtype: int64"
   ]
  },
  {
   "cell_type": "markdown",
   "id": "7ae112f6",
   "metadata": {},
   "source": [
    "nombre_infected       856\n",
    "nombre_sain          2003\n",
    "nombre_exposed        410\n",
    "nombre_recovered    16731\n",
    "Name: 195, dtype: int64"
   ]
  },
  {
   "cell_type": "markdown",
   "id": "5ae6b660",
   "metadata": {},
   "source": [
    "nombre_infected       862\n",
    "nombre_sain          2005\n",
    "nombre_exposed        405\n",
    "nombre_recovered    16728\n",
    "Name: 196, dtype: int64"
   ]
  },
  {
   "cell_type": "markdown",
   "id": "d1235550",
   "metadata": {},
   "source": [
    "nombre_infected       840\n",
    "nombre_sain          2026\n",
    "nombre_exposed        399\n",
    "nombre_recovered    16735\n",
    "Name: 197, dtype: int64"
   ]
  },
  {
   "cell_type": "markdown",
   "id": "8a93af5e",
   "metadata": {},
   "source": [
    "nombre_infected       850\n",
    "nombre_sain          2033\n",
    "nombre_exposed        392\n",
    "nombre_recovered    16725\n",
    "Name: 198, dtype: int64"
   ]
  },
  {
   "cell_type": "markdown",
   "id": "81e3ea10",
   "metadata": {},
   "source": [
    "nombre_infected       837\n",
    "nombre_sain          2026\n",
    "nombre_exposed        397\n",
    "nombre_recovered    16740\n",
    "Name: 199, dtype: int64"
   ]
  },
  {
   "cell_type": "markdown",
   "id": "3a9c9785",
   "metadata": {},
   "source": [
    "nombre_infected       821\n",
    "nombre_sain          2023\n",
    "nombre_exposed        391\n",
    "nombre_recovered    16765\n",
    "Name: 200, dtype: int64"
   ]
  },
  {
   "cell_type": "markdown",
   "id": "67676bc4",
   "metadata": {},
   "source": [
    "nombre_infected       836\n",
    "nombre_sain          2034\n",
    "nombre_exposed        376\n",
    "nombre_recovered    16754\n",
    "Name: 201, dtype: int64"
   ]
  },
  {
   "cell_type": "markdown",
   "id": "b5324344",
   "metadata": {},
   "source": [
    "nombre_infected       827\n",
    "nombre_sain          2034\n",
    "nombre_exposed        374\n",
    "nombre_recovered    16765\n",
    "Name: 202, dtype: int64"
   ]
  },
  {
   "cell_type": "markdown",
   "id": "bdaa98ba",
   "metadata": {},
   "source": [
    "nombre_infected       819\n",
    "nombre_sain          2022\n",
    "nombre_exposed        375\n",
    "nombre_recovered    16784\n",
    "Name: 203, dtype: int64"
   ]
  },
  {
   "cell_type": "markdown",
   "id": "9ef41e59",
   "metadata": {},
   "source": [
    "nombre_infected       802\n",
    "nombre_sain          2016\n",
    "nombre_exposed        390\n",
    "nombre_recovered    16792\n",
    "Name: 204, dtype: int64"
   ]
  },
  {
   "cell_type": "markdown",
   "id": "a7ace213",
   "metadata": {},
   "source": [
    "nombre_infected       788\n",
    "nombre_sain          2028\n",
    "nombre_exposed        387\n",
    "nombre_recovered    16797\n",
    "Name: 205, dtype: int64"
   ]
  },
  {
   "cell_type": "markdown",
   "id": "57bcbd34",
   "metadata": {},
   "source": [
    "nombre_infected       766\n",
    "nombre_sain          2030\n",
    "nombre_exposed        388\n",
    "nombre_recovered    16816\n",
    "Name: 206, dtype: int64"
   ]
  },
  {
   "cell_type": "markdown",
   "id": "20d566e8",
   "metadata": {},
   "source": [
    "nombre_infected       747\n",
    "nombre_sain          2024\n",
    "nombre_exposed        397\n",
    "nombre_recovered    16832\n",
    "Name: 207, dtype: int64"
   ]
  },
  {
   "cell_type": "markdown",
   "id": "f93fe242",
   "metadata": {},
   "source": [
    "nombre_infected       750\n",
    "nombre_sain          2021\n",
    "nombre_exposed        403\n",
    "nombre_recovered    16826\n",
    "Name: 208, dtype: int64"
   ]
  },
  {
   "cell_type": "markdown",
   "id": "5bde5e80",
   "metadata": {},
   "source": [
    "nombre_infected       748\n",
    "nombre_sain          2038\n",
    "nombre_exposed        387\n",
    "nombre_recovered    16827\n",
    "Name: 209, dtype: int64"
   ]
  },
  {
   "cell_type": "markdown",
   "id": "a1f8f649",
   "metadata": {},
   "source": [
    "nombre_infected       741\n",
    "nombre_sain          2036\n",
    "nombre_exposed        390\n",
    "nombre_recovered    16833\n",
    "Name: 210, dtype: int64"
   ]
  },
  {
   "cell_type": "markdown",
   "id": "74bc6a87",
   "metadata": {},
   "source": [
    "nombre_infected       733\n",
    "nombre_sain          2033\n",
    "nombre_exposed        403\n",
    "nombre_recovered    16831\n",
    "Name: 211, dtype: int64"
   ]
  },
  {
   "cell_type": "markdown",
   "id": "d6996e4d",
   "metadata": {},
   "source": [
    "nombre_infected       735\n",
    "nombre_sain          2041\n",
    "nombre_exposed        395\n",
    "nombre_recovered    16829\n",
    "Name: 212, dtype: int64"
   ]
  },
  {
   "cell_type": "markdown",
   "id": "4ac1c03b",
   "metadata": {},
   "source": [
    "nombre_infected       746\n",
    "nombre_sain          2064\n",
    "nombre_exposed        381\n",
    "nombre_recovered    16809\n",
    "Name: 213, dtype: int64"
   ]
  },
  {
   "cell_type": "markdown",
   "id": "12c8c4bd",
   "metadata": {},
   "source": [
    "nombre_infected       771\n",
    "nombre_sain          2057\n",
    "nombre_exposed        373\n",
    "nombre_recovered    16799\n",
    "Name: 214, dtype: int64"
   ]
  },
  {
   "cell_type": "markdown",
   "id": "c957047f",
   "metadata": {},
   "source": [
    "nombre_infected       791\n",
    "nombre_sain          2067\n",
    "nombre_exposed        361\n",
    "nombre_recovered    16781\n",
    "Name: 215, dtype: int64"
   ]
  },
  {
   "cell_type": "markdown",
   "id": "56336cad",
   "metadata": {},
   "source": [
    "nombre_infected       780\n",
    "nombre_sain          2067\n",
    "nombre_exposed        369\n",
    "nombre_recovered    16784\n",
    "Name: 216, dtype: int64"
   ]
  },
  {
   "cell_type": "markdown",
   "id": "01be90e8",
   "metadata": {},
   "source": [
    "nombre_infected       773\n",
    "nombre_sain          2103\n",
    "nombre_exposed        358\n",
    "nombre_recovered    16766\n",
    "Name: 217, dtype: int64"
   ]
  },
  {
   "cell_type": "markdown",
   "id": "6824ed17",
   "metadata": {},
   "source": [
    "nombre_infected       743\n",
    "nombre_sain          2109\n",
    "nombre_exposed        383\n",
    "nombre_recovered    16765\n",
    "Name: 218, dtype: int64"
   ]
  },
  {
   "cell_type": "markdown",
   "id": "e63d15ff",
   "metadata": {},
   "source": [
    "nombre_infected       737\n",
    "nombre_sain          2120\n",
    "nombre_exposed        377\n",
    "nombre_recovered    16766\n",
    "Name: 219, dtype: int64"
   ]
  },
  {
   "cell_type": "markdown",
   "id": "575b7269",
   "metadata": {},
   "source": [
    "nombre_infected       738\n",
    "nombre_sain          2160\n",
    "nombre_exposed        392\n",
    "nombre_recovered    16710\n",
    "Name: 220, dtype: int64"
   ]
  },
  {
   "cell_type": "markdown",
   "id": "dea1a360",
   "metadata": {},
   "source": [
    "nombre_infected       751\n",
    "nombre_sain          2156\n",
    "nombre_exposed        402\n",
    "nombre_recovered    16691\n",
    "Name: 221, dtype: int64"
   ]
  },
  {
   "cell_type": "markdown",
   "id": "8d3209ac",
   "metadata": {},
   "source": [
    "nombre_infected       780\n",
    "nombre_sain          2179\n",
    "nombre_exposed        379\n",
    "nombre_recovered    16662\n",
    "Name: 222, dtype: int64"
   ]
  },
  {
   "cell_type": "markdown",
   "id": "43ff5db9",
   "metadata": {},
   "source": [
    "nombre_infected       795\n",
    "nombre_sain          2188\n",
    "nombre_exposed        396\n",
    "nombre_recovered    16621\n",
    "Name: 223, dtype: int64"
   ]
  },
  {
   "cell_type": "markdown",
   "id": "b3483be3",
   "metadata": {},
   "source": [
    "nombre_infected       806\n",
    "nombre_sain          2173\n",
    "nombre_exposed        411\n",
    "nombre_recovered    16610\n",
    "Name: 224, dtype: int64"
   ]
  },
  {
   "cell_type": "markdown",
   "id": "126e49c1",
   "metadata": {},
   "source": [
    "nombre_infected       786\n",
    "nombre_sain          2178\n",
    "nombre_exposed        429\n",
    "nombre_recovered    16607\n",
    "Name: 225, dtype: int64"
   ]
  },
  {
   "cell_type": "markdown",
   "id": "00d9eb74",
   "metadata": {},
   "source": [
    "nombre_infected       794\n",
    "nombre_sain          2170\n",
    "nombre_exposed        448\n",
    "nombre_recovered    16588\n",
    "Name: 226, dtype: int64"
   ]
  },
  {
   "cell_type": "markdown",
   "id": "e68e50e4",
   "metadata": {},
   "source": [
    "nombre_infected       817\n",
    "nombre_sain          2164\n",
    "nombre_exposed        456\n",
    "nombre_recovered    16563\n",
    "Name: 227, dtype: int64"
   ]
  },
  {
   "cell_type": "markdown",
   "id": "280b5b44",
   "metadata": {},
   "source": [
    "nombre_infected       841\n",
    "nombre_sain          2144\n",
    "nombre_exposed        448\n",
    "nombre_recovered    16567\n",
    "Name: 228, dtype: int64"
   ]
  },
  {
   "cell_type": "markdown",
   "id": "6dd4a2ff",
   "metadata": {},
   "source": [
    "nombre_infected       848\n",
    "nombre_sain          2141\n",
    "nombre_exposed        475\n",
    "nombre_recovered    16536\n",
    "Name: 229, dtype: int64"
   ]
  },
  {
   "cell_type": "markdown",
   "id": "a62ac452",
   "metadata": {},
   "source": [
    "nombre_infected       849\n",
    "nombre_sain          2115\n",
    "nombre_exposed        496\n",
    "nombre_recovered    16540\n",
    "Name: 230, dtype: int64"
   ]
  },
  {
   "cell_type": "markdown",
   "id": "12f88f6f",
   "metadata": {},
   "source": [
    "nombre_infected       862\n",
    "nombre_sain          2115\n",
    "nombre_exposed        481\n",
    "nombre_recovered    16542\n",
    "Name: 231, dtype: int64"
   ]
  },
  {
   "cell_type": "markdown",
   "id": "2bd9bb1f",
   "metadata": {},
   "source": [
    "nombre_infected       878\n",
    "nombre_sain          2092\n",
    "nombre_exposed        482\n",
    "nombre_recovered    16548\n",
    "Name: 232, dtype: int64"
   ]
  },
  {
   "cell_type": "markdown",
   "id": "0c96d4c3",
   "metadata": {},
   "source": [
    "nombre_infected       877\n",
    "nombre_sain          2082\n",
    "nombre_exposed        501\n",
    "nombre_recovered    16540\n",
    "Name: 233, dtype: int64"
   ]
  },
  {
   "cell_type": "markdown",
   "id": "1822f446",
   "metadata": {},
   "source": [
    "nombre_infected       885\n",
    "nombre_sain          2049\n",
    "nombre_exposed        508\n",
    "nombre_recovered    16558\n",
    "Name: 234, dtype: int64"
   ]
  },
  {
   "cell_type": "markdown",
   "id": "572297d8",
   "metadata": {},
   "source": [
    "nombre_infected       871\n",
    "nombre_sain          2029\n",
    "nombre_exposed        511\n",
    "nombre_recovered    16589\n",
    "Name: 235, dtype: int64"
   ]
  },
  {
   "cell_type": "markdown",
   "id": "ed64b75c",
   "metadata": {},
   "source": [
    "nombre_infected       899\n",
    "nombre_sain          2021\n",
    "nombre_exposed        488\n",
    "nombre_recovered    16592\n",
    "Name: 236, dtype: int64"
   ]
  },
  {
   "cell_type": "markdown",
   "id": "b5a85e1b",
   "metadata": {},
   "source": [
    "nombre_infected       916\n",
    "nombre_sain          2023\n",
    "nombre_exposed        468\n",
    "nombre_recovered    16593\n",
    "Name: 237, dtype: int64"
   ]
  },
  {
   "cell_type": "markdown",
   "id": "eda271cf",
   "metadata": {},
   "source": [
    "nombre_infected       923\n",
    "nombre_sain          2011\n",
    "nombre_exposed        457\n",
    "nombre_recovered    16609\n",
    "Name: 238, dtype: int64"
   ]
  },
  {
   "cell_type": "markdown",
   "id": "feec8e7a",
   "metadata": {},
   "source": [
    "nombre_infected       925\n",
    "nombre_sain          2003\n",
    "nombre_exposed        458\n",
    "nombre_recovered    16614\n",
    "Name: 239, dtype: int64"
   ]
  },
  {
   "cell_type": "markdown",
   "id": "abe219f7",
   "metadata": {},
   "source": [
    "nombre_infected       913\n",
    "nombre_sain          1998\n",
    "nombre_exposed        446\n",
    "nombre_recovered    16643\n",
    "Name: 240, dtype: int64"
   ]
  },
  {
   "cell_type": "markdown",
   "id": "d89cee4b",
   "metadata": {},
   "source": [
    "nombre_infected       894\n",
    "nombre_sain          2004\n",
    "nombre_exposed        465\n",
    "nombre_recovered    16637\n",
    "Name: 241, dtype: int64"
   ]
  },
  {
   "cell_type": "markdown",
   "id": "2a587fcc",
   "metadata": {},
   "source": [
    "nombre_infected       900\n",
    "nombre_sain          2016\n",
    "nombre_exposed        443\n",
    "nombre_recovered    16641\n",
    "Name: 242, dtype: int64"
   ]
  },
  {
   "cell_type": "markdown",
   "id": "036466c3",
   "metadata": {},
   "source": [
    "nombre_infected       879\n",
    "nombre_sain          2027\n",
    "nombre_exposed        444\n",
    "nombre_recovered    16650\n",
    "Name: 243, dtype: int64"
   ]
  },
  {
   "cell_type": "markdown",
   "id": "39876394",
   "metadata": {},
   "source": [
    "nombre_infected       866\n",
    "nombre_sain          2067\n",
    "nombre_exposed        428\n",
    "nombre_recovered    16639\n",
    "Name: 244, dtype: int64"
   ]
  },
  {
   "cell_type": "markdown",
   "id": "354f6542",
   "metadata": {},
   "source": [
    "nombre_infected       865\n",
    "nombre_sain          2065\n",
    "nombre_exposed        425\n",
    "nombre_recovered    16645\n",
    "Name: 245, dtype: int64"
   ]
  },
  {
   "cell_type": "markdown",
   "id": "75c3d366",
   "metadata": {},
   "source": [
    "nombre_infected       833\n",
    "nombre_sain          2069\n",
    "nombre_exposed        431\n",
    "nombre_recovered    16667\n",
    "Name: 246, dtype: int64"
   ]
  },
  {
   "cell_type": "markdown",
   "id": "fc2edb1a",
   "metadata": {},
   "source": [
    "nombre_infected       833\n",
    "nombre_sain          2043\n",
    "nombre_exposed        429\n",
    "nombre_recovered    16695\n",
    "Name: 247, dtype: int64"
   ]
  },
  {
   "cell_type": "markdown",
   "id": "05e9337e",
   "metadata": {},
   "source": [
    "nombre_infected       835\n",
    "nombre_sain          2023\n",
    "nombre_exposed        429\n",
    "nombre_recovered    16713\n",
    "Name: 248, dtype: int64"
   ]
  },
  {
   "cell_type": "markdown",
   "id": "2f97a2ea",
   "metadata": {},
   "source": [
    "nombre_infected       839\n",
    "nombre_sain          2027\n",
    "nombre_exposed        436\n",
    "nombre_recovered    16698\n",
    "Name: 249, dtype: int64"
   ]
  },
  {
   "cell_type": "markdown",
   "id": "0298b386",
   "metadata": {},
   "source": [
    "nombre_infected       839\n",
    "nombre_sain          2015\n",
    "nombre_exposed        422\n",
    "nombre_recovered    16724\n",
    "Name: 250, dtype: int64"
   ]
  },
  {
   "cell_type": "markdown",
   "id": "47ea6a10",
   "metadata": {},
   "source": [
    "nombre_infected       838\n",
    "nombre_sain          2019\n",
    "nombre_exposed        417\n",
    "nombre_recovered    16726\n",
    "Name: 251, dtype: int64"
   ]
  },
  {
   "cell_type": "markdown",
   "id": "25f3bcc9",
   "metadata": {},
   "source": [
    "nombre_infected       828\n",
    "nombre_sain          1996\n",
    "nombre_exposed        430\n",
    "nombre_recovered    16746\n",
    "Name: 252, dtype: int64"
   ]
  },
  {
   "cell_type": "markdown",
   "id": "e87ecce6",
   "metadata": {},
   "source": [
    "nombre_infected       831\n",
    "nombre_sain          1995\n",
    "nombre_exposed        436\n",
    "nombre_recovered    16738\n",
    "Name: 253, dtype: int64"
   ]
  },
  {
   "cell_type": "markdown",
   "id": "f09e403f",
   "metadata": {},
   "source": [
    "nombre_infected       815\n",
    "nombre_sain          1995\n",
    "nombre_exposed        435\n",
    "nombre_recovered    16755\n",
    "Name: 254, dtype: int64"
   ]
  },
  {
   "cell_type": "markdown",
   "id": "f3627245",
   "metadata": {},
   "source": [
    "nombre_infected       805\n",
    "nombre_sain          1992\n",
    "nombre_exposed        424\n",
    "nombre_recovered    16779\n",
    "Name: 255, dtype: int64"
   ]
  },
  {
   "cell_type": "markdown",
   "id": "f3493c08",
   "metadata": {},
   "source": [
    "nombre_infected       801\n",
    "nombre_sain          1979\n",
    "nombre_exposed        418\n",
    "nombre_recovered    16802\n",
    "Name: 256, dtype: int64"
   ]
  },
  {
   "cell_type": "markdown",
   "id": "a75ea94a",
   "metadata": {},
   "source": [
    "nombre_infected       806\n",
    "nombre_sain          1960\n",
    "nombre_exposed        422\n",
    "nombre_recovered    16812\n",
    "Name: 257, dtype: int64"
   ]
  },
  {
   "cell_type": "markdown",
   "id": "54d731a3",
   "metadata": {},
   "source": [
    "nombre_infected       809\n",
    "nombre_sain          1951\n",
    "nombre_exposed        436\n",
    "nombre_recovered    16804\n",
    "Name: 258, dtype: int64"
   ]
  },
  {
   "cell_type": "markdown",
   "id": "987ee8c0",
   "metadata": {},
   "source": [
    "nombre_infected       822\n",
    "nombre_sain          1968\n",
    "nombre_exposed        416\n",
    "nombre_recovered    16794\n",
    "Name: 259, dtype: int64"
   ]
  },
  {
   "cell_type": "markdown",
   "id": "d718ba4e",
   "metadata": {},
   "source": [
    "nombre_infected       817\n",
    "nombre_sain          1962\n",
    "nombre_exposed        403\n",
    "nombre_recovered    16818\n",
    "Name: 260, dtype: int64"
   ]
  },
  {
   "cell_type": "markdown",
   "id": "3946a3f1",
   "metadata": {},
   "source": [
    "nombre_infected       833\n",
    "nombre_sain          1955\n",
    "nombre_exposed        395\n",
    "nombre_recovered    16817\n",
    "Name: 261, dtype: int64"
   ]
  },
  {
   "cell_type": "markdown",
   "id": "d9de7939",
   "metadata": {},
   "source": [
    "nombre_infected       821\n",
    "nombre_sain          1956\n",
    "nombre_exposed        398\n",
    "nombre_recovered    16825\n",
    "Name: 262, dtype: int64"
   ]
  },
  {
   "cell_type": "markdown",
   "id": "a545e795",
   "metadata": {},
   "source": [
    "nombre_infected       806\n",
    "nombre_sain          1970\n",
    "nombre_exposed        389\n",
    "nombre_recovered    16835\n",
    "Name: 263, dtype: int64"
   ]
  },
  {
   "cell_type": "markdown",
   "id": "99f0cb5f",
   "metadata": {},
   "source": [
    "nombre_infected       812\n",
    "nombre_sain          1978\n",
    "nombre_exposed        382\n",
    "nombre_recovered    16828\n",
    "Name: 264, dtype: int64"
   ]
  },
  {
   "cell_type": "markdown",
   "id": "d23de02c",
   "metadata": {},
   "source": [
    "nombre_infected       818\n",
    "nombre_sain          1987\n",
    "nombre_exposed        369\n",
    "nombre_recovered    16826\n",
    "Name: 265, dtype: int64"
   ]
  },
  {
   "cell_type": "markdown",
   "id": "3ad86247",
   "metadata": {},
   "source": [
    "nombre_infected       794\n",
    "nombre_sain          1966\n",
    "nombre_exposed        398\n",
    "nombre_recovered    16842\n",
    "Name: 266, dtype: int64"
   ]
  },
  {
   "cell_type": "markdown",
   "id": "5c5a6605",
   "metadata": {},
   "source": [
    "nombre_infected       791\n",
    "nombre_sain          1969\n",
    "nombre_exposed        394\n",
    "nombre_recovered    16846\n",
    "Name: 267, dtype: int64"
   ]
  },
  {
   "cell_type": "markdown",
   "id": "f629e66b",
   "metadata": {},
   "source": [
    "nombre_infected       809\n",
    "nombre_sain          1967\n",
    "nombre_exposed        369\n",
    "nombre_recovered    16855\n",
    "Name: 268, dtype: int64"
   ]
  },
  {
   "cell_type": "markdown",
   "id": "1c8bf79f",
   "metadata": {},
   "source": [
    "nombre_infected       806\n",
    "nombre_sain          1978\n",
    "nombre_exposed        365\n",
    "nombre_recovered    16851\n",
    "Name: 269, dtype: int64"
   ]
  },
  {
   "cell_type": "markdown",
   "id": "61f2f5ce",
   "metadata": {},
   "source": [
    "nombre_infected       807\n",
    "nombre_sain          1970\n",
    "nombre_exposed        379\n",
    "nombre_recovered    16844\n",
    "Name: 270, dtype: int64"
   ]
  },
  {
   "cell_type": "markdown",
   "id": "858edca9",
   "metadata": {},
   "source": [
    "nombre_infected       796\n",
    "nombre_sain          1999\n",
    "nombre_exposed        387\n",
    "nombre_recovered    16818\n",
    "Name: 271, dtype: int64"
   ]
  },
  {
   "cell_type": "markdown",
   "id": "eca17349",
   "metadata": {},
   "source": [
    "nombre_infected       794\n",
    "nombre_sain          2031\n",
    "nombre_exposed        380\n",
    "nombre_recovered    16795\n",
    "Name: 272, dtype: int64"
   ]
  },
  {
   "cell_type": "markdown",
   "id": "12743535",
   "metadata": {},
   "source": [
    "nombre_infected       771\n",
    "nombre_sain          2034\n",
    "nombre_exposed        404\n",
    "nombre_recovered    16791\n",
    "Name: 273, dtype: int64"
   ]
  },
  {
   "cell_type": "markdown",
   "id": "6e81a6f0",
   "metadata": {},
   "source": [
    "nombre_infected       779\n",
    "nombre_sain          2060\n",
    "nombre_exposed        392\n",
    "nombre_recovered    16769\n",
    "Name: 274, dtype: int64"
   ]
  },
  {
   "cell_type": "markdown",
   "id": "9b2be012",
   "metadata": {},
   "source": [
    "nombre_infected       775\n",
    "nombre_sain          2055\n",
    "nombre_exposed        398\n",
    "nombre_recovered    16772\n",
    "Name: 275, dtype: int64"
   ]
  },
  {
   "cell_type": "markdown",
   "id": "3bd5000d",
   "metadata": {},
   "source": [
    "nombre_infected       779\n",
    "nombre_sain          2066\n",
    "nombre_exposed        384\n",
    "nombre_recovered    16771\n",
    "Name: 276, dtype: int64"
   ]
  },
  {
   "cell_type": "markdown",
   "id": "f10e7a1f",
   "metadata": {},
   "source": [
    "nombre_infected       785\n",
    "nombre_sain          2061\n",
    "nombre_exposed        386\n",
    "nombre_recovered    16768\n",
    "Name: 277, dtype: int64"
   ]
  },
  {
   "cell_type": "markdown",
   "id": "2e1bd138",
   "metadata": {},
   "source": [
    "nombre_infected       755\n",
    "nombre_sain          2080\n",
    "nombre_exposed        412\n",
    "nombre_recovered    16753\n",
    "Name: 278, dtype: int64"
   ]
  },
  {
   "cell_type": "markdown",
   "id": "b7dd6822",
   "metadata": {},
   "source": [
    "nombre_infected       743\n",
    "nombre_sain          2088\n",
    "nombre_exposed        410\n",
    "nombre_recovered    16759\n",
    "Name: 279, dtype: int64"
   ]
  },
  {
   "cell_type": "markdown",
   "id": "7ed29eae",
   "metadata": {},
   "source": [
    "nombre_infected       723\n",
    "nombre_sain          2105\n",
    "nombre_exposed        415\n",
    "nombre_recovered    16757\n",
    "Name: 280, dtype: int64"
   ]
  },
  {
   "cell_type": "markdown",
   "id": "1cb1eab0",
   "metadata": {},
   "source": [
    "nombre_infected       729\n",
    "nombre_sain          2129\n",
    "nombre_exposed        398\n",
    "nombre_recovered    16744\n",
    "Name: 281, dtype: int64"
   ]
  },
  {
   "cell_type": "markdown",
   "id": "d87d8ca3",
   "metadata": {},
   "source": [
    "nombre_infected       724\n",
    "nombre_sain          2137\n",
    "nombre_exposed        396\n",
    "nombre_recovered    16743\n",
    "Name: 282, dtype: int64"
   ]
  },
  {
   "cell_type": "markdown",
   "id": "6bc4855d",
   "metadata": {},
   "source": [
    "nombre_infected       731\n",
    "nombre_sain          2152\n",
    "nombre_exposed        403\n",
    "nombre_recovered    16714\n",
    "Name: 283, dtype: int64"
   ]
  },
  {
   "cell_type": "markdown",
   "id": "c3098c80",
   "metadata": {},
   "source": [
    "nombre_infected       742\n",
    "nombre_sain          2182\n",
    "nombre_exposed        369\n",
    "nombre_recovered    16707\n",
    "Name: 284, dtype: int64"
   ]
  },
  {
   "cell_type": "markdown",
   "id": "61153423",
   "metadata": {},
   "source": [
    "nombre_infected       722\n",
    "nombre_sain          2198\n",
    "nombre_exposed        375\n",
    "nombre_recovered    16705\n",
    "Name: 285, dtype: int64"
   ]
  },
  {
   "cell_type": "markdown",
   "id": "a84cd96a",
   "metadata": {},
   "source": [
    "nombre_infected       714\n",
    "nombre_sain          2215\n",
    "nombre_exposed        382\n",
    "nombre_recovered    16689\n",
    "Name: 286, dtype: int64"
   ]
  },
  {
   "cell_type": "markdown",
   "id": "17412821",
   "metadata": {},
   "source": [
    "nombre_infected       712\n",
    "nombre_sain          2237\n",
    "nombre_exposed        377\n",
    "nombre_recovered    16674\n",
    "Name: 287, dtype: int64"
   ]
  },
  {
   "cell_type": "markdown",
   "id": "6afc6775",
   "metadata": {},
   "source": [
    "nombre_infected       727\n",
    "nombre_sain          2277\n",
    "nombre_exposed        354\n",
    "nombre_recovered    16642\n",
    "Name: 288, dtype: int64"
   ]
  },
  {
   "cell_type": "markdown",
   "id": "e05703b9",
   "metadata": {},
   "source": [
    "nombre_infected       736\n",
    "nombre_sain          2294\n",
    "nombre_exposed        361\n",
    "nombre_recovered    16609\n",
    "Name: 289, dtype: int64"
   ]
  },
  {
   "cell_type": "markdown",
   "id": "596047d3",
   "metadata": {},
   "source": [
    "nombre_infected       717\n",
    "nombre_sain          2325\n",
    "nombre_exposed        353\n",
    "nombre_recovered    16605\n",
    "Name: 290, dtype: int64"
   ]
  },
  {
   "cell_type": "markdown",
   "id": "971a4bc7",
   "metadata": {},
   "source": [
    "nombre_infected       713\n",
    "nombre_sain          2349\n",
    "nombre_exposed        361\n",
    "nombre_recovered    16577\n",
    "Name: 291, dtype: int64"
   ]
  },
  {
   "cell_type": "markdown",
   "id": "663b3c15",
   "metadata": {},
   "source": [
    "nombre_infected       708\n",
    "nombre_sain          2370\n",
    "nombre_exposed        367\n",
    "nombre_recovered    16555\n",
    "Name: 292, dtype: int64"
   ]
  },
  {
   "cell_type": "markdown",
   "id": "2a3a187a",
   "metadata": {},
   "source": [
    "nombre_infected       677\n",
    "nombre_sain          2378\n",
    "nombre_exposed        371\n",
    "nombre_recovered    16574\n",
    "Name: 293, dtype: int64"
   ]
  },
  {
   "cell_type": "markdown",
   "id": "76c63300",
   "metadata": {},
   "source": [
    "nombre_infected       687\n",
    "nombre_sain          2365\n",
    "nombre_exposed        391\n",
    "nombre_recovered    16557\n",
    "Name: 294, dtype: int64"
   ]
  },
  {
   "cell_type": "markdown",
   "id": "adad9831",
   "metadata": {},
   "source": [
    "nombre_infected       695\n",
    "nombre_sain          2404\n",
    "nombre_exposed        372\n",
    "nombre_recovered    16529\n",
    "Name: 295, dtype: int64"
   ]
  },
  {
   "cell_type": "markdown",
   "id": "16506009",
   "metadata": {},
   "source": [
    "nombre_infected       706\n",
    "nombre_sain          2395\n",
    "nombre_exposed        383\n",
    "nombre_recovered    16516\n",
    "Name: 296, dtype: int64"
   ]
  },
  {
   "cell_type": "markdown",
   "id": "40f2da46",
   "metadata": {},
   "source": [
    "nombre_infected       691\n",
    "nombre_sain          2427\n",
    "nombre_exposed        372\n",
    "nombre_recovered    16510\n",
    "Name: 297, dtype: int64"
   ]
  },
  {
   "cell_type": "markdown",
   "id": "68b4d0fa",
   "metadata": {},
   "source": [
    "nombre_infected       703\n",
    "nombre_sain          2417\n",
    "nombre_exposed        385\n",
    "nombre_recovered    16495\n",
    "Name: 298, dtype: int64"
   ]
  },
  {
   "cell_type": "markdown",
   "id": "bb2cb5f5",
   "metadata": {},
   "source": [
    "nombre_infected       708\n",
    "nombre_sain          2424\n",
    "nombre_exposed        393\n",
    "nombre_recovered    16475\n",
    "Name: 299, dtype: int64"
   ]
  },
  {
   "cell_type": "markdown",
   "id": "c5aeb4c6",
   "metadata": {},
   "source": [
    "nombre_infected       702\n",
    "nombre_sain          2432\n",
    "nombre_exposed        400\n",
    "nombre_recovered    16466\n",
    "Name: 300, dtype: int64"
   ]
  },
  {
   "cell_type": "markdown",
   "id": "01dd733d",
   "metadata": {},
   "source": [
    "nombre_infected       709\n",
    "nombre_sain          2449\n",
    "nombre_exposed        424\n",
    "nombre_recovered    16418\n",
    "Name: 301, dtype: int64"
   ]
  },
  {
   "cell_type": "markdown",
   "id": "5f247842",
   "metadata": {},
   "source": [
    "nombre_infected       707\n",
    "nombre_sain          2467\n",
    "nombre_exposed        433\n",
    "nombre_recovered    16393\n",
    "Name: 302, dtype: int64"
   ]
  },
  {
   "cell_type": "markdown",
   "id": "aba5a382",
   "metadata": {},
   "source": [
    "nombre_infected       699\n",
    "nombre_sain          2484\n",
    "nombre_exposed        439\n",
    "nombre_recovered    16378\n",
    "Name: 303, dtype: int64"
   ]
  },
  {
   "cell_type": "markdown",
   "id": "c7af6c00",
   "metadata": {},
   "source": [
    "nombre_infected       720\n",
    "nombre_sain          2499\n",
    "nombre_exposed        459\n",
    "nombre_recovered    16322\n",
    "Name: 304, dtype: int64"
   ]
  },
  {
   "cell_type": "markdown",
   "id": "9b9ce1a7",
   "metadata": {},
   "source": [
    "nombre_infected       751\n",
    "nombre_sain          2531\n",
    "nombre_exposed        445\n",
    "nombre_recovered    16273\n",
    "Name: 305, dtype: int64"
   ]
  },
  {
   "cell_type": "markdown",
   "id": "63e5c938",
   "metadata": {},
   "source": [
    "nombre_infected       766\n",
    "nombre_sain          2522\n",
    "nombre_exposed        460\n",
    "nombre_recovered    16252\n",
    "Name: 306, dtype: int64"
   ]
  },
  {
   "cell_type": "markdown",
   "id": "81f1bca8",
   "metadata": {},
   "source": [
    "nombre_infected       768\n",
    "nombre_sain          2497\n",
    "nombre_exposed        468\n",
    "nombre_recovered    16267\n",
    "Name: 307, dtype: int64"
   ]
  },
  {
   "cell_type": "markdown",
   "id": "39ccae74",
   "metadata": {},
   "source": [
    "nombre_infected       775\n",
    "nombre_sain          2483\n",
    "nombre_exposed        484\n",
    "nombre_recovered    16258\n",
    "Name: 308, dtype: int64"
   ]
  },
  {
   "cell_type": "markdown",
   "id": "ea23431b",
   "metadata": {},
   "source": [
    "nombre_infected       775\n",
    "nombre_sain          2479\n",
    "nombre_exposed        483\n",
    "nombre_recovered    16263\n",
    "Name: 309, dtype: int64"
   ]
  },
  {
   "cell_type": "markdown",
   "id": "221d7a60",
   "metadata": {},
   "source": [
    "nombre_infected       789\n",
    "nombre_sain          2504\n",
    "nombre_exposed        456\n",
    "nombre_recovered    16251\n",
    "Name: 310, dtype: int64"
   ]
  },
  {
   "cell_type": "markdown",
   "id": "037b1d84",
   "metadata": {},
   "source": [
    "nombre_infected       801\n",
    "nombre_sain          2499\n",
    "nombre_exposed        468\n",
    "nombre_recovered    16232\n",
    "Name: 311, dtype: int64"
   ]
  },
  {
   "cell_type": "markdown",
   "id": "6feb6bc7",
   "metadata": {},
   "source": [
    "nombre_infected       800\n",
    "nombre_sain          2501\n",
    "nombre_exposed        490\n",
    "nombre_recovered    16209\n",
    "Name: 312, dtype: int64"
   ]
  },
  {
   "cell_type": "markdown",
   "id": "4da640fd",
   "metadata": {},
   "source": [
    "nombre_infected       824\n",
    "nombre_sain          2507\n",
    "nombre_exposed        502\n",
    "nombre_recovered    16167\n",
    "Name: 313, dtype: int64"
   ]
  },
  {
   "cell_type": "markdown",
   "id": "0200ed71",
   "metadata": {},
   "source": [
    "nombre_infected       816\n",
    "nombre_sain          2489\n",
    "nombre_exposed        527\n",
    "nombre_recovered    16168\n",
    "Name: 314, dtype: int64"
   ]
  },
  {
   "cell_type": "markdown",
   "id": "bf6090eb",
   "metadata": {},
   "source": [
    "nombre_infected       865\n",
    "nombre_sain          2439\n",
    "nombre_exposed        543\n",
    "nombre_recovered    16153\n",
    "Name: 315, dtype: int64"
   ]
  },
  {
   "cell_type": "markdown",
   "id": "e49594fb",
   "metadata": {},
   "source": [
    "nombre_infected       870\n",
    "nombre_sain          2433\n",
    "nombre_exposed        566\n",
    "nombre_recovered    16131\n",
    "Name: 316, dtype: int64"
   ]
  },
  {
   "cell_type": "markdown",
   "id": "4329444b",
   "metadata": {},
   "source": [
    "nombre_infected       898\n",
    "nombre_sain          2428\n",
    "nombre_exposed        562\n",
    "nombre_recovered    16112\n",
    "Name: 317, dtype: int64"
   ]
  },
  {
   "cell_type": "markdown",
   "id": "2cf209e9",
   "metadata": {},
   "source": [
    "nombre_infected       926\n",
    "nombre_sain          2421\n",
    "nombre_exposed        555\n",
    "nombre_recovered    16098\n",
    "Name: 318, dtype: int64"
   ]
  },
  {
   "cell_type": "markdown",
   "id": "096a1557",
   "metadata": {},
   "source": [
    "nombre_infected       927\n",
    "nombre_sain          2422\n",
    "nombre_exposed        557\n",
    "nombre_recovered    16094\n",
    "Name: 319, dtype: int64"
   ]
  },
  {
   "cell_type": "markdown",
   "id": "34679813",
   "metadata": {},
   "source": [
    "nombre_infected       927\n",
    "nombre_sain          2412\n",
    "nombre_exposed        568\n",
    "nombre_recovered    16093\n",
    "Name: 320, dtype: int64"
   ]
  },
  {
   "cell_type": "markdown",
   "id": "ace4fc2c",
   "metadata": {},
   "source": [
    "nombre_infected       937\n",
    "nombre_sain          2426\n",
    "nombre_exposed        559\n",
    "nombre_recovered    16078\n",
    "Name: 321, dtype: int64"
   ]
  },
  {
   "cell_type": "markdown",
   "id": "1a0e6155",
   "metadata": {},
   "source": [
    "nombre_infected       945\n",
    "nombre_sain          2406\n",
    "nombre_exposed        580\n",
    "nombre_recovered    16069\n",
    "Name: 322, dtype: int64"
   ]
  },
  {
   "cell_type": "markdown",
   "id": "9882db25",
   "metadata": {},
   "source": [
    "nombre_infected       964\n",
    "nombre_sain          2420\n",
    "nombre_exposed        548\n",
    "nombre_recovered    16068\n",
    "Name: 323, dtype: int64"
   ]
  },
  {
   "cell_type": "markdown",
   "id": "c47dec0e",
   "metadata": {},
   "source": [
    "nombre_infected       986\n",
    "nombre_sain          2428\n",
    "nombre_exposed        524\n",
    "nombre_recovered    16062\n",
    "Name: 324, dtype: int64"
   ]
  },
  {
   "cell_type": "markdown",
   "id": "bc028c0b",
   "metadata": {},
   "source": [
    "nombre_infected      1004\n",
    "nombre_sain          2427\n",
    "nombre_exposed        524\n",
    "nombre_recovered    16045\n",
    "Name: 325, dtype: int64"
   ]
  },
  {
   "cell_type": "markdown",
   "id": "d09f1f2d",
   "metadata": {},
   "source": [
    "nombre_infected      1019\n",
    "nombre_sain          2445\n",
    "nombre_exposed        527\n",
    "nombre_recovered    16009\n",
    "Name: 326, dtype: int64"
   ]
  },
  {
   "cell_type": "markdown",
   "id": "29ac7d98",
   "metadata": {},
   "source": [
    "nombre_infected      1014\n",
    "nombre_sain          2402\n",
    "nombre_exposed        578\n",
    "nombre_recovered    16006\n",
    "Name: 327, dtype: int64"
   ]
  },
  {
   "cell_type": "markdown",
   "id": "144a9b70",
   "metadata": {},
   "source": [
    "nombre_infected      1012\n",
    "nombre_sain          2371\n",
    "nombre_exposed        613\n",
    "nombre_recovered    16004\n",
    "Name: 328, dtype: int64"
   ]
  },
  {
   "cell_type": "markdown",
   "id": "7c6ad175",
   "metadata": {},
   "source": [
    "nombre_infected      1025\n",
    "nombre_sain          2355\n",
    "nombre_exposed        598\n",
    "nombre_recovered    16022\n",
    "Name: 329, dtype: int64"
   ]
  },
  {
   "cell_type": "markdown",
   "id": "2d00ef9e",
   "metadata": {},
   "source": [
    "nombre_infected      1043\n",
    "nombre_sain          2341\n",
    "nombre_exposed        593\n",
    "nombre_recovered    16023\n",
    "Name: 330, dtype: int64"
   ]
  },
  {
   "cell_type": "markdown",
   "id": "05250409",
   "metadata": {},
   "source": [
    "nombre_infected      1035\n",
    "nombre_sain          2294\n",
    "nombre_exposed        611\n",
    "nombre_recovered    16060\n",
    "Name: 331, dtype: int64"
   ]
  },
  {
   "cell_type": "markdown",
   "id": "2c1d6674",
   "metadata": {},
   "source": [
    "nombre_infected      1050\n",
    "nombre_sain          2251\n",
    "nombre_exposed        635\n",
    "nombre_recovered    16064\n",
    "Name: 332, dtype: int64"
   ]
  },
  {
   "cell_type": "markdown",
   "id": "29206562",
   "metadata": {},
   "source": [
    "nombre_infected      1064\n",
    "nombre_sain          2249\n",
    "nombre_exposed        627\n",
    "nombre_recovered    16060\n",
    "Name: 333, dtype: int64"
   ]
  },
  {
   "cell_type": "markdown",
   "id": "46a64886",
   "metadata": {},
   "source": [
    "nombre_infected      1102\n",
    "nombre_sain          2215\n",
    "nombre_exposed        611\n",
    "nombre_recovered    16072\n",
    "Name: 334, dtype: int64"
   ]
  },
  {
   "cell_type": "markdown",
   "id": "9e23d5d4",
   "metadata": {},
   "source": [
    "nombre_infected      1098\n",
    "nombre_sain          2157\n",
    "nombre_exposed        624\n",
    "nombre_recovered    16121\n",
    "Name: 335, dtype: int64"
   ]
  },
  {
   "cell_type": "markdown",
   "id": "26f54fc3",
   "metadata": {},
   "source": [
    "nombre_infected      1107\n",
    "nombre_sain          2144\n",
    "nombre_exposed        618\n",
    "nombre_recovered    16131\n",
    "Name: 336, dtype: int64"
   ]
  },
  {
   "cell_type": "markdown",
   "id": "3b63abb8",
   "metadata": {},
   "source": [
    "nombre_infected      1118\n",
    "nombre_sain          2118\n",
    "nombre_exposed        613\n",
    "nombre_recovered    16151\n",
    "Name: 337, dtype: int64"
   ]
  },
  {
   "cell_type": "markdown",
   "id": "88db40c5",
   "metadata": {},
   "source": [
    "nombre_infected      1123\n",
    "nombre_sain          2114\n",
    "nombre_exposed        599\n",
    "nombre_recovered    16164\n",
    "Name: 338, dtype: int64"
   ]
  },
  {
   "cell_type": "markdown",
   "id": "ce914e2f",
   "metadata": {},
   "source": [
    "nombre_infected      1130\n",
    "nombre_sain          2091\n",
    "nombre_exposed        606\n",
    "nombre_recovered    16173\n",
    "Name: 339, dtype: int64"
   ]
  },
  {
   "cell_type": "markdown",
   "id": "a77899c8",
   "metadata": {},
   "source": [
    "nombre_infected      1127\n",
    "nombre_sain          2068\n",
    "nombre_exposed        600\n",
    "nombre_recovered    16205\n",
    "Name: 340, dtype: int64"
   ]
  },
  {
   "cell_type": "markdown",
   "id": "ccab661c",
   "metadata": {},
   "source": [
    "nombre_infected      1157\n",
    "nombre_sain          2031\n",
    "nombre_exposed        591\n",
    "nombre_recovered    16221\n",
    "Name: 341, dtype: int64"
   ]
  },
  {
   "cell_type": "markdown",
   "id": "bbf09494",
   "metadata": {},
   "source": [
    "nombre_infected      1152\n",
    "nombre_sain          1999\n",
    "nombre_exposed        593\n",
    "nombre_recovered    16256\n",
    "Name: 342, dtype: int64"
   ]
  },
  {
   "cell_type": "markdown",
   "id": "a9eab3a7",
   "metadata": {},
   "source": [
    "nombre_infected      1124\n",
    "nombre_sain          2002\n",
    "nombre_exposed        587\n",
    "nombre_recovered    16287\n",
    "Name: 343, dtype: int64"
   ]
  },
  {
   "cell_type": "markdown",
   "id": "996b2180",
   "metadata": {},
   "source": [
    "nombre_infected      1123\n",
    "nombre_sain          1976\n",
    "nombre_exposed        594\n",
    "nombre_recovered    16307\n",
    "Name: 344, dtype: int64"
   ]
  },
  {
   "cell_type": "markdown",
   "id": "dc2fb593",
   "metadata": {},
   "source": [
    "nombre_infected      1118\n",
    "nombre_sain          1949\n",
    "nombre_exposed        583\n",
    "nombre_recovered    16350\n",
    "Name: 345, dtype: int64"
   ]
  },
  {
   "cell_type": "markdown",
   "id": "f0a9d27d",
   "metadata": {},
   "source": [
    "nombre_infected      1136\n",
    "nombre_sain          1936\n",
    "nombre_exposed        545\n",
    "nombre_recovered    16383\n",
    "Name: 346, dtype: int64"
   ]
  },
  {
   "cell_type": "markdown",
   "id": "01f87ec5",
   "metadata": {},
   "source": [
    "nombre_infected      1134\n",
    "nombre_sain          1928\n",
    "nombre_exposed        527\n",
    "nombre_recovered    16411\n",
    "Name: 347, dtype: int64"
   ]
  },
  {
   "cell_type": "markdown",
   "id": "2b585b1c",
   "metadata": {},
   "source": [
    "nombre_infected      1109\n",
    "nombre_sain          1924\n",
    "nombre_exposed        541\n",
    "nombre_recovered    16426\n",
    "Name: 348, dtype: int64"
   ]
  },
  {
   "cell_type": "markdown",
   "id": "21ea8eda",
   "metadata": {},
   "source": [
    "nombre_infected      1088\n",
    "nombre_sain          1896\n",
    "nombre_exposed        553\n",
    "nombre_recovered    16463\n",
    "Name: 349, dtype: int64"
   ]
  },
  {
   "cell_type": "markdown",
   "id": "cb9f8258",
   "metadata": {},
   "source": [
    "nombre_infected      1093\n",
    "nombre_sain          1890\n",
    "nombre_exposed        530\n",
    "nombre_recovered    16487\n",
    "Name: 350, dtype: int64"
   ]
  },
  {
   "cell_type": "markdown",
   "id": "d93893d6",
   "metadata": {},
   "source": [
    "nombre_infected      1067\n",
    "nombre_sain          1909\n",
    "nombre_exposed        529\n",
    "nombre_recovered    16495\n",
    "Name: 351, dtype: int64"
   ]
  },
  {
   "cell_type": "markdown",
   "id": "01c8d8d4",
   "metadata": {},
   "source": [
    "nombre_infected      1071\n",
    "nombre_sain          1911\n",
    "nombre_exposed        512\n",
    "nombre_recovered    16506\n",
    "Name: 352, dtype: int64"
   ]
  },
  {
   "cell_type": "markdown",
   "id": "1db1cbdd",
   "metadata": {},
   "source": [
    "nombre_infected      1083\n",
    "nombre_sain          1962\n",
    "nombre_exposed        458\n",
    "nombre_recovered    16497\n",
    "Name: 353, dtype: int64"
   ]
  },
  {
   "cell_type": "markdown",
   "id": "01cedb65",
   "metadata": {},
   "source": [
    "nombre_infected      1071\n",
    "nombre_sain          1978\n",
    "nombre_exposed        442\n",
    "nombre_recovered    16509\n",
    "Name: 354, dtype: int64"
   ]
  },
  {
   "cell_type": "markdown",
   "id": "f2473eb7",
   "metadata": {},
   "source": [
    "nombre_infected      1048\n",
    "nombre_sain          1962\n",
    "nombre_exposed        458\n",
    "nombre_recovered    16532\n",
    "Name: 355, dtype: int64"
   ]
  },
  {
   "cell_type": "markdown",
   "id": "dff36431",
   "metadata": {},
   "source": [
    "nombre_infected      1029\n",
    "nombre_sain          1963\n",
    "nombre_exposed        457\n",
    "nombre_recovered    16551\n",
    "Name: 356, dtype: int64"
   ]
  },
  {
   "cell_type": "markdown",
   "id": "4acd0304",
   "metadata": {},
   "source": [
    "nombre_infected      1030\n",
    "nombre_sain          1964\n",
    "nombre_exposed        457\n",
    "nombre_recovered    16549\n",
    "Name: 357, dtype: int64"
   ]
  },
  {
   "cell_type": "markdown",
   "id": "5023bed1",
   "metadata": {},
   "source": [
    "nombre_infected      1005\n",
    "nombre_sain          1942\n",
    "nombre_exposed        468\n",
    "nombre_recovered    16585\n",
    "Name: 358, dtype: int64"
   ]
  },
  {
   "cell_type": "markdown",
   "id": "2063a617",
   "metadata": {},
   "source": [
    "nombre_infected      1003\n",
    "nombre_sain          1928\n",
    "nombre_exposed        476\n",
    "nombre_recovered    16593\n",
    "Name: 359, dtype: int64"
   ]
  },
  {
   "cell_type": "markdown",
   "id": "fc02afd4",
   "metadata": {},
   "source": [
    "nombre_infected       983\n",
    "nombre_sain          1910\n",
    "nombre_exposed        476\n",
    "nombre_recovered    16631\n",
    "Name: 360, dtype: int64"
   ]
  },
  {
   "cell_type": "markdown",
   "id": "76ec5b51",
   "metadata": {},
   "source": [
    "nombre_infected       978\n",
    "nombre_sain          1896\n",
    "nombre_exposed        464\n",
    "nombre_recovered    16662\n",
    "Name: 361, dtype: int64"
   ]
  },
  {
   "cell_type": "markdown",
   "id": "57a463ac",
   "metadata": {},
   "source": [
    "nombre_infected       969\n",
    "nombre_sain          1902\n",
    "nombre_exposed        464\n",
    "nombre_recovered    16665\n",
    "Name: 362, dtype: int64"
   ]
  },
  {
   "cell_type": "markdown",
   "id": "6a40e48c",
   "metadata": {},
   "source": [
    "nombre_infected       963\n",
    "nombre_sain          1924\n",
    "nombre_exposed        453\n",
    "nombre_recovered    16660\n",
    "Name: 363, dtype: int64"
   ]
  },
  {
   "cell_type": "markdown",
   "id": "0a9aa889",
   "metadata": {},
   "source": [
    "nombre_infected       963\n",
    "nombre_sain          1914\n",
    "nombre_exposed        448\n",
    "nombre_recovered    16675\n",
    "Name: 364, dtype: int64"
   ]
  },
  {
   "cell_type": "markdown",
   "id": "6b48cb2b",
   "metadata": {},
   "source": [
    "nombre_infected       941\n",
    "nombre_sain          1899\n",
    "nombre_exposed        464\n",
    "nombre_recovered    16696\n",
    "Name: 365, dtype: int64"
   ]
  },
  {
   "cell_type": "markdown",
   "id": "12911498",
   "metadata": {},
   "source": [
    "nombre_infected       905\n",
    "nombre_sain          1921\n",
    "nombre_exposed        487\n",
    "nombre_recovered    16687\n",
    "Name: 366, dtype: int64"
   ]
  },
  {
   "cell_type": "markdown",
   "id": "5540d006",
   "metadata": {},
   "source": [
    "nombre_infected       899\n",
    "nombre_sain          1935\n",
    "nombre_exposed        488\n",
    "nombre_recovered    16678\n",
    "Name: 367, dtype: int64"
   ]
  },
  {
   "cell_type": "markdown",
   "id": "8ac29539",
   "metadata": {},
   "source": [
    "nombre_infected       887\n",
    "nombre_sain          1951\n",
    "nombre_exposed        498\n",
    "nombre_recovered    16664\n",
    "Name: 368, dtype: int64"
   ]
  },
  {
   "cell_type": "markdown",
   "id": "6e1d8654",
   "metadata": {},
   "source": [
    "nombre_infected       923\n",
    "nombre_sain          1950\n",
    "nombre_exposed        478\n",
    "nombre_recovered    16649\n",
    "Name: 369, dtype: int64"
   ]
  },
  {
   "cell_type": "markdown",
   "id": "9a9b4c94",
   "metadata": {},
   "source": [
    "nombre_infected       924\n",
    "nombre_sain          1951\n",
    "nombre_exposed        481\n",
    "nombre_recovered    16644\n",
    "Name: 370, dtype: int64"
   ]
  },
  {
   "cell_type": "markdown",
   "id": "03adfd00",
   "metadata": {},
   "source": [
    "nombre_infected       927\n",
    "nombre_sain          1971\n",
    "nombre_exposed        473\n",
    "nombre_recovered    16629\n",
    "Name: 371, dtype: int64"
   ]
  },
  {
   "cell_type": "markdown",
   "id": "457713e9",
   "metadata": {},
   "source": [
    "nombre_infected       910\n",
    "nombre_sain          2000\n",
    "nombre_exposed        462\n",
    "nombre_recovered    16628\n",
    "Name: 372, dtype: int64"
   ]
  },
  {
   "cell_type": "markdown",
   "id": "2d9574e8",
   "metadata": {},
   "source": [
    "nombre_infected       899\n",
    "nombre_sain          2015\n",
    "nombre_exposed        455\n",
    "nombre_recovered    16631\n",
    "Name: 373, dtype: int64"
   ]
  },
  {
   "cell_type": "markdown",
   "id": "002f2e49",
   "metadata": {},
   "source": [
    "nombre_infected       874\n",
    "nombre_sain          2015\n",
    "nombre_exposed        475\n",
    "nombre_recovered    16636\n",
    "Name: 374, dtype: int64"
   ]
  },
  {
   "cell_type": "markdown",
   "id": "dcabd5fd",
   "metadata": {},
   "source": [
    "nombre_infected       857\n",
    "nombre_sain          2022\n",
    "nombre_exposed        476\n",
    "nombre_recovered    16645\n",
    "Name: 375, dtype: int64"
   ]
  },
  {
   "cell_type": "markdown",
   "id": "8c001076",
   "metadata": {},
   "source": [
    "nombre_infected       859\n",
    "nombre_sain          2063\n",
    "nombre_exposed        453\n",
    "nombre_recovered    16625\n",
    "Name: 376, dtype: int64"
   ]
  },
  {
   "cell_type": "markdown",
   "id": "b78538b8",
   "metadata": {},
   "source": [
    "nombre_infected       858\n",
    "nombre_sain          2067\n",
    "nombre_exposed        456\n",
    "nombre_recovered    16619\n",
    "Name: 377, dtype: int64"
   ]
  },
  {
   "cell_type": "markdown",
   "id": "8d2142d0",
   "metadata": {},
   "source": [
    "nombre_infected       852\n",
    "nombre_sain          2078\n",
    "nombre_exposed        456\n",
    "nombre_recovered    16614\n",
    "Name: 378, dtype: int64"
   ]
  },
  {
   "cell_type": "markdown",
   "id": "f08bb50f",
   "metadata": {},
   "source": [
    "nombre_infected       866\n",
    "nombre_sain          2089\n",
    "nombre_exposed        434\n",
    "nombre_recovered    16611\n",
    "Name: 379, dtype: int64"
   ]
  },
  {
   "cell_type": "markdown",
   "id": "677245b9",
   "metadata": {},
   "source": [
    "nombre_infected       840\n",
    "nombre_sain          2107\n",
    "nombre_exposed        450\n",
    "nombre_recovered    16603\n",
    "Name: 380, dtype: int64"
   ]
  },
  {
   "cell_type": "markdown",
   "id": "702ebd2c",
   "metadata": {},
   "source": [
    "nombre_infected       832\n",
    "nombre_sain          2101\n",
    "nombre_exposed        454\n",
    "nombre_recovered    16613\n",
    "Name: 381, dtype: int64"
   ]
  },
  {
   "cell_type": "markdown",
   "id": "64539b23",
   "metadata": {},
   "source": [
    "nombre_infected       826\n",
    "nombre_sain          2121\n",
    "nombre_exposed        432\n",
    "nombre_recovered    16621\n",
    "Name: 382, dtype: int64"
   ]
  },
  {
   "cell_type": "markdown",
   "id": "92d470e1",
   "metadata": {},
   "source": [
    "nombre_infected       806\n",
    "nombre_sain          2142\n",
    "nombre_exposed        441\n",
    "nombre_recovered    16611\n",
    "Name: 383, dtype: int64"
   ]
  },
  {
   "cell_type": "markdown",
   "id": "da731233",
   "metadata": {},
   "source": [
    "nombre_infected       802\n",
    "nombre_sain          2147\n",
    "nombre_exposed        460\n",
    "nombre_recovered    16591\n",
    "Name: 384, dtype: int64"
   ]
  },
  {
   "cell_type": "markdown",
   "id": "55a6f2a2",
   "metadata": {},
   "source": [
    "nombre_infected       823\n",
    "nombre_sain          2181\n",
    "nombre_exposed        431\n",
    "nombre_recovered    16565\n",
    "Name: 385, dtype: int64"
   ]
  },
  {
   "cell_type": "markdown",
   "id": "03420bb5",
   "metadata": {},
   "source": [
    "nombre_infected       824\n",
    "nombre_sain          2175\n",
    "nombre_exposed        453\n",
    "nombre_recovered    16548\n",
    "Name: 386, dtype: int64"
   ]
  },
  {
   "cell_type": "markdown",
   "id": "a1d47acd",
   "metadata": {},
   "source": [
    "nombre_infected       827\n",
    "nombre_sain          2178\n",
    "nombre_exposed        470\n",
    "nombre_recovered    16525\n",
    "Name: 387, dtype: int64"
   ]
  },
  {
   "cell_type": "markdown",
   "id": "6d177999",
   "metadata": {},
   "source": [
    "nombre_infected       837\n",
    "nombre_sain          2227\n",
    "nombre_exposed        457\n",
    "nombre_recovered    16479\n",
    "Name: 388, dtype: int64"
   ]
  },
  {
   "cell_type": "markdown",
   "id": "4e85c9a5",
   "metadata": {},
   "source": [
    "nombre_infected       852\n",
    "nombre_sain          2225\n",
    "nombre_exposed        456\n",
    "nombre_recovered    16467\n",
    "Name: 389, dtype: int64"
   ]
  },
  {
   "cell_type": "markdown",
   "id": "9a3bd2ad",
   "metadata": {},
   "source": [
    "nombre_infected       831\n",
    "nombre_sain          2224\n",
    "nombre_exposed        464\n",
    "nombre_recovered    16481\n",
    "Name: 390, dtype: int64"
   ]
  },
  {
   "cell_type": "markdown",
   "id": "a9f175b4",
   "metadata": {},
   "source": [
    "nombre_infected       828\n",
    "nombre_sain          2215\n",
    "nombre_exposed        465\n",
    "nombre_recovered    16492\n",
    "Name: 391, dtype: int64"
   ]
  },
  {
   "cell_type": "markdown",
   "id": "bb1f501e",
   "metadata": {},
   "source": [
    "nombre_infected       818\n",
    "nombre_sain          2219\n",
    "nombre_exposed        484\n",
    "nombre_recovered    16479\n",
    "Name: 392, dtype: int64"
   ]
  },
  {
   "cell_type": "markdown",
   "id": "92f42b01",
   "metadata": {},
   "source": [
    "nombre_infected       838\n",
    "nombre_sain          2211\n",
    "nombre_exposed        487\n",
    "nombre_recovered    16464\n",
    "Name: 393, dtype: int64"
   ]
  },
  {
   "cell_type": "markdown",
   "id": "0efe713f",
   "metadata": {},
   "source": [
    "nombre_infected       836\n",
    "nombre_sain          2242\n",
    "nombre_exposed        474\n",
    "nombre_recovered    16448\n",
    "Name: 394, dtype: int64"
   ]
  },
  {
   "cell_type": "markdown",
   "id": "e2c3705f",
   "metadata": {},
   "source": [
    "nombre_infected       843\n",
    "nombre_sain          2225\n",
    "nombre_exposed        474\n",
    "nombre_recovered    16458\n",
    "Name: 395, dtype: int64"
   ]
  },
  {
   "cell_type": "markdown",
   "id": "2f640633",
   "metadata": {},
   "source": [
    "nombre_infected       849\n",
    "nombre_sain          2252\n",
    "nombre_exposed        463\n",
    "nombre_recovered    16436\n",
    "Name: 396, dtype: int64"
   ]
  },
  {
   "cell_type": "markdown",
   "id": "dad25cb6",
   "metadata": {},
   "source": [
    "nombre_infected       838\n",
    "nombre_sain          2285\n",
    "nombre_exposed        458\n",
    "nombre_recovered    16419\n",
    "Name: 397, dtype: int64"
   ]
  },
  {
   "cell_type": "markdown",
   "id": "c5d892e8",
   "metadata": {},
   "source": [
    "nombre_infected       845\n",
    "nombre_sain          2287\n",
    "nombre_exposed        445\n",
    "nombre_recovered    16423\n",
    "Name: 398, dtype: int64"
   ]
  },
  {
   "cell_type": "markdown",
   "id": "c59a72e7",
   "metadata": {},
   "source": [
    "nombre_infected       843\n",
    "nombre_sain          2272\n",
    "nombre_exposed        466\n",
    "nombre_recovered    16419\n",
    "Name: 399, dtype: int64"
   ]
  },
  {
   "cell_type": "markdown",
   "id": "a2b35730",
   "metadata": {},
   "source": [
    "nombre_infected       831\n",
    "nombre_sain          2273\n",
    "nombre_exposed        510\n",
    "nombre_recovered    16386\n",
    "Name: 400, dtype: int64"
   ]
  },
  {
   "cell_type": "markdown",
   "id": "4d3854d4",
   "metadata": {},
   "source": [
    "nombre_infected       833\n",
    "nombre_sain          2263\n",
    "nombre_exposed        529\n",
    "nombre_recovered    16375\n",
    "Name: 401, dtype: int64"
   ]
  },
  {
   "cell_type": "markdown",
   "id": "a84e46a7",
   "metadata": {},
   "source": [
    "nombre_infected       868\n",
    "nombre_sain          2274\n",
    "nombre_exposed        516\n",
    "nombre_recovered    16342\n",
    "Name: 402, dtype: int64"
   ]
  },
  {
   "cell_type": "markdown",
   "id": "acf44cd9",
   "metadata": {},
   "source": [
    "nombre_infected       869\n",
    "nombre_sain          2281\n",
    "nombre_exposed        512\n",
    "nombre_recovered    16338\n",
    "Name: 403, dtype: int64"
   ]
  },
  {
   "cell_type": "markdown",
   "id": "fccc938b",
   "metadata": {},
   "source": [
    "nombre_infected       866\n",
    "nombre_sain          2301\n",
    "nombre_exposed        516\n",
    "nombre_recovered    16317\n",
    "Name: 404, dtype: int64"
   ]
  },
  {
   "cell_type": "markdown",
   "id": "8ec35989",
   "metadata": {},
   "source": [
    "nombre_infected       894\n",
    "nombre_sain          2311\n",
    "nombre_exposed        507\n",
    "nombre_recovered    16288\n",
    "Name: 405, dtype: int64"
   ]
  },
  {
   "cell_type": "markdown",
   "id": "2e54a36f",
   "metadata": {},
   "source": [
    "nombre_infected       901\n",
    "nombre_sain          2313\n",
    "nombre_exposed        510\n",
    "nombre_recovered    16276\n",
    "Name: 406, dtype: int64"
   ]
  },
  {
   "cell_type": "markdown",
   "id": "b5b93301",
   "metadata": {},
   "source": [
    "nombre_infected       890\n",
    "nombre_sain          2309\n",
    "nombre_exposed        532\n",
    "nombre_recovered    16269\n",
    "Name: 407, dtype: int64"
   ]
  },
  {
   "cell_type": "markdown",
   "id": "c65e6f24",
   "metadata": {},
   "source": [
    "nombre_infected       897\n",
    "nombre_sain          2297\n",
    "nombre_exposed        542\n",
    "nombre_recovered    16264\n",
    "Name: 408, dtype: int64"
   ]
  },
  {
   "cell_type": "markdown",
   "id": "540dc2c7",
   "metadata": {},
   "source": [
    "nombre_infected       906\n",
    "nombre_sain          2316\n",
    "nombre_exposed        529\n",
    "nombre_recovered    16249\n",
    "Name: 409, dtype: int64"
   ]
  },
  {
   "cell_type": "markdown",
   "id": "c9facac9",
   "metadata": {},
   "source": [
    "nombre_infected       919\n",
    "nombre_sain          2312\n",
    "nombre_exposed        542\n",
    "nombre_recovered    16227\n",
    "Name: 410, dtype: int64"
   ]
  },
  {
   "cell_type": "markdown",
   "id": "0f349d80",
   "metadata": {},
   "source": [
    "nombre_infected       918\n",
    "nombre_sain          2302\n",
    "nombre_exposed        570\n",
    "nombre_recovered    16210\n",
    "Name: 411, dtype: int64"
   ]
  },
  {
   "cell_type": "markdown",
   "id": "1f494ebd",
   "metadata": {},
   "source": [
    "nombre_infected       949\n",
    "nombre_sain          2298\n",
    "nombre_exposed        553\n",
    "nombre_recovered    16200\n",
    "Name: 412, dtype: int64"
   ]
  },
  {
   "cell_type": "markdown",
   "id": "f530a3b1",
   "metadata": {},
   "source": [
    "nombre_infected       988\n",
    "nombre_sain          2309\n",
    "nombre_exposed        537\n",
    "nombre_recovered    16166\n",
    "Name: 413, dtype: int64"
   ]
  },
  {
   "cell_type": "markdown",
   "id": "b3cbce4a",
   "metadata": {},
   "source": [
    "nombre_infected      1007\n",
    "nombre_sain          2262\n",
    "nombre_exposed        570\n",
    "nombre_recovered    16161\n",
    "Name: 414, dtype: int64"
   ]
  },
  {
   "cell_type": "markdown",
   "id": "cf023b04",
   "metadata": {},
   "source": [
    "nombre_infected      1021\n",
    "nombre_sain          2227\n",
    "nombre_exposed        581\n",
    "nombre_recovered    16171\n",
    "Name: 415, dtype: int64"
   ]
  },
  {
   "cell_type": "markdown",
   "id": "8f45c885",
   "metadata": {},
   "source": [
    "nombre_infected      1036\n",
    "nombre_sain          2229\n",
    "nombre_exposed        573\n",
    "nombre_recovered    16162\n",
    "Name: 416, dtype: int64"
   ]
  },
  {
   "cell_type": "markdown",
   "id": "da75d8bb",
   "metadata": {},
   "source": [
    "nombre_infected      1040\n",
    "nombre_sain          2224\n",
    "nombre_exposed        566\n",
    "nombre_recovered    16170\n",
    "Name: 417, dtype: int64"
   ]
  },
  {
   "cell_type": "markdown",
   "id": "870ebbde",
   "metadata": {},
   "source": [
    "nombre_infected      1058\n",
    "nombre_sain          2217\n",
    "nombre_exposed        548\n",
    "nombre_recovered    16177\n",
    "Name: 418, dtype: int64"
   ]
  },
  {
   "cell_type": "markdown",
   "id": "0deef410",
   "metadata": {},
   "source": [
    "nombre_infected      1043\n",
    "nombre_sain          2187\n",
    "nombre_exposed        572\n",
    "nombre_recovered    16198\n",
    "Name: 419, dtype: int64"
   ]
  },
  {
   "cell_type": "markdown",
   "id": "726c54d0",
   "metadata": {},
   "source": [
    "nombre_infected      1046\n",
    "nombre_sain          2179\n",
    "nombre_exposed        583\n",
    "nombre_recovered    16192\n",
    "Name: 420, dtype: int64"
   ]
  },
  {
   "cell_type": "markdown",
   "id": "f07f43d5",
   "metadata": {},
   "source": [
    "nombre_infected      1063\n",
    "nombre_sain          2158\n",
    "nombre_exposed        587\n",
    "nombre_recovered    16192\n",
    "Name: 421, dtype: int64"
   ]
  },
  {
   "cell_type": "markdown",
   "id": "4cf8a67a",
   "metadata": {},
   "source": [
    "nombre_infected      1088\n",
    "nombre_sain          2146\n",
    "nombre_exposed        564\n",
    "nombre_recovered    16202\n",
    "Name: 422, dtype: int64"
   ]
  },
  {
   "cell_type": "markdown",
   "id": "255b026a",
   "metadata": {},
   "source": [
    "nombre_infected      1103\n",
    "nombre_sain          2111\n",
    "nombre_exposed        567\n",
    "nombre_recovered    16219\n",
    "Name: 423, dtype: int64"
   ]
  },
  {
   "cell_type": "markdown",
   "id": "47717a97",
   "metadata": {},
   "source": [
    "nombre_infected      1079\n",
    "nombre_sain          2094\n",
    "nombre_exposed        579\n",
    "nombre_recovered    16248\n",
    "Name: 424, dtype: int64"
   ]
  },
  {
   "cell_type": "markdown",
   "id": "40b11de6",
   "metadata": {},
   "source": [
    "nombre_infected      1073\n",
    "nombre_sain          2078\n",
    "nombre_exposed        564\n",
    "nombre_recovered    16285\n",
    "Name: 425, dtype: int64"
   ]
  },
  {
   "cell_type": "markdown",
   "id": "f013c273",
   "metadata": {},
   "source": [
    "nombre_infected      1068\n",
    "nombre_sain          2087\n",
    "nombre_exposed        574\n",
    "nombre_recovered    16271\n",
    "Name: 426, dtype: int64"
   ]
  },
  {
   "cell_type": "markdown",
   "id": "ef241aae",
   "metadata": {},
   "source": [
    "nombre_infected      1082\n",
    "nombre_sain          2051\n",
    "nombre_exposed        582\n",
    "nombre_recovered    16285\n",
    "Name: 427, dtype: int64"
   ]
  },
  {
   "cell_type": "markdown",
   "id": "2b5f957f",
   "metadata": {},
   "source": [
    "nombre_infected      1093\n",
    "nombre_sain          2049\n",
    "nombre_exposed        599\n",
    "nombre_recovered    16259\n",
    "Name: 428, dtype: int64"
   ]
  },
  {
   "cell_type": "markdown",
   "id": "20a0c1e9",
   "metadata": {},
   "source": [
    "nombre_infected      1072\n",
    "nombre_sain          2060\n",
    "nombre_exposed        579\n",
    "nombre_recovered    16289\n",
    "Name: 429, dtype: int64"
   ]
  },
  {
   "cell_type": "markdown",
   "id": "f157216d",
   "metadata": {},
   "source": [
    "nombre_infected      1105\n",
    "nombre_sain          2045\n",
    "nombre_exposed        553\n",
    "nombre_recovered    16297\n",
    "Name: 430, dtype: int64"
   ]
  },
  {
   "cell_type": "markdown",
   "id": "766978b2",
   "metadata": {},
   "source": [
    "nombre_infected      1099\n",
    "nombre_sain          2025\n",
    "nombre_exposed        561\n",
    "nombre_recovered    16315\n",
    "Name: 431, dtype: int64"
   ]
  },
  {
   "cell_type": "markdown",
   "id": "3cd13440",
   "metadata": {},
   "source": [
    "nombre_infected      1104\n",
    "nombre_sain          2032\n",
    "nombre_exposed        564\n",
    "nombre_recovered    16300\n",
    "Name: 432, dtype: int64"
   ]
  },
  {
   "cell_type": "markdown",
   "id": "f3345a1d",
   "metadata": {},
   "source": [
    "nombre_infected      1098\n",
    "nombre_sain          1986\n",
    "nombre_exposed        582\n",
    "nombre_recovered    16334\n",
    "Name: 433, dtype: int64"
   ]
  },
  {
   "cell_type": "markdown",
   "id": "f1ddbd58",
   "metadata": {},
   "source": [
    "nombre_infected      1081\n",
    "nombre_sain          1984\n",
    "nombre_exposed        603\n",
    "nombre_recovered    16332\n",
    "Name: 434, dtype: int64"
   ]
  },
  {
   "cell_type": "markdown",
   "id": "43027684",
   "metadata": {},
   "source": [
    "nombre_infected      1085\n",
    "nombre_sain          1994\n",
    "nombre_exposed        591\n",
    "nombre_recovered    16330\n",
    "Name: 435, dtype: int64"
   ]
  },
  {
   "cell_type": "markdown",
   "id": "3997ef66",
   "metadata": {},
   "source": [
    "nombre_infected      1091\n",
    "nombre_sain          1967\n",
    "nombre_exposed        589\n",
    "nombre_recovered    16353\n",
    "Name: 436, dtype: int64"
   ]
  },
  {
   "cell_type": "markdown",
   "id": "6c525993",
   "metadata": {},
   "source": [
    "nombre_infected      1098\n",
    "nombre_sain          1953\n",
    "nombre_exposed        589\n",
    "nombre_recovered    16360\n",
    "Name: 437, dtype: int64"
   ]
  },
  {
   "cell_type": "markdown",
   "id": "a1cfb732",
   "metadata": {},
   "source": [
    "nombre_infected      1107\n",
    "nombre_sain          1958\n",
    "nombre_exposed        569\n",
    "nombre_recovered    16366\n",
    "Name: 438, dtype: int64"
   ]
  },
  {
   "cell_type": "markdown",
   "id": "31e6eea1",
   "metadata": {},
   "source": [
    "nombre_infected      1122\n",
    "nombre_sain          1964\n",
    "nombre_exposed        526\n",
    "nombre_recovered    16388\n",
    "Name: 439, dtype: int64"
   ]
  },
  {
   "cell_type": "markdown",
   "id": "e595a5d6",
   "metadata": {},
   "source": [
    "nombre_infected      1070\n",
    "nombre_sain          1969\n",
    "nombre_exposed        546\n",
    "nombre_recovered    16415\n",
    "Name: 440, dtype: int64"
   ]
  },
  {
   "cell_type": "markdown",
   "id": "34092aad",
   "metadata": {},
   "source": [
    "nombre_infected      1037\n",
    "nombre_sain          1959\n",
    "nombre_exposed        546\n",
    "nombre_recovered    16458\n",
    "Name: 441, dtype: int64"
   ]
  },
  {
   "cell_type": "markdown",
   "id": "afc81d69",
   "metadata": {},
   "source": [
    "nombre_infected      1029\n",
    "nombre_sain          1956\n",
    "nombre_exposed        546\n",
    "nombre_recovered    16469\n",
    "Name: 442, dtype: int64"
   ]
  },
  {
   "cell_type": "markdown",
   "id": "7fd5efc3",
   "metadata": {},
   "source": [
    "nombre_infected      1030\n",
    "nombre_sain          1976\n",
    "nombre_exposed        539\n",
    "nombre_recovered    16455\n",
    "Name: 443, dtype: int64"
   ]
  },
  {
   "cell_type": "markdown",
   "id": "c8a39b07",
   "metadata": {},
   "source": [
    "nombre_infected      1030\n",
    "nombre_sain          1966\n",
    "nombre_exposed        510\n",
    "nombre_recovered    16494\n",
    "Name: 444, dtype: int64"
   ]
  },
  {
   "cell_type": "markdown",
   "id": "8e85bbd8",
   "metadata": {},
   "source": [
    "nombre_infected      1035\n",
    "nombre_sain          1955\n",
    "nombre_exposed        506\n",
    "nombre_recovered    16504\n",
    "Name: 445, dtype: int64"
   ]
  },
  {
   "cell_type": "markdown",
   "id": "08e6988a",
   "metadata": {},
   "source": [
    "nombre_infected      1037\n",
    "nombre_sain          1937\n",
    "nombre_exposed        519\n",
    "nombre_recovered    16507\n",
    "Name: 446, dtype: int64"
   ]
  },
  {
   "cell_type": "markdown",
   "id": "61a4fcd9",
   "metadata": {},
   "source": [
    "nombre_infected      1043\n",
    "nombre_sain          1906\n",
    "nombre_exposed        520\n",
    "nombre_recovered    16531\n",
    "Name: 447, dtype: int64"
   ]
  },
  {
   "cell_type": "markdown",
   "id": "938118f5",
   "metadata": {},
   "source": [
    "nombre_infected      1034\n",
    "nombre_sain          1901\n",
    "nombre_exposed        514\n",
    "nombre_recovered    16551\n",
    "Name: 448, dtype: int64"
   ]
  },
  {
   "cell_type": "markdown",
   "id": "8bc6b9c7",
   "metadata": {},
   "source": [
    "nombre_infected      1042\n",
    "nombre_sain          1902\n",
    "nombre_exposed        510\n",
    "nombre_recovered    16546\n",
    "Name: 449, dtype: int64"
   ]
  },
  {
   "cell_type": "markdown",
   "id": "f1e0125d",
   "metadata": {},
   "source": [
    "nombre_infected      1038\n",
    "nombre_sain          1881\n",
    "nombre_exposed        502\n",
    "nombre_recovered    16579\n",
    "Name: 450, dtype: int64"
   ]
  },
  {
   "cell_type": "markdown",
   "id": "cabfe33e",
   "metadata": {},
   "source": [
    "nombre_infected      1046\n",
    "nombre_sain          1894\n",
    "nombre_exposed        499\n",
    "nombre_recovered    16561\n",
    "Name: 451, dtype: int64"
   ]
  },
  {
   "cell_type": "markdown",
   "id": "d8ba5c3f",
   "metadata": {},
   "source": [
    "nombre_infected      1015\n",
    "nombre_sain          1877\n",
    "nombre_exposed        502\n",
    "nombre_recovered    16606\n",
    "Name: 452, dtype: int64"
   ]
  },
  {
   "cell_type": "markdown",
   "id": "5efb1577",
   "metadata": {},
   "source": [
    "nombre_infected      1007\n",
    "nombre_sain          1882\n",
    "nombre_exposed        489\n",
    "nombre_recovered    16622\n",
    "Name: 453, dtype: int64"
   ]
  },
  {
   "cell_type": "markdown",
   "id": "477686f4",
   "metadata": {},
   "source": [
    "nombre_infected       983\n",
    "nombre_sain          1896\n",
    "nombre_exposed        493\n",
    "nombre_recovered    16628\n",
    "Name: 454, dtype: int64"
   ]
  },
  {
   "cell_type": "markdown",
   "id": "5309796c",
   "metadata": {},
   "source": [
    "nombre_infected       985\n",
    "nombre_sain          1917\n",
    "nombre_exposed        473\n",
    "nombre_recovered    16625\n",
    "Name: 455, dtype: int64"
   ]
  },
  {
   "cell_type": "markdown",
   "id": "1f63dc2f",
   "metadata": {},
   "source": [
    "nombre_infected      1001\n",
    "nombre_sain          1933\n",
    "nombre_exposed        438\n",
    "nombre_recovered    16628\n",
    "Name: 456, dtype: int64"
   ]
  },
  {
   "cell_type": "markdown",
   "id": "26517ce2",
   "metadata": {},
   "source": [
    "nombre_infected       967\n",
    "nombre_sain          1929\n",
    "nombre_exposed        470\n",
    "nombre_recovered    16634\n",
    "Name: 457, dtype: int64"
   ]
  },
  {
   "cell_type": "markdown",
   "id": "449d9555",
   "metadata": {},
   "source": [
    "nombre_infected       955\n",
    "nombre_sain          1912\n",
    "nombre_exposed        466\n",
    "nombre_recovered    16667\n",
    "Name: 458, dtype: int64"
   ]
  },
  {
   "cell_type": "markdown",
   "id": "2d03feef",
   "metadata": {},
   "source": [
    "nombre_infected       946\n",
    "nombre_sain          1913\n",
    "nombre_exposed        469\n",
    "nombre_recovered    16672\n",
    "Name: 459, dtype: int64"
   ]
  },
  {
   "cell_type": "markdown",
   "id": "896d3bde",
   "metadata": {},
   "source": [
    "nombre_infected       949\n",
    "nombre_sain          1922\n",
    "nombre_exposed        443\n",
    "nombre_recovered    16686\n",
    "Name: 460, dtype: int64"
   ]
  },
  {
   "cell_type": "markdown",
   "id": "3480ec2a",
   "metadata": {},
   "source": [
    "nombre_infected       959\n",
    "nombre_sain          1905\n",
    "nombre_exposed        466\n",
    "nombre_recovered    16670\n",
    "Name: 461, dtype: int64"
   ]
  },
  {
   "cell_type": "markdown",
   "id": "ffeb2432",
   "metadata": {},
   "source": [
    "nombre_infected       959\n",
    "nombre_sain          1920\n",
    "nombre_exposed        470\n",
    "nombre_recovered    16651\n",
    "Name: 462, dtype: int64"
   ]
  },
  {
   "cell_type": "markdown",
   "id": "87f2901b",
   "metadata": {},
   "source": [
    "nombre_infected       963\n",
    "nombre_sain          1926\n",
    "nombre_exposed        458\n",
    "nombre_recovered    16653\n",
    "Name: 463, dtype: int64"
   ]
  },
  {
   "cell_type": "markdown",
   "id": "c5ccb9fe",
   "metadata": {},
   "source": [
    "nombre_infected       966\n",
    "nombre_sain          1924\n",
    "nombre_exposed        467\n",
    "nombre_recovered    16643\n",
    "Name: 464, dtype: int64"
   ]
  },
  {
   "cell_type": "markdown",
   "id": "e3c8c235",
   "metadata": {},
   "source": [
    "nombre_infected       942\n",
    "nombre_sain          1940\n",
    "nombre_exposed        480\n",
    "nombre_recovered    16638\n",
    "Name: 465, dtype: int64"
   ]
  },
  {
   "cell_type": "markdown",
   "id": "a603ae75",
   "metadata": {},
   "source": [
    "nombre_infected       954\n",
    "nombre_sain          1961\n",
    "nombre_exposed        472\n",
    "nombre_recovered    16613\n",
    "Name: 466, dtype: int64"
   ]
  },
  {
   "cell_type": "markdown",
   "id": "5998a3a7",
   "metadata": {},
   "source": [
    "nombre_infected       965\n",
    "nombre_sain          1979\n",
    "nombre_exposed        458\n",
    "nombre_recovered    16598\n",
    "Name: 467, dtype: int64"
   ]
  },
  {
   "cell_type": "markdown",
   "id": "8697e835",
   "metadata": {},
   "source": [
    "nombre_infected       953\n",
    "nombre_sain          2017\n",
    "nombre_exposed        468\n",
    "nombre_recovered    16562\n",
    "Name: 468, dtype: int64"
   ]
  },
  {
   "cell_type": "markdown",
   "id": "ce051d47",
   "metadata": {},
   "source": [
    "nombre_infected       958\n",
    "nombre_sain          2043\n",
    "nombre_exposed        473\n",
    "nombre_recovered    16526\n",
    "Name: 469, dtype: int64"
   ]
  },
  {
   "cell_type": "markdown",
   "id": "535da8fb",
   "metadata": {},
   "source": [
    "nombre_infected       953\n",
    "nombre_sain          2085\n",
    "nombre_exposed        450\n",
    "nombre_recovered    16512\n",
    "Name: 470, dtype: int64"
   ]
  },
  {
   "cell_type": "markdown",
   "id": "9387161d",
   "metadata": {},
   "source": [
    "nombre_infected       954\n",
    "nombre_sain          2097\n",
    "nombre_exposed        442\n",
    "nombre_recovered    16507\n",
    "Name: 471, dtype: int64"
   ]
  },
  {
   "cell_type": "markdown",
   "id": "07ab6b53",
   "metadata": {},
   "source": [
    "nombre_infected       930\n",
    "nombre_sain          2114\n",
    "nombre_exposed        444\n",
    "nombre_recovered    16512\n",
    "Name: 472, dtype: int64"
   ]
  },
  {
   "cell_type": "markdown",
   "id": "39d3f7cf",
   "metadata": {},
   "source": [
    "nombre_infected       926\n",
    "nombre_sain          2121\n",
    "nombre_exposed        443\n",
    "nombre_recovered    16510\n",
    "Name: 473, dtype: int64"
   ]
  },
  {
   "cell_type": "markdown",
   "id": "6bcd785b",
   "metadata": {},
   "source": [
    "nombre_infected       928\n",
    "nombre_sain          2148\n",
    "nombre_exposed        439\n",
    "nombre_recovered    16485\n",
    "Name: 474, dtype: int64"
   ]
  },
  {
   "cell_type": "markdown",
   "id": "04ceb569",
   "metadata": {},
   "source": [
    "nombre_infected       919\n",
    "nombre_sain          2163\n",
    "nombre_exposed        440\n",
    "nombre_recovered    16478\n",
    "Name: 475, dtype: int64"
   ]
  },
  {
   "cell_type": "markdown",
   "id": "64497ddf",
   "metadata": {},
   "source": [
    "nombre_infected       906\n",
    "nombre_sain          2141\n",
    "nombre_exposed        469\n",
    "nombre_recovered    16484\n",
    "Name: 476, dtype: int64"
   ]
  },
  {
   "cell_type": "markdown",
   "id": "c188e93e",
   "metadata": {},
   "source": [
    "nombre_infected       892\n",
    "nombre_sain          2153\n",
    "nombre_exposed        475\n",
    "nombre_recovered    16480\n",
    "Name: 477, dtype: int64"
   ]
  },
  {
   "cell_type": "markdown",
   "id": "d57dba7d",
   "metadata": {},
   "source": [
    "nombre_infected       899\n",
    "nombre_sain          2177\n",
    "nombre_exposed        468\n",
    "nombre_recovered    16456\n",
    "Name: 478, dtype: int64"
   ]
  },
  {
   "cell_type": "markdown",
   "id": "99b4689b",
   "metadata": {},
   "source": [
    "nombre_infected       906\n",
    "nombre_sain          2203\n",
    "nombre_exposed        460\n",
    "nombre_recovered    16431\n",
    "Name: 479, dtype: int64"
   ]
  },
  {
   "cell_type": "markdown",
   "id": "bd8d2202",
   "metadata": {},
   "source": [
    "nombre_infected       904\n",
    "nombre_sain          2211\n",
    "nombre_exposed        469\n",
    "nombre_recovered    16416\n",
    "Name: 480, dtype: int64"
   ]
  },
  {
   "cell_type": "markdown",
   "id": "caa60b12",
   "metadata": {},
   "source": [
    "nombre_infected       904\n",
    "nombre_sain          2208\n",
    "nombre_exposed        480\n",
    "nombre_recovered    16408\n",
    "Name: 481, dtype: int64"
   ]
  },
  {
   "cell_type": "markdown",
   "id": "9f8d5f12",
   "metadata": {},
   "source": [
    "nombre_infected       900\n",
    "nombre_sain          2224\n",
    "nombre_exposed        468\n",
    "nombre_recovered    16408\n",
    "Name: 482, dtype: int64"
   ]
  },
  {
   "cell_type": "markdown",
   "id": "26d2d5ff",
   "metadata": {},
   "source": [
    "nombre_infected       905\n",
    "nombre_sain          2237\n",
    "nombre_exposed        464\n",
    "nombre_recovered    16394\n",
    "Name: 483, dtype: int64"
   ]
  },
  {
   "cell_type": "markdown",
   "id": "c4d9406e",
   "metadata": {},
   "source": [
    "nombre_infected       916\n",
    "nombre_sain          2252\n",
    "nombre_exposed        459\n",
    "nombre_recovered    16373\n",
    "Name: 484, dtype: int64"
   ]
  },
  {
   "cell_type": "markdown",
   "id": "203748cf",
   "metadata": {},
   "source": [
    "nombre_infected       903\n",
    "nombre_sain          2254\n",
    "nombre_exposed        476\n",
    "nombre_recovered    16367\n",
    "Name: 485, dtype: int64"
   ]
  },
  {
   "cell_type": "markdown",
   "id": "51d0ae3e",
   "metadata": {},
   "source": [
    "nombre_infected       920\n",
    "nombre_sain          2256\n",
    "nombre_exposed        481\n",
    "nombre_recovered    16343\n",
    "Name: 486, dtype: int64"
   ]
  },
  {
   "cell_type": "markdown",
   "id": "fc27503f",
   "metadata": {},
   "source": [
    "nombre_infected       925\n",
    "nombre_sain          2270\n",
    "nombre_exposed        492\n",
    "nombre_recovered    16313\n",
    "Name: 487, dtype: int64"
   ]
  },
  {
   "cell_type": "markdown",
   "id": "f6c7946b",
   "metadata": {},
   "source": [
    "nombre_infected       951\n",
    "nombre_sain          2280\n",
    "nombre_exposed        476\n",
    "nombre_recovered    16293\n",
    "Name: 488, dtype: int64"
   ]
  },
  {
   "cell_type": "markdown",
   "id": "813f91c5",
   "metadata": {},
   "source": [
    "nombre_infected       952\n",
    "nombre_sain          2250\n",
    "nombre_exposed        507\n",
    "nombre_recovered    16291\n",
    "Name: 489, dtype: int64"
   ]
  },
  {
   "cell_type": "markdown",
   "id": "f9c9e7d4",
   "metadata": {},
   "source": [
    "nombre_infected       940\n",
    "nombre_sain          2248\n",
    "nombre_exposed        544\n",
    "nombre_recovered    16268\n",
    "Name: 490, dtype: int64"
   ]
  },
  {
   "cell_type": "markdown",
   "id": "58bffe24",
   "metadata": {},
   "source": [
    "nombre_infected       946\n",
    "nombre_sain          2266\n",
    "nombre_exposed        535\n",
    "nombre_recovered    16253\n",
    "Name: 491, dtype: int64"
   ]
  },
  {
   "cell_type": "markdown",
   "id": "284ab1ea",
   "metadata": {},
   "source": [
    "nombre_infected       947\n",
    "nombre_sain          2291\n",
    "nombre_exposed        506\n",
    "nombre_recovered    16256\n",
    "Name: 492, dtype: int64"
   ]
  },
  {
   "cell_type": "markdown",
   "id": "158f61bd",
   "metadata": {},
   "source": [
    "nombre_infected       958\n",
    "nombre_sain          2334\n",
    "nombre_exposed        499\n",
    "nombre_recovered    16209\n",
    "Name: 493, dtype: int64"
   ]
  },
  {
   "cell_type": "markdown",
   "id": "7e8b62fa",
   "metadata": {},
   "source": [
    "nombre_infected       951\n",
    "nombre_sain          2315\n",
    "nombre_exposed        526\n",
    "nombre_recovered    16208\n",
    "Name: 494, dtype: int64"
   ]
  },
  {
   "cell_type": "markdown",
   "id": "3ed3d1f6",
   "metadata": {},
   "source": [
    "nombre_infected       955\n",
    "nombre_sain          2316\n",
    "nombre_exposed        529\n",
    "nombre_recovered    16200\n",
    "Name: 495, dtype: int64"
   ]
  },
  {
   "cell_type": "markdown",
   "id": "a962218f",
   "metadata": {},
   "source": [
    "nombre_infected       964\n",
    "nombre_sain          2293\n",
    "nombre_exposed        543\n",
    "nombre_recovered    16200\n",
    "Name: 496, dtype: int64"
   ]
  },
  {
   "cell_type": "markdown",
   "id": "cc808bda",
   "metadata": {},
   "source": [
    "nombre_infected       992\n",
    "nombre_sain          2279\n",
    "nombre_exposed        553\n",
    "nombre_recovered    16176\n",
    "Name: 497, dtype: int64"
   ]
  },
  {
   "cell_type": "markdown",
   "id": "648124ca",
   "metadata": {},
   "source": [
    "nombre_infected       990\n",
    "nombre_sain          2262\n",
    "nombre_exposed        555\n",
    "nombre_recovered    16193\n",
    "Name: 498, dtype: int64"
   ]
  },
  {
   "cell_type": "markdown",
   "id": "befd71c1",
   "metadata": {},
   "source": [
    "nombre_infected      1015\n",
    "nombre_sain          2231\n",
    "nombre_exposed        568\n",
    "nombre_recovered    16186\n",
    "Name: 499, dtype: int64"
   ]
  },
  {
   "cell_type": "markdown",
   "id": "c29fe8a6",
   "metadata": {},
   "source": [
    "nombre_infected      1033\n",
    "nombre_sain          2185\n",
    "nombre_exposed        576\n",
    "nombre_recovered    16206\n",
    "Name: 500, dtype: int64"
   ]
  },
  {
   "cell_type": "markdown",
   "id": "247b1c10",
   "metadata": {},
   "source": [
    "nombre_infected      1059\n",
    "nombre_sain          2161\n",
    "nombre_exposed        577\n",
    "nombre_recovered    16203\n",
    "Name: 501, dtype: int64"
   ]
  },
  {
   "cell_type": "markdown",
   "id": "3868770a",
   "metadata": {},
   "source": [
    "nombre_infected      1061\n",
    "nombre_sain          2140\n",
    "nombre_exposed        591\n",
    "nombre_recovered    16208\n",
    "Name: 502, dtype: int64"
   ]
  },
  {
   "cell_type": "markdown",
   "id": "625ac8e3",
   "metadata": {},
   "source": [
    "nombre_infected      1055\n",
    "nombre_sain          2090\n",
    "nombre_exposed        610\n",
    "nombre_recovered    16245\n",
    "Name: 503, dtype: int64"
   ]
  },
  {
   "cell_type": "markdown",
   "id": "14d1bf40",
   "metadata": {},
   "source": [
    "nombre_infected      1081\n",
    "nombre_sain          2074\n",
    "nombre_exposed        602\n",
    "nombre_recovered    16243\n",
    "Name: 504, dtype: int64"
   ]
  },
  {
   "cell_type": "markdown",
   "id": "5cb40cbd",
   "metadata": {},
   "source": [
    "nombre_infected      1094\n",
    "nombre_sain          2049\n",
    "nombre_exposed        582\n",
    "nombre_recovered    16275\n",
    "Name: 505, dtype: int64"
   ]
  },
  {
   "cell_type": "markdown",
   "id": "fc1c355a",
   "metadata": {},
   "source": [
    "nombre_infected      1101\n",
    "nombre_sain          2022\n",
    "nombre_exposed        604\n",
    "nombre_recovered    16273\n",
    "Name: 506, dtype: int64"
   ]
  },
  {
   "cell_type": "markdown",
   "id": "84afb151",
   "metadata": {},
   "source": [
    "nombre_infected      1109\n",
    "nombre_sain          1988\n",
    "nombre_exposed        599\n",
    "nombre_recovered    16304\n",
    "Name: 507, dtype: int64"
   ]
  },
  {
   "cell_type": "markdown",
   "id": "54c0849b",
   "metadata": {},
   "source": [
    "nombre_infected      1112\n",
    "nombre_sain          1966\n",
    "nombre_exposed        581\n",
    "nombre_recovered    16341\n",
    "Name: 508, dtype: int64"
   ]
  },
  {
   "cell_type": "markdown",
   "id": "ba32e73d",
   "metadata": {},
   "source": [
    "nombre_infected      1150\n",
    "nombre_sain          1935\n",
    "nombre_exposed        553\n",
    "nombre_recovered    16362\n",
    "Name: 509, dtype: int64"
   ]
  },
  {
   "cell_type": "markdown",
   "id": "5ebd0c8e",
   "metadata": {},
   "source": [
    "nombre_infected      1141\n",
    "nombre_sain          1896\n",
    "nombre_exposed        572\n",
    "nombre_recovered    16391\n",
    "Name: 510, dtype: int64"
   ]
  },
  {
   "cell_type": "markdown",
   "id": "173d2ad9",
   "metadata": {},
   "source": [
    "nombre_infected      1155\n",
    "nombre_sain          1886\n",
    "nombre_exposed        548\n",
    "nombre_recovered    16411\n",
    "Name: 511, dtype: int64"
   ]
  },
  {
   "cell_type": "markdown",
   "id": "33dbf983",
   "metadata": {},
   "source": [
    "nombre_infected      1152\n",
    "nombre_sain          1887\n",
    "nombre_exposed        523\n",
    "nombre_recovered    16438\n",
    "Name: 512, dtype: int64"
   ]
  },
  {
   "cell_type": "markdown",
   "id": "fd1d1cfe",
   "metadata": {},
   "source": [
    "nombre_infected      1132\n",
    "nombre_sain          1887\n",
    "nombre_exposed        518\n",
    "nombre_recovered    16463\n",
    "Name: 513, dtype: int64"
   ]
  },
  {
   "cell_type": "markdown",
   "id": "be9e0eab",
   "metadata": {},
   "source": [
    "nombre_infected      1114\n",
    "nombre_sain          1861\n",
    "nombre_exposed        538\n",
    "nombre_recovered    16487\n",
    "Name: 514, dtype: int64"
   ]
  },
  {
   "cell_type": "markdown",
   "id": "e8010af9",
   "metadata": {},
   "source": [
    "nombre_infected      1115\n",
    "nombre_sain          1808\n",
    "nombre_exposed        563\n",
    "nombre_recovered    16514\n",
    "Name: 515, dtype: int64"
   ]
  },
  {
   "cell_type": "markdown",
   "id": "12614eee",
   "metadata": {},
   "source": [
    "nombre_infected      1100\n",
    "nombre_sain          1821\n",
    "nombre_exposed        548\n",
    "nombre_recovered    16531\n",
    "Name: 516, dtype: int64"
   ]
  },
  {
   "cell_type": "markdown",
   "id": "fb67fa5a",
   "metadata": {},
   "source": [
    "nombre_infected      1125\n",
    "nombre_sain          1843\n",
    "nombre_exposed        497\n",
    "nombre_recovered    16535\n",
    "Name: 517, dtype: int64"
   ]
  },
  {
   "cell_type": "markdown",
   "id": "98ed95e8",
   "metadata": {},
   "source": [
    "nombre_infected      1127\n",
    "nombre_sain          1857\n",
    "nombre_exposed        466\n",
    "nombre_recovered    16550\n",
    "Name: 518, dtype: int64"
   ]
  },
  {
   "cell_type": "markdown",
   "id": "b2dcf928",
   "metadata": {},
   "source": [
    "nombre_infected      1100\n",
    "nombre_sain          1848\n",
    "nombre_exposed        471\n",
    "nombre_recovered    16581\n",
    "Name: 519, dtype: int64"
   ]
  },
  {
   "cell_type": "markdown",
   "id": "11f28de3",
   "metadata": {},
   "source": [
    "nombre_infected      1075\n",
    "nombre_sain          1875\n",
    "nombre_exposed        491\n",
    "nombre_recovered    16559\n",
    "Name: 520, dtype: int64"
   ]
  },
  {
   "cell_type": "markdown",
   "id": "f6acb5a5",
   "metadata": {},
   "source": [
    "nombre_infected      1042\n",
    "nombre_sain          1871\n",
    "nombre_exposed        522\n",
    "nombre_recovered    16565\n",
    "Name: 521, dtype: int64"
   ]
  },
  {
   "cell_type": "markdown",
   "id": "4ec20c7d",
   "metadata": {},
   "source": [
    "nombre_infected      1026\n",
    "nombre_sain          1874\n",
    "nombre_exposed        516\n",
    "nombre_recovered    16584\n",
    "Name: 522, dtype: int64"
   ]
  },
  {
   "cell_type": "markdown",
   "id": "88208559",
   "metadata": {},
   "source": [
    "nombre_infected      1023\n",
    "nombre_sain          1879\n",
    "nombre_exposed        504\n",
    "nombre_recovered    16594\n",
    "Name: 523, dtype: int64"
   ]
  },
  {
   "cell_type": "markdown",
   "id": "1d5236d8",
   "metadata": {},
   "source": [
    "nombre_infected      1061\n",
    "nombre_sain          1859\n",
    "nombre_exposed        478\n",
    "nombre_recovered    16602\n",
    "Name: 524, dtype: int64"
   ]
  },
  {
   "cell_type": "markdown",
   "id": "770ed945",
   "metadata": {},
   "source": [
    "nombre_infected      1043\n",
    "nombre_sain          1857\n",
    "nombre_exposed        471\n",
    "nombre_recovered    16629\n",
    "Name: 525, dtype: int64"
   ]
  },
  {
   "cell_type": "markdown",
   "id": "3ef2857b",
   "metadata": {},
   "source": [
    "nombre_infected      1034\n",
    "nombre_sain          1840\n",
    "nombre_exposed        468\n",
    "nombre_recovered    16658\n",
    "Name: 526, dtype: int64"
   ]
  },
  {
   "cell_type": "markdown",
   "id": "167ceb5f",
   "metadata": {},
   "source": [
    "nombre_infected      1024\n",
    "nombre_sain          1864\n",
    "nombre_exposed        461\n",
    "nombre_recovered    16651\n",
    "Name: 527, dtype: int64"
   ]
  },
  {
   "cell_type": "markdown",
   "id": "5ee7de56",
   "metadata": {},
   "source": [
    "nombre_infected       986\n",
    "nombre_sain          1855\n",
    "nombre_exposed        466\n",
    "nombre_recovered    16693\n",
    "Name: 528, dtype: int64"
   ]
  },
  {
   "cell_type": "markdown",
   "id": "f4031b20",
   "metadata": {},
   "source": [
    "nombre_infected       980\n",
    "nombre_sain          1841\n",
    "nombre_exposed        474\n",
    "nombre_recovered    16705\n",
    "Name: 529, dtype: int64"
   ]
  },
  {
   "cell_type": "markdown",
   "id": "f8fbfb3c",
   "metadata": {},
   "source": [
    "nombre_infected       974\n",
    "nombre_sain          1841\n",
    "nombre_exposed        455\n",
    "nombre_recovered    16730\n",
    "Name: 530, dtype: int64"
   ]
  },
  {
   "cell_type": "markdown",
   "id": "08fbf609",
   "metadata": {},
   "source": [
    "nombre_infected       935\n",
    "nombre_sain          1862\n",
    "nombre_exposed        445\n",
    "nombre_recovered    16758\n",
    "Name: 531, dtype: int64"
   ]
  },
  {
   "cell_type": "markdown",
   "id": "1a087ead",
   "metadata": {},
   "source": [
    "nombre_infected       904\n",
    "nombre_sain          1894\n",
    "nombre_exposed        435\n",
    "nombre_recovered    16767\n",
    "Name: 532, dtype: int64"
   ]
  },
  {
   "cell_type": "markdown",
   "id": "fb64c76a",
   "metadata": {},
   "source": [
    "nombre_infected       901\n",
    "nombre_sain          1940\n",
    "nombre_exposed        418\n",
    "nombre_recovered    16741\n",
    "Name: 533, dtype: int64"
   ]
  },
  {
   "cell_type": "markdown",
   "id": "bf3e2a29",
   "metadata": {},
   "source": [
    "nombre_infected       908\n",
    "nombre_sain          1976\n",
    "nombre_exposed        400\n",
    "nombre_recovered    16716\n",
    "Name: 534, dtype: int64"
   ]
  },
  {
   "cell_type": "markdown",
   "id": "1b8f4177",
   "metadata": {},
   "source": [
    "nombre_infected       882\n",
    "nombre_sain          2001\n",
    "nombre_exposed        408\n",
    "nombre_recovered    16709\n",
    "Name: 535, dtype: int64"
   ]
  },
  {
   "cell_type": "markdown",
   "id": "48168c4f",
   "metadata": {},
   "source": [
    "nombre_infected       877\n",
    "nombre_sain          2048\n",
    "nombre_exposed        405\n",
    "nombre_recovered    16670\n",
    "Name: 536, dtype: int64"
   ]
  },
  {
   "cell_type": "markdown",
   "id": "e5e478dc",
   "metadata": {},
   "source": [
    "nombre_infected       889\n",
    "nombre_sain          2065\n",
    "nombre_exposed        398\n",
    "nombre_recovered    16648\n",
    "Name: 537, dtype: int64"
   ]
  },
  {
   "cell_type": "markdown",
   "id": "7dd67651",
   "metadata": {},
   "source": [
    "nombre_infected       831\n",
    "nombre_sain          2074\n",
    "nombre_exposed        422\n",
    "nombre_recovered    16673\n",
    "Name: 538, dtype: int64"
   ]
  },
  {
   "cell_type": "markdown",
   "id": "780db719",
   "metadata": {},
   "source": [
    "nombre_infected       837\n",
    "nombre_sain          2096\n",
    "nombre_exposed        413\n",
    "nombre_recovered    16654\n",
    "Name: 539, dtype: int64"
   ]
  },
  {
   "cell_type": "markdown",
   "id": "9521da7c",
   "metadata": {},
   "source": [
    "nombre_infected       845\n",
    "nombre_sain          2101\n",
    "nombre_exposed        406\n",
    "nombre_recovered    16648\n",
    "Name: 540, dtype: int64"
   ]
  },
  {
   "cell_type": "markdown",
   "id": "85660f9a",
   "metadata": {},
   "source": [
    "nombre_infected       834\n",
    "nombre_sain          2130\n",
    "nombre_exposed        416\n",
    "nombre_recovered    16620\n",
    "Name: 541, dtype: int64"
   ]
  },
  {
   "cell_type": "markdown",
   "id": "cb33b20e",
   "metadata": {},
   "source": [
    "nombre_infected       826\n",
    "nombre_sain          2168\n",
    "nombre_exposed        405\n",
    "nombre_recovered    16601\n",
    "Name: 542, dtype: int64"
   ]
  },
  {
   "cell_type": "markdown",
   "id": "ef0e0da0",
   "metadata": {},
   "source": [
    "nombre_infected       801\n",
    "nombre_sain          2177\n",
    "nombre_exposed        425\n",
    "nombre_recovered    16597\n",
    "Name: 543, dtype: int64"
   ]
  },
  {
   "cell_type": "markdown",
   "id": "3d0f891c",
   "metadata": {},
   "source": [
    "nombre_infected       818\n",
    "nombre_sain          2193\n",
    "nombre_exposed        420\n",
    "nombre_recovered    16569\n",
    "Name: 544, dtype: int64"
   ]
  },
  {
   "cell_type": "markdown",
   "id": "2296d844",
   "metadata": {},
   "source": [
    "nombre_infected       800\n",
    "nombre_sain          2240\n",
    "nombre_exposed        407\n",
    "nombre_recovered    16553\n",
    "Name: 545, dtype: int64"
   ]
  },
  {
   "cell_type": "markdown",
   "id": "a27f6887",
   "metadata": {},
   "source": [
    "nombre_infected       765\n",
    "nombre_sain          2263\n",
    "nombre_exposed        413\n",
    "nombre_recovered    16559\n",
    "Name: 546, dtype: int64"
   ]
  },
  {
   "cell_type": "markdown",
   "id": "47677426",
   "metadata": {},
   "source": [
    "nombre_infected       755\n",
    "nombre_sain          2303\n",
    "nombre_exposed        394\n",
    "nombre_recovered    16548\n",
    "Name: 547, dtype: int64"
   ]
  },
  {
   "cell_type": "markdown",
   "id": "162ce224",
   "metadata": {},
   "source": [
    "nombre_infected       753\n",
    "nombre_sain          2307\n",
    "nombre_exposed        415\n",
    "nombre_recovered    16525\n",
    "Name: 548, dtype: int64"
   ]
  },
  {
   "cell_type": "markdown",
   "id": "7d920ea6",
   "metadata": {},
   "source": [
    "nombre_infected       742\n",
    "nombre_sain          2334\n",
    "nombre_exposed        420\n",
    "nombre_recovered    16504\n",
    "Name: 549, dtype: int64"
   ]
  },
  {
   "cell_type": "markdown",
   "id": "e21d869c",
   "metadata": {},
   "source": [
    "nombre_infected       760\n",
    "nombre_sain          2336\n",
    "nombre_exposed        416\n",
    "nombre_recovered    16488\n",
    "Name: 550, dtype: int64"
   ]
  },
  {
   "cell_type": "markdown",
   "id": "a65d0be2",
   "metadata": {},
   "source": [
    "nombre_infected       761\n",
    "nombre_sain          2317\n",
    "nombre_exposed        460\n",
    "nombre_recovered    16462\n",
    "Name: 551, dtype: int64"
   ]
  },
  {
   "cell_type": "markdown",
   "id": "a3a6b492",
   "metadata": {},
   "source": [
    "nombre_infected       757\n",
    "nombre_sain          2335\n",
    "nombre_exposed        454\n",
    "nombre_recovered    16454\n",
    "Name: 552, dtype: int64"
   ]
  },
  {
   "cell_type": "markdown",
   "id": "11f8c84c",
   "metadata": {},
   "source": [
    "nombre_infected       771\n",
    "nombre_sain          2360\n",
    "nombre_exposed        452\n",
    "nombre_recovered    16417\n",
    "Name: 553, dtype: int64"
   ]
  },
  {
   "cell_type": "markdown",
   "id": "81503d9b",
   "metadata": {},
   "source": [
    "nombre_infected       784\n",
    "nombre_sain          2364\n",
    "nombre_exposed        451\n",
    "nombre_recovered    16401\n",
    "Name: 554, dtype: int64"
   ]
  },
  {
   "cell_type": "markdown",
   "id": "a423d507",
   "metadata": {},
   "source": [
    "nombre_infected       764\n",
    "nombre_sain          2359\n",
    "nombre_exposed        469\n",
    "nombre_recovered    16408\n",
    "Name: 555, dtype: int64"
   ]
  },
  {
   "cell_type": "markdown",
   "id": "045c38b8",
   "metadata": {},
   "source": [
    "nombre_infected       769\n",
    "nombre_sain          2376\n",
    "nombre_exposed        452\n",
    "nombre_recovered    16403\n",
    "Name: 556, dtype: int64"
   ]
  },
  {
   "cell_type": "markdown",
   "id": "e7d2fa96",
   "metadata": {},
   "source": [
    "nombre_infected       806\n",
    "nombre_sain          2403\n",
    "nombre_exposed        417\n",
    "nombre_recovered    16374\n",
    "Name: 557, dtype: int64"
   ]
  },
  {
   "cell_type": "markdown",
   "id": "18670866",
   "metadata": {},
   "source": [
    "nombre_infected       800\n",
    "nombre_sain          2415\n",
    "nombre_exposed        429\n",
    "nombre_recovered    16356\n",
    "Name: 558, dtype: int64"
   ]
  },
  {
   "cell_type": "markdown",
   "id": "13716840",
   "metadata": {},
   "source": [
    "nombre_infected       782\n",
    "nombre_sain          2424\n",
    "nombre_exposed        442\n",
    "nombre_recovered    16352\n",
    "Name: 559, dtype: int64"
   ]
  },
  {
   "cell_type": "markdown",
   "id": "12fa686c",
   "metadata": {},
   "source": [
    "nombre_infected       794\n",
    "nombre_sain          2423\n",
    "nombre_exposed        462\n",
    "nombre_recovered    16321\n",
    "Name: 560, dtype: int64"
   ]
  },
  {
   "cell_type": "markdown",
   "id": "ff27ac2a",
   "metadata": {},
   "source": [
    "nombre_infected       817\n",
    "nombre_sain          2427\n",
    "nombre_exposed        462\n",
    "nombre_recovered    16294\n",
    "Name: 561, dtype: int64"
   ]
  },
  {
   "cell_type": "markdown",
   "id": "3f83b387",
   "metadata": {},
   "source": [
    "nombre_infected       829\n",
    "nombre_sain          2402\n",
    "nombre_exposed        485\n",
    "nombre_recovered    16284\n",
    "Name: 562, dtype: int64"
   ]
  },
  {
   "cell_type": "markdown",
   "id": "c476a460",
   "metadata": {},
   "source": [
    "nombre_infected       830\n",
    "nombre_sain          2383\n",
    "nombre_exposed        502\n",
    "nombre_recovered    16285\n",
    "Name: 563, dtype: int64"
   ]
  },
  {
   "cell_type": "markdown",
   "id": "9a8e2d1e",
   "metadata": {},
   "source": [
    "nombre_infected       848\n",
    "nombre_sain          2359\n",
    "nombre_exposed        518\n",
    "nombre_recovered    16275\n",
    "Name: 564, dtype: int64"
   ]
  },
  {
   "cell_type": "markdown",
   "id": "b2619b14",
   "metadata": {},
   "source": [
    "nombre_infected       874\n",
    "nombre_sain          2382\n",
    "nombre_exposed        496\n",
    "nombre_recovered    16248\n",
    "Name: 565, dtype: int64"
   ]
  },
  {
   "cell_type": "markdown",
   "id": "c0bcda64",
   "metadata": {},
   "source": [
    "nombre_infected       891\n",
    "nombre_sain          2350\n",
    "nombre_exposed        499\n",
    "nombre_recovered    16260\n",
    "Name: 566, dtype: int64"
   ]
  },
  {
   "cell_type": "markdown",
   "id": "f1003030",
   "metadata": {},
   "source": [
    "nombre_infected       903\n",
    "nombre_sain          2334\n",
    "nombre_exposed        496\n",
    "nombre_recovered    16267\n",
    "Name: 567, dtype: int64"
   ]
  },
  {
   "cell_type": "markdown",
   "id": "d80e10a1",
   "metadata": {},
   "source": [
    "nombre_infected       896\n",
    "nombre_sain          2337\n",
    "nombre_exposed        506\n",
    "nombre_recovered    16261\n",
    "Name: 568, dtype: int64"
   ]
  },
  {
   "cell_type": "markdown",
   "id": "1d351ebb",
   "metadata": {},
   "source": [
    "nombre_infected       903\n",
    "nombre_sain          2336\n",
    "nombre_exposed        507\n",
    "nombre_recovered    16254\n",
    "Name: 569, dtype: int64"
   ]
  },
  {
   "cell_type": "markdown",
   "id": "77a8f120",
   "metadata": {},
   "source": [
    "nombre_infected       919\n",
    "nombre_sain          2339\n",
    "nombre_exposed        519\n",
    "nombre_recovered    16223\n",
    "Name: 570, dtype: int64"
   ]
  },
  {
   "cell_type": "markdown",
   "id": "ba434483",
   "metadata": {},
   "source": [
    "nombre_infected       920\n",
    "nombre_sain          2341\n",
    "nombre_exposed        530\n",
    "nombre_recovered    16209\n",
    "Name: 571, dtype: int64"
   ]
  },
  {
   "cell_type": "markdown",
   "id": "b0d132e4",
   "metadata": {},
   "source": [
    "nombre_infected       923\n",
    "nombre_sain          2356\n",
    "nombre_exposed        522\n",
    "nombre_recovered    16199\n",
    "Name: 572, dtype: int64"
   ]
  },
  {
   "cell_type": "markdown",
   "id": "49701bb0",
   "metadata": {},
   "source": [
    "nombre_infected       967\n",
    "nombre_sain          2407\n",
    "nombre_exposed        475\n",
    "nombre_recovered    16151\n",
    "Name: 573, dtype: int64"
   ]
  },
  {
   "cell_type": "markdown",
   "id": "9b16da10",
   "metadata": {},
   "source": [
    "nombre_infected       966\n",
    "nombre_sain          2435\n",
    "nombre_exposed        478\n",
    "nombre_recovered    16121\n",
    "Name: 574, dtype: int64"
   ]
  },
  {
   "cell_type": "markdown",
   "id": "d4ec3fb1",
   "metadata": {},
   "source": [
    "nombre_infected       977\n",
    "nombre_sain          2405\n",
    "nombre_exposed        505\n",
    "nombre_recovered    16113\n",
    "Name: 575, dtype: int64"
   ]
  },
  {
   "cell_type": "markdown",
   "id": "70dbee4f",
   "metadata": {},
   "source": [
    "nombre_infected       968\n",
    "nombre_sain          2404\n",
    "nombre_exposed        528\n",
    "nombre_recovered    16100\n",
    "Name: 576, dtype: int64"
   ]
  },
  {
   "cell_type": "markdown",
   "id": "a00947aa",
   "metadata": {},
   "source": [
    "nombre_infected       965\n",
    "nombre_sain          2416\n",
    "nombre_exposed        523\n",
    "nombre_recovered    16096\n",
    "Name: 577, dtype: int64"
   ]
  },
  {
   "cell_type": "markdown",
   "id": "526e3060",
   "metadata": {},
   "source": [
    "nombre_infected       990\n",
    "nombre_sain          2399\n",
    "nombre_exposed        545\n",
    "nombre_recovered    16066\n",
    "Name: 578, dtype: int64"
   ]
  },
  {
   "cell_type": "markdown",
   "id": "d66ad8e4",
   "metadata": {},
   "source": [
    "nombre_infected       970\n",
    "nombre_sain          2379\n",
    "nombre_exposed        567\n",
    "nombre_recovered    16084\n",
    "Name: 579, dtype: int64"
   ]
  },
  {
   "cell_type": "markdown",
   "id": "84aba9e1",
   "metadata": {},
   "source": [
    "nombre_infected       994\n",
    "nombre_sain          2391\n",
    "nombre_exposed        554\n",
    "nombre_recovered    16061\n",
    "Name: 580, dtype: int64"
   ]
  },
  {
   "cell_type": "markdown",
   "id": "5cf1a346",
   "metadata": {},
   "source": [
    "nombre_infected      1007\n",
    "nombre_sain          2385\n",
    "nombre_exposed        564\n",
    "nombre_recovered    16044\n",
    "Name: 581, dtype: int64"
   ]
  },
  {
   "cell_type": "markdown",
   "id": "2ca66a1d",
   "metadata": {},
   "source": [
    "nombre_infected       992\n",
    "nombre_sain          2374\n",
    "nombre_exposed        579\n",
    "nombre_recovered    16055\n",
    "Name: 582, dtype: int64"
   ]
  },
  {
   "cell_type": "markdown",
   "id": "8680223a",
   "metadata": {},
   "source": [
    "nombre_infected       979\n",
    "nombre_sain          2368\n",
    "nombre_exposed        602\n",
    "nombre_recovered    16051\n",
    "Name: 583, dtype: int64"
   ]
  },
  {
   "cell_type": "markdown",
   "id": "013e50ed",
   "metadata": {},
   "source": [
    "nombre_infected      1005\n",
    "nombre_sain          2357\n",
    "nombre_exposed        594\n",
    "nombre_recovered    16044\n",
    "Name: 584, dtype: int64"
   ]
  },
  {
   "cell_type": "markdown",
   "id": "1f912dfb",
   "metadata": {},
   "source": [
    "nombre_infected      1022\n",
    "nombre_sain          2348\n",
    "nombre_exposed        570\n",
    "nombre_recovered    16060\n",
    "Name: 585, dtype: int64"
   ]
  },
  {
   "cell_type": "markdown",
   "id": "c2d20d2e",
   "metadata": {},
   "source": [
    "nombre_infected      1033\n",
    "nombre_sain          2324\n",
    "nombre_exposed        593\n",
    "nombre_recovered    16050\n",
    "Name: 586, dtype: int64"
   ]
  },
  {
   "cell_type": "markdown",
   "id": "8ed1d7e9",
   "metadata": {},
   "source": [
    "nombre_infected      1039\n",
    "nombre_sain          2297\n",
    "nombre_exposed        593\n",
    "nombre_recovered    16071\n",
    "Name: 587, dtype: int64"
   ]
  },
  {
   "cell_type": "markdown",
   "id": "356f5f4f",
   "metadata": {},
   "source": [
    "nombre_infected      1054\n",
    "nombre_sain          2288\n",
    "nombre_exposed        592\n",
    "nombre_recovered    16066\n",
    "Name: 588, dtype: int64"
   ]
  },
  {
   "cell_type": "markdown",
   "id": "960cb4a5",
   "metadata": {},
   "source": [
    "nombre_infected      1051\n",
    "nombre_sain          2263\n",
    "nombre_exposed        604\n",
    "nombre_recovered    16082\n",
    "Name: 589, dtype: int64"
   ]
  },
  {
   "cell_type": "markdown",
   "id": "ab2016ea",
   "metadata": {},
   "source": [
    "nombre_infected      1079\n",
    "nombre_sain          2242\n",
    "nombre_exposed        606\n",
    "nombre_recovered    16073\n",
    "Name: 590, dtype: int64"
   ]
  },
  {
   "cell_type": "markdown",
   "id": "2196c28b",
   "metadata": {},
   "source": [
    "nombre_infected      1075\n",
    "nombre_sain          2227\n",
    "nombre_exposed        606\n",
    "nombre_recovered    16092\n",
    "Name: 591, dtype: int64"
   ]
  },
  {
   "cell_type": "markdown",
   "id": "e1c9b379",
   "metadata": {},
   "source": [
    "nombre_infected      1098\n",
    "nombre_sain          2187\n",
    "nombre_exposed        603\n",
    "nombre_recovered    16112\n",
    "Name: 592, dtype: int64"
   ]
  },
  {
   "cell_type": "markdown",
   "id": "e25b35bf",
   "metadata": {},
   "source": [
    "nombre_infected      1089\n",
    "nombre_sain          2145\n",
    "nombre_exposed        633\n",
    "nombre_recovered    16133\n",
    "Name: 593, dtype: int64"
   ]
  },
  {
   "cell_type": "markdown",
   "id": "78827f16",
   "metadata": {},
   "source": [
    "nombre_infected      1084\n",
    "nombre_sain          2121\n",
    "nombre_exposed        624\n",
    "nombre_recovered    16171\n",
    "Name: 594, dtype: int64"
   ]
  },
  {
   "cell_type": "markdown",
   "id": "84677e8c",
   "metadata": {},
   "source": [
    "nombre_infected      1106\n",
    "nombre_sain          2073\n",
    "nombre_exposed        626\n",
    "nombre_recovered    16195\n",
    "Name: 595, dtype: int64"
   ]
  },
  {
   "cell_type": "markdown",
   "id": "126e94c2",
   "metadata": {},
   "source": [
    "nombre_infected      1144\n",
    "nombre_sain          2040\n",
    "nombre_exposed        606\n",
    "nombre_recovered    16210\n",
    "Name: 596, dtype: int64"
   ]
  },
  {
   "cell_type": "markdown",
   "id": "89f99ad9",
   "metadata": {},
   "source": [
    "nombre_infected      1144\n",
    "nombre_sain          2008\n",
    "nombre_exposed        604\n",
    "nombre_recovered    16244\n",
    "Name: 597, dtype: int64"
   ]
  },
  {
   "cell_type": "markdown",
   "id": "88c45695",
   "metadata": {},
   "source": [
    "nombre_infected      1123\n",
    "nombre_sain          1994\n",
    "nombre_exposed        606\n",
    "nombre_recovered    16277\n",
    "Name: 598, dtype: int64"
   ]
  },
  {
   "cell_type": "markdown",
   "id": "ff5c7a09",
   "metadata": {},
   "source": [
    "nombre_infected      1116\n",
    "nombre_sain          1988\n",
    "nombre_exposed        615\n",
    "nombre_recovered    16281\n",
    "Name: 599, dtype: int64"
   ]
  },
  {
   "cell_type": "markdown",
   "id": "cdd0fb2f",
   "metadata": {},
   "source": [
    "nombre_infected      1104\n",
    "nombre_sain          1964\n",
    "nombre_exposed        620\n",
    "nombre_recovered    16312\n",
    "Name: 600, dtype: int64"
   ]
  },
  {
   "cell_type": "markdown",
   "id": "751a3bac",
   "metadata": {},
   "source": [
    "nombre_infected      1133\n",
    "nombre_sain          1954\n",
    "nombre_exposed        604\n",
    "nombre_recovered    16309\n",
    "Name: 601, dtype: int64"
   ]
  },
  {
   "cell_type": "markdown",
   "id": "9c970ffa",
   "metadata": {},
   "source": [
    "nombre_infected      1143\n",
    "nombre_sain          1959\n",
    "nombre_exposed        583\n",
    "nombre_recovered    16315\n",
    "Name: 602, dtype: int64"
   ]
  },
  {
   "cell_type": "markdown",
   "id": "df2640f2",
   "metadata": {},
   "source": [
    "nombre_infected      1141\n",
    "nombre_sain          1960\n",
    "nombre_exposed        574\n",
    "nombre_recovered    16325\n",
    "Name: 603, dtype: int64"
   ]
  },
  {
   "cell_type": "markdown",
   "id": "32b4d2b9",
   "metadata": {},
   "source": [
    "nombre_infected      1151\n",
    "nombre_sain          1910\n",
    "nombre_exposed        583\n",
    "nombre_recovered    16356\n",
    "Name: 604, dtype: int64"
   ]
  },
  {
   "cell_type": "markdown",
   "id": "b8e35835",
   "metadata": {},
   "source": [
    "nombre_infected      1150\n",
    "nombre_sain          1916\n",
    "nombre_exposed        565\n",
    "nombre_recovered    16369\n",
    "Name: 605, dtype: int64"
   ]
  },
  {
   "cell_type": "markdown",
   "id": "ca462555",
   "metadata": {},
   "source": [
    "nombre_infected      1148\n",
    "nombre_sain          1884\n",
    "nombre_exposed        560\n",
    "nombre_recovered    16408\n",
    "Name: 606, dtype: int64"
   ]
  },
  {
   "cell_type": "markdown",
   "id": "5ed1039a",
   "metadata": {},
   "source": [
    "nombre_infected      1150\n",
    "nombre_sain          1873\n",
    "nombre_exposed        566\n",
    "nombre_recovered    16411\n",
    "Name: 607, dtype: int64"
   ]
  },
  {
   "cell_type": "markdown",
   "id": "28340c8b",
   "metadata": {},
   "source": [
    "nombre_infected      1166\n",
    "nombre_sain          1846\n",
    "nombre_exposed        562\n",
    "nombre_recovered    16426\n",
    "Name: 608, dtype: int64"
   ]
  },
  {
   "cell_type": "markdown",
   "id": "8cd8d96f",
   "metadata": {},
   "source": [
    "nombre_infected      1152\n",
    "nombre_sain          1816\n",
    "nombre_exposed        570\n",
    "nombre_recovered    16462\n",
    "Name: 609, dtype: int64"
   ]
  },
  {
   "cell_type": "markdown",
   "id": "15f9e585",
   "metadata": {},
   "source": [
    "nombre_infected      1132\n",
    "nombre_sain          1824\n",
    "nombre_exposed        541\n",
    "nombre_recovered    16503\n",
    "Name: 610, dtype: int64"
   ]
  },
  {
   "cell_type": "markdown",
   "id": "416e0a4d",
   "metadata": {},
   "source": [
    "nombre_infected      1127\n",
    "nombre_sain          1810\n",
    "nombre_exposed        547\n",
    "nombre_recovered    16516\n",
    "Name: 611, dtype: int64"
   ]
  },
  {
   "cell_type": "markdown",
   "id": "dd6e0f58",
   "metadata": {},
   "source": [
    "nombre_infected      1114\n",
    "nombre_sain          1804\n",
    "nombre_exposed        561\n",
    "nombre_recovered    16521\n",
    "Name: 612, dtype: int64"
   ]
  },
  {
   "cell_type": "markdown",
   "id": "408dd4d7",
   "metadata": {},
   "source": [
    "nombre_infected      1116\n",
    "nombre_sain          1786\n",
    "nombre_exposed        547\n",
    "nombre_recovered    16551\n",
    "Name: 613, dtype: int64"
   ]
  },
  {
   "cell_type": "markdown",
   "id": "b5c11692",
   "metadata": {},
   "source": [
    "nombre_infected      1146\n",
    "nombre_sain          1802\n",
    "nombre_exposed        509\n",
    "nombre_recovered    16543\n",
    "Name: 614, dtype: int64"
   ]
  },
  {
   "cell_type": "markdown",
   "id": "44dd4b37",
   "metadata": {},
   "source": [
    "nombre_infected      1138\n",
    "nombre_sain          1813\n",
    "nombre_exposed        517\n",
    "nombre_recovered    16532\n",
    "Name: 615, dtype: int64"
   ]
  },
  {
   "cell_type": "markdown",
   "id": "4e5730dc",
   "metadata": {},
   "source": [
    "nombre_infected      1116\n",
    "nombre_sain          1833\n",
    "nombre_exposed        502\n",
    "nombre_recovered    16549\n",
    "Name: 616, dtype: int64"
   ]
  },
  {
   "cell_type": "markdown",
   "id": "6e384bed",
   "metadata": {},
   "source": [
    "nombre_infected      1107\n",
    "nombre_sain          1822\n",
    "nombre_exposed        518\n",
    "nombre_recovered    16553\n",
    "Name: 617, dtype: int64"
   ]
  },
  {
   "cell_type": "markdown",
   "id": "599f175d",
   "metadata": {},
   "source": [
    "nombre_infected      1101\n",
    "nombre_sain          1816\n",
    "nombre_exposed        519\n",
    "nombre_recovered    16564\n",
    "Name: 618, dtype: int64"
   ]
  },
  {
   "cell_type": "markdown",
   "id": "c61ef615",
   "metadata": {},
   "source": [
    "nombre_infected      1092\n",
    "nombre_sain          1802\n",
    "nombre_exposed        517\n",
    "nombre_recovered    16589\n",
    "Name: 619, dtype: int64"
   ]
  },
  {
   "cell_type": "markdown",
   "id": "cb123e49",
   "metadata": {},
   "source": [
    "nombre_infected      1076\n",
    "nombre_sain          1813\n",
    "nombre_exposed        491\n",
    "nombre_recovered    16620\n",
    "Name: 620, dtype: int64"
   ]
  },
  {
   "cell_type": "markdown",
   "id": "9040cd43",
   "metadata": {},
   "source": [
    "nombre_infected      1052\n",
    "nombre_sain          1826\n",
    "nombre_exposed        499\n",
    "nombre_recovered    16623\n",
    "Name: 621, dtype: int64"
   ]
  },
  {
   "cell_type": "markdown",
   "id": "102b056a",
   "metadata": {},
   "source": [
    "nombre_infected      1018\n",
    "nombre_sain          1843\n",
    "nombre_exposed        508\n",
    "nombre_recovered    16631\n",
    "Name: 622, dtype: int64"
   ]
  },
  {
   "cell_type": "markdown",
   "id": "f6355ff5",
   "metadata": {},
   "source": [
    "nombre_infected      1016\n",
    "nombre_sain          1878\n",
    "nombre_exposed        491\n",
    "nombre_recovered    16615\n",
    "Name: 623, dtype: int64"
   ]
  },
  {
   "cell_type": "markdown",
   "id": "8d97b016",
   "metadata": {},
   "source": [
    "nombre_infected      1018\n",
    "nombre_sain          1889\n",
    "nombre_exposed        493\n",
    "nombre_recovered    16600\n",
    "Name: 624, dtype: int64"
   ]
  },
  {
   "cell_type": "markdown",
   "id": "a188305c",
   "metadata": {},
   "source": [
    "nombre_infected      1014\n",
    "nombre_sain          1918\n",
    "nombre_exposed        468\n",
    "nombre_recovered    16600\n",
    "Name: 625, dtype: int64"
   ]
  },
  {
   "cell_type": "markdown",
   "id": "2718d25d",
   "metadata": {},
   "source": [
    "nombre_infected      1020\n",
    "nombre_sain          1920\n",
    "nombre_exposed        471\n",
    "nombre_recovered    16589\n",
    "Name: 626, dtype: int64"
   ]
  },
  {
   "cell_type": "markdown",
   "id": "7d6f738d",
   "metadata": {},
   "source": [
    "nombre_infected       991\n",
    "nombre_sain          1943\n",
    "nombre_exposed        480\n",
    "nombre_recovered    16586\n",
    "Name: 627, dtype: int64"
   ]
  },
  {
   "cell_type": "markdown",
   "id": "f94c6c77",
   "metadata": {},
   "source": [
    "nombre_infected       994\n",
    "nombre_sain          1973\n",
    "nombre_exposed        474\n",
    "nombre_recovered    16559\n",
    "Name: 628, dtype: int64"
   ]
  },
  {
   "cell_type": "markdown",
   "id": "1d4456ec",
   "metadata": {},
   "source": [
    "nombre_infected       964\n",
    "nombre_sain          1978\n",
    "nombre_exposed        497\n",
    "nombre_recovered    16561\n",
    "Name: 629, dtype: int64"
   ]
  },
  {
   "cell_type": "markdown",
   "id": "dcc824b0",
   "metadata": {},
   "source": [
    "nombre_infected       960\n",
    "nombre_sain          1994\n",
    "nombre_exposed        474\n",
    "nombre_recovered    16572\n",
    "Name: 630, dtype: int64"
   ]
  },
  {
   "cell_type": "markdown",
   "id": "d4fbf382",
   "metadata": {},
   "source": [
    "nombre_infected       936\n",
    "nombre_sain          2012\n",
    "nombre_exposed        492\n",
    "nombre_recovered    16560\n",
    "Name: 631, dtype: int64"
   ]
  },
  {
   "cell_type": "markdown",
   "id": "b78b877b",
   "metadata": {},
   "source": [
    "nombre_infected       934\n",
    "nombre_sain          2042\n",
    "nombre_exposed        492\n",
    "nombre_recovered    16532\n",
    "Name: 632, dtype: int64"
   ]
  },
  {
   "cell_type": "markdown",
   "id": "4d38070e",
   "metadata": {},
   "source": [
    "nombre_infected       908\n",
    "nombre_sain          2066\n",
    "nombre_exposed        498\n",
    "nombre_recovered    16528\n",
    "Name: 633, dtype: int64"
   ]
  },
  {
   "cell_type": "markdown",
   "id": "a80c08e8",
   "metadata": {},
   "source": [
    "nombre_infected       889\n",
    "nombre_sain          2072\n",
    "nombre_exposed        500\n",
    "nombre_recovered    16539\n",
    "Name: 634, dtype: int64"
   ]
  },
  {
   "cell_type": "markdown",
   "id": "24376a21",
   "metadata": {},
   "source": [
    "nombre_infected       866\n",
    "nombre_sain          2104\n",
    "nombre_exposed        493\n",
    "nombre_recovered    16537\n",
    "Name: 635, dtype: int64"
   ]
  },
  {
   "cell_type": "markdown",
   "id": "d43a5b9b",
   "metadata": {},
   "source": [
    "nombre_infected       878\n",
    "nombre_sain          2124\n",
    "nombre_exposed        497\n",
    "nombre_recovered    16501\n",
    "Name: 636, dtype: int64"
   ]
  },
  {
   "cell_type": "markdown",
   "id": "156d34be",
   "metadata": {},
   "source": [
    "nombre_infected       868\n",
    "nombre_sain          2129\n",
    "nombre_exposed        516\n",
    "nombre_recovered    16487\n",
    "Name: 637, dtype: int64"
   ]
  },
  {
   "cell_type": "markdown",
   "id": "a042447c",
   "metadata": {},
   "source": [
    "nombre_infected       878\n",
    "nombre_sain          2146\n",
    "nombre_exposed        505\n",
    "nombre_recovered    16471\n",
    "Name: 638, dtype: int64"
   ]
  },
  {
   "cell_type": "markdown",
   "id": "7e4dadd9",
   "metadata": {},
   "source": [
    "nombre_infected       884\n",
    "nombre_sain          2180\n",
    "nombre_exposed        476\n",
    "nombre_recovered    16460\n",
    "Name: 639, dtype: int64"
   ]
  },
  {
   "cell_type": "markdown",
   "id": "286e8c2f",
   "metadata": {},
   "source": [
    "nombre_infected       892\n",
    "nombre_sain          2190\n",
    "nombre_exposed        483\n",
    "nombre_recovered    16435\n",
    "Name: 640, dtype: int64"
   ]
  },
  {
   "cell_type": "markdown",
   "id": "6524e91a",
   "metadata": {},
   "source": [
    "nombre_infected       883\n",
    "nombre_sain          2216\n",
    "nombre_exposed        486\n",
    "nombre_recovered    16415\n",
    "Name: 641, dtype: int64"
   ]
  },
  {
   "cell_type": "markdown",
   "id": "3e46d73e",
   "metadata": {},
   "source": [
    "nombre_infected       909\n",
    "nombre_sain          2228\n",
    "nombre_exposed        485\n",
    "nombre_recovered    16378\n",
    "Name: 642, dtype: int64"
   ]
  },
  {
   "cell_type": "markdown",
   "id": "4f366dd1",
   "metadata": {},
   "source": [
    "nombre_infected       936\n",
    "nombre_sain          2257\n",
    "nombre_exposed        464\n",
    "nombre_recovered    16343\n",
    "Name: 643, dtype: int64"
   ]
  },
  {
   "cell_type": "markdown",
   "id": "c51cae0c",
   "metadata": {},
   "source": [
    "nombre_infected       933\n",
    "nombre_sain          2285\n",
    "nombre_exposed        478\n",
    "nombre_recovered    16304\n",
    "Name: 644, dtype: int64"
   ]
  },
  {
   "cell_type": "markdown",
   "id": "39539239",
   "metadata": {},
   "source": [
    "nombre_infected       930\n",
    "nombre_sain          2287\n",
    "nombre_exposed        522\n",
    "nombre_recovered    16261\n",
    "Name: 645, dtype: int64"
   ]
  },
  {
   "cell_type": "markdown",
   "id": "c3c9faa2",
   "metadata": {},
   "source": [
    "nombre_infected       907\n",
    "nombre_sain          2295\n",
    "nombre_exposed        529\n",
    "nombre_recovered    16269\n",
    "Name: 646, dtype: int64"
   ]
  },
  {
   "cell_type": "markdown",
   "id": "d74c56a2",
   "metadata": {},
   "source": [
    "nombre_infected       895\n",
    "nombre_sain          2302\n",
    "nombre_exposed        546\n",
    "nombre_recovered    16257\n",
    "Name: 647, dtype: int64"
   ]
  },
  {
   "cell_type": "markdown",
   "id": "a0cf47cd",
   "metadata": {},
   "source": [
    "nombre_infected       923\n",
    "nombre_sain          2337\n",
    "nombre_exposed        538\n",
    "nombre_recovered    16202\n",
    "Name: 648, dtype: int64"
   ]
  },
  {
   "cell_type": "markdown",
   "id": "415eaadf",
   "metadata": {},
   "source": [
    "nombre_infected       938\n",
    "nombre_sain          2329\n",
    "nombre_exposed        546\n",
    "nombre_recovered    16187\n",
    "Name: 649, dtype: int64"
   ]
  },
  {
   "cell_type": "markdown",
   "id": "6fba9c20",
   "metadata": {},
   "source": [
    "nombre_infected       934\n",
    "nombre_sain          2348\n",
    "nombre_exposed        550\n",
    "nombre_recovered    16168\n",
    "Name: 650, dtype: int64"
   ]
  },
  {
   "cell_type": "markdown",
   "id": "622ba2e9",
   "metadata": {},
   "source": [
    "nombre_infected       956\n",
    "nombre_sain          2313\n",
    "nombre_exposed        584\n",
    "nombre_recovered    16147\n",
    "Name: 651, dtype: int64"
   ]
  },
  {
   "cell_type": "markdown",
   "id": "9c4ee569",
   "metadata": {},
   "source": [
    "nombre_infected       958\n",
    "nombre_sain          2301\n",
    "nombre_exposed        588\n",
    "nombre_recovered    16153\n",
    "Name: 652, dtype: int64"
   ]
  },
  {
   "cell_type": "markdown",
   "id": "a9b77bf5",
   "metadata": {},
   "source": [
    "nombre_infected       986\n",
    "nombre_sain          2290\n",
    "nombre_exposed        584\n",
    "nombre_recovered    16140\n",
    "Name: 653, dtype: int64"
   ]
  },
  {
   "cell_type": "markdown",
   "id": "5abd04bd",
   "metadata": {},
   "source": [
    "nombre_infected      1010\n",
    "nombre_sain          2295\n",
    "nombre_exposed        578\n",
    "nombre_recovered    16117\n",
    "Name: 654, dtype: int64"
   ]
  },
  {
   "cell_type": "markdown",
   "id": "a45c7339",
   "metadata": {},
   "source": [
    "nombre_infected       974\n",
    "nombre_sain          2301\n",
    "nombre_exposed        600\n",
    "nombre_recovered    16125\n",
    "Name: 655, dtype: int64"
   ]
  },
  {
   "cell_type": "markdown",
   "id": "293d3ce9",
   "metadata": {},
   "source": [
    "nombre_infected       996\n",
    "nombre_sain          2311\n",
    "nombre_exposed        607\n",
    "nombre_recovered    16086\n",
    "Name: 656, dtype: int64"
   ]
  },
  {
   "cell_type": "markdown",
   "id": "1a78df53",
   "metadata": {},
   "source": [
    "nombre_infected      1019\n",
    "nombre_sain          2334\n",
    "nombre_exposed        574\n",
    "nombre_recovered    16073\n",
    "Name: 657, dtype: int64"
   ]
  },
  {
   "cell_type": "markdown",
   "id": "5d4be795",
   "metadata": {},
   "source": [
    "nombre_infected      1017\n",
    "nombre_sain          2302\n",
    "nombre_exposed        597\n",
    "nombre_recovered    16084\n",
    "Name: 658, dtype: int64"
   ]
  },
  {
   "cell_type": "markdown",
   "id": "effe8ef7",
   "metadata": {},
   "source": [
    "nombre_infected      1018\n",
    "nombre_sain          2298\n",
    "nombre_exposed        601\n",
    "nombre_recovered    16083\n",
    "Name: 659, dtype: int64"
   ]
  },
  {
   "cell_type": "markdown",
   "id": "4a5832b5",
   "metadata": {},
   "source": [
    "nombre_infected      1048\n",
    "nombre_sain          2274\n",
    "nombre_exposed        606\n",
    "nombre_recovered    16072\n",
    "Name: 660, dtype: int64"
   ]
  },
  {
   "cell_type": "markdown",
   "id": "c1d64be3",
   "metadata": {},
   "source": [
    "nombre_infected      1052\n",
    "nombre_sain          2251\n",
    "nombre_exposed        622\n",
    "nombre_recovered    16075\n",
    "Name: 661, dtype: int64"
   ]
  },
  {
   "cell_type": "markdown",
   "id": "68664274",
   "metadata": {},
   "source": [
    "nombre_infected      1081\n",
    "nombre_sain          2242\n",
    "nombre_exposed        618\n",
    "nombre_recovered    16059\n",
    "Name: 662, dtype: int64"
   ]
  },
  {
   "cell_type": "markdown",
   "id": "9e2c4415",
   "metadata": {},
   "source": [
    "nombre_infected      1088\n",
    "nombre_sain          2217\n",
    "nombre_exposed        642\n",
    "nombre_recovered    16053\n",
    "Name: 663, dtype: int64"
   ]
  },
  {
   "cell_type": "markdown",
   "id": "6d6ad7d9",
   "metadata": {},
   "source": [
    "nombre_infected      1095\n",
    "nombre_sain          2198\n",
    "nombre_exposed        647\n",
    "nombre_recovered    16060\n",
    "Name: 664, dtype: int64"
   ]
  },
  {
   "cell_type": "markdown",
   "id": "d484ddc8",
   "metadata": {},
   "source": [
    "nombre_infected      1134\n",
    "nombre_sain          2154\n",
    "nombre_exposed        655\n",
    "nombre_recovered    16057\n",
    "Name: 665, dtype: int64"
   ]
  },
  {
   "cell_type": "markdown",
   "id": "59150b88",
   "metadata": {},
   "source": [
    "nombre_infected      1106\n",
    "nombre_sain          2117\n",
    "nombre_exposed        682\n",
    "nombre_recovered    16095\n",
    "Name: 666, dtype: int64"
   ]
  },
  {
   "cell_type": "markdown",
   "id": "8ed8d50d",
   "metadata": {},
   "source": [
    "nombre_infected      1138\n",
    "nombre_sain          2100\n",
    "nombre_exposed        668\n",
    "nombre_recovered    16094\n",
    "Name: 667, dtype: int64"
   ]
  },
  {
   "cell_type": "markdown",
   "id": "514e65c1",
   "metadata": {},
   "source": [
    "nombre_infected      1164\n",
    "nombre_sain          2109\n",
    "nombre_exposed        642\n",
    "nombre_recovered    16085\n",
    "Name: 668, dtype: int64"
   ]
  },
  {
   "cell_type": "markdown",
   "id": "ab753bdb",
   "metadata": {},
   "source": [
    "nombre_infected      1167\n",
    "nombre_sain          2100\n",
    "nombre_exposed        629\n",
    "nombre_recovered    16104\n",
    "Name: 669, dtype: int64"
   ]
  },
  {
   "cell_type": "markdown",
   "id": "53f7c91f",
   "metadata": {},
   "source": [
    "nombre_infected      1163\n",
    "nombre_sain          2053\n",
    "nombre_exposed        630\n",
    "nombre_recovered    16154\n",
    "Name: 670, dtype: int64"
   ]
  },
  {
   "cell_type": "markdown",
   "id": "83beab40",
   "metadata": {},
   "source": [
    "nombre_infected      1159\n",
    "nombre_sain          2028\n",
    "nombre_exposed        616\n",
    "nombre_recovered    16197\n",
    "Name: 671, dtype: int64"
   ]
  },
  {
   "cell_type": "markdown",
   "id": "49e5d2b9",
   "metadata": {},
   "source": [
    "nombre_infected      1166\n",
    "nombre_sain          2022\n",
    "nombre_exposed        614\n",
    "nombre_recovered    16198\n",
    "Name: 672, dtype: int64"
   ]
  },
  {
   "cell_type": "markdown",
   "id": "3a5927c5",
   "metadata": {},
   "source": [
    "nombre_infected      1190\n",
    "nombre_sain          1981\n",
    "nombre_exposed        595\n",
    "nombre_recovered    16234\n",
    "Name: 673, dtype: int64"
   ]
  },
  {
   "cell_type": "markdown",
   "id": "609e4ed6",
   "metadata": {},
   "source": [
    "nombre_infected      1209\n",
    "nombre_sain          1960\n",
    "nombre_exposed        570\n",
    "nombre_recovered    16261\n",
    "Name: 674, dtype: int64"
   ]
  },
  {
   "cell_type": "markdown",
   "id": "d2e3bef2",
   "metadata": {},
   "source": [
    "nombre_infected      1211\n",
    "nombre_sain          1913\n",
    "nombre_exposed        582\n",
    "nombre_recovered    16294\n",
    "Name: 675, dtype: int64"
   ]
  },
  {
   "cell_type": "markdown",
   "id": "1c5d9d3c",
   "metadata": {},
   "source": [
    "nombre_infected      1170\n",
    "nombre_sain          1912\n",
    "nombre_exposed        597\n",
    "nombre_recovered    16321\n",
    "Name: 676, dtype: int64"
   ]
  },
  {
   "cell_type": "markdown",
   "id": "74a1762f",
   "metadata": {},
   "source": [
    "nombre_infected      1160\n",
    "nombre_sain          1912\n",
    "nombre_exposed        589\n",
    "nombre_recovered    16339\n",
    "Name: 677, dtype: int64"
   ]
  },
  {
   "cell_type": "markdown",
   "id": "307d0d32",
   "metadata": {},
   "source": [
    "nombre_infected      1137\n",
    "nombre_sain          1891\n",
    "nombre_exposed        586\n",
    "nombre_recovered    16386\n",
    "Name: 678, dtype: int64"
   ]
  },
  {
   "cell_type": "markdown",
   "id": "e0c68a28",
   "metadata": {},
   "source": [
    "nombre_infected      1147\n",
    "nombre_sain          1898\n",
    "nombre_exposed        571\n",
    "nombre_recovered    16384\n",
    "Name: 679, dtype: int64"
   ]
  },
  {
   "cell_type": "markdown",
   "id": "ad3c0596",
   "metadata": {},
   "source": [
    "nombre_infected      1151\n",
    "nombre_sain          1900\n",
    "nombre_exposed        544\n",
    "nombre_recovered    16405\n",
    "Name: 680, dtype: int64"
   ]
  },
  {
   "cell_type": "markdown",
   "id": "4284ce3a",
   "metadata": {},
   "source": [
    "nombre_infected      1150\n",
    "nombre_sain          1902\n",
    "nombre_exposed        510\n",
    "nombre_recovered    16438\n",
    "Name: 681, dtype: int64"
   ]
  },
  {
   "cell_type": "markdown",
   "id": "256cc5bc",
   "metadata": {},
   "source": [
    "nombre_infected      1124\n",
    "nombre_sain          1904\n",
    "nombre_exposed        513\n",
    "nombre_recovered    16459\n",
    "Name: 682, dtype: int64"
   ]
  },
  {
   "cell_type": "markdown",
   "id": "995db490",
   "metadata": {},
   "source": [
    "nombre_infected      1095\n",
    "nombre_sain          1895\n",
    "nombre_exposed        519\n",
    "nombre_recovered    16491\n",
    "Name: 683, dtype: int64"
   ]
  },
  {
   "cell_type": "markdown",
   "id": "1f42ba33",
   "metadata": {},
   "source": [
    "nombre_infected      1060\n",
    "nombre_sain          1890\n",
    "nombre_exposed        525\n",
    "nombre_recovered    16525\n",
    "Name: 684, dtype: int64"
   ]
  },
  {
   "cell_type": "markdown",
   "id": "de6cb2a9",
   "metadata": {},
   "source": [
    "nombre_infected      1048\n",
    "nombre_sain          1902\n",
    "nombre_exposed        499\n",
    "nombre_recovered    16551\n",
    "Name: 685, dtype: int64"
   ]
  },
  {
   "cell_type": "markdown",
   "id": "911ad245",
   "metadata": {},
   "source": [
    "nombre_infected      1015\n",
    "nombre_sain          1916\n",
    "nombre_exposed        477\n",
    "nombre_recovered    16592\n",
    "Name: 686, dtype: int64"
   ]
  },
  {
   "cell_type": "markdown",
   "id": "f20788ab",
   "metadata": {},
   "source": [
    "nombre_infected       998\n",
    "nombre_sain          1941\n",
    "nombre_exposed        448\n",
    "nombre_recovered    16613\n",
    "Name: 687, dtype: int64"
   ]
  },
  {
   "cell_type": "markdown",
   "id": "0624697a",
   "metadata": {},
   "source": [
    "nombre_infected      1003\n",
    "nombre_sain          1939\n",
    "nombre_exposed        439\n",
    "nombre_recovered    16619\n",
    "Name: 688, dtype: int64"
   ]
  },
  {
   "cell_type": "markdown",
   "id": "d14ce6d5",
   "metadata": {},
   "source": [
    "nombre_infected       980\n",
    "nombre_sain          1958\n",
    "nombre_exposed        441\n",
    "nombre_recovered    16621\n",
    "Name: 689, dtype: int64"
   ]
  },
  {
   "cell_type": "markdown",
   "id": "596413c4",
   "metadata": {},
   "source": [
    "nombre_infected       956\n",
    "nombre_sain          1958\n",
    "nombre_exposed        455\n",
    "nombre_recovered    16631\n",
    "Name: 690, dtype: int64"
   ]
  },
  {
   "cell_type": "markdown",
   "id": "7170687b",
   "metadata": {},
   "source": [
    "nombre_infected       928\n",
    "nombre_sain          1973\n",
    "nombre_exposed        467\n",
    "nombre_recovered    16632\n",
    "Name: 691, dtype: int64"
   ]
  },
  {
   "cell_type": "markdown",
   "id": "f5b4e2fa",
   "metadata": {},
   "source": [
    "nombre_infected       905\n",
    "nombre_sain          1959\n",
    "nombre_exposed        481\n",
    "nombre_recovered    16655\n",
    "Name: 692, dtype: int64"
   ]
  },
  {
   "cell_type": "markdown",
   "id": "46ebf44b",
   "metadata": {},
   "source": [
    "nombre_infected       885\n",
    "nombre_sain          1985\n",
    "nombre_exposed        475\n",
    "nombre_recovered    16655\n",
    "Name: 693, dtype: int64"
   ]
  },
  {
   "cell_type": "markdown",
   "id": "adbabff7",
   "metadata": {},
   "source": [
    "nombre_infected       884\n",
    "nombre_sain          1996\n",
    "nombre_exposed        463\n",
    "nombre_recovered    16657\n",
    "Name: 694, dtype: int64"
   ]
  },
  {
   "cell_type": "markdown",
   "id": "151467f9",
   "metadata": {},
   "source": [
    "nombre_infected       883\n",
    "nombre_sain          2006\n",
    "nombre_exposed        458\n",
    "nombre_recovered    16653\n",
    "Name: 695, dtype: int64"
   ]
  },
  {
   "cell_type": "markdown",
   "id": "11dfc280",
   "metadata": {},
   "source": [
    "nombre_infected       854\n",
    "nombre_sain          2030\n",
    "nombre_exposed        467\n",
    "nombre_recovered    16649\n",
    "Name: 696, dtype: int64"
   ]
  },
  {
   "cell_type": "markdown",
   "id": "f52c5f1a",
   "metadata": {},
   "source": [
    "nombre_infected       861\n",
    "nombre_sain          2061\n",
    "nombre_exposed        442\n",
    "nombre_recovered    16636\n",
    "Name: 697, dtype: int64"
   ]
  },
  {
   "cell_type": "markdown",
   "id": "4f90e709",
   "metadata": {},
   "source": [
    "nombre_infected       822\n",
    "nombre_sain          2083\n",
    "nombre_exposed        452\n",
    "nombre_recovered    16643\n",
    "Name: 698, dtype: int64"
   ]
  },
  {
   "cell_type": "markdown",
   "id": "6e84ad4d",
   "metadata": {},
   "source": [
    "nombre_infected       802\n",
    "nombre_sain          2110\n",
    "nombre_exposed        442\n",
    "nombre_recovered    16646\n",
    "Name: 699, dtype: int64"
   ]
  },
  {
   "cell_type": "markdown",
   "id": "dbc0e3c0",
   "metadata": {},
   "source": [
    "nombre_infected       801\n",
    "nombre_sain          2116\n",
    "nombre_exposed        442\n",
    "nombre_recovered    16641\n",
    "Name: 700, dtype: int64"
   ]
  },
  {
   "cell_type": "markdown",
   "id": "c3c131eb",
   "metadata": {},
   "source": [
    "nombre_infected       785\n",
    "nombre_sain          2137\n",
    "nombre_exposed        457\n",
    "nombre_recovered    16621\n",
    "Name: 701, dtype: int64"
   ]
  },
  {
   "cell_type": "markdown",
   "id": "aefa0f47",
   "metadata": {},
   "source": [
    "nombre_infected       789\n",
    "nombre_sain          2149\n",
    "nombre_exposed        431\n",
    "nombre_recovered    16631\n",
    "Name: 702, dtype: int64"
   ]
  },
  {
   "cell_type": "markdown",
   "id": "8852e198",
   "metadata": {},
   "source": [
    "nombre_infected       800\n",
    "nombre_sain          2167\n",
    "nombre_exposed        416\n",
    "nombre_recovered    16617\n",
    "Name: 703, dtype: int64"
   ]
  },
  {
   "cell_type": "markdown",
   "id": "b82aaf0e",
   "metadata": {},
   "source": [
    "nombre_infected       786\n",
    "nombre_sain          2191\n",
    "nombre_exposed        428\n",
    "nombre_recovered    16595\n",
    "Name: 704, dtype: int64"
   ]
  },
  {
   "cell_type": "markdown",
   "id": "a878edac",
   "metadata": {},
   "source": [
    "nombre_infected       794\n",
    "nombre_sain          2217\n",
    "nombre_exposed        413\n",
    "nombre_recovered    16576\n",
    "Name: 705, dtype: int64"
   ]
  },
  {
   "cell_type": "markdown",
   "id": "56e60783",
   "metadata": {},
   "source": [
    "nombre_infected       804\n",
    "nombre_sain          2230\n",
    "nombre_exposed        398\n",
    "nombre_recovered    16568\n",
    "Name: 706, dtype: int64"
   ]
  },
  {
   "cell_type": "markdown",
   "id": "3c47af7b",
   "metadata": {},
   "source": [
    "nombre_infected       803\n",
    "nombre_sain          2251\n",
    "nombre_exposed        393\n",
    "nombre_recovered    16553\n",
    "Name: 707, dtype: int64"
   ]
  },
  {
   "cell_type": "markdown",
   "id": "94d0c461",
   "metadata": {},
   "source": [
    "nombre_infected       783\n",
    "nombre_sain          2293\n",
    "nombre_exposed        401\n",
    "nombre_recovered    16523\n",
    "Name: 708, dtype: int64"
   ]
  },
  {
   "cell_type": "markdown",
   "id": "41e5e9cf",
   "metadata": {},
   "source": [
    "nombre_infected       753\n",
    "nombre_sain          2303\n",
    "nombre_exposed        412\n",
    "nombre_recovered    16532\n",
    "Name: 709, dtype: int64"
   ]
  },
  {
   "cell_type": "markdown",
   "id": "0bd8ba33",
   "metadata": {},
   "source": [
    "nombre_infected       768\n",
    "nombre_sain          2297\n",
    "nombre_exposed        407\n",
    "nombre_recovered    16528\n",
    "Name: 710, dtype: int64"
   ]
  },
  {
   "cell_type": "markdown",
   "id": "87310f9c",
   "metadata": {},
   "source": [
    "nombre_infected       788\n",
    "nombre_sain          2315\n",
    "nombre_exposed        393\n",
    "nombre_recovered    16504\n",
    "Name: 711, dtype: int64"
   ]
  },
  {
   "cell_type": "markdown",
   "id": "d3eb5e34",
   "metadata": {},
   "source": [
    "nombre_infected       774\n",
    "nombre_sain          2322\n",
    "nombre_exposed        406\n",
    "nombre_recovered    16498\n",
    "Name: 712, dtype: int64"
   ]
  },
  {
   "cell_type": "markdown",
   "id": "365f2be6",
   "metadata": {},
   "source": [
    "nombre_infected       759\n",
    "nombre_sain          2313\n",
    "nombre_exposed        425\n",
    "nombre_recovered    16503\n",
    "Name: 713, dtype: int64"
   ]
  },
  {
   "cell_type": "markdown",
   "id": "492399e5",
   "metadata": {},
   "source": [
    "nombre_infected       768\n",
    "nombre_sain          2315\n",
    "nombre_exposed        426\n",
    "nombre_recovered    16491\n",
    "Name: 714, dtype: int64"
   ]
  },
  {
   "cell_type": "markdown",
   "id": "0b3b842d",
   "metadata": {},
   "source": [
    "nombre_infected       776\n",
    "nombre_sain          2330\n",
    "nombre_exposed        431\n",
    "nombre_recovered    16463\n",
    "Name: 715, dtype: int64"
   ]
  },
  {
   "cell_type": "markdown",
   "id": "863c3634",
   "metadata": {},
   "source": [
    "nombre_infected       775\n",
    "nombre_sain          2321\n",
    "nombre_exposed        450\n",
    "nombre_recovered    16454\n",
    "Name: 716, dtype: int64"
   ]
  },
  {
   "cell_type": "markdown",
   "id": "96641c52",
   "metadata": {},
   "source": [
    "nombre_infected       789\n",
    "nombre_sain          2334\n",
    "nombre_exposed        453\n",
    "nombre_recovered    16424\n",
    "Name: 717, dtype: int64"
   ]
  },
  {
   "cell_type": "markdown",
   "id": "cae05a01",
   "metadata": {},
   "source": [
    "nombre_infected       809\n",
    "nombre_sain          2352\n",
    "nombre_exposed        441\n",
    "nombre_recovered    16398\n",
    "Name: 718, dtype: int64"
   ]
  },
  {
   "cell_type": "markdown",
   "id": "b4c8f328",
   "metadata": {},
   "source": [
    "nombre_infected       824\n",
    "nombre_sain          2374\n",
    "nombre_exposed        433\n",
    "nombre_recovered    16369\n",
    "Name: 719, dtype: int64"
   ]
  },
  {
   "cell_type": "markdown",
   "id": "86a6e547",
   "metadata": {},
   "source": [
    "nombre_infected       833\n",
    "nombre_sain          2370\n",
    "nombre_exposed        462\n",
    "nombre_recovered    16335\n",
    "Name: 720, dtype: int64"
   ]
  },
  {
   "cell_type": "markdown",
   "id": "2d5d9284",
   "metadata": {},
   "source": [
    "nombre_infected       810\n",
    "nombre_sain          2375\n",
    "nombre_exposed        488\n",
    "nombre_recovered    16327\n",
    "Name: 721, dtype: int64"
   ]
  },
  {
   "cell_type": "markdown",
   "id": "e62ceccb",
   "metadata": {},
   "source": [
    "nombre_infected       835\n",
    "nombre_sain          2400\n",
    "nombre_exposed        482\n",
    "nombre_recovered    16283\n",
    "Name: 722, dtype: int64"
   ]
  },
  {
   "cell_type": "markdown",
   "id": "99e60e43",
   "metadata": {},
   "source": [
    "nombre_infected       878\n",
    "nombre_sain          2398\n",
    "nombre_exposed        472\n",
    "nombre_recovered    16252\n",
    "Name: 723, dtype: int64"
   ]
  },
  {
   "cell_type": "markdown",
   "id": "3a5c42af",
   "metadata": {},
   "source": [
    "nombre_infected       891\n",
    "nombre_sain          2383\n",
    "nombre_exposed        489\n",
    "nombre_recovered    16237\n",
    "Name: 724, dtype: int64"
   ]
  },
  {
   "cell_type": "markdown",
   "id": "40b29ef0",
   "metadata": {},
   "source": [
    "nombre_infected       877\n",
    "nombre_sain          2392\n",
    "nombre_exposed        493\n",
    "nombre_recovered    16238\n",
    "Name: 725, dtype: int64"
   ]
  },
  {
   "cell_type": "markdown",
   "id": "9214c02a",
   "metadata": {},
   "source": [
    "nombre_infected       869\n",
    "nombre_sain          2359\n",
    "nombre_exposed        524\n",
    "nombre_recovered    16248\n",
    "Name: 726, dtype: int64"
   ]
  },
  {
   "cell_type": "markdown",
   "id": "0e2a5e69",
   "metadata": {},
   "source": [
    "nombre_infected       874\n",
    "nombre_sain          2318\n",
    "nombre_exposed        551\n",
    "nombre_recovered    16257\n",
    "Name: 727, dtype: int64"
   ]
  },
  {
   "cell_type": "markdown",
   "id": "c506be34",
   "metadata": {},
   "source": [
    "nombre_infected       894\n",
    "nombre_sain          2326\n",
    "nombre_exposed        555\n",
    "nombre_recovered    16225\n",
    "Name: 728, dtype: int64"
   ]
  },
  {
   "cell_type": "markdown",
   "id": "3ba05ec4",
   "metadata": {},
   "source": [
    "nombre_infected       909\n",
    "nombre_sain          2322\n",
    "nombre_exposed        547\n",
    "nombre_recovered    16222\n",
    "Name: 729, dtype: int64"
   ]
  },
  {
   "cell_type": "markdown",
   "id": "f3e7558f",
   "metadata": {},
   "source": [
    "nombre_infected       954\n",
    "nombre_sain          2319\n",
    "nombre_exposed        526\n",
    "nombre_recovered    16201\n",
    "Name: 730, dtype: int64"
   ]
  }
 ],
 "metadata": {},
 "nbformat": 4,
 "nbformat_minor": 5
}
