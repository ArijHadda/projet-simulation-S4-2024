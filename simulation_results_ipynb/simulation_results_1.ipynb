{
 "cells": [
  {
   "cell_type": "markdown",
   "id": "6c351d83",
   "metadata": {},
   "source": [
    "nombre_infected        20\n",
    "nombre_sain         19980\n",
    "nombre_exposed          0\n",
    "nombre_recovered        0\n",
    "Name: 0, dtype: int64"
   ]
  },
  {
   "cell_type": "markdown",
   "id": "a5632524",
   "metadata": {},
   "source": [
    "nombre_infected        20\n",
    "nombre_sain         19969\n",
    "nombre_exposed         11\n",
    "nombre_recovered        0\n",
    "Name: 1, dtype: int64"
   ]
  },
  {
   "cell_type": "markdown",
   "id": "4ee12b1d",
   "metadata": {},
   "source": [
    "nombre_infected        20\n",
    "nombre_sain         19947\n",
    "nombre_exposed         33\n",
    "nombre_recovered        0\n",
    "Name: 2, dtype: int64"
   ]
  },
  {
   "cell_type": "markdown",
   "id": "233741be",
   "metadata": {},
   "source": [
    "nombre_infected        24\n",
    "nombre_sain         19917\n",
    "nombre_exposed         59\n",
    "nombre_recovered        0\n",
    "Name: 3, dtype: int64"
   ]
  },
  {
   "cell_type": "markdown",
   "id": "93f01cde",
   "metadata": {},
   "source": [
    "nombre_infected        31\n",
    "nombre_sain         19883\n",
    "nombre_exposed         86\n",
    "nombre_recovered        0\n",
    "Name: 4, dtype: int64"
   ]
  },
  {
   "cell_type": "markdown",
   "id": "32e2f3e8",
   "metadata": {},
   "source": [
    "nombre_infected        29\n",
    "nombre_sain         19850\n",
    "nombre_exposed        104\n",
    "nombre_recovered       17\n",
    "Name: 5, dtype: int64"
   ]
  },
  {
   "cell_type": "markdown",
   "id": "ce46178c",
   "metadata": {},
   "source": [
    "nombre_infected        41\n",
    "nombre_sain         19821\n",
    "nombre_exposed        115\n",
    "nombre_recovered       23\n",
    "Name: 6, dtype: int64"
   ]
  },
  {
   "cell_type": "markdown",
   "id": "bf36e17d",
   "metadata": {},
   "source": [
    "nombre_infected        63\n",
    "nombre_sain         19748\n",
    "nombre_exposed        165\n",
    "nombre_recovered       24\n",
    "Name: 7, dtype: int64"
   ]
  },
  {
   "cell_type": "markdown",
   "id": "9084bdde",
   "metadata": {},
   "source": [
    "nombre_infected        88\n",
    "nombre_sain         19684\n",
    "nombre_exposed        199\n",
    "nombre_recovered       29\n",
    "Name: 8, dtype: int64"
   ]
  },
  {
   "cell_type": "markdown",
   "id": "47e5ebad",
   "metadata": {},
   "source": [
    "nombre_infected       125\n",
    "nombre_sain         19566\n",
    "nombre_exposed        274\n",
    "nombre_recovered       35\n",
    "Name: 9, dtype: int64"
   ]
  },
  {
   "cell_type": "markdown",
   "id": "5eae0e45",
   "metadata": {},
   "source": [
    "nombre_infected       148\n",
    "nombre_sain         19419\n",
    "nombre_exposed        387\n",
    "nombre_recovered       46\n",
    "Name: 10, dtype: int64"
   ]
  },
  {
   "cell_type": "markdown",
   "id": "0dfba8bb",
   "metadata": {},
   "source": [
    "nombre_infected       197\n",
    "nombre_sain         19231\n",
    "nombre_exposed        510\n",
    "nombre_recovered       62\n",
    "Name: 11, dtype: int64"
   ]
  },
  {
   "cell_type": "markdown",
   "id": "9bd97638",
   "metadata": {},
   "source": [
    "nombre_infected       276\n",
    "nombre_sain         18955\n",
    "nombre_exposed        696\n",
    "nombre_recovered       73\n",
    "Name: 12, dtype: int64"
   ]
  },
  {
   "cell_type": "markdown",
   "id": "ec28fdbb",
   "metadata": {},
   "source": [
    "nombre_infected       364\n",
    "nombre_sain         18575\n",
    "nombre_exposed        965\n",
    "nombre_recovered       96\n",
    "Name: 13, dtype: int64"
   ]
  },
  {
   "cell_type": "markdown",
   "id": "6dc122cc",
   "metadata": {},
   "source": [
    "nombre_infected       504\n",
    "nombre_sain         18110\n",
    "nombre_exposed       1262\n",
    "nombre_recovered      124\n",
    "Name: 14, dtype: int64"
   ]
  },
  {
   "cell_type": "markdown",
   "id": "0022a19b",
   "metadata": {},
   "source": [
    "nombre_infected       669\n",
    "nombre_sain         17495\n",
    "nombre_exposed       1668\n",
    "nombre_recovered      168\n",
    "Name: 15, dtype: int64"
   ]
  },
  {
   "cell_type": "markdown",
   "id": "31e55a22",
   "metadata": {},
   "source": [
    "nombre_infected       892\n",
    "nombre_sain         16637\n",
    "nombre_exposed       2240\n",
    "nombre_recovered      231\n",
    "Name: 16, dtype: int64"
   ]
  },
  {
   "cell_type": "markdown",
   "id": "f89b8cec",
   "metadata": {},
   "source": [
    "nombre_infected      1166\n",
    "nombre_sain         15645\n",
    "nombre_exposed       2886\n",
    "nombre_recovered      303\n",
    "Name: 17, dtype: int64"
   ]
  },
  {
   "cell_type": "markdown",
   "id": "3f1dc02b",
   "metadata": {},
   "source": [
    "nombre_infected      1590\n",
    "nombre_sain         14464\n",
    "nombre_exposed       3549\n",
    "nombre_recovered      397\n",
    "Name: 18, dtype: int64"
   ]
  },
  {
   "cell_type": "markdown",
   "id": "c0605b71",
   "metadata": {},
   "source": [
    "nombre_infected      2109\n",
    "nombre_sain         13093\n",
    "nombre_exposed       4284\n",
    "nombre_recovered      514\n",
    "Name: 19, dtype: int64"
   ]
  },
  {
   "cell_type": "markdown",
   "id": "7ad622aa",
   "metadata": {},
   "source": [
    "nombre_infected      2727\n",
    "nombre_sain         11331\n",
    "nombre_exposed       5269\n",
    "nombre_recovered      673\n",
    "Name: 20, dtype: int64"
   ]
  },
  {
   "cell_type": "markdown",
   "id": "40e01047",
   "metadata": {},
   "source": [
    "nombre_infected     3416\n",
    "nombre_sain         9579\n",
    "nombre_exposed      6094\n",
    "nombre_recovered     911\n",
    "Name: 21, dtype: int64"
   ]
  },
  {
   "cell_type": "markdown",
   "id": "fba94046",
   "metadata": {},
   "source": [
    "nombre_infected     4272\n",
    "nombre_sain         7742\n",
    "nombre_exposed      6774\n",
    "nombre_recovered    1212\n",
    "Name: 22, dtype: int64"
   ]
  },
  {
   "cell_type": "markdown",
   "id": "28427d87",
   "metadata": {},
   "source": [
    "nombre_infected     5232\n",
    "nombre_sain         6017\n",
    "nombre_exposed      7181\n",
    "nombre_recovered    1570\n",
    "Name: 23, dtype: int64"
   ]
  },
  {
   "cell_type": "markdown",
   "id": "19e49430",
   "metadata": {},
   "source": [
    "nombre_infected     6230\n",
    "nombre_sain         4520\n",
    "nombre_exposed      7235\n",
    "nombre_recovered    2015\n",
    "Name: 24, dtype: int64"
   ]
  },
  {
   "cell_type": "markdown",
   "id": "c058644b",
   "metadata": {},
   "source": [
    "nombre_infected     7244\n",
    "nombre_sain         3260\n",
    "nombre_exposed      6967\n",
    "nombre_recovered    2529\n",
    "Name: 25, dtype: int64"
   ]
  },
  {
   "cell_type": "markdown",
   "id": "8cfd08fe",
   "metadata": {},
   "source": [
    "nombre_infected     8083\n",
    "nombre_sain         2278\n",
    "nombre_exposed      6425\n",
    "nombre_recovered    3214\n",
    "Name: 26, dtype: int64"
   ]
  },
  {
   "cell_type": "markdown",
   "id": "5e47b77f",
   "metadata": {},
   "source": [
    "nombre_infected     8676\n",
    "nombre_sain         1597\n",
    "nombre_exposed      5712\n",
    "nombre_recovered    4015\n",
    "Name: 27, dtype: int64"
   ]
  },
  {
   "cell_type": "markdown",
   "id": "577703bd",
   "metadata": {},
   "source": [
    "nombre_infected     9105\n",
    "nombre_sain         1085\n",
    "nombre_exposed      4905\n",
    "nombre_recovered    4905\n",
    "Name: 28, dtype: int64"
   ]
  },
  {
   "cell_type": "markdown",
   "id": "bc60a1b1",
   "metadata": {},
   "source": [
    "nombre_infected     9386\n",
    "nombre_sain          742\n",
    "nombre_exposed      4036\n",
    "nombre_recovered    5836\n",
    "Name: 29, dtype: int64"
   ]
  },
  {
   "cell_type": "markdown",
   "id": "230cbe1e",
   "metadata": {},
   "source": [
    "nombre_infected     9292\n",
    "nombre_sain          492\n",
    "nombre_exposed      3365\n",
    "nombre_recovered    6851\n",
    "Name: 30, dtype: int64"
   ]
  },
  {
   "cell_type": "markdown",
   "id": "cef1328f",
   "metadata": {},
   "source": [
    "nombre_infected     8972\n",
    "nombre_sain          332\n",
    "nombre_exposed      2761\n",
    "nombre_recovered    7935\n",
    "Name: 31, dtype: int64"
   ]
  },
  {
   "cell_type": "markdown",
   "id": "029ed6ab",
   "metadata": {},
   "source": [
    "nombre_infected     8579\n",
    "nombre_sain          243\n",
    "nombre_exposed      2261\n",
    "nombre_recovered    8917\n",
    "Name: 32, dtype: int64"
   ]
  },
  {
   "cell_type": "markdown",
   "id": "f71c5b36",
   "metadata": {},
   "source": [
    "nombre_infected     8137\n",
    "nombre_sain          188\n",
    "nombre_exposed      1773\n",
    "nombre_recovered    9902\n",
    "Name: 33, dtype: int64"
   ]
  },
  {
   "cell_type": "markdown",
   "id": "4ddaced1",
   "metadata": {},
   "source": [
    "nombre_infected      7593\n",
    "nombre_sain           173\n",
    "nombre_exposed       1404\n",
    "nombre_recovered    10830\n",
    "Name: 34, dtype: int64"
   ]
  },
  {
   "cell_type": "markdown",
   "id": "615b28fd",
   "metadata": {},
   "source": [
    "nombre_infected      7020\n",
    "nombre_sain           157\n",
    "nombre_exposed       1105\n",
    "nombre_recovered    11718\n",
    "Name: 35, dtype: int64"
   ]
  },
  {
   "cell_type": "markdown",
   "id": "fcb5ba73",
   "metadata": {},
   "source": [
    "nombre_infected      6446\n",
    "nombre_sain           164\n",
    "nombre_exposed        900\n",
    "nombre_recovered    12490\n",
    "Name: 36, dtype: int64"
   ]
  },
  {
   "cell_type": "markdown",
   "id": "d74c2fa9",
   "metadata": {},
   "source": [
    "nombre_infected      5868\n",
    "nombre_sain           164\n",
    "nombre_exposed        740\n",
    "nombre_recovered    13228\n",
    "Name: 37, dtype: int64"
   ]
  },
  {
   "cell_type": "markdown",
   "id": "a44d3728",
   "metadata": {},
   "source": [
    "nombre_infected      5369\n",
    "nombre_sain           167\n",
    "nombre_exposed        611\n",
    "nombre_recovered    13853\n",
    "Name: 38, dtype: int64"
   ]
  },
  {
   "cell_type": "markdown",
   "id": "a4207afa",
   "metadata": {},
   "source": [
    "nombre_infected      4877\n",
    "nombre_sain           171\n",
    "nombre_exposed        513\n",
    "nombre_recovered    14439\n",
    "Name: 39, dtype: int64"
   ]
  },
  {
   "cell_type": "markdown",
   "id": "e0100df6",
   "metadata": {},
   "source": [
    "nombre_infected      4479\n",
    "nombre_sain           194\n",
    "nombre_exposed        440\n",
    "nombre_recovered    14887\n",
    "Name: 40, dtype: int64"
   ]
  },
  {
   "cell_type": "markdown",
   "id": "fb11df3a",
   "metadata": {},
   "source": [
    "nombre_infected      4068\n",
    "nombre_sain           188\n",
    "nombre_exposed        387\n",
    "nombre_recovered    15357\n",
    "Name: 41, dtype: int64"
   ]
  },
  {
   "cell_type": "markdown",
   "id": "476d2fe0",
   "metadata": {},
   "source": [
    "nombre_infected      3691\n",
    "nombre_sain           202\n",
    "nombre_exposed        334\n",
    "nombre_recovered    15773\n",
    "Name: 42, dtype: int64"
   ]
  },
  {
   "cell_type": "markdown",
   "id": "6603c9ed",
   "metadata": {},
   "source": [
    "nombre_infected      3319\n",
    "nombre_sain           188\n",
    "nombre_exposed        303\n",
    "nombre_recovered    16190\n",
    "Name: 43, dtype: int64"
   ]
  },
  {
   "cell_type": "markdown",
   "id": "2027a9d1",
   "metadata": {},
   "source": [
    "nombre_infected      2985\n",
    "nombre_sain           209\n",
    "nombre_exposed        258\n",
    "nombre_recovered    16548\n",
    "Name: 44, dtype: int64"
   ]
  },
  {
   "cell_type": "markdown",
   "id": "645e8bfe",
   "metadata": {},
   "source": [
    "nombre_infected      2685\n",
    "nombre_sain           210\n",
    "nombre_exposed        230\n",
    "nombre_recovered    16875\n",
    "Name: 45, dtype: int64"
   ]
  },
  {
   "cell_type": "markdown",
   "id": "170b7168",
   "metadata": {},
   "source": [
    "nombre_infected      2426\n",
    "nombre_sain           216\n",
    "nombre_exposed        199\n",
    "nombre_recovered    17159\n",
    "Name: 46, dtype: int64"
   ]
  },
  {
   "cell_type": "markdown",
   "id": "0f9be422",
   "metadata": {},
   "source": [
    "nombre_infected      2178\n",
    "nombre_sain           222\n",
    "nombre_exposed        172\n",
    "nombre_recovered    17428\n",
    "Name: 47, dtype: int64"
   ]
  },
  {
   "cell_type": "markdown",
   "id": "fc5ab8a8",
   "metadata": {},
   "source": [
    "nombre_infected      1928\n",
    "nombre_sain           249\n",
    "nombre_exposed        144\n",
    "nombre_recovered    17679\n",
    "Name: 48, dtype: int64"
   ]
  },
  {
   "cell_type": "markdown",
   "id": "42d47b6a",
   "metadata": {},
   "source": [
    "nombre_infected      1690\n",
    "nombre_sain           265\n",
    "nombre_exposed        133\n",
    "nombre_recovered    17912\n",
    "Name: 49, dtype: int64"
   ]
  },
  {
   "cell_type": "markdown",
   "id": "054d50ee",
   "metadata": {},
   "source": [
    "nombre_infected      1505\n",
    "nombre_sain           298\n",
    "nombre_exposed        109\n",
    "nombre_recovered    18088\n",
    "Name: 50, dtype: int64"
   ]
  },
  {
   "cell_type": "markdown",
   "id": "3a8eaf88",
   "metadata": {},
   "source": [
    "nombre_infected      1299\n",
    "nombre_sain           326\n",
    "nombre_exposed        110\n",
    "nombre_recovered    18265\n",
    "Name: 51, dtype: int64"
   ]
  },
  {
   "cell_type": "markdown",
   "id": "afe70b01",
   "metadata": {},
   "source": [
    "nombre_infected      1108\n",
    "nombre_sain           368\n",
    "nombre_exposed        107\n",
    "nombre_recovered    18417\n",
    "Name: 52, dtype: int64"
   ]
  },
  {
   "cell_type": "markdown",
   "id": "0ce9fa0a",
   "metadata": {},
   "source": [
    "nombre_infected       962\n",
    "nombre_sain           400\n",
    "nombre_exposed         99\n",
    "nombre_recovered    18539\n",
    "Name: 53, dtype: int64"
   ]
  },
  {
   "cell_type": "markdown",
   "id": "1e9ac6b6",
   "metadata": {},
   "source": [
    "nombre_infected       824\n",
    "nombre_sain           426\n",
    "nombre_exposed         93\n",
    "nombre_recovered    18657\n",
    "Name: 54, dtype: int64"
   ]
  },
  {
   "cell_type": "markdown",
   "id": "2649919a",
   "metadata": {},
   "source": [
    "nombre_infected       694\n",
    "nombre_sain           486\n",
    "nombre_exposed         91\n",
    "nombre_recovered    18729\n",
    "Name: 55, dtype: int64"
   ]
  },
  {
   "cell_type": "markdown",
   "id": "868d2a56",
   "metadata": {},
   "source": [
    "nombre_infected       571\n",
    "nombre_sain           525\n",
    "nombre_exposed         83\n",
    "nombre_recovered    18821\n",
    "Name: 56, dtype: int64"
   ]
  },
  {
   "cell_type": "markdown",
   "id": "557d9baf",
   "metadata": {},
   "source": [
    "nombre_infected       463\n",
    "nombre_sain           558\n",
    "nombre_exposed         77\n",
    "nombre_recovered    18902\n",
    "Name: 57, dtype: int64"
   ]
  },
  {
   "cell_type": "markdown",
   "id": "17acd053",
   "metadata": {},
   "source": [
    "nombre_infected       393\n",
    "nombre_sain           623\n",
    "nombre_exposed         69\n",
    "nombre_recovered    18915\n",
    "Name: 58, dtype: int64"
   ]
  },
  {
   "cell_type": "markdown",
   "id": "59cef9cb",
   "metadata": {},
   "source": [
    "nombre_infected       330\n",
    "nombre_sain           682\n",
    "nombre_exposed         64\n",
    "nombre_recovered    18924\n",
    "Name: 59, dtype: int64"
   ]
  },
  {
   "cell_type": "markdown",
   "id": "0064582f",
   "metadata": {},
   "source": [
    "nombre_infected       272\n",
    "nombre_sain           736\n",
    "nombre_exposed         66\n",
    "nombre_recovered    18926\n",
    "Name: 60, dtype: int64"
   ]
  },
  {
   "cell_type": "markdown",
   "id": "ccdacb63",
   "metadata": {},
   "source": [
    "nombre_infected       227\n",
    "nombre_sain           798\n",
    "nombre_exposed         52\n",
    "nombre_recovered    18923\n",
    "Name: 61, dtype: int64"
   ]
  },
  {
   "cell_type": "markdown",
   "id": "a74966b5",
   "metadata": {},
   "source": [
    "nombre_infected       198\n",
    "nombre_sain           863\n",
    "nombre_exposed         45\n",
    "nombre_recovered    18894\n",
    "Name: 62, dtype: int64"
   ]
  },
  {
   "cell_type": "markdown",
   "id": "62f02332",
   "metadata": {},
   "source": [
    "nombre_infected       173\n",
    "nombre_sain           941\n",
    "nombre_exposed         41\n",
    "nombre_recovered    18845\n",
    "Name: 63, dtype: int64"
   ]
  },
  {
   "cell_type": "markdown",
   "id": "94e11d2b",
   "metadata": {},
   "source": [
    "nombre_infected       144\n",
    "nombre_sain          1007\n",
    "nombre_exposed         39\n",
    "nombre_recovered    18810\n",
    "Name: 64, dtype: int64"
   ]
  },
  {
   "cell_type": "markdown",
   "id": "7bf0b52d",
   "metadata": {},
   "source": [
    "nombre_infected       111\n",
    "nombre_sain          1075\n",
    "nombre_exposed         36\n",
    "nombre_recovered    18778\n",
    "Name: 65, dtype: int64"
   ]
  },
  {
   "cell_type": "markdown",
   "id": "e149509b",
   "metadata": {},
   "source": [
    "nombre_infected       102\n",
    "nombre_sain          1133\n",
    "nombre_exposed         32\n",
    "nombre_recovered    18733\n",
    "Name: 66, dtype: int64"
   ]
  },
  {
   "cell_type": "markdown",
   "id": "9c47db12",
   "metadata": {},
   "source": [
    "nombre_infected        90\n",
    "nombre_sain          1192\n",
    "nombre_exposed         29\n",
    "nombre_recovered    18689\n",
    "Name: 67, dtype: int64"
   ]
  },
  {
   "cell_type": "markdown",
   "id": "d414bf1c",
   "metadata": {},
   "source": [
    "nombre_infected        86\n",
    "nombre_sain          1247\n",
    "nombre_exposed         26\n",
    "nombre_recovered    18641\n",
    "Name: 68, dtype: int64"
   ]
  },
  {
   "cell_type": "markdown",
   "id": "1f44ffa9",
   "metadata": {},
   "source": [
    "nombre_infected        72\n",
    "nombre_sain          1298\n",
    "nombre_exposed         30\n",
    "nombre_recovered    18600\n",
    "Name: 69, dtype: int64"
   ]
  },
  {
   "cell_type": "markdown",
   "id": "702b20e7",
   "metadata": {},
   "source": [
    "nombre_infected        63\n",
    "nombre_sain          1349\n",
    "nombre_exposed         25\n",
    "nombre_recovered    18563\n",
    "Name: 70, dtype: int64"
   ]
  },
  {
   "cell_type": "markdown",
   "id": "209c702b",
   "metadata": {},
   "source": [
    "nombre_infected        60\n",
    "nombre_sain          1436\n",
    "nombre_exposed         21\n",
    "nombre_recovered    18483\n",
    "Name: 71, dtype: int64"
   ]
  },
  {
   "cell_type": "markdown",
   "id": "39280a74",
   "metadata": {},
   "source": [
    "nombre_infected        52\n",
    "nombre_sain          1501\n",
    "nombre_exposed         19\n",
    "nombre_recovered    18428\n",
    "Name: 72, dtype: int64"
   ]
  },
  {
   "cell_type": "markdown",
   "id": "67d581ff",
   "metadata": {},
   "source": [
    "nombre_infected        43\n",
    "nombre_sain          1554\n",
    "nombre_exposed         11\n",
    "nombre_recovered    18392\n",
    "Name: 73, dtype: int64"
   ]
  },
  {
   "cell_type": "markdown",
   "id": "b2175cf3",
   "metadata": {},
   "source": [
    "nombre_infected        41\n",
    "nombre_sain          1623\n",
    "nombre_exposed          8\n",
    "nombre_recovered    18328\n",
    "Name: 74, dtype: int64"
   ]
  },
  {
   "cell_type": "markdown",
   "id": "e5c3550f",
   "metadata": {},
   "source": [
    "nombre_infected        32\n",
    "nombre_sain          1689\n",
    "nombre_exposed          8\n",
    "nombre_recovered    18271\n",
    "Name: 75, dtype: int64"
   ]
  },
  {
   "cell_type": "markdown",
   "id": "d1b78470",
   "metadata": {},
   "source": [
    "nombre_infected        30\n",
    "nombre_sain          1771\n",
    "nombre_exposed          6\n",
    "nombre_recovered    18193\n",
    "Name: 76, dtype: int64"
   ]
  },
  {
   "cell_type": "markdown",
   "id": "5a8b1fb3",
   "metadata": {},
   "source": [
    "nombre_infected        28\n",
    "nombre_sain          1829\n",
    "nombre_exposed         10\n",
    "nombre_recovered    18133\n",
    "Name: 77, dtype: int64"
   ]
  },
  {
   "cell_type": "markdown",
   "id": "0ac73df7",
   "metadata": {},
   "source": [
    "nombre_infected        28\n",
    "nombre_sain          1905\n",
    "nombre_exposed         11\n",
    "nombre_recovered    18056\n",
    "Name: 78, dtype: int64"
   ]
  },
  {
   "cell_type": "markdown",
   "id": "9e7604e8",
   "metadata": {},
   "source": [
    "nombre_infected        22\n",
    "nombre_sain          1972\n",
    "nombre_exposed         13\n",
    "nombre_recovered    17993\n",
    "Name: 79, dtype: int64"
   ]
  },
  {
   "cell_type": "markdown",
   "id": "99f1545c",
   "metadata": {},
   "source": [
    "nombre_infected        21\n",
    "nombre_sain          2034\n",
    "nombre_exposed         10\n",
    "nombre_recovered    17935\n",
    "Name: 80, dtype: int64"
   ]
  },
  {
   "cell_type": "markdown",
   "id": "6257148b",
   "metadata": {},
   "source": [
    "nombre_infected        19\n",
    "nombre_sain          2097\n",
    "nombre_exposed          8\n",
    "nombre_recovered    17876\n",
    "Name: 81, dtype: int64"
   ]
  },
  {
   "cell_type": "markdown",
   "id": "42e4f668",
   "metadata": {},
   "source": [
    "nombre_infected        24\n",
    "nombre_sain          2141\n",
    "nombre_exposed          6\n",
    "nombre_recovered    17829\n",
    "Name: 82, dtype: int64"
   ]
  },
  {
   "cell_type": "markdown",
   "id": "b788fa73",
   "metadata": {},
   "source": [
    "nombre_infected        20\n",
    "nombre_sain          2191\n",
    "nombre_exposed          7\n",
    "nombre_recovered    17782\n",
    "Name: 83, dtype: int64"
   ]
  },
  {
   "cell_type": "markdown",
   "id": "68ff42c6",
   "metadata": {},
   "source": [
    "nombre_infected        12\n",
    "nombre_sain          2228\n",
    "nombre_exposed         12\n",
    "nombre_recovered    17748\n",
    "Name: 84, dtype: int64"
   ]
  },
  {
   "cell_type": "markdown",
   "id": "d8686140",
   "metadata": {},
   "source": [
    "nombre_infected        11\n",
    "nombre_sain          2266\n",
    "nombre_exposed         13\n",
    "nombre_recovered    17710\n",
    "Name: 85, dtype: int64"
   ]
  },
  {
   "cell_type": "markdown",
   "id": "c5f32f01",
   "metadata": {},
   "source": [
    "nombre_infected        11\n",
    "nombre_sain          2306\n",
    "nombre_exposed          9\n",
    "nombre_recovered    17674\n",
    "Name: 86, dtype: int64"
   ]
  },
  {
   "cell_type": "markdown",
   "id": "adfac1a2",
   "metadata": {},
   "source": [
    "nombre_infected        15\n",
    "nombre_sain          2345\n",
    "nombre_exposed          7\n",
    "nombre_recovered    17633\n",
    "Name: 87, dtype: int64"
   ]
  },
  {
   "cell_type": "markdown",
   "id": "3806eb26",
   "metadata": {},
   "source": [
    "nombre_infected        16\n",
    "nombre_sain          2373\n",
    "nombre_exposed          8\n",
    "nombre_recovered    17603\n",
    "Name: 88, dtype: int64"
   ]
  },
  {
   "cell_type": "markdown",
   "id": "7c33bf9a",
   "metadata": {},
   "source": [
    "nombre_infected        15\n",
    "nombre_sain          2417\n",
    "nombre_exposed          7\n",
    "nombre_recovered    17561\n",
    "Name: 89, dtype: int64"
   ]
  },
  {
   "cell_type": "markdown",
   "id": "2c754149",
   "metadata": {},
   "source": [
    "nombre_infected        13\n",
    "nombre_sain          2460\n",
    "nombre_exposed          9\n",
    "nombre_recovered    17518\n",
    "Name: 90, dtype: int64"
   ]
  },
  {
   "cell_type": "markdown",
   "id": "5e24e4d2",
   "metadata": {},
   "source": [
    "nombre_infected         9\n",
    "nombre_sain          2505\n",
    "nombre_exposed          9\n",
    "nombre_recovered    17477\n",
    "Name: 91, dtype: int64"
   ]
  },
  {
   "cell_type": "markdown",
   "id": "88a3b535",
   "metadata": {},
   "source": [
    "nombre_infected        12\n",
    "nombre_sain          2541\n",
    "nombre_exposed          6\n",
    "nombre_recovered    17441\n",
    "Name: 92, dtype: int64"
   ]
  },
  {
   "cell_type": "markdown",
   "id": "39be3255",
   "metadata": {},
   "source": [
    "nombre_infected        11\n",
    "nombre_sain          2596\n",
    "nombre_exposed          8\n",
    "nombre_recovered    17385\n",
    "Name: 93, dtype: int64"
   ]
  },
  {
   "cell_type": "markdown",
   "id": "8382518c",
   "metadata": {},
   "source": [
    "nombre_infected        11\n",
    "nombre_sain          2641\n",
    "nombre_exposed         10\n",
    "nombre_recovered    17338\n",
    "Name: 94, dtype: int64"
   ]
  },
  {
   "cell_type": "markdown",
   "id": "0c4fdf0a",
   "metadata": {},
   "source": [
    "nombre_infected        13\n",
    "nombre_sain          2710\n",
    "nombre_exposed          9\n",
    "nombre_recovered    17268\n",
    "Name: 95, dtype: int64"
   ]
  },
  {
   "cell_type": "markdown",
   "id": "8012cb7c",
   "metadata": {},
   "source": [
    "nombre_infected         9\n",
    "nombre_sain          2762\n",
    "nombre_exposed         10\n",
    "nombre_recovered    17219\n",
    "Name: 96, dtype: int64"
   ]
  },
  {
   "cell_type": "markdown",
   "id": "9dddf98c",
   "metadata": {},
   "source": [
    "nombre_infected         9\n",
    "nombre_sain          2817\n",
    "nombre_exposed          9\n",
    "nombre_recovered    17165\n",
    "Name: 97, dtype: int64"
   ]
  },
  {
   "cell_type": "markdown",
   "id": "c01f2cf4",
   "metadata": {},
   "source": [
    "nombre_infected        10\n",
    "nombre_sain          2858\n",
    "nombre_exposed          8\n",
    "nombre_recovered    17124\n",
    "Name: 98, dtype: int64"
   ]
  },
  {
   "cell_type": "markdown",
   "id": "e48af081",
   "metadata": {},
   "source": [
    "nombre_infected        13\n",
    "nombre_sain          2919\n",
    "nombre_exposed          9\n",
    "nombre_recovered    17059\n",
    "Name: 99, dtype: int64"
   ]
  },
  {
   "cell_type": "markdown",
   "id": "6072aa5f",
   "metadata": {},
   "source": [
    "nombre_infected        13\n",
    "nombre_sain          2954\n",
    "nombre_exposed          9\n",
    "nombre_recovered    17024\n",
    "Name: 100, dtype: int64"
   ]
  },
  {
   "cell_type": "markdown",
   "id": "1d9e4bff",
   "metadata": {},
   "source": [
    "nombre_infected        12\n",
    "nombre_sain          3008\n",
    "nombre_exposed         12\n",
    "nombre_recovered    16968\n",
    "Name: 101, dtype: int64"
   ]
  },
  {
   "cell_type": "markdown",
   "id": "19b1f9c9",
   "metadata": {},
   "source": [
    "nombre_infected        12\n",
    "nombre_sain          3049\n",
    "nombre_exposed         12\n",
    "nombre_recovered    16927\n",
    "Name: 102, dtype: int64"
   ]
  },
  {
   "cell_type": "markdown",
   "id": "502314c4",
   "metadata": {},
   "source": [
    "nombre_infected        14\n",
    "nombre_sain          3112\n",
    "nombre_exposed         12\n",
    "nombre_recovered    16862\n",
    "Name: 103, dtype: int64"
   ]
  },
  {
   "cell_type": "markdown",
   "id": "b573a3c9",
   "metadata": {},
   "source": [
    "nombre_infected        16\n",
    "nombre_sain          3155\n",
    "nombre_exposed         14\n",
    "nombre_recovered    16815\n",
    "Name: 104, dtype: int64"
   ]
  },
  {
   "cell_type": "markdown",
   "id": "bc1373f7",
   "metadata": {},
   "source": [
    "nombre_infected        15\n",
    "nombre_sain          3192\n",
    "nombre_exposed         15\n",
    "nombre_recovered    16778\n",
    "Name: 105, dtype: int64"
   ]
  },
  {
   "cell_type": "markdown",
   "id": "e1707f49",
   "metadata": {},
   "source": [
    "nombre_infected        12\n",
    "nombre_sain          3235\n",
    "nombre_exposed         17\n",
    "nombre_recovered    16736\n",
    "Name: 106, dtype: int64"
   ]
  },
  {
   "cell_type": "markdown",
   "id": "eef5d724",
   "metadata": {},
   "source": [
    "nombre_infected        13\n",
    "nombre_sain          3262\n",
    "nombre_exposed         22\n",
    "nombre_recovered    16703\n",
    "Name: 107, dtype: int64"
   ]
  },
  {
   "cell_type": "markdown",
   "id": "942d20a3",
   "metadata": {},
   "source": [
    "nombre_infected        13\n",
    "nombre_sain          3297\n",
    "nombre_exposed         25\n",
    "nombre_recovered    16665\n",
    "Name: 108, dtype: int64"
   ]
  },
  {
   "cell_type": "markdown",
   "id": "7f62253e",
   "metadata": {},
   "source": [
    "nombre_infected        14\n",
    "nombre_sain          3329\n",
    "nombre_exposed         23\n",
    "nombre_recovered    16634\n",
    "Name: 109, dtype: int64"
   ]
  },
  {
   "cell_type": "markdown",
   "id": "4dfb9154",
   "metadata": {},
   "source": [
    "nombre_infected        19\n",
    "nombre_sain          3357\n",
    "nombre_exposed         18\n",
    "nombre_recovered    16606\n",
    "Name: 110, dtype: int64"
   ]
  },
  {
   "cell_type": "markdown",
   "id": "2850c931",
   "metadata": {},
   "source": [
    "nombre_infected        21\n",
    "nombre_sain          3383\n",
    "nombre_exposed         14\n",
    "nombre_recovered    16582\n",
    "Name: 111, dtype: int64"
   ]
  },
  {
   "cell_type": "markdown",
   "id": "e982e1f7",
   "metadata": {},
   "source": [
    "nombre_infected        23\n",
    "nombre_sain          3405\n",
    "nombre_exposed         16\n",
    "nombre_recovered    16556\n",
    "Name: 112, dtype: int64"
   ]
  },
  {
   "cell_type": "markdown",
   "id": "2dc7971d",
   "metadata": {},
   "source": [
    "nombre_infected        24\n",
    "nombre_sain          3427\n",
    "nombre_exposed         17\n",
    "nombre_recovered    16532\n",
    "Name: 113, dtype: int64"
   ]
  },
  {
   "cell_type": "markdown",
   "id": "aaea0b0c",
   "metadata": {},
   "source": [
    "nombre_infected        24\n",
    "nombre_sain          3447\n",
    "nombre_exposed         18\n",
    "nombre_recovered    16511\n",
    "Name: 114, dtype: int64"
   ]
  },
  {
   "cell_type": "markdown",
   "id": "a3adff6f",
   "metadata": {},
   "source": [
    "nombre_infected        22\n",
    "nombre_sain          3460\n",
    "nombre_exposed         21\n",
    "nombre_recovered    16497\n",
    "Name: 115, dtype: int64"
   ]
  },
  {
   "cell_type": "markdown",
   "id": "3f65fdba",
   "metadata": {},
   "source": [
    "nombre_infected        23\n",
    "nombre_sain          3473\n",
    "nombre_exposed         27\n",
    "nombre_recovered    16477\n",
    "Name: 116, dtype: int64"
   ]
  },
  {
   "cell_type": "markdown",
   "id": "1c36681e",
   "metadata": {},
   "source": [
    "nombre_infected        23\n",
    "nombre_sain          3507\n",
    "nombre_exposed         26\n",
    "nombre_recovered    16444\n",
    "Name: 117, dtype: int64"
   ]
  },
  {
   "cell_type": "markdown",
   "id": "9fa28aa9",
   "metadata": {},
   "source": [
    "nombre_infected        23\n",
    "nombre_sain          3547\n",
    "nombre_exposed         29\n",
    "nombre_recovered    16401\n",
    "Name: 118, dtype: int64"
   ]
  },
  {
   "cell_type": "markdown",
   "id": "017f9c5e",
   "metadata": {},
   "source": [
    "nombre_infected        25\n",
    "nombre_sain          3571\n",
    "nombre_exposed         35\n",
    "nombre_recovered    16369\n",
    "Name: 119, dtype: int64"
   ]
  },
  {
   "cell_type": "markdown",
   "id": "3d96295c",
   "metadata": {},
   "source": [
    "nombre_infected        31\n",
    "nombre_sain          3605\n",
    "nombre_exposed         32\n",
    "nombre_recovered    16332\n",
    "Name: 120, dtype: int64"
   ]
  },
  {
   "cell_type": "markdown",
   "id": "dd755e60",
   "metadata": {},
   "source": [
    "nombre_infected        34\n",
    "nombre_sain          3633\n",
    "nombre_exposed         41\n",
    "nombre_recovered    16292\n",
    "Name: 121, dtype: int64"
   ]
  },
  {
   "cell_type": "markdown",
   "id": "cf853186",
   "metadata": {},
   "source": [
    "nombre_infected        36\n",
    "nombre_sain          3660\n",
    "nombre_exposed         42\n",
    "nombre_recovered    16262\n",
    "Name: 122, dtype: int64"
   ]
  },
  {
   "cell_type": "markdown",
   "id": "7cad0d35",
   "metadata": {},
   "source": [
    "nombre_infected        44\n",
    "nombre_sain          3699\n",
    "nombre_exposed         38\n",
    "nombre_recovered    16219\n",
    "Name: 123, dtype: int64"
   ]
  },
  {
   "cell_type": "markdown",
   "id": "d3b78979",
   "metadata": {},
   "source": [
    "nombre_infected        44\n",
    "nombre_sain          3726\n",
    "nombre_exposed         40\n",
    "nombre_recovered    16190\n",
    "Name: 124, dtype: int64"
   ]
  },
  {
   "cell_type": "markdown",
   "id": "7a5b6cf0",
   "metadata": {},
   "source": [
    "nombre_infected        40\n",
    "nombre_sain          3761\n",
    "nombre_exposed         41\n",
    "nombre_recovered    16158\n",
    "Name: 125, dtype: int64"
   ]
  },
  {
   "cell_type": "markdown",
   "id": "71f650e8",
   "metadata": {},
   "source": [
    "nombre_infected        43\n",
    "nombre_sain          3805\n",
    "nombre_exposed         39\n",
    "nombre_recovered    16113\n",
    "Name: 126, dtype: int64"
   ]
  },
  {
   "cell_type": "markdown",
   "id": "4d2eaffc",
   "metadata": {},
   "source": [
    "nombre_infected        50\n",
    "nombre_sain          3841\n",
    "nombre_exposed         41\n",
    "nombre_recovered    16068\n",
    "Name: 127, dtype: int64"
   ]
  },
  {
   "cell_type": "markdown",
   "id": "c29d7d2f",
   "metadata": {},
   "source": [
    "nombre_infected        49\n",
    "nombre_sain          3887\n",
    "nombre_exposed         44\n",
    "nombre_recovered    16020\n",
    "Name: 128, dtype: int64"
   ]
  },
  {
   "cell_type": "markdown",
   "id": "31bf49ed",
   "metadata": {},
   "source": [
    "nombre_infected        53\n",
    "nombre_sain          3923\n",
    "nombre_exposed         50\n",
    "nombre_recovered    15974\n",
    "Name: 129, dtype: int64"
   ]
  },
  {
   "cell_type": "markdown",
   "id": "31caeb18",
   "metadata": {},
   "source": [
    "nombre_infected        54\n",
    "nombre_sain          3967\n",
    "nombre_exposed         53\n",
    "nombre_recovered    15926\n",
    "Name: 130, dtype: int64"
   ]
  },
  {
   "cell_type": "markdown",
   "id": "b467d6d6",
   "metadata": {},
   "source": [
    "nombre_infected        56\n",
    "nombre_sain          3986\n",
    "nombre_exposed         59\n",
    "nombre_recovered    15899\n",
    "Name: 131, dtype: int64"
   ]
  },
  {
   "cell_type": "markdown",
   "id": "a3288451",
   "metadata": {},
   "source": [
    "nombre_infected        59\n",
    "nombre_sain          4017\n",
    "nombre_exposed         63\n",
    "nombre_recovered    15861\n",
    "Name: 132, dtype: int64"
   ]
  },
  {
   "cell_type": "markdown",
   "id": "415517c4",
   "metadata": {},
   "source": [
    "nombre_infected        67\n",
    "nombre_sain          4048\n",
    "nombre_exposed         58\n",
    "nombre_recovered    15827\n",
    "Name: 133, dtype: int64"
   ]
  },
  {
   "cell_type": "markdown",
   "id": "0913e1e3",
   "metadata": {},
   "source": [
    "nombre_infected        75\n",
    "nombre_sain          4066\n",
    "nombre_exposed         66\n",
    "nombre_recovered    15793\n",
    "Name: 134, dtype: int64"
   ]
  },
  {
   "cell_type": "markdown",
   "id": "9acdd147",
   "metadata": {},
   "source": [
    "nombre_infected        79\n",
    "nombre_sain          4085\n",
    "nombre_exposed         73\n",
    "nombre_recovered    15763\n",
    "Name: 135, dtype: int64"
   ]
  },
  {
   "cell_type": "markdown",
   "id": "0d859db7",
   "metadata": {},
   "source": [
    "nombre_infected        83\n",
    "nombre_sain          4115\n",
    "nombre_exposed         77\n",
    "nombre_recovered    15725\n",
    "Name: 136, dtype: int64"
   ]
  },
  {
   "cell_type": "markdown",
   "id": "ccf7773a",
   "metadata": {},
   "source": [
    "nombre_infected        93\n",
    "nombre_sain          4144\n",
    "nombre_exposed         79\n",
    "nombre_recovered    15684\n",
    "Name: 137, dtype: int64"
   ]
  },
  {
   "cell_type": "markdown",
   "id": "da234f69",
   "metadata": {},
   "source": [
    "nombre_infected        90\n",
    "nombre_sain          4177\n",
    "nombre_exposed         92\n",
    "nombre_recovered    15641\n",
    "Name: 138, dtype: int64"
   ]
  },
  {
   "cell_type": "markdown",
   "id": "efa2d35c",
   "metadata": {},
   "source": [
    "nombre_infected        94\n",
    "nombre_sain          4196\n",
    "nombre_exposed         95\n",
    "nombre_recovered    15615\n",
    "Name: 139, dtype: int64"
   ]
  },
  {
   "cell_type": "markdown",
   "id": "7fddd48e",
   "metadata": {},
   "source": [
    "nombre_infected       107\n",
    "nombre_sain          4221\n",
    "nombre_exposed        100\n",
    "nombre_recovered    15572\n",
    "Name: 140, dtype: int64"
   ]
  },
  {
   "cell_type": "markdown",
   "id": "256588e2",
   "metadata": {},
   "source": [
    "nombre_infected       109\n",
    "nombre_sain          4243\n",
    "nombre_exposed        118\n",
    "nombre_recovered    15530\n",
    "Name: 141, dtype: int64"
   ]
  },
  {
   "cell_type": "markdown",
   "id": "3a79573e",
   "metadata": {},
   "source": [
    "nombre_infected       114\n",
    "nombre_sain          4260\n",
    "nombre_exposed        135\n",
    "nombre_recovered    15491\n",
    "Name: 142, dtype: int64"
   ]
  },
  {
   "cell_type": "markdown",
   "id": "81686710",
   "metadata": {},
   "source": [
    "nombre_infected       128\n",
    "nombre_sain          4304\n",
    "nombre_exposed        125\n",
    "nombre_recovered    15443\n",
    "Name: 143, dtype: int64"
   ]
  },
  {
   "cell_type": "markdown",
   "id": "7324b3f4",
   "metadata": {},
   "source": [
    "nombre_infected       141\n",
    "nombre_sain          4315\n",
    "nombre_exposed        133\n",
    "nombre_recovered    15411\n",
    "Name: 144, dtype: int64"
   ]
  },
  {
   "cell_type": "markdown",
   "id": "a435b980",
   "metadata": {},
   "source": [
    "nombre_infected       152\n",
    "nombre_sain          4340\n",
    "nombre_exposed        131\n",
    "nombre_recovered    15377\n",
    "Name: 145, dtype: int64"
   ]
  },
  {
   "cell_type": "markdown",
   "id": "5545ee5e",
   "metadata": {},
   "source": [
    "nombre_infected       158\n",
    "nombre_sain          4356\n",
    "nombre_exposed        141\n",
    "nombre_recovered    15345\n",
    "Name: 146, dtype: int64"
   ]
  },
  {
   "cell_type": "markdown",
   "id": "19191ea1",
   "metadata": {},
   "source": [
    "nombre_infected       168\n",
    "nombre_sain          4366\n",
    "nombre_exposed        157\n",
    "nombre_recovered    15309\n",
    "Name: 147, dtype: int64"
   ]
  },
  {
   "cell_type": "markdown",
   "id": "d1d52599",
   "metadata": {},
   "source": [
    "nombre_infected       176\n",
    "nombre_sain          4379\n",
    "nombre_exposed        172\n",
    "nombre_recovered    15273\n",
    "Name: 148, dtype: int64"
   ]
  },
  {
   "cell_type": "markdown",
   "id": "97090e77",
   "metadata": {},
   "source": [
    "nombre_infected       196\n",
    "nombre_sain          4374\n",
    "nombre_exposed        188\n",
    "nombre_recovered    15242\n",
    "Name: 149, dtype: int64"
   ]
  },
  {
   "cell_type": "markdown",
   "id": "7c954d56",
   "metadata": {},
   "source": [
    "nombre_infected       214\n",
    "nombre_sain          4380\n",
    "nombre_exposed        198\n",
    "nombre_recovered    15208\n",
    "Name: 150, dtype: int64"
   ]
  },
  {
   "cell_type": "markdown",
   "id": "530d2a55",
   "metadata": {},
   "source": [
    "nombre_infected       221\n",
    "nombre_sain          4361\n",
    "nombre_exposed        235\n",
    "nombre_recovered    15183\n",
    "Name: 151, dtype: int64"
   ]
  },
  {
   "cell_type": "markdown",
   "id": "65d23ac4",
   "metadata": {},
   "source": [
    "nombre_infected       249\n",
    "nombre_sain          4367\n",
    "nombre_exposed        227\n",
    "nombre_recovered    15157\n",
    "Name: 152, dtype: int64"
   ]
  },
  {
   "cell_type": "markdown",
   "id": "54bce475",
   "metadata": {},
   "source": [
    "nombre_infected       271\n",
    "nombre_sain          4359\n",
    "nombre_exposed        231\n",
    "nombre_recovered    15139\n",
    "Name: 153, dtype: int64"
   ]
  },
  {
   "cell_type": "markdown",
   "id": "b0430619",
   "metadata": {},
   "source": [
    "nombre_infected       283\n",
    "nombre_sain          4333\n",
    "nombre_exposed        256\n",
    "nombre_recovered    15128\n",
    "Name: 154, dtype: int64"
   ]
  },
  {
   "cell_type": "markdown",
   "id": "a2d9ab06",
   "metadata": {},
   "source": [
    "nombre_infected       308\n",
    "nombre_sain          4285\n",
    "nombre_exposed        279\n",
    "nombre_recovered    15128\n",
    "Name: 155, dtype: int64"
   ]
  },
  {
   "cell_type": "markdown",
   "id": "a3ff71b2",
   "metadata": {},
   "source": [
    "nombre_infected       329\n",
    "nombre_sain          4237\n",
    "nombre_exposed        304\n",
    "nombre_recovered    15130\n",
    "Name: 156, dtype: int64"
   ]
  },
  {
   "cell_type": "markdown",
   "id": "23a04f15",
   "metadata": {},
   "source": [
    "nombre_infected       339\n",
    "nombre_sain          4189\n",
    "nombre_exposed        327\n",
    "nombre_recovered    15145\n",
    "Name: 157, dtype: int64"
   ]
  },
  {
   "cell_type": "markdown",
   "id": "020ee514",
   "metadata": {},
   "source": [
    "nombre_infected       370\n",
    "nombre_sain          4118\n",
    "nombre_exposed        364\n",
    "nombre_recovered    15148\n",
    "Name: 158, dtype: int64"
   ]
  },
  {
   "cell_type": "markdown",
   "id": "f0b613fc",
   "metadata": {},
   "source": [
    "nombre_infected       388\n",
    "nombre_sain          4053\n",
    "nombre_exposed        381\n",
    "nombre_recovered    15178\n",
    "Name: 159, dtype: int64"
   ]
  },
  {
   "cell_type": "markdown",
   "id": "64c7da07",
   "metadata": {},
   "source": [
    "nombre_infected       428\n",
    "nombre_sain          3970\n",
    "nombre_exposed        402\n",
    "nombre_recovered    15200\n",
    "Name: 160, dtype: int64"
   ]
  },
  {
   "cell_type": "markdown",
   "id": "f0035742",
   "metadata": {},
   "source": [
    "nombre_infected       470\n",
    "nombre_sain          3908\n",
    "nombre_exposed        400\n",
    "nombre_recovered    15222\n",
    "Name: 161, dtype: int64"
   ]
  },
  {
   "cell_type": "markdown",
   "id": "104eb576",
   "metadata": {},
   "source": [
    "nombre_infected       501\n",
    "nombre_sain          3799\n",
    "nombre_exposed        440\n",
    "nombre_recovered    15260\n",
    "Name: 162, dtype: int64"
   ]
  },
  {
   "cell_type": "markdown",
   "id": "38f63b3c",
   "metadata": {},
   "source": [
    "nombre_infected       551\n",
    "nombre_sain          3681\n",
    "nombre_exposed        481\n",
    "nombre_recovered    15287\n",
    "Name: 163, dtype: int64"
   ]
  },
  {
   "cell_type": "markdown",
   "id": "e01cea79",
   "metadata": {},
   "source": [
    "nombre_infected       566\n",
    "nombre_sain          3571\n",
    "nombre_exposed        544\n",
    "nombre_recovered    15319\n",
    "Name: 164, dtype: int64"
   ]
  },
  {
   "cell_type": "markdown",
   "id": "cc5eeeff",
   "metadata": {},
   "source": [
    "nombre_infected       606\n",
    "nombre_sain          3503\n",
    "nombre_exposed        543\n",
    "nombre_recovered    15348\n",
    "Name: 165, dtype: int64"
   ]
  },
  {
   "cell_type": "markdown",
   "id": "d9b0d040",
   "metadata": {},
   "source": [
    "nombre_infected       641\n",
    "nombre_sain          3414\n",
    "nombre_exposed        569\n",
    "nombre_recovered    15376\n",
    "Name: 166, dtype: int64"
   ]
  },
  {
   "cell_type": "markdown",
   "id": "78415651",
   "metadata": {},
   "source": [
    "nombre_infected       684\n",
    "nombre_sain          3310\n",
    "nombre_exposed        607\n",
    "nombre_recovered    15399\n",
    "Name: 167, dtype: int64"
   ]
  },
  {
   "cell_type": "markdown",
   "id": "40ed89dd",
   "metadata": {},
   "source": [
    "nombre_infected       736\n",
    "nombre_sain          3191\n",
    "nombre_exposed        647\n",
    "nombre_recovered    15426\n",
    "Name: 168, dtype: int64"
   ]
  },
  {
   "cell_type": "markdown",
   "id": "6ef3b265",
   "metadata": {},
   "source": [
    "nombre_infected       785\n",
    "nombre_sain          3097\n",
    "nombre_exposed        663\n",
    "nombre_recovered    15455\n",
    "Name: 169, dtype: int64"
   ]
  },
  {
   "cell_type": "markdown",
   "id": "ded40a77",
   "metadata": {},
   "source": [
    "nombre_infected       845\n",
    "nombre_sain          2996\n",
    "nombre_exposed        661\n",
    "nombre_recovered    15498\n",
    "Name: 170, dtype: int64"
   ]
  },
  {
   "cell_type": "markdown",
   "id": "c1fbbd88",
   "metadata": {},
   "source": [
    "nombre_infected       885\n",
    "nombre_sain          2906\n",
    "nombre_exposed        670\n",
    "nombre_recovered    15539\n",
    "Name: 171, dtype: int64"
   ]
  },
  {
   "cell_type": "markdown",
   "id": "2dd8f450",
   "metadata": {},
   "source": [
    "nombre_infected       903\n",
    "nombre_sain          2823\n",
    "nombre_exposed        699\n",
    "nombre_recovered    15575\n",
    "Name: 172, dtype: int64"
   ]
  },
  {
   "cell_type": "markdown",
   "id": "da9a0bcf",
   "metadata": {},
   "source": [
    "nombre_infected       954\n",
    "nombre_sain          2702\n",
    "nombre_exposed        720\n",
    "nombre_recovered    15624\n",
    "Name: 173, dtype: int64"
   ]
  },
  {
   "cell_type": "markdown",
   "id": "4137b4a3",
   "metadata": {},
   "source": [
    "nombre_infected       982\n",
    "nombre_sain          2640\n",
    "nombre_exposed        714\n",
    "nombre_recovered    15664\n",
    "Name: 174, dtype: int64"
   ]
  },
  {
   "cell_type": "markdown",
   "id": "78d91626",
   "metadata": {},
   "source": [
    "nombre_infected      1036\n",
    "nombre_sain          2553\n",
    "nombre_exposed        713\n",
    "nombre_recovered    15698\n",
    "Name: 175, dtype: int64"
   ]
  },
  {
   "cell_type": "markdown",
   "id": "bfdda657",
   "metadata": {},
   "source": [
    "nombre_infected      1052\n",
    "nombre_sain          2450\n",
    "nombre_exposed        736\n",
    "nombre_recovered    15762\n",
    "Name: 176, dtype: int64"
   ]
  },
  {
   "cell_type": "markdown",
   "id": "e742f29e",
   "metadata": {},
   "source": [
    "nombre_infected      1067\n",
    "nombre_sain          2345\n",
    "nombre_exposed        774\n",
    "nombre_recovered    15814\n",
    "Name: 177, dtype: int64"
   ]
  },
  {
   "cell_type": "markdown",
   "id": "29cd1726",
   "metadata": {},
   "source": [
    "nombre_infected      1080\n",
    "nombre_sain          2233\n",
    "nombre_exposed        801\n",
    "nombre_recovered    15886\n",
    "Name: 178, dtype: int64"
   ]
  },
  {
   "cell_type": "markdown",
   "id": "58ba9adf",
   "metadata": {},
   "source": [
    "nombre_infected      1115\n",
    "nombre_sain          2158\n",
    "nombre_exposed        773\n",
    "nombre_recovered    15954\n",
    "Name: 179, dtype: int64"
   ]
  },
  {
   "cell_type": "markdown",
   "id": "ce722d99",
   "metadata": {},
   "source": [
    "nombre_infected      1162\n",
    "nombre_sain          2084\n",
    "nombre_exposed        758\n",
    "nombre_recovered    15996\n",
    "Name: 180, dtype: int64"
   ]
  },
  {
   "cell_type": "markdown",
   "id": "2eba6fb9",
   "metadata": {},
   "source": [
    "nombre_infected      1211\n",
    "nombre_sain          1993\n",
    "nombre_exposed        731\n",
    "nombre_recovered    16065\n",
    "Name: 181, dtype: int64"
   ]
  },
  {
   "cell_type": "markdown",
   "id": "e969c8ad",
   "metadata": {},
   "source": [
    "nombre_infected      1233\n",
    "nombre_sain          1920\n",
    "nombre_exposed        724\n",
    "nombre_recovered    16123\n",
    "Name: 182, dtype: int64"
   ]
  },
  {
   "cell_type": "markdown",
   "id": "de1d1175",
   "metadata": {},
   "source": [
    "nombre_infected      1237\n",
    "nombre_sain          1857\n",
    "nombre_exposed        710\n",
    "nombre_recovered    16196\n",
    "Name: 183, dtype: int64"
   ]
  },
  {
   "cell_type": "markdown",
   "id": "4adf5761",
   "metadata": {},
   "source": [
    "nombre_infected      1234\n",
    "nombre_sain          1783\n",
    "nombre_exposed        708\n",
    "nombre_recovered    16275\n",
    "Name: 184, dtype: int64"
   ]
  },
  {
   "cell_type": "markdown",
   "id": "a7af8a9e",
   "metadata": {},
   "source": [
    "nombre_infected      1239\n",
    "nombre_sain          1674\n",
    "nombre_exposed        706\n",
    "nombre_recovered    16381\n",
    "Name: 185, dtype: int64"
   ]
  },
  {
   "cell_type": "markdown",
   "id": "1654ff7f",
   "metadata": {},
   "source": [
    "nombre_infected      1255\n",
    "nombre_sain          1613\n",
    "nombre_exposed        689\n",
    "nombre_recovered    16443\n",
    "Name: 186, dtype: int64"
   ]
  },
  {
   "cell_type": "markdown",
   "id": "6f8945d1",
   "metadata": {},
   "source": [
    "nombre_infected      1271\n",
    "nombre_sain          1575\n",
    "nombre_exposed        633\n",
    "nombre_recovered    16521\n",
    "Name: 187, dtype: int64"
   ]
  },
  {
   "cell_type": "markdown",
   "id": "7807332c",
   "metadata": {},
   "source": [
    "nombre_infected      1288\n",
    "nombre_sain          1517\n",
    "nombre_exposed        581\n",
    "nombre_recovered    16614\n",
    "Name: 188, dtype: int64"
   ]
  },
  {
   "cell_type": "markdown",
   "id": "087446aa",
   "metadata": {},
   "source": [
    "nombre_infected      1259\n",
    "nombre_sain          1470\n",
    "nombre_exposed        594\n",
    "nombre_recovered    16677\n",
    "Name: 189, dtype: int64"
   ]
  },
  {
   "cell_type": "markdown",
   "id": "10c76a85",
   "metadata": {},
   "source": [
    "nombre_infected      1260\n",
    "nombre_sain          1404\n",
    "nombre_exposed        595\n",
    "nombre_recovered    16741\n",
    "Name: 190, dtype: int64"
   ]
  },
  {
   "cell_type": "markdown",
   "id": "95cf6e4f",
   "metadata": {},
   "source": [
    "nombre_infected      1245\n",
    "nombre_sain          1379\n",
    "nombre_exposed        544\n",
    "nombre_recovered    16832\n",
    "Name: 191, dtype: int64"
   ]
  },
  {
   "cell_type": "markdown",
   "id": "4f64adc0",
   "metadata": {},
   "source": [
    "nombre_infected      1198\n",
    "nombre_sain          1351\n",
    "nombre_exposed        518\n",
    "nombre_recovered    16933\n",
    "Name: 192, dtype: int64"
   ]
  },
  {
   "cell_type": "markdown",
   "id": "37ab8dc4",
   "metadata": {},
   "source": [
    "nombre_infected      1139\n",
    "nombre_sain          1329\n",
    "nombre_exposed        532\n",
    "nombre_recovered    17000\n",
    "Name: 193, dtype: int64"
   ]
  },
  {
   "cell_type": "markdown",
   "id": "97e9350d",
   "metadata": {},
   "source": [
    "nombre_infected      1118\n",
    "nombre_sain          1324\n",
    "nombre_exposed        507\n",
    "nombre_recovered    17051\n",
    "Name: 194, dtype: int64"
   ]
  },
  {
   "cell_type": "markdown",
   "id": "bb186b2e",
   "metadata": {},
   "source": [
    "nombre_infected      1086\n",
    "nombre_sain          1333\n",
    "nombre_exposed        464\n",
    "nombre_recovered    17117\n",
    "Name: 195, dtype: int64"
   ]
  },
  {
   "cell_type": "markdown",
   "id": "40058c88",
   "metadata": {},
   "source": [
    "nombre_infected      1094\n",
    "nombre_sain          1304\n",
    "nombre_exposed        426\n",
    "nombre_recovered    17176\n",
    "Name: 196, dtype: int64"
   ]
  },
  {
   "cell_type": "markdown",
   "id": "a64a2752",
   "metadata": {},
   "source": [
    "nombre_infected      1080\n",
    "nombre_sain          1317\n",
    "nombre_exposed        407\n",
    "nombre_recovered    17196\n",
    "Name: 197, dtype: int64"
   ]
  },
  {
   "cell_type": "markdown",
   "id": "df150341",
   "metadata": {},
   "source": [
    "nombre_infected      1044\n",
    "nombre_sain          1330\n",
    "nombre_exposed        395\n",
    "nombre_recovered    17231\n",
    "Name: 198, dtype: int64"
   ]
  },
  {
   "cell_type": "markdown",
   "id": "dc6d9e6f",
   "metadata": {},
   "source": [
    "nombre_infected      1010\n",
    "nombre_sain          1340\n",
    "nombre_exposed        382\n",
    "nombre_recovered    17268\n",
    "Name: 199, dtype: int64"
   ]
  },
  {
   "cell_type": "markdown",
   "id": "6a878acd",
   "metadata": {},
   "source": [
    "nombre_infected       977\n",
    "nombre_sain          1347\n",
    "nombre_exposed        376\n",
    "nombre_recovered    17300\n",
    "Name: 200, dtype: int64"
   ]
  },
  {
   "cell_type": "markdown",
   "id": "3be6a602",
   "metadata": {},
   "source": [
    "nombre_infected       924\n",
    "nombre_sain          1358\n",
    "nombre_exposed        382\n",
    "nombre_recovered    17336\n",
    "Name: 201, dtype: int64"
   ]
  },
  {
   "cell_type": "markdown",
   "id": "090efc3a",
   "metadata": {},
   "source": [
    "nombre_infected       894\n",
    "nombre_sain          1396\n",
    "nombre_exposed        364\n",
    "nombre_recovered    17346\n",
    "Name: 202, dtype: int64"
   ]
  },
  {
   "cell_type": "markdown",
   "id": "434ea0d9",
   "metadata": {},
   "source": [
    "nombre_infected       852\n",
    "nombre_sain          1444\n",
    "nombre_exposed        351\n",
    "nombre_recovered    17353\n",
    "Name: 203, dtype: int64"
   ]
  },
  {
   "cell_type": "markdown",
   "id": "2f61111c",
   "metadata": {},
   "source": [
    "nombre_infected       829\n",
    "nombre_sain          1473\n",
    "nombre_exposed        336\n",
    "nombre_recovered    17362\n",
    "Name: 204, dtype: int64"
   ]
  },
  {
   "cell_type": "markdown",
   "id": "a2d19592",
   "metadata": {},
   "source": [
    "nombre_infected       795\n",
    "nombre_sain          1497\n",
    "nombre_exposed        339\n",
    "nombre_recovered    17369\n",
    "Name: 205, dtype: int64"
   ]
  },
  {
   "cell_type": "markdown",
   "id": "eb2b4107",
   "metadata": {},
   "source": [
    "nombre_infected       762\n",
    "nombre_sain          1528\n",
    "nombre_exposed        347\n",
    "nombre_recovered    17363\n",
    "Name: 206, dtype: int64"
   ]
  },
  {
   "cell_type": "markdown",
   "id": "429c8486",
   "metadata": {},
   "source": [
    "nombre_infected       741\n",
    "nombre_sain          1563\n",
    "nombre_exposed        327\n",
    "nombre_recovered    17369\n",
    "Name: 207, dtype: int64"
   ]
  },
  {
   "cell_type": "markdown",
   "id": "5966bfc3",
   "metadata": {},
   "source": [
    "nombre_infected       715\n",
    "nombre_sain          1583\n",
    "nombre_exposed        337\n",
    "nombre_recovered    17365\n",
    "Name: 208, dtype: int64"
   ]
  },
  {
   "cell_type": "markdown",
   "id": "bc8ad85a",
   "metadata": {},
   "source": [
    "nombre_infected       700\n",
    "nombre_sain          1621\n",
    "nombre_exposed        320\n",
    "nombre_recovered    17359\n",
    "Name: 209, dtype: int64"
   ]
  },
  {
   "cell_type": "markdown",
   "id": "63d8528a",
   "metadata": {},
   "source": [
    "nombre_infected       688\n",
    "nombre_sain          1652\n",
    "nombre_exposed        322\n",
    "nombre_recovered    17338\n",
    "Name: 210, dtype: int64"
   ]
  },
  {
   "cell_type": "markdown",
   "id": "9fcc6fa8",
   "metadata": {},
   "source": [
    "nombre_infected       680\n",
    "nombre_sain          1690\n",
    "nombre_exposed        307\n",
    "nombre_recovered    17323\n",
    "Name: 211, dtype: int64"
   ]
  },
  {
   "cell_type": "markdown",
   "id": "b2c53c67",
   "metadata": {},
   "source": [
    "nombre_infected       651\n",
    "nombre_sain          1710\n",
    "nombre_exposed        310\n",
    "nombre_recovered    17329\n",
    "Name: 212, dtype: int64"
   ]
  },
  {
   "cell_type": "markdown",
   "id": "45be29cd",
   "metadata": {},
   "source": [
    "nombre_infected       622\n",
    "nombre_sain          1740\n",
    "nombre_exposed        312\n",
    "nombre_recovered    17326\n",
    "Name: 213, dtype: int64"
   ]
  },
  {
   "cell_type": "markdown",
   "id": "55a722a3",
   "metadata": {},
   "source": [
    "nombre_infected       595\n",
    "nombre_sain          1766\n",
    "nombre_exposed        312\n",
    "nombre_recovered    17327\n",
    "Name: 214, dtype: int64"
   ]
  },
  {
   "cell_type": "markdown",
   "id": "dbd05e56",
   "metadata": {},
   "source": [
    "nombre_infected       586\n",
    "nombre_sain          1803\n",
    "nombre_exposed        311\n",
    "nombre_recovered    17300\n",
    "Name: 215, dtype: int64"
   ]
  },
  {
   "cell_type": "markdown",
   "id": "9c043347",
   "metadata": {},
   "source": [
    "nombre_infected       592\n",
    "nombre_sain          1837\n",
    "nombre_exposed        284\n",
    "nombre_recovered    17287\n",
    "Name: 216, dtype: int64"
   ]
  },
  {
   "cell_type": "markdown",
   "id": "62b06dd7",
   "metadata": {},
   "source": [
    "nombre_infected       567\n",
    "nombre_sain          1875\n",
    "nombre_exposed        292\n",
    "nombre_recovered    17266\n",
    "Name: 217, dtype: int64"
   ]
  },
  {
   "cell_type": "markdown",
   "id": "c4c5da4e",
   "metadata": {},
   "source": [
    "nombre_infected       554\n",
    "nombre_sain          1910\n",
    "nombre_exposed        299\n",
    "nombre_recovered    17237\n",
    "Name: 218, dtype: int64"
   ]
  },
  {
   "cell_type": "markdown",
   "id": "c382db08",
   "metadata": {},
   "source": [
    "nombre_infected       533\n",
    "nombre_sain          1925\n",
    "nombre_exposed        326\n",
    "nombre_recovered    17216\n",
    "Name: 219, dtype: int64"
   ]
  },
  {
   "cell_type": "markdown",
   "id": "69bd2b2a",
   "metadata": {},
   "source": [
    "nombre_infected       523\n",
    "nombre_sain          1954\n",
    "nombre_exposed        330\n",
    "nombre_recovered    17193\n",
    "Name: 220, dtype: int64"
   ]
  },
  {
   "cell_type": "markdown",
   "id": "79343d37",
   "metadata": {},
   "source": [
    "nombre_infected       512\n",
    "nombre_sain          1981\n",
    "nombre_exposed        339\n",
    "nombre_recovered    17168\n",
    "Name: 221, dtype: int64"
   ]
  },
  {
   "cell_type": "markdown",
   "id": "d5b882a4",
   "metadata": {},
   "source": [
    "nombre_infected       518\n",
    "nombre_sain          2013\n",
    "nombre_exposed        328\n",
    "nombre_recovered    17141\n",
    "Name: 222, dtype: int64"
   ]
  },
  {
   "cell_type": "markdown",
   "id": "6514d850",
   "metadata": {},
   "source": [
    "nombre_infected       512\n",
    "nombre_sain          2054\n",
    "nombre_exposed        331\n",
    "nombre_recovered    17103\n",
    "Name: 223, dtype: int64"
   ]
  },
  {
   "cell_type": "markdown",
   "id": "5a5d6845",
   "metadata": {},
   "source": [
    "nombre_infected       517\n",
    "nombre_sain          2072\n",
    "nombre_exposed        331\n",
    "nombre_recovered    17080\n",
    "Name: 224, dtype: int64"
   ]
  },
  {
   "cell_type": "markdown",
   "id": "a296a3e3",
   "metadata": {},
   "source": [
    "nombre_infected       505\n",
    "nombre_sain          2092\n",
    "nombre_exposed        345\n",
    "nombre_recovered    17058\n",
    "Name: 225, dtype: int64"
   ]
  },
  {
   "cell_type": "markdown",
   "id": "c9982ed4",
   "metadata": {},
   "source": [
    "nombre_infected       493\n",
    "nombre_sain          2097\n",
    "nombre_exposed        353\n",
    "nombre_recovered    17057\n",
    "Name: 226, dtype: int64"
   ]
  },
  {
   "cell_type": "markdown",
   "id": "f8cf9940",
   "metadata": {},
   "source": [
    "nombre_infected       501\n",
    "nombre_sain          2135\n",
    "nombre_exposed        330\n",
    "nombre_recovered    17034\n",
    "Name: 227, dtype: int64"
   ]
  },
  {
   "cell_type": "markdown",
   "id": "bd83e313",
   "metadata": {},
   "source": [
    "nombre_infected       505\n",
    "nombre_sain          2135\n",
    "nombre_exposed        345\n",
    "nombre_recovered    17015\n",
    "Name: 228, dtype: int64"
   ]
  },
  {
   "cell_type": "markdown",
   "id": "c9e00d1d",
   "metadata": {},
   "source": [
    "nombre_infected       496\n",
    "nombre_sain          2120\n",
    "nombre_exposed        369\n",
    "nombre_recovered    17015\n",
    "Name: 229, dtype: int64"
   ]
  },
  {
   "cell_type": "markdown",
   "id": "a286154c",
   "metadata": {},
   "source": [
    "nombre_infected       490\n",
    "nombre_sain          2146\n",
    "nombre_exposed        372\n",
    "nombre_recovered    16992\n",
    "Name: 230, dtype: int64"
   ]
  },
  {
   "cell_type": "markdown",
   "id": "e658dd82",
   "metadata": {},
   "source": [
    "nombre_infected       502\n",
    "nombre_sain          2182\n",
    "nombre_exposed        364\n",
    "nombre_recovered    16952\n",
    "Name: 231, dtype: int64"
   ]
  },
  {
   "cell_type": "markdown",
   "id": "583d5856",
   "metadata": {},
   "source": [
    "nombre_infected       501\n",
    "nombre_sain          2186\n",
    "nombre_exposed        355\n",
    "nombre_recovered    16958\n",
    "Name: 232, dtype: int64"
   ]
  },
  {
   "cell_type": "markdown",
   "id": "61620c69",
   "metadata": {},
   "source": [
    "nombre_infected       514\n",
    "nombre_sain          2188\n",
    "nombre_exposed        362\n",
    "nombre_recovered    16936\n",
    "Name: 233, dtype: int64"
   ]
  },
  {
   "cell_type": "markdown",
   "id": "433da58c",
   "metadata": {},
   "source": [
    "nombre_infected       513\n",
    "nombre_sain          2204\n",
    "nombre_exposed        364\n",
    "nombre_recovered    16919\n",
    "Name: 234, dtype: int64"
   ]
  },
  {
   "cell_type": "markdown",
   "id": "828dbccd",
   "metadata": {},
   "source": [
    "nombre_infected       521\n",
    "nombre_sain          2211\n",
    "nombre_exposed        373\n",
    "nombre_recovered    16895\n",
    "Name: 235, dtype: int64"
   ]
  },
  {
   "cell_type": "markdown",
   "id": "dc0feac6",
   "metadata": {},
   "source": [
    "nombre_infected       522\n",
    "nombre_sain          2236\n",
    "nombre_exposed        365\n",
    "nombre_recovered    16877\n",
    "Name: 236, dtype: int64"
   ]
  },
  {
   "cell_type": "markdown",
   "id": "51d8bc56",
   "metadata": {},
   "source": [
    "nombre_infected       529\n",
    "nombre_sain          2261\n",
    "nombre_exposed        352\n",
    "nombre_recovered    16858\n",
    "Name: 237, dtype: int64"
   ]
  },
  {
   "cell_type": "markdown",
   "id": "1ebf9191",
   "metadata": {},
   "source": [
    "nombre_infected       523\n",
    "nombre_sain          2269\n",
    "nombre_exposed        367\n",
    "nombre_recovered    16841\n",
    "Name: 238, dtype: int64"
   ]
  },
  {
   "cell_type": "markdown",
   "id": "8ca1f2ad",
   "metadata": {},
   "source": [
    "nombre_infected       511\n",
    "nombre_sain          2257\n",
    "nombre_exposed        384\n",
    "nombre_recovered    16848\n",
    "Name: 239, dtype: int64"
   ]
  },
  {
   "cell_type": "markdown",
   "id": "6bee5248",
   "metadata": {},
   "source": [
    "nombre_infected       494\n",
    "nombre_sain          2268\n",
    "nombre_exposed        374\n",
    "nombre_recovered    16864\n",
    "Name: 240, dtype: int64"
   ]
  },
  {
   "cell_type": "markdown",
   "id": "88072f0b",
   "metadata": {},
   "source": [
    "nombre_infected       500\n",
    "nombre_sain          2273\n",
    "nombre_exposed        371\n",
    "nombre_recovered    16856\n",
    "Name: 241, dtype: int64"
   ]
  },
  {
   "cell_type": "markdown",
   "id": "e92753b2",
   "metadata": {},
   "source": [
    "nombre_infected       511\n",
    "nombre_sain          2264\n",
    "nombre_exposed        380\n",
    "nombre_recovered    16845\n",
    "Name: 242, dtype: int64"
   ]
  },
  {
   "cell_type": "markdown",
   "id": "acb87505",
   "metadata": {},
   "source": [
    "nombre_infected       515\n",
    "nombre_sain          2280\n",
    "nombre_exposed        384\n",
    "nombre_recovered    16821\n",
    "Name: 243, dtype: int64"
   ]
  },
  {
   "cell_type": "markdown",
   "id": "7529830e",
   "metadata": {},
   "source": [
    "nombre_infected       522\n",
    "nombre_sain          2308\n",
    "nombre_exposed        370\n",
    "nombre_recovered    16800\n",
    "Name: 244, dtype: int64"
   ]
  },
  {
   "cell_type": "markdown",
   "id": "0ddbf0fa",
   "metadata": {},
   "source": [
    "nombre_infected       517\n",
    "nombre_sain          2320\n",
    "nombre_exposed        373\n",
    "nombre_recovered    16790\n",
    "Name: 245, dtype: int64"
   ]
  },
  {
   "cell_type": "markdown",
   "id": "01a86b5a",
   "metadata": {},
   "source": [
    "nombre_infected       536\n",
    "nombre_sain          2342\n",
    "nombre_exposed        367\n",
    "nombre_recovered    16755\n",
    "Name: 246, dtype: int64"
   ]
  },
  {
   "cell_type": "markdown",
   "id": "46867e01",
   "metadata": {},
   "source": [
    "nombre_infected       537\n",
    "nombre_sain          2351\n",
    "nombre_exposed        382\n",
    "nombre_recovered    16730\n",
    "Name: 247, dtype: int64"
   ]
  },
  {
   "cell_type": "markdown",
   "id": "fcf262e7",
   "metadata": {},
   "source": [
    "nombre_infected       530\n",
    "nombre_sain          2385\n",
    "nombre_exposed        377\n",
    "nombre_recovered    16708\n",
    "Name: 248, dtype: int64"
   ]
  },
  {
   "cell_type": "markdown",
   "id": "810b2e76",
   "metadata": {},
   "source": [
    "nombre_infected       537\n",
    "nombre_sain          2399\n",
    "nombre_exposed        396\n",
    "nombre_recovered    16668\n",
    "Name: 249, dtype: int64"
   ]
  },
  {
   "cell_type": "markdown",
   "id": "4a712519",
   "metadata": {},
   "source": [
    "nombre_infected       555\n",
    "nombre_sain          2415\n",
    "nombre_exposed        393\n",
    "nombre_recovered    16637\n",
    "Name: 250, dtype: int64"
   ]
  },
  {
   "cell_type": "markdown",
   "id": "8c4bd897",
   "metadata": {},
   "source": [
    "nombre_infected       572\n",
    "nombre_sain          2452\n",
    "nombre_exposed        396\n",
    "nombre_recovered    16580\n",
    "Name: 251, dtype: int64"
   ]
  },
  {
   "cell_type": "markdown",
   "id": "4024ac7d",
   "metadata": {},
   "source": [
    "nombre_infected       595\n",
    "nombre_sain          2452\n",
    "nombre_exposed        404\n",
    "nombre_recovered    16549\n",
    "Name: 252, dtype: int64"
   ]
  },
  {
   "cell_type": "markdown",
   "id": "fd64a9c4",
   "metadata": {},
   "source": [
    "nombre_infected       602\n",
    "nombre_sain          2466\n",
    "nombre_exposed        422\n",
    "nombre_recovered    16510\n",
    "Name: 253, dtype: int64"
   ]
  },
  {
   "cell_type": "markdown",
   "id": "8a4d033f",
   "metadata": {},
   "source": [
    "nombre_infected       602\n",
    "nombre_sain          2494\n",
    "nombre_exposed        430\n",
    "nombre_recovered    16474\n",
    "Name: 254, dtype: int64"
   ]
  },
  {
   "cell_type": "markdown",
   "id": "4c06995c",
   "metadata": {},
   "source": [
    "nombre_infected       593\n",
    "nombre_sain          2501\n",
    "nombre_exposed        444\n",
    "nombre_recovered    16462\n",
    "Name: 255, dtype: int64"
   ]
  },
  {
   "cell_type": "markdown",
   "id": "15f69e30",
   "metadata": {},
   "source": [
    "nombre_infected       642\n",
    "nombre_sain          2521\n",
    "nombre_exposed        423\n",
    "nombre_recovered    16414\n",
    "Name: 256, dtype: int64"
   ]
  },
  {
   "cell_type": "markdown",
   "id": "a83b2a23",
   "metadata": {},
   "source": [
    "nombre_infected       679\n",
    "nombre_sain          2522\n",
    "nombre_exposed        428\n",
    "nombre_recovered    16371\n",
    "Name: 257, dtype: int64"
   ]
  },
  {
   "cell_type": "markdown",
   "id": "ba4d2769",
   "metadata": {},
   "source": [
    "nombre_infected       687\n",
    "nombre_sain          2502\n",
    "nombre_exposed        446\n",
    "nombre_recovered    16365\n",
    "Name: 258, dtype: int64"
   ]
  },
  {
   "cell_type": "markdown",
   "id": "2972d673",
   "metadata": {},
   "source": [
    "nombre_infected       690\n",
    "nombre_sain          2510\n",
    "nombre_exposed        467\n",
    "nombre_recovered    16333\n",
    "Name: 259, dtype: int64"
   ]
  },
  {
   "cell_type": "markdown",
   "id": "9245ddf7",
   "metadata": {},
   "source": [
    "nombre_infected       712\n",
    "nombre_sain          2493\n",
    "nombre_exposed        463\n",
    "nombre_recovered    16332\n",
    "Name: 260, dtype: int64"
   ]
  },
  {
   "cell_type": "markdown",
   "id": "62cdda05",
   "metadata": {},
   "source": [
    "nombre_infected       722\n",
    "nombre_sain          2473\n",
    "nombre_exposed        475\n",
    "nombre_recovered    16330\n",
    "Name: 261, dtype: int64"
   ]
  },
  {
   "cell_type": "markdown",
   "id": "8a4f48ce",
   "metadata": {},
   "source": [
    "nombre_infected       736\n",
    "nombre_sain          2465\n",
    "nombre_exposed        501\n",
    "nombre_recovered    16298\n",
    "Name: 262, dtype: int64"
   ]
  },
  {
   "cell_type": "markdown",
   "id": "cf42fb6b",
   "metadata": {},
   "source": [
    "nombre_infected       744\n",
    "nombre_sain          2456\n",
    "nombre_exposed        506\n",
    "nombre_recovered    16294\n",
    "Name: 263, dtype: int64"
   ]
  },
  {
   "cell_type": "markdown",
   "id": "52473919",
   "metadata": {},
   "source": [
    "nombre_infected       767\n",
    "nombre_sain          2423\n",
    "nombre_exposed        503\n",
    "nombre_recovered    16307\n",
    "Name: 264, dtype: int64"
   ]
  },
  {
   "cell_type": "markdown",
   "id": "7139e400",
   "metadata": {},
   "source": [
    "nombre_infected       792\n",
    "nombre_sain          2403\n",
    "nombre_exposed        521\n",
    "nombre_recovered    16284\n",
    "Name: 265, dtype: int64"
   ]
  },
  {
   "cell_type": "markdown",
   "id": "702a6727",
   "metadata": {},
   "source": [
    "nombre_infected       806\n",
    "nombre_sain          2381\n",
    "nombre_exposed        525\n",
    "nombre_recovered    16288\n",
    "Name: 266, dtype: int64"
   ]
  },
  {
   "cell_type": "markdown",
   "id": "e9a936d8",
   "metadata": {},
   "source": [
    "nombre_infected       846\n",
    "nombre_sain          2340\n",
    "nombre_exposed        532\n",
    "nombre_recovered    16282\n",
    "Name: 267, dtype: int64"
   ]
  },
  {
   "cell_type": "markdown",
   "id": "b3a922d4",
   "metadata": {},
   "source": [
    "nombre_infected       857\n",
    "nombre_sain          2342\n",
    "nombre_exposed        532\n",
    "nombre_recovered    16269\n",
    "Name: 268, dtype: int64"
   ]
  },
  {
   "cell_type": "markdown",
   "id": "9cc76474",
   "metadata": {},
   "source": [
    "nombre_infected       868\n",
    "nombre_sain          2318\n",
    "nombre_exposed        552\n",
    "nombre_recovered    16262\n",
    "Name: 269, dtype: int64"
   ]
  },
  {
   "cell_type": "markdown",
   "id": "40cb1a3d",
   "metadata": {},
   "source": [
    "nombre_infected       884\n",
    "nombre_sain          2310\n",
    "nombre_exposed        551\n",
    "nombre_recovered    16255\n",
    "Name: 270, dtype: int64"
   ]
  },
  {
   "cell_type": "markdown",
   "id": "659410a5",
   "metadata": {},
   "source": [
    "nombre_infected       912\n",
    "nombre_sain          2303\n",
    "nombre_exposed        554\n",
    "nombre_recovered    16231\n",
    "Name: 271, dtype: int64"
   ]
  },
  {
   "cell_type": "markdown",
   "id": "f81cb6b6",
   "metadata": {},
   "source": [
    "nombre_infected       915\n",
    "nombre_sain          2254\n",
    "nombre_exposed        570\n",
    "nombre_recovered    16261\n",
    "Name: 272, dtype: int64"
   ]
  },
  {
   "cell_type": "markdown",
   "id": "2c9e7d51",
   "metadata": {},
   "source": [
    "nombre_infected       919\n",
    "nombre_sain          2270\n",
    "nombre_exposed        570\n",
    "nombre_recovered    16241\n",
    "Name: 273, dtype: int64"
   ]
  },
  {
   "cell_type": "markdown",
   "id": "47ca827f",
   "metadata": {},
   "source": [
    "nombre_infected       929\n",
    "nombre_sain          2250\n",
    "nombre_exposed        573\n",
    "nombre_recovered    16248\n",
    "Name: 274, dtype: int64"
   ]
  },
  {
   "cell_type": "markdown",
   "id": "0685175a",
   "metadata": {},
   "source": [
    "nombre_infected       938\n",
    "nombre_sain          2215\n",
    "nombre_exposed        579\n",
    "nombre_recovered    16268\n",
    "Name: 275, dtype: int64"
   ]
  },
  {
   "cell_type": "markdown",
   "id": "b010004a",
   "metadata": {},
   "source": [
    "nombre_infected       949\n",
    "nombre_sain          2201\n",
    "nombre_exposed        574\n",
    "nombre_recovered    16276\n",
    "Name: 276, dtype: int64"
   ]
  },
  {
   "cell_type": "markdown",
   "id": "de798731",
   "metadata": {},
   "source": [
    "nombre_infected       958\n",
    "nombre_sain          2160\n",
    "nombre_exposed        610\n",
    "nombre_recovered    16272\n",
    "Name: 277, dtype: int64"
   ]
  },
  {
   "cell_type": "markdown",
   "id": "45b0cec9",
   "metadata": {},
   "source": [
    "nombre_infected       958\n",
    "nombre_sain          2148\n",
    "nombre_exposed        603\n",
    "nombre_recovered    16291\n",
    "Name: 278, dtype: int64"
   ]
  },
  {
   "cell_type": "markdown",
   "id": "aee9882d",
   "metadata": {},
   "source": [
    "nombre_infected       976\n",
    "nombre_sain          2116\n",
    "nombre_exposed        620\n",
    "nombre_recovered    16288\n",
    "Name: 279, dtype: int64"
   ]
  },
  {
   "cell_type": "markdown",
   "id": "75265d35",
   "metadata": {},
   "source": [
    "nombre_infected       992\n",
    "nombre_sain          2100\n",
    "nombre_exposed        619\n",
    "nombre_recovered    16289\n",
    "Name: 280, dtype: int64"
   ]
  },
  {
   "cell_type": "markdown",
   "id": "8e7d902a",
   "metadata": {},
   "source": [
    "nombre_infected      1003\n",
    "nombre_sain          2080\n",
    "nombre_exposed        602\n",
    "nombre_recovered    16315\n",
    "Name: 281, dtype: int64"
   ]
  },
  {
   "cell_type": "markdown",
   "id": "f0e7d74b",
   "metadata": {},
   "source": [
    "nombre_infected      1004\n",
    "nombre_sain          2053\n",
    "nombre_exposed        608\n",
    "nombre_recovered    16335\n",
    "Name: 282, dtype: int64"
   ]
  },
  {
   "cell_type": "markdown",
   "id": "ab00f32e",
   "metadata": {},
   "source": [
    "nombre_infected      1001\n",
    "nombre_sain          2010\n",
    "nombre_exposed        615\n",
    "nombre_recovered    16374\n",
    "Name: 283, dtype: int64"
   ]
  },
  {
   "cell_type": "markdown",
   "id": "6ecac9c6",
   "metadata": {},
   "source": [
    "nombre_infected      1025\n",
    "nombre_sain          1994\n",
    "nombre_exposed        606\n",
    "nombre_recovered    16375\n",
    "Name: 284, dtype: int64"
   ]
  },
  {
   "cell_type": "markdown",
   "id": "1ab39b43",
   "metadata": {},
   "source": [
    "nombre_infected      1034\n",
    "nombre_sain          1964\n",
    "nombre_exposed        602\n",
    "nombre_recovered    16400\n",
    "Name: 285, dtype: int64"
   ]
  },
  {
   "cell_type": "markdown",
   "id": "54e96639",
   "metadata": {},
   "source": [
    "nombre_infected      1061\n",
    "nombre_sain          1957\n",
    "nombre_exposed        582\n",
    "nombre_recovered    16400\n",
    "Name: 286, dtype: int64"
   ]
  },
  {
   "cell_type": "markdown",
   "id": "5256889e",
   "metadata": {},
   "source": [
    "nombre_infected      1104\n",
    "nombre_sain          1937\n",
    "nombre_exposed        580\n",
    "nombre_recovered    16379\n",
    "Name: 287, dtype: int64"
   ]
  },
  {
   "cell_type": "markdown",
   "id": "21a13b2e",
   "metadata": {},
   "source": [
    "nombre_infected      1100\n",
    "nombre_sain          1930\n",
    "nombre_exposed        588\n",
    "nombre_recovered    16382\n",
    "Name: 288, dtype: int64"
   ]
  },
  {
   "cell_type": "markdown",
   "id": "acaa1f1d",
   "metadata": {},
   "source": [
    "nombre_infected      1106\n",
    "nombre_sain          1928\n",
    "nombre_exposed        585\n",
    "nombre_recovered    16381\n",
    "Name: 289, dtype: int64"
   ]
  },
  {
   "cell_type": "markdown",
   "id": "ee98b0ca",
   "metadata": {},
   "source": [
    "nombre_infected      1112\n",
    "nombre_sain          1920\n",
    "nombre_exposed        568\n",
    "nombre_recovered    16400\n",
    "Name: 290, dtype: int64"
   ]
  },
  {
   "cell_type": "markdown",
   "id": "f6037a99",
   "metadata": {},
   "source": [
    "nombre_infected      1109\n",
    "nombre_sain          1913\n",
    "nombre_exposed        585\n",
    "nombre_recovered    16393\n",
    "Name: 291, dtype: int64"
   ]
  },
  {
   "cell_type": "markdown",
   "id": "c9fa6bcb",
   "metadata": {},
   "source": [
    "nombre_infected      1099\n",
    "nombre_sain          1908\n",
    "nombre_exposed        572\n",
    "nombre_recovered    16421\n",
    "Name: 292, dtype: int64"
   ]
  },
  {
   "cell_type": "markdown",
   "id": "35466881",
   "metadata": {},
   "source": [
    "nombre_infected      1091\n",
    "nombre_sain          1926\n",
    "nombre_exposed        588\n",
    "nombre_recovered    16395\n",
    "Name: 293, dtype: int64"
   ]
  },
  {
   "cell_type": "markdown",
   "id": "a4a4ceed",
   "metadata": {},
   "source": [
    "nombre_infected      1106\n",
    "nombre_sain          1929\n",
    "nombre_exposed        578\n",
    "nombre_recovered    16387\n",
    "Name: 294, dtype: int64"
   ]
  },
  {
   "cell_type": "markdown",
   "id": "6aef4b71",
   "metadata": {},
   "source": [
    "nombre_infected      1110\n",
    "nombre_sain          1906\n",
    "nombre_exposed        595\n",
    "nombre_recovered    16389\n",
    "Name: 295, dtype: int64"
   ]
  },
  {
   "cell_type": "markdown",
   "id": "2c612b05",
   "metadata": {},
   "source": [
    "nombre_infected      1135\n",
    "nombre_sain          1918\n",
    "nombre_exposed        559\n",
    "nombre_recovered    16388\n",
    "Name: 296, dtype: int64"
   ]
  },
  {
   "cell_type": "markdown",
   "id": "a6bdc71e",
   "metadata": {},
   "source": [
    "nombre_infected      1099\n",
    "nombre_sain          1917\n",
    "nombre_exposed        566\n",
    "nombre_recovered    16418\n",
    "Name: 297, dtype: int64"
   ]
  },
  {
   "cell_type": "markdown",
   "id": "7fe06175",
   "metadata": {},
   "source": [
    "nombre_infected      1092\n",
    "nombre_sain          1902\n",
    "nombre_exposed        587\n",
    "nombre_recovered    16419\n",
    "Name: 298, dtype: int64"
   ]
  },
  {
   "cell_type": "markdown",
   "id": "98702ece",
   "metadata": {},
   "source": [
    "nombre_infected      1090\n",
    "nombre_sain          1904\n",
    "nombre_exposed        604\n",
    "nombre_recovered    16402\n",
    "Name: 299, dtype: int64"
   ]
  },
  {
   "cell_type": "markdown",
   "id": "ef21cac7",
   "metadata": {},
   "source": [
    "nombre_infected      1090\n",
    "nombre_sain          1888\n",
    "nombre_exposed        611\n",
    "nombre_recovered    16411\n",
    "Name: 300, dtype: int64"
   ]
  },
  {
   "cell_type": "markdown",
   "id": "f154944f",
   "metadata": {},
   "source": [
    "nombre_infected      1091\n",
    "nombre_sain          1867\n",
    "nombre_exposed        628\n",
    "nombre_recovered    16414\n",
    "Name: 301, dtype: int64"
   ]
  },
  {
   "cell_type": "markdown",
   "id": "482caab5",
   "metadata": {},
   "source": [
    "nombre_infected      1100\n",
    "nombre_sain          1872\n",
    "nombre_exposed        596\n",
    "nombre_recovered    16432\n",
    "Name: 302, dtype: int64"
   ]
  },
  {
   "cell_type": "markdown",
   "id": "2008576c",
   "metadata": {},
   "source": [
    "nombre_infected      1102\n",
    "nombre_sain          1873\n",
    "nombre_exposed        579\n",
    "nombre_recovered    16446\n",
    "Name: 303, dtype: int64"
   ]
  },
  {
   "cell_type": "markdown",
   "id": "5e26b416",
   "metadata": {},
   "source": [
    "nombre_infected      1098\n",
    "nombre_sain          1871\n",
    "nombre_exposed        558\n",
    "nombre_recovered    16473\n",
    "Name: 304, dtype: int64"
   ]
  },
  {
   "cell_type": "markdown",
   "id": "af1323d6",
   "metadata": {},
   "source": [
    "nombre_infected      1103\n",
    "nombre_sain          1876\n",
    "nombre_exposed        552\n",
    "nombre_recovered    16469\n",
    "Name: 305, dtype: int64"
   ]
  },
  {
   "cell_type": "markdown",
   "id": "1856c275",
   "metadata": {},
   "source": [
    "nombre_infected      1083\n",
    "nombre_sain          1862\n",
    "nombre_exposed        562\n",
    "nombre_recovered    16493\n",
    "Name: 306, dtype: int64"
   ]
  },
  {
   "cell_type": "markdown",
   "id": "b20b9b1e",
   "metadata": {},
   "source": [
    "nombre_infected      1084\n",
    "nombre_sain          1841\n",
    "nombre_exposed        544\n",
    "nombre_recovered    16531\n",
    "Name: 307, dtype: int64"
   ]
  },
  {
   "cell_type": "markdown",
   "id": "f47c6744",
   "metadata": {},
   "source": [
    "nombre_infected      1073\n",
    "nombre_sain          1841\n",
    "nombre_exposed        538\n",
    "nombre_recovered    16548\n",
    "Name: 308, dtype: int64"
   ]
  },
  {
   "cell_type": "markdown",
   "id": "0e9781e1",
   "metadata": {},
   "source": [
    "nombre_infected      1069\n",
    "nombre_sain          1820\n",
    "nombre_exposed        547\n",
    "nombre_recovered    16564\n",
    "Name: 309, dtype: int64"
   ]
  },
  {
   "cell_type": "markdown",
   "id": "13ea77ab",
   "metadata": {},
   "source": [
    "nombre_infected      1063\n",
    "nombre_sain          1813\n",
    "nombre_exposed        550\n",
    "nombre_recovered    16574\n",
    "Name: 310, dtype: int64"
   ]
  },
  {
   "cell_type": "markdown",
   "id": "c4bc7764",
   "metadata": {},
   "source": [
    "nombre_infected      1063\n",
    "nombre_sain          1796\n",
    "nombre_exposed        550\n",
    "nombre_recovered    16591\n",
    "Name: 311, dtype: int64"
   ]
  },
  {
   "cell_type": "markdown",
   "id": "3ac69659",
   "metadata": {},
   "source": [
    "nombre_infected      1067\n",
    "nombre_sain          1782\n",
    "nombre_exposed        538\n",
    "nombre_recovered    16613\n",
    "Name: 312, dtype: int64"
   ]
  },
  {
   "cell_type": "markdown",
   "id": "89325bb0",
   "metadata": {},
   "source": [
    "nombre_infected      1061\n",
    "nombre_sain          1769\n",
    "nombre_exposed        526\n",
    "nombre_recovered    16644\n",
    "Name: 313, dtype: int64"
   ]
  },
  {
   "cell_type": "markdown",
   "id": "c16ce986",
   "metadata": {},
   "source": [
    "nombre_infected      1030\n",
    "nombre_sain          1740\n",
    "nombre_exposed        530\n",
    "nombre_recovered    16700\n",
    "Name: 314, dtype: int64"
   ]
  },
  {
   "cell_type": "markdown",
   "id": "7ced878d",
   "metadata": {},
   "source": [
    "nombre_infected      1020\n",
    "nombre_sain          1722\n",
    "nombre_exposed        522\n",
    "nombre_recovered    16736\n",
    "Name: 315, dtype: int64"
   ]
  },
  {
   "cell_type": "markdown",
   "id": "faf379da",
   "metadata": {},
   "source": [
    "nombre_infected      1012\n",
    "nombre_sain          1707\n",
    "nombre_exposed        515\n",
    "nombre_recovered    16766\n",
    "Name: 316, dtype: int64"
   ]
  },
  {
   "cell_type": "markdown",
   "id": "3e076d33",
   "metadata": {},
   "source": [
    "nombre_infected       993\n",
    "nombre_sain          1691\n",
    "nombre_exposed        524\n",
    "nombre_recovered    16792\n",
    "Name: 317, dtype: int64"
   ]
  },
  {
   "cell_type": "markdown",
   "id": "2fd841b2",
   "metadata": {},
   "source": [
    "nombre_infected       984\n",
    "nombre_sain          1689\n",
    "nombre_exposed        527\n",
    "nombre_recovered    16800\n",
    "Name: 318, dtype: int64"
   ]
  },
  {
   "cell_type": "markdown",
   "id": "6d39dc41",
   "metadata": {},
   "source": [
    "nombre_infected       997\n",
    "nombre_sain          1714\n",
    "nombre_exposed        483\n",
    "nombre_recovered    16806\n",
    "Name: 319, dtype: int64"
   ]
  },
  {
   "cell_type": "markdown",
   "id": "289ea1fc",
   "metadata": {},
   "source": [
    "nombre_infected       991\n",
    "nombre_sain          1708\n",
    "nombre_exposed        461\n",
    "nombre_recovered    16840\n",
    "Name: 320, dtype: int64"
   ]
  },
  {
   "cell_type": "markdown",
   "id": "5a6690ca",
   "metadata": {},
   "source": [
    "nombre_infected       964\n",
    "nombre_sain          1713\n",
    "nombre_exposed        466\n",
    "nombre_recovered    16857\n",
    "Name: 321, dtype: int64"
   ]
  },
  {
   "cell_type": "markdown",
   "id": "e0b100cf",
   "metadata": {},
   "source": [
    "nombre_infected       938\n",
    "nombre_sain          1697\n",
    "nombre_exposed        450\n",
    "nombre_recovered    16915\n",
    "Name: 322, dtype: int64"
   ]
  },
  {
   "cell_type": "markdown",
   "id": "a1e61989",
   "metadata": {},
   "source": [
    "nombre_infected       923\n",
    "nombre_sain          1723\n",
    "nombre_exposed        433\n",
    "nombre_recovered    16921\n",
    "Name: 323, dtype: int64"
   ]
  },
  {
   "cell_type": "markdown",
   "id": "1f08caef",
   "metadata": {},
   "source": [
    "nombre_infected       923\n",
    "nombre_sain          1733\n",
    "nombre_exposed        434\n",
    "nombre_recovered    16910\n",
    "Name: 324, dtype: int64"
   ]
  },
  {
   "cell_type": "markdown",
   "id": "9638d576",
   "metadata": {},
   "source": [
    "nombre_infected       915\n",
    "nombre_sain          1747\n",
    "nombre_exposed        436\n",
    "nombre_recovered    16902\n",
    "Name: 325, dtype: int64"
   ]
  },
  {
   "cell_type": "markdown",
   "id": "2c561325",
   "metadata": {},
   "source": [
    "nombre_infected       903\n",
    "nombre_sain          1759\n",
    "nombre_exposed        439\n",
    "nombre_recovered    16899\n",
    "Name: 326, dtype: int64"
   ]
  },
  {
   "cell_type": "markdown",
   "id": "50cff01b",
   "metadata": {},
   "source": [
    "nombre_infected       878\n",
    "nombre_sain          1804\n",
    "nombre_exposed        446\n",
    "nombre_recovered    16872\n",
    "Name: 327, dtype: int64"
   ]
  },
  {
   "cell_type": "markdown",
   "id": "bfb53228",
   "metadata": {},
   "source": [
    "nombre_infected       881\n",
    "nombre_sain          1811\n",
    "nombre_exposed        440\n",
    "nombre_recovered    16868\n",
    "Name: 328, dtype: int64"
   ]
  },
  {
   "cell_type": "markdown",
   "id": "593b973b",
   "metadata": {},
   "source": [
    "nombre_infected       880\n",
    "nombre_sain          1824\n",
    "nombre_exposed        417\n",
    "nombre_recovered    16879\n",
    "Name: 329, dtype: int64"
   ]
  },
  {
   "cell_type": "markdown",
   "id": "c283f387",
   "metadata": {},
   "source": [
    "nombre_infected       878\n",
    "nombre_sain          1839\n",
    "nombre_exposed        409\n",
    "nombre_recovered    16874\n",
    "Name: 330, dtype: int64"
   ]
  },
  {
   "cell_type": "markdown",
   "id": "35271fc5",
   "metadata": {},
   "source": [
    "nombre_infected       854\n",
    "nombre_sain          1846\n",
    "nombre_exposed        421\n",
    "nombre_recovered    16879\n",
    "Name: 331, dtype: int64"
   ]
  },
  {
   "cell_type": "markdown",
   "id": "c4214e9f",
   "metadata": {},
   "source": [
    "nombre_infected       847\n",
    "nombre_sain          1839\n",
    "nombre_exposed        435\n",
    "nombre_recovered    16879\n",
    "Name: 332, dtype: int64"
   ]
  },
  {
   "cell_type": "markdown",
   "id": "270fe691",
   "metadata": {},
   "source": [
    "nombre_infected       843\n",
    "nombre_sain          1870\n",
    "nombre_exposed        421\n",
    "nombre_recovered    16866\n",
    "Name: 333, dtype: int64"
   ]
  },
  {
   "cell_type": "markdown",
   "id": "69d79e71",
   "metadata": {},
   "source": [
    "nombre_infected       836\n",
    "nombre_sain          1915\n",
    "nombre_exposed        406\n",
    "nombre_recovered    16843\n",
    "Name: 334, dtype: int64"
   ]
  },
  {
   "cell_type": "markdown",
   "id": "9112d2b1",
   "metadata": {},
   "source": [
    "nombre_infected       824\n",
    "nombre_sain          1931\n",
    "nombre_exposed        403\n",
    "nombre_recovered    16842\n",
    "Name: 335, dtype: int64"
   ]
  },
  {
   "cell_type": "markdown",
   "id": "c5d4801b",
   "metadata": {},
   "source": [
    "nombre_infected       803\n",
    "nombre_sain          1953\n",
    "nombre_exposed        401\n",
    "nombre_recovered    16843\n",
    "Name: 336, dtype: int64"
   ]
  },
  {
   "cell_type": "markdown",
   "id": "28394d61",
   "metadata": {},
   "source": [
    "nombre_infected       796\n",
    "nombre_sain          1986\n",
    "nombre_exposed        414\n",
    "nombre_recovered    16804\n",
    "Name: 337, dtype: int64"
   ]
  },
  {
   "cell_type": "markdown",
   "id": "a2f4ce0b",
   "metadata": {},
   "source": [
    "nombre_infected       767\n",
    "nombre_sain          2013\n",
    "nombre_exposed        414\n",
    "nombre_recovered    16806\n",
    "Name: 338, dtype: int64"
   ]
  },
  {
   "cell_type": "markdown",
   "id": "59a999f2",
   "metadata": {},
   "source": [
    "nombre_infected       760\n",
    "nombre_sain          2070\n",
    "nombre_exposed        418\n",
    "nombre_recovered    16752\n",
    "Name: 339, dtype: int64"
   ]
  },
  {
   "cell_type": "markdown",
   "id": "defa8151",
   "metadata": {},
   "source": [
    "nombre_infected       777\n",
    "nombre_sain          2088\n",
    "nombre_exposed        428\n",
    "nombre_recovered    16707\n",
    "Name: 340, dtype: int64"
   ]
  },
  {
   "cell_type": "markdown",
   "id": "3b36b296",
   "metadata": {},
   "source": [
    "nombre_infected       788\n",
    "nombre_sain          2112\n",
    "nombre_exposed        428\n",
    "nombre_recovered    16672\n",
    "Name: 341, dtype: int64"
   ]
  },
  {
   "cell_type": "markdown",
   "id": "9530f261",
   "metadata": {},
   "source": [
    "nombre_infected       799\n",
    "nombre_sain          2141\n",
    "nombre_exposed        411\n",
    "nombre_recovered    16649\n",
    "Name: 342, dtype: int64"
   ]
  },
  {
   "cell_type": "markdown",
   "id": "0172c869",
   "metadata": {},
   "source": [
    "nombre_infected       778\n",
    "nombre_sain          2149\n",
    "nombre_exposed        416\n",
    "nombre_recovered    16657\n",
    "Name: 343, dtype: int64"
   ]
  },
  {
   "cell_type": "markdown",
   "id": "adc3e319",
   "metadata": {},
   "source": [
    "nombre_infected       774\n",
    "nombre_sain          2186\n",
    "nombre_exposed        420\n",
    "nombre_recovered    16620\n",
    "Name: 344, dtype: int64"
   ]
  },
  {
   "cell_type": "markdown",
   "id": "7eefb3f4",
   "metadata": {},
   "source": [
    "nombre_infected       777\n",
    "nombre_sain          2205\n",
    "nombre_exposed        430\n",
    "nombre_recovered    16588\n",
    "Name: 345, dtype: int64"
   ]
  },
  {
   "cell_type": "markdown",
   "id": "d578aa4b",
   "metadata": {},
   "source": [
    "nombre_infected       777\n",
    "nombre_sain          2245\n",
    "nombre_exposed        435\n",
    "nombre_recovered    16543\n",
    "Name: 346, dtype: int64"
   ]
  },
  {
   "cell_type": "markdown",
   "id": "8258d9da",
   "metadata": {},
   "source": [
    "nombre_infected       773\n",
    "nombre_sain          2262\n",
    "nombre_exposed        450\n",
    "nombre_recovered    16515\n",
    "Name: 347, dtype: int64"
   ]
  },
  {
   "cell_type": "markdown",
   "id": "99883bdd",
   "metadata": {},
   "source": [
    "nombre_infected       742\n",
    "nombre_sain          2273\n",
    "nombre_exposed        475\n",
    "nombre_recovered    16510\n",
    "Name: 348, dtype: int64"
   ]
  },
  {
   "cell_type": "markdown",
   "id": "eba9bbf4",
   "metadata": {},
   "source": [
    "nombre_infected       750\n",
    "nombre_sain          2272\n",
    "nombre_exposed        463\n",
    "nombre_recovered    16515\n",
    "Name: 349, dtype: int64"
   ]
  },
  {
   "cell_type": "markdown",
   "id": "a0a4b17b",
   "metadata": {},
   "source": [
    "nombre_infected       765\n",
    "nombre_sain          2263\n",
    "nombre_exposed        472\n",
    "nombre_recovered    16500\n",
    "Name: 350, dtype: int64"
   ]
  },
  {
   "cell_type": "markdown",
   "id": "8d5d7846",
   "metadata": {},
   "source": [
    "nombre_infected       782\n",
    "nombre_sain          2250\n",
    "nombre_exposed        463\n",
    "nombre_recovered    16505\n",
    "Name: 351, dtype: int64"
   ]
  },
  {
   "cell_type": "markdown",
   "id": "a77d2d91",
   "metadata": {},
   "source": [
    "nombre_infected       804\n",
    "nombre_sain          2251\n",
    "nombre_exposed        473\n",
    "nombre_recovered    16472\n",
    "Name: 352, dtype: int64"
   ]
  },
  {
   "cell_type": "markdown",
   "id": "bdd7d0b9",
   "metadata": {},
   "source": [
    "nombre_infected       817\n",
    "nombre_sain          2232\n",
    "nombre_exposed        470\n",
    "nombre_recovered    16481\n",
    "Name: 353, dtype: int64"
   ]
  },
  {
   "cell_type": "markdown",
   "id": "62ea6cfe",
   "metadata": {},
   "source": [
    "nombre_infected       824\n",
    "nombre_sain          2189\n",
    "nombre_exposed        508\n",
    "nombre_recovered    16479\n",
    "Name: 354, dtype: int64"
   ]
  },
  {
   "cell_type": "markdown",
   "id": "41b23942",
   "metadata": {},
   "source": [
    "nombre_infected       832\n",
    "nombre_sain          2175\n",
    "nombre_exposed        520\n",
    "nombre_recovered    16473\n",
    "Name: 355, dtype: int64"
   ]
  },
  {
   "cell_type": "markdown",
   "id": "d9cfa39b",
   "metadata": {},
   "source": [
    "nombre_infected       854\n",
    "nombre_sain          2172\n",
    "nombre_exposed        522\n",
    "nombre_recovered    16452\n",
    "Name: 356, dtype: int64"
   ]
  },
  {
   "cell_type": "markdown",
   "id": "dae1c93c",
   "metadata": {},
   "source": [
    "nombre_infected       876\n",
    "nombre_sain          2163\n",
    "nombre_exposed        525\n",
    "nombre_recovered    16436\n",
    "Name: 357, dtype: int64"
   ]
  },
  {
   "cell_type": "markdown",
   "id": "58a015b0",
   "metadata": {},
   "source": [
    "nombre_infected       884\n",
    "nombre_sain          2166\n",
    "nombre_exposed        516\n",
    "nombre_recovered    16434\n",
    "Name: 358, dtype: int64"
   ]
  },
  {
   "cell_type": "markdown",
   "id": "c758f3ed",
   "metadata": {},
   "source": [
    "nombre_infected       919\n",
    "nombre_sain          2163\n",
    "nombre_exposed        513\n",
    "nombre_recovered    16405\n",
    "Name: 359, dtype: int64"
   ]
  },
  {
   "cell_type": "markdown",
   "id": "2bd9de89",
   "metadata": {},
   "source": [
    "nombre_infected       922\n",
    "nombre_sain          2138\n",
    "nombre_exposed        519\n",
    "nombre_recovered    16421\n",
    "Name: 360, dtype: int64"
   ]
  },
  {
   "cell_type": "markdown",
   "id": "47f4f772",
   "metadata": {},
   "source": [
    "nombre_infected       921\n",
    "nombre_sain          2128\n",
    "nombre_exposed        530\n",
    "nombre_recovered    16421\n",
    "Name: 361, dtype: int64"
   ]
  },
  {
   "cell_type": "markdown",
   "id": "7d33257d",
   "metadata": {},
   "source": [
    "nombre_infected       950\n",
    "nombre_sain          2133\n",
    "nombre_exposed        510\n",
    "nombre_recovered    16407\n",
    "Name: 362, dtype: int64"
   ]
  },
  {
   "cell_type": "markdown",
   "id": "41ff4f57",
   "metadata": {},
   "source": [
    "nombre_infected       961\n",
    "nombre_sain          2113\n",
    "nombre_exposed        517\n",
    "nombre_recovered    16409\n",
    "Name: 363, dtype: int64"
   ]
  },
  {
   "cell_type": "markdown",
   "id": "e2f57299",
   "metadata": {},
   "source": [
    "nombre_infected       970\n",
    "nombre_sain          2077\n",
    "nombre_exposed        527\n",
    "nombre_recovered    16426\n",
    "Name: 364, dtype: int64"
   ]
  },
  {
   "cell_type": "markdown",
   "id": "ac1c0b4e",
   "metadata": {},
   "source": [
    "nombre_infected       979\n",
    "nombre_sain          2075\n",
    "nombre_exposed        511\n",
    "nombre_recovered    16435\n",
    "Name: 365, dtype: int64"
   ]
  },
  {
   "cell_type": "markdown",
   "id": "cb1dd3a2",
   "metadata": {},
   "source": [
    "nombre_infected       982\n",
    "nombre_sain          2082\n",
    "nombre_exposed        510\n",
    "nombre_recovered    16426\n",
    "Name: 366, dtype: int64"
   ]
  },
  {
   "cell_type": "markdown",
   "id": "cf854bfe",
   "metadata": {},
   "source": [
    "nombre_infected       969\n",
    "nombre_sain          2105\n",
    "nombre_exposed        513\n",
    "nombre_recovered    16413\n",
    "Name: 367, dtype: int64"
   ]
  },
  {
   "cell_type": "markdown",
   "id": "99516d65",
   "metadata": {},
   "source": [
    "nombre_infected       983\n",
    "nombre_sain          2096\n",
    "nombre_exposed        515\n",
    "nombre_recovered    16406\n",
    "Name: 368, dtype: int64"
   ]
  },
  {
   "cell_type": "markdown",
   "id": "05ea264a",
   "metadata": {},
   "source": [
    "nombre_infected       990\n",
    "nombre_sain          2088\n",
    "nombre_exposed        533\n",
    "nombre_recovered    16389\n",
    "Name: 369, dtype: int64"
   ]
  },
  {
   "cell_type": "markdown",
   "id": "2d52b28b",
   "metadata": {},
   "source": [
    "nombre_infected       991\n",
    "nombre_sain          2071\n",
    "nombre_exposed        537\n",
    "nombre_recovered    16401\n",
    "Name: 370, dtype: int64"
   ]
  },
  {
   "cell_type": "markdown",
   "id": "6d3fc969",
   "metadata": {},
   "source": [
    "nombre_infected      1001\n",
    "nombre_sain          2048\n",
    "nombre_exposed        538\n",
    "nombre_recovered    16413\n",
    "Name: 371, dtype: int64"
   ]
  },
  {
   "cell_type": "markdown",
   "id": "f4fd8124",
   "metadata": {},
   "source": [
    "nombre_infected      1009\n",
    "nombre_sain          2055\n",
    "nombre_exposed        539\n",
    "nombre_recovered    16397\n",
    "Name: 372, dtype: int64"
   ]
  },
  {
   "cell_type": "markdown",
   "id": "7309d44f",
   "metadata": {},
   "source": [
    "nombre_infected      1027\n",
    "nombre_sain          2033\n",
    "nombre_exposed        529\n",
    "nombre_recovered    16411\n",
    "Name: 373, dtype: int64"
   ]
  },
  {
   "cell_type": "markdown",
   "id": "f78ee0f2",
   "metadata": {},
   "source": [
    "nombre_infected      1016\n",
    "nombre_sain          2014\n",
    "nombre_exposed        541\n",
    "nombre_recovered    16429\n",
    "Name: 374, dtype: int64"
   ]
  },
  {
   "cell_type": "markdown",
   "id": "b36dc6a3",
   "metadata": {},
   "source": [
    "nombre_infected      1030\n",
    "nombre_sain          1973\n",
    "nombre_exposed        537\n",
    "nombre_recovered    16460\n",
    "Name: 375, dtype: int64"
   ]
  },
  {
   "cell_type": "markdown",
   "id": "0d251cff",
   "metadata": {},
   "source": [
    "nombre_infected      1055\n",
    "nombre_sain          1968\n",
    "nombre_exposed        520\n",
    "nombre_recovered    16457\n",
    "Name: 376, dtype: int64"
   ]
  },
  {
   "cell_type": "markdown",
   "id": "5923ff64",
   "metadata": {},
   "source": [
    "nombre_infected      1059\n",
    "nombre_sain          1977\n",
    "nombre_exposed        500\n",
    "nombre_recovered    16464\n",
    "Name: 377, dtype: int64"
   ]
  },
  {
   "cell_type": "markdown",
   "id": "cfed93ac",
   "metadata": {},
   "source": [
    "nombre_infected      1040\n",
    "nombre_sain          1972\n",
    "nombre_exposed        503\n",
    "nombre_recovered    16485\n",
    "Name: 378, dtype: int64"
   ]
  },
  {
   "cell_type": "markdown",
   "id": "0dbfa11d",
   "metadata": {},
   "source": [
    "nombre_infected      1031\n",
    "nombre_sain          1964\n",
    "nombre_exposed        499\n",
    "nombre_recovered    16506\n",
    "Name: 379, dtype: int64"
   ]
  },
  {
   "cell_type": "markdown",
   "id": "86cc1f8d",
   "metadata": {},
   "source": [
    "nombre_infected      1014\n",
    "nombre_sain          1953\n",
    "nombre_exposed        505\n",
    "nombre_recovered    16528\n",
    "Name: 380, dtype: int64"
   ]
  },
  {
   "cell_type": "markdown",
   "id": "7d78fbf1",
   "metadata": {},
   "source": [
    "nombre_infected      1003\n",
    "nombre_sain          1963\n",
    "nombre_exposed        495\n",
    "nombre_recovered    16539\n",
    "Name: 381, dtype: int64"
   ]
  },
  {
   "cell_type": "markdown",
   "id": "05a080b3",
   "metadata": {},
   "source": [
    "nombre_infected       976\n",
    "nombre_sain          1954\n",
    "nombre_exposed        528\n",
    "nombre_recovered    16542\n",
    "Name: 382, dtype: int64"
   ]
  },
  {
   "cell_type": "markdown",
   "id": "f1e5b119",
   "metadata": {},
   "source": [
    "nombre_infected       958\n",
    "nombre_sain          1971\n",
    "nombre_exposed        516\n",
    "nombre_recovered    16555\n",
    "Name: 383, dtype: int64"
   ]
  },
  {
   "cell_type": "markdown",
   "id": "ec74a8a0",
   "metadata": {},
   "source": [
    "nombre_infected       969\n",
    "nombre_sain          1945\n",
    "nombre_exposed        503\n",
    "nombre_recovered    16583\n",
    "Name: 384, dtype: int64"
   ]
  },
  {
   "cell_type": "markdown",
   "id": "776df12f",
   "metadata": {},
   "source": [
    "nombre_infected       979\n",
    "nombre_sain          1955\n",
    "nombre_exposed        500\n",
    "nombre_recovered    16566\n",
    "Name: 385, dtype: int64"
   ]
  },
  {
   "cell_type": "markdown",
   "id": "f3c59d94",
   "metadata": {},
   "source": [
    "nombre_infected       972\n",
    "nombre_sain          1965\n",
    "nombre_exposed        496\n",
    "nombre_recovered    16567\n",
    "Name: 386, dtype: int64"
   ]
  },
  {
   "cell_type": "markdown",
   "id": "5b8f3d86",
   "metadata": {},
   "source": [
    "nombre_infected       964\n",
    "nombre_sain          1936\n",
    "nombre_exposed        496\n",
    "nombre_recovered    16604\n",
    "Name: 387, dtype: int64"
   ]
  },
  {
   "cell_type": "markdown",
   "id": "2e38b0fe",
   "metadata": {},
   "source": [
    "nombre_infected       962\n",
    "nombre_sain          1946\n",
    "nombre_exposed        505\n",
    "nombre_recovered    16587\n",
    "Name: 388, dtype: int64"
   ]
  },
  {
   "cell_type": "markdown",
   "id": "47df8e2d",
   "metadata": {},
   "source": [
    "nombre_infected       925\n",
    "nombre_sain          1932\n",
    "nombre_exposed        533\n",
    "nombre_recovered    16610\n",
    "Name: 389, dtype: int64"
   ]
  },
  {
   "cell_type": "markdown",
   "id": "ec8ce63a",
   "metadata": {},
   "source": [
    "nombre_infected       917\n",
    "nombre_sain          1952\n",
    "nombre_exposed        519\n",
    "nombre_recovered    16612\n",
    "Name: 390, dtype: int64"
   ]
  },
  {
   "cell_type": "markdown",
   "id": "a406c7db",
   "metadata": {},
   "source": [
    "nombre_infected       910\n",
    "nombre_sain          1974\n",
    "nombre_exposed        520\n",
    "nombre_recovered    16596\n",
    "Name: 391, dtype: int64"
   ]
  },
  {
   "cell_type": "markdown",
   "id": "a18e9988",
   "metadata": {},
   "source": [
    "nombre_infected       905\n",
    "nombre_sain          1998\n",
    "nombre_exposed        504\n",
    "nombre_recovered    16593\n",
    "Name: 392, dtype: int64"
   ]
  },
  {
   "cell_type": "markdown",
   "id": "3286b1d8",
   "metadata": {},
   "source": [
    "nombre_infected       911\n",
    "nombre_sain          1992\n",
    "nombre_exposed        488\n",
    "nombre_recovered    16609\n",
    "Name: 393, dtype: int64"
   ]
  },
  {
   "cell_type": "markdown",
   "id": "8f453705",
   "metadata": {},
   "source": [
    "nombre_infected       910\n",
    "nombre_sain          1977\n",
    "nombre_exposed        503\n",
    "nombre_recovered    16610\n",
    "Name: 394, dtype: int64"
   ]
  },
  {
   "cell_type": "markdown",
   "id": "22574e82",
   "metadata": {},
   "source": [
    "nombre_infected       898\n",
    "nombre_sain          1982\n",
    "nombre_exposed        501\n",
    "nombre_recovered    16619\n",
    "Name: 395, dtype: int64"
   ]
  },
  {
   "cell_type": "markdown",
   "id": "a4136ae0",
   "metadata": {},
   "source": [
    "nombre_infected       887\n",
    "nombre_sain          1984\n",
    "nombre_exposed        500\n",
    "nombre_recovered    16629\n",
    "Name: 396, dtype: int64"
   ]
  },
  {
   "cell_type": "markdown",
   "id": "b8189264",
   "metadata": {},
   "source": [
    "nombre_infected       882\n",
    "nombre_sain          1999\n",
    "nombre_exposed        492\n",
    "nombre_recovered    16627\n",
    "Name: 397, dtype: int64"
   ]
  },
  {
   "cell_type": "markdown",
   "id": "86f2e79b",
   "metadata": {},
   "source": [
    "nombre_infected       898\n",
    "nombre_sain          2022\n",
    "nombre_exposed        478\n",
    "nombre_recovered    16602\n",
    "Name: 398, dtype: int64"
   ]
  },
  {
   "cell_type": "markdown",
   "id": "ddb206c9",
   "metadata": {},
   "source": [
    "nombre_infected       897\n",
    "nombre_sain          2002\n",
    "nombre_exposed        495\n",
    "nombre_recovered    16606\n",
    "Name: 399, dtype: int64"
   ]
  },
  {
   "cell_type": "markdown",
   "id": "f17ff3d9",
   "metadata": {},
   "source": [
    "nombre_infected       893\n",
    "nombre_sain          2018\n",
    "nombre_exposed        503\n",
    "nombre_recovered    16586\n",
    "Name: 400, dtype: int64"
   ]
  },
  {
   "cell_type": "markdown",
   "id": "2e37d765",
   "metadata": {},
   "source": [
    "nombre_infected       905\n",
    "nombre_sain          2009\n",
    "nombre_exposed        496\n",
    "nombre_recovered    16590\n",
    "Name: 401, dtype: int64"
   ]
  },
  {
   "cell_type": "markdown",
   "id": "57e3d1ad",
   "metadata": {},
   "source": [
    "nombre_infected       896\n",
    "nombre_sain          2034\n",
    "nombre_exposed        473\n",
    "nombre_recovered    16597\n",
    "Name: 402, dtype: int64"
   ]
  },
  {
   "cell_type": "markdown",
   "id": "215005d0",
   "metadata": {},
   "source": [
    "nombre_infected       905\n",
    "nombre_sain          2047\n",
    "nombre_exposed        475\n",
    "nombre_recovered    16573\n",
    "Name: 403, dtype: int64"
   ]
  },
  {
   "cell_type": "markdown",
   "id": "92b2c84b",
   "metadata": {},
   "source": [
    "nombre_infected       934\n",
    "nombre_sain          2053\n",
    "nombre_exposed        460\n",
    "nombre_recovered    16553\n",
    "Name: 404, dtype: int64"
   ]
  },
  {
   "cell_type": "markdown",
   "id": "66c8ba3e",
   "metadata": {},
   "source": [
    "nombre_infected       884\n",
    "nombre_sain          2076\n",
    "nombre_exposed        474\n",
    "nombre_recovered    16566\n",
    "Name: 405, dtype: int64"
   ]
  },
  {
   "cell_type": "markdown",
   "id": "0d6095a4",
   "metadata": {},
   "source": [
    "nombre_infected       882\n",
    "nombre_sain          2086\n",
    "nombre_exposed        488\n",
    "nombre_recovered    16544\n",
    "Name: 406, dtype: int64"
   ]
  },
  {
   "cell_type": "markdown",
   "id": "957e942f",
   "metadata": {},
   "source": [
    "nombre_infected       862\n",
    "nombre_sain          2094\n",
    "nombre_exposed        499\n",
    "nombre_recovered    16545\n",
    "Name: 407, dtype: int64"
   ]
  },
  {
   "cell_type": "markdown",
   "id": "8fc15f36",
   "metadata": {},
   "source": [
    "nombre_infected       854\n",
    "nombre_sain          2116\n",
    "nombre_exposed        504\n",
    "nombre_recovered    16526\n",
    "Name: 408, dtype: int64"
   ]
  },
  {
   "cell_type": "markdown",
   "id": "4adf7b8f",
   "metadata": {},
   "source": [
    "nombre_infected       853\n",
    "nombre_sain          2094\n",
    "nombre_exposed        505\n",
    "nombre_recovered    16548\n",
    "Name: 409, dtype: int64"
   ]
  },
  {
   "cell_type": "markdown",
   "id": "5558bbdd",
   "metadata": {},
   "source": [
    "nombre_infected       860\n",
    "nombre_sain          2106\n",
    "nombre_exposed        517\n",
    "nombre_recovered    16517\n",
    "Name: 410, dtype: int64"
   ]
  },
  {
   "cell_type": "markdown",
   "id": "799b452a",
   "metadata": {},
   "source": [
    "nombre_infected       857\n",
    "nombre_sain          2107\n",
    "nombre_exposed        517\n",
    "nombre_recovered    16519\n",
    "Name: 411, dtype: int64"
   ]
  },
  {
   "cell_type": "markdown",
   "id": "b55694bb",
   "metadata": {},
   "source": [
    "nombre_infected       867\n",
    "nombre_sain          2149\n",
    "nombre_exposed        505\n",
    "nombre_recovered    16479\n",
    "Name: 412, dtype: int64"
   ]
  },
  {
   "cell_type": "markdown",
   "id": "d1c66beb",
   "metadata": {},
   "source": [
    "nombre_infected       868\n",
    "nombre_sain          2130\n",
    "nombre_exposed        527\n",
    "nombre_recovered    16475\n",
    "Name: 413, dtype: int64"
   ]
  },
  {
   "cell_type": "markdown",
   "id": "727cba8a",
   "metadata": {},
   "source": [
    "nombre_infected       860\n",
    "nombre_sain          2124\n",
    "nombre_exposed        531\n",
    "nombre_recovered    16485\n",
    "Name: 414, dtype: int64"
   ]
  },
  {
   "cell_type": "markdown",
   "id": "52ab7469",
   "metadata": {},
   "source": [
    "nombre_infected       861\n",
    "nombre_sain          2138\n",
    "nombre_exposed        508\n",
    "nombre_recovered    16493\n",
    "Name: 415, dtype: int64"
   ]
  },
  {
   "cell_type": "markdown",
   "id": "b1a442bd",
   "metadata": {},
   "source": [
    "nombre_infected       871\n",
    "nombre_sain          2124\n",
    "nombre_exposed        506\n",
    "nombre_recovered    16499\n",
    "Name: 416, dtype: int64"
   ]
  },
  {
   "cell_type": "markdown",
   "id": "759338e7",
   "metadata": {},
   "source": [
    "nombre_infected       860\n",
    "nombre_sain          2114\n",
    "nombre_exposed        527\n",
    "nombre_recovered    16499\n",
    "Name: 417, dtype: int64"
   ]
  },
  {
   "cell_type": "markdown",
   "id": "590c6fd4",
   "metadata": {},
   "source": [
    "nombre_infected       826\n",
    "nombre_sain          2137\n",
    "nombre_exposed        544\n",
    "nombre_recovered    16493\n",
    "Name: 418, dtype: int64"
   ]
  },
  {
   "cell_type": "markdown",
   "id": "7e4e2318",
   "metadata": {},
   "source": [
    "nombre_infected       850\n",
    "nombre_sain          2146\n",
    "nombre_exposed        520\n",
    "nombre_recovered    16484\n",
    "Name: 419, dtype: int64"
   ]
  },
  {
   "cell_type": "markdown",
   "id": "73414b71",
   "metadata": {},
   "source": [
    "nombre_infected       831\n",
    "nombre_sain          2161\n",
    "nombre_exposed        537\n",
    "nombre_recovered    16471\n",
    "Name: 420, dtype: int64"
   ]
  },
  {
   "cell_type": "markdown",
   "id": "976296ce",
   "metadata": {},
   "source": [
    "nombre_infected       822\n",
    "nombre_sain          2168\n",
    "nombre_exposed        519\n",
    "nombre_recovered    16491\n",
    "Name: 421, dtype: int64"
   ]
  },
  {
   "cell_type": "markdown",
   "id": "70bdafc5",
   "metadata": {},
   "source": [
    "nombre_infected       859\n",
    "nombre_sain          2154\n",
    "nombre_exposed        524\n",
    "nombre_recovered    16463\n",
    "Name: 422, dtype: int64"
   ]
  },
  {
   "cell_type": "markdown",
   "id": "16d67a77",
   "metadata": {},
   "source": [
    "nombre_infected       859\n",
    "nombre_sain          2154\n",
    "nombre_exposed        532\n",
    "nombre_recovered    16455\n",
    "Name: 423, dtype: int64"
   ]
  },
  {
   "cell_type": "markdown",
   "id": "ab434308",
   "metadata": {},
   "source": [
    "nombre_infected       840\n",
    "nombre_sain          2138\n",
    "nombre_exposed        563\n",
    "nombre_recovered    16459\n",
    "Name: 424, dtype: int64"
   ]
  },
  {
   "cell_type": "markdown",
   "id": "99712dc3",
   "metadata": {},
   "source": [
    "nombre_infected       821\n",
    "nombre_sain          2129\n",
    "nombre_exposed        574\n",
    "nombre_recovered    16476\n",
    "Name: 425, dtype: int64"
   ]
  },
  {
   "cell_type": "markdown",
   "id": "b646848a",
   "metadata": {},
   "source": [
    "nombre_infected       818\n",
    "nombre_sain          2132\n",
    "nombre_exposed        564\n",
    "nombre_recovered    16486\n",
    "Name: 426, dtype: int64"
   ]
  },
  {
   "cell_type": "markdown",
   "id": "9734c032",
   "metadata": {},
   "source": [
    "nombre_infected       840\n",
    "nombre_sain          2148\n",
    "nombre_exposed        557\n",
    "nombre_recovered    16455\n",
    "Name: 427, dtype: int64"
   ]
  },
  {
   "cell_type": "markdown",
   "id": "af0a51f7",
   "metadata": {},
   "source": [
    "nombre_infected       835\n",
    "nombre_sain          2157\n",
    "nombre_exposed        565\n",
    "nombre_recovered    16443\n",
    "Name: 428, dtype: int64"
   ]
  },
  {
   "cell_type": "markdown",
   "id": "e381a2e5",
   "metadata": {},
   "source": [
    "nombre_infected       850\n",
    "nombre_sain          2134\n",
    "nombre_exposed        570\n",
    "nombre_recovered    16446\n",
    "Name: 429, dtype: int64"
   ]
  },
  {
   "cell_type": "markdown",
   "id": "ba5515ee",
   "metadata": {},
   "source": [
    "nombre_infected       868\n",
    "nombre_sain          2130\n",
    "nombre_exposed        564\n",
    "nombre_recovered    16438\n",
    "Name: 430, dtype: int64"
   ]
  },
  {
   "cell_type": "markdown",
   "id": "bcb7c5ad",
   "metadata": {},
   "source": [
    "nombre_infected       870\n",
    "nombre_sain          2131\n",
    "nombre_exposed        573\n",
    "nombre_recovered    16426\n",
    "Name: 431, dtype: int64"
   ]
  },
  {
   "cell_type": "markdown",
   "id": "1b6d3016",
   "metadata": {},
   "source": [
    "nombre_infected       894\n",
    "nombre_sain          2109\n",
    "nombre_exposed        569\n",
    "nombre_recovered    16428\n",
    "Name: 432, dtype: int64"
   ]
  },
  {
   "cell_type": "markdown",
   "id": "6611bc94",
   "metadata": {},
   "source": [
    "nombre_infected       891\n",
    "nombre_sain          2085\n",
    "nombre_exposed        581\n",
    "nombre_recovered    16443\n",
    "Name: 433, dtype: int64"
   ]
  },
  {
   "cell_type": "markdown",
   "id": "07d4dcef",
   "metadata": {},
   "source": [
    "nombre_infected       888\n",
    "nombre_sain          2103\n",
    "nombre_exposed        559\n",
    "nombre_recovered    16450\n",
    "Name: 434, dtype: int64"
   ]
  },
  {
   "cell_type": "markdown",
   "id": "f21a86e2",
   "metadata": {},
   "source": [
    "nombre_infected       878\n",
    "nombre_sain          2090\n",
    "nombre_exposed        583\n",
    "nombre_recovered    16449\n",
    "Name: 435, dtype: int64"
   ]
  },
  {
   "cell_type": "markdown",
   "id": "ccd536f3",
   "metadata": {},
   "source": [
    "nombre_infected       871\n",
    "nombre_sain          2077\n",
    "nombre_exposed        573\n",
    "nombre_recovered    16479\n",
    "Name: 436, dtype: int64"
   ]
  },
  {
   "cell_type": "markdown",
   "id": "0ba8ed58",
   "metadata": {},
   "source": [
    "nombre_infected       885\n",
    "nombre_sain          2112\n",
    "nombre_exposed        529\n",
    "nombre_recovered    16474\n",
    "Name: 437, dtype: int64"
   ]
  },
  {
   "cell_type": "markdown",
   "id": "cfffa25d",
   "metadata": {},
   "source": [
    "nombre_infected       897\n",
    "nombre_sain          2097\n",
    "nombre_exposed        525\n",
    "nombre_recovered    16481\n",
    "Name: 438, dtype: int64"
   ]
  },
  {
   "cell_type": "markdown",
   "id": "b6993a4c",
   "metadata": {},
   "source": [
    "nombre_infected       875\n",
    "nombre_sain          2118\n",
    "nombre_exposed        515\n",
    "nombre_recovered    16492\n",
    "Name: 439, dtype: int64"
   ]
  },
  {
   "cell_type": "markdown",
   "id": "5f500228",
   "metadata": {},
   "source": [
    "nombre_infected       854\n",
    "nombre_sain          2114\n",
    "nombre_exposed        538\n",
    "nombre_recovered    16494\n",
    "Name: 440, dtype: int64"
   ]
  },
  {
   "cell_type": "markdown",
   "id": "7995c4d1",
   "metadata": {},
   "source": [
    "nombre_infected       847\n",
    "nombre_sain          2109\n",
    "nombre_exposed        536\n",
    "nombre_recovered    16508\n",
    "Name: 441, dtype: int64"
   ]
  },
  {
   "cell_type": "markdown",
   "id": "6efed911",
   "metadata": {},
   "source": [
    "nombre_infected       842\n",
    "nombre_sain          2121\n",
    "nombre_exposed        522\n",
    "nombre_recovered    16515\n",
    "Name: 442, dtype: int64"
   ]
  },
  {
   "cell_type": "markdown",
   "id": "3ff6b39e",
   "metadata": {},
   "source": [
    "nombre_infected       842\n",
    "nombre_sain          2104\n",
    "nombre_exposed        536\n",
    "nombre_recovered    16518\n",
    "Name: 443, dtype: int64"
   ]
  },
  {
   "cell_type": "markdown",
   "id": "3fca94ff",
   "metadata": {},
   "source": [
    "nombre_infected       830\n",
    "nombre_sain          2111\n",
    "nombre_exposed        526\n",
    "nombre_recovered    16533\n",
    "Name: 444, dtype: int64"
   ]
  },
  {
   "cell_type": "markdown",
   "id": "d98bdb0b",
   "metadata": {},
   "source": [
    "nombre_infected       838\n",
    "nombre_sain          2121\n",
    "nombre_exposed        497\n",
    "nombre_recovered    16544\n",
    "Name: 445, dtype: int64"
   ]
  },
  {
   "cell_type": "markdown",
   "id": "0aaa1f0a",
   "metadata": {},
   "source": [
    "nombre_infected       845\n",
    "nombre_sain          2121\n",
    "nombre_exposed        499\n",
    "nombre_recovered    16535\n",
    "Name: 446, dtype: int64"
   ]
  },
  {
   "cell_type": "markdown",
   "id": "10eae7b3",
   "metadata": {},
   "source": [
    "nombre_infected       854\n",
    "nombre_sain          2128\n",
    "nombre_exposed        496\n",
    "nombre_recovered    16522\n",
    "Name: 447, dtype: int64"
   ]
  },
  {
   "cell_type": "markdown",
   "id": "392aa661",
   "metadata": {},
   "source": [
    "nombre_infected       839\n",
    "nombre_sain          2106\n",
    "nombre_exposed        511\n",
    "nombre_recovered    16544\n",
    "Name: 448, dtype: int64"
   ]
  },
  {
   "cell_type": "markdown",
   "id": "55804a3d",
   "metadata": {},
   "source": [
    "nombre_infected       844\n",
    "nombre_sain          2093\n",
    "nombre_exposed        518\n",
    "nombre_recovered    16545\n",
    "Name: 449, dtype: int64"
   ]
  },
  {
   "cell_type": "markdown",
   "id": "65a4e481",
   "metadata": {},
   "source": [
    "nombre_infected       833\n",
    "nombre_sain          2099\n",
    "nombre_exposed        522\n",
    "nombre_recovered    16546\n",
    "Name: 450, dtype: int64"
   ]
  },
  {
   "cell_type": "markdown",
   "id": "c73542f9",
   "metadata": {},
   "source": [
    "nombre_infected       835\n",
    "nombre_sain          2103\n",
    "nombre_exposed        512\n",
    "nombre_recovered    16550\n",
    "Name: 451, dtype: int64"
   ]
  },
  {
   "cell_type": "markdown",
   "id": "56e34156",
   "metadata": {},
   "source": [
    "nombre_infected       822\n",
    "nombre_sain          2104\n",
    "nombre_exposed        532\n",
    "nombre_recovered    16542\n",
    "Name: 452, dtype: int64"
   ]
  },
  {
   "cell_type": "markdown",
   "id": "80e6ec6b",
   "metadata": {},
   "source": [
    "nombre_infected       845\n",
    "nombre_sain          2126\n",
    "nombre_exposed        499\n",
    "nombre_recovered    16530\n",
    "Name: 453, dtype: int64"
   ]
  },
  {
   "cell_type": "markdown",
   "id": "e15ef14a",
   "metadata": {},
   "source": [
    "nombre_infected       863\n",
    "nombre_sain          2115\n",
    "nombre_exposed        483\n",
    "nombre_recovered    16539\n",
    "Name: 454, dtype: int64"
   ]
  },
  {
   "cell_type": "markdown",
   "id": "c103bbc0",
   "metadata": {},
   "source": [
    "nombre_infected       867\n",
    "nombre_sain          2133\n",
    "nombre_exposed        489\n",
    "nombre_recovered    16511\n",
    "Name: 455, dtype: int64"
   ]
  },
  {
   "cell_type": "markdown",
   "id": "57eff097",
   "metadata": {},
   "source": [
    "nombre_infected       862\n",
    "nombre_sain          2120\n",
    "nombre_exposed        511\n",
    "nombre_recovered    16507\n",
    "Name: 456, dtype: int64"
   ]
  },
  {
   "cell_type": "markdown",
   "id": "dbd11ff6",
   "metadata": {},
   "source": [
    "nombre_infected       869\n",
    "nombre_sain          2131\n",
    "nombre_exposed        501\n",
    "nombre_recovered    16499\n",
    "Name: 457, dtype: int64"
   ]
  },
  {
   "cell_type": "markdown",
   "id": "88e01c4e",
   "metadata": {},
   "source": [
    "nombre_infected       880\n",
    "nombre_sain          2131\n",
    "nombre_exposed        492\n",
    "nombre_recovered    16497\n",
    "Name: 458, dtype: int64"
   ]
  },
  {
   "cell_type": "markdown",
   "id": "4b995225",
   "metadata": {},
   "source": [
    "nombre_infected       863\n",
    "nombre_sain          2118\n",
    "nombre_exposed        500\n",
    "nombre_recovered    16519\n",
    "Name: 459, dtype: int64"
   ]
  },
  {
   "cell_type": "markdown",
   "id": "7480de72",
   "metadata": {},
   "source": [
    "nombre_infected       846\n",
    "nombre_sain          2112\n",
    "nombre_exposed        524\n",
    "nombre_recovered    16518\n",
    "Name: 460, dtype: int64"
   ]
  },
  {
   "cell_type": "markdown",
   "id": "95347443",
   "metadata": {},
   "source": [
    "nombre_infected       847\n",
    "nombre_sain          2076\n",
    "nombre_exposed        557\n",
    "nombre_recovered    16520\n",
    "Name: 461, dtype: int64"
   ]
  },
  {
   "cell_type": "markdown",
   "id": "18380284",
   "metadata": {},
   "source": [
    "nombre_infected       836\n",
    "nombre_sain          2071\n",
    "nombre_exposed        562\n",
    "nombre_recovered    16531\n",
    "Name: 462, dtype: int64"
   ]
  },
  {
   "cell_type": "markdown",
   "id": "24d0e034",
   "metadata": {},
   "source": [
    "nombre_infected       859\n",
    "nombre_sain          2033\n",
    "nombre_exposed        582\n",
    "nombre_recovered    16526\n",
    "Name: 463, dtype: int64"
   ]
  },
  {
   "cell_type": "markdown",
   "id": "f41dcef5",
   "metadata": {},
   "source": [
    "nombre_infected       861\n",
    "nombre_sain          2010\n",
    "nombre_exposed        587\n",
    "nombre_recovered    16542\n",
    "Name: 464, dtype: int64"
   ]
  },
  {
   "cell_type": "markdown",
   "id": "ff65edc8",
   "metadata": {},
   "source": [
    "nombre_infected       864\n",
    "nombre_sain          2003\n",
    "nombre_exposed        571\n",
    "nombre_recovered    16562\n",
    "Name: 465, dtype: int64"
   ]
  },
  {
   "cell_type": "markdown",
   "id": "4c5b2c09",
   "metadata": {},
   "source": [
    "nombre_infected       874\n",
    "nombre_sain          1994\n",
    "nombre_exposed        556\n",
    "nombre_recovered    16576\n",
    "Name: 466, dtype: int64"
   ]
  },
  {
   "cell_type": "markdown",
   "id": "dbf0a690",
   "metadata": {},
   "source": [
    "nombre_infected       909\n",
    "nombre_sain          1987\n",
    "nombre_exposed        535\n",
    "nombre_recovered    16569\n",
    "Name: 467, dtype: int64"
   ]
  },
  {
   "cell_type": "markdown",
   "id": "4162df55",
   "metadata": {},
   "source": [
    "nombre_infected       884\n",
    "nombre_sain          1978\n",
    "nombre_exposed        536\n",
    "nombre_recovered    16602\n",
    "Name: 468, dtype: int64"
   ]
  },
  {
   "cell_type": "markdown",
   "id": "3c61ad11",
   "metadata": {},
   "source": [
    "nombre_infected       901\n",
    "nombre_sain          1992\n",
    "nombre_exposed        500\n",
    "nombre_recovered    16607\n",
    "Name: 469, dtype: int64"
   ]
  },
  {
   "cell_type": "markdown",
   "id": "d4f3c8d5",
   "metadata": {},
   "source": [
    "nombre_infected       920\n",
    "nombre_sain          1994\n",
    "nombre_exposed        475\n",
    "nombre_recovered    16611\n",
    "Name: 470, dtype: int64"
   ]
  },
  {
   "cell_type": "markdown",
   "id": "95fc7b81",
   "metadata": {},
   "source": [
    "nombre_infected       906\n",
    "nombre_sain          1952\n",
    "nombre_exposed        491\n",
    "nombre_recovered    16651\n",
    "Name: 471, dtype: int64"
   ]
  },
  {
   "cell_type": "markdown",
   "id": "92a5111f",
   "metadata": {},
   "source": [
    "nombre_infected       866\n",
    "nombre_sain          1957\n",
    "nombre_exposed        508\n",
    "nombre_recovered    16669\n",
    "Name: 472, dtype: int64"
   ]
  },
  {
   "cell_type": "markdown",
   "id": "e6f7f87b",
   "metadata": {},
   "source": [
    "nombre_infected       848\n",
    "nombre_sain          1947\n",
    "nombre_exposed        518\n",
    "nombre_recovered    16687\n",
    "Name: 473, dtype: int64"
   ]
  },
  {
   "cell_type": "markdown",
   "id": "48e3f47c",
   "metadata": {},
   "source": [
    "nombre_infected       834\n",
    "nombre_sain          1957\n",
    "nombre_exposed        513\n",
    "nombre_recovered    16696\n",
    "Name: 474, dtype: int64"
   ]
  },
  {
   "cell_type": "markdown",
   "id": "dcea4ebf",
   "metadata": {},
   "source": [
    "nombre_infected       818\n",
    "nombre_sain          1984\n",
    "nombre_exposed        514\n",
    "nombre_recovered    16684\n",
    "Name: 475, dtype: int64"
   ]
  },
  {
   "cell_type": "markdown",
   "id": "5fb2b698",
   "metadata": {},
   "source": [
    "nombre_infected       822\n",
    "nombre_sain          1972\n",
    "nombre_exposed        504\n",
    "nombre_recovered    16702\n",
    "Name: 476, dtype: int64"
   ]
  },
  {
   "cell_type": "markdown",
   "id": "1c45ef46",
   "metadata": {},
   "source": [
    "nombre_infected       810\n",
    "nombre_sain          1998\n",
    "nombre_exposed        507\n",
    "nombre_recovered    16685\n",
    "Name: 477, dtype: int64"
   ]
  },
  {
   "cell_type": "markdown",
   "id": "4bc5c1c7",
   "metadata": {},
   "source": [
    "nombre_infected       806\n",
    "nombre_sain          2016\n",
    "nombre_exposed        493\n",
    "nombre_recovered    16685\n",
    "Name: 478, dtype: int64"
   ]
  },
  {
   "cell_type": "markdown",
   "id": "0266aa7f",
   "metadata": {},
   "source": [
    "nombre_infected       791\n",
    "nombre_sain          2009\n",
    "nombre_exposed        499\n",
    "nombre_recovered    16701\n",
    "Name: 479, dtype: int64"
   ]
  },
  {
   "cell_type": "markdown",
   "id": "8612ac5f",
   "metadata": {},
   "source": [
    "nombre_infected       780\n",
    "nombre_sain          2005\n",
    "nombre_exposed        494\n",
    "nombre_recovered    16721\n",
    "Name: 480, dtype: int64"
   ]
  },
  {
   "cell_type": "markdown",
   "id": "f9467528",
   "metadata": {},
   "source": [
    "nombre_infected       784\n",
    "nombre_sain          2022\n",
    "nombre_exposed        483\n",
    "nombre_recovered    16711\n",
    "Name: 481, dtype: int64"
   ]
  },
  {
   "cell_type": "markdown",
   "id": "aa79351c",
   "metadata": {},
   "source": [
    "nombre_infected       781\n",
    "nombre_sain          2036\n",
    "nombre_exposed        461\n",
    "nombre_recovered    16722\n",
    "Name: 482, dtype: int64"
   ]
  },
  {
   "cell_type": "markdown",
   "id": "c784947b",
   "metadata": {},
   "source": [
    "nombre_infected       797\n",
    "nombre_sain          2063\n",
    "nombre_exposed        439\n",
    "nombre_recovered    16701\n",
    "Name: 483, dtype: int64"
   ]
  },
  {
   "cell_type": "markdown",
   "id": "8368c7d0",
   "metadata": {},
   "source": [
    "nombre_infected       795\n",
    "nombre_sain          2100\n",
    "nombre_exposed        436\n",
    "nombre_recovered    16669\n",
    "Name: 484, dtype: int64"
   ]
  },
  {
   "cell_type": "markdown",
   "id": "629e5b89",
   "metadata": {},
   "source": [
    "nombre_infected       807\n",
    "nombre_sain          2113\n",
    "nombre_exposed        440\n",
    "nombre_recovered    16640\n",
    "Name: 485, dtype: int64"
   ]
  },
  {
   "cell_type": "markdown",
   "id": "9a4d761f",
   "metadata": {},
   "source": [
    "nombre_infected       783\n",
    "nombre_sain          2121\n",
    "nombre_exposed        448\n",
    "nombre_recovered    16648\n",
    "Name: 486, dtype: int64"
   ]
  },
  {
   "cell_type": "markdown",
   "id": "90b51bfa",
   "metadata": {},
   "source": [
    "nombre_infected       788\n",
    "nombre_sain          2144\n",
    "nombre_exposed        448\n",
    "nombre_recovered    16620\n",
    "Name: 487, dtype: int64"
   ]
  },
  {
   "cell_type": "markdown",
   "id": "c251667f",
   "metadata": {},
   "source": [
    "nombre_infected       767\n",
    "nombre_sain          2183\n",
    "nombre_exposed        459\n",
    "nombre_recovered    16591\n",
    "Name: 488, dtype: int64"
   ]
  },
  {
   "cell_type": "markdown",
   "id": "e067ffe0",
   "metadata": {},
   "source": [
    "nombre_infected       770\n",
    "nombre_sain          2205\n",
    "nombre_exposed        454\n",
    "nombre_recovered    16571\n",
    "Name: 489, dtype: int64"
   ]
  },
  {
   "cell_type": "markdown",
   "id": "5f134d21",
   "metadata": {},
   "source": [
    "nombre_infected       782\n",
    "nombre_sain          2225\n",
    "nombre_exposed        461\n",
    "nombre_recovered    16532\n",
    "Name: 490, dtype: int64"
   ]
  },
  {
   "cell_type": "markdown",
   "id": "c8cd1b11",
   "metadata": {},
   "source": [
    "nombre_infected       774\n",
    "nombre_sain          2260\n",
    "nombre_exposed        465\n",
    "nombre_recovered    16501\n",
    "Name: 491, dtype: int64"
   ]
  },
  {
   "cell_type": "markdown",
   "id": "509e8509",
   "metadata": {},
   "source": [
    "nombre_infected       787\n",
    "nombre_sain          2287\n",
    "nombre_exposed        463\n",
    "nombre_recovered    16463\n",
    "Name: 492, dtype: int64"
   ]
  },
  {
   "cell_type": "markdown",
   "id": "69b21829",
   "metadata": {},
   "source": [
    "nombre_infected       785\n",
    "nombre_sain          2287\n",
    "nombre_exposed        484\n",
    "nombre_recovered    16444\n",
    "Name: 493, dtype: int64"
   ]
  },
  {
   "cell_type": "markdown",
   "id": "4e809f46",
   "metadata": {},
   "source": [
    "nombre_infected       789\n",
    "nombre_sain          2290\n",
    "nombre_exposed        512\n",
    "nombre_recovered    16409\n",
    "Name: 494, dtype: int64"
   ]
  },
  {
   "cell_type": "markdown",
   "id": "50782f39",
   "metadata": {},
   "source": [
    "nombre_infected       787\n",
    "nombre_sain          2315\n",
    "nombre_exposed        513\n",
    "nombre_recovered    16385\n",
    "Name: 495, dtype: int64"
   ]
  },
  {
   "cell_type": "markdown",
   "id": "0cf903a3",
   "metadata": {},
   "source": [
    "nombre_infected       809\n",
    "nombre_sain          2328\n",
    "nombre_exposed        531\n",
    "nombre_recovered    16332\n",
    "Name: 496, dtype: int64"
   ]
  },
  {
   "cell_type": "markdown",
   "id": "b143e441",
   "metadata": {},
   "source": [
    "nombre_infected       813\n",
    "nombre_sain          2354\n",
    "nombre_exposed        528\n",
    "nombre_recovered    16305\n",
    "Name: 497, dtype: int64"
   ]
  },
  {
   "cell_type": "markdown",
   "id": "b6c24f0e",
   "metadata": {},
   "source": [
    "nombre_infected       828\n",
    "nombre_sain          2363\n",
    "nombre_exposed        534\n",
    "nombre_recovered    16275\n",
    "Name: 498, dtype: int64"
   ]
  },
  {
   "cell_type": "markdown",
   "id": "27580ab1",
   "metadata": {},
   "source": [
    "nombre_infected       871\n",
    "nombre_sain          2344\n",
    "nombre_exposed        539\n",
    "nombre_recovered    16246\n",
    "Name: 499, dtype: int64"
   ]
  },
  {
   "cell_type": "markdown",
   "id": "b12eef77",
   "metadata": {},
   "source": [
    "nombre_infected       858\n",
    "nombre_sain          2338\n",
    "nombre_exposed        544\n",
    "nombre_recovered    16260\n",
    "Name: 500, dtype: int64"
   ]
  },
  {
   "cell_type": "markdown",
   "id": "7607153a",
   "metadata": {},
   "source": [
    "nombre_infected       854\n",
    "nombre_sain          2326\n",
    "nombre_exposed        543\n",
    "nombre_recovered    16277\n",
    "Name: 501, dtype: int64"
   ]
  },
  {
   "cell_type": "markdown",
   "id": "6ab5734f",
   "metadata": {},
   "source": [
    "nombre_infected       871\n",
    "nombre_sain          2340\n",
    "nombre_exposed        528\n",
    "nombre_recovered    16261\n",
    "Name: 502, dtype: int64"
   ]
  },
  {
   "cell_type": "markdown",
   "id": "21700cc6",
   "metadata": {},
   "source": [
    "nombre_infected       878\n",
    "nombre_sain          2328\n",
    "nombre_exposed        519\n",
    "nombre_recovered    16275\n",
    "Name: 503, dtype: int64"
   ]
  },
  {
   "cell_type": "markdown",
   "id": "5b72d25b",
   "metadata": {},
   "source": [
    "nombre_infected       894\n",
    "nombre_sain          2303\n",
    "nombre_exposed        539\n",
    "nombre_recovered    16264\n",
    "Name: 504, dtype: int64"
   ]
  },
  {
   "cell_type": "markdown",
   "id": "35c2ac84",
   "metadata": {},
   "source": [
    "nombre_infected       882\n",
    "nombre_sain          2305\n",
    "nombre_exposed        553\n",
    "nombre_recovered    16260\n",
    "Name: 505, dtype: int64"
   ]
  },
  {
   "cell_type": "markdown",
   "id": "1a136d36",
   "metadata": {},
   "source": [
    "nombre_infected       924\n",
    "nombre_sain          2293\n",
    "nombre_exposed        540\n",
    "nombre_recovered    16243\n",
    "Name: 506, dtype: int64"
   ]
  },
  {
   "cell_type": "markdown",
   "id": "be78a190",
   "metadata": {},
   "source": [
    "nombre_infected       940\n",
    "nombre_sain          2282\n",
    "nombre_exposed        550\n",
    "nombre_recovered    16228\n",
    "Name: 507, dtype: int64"
   ]
  },
  {
   "cell_type": "markdown",
   "id": "82fa68f6",
   "metadata": {},
   "source": [
    "nombre_infected       944\n",
    "nombre_sain          2249\n",
    "nombre_exposed        568\n",
    "nombre_recovered    16239\n",
    "Name: 508, dtype: int64"
   ]
  },
  {
   "cell_type": "markdown",
   "id": "e65bad93",
   "metadata": {},
   "source": [
    "nombre_infected       978\n",
    "nombre_sain          2225\n",
    "nombre_exposed        565\n",
    "nombre_recovered    16232\n",
    "Name: 509, dtype: int64"
   ]
  },
  {
   "cell_type": "markdown",
   "id": "382157b7",
   "metadata": {},
   "source": [
    "nombre_infected       973\n",
    "nombre_sain          2211\n",
    "nombre_exposed        583\n",
    "nombre_recovered    16233\n",
    "Name: 510, dtype: int64"
   ]
  },
  {
   "cell_type": "markdown",
   "id": "35e6449c",
   "metadata": {},
   "source": [
    "nombre_infected       965\n",
    "nombre_sain          2194\n",
    "nombre_exposed        589\n",
    "nombre_recovered    16252\n",
    "Name: 511, dtype: int64"
   ]
  },
  {
   "cell_type": "markdown",
   "id": "25e77d5d",
   "metadata": {},
   "source": [
    "nombre_infected      1007\n",
    "nombre_sain          2174\n",
    "nombre_exposed        587\n",
    "nombre_recovered    16232\n",
    "Name: 512, dtype: int64"
   ]
  },
  {
   "cell_type": "markdown",
   "id": "844dd61c",
   "metadata": {},
   "source": [
    "nombre_infected      1019\n",
    "nombre_sain          2157\n",
    "nombre_exposed        592\n",
    "nombre_recovered    16232\n",
    "Name: 513, dtype: int64"
   ]
  },
  {
   "cell_type": "markdown",
   "id": "2180b415",
   "metadata": {},
   "source": [
    "nombre_infected      1003\n",
    "nombre_sain          2136\n",
    "nombre_exposed        602\n",
    "nombre_recovered    16259\n",
    "Name: 514, dtype: int64"
   ]
  },
  {
   "cell_type": "markdown",
   "id": "995c8d1f",
   "metadata": {},
   "source": [
    "nombre_infected      1043\n",
    "nombre_sain          2116\n",
    "nombre_exposed        592\n",
    "nombre_recovered    16249\n",
    "Name: 515, dtype: int64"
   ]
  },
  {
   "cell_type": "markdown",
   "id": "c9b79060",
   "metadata": {},
   "source": [
    "nombre_infected      1039\n",
    "nombre_sain          2109\n",
    "nombre_exposed        607\n",
    "nombre_recovered    16245\n",
    "Name: 516, dtype: int64"
   ]
  },
  {
   "cell_type": "markdown",
   "id": "eaf50c28",
   "metadata": {},
   "source": [
    "nombre_infected      1018\n",
    "nombre_sain          2120\n",
    "nombre_exposed        623\n",
    "nombre_recovered    16239\n",
    "Name: 517, dtype: int64"
   ]
  },
  {
   "cell_type": "markdown",
   "id": "75b21be3",
   "metadata": {},
   "source": [
    "nombre_infected      1037\n",
    "nombre_sain          2116\n",
    "nombre_exposed        616\n",
    "nombre_recovered    16231\n",
    "Name: 518, dtype: int64"
   ]
  },
  {
   "cell_type": "markdown",
   "id": "b9b79fd7",
   "metadata": {},
   "source": [
    "nombre_infected      1057\n",
    "nombre_sain          2100\n",
    "nombre_exposed        630\n",
    "nombre_recovered    16213\n",
    "Name: 519, dtype: int64"
   ]
  },
  {
   "cell_type": "markdown",
   "id": "ac738846",
   "metadata": {},
   "source": [
    "nombre_infected      1068\n",
    "nombre_sain          2097\n",
    "nombre_exposed        617\n",
    "nombre_recovered    16218\n",
    "Name: 520, dtype: int64"
   ]
  },
  {
   "cell_type": "markdown",
   "id": "aa1e6fa0",
   "metadata": {},
   "source": [
    "nombre_infected      1085\n",
    "nombre_sain          2113\n",
    "nombre_exposed        605\n",
    "nombre_recovered    16197\n",
    "Name: 521, dtype: int64"
   ]
  },
  {
   "cell_type": "markdown",
   "id": "6380c99a",
   "metadata": {},
   "source": [
    "nombre_infected      1057\n",
    "nombre_sain          2067\n",
    "nombre_exposed        637\n",
    "nombre_recovered    16239\n",
    "Name: 522, dtype: int64"
   ]
  },
  {
   "cell_type": "markdown",
   "id": "7b7fbabd",
   "metadata": {},
   "source": [
    "nombre_infected      1067\n",
    "nombre_sain          2062\n",
    "nombre_exposed        642\n",
    "nombre_recovered    16229\n",
    "Name: 523, dtype: int64"
   ]
  },
  {
   "cell_type": "markdown",
   "id": "7f48aabf",
   "metadata": {},
   "source": [
    "nombre_infected      1091\n",
    "nombre_sain          2087\n",
    "nombre_exposed        626\n",
    "nombre_recovered    16196\n",
    "Name: 524, dtype: int64"
   ]
  },
  {
   "cell_type": "markdown",
   "id": "32d7205b",
   "metadata": {},
   "source": [
    "nombre_infected      1085\n",
    "nombre_sain          2061\n",
    "nombre_exposed        643\n",
    "nombre_recovered    16211\n",
    "Name: 525, dtype: int64"
   ]
  },
  {
   "cell_type": "markdown",
   "id": "c4fb6698",
   "metadata": {},
   "source": [
    "nombre_infected      1093\n",
    "nombre_sain          2084\n",
    "nombre_exposed        624\n",
    "nombre_recovered    16199\n",
    "Name: 526, dtype: int64"
   ]
  },
  {
   "cell_type": "markdown",
   "id": "11138ba8",
   "metadata": {},
   "source": [
    "nombre_infected      1100\n",
    "nombre_sain          2036\n",
    "nombre_exposed        649\n",
    "nombre_recovered    16215\n",
    "Name: 527, dtype: int64"
   ]
  },
  {
   "cell_type": "markdown",
   "id": "3cdfa9a4",
   "metadata": {},
   "source": [
    "nombre_infected      1090\n",
    "nombre_sain          2024\n",
    "nombre_exposed        652\n",
    "nombre_recovered    16234\n",
    "Name: 528, dtype: int64"
   ]
  },
  {
   "cell_type": "markdown",
   "id": "3891c2a3",
   "metadata": {},
   "source": [
    "nombre_infected      1101\n",
    "nombre_sain          2031\n",
    "nombre_exposed        635\n",
    "nombre_recovered    16233\n",
    "Name: 529, dtype: int64"
   ]
  },
  {
   "cell_type": "markdown",
   "id": "0e73f2c8",
   "metadata": {},
   "source": [
    "nombre_infected      1091\n",
    "nombre_sain          2022\n",
    "nombre_exposed        647\n",
    "nombre_recovered    16240\n",
    "Name: 530, dtype: int64"
   ]
  },
  {
   "cell_type": "markdown",
   "id": "d56c9520",
   "metadata": {},
   "source": [
    "nombre_infected      1075\n",
    "nombre_sain          2007\n",
    "nombre_exposed        659\n",
    "nombre_recovered    16259\n",
    "Name: 531, dtype: int64"
   ]
  },
  {
   "cell_type": "markdown",
   "id": "f3e17268",
   "metadata": {},
   "source": [
    "nombre_infected      1061\n",
    "nombre_sain          2019\n",
    "nombre_exposed        646\n",
    "nombre_recovered    16274\n",
    "Name: 532, dtype: int64"
   ]
  },
  {
   "cell_type": "markdown",
   "id": "fa4dbfbf",
   "metadata": {},
   "source": [
    "nombre_infected      1048\n",
    "nombre_sain          2013\n",
    "nombre_exposed        657\n",
    "nombre_recovered    16282\n",
    "Name: 533, dtype: int64"
   ]
  },
  {
   "cell_type": "markdown",
   "id": "1f759707",
   "metadata": {},
   "source": [
    "nombre_infected      1071\n",
    "nombre_sain          1985\n",
    "nombre_exposed        662\n",
    "nombre_recovered    16282\n",
    "Name: 534, dtype: int64"
   ]
  },
  {
   "cell_type": "markdown",
   "id": "07e00589",
   "metadata": {},
   "source": [
    "nombre_infected      1069\n",
    "nombre_sain          1947\n",
    "nombre_exposed        689\n",
    "nombre_recovered    16295\n",
    "Name: 535, dtype: int64"
   ]
  },
  {
   "cell_type": "markdown",
   "id": "ed55783f",
   "metadata": {},
   "source": [
    "nombre_infected      1079\n",
    "nombre_sain          1942\n",
    "nombre_exposed        668\n",
    "nombre_recovered    16311\n",
    "Name: 536, dtype: int64"
   ]
  },
  {
   "cell_type": "markdown",
   "id": "1404c2d7",
   "metadata": {},
   "source": [
    "nombre_infected      1084\n",
    "nombre_sain          1914\n",
    "nombre_exposed        669\n",
    "nombre_recovered    16333\n",
    "Name: 537, dtype: int64"
   ]
  },
  {
   "cell_type": "markdown",
   "id": "7f8191c3",
   "metadata": {},
   "source": [
    "nombre_infected      1102\n",
    "nombre_sain          1904\n",
    "nombre_exposed        648\n",
    "nombre_recovered    16346\n",
    "Name: 538, dtype: int64"
   ]
  },
  {
   "cell_type": "markdown",
   "id": "2fb4011f",
   "metadata": {},
   "source": [
    "nombre_infected      1090\n",
    "nombre_sain          1877\n",
    "nombre_exposed        667\n",
    "nombre_recovered    16366\n",
    "Name: 539, dtype: int64"
   ]
  },
  {
   "cell_type": "markdown",
   "id": "05fd4b22",
   "metadata": {},
   "source": [
    "nombre_infected      1070\n",
    "nombre_sain          1881\n",
    "nombre_exposed        653\n",
    "nombre_recovered    16396\n",
    "Name: 540, dtype: int64"
   ]
  },
  {
   "cell_type": "markdown",
   "id": "50cc01c8",
   "metadata": {},
   "source": [
    "nombre_infected      1076\n",
    "nombre_sain          1863\n",
    "nombre_exposed        630\n",
    "nombre_recovered    16431\n",
    "Name: 541, dtype: int64"
   ]
  },
  {
   "cell_type": "markdown",
   "id": "874d3126",
   "metadata": {},
   "source": [
    "nombre_infected      1078\n",
    "nombre_sain          1868\n",
    "nombre_exposed        618\n",
    "nombre_recovered    16436\n",
    "Name: 542, dtype: int64"
   ]
  },
  {
   "cell_type": "markdown",
   "id": "31f26c8d",
   "metadata": {},
   "source": [
    "nombre_infected      1061\n",
    "nombre_sain          1864\n",
    "nombre_exposed        610\n",
    "nombre_recovered    16465\n",
    "Name: 543, dtype: int64"
   ]
  },
  {
   "cell_type": "markdown",
   "id": "3a1afa63",
   "metadata": {},
   "source": [
    "nombre_infected      1056\n",
    "nombre_sain          1887\n",
    "nombre_exposed        609\n",
    "nombre_recovered    16448\n",
    "Name: 544, dtype: int64"
   ]
  },
  {
   "cell_type": "markdown",
   "id": "e9040810",
   "metadata": {},
   "source": [
    "nombre_infected      1091\n",
    "nombre_sain          1877\n",
    "nombre_exposed        592\n",
    "nombre_recovered    16440\n",
    "Name: 545, dtype: int64"
   ]
  },
  {
   "cell_type": "markdown",
   "id": "f148e72d",
   "metadata": {},
   "source": [
    "nombre_infected      1063\n",
    "nombre_sain          1880\n",
    "nombre_exposed        601\n",
    "nombre_recovered    16456\n",
    "Name: 546, dtype: int64"
   ]
  },
  {
   "cell_type": "markdown",
   "id": "740bff4f",
   "metadata": {},
   "source": [
    "nombre_infected      1054\n",
    "nombre_sain          1872\n",
    "nombre_exposed        591\n",
    "nombre_recovered    16483\n",
    "Name: 547, dtype: int64"
   ]
  },
  {
   "cell_type": "markdown",
   "id": "86a29802",
   "metadata": {},
   "source": [
    "nombre_infected      1043\n",
    "nombre_sain          1881\n",
    "nombre_exposed        580\n",
    "nombre_recovered    16496\n",
    "Name: 548, dtype: int64"
   ]
  },
  {
   "cell_type": "markdown",
   "id": "5c767f7a",
   "metadata": {},
   "source": [
    "nombre_infected      1023\n",
    "nombre_sain          1878\n",
    "nombre_exposed        579\n",
    "nombre_recovered    16520\n",
    "Name: 549, dtype: int64"
   ]
  },
  {
   "cell_type": "markdown",
   "id": "b9fae410",
   "metadata": {},
   "source": [
    "nombre_infected      1025\n",
    "nombre_sain          1888\n",
    "nombre_exposed        560\n",
    "nombre_recovered    16527\n",
    "Name: 550, dtype: int64"
   ]
  },
  {
   "cell_type": "markdown",
   "id": "295c3da1",
   "metadata": {},
   "source": [
    "nombre_infected      1035\n",
    "nombre_sain          1874\n",
    "nombre_exposed        544\n",
    "nombre_recovered    16547\n",
    "Name: 551, dtype: int64"
   ]
  },
  {
   "cell_type": "markdown",
   "id": "c1c51201",
   "metadata": {},
   "source": [
    "nombre_infected      1011\n",
    "nombre_sain          1870\n",
    "nombre_exposed        546\n",
    "nombre_recovered    16573\n",
    "Name: 552, dtype: int64"
   ]
  },
  {
   "cell_type": "markdown",
   "id": "779b5d98",
   "metadata": {},
   "source": [
    "nombre_infected      1005\n",
    "nombre_sain          1888\n",
    "nombre_exposed        541\n",
    "nombre_recovered    16566\n",
    "Name: 553, dtype: int64"
   ]
  },
  {
   "cell_type": "markdown",
   "id": "2b770244",
   "metadata": {},
   "source": [
    "nombre_infected       991\n",
    "nombre_sain          1899\n",
    "nombre_exposed        539\n",
    "nombre_recovered    16571\n",
    "Name: 554, dtype: int64"
   ]
  },
  {
   "cell_type": "markdown",
   "id": "6e2c1bd1",
   "metadata": {},
   "source": [
    "nombre_infected       994\n",
    "nombre_sain          1884\n",
    "nombre_exposed        539\n",
    "nombre_recovered    16583\n",
    "Name: 555, dtype: int64"
   ]
  },
  {
   "cell_type": "markdown",
   "id": "267fc739",
   "metadata": {},
   "source": [
    "nombre_infected       994\n",
    "nombre_sain          1871\n",
    "nombre_exposed        559\n",
    "nombre_recovered    16576\n",
    "Name: 556, dtype: int64"
   ]
  },
  {
   "cell_type": "markdown",
   "id": "ee240a80",
   "metadata": {},
   "source": [
    "nombre_infected      1020\n",
    "nombre_sain          1900\n",
    "nombre_exposed        531\n",
    "nombre_recovered    16549\n",
    "Name: 557, dtype: int64"
   ]
  },
  {
   "cell_type": "markdown",
   "id": "61474d4c",
   "metadata": {},
   "source": [
    "nombre_infected      1031\n",
    "nombre_sain          1888\n",
    "nombre_exposed        521\n",
    "nombre_recovered    16560\n",
    "Name: 558, dtype: int64"
   ]
  },
  {
   "cell_type": "markdown",
   "id": "99dc8520",
   "metadata": {},
   "source": [
    "nombre_infected      1044\n",
    "nombre_sain          1880\n",
    "nombre_exposed        507\n",
    "nombre_recovered    16569\n",
    "Name: 559, dtype: int64"
   ]
  },
  {
   "cell_type": "markdown",
   "id": "a41ae0ba",
   "metadata": {},
   "source": [
    "nombre_infected      1041\n",
    "nombre_sain          1860\n",
    "nombre_exposed        519\n",
    "nombre_recovered    16580\n",
    "Name: 560, dtype: int64"
   ]
  },
  {
   "cell_type": "markdown",
   "id": "5d9ca7b1",
   "metadata": {},
   "source": [
    "nombre_infected      1048\n",
    "nombre_sain          1892\n",
    "nombre_exposed        488\n",
    "nombre_recovered    16572\n",
    "Name: 561, dtype: int64"
   ]
  },
  {
   "cell_type": "markdown",
   "id": "2db054f8",
   "metadata": {},
   "source": [
    "nombre_infected      1027\n",
    "nombre_sain          1892\n",
    "nombre_exposed        495\n",
    "nombre_recovered    16586\n",
    "Name: 562, dtype: int64"
   ]
  },
  {
   "cell_type": "markdown",
   "id": "7ce730a9",
   "metadata": {},
   "source": [
    "nombre_infected      1018\n",
    "nombre_sain          1883\n",
    "nombre_exposed        520\n",
    "nombre_recovered    16579\n",
    "Name: 563, dtype: int64"
   ]
  },
  {
   "cell_type": "markdown",
   "id": "d2f3a6c5",
   "metadata": {},
   "source": [
    "nombre_infected      1024\n",
    "nombre_sain          1874\n",
    "nombre_exposed        537\n",
    "nombre_recovered    16565\n",
    "Name: 564, dtype: int64"
   ]
  },
  {
   "cell_type": "markdown",
   "id": "b1d3c718",
   "metadata": {},
   "source": [
    "nombre_infected      1028\n",
    "nombre_sain          1865\n",
    "nombre_exposed        552\n",
    "nombre_recovered    16555\n",
    "Name: 565, dtype: int64"
   ]
  },
  {
   "cell_type": "markdown",
   "id": "6d9671f7",
   "metadata": {},
   "source": [
    "nombre_infected      1037\n",
    "nombre_sain          1881\n",
    "nombre_exposed        544\n",
    "nombre_recovered    16538\n",
    "Name: 566, dtype: int64"
   ]
  },
  {
   "cell_type": "markdown",
   "id": "a10ac653",
   "metadata": {},
   "source": [
    "nombre_infected      1041\n",
    "nombre_sain          1887\n",
    "nombre_exposed        547\n",
    "nombre_recovered    16525\n",
    "Name: 567, dtype: int64"
   ]
  },
  {
   "cell_type": "markdown",
   "id": "5a7bde57",
   "metadata": {},
   "source": [
    "nombre_infected      1061\n",
    "nombre_sain          1895\n",
    "nombre_exposed        555\n",
    "nombre_recovered    16489\n",
    "Name: 568, dtype: int64"
   ]
  },
  {
   "cell_type": "markdown",
   "id": "63d75ea9",
   "metadata": {},
   "source": [
    "nombre_infected      1069\n",
    "nombre_sain          1929\n",
    "nombre_exposed        544\n",
    "nombre_recovered    16458\n",
    "Name: 569, dtype: int64"
   ]
  },
  {
   "cell_type": "markdown",
   "id": "92b2d305",
   "metadata": {},
   "source": [
    "nombre_infected      1089\n",
    "nombre_sain          1909\n",
    "nombre_exposed        578\n",
    "nombre_recovered    16424\n",
    "Name: 570, dtype: int64"
   ]
  },
  {
   "cell_type": "markdown",
   "id": "1b98e762",
   "metadata": {},
   "source": [
    "nombre_infected      1068\n",
    "nombre_sain          1897\n",
    "nombre_exposed        594\n",
    "nombre_recovered    16441\n",
    "Name: 571, dtype: int64"
   ]
  },
  {
   "cell_type": "markdown",
   "id": "1a1c085b",
   "metadata": {},
   "source": [
    "nombre_infected      1076\n",
    "nombre_sain          1900\n",
    "nombre_exposed        581\n",
    "nombre_recovered    16443\n",
    "Name: 572, dtype: int64"
   ]
  },
  {
   "cell_type": "markdown",
   "id": "8916a272",
   "metadata": {},
   "source": [
    "nombre_infected      1090\n",
    "nombre_sain          1909\n",
    "nombre_exposed        578\n",
    "nombre_recovered    16423\n",
    "Name: 573, dtype: int64"
   ]
  },
  {
   "cell_type": "markdown",
   "id": "6d5bf2be",
   "metadata": {},
   "source": [
    "nombre_infected      1087\n",
    "nombre_sain          1922\n",
    "nombre_exposed        583\n",
    "nombre_recovered    16408\n",
    "Name: 574, dtype: int64"
   ]
  },
  {
   "cell_type": "markdown",
   "id": "aaa42d84",
   "metadata": {},
   "source": [
    "nombre_infected      1093\n",
    "nombre_sain          1945\n",
    "nombre_exposed        580\n",
    "nombre_recovered    16382\n",
    "Name: 575, dtype: int64"
   ]
  },
  {
   "cell_type": "markdown",
   "id": "adf4e196",
   "metadata": {},
   "source": [
    "nombre_infected      1115\n",
    "nombre_sain          1948\n",
    "nombre_exposed        563\n",
    "nombre_recovered    16374\n",
    "Name: 576, dtype: int64"
   ]
  },
  {
   "cell_type": "markdown",
   "id": "55282634",
   "metadata": {},
   "source": [
    "nombre_infected      1132\n",
    "nombre_sain          1947\n",
    "nombre_exposed        577\n",
    "nombre_recovered    16344\n",
    "Name: 577, dtype: int64"
   ]
  },
  {
   "cell_type": "markdown",
   "id": "c8b30631",
   "metadata": {},
   "source": [
    "nombre_infected      1119\n",
    "nombre_sain          1930\n",
    "nombre_exposed        603\n",
    "nombre_recovered    16348\n",
    "Name: 578, dtype: int64"
   ]
  },
  {
   "cell_type": "markdown",
   "id": "4b8442ce",
   "metadata": {},
   "source": [
    "nombre_infected      1129\n",
    "nombre_sain          1917\n",
    "nombre_exposed        627\n",
    "nombre_recovered    16327\n",
    "Name: 579, dtype: int64"
   ]
  },
  {
   "cell_type": "markdown",
   "id": "099b83f4",
   "metadata": {},
   "source": [
    "nombre_infected      1135\n",
    "nombre_sain          1908\n",
    "nombre_exposed        633\n",
    "nombre_recovered    16324\n",
    "Name: 580, dtype: int64"
   ]
  },
  {
   "cell_type": "markdown",
   "id": "e8e76ce1",
   "metadata": {},
   "source": [
    "nombre_infected      1128\n",
    "nombre_sain          1902\n",
    "nombre_exposed        639\n",
    "nombre_recovered    16331\n",
    "Name: 581, dtype: int64"
   ]
  },
  {
   "cell_type": "markdown",
   "id": "e4ebedd8",
   "metadata": {},
   "source": [
    "nombre_infected      1170\n",
    "nombre_sain          1883\n",
    "nombre_exposed        617\n",
    "nombre_recovered    16330\n",
    "Name: 582, dtype: int64"
   ]
  },
  {
   "cell_type": "markdown",
   "id": "b3edfdaf",
   "metadata": {},
   "source": [
    "nombre_infected      1188\n",
    "nombre_sain          1893\n",
    "nombre_exposed        578\n",
    "nombre_recovered    16341\n",
    "Name: 583, dtype: int64"
   ]
  },
  {
   "cell_type": "markdown",
   "id": "c5aa604f",
   "metadata": {},
   "source": [
    "nombre_infected      1182\n",
    "nombre_sain          1888\n",
    "nombre_exposed        565\n",
    "nombre_recovered    16365\n",
    "Name: 584, dtype: int64"
   ]
  },
  {
   "cell_type": "markdown",
   "id": "dd530687",
   "metadata": {},
   "source": [
    "nombre_infected      1169\n",
    "nombre_sain          1863\n",
    "nombre_exposed        593\n",
    "nombre_recovered    16375\n",
    "Name: 585, dtype: int64"
   ]
  },
  {
   "cell_type": "markdown",
   "id": "e0db2298",
   "metadata": {},
   "source": [
    "nombre_infected      1158\n",
    "nombre_sain          1843\n",
    "nombre_exposed        594\n",
    "nombre_recovered    16405\n",
    "Name: 586, dtype: int64"
   ]
  },
  {
   "cell_type": "markdown",
   "id": "05abd460",
   "metadata": {},
   "source": [
    "nombre_infected      1147\n",
    "nombre_sain          1834\n",
    "nombre_exposed        585\n",
    "nombre_recovered    16434\n",
    "Name: 587, dtype: int64"
   ]
  },
  {
   "cell_type": "markdown",
   "id": "603d10b7",
   "metadata": {},
   "source": [
    "nombre_infected      1131\n",
    "nombre_sain          1815\n",
    "nombre_exposed        601\n",
    "nombre_recovered    16453\n",
    "Name: 588, dtype: int64"
   ]
  },
  {
   "cell_type": "markdown",
   "id": "01e5991e",
   "metadata": {},
   "source": [
    "nombre_infected      1143\n",
    "nombre_sain          1826\n",
    "nombre_exposed        577\n",
    "nombre_recovered    16454\n",
    "Name: 589, dtype: int64"
   ]
  },
  {
   "cell_type": "markdown",
   "id": "c80f29c8",
   "metadata": {},
   "source": [
    "nombre_infected      1149\n",
    "nombre_sain          1825\n",
    "nombre_exposed        558\n",
    "nombre_recovered    16468\n",
    "Name: 590, dtype: int64"
   ]
  },
  {
   "cell_type": "markdown",
   "id": "7d2513bb",
   "metadata": {},
   "source": [
    "nombre_infected      1142\n",
    "nombre_sain          1823\n",
    "nombre_exposed        544\n",
    "nombre_recovered    16491\n",
    "Name: 591, dtype: int64"
   ]
  },
  {
   "cell_type": "markdown",
   "id": "bf325c16",
   "metadata": {},
   "source": [
    "nombre_infected      1114\n",
    "nombre_sain          1838\n",
    "nombre_exposed        527\n",
    "nombre_recovered    16521\n",
    "Name: 592, dtype: int64"
   ]
  },
  {
   "cell_type": "markdown",
   "id": "c515d36e",
   "metadata": {},
   "source": [
    "nombre_infected      1109\n",
    "nombre_sain          1834\n",
    "nombre_exposed        547\n",
    "nombre_recovered    16510\n",
    "Name: 593, dtype: int64"
   ]
  },
  {
   "cell_type": "markdown",
   "id": "2f1261b6",
   "metadata": {},
   "source": [
    "nombre_infected      1102\n",
    "nombre_sain          1846\n",
    "nombre_exposed        545\n",
    "nombre_recovered    16507\n",
    "Name: 594, dtype: int64"
   ]
  },
  {
   "cell_type": "markdown",
   "id": "7057a6dd",
   "metadata": {},
   "source": [
    "nombre_infected      1079\n",
    "nombre_sain          1839\n",
    "nombre_exposed        560\n",
    "nombre_recovered    16522\n",
    "Name: 595, dtype: int64"
   ]
  },
  {
   "cell_type": "markdown",
   "id": "8021ffc5",
   "metadata": {},
   "source": [
    "nombre_infected      1104\n",
    "nombre_sain          1801\n",
    "nombre_exposed        574\n",
    "nombre_recovered    16521\n",
    "Name: 596, dtype: int64"
   ]
  },
  {
   "cell_type": "markdown",
   "id": "69de361d",
   "metadata": {},
   "source": [
    "nombre_infected      1107\n",
    "nombre_sain          1805\n",
    "nombre_exposed        544\n",
    "nombre_recovered    16544\n",
    "Name: 597, dtype: int64"
   ]
  },
  {
   "cell_type": "markdown",
   "id": "49e0c6e0",
   "metadata": {},
   "source": [
    "nombre_infected      1100\n",
    "nombre_sain          1809\n",
    "nombre_exposed        527\n",
    "nombre_recovered    16564\n",
    "Name: 598, dtype: int64"
   ]
  },
  {
   "cell_type": "markdown",
   "id": "78856e9a",
   "metadata": {},
   "source": [
    "nombre_infected      1088\n",
    "nombre_sain          1833\n",
    "nombre_exposed        523\n",
    "nombre_recovered    16556\n",
    "Name: 599, dtype: int64"
   ]
  },
  {
   "cell_type": "markdown",
   "id": "5ed93e7c",
   "metadata": {},
   "source": [
    "nombre_infected      1050\n",
    "nombre_sain          1819\n",
    "nombre_exposed        521\n",
    "nombre_recovered    16610\n",
    "Name: 600, dtype: int64"
   ]
  },
  {
   "cell_type": "markdown",
   "id": "a9665ce6",
   "metadata": {},
   "source": [
    "nombre_infected      1020\n",
    "nombre_sain          1829\n",
    "nombre_exposed        502\n",
    "nombre_recovered    16649\n",
    "Name: 601, dtype: int64"
   ]
  },
  {
   "cell_type": "markdown",
   "id": "bbcf4d57",
   "metadata": {},
   "source": [
    "nombre_infected       993\n",
    "nombre_sain          1804\n",
    "nombre_exposed        514\n",
    "nombre_recovered    16689\n",
    "Name: 602, dtype: int64"
   ]
  },
  {
   "cell_type": "markdown",
   "id": "4327c97d",
   "metadata": {},
   "source": [
    "nombre_infected       989\n",
    "nombre_sain          1800\n",
    "nombre_exposed        513\n",
    "nombre_recovered    16698\n",
    "Name: 603, dtype: int64"
   ]
  },
  {
   "cell_type": "markdown",
   "id": "e70b18e8",
   "metadata": {},
   "source": [
    "nombre_infected       982\n",
    "nombre_sain          1771\n",
    "nombre_exposed        515\n",
    "nombre_recovered    16732\n",
    "Name: 604, dtype: int64"
   ]
  },
  {
   "cell_type": "markdown",
   "id": "67124635",
   "metadata": {},
   "source": [
    "nombre_infected       963\n",
    "nombre_sain          1801\n",
    "nombre_exposed        506\n",
    "nombre_recovered    16730\n",
    "Name: 605, dtype: int64"
   ]
  },
  {
   "cell_type": "markdown",
   "id": "1ec2a7c7",
   "metadata": {},
   "source": [
    "nombre_infected       964\n",
    "nombre_sain          1809\n",
    "nombre_exposed        491\n",
    "nombre_recovered    16736\n",
    "Name: 606, dtype: int64"
   ]
  },
  {
   "cell_type": "markdown",
   "id": "6c0d74d0",
   "metadata": {},
   "source": [
    "nombre_infected       954\n",
    "nombre_sain          1840\n",
    "nombre_exposed        482\n",
    "nombre_recovered    16724\n",
    "Name: 607, dtype: int64"
   ]
  },
  {
   "cell_type": "markdown",
   "id": "40113151",
   "metadata": {},
   "source": [
    "nombre_infected       950\n",
    "nombre_sain          1858\n",
    "nombre_exposed        467\n",
    "nombre_recovered    16725\n",
    "Name: 608, dtype: int64"
   ]
  },
  {
   "cell_type": "markdown",
   "id": "e2f3cf2d",
   "metadata": {},
   "source": [
    "nombre_infected       956\n",
    "nombre_sain          1859\n",
    "nombre_exposed        483\n",
    "nombre_recovered    16702\n",
    "Name: 609, dtype: int64"
   ]
  },
  {
   "cell_type": "markdown",
   "id": "c27361cd",
   "metadata": {},
   "source": [
    "nombre_infected       939\n",
    "nombre_sain          1883\n",
    "nombre_exposed        477\n",
    "nombre_recovered    16701\n",
    "Name: 610, dtype: int64"
   ]
  },
  {
   "cell_type": "markdown",
   "id": "2097309b",
   "metadata": {},
   "source": [
    "nombre_infected       914\n",
    "nombre_sain          1905\n",
    "nombre_exposed        481\n",
    "nombre_recovered    16700\n",
    "Name: 611, dtype: int64"
   ]
  },
  {
   "cell_type": "markdown",
   "id": "faa57e8e",
   "metadata": {},
   "source": [
    "nombre_infected       909\n",
    "nombre_sain          1948\n",
    "nombre_exposed        453\n",
    "nombre_recovered    16690\n",
    "Name: 612, dtype: int64"
   ]
  },
  {
   "cell_type": "markdown",
   "id": "661e7d45",
   "metadata": {},
   "source": [
    "nombre_infected       908\n",
    "nombre_sain          1928\n",
    "nombre_exposed        454\n",
    "nombre_recovered    16710\n",
    "Name: 613, dtype: int64"
   ]
  },
  {
   "cell_type": "markdown",
   "id": "53c00750",
   "metadata": {},
   "source": [
    "nombre_infected       895\n",
    "nombre_sain          1953\n",
    "nombre_exposed        455\n",
    "nombre_recovered    16697\n",
    "Name: 614, dtype: int64"
   ]
  },
  {
   "cell_type": "markdown",
   "id": "812a0a68",
   "metadata": {},
   "source": [
    "nombre_infected       896\n",
    "nombre_sain          1949\n",
    "nombre_exposed        439\n",
    "nombre_recovered    16716\n",
    "Name: 615, dtype: int64"
   ]
  },
  {
   "cell_type": "markdown",
   "id": "f11c2667",
   "metadata": {},
   "source": [
    "nombre_infected       910\n",
    "nombre_sain          1945\n",
    "nombre_exposed        447\n",
    "nombre_recovered    16698\n",
    "Name: 616, dtype: int64"
   ]
  },
  {
   "cell_type": "markdown",
   "id": "ac5343ec",
   "metadata": {},
   "source": [
    "nombre_infected       867\n",
    "nombre_sain          1946\n",
    "nombre_exposed        463\n",
    "nombre_recovered    16724\n",
    "Name: 617, dtype: int64"
   ]
  },
  {
   "cell_type": "markdown",
   "id": "c0803ba6",
   "metadata": {},
   "source": [
    "nombre_infected       870\n",
    "nombre_sain          1962\n",
    "nombre_exposed        455\n",
    "nombre_recovered    16713\n",
    "Name: 618, dtype: int64"
   ]
  },
  {
   "cell_type": "markdown",
   "id": "7d695056",
   "metadata": {},
   "source": [
    "nombre_infected       862\n",
    "nombre_sain          1952\n",
    "nombre_exposed        446\n",
    "nombre_recovered    16740\n",
    "Name: 619, dtype: int64"
   ]
  },
  {
   "cell_type": "markdown",
   "id": "cf19c7be",
   "metadata": {},
   "source": [
    "nombre_infected       853\n",
    "nombre_sain          1933\n",
    "nombre_exposed        466\n",
    "nombre_recovered    16748\n",
    "Name: 620, dtype: int64"
   ]
  },
  {
   "cell_type": "markdown",
   "id": "e82f1587",
   "metadata": {},
   "source": [
    "nombre_infected       842\n",
    "nombre_sain          1961\n",
    "nombre_exposed        455\n",
    "nombre_recovered    16742\n",
    "Name: 621, dtype: int64"
   ]
  },
  {
   "cell_type": "markdown",
   "id": "69ac6747",
   "metadata": {},
   "source": [
    "nombre_infected       837\n",
    "nombre_sain          1985\n",
    "nombre_exposed        444\n",
    "nombre_recovered    16734\n",
    "Name: 622, dtype: int64"
   ]
  },
  {
   "cell_type": "markdown",
   "id": "0f5ae093",
   "metadata": {},
   "source": [
    "nombre_infected       822\n",
    "nombre_sain          1986\n",
    "nombre_exposed        458\n",
    "nombre_recovered    16734\n",
    "Name: 623, dtype: int64"
   ]
  },
  {
   "cell_type": "markdown",
   "id": "31217f8b",
   "metadata": {},
   "source": [
    "nombre_infected       840\n",
    "nombre_sain          2012\n",
    "nombre_exposed        421\n",
    "nombre_recovered    16727\n",
    "Name: 624, dtype: int64"
   ]
  },
  {
   "cell_type": "markdown",
   "id": "f69d9355",
   "metadata": {},
   "source": [
    "nombre_infected       841\n",
    "nombre_sain          2027\n",
    "nombre_exposed        421\n",
    "nombre_recovered    16711\n",
    "Name: 625, dtype: int64"
   ]
  },
  {
   "cell_type": "markdown",
   "id": "f80e7020",
   "metadata": {},
   "source": [
    "nombre_infected       819\n",
    "nombre_sain          2038\n",
    "nombre_exposed        442\n",
    "nombre_recovered    16701\n",
    "Name: 626, dtype: int64"
   ]
  },
  {
   "cell_type": "markdown",
   "id": "4cf7dd63",
   "metadata": {},
   "source": [
    "nombre_infected       807\n",
    "nombre_sain          2018\n",
    "nombre_exposed        466\n",
    "nombre_recovered    16709\n",
    "Name: 627, dtype: int64"
   ]
  },
  {
   "cell_type": "markdown",
   "id": "e7c3a4c3",
   "metadata": {},
   "source": [
    "nombre_infected       810\n",
    "nombre_sain          2055\n",
    "nombre_exposed        458\n",
    "nombre_recovered    16677\n",
    "Name: 628, dtype: int64"
   ]
  },
  {
   "cell_type": "markdown",
   "id": "df17388a",
   "metadata": {},
   "source": [
    "nombre_infected       816\n",
    "nombre_sain          2088\n",
    "nombre_exposed        439\n",
    "nombre_recovered    16657\n",
    "Name: 629, dtype: int64"
   ]
  },
  {
   "cell_type": "markdown",
   "id": "9f882eee",
   "metadata": {},
   "source": [
    "nombre_infected       801\n",
    "nombre_sain          2075\n",
    "nombre_exposed        467\n",
    "nombre_recovered    16657\n",
    "Name: 630, dtype: int64"
   ]
  },
  {
   "cell_type": "markdown",
   "id": "462c544b",
   "metadata": {},
   "source": [
    "nombre_infected       800\n",
    "nombre_sain          2133\n",
    "nombre_exposed        447\n",
    "nombre_recovered    16620\n",
    "Name: 631, dtype: int64"
   ]
  },
  {
   "cell_type": "markdown",
   "id": "4c203961",
   "metadata": {},
   "source": [
    "nombre_infected       798\n",
    "nombre_sain          2156\n",
    "nombre_exposed        460\n",
    "nombre_recovered    16586\n",
    "Name: 632, dtype: int64"
   ]
  },
  {
   "cell_type": "markdown",
   "id": "9fa5682d",
   "metadata": {},
   "source": [
    "nombre_infected       810\n",
    "nombre_sain          2185\n",
    "nombre_exposed        453\n",
    "nombre_recovered    16552\n",
    "Name: 633, dtype: int64"
   ]
  },
  {
   "cell_type": "markdown",
   "id": "f424d78e",
   "metadata": {},
   "source": [
    "nombre_infected       809\n",
    "nombre_sain          2208\n",
    "nombre_exposed        459\n",
    "nombre_recovered    16524\n",
    "Name: 634, dtype: int64"
   ]
  },
  {
   "cell_type": "markdown",
   "id": "bc9d7a76",
   "metadata": {},
   "source": [
    "nombre_infected       811\n",
    "nombre_sain          2204\n",
    "nombre_exposed        465\n",
    "nombre_recovered    16520\n",
    "Name: 635, dtype: int64"
   ]
  },
  {
   "cell_type": "markdown",
   "id": "6e6cab6e",
   "metadata": {},
   "source": [
    "nombre_infected       810\n",
    "nombre_sain          2204\n",
    "nombre_exposed        478\n",
    "nombre_recovered    16508\n",
    "Name: 636, dtype: int64"
   ]
  },
  {
   "cell_type": "markdown",
   "id": "1c59020c",
   "metadata": {},
   "source": [
    "nombre_infected       800\n",
    "nombre_sain          2209\n",
    "nombre_exposed        497\n",
    "nombre_recovered    16494\n",
    "Name: 637, dtype: int64"
   ]
  },
  {
   "cell_type": "markdown",
   "id": "5f632f4e",
   "metadata": {},
   "source": [
    "nombre_infected       791\n",
    "nombre_sain          2200\n",
    "nombre_exposed        513\n",
    "nombre_recovered    16496\n",
    "Name: 638, dtype: int64"
   ]
  },
  {
   "cell_type": "markdown",
   "id": "95bc68b6",
   "metadata": {},
   "source": [
    "nombre_infected       803\n",
    "nombre_sain          2211\n",
    "nombre_exposed        508\n",
    "nombre_recovered    16478\n",
    "Name: 639, dtype: int64"
   ]
  },
  {
   "cell_type": "markdown",
   "id": "613d8f2e",
   "metadata": {},
   "source": [
    "nombre_infected       823\n",
    "nombre_sain          2216\n",
    "nombre_exposed        502\n",
    "nombre_recovered    16459\n",
    "Name: 640, dtype: int64"
   ]
  },
  {
   "cell_type": "markdown",
   "id": "cecc8205",
   "metadata": {},
   "source": [
    "nombre_infected       833\n",
    "nombre_sain          2174\n",
    "nombre_exposed        546\n",
    "nombre_recovered    16447\n",
    "Name: 641, dtype: int64"
   ]
  },
  {
   "cell_type": "markdown",
   "id": "09aa6443",
   "metadata": {},
   "source": [
    "nombre_infected       832\n",
    "nombre_sain          2163\n",
    "nombre_exposed        563\n",
    "nombre_recovered    16442\n",
    "Name: 642, dtype: int64"
   ]
  },
  {
   "cell_type": "markdown",
   "id": "5f464099",
   "metadata": {},
   "source": [
    "nombre_infected       860\n",
    "nombre_sain          2145\n",
    "nombre_exposed        574\n",
    "nombre_recovered    16421\n",
    "Name: 643, dtype: int64"
   ]
  },
  {
   "cell_type": "markdown",
   "id": "55b52f1a",
   "metadata": {},
   "source": [
    "nombre_infected       879\n",
    "nombre_sain          2120\n",
    "nombre_exposed        567\n",
    "nombre_recovered    16434\n",
    "Name: 644, dtype: int64"
   ]
  },
  {
   "cell_type": "markdown",
   "id": "63c46364",
   "metadata": {},
   "source": [
    "nombre_infected       882\n",
    "nombre_sain          2122\n",
    "nombre_exposed        573\n",
    "nombre_recovered    16423\n",
    "Name: 645, dtype: int64"
   ]
  },
  {
   "cell_type": "markdown",
   "id": "217a5f1d",
   "metadata": {},
   "source": [
    "nombre_infected       895\n",
    "nombre_sain          2141\n",
    "nombre_exposed        553\n",
    "nombre_recovered    16411\n",
    "Name: 646, dtype: int64"
   ]
  },
  {
   "cell_type": "markdown",
   "id": "4f9cd193",
   "metadata": {},
   "source": [
    "nombre_infected       915\n",
    "nombre_sain          2142\n",
    "nombre_exposed        530\n",
    "nombre_recovered    16413\n",
    "Name: 647, dtype: int64"
   ]
  },
  {
   "cell_type": "markdown",
   "id": "69e9b79a",
   "metadata": {},
   "source": [
    "nombre_infected       904\n",
    "nombre_sain          2137\n",
    "nombre_exposed        520\n",
    "nombre_recovered    16439\n",
    "Name: 648, dtype: int64"
   ]
  },
  {
   "cell_type": "markdown",
   "id": "eed69005",
   "metadata": {},
   "source": [
    "nombre_infected       897\n",
    "nombre_sain          2123\n",
    "nombre_exposed        542\n",
    "nombre_recovered    16438\n",
    "Name: 649, dtype: int64"
   ]
  },
  {
   "cell_type": "markdown",
   "id": "bb81ca5d",
   "metadata": {},
   "source": [
    "nombre_infected       907\n",
    "nombre_sain          2110\n",
    "nombre_exposed        534\n",
    "nombre_recovered    16449\n",
    "Name: 650, dtype: int64"
   ]
  },
  {
   "cell_type": "markdown",
   "id": "0b221796",
   "metadata": {},
   "source": [
    "nombre_infected       892\n",
    "nombre_sain          2111\n",
    "nombre_exposed        525\n",
    "nombre_recovered    16472\n",
    "Name: 651, dtype: int64"
   ]
  },
  {
   "cell_type": "markdown",
   "id": "b7e2b6fa",
   "metadata": {},
   "source": [
    "nombre_infected       899\n",
    "nombre_sain          2092\n",
    "nombre_exposed        509\n",
    "nombre_recovered    16500\n",
    "Name: 652, dtype: int64"
   ]
  },
  {
   "cell_type": "markdown",
   "id": "7a4fc1f1",
   "metadata": {},
   "source": [
    "nombre_infected       917\n",
    "nombre_sain          2080\n",
    "nombre_exposed        513\n",
    "nombre_recovered    16490\n",
    "Name: 653, dtype: int64"
   ]
  },
  {
   "cell_type": "markdown",
   "id": "f1ac9923",
   "metadata": {},
   "source": [
    "nombre_infected       917\n",
    "nombre_sain          2077\n",
    "nombre_exposed        508\n",
    "nombre_recovered    16498\n",
    "Name: 654, dtype: int64"
   ]
  },
  {
   "cell_type": "markdown",
   "id": "bd3dcf2d",
   "metadata": {},
   "source": [
    "nombre_infected       908\n",
    "nombre_sain          2057\n",
    "nombre_exposed        525\n",
    "nombre_recovered    16510\n",
    "Name: 655, dtype: int64"
   ]
  },
  {
   "cell_type": "markdown",
   "id": "563c25d8",
   "metadata": {},
   "source": [
    "nombre_infected       903\n",
    "nombre_sain          2044\n",
    "nombre_exposed        521\n",
    "nombre_recovered    16532\n",
    "Name: 656, dtype: int64"
   ]
  },
  {
   "cell_type": "markdown",
   "id": "8810313c",
   "metadata": {},
   "source": [
    "nombre_infected       914\n",
    "nombre_sain          2028\n",
    "nombre_exposed        513\n",
    "nombre_recovered    16545\n",
    "Name: 657, dtype: int64"
   ]
  },
  {
   "cell_type": "markdown",
   "id": "2bb56326",
   "metadata": {},
   "source": [
    "nombre_infected       918\n",
    "nombre_sain          2026\n",
    "nombre_exposed        516\n",
    "nombre_recovered    16540\n",
    "Name: 658, dtype: int64"
   ]
  },
  {
   "cell_type": "markdown",
   "id": "ba0f69af",
   "metadata": {},
   "source": [
    "nombre_infected       898\n",
    "nombre_sain          2031\n",
    "nombre_exposed        537\n",
    "nombre_recovered    16534\n",
    "Name: 659, dtype: int64"
   ]
  },
  {
   "cell_type": "markdown",
   "id": "e7bb8554",
   "metadata": {},
   "source": [
    "nombre_infected       886\n",
    "nombre_sain          2020\n",
    "nombre_exposed        543\n",
    "nombre_recovered    16551\n",
    "Name: 660, dtype: int64"
   ]
  },
  {
   "cell_type": "markdown",
   "id": "9469af98",
   "metadata": {},
   "source": [
    "nombre_infected       902\n",
    "nombre_sain          2049\n",
    "nombre_exposed        510\n",
    "nombre_recovered    16539\n",
    "Name: 661, dtype: int64"
   ]
  },
  {
   "cell_type": "markdown",
   "id": "c9dc24af",
   "metadata": {},
   "source": [
    "nombre_infected       915\n",
    "nombre_sain          2060\n",
    "nombre_exposed        465\n",
    "nombre_recovered    16560\n",
    "Name: 662, dtype: int64"
   ]
  },
  {
   "cell_type": "markdown",
   "id": "59921fcb",
   "metadata": {},
   "source": [
    "nombre_infected       908\n",
    "nombre_sain          2055\n",
    "nombre_exposed        485\n",
    "nombre_recovered    16552\n",
    "Name: 663, dtype: int64"
   ]
  },
  {
   "cell_type": "markdown",
   "id": "b347f531",
   "metadata": {},
   "source": [
    "nombre_infected       880\n",
    "nombre_sain          2072\n",
    "nombre_exposed        505\n",
    "nombre_recovered    16543\n",
    "Name: 664, dtype: int64"
   ]
  },
  {
   "cell_type": "markdown",
   "id": "7864b858",
   "metadata": {},
   "source": [
    "nombre_infected       875\n",
    "nombre_sain          2068\n",
    "nombre_exposed        516\n",
    "nombre_recovered    16541\n",
    "Name: 665, dtype: int64"
   ]
  },
  {
   "cell_type": "markdown",
   "id": "279a8e15",
   "metadata": {},
   "source": [
    "nombre_infected       896\n",
    "nombre_sain          2072\n",
    "nombre_exposed        502\n",
    "nombre_recovered    16530\n",
    "Name: 666, dtype: int64"
   ]
  },
  {
   "cell_type": "markdown",
   "id": "29858b9b",
   "metadata": {},
   "source": [
    "nombre_infected       869\n",
    "nombre_sain          2092\n",
    "nombre_exposed        516\n",
    "nombre_recovered    16523\n",
    "Name: 667, dtype: int64"
   ]
  },
  {
   "cell_type": "markdown",
   "id": "b33a1c72",
   "metadata": {},
   "source": [
    "nombre_infected       871\n",
    "nombre_sain          2062\n",
    "nombre_exposed        525\n",
    "nombre_recovered    16542\n",
    "Name: 668, dtype: int64"
   ]
  },
  {
   "cell_type": "markdown",
   "id": "84e4e9f2",
   "metadata": {},
   "source": [
    "nombre_infected       865\n",
    "nombre_sain          2059\n",
    "nombre_exposed        526\n",
    "nombre_recovered    16550\n",
    "Name: 669, dtype: int64"
   ]
  },
  {
   "cell_type": "markdown",
   "id": "10e948cc",
   "metadata": {},
   "source": [
    "nombre_infected       875\n",
    "nombre_sain          2073\n",
    "nombre_exposed        507\n",
    "nombre_recovered    16545\n",
    "Name: 670, dtype: int64"
   ]
  },
  {
   "cell_type": "markdown",
   "id": "abe43555",
   "metadata": {},
   "source": [
    "nombre_infected       874\n",
    "nombre_sain          2050\n",
    "nombre_exposed        496\n",
    "nombre_recovered    16580\n",
    "Name: 671, dtype: int64"
   ]
  },
  {
   "cell_type": "markdown",
   "id": "d5c165a8",
   "metadata": {},
   "source": [
    "nombre_infected       861\n",
    "nombre_sain          2076\n",
    "nombre_exposed        480\n",
    "nombre_recovered    16583\n",
    "Name: 672, dtype: int64"
   ]
  },
  {
   "cell_type": "markdown",
   "id": "f41eccae",
   "metadata": {},
   "source": [
    "nombre_infected       838\n",
    "nombre_sain          2104\n",
    "nombre_exposed        480\n",
    "nombre_recovered    16578\n",
    "Name: 673, dtype: int64"
   ]
  },
  {
   "cell_type": "markdown",
   "id": "83baad74",
   "metadata": {},
   "source": [
    "nombre_infected       818\n",
    "nombre_sain          2132\n",
    "nombre_exposed        463\n",
    "nombre_recovered    16587\n",
    "Name: 674, dtype: int64"
   ]
  },
  {
   "cell_type": "markdown",
   "id": "aa9a39a6",
   "metadata": {},
   "source": [
    "nombre_infected       812\n",
    "nombre_sain          2128\n",
    "nombre_exposed        467\n",
    "nombre_recovered    16593\n",
    "Name: 675, dtype: int64"
   ]
  },
  {
   "cell_type": "markdown",
   "id": "374afc40",
   "metadata": {},
   "source": [
    "nombre_infected       805\n",
    "nombre_sain          2122\n",
    "nombre_exposed        472\n",
    "nombre_recovered    16601\n",
    "Name: 676, dtype: int64"
   ]
  },
  {
   "cell_type": "markdown",
   "id": "994e4b22",
   "metadata": {},
   "source": [
    "nombre_infected       811\n",
    "nombre_sain          2120\n",
    "nombre_exposed        470\n",
    "nombre_recovered    16599\n",
    "Name: 677, dtype: int64"
   ]
  },
  {
   "cell_type": "markdown",
   "id": "193b3473",
   "metadata": {},
   "source": [
    "nombre_infected       800\n",
    "nombre_sain          2120\n",
    "nombre_exposed        473\n",
    "nombre_recovered    16607\n",
    "Name: 678, dtype: int64"
   ]
  },
  {
   "cell_type": "markdown",
   "id": "f6ba6600",
   "metadata": {},
   "source": [
    "nombre_infected       824\n",
    "nombre_sain          2114\n",
    "nombre_exposed        470\n",
    "nombre_recovered    16592\n",
    "Name: 679, dtype: int64"
   ]
  },
  {
   "cell_type": "markdown",
   "id": "82c804a3",
   "metadata": {},
   "source": [
    "nombre_infected       842\n",
    "nombre_sain          2095\n",
    "nombre_exposed        474\n",
    "nombre_recovered    16589\n",
    "Name: 680, dtype: int64"
   ]
  },
  {
   "cell_type": "markdown",
   "id": "f2a33163",
   "metadata": {},
   "source": [
    "nombre_infected       842\n",
    "nombre_sain          2087\n",
    "nombre_exposed        471\n",
    "nombre_recovered    16600\n",
    "Name: 681, dtype: int64"
   ]
  },
  {
   "cell_type": "markdown",
   "id": "c327087c",
   "metadata": {},
   "source": [
    "nombre_infected       839\n",
    "nombre_sain          2103\n",
    "nombre_exposed        482\n",
    "nombre_recovered    16576\n",
    "Name: 682, dtype: int64"
   ]
  },
  {
   "cell_type": "markdown",
   "id": "0b1d8fd7",
   "metadata": {},
   "source": [
    "nombre_infected       848\n",
    "nombre_sain          2132\n",
    "nombre_exposed        459\n",
    "nombre_recovered    16561\n",
    "Name: 683, dtype: int64"
   ]
  },
  {
   "cell_type": "markdown",
   "id": "08d43aa1",
   "metadata": {},
   "source": [
    "nombre_infected       838\n",
    "nombre_sain          2109\n",
    "nombre_exposed        485\n",
    "nombre_recovered    16568\n",
    "Name: 684, dtype: int64"
   ]
  },
  {
   "cell_type": "markdown",
   "id": "997f3005",
   "metadata": {},
   "source": [
    "nombre_infected       818\n",
    "nombre_sain          2129\n",
    "nombre_exposed        491\n",
    "nombre_recovered    16562\n",
    "Name: 685, dtype: int64"
   ]
  },
  {
   "cell_type": "markdown",
   "id": "5d181718",
   "metadata": {},
   "source": [
    "nombre_infected       810\n",
    "nombre_sain          2155\n",
    "nombre_exposed        486\n",
    "nombre_recovered    16549\n",
    "Name: 686, dtype: int64"
   ]
  },
  {
   "cell_type": "markdown",
   "id": "79726e69",
   "metadata": {},
   "source": [
    "nombre_infected       838\n",
    "nombre_sain          2158\n",
    "nombre_exposed        485\n",
    "nombre_recovered    16519\n",
    "Name: 687, dtype: int64"
   ]
  },
  {
   "cell_type": "markdown",
   "id": "8301520c",
   "metadata": {},
   "source": [
    "nombre_infected       818\n",
    "nombre_sain          2156\n",
    "nombre_exposed        482\n",
    "nombre_recovered    16544\n",
    "Name: 688, dtype: int64"
   ]
  },
  {
   "cell_type": "markdown",
   "id": "e58d0da8",
   "metadata": {},
   "source": [
    "nombre_infected       843\n",
    "nombre_sain          2133\n",
    "nombre_exposed        483\n",
    "nombre_recovered    16541\n",
    "Name: 689, dtype: int64"
   ]
  },
  {
   "cell_type": "markdown",
   "id": "2fde2fe8",
   "metadata": {},
   "source": [
    "nombre_infected       839\n",
    "nombre_sain          2115\n",
    "nombre_exposed        502\n",
    "nombre_recovered    16544\n",
    "Name: 690, dtype: int64"
   ]
  },
  {
   "cell_type": "markdown",
   "id": "2f1c0cbb",
   "metadata": {},
   "source": [
    "nombre_infected       842\n",
    "nombre_sain          2097\n",
    "nombre_exposed        510\n",
    "nombre_recovered    16551\n",
    "Name: 691, dtype: int64"
   ]
  },
  {
   "cell_type": "markdown",
   "id": "89f82058",
   "metadata": {},
   "source": [
    "nombre_infected       839\n",
    "nombre_sain          2102\n",
    "nombre_exposed        512\n",
    "nombre_recovered    16547\n",
    "Name: 692, dtype: int64"
   ]
  },
  {
   "cell_type": "markdown",
   "id": "48f46d66",
   "metadata": {},
   "source": [
    "nombre_infected       870\n",
    "nombre_sain          2116\n",
    "nombre_exposed        498\n",
    "nombre_recovered    16516\n",
    "Name: 693, dtype: int64"
   ]
  },
  {
   "cell_type": "markdown",
   "id": "fdede566",
   "metadata": {},
   "source": [
    "nombre_infected       869\n",
    "nombre_sain          2120\n",
    "nombre_exposed        494\n",
    "nombre_recovered    16517\n",
    "Name: 694, dtype: int64"
   ]
  },
  {
   "cell_type": "markdown",
   "id": "3a1c7f7d",
   "metadata": {},
   "source": [
    "nombre_infected       885\n",
    "nombre_sain          2149\n",
    "nombre_exposed        462\n",
    "nombre_recovered    16504\n",
    "Name: 695, dtype: int64"
   ]
  },
  {
   "cell_type": "markdown",
   "id": "79bc217d",
   "metadata": {},
   "source": [
    "nombre_infected       852\n",
    "nombre_sain          2161\n",
    "nombre_exposed        481\n",
    "nombre_recovered    16506\n",
    "Name: 696, dtype: int64"
   ]
  },
  {
   "cell_type": "markdown",
   "id": "5f2d4cb2",
   "metadata": {},
   "source": [
    "nombre_infected       835\n",
    "nombre_sain          2175\n",
    "nombre_exposed        480\n",
    "nombre_recovered    16510\n",
    "Name: 697, dtype: int64"
   ]
  },
  {
   "cell_type": "markdown",
   "id": "d45eae9a",
   "metadata": {},
   "source": [
    "nombre_infected       864\n",
    "nombre_sain          2183\n",
    "nombre_exposed        456\n",
    "nombre_recovered    16497\n",
    "Name: 698, dtype: int64"
   ]
  },
  {
   "cell_type": "markdown",
   "id": "9c2d188d",
   "metadata": {},
   "source": [
    "nombre_infected       862\n",
    "nombre_sain          2196\n",
    "nombre_exposed        470\n",
    "nombre_recovered    16472\n",
    "Name: 699, dtype: int64"
   ]
  },
  {
   "cell_type": "markdown",
   "id": "25c85b53",
   "metadata": {},
   "source": [
    "nombre_infected       849\n",
    "nombre_sain          2203\n",
    "nombre_exposed        502\n",
    "nombre_recovered    16446\n",
    "Name: 700, dtype: int64"
   ]
  },
  {
   "cell_type": "markdown",
   "id": "7ffee7e9",
   "metadata": {},
   "source": [
    "nombre_infected       851\n",
    "nombre_sain          2224\n",
    "nombre_exposed        519\n",
    "nombre_recovered    16406\n",
    "Name: 701, dtype: int64"
   ]
  },
  {
   "cell_type": "markdown",
   "id": "aa734599",
   "metadata": {},
   "source": [
    "nombre_infected       862\n",
    "nombre_sain          2256\n",
    "nombre_exposed        510\n",
    "nombre_recovered    16372\n",
    "Name: 702, dtype: int64"
   ]
  },
  {
   "cell_type": "markdown",
   "id": "8ebfd434",
   "metadata": {},
   "source": [
    "nombre_infected       856\n",
    "nombre_sain          2271\n",
    "nombre_exposed        509\n",
    "nombre_recovered    16364\n",
    "Name: 703, dtype: int64"
   ]
  },
  {
   "cell_type": "markdown",
   "id": "6e3d2c8e",
   "metadata": {},
   "source": [
    "nombre_infected       879\n",
    "nombre_sain          2300\n",
    "nombre_exposed        500\n",
    "nombre_recovered    16321\n",
    "Name: 704, dtype: int64"
   ]
  },
  {
   "cell_type": "markdown",
   "id": "328ad221",
   "metadata": {},
   "source": [
    "nombre_infected       897\n",
    "nombre_sain          2311\n",
    "nombre_exposed        505\n",
    "nombre_recovered    16287\n",
    "Name: 705, dtype: int64"
   ]
  },
  {
   "cell_type": "markdown",
   "id": "b0fc0ddc",
   "metadata": {},
   "source": [
    "nombre_infected       904\n",
    "nombre_sain          2316\n",
    "nombre_exposed        515\n",
    "nombre_recovered    16265\n",
    "Name: 706, dtype: int64"
   ]
  },
  {
   "cell_type": "markdown",
   "id": "ecde93b6",
   "metadata": {},
   "source": [
    "nombre_infected       899\n",
    "nombre_sain          2319\n",
    "nombre_exposed        525\n",
    "nombre_recovered    16257\n",
    "Name: 707, dtype: int64"
   ]
  },
  {
   "cell_type": "markdown",
   "id": "049c612c",
   "metadata": {},
   "source": [
    "nombre_infected       895\n",
    "nombre_sain          2335\n",
    "nombre_exposed        509\n",
    "nombre_recovered    16261\n",
    "Name: 708, dtype: int64"
   ]
  },
  {
   "cell_type": "markdown",
   "id": "fb1411c5",
   "metadata": {},
   "source": [
    "nombre_infected       908\n",
    "nombre_sain          2343\n",
    "nombre_exposed        514\n",
    "nombre_recovered    16235\n",
    "Name: 709, dtype: int64"
   ]
  },
  {
   "cell_type": "markdown",
   "id": "81f1144b",
   "metadata": {},
   "source": [
    "nombre_infected       909\n",
    "nombre_sain          2316\n",
    "nombre_exposed        538\n",
    "nombre_recovered    16237\n",
    "Name: 710, dtype: int64"
   ]
  },
  {
   "cell_type": "markdown",
   "id": "8b2cc835",
   "metadata": {},
   "source": [
    "nombre_infected       932\n",
    "nombre_sain          2318\n",
    "nombre_exposed        556\n",
    "nombre_recovered    16194\n",
    "Name: 711, dtype: int64"
   ]
  },
  {
   "cell_type": "markdown",
   "id": "bb09f43b",
   "metadata": {},
   "source": [
    "nombre_infected       939\n",
    "nombre_sain          2318\n",
    "nombre_exposed        565\n",
    "nombre_recovered    16178\n",
    "Name: 712, dtype: int64"
   ]
  },
  {
   "cell_type": "markdown",
   "id": "e09c28bf",
   "metadata": {},
   "source": [
    "nombre_infected       942\n",
    "nombre_sain          2309\n",
    "nombre_exposed        573\n",
    "nombre_recovered    16176\n",
    "Name: 713, dtype: int64"
   ]
  },
  {
   "cell_type": "markdown",
   "id": "8f9ce7a8",
   "metadata": {},
   "source": [
    "nombre_infected       962\n",
    "nombre_sain          2283\n",
    "nombre_exposed        577\n",
    "nombre_recovered    16178\n",
    "Name: 714, dtype: int64"
   ]
  },
  {
   "cell_type": "markdown",
   "id": "9dbb532e",
   "metadata": {},
   "source": [
    "nombre_infected       963\n",
    "nombre_sain          2249\n",
    "nombre_exposed        585\n",
    "nombre_recovered    16203\n",
    "Name: 715, dtype: int64"
   ]
  },
  {
   "cell_type": "markdown",
   "id": "1d994572",
   "metadata": {},
   "source": [
    "nombre_infected       990\n",
    "nombre_sain          2200\n",
    "nombre_exposed        621\n",
    "nombre_recovered    16189\n",
    "Name: 716, dtype: int64"
   ]
  },
  {
   "cell_type": "markdown",
   "id": "65d36149",
   "metadata": {},
   "source": [
    "nombre_infected       990\n",
    "nombre_sain          2177\n",
    "nombre_exposed        625\n",
    "nombre_recovered    16208\n",
    "Name: 717, dtype: int64"
   ]
  },
  {
   "cell_type": "markdown",
   "id": "6e5337d9",
   "metadata": {},
   "source": [
    "nombre_infected      1013\n",
    "nombre_sain          2148\n",
    "nombre_exposed        637\n",
    "nombre_recovered    16202\n",
    "Name: 718, dtype: int64"
   ]
  },
  {
   "cell_type": "markdown",
   "id": "1ad97e52",
   "metadata": {},
   "source": [
    "nombre_infected      1032\n",
    "nombre_sain          2129\n",
    "nombre_exposed        630\n",
    "nombre_recovered    16209\n",
    "Name: 719, dtype: int64"
   ]
  },
  {
   "cell_type": "markdown",
   "id": "af50deec",
   "metadata": {},
   "source": [
    "nombre_infected      1052\n",
    "nombre_sain          2095\n",
    "nombre_exposed        623\n",
    "nombre_recovered    16230\n",
    "Name: 720, dtype: int64"
   ]
  },
  {
   "cell_type": "markdown",
   "id": "65cdb0c6",
   "metadata": {},
   "source": [
    "nombre_infected      1071\n",
    "nombre_sain          2073\n",
    "nombre_exposed        597\n",
    "nombre_recovered    16259\n",
    "Name: 721, dtype: int64"
   ]
  },
  {
   "cell_type": "markdown",
   "id": "6cb3d642",
   "metadata": {},
   "source": [
    "nombre_infected      1067\n",
    "nombre_sain          2067\n",
    "nombre_exposed        587\n",
    "nombre_recovered    16279\n",
    "Name: 722, dtype: int64"
   ]
  },
  {
   "cell_type": "markdown",
   "id": "c4592b08",
   "metadata": {},
   "source": [
    "nombre_infected      1084\n",
    "nombre_sain          2081\n",
    "nombre_exposed        573\n",
    "nombre_recovered    16262\n",
    "Name: 723, dtype: int64"
   ]
  },
  {
   "cell_type": "markdown",
   "id": "2d6230cb",
   "metadata": {},
   "source": [
    "nombre_infected      1103\n",
    "nombre_sain          2074\n",
    "nombre_exposed        579\n",
    "nombre_recovered    16244\n",
    "Name: 724, dtype: int64"
   ]
  },
  {
   "cell_type": "markdown",
   "id": "0451064b",
   "metadata": {},
   "source": [
    "nombre_infected      1089\n",
    "nombre_sain          2045\n",
    "nombre_exposed        585\n",
    "nombre_recovered    16281\n",
    "Name: 725, dtype: int64"
   ]
  },
  {
   "cell_type": "markdown",
   "id": "d5b8f86e",
   "metadata": {},
   "source": [
    "nombre_infected      1111\n",
    "nombre_sain          2019\n",
    "nombre_exposed        580\n",
    "nombre_recovered    16290\n",
    "Name: 726, dtype: int64"
   ]
  },
  {
   "cell_type": "markdown",
   "id": "07008ef5",
   "metadata": {},
   "source": [
    "nombre_infected      1130\n",
    "nombre_sain          1980\n",
    "nombre_exposed        585\n",
    "nombre_recovered    16305\n",
    "Name: 727, dtype: int64"
   ]
  },
  {
   "cell_type": "markdown",
   "id": "a124a946",
   "metadata": {},
   "source": [
    "nombre_infected      1114\n",
    "nombre_sain          1958\n",
    "nombre_exposed        593\n",
    "nombre_recovered    16335\n",
    "Name: 728, dtype: int64"
   ]
  },
  {
   "cell_type": "markdown",
   "id": "25f24f47",
   "metadata": {},
   "source": [
    "nombre_infected      1118\n",
    "nombre_sain          1949\n",
    "nombre_exposed        575\n",
    "nombre_recovered    16358\n",
    "Name: 729, dtype: int64"
   ]
  },
  {
   "cell_type": "markdown",
   "id": "b3b684e3",
   "metadata": {},
   "source": [
    "nombre_infected      1112\n",
    "nombre_sain          1936\n",
    "nombre_exposed        579\n",
    "nombre_recovered    16373\n",
    "Name: 730, dtype: int64"
   ]
  }
 ],
 "metadata": {},
 "nbformat": 4,
 "nbformat_minor": 5
}
