{
 "cells": [
  {
   "cell_type": "markdown",
   "id": "02d535b6",
   "metadata": {},
   "source": [
    "nombre_infected        20\n",
    "nombre_sain         19980\n",
    "nombre_exposed          0\n",
    "nombre_recovered        0\n",
    "Name: 0, dtype: int64"
   ]
  },
  {
   "cell_type": "markdown",
   "id": "6d1556e6",
   "metadata": {},
   "source": [
    "nombre_infected        20\n",
    "nombre_sain         19967\n",
    "nombre_exposed         13\n",
    "nombre_recovered        0\n",
    "Name: 1, dtype: int64"
   ]
  },
  {
   "cell_type": "markdown",
   "id": "e3665d67",
   "metadata": {},
   "source": [
    "nombre_infected        20\n",
    "nombre_sain         19954\n",
    "nombre_exposed         26\n",
    "nombre_recovered        0\n",
    "Name: 2, dtype: int64"
   ]
  },
  {
   "cell_type": "markdown",
   "id": "45dc0d91",
   "metadata": {},
   "source": [
    "nombre_infected        23\n",
    "nombre_sain         19918\n",
    "nombre_exposed         59\n",
    "nombre_recovered        0\n",
    "Name: 3, dtype: int64"
   ]
  },
  {
   "cell_type": "markdown",
   "id": "f7bddd1b",
   "metadata": {},
   "source": [
    "nombre_infected        27\n",
    "nombre_sain         19884\n",
    "nombre_exposed         89\n",
    "nombre_recovered        0\n",
    "Name: 4, dtype: int64"
   ]
  },
  {
   "cell_type": "markdown",
   "id": "81346f11",
   "metadata": {},
   "source": [
    "nombre_infected        39\n",
    "nombre_sain         19850\n",
    "nombre_exposed        111\n",
    "nombre_recovered        0\n",
    "Name: 5, dtype: int64"
   ]
  },
  {
   "cell_type": "markdown",
   "id": "c0d510fc",
   "metadata": {},
   "source": [
    "nombre_infected        61\n",
    "nombre_sain         19791\n",
    "nombre_exposed        146\n",
    "nombre_recovered        2\n",
    "Name: 6, dtype: int64"
   ]
  },
  {
   "cell_type": "markdown",
   "id": "7a32093c",
   "metadata": {},
   "source": [
    "nombre_infected        83\n",
    "nombre_sain         19679\n",
    "nombre_exposed        233\n",
    "nombre_recovered        5\n",
    "Name: 7, dtype: int64"
   ]
  },
  {
   "cell_type": "markdown",
   "id": "2163e387",
   "metadata": {},
   "source": [
    "nombre_infected       110\n",
    "nombre_sain         19563\n",
    "nombre_exposed        317\n",
    "nombre_recovered       10\n",
    "Name: 8, dtype: int64"
   ]
  },
  {
   "cell_type": "markdown",
   "id": "4716e80a",
   "metadata": {},
   "source": [
    "nombre_infected       160\n",
    "nombre_sain         19391\n",
    "nombre_exposed        425\n",
    "nombre_recovered       24\n",
    "Name: 9, dtype: int64"
   ]
  },
  {
   "cell_type": "markdown",
   "id": "179bb02c",
   "metadata": {},
   "source": [
    "nombre_infected       219\n",
    "nombre_sain         19151\n",
    "nombre_exposed        594\n",
    "nombre_recovered       36\n",
    "Name: 10, dtype: int64"
   ]
  },
  {
   "cell_type": "markdown",
   "id": "9f2e05a2",
   "metadata": {},
   "source": [
    "nombre_infected       289\n",
    "nombre_sain         18857\n",
    "nombre_exposed        799\n",
    "nombre_recovered       55\n",
    "Name: 11, dtype: int64"
   ]
  },
  {
   "cell_type": "markdown",
   "id": "04b7d283",
   "metadata": {},
   "source": [
    "nombre_infected       383\n",
    "nombre_sain         18480\n",
    "nombre_exposed       1054\n",
    "nombre_recovered       83\n",
    "Name: 12, dtype: int64"
   ]
  },
  {
   "cell_type": "markdown",
   "id": "87e25d67",
   "metadata": {},
   "source": [
    "nombre_infected       557\n",
    "nombre_sain         17952\n",
    "nombre_exposed       1383\n",
    "nombre_recovered      108\n",
    "Name: 13, dtype: int64"
   ]
  },
  {
   "cell_type": "markdown",
   "id": "7384f15d",
   "metadata": {},
   "source": [
    "nombre_infected       763\n",
    "nombre_sain         17220\n",
    "nombre_exposed       1860\n",
    "nombre_recovered      157\n",
    "Name: 14, dtype: int64"
   ]
  },
  {
   "cell_type": "markdown",
   "id": "ddfe1009",
   "metadata": {},
   "source": [
    "nombre_infected      1002\n",
    "nombre_sain         16337\n",
    "nombre_exposed       2433\n",
    "nombre_recovered      228\n",
    "Name: 15, dtype: int64"
   ]
  },
  {
   "cell_type": "markdown",
   "id": "9968ef22",
   "metadata": {},
   "source": [
    "nombre_infected      1321\n",
    "nombre_sain         15321\n",
    "nombre_exposed       3022\n",
    "nombre_recovered      336\n",
    "Name: 16, dtype: int64"
   ]
  },
  {
   "cell_type": "markdown",
   "id": "0d722893",
   "metadata": {},
   "source": [
    "nombre_infected      1775\n",
    "nombre_sain         13971\n",
    "nombre_exposed       3799\n",
    "nombre_recovered      455\n",
    "Name: 17, dtype: int64"
   ]
  },
  {
   "cell_type": "markdown",
   "id": "4a025fd3",
   "metadata": {},
   "source": [
    "nombre_infected      2321\n",
    "nombre_sain         12489\n",
    "nombre_exposed       4595\n",
    "nombre_recovered      595\n",
    "Name: 18, dtype: int64"
   ]
  },
  {
   "cell_type": "markdown",
   "id": "2a58779d",
   "metadata": {},
   "source": [
    "nombre_infected      2979\n",
    "nombre_sain         10761\n",
    "nombre_exposed       5448\n",
    "nombre_recovered      812\n",
    "Name: 19, dtype: int64"
   ]
  },
  {
   "cell_type": "markdown",
   "id": "8841530b",
   "metadata": {},
   "source": [
    "nombre_infected     3720\n",
    "nombre_sain         8979\n",
    "nombre_exposed      6213\n",
    "nombre_recovered    1088\n",
    "Name: 20, dtype: int64"
   ]
  },
  {
   "cell_type": "markdown",
   "id": "26b7e3a3",
   "metadata": {},
   "source": [
    "nombre_infected     4650\n",
    "nombre_sain         7216\n",
    "nombre_exposed      6733\n",
    "nombre_recovered    1401\n",
    "Name: 21, dtype: int64"
   ]
  },
  {
   "cell_type": "markdown",
   "id": "d6b95287",
   "metadata": {},
   "source": [
    "nombre_infected     5654\n",
    "nombre_sain         5511\n",
    "nombre_exposed      7022\n",
    "nombre_recovered    1813\n",
    "Name: 22, dtype: int64"
   ]
  },
  {
   "cell_type": "markdown",
   "id": "bdf88ec5",
   "metadata": {},
   "source": [
    "nombre_infected     6591\n",
    "nombre_sain         4124\n",
    "nombre_exposed      6916\n",
    "nombre_recovered    2369\n",
    "Name: 23, dtype: int64"
   ]
  },
  {
   "cell_type": "markdown",
   "id": "78569b70",
   "metadata": {},
   "source": [
    "nombre_infected     7442\n",
    "nombre_sain         2900\n",
    "nombre_exposed      6637\n",
    "nombre_recovered    3021\n",
    "Name: 24, dtype: int64"
   ]
  },
  {
   "cell_type": "markdown",
   "id": "4ea45b29",
   "metadata": {},
   "source": [
    "nombre_infected     8120\n",
    "nombre_sain         1980\n",
    "nombre_exposed      6084\n",
    "nombre_recovered    3816\n",
    "Name: 25, dtype: int64"
   ]
  },
  {
   "cell_type": "markdown",
   "id": "3d77b078",
   "metadata": {},
   "source": [
    "nombre_infected     8666\n",
    "nombre_sain         1379\n",
    "nombre_exposed      5259\n",
    "nombre_recovered    4696\n",
    "Name: 26, dtype: int64"
   ]
  },
  {
   "cell_type": "markdown",
   "id": "3572f21f",
   "metadata": {},
   "source": [
    "nombre_infected     8921\n",
    "nombre_sain          945\n",
    "nombre_exposed      4435\n",
    "nombre_recovered    5699\n",
    "Name: 27, dtype: int64"
   ]
  },
  {
   "cell_type": "markdown",
   "id": "44052691",
   "metadata": {},
   "source": [
    "nombre_infected     9015\n",
    "nombre_sain          641\n",
    "nombre_exposed      3691\n",
    "nombre_recovered    6653\n",
    "Name: 28, dtype: int64"
   ]
  },
  {
   "cell_type": "markdown",
   "id": "877286df",
   "metadata": {},
   "source": [
    "nombre_infected     8784\n",
    "nombre_sain          453\n",
    "nombre_exposed      3007\n",
    "nombre_recovered    7756\n",
    "Name: 29, dtype: int64"
   ]
  },
  {
   "cell_type": "markdown",
   "id": "f9548a52",
   "metadata": {},
   "source": [
    "nombre_infected     8459\n",
    "nombre_sain          314\n",
    "nombre_exposed      2445\n",
    "nombre_recovered    8782\n",
    "Name: 30, dtype: int64"
   ]
  },
  {
   "cell_type": "markdown",
   "id": "ed864de8",
   "metadata": {},
   "source": [
    "nombre_infected     8022\n",
    "nombre_sain          225\n",
    "nombre_exposed      1963\n",
    "nombre_recovered    9790\n",
    "Name: 31, dtype: int64"
   ]
  },
  {
   "cell_type": "markdown",
   "id": "dbf0653d",
   "metadata": {},
   "source": [
    "nombre_infected      7578\n",
    "nombre_sain           183\n",
    "nombre_exposed       1496\n",
    "nombre_recovered    10743\n",
    "Name: 32, dtype: int64"
   ]
  },
  {
   "cell_type": "markdown",
   "id": "18815401",
   "metadata": {},
   "source": [
    "nombre_infected      6999\n",
    "nombre_sain           140\n",
    "nombre_exposed       1158\n",
    "nombre_recovered    11703\n",
    "Name: 33, dtype: int64"
   ]
  },
  {
   "cell_type": "markdown",
   "id": "f6914a59",
   "metadata": {},
   "source": [
    "nombre_infected      6390\n",
    "nombre_sain           133\n",
    "nombre_exposed        880\n",
    "nombre_recovered    12597\n",
    "Name: 34, dtype: int64"
   ]
  },
  {
   "cell_type": "markdown",
   "id": "998adc25",
   "metadata": {},
   "source": [
    "nombre_infected      5841\n",
    "nombre_sain           139\n",
    "nombre_exposed        649\n",
    "nombre_recovered    13371\n",
    "Name: 35, dtype: int64"
   ]
  },
  {
   "cell_type": "markdown",
   "id": "975d1b4d",
   "metadata": {},
   "source": [
    "nombre_infected      5271\n",
    "nombre_sain           159\n",
    "nombre_exposed        516\n",
    "nombre_recovered    14054\n",
    "Name: 36, dtype: int64"
   ]
  },
  {
   "cell_type": "markdown",
   "id": "9e837645",
   "metadata": {},
   "source": [
    "nombre_infected      4751\n",
    "nombre_sain           166\n",
    "nombre_exposed        411\n",
    "nombre_recovered    14672\n",
    "Name: 37, dtype: int64"
   ]
  },
  {
   "cell_type": "markdown",
   "id": "6ad2cc41",
   "metadata": {},
   "source": [
    "nombre_infected      4267\n",
    "nombre_sain           181\n",
    "nombre_exposed        323\n",
    "nombre_recovered    15229\n",
    "Name: 38, dtype: int64"
   ]
  },
  {
   "cell_type": "markdown",
   "id": "708dbb9a",
   "metadata": {},
   "source": [
    "nombre_infected      3775\n",
    "nombre_sain           182\n",
    "nombre_exposed        274\n",
    "nombre_recovered    15769\n",
    "Name: 39, dtype: int64"
   ]
  },
  {
   "cell_type": "markdown",
   "id": "e03c8849",
   "metadata": {},
   "source": [
    "nombre_infected      3308\n",
    "nombre_sain           198\n",
    "nombre_exposed        240\n",
    "nombre_recovered    16254\n",
    "Name: 40, dtype: int64"
   ]
  },
  {
   "cell_type": "markdown",
   "id": "6a36f36e",
   "metadata": {},
   "source": [
    "nombre_infected      2979\n",
    "nombre_sain           235\n",
    "nombre_exposed        190\n",
    "nombre_recovered    16596\n",
    "Name: 41, dtype: int64"
   ]
  },
  {
   "cell_type": "markdown",
   "id": "a55ede50",
   "metadata": {},
   "source": [
    "nombre_infected      2639\n",
    "nombre_sain           254\n",
    "nombre_exposed        162\n",
    "nombre_recovered    16945\n",
    "Name: 42, dtype: int64"
   ]
  },
  {
   "cell_type": "markdown",
   "id": "e3f5907a",
   "metadata": {},
   "source": [
    "nombre_infected      2278\n",
    "nombre_sain           282\n",
    "nombre_exposed        160\n",
    "nombre_recovered    17280\n",
    "Name: 43, dtype: int64"
   ]
  },
  {
   "cell_type": "markdown",
   "id": "11185963",
   "metadata": {},
   "source": [
    "nombre_infected      1992\n",
    "nombre_sain           287\n",
    "nombre_exposed        163\n",
    "nombre_recovered    17558\n",
    "Name: 44, dtype: int64"
   ]
  },
  {
   "cell_type": "markdown",
   "id": "43f80242",
   "metadata": {},
   "source": [
    "nombre_infected      1771\n",
    "nombre_sain           321\n",
    "nombre_exposed        149\n",
    "nombre_recovered    17759\n",
    "Name: 45, dtype: int64"
   ]
  },
  {
   "cell_type": "markdown",
   "id": "a5287a98",
   "metadata": {},
   "source": [
    "nombre_infected      1568\n",
    "nombre_sain           347\n",
    "nombre_exposed        136\n",
    "nombre_recovered    17949\n",
    "Name: 46, dtype: int64"
   ]
  },
  {
   "cell_type": "markdown",
   "id": "ad5f1cf5",
   "metadata": {},
   "source": [
    "nombre_infected      1423\n",
    "nombre_sain           364\n",
    "nombre_exposed        128\n",
    "nombre_recovered    18085\n",
    "Name: 47, dtype: int64"
   ]
  },
  {
   "cell_type": "markdown",
   "id": "8b70ea8a",
   "metadata": {},
   "source": [
    "nombre_infected      1270\n",
    "nombre_sain           384\n",
    "nombre_exposed        126\n",
    "nombre_recovered    18220\n",
    "Name: 48, dtype: int64"
   ]
  },
  {
   "cell_type": "markdown",
   "id": "60e68e4f",
   "metadata": {},
   "source": [
    "nombre_infected      1154\n",
    "nombre_sain           429\n",
    "nombre_exposed        112\n",
    "nombre_recovered    18305\n",
    "Name: 49, dtype: int64"
   ]
  },
  {
   "cell_type": "markdown",
   "id": "f464d8fd",
   "metadata": {},
   "source": [
    "nombre_infected      1061\n",
    "nombre_sain           436\n",
    "nombre_exposed        104\n",
    "nombre_recovered    18399\n",
    "Name: 50, dtype: int64"
   ]
  },
  {
   "cell_type": "markdown",
   "id": "73516881",
   "metadata": {},
   "source": [
    "nombre_infected       965\n",
    "nombre_sain           469\n",
    "nombre_exposed         97\n",
    "nombre_recovered    18469\n",
    "Name: 51, dtype: int64"
   ]
  },
  {
   "cell_type": "markdown",
   "id": "4544b5f5",
   "metadata": {},
   "source": [
    "nombre_infected       868\n",
    "nombre_sain           495\n",
    "nombre_exposed        105\n",
    "nombre_recovered    18532\n",
    "Name: 52, dtype: int64"
   ]
  },
  {
   "cell_type": "markdown",
   "id": "0069bafc",
   "metadata": {},
   "source": [
    "nombre_infected       781\n",
    "nombre_sain           540\n",
    "nombre_exposed        104\n",
    "nombre_recovered    18575\n",
    "Name: 53, dtype: int64"
   ]
  },
  {
   "cell_type": "markdown",
   "id": "f6062e7b",
   "metadata": {},
   "source": [
    "nombre_infected       723\n",
    "nombre_sain           581\n",
    "nombre_exposed         98\n",
    "nombre_recovered    18598\n",
    "Name: 54, dtype: int64"
   ]
  },
  {
   "cell_type": "markdown",
   "id": "ff3d4a62",
   "metadata": {},
   "source": [
    "nombre_infected       651\n",
    "nombre_sain           610\n",
    "nombre_exposed        100\n",
    "nombre_recovered    18639\n",
    "Name: 55, dtype: int64"
   ]
  },
  {
   "cell_type": "markdown",
   "id": "82729623",
   "metadata": {},
   "source": [
    "nombre_infected       580\n",
    "nombre_sain           635\n",
    "nombre_exposed         94\n",
    "nombre_recovered    18691\n",
    "Name: 56, dtype: int64"
   ]
  },
  {
   "cell_type": "markdown",
   "id": "1631e2ca",
   "metadata": {},
   "source": [
    "nombre_infected       509\n",
    "nombre_sain           671\n",
    "nombre_exposed         89\n",
    "nombre_recovered    18731\n",
    "Name: 57, dtype: int64"
   ]
  },
  {
   "cell_type": "markdown",
   "id": "26de78fd",
   "metadata": {},
   "source": [
    "nombre_infected       451\n",
    "nombre_sain           704\n",
    "nombre_exposed         87\n",
    "nombre_recovered    18758\n",
    "Name: 58, dtype: int64"
   ]
  },
  {
   "cell_type": "markdown",
   "id": "385657af",
   "metadata": {},
   "source": [
    "nombre_infected       399\n",
    "nombre_sain           753\n",
    "nombre_exposed         76\n",
    "nombre_recovered    18772\n",
    "Name: 59, dtype: int64"
   ]
  },
  {
   "cell_type": "markdown",
   "id": "b270df87",
   "metadata": {},
   "source": [
    "nombre_infected       374\n",
    "nombre_sain           802\n",
    "nombre_exposed         64\n",
    "nombre_recovered    18760\n",
    "Name: 60, dtype: int64"
   ]
  },
  {
   "cell_type": "markdown",
   "id": "1b56f72b",
   "metadata": {},
   "source": [
    "nombre_infected       334\n",
    "nombre_sain           857\n",
    "nombre_exposed         59\n",
    "nombre_recovered    18750\n",
    "Name: 61, dtype: int64"
   ]
  },
  {
   "cell_type": "markdown",
   "id": "7afe703e",
   "metadata": {},
   "source": [
    "nombre_infected       295\n",
    "nombre_sain           927\n",
    "nombre_exposed         57\n",
    "nombre_recovered    18721\n",
    "Name: 62, dtype: int64"
   ]
  },
  {
   "cell_type": "markdown",
   "id": "15832698",
   "metadata": {},
   "source": [
    "nombre_infected       252\n",
    "nombre_sain           975\n",
    "nombre_exposed         65\n",
    "nombre_recovered    18708\n",
    "Name: 63, dtype: int64"
   ]
  },
  {
   "cell_type": "markdown",
   "id": "00660d1c",
   "metadata": {},
   "source": [
    "nombre_infected       228\n",
    "nombre_sain          1025\n",
    "nombre_exposed         69\n",
    "nombre_recovered    18678\n",
    "Name: 64, dtype: int64"
   ]
  },
  {
   "cell_type": "markdown",
   "id": "08a573c9",
   "metadata": {},
   "source": [
    "nombre_infected       218\n",
    "nombre_sain          1087\n",
    "nombre_exposed         72\n",
    "nombre_recovered    18623\n",
    "Name: 65, dtype: int64"
   ]
  },
  {
   "cell_type": "markdown",
   "id": "b393b7fb",
   "metadata": {},
   "source": [
    "nombre_infected       205\n",
    "nombre_sain          1144\n",
    "nombre_exposed         63\n",
    "nombre_recovered    18588\n",
    "Name: 66, dtype: int64"
   ]
  },
  {
   "cell_type": "markdown",
   "id": "e6a3cb92",
   "metadata": {},
   "source": [
    "nombre_infected       192\n",
    "nombre_sain          1212\n",
    "nombre_exposed         65\n",
    "nombre_recovered    18531\n",
    "Name: 67, dtype: int64"
   ]
  },
  {
   "cell_type": "markdown",
   "id": "bca0d31e",
   "metadata": {},
   "source": [
    "nombre_infected       174\n",
    "nombre_sain          1279\n",
    "nombre_exposed         60\n",
    "nombre_recovered    18487\n",
    "Name: 68, dtype: int64"
   ]
  },
  {
   "cell_type": "markdown",
   "id": "993eb1c6",
   "metadata": {},
   "source": [
    "nombre_infected       171\n",
    "nombre_sain          1347\n",
    "nombre_exposed         55\n",
    "nombre_recovered    18427\n",
    "Name: 69, dtype: int64"
   ]
  },
  {
   "cell_type": "markdown",
   "id": "11ff950e",
   "metadata": {},
   "source": [
    "nombre_infected       167\n",
    "nombre_sain          1411\n",
    "nombre_exposed         50\n",
    "nombre_recovered    18372\n",
    "Name: 70, dtype: int64"
   ]
  },
  {
   "cell_type": "markdown",
   "id": "4f294483",
   "metadata": {},
   "source": [
    "nombre_infected       161\n",
    "nombre_sain          1463\n",
    "nombre_exposed         59\n",
    "nombre_recovered    18317\n",
    "Name: 71, dtype: int64"
   ]
  },
  {
   "cell_type": "markdown",
   "id": "8390cf4a",
   "metadata": {},
   "source": [
    "nombre_infected       156\n",
    "nombre_sain          1521\n",
    "nombre_exposed         57\n",
    "nombre_recovered    18266\n",
    "Name: 72, dtype: int64"
   ]
  },
  {
   "cell_type": "markdown",
   "id": "b5278baa",
   "metadata": {},
   "source": [
    "nombre_infected       144\n",
    "nombre_sain          1582\n",
    "nombre_exposed         56\n",
    "nombre_recovered    18218\n",
    "Name: 73, dtype: int64"
   ]
  },
  {
   "cell_type": "markdown",
   "id": "b6fd4fa3",
   "metadata": {},
   "source": [
    "nombre_infected       139\n",
    "nombre_sain          1634\n",
    "nombre_exposed         55\n",
    "nombre_recovered    18172\n",
    "Name: 74, dtype: int64"
   ]
  },
  {
   "cell_type": "markdown",
   "id": "a365e90c",
   "metadata": {},
   "source": [
    "nombre_infected       130\n",
    "nombre_sain          1689\n",
    "nombre_exposed         58\n",
    "nombre_recovered    18123\n",
    "Name: 75, dtype: int64"
   ]
  },
  {
   "cell_type": "markdown",
   "id": "6395afdc",
   "metadata": {},
   "source": [
    "nombre_infected       131\n",
    "nombre_sain          1761\n",
    "nombre_exposed         48\n",
    "nombre_recovered    18060\n",
    "Name: 76, dtype: int64"
   ]
  },
  {
   "cell_type": "markdown",
   "id": "cb370704",
   "metadata": {},
   "source": [
    "nombre_infected       126\n",
    "nombre_sain          1825\n",
    "nombre_exposed         47\n",
    "nombre_recovered    18002\n",
    "Name: 77, dtype: int64"
   ]
  },
  {
   "cell_type": "markdown",
   "id": "dc75b994",
   "metadata": {},
   "source": [
    "nombre_infected       122\n",
    "nombre_sain          1895\n",
    "nombre_exposed         47\n",
    "nombre_recovered    17936\n",
    "Name: 78, dtype: int64"
   ]
  },
  {
   "cell_type": "markdown",
   "id": "a66d5733",
   "metadata": {},
   "source": [
    "nombre_infected       106\n",
    "nombre_sain          1985\n",
    "nombre_exposed         47\n",
    "nombre_recovered    17862\n",
    "Name: 79, dtype: int64"
   ]
  },
  {
   "cell_type": "markdown",
   "id": "077cfa0f",
   "metadata": {},
   "source": [
    "nombre_infected       108\n",
    "nombre_sain          2045\n",
    "nombre_exposed         44\n",
    "nombre_recovered    17803\n",
    "Name: 80, dtype: int64"
   ]
  },
  {
   "cell_type": "markdown",
   "id": "b4d88bcd",
   "metadata": {},
   "source": [
    "nombre_infected       102\n",
    "nombre_sain          2101\n",
    "nombre_exposed         40\n",
    "nombre_recovered    17757\n",
    "Name: 81, dtype: int64"
   ]
  },
  {
   "cell_type": "markdown",
   "id": "f0013217",
   "metadata": {},
   "source": [
    "nombre_infected       100\n",
    "nombre_sain          2169\n",
    "nombre_exposed         37\n",
    "nombre_recovered    17694\n",
    "Name: 82, dtype: int64"
   ]
  },
  {
   "cell_type": "markdown",
   "id": "02ac1ec7",
   "metadata": {},
   "source": [
    "nombre_infected        94\n",
    "nombre_sain          2226\n",
    "nombre_exposed         38\n",
    "nombre_recovered    17642\n",
    "Name: 83, dtype: int64"
   ]
  },
  {
   "cell_type": "markdown",
   "id": "d082a5c6",
   "metadata": {},
   "source": [
    "nombre_infected        85\n",
    "nombre_sain          2283\n",
    "nombre_exposed         43\n",
    "nombre_recovered    17589\n",
    "Name: 84, dtype: int64"
   ]
  },
  {
   "cell_type": "markdown",
   "id": "3c656980",
   "metadata": {},
   "source": [
    "nombre_infected        81\n",
    "nombre_sain          2342\n",
    "nombre_exposed         50\n",
    "nombre_recovered    17527\n",
    "Name: 85, dtype: int64"
   ]
  },
  {
   "cell_type": "markdown",
   "id": "11329a6d",
   "metadata": {},
   "source": [
    "nombre_infected        80\n",
    "nombre_sain          2384\n",
    "nombre_exposed         56\n",
    "nombre_recovered    17480\n",
    "Name: 86, dtype: int64"
   ]
  },
  {
   "cell_type": "markdown",
   "id": "d52be3a5",
   "metadata": {},
   "source": [
    "nombre_infected        81\n",
    "nombre_sain          2445\n",
    "nombre_exposed         55\n",
    "nombre_recovered    17419\n",
    "Name: 87, dtype: int64"
   ]
  },
  {
   "cell_type": "markdown",
   "id": "07fd451e",
   "metadata": {},
   "source": [
    "nombre_infected        77\n",
    "nombre_sain          2485\n",
    "nombre_exposed         54\n",
    "nombre_recovered    17384\n",
    "Name: 88, dtype: int64"
   ]
  },
  {
   "cell_type": "markdown",
   "id": "7822c648",
   "metadata": {},
   "source": [
    "nombre_infected        82\n",
    "nombre_sain          2512\n",
    "nombre_exposed         50\n",
    "nombre_recovered    17356\n",
    "Name: 89, dtype: int64"
   ]
  },
  {
   "cell_type": "markdown",
   "id": "9f06c5d3",
   "metadata": {},
   "source": [
    "nombre_infected        86\n",
    "nombre_sain          2540\n",
    "nombre_exposed         45\n",
    "nombre_recovered    17329\n",
    "Name: 90, dtype: int64"
   ]
  },
  {
   "cell_type": "markdown",
   "id": "dee1e64a",
   "metadata": {},
   "source": [
    "nombre_infected        91\n",
    "nombre_sain          2563\n",
    "nombre_exposed         40\n",
    "nombre_recovered    17306\n",
    "Name: 91, dtype: int64"
   ]
  },
  {
   "cell_type": "markdown",
   "id": "538514cd",
   "metadata": {},
   "source": [
    "nombre_infected        93\n",
    "nombre_sain          2589\n",
    "nombre_exposed         37\n",
    "nombre_recovered    17281\n",
    "Name: 92, dtype: int64"
   ]
  },
  {
   "cell_type": "markdown",
   "id": "d71e8db1",
   "metadata": {},
   "source": [
    "nombre_infected        89\n",
    "nombre_sain          2622\n",
    "nombre_exposed         41\n",
    "nombre_recovered    17248\n",
    "Name: 93, dtype: int64"
   ]
  },
  {
   "cell_type": "markdown",
   "id": "cdb777dc",
   "metadata": {},
   "source": [
    "nombre_infected        94\n",
    "nombre_sain          2651\n",
    "nombre_exposed         42\n",
    "nombre_recovered    17213\n",
    "Name: 94, dtype: int64"
   ]
  },
  {
   "cell_type": "markdown",
   "id": "3d7dc795",
   "metadata": {},
   "source": [
    "nombre_infected        81\n",
    "nombre_sain          2674\n",
    "nombre_exposed         51\n",
    "nombre_recovered    17194\n",
    "Name: 95, dtype: int64"
   ]
  },
  {
   "cell_type": "markdown",
   "id": "960a7f6b",
   "metadata": {},
   "source": [
    "nombre_infected        75\n",
    "nombre_sain          2701\n",
    "nombre_exposed         52\n",
    "nombre_recovered    17172\n",
    "Name: 96, dtype: int64"
   ]
  },
  {
   "cell_type": "markdown",
   "id": "744a373f",
   "metadata": {},
   "source": [
    "nombre_infected        77\n",
    "nombre_sain          2733\n",
    "nombre_exposed         48\n",
    "nombre_recovered    17142\n",
    "Name: 97, dtype: int64"
   ]
  },
  {
   "cell_type": "markdown",
   "id": "b7bf04c9",
   "metadata": {},
   "source": [
    "nombre_infected        75\n",
    "nombre_sain          2746\n",
    "nombre_exposed         52\n",
    "nombre_recovered    17127\n",
    "Name: 98, dtype: int64"
   ]
  },
  {
   "cell_type": "markdown",
   "id": "960e1b70",
   "metadata": {},
   "source": [
    "nombre_infected        76\n",
    "nombre_sain          2771\n",
    "nombre_exposed         47\n",
    "nombre_recovered    17106\n",
    "Name: 99, dtype: int64"
   ]
  },
  {
   "cell_type": "markdown",
   "id": "185dce11",
   "metadata": {},
   "source": [
    "nombre_infected        81\n",
    "nombre_sain          2790\n",
    "nombre_exposed         51\n",
    "nombre_recovered    17078\n",
    "Name: 100, dtype: int64"
   ]
  },
  {
   "cell_type": "markdown",
   "id": "9605eba1",
   "metadata": {},
   "source": [
    "nombre_infected        79\n",
    "nombre_sain          2811\n",
    "nombre_exposed         52\n",
    "nombre_recovered    17058\n",
    "Name: 101, dtype: int64"
   ]
  },
  {
   "cell_type": "markdown",
   "id": "cd27d586",
   "metadata": {},
   "source": [
    "nombre_infected        83\n",
    "nombre_sain          2826\n",
    "nombre_exposed         50\n",
    "nombre_recovered    17041\n",
    "Name: 102, dtype: int64"
   ]
  },
  {
   "cell_type": "markdown",
   "id": "6ef93587",
   "metadata": {},
   "source": [
    "nombre_infected        90\n",
    "nombre_sain          2823\n",
    "nombre_exposed         66\n",
    "nombre_recovered    17021\n",
    "Name: 103, dtype: int64"
   ]
  },
  {
   "cell_type": "markdown",
   "id": "beff9c24",
   "metadata": {},
   "source": [
    "nombre_infected        89\n",
    "nombre_sain          2839\n",
    "nombre_exposed         70\n",
    "nombre_recovered    17002\n",
    "Name: 104, dtype: int64"
   ]
  },
  {
   "cell_type": "markdown",
   "id": "3d6c7bc1",
   "metadata": {},
   "source": [
    "nombre_infected       100\n",
    "nombre_sain          2857\n",
    "nombre_exposed         76\n",
    "nombre_recovered    16967\n",
    "Name: 105, dtype: int64"
   ]
  },
  {
   "cell_type": "markdown",
   "id": "02b23f6a",
   "metadata": {},
   "source": [
    "nombre_infected       109\n",
    "nombre_sain          2881\n",
    "nombre_exposed         71\n",
    "nombre_recovered    16939\n",
    "Name: 106, dtype: int64"
   ]
  },
  {
   "cell_type": "markdown",
   "id": "9e5bab9f",
   "metadata": {},
   "source": [
    "nombre_infected       114\n",
    "nombre_sain          2925\n",
    "nombre_exposed         62\n",
    "nombre_recovered    16899\n",
    "Name: 107, dtype: int64"
   ]
  },
  {
   "cell_type": "markdown",
   "id": "661c9583",
   "metadata": {},
   "source": [
    "nombre_infected       115\n",
    "nombre_sain          2944\n",
    "nombre_exposed         71\n",
    "nombre_recovered    16870\n",
    "Name: 108, dtype: int64"
   ]
  },
  {
   "cell_type": "markdown",
   "id": "c00a5e87",
   "metadata": {},
   "source": [
    "nombre_infected       119\n",
    "nombre_sain          2965\n",
    "nombre_exposed         79\n",
    "nombre_recovered    16837\n",
    "Name: 109, dtype: int64"
   ]
  },
  {
   "cell_type": "markdown",
   "id": "4d2221c6",
   "metadata": {},
   "source": [
    "nombre_infected       127\n",
    "nombre_sain          2993\n",
    "nombre_exposed         80\n",
    "nombre_recovered    16800\n",
    "Name: 110, dtype: int64"
   ]
  },
  {
   "cell_type": "markdown",
   "id": "231a20bb",
   "metadata": {},
   "source": [
    "nombre_infected       137\n",
    "nombre_sain          3005\n",
    "nombre_exposed         82\n",
    "nombre_recovered    16776\n",
    "Name: 111, dtype: int64"
   ]
  },
  {
   "cell_type": "markdown",
   "id": "9abdcf74",
   "metadata": {},
   "source": [
    "nombre_infected       138\n",
    "nombre_sain          3021\n",
    "nombre_exposed         86\n",
    "nombre_recovered    16755\n",
    "Name: 112, dtype: int64"
   ]
  },
  {
   "cell_type": "markdown",
   "id": "4b6e357a",
   "metadata": {},
   "source": [
    "nombre_infected       149\n",
    "nombre_sain          3053\n",
    "nombre_exposed         83\n",
    "nombre_recovered    16715\n",
    "Name: 113, dtype: int64"
   ]
  },
  {
   "cell_type": "markdown",
   "id": "17da35f8",
   "metadata": {},
   "source": [
    "nombre_infected       151\n",
    "nombre_sain          3069\n",
    "nombre_exposed        104\n",
    "nombre_recovered    16676\n",
    "Name: 114, dtype: int64"
   ]
  },
  {
   "cell_type": "markdown",
   "id": "13a562fd",
   "metadata": {},
   "source": [
    "nombre_infected       149\n",
    "nombre_sain          3087\n",
    "nombre_exposed        107\n",
    "nombre_recovered    16657\n",
    "Name: 115, dtype: int64"
   ]
  },
  {
   "cell_type": "markdown",
   "id": "534bd736",
   "metadata": {},
   "source": [
    "nombre_infected       167\n",
    "nombre_sain          3126\n",
    "nombre_exposed         98\n",
    "nombre_recovered    16609\n",
    "Name: 116, dtype: int64"
   ]
  },
  {
   "cell_type": "markdown",
   "id": "f92ee8c5",
   "metadata": {},
   "source": [
    "nombre_infected       170\n",
    "nombre_sain          3149\n",
    "nombre_exposed        108\n",
    "nombre_recovered    16573\n",
    "Name: 117, dtype: int64"
   ]
  },
  {
   "cell_type": "markdown",
   "id": "58da351c",
   "metadata": {},
   "source": [
    "nombre_infected       168\n",
    "nombre_sain          3168\n",
    "nombre_exposed        121\n",
    "nombre_recovered    16543\n",
    "Name: 118, dtype: int64"
   ]
  },
  {
   "cell_type": "markdown",
   "id": "b3e779c6",
   "metadata": {},
   "source": [
    "nombre_infected       177\n",
    "nombre_sain          3193\n",
    "nombre_exposed        119\n",
    "nombre_recovered    16511\n",
    "Name: 119, dtype: int64"
   ]
  },
  {
   "cell_type": "markdown",
   "id": "f48758c6",
   "metadata": {},
   "source": [
    "nombre_infected       176\n",
    "nombre_sain          3221\n",
    "nombre_exposed        121\n",
    "nombre_recovered    16482\n",
    "Name: 120, dtype: int64"
   ]
  },
  {
   "cell_type": "markdown",
   "id": "ad219308",
   "metadata": {},
   "source": [
    "nombre_infected       187\n",
    "nombre_sain          3235\n",
    "nombre_exposed        125\n",
    "nombre_recovered    16453\n",
    "Name: 121, dtype: int64"
   ]
  },
  {
   "cell_type": "markdown",
   "id": "f384a947",
   "metadata": {},
   "source": [
    "nombre_infected       199\n",
    "nombre_sain          3238\n",
    "nombre_exposed        134\n",
    "nombre_recovered    16429\n",
    "Name: 122, dtype: int64"
   ]
  },
  {
   "cell_type": "markdown",
   "id": "54e2592d",
   "metadata": {},
   "source": [
    "nombre_infected       202\n",
    "nombre_sain          3240\n",
    "nombre_exposed        145\n",
    "nombre_recovered    16413\n",
    "Name: 123, dtype: int64"
   ]
  },
  {
   "cell_type": "markdown",
   "id": "133e3fcc",
   "metadata": {},
   "source": [
    "nombre_infected       216\n",
    "nombre_sain          3260\n",
    "nombre_exposed        142\n",
    "nombre_recovered    16382\n",
    "Name: 124, dtype: int64"
   ]
  },
  {
   "cell_type": "markdown",
   "id": "5c51a146",
   "metadata": {},
   "source": [
    "nombre_infected       224\n",
    "nombre_sain          3277\n",
    "nombre_exposed        147\n",
    "nombre_recovered    16352\n",
    "Name: 125, dtype: int64"
   ]
  },
  {
   "cell_type": "markdown",
   "id": "2c1dedd2",
   "metadata": {},
   "source": [
    "nombre_infected       242\n",
    "nombre_sain          3280\n",
    "nombre_exposed        141\n",
    "nombre_recovered    16337\n",
    "Name: 126, dtype: int64"
   ]
  },
  {
   "cell_type": "markdown",
   "id": "43508929",
   "metadata": {},
   "source": [
    "nombre_infected       253\n",
    "nombre_sain          3294\n",
    "nombre_exposed        149\n",
    "nombre_recovered    16304\n",
    "Name: 127, dtype: int64"
   ]
  },
  {
   "cell_type": "markdown",
   "id": "b14b751d",
   "metadata": {},
   "source": [
    "nombre_infected       263\n",
    "nombre_sain          3307\n",
    "nombre_exposed        159\n",
    "nombre_recovered    16271\n",
    "Name: 128, dtype: int64"
   ]
  },
  {
   "cell_type": "markdown",
   "id": "2605b354",
   "metadata": {},
   "source": [
    "nombre_infected       253\n",
    "nombre_sain          3315\n",
    "nombre_exposed        176\n",
    "nombre_recovered    16256\n",
    "Name: 129, dtype: int64"
   ]
  },
  {
   "cell_type": "markdown",
   "id": "975c8201",
   "metadata": {},
   "source": [
    "nombre_infected       254\n",
    "nombre_sain          3341\n",
    "nombre_exposed        185\n",
    "nombre_recovered    16220\n",
    "Name: 130, dtype: int64"
   ]
  },
  {
   "cell_type": "markdown",
   "id": "f5c65830",
   "metadata": {},
   "source": [
    "nombre_infected       262\n",
    "nombre_sain          3368\n",
    "nombre_exposed        194\n",
    "nombre_recovered    16176\n",
    "Name: 131, dtype: int64"
   ]
  },
  {
   "cell_type": "markdown",
   "id": "c4913777",
   "metadata": {},
   "source": [
    "nombre_infected       270\n",
    "nombre_sain          3392\n",
    "nombre_exposed        201\n",
    "nombre_recovered    16137\n",
    "Name: 132, dtype: int64"
   ]
  },
  {
   "cell_type": "markdown",
   "id": "d194265d",
   "metadata": {},
   "source": [
    "nombre_infected       291\n",
    "nombre_sain          3397\n",
    "nombre_exposed        204\n",
    "nombre_recovered    16108\n",
    "Name: 133, dtype: int64"
   ]
  },
  {
   "cell_type": "markdown",
   "id": "d3e59f64",
   "metadata": {},
   "source": [
    "nombre_infected       287\n",
    "nombre_sain          3406\n",
    "nombre_exposed        217\n",
    "nombre_recovered    16090\n",
    "Name: 134, dtype: int64"
   ]
  },
  {
   "cell_type": "markdown",
   "id": "9ffaf8f6",
   "metadata": {},
   "source": [
    "nombre_infected       316\n",
    "nombre_sain          3415\n",
    "nombre_exposed        215\n",
    "nombre_recovered    16054\n",
    "Name: 135, dtype: int64"
   ]
  },
  {
   "cell_type": "markdown",
   "id": "421d8961",
   "metadata": {},
   "source": [
    "nombre_infected       330\n",
    "nombre_sain          3416\n",
    "nombre_exposed        241\n",
    "nombre_recovered    16013\n",
    "Name: 136, dtype: int64"
   ]
  },
  {
   "cell_type": "markdown",
   "id": "132be0cb",
   "metadata": {},
   "source": [
    "nombre_infected       334\n",
    "nombre_sain          3420\n",
    "nombre_exposed        270\n",
    "nombre_recovered    15976\n",
    "Name: 137, dtype: int64"
   ]
  },
  {
   "cell_type": "markdown",
   "id": "046880f1",
   "metadata": {},
   "source": [
    "nombre_infected       348\n",
    "nombre_sain          3426\n",
    "nombre_exposed        280\n",
    "nombre_recovered    15946\n",
    "Name: 138, dtype: int64"
   ]
  },
  {
   "cell_type": "markdown",
   "id": "a35b91b4",
   "metadata": {},
   "source": [
    "nombre_infected       370\n",
    "nombre_sain          3424\n",
    "nombre_exposed        293\n",
    "nombre_recovered    15913\n",
    "Name: 139, dtype: int64"
   ]
  },
  {
   "cell_type": "markdown",
   "id": "ffb809f8",
   "metadata": {},
   "source": [
    "nombre_infected       391\n",
    "nombre_sain          3439\n",
    "nombre_exposed        289\n",
    "nombre_recovered    15881\n",
    "Name: 140, dtype: int64"
   ]
  },
  {
   "cell_type": "markdown",
   "id": "010672f0",
   "metadata": {},
   "source": [
    "nombre_infected       422\n",
    "nombre_sain          3429\n",
    "nombre_exposed        295\n",
    "nombre_recovered    15854\n",
    "Name: 141, dtype: int64"
   ]
  },
  {
   "cell_type": "markdown",
   "id": "2dd0e469",
   "metadata": {},
   "source": [
    "nombre_infected       449\n",
    "nombre_sain          3410\n",
    "nombre_exposed        316\n",
    "nombre_recovered    15825\n",
    "Name: 142, dtype: int64"
   ]
  },
  {
   "cell_type": "markdown",
   "id": "f690e5eb",
   "metadata": {},
   "source": [
    "nombre_infected       450\n",
    "nombre_sain          3367\n",
    "nombre_exposed        348\n",
    "nombre_recovered    15835\n",
    "Name: 143, dtype: int64"
   ]
  },
  {
   "cell_type": "markdown",
   "id": "d9577bc6",
   "metadata": {},
   "source": [
    "nombre_infected       463\n",
    "nombre_sain          3331\n",
    "nombre_exposed        372\n",
    "nombre_recovered    15834\n",
    "Name: 144, dtype: int64"
   ]
  },
  {
   "cell_type": "markdown",
   "id": "75fe7526",
   "metadata": {},
   "source": [
    "nombre_infected       495\n",
    "nombre_sain          3317\n",
    "nombre_exposed        370\n",
    "nombre_recovered    15818\n",
    "Name: 145, dtype: int64"
   ]
  },
  {
   "cell_type": "markdown",
   "id": "793cfe35",
   "metadata": {},
   "source": [
    "nombre_infected       505\n",
    "nombre_sain          3285\n",
    "nombre_exposed        392\n",
    "nombre_recovered    15818\n",
    "Name: 146, dtype: int64"
   ]
  },
  {
   "cell_type": "markdown",
   "id": "27d10cde",
   "metadata": {},
   "source": [
    "nombre_infected       535\n",
    "nombre_sain          3217\n",
    "nombre_exposed        442\n",
    "nombre_recovered    15806\n",
    "Name: 147, dtype: int64"
   ]
  },
  {
   "cell_type": "markdown",
   "id": "dc6861f7",
   "metadata": {},
   "source": [
    "nombre_infected       567\n",
    "nombre_sain          3178\n",
    "nombre_exposed        454\n",
    "nombre_recovered    15801\n",
    "Name: 148, dtype: int64"
   ]
  },
  {
   "cell_type": "markdown",
   "id": "5ba1672c",
   "metadata": {},
   "source": [
    "nombre_infected       601\n",
    "nombre_sain          3116\n",
    "nombre_exposed        487\n",
    "nombre_recovered    15796\n",
    "Name: 149, dtype: int64"
   ]
  },
  {
   "cell_type": "markdown",
   "id": "e86e7035",
   "metadata": {},
   "source": [
    "nombre_infected       627\n",
    "nombre_sain          3094\n",
    "nombre_exposed        479\n",
    "nombre_recovered    15800\n",
    "Name: 150, dtype: int64"
   ]
  },
  {
   "cell_type": "markdown",
   "id": "a4599e71",
   "metadata": {},
   "source": [
    "nombre_infected       654\n",
    "nombre_sain          3030\n",
    "nombre_exposed        500\n",
    "nombre_recovered    15816\n",
    "Name: 151, dtype: int64"
   ]
  },
  {
   "cell_type": "markdown",
   "id": "61f92da8",
   "metadata": {},
   "source": [
    "nombre_infected       673\n",
    "nombre_sain          2999\n",
    "nombre_exposed        503\n",
    "nombre_recovered    15825\n",
    "Name: 152, dtype: int64"
   ]
  },
  {
   "cell_type": "markdown",
   "id": "693844fa",
   "metadata": {},
   "source": [
    "nombre_infected       710\n",
    "nombre_sain          2956\n",
    "nombre_exposed        498\n",
    "nombre_recovered    15836\n",
    "Name: 153, dtype: int64"
   ]
  },
  {
   "cell_type": "markdown",
   "id": "ab1fe3c6",
   "metadata": {},
   "source": [
    "nombre_infected       756\n",
    "nombre_sain          2884\n",
    "nombre_exposed        509\n",
    "nombre_recovered    15851\n",
    "Name: 154, dtype: int64"
   ]
  },
  {
   "cell_type": "markdown",
   "id": "4ace4d74",
   "metadata": {},
   "source": [
    "nombre_infected       767\n",
    "nombre_sain          2836\n",
    "nombre_exposed        509\n",
    "nombre_recovered    15888\n",
    "Name: 155, dtype: int64"
   ]
  },
  {
   "cell_type": "markdown",
   "id": "7f82eb76",
   "metadata": {},
   "source": [
    "nombre_infected       768\n",
    "nombre_sain          2751\n",
    "nombre_exposed        534\n",
    "nombre_recovered    15947\n",
    "Name: 156, dtype: int64"
   ]
  },
  {
   "cell_type": "markdown",
   "id": "f3aa170b",
   "metadata": {},
   "source": [
    "nombre_infected       804\n",
    "nombre_sain          2674\n",
    "nombre_exposed        555\n",
    "nombre_recovered    15967\n",
    "Name: 157, dtype: int64"
   ]
  },
  {
   "cell_type": "markdown",
   "id": "6043ab91",
   "metadata": {},
   "source": [
    "nombre_infected       837\n",
    "nombre_sain          2609\n",
    "nombre_exposed        554\n",
    "nombre_recovered    16000\n",
    "Name: 158, dtype: int64"
   ]
  },
  {
   "cell_type": "markdown",
   "id": "061827a4",
   "metadata": {},
   "source": [
    "nombre_infected       884\n",
    "nombre_sain          2567\n",
    "nombre_exposed        529\n",
    "nombre_recovered    16020\n",
    "Name: 159, dtype: int64"
   ]
  },
  {
   "cell_type": "markdown",
   "id": "ca069ff7",
   "metadata": {},
   "source": [
    "nombre_infected       906\n",
    "nombre_sain          2529\n",
    "nombre_exposed        519\n",
    "nombre_recovered    16046\n",
    "Name: 160, dtype: int64"
   ]
  },
  {
   "cell_type": "markdown",
   "id": "3ab2b5d8",
   "metadata": {},
   "source": [
    "nombre_infected       924\n",
    "nombre_sain          2497\n",
    "nombre_exposed        512\n",
    "nombre_recovered    16067\n",
    "Name: 161, dtype: int64"
   ]
  },
  {
   "cell_type": "markdown",
   "id": "f40fce4e",
   "metadata": {},
   "source": [
    "nombre_infected       931\n",
    "nombre_sain          2445\n",
    "nombre_exposed        524\n",
    "nombre_recovered    16100\n",
    "Name: 162, dtype: int64"
   ]
  },
  {
   "cell_type": "markdown",
   "id": "8b9cf9a3",
   "metadata": {},
   "source": [
    "nombre_infected       924\n",
    "nombre_sain          2394\n",
    "nombre_exposed        541\n",
    "nombre_recovered    16141\n",
    "Name: 163, dtype: int64"
   ]
  },
  {
   "cell_type": "markdown",
   "id": "70e90f91",
   "metadata": {},
   "source": [
    "nombre_infected       918\n",
    "nombre_sain          2350\n",
    "nombre_exposed        527\n",
    "nombre_recovered    16205\n",
    "Name: 164, dtype: int64"
   ]
  },
  {
   "cell_type": "markdown",
   "id": "8ac4422d",
   "metadata": {},
   "source": [
    "nombre_infected       923\n",
    "nombre_sain          2316\n",
    "nombre_exposed        524\n",
    "nombre_recovered    16237\n",
    "Name: 165, dtype: int64"
   ]
  },
  {
   "cell_type": "markdown",
   "id": "7196dc0a",
   "metadata": {},
   "source": [
    "nombre_infected       953\n",
    "nombre_sain          2301\n",
    "nombre_exposed        502\n",
    "nombre_recovered    16244\n",
    "Name: 166, dtype: int64"
   ]
  },
  {
   "cell_type": "markdown",
   "id": "7e60d6dc",
   "metadata": {},
   "source": [
    "nombre_infected       970\n",
    "nombre_sain          2279\n",
    "nombre_exposed        488\n",
    "nombre_recovered    16263\n",
    "Name: 167, dtype: int64"
   ]
  },
  {
   "cell_type": "markdown",
   "id": "7afc1fed",
   "metadata": {},
   "source": [
    "nombre_infected       952\n",
    "nombre_sain          2232\n",
    "nombre_exposed        505\n",
    "nombre_recovered    16311\n",
    "Name: 168, dtype: int64"
   ]
  },
  {
   "cell_type": "markdown",
   "id": "95881097",
   "metadata": {},
   "source": [
    "nombre_infected       982\n",
    "nombre_sain          2199\n",
    "nombre_exposed        497\n",
    "nombre_recovered    16322\n",
    "Name: 169, dtype: int64"
   ]
  },
  {
   "cell_type": "markdown",
   "id": "887cc802",
   "metadata": {},
   "source": [
    "nombre_infected       999\n",
    "nombre_sain          2158\n",
    "nombre_exposed        497\n",
    "nombre_recovered    16346\n",
    "Name: 170, dtype: int64"
   ]
  },
  {
   "cell_type": "markdown",
   "id": "f6282b66",
   "metadata": {},
   "source": [
    "nombre_infected       980\n",
    "nombre_sain          2125\n",
    "nombre_exposed        501\n",
    "nombre_recovered    16394\n",
    "Name: 171, dtype: int64"
   ]
  },
  {
   "cell_type": "markdown",
   "id": "130b0fac",
   "metadata": {},
   "source": [
    "nombre_infected       997\n",
    "nombre_sain          2090\n",
    "nombre_exposed        486\n",
    "nombre_recovered    16427\n",
    "Name: 172, dtype: int64"
   ]
  },
  {
   "cell_type": "markdown",
   "id": "c66e455f",
   "metadata": {},
   "source": [
    "nombre_infected       989\n",
    "nombre_sain          2059\n",
    "nombre_exposed        504\n",
    "nombre_recovered    16448\n",
    "Name: 173, dtype: int64"
   ]
  },
  {
   "cell_type": "markdown",
   "id": "89570d2c",
   "metadata": {},
   "source": [
    "nombre_infected       979\n",
    "nombre_sain          2042\n",
    "nombre_exposed        491\n",
    "nombre_recovered    16488\n",
    "Name: 174, dtype: int64"
   ]
  },
  {
   "cell_type": "markdown",
   "id": "c3f78b9c",
   "metadata": {},
   "source": [
    "nombre_infected       945\n",
    "nombre_sain          2011\n",
    "nombre_exposed        476\n",
    "nombre_recovered    16568\n",
    "Name: 175, dtype: int64"
   ]
  },
  {
   "cell_type": "markdown",
   "id": "2470c901",
   "metadata": {},
   "source": [
    "nombre_infected       935\n",
    "nombre_sain          1984\n",
    "nombre_exposed        476\n",
    "nombre_recovered    16605\n",
    "Name: 176, dtype: int64"
   ]
  },
  {
   "cell_type": "markdown",
   "id": "d62dfae9",
   "metadata": {},
   "source": [
    "nombre_infected       925\n",
    "nombre_sain          1992\n",
    "nombre_exposed        453\n",
    "nombre_recovered    16630\n",
    "Name: 177, dtype: int64"
   ]
  },
  {
   "cell_type": "markdown",
   "id": "78368ae9",
   "metadata": {},
   "source": [
    "nombre_infected       919\n",
    "nombre_sain          1949\n",
    "nombre_exposed        449\n",
    "nombre_recovered    16683\n",
    "Name: 178, dtype: int64"
   ]
  },
  {
   "cell_type": "markdown",
   "id": "9c17f0e5",
   "metadata": {},
   "source": [
    "nombre_infected       907\n",
    "nombre_sain          1977\n",
    "nombre_exposed        420\n",
    "nombre_recovered    16696\n",
    "Name: 179, dtype: int64"
   ]
  },
  {
   "cell_type": "markdown",
   "id": "17e02027",
   "metadata": {},
   "source": [
    "nombre_infected       926\n",
    "nombre_sain          1975\n",
    "nombre_exposed        393\n",
    "nombre_recovered    16706\n",
    "Name: 180, dtype: int64"
   ]
  },
  {
   "cell_type": "markdown",
   "id": "a682c1d6",
   "metadata": {},
   "source": [
    "nombre_infected       932\n",
    "nombre_sain          1920\n",
    "nombre_exposed        398\n",
    "nombre_recovered    16750\n",
    "Name: 181, dtype: int64"
   ]
  },
  {
   "cell_type": "markdown",
   "id": "b2f92562",
   "metadata": {},
   "source": [
    "nombre_infected       901\n",
    "nombre_sain          1907\n",
    "nombre_exposed        398\n",
    "nombre_recovered    16794\n",
    "Name: 182, dtype: int64"
   ]
  },
  {
   "cell_type": "markdown",
   "id": "ac3577a4",
   "metadata": {},
   "source": [
    "nombre_infected       897\n",
    "nombre_sain          1903\n",
    "nombre_exposed        362\n",
    "nombre_recovered    16838\n",
    "Name: 183, dtype: int64"
   ]
  },
  {
   "cell_type": "markdown",
   "id": "bb009241",
   "metadata": {},
   "source": [
    "nombre_infected       873\n",
    "nombre_sain          1870\n",
    "nombre_exposed        388\n",
    "nombre_recovered    16869\n",
    "Name: 184, dtype: int64"
   ]
  },
  {
   "cell_type": "markdown",
   "id": "d0ea37cc",
   "metadata": {},
   "source": [
    "nombre_infected       865\n",
    "nombre_sain          1867\n",
    "nombre_exposed        380\n",
    "nombre_recovered    16888\n",
    "Name: 185, dtype: int64"
   ]
  },
  {
   "cell_type": "markdown",
   "id": "b8d0f742",
   "metadata": {},
   "source": [
    "nombre_infected       850\n",
    "nombre_sain          1876\n",
    "nombre_exposed        368\n",
    "nombre_recovered    16906\n",
    "Name: 186, dtype: int64"
   ]
  },
  {
   "cell_type": "markdown",
   "id": "ad3bbd6f",
   "metadata": {},
   "source": [
    "nombre_infected       848\n",
    "nombre_sain          1853\n",
    "nombre_exposed        364\n",
    "nombre_recovered    16935\n",
    "Name: 187, dtype: int64"
   ]
  },
  {
   "cell_type": "markdown",
   "id": "f8645d0b",
   "metadata": {},
   "source": [
    "nombre_infected       816\n",
    "nombre_sain          1859\n",
    "nombre_exposed        363\n",
    "nombre_recovered    16962\n",
    "Name: 188, dtype: int64"
   ]
  },
  {
   "cell_type": "markdown",
   "id": "a5a6d22d",
   "metadata": {},
   "source": [
    "nombre_infected       827\n",
    "nombre_sain          1846\n",
    "nombre_exposed        353\n",
    "nombre_recovered    16974\n",
    "Name: 189, dtype: int64"
   ]
  },
  {
   "cell_type": "markdown",
   "id": "cd48a8c3",
   "metadata": {},
   "source": [
    "nombre_infected       821\n",
    "nombre_sain          1829\n",
    "nombre_exposed        360\n",
    "nombre_recovered    16990\n",
    "Name: 190, dtype: int64"
   ]
  },
  {
   "cell_type": "markdown",
   "id": "0321df3c",
   "metadata": {},
   "source": [
    "nombre_infected       824\n",
    "nombre_sain          1802\n",
    "nombre_exposed        355\n",
    "nombre_recovered    17019\n",
    "Name: 191, dtype: int64"
   ]
  },
  {
   "cell_type": "markdown",
   "id": "75cb68f8",
   "metadata": {},
   "source": [
    "nombre_infected       807\n",
    "nombre_sain          1801\n",
    "nombre_exposed        350\n",
    "nombre_recovered    17042\n",
    "Name: 192, dtype: int64"
   ]
  },
  {
   "cell_type": "markdown",
   "id": "0465be43",
   "metadata": {},
   "source": [
    "nombre_infected       801\n",
    "nombre_sain          1785\n",
    "nombre_exposed        353\n",
    "nombre_recovered    17061\n",
    "Name: 193, dtype: int64"
   ]
  },
  {
   "cell_type": "markdown",
   "id": "3566047f",
   "metadata": {},
   "source": [
    "nombre_infected       779\n",
    "nombre_sain          1788\n",
    "nombre_exposed        336\n",
    "nombre_recovered    17097\n",
    "Name: 194, dtype: int64"
   ]
  },
  {
   "cell_type": "markdown",
   "id": "43a5b667",
   "metadata": {},
   "source": [
    "nombre_infected       746\n",
    "nombre_sain          1794\n",
    "nombre_exposed        335\n",
    "nombre_recovered    17125\n",
    "Name: 195, dtype: int64"
   ]
  },
  {
   "cell_type": "markdown",
   "id": "b5e6e604",
   "metadata": {},
   "source": [
    "nombre_infected       734\n",
    "nombre_sain          1791\n",
    "nombre_exposed        319\n",
    "nombre_recovered    17156\n",
    "Name: 196, dtype: int64"
   ]
  },
  {
   "cell_type": "markdown",
   "id": "fbcb0597",
   "metadata": {},
   "source": [
    "nombre_infected       727\n",
    "nombre_sain          1772\n",
    "nombre_exposed        327\n",
    "nombre_recovered    17174\n",
    "Name: 197, dtype: int64"
   ]
  },
  {
   "cell_type": "markdown",
   "id": "b8a6f6bf",
   "metadata": {},
   "source": [
    "nombre_infected       702\n",
    "nombre_sain          1763\n",
    "nombre_exposed        326\n",
    "nombre_recovered    17209\n",
    "Name: 198, dtype: int64"
   ]
  },
  {
   "cell_type": "markdown",
   "id": "2cd806e5",
   "metadata": {},
   "source": [
    "nombre_infected       697\n",
    "nombre_sain          1777\n",
    "nombre_exposed        300\n",
    "nombre_recovered    17226\n",
    "Name: 199, dtype: int64"
   ]
  },
  {
   "cell_type": "markdown",
   "id": "ce761565",
   "metadata": {},
   "source": [
    "nombre_infected       657\n",
    "nombre_sain          1798\n",
    "nombre_exposed        288\n",
    "nombre_recovered    17257\n",
    "Name: 200, dtype: int64"
   ]
  },
  {
   "cell_type": "markdown",
   "id": "e87ddde1",
   "metadata": {},
   "source": [
    "nombre_infected       637\n",
    "nombre_sain          1801\n",
    "nombre_exposed        308\n",
    "nombre_recovered    17254\n",
    "Name: 201, dtype: int64"
   ]
  },
  {
   "cell_type": "markdown",
   "id": "6fc4f977",
   "metadata": {},
   "source": [
    "nombre_infected       641\n",
    "nombre_sain          1823\n",
    "nombre_exposed        315\n",
    "nombre_recovered    17221\n",
    "Name: 202, dtype: int64"
   ]
  },
  {
   "cell_type": "markdown",
   "id": "a5caaedb",
   "metadata": {},
   "source": [
    "nombre_infected       647\n",
    "nombre_sain          1831\n",
    "nombre_exposed        295\n",
    "nombre_recovered    17227\n",
    "Name: 203, dtype: int64"
   ]
  },
  {
   "cell_type": "markdown",
   "id": "d1c30d64",
   "metadata": {},
   "source": [
    "nombre_infected       642\n",
    "nombre_sain          1845\n",
    "nombre_exposed        295\n",
    "nombre_recovered    17218\n",
    "Name: 204, dtype: int64"
   ]
  },
  {
   "cell_type": "markdown",
   "id": "dc5ae906",
   "metadata": {},
   "source": [
    "nombre_infected       631\n",
    "nombre_sain          1846\n",
    "nombre_exposed        316\n",
    "nombre_recovered    17207\n",
    "Name: 205, dtype: int64"
   ]
  },
  {
   "cell_type": "markdown",
   "id": "0a6348f4",
   "metadata": {},
   "source": [
    "nombre_infected       632\n",
    "nombre_sain          1907\n",
    "nombre_exposed        290\n",
    "nombre_recovered    17171\n",
    "Name: 206, dtype: int64"
   ]
  },
  {
   "cell_type": "markdown",
   "id": "91e3e169",
   "metadata": {},
   "source": [
    "nombre_infected       617\n",
    "nombre_sain          1952\n",
    "nombre_exposed        287\n",
    "nombre_recovered    17144\n",
    "Name: 207, dtype: int64"
   ]
  },
  {
   "cell_type": "markdown",
   "id": "14e18eab",
   "metadata": {},
   "source": [
    "nombre_infected       624\n",
    "nombre_sain          2000\n",
    "nombre_exposed        264\n",
    "nombre_recovered    17112\n",
    "Name: 208, dtype: int64"
   ]
  },
  {
   "cell_type": "markdown",
   "id": "e4a3868d",
   "metadata": {},
   "source": [
    "nombre_infected       611\n",
    "nombre_sain          2037\n",
    "nombre_exposed        279\n",
    "nombre_recovered    17073\n",
    "Name: 209, dtype: int64"
   ]
  },
  {
   "cell_type": "markdown",
   "id": "31b6ffe7",
   "metadata": {},
   "source": [
    "nombre_infected       599\n",
    "nombre_sain          2047\n",
    "nombre_exposed        298\n",
    "nombre_recovered    17056\n",
    "Name: 210, dtype: int64"
   ]
  },
  {
   "cell_type": "markdown",
   "id": "1d0529ec",
   "metadata": {},
   "source": [
    "nombre_infected       588\n",
    "nombre_sain          2101\n",
    "nombre_exposed        300\n",
    "nombre_recovered    17011\n",
    "Name: 211, dtype: int64"
   ]
  },
  {
   "cell_type": "markdown",
   "id": "2fa393d7",
   "metadata": {},
   "source": [
    "nombre_infected       591\n",
    "nombre_sain          2123\n",
    "nombre_exposed        319\n",
    "nombre_recovered    16967\n",
    "Name: 212, dtype: int64"
   ]
  },
  {
   "cell_type": "markdown",
   "id": "f8c773b0",
   "metadata": {},
   "source": [
    "nombre_infected       605\n",
    "nombre_sain          2166\n",
    "nombre_exposed        316\n",
    "nombre_recovered    16913\n",
    "Name: 213, dtype: int64"
   ]
  },
  {
   "cell_type": "markdown",
   "id": "297bb004",
   "metadata": {},
   "source": [
    "nombre_infected       624\n",
    "nombre_sain          2201\n",
    "nombre_exposed        294\n",
    "nombre_recovered    16881\n",
    "Name: 214, dtype: int64"
   ]
  },
  {
   "cell_type": "markdown",
   "id": "9198c4c7",
   "metadata": {},
   "source": [
    "nombre_infected       643\n",
    "nombre_sain          2225\n",
    "nombre_exposed        287\n",
    "nombre_recovered    16845\n",
    "Name: 215, dtype: int64"
   ]
  },
  {
   "cell_type": "markdown",
   "id": "32bf87d0",
   "metadata": {},
   "source": [
    "nombre_infected       643\n",
    "nombre_sain          2256\n",
    "nombre_exposed        290\n",
    "nombre_recovered    16811\n",
    "Name: 216, dtype: int64"
   ]
  },
  {
   "cell_type": "markdown",
   "id": "1888e11d",
   "metadata": {},
   "source": [
    "nombre_infected       637\n",
    "nombre_sain          2296\n",
    "nombre_exposed        289\n",
    "nombre_recovered    16778\n",
    "Name: 217, dtype: int64"
   ]
  },
  {
   "cell_type": "markdown",
   "id": "6967e7b1",
   "metadata": {},
   "source": [
    "nombre_infected       641\n",
    "nombre_sain          2307\n",
    "nombre_exposed        290\n",
    "nombre_recovered    16762\n",
    "Name: 218, dtype: int64"
   ]
  },
  {
   "cell_type": "markdown",
   "id": "260b4123",
   "metadata": {},
   "source": [
    "nombre_infected       634\n",
    "nombre_sain          2310\n",
    "nombre_exposed        304\n",
    "nombre_recovered    16752\n",
    "Name: 219, dtype: int64"
   ]
  },
  {
   "cell_type": "markdown",
   "id": "7d1aa8a9",
   "metadata": {},
   "source": [
    "nombre_infected       651\n",
    "nombre_sain          2333\n",
    "nombre_exposed        290\n",
    "nombre_recovered    16726\n",
    "Name: 220, dtype: int64"
   ]
  },
  {
   "cell_type": "markdown",
   "id": "7929fec7",
   "metadata": {},
   "source": [
    "nombre_infected       664\n",
    "nombre_sain          2343\n",
    "nombre_exposed        313\n",
    "nombre_recovered    16680\n",
    "Name: 221, dtype: int64"
   ]
  },
  {
   "cell_type": "markdown",
   "id": "64ab1a9f",
   "metadata": {},
   "source": [
    "nombre_infected       643\n",
    "nombre_sain          2344\n",
    "nombre_exposed        353\n",
    "nombre_recovered    16660\n",
    "Name: 222, dtype: int64"
   ]
  },
  {
   "cell_type": "markdown",
   "id": "104307fc",
   "metadata": {},
   "source": [
    "nombre_infected       634\n",
    "nombre_sain          2365\n",
    "nombre_exposed        350\n",
    "nombre_recovered    16651\n",
    "Name: 223, dtype: int64"
   ]
  },
  {
   "cell_type": "markdown",
   "id": "de6ace84",
   "metadata": {},
   "source": [
    "nombre_infected       648\n",
    "nombre_sain          2361\n",
    "nombre_exposed        359\n",
    "nombre_recovered    16632\n",
    "Name: 224, dtype: int64"
   ]
  },
  {
   "cell_type": "markdown",
   "id": "ad87697f",
   "metadata": {},
   "source": [
    "nombre_infected       675\n",
    "nombre_sain          2362\n",
    "nombre_exposed        353\n",
    "nombre_recovered    16610\n",
    "Name: 225, dtype: int64"
   ]
  },
  {
   "cell_type": "markdown",
   "id": "7c4ab3c7",
   "metadata": {},
   "source": [
    "nombre_infected       656\n",
    "nombre_sain          2373\n",
    "nombre_exposed        360\n",
    "nombre_recovered    16611\n",
    "Name: 226, dtype: int64"
   ]
  },
  {
   "cell_type": "markdown",
   "id": "b060cfec",
   "metadata": {},
   "source": [
    "nombre_infected       668\n",
    "nombre_sain          2384\n",
    "nombre_exposed        359\n",
    "nombre_recovered    16589\n",
    "Name: 227, dtype: int64"
   ]
  },
  {
   "cell_type": "markdown",
   "id": "e658df6a",
   "metadata": {},
   "source": [
    "nombre_infected       675\n",
    "nombre_sain          2388\n",
    "nombre_exposed        365\n",
    "nombre_recovered    16572\n",
    "Name: 228, dtype: int64"
   ]
  },
  {
   "cell_type": "markdown",
   "id": "0840d53d",
   "metadata": {},
   "source": [
    "nombre_infected       672\n",
    "nombre_sain          2395\n",
    "nombre_exposed        394\n",
    "nombre_recovered    16539\n",
    "Name: 229, dtype: int64"
   ]
  },
  {
   "cell_type": "markdown",
   "id": "a6c64eb4",
   "metadata": {},
   "source": [
    "nombre_infected       676\n",
    "nombre_sain          2396\n",
    "nombre_exposed        395\n",
    "nombre_recovered    16533\n",
    "Name: 230, dtype: int64"
   ]
  },
  {
   "cell_type": "markdown",
   "id": "95d51c2b",
   "metadata": {},
   "source": [
    "nombre_infected       682\n",
    "nombre_sain          2429\n",
    "nombre_exposed        392\n",
    "nombre_recovered    16497\n",
    "Name: 231, dtype: int64"
   ]
  },
  {
   "cell_type": "markdown",
   "id": "1424166d",
   "metadata": {},
   "source": [
    "nombre_infected       690\n",
    "nombre_sain          2425\n",
    "nombre_exposed        396\n",
    "nombre_recovered    16489\n",
    "Name: 232, dtype: int64"
   ]
  },
  {
   "cell_type": "markdown",
   "id": "940a9782",
   "metadata": {},
   "source": [
    "nombre_infected       702\n",
    "nombre_sain          2438\n",
    "nombre_exposed        385\n",
    "nombre_recovered    16475\n",
    "Name: 233, dtype: int64"
   ]
  },
  {
   "cell_type": "markdown",
   "id": "edf66609",
   "metadata": {},
   "source": [
    "nombre_infected       703\n",
    "nombre_sain          2444\n",
    "nombre_exposed        386\n",
    "nombre_recovered    16467\n",
    "Name: 234, dtype: int64"
   ]
  },
  {
   "cell_type": "markdown",
   "id": "537a1317",
   "metadata": {},
   "source": [
    "nombre_infected       710\n",
    "nombre_sain          2439\n",
    "nombre_exposed        393\n",
    "nombre_recovered    16458\n",
    "Name: 235, dtype: int64"
   ]
  },
  {
   "cell_type": "markdown",
   "id": "e58e4c3f",
   "metadata": {},
   "source": [
    "nombre_infected       724\n",
    "nombre_sain          2446\n",
    "nombre_exposed        404\n",
    "nombre_recovered    16426\n",
    "Name: 236, dtype: int64"
   ]
  },
  {
   "cell_type": "markdown",
   "id": "48965806",
   "metadata": {},
   "source": [
    "nombre_infected       745\n",
    "nombre_sain          2454\n",
    "nombre_exposed        403\n",
    "nombre_recovered    16398\n",
    "Name: 237, dtype: int64"
   ]
  },
  {
   "cell_type": "markdown",
   "id": "ea0f1e7b",
   "metadata": {},
   "source": [
    "nombre_infected       760\n",
    "nombre_sain          2446\n",
    "nombre_exposed        404\n",
    "nombre_recovered    16390\n",
    "Name: 238, dtype: int64"
   ]
  },
  {
   "cell_type": "markdown",
   "id": "e78dc547",
   "metadata": {},
   "source": [
    "nombre_infected       790\n",
    "nombre_sain          2420\n",
    "nombre_exposed        397\n",
    "nombre_recovered    16393\n",
    "Name: 239, dtype: int64"
   ]
  },
  {
   "cell_type": "markdown",
   "id": "996e009e",
   "metadata": {},
   "source": [
    "nombre_infected       800\n",
    "nombre_sain          2423\n",
    "nombre_exposed        388\n",
    "nombre_recovered    16389\n",
    "Name: 240, dtype: int64"
   ]
  },
  {
   "cell_type": "markdown",
   "id": "e5d9579e",
   "metadata": {},
   "source": [
    "nombre_infected       823\n",
    "nombre_sain          2394\n",
    "nombre_exposed        402\n",
    "nombre_recovered    16381\n",
    "Name: 241, dtype: int64"
   ]
  },
  {
   "cell_type": "markdown",
   "id": "a3499efa",
   "metadata": {},
   "source": [
    "nombre_infected       811\n",
    "nombre_sain          2384\n",
    "nombre_exposed        405\n",
    "nombre_recovered    16400\n",
    "Name: 242, dtype: int64"
   ]
  },
  {
   "cell_type": "markdown",
   "id": "2ea48462",
   "metadata": {},
   "source": [
    "nombre_infected       825\n",
    "nombre_sain          2382\n",
    "nombre_exposed        419\n",
    "nombre_recovered    16374\n",
    "Name: 243, dtype: int64"
   ]
  },
  {
   "cell_type": "markdown",
   "id": "37b571a4",
   "metadata": {},
   "source": [
    "nombre_infected       847\n",
    "nombre_sain          2387\n",
    "nombre_exposed        396\n",
    "nombre_recovered    16370\n",
    "Name: 244, dtype: int64"
   ]
  },
  {
   "cell_type": "markdown",
   "id": "dc644cfc",
   "metadata": {},
   "source": [
    "nombre_infected       827\n",
    "nombre_sain          2385\n",
    "nombre_exposed        412\n",
    "nombre_recovered    16376\n",
    "Name: 245, dtype: int64"
   ]
  },
  {
   "cell_type": "markdown",
   "id": "51d84546",
   "metadata": {},
   "source": [
    "nombre_infected       817\n",
    "nombre_sain          2391\n",
    "nombre_exposed        407\n",
    "nombre_recovered    16385\n",
    "Name: 246, dtype: int64"
   ]
  },
  {
   "cell_type": "markdown",
   "id": "2a470c13",
   "metadata": {},
   "source": [
    "nombre_infected       824\n",
    "nombre_sain          2373\n",
    "nombre_exposed        409\n",
    "nombre_recovered    16394\n",
    "Name: 247, dtype: int64"
   ]
  },
  {
   "cell_type": "markdown",
   "id": "12072f6e",
   "metadata": {},
   "source": [
    "nombre_infected       814\n",
    "nombre_sain          2360\n",
    "nombre_exposed        425\n",
    "nombre_recovered    16401\n",
    "Name: 248, dtype: int64"
   ]
  },
  {
   "cell_type": "markdown",
   "id": "ea0f2567",
   "metadata": {},
   "source": [
    "nombre_infected       843\n",
    "nombre_sain          2362\n",
    "nombre_exposed        426\n",
    "nombre_recovered    16369\n",
    "Name: 249, dtype: int64"
   ]
  },
  {
   "cell_type": "markdown",
   "id": "7968b03e",
   "metadata": {},
   "source": [
    "nombre_infected       850\n",
    "nombre_sain          2362\n",
    "nombre_exposed        439\n",
    "nombre_recovered    16349\n",
    "Name: 250, dtype: int64"
   ]
  },
  {
   "cell_type": "markdown",
   "id": "f315f12c",
   "metadata": {},
   "source": [
    "nombre_infected       847\n",
    "nombre_sain          2330\n",
    "nombre_exposed        447\n",
    "nombre_recovered    16376\n",
    "Name: 251, dtype: int64"
   ]
  },
  {
   "cell_type": "markdown",
   "id": "c3cb1383",
   "metadata": {},
   "source": [
    "nombre_infected       849\n",
    "nombre_sain          2304\n",
    "nombre_exposed        476\n",
    "nombre_recovered    16371\n",
    "Name: 252, dtype: int64"
   ]
  },
  {
   "cell_type": "markdown",
   "id": "ff8da9c3",
   "metadata": {},
   "source": [
    "nombre_infected       860\n",
    "nombre_sain          2283\n",
    "nombre_exposed        477\n",
    "nombre_recovered    16380\n",
    "Name: 253, dtype: int64"
   ]
  },
  {
   "cell_type": "markdown",
   "id": "05cf55a7",
   "metadata": {},
   "source": [
    "nombre_infected       867\n",
    "nombre_sain          2240\n",
    "nombre_exposed        501\n",
    "nombre_recovered    16392\n",
    "Name: 254, dtype: int64"
   ]
  },
  {
   "cell_type": "markdown",
   "id": "47b7f4ac",
   "metadata": {},
   "source": [
    "nombre_infected       881\n",
    "nombre_sain          2236\n",
    "nombre_exposed        499\n",
    "nombre_recovered    16384\n",
    "Name: 255, dtype: int64"
   ]
  },
  {
   "cell_type": "markdown",
   "id": "3554b179",
   "metadata": {},
   "source": [
    "nombre_infected       905\n",
    "nombre_sain          2221\n",
    "nombre_exposed        467\n",
    "nombre_recovered    16407\n",
    "Name: 256, dtype: int64"
   ]
  },
  {
   "cell_type": "markdown",
   "id": "e377611e",
   "metadata": {},
   "source": [
    "nombre_infected       914\n",
    "nombre_sain          2203\n",
    "nombre_exposed        468\n",
    "nombre_recovered    16415\n",
    "Name: 257, dtype: int64"
   ]
  },
  {
   "cell_type": "markdown",
   "id": "c2e6a66c",
   "metadata": {},
   "source": [
    "nombre_infected       889\n",
    "nombre_sain          2159\n",
    "nombre_exposed        494\n",
    "nombre_recovered    16458\n",
    "Name: 258, dtype: int64"
   ]
  },
  {
   "cell_type": "markdown",
   "id": "991cc52d",
   "metadata": {},
   "source": [
    "nombre_infected       904\n",
    "nombre_sain          2151\n",
    "nombre_exposed        477\n",
    "nombre_recovered    16468\n",
    "Name: 259, dtype: int64"
   ]
  },
  {
   "cell_type": "markdown",
   "id": "4a1d8f1e",
   "metadata": {},
   "source": [
    "nombre_infected       917\n",
    "nombre_sain          2136\n",
    "nombre_exposed        463\n",
    "nombre_recovered    16484\n",
    "Name: 260, dtype: int64"
   ]
  },
  {
   "cell_type": "markdown",
   "id": "0b348298",
   "metadata": {},
   "source": [
    "nombre_infected       918\n",
    "nombre_sain          2135\n",
    "nombre_exposed        454\n",
    "nombre_recovered    16493\n",
    "Name: 261, dtype: int64"
   ]
  },
  {
   "cell_type": "markdown",
   "id": "4d5bd9f5",
   "metadata": {},
   "source": [
    "nombre_infected       938\n",
    "nombre_sain          2116\n",
    "nombre_exposed        438\n",
    "nombre_recovered    16508\n",
    "Name: 262, dtype: int64"
   ]
  },
  {
   "cell_type": "markdown",
   "id": "6621ef54",
   "metadata": {},
   "source": [
    "nombre_infected       915\n",
    "nombre_sain          2109\n",
    "nombre_exposed        446\n",
    "nombre_recovered    16530\n",
    "Name: 263, dtype: int64"
   ]
  },
  {
   "cell_type": "markdown",
   "id": "534ff2c0",
   "metadata": {},
   "source": [
    "nombre_infected       889\n",
    "nombre_sain          2118\n",
    "nombre_exposed        476\n",
    "nombre_recovered    16517\n",
    "Name: 264, dtype: int64"
   ]
  },
  {
   "cell_type": "markdown",
   "id": "f70e4a13",
   "metadata": {},
   "source": [
    "nombre_infected       910\n",
    "nombre_sain          2132\n",
    "nombre_exposed        480\n",
    "nombre_recovered    16478\n",
    "Name: 265, dtype: int64"
   ]
  },
  {
   "cell_type": "markdown",
   "id": "0cb92a19",
   "metadata": {},
   "source": [
    "nombre_infected       900\n",
    "nombre_sain          2139\n",
    "nombre_exposed        473\n",
    "nombre_recovered    16488\n",
    "Name: 266, dtype: int64"
   ]
  },
  {
   "cell_type": "markdown",
   "id": "9667a3cf",
   "metadata": {},
   "source": [
    "nombre_infected       898\n",
    "nombre_sain          2132\n",
    "nombre_exposed        478\n",
    "nombre_recovered    16492\n",
    "Name: 267, dtype: int64"
   ]
  },
  {
   "cell_type": "markdown",
   "id": "2c95059e",
   "metadata": {},
   "source": [
    "nombre_infected       886\n",
    "nombre_sain          2113\n",
    "nombre_exposed        511\n",
    "nombre_recovered    16490\n",
    "Name: 268, dtype: int64"
   ]
  },
  {
   "cell_type": "markdown",
   "id": "7934f891",
   "metadata": {},
   "source": [
    "nombre_infected       862\n",
    "nombre_sain          2146\n",
    "nombre_exposed        493\n",
    "nombre_recovered    16499\n",
    "Name: 269, dtype: int64"
   ]
  },
  {
   "cell_type": "markdown",
   "id": "cc191371",
   "metadata": {},
   "source": [
    "nombre_infected       861\n",
    "nombre_sain          2161\n",
    "nombre_exposed        473\n",
    "nombre_recovered    16505\n",
    "Name: 270, dtype: int64"
   ]
  },
  {
   "cell_type": "markdown",
   "id": "843ec167",
   "metadata": {},
   "source": [
    "nombre_infected       841\n",
    "nombre_sain          2161\n",
    "nombre_exposed        485\n",
    "nombre_recovered    16513\n",
    "Name: 271, dtype: int64"
   ]
  },
  {
   "cell_type": "markdown",
   "id": "61945e22",
   "metadata": {},
   "source": [
    "nombre_infected       829\n",
    "nombre_sain          2167\n",
    "nombre_exposed        501\n",
    "nombre_recovered    16503\n",
    "Name: 272, dtype: int64"
   ]
  },
  {
   "cell_type": "markdown",
   "id": "0b0366cc",
   "metadata": {},
   "source": [
    "nombre_infected       833\n",
    "nombre_sain          2207\n",
    "nombre_exposed        486\n",
    "nombre_recovered    16474\n",
    "Name: 273, dtype: int64"
   ]
  },
  {
   "cell_type": "markdown",
   "id": "c14ad33b",
   "metadata": {},
   "source": [
    "nombre_infected       851\n",
    "nombre_sain          2210\n",
    "nombre_exposed        484\n",
    "nombre_recovered    16455\n",
    "Name: 274, dtype: int64"
   ]
  },
  {
   "cell_type": "markdown",
   "id": "572e8147",
   "metadata": {},
   "source": [
    "nombre_infected       852\n",
    "nombre_sain          2211\n",
    "nombre_exposed        474\n",
    "nombre_recovered    16463\n",
    "Name: 275, dtype: int64"
   ]
  },
  {
   "cell_type": "markdown",
   "id": "8e9dcd2e",
   "metadata": {},
   "source": [
    "nombre_infected       831\n",
    "nombre_sain          2247\n",
    "nombre_exposed        471\n",
    "nombre_recovered    16451\n",
    "Name: 276, dtype: int64"
   ]
  },
  {
   "cell_type": "markdown",
   "id": "a8d0f959",
   "metadata": {},
   "source": [
    "nombre_infected       829\n",
    "nombre_sain          2263\n",
    "nombre_exposed        473\n",
    "nombre_recovered    16435\n",
    "Name: 277, dtype: int64"
   ]
  },
  {
   "cell_type": "markdown",
   "id": "6b2d9817",
   "metadata": {},
   "source": [
    "nombre_infected       812\n",
    "nombre_sain          2270\n",
    "nombre_exposed        481\n",
    "nombre_recovered    16437\n",
    "Name: 278, dtype: int64"
   ]
  },
  {
   "cell_type": "markdown",
   "id": "a6fb0f89",
   "metadata": {},
   "source": [
    "nombre_infected       792\n",
    "nombre_sain          2294\n",
    "nombre_exposed        495\n",
    "nombre_recovered    16419\n",
    "Name: 279, dtype: int64"
   ]
  },
  {
   "cell_type": "markdown",
   "id": "099d8f00",
   "metadata": {},
   "source": [
    "nombre_infected       784\n",
    "nombre_sain          2285\n",
    "nombre_exposed        494\n",
    "nombre_recovered    16437\n",
    "Name: 280, dtype: int64"
   ]
  },
  {
   "cell_type": "markdown",
   "id": "5eb3fcc1",
   "metadata": {},
   "source": [
    "nombre_infected       771\n",
    "nombre_sain          2259\n",
    "nombre_exposed        508\n",
    "nombre_recovered    16462\n",
    "Name: 281, dtype: int64"
   ]
  },
  {
   "cell_type": "markdown",
   "id": "a94daba2",
   "metadata": {},
   "source": [
    "nombre_infected       789\n",
    "nombre_sain          2266\n",
    "nombre_exposed        484\n",
    "nombre_recovered    16461\n",
    "Name: 282, dtype: int64"
   ]
  },
  {
   "cell_type": "markdown",
   "id": "09c6aeb4",
   "metadata": {},
   "source": [
    "nombre_infected       798\n",
    "nombre_sain          2259\n",
    "nombre_exposed        476\n",
    "nombre_recovered    16467\n",
    "Name: 283, dtype: int64"
   ]
  },
  {
   "cell_type": "markdown",
   "id": "98153192",
   "metadata": {},
   "source": [
    "nombre_infected       795\n",
    "nombre_sain          2275\n",
    "nombre_exposed        478\n",
    "nombre_recovered    16452\n",
    "Name: 284, dtype: int64"
   ]
  },
  {
   "cell_type": "markdown",
   "id": "8c6721ab",
   "metadata": {},
   "source": [
    "nombre_infected       798\n",
    "nombre_sain          2281\n",
    "nombre_exposed        513\n",
    "nombre_recovered    16408\n",
    "Name: 285, dtype: int64"
   ]
  },
  {
   "cell_type": "markdown",
   "id": "dbb34e8f",
   "metadata": {},
   "source": [
    "nombre_infected       814\n",
    "nombre_sain          2288\n",
    "nombre_exposed        512\n",
    "nombre_recovered    16386\n",
    "Name: 286, dtype: int64"
   ]
  },
  {
   "cell_type": "markdown",
   "id": "bf9a13f3",
   "metadata": {},
   "source": [
    "nombre_infected       819\n",
    "nombre_sain          2284\n",
    "nombre_exposed        488\n",
    "nombre_recovered    16409\n",
    "Name: 287, dtype: int64"
   ]
  },
  {
   "cell_type": "markdown",
   "id": "4b2d102b",
   "metadata": {},
   "source": [
    "nombre_infected       844\n",
    "nombre_sain          2291\n",
    "nombre_exposed        483\n",
    "nombre_recovered    16382\n",
    "Name: 288, dtype: int64"
   ]
  },
  {
   "cell_type": "markdown",
   "id": "4ab4e5d9",
   "metadata": {},
   "source": [
    "nombre_infected       841\n",
    "nombre_sain          2303\n",
    "nombre_exposed        496\n",
    "nombre_recovered    16360\n",
    "Name: 289, dtype: int64"
   ]
  },
  {
   "cell_type": "markdown",
   "id": "d485b7af",
   "metadata": {},
   "source": [
    "nombre_infected       843\n",
    "nombre_sain          2291\n",
    "nombre_exposed        502\n",
    "nombre_recovered    16364\n",
    "Name: 290, dtype: int64"
   ]
  },
  {
   "cell_type": "markdown",
   "id": "eeb5c15f",
   "metadata": {},
   "source": [
    "nombre_infected       841\n",
    "nombre_sain          2276\n",
    "nombre_exposed        512\n",
    "nombre_recovered    16371\n",
    "Name: 291, dtype: int64"
   ]
  },
  {
   "cell_type": "markdown",
   "id": "732ed956",
   "metadata": {},
   "source": [
    "nombre_infected       837\n",
    "nombre_sain          2297\n",
    "nombre_exposed        507\n",
    "nombre_recovered    16359\n",
    "Name: 292, dtype: int64"
   ]
  },
  {
   "cell_type": "markdown",
   "id": "9cb0a56e",
   "metadata": {},
   "source": [
    "nombre_infected       849\n",
    "nombre_sain          2281\n",
    "nombre_exposed        512\n",
    "nombre_recovered    16358\n",
    "Name: 293, dtype: int64"
   ]
  },
  {
   "cell_type": "markdown",
   "id": "3a9ba111",
   "metadata": {},
   "source": [
    "nombre_infected       859\n",
    "nombre_sain          2280\n",
    "nombre_exposed        508\n",
    "nombre_recovered    16353\n",
    "Name: 294, dtype: int64"
   ]
  },
  {
   "cell_type": "markdown",
   "id": "93a83a84",
   "metadata": {},
   "source": [
    "nombre_infected       868\n",
    "nombre_sain          2286\n",
    "nombre_exposed        497\n",
    "nombre_recovered    16349\n",
    "Name: 295, dtype: int64"
   ]
  },
  {
   "cell_type": "markdown",
   "id": "584c954e",
   "metadata": {},
   "source": [
    "nombre_infected       892\n",
    "nombre_sain          2290\n",
    "nombre_exposed        481\n",
    "nombre_recovered    16337\n",
    "Name: 296, dtype: int64"
   ]
  },
  {
   "cell_type": "markdown",
   "id": "5f8a5be8",
   "metadata": {},
   "source": [
    "nombre_infected       904\n",
    "nombre_sain          2275\n",
    "nombre_exposed        476\n",
    "nombre_recovered    16345\n",
    "Name: 297, dtype: int64"
   ]
  },
  {
   "cell_type": "markdown",
   "id": "8afccb66",
   "metadata": {},
   "source": [
    "nombre_infected       895\n",
    "nombre_sain          2275\n",
    "nombre_exposed        475\n",
    "nombre_recovered    16355\n",
    "Name: 298, dtype: int64"
   ]
  },
  {
   "cell_type": "markdown",
   "id": "93141722",
   "metadata": {},
   "source": [
    "nombre_infected       861\n",
    "nombre_sain          2274\n",
    "nombre_exposed        475\n",
    "nombre_recovered    16390\n",
    "Name: 299, dtype: int64"
   ]
  },
  {
   "cell_type": "markdown",
   "id": "bd8879d4",
   "metadata": {},
   "source": [
    "nombre_infected       835\n",
    "nombre_sain          2267\n",
    "nombre_exposed        489\n",
    "nombre_recovered    16409\n",
    "Name: 300, dtype: int64"
   ]
  },
  {
   "cell_type": "markdown",
   "id": "011e6a52",
   "metadata": {},
   "source": [
    "nombre_infected       848\n",
    "nombre_sain          2240\n",
    "nombre_exposed        488\n",
    "nombre_recovered    16424\n",
    "Name: 301, dtype: int64"
   ]
  },
  {
   "cell_type": "markdown",
   "id": "9bc5a7d7",
   "metadata": {},
   "source": [
    "nombre_infected       849\n",
    "nombre_sain          2222\n",
    "nombre_exposed        496\n",
    "nombre_recovered    16433\n",
    "Name: 302, dtype: int64"
   ]
  },
  {
   "cell_type": "markdown",
   "id": "b8b8371b",
   "metadata": {},
   "source": [
    "nombre_infected       867\n",
    "nombre_sain          2229\n",
    "nombre_exposed        489\n",
    "nombre_recovered    16415\n",
    "Name: 303, dtype: int64"
   ]
  },
  {
   "cell_type": "markdown",
   "id": "c93cd25a",
   "metadata": {},
   "source": [
    "nombre_infected       882\n",
    "nombre_sain          2209\n",
    "nombre_exposed        478\n",
    "nombre_recovered    16431\n",
    "Name: 304, dtype: int64"
   ]
  },
  {
   "cell_type": "markdown",
   "id": "bd6bccca",
   "metadata": {},
   "source": [
    "nombre_infected       871\n",
    "nombre_sain          2211\n",
    "nombre_exposed        481\n",
    "nombre_recovered    16437\n",
    "Name: 305, dtype: int64"
   ]
  },
  {
   "cell_type": "markdown",
   "id": "c8cc98d3",
   "metadata": {},
   "source": [
    "nombre_infected       891\n",
    "nombre_sain          2188\n",
    "nombre_exposed        474\n",
    "nombre_recovered    16447\n",
    "Name: 306, dtype: int64"
   ]
  },
  {
   "cell_type": "markdown",
   "id": "a8a077b8",
   "metadata": {},
   "source": [
    "nombre_infected       855\n",
    "nombre_sain          2188\n",
    "nombre_exposed        504\n",
    "nombre_recovered    16453\n",
    "Name: 307, dtype: int64"
   ]
  },
  {
   "cell_type": "markdown",
   "id": "7f365a73",
   "metadata": {},
   "source": [
    "nombre_infected       839\n",
    "nombre_sain          2197\n",
    "nombre_exposed        493\n",
    "nombre_recovered    16471\n",
    "Name: 308, dtype: int64"
   ]
  },
  {
   "cell_type": "markdown",
   "id": "6fc21d41",
   "metadata": {},
   "source": [
    "nombre_infected       842\n",
    "nombre_sain          2184\n",
    "nombre_exposed        498\n",
    "nombre_recovered    16476\n",
    "Name: 309, dtype: int64"
   ]
  },
  {
   "cell_type": "markdown",
   "id": "cd14c37d",
   "metadata": {},
   "source": [
    "nombre_infected       861\n",
    "nombre_sain          2205\n",
    "nombre_exposed        473\n",
    "nombre_recovered    16461\n",
    "Name: 310, dtype: int64"
   ]
  },
  {
   "cell_type": "markdown",
   "id": "6c5a16cd",
   "metadata": {},
   "source": [
    "nombre_infected       844\n",
    "nombre_sain          2208\n",
    "nombre_exposed        465\n",
    "nombre_recovered    16483\n",
    "Name: 311, dtype: int64"
   ]
  },
  {
   "cell_type": "markdown",
   "id": "f34da120",
   "metadata": {},
   "source": [
    "nombre_infected       813\n",
    "nombre_sain          2203\n",
    "nombre_exposed        480\n",
    "nombre_recovered    16504\n",
    "Name: 312, dtype: int64"
   ]
  },
  {
   "cell_type": "markdown",
   "id": "5109f58f",
   "metadata": {},
   "source": [
    "nombre_infected       827\n",
    "nombre_sain          2201\n",
    "nombre_exposed        462\n",
    "nombre_recovered    16510\n",
    "Name: 313, dtype: int64"
   ]
  },
  {
   "cell_type": "markdown",
   "id": "64ab0474",
   "metadata": {},
   "source": [
    "nombre_infected       839\n",
    "nombre_sain          2196\n",
    "nombre_exposed        462\n",
    "nombre_recovered    16503\n",
    "Name: 314, dtype: int64"
   ]
  },
  {
   "cell_type": "markdown",
   "id": "6a2cb965",
   "metadata": {},
   "source": [
    "nombre_infected       821\n",
    "nombre_sain          2226\n",
    "nombre_exposed        448\n",
    "nombre_recovered    16505\n",
    "Name: 315, dtype: int64"
   ]
  },
  {
   "cell_type": "markdown",
   "id": "2948e224",
   "metadata": {},
   "source": [
    "nombre_infected       796\n",
    "nombre_sain          2227\n",
    "nombre_exposed        451\n",
    "nombre_recovered    16526\n",
    "Name: 316, dtype: int64"
   ]
  },
  {
   "cell_type": "markdown",
   "id": "eb9e466d",
   "metadata": {},
   "source": [
    "nombre_infected       787\n",
    "nombre_sain          2233\n",
    "nombre_exposed        450\n",
    "nombre_recovered    16530\n",
    "Name: 317, dtype: int64"
   ]
  },
  {
   "cell_type": "markdown",
   "id": "fcada0b0",
   "metadata": {},
   "source": [
    "nombre_infected       786\n",
    "nombre_sain          2238\n",
    "nombre_exposed        440\n",
    "nombre_recovered    16536\n",
    "Name: 318, dtype: int64"
   ]
  },
  {
   "cell_type": "markdown",
   "id": "d66607d9",
   "metadata": {},
   "source": [
    "nombre_infected       778\n",
    "nombre_sain          2219\n",
    "nombre_exposed        441\n",
    "nombre_recovered    16562\n",
    "Name: 319, dtype: int64"
   ]
  },
  {
   "cell_type": "markdown",
   "id": "9229fcac",
   "metadata": {},
   "source": [
    "nombre_infected       795\n",
    "nombre_sain          2213\n",
    "nombre_exposed        430\n",
    "nombre_recovered    16562\n",
    "Name: 320, dtype: int64"
   ]
  },
  {
   "cell_type": "markdown",
   "id": "f6b3027b",
   "metadata": {},
   "source": [
    "nombre_infected       788\n",
    "nombre_sain          2221\n",
    "nombre_exposed        427\n",
    "nombre_recovered    16564\n",
    "Name: 321, dtype: int64"
   ]
  },
  {
   "cell_type": "markdown",
   "id": "17336f35",
   "metadata": {},
   "source": [
    "nombre_infected       784\n",
    "nombre_sain          2221\n",
    "nombre_exposed        440\n",
    "nombre_recovered    16555\n",
    "Name: 322, dtype: int64"
   ]
  },
  {
   "cell_type": "markdown",
   "id": "c5b6388e",
   "metadata": {},
   "source": [
    "nombre_infected       793\n",
    "nombre_sain          2218\n",
    "nombre_exposed        427\n",
    "nombre_recovered    16562\n",
    "Name: 323, dtype: int64"
   ]
  },
  {
   "cell_type": "markdown",
   "id": "f0d5a20f",
   "metadata": {},
   "source": [
    "nombre_infected       793\n",
    "nombre_sain          2250\n",
    "nombre_exposed        431\n",
    "nombre_recovered    16526\n",
    "Name: 324, dtype: int64"
   ]
  },
  {
   "cell_type": "markdown",
   "id": "a7caf7ae",
   "metadata": {},
   "source": [
    "nombre_infected       813\n",
    "nombre_sain          2258\n",
    "nombre_exposed        417\n",
    "nombre_recovered    16512\n",
    "Name: 325, dtype: int64"
   ]
  },
  {
   "cell_type": "markdown",
   "id": "85aad171",
   "metadata": {},
   "source": [
    "nombre_infected       807\n",
    "nombre_sain          2260\n",
    "nombre_exposed        425\n",
    "nombre_recovered    16508\n",
    "Name: 326, dtype: int64"
   ]
  },
  {
   "cell_type": "markdown",
   "id": "77e4d1b2",
   "metadata": {},
   "source": [
    "nombre_infected       781\n",
    "nombre_sain          2283\n",
    "nombre_exposed        427\n",
    "nombre_recovered    16509\n",
    "Name: 327, dtype: int64"
   ]
  },
  {
   "cell_type": "markdown",
   "id": "b3ff7b47",
   "metadata": {},
   "source": [
    "nombre_infected       776\n",
    "nombre_sain          2264\n",
    "nombre_exposed        446\n",
    "nombre_recovered    16514\n",
    "Name: 328, dtype: int64"
   ]
  },
  {
   "cell_type": "markdown",
   "id": "f230666d",
   "metadata": {},
   "source": [
    "nombre_infected       778\n",
    "nombre_sain          2284\n",
    "nombre_exposed        449\n",
    "nombre_recovered    16489\n",
    "Name: 329, dtype: int64"
   ]
  },
  {
   "cell_type": "markdown",
   "id": "4334d88c",
   "metadata": {},
   "source": [
    "nombre_infected       772\n",
    "nombre_sain          2295\n",
    "nombre_exposed        448\n",
    "nombre_recovered    16485\n",
    "Name: 330, dtype: int64"
   ]
  },
  {
   "cell_type": "markdown",
   "id": "81071d47",
   "metadata": {},
   "source": [
    "nombre_infected       790\n",
    "nombre_sain          2323\n",
    "nombre_exposed        420\n",
    "nombre_recovered    16467\n",
    "Name: 331, dtype: int64"
   ]
  },
  {
   "cell_type": "markdown",
   "id": "ae080bb1",
   "metadata": {},
   "source": [
    "nombre_infected       799\n",
    "nombre_sain          2316\n",
    "nombre_exposed        406\n",
    "nombre_recovered    16479\n",
    "Name: 332, dtype: int64"
   ]
  },
  {
   "cell_type": "markdown",
   "id": "32397529",
   "metadata": {},
   "source": [
    "nombre_infected       791\n",
    "nombre_sain          2297\n",
    "nombre_exposed        423\n",
    "nombre_recovered    16489\n",
    "Name: 333, dtype: int64"
   ]
  },
  {
   "cell_type": "markdown",
   "id": "f341acbe",
   "metadata": {},
   "source": [
    "nombre_infected       792\n",
    "nombre_sain          2282\n",
    "nombre_exposed        422\n",
    "nombre_recovered    16504\n",
    "Name: 334, dtype: int64"
   ]
  },
  {
   "cell_type": "markdown",
   "id": "54658c11",
   "metadata": {},
   "source": [
    "nombre_infected       811\n",
    "nombre_sain          2236\n",
    "nombre_exposed        427\n",
    "nombre_recovered    16526\n",
    "Name: 335, dtype: int64"
   ]
  },
  {
   "cell_type": "markdown",
   "id": "b8a8dc01",
   "metadata": {},
   "source": [
    "nombre_infected       803\n",
    "nombre_sain          2230\n",
    "nombre_exposed        448\n",
    "nombre_recovered    16519\n",
    "Name: 336, dtype: int64"
   ]
  },
  {
   "cell_type": "markdown",
   "id": "b5d89df4",
   "metadata": {},
   "source": [
    "nombre_infected       807\n",
    "nombre_sain          2227\n",
    "nombre_exposed        451\n",
    "nombre_recovered    16515\n",
    "Name: 337, dtype: int64"
   ]
  },
  {
   "cell_type": "markdown",
   "id": "16cadd26",
   "metadata": {},
   "source": [
    "nombre_infected       828\n",
    "nombre_sain          2218\n",
    "nombre_exposed        447\n",
    "nombre_recovered    16507\n",
    "Name: 338, dtype: int64"
   ]
  },
  {
   "cell_type": "markdown",
   "id": "4d03eec9",
   "metadata": {},
   "source": [
    "nombre_infected       871\n",
    "nombre_sain          2195\n",
    "nombre_exposed        424\n",
    "nombre_recovered    16510\n",
    "Name: 339, dtype: int64"
   ]
  },
  {
   "cell_type": "markdown",
   "id": "4ebb948e",
   "metadata": {},
   "source": [
    "nombre_infected       867\n",
    "nombre_sain          2173\n",
    "nombre_exposed        432\n",
    "nombre_recovered    16528\n",
    "Name: 340, dtype: int64"
   ]
  },
  {
   "cell_type": "markdown",
   "id": "4fe453f8",
   "metadata": {},
   "source": [
    "nombre_infected       846\n",
    "nombre_sain          2152\n",
    "nombre_exposed        457\n",
    "nombre_recovered    16545\n",
    "Name: 341, dtype: int64"
   ]
  },
  {
   "cell_type": "markdown",
   "id": "1cb87374",
   "metadata": {},
   "source": [
    "nombre_infected       837\n",
    "nombre_sain          2139\n",
    "nombre_exposed        455\n",
    "nombre_recovered    16569\n",
    "Name: 342, dtype: int64"
   ]
  },
  {
   "cell_type": "markdown",
   "id": "9e0321d9",
   "metadata": {},
   "source": [
    "nombre_infected       851\n",
    "nombre_sain          2144\n",
    "nombre_exposed        442\n",
    "nombre_recovered    16563\n",
    "Name: 343, dtype: int64"
   ]
  },
  {
   "cell_type": "markdown",
   "id": "a3a93155",
   "metadata": {},
   "source": [
    "nombre_infected       860\n",
    "nombre_sain          2163\n",
    "nombre_exposed        421\n",
    "nombre_recovered    16556\n",
    "Name: 344, dtype: int64"
   ]
  },
  {
   "cell_type": "markdown",
   "id": "1e8024a7",
   "metadata": {},
   "source": [
    "nombre_infected       893\n",
    "nombre_sain          2151\n",
    "nombre_exposed        396\n",
    "nombre_recovered    16560\n",
    "Name: 345, dtype: int64"
   ]
  },
  {
   "cell_type": "markdown",
   "id": "b076be82",
   "metadata": {},
   "source": [
    "nombre_infected       893\n",
    "nombre_sain          2145\n",
    "nombre_exposed        408\n",
    "nombre_recovered    16554\n",
    "Name: 346, dtype: int64"
   ]
  },
  {
   "cell_type": "markdown",
   "id": "9b2797ed",
   "metadata": {},
   "source": [
    "nombre_infected       876\n",
    "nombre_sain          2121\n",
    "nombre_exposed        439\n",
    "nombre_recovered    16564\n",
    "Name: 347, dtype: int64"
   ]
  },
  {
   "cell_type": "markdown",
   "id": "9f69997b",
   "metadata": {},
   "source": [
    "nombre_infected       863\n",
    "nombre_sain          2111\n",
    "nombre_exposed        448\n",
    "nombre_recovered    16578\n",
    "Name: 348, dtype: int64"
   ]
  },
  {
   "cell_type": "markdown",
   "id": "b593fc74",
   "metadata": {},
   "source": [
    "nombre_infected       873\n",
    "nombre_sain          2100\n",
    "nombre_exposed        441\n",
    "nombre_recovered    16586\n",
    "Name: 349, dtype: int64"
   ]
  },
  {
   "cell_type": "markdown",
   "id": "2a17d41d",
   "metadata": {},
   "source": [
    "nombre_infected       872\n",
    "nombre_sain          2076\n",
    "nombre_exposed        460\n",
    "nombre_recovered    16592\n",
    "Name: 350, dtype: int64"
   ]
  },
  {
   "cell_type": "markdown",
   "id": "6b4ae333",
   "metadata": {},
   "source": [
    "nombre_infected       889\n",
    "nombre_sain          2074\n",
    "nombre_exposed        451\n",
    "nombre_recovered    16586\n",
    "Name: 351, dtype: int64"
   ]
  },
  {
   "cell_type": "markdown",
   "id": "28787fba",
   "metadata": {},
   "source": [
    "nombre_infected       910\n",
    "nombre_sain          2058\n",
    "nombre_exposed        442\n",
    "nombre_recovered    16590\n",
    "Name: 352, dtype: int64"
   ]
  },
  {
   "cell_type": "markdown",
   "id": "19037a76",
   "metadata": {},
   "source": [
    "nombre_infected       915\n",
    "nombre_sain          2077\n",
    "nombre_exposed        428\n",
    "nombre_recovered    16580\n",
    "Name: 353, dtype: int64"
   ]
  },
  {
   "cell_type": "markdown",
   "id": "c9e7d4cd",
   "metadata": {},
   "source": [
    "nombre_infected       925\n",
    "nombre_sain          2076\n",
    "nombre_exposed        429\n",
    "nombre_recovered    16570\n",
    "Name: 354, dtype: int64"
   ]
  },
  {
   "cell_type": "markdown",
   "id": "e7d22bb8",
   "metadata": {},
   "source": [
    "nombre_infected       899\n",
    "nombre_sain          2072\n",
    "nombre_exposed        435\n",
    "nombre_recovered    16594\n",
    "Name: 355, dtype: int64"
   ]
  },
  {
   "cell_type": "markdown",
   "id": "4fcb0f58",
   "metadata": {},
   "source": [
    "nombre_infected       876\n",
    "nombre_sain          2071\n",
    "nombre_exposed        440\n",
    "nombre_recovered    16613\n",
    "Name: 356, dtype: int64"
   ]
  },
  {
   "cell_type": "markdown",
   "id": "872c606a",
   "metadata": {},
   "source": [
    "nombre_infected       873\n",
    "nombre_sain          2063\n",
    "nombre_exposed        422\n",
    "nombre_recovered    16642\n",
    "Name: 357, dtype: int64"
   ]
  },
  {
   "cell_type": "markdown",
   "id": "9a0ab519",
   "metadata": {},
   "source": [
    "nombre_infected       855\n",
    "nombre_sain          2045\n",
    "nombre_exposed        438\n",
    "nombre_recovered    16662\n",
    "Name: 358, dtype: int64"
   ]
  },
  {
   "cell_type": "markdown",
   "id": "dd35a719",
   "metadata": {},
   "source": [
    "nombre_infected       848\n",
    "nombre_sain          2071\n",
    "nombre_exposed        407\n",
    "nombre_recovered    16674\n",
    "Name: 359, dtype: int64"
   ]
  },
  {
   "cell_type": "markdown",
   "id": "a30cb46d",
   "metadata": {},
   "source": [
    "nombre_infected       866\n",
    "nombre_sain          2048\n",
    "nombre_exposed        411\n",
    "nombre_recovered    16675\n",
    "Name: 360, dtype: int64"
   ]
  },
  {
   "cell_type": "markdown",
   "id": "199b68f7",
   "metadata": {},
   "source": [
    "nombre_infected       859\n",
    "nombre_sain          2019\n",
    "nombre_exposed        428\n",
    "nombre_recovered    16694\n",
    "Name: 361, dtype: int64"
   ]
  },
  {
   "cell_type": "markdown",
   "id": "941d1a0c",
   "metadata": {},
   "source": [
    "nombre_infected       850\n",
    "nombre_sain          2012\n",
    "nombre_exposed        415\n",
    "nombre_recovered    16723\n",
    "Name: 362, dtype: int64"
   ]
  },
  {
   "cell_type": "markdown",
   "id": "7144b22b",
   "metadata": {},
   "source": [
    "nombre_infected       835\n",
    "nombre_sain          2022\n",
    "nombre_exposed        403\n",
    "nombre_recovered    16740\n",
    "Name: 363, dtype: int64"
   ]
  },
  {
   "cell_type": "markdown",
   "id": "8ba020da",
   "metadata": {},
   "source": [
    "nombre_infected       828\n",
    "nombre_sain          2020\n",
    "nombre_exposed        392\n",
    "nombre_recovered    16760\n",
    "Name: 364, dtype: int64"
   ]
  },
  {
   "cell_type": "markdown",
   "id": "f2e2f468",
   "metadata": {},
   "source": [
    "nombre_infected       823\n",
    "nombre_sain          2013\n",
    "nombre_exposed        395\n",
    "nombre_recovered    16769\n",
    "Name: 365, dtype: int64"
   ]
  },
  {
   "cell_type": "markdown",
   "id": "f7246c22",
   "metadata": {},
   "source": [
    "nombre_infected       811\n",
    "nombre_sain          2021\n",
    "nombre_exposed        399\n",
    "nombre_recovered    16769\n",
    "Name: 366, dtype: int64"
   ]
  },
  {
   "cell_type": "markdown",
   "id": "d4100169",
   "metadata": {},
   "source": [
    "nombre_infected       803\n",
    "nombre_sain          2013\n",
    "nombre_exposed        422\n",
    "nombre_recovered    16762\n",
    "Name: 367, dtype: int64"
   ]
  },
  {
   "cell_type": "markdown",
   "id": "547a9ff5",
   "metadata": {},
   "source": [
    "nombre_infected       807\n",
    "nombre_sain          2038\n",
    "nombre_exposed        400\n",
    "nombre_recovered    16755\n",
    "Name: 368, dtype: int64"
   ]
  },
  {
   "cell_type": "markdown",
   "id": "77af7b7d",
   "metadata": {},
   "source": [
    "nombre_infected       785\n",
    "nombre_sain          2062\n",
    "nombre_exposed        394\n",
    "nombre_recovered    16759\n",
    "Name: 369, dtype: int64"
   ]
  },
  {
   "cell_type": "markdown",
   "id": "ebf493d3",
   "metadata": {},
   "source": [
    "nombre_infected       772\n",
    "nombre_sain          2082\n",
    "nombre_exposed        400\n",
    "nombre_recovered    16746\n",
    "Name: 370, dtype: int64"
   ]
  },
  {
   "cell_type": "markdown",
   "id": "e80015a0",
   "metadata": {},
   "source": [
    "nombre_infected       760\n",
    "nombre_sain          2116\n",
    "nombre_exposed        372\n",
    "nombre_recovered    16752\n",
    "Name: 371, dtype: int64"
   ]
  },
  {
   "cell_type": "markdown",
   "id": "83909c5f",
   "metadata": {},
   "source": [
    "nombre_infected       725\n",
    "nombre_sain          2148\n",
    "nombre_exposed        380\n",
    "nombre_recovered    16747\n",
    "Name: 372, dtype: int64"
   ]
  },
  {
   "cell_type": "markdown",
   "id": "257a5d48",
   "metadata": {},
   "source": [
    "nombre_infected       729\n",
    "nombre_sain          2185\n",
    "nombre_exposed        371\n",
    "nombre_recovered    16715\n",
    "Name: 373, dtype: int64"
   ]
  },
  {
   "cell_type": "markdown",
   "id": "9b5b96a9",
   "metadata": {},
   "source": [
    "nombre_infected       701\n",
    "nombre_sain          2214\n",
    "nombre_exposed        384\n",
    "nombre_recovered    16701\n",
    "Name: 374, dtype: int64"
   ]
  },
  {
   "cell_type": "markdown",
   "id": "48e211cf",
   "metadata": {},
   "source": [
    "nombre_infected       706\n",
    "nombre_sain          2220\n",
    "nombre_exposed        380\n",
    "nombre_recovered    16694\n",
    "Name: 375, dtype: int64"
   ]
  },
  {
   "cell_type": "markdown",
   "id": "5cf50f92",
   "metadata": {},
   "source": [
    "nombre_infected       706\n",
    "nombre_sain          2260\n",
    "nombre_exposed        370\n",
    "nombre_recovered    16664\n",
    "Name: 376, dtype: int64"
   ]
  },
  {
   "cell_type": "markdown",
   "id": "ba23005c",
   "metadata": {},
   "source": [
    "nombre_infected       688\n",
    "nombre_sain          2287\n",
    "nombre_exposed        390\n",
    "nombre_recovered    16635\n",
    "Name: 377, dtype: int64"
   ]
  },
  {
   "cell_type": "markdown",
   "id": "276a3b12",
   "metadata": {},
   "source": [
    "nombre_infected       689\n",
    "nombre_sain          2291\n",
    "nombre_exposed        397\n",
    "nombre_recovered    16623\n",
    "Name: 378, dtype: int64"
   ]
  },
  {
   "cell_type": "markdown",
   "id": "663a7038",
   "metadata": {},
   "source": [
    "nombre_infected       703\n",
    "nombre_sain          2306\n",
    "nombre_exposed        393\n",
    "nombre_recovered    16598\n",
    "Name: 379, dtype: int64"
   ]
  },
  {
   "cell_type": "markdown",
   "id": "718f433b",
   "metadata": {},
   "source": [
    "nombre_infected       692\n",
    "nombre_sain          2299\n",
    "nombre_exposed        410\n",
    "nombre_recovered    16599\n",
    "Name: 380, dtype: int64"
   ]
  },
  {
   "cell_type": "markdown",
   "id": "33c5d8c7",
   "metadata": {},
   "source": [
    "nombre_infected       687\n",
    "nombre_sain          2321\n",
    "nombre_exposed        416\n",
    "nombre_recovered    16576\n",
    "Name: 381, dtype: int64"
   ]
  },
  {
   "cell_type": "markdown",
   "id": "b3e5d5ca",
   "metadata": {},
   "source": [
    "nombre_infected       706\n",
    "nombre_sain          2332\n",
    "nombre_exposed        417\n",
    "nombre_recovered    16545\n",
    "Name: 382, dtype: int64"
   ]
  },
  {
   "cell_type": "markdown",
   "id": "9c5576da",
   "metadata": {},
   "source": [
    "nombre_infected       726\n",
    "nombre_sain          2349\n",
    "nombre_exposed        427\n",
    "nombre_recovered    16498\n",
    "Name: 383, dtype: int64"
   ]
  },
  {
   "cell_type": "markdown",
   "id": "41c96a4d",
   "metadata": {},
   "source": [
    "nombre_infected       753\n",
    "nombre_sain          2339\n",
    "nombre_exposed        431\n",
    "nombre_recovered    16477\n",
    "Name: 384, dtype: int64"
   ]
  },
  {
   "cell_type": "markdown",
   "id": "66ba217a",
   "metadata": {},
   "source": [
    "nombre_infected       758\n",
    "nombre_sain          2376\n",
    "nombre_exposed        429\n",
    "nombre_recovered    16437\n",
    "Name: 385, dtype: int64"
   ]
  },
  {
   "cell_type": "markdown",
   "id": "de5e13c3",
   "metadata": {},
   "source": [
    "nombre_infected       782\n",
    "nombre_sain          2383\n",
    "nombre_exposed        420\n",
    "nombre_recovered    16415\n",
    "Name: 386, dtype: int64"
   ]
  },
  {
   "cell_type": "markdown",
   "id": "5c48ed87",
   "metadata": {},
   "source": [
    "nombre_infected       783\n",
    "nombre_sain          2390\n",
    "nombre_exposed        452\n",
    "nombre_recovered    16375\n",
    "Name: 387, dtype: int64"
   ]
  },
  {
   "cell_type": "markdown",
   "id": "7b34aaf2",
   "metadata": {},
   "source": [
    "nombre_infected       776\n",
    "nombre_sain          2410\n",
    "nombre_exposed        477\n",
    "nombre_recovered    16337\n",
    "Name: 388, dtype: int64"
   ]
  },
  {
   "cell_type": "markdown",
   "id": "d8f257b7",
   "metadata": {},
   "source": [
    "nombre_infected       791\n",
    "nombre_sain          2413\n",
    "nombre_exposed        505\n",
    "nombre_recovered    16291\n",
    "Name: 389, dtype: int64"
   ]
  },
  {
   "cell_type": "markdown",
   "id": "72f0f05d",
   "metadata": {},
   "source": [
    "nombre_infected       808\n",
    "nombre_sain          2442\n",
    "nombre_exposed        503\n",
    "nombre_recovered    16247\n",
    "Name: 390, dtype: int64"
   ]
  },
  {
   "cell_type": "markdown",
   "id": "7ff03382",
   "metadata": {},
   "source": [
    "nombre_infected       825\n",
    "nombre_sain          2455\n",
    "nombre_exposed        507\n",
    "nombre_recovered    16213\n",
    "Name: 391, dtype: int64"
   ]
  },
  {
   "cell_type": "markdown",
   "id": "5a074f7e",
   "metadata": {},
   "source": [
    "nombre_infected       864\n",
    "nombre_sain          2465\n",
    "nombre_exposed        515\n",
    "nombre_recovered    16156\n",
    "Name: 392, dtype: int64"
   ]
  },
  {
   "cell_type": "markdown",
   "id": "b32368d9",
   "metadata": {},
   "source": [
    "nombre_infected       874\n",
    "nombre_sain          2487\n",
    "nombre_exposed        505\n",
    "nombre_recovered    16134\n",
    "Name: 393, dtype: int64"
   ]
  },
  {
   "cell_type": "markdown",
   "id": "01c549e2",
   "metadata": {},
   "source": [
    "nombre_infected       901\n",
    "nombre_sain          2472\n",
    "nombre_exposed        533\n",
    "nombre_recovered    16094\n",
    "Name: 394, dtype: int64"
   ]
  },
  {
   "cell_type": "markdown",
   "id": "e18805ff",
   "metadata": {},
   "source": [
    "nombre_infected       918\n",
    "nombre_sain          2486\n",
    "nombre_exposed        524\n",
    "nombre_recovered    16072\n",
    "Name: 395, dtype: int64"
   ]
  },
  {
   "cell_type": "markdown",
   "id": "687f912c",
   "metadata": {},
   "source": [
    "nombre_infected       937\n",
    "nombre_sain          2447\n",
    "nombre_exposed        546\n",
    "nombre_recovered    16070\n",
    "Name: 396, dtype: int64"
   ]
  },
  {
   "cell_type": "markdown",
   "id": "815300b8",
   "metadata": {},
   "source": [
    "nombre_infected       958\n",
    "nombre_sain          2422\n",
    "nombre_exposed        565\n",
    "nombre_recovered    16055\n",
    "Name: 397, dtype: int64"
   ]
  },
  {
   "cell_type": "markdown",
   "id": "a06e484e",
   "metadata": {},
   "source": [
    "nombre_infected       971\n",
    "nombre_sain          2421\n",
    "nombre_exposed        548\n",
    "nombre_recovered    16060\n",
    "Name: 398, dtype: int64"
   ]
  },
  {
   "cell_type": "markdown",
   "id": "235040df",
   "metadata": {},
   "source": [
    "nombre_infected       955\n",
    "nombre_sain          2409\n",
    "nombre_exposed        574\n",
    "nombre_recovered    16062\n",
    "Name: 399, dtype: int64"
   ]
  },
  {
   "cell_type": "markdown",
   "id": "d8e93f47",
   "metadata": {},
   "source": [
    "nombre_infected       995\n",
    "nombre_sain          2412\n",
    "nombre_exposed        557\n",
    "nombre_recovered    16036\n",
    "Name: 400, dtype: int64"
   ]
  },
  {
   "cell_type": "markdown",
   "id": "851c3619",
   "metadata": {},
   "source": [
    "nombre_infected      1012\n",
    "nombre_sain          2355\n",
    "nombre_exposed        584\n",
    "nombre_recovered    16049\n",
    "Name: 401, dtype: int64"
   ]
  },
  {
   "cell_type": "markdown",
   "id": "3012a641",
   "metadata": {},
   "source": [
    "nombre_infected      1015\n",
    "nombre_sain          2354\n",
    "nombre_exposed        587\n",
    "nombre_recovered    16044\n",
    "Name: 402, dtype: int64"
   ]
  },
  {
   "cell_type": "markdown",
   "id": "41c58626",
   "metadata": {},
   "source": [
    "nombre_infected      1013\n",
    "nombre_sain          2322\n",
    "nombre_exposed        594\n",
    "nombre_recovered    16071\n",
    "Name: 403, dtype: int64"
   ]
  },
  {
   "cell_type": "markdown",
   "id": "f2a493de",
   "metadata": {},
   "source": [
    "nombre_infected      1024\n",
    "nombre_sain          2318\n",
    "nombre_exposed        571\n",
    "nombre_recovered    16087\n",
    "Name: 404, dtype: int64"
   ]
  },
  {
   "cell_type": "markdown",
   "id": "7755bc75",
   "metadata": {},
   "source": [
    "nombre_infected      1072\n",
    "nombre_sain          2296\n",
    "nombre_exposed        575\n",
    "nombre_recovered    16057\n",
    "Name: 405, dtype: int64"
   ]
  },
  {
   "cell_type": "markdown",
   "id": "6813d157",
   "metadata": {},
   "source": [
    "nombre_infected      1100\n",
    "nombre_sain          2235\n",
    "nombre_exposed        600\n",
    "nombre_recovered    16065\n",
    "Name: 406, dtype: int64"
   ]
  },
  {
   "cell_type": "markdown",
   "id": "aa7ae87b",
   "metadata": {},
   "source": [
    "nombre_infected      1125\n",
    "nombre_sain          2178\n",
    "nombre_exposed        627\n",
    "nombre_recovered    16070\n",
    "Name: 407, dtype: int64"
   ]
  },
  {
   "cell_type": "markdown",
   "id": "a121ad8d",
   "metadata": {},
   "source": [
    "nombre_infected      1170\n",
    "nombre_sain          2165\n",
    "nombre_exposed        582\n",
    "nombre_recovered    16083\n",
    "Name: 408, dtype: int64"
   ]
  },
  {
   "cell_type": "markdown",
   "id": "82705c3e",
   "metadata": {},
   "source": [
    "nombre_infected      1170\n",
    "nombre_sain          2114\n",
    "nombre_exposed        589\n",
    "nombre_recovered    16127\n",
    "Name: 409, dtype: int64"
   ]
  },
  {
   "cell_type": "markdown",
   "id": "5fec809d",
   "metadata": {},
   "source": [
    "nombre_infected      1151\n",
    "nombre_sain          2095\n",
    "nombre_exposed        581\n",
    "nombre_recovered    16173\n",
    "Name: 410, dtype: int64"
   ]
  },
  {
   "cell_type": "markdown",
   "id": "c7945c28",
   "metadata": {},
   "source": [
    "nombre_infected      1148\n",
    "nombre_sain          2067\n",
    "nombre_exposed        598\n",
    "nombre_recovered    16187\n",
    "Name: 411, dtype: int64"
   ]
  },
  {
   "cell_type": "markdown",
   "id": "9871bebc",
   "metadata": {},
   "source": [
    "nombre_infected      1144\n",
    "nombre_sain          2068\n",
    "nombre_exposed        582\n",
    "nombre_recovered    16206\n",
    "Name: 412, dtype: int64"
   ]
  },
  {
   "cell_type": "markdown",
   "id": "bad3379d",
   "metadata": {},
   "source": [
    "nombre_infected      1149\n",
    "nombre_sain          2035\n",
    "nombre_exposed        558\n",
    "nombre_recovered    16258\n",
    "Name: 413, dtype: int64"
   ]
  },
  {
   "cell_type": "markdown",
   "id": "c2e9edba",
   "metadata": {},
   "source": [
    "nombre_infected      1139\n",
    "nombre_sain          1985\n",
    "nombre_exposed        588\n",
    "nombre_recovered    16288\n",
    "Name: 414, dtype: int64"
   ]
  },
  {
   "cell_type": "markdown",
   "id": "bd05d40b",
   "metadata": {},
   "source": [
    "nombre_infected      1123\n",
    "nombre_sain          1976\n",
    "nombre_exposed        580\n",
    "nombre_recovered    16321\n",
    "Name: 415, dtype: int64"
   ]
  },
  {
   "cell_type": "markdown",
   "id": "b9b3f6c4",
   "metadata": {},
   "source": [
    "nombre_infected      1132\n",
    "nombre_sain          1954\n",
    "nombre_exposed        562\n",
    "nombre_recovered    16352\n",
    "Name: 416, dtype: int64"
   ]
  },
  {
   "cell_type": "markdown",
   "id": "08da5a20",
   "metadata": {},
   "source": [
    "nombre_infected      1130\n",
    "nombre_sain          1934\n",
    "nombre_exposed        554\n",
    "nombre_recovered    16382\n",
    "Name: 417, dtype: int64"
   ]
  },
  {
   "cell_type": "markdown",
   "id": "cb5817ac",
   "metadata": {},
   "source": [
    "nombre_infected      1144\n",
    "nombre_sain          1909\n",
    "nombre_exposed        534\n",
    "nombre_recovered    16413\n",
    "Name: 418, dtype: int64"
   ]
  },
  {
   "cell_type": "markdown",
   "id": "2eceb7f9",
   "metadata": {},
   "source": [
    "nombre_infected      1163\n",
    "nombre_sain          1902\n",
    "nombre_exposed        510\n",
    "nombre_recovered    16425\n",
    "Name: 419, dtype: int64"
   ]
  },
  {
   "cell_type": "markdown",
   "id": "06a69e56",
   "metadata": {},
   "source": [
    "nombre_infected      1116\n",
    "nombre_sain          1874\n",
    "nombre_exposed        532\n",
    "nombre_recovered    16478\n",
    "Name: 420, dtype: int64"
   ]
  },
  {
   "cell_type": "markdown",
   "id": "22c30622",
   "metadata": {},
   "source": [
    "nombre_infected      1119\n",
    "nombre_sain          1840\n",
    "nombre_exposed        521\n",
    "nombre_recovered    16520\n",
    "Name: 421, dtype: int64"
   ]
  },
  {
   "cell_type": "markdown",
   "id": "5f87b830",
   "metadata": {},
   "source": [
    "nombre_infected      1122\n",
    "nombre_sain          1835\n",
    "nombre_exposed        507\n",
    "nombre_recovered    16536\n",
    "Name: 422, dtype: int64"
   ]
  },
  {
   "cell_type": "markdown",
   "id": "9d8cb543",
   "metadata": {},
   "source": [
    "nombre_infected      1099\n",
    "nombre_sain          1849\n",
    "nombre_exposed        494\n",
    "nombre_recovered    16558\n",
    "Name: 423, dtype: int64"
   ]
  },
  {
   "cell_type": "markdown",
   "id": "d73ee4ff",
   "metadata": {},
   "source": [
    "nombre_infected      1091\n",
    "nombre_sain          1820\n",
    "nombre_exposed        486\n",
    "nombre_recovered    16603\n",
    "Name: 424, dtype: int64"
   ]
  },
  {
   "cell_type": "markdown",
   "id": "b8266398",
   "metadata": {},
   "source": [
    "nombre_infected      1092\n",
    "nombre_sain          1794\n",
    "nombre_exposed        486\n",
    "nombre_recovered    16628\n",
    "Name: 425, dtype: int64"
   ]
  },
  {
   "cell_type": "markdown",
   "id": "daa6be47",
   "metadata": {},
   "source": [
    "nombre_infected      1071\n",
    "nombre_sain          1795\n",
    "nombre_exposed        465\n",
    "nombre_recovered    16669\n",
    "Name: 426, dtype: int64"
   ]
  },
  {
   "cell_type": "markdown",
   "id": "78e60826",
   "metadata": {},
   "source": [
    "nombre_infected      1057\n",
    "nombre_sain          1781\n",
    "nombre_exposed        468\n",
    "nombre_recovered    16694\n",
    "Name: 427, dtype: int64"
   ]
  },
  {
   "cell_type": "markdown",
   "id": "624c1ab9",
   "metadata": {},
   "source": [
    "nombre_infected      1063\n",
    "nombre_sain          1768\n",
    "nombre_exposed        447\n",
    "nombre_recovered    16722\n",
    "Name: 428, dtype: int64"
   ]
  },
  {
   "cell_type": "markdown",
   "id": "9298aff7",
   "metadata": {},
   "source": [
    "nombre_infected      1048\n",
    "nombre_sain          1737\n",
    "nombre_exposed        466\n",
    "nombre_recovered    16749\n",
    "Name: 429, dtype: int64"
   ]
  },
  {
   "cell_type": "markdown",
   "id": "d1a1baf5",
   "metadata": {},
   "source": [
    "nombre_infected      1014\n",
    "nombre_sain          1757\n",
    "nombre_exposed        459\n",
    "nombre_recovered    16770\n",
    "Name: 430, dtype: int64"
   ]
  },
  {
   "cell_type": "markdown",
   "id": "7b4aea67",
   "metadata": {},
   "source": [
    "nombre_infected       981\n",
    "nombre_sain          1777\n",
    "nombre_exposed        449\n",
    "nombre_recovered    16793\n",
    "Name: 431, dtype: int64"
   ]
  },
  {
   "cell_type": "markdown",
   "id": "a21bdf30",
   "metadata": {},
   "source": [
    "nombre_infected       971\n",
    "nombre_sain          1801\n",
    "nombre_exposed        429\n",
    "nombre_recovered    16799\n",
    "Name: 432, dtype: int64"
   ]
  },
  {
   "cell_type": "markdown",
   "id": "84189f98",
   "metadata": {},
   "source": [
    "nombre_infected       952\n",
    "nombre_sain          1812\n",
    "nombre_exposed        417\n",
    "nombre_recovered    16819\n",
    "Name: 433, dtype: int64"
   ]
  },
  {
   "cell_type": "markdown",
   "id": "f2e568bb",
   "metadata": {},
   "source": [
    "nombre_infected       921\n",
    "nombre_sain          1822\n",
    "nombre_exposed        414\n",
    "nombre_recovered    16843\n",
    "Name: 434, dtype: int64"
   ]
  },
  {
   "cell_type": "markdown",
   "id": "7b48d226",
   "metadata": {},
   "source": [
    "nombre_infected       889\n",
    "nombre_sain          1838\n",
    "nombre_exposed        406\n",
    "nombre_recovered    16867\n",
    "Name: 435, dtype: int64"
   ]
  },
  {
   "cell_type": "markdown",
   "id": "c96afe16",
   "metadata": {},
   "source": [
    "nombre_infected       887\n",
    "nombre_sain          1853\n",
    "nombre_exposed        378\n",
    "nombre_recovered    16882\n",
    "Name: 436, dtype: int64"
   ]
  },
  {
   "cell_type": "markdown",
   "id": "597eece6",
   "metadata": {},
   "source": [
    "nombre_infected       873\n",
    "nombre_sain          1859\n",
    "nombre_exposed        407\n",
    "nombre_recovered    16861\n",
    "Name: 437, dtype: int64"
   ]
  },
  {
   "cell_type": "markdown",
   "id": "546296a1",
   "metadata": {},
   "source": [
    "nombre_infected       861\n",
    "nombre_sain          1876\n",
    "nombre_exposed        402\n",
    "nombre_recovered    16861\n",
    "Name: 438, dtype: int64"
   ]
  },
  {
   "cell_type": "markdown",
   "id": "c9a32204",
   "metadata": {},
   "source": [
    "nombre_infected       838\n",
    "nombre_sain          1889\n",
    "nombre_exposed        391\n",
    "nombre_recovered    16882\n",
    "Name: 439, dtype: int64"
   ]
  },
  {
   "cell_type": "markdown",
   "id": "deac252f",
   "metadata": {},
   "source": [
    "nombre_infected       835\n",
    "nombre_sain          1922\n",
    "nombre_exposed        368\n",
    "nombre_recovered    16875\n",
    "Name: 440, dtype: int64"
   ]
  },
  {
   "cell_type": "markdown",
   "id": "0f8413f8",
   "metadata": {},
   "source": [
    "nombre_infected       832\n",
    "nombre_sain          1929\n",
    "nombre_exposed        375\n",
    "nombre_recovered    16864\n",
    "Name: 441, dtype: int64"
   ]
  },
  {
   "cell_type": "markdown",
   "id": "3558d3d5",
   "metadata": {},
   "source": [
    "nombre_infected       825\n",
    "nombre_sain          1956\n",
    "nombre_exposed        380\n",
    "nombre_recovered    16839\n",
    "Name: 442, dtype: int64"
   ]
  },
  {
   "cell_type": "markdown",
   "id": "fb45d19f",
   "metadata": {},
   "source": [
    "nombre_infected       802\n",
    "nombre_sain          1969\n",
    "nombre_exposed        396\n",
    "nombre_recovered    16833\n",
    "Name: 443, dtype: int64"
   ]
  },
  {
   "cell_type": "markdown",
   "id": "7e55ac8c",
   "metadata": {},
   "source": [
    "nombre_infected       790\n",
    "nombre_sain          2002\n",
    "nombre_exposed        387\n",
    "nombre_recovered    16821\n",
    "Name: 444, dtype: int64"
   ]
  },
  {
   "cell_type": "markdown",
   "id": "ef4e6c3b",
   "metadata": {},
   "source": [
    "nombre_infected       791\n",
    "nombre_sain          2001\n",
    "nombre_exposed        394\n",
    "nombre_recovered    16814\n",
    "Name: 445, dtype: int64"
   ]
  },
  {
   "cell_type": "markdown",
   "id": "c1ceaef0",
   "metadata": {},
   "source": [
    "nombre_infected       779\n",
    "nombre_sain          2034\n",
    "nombre_exposed        397\n",
    "nombre_recovered    16790\n",
    "Name: 446, dtype: int64"
   ]
  },
  {
   "cell_type": "markdown",
   "id": "6d2ad415",
   "metadata": {},
   "source": [
    "nombre_infected       791\n",
    "nombre_sain          2054\n",
    "nombre_exposed        397\n",
    "nombre_recovered    16758\n",
    "Name: 447, dtype: int64"
   ]
  },
  {
   "cell_type": "markdown",
   "id": "8e7d3065",
   "metadata": {},
   "source": [
    "nombre_infected       803\n",
    "nombre_sain          2066\n",
    "nombre_exposed        376\n",
    "nombre_recovered    16755\n",
    "Name: 448, dtype: int64"
   ]
  },
  {
   "cell_type": "markdown",
   "id": "df52f8ac",
   "metadata": {},
   "source": [
    "nombre_infected       784\n",
    "nombre_sain          2101\n",
    "nombre_exposed        376\n",
    "nombre_recovered    16739\n",
    "Name: 449, dtype: int64"
   ]
  },
  {
   "cell_type": "markdown",
   "id": "70a195e4",
   "metadata": {},
   "source": [
    "nombre_infected       760\n",
    "nombre_sain          2134\n",
    "nombre_exposed        383\n",
    "nombre_recovered    16723\n",
    "Name: 450, dtype: int64"
   ]
  },
  {
   "cell_type": "markdown",
   "id": "bb1ced80",
   "metadata": {},
   "source": [
    "nombre_infected       762\n",
    "nombre_sain          2159\n",
    "nombre_exposed        370\n",
    "nombre_recovered    16709\n",
    "Name: 451, dtype: int64"
   ]
  },
  {
   "cell_type": "markdown",
   "id": "99ee70c0",
   "metadata": {},
   "source": [
    "nombre_infected       766\n",
    "nombre_sain          2193\n",
    "nombre_exposed        363\n",
    "nombre_recovered    16678\n",
    "Name: 452, dtype: int64"
   ]
  },
  {
   "cell_type": "markdown",
   "id": "5ebb6977",
   "metadata": {},
   "source": [
    "nombre_infected       767\n",
    "nombre_sain          2224\n",
    "nombre_exposed        362\n",
    "nombre_recovered    16647\n",
    "Name: 453, dtype: int64"
   ]
  },
  {
   "cell_type": "markdown",
   "id": "3d44a908",
   "metadata": {},
   "source": [
    "nombre_infected       757\n",
    "nombre_sain          2260\n",
    "nombre_exposed        374\n",
    "nombre_recovered    16609\n",
    "Name: 454, dtype: int64"
   ]
  },
  {
   "cell_type": "markdown",
   "id": "67733d7c",
   "metadata": {},
   "source": [
    "nombre_infected       764\n",
    "nombre_sain          2270\n",
    "nombre_exposed        386\n",
    "nombre_recovered    16580\n",
    "Name: 455, dtype: int64"
   ]
  },
  {
   "cell_type": "markdown",
   "id": "d206399a",
   "metadata": {},
   "source": [
    "nombre_infected       744\n",
    "nombre_sain          2275\n",
    "nombre_exposed        396\n",
    "nombre_recovered    16585\n",
    "Name: 456, dtype: int64"
   ]
  },
  {
   "cell_type": "markdown",
   "id": "24917285",
   "metadata": {},
   "source": [
    "nombre_infected       750\n",
    "nombre_sain          2300\n",
    "nombre_exposed        389\n",
    "nombre_recovered    16561\n",
    "Name: 457, dtype: int64"
   ]
  },
  {
   "cell_type": "markdown",
   "id": "6e4ebcf6",
   "metadata": {},
   "source": [
    "nombre_infected       730\n",
    "nombre_sain          2330\n",
    "nombre_exposed        402\n",
    "nombre_recovered    16538\n",
    "Name: 458, dtype: int64"
   ]
  },
  {
   "cell_type": "markdown",
   "id": "d6c924e6",
   "metadata": {},
   "source": [
    "nombre_infected       738\n",
    "nombre_sain          2371\n",
    "nombre_exposed        397\n",
    "nombre_recovered    16494\n",
    "Name: 459, dtype: int64"
   ]
  },
  {
   "cell_type": "markdown",
   "id": "e787d52c",
   "metadata": {},
   "source": [
    "nombre_infected       744\n",
    "nombre_sain          2399\n",
    "nombre_exposed        411\n",
    "nombre_recovered    16446\n",
    "Name: 460, dtype: int64"
   ]
  },
  {
   "cell_type": "markdown",
   "id": "2f7af4d4",
   "metadata": {},
   "source": [
    "nombre_infected       747\n",
    "nombre_sain          2407\n",
    "nombre_exposed        410\n",
    "nombre_recovered    16436\n",
    "Name: 461, dtype: int64"
   ]
  },
  {
   "cell_type": "markdown",
   "id": "111a4985",
   "metadata": {},
   "source": [
    "nombre_infected       735\n",
    "nombre_sain          2390\n",
    "nombre_exposed        424\n",
    "nombre_recovered    16451\n",
    "Name: 462, dtype: int64"
   ]
  },
  {
   "cell_type": "markdown",
   "id": "4c21a998",
   "metadata": {},
   "source": [
    "nombre_infected       749\n",
    "nombre_sain          2411\n",
    "nombre_exposed        419\n",
    "nombre_recovered    16421\n",
    "Name: 463, dtype: int64"
   ]
  },
  {
   "cell_type": "markdown",
   "id": "be9a7feb",
   "metadata": {},
   "source": [
    "nombre_infected       774\n",
    "nombre_sain          2432\n",
    "nombre_exposed        410\n",
    "nombre_recovered    16384\n",
    "Name: 464, dtype: int64"
   ]
  },
  {
   "cell_type": "markdown",
   "id": "edae50a6",
   "metadata": {},
   "source": [
    "nombre_infected       795\n",
    "nombre_sain          2420\n",
    "nombre_exposed        422\n",
    "nombre_recovered    16363\n",
    "Name: 465, dtype: int64"
   ]
  },
  {
   "cell_type": "markdown",
   "id": "9195c112",
   "metadata": {},
   "source": [
    "nombre_infected       782\n",
    "nombre_sain          2421\n",
    "nombre_exposed        444\n",
    "nombre_recovered    16353\n",
    "Name: 466, dtype: int64"
   ]
  },
  {
   "cell_type": "markdown",
   "id": "83a3804d",
   "metadata": {},
   "source": [
    "nombre_infected       792\n",
    "nombre_sain          2409\n",
    "nombre_exposed        444\n",
    "nombre_recovered    16355\n",
    "Name: 467, dtype: int64"
   ]
  },
  {
   "cell_type": "markdown",
   "id": "79e98e40",
   "metadata": {},
   "source": [
    "nombre_infected       820\n",
    "nombre_sain          2360\n",
    "nombre_exposed        455\n",
    "nombre_recovered    16365\n",
    "Name: 468, dtype: int64"
   ]
  },
  {
   "cell_type": "markdown",
   "id": "0ff17f7c",
   "metadata": {},
   "source": [
    "nombre_infected       848\n",
    "nombre_sain          2363\n",
    "nombre_exposed        429\n",
    "nombre_recovered    16360\n",
    "Name: 469, dtype: int64"
   ]
  },
  {
   "cell_type": "markdown",
   "id": "f66dc140",
   "metadata": {},
   "source": [
    "nombre_infected       867\n",
    "nombre_sain          2353\n",
    "nombre_exposed        428\n",
    "nombre_recovered    16352\n",
    "Name: 470, dtype: int64"
   ]
  },
  {
   "cell_type": "markdown",
   "id": "81af97ea",
   "metadata": {},
   "source": [
    "nombre_infected       861\n",
    "nombre_sain          2363\n",
    "nombre_exposed        432\n",
    "nombre_recovered    16344\n",
    "Name: 471, dtype: int64"
   ]
  },
  {
   "cell_type": "markdown",
   "id": "eb1633b3",
   "metadata": {},
   "source": [
    "nombre_infected       864\n",
    "nombre_sain          2337\n",
    "nombre_exposed        444\n",
    "nombre_recovered    16355\n",
    "Name: 472, dtype: int64"
   ]
  },
  {
   "cell_type": "markdown",
   "id": "a670260b",
   "metadata": {},
   "source": [
    "nombre_infected       852\n",
    "nombre_sain          2323\n",
    "nombre_exposed        472\n",
    "nombre_recovered    16353\n",
    "Name: 473, dtype: int64"
   ]
  },
  {
   "cell_type": "markdown",
   "id": "01cdf932",
   "metadata": {},
   "source": [
    "nombre_infected       845\n",
    "nombre_sain          2308\n",
    "nombre_exposed        496\n",
    "nombre_recovered    16351\n",
    "Name: 474, dtype: int64"
   ]
  },
  {
   "cell_type": "markdown",
   "id": "a7e85d3d",
   "metadata": {},
   "source": [
    "nombre_infected       842\n",
    "nombre_sain          2324\n",
    "nombre_exposed        489\n",
    "nombre_recovered    16345\n",
    "Name: 475, dtype: int64"
   ]
  },
  {
   "cell_type": "markdown",
   "id": "fd4803d2",
   "metadata": {},
   "source": [
    "nombre_infected       870\n",
    "nombre_sain          2297\n",
    "nombre_exposed        484\n",
    "nombre_recovered    16349\n",
    "Name: 476, dtype: int64"
   ]
  },
  {
   "cell_type": "markdown",
   "id": "01c0a0b1",
   "metadata": {},
   "source": [
    "nombre_infected       883\n",
    "nombre_sain          2313\n",
    "nombre_exposed        466\n",
    "nombre_recovered    16338\n",
    "Name: 477, dtype: int64"
   ]
  },
  {
   "cell_type": "markdown",
   "id": "4639d2fd",
   "metadata": {},
   "source": [
    "nombre_infected       900\n",
    "nombre_sain          2318\n",
    "nombre_exposed        473\n",
    "nombre_recovered    16309\n",
    "Name: 478, dtype: int64"
   ]
  },
  {
   "cell_type": "markdown",
   "id": "3f167f95",
   "metadata": {},
   "source": [
    "nombre_infected       893\n",
    "nombre_sain          2302\n",
    "nombre_exposed        472\n",
    "nombre_recovered    16333\n",
    "Name: 479, dtype: int64"
   ]
  },
  {
   "cell_type": "markdown",
   "id": "19597cb2",
   "metadata": {},
   "source": [
    "nombre_infected       887\n",
    "nombre_sain          2339\n",
    "nombre_exposed        475\n",
    "nombre_recovered    16299\n",
    "Name: 480, dtype: int64"
   ]
  },
  {
   "cell_type": "markdown",
   "id": "a62c11c3",
   "metadata": {},
   "source": [
    "nombre_infected       897\n",
    "nombre_sain          2353\n",
    "nombre_exposed        478\n",
    "nombre_recovered    16272\n",
    "Name: 481, dtype: int64"
   ]
  },
  {
   "cell_type": "markdown",
   "id": "4033934d",
   "metadata": {},
   "source": [
    "nombre_infected       875\n",
    "nombre_sain          2334\n",
    "nombre_exposed        500\n",
    "nombre_recovered    16291\n",
    "Name: 482, dtype: int64"
   ]
  },
  {
   "cell_type": "markdown",
   "id": "e5a1339f",
   "metadata": {},
   "source": [
    "nombre_infected       896\n",
    "nombre_sain          2362\n",
    "nombre_exposed        469\n",
    "nombre_recovered    16273\n",
    "Name: 483, dtype: int64"
   ]
  },
  {
   "cell_type": "markdown",
   "id": "d654326a",
   "metadata": {},
   "source": [
    "nombre_infected       894\n",
    "nombre_sain          2374\n",
    "nombre_exposed        457\n",
    "nombre_recovered    16275\n",
    "Name: 484, dtype: int64"
   ]
  },
  {
   "cell_type": "markdown",
   "id": "a9fff8cf",
   "metadata": {},
   "source": [
    "nombre_infected       873\n",
    "nombre_sain          2366\n",
    "nombre_exposed        450\n",
    "nombre_recovered    16311\n",
    "Name: 485, dtype: int64"
   ]
  },
  {
   "cell_type": "markdown",
   "id": "35154c19",
   "metadata": {},
   "source": [
    "nombre_infected       864\n",
    "nombre_sain          2377\n",
    "nombre_exposed        444\n",
    "nombre_recovered    16315\n",
    "Name: 486, dtype: int64"
   ]
  },
  {
   "cell_type": "markdown",
   "id": "b76b8c42",
   "metadata": {},
   "source": [
    "nombre_infected       868\n",
    "nombre_sain          2391\n",
    "nombre_exposed        447\n",
    "nombre_recovered    16294\n",
    "Name: 487, dtype: int64"
   ]
  },
  {
   "cell_type": "markdown",
   "id": "93c1e355",
   "metadata": {},
   "source": [
    "nombre_infected       876\n",
    "nombre_sain          2378\n",
    "nombre_exposed        473\n",
    "nombre_recovered    16273\n",
    "Name: 488, dtype: int64"
   ]
  },
  {
   "cell_type": "markdown",
   "id": "b776c9e9",
   "metadata": {},
   "source": [
    "nombre_infected       879\n",
    "nombre_sain          2363\n",
    "nombre_exposed        483\n",
    "nombre_recovered    16275\n",
    "Name: 489, dtype: int64"
   ]
  },
  {
   "cell_type": "markdown",
   "id": "c76dfb00",
   "metadata": {},
   "source": [
    "nombre_infected       894\n",
    "nombre_sain          2347\n",
    "nombre_exposed        491\n",
    "nombre_recovered    16268\n",
    "Name: 490, dtype: int64"
   ]
  },
  {
   "cell_type": "markdown",
   "id": "c0655ba0",
   "metadata": {},
   "source": [
    "nombre_infected       909\n",
    "nombre_sain          2348\n",
    "nombre_exposed        503\n",
    "nombre_recovered    16240\n",
    "Name: 491, dtype: int64"
   ]
  },
  {
   "cell_type": "markdown",
   "id": "d466d8a8",
   "metadata": {},
   "source": [
    "nombre_infected       918\n",
    "nombre_sain          2336\n",
    "nombre_exposed        516\n",
    "nombre_recovered    16230\n",
    "Name: 492, dtype: int64"
   ]
  },
  {
   "cell_type": "markdown",
   "id": "7e555ba5",
   "metadata": {},
   "source": [
    "nombre_infected       944\n",
    "nombre_sain          2316\n",
    "nombre_exposed        492\n",
    "nombre_recovered    16248\n",
    "Name: 493, dtype: int64"
   ]
  },
  {
   "cell_type": "markdown",
   "id": "ec9b6daf",
   "metadata": {},
   "source": [
    "nombre_infected       945\n",
    "nombre_sain          2288\n",
    "nombre_exposed        524\n",
    "nombre_recovered    16243\n",
    "Name: 494, dtype: int64"
   ]
  },
  {
   "cell_type": "markdown",
   "id": "35c4a87e",
   "metadata": {},
   "source": [
    "nombre_infected       945\n",
    "nombre_sain          2299\n",
    "nombre_exposed        540\n",
    "nombre_recovered    16216\n",
    "Name: 495, dtype: int64"
   ]
  },
  {
   "cell_type": "markdown",
   "id": "de9aff6d",
   "metadata": {},
   "source": [
    "nombre_infected       979\n",
    "nombre_sain          2292\n",
    "nombre_exposed        544\n",
    "nombre_recovered    16185\n",
    "Name: 496, dtype: int64"
   ]
  },
  {
   "cell_type": "markdown",
   "id": "5ad6f8a1",
   "metadata": {},
   "source": [
    "nombre_infected      1006\n",
    "nombre_sain          2278\n",
    "nombre_exposed        548\n",
    "nombre_recovered    16168\n",
    "Name: 497, dtype: int64"
   ]
  },
  {
   "cell_type": "markdown",
   "id": "e16c52f5",
   "metadata": {},
   "source": [
    "nombre_infected      1019\n",
    "nombre_sain          2276\n",
    "nombre_exposed        503\n",
    "nombre_recovered    16202\n",
    "Name: 498, dtype: int64"
   ]
  },
  {
   "cell_type": "markdown",
   "id": "dbf3ab48",
   "metadata": {},
   "source": [
    "nombre_infected      1034\n",
    "nombre_sain          2267\n",
    "nombre_exposed        509\n",
    "nombre_recovered    16190\n",
    "Name: 499, dtype: int64"
   ]
  },
  {
   "cell_type": "markdown",
   "id": "46d485a7",
   "metadata": {},
   "source": [
    "nombre_infected      1010\n",
    "nombre_sain          2222\n",
    "nombre_exposed        548\n",
    "nombre_recovered    16220\n",
    "Name: 500, dtype: int64"
   ]
  },
  {
   "cell_type": "markdown",
   "id": "1dddf6cb",
   "metadata": {},
   "source": [
    "nombre_infected       981\n",
    "nombre_sain          2192\n",
    "nombre_exposed        557\n",
    "nombre_recovered    16270\n",
    "Name: 501, dtype: int64"
   ]
  },
  {
   "cell_type": "markdown",
   "id": "118ca37d",
   "metadata": {},
   "source": [
    "nombre_infected       984\n",
    "nombre_sain          2173\n",
    "nombre_exposed        559\n",
    "nombre_recovered    16284\n",
    "Name: 502, dtype: int64"
   ]
  },
  {
   "cell_type": "markdown",
   "id": "b41429a2",
   "metadata": {},
   "source": [
    "nombre_infected      1013\n",
    "nombre_sain          2139\n",
    "nombre_exposed        540\n",
    "nombre_recovered    16308\n",
    "Name: 503, dtype: int64"
   ]
  },
  {
   "cell_type": "markdown",
   "id": "6f25bc88",
   "metadata": {},
   "source": [
    "nombre_infected       993\n",
    "nombre_sain          2107\n",
    "nombre_exposed        578\n",
    "nombre_recovered    16322\n",
    "Name: 504, dtype: int64"
   ]
  },
  {
   "cell_type": "markdown",
   "id": "b43f3915",
   "metadata": {},
   "source": [
    "nombre_infected      1008\n",
    "nombre_sain          2116\n",
    "nombre_exposed        556\n",
    "nombre_recovered    16320\n",
    "Name: 505, dtype: int64"
   ]
  },
  {
   "cell_type": "markdown",
   "id": "b9e1ff7f",
   "metadata": {},
   "source": [
    "nombre_infected      1006\n",
    "nombre_sain          2089\n",
    "nombre_exposed        561\n",
    "nombre_recovered    16344\n",
    "Name: 506, dtype: int64"
   ]
  },
  {
   "cell_type": "markdown",
   "id": "6ee8af5f",
   "metadata": {},
   "source": [
    "nombre_infected       998\n",
    "nombre_sain          2082\n",
    "nombre_exposed        561\n",
    "nombre_recovered    16359\n",
    "Name: 507, dtype: int64"
   ]
  },
  {
   "cell_type": "markdown",
   "id": "cf9e3791",
   "metadata": {},
   "source": [
    "nombre_infected       995\n",
    "nombre_sain          2077\n",
    "nombre_exposed        567\n",
    "nombre_recovered    16361\n",
    "Name: 508, dtype: int64"
   ]
  },
  {
   "cell_type": "markdown",
   "id": "0492295c",
   "metadata": {},
   "source": [
    "nombre_infected      1008\n",
    "nombre_sain          2084\n",
    "nombre_exposed        553\n",
    "nombre_recovered    16355\n",
    "Name: 509, dtype: int64"
   ]
  },
  {
   "cell_type": "markdown",
   "id": "624641b2",
   "metadata": {},
   "source": [
    "nombre_infected      1008\n",
    "nombre_sain          2096\n",
    "nombre_exposed        538\n",
    "nombre_recovered    16358\n",
    "Name: 510, dtype: int64"
   ]
  },
  {
   "cell_type": "markdown",
   "id": "b17ba07f",
   "metadata": {},
   "source": [
    "nombre_infected      1002\n",
    "nombre_sain          2089\n",
    "nombre_exposed        539\n",
    "nombre_recovered    16370\n",
    "Name: 511, dtype: int64"
   ]
  },
  {
   "cell_type": "markdown",
   "id": "c8632de7",
   "metadata": {},
   "source": [
    "nombre_infected       970\n",
    "nombre_sain          2077\n",
    "nombre_exposed        564\n",
    "nombre_recovered    16389\n",
    "Name: 512, dtype: int64"
   ]
  },
  {
   "cell_type": "markdown",
   "id": "af623bab",
   "metadata": {},
   "source": [
    "nombre_infected       966\n",
    "nombre_sain          2075\n",
    "nombre_exposed        569\n",
    "nombre_recovered    16390\n",
    "Name: 513, dtype: int64"
   ]
  },
  {
   "cell_type": "markdown",
   "id": "a14e9f1e",
   "metadata": {},
   "source": [
    "nombre_infected       974\n",
    "nombre_sain          2084\n",
    "nombre_exposed        529\n",
    "nombre_recovered    16413\n",
    "Name: 514, dtype: int64"
   ]
  },
  {
   "cell_type": "markdown",
   "id": "086f0ada",
   "metadata": {},
   "source": [
    "nombre_infected      1003\n",
    "nombre_sain          2102\n",
    "nombre_exposed        502\n",
    "nombre_recovered    16393\n",
    "Name: 515, dtype: int64"
   ]
  },
  {
   "cell_type": "markdown",
   "id": "1da2a177",
   "metadata": {},
   "source": [
    "nombre_infected       992\n",
    "nombre_sain          2101\n",
    "nombre_exposed        499\n",
    "nombre_recovered    16408\n",
    "Name: 516, dtype: int64"
   ]
  },
  {
   "cell_type": "markdown",
   "id": "c5ff199e",
   "metadata": {},
   "source": [
    "nombre_infected       987\n",
    "nombre_sain          2068\n",
    "nombre_exposed        512\n",
    "nombre_recovered    16433\n",
    "Name: 517, dtype: int64"
   ]
  },
  {
   "cell_type": "markdown",
   "id": "c433a402",
   "metadata": {},
   "source": [
    "nombre_infected       984\n",
    "nombre_sain          2081\n",
    "nombre_exposed        506\n",
    "nombre_recovered    16429\n",
    "Name: 518, dtype: int64"
   ]
  },
  {
   "cell_type": "markdown",
   "id": "837b7697",
   "metadata": {},
   "source": [
    "nombre_infected       980\n",
    "nombre_sain          2066\n",
    "nombre_exposed        490\n",
    "nombre_recovered    16464\n",
    "Name: 519, dtype: int64"
   ]
  },
  {
   "cell_type": "markdown",
   "id": "d3a8a986",
   "metadata": {},
   "source": [
    "nombre_infected       971\n",
    "nombre_sain          2086\n",
    "nombre_exposed        473\n",
    "nombre_recovered    16470\n",
    "Name: 520, dtype: int64"
   ]
  },
  {
   "cell_type": "markdown",
   "id": "5f79f688",
   "metadata": {},
   "source": [
    "nombre_infected       955\n",
    "nombre_sain          2045\n",
    "nombre_exposed        481\n",
    "nombre_recovered    16519\n",
    "Name: 521, dtype: int64"
   ]
  },
  {
   "cell_type": "markdown",
   "id": "75497bb8",
   "metadata": {},
   "source": [
    "nombre_infected       939\n",
    "nombre_sain          2051\n",
    "nombre_exposed        482\n",
    "nombre_recovered    16528\n",
    "Name: 522, dtype: int64"
   ]
  },
  {
   "cell_type": "markdown",
   "id": "b7c6c43d",
   "metadata": {},
   "source": [
    "nombre_infected       953\n",
    "nombre_sain          2051\n",
    "nombre_exposed        504\n",
    "nombre_recovered    16492\n",
    "Name: 523, dtype: int64"
   ]
  },
  {
   "cell_type": "markdown",
   "id": "9d4538f6",
   "metadata": {},
   "source": [
    "nombre_infected       933\n",
    "nombre_sain          2060\n",
    "nombre_exposed        504\n",
    "nombre_recovered    16503\n",
    "Name: 524, dtype: int64"
   ]
  },
  {
   "cell_type": "markdown",
   "id": "c10d4c22",
   "metadata": {},
   "source": [
    "nombre_infected       941\n",
    "nombre_sain          2067\n",
    "nombre_exposed        490\n",
    "nombre_recovered    16502\n",
    "Name: 525, dtype: int64"
   ]
  },
  {
   "cell_type": "markdown",
   "id": "ede0e06e",
   "metadata": {},
   "source": [
    "nombre_infected       927\n",
    "nombre_sain          2076\n",
    "nombre_exposed        499\n",
    "nombre_recovered    16498\n",
    "Name: 526, dtype: int64"
   ]
  },
  {
   "cell_type": "markdown",
   "id": "aa26269b",
   "metadata": {},
   "source": [
    "nombre_infected       893\n",
    "nombre_sain          2077\n",
    "nombre_exposed        501\n",
    "nombre_recovered    16529\n",
    "Name: 527, dtype: int64"
   ]
  },
  {
   "cell_type": "markdown",
   "id": "22ea6cd7",
   "metadata": {},
   "source": [
    "nombre_infected       895\n",
    "nombre_sain          2076\n",
    "nombre_exposed        489\n",
    "nombre_recovered    16540\n",
    "Name: 528, dtype: int64"
   ]
  },
  {
   "cell_type": "markdown",
   "id": "c52b01ec",
   "metadata": {},
   "source": [
    "nombre_infected       881\n",
    "nombre_sain          2099\n",
    "nombre_exposed        480\n",
    "nombre_recovered    16540\n",
    "Name: 529, dtype: int64"
   ]
  },
  {
   "cell_type": "markdown",
   "id": "317b7c10",
   "metadata": {},
   "source": [
    "nombre_infected       896\n",
    "nombre_sain          2125\n",
    "nombre_exposed        474\n",
    "nombre_recovered    16505\n",
    "Name: 530, dtype: int64"
   ]
  },
  {
   "cell_type": "markdown",
   "id": "eab7dcc8",
   "metadata": {},
   "source": [
    "nombre_infected       877\n",
    "nombre_sain          2148\n",
    "nombre_exposed        476\n",
    "nombre_recovered    16499\n",
    "Name: 531, dtype: int64"
   ]
  },
  {
   "cell_type": "markdown",
   "id": "825e99d3",
   "metadata": {},
   "source": [
    "nombre_infected       866\n",
    "nombre_sain          2161\n",
    "nombre_exposed        470\n",
    "nombre_recovered    16503\n",
    "Name: 532, dtype: int64"
   ]
  },
  {
   "cell_type": "markdown",
   "id": "24454dc8",
   "metadata": {},
   "source": [
    "nombre_infected       847\n",
    "nombre_sain          2198\n",
    "nombre_exposed        460\n",
    "nombre_recovered    16495\n",
    "Name: 533, dtype: int64"
   ]
  },
  {
   "cell_type": "markdown",
   "id": "b3d855be",
   "metadata": {},
   "source": [
    "nombre_infected       856\n",
    "nombre_sain          2235\n",
    "nombre_exposed        449\n",
    "nombre_recovered    16460\n",
    "Name: 534, dtype: int64"
   ]
  },
  {
   "cell_type": "markdown",
   "id": "51149f6d",
   "metadata": {},
   "source": [
    "nombre_infected       843\n",
    "nombre_sain          2259\n",
    "nombre_exposed        456\n",
    "nombre_recovered    16442\n",
    "Name: 535, dtype: int64"
   ]
  },
  {
   "cell_type": "markdown",
   "id": "ccb5451f",
   "metadata": {},
   "source": [
    "nombre_infected       845\n",
    "nombre_sain          2247\n",
    "nombre_exposed        467\n",
    "nombre_recovered    16441\n",
    "Name: 536, dtype: int64"
   ]
  },
  {
   "cell_type": "markdown",
   "id": "295d3031",
   "metadata": {},
   "source": [
    "nombre_infected       820\n",
    "nombre_sain          2263\n",
    "nombre_exposed        491\n",
    "nombre_recovered    16426\n",
    "Name: 537, dtype: int64"
   ]
  },
  {
   "cell_type": "markdown",
   "id": "282addff",
   "metadata": {},
   "source": [
    "nombre_infected       823\n",
    "nombre_sain          2303\n",
    "nombre_exposed        459\n",
    "nombre_recovered    16415\n",
    "Name: 538, dtype: int64"
   ]
  },
  {
   "cell_type": "markdown",
   "id": "7717ffb5",
   "metadata": {},
   "source": [
    "nombre_infected       831\n",
    "nombre_sain          2294\n",
    "nombre_exposed        465\n",
    "nombre_recovered    16410\n",
    "Name: 539, dtype: int64"
   ]
  },
  {
   "cell_type": "markdown",
   "id": "890c7d94",
   "metadata": {},
   "source": [
    "nombre_infected       838\n",
    "nombre_sain          2312\n",
    "nombre_exposed        473\n",
    "nombre_recovered    16377\n",
    "Name: 540, dtype: int64"
   ]
  },
  {
   "cell_type": "markdown",
   "id": "34bd5ab1",
   "metadata": {},
   "source": [
    "nombre_infected       824\n",
    "nombre_sain          2328\n",
    "nombre_exposed        473\n",
    "nombre_recovered    16375\n",
    "Name: 541, dtype: int64"
   ]
  },
  {
   "cell_type": "markdown",
   "id": "812d46cd",
   "metadata": {},
   "source": [
    "nombre_infected       826\n",
    "nombre_sain          2323\n",
    "nombre_exposed        491\n",
    "nombre_recovered    16360\n",
    "Name: 542, dtype: int64"
   ]
  },
  {
   "cell_type": "markdown",
   "id": "380c7d5c",
   "metadata": {},
   "source": [
    "nombre_infected       823\n",
    "nombre_sain          2293\n",
    "nombre_exposed        515\n",
    "nombre_recovered    16369\n",
    "Name: 543, dtype: int64"
   ]
  },
  {
   "cell_type": "markdown",
   "id": "3fa58377",
   "metadata": {},
   "source": [
    "nombre_infected       831\n",
    "nombre_sain          2280\n",
    "nombre_exposed        529\n",
    "nombre_recovered    16360\n",
    "Name: 544, dtype: int64"
   ]
  },
  {
   "cell_type": "markdown",
   "id": "6a3215f0",
   "metadata": {},
   "source": [
    "nombre_infected       842\n",
    "nombre_sain          2274\n",
    "nombre_exposed        517\n",
    "nombre_recovered    16367\n",
    "Name: 545, dtype: int64"
   ]
  },
  {
   "cell_type": "markdown",
   "id": "f51d3b70",
   "metadata": {},
   "source": [
    "nombre_infected       866\n",
    "nombre_sain          2254\n",
    "nombre_exposed        518\n",
    "nombre_recovered    16362\n",
    "Name: 546, dtype: int64"
   ]
  },
  {
   "cell_type": "markdown",
   "id": "f25acd46",
   "metadata": {},
   "source": [
    "nombre_infected       868\n",
    "nombre_sain          2235\n",
    "nombre_exposed        522\n",
    "nombre_recovered    16375\n",
    "Name: 547, dtype: int64"
   ]
  },
  {
   "cell_type": "markdown",
   "id": "02470e2a",
   "metadata": {},
   "source": [
    "nombre_infected       863\n",
    "nombre_sain          2215\n",
    "nombre_exposed        547\n",
    "nombre_recovered    16375\n",
    "Name: 548, dtype: int64"
   ]
  },
  {
   "cell_type": "markdown",
   "id": "e6eedc04",
   "metadata": {},
   "source": [
    "nombre_infected       890\n",
    "nombre_sain          2218\n",
    "nombre_exposed        556\n",
    "nombre_recovered    16336\n",
    "Name: 549, dtype: int64"
   ]
  },
  {
   "cell_type": "markdown",
   "id": "de358839",
   "metadata": {},
   "source": [
    "nombre_infected       903\n",
    "nombre_sain          2227\n",
    "nombre_exposed        559\n",
    "nombre_recovered    16311\n",
    "Name: 550, dtype: int64"
   ]
  },
  {
   "cell_type": "markdown",
   "id": "95055dec",
   "metadata": {},
   "source": [
    "nombre_infected       927\n",
    "nombre_sain          2206\n",
    "nombre_exposed        549\n",
    "nombre_recovered    16318\n",
    "Name: 551, dtype: int64"
   ]
  },
  {
   "cell_type": "markdown",
   "id": "03ac7b03",
   "metadata": {},
   "source": [
    "nombre_infected       939\n",
    "nombre_sain          2188\n",
    "nombre_exposed        544\n",
    "nombre_recovered    16329\n",
    "Name: 552, dtype: int64"
   ]
  },
  {
   "cell_type": "markdown",
   "id": "3ebc0959",
   "metadata": {},
   "source": [
    "nombre_infected       958\n",
    "nombre_sain          2180\n",
    "nombre_exposed        549\n",
    "nombre_recovered    16313\n",
    "Name: 553, dtype: int64"
   ]
  },
  {
   "cell_type": "markdown",
   "id": "e091ced2",
   "metadata": {},
   "source": [
    "nombre_infected       975\n",
    "nombre_sain          2170\n",
    "nombre_exposed        541\n",
    "nombre_recovered    16314\n",
    "Name: 554, dtype: int64"
   ]
  },
  {
   "cell_type": "markdown",
   "id": "c7236b8f",
   "metadata": {},
   "source": [
    "nombre_infected       998\n",
    "nombre_sain          2157\n",
    "nombre_exposed        547\n",
    "nombre_recovered    16298\n",
    "Name: 555, dtype: int64"
   ]
  },
  {
   "cell_type": "markdown",
   "id": "bb71a45a",
   "metadata": {},
   "source": [
    "nombre_infected      1011\n",
    "nombre_sain          2166\n",
    "nombre_exposed        536\n",
    "nombre_recovered    16287\n",
    "Name: 556, dtype: int64"
   ]
  },
  {
   "cell_type": "markdown",
   "id": "7737b6c0",
   "metadata": {},
   "source": [
    "nombre_infected      1010\n",
    "nombre_sain          2141\n",
    "nombre_exposed        548\n",
    "nombre_recovered    16301\n",
    "Name: 557, dtype: int64"
   ]
  },
  {
   "cell_type": "markdown",
   "id": "50e72dc4",
   "metadata": {},
   "source": [
    "nombre_infected       995\n",
    "nombre_sain          2119\n",
    "nombre_exposed        574\n",
    "nombre_recovered    16312\n",
    "Name: 558, dtype: int64"
   ]
  },
  {
   "cell_type": "markdown",
   "id": "66ca7ee3",
   "metadata": {},
   "source": [
    "nombre_infected      1001\n",
    "nombre_sain          2128\n",
    "nombre_exposed        571\n",
    "nombre_recovered    16300\n",
    "Name: 559, dtype: int64"
   ]
  },
  {
   "cell_type": "markdown",
   "id": "91a52012",
   "metadata": {},
   "source": [
    "nombre_infected      1022\n",
    "nombre_sain          2129\n",
    "nombre_exposed        545\n",
    "nombre_recovered    16304\n",
    "Name: 560, dtype: int64"
   ]
  },
  {
   "cell_type": "markdown",
   "id": "8aae2846",
   "metadata": {},
   "source": [
    "nombre_infected      1038\n",
    "nombre_sain          2121\n",
    "nombre_exposed        555\n",
    "nombre_recovered    16286\n",
    "Name: 561, dtype: int64"
   ]
  },
  {
   "cell_type": "markdown",
   "id": "cf4c8c12",
   "metadata": {},
   "source": [
    "nombre_infected      1031\n",
    "nombre_sain          2089\n",
    "nombre_exposed        580\n",
    "nombre_recovered    16300\n",
    "Name: 562, dtype: int64"
   ]
  },
  {
   "cell_type": "markdown",
   "id": "985dcd47",
   "metadata": {},
   "source": [
    "nombre_infected      1037\n",
    "nombre_sain          2068\n",
    "nombre_exposed        585\n",
    "nombre_recovered    16310\n",
    "Name: 563, dtype: int64"
   ]
  },
  {
   "cell_type": "markdown",
   "id": "296e77bc",
   "metadata": {},
   "source": [
    "nombre_infected      1040\n",
    "nombre_sain          2028\n",
    "nombre_exposed        603\n",
    "nombre_recovered    16329\n",
    "Name: 564, dtype: int64"
   ]
  },
  {
   "cell_type": "markdown",
   "id": "416dc6ed",
   "metadata": {},
   "source": [
    "nombre_infected      1062\n",
    "nombre_sain          1988\n",
    "nombre_exposed        604\n",
    "nombre_recovered    16346\n",
    "Name: 565, dtype: int64"
   ]
  },
  {
   "cell_type": "markdown",
   "id": "3ebca14c",
   "metadata": {},
   "source": [
    "nombre_infected      1081\n",
    "nombre_sain          1994\n",
    "nombre_exposed        562\n",
    "nombre_recovered    16363\n",
    "Name: 566, dtype: int64"
   ]
  },
  {
   "cell_type": "markdown",
   "id": "a4a90b43",
   "metadata": {},
   "source": [
    "nombre_infected      1106\n",
    "nombre_sain          1961\n",
    "nombre_exposed        553\n",
    "nombre_recovered    16380\n",
    "Name: 567, dtype: int64"
   ]
  },
  {
   "cell_type": "markdown",
   "id": "1b254fe0",
   "metadata": {},
   "source": [
    "nombre_infected      1110\n",
    "nombre_sain          1963\n",
    "nombre_exposed        540\n",
    "nombre_recovered    16387\n",
    "Name: 568, dtype: int64"
   ]
  },
  {
   "cell_type": "markdown",
   "id": "342445a2",
   "metadata": {},
   "source": [
    "nombre_infected      1098\n",
    "nombre_sain          1937\n",
    "nombre_exposed        527\n",
    "nombre_recovered    16438\n",
    "Name: 569, dtype: int64"
   ]
  },
  {
   "cell_type": "markdown",
   "id": "768f341c",
   "metadata": {},
   "source": [
    "nombre_infected      1077\n",
    "nombre_sain          1933\n",
    "nombre_exposed        515\n",
    "nombre_recovered    16475\n",
    "Name: 570, dtype: int64"
   ]
  },
  {
   "cell_type": "markdown",
   "id": "de549b8f",
   "metadata": {},
   "source": [
    "nombre_infected      1069\n",
    "nombre_sain          1906\n",
    "nombre_exposed        518\n",
    "nombre_recovered    16507\n",
    "Name: 571, dtype: int64"
   ]
  },
  {
   "cell_type": "markdown",
   "id": "397249ce",
   "metadata": {},
   "source": [
    "nombre_infected      1042\n",
    "nombre_sain          1896\n",
    "nombre_exposed        520\n",
    "nombre_recovered    16542\n",
    "Name: 572, dtype: int64"
   ]
  },
  {
   "cell_type": "markdown",
   "id": "2a66fc34",
   "metadata": {},
   "source": [
    "nombre_infected      1001\n",
    "nombre_sain          1890\n",
    "nombre_exposed        513\n",
    "nombre_recovered    16596\n",
    "Name: 573, dtype: int64"
   ]
  },
  {
   "cell_type": "markdown",
   "id": "e06544c6",
   "metadata": {},
   "source": [
    "nombre_infected       995\n",
    "nombre_sain          1890\n",
    "nombre_exposed        493\n",
    "nombre_recovered    16622\n",
    "Name: 574, dtype: int64"
   ]
  },
  {
   "cell_type": "markdown",
   "id": "209a8f74",
   "metadata": {},
   "source": [
    "nombre_infected       985\n",
    "nombre_sain          1893\n",
    "nombre_exposed        491\n",
    "nombre_recovered    16631\n",
    "Name: 575, dtype: int64"
   ]
  },
  {
   "cell_type": "markdown",
   "id": "3d88b2df",
   "metadata": {},
   "source": [
    "nombre_infected       949\n",
    "nombre_sain          1899\n",
    "nombre_exposed        487\n",
    "nombre_recovered    16665\n",
    "Name: 576, dtype: int64"
   ]
  },
  {
   "cell_type": "markdown",
   "id": "80dc1b1f",
   "metadata": {},
   "source": [
    "nombre_infected       942\n",
    "nombre_sain          1905\n",
    "nombre_exposed        464\n",
    "nombre_recovered    16689\n",
    "Name: 577, dtype: int64"
   ]
  },
  {
   "cell_type": "markdown",
   "id": "a72972a5",
   "metadata": {},
   "source": [
    "nombre_infected       941\n",
    "nombre_sain          1895\n",
    "nombre_exposed        461\n",
    "nombre_recovered    16703\n",
    "Name: 578, dtype: int64"
   ]
  },
  {
   "cell_type": "markdown",
   "id": "f90eaa0e",
   "metadata": {},
   "source": [
    "nombre_infected       957\n",
    "nombre_sain          1877\n",
    "nombre_exposed        460\n",
    "nombre_recovered    16706\n",
    "Name: 579, dtype: int64"
   ]
  },
  {
   "cell_type": "markdown",
   "id": "e979ebf1",
   "metadata": {},
   "source": [
    "nombre_infected       917\n",
    "nombre_sain          1901\n",
    "nombre_exposed        447\n",
    "nombre_recovered    16735\n",
    "Name: 580, dtype: int64"
   ]
  },
  {
   "cell_type": "markdown",
   "id": "70aa6279",
   "metadata": {},
   "source": [
    "nombre_infected       925\n",
    "nombre_sain          1910\n",
    "nombre_exposed        440\n",
    "nombre_recovered    16725\n",
    "Name: 581, dtype: int64"
   ]
  },
  {
   "cell_type": "markdown",
   "id": "133f1c6a",
   "metadata": {},
   "source": [
    "nombre_infected       927\n",
    "nombre_sain          1923\n",
    "nombre_exposed        439\n",
    "nombre_recovered    16711\n",
    "Name: 582, dtype: int64"
   ]
  },
  {
   "cell_type": "markdown",
   "id": "f5bf6c5b",
   "metadata": {},
   "source": [
    "nombre_infected       915\n",
    "nombre_sain          1942\n",
    "nombre_exposed        424\n",
    "nombre_recovered    16719\n",
    "Name: 583, dtype: int64"
   ]
  },
  {
   "cell_type": "markdown",
   "id": "ebc19b90",
   "metadata": {},
   "source": [
    "nombre_infected       904\n",
    "nombre_sain          1948\n",
    "nombre_exposed        424\n",
    "nombre_recovered    16724\n",
    "Name: 584, dtype: int64"
   ]
  },
  {
   "cell_type": "markdown",
   "id": "0dd1cfa3",
   "metadata": {},
   "source": [
    "nombre_infected       879\n",
    "nombre_sain          1941\n",
    "nombre_exposed        440\n",
    "nombre_recovered    16740\n",
    "Name: 585, dtype: int64"
   ]
  },
  {
   "cell_type": "markdown",
   "id": "d13c7a01",
   "metadata": {},
   "source": [
    "nombre_infected       886\n",
    "nombre_sain          1943\n",
    "nombre_exposed        420\n",
    "nombre_recovered    16751\n",
    "Name: 586, dtype: int64"
   ]
  },
  {
   "cell_type": "markdown",
   "id": "e3118ba1",
   "metadata": {},
   "source": [
    "nombre_infected       862\n",
    "nombre_sain          1918\n",
    "nombre_exposed        441\n",
    "nombre_recovered    16779\n",
    "Name: 587, dtype: int64"
   ]
  },
  {
   "cell_type": "markdown",
   "id": "d05eddcf",
   "metadata": {},
   "source": [
    "nombre_infected       847\n",
    "nombre_sain          1926\n",
    "nombre_exposed        427\n",
    "nombre_recovered    16800\n",
    "Name: 588, dtype: int64"
   ]
  },
  {
   "cell_type": "markdown",
   "id": "87a42e55",
   "metadata": {},
   "source": [
    "nombre_infected       842\n",
    "nombre_sain          1929\n",
    "nombre_exposed        430\n",
    "nombre_recovered    16799\n",
    "Name: 589, dtype: int64"
   ]
  },
  {
   "cell_type": "markdown",
   "id": "e98cf3ea",
   "metadata": {},
   "source": [
    "nombre_infected       867\n",
    "nombre_sain          1961\n",
    "nombre_exposed        413\n",
    "nombre_recovered    16759\n",
    "Name: 590, dtype: int64"
   ]
  },
  {
   "cell_type": "markdown",
   "id": "75ee9fea",
   "metadata": {},
   "source": [
    "nombre_infected       872\n",
    "nombre_sain          1965\n",
    "nombre_exposed        402\n",
    "nombre_recovered    16761\n",
    "Name: 591, dtype: int64"
   ]
  },
  {
   "cell_type": "markdown",
   "id": "dbc2d8c4",
   "metadata": {},
   "source": [
    "nombre_infected       859\n",
    "nombre_sain          1988\n",
    "nombre_exposed        397\n",
    "nombre_recovered    16756\n",
    "Name: 592, dtype: int64"
   ]
  },
  {
   "cell_type": "markdown",
   "id": "b12f2325",
   "metadata": {},
   "source": [
    "nombre_infected       866\n",
    "nombre_sain          2001\n",
    "nombre_exposed        400\n",
    "nombre_recovered    16733\n",
    "Name: 593, dtype: int64"
   ]
  },
  {
   "cell_type": "markdown",
   "id": "db6ecef8",
   "metadata": {},
   "source": [
    "nombre_infected       848\n",
    "nombre_sain          2026\n",
    "nombre_exposed        376\n",
    "nombre_recovered    16750\n",
    "Name: 594, dtype: int64"
   ]
  },
  {
   "cell_type": "markdown",
   "id": "51d4830e",
   "metadata": {},
   "source": [
    "nombre_infected       845\n",
    "nombre_sain          2033\n",
    "nombre_exposed        384\n",
    "nombre_recovered    16738\n",
    "Name: 595, dtype: int64"
   ]
  },
  {
   "cell_type": "markdown",
   "id": "c1f2357b",
   "metadata": {},
   "source": [
    "nombre_infected       833\n",
    "nombre_sain          2046\n",
    "nombre_exposed        392\n",
    "nombre_recovered    16729\n",
    "Name: 596, dtype: int64"
   ]
  },
  {
   "cell_type": "markdown",
   "id": "8a20dec5",
   "metadata": {},
   "source": [
    "nombre_infected       814\n",
    "nombre_sain          2076\n",
    "nombre_exposed        399\n",
    "nombre_recovered    16711\n",
    "Name: 597, dtype: int64"
   ]
  },
  {
   "cell_type": "markdown",
   "id": "a421fd4b",
   "metadata": {},
   "source": [
    "nombre_infected       836\n",
    "nombre_sain          2066\n",
    "nombre_exposed        401\n",
    "nombre_recovered    16697\n",
    "Name: 598, dtype: int64"
   ]
  },
  {
   "cell_type": "markdown",
   "id": "c1edf3f1",
   "metadata": {},
   "source": [
    "nombre_infected       830\n",
    "nombre_sain          2107\n",
    "nombre_exposed        392\n",
    "nombre_recovered    16671\n",
    "Name: 599, dtype: int64"
   ]
  },
  {
   "cell_type": "markdown",
   "id": "4f6f2363",
   "metadata": {},
   "source": [
    "nombre_infected       820\n",
    "nombre_sain          2117\n",
    "nombre_exposed        398\n",
    "nombre_recovered    16665\n",
    "Name: 600, dtype: int64"
   ]
  },
  {
   "cell_type": "markdown",
   "id": "564bd3ea",
   "metadata": {},
   "source": [
    "nombre_infected       811\n",
    "nombre_sain          2140\n",
    "nombre_exposed        383\n",
    "nombre_recovered    16666\n",
    "Name: 601, dtype: int64"
   ]
  },
  {
   "cell_type": "markdown",
   "id": "73e1bb85",
   "metadata": {},
   "source": [
    "nombre_infected       808\n",
    "nombre_sain          2153\n",
    "nombre_exposed        406\n",
    "nombre_recovered    16633\n",
    "Name: 602, dtype: int64"
   ]
  },
  {
   "cell_type": "markdown",
   "id": "462dc759",
   "metadata": {},
   "source": [
    "nombre_infected       792\n",
    "nombre_sain          2165\n",
    "nombre_exposed        419\n",
    "nombre_recovered    16624\n",
    "Name: 603, dtype: int64"
   ]
  },
  {
   "cell_type": "markdown",
   "id": "42fb63b1",
   "metadata": {},
   "source": [
    "nombre_infected       778\n",
    "nombre_sain          2157\n",
    "nombre_exposed        435\n",
    "nombre_recovered    16630\n",
    "Name: 604, dtype: int64"
   ]
  },
  {
   "cell_type": "markdown",
   "id": "7802638e",
   "metadata": {},
   "source": [
    "nombre_infected       756\n",
    "nombre_sain          2205\n",
    "nombre_exposed        432\n",
    "nombre_recovered    16607\n",
    "Name: 605, dtype: int64"
   ]
  },
  {
   "cell_type": "markdown",
   "id": "bcc380c0",
   "metadata": {},
   "source": [
    "nombre_infected       775\n",
    "nombre_sain          2221\n",
    "nombre_exposed        418\n",
    "nombre_recovered    16586\n",
    "Name: 606, dtype: int64"
   ]
  },
  {
   "cell_type": "markdown",
   "id": "a6a8f931",
   "metadata": {},
   "source": [
    "nombre_infected       802\n",
    "nombre_sain          2239\n",
    "nombre_exposed        413\n",
    "nombre_recovered    16546\n",
    "Name: 607, dtype: int64"
   ]
  },
  {
   "cell_type": "markdown",
   "id": "d196e843",
   "metadata": {},
   "source": [
    "nombre_infected       801\n",
    "nombre_sain          2249\n",
    "nombre_exposed        423\n",
    "nombre_recovered    16527\n",
    "Name: 608, dtype: int64"
   ]
  },
  {
   "cell_type": "markdown",
   "id": "2bf900d7",
   "metadata": {},
   "source": [
    "nombre_infected       801\n",
    "nombre_sain          2282\n",
    "nombre_exposed        402\n",
    "nombre_recovered    16515\n",
    "Name: 609, dtype: int64"
   ]
  },
  {
   "cell_type": "markdown",
   "id": "b262d696",
   "metadata": {},
   "source": [
    "nombre_infected       815\n",
    "nombre_sain          2282\n",
    "nombre_exposed        412\n",
    "nombre_recovered    16491\n",
    "Name: 610, dtype: int64"
   ]
  },
  {
   "cell_type": "markdown",
   "id": "4da65c8f",
   "metadata": {},
   "source": [
    "nombre_infected       796\n",
    "nombre_sain          2277\n",
    "nombre_exposed        435\n",
    "nombre_recovered    16492\n",
    "Name: 611, dtype: int64"
   ]
  },
  {
   "cell_type": "markdown",
   "id": "f75ebf2f",
   "metadata": {},
   "source": [
    "nombre_infected       774\n",
    "nombre_sain          2291\n",
    "nombre_exposed        463\n",
    "nombre_recovered    16472\n",
    "Name: 612, dtype: int64"
   ]
  },
  {
   "cell_type": "markdown",
   "id": "5c3609e1",
   "metadata": {},
   "source": [
    "nombre_infected       770\n",
    "nombre_sain          2291\n",
    "nombre_exposed        474\n",
    "nombre_recovered    16465\n",
    "Name: 613, dtype: int64"
   ]
  },
  {
   "cell_type": "markdown",
   "id": "19186e54",
   "metadata": {},
   "source": [
    "nombre_infected       792\n",
    "nombre_sain          2283\n",
    "nombre_exposed        478\n",
    "nombre_recovered    16447\n",
    "Name: 614, dtype: int64"
   ]
  },
  {
   "cell_type": "markdown",
   "id": "c8d3439a",
   "metadata": {},
   "source": [
    "nombre_infected       808\n",
    "nombre_sain          2296\n",
    "nombre_exposed        485\n",
    "nombre_recovered    16411\n",
    "Name: 615, dtype: int64"
   ]
  },
  {
   "cell_type": "markdown",
   "id": "7c902080",
   "metadata": {},
   "source": [
    "nombre_infected       822\n",
    "nombre_sain          2292\n",
    "nombre_exposed        452\n",
    "nombre_recovered    16434\n",
    "Name: 616, dtype: int64"
   ]
  },
  {
   "cell_type": "markdown",
   "id": "423bf044",
   "metadata": {},
   "source": [
    "nombre_infected       826\n",
    "nombre_sain          2286\n",
    "nombre_exposed        456\n",
    "nombre_recovered    16432\n",
    "Name: 617, dtype: int64"
   ]
  },
  {
   "cell_type": "markdown",
   "id": "c060081e",
   "metadata": {},
   "source": [
    "nombre_infected       856\n",
    "nombre_sain          2292\n",
    "nombre_exposed        446\n",
    "nombre_recovered    16406\n",
    "Name: 618, dtype: int64"
   ]
  },
  {
   "cell_type": "markdown",
   "id": "2b3f182c",
   "metadata": {},
   "source": [
    "nombre_infected       863\n",
    "nombre_sain          2288\n",
    "nombre_exposed        452\n",
    "nombre_recovered    16397\n",
    "Name: 619, dtype: int64"
   ]
  },
  {
   "cell_type": "markdown",
   "id": "be653150",
   "metadata": {},
   "source": [
    "nombre_infected       853\n",
    "nombre_sain          2280\n",
    "nombre_exposed        472\n",
    "nombre_recovered    16395\n",
    "Name: 620, dtype: int64"
   ]
  },
  {
   "cell_type": "markdown",
   "id": "fc2de4d1",
   "metadata": {},
   "source": [
    "nombre_infected       846\n",
    "nombre_sain          2293\n",
    "nombre_exposed        473\n",
    "nombre_recovered    16388\n",
    "Name: 621, dtype: int64"
   ]
  },
  {
   "cell_type": "markdown",
   "id": "039159cc",
   "metadata": {},
   "source": [
    "nombre_infected       869\n",
    "nombre_sain          2293\n",
    "nombre_exposed        464\n",
    "nombre_recovered    16374\n",
    "Name: 622, dtype: int64"
   ]
  },
  {
   "cell_type": "markdown",
   "id": "ca900b31",
   "metadata": {},
   "source": [
    "nombre_infected       901\n",
    "nombre_sain          2302\n",
    "nombre_exposed        443\n",
    "nombre_recovered    16354\n",
    "Name: 623, dtype: int64"
   ]
  },
  {
   "cell_type": "markdown",
   "id": "8a23e589",
   "metadata": {},
   "source": [
    "nombre_infected       898\n",
    "nombre_sain          2261\n",
    "nombre_exposed        485\n",
    "nombre_recovered    16356\n",
    "Name: 624, dtype: int64"
   ]
  },
  {
   "cell_type": "markdown",
   "id": "937b91e4",
   "metadata": {},
   "source": [
    "nombre_infected       892\n",
    "nombre_sain          2264\n",
    "nombre_exposed        465\n",
    "nombre_recovered    16379\n",
    "Name: 625, dtype: int64"
   ]
  },
  {
   "cell_type": "markdown",
   "id": "44691e09",
   "metadata": {},
   "source": [
    "nombre_infected       913\n",
    "nombre_sain          2220\n",
    "nombre_exposed        482\n",
    "nombre_recovered    16385\n",
    "Name: 626, dtype: int64"
   ]
  },
  {
   "cell_type": "markdown",
   "id": "f36ca7ca",
   "metadata": {},
   "source": [
    "nombre_infected       890\n",
    "nombre_sain          2220\n",
    "nombre_exposed        513\n",
    "nombre_recovered    16377\n",
    "Name: 627, dtype: int64"
   ]
  },
  {
   "cell_type": "markdown",
   "id": "a5da1277",
   "metadata": {},
   "source": [
    "nombre_infected       894\n",
    "nombre_sain          2221\n",
    "nombre_exposed        500\n",
    "nombre_recovered    16385\n",
    "Name: 628, dtype: int64"
   ]
  },
  {
   "cell_type": "markdown",
   "id": "9e02815c",
   "metadata": {},
   "source": [
    "nombre_infected       908\n",
    "nombre_sain          2204\n",
    "nombre_exposed        494\n",
    "nombre_recovered    16394\n",
    "Name: 629, dtype: int64"
   ]
  },
  {
   "cell_type": "markdown",
   "id": "03a5d56c",
   "metadata": {},
   "source": [
    "nombre_infected       912\n",
    "nombre_sain          2222\n",
    "nombre_exposed        478\n",
    "nombre_recovered    16388\n",
    "Name: 630, dtype: int64"
   ]
  },
  {
   "cell_type": "markdown",
   "id": "d561b634",
   "metadata": {},
   "source": [
    "nombre_infected       895\n",
    "nombre_sain          2211\n",
    "nombre_exposed        495\n",
    "nombre_recovered    16399\n",
    "Name: 631, dtype: int64"
   ]
  },
  {
   "cell_type": "markdown",
   "id": "5350d509",
   "metadata": {},
   "source": [
    "nombre_infected       881\n",
    "nombre_sain          2202\n",
    "nombre_exposed        500\n",
    "nombre_recovered    16417\n",
    "Name: 632, dtype: int64"
   ]
  },
  {
   "cell_type": "markdown",
   "id": "f4f39c6d",
   "metadata": {},
   "source": [
    "nombre_infected       893\n",
    "nombre_sain          2230\n",
    "nombre_exposed        500\n",
    "nombre_recovered    16377\n",
    "Name: 633, dtype: int64"
   ]
  },
  {
   "cell_type": "markdown",
   "id": "2c4cbac7",
   "metadata": {},
   "source": [
    "nombre_infected       879\n",
    "nombre_sain          2213\n",
    "nombre_exposed        517\n",
    "nombre_recovered    16391\n",
    "Name: 634, dtype: int64"
   ]
  },
  {
   "cell_type": "markdown",
   "id": "749ad400",
   "metadata": {},
   "source": [
    "nombre_infected       884\n",
    "nombre_sain          2193\n",
    "nombre_exposed        528\n",
    "nombre_recovered    16395\n",
    "Name: 635, dtype: int64"
   ]
  },
  {
   "cell_type": "markdown",
   "id": "4647290c",
   "metadata": {},
   "source": [
    "nombre_infected       890\n",
    "nombre_sain          2200\n",
    "nombre_exposed        507\n",
    "nombre_recovered    16403\n",
    "Name: 636, dtype: int64"
   ]
  },
  {
   "cell_type": "markdown",
   "id": "ce7aa4f8",
   "metadata": {},
   "source": [
    "nombre_infected       885\n",
    "nombre_sain          2205\n",
    "nombre_exposed        502\n",
    "nombre_recovered    16408\n",
    "Name: 637, dtype: int64"
   ]
  },
  {
   "cell_type": "markdown",
   "id": "32d2720f",
   "metadata": {},
   "source": [
    "nombre_infected       870\n",
    "nombre_sain          2222\n",
    "nombre_exposed        490\n",
    "nombre_recovered    16418\n",
    "Name: 638, dtype: int64"
   ]
  },
  {
   "cell_type": "markdown",
   "id": "0d48033c",
   "metadata": {},
   "source": [
    "nombre_infected       855\n",
    "nombre_sain          2223\n",
    "nombre_exposed        486\n",
    "nombre_recovered    16436\n",
    "Name: 639, dtype: int64"
   ]
  },
  {
   "cell_type": "markdown",
   "id": "7e0af34d",
   "metadata": {},
   "source": [
    "nombre_infected       861\n",
    "nombre_sain          2201\n",
    "nombre_exposed        486\n",
    "nombre_recovered    16452\n",
    "Name: 640, dtype: int64"
   ]
  },
  {
   "cell_type": "markdown",
   "id": "4e9f266e",
   "metadata": {},
   "source": [
    "nombre_infected       851\n",
    "nombre_sain          2238\n",
    "nombre_exposed        474\n",
    "nombre_recovered    16437\n",
    "Name: 641, dtype: int64"
   ]
  },
  {
   "cell_type": "markdown",
   "id": "ed3f3f94",
   "metadata": {},
   "source": [
    "nombre_infected       838\n",
    "nombre_sain          2225\n",
    "nombre_exposed        494\n",
    "nombre_recovered    16443\n",
    "Name: 642, dtype: int64"
   ]
  },
  {
   "cell_type": "markdown",
   "id": "f2deed2b",
   "metadata": {},
   "source": [
    "nombre_infected       850\n",
    "nombre_sain          2246\n",
    "nombre_exposed        472\n",
    "nombre_recovered    16432\n",
    "Name: 643, dtype: int64"
   ]
  },
  {
   "cell_type": "markdown",
   "id": "8885333a",
   "metadata": {},
   "source": [
    "nombre_infected       849\n",
    "nombre_sain          2256\n",
    "nombre_exposed        493\n",
    "nombre_recovered    16402\n",
    "Name: 644, dtype: int64"
   ]
  },
  {
   "cell_type": "markdown",
   "id": "4aa812c3",
   "metadata": {},
   "source": [
    "nombre_infected       849\n",
    "nombre_sain          2230\n",
    "nombre_exposed        507\n",
    "nombre_recovered    16414\n",
    "Name: 645, dtype: int64"
   ]
  },
  {
   "cell_type": "markdown",
   "id": "b66a4d2e",
   "metadata": {},
   "source": [
    "nombre_infected       844\n",
    "nombre_sain          2240\n",
    "nombre_exposed        505\n",
    "nombre_recovered    16411\n",
    "Name: 646, dtype: int64"
   ]
  },
  {
   "cell_type": "markdown",
   "id": "795c0cfa",
   "metadata": {},
   "source": [
    "nombre_infected       826\n",
    "nombre_sain          2258\n",
    "nombre_exposed        500\n",
    "nombre_recovered    16416\n",
    "Name: 647, dtype: int64"
   ]
  },
  {
   "cell_type": "markdown",
   "id": "4e764f10",
   "metadata": {},
   "source": [
    "nombre_infected       840\n",
    "nombre_sain          2276\n",
    "nombre_exposed        477\n",
    "nombre_recovered    16407\n",
    "Name: 648, dtype: int64"
   ]
  },
  {
   "cell_type": "markdown",
   "id": "500db466",
   "metadata": {},
   "source": [
    "nombre_infected       842\n",
    "nombre_sain          2278\n",
    "nombre_exposed        471\n",
    "nombre_recovered    16409\n",
    "Name: 649, dtype: int64"
   ]
  },
  {
   "cell_type": "markdown",
   "id": "22f1a49c",
   "metadata": {},
   "source": [
    "nombre_infected       828\n",
    "nombre_sain          2284\n",
    "nombre_exposed        490\n",
    "nombre_recovered    16398\n",
    "Name: 650, dtype: int64"
   ]
  },
  {
   "cell_type": "markdown",
   "id": "645b05b3",
   "metadata": {},
   "source": [
    "nombre_infected       843\n",
    "nombre_sain          2301\n",
    "nombre_exposed        479\n",
    "nombre_recovered    16377\n",
    "Name: 651, dtype: int64"
   ]
  },
  {
   "cell_type": "markdown",
   "id": "24d35789",
   "metadata": {},
   "source": [
    "nombre_infected       855\n",
    "nombre_sain          2290\n",
    "nombre_exposed        483\n",
    "nombre_recovered    16372\n",
    "Name: 652, dtype: int64"
   ]
  },
  {
   "cell_type": "markdown",
   "id": "c1325765",
   "metadata": {},
   "source": [
    "nombre_infected       841\n",
    "nombre_sain          2307\n",
    "nombre_exposed        495\n",
    "nombre_recovered    16357\n",
    "Name: 653, dtype: int64"
   ]
  },
  {
   "cell_type": "markdown",
   "id": "458c5b41",
   "metadata": {},
   "source": [
    "nombre_infected       862\n",
    "nombre_sain          2288\n",
    "nombre_exposed        502\n",
    "nombre_recovered    16348\n",
    "Name: 654, dtype: int64"
   ]
  },
  {
   "cell_type": "markdown",
   "id": "fb5c5528",
   "metadata": {},
   "source": [
    "nombre_infected       878\n",
    "nombre_sain          2290\n",
    "nombre_exposed        505\n",
    "nombre_recovered    16327\n",
    "Name: 655, dtype: int64"
   ]
  },
  {
   "cell_type": "markdown",
   "id": "23709507",
   "metadata": {},
   "source": [
    "nombre_infected       899\n",
    "nombre_sain          2282\n",
    "nombre_exposed        512\n",
    "nombre_recovered    16307\n",
    "Name: 656, dtype: int64"
   ]
  },
  {
   "cell_type": "markdown",
   "id": "0fd41812",
   "metadata": {},
   "source": [
    "nombre_infected       908\n",
    "nombre_sain          2294\n",
    "nombre_exposed        505\n",
    "nombre_recovered    16293\n",
    "Name: 657, dtype: int64"
   ]
  },
  {
   "cell_type": "markdown",
   "id": "6eb09934",
   "metadata": {},
   "source": [
    "nombre_infected       925\n",
    "nombre_sain          2298\n",
    "nombre_exposed        504\n",
    "nombre_recovered    16273\n",
    "Name: 658, dtype: int64"
   ]
  },
  {
   "cell_type": "markdown",
   "id": "63c47e90",
   "metadata": {},
   "source": [
    "nombre_infected       914\n",
    "nombre_sain          2286\n",
    "nombre_exposed        527\n",
    "nombre_recovered    16273\n",
    "Name: 659, dtype: int64"
   ]
  },
  {
   "cell_type": "markdown",
   "id": "058c672a",
   "metadata": {},
   "source": [
    "nombre_infected       909\n",
    "nombre_sain          2262\n",
    "nombre_exposed        520\n",
    "nombre_recovered    16309\n",
    "Name: 660, dtype: int64"
   ]
  },
  {
   "cell_type": "markdown",
   "id": "d2ef5ed5",
   "metadata": {},
   "source": [
    "nombre_infected       920\n",
    "nombre_sain          2240\n",
    "nombre_exposed        517\n",
    "nombre_recovered    16323\n",
    "Name: 661, dtype: int64"
   ]
  },
  {
   "cell_type": "markdown",
   "id": "e563af04",
   "metadata": {},
   "source": [
    "nombre_infected       938\n",
    "nombre_sain          2227\n",
    "nombre_exposed        508\n",
    "nombre_recovered    16327\n",
    "Name: 662, dtype: int64"
   ]
  },
  {
   "cell_type": "markdown",
   "id": "93470205",
   "metadata": {},
   "source": [
    "nombre_infected       951\n",
    "nombre_sain          2220\n",
    "nombre_exposed        520\n",
    "nombre_recovered    16309\n",
    "Name: 663, dtype: int64"
   ]
  },
  {
   "cell_type": "markdown",
   "id": "eefeb49f",
   "metadata": {},
   "source": [
    "nombre_infected       951\n",
    "nombre_sain          2213\n",
    "nombre_exposed        529\n",
    "nombre_recovered    16307\n",
    "Name: 664, dtype: int64"
   ]
  },
  {
   "cell_type": "markdown",
   "id": "879a6753",
   "metadata": {},
   "source": [
    "nombre_infected       962\n",
    "nombre_sain          2213\n",
    "nombre_exposed        503\n",
    "nombre_recovered    16322\n",
    "Name: 665, dtype: int64"
   ]
  },
  {
   "cell_type": "markdown",
   "id": "56066e24",
   "metadata": {},
   "source": [
    "nombre_infected       964\n",
    "nombre_sain          2229\n",
    "nombre_exposed        512\n",
    "nombre_recovered    16295\n",
    "Name: 666, dtype: int64"
   ]
  },
  {
   "cell_type": "markdown",
   "id": "879b5c3a",
   "metadata": {},
   "source": [
    "nombre_infected       968\n",
    "nombre_sain          2241\n",
    "nombre_exposed        504\n",
    "nombre_recovered    16287\n",
    "Name: 667, dtype: int64"
   ]
  },
  {
   "cell_type": "markdown",
   "id": "aa9f9947",
   "metadata": {},
   "source": [
    "nombre_infected       975\n",
    "nombre_sain          2245\n",
    "nombre_exposed        525\n",
    "nombre_recovered    16255\n",
    "Name: 668, dtype: int64"
   ]
  },
  {
   "cell_type": "markdown",
   "id": "96979520",
   "metadata": {},
   "source": [
    "nombre_infected       981\n",
    "nombre_sain          2229\n",
    "nombre_exposed        519\n",
    "nombre_recovered    16271\n",
    "Name: 669, dtype: int64"
   ]
  },
  {
   "cell_type": "markdown",
   "id": "ae25ea93",
   "metadata": {},
   "source": [
    "nombre_infected       981\n",
    "nombre_sain          2202\n",
    "nombre_exposed        556\n",
    "nombre_recovered    16261\n",
    "Name: 670, dtype: int64"
   ]
  },
  {
   "cell_type": "markdown",
   "id": "104ee777",
   "metadata": {},
   "source": [
    "nombre_infected       986\n",
    "nombre_sain          2191\n",
    "nombre_exposed        574\n",
    "nombre_recovered    16249\n",
    "Name: 671, dtype: int64"
   ]
  },
  {
   "cell_type": "markdown",
   "id": "2cd0f99a",
   "metadata": {},
   "source": [
    "nombre_infected      1005\n",
    "nombre_sain          2193\n",
    "nombre_exposed        564\n",
    "nombre_recovered    16238\n",
    "Name: 672, dtype: int64"
   ]
  },
  {
   "cell_type": "markdown",
   "id": "b0fafc80",
   "metadata": {},
   "source": [
    "nombre_infected      1038\n",
    "nombre_sain          2234\n",
    "nombre_exposed        511\n",
    "nombre_recovered    16217\n",
    "Name: 673, dtype: int64"
   ]
  },
  {
   "cell_type": "markdown",
   "id": "8568ed91",
   "metadata": {},
   "source": [
    "nombre_infected      1044\n",
    "nombre_sain          2204\n",
    "nombre_exposed        512\n",
    "nombre_recovered    16240\n",
    "Name: 674, dtype: int64"
   ]
  },
  {
   "cell_type": "markdown",
   "id": "2d7019dd",
   "metadata": {},
   "source": [
    "nombre_infected      1047\n",
    "nombre_sain          2197\n",
    "nombre_exposed        528\n",
    "nombre_recovered    16228\n",
    "Name: 675, dtype: int64"
   ]
  },
  {
   "cell_type": "markdown",
   "id": "973ed8bb",
   "metadata": {},
   "source": [
    "nombre_infected      1012\n",
    "nombre_sain          2186\n",
    "nombre_exposed        540\n",
    "nombre_recovered    16262\n",
    "Name: 676, dtype: int64"
   ]
  },
  {
   "cell_type": "markdown",
   "id": "3363811a",
   "metadata": {},
   "source": [
    "nombre_infected      1027\n",
    "nombre_sain          2202\n",
    "nombre_exposed        522\n",
    "nombre_recovered    16249\n",
    "Name: 677, dtype: int64"
   ]
  },
  {
   "cell_type": "markdown",
   "id": "c33e1d4b",
   "metadata": {},
   "source": [
    "nombre_infected      1049\n",
    "nombre_sain          2183\n",
    "nombre_exposed        524\n",
    "nombre_recovered    16244\n",
    "Name: 678, dtype: int64"
   ]
  },
  {
   "cell_type": "markdown",
   "id": "055e4d2d",
   "metadata": {},
   "source": [
    "nombre_infected      1051\n",
    "nombre_sain          2166\n",
    "nombre_exposed        526\n",
    "nombre_recovered    16257\n",
    "Name: 679, dtype: int64"
   ]
  },
  {
   "cell_type": "markdown",
   "id": "72e9cf4e",
   "metadata": {},
   "source": [
    "nombre_infected      1053\n",
    "nombre_sain          2153\n",
    "nombre_exposed        518\n",
    "nombre_recovered    16276\n",
    "Name: 680, dtype: int64"
   ]
  },
  {
   "cell_type": "markdown",
   "id": "30a2a3af",
   "metadata": {},
   "source": [
    "nombre_infected      1051\n",
    "nombre_sain          2139\n",
    "nombre_exposed        538\n",
    "nombre_recovered    16272\n",
    "Name: 681, dtype: int64"
   ]
  },
  {
   "cell_type": "markdown",
   "id": "f5abd3ac",
   "metadata": {},
   "source": [
    "nombre_infected      1075\n",
    "nombre_sain          2128\n",
    "nombre_exposed        538\n",
    "nombre_recovered    16259\n",
    "Name: 682, dtype: int64"
   ]
  },
  {
   "cell_type": "markdown",
   "id": "3cdc2155",
   "metadata": {},
   "source": [
    "nombre_infected      1086\n",
    "nombre_sain          2113\n",
    "nombre_exposed        538\n",
    "nombre_recovered    16263\n",
    "Name: 683, dtype: int64"
   ]
  },
  {
   "cell_type": "markdown",
   "id": "b8d0cbc2",
   "metadata": {},
   "source": [
    "nombre_infected      1088\n",
    "nombre_sain          2087\n",
    "nombre_exposed        547\n",
    "nombre_recovered    16278\n",
    "Name: 684, dtype: int64"
   ]
  },
  {
   "cell_type": "markdown",
   "id": "ea859dc7",
   "metadata": {},
   "source": [
    "nombre_infected      1085\n",
    "nombre_sain          2085\n",
    "nombre_exposed        547\n",
    "nombre_recovered    16283\n",
    "Name: 685, dtype: int64"
   ]
  },
  {
   "cell_type": "markdown",
   "id": "5ae13206",
   "metadata": {},
   "source": [
    "nombre_infected      1089\n",
    "nombre_sain          2070\n",
    "nombre_exposed        547\n",
    "nombre_recovered    16294\n",
    "Name: 686, dtype: int64"
   ]
  },
  {
   "cell_type": "markdown",
   "id": "ceb1bafe",
   "metadata": {},
   "source": [
    "nombre_infected      1113\n",
    "nombre_sain          2043\n",
    "nombre_exposed        551\n",
    "nombre_recovered    16293\n",
    "Name: 687, dtype: int64"
   ]
  },
  {
   "cell_type": "markdown",
   "id": "f3110456",
   "metadata": {},
   "source": [
    "nombre_infected      1136\n",
    "nombre_sain          2030\n",
    "nombre_exposed        543\n",
    "nombre_recovered    16291\n",
    "Name: 688, dtype: int64"
   ]
  },
  {
   "cell_type": "markdown",
   "id": "ad30b297",
   "metadata": {},
   "source": [
    "nombre_infected      1117\n",
    "nombre_sain          2005\n",
    "nombre_exposed        567\n",
    "nombre_recovered    16311\n",
    "Name: 689, dtype: int64"
   ]
  },
  {
   "cell_type": "markdown",
   "id": "68fbb72e",
   "metadata": {},
   "source": [
    "nombre_infected      1106\n",
    "nombre_sain          2010\n",
    "nombre_exposed        550\n",
    "nombre_recovered    16334\n",
    "Name: 690, dtype: int64"
   ]
  },
  {
   "cell_type": "markdown",
   "id": "5c341576",
   "metadata": {},
   "source": [
    "nombre_infected      1099\n",
    "nombre_sain          1976\n",
    "nombre_exposed        545\n",
    "nombre_recovered    16380\n",
    "Name: 691, dtype: int64"
   ]
  },
  {
   "cell_type": "markdown",
   "id": "d11b41a1",
   "metadata": {},
   "source": [
    "nombre_infected      1064\n",
    "nombre_sain          1960\n",
    "nombre_exposed        575\n",
    "nombre_recovered    16401\n",
    "Name: 692, dtype: int64"
   ]
  },
  {
   "cell_type": "markdown",
   "id": "e098085d",
   "metadata": {},
   "source": [
    "nombre_infected      1067\n",
    "nombre_sain          1955\n",
    "nombre_exposed        552\n",
    "nombre_recovered    16426\n",
    "Name: 693, dtype: int64"
   ]
  },
  {
   "cell_type": "markdown",
   "id": "a9f61226",
   "metadata": {},
   "source": [
    "nombre_infected      1079\n",
    "nombre_sain          1946\n",
    "nombre_exposed        528\n",
    "nombre_recovered    16447\n",
    "Name: 694, dtype: int64"
   ]
  },
  {
   "cell_type": "markdown",
   "id": "35e7e313",
   "metadata": {},
   "source": [
    "nombre_infected      1053\n",
    "nombre_sain          1936\n",
    "nombre_exposed        527\n",
    "nombre_recovered    16484\n",
    "Name: 695, dtype: int64"
   ]
  },
  {
   "cell_type": "markdown",
   "id": "b8aa00cd",
   "metadata": {},
   "source": [
    "nombre_infected      1064\n",
    "nombre_sain          1940\n",
    "nombre_exposed        503\n",
    "nombre_recovered    16493\n",
    "Name: 696, dtype: int64"
   ]
  },
  {
   "cell_type": "markdown",
   "id": "aa12cc70",
   "metadata": {},
   "source": [
    "nombre_infected      1068\n",
    "nombre_sain          1941\n",
    "nombre_exposed        492\n",
    "nombre_recovered    16499\n",
    "Name: 697, dtype: int64"
   ]
  },
  {
   "cell_type": "markdown",
   "id": "10f796ca",
   "metadata": {},
   "source": [
    "nombre_infected      1054\n",
    "nombre_sain          1956\n",
    "nombre_exposed        473\n",
    "nombre_recovered    16517\n",
    "Name: 698, dtype: int64"
   ]
  },
  {
   "cell_type": "markdown",
   "id": "a5c6dab2",
   "metadata": {},
   "source": [
    "nombre_infected      1064\n",
    "nombre_sain          1949\n",
    "nombre_exposed        466\n",
    "nombre_recovered    16521\n",
    "Name: 699, dtype: int64"
   ]
  },
  {
   "cell_type": "markdown",
   "id": "bab58851",
   "metadata": {},
   "source": [
    "nombre_infected      1035\n",
    "nombre_sain          1937\n",
    "nombre_exposed        477\n",
    "nombre_recovered    16551\n",
    "Name: 700, dtype: int64"
   ]
  },
  {
   "cell_type": "markdown",
   "id": "b160e0f8",
   "metadata": {},
   "source": [
    "nombre_infected      1019\n",
    "nombre_sain          1936\n",
    "nombre_exposed        478\n",
    "nombre_recovered    16567\n",
    "Name: 701, dtype: int64"
   ]
  },
  {
   "cell_type": "markdown",
   "id": "a9058a11",
   "metadata": {},
   "source": [
    "nombre_infected       970\n",
    "nombre_sain          1916\n",
    "nombre_exposed        512\n",
    "nombre_recovered    16602\n",
    "Name: 702, dtype: int64"
   ]
  },
  {
   "cell_type": "markdown",
   "id": "f261fd06",
   "metadata": {},
   "source": [
    "nombre_infected       970\n",
    "nombre_sain          1914\n",
    "nombre_exposed        525\n",
    "nombre_recovered    16591\n",
    "Name: 703, dtype: int64"
   ]
  },
  {
   "cell_type": "markdown",
   "id": "4a4e08bf",
   "metadata": {},
   "source": [
    "nombre_infected       985\n",
    "nombre_sain          1908\n",
    "nombre_exposed        508\n",
    "nombre_recovered    16599\n",
    "Name: 704, dtype: int64"
   ]
  },
  {
   "cell_type": "markdown",
   "id": "a0bc0bd8",
   "metadata": {},
   "source": [
    "nombre_infected      1016\n",
    "nombre_sain          1918\n",
    "nombre_exposed        469\n",
    "nombre_recovered    16597\n",
    "Name: 705, dtype: int64"
   ]
  },
  {
   "cell_type": "markdown",
   "id": "0324e79f",
   "metadata": {},
   "source": [
    "nombre_infected      1035\n",
    "nombre_sain          1946\n",
    "nombre_exposed        438\n",
    "nombre_recovered    16581\n",
    "Name: 706, dtype: int64"
   ]
  },
  {
   "cell_type": "markdown",
   "id": "37796a7f",
   "metadata": {},
   "source": [
    "nombre_infected      1002\n",
    "nombre_sain          1952\n",
    "nombre_exposed        449\n",
    "nombre_recovered    16597\n",
    "Name: 707, dtype: int64"
   ]
  },
  {
   "cell_type": "markdown",
   "id": "7941d9ee",
   "metadata": {},
   "source": [
    "nombre_infected      1002\n",
    "nombre_sain          1960\n",
    "nombre_exposed        444\n",
    "nombre_recovered    16594\n",
    "Name: 708, dtype: int64"
   ]
  },
  {
   "cell_type": "markdown",
   "id": "f5e29890",
   "metadata": {},
   "source": [
    "nombre_infected       979\n",
    "nombre_sain          1971\n",
    "nombre_exposed        449\n",
    "nombre_recovered    16601\n",
    "Name: 709, dtype: int64"
   ]
  },
  {
   "cell_type": "markdown",
   "id": "dc14dd57",
   "metadata": {},
   "source": [
    "nombre_infected       970\n",
    "nombre_sain          1954\n",
    "nombre_exposed        470\n",
    "nombre_recovered    16606\n",
    "Name: 710, dtype: int64"
   ]
  },
  {
   "cell_type": "markdown",
   "id": "92ab681f",
   "metadata": {},
   "source": [
    "nombre_infected       962\n",
    "nombre_sain          1942\n",
    "nombre_exposed        476\n",
    "nombre_recovered    16620\n",
    "Name: 711, dtype: int64"
   ]
  },
  {
   "cell_type": "markdown",
   "id": "0fe6c934",
   "metadata": {},
   "source": [
    "nombre_infected       968\n",
    "nombre_sain          1961\n",
    "nombre_exposed        465\n",
    "nombre_recovered    16606\n",
    "Name: 712, dtype: int64"
   ]
  },
  {
   "cell_type": "markdown",
   "id": "e38be0da",
   "metadata": {},
   "source": [
    "nombre_infected       952\n",
    "nombre_sain          1972\n",
    "nombre_exposed        447\n",
    "nombre_recovered    16629\n",
    "Name: 713, dtype: int64"
   ]
  },
  {
   "cell_type": "markdown",
   "id": "40d98446",
   "metadata": {},
   "source": [
    "nombre_infected       968\n",
    "nombre_sain          1976\n",
    "nombre_exposed        432\n",
    "nombre_recovered    16624\n",
    "Name: 714, dtype: int64"
   ]
  },
  {
   "cell_type": "markdown",
   "id": "3c69a9fa",
   "metadata": {},
   "source": [
    "nombre_infected       967\n",
    "nombre_sain          1979\n",
    "nombre_exposed        443\n",
    "nombre_recovered    16611\n",
    "Name: 715, dtype: int64"
   ]
  },
  {
   "cell_type": "markdown",
   "id": "f6e33c0a",
   "metadata": {},
   "source": [
    "nombre_infected       938\n",
    "nombre_sain          1997\n",
    "nombre_exposed        434\n",
    "nombre_recovered    16631\n",
    "Name: 716, dtype: int64"
   ]
  },
  {
   "cell_type": "markdown",
   "id": "e3a1da38",
   "metadata": {},
   "source": [
    "nombre_infected       937\n",
    "nombre_sain          1998\n",
    "nombre_exposed        436\n",
    "nombre_recovered    16629\n",
    "Name: 717, dtype: int64"
   ]
  },
  {
   "cell_type": "markdown",
   "id": "993fcb94",
   "metadata": {},
   "source": [
    "nombre_infected       926\n",
    "nombre_sain          1995\n",
    "nombre_exposed        458\n",
    "nombre_recovered    16621\n",
    "Name: 718, dtype: int64"
   ]
  },
  {
   "cell_type": "markdown",
   "id": "eae42a93",
   "metadata": {},
   "source": [
    "nombre_infected       909\n",
    "nombre_sain          2007\n",
    "nombre_exposed        432\n",
    "nombre_recovered    16652\n",
    "Name: 719, dtype: int64"
   ]
  },
  {
   "cell_type": "markdown",
   "id": "c7da82b7",
   "metadata": {},
   "source": [
    "nombre_infected       912\n",
    "nombre_sain          1992\n",
    "nombre_exposed        450\n",
    "nombre_recovered    16646\n",
    "Name: 720, dtype: int64"
   ]
  },
  {
   "cell_type": "markdown",
   "id": "dd1eb95c",
   "metadata": {},
   "source": [
    "nombre_infected       912\n",
    "nombre_sain          2020\n",
    "nombre_exposed        430\n",
    "nombre_recovered    16638\n",
    "Name: 721, dtype: int64"
   ]
  },
  {
   "cell_type": "markdown",
   "id": "125abea5",
   "metadata": {},
   "source": [
    "nombre_infected       918\n",
    "nombre_sain          2027\n",
    "nombre_exposed        433\n",
    "nombre_recovered    16622\n",
    "Name: 722, dtype: int64"
   ]
  },
  {
   "cell_type": "markdown",
   "id": "f2fac9d6",
   "metadata": {},
   "source": [
    "nombre_infected       930\n",
    "nombre_sain          2003\n",
    "nombre_exposed        453\n",
    "nombre_recovered    16614\n",
    "Name: 723, dtype: int64"
   ]
  },
  {
   "cell_type": "markdown",
   "id": "69cd9147",
   "metadata": {},
   "source": [
    "nombre_infected       922\n",
    "nombre_sain          2023\n",
    "nombre_exposed        445\n",
    "nombre_recovered    16610\n",
    "Name: 724, dtype: int64"
   ]
  },
  {
   "cell_type": "markdown",
   "id": "80d4494f",
   "metadata": {},
   "source": [
    "nombre_infected       924\n",
    "nombre_sain          2055\n",
    "nombre_exposed        430\n",
    "nombre_recovered    16591\n",
    "Name: 725, dtype: int64"
   ]
  },
  {
   "cell_type": "markdown",
   "id": "a5efe940",
   "metadata": {},
   "source": [
    "nombre_infected       937\n",
    "nombre_sain          2093\n",
    "nombre_exposed        416\n",
    "nombre_recovered    16554\n",
    "Name: 726, dtype: int64"
   ]
  },
  {
   "cell_type": "markdown",
   "id": "6c17a7d8",
   "metadata": {},
   "source": [
    "nombre_infected       930\n",
    "nombre_sain          2108\n",
    "nombre_exposed        422\n",
    "nombre_recovered    16540\n",
    "Name: 727, dtype: int64"
   ]
  },
  {
   "cell_type": "markdown",
   "id": "0c1aab2e",
   "metadata": {},
   "source": [
    "nombre_infected       896\n",
    "nombre_sain          2159\n",
    "nombre_exposed        439\n",
    "nombre_recovered    16506\n",
    "Name: 728, dtype: int64"
   ]
  },
  {
   "cell_type": "markdown",
   "id": "b0af501c",
   "metadata": {},
   "source": [
    "nombre_infected       912\n",
    "nombre_sain          2168\n",
    "nombre_exposed        434\n",
    "nombre_recovered    16486\n",
    "Name: 729, dtype: int64"
   ]
  },
  {
   "cell_type": "markdown",
   "id": "821aba6c",
   "metadata": {},
   "source": [
    "nombre_infected       891\n",
    "nombre_sain          2200\n",
    "nombre_exposed        441\n",
    "nombre_recovered    16468\n",
    "Name: 730, dtype: int64"
   ]
  }
 ],
 "metadata": {},
 "nbformat": 4,
 "nbformat_minor": 5
}
