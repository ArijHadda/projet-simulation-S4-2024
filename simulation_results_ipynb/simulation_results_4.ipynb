{
 "cells": [
  {
   "cell_type": "markdown",
   "id": "db5546bc",
   "metadata": {},
   "source": [
    "nombre_infected        20\n",
    "nombre_sain         19980\n",
    "nombre_exposed          0\n",
    "nombre_recovered        0\n",
    "Name: 0, dtype: int64"
   ]
  },
  {
   "cell_type": "markdown",
   "id": "df5c766b",
   "metadata": {},
   "source": [
    "nombre_infected        20\n",
    "nombre_sain         19962\n",
    "nombre_exposed         18\n",
    "nombre_recovered        0\n",
    "Name: 1, dtype: int64"
   ]
  },
  {
   "cell_type": "markdown",
   "id": "c9e5b5cd",
   "metadata": {},
   "source": [
    "nombre_infected        20\n",
    "nombre_sain         19938\n",
    "nombre_exposed         42\n",
    "nombre_recovered        0\n",
    "Name: 2, dtype: int64"
   ]
  },
  {
   "cell_type": "markdown",
   "id": "4f8f7014",
   "metadata": {},
   "source": [
    "nombre_infected        25\n",
    "nombre_sain         19899\n",
    "nombre_exposed         76\n",
    "nombre_recovered        0\n",
    "Name: 3, dtype: int64"
   ]
  },
  {
   "cell_type": "markdown",
   "id": "d7355cf0",
   "metadata": {},
   "source": [
    "nombre_infected        27\n",
    "nombre_sain         19874\n",
    "nombre_exposed         89\n",
    "nombre_recovered       10\n",
    "Name: 4, dtype: int64"
   ]
  },
  {
   "cell_type": "markdown",
   "id": "6828cf1b",
   "metadata": {},
   "source": [
    "nombre_infected        39\n",
    "nombre_sain         19837\n",
    "nombre_exposed        104\n",
    "nombre_recovered       20\n",
    "Name: 5, dtype: int64"
   ]
  },
  {
   "cell_type": "markdown",
   "id": "5c7664c9",
   "metadata": {},
   "source": [
    "nombre_infected        59\n",
    "nombre_sain         19778\n",
    "nombre_exposed        141\n",
    "nombre_recovered       22\n",
    "Name: 6, dtype: int64"
   ]
  },
  {
   "cell_type": "markdown",
   "id": "2709a9da",
   "metadata": {},
   "source": [
    "nombre_infected        73\n",
    "nombre_sain         19710\n",
    "nombre_exposed        195\n",
    "nombre_recovered       22\n",
    "Name: 7, dtype: int64"
   ]
  },
  {
   "cell_type": "markdown",
   "id": "c59d2057",
   "metadata": {},
   "source": [
    "nombre_infected       110\n",
    "nombre_sain         19596\n",
    "nombre_exposed        262\n",
    "nombre_recovered       32\n",
    "Name: 8, dtype: int64"
   ]
  },
  {
   "cell_type": "markdown",
   "id": "22aa2aa5",
   "metadata": {},
   "source": [
    "nombre_infected       144\n",
    "nombre_sain         19444\n",
    "nombre_exposed        374\n",
    "nombre_recovered       38\n",
    "Name: 9, dtype: int64"
   ]
  },
  {
   "cell_type": "markdown",
   "id": "7e07b387",
   "metadata": {},
   "source": [
    "nombre_infected       192\n",
    "nombre_sain         19243\n",
    "nombre_exposed        513\n",
    "nombre_recovered       52\n",
    "Name: 10, dtype: int64"
   ]
  },
  {
   "cell_type": "markdown",
   "id": "bcc34f62",
   "metadata": {},
   "source": [
    "nombre_infected       268\n",
    "nombre_sain         18950\n",
    "nombre_exposed        713\n",
    "nombre_recovered       69\n",
    "Name: 11, dtype: int64"
   ]
  },
  {
   "cell_type": "markdown",
   "id": "3f56a16b",
   "metadata": {},
   "source": [
    "nombre_infected       363\n",
    "nombre_sain         18592\n",
    "nombre_exposed        956\n",
    "nombre_recovered       89\n",
    "Name: 12, dtype: int64"
   ]
  },
  {
   "cell_type": "markdown",
   "id": "90ed8055",
   "metadata": {},
   "source": [
    "nombre_infected       523\n",
    "nombre_sain         18088\n",
    "nombre_exposed       1267\n",
    "nombre_recovered      122\n",
    "Name: 13, dtype: int64"
   ]
  },
  {
   "cell_type": "markdown",
   "id": "38a2f216",
   "metadata": {},
   "source": [
    "nombre_infected       720\n",
    "nombre_sain         17436\n",
    "nombre_exposed       1678\n",
    "nombre_recovered      166\n",
    "Name: 14, dtype: int64"
   ]
  },
  {
   "cell_type": "markdown",
   "id": "d6223a9b",
   "metadata": {},
   "source": [
    "nombre_infected       916\n",
    "nombre_sain         16596\n",
    "nombre_exposed       2252\n",
    "nombre_recovered      236\n",
    "Name: 15, dtype: int64"
   ]
  },
  {
   "cell_type": "markdown",
   "id": "f26e0bcb",
   "metadata": {},
   "source": [
    "nombre_infected      1244\n",
    "nombre_sain         15529\n",
    "nombre_exposed       2912\n",
    "nombre_recovered      315\n",
    "Name: 16, dtype: int64"
   ]
  },
  {
   "cell_type": "markdown",
   "id": "e92a369d",
   "metadata": {},
   "source": [
    "nombre_infected      1685\n",
    "nombre_sain         14254\n",
    "nombre_exposed       3636\n",
    "nombre_recovered      425\n",
    "Name: 17, dtype: int64"
   ]
  },
  {
   "cell_type": "markdown",
   "id": "40edd572",
   "metadata": {},
   "source": [
    "nombre_infected      2217\n",
    "nombre_sain         12704\n",
    "nombre_exposed       4509\n",
    "nombre_recovered      570\n",
    "Name: 18, dtype: int64"
   ]
  },
  {
   "cell_type": "markdown",
   "id": "5d036278",
   "metadata": {},
   "source": [
    "nombre_infected      2887\n",
    "nombre_sain         10956\n",
    "nombre_exposed       5389\n",
    "nombre_recovered      768\n",
    "Name: 19, dtype: int64"
   ]
  },
  {
   "cell_type": "markdown",
   "id": "e174775c",
   "metadata": {},
   "source": [
    "nombre_infected     3733\n",
    "nombre_sain         9160\n",
    "nombre_exposed      6072\n",
    "nombre_recovered    1035\n",
    "Name: 20, dtype: int64"
   ]
  },
  {
   "cell_type": "markdown",
   "id": "a3c6e33c",
   "metadata": {},
   "source": [
    "nombre_infected     4591\n",
    "nombre_sain         7352\n",
    "nombre_exposed      6695\n",
    "nombre_recovered    1362\n",
    "Name: 21, dtype: int64"
   ]
  },
  {
   "cell_type": "markdown",
   "id": "4f1216dd",
   "metadata": {},
   "source": [
    "nombre_infected     5554\n",
    "nombre_sain         5683\n",
    "nombre_exposed      6977\n",
    "nombre_recovered    1786\n",
    "Name: 22, dtype: int64"
   ]
  },
  {
   "cell_type": "markdown",
   "id": "57effb1b",
   "metadata": {},
   "source": [
    "nombre_infected     6541\n",
    "nombre_sain         4182\n",
    "nombre_exposed      6963\n",
    "nombre_recovered    2314\n",
    "Name: 23, dtype: int64"
   ]
  },
  {
   "cell_type": "markdown",
   "id": "4fa77065",
   "metadata": {},
   "source": [
    "nombre_infected     7424\n",
    "nombre_sain         3022\n",
    "nombre_exposed      6630\n",
    "nombre_recovered    2924\n",
    "Name: 24, dtype: int64"
   ]
  },
  {
   "cell_type": "markdown",
   "id": "d6b15bb3",
   "metadata": {},
   "source": [
    "nombre_infected     8230\n",
    "nombre_sain         2080\n",
    "nombre_exposed      6002\n",
    "nombre_recovered    3688\n",
    "Name: 25, dtype: int64"
   ]
  },
  {
   "cell_type": "markdown",
   "id": "be5d856d",
   "metadata": {},
   "source": [
    "nombre_infected     8777\n",
    "nombre_sain         1458\n",
    "nombre_exposed      5217\n",
    "nombre_recovered    4548\n",
    "Name: 26, dtype: int64"
   ]
  },
  {
   "cell_type": "markdown",
   "id": "909716f4",
   "metadata": {},
   "source": [
    "nombre_infected     9197\n",
    "nombre_sain          951\n",
    "nombre_exposed      4416\n",
    "nombre_recovered    5436\n",
    "Name: 27, dtype: int64"
   ]
  },
  {
   "cell_type": "markdown",
   "id": "675251a1",
   "metadata": {},
   "source": [
    "nombre_infected     9354\n",
    "nombre_sain          655\n",
    "nombre_exposed      3611\n",
    "nombre_recovered    6380\n",
    "Name: 28, dtype: int64"
   ]
  },
  {
   "cell_type": "markdown",
   "id": "49c670e2",
   "metadata": {},
   "source": [
    "nombre_infected     9319\n",
    "nombre_sain          425\n",
    "nombre_exposed      2916\n",
    "nombre_recovered    7340\n",
    "Name: 29, dtype: int64"
   ]
  },
  {
   "cell_type": "markdown",
   "id": "879976eb",
   "metadata": {},
   "source": [
    "nombre_infected     9011\n",
    "nombre_sain          293\n",
    "nombre_exposed      2315\n",
    "nombre_recovered    8381\n",
    "Name: 30, dtype: int64"
   ]
  },
  {
   "cell_type": "markdown",
   "id": "ebb9e745",
   "metadata": {},
   "source": [
    "nombre_infected     8674\n",
    "nombre_sain          206\n",
    "nombre_exposed      1801\n",
    "nombre_recovered    9319\n",
    "Name: 31, dtype: int64"
   ]
  },
  {
   "cell_type": "markdown",
   "id": "341e2b5b",
   "metadata": {},
   "source": [
    "nombre_infected      8190\n",
    "nombre_sain           157\n",
    "nombre_exposed       1393\n",
    "nombre_recovered    10260\n",
    "Name: 32, dtype: int64"
   ]
  },
  {
   "cell_type": "markdown",
   "id": "8acafbbb",
   "metadata": {},
   "source": [
    "nombre_infected      7618\n",
    "nombre_sain           115\n",
    "nombre_exposed       1092\n",
    "nombre_recovered    11175\n",
    "Name: 33, dtype: int64"
   ]
  },
  {
   "cell_type": "markdown",
   "id": "8f951d48",
   "metadata": {},
   "source": [
    "nombre_infected      7026\n",
    "nombre_sain            99\n",
    "nombre_exposed        852\n",
    "nombre_recovered    12023\n",
    "Name: 34, dtype: int64"
   ]
  },
  {
   "cell_type": "markdown",
   "id": "378b607a",
   "metadata": {},
   "source": [
    "nombre_infected      6453\n",
    "nombre_sain            92\n",
    "nombre_exposed        655\n",
    "nombre_recovered    12800\n",
    "Name: 35, dtype: int64"
   ]
  },
  {
   "cell_type": "markdown",
   "id": "74acd7c3",
   "metadata": {},
   "source": [
    "nombre_infected      5926\n",
    "nombre_sain            91\n",
    "nombre_exposed        510\n",
    "nombre_recovered    13473\n",
    "Name: 36, dtype: int64"
   ]
  },
  {
   "cell_type": "markdown",
   "id": "a86c9c84",
   "metadata": {},
   "source": [
    "nombre_infected      5363\n",
    "nombre_sain           105\n",
    "nombre_exposed        392\n",
    "nombre_recovered    14140\n",
    "Name: 37, dtype: int64"
   ]
  },
  {
   "cell_type": "markdown",
   "id": "dc447488",
   "metadata": {},
   "source": [
    "nombre_infected      4817\n",
    "nombre_sain           104\n",
    "nombre_exposed        308\n",
    "nombre_recovered    14771\n",
    "Name: 38, dtype: int64"
   ]
  },
  {
   "cell_type": "markdown",
   "id": "4761044f",
   "metadata": {},
   "source": [
    "nombre_infected      4322\n",
    "nombre_sain           106\n",
    "nombre_exposed        252\n",
    "nombre_recovered    15320\n",
    "Name: 39, dtype: int64"
   ]
  },
  {
   "cell_type": "markdown",
   "id": "7c99a132",
   "metadata": {},
   "source": [
    "nombre_infected      3866\n",
    "nombre_sain           111\n",
    "nombre_exposed        203\n",
    "nombre_recovered    15820\n",
    "Name: 40, dtype: int64"
   ]
  },
  {
   "cell_type": "markdown",
   "id": "6d495fa7",
   "metadata": {},
   "source": [
    "nombre_infected      3482\n",
    "nombre_sain           124\n",
    "nombre_exposed        166\n",
    "nombre_recovered    16228\n",
    "Name: 41, dtype: int64"
   ]
  },
  {
   "cell_type": "markdown",
   "id": "ef4c86ee",
   "metadata": {},
   "source": [
    "nombre_infected      3096\n",
    "nombre_sain           130\n",
    "nombre_exposed        125\n",
    "nombre_recovered    16649\n",
    "Name: 42, dtype: int64"
   ]
  },
  {
   "cell_type": "markdown",
   "id": "d296034b",
   "metadata": {},
   "source": [
    "nombre_infected      2755\n",
    "nombre_sain           150\n",
    "nombre_exposed        115\n",
    "nombre_recovered    16980\n",
    "Name: 43, dtype: int64"
   ]
  },
  {
   "cell_type": "markdown",
   "id": "011b1889",
   "metadata": {},
   "source": [
    "nombre_infected      2417\n",
    "nombre_sain           181\n",
    "nombre_exposed        105\n",
    "nombre_recovered    17297\n",
    "Name: 44, dtype: int64"
   ]
  },
  {
   "cell_type": "markdown",
   "id": "23a0421d",
   "metadata": {},
   "source": [
    "nombre_infected      2127\n",
    "nombre_sain           194\n",
    "nombre_exposed        100\n",
    "nombre_recovered    17579\n",
    "Name: 45, dtype: int64"
   ]
  },
  {
   "cell_type": "markdown",
   "id": "cf54bcbe",
   "metadata": {},
   "source": [
    "nombre_infected      1893\n",
    "nombre_sain           220\n",
    "nombre_exposed         87\n",
    "nombre_recovered    17800\n",
    "Name: 46, dtype: int64"
   ]
  },
  {
   "cell_type": "markdown",
   "id": "0977c47a",
   "metadata": {},
   "source": [
    "nombre_infected      1647\n",
    "nombre_sain           258\n",
    "nombre_exposed         83\n",
    "nombre_recovered    18012\n",
    "Name: 47, dtype: int64"
   ]
  },
  {
   "cell_type": "markdown",
   "id": "02eb66a8",
   "metadata": {},
   "source": [
    "nombre_infected      1447\n",
    "nombre_sain           291\n",
    "nombre_exposed         76\n",
    "nombre_recovered    18186\n",
    "Name: 48, dtype: int64"
   ]
  },
  {
   "cell_type": "markdown",
   "id": "72ec81aa",
   "metadata": {},
   "source": [
    "nombre_infected      1231\n",
    "nombre_sain           315\n",
    "nombre_exposed         74\n",
    "nombre_recovered    18380\n",
    "Name: 49, dtype: int64"
   ]
  },
  {
   "cell_type": "markdown",
   "id": "e68beafb",
   "metadata": {},
   "source": [
    "nombre_infected      1056\n",
    "nombre_sain           342\n",
    "nombre_exposed         84\n",
    "nombre_recovered    18518\n",
    "Name: 50, dtype: int64"
   ]
  },
  {
   "cell_type": "markdown",
   "id": "9b157edf",
   "metadata": {},
   "source": [
    "nombre_infected       891\n",
    "nombre_sain           373\n",
    "nombre_exposed         94\n",
    "nombre_recovered    18642\n",
    "Name: 51, dtype: int64"
   ]
  },
  {
   "cell_type": "markdown",
   "id": "d897db7e",
   "metadata": {},
   "source": [
    "nombre_infected       767\n",
    "nombre_sain           401\n",
    "nombre_exposed         91\n",
    "nombre_recovered    18741\n",
    "Name: 52, dtype: int64"
   ]
  },
  {
   "cell_type": "markdown",
   "id": "f664dffc",
   "metadata": {},
   "source": [
    "nombre_infected       651\n",
    "nombre_sain           443\n",
    "nombre_exposed         82\n",
    "nombre_recovered    18824\n",
    "Name: 53, dtype: int64"
   ]
  },
  {
   "cell_type": "markdown",
   "id": "985df9e8",
   "metadata": {},
   "source": [
    "nombre_infected       560\n",
    "nombre_sain           499\n",
    "nombre_exposed         78\n",
    "nombre_recovered    18863\n",
    "Name: 54, dtype: int64"
   ]
  },
  {
   "cell_type": "markdown",
   "id": "613df89f",
   "metadata": {},
   "source": [
    "nombre_infected       485\n",
    "nombre_sain           537\n",
    "nombre_exposed         72\n",
    "nombre_recovered    18906\n",
    "Name: 55, dtype: int64"
   ]
  },
  {
   "cell_type": "markdown",
   "id": "ae8477ff",
   "metadata": {},
   "source": [
    "nombre_infected       423\n",
    "nombre_sain           591\n",
    "nombre_exposed         62\n",
    "nombre_recovered    18924\n",
    "Name: 56, dtype: int64"
   ]
  },
  {
   "cell_type": "markdown",
   "id": "1e2a120a",
   "metadata": {},
   "source": [
    "nombre_infected       379\n",
    "nombre_sain           654\n",
    "nombre_exposed         53\n",
    "nombre_recovered    18914\n",
    "Name: 57, dtype: int64"
   ]
  },
  {
   "cell_type": "markdown",
   "id": "2b0dfe13",
   "metadata": {},
   "source": [
    "nombre_infected       346\n",
    "nombre_sain           709\n",
    "nombre_exposed         53\n",
    "nombre_recovered    18892\n",
    "Name: 58, dtype: int64"
   ]
  },
  {
   "cell_type": "markdown",
   "id": "02fce032",
   "metadata": {},
   "source": [
    "nombre_infected       315\n",
    "nombre_sain           749\n",
    "nombre_exposed         60\n",
    "nombre_recovered    18876\n",
    "Name: 59, dtype: int64"
   ]
  },
  {
   "cell_type": "markdown",
   "id": "e00f2d78",
   "metadata": {},
   "source": [
    "nombre_infected       282\n",
    "nombre_sain           794\n",
    "nombre_exposed         56\n",
    "nombre_recovered    18868\n",
    "Name: 60, dtype: int64"
   ]
  },
  {
   "cell_type": "markdown",
   "id": "7f45d664",
   "metadata": {},
   "source": [
    "nombre_infected       255\n",
    "nombre_sain           825\n",
    "nombre_exposed         51\n",
    "nombre_recovered    18869\n",
    "Name: 61, dtype: int64"
   ]
  },
  {
   "cell_type": "markdown",
   "id": "2f72a908",
   "metadata": {},
   "source": [
    "nombre_infected       234\n",
    "nombre_sain           867\n",
    "nombre_exposed         45\n",
    "nombre_recovered    18854\n",
    "Name: 62, dtype: int64"
   ]
  },
  {
   "cell_type": "markdown",
   "id": "c7cb1a03",
   "metadata": {},
   "source": [
    "nombre_infected       214\n",
    "nombre_sain           909\n",
    "nombre_exposed         43\n",
    "nombre_recovered    18834\n",
    "Name: 63, dtype: int64"
   ]
  },
  {
   "cell_type": "markdown",
   "id": "b7e0d45b",
   "metadata": {},
   "source": [
    "nombre_infected       204\n",
    "nombre_sain           934\n",
    "nombre_exposed         41\n",
    "nombre_recovered    18821\n",
    "Name: 64, dtype: int64"
   ]
  },
  {
   "cell_type": "markdown",
   "id": "fd8699af",
   "metadata": {},
   "source": [
    "nombre_infected       185\n",
    "nombre_sain           981\n",
    "nombre_exposed         32\n",
    "nombre_recovered    18802\n",
    "Name: 65, dtype: int64"
   ]
  },
  {
   "cell_type": "markdown",
   "id": "8ae9cd72",
   "metadata": {},
   "source": [
    "nombre_infected       176\n",
    "nombre_sain          1021\n",
    "nombre_exposed         33\n",
    "nombre_recovered    18770\n",
    "Name: 66, dtype: int64"
   ]
  },
  {
   "cell_type": "markdown",
   "id": "a8bba465",
   "metadata": {},
   "source": [
    "nombre_infected       169\n",
    "nombre_sain          1066\n",
    "nombre_exposed         35\n",
    "nombre_recovered    18730\n",
    "Name: 67, dtype: int64"
   ]
  },
  {
   "cell_type": "markdown",
   "id": "7a21f0df",
   "metadata": {},
   "source": [
    "nombre_infected       160\n",
    "nombre_sain          1109\n",
    "nombre_exposed         33\n",
    "nombre_recovered    18698\n",
    "Name: 68, dtype: int64"
   ]
  },
  {
   "cell_type": "markdown",
   "id": "280fd118",
   "metadata": {},
   "source": [
    "nombre_infected       157\n",
    "nombre_sain          1145\n",
    "nombre_exposed         34\n",
    "nombre_recovered    18664\n",
    "Name: 69, dtype: int64"
   ]
  },
  {
   "cell_type": "markdown",
   "id": "d20ddb0a",
   "metadata": {},
   "source": [
    "nombre_infected       136\n",
    "nombre_sain          1189\n",
    "nombre_exposed         33\n",
    "nombre_recovered    18642\n",
    "Name: 70, dtype: int64"
   ]
  },
  {
   "cell_type": "markdown",
   "id": "4a714b10",
   "metadata": {},
   "source": [
    "nombre_infected       122\n",
    "nombre_sain          1227\n",
    "nombre_exposed         38\n",
    "nombre_recovered    18613\n",
    "Name: 71, dtype: int64"
   ]
  },
  {
   "cell_type": "markdown",
   "id": "5dae624a",
   "metadata": {},
   "source": [
    "nombre_infected       112\n",
    "nombre_sain          1264\n",
    "nombre_exposed         40\n",
    "nombre_recovered    18584\n",
    "Name: 72, dtype: int64"
   ]
  },
  {
   "cell_type": "markdown",
   "id": "2a27736c",
   "metadata": {},
   "source": [
    "nombre_infected       111\n",
    "nombre_sain          1312\n",
    "nombre_exposed         35\n",
    "nombre_recovered    18542\n",
    "Name: 73, dtype: int64"
   ]
  },
  {
   "cell_type": "markdown",
   "id": "146e83c1",
   "metadata": {},
   "source": [
    "nombre_infected       106\n",
    "nombre_sain          1354\n",
    "nombre_exposed         34\n",
    "nombre_recovered    18506\n",
    "Name: 74, dtype: int64"
   ]
  },
  {
   "cell_type": "markdown",
   "id": "ab10a57d",
   "metadata": {},
   "source": [
    "nombre_infected       103\n",
    "nombre_sain          1391\n",
    "nombre_exposed         39\n",
    "nombre_recovered    18467\n",
    "Name: 75, dtype: int64"
   ]
  },
  {
   "cell_type": "markdown",
   "id": "892de713",
   "metadata": {},
   "source": [
    "nombre_infected       100\n",
    "nombre_sain          1426\n",
    "nombre_exposed         40\n",
    "nombre_recovered    18434\n",
    "Name: 76, dtype: int64"
   ]
  },
  {
   "cell_type": "markdown",
   "id": "dcbf5a42",
   "metadata": {},
   "source": [
    "nombre_infected        96\n",
    "nombre_sain          1458\n",
    "nombre_exposed         45\n",
    "nombre_recovered    18401\n",
    "Name: 77, dtype: int64"
   ]
  },
  {
   "cell_type": "markdown",
   "id": "aa43564e",
   "metadata": {},
   "source": [
    "nombre_infected        94\n",
    "nombre_sain          1499\n",
    "nombre_exposed         40\n",
    "nombre_recovered    18367\n",
    "Name: 78, dtype: int64"
   ]
  },
  {
   "cell_type": "markdown",
   "id": "8df79dac",
   "metadata": {},
   "source": [
    "nombre_infected        96\n",
    "nombre_sain          1537\n",
    "nombre_exposed         35\n",
    "nombre_recovered    18332\n",
    "Name: 79, dtype: int64"
   ]
  },
  {
   "cell_type": "markdown",
   "id": "227101ce",
   "metadata": {},
   "source": [
    "nombre_infected        89\n",
    "nombre_sain          1570\n",
    "nombre_exposed         35\n",
    "nombre_recovered    18306\n",
    "Name: 80, dtype: int64"
   ]
  },
  {
   "cell_type": "markdown",
   "id": "9b01d954",
   "metadata": {},
   "source": [
    "nombre_infected        81\n",
    "nombre_sain          1607\n",
    "nombre_exposed         35\n",
    "nombre_recovered    18277\n",
    "Name: 81, dtype: int64"
   ]
  },
  {
   "cell_type": "markdown",
   "id": "64b9b197",
   "metadata": {},
   "source": [
    "nombre_infected        77\n",
    "nombre_sain          1632\n",
    "nombre_exposed         33\n",
    "nombre_recovered    18258\n",
    "Name: 82, dtype: int64"
   ]
  },
  {
   "cell_type": "markdown",
   "id": "da160681",
   "metadata": {},
   "source": [
    "nombre_infected        79\n",
    "nombre_sain          1667\n",
    "nombre_exposed         24\n",
    "nombre_recovered    18230\n",
    "Name: 83, dtype: int64"
   ]
  },
  {
   "cell_type": "markdown",
   "id": "00cdd573",
   "metadata": {},
   "source": [
    "nombre_infected        72\n",
    "nombre_sain          1710\n",
    "nombre_exposed         24\n",
    "nombre_recovered    18194\n",
    "Name: 84, dtype: int64"
   ]
  },
  {
   "cell_type": "markdown",
   "id": "96b93044",
   "metadata": {},
   "source": [
    "nombre_infected        68\n",
    "nombre_sain          1750\n",
    "nombre_exposed         23\n",
    "nombre_recovered    18159\n",
    "Name: 85, dtype: int64"
   ]
  },
  {
   "cell_type": "markdown",
   "id": "619b9f63",
   "metadata": {},
   "source": [
    "nombre_infected        57\n",
    "nombre_sain          1799\n",
    "nombre_exposed         24\n",
    "nombre_recovered    18120\n",
    "Name: 86, dtype: int64"
   ]
  },
  {
   "cell_type": "markdown",
   "id": "759b31aa",
   "metadata": {},
   "source": [
    "nombre_infected        56\n",
    "nombre_sain          1841\n",
    "nombre_exposed         19\n",
    "nombre_recovered    18084\n",
    "Name: 87, dtype: int64"
   ]
  },
  {
   "cell_type": "markdown",
   "id": "3a0c1809",
   "metadata": {},
   "source": [
    "nombre_infected        56\n",
    "nombre_sain          1889\n",
    "nombre_exposed         26\n",
    "nombre_recovered    18029\n",
    "Name: 88, dtype: int64"
   ]
  },
  {
   "cell_type": "markdown",
   "id": "d5ab465c",
   "metadata": {},
   "source": [
    "nombre_infected        56\n",
    "nombre_sain          1926\n",
    "nombre_exposed         31\n",
    "nombre_recovered    17987\n",
    "Name: 89, dtype: int64"
   ]
  },
  {
   "cell_type": "markdown",
   "id": "8c385b46",
   "metadata": {},
   "source": [
    "nombre_infected        51\n",
    "nombre_sain          1969\n",
    "nombre_exposed         35\n",
    "nombre_recovered    17945\n",
    "Name: 90, dtype: int64"
   ]
  },
  {
   "cell_type": "markdown",
   "id": "bd68fb4b",
   "metadata": {},
   "source": [
    "nombre_infected        52\n",
    "nombre_sain          2026\n",
    "nombre_exposed         29\n",
    "nombre_recovered    17893\n",
    "Name: 91, dtype: int64"
   ]
  },
  {
   "cell_type": "markdown",
   "id": "4d815312",
   "metadata": {},
   "source": [
    "nombre_infected        53\n",
    "nombre_sain          2077\n",
    "nombre_exposed         31\n",
    "nombre_recovered    17839\n",
    "Name: 92, dtype: int64"
   ]
  },
  {
   "cell_type": "markdown",
   "id": "e117e3b6",
   "metadata": {},
   "source": [
    "nombre_infected        52\n",
    "nombre_sain          2150\n",
    "nombre_exposed         29\n",
    "nombre_recovered    17769\n",
    "Name: 93, dtype: int64"
   ]
  },
  {
   "cell_type": "markdown",
   "id": "bfebe15a",
   "metadata": {},
   "source": [
    "nombre_infected        57\n",
    "nombre_sain          2211\n",
    "nombre_exposed         27\n",
    "nombre_recovered    17705\n",
    "Name: 94, dtype: int64"
   ]
  },
  {
   "cell_type": "markdown",
   "id": "9f0d13eb",
   "metadata": {},
   "source": [
    "nombre_infected        59\n",
    "nombre_sain          2278\n",
    "nombre_exposed         29\n",
    "nombre_recovered    17634\n",
    "Name: 95, dtype: int64"
   ]
  },
  {
   "cell_type": "markdown",
   "id": "01da4917",
   "metadata": {},
   "source": [
    "nombre_infected        61\n",
    "nombre_sain          2341\n",
    "nombre_exposed         28\n",
    "nombre_recovered    17570\n",
    "Name: 96, dtype: int64"
   ]
  },
  {
   "cell_type": "markdown",
   "id": "c877cdd4",
   "metadata": {},
   "source": [
    "nombre_infected        54\n",
    "nombre_sain          2386\n",
    "nombre_exposed         35\n",
    "nombre_recovered    17525\n",
    "Name: 97, dtype: int64"
   ]
  },
  {
   "cell_type": "markdown",
   "id": "e4277b4b",
   "metadata": {},
   "source": [
    "nombre_infected        56\n",
    "nombre_sain          2432\n",
    "nombre_exposed         34\n",
    "nombre_recovered    17478\n",
    "Name: 98, dtype: int64"
   ]
  },
  {
   "cell_type": "markdown",
   "id": "187eadfc",
   "metadata": {},
   "source": [
    "nombre_infected        60\n",
    "nombre_sain          2488\n",
    "nombre_exposed         29\n",
    "nombre_recovered    17423\n",
    "Name: 99, dtype: int64"
   ]
  },
  {
   "cell_type": "markdown",
   "id": "297c9648",
   "metadata": {},
   "source": [
    "nombre_infected        57\n",
    "nombre_sain          2540\n",
    "nombre_exposed         28\n",
    "nombre_recovered    17375\n",
    "Name: 100, dtype: int64"
   ]
  },
  {
   "cell_type": "markdown",
   "id": "45ff7d37",
   "metadata": {},
   "source": [
    "nombre_infected        55\n",
    "nombre_sain          2580\n",
    "nombre_exposed         33\n",
    "nombre_recovered    17332\n",
    "Name: 101, dtype: int64"
   ]
  },
  {
   "cell_type": "markdown",
   "id": "7a9871a7",
   "metadata": {},
   "source": [
    "nombre_infected        54\n",
    "nombre_sain          2605\n",
    "nombre_exposed         36\n",
    "nombre_recovered    17305\n",
    "Name: 102, dtype: int64"
   ]
  },
  {
   "cell_type": "markdown",
   "id": "ddec573c",
   "metadata": {},
   "source": [
    "nombre_infected        54\n",
    "nombre_sain          2636\n",
    "nombre_exposed         41\n",
    "nombre_recovered    17269\n",
    "Name: 103, dtype: int64"
   ]
  },
  {
   "cell_type": "markdown",
   "id": "2113999c",
   "metadata": {},
   "source": [
    "nombre_infected        55\n",
    "nombre_sain          2671\n",
    "nombre_exposed         39\n",
    "nombre_recovered    17235\n",
    "Name: 104, dtype: int64"
   ]
  },
  {
   "cell_type": "markdown",
   "id": "af477167",
   "metadata": {},
   "source": [
    "nombre_infected        60\n",
    "nombre_sain          2689\n",
    "nombre_exposed         41\n",
    "nombre_recovered    17210\n",
    "Name: 105, dtype: int64"
   ]
  },
  {
   "cell_type": "markdown",
   "id": "b8a79be3",
   "metadata": {},
   "source": [
    "nombre_infected        56\n",
    "nombre_sain          2719\n",
    "nombre_exposed         44\n",
    "nombre_recovered    17181\n",
    "Name: 106, dtype: int64"
   ]
  },
  {
   "cell_type": "markdown",
   "id": "d4634ace",
   "metadata": {},
   "source": [
    "nombre_infected        60\n",
    "nombre_sain          2745\n",
    "nombre_exposed         40\n",
    "nombre_recovered    17155\n",
    "Name: 107, dtype: int64"
   ]
  },
  {
   "cell_type": "markdown",
   "id": "6af51d92",
   "metadata": {},
   "source": [
    "nombre_infected        61\n",
    "nombre_sain          2782\n",
    "nombre_exposed         39\n",
    "nombre_recovered    17118\n",
    "Name: 108, dtype: int64"
   ]
  },
  {
   "cell_type": "markdown",
   "id": "6daeef2c",
   "metadata": {},
   "source": [
    "nombre_infected        55\n",
    "nombre_sain          2810\n",
    "nombre_exposed         42\n",
    "nombre_recovered    17093\n",
    "Name: 109, dtype: int64"
   ]
  },
  {
   "cell_type": "markdown",
   "id": "dd2b9770",
   "metadata": {},
   "source": [
    "nombre_infected        60\n",
    "nombre_sain          2838\n",
    "nombre_exposed         40\n",
    "nombre_recovered    17062\n",
    "Name: 110, dtype: int64"
   ]
  },
  {
   "cell_type": "markdown",
   "id": "41f8772c",
   "metadata": {},
   "source": [
    "nombre_infected        62\n",
    "nombre_sain          2859\n",
    "nombre_exposed         43\n",
    "nombre_recovered    17036\n",
    "Name: 111, dtype: int64"
   ]
  },
  {
   "cell_type": "markdown",
   "id": "f6eceb68",
   "metadata": {},
   "source": [
    "nombre_infected        69\n",
    "nombre_sain          2880\n",
    "nombre_exposed         39\n",
    "nombre_recovered    17012\n",
    "Name: 112, dtype: int64"
   ]
  },
  {
   "cell_type": "markdown",
   "id": "110fa93f",
   "metadata": {},
   "source": [
    "nombre_infected        72\n",
    "nombre_sain          2904\n",
    "nombre_exposed         37\n",
    "nombre_recovered    16987\n",
    "Name: 113, dtype: int64"
   ]
  },
  {
   "cell_type": "markdown",
   "id": "42b64403",
   "metadata": {},
   "source": [
    "nombre_infected        69\n",
    "nombre_sain          2923\n",
    "nombre_exposed         41\n",
    "nombre_recovered    16967\n",
    "Name: 114, dtype: int64"
   ]
  },
  {
   "cell_type": "markdown",
   "id": "7d00d7fe",
   "metadata": {},
   "source": [
    "nombre_infected        67\n",
    "nombre_sain          2941\n",
    "nombre_exposed         48\n",
    "nombre_recovered    16944\n",
    "Name: 115, dtype: int64"
   ]
  },
  {
   "cell_type": "markdown",
   "id": "9c0ad60b",
   "metadata": {},
   "source": [
    "nombre_infected        67\n",
    "nombre_sain          2961\n",
    "nombre_exposed         49\n",
    "nombre_recovered    16923\n",
    "Name: 116, dtype: int64"
   ]
  },
  {
   "cell_type": "markdown",
   "id": "ecc4926c",
   "metadata": {},
   "source": [
    "nombre_infected        75\n",
    "nombre_sain          2990\n",
    "nombre_exposed         50\n",
    "nombre_recovered    16885\n",
    "Name: 117, dtype: int64"
   ]
  },
  {
   "cell_type": "markdown",
   "id": "13841795",
   "metadata": {},
   "source": [
    "nombre_infected        78\n",
    "nombre_sain          3027\n",
    "nombre_exposed         49\n",
    "nombre_recovered    16846\n",
    "Name: 118, dtype: int64"
   ]
  },
  {
   "cell_type": "markdown",
   "id": "1a49b9b2",
   "metadata": {},
   "source": [
    "nombre_infected        81\n",
    "nombre_sain          3073\n",
    "nombre_exposed         49\n",
    "nombre_recovered    16797\n",
    "Name: 119, dtype: int64"
   ]
  },
  {
   "cell_type": "markdown",
   "id": "0101ad3a",
   "metadata": {},
   "source": [
    "nombre_infected        90\n",
    "nombre_sain          3098\n",
    "nombre_exposed         54\n",
    "nombre_recovered    16758\n",
    "Name: 120, dtype: int64"
   ]
  },
  {
   "cell_type": "markdown",
   "id": "3f0ea94e",
   "metadata": {},
   "source": [
    "nombre_infected        95\n",
    "nombre_sain          3137\n",
    "nombre_exposed         60\n",
    "nombre_recovered    16708\n",
    "Name: 121, dtype: int64"
   ]
  },
  {
   "cell_type": "markdown",
   "id": "86f87382",
   "metadata": {},
   "source": [
    "nombre_infected        91\n",
    "nombre_sain          3163\n",
    "nombre_exposed         73\n",
    "nombre_recovered    16673\n",
    "Name: 122, dtype: int64"
   ]
  },
  {
   "cell_type": "markdown",
   "id": "fdd815e1",
   "metadata": {},
   "source": [
    "nombre_infected       100\n",
    "nombre_sain          3199\n",
    "nombre_exposed         74\n",
    "nombre_recovered    16627\n",
    "Name: 123, dtype: int64"
   ]
  },
  {
   "cell_type": "markdown",
   "id": "8ccc7c6f",
   "metadata": {},
   "source": [
    "nombre_infected       102\n",
    "nombre_sain          3236\n",
    "nombre_exposed         75\n",
    "nombre_recovered    16587\n",
    "Name: 124, dtype: int64"
   ]
  },
  {
   "cell_type": "markdown",
   "id": "211c1362",
   "metadata": {},
   "source": [
    "nombre_infected       109\n",
    "nombre_sain          3267\n",
    "nombre_exposed         77\n",
    "nombre_recovered    16547\n",
    "Name: 125, dtype: int64"
   ]
  },
  {
   "cell_type": "markdown",
   "id": "154549f9",
   "metadata": {},
   "source": [
    "nombre_infected       112\n",
    "nombre_sain          3295\n",
    "nombre_exposed         77\n",
    "nombre_recovered    16516\n",
    "Name: 126, dtype: int64"
   ]
  },
  {
   "cell_type": "markdown",
   "id": "5b7fa6ff",
   "metadata": {},
   "source": [
    "nombre_infected       116\n",
    "nombre_sain          3322\n",
    "nombre_exposed         84\n",
    "nombre_recovered    16478\n",
    "Name: 127, dtype: int64"
   ]
  },
  {
   "cell_type": "markdown",
   "id": "7ca5c839",
   "metadata": {},
   "source": [
    "nombre_infected       120\n",
    "nombre_sain          3356\n",
    "nombre_exposed         98\n",
    "nombre_recovered    16426\n",
    "Name: 128, dtype: int64"
   ]
  },
  {
   "cell_type": "markdown",
   "id": "e8b1a6f2",
   "metadata": {},
   "source": [
    "nombre_infected       129\n",
    "nombre_sain          3393\n",
    "nombre_exposed         92\n",
    "nombre_recovered    16386\n",
    "Name: 129, dtype: int64"
   ]
  },
  {
   "cell_type": "markdown",
   "id": "8b05ae94",
   "metadata": {},
   "source": [
    "nombre_infected       142\n",
    "nombre_sain          3430\n",
    "nombre_exposed         92\n",
    "nombre_recovered    16336\n",
    "Name: 130, dtype: int64"
   ]
  },
  {
   "cell_type": "markdown",
   "id": "5237e2a1",
   "metadata": {},
   "source": [
    "nombre_infected       150\n",
    "nombre_sain          3460\n",
    "nombre_exposed         99\n",
    "nombre_recovered    16291\n",
    "Name: 131, dtype: int64"
   ]
  },
  {
   "cell_type": "markdown",
   "id": "e32803d2",
   "metadata": {},
   "source": [
    "nombre_infected       149\n",
    "nombre_sain          3463\n",
    "nombre_exposed        129\n",
    "nombre_recovered    16259\n",
    "Name: 132, dtype: int64"
   ]
  },
  {
   "cell_type": "markdown",
   "id": "417dc93e",
   "metadata": {},
   "source": [
    "nombre_infected       154\n",
    "nombre_sain          3495\n",
    "nombre_exposed        140\n",
    "nombre_recovered    16211\n",
    "Name: 133, dtype: int64"
   ]
  },
  {
   "cell_type": "markdown",
   "id": "4d3872fa",
   "metadata": {},
   "source": [
    "nombre_infected       165\n",
    "nombre_sain          3524\n",
    "nombre_exposed        139\n",
    "nombre_recovered    16172\n",
    "Name: 134, dtype: int64"
   ]
  },
  {
   "cell_type": "markdown",
   "id": "e97be8a7",
   "metadata": {},
   "source": [
    "nombre_infected       171\n",
    "nombre_sain          3542\n",
    "nombre_exposed        142\n",
    "nombre_recovered    16145\n",
    "Name: 135, dtype: int64"
   ]
  },
  {
   "cell_type": "markdown",
   "id": "a9f5f81c",
   "metadata": {},
   "source": [
    "nombre_infected       187\n",
    "nombre_sain          3545\n",
    "nombre_exposed        156\n",
    "nombre_recovered    16112\n",
    "Name: 136, dtype: int64"
   ]
  },
  {
   "cell_type": "markdown",
   "id": "01c62646",
   "metadata": {},
   "source": [
    "nombre_infected       202\n",
    "nombre_sain          3552\n",
    "nombre_exposed        167\n",
    "nombre_recovered    16079\n",
    "Name: 137, dtype: int64"
   ]
  },
  {
   "cell_type": "markdown",
   "id": "581386e0",
   "metadata": {},
   "source": [
    "nombre_infected       209\n",
    "nombre_sain          3573\n",
    "nombre_exposed        166\n",
    "nombre_recovered    16052\n",
    "Name: 138, dtype: int64"
   ]
  },
  {
   "cell_type": "markdown",
   "id": "1abf6ee3",
   "metadata": {},
   "source": [
    "nombre_infected       214\n",
    "nombre_sain          3593\n",
    "nombre_exposed        170\n",
    "nombre_recovered    16023\n",
    "Name: 139, dtype: int64"
   ]
  },
  {
   "cell_type": "markdown",
   "id": "2262db63",
   "metadata": {},
   "source": [
    "nombre_infected       238\n",
    "nombre_sain          3593\n",
    "nombre_exposed        187\n",
    "nombre_recovered    15982\n",
    "Name: 140, dtype: int64"
   ]
  },
  {
   "cell_type": "markdown",
   "id": "38dd3194",
   "metadata": {},
   "source": [
    "nombre_infected       236\n",
    "nombre_sain          3614\n",
    "nombre_exposed        204\n",
    "nombre_recovered    15946\n",
    "Name: 141, dtype: int64"
   ]
  },
  {
   "cell_type": "markdown",
   "id": "3b17b363",
   "metadata": {},
   "source": [
    "nombre_infected       256\n",
    "nombre_sain          3614\n",
    "nombre_exposed        211\n",
    "nombre_recovered    15919\n",
    "Name: 142, dtype: int64"
   ]
  },
  {
   "cell_type": "markdown",
   "id": "6a3991a3",
   "metadata": {},
   "source": [
    "nombre_infected       262\n",
    "nombre_sain          3614\n",
    "nombre_exposed        231\n",
    "nombre_recovered    15893\n",
    "Name: 143, dtype: int64"
   ]
  },
  {
   "cell_type": "markdown",
   "id": "85bf43c6",
   "metadata": {},
   "source": [
    "nombre_infected       270\n",
    "nombre_sain          3622\n",
    "nombre_exposed        237\n",
    "nombre_recovered    15871\n",
    "Name: 144, dtype: int64"
   ]
  },
  {
   "cell_type": "markdown",
   "id": "2214aadc",
   "metadata": {},
   "source": [
    "nombre_infected       282\n",
    "nombre_sain          3613\n",
    "nombre_exposed        258\n",
    "nombre_recovered    15847\n",
    "Name: 145, dtype: int64"
   ]
  },
  {
   "cell_type": "markdown",
   "id": "be96289e",
   "metadata": {},
   "source": [
    "nombre_infected       286\n",
    "nombre_sain          3590\n",
    "nombre_exposed        274\n",
    "nombre_recovered    15850\n",
    "Name: 146, dtype: int64"
   ]
  },
  {
   "cell_type": "markdown",
   "id": "d2621217",
   "metadata": {},
   "source": [
    "nombre_infected       300\n",
    "nombre_sain          3583\n",
    "nombre_exposed        289\n",
    "nombre_recovered    15828\n",
    "Name: 147, dtype: int64"
   ]
  },
  {
   "cell_type": "markdown",
   "id": "7dd52d60",
   "metadata": {},
   "source": [
    "nombre_infected       324\n",
    "nombre_sain          3579\n",
    "nombre_exposed        294\n",
    "nombre_recovered    15803\n",
    "Name: 148, dtype: int64"
   ]
  },
  {
   "cell_type": "markdown",
   "id": "6fd44c71",
   "metadata": {},
   "source": [
    "nombre_infected       352\n",
    "nombre_sain          3568\n",
    "nombre_exposed        299\n",
    "nombre_recovered    15781\n",
    "Name: 149, dtype: int64"
   ]
  },
  {
   "cell_type": "markdown",
   "id": "9bb227dc",
   "metadata": {},
   "source": [
    "nombre_infected       379\n",
    "nombre_sain          3566\n",
    "nombre_exposed        302\n",
    "nombre_recovered    15753\n",
    "Name: 150, dtype: int64"
   ]
  },
  {
   "cell_type": "markdown",
   "id": "d71a3091",
   "metadata": {},
   "source": [
    "nombre_infected       394\n",
    "nombre_sain          3550\n",
    "nombre_exposed        325\n",
    "nombre_recovered    15731\n",
    "Name: 151, dtype: int64"
   ]
  },
  {
   "cell_type": "markdown",
   "id": "916145d1",
   "metadata": {},
   "source": [
    "nombre_infected       409\n",
    "nombre_sain          3536\n",
    "nombre_exposed        340\n",
    "nombre_recovered    15715\n",
    "Name: 152, dtype: int64"
   ]
  },
  {
   "cell_type": "markdown",
   "id": "729bc6f7",
   "metadata": {},
   "source": [
    "nombre_infected       436\n",
    "nombre_sain          3525\n",
    "nombre_exposed        354\n",
    "nombre_recovered    15685\n",
    "Name: 153, dtype: int64"
   ]
  },
  {
   "cell_type": "markdown",
   "id": "b3fa2b14",
   "metadata": {},
   "source": [
    "nombre_infected       447\n",
    "nombre_sain          3524\n",
    "nombre_exposed        367\n",
    "nombre_recovered    15662\n",
    "Name: 154, dtype: int64"
   ]
  },
  {
   "cell_type": "markdown",
   "id": "502abb7b",
   "metadata": {},
   "source": [
    "nombre_infected       467\n",
    "nombre_sain          3494\n",
    "nombre_exposed        404\n",
    "nombre_recovered    15635\n",
    "Name: 155, dtype: int64"
   ]
  },
  {
   "cell_type": "markdown",
   "id": "8992b7c2",
   "metadata": {},
   "source": [
    "nombre_infected       479\n",
    "nombre_sain          3480\n",
    "nombre_exposed        437\n",
    "nombre_recovered    15604\n",
    "Name: 156, dtype: int64"
   ]
  },
  {
   "cell_type": "markdown",
   "id": "d828cc4f",
   "metadata": {},
   "source": [
    "nombre_infected       502\n",
    "nombre_sain          3469\n",
    "nombre_exposed        448\n",
    "nombre_recovered    15581\n",
    "Name: 157, dtype: int64"
   ]
  },
  {
   "cell_type": "markdown",
   "id": "eb51da08",
   "metadata": {},
   "source": [
    "nombre_infected       513\n",
    "nombre_sain          3458\n",
    "nombre_exposed        462\n",
    "nombre_recovered    15567\n",
    "Name: 158, dtype: int64"
   ]
  },
  {
   "cell_type": "markdown",
   "id": "7f96feb7",
   "metadata": {},
   "source": [
    "nombre_infected       535\n",
    "nombre_sain          3442\n",
    "nombre_exposed        484\n",
    "nombre_recovered    15539\n",
    "Name: 159, dtype: int64"
   ]
  },
  {
   "cell_type": "markdown",
   "id": "c8180154",
   "metadata": {},
   "source": [
    "nombre_infected       560\n",
    "nombre_sain          3433\n",
    "nombre_exposed        493\n",
    "nombre_recovered    15514\n",
    "Name: 160, dtype: int64"
   ]
  },
  {
   "cell_type": "markdown",
   "id": "bf394284",
   "metadata": {},
   "source": [
    "nombre_infected       587\n",
    "nombre_sain          3400\n",
    "nombre_exposed        515\n",
    "nombre_recovered    15498\n",
    "Name: 161, dtype: int64"
   ]
  },
  {
   "cell_type": "markdown",
   "id": "0a9449e0",
   "metadata": {},
   "source": [
    "nombre_infected       627\n",
    "nombre_sain          3368\n",
    "nombre_exposed        528\n",
    "nombre_recovered    15477\n",
    "Name: 162, dtype: int64"
   ]
  },
  {
   "cell_type": "markdown",
   "id": "4bc7f7be",
   "metadata": {},
   "source": [
    "nombre_infected       657\n",
    "nombre_sain          3316\n",
    "nombre_exposed        548\n",
    "nombre_recovered    15479\n",
    "Name: 163, dtype: int64"
   ]
  },
  {
   "cell_type": "markdown",
   "id": "322bda35",
   "metadata": {},
   "source": [
    "nombre_infected       702\n",
    "nombre_sain          3270\n",
    "nombre_exposed        574\n",
    "nombre_recovered    15454\n",
    "Name: 164, dtype: int64"
   ]
  },
  {
   "cell_type": "markdown",
   "id": "a7fefddf",
   "metadata": {},
   "source": [
    "nombre_infected       733\n",
    "nombre_sain          3236\n",
    "nombre_exposed        561\n",
    "nombre_recovered    15470\n",
    "Name: 165, dtype: int64"
   ]
  },
  {
   "cell_type": "markdown",
   "id": "d4d64c0b",
   "metadata": {},
   "source": [
    "nombre_infected       756\n",
    "nombre_sain          3163\n",
    "nombre_exposed        582\n",
    "nombre_recovered    15499\n",
    "Name: 166, dtype: int64"
   ]
  },
  {
   "cell_type": "markdown",
   "id": "0fbcd0c3",
   "metadata": {},
   "source": [
    "nombre_infected       766\n",
    "nombre_sain          3083\n",
    "nombre_exposed        613\n",
    "nombre_recovered    15538\n",
    "Name: 167, dtype: int64"
   ]
  },
  {
   "cell_type": "markdown",
   "id": "7147a6fb",
   "metadata": {},
   "source": [
    "nombre_infected       792\n",
    "nombre_sain          3000\n",
    "nombre_exposed        638\n",
    "nombre_recovered    15570\n",
    "Name: 168, dtype: int64"
   ]
  },
  {
   "cell_type": "markdown",
   "id": "c5f5eeee",
   "metadata": {},
   "source": [
    "nombre_infected       839\n",
    "nombre_sain          2900\n",
    "nombre_exposed        653\n",
    "nombre_recovered    15608\n",
    "Name: 169, dtype: int64"
   ]
  },
  {
   "cell_type": "markdown",
   "id": "0aed617d",
   "metadata": {},
   "source": [
    "nombre_infected       865\n",
    "nombre_sain          2832\n",
    "nombre_exposed        653\n",
    "nombre_recovered    15650\n",
    "Name: 170, dtype: int64"
   ]
  },
  {
   "cell_type": "markdown",
   "id": "8f7be951",
   "metadata": {},
   "source": [
    "nombre_infected       904\n",
    "nombre_sain          2738\n",
    "nombre_exposed        659\n",
    "nombre_recovered    15699\n",
    "Name: 171, dtype: int64"
   ]
  },
  {
   "cell_type": "markdown",
   "id": "2057c43f",
   "metadata": {},
   "source": [
    "nombre_infected       940\n",
    "nombre_sain          2637\n",
    "nombre_exposed        660\n",
    "nombre_recovered    15763\n",
    "Name: 172, dtype: int64"
   ]
  },
  {
   "cell_type": "markdown",
   "id": "713a7225",
   "metadata": {},
   "source": [
    "nombre_infected       941\n",
    "nombre_sain          2538\n",
    "nombre_exposed        694\n",
    "nombre_recovered    15827\n",
    "Name: 173, dtype: int64"
   ]
  },
  {
   "cell_type": "markdown",
   "id": "0c90cb5e",
   "metadata": {},
   "source": [
    "nombre_infected       976\n",
    "nombre_sain          2449\n",
    "nombre_exposed        705\n",
    "nombre_recovered    15870\n",
    "Name: 174, dtype: int64"
   ]
  },
  {
   "cell_type": "markdown",
   "id": "8ee2b74c",
   "metadata": {},
   "source": [
    "nombre_infected       972\n",
    "nombre_sain          2350\n",
    "nombre_exposed        695\n",
    "nombre_recovered    15983\n",
    "Name: 175, dtype: int64"
   ]
  },
  {
   "cell_type": "markdown",
   "id": "93888d93",
   "metadata": {},
   "source": [
    "nombre_infected      1059\n",
    "nombre_sain          2277\n",
    "nombre_exposed        635\n",
    "nombre_recovered    16029\n",
    "Name: 176, dtype: int64"
   ]
  },
  {
   "cell_type": "markdown",
   "id": "7300cbeb",
   "metadata": {},
   "source": [
    "nombre_infected      1068\n",
    "nombre_sain          2178\n",
    "nombre_exposed        642\n",
    "nombre_recovered    16112\n",
    "Name: 177, dtype: int64"
   ]
  },
  {
   "cell_type": "markdown",
   "id": "01193359",
   "metadata": {},
   "source": [
    "nombre_infected      1079\n",
    "nombre_sain          2099\n",
    "nombre_exposed        614\n",
    "nombre_recovered    16208\n",
    "Name: 178, dtype: int64"
   ]
  },
  {
   "cell_type": "markdown",
   "id": "1fe255cd",
   "metadata": {},
   "source": [
    "nombre_infected      1071\n",
    "nombre_sain          2037\n",
    "nombre_exposed        600\n",
    "nombre_recovered    16292\n",
    "Name: 179, dtype: int64"
   ]
  },
  {
   "cell_type": "markdown",
   "id": "9613b0c7",
   "metadata": {},
   "source": [
    "nombre_infected      1092\n",
    "nombre_sain          1982\n",
    "nombre_exposed        564\n",
    "nombre_recovered    16362\n",
    "Name: 180, dtype: int64"
   ]
  },
  {
   "cell_type": "markdown",
   "id": "1d8111ee",
   "metadata": {},
   "source": [
    "nombre_infected      1122\n",
    "nombre_sain          1911\n",
    "nombre_exposed        538\n",
    "nombre_recovered    16429\n",
    "Name: 181, dtype: int64"
   ]
  },
  {
   "cell_type": "markdown",
   "id": "fa79f514",
   "metadata": {},
   "source": [
    "nombre_infected      1106\n",
    "nombre_sain          1894\n",
    "nombre_exposed        529\n",
    "nombre_recovered    16471\n",
    "Name: 182, dtype: int64"
   ]
  },
  {
   "cell_type": "markdown",
   "id": "4c818915",
   "metadata": {},
   "source": [
    "nombre_infected      1086\n",
    "nombre_sain          1850\n",
    "nombre_exposed        535\n",
    "nombre_recovered    16529\n",
    "Name: 183, dtype: int64"
   ]
  },
  {
   "cell_type": "markdown",
   "id": "d02b0b7e",
   "metadata": {},
   "source": [
    "nombre_infected      1081\n",
    "nombre_sain          1834\n",
    "nombre_exposed        511\n",
    "nombre_recovered    16574\n",
    "Name: 184, dtype: int64"
   ]
  },
  {
   "cell_type": "markdown",
   "id": "361cc7c6",
   "metadata": {},
   "source": [
    "nombre_infected      1094\n",
    "nombre_sain          1806\n",
    "nombre_exposed        490\n",
    "nombre_recovered    16610\n",
    "Name: 185, dtype: int64"
   ]
  },
  {
   "cell_type": "markdown",
   "id": "34d9c24c",
   "metadata": {},
   "source": [
    "nombre_infected      1067\n",
    "nombre_sain          1763\n",
    "nombre_exposed        482\n",
    "nombre_recovered    16688\n",
    "Name: 186, dtype: int64"
   ]
  },
  {
   "cell_type": "markdown",
   "id": "a420541a",
   "metadata": {},
   "source": [
    "nombre_infected      1040\n",
    "nombre_sain          1744\n",
    "nombre_exposed        484\n",
    "nombre_recovered    16732\n",
    "Name: 187, dtype: int64"
   ]
  },
  {
   "cell_type": "markdown",
   "id": "d0cd22a2",
   "metadata": {},
   "source": [
    "nombre_infected      1029\n",
    "nombre_sain          1717\n",
    "nombre_exposed        477\n",
    "nombre_recovered    16777\n",
    "Name: 188, dtype: int64"
   ]
  },
  {
   "cell_type": "markdown",
   "id": "2cb9543a",
   "metadata": {},
   "source": [
    "nombre_infected      1000\n",
    "nombre_sain          1718\n",
    "nombre_exposed        471\n",
    "nombre_recovered    16811\n",
    "Name: 189, dtype: int64"
   ]
  },
  {
   "cell_type": "markdown",
   "id": "fd6e4f45",
   "metadata": {},
   "source": [
    "nombre_infected       997\n",
    "nombre_sain          1734\n",
    "nombre_exposed        454\n",
    "nombre_recovered    16815\n",
    "Name: 190, dtype: int64"
   ]
  },
  {
   "cell_type": "markdown",
   "id": "ce5f26a1",
   "metadata": {},
   "source": [
    "nombre_infected      1003\n",
    "nombre_sain          1731\n",
    "nombre_exposed        437\n",
    "nombre_recovered    16829\n",
    "Name: 191, dtype: int64"
   ]
  },
  {
   "cell_type": "markdown",
   "id": "e9597615",
   "metadata": {},
   "source": [
    "nombre_infected      1005\n",
    "nombre_sain          1733\n",
    "nombre_exposed        427\n",
    "nombre_recovered    16835\n",
    "Name: 192, dtype: int64"
   ]
  },
  {
   "cell_type": "markdown",
   "id": "0728678d",
   "metadata": {},
   "source": [
    "nombre_infected       982\n",
    "nombre_sain          1715\n",
    "nombre_exposed        431\n",
    "nombre_recovered    16872\n",
    "Name: 193, dtype: int64"
   ]
  },
  {
   "cell_type": "markdown",
   "id": "5262278f",
   "metadata": {},
   "source": [
    "nombre_infected       963\n",
    "nombre_sain          1738\n",
    "nombre_exposed        429\n",
    "nombre_recovered    16870\n",
    "Name: 194, dtype: int64"
   ]
  },
  {
   "cell_type": "markdown",
   "id": "95bfb8ca",
   "metadata": {},
   "source": [
    "nombre_infected       953\n",
    "nombre_sain          1749\n",
    "nombre_exposed        405\n",
    "nombre_recovered    16893\n",
    "Name: 195, dtype: int64"
   ]
  },
  {
   "cell_type": "markdown",
   "id": "4ed1deeb",
   "metadata": {},
   "source": [
    "nombre_infected       950\n",
    "nombre_sain          1745\n",
    "nombre_exposed        386\n",
    "nombre_recovered    16919\n",
    "Name: 196, dtype: int64"
   ]
  },
  {
   "cell_type": "markdown",
   "id": "26433c3e",
   "metadata": {},
   "source": [
    "nombre_infected       938\n",
    "nombre_sain          1721\n",
    "nombre_exposed        409\n",
    "nombre_recovered    16932\n",
    "Name: 197, dtype: int64"
   ]
  },
  {
   "cell_type": "markdown",
   "id": "8c3d39e6",
   "metadata": {},
   "source": [
    "nombre_infected       924\n",
    "nombre_sain          1732\n",
    "nombre_exposed        410\n",
    "nombre_recovered    16934\n",
    "Name: 198, dtype: int64"
   ]
  },
  {
   "cell_type": "markdown",
   "id": "86569701",
   "metadata": {},
   "source": [
    "nombre_infected       904\n",
    "nombre_sain          1720\n",
    "nombre_exposed        427\n",
    "nombre_recovered    16949\n",
    "Name: 199, dtype: int64"
   ]
  },
  {
   "cell_type": "markdown",
   "id": "73578649",
   "metadata": {},
   "source": [
    "nombre_infected       913\n",
    "nombre_sain          1710\n",
    "nombre_exposed        421\n",
    "nombre_recovered    16956\n",
    "Name: 200, dtype: int64"
   ]
  },
  {
   "cell_type": "markdown",
   "id": "b366fd33",
   "metadata": {},
   "source": [
    "nombre_infected       918\n",
    "nombre_sain          1685\n",
    "nombre_exposed        414\n",
    "nombre_recovered    16983\n",
    "Name: 201, dtype: int64"
   ]
  },
  {
   "cell_type": "markdown",
   "id": "f1dbd51f",
   "metadata": {},
   "source": [
    "nombre_infected       902\n",
    "nombre_sain          1672\n",
    "nombre_exposed        417\n",
    "nombre_recovered    17009\n",
    "Name: 202, dtype: int64"
   ]
  },
  {
   "cell_type": "markdown",
   "id": "1c3d320b",
   "metadata": {},
   "source": [
    "nombre_infected       905\n",
    "nombre_sain          1651\n",
    "nombre_exposed        413\n",
    "nombre_recovered    17031\n",
    "Name: 203, dtype: int64"
   ]
  },
  {
   "cell_type": "markdown",
   "id": "04674a4f",
   "metadata": {},
   "source": [
    "nombre_infected       931\n",
    "nombre_sain          1638\n",
    "nombre_exposed        403\n",
    "nombre_recovered    17028\n",
    "Name: 204, dtype: int64"
   ]
  },
  {
   "cell_type": "markdown",
   "id": "f8417672",
   "metadata": {},
   "source": [
    "nombre_infected       915\n",
    "nombre_sain          1629\n",
    "nombre_exposed        386\n",
    "nombre_recovered    17070\n",
    "Name: 205, dtype: int64"
   ]
  },
  {
   "cell_type": "markdown",
   "id": "14230c5d",
   "metadata": {},
   "source": [
    "nombre_infected       925\n",
    "nombre_sain          1609\n",
    "nombre_exposed        365\n",
    "nombre_recovered    17101\n",
    "Name: 206, dtype: int64"
   ]
  },
  {
   "cell_type": "markdown",
   "id": "ceaba2ea",
   "metadata": {},
   "source": [
    "nombre_infected       905\n",
    "nombre_sain          1574\n",
    "nombre_exposed        369\n",
    "nombre_recovered    17152\n",
    "Name: 207, dtype: int64"
   ]
  },
  {
   "cell_type": "markdown",
   "id": "3580022a",
   "metadata": {},
   "source": [
    "nombre_infected       909\n",
    "nombre_sain          1548\n",
    "nombre_exposed        378\n",
    "nombre_recovered    17165\n",
    "Name: 208, dtype: int64"
   ]
  },
  {
   "cell_type": "markdown",
   "id": "97219418",
   "metadata": {},
   "source": [
    "nombre_infected       897\n",
    "nombre_sain          1538\n",
    "nombre_exposed        374\n",
    "nombre_recovered    17191\n",
    "Name: 209, dtype: int64"
   ]
  },
  {
   "cell_type": "markdown",
   "id": "f51023a4",
   "metadata": {},
   "source": [
    "nombre_infected       885\n",
    "nombre_sain          1531\n",
    "nombre_exposed        364\n",
    "nombre_recovered    17220\n",
    "Name: 210, dtype: int64"
   ]
  },
  {
   "cell_type": "markdown",
   "id": "48655306",
   "metadata": {},
   "source": [
    "nombre_infected       871\n",
    "nombre_sain          1514\n",
    "nombre_exposed        362\n",
    "nombre_recovered    17253\n",
    "Name: 211, dtype: int64"
   ]
  },
  {
   "cell_type": "markdown",
   "id": "0639bc42",
   "metadata": {},
   "source": [
    "nombre_infected       862\n",
    "nombre_sain          1507\n",
    "nombre_exposed        355\n",
    "nombre_recovered    17276\n",
    "Name: 212, dtype: int64"
   ]
  },
  {
   "cell_type": "markdown",
   "id": "0bf848b7",
   "metadata": {},
   "source": [
    "nombre_infected       814\n",
    "nombre_sain          1514\n",
    "nombre_exposed        342\n",
    "nombre_recovered    17330\n",
    "Name: 213, dtype: int64"
   ]
  },
  {
   "cell_type": "markdown",
   "id": "b74fd5ec",
   "metadata": {},
   "source": [
    "nombre_infected       792\n",
    "nombre_sain          1521\n",
    "nombre_exposed        339\n",
    "nombre_recovered    17348\n",
    "Name: 214, dtype: int64"
   ]
  },
  {
   "cell_type": "markdown",
   "id": "15d790d3",
   "metadata": {},
   "source": [
    "nombre_infected       775\n",
    "nombre_sain          1530\n",
    "nombre_exposed        321\n",
    "nombre_recovered    17374\n",
    "Name: 215, dtype: int64"
   ]
  },
  {
   "cell_type": "markdown",
   "id": "1a663e28",
   "metadata": {},
   "source": [
    "nombre_infected       764\n",
    "nombre_sain          1547\n",
    "nombre_exposed        286\n",
    "nombre_recovered    17403\n",
    "Name: 216, dtype: int64"
   ]
  },
  {
   "cell_type": "markdown",
   "id": "650b3e31",
   "metadata": {},
   "source": [
    "nombre_infected       742\n",
    "nombre_sain          1545\n",
    "nombre_exposed        293\n",
    "nombre_recovered    17420\n",
    "Name: 217, dtype: int64"
   ]
  },
  {
   "cell_type": "markdown",
   "id": "f9722240",
   "metadata": {},
   "source": [
    "nombre_infected       716\n",
    "nombre_sain          1554\n",
    "nombre_exposed        297\n",
    "nombre_recovered    17433\n",
    "Name: 218, dtype: int64"
   ]
  },
  {
   "cell_type": "markdown",
   "id": "80f8f7e0",
   "metadata": {},
   "source": [
    "nombre_infected       706\n",
    "nombre_sain          1536\n",
    "nombre_exposed        294\n",
    "nombre_recovered    17464\n",
    "Name: 219, dtype: int64"
   ]
  },
  {
   "cell_type": "markdown",
   "id": "2fc512a2",
   "metadata": {},
   "source": [
    "nombre_infected       688\n",
    "nombre_sain          1554\n",
    "nombre_exposed        297\n",
    "nombre_recovered    17461\n",
    "Name: 220, dtype: int64"
   ]
  },
  {
   "cell_type": "markdown",
   "id": "0d36ff8b",
   "metadata": {},
   "source": [
    "nombre_infected       677\n",
    "nombre_sain          1563\n",
    "nombre_exposed        292\n",
    "nombre_recovered    17468\n",
    "Name: 221, dtype: int64"
   ]
  },
  {
   "cell_type": "markdown",
   "id": "b4342726",
   "metadata": {},
   "source": [
    "nombre_infected       666\n",
    "nombre_sain          1561\n",
    "nombre_exposed        286\n",
    "nombre_recovered    17487\n",
    "Name: 222, dtype: int64"
   ]
  },
  {
   "cell_type": "markdown",
   "id": "dd7d826d",
   "metadata": {},
   "source": [
    "nombre_infected       654\n",
    "nombre_sain          1566\n",
    "nombre_exposed        290\n",
    "nombre_recovered    17490\n",
    "Name: 223, dtype: int64"
   ]
  },
  {
   "cell_type": "markdown",
   "id": "ffb2af51",
   "metadata": {},
   "source": [
    "nombre_infected       652\n",
    "nombre_sain          1559\n",
    "nombre_exposed        286\n",
    "nombre_recovered    17503\n",
    "Name: 224, dtype: int64"
   ]
  },
  {
   "cell_type": "markdown",
   "id": "c452edee",
   "metadata": {},
   "source": [
    "nombre_infected       645\n",
    "nombre_sain          1585\n",
    "nombre_exposed        270\n",
    "nombre_recovered    17500\n",
    "Name: 225, dtype: int64"
   ]
  },
  {
   "cell_type": "markdown",
   "id": "56da6fec",
   "metadata": {},
   "source": [
    "nombre_infected       633\n",
    "nombre_sain          1604\n",
    "nombre_exposed        254\n",
    "nombre_recovered    17509\n",
    "Name: 226, dtype: int64"
   ]
  },
  {
   "cell_type": "markdown",
   "id": "eb1eb955",
   "metadata": {},
   "source": [
    "nombre_infected       610\n",
    "nombre_sain          1620\n",
    "nombre_exposed        254\n",
    "nombre_recovered    17516\n",
    "Name: 227, dtype: int64"
   ]
  },
  {
   "cell_type": "markdown",
   "id": "2b35e204",
   "metadata": {},
   "source": [
    "nombre_infected       575\n",
    "nombre_sain          1636\n",
    "nombre_exposed        253\n",
    "nombre_recovered    17536\n",
    "Name: 228, dtype: int64"
   ]
  },
  {
   "cell_type": "markdown",
   "id": "e1486c8d",
   "metadata": {},
   "source": [
    "nombre_infected       573\n",
    "nombre_sain          1657\n",
    "nombre_exposed        252\n",
    "nombre_recovered    17518\n",
    "Name: 229, dtype: int64"
   ]
  },
  {
   "cell_type": "markdown",
   "id": "295e96ba",
   "metadata": {},
   "source": [
    "nombre_infected       558\n",
    "nombre_sain          1690\n",
    "nombre_exposed        258\n",
    "nombre_recovered    17494\n",
    "Name: 230, dtype: int64"
   ]
  },
  {
   "cell_type": "markdown",
   "id": "b8e944b0",
   "metadata": {},
   "source": [
    "nombre_infected       561\n",
    "nombre_sain          1705\n",
    "nombre_exposed        250\n",
    "nombre_recovered    17484\n",
    "Name: 231, dtype: int64"
   ]
  },
  {
   "cell_type": "markdown",
   "id": "d3b243be",
   "metadata": {},
   "source": [
    "nombre_infected       554\n",
    "nombre_sain          1726\n",
    "nombre_exposed        254\n",
    "nombre_recovered    17466\n",
    "Name: 232, dtype: int64"
   ]
  },
  {
   "cell_type": "markdown",
   "id": "b83e00fa",
   "metadata": {},
   "source": [
    "nombre_infected       560\n",
    "nombre_sain          1740\n",
    "nombre_exposed        240\n",
    "nombre_recovered    17460\n",
    "Name: 233, dtype: int64"
   ]
  },
  {
   "cell_type": "markdown",
   "id": "34b807b2",
   "metadata": {},
   "source": [
    "nombre_infected       555\n",
    "nombre_sain          1779\n",
    "nombre_exposed        230\n",
    "nombre_recovered    17436\n",
    "Name: 234, dtype: int64"
   ]
  },
  {
   "cell_type": "markdown",
   "id": "eaa4aaf6",
   "metadata": {},
   "source": [
    "nombre_infected       528\n",
    "nombre_sain          1798\n",
    "nombre_exposed        243\n",
    "nombre_recovered    17431\n",
    "Name: 235, dtype: int64"
   ]
  },
  {
   "cell_type": "markdown",
   "id": "bb3cf1c9",
   "metadata": {},
   "source": [
    "nombre_infected       514\n",
    "nombre_sain          1801\n",
    "nombre_exposed        254\n",
    "nombre_recovered    17431\n",
    "Name: 236, dtype: int64"
   ]
  },
  {
   "cell_type": "markdown",
   "id": "dd93248c",
   "metadata": {},
   "source": [
    "nombre_infected       499\n",
    "nombre_sain          1796\n",
    "nombre_exposed        269\n",
    "nombre_recovered    17436\n",
    "Name: 237, dtype: int64"
   ]
  },
  {
   "cell_type": "markdown",
   "id": "ecadad03",
   "metadata": {},
   "source": [
    "nombre_infected       518\n",
    "nombre_sain          1813\n",
    "nombre_exposed        260\n",
    "nombre_recovered    17409\n",
    "Name: 238, dtype: int64"
   ]
  },
  {
   "cell_type": "markdown",
   "id": "1797ec52",
   "metadata": {},
   "source": [
    "nombre_infected       520\n",
    "nombre_sain          1837\n",
    "nombre_exposed        262\n",
    "nombre_recovered    17381\n",
    "Name: 239, dtype: int64"
   ]
  },
  {
   "cell_type": "markdown",
   "id": "c32fc669",
   "metadata": {},
   "source": [
    "nombre_infected       539\n",
    "nombre_sain          1859\n",
    "nombre_exposed        247\n",
    "nombre_recovered    17355\n",
    "Name: 240, dtype: int64"
   ]
  },
  {
   "cell_type": "markdown",
   "id": "d9183709",
   "metadata": {},
   "source": [
    "nombre_infected       526\n",
    "nombre_sain          1856\n",
    "nombre_exposed        264\n",
    "nombre_recovered    17354\n",
    "Name: 241, dtype: int64"
   ]
  },
  {
   "cell_type": "markdown",
   "id": "bf0c1616",
   "metadata": {},
   "source": [
    "nombre_infected       530\n",
    "nombre_sain          1876\n",
    "nombre_exposed        256\n",
    "nombre_recovered    17338\n",
    "Name: 242, dtype: int64"
   ]
  },
  {
   "cell_type": "markdown",
   "id": "63646b41",
   "metadata": {},
   "source": [
    "nombre_infected       507\n",
    "nombre_sain          1904\n",
    "nombre_exposed        266\n",
    "nombre_recovered    17323\n",
    "Name: 243, dtype: int64"
   ]
  },
  {
   "cell_type": "markdown",
   "id": "679ceb98",
   "metadata": {},
   "source": [
    "nombre_infected       503\n",
    "nombre_sain          1951\n",
    "nombre_exposed        244\n",
    "nombre_recovered    17302\n",
    "Name: 244, dtype: int64"
   ]
  },
  {
   "cell_type": "markdown",
   "id": "9c6e57de",
   "metadata": {},
   "source": [
    "nombre_infected       504\n",
    "nombre_sain          1975\n",
    "nombre_exposed        252\n",
    "nombre_recovered    17269\n",
    "Name: 245, dtype: int64"
   ]
  },
  {
   "cell_type": "markdown",
   "id": "14cb05c5",
   "metadata": {},
   "source": [
    "nombre_infected       473\n",
    "nombre_sain          2007\n",
    "nombre_exposed        248\n",
    "nombre_recovered    17272\n",
    "Name: 246, dtype: int64"
   ]
  },
  {
   "cell_type": "markdown",
   "id": "f9b358fd",
   "metadata": {},
   "source": [
    "nombre_infected       473\n",
    "nombre_sain          2020\n",
    "nombre_exposed        245\n",
    "nombre_recovered    17262\n",
    "Name: 247, dtype: int64"
   ]
  },
  {
   "cell_type": "markdown",
   "id": "574f1087",
   "metadata": {},
   "source": [
    "nombre_infected       454\n",
    "nombre_sain          2032\n",
    "nombre_exposed        259\n",
    "nombre_recovered    17255\n",
    "Name: 248, dtype: int64"
   ]
  },
  {
   "cell_type": "markdown",
   "id": "a0e72114",
   "metadata": {},
   "source": [
    "nombre_infected       457\n",
    "nombre_sain          2065\n",
    "nombre_exposed        250\n",
    "nombre_recovered    17228\n",
    "Name: 249, dtype: int64"
   ]
  },
  {
   "cell_type": "markdown",
   "id": "ba7e28bc",
   "metadata": {},
   "source": [
    "nombre_infected       466\n",
    "nombre_sain          2095\n",
    "nombre_exposed        228\n",
    "nombre_recovered    17211\n",
    "Name: 250, dtype: int64"
   ]
  },
  {
   "cell_type": "markdown",
   "id": "145950bc",
   "metadata": {},
   "source": [
    "nombre_infected       475\n",
    "nombre_sain          2126\n",
    "nombre_exposed        227\n",
    "nombre_recovered    17172\n",
    "Name: 251, dtype: int64"
   ]
  },
  {
   "cell_type": "markdown",
   "id": "69828496",
   "metadata": {},
   "source": [
    "nombre_infected       463\n",
    "nombre_sain          2157\n",
    "nombre_exposed        230\n",
    "nombre_recovered    17150\n",
    "Name: 252, dtype: int64"
   ]
  },
  {
   "cell_type": "markdown",
   "id": "035cc0cd",
   "metadata": {},
   "source": [
    "nombre_infected       451\n",
    "nombre_sain          2187\n",
    "nombre_exposed        240\n",
    "nombre_recovered    17122\n",
    "Name: 253, dtype: int64"
   ]
  },
  {
   "cell_type": "markdown",
   "id": "7b2d37d7",
   "metadata": {},
   "source": [
    "nombre_infected       439\n",
    "nombre_sain          2226\n",
    "nombre_exposed        253\n",
    "nombre_recovered    17082\n",
    "Name: 254, dtype: int64"
   ]
  },
  {
   "cell_type": "markdown",
   "id": "3fbd6d15",
   "metadata": {},
   "source": [
    "nombre_infected       455\n",
    "nombre_sain          2275\n",
    "nombre_exposed        247\n",
    "nombre_recovered    17023\n",
    "Name: 255, dtype: int64"
   ]
  },
  {
   "cell_type": "markdown",
   "id": "6306f297",
   "metadata": {},
   "source": [
    "nombre_infected       446\n",
    "nombre_sain          2339\n",
    "nombre_exposed        251\n",
    "nombre_recovered    16964\n",
    "Name: 256, dtype: int64"
   ]
  },
  {
   "cell_type": "markdown",
   "id": "0370c9cd",
   "metadata": {},
   "source": [
    "nombre_infected       454\n",
    "nombre_sain          2386\n",
    "nombre_exposed        255\n",
    "nombre_recovered    16905\n",
    "Name: 257, dtype: int64"
   ]
  },
  {
   "cell_type": "markdown",
   "id": "c192eda2",
   "metadata": {},
   "source": [
    "nombre_infected       453\n",
    "nombre_sain          2412\n",
    "nombre_exposed        265\n",
    "nombre_recovered    16870\n",
    "Name: 258, dtype: int64"
   ]
  },
  {
   "cell_type": "markdown",
   "id": "363fabeb",
   "metadata": {},
   "source": [
    "nombre_infected       466\n",
    "nombre_sain          2425\n",
    "nombre_exposed        284\n",
    "nombre_recovered    16825\n",
    "Name: 259, dtype: int64"
   ]
  },
  {
   "cell_type": "markdown",
   "id": "717d3708",
   "metadata": {},
   "source": [
    "nombre_infected       476\n",
    "nombre_sain          2456\n",
    "nombre_exposed        287\n",
    "nombre_recovered    16781\n",
    "Name: 260, dtype: int64"
   ]
  },
  {
   "cell_type": "markdown",
   "id": "137bac3f",
   "metadata": {},
   "source": [
    "nombre_infected       462\n",
    "nombre_sain          2482\n",
    "nombre_exposed        282\n",
    "nombre_recovered    16774\n",
    "Name: 261, dtype: int64"
   ]
  },
  {
   "cell_type": "markdown",
   "id": "985ce76b",
   "metadata": {},
   "source": [
    "nombre_infected       454\n",
    "nombre_sain          2504\n",
    "nombre_exposed        290\n",
    "nombre_recovered    16752\n",
    "Name: 262, dtype: int64"
   ]
  },
  {
   "cell_type": "markdown",
   "id": "82fc47cf",
   "metadata": {},
   "source": [
    "nombre_infected       448\n",
    "nombre_sain          2504\n",
    "nombre_exposed        308\n",
    "nombre_recovered    16740\n",
    "Name: 263, dtype: int64"
   ]
  },
  {
   "cell_type": "markdown",
   "id": "0bb3f6fe",
   "metadata": {},
   "source": [
    "nombre_infected       447\n",
    "nombre_sain          2520\n",
    "nombre_exposed        324\n",
    "nombre_recovered    16709\n",
    "Name: 264, dtype: int64"
   ]
  },
  {
   "cell_type": "markdown",
   "id": "6ff0a2a6",
   "metadata": {},
   "source": [
    "nombre_infected       457\n",
    "nombre_sain          2525\n",
    "nombre_exposed        327\n",
    "nombre_recovered    16691\n",
    "Name: 265, dtype: int64"
   ]
  },
  {
   "cell_type": "markdown",
   "id": "c1b45764",
   "metadata": {},
   "source": [
    "nombre_infected       468\n",
    "nombre_sain          2534\n",
    "nombre_exposed        324\n",
    "nombre_recovered    16674\n",
    "Name: 266, dtype: int64"
   ]
  },
  {
   "cell_type": "markdown",
   "id": "e42fafa0",
   "metadata": {},
   "source": [
    "nombre_infected       469\n",
    "nombre_sain          2533\n",
    "nombre_exposed        342\n",
    "nombre_recovered    16656\n",
    "Name: 267, dtype: int64"
   ]
  },
  {
   "cell_type": "markdown",
   "id": "26e6af0e",
   "metadata": {},
   "source": [
    "nombre_infected       478\n",
    "nombre_sain          2536\n",
    "nombre_exposed        347\n",
    "nombre_recovered    16639\n",
    "Name: 268, dtype: int64"
   ]
  },
  {
   "cell_type": "markdown",
   "id": "db5e6086",
   "metadata": {},
   "source": [
    "nombre_infected       496\n",
    "nombre_sain          2542\n",
    "nombre_exposed        355\n",
    "nombre_recovered    16607\n",
    "Name: 269, dtype: int64"
   ]
  },
  {
   "cell_type": "markdown",
   "id": "2c9bc724",
   "metadata": {},
   "source": [
    "nombre_infected       495\n",
    "nombre_sain          2572\n",
    "nombre_exposed        369\n",
    "nombre_recovered    16564\n",
    "Name: 270, dtype: int64"
   ]
  },
  {
   "cell_type": "markdown",
   "id": "fb6cf175",
   "metadata": {},
   "source": [
    "nombre_infected       502\n",
    "nombre_sain          2597\n",
    "nombre_exposed        374\n",
    "nombre_recovered    16527\n",
    "Name: 271, dtype: int64"
   ]
  },
  {
   "cell_type": "markdown",
   "id": "bfce39d2",
   "metadata": {},
   "source": [
    "nombre_infected       525\n",
    "nombre_sain          2620\n",
    "nombre_exposed        371\n",
    "nombre_recovered    16484\n",
    "Name: 272, dtype: int64"
   ]
  },
  {
   "cell_type": "markdown",
   "id": "054b87f2",
   "metadata": {},
   "source": [
    "nombre_infected       530\n",
    "nombre_sain          2647\n",
    "nombre_exposed        373\n",
    "nombre_recovered    16450\n",
    "Name: 273, dtype: int64"
   ]
  },
  {
   "cell_type": "markdown",
   "id": "61be24db",
   "metadata": {},
   "source": [
    "nombre_infected       559\n",
    "nombre_sain          2656\n",
    "nombre_exposed        384\n",
    "nombre_recovered    16401\n",
    "Name: 274, dtype: int64"
   ]
  },
  {
   "cell_type": "markdown",
   "id": "3d587311",
   "metadata": {},
   "source": [
    "nombre_infected       550\n",
    "nombre_sain          2676\n",
    "nombre_exposed        406\n",
    "nombre_recovered    16368\n",
    "Name: 275, dtype: int64"
   ]
  },
  {
   "cell_type": "markdown",
   "id": "d08c4b4e",
   "metadata": {},
   "source": [
    "nombre_infected       567\n",
    "nombre_sain          2699\n",
    "nombre_exposed        401\n",
    "nombre_recovered    16333\n",
    "Name: 276, dtype: int64"
   ]
  },
  {
   "cell_type": "markdown",
   "id": "c83822c4",
   "metadata": {},
   "source": [
    "nombre_infected       583\n",
    "nombre_sain          2698\n",
    "nombre_exposed        427\n",
    "nombre_recovered    16292\n",
    "Name: 277, dtype: int64"
   ]
  },
  {
   "cell_type": "markdown",
   "id": "d2534666",
   "metadata": {},
   "source": [
    "nombre_infected       603\n",
    "nombre_sain          2719\n",
    "nombre_exposed        436\n",
    "nombre_recovered    16242\n",
    "Name: 278, dtype: int64"
   ]
  },
  {
   "cell_type": "markdown",
   "id": "4cdad371",
   "metadata": {},
   "source": [
    "nombre_infected       617\n",
    "nombre_sain          2730\n",
    "nombre_exposed        446\n",
    "nombre_recovered    16207\n",
    "Name: 279, dtype: int64"
   ]
  },
  {
   "cell_type": "markdown",
   "id": "0b8ee29e",
   "metadata": {},
   "source": [
    "nombre_infected       645\n",
    "nombre_sain          2750\n",
    "nombre_exposed        435\n",
    "nombre_recovered    16170\n",
    "Name: 280, dtype: int64"
   ]
  },
  {
   "cell_type": "markdown",
   "id": "6c19dd1a",
   "metadata": {},
   "source": [
    "nombre_infected       676\n",
    "nombre_sain          2742\n",
    "nombre_exposed        443\n",
    "nombre_recovered    16139\n",
    "Name: 281, dtype: int64"
   ]
  },
  {
   "cell_type": "markdown",
   "id": "bb938bc9",
   "metadata": {},
   "source": [
    "nombre_infected       697\n",
    "nombre_sain          2728\n",
    "nombre_exposed        459\n",
    "nombre_recovered    16116\n",
    "Name: 282, dtype: int64"
   ]
  },
  {
   "cell_type": "markdown",
   "id": "7dc126dc",
   "metadata": {},
   "source": [
    "nombre_infected       720\n",
    "nombre_sain          2726\n",
    "nombre_exposed        452\n",
    "nombre_recovered    16102\n",
    "Name: 283, dtype: int64"
   ]
  },
  {
   "cell_type": "markdown",
   "id": "aa6a95bd",
   "metadata": {},
   "source": [
    "nombre_infected       716\n",
    "nombre_sain          2697\n",
    "nombre_exposed        488\n",
    "nombre_recovered    16099\n",
    "Name: 284, dtype: int64"
   ]
  },
  {
   "cell_type": "markdown",
   "id": "8152fe42",
   "metadata": {},
   "source": [
    "nombre_infected       715\n",
    "nombre_sain          2671\n",
    "nombre_exposed        510\n",
    "nombre_recovered    16104\n",
    "Name: 285, dtype: int64"
   ]
  },
  {
   "cell_type": "markdown",
   "id": "6844b5ff",
   "metadata": {},
   "source": [
    "nombre_infected       751\n",
    "nombre_sain          2661\n",
    "nombre_exposed        515\n",
    "nombre_recovered    16073\n",
    "Name: 286, dtype: int64"
   ]
  },
  {
   "cell_type": "markdown",
   "id": "254c2f71",
   "metadata": {},
   "source": [
    "nombre_infected       794\n",
    "nombre_sain          2620\n",
    "nombre_exposed        543\n",
    "nombre_recovered    16043\n",
    "Name: 287, dtype: int64"
   ]
  },
  {
   "cell_type": "markdown",
   "id": "dfeb2174",
   "metadata": {},
   "source": [
    "nombre_infected       812\n",
    "nombre_sain          2586\n",
    "nombre_exposed        548\n",
    "nombre_recovered    16054\n",
    "Name: 288, dtype: int64"
   ]
  },
  {
   "cell_type": "markdown",
   "id": "4ead60c8",
   "metadata": {},
   "source": [
    "nombre_infected       849\n",
    "nombre_sain          2550\n",
    "nombre_exposed        550\n",
    "nombre_recovered    16051\n",
    "Name: 289, dtype: int64"
   ]
  },
  {
   "cell_type": "markdown",
   "id": "a97c0dbb",
   "metadata": {},
   "source": [
    "nombre_infected       857\n",
    "nombre_sain          2503\n",
    "nombre_exposed        568\n",
    "nombre_recovered    16072\n",
    "Name: 290, dtype: int64"
   ]
  },
  {
   "cell_type": "markdown",
   "id": "8c6b30ba",
   "metadata": {},
   "source": [
    "nombre_infected       856\n",
    "nombre_sain          2470\n",
    "nombre_exposed        574\n",
    "nombre_recovered    16100\n",
    "Name: 291, dtype: int64"
   ]
  },
  {
   "cell_type": "markdown",
   "id": "edd0ec98",
   "metadata": {},
   "source": [
    "nombre_infected       910\n",
    "nombre_sain          2434\n",
    "nombre_exposed        560\n",
    "nombre_recovered    16096\n",
    "Name: 292, dtype: int64"
   ]
  },
  {
   "cell_type": "markdown",
   "id": "7d358e46",
   "metadata": {},
   "source": [
    "nombre_infected       930\n",
    "nombre_sain          2387\n",
    "nombre_exposed        582\n",
    "nombre_recovered    16101\n",
    "Name: 293, dtype: int64"
   ]
  },
  {
   "cell_type": "markdown",
   "id": "02349724",
   "metadata": {},
   "source": [
    "nombre_infected       966\n",
    "nombre_sain          2360\n",
    "nombre_exposed        558\n",
    "nombre_recovered    16116\n",
    "Name: 294, dtype: int64"
   ]
  },
  {
   "cell_type": "markdown",
   "id": "3e7e3dfd",
   "metadata": {},
   "source": [
    "nombre_infected       963\n",
    "nombre_sain          2339\n",
    "nombre_exposed        576\n",
    "nombre_recovered    16122\n",
    "Name: 295, dtype: int64"
   ]
  },
  {
   "cell_type": "markdown",
   "id": "8f87bde6",
   "metadata": {},
   "source": [
    "nombre_infected       969\n",
    "nombre_sain          2306\n",
    "nombre_exposed        574\n",
    "nombre_recovered    16151\n",
    "Name: 296, dtype: int64"
   ]
  },
  {
   "cell_type": "markdown",
   "id": "df3aa237",
   "metadata": {},
   "source": [
    "nombre_infected       976\n",
    "nombre_sain          2309\n",
    "nombre_exposed        562\n",
    "nombre_recovered    16153\n",
    "Name: 297, dtype: int64"
   ]
  },
  {
   "cell_type": "markdown",
   "id": "a12ad24b",
   "metadata": {},
   "source": [
    "nombre_infected       972\n",
    "nombre_sain          2289\n",
    "nombre_exposed        570\n",
    "nombre_recovered    16169\n",
    "Name: 298, dtype: int64"
   ]
  },
  {
   "cell_type": "markdown",
   "id": "230c2f8b",
   "metadata": {},
   "source": [
    "nombre_infected       985\n",
    "nombre_sain          2257\n",
    "nombre_exposed        565\n",
    "nombre_recovered    16193\n",
    "Name: 299, dtype: int64"
   ]
  },
  {
   "cell_type": "markdown",
   "id": "548f90eb",
   "metadata": {},
   "source": [
    "nombre_infected       995\n",
    "nombre_sain          2222\n",
    "nombre_exposed        582\n",
    "nombre_recovered    16201\n",
    "Name: 300, dtype: int64"
   ]
  },
  {
   "cell_type": "markdown",
   "id": "568c73e9",
   "metadata": {},
   "source": [
    "nombre_infected       974\n",
    "nombre_sain          2210\n",
    "nombre_exposed        583\n",
    "nombre_recovered    16233\n",
    "Name: 301, dtype: int64"
   ]
  },
  {
   "cell_type": "markdown",
   "id": "bd203dd7",
   "metadata": {},
   "source": [
    "nombre_infected       991\n",
    "nombre_sain          2205\n",
    "nombre_exposed        582\n",
    "nombre_recovered    16222\n",
    "Name: 302, dtype: int64"
   ]
  },
  {
   "cell_type": "markdown",
   "id": "677f4d94",
   "metadata": {},
   "source": [
    "nombre_infected       992\n",
    "nombre_sain          2216\n",
    "nombre_exposed        590\n",
    "nombre_recovered    16202\n",
    "Name: 303, dtype: int64"
   ]
  },
  {
   "cell_type": "markdown",
   "id": "1f4b3110",
   "metadata": {},
   "source": [
    "nombre_infected      1018\n",
    "nombre_sain          2192\n",
    "nombre_exposed        585\n",
    "nombre_recovered    16205\n",
    "Name: 304, dtype: int64"
   ]
  },
  {
   "cell_type": "markdown",
   "id": "cc451996",
   "metadata": {},
   "source": [
    "nombre_infected      1028\n",
    "nombre_sain          2213\n",
    "nombre_exposed        563\n",
    "nombre_recovered    16196\n",
    "Name: 305, dtype: int64"
   ]
  },
  {
   "cell_type": "markdown",
   "id": "513b7d88",
   "metadata": {},
   "source": [
    "nombre_infected      1063\n",
    "nombre_sain          2198\n",
    "nombre_exposed        532\n",
    "nombre_recovered    16207\n",
    "Name: 306, dtype: int64"
   ]
  },
  {
   "cell_type": "markdown",
   "id": "3febc3d1",
   "metadata": {},
   "source": [
    "nombre_infected      1018\n",
    "nombre_sain          2191\n",
    "nombre_exposed        546\n",
    "nombre_recovered    16245\n",
    "Name: 307, dtype: int64"
   ]
  },
  {
   "cell_type": "markdown",
   "id": "bdf31768",
   "metadata": {},
   "source": [
    "nombre_infected      1003\n",
    "nombre_sain          2170\n",
    "nombre_exposed        561\n",
    "nombre_recovered    16266\n",
    "Name: 308, dtype: int64"
   ]
  },
  {
   "cell_type": "markdown",
   "id": "bc5e87eb",
   "metadata": {},
   "source": [
    "nombre_infected      1017\n",
    "nombre_sain          2153\n",
    "nombre_exposed        570\n",
    "nombre_recovered    16260\n",
    "Name: 309, dtype: int64"
   ]
  },
  {
   "cell_type": "markdown",
   "id": "7e5a3c29",
   "metadata": {},
   "source": [
    "nombre_infected      1026\n",
    "nombre_sain          2144\n",
    "nombre_exposed        569\n",
    "nombre_recovered    16261\n",
    "Name: 310, dtype: int64"
   ]
  },
  {
   "cell_type": "markdown",
   "id": "cd838411",
   "metadata": {},
   "source": [
    "nombre_infected      1017\n",
    "nombre_sain          2145\n",
    "nombre_exposed        574\n",
    "nombre_recovered    16264\n",
    "Name: 311, dtype: int64"
   ]
  },
  {
   "cell_type": "markdown",
   "id": "7dad1174",
   "metadata": {},
   "source": [
    "nombre_infected      1033\n",
    "nombre_sain          2152\n",
    "nombre_exposed        557\n",
    "nombre_recovered    16258\n",
    "Name: 312, dtype: int64"
   ]
  },
  {
   "cell_type": "markdown",
   "id": "3c7652cb",
   "metadata": {},
   "source": [
    "nombre_infected      1007\n",
    "nombre_sain          2121\n",
    "nombre_exposed        564\n",
    "nombre_recovered    16308\n",
    "Name: 313, dtype: int64"
   ]
  },
  {
   "cell_type": "markdown",
   "id": "04b43e55",
   "metadata": {},
   "source": [
    "nombre_infected       964\n",
    "nombre_sain          2131\n",
    "nombre_exposed        564\n",
    "nombre_recovered    16341\n",
    "Name: 314, dtype: int64"
   ]
  },
  {
   "cell_type": "markdown",
   "id": "62f93340",
   "metadata": {},
   "source": [
    "nombre_infected       971\n",
    "nombre_sain          2129\n",
    "nombre_exposed        557\n",
    "nombre_recovered    16343\n",
    "Name: 315, dtype: int64"
   ]
  },
  {
   "cell_type": "markdown",
   "id": "b83c4016",
   "metadata": {},
   "source": [
    "nombre_infected       988\n",
    "nombre_sain          2138\n",
    "nombre_exposed        546\n",
    "nombre_recovered    16328\n",
    "Name: 316, dtype: int64"
   ]
  },
  {
   "cell_type": "markdown",
   "id": "52ce0f41",
   "metadata": {},
   "source": [
    "nombre_infected       990\n",
    "nombre_sain          2137\n",
    "nombre_exposed        528\n",
    "nombre_recovered    16345\n",
    "Name: 317, dtype: int64"
   ]
  },
  {
   "cell_type": "markdown",
   "id": "53999407",
   "metadata": {},
   "source": [
    "nombre_infected       974\n",
    "nombre_sain          2109\n",
    "nombre_exposed        540\n",
    "nombre_recovered    16377\n",
    "Name: 318, dtype: int64"
   ]
  },
  {
   "cell_type": "markdown",
   "id": "17afcd98",
   "metadata": {},
   "source": [
    "nombre_infected       968\n",
    "nombre_sain          2080\n",
    "nombre_exposed        558\n",
    "nombre_recovered    16394\n",
    "Name: 319, dtype: int64"
   ]
  },
  {
   "cell_type": "markdown",
   "id": "2c80f056",
   "metadata": {},
   "source": [
    "nombre_infected       940\n",
    "nombre_sain          2082\n",
    "nombre_exposed        542\n",
    "nombre_recovered    16436\n",
    "Name: 320, dtype: int64"
   ]
  },
  {
   "cell_type": "markdown",
   "id": "a25a026f",
   "metadata": {},
   "source": [
    "nombre_infected       956\n",
    "nombre_sain          2099\n",
    "nombre_exposed        532\n",
    "nombre_recovered    16413\n",
    "Name: 321, dtype: int64"
   ]
  },
  {
   "cell_type": "markdown",
   "id": "ee278ffc",
   "metadata": {},
   "source": [
    "nombre_infected       966\n",
    "nombre_sain          2073\n",
    "nombre_exposed        539\n",
    "nombre_recovered    16422\n",
    "Name: 322, dtype: int64"
   ]
  },
  {
   "cell_type": "markdown",
   "id": "5ee62137",
   "metadata": {},
   "source": [
    "nombre_infected       963\n",
    "nombre_sain          2077\n",
    "nombre_exposed        544\n",
    "nombre_recovered    16416\n",
    "Name: 323, dtype: int64"
   ]
  },
  {
   "cell_type": "markdown",
   "id": "c8c64aa4",
   "metadata": {},
   "source": [
    "nombre_infected       985\n",
    "nombre_sain          2089\n",
    "nombre_exposed        524\n",
    "nombre_recovered    16402\n",
    "Name: 324, dtype: int64"
   ]
  },
  {
   "cell_type": "markdown",
   "id": "10139deb",
   "metadata": {},
   "source": [
    "nombre_infected      1008\n",
    "nombre_sain          2076\n",
    "nombre_exposed        506\n",
    "nombre_recovered    16410\n",
    "Name: 325, dtype: int64"
   ]
  },
  {
   "cell_type": "markdown",
   "id": "c3b86f7a",
   "metadata": {},
   "source": [
    "nombre_infected       990\n",
    "nombre_sain          2098\n",
    "nombre_exposed        517\n",
    "nombre_recovered    16395\n",
    "Name: 326, dtype: int64"
   ]
  },
  {
   "cell_type": "markdown",
   "id": "9d8fbb07",
   "metadata": {},
   "source": [
    "nombre_infected       982\n",
    "nombre_sain          2090\n",
    "nombre_exposed        537\n",
    "nombre_recovered    16391\n",
    "Name: 327, dtype: int64"
   ]
  },
  {
   "cell_type": "markdown",
   "id": "aeedac4d",
   "metadata": {},
   "source": [
    "nombre_infected       972\n",
    "nombre_sain          2090\n",
    "nombre_exposed        551\n",
    "nombre_recovered    16387\n",
    "Name: 328, dtype: int64"
   ]
  },
  {
   "cell_type": "markdown",
   "id": "6f513e07",
   "metadata": {},
   "source": [
    "nombre_infected       981\n",
    "nombre_sain          2109\n",
    "nombre_exposed        543\n",
    "nombre_recovered    16367\n",
    "Name: 329, dtype: int64"
   ]
  },
  {
   "cell_type": "markdown",
   "id": "58ccfadb",
   "metadata": {},
   "source": [
    "nombre_infected      1012\n",
    "nombre_sain          2123\n",
    "nombre_exposed        522\n",
    "nombre_recovered    16343\n",
    "Name: 330, dtype: int64"
   ]
  },
  {
   "cell_type": "markdown",
   "id": "836d1b34",
   "metadata": {},
   "source": [
    "nombre_infected      1036\n",
    "nombre_sain          2120\n",
    "nombre_exposed        510\n",
    "nombre_recovered    16334\n",
    "Name: 331, dtype: int64"
   ]
  },
  {
   "cell_type": "markdown",
   "id": "6c23d2be",
   "metadata": {},
   "source": [
    "nombre_infected      1024\n",
    "nombre_sain          2119\n",
    "nombre_exposed        511\n",
    "nombre_recovered    16346\n",
    "Name: 332, dtype: int64"
   ]
  },
  {
   "cell_type": "markdown",
   "id": "f9d70610",
   "metadata": {},
   "source": [
    "nombre_infected      1033\n",
    "nombre_sain          2113\n",
    "nombre_exposed        501\n",
    "nombre_recovered    16353\n",
    "Name: 333, dtype: int64"
   ]
  },
  {
   "cell_type": "markdown",
   "id": "0cf46455",
   "metadata": {},
   "source": [
    "nombre_infected      1016\n",
    "nombre_sain          2115\n",
    "nombre_exposed        500\n",
    "nombre_recovered    16369\n",
    "Name: 334, dtype: int64"
   ]
  },
  {
   "cell_type": "markdown",
   "id": "b46ad5a4",
   "metadata": {},
   "source": [
    "nombre_infected      1012\n",
    "nombre_sain          2091\n",
    "nombre_exposed        504\n",
    "nombre_recovered    16393\n",
    "Name: 335, dtype: int64"
   ]
  },
  {
   "cell_type": "markdown",
   "id": "34ddf47e",
   "metadata": {},
   "source": [
    "nombre_infected      1024\n",
    "nombre_sain          2081\n",
    "nombre_exposed        503\n",
    "nombre_recovered    16392\n",
    "Name: 336, dtype: int64"
   ]
  },
  {
   "cell_type": "markdown",
   "id": "5734f4f6",
   "metadata": {},
   "source": [
    "nombre_infected      1029\n",
    "nombre_sain          2059\n",
    "nombre_exposed        502\n",
    "nombre_recovered    16410\n",
    "Name: 337, dtype: int64"
   ]
  },
  {
   "cell_type": "markdown",
   "id": "7d81b974",
   "metadata": {},
   "source": [
    "nombre_infected      1035\n",
    "nombre_sain          2035\n",
    "nombre_exposed        512\n",
    "nombre_recovered    16418\n",
    "Name: 338, dtype: int64"
   ]
  },
  {
   "cell_type": "markdown",
   "id": "6736a301",
   "metadata": {},
   "source": [
    "nombre_infected      1055\n",
    "nombre_sain          2005\n",
    "nombre_exposed        502\n",
    "nombre_recovered    16438\n",
    "Name: 339, dtype: int64"
   ]
  },
  {
   "cell_type": "markdown",
   "id": "f3d9fb8e",
   "metadata": {},
   "source": [
    "nombre_infected      1071\n",
    "nombre_sain          1972\n",
    "nombre_exposed        530\n",
    "nombre_recovered    16427\n",
    "Name: 340, dtype: int64"
   ]
  },
  {
   "cell_type": "markdown",
   "id": "ad167d4a",
   "metadata": {},
   "source": [
    "nombre_infected      1036\n",
    "nombre_sain          1975\n",
    "nombre_exposed        526\n",
    "nombre_recovered    16463\n",
    "Name: 341, dtype: int64"
   ]
  },
  {
   "cell_type": "markdown",
   "id": "d893ffc9",
   "metadata": {},
   "source": [
    "nombre_infected      1056\n",
    "nombre_sain          1943\n",
    "nombre_exposed        530\n",
    "nombre_recovered    16471\n",
    "Name: 342, dtype: int64"
   ]
  },
  {
   "cell_type": "markdown",
   "id": "5f2e9286",
   "metadata": {},
   "source": [
    "nombre_infected      1071\n",
    "nombre_sain          1932\n",
    "nombre_exposed        505\n",
    "nombre_recovered    16492\n",
    "Name: 343, dtype: int64"
   ]
  },
  {
   "cell_type": "markdown",
   "id": "af19141c",
   "metadata": {},
   "source": [
    "nombre_infected      1102\n",
    "nombre_sain          1938\n",
    "nombre_exposed        465\n",
    "nombre_recovered    16495\n",
    "Name: 344, dtype: int64"
   ]
  },
  {
   "cell_type": "markdown",
   "id": "777f7e86",
   "metadata": {},
   "source": [
    "nombre_infected      1080\n",
    "nombre_sain          1926\n",
    "nombre_exposed        462\n",
    "nombre_recovered    16532\n",
    "Name: 345, dtype: int64"
   ]
  },
  {
   "cell_type": "markdown",
   "id": "a64d0e09",
   "metadata": {},
   "source": [
    "nombre_infected      1062\n",
    "nombre_sain          1918\n",
    "nombre_exposed        469\n",
    "nombre_recovered    16551\n",
    "Name: 346, dtype: int64"
   ]
  },
  {
   "cell_type": "markdown",
   "id": "5421c391",
   "metadata": {},
   "source": [
    "nombre_infected      1030\n",
    "nombre_sain          1910\n",
    "nombre_exposed        482\n",
    "nombre_recovered    16578\n",
    "Name: 347, dtype: int64"
   ]
  },
  {
   "cell_type": "markdown",
   "id": "83013b74",
   "metadata": {},
   "source": [
    "nombre_infected      1021\n",
    "nombre_sain          1912\n",
    "nombre_exposed        476\n",
    "nombre_recovered    16591\n",
    "Name: 348, dtype: int64"
   ]
  },
  {
   "cell_type": "markdown",
   "id": "800cad12",
   "metadata": {},
   "source": [
    "nombre_infected      1026\n",
    "nombre_sain          1886\n",
    "nombre_exposed        487\n",
    "nombre_recovered    16601\n",
    "Name: 349, dtype: int64"
   ]
  },
  {
   "cell_type": "markdown",
   "id": "d802f465",
   "metadata": {},
   "source": [
    "nombre_infected      1016\n",
    "nombre_sain          1882\n",
    "nombre_exposed        491\n",
    "nombre_recovered    16611\n",
    "Name: 350, dtype: int64"
   ]
  },
  {
   "cell_type": "markdown",
   "id": "f1f2efe9",
   "metadata": {},
   "source": [
    "nombre_infected      1024\n",
    "nombre_sain          1855\n",
    "nombre_exposed        513\n",
    "nombre_recovered    16608\n",
    "Name: 351, dtype: int64"
   ]
  },
  {
   "cell_type": "markdown",
   "id": "c2456a58",
   "metadata": {},
   "source": [
    "nombre_infected      1028\n",
    "nombre_sain          1844\n",
    "nombre_exposed        515\n",
    "nombre_recovered    16613\n",
    "Name: 352, dtype: int64"
   ]
  },
  {
   "cell_type": "markdown",
   "id": "62f23861",
   "metadata": {},
   "source": [
    "nombre_infected      1047\n",
    "nombre_sain          1839\n",
    "nombre_exposed        494\n",
    "nombre_recovered    16620\n",
    "Name: 353, dtype: int64"
   ]
  },
  {
   "cell_type": "markdown",
   "id": "96f68f36",
   "metadata": {},
   "source": [
    "nombre_infected      1021\n",
    "nombre_sain          1855\n",
    "nombre_exposed        480\n",
    "nombre_recovered    16644\n",
    "Name: 354, dtype: int64"
   ]
  },
  {
   "cell_type": "markdown",
   "id": "4e37229e",
   "metadata": {},
   "source": [
    "nombre_infected      1016\n",
    "nombre_sain          1842\n",
    "nombre_exposed        495\n",
    "nombre_recovered    16647\n",
    "Name: 355, dtype: int64"
   ]
  },
  {
   "cell_type": "markdown",
   "id": "ef810b45",
   "metadata": {},
   "source": [
    "nombre_infected      1022\n",
    "nombre_sain          1860\n",
    "nombre_exposed        474\n",
    "nombre_recovered    16644\n",
    "Name: 356, dtype: int64"
   ]
  },
  {
   "cell_type": "markdown",
   "id": "3a389187",
   "metadata": {},
   "source": [
    "nombre_infected      1018\n",
    "nombre_sain          1847\n",
    "nombre_exposed        483\n",
    "nombre_recovered    16652\n",
    "Name: 357, dtype: int64"
   ]
  },
  {
   "cell_type": "markdown",
   "id": "65548b13",
   "metadata": {},
   "source": [
    "nombre_infected      1014\n",
    "nombre_sain          1859\n",
    "nombre_exposed        472\n",
    "nombre_recovered    16655\n",
    "Name: 358, dtype: int64"
   ]
  },
  {
   "cell_type": "markdown",
   "id": "2ddf6c44",
   "metadata": {},
   "source": [
    "nombre_infected      1009\n",
    "nombre_sain          1857\n",
    "nombre_exposed        473\n",
    "nombre_recovered    16661\n",
    "Name: 359, dtype: int64"
   ]
  },
  {
   "cell_type": "markdown",
   "id": "61db2078",
   "metadata": {},
   "source": [
    "nombre_infected      1017\n",
    "nombre_sain          1899\n",
    "nombre_exposed        465\n",
    "nombre_recovered    16619\n",
    "Name: 360, dtype: int64"
   ]
  },
  {
   "cell_type": "markdown",
   "id": "803bf99f",
   "metadata": {},
   "source": [
    "nombre_infected       994\n",
    "nombre_sain          1902\n",
    "nombre_exposed        459\n",
    "nombre_recovered    16645\n",
    "Name: 361, dtype: int64"
   ]
  },
  {
   "cell_type": "markdown",
   "id": "a3628809",
   "metadata": {},
   "source": [
    "nombre_infected       987\n",
    "nombre_sain          1912\n",
    "nombre_exposed        464\n",
    "nombre_recovered    16637\n",
    "Name: 362, dtype: int64"
   ]
  },
  {
   "cell_type": "markdown",
   "id": "40654a76",
   "metadata": {},
   "source": [
    "nombre_infected       977\n",
    "nombre_sain          1915\n",
    "nombre_exposed        474\n",
    "nombre_recovered    16634\n",
    "Name: 363, dtype: int64"
   ]
  },
  {
   "cell_type": "markdown",
   "id": "7d1407ca",
   "metadata": {},
   "source": [
    "nombre_infected       990\n",
    "nombre_sain          1880\n",
    "nombre_exposed        479\n",
    "nombre_recovered    16651\n",
    "Name: 364, dtype: int64"
   ]
  },
  {
   "cell_type": "markdown",
   "id": "f2bfbcf1",
   "metadata": {},
   "source": [
    "nombre_infected       988\n",
    "nombre_sain          1880\n",
    "nombre_exposed        476\n",
    "nombre_recovered    16656\n",
    "Name: 365, dtype: int64"
   ]
  },
  {
   "cell_type": "markdown",
   "id": "4005eb7a",
   "metadata": {},
   "source": [
    "nombre_infected       988\n",
    "nombre_sain          1892\n",
    "nombre_exposed        466\n",
    "nombre_recovered    16654\n",
    "Name: 366, dtype: int64"
   ]
  },
  {
   "cell_type": "markdown",
   "id": "4afe6e40",
   "metadata": {},
   "source": [
    "nombre_infected       981\n",
    "nombre_sain          1862\n",
    "nombre_exposed        472\n",
    "nombre_recovered    16685\n",
    "Name: 367, dtype: int64"
   ]
  },
  {
   "cell_type": "markdown",
   "id": "36519c92",
   "metadata": {},
   "source": [
    "nombre_infected       988\n",
    "nombre_sain          1880\n",
    "nombre_exposed        454\n",
    "nombre_recovered    16678\n",
    "Name: 368, dtype: int64"
   ]
  },
  {
   "cell_type": "markdown",
   "id": "fa8a5a83",
   "metadata": {},
   "source": [
    "nombre_infected      1028\n",
    "nombre_sain          1898\n",
    "nombre_exposed        430\n",
    "nombre_recovered    16644\n",
    "Name: 369, dtype: int64"
   ]
  },
  {
   "cell_type": "markdown",
   "id": "5b102d1b",
   "metadata": {},
   "source": [
    "nombre_infected       999\n",
    "nombre_sain          1876\n",
    "nombre_exposed        456\n",
    "nombre_recovered    16669\n",
    "Name: 370, dtype: int64"
   ]
  },
  {
   "cell_type": "markdown",
   "id": "da4e4be0",
   "metadata": {},
   "source": [
    "nombre_infected       973\n",
    "nombre_sain          1866\n",
    "nombre_exposed        492\n",
    "nombre_recovered    16669\n",
    "Name: 371, dtype: int64"
   ]
  },
  {
   "cell_type": "markdown",
   "id": "45ccf41c",
   "metadata": {},
   "source": [
    "nombre_infected       972\n",
    "nombre_sain          1869\n",
    "nombre_exposed        511\n",
    "nombre_recovered    16648\n",
    "Name: 372, dtype: int64"
   ]
  },
  {
   "cell_type": "markdown",
   "id": "a0b6362a",
   "metadata": {},
   "source": [
    "nombre_infected       970\n",
    "nombre_sain          1881\n",
    "nombre_exposed        531\n",
    "nombre_recovered    16618\n",
    "Name: 373, dtype: int64"
   ]
  },
  {
   "cell_type": "markdown",
   "id": "8804a272",
   "metadata": {},
   "source": [
    "nombre_infected      1002\n",
    "nombre_sain          1919\n",
    "nombre_exposed        500\n",
    "nombre_recovered    16579\n",
    "Name: 374, dtype: int64"
   ]
  },
  {
   "cell_type": "markdown",
   "id": "69613be5",
   "metadata": {},
   "source": [
    "nombre_infected      1014\n",
    "nombre_sain          1905\n",
    "nombre_exposed        522\n",
    "nombre_recovered    16559\n",
    "Name: 375, dtype: int64"
   ]
  },
  {
   "cell_type": "markdown",
   "id": "609ac839",
   "metadata": {},
   "source": [
    "nombre_infected      1025\n",
    "nombre_sain          1933\n",
    "nombre_exposed        517\n",
    "nombre_recovered    16525\n",
    "Name: 376, dtype: int64"
   ]
  },
  {
   "cell_type": "markdown",
   "id": "0f1a11e5",
   "metadata": {},
   "source": [
    "nombre_infected      1022\n",
    "nombre_sain          1935\n",
    "nombre_exposed        523\n",
    "nombre_recovered    16520\n",
    "Name: 377, dtype: int64"
   ]
  },
  {
   "cell_type": "markdown",
   "id": "c979eed6",
   "metadata": {},
   "source": [
    "nombre_infected      1017\n",
    "nombre_sain          1957\n",
    "nombre_exposed        519\n",
    "nombre_recovered    16507\n",
    "Name: 378, dtype: int64"
   ]
  },
  {
   "cell_type": "markdown",
   "id": "d58c15e0",
   "metadata": {},
   "source": [
    "nombre_infected      1034\n",
    "nombre_sain          1947\n",
    "nombre_exposed        511\n",
    "nombre_recovered    16508\n",
    "Name: 379, dtype: int64"
   ]
  },
  {
   "cell_type": "markdown",
   "id": "a526ec5c",
   "metadata": {},
   "source": [
    "nombre_infected      1002\n",
    "nombre_sain          1951\n",
    "nombre_exposed        533\n",
    "nombre_recovered    16514\n",
    "Name: 380, dtype: int64"
   ]
  },
  {
   "cell_type": "markdown",
   "id": "9f9006ff",
   "metadata": {},
   "source": [
    "nombre_infected      1000\n",
    "nombre_sain          1980\n",
    "nombre_exposed        508\n",
    "nombre_recovered    16512\n",
    "Name: 381, dtype: int64"
   ]
  },
  {
   "cell_type": "markdown",
   "id": "fe5a4ce6",
   "metadata": {},
   "source": [
    "nombre_infected      1019\n",
    "nombre_sain          1973\n",
    "nombre_exposed        491\n",
    "nombre_recovered    16517\n",
    "Name: 382, dtype: int64"
   ]
  },
  {
   "cell_type": "markdown",
   "id": "06e41bc6",
   "metadata": {},
   "source": [
    "nombre_infected      1009\n",
    "nombre_sain          1971\n",
    "nombre_exposed        509\n",
    "nombre_recovered    16511\n",
    "Name: 383, dtype: int64"
   ]
  },
  {
   "cell_type": "markdown",
   "id": "912feabf",
   "metadata": {},
   "source": [
    "nombre_infected      1009\n",
    "nombre_sain          1986\n",
    "nombre_exposed        510\n",
    "nombre_recovered    16495\n",
    "Name: 384, dtype: int64"
   ]
  },
  {
   "cell_type": "markdown",
   "id": "7ac3d28e",
   "metadata": {},
   "source": [
    "nombre_infected      1021\n",
    "nombre_sain          2023\n",
    "nombre_exposed        495\n",
    "nombre_recovered    16461\n",
    "Name: 385, dtype: int64"
   ]
  },
  {
   "cell_type": "markdown",
   "id": "d0b9a5fb",
   "metadata": {},
   "source": [
    "nombre_infected      1025\n",
    "nombre_sain          2055\n",
    "nombre_exposed        486\n",
    "nombre_recovered    16434\n",
    "Name: 386, dtype: int64"
   ]
  },
  {
   "cell_type": "markdown",
   "id": "f68a4654",
   "metadata": {},
   "source": [
    "nombre_infected      1024\n",
    "nombre_sain          2051\n",
    "nombre_exposed        485\n",
    "nombre_recovered    16440\n",
    "Name: 387, dtype: int64"
   ]
  },
  {
   "cell_type": "markdown",
   "id": "b659e421",
   "metadata": {},
   "source": [
    "nombre_infected      1034\n",
    "nombre_sain          2069\n",
    "nombre_exposed        488\n",
    "nombre_recovered    16409\n",
    "Name: 388, dtype: int64"
   ]
  },
  {
   "cell_type": "markdown",
   "id": "53ab931f",
   "metadata": {},
   "source": [
    "nombre_infected      1012\n",
    "nombre_sain          2051\n",
    "nombre_exposed        511\n",
    "nombre_recovered    16426\n",
    "Name: 389, dtype: int64"
   ]
  },
  {
   "cell_type": "markdown",
   "id": "5714fd3a",
   "metadata": {},
   "source": [
    "nombre_infected      1016\n",
    "nombre_sain          2053\n",
    "nombre_exposed        532\n",
    "nombre_recovered    16399\n",
    "Name: 390, dtype: int64"
   ]
  },
  {
   "cell_type": "markdown",
   "id": "0d58d341",
   "metadata": {},
   "source": [
    "nombre_infected      1019\n",
    "nombre_sain          2051\n",
    "nombre_exposed        537\n",
    "nombre_recovered    16393\n",
    "Name: 391, dtype: int64"
   ]
  },
  {
   "cell_type": "markdown",
   "id": "c2fc8977",
   "metadata": {},
   "source": [
    "nombre_infected      1025\n",
    "nombre_sain          2034\n",
    "nombre_exposed        557\n",
    "nombre_recovered    16384\n",
    "Name: 392, dtype: int64"
   ]
  },
  {
   "cell_type": "markdown",
   "id": "c98e01f9",
   "metadata": {},
   "source": [
    "nombre_infected      1033\n",
    "nombre_sain          2035\n",
    "nombre_exposed        556\n",
    "nombre_recovered    16376\n",
    "Name: 393, dtype: int64"
   ]
  },
  {
   "cell_type": "markdown",
   "id": "40ca5670",
   "metadata": {},
   "source": [
    "nombre_infected      1018\n",
    "nombre_sain          2008\n",
    "nombre_exposed        569\n",
    "nombre_recovered    16405\n",
    "Name: 394, dtype: int64"
   ]
  },
  {
   "cell_type": "markdown",
   "id": "20fe8157",
   "metadata": {},
   "source": [
    "nombre_infected      1026\n",
    "nombre_sain          2015\n",
    "nombre_exposed        548\n",
    "nombre_recovered    16411\n",
    "Name: 395, dtype: int64"
   ]
  },
  {
   "cell_type": "markdown",
   "id": "a29bb113",
   "metadata": {},
   "source": [
    "nombre_infected      1029\n",
    "nombre_sain          1991\n",
    "nombre_exposed        547\n",
    "nombre_recovered    16433\n",
    "Name: 396, dtype: int64"
   ]
  },
  {
   "cell_type": "markdown",
   "id": "12e9af02",
   "metadata": {},
   "source": [
    "nombre_infected      1041\n",
    "nombre_sain          1953\n",
    "nombre_exposed        529\n",
    "nombre_recovered    16477\n",
    "Name: 397, dtype: int64"
   ]
  },
  {
   "cell_type": "markdown",
   "id": "1a548b89",
   "metadata": {},
   "source": [
    "nombre_infected      1058\n",
    "nombre_sain          1941\n",
    "nombre_exposed        542\n",
    "nombre_recovered    16459\n",
    "Name: 398, dtype: int64"
   ]
  },
  {
   "cell_type": "markdown",
   "id": "64de8daf",
   "metadata": {},
   "source": [
    "nombre_infected      1067\n",
    "nombre_sain          1933\n",
    "nombre_exposed        529\n",
    "nombre_recovered    16471\n",
    "Name: 399, dtype: int64"
   ]
  },
  {
   "cell_type": "markdown",
   "id": "2c17749c",
   "metadata": {},
   "source": [
    "nombre_infected      1050\n",
    "nombre_sain          1905\n",
    "nombre_exposed        533\n",
    "nombre_recovered    16512\n",
    "Name: 400, dtype: int64"
   ]
  },
  {
   "cell_type": "markdown",
   "id": "0ba86889",
   "metadata": {},
   "source": [
    "nombre_infected      1067\n",
    "nombre_sain          1894\n",
    "nombre_exposed        507\n",
    "nombre_recovered    16532\n",
    "Name: 401, dtype: int64"
   ]
  },
  {
   "cell_type": "markdown",
   "id": "fe1d924b",
   "metadata": {},
   "source": [
    "nombre_infected      1053\n",
    "nombre_sain          1861\n",
    "nombre_exposed        525\n",
    "nombre_recovered    16561\n",
    "Name: 402, dtype: int64"
   ]
  },
  {
   "cell_type": "markdown",
   "id": "29cf1dc0",
   "metadata": {},
   "source": [
    "nombre_infected      1052\n",
    "nombre_sain          1838\n",
    "nombre_exposed        538\n",
    "nombre_recovered    16572\n",
    "Name: 403, dtype: int64"
   ]
  },
  {
   "cell_type": "markdown",
   "id": "97644f87",
   "metadata": {},
   "source": [
    "nombre_infected      1069\n",
    "nombre_sain          1813\n",
    "nombre_exposed        533\n",
    "nombre_recovered    16585\n",
    "Name: 404, dtype: int64"
   ]
  },
  {
   "cell_type": "markdown",
   "id": "9b67ccfd",
   "metadata": {},
   "source": [
    "nombre_infected      1061\n",
    "nombre_sain          1816\n",
    "nombre_exposed        508\n",
    "nombre_recovered    16615\n",
    "Name: 405, dtype: int64"
   ]
  },
  {
   "cell_type": "markdown",
   "id": "bfb691c5",
   "metadata": {},
   "source": [
    "nombre_infected      1061\n",
    "nombre_sain          1808\n",
    "nombre_exposed        493\n",
    "nombre_recovered    16638\n",
    "Name: 406, dtype: int64"
   ]
  },
  {
   "cell_type": "markdown",
   "id": "a82361bd",
   "metadata": {},
   "source": [
    "nombre_infected      1039\n",
    "nombre_sain          1804\n",
    "nombre_exposed        507\n",
    "nombre_recovered    16650\n",
    "Name: 407, dtype: int64"
   ]
  },
  {
   "cell_type": "markdown",
   "id": "2b2c1b9f",
   "metadata": {},
   "source": [
    "nombre_infected      1040\n",
    "nombre_sain          1783\n",
    "nombre_exposed        491\n",
    "nombre_recovered    16686\n",
    "Name: 408, dtype: int64"
   ]
  },
  {
   "cell_type": "markdown",
   "id": "cc556ef1",
   "metadata": {},
   "source": [
    "nombre_infected      1047\n",
    "nombre_sain          1761\n",
    "nombre_exposed        474\n",
    "nombre_recovered    16718\n",
    "Name: 409, dtype: int64"
   ]
  },
  {
   "cell_type": "markdown",
   "id": "a2118115",
   "metadata": {},
   "source": [
    "nombre_infected      1046\n",
    "nombre_sain          1749\n",
    "nombre_exposed        470\n",
    "nombre_recovered    16735\n",
    "Name: 410, dtype: int64"
   ]
  },
  {
   "cell_type": "markdown",
   "id": "c1464ec6",
   "metadata": {},
   "source": [
    "nombre_infected       998\n",
    "nombre_sain          1720\n",
    "nombre_exposed        493\n",
    "nombre_recovered    16789\n",
    "Name: 411, dtype: int64"
   ]
  },
  {
   "cell_type": "markdown",
   "id": "4d90a6fc",
   "metadata": {},
   "source": [
    "nombre_infected       978\n",
    "nombre_sain          1714\n",
    "nombre_exposed        468\n",
    "nombre_recovered    16840\n",
    "Name: 412, dtype: int64"
   ]
  },
  {
   "cell_type": "markdown",
   "id": "b08018e4",
   "metadata": {},
   "source": [
    "nombre_infected       972\n",
    "nombre_sain          1722\n",
    "nombre_exposed        442\n",
    "nombre_recovered    16864\n",
    "Name: 413, dtype: int64"
   ]
  },
  {
   "cell_type": "markdown",
   "id": "b36da8eb",
   "metadata": {},
   "source": [
    "nombre_infected       960\n",
    "nombre_sain          1725\n",
    "nombre_exposed        420\n",
    "nombre_recovered    16895\n",
    "Name: 414, dtype: int64"
   ]
  },
  {
   "cell_type": "markdown",
   "id": "a988fd6f",
   "metadata": {},
   "source": [
    "nombre_infected       934\n",
    "nombre_sain          1733\n",
    "nombre_exposed        391\n",
    "nombre_recovered    16942\n",
    "Name: 415, dtype: int64"
   ]
  },
  {
   "cell_type": "markdown",
   "id": "561986bc",
   "metadata": {},
   "source": [
    "nombre_infected       894\n",
    "nombre_sain          1740\n",
    "nombre_exposed        408\n",
    "nombre_recovered    16958\n",
    "Name: 416, dtype: int64"
   ]
  },
  {
   "cell_type": "markdown",
   "id": "b20ce2c3",
   "metadata": {},
   "source": [
    "nombre_infected       869\n",
    "nombre_sain          1754\n",
    "nombre_exposed        398\n",
    "nombre_recovered    16979\n",
    "Name: 417, dtype: int64"
   ]
  },
  {
   "cell_type": "markdown",
   "id": "64acf328",
   "metadata": {},
   "source": [
    "nombre_infected       836\n",
    "nombre_sain          1788\n",
    "nombre_exposed        380\n",
    "nombre_recovered    16996\n",
    "Name: 418, dtype: int64"
   ]
  },
  {
   "cell_type": "markdown",
   "id": "15ebe6ae",
   "metadata": {},
   "source": [
    "nombre_infected       834\n",
    "nombre_sain          1819\n",
    "nombre_exposed        365\n",
    "nombre_recovered    16982\n",
    "Name: 419, dtype: int64"
   ]
  },
  {
   "cell_type": "markdown",
   "id": "eab920df",
   "metadata": {},
   "source": [
    "nombre_infected       806\n",
    "nombre_sain          1851\n",
    "nombre_exposed        351\n",
    "nombre_recovered    16992\n",
    "Name: 420, dtype: int64"
   ]
  },
  {
   "cell_type": "markdown",
   "id": "205efaaa",
   "metadata": {},
   "source": [
    "nombre_infected       758\n",
    "nombre_sain          1893\n",
    "nombre_exposed        352\n",
    "nombre_recovered    16997\n",
    "Name: 421, dtype: int64"
   ]
  },
  {
   "cell_type": "markdown",
   "id": "5c4bb623",
   "metadata": {},
   "source": [
    "nombre_infected       755\n",
    "nombre_sain          1885\n",
    "nombre_exposed        364\n",
    "nombre_recovered    16996\n",
    "Name: 422, dtype: int64"
   ]
  },
  {
   "cell_type": "markdown",
   "id": "5bde5cb2",
   "metadata": {},
   "source": [
    "nombre_infected       720\n",
    "nombre_sain          1897\n",
    "nombre_exposed        365\n",
    "nombre_recovered    17018\n",
    "Name: 423, dtype: int64"
   ]
  },
  {
   "cell_type": "markdown",
   "id": "948dd5e9",
   "metadata": {},
   "source": [
    "nombre_infected       734\n",
    "nombre_sain          1910\n",
    "nombre_exposed        352\n",
    "nombre_recovered    17004\n",
    "Name: 424, dtype: int64"
   ]
  },
  {
   "cell_type": "markdown",
   "id": "97687981",
   "metadata": {},
   "source": [
    "nombre_infected       712\n",
    "nombre_sain          1931\n",
    "nombre_exposed        357\n",
    "nombre_recovered    17000\n",
    "Name: 425, dtype: int64"
   ]
  },
  {
   "cell_type": "markdown",
   "id": "a61e9cc1",
   "metadata": {},
   "source": [
    "nombre_infected       710\n",
    "nombre_sain          1925\n",
    "nombre_exposed        375\n",
    "nombre_recovered    16990\n",
    "Name: 426, dtype: int64"
   ]
  },
  {
   "cell_type": "markdown",
   "id": "f1d2861e",
   "metadata": {},
   "source": [
    "nombre_infected       682\n",
    "nombre_sain          1948\n",
    "nombre_exposed        401\n",
    "nombre_recovered    16969\n",
    "Name: 427, dtype: int64"
   ]
  },
  {
   "cell_type": "markdown",
   "id": "406e9af9",
   "metadata": {},
   "source": [
    "nombre_infected       680\n",
    "nombre_sain          1964\n",
    "nombre_exposed        403\n",
    "nombre_recovered    16953\n",
    "Name: 428, dtype: int64"
   ]
  },
  {
   "cell_type": "markdown",
   "id": "6517099f",
   "metadata": {},
   "source": [
    "nombre_infected       679\n",
    "nombre_sain          1997\n",
    "nombre_exposed        395\n",
    "nombre_recovered    16929\n",
    "Name: 429, dtype: int64"
   ]
  },
  {
   "cell_type": "markdown",
   "id": "fbc4802b",
   "metadata": {},
   "source": [
    "nombre_infected       686\n",
    "nombre_sain          2030\n",
    "nombre_exposed        382\n",
    "nombre_recovered    16902\n",
    "Name: 430, dtype: int64"
   ]
  },
  {
   "cell_type": "markdown",
   "id": "73adbb2f",
   "metadata": {},
   "source": [
    "nombre_infected       669\n",
    "nombre_sain          2071\n",
    "nombre_exposed        365\n",
    "nombre_recovered    16895\n",
    "Name: 431, dtype: int64"
   ]
  },
  {
   "cell_type": "markdown",
   "id": "143a071f",
   "metadata": {},
   "source": [
    "nombre_infected       666\n",
    "nombre_sain          2131\n",
    "nombre_exposed        363\n",
    "nombre_recovered    16840\n",
    "Name: 432, dtype: int64"
   ]
  },
  {
   "cell_type": "markdown",
   "id": "b10261b7",
   "metadata": {},
   "source": [
    "nombre_infected       683\n",
    "nombre_sain          2158\n",
    "nombre_exposed        354\n",
    "nombre_recovered    16805\n",
    "Name: 433, dtype: int64"
   ]
  },
  {
   "cell_type": "markdown",
   "id": "94b3752d",
   "metadata": {},
   "source": [
    "nombre_infected       680\n",
    "nombre_sain          2222\n",
    "nombre_exposed        347\n",
    "nombre_recovered    16751\n",
    "Name: 434, dtype: int64"
   ]
  },
  {
   "cell_type": "markdown",
   "id": "5f45586e",
   "metadata": {},
   "source": [
    "nombre_infected       682\n",
    "nombre_sain          2243\n",
    "nombre_exposed        348\n",
    "nombre_recovered    16727\n",
    "Name: 435, dtype: int64"
   ]
  },
  {
   "cell_type": "markdown",
   "id": "50dbc3fd",
   "metadata": {},
   "source": [
    "nombre_infected       688\n",
    "nombre_sain          2256\n",
    "nombre_exposed        362\n",
    "nombre_recovered    16694\n",
    "Name: 436, dtype: int64"
   ]
  },
  {
   "cell_type": "markdown",
   "id": "e88f5c15",
   "metadata": {},
   "source": [
    "nombre_infected       685\n",
    "nombre_sain          2266\n",
    "nombre_exposed        368\n",
    "nombre_recovered    16681\n",
    "Name: 437, dtype: int64"
   ]
  },
  {
   "cell_type": "markdown",
   "id": "4fc74d9d",
   "metadata": {},
   "source": [
    "nombre_infected       666\n",
    "nombre_sain          2306\n",
    "nombre_exposed        371\n",
    "nombre_recovered    16657\n",
    "Name: 438, dtype: int64"
   ]
  },
  {
   "cell_type": "markdown",
   "id": "be277ab2",
   "metadata": {},
   "source": [
    "nombre_infected       660\n",
    "nombre_sain          2334\n",
    "nombre_exposed        368\n",
    "nombre_recovered    16638\n",
    "Name: 439, dtype: int64"
   ]
  },
  {
   "cell_type": "markdown",
   "id": "730c1f3b",
   "metadata": {},
   "source": [
    "nombre_infected       648\n",
    "nombre_sain          2360\n",
    "nombre_exposed        389\n",
    "nombre_recovered    16603\n",
    "Name: 440, dtype: int64"
   ]
  },
  {
   "cell_type": "markdown",
   "id": "540628d4",
   "metadata": {},
   "source": [
    "nombre_infected       680\n",
    "nombre_sain          2381\n",
    "nombre_exposed        380\n",
    "nombre_recovered    16559\n",
    "Name: 441, dtype: int64"
   ]
  },
  {
   "cell_type": "markdown",
   "id": "024f66a6",
   "metadata": {},
   "source": [
    "nombre_infected       679\n",
    "nombre_sain          2412\n",
    "nombre_exposed        373\n",
    "nombre_recovered    16536\n",
    "Name: 442, dtype: int64"
   ]
  },
  {
   "cell_type": "markdown",
   "id": "c1ee471f",
   "metadata": {},
   "source": [
    "nombre_infected       689\n",
    "nombre_sain          2410\n",
    "nombre_exposed        381\n",
    "nombre_recovered    16520\n",
    "Name: 443, dtype: int64"
   ]
  },
  {
   "cell_type": "markdown",
   "id": "6680d91b",
   "metadata": {},
   "source": [
    "nombre_infected       680\n",
    "nombre_sain          2427\n",
    "nombre_exposed        393\n",
    "nombre_recovered    16500\n",
    "Name: 444, dtype: int64"
   ]
  },
  {
   "cell_type": "markdown",
   "id": "6b973dab",
   "metadata": {},
   "source": [
    "nombre_infected       689\n",
    "nombre_sain          2425\n",
    "nombre_exposed        405\n",
    "nombre_recovered    16481\n",
    "Name: 445, dtype: int64"
   ]
  },
  {
   "cell_type": "markdown",
   "id": "14e77c55",
   "metadata": {},
   "source": [
    "nombre_infected       705\n",
    "nombre_sain          2397\n",
    "nombre_exposed        429\n",
    "nombre_recovered    16469\n",
    "Name: 446, dtype: int64"
   ]
  },
  {
   "cell_type": "markdown",
   "id": "a1722399",
   "metadata": {},
   "source": [
    "nombre_infected       710\n",
    "nombre_sain          2390\n",
    "nombre_exposed        436\n",
    "nombre_recovered    16464\n",
    "Name: 447, dtype: int64"
   ]
  },
  {
   "cell_type": "markdown",
   "id": "cb6483e4",
   "metadata": {},
   "source": [
    "nombre_infected       709\n",
    "nombre_sain          2381\n",
    "nombre_exposed        443\n",
    "nombre_recovered    16467\n",
    "Name: 448, dtype: int64"
   ]
  },
  {
   "cell_type": "markdown",
   "id": "1c8f207f",
   "metadata": {},
   "source": [
    "nombre_infected       715\n",
    "nombre_sain          2375\n",
    "nombre_exposed        449\n",
    "nombre_recovered    16461\n",
    "Name: 449, dtype: int64"
   ]
  },
  {
   "cell_type": "markdown",
   "id": "629122a4",
   "metadata": {},
   "source": [
    "nombre_infected       726\n",
    "nombre_sain          2347\n",
    "nombre_exposed        466\n",
    "nombre_recovered    16461\n",
    "Name: 450, dtype: int64"
   ]
  },
  {
   "cell_type": "markdown",
   "id": "7f474ffd",
   "metadata": {},
   "source": [
    "nombre_infected       756\n",
    "nombre_sain          2335\n",
    "nombre_exposed        462\n",
    "nombre_recovered    16447\n",
    "Name: 451, dtype: int64"
   ]
  },
  {
   "cell_type": "markdown",
   "id": "e6f25131",
   "metadata": {},
   "source": [
    "nombre_infected       770\n",
    "nombre_sain          2342\n",
    "nombre_exposed        461\n",
    "nombre_recovered    16427\n",
    "Name: 452, dtype: int64"
   ]
  },
  {
   "cell_type": "markdown",
   "id": "fe6633e6",
   "metadata": {},
   "source": [
    "nombre_infected       777\n",
    "nombre_sain          2334\n",
    "nombre_exposed        442\n",
    "nombre_recovered    16447\n",
    "Name: 453, dtype: int64"
   ]
  },
  {
   "cell_type": "markdown",
   "id": "bedcd0e6",
   "metadata": {},
   "source": [
    "nombre_infected       799\n",
    "nombre_sain          2309\n",
    "nombre_exposed        450\n",
    "nombre_recovered    16442\n",
    "Name: 454, dtype: int64"
   ]
  },
  {
   "cell_type": "markdown",
   "id": "997618ac",
   "metadata": {},
   "source": [
    "nombre_infected       802\n",
    "nombre_sain          2295\n",
    "nombre_exposed        444\n",
    "nombre_recovered    16459\n",
    "Name: 455, dtype: int64"
   ]
  },
  {
   "cell_type": "markdown",
   "id": "b59e2b47",
   "metadata": {},
   "source": [
    "nombre_infected       815\n",
    "nombre_sain          2274\n",
    "nombre_exposed        441\n",
    "nombre_recovered    16470\n",
    "Name: 456, dtype: int64"
   ]
  },
  {
   "cell_type": "markdown",
   "id": "0420ab34",
   "metadata": {},
   "source": [
    "nombre_infected       820\n",
    "nombre_sain          2244\n",
    "nombre_exposed        442\n",
    "nombre_recovered    16494\n",
    "Name: 457, dtype: int64"
   ]
  },
  {
   "cell_type": "markdown",
   "id": "e5b04f5e",
   "metadata": {},
   "source": [
    "nombre_infected       795\n",
    "nombre_sain          2236\n",
    "nombre_exposed        450\n",
    "nombre_recovered    16519\n",
    "Name: 458, dtype: int64"
   ]
  },
  {
   "cell_type": "markdown",
   "id": "8468e0cf",
   "metadata": {},
   "source": [
    "nombre_infected       817\n",
    "nombre_sain          2213\n",
    "nombre_exposed        450\n",
    "nombre_recovered    16520\n",
    "Name: 459, dtype: int64"
   ]
  },
  {
   "cell_type": "markdown",
   "id": "f6068f05",
   "metadata": {},
   "source": [
    "nombre_infected       808\n",
    "nombre_sain          2224\n",
    "nombre_exposed        461\n",
    "nombre_recovered    16507\n",
    "Name: 460, dtype: int64"
   ]
  },
  {
   "cell_type": "markdown",
   "id": "3ffec936",
   "metadata": {},
   "source": [
    "nombre_infected       800\n",
    "nombre_sain          2212\n",
    "nombre_exposed        465\n",
    "nombre_recovered    16523\n",
    "Name: 461, dtype: int64"
   ]
  },
  {
   "cell_type": "markdown",
   "id": "83dd1a51",
   "metadata": {},
   "source": [
    "nombre_infected       805\n",
    "nombre_sain          2203\n",
    "nombre_exposed        458\n",
    "nombre_recovered    16534\n",
    "Name: 462, dtype: int64"
   ]
  },
  {
   "cell_type": "markdown",
   "id": "94bc7357",
   "metadata": {},
   "source": [
    "nombre_infected       804\n",
    "nombre_sain          2157\n",
    "nombre_exposed        470\n",
    "nombre_recovered    16569\n",
    "Name: 463, dtype: int64"
   ]
  },
  {
   "cell_type": "markdown",
   "id": "bdd44c57",
   "metadata": {},
   "source": [
    "nombre_infected       821\n",
    "nombre_sain          2150\n",
    "nombre_exposed        459\n",
    "nombre_recovered    16570\n",
    "Name: 464, dtype: int64"
   ]
  },
  {
   "cell_type": "markdown",
   "id": "9655e453",
   "metadata": {},
   "source": [
    "nombre_infected       837\n",
    "nombre_sain          2150\n",
    "nombre_exposed        459\n",
    "nombre_recovered    16554\n",
    "Name: 465, dtype: int64"
   ]
  },
  {
   "cell_type": "markdown",
   "id": "feebc0de",
   "metadata": {},
   "source": [
    "nombre_infected       842\n",
    "nombre_sain          2126\n",
    "nombre_exposed        452\n",
    "nombre_recovered    16580\n",
    "Name: 466, dtype: int64"
   ]
  },
  {
   "cell_type": "markdown",
   "id": "de2fda4f",
   "metadata": {},
   "source": [
    "nombre_infected       856\n",
    "nombre_sain          2138\n",
    "nombre_exposed        439\n",
    "nombre_recovered    16567\n",
    "Name: 467, dtype: int64"
   ]
  },
  {
   "cell_type": "markdown",
   "id": "6e05a570",
   "metadata": {},
   "source": [
    "nombre_infected       838\n",
    "nombre_sain          2132\n",
    "nombre_exposed        459\n",
    "nombre_recovered    16571\n",
    "Name: 468, dtype: int64"
   ]
  },
  {
   "cell_type": "markdown",
   "id": "ffd4401d",
   "metadata": {},
   "source": [
    "nombre_infected       824\n",
    "nombre_sain          2126\n",
    "nombre_exposed        465\n",
    "nombre_recovered    16585\n",
    "Name: 469, dtype: int64"
   ]
  },
  {
   "cell_type": "markdown",
   "id": "72986cf6",
   "metadata": {},
   "source": [
    "nombre_infected       846\n",
    "nombre_sain          2132\n",
    "nombre_exposed        447\n",
    "nombre_recovered    16575\n",
    "Name: 470, dtype: int64"
   ]
  },
  {
   "cell_type": "markdown",
   "id": "a2c54c24",
   "metadata": {},
   "source": [
    "nombre_infected       856\n",
    "nombre_sain          2106\n",
    "nombre_exposed        470\n",
    "nombre_recovered    16568\n",
    "Name: 471, dtype: int64"
   ]
  },
  {
   "cell_type": "markdown",
   "id": "52f013c5",
   "metadata": {},
   "source": [
    "nombre_infected       849\n",
    "nombre_sain          2109\n",
    "nombre_exposed        486\n",
    "nombre_recovered    16556\n",
    "Name: 472, dtype: int64"
   ]
  },
  {
   "cell_type": "markdown",
   "id": "187bde44",
   "metadata": {},
   "source": [
    "nombre_infected       857\n",
    "nombre_sain          2122\n",
    "nombre_exposed        476\n",
    "nombre_recovered    16545\n",
    "Name: 473, dtype: int64"
   ]
  },
  {
   "cell_type": "markdown",
   "id": "c8935607",
   "metadata": {},
   "source": [
    "nombre_infected       861\n",
    "nombre_sain          2136\n",
    "nombre_exposed        464\n",
    "nombre_recovered    16539\n",
    "Name: 474, dtype: int64"
   ]
  },
  {
   "cell_type": "markdown",
   "id": "f09f2a5d",
   "metadata": {},
   "source": [
    "nombre_infected       858\n",
    "nombre_sain          2120\n",
    "nombre_exposed        475\n",
    "nombre_recovered    16547\n",
    "Name: 475, dtype: int64"
   ]
  },
  {
   "cell_type": "markdown",
   "id": "d285d492",
   "metadata": {},
   "source": [
    "nombre_infected       870\n",
    "nombre_sain          2109\n",
    "nombre_exposed        486\n",
    "nombre_recovered    16535\n",
    "Name: 476, dtype: int64"
   ]
  },
  {
   "cell_type": "markdown",
   "id": "753c3247",
   "metadata": {},
   "source": [
    "nombre_infected       872\n",
    "nombre_sain          2123\n",
    "nombre_exposed        484\n",
    "nombre_recovered    16521\n",
    "Name: 477, dtype: int64"
   ]
  },
  {
   "cell_type": "markdown",
   "id": "26fc1196",
   "metadata": {},
   "source": [
    "nombre_infected       881\n",
    "nombre_sain          2115\n",
    "nombre_exposed        480\n",
    "nombre_recovered    16524\n",
    "Name: 478, dtype: int64"
   ]
  },
  {
   "cell_type": "markdown",
   "id": "60dc720f",
   "metadata": {},
   "source": [
    "nombre_infected       855\n",
    "nombre_sain          2114\n",
    "nombre_exposed        487\n",
    "nombre_recovered    16544\n",
    "Name: 479, dtype: int64"
   ]
  },
  {
   "cell_type": "markdown",
   "id": "a0e48437",
   "metadata": {},
   "source": [
    "nombre_infected       857\n",
    "nombre_sain          2098\n",
    "nombre_exposed        481\n",
    "nombre_recovered    16564\n",
    "Name: 480, dtype: int64"
   ]
  },
  {
   "cell_type": "markdown",
   "id": "26faf08a",
   "metadata": {},
   "source": [
    "nombre_infected       856\n",
    "nombre_sain          2104\n",
    "nombre_exposed        469\n",
    "nombre_recovered    16571\n",
    "Name: 481, dtype: int64"
   ]
  },
  {
   "cell_type": "markdown",
   "id": "041209a9",
   "metadata": {},
   "source": [
    "nombre_infected       869\n",
    "nombre_sain          2125\n",
    "nombre_exposed        448\n",
    "nombre_recovered    16558\n",
    "Name: 482, dtype: int64"
   ]
  },
  {
   "cell_type": "markdown",
   "id": "f4c2646e",
   "metadata": {},
   "source": [
    "nombre_infected       873\n",
    "nombre_sain          2116\n",
    "nombre_exposed        446\n",
    "nombre_recovered    16565\n",
    "Name: 483, dtype: int64"
   ]
  },
  {
   "cell_type": "markdown",
   "id": "6187884b",
   "metadata": {},
   "source": [
    "nombre_infected       857\n",
    "nombre_sain          2101\n",
    "nombre_exposed        463\n",
    "nombre_recovered    16579\n",
    "Name: 484, dtype: int64"
   ]
  },
  {
   "cell_type": "markdown",
   "id": "e1ac51a4",
   "metadata": {},
   "source": [
    "nombre_infected       824\n",
    "nombre_sain          2105\n",
    "nombre_exposed        475\n",
    "nombre_recovered    16596\n",
    "Name: 485, dtype: int64"
   ]
  },
  {
   "cell_type": "markdown",
   "id": "738dd9a2",
   "metadata": {},
   "source": [
    "nombre_infected       818\n",
    "nombre_sain          2123\n",
    "nombre_exposed        481\n",
    "nombre_recovered    16578\n",
    "Name: 486, dtype: int64"
   ]
  },
  {
   "cell_type": "markdown",
   "id": "e333d2d2",
   "metadata": {},
   "source": [
    "nombre_infected       835\n",
    "nombre_sain          2132\n",
    "nombre_exposed        458\n",
    "nombre_recovered    16575\n",
    "Name: 487, dtype: int64"
   ]
  },
  {
   "cell_type": "markdown",
   "id": "b8d2e3ad",
   "metadata": {},
   "source": [
    "nombre_infected       854\n",
    "nombre_sain          2147\n",
    "nombre_exposed        447\n",
    "nombre_recovered    16552\n",
    "Name: 488, dtype: int64"
   ]
  },
  {
   "cell_type": "markdown",
   "id": "edc583ba",
   "metadata": {},
   "source": [
    "nombre_infected       855\n",
    "nombre_sain          2155\n",
    "nombre_exposed        450\n",
    "nombre_recovered    16540\n",
    "Name: 489, dtype: int64"
   ]
  },
  {
   "cell_type": "markdown",
   "id": "ec9ce905",
   "metadata": {},
   "source": [
    "nombre_infected       838\n",
    "nombre_sain          2155\n",
    "nombre_exposed        465\n",
    "nombre_recovered    16542\n",
    "Name: 490, dtype: int64"
   ]
  },
  {
   "cell_type": "markdown",
   "id": "548fb15e",
   "metadata": {},
   "source": [
    "nombre_infected       819\n",
    "nombre_sain          2163\n",
    "nombre_exposed        462\n",
    "nombre_recovered    16556\n",
    "Name: 491, dtype: int64"
   ]
  },
  {
   "cell_type": "markdown",
   "id": "aa9148df",
   "metadata": {},
   "source": [
    "nombre_infected       819\n",
    "nombre_sain          2165\n",
    "nombre_exposed        452\n",
    "nombre_recovered    16564\n",
    "Name: 492, dtype: int64"
   ]
  },
  {
   "cell_type": "markdown",
   "id": "0b38c8a5",
   "metadata": {},
   "source": [
    "nombre_infected       797\n",
    "nombre_sain          2186\n",
    "nombre_exposed        460\n",
    "nombre_recovered    16557\n",
    "Name: 493, dtype: int64"
   ]
  },
  {
   "cell_type": "markdown",
   "id": "45bd0844",
   "metadata": {},
   "source": [
    "nombre_infected       808\n",
    "nombre_sain          2231\n",
    "nombre_exposed        433\n",
    "nombre_recovered    16528\n",
    "Name: 494, dtype: int64"
   ]
  },
  {
   "cell_type": "markdown",
   "id": "bf114675",
   "metadata": {},
   "source": [
    "nombre_infected       813\n",
    "nombre_sain          2254\n",
    "nombre_exposed        428\n",
    "nombre_recovered    16505\n",
    "Name: 495, dtype: int64"
   ]
  },
  {
   "cell_type": "markdown",
   "id": "de58f869",
   "metadata": {},
   "source": [
    "nombre_infected       801\n",
    "nombre_sain          2239\n",
    "nombre_exposed        434\n",
    "nombre_recovered    16526\n",
    "Name: 496, dtype: int64"
   ]
  },
  {
   "cell_type": "markdown",
   "id": "58f18362",
   "metadata": {},
   "source": [
    "nombre_infected       780\n",
    "nombre_sain          2271\n",
    "nombre_exposed        430\n",
    "nombre_recovered    16519\n",
    "Name: 497, dtype: int64"
   ]
  },
  {
   "cell_type": "markdown",
   "id": "6daeb9b3",
   "metadata": {},
   "source": [
    "nombre_infected       797\n",
    "nombre_sain          2265\n",
    "nombre_exposed        435\n",
    "nombre_recovered    16503\n",
    "Name: 498, dtype: int64"
   ]
  },
  {
   "cell_type": "markdown",
   "id": "e034802c",
   "metadata": {},
   "source": [
    "nombre_infected       792\n",
    "nombre_sain          2257\n",
    "nombre_exposed        473\n",
    "nombre_recovered    16478\n",
    "Name: 499, dtype: int64"
   ]
  },
  {
   "cell_type": "markdown",
   "id": "2f746b42",
   "metadata": {},
   "source": [
    "nombre_infected       787\n",
    "nombre_sain          2275\n",
    "nombre_exposed        467\n",
    "nombre_recovered    16471\n",
    "Name: 500, dtype: int64"
   ]
  },
  {
   "cell_type": "markdown",
   "id": "27d73512",
   "metadata": {},
   "source": [
    "nombre_infected       808\n",
    "nombre_sain          2265\n",
    "nombre_exposed        479\n",
    "nombre_recovered    16448\n",
    "Name: 501, dtype: int64"
   ]
  },
  {
   "cell_type": "markdown",
   "id": "635301fa",
   "metadata": {},
   "source": [
    "nombre_infected       851\n",
    "nombre_sain          2275\n",
    "nombre_exposed        454\n",
    "nombre_recovered    16420\n",
    "Name: 502, dtype: int64"
   ]
  },
  {
   "cell_type": "markdown",
   "id": "01abb188",
   "metadata": {},
   "source": [
    "nombre_infected       851\n",
    "nombre_sain          2264\n",
    "nombre_exposed        453\n",
    "nombre_recovered    16432\n",
    "Name: 503, dtype: int64"
   ]
  },
  {
   "cell_type": "markdown",
   "id": "31fbe0c4",
   "metadata": {},
   "source": [
    "nombre_infected       838\n",
    "nombre_sain          2281\n",
    "nombre_exposed        463\n",
    "nombre_recovered    16418\n",
    "Name: 504, dtype: int64"
   ]
  },
  {
   "cell_type": "markdown",
   "id": "a8bbe51e",
   "metadata": {},
   "source": [
    "nombre_infected       843\n",
    "nombre_sain          2288\n",
    "nombre_exposed        460\n",
    "nombre_recovered    16409\n",
    "Name: 505, dtype: int64"
   ]
  },
  {
   "cell_type": "markdown",
   "id": "0cff6036",
   "metadata": {},
   "source": [
    "nombre_infected       859\n",
    "nombre_sain          2267\n",
    "nombre_exposed        463\n",
    "nombre_recovered    16411\n",
    "Name: 506, dtype: int64"
   ]
  },
  {
   "cell_type": "markdown",
   "id": "ee4d3cab",
   "metadata": {},
   "source": [
    "nombre_infected       871\n",
    "nombre_sain          2265\n",
    "nombre_exposed        463\n",
    "nombre_recovered    16401\n",
    "Name: 507, dtype: int64"
   ]
  },
  {
   "cell_type": "markdown",
   "id": "ebfac386",
   "metadata": {},
   "source": [
    "nombre_infected       868\n",
    "nombre_sain          2260\n",
    "nombre_exposed        461\n",
    "nombre_recovered    16411\n",
    "Name: 508, dtype: int64"
   ]
  },
  {
   "cell_type": "markdown",
   "id": "e48f8e74",
   "metadata": {},
   "source": [
    "nombre_infected       901\n",
    "nombre_sain          2240\n",
    "nombre_exposed        470\n",
    "nombre_recovered    16389\n",
    "Name: 509, dtype: int64"
   ]
  },
  {
   "cell_type": "markdown",
   "id": "c7105992",
   "metadata": {},
   "source": [
    "nombre_infected       907\n",
    "nombre_sain          2212\n",
    "nombre_exposed        503\n",
    "nombre_recovered    16378\n",
    "Name: 510, dtype: int64"
   ]
  },
  {
   "cell_type": "markdown",
   "id": "0193d32e",
   "metadata": {},
   "source": [
    "nombre_infected       923\n",
    "nombre_sain          2174\n",
    "nombre_exposed        509\n",
    "nombre_recovered    16394\n",
    "Name: 511, dtype: int64"
   ]
  },
  {
   "cell_type": "markdown",
   "id": "01752a53",
   "metadata": {},
   "source": [
    "nombre_infected       956\n",
    "nombre_sain          2140\n",
    "nombre_exposed        515\n",
    "nombre_recovered    16389\n",
    "Name: 512, dtype: int64"
   ]
  },
  {
   "cell_type": "markdown",
   "id": "e2ed95ef",
   "metadata": {},
   "source": [
    "nombre_infected       963\n",
    "nombre_sain          2095\n",
    "nombre_exposed        520\n",
    "nombre_recovered    16422\n",
    "Name: 513, dtype: int64"
   ]
  },
  {
   "cell_type": "markdown",
   "id": "038f42b7",
   "metadata": {},
   "source": [
    "nombre_infected       970\n",
    "nombre_sain          2079\n",
    "nombre_exposed        514\n",
    "nombre_recovered    16437\n",
    "Name: 514, dtype: int64"
   ]
  },
  {
   "cell_type": "markdown",
   "id": "f0a7d8fe",
   "metadata": {},
   "source": [
    "nombre_infected       984\n",
    "nombre_sain          2055\n",
    "nombre_exposed        499\n",
    "nombre_recovered    16462\n",
    "Name: 515, dtype: int64"
   ]
  },
  {
   "cell_type": "markdown",
   "id": "5d31223a",
   "metadata": {},
   "source": [
    "nombre_infected       993\n",
    "nombre_sain          2029\n",
    "nombre_exposed        492\n",
    "nombre_recovered    16486\n",
    "Name: 516, dtype: int64"
   ]
  },
  {
   "cell_type": "markdown",
   "id": "80a4dc72",
   "metadata": {},
   "source": [
    "nombre_infected       978\n",
    "nombre_sain          1994\n",
    "nombre_exposed        502\n",
    "nombre_recovered    16526\n",
    "Name: 517, dtype: int64"
   ]
  },
  {
   "cell_type": "markdown",
   "id": "c074fc6a",
   "metadata": {},
   "source": [
    "nombre_infected       976\n",
    "nombre_sain          1970\n",
    "nombre_exposed        516\n",
    "nombre_recovered    16538\n",
    "Name: 518, dtype: int64"
   ]
  },
  {
   "cell_type": "markdown",
   "id": "3b594df3",
   "metadata": {},
   "source": [
    "nombre_infected       969\n",
    "nombre_sain          1960\n",
    "nombre_exposed        499\n",
    "nombre_recovered    16572\n",
    "Name: 519, dtype: int64"
   ]
  },
  {
   "cell_type": "markdown",
   "id": "b787ae30",
   "metadata": {},
   "source": [
    "nombre_infected       971\n",
    "nombre_sain          1922\n",
    "nombre_exposed        502\n",
    "nombre_recovered    16605\n",
    "Name: 520, dtype: int64"
   ]
  },
  {
   "cell_type": "markdown",
   "id": "aec67831",
   "metadata": {},
   "source": [
    "nombre_infected       972\n",
    "nombre_sain          1891\n",
    "nombre_exposed        506\n",
    "nombre_recovered    16631\n",
    "Name: 521, dtype: int64"
   ]
  },
  {
   "cell_type": "markdown",
   "id": "a6731b31",
   "metadata": {},
   "source": [
    "nombre_infected       972\n",
    "nombre_sain          1880\n",
    "nombre_exposed        494\n",
    "nombre_recovered    16654\n",
    "Name: 522, dtype: int64"
   ]
  },
  {
   "cell_type": "markdown",
   "id": "15e39f22",
   "metadata": {},
   "source": [
    "nombre_infected       958\n",
    "nombre_sain          1881\n",
    "nombre_exposed        495\n",
    "nombre_recovered    16666\n",
    "Name: 523, dtype: int64"
   ]
  },
  {
   "cell_type": "markdown",
   "id": "e6e25afd",
   "metadata": {},
   "source": [
    "nombre_infected       967\n",
    "nombre_sain          1872\n",
    "nombre_exposed        461\n",
    "nombre_recovered    16700\n",
    "Name: 524, dtype: int64"
   ]
  },
  {
   "cell_type": "markdown",
   "id": "6e3e5620",
   "metadata": {},
   "source": [
    "nombre_infected       940\n",
    "nombre_sain          1847\n",
    "nombre_exposed        491\n",
    "nombre_recovered    16722\n",
    "Name: 525, dtype: int64"
   ]
  },
  {
   "cell_type": "markdown",
   "id": "64d8bb62",
   "metadata": {},
   "source": [
    "nombre_infected       942\n",
    "nombre_sain          1824\n",
    "nombre_exposed        505\n",
    "nombre_recovered    16729\n",
    "Name: 526, dtype: int64"
   ]
  },
  {
   "cell_type": "markdown",
   "id": "400c38ab",
   "metadata": {},
   "source": [
    "nombre_infected       967\n",
    "nombre_sain          1826\n",
    "nombre_exposed        490\n",
    "nombre_recovered    16717\n",
    "Name: 527, dtype: int64"
   ]
  },
  {
   "cell_type": "markdown",
   "id": "e06f545c",
   "metadata": {},
   "source": [
    "nombre_infected       974\n",
    "nombre_sain          1817\n",
    "nombre_exposed        474\n",
    "nombre_recovered    16735\n",
    "Name: 528, dtype: int64"
   ]
  },
  {
   "cell_type": "markdown",
   "id": "88499dc2",
   "metadata": {},
   "source": [
    "nombre_infected       991\n",
    "nombre_sain          1822\n",
    "nombre_exposed        467\n",
    "nombre_recovered    16720\n",
    "Name: 529, dtype: int64"
   ]
  },
  {
   "cell_type": "markdown",
   "id": "636bbb81",
   "metadata": {},
   "source": [
    "nombre_infected       986\n",
    "nombre_sain          1812\n",
    "nombre_exposed        459\n",
    "nombre_recovered    16743\n",
    "Name: 530, dtype: int64"
   ]
  },
  {
   "cell_type": "markdown",
   "id": "ccab7a7a",
   "metadata": {},
   "source": [
    "nombre_infected       995\n",
    "nombre_sain          1811\n",
    "nombre_exposed        459\n",
    "nombre_recovered    16735\n",
    "Name: 531, dtype: int64"
   ]
  },
  {
   "cell_type": "markdown",
   "id": "ab5f2dcd",
   "metadata": {},
   "source": [
    "nombre_infected       961\n",
    "nombre_sain          1808\n",
    "nombre_exposed        462\n",
    "nombre_recovered    16769\n",
    "Name: 532, dtype: int64"
   ]
  },
  {
   "cell_type": "markdown",
   "id": "a7ab57b5",
   "metadata": {},
   "source": [
    "nombre_infected       940\n",
    "nombre_sain          1777\n",
    "nombre_exposed        478\n",
    "nombre_recovered    16805\n",
    "Name: 533, dtype: int64"
   ]
  },
  {
   "cell_type": "markdown",
   "id": "2e4a0222",
   "metadata": {},
   "source": [
    "nombre_infected       930\n",
    "nombre_sain          1799\n",
    "nombre_exposed        467\n",
    "nombre_recovered    16804\n",
    "Name: 534, dtype: int64"
   ]
  },
  {
   "cell_type": "markdown",
   "id": "b2d9d0f5",
   "metadata": {},
   "source": [
    "nombre_infected       933\n",
    "nombre_sain          1796\n",
    "nombre_exposed        472\n",
    "nombre_recovered    16799\n",
    "Name: 535, dtype: int64"
   ]
  },
  {
   "cell_type": "markdown",
   "id": "c66b0ed2",
   "metadata": {},
   "source": [
    "nombre_infected       930\n",
    "nombre_sain          1814\n",
    "nombre_exposed        454\n",
    "nombre_recovered    16802\n",
    "Name: 536, dtype: int64"
   ]
  },
  {
   "cell_type": "markdown",
   "id": "df276539",
   "metadata": {},
   "source": [
    "nombre_infected       936\n",
    "nombre_sain          1822\n",
    "nombre_exposed        431\n",
    "nombre_recovered    16811\n",
    "Name: 537, dtype: int64"
   ]
  },
  {
   "cell_type": "markdown",
   "id": "b8587c04",
   "metadata": {},
   "source": [
    "nombre_infected       934\n",
    "nombre_sain          1831\n",
    "nombre_exposed        420\n",
    "nombre_recovered    16815\n",
    "Name: 538, dtype: int64"
   ]
  },
  {
   "cell_type": "markdown",
   "id": "d7aa434d",
   "metadata": {},
   "source": [
    "nombre_infected       924\n",
    "nombre_sain          1825\n",
    "nombre_exposed        417\n",
    "nombre_recovered    16834\n",
    "Name: 539, dtype: int64"
   ]
  },
  {
   "cell_type": "markdown",
   "id": "b823cda7",
   "metadata": {},
   "source": [
    "nombre_infected       899\n",
    "nombre_sain          1832\n",
    "nombre_exposed        443\n",
    "nombre_recovered    16826\n",
    "Name: 540, dtype: int64"
   ]
  },
  {
   "cell_type": "markdown",
   "id": "803fa03e",
   "metadata": {},
   "source": [
    "nombre_infected       885\n",
    "nombre_sain          1844\n",
    "nombre_exposed        449\n",
    "nombre_recovered    16822\n",
    "Name: 541, dtype: int64"
   ]
  },
  {
   "cell_type": "markdown",
   "id": "d4e3fe61",
   "metadata": {},
   "source": [
    "nombre_infected       888\n",
    "nombre_sain          1822\n",
    "nombre_exposed        464\n",
    "nombre_recovered    16826\n",
    "Name: 542, dtype: int64"
   ]
  },
  {
   "cell_type": "markdown",
   "id": "92ecaa88",
   "metadata": {},
   "source": [
    "nombre_infected       891\n",
    "nombre_sain          1836\n",
    "nombre_exposed        462\n",
    "nombre_recovered    16811\n",
    "Name: 543, dtype: int64"
   ]
  },
  {
   "cell_type": "markdown",
   "id": "79de5ffa",
   "metadata": {},
   "source": [
    "nombre_infected       879\n",
    "nombre_sain          1834\n",
    "nombre_exposed        468\n",
    "nombre_recovered    16819\n",
    "Name: 544, dtype: int64"
   ]
  },
  {
   "cell_type": "markdown",
   "id": "fb351b2c",
   "metadata": {},
   "source": [
    "nombre_infected       881\n",
    "nombre_sain          1841\n",
    "nombre_exposed        441\n",
    "nombre_recovered    16837\n",
    "Name: 545, dtype: int64"
   ]
  },
  {
   "cell_type": "markdown",
   "id": "214e39da",
   "metadata": {},
   "source": [
    "nombre_infected       883\n",
    "nombre_sain          1864\n",
    "nombre_exposed        439\n",
    "nombre_recovered    16814\n",
    "Name: 546, dtype: int64"
   ]
  },
  {
   "cell_type": "markdown",
   "id": "e863f31f",
   "metadata": {},
   "source": [
    "nombre_infected       896\n",
    "nombre_sain          1885\n",
    "nombre_exposed        421\n",
    "nombre_recovered    16798\n",
    "Name: 547, dtype: int64"
   ]
  },
  {
   "cell_type": "markdown",
   "id": "a6ffde7f",
   "metadata": {},
   "source": [
    "nombre_infected       888\n",
    "nombre_sain          1873\n",
    "nombre_exposed        455\n",
    "nombre_recovered    16784\n",
    "Name: 548, dtype: int64"
   ]
  },
  {
   "cell_type": "markdown",
   "id": "c0c2b265",
   "metadata": {},
   "source": [
    "nombre_infected       899\n",
    "nombre_sain          1864\n",
    "nombre_exposed        464\n",
    "nombre_recovered    16773\n",
    "Name: 549, dtype: int64"
   ]
  },
  {
   "cell_type": "markdown",
   "id": "0f3a1d67",
   "metadata": {},
   "source": [
    "nombre_infected       904\n",
    "nombre_sain          1883\n",
    "nombre_exposed        444\n",
    "nombre_recovered    16769\n",
    "Name: 550, dtype: int64"
   ]
  },
  {
   "cell_type": "markdown",
   "id": "79657bbf",
   "metadata": {},
   "source": [
    "nombre_infected       903\n",
    "nombre_sain          1919\n",
    "nombre_exposed        433\n",
    "nombre_recovered    16745\n",
    "Name: 551, dtype: int64"
   ]
  },
  {
   "cell_type": "markdown",
   "id": "7cf7dbcb",
   "metadata": {},
   "source": [
    "nombre_infected       890\n",
    "nombre_sain          1911\n",
    "nombre_exposed        429\n",
    "nombre_recovered    16770\n",
    "Name: 552, dtype: int64"
   ]
  },
  {
   "cell_type": "markdown",
   "id": "4721f39b",
   "metadata": {},
   "source": [
    "nombre_infected       900\n",
    "nombre_sain          1917\n",
    "nombre_exposed        419\n",
    "nombre_recovered    16764\n",
    "Name: 553, dtype: int64"
   ]
  },
  {
   "cell_type": "markdown",
   "id": "9a18553b",
   "metadata": {},
   "source": [
    "nombre_infected       886\n",
    "nombre_sain          1914\n",
    "nombre_exposed        428\n",
    "nombre_recovered    16772\n",
    "Name: 554, dtype: int64"
   ]
  },
  {
   "cell_type": "markdown",
   "id": "52fd2359",
   "metadata": {},
   "source": [
    "nombre_infected       874\n",
    "nombre_sain          1908\n",
    "nombre_exposed        432\n",
    "nombre_recovered    16786\n",
    "Name: 555, dtype: int64"
   ]
  },
  {
   "cell_type": "markdown",
   "id": "bf8d6252",
   "metadata": {},
   "source": [
    "nombre_infected       859\n",
    "nombre_sain          1926\n",
    "nombre_exposed        426\n",
    "nombre_recovered    16789\n",
    "Name: 556, dtype: int64"
   ]
  },
  {
   "cell_type": "markdown",
   "id": "e0b2ebf9",
   "metadata": {},
   "source": [
    "nombre_infected       862\n",
    "nombre_sain          1931\n",
    "nombre_exposed        441\n",
    "nombre_recovered    16766\n",
    "Name: 557, dtype: int64"
   ]
  },
  {
   "cell_type": "markdown",
   "id": "d4e6aae4",
   "metadata": {},
   "source": [
    "nombre_infected       865\n",
    "nombre_sain          1932\n",
    "nombre_exposed        434\n",
    "nombre_recovered    16769\n",
    "Name: 558, dtype: int64"
   ]
  },
  {
   "cell_type": "markdown",
   "id": "9c07b56d",
   "metadata": {},
   "source": [
    "nombre_infected       880\n",
    "nombre_sain          1923\n",
    "nombre_exposed        417\n",
    "nombre_recovered    16780\n",
    "Name: 559, dtype: int64"
   ]
  },
  {
   "cell_type": "markdown",
   "id": "c9780ea2",
   "metadata": {},
   "source": [
    "nombre_infected       865\n",
    "nombre_sain          1928\n",
    "nombre_exposed        426\n",
    "nombre_recovered    16781\n",
    "Name: 560, dtype: int64"
   ]
  },
  {
   "cell_type": "markdown",
   "id": "9a5ba84b",
   "metadata": {},
   "source": [
    "nombre_infected       847\n",
    "nombre_sain          1936\n",
    "nombre_exposed        439\n",
    "nombre_recovered    16778\n",
    "Name: 561, dtype: int64"
   ]
  },
  {
   "cell_type": "markdown",
   "id": "877bfbe6",
   "metadata": {},
   "source": [
    "nombre_infected       841\n",
    "nombre_sain          1940\n",
    "nombre_exposed        428\n",
    "nombre_recovered    16791\n",
    "Name: 562, dtype: int64"
   ]
  },
  {
   "cell_type": "markdown",
   "id": "92f08891",
   "metadata": {},
   "source": [
    "nombre_infected       843\n",
    "nombre_sain          1991\n",
    "nombre_exposed        396\n",
    "nombre_recovered    16770\n",
    "Name: 563, dtype: int64"
   ]
  },
  {
   "cell_type": "markdown",
   "id": "eb24de46",
   "metadata": {},
   "source": [
    "nombre_infected       836\n",
    "nombre_sain          1995\n",
    "nombre_exposed        405\n",
    "nombre_recovered    16764\n",
    "Name: 564, dtype: int64"
   ]
  },
  {
   "cell_type": "markdown",
   "id": "0ece70a7",
   "metadata": {},
   "source": [
    "nombre_infected       836\n",
    "nombre_sain          1996\n",
    "nombre_exposed        410\n",
    "nombre_recovered    16758\n",
    "Name: 565, dtype: int64"
   ]
  },
  {
   "cell_type": "markdown",
   "id": "c01dbba0",
   "metadata": {},
   "source": [
    "nombre_infected       833\n",
    "nombre_sain          2028\n",
    "nombre_exposed        407\n",
    "nombre_recovered    16732\n",
    "Name: 566, dtype: int64"
   ]
  },
  {
   "cell_type": "markdown",
   "id": "9427197d",
   "metadata": {},
   "source": [
    "nombre_infected       849\n",
    "nombre_sain          2037\n",
    "nombre_exposed        390\n",
    "nombre_recovered    16724\n",
    "Name: 567, dtype: int64"
   ]
  },
  {
   "cell_type": "markdown",
   "id": "ae20041c",
   "metadata": {},
   "source": [
    "nombre_infected       840\n",
    "nombre_sain          2031\n",
    "nombre_exposed        394\n",
    "nombre_recovered    16735\n",
    "Name: 568, dtype: int64"
   ]
  },
  {
   "cell_type": "markdown",
   "id": "7e5b7f68",
   "metadata": {},
   "source": [
    "nombre_infected       814\n",
    "nombre_sain          2017\n",
    "nombre_exposed        421\n",
    "nombre_recovered    16748\n",
    "Name: 569, dtype: int64"
   ]
  },
  {
   "cell_type": "markdown",
   "id": "afd90f70",
   "metadata": {},
   "source": [
    "nombre_infected       805\n",
    "nombre_sain          2043\n",
    "nombre_exposed        421\n",
    "nombre_recovered    16731\n",
    "Name: 570, dtype: int64"
   ]
  },
  {
   "cell_type": "markdown",
   "id": "fc0a9908",
   "metadata": {},
   "source": [
    "nombre_infected       802\n",
    "nombre_sain          2056\n",
    "nombre_exposed        405\n",
    "nombre_recovered    16737\n",
    "Name: 571, dtype: int64"
   ]
  },
  {
   "cell_type": "markdown",
   "id": "ac1eafcf",
   "metadata": {},
   "source": [
    "nombre_infected       784\n",
    "nombre_sain          2081\n",
    "nombre_exposed        409\n",
    "nombre_recovered    16726\n",
    "Name: 572, dtype: int64"
   ]
  },
  {
   "cell_type": "markdown",
   "id": "bbe7d3f4",
   "metadata": {},
   "source": [
    "nombre_infected       791\n",
    "nombre_sain          2098\n",
    "nombre_exposed        405\n",
    "nombre_recovered    16706\n",
    "Name: 573, dtype: int64"
   ]
  },
  {
   "cell_type": "markdown",
   "id": "4fd33c5f",
   "metadata": {},
   "source": [
    "nombre_infected       788\n",
    "nombre_sain          2104\n",
    "nombre_exposed        416\n",
    "nombre_recovered    16692\n",
    "Name: 574, dtype: int64"
   ]
  },
  {
   "cell_type": "markdown",
   "id": "06e32a99",
   "metadata": {},
   "source": [
    "nombre_infected       801\n",
    "nombre_sain          2096\n",
    "nombre_exposed        434\n",
    "nombre_recovered    16669\n",
    "Name: 575, dtype: int64"
   ]
  },
  {
   "cell_type": "markdown",
   "id": "0edf561a",
   "metadata": {},
   "source": [
    "nombre_infected       811\n",
    "nombre_sain          2125\n",
    "nombre_exposed        424\n",
    "nombre_recovered    16640\n",
    "Name: 576, dtype: int64"
   ]
  },
  {
   "cell_type": "markdown",
   "id": "dab1fe14",
   "metadata": {},
   "source": [
    "nombre_infected       826\n",
    "nombre_sain          2136\n",
    "nombre_exposed        413\n",
    "nombre_recovered    16625\n",
    "Name: 577, dtype: int64"
   ]
  },
  {
   "cell_type": "markdown",
   "id": "7a2e2cde",
   "metadata": {},
   "source": [
    "nombre_infected       843\n",
    "nombre_sain          2108\n",
    "nombre_exposed        428\n",
    "nombre_recovered    16621\n",
    "Name: 578, dtype: int64"
   ]
  },
  {
   "cell_type": "markdown",
   "id": "7a1245ec",
   "metadata": {},
   "source": [
    "nombre_infected       853\n",
    "nombre_sain          2117\n",
    "nombre_exposed        408\n",
    "nombre_recovered    16622\n",
    "Name: 579, dtype: int64"
   ]
  },
  {
   "cell_type": "markdown",
   "id": "3016f0c0",
   "metadata": {},
   "source": [
    "nombre_infected       853\n",
    "nombre_sain          2127\n",
    "nombre_exposed        403\n",
    "nombre_recovered    16617\n",
    "Name: 580, dtype: int64"
   ]
  },
  {
   "cell_type": "markdown",
   "id": "b0247312",
   "metadata": {},
   "source": [
    "nombre_infected       839\n",
    "nombre_sain          2128\n",
    "nombre_exposed        410\n",
    "nombre_recovered    16623\n",
    "Name: 581, dtype: int64"
   ]
  },
  {
   "cell_type": "markdown",
   "id": "faa38496",
   "metadata": {},
   "source": [
    "nombre_infected       815\n",
    "nombre_sain          2129\n",
    "nombre_exposed        428\n",
    "nombre_recovered    16628\n",
    "Name: 582, dtype: int64"
   ]
  },
  {
   "cell_type": "markdown",
   "id": "f9f2a91c",
   "metadata": {},
   "source": [
    "nombre_infected       822\n",
    "nombre_sain          2129\n",
    "nombre_exposed        439\n",
    "nombre_recovered    16610\n",
    "Name: 583, dtype: int64"
   ]
  },
  {
   "cell_type": "markdown",
   "id": "4e5bd2b0",
   "metadata": {},
   "source": [
    "nombre_infected       815\n",
    "nombre_sain          2132\n",
    "nombre_exposed        428\n",
    "nombre_recovered    16625\n",
    "Name: 584, dtype: int64"
   ]
  },
  {
   "cell_type": "markdown",
   "id": "bfd13485",
   "metadata": {},
   "source": [
    "nombre_infected       809\n",
    "nombre_sain          2145\n",
    "nombre_exposed        422\n",
    "nombre_recovered    16624\n",
    "Name: 585, dtype: int64"
   ]
  },
  {
   "cell_type": "markdown",
   "id": "8dbee54e",
   "metadata": {},
   "source": [
    "nombre_infected       828\n",
    "nombre_sain          2144\n",
    "nombre_exposed        426\n",
    "nombre_recovered    16602\n",
    "Name: 586, dtype: int64"
   ]
  },
  {
   "cell_type": "markdown",
   "id": "0f933872",
   "metadata": {},
   "source": [
    "nombre_infected       828\n",
    "nombre_sain          2141\n",
    "nombre_exposed        445\n",
    "nombre_recovered    16586\n",
    "Name: 587, dtype: int64"
   ]
  },
  {
   "cell_type": "markdown",
   "id": "706c1cf0",
   "metadata": {},
   "source": [
    "nombre_infected       831\n",
    "nombre_sain          2133\n",
    "nombre_exposed        467\n",
    "nombre_recovered    16569\n",
    "Name: 588, dtype: int64"
   ]
  },
  {
   "cell_type": "markdown",
   "id": "5f3ff805",
   "metadata": {},
   "source": [
    "nombre_infected       821\n",
    "nombre_sain          2135\n",
    "nombre_exposed        465\n",
    "nombre_recovered    16579\n",
    "Name: 589, dtype: int64"
   ]
  },
  {
   "cell_type": "markdown",
   "id": "92b6203f",
   "metadata": {},
   "source": [
    "nombre_infected       829\n",
    "nombre_sain          2154\n",
    "nombre_exposed        457\n",
    "nombre_recovered    16560\n",
    "Name: 590, dtype: int64"
   ]
  },
  {
   "cell_type": "markdown",
   "id": "fef25d61",
   "metadata": {},
   "source": [
    "nombre_infected       843\n",
    "nombre_sain          2166\n",
    "nombre_exposed        465\n",
    "nombre_recovered    16526\n",
    "Name: 591, dtype: int64"
   ]
  },
  {
   "cell_type": "markdown",
   "id": "ff5fad55",
   "metadata": {},
   "source": [
    "nombre_infected       839\n",
    "nombre_sain          2188\n",
    "nombre_exposed        470\n",
    "nombre_recovered    16503\n",
    "Name: 592, dtype: int64"
   ]
  },
  {
   "cell_type": "markdown",
   "id": "7dcd4911",
   "metadata": {},
   "source": [
    "nombre_infected       862\n",
    "nombre_sain          2194\n",
    "nombre_exposed        448\n",
    "nombre_recovered    16496\n",
    "Name: 593, dtype: int64"
   ]
  },
  {
   "cell_type": "markdown",
   "id": "794b169e",
   "metadata": {},
   "source": [
    "nombre_infected       853\n",
    "nombre_sain          2200\n",
    "nombre_exposed        453\n",
    "nombre_recovered    16494\n",
    "Name: 594, dtype: int64"
   ]
  },
  {
   "cell_type": "markdown",
   "id": "4ceceb64",
   "metadata": {},
   "source": [
    "nombre_infected       869\n",
    "nombre_sain          2190\n",
    "nombre_exposed        453\n",
    "nombre_recovered    16488\n",
    "Name: 595, dtype: int64"
   ]
  },
  {
   "cell_type": "markdown",
   "id": "5882ddb8",
   "metadata": {},
   "source": [
    "nombre_infected       878\n",
    "nombre_sain          2189\n",
    "nombre_exposed        468\n",
    "nombre_recovered    16465\n",
    "Name: 596, dtype: int64"
   ]
  },
  {
   "cell_type": "markdown",
   "id": "70b508c6",
   "metadata": {},
   "source": [
    "nombre_infected       873\n",
    "nombre_sain          2170\n",
    "nombre_exposed        494\n",
    "nombre_recovered    16463\n",
    "Name: 597, dtype: int64"
   ]
  },
  {
   "cell_type": "markdown",
   "id": "d6d759bd",
   "metadata": {},
   "source": [
    "nombre_infected       869\n",
    "nombre_sain          2204\n",
    "nombre_exposed        482\n",
    "nombre_recovered    16445\n",
    "Name: 598, dtype: int64"
   ]
  },
  {
   "cell_type": "markdown",
   "id": "aa771c18",
   "metadata": {},
   "source": [
    "nombre_infected       894\n",
    "nombre_sain          2212\n",
    "nombre_exposed        466\n",
    "nombre_recovered    16428\n",
    "Name: 599, dtype: int64"
   ]
  },
  {
   "cell_type": "markdown",
   "id": "c4fbdce6",
   "metadata": {},
   "source": [
    "nombre_infected       918\n",
    "nombre_sain          2199\n",
    "nombre_exposed        460\n",
    "nombre_recovered    16423\n",
    "Name: 600, dtype: int64"
   ]
  },
  {
   "cell_type": "markdown",
   "id": "2333a655",
   "metadata": {},
   "source": [
    "nombre_infected       905\n",
    "nombre_sain          2183\n",
    "nombre_exposed        486\n",
    "nombre_recovered    16426\n",
    "Name: 601, dtype: int64"
   ]
  },
  {
   "cell_type": "markdown",
   "id": "46d1335d",
   "metadata": {},
   "source": [
    "nombre_infected       895\n",
    "nombre_sain          2156\n",
    "nombre_exposed        524\n",
    "nombre_recovered    16425\n",
    "Name: 602, dtype: int64"
   ]
  },
  {
   "cell_type": "markdown",
   "id": "a770b0b9",
   "metadata": {},
   "source": [
    "nombre_infected       889\n",
    "nombre_sain          2150\n",
    "nombre_exposed        550\n",
    "nombre_recovered    16411\n",
    "Name: 603, dtype: int64"
   ]
  },
  {
   "cell_type": "markdown",
   "id": "4de87062",
   "metadata": {},
   "source": [
    "nombre_infected       938\n",
    "nombre_sain          2155\n",
    "nombre_exposed        529\n",
    "nombre_recovered    16378\n",
    "Name: 604, dtype: int64"
   ]
  },
  {
   "cell_type": "markdown",
   "id": "69daef36",
   "metadata": {},
   "source": [
    "nombre_infected       939\n",
    "nombre_sain          2131\n",
    "nombre_exposed        549\n",
    "nombre_recovered    16381\n",
    "Name: 605, dtype: int64"
   ]
  },
  {
   "cell_type": "markdown",
   "id": "118ca426",
   "metadata": {},
   "source": [
    "nombre_infected       956\n",
    "nombre_sain          2128\n",
    "nombre_exposed        537\n",
    "nombre_recovered    16379\n",
    "Name: 606, dtype: int64"
   ]
  },
  {
   "cell_type": "markdown",
   "id": "c5be26a5",
   "metadata": {},
   "source": [
    "nombre_infected       958\n",
    "nombre_sain          2121\n",
    "nombre_exposed        529\n",
    "nombre_recovered    16392\n",
    "Name: 607, dtype: int64"
   ]
  },
  {
   "cell_type": "markdown",
   "id": "0f9e004b",
   "metadata": {},
   "source": [
    "nombre_infected       967\n",
    "nombre_sain          2116\n",
    "nombre_exposed        512\n",
    "nombre_recovered    16405\n",
    "Name: 608, dtype: int64"
   ]
  },
  {
   "cell_type": "markdown",
   "id": "669d2101",
   "metadata": {},
   "source": [
    "nombre_infected       973\n",
    "nombre_sain          2117\n",
    "nombre_exposed        486\n",
    "nombre_recovered    16424\n",
    "Name: 609, dtype: int64"
   ]
  },
  {
   "cell_type": "markdown",
   "id": "ba475ac5",
   "metadata": {},
   "source": [
    "nombre_infected       987\n",
    "nombre_sain          2092\n",
    "nombre_exposed        483\n",
    "nombre_recovered    16438\n",
    "Name: 610, dtype: int64"
   ]
  },
  {
   "cell_type": "markdown",
   "id": "53569065",
   "metadata": {},
   "source": [
    "nombre_infected       974\n",
    "nombre_sain          2098\n",
    "nombre_exposed        493\n",
    "nombre_recovered    16435\n",
    "Name: 611, dtype: int64"
   ]
  },
  {
   "cell_type": "markdown",
   "id": "a60db6fd",
   "metadata": {},
   "source": [
    "nombre_infected       969\n",
    "nombre_sain          2122\n",
    "nombre_exposed        484\n",
    "nombre_recovered    16425\n",
    "Name: 612, dtype: int64"
   ]
  },
  {
   "cell_type": "markdown",
   "id": "4e9fc5e7",
   "metadata": {},
   "source": [
    "nombre_infected       962\n",
    "nombre_sain          2113\n",
    "nombre_exposed        478\n",
    "nombre_recovered    16447\n",
    "Name: 613, dtype: int64"
   ]
  },
  {
   "cell_type": "markdown",
   "id": "0d2eb8fe",
   "metadata": {},
   "source": [
    "nombre_infected       976\n",
    "nombre_sain          2127\n",
    "nombre_exposed        473\n",
    "nombre_recovered    16424\n",
    "Name: 614, dtype: int64"
   ]
  },
  {
   "cell_type": "markdown",
   "id": "1e34a742",
   "metadata": {},
   "source": [
    "nombre_infected       959\n",
    "nombre_sain          2139\n",
    "nombre_exposed        486\n",
    "nombre_recovered    16416\n",
    "Name: 615, dtype: int64"
   ]
  },
  {
   "cell_type": "markdown",
   "id": "079dc043",
   "metadata": {},
   "source": [
    "nombre_infected       937\n",
    "nombre_sain          2140\n",
    "nombre_exposed        490\n",
    "nombre_recovered    16433\n",
    "Name: 616, dtype: int64"
   ]
  },
  {
   "cell_type": "markdown",
   "id": "a862fad9",
   "metadata": {},
   "source": [
    "nombre_infected       946\n",
    "nombre_sain          2169\n",
    "nombre_exposed        487\n",
    "nombre_recovered    16398\n",
    "Name: 617, dtype: int64"
   ]
  },
  {
   "cell_type": "markdown",
   "id": "333a864d",
   "metadata": {},
   "source": [
    "nombre_infected       948\n",
    "nombre_sain          2155\n",
    "nombre_exposed        505\n",
    "nombre_recovered    16392\n",
    "Name: 618, dtype: int64"
   ]
  },
  {
   "cell_type": "markdown",
   "id": "6308851a",
   "metadata": {},
   "source": [
    "nombre_infected       965\n",
    "nombre_sain          2128\n",
    "nombre_exposed        515\n",
    "nombre_recovered    16392\n",
    "Name: 619, dtype: int64"
   ]
  },
  {
   "cell_type": "markdown",
   "id": "8d5c6181",
   "metadata": {},
   "source": [
    "nombre_infected       964\n",
    "nombre_sain          2111\n",
    "nombre_exposed        524\n",
    "nombre_recovered    16401\n",
    "Name: 620, dtype: int64"
   ]
  },
  {
   "cell_type": "markdown",
   "id": "8ba556c6",
   "metadata": {},
   "source": [
    "nombre_infected       978\n",
    "nombre_sain          2137\n",
    "nombre_exposed        495\n",
    "nombre_recovered    16390\n",
    "Name: 621, dtype: int64"
   ]
  },
  {
   "cell_type": "markdown",
   "id": "e06f9277",
   "metadata": {},
   "source": [
    "nombre_infected       987\n",
    "nombre_sain          2133\n",
    "nombre_exposed        488\n",
    "nombre_recovered    16392\n",
    "Name: 622, dtype: int64"
   ]
  },
  {
   "cell_type": "markdown",
   "id": "cdddc409",
   "metadata": {},
   "source": [
    "nombre_infected       993\n",
    "nombre_sain          2135\n",
    "nombre_exposed        488\n",
    "nombre_recovered    16384\n",
    "Name: 623, dtype: int64"
   ]
  },
  {
   "cell_type": "markdown",
   "id": "05b156b3",
   "metadata": {},
   "source": [
    "nombre_infected       975\n",
    "nombre_sain          2110\n",
    "nombre_exposed        505\n",
    "nombre_recovered    16410\n",
    "Name: 624, dtype: int64"
   ]
  },
  {
   "cell_type": "markdown",
   "id": "db137b71",
   "metadata": {},
   "source": [
    "nombre_infected       971\n",
    "nombre_sain          2101\n",
    "nombre_exposed        506\n",
    "nombre_recovered    16422\n",
    "Name: 625, dtype: int64"
   ]
  },
  {
   "cell_type": "markdown",
   "id": "578f8bea",
   "metadata": {},
   "source": [
    "nombre_infected       985\n",
    "nombre_sain          2100\n",
    "nombre_exposed        491\n",
    "nombre_recovered    16424\n",
    "Name: 626, dtype: int64"
   ]
  },
  {
   "cell_type": "markdown",
   "id": "aaa1a49d",
   "metadata": {},
   "source": [
    "nombre_infected       957\n",
    "nombre_sain          2086\n",
    "nombre_exposed        527\n",
    "nombre_recovered    16430\n",
    "Name: 627, dtype: int64"
   ]
  },
  {
   "cell_type": "markdown",
   "id": "5f1fd35e",
   "metadata": {},
   "source": [
    "nombre_infected       954\n",
    "nombre_sain          2077\n",
    "nombre_exposed        547\n",
    "nombre_recovered    16422\n",
    "Name: 628, dtype: int64"
   ]
  },
  {
   "cell_type": "markdown",
   "id": "6fcee099",
   "metadata": {},
   "source": [
    "nombre_infected       971\n",
    "nombre_sain          2050\n",
    "nombre_exposed        549\n",
    "nombre_recovered    16430\n",
    "Name: 629, dtype: int64"
   ]
  },
  {
   "cell_type": "markdown",
   "id": "1bf4ff0d",
   "metadata": {},
   "source": [
    "nombre_infected       987\n",
    "nombre_sain          2066\n",
    "nombre_exposed        523\n",
    "nombre_recovered    16424\n",
    "Name: 630, dtype: int64"
   ]
  },
  {
   "cell_type": "markdown",
   "id": "83131bd9",
   "metadata": {},
   "source": [
    "nombre_infected       974\n",
    "nombre_sain          2097\n",
    "nombre_exposed        505\n",
    "nombre_recovered    16424\n",
    "Name: 631, dtype: int64"
   ]
  },
  {
   "cell_type": "markdown",
   "id": "5f122f7f",
   "metadata": {},
   "source": [
    "nombre_infected       976\n",
    "nombre_sain          2107\n",
    "nombre_exposed        505\n",
    "nombre_recovered    16412\n",
    "Name: 632, dtype: int64"
   ]
  },
  {
   "cell_type": "markdown",
   "id": "1a219efa",
   "metadata": {},
   "source": [
    "nombre_infected       945\n",
    "nombre_sain          2103\n",
    "nombre_exposed        530\n",
    "nombre_recovered    16422\n",
    "Name: 633, dtype: int64"
   ]
  },
  {
   "cell_type": "markdown",
   "id": "96a5026d",
   "metadata": {},
   "source": [
    "nombre_infected       948\n",
    "nombre_sain          2101\n",
    "nombre_exposed        538\n",
    "nombre_recovered    16413\n",
    "Name: 634, dtype: int64"
   ]
  },
  {
   "cell_type": "markdown",
   "id": "a33d1d29",
   "metadata": {},
   "source": [
    "nombre_infected       946\n",
    "nombre_sain          2097\n",
    "nombre_exposed        536\n",
    "nombre_recovered    16421\n",
    "Name: 635, dtype: int64"
   ]
  },
  {
   "cell_type": "markdown",
   "id": "16bfbbea",
   "metadata": {},
   "source": [
    "nombre_infected       955\n",
    "nombre_sain          2101\n",
    "nombre_exposed        530\n",
    "nombre_recovered    16414\n",
    "Name: 636, dtype: int64"
   ]
  },
  {
   "cell_type": "markdown",
   "id": "550e568c",
   "metadata": {},
   "source": [
    "nombre_infected       977\n",
    "nombre_sain          2100\n",
    "nombre_exposed        508\n",
    "nombre_recovered    16415\n",
    "Name: 637, dtype: int64"
   ]
  },
  {
   "cell_type": "markdown",
   "id": "793c6a6d",
   "metadata": {},
   "source": [
    "nombre_infected       995\n",
    "nombre_sain          2085\n",
    "nombre_exposed        504\n",
    "nombre_recovered    16416\n",
    "Name: 638, dtype: int64"
   ]
  },
  {
   "cell_type": "markdown",
   "id": "572be5bd",
   "metadata": {},
   "source": [
    "nombre_infected       992\n",
    "nombre_sain          2071\n",
    "nombre_exposed        519\n",
    "nombre_recovered    16418\n",
    "Name: 639, dtype: int64"
   ]
  },
  {
   "cell_type": "markdown",
   "id": "9db442d3",
   "metadata": {},
   "source": [
    "nombre_infected       998\n",
    "nombre_sain          2031\n",
    "nombre_exposed        539\n",
    "nombre_recovered    16432\n",
    "Name: 640, dtype: int64"
   ]
  },
  {
   "cell_type": "markdown",
   "id": "43aca271",
   "metadata": {},
   "source": [
    "nombre_infected       978\n",
    "nombre_sain          2034\n",
    "nombre_exposed        541\n",
    "nombre_recovered    16447\n",
    "Name: 641, dtype: int64"
   ]
  },
  {
   "cell_type": "markdown",
   "id": "be58283e",
   "metadata": {},
   "source": [
    "nombre_infected      1001\n",
    "nombre_sain          2032\n",
    "nombre_exposed        501\n",
    "nombre_recovered    16466\n",
    "Name: 642, dtype: int64"
   ]
  },
  {
   "cell_type": "markdown",
   "id": "01aee05a",
   "metadata": {},
   "source": [
    "nombre_infected       982\n",
    "nombre_sain          2026\n",
    "nombre_exposed        516\n",
    "nombre_recovered    16476\n",
    "Name: 643, dtype: int64"
   ]
  },
  {
   "cell_type": "markdown",
   "id": "82a2c982",
   "metadata": {},
   "source": [
    "nombre_infected       968\n",
    "nombre_sain          2006\n",
    "nombre_exposed        521\n",
    "nombre_recovered    16505\n",
    "Name: 644, dtype: int64"
   ]
  },
  {
   "cell_type": "markdown",
   "id": "1b63942d",
   "metadata": {},
   "source": [
    "nombre_infected       959\n",
    "nombre_sain          2009\n",
    "nombre_exposed        531\n",
    "nombre_recovered    16501\n",
    "Name: 645, dtype: int64"
   ]
  },
  {
   "cell_type": "markdown",
   "id": "a9d2eb12",
   "metadata": {},
   "source": [
    "nombre_infected       963\n",
    "nombre_sain          1987\n",
    "nombre_exposed        527\n",
    "nombre_recovered    16523\n",
    "Name: 646, dtype: int64"
   ]
  },
  {
   "cell_type": "markdown",
   "id": "2dce7b4b",
   "metadata": {},
   "source": [
    "nombre_infected       976\n",
    "nombre_sain          1998\n",
    "nombre_exposed        506\n",
    "nombre_recovered    16520\n",
    "Name: 647, dtype: int64"
   ]
  },
  {
   "cell_type": "markdown",
   "id": "6f702577",
   "metadata": {},
   "source": [
    "nombre_infected       986\n",
    "nombre_sain          1981\n",
    "nombre_exposed        498\n",
    "nombre_recovered    16535\n",
    "Name: 648, dtype: int64"
   ]
  },
  {
   "cell_type": "markdown",
   "id": "b29990a6",
   "metadata": {},
   "source": [
    "nombre_infected       987\n",
    "nombre_sain          1971\n",
    "nombre_exposed        505\n",
    "nombre_recovered    16537\n",
    "Name: 649, dtype: int64"
   ]
  },
  {
   "cell_type": "markdown",
   "id": "2982ea00",
   "metadata": {},
   "source": [
    "nombre_infected       974\n",
    "nombre_sain          1959\n",
    "nombre_exposed        527\n",
    "nombre_recovered    16540\n",
    "Name: 650, dtype: int64"
   ]
  },
  {
   "cell_type": "markdown",
   "id": "18d6fc4c",
   "metadata": {},
   "source": [
    "nombre_infected       978\n",
    "nombre_sain          1954\n",
    "nombre_exposed        516\n",
    "nombre_recovered    16552\n",
    "Name: 651, dtype: int64"
   ]
  },
  {
   "cell_type": "markdown",
   "id": "0e958272",
   "metadata": {},
   "source": [
    "nombre_infected       971\n",
    "nombre_sain          1961\n",
    "nombre_exposed        518\n",
    "nombre_recovered    16550\n",
    "Name: 652, dtype: int64"
   ]
  },
  {
   "cell_type": "markdown",
   "id": "e2bd8dac",
   "metadata": {},
   "source": [
    "nombre_infected       985\n",
    "nombre_sain          1972\n",
    "nombre_exposed        503\n",
    "nombre_recovered    16540\n",
    "Name: 653, dtype: int64"
   ]
  },
  {
   "cell_type": "markdown",
   "id": "6da621e9",
   "metadata": {},
   "source": [
    "nombre_infected      1002\n",
    "nombre_sain          1960\n",
    "nombre_exposed        507\n",
    "nombre_recovered    16531\n",
    "Name: 654, dtype: int64"
   ]
  },
  {
   "cell_type": "markdown",
   "id": "b2dcd977",
   "metadata": {},
   "source": [
    "nombre_infected      1010\n",
    "nombre_sain          1951\n",
    "nombre_exposed        517\n",
    "nombre_recovered    16522\n",
    "Name: 655, dtype: int64"
   ]
  },
  {
   "cell_type": "markdown",
   "id": "2e41d0a4",
   "metadata": {},
   "source": [
    "nombre_infected      1012\n",
    "nombre_sain          1948\n",
    "nombre_exposed        529\n",
    "nombre_recovered    16511\n",
    "Name: 656, dtype: int64"
   ]
  },
  {
   "cell_type": "markdown",
   "id": "633d990d",
   "metadata": {},
   "source": [
    "nombre_infected      1027\n",
    "nombre_sain          1942\n",
    "nombre_exposed        508\n",
    "nombre_recovered    16523\n",
    "Name: 657, dtype: int64"
   ]
  },
  {
   "cell_type": "markdown",
   "id": "541267c3",
   "metadata": {},
   "source": [
    "nombre_infected      1026\n",
    "nombre_sain          1927\n",
    "nombre_exposed        490\n",
    "nombre_recovered    16557\n",
    "Name: 658, dtype: int64"
   ]
  },
  {
   "cell_type": "markdown",
   "id": "5c2bbea4",
   "metadata": {},
   "source": [
    "nombre_infected      1033\n",
    "nombre_sain          1903\n",
    "nombre_exposed        497\n",
    "nombre_recovered    16567\n",
    "Name: 659, dtype: int64"
   ]
  },
  {
   "cell_type": "markdown",
   "id": "1dbafb99",
   "metadata": {},
   "source": [
    "nombre_infected      1038\n",
    "nombre_sain          1911\n",
    "nombre_exposed        474\n",
    "nombre_recovered    16577\n",
    "Name: 660, dtype: int64"
   ]
  },
  {
   "cell_type": "markdown",
   "id": "757ff18d",
   "metadata": {},
   "source": [
    "nombre_infected      1032\n",
    "nombre_sain          1890\n",
    "nombre_exposed        499\n",
    "nombre_recovered    16579\n",
    "Name: 661, dtype: int64"
   ]
  },
  {
   "cell_type": "markdown",
   "id": "4e04909a",
   "metadata": {},
   "source": [
    "nombre_infected      1036\n",
    "nombre_sain          1909\n",
    "nombre_exposed        479\n",
    "nombre_recovered    16576\n",
    "Name: 662, dtype: int64"
   ]
  },
  {
   "cell_type": "markdown",
   "id": "7aa86fcf",
   "metadata": {},
   "source": [
    "nombre_infected      1040\n",
    "nombre_sain          1907\n",
    "nombre_exposed        459\n",
    "nombre_recovered    16594\n",
    "Name: 663, dtype: int64"
   ]
  },
  {
   "cell_type": "markdown",
   "id": "e17d38c1",
   "metadata": {},
   "source": [
    "nombre_infected      1019\n",
    "nombre_sain          1898\n",
    "nombre_exposed        483\n",
    "nombre_recovered    16600\n",
    "Name: 664, dtype: int64"
   ]
  },
  {
   "cell_type": "markdown",
   "id": "2ad39c5e",
   "metadata": {},
   "source": [
    "nombre_infected      1012\n",
    "nombre_sain          1897\n",
    "nombre_exposed        506\n",
    "nombre_recovered    16585\n",
    "Name: 665, dtype: int64"
   ]
  },
  {
   "cell_type": "markdown",
   "id": "89d68e44",
   "metadata": {},
   "source": [
    "nombre_infected      1018\n",
    "nombre_sain          1893\n",
    "nombre_exposed        496\n",
    "nombre_recovered    16593\n",
    "Name: 666, dtype: int64"
   ]
  },
  {
   "cell_type": "markdown",
   "id": "a4a378a6",
   "metadata": {},
   "source": [
    "nombre_infected      1018\n",
    "nombre_sain          1884\n",
    "nombre_exposed        480\n",
    "nombre_recovered    16618\n",
    "Name: 667, dtype: int64"
   ]
  },
  {
   "cell_type": "markdown",
   "id": "dcde86d9",
   "metadata": {},
   "source": [
    "nombre_infected      1008\n",
    "nombre_sain          1897\n",
    "nombre_exposed        467\n",
    "nombre_recovered    16628\n",
    "Name: 668, dtype: int64"
   ]
  },
  {
   "cell_type": "markdown",
   "id": "df60af2c",
   "metadata": {},
   "source": [
    "nombre_infected       995\n",
    "nombre_sain          1879\n",
    "nombre_exposed        480\n",
    "nombre_recovered    16646\n",
    "Name: 669, dtype: int64"
   ]
  },
  {
   "cell_type": "markdown",
   "id": "77260bb0",
   "metadata": {},
   "source": [
    "nombre_infected       982\n",
    "nombre_sain          1885\n",
    "nombre_exposed        470\n",
    "nombre_recovered    16663\n",
    "Name: 670, dtype: int64"
   ]
  },
  {
   "cell_type": "markdown",
   "id": "249ef829",
   "metadata": {},
   "source": [
    "nombre_infected       978\n",
    "nombre_sain          1868\n",
    "nombre_exposed        480\n",
    "nombre_recovered    16674\n",
    "Name: 671, dtype: int64"
   ]
  },
  {
   "cell_type": "markdown",
   "id": "56ac0efb",
   "metadata": {},
   "source": [
    "nombre_infected       964\n",
    "nombre_sain          1861\n",
    "nombre_exposed        483\n",
    "nombre_recovered    16692\n",
    "Name: 672, dtype: int64"
   ]
  },
  {
   "cell_type": "markdown",
   "id": "bdfe8091",
   "metadata": {},
   "source": [
    "nombre_infected       941\n",
    "nombre_sain          1861\n",
    "nombre_exposed        481\n",
    "nombre_recovered    16717\n",
    "Name: 673, dtype: int64"
   ]
  },
  {
   "cell_type": "markdown",
   "id": "c2086401",
   "metadata": {},
   "source": [
    "nombre_infected       929\n",
    "nombre_sain          1864\n",
    "nombre_exposed        477\n",
    "nombre_recovered    16730\n",
    "Name: 674, dtype: int64"
   ]
  },
  {
   "cell_type": "markdown",
   "id": "b11e439e",
   "metadata": {},
   "source": [
    "nombre_infected       937\n",
    "nombre_sain          1870\n",
    "nombre_exposed        460\n",
    "nombre_recovered    16733\n",
    "Name: 675, dtype: int64"
   ]
  },
  {
   "cell_type": "markdown",
   "id": "99298510",
   "metadata": {},
   "source": [
    "nombre_infected       937\n",
    "nombre_sain          1876\n",
    "nombre_exposed        454\n",
    "nombre_recovered    16733\n",
    "Name: 676, dtype: int64"
   ]
  },
  {
   "cell_type": "markdown",
   "id": "0af5406d",
   "metadata": {},
   "source": [
    "nombre_infected       921\n",
    "nombre_sain          1867\n",
    "nombre_exposed        455\n",
    "nombre_recovered    16757\n",
    "Name: 677, dtype: int64"
   ]
  },
  {
   "cell_type": "markdown",
   "id": "d45ba8da",
   "metadata": {},
   "source": [
    "nombre_infected       882\n",
    "nombre_sain          1869\n",
    "nombre_exposed        461\n",
    "nombre_recovered    16788\n",
    "Name: 678, dtype: int64"
   ]
  },
  {
   "cell_type": "markdown",
   "id": "95e0404e",
   "metadata": {},
   "source": [
    "nombre_infected       896\n",
    "nombre_sain          1867\n",
    "nombre_exposed        451\n",
    "nombre_recovered    16786\n",
    "Name: 679, dtype: int64"
   ]
  },
  {
   "cell_type": "markdown",
   "id": "5b43b4a6",
   "metadata": {},
   "source": [
    "nombre_infected       895\n",
    "nombre_sain          1847\n",
    "nombre_exposed        464\n",
    "nombre_recovered    16794\n",
    "Name: 680, dtype: int64"
   ]
  },
  {
   "cell_type": "markdown",
   "id": "af5ee202",
   "metadata": {},
   "source": [
    "nombre_infected       863\n",
    "nombre_sain          1863\n",
    "nombre_exposed        459\n",
    "nombre_recovered    16815\n",
    "Name: 681, dtype: int64"
   ]
  },
  {
   "cell_type": "markdown",
   "id": "91a148e7",
   "metadata": {},
   "source": [
    "nombre_infected       861\n",
    "nombre_sain          1903\n",
    "nombre_exposed        433\n",
    "nombre_recovered    16803\n",
    "Name: 682, dtype: int64"
   ]
  },
  {
   "cell_type": "markdown",
   "id": "c0c61c1b",
   "metadata": {},
   "source": [
    "nombre_infected       883\n",
    "nombre_sain          1920\n",
    "nombre_exposed        415\n",
    "nombre_recovered    16782\n",
    "Name: 683, dtype: int64"
   ]
  },
  {
   "cell_type": "markdown",
   "id": "9a7304a7",
   "metadata": {},
   "source": [
    "nombre_infected       871\n",
    "nombre_sain          1935\n",
    "nombre_exposed        414\n",
    "nombre_recovered    16780\n",
    "Name: 684, dtype: int64"
   ]
  },
  {
   "cell_type": "markdown",
   "id": "20f55690",
   "metadata": {},
   "source": [
    "nombre_infected       861\n",
    "nombre_sain          1942\n",
    "nombre_exposed        419\n",
    "nombre_recovered    16778\n",
    "Name: 685, dtype: int64"
   ]
  },
  {
   "cell_type": "markdown",
   "id": "8d48ba5e",
   "metadata": {},
   "source": [
    "nombre_infected       851\n",
    "nombre_sain          1973\n",
    "nombre_exposed        425\n",
    "nombre_recovered    16751\n",
    "Name: 686, dtype: int64"
   ]
  },
  {
   "cell_type": "markdown",
   "id": "87cb23bf",
   "metadata": {},
   "source": [
    "nombre_infected       855\n",
    "nombre_sain          1987\n",
    "nombre_exposed        445\n",
    "nombre_recovered    16713\n",
    "Name: 687, dtype: int64"
   ]
  },
  {
   "cell_type": "markdown",
   "id": "1b18ac9f",
   "metadata": {},
   "source": [
    "nombre_infected       840\n",
    "nombre_sain          1998\n",
    "nombre_exposed        475\n",
    "nombre_recovered    16687\n",
    "Name: 688, dtype: int64"
   ]
  },
  {
   "cell_type": "markdown",
   "id": "02c82a9d",
   "metadata": {},
   "source": [
    "nombre_infected       842\n",
    "nombre_sain          2015\n",
    "nombre_exposed        467\n",
    "nombre_recovered    16676\n",
    "Name: 689, dtype: int64"
   ]
  },
  {
   "cell_type": "markdown",
   "id": "9de76d52",
   "metadata": {},
   "source": [
    "nombre_infected       844\n",
    "nombre_sain          2035\n",
    "nombre_exposed        473\n",
    "nombre_recovered    16648\n",
    "Name: 690, dtype: int64"
   ]
  },
  {
   "cell_type": "markdown",
   "id": "a5bb1a21",
   "metadata": {},
   "source": [
    "nombre_infected       857\n",
    "nombre_sain          2070\n",
    "nombre_exposed        442\n",
    "nombre_recovered    16631\n",
    "Name: 691, dtype: int64"
   ]
  },
  {
   "cell_type": "markdown",
   "id": "b58af299",
   "metadata": {},
   "source": [
    "nombre_infected       849\n",
    "nombre_sain          2081\n",
    "nombre_exposed        446\n",
    "nombre_recovered    16624\n",
    "Name: 692, dtype: int64"
   ]
  },
  {
   "cell_type": "markdown",
   "id": "12cfa3de",
   "metadata": {},
   "source": [
    "nombre_infected       876\n",
    "nombre_sain          2070\n",
    "nombre_exposed        455\n",
    "nombre_recovered    16599\n",
    "Name: 693, dtype: int64"
   ]
  },
  {
   "cell_type": "markdown",
   "id": "0708193e",
   "metadata": {},
   "source": [
    "nombre_infected       860\n",
    "nombre_sain          2061\n",
    "nombre_exposed        468\n",
    "nombre_recovered    16611\n",
    "Name: 694, dtype: int64"
   ]
  },
  {
   "cell_type": "markdown",
   "id": "e832ced6",
   "metadata": {},
   "source": [
    "nombre_infected       868\n",
    "nombre_sain          2094\n",
    "nombre_exposed        453\n",
    "nombre_recovered    16585\n",
    "Name: 695, dtype: int64"
   ]
  },
  {
   "cell_type": "markdown",
   "id": "b421090c",
   "metadata": {},
   "source": [
    "nombre_infected       875\n",
    "nombre_sain          2124\n",
    "nombre_exposed        444\n",
    "nombre_recovered    16557\n",
    "Name: 696, dtype: int64"
   ]
  },
  {
   "cell_type": "markdown",
   "id": "6d1cda32",
   "metadata": {},
   "source": [
    "nombre_infected       871\n",
    "nombre_sain          2107\n",
    "nombre_exposed        458\n",
    "nombre_recovered    16564\n",
    "Name: 697, dtype: int64"
   ]
  },
  {
   "cell_type": "markdown",
   "id": "69c3d073",
   "metadata": {},
   "source": [
    "nombre_infected       878\n",
    "nombre_sain          2118\n",
    "nombre_exposed        454\n",
    "nombre_recovered    16550\n",
    "Name: 698, dtype: int64"
   ]
  },
  {
   "cell_type": "markdown",
   "id": "13b4ac8e",
   "metadata": {},
   "source": [
    "nombre_infected       887\n",
    "nombre_sain          2142\n",
    "nombre_exposed        450\n",
    "nombre_recovered    16521\n",
    "Name: 699, dtype: int64"
   ]
  },
  {
   "cell_type": "markdown",
   "id": "2b4019a9",
   "metadata": {},
   "source": [
    "nombre_infected       903\n",
    "nombre_sain          2140\n",
    "nombre_exposed        469\n",
    "nombre_recovered    16488\n",
    "Name: 700, dtype: int64"
   ]
  },
  {
   "cell_type": "markdown",
   "id": "f6bb6a8f",
   "metadata": {},
   "source": [
    "nombre_infected       903\n",
    "nombre_sain          2150\n",
    "nombre_exposed        472\n",
    "nombre_recovered    16475\n",
    "Name: 701, dtype: int64"
   ]
  },
  {
   "cell_type": "markdown",
   "id": "79006c10",
   "metadata": {},
   "source": [
    "nombre_infected       921\n",
    "nombre_sain          2140\n",
    "nombre_exposed        462\n",
    "nombre_recovered    16477\n",
    "Name: 702, dtype: int64"
   ]
  },
  {
   "cell_type": "markdown",
   "id": "3eeacd62",
   "metadata": {},
   "source": [
    "nombre_infected       923\n",
    "nombre_sain          2129\n",
    "nombre_exposed        490\n",
    "nombre_recovered    16458\n",
    "Name: 703, dtype: int64"
   ]
  },
  {
   "cell_type": "markdown",
   "id": "c9e14755",
   "metadata": {},
   "source": [
    "nombre_infected       896\n",
    "nombre_sain          2117\n",
    "nombre_exposed        498\n",
    "nombre_recovered    16489\n",
    "Name: 704, dtype: int64"
   ]
  },
  {
   "cell_type": "markdown",
   "id": "1717e8b0",
   "metadata": {},
   "source": [
    "nombre_infected       896\n",
    "nombre_sain          2121\n",
    "nombre_exposed        495\n",
    "nombre_recovered    16488\n",
    "Name: 705, dtype: int64"
   ]
  },
  {
   "cell_type": "markdown",
   "id": "60a5f55d",
   "metadata": {},
   "source": [
    "nombre_infected       895\n",
    "nombre_sain          2112\n",
    "nombre_exposed        499\n",
    "nombre_recovered    16494\n",
    "Name: 706, dtype: int64"
   ]
  },
  {
   "cell_type": "markdown",
   "id": "998832e2",
   "metadata": {},
   "source": [
    "nombre_infected       915\n",
    "nombre_sain          2105\n",
    "nombre_exposed        506\n",
    "nombre_recovered    16474\n",
    "Name: 707, dtype: int64"
   ]
  },
  {
   "cell_type": "markdown",
   "id": "5c3ed89c",
   "metadata": {},
   "source": [
    "nombre_infected       924\n",
    "nombre_sain          2078\n",
    "nombre_exposed        509\n",
    "nombre_recovered    16489\n",
    "Name: 708, dtype: int64"
   ]
  },
  {
   "cell_type": "markdown",
   "id": "e8ac9976",
   "metadata": {},
   "source": [
    "nombre_infected       940\n",
    "nombre_sain          2058\n",
    "nombre_exposed        512\n",
    "nombre_recovered    16490\n",
    "Name: 709, dtype: int64"
   ]
  },
  {
   "cell_type": "markdown",
   "id": "5937bcd9",
   "metadata": {},
   "source": [
    "nombre_infected       953\n",
    "nombre_sain          2071\n",
    "nombre_exposed        509\n",
    "nombre_recovered    16467\n",
    "Name: 710, dtype: int64"
   ]
  },
  {
   "cell_type": "markdown",
   "id": "3bdb41dc",
   "metadata": {},
   "source": [
    "nombre_infected       959\n",
    "nombre_sain          2070\n",
    "nombre_exposed        505\n",
    "nombre_recovered    16466\n",
    "Name: 711, dtype: int64"
   ]
  },
  {
   "cell_type": "markdown",
   "id": "f10fd37e",
   "metadata": {},
   "source": [
    "nombre_infected       961\n",
    "nombre_sain          2044\n",
    "nombre_exposed        527\n",
    "nombre_recovered    16468\n",
    "Name: 712, dtype: int64"
   ]
  },
  {
   "cell_type": "markdown",
   "id": "14020eb4",
   "metadata": {},
   "source": [
    "nombre_infected       955\n",
    "nombre_sain          2036\n",
    "nombre_exposed        538\n",
    "nombre_recovered    16471\n",
    "Name: 713, dtype: int64"
   ]
  },
  {
   "cell_type": "markdown",
   "id": "524fc7f0",
   "metadata": {},
   "source": [
    "nombre_infected       957\n",
    "nombre_sain          2069\n",
    "nombre_exposed        507\n",
    "nombre_recovered    16467\n",
    "Name: 714, dtype: int64"
   ]
  },
  {
   "cell_type": "markdown",
   "id": "c0cc4ee2",
   "metadata": {},
   "source": [
    "nombre_infected       974\n",
    "nombre_sain          2075\n",
    "nombre_exposed        503\n",
    "nombre_recovered    16448\n",
    "Name: 715, dtype: int64"
   ]
  },
  {
   "cell_type": "markdown",
   "id": "09210ad4",
   "metadata": {},
   "source": [
    "nombre_infected       968\n",
    "nombre_sain          2047\n",
    "nombre_exposed        496\n",
    "nombre_recovered    16489\n",
    "Name: 716, dtype: int64"
   ]
  },
  {
   "cell_type": "markdown",
   "id": "ba9874e6",
   "metadata": {},
   "source": [
    "nombre_infected       936\n",
    "nombre_sain          2034\n",
    "nombre_exposed        508\n",
    "nombre_recovered    16522\n",
    "Name: 717, dtype: int64"
   ]
  },
  {
   "cell_type": "markdown",
   "id": "5082234e",
   "metadata": {},
   "source": [
    "nombre_infected       918\n",
    "nombre_sain          2028\n",
    "nombre_exposed        498\n",
    "nombre_recovered    16556\n",
    "Name: 718, dtype: int64"
   ]
  },
  {
   "cell_type": "markdown",
   "id": "686afde8",
   "metadata": {},
   "source": [
    "nombre_infected       918\n",
    "nombre_sain          2033\n",
    "nombre_exposed        487\n",
    "nombre_recovered    16562\n",
    "Name: 719, dtype: int64"
   ]
  },
  {
   "cell_type": "markdown",
   "id": "d99e254b",
   "metadata": {},
   "source": [
    "nombre_infected       921\n",
    "nombre_sain          2026\n",
    "nombre_exposed        472\n",
    "nombre_recovered    16581\n",
    "Name: 720, dtype: int64"
   ]
  },
  {
   "cell_type": "markdown",
   "id": "c6531401",
   "metadata": {},
   "source": [
    "nombre_infected       931\n",
    "nombre_sain          2032\n",
    "nombre_exposed        477\n",
    "nombre_recovered    16560\n",
    "Name: 721, dtype: int64"
   ]
  },
  {
   "cell_type": "markdown",
   "id": "5487108c",
   "metadata": {},
   "source": [
    "nombre_infected       958\n",
    "nombre_sain          2015\n",
    "nombre_exposed        461\n",
    "nombre_recovered    16566\n",
    "Name: 722, dtype: int64"
   ]
  },
  {
   "cell_type": "markdown",
   "id": "0289678b",
   "metadata": {},
   "source": [
    "nombre_infected       957\n",
    "nombre_sain          1998\n",
    "nombre_exposed        464\n",
    "nombre_recovered    16581\n",
    "Name: 723, dtype: int64"
   ]
  },
  {
   "cell_type": "markdown",
   "id": "3ab76a5d",
   "metadata": {},
   "source": [
    "nombre_infected       964\n",
    "nombre_sain          1996\n",
    "nombre_exposed        438\n",
    "nombre_recovered    16602\n",
    "Name: 724, dtype: int64"
   ]
  },
  {
   "cell_type": "markdown",
   "id": "88efdba9",
   "metadata": {},
   "source": [
    "nombre_infected       959\n",
    "nombre_sain          2003\n",
    "nombre_exposed        441\n",
    "nombre_recovered    16597\n",
    "Name: 725, dtype: int64"
   ]
  },
  {
   "cell_type": "markdown",
   "id": "05838813",
   "metadata": {},
   "source": [
    "nombre_infected       946\n",
    "nombre_sain          1994\n",
    "nombre_exposed        429\n",
    "nombre_recovered    16631\n",
    "Name: 726, dtype: int64"
   ]
  },
  {
   "cell_type": "markdown",
   "id": "dc5daca1",
   "metadata": {},
   "source": [
    "nombre_infected       946\n",
    "nombre_sain          1988\n",
    "nombre_exposed        441\n",
    "nombre_recovered    16625\n",
    "Name: 727, dtype: int64"
   ]
  },
  {
   "cell_type": "markdown",
   "id": "2200bc0f",
   "metadata": {},
   "source": [
    "nombre_infected       940\n",
    "nombre_sain          1963\n",
    "nombre_exposed        460\n",
    "nombre_recovered    16637\n",
    "Name: 728, dtype: int64"
   ]
  },
  {
   "cell_type": "markdown",
   "id": "13e564e8",
   "metadata": {},
   "source": [
    "nombre_infected       936\n",
    "nombre_sain          1967\n",
    "nombre_exposed        458\n",
    "nombre_recovered    16639\n",
    "Name: 729, dtype: int64"
   ]
  },
  {
   "cell_type": "markdown",
   "id": "1bcb2ad7",
   "metadata": {},
   "source": [
    "nombre_infected       916\n",
    "nombre_sain          1952\n",
    "nombre_exposed        477\n",
    "nombre_recovered    16655\n",
    "Name: 730, dtype: int64"
   ]
  }
 ],
 "metadata": {},
 "nbformat": 4,
 "nbformat_minor": 5
}
