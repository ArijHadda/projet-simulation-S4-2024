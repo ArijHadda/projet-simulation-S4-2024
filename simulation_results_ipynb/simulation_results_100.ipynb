{
 "cells": [
  {
   "cell_type": "markdown",
   "id": "21e5860d",
   "metadata": {},
   "source": [
    "nombre_infected        20\n",
    "nombre_sain         19980\n",
    "nombre_exposed          0\n",
    "nombre_recovered        0\n",
    "Name: 0, dtype: int64"
   ]
  },
  {
   "cell_type": "markdown",
   "id": "66b7c172",
   "metadata": {},
   "source": [
    "nombre_infected        20\n",
    "nombre_sain         19962\n",
    "nombre_exposed         18\n",
    "nombre_recovered        0\n",
    "Name: 1, dtype: int64"
   ]
  },
  {
   "cell_type": "markdown",
   "id": "e44c61c1",
   "metadata": {},
   "source": [
    "nombre_infected         8\n",
    "nombre_sain         19939\n",
    "nombre_exposed         41\n",
    "nombre_recovered       12\n",
    "Name: 2, dtype: int64"
   ]
  },
  {
   "cell_type": "markdown",
   "id": "e1c67c37",
   "metadata": {},
   "source": [
    "nombre_infected        17\n",
    "nombre_sain         19923\n",
    "nombre_exposed         48\n",
    "nombre_recovered       12\n",
    "Name: 3, dtype: int64"
   ]
  },
  {
   "cell_type": "markdown",
   "id": "657358f0",
   "metadata": {},
   "source": [
    "nombre_infected        27\n",
    "nombre_sain         19894\n",
    "nombre_exposed         67\n",
    "nombre_recovered       12\n",
    "Name: 4, dtype: int64"
   ]
  },
  {
   "cell_type": "markdown",
   "id": "881fed20",
   "metadata": {},
   "source": [
    "nombre_infected        33\n",
    "nombre_sain         19855\n",
    "nombre_exposed         92\n",
    "nombre_recovered       20\n",
    "Name: 5, dtype: int64"
   ]
  },
  {
   "cell_type": "markdown",
   "id": "d6a87da3",
   "metadata": {},
   "source": [
    "nombre_infected        42\n",
    "nombre_sain         19820\n",
    "nombre_exposed        113\n",
    "nombre_recovered       25\n",
    "Name: 6, dtype: int64"
   ]
  },
  {
   "cell_type": "markdown",
   "id": "0747714b",
   "metadata": {},
   "source": [
    "nombre_infected        53\n",
    "nombre_sain         19757\n",
    "nombre_exposed        159\n",
    "nombre_recovered       31\n",
    "Name: 7, dtype: int64"
   ]
  },
  {
   "cell_type": "markdown",
   "id": "3e5d15f8",
   "metadata": {},
   "source": [
    "nombre_infected        73\n",
    "nombre_sain         19684\n",
    "nombre_exposed        205\n",
    "nombre_recovered       38\n",
    "Name: 8, dtype: int64"
   ]
  },
  {
   "cell_type": "markdown",
   "id": "933065db",
   "metadata": {},
   "source": [
    "nombre_infected       102\n",
    "nombre_sain         19585\n",
    "nombre_exposed        270\n",
    "nombre_recovered       43\n",
    "Name: 9, dtype: int64"
   ]
  },
  {
   "cell_type": "markdown",
   "id": "03f12a97",
   "metadata": {},
   "source": [
    "nombre_infected       146\n",
    "nombre_sain         19436\n",
    "nombre_exposed        369\n",
    "nombre_recovered       49\n",
    "Name: 10, dtype: int64"
   ]
  },
  {
   "cell_type": "markdown",
   "id": "5349f806",
   "metadata": {},
   "source": [
    "nombre_infected       204\n",
    "nombre_sain         19235\n",
    "nombre_exposed        506\n",
    "nombre_recovered       55\n",
    "Name: 11, dtype: int64"
   ]
  },
  {
   "cell_type": "markdown",
   "id": "4d75cc6a",
   "metadata": {},
   "source": [
    "nombre_infected       267\n",
    "nombre_sain         18953\n",
    "nombre_exposed        706\n",
    "nombre_recovered       74\n",
    "Name: 12, dtype: int64"
   ]
  },
  {
   "cell_type": "markdown",
   "id": "7f50e15f",
   "metadata": {},
   "source": [
    "nombre_infected       367\n",
    "nombre_sain         18586\n",
    "nombre_exposed        951\n",
    "nombre_recovered       96\n",
    "Name: 13, dtype: int64"
   ]
  },
  {
   "cell_type": "markdown",
   "id": "ba91e64a",
   "metadata": {},
   "source": [
    "nombre_infected       477\n",
    "nombre_sain         18136\n",
    "nombre_exposed       1255\n",
    "nombre_recovered      132\n",
    "Name: 14, dtype: int64"
   ]
  },
  {
   "cell_type": "markdown",
   "id": "57e17750",
   "metadata": {},
   "source": [
    "nombre_infected       654\n",
    "nombre_sain         17538\n",
    "nombre_exposed       1639\n",
    "nombre_recovered      169\n",
    "Name: 15, dtype: int64"
   ]
  },
  {
   "cell_type": "markdown",
   "id": "6dcb0a77",
   "metadata": {},
   "source": [
    "nombre_infected       905\n",
    "nombre_sain         16728\n",
    "nombre_exposed       2154\n",
    "nombre_recovered      213\n",
    "Name: 16, dtype: int64"
   ]
  },
  {
   "cell_type": "markdown",
   "id": "2e73af52",
   "metadata": {},
   "source": [
    "nombre_infected      1220\n",
    "nombre_sain         15713\n",
    "nombre_exposed       2777\n",
    "nombre_recovered      290\n",
    "Name: 17, dtype: int64"
   ]
  },
  {
   "cell_type": "markdown",
   "id": "373daf19",
   "metadata": {},
   "source": [
    "nombre_infected      1616\n",
    "nombre_sain         14423\n",
    "nombre_exposed       3557\n",
    "nombre_recovered      404\n",
    "Name: 18, dtype: int64"
   ]
  },
  {
   "cell_type": "markdown",
   "id": "6cc6ce40",
   "metadata": {},
   "source": [
    "nombre_infected      2105\n",
    "nombre_sain         12990\n",
    "nombre_exposed       4370\n",
    "nombre_recovered      535\n",
    "Name: 19, dtype: int64"
   ]
  },
  {
   "cell_type": "markdown",
   "id": "a1407583",
   "metadata": {},
   "source": [
    "nombre_infected      2727\n",
    "nombre_sain         11254\n",
    "nombre_exposed       5288\n",
    "nombre_recovered      731\n",
    "Name: 20, dtype: int64"
   ]
  },
  {
   "cell_type": "markdown",
   "id": "43d80dcc",
   "metadata": {},
   "source": [
    "nombre_infected     3476\n",
    "nombre_sain         9480\n",
    "nombre_exposed      6070\n",
    "nombre_recovered     974\n",
    "Name: 21, dtype: int64"
   ]
  },
  {
   "cell_type": "markdown",
   "id": "93c676bd",
   "metadata": {},
   "source": [
    "nombre_infected     4351\n",
    "nombre_sain         7695\n",
    "nombre_exposed      6675\n",
    "nombre_recovered    1279\n",
    "Name: 22, dtype: int64"
   ]
  },
  {
   "cell_type": "markdown",
   "id": "51d557b4",
   "metadata": {},
   "source": [
    "nombre_infected     5304\n",
    "nombre_sain         5977\n",
    "nombre_exposed      7026\n",
    "nombre_recovered    1693\n",
    "Name: 23, dtype: int64"
   ]
  },
  {
   "cell_type": "markdown",
   "id": "34014ae9",
   "metadata": {},
   "source": [
    "nombre_infected     6306\n",
    "nombre_sain         4429\n",
    "nombre_exposed      7079\n",
    "nombre_recovered    2186\n",
    "Name: 24, dtype: int64"
   ]
  },
  {
   "cell_type": "markdown",
   "id": "a43a53e3",
   "metadata": {},
   "source": [
    "nombre_infected     7234\n",
    "nombre_sain         3158\n",
    "nombre_exposed      6830\n",
    "nombre_recovered    2778\n",
    "Name: 25, dtype: int64"
   ]
  },
  {
   "cell_type": "markdown",
   "id": "4a24a880",
   "metadata": {},
   "source": [
    "nombre_infected     8051\n",
    "nombre_sain         2206\n",
    "nombre_exposed      6240\n",
    "nombre_recovered    3503\n",
    "Name: 26, dtype: int64"
   ]
  },
  {
   "cell_type": "markdown",
   "id": "53ca2359",
   "metadata": {},
   "source": [
    "nombre_infected     8680\n",
    "nombre_sain         1500\n",
    "nombre_exposed      5462\n",
    "nombre_recovered    4358\n",
    "Name: 27, dtype: int64"
   ]
  },
  {
   "cell_type": "markdown",
   "id": "3868f565",
   "metadata": {},
   "source": [
    "nombre_infected     9159\n",
    "nombre_sain         1017\n",
    "nombre_exposed      4597\n",
    "nombre_recovered    5227\n",
    "Name: 28, dtype: int64"
   ]
  },
  {
   "cell_type": "markdown",
   "id": "7fe9750f",
   "metadata": {},
   "source": [
    "nombre_infected     9271\n",
    "nombre_sain          641\n",
    "nombre_exposed      3808\n",
    "nombre_recovered    6280\n",
    "Name: 29, dtype: int64"
   ]
  },
  {
   "cell_type": "markdown",
   "id": "7fb8b491",
   "metadata": {},
   "source": [
    "nombre_infected     9117\n",
    "nombre_sain          439\n",
    "nombre_exposed      3100\n",
    "nombre_recovered    7344\n",
    "Name: 30, dtype: int64"
   ]
  },
  {
   "cell_type": "markdown",
   "id": "5dc945bb",
   "metadata": {},
   "source": [
    "nombre_infected     8790\n",
    "nombre_sain          308\n",
    "nombre_exposed      2448\n",
    "nombre_recovered    8454\n",
    "Name: 31, dtype: int64"
   ]
  },
  {
   "cell_type": "markdown",
   "id": "ca7f13d9",
   "metadata": {},
   "source": [
    "nombre_infected     8413\n",
    "nombre_sain          211\n",
    "nombre_exposed      1895\n",
    "nombre_recovered    9481\n",
    "Name: 32, dtype: int64"
   ]
  },
  {
   "cell_type": "markdown",
   "id": "b9115880",
   "metadata": {},
   "source": [
    "nombre_infected      7813\n",
    "nombre_sain           154\n",
    "nombre_exposed       1489\n",
    "nombre_recovered    10544\n",
    "Name: 33, dtype: int64"
   ]
  },
  {
   "cell_type": "markdown",
   "id": "1ec2990a",
   "metadata": {},
   "source": [
    "nombre_infected      7256\n",
    "nombre_sain           114\n",
    "nombre_exposed       1119\n",
    "nombre_recovered    11511\n",
    "Name: 34, dtype: int64"
   ]
  },
  {
   "cell_type": "markdown",
   "id": "26ebcac7",
   "metadata": {},
   "source": [
    "nombre_infected      6682\n",
    "nombre_sain            92\n",
    "nombre_exposed        826\n",
    "nombre_recovered    12400\n",
    "Name: 35, dtype: int64"
   ]
  },
  {
   "cell_type": "markdown",
   "id": "ac070773",
   "metadata": {},
   "source": [
    "nombre_infected      6058\n",
    "nombre_sain            89\n",
    "nombre_exposed        587\n",
    "nombre_recovered    13266\n",
    "Name: 36, dtype: int64"
   ]
  },
  {
   "cell_type": "markdown",
   "id": "4de082d1",
   "metadata": {},
   "source": [
    "nombre_infected      5447\n",
    "nombre_sain            91\n",
    "nombre_exposed        450\n",
    "nombre_recovered    14012\n",
    "Name: 37, dtype: int64"
   ]
  },
  {
   "cell_type": "markdown",
   "id": "e42c1fe9",
   "metadata": {},
   "source": [
    "nombre_infected      4856\n",
    "nombre_sain            90\n",
    "nombre_exposed        342\n",
    "nombre_recovered    14712\n",
    "Name: 38, dtype: int64"
   ]
  },
  {
   "cell_type": "markdown",
   "id": "a1f85823",
   "metadata": {},
   "source": [
    "nombre_infected      4313\n",
    "nombre_sain            88\n",
    "nombre_exposed        253\n",
    "nombre_recovered    15346\n",
    "Name: 39, dtype: int64"
   ]
  },
  {
   "cell_type": "markdown",
   "id": "c9ed65ed",
   "metadata": {},
   "source": [
    "nombre_infected      3772\n",
    "nombre_sain            95\n",
    "nombre_exposed        197\n",
    "nombre_recovered    15936\n",
    "Name: 40, dtype: int64"
   ]
  },
  {
   "cell_type": "markdown",
   "id": "eb929688",
   "metadata": {},
   "source": [
    "nombre_infected      3290\n",
    "nombre_sain            88\n",
    "nombre_exposed        163\n",
    "nombre_recovered    16459\n",
    "Name: 41, dtype: int64"
   ]
  },
  {
   "cell_type": "markdown",
   "id": "72e9027a",
   "metadata": {},
   "source": [
    "nombre_infected      2858\n",
    "nombre_sain            92\n",
    "nombre_exposed        136\n",
    "nombre_recovered    16914\n",
    "Name: 42, dtype: int64"
   ]
  },
  {
   "cell_type": "markdown",
   "id": "239b0849",
   "metadata": {},
   "source": [
    "nombre_infected      2460\n",
    "nombre_sain           100\n",
    "nombre_exposed        105\n",
    "nombre_recovered    17335\n",
    "Name: 43, dtype: int64"
   ]
  },
  {
   "cell_type": "markdown",
   "id": "2b2e859b",
   "metadata": {},
   "source": [
    "nombre_infected      2109\n",
    "nombre_sain           105\n",
    "nombre_exposed         88\n",
    "nombre_recovered    17698\n",
    "Name: 44, dtype: int64"
   ]
  },
  {
   "cell_type": "markdown",
   "id": "76bd9b31",
   "metadata": {},
   "source": [
    "nombre_infected      1828\n",
    "nombre_sain           134\n",
    "nombre_exposed         73\n",
    "nombre_recovered    17965\n",
    "Name: 45, dtype: int64"
   ]
  },
  {
   "cell_type": "markdown",
   "id": "3d2de45f",
   "metadata": {},
   "source": [
    "nombre_infected      1568\n",
    "nombre_sain           145\n",
    "nombre_exposed         64\n",
    "nombre_recovered    18223\n",
    "Name: 46, dtype: int64"
   ]
  },
  {
   "cell_type": "markdown",
   "id": "e1ed6cec",
   "metadata": {},
   "source": [
    "nombre_infected      1372\n",
    "nombre_sain           152\n",
    "nombre_exposed         56\n",
    "nombre_recovered    18420\n",
    "Name: 47, dtype: int64"
   ]
  },
  {
   "cell_type": "markdown",
   "id": "a7ddb0be",
   "metadata": {},
   "source": [
    "nombre_infected      1180\n",
    "nombre_sain           154\n",
    "nombre_exposed         59\n",
    "nombre_recovered    18607\n",
    "Name: 48, dtype: int64"
   ]
  },
  {
   "cell_type": "markdown",
   "id": "d5c792e9",
   "metadata": {},
   "source": [
    "nombre_infected      1005\n",
    "nombre_sain           184\n",
    "nombre_exposed         52\n",
    "nombre_recovered    18759\n",
    "Name: 49, dtype: int64"
   ]
  },
  {
   "cell_type": "markdown",
   "id": "f68f8c50",
   "metadata": {},
   "source": [
    "nombre_infected       858\n",
    "nombre_sain           198\n",
    "nombre_exposed         47\n",
    "nombre_recovered    18897\n",
    "Name: 50, dtype: int64"
   ]
  },
  {
   "cell_type": "markdown",
   "id": "0dc5c5ad",
   "metadata": {},
   "source": [
    "nombre_infected       751\n",
    "nombre_sain           217\n",
    "nombre_exposed         44\n",
    "nombre_recovered    18988\n",
    "Name: 51, dtype: int64"
   ]
  },
  {
   "cell_type": "markdown",
   "id": "72944925",
   "metadata": {},
   "source": [
    "nombre_infected       643\n",
    "nombre_sain           244\n",
    "nombre_exposed         44\n",
    "nombre_recovered    19069\n",
    "Name: 52, dtype: int64"
   ]
  },
  {
   "cell_type": "markdown",
   "id": "61b150dc",
   "metadata": {},
   "source": [
    "nombre_infected       554\n",
    "nombre_sain           262\n",
    "nombre_exposed         47\n",
    "nombre_recovered    19137\n",
    "Name: 53, dtype: int64"
   ]
  },
  {
   "cell_type": "markdown",
   "id": "f6e53fbd",
   "metadata": {},
   "source": [
    "nombre_infected       470\n",
    "nombre_sain           298\n",
    "nombre_exposed         39\n",
    "nombre_recovered    19193\n",
    "Name: 54, dtype: int64"
   ]
  },
  {
   "cell_type": "markdown",
   "id": "07790fea",
   "metadata": {},
   "source": [
    "nombre_infected       405\n",
    "nombre_sain           329\n",
    "nombre_exposed         37\n",
    "nombre_recovered    19229\n",
    "Name: 55, dtype: int64"
   ]
  },
  {
   "cell_type": "markdown",
   "id": "865fd989",
   "metadata": {},
   "source": [
    "nombre_infected       353\n",
    "nombre_sain           353\n",
    "nombre_exposed         28\n",
    "nombre_recovered    19266\n",
    "Name: 56, dtype: int64"
   ]
  },
  {
   "cell_type": "markdown",
   "id": "1aefe08c",
   "metadata": {},
   "source": [
    "nombre_infected       304\n",
    "nombre_sain           388\n",
    "nombre_exposed         30\n",
    "nombre_recovered    19278\n",
    "Name: 57, dtype: int64"
   ]
  },
  {
   "cell_type": "markdown",
   "id": "9b50d671",
   "metadata": {},
   "source": [
    "nombre_infected       247\n",
    "nombre_sain           424\n",
    "nombre_exposed         31\n",
    "nombre_recovered    19298\n",
    "Name: 58, dtype: int64"
   ]
  },
  {
   "cell_type": "markdown",
   "id": "757bebdc",
   "metadata": {},
   "source": [
    "nombre_infected       197\n",
    "nombre_sain           450\n",
    "nombre_exposed         37\n",
    "nombre_recovered    19316\n",
    "Name: 59, dtype: int64"
   ]
  },
  {
   "cell_type": "markdown",
   "id": "be52ca38",
   "metadata": {},
   "source": [
    "nombre_infected       163\n",
    "nombre_sain           488\n",
    "nombre_exposed         35\n",
    "nombre_recovered    19314\n",
    "Name: 60, dtype: int64"
   ]
  },
  {
   "cell_type": "markdown",
   "id": "9926be6d",
   "metadata": {},
   "source": [
    "nombre_infected       123\n",
    "nombre_sain           536\n",
    "nombre_exposed         35\n",
    "nombre_recovered    19306\n",
    "Name: 61, dtype: int64"
   ]
  },
  {
   "cell_type": "markdown",
   "id": "da29ff9e",
   "metadata": {},
   "source": [
    "nombre_infected       109\n",
    "nombre_sain           583\n",
    "nombre_exposed         21\n",
    "nombre_recovered    19287\n",
    "Name: 62, dtype: int64"
   ]
  },
  {
   "cell_type": "markdown",
   "id": "f3de57d1",
   "metadata": {},
   "source": [
    "nombre_infected        83\n",
    "nombre_sain           625\n",
    "nombre_exposed         18\n",
    "nombre_recovered    19274\n",
    "Name: 63, dtype: int64"
   ]
  },
  {
   "cell_type": "markdown",
   "id": "53422f88",
   "metadata": {},
   "source": [
    "nombre_infected        69\n",
    "nombre_sain           660\n",
    "nombre_exposed         17\n",
    "nombre_recovered    19254\n",
    "Name: 64, dtype: int64"
   ]
  },
  {
   "cell_type": "markdown",
   "id": "cdae0f44",
   "metadata": {},
   "source": [
    "nombre_infected        56\n",
    "nombre_sain           705\n",
    "nombre_exposed         12\n",
    "nombre_recovered    19227\n",
    "Name: 65, dtype: int64"
   ]
  },
  {
   "cell_type": "markdown",
   "id": "e323ca07",
   "metadata": {},
   "source": [
    "nombre_infected        36\n",
    "nombre_sain           753\n",
    "nombre_exposed         10\n",
    "nombre_recovered    19201\n",
    "Name: 66, dtype: int64"
   ]
  },
  {
   "cell_type": "markdown",
   "id": "6c9368da",
   "metadata": {},
   "source": [
    "nombre_infected        26\n",
    "nombre_sain           790\n",
    "nombre_exposed         10\n",
    "nombre_recovered    19174\n",
    "Name: 67, dtype: int64"
   ]
  },
  {
   "cell_type": "markdown",
   "id": "d423ea7a",
   "metadata": {},
   "source": [
    "nombre_infected        20\n",
    "nombre_sain           843\n",
    "nombre_exposed          8\n",
    "nombre_recovered    19129\n",
    "Name: 68, dtype: int64"
   ]
  },
  {
   "cell_type": "markdown",
   "id": "4dd06dde",
   "metadata": {},
   "source": [
    "nombre_infected        18\n",
    "nombre_sain           894\n",
    "nombre_exposed          5\n",
    "nombre_recovered    19083\n",
    "Name: 69, dtype: int64"
   ]
  },
  {
   "cell_type": "markdown",
   "id": "bea19d89",
   "metadata": {},
   "source": [
    "nombre_infected        15\n",
    "nombre_sain           942\n",
    "nombre_exposed          6\n",
    "nombre_recovered    19037\n",
    "Name: 70, dtype: int64"
   ]
  },
  {
   "cell_type": "markdown",
   "id": "c42a66ae",
   "metadata": {},
   "source": [
    "nombre_infected        15\n",
    "nombre_sain           995\n",
    "nombre_exposed          6\n",
    "nombre_recovered    18984\n",
    "Name: 71, dtype: int64"
   ]
  },
  {
   "cell_type": "markdown",
   "id": "69d1e8c6",
   "metadata": {},
   "source": [
    "nombre_infected        14\n",
    "nombre_sain          1045\n",
    "nombre_exposed          6\n",
    "nombre_recovered    18935\n",
    "Name: 72, dtype: int64"
   ]
  },
  {
   "cell_type": "markdown",
   "id": "305f4048",
   "metadata": {},
   "source": [
    "nombre_infected        14\n",
    "nombre_sain          1093\n",
    "nombre_exposed          4\n",
    "nombre_recovered    18889\n",
    "Name: 73, dtype: int64"
   ]
  },
  {
   "cell_type": "markdown",
   "id": "f098e203",
   "metadata": {},
   "source": [
    "nombre_infected        11\n",
    "nombre_sain          1142\n",
    "nombre_exposed          4\n",
    "nombre_recovered    18843\n",
    "Name: 74, dtype: int64"
   ]
  },
  {
   "cell_type": "markdown",
   "id": "9ca438e4",
   "metadata": {},
   "source": [
    "nombre_infected         9\n",
    "nombre_sain          1200\n",
    "nombre_exposed          4\n",
    "nombre_recovered    18787\n",
    "Name: 75, dtype: int64"
   ]
  },
  {
   "cell_type": "markdown",
   "id": "2f4beb68",
   "metadata": {},
   "source": [
    "nombre_infected         7\n",
    "nombre_sain          1241\n",
    "nombre_exposed          4\n",
    "nombre_recovered    18748\n",
    "Name: 76, dtype: int64"
   ]
  },
  {
   "cell_type": "markdown",
   "id": "f255ee35",
   "metadata": {},
   "source": [
    "nombre_infected         6\n",
    "nombre_sain          1286\n",
    "nombre_exposed          3\n",
    "nombre_recovered    18705\n",
    "Name: 77, dtype: int64"
   ]
  },
  {
   "cell_type": "markdown",
   "id": "e8c7ced1",
   "metadata": {},
   "source": [
    "nombre_infected         7\n",
    "nombre_sain          1348\n",
    "nombre_exposed          2\n",
    "nombre_recovered    18643\n",
    "Name: 78, dtype: int64"
   ]
  },
  {
   "cell_type": "markdown",
   "id": "9e51eb57",
   "metadata": {},
   "source": [
    "nombre_infected         6\n",
    "nombre_sain          1383\n",
    "nombre_exposed          2\n",
    "nombre_recovered    18609\n",
    "Name: 79, dtype: int64"
   ]
  },
  {
   "cell_type": "markdown",
   "id": "c2f182cf",
   "metadata": {},
   "source": [
    "nombre_infected         6\n",
    "nombre_sain          1445\n",
    "nombre_exposed          1\n",
    "nombre_recovered    18548\n",
    "Name: 80, dtype: int64"
   ]
  },
  {
   "cell_type": "markdown",
   "id": "ba1ca5cd",
   "metadata": {},
   "source": [
    "nombre_infected         5\n",
    "nombre_sain          1484\n",
    "nombre_exposed          1\n",
    "nombre_recovered    18510\n",
    "Name: 81, dtype: int64"
   ]
  },
  {
   "cell_type": "markdown",
   "id": "b203a8b1",
   "metadata": {},
   "source": [
    "nombre_infected         5\n",
    "nombre_sain          1545\n",
    "nombre_exposed          2\n",
    "nombre_recovered    18448\n",
    "Name: 82, dtype: int64"
   ]
  },
  {
   "cell_type": "markdown",
   "id": "463f817c",
   "metadata": {},
   "source": [
    "nombre_infected         5\n",
    "nombre_sain          1600\n",
    "nombre_exposed          3\n",
    "nombre_recovered    18392\n",
    "Name: 83, dtype: int64"
   ]
  },
  {
   "cell_type": "markdown",
   "id": "1a8f8629",
   "metadata": {},
   "source": [
    "nombre_infected         3\n",
    "nombre_sain          1651\n",
    "nombre_exposed          3\n",
    "nombre_recovered    18343\n",
    "Name: 84, dtype: int64"
   ]
  },
  {
   "cell_type": "markdown",
   "id": "c82aa8da",
   "metadata": {},
   "source": [
    "nombre_infected         4\n",
    "nombre_sain          1706\n",
    "nombre_exposed          2\n",
    "nombre_recovered    18288\n",
    "Name: 85, dtype: int64"
   ]
  },
  {
   "cell_type": "markdown",
   "id": "ffc46182",
   "metadata": {},
   "source": [
    "nombre_infected         4\n",
    "nombre_sain          1760\n",
    "nombre_exposed          2\n",
    "nombre_recovered    18234\n",
    "Name: 86, dtype: int64"
   ]
  },
  {
   "cell_type": "markdown",
   "id": "a231d691",
   "metadata": {},
   "source": [
    "nombre_infected         4\n",
    "nombre_sain          1816\n",
    "nombre_exposed          2\n",
    "nombre_recovered    18178\n",
    "Name: 87, dtype: int64"
   ]
  },
  {
   "cell_type": "markdown",
   "id": "c70a0ae7",
   "metadata": {},
   "source": [
    "nombre_infected         3\n",
    "nombre_sain          1864\n",
    "nombre_exposed          4\n",
    "nombre_recovered    18129\n",
    "Name: 88, dtype: int64"
   ]
  },
  {
   "cell_type": "markdown",
   "id": "6a849816",
   "metadata": {},
   "source": [
    "nombre_infected         4\n",
    "nombre_sain          1908\n",
    "nombre_exposed          3\n",
    "nombre_recovered    18085\n",
    "Name: 89, dtype: int64"
   ]
  },
  {
   "cell_type": "markdown",
   "id": "7ba169ba",
   "metadata": {},
   "source": [
    "nombre_infected         3\n",
    "nombre_sain          1960\n",
    "nombre_exposed          2\n",
    "nombre_recovered    18035\n",
    "Name: 90, dtype: int64"
   ]
  },
  {
   "cell_type": "markdown",
   "id": "4d4603c6",
   "metadata": {},
   "source": [
    "nombre_infected         4\n",
    "nombre_sain          2003\n",
    "nombre_exposed          1\n",
    "nombre_recovered    17992\n",
    "Name: 91, dtype: int64"
   ]
  },
  {
   "cell_type": "markdown",
   "id": "77fd17cd",
   "metadata": {},
   "source": [
    "nombre_infected         2\n",
    "nombre_sain          2051\n",
    "nombre_exposed          3\n",
    "nombre_recovered    17944\n",
    "Name: 92, dtype: int64"
   ]
  },
  {
   "cell_type": "markdown",
   "id": "0d8e8604",
   "metadata": {},
   "source": [
    "nombre_infected         1\n",
    "nombre_sain          2108\n",
    "nombre_exposed          3\n",
    "nombre_recovered    17888\n",
    "Name: 93, dtype: int64"
   ]
  },
  {
   "cell_type": "markdown",
   "id": "6016c564",
   "metadata": {},
   "source": [
    "nombre_infected         2\n",
    "nombre_sain          2156\n",
    "nombre_exposed          2\n",
    "nombre_recovered    17840\n",
    "Name: 94, dtype: int64"
   ]
  },
  {
   "cell_type": "markdown",
   "id": "4380dc85",
   "metadata": {},
   "source": [
    "nombre_infected         3\n",
    "nombre_sain          2204\n",
    "nombre_exposed          1\n",
    "nombre_recovered    17792\n",
    "Name: 95, dtype: int64"
   ]
  },
  {
   "cell_type": "markdown",
   "id": "e38849b4",
   "metadata": {},
   "source": [
    "nombre_infected         3\n",
    "nombre_sain          2251\n",
    "nombre_exposed          1\n",
    "nombre_recovered    17745\n",
    "Name: 96, dtype: int64"
   ]
  },
  {
   "cell_type": "markdown",
   "id": "f2dff93a",
   "metadata": {},
   "source": [
    "nombre_infected         2\n",
    "nombre_sain          2309\n",
    "nombre_exposed          1\n",
    "nombre_recovered    17688\n",
    "Name: 97, dtype: int64"
   ]
  },
  {
   "cell_type": "markdown",
   "id": "08eee76d",
   "metadata": {},
   "source": [
    "nombre_infected         3\n",
    "nombre_sain          2371\n",
    "nombre_exposed          0\n",
    "nombre_recovered    17626\n",
    "Name: 98, dtype: int64"
   ]
  },
  {
   "cell_type": "markdown",
   "id": "c72e0bd3",
   "metadata": {},
   "source": [
    "nombre_infected         2\n",
    "nombre_sain          2427\n",
    "nombre_exposed          0\n",
    "nombre_recovered    17571\n",
    "Name: 99, dtype: int64"
   ]
  },
  {
   "cell_type": "markdown",
   "id": "05085b1e",
   "metadata": {},
   "source": [
    "nombre_infected         1\n",
    "nombre_sain          2484\n",
    "nombre_exposed          0\n",
    "nombre_recovered    17515\n",
    "Name: 100, dtype: int64"
   ]
  },
  {
   "cell_type": "markdown",
   "id": "205616c4",
   "metadata": {},
   "source": [
    "nombre_infected         1\n",
    "nombre_sain          2552\n",
    "nombre_exposed          0\n",
    "nombre_recovered    17447\n",
    "Name: 101, dtype: int64"
   ]
  },
  {
   "cell_type": "markdown",
   "id": "7f254d1d",
   "metadata": {},
   "source": [
    "nombre_infected         1\n",
    "nombre_sain          2605\n",
    "nombre_exposed          0\n",
    "nombre_recovered    17394\n",
    "Name: 102, dtype: int64"
   ]
  },
  {
   "cell_type": "markdown",
   "id": "ad19ef60",
   "metadata": {},
   "source": [
    "nombre_infected         1\n",
    "nombre_sain          2660\n",
    "nombre_exposed          1\n",
    "nombre_recovered    17338\n",
    "Name: 103, dtype: int64"
   ]
  },
  {
   "cell_type": "markdown",
   "id": "627195e8",
   "metadata": {},
   "source": [
    "nombre_infected         1\n",
    "nombre_sain          2705\n",
    "nombre_exposed          1\n",
    "nombre_recovered    17293\n",
    "Name: 104, dtype: int64"
   ]
  },
  {
   "cell_type": "markdown",
   "id": "58b33899",
   "metadata": {},
   "source": [
    "nombre_infected         1\n",
    "nombre_sain          2757\n",
    "nombre_exposed          1\n",
    "nombre_recovered    17241\n",
    "Name: 105, dtype: int64"
   ]
  },
  {
   "cell_type": "markdown",
   "id": "bb9dc065",
   "metadata": {},
   "source": [
    "nombre_infected         1\n",
    "nombre_sain          2808\n",
    "nombre_exposed          1\n",
    "nombre_recovered    17190\n",
    "Name: 106, dtype: int64"
   ]
  },
  {
   "cell_type": "markdown",
   "id": "7cf3a9e9",
   "metadata": {},
   "source": [
    "nombre_infected         2\n",
    "nombre_sain          2854\n",
    "nombre_exposed          0\n",
    "nombre_recovered    17144\n",
    "Name: 107, dtype: int64"
   ]
  },
  {
   "cell_type": "markdown",
   "id": "65deb6a0",
   "metadata": {},
   "source": [
    "nombre_infected         2\n",
    "nombre_sain          2888\n",
    "nombre_exposed          0\n",
    "nombre_recovered    17110\n",
    "Name: 108, dtype: int64"
   ]
  },
  {
   "cell_type": "markdown",
   "id": "04755774",
   "metadata": {},
   "source": [
    "nombre_infected         1\n",
    "nombre_sain          2927\n",
    "nombre_exposed          1\n",
    "nombre_recovered    17071\n",
    "Name: 109, dtype: int64"
   ]
  },
  {
   "cell_type": "markdown",
   "id": "e502c62e",
   "metadata": {},
   "source": [
    "nombre_infected         1\n",
    "nombre_sain          2957\n",
    "nombre_exposed          1\n",
    "nombre_recovered    17041\n",
    "Name: 110, dtype: int64"
   ]
  },
  {
   "cell_type": "markdown",
   "id": "bc2009f1",
   "metadata": {},
   "source": [
    "nombre_infected         2\n",
    "nombre_sain          2985\n",
    "nombre_exposed          0\n",
    "nombre_recovered    17013\n",
    "Name: 111, dtype: int64"
   ]
  },
  {
   "cell_type": "markdown",
   "id": "1ad2e036",
   "metadata": {},
   "source": [
    "nombre_infected         1\n",
    "nombre_sain          3006\n",
    "nombre_exposed          0\n",
    "nombre_recovered    16993\n",
    "Name: 112, dtype: int64"
   ]
  },
  {
   "cell_type": "markdown",
   "id": "f3b36c24",
   "metadata": {},
   "source": [
    "nombre_infected         1\n",
    "nombre_sain          3028\n",
    "nombre_exposed          0\n",
    "nombre_recovered    16971\n",
    "Name: 113, dtype: int64"
   ]
  },
  {
   "cell_type": "markdown",
   "id": "80c77348",
   "metadata": {},
   "source": [
    "nombre_infected         1\n",
    "nombre_sain          3045\n",
    "nombre_exposed          1\n",
    "nombre_recovered    16953\n",
    "Name: 114, dtype: int64"
   ]
  },
  {
   "cell_type": "markdown",
   "id": "0ebff401",
   "metadata": {},
   "source": [
    "nombre_infected         1\n",
    "nombre_sain          3069\n",
    "nombre_exposed          1\n",
    "nombre_recovered    16929\n",
    "Name: 115, dtype: int64"
   ]
  },
  {
   "cell_type": "markdown",
   "id": "596d1578",
   "metadata": {},
   "source": [
    "nombre_infected         0\n",
    "nombre_sain          3087\n",
    "nombre_exposed          1\n",
    "nombre_recovered    16912\n",
    "Name: 116, dtype: int64"
   ]
  },
  {
   "cell_type": "markdown",
   "id": "f1afd09e",
   "metadata": {},
   "source": [
    "nombre_infected         0\n",
    "nombre_sain          3104\n",
    "nombre_exposed          1\n",
    "nombre_recovered    16895\n",
    "Name: 117, dtype: int64"
   ]
  },
  {
   "cell_type": "markdown",
   "id": "6bd2dfae",
   "metadata": {},
   "source": [
    "nombre_infected         0\n",
    "nombre_sain          3128\n",
    "nombre_exposed          1\n",
    "nombre_recovered    16871\n",
    "Name: 118, dtype: int64"
   ]
  },
  {
   "cell_type": "markdown",
   "id": "e0eef6d4",
   "metadata": {},
   "source": [
    "nombre_infected         0\n",
    "nombre_sain          3164\n",
    "nombre_exposed          1\n",
    "nombre_recovered    16835\n",
    "Name: 119, dtype: int64"
   ]
  },
  {
   "cell_type": "markdown",
   "id": "f79280a6",
   "metadata": {},
   "source": [
    "nombre_infected         1\n",
    "nombre_sain          3203\n",
    "nombre_exposed          1\n",
    "nombre_recovered    16795\n",
    "Name: 120, dtype: int64"
   ]
  },
  {
   "cell_type": "markdown",
   "id": "1216a27e",
   "metadata": {},
   "source": [
    "nombre_infected         1\n",
    "nombre_sain          3254\n",
    "nombre_exposed          1\n",
    "nombre_recovered    16744\n",
    "Name: 121, dtype: int64"
   ]
  },
  {
   "cell_type": "markdown",
   "id": "bc18cd7d",
   "metadata": {},
   "source": [
    "nombre_infected         1\n",
    "nombre_sain          3307\n",
    "nombre_exposed          1\n",
    "nombre_recovered    16691\n",
    "Name: 122, dtype: int64"
   ]
  },
  {
   "cell_type": "markdown",
   "id": "2e0c354a",
   "metadata": {},
   "source": [
    "nombre_infected         2\n",
    "nombre_sain          3351\n",
    "nombre_exposed          0\n",
    "nombre_recovered    16647\n",
    "Name: 123, dtype: int64"
   ]
  },
  {
   "cell_type": "markdown",
   "id": "f4be2165",
   "metadata": {},
   "source": [
    "nombre_infected         2\n",
    "nombre_sain          3409\n",
    "nombre_exposed          0\n",
    "nombre_recovered    16589\n",
    "Name: 124, dtype: int64"
   ]
  },
  {
   "cell_type": "markdown",
   "id": "f80bc005",
   "metadata": {},
   "source": [
    "nombre_infected         1\n",
    "nombre_sain          3469\n",
    "nombre_exposed          0\n",
    "nombre_recovered    16530\n",
    "Name: 125, dtype: int64"
   ]
  },
  {
   "cell_type": "markdown",
   "id": "1aa89383",
   "metadata": {},
   "source": [
    "nombre_infected         1\n",
    "nombre_sain          3526\n",
    "nombre_exposed          0\n",
    "nombre_recovered    16473\n",
    "Name: 126, dtype: int64"
   ]
  },
  {
   "cell_type": "markdown",
   "id": "eff995a0",
   "metadata": {},
   "source": [
    "nombre_infected         1\n",
    "nombre_sain          3604\n",
    "nombre_exposed          1\n",
    "nombre_recovered    16394\n",
    "Name: 127, dtype: int64"
   ]
  },
  {
   "cell_type": "markdown",
   "id": "a976aa29",
   "metadata": {},
   "source": [
    "nombre_infected         1\n",
    "nombre_sain          3675\n",
    "nombre_exposed          1\n",
    "nombre_recovered    16323\n",
    "Name: 128, dtype: int64"
   ]
  },
  {
   "cell_type": "markdown",
   "id": "f78ad61a",
   "metadata": {},
   "source": [
    "nombre_infected         1\n",
    "nombre_sain          3748\n",
    "nombre_exposed          1\n",
    "nombre_recovered    16250\n",
    "Name: 129, dtype: int64"
   ]
  },
  {
   "cell_type": "markdown",
   "id": "029a86e8",
   "metadata": {},
   "source": [
    "nombre_infected         1\n",
    "nombre_sain          3818\n",
    "nombre_exposed          2\n",
    "nombre_recovered    16179\n",
    "Name: 130, dtype: int64"
   ]
  },
  {
   "cell_type": "markdown",
   "id": "cedc3f5d",
   "metadata": {},
   "source": [
    "nombre_infected         1\n",
    "nombre_sain          3882\n",
    "nombre_exposed          2\n",
    "nombre_recovered    16115\n",
    "Name: 131, dtype: int64"
   ]
  },
  {
   "cell_type": "markdown",
   "id": "cb91b20e",
   "metadata": {},
   "source": [
    "nombre_infected         0\n",
    "nombre_sain          3933\n",
    "nombre_exposed          2\n",
    "nombre_recovered    16065\n",
    "Name: 132, dtype: int64"
   ]
  },
  {
   "cell_type": "markdown",
   "id": "3a0c677b",
   "metadata": {},
   "source": [
    "nombre_infected         1\n",
    "nombre_sain          3997\n",
    "nombre_exposed          1\n",
    "nombre_recovered    16001\n",
    "Name: 133, dtype: int64"
   ]
  },
  {
   "cell_type": "markdown",
   "id": "8e8233d3",
   "metadata": {},
   "source": [
    "nombre_infected         2\n",
    "nombre_sain          4044\n",
    "nombre_exposed          0\n",
    "nombre_recovered    15954\n",
    "Name: 134, dtype: int64"
   ]
  },
  {
   "cell_type": "markdown",
   "id": "4d75b078",
   "metadata": {},
   "source": [
    "nombre_infected         2\n",
    "nombre_sain          4103\n",
    "nombre_exposed          0\n",
    "nombre_recovered    15895\n",
    "Name: 135, dtype: int64"
   ]
  },
  {
   "cell_type": "markdown",
   "id": "d787054f",
   "metadata": {},
   "source": [
    "nombre_infected         2\n",
    "nombre_sain          4149\n",
    "nombre_exposed          0\n",
    "nombre_recovered    15849\n",
    "Name: 136, dtype: int64"
   ]
  },
  {
   "cell_type": "markdown",
   "id": "a21b74ef",
   "metadata": {},
   "source": [
    "nombre_infected         2\n",
    "nombre_sain          4193\n",
    "nombre_exposed          1\n",
    "nombre_recovered    15804\n",
    "Name: 137, dtype: int64"
   ]
  },
  {
   "cell_type": "markdown",
   "id": "18f45d18",
   "metadata": {},
   "source": [
    "nombre_infected         1\n",
    "nombre_sain          4233\n",
    "nombre_exposed          3\n",
    "nombre_recovered    15763\n",
    "Name: 138, dtype: int64"
   ]
  },
  {
   "cell_type": "markdown",
   "id": "06ec848b",
   "metadata": {},
   "source": [
    "nombre_infected         2\n",
    "nombre_sain          4273\n",
    "nombre_exposed          3\n",
    "nombre_recovered    15722\n",
    "Name: 139, dtype: int64"
   ]
  },
  {
   "cell_type": "markdown",
   "id": "642c7c0d",
   "metadata": {},
   "source": [
    "nombre_infected         3\n",
    "nombre_sain          4315\n",
    "nombre_exposed          2\n",
    "nombre_recovered    15680\n",
    "Name: 140, dtype: int64"
   ]
  },
  {
   "cell_type": "markdown",
   "id": "6e564ea6",
   "metadata": {},
   "source": [
    "nombre_infected         3\n",
    "nombre_sain          4352\n",
    "nombre_exposed          2\n",
    "nombre_recovered    15643\n",
    "Name: 141, dtype: int64"
   ]
  },
  {
   "cell_type": "markdown",
   "id": "78d6dea6",
   "metadata": {},
   "source": [
    "nombre_infected         3\n",
    "nombre_sain          4384\n",
    "nombre_exposed          4\n",
    "nombre_recovered    15609\n",
    "Name: 142, dtype: int64"
   ]
  },
  {
   "cell_type": "markdown",
   "id": "d62bead6",
   "metadata": {},
   "source": [
    "nombre_infected         3\n",
    "nombre_sain          4427\n",
    "nombre_exposed          4\n",
    "nombre_recovered    15566\n",
    "Name: 143, dtype: int64"
   ]
  },
  {
   "cell_type": "markdown",
   "id": "27dd54cd",
   "metadata": {},
   "source": [
    "nombre_infected         3\n",
    "nombre_sain          4467\n",
    "nombre_exposed          3\n",
    "nombre_recovered    15527\n",
    "Name: 144, dtype: int64"
   ]
  },
  {
   "cell_type": "markdown",
   "id": "57a5498f",
   "metadata": {},
   "source": [
    "nombre_infected         4\n",
    "nombre_sain          4499\n",
    "nombre_exposed          3\n",
    "nombre_recovered    15494\n",
    "Name: 145, dtype: int64"
   ]
  },
  {
   "cell_type": "markdown",
   "id": "082fe406",
   "metadata": {},
   "source": [
    "nombre_infected         5\n",
    "nombre_sain          4525\n",
    "nombre_exposed          2\n",
    "nombre_recovered    15468\n",
    "Name: 146, dtype: int64"
   ]
  },
  {
   "cell_type": "markdown",
   "id": "7ec6f35f",
   "metadata": {},
   "source": [
    "nombre_infected         5\n",
    "nombre_sain          4561\n",
    "nombre_exposed          1\n",
    "nombre_recovered    15433\n",
    "Name: 147, dtype: int64"
   ]
  },
  {
   "cell_type": "markdown",
   "id": "4ff940fc",
   "metadata": {},
   "source": [
    "nombre_infected         4\n",
    "nombre_sain          4597\n",
    "nombre_exposed          0\n",
    "nombre_recovered    15399\n",
    "Name: 148, dtype: int64"
   ]
  },
  {
   "cell_type": "markdown",
   "id": "3c7cb1d2",
   "metadata": {},
   "source": [
    "nombre_infected         4\n",
    "nombre_sain          4627\n",
    "nombre_exposed          2\n",
    "nombre_recovered    15367\n",
    "Name: 149, dtype: int64"
   ]
  },
  {
   "cell_type": "markdown",
   "id": "7c986ad0",
   "metadata": {},
   "source": [
    "nombre_infected         3\n",
    "nombre_sain          4662\n",
    "nombre_exposed          2\n",
    "nombre_recovered    15333\n",
    "Name: 150, dtype: int64"
   ]
  },
  {
   "cell_type": "markdown",
   "id": "5a6cb420",
   "metadata": {},
   "source": [
    "nombre_infected         4\n",
    "nombre_sain          4702\n",
    "nombre_exposed          2\n",
    "nombre_recovered    15292\n",
    "Name: 151, dtype: int64"
   ]
  },
  {
   "cell_type": "markdown",
   "id": "afcfc8a9",
   "metadata": {},
   "source": [
    "nombre_infected         3\n",
    "nombre_sain          4736\n",
    "nombre_exposed          4\n",
    "nombre_recovered    15257\n",
    "Name: 152, dtype: int64"
   ]
  },
  {
   "cell_type": "markdown",
   "id": "e40f9bdb",
   "metadata": {},
   "source": [
    "nombre_infected         4\n",
    "nombre_sain          4768\n",
    "nombre_exposed          3\n",
    "nombre_recovered    15225\n",
    "Name: 153, dtype: int64"
   ]
  },
  {
   "cell_type": "markdown",
   "id": "f1b50d63",
   "metadata": {},
   "source": [
    "nombre_infected         5\n",
    "nombre_sain          4810\n",
    "nombre_exposed          2\n",
    "nombre_recovered    15183\n",
    "Name: 154, dtype: int64"
   ]
  },
  {
   "cell_type": "markdown",
   "id": "930384c5",
   "metadata": {},
   "source": [
    "nombre_infected         4\n",
    "nombre_sain          4836\n",
    "nombre_exposed          3\n",
    "nombre_recovered    15157\n",
    "Name: 155, dtype: int64"
   ]
  },
  {
   "cell_type": "markdown",
   "id": "74a02bbf",
   "metadata": {},
   "source": [
    "nombre_infected         4\n",
    "nombre_sain          4874\n",
    "nombre_exposed          3\n",
    "nombre_recovered    15119\n",
    "Name: 156, dtype: int64"
   ]
  },
  {
   "cell_type": "markdown",
   "id": "50dae0c3",
   "metadata": {},
   "source": [
    "nombre_infected         5\n",
    "nombre_sain          4899\n",
    "nombre_exposed          4\n",
    "nombre_recovered    15092\n",
    "Name: 157, dtype: int64"
   ]
  },
  {
   "cell_type": "markdown",
   "id": "38ce5213",
   "metadata": {},
   "source": [
    "nombre_infected         5\n",
    "nombre_sain          4939\n",
    "nombre_exposed          5\n",
    "nombre_recovered    15051\n",
    "Name: 158, dtype: int64"
   ]
  },
  {
   "cell_type": "markdown",
   "id": "c00ab5af",
   "metadata": {},
   "source": [
    "nombre_infected         4\n",
    "nombre_sain          4958\n",
    "nombre_exposed          4\n",
    "nombre_recovered    15034\n",
    "Name: 159, dtype: int64"
   ]
  },
  {
   "cell_type": "markdown",
   "id": "beb88786",
   "metadata": {},
   "source": [
    "nombre_infected         6\n",
    "nombre_sain          4977\n",
    "nombre_exposed          5\n",
    "nombre_recovered    15012\n",
    "Name: 160, dtype: int64"
   ]
  },
  {
   "cell_type": "markdown",
   "id": "b6ba8f1b",
   "metadata": {},
   "source": [
    "nombre_infected         5\n",
    "nombre_sain          5009\n",
    "nombre_exposed          6\n",
    "nombre_recovered    14980\n",
    "Name: 161, dtype: int64"
   ]
  },
  {
   "cell_type": "markdown",
   "id": "c98cd8f4",
   "metadata": {},
   "source": [
    "nombre_infected         6\n",
    "nombre_sain          5031\n",
    "nombre_exposed          5\n",
    "nombre_recovered    14958\n",
    "Name: 162, dtype: int64"
   ]
  },
  {
   "cell_type": "markdown",
   "id": "e7713eea",
   "metadata": {},
   "source": [
    "nombre_infected         7\n",
    "nombre_sain          5051\n",
    "nombre_exposed          4\n",
    "nombre_recovered    14938\n",
    "Name: 163, dtype: int64"
   ]
  },
  {
   "cell_type": "markdown",
   "id": "6ae52796",
   "metadata": {},
   "source": [
    "nombre_infected         7\n",
    "nombre_sain          5068\n",
    "nombre_exposed          4\n",
    "nombre_recovered    14921\n",
    "Name: 164, dtype: int64"
   ]
  },
  {
   "cell_type": "markdown",
   "id": "f70a46bf",
   "metadata": {},
   "source": [
    "nombre_infected         7\n",
    "nombre_sain          5092\n",
    "nombre_exposed          7\n",
    "nombre_recovered    14894\n",
    "Name: 165, dtype: int64"
   ]
  },
  {
   "cell_type": "markdown",
   "id": "202625dc",
   "metadata": {},
   "source": [
    "nombre_infected         9\n",
    "nombre_sain          5110\n",
    "nombre_exposed          7\n",
    "nombre_recovered    14874\n",
    "Name: 166, dtype: int64"
   ]
  },
  {
   "cell_type": "markdown",
   "id": "a963d8ac",
   "metadata": {},
   "source": [
    "nombre_infected        10\n",
    "nombre_sain          5148\n",
    "nombre_exposed          7\n",
    "nombre_recovered    14835\n",
    "Name: 167, dtype: int64"
   ]
  },
  {
   "cell_type": "markdown",
   "id": "b65ac3da",
   "metadata": {},
   "source": [
    "nombre_infected         7\n",
    "nombre_sain          5174\n",
    "nombre_exposed         11\n",
    "nombre_recovered    14808\n",
    "Name: 168, dtype: int64"
   ]
  },
  {
   "cell_type": "markdown",
   "id": "299d3ff4",
   "metadata": {},
   "source": [
    "nombre_infected        10\n",
    "nombre_sain          5198\n",
    "nombre_exposed         13\n",
    "nombre_recovered    14779\n",
    "Name: 169, dtype: int64"
   ]
  },
  {
   "cell_type": "markdown",
   "id": "6277167f",
   "metadata": {},
   "source": [
    "nombre_infected        10\n",
    "nombre_sain          5221\n",
    "nombre_exposed         16\n",
    "nombre_recovered    14753\n",
    "Name: 170, dtype: int64"
   ]
  },
  {
   "cell_type": "markdown",
   "id": "72e85d9e",
   "metadata": {},
   "source": [
    "nombre_infected        14\n",
    "nombre_sain          5252\n",
    "nombre_exposed         16\n",
    "nombre_recovered    14718\n",
    "Name: 171, dtype: int64"
   ]
  },
  {
   "cell_type": "markdown",
   "id": "e5641af7",
   "metadata": {},
   "source": [
    "nombre_infected        14\n",
    "nombre_sain          5297\n",
    "nombre_exposed         15\n",
    "nombre_recovered    14674\n",
    "Name: 172, dtype: int64"
   ]
  },
  {
   "cell_type": "markdown",
   "id": "9f43ebc7",
   "metadata": {},
   "source": [
    "nombre_infected        15\n",
    "nombre_sain          5337\n",
    "nombre_exposed         18\n",
    "nombre_recovered    14630\n",
    "Name: 173, dtype: int64"
   ]
  },
  {
   "cell_type": "markdown",
   "id": "603782c6",
   "metadata": {},
   "source": [
    "nombre_infected        18\n",
    "nombre_sain          5379\n",
    "nombre_exposed         23\n",
    "nombre_recovered    14580\n",
    "Name: 174, dtype: int64"
   ]
  },
  {
   "cell_type": "markdown",
   "id": "ceb95ad7",
   "metadata": {},
   "source": [
    "nombre_infected        21\n",
    "nombre_sain          5417\n",
    "nombre_exposed         26\n",
    "nombre_recovered    14536\n",
    "Name: 175, dtype: int64"
   ]
  },
  {
   "cell_type": "markdown",
   "id": "c8fa4577",
   "metadata": {},
   "source": [
    "nombre_infected        21\n",
    "nombre_sain          5444\n",
    "nombre_exposed         29\n",
    "nombre_recovered    14506\n",
    "Name: 176, dtype: int64"
   ]
  },
  {
   "cell_type": "markdown",
   "id": "e931d09a",
   "metadata": {},
   "source": [
    "nombre_infected        22\n",
    "nombre_sain          5483\n",
    "nombre_exposed         30\n",
    "nombre_recovered    14465\n",
    "Name: 177, dtype: int64"
   ]
  },
  {
   "cell_type": "markdown",
   "id": "7be723a0",
   "metadata": {},
   "source": [
    "nombre_infected        28\n",
    "nombre_sain          5522\n",
    "nombre_exposed         31\n",
    "nombre_recovered    14419\n",
    "Name: 178, dtype: int64"
   ]
  },
  {
   "cell_type": "markdown",
   "id": "2e76db21",
   "metadata": {},
   "source": [
    "nombre_infected        30\n",
    "nombre_sain          5566\n",
    "nombre_exposed         30\n",
    "nombre_recovered    14374\n",
    "Name: 179, dtype: int64"
   ]
  },
  {
   "cell_type": "markdown",
   "id": "f887c78a",
   "metadata": {},
   "source": [
    "nombre_infected        34\n",
    "nombre_sain          5597\n",
    "nombre_exposed         35\n",
    "nombre_recovered    14334\n",
    "Name: 180, dtype: int64"
   ]
  },
  {
   "cell_type": "markdown",
   "id": "ebade67f",
   "metadata": {},
   "source": [
    "nombre_infected        33\n",
    "nombre_sain          5635\n",
    "nombre_exposed         38\n",
    "nombre_recovered    14294\n",
    "Name: 181, dtype: int64"
   ]
  },
  {
   "cell_type": "markdown",
   "id": "945b9a16",
   "metadata": {},
   "source": [
    "nombre_infected        38\n",
    "nombre_sain          5672\n",
    "nombre_exposed         46\n",
    "nombre_recovered    14244\n",
    "Name: 182, dtype: int64"
   ]
  },
  {
   "cell_type": "markdown",
   "id": "8c93c202",
   "metadata": {},
   "source": [
    "nombre_infected        41\n",
    "nombre_sain          5705\n",
    "nombre_exposed         51\n",
    "nombre_recovered    14203\n",
    "Name: 183, dtype: int64"
   ]
  },
  {
   "cell_type": "markdown",
   "id": "cae33c7b",
   "metadata": {},
   "source": [
    "nombre_infected        40\n",
    "nombre_sain          5735\n",
    "nombre_exposed         62\n",
    "nombre_recovered    14163\n",
    "Name: 184, dtype: int64"
   ]
  },
  {
   "cell_type": "markdown",
   "id": "8f827dc5",
   "metadata": {},
   "source": [
    "nombre_infected        45\n",
    "nombre_sain          5763\n",
    "nombre_exposed         68\n",
    "nombre_recovered    14124\n",
    "Name: 185, dtype: int64"
   ]
  },
  {
   "cell_type": "markdown",
   "id": "579556b8",
   "metadata": {},
   "source": [
    "nombre_infected        57\n",
    "nombre_sain          5794\n",
    "nombre_exposed         81\n",
    "nombre_recovered    14068\n",
    "Name: 186, dtype: int64"
   ]
  },
  {
   "cell_type": "markdown",
   "id": "3d0a3138",
   "metadata": {},
   "source": [
    "nombre_infected        67\n",
    "nombre_sain          5817\n",
    "nombre_exposed         93\n",
    "nombre_recovered    14023\n",
    "Name: 187, dtype: int64"
   ]
  },
  {
   "cell_type": "markdown",
   "id": "bfe82f82",
   "metadata": {},
   "source": [
    "nombre_infected        79\n",
    "nombre_sain          5849\n",
    "nombre_exposed        102\n",
    "nombre_recovered    13970\n",
    "Name: 188, dtype: int64"
   ]
  },
  {
   "cell_type": "markdown",
   "id": "499f7f6a",
   "metadata": {},
   "source": [
    "nombre_infected        91\n",
    "nombre_sain          5852\n",
    "nombre_exposed        113\n",
    "nombre_recovered    13944\n",
    "Name: 189, dtype: int64"
   ]
  },
  {
   "cell_type": "markdown",
   "id": "ae71de68",
   "metadata": {},
   "source": [
    "nombre_infected       105\n",
    "nombre_sain          5861\n",
    "nombre_exposed        123\n",
    "nombre_recovered    13911\n",
    "Name: 190, dtype: int64"
   ]
  },
  {
   "cell_type": "markdown",
   "id": "e8a43023",
   "metadata": {},
   "source": [
    "nombre_infected       130\n",
    "nombre_sain          5859\n",
    "nombre_exposed        127\n",
    "nombre_recovered    13884\n",
    "Name: 191, dtype: int64"
   ]
  },
  {
   "cell_type": "markdown",
   "id": "dd68301e",
   "metadata": {},
   "source": [
    "nombre_infected       144\n",
    "nombre_sain          5845\n",
    "nombre_exposed        157\n",
    "nombre_recovered    13854\n",
    "Name: 192, dtype: int64"
   ]
  },
  {
   "cell_type": "markdown",
   "id": "3dfb102a",
   "metadata": {},
   "source": [
    "nombre_infected       153\n",
    "nombre_sain          5826\n",
    "nombre_exposed        185\n",
    "nombre_recovered    13836\n",
    "Name: 193, dtype: int64"
   ]
  },
  {
   "cell_type": "markdown",
   "id": "630ce3b3",
   "metadata": {},
   "source": [
    "nombre_infected       170\n",
    "nombre_sain          5800\n",
    "nombre_exposed        206\n",
    "nombre_recovered    13824\n",
    "Name: 194, dtype: int64"
   ]
  },
  {
   "cell_type": "markdown",
   "id": "8045575b",
   "metadata": {},
   "source": [
    "nombre_infected       210\n",
    "nombre_sain          5775\n",
    "nombre_exposed        213\n",
    "nombre_recovered    13802\n",
    "Name: 195, dtype: int64"
   ]
  },
  {
   "cell_type": "markdown",
   "id": "87a50dea",
   "metadata": {},
   "source": [
    "nombre_infected       223\n",
    "nombre_sain          5725\n",
    "nombre_exposed        256\n",
    "nombre_recovered    13796\n",
    "Name: 196, dtype: int64"
   ]
  },
  {
   "cell_type": "markdown",
   "id": "ed65a891",
   "metadata": {},
   "source": [
    "nombre_infected       234\n",
    "nombre_sain          5672\n",
    "nombre_exposed        299\n",
    "nombre_recovered    13795\n",
    "Name: 197, dtype: int64"
   ]
  },
  {
   "cell_type": "markdown",
   "id": "4b5ef653",
   "metadata": {},
   "source": [
    "nombre_infected       270\n",
    "nombre_sain          5624\n",
    "nombre_exposed        321\n",
    "nombre_recovered    13785\n",
    "Name: 198, dtype: int64"
   ]
  },
  {
   "cell_type": "markdown",
   "id": "2c0e179f",
   "metadata": {},
   "source": [
    "nombre_infected       331\n",
    "nombre_sain          5561\n",
    "nombre_exposed        342\n",
    "nombre_recovered    13766\n",
    "Name: 199, dtype: int64"
   ]
  },
  {
   "cell_type": "markdown",
   "id": "4da93198",
   "metadata": {},
   "source": [
    "nombre_infected       350\n",
    "nombre_sain          5485\n",
    "nombre_exposed        387\n",
    "nombre_recovered    13778\n",
    "Name: 200, dtype: int64"
   ]
  },
  {
   "cell_type": "markdown",
   "id": "28cb574b",
   "metadata": {},
   "source": [
    "nombre_infected       405\n",
    "nombre_sain          5386\n",
    "nombre_exposed        434\n",
    "nombre_recovered    13775\n",
    "Name: 201, dtype: int64"
   ]
  },
  {
   "cell_type": "markdown",
   "id": "7a2d0b14",
   "metadata": {},
   "source": [
    "nombre_infected       442\n",
    "nombre_sain          5297\n",
    "nombre_exposed        484\n",
    "nombre_recovered    13777\n",
    "Name: 202, dtype: int64"
   ]
  },
  {
   "cell_type": "markdown",
   "id": "67bbecde",
   "metadata": {},
   "source": [
    "nombre_infected       507\n",
    "nombre_sain          5192\n",
    "nombre_exposed        516\n",
    "nombre_recovered    13785\n",
    "Name: 203, dtype: int64"
   ]
  },
  {
   "cell_type": "markdown",
   "id": "ce39c9df",
   "metadata": {},
   "source": [
    "nombre_infected       563\n",
    "nombre_sain          5070\n",
    "nombre_exposed        572\n",
    "nombre_recovered    13795\n",
    "Name: 204, dtype: int64"
   ]
  },
  {
   "cell_type": "markdown",
   "id": "07716606",
   "metadata": {},
   "source": [
    "nombre_infected       624\n",
    "nombre_sain          4925\n",
    "nombre_exposed        639\n",
    "nombre_recovered    13812\n",
    "Name: 205, dtype: int64"
   ]
  },
  {
   "cell_type": "markdown",
   "id": "80504a29",
   "metadata": {},
   "source": [
    "nombre_infected       701\n",
    "nombre_sain          4767\n",
    "nombre_exposed        696\n",
    "nombre_recovered    13836\n",
    "Name: 206, dtype: int64"
   ]
  },
  {
   "cell_type": "markdown",
   "id": "627a1035",
   "metadata": {},
   "source": [
    "nombre_infected       771\n",
    "nombre_sain          4603\n",
    "nombre_exposed        747\n",
    "nombre_recovered    13879\n",
    "Name: 207, dtype: int64"
   ]
  },
  {
   "cell_type": "markdown",
   "id": "ad8395a5",
   "metadata": {},
   "source": [
    "nombre_infected       867\n",
    "nombre_sain          4434\n",
    "nombre_exposed        787\n",
    "nombre_recovered    13912\n",
    "Name: 208, dtype: int64"
   ]
  },
  {
   "cell_type": "markdown",
   "id": "74d1065b",
   "metadata": {},
   "source": [
    "nombre_infected       949\n",
    "nombre_sain          4230\n",
    "nombre_exposed        855\n",
    "nombre_recovered    13966\n",
    "Name: 209, dtype: int64"
   ]
  },
  {
   "cell_type": "markdown",
   "id": "5e12d732",
   "metadata": {},
   "source": [
    "nombre_infected      1031\n",
    "nombre_sain          4027\n",
    "nombre_exposed        909\n",
    "nombre_recovered    14033\n",
    "Name: 210, dtype: int64"
   ]
  },
  {
   "cell_type": "markdown",
   "id": "64785f43",
   "metadata": {},
   "source": [
    "nombre_infected      1106\n",
    "nombre_sain          3810\n",
    "nombre_exposed        967\n",
    "nombre_recovered    14117\n",
    "Name: 211, dtype: int64"
   ]
  },
  {
   "cell_type": "markdown",
   "id": "cbf441c8",
   "metadata": {},
   "source": [
    "nombre_infected      1205\n",
    "nombre_sain          3623\n",
    "nombre_exposed        973\n",
    "nombre_recovered    14199\n",
    "Name: 212, dtype: int64"
   ]
  },
  {
   "cell_type": "markdown",
   "id": "af8d0c73",
   "metadata": {},
   "source": [
    "nombre_infected      1298\n",
    "nombre_sain          3421\n",
    "nombre_exposed        984\n",
    "nombre_recovered    14297\n",
    "Name: 213, dtype: int64"
   ]
  },
  {
   "cell_type": "markdown",
   "id": "c0ed254a",
   "metadata": {},
   "source": [
    "nombre_infected      1367\n",
    "nombre_sain          3166\n",
    "nombre_exposed       1067\n",
    "nombre_recovered    14400\n",
    "Name: 214, dtype: int64"
   ]
  },
  {
   "cell_type": "markdown",
   "id": "1094eb9e",
   "metadata": {},
   "source": [
    "nombre_infected      1428\n",
    "nombre_sain          2980\n",
    "nombre_exposed       1071\n",
    "nombre_recovered    14521\n",
    "Name: 215, dtype: int64"
   ]
  },
  {
   "cell_type": "markdown",
   "id": "07564aa3",
   "metadata": {},
   "source": [
    "nombre_infected      1540\n",
    "nombre_sain          2769\n",
    "nombre_exposed       1044\n",
    "nombre_recovered    14647\n",
    "Name: 216, dtype: int64"
   ]
  },
  {
   "cell_type": "markdown",
   "id": "db2915cf",
   "metadata": {},
   "source": [
    "nombre_infected      1590\n",
    "nombre_sain          2560\n",
    "nombre_exposed       1062\n",
    "nombre_recovered    14788\n",
    "Name: 217, dtype: int64"
   ]
  },
  {
   "cell_type": "markdown",
   "id": "9d1fde0a",
   "metadata": {},
   "source": [
    "nombre_infected      1630\n",
    "nombre_sain          2387\n",
    "nombre_exposed       1024\n",
    "nombre_recovered    14959\n",
    "Name: 218, dtype: int64"
   ]
  },
  {
   "cell_type": "markdown",
   "id": "b704c338",
   "metadata": {},
   "source": [
    "nombre_infected      1655\n",
    "nombre_sain          2214\n",
    "nombre_exposed       1018\n",
    "nombre_recovered    15113\n",
    "Name: 219, dtype: int64"
   ]
  },
  {
   "cell_type": "markdown",
   "id": "9c91e7ab",
   "metadata": {},
   "source": [
    "nombre_infected      1678\n",
    "nombre_sain          2047\n",
    "nombre_exposed        978\n",
    "nombre_recovered    15297\n",
    "Name: 220, dtype: int64"
   ]
  },
  {
   "cell_type": "markdown",
   "id": "91145b09",
   "metadata": {},
   "source": [
    "nombre_infected      1699\n",
    "nombre_sain          1942\n",
    "nombre_exposed        925\n",
    "nombre_recovered    15434\n",
    "Name: 221, dtype: int64"
   ]
  },
  {
   "cell_type": "markdown",
   "id": "254d77f4",
   "metadata": {},
   "source": [
    "nombre_infected      1707\n",
    "nombre_sain          1818\n",
    "nombre_exposed        882\n",
    "nombre_recovered    15593\n",
    "Name: 222, dtype: int64"
   ]
  },
  {
   "cell_type": "markdown",
   "id": "bd4c46ea",
   "metadata": {},
   "source": [
    "nombre_infected      1709\n",
    "nombre_sain          1716\n",
    "nombre_exposed        821\n",
    "nombre_recovered    15754\n",
    "Name: 223, dtype: int64"
   ]
  },
  {
   "cell_type": "markdown",
   "id": "7edf89a9",
   "metadata": {},
   "source": [
    "nombre_infected      1723\n",
    "nombre_sain          1599\n",
    "nombre_exposed        770\n",
    "nombre_recovered    15908\n",
    "Name: 224, dtype: int64"
   ]
  },
  {
   "cell_type": "markdown",
   "id": "aaae2b50",
   "metadata": {},
   "source": [
    "nombre_infected      1715\n",
    "nombre_sain          1490\n",
    "nombre_exposed        750\n",
    "nombre_recovered    16045\n",
    "Name: 225, dtype: int64"
   ]
  },
  {
   "cell_type": "markdown",
   "id": "61bb9396",
   "metadata": {},
   "source": [
    "nombre_infected      1668\n",
    "nombre_sain          1418\n",
    "nombre_exposed        695\n",
    "nombre_recovered    16219\n",
    "Name: 226, dtype: int64"
   ]
  },
  {
   "cell_type": "markdown",
   "id": "3ac524b0",
   "metadata": {},
   "source": [
    "nombre_infected      1593\n",
    "nombre_sain          1368\n",
    "nombre_exposed        642\n",
    "nombre_recovered    16397\n",
    "Name: 227, dtype: int64"
   ]
  },
  {
   "cell_type": "markdown",
   "id": "c1a0804c",
   "metadata": {},
   "source": [
    "nombre_infected      1517\n",
    "nombre_sain          1304\n",
    "nombre_exposed        606\n",
    "nombre_recovered    16573\n",
    "Name: 228, dtype: int64"
   ]
  },
  {
   "cell_type": "markdown",
   "id": "a139cf76",
   "metadata": {},
   "source": [
    "nombre_infected      1468\n",
    "nombre_sain          1239\n",
    "nombre_exposed        560\n",
    "nombre_recovered    16733\n",
    "Name: 229, dtype: int64"
   ]
  },
  {
   "cell_type": "markdown",
   "id": "39514586",
   "metadata": {},
   "source": [
    "nombre_infected      1398\n",
    "nombre_sain          1185\n",
    "nombre_exposed        547\n",
    "nombre_recovered    16870\n",
    "Name: 230, dtype: int64"
   ]
  },
  {
   "cell_type": "markdown",
   "id": "0d5bf459",
   "metadata": {},
   "source": [
    "nombre_infected      1356\n",
    "nombre_sain          1131\n",
    "nombre_exposed        503\n",
    "nombre_recovered    17010\n",
    "Name: 231, dtype: int64"
   ]
  },
  {
   "cell_type": "markdown",
   "id": "694d671e",
   "metadata": {},
   "source": [
    "nombre_infected      1282\n",
    "nombre_sain          1085\n",
    "nombre_exposed        507\n",
    "nombre_recovered    17126\n",
    "Name: 232, dtype: int64"
   ]
  },
  {
   "cell_type": "markdown",
   "id": "ec5ef739",
   "metadata": {},
   "source": [
    "nombre_infected      1227\n",
    "nombre_sain          1045\n",
    "nombre_exposed        478\n",
    "nombre_recovered    17250\n",
    "Name: 233, dtype: int64"
   ]
  },
  {
   "cell_type": "markdown",
   "id": "c1ff3178",
   "metadata": {},
   "source": [
    "nombre_infected      1191\n",
    "nombre_sain          1045\n",
    "nombre_exposed        427\n",
    "nombre_recovered    17337\n",
    "Name: 234, dtype: int64"
   ]
  },
  {
   "cell_type": "markdown",
   "id": "5e8690db",
   "metadata": {},
   "source": [
    "nombre_infected      1107\n",
    "nombre_sain          1051\n",
    "nombre_exposed        365\n",
    "nombre_recovered    17477\n",
    "Name: 235, dtype: int64"
   ]
  },
  {
   "cell_type": "markdown",
   "id": "a95c22d9",
   "metadata": {},
   "source": [
    "nombre_infected      1049\n",
    "nombre_sain          1051\n",
    "nombre_exposed        327\n",
    "nombre_recovered    17573\n",
    "Name: 236, dtype: int64"
   ]
  },
  {
   "cell_type": "markdown",
   "id": "a3aa638b",
   "metadata": {},
   "source": [
    "nombre_infected      1027\n",
    "nombre_sain          1048\n",
    "nombre_exposed        286\n",
    "nombre_recovered    17639\n",
    "Name: 237, dtype: int64"
   ]
  },
  {
   "cell_type": "markdown",
   "id": "55976e2c",
   "metadata": {},
   "source": [
    "nombre_infected       939\n",
    "nombre_sain          1060\n",
    "nombre_exposed        293\n",
    "nombre_recovered    17708\n",
    "Name: 238, dtype: int64"
   ]
  },
  {
   "cell_type": "markdown",
   "id": "8b068c4b",
   "metadata": {},
   "source": [
    "nombre_infected       864\n",
    "nombre_sain          1074\n",
    "nombre_exposed        284\n",
    "nombre_recovered    17778\n",
    "Name: 239, dtype: int64"
   ]
  },
  {
   "cell_type": "markdown",
   "id": "b1b55847",
   "metadata": {},
   "source": [
    "nombre_infected       812\n",
    "nombre_sain          1089\n",
    "nombre_exposed        260\n",
    "nombre_recovered    17839\n",
    "Name: 240, dtype: int64"
   ]
  },
  {
   "cell_type": "markdown",
   "id": "20017c5b",
   "metadata": {},
   "source": [
    "nombre_infected       752\n",
    "nombre_sain          1118\n",
    "nombre_exposed        245\n",
    "nombre_recovered    17885\n",
    "Name: 241, dtype: int64"
   ]
  },
  {
   "cell_type": "markdown",
   "id": "58ff0c31",
   "metadata": {},
   "source": [
    "nombre_infected       708\n",
    "nombre_sain          1146\n",
    "nombre_exposed        233\n",
    "nombre_recovered    17913\n",
    "Name: 242, dtype: int64"
   ]
  },
  {
   "cell_type": "markdown",
   "id": "34f3b9e5",
   "metadata": {},
   "source": [
    "nombre_infected       649\n",
    "nombre_sain          1182\n",
    "nombre_exposed        225\n",
    "nombre_recovered    17944\n",
    "Name: 243, dtype: int64"
   ]
  },
  {
   "cell_type": "markdown",
   "id": "45081ebf",
   "metadata": {},
   "source": [
    "nombre_infected       617\n",
    "nombre_sain          1206\n",
    "nombre_exposed        210\n",
    "nombre_recovered    17967\n",
    "Name: 244, dtype: int64"
   ]
  },
  {
   "cell_type": "markdown",
   "id": "a75ee21a",
   "metadata": {},
   "source": [
    "nombre_infected       582\n",
    "nombre_sain          1226\n",
    "nombre_exposed        213\n",
    "nombre_recovered    17979\n",
    "Name: 245, dtype: int64"
   ]
  },
  {
   "cell_type": "markdown",
   "id": "9de66f9a",
   "metadata": {},
   "source": [
    "nombre_infected       544\n",
    "nombre_sain          1260\n",
    "nombre_exposed        207\n",
    "nombre_recovered    17989\n",
    "Name: 246, dtype: int64"
   ]
  },
  {
   "cell_type": "markdown",
   "id": "7da0e7cf",
   "metadata": {},
   "source": [
    "nombre_infected       523\n",
    "nombre_sain          1282\n",
    "nombre_exposed        197\n",
    "nombre_recovered    17998\n",
    "Name: 247, dtype: int64"
   ]
  },
  {
   "cell_type": "markdown",
   "id": "3166fac8",
   "metadata": {},
   "source": [
    "nombre_infected       486\n",
    "nombre_sain          1304\n",
    "nombre_exposed        206\n",
    "nombre_recovered    18004\n",
    "Name: 248, dtype: int64"
   ]
  },
  {
   "cell_type": "markdown",
   "id": "201276b4",
   "metadata": {},
   "source": [
    "nombre_infected       463\n",
    "nombre_sain          1352\n",
    "nombre_exposed        185\n",
    "nombre_recovered    18000\n",
    "Name: 249, dtype: int64"
   ]
  },
  {
   "cell_type": "markdown",
   "id": "fa2a9090",
   "metadata": {},
   "source": [
    "nombre_infected       431\n",
    "nombre_sain          1397\n",
    "nombre_exposed        176\n",
    "nombre_recovered    17996\n",
    "Name: 250, dtype: int64"
   ]
  },
  {
   "cell_type": "markdown",
   "id": "1c9fa392",
   "metadata": {},
   "source": [
    "nombre_infected       392\n",
    "nombre_sain          1424\n",
    "nombre_exposed        180\n",
    "nombre_recovered    18004\n",
    "Name: 251, dtype: int64"
   ]
  },
  {
   "cell_type": "markdown",
   "id": "c23e6152",
   "metadata": {},
   "source": [
    "nombre_infected       382\n",
    "nombre_sain          1468\n",
    "nombre_exposed        156\n",
    "nombre_recovered    17994\n",
    "Name: 252, dtype: int64"
   ]
  },
  {
   "cell_type": "markdown",
   "id": "1afd2505",
   "metadata": {},
   "source": [
    "nombre_infected       371\n",
    "nombre_sain          1516\n",
    "nombre_exposed        146\n",
    "nombre_recovered    17967\n",
    "Name: 253, dtype: int64"
   ]
  },
  {
   "cell_type": "markdown",
   "id": "e92917ca",
   "metadata": {},
   "source": [
    "nombre_infected       346\n",
    "nombre_sain          1566\n",
    "nombre_exposed        141\n",
    "nombre_recovered    17947\n",
    "Name: 254, dtype: int64"
   ]
  },
  {
   "cell_type": "markdown",
   "id": "fb94dd89",
   "metadata": {},
   "source": [
    "nombre_infected       320\n",
    "nombre_sain          1607\n",
    "nombre_exposed        141\n",
    "nombre_recovered    17932\n",
    "Name: 255, dtype: int64"
   ]
  },
  {
   "cell_type": "markdown",
   "id": "97fc7b1a",
   "metadata": {},
   "source": [
    "nombre_infected       299\n",
    "nombre_sain          1639\n",
    "nombre_exposed        148\n",
    "nombre_recovered    17914\n",
    "Name: 256, dtype: int64"
   ]
  },
  {
   "cell_type": "markdown",
   "id": "70662102",
   "metadata": {},
   "source": [
    "nombre_infected       284\n",
    "nombre_sain          1684\n",
    "nombre_exposed        149\n",
    "nombre_recovered    17883\n",
    "Name: 257, dtype: int64"
   ]
  },
  {
   "cell_type": "markdown",
   "id": "1fb7b552",
   "metadata": {},
   "source": [
    "nombre_infected       269\n",
    "nombre_sain          1727\n",
    "nombre_exposed        144\n",
    "nombre_recovered    17860\n",
    "Name: 258, dtype: int64"
   ]
  },
  {
   "cell_type": "markdown",
   "id": "4c775289",
   "metadata": {},
   "source": [
    "nombre_infected       252\n",
    "nombre_sain          1805\n",
    "nombre_exposed        135\n",
    "nombre_recovered    17808\n",
    "Name: 259, dtype: int64"
   ]
  },
  {
   "cell_type": "markdown",
   "id": "bd7a8de9",
   "metadata": {},
   "source": [
    "nombre_infected       227\n",
    "nombre_sain          1877\n",
    "nombre_exposed        134\n",
    "nombre_recovered    17762\n",
    "Name: 260, dtype: int64"
   ]
  },
  {
   "cell_type": "markdown",
   "id": "485044d3",
   "metadata": {},
   "source": [
    "nombre_infected       225\n",
    "nombre_sain          1943\n",
    "nombre_exposed        133\n",
    "nombre_recovered    17699\n",
    "Name: 261, dtype: int64"
   ]
  },
  {
   "cell_type": "markdown",
   "id": "64b58c84",
   "metadata": {},
   "source": [
    "nombre_infected       220\n",
    "nombre_sain          2014\n",
    "nombre_exposed        132\n",
    "nombre_recovered    17634\n",
    "Name: 262, dtype: int64"
   ]
  },
  {
   "cell_type": "markdown",
   "id": "4c68cc93",
   "metadata": {},
   "source": [
    "nombre_infected       218\n",
    "nombre_sain          2103\n",
    "nombre_exposed        132\n",
    "nombre_recovered    17547\n",
    "Name: 263, dtype: int64"
   ]
  },
  {
   "cell_type": "markdown",
   "id": "2b2dbe7b",
   "metadata": {},
   "source": [
    "nombre_infected       203\n",
    "nombre_sain          2171\n",
    "nombre_exposed        140\n",
    "nombre_recovered    17486\n",
    "Name: 264, dtype: int64"
   ]
  },
  {
   "cell_type": "markdown",
   "id": "ddc2a151",
   "metadata": {},
   "source": [
    "nombre_infected       197\n",
    "nombre_sain          2252\n",
    "nombre_exposed        137\n",
    "nombre_recovered    17414\n",
    "Name: 265, dtype: int64"
   ]
  },
  {
   "cell_type": "markdown",
   "id": "342e28c0",
   "metadata": {},
   "source": [
    "nombre_infected       193\n",
    "nombre_sain          2321\n",
    "nombre_exposed        130\n",
    "nombre_recovered    17356\n",
    "Name: 266, dtype: int64"
   ]
  },
  {
   "cell_type": "markdown",
   "id": "ba41e8bf",
   "metadata": {},
   "source": [
    "nombre_infected       194\n",
    "nombre_sain          2406\n",
    "nombre_exposed        126\n",
    "nombre_recovered    17274\n",
    "Name: 267, dtype: int64"
   ]
  },
  {
   "cell_type": "markdown",
   "id": "b5ba05ca",
   "metadata": {},
   "source": [
    "nombre_infected       189\n",
    "nombre_sain          2463\n",
    "nombre_exposed        125\n",
    "nombre_recovered    17223\n",
    "Name: 268, dtype: int64"
   ]
  },
  {
   "cell_type": "markdown",
   "id": "6af8aceb",
   "metadata": {},
   "source": [
    "nombre_infected       176\n",
    "nombre_sain          2507\n",
    "nombre_exposed        136\n",
    "nombre_recovered    17181\n",
    "Name: 269, dtype: int64"
   ]
  },
  {
   "cell_type": "markdown",
   "id": "ca360c4d",
   "metadata": {},
   "source": [
    "nombre_infected       161\n",
    "nombre_sain          2586\n",
    "nombre_exposed        135\n",
    "nombre_recovered    17118\n",
    "Name: 270, dtype: int64"
   ]
  },
  {
   "cell_type": "markdown",
   "id": "1a1d3cf1",
   "metadata": {},
   "source": [
    "nombre_infected       162\n",
    "nombre_sain          2645\n",
    "nombre_exposed        124\n",
    "nombre_recovered    17069\n",
    "Name: 271, dtype: int64"
   ]
  },
  {
   "cell_type": "markdown",
   "id": "118c0d06",
   "metadata": {},
   "source": [
    "nombre_infected       169\n",
    "nombre_sain          2693\n",
    "nombre_exposed        137\n",
    "nombre_recovered    17001\n",
    "Name: 272, dtype: int64"
   ]
  },
  {
   "cell_type": "markdown",
   "id": "5bdff3e3",
   "metadata": {},
   "source": [
    "nombre_infected       175\n",
    "nombre_sain          2777\n",
    "nombre_exposed        132\n",
    "nombre_recovered    16916\n",
    "Name: 273, dtype: int64"
   ]
  },
  {
   "cell_type": "markdown",
   "id": "a5c36d48",
   "metadata": {},
   "source": [
    "nombre_infected       173\n",
    "nombre_sain          2842\n",
    "nombre_exposed        139\n",
    "nombre_recovered    16846\n",
    "Name: 274, dtype: int64"
   ]
  },
  {
   "cell_type": "markdown",
   "id": "3104ed72",
   "metadata": {},
   "source": [
    "nombre_infected       181\n",
    "nombre_sain          2910\n",
    "nombre_exposed        136\n",
    "nombre_recovered    16773\n",
    "Name: 275, dtype: int64"
   ]
  },
  {
   "cell_type": "markdown",
   "id": "5976f63d",
   "metadata": {},
   "source": [
    "nombre_infected       175\n",
    "nombre_sain          2945\n",
    "nombre_exposed        151\n",
    "nombre_recovered    16729\n",
    "Name: 276, dtype: int64"
   ]
  },
  {
   "cell_type": "markdown",
   "id": "5b4d42d3",
   "metadata": {},
   "source": [
    "nombre_infected       198\n",
    "nombre_sain          2999\n",
    "nombre_exposed        132\n",
    "nombre_recovered    16671\n",
    "Name: 277, dtype: int64"
   ]
  },
  {
   "cell_type": "markdown",
   "id": "17f9cef0",
   "metadata": {},
   "source": [
    "nombre_infected       203\n",
    "nombre_sain          3029\n",
    "nombre_exposed        147\n",
    "nombre_recovered    16621\n",
    "Name: 278, dtype: int64"
   ]
  },
  {
   "cell_type": "markdown",
   "id": "1c81599a",
   "metadata": {},
   "source": [
    "nombre_infected       204\n",
    "nombre_sain          3088\n",
    "nombre_exposed        158\n",
    "nombre_recovered    16550\n",
    "Name: 279, dtype: int64"
   ]
  },
  {
   "cell_type": "markdown",
   "id": "fcbe0f6d",
   "metadata": {},
   "source": [
    "nombre_infected       208\n",
    "nombre_sain          3122\n",
    "nombre_exposed        168\n",
    "nombre_recovered    16502\n",
    "Name: 280, dtype: int64"
   ]
  },
  {
   "cell_type": "markdown",
   "id": "92e0d028",
   "metadata": {},
   "source": [
    "nombre_infected       219\n",
    "nombre_sain          3166\n",
    "nombre_exposed        176\n",
    "nombre_recovered    16439\n",
    "Name: 281, dtype: int64"
   ]
  },
  {
   "cell_type": "markdown",
   "id": "80b12b48",
   "metadata": {},
   "source": [
    "nombre_infected       230\n",
    "nombre_sain          3208\n",
    "nombre_exposed        190\n",
    "nombre_recovered    16372\n",
    "Name: 282, dtype: int64"
   ]
  },
  {
   "cell_type": "markdown",
   "id": "7b6a0abf",
   "metadata": {},
   "source": [
    "nombre_infected       233\n",
    "nombre_sain          3232\n",
    "nombre_exposed        197\n",
    "nombre_recovered    16338\n",
    "Name: 283, dtype: int64"
   ]
  },
  {
   "cell_type": "markdown",
   "id": "4d607bf1",
   "metadata": {},
   "source": [
    "nombre_infected       239\n",
    "nombre_sain          3274\n",
    "nombre_exposed        200\n",
    "nombre_recovered    16287\n",
    "Name: 284, dtype: int64"
   ]
  },
  {
   "cell_type": "markdown",
   "id": "eea57561",
   "metadata": {},
   "source": [
    "nombre_infected       263\n",
    "nombre_sain          3347\n",
    "nombre_exposed        180\n",
    "nombre_recovered    16210\n",
    "Name: 285, dtype: int64"
   ]
  },
  {
   "cell_type": "markdown",
   "id": "182b1d1d",
   "metadata": {},
   "source": [
    "nombre_infected       258\n",
    "nombre_sain          3387\n",
    "nombre_exposed        193\n",
    "nombre_recovered    16162\n",
    "Name: 286, dtype: int64"
   ]
  },
  {
   "cell_type": "markdown",
   "id": "4502b73d",
   "metadata": {},
   "source": [
    "nombre_infected       261\n",
    "nombre_sain          3413\n",
    "nombre_exposed        207\n",
    "nombre_recovered    16119\n",
    "Name: 287, dtype: int64"
   ]
  },
  {
   "cell_type": "markdown",
   "id": "1c07c0da",
   "metadata": {},
   "source": [
    "nombre_infected       273\n",
    "nombre_sain          3446\n",
    "nombre_exposed        224\n",
    "nombre_recovered    16057\n",
    "Name: 288, dtype: int64"
   ]
  },
  {
   "cell_type": "markdown",
   "id": "ae3455d0",
   "metadata": {},
   "source": [
    "nombre_infected       285\n",
    "nombre_sain          3465\n",
    "nombre_exposed        245\n",
    "nombre_recovered    16005\n",
    "Name: 289, dtype: int64"
   ]
  },
  {
   "cell_type": "markdown",
   "id": "30fe26e7",
   "metadata": {},
   "source": [
    "nombre_infected       300\n",
    "nombre_sain          3486\n",
    "nombre_exposed        257\n",
    "nombre_recovered    15957\n",
    "Name: 290, dtype: int64"
   ]
  },
  {
   "cell_type": "markdown",
   "id": "0dd7d553",
   "metadata": {},
   "source": [
    "nombre_infected       325\n",
    "nombre_sain          3484\n",
    "nombre_exposed        279\n",
    "nombre_recovered    15912\n",
    "Name: 291, dtype: int64"
   ]
  },
  {
   "cell_type": "markdown",
   "id": "2e404dc3",
   "metadata": {},
   "source": [
    "nombre_infected       327\n",
    "nombre_sain          3511\n",
    "nombre_exposed        293\n",
    "nombre_recovered    15869\n",
    "Name: 292, dtype: int64"
   ]
  },
  {
   "cell_type": "markdown",
   "id": "bd0684ae",
   "metadata": {},
   "source": [
    "nombre_infected       347\n",
    "nombre_sain          3521\n",
    "nombre_exposed        303\n",
    "nombre_recovered    15829\n",
    "Name: 293, dtype: int64"
   ]
  },
  {
   "cell_type": "markdown",
   "id": "38f20ee5",
   "metadata": {},
   "source": [
    "nombre_infected       373\n",
    "nombre_sain          3536\n",
    "nombre_exposed        315\n",
    "nombre_recovered    15776\n",
    "Name: 294, dtype: int64"
   ]
  },
  {
   "cell_type": "markdown",
   "id": "d6091db9",
   "metadata": {},
   "source": [
    "nombre_infected       366\n",
    "nombre_sain          3537\n",
    "nombre_exposed        352\n",
    "nombre_recovered    15745\n",
    "Name: 295, dtype: int64"
   ]
  },
  {
   "cell_type": "markdown",
   "id": "1f333a1d",
   "metadata": {},
   "source": [
    "nombre_infected       389\n",
    "nombre_sain          3553\n",
    "nombre_exposed        363\n",
    "nombre_recovered    15695\n",
    "Name: 296, dtype: int64"
   ]
  },
  {
   "cell_type": "markdown",
   "id": "31a6233e",
   "metadata": {},
   "source": [
    "nombre_infected       436\n",
    "nombre_sain          3536\n",
    "nombre_exposed        361\n",
    "nombre_recovered    15667\n",
    "Name: 297, dtype: int64"
   ]
  },
  {
   "cell_type": "markdown",
   "id": "6fbd4dbd",
   "metadata": {},
   "source": [
    "nombre_infected       460\n",
    "nombre_sain          3522\n",
    "nombre_exposed        390\n",
    "nombre_recovered    15628\n",
    "Name: 298, dtype: int64"
   ]
  },
  {
   "cell_type": "markdown",
   "id": "2fafd86e",
   "metadata": {},
   "source": [
    "nombre_infected       502\n",
    "nombre_sain          3508\n",
    "nombre_exposed        404\n",
    "nombre_recovered    15586\n",
    "Name: 299, dtype: int64"
   ]
  },
  {
   "cell_type": "markdown",
   "id": "0c262f89",
   "metadata": {},
   "source": [
    "nombre_infected       538\n",
    "nombre_sain          3466\n",
    "nombre_exposed        453\n",
    "nombre_recovered    15543\n",
    "Name: 300, dtype: int64"
   ]
  },
  {
   "cell_type": "markdown",
   "id": "eff26fa7",
   "metadata": {},
   "source": [
    "nombre_infected       547\n",
    "nombre_sain          3423\n",
    "nombre_exposed        495\n",
    "nombre_recovered    15535\n",
    "Name: 301, dtype: int64"
   ]
  },
  {
   "cell_type": "markdown",
   "id": "706bf6d8",
   "metadata": {},
   "source": [
    "nombre_infected       586\n",
    "nombre_sain          3393\n",
    "nombre_exposed        514\n",
    "nombre_recovered    15507\n",
    "Name: 302, dtype: int64"
   ]
  },
  {
   "cell_type": "markdown",
   "id": "f0ae92f5",
   "metadata": {},
   "source": [
    "nombre_infected       621\n",
    "nombre_sain          3345\n",
    "nombre_exposed        525\n",
    "nombre_recovered    15509\n",
    "Name: 303, dtype: int64"
   ]
  },
  {
   "cell_type": "markdown",
   "id": "ea70e2c4",
   "metadata": {},
   "source": [
    "nombre_infected       663\n",
    "nombre_sain          3287\n",
    "nombre_exposed        533\n",
    "nombre_recovered    15517\n",
    "Name: 304, dtype: int64"
   ]
  },
  {
   "cell_type": "markdown",
   "id": "c6166aa8",
   "metadata": {},
   "source": [
    "nombre_infected       701\n",
    "nombre_sain          3208\n",
    "nombre_exposed        575\n",
    "nombre_recovered    15516\n",
    "Name: 305, dtype: int64"
   ]
  },
  {
   "cell_type": "markdown",
   "id": "07a1863d",
   "metadata": {},
   "source": [
    "nombre_infected       748\n",
    "nombre_sain          3125\n",
    "nombre_exposed        593\n",
    "nombre_recovered    15534\n",
    "Name: 306, dtype: int64"
   ]
  },
  {
   "cell_type": "markdown",
   "id": "15013ac0",
   "metadata": {},
   "source": [
    "nombre_infected       801\n",
    "nombre_sain          3031\n",
    "nombre_exposed        624\n",
    "nombre_recovered    15544\n",
    "Name: 307, dtype: int64"
   ]
  },
  {
   "cell_type": "markdown",
   "id": "e7f7175a",
   "metadata": {},
   "source": [
    "nombre_infected       825\n",
    "nombre_sain          2942\n",
    "nombre_exposed        661\n",
    "nombre_recovered    15572\n",
    "Name: 308, dtype: int64"
   ]
  },
  {
   "cell_type": "markdown",
   "id": "9411d322",
   "metadata": {},
   "source": [
    "nombre_infected       878\n",
    "nombre_sain          2882\n",
    "nombre_exposed        662\n",
    "nombre_recovered    15578\n",
    "Name: 309, dtype: int64"
   ]
  },
  {
   "cell_type": "markdown",
   "id": "8ee46f59",
   "metadata": {},
   "source": [
    "nombre_infected       892\n",
    "nombre_sain          2785\n",
    "nombre_exposed        693\n",
    "nombre_recovered    15630\n",
    "Name: 310, dtype: int64"
   ]
  },
  {
   "cell_type": "markdown",
   "id": "55e417a6",
   "metadata": {},
   "source": [
    "nombre_infected       940\n",
    "nombre_sain          2703\n",
    "nombre_exposed        696\n",
    "nombre_recovered    15661\n",
    "Name: 311, dtype: int64"
   ]
  },
  {
   "cell_type": "markdown",
   "id": "1611979b",
   "metadata": {},
   "source": [
    "nombre_infected       967\n",
    "nombre_sain          2622\n",
    "nombre_exposed        699\n",
    "nombre_recovered    15712\n",
    "Name: 312, dtype: int64"
   ]
  },
  {
   "cell_type": "markdown",
   "id": "0ef732c5",
   "metadata": {},
   "source": [
    "nombre_infected      1034\n",
    "nombre_sain          2563\n",
    "nombre_exposed        662\n",
    "nombre_recovered    15741\n",
    "Name: 313, dtype: int64"
   ]
  },
  {
   "cell_type": "markdown",
   "id": "81f20dc6",
   "metadata": {},
   "source": [
    "nombre_infected      1048\n",
    "nombre_sain          2468\n",
    "nombre_exposed        689\n",
    "nombre_recovered    15795\n",
    "Name: 314, dtype: int64"
   ]
  },
  {
   "cell_type": "markdown",
   "id": "eba36964",
   "metadata": {},
   "source": [
    "nombre_infected      1046\n",
    "nombre_sain          2431\n",
    "nombre_exposed        696\n",
    "nombre_recovered    15827\n",
    "Name: 315, dtype: int64"
   ]
  },
  {
   "cell_type": "markdown",
   "id": "63646e37",
   "metadata": {},
   "source": [
    "nombre_infected      1077\n",
    "nombre_sain          2369\n",
    "nombre_exposed        698\n",
    "nombre_recovered    15856\n",
    "Name: 316, dtype: int64"
   ]
  },
  {
   "cell_type": "markdown",
   "id": "43201f29",
   "metadata": {},
   "source": [
    "nombre_infected      1115\n",
    "nombre_sain          2305\n",
    "nombre_exposed        708\n",
    "nombre_recovered    15872\n",
    "Name: 317, dtype: int64"
   ]
  },
  {
   "cell_type": "markdown",
   "id": "4359992c",
   "metadata": {},
   "source": [
    "nombre_infected      1139\n",
    "nombre_sain          2268\n",
    "nombre_exposed        687\n",
    "nombre_recovered    15906\n",
    "Name: 318, dtype: int64"
   ]
  },
  {
   "cell_type": "markdown",
   "id": "24763fce",
   "metadata": {},
   "source": [
    "nombre_infected      1157\n",
    "nombre_sain          2194\n",
    "nombre_exposed        695\n",
    "nombre_recovered    15954\n",
    "Name: 319, dtype: int64"
   ]
  },
  {
   "cell_type": "markdown",
   "id": "4a542230",
   "metadata": {},
   "source": [
    "nombre_infected      1166\n",
    "nombre_sain          2150\n",
    "nombre_exposed        689\n",
    "nombre_recovered    15995\n",
    "Name: 320, dtype: int64"
   ]
  },
  {
   "cell_type": "markdown",
   "id": "610339c1",
   "metadata": {},
   "source": [
    "nombre_infected      1174\n",
    "nombre_sain          2114\n",
    "nombre_exposed        690\n",
    "nombre_recovered    16022\n",
    "Name: 321, dtype: int64"
   ]
  },
  {
   "cell_type": "markdown",
   "id": "dace2f6f",
   "metadata": {},
   "source": [
    "nombre_infected      1186\n",
    "nombre_sain          2036\n",
    "nombre_exposed        677\n",
    "nombre_recovered    16101\n",
    "Name: 322, dtype: int64"
   ]
  },
  {
   "cell_type": "markdown",
   "id": "74d48858",
   "metadata": {},
   "source": [
    "nombre_infected      1215\n",
    "nombre_sain          2020\n",
    "nombre_exposed        653\n",
    "nombre_recovered    16112\n",
    "Name: 323, dtype: int64"
   ]
  },
  {
   "cell_type": "markdown",
   "id": "3af25577",
   "metadata": {},
   "source": [
    "nombre_infected      1195\n",
    "nombre_sain          1972\n",
    "nombre_exposed        671\n",
    "nombre_recovered    16162\n",
    "Name: 324, dtype: int64"
   ]
  },
  {
   "cell_type": "markdown",
   "id": "3ee8ece7",
   "metadata": {},
   "source": [
    "nombre_infected      1171\n",
    "nombre_sain          1927\n",
    "nombre_exposed        687\n",
    "nombre_recovered    16215\n",
    "Name: 325, dtype: int64"
   ]
  },
  {
   "cell_type": "markdown",
   "id": "48c21af2",
   "metadata": {},
   "source": [
    "nombre_infected      1148\n",
    "nombre_sain          1879\n",
    "nombre_exposed        690\n",
    "nombre_recovered    16283\n",
    "Name: 326, dtype: int64"
   ]
  },
  {
   "cell_type": "markdown",
   "id": "41a2d432",
   "metadata": {},
   "source": [
    "nombre_infected      1138\n",
    "nombre_sain          1834\n",
    "nombre_exposed        679\n",
    "nombre_recovered    16349\n",
    "Name: 327, dtype: int64"
   ]
  },
  {
   "cell_type": "markdown",
   "id": "bda89514",
   "metadata": {},
   "source": [
    "nombre_infected      1138\n",
    "nombre_sain          1803\n",
    "nombre_exposed        659\n",
    "nombre_recovered    16400\n",
    "Name: 328, dtype: int64"
   ]
  },
  {
   "cell_type": "markdown",
   "id": "fd92f008",
   "metadata": {},
   "source": [
    "nombre_infected      1124\n",
    "nombre_sain          1787\n",
    "nombre_exposed        635\n",
    "nombre_recovered    16454\n",
    "Name: 329, dtype: int64"
   ]
  },
  {
   "cell_type": "markdown",
   "id": "924c041e",
   "metadata": {},
   "source": [
    "nombre_infected      1127\n",
    "nombre_sain          1776\n",
    "nombre_exposed        608\n",
    "nombre_recovered    16489\n",
    "Name: 330, dtype: int64"
   ]
  },
  {
   "cell_type": "markdown",
   "id": "eac287bf",
   "metadata": {},
   "source": [
    "nombre_infected      1134\n",
    "nombre_sain          1746\n",
    "nombre_exposed        592\n",
    "nombre_recovered    16528\n",
    "Name: 331, dtype: int64"
   ]
  },
  {
   "cell_type": "markdown",
   "id": "18cdeb29",
   "metadata": {},
   "source": [
    "nombre_infected      1090\n",
    "nombre_sain          1735\n",
    "nombre_exposed        561\n",
    "nombre_recovered    16614\n",
    "Name: 332, dtype: int64"
   ]
  },
  {
   "cell_type": "markdown",
   "id": "d8d7f839",
   "metadata": {},
   "source": [
    "nombre_infected      1077\n",
    "nombre_sain          1737\n",
    "nombre_exposed        534\n",
    "nombre_recovered    16652\n",
    "Name: 333, dtype: int64"
   ]
  },
  {
   "cell_type": "markdown",
   "id": "eec61b14",
   "metadata": {},
   "source": [
    "nombre_infected      1058\n",
    "nombre_sain          1713\n",
    "nombre_exposed        520\n",
    "nombre_recovered    16709\n",
    "Name: 334, dtype: int64"
   ]
  },
  {
   "cell_type": "markdown",
   "id": "370e1c5a",
   "metadata": {},
   "source": [
    "nombre_infected      1017\n",
    "nombre_sain          1711\n",
    "nombre_exposed        514\n",
    "nombre_recovered    16758\n",
    "Name: 335, dtype: int64"
   ]
  },
  {
   "cell_type": "markdown",
   "id": "5915faef",
   "metadata": {},
   "source": [
    "nombre_infected      1011\n",
    "nombre_sain          1711\n",
    "nombre_exposed        505\n",
    "nombre_recovered    16773\n",
    "Name: 336, dtype: int64"
   ]
  },
  {
   "cell_type": "markdown",
   "id": "cd558af3",
   "metadata": {},
   "source": [
    "nombre_infected       968\n",
    "nombre_sain          1696\n",
    "nombre_exposed        494\n",
    "nombre_recovered    16842\n",
    "Name: 337, dtype: int64"
   ]
  },
  {
   "cell_type": "markdown",
   "id": "c53e4653",
   "metadata": {},
   "source": [
    "nombre_infected       996\n",
    "nombre_sain          1693\n",
    "nombre_exposed        470\n",
    "nombre_recovered    16841\n",
    "Name: 338, dtype: int64"
   ]
  },
  {
   "cell_type": "markdown",
   "id": "4a0e3bee",
   "metadata": {},
   "source": [
    "nombre_infected       979\n",
    "nombre_sain          1660\n",
    "nombre_exposed        467\n",
    "nombre_recovered    16894\n",
    "Name: 339, dtype: int64"
   ]
  },
  {
   "cell_type": "markdown",
   "id": "266cc0dc",
   "metadata": {},
   "source": [
    "nombre_infected       934\n",
    "nombre_sain          1669\n",
    "nombre_exposed        472\n",
    "nombre_recovered    16925\n",
    "Name: 340, dtype: int64"
   ]
  },
  {
   "cell_type": "markdown",
   "id": "c833b175",
   "metadata": {},
   "source": [
    "nombre_infected       916\n",
    "nombre_sain          1650\n",
    "nombre_exposed        471\n",
    "nombre_recovered    16963\n",
    "Name: 341, dtype: int64"
   ]
  },
  {
   "cell_type": "markdown",
   "id": "6facc14e",
   "metadata": {},
   "source": [
    "nombre_infected       917\n",
    "nombre_sain          1662\n",
    "nombre_exposed        448\n",
    "nombre_recovered    16973\n",
    "Name: 342, dtype: int64"
   ]
  },
  {
   "cell_type": "markdown",
   "id": "b0f03f08",
   "metadata": {},
   "source": [
    "nombre_infected       886\n",
    "nombre_sain          1666\n",
    "nombre_exposed        454\n",
    "nombre_recovered    16994\n",
    "Name: 343, dtype: int64"
   ]
  },
  {
   "cell_type": "markdown",
   "id": "f1933b45",
   "metadata": {},
   "source": [
    "nombre_infected       882\n",
    "nombre_sain          1674\n",
    "nombre_exposed        430\n",
    "nombre_recovered    17014\n",
    "Name: 344, dtype: int64"
   ]
  },
  {
   "cell_type": "markdown",
   "id": "4b358ced",
   "metadata": {},
   "source": [
    "nombre_infected       869\n",
    "nombre_sain          1658\n",
    "nombre_exposed        435\n",
    "nombre_recovered    17038\n",
    "Name: 345, dtype: int64"
   ]
  },
  {
   "cell_type": "markdown",
   "id": "97d462d3",
   "metadata": {},
   "source": [
    "nombre_infected       847\n",
    "nombre_sain          1653\n",
    "nombre_exposed        422\n",
    "nombre_recovered    17078\n",
    "Name: 346, dtype: int64"
   ]
  },
  {
   "cell_type": "markdown",
   "id": "bb28f9e3",
   "metadata": {},
   "source": [
    "nombre_infected       831\n",
    "nombre_sain          1650\n",
    "nombre_exposed        409\n",
    "nombre_recovered    17110\n",
    "Name: 347, dtype: int64"
   ]
  },
  {
   "cell_type": "markdown",
   "id": "72a24aa1",
   "metadata": {},
   "source": [
    "nombre_infected       819\n",
    "nombre_sain          1641\n",
    "nombre_exposed        416\n",
    "nombre_recovered    17124\n",
    "Name: 348, dtype: int64"
   ]
  },
  {
   "cell_type": "markdown",
   "id": "8e62f599",
   "metadata": {},
   "source": [
    "nombre_infected       785\n",
    "nombre_sain          1654\n",
    "nombre_exposed        410\n",
    "nombre_recovered    17151\n",
    "Name: 349, dtype: int64"
   ]
  },
  {
   "cell_type": "markdown",
   "id": "00893b05",
   "metadata": {},
   "source": [
    "nombre_infected       759\n",
    "nombre_sain          1673\n",
    "nombre_exposed        413\n",
    "nombre_recovered    17155\n",
    "Name: 350, dtype: int64"
   ]
  },
  {
   "cell_type": "markdown",
   "id": "5b32b13d",
   "metadata": {},
   "source": [
    "nombre_infected       744\n",
    "nombre_sain          1671\n",
    "nombre_exposed        403\n",
    "nombre_recovered    17182\n",
    "Name: 351, dtype: int64"
   ]
  },
  {
   "cell_type": "markdown",
   "id": "5de5de3e",
   "metadata": {},
   "source": [
    "nombre_infected       750\n",
    "nombre_sain          1693\n",
    "nombre_exposed        365\n",
    "nombre_recovered    17192\n",
    "Name: 352, dtype: int64"
   ]
  },
  {
   "cell_type": "markdown",
   "id": "3344fc64",
   "metadata": {},
   "source": [
    "nombre_infected       755\n",
    "nombre_sain          1702\n",
    "nombre_exposed        337\n",
    "nombre_recovered    17206\n",
    "Name: 353, dtype: int64"
   ]
  },
  {
   "cell_type": "markdown",
   "id": "6831bf49",
   "metadata": {},
   "source": [
    "nombre_infected       732\n",
    "nombre_sain          1723\n",
    "nombre_exposed        317\n",
    "nombre_recovered    17228\n",
    "Name: 354, dtype: int64"
   ]
  },
  {
   "cell_type": "markdown",
   "id": "f42ae9c0",
   "metadata": {},
   "source": [
    "nombre_infected       711\n",
    "nombre_sain          1753\n",
    "nombre_exposed        309\n",
    "nombre_recovered    17227\n",
    "Name: 355, dtype: int64"
   ]
  },
  {
   "cell_type": "markdown",
   "id": "230583b6",
   "metadata": {},
   "source": [
    "nombre_infected       673\n",
    "nombre_sain          1786\n",
    "nombre_exposed        316\n",
    "nombre_recovered    17225\n",
    "Name: 356, dtype: int64"
   ]
  },
  {
   "cell_type": "markdown",
   "id": "0b665e34",
   "metadata": {},
   "source": [
    "nombre_infected       670\n",
    "nombre_sain          1825\n",
    "nombre_exposed        297\n",
    "nombre_recovered    17208\n",
    "Name: 357, dtype: int64"
   ]
  },
  {
   "cell_type": "markdown",
   "id": "8e026cad",
   "metadata": {},
   "source": [
    "nombre_infected       659\n",
    "nombre_sain          1843\n",
    "nombre_exposed        305\n",
    "nombre_recovered    17193\n",
    "Name: 358, dtype: int64"
   ]
  },
  {
   "cell_type": "markdown",
   "id": "d05657d9",
   "metadata": {},
   "source": [
    "nombre_infected       650\n",
    "nombre_sain          1857\n",
    "nombre_exposed        303\n",
    "nombre_recovered    17190\n",
    "Name: 359, dtype: int64"
   ]
  },
  {
   "cell_type": "markdown",
   "id": "7118d5d9",
   "metadata": {},
   "source": [
    "nombre_infected       641\n",
    "nombre_sain          1879\n",
    "nombre_exposed        310\n",
    "nombre_recovered    17170\n",
    "Name: 360, dtype: int64"
   ]
  },
  {
   "cell_type": "markdown",
   "id": "a53753d5",
   "metadata": {},
   "source": [
    "nombre_infected       620\n",
    "nombre_sain          1910\n",
    "nombre_exposed        311\n",
    "nombre_recovered    17159\n",
    "Name: 361, dtype: int64"
   ]
  },
  {
   "cell_type": "markdown",
   "id": "dfdec006",
   "metadata": {},
   "source": [
    "nombre_infected       607\n",
    "nombre_sain          1934\n",
    "nombre_exposed        311\n",
    "nombre_recovered    17148\n",
    "Name: 362, dtype: int64"
   ]
  },
  {
   "cell_type": "markdown",
   "id": "70e7125b",
   "metadata": {},
   "source": [
    "nombre_infected       602\n",
    "nombre_sain          1965\n",
    "nombre_exposed        312\n",
    "nombre_recovered    17121\n",
    "Name: 363, dtype: int64"
   ]
  },
  {
   "cell_type": "markdown",
   "id": "22b68da6",
   "metadata": {},
   "source": [
    "nombre_infected       567\n",
    "nombre_sain          1989\n",
    "nombre_exposed        326\n",
    "nombre_recovered    17118\n",
    "Name: 364, dtype: int64"
   ]
  },
  {
   "cell_type": "markdown",
   "id": "2f5ef542",
   "metadata": {},
   "source": [
    "nombre_infected       570\n",
    "nombre_sain          2028\n",
    "nombre_exposed        318\n",
    "nombre_recovered    17084\n",
    "Name: 365, dtype: int64"
   ]
  },
  {
   "cell_type": "markdown",
   "id": "ee66a3cb",
   "metadata": {},
   "source": [
    "nombre_infected       577\n",
    "nombre_sain          2087\n",
    "nombre_exposed        286\n",
    "nombre_recovered    17050\n",
    "Name: 366, dtype: int64"
   ]
  },
  {
   "cell_type": "markdown",
   "id": "bcdb1f4b",
   "metadata": {},
   "source": [
    "nombre_infected       577\n",
    "nombre_sain          2113\n",
    "nombre_exposed        274\n",
    "nombre_recovered    17036\n",
    "Name: 367, dtype: int64"
   ]
  },
  {
   "cell_type": "markdown",
   "id": "67f2dee5",
   "metadata": {},
   "source": [
    "nombre_infected       569\n",
    "nombre_sain          2146\n",
    "nombre_exposed        281\n",
    "nombre_recovered    17004\n",
    "Name: 368, dtype: int64"
   ]
  },
  {
   "cell_type": "markdown",
   "id": "5293c1a7",
   "metadata": {},
   "source": [
    "nombre_infected       547\n",
    "nombre_sain          2196\n",
    "nombre_exposed        285\n",
    "nombre_recovered    16972\n",
    "Name: 369, dtype: int64"
   ]
  },
  {
   "cell_type": "markdown",
   "id": "11c75c7c",
   "metadata": {},
   "source": [
    "nombre_infected       531\n",
    "nombre_sain          2227\n",
    "nombre_exposed        290\n",
    "nombre_recovered    16952\n",
    "Name: 370, dtype: int64"
   ]
  },
  {
   "cell_type": "markdown",
   "id": "acfe8171",
   "metadata": {},
   "source": [
    "nombre_infected       534\n",
    "nombre_sain          2261\n",
    "nombre_exposed        278\n",
    "nombre_recovered    16927\n",
    "Name: 371, dtype: int64"
   ]
  },
  {
   "cell_type": "markdown",
   "id": "cae36b4e",
   "metadata": {},
   "source": [
    "nombre_infected       528\n",
    "nombre_sain          2310\n",
    "nombre_exposed        290\n",
    "nombre_recovered    16872\n",
    "Name: 372, dtype: int64"
   ]
  },
  {
   "cell_type": "markdown",
   "id": "9b2a5337",
   "metadata": {},
   "source": [
    "nombre_infected       528\n",
    "nombre_sain          2325\n",
    "nombre_exposed        307\n",
    "nombre_recovered    16840\n",
    "Name: 373, dtype: int64"
   ]
  },
  {
   "cell_type": "markdown",
   "id": "17998011",
   "metadata": {},
   "source": [
    "nombre_infected       521\n",
    "nombre_sain          2345\n",
    "nombre_exposed        332\n",
    "nombre_recovered    16802\n",
    "Name: 374, dtype: int64"
   ]
  },
  {
   "cell_type": "markdown",
   "id": "5563634e",
   "metadata": {},
   "source": [
    "nombre_infected       546\n",
    "nombre_sain          2374\n",
    "nombre_exposed        340\n",
    "nombre_recovered    16740\n",
    "Name: 375, dtype: int64"
   ]
  },
  {
   "cell_type": "markdown",
   "id": "632139e0",
   "metadata": {},
   "source": [
    "nombre_infected       565\n",
    "nombre_sain          2394\n",
    "nombre_exposed        348\n",
    "nombre_recovered    16693\n",
    "Name: 376, dtype: int64"
   ]
  },
  {
   "cell_type": "markdown",
   "id": "d767801d",
   "metadata": {},
   "source": [
    "nombre_infected       566\n",
    "nombre_sain          2410\n",
    "nombre_exposed        365\n",
    "nombre_recovered    16659\n",
    "Name: 377, dtype: int64"
   ]
  },
  {
   "cell_type": "markdown",
   "id": "05f7e770",
   "metadata": {},
   "source": [
    "nombre_infected       575\n",
    "nombre_sain          2439\n",
    "nombre_exposed        343\n",
    "nombre_recovered    16643\n",
    "Name: 378, dtype: int64"
   ]
  },
  {
   "cell_type": "markdown",
   "id": "1b5142b0",
   "metadata": {},
   "source": [
    "nombre_infected       569\n",
    "nombre_sain          2464\n",
    "nombre_exposed        334\n",
    "nombre_recovered    16633\n",
    "Name: 379, dtype: int64"
   ]
  },
  {
   "cell_type": "markdown",
   "id": "f7390ab8",
   "metadata": {},
   "source": [
    "nombre_infected       583\n",
    "nombre_sain          2487\n",
    "nombre_exposed        359\n",
    "nombre_recovered    16571\n",
    "Name: 380, dtype: int64"
   ]
  },
  {
   "cell_type": "markdown",
   "id": "5263e07d",
   "metadata": {},
   "source": [
    "nombre_infected       615\n",
    "nombre_sain          2485\n",
    "nombre_exposed        362\n",
    "nombre_recovered    16538\n",
    "Name: 381, dtype: int64"
   ]
  },
  {
   "cell_type": "markdown",
   "id": "ed7a4c28",
   "metadata": {},
   "source": [
    "nombre_infected       609\n",
    "nombre_sain          2476\n",
    "nombre_exposed        396\n",
    "nombre_recovered    16519\n",
    "Name: 382, dtype: int64"
   ]
  },
  {
   "cell_type": "markdown",
   "id": "f0b4f4c0",
   "metadata": {},
   "source": [
    "nombre_infected       594\n",
    "nombre_sain          2481\n",
    "nombre_exposed        403\n",
    "nombre_recovered    16522\n",
    "Name: 383, dtype: int64"
   ]
  },
  {
   "cell_type": "markdown",
   "id": "3a3d8d51",
   "metadata": {},
   "source": [
    "nombre_infected       626\n",
    "nombre_sain          2516\n",
    "nombre_exposed        385\n",
    "nombre_recovered    16473\n",
    "Name: 384, dtype: int64"
   ]
  },
  {
   "cell_type": "markdown",
   "id": "2464a6ec",
   "metadata": {},
   "source": [
    "nombre_infected       633\n",
    "nombre_sain          2513\n",
    "nombre_exposed        379\n",
    "nombre_recovered    16475\n",
    "Name: 385, dtype: int64"
   ]
  },
  {
   "cell_type": "markdown",
   "id": "95df8528",
   "metadata": {},
   "source": [
    "nombre_infected       637\n",
    "nombre_sain          2523\n",
    "nombre_exposed        377\n",
    "nombre_recovered    16463\n",
    "Name: 386, dtype: int64"
   ]
  },
  {
   "cell_type": "markdown",
   "id": "3fb1da74",
   "metadata": {},
   "source": [
    "nombre_infected       649\n",
    "nombre_sain          2522\n",
    "nombre_exposed        400\n",
    "nombre_recovered    16429\n",
    "Name: 387, dtype: int64"
   ]
  },
  {
   "cell_type": "markdown",
   "id": "77f70260",
   "metadata": {},
   "source": [
    "nombre_infected       667\n",
    "nombre_sain          2521\n",
    "nombre_exposed        406\n",
    "nombre_recovered    16406\n",
    "Name: 388, dtype: int64"
   ]
  },
  {
   "cell_type": "markdown",
   "id": "7dae0a3b",
   "metadata": {},
   "source": [
    "nombre_infected       669\n",
    "nombre_sain          2512\n",
    "nombre_exposed        404\n",
    "nombre_recovered    16415\n",
    "Name: 389, dtype: int64"
   ]
  },
  {
   "cell_type": "markdown",
   "id": "627707d9",
   "metadata": {},
   "source": [
    "nombre_infected       690\n",
    "nombre_sain          2522\n",
    "nombre_exposed        400\n",
    "nombre_recovered    16388\n",
    "Name: 390, dtype: int64"
   ]
  },
  {
   "cell_type": "markdown",
   "id": "676e2c7a",
   "metadata": {},
   "source": [
    "nombre_infected       683\n",
    "nombre_sain          2500\n",
    "nombre_exposed        445\n",
    "nombre_recovered    16372\n",
    "Name: 391, dtype: int64"
   ]
  },
  {
   "cell_type": "markdown",
   "id": "c56b5493",
   "metadata": {},
   "source": [
    "nombre_infected       683\n",
    "nombre_sain          2532\n",
    "nombre_exposed        452\n",
    "nombre_recovered    16333\n",
    "Name: 392, dtype: int64"
   ]
  },
  {
   "cell_type": "markdown",
   "id": "a48010a9",
   "metadata": {},
   "source": [
    "nombre_infected       703\n",
    "nombre_sain          2559\n",
    "nombre_exposed        454\n",
    "nombre_recovered    16284\n",
    "Name: 393, dtype: int64"
   ]
  },
  {
   "cell_type": "markdown",
   "id": "60c8a5e0",
   "metadata": {},
   "source": [
    "nombre_infected       722\n",
    "nombre_sain          2555\n",
    "nombre_exposed        451\n",
    "nombre_recovered    16272\n",
    "Name: 394, dtype: int64"
   ]
  },
  {
   "cell_type": "markdown",
   "id": "e7815197",
   "metadata": {},
   "source": [
    "nombre_infected       748\n",
    "nombre_sain          2544\n",
    "nombre_exposed        458\n",
    "nombre_recovered    16250\n",
    "Name: 395, dtype: int64"
   ]
  },
  {
   "cell_type": "markdown",
   "id": "4375a792",
   "metadata": {},
   "source": [
    "nombre_infected       759\n",
    "nombre_sain          2570\n",
    "nombre_exposed        483\n",
    "nombre_recovered    16188\n",
    "Name: 396, dtype: int64"
   ]
  },
  {
   "cell_type": "markdown",
   "id": "af661012",
   "metadata": {},
   "source": [
    "nombre_infected       780\n",
    "nombre_sain          2568\n",
    "nombre_exposed        466\n",
    "nombre_recovered    16186\n",
    "Name: 397, dtype: int64"
   ]
  },
  {
   "cell_type": "markdown",
   "id": "562c6feb",
   "metadata": {},
   "source": [
    "nombre_infected       828\n",
    "nombre_sain          2577\n",
    "nombre_exposed        451\n",
    "nombre_recovered    16144\n",
    "Name: 398, dtype: int64"
   ]
  },
  {
   "cell_type": "markdown",
   "id": "69d057bb",
   "metadata": {},
   "source": [
    "nombre_infected       842\n",
    "nombre_sain          2583\n",
    "nombre_exposed        462\n",
    "nombre_recovered    16113\n",
    "Name: 399, dtype: int64"
   ]
  },
  {
   "cell_type": "markdown",
   "id": "a72942ea",
   "metadata": {},
   "source": [
    "nombre_infected       831\n",
    "nombre_sain          2571\n",
    "nombre_exposed        483\n",
    "nombre_recovered    16115\n",
    "Name: 400, dtype: int64"
   ]
  },
  {
   "cell_type": "markdown",
   "id": "4fbe58fe",
   "metadata": {},
   "source": [
    "nombre_infected       851\n",
    "nombre_sain          2534\n",
    "nombre_exposed        489\n",
    "nombre_recovered    16126\n",
    "Name: 401, dtype: int64"
   ]
  },
  {
   "cell_type": "markdown",
   "id": "455d5fb9",
   "metadata": {},
   "source": [
    "nombre_infected       868\n",
    "nombre_sain          2465\n",
    "nombre_exposed        525\n",
    "nombre_recovered    16142\n",
    "Name: 402, dtype: int64"
   ]
  },
  {
   "cell_type": "markdown",
   "id": "42f3e4b6",
   "metadata": {},
   "source": [
    "nombre_infected       893\n",
    "nombre_sain          2449\n",
    "nombre_exposed        504\n",
    "nombre_recovered    16154\n",
    "Name: 403, dtype: int64"
   ]
  },
  {
   "cell_type": "markdown",
   "id": "fd8ba5b0",
   "metadata": {},
   "source": [
    "nombre_infected       898\n",
    "nombre_sain          2419\n",
    "nombre_exposed        513\n",
    "nombre_recovered    16170\n",
    "Name: 404, dtype: int64"
   ]
  },
  {
   "cell_type": "markdown",
   "id": "039201ff",
   "metadata": {},
   "source": [
    "nombre_infected       946\n",
    "nombre_sain          2369\n",
    "nombre_exposed        506\n",
    "nombre_recovered    16179\n",
    "Name: 405, dtype: int64"
   ]
  },
  {
   "cell_type": "markdown",
   "id": "1d4f1670",
   "metadata": {},
   "source": [
    "nombre_infected       960\n",
    "nombre_sain          2344\n",
    "nombre_exposed        505\n",
    "nombre_recovered    16191\n",
    "Name: 406, dtype: int64"
   ]
  },
  {
   "cell_type": "markdown",
   "id": "4107fd23",
   "metadata": {},
   "source": [
    "nombre_infected       960\n",
    "nombre_sain          2288\n",
    "nombre_exposed        511\n",
    "nombre_recovered    16241\n",
    "Name: 407, dtype: int64"
   ]
  },
  {
   "cell_type": "markdown",
   "id": "35dde9cc",
   "metadata": {},
   "source": [
    "nombre_infected       967\n",
    "nombre_sain          2223\n",
    "nombre_exposed        536\n",
    "nombre_recovered    16274\n",
    "Name: 408, dtype: int64"
   ]
  },
  {
   "cell_type": "markdown",
   "id": "3b11836e",
   "metadata": {},
   "source": [
    "nombre_infected       953\n",
    "nombre_sain          2179\n",
    "nombre_exposed        543\n",
    "nombre_recovered    16325\n",
    "Name: 409, dtype: int64"
   ]
  },
  {
   "cell_type": "markdown",
   "id": "c5f2812a",
   "metadata": {},
   "source": [
    "nombre_infected       998\n",
    "nombre_sain          2097\n",
    "nombre_exposed        563\n",
    "nombre_recovered    16342\n",
    "Name: 410, dtype: int64"
   ]
  },
  {
   "cell_type": "markdown",
   "id": "66209b5e",
   "metadata": {},
   "source": [
    "nombre_infected      1027\n",
    "nombre_sain          2054\n",
    "nombre_exposed        560\n",
    "nombre_recovered    16359\n",
    "Name: 411, dtype: int64"
   ]
  },
  {
   "cell_type": "markdown",
   "id": "5fb8cfb8",
   "metadata": {},
   "source": [
    "nombre_infected      1047\n",
    "nombre_sain          1982\n",
    "nombre_exposed        576\n",
    "nombre_recovered    16395\n",
    "Name: 412, dtype: int64"
   ]
  },
  {
   "cell_type": "markdown",
   "id": "e4ec3b68",
   "metadata": {},
   "source": [
    "nombre_infected      1059\n",
    "nombre_sain          1935\n",
    "nombre_exposed        548\n",
    "nombre_recovered    16458\n",
    "Name: 413, dtype: int64"
   ]
  },
  {
   "cell_type": "markdown",
   "id": "4e671e45",
   "metadata": {},
   "source": [
    "nombre_infected      1067\n",
    "nombre_sain          1895\n",
    "nombre_exposed        542\n",
    "nombre_recovered    16496\n",
    "Name: 414, dtype: int64"
   ]
  },
  {
   "cell_type": "markdown",
   "id": "076219ba",
   "metadata": {},
   "source": [
    "nombre_infected      1078\n",
    "nombre_sain          1861\n",
    "nombre_exposed        528\n",
    "nombre_recovered    16533\n",
    "Name: 415, dtype: int64"
   ]
  },
  {
   "cell_type": "markdown",
   "id": "03ba0214",
   "metadata": {},
   "source": [
    "nombre_infected      1056\n",
    "nombre_sain          1810\n",
    "nombre_exposed        531\n",
    "nombre_recovered    16603\n",
    "Name: 416, dtype: int64"
   ]
  },
  {
   "cell_type": "markdown",
   "id": "a0faf5bc",
   "metadata": {},
   "source": [
    "nombre_infected      1044\n",
    "nombre_sain          1789\n",
    "nombre_exposed        530\n",
    "nombre_recovered    16637\n",
    "Name: 417, dtype: int64"
   ]
  },
  {
   "cell_type": "markdown",
   "id": "a699a47d",
   "metadata": {},
   "source": [
    "nombre_infected      1056\n",
    "nombre_sain          1775\n",
    "nombre_exposed        512\n",
    "nombre_recovered    16657\n",
    "Name: 418, dtype: int64"
   ]
  },
  {
   "cell_type": "markdown",
   "id": "dbe0794b",
   "metadata": {},
   "source": [
    "nombre_infected      1009\n",
    "nombre_sain          1755\n",
    "nombre_exposed        514\n",
    "nombre_recovered    16722\n",
    "Name: 419, dtype: int64"
   ]
  },
  {
   "cell_type": "markdown",
   "id": "39af74d6",
   "metadata": {},
   "source": [
    "nombre_infected       996\n",
    "nombre_sain          1746\n",
    "nombre_exposed        483\n",
    "nombre_recovered    16775\n",
    "Name: 420, dtype: int64"
   ]
  },
  {
   "cell_type": "markdown",
   "id": "b73e2bbf",
   "metadata": {},
   "source": [
    "nombre_infected       978\n",
    "nombre_sain          1747\n",
    "nombre_exposed        452\n",
    "nombre_recovered    16823\n",
    "Name: 421, dtype: int64"
   ]
  },
  {
   "cell_type": "markdown",
   "id": "bb4ed7bd",
   "metadata": {},
   "source": [
    "nombre_infected       981\n",
    "nombre_sain          1739\n",
    "nombre_exposed        421\n",
    "nombre_recovered    16859\n",
    "Name: 422, dtype: int64"
   ]
  },
  {
   "cell_type": "markdown",
   "id": "04e06b87",
   "metadata": {},
   "source": [
    "nombre_infected       960\n",
    "nombre_sain          1726\n",
    "nombre_exposed        421\n",
    "nombre_recovered    16893\n",
    "Name: 423, dtype: int64"
   ]
  },
  {
   "cell_type": "markdown",
   "id": "4392e143",
   "metadata": {},
   "source": [
    "nombre_infected       965\n",
    "nombre_sain          1709\n",
    "nombre_exposed        408\n",
    "nombre_recovered    16918\n",
    "Name: 424, dtype: int64"
   ]
  },
  {
   "cell_type": "markdown",
   "id": "0fd86bdc",
   "metadata": {},
   "source": [
    "nombre_infected       928\n",
    "nombre_sain          1697\n",
    "nombre_exposed        411\n",
    "nombre_recovered    16964\n",
    "Name: 425, dtype: int64"
   ]
  },
  {
   "cell_type": "markdown",
   "id": "5d5a5f65",
   "metadata": {},
   "source": [
    "nombre_infected       912\n",
    "nombre_sain          1679\n",
    "nombre_exposed        420\n",
    "nombre_recovered    16989\n",
    "Name: 426, dtype: int64"
   ]
  },
  {
   "cell_type": "markdown",
   "id": "2cac6ef2",
   "metadata": {},
   "source": [
    "nombre_infected       877\n",
    "nombre_sain          1712\n",
    "nombre_exposed        410\n",
    "nombre_recovered    17001\n",
    "Name: 427, dtype: int64"
   ]
  },
  {
   "cell_type": "markdown",
   "id": "da31ae07",
   "metadata": {},
   "source": [
    "nombre_infected       863\n",
    "nombre_sain          1727\n",
    "nombre_exposed        393\n",
    "nombre_recovered    17017\n",
    "Name: 428, dtype: int64"
   ]
  },
  {
   "cell_type": "markdown",
   "id": "7e48bc6f",
   "metadata": {},
   "source": [
    "nombre_infected       850\n",
    "nombre_sain          1743\n",
    "nombre_exposed        395\n",
    "nombre_recovered    17012\n",
    "Name: 429, dtype: int64"
   ]
  },
  {
   "cell_type": "markdown",
   "id": "6d8dc945",
   "metadata": {},
   "source": [
    "nombre_infected       806\n",
    "nombre_sain          1756\n",
    "nombre_exposed        404\n",
    "nombre_recovered    17034\n",
    "Name: 430, dtype: int64"
   ]
  },
  {
   "cell_type": "markdown",
   "id": "d1f3d8be",
   "metadata": {},
   "source": [
    "nombre_infected       786\n",
    "nombre_sain          1786\n",
    "nombre_exposed        384\n",
    "nombre_recovered    17044\n",
    "Name: 431, dtype: int64"
   ]
  },
  {
   "cell_type": "markdown",
   "id": "467e6f41",
   "metadata": {},
   "source": [
    "nombre_infected       770\n",
    "nombre_sain          1793\n",
    "nombre_exposed        385\n",
    "nombre_recovered    17052\n",
    "Name: 432, dtype: int64"
   ]
  },
  {
   "cell_type": "markdown",
   "id": "79158984",
   "metadata": {},
   "source": [
    "nombre_infected       756\n",
    "nombre_sain          1813\n",
    "nombre_exposed        372\n",
    "nombre_recovered    17059\n",
    "Name: 433, dtype: int64"
   ]
  },
  {
   "cell_type": "markdown",
   "id": "3bfb253e",
   "metadata": {},
   "source": [
    "nombre_infected       742\n",
    "nombre_sain          1821\n",
    "nombre_exposed        371\n",
    "nombre_recovered    17066\n",
    "Name: 434, dtype: int64"
   ]
  },
  {
   "cell_type": "markdown",
   "id": "aa0bdeee",
   "metadata": {},
   "source": [
    "nombre_infected       716\n",
    "nombre_sain          1857\n",
    "nombre_exposed        356\n",
    "nombre_recovered    17071\n",
    "Name: 435, dtype: int64"
   ]
  },
  {
   "cell_type": "markdown",
   "id": "d63dcb90",
   "metadata": {},
   "source": [
    "nombre_infected       687\n",
    "nombre_sain          1876\n",
    "nombre_exposed        357\n",
    "nombre_recovered    17080\n",
    "Name: 436, dtype: int64"
   ]
  },
  {
   "cell_type": "markdown",
   "id": "223e21a9",
   "metadata": {},
   "source": [
    "nombre_infected       669\n",
    "nombre_sain          1880\n",
    "nombre_exposed        364\n",
    "nombre_recovered    17087\n",
    "Name: 437, dtype: int64"
   ]
  },
  {
   "cell_type": "markdown",
   "id": "016b1caf",
   "metadata": {},
   "source": [
    "nombre_infected       647\n",
    "nombre_sain          1901\n",
    "nombre_exposed        370\n",
    "nombre_recovered    17082\n",
    "Name: 438, dtype: int64"
   ]
  },
  {
   "cell_type": "markdown",
   "id": "78a0ce47",
   "metadata": {},
   "source": [
    "nombre_infected       640\n",
    "nombre_sain          1909\n",
    "nombre_exposed        389\n",
    "nombre_recovered    17062\n",
    "Name: 439, dtype: int64"
   ]
  },
  {
   "cell_type": "markdown",
   "id": "461f439f",
   "metadata": {},
   "source": [
    "nombre_infected       633\n",
    "nombre_sain          1928\n",
    "nombre_exposed        373\n",
    "nombre_recovered    17066\n",
    "Name: 440, dtype: int64"
   ]
  },
  {
   "cell_type": "markdown",
   "id": "533352fa",
   "metadata": {},
   "source": [
    "nombre_infected       633\n",
    "nombre_sain          1959\n",
    "nombre_exposed        366\n",
    "nombre_recovered    17042\n",
    "Name: 441, dtype: int64"
   ]
  },
  {
   "cell_type": "markdown",
   "id": "f735c210",
   "metadata": {},
   "source": [
    "nombre_infected       620\n",
    "nombre_sain          1962\n",
    "nombre_exposed        354\n",
    "nombre_recovered    17064\n",
    "Name: 442, dtype: int64"
   ]
  },
  {
   "cell_type": "markdown",
   "id": "966716ef",
   "metadata": {},
   "source": [
    "nombre_infected       596\n",
    "nombre_sain          1976\n",
    "nombre_exposed        367\n",
    "nombre_recovered    17061\n",
    "Name: 443, dtype: int64"
   ]
  },
  {
   "cell_type": "markdown",
   "id": "bd84c99e",
   "metadata": {},
   "source": [
    "nombre_infected       587\n",
    "nombre_sain          1974\n",
    "nombre_exposed        365\n",
    "nombre_recovered    17074\n",
    "Name: 444, dtype: int64"
   ]
  },
  {
   "cell_type": "markdown",
   "id": "5c67e36d",
   "metadata": {},
   "source": [
    "nombre_infected       580\n",
    "nombre_sain          1990\n",
    "nombre_exposed        364\n",
    "nombre_recovered    17066\n",
    "Name: 445, dtype: int64"
   ]
  },
  {
   "cell_type": "markdown",
   "id": "2b7008c9",
   "metadata": {},
   "source": [
    "nombre_infected       583\n",
    "nombre_sain          1996\n",
    "nombre_exposed        370\n",
    "nombre_recovered    17051\n",
    "Name: 446, dtype: int64"
   ]
  },
  {
   "cell_type": "markdown",
   "id": "322e9ff4",
   "metadata": {},
   "source": [
    "nombre_infected       580\n",
    "nombre_sain          1999\n",
    "nombre_exposed        382\n",
    "nombre_recovered    17039\n",
    "Name: 447, dtype: int64"
   ]
  },
  {
   "cell_type": "markdown",
   "id": "bed604d0",
   "metadata": {},
   "source": [
    "nombre_infected       565\n",
    "nombre_sain          2032\n",
    "nombre_exposed        383\n",
    "nombre_recovered    17020\n",
    "Name: 448, dtype: int64"
   ]
  },
  {
   "cell_type": "markdown",
   "id": "bdbe8c8f",
   "metadata": {},
   "source": [
    "nombre_infected       583\n",
    "nombre_sain          2050\n",
    "nombre_exposed        366\n",
    "nombre_recovered    17001\n",
    "Name: 449, dtype: int64"
   ]
  },
  {
   "cell_type": "markdown",
   "id": "ee1c8f95",
   "metadata": {},
   "source": [
    "nombre_infected       578\n",
    "nombre_sain          2057\n",
    "nombre_exposed        358\n",
    "nombre_recovered    17007\n",
    "Name: 450, dtype: int64"
   ]
  },
  {
   "cell_type": "markdown",
   "id": "1298ae2e",
   "metadata": {},
   "source": [
    "nombre_infected       571\n",
    "nombre_sain          2077\n",
    "nombre_exposed        362\n",
    "nombre_recovered    16990\n",
    "Name: 451, dtype: int64"
   ]
  },
  {
   "cell_type": "markdown",
   "id": "4589993c",
   "metadata": {},
   "source": [
    "nombre_infected       581\n",
    "nombre_sain          2100\n",
    "nombre_exposed        351\n",
    "nombre_recovered    16968\n",
    "Name: 452, dtype: int64"
   ]
  },
  {
   "cell_type": "markdown",
   "id": "3798ac62",
   "metadata": {},
   "source": [
    "nombre_infected       576\n",
    "nombre_sain          2102\n",
    "nombre_exposed        355\n",
    "nombre_recovered    16967\n",
    "Name: 453, dtype: int64"
   ]
  },
  {
   "cell_type": "markdown",
   "id": "af535e38",
   "metadata": {},
   "source": [
    "nombre_infected       581\n",
    "nombre_sain          2113\n",
    "nombre_exposed        365\n",
    "nombre_recovered    16941\n",
    "Name: 454, dtype: int64"
   ]
  },
  {
   "cell_type": "markdown",
   "id": "151dc9f9",
   "metadata": {},
   "source": [
    "nombre_infected       581\n",
    "nombre_sain          2120\n",
    "nombre_exposed        366\n",
    "nombre_recovered    16933\n",
    "Name: 455, dtype: int64"
   ]
  },
  {
   "cell_type": "markdown",
   "id": "c169ce71",
   "metadata": {},
   "source": [
    "nombre_infected       600\n",
    "nombre_sain          2125\n",
    "nombre_exposed        363\n",
    "nombre_recovered    16912\n",
    "Name: 456, dtype: int64"
   ]
  },
  {
   "cell_type": "markdown",
   "id": "96017b50",
   "metadata": {},
   "source": [
    "nombre_infected       582\n",
    "nombre_sain          2118\n",
    "nombre_exposed        373\n",
    "nombre_recovered    16927\n",
    "Name: 457, dtype: int64"
   ]
  },
  {
   "cell_type": "markdown",
   "id": "6c016b52",
   "metadata": {},
   "source": [
    "nombre_infected       567\n",
    "nombre_sain          2148\n",
    "nombre_exposed        355\n",
    "nombre_recovered    16930\n",
    "Name: 458, dtype: int64"
   ]
  },
  {
   "cell_type": "markdown",
   "id": "316adbb4",
   "metadata": {},
   "source": [
    "nombre_infected       548\n",
    "nombre_sain          2181\n",
    "nombre_exposed        368\n",
    "nombre_recovered    16903\n",
    "Name: 459, dtype: int64"
   ]
  },
  {
   "cell_type": "markdown",
   "id": "971369f8",
   "metadata": {},
   "source": [
    "nombre_infected       547\n",
    "nombre_sain          2215\n",
    "nombre_exposed        366\n",
    "nombre_recovered    16872\n",
    "Name: 460, dtype: int64"
   ]
  },
  {
   "cell_type": "markdown",
   "id": "e7070a5c",
   "metadata": {},
   "source": [
    "nombre_infected       554\n",
    "nombre_sain          2256\n",
    "nombre_exposed        336\n",
    "nombre_recovered    16854\n",
    "Name: 461, dtype: int64"
   ]
  },
  {
   "cell_type": "markdown",
   "id": "155a9432",
   "metadata": {},
   "source": [
    "nombre_infected       552\n",
    "nombre_sain          2292\n",
    "nombre_exposed        339\n",
    "nombre_recovered    16817\n",
    "Name: 462, dtype: int64"
   ]
  },
  {
   "cell_type": "markdown",
   "id": "e63806a4",
   "metadata": {},
   "source": [
    "nombre_infected       564\n",
    "nombre_sain          2314\n",
    "nombre_exposed        332\n",
    "nombre_recovered    16790\n",
    "Name: 463, dtype: int64"
   ]
  },
  {
   "cell_type": "markdown",
   "id": "246a7eb7",
   "metadata": {},
   "source": [
    "nombre_infected       570\n",
    "nombre_sain          2352\n",
    "nombre_exposed        335\n",
    "nombre_recovered    16743\n",
    "Name: 464, dtype: int64"
   ]
  },
  {
   "cell_type": "markdown",
   "id": "3bb84e5c",
   "metadata": {},
   "source": [
    "nombre_infected       578\n",
    "nombre_sain          2372\n",
    "nombre_exposed        340\n",
    "nombre_recovered    16710\n",
    "Name: 465, dtype: int64"
   ]
  },
  {
   "cell_type": "markdown",
   "id": "60ece5c9",
   "metadata": {},
   "source": [
    "nombre_infected       564\n",
    "nombre_sain          2383\n",
    "nombre_exposed        353\n",
    "nombre_recovered    16700\n",
    "Name: 466, dtype: int64"
   ]
  },
  {
   "cell_type": "markdown",
   "id": "234d453a",
   "metadata": {},
   "source": [
    "nombre_infected       566\n",
    "nombre_sain          2395\n",
    "nombre_exposed        352\n",
    "nombre_recovered    16687\n",
    "Name: 467, dtype: int64"
   ]
  },
  {
   "cell_type": "markdown",
   "id": "ad1db1f3",
   "metadata": {},
   "source": [
    "nombre_infected       551\n",
    "nombre_sain          2418\n",
    "nombre_exposed        360\n",
    "nombre_recovered    16671\n",
    "Name: 468, dtype: int64"
   ]
  },
  {
   "cell_type": "markdown",
   "id": "d117fbe0",
   "metadata": {},
   "source": [
    "nombre_infected       548\n",
    "nombre_sain          2427\n",
    "nombre_exposed        360\n",
    "nombre_recovered    16665\n",
    "Name: 469, dtype: int64"
   ]
  },
  {
   "cell_type": "markdown",
   "id": "9c462b9f",
   "metadata": {},
   "source": [
    "nombre_infected       548\n",
    "nombre_sain          2391\n",
    "nombre_exposed        391\n",
    "nombre_recovered    16670\n",
    "Name: 470, dtype: int64"
   ]
  },
  {
   "cell_type": "markdown",
   "id": "1981a3fe",
   "metadata": {},
   "source": [
    "nombre_infected       554\n",
    "nombre_sain          2385\n",
    "nombre_exposed        397\n",
    "nombre_recovered    16664\n",
    "Name: 471, dtype: int64"
   ]
  },
  {
   "cell_type": "markdown",
   "id": "bc89a40f",
   "metadata": {},
   "source": [
    "nombre_infected       585\n",
    "nombre_sain          2375\n",
    "nombre_exposed        376\n",
    "nombre_recovered    16664\n",
    "Name: 472, dtype: int64"
   ]
  },
  {
   "cell_type": "markdown",
   "id": "6c6746c5",
   "metadata": {},
   "source": [
    "nombre_infected       587\n",
    "nombre_sain          2367\n",
    "nombre_exposed        379\n",
    "nombre_recovered    16667\n",
    "Name: 473, dtype: int64"
   ]
  },
  {
   "cell_type": "markdown",
   "id": "0c457af3",
   "metadata": {},
   "source": [
    "nombre_infected       619\n",
    "nombre_sain          2352\n",
    "nombre_exposed        377\n",
    "nombre_recovered    16652\n",
    "Name: 474, dtype: int64"
   ]
  },
  {
   "cell_type": "markdown",
   "id": "67562107",
   "metadata": {},
   "source": [
    "nombre_infected       621\n",
    "nombre_sain          2359\n",
    "nombre_exposed        376\n",
    "nombre_recovered    16644\n",
    "Name: 475, dtype: int64"
   ]
  },
  {
   "cell_type": "markdown",
   "id": "2cc63ab8",
   "metadata": {},
   "source": [
    "nombre_infected       593\n",
    "nombre_sain          2361\n",
    "nombre_exposed        373\n",
    "nombre_recovered    16673\n",
    "Name: 476, dtype: int64"
   ]
  },
  {
   "cell_type": "markdown",
   "id": "5063fd6b",
   "metadata": {},
   "source": [
    "nombre_infected       618\n",
    "nombre_sain          2344\n",
    "nombre_exposed        366\n",
    "nombre_recovered    16672\n",
    "Name: 477, dtype: int64"
   ]
  },
  {
   "cell_type": "markdown",
   "id": "2ea08f1c",
   "metadata": {},
   "source": [
    "nombre_infected       605\n",
    "nombre_sain          2336\n",
    "nombre_exposed        369\n",
    "nombre_recovered    16690\n",
    "Name: 478, dtype: int64"
   ]
  },
  {
   "cell_type": "markdown",
   "id": "01fc64ca",
   "metadata": {},
   "source": [
    "nombre_infected       618\n",
    "nombre_sain          2310\n",
    "nombre_exposed        379\n",
    "nombre_recovered    16693\n",
    "Name: 479, dtype: int64"
   ]
  },
  {
   "cell_type": "markdown",
   "id": "9eec97dc",
   "metadata": {},
   "source": [
    "nombre_infected       597\n",
    "nombre_sain          2309\n",
    "nombre_exposed        380\n",
    "nombre_recovered    16714\n",
    "Name: 480, dtype: int64"
   ]
  },
  {
   "cell_type": "markdown",
   "id": "78d8334c",
   "metadata": {},
   "source": [
    "nombre_infected       598\n",
    "nombre_sain          2294\n",
    "nombre_exposed        361\n",
    "nombre_recovered    16747\n",
    "Name: 481, dtype: int64"
   ]
  },
  {
   "cell_type": "markdown",
   "id": "8acc6595",
   "metadata": {},
   "source": [
    "nombre_infected       603\n",
    "nombre_sain          2272\n",
    "nombre_exposed        370\n",
    "nombre_recovered    16755\n",
    "Name: 482, dtype: int64"
   ]
  },
  {
   "cell_type": "markdown",
   "id": "3f24ff13",
   "metadata": {},
   "source": [
    "nombre_infected       592\n",
    "nombre_sain          2280\n",
    "nombre_exposed        353\n",
    "nombre_recovered    16775\n",
    "Name: 483, dtype: int64"
   ]
  },
  {
   "cell_type": "markdown",
   "id": "bf2a5197",
   "metadata": {},
   "source": [
    "nombre_infected       619\n",
    "nombre_sain          2274\n",
    "nombre_exposed        350\n",
    "nombre_recovered    16757\n",
    "Name: 484, dtype: int64"
   ]
  },
  {
   "cell_type": "markdown",
   "id": "e98a24b1",
   "metadata": {},
   "source": [
    "nombre_infected       629\n",
    "nombre_sain          2278\n",
    "nombre_exposed        360\n",
    "nombre_recovered    16733\n",
    "Name: 485, dtype: int64"
   ]
  },
  {
   "cell_type": "markdown",
   "id": "c5ec9ff2",
   "metadata": {},
   "source": [
    "nombre_infected       637\n",
    "nombre_sain          2270\n",
    "nombre_exposed        358\n",
    "nombre_recovered    16735\n",
    "Name: 486, dtype: int64"
   ]
  },
  {
   "cell_type": "markdown",
   "id": "9a15fe91",
   "metadata": {},
   "source": [
    "nombre_infected       641\n",
    "nombre_sain          2250\n",
    "nombre_exposed        382\n",
    "nombre_recovered    16727\n",
    "Name: 487, dtype: int64"
   ]
  },
  {
   "cell_type": "markdown",
   "id": "15d55686",
   "metadata": {},
   "source": [
    "nombre_infected       622\n",
    "nombre_sain          2246\n",
    "nombre_exposed        388\n",
    "nombre_recovered    16744\n",
    "Name: 488, dtype: int64"
   ]
  },
  {
   "cell_type": "markdown",
   "id": "8b863a83",
   "metadata": {},
   "source": [
    "nombre_infected       623\n",
    "nombre_sain          2252\n",
    "nombre_exposed        385\n",
    "nombre_recovered    16740\n",
    "Name: 489, dtype: int64"
   ]
  },
  {
   "cell_type": "markdown",
   "id": "f4fd8779",
   "metadata": {},
   "source": [
    "nombre_infected       626\n",
    "nombre_sain          2260\n",
    "nombre_exposed        382\n",
    "nombre_recovered    16732\n",
    "Name: 490, dtype: int64"
   ]
  },
  {
   "cell_type": "markdown",
   "id": "85659528",
   "metadata": {},
   "source": [
    "nombre_infected       634\n",
    "nombre_sain          2260\n",
    "nombre_exposed        390\n",
    "nombre_recovered    16716\n",
    "Name: 491, dtype: int64"
   ]
  },
  {
   "cell_type": "markdown",
   "id": "7a3cddeb",
   "metadata": {},
   "source": [
    "nombre_infected       637\n",
    "nombre_sain          2254\n",
    "nombre_exposed        382\n",
    "nombre_recovered    16727\n",
    "Name: 492, dtype: int64"
   ]
  },
  {
   "cell_type": "markdown",
   "id": "446f6656",
   "metadata": {},
   "source": [
    "nombre_infected       645\n",
    "nombre_sain          2269\n",
    "nombre_exposed        379\n",
    "nombre_recovered    16707\n",
    "Name: 493, dtype: int64"
   ]
  },
  {
   "cell_type": "markdown",
   "id": "d3d8f177",
   "metadata": {},
   "source": [
    "nombre_infected       638\n",
    "nombre_sain          2279\n",
    "nombre_exposed        377\n",
    "nombre_recovered    16706\n",
    "Name: 494, dtype: int64"
   ]
  },
  {
   "cell_type": "markdown",
   "id": "fcbbcf41",
   "metadata": {},
   "source": [
    "nombre_infected       653\n",
    "nombre_sain          2288\n",
    "nombre_exposed        354\n",
    "nombre_recovered    16705\n",
    "Name: 495, dtype: int64"
   ]
  },
  {
   "cell_type": "markdown",
   "id": "39c8ebf8",
   "metadata": {},
   "source": [
    "nombre_infected       655\n",
    "nombre_sain          2302\n",
    "nombre_exposed        337\n",
    "nombre_recovered    16706\n",
    "Name: 496, dtype: int64"
   ]
  },
  {
   "cell_type": "markdown",
   "id": "ae72a84d",
   "metadata": {},
   "source": [
    "nombre_infected       656\n",
    "nombre_sain          2297\n",
    "nombre_exposed        358\n",
    "nombre_recovered    16689\n",
    "Name: 497, dtype: int64"
   ]
  },
  {
   "cell_type": "markdown",
   "id": "9b43e573",
   "metadata": {},
   "source": [
    "nombre_infected       629\n",
    "nombre_sain          2301\n",
    "nombre_exposed        364\n",
    "nombre_recovered    16706\n",
    "Name: 498, dtype: int64"
   ]
  },
  {
   "cell_type": "markdown",
   "id": "eedd0ceb",
   "metadata": {},
   "source": [
    "nombre_infected       624\n",
    "nombre_sain          2289\n",
    "nombre_exposed        371\n",
    "nombre_recovered    16716\n",
    "Name: 499, dtype: int64"
   ]
  },
  {
   "cell_type": "markdown",
   "id": "4bd3c1c3",
   "metadata": {},
   "source": [
    "nombre_infected       628\n",
    "nombre_sain          2302\n",
    "nombre_exposed        345\n",
    "nombre_recovered    16725\n",
    "Name: 500, dtype: int64"
   ]
  },
  {
   "cell_type": "markdown",
   "id": "0a3d10fb",
   "metadata": {},
   "source": [
    "nombre_infected       623\n",
    "nombre_sain          2297\n",
    "nombre_exposed        363\n",
    "nombre_recovered    16717\n",
    "Name: 501, dtype: int64"
   ]
  },
  {
   "cell_type": "markdown",
   "id": "f10344a8",
   "metadata": {},
   "source": [
    "nombre_infected       628\n",
    "nombre_sain          2289\n",
    "nombre_exposed        368\n",
    "nombre_recovered    16715\n",
    "Name: 502, dtype: int64"
   ]
  },
  {
   "cell_type": "markdown",
   "id": "c6f27624",
   "metadata": {},
   "source": [
    "nombre_infected       620\n",
    "nombre_sain          2276\n",
    "nombre_exposed        376\n",
    "nombre_recovered    16728\n",
    "Name: 503, dtype: int64"
   ]
  },
  {
   "cell_type": "markdown",
   "id": "3f06761a",
   "metadata": {},
   "source": [
    "nombre_infected       645\n",
    "nombre_sain          2272\n",
    "nombre_exposed        375\n",
    "nombre_recovered    16708\n",
    "Name: 504, dtype: int64"
   ]
  },
  {
   "cell_type": "markdown",
   "id": "bb19b274",
   "metadata": {},
   "source": [
    "nombre_infected       670\n",
    "nombre_sain          2268\n",
    "nombre_exposed        370\n",
    "nombre_recovered    16692\n",
    "Name: 505, dtype: int64"
   ]
  },
  {
   "cell_type": "markdown",
   "id": "cc68a9d1",
   "metadata": {},
   "source": [
    "nombre_infected       669\n",
    "nombre_sain          2244\n",
    "nombre_exposed        386\n",
    "nombre_recovered    16701\n",
    "Name: 506, dtype: int64"
   ]
  },
  {
   "cell_type": "markdown",
   "id": "51ed2df8",
   "metadata": {},
   "source": [
    "nombre_infected       675\n",
    "nombre_sain          2252\n",
    "nombre_exposed        380\n",
    "nombre_recovered    16693\n",
    "Name: 507, dtype: int64"
   ]
  },
  {
   "cell_type": "markdown",
   "id": "38a261a5",
   "metadata": {},
   "source": [
    "nombre_infected       684\n",
    "nombre_sain          2236\n",
    "nombre_exposed        387\n",
    "nombre_recovered    16693\n",
    "Name: 508, dtype: int64"
   ]
  },
  {
   "cell_type": "markdown",
   "id": "4b625e88",
   "metadata": {},
   "source": [
    "nombre_infected       663\n",
    "nombre_sain          2236\n",
    "nombre_exposed        378\n",
    "nombre_recovered    16723\n",
    "Name: 509, dtype: int64"
   ]
  },
  {
   "cell_type": "markdown",
   "id": "c6578597",
   "metadata": {},
   "source": [
    "nombre_infected       664\n",
    "nombre_sain          2220\n",
    "nombre_exposed        405\n",
    "nombre_recovered    16711\n",
    "Name: 510, dtype: int64"
   ]
  },
  {
   "cell_type": "markdown",
   "id": "982abc43",
   "metadata": {},
   "source": [
    "nombre_infected       666\n",
    "nombre_sain          2218\n",
    "nombre_exposed        402\n",
    "nombre_recovered    16714\n",
    "Name: 511, dtype: int64"
   ]
  },
  {
   "cell_type": "markdown",
   "id": "8efa46d7",
   "metadata": {},
   "source": [
    "nombre_infected       648\n",
    "nombre_sain          2199\n",
    "nombre_exposed        413\n",
    "nombre_recovered    16740\n",
    "Name: 512, dtype: int64"
   ]
  },
  {
   "cell_type": "markdown",
   "id": "c8423b78",
   "metadata": {},
   "source": [
    "nombre_infected       669\n",
    "nombre_sain          2209\n",
    "nombre_exposed        406\n",
    "nombre_recovered    16716\n",
    "Name: 513, dtype: int64"
   ]
  },
  {
   "cell_type": "markdown",
   "id": "f6c515e7",
   "metadata": {},
   "source": [
    "nombre_infected       690\n",
    "nombre_sain          2233\n",
    "nombre_exposed        394\n",
    "nombre_recovered    16683\n",
    "Name: 514, dtype: int64"
   ]
  },
  {
   "cell_type": "markdown",
   "id": "9b6319d5",
   "metadata": {},
   "source": [
    "nombre_infected       707\n",
    "nombre_sain          2271\n",
    "nombre_exposed        377\n",
    "nombre_recovered    16645\n",
    "Name: 515, dtype: int64"
   ]
  },
  {
   "cell_type": "markdown",
   "id": "72fc232e",
   "metadata": {},
   "source": [
    "nombre_infected       705\n",
    "nombre_sain          2290\n",
    "nombre_exposed        387\n",
    "nombre_recovered    16618\n",
    "Name: 516, dtype: int64"
   ]
  },
  {
   "cell_type": "markdown",
   "id": "ca8fd2d0",
   "metadata": {},
   "source": [
    "nombre_infected       696\n",
    "nombre_sain          2307\n",
    "nombre_exposed        393\n",
    "nombre_recovered    16604\n",
    "Name: 517, dtype: int64"
   ]
  },
  {
   "cell_type": "markdown",
   "id": "c7cf2500",
   "metadata": {},
   "source": [
    "nombre_infected       690\n",
    "nombre_sain          2313\n",
    "nombre_exposed        400\n",
    "nombre_recovered    16597\n",
    "Name: 518, dtype: int64"
   ]
  },
  {
   "cell_type": "markdown",
   "id": "a3501f5a",
   "metadata": {},
   "source": [
    "nombre_infected       684\n",
    "nombre_sain          2314\n",
    "nombre_exposed        413\n",
    "nombre_recovered    16589\n",
    "Name: 519, dtype: int64"
   ]
  },
  {
   "cell_type": "markdown",
   "id": "b1fd36db",
   "metadata": {},
   "source": [
    "nombre_infected       688\n",
    "nombre_sain          2331\n",
    "nombre_exposed        405\n",
    "nombre_recovered    16576\n",
    "Name: 520, dtype: int64"
   ]
  },
  {
   "cell_type": "markdown",
   "id": "039c3f9a",
   "metadata": {},
   "source": [
    "nombre_infected       689\n",
    "nombre_sain          2353\n",
    "nombre_exposed        417\n",
    "nombre_recovered    16541\n",
    "Name: 521, dtype: int64"
   ]
  },
  {
   "cell_type": "markdown",
   "id": "faf7d3a9",
   "metadata": {},
   "source": [
    "nombre_infected       698\n",
    "nombre_sain          2373\n",
    "nombre_exposed        412\n",
    "nombre_recovered    16517\n",
    "Name: 522, dtype: int64"
   ]
  },
  {
   "cell_type": "markdown",
   "id": "7224762b",
   "metadata": {},
   "source": [
    "nombre_infected       697\n",
    "nombre_sain          2357\n",
    "nombre_exposed        413\n",
    "nombre_recovered    16533\n",
    "Name: 523, dtype: int64"
   ]
  },
  {
   "cell_type": "markdown",
   "id": "99a22b88",
   "metadata": {},
   "source": [
    "nombre_infected       706\n",
    "nombre_sain          2348\n",
    "nombre_exposed        404\n",
    "nombre_recovered    16542\n",
    "Name: 524, dtype: int64"
   ]
  },
  {
   "cell_type": "markdown",
   "id": "40d081c3",
   "metadata": {},
   "source": [
    "nombre_infected       708\n",
    "nombre_sain          2326\n",
    "nombre_exposed        417\n",
    "nombre_recovered    16549\n",
    "Name: 525, dtype: int64"
   ]
  },
  {
   "cell_type": "markdown",
   "id": "fa35b2bd",
   "metadata": {},
   "source": [
    "nombre_infected       699\n",
    "nombre_sain          2338\n",
    "nombre_exposed        420\n",
    "nombre_recovered    16543\n",
    "Name: 526, dtype: int64"
   ]
  },
  {
   "cell_type": "markdown",
   "id": "0c60241d",
   "metadata": {},
   "source": [
    "nombre_infected       701\n",
    "nombre_sain          2315\n",
    "nombre_exposed        430\n",
    "nombre_recovered    16554\n",
    "Name: 527, dtype: int64"
   ]
  },
  {
   "cell_type": "markdown",
   "id": "a76d6d8f",
   "metadata": {},
   "source": [
    "nombre_infected       720\n",
    "nombre_sain          2322\n",
    "nombre_exposed        429\n",
    "nombre_recovered    16529\n",
    "Name: 528, dtype: int64"
   ]
  },
  {
   "cell_type": "markdown",
   "id": "c36c7ee0",
   "metadata": {},
   "source": [
    "nombre_infected       733\n",
    "nombre_sain          2298\n",
    "nombre_exposed        457\n",
    "nombre_recovered    16512\n",
    "Name: 529, dtype: int64"
   ]
  },
  {
   "cell_type": "markdown",
   "id": "ed00dca1",
   "metadata": {},
   "source": [
    "nombre_infected       753\n",
    "nombre_sain          2303\n",
    "nombre_exposed        445\n",
    "nombre_recovered    16499\n",
    "Name: 530, dtype: int64"
   ]
  },
  {
   "cell_type": "markdown",
   "id": "5f2a35e6",
   "metadata": {},
   "source": [
    "nombre_infected       763\n",
    "nombre_sain          2320\n",
    "nombre_exposed        441\n",
    "nombre_recovered    16476\n",
    "Name: 531, dtype: int64"
   ]
  },
  {
   "cell_type": "markdown",
   "id": "fcfbea6a",
   "metadata": {},
   "source": [
    "nombre_infected       759\n",
    "nombre_sain          2330\n",
    "nombre_exposed        439\n",
    "nombre_recovered    16472\n",
    "Name: 532, dtype: int64"
   ]
  },
  {
   "cell_type": "markdown",
   "id": "7bda2004",
   "metadata": {},
   "source": [
    "nombre_infected       757\n",
    "nombre_sain          2331\n",
    "nombre_exposed        457\n",
    "nombre_recovered    16455\n",
    "Name: 533, dtype: int64"
   ]
  },
  {
   "cell_type": "markdown",
   "id": "fd8e1438",
   "metadata": {},
   "source": [
    "nombre_infected       766\n",
    "nombre_sain          2325\n",
    "nombre_exposed        460\n",
    "nombre_recovered    16449\n",
    "Name: 534, dtype: int64"
   ]
  },
  {
   "cell_type": "markdown",
   "id": "05597306",
   "metadata": {},
   "source": [
    "nombre_infected       776\n",
    "nombre_sain          2350\n",
    "nombre_exposed        469\n",
    "nombre_recovered    16405\n",
    "Name: 535, dtype: int64"
   ]
  },
  {
   "cell_type": "markdown",
   "id": "0e32ed7a",
   "metadata": {},
   "source": [
    "nombre_infected       783\n",
    "nombre_sain          2355\n",
    "nombre_exposed        472\n",
    "nombre_recovered    16390\n",
    "Name: 536, dtype: int64"
   ]
  },
  {
   "cell_type": "markdown",
   "id": "62e601b4",
   "metadata": {},
   "source": [
    "nombre_infected       773\n",
    "nombre_sain          2367\n",
    "nombre_exposed        461\n",
    "nombre_recovered    16399\n",
    "Name: 537, dtype: int64"
   ]
  },
  {
   "cell_type": "markdown",
   "id": "7a0ace6b",
   "metadata": {},
   "source": [
    "nombre_infected       790\n",
    "nombre_sain          2369\n",
    "nombre_exposed        447\n",
    "nombre_recovered    16394\n",
    "Name: 538, dtype: int64"
   ]
  },
  {
   "cell_type": "markdown",
   "id": "894793b9",
   "metadata": {},
   "source": [
    "nombre_infected       804\n",
    "nombre_sain          2362\n",
    "nombre_exposed        444\n",
    "nombre_recovered    16390\n",
    "Name: 539, dtype: int64"
   ]
  },
  {
   "cell_type": "markdown",
   "id": "20c5b6c6",
   "metadata": {},
   "source": [
    "nombre_infected       819\n",
    "nombre_sain          2362\n",
    "nombre_exposed        459\n",
    "nombre_recovered    16360\n",
    "Name: 540, dtype: int64"
   ]
  },
  {
   "cell_type": "markdown",
   "id": "8fd7973e",
   "metadata": {},
   "source": [
    "nombre_infected       824\n",
    "nombre_sain          2373\n",
    "nombre_exposed        445\n",
    "nombre_recovered    16358\n",
    "Name: 541, dtype: int64"
   ]
  },
  {
   "cell_type": "markdown",
   "id": "2fb450bb",
   "metadata": {},
   "source": [
    "nombre_infected       821\n",
    "nombre_sain          2375\n",
    "nombre_exposed        457\n",
    "nombre_recovered    16347\n",
    "Name: 542, dtype: int64"
   ]
  },
  {
   "cell_type": "markdown",
   "id": "a1c46451",
   "metadata": {},
   "source": [
    "nombre_infected       829\n",
    "nombre_sain          2380\n",
    "nombre_exposed        462\n",
    "nombre_recovered    16329\n",
    "Name: 543, dtype: int64"
   ]
  },
  {
   "cell_type": "markdown",
   "id": "89490d10",
   "metadata": {},
   "source": [
    "nombre_infected       834\n",
    "nombre_sain          2359\n",
    "nombre_exposed        488\n",
    "nombre_recovered    16319\n",
    "Name: 544, dtype: int64"
   ]
  },
  {
   "cell_type": "markdown",
   "id": "ad6e5573",
   "metadata": {},
   "source": [
    "nombre_infected       807\n",
    "nombre_sain          2379\n",
    "nombre_exposed        505\n",
    "nombre_recovered    16309\n",
    "Name: 545, dtype: int64"
   ]
  },
  {
   "cell_type": "markdown",
   "id": "d4505e33",
   "metadata": {},
   "source": [
    "nombre_infected       842\n",
    "nombre_sain          2370\n",
    "nombre_exposed        493\n",
    "nombre_recovered    16295\n",
    "Name: 546, dtype: int64"
   ]
  },
  {
   "cell_type": "markdown",
   "id": "4502e8af",
   "metadata": {},
   "source": [
    "nombre_infected       841\n",
    "nombre_sain          2378\n",
    "nombre_exposed        490\n",
    "nombre_recovered    16291\n",
    "Name: 547, dtype: int64"
   ]
  },
  {
   "cell_type": "markdown",
   "id": "10651272",
   "metadata": {},
   "source": [
    "nombre_infected       851\n",
    "nombre_sain          2377\n",
    "nombre_exposed        493\n",
    "nombre_recovered    16279\n",
    "Name: 548, dtype: int64"
   ]
  },
  {
   "cell_type": "markdown",
   "id": "a22b631a",
   "metadata": {},
   "source": [
    "nombre_infected       864\n",
    "nombre_sain          2372\n",
    "nombre_exposed        495\n",
    "nombre_recovered    16269\n",
    "Name: 549, dtype: int64"
   ]
  },
  {
   "cell_type": "markdown",
   "id": "b442349e",
   "metadata": {},
   "source": [
    "nombre_infected       861\n",
    "nombre_sain          2361\n",
    "nombre_exposed        508\n",
    "nombre_recovered    16270\n",
    "Name: 550, dtype: int64"
   ]
  },
  {
   "cell_type": "markdown",
   "id": "b4055f73",
   "metadata": {},
   "source": [
    "nombre_infected       863\n",
    "nombre_sain          2376\n",
    "nombre_exposed        505\n",
    "nombre_recovered    16256\n",
    "Name: 551, dtype: int64"
   ]
  },
  {
   "cell_type": "markdown",
   "id": "85f8e5ec",
   "metadata": {},
   "source": [
    "nombre_infected       855\n",
    "nombre_sain          2379\n",
    "nombre_exposed        524\n",
    "nombre_recovered    16242\n",
    "Name: 552, dtype: int64"
   ]
  },
  {
   "cell_type": "markdown",
   "id": "39690021",
   "metadata": {},
   "source": [
    "nombre_infected       866\n",
    "nombre_sain          2376\n",
    "nombre_exposed        531\n",
    "nombre_recovered    16227\n",
    "Name: 553, dtype: int64"
   ]
  },
  {
   "cell_type": "markdown",
   "id": "c6827d95",
   "metadata": {},
   "source": [
    "nombre_infected       884\n",
    "nombre_sain          2380\n",
    "nombre_exposed        524\n",
    "nombre_recovered    16212\n",
    "Name: 554, dtype: int64"
   ]
  },
  {
   "cell_type": "markdown",
   "id": "bd025a62",
   "metadata": {},
   "source": [
    "nombre_infected       875\n",
    "nombre_sain          2389\n",
    "nombre_exposed        534\n",
    "nombre_recovered    16202\n",
    "Name: 555, dtype: int64"
   ]
  },
  {
   "cell_type": "markdown",
   "id": "6199cad0",
   "metadata": {},
   "source": [
    "nombre_infected       896\n",
    "nombre_sain          2386\n",
    "nombre_exposed        512\n",
    "nombre_recovered    16206\n",
    "Name: 556, dtype: int64"
   ]
  },
  {
   "cell_type": "markdown",
   "id": "b776fc5e",
   "metadata": {},
   "source": [
    "nombre_infected       908\n",
    "nombre_sain          2359\n",
    "nombre_exposed        517\n",
    "nombre_recovered    16216\n",
    "Name: 557, dtype: int64"
   ]
  },
  {
   "cell_type": "markdown",
   "id": "d851f168",
   "metadata": {},
   "source": [
    "nombre_infected       895\n",
    "nombre_sain          2354\n",
    "nombre_exposed        527\n",
    "nombre_recovered    16224\n",
    "Name: 558, dtype: int64"
   ]
  },
  {
   "cell_type": "markdown",
   "id": "9adc421b",
   "metadata": {},
   "source": [
    "nombre_infected       900\n",
    "nombre_sain          2343\n",
    "nombre_exposed        553\n",
    "nombre_recovered    16204\n",
    "Name: 559, dtype: int64"
   ]
  },
  {
   "cell_type": "markdown",
   "id": "8316f588",
   "metadata": {},
   "source": [
    "nombre_infected       904\n",
    "nombre_sain          2333\n",
    "nombre_exposed        541\n",
    "nombre_recovered    16222\n",
    "Name: 560, dtype: int64"
   ]
  },
  {
   "cell_type": "markdown",
   "id": "fb22e305",
   "metadata": {},
   "source": [
    "nombre_infected       907\n",
    "nombre_sain          2335\n",
    "nombre_exposed        553\n",
    "nombre_recovered    16205\n",
    "Name: 561, dtype: int64"
   ]
  },
  {
   "cell_type": "markdown",
   "id": "53c4080c",
   "metadata": {},
   "source": [
    "nombre_infected       905\n",
    "nombre_sain          2334\n",
    "nombre_exposed        554\n",
    "nombre_recovered    16207\n",
    "Name: 562, dtype: int64"
   ]
  },
  {
   "cell_type": "markdown",
   "id": "fa02c340",
   "metadata": {},
   "source": [
    "nombre_infected       921\n",
    "nombre_sain          2319\n",
    "nombre_exposed        549\n",
    "nombre_recovered    16211\n",
    "Name: 563, dtype: int64"
   ]
  },
  {
   "cell_type": "markdown",
   "id": "a974d65b",
   "metadata": {},
   "source": [
    "nombre_infected       928\n",
    "nombre_sain          2302\n",
    "nombre_exposed        548\n",
    "nombre_recovered    16222\n",
    "Name: 564, dtype: int64"
   ]
  },
  {
   "cell_type": "markdown",
   "id": "b600f80e",
   "metadata": {},
   "source": [
    "nombre_infected       937\n",
    "nombre_sain          2259\n",
    "nombre_exposed        558\n",
    "nombre_recovered    16246\n",
    "Name: 565, dtype: int64"
   ]
  },
  {
   "cell_type": "markdown",
   "id": "d02c3671",
   "metadata": {},
   "source": [
    "nombre_infected       893\n",
    "nombre_sain          2241\n",
    "nombre_exposed        585\n",
    "nombre_recovered    16281\n",
    "Name: 566, dtype: int64"
   ]
  },
  {
   "cell_type": "markdown",
   "id": "f04f46cf",
   "metadata": {},
   "source": [
    "nombre_infected       900\n",
    "nombre_sain          2214\n",
    "nombre_exposed        576\n",
    "nombre_recovered    16310\n",
    "Name: 567, dtype: int64"
   ]
  },
  {
   "cell_type": "markdown",
   "id": "7325bd73",
   "metadata": {},
   "source": [
    "nombre_infected       890\n",
    "nombre_sain          2198\n",
    "nombre_exposed        589\n",
    "nombre_recovered    16323\n",
    "Name: 568, dtype: int64"
   ]
  },
  {
   "cell_type": "markdown",
   "id": "aab128e4",
   "metadata": {},
   "source": [
    "nombre_infected       911\n",
    "nombre_sain          2189\n",
    "nombre_exposed        594\n",
    "nombre_recovered    16306\n",
    "Name: 569, dtype: int64"
   ]
  },
  {
   "cell_type": "markdown",
   "id": "ada34e19",
   "metadata": {},
   "source": [
    "nombre_infected       942\n",
    "nombre_sain          2180\n",
    "nombre_exposed        556\n",
    "nombre_recovered    16322\n",
    "Name: 570, dtype: int64"
   ]
  },
  {
   "cell_type": "markdown",
   "id": "e9cde48f",
   "metadata": {},
   "source": [
    "nombre_infected       955\n",
    "nombre_sain          2149\n",
    "nombre_exposed        540\n",
    "nombre_recovered    16356\n",
    "Name: 571, dtype: int64"
   ]
  },
  {
   "cell_type": "markdown",
   "id": "0678ffac",
   "metadata": {},
   "source": [
    "nombre_infected       962\n",
    "nombre_sain          2170\n",
    "nombre_exposed        531\n",
    "nombre_recovered    16337\n",
    "Name: 572, dtype: int64"
   ]
  },
  {
   "cell_type": "markdown",
   "id": "482b55c9",
   "metadata": {},
   "source": [
    "nombre_infected       950\n",
    "nombre_sain          2164\n",
    "nombre_exposed        545\n",
    "nombre_recovered    16341\n",
    "Name: 573, dtype: int64"
   ]
  },
  {
   "cell_type": "markdown",
   "id": "b5c5fd4d",
   "metadata": {},
   "source": [
    "nombre_infected       952\n",
    "nombre_sain          2142\n",
    "nombre_exposed        537\n",
    "nombre_recovered    16369\n",
    "Name: 574, dtype: int64"
   ]
  },
  {
   "cell_type": "markdown",
   "id": "bbac787e",
   "metadata": {},
   "source": [
    "nombre_infected       961\n",
    "nombre_sain          2164\n",
    "nombre_exposed        512\n",
    "nombre_recovered    16363\n",
    "Name: 575, dtype: int64"
   ]
  },
  {
   "cell_type": "markdown",
   "id": "9f960fc2",
   "metadata": {},
   "source": [
    "nombre_infected       951\n",
    "nombre_sain          2148\n",
    "nombre_exposed        538\n",
    "nombre_recovered    16363\n",
    "Name: 576, dtype: int64"
   ]
  },
  {
   "cell_type": "markdown",
   "id": "efabb3f2",
   "metadata": {},
   "source": [
    "nombre_infected       926\n",
    "nombre_sain          2129\n",
    "nombre_exposed        559\n",
    "nombre_recovered    16386\n",
    "Name: 577, dtype: int64"
   ]
  },
  {
   "cell_type": "markdown",
   "id": "2bd4a786",
   "metadata": {},
   "source": [
    "nombre_infected       932\n",
    "nombre_sain          2107\n",
    "nombre_exposed        551\n",
    "nombre_recovered    16410\n",
    "Name: 578, dtype: int64"
   ]
  },
  {
   "cell_type": "markdown",
   "id": "b42625a0",
   "metadata": {},
   "source": [
    "nombre_infected       935\n",
    "nombre_sain          2087\n",
    "nombre_exposed        561\n",
    "nombre_recovered    16417\n",
    "Name: 579, dtype: int64"
   ]
  },
  {
   "cell_type": "markdown",
   "id": "57336e24",
   "metadata": {},
   "source": [
    "nombre_infected       946\n",
    "nombre_sain          2083\n",
    "nombre_exposed        538\n",
    "nombre_recovered    16433\n",
    "Name: 580, dtype: int64"
   ]
  },
  {
   "cell_type": "markdown",
   "id": "f2cd79bd",
   "metadata": {},
   "source": [
    "nombre_infected       954\n",
    "nombre_sain          2064\n",
    "nombre_exposed        542\n",
    "nombre_recovered    16440\n",
    "Name: 581, dtype: int64"
   ]
  },
  {
   "cell_type": "markdown",
   "id": "6ff9d8df",
   "metadata": {},
   "source": [
    "nombre_infected       946\n",
    "nombre_sain          2092\n",
    "nombre_exposed        540\n",
    "nombre_recovered    16422\n",
    "Name: 582, dtype: int64"
   ]
  },
  {
   "cell_type": "markdown",
   "id": "e83bc4dc",
   "metadata": {},
   "source": [
    "nombre_infected       929\n",
    "nombre_sain          2104\n",
    "nombre_exposed        520\n",
    "nombre_recovered    16447\n",
    "Name: 583, dtype: int64"
   ]
  },
  {
   "cell_type": "markdown",
   "id": "a28723cb",
   "metadata": {},
   "source": [
    "nombre_infected       926\n",
    "nombre_sain          2104\n",
    "nombre_exposed        507\n",
    "nombre_recovered    16463\n",
    "Name: 584, dtype: int64"
   ]
  },
  {
   "cell_type": "markdown",
   "id": "92f68a3e",
   "metadata": {},
   "source": [
    "nombre_infected       912\n",
    "nombre_sain          2102\n",
    "nombre_exposed        521\n",
    "nombre_recovered    16465\n",
    "Name: 585, dtype: int64"
   ]
  },
  {
   "cell_type": "markdown",
   "id": "c206101e",
   "metadata": {},
   "source": [
    "nombre_infected       924\n",
    "nombre_sain          2096\n",
    "nombre_exposed        498\n",
    "nombre_recovered    16482\n",
    "Name: 586, dtype: int64"
   ]
  },
  {
   "cell_type": "markdown",
   "id": "33a6fcfc",
   "metadata": {},
   "source": [
    "nombre_infected       926\n",
    "nombre_sain          2104\n",
    "nombre_exposed        481\n",
    "nombre_recovered    16489\n",
    "Name: 587, dtype: int64"
   ]
  },
  {
   "cell_type": "markdown",
   "id": "a6d18312",
   "metadata": {},
   "source": [
    "nombre_infected       898\n",
    "nombre_sain          2073\n",
    "nombre_exposed        517\n",
    "nombre_recovered    16512\n",
    "Name: 588, dtype: int64"
   ]
  },
  {
   "cell_type": "markdown",
   "id": "4edb8bcf",
   "metadata": {},
   "source": [
    "nombre_infected       891\n",
    "nombre_sain          2080\n",
    "nombre_exposed        514\n",
    "nombre_recovered    16515\n",
    "Name: 589, dtype: int64"
   ]
  },
  {
   "cell_type": "markdown",
   "id": "8411ab6c",
   "metadata": {},
   "source": [
    "nombre_infected       903\n",
    "nombre_sain          2086\n",
    "nombre_exposed        484\n",
    "nombre_recovered    16527\n",
    "Name: 590, dtype: int64"
   ]
  },
  {
   "cell_type": "markdown",
   "id": "e5ac82f1",
   "metadata": {},
   "source": [
    "nombre_infected       907\n",
    "nombre_sain          2067\n",
    "nombre_exposed        487\n",
    "nombre_recovered    16539\n",
    "Name: 591, dtype: int64"
   ]
  },
  {
   "cell_type": "markdown",
   "id": "f2b576b8",
   "metadata": {},
   "source": [
    "nombre_infected       920\n",
    "nombre_sain          2035\n",
    "nombre_exposed        493\n",
    "nombre_recovered    16552\n",
    "Name: 592, dtype: int64"
   ]
  },
  {
   "cell_type": "markdown",
   "id": "9c5eab42",
   "metadata": {},
   "source": [
    "nombre_infected       912\n",
    "nombre_sain          2018\n",
    "nombre_exposed        509\n",
    "nombre_recovered    16561\n",
    "Name: 593, dtype: int64"
   ]
  },
  {
   "cell_type": "markdown",
   "id": "d9c1eeb9",
   "metadata": {},
   "source": [
    "nombre_infected       914\n",
    "nombre_sain          2040\n",
    "nombre_exposed        495\n",
    "nombre_recovered    16551\n",
    "Name: 594, dtype: int64"
   ]
  },
  {
   "cell_type": "markdown",
   "id": "2433c6c0",
   "metadata": {},
   "source": [
    "nombre_infected       913\n",
    "nombre_sain          2034\n",
    "nombre_exposed        490\n",
    "nombre_recovered    16563\n",
    "Name: 595, dtype: int64"
   ]
  },
  {
   "cell_type": "markdown",
   "id": "081e0052",
   "metadata": {},
   "source": [
    "nombre_infected       905\n",
    "nombre_sain          2043\n",
    "nombre_exposed        479\n",
    "nombre_recovered    16573\n",
    "Name: 596, dtype: int64"
   ]
  },
  {
   "cell_type": "markdown",
   "id": "0a72abe3",
   "metadata": {},
   "source": [
    "nombre_infected       915\n",
    "nombre_sain          2063\n",
    "nombre_exposed        468\n",
    "nombre_recovered    16554\n",
    "Name: 597, dtype: int64"
   ]
  },
  {
   "cell_type": "markdown",
   "id": "0eea20cc",
   "metadata": {},
   "source": [
    "nombre_infected       905\n",
    "nombre_sain          2037\n",
    "nombre_exposed        482\n",
    "nombre_recovered    16576\n",
    "Name: 598, dtype: int64"
   ]
  },
  {
   "cell_type": "markdown",
   "id": "308c2fec",
   "metadata": {},
   "source": [
    "nombre_infected       900\n",
    "nombre_sain          2031\n",
    "nombre_exposed        470\n",
    "nombre_recovered    16599\n",
    "Name: 599, dtype: int64"
   ]
  },
  {
   "cell_type": "markdown",
   "id": "5070718f",
   "metadata": {},
   "source": [
    "nombre_infected       893\n",
    "nombre_sain          2048\n",
    "nombre_exposed        468\n",
    "nombre_recovered    16591\n",
    "Name: 600, dtype: int64"
   ]
  },
  {
   "cell_type": "markdown",
   "id": "bcca442f",
   "metadata": {},
   "source": [
    "nombre_infected       883\n",
    "nombre_sain          2037\n",
    "nombre_exposed        460\n",
    "nombre_recovered    16620\n",
    "Name: 601, dtype: int64"
   ]
  },
  {
   "cell_type": "markdown",
   "id": "85617ea2",
   "metadata": {},
   "source": [
    "nombre_infected       885\n",
    "nombre_sain          1996\n",
    "nombre_exposed        469\n",
    "nombre_recovered    16650\n",
    "Name: 602, dtype: int64"
   ]
  },
  {
   "cell_type": "markdown",
   "id": "0a696c09",
   "metadata": {},
   "source": [
    "nombre_infected       874\n",
    "nombre_sain          2002\n",
    "nombre_exposed        464\n",
    "nombre_recovered    16660\n",
    "Name: 603, dtype: int64"
   ]
  },
  {
   "cell_type": "markdown",
   "id": "53898790",
   "metadata": {},
   "source": [
    "nombre_infected       870\n",
    "nombre_sain          1986\n",
    "nombre_exposed        448\n",
    "nombre_recovered    16696\n",
    "Name: 604, dtype: int64"
   ]
  },
  {
   "cell_type": "markdown",
   "id": "96a17086",
   "metadata": {},
   "source": [
    "nombre_infected       862\n",
    "nombre_sain          1987\n",
    "nombre_exposed        448\n",
    "nombre_recovered    16703\n",
    "Name: 605, dtype: int64"
   ]
  },
  {
   "cell_type": "markdown",
   "id": "c60b5d3d",
   "metadata": {},
   "source": [
    "nombre_infected       849\n",
    "nombre_sain          2000\n",
    "nombre_exposed        436\n",
    "nombre_recovered    16715\n",
    "Name: 606, dtype: int64"
   ]
  },
  {
   "cell_type": "markdown",
   "id": "86d7d639",
   "metadata": {},
   "source": [
    "nombre_infected       817\n",
    "nombre_sain          1981\n",
    "nombre_exposed        444\n",
    "nombre_recovered    16758\n",
    "Name: 607, dtype: int64"
   ]
  },
  {
   "cell_type": "markdown",
   "id": "505a5cbe",
   "metadata": {},
   "source": [
    "nombre_infected       826\n",
    "nombre_sain          1985\n",
    "nombre_exposed        430\n",
    "nombre_recovered    16759\n",
    "Name: 608, dtype: int64"
   ]
  },
  {
   "cell_type": "markdown",
   "id": "da280731",
   "metadata": {},
   "source": [
    "nombre_infected       836\n",
    "nombre_sain          1980\n",
    "nombre_exposed        427\n",
    "nombre_recovered    16757\n",
    "Name: 609, dtype: int64"
   ]
  },
  {
   "cell_type": "markdown",
   "id": "c36b6f4d",
   "metadata": {},
   "source": [
    "nombre_infected       827\n",
    "nombre_sain          1984\n",
    "nombre_exposed        417\n",
    "nombre_recovered    16772\n",
    "Name: 610, dtype: int64"
   ]
  },
  {
   "cell_type": "markdown",
   "id": "e154f821",
   "metadata": {},
   "source": [
    "nombre_infected       826\n",
    "nombre_sain          1984\n",
    "nombre_exposed        418\n",
    "nombre_recovered    16772\n",
    "Name: 611, dtype: int64"
   ]
  },
  {
   "cell_type": "markdown",
   "id": "6503598d",
   "metadata": {},
   "source": [
    "nombre_infected       813\n",
    "nombre_sain          1964\n",
    "nombre_exposed        426\n",
    "nombre_recovered    16797\n",
    "Name: 612, dtype: int64"
   ]
  },
  {
   "cell_type": "markdown",
   "id": "4150942c",
   "metadata": {},
   "source": [
    "nombre_infected       813\n",
    "nombre_sain          1946\n",
    "nombre_exposed        429\n",
    "nombre_recovered    16812\n",
    "Name: 613, dtype: int64"
   ]
  },
  {
   "cell_type": "markdown",
   "id": "72b7c085",
   "metadata": {},
   "source": [
    "nombre_infected       792\n",
    "nombre_sain          1959\n",
    "nombre_exposed        430\n",
    "nombre_recovered    16819\n",
    "Name: 614, dtype: int64"
   ]
  },
  {
   "cell_type": "markdown",
   "id": "4a4e3184",
   "metadata": {},
   "source": [
    "nombre_infected       802\n",
    "nombre_sain          1967\n",
    "nombre_exposed        413\n",
    "nombre_recovered    16818\n",
    "Name: 615, dtype: int64"
   ]
  },
  {
   "cell_type": "markdown",
   "id": "8bf594d8",
   "metadata": {},
   "source": [
    "nombre_infected       810\n",
    "nombre_sain          1969\n",
    "nombre_exposed        397\n",
    "nombre_recovered    16824\n",
    "Name: 616, dtype: int64"
   ]
  },
  {
   "cell_type": "markdown",
   "id": "cdf11765",
   "metadata": {},
   "source": [
    "nombre_infected       800\n",
    "nombre_sain          1979\n",
    "nombre_exposed        393\n",
    "nombre_recovered    16828\n",
    "Name: 617, dtype: int64"
   ]
  },
  {
   "cell_type": "markdown",
   "id": "dc3106c9",
   "metadata": {},
   "source": [
    "nombre_infected       777\n",
    "nombre_sain          1980\n",
    "nombre_exposed        384\n",
    "nombre_recovered    16859\n",
    "Name: 618, dtype: int64"
   ]
  },
  {
   "cell_type": "markdown",
   "id": "dc7ebed0",
   "metadata": {},
   "source": [
    "nombre_infected       762\n",
    "nombre_sain          1980\n",
    "nombre_exposed        368\n",
    "nombre_recovered    16890\n",
    "Name: 619, dtype: int64"
   ]
  },
  {
   "cell_type": "markdown",
   "id": "4ff052e4",
   "metadata": {},
   "source": [
    "nombre_infected       751\n",
    "nombre_sain          1974\n",
    "nombre_exposed        375\n",
    "nombre_recovered    16900\n",
    "Name: 620, dtype: int64"
   ]
  },
  {
   "cell_type": "markdown",
   "id": "4cf6c55b",
   "metadata": {},
   "source": [
    "nombre_infected       730\n",
    "nombre_sain          1994\n",
    "nombre_exposed        368\n",
    "nombre_recovered    16908\n",
    "Name: 621, dtype: int64"
   ]
  },
  {
   "cell_type": "markdown",
   "id": "f03fd8c6",
   "metadata": {},
   "source": [
    "nombre_infected       739\n",
    "nombre_sain          1983\n",
    "nombre_exposed        373\n",
    "nombre_recovered    16905\n",
    "Name: 622, dtype: int64"
   ]
  },
  {
   "cell_type": "markdown",
   "id": "db572922",
   "metadata": {},
   "source": [
    "nombre_infected       712\n",
    "nombre_sain          1995\n",
    "nombre_exposed        377\n",
    "nombre_recovered    16916\n",
    "Name: 623, dtype: int64"
   ]
  },
  {
   "cell_type": "markdown",
   "id": "59b59eb5",
   "metadata": {},
   "source": [
    "nombre_infected       710\n",
    "nombre_sain          2011\n",
    "nombre_exposed        364\n",
    "nombre_recovered    16915\n",
    "Name: 624, dtype: int64"
   ]
  },
  {
   "cell_type": "markdown",
   "id": "32d5ac2c",
   "metadata": {},
   "source": [
    "nombre_infected       729\n",
    "nombre_sain          2025\n",
    "nombre_exposed        350\n",
    "nombre_recovered    16896\n",
    "Name: 625, dtype: int64"
   ]
  },
  {
   "cell_type": "markdown",
   "id": "3d7c8d72",
   "metadata": {},
   "source": [
    "nombre_infected       734\n",
    "nombre_sain          2030\n",
    "nombre_exposed        346\n",
    "nombre_recovered    16890\n",
    "Name: 626, dtype: int64"
   ]
  },
  {
   "cell_type": "markdown",
   "id": "b8d8d2f1",
   "metadata": {},
   "source": [
    "nombre_infected       728\n",
    "nombre_sain          2032\n",
    "nombre_exposed        352\n",
    "nombre_recovered    16888\n",
    "Name: 627, dtype: int64"
   ]
  },
  {
   "cell_type": "markdown",
   "id": "03de2156",
   "metadata": {},
   "source": [
    "nombre_infected       705\n",
    "nombre_sain          2044\n",
    "nombre_exposed        372\n",
    "nombre_recovered    16879\n",
    "Name: 628, dtype: int64"
   ]
  },
  {
   "cell_type": "markdown",
   "id": "e2ebff7c",
   "metadata": {},
   "source": [
    "nombre_infected       694\n",
    "nombre_sain          2065\n",
    "nombre_exposed        373\n",
    "nombre_recovered    16868\n",
    "Name: 629, dtype: int64"
   ]
  },
  {
   "cell_type": "markdown",
   "id": "91010ab4",
   "metadata": {},
   "source": [
    "nombre_infected       690\n",
    "nombre_sain          2071\n",
    "nombre_exposed        369\n",
    "nombre_recovered    16870\n",
    "Name: 630, dtype: int64"
   ]
  },
  {
   "cell_type": "markdown",
   "id": "90ec9d70",
   "metadata": {},
   "source": [
    "nombre_infected       684\n",
    "nombre_sain          2075\n",
    "nombre_exposed        373\n",
    "nombre_recovered    16868\n",
    "Name: 631, dtype: int64"
   ]
  },
  {
   "cell_type": "markdown",
   "id": "5d7595f0",
   "metadata": {},
   "source": [
    "nombre_infected       682\n",
    "nombre_sain          2069\n",
    "nombre_exposed        371\n",
    "nombre_recovered    16878\n",
    "Name: 632, dtype: int64"
   ]
  },
  {
   "cell_type": "markdown",
   "id": "d679e817",
   "metadata": {},
   "source": [
    "nombre_infected       681\n",
    "nombre_sain          2068\n",
    "nombre_exposed        391\n",
    "nombre_recovered    16860\n",
    "Name: 633, dtype: int64"
   ]
  },
  {
   "cell_type": "markdown",
   "id": "357ec832",
   "metadata": {},
   "source": [
    "nombre_infected       669\n",
    "nombre_sain          2069\n",
    "nombre_exposed        389\n",
    "nombre_recovered    16873\n",
    "Name: 634, dtype: int64"
   ]
  },
  {
   "cell_type": "markdown",
   "id": "00aa9195",
   "metadata": {},
   "source": [
    "nombre_infected       669\n",
    "nombre_sain          2083\n",
    "nombre_exposed        368\n",
    "nombre_recovered    16880\n",
    "Name: 635, dtype: int64"
   ]
  },
  {
   "cell_type": "markdown",
   "id": "20ead053",
   "metadata": {},
   "source": [
    "nombre_infected       661\n",
    "nombre_sain          2081\n",
    "nombre_exposed        370\n",
    "nombre_recovered    16888\n",
    "Name: 636, dtype: int64"
   ]
  },
  {
   "cell_type": "markdown",
   "id": "09f979b5",
   "metadata": {},
   "source": [
    "nombre_infected       677\n",
    "nombre_sain          2092\n",
    "nombre_exposed        352\n",
    "nombre_recovered    16879\n",
    "Name: 637, dtype: int64"
   ]
  },
  {
   "cell_type": "markdown",
   "id": "41607b5b",
   "metadata": {},
   "source": [
    "nombre_infected       688\n",
    "nombre_sain          2068\n",
    "nombre_exposed        356\n",
    "nombre_recovered    16888\n",
    "Name: 638, dtype: int64"
   ]
  },
  {
   "cell_type": "markdown",
   "id": "98b3c8ea",
   "metadata": {},
   "source": [
    "nombre_infected       699\n",
    "nombre_sain          2043\n",
    "nombre_exposed        380\n",
    "nombre_recovered    16878\n",
    "Name: 639, dtype: int64"
   ]
  },
  {
   "cell_type": "markdown",
   "id": "cff11251",
   "metadata": {},
   "source": [
    "nombre_infected       695\n",
    "nombre_sain          2047\n",
    "nombre_exposed        394\n",
    "nombre_recovered    16864\n",
    "Name: 640, dtype: int64"
   ]
  },
  {
   "cell_type": "markdown",
   "id": "66a731ad",
   "metadata": {},
   "source": [
    "nombre_infected       693\n",
    "nombre_sain          2045\n",
    "nombre_exposed        395\n",
    "nombre_recovered    16867\n",
    "Name: 641, dtype: int64"
   ]
  },
  {
   "cell_type": "markdown",
   "id": "30d47a7d",
   "metadata": {},
   "source": [
    "nombre_infected       694\n",
    "nombre_sain          2028\n",
    "nombre_exposed        407\n",
    "nombre_recovered    16871\n",
    "Name: 642, dtype: int64"
   ]
  },
  {
   "cell_type": "markdown",
   "id": "a37fc18a",
   "metadata": {},
   "source": [
    "nombre_infected       696\n",
    "nombre_sain          2022\n",
    "nombre_exposed        396\n",
    "nombre_recovered    16886\n",
    "Name: 643, dtype: int64"
   ]
  },
  {
   "cell_type": "markdown",
   "id": "7baeb846",
   "metadata": {},
   "source": [
    "nombre_infected       708\n",
    "nombre_sain          2040\n",
    "nombre_exposed        388\n",
    "nombre_recovered    16864\n",
    "Name: 644, dtype: int64"
   ]
  },
  {
   "cell_type": "markdown",
   "id": "60078813",
   "metadata": {},
   "source": [
    "nombre_infected       736\n",
    "nombre_sain          2053\n",
    "nombre_exposed        346\n",
    "nombre_recovered    16865\n",
    "Name: 645, dtype: int64"
   ]
  },
  {
   "cell_type": "markdown",
   "id": "305288a2",
   "metadata": {},
   "source": [
    "nombre_infected       720\n",
    "nombre_sain          2049\n",
    "nombre_exposed        351\n",
    "nombre_recovered    16880\n",
    "Name: 646, dtype: int64"
   ]
  },
  {
   "cell_type": "markdown",
   "id": "c1729f59",
   "metadata": {},
   "source": [
    "nombre_infected       716\n",
    "nombre_sain          2058\n",
    "nombre_exposed        342\n",
    "nombre_recovered    16884\n",
    "Name: 647, dtype: int64"
   ]
  },
  {
   "cell_type": "markdown",
   "id": "be938884",
   "metadata": {},
   "source": [
    "nombre_infected       715\n",
    "nombre_sain          2075\n",
    "nombre_exposed        333\n",
    "nombre_recovered    16877\n",
    "Name: 648, dtype: int64"
   ]
  },
  {
   "cell_type": "markdown",
   "id": "68cc43ed",
   "metadata": {},
   "source": [
    "nombre_infected       706\n",
    "nombre_sain          2067\n",
    "nombre_exposed        341\n",
    "nombre_recovered    16886\n",
    "Name: 649, dtype: int64"
   ]
  },
  {
   "cell_type": "markdown",
   "id": "ec354988",
   "metadata": {},
   "source": [
    "nombre_infected       698\n",
    "nombre_sain          2081\n",
    "nombre_exposed        356\n",
    "nombre_recovered    16865\n",
    "Name: 650, dtype: int64"
   ]
  },
  {
   "cell_type": "markdown",
   "id": "7c10f6b1",
   "metadata": {},
   "source": [
    "nombre_infected       685\n",
    "nombre_sain          2089\n",
    "nombre_exposed        353\n",
    "nombre_recovered    16873\n",
    "Name: 651, dtype: int64"
   ]
  },
  {
   "cell_type": "markdown",
   "id": "ad6162ec",
   "metadata": {},
   "source": [
    "nombre_infected       655\n",
    "nombre_sain          2105\n",
    "nombre_exposed        376\n",
    "nombre_recovered    16864\n",
    "Name: 652, dtype: int64"
   ]
  },
  {
   "cell_type": "markdown",
   "id": "c821515e",
   "metadata": {},
   "source": [
    "nombre_infected       660\n",
    "nombre_sain          2123\n",
    "nombre_exposed        367\n",
    "nombre_recovered    16850\n",
    "Name: 653, dtype: int64"
   ]
  },
  {
   "cell_type": "markdown",
   "id": "e29478a4",
   "metadata": {},
   "source": [
    "nombre_infected       655\n",
    "nombre_sain          2134\n",
    "nombre_exposed        371\n",
    "nombre_recovered    16840\n",
    "Name: 654, dtype: int64"
   ]
  },
  {
   "cell_type": "markdown",
   "id": "7e322577",
   "metadata": {},
   "source": [
    "nombre_infected       660\n",
    "nombre_sain          2154\n",
    "nombre_exposed        370\n",
    "nombre_recovered    16816\n",
    "Name: 655, dtype: int64"
   ]
  },
  {
   "cell_type": "markdown",
   "id": "dc99389c",
   "metadata": {},
   "source": [
    "nombre_infected       659\n",
    "nombre_sain          2180\n",
    "nombre_exposed        368\n",
    "nombre_recovered    16793\n",
    "Name: 656, dtype: int64"
   ]
  },
  {
   "cell_type": "markdown",
   "id": "92597e67",
   "metadata": {},
   "source": [
    "nombre_infected       676\n",
    "nombre_sain          2186\n",
    "nombre_exposed        351\n",
    "nombre_recovered    16787\n",
    "Name: 657, dtype: int64"
   ]
  },
  {
   "cell_type": "markdown",
   "id": "8948e519",
   "metadata": {},
   "source": [
    "nombre_infected       665\n",
    "nombre_sain          2194\n",
    "nombre_exposed        349\n",
    "nombre_recovered    16792\n",
    "Name: 658, dtype: int64"
   ]
  },
  {
   "cell_type": "markdown",
   "id": "16f61ad4",
   "metadata": {},
   "source": [
    "nombre_infected       674\n",
    "nombre_sain          2195\n",
    "nombre_exposed        360\n",
    "nombre_recovered    16771\n",
    "Name: 659, dtype: int64"
   ]
  },
  {
   "cell_type": "markdown",
   "id": "870b3869",
   "metadata": {},
   "source": [
    "nombre_infected       650\n",
    "nombre_sain          2220\n",
    "nombre_exposed        356\n",
    "nombre_recovered    16774\n",
    "Name: 660, dtype: int64"
   ]
  },
  {
   "cell_type": "markdown",
   "id": "17ad4e87",
   "metadata": {},
   "source": [
    "nombre_infected       634\n",
    "nombre_sain          2221\n",
    "nombre_exposed        363\n",
    "nombre_recovered    16782\n",
    "Name: 661, dtype: int64"
   ]
  },
  {
   "cell_type": "markdown",
   "id": "48477ad8",
   "metadata": {},
   "source": [
    "nombre_infected       623\n",
    "nombre_sain          2209\n",
    "nombre_exposed        383\n",
    "nombre_recovered    16785\n",
    "Name: 662, dtype: int64"
   ]
  },
  {
   "cell_type": "markdown",
   "id": "9d1c9dce",
   "metadata": {},
   "source": [
    "nombre_infected       635\n",
    "nombre_sain          2197\n",
    "nombre_exposed        386\n",
    "nombre_recovered    16782\n",
    "Name: 663, dtype: int64"
   ]
  },
  {
   "cell_type": "markdown",
   "id": "e03cfbdf",
   "metadata": {},
   "source": [
    "nombre_infected       647\n",
    "nombre_sain          2204\n",
    "nombre_exposed        396\n",
    "nombre_recovered    16753\n",
    "Name: 664, dtype: int64"
   ]
  },
  {
   "cell_type": "markdown",
   "id": "2af6a7ff",
   "metadata": {},
   "source": [
    "nombre_infected       642\n",
    "nombre_sain          2215\n",
    "nombre_exposed        393\n",
    "nombre_recovered    16750\n",
    "Name: 665, dtype: int64"
   ]
  },
  {
   "cell_type": "markdown",
   "id": "5312c60e",
   "metadata": {},
   "source": [
    "nombre_infected       652\n",
    "nombre_sain          2224\n",
    "nombre_exposed        393\n",
    "nombre_recovered    16731\n",
    "Name: 666, dtype: int64"
   ]
  },
  {
   "cell_type": "markdown",
   "id": "4bf6ba3d",
   "metadata": {},
   "source": [
    "nombre_infected       649\n",
    "nombre_sain          2259\n",
    "nombre_exposed        380\n",
    "nombre_recovered    16712\n",
    "Name: 667, dtype: int64"
   ]
  },
  {
   "cell_type": "markdown",
   "id": "acf3ecf2",
   "metadata": {},
   "source": [
    "nombre_infected       630\n",
    "nombre_sain          2270\n",
    "nombre_exposed        403\n",
    "nombre_recovered    16697\n",
    "Name: 668, dtype: int64"
   ]
  },
  {
   "cell_type": "markdown",
   "id": "c9b371be",
   "metadata": {},
   "source": [
    "nombre_infected       654\n",
    "nombre_sain          2289\n",
    "nombre_exposed        375\n",
    "nombre_recovered    16682\n",
    "Name: 669, dtype: int64"
   ]
  },
  {
   "cell_type": "markdown",
   "id": "cee2c944",
   "metadata": {},
   "source": [
    "nombre_infected       669\n",
    "nombre_sain          2288\n",
    "nombre_exposed        374\n",
    "nombre_recovered    16669\n",
    "Name: 670, dtype: int64"
   ]
  },
  {
   "cell_type": "markdown",
   "id": "6405e5ae",
   "metadata": {},
   "source": [
    "nombre_infected       664\n",
    "nombre_sain          2287\n",
    "nombre_exposed        394\n",
    "nombre_recovered    16655\n",
    "Name: 671, dtype: int64"
   ]
  },
  {
   "cell_type": "markdown",
   "id": "59ac43d3",
   "metadata": {},
   "source": [
    "nombre_infected       667\n",
    "nombre_sain          2288\n",
    "nombre_exposed        399\n",
    "nombre_recovered    16646\n",
    "Name: 672, dtype: int64"
   ]
  },
  {
   "cell_type": "markdown",
   "id": "5a34314f",
   "metadata": {},
   "source": [
    "nombre_infected       660\n",
    "nombre_sain          2284\n",
    "nombre_exposed        410\n",
    "nombre_recovered    16646\n",
    "Name: 673, dtype: int64"
   ]
  },
  {
   "cell_type": "markdown",
   "id": "e76cf73b",
   "metadata": {},
   "source": [
    "nombre_infected       684\n",
    "nombre_sain          2267\n",
    "nombre_exposed        419\n",
    "nombre_recovered    16630\n",
    "Name: 674, dtype: int64"
   ]
  },
  {
   "cell_type": "markdown",
   "id": "110cd0cc",
   "metadata": {},
   "source": [
    "nombre_infected       700\n",
    "nombre_sain          2262\n",
    "nombre_exposed        421\n",
    "nombre_recovered    16617\n",
    "Name: 675, dtype: int64"
   ]
  },
  {
   "cell_type": "markdown",
   "id": "0e97b11c",
   "metadata": {},
   "source": [
    "nombre_infected       714\n",
    "nombre_sain          2275\n",
    "nombre_exposed        416\n",
    "nombre_recovered    16595\n",
    "Name: 676, dtype: int64"
   ]
  },
  {
   "cell_type": "markdown",
   "id": "7dc9dcf6",
   "metadata": {},
   "source": [
    "nombre_infected       729\n",
    "nombre_sain          2266\n",
    "nombre_exposed        411\n",
    "nombre_recovered    16594\n",
    "Name: 677, dtype: int64"
   ]
  },
  {
   "cell_type": "markdown",
   "id": "88731b32",
   "metadata": {},
   "source": [
    "nombre_infected       742\n",
    "nombre_sain          2251\n",
    "nombre_exposed        446\n",
    "nombre_recovered    16561\n",
    "Name: 678, dtype: int64"
   ]
  },
  {
   "cell_type": "markdown",
   "id": "847ac773",
   "metadata": {},
   "source": [
    "nombre_infected       745\n",
    "nombre_sain          2261\n",
    "nombre_exposed        457\n",
    "nombre_recovered    16537\n",
    "Name: 679, dtype: int64"
   ]
  },
  {
   "cell_type": "markdown",
   "id": "bc51f38a",
   "metadata": {},
   "source": [
    "nombre_infected       746\n",
    "nombre_sain          2256\n",
    "nombre_exposed        471\n",
    "nombre_recovered    16527\n",
    "Name: 680, dtype: int64"
   ]
  },
  {
   "cell_type": "markdown",
   "id": "80edc2f6",
   "metadata": {},
   "source": [
    "nombre_infected       736\n",
    "nombre_sain          2257\n",
    "nombre_exposed        482\n",
    "nombre_recovered    16525\n",
    "Name: 681, dtype: int64"
   ]
  },
  {
   "cell_type": "markdown",
   "id": "8e9fe931",
   "metadata": {},
   "source": [
    "nombre_infected       750\n",
    "nombre_sain          2251\n",
    "nombre_exposed        465\n",
    "nombre_recovered    16534\n",
    "Name: 682, dtype: int64"
   ]
  },
  {
   "cell_type": "markdown",
   "id": "680c950c",
   "metadata": {},
   "source": [
    "nombre_infected       779\n",
    "nombre_sain          2244\n",
    "nombre_exposed        451\n",
    "nombre_recovered    16526\n",
    "Name: 683, dtype: int64"
   ]
  },
  {
   "cell_type": "markdown",
   "id": "62f34e50",
   "metadata": {},
   "source": [
    "nombre_infected       801\n",
    "nombre_sain          2235\n",
    "nombre_exposed        450\n",
    "nombre_recovered    16514\n",
    "Name: 684, dtype: int64"
   ]
  },
  {
   "cell_type": "markdown",
   "id": "bc5a01a3",
   "metadata": {},
   "source": [
    "nombre_infected       818\n",
    "nombre_sain          2189\n",
    "nombre_exposed        467\n",
    "nombre_recovered    16526\n",
    "Name: 685, dtype: int64"
   ]
  },
  {
   "cell_type": "markdown",
   "id": "19be20c3",
   "metadata": {},
   "source": [
    "nombre_infected       839\n",
    "nombre_sain          2169\n",
    "nombre_exposed        471\n",
    "nombre_recovered    16521\n",
    "Name: 686, dtype: int64"
   ]
  },
  {
   "cell_type": "markdown",
   "id": "a407ba66",
   "metadata": {},
   "source": [
    "nombre_infected       854\n",
    "nombre_sain          2124\n",
    "nombre_exposed        488\n",
    "nombre_recovered    16534\n",
    "Name: 687, dtype: int64"
   ]
  },
  {
   "cell_type": "markdown",
   "id": "5730d1ad",
   "metadata": {},
   "source": [
    "nombre_infected       849\n",
    "nombre_sain          2120\n",
    "nombre_exposed        495\n",
    "nombre_recovered    16536\n",
    "Name: 688, dtype: int64"
   ]
  },
  {
   "cell_type": "markdown",
   "id": "5a66c100",
   "metadata": {},
   "source": [
    "nombre_infected       863\n",
    "nombre_sain          2075\n",
    "nombre_exposed        477\n",
    "nombre_recovered    16585\n",
    "Name: 689, dtype: int64"
   ]
  },
  {
   "cell_type": "markdown",
   "id": "6353f457",
   "metadata": {},
   "source": [
    "nombre_infected       873\n",
    "nombre_sain          2011\n",
    "nombre_exposed        500\n",
    "nombre_recovered    16616\n",
    "Name: 690, dtype: int64"
   ]
  },
  {
   "cell_type": "markdown",
   "id": "cccb43e9",
   "metadata": {},
   "source": [
    "nombre_infected       865\n",
    "nombre_sain          2004\n",
    "nombre_exposed        499\n",
    "nombre_recovered    16632\n",
    "Name: 691, dtype: int64"
   ]
  },
  {
   "cell_type": "markdown",
   "id": "555dd5c7",
   "metadata": {},
   "source": [
    "nombre_infected       870\n",
    "nombre_sain          1989\n",
    "nombre_exposed        486\n",
    "nombre_recovered    16655\n",
    "Name: 692, dtype: int64"
   ]
  },
  {
   "cell_type": "markdown",
   "id": "c15c0ca1",
   "metadata": {},
   "source": [
    "nombre_infected       870\n",
    "nombre_sain          1959\n",
    "nombre_exposed        488\n",
    "nombre_recovered    16683\n",
    "Name: 693, dtype: int64"
   ]
  },
  {
   "cell_type": "markdown",
   "id": "454d93a1",
   "metadata": {},
   "source": [
    "nombre_infected       889\n",
    "nombre_sain          1927\n",
    "nombre_exposed        490\n",
    "nombre_recovered    16694\n",
    "Name: 694, dtype: int64"
   ]
  },
  {
   "cell_type": "markdown",
   "id": "2338e8b0",
   "metadata": {},
   "source": [
    "nombre_infected       899\n",
    "nombre_sain          1911\n",
    "nombre_exposed        480\n",
    "nombre_recovered    16710\n",
    "Name: 695, dtype: int64"
   ]
  },
  {
   "cell_type": "markdown",
   "id": "b6d52ca8",
   "metadata": {},
   "source": [
    "nombre_infected       893\n",
    "nombre_sain          1895\n",
    "nombre_exposed        461\n",
    "nombre_recovered    16751\n",
    "Name: 696, dtype: int64"
   ]
  },
  {
   "cell_type": "markdown",
   "id": "c567dc38",
   "metadata": {},
   "source": [
    "nombre_infected       873\n",
    "nombre_sain          1896\n",
    "nombre_exposed        448\n",
    "nombre_recovered    16783\n",
    "Name: 697, dtype: int64"
   ]
  },
  {
   "cell_type": "markdown",
   "id": "791928e4",
   "metadata": {},
   "source": [
    "nombre_infected       866\n",
    "nombre_sain          1873\n",
    "nombre_exposed        429\n",
    "nombre_recovered    16832\n",
    "Name: 698, dtype: int64"
   ]
  },
  {
   "cell_type": "markdown",
   "id": "e3f5fb01",
   "metadata": {},
   "source": [
    "nombre_infected       863\n",
    "nombre_sain          1878\n",
    "nombre_exposed        390\n",
    "nombre_recovered    16869\n",
    "Name: 699, dtype: int64"
   ]
  },
  {
   "cell_type": "markdown",
   "id": "127ba568",
   "metadata": {},
   "source": [
    "nombre_infected       827\n",
    "nombre_sain          1877\n",
    "nombre_exposed        401\n",
    "nombre_recovered    16895\n",
    "Name: 700, dtype: int64"
   ]
  },
  {
   "cell_type": "markdown",
   "id": "9f24c05f",
   "metadata": {},
   "source": [
    "nombre_infected       828\n",
    "nombre_sain          1870\n",
    "nombre_exposed        398\n",
    "nombre_recovered    16904\n",
    "Name: 701, dtype: int64"
   ]
  },
  {
   "cell_type": "markdown",
   "id": "3163b357",
   "metadata": {},
   "source": [
    "nombre_infected       811\n",
    "nombre_sain          1870\n",
    "nombre_exposed        399\n",
    "nombre_recovered    16920\n",
    "Name: 702, dtype: int64"
   ]
  },
  {
   "cell_type": "markdown",
   "id": "fdc71481",
   "metadata": {},
   "source": [
    "nombre_infected       787\n",
    "nombre_sain          1867\n",
    "nombre_exposed        396\n",
    "nombre_recovered    16950\n",
    "Name: 703, dtype: int64"
   ]
  },
  {
   "cell_type": "markdown",
   "id": "f73466e7",
   "metadata": {},
   "source": [
    "nombre_infected       748\n",
    "nombre_sain          1879\n",
    "nombre_exposed        392\n",
    "nombre_recovered    16981\n",
    "Name: 704, dtype: int64"
   ]
  },
  {
   "cell_type": "markdown",
   "id": "edefc779",
   "metadata": {},
   "source": [
    "nombre_infected       740\n",
    "nombre_sain          1865\n",
    "nombre_exposed        404\n",
    "nombre_recovered    16991\n",
    "Name: 705, dtype: int64"
   ]
  },
  {
   "cell_type": "markdown",
   "id": "73e2858f",
   "metadata": {},
   "source": [
    "nombre_infected       737\n",
    "nombre_sain          1871\n",
    "nombre_exposed        373\n",
    "nombre_recovered    17019\n",
    "Name: 706, dtype: int64"
   ]
  },
  {
   "cell_type": "markdown",
   "id": "fb66c8a3",
   "metadata": {},
   "source": [
    "nombre_infected       748\n",
    "nombre_sain          1905\n",
    "nombre_exposed        365\n",
    "nombre_recovered    16982\n",
    "Name: 707, dtype: int64"
   ]
  },
  {
   "cell_type": "markdown",
   "id": "bce60a0f",
   "metadata": {},
   "source": [
    "nombre_infected       758\n",
    "nombre_sain          1922\n",
    "nombre_exposed        363\n",
    "nombre_recovered    16957\n",
    "Name: 708, dtype: int64"
   ]
  },
  {
   "cell_type": "markdown",
   "id": "c5de841c",
   "metadata": {},
   "source": [
    "nombre_infected       751\n",
    "nombre_sain          1920\n",
    "nombre_exposed        368\n",
    "nombre_recovered    16961\n",
    "Name: 709, dtype: int64"
   ]
  },
  {
   "cell_type": "markdown",
   "id": "d8e41720",
   "metadata": {},
   "source": [
    "nombre_infected       757\n",
    "nombre_sain          1916\n",
    "nombre_exposed        374\n",
    "nombre_recovered    16953\n",
    "Name: 710, dtype: int64"
   ]
  },
  {
   "cell_type": "markdown",
   "id": "a5c58073",
   "metadata": {},
   "source": [
    "nombre_infected       742\n",
    "nombre_sain          1941\n",
    "nombre_exposed        386\n",
    "nombre_recovered    16931\n",
    "Name: 711, dtype: int64"
   ]
  },
  {
   "cell_type": "markdown",
   "id": "ca0477f3",
   "metadata": {},
   "source": [
    "nombre_infected       722\n",
    "nombre_sain          1949\n",
    "nombre_exposed        385\n",
    "nombre_recovered    16944\n",
    "Name: 712, dtype: int64"
   ]
  },
  {
   "cell_type": "markdown",
   "id": "d30b8e2c",
   "metadata": {},
   "source": [
    "nombre_infected       719\n",
    "nombre_sain          1962\n",
    "nombre_exposed        378\n",
    "nombre_recovered    16941\n",
    "Name: 713, dtype: int64"
   ]
  },
  {
   "cell_type": "markdown",
   "id": "cd101c8e",
   "metadata": {},
   "source": [
    "nombre_infected       698\n",
    "nombre_sain          1972\n",
    "nombre_exposed        367\n",
    "nombre_recovered    16963\n",
    "Name: 714, dtype: int64"
   ]
  },
  {
   "cell_type": "markdown",
   "id": "62090b2f",
   "metadata": {},
   "source": [
    "nombre_infected       677\n",
    "nombre_sain          1981\n",
    "nombre_exposed        382\n",
    "nombre_recovered    16960\n",
    "Name: 715, dtype: int64"
   ]
  },
  {
   "cell_type": "markdown",
   "id": "36427bff",
   "metadata": {},
   "source": [
    "nombre_infected       686\n",
    "nombre_sain          1991\n",
    "nombre_exposed        364\n",
    "nombre_recovered    16959\n",
    "Name: 716, dtype: int64"
   ]
  },
  {
   "cell_type": "markdown",
   "id": "961bd083",
   "metadata": {},
   "source": [
    "nombre_infected       675\n",
    "nombre_sain          2026\n",
    "nombre_exposed        359\n",
    "nombre_recovered    16940\n",
    "Name: 717, dtype: int64"
   ]
  },
  {
   "cell_type": "markdown",
   "id": "3d27ce29",
   "metadata": {},
   "source": [
    "nombre_infected       692\n",
    "nombre_sain          2023\n",
    "nombre_exposed        355\n",
    "nombre_recovered    16930\n",
    "Name: 718, dtype: int64"
   ]
  },
  {
   "cell_type": "markdown",
   "id": "b4ce781a",
   "metadata": {},
   "source": [
    "nombre_infected       689\n",
    "nombre_sain          2022\n",
    "nombre_exposed        364\n",
    "nombre_recovered    16925\n",
    "Name: 719, dtype: int64"
   ]
  },
  {
   "cell_type": "markdown",
   "id": "9a4006a5",
   "metadata": {},
   "source": [
    "nombre_infected       660\n",
    "nombre_sain          2043\n",
    "nombre_exposed        365\n",
    "nombre_recovered    16932\n",
    "Name: 720, dtype: int64"
   ]
  },
  {
   "cell_type": "markdown",
   "id": "341f0067",
   "metadata": {},
   "source": [
    "nombre_infected       651\n",
    "nombre_sain          2061\n",
    "nombre_exposed        359\n",
    "nombre_recovered    16929\n",
    "Name: 721, dtype: int64"
   ]
  },
  {
   "cell_type": "markdown",
   "id": "b22b8b4f",
   "metadata": {},
   "source": [
    "nombre_infected       639\n",
    "nombre_sain          2096\n",
    "nombre_exposed        341\n",
    "nombre_recovered    16924\n",
    "Name: 722, dtype: int64"
   ]
  },
  {
   "cell_type": "markdown",
   "id": "ac601e3d",
   "metadata": {},
   "source": [
    "nombre_infected       616\n",
    "nombre_sain          2120\n",
    "nombre_exposed        347\n",
    "nombre_recovered    16917\n",
    "Name: 723, dtype: int64"
   ]
  },
  {
   "cell_type": "markdown",
   "id": "c64fc928",
   "metadata": {},
   "source": [
    "nombre_infected       624\n",
    "nombre_sain          2141\n",
    "nombre_exposed        329\n",
    "nombre_recovered    16906\n",
    "Name: 724, dtype: int64"
   ]
  },
  {
   "cell_type": "markdown",
   "id": "86303677",
   "metadata": {},
   "source": [
    "nombre_infected       628\n",
    "nombre_sain          2165\n",
    "nombre_exposed        325\n",
    "nombre_recovered    16882\n",
    "Name: 725, dtype: int64"
   ]
  },
  {
   "cell_type": "markdown",
   "id": "370a08c3",
   "metadata": {},
   "source": [
    "nombre_infected       594\n",
    "nombre_sain          2157\n",
    "nombre_exposed        358\n",
    "nombre_recovered    16891\n",
    "Name: 726, dtype: int64"
   ]
  },
  {
   "cell_type": "markdown",
   "id": "70daf24c",
   "metadata": {},
   "source": [
    "nombre_infected       590\n",
    "nombre_sain          2173\n",
    "nombre_exposed        363\n",
    "nombre_recovered    16874\n",
    "Name: 727, dtype: int64"
   ]
  },
  {
   "cell_type": "markdown",
   "id": "e21dd2ef",
   "metadata": {},
   "source": [
    "nombre_infected       596\n",
    "nombre_sain          2180\n",
    "nombre_exposed        367\n",
    "nombre_recovered    16857\n",
    "Name: 728, dtype: int64"
   ]
  },
  {
   "cell_type": "markdown",
   "id": "0a1d7ae8",
   "metadata": {},
   "source": [
    "nombre_infected       598\n",
    "nombre_sain          2196\n",
    "nombre_exposed        364\n",
    "nombre_recovered    16842\n",
    "Name: 729, dtype: int64"
   ]
  },
  {
   "cell_type": "markdown",
   "id": "e1de1c9f",
   "metadata": {},
   "source": [
    "nombre_infected       608\n",
    "nombre_sain          2217\n",
    "nombre_exposed        343\n",
    "nombre_recovered    16832\n",
    "Name: 730, dtype: int64"
   ]
  }
 ],
 "metadata": {},
 "nbformat": 4,
 "nbformat_minor": 5
}
