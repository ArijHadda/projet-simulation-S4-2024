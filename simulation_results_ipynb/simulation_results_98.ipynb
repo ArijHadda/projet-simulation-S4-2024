{
 "cells": [
  {
   "cell_type": "markdown",
   "id": "448a6bce",
   "metadata": {},
   "source": [
    "nombre_infected        20\n",
    "nombre_sain         19980\n",
    "nombre_exposed          0\n",
    "nombre_recovered        0\n",
    "Name: 0, dtype: int64"
   ]
  },
  {
   "cell_type": "markdown",
   "id": "785454ae",
   "metadata": {},
   "source": [
    "nombre_infected        20\n",
    "nombre_sain         19964\n",
    "nombre_exposed         16\n",
    "nombre_recovered        0\n",
    "Name: 1, dtype: int64"
   ]
  },
  {
   "cell_type": "markdown",
   "id": "eaf62ef7",
   "metadata": {},
   "source": [
    "nombre_infected        20\n",
    "nombre_sain         19932\n",
    "nombre_exposed         48\n",
    "nombre_recovered        0\n",
    "Name: 2, dtype: int64"
   ]
  },
  {
   "cell_type": "markdown",
   "id": "7f1a524f",
   "metadata": {},
   "source": [
    "nombre_infected        26\n",
    "nombre_sain         19892\n",
    "nombre_exposed         82\n",
    "nombre_recovered        0\n",
    "Name: 3, dtype: int64"
   ]
  },
  {
   "cell_type": "markdown",
   "id": "943aebc2",
   "metadata": {},
   "source": [
    "nombre_infected        42\n",
    "nombre_sain         19854\n",
    "nombre_exposed        104\n",
    "nombre_recovered        0\n",
    "Name: 4, dtype: int64"
   ]
  },
  {
   "cell_type": "markdown",
   "id": "17c7f899",
   "metadata": {},
   "source": [
    "nombre_infected        60\n",
    "nombre_sain         19787\n",
    "nombre_exposed        152\n",
    "nombre_recovered        1\n",
    "Name: 5, dtype: int64"
   ]
  },
  {
   "cell_type": "markdown",
   "id": "5cbef74a",
   "metadata": {},
   "source": [
    "nombre_infected        87\n",
    "nombre_sain         19706\n",
    "nombre_exposed        205\n",
    "nombre_recovered        2\n",
    "Name: 6, dtype: int64"
   ]
  },
  {
   "cell_type": "markdown",
   "id": "a8ef9c66",
   "metadata": {},
   "source": [
    "nombre_infected       119\n",
    "nombre_sain         19587\n",
    "nombre_exposed        288\n",
    "nombre_recovered        6\n",
    "Name: 7, dtype: int64"
   ]
  },
  {
   "cell_type": "markdown",
   "id": "356be6dc",
   "metadata": {},
   "source": [
    "nombre_infected       160\n",
    "nombre_sain         19418\n",
    "nombre_exposed        410\n",
    "nombre_recovered       12\n",
    "Name: 8, dtype: int64"
   ]
  },
  {
   "cell_type": "markdown",
   "id": "e3c73f60",
   "metadata": {},
   "source": [
    "nombre_infected       207\n",
    "nombre_sain         19182\n",
    "nombre_exposed        582\n",
    "nombre_recovered       29\n",
    "Name: 9, dtype: int64"
   ]
  },
  {
   "cell_type": "markdown",
   "id": "c9202a44",
   "metadata": {},
   "source": [
    "nombre_infected       280\n",
    "nombre_sain         18929\n",
    "nombre_exposed        743\n",
    "nombre_recovered       48\n",
    "Name: 10, dtype: int64"
   ]
  },
  {
   "cell_type": "markdown",
   "id": "2688b77d",
   "metadata": {},
   "source": [
    "nombre_infected       405\n",
    "nombre_sain         18546\n",
    "nombre_exposed        981\n",
    "nombre_recovered       68\n",
    "Name: 11, dtype: int64"
   ]
  },
  {
   "cell_type": "markdown",
   "id": "1efac72c",
   "metadata": {},
   "source": [
    "nombre_infected       529\n",
    "nombre_sain         18020\n",
    "nombre_exposed       1346\n",
    "nombre_recovered      105\n",
    "Name: 12, dtype: int64"
   ]
  },
  {
   "cell_type": "markdown",
   "id": "6e84d2f5",
   "metadata": {},
   "source": [
    "nombre_infected       694\n",
    "nombre_sain         17372\n",
    "nombre_exposed       1771\n",
    "nombre_recovered      163\n",
    "Name: 13, dtype: int64"
   ]
  },
  {
   "cell_type": "markdown",
   "id": "ce707dd0",
   "metadata": {},
   "source": [
    "nombre_infected       914\n",
    "nombre_sain         16594\n",
    "nombre_exposed       2255\n",
    "nombre_recovered      237\n",
    "Name: 14, dtype: int64"
   ]
  },
  {
   "cell_type": "markdown",
   "id": "af28a356",
   "metadata": {},
   "source": [
    "nombre_infected      1206\n",
    "nombre_sain         15626\n",
    "nombre_exposed       2834\n",
    "nombre_recovered      334\n",
    "Name: 15, dtype: int64"
   ]
  },
  {
   "cell_type": "markdown",
   "id": "71e2a54e",
   "metadata": {},
   "source": [
    "nombre_infected      1609\n",
    "nombre_sain         14392\n",
    "nombre_exposed       3562\n",
    "nombre_recovered      437\n",
    "Name: 16, dtype: int64"
   ]
  },
  {
   "cell_type": "markdown",
   "id": "33f110c7",
   "metadata": {},
   "source": [
    "nombre_infected      2055\n",
    "nombre_sain         12921\n",
    "nombre_exposed       4421\n",
    "nombre_recovered      603\n",
    "Name: 17, dtype: int64"
   ]
  },
  {
   "cell_type": "markdown",
   "id": "e024c7b1",
   "metadata": {},
   "source": [
    "nombre_infected      2640\n",
    "nombre_sain         11284\n",
    "nombre_exposed       5269\n",
    "nombre_recovered      807\n",
    "Name: 18, dtype: int64"
   ]
  },
  {
   "cell_type": "markdown",
   "id": "a6461ed3",
   "metadata": {},
   "source": [
    "nombre_infected     3301\n",
    "nombre_sain         9536\n",
    "nombre_exposed      6077\n",
    "nombre_recovered    1086\n",
    "Name: 19, dtype: int64"
   ]
  },
  {
   "cell_type": "markdown",
   "id": "2a5e137d",
   "metadata": {},
   "source": [
    "nombre_infected     4133\n",
    "nombre_sain         7821\n",
    "nombre_exposed      6640\n",
    "nombre_recovered    1406\n",
    "Name: 20, dtype: int64"
   ]
  },
  {
   "cell_type": "markdown",
   "id": "461c003d",
   "metadata": {},
   "source": [
    "nombre_infected     4933\n",
    "nombre_sain         6142\n",
    "nombre_exposed      7103\n",
    "nombre_recovered    1822\n",
    "Name: 21, dtype: int64"
   ]
  },
  {
   "cell_type": "markdown",
   "id": "e480612c",
   "metadata": {},
   "source": [
    "nombre_infected     5842\n",
    "nombre_sain         4685\n",
    "nombre_exposed      7147\n",
    "nombre_recovered    2326\n",
    "Name: 22, dtype: int64"
   ]
  },
  {
   "cell_type": "markdown",
   "id": "28573664",
   "metadata": {},
   "source": [
    "nombre_infected     6649\n",
    "nombre_sain         3462\n",
    "nombre_exposed      6922\n",
    "nombre_recovered    2967\n",
    "Name: 23, dtype: int64"
   ]
  },
  {
   "cell_type": "markdown",
   "id": "fc6feb2d",
   "metadata": {},
   "source": [
    "nombre_infected     7359\n",
    "nombre_sain         2502\n",
    "nombre_exposed      6417\n",
    "nombre_recovered    3722\n",
    "Name: 24, dtype: int64"
   ]
  },
  {
   "cell_type": "markdown",
   "id": "bad9515e",
   "metadata": {},
   "source": [
    "nombre_infected     7871\n",
    "nombre_sain         1749\n",
    "nombre_exposed      5799\n",
    "nombre_recovered    4581\n",
    "Name: 25, dtype: int64"
   ]
  },
  {
   "cell_type": "markdown",
   "id": "9d2439a7",
   "metadata": {},
   "source": [
    "nombre_infected     8261\n",
    "nombre_sain         1192\n",
    "nombre_exposed      5077\n",
    "nombre_recovered    5470\n",
    "Name: 26, dtype: int64"
   ]
  },
  {
   "cell_type": "markdown",
   "id": "5a171908",
   "metadata": {},
   "source": [
    "nombre_infected     8413\n",
    "nombre_sain          803\n",
    "nombre_exposed      4334\n",
    "nombre_recovered    6450\n",
    "Name: 27, dtype: int64"
   ]
  },
  {
   "cell_type": "markdown",
   "id": "8fc0841b",
   "metadata": {},
   "source": [
    "nombre_infected     8396\n",
    "nombre_sain          561\n",
    "nombre_exposed      3605\n",
    "nombre_recovered    7438\n",
    "Name: 28, dtype: int64"
   ]
  },
  {
   "cell_type": "markdown",
   "id": "a2ac6207",
   "metadata": {},
   "source": [
    "nombre_infected     8186\n",
    "nombre_sain          395\n",
    "nombre_exposed      2973\n",
    "nombre_recovered    8446\n",
    "Name: 29, dtype: int64"
   ]
  },
  {
   "cell_type": "markdown",
   "id": "dee092f9",
   "metadata": {},
   "source": [
    "nombre_infected     7879\n",
    "nombre_sain          283\n",
    "nombre_exposed      2392\n",
    "nombre_recovered    9446\n",
    "Name: 30, dtype: int64"
   ]
  },
  {
   "cell_type": "markdown",
   "id": "4162f16e",
   "metadata": {},
   "source": [
    "nombre_infected      7474\n",
    "nombre_sain           204\n",
    "nombre_exposed       1904\n",
    "nombre_recovered    10418\n",
    "Name: 31, dtype: int64"
   ]
  },
  {
   "cell_type": "markdown",
   "id": "6113582d",
   "metadata": {},
   "source": [
    "nombre_infected      7064\n",
    "nombre_sain           170\n",
    "nombre_exposed       1478\n",
    "nombre_recovered    11288\n",
    "Name: 32, dtype: int64"
   ]
  },
  {
   "cell_type": "markdown",
   "id": "84b9e9e2",
   "metadata": {},
   "source": [
    "nombre_infected      6488\n",
    "nombre_sain           140\n",
    "nombre_exposed       1193\n",
    "nombre_recovered    12179\n",
    "Name: 33, dtype: int64"
   ]
  },
  {
   "cell_type": "markdown",
   "id": "b0d1bd56",
   "metadata": {},
   "source": [
    "nombre_infected      5987\n",
    "nombre_sain           128\n",
    "nombre_exposed        931\n",
    "nombre_recovered    12954\n",
    "Name: 34, dtype: int64"
   ]
  },
  {
   "cell_type": "markdown",
   "id": "82fec2ad",
   "metadata": {},
   "source": [
    "nombre_infected      5453\n",
    "nombre_sain           132\n",
    "nombre_exposed        709\n",
    "nombre_recovered    13706\n",
    "Name: 35, dtype: int64"
   ]
  },
  {
   "cell_type": "markdown",
   "id": "3ffcac96",
   "metadata": {},
   "source": [
    "nombre_infected      4951\n",
    "nombre_sain           128\n",
    "nombre_exposed        556\n",
    "nombre_recovered    14365\n",
    "Name: 36, dtype: int64"
   ]
  },
  {
   "cell_type": "markdown",
   "id": "a1fd84cd",
   "metadata": {},
   "source": [
    "nombre_infected      4481\n",
    "nombre_sain           150\n",
    "nombre_exposed        424\n",
    "nombre_recovered    14945\n",
    "Name: 37, dtype: int64"
   ]
  },
  {
   "cell_type": "markdown",
   "id": "1ef43d06",
   "metadata": {},
   "source": [
    "nombre_infected      4034\n",
    "nombre_sain           159\n",
    "nombre_exposed        339\n",
    "nombre_recovered    15468\n",
    "Name: 38, dtype: int64"
   ]
  },
  {
   "cell_type": "markdown",
   "id": "1ba0cb14",
   "metadata": {},
   "source": [
    "nombre_infected      3577\n",
    "nombre_sain           178\n",
    "nombre_exposed        271\n",
    "nombre_recovered    15974\n",
    "Name: 39, dtype: int64"
   ]
  },
  {
   "cell_type": "markdown",
   "id": "7a321df5",
   "metadata": {},
   "source": [
    "nombre_infected      3177\n",
    "nombre_sain           193\n",
    "nombre_exposed        228\n",
    "nombre_recovered    16402\n",
    "Name: 40, dtype: int64"
   ]
  },
  {
   "cell_type": "markdown",
   "id": "594a1e7e",
   "metadata": {},
   "source": [
    "nombre_infected      2817\n",
    "nombre_sain           211\n",
    "nombre_exposed        179\n",
    "nombre_recovered    16793\n",
    "Name: 41, dtype: int64"
   ]
  },
  {
   "cell_type": "markdown",
   "id": "7a9769f8",
   "metadata": {},
   "source": [
    "nombre_infected      2494\n",
    "nombre_sain           245\n",
    "nombre_exposed        154\n",
    "nombre_recovered    17107\n",
    "Name: 42, dtype: int64"
   ]
  },
  {
   "cell_type": "markdown",
   "id": "3ee01ff1",
   "metadata": {},
   "source": [
    "nombre_infected      2198\n",
    "nombre_sain           256\n",
    "nombre_exposed        134\n",
    "nombre_recovered    17412\n",
    "Name: 43, dtype: int64"
   ]
  },
  {
   "cell_type": "markdown",
   "id": "bb4b5a74",
   "metadata": {},
   "source": [
    "nombre_infected      1926\n",
    "nombre_sain           280\n",
    "nombre_exposed        136\n",
    "nombre_recovered    17658\n",
    "Name: 44, dtype: int64"
   ]
  },
  {
   "cell_type": "markdown",
   "id": "24fed4c9",
   "metadata": {},
   "source": [
    "nombre_infected      1679\n",
    "nombre_sain           308\n",
    "nombre_exposed        130\n",
    "nombre_recovered    17883\n",
    "Name: 45, dtype: int64"
   ]
  },
  {
   "cell_type": "markdown",
   "id": "2c646637",
   "metadata": {},
   "source": [
    "nombre_infected      1468\n",
    "nombre_sain           353\n",
    "nombre_exposed        126\n",
    "nombre_recovered    18053\n",
    "Name: 46, dtype: int64"
   ]
  },
  {
   "cell_type": "markdown",
   "id": "b2a427d2",
   "metadata": {},
   "source": [
    "nombre_infected      1294\n",
    "nombre_sain           387\n",
    "nombre_exposed        121\n",
    "nombre_recovered    18198\n",
    "Name: 47, dtype: int64"
   ]
  },
  {
   "cell_type": "markdown",
   "id": "e4488003",
   "metadata": {},
   "source": [
    "nombre_infected      1149\n",
    "nombre_sain           442\n",
    "nombre_exposed        120\n",
    "nombre_recovered    18289\n",
    "Name: 48, dtype: int64"
   ]
  },
  {
   "cell_type": "markdown",
   "id": "3e4beeac",
   "metadata": {},
   "source": [
    "nombre_infected      1015\n",
    "nombre_sain           496\n",
    "nombre_exposed        124\n",
    "nombre_recovered    18365\n",
    "Name: 49, dtype: int64"
   ]
  },
  {
   "cell_type": "markdown",
   "id": "ebc70383",
   "metadata": {},
   "source": [
    "nombre_infected       919\n",
    "nombre_sain           567\n",
    "nombre_exposed        125\n",
    "nombre_recovered    18389\n",
    "Name: 50, dtype: int64"
   ]
  },
  {
   "cell_type": "markdown",
   "id": "5404a300",
   "metadata": {},
   "source": [
    "nombre_infected       815\n",
    "nombre_sain           626\n",
    "nombre_exposed        137\n",
    "nombre_recovered    18422\n",
    "Name: 51, dtype: int64"
   ]
  },
  {
   "cell_type": "markdown",
   "id": "2d0b087d",
   "metadata": {},
   "source": [
    "nombre_infected       718\n",
    "nombre_sain           690\n",
    "nombre_exposed        138\n",
    "nombre_recovered    18454\n",
    "Name: 52, dtype: int64"
   ]
  },
  {
   "cell_type": "markdown",
   "id": "966824fd",
   "metadata": {},
   "source": [
    "nombre_infected       652\n",
    "nombre_sain           741\n",
    "nombre_exposed        139\n",
    "nombre_recovered    18468\n",
    "Name: 53, dtype: int64"
   ]
  },
  {
   "cell_type": "markdown",
   "id": "1ccb1a11",
   "metadata": {},
   "source": [
    "nombre_infected       609\n",
    "nombre_sain           817\n",
    "nombre_exposed        136\n",
    "nombre_recovered    18438\n",
    "Name: 54, dtype: int64"
   ]
  },
  {
   "cell_type": "markdown",
   "id": "4659c694",
   "metadata": {},
   "source": [
    "nombre_infected       564\n",
    "nombre_sain           862\n",
    "nombre_exposed        148\n",
    "nombre_recovered    18426\n",
    "Name: 55, dtype: int64"
   ]
  },
  {
   "cell_type": "markdown",
   "id": "df214e43",
   "metadata": {},
   "source": [
    "nombre_infected       534\n",
    "nombre_sain           912\n",
    "nombre_exposed        146\n",
    "nombre_recovered    18408\n",
    "Name: 56, dtype: int64"
   ]
  },
  {
   "cell_type": "markdown",
   "id": "c2a0307c",
   "metadata": {},
   "source": [
    "nombre_infected       523\n",
    "nombre_sain           960\n",
    "nombre_exposed        134\n",
    "nombre_recovered    18383\n",
    "Name: 57, dtype: int64"
   ]
  },
  {
   "cell_type": "markdown",
   "id": "8ecf63c0",
   "metadata": {},
   "source": [
    "nombre_infected       508\n",
    "nombre_sain          1002\n",
    "nombre_exposed        134\n",
    "nombre_recovered    18356\n",
    "Name: 58, dtype: int64"
   ]
  },
  {
   "cell_type": "markdown",
   "id": "6526830e",
   "metadata": {},
   "source": [
    "nombre_infected       478\n",
    "nombre_sain          1050\n",
    "nombre_exposed        135\n",
    "nombre_recovered    18337\n",
    "Name: 59, dtype: int64"
   ]
  },
  {
   "cell_type": "markdown",
   "id": "ac73d6fa",
   "metadata": {},
   "source": [
    "nombre_infected       458\n",
    "nombre_sain          1078\n",
    "nombre_exposed        131\n",
    "nombre_recovered    18333\n",
    "Name: 60, dtype: int64"
   ]
  },
  {
   "cell_type": "markdown",
   "id": "242518d1",
   "metadata": {},
   "source": [
    "nombre_infected       434\n",
    "nombre_sain          1114\n",
    "nombre_exposed        132\n",
    "nombre_recovered    18320\n",
    "Name: 61, dtype: int64"
   ]
  },
  {
   "cell_type": "markdown",
   "id": "fd6683c8",
   "metadata": {},
   "source": [
    "nombre_infected       408\n",
    "nombre_sain          1152\n",
    "nombre_exposed        131\n",
    "nombre_recovered    18309\n",
    "Name: 62, dtype: int64"
   ]
  },
  {
   "cell_type": "markdown",
   "id": "a560fdf0",
   "metadata": {},
   "source": [
    "nombre_infected       391\n",
    "nombre_sain          1179\n",
    "nombre_exposed        127\n",
    "nombre_recovered    18303\n",
    "Name: 63, dtype: int64"
   ]
  },
  {
   "cell_type": "markdown",
   "id": "df2df4bc",
   "metadata": {},
   "source": [
    "nombre_infected       371\n",
    "nombre_sain          1203\n",
    "nombre_exposed        142\n",
    "nombre_recovered    18284\n",
    "Name: 64, dtype: int64"
   ]
  },
  {
   "cell_type": "markdown",
   "id": "d9d012bc",
   "metadata": {},
   "source": [
    "nombre_infected       362\n",
    "nombre_sain          1225\n",
    "nombre_exposed        135\n",
    "nombre_recovered    18278\n",
    "Name: 65, dtype: int64"
   ]
  },
  {
   "cell_type": "markdown",
   "id": "c0c6bc50",
   "metadata": {},
   "source": [
    "nombre_infected       351\n",
    "nombre_sain          1239\n",
    "nombre_exposed        141\n",
    "nombre_recovered    18269\n",
    "Name: 66, dtype: int64"
   ]
  },
  {
   "cell_type": "markdown",
   "id": "7ae28bdb",
   "metadata": {},
   "source": [
    "nombre_infected       335\n",
    "nombre_sain          1266\n",
    "nombre_exposed        138\n",
    "nombre_recovered    18261\n",
    "Name: 67, dtype: int64"
   ]
  },
  {
   "cell_type": "markdown",
   "id": "bf1815c1",
   "metadata": {},
   "source": [
    "nombre_infected       330\n",
    "nombre_sain          1289\n",
    "nombre_exposed        132\n",
    "nombre_recovered    18249\n",
    "Name: 68, dtype: int64"
   ]
  },
  {
   "cell_type": "markdown",
   "id": "35c53332",
   "metadata": {},
   "source": [
    "nombre_infected       329\n",
    "nombre_sain          1306\n",
    "nombre_exposed        134\n",
    "nombre_recovered    18231\n",
    "Name: 69, dtype: int64"
   ]
  },
  {
   "cell_type": "markdown",
   "id": "3a9da6c1",
   "metadata": {},
   "source": [
    "nombre_infected       323\n",
    "nombre_sain          1322\n",
    "nombre_exposed        133\n",
    "nombre_recovered    18222\n",
    "Name: 70, dtype: int64"
   ]
  },
  {
   "cell_type": "markdown",
   "id": "54254969",
   "metadata": {},
   "source": [
    "nombre_infected       325\n",
    "nombre_sain          1341\n",
    "nombre_exposed        129\n",
    "nombre_recovered    18205\n",
    "Name: 71, dtype: int64"
   ]
  },
  {
   "cell_type": "markdown",
   "id": "815137ba",
   "metadata": {},
   "source": [
    "nombre_infected       311\n",
    "nombre_sain          1348\n",
    "nombre_exposed        125\n",
    "nombre_recovered    18216\n",
    "Name: 72, dtype: int64"
   ]
  },
  {
   "cell_type": "markdown",
   "id": "4dca6b0a",
   "metadata": {},
   "source": [
    "nombre_infected       292\n",
    "nombre_sain          1359\n",
    "nombre_exposed        129\n",
    "nombre_recovered    18220\n",
    "Name: 73, dtype: int64"
   ]
  },
  {
   "cell_type": "markdown",
   "id": "5b843ed9",
   "metadata": {},
   "source": [
    "nombre_infected       294\n",
    "nombre_sain          1396\n",
    "nombre_exposed         98\n",
    "nombre_recovered    18212\n",
    "Name: 74, dtype: int64"
   ]
  },
  {
   "cell_type": "markdown",
   "id": "8c12501b",
   "metadata": {},
   "source": [
    "nombre_infected       269\n",
    "nombre_sain          1409\n",
    "nombre_exposed         97\n",
    "nombre_recovered    18225\n",
    "Name: 75, dtype: int64"
   ]
  },
  {
   "cell_type": "markdown",
   "id": "df87571d",
   "metadata": {},
   "source": [
    "nombre_infected       248\n",
    "nombre_sain          1447\n",
    "nombre_exposed         93\n",
    "nombre_recovered    18212\n",
    "Name: 76, dtype: int64"
   ]
  },
  {
   "cell_type": "markdown",
   "id": "34502290",
   "metadata": {},
   "source": [
    "nombre_infected       232\n",
    "nombre_sain          1494\n",
    "nombre_exposed         92\n",
    "nombre_recovered    18182\n",
    "Name: 77, dtype: int64"
   ]
  },
  {
   "cell_type": "markdown",
   "id": "849e88fd",
   "metadata": {},
   "source": [
    "nombre_infected       227\n",
    "nombre_sain          1536\n",
    "nombre_exposed         89\n",
    "nombre_recovered    18148\n",
    "Name: 78, dtype: int64"
   ]
  },
  {
   "cell_type": "markdown",
   "id": "e1a7e06b",
   "metadata": {},
   "source": [
    "nombre_infected       206\n",
    "nombre_sain          1604\n",
    "nombre_exposed         90\n",
    "nombre_recovered    18100\n",
    "Name: 79, dtype: int64"
   ]
  },
  {
   "cell_type": "markdown",
   "id": "29f48f67",
   "metadata": {},
   "source": [
    "nombre_infected       200\n",
    "nombre_sain          1644\n",
    "nombre_exposed         87\n",
    "nombre_recovered    18069\n",
    "Name: 80, dtype: int64"
   ]
  },
  {
   "cell_type": "markdown",
   "id": "63031fdc",
   "metadata": {},
   "source": [
    "nombre_infected       188\n",
    "nombre_sain          1717\n",
    "nombre_exposed         85\n",
    "nombre_recovered    18010\n",
    "Name: 81, dtype: int64"
   ]
  },
  {
   "cell_type": "markdown",
   "id": "a359ac55",
   "metadata": {},
   "source": [
    "nombre_infected       189\n",
    "nombre_sain          1783\n",
    "nombre_exposed         85\n",
    "nombre_recovered    17943\n",
    "Name: 82, dtype: int64"
   ]
  },
  {
   "cell_type": "markdown",
   "id": "083e400f",
   "metadata": {},
   "source": [
    "nombre_infected       174\n",
    "nombre_sain          1832\n",
    "nombre_exposed         88\n",
    "nombre_recovered    17906\n",
    "Name: 83, dtype: int64"
   ]
  },
  {
   "cell_type": "markdown",
   "id": "4833e58b",
   "metadata": {},
   "source": [
    "nombre_infected       160\n",
    "nombre_sain          1897\n",
    "nombre_exposed         97\n",
    "nombre_recovered    17846\n",
    "Name: 84, dtype: int64"
   ]
  },
  {
   "cell_type": "markdown",
   "id": "41e90897",
   "metadata": {},
   "source": [
    "nombre_infected       159\n",
    "nombre_sain          1967\n",
    "nombre_exposed         92\n",
    "nombre_recovered    17782\n",
    "Name: 85, dtype: int64"
   ]
  },
  {
   "cell_type": "markdown",
   "id": "9d038df8",
   "metadata": {},
   "source": [
    "nombre_infected       156\n",
    "nombre_sain          2031\n",
    "nombre_exposed         89\n",
    "nombre_recovered    17724\n",
    "Name: 86, dtype: int64"
   ]
  },
  {
   "cell_type": "markdown",
   "id": "21eb54fe",
   "metadata": {},
   "source": [
    "nombre_infected       141\n",
    "nombre_sain          2108\n",
    "nombre_exposed         87\n",
    "nombre_recovered    17664\n",
    "Name: 87, dtype: int64"
   ]
  },
  {
   "cell_type": "markdown",
   "id": "96699bce",
   "metadata": {},
   "source": [
    "nombre_infected       136\n",
    "nombre_sain          2157\n",
    "nombre_exposed         94\n",
    "nombre_recovered    17613\n",
    "Name: 88, dtype: int64"
   ]
  },
  {
   "cell_type": "markdown",
   "id": "00b2e233",
   "metadata": {},
   "source": [
    "nombre_infected       132\n",
    "nombre_sain          2219\n",
    "nombre_exposed         93\n",
    "nombre_recovered    17556\n",
    "Name: 89, dtype: int64"
   ]
  },
  {
   "cell_type": "markdown",
   "id": "be782dad",
   "metadata": {},
   "source": [
    "nombre_infected       141\n",
    "nombre_sain          2278\n",
    "nombre_exposed         82\n",
    "nombre_recovered    17499\n",
    "Name: 90, dtype: int64"
   ]
  },
  {
   "cell_type": "markdown",
   "id": "23e9c87d",
   "metadata": {},
   "source": [
    "nombre_infected       141\n",
    "nombre_sain          2334\n",
    "nombre_exposed         85\n",
    "nombre_recovered    17440\n",
    "Name: 91, dtype: int64"
   ]
  },
  {
   "cell_type": "markdown",
   "id": "5e7af88d",
   "metadata": {},
   "source": [
    "nombre_infected       142\n",
    "nombre_sain          2383\n",
    "nombre_exposed         92\n",
    "nombre_recovered    17383\n",
    "Name: 92, dtype: int64"
   ]
  },
  {
   "cell_type": "markdown",
   "id": "d584d1a1",
   "metadata": {},
   "source": [
    "nombre_infected       138\n",
    "nombre_sain          2413\n",
    "nombre_exposed         91\n",
    "nombre_recovered    17358\n",
    "Name: 93, dtype: int64"
   ]
  },
  {
   "cell_type": "markdown",
   "id": "98260760",
   "metadata": {},
   "source": [
    "nombre_infected       142\n",
    "nombre_sain          2464\n",
    "nombre_exposed         89\n",
    "nombre_recovered    17305\n",
    "Name: 94, dtype: int64"
   ]
  },
  {
   "cell_type": "markdown",
   "id": "1b5d0a09",
   "metadata": {},
   "source": [
    "nombre_infected       134\n",
    "nombre_sain          2503\n",
    "nombre_exposed         99\n",
    "nombre_recovered    17264\n",
    "Name: 95, dtype: int64"
   ]
  },
  {
   "cell_type": "markdown",
   "id": "73477eb0",
   "metadata": {},
   "source": [
    "nombre_infected       141\n",
    "nombre_sain          2555\n",
    "nombre_exposed         90\n",
    "nombre_recovered    17214\n",
    "Name: 96, dtype: int64"
   ]
  },
  {
   "cell_type": "markdown",
   "id": "1c3d7ce4",
   "metadata": {},
   "source": [
    "nombre_infected       136\n",
    "nombre_sain          2592\n",
    "nombre_exposed         90\n",
    "nombre_recovered    17182\n",
    "Name: 97, dtype: int64"
   ]
  },
  {
   "cell_type": "markdown",
   "id": "5b9a19f7",
   "metadata": {},
   "source": [
    "nombre_infected       138\n",
    "nombre_sain          2633\n",
    "nombre_exposed         94\n",
    "nombre_recovered    17135\n",
    "Name: 98, dtype: int64"
   ]
  },
  {
   "cell_type": "markdown",
   "id": "440b71c1",
   "metadata": {},
   "source": [
    "nombre_infected       136\n",
    "nombre_sain          2671\n",
    "nombre_exposed        103\n",
    "nombre_recovered    17090\n",
    "Name: 99, dtype: int64"
   ]
  },
  {
   "cell_type": "markdown",
   "id": "511f9e9a",
   "metadata": {},
   "source": [
    "nombre_infected       139\n",
    "nombre_sain          2708\n",
    "nombre_exposed         95\n",
    "nombre_recovered    17058\n",
    "Name: 100, dtype: int64"
   ]
  },
  {
   "cell_type": "markdown",
   "id": "3833160c",
   "metadata": {},
   "source": [
    "nombre_infected       139\n",
    "nombre_sain          2743\n",
    "nombre_exposed        101\n",
    "nombre_recovered    17017\n",
    "Name: 101, dtype: int64"
   ]
  },
  {
   "cell_type": "markdown",
   "id": "62ff2e4e",
   "metadata": {},
   "source": [
    "nombre_infected       140\n",
    "nombre_sain          2787\n",
    "nombre_exposed        103\n",
    "nombre_recovered    16970\n",
    "Name: 102, dtype: int64"
   ]
  },
  {
   "cell_type": "markdown",
   "id": "5bad0523",
   "metadata": {},
   "source": [
    "nombre_infected       141\n",
    "nombre_sain          2840\n",
    "nombre_exposed         97\n",
    "nombre_recovered    16922\n",
    "Name: 103, dtype: int64"
   ]
  },
  {
   "cell_type": "markdown",
   "id": "9ce6c511",
   "metadata": {},
   "source": [
    "nombre_infected       140\n",
    "nombre_sain          2874\n",
    "nombre_exposed        100\n",
    "nombre_recovered    16886\n",
    "Name: 104, dtype: int64"
   ]
  },
  {
   "cell_type": "markdown",
   "id": "588115e3",
   "metadata": {},
   "source": [
    "nombre_infected       135\n",
    "nombre_sain          2916\n",
    "nombre_exposed        101\n",
    "nombre_recovered    16848\n",
    "Name: 105, dtype: int64"
   ]
  },
  {
   "cell_type": "markdown",
   "id": "79ec91cf",
   "metadata": {},
   "source": [
    "nombre_infected       138\n",
    "nombre_sain          2965\n",
    "nombre_exposed        114\n",
    "nombre_recovered    16783\n",
    "Name: 106, dtype: int64"
   ]
  },
  {
   "cell_type": "markdown",
   "id": "f0c904a4",
   "metadata": {},
   "source": [
    "nombre_infected       151\n",
    "nombre_sain          3032\n",
    "nombre_exposed        115\n",
    "nombre_recovered    16702\n",
    "Name: 107, dtype: int64"
   ]
  },
  {
   "cell_type": "markdown",
   "id": "561c7f5d",
   "metadata": {},
   "source": [
    "nombre_infected       155\n",
    "nombre_sain          3078\n",
    "nombre_exposed        113\n",
    "nombre_recovered    16654\n",
    "Name: 108, dtype: int64"
   ]
  },
  {
   "cell_type": "markdown",
   "id": "60b8f4bf",
   "metadata": {},
   "source": [
    "nombre_infected       156\n",
    "nombre_sain          3121\n",
    "nombre_exposed        121\n",
    "nombre_recovered    16602\n",
    "Name: 109, dtype: int64"
   ]
  },
  {
   "cell_type": "markdown",
   "id": "4e7f065a",
   "metadata": {},
   "source": [
    "nombre_infected       154\n",
    "nombre_sain          3178\n",
    "nombre_exposed        132\n",
    "nombre_recovered    16536\n",
    "Name: 110, dtype: int64"
   ]
  },
  {
   "cell_type": "markdown",
   "id": "fa072c41",
   "metadata": {},
   "source": [
    "nombre_infected       168\n",
    "nombre_sain          3234\n",
    "nombre_exposed        125\n",
    "nombre_recovered    16473\n",
    "Name: 111, dtype: int64"
   ]
  },
  {
   "cell_type": "markdown",
   "id": "c0511887",
   "metadata": {},
   "source": [
    "nombre_infected       170\n",
    "nombre_sain          3301\n",
    "nombre_exposed        133\n",
    "nombre_recovered    16396\n",
    "Name: 112, dtype: int64"
   ]
  },
  {
   "cell_type": "markdown",
   "id": "6e555540",
   "metadata": {},
   "source": [
    "nombre_infected       178\n",
    "nombre_sain          3342\n",
    "nombre_exposed        150\n",
    "nombre_recovered    16330\n",
    "Name: 113, dtype: int64"
   ]
  },
  {
   "cell_type": "markdown",
   "id": "46eeb42d",
   "metadata": {},
   "source": [
    "nombre_infected       189\n",
    "nombre_sain          3376\n",
    "nombre_exposed        156\n",
    "nombre_recovered    16279\n",
    "Name: 114, dtype: int64"
   ]
  },
  {
   "cell_type": "markdown",
   "id": "020cf231",
   "metadata": {},
   "source": [
    "nombre_infected       192\n",
    "nombre_sain          3420\n",
    "nombre_exposed        162\n",
    "nombre_recovered    16226\n",
    "Name: 115, dtype: int64"
   ]
  },
  {
   "cell_type": "markdown",
   "id": "e5d9d144",
   "metadata": {},
   "source": [
    "nombre_infected       195\n",
    "nombre_sain          3441\n",
    "nombre_exposed        168\n",
    "nombre_recovered    16196\n",
    "Name: 116, dtype: int64"
   ]
  },
  {
   "cell_type": "markdown",
   "id": "3e772596",
   "metadata": {},
   "source": [
    "nombre_infected       203\n",
    "nombre_sain          3468\n",
    "nombre_exposed        170\n",
    "nombre_recovered    16159\n",
    "Name: 117, dtype: int64"
   ]
  },
  {
   "cell_type": "markdown",
   "id": "7da24fa5",
   "metadata": {},
   "source": [
    "nombre_infected       215\n",
    "nombre_sain          3488\n",
    "nombre_exposed        177\n",
    "nombre_recovered    16120\n",
    "Name: 118, dtype: int64"
   ]
  },
  {
   "cell_type": "markdown",
   "id": "012f048a",
   "metadata": {},
   "source": [
    "nombre_infected       232\n",
    "nombre_sain          3527\n",
    "nombre_exposed        170\n",
    "nombre_recovered    16071\n",
    "Name: 119, dtype: int64"
   ]
  },
  {
   "cell_type": "markdown",
   "id": "f5530377",
   "metadata": {},
   "source": [
    "nombre_infected       245\n",
    "nombre_sain          3546\n",
    "nombre_exposed        172\n",
    "nombre_recovered    16037\n",
    "Name: 120, dtype: int64"
   ]
  },
  {
   "cell_type": "markdown",
   "id": "73ed9655",
   "metadata": {},
   "source": [
    "nombre_infected       253\n",
    "nombre_sain          3550\n",
    "nombre_exposed        189\n",
    "nombre_recovered    16008\n",
    "Name: 121, dtype: int64"
   ]
  },
  {
   "cell_type": "markdown",
   "id": "03096ffa",
   "metadata": {},
   "source": [
    "nombre_infected       258\n",
    "nombre_sain          3548\n",
    "nombre_exposed        210\n",
    "nombre_recovered    15984\n",
    "Name: 122, dtype: int64"
   ]
  },
  {
   "cell_type": "markdown",
   "id": "ef108bef",
   "metadata": {},
   "source": [
    "nombre_infected       281\n",
    "nombre_sain          3557\n",
    "nombre_exposed        215\n",
    "nombre_recovered    15947\n",
    "Name: 123, dtype: int64"
   ]
  },
  {
   "cell_type": "markdown",
   "id": "d339cf5c",
   "metadata": {},
   "source": [
    "nombre_infected       303\n",
    "nombre_sain          3556\n",
    "nombre_exposed        236\n",
    "nombre_recovered    15905\n",
    "Name: 124, dtype: int64"
   ]
  },
  {
   "cell_type": "markdown",
   "id": "36407721",
   "metadata": {},
   "source": [
    "nombre_infected       309\n",
    "nombre_sain          3567\n",
    "nombre_exposed        238\n",
    "nombre_recovered    15886\n",
    "Name: 125, dtype: int64"
   ]
  },
  {
   "cell_type": "markdown",
   "id": "b7a5d339",
   "metadata": {},
   "source": [
    "nombre_infected       325\n",
    "nombre_sain          3556\n",
    "nombre_exposed        252\n",
    "nombre_recovered    15867\n",
    "Name: 126, dtype: int64"
   ]
  },
  {
   "cell_type": "markdown",
   "id": "53bfa36a",
   "metadata": {},
   "source": [
    "nombre_infected       334\n",
    "nombre_sain          3551\n",
    "nombre_exposed        268\n",
    "nombre_recovered    15847\n",
    "Name: 127, dtype: int64"
   ]
  },
  {
   "cell_type": "markdown",
   "id": "2139a5f9",
   "metadata": {},
   "source": [
    "nombre_infected       365\n",
    "nombre_sain          3541\n",
    "nombre_exposed        282\n",
    "nombre_recovered    15812\n",
    "Name: 128, dtype: int64"
   ]
  },
  {
   "cell_type": "markdown",
   "id": "55d71994",
   "metadata": {},
   "source": [
    "nombre_infected       380\n",
    "nombre_sain          3527\n",
    "nombre_exposed        298\n",
    "nombre_recovered    15795\n",
    "Name: 129, dtype: int64"
   ]
  },
  {
   "cell_type": "markdown",
   "id": "ec8ff40a",
   "metadata": {},
   "source": [
    "nombre_infected       397\n",
    "nombre_sain          3483\n",
    "nombre_exposed        342\n",
    "nombre_recovered    15778\n",
    "Name: 130, dtype: int64"
   ]
  },
  {
   "cell_type": "markdown",
   "id": "c8be3402",
   "metadata": {},
   "source": [
    "nombre_infected       426\n",
    "nombre_sain          3482\n",
    "nombre_exposed        340\n",
    "nombre_recovered    15752\n",
    "Name: 131, dtype: int64"
   ]
  },
  {
   "cell_type": "markdown",
   "id": "0b8abee7",
   "metadata": {},
   "source": [
    "nombre_infected       467\n",
    "nombre_sain          3440\n",
    "nombre_exposed        359\n",
    "nombre_recovered    15734\n",
    "Name: 132, dtype: int64"
   ]
  },
  {
   "cell_type": "markdown",
   "id": "03fec04f",
   "metadata": {},
   "source": [
    "nombre_infected       493\n",
    "nombre_sain          3404\n",
    "nombre_exposed        371\n",
    "nombre_recovered    15732\n",
    "Name: 133, dtype: int64"
   ]
  },
  {
   "cell_type": "markdown",
   "id": "bd3cfe02",
   "metadata": {},
   "source": [
    "nombre_infected       518\n",
    "nombre_sain          3357\n",
    "nombre_exposed        384\n",
    "nombre_recovered    15741\n",
    "Name: 134, dtype: int64"
   ]
  },
  {
   "cell_type": "markdown",
   "id": "ded411b5",
   "metadata": {},
   "source": [
    "nombre_infected       546\n",
    "nombre_sain          3292\n",
    "nombre_exposed        422\n",
    "nombre_recovered    15740\n",
    "Name: 135, dtype: int64"
   ]
  },
  {
   "cell_type": "markdown",
   "id": "5f91255e",
   "metadata": {},
   "source": [
    "nombre_infected       553\n",
    "nombre_sain          3273\n",
    "nombre_exposed        424\n",
    "nombre_recovered    15750\n",
    "Name: 136, dtype: int64"
   ]
  },
  {
   "cell_type": "markdown",
   "id": "28a91aac",
   "metadata": {},
   "source": [
    "nombre_infected       589\n",
    "nombre_sain          3220\n",
    "nombre_exposed        436\n",
    "nombre_recovered    15755\n",
    "Name: 137, dtype: int64"
   ]
  },
  {
   "cell_type": "markdown",
   "id": "eb699d24",
   "metadata": {},
   "source": [
    "nombre_infected       602\n",
    "nombre_sain          3159\n",
    "nombre_exposed        469\n",
    "nombre_recovered    15770\n",
    "Name: 138, dtype: int64"
   ]
  },
  {
   "cell_type": "markdown",
   "id": "edb91571",
   "metadata": {},
   "source": [
    "nombre_infected       638\n",
    "nombre_sain          3090\n",
    "nombre_exposed        490\n",
    "nombre_recovered    15782\n",
    "Name: 139, dtype: int64"
   ]
  },
  {
   "cell_type": "markdown",
   "id": "aafb68c3",
   "metadata": {},
   "source": [
    "nombre_infected       684\n",
    "nombre_sain          3038\n",
    "nombre_exposed        488\n",
    "nombre_recovered    15790\n",
    "Name: 140, dtype: int64"
   ]
  },
  {
   "cell_type": "markdown",
   "id": "97679fcc",
   "metadata": {},
   "source": [
    "nombre_infected       734\n",
    "nombre_sain          2978\n",
    "nombre_exposed        479\n",
    "nombre_recovered    15809\n",
    "Name: 141, dtype: int64"
   ]
  },
  {
   "cell_type": "markdown",
   "id": "f23ba35f",
   "metadata": {},
   "source": [
    "nombre_infected       751\n",
    "nombre_sain          2878\n",
    "nombre_exposed        517\n",
    "nombre_recovered    15854\n",
    "Name: 142, dtype: int64"
   ]
  },
  {
   "cell_type": "markdown",
   "id": "d7bcf04d",
   "metadata": {},
   "source": [
    "nombre_infected       758\n",
    "nombre_sain          2834\n",
    "nombre_exposed        534\n",
    "nombre_recovered    15874\n",
    "Name: 143, dtype: int64"
   ]
  },
  {
   "cell_type": "markdown",
   "id": "3569038b",
   "metadata": {},
   "source": [
    "nombre_infected       795\n",
    "nombre_sain          2741\n",
    "nombre_exposed        557\n",
    "nombre_recovered    15907\n",
    "Name: 144, dtype: int64"
   ]
  },
  {
   "cell_type": "markdown",
   "id": "5fa008a2",
   "metadata": {},
   "source": [
    "nombre_infected       835\n",
    "nombre_sain          2657\n",
    "nombre_exposed        567\n",
    "nombre_recovered    15941\n",
    "Name: 145, dtype: int64"
   ]
  },
  {
   "cell_type": "markdown",
   "id": "defca2eb",
   "metadata": {},
   "source": [
    "nombre_infected       856\n",
    "nombre_sain          2596\n",
    "nombre_exposed        553\n",
    "nombre_recovered    15995\n",
    "Name: 146, dtype: int64"
   ]
  },
  {
   "cell_type": "markdown",
   "id": "516d83d7",
   "metadata": {},
   "source": [
    "nombre_infected       859\n",
    "nombre_sain          2523\n",
    "nombre_exposed        567\n",
    "nombre_recovered    16051\n",
    "Name: 147, dtype: int64"
   ]
  },
  {
   "cell_type": "markdown",
   "id": "080b10a1",
   "metadata": {},
   "source": [
    "nombre_infected       884\n",
    "nombre_sain          2480\n",
    "nombre_exposed        551\n",
    "nombre_recovered    16085\n",
    "Name: 148, dtype: int64"
   ]
  },
  {
   "cell_type": "markdown",
   "id": "c9630751",
   "metadata": {},
   "source": [
    "nombre_infected       893\n",
    "nombre_sain          2412\n",
    "nombre_exposed        576\n",
    "nombre_recovered    16119\n",
    "Name: 149, dtype: int64"
   ]
  },
  {
   "cell_type": "markdown",
   "id": "79e0dead",
   "metadata": {},
   "source": [
    "nombre_infected       945\n",
    "nombre_sain          2350\n",
    "nombre_exposed        570\n",
    "nombre_recovered    16135\n",
    "Name: 150, dtype: int64"
   ]
  },
  {
   "cell_type": "markdown",
   "id": "7306f53a",
   "metadata": {},
   "source": [
    "nombre_infected       968\n",
    "nombre_sain          2284\n",
    "nombre_exposed        566\n",
    "nombre_recovered    16182\n",
    "Name: 151, dtype: int64"
   ]
  },
  {
   "cell_type": "markdown",
   "id": "d4f87bf4",
   "metadata": {},
   "source": [
    "nombre_infected       986\n",
    "nombre_sain          2248\n",
    "nombre_exposed        547\n",
    "nombre_recovered    16219\n",
    "Name: 152, dtype: int64"
   ]
  },
  {
   "cell_type": "markdown",
   "id": "17a87ff5",
   "metadata": {},
   "source": [
    "nombre_infected       976\n",
    "nombre_sain          2201\n",
    "nombre_exposed        553\n",
    "nombre_recovered    16270\n",
    "Name: 153, dtype: int64"
   ]
  },
  {
   "cell_type": "markdown",
   "id": "a5eed73a",
   "metadata": {},
   "source": [
    "nombre_infected       992\n",
    "nombre_sain          2141\n",
    "nombre_exposed        546\n",
    "nombre_recovered    16321\n",
    "Name: 154, dtype: int64"
   ]
  },
  {
   "cell_type": "markdown",
   "id": "32261643",
   "metadata": {},
   "source": [
    "nombre_infected       992\n",
    "nombre_sain          2074\n",
    "nombre_exposed        545\n",
    "nombre_recovered    16389\n",
    "Name: 155, dtype: int64"
   ]
  },
  {
   "cell_type": "markdown",
   "id": "bc4df0e1",
   "metadata": {},
   "source": [
    "nombre_infected       984\n",
    "nombre_sain          2010\n",
    "nombre_exposed        551\n",
    "nombre_recovered    16455\n",
    "Name: 156, dtype: int64"
   ]
  },
  {
   "cell_type": "markdown",
   "id": "cbbbd2a2",
   "metadata": {},
   "source": [
    "nombre_infected       998\n",
    "nombre_sain          1974\n",
    "nombre_exposed        526\n",
    "nombre_recovered    16502\n",
    "Name: 157, dtype: int64"
   ]
  },
  {
   "cell_type": "markdown",
   "id": "8d78aa7a",
   "metadata": {},
   "source": [
    "nombre_infected       998\n",
    "nombre_sain          1931\n",
    "nombre_exposed        515\n",
    "nombre_recovered    16556\n",
    "Name: 158, dtype: int64"
   ]
  },
  {
   "cell_type": "markdown",
   "id": "008763ba",
   "metadata": {},
   "source": [
    "nombre_infected      1020\n",
    "nombre_sain          1867\n",
    "nombre_exposed        500\n",
    "nombre_recovered    16613\n",
    "Name: 159, dtype: int64"
   ]
  },
  {
   "cell_type": "markdown",
   "id": "9a868b3b",
   "metadata": {},
   "source": [
    "nombre_infected       995\n",
    "nombre_sain          1823\n",
    "nombre_exposed        510\n",
    "nombre_recovered    16672\n",
    "Name: 160, dtype: int64"
   ]
  },
  {
   "cell_type": "markdown",
   "id": "3adce552",
   "metadata": {},
   "source": [
    "nombre_infected       995\n",
    "nombre_sain          1811\n",
    "nombre_exposed        490\n",
    "nombre_recovered    16704\n",
    "Name: 161, dtype: int64"
   ]
  },
  {
   "cell_type": "markdown",
   "id": "0f9ab9fc",
   "metadata": {},
   "source": [
    "nombre_infected       982\n",
    "nombre_sain          1797\n",
    "nombre_exposed        473\n",
    "nombre_recovered    16748\n",
    "Name: 162, dtype: int64"
   ]
  },
  {
   "cell_type": "markdown",
   "id": "13f0e3fa",
   "metadata": {},
   "source": [
    "nombre_infected       975\n",
    "nombre_sain          1788\n",
    "nombre_exposed        451\n",
    "nombre_recovered    16786\n",
    "Name: 163, dtype: int64"
   ]
  },
  {
   "cell_type": "markdown",
   "id": "af586692",
   "metadata": {},
   "source": [
    "nombre_infected       976\n",
    "nombre_sain          1775\n",
    "nombre_exposed        449\n",
    "nombre_recovered    16800\n",
    "Name: 164, dtype: int64"
   ]
  },
  {
   "cell_type": "markdown",
   "id": "a9b6d4b9",
   "metadata": {},
   "source": [
    "nombre_infected       946\n",
    "nombre_sain          1796\n",
    "nombre_exposed        422\n",
    "nombre_recovered    16836\n",
    "Name: 165, dtype: int64"
   ]
  },
  {
   "cell_type": "markdown",
   "id": "5896efab",
   "metadata": {},
   "source": [
    "nombre_infected       936\n",
    "nombre_sain          1809\n",
    "nombre_exposed        393\n",
    "nombre_recovered    16862\n",
    "Name: 166, dtype: int64"
   ]
  },
  {
   "cell_type": "markdown",
   "id": "30560f72",
   "metadata": {},
   "source": [
    "nombre_infected       907\n",
    "nombre_sain          1818\n",
    "nombre_exposed        380\n",
    "nombre_recovered    16895\n",
    "Name: 167, dtype: int64"
   ]
  },
  {
   "cell_type": "markdown",
   "id": "234a402b",
   "metadata": {},
   "source": [
    "nombre_infected       898\n",
    "nombre_sain          1824\n",
    "nombre_exposed        372\n",
    "nombre_recovered    16906\n",
    "Name: 168, dtype: int64"
   ]
  },
  {
   "cell_type": "markdown",
   "id": "f033b0c0",
   "metadata": {},
   "source": [
    "nombre_infected       858\n",
    "nombre_sain          1822\n",
    "nombre_exposed        401\n",
    "nombre_recovered    16919\n",
    "Name: 169, dtype: int64"
   ]
  },
  {
   "cell_type": "markdown",
   "id": "eb76f84a",
   "metadata": {},
   "source": [
    "nombre_infected       832\n",
    "nombre_sain          1824\n",
    "nombre_exposed        406\n",
    "nombre_recovered    16938\n",
    "Name: 170, dtype: int64"
   ]
  },
  {
   "cell_type": "markdown",
   "id": "d697fb63",
   "metadata": {},
   "source": [
    "nombre_infected       823\n",
    "nombre_sain          1827\n",
    "nombre_exposed        395\n",
    "nombre_recovered    16955\n",
    "Name: 171, dtype: int64"
   ]
  },
  {
   "cell_type": "markdown",
   "id": "bba993ea",
   "metadata": {},
   "source": [
    "nombre_infected       811\n",
    "nombre_sain          1842\n",
    "nombre_exposed        385\n",
    "nombre_recovered    16962\n",
    "Name: 172, dtype: int64"
   ]
  },
  {
   "cell_type": "markdown",
   "id": "f4599615",
   "metadata": {},
   "source": [
    "nombre_infected       799\n",
    "nombre_sain          1857\n",
    "nombre_exposed        384\n",
    "nombre_recovered    16960\n",
    "Name: 173, dtype: int64"
   ]
  },
  {
   "cell_type": "markdown",
   "id": "f2c377f1",
   "metadata": {},
   "source": [
    "nombre_infected       803\n",
    "nombre_sain          1864\n",
    "nombre_exposed        357\n",
    "nombre_recovered    16976\n",
    "Name: 174, dtype: int64"
   ]
  },
  {
   "cell_type": "markdown",
   "id": "00d376b6",
   "metadata": {},
   "source": [
    "nombre_infected       797\n",
    "nombre_sain          1891\n",
    "nombre_exposed        360\n",
    "nombre_recovered    16952\n",
    "Name: 175, dtype: int64"
   ]
  },
  {
   "cell_type": "markdown",
   "id": "ab7ed051",
   "metadata": {},
   "source": [
    "nombre_infected       783\n",
    "nombre_sain          1895\n",
    "nombre_exposed        370\n",
    "nombre_recovered    16952\n",
    "Name: 176, dtype: int64"
   ]
  },
  {
   "cell_type": "markdown",
   "id": "59174414",
   "metadata": {},
   "source": [
    "nombre_infected       766\n",
    "nombre_sain          1938\n",
    "nombre_exposed        373\n",
    "nombre_recovered    16923\n",
    "Name: 177, dtype: int64"
   ]
  },
  {
   "cell_type": "markdown",
   "id": "aa698a28",
   "metadata": {},
   "source": [
    "nombre_infected       752\n",
    "nombre_sain          1973\n",
    "nombre_exposed        365\n",
    "nombre_recovered    16910\n",
    "Name: 178, dtype: int64"
   ]
  },
  {
   "cell_type": "markdown",
   "id": "72d60e67",
   "metadata": {},
   "source": [
    "nombre_infected       733\n",
    "nombre_sain          1990\n",
    "nombre_exposed        375\n",
    "nombre_recovered    16902\n",
    "Name: 179, dtype: int64"
   ]
  },
  {
   "cell_type": "markdown",
   "id": "2e2f7c79",
   "metadata": {},
   "source": [
    "nombre_infected       735\n",
    "nombre_sain          2018\n",
    "nombre_exposed        372\n",
    "nombre_recovered    16875\n",
    "Name: 180, dtype: int64"
   ]
  },
  {
   "cell_type": "markdown",
   "id": "6a0f3133",
   "metadata": {},
   "source": [
    "nombre_infected       717\n",
    "nombre_sain          2051\n",
    "nombre_exposed        346\n",
    "nombre_recovered    16886\n",
    "Name: 181, dtype: int64"
   ]
  },
  {
   "cell_type": "markdown",
   "id": "40628f11",
   "metadata": {},
   "source": [
    "nombre_infected       712\n",
    "nombre_sain          2101\n",
    "nombre_exposed        324\n",
    "nombre_recovered    16863\n",
    "Name: 182, dtype: int64"
   ]
  },
  {
   "cell_type": "markdown",
   "id": "f1ac126d",
   "metadata": {},
   "source": [
    "nombre_infected       698\n",
    "nombre_sain          2094\n",
    "nombre_exposed        365\n",
    "nombre_recovered    16843\n",
    "Name: 183, dtype: int64"
   ]
  },
  {
   "cell_type": "markdown",
   "id": "db51af19",
   "metadata": {},
   "source": [
    "nombre_infected       685\n",
    "nombre_sain          2131\n",
    "nombre_exposed        375\n",
    "nombre_recovered    16809\n",
    "Name: 184, dtype: int64"
   ]
  },
  {
   "cell_type": "markdown",
   "id": "d740c597",
   "metadata": {},
   "source": [
    "nombre_infected       682\n",
    "nombre_sain          2158\n",
    "nombre_exposed        369\n",
    "nombre_recovered    16791\n",
    "Name: 185, dtype: int64"
   ]
  },
  {
   "cell_type": "markdown",
   "id": "48e43cb7",
   "metadata": {},
   "source": [
    "nombre_infected       665\n",
    "nombre_sain          2177\n",
    "nombre_exposed        398\n",
    "nombre_recovered    16760\n",
    "Name: 186, dtype: int64"
   ]
  },
  {
   "cell_type": "markdown",
   "id": "a79d1af0",
   "metadata": {},
   "source": [
    "nombre_infected       645\n",
    "nombre_sain          2202\n",
    "nombre_exposed        409\n",
    "nombre_recovered    16744\n",
    "Name: 187, dtype: int64"
   ]
  },
  {
   "cell_type": "markdown",
   "id": "1f044714",
   "metadata": {},
   "source": [
    "nombre_infected       640\n",
    "nombre_sain          2191\n",
    "nombre_exposed        428\n",
    "nombre_recovered    16741\n",
    "Name: 188, dtype: int64"
   ]
  },
  {
   "cell_type": "markdown",
   "id": "76a44598",
   "metadata": {},
   "source": [
    "nombre_infected       662\n",
    "nombre_sain          2185\n",
    "nombre_exposed        423\n",
    "nombre_recovered    16730\n",
    "Name: 189, dtype: int64"
   ]
  },
  {
   "cell_type": "markdown",
   "id": "d05027c3",
   "metadata": {},
   "source": [
    "nombre_infected       668\n",
    "nombre_sain          2197\n",
    "nombre_exposed        415\n",
    "nombre_recovered    16720\n",
    "Name: 190, dtype: int64"
   ]
  },
  {
   "cell_type": "markdown",
   "id": "a388f0c9",
   "metadata": {},
   "source": [
    "nombre_infected       705\n",
    "nombre_sain          2225\n",
    "nombre_exposed        405\n",
    "nombre_recovered    16665\n",
    "Name: 191, dtype: int64"
   ]
  },
  {
   "cell_type": "markdown",
   "id": "4fff391d",
   "metadata": {},
   "source": [
    "nombre_infected       693\n",
    "nombre_sain          2236\n",
    "nombre_exposed        403\n",
    "nombre_recovered    16668\n",
    "Name: 192, dtype: int64"
   ]
  },
  {
   "cell_type": "markdown",
   "id": "89e36933",
   "metadata": {},
   "source": [
    "nombre_infected       684\n",
    "nombre_sain          2222\n",
    "nombre_exposed        432\n",
    "nombre_recovered    16662\n",
    "Name: 193, dtype: int64"
   ]
  },
  {
   "cell_type": "markdown",
   "id": "88da8ee2",
   "metadata": {},
   "source": [
    "nombre_infected       692\n",
    "nombre_sain          2247\n",
    "nombre_exposed        436\n",
    "nombre_recovered    16625\n",
    "Name: 194, dtype: int64"
   ]
  },
  {
   "cell_type": "markdown",
   "id": "63021b59",
   "metadata": {},
   "source": [
    "nombre_infected       687\n",
    "nombre_sain          2243\n",
    "nombre_exposed        459\n",
    "nombre_recovered    16611\n",
    "Name: 195, dtype: int64"
   ]
  },
  {
   "cell_type": "markdown",
   "id": "9f513a3c",
   "metadata": {},
   "source": [
    "nombre_infected       702\n",
    "nombre_sain          2246\n",
    "nombre_exposed        455\n",
    "nombre_recovered    16597\n",
    "Name: 196, dtype: int64"
   ]
  },
  {
   "cell_type": "markdown",
   "id": "1fdbade6",
   "metadata": {},
   "source": [
    "nombre_infected       717\n",
    "nombre_sain          2221\n",
    "nombre_exposed        445\n",
    "nombre_recovered    16617\n",
    "Name: 197, dtype: int64"
   ]
  },
  {
   "cell_type": "markdown",
   "id": "cb493de0",
   "metadata": {},
   "source": [
    "nombre_infected       724\n",
    "nombre_sain          2207\n",
    "nombre_exposed        451\n",
    "nombre_recovered    16618\n",
    "Name: 198, dtype: int64"
   ]
  },
  {
   "cell_type": "markdown",
   "id": "6b404e5b",
   "metadata": {},
   "source": [
    "nombre_infected       718\n",
    "nombre_sain          2192\n",
    "nombre_exposed        462\n",
    "nombre_recovered    16628\n",
    "Name: 199, dtype: int64"
   ]
  },
  {
   "cell_type": "markdown",
   "id": "9f6f3cc5",
   "metadata": {},
   "source": [
    "nombre_infected       718\n",
    "nombre_sain          2183\n",
    "nombre_exposed        483\n",
    "nombre_recovered    16616\n",
    "Name: 200, dtype: int64"
   ]
  },
  {
   "cell_type": "markdown",
   "id": "a4b3d373",
   "metadata": {},
   "source": [
    "nombre_infected       731\n",
    "nombre_sain          2174\n",
    "nombre_exposed        487\n",
    "nombre_recovered    16608\n",
    "Name: 201, dtype: int64"
   ]
  },
  {
   "cell_type": "markdown",
   "id": "5175d1d7",
   "metadata": {},
   "source": [
    "nombre_infected       752\n",
    "nombre_sain          2157\n",
    "nombre_exposed        483\n",
    "nombre_recovered    16608\n",
    "Name: 202, dtype: int64"
   ]
  },
  {
   "cell_type": "markdown",
   "id": "5a1f9d97",
   "metadata": {},
   "source": [
    "nombre_infected       767\n",
    "nombre_sain          2152\n",
    "nombre_exposed        485\n",
    "nombre_recovered    16596\n",
    "Name: 203, dtype: int64"
   ]
  },
  {
   "cell_type": "markdown",
   "id": "8881ca96",
   "metadata": {},
   "source": [
    "nombre_infected       778\n",
    "nombre_sain          2167\n",
    "nombre_exposed        474\n",
    "nombre_recovered    16581\n",
    "Name: 204, dtype: int64"
   ]
  },
  {
   "cell_type": "markdown",
   "id": "0ae668ca",
   "metadata": {},
   "source": [
    "nombre_infected       799\n",
    "nombre_sain          2181\n",
    "nombre_exposed        474\n",
    "nombre_recovered    16546\n",
    "Name: 205, dtype: int64"
   ]
  },
  {
   "cell_type": "markdown",
   "id": "83abaa29",
   "metadata": {},
   "source": [
    "nombre_infected       811\n",
    "nombre_sain          2164\n",
    "nombre_exposed        488\n",
    "nombre_recovered    16537\n",
    "Name: 206, dtype: int64"
   ]
  },
  {
   "cell_type": "markdown",
   "id": "1d163b4c",
   "metadata": {},
   "source": [
    "nombre_infected       797\n",
    "nombre_sain          2181\n",
    "nombre_exposed        495\n",
    "nombre_recovered    16527\n",
    "Name: 207, dtype: int64"
   ]
  },
  {
   "cell_type": "markdown",
   "id": "69694b20",
   "metadata": {},
   "source": [
    "nombre_infected       823\n",
    "nombre_sain          2194\n",
    "nombre_exposed        494\n",
    "nombre_recovered    16489\n",
    "Name: 208, dtype: int64"
   ]
  },
  {
   "cell_type": "markdown",
   "id": "ae88f0be",
   "metadata": {},
   "source": [
    "nombre_infected       849\n",
    "nombre_sain          2197\n",
    "nombre_exposed        494\n",
    "nombre_recovered    16460\n",
    "Name: 209, dtype: int64"
   ]
  },
  {
   "cell_type": "markdown",
   "id": "d8279ccc",
   "metadata": {},
   "source": [
    "nombre_infected       872\n",
    "nombre_sain          2189\n",
    "nombre_exposed        512\n",
    "nombre_recovered    16427\n",
    "Name: 210, dtype: int64"
   ]
  },
  {
   "cell_type": "markdown",
   "id": "685f4e5b",
   "metadata": {},
   "source": [
    "nombre_infected       884\n",
    "nombre_sain          2182\n",
    "nombre_exposed        507\n",
    "nombre_recovered    16427\n",
    "Name: 211, dtype: int64"
   ]
  },
  {
   "cell_type": "markdown",
   "id": "12805d2f",
   "metadata": {},
   "source": [
    "nombre_infected       890\n",
    "nombre_sain          2172\n",
    "nombre_exposed        507\n",
    "nombre_recovered    16431\n",
    "Name: 212, dtype: int64"
   ]
  },
  {
   "cell_type": "markdown",
   "id": "a7273800",
   "metadata": {},
   "source": [
    "nombre_infected       891\n",
    "nombre_sain          2178\n",
    "nombre_exposed        506\n",
    "nombre_recovered    16425\n",
    "Name: 213, dtype: int64"
   ]
  },
  {
   "cell_type": "markdown",
   "id": "aca0ea7f",
   "metadata": {},
   "source": [
    "nombre_infected       905\n",
    "nombre_sain          2168\n",
    "nombre_exposed        506\n",
    "nombre_recovered    16421\n",
    "Name: 214, dtype: int64"
   ]
  },
  {
   "cell_type": "markdown",
   "id": "717907ed",
   "metadata": {},
   "source": [
    "nombre_infected       903\n",
    "nombre_sain          2156\n",
    "nombre_exposed        501\n",
    "nombre_recovered    16440\n",
    "Name: 215, dtype: int64"
   ]
  },
  {
   "cell_type": "markdown",
   "id": "008b60eb",
   "metadata": {},
   "source": [
    "nombre_infected       920\n",
    "nombre_sain          2135\n",
    "nombre_exposed        502\n",
    "nombre_recovered    16443\n",
    "Name: 216, dtype: int64"
   ]
  },
  {
   "cell_type": "markdown",
   "id": "4127e47f",
   "metadata": {},
   "source": [
    "nombre_infected       931\n",
    "nombre_sain          2114\n",
    "nombre_exposed        511\n",
    "nombre_recovered    16444\n",
    "Name: 217, dtype: int64"
   ]
  },
  {
   "cell_type": "markdown",
   "id": "437d7e8a",
   "metadata": {},
   "source": [
    "nombre_infected       931\n",
    "nombre_sain          2114\n",
    "nombre_exposed        521\n",
    "nombre_recovered    16434\n",
    "Name: 218, dtype: int64"
   ]
  },
  {
   "cell_type": "markdown",
   "id": "8b0d73e8",
   "metadata": {},
   "source": [
    "nombre_infected       922\n",
    "nombre_sain          2090\n",
    "nombre_exposed        537\n",
    "nombre_recovered    16451\n",
    "Name: 219, dtype: int64"
   ]
  },
  {
   "cell_type": "markdown",
   "id": "35aa951d",
   "metadata": {},
   "source": [
    "nombre_infected       904\n",
    "nombre_sain          2072\n",
    "nombre_exposed        561\n",
    "nombre_recovered    16463\n",
    "Name: 220, dtype: int64"
   ]
  },
  {
   "cell_type": "markdown",
   "id": "d8e0dd24",
   "metadata": {},
   "source": [
    "nombre_infected       919\n",
    "nombre_sain          2084\n",
    "nombre_exposed        552\n",
    "nombre_recovered    16445\n",
    "Name: 221, dtype: int64"
   ]
  },
  {
   "cell_type": "markdown",
   "id": "6974541d",
   "metadata": {},
   "source": [
    "nombre_infected       938\n",
    "nombre_sain          2077\n",
    "nombre_exposed        545\n",
    "nombre_recovered    16440\n",
    "Name: 222, dtype: int64"
   ]
  },
  {
   "cell_type": "markdown",
   "id": "93c639ed",
   "metadata": {},
   "source": [
    "nombre_infected       976\n",
    "nombre_sain          2057\n",
    "nombre_exposed        536\n",
    "nombre_recovered    16431\n",
    "Name: 223, dtype: int64"
   ]
  },
  {
   "cell_type": "markdown",
   "id": "19b4e6dd",
   "metadata": {},
   "source": [
    "nombre_infected       984\n",
    "nombre_sain          2045\n",
    "nombre_exposed        543\n",
    "nombre_recovered    16428\n",
    "Name: 224, dtype: int64"
   ]
  },
  {
   "cell_type": "markdown",
   "id": "0559ddd8",
   "metadata": {},
   "source": [
    "nombre_infected       982\n",
    "nombre_sain          2041\n",
    "nombre_exposed        529\n",
    "nombre_recovered    16448\n",
    "Name: 225, dtype: int64"
   ]
  },
  {
   "cell_type": "markdown",
   "id": "85f5cd00",
   "metadata": {},
   "source": [
    "nombre_infected      1002\n",
    "nombre_sain          2022\n",
    "nombre_exposed        526\n",
    "nombre_recovered    16450\n",
    "Name: 226, dtype: int64"
   ]
  },
  {
   "cell_type": "markdown",
   "id": "d8a48b77",
   "metadata": {},
   "source": [
    "nombre_infected       979\n",
    "nombre_sain          2015\n",
    "nombre_exposed        544\n",
    "nombre_recovered    16462\n",
    "Name: 227, dtype: int64"
   ]
  },
  {
   "cell_type": "markdown",
   "id": "26fadd99",
   "metadata": {},
   "source": [
    "nombre_infected       961\n",
    "nombre_sain          2001\n",
    "nombre_exposed        544\n",
    "nombre_recovered    16494\n",
    "Name: 228, dtype: int64"
   ]
  },
  {
   "cell_type": "markdown",
   "id": "dc4f574b",
   "metadata": {},
   "source": [
    "nombre_infected       952\n",
    "nombre_sain          1991\n",
    "nombre_exposed        547\n",
    "nombre_recovered    16510\n",
    "Name: 229, dtype: int64"
   ]
  },
  {
   "cell_type": "markdown",
   "id": "7931ac79",
   "metadata": {},
   "source": [
    "nombre_infected       950\n",
    "nombre_sain          1977\n",
    "nombre_exposed        560\n",
    "nombre_recovered    16513\n",
    "Name: 230, dtype: int64"
   ]
  },
  {
   "cell_type": "markdown",
   "id": "d94cb8d9",
   "metadata": {},
   "source": [
    "nombre_infected       941\n",
    "nombre_sain          1990\n",
    "nombre_exposed        551\n",
    "nombre_recovered    16518\n",
    "Name: 231, dtype: int64"
   ]
  },
  {
   "cell_type": "markdown",
   "id": "ea61f3e9",
   "metadata": {},
   "source": [
    "nombre_infected       949\n",
    "nombre_sain          1986\n",
    "nombre_exposed        548\n",
    "nombre_recovered    16517\n",
    "Name: 232, dtype: int64"
   ]
  },
  {
   "cell_type": "markdown",
   "id": "754f2845",
   "metadata": {},
   "source": [
    "nombre_infected       955\n",
    "nombre_sain          2004\n",
    "nombre_exposed        527\n",
    "nombre_recovered    16514\n",
    "Name: 233, dtype: int64"
   ]
  },
  {
   "cell_type": "markdown",
   "id": "662ce12c",
   "metadata": {},
   "source": [
    "nombre_infected       959\n",
    "nombre_sain          2015\n",
    "nombre_exposed        513\n",
    "nombre_recovered    16513\n",
    "Name: 234, dtype: int64"
   ]
  },
  {
   "cell_type": "markdown",
   "id": "7275f048",
   "metadata": {},
   "source": [
    "nombre_infected       949\n",
    "nombre_sain          2013\n",
    "nombre_exposed        504\n",
    "nombre_recovered    16534\n",
    "Name: 235, dtype: int64"
   ]
  },
  {
   "cell_type": "markdown",
   "id": "098ae685",
   "metadata": {},
   "source": [
    "nombre_infected       960\n",
    "nombre_sain          2003\n",
    "nombre_exposed        498\n",
    "nombre_recovered    16539\n",
    "Name: 236, dtype: int64"
   ]
  },
  {
   "cell_type": "markdown",
   "id": "24386415",
   "metadata": {},
   "source": [
    "nombre_infected       937\n",
    "nombre_sain          1994\n",
    "nombre_exposed        493\n",
    "nombre_recovered    16576\n",
    "Name: 237, dtype: int64"
   ]
  },
  {
   "cell_type": "markdown",
   "id": "e6a3028f",
   "metadata": {},
   "source": [
    "nombre_infected       937\n",
    "nombre_sain          2008\n",
    "nombre_exposed        490\n",
    "nombre_recovered    16565\n",
    "Name: 238, dtype: int64"
   ]
  },
  {
   "cell_type": "markdown",
   "id": "db766662",
   "metadata": {},
   "source": [
    "nombre_infected       943\n",
    "nombre_sain          2022\n",
    "nombre_exposed        486\n",
    "nombre_recovered    16549\n",
    "Name: 239, dtype: int64"
   ]
  },
  {
   "cell_type": "markdown",
   "id": "fb544ce7",
   "metadata": {},
   "source": [
    "nombre_infected       938\n",
    "nombre_sain          1992\n",
    "nombre_exposed        514\n",
    "nombre_recovered    16556\n",
    "Name: 240, dtype: int64"
   ]
  },
  {
   "cell_type": "markdown",
   "id": "34bbb735",
   "metadata": {},
   "source": [
    "nombre_infected       947\n",
    "nombre_sain          1994\n",
    "nombre_exposed        492\n",
    "nombre_recovered    16567\n",
    "Name: 241, dtype: int64"
   ]
  },
  {
   "cell_type": "markdown",
   "id": "d3708a0a",
   "metadata": {},
   "source": [
    "nombre_infected       958\n",
    "nombre_sain          2007\n",
    "nombre_exposed        463\n",
    "nombre_recovered    16572\n",
    "Name: 242, dtype: int64"
   ]
  },
  {
   "cell_type": "markdown",
   "id": "35965bb9",
   "metadata": {},
   "source": [
    "nombre_infected       929\n",
    "nombre_sain          1997\n",
    "nombre_exposed        457\n",
    "nombre_recovered    16617\n",
    "Name: 243, dtype: int64"
   ]
  },
  {
   "cell_type": "markdown",
   "id": "b97381e2",
   "metadata": {},
   "source": [
    "nombre_infected       951\n",
    "nombre_sain          2005\n",
    "nombre_exposed        457\n",
    "nombre_recovered    16587\n",
    "Name: 244, dtype: int64"
   ]
  },
  {
   "cell_type": "markdown",
   "id": "bcbd8630",
   "metadata": {},
   "source": [
    "nombre_infected       944\n",
    "nombre_sain          1998\n",
    "nombre_exposed        480\n",
    "nombre_recovered    16578\n",
    "Name: 245, dtype: int64"
   ]
  },
  {
   "cell_type": "markdown",
   "id": "0d80a801",
   "metadata": {},
   "source": [
    "nombre_infected       925\n",
    "nombre_sain          1996\n",
    "nombre_exposed        497\n",
    "nombre_recovered    16582\n",
    "Name: 246, dtype: int64"
   ]
  },
  {
   "cell_type": "markdown",
   "id": "50bcbefa",
   "metadata": {},
   "source": [
    "nombre_infected       911\n",
    "nombre_sain          1976\n",
    "nombre_exposed        506\n",
    "nombre_recovered    16607\n",
    "Name: 247, dtype: int64"
   ]
  },
  {
   "cell_type": "markdown",
   "id": "ca09a665",
   "metadata": {},
   "source": [
    "nombre_infected       905\n",
    "nombre_sain          1973\n",
    "nombre_exposed        511\n",
    "nombre_recovered    16611\n",
    "Name: 248, dtype: int64"
   ]
  },
  {
   "cell_type": "markdown",
   "id": "823494fd",
   "metadata": {},
   "source": [
    "nombre_infected       885\n",
    "nombre_sain          1975\n",
    "nombre_exposed        527\n",
    "nombre_recovered    16613\n",
    "Name: 249, dtype: int64"
   ]
  },
  {
   "cell_type": "markdown",
   "id": "c4875103",
   "metadata": {},
   "source": [
    "nombre_infected       900\n",
    "nombre_sain          1988\n",
    "nombre_exposed        509\n",
    "nombre_recovered    16603\n",
    "Name: 250, dtype: int64"
   ]
  },
  {
   "cell_type": "markdown",
   "id": "ade2b610",
   "metadata": {},
   "source": [
    "nombre_infected       916\n",
    "nombre_sain          1966\n",
    "nombre_exposed        506\n",
    "nombre_recovered    16612\n",
    "Name: 251, dtype: int64"
   ]
  },
  {
   "cell_type": "markdown",
   "id": "280a631a",
   "metadata": {},
   "source": [
    "nombre_infected       942\n",
    "nombre_sain          1954\n",
    "nombre_exposed        491\n",
    "nombre_recovered    16613\n",
    "Name: 252, dtype: int64"
   ]
  },
  {
   "cell_type": "markdown",
   "id": "3a2c213c",
   "metadata": {},
   "source": [
    "nombre_infected       926\n",
    "nombre_sain          1976\n",
    "nombre_exposed        478\n",
    "nombre_recovered    16620\n",
    "Name: 253, dtype: int64"
   ]
  },
  {
   "cell_type": "markdown",
   "id": "85d67bb8",
   "metadata": {},
   "source": [
    "nombre_infected       923\n",
    "nombre_sain          1989\n",
    "nombre_exposed        483\n",
    "nombre_recovered    16605\n",
    "Name: 254, dtype: int64"
   ]
  },
  {
   "cell_type": "markdown",
   "id": "d073ece8",
   "metadata": {},
   "source": [
    "nombre_infected       935\n",
    "nombre_sain          1988\n",
    "nombre_exposed        488\n",
    "nombre_recovered    16589\n",
    "Name: 255, dtype: int64"
   ]
  },
  {
   "cell_type": "markdown",
   "id": "42d799fa",
   "metadata": {},
   "source": [
    "nombre_infected       921\n",
    "nombre_sain          1974\n",
    "nombre_exposed        500\n",
    "nombre_recovered    16605\n",
    "Name: 256, dtype: int64"
   ]
  },
  {
   "cell_type": "markdown",
   "id": "a8e05030",
   "metadata": {},
   "source": [
    "nombre_infected       936\n",
    "nombre_sain          1956\n",
    "nombre_exposed        511\n",
    "nombre_recovered    16597\n",
    "Name: 257, dtype: int64"
   ]
  },
  {
   "cell_type": "markdown",
   "id": "e3fb31da",
   "metadata": {},
   "source": [
    "nombre_infected       942\n",
    "nombre_sain          1946\n",
    "nombre_exposed        509\n",
    "nombre_recovered    16603\n",
    "Name: 258, dtype: int64"
   ]
  },
  {
   "cell_type": "markdown",
   "id": "dcc3f532",
   "metadata": {},
   "source": [
    "nombre_infected       945\n",
    "nombre_sain          1959\n",
    "nombre_exposed        506\n",
    "nombre_recovered    16590\n",
    "Name: 259, dtype: int64"
   ]
  },
  {
   "cell_type": "markdown",
   "id": "c6e48c3d",
   "metadata": {},
   "source": [
    "nombre_infected       963\n",
    "nombre_sain          1978\n",
    "nombre_exposed        519\n",
    "nombre_recovered    16540\n",
    "Name: 260, dtype: int64"
   ]
  },
  {
   "cell_type": "markdown",
   "id": "ae3b32da",
   "metadata": {},
   "source": [
    "nombre_infected       965\n",
    "nombre_sain          1993\n",
    "nombre_exposed        500\n",
    "nombre_recovered    16542\n",
    "Name: 261, dtype: int64"
   ]
  },
  {
   "cell_type": "markdown",
   "id": "c210f753",
   "metadata": {},
   "source": [
    "nombre_infected       970\n",
    "nombre_sain          2008\n",
    "nombre_exposed        490\n",
    "nombre_recovered    16532\n",
    "Name: 262, dtype: int64"
   ]
  },
  {
   "cell_type": "markdown",
   "id": "379ddcda",
   "metadata": {},
   "source": [
    "nombre_infected       962\n",
    "nombre_sain          2022\n",
    "nombre_exposed        489\n",
    "nombre_recovered    16527\n",
    "Name: 263, dtype: int64"
   ]
  },
  {
   "cell_type": "markdown",
   "id": "ae197dab",
   "metadata": {},
   "source": [
    "nombre_infected       947\n",
    "nombre_sain          2033\n",
    "nombre_exposed        503\n",
    "nombre_recovered    16517\n",
    "Name: 264, dtype: int64"
   ]
  },
  {
   "cell_type": "markdown",
   "id": "73937e54",
   "metadata": {},
   "source": [
    "nombre_infected       952\n",
    "nombre_sain          2004\n",
    "nombre_exposed        519\n",
    "nombre_recovered    16525\n",
    "Name: 265, dtype: int64"
   ]
  },
  {
   "cell_type": "markdown",
   "id": "6a2e0655",
   "metadata": {},
   "source": [
    "nombre_infected       950\n",
    "nombre_sain          2011\n",
    "nombre_exposed        513\n",
    "nombre_recovered    16526\n",
    "Name: 266, dtype: int64"
   ]
  },
  {
   "cell_type": "markdown",
   "id": "0d04a99b",
   "metadata": {},
   "source": [
    "nombre_infected       952\n",
    "nombre_sain          2035\n",
    "nombre_exposed        502\n",
    "nombre_recovered    16511\n",
    "Name: 267, dtype: int64"
   ]
  },
  {
   "cell_type": "markdown",
   "id": "6a4687d2",
   "metadata": {},
   "source": [
    "nombre_infected       969\n",
    "nombre_sain          2019\n",
    "nombre_exposed        498\n",
    "nombre_recovered    16514\n",
    "Name: 268, dtype: int64"
   ]
  },
  {
   "cell_type": "markdown",
   "id": "b3bfe2d2",
   "metadata": {},
   "source": [
    "nombre_infected       973\n",
    "nombre_sain          2016\n",
    "nombre_exposed        501\n",
    "nombre_recovered    16510\n",
    "Name: 269, dtype: int64"
   ]
  },
  {
   "cell_type": "markdown",
   "id": "fcbafe7a",
   "metadata": {},
   "source": [
    "nombre_infected       950\n",
    "nombre_sain          2012\n",
    "nombre_exposed        505\n",
    "nombre_recovered    16533\n",
    "Name: 270, dtype: int64"
   ]
  },
  {
   "cell_type": "markdown",
   "id": "9fc099d2",
   "metadata": {},
   "source": [
    "nombre_infected       950\n",
    "nombre_sain          2008\n",
    "nombre_exposed        511\n",
    "nombre_recovered    16531\n",
    "Name: 271, dtype: int64"
   ]
  },
  {
   "cell_type": "markdown",
   "id": "45f97a5b",
   "metadata": {},
   "source": [
    "nombre_infected       959\n",
    "nombre_sain          1995\n",
    "nombre_exposed        501\n",
    "nombre_recovered    16545\n",
    "Name: 272, dtype: int64"
   ]
  },
  {
   "cell_type": "markdown",
   "id": "e9921eaa",
   "metadata": {},
   "source": [
    "nombre_infected       958\n",
    "nombre_sain          2007\n",
    "nombre_exposed        497\n",
    "nombre_recovered    16538\n",
    "Name: 273, dtype: int64"
   ]
  },
  {
   "cell_type": "markdown",
   "id": "854f221a",
   "metadata": {},
   "source": [
    "nombre_infected       971\n",
    "nombre_sain          2001\n",
    "nombre_exposed        485\n",
    "nombre_recovered    16543\n",
    "Name: 274, dtype: int64"
   ]
  },
  {
   "cell_type": "markdown",
   "id": "c22f1152",
   "metadata": {},
   "source": [
    "nombre_infected       989\n",
    "nombre_sain          1986\n",
    "nombre_exposed        473\n",
    "nombre_recovered    16552\n",
    "Name: 275, dtype: int64"
   ]
  },
  {
   "cell_type": "markdown",
   "id": "f8384b30",
   "metadata": {},
   "source": [
    "nombre_infected       982\n",
    "nombre_sain          1977\n",
    "nombre_exposed        480\n",
    "nombre_recovered    16561\n",
    "Name: 276, dtype: int64"
   ]
  },
  {
   "cell_type": "markdown",
   "id": "34048ffa",
   "metadata": {},
   "source": [
    "nombre_infected       956\n",
    "nombre_sain          1967\n",
    "nombre_exposed        489\n",
    "nombre_recovered    16588\n",
    "Name: 277, dtype: int64"
   ]
  },
  {
   "cell_type": "markdown",
   "id": "bf8ceb8f",
   "metadata": {},
   "source": [
    "nombre_infected       957\n",
    "nombre_sain          1965\n",
    "nombre_exposed        494\n",
    "nombre_recovered    16584\n",
    "Name: 278, dtype: int64"
   ]
  },
  {
   "cell_type": "markdown",
   "id": "f1463739",
   "metadata": {},
   "source": [
    "nombre_infected       941\n",
    "nombre_sain          1969\n",
    "nombre_exposed        498\n",
    "nombre_recovered    16592\n",
    "Name: 279, dtype: int64"
   ]
  },
  {
   "cell_type": "markdown",
   "id": "95642fff",
   "metadata": {},
   "source": [
    "nombre_infected       918\n",
    "nombre_sain          1957\n",
    "nombre_exposed        508\n",
    "nombre_recovered    16617\n",
    "Name: 280, dtype: int64"
   ]
  },
  {
   "cell_type": "markdown",
   "id": "bf806aaf",
   "metadata": {},
   "source": [
    "nombre_infected       912\n",
    "nombre_sain          1911\n",
    "nombre_exposed        562\n",
    "nombre_recovered    16615\n",
    "Name: 281, dtype: int64"
   ]
  },
  {
   "cell_type": "markdown",
   "id": "6cb53157",
   "metadata": {},
   "source": [
    "nombre_infected       900\n",
    "nombre_sain          1932\n",
    "nombre_exposed        564\n",
    "nombre_recovered    16604\n",
    "Name: 282, dtype: int64"
   ]
  },
  {
   "cell_type": "markdown",
   "id": "19dc4ffc",
   "metadata": {},
   "source": [
    "nombre_infected       912\n",
    "nombre_sain          1950\n",
    "nombre_exposed        536\n",
    "nombre_recovered    16602\n",
    "Name: 283, dtype: int64"
   ]
  },
  {
   "cell_type": "markdown",
   "id": "f0007a29",
   "metadata": {},
   "source": [
    "nombre_infected       943\n",
    "nombre_sain          1955\n",
    "nombre_exposed        504\n",
    "nombre_recovered    16598\n",
    "Name: 284, dtype: int64"
   ]
  },
  {
   "cell_type": "markdown",
   "id": "5e58e14e",
   "metadata": {},
   "source": [
    "nombre_infected       926\n",
    "nombre_sain          1934\n",
    "nombre_exposed        528\n",
    "nombre_recovered    16612\n",
    "Name: 285, dtype: int64"
   ]
  },
  {
   "cell_type": "markdown",
   "id": "5e816fb9",
   "metadata": {},
   "source": [
    "nombre_infected       922\n",
    "nombre_sain          1932\n",
    "nombre_exposed        529\n",
    "nombre_recovered    16617\n",
    "Name: 286, dtype: int64"
   ]
  },
  {
   "cell_type": "markdown",
   "id": "332c25f0",
   "metadata": {},
   "source": [
    "nombre_infected       941\n",
    "nombre_sain          1978\n",
    "nombre_exposed        491\n",
    "nombre_recovered    16590\n",
    "Name: 287, dtype: int64"
   ]
  },
  {
   "cell_type": "markdown",
   "id": "418e1caf",
   "metadata": {},
   "source": [
    "nombre_infected       919\n",
    "nombre_sain          1989\n",
    "nombre_exposed        499\n",
    "nombre_recovered    16593\n",
    "Name: 288, dtype: int64"
   ]
  },
  {
   "cell_type": "markdown",
   "id": "9ff55b89",
   "metadata": {},
   "source": [
    "nombre_infected       908\n",
    "nombre_sain          2019\n",
    "nombre_exposed        496\n",
    "nombre_recovered    16577\n",
    "Name: 289, dtype: int64"
   ]
  },
  {
   "cell_type": "markdown",
   "id": "7ab886f2",
   "metadata": {},
   "source": [
    "nombre_infected       885\n",
    "nombre_sain          2031\n",
    "nombre_exposed        503\n",
    "nombre_recovered    16581\n",
    "Name: 290, dtype: int64"
   ]
  },
  {
   "cell_type": "markdown",
   "id": "6a596055",
   "metadata": {},
   "source": [
    "nombre_infected       877\n",
    "nombre_sain          2070\n",
    "nombre_exposed        473\n",
    "nombre_recovered    16580\n",
    "Name: 291, dtype: int64"
   ]
  },
  {
   "cell_type": "markdown",
   "id": "06d5afaf",
   "metadata": {},
   "source": [
    "nombre_infected       854\n",
    "nombre_sain          2112\n",
    "nombre_exposed        473\n",
    "nombre_recovered    16561\n",
    "Name: 292, dtype: int64"
   ]
  },
  {
   "cell_type": "markdown",
   "id": "d8b1672d",
   "metadata": {},
   "source": [
    "nombre_infected       838\n",
    "nombre_sain          2157\n",
    "nombre_exposed        463\n",
    "nombre_recovered    16542\n",
    "Name: 293, dtype: int64"
   ]
  },
  {
   "cell_type": "markdown",
   "id": "870a67db",
   "metadata": {},
   "source": [
    "nombre_infected       846\n",
    "nombre_sain          2174\n",
    "nombre_exposed        445\n",
    "nombre_recovered    16535\n",
    "Name: 294, dtype: int64"
   ]
  },
  {
   "cell_type": "markdown",
   "id": "a8194aff",
   "metadata": {},
   "source": [
    "nombre_infected       823\n",
    "nombre_sain          2198\n",
    "nombre_exposed        475\n",
    "nombre_recovered    16504\n",
    "Name: 295, dtype: int64"
   ]
  },
  {
   "cell_type": "markdown",
   "id": "072cde3e",
   "metadata": {},
   "source": [
    "nombre_infected       807\n",
    "nombre_sain          2203\n",
    "nombre_exposed        499\n",
    "nombre_recovered    16491\n",
    "Name: 296, dtype: int64"
   ]
  },
  {
   "cell_type": "markdown",
   "id": "f62b36fc",
   "metadata": {},
   "source": [
    "nombre_infected       810\n",
    "nombre_sain          2239\n",
    "nombre_exposed        475\n",
    "nombre_recovered    16476\n",
    "Name: 297, dtype: int64"
   ]
  },
  {
   "cell_type": "markdown",
   "id": "25b9012b",
   "metadata": {},
   "source": [
    "nombre_infected       816\n",
    "nombre_sain          2257\n",
    "nombre_exposed        492\n",
    "nombre_recovered    16435\n",
    "Name: 298, dtype: int64"
   ]
  },
  {
   "cell_type": "markdown",
   "id": "b0a9bed5",
   "metadata": {},
   "source": [
    "nombre_infected       816\n",
    "nombre_sain          2250\n",
    "nombre_exposed        518\n",
    "nombre_recovered    16416\n",
    "Name: 299, dtype: int64"
   ]
  },
  {
   "cell_type": "markdown",
   "id": "62bd10a6",
   "metadata": {},
   "source": [
    "nombre_infected       826\n",
    "nombre_sain          2267\n",
    "nombre_exposed        513\n",
    "nombre_recovered    16394\n",
    "Name: 300, dtype: int64"
   ]
  },
  {
   "cell_type": "markdown",
   "id": "ba22327a",
   "metadata": {},
   "source": [
    "nombre_infected       853\n",
    "nombre_sain          2273\n",
    "nombre_exposed        511\n",
    "nombre_recovered    16363\n",
    "Name: 301, dtype: int64"
   ]
  },
  {
   "cell_type": "markdown",
   "id": "5b864802",
   "metadata": {},
   "source": [
    "nombre_infected       835\n",
    "nombre_sain          2271\n",
    "nombre_exposed        525\n",
    "nombre_recovered    16369\n",
    "Name: 302, dtype: int64"
   ]
  },
  {
   "cell_type": "markdown",
   "id": "f6b4a68e",
   "metadata": {},
   "source": [
    "nombre_infected       811\n",
    "nombre_sain          2269\n",
    "nombre_exposed        531\n",
    "nombre_recovered    16389\n",
    "Name: 303, dtype: int64"
   ]
  },
  {
   "cell_type": "markdown",
   "id": "620b2c80",
   "metadata": {},
   "source": [
    "nombre_infected       817\n",
    "nombre_sain          2254\n",
    "nombre_exposed        546\n",
    "nombre_recovered    16383\n",
    "Name: 304, dtype: int64"
   ]
  },
  {
   "cell_type": "markdown",
   "id": "2cf07dce",
   "metadata": {},
   "source": [
    "nombre_infected       813\n",
    "nombre_sain          2271\n",
    "nombre_exposed        530\n",
    "nombre_recovered    16386\n",
    "Name: 305, dtype: int64"
   ]
  },
  {
   "cell_type": "markdown",
   "id": "7a57acb7",
   "metadata": {},
   "source": [
    "nombre_infected       802\n",
    "nombre_sain          2266\n",
    "nombre_exposed        530\n",
    "nombre_recovered    16402\n",
    "Name: 306, dtype: int64"
   ]
  },
  {
   "cell_type": "markdown",
   "id": "34b7c1f4",
   "metadata": {},
   "source": [
    "nombre_infected       815\n",
    "nombre_sain          2280\n",
    "nombre_exposed        513\n",
    "nombre_recovered    16392\n",
    "Name: 307, dtype: int64"
   ]
  },
  {
   "cell_type": "markdown",
   "id": "af5f040d",
   "metadata": {},
   "source": [
    "nombre_infected       837\n",
    "nombre_sain          2288\n",
    "nombre_exposed        497\n",
    "nombre_recovered    16378\n",
    "Name: 308, dtype: int64"
   ]
  },
  {
   "cell_type": "markdown",
   "id": "4363b05c",
   "metadata": {},
   "source": [
    "nombre_infected       816\n",
    "nombre_sain          2283\n",
    "nombre_exposed        516\n",
    "nombre_recovered    16385\n",
    "Name: 309, dtype: int64"
   ]
  },
  {
   "cell_type": "markdown",
   "id": "a861f953",
   "metadata": {},
   "source": [
    "nombre_infected       836\n",
    "nombre_sain          2279\n",
    "nombre_exposed        507\n",
    "nombre_recovered    16378\n",
    "Name: 310, dtype: int64"
   ]
  },
  {
   "cell_type": "markdown",
   "id": "5907a489",
   "metadata": {},
   "source": [
    "nombre_infected       845\n",
    "nombre_sain          2260\n",
    "nombre_exposed        504\n",
    "nombre_recovered    16391\n",
    "Name: 311, dtype: int64"
   ]
  },
  {
   "cell_type": "markdown",
   "id": "4dc6e5da",
   "metadata": {},
   "source": [
    "nombre_infected       843\n",
    "nombre_sain          2262\n",
    "nombre_exposed        497\n",
    "nombre_recovered    16398\n",
    "Name: 312, dtype: int64"
   ]
  },
  {
   "cell_type": "markdown",
   "id": "8396bf3f",
   "metadata": {},
   "source": [
    "nombre_infected       843\n",
    "nombre_sain          2258\n",
    "nombre_exposed        487\n",
    "nombre_recovered    16412\n",
    "Name: 313, dtype: int64"
   ]
  },
  {
   "cell_type": "markdown",
   "id": "261be116",
   "metadata": {},
   "source": [
    "nombre_infected       827\n",
    "nombre_sain          2225\n",
    "nombre_exposed        502\n",
    "nombre_recovered    16446\n",
    "Name: 314, dtype: int64"
   ]
  },
  {
   "cell_type": "markdown",
   "id": "07bc1343",
   "metadata": {},
   "source": [
    "nombre_infected       818\n",
    "nombre_sain          2230\n",
    "nombre_exposed        485\n",
    "nombre_recovered    16467\n",
    "Name: 315, dtype: int64"
   ]
  },
  {
   "cell_type": "markdown",
   "id": "6e3bf836",
   "metadata": {},
   "source": [
    "nombre_infected       858\n",
    "nombre_sain          2222\n",
    "nombre_exposed        489\n",
    "nombre_recovered    16431\n",
    "Name: 316, dtype: int64"
   ]
  },
  {
   "cell_type": "markdown",
   "id": "f903232e",
   "metadata": {},
   "source": [
    "nombre_infected       857\n",
    "nombre_sain          2210\n",
    "nombre_exposed        490\n",
    "nombre_recovered    16443\n",
    "Name: 317, dtype: int64"
   ]
  },
  {
   "cell_type": "markdown",
   "id": "6cea0239",
   "metadata": {},
   "source": [
    "nombre_infected       858\n",
    "nombre_sain          2193\n",
    "nombre_exposed        504\n",
    "nombre_recovered    16445\n",
    "Name: 318, dtype: int64"
   ]
  },
  {
   "cell_type": "markdown",
   "id": "246b2746",
   "metadata": {},
   "source": [
    "nombre_infected       880\n",
    "nombre_sain          2195\n",
    "nombre_exposed        495\n",
    "nombre_recovered    16430\n",
    "Name: 319, dtype: int64"
   ]
  },
  {
   "cell_type": "markdown",
   "id": "1f530015",
   "metadata": {},
   "source": [
    "nombre_infected       867\n",
    "nombre_sain          2186\n",
    "nombre_exposed        504\n",
    "nombre_recovered    16443\n",
    "Name: 320, dtype: int64"
   ]
  },
  {
   "cell_type": "markdown",
   "id": "a4f64088",
   "metadata": {},
   "source": [
    "nombre_infected       874\n",
    "nombre_sain          2149\n",
    "nombre_exposed        509\n",
    "nombre_recovered    16468\n",
    "Name: 321, dtype: int64"
   ]
  },
  {
   "cell_type": "markdown",
   "id": "3a40c5fb",
   "metadata": {},
   "source": [
    "nombre_infected       862\n",
    "nombre_sain          2137\n",
    "nombre_exposed        543\n",
    "nombre_recovered    16458\n",
    "Name: 322, dtype: int64"
   ]
  },
  {
   "cell_type": "markdown",
   "id": "955a79f9",
   "metadata": {},
   "source": [
    "nombre_infected       860\n",
    "nombre_sain          2119\n",
    "nombre_exposed        542\n",
    "nombre_recovered    16479\n",
    "Name: 323, dtype: int64"
   ]
  },
  {
   "cell_type": "markdown",
   "id": "a7b7ade5",
   "metadata": {},
   "source": [
    "nombre_infected       886\n",
    "nombre_sain          2110\n",
    "nombre_exposed        528\n",
    "nombre_recovered    16476\n",
    "Name: 324, dtype: int64"
   ]
  },
  {
   "cell_type": "markdown",
   "id": "bc4bd4f4",
   "metadata": {},
   "source": [
    "nombre_infected       897\n",
    "nombre_sain          2110\n",
    "nombre_exposed        507\n",
    "nombre_recovered    16486\n",
    "Name: 325, dtype: int64"
   ]
  },
  {
   "cell_type": "markdown",
   "id": "87f2ed81",
   "metadata": {},
   "source": [
    "nombre_infected       888\n",
    "nombre_sain          2112\n",
    "nombre_exposed        497\n",
    "nombre_recovered    16503\n",
    "Name: 326, dtype: int64"
   ]
  },
  {
   "cell_type": "markdown",
   "id": "755a65b4",
   "metadata": {},
   "source": [
    "nombre_infected       906\n",
    "nombre_sain          2101\n",
    "nombre_exposed        486\n",
    "nombre_recovered    16507\n",
    "Name: 327, dtype: int64"
   ]
  },
  {
   "cell_type": "markdown",
   "id": "43f58721",
   "metadata": {},
   "source": [
    "nombre_infected       893\n",
    "nombre_sain          2079\n",
    "nombre_exposed        500\n",
    "nombre_recovered    16528\n",
    "Name: 328, dtype: int64"
   ]
  },
  {
   "cell_type": "markdown",
   "id": "441dd8e9",
   "metadata": {},
   "source": [
    "nombre_infected       893\n",
    "nombre_sain          2092\n",
    "nombre_exposed        484\n",
    "nombre_recovered    16531\n",
    "Name: 329, dtype: int64"
   ]
  },
  {
   "cell_type": "markdown",
   "id": "49ff7019",
   "metadata": {},
   "source": [
    "nombre_infected       904\n",
    "nombre_sain          2092\n",
    "nombre_exposed        465\n",
    "nombre_recovered    16539\n",
    "Name: 330, dtype: int64"
   ]
  },
  {
   "cell_type": "markdown",
   "id": "e8c5e806",
   "metadata": {},
   "source": [
    "nombre_infected       877\n",
    "nombre_sain          2119\n",
    "nombre_exposed        464\n",
    "nombre_recovered    16540\n",
    "Name: 331, dtype: int64"
   ]
  },
  {
   "cell_type": "markdown",
   "id": "2c1e359f",
   "metadata": {},
   "source": [
    "nombre_infected       851\n",
    "nombre_sain          2124\n",
    "nombre_exposed        467\n",
    "nombre_recovered    16558\n",
    "Name: 332, dtype: int64"
   ]
  },
  {
   "cell_type": "markdown",
   "id": "399b801a",
   "metadata": {},
   "source": [
    "nombre_infected       852\n",
    "nombre_sain          2123\n",
    "nombre_exposed        476\n",
    "nombre_recovered    16549\n",
    "Name: 333, dtype: int64"
   ]
  },
  {
   "cell_type": "markdown",
   "id": "491e211c",
   "metadata": {},
   "source": [
    "nombre_infected       850\n",
    "nombre_sain          2114\n",
    "nombre_exposed        490\n",
    "nombre_recovered    16546\n",
    "Name: 334, dtype: int64"
   ]
  },
  {
   "cell_type": "markdown",
   "id": "53b0f77e",
   "metadata": {},
   "source": [
    "nombre_infected       835\n",
    "nombre_sain          2126\n",
    "nombre_exposed        486\n",
    "nombre_recovered    16553\n",
    "Name: 335, dtype: int64"
   ]
  },
  {
   "cell_type": "markdown",
   "id": "430f2f23",
   "metadata": {},
   "source": [
    "nombre_infected       840\n",
    "nombre_sain          2137\n",
    "nombre_exposed        497\n",
    "nombre_recovered    16526\n",
    "Name: 336, dtype: int64"
   ]
  },
  {
   "cell_type": "markdown",
   "id": "f37601bd",
   "metadata": {},
   "source": [
    "nombre_infected       832\n",
    "nombre_sain          2152\n",
    "nombre_exposed        476\n",
    "nombre_recovered    16540\n",
    "Name: 337, dtype: int64"
   ]
  },
  {
   "cell_type": "markdown",
   "id": "feeb5abe",
   "metadata": {},
   "source": [
    "nombre_infected       836\n",
    "nombre_sain          2165\n",
    "nombre_exposed        481\n",
    "nombre_recovered    16518\n",
    "Name: 338, dtype: int64"
   ]
  },
  {
   "cell_type": "markdown",
   "id": "e6c302fb",
   "metadata": {},
   "source": [
    "nombre_infected       839\n",
    "nombre_sain          2158\n",
    "nombre_exposed        470\n",
    "nombre_recovered    16533\n",
    "Name: 339, dtype: int64"
   ]
  },
  {
   "cell_type": "markdown",
   "id": "1048e700",
   "metadata": {},
   "source": [
    "nombre_infected       826\n",
    "nombre_sain          2151\n",
    "nombre_exposed        454\n",
    "nombre_recovered    16569\n",
    "Name: 340, dtype: int64"
   ]
  },
  {
   "cell_type": "markdown",
   "id": "795e243c",
   "metadata": {},
   "source": [
    "nombre_infected       816\n",
    "nombre_sain          2151\n",
    "nombre_exposed        465\n",
    "nombre_recovered    16568\n",
    "Name: 341, dtype: int64"
   ]
  },
  {
   "cell_type": "markdown",
   "id": "91ce82dd",
   "metadata": {},
   "source": [
    "nombre_infected       811\n",
    "nombre_sain          2159\n",
    "nombre_exposed        454\n",
    "nombre_recovered    16576\n",
    "Name: 342, dtype: int64"
   ]
  },
  {
   "cell_type": "markdown",
   "id": "9455f0c4",
   "metadata": {},
   "source": [
    "nombre_infected       806\n",
    "nombre_sain          2167\n",
    "nombre_exposed        456\n",
    "nombre_recovered    16571\n",
    "Name: 343, dtype: int64"
   ]
  },
  {
   "cell_type": "markdown",
   "id": "68189a50",
   "metadata": {},
   "source": [
    "nombre_infected       802\n",
    "nombre_sain          2186\n",
    "nombre_exposed        441\n",
    "nombre_recovered    16571\n",
    "Name: 344, dtype: int64"
   ]
  },
  {
   "cell_type": "markdown",
   "id": "7e47ea60",
   "metadata": {},
   "source": [
    "nombre_infected       789\n",
    "nombre_sain          2194\n",
    "nombre_exposed        427\n",
    "nombre_recovered    16590\n",
    "Name: 345, dtype: int64"
   ]
  },
  {
   "cell_type": "markdown",
   "id": "71d43e61",
   "metadata": {},
   "source": [
    "nombre_infected       787\n",
    "nombre_sain          2183\n",
    "nombre_exposed        445\n",
    "nombre_recovered    16585\n",
    "Name: 346, dtype: int64"
   ]
  },
  {
   "cell_type": "markdown",
   "id": "6b89999c",
   "metadata": {},
   "source": [
    "nombre_infected       783\n",
    "nombre_sain          2184\n",
    "nombre_exposed        447\n",
    "nombre_recovered    16586\n",
    "Name: 347, dtype: int64"
   ]
  },
  {
   "cell_type": "markdown",
   "id": "c5090a64",
   "metadata": {},
   "source": [
    "nombre_infected       788\n",
    "nombre_sain          2207\n",
    "nombre_exposed        435\n",
    "nombre_recovered    16570\n",
    "Name: 348, dtype: int64"
   ]
  },
  {
   "cell_type": "markdown",
   "id": "610d9c68",
   "metadata": {},
   "source": [
    "nombre_infected       803\n",
    "nombre_sain          2208\n",
    "nombre_exposed        432\n",
    "nombre_recovered    16557\n",
    "Name: 349, dtype: int64"
   ]
  },
  {
   "cell_type": "markdown",
   "id": "ab2ba60e",
   "metadata": {},
   "source": [
    "nombre_infected       790\n",
    "nombre_sain          2196\n",
    "nombre_exposed        437\n",
    "nombre_recovered    16577\n",
    "Name: 350, dtype: int64"
   ]
  },
  {
   "cell_type": "markdown",
   "id": "d3154e36",
   "metadata": {},
   "source": [
    "nombre_infected       785\n",
    "nombre_sain          2175\n",
    "nombre_exposed        449\n",
    "nombre_recovered    16591\n",
    "Name: 351, dtype: int64"
   ]
  },
  {
   "cell_type": "markdown",
   "id": "0f20b76d",
   "metadata": {},
   "source": [
    "nombre_infected       786\n",
    "nombre_sain          2181\n",
    "nombre_exposed        450\n",
    "nombre_recovered    16583\n",
    "Name: 352, dtype: int64"
   ]
  },
  {
   "cell_type": "markdown",
   "id": "e871cd93",
   "metadata": {},
   "source": [
    "nombre_infected       787\n",
    "nombre_sain          2170\n",
    "nombre_exposed        463\n",
    "nombre_recovered    16580\n",
    "Name: 353, dtype: int64"
   ]
  },
  {
   "cell_type": "markdown",
   "id": "3d34b89f",
   "metadata": {},
   "source": [
    "nombre_infected       777\n",
    "nombre_sain          2202\n",
    "nombre_exposed        454\n",
    "nombre_recovered    16567\n",
    "Name: 354, dtype: int64"
   ]
  },
  {
   "cell_type": "markdown",
   "id": "f700bd53",
   "metadata": {},
   "source": [
    "nombre_infected       787\n",
    "nombre_sain          2195\n",
    "nombre_exposed        440\n",
    "nombre_recovered    16578\n",
    "Name: 355, dtype: int64"
   ]
  },
  {
   "cell_type": "markdown",
   "id": "30c1e496",
   "metadata": {},
   "source": [
    "nombre_infected       780\n",
    "nombre_sain          2223\n",
    "nombre_exposed        446\n",
    "nombre_recovered    16551\n",
    "Name: 356, dtype: int64"
   ]
  },
  {
   "cell_type": "markdown",
   "id": "3ff6f0d7",
   "metadata": {},
   "source": [
    "nombre_infected       798\n",
    "nombre_sain          2212\n",
    "nombre_exposed        443\n",
    "nombre_recovered    16547\n",
    "Name: 357, dtype: int64"
   ]
  },
  {
   "cell_type": "markdown",
   "id": "e8d26ce5",
   "metadata": {},
   "source": [
    "nombre_infected       810\n",
    "nombre_sain          2225\n",
    "nombre_exposed        444\n",
    "nombre_recovered    16521\n",
    "Name: 358, dtype: int64"
   ]
  },
  {
   "cell_type": "markdown",
   "id": "88e82620",
   "metadata": {},
   "source": [
    "nombre_infected       816\n",
    "nombre_sain          2240\n",
    "nombre_exposed        445\n",
    "nombre_recovered    16499\n",
    "Name: 359, dtype: int64"
   ]
  },
  {
   "cell_type": "markdown",
   "id": "d8f72d38",
   "metadata": {},
   "source": [
    "nombre_infected       809\n",
    "nombre_sain          2249\n",
    "nombre_exposed        465\n",
    "nombre_recovered    16477\n",
    "Name: 360, dtype: int64"
   ]
  },
  {
   "cell_type": "markdown",
   "id": "395dba0f",
   "metadata": {},
   "source": [
    "nombre_infected       798\n",
    "nombre_sain          2263\n",
    "nombre_exposed        485\n",
    "nombre_recovered    16454\n",
    "Name: 361, dtype: int64"
   ]
  },
  {
   "cell_type": "markdown",
   "id": "fc2d0690",
   "metadata": {},
   "source": [
    "nombre_infected       815\n",
    "nombre_sain          2264\n",
    "nombre_exposed        491\n",
    "nombre_recovered    16430\n",
    "Name: 362, dtype: int64"
   ]
  },
  {
   "cell_type": "markdown",
   "id": "6ee8ccc8",
   "metadata": {},
   "source": [
    "nombre_infected       811\n",
    "nombre_sain          2280\n",
    "nombre_exposed        489\n",
    "nombre_recovered    16420\n",
    "Name: 363, dtype: int64"
   ]
  },
  {
   "cell_type": "markdown",
   "id": "18b5df54",
   "metadata": {},
   "source": [
    "nombre_infected       837\n",
    "nombre_sain          2287\n",
    "nombre_exposed        473\n",
    "nombre_recovered    16403\n",
    "Name: 364, dtype: int64"
   ]
  },
  {
   "cell_type": "markdown",
   "id": "b6902286",
   "metadata": {},
   "source": [
    "nombre_infected       857\n",
    "nombre_sain          2306\n",
    "nombre_exposed        471\n",
    "nombre_recovered    16366\n",
    "Name: 365, dtype: int64"
   ]
  },
  {
   "cell_type": "markdown",
   "id": "e7917577",
   "metadata": {},
   "source": [
    "nombre_infected       853\n",
    "nombre_sain          2298\n",
    "nombre_exposed        492\n",
    "nombre_recovered    16357\n",
    "Name: 366, dtype: int64"
   ]
  },
  {
   "cell_type": "markdown",
   "id": "7455df5e",
   "metadata": {},
   "source": [
    "nombre_infected       851\n",
    "nombre_sain          2272\n",
    "nombre_exposed        532\n",
    "nombre_recovered    16345\n",
    "Name: 367, dtype: int64"
   ]
  },
  {
   "cell_type": "markdown",
   "id": "c38a242b",
   "metadata": {},
   "source": [
    "nombre_infected       848\n",
    "nombre_sain          2260\n",
    "nombre_exposed        537\n",
    "nombre_recovered    16355\n",
    "Name: 368, dtype: int64"
   ]
  },
  {
   "cell_type": "markdown",
   "id": "409ff0c9",
   "metadata": {},
   "source": [
    "nombre_infected       857\n",
    "nombre_sain          2290\n",
    "nombre_exposed        526\n",
    "nombre_recovered    16327\n",
    "Name: 369, dtype: int64"
   ]
  },
  {
   "cell_type": "markdown",
   "id": "63cce9ac",
   "metadata": {},
   "source": [
    "nombre_infected       875\n",
    "nombre_sain          2279\n",
    "nombre_exposed        515\n",
    "nombre_recovered    16331\n",
    "Name: 370, dtype: int64"
   ]
  },
  {
   "cell_type": "markdown",
   "id": "a62520c0",
   "metadata": {},
   "source": [
    "nombre_infected       892\n",
    "nombre_sain          2267\n",
    "nombre_exposed        540\n",
    "nombre_recovered    16301\n",
    "Name: 371, dtype: int64"
   ]
  },
  {
   "cell_type": "markdown",
   "id": "e7515b70",
   "metadata": {},
   "source": [
    "nombre_infected       889\n",
    "nombre_sain          2278\n",
    "nombre_exposed        538\n",
    "nombre_recovered    16295\n",
    "Name: 372, dtype: int64"
   ]
  },
  {
   "cell_type": "markdown",
   "id": "484d1a35",
   "metadata": {},
   "source": [
    "nombre_infected       888\n",
    "nombre_sain          2302\n",
    "nombre_exposed        534\n",
    "nombre_recovered    16276\n",
    "Name: 373, dtype: int64"
   ]
  },
  {
   "cell_type": "markdown",
   "id": "d5fc4043",
   "metadata": {},
   "source": [
    "nombre_infected       885\n",
    "nombre_sain          2289\n",
    "nombre_exposed        540\n",
    "nombre_recovered    16286\n",
    "Name: 374, dtype: int64"
   ]
  },
  {
   "cell_type": "markdown",
   "id": "526a0485",
   "metadata": {},
   "source": [
    "nombre_infected       874\n",
    "nombre_sain          2324\n",
    "nombre_exposed        545\n",
    "nombre_recovered    16257\n",
    "Name: 375, dtype: int64"
   ]
  },
  {
   "cell_type": "markdown",
   "id": "7365c8f9",
   "metadata": {},
   "source": [
    "nombre_infected       885\n",
    "nombre_sain          2337\n",
    "nombre_exposed        532\n",
    "nombre_recovered    16246\n",
    "Name: 376, dtype: int64"
   ]
  },
  {
   "cell_type": "markdown",
   "id": "624ed56f",
   "metadata": {},
   "source": [
    "nombre_infected       920\n",
    "nombre_sain          2335\n",
    "nombre_exposed        528\n",
    "nombre_recovered    16217\n",
    "Name: 377, dtype: int64"
   ]
  },
  {
   "cell_type": "markdown",
   "id": "ea6a85fc",
   "metadata": {},
   "source": [
    "nombre_infected       923\n",
    "nombre_sain          2323\n",
    "nombre_exposed        540\n",
    "nombre_recovered    16214\n",
    "Name: 378, dtype: int64"
   ]
  },
  {
   "cell_type": "markdown",
   "id": "4eba9dda",
   "metadata": {},
   "source": [
    "nombre_infected       930\n",
    "nombre_sain          2318\n",
    "nombre_exposed        535\n",
    "nombre_recovered    16217\n",
    "Name: 379, dtype: int64"
   ]
  },
  {
   "cell_type": "markdown",
   "id": "cc45d9b2",
   "metadata": {},
   "source": [
    "nombre_infected       928\n",
    "nombre_sain          2323\n",
    "nombre_exposed        553\n",
    "nombre_recovered    16196\n",
    "Name: 380, dtype: int64"
   ]
  },
  {
   "cell_type": "markdown",
   "id": "d7d55de8",
   "metadata": {},
   "source": [
    "nombre_infected       931\n",
    "nombre_sain          2305\n",
    "nombre_exposed        564\n",
    "nombre_recovered    16200\n",
    "Name: 381, dtype: int64"
   ]
  },
  {
   "cell_type": "markdown",
   "id": "b163c911",
   "metadata": {},
   "source": [
    "nombre_infected       914\n",
    "nombre_sain          2300\n",
    "nombre_exposed        586\n",
    "nombre_recovered    16200\n",
    "Name: 382, dtype: int64"
   ]
  },
  {
   "cell_type": "markdown",
   "id": "a0943e6f",
   "metadata": {},
   "source": [
    "nombre_infected       944\n",
    "nombre_sain          2302\n",
    "nombre_exposed        556\n",
    "nombre_recovered    16198\n",
    "Name: 383, dtype: int64"
   ]
  },
  {
   "cell_type": "markdown",
   "id": "e704375b",
   "metadata": {},
   "source": [
    "nombre_infected       966\n",
    "nombre_sain          2282\n",
    "nombre_exposed        550\n",
    "nombre_recovered    16202\n",
    "Name: 384, dtype: int64"
   ]
  },
  {
   "cell_type": "markdown",
   "id": "8cfe2636",
   "metadata": {},
   "source": [
    "nombre_infected       948\n",
    "nombre_sain          2277\n",
    "nombre_exposed        564\n",
    "nombre_recovered    16211\n",
    "Name: 385, dtype: int64"
   ]
  },
  {
   "cell_type": "markdown",
   "id": "cc069307",
   "metadata": {},
   "source": [
    "nombre_infected       929\n",
    "nombre_sain          2279\n",
    "nombre_exposed        573\n",
    "nombre_recovered    16219\n",
    "Name: 386, dtype: int64"
   ]
  },
  {
   "cell_type": "markdown",
   "id": "65b6ac9c",
   "metadata": {},
   "source": [
    "nombre_infected       941\n",
    "nombre_sain          2288\n",
    "nombre_exposed        568\n",
    "nombre_recovered    16203\n",
    "Name: 387, dtype: int64"
   ]
  },
  {
   "cell_type": "markdown",
   "id": "93e69d2b",
   "metadata": {},
   "source": [
    "nombre_infected       955\n",
    "nombre_sain          2254\n",
    "nombre_exposed        587\n",
    "nombre_recovered    16204\n",
    "Name: 388, dtype: int64"
   ]
  },
  {
   "cell_type": "markdown",
   "id": "2b5d1c7f",
   "metadata": {},
   "source": [
    "nombre_infected       957\n",
    "nombre_sain          2245\n",
    "nombre_exposed        596\n",
    "nombre_recovered    16202\n",
    "Name: 389, dtype: int64"
   ]
  },
  {
   "cell_type": "markdown",
   "id": "4afaa549",
   "metadata": {},
   "source": [
    "nombre_infected       960\n",
    "nombre_sain          2237\n",
    "nombre_exposed        602\n",
    "nombre_recovered    16201\n",
    "Name: 390, dtype: int64"
   ]
  },
  {
   "cell_type": "markdown",
   "id": "2585fd74",
   "metadata": {},
   "source": [
    "nombre_infected       955\n",
    "nombre_sain          2256\n",
    "nombre_exposed        595\n",
    "nombre_recovered    16194\n",
    "Name: 391, dtype: int64"
   ]
  },
  {
   "cell_type": "markdown",
   "id": "5917b59f",
   "metadata": {},
   "source": [
    "nombre_infected       956\n",
    "nombre_sain          2250\n",
    "nombre_exposed        598\n",
    "nombre_recovered    16196\n",
    "Name: 392, dtype: int64"
   ]
  },
  {
   "cell_type": "markdown",
   "id": "14a33566",
   "metadata": {},
   "source": [
    "nombre_infected       962\n",
    "nombre_sain          2231\n",
    "nombre_exposed        597\n",
    "nombre_recovered    16210\n",
    "Name: 393, dtype: int64"
   ]
  },
  {
   "cell_type": "markdown",
   "id": "2b5d4fa8",
   "metadata": {},
   "source": [
    "nombre_infected       954\n",
    "nombre_sain          2224\n",
    "nombre_exposed        606\n",
    "nombre_recovered    16216\n",
    "Name: 394, dtype: int64"
   ]
  },
  {
   "cell_type": "markdown",
   "id": "19cc8e72",
   "metadata": {},
   "source": [
    "nombre_infected       948\n",
    "nombre_sain          2236\n",
    "nombre_exposed        614\n",
    "nombre_recovered    16202\n",
    "Name: 395, dtype: int64"
   ]
  },
  {
   "cell_type": "markdown",
   "id": "534719d8",
   "metadata": {},
   "source": [
    "nombre_infected       920\n",
    "nombre_sain          2236\n",
    "nombre_exposed        611\n",
    "nombre_recovered    16233\n",
    "Name: 396, dtype: int64"
   ]
  },
  {
   "cell_type": "markdown",
   "id": "7fa27034",
   "metadata": {},
   "source": [
    "nombre_infected       938\n",
    "nombre_sain          2233\n",
    "nombre_exposed        610\n",
    "nombre_recovered    16219\n",
    "Name: 397, dtype: int64"
   ]
  },
  {
   "cell_type": "markdown",
   "id": "61d0e395",
   "metadata": {},
   "source": [
    "nombre_infected       925\n",
    "nombre_sain          2211\n",
    "nombre_exposed        628\n",
    "nombre_recovered    16236\n",
    "Name: 398, dtype: int64"
   ]
  },
  {
   "cell_type": "markdown",
   "id": "7e6a2354",
   "metadata": {},
   "source": [
    "nombre_infected       928\n",
    "nombre_sain          2187\n",
    "nombre_exposed        664\n",
    "nombre_recovered    16221\n",
    "Name: 399, dtype: int64"
   ]
  },
  {
   "cell_type": "markdown",
   "id": "eda2930c",
   "metadata": {},
   "source": [
    "nombre_infected       953\n",
    "nombre_sain          2201\n",
    "nombre_exposed        641\n",
    "nombre_recovered    16205\n",
    "Name: 400, dtype: int64"
   ]
  },
  {
   "cell_type": "markdown",
   "id": "84d84923",
   "metadata": {},
   "source": [
    "nombre_infected       951\n",
    "nombre_sain          2206\n",
    "nombre_exposed        630\n",
    "nombre_recovered    16213\n",
    "Name: 401, dtype: int64"
   ]
  },
  {
   "cell_type": "markdown",
   "id": "d597236f",
   "metadata": {},
   "source": [
    "nombre_infected       954\n",
    "nombre_sain          2205\n",
    "nombre_exposed        646\n",
    "nombre_recovered    16195\n",
    "Name: 402, dtype: int64"
   ]
  },
  {
   "cell_type": "markdown",
   "id": "1f73c654",
   "metadata": {},
   "source": [
    "nombre_infected       963\n",
    "nombre_sain          2185\n",
    "nombre_exposed        641\n",
    "nombre_recovered    16211\n",
    "Name: 403, dtype: int64"
   ]
  },
  {
   "cell_type": "markdown",
   "id": "675a410b",
   "metadata": {},
   "source": [
    "nombre_infected       976\n",
    "nombre_sain          2194\n",
    "nombre_exposed        631\n",
    "nombre_recovered    16199\n",
    "Name: 404, dtype: int64"
   ]
  },
  {
   "cell_type": "markdown",
   "id": "e7669416",
   "metadata": {},
   "source": [
    "nombre_infected      1004\n",
    "nombre_sain          2168\n",
    "nombre_exposed        627\n",
    "nombre_recovered    16201\n",
    "Name: 405, dtype: int64"
   ]
  },
  {
   "cell_type": "markdown",
   "id": "8ddd0688",
   "metadata": {},
   "source": [
    "nombre_infected      1020\n",
    "nombre_sain          2166\n",
    "nombre_exposed        613\n",
    "nombre_recovered    16201\n",
    "Name: 406, dtype: int64"
   ]
  },
  {
   "cell_type": "markdown",
   "id": "0556088f",
   "metadata": {},
   "source": [
    "nombre_infected      1048\n",
    "nombre_sain          2156\n",
    "nombre_exposed        603\n",
    "nombre_recovered    16193\n",
    "Name: 407, dtype: int64"
   ]
  },
  {
   "cell_type": "markdown",
   "id": "e1256d3d",
   "metadata": {},
   "source": [
    "nombre_infected      1046\n",
    "nombre_sain          2161\n",
    "nombre_exposed        617\n",
    "nombre_recovered    16176\n",
    "Name: 408, dtype: int64"
   ]
  },
  {
   "cell_type": "markdown",
   "id": "401d800b",
   "metadata": {},
   "source": [
    "nombre_infected      1062\n",
    "nombre_sain          2128\n",
    "nombre_exposed        619\n",
    "nombre_recovered    16191\n",
    "Name: 409, dtype: int64"
   ]
  },
  {
   "cell_type": "markdown",
   "id": "0a919e60",
   "metadata": {},
   "source": [
    "nombre_infected      1056\n",
    "nombre_sain          2117\n",
    "nombre_exposed        607\n",
    "nombre_recovered    16220\n",
    "Name: 410, dtype: int64"
   ]
  },
  {
   "cell_type": "markdown",
   "id": "da8b6887",
   "metadata": {},
   "source": [
    "nombre_infected      1066\n",
    "nombre_sain          2113\n",
    "nombre_exposed        595\n",
    "nombre_recovered    16226\n",
    "Name: 411, dtype: int64"
   ]
  },
  {
   "cell_type": "markdown",
   "id": "6950ed1d",
   "metadata": {},
   "source": [
    "nombre_infected      1070\n",
    "nombre_sain          2113\n",
    "nombre_exposed        598\n",
    "nombre_recovered    16219\n",
    "Name: 412, dtype: int64"
   ]
  },
  {
   "cell_type": "markdown",
   "id": "5bbb4ae4",
   "metadata": {},
   "source": [
    "nombre_infected      1061\n",
    "nombre_sain          2094\n",
    "nombre_exposed        587\n",
    "nombre_recovered    16258\n",
    "Name: 413, dtype: int64"
   ]
  },
  {
   "cell_type": "markdown",
   "id": "4b583aa4",
   "metadata": {},
   "source": [
    "nombre_infected      1095\n",
    "nombre_sain          2105\n",
    "nombre_exposed        570\n",
    "nombre_recovered    16230\n",
    "Name: 414, dtype: int64"
   ]
  },
  {
   "cell_type": "markdown",
   "id": "775962cf",
   "metadata": {},
   "source": [
    "nombre_infected      1076\n",
    "nombre_sain          2074\n",
    "nombre_exposed        590\n",
    "nombre_recovered    16260\n",
    "Name: 415, dtype: int64"
   ]
  },
  {
   "cell_type": "markdown",
   "id": "28992e62",
   "metadata": {},
   "source": [
    "nombre_infected      1065\n",
    "nombre_sain          2065\n",
    "nombre_exposed        595\n",
    "nombre_recovered    16275\n",
    "Name: 416, dtype: int64"
   ]
  },
  {
   "cell_type": "markdown",
   "id": "bc4c05c7",
   "metadata": {},
   "source": [
    "nombre_infected      1041\n",
    "nombre_sain          2087\n",
    "nombre_exposed        580\n",
    "nombre_recovered    16292\n",
    "Name: 417, dtype: int64"
   ]
  },
  {
   "cell_type": "markdown",
   "id": "3d4dbd2a",
   "metadata": {},
   "source": [
    "nombre_infected      1045\n",
    "nombre_sain          2088\n",
    "nombre_exposed        573\n",
    "nombre_recovered    16294\n",
    "Name: 418, dtype: int64"
   ]
  },
  {
   "cell_type": "markdown",
   "id": "dbe1ba93",
   "metadata": {},
   "source": [
    "nombre_infected      1035\n",
    "nombre_sain          2119\n",
    "nombre_exposed        568\n",
    "nombre_recovered    16278\n",
    "Name: 419, dtype: int64"
   ]
  },
  {
   "cell_type": "markdown",
   "id": "4aa848bf",
   "metadata": {},
   "source": [
    "nombre_infected      1036\n",
    "nombre_sain          2116\n",
    "nombre_exposed        572\n",
    "nombre_recovered    16276\n",
    "Name: 420, dtype: int64"
   ]
  },
  {
   "cell_type": "markdown",
   "id": "631039f4",
   "metadata": {},
   "source": [
    "nombre_infected      1044\n",
    "nombre_sain          2085\n",
    "nombre_exposed        573\n",
    "nombre_recovered    16298\n",
    "Name: 421, dtype: int64"
   ]
  },
  {
   "cell_type": "markdown",
   "id": "dbed3753",
   "metadata": {},
   "source": [
    "nombre_infected      1041\n",
    "nombre_sain          2092\n",
    "nombre_exposed        577\n",
    "nombre_recovered    16290\n",
    "Name: 422, dtype: int64"
   ]
  },
  {
   "cell_type": "markdown",
   "id": "1065244e",
   "metadata": {},
   "source": [
    "nombre_infected      1052\n",
    "nombre_sain          2110\n",
    "nombre_exposed        576\n",
    "nombre_recovered    16262\n",
    "Name: 423, dtype: int64"
   ]
  },
  {
   "cell_type": "markdown",
   "id": "b664a966",
   "metadata": {},
   "source": [
    "nombre_infected      1062\n",
    "nombre_sain          2106\n",
    "nombre_exposed        571\n",
    "nombre_recovered    16261\n",
    "Name: 424, dtype: int64"
   ]
  },
  {
   "cell_type": "markdown",
   "id": "9f29f9ba",
   "metadata": {},
   "source": [
    "nombre_infected      1062\n",
    "nombre_sain          2079\n",
    "nombre_exposed        580\n",
    "nombre_recovered    16279\n",
    "Name: 425, dtype: int64"
   ]
  },
  {
   "cell_type": "markdown",
   "id": "34bbc55c",
   "metadata": {},
   "source": [
    "nombre_infected      1067\n",
    "nombre_sain          2060\n",
    "nombre_exposed        602\n",
    "nombre_recovered    16271\n",
    "Name: 426, dtype: int64"
   ]
  },
  {
   "cell_type": "markdown",
   "id": "51de9031",
   "metadata": {},
   "source": [
    "nombre_infected      1055\n",
    "nombre_sain          2049\n",
    "nombre_exposed        602\n",
    "nombre_recovered    16294\n",
    "Name: 427, dtype: int64"
   ]
  },
  {
   "cell_type": "markdown",
   "id": "22b0ab6f",
   "metadata": {},
   "source": [
    "nombre_infected      1087\n",
    "nombre_sain          2047\n",
    "nombre_exposed        584\n",
    "nombre_recovered    16282\n",
    "Name: 428, dtype: int64"
   ]
  },
  {
   "cell_type": "markdown",
   "id": "d5df48f4",
   "metadata": {},
   "source": [
    "nombre_infected      1103\n",
    "nombre_sain          2028\n",
    "nombre_exposed        581\n",
    "nombre_recovered    16288\n",
    "Name: 429, dtype: int64"
   ]
  },
  {
   "cell_type": "markdown",
   "id": "b6eb72db",
   "metadata": {},
   "source": [
    "nombre_infected      1112\n",
    "nombre_sain          2011\n",
    "nombre_exposed        585\n",
    "nombre_recovered    16292\n",
    "Name: 430, dtype: int64"
   ]
  },
  {
   "cell_type": "markdown",
   "id": "cda03fc5",
   "metadata": {},
   "source": [
    "nombre_infected      1126\n",
    "nombre_sain          1975\n",
    "nombre_exposed        572\n",
    "nombre_recovered    16327\n",
    "Name: 431, dtype: int64"
   ]
  },
  {
   "cell_type": "markdown",
   "id": "de7c1876",
   "metadata": {},
   "source": [
    "nombre_infected      1131\n",
    "nombre_sain          1969\n",
    "nombre_exposed        563\n",
    "nombre_recovered    16337\n",
    "Name: 432, dtype: int64"
   ]
  },
  {
   "cell_type": "markdown",
   "id": "83840ee7",
   "metadata": {},
   "source": [
    "nombre_infected      1116\n",
    "nombre_sain          1939\n",
    "nombre_exposed        552\n",
    "nombre_recovered    16393\n",
    "Name: 433, dtype: int64"
   ]
  },
  {
   "cell_type": "markdown",
   "id": "e3b28eea",
   "metadata": {},
   "source": [
    "nombre_infected      1100\n",
    "nombre_sain          1920\n",
    "nombre_exposed        569\n",
    "nombre_recovered    16411\n",
    "Name: 434, dtype: int64"
   ]
  },
  {
   "cell_type": "markdown",
   "id": "817ce94e",
   "metadata": {},
   "source": [
    "nombre_infected      1117\n",
    "nombre_sain          1923\n",
    "nombre_exposed        542\n",
    "nombre_recovered    16418\n",
    "Name: 435, dtype: int64"
   ]
  },
  {
   "cell_type": "markdown",
   "id": "7d6aea37",
   "metadata": {},
   "source": [
    "nombre_infected      1103\n",
    "nombre_sain          1917\n",
    "nombre_exposed        551\n",
    "nombre_recovered    16429\n",
    "Name: 436, dtype: int64"
   ]
  },
  {
   "cell_type": "markdown",
   "id": "d38ab315",
   "metadata": {},
   "source": [
    "nombre_infected      1081\n",
    "nombre_sain          1918\n",
    "nombre_exposed        542\n",
    "nombre_recovered    16459\n",
    "Name: 437, dtype: int64"
   ]
  },
  {
   "cell_type": "markdown",
   "id": "54cf2030",
   "metadata": {},
   "source": [
    "nombre_infected      1075\n",
    "nombre_sain          1909\n",
    "nombre_exposed        532\n",
    "nombre_recovered    16484\n",
    "Name: 438, dtype: int64"
   ]
  },
  {
   "cell_type": "markdown",
   "id": "a6daaba2",
   "metadata": {},
   "source": [
    "nombre_infected      1057\n",
    "nombre_sain          1917\n",
    "nombre_exposed        534\n",
    "nombre_recovered    16492\n",
    "Name: 439, dtype: int64"
   ]
  },
  {
   "cell_type": "markdown",
   "id": "156900e4",
   "metadata": {},
   "source": [
    "nombre_infected      1075\n",
    "nombre_sain          1920\n",
    "nombre_exposed        517\n",
    "nombre_recovered    16488\n",
    "Name: 440, dtype: int64"
   ]
  },
  {
   "cell_type": "markdown",
   "id": "a68f6918",
   "metadata": {},
   "source": [
    "nombre_infected      1066\n",
    "nombre_sain          1954\n",
    "nombre_exposed        486\n",
    "nombre_recovered    16494\n",
    "Name: 441, dtype: int64"
   ]
  },
  {
   "cell_type": "markdown",
   "id": "122012f6",
   "metadata": {},
   "source": [
    "nombre_infected      1056\n",
    "nombre_sain          1917\n",
    "nombre_exposed        514\n",
    "nombre_recovered    16513\n",
    "Name: 442, dtype: int64"
   ]
  },
  {
   "cell_type": "markdown",
   "id": "c81be5fb",
   "metadata": {},
   "source": [
    "nombre_infected      1037\n",
    "nombre_sain          1910\n",
    "nombre_exposed        523\n",
    "nombre_recovered    16530\n",
    "Name: 443, dtype: int64"
   ]
  },
  {
   "cell_type": "markdown",
   "id": "7400df19",
   "metadata": {},
   "source": [
    "nombre_infected      1034\n",
    "nombre_sain          1899\n",
    "nombre_exposed        524\n",
    "nombre_recovered    16543\n",
    "Name: 444, dtype: int64"
   ]
  },
  {
   "cell_type": "markdown",
   "id": "9be53d6e",
   "metadata": {},
   "source": [
    "nombre_infected      1027\n",
    "nombre_sain          1918\n",
    "nombre_exposed        510\n",
    "nombre_recovered    16545\n",
    "Name: 445, dtype: int64"
   ]
  },
  {
   "cell_type": "markdown",
   "id": "f204a149",
   "metadata": {},
   "source": [
    "nombre_infected      1011\n",
    "nombre_sain          1923\n",
    "nombre_exposed        495\n",
    "nombre_recovered    16571\n",
    "Name: 446, dtype: int64"
   ]
  },
  {
   "cell_type": "markdown",
   "id": "c5af6b3f",
   "metadata": {},
   "source": [
    "nombre_infected       991\n",
    "nombre_sain          1904\n",
    "nombre_exposed        517\n",
    "nombre_recovered    16588\n",
    "Name: 447, dtype: int64"
   ]
  },
  {
   "cell_type": "markdown",
   "id": "a4afa35a",
   "metadata": {},
   "source": [
    "nombre_infected       972\n",
    "nombre_sain          1925\n",
    "nombre_exposed        525\n",
    "nombre_recovered    16578\n",
    "Name: 448, dtype: int64"
   ]
  },
  {
   "cell_type": "markdown",
   "id": "046ed106",
   "metadata": {},
   "source": [
    "nombre_infected       967\n",
    "nombre_sain          1938\n",
    "nombre_exposed        502\n",
    "nombre_recovered    16593\n",
    "Name: 449, dtype: int64"
   ]
  },
  {
   "cell_type": "markdown",
   "id": "8e73ac0c",
   "metadata": {},
   "source": [
    "nombre_infected       989\n",
    "nombre_sain          1932\n",
    "nombre_exposed        507\n",
    "nombre_recovered    16572\n",
    "Name: 450, dtype: int64"
   ]
  },
  {
   "cell_type": "markdown",
   "id": "6c206c5f",
   "metadata": {},
   "source": [
    "nombre_infected       983\n",
    "nombre_sain          1938\n",
    "nombre_exposed        486\n",
    "nombre_recovered    16593\n",
    "Name: 451, dtype: int64"
   ]
  },
  {
   "cell_type": "markdown",
   "id": "f9df98f4",
   "metadata": {},
   "source": [
    "nombre_infected       989\n",
    "nombre_sain          1950\n",
    "nombre_exposed        475\n",
    "nombre_recovered    16586\n",
    "Name: 452, dtype: int64"
   ]
  },
  {
   "cell_type": "markdown",
   "id": "e481997e",
   "metadata": {},
   "source": [
    "nombre_infected       977\n",
    "nombre_sain          1945\n",
    "nombre_exposed        490\n",
    "nombre_recovered    16588\n",
    "Name: 453, dtype: int64"
   ]
  },
  {
   "cell_type": "markdown",
   "id": "bf129623",
   "metadata": {},
   "source": [
    "nombre_infected       968\n",
    "nombre_sain          1944\n",
    "nombre_exposed        484\n",
    "nombre_recovered    16604\n",
    "Name: 454, dtype: int64"
   ]
  },
  {
   "cell_type": "markdown",
   "id": "cef24d2f",
   "metadata": {},
   "source": [
    "nombre_infected       980\n",
    "nombre_sain          1935\n",
    "nombre_exposed        477\n",
    "nombre_recovered    16608\n",
    "Name: 455, dtype: int64"
   ]
  },
  {
   "cell_type": "markdown",
   "id": "1ec805a1",
   "metadata": {},
   "source": [
    "nombre_infected       967\n",
    "nombre_sain          1947\n",
    "nombre_exposed        465\n",
    "nombre_recovered    16621\n",
    "Name: 456, dtype: int64"
   ]
  },
  {
   "cell_type": "markdown",
   "id": "3ab7a5ab",
   "metadata": {},
   "source": [
    "nombre_infected       937\n",
    "nombre_sain          1928\n",
    "nombre_exposed        474\n",
    "nombre_recovered    16661\n",
    "Name: 457, dtype: int64"
   ]
  },
  {
   "cell_type": "markdown",
   "id": "7654e536",
   "metadata": {},
   "source": [
    "nombre_infected       917\n",
    "nombre_sain          1943\n",
    "nombre_exposed        489\n",
    "nombre_recovered    16651\n",
    "Name: 458, dtype: int64"
   ]
  },
  {
   "cell_type": "markdown",
   "id": "ef2e75ba",
   "metadata": {},
   "source": [
    "nombre_infected       916\n",
    "nombre_sain          1965\n",
    "nombre_exposed        470\n",
    "nombre_recovered    16649\n",
    "Name: 459, dtype: int64"
   ]
  },
  {
   "cell_type": "markdown",
   "id": "201de964",
   "metadata": {},
   "source": [
    "nombre_infected       928\n",
    "nombre_sain          1976\n",
    "nombre_exposed        455\n",
    "nombre_recovered    16641\n",
    "Name: 460, dtype: int64"
   ]
  },
  {
   "cell_type": "markdown",
   "id": "00680a0a",
   "metadata": {},
   "source": [
    "nombre_infected       882\n",
    "nombre_sain          1966\n",
    "nombre_exposed        454\n",
    "nombre_recovered    16698\n",
    "Name: 461, dtype: int64"
   ]
  },
  {
   "cell_type": "markdown",
   "id": "fd96e847",
   "metadata": {},
   "source": [
    "nombre_infected       872\n",
    "nombre_sain          1983\n",
    "nombre_exposed        421\n",
    "nombre_recovered    16724\n",
    "Name: 462, dtype: int64"
   ]
  },
  {
   "cell_type": "markdown",
   "id": "29cf3524",
   "metadata": {},
   "source": [
    "nombre_infected       861\n",
    "nombre_sain          1982\n",
    "nombre_exposed        406\n",
    "nombre_recovered    16751\n",
    "Name: 463, dtype: int64"
   ]
  },
  {
   "cell_type": "markdown",
   "id": "9fb54f83",
   "metadata": {},
   "source": [
    "nombre_infected       833\n",
    "nombre_sain          1981\n",
    "nombre_exposed        427\n",
    "nombre_recovered    16759\n",
    "Name: 464, dtype: int64"
   ]
  },
  {
   "cell_type": "markdown",
   "id": "87016825",
   "metadata": {},
   "source": [
    "nombre_infected       827\n",
    "nombre_sain          2000\n",
    "nombre_exposed        422\n",
    "nombre_recovered    16751\n",
    "Name: 465, dtype: int64"
   ]
  },
  {
   "cell_type": "markdown",
   "id": "602fc90d",
   "metadata": {},
   "source": [
    "nombre_infected       853\n",
    "nombre_sain          2003\n",
    "nombre_exposed        413\n",
    "nombre_recovered    16731\n",
    "Name: 466, dtype: int64"
   ]
  },
  {
   "cell_type": "markdown",
   "id": "a0931d07",
   "metadata": {},
   "source": [
    "nombre_infected       856\n",
    "nombre_sain          2032\n",
    "nombre_exposed        410\n",
    "nombre_recovered    16702\n",
    "Name: 467, dtype: int64"
   ]
  },
  {
   "cell_type": "markdown",
   "id": "7c5e92f6",
   "metadata": {},
   "source": [
    "nombre_infected       827\n",
    "nombre_sain          2060\n",
    "nombre_exposed        407\n",
    "nombre_recovered    16706\n",
    "Name: 468, dtype: int64"
   ]
  },
  {
   "cell_type": "markdown",
   "id": "504cffb2",
   "metadata": {},
   "source": [
    "nombre_infected       831\n",
    "nombre_sain          2115\n",
    "nombre_exposed        399\n",
    "nombre_recovered    16655\n",
    "Name: 469, dtype: int64"
   ]
  },
  {
   "cell_type": "markdown",
   "id": "6067efaf",
   "metadata": {},
   "source": [
    "nombre_infected       798\n",
    "nombre_sain          2126\n",
    "nombre_exposed        426\n",
    "nombre_recovered    16650\n",
    "Name: 470, dtype: int64"
   ]
  },
  {
   "cell_type": "markdown",
   "id": "66f73ede",
   "metadata": {},
   "source": [
    "nombre_infected       772\n",
    "nombre_sain          2158\n",
    "nombre_exposed        437\n",
    "nombre_recovered    16633\n",
    "Name: 471, dtype: int64"
   ]
  },
  {
   "cell_type": "markdown",
   "id": "f3b0d477",
   "metadata": {},
   "source": [
    "nombre_infected       779\n",
    "nombre_sain          2184\n",
    "nombre_exposed        423\n",
    "nombre_recovered    16614\n",
    "Name: 472, dtype: int64"
   ]
  },
  {
   "cell_type": "markdown",
   "id": "0d2bf3b5",
   "metadata": {},
   "source": [
    "nombre_infected       769\n",
    "nombre_sain          2196\n",
    "nombre_exposed        429\n",
    "nombre_recovered    16606\n",
    "Name: 473, dtype: int64"
   ]
  },
  {
   "cell_type": "markdown",
   "id": "d873a785",
   "metadata": {},
   "source": [
    "nombre_infected       766\n",
    "nombre_sain          2209\n",
    "nombre_exposed        428\n",
    "nombre_recovered    16597\n",
    "Name: 474, dtype: int64"
   ]
  },
  {
   "cell_type": "markdown",
   "id": "ef80e6fc",
   "metadata": {},
   "source": [
    "nombre_infected       756\n",
    "nombre_sain          2227\n",
    "nombre_exposed        430\n",
    "nombre_recovered    16587\n",
    "Name: 475, dtype: int64"
   ]
  },
  {
   "cell_type": "markdown",
   "id": "08312ec6",
   "metadata": {},
   "source": [
    "nombre_infected       736\n",
    "nombre_sain          2241\n",
    "nombre_exposed        453\n",
    "nombre_recovered    16570\n",
    "Name: 476, dtype: int64"
   ]
  },
  {
   "cell_type": "markdown",
   "id": "bfcdb3f3",
   "metadata": {},
   "source": [
    "nombre_infected       716\n",
    "nombre_sain          2257\n",
    "nombre_exposed        467\n",
    "nombre_recovered    16560\n",
    "Name: 477, dtype: int64"
   ]
  },
  {
   "cell_type": "markdown",
   "id": "feffb4d7",
   "metadata": {},
   "source": [
    "nombre_infected       747\n",
    "nombre_sain          2279\n",
    "nombre_exposed        465\n",
    "nombre_recovered    16509\n",
    "Name: 478, dtype: int64"
   ]
  },
  {
   "cell_type": "markdown",
   "id": "85c21689",
   "metadata": {},
   "source": [
    "nombre_infected       751\n",
    "nombre_sain          2276\n",
    "nombre_exposed        482\n",
    "nombre_recovered    16491\n",
    "Name: 479, dtype: int64"
   ]
  },
  {
   "cell_type": "markdown",
   "id": "5f230655",
   "metadata": {},
   "source": [
    "nombre_infected       774\n",
    "nombre_sain          2288\n",
    "nombre_exposed        467\n",
    "nombre_recovered    16471\n",
    "Name: 480, dtype: int64"
   ]
  },
  {
   "cell_type": "markdown",
   "id": "a3797aff",
   "metadata": {},
   "source": [
    "nombre_infected       780\n",
    "nombre_sain          2327\n",
    "nombre_exposed        455\n",
    "nombre_recovered    16438\n",
    "Name: 481, dtype: int64"
   ]
  },
  {
   "cell_type": "markdown",
   "id": "e8323493",
   "metadata": {},
   "source": [
    "nombre_infected       782\n",
    "nombre_sain          2354\n",
    "nombre_exposed        460\n",
    "nombre_recovered    16404\n",
    "Name: 482, dtype: int64"
   ]
  },
  {
   "cell_type": "markdown",
   "id": "51cc9044",
   "metadata": {},
   "source": [
    "nombre_infected       799\n",
    "nombre_sain          2338\n",
    "nombre_exposed        456\n",
    "nombre_recovered    16407\n",
    "Name: 483, dtype: int64"
   ]
  },
  {
   "cell_type": "markdown",
   "id": "d1e916a0",
   "metadata": {},
   "source": [
    "nombre_infected       790\n",
    "nombre_sain          2339\n",
    "nombre_exposed        493\n",
    "nombre_recovered    16378\n",
    "Name: 484, dtype: int64"
   ]
  },
  {
   "cell_type": "markdown",
   "id": "ebe187c2",
   "metadata": {},
   "source": [
    "nombre_infected       807\n",
    "nombre_sain          2352\n",
    "nombre_exposed        514\n",
    "nombre_recovered    16327\n",
    "Name: 485, dtype: int64"
   ]
  },
  {
   "cell_type": "markdown",
   "id": "4a42e336",
   "metadata": {},
   "source": [
    "nombre_infected       823\n",
    "nombre_sain          2338\n",
    "nombre_exposed        513\n",
    "nombre_recovered    16326\n",
    "Name: 486, dtype: int64"
   ]
  },
  {
   "cell_type": "markdown",
   "id": "2113319d",
   "metadata": {},
   "source": [
    "nombre_infected       848\n",
    "nombre_sain          2341\n",
    "nombre_exposed        498\n",
    "nombre_recovered    16313\n",
    "Name: 487, dtype: int64"
   ]
  },
  {
   "cell_type": "markdown",
   "id": "cfb29a2f",
   "metadata": {},
   "source": [
    "nombre_infected       841\n",
    "nombre_sain          2331\n",
    "nombre_exposed        537\n",
    "nombre_recovered    16291\n",
    "Name: 488, dtype: int64"
   ]
  },
  {
   "cell_type": "markdown",
   "id": "f4605113",
   "metadata": {},
   "source": [
    "nombre_infected       811\n",
    "nombre_sain          2321\n",
    "nombre_exposed        548\n",
    "nombre_recovered    16320\n",
    "Name: 489, dtype: int64"
   ]
  },
  {
   "cell_type": "markdown",
   "id": "fa732be4",
   "metadata": {},
   "source": [
    "nombre_infected       831\n",
    "nombre_sain          2313\n",
    "nombre_exposed        538\n",
    "nombre_recovered    16318\n",
    "Name: 490, dtype: int64"
   ]
  },
  {
   "cell_type": "markdown",
   "id": "0ffe0386",
   "metadata": {},
   "source": [
    "nombre_infected       825\n",
    "nombre_sain          2306\n",
    "nombre_exposed        530\n",
    "nombre_recovered    16339\n",
    "Name: 491, dtype: int64"
   ]
  },
  {
   "cell_type": "markdown",
   "id": "c000bd52",
   "metadata": {},
   "source": [
    "nombre_infected       828\n",
    "nombre_sain          2326\n",
    "nombre_exposed        512\n",
    "nombre_recovered    16334\n",
    "Name: 492, dtype: int64"
   ]
  },
  {
   "cell_type": "markdown",
   "id": "aaeccd46",
   "metadata": {},
   "source": [
    "nombre_infected       853\n",
    "nombre_sain          2291\n",
    "nombre_exposed        512\n",
    "nombre_recovered    16344\n",
    "Name: 493, dtype: int64"
   ]
  },
  {
   "cell_type": "markdown",
   "id": "882ab910",
   "metadata": {},
   "source": [
    "nombre_infected       836\n",
    "nombre_sain          2274\n",
    "nombre_exposed        533\n",
    "nombre_recovered    16357\n",
    "Name: 494, dtype: int64"
   ]
  },
  {
   "cell_type": "markdown",
   "id": "5e756e5d",
   "metadata": {},
   "source": [
    "nombre_infected       843\n",
    "nombre_sain          2248\n",
    "nombre_exposed        532\n",
    "nombre_recovered    16377\n",
    "Name: 495, dtype: int64"
   ]
  },
  {
   "cell_type": "markdown",
   "id": "91ae0c19",
   "metadata": {},
   "source": [
    "nombre_infected       852\n",
    "nombre_sain          2235\n",
    "nombre_exposed        547\n",
    "nombre_recovered    16366\n",
    "Name: 496, dtype: int64"
   ]
  },
  {
   "cell_type": "markdown",
   "id": "55b68992",
   "metadata": {},
   "source": [
    "nombre_infected       895\n",
    "nombre_sain          2223\n",
    "nombre_exposed        546\n",
    "nombre_recovered    16336\n",
    "Name: 497, dtype: int64"
   ]
  },
  {
   "cell_type": "markdown",
   "id": "bfa85973",
   "metadata": {},
   "source": [
    "nombre_infected       926\n",
    "nombre_sain          2182\n",
    "nombre_exposed        544\n",
    "nombre_recovered    16348\n",
    "Name: 498, dtype: int64"
   ]
  },
  {
   "cell_type": "markdown",
   "id": "b9d728aa",
   "metadata": {},
   "source": [
    "nombre_infected       942\n",
    "nombre_sain          2163\n",
    "nombre_exposed        558\n",
    "nombre_recovered    16337\n",
    "Name: 499, dtype: int64"
   ]
  },
  {
   "cell_type": "markdown",
   "id": "b8f2592e",
   "metadata": {},
   "source": [
    "nombre_infected       939\n",
    "nombre_sain          2145\n",
    "nombre_exposed        551\n",
    "nombre_recovered    16365\n",
    "Name: 500, dtype: int64"
   ]
  },
  {
   "cell_type": "markdown",
   "id": "4040a28b",
   "metadata": {},
   "source": [
    "nombre_infected       971\n",
    "nombre_sain          2149\n",
    "nombre_exposed        526\n",
    "nombre_recovered    16354\n",
    "Name: 501, dtype: int64"
   ]
  },
  {
   "cell_type": "markdown",
   "id": "71829b05",
   "metadata": {},
   "source": [
    "nombre_infected       969\n",
    "nombre_sain          2122\n",
    "nombre_exposed        555\n",
    "nombre_recovered    16354\n",
    "Name: 502, dtype: int64"
   ]
  },
  {
   "cell_type": "markdown",
   "id": "2da61044",
   "metadata": {},
   "source": [
    "nombre_infected       950\n",
    "nombre_sain          2104\n",
    "nombre_exposed        571\n",
    "nombre_recovered    16375\n",
    "Name: 503, dtype: int64"
   ]
  },
  {
   "cell_type": "markdown",
   "id": "bd67acab",
   "metadata": {},
   "source": [
    "nombre_infected       954\n",
    "nombre_sain          2107\n",
    "nombre_exposed        572\n",
    "nombre_recovered    16367\n",
    "Name: 504, dtype: int64"
   ]
  },
  {
   "cell_type": "markdown",
   "id": "e601d0a5",
   "metadata": {},
   "source": [
    "nombre_infected       986\n",
    "nombre_sain          2143\n",
    "nombre_exposed        548\n",
    "nombre_recovered    16323\n",
    "Name: 505, dtype: int64"
   ]
  },
  {
   "cell_type": "markdown",
   "id": "07826eb4",
   "metadata": {},
   "source": [
    "nombre_infected      1003\n",
    "nombre_sain          2149\n",
    "nombre_exposed        530\n",
    "nombre_recovered    16318\n",
    "Name: 506, dtype: int64"
   ]
  },
  {
   "cell_type": "markdown",
   "id": "478fd053",
   "metadata": {},
   "source": [
    "nombre_infected       988\n",
    "nombre_sain          2181\n",
    "nombre_exposed        546\n",
    "nombre_recovered    16285\n",
    "Name: 507, dtype: int64"
   ]
  },
  {
   "cell_type": "markdown",
   "id": "3f4b9f20",
   "metadata": {},
   "source": [
    "nombre_infected       975\n",
    "nombre_sain          2174\n",
    "nombre_exposed        568\n",
    "nombre_recovered    16283\n",
    "Name: 508, dtype: int64"
   ]
  },
  {
   "cell_type": "markdown",
   "id": "ed70d18d",
   "metadata": {},
   "source": [
    "nombre_infected       986\n",
    "nombre_sain          2179\n",
    "nombre_exposed        558\n",
    "nombre_recovered    16277\n",
    "Name: 509, dtype: int64"
   ]
  },
  {
   "cell_type": "markdown",
   "id": "2adf8006",
   "metadata": {},
   "source": [
    "nombre_infected       989\n",
    "nombre_sain          2202\n",
    "nombre_exposed        531\n",
    "nombre_recovered    16278\n",
    "Name: 510, dtype: int64"
   ]
  },
  {
   "cell_type": "markdown",
   "id": "7850480b",
   "metadata": {},
   "source": [
    "nombre_infected       984\n",
    "nombre_sain          2215\n",
    "nombre_exposed        533\n",
    "nombre_recovered    16268\n",
    "Name: 511, dtype: int64"
   ]
  },
  {
   "cell_type": "markdown",
   "id": "1fc3c5db",
   "metadata": {},
   "source": [
    "nombre_infected       973\n",
    "nombre_sain          2221\n",
    "nombre_exposed        549\n",
    "nombre_recovered    16257\n",
    "Name: 512, dtype: int64"
   ]
  },
  {
   "cell_type": "markdown",
   "id": "3e6bf234",
   "metadata": {},
   "source": [
    "nombre_infected       982\n",
    "nombre_sain          2210\n",
    "nombre_exposed        570\n",
    "nombre_recovered    16238\n",
    "Name: 513, dtype: int64"
   ]
  },
  {
   "cell_type": "markdown",
   "id": "b1dc8728",
   "metadata": {},
   "source": [
    "nombre_infected       996\n",
    "nombre_sain          2195\n",
    "nombre_exposed        592\n",
    "nombre_recovered    16217\n",
    "Name: 514, dtype: int64"
   ]
  },
  {
   "cell_type": "markdown",
   "id": "94d5850c",
   "metadata": {},
   "source": [
    "nombre_infected       994\n",
    "nombre_sain          2159\n",
    "nombre_exposed        609\n",
    "nombre_recovered    16238\n",
    "Name: 515, dtype: int64"
   ]
  },
  {
   "cell_type": "markdown",
   "id": "d7133434",
   "metadata": {},
   "source": [
    "nombre_infected      1011\n",
    "nombre_sain          2173\n",
    "nombre_exposed        595\n",
    "nombre_recovered    16221\n",
    "Name: 516, dtype: int64"
   ]
  },
  {
   "cell_type": "markdown",
   "id": "3b325819",
   "metadata": {},
   "source": [
    "nombre_infected      1028\n",
    "nombre_sain          2163\n",
    "nombre_exposed        612\n",
    "nombre_recovered    16197\n",
    "Name: 517, dtype: int64"
   ]
  },
  {
   "cell_type": "markdown",
   "id": "25912cf4",
   "metadata": {},
   "source": [
    "nombre_infected      1037\n",
    "nombre_sain          2204\n",
    "nombre_exposed        593\n",
    "nombre_recovered    16166\n",
    "Name: 518, dtype: int64"
   ]
  },
  {
   "cell_type": "markdown",
   "id": "fecf9a46",
   "metadata": {},
   "source": [
    "nombre_infected      1057\n",
    "nombre_sain          2190\n",
    "nombre_exposed        583\n",
    "nombre_recovered    16170\n",
    "Name: 519, dtype: int64"
   ]
  },
  {
   "cell_type": "markdown",
   "id": "768e4d2c",
   "metadata": {},
   "source": [
    "nombre_infected      1039\n",
    "nombre_sain          2202\n",
    "nombre_exposed        591\n",
    "nombre_recovered    16168\n",
    "Name: 520, dtype: int64"
   ]
  },
  {
   "cell_type": "markdown",
   "id": "464f4cbc",
   "metadata": {},
   "source": [
    "nombre_infected      1028\n",
    "nombre_sain          2193\n",
    "nombre_exposed        598\n",
    "nombre_recovered    16181\n",
    "Name: 521, dtype: int64"
   ]
  },
  {
   "cell_type": "markdown",
   "id": "55c6cd75",
   "metadata": {},
   "source": [
    "nombre_infected       997\n",
    "nombre_sain          2206\n",
    "nombre_exposed        608\n",
    "nombre_recovered    16189\n",
    "Name: 522, dtype: int64"
   ]
  },
  {
   "cell_type": "markdown",
   "id": "2178a962",
   "metadata": {},
   "source": [
    "nombre_infected       999\n",
    "nombre_sain          2202\n",
    "nombre_exposed        623\n",
    "nombre_recovered    16176\n",
    "Name: 523, dtype: int64"
   ]
  },
  {
   "cell_type": "markdown",
   "id": "5e0506d1",
   "metadata": {},
   "source": [
    "nombre_infected      1012\n",
    "nombre_sain          2183\n",
    "nombre_exposed        625\n",
    "nombre_recovered    16180\n",
    "Name: 524, dtype: int64"
   ]
  },
  {
   "cell_type": "markdown",
   "id": "e0d206b4",
   "metadata": {},
   "source": [
    "nombre_infected       986\n",
    "nombre_sain          2204\n",
    "nombre_exposed        632\n",
    "nombre_recovered    16178\n",
    "Name: 525, dtype: int64"
   ]
  },
  {
   "cell_type": "markdown",
   "id": "4f810a36",
   "metadata": {},
   "source": [
    "nombre_infected       984\n",
    "nombre_sain          2208\n",
    "nombre_exposed        615\n",
    "nombre_recovered    16193\n",
    "Name: 526, dtype: int64"
   ]
  },
  {
   "cell_type": "markdown",
   "id": "d111d4b9",
   "metadata": {},
   "source": [
    "nombre_infected       980\n",
    "nombre_sain          2194\n",
    "nombre_exposed        638\n",
    "nombre_recovered    16188\n",
    "Name: 527, dtype: int64"
   ]
  },
  {
   "cell_type": "markdown",
   "id": "956aa898",
   "metadata": {},
   "source": [
    "nombre_infected       990\n",
    "nombre_sain          2217\n",
    "nombre_exposed        609\n",
    "nombre_recovered    16184\n",
    "Name: 528, dtype: int64"
   ]
  },
  {
   "cell_type": "markdown",
   "id": "72a6df23",
   "metadata": {},
   "source": [
    "nombre_infected      1002\n",
    "nombre_sain          2208\n",
    "nombre_exposed        612\n",
    "nombre_recovered    16178\n",
    "Name: 529, dtype: int64"
   ]
  },
  {
   "cell_type": "markdown",
   "id": "37ea1904",
   "metadata": {},
   "source": [
    "nombre_infected       997\n",
    "nombre_sain          2190\n",
    "nombre_exposed        606\n",
    "nombre_recovered    16207\n",
    "Name: 530, dtype: int64"
   ]
  },
  {
   "cell_type": "markdown",
   "id": "39cd112e",
   "metadata": {},
   "source": [
    "nombre_infected       969\n",
    "nombre_sain          2190\n",
    "nombre_exposed        621\n",
    "nombre_recovered    16220\n",
    "Name: 531, dtype: int64"
   ]
  },
  {
   "cell_type": "markdown",
   "id": "45bd6284",
   "metadata": {},
   "source": [
    "nombre_infected      1003\n",
    "nombre_sain          2170\n",
    "nombre_exposed        594\n",
    "nombre_recovered    16233\n",
    "Name: 532, dtype: int64"
   ]
  },
  {
   "cell_type": "markdown",
   "id": "78f86104",
   "metadata": {},
   "source": [
    "nombre_infected      1010\n",
    "nombre_sain          2152\n",
    "nombre_exposed        607\n",
    "nombre_recovered    16231\n",
    "Name: 533, dtype: int64"
   ]
  },
  {
   "cell_type": "markdown",
   "id": "3084ca11",
   "metadata": {},
   "source": [
    "nombre_infected      1004\n",
    "nombre_sain          2147\n",
    "nombre_exposed        604\n",
    "nombre_recovered    16245\n",
    "Name: 534, dtype: int64"
   ]
  },
  {
   "cell_type": "markdown",
   "id": "abdac20d",
   "metadata": {},
   "source": [
    "nombre_infected       999\n",
    "nombre_sain          2115\n",
    "nombre_exposed        628\n",
    "nombre_recovered    16258\n",
    "Name: 535, dtype: int64"
   ]
  },
  {
   "cell_type": "markdown",
   "id": "6d7e84a8",
   "metadata": {},
   "source": [
    "nombre_infected       959\n",
    "nombre_sain          2098\n",
    "nombre_exposed        638\n",
    "nombre_recovered    16305\n",
    "Name: 536, dtype: int64"
   ]
  },
  {
   "cell_type": "markdown",
   "id": "fea9da3f",
   "metadata": {},
   "source": [
    "nombre_infected      1005\n",
    "nombre_sain          2091\n",
    "nombre_exposed        598\n",
    "nombre_recovered    16306\n",
    "Name: 537, dtype: int64"
   ]
  },
  {
   "cell_type": "markdown",
   "id": "7e9c5ca4",
   "metadata": {},
   "source": [
    "nombre_infected      1013\n",
    "nombre_sain          2115\n",
    "nombre_exposed        586\n",
    "nombre_recovered    16286\n",
    "Name: 538, dtype: int64"
   ]
  },
  {
   "cell_type": "markdown",
   "id": "622eb213",
   "metadata": {},
   "source": [
    "nombre_infected       998\n",
    "nombre_sain          2103\n",
    "nombre_exposed        582\n",
    "nombre_recovered    16317\n",
    "Name: 539, dtype: int64"
   ]
  },
  {
   "cell_type": "markdown",
   "id": "c2921070",
   "metadata": {},
   "source": [
    "nombre_infected      1016\n",
    "nombre_sain          2105\n",
    "nombre_exposed        565\n",
    "nombre_recovered    16314\n",
    "Name: 540, dtype: int64"
   ]
  },
  {
   "cell_type": "markdown",
   "id": "b7937b72",
   "metadata": {},
   "source": [
    "nombre_infected       993\n",
    "nombre_sain          2088\n",
    "nombre_exposed        576\n",
    "nombre_recovered    16343\n",
    "Name: 541, dtype: int64"
   ]
  },
  {
   "cell_type": "markdown",
   "id": "df4e51af",
   "metadata": {},
   "source": [
    "nombre_infected       995\n",
    "nombre_sain          2105\n",
    "nombre_exposed        547\n",
    "nombre_recovered    16353\n",
    "Name: 542, dtype: int64"
   ]
  },
  {
   "cell_type": "markdown",
   "id": "86c42980",
   "metadata": {},
   "source": [
    "nombre_infected       989\n",
    "nombre_sain          2082\n",
    "nombre_exposed        554\n",
    "nombre_recovered    16375\n",
    "Name: 543, dtype: int64"
   ]
  },
  {
   "cell_type": "markdown",
   "id": "5126ab31",
   "metadata": {},
   "source": [
    "nombre_infected       984\n",
    "nombre_sain          2079\n",
    "nombre_exposed        567\n",
    "nombre_recovered    16370\n",
    "Name: 544, dtype: int64"
   ]
  },
  {
   "cell_type": "markdown",
   "id": "9bb175cf",
   "metadata": {},
   "source": [
    "nombre_infected       976\n",
    "nombre_sain          2048\n",
    "nombre_exposed        576\n",
    "nombre_recovered    16400\n",
    "Name: 545, dtype: int64"
   ]
  },
  {
   "cell_type": "markdown",
   "id": "94642af7",
   "metadata": {},
   "source": [
    "nombre_infected       960\n",
    "nombre_sain          2062\n",
    "nombre_exposed        573\n",
    "nombre_recovered    16405\n",
    "Name: 546, dtype: int64"
   ]
  },
  {
   "cell_type": "markdown",
   "id": "5c4a5808",
   "metadata": {},
   "source": [
    "nombre_infected       960\n",
    "nombre_sain          2074\n",
    "nombre_exposed        562\n",
    "nombre_recovered    16404\n",
    "Name: 547, dtype: int64"
   ]
  },
  {
   "cell_type": "markdown",
   "id": "bb57eafe",
   "metadata": {},
   "source": [
    "nombre_infected       989\n",
    "nombre_sain          2078\n",
    "nombre_exposed        538\n",
    "nombre_recovered    16395\n",
    "Name: 548, dtype: int64"
   ]
  },
  {
   "cell_type": "markdown",
   "id": "1722c0f2",
   "metadata": {},
   "source": [
    "nombre_infected      1008\n",
    "nombre_sain          2080\n",
    "nombre_exposed        526\n",
    "nombre_recovered    16386\n",
    "Name: 549, dtype: int64"
   ]
  },
  {
   "cell_type": "markdown",
   "id": "39f4b951",
   "metadata": {},
   "source": [
    "nombre_infected       986\n",
    "nombre_sain          2085\n",
    "nombre_exposed        543\n",
    "nombre_recovered    16386\n",
    "Name: 550, dtype: int64"
   ]
  },
  {
   "cell_type": "markdown",
   "id": "528bd5b2",
   "metadata": {},
   "source": [
    "nombre_infected       962\n",
    "nombre_sain          2076\n",
    "nombre_exposed        578\n",
    "nombre_recovered    16384\n",
    "Name: 551, dtype: int64"
   ]
  },
  {
   "cell_type": "markdown",
   "id": "b4efd0fc",
   "metadata": {},
   "source": [
    "nombre_infected       933\n",
    "nombre_sain          2084\n",
    "nombre_exposed        575\n",
    "nombre_recovered    16408\n",
    "Name: 552, dtype: int64"
   ]
  },
  {
   "cell_type": "markdown",
   "id": "bc1bf921",
   "metadata": {},
   "source": [
    "nombre_infected       965\n",
    "nombre_sain          2074\n",
    "nombre_exposed        567\n",
    "nombre_recovered    16394\n",
    "Name: 553, dtype: int64"
   ]
  },
  {
   "cell_type": "markdown",
   "id": "87558112",
   "metadata": {},
   "source": [
    "nombre_infected       948\n",
    "nombre_sain          2089\n",
    "nombre_exposed        564\n",
    "nombre_recovered    16399\n",
    "Name: 554, dtype: int64"
   ]
  },
  {
   "cell_type": "markdown",
   "id": "64186053",
   "metadata": {},
   "source": [
    "nombre_infected       977\n",
    "nombre_sain          2082\n",
    "nombre_exposed        543\n",
    "nombre_recovered    16398\n",
    "Name: 555, dtype: int64"
   ]
  },
  {
   "cell_type": "markdown",
   "id": "ee2b3de8",
   "metadata": {},
   "source": [
    "nombre_infected       966\n",
    "nombre_sain          2076\n",
    "nombre_exposed        543\n",
    "nombre_recovered    16415\n",
    "Name: 556, dtype: int64"
   ]
  },
  {
   "cell_type": "markdown",
   "id": "31749e58",
   "metadata": {},
   "source": [
    "nombre_infected       943\n",
    "nombre_sain          2078\n",
    "nombre_exposed        539\n",
    "nombre_recovered    16440\n",
    "Name: 557, dtype: int64"
   ]
  },
  {
   "cell_type": "markdown",
   "id": "e0d38c1e",
   "metadata": {},
   "source": [
    "nombre_infected       937\n",
    "nombre_sain          2091\n",
    "nombre_exposed        539\n",
    "nombre_recovered    16433\n",
    "Name: 558, dtype: int64"
   ]
  },
  {
   "cell_type": "markdown",
   "id": "6d045c67",
   "metadata": {},
   "source": [
    "nombre_infected       971\n",
    "nombre_sain          2099\n",
    "nombre_exposed        518\n",
    "nombre_recovered    16412\n",
    "Name: 559, dtype: int64"
   ]
  },
  {
   "cell_type": "markdown",
   "id": "157f97a9",
   "metadata": {},
   "source": [
    "nombre_infected       966\n",
    "nombre_sain          2101\n",
    "nombre_exposed        522\n",
    "nombre_recovered    16411\n",
    "Name: 560, dtype: int64"
   ]
  },
  {
   "cell_type": "markdown",
   "id": "2e8d1647",
   "metadata": {},
   "source": [
    "nombre_infected       963\n",
    "nombre_sain          2109\n",
    "nombre_exposed        515\n",
    "nombre_recovered    16413\n",
    "Name: 561, dtype: int64"
   ]
  },
  {
   "cell_type": "markdown",
   "id": "a0cc44d7",
   "metadata": {},
   "source": [
    "nombre_infected       946\n",
    "nombre_sain          2106\n",
    "nombre_exposed        541\n",
    "nombre_recovered    16407\n",
    "Name: 562, dtype: int64"
   ]
  },
  {
   "cell_type": "markdown",
   "id": "9c1034c2",
   "metadata": {},
   "source": [
    "nombre_infected       943\n",
    "nombre_sain          2121\n",
    "nombre_exposed        533\n",
    "nombre_recovered    16403\n",
    "Name: 563, dtype: int64"
   ]
  },
  {
   "cell_type": "markdown",
   "id": "61e4e63a",
   "metadata": {},
   "source": [
    "nombre_infected       940\n",
    "nombre_sain          2118\n",
    "nombre_exposed        524\n",
    "nombre_recovered    16418\n",
    "Name: 564, dtype: int64"
   ]
  },
  {
   "cell_type": "markdown",
   "id": "f9ce5a13",
   "metadata": {},
   "source": [
    "nombre_infected       937\n",
    "nombre_sain          2143\n",
    "nombre_exposed        515\n",
    "nombre_recovered    16405\n",
    "Name: 565, dtype: int64"
   ]
  },
  {
   "cell_type": "markdown",
   "id": "c18ed04d",
   "metadata": {},
   "source": [
    "nombre_infected       921\n",
    "nombre_sain          2142\n",
    "nombre_exposed        527\n",
    "nombre_recovered    16410\n",
    "Name: 566, dtype: int64"
   ]
  },
  {
   "cell_type": "markdown",
   "id": "35556ed0",
   "metadata": {},
   "source": [
    "nombre_infected       925\n",
    "nombre_sain          2181\n",
    "nombre_exposed        496\n",
    "nombre_recovered    16398\n",
    "Name: 567, dtype: int64"
   ]
  },
  {
   "cell_type": "markdown",
   "id": "3ab7e5f1",
   "metadata": {},
   "source": [
    "nombre_infected       912\n",
    "nombre_sain          2189\n",
    "nombre_exposed        507\n",
    "nombre_recovered    16392\n",
    "Name: 568, dtype: int64"
   ]
  },
  {
   "cell_type": "markdown",
   "id": "7e992c68",
   "metadata": {},
   "source": [
    "nombre_infected       901\n",
    "nombre_sain          2213\n",
    "nombre_exposed        511\n",
    "nombre_recovered    16375\n",
    "Name: 569, dtype: int64"
   ]
  },
  {
   "cell_type": "markdown",
   "id": "b9399f05",
   "metadata": {},
   "source": [
    "nombre_infected       868\n",
    "nombre_sain          2231\n",
    "nombre_exposed        528\n",
    "nombre_recovered    16373\n",
    "Name: 570, dtype: int64"
   ]
  },
  {
   "cell_type": "markdown",
   "id": "c0449efb",
   "metadata": {},
   "source": [
    "nombre_infected       864\n",
    "nombre_sain          2261\n",
    "nombre_exposed        544\n",
    "nombre_recovered    16331\n",
    "Name: 571, dtype: int64"
   ]
  },
  {
   "cell_type": "markdown",
   "id": "80390087",
   "metadata": {},
   "source": [
    "nombre_infected       905\n",
    "nombre_sain          2272\n",
    "nombre_exposed        534\n",
    "nombre_recovered    16289\n",
    "Name: 572, dtype: int64"
   ]
  },
  {
   "cell_type": "markdown",
   "id": "2d2556c4",
   "metadata": {},
   "source": [
    "nombre_infected       900\n",
    "nombre_sain          2268\n",
    "nombre_exposed        558\n",
    "nombre_recovered    16274\n",
    "Name: 573, dtype: int64"
   ]
  },
  {
   "cell_type": "markdown",
   "id": "f37475c2",
   "metadata": {},
   "source": [
    "nombre_infected       896\n",
    "nombre_sain          2274\n",
    "nombre_exposed        553\n",
    "nombre_recovered    16277\n",
    "Name: 574, dtype: int64"
   ]
  },
  {
   "cell_type": "markdown",
   "id": "10425603",
   "metadata": {},
   "source": [
    "nombre_infected       922\n",
    "nombre_sain          2288\n",
    "nombre_exposed        531\n",
    "nombre_recovered    16259\n",
    "Name: 575, dtype: int64"
   ]
  },
  {
   "cell_type": "markdown",
   "id": "f91d7a6c",
   "metadata": {},
   "source": [
    "nombre_infected       918\n",
    "nombre_sain          2316\n",
    "nombre_exposed        527\n",
    "nombre_recovered    16239\n",
    "Name: 576, dtype: int64"
   ]
  },
  {
   "cell_type": "markdown",
   "id": "dbf5d548",
   "metadata": {},
   "source": [
    "nombre_infected       903\n",
    "nombre_sain          2354\n",
    "nombre_exposed        540\n",
    "nombre_recovered    16203\n",
    "Name: 577, dtype: int64"
   ]
  },
  {
   "cell_type": "markdown",
   "id": "362be7ff",
   "metadata": {},
   "source": [
    "nombre_infected       908\n",
    "nombre_sain          2358\n",
    "nombre_exposed        518\n",
    "nombre_recovered    16216\n",
    "Name: 578, dtype: int64"
   ]
  },
  {
   "cell_type": "markdown",
   "id": "dec0c1e3",
   "metadata": {},
   "source": [
    "nombre_infected       909\n",
    "nombre_sain          2368\n",
    "nombre_exposed        537\n",
    "nombre_recovered    16186\n",
    "Name: 579, dtype: int64"
   ]
  },
  {
   "cell_type": "markdown",
   "id": "535a53f4",
   "metadata": {},
   "source": [
    "nombre_infected       911\n",
    "nombre_sain          2379\n",
    "nombre_exposed        553\n",
    "nombre_recovered    16157\n",
    "Name: 580, dtype: int64"
   ]
  },
  {
   "cell_type": "markdown",
   "id": "403d9b94",
   "metadata": {},
   "source": [
    "nombre_infected       908\n",
    "nombre_sain          2401\n",
    "nombre_exposed        568\n",
    "nombre_recovered    16123\n",
    "Name: 581, dtype: int64"
   ]
  },
  {
   "cell_type": "markdown",
   "id": "14164601",
   "metadata": {},
   "source": [
    "nombre_infected       913\n",
    "nombre_sain          2381\n",
    "nombre_exposed        588\n",
    "nombre_recovered    16118\n",
    "Name: 582, dtype: int64"
   ]
  },
  {
   "cell_type": "markdown",
   "id": "ead2c07d",
   "metadata": {},
   "source": [
    "nombre_infected       943\n",
    "nombre_sain          2374\n",
    "nombre_exposed        573\n",
    "nombre_recovered    16110\n",
    "Name: 583, dtype: int64"
   ]
  },
  {
   "cell_type": "markdown",
   "id": "fcb229ff",
   "metadata": {},
   "source": [
    "nombre_infected       955\n",
    "nombre_sain          2372\n",
    "nombre_exposed        585\n",
    "nombre_recovered    16088\n",
    "Name: 584, dtype: int64"
   ]
  },
  {
   "cell_type": "markdown",
   "id": "cc248b41",
   "metadata": {},
   "source": [
    "nombre_infected       956\n",
    "nombre_sain          2379\n",
    "nombre_exposed        575\n",
    "nombre_recovered    16090\n",
    "Name: 585, dtype: int64"
   ]
  },
  {
   "cell_type": "markdown",
   "id": "bdc5529f",
   "metadata": {},
   "source": [
    "nombre_infected       975\n",
    "nombre_sain          2396\n",
    "nombre_exposed        560\n",
    "nombre_recovered    16069\n",
    "Name: 586, dtype: int64"
   ]
  },
  {
   "cell_type": "markdown",
   "id": "20824151",
   "metadata": {},
   "source": [
    "nombre_infected       963\n",
    "nombre_sain          2375\n",
    "nombre_exposed        585\n",
    "nombre_recovered    16077\n",
    "Name: 587, dtype: int64"
   ]
  },
  {
   "cell_type": "markdown",
   "id": "6748933a",
   "metadata": {},
   "source": [
    "nombre_infected       971\n",
    "nombre_sain          2365\n",
    "nombre_exposed        577\n",
    "nombre_recovered    16087\n",
    "Name: 588, dtype: int64"
   ]
  },
  {
   "cell_type": "markdown",
   "id": "c6ce745e",
   "metadata": {},
   "source": [
    "nombre_infected       989\n",
    "nombre_sain          2357\n",
    "nombre_exposed        580\n",
    "nombre_recovered    16074\n",
    "Name: 589, dtype: int64"
   ]
  },
  {
   "cell_type": "markdown",
   "id": "d1b8300d",
   "metadata": {},
   "source": [
    "nombre_infected      1003\n",
    "nombre_sain          2330\n",
    "nombre_exposed        569\n",
    "nombre_recovered    16098\n",
    "Name: 590, dtype: int64"
   ]
  },
  {
   "cell_type": "markdown",
   "id": "2b280742",
   "metadata": {},
   "source": [
    "nombre_infected      1017\n",
    "nombre_sain          2327\n",
    "nombre_exposed        573\n",
    "nombre_recovered    16083\n",
    "Name: 591, dtype: int64"
   ]
  },
  {
   "cell_type": "markdown",
   "id": "7a972848",
   "metadata": {},
   "source": [
    "nombre_infected      1019\n",
    "nombre_sain          2311\n",
    "nombre_exposed        604\n",
    "nombre_recovered    16066\n",
    "Name: 592, dtype: int64"
   ]
  },
  {
   "cell_type": "markdown",
   "id": "67d8ab6d",
   "metadata": {},
   "source": [
    "nombre_infected      1017\n",
    "nombre_sain          2278\n",
    "nombre_exposed        628\n",
    "nombre_recovered    16077\n",
    "Name: 593, dtype: int64"
   ]
  },
  {
   "cell_type": "markdown",
   "id": "dcae38e2",
   "metadata": {},
   "source": [
    "nombre_infected      1032\n",
    "nombre_sain          2269\n",
    "nombre_exposed        623\n",
    "nombre_recovered    16076\n",
    "Name: 594, dtype: int64"
   ]
  },
  {
   "cell_type": "markdown",
   "id": "09535420",
   "metadata": {},
   "source": [
    "nombre_infected      1055\n",
    "nombre_sain          2252\n",
    "nombre_exposed        602\n",
    "nombre_recovered    16091\n",
    "Name: 595, dtype: int64"
   ]
  },
  {
   "cell_type": "markdown",
   "id": "7c2b70fd",
   "metadata": {},
   "source": [
    "nombre_infected      1054\n",
    "nombre_sain          2220\n",
    "nombre_exposed        607\n",
    "nombre_recovered    16119\n",
    "Name: 596, dtype: int64"
   ]
  },
  {
   "cell_type": "markdown",
   "id": "831edf3c",
   "metadata": {},
   "source": [
    "nombre_infected      1081\n",
    "nombre_sain          2205\n",
    "nombre_exposed        577\n",
    "nombre_recovered    16137\n",
    "Name: 597, dtype: int64"
   ]
  },
  {
   "cell_type": "markdown",
   "id": "d814e22c",
   "metadata": {},
   "source": [
    "nombre_infected      1084\n",
    "nombre_sain          2179\n",
    "nombre_exposed        581\n",
    "nombre_recovered    16156\n",
    "Name: 598, dtype: int64"
   ]
  },
  {
   "cell_type": "markdown",
   "id": "24b23802",
   "metadata": {},
   "source": [
    "nombre_infected      1071\n",
    "nombre_sain          2165\n",
    "nombre_exposed        578\n",
    "nombre_recovered    16186\n",
    "Name: 599, dtype: int64"
   ]
  },
  {
   "cell_type": "markdown",
   "id": "b1a0ac8f",
   "metadata": {},
   "source": [
    "nombre_infected      1063\n",
    "nombre_sain          2134\n",
    "nombre_exposed        596\n",
    "nombre_recovered    16207\n",
    "Name: 600, dtype: int64"
   ]
  },
  {
   "cell_type": "markdown",
   "id": "6e48b1a7",
   "metadata": {},
   "source": [
    "nombre_infected      1050\n",
    "nombre_sain          2129\n",
    "nombre_exposed        583\n",
    "nombre_recovered    16238\n",
    "Name: 601, dtype: int64"
   ]
  },
  {
   "cell_type": "markdown",
   "id": "666b5c9e",
   "metadata": {},
   "source": [
    "nombre_infected      1062\n",
    "nombre_sain          2117\n",
    "nombre_exposed        555\n",
    "nombre_recovered    16266\n",
    "Name: 602, dtype: int64"
   ]
  },
  {
   "cell_type": "markdown",
   "id": "ca2a6759",
   "metadata": {},
   "source": [
    "nombre_infected      1032\n",
    "nombre_sain          2095\n",
    "nombre_exposed        569\n",
    "nombre_recovered    16304\n",
    "Name: 603, dtype: int64"
   ]
  },
  {
   "cell_type": "markdown",
   "id": "5e1015ae",
   "metadata": {},
   "source": [
    "nombre_infected      1012\n",
    "nombre_sain          2062\n",
    "nombre_exposed        584\n",
    "nombre_recovered    16342\n",
    "Name: 604, dtype: int64"
   ]
  },
  {
   "cell_type": "markdown",
   "id": "1a062a7b",
   "metadata": {},
   "source": [
    "nombre_infected      1021\n",
    "nombre_sain          2046\n",
    "nombre_exposed        575\n",
    "nombre_recovered    16358\n",
    "Name: 605, dtype: int64"
   ]
  },
  {
   "cell_type": "markdown",
   "id": "5188bf2d",
   "metadata": {},
   "source": [
    "nombre_infected      1006\n",
    "nombre_sain          2037\n",
    "nombre_exposed        561\n",
    "nombre_recovered    16396\n",
    "Name: 606, dtype: int64"
   ]
  },
  {
   "cell_type": "markdown",
   "id": "72be577a",
   "metadata": {},
   "source": [
    "nombre_infected       991\n",
    "nombre_sain          2030\n",
    "nombre_exposed        555\n",
    "nombre_recovered    16424\n",
    "Name: 607, dtype: int64"
   ]
  },
  {
   "cell_type": "markdown",
   "id": "30d6d96f",
   "metadata": {},
   "source": [
    "nombre_infected      1005\n",
    "nombre_sain          2025\n",
    "nombre_exposed        524\n",
    "nombre_recovered    16446\n",
    "Name: 608, dtype: int64"
   ]
  },
  {
   "cell_type": "markdown",
   "id": "85364a71",
   "metadata": {},
   "source": [
    "nombre_infected      1001\n",
    "nombre_sain          2003\n",
    "nombre_exposed        547\n",
    "nombre_recovered    16449\n",
    "Name: 609, dtype: int64"
   ]
  },
  {
   "cell_type": "markdown",
   "id": "09907494",
   "metadata": {},
   "source": [
    "nombre_infected      1011\n",
    "nombre_sain          2004\n",
    "nombre_exposed        544\n",
    "nombre_recovered    16441\n",
    "Name: 610, dtype: int64"
   ]
  },
  {
   "cell_type": "markdown",
   "id": "f6526dad",
   "metadata": {},
   "source": [
    "nombre_infected       997\n",
    "nombre_sain          2000\n",
    "nombre_exposed        538\n",
    "nombre_recovered    16465\n",
    "Name: 611, dtype: int64"
   ]
  },
  {
   "cell_type": "markdown",
   "id": "fc994edd",
   "metadata": {},
   "source": [
    "nombre_infected      1017\n",
    "nombre_sain          2019\n",
    "nombre_exposed        531\n",
    "nombre_recovered    16433\n",
    "Name: 612, dtype: int64"
   ]
  },
  {
   "cell_type": "markdown",
   "id": "3d0fe916",
   "metadata": {},
   "source": [
    "nombre_infected      1030\n",
    "nombre_sain          2038\n",
    "nombre_exposed        516\n",
    "nombre_recovered    16416\n",
    "Name: 613, dtype: int64"
   ]
  },
  {
   "cell_type": "markdown",
   "id": "ef116a49",
   "metadata": {},
   "source": [
    "nombre_infected      1002\n",
    "nombre_sain          2039\n",
    "nombre_exposed        527\n",
    "nombre_recovered    16432\n",
    "Name: 614, dtype: int64"
   ]
  },
  {
   "cell_type": "markdown",
   "id": "2e239e17",
   "metadata": {},
   "source": [
    "nombre_infected       991\n",
    "nombre_sain          2045\n",
    "nombre_exposed        511\n",
    "nombre_recovered    16453\n",
    "Name: 615, dtype: int64"
   ]
  },
  {
   "cell_type": "markdown",
   "id": "259073fd",
   "metadata": {},
   "source": [
    "nombre_infected       984\n",
    "nombre_sain          2053\n",
    "nombre_exposed        519\n",
    "nombre_recovered    16444\n",
    "Name: 616, dtype: int64"
   ]
  },
  {
   "cell_type": "markdown",
   "id": "67f9fe85",
   "metadata": {},
   "source": [
    "nombre_infected       972\n",
    "nombre_sain          2059\n",
    "nombre_exposed        547\n",
    "nombre_recovered    16422\n",
    "Name: 617, dtype: int64"
   ]
  },
  {
   "cell_type": "markdown",
   "id": "d415c31a",
   "metadata": {},
   "source": [
    "nombre_infected       982\n",
    "nombre_sain          2074\n",
    "nombre_exposed        530\n",
    "nombre_recovered    16414\n",
    "Name: 618, dtype: int64"
   ]
  },
  {
   "cell_type": "markdown",
   "id": "1fe447de",
   "metadata": {},
   "source": [
    "nombre_infected       975\n",
    "nombre_sain          2104\n",
    "nombre_exposed        529\n",
    "nombre_recovered    16392\n",
    "Name: 619, dtype: int64"
   ]
  },
  {
   "cell_type": "markdown",
   "id": "9f6369b6",
   "metadata": {},
   "source": [
    "nombre_infected       981\n",
    "nombre_sain          2113\n",
    "nombre_exposed        538\n",
    "nombre_recovered    16368\n",
    "Name: 620, dtype: int64"
   ]
  },
  {
   "cell_type": "markdown",
   "id": "2f440c11",
   "metadata": {},
   "source": [
    "nombre_infected       975\n",
    "nombre_sain          2111\n",
    "nombre_exposed        542\n",
    "nombre_recovered    16372\n",
    "Name: 621, dtype: int64"
   ]
  },
  {
   "cell_type": "markdown",
   "id": "3725d396",
   "metadata": {},
   "source": [
    "nombre_infected       981\n",
    "nombre_sain          2131\n",
    "nombre_exposed        546\n",
    "nombre_recovered    16342\n",
    "Name: 622, dtype: int64"
   ]
  },
  {
   "cell_type": "markdown",
   "id": "bed93213",
   "metadata": {},
   "source": [
    "nombre_infected      1009\n",
    "nombre_sain          2163\n",
    "nombre_exposed        522\n",
    "nombre_recovered    16306\n",
    "Name: 623, dtype: int64"
   ]
  },
  {
   "cell_type": "markdown",
   "id": "36b6245a",
   "metadata": {},
   "source": [
    "nombre_infected       989\n",
    "nombre_sain          2176\n",
    "nombre_exposed        528\n",
    "nombre_recovered    16307\n",
    "Name: 624, dtype: int64"
   ]
  },
  {
   "cell_type": "markdown",
   "id": "4bd156d3",
   "metadata": {},
   "source": [
    "nombre_infected       985\n",
    "nombre_sain          2167\n",
    "nombre_exposed        542\n",
    "nombre_recovered    16306\n",
    "Name: 625, dtype: int64"
   ]
  },
  {
   "cell_type": "markdown",
   "id": "31356992",
   "metadata": {},
   "source": [
    "nombre_infected       994\n",
    "nombre_sain          2192\n",
    "nombre_exposed        539\n",
    "nombre_recovered    16275\n",
    "Name: 626, dtype: int64"
   ]
  },
  {
   "cell_type": "markdown",
   "id": "ca3855c9",
   "metadata": {},
   "source": [
    "nombre_infected      1005\n",
    "nombre_sain          2187\n",
    "nombre_exposed        534\n",
    "nombre_recovered    16274\n",
    "Name: 627, dtype: int64"
   ]
  },
  {
   "cell_type": "markdown",
   "id": "334756ac",
   "metadata": {},
   "source": [
    "nombre_infected       988\n",
    "nombre_sain          2176\n",
    "nombre_exposed        550\n",
    "nombre_recovered    16286\n",
    "Name: 628, dtype: int64"
   ]
  },
  {
   "cell_type": "markdown",
   "id": "e94a7080",
   "metadata": {},
   "source": [
    "nombre_infected       989\n",
    "nombre_sain          2170\n",
    "nombre_exposed        560\n",
    "nombre_recovered    16281\n",
    "Name: 629, dtype: int64"
   ]
  },
  {
   "cell_type": "markdown",
   "id": "729072ce",
   "metadata": {},
   "source": [
    "nombre_infected       997\n",
    "nombre_sain          2174\n",
    "nombre_exposed        556\n",
    "nombre_recovered    16273\n",
    "Name: 630, dtype: int64"
   ]
  },
  {
   "cell_type": "markdown",
   "id": "e4f8fd70",
   "metadata": {},
   "source": [
    "nombre_infected      1029\n",
    "nombre_sain          2160\n",
    "nombre_exposed        553\n",
    "nombre_recovered    16258\n",
    "Name: 631, dtype: int64"
   ]
  },
  {
   "cell_type": "markdown",
   "id": "0a1d7e5b",
   "metadata": {},
   "source": [
    "nombre_infected      1028\n",
    "nombre_sain          2129\n",
    "nombre_exposed        563\n",
    "nombre_recovered    16280\n",
    "Name: 632, dtype: int64"
   ]
  },
  {
   "cell_type": "markdown",
   "id": "eda20a50",
   "metadata": {},
   "source": [
    "nombre_infected      1049\n",
    "nombre_sain          2100\n",
    "nombre_exposed        572\n",
    "nombre_recovered    16279\n",
    "Name: 633, dtype: int64"
   ]
  },
  {
   "cell_type": "markdown",
   "id": "3d7645ed",
   "metadata": {},
   "source": [
    "nombre_infected      1054\n",
    "nombre_sain          2094\n",
    "nombre_exposed        575\n",
    "nombre_recovered    16277\n",
    "Name: 634, dtype: int64"
   ]
  },
  {
   "cell_type": "markdown",
   "id": "ce781796",
   "metadata": {},
   "source": [
    "nombre_infected      1046\n",
    "nombre_sain          2061\n",
    "nombre_exposed        570\n",
    "nombre_recovered    16323\n",
    "Name: 635, dtype: int64"
   ]
  },
  {
   "cell_type": "markdown",
   "id": "937fcb3d",
   "metadata": {},
   "source": [
    "nombre_infected      1061\n",
    "nombre_sain          2049\n",
    "nombre_exposed        565\n",
    "nombre_recovered    16325\n",
    "Name: 636, dtype: int64"
   ]
  },
  {
   "cell_type": "markdown",
   "id": "ff4ca144",
   "metadata": {},
   "source": [
    "nombre_infected      1068\n",
    "nombre_sain          2041\n",
    "nombre_exposed        554\n",
    "nombre_recovered    16337\n",
    "Name: 637, dtype: int64"
   ]
  },
  {
   "cell_type": "markdown",
   "id": "586d38b7",
   "metadata": {},
   "source": [
    "nombre_infected      1055\n",
    "nombre_sain          2062\n",
    "nombre_exposed        566\n",
    "nombre_recovered    16317\n",
    "Name: 638, dtype: int64"
   ]
  },
  {
   "cell_type": "markdown",
   "id": "c547f069",
   "metadata": {},
   "source": [
    "nombre_infected      1055\n",
    "nombre_sain          2042\n",
    "nombre_exposed        577\n",
    "nombre_recovered    16326\n",
    "Name: 639, dtype: int64"
   ]
  },
  {
   "cell_type": "markdown",
   "id": "4a8dd229",
   "metadata": {},
   "source": [
    "nombre_infected      1054\n",
    "nombre_sain          2037\n",
    "nombre_exposed        591\n",
    "nombre_recovered    16318\n",
    "Name: 640, dtype: int64"
   ]
  },
  {
   "cell_type": "markdown",
   "id": "505569e0",
   "metadata": {},
   "source": [
    "nombre_infected      1014\n",
    "nombre_sain          2018\n",
    "nombre_exposed        619\n",
    "nombre_recovered    16349\n",
    "Name: 641, dtype: int64"
   ]
  },
  {
   "cell_type": "markdown",
   "id": "8709956f",
   "metadata": {},
   "source": [
    "nombre_infected      1023\n",
    "nombre_sain          2008\n",
    "nombre_exposed        614\n",
    "nombre_recovered    16355\n",
    "Name: 642, dtype: int64"
   ]
  },
  {
   "cell_type": "markdown",
   "id": "24db36ca",
   "metadata": {},
   "source": [
    "nombre_infected      1036\n",
    "nombre_sain          1998\n",
    "nombre_exposed        625\n",
    "nombre_recovered    16341\n",
    "Name: 643, dtype: int64"
   ]
  },
  {
   "cell_type": "markdown",
   "id": "6751aa08",
   "metadata": {},
   "source": [
    "nombre_infected      1013\n",
    "nombre_sain          1957\n",
    "nombre_exposed        644\n",
    "nombre_recovered    16386\n",
    "Name: 644, dtype: int64"
   ]
  },
  {
   "cell_type": "markdown",
   "id": "44f3bc03",
   "metadata": {},
   "source": [
    "nombre_infected      1035\n",
    "nombre_sain          1942\n",
    "nombre_exposed        640\n",
    "nombre_recovered    16383\n",
    "Name: 645, dtype: int64"
   ]
  },
  {
   "cell_type": "markdown",
   "id": "1f5c34b9",
   "metadata": {},
   "source": [
    "nombre_infected      1077\n",
    "nombre_sain          1957\n",
    "nombre_exposed        585\n",
    "nombre_recovered    16381\n",
    "Name: 646, dtype: int64"
   ]
  },
  {
   "cell_type": "markdown",
   "id": "c0c788ed",
   "metadata": {},
   "source": [
    "nombre_infected      1049\n",
    "nombre_sain          1966\n",
    "nombre_exposed        582\n",
    "nombre_recovered    16403\n",
    "Name: 647, dtype: int64"
   ]
  },
  {
   "cell_type": "markdown",
   "id": "b1f68120",
   "metadata": {},
   "source": [
    "nombre_infected      1042\n",
    "nombre_sain          1949\n",
    "nombre_exposed        576\n",
    "nombre_recovered    16433\n",
    "Name: 648, dtype: int64"
   ]
  },
  {
   "cell_type": "markdown",
   "id": "9613c836",
   "metadata": {},
   "source": [
    "nombre_infected      1040\n",
    "nombre_sain          1966\n",
    "nombre_exposed        549\n",
    "nombre_recovered    16445\n",
    "Name: 649, dtype: int64"
   ]
  },
  {
   "cell_type": "markdown",
   "id": "52434def",
   "metadata": {},
   "source": [
    "nombre_infected      1036\n",
    "nombre_sain          1952\n",
    "nombre_exposed        561\n",
    "nombre_recovered    16451\n",
    "Name: 650, dtype: int64"
   ]
  },
  {
   "cell_type": "markdown",
   "id": "b1dd3ab3",
   "metadata": {},
   "source": [
    "nombre_infected      1013\n",
    "nombre_sain          1955\n",
    "nombre_exposed        557\n",
    "nombre_recovered    16475\n",
    "Name: 651, dtype: int64"
   ]
  },
  {
   "cell_type": "markdown",
   "id": "dbf13806",
   "metadata": {},
   "source": [
    "nombre_infected       994\n",
    "nombre_sain          1975\n",
    "nombre_exposed        547\n",
    "nombre_recovered    16484\n",
    "Name: 652, dtype: int64"
   ]
  },
  {
   "cell_type": "markdown",
   "id": "ea670065",
   "metadata": {},
   "source": [
    "nombre_infected       993\n",
    "nombre_sain          1964\n",
    "nombre_exposed        558\n",
    "nombre_recovered    16485\n",
    "Name: 653, dtype: int64"
   ]
  },
  {
   "cell_type": "markdown",
   "id": "45a32a14",
   "metadata": {},
   "source": [
    "nombre_infected       997\n",
    "nombre_sain          1969\n",
    "nombre_exposed        527\n",
    "nombre_recovered    16507\n",
    "Name: 654, dtype: int64"
   ]
  },
  {
   "cell_type": "markdown",
   "id": "b4cc6245",
   "metadata": {},
   "source": [
    "nombre_infected      1011\n",
    "nombre_sain          1959\n",
    "nombre_exposed        520\n",
    "nombre_recovered    16510\n",
    "Name: 655, dtype: int64"
   ]
  },
  {
   "cell_type": "markdown",
   "id": "f4dde3a6",
   "metadata": {},
   "source": [
    "nombre_infected       962\n",
    "nombre_sain          1946\n",
    "nombre_exposed        557\n",
    "nombre_recovered    16535\n",
    "Name: 656, dtype: int64"
   ]
  },
  {
   "cell_type": "markdown",
   "id": "ac2ac3e0",
   "metadata": {},
   "source": [
    "nombre_infected       956\n",
    "nombre_sain          1963\n",
    "nombre_exposed        566\n",
    "nombre_recovered    16515\n",
    "Name: 657, dtype: int64"
   ]
  },
  {
   "cell_type": "markdown",
   "id": "94e907f6",
   "metadata": {},
   "source": [
    "nombre_infected       946\n",
    "nombre_sain          1940\n",
    "nombre_exposed        577\n",
    "nombre_recovered    16537\n",
    "Name: 658, dtype: int64"
   ]
  },
  {
   "cell_type": "markdown",
   "id": "4cbab962",
   "metadata": {},
   "source": [
    "nombre_infected       945\n",
    "nombre_sain          1910\n",
    "nombre_exposed        569\n",
    "nombre_recovered    16576\n",
    "Name: 659, dtype: int64"
   ]
  },
  {
   "cell_type": "markdown",
   "id": "5d398f54",
   "metadata": {},
   "source": [
    "nombre_infected       962\n",
    "nombre_sain          1922\n",
    "nombre_exposed        517\n",
    "nombre_recovered    16599\n",
    "Name: 660, dtype: int64"
   ]
  },
  {
   "cell_type": "markdown",
   "id": "5fdf5bde",
   "metadata": {},
   "source": [
    "nombre_infected       936\n",
    "nombre_sain          1908\n",
    "nombre_exposed        513\n",
    "nombre_recovered    16643\n",
    "Name: 661, dtype: int64"
   ]
  },
  {
   "cell_type": "markdown",
   "id": "72cfb5b1",
   "metadata": {},
   "source": [
    "nombre_infected       945\n",
    "nombre_sain          1944\n",
    "nombre_exposed        467\n",
    "nombre_recovered    16644\n",
    "Name: 662, dtype: int64"
   ]
  },
  {
   "cell_type": "markdown",
   "id": "93e61a73",
   "metadata": {},
   "source": [
    "nombre_infected       938\n",
    "nombre_sain          1929\n",
    "nombre_exposed        489\n",
    "nombre_recovered    16644\n",
    "Name: 663, dtype: int64"
   ]
  },
  {
   "cell_type": "markdown",
   "id": "5a336bba",
   "metadata": {},
   "source": [
    "nombre_infected       907\n",
    "nombre_sain          1929\n",
    "nombre_exposed        490\n",
    "nombre_recovered    16674\n",
    "Name: 664, dtype: int64"
   ]
  },
  {
   "cell_type": "markdown",
   "id": "084586ba",
   "metadata": {},
   "source": [
    "nombre_infected       897\n",
    "nombre_sain          1969\n",
    "nombre_exposed        487\n",
    "nombre_recovered    16647\n",
    "Name: 665, dtype: int64"
   ]
  },
  {
   "cell_type": "markdown",
   "id": "fffb98c1",
   "metadata": {},
   "source": [
    "nombre_infected       878\n",
    "nombre_sain          1980\n",
    "nombre_exposed        476\n",
    "nombre_recovered    16666\n",
    "Name: 666, dtype: int64"
   ]
  },
  {
   "cell_type": "markdown",
   "id": "efcd1987",
   "metadata": {},
   "source": [
    "nombre_infected       877\n",
    "nombre_sain          2011\n",
    "nombre_exposed        466\n",
    "nombre_recovered    16646\n",
    "Name: 667, dtype: int64"
   ]
  },
  {
   "cell_type": "markdown",
   "id": "731f872c",
   "metadata": {},
   "source": [
    "nombre_infected       895\n",
    "nombre_sain          2026\n",
    "nombre_exposed        461\n",
    "nombre_recovered    16618\n",
    "Name: 668, dtype: int64"
   ]
  },
  {
   "cell_type": "markdown",
   "id": "8212fb67",
   "metadata": {},
   "source": [
    "nombre_infected       875\n",
    "nombre_sain          2054\n",
    "nombre_exposed        469\n",
    "nombre_recovered    16602\n",
    "Name: 669, dtype: int64"
   ]
  },
  {
   "cell_type": "markdown",
   "id": "ffc7ebfe",
   "metadata": {},
   "source": [
    "nombre_infected       863\n",
    "nombre_sain          2095\n",
    "nombre_exposed        456\n",
    "nombre_recovered    16586\n",
    "Name: 670, dtype: int64"
   ]
  },
  {
   "cell_type": "markdown",
   "id": "a07d54d1",
   "metadata": {},
   "source": [
    "nombre_infected       881\n",
    "nombre_sain          2133\n",
    "nombre_exposed        432\n",
    "nombre_recovered    16554\n",
    "Name: 671, dtype: int64"
   ]
  },
  {
   "cell_type": "markdown",
   "id": "85a1d0cc",
   "metadata": {},
   "source": [
    "nombre_infected       873\n",
    "nombre_sain          2126\n",
    "nombre_exposed        427\n",
    "nombre_recovered    16574\n",
    "Name: 672, dtype: int64"
   ]
  },
  {
   "cell_type": "markdown",
   "id": "49b28a87",
   "metadata": {},
   "source": [
    "nombre_infected       867\n",
    "nombre_sain          2146\n",
    "nombre_exposed        436\n",
    "nombre_recovered    16551\n",
    "Name: 673, dtype: int64"
   ]
  },
  {
   "cell_type": "markdown",
   "id": "d6fb5ee3",
   "metadata": {},
   "source": [
    "nombre_infected       848\n",
    "nombre_sain          2169\n",
    "nombre_exposed        448\n",
    "nombre_recovered    16535\n",
    "Name: 674, dtype: int64"
   ]
  },
  {
   "cell_type": "markdown",
   "id": "8230870c",
   "metadata": {},
   "source": [
    "nombre_infected       828\n",
    "nombre_sain          2185\n",
    "nombre_exposed        464\n",
    "nombre_recovered    16523\n",
    "Name: 675, dtype: int64"
   ]
  },
  {
   "cell_type": "markdown",
   "id": "7f658dd3",
   "metadata": {},
   "source": [
    "nombre_infected       831\n",
    "nombre_sain          2205\n",
    "nombre_exposed        447\n",
    "nombre_recovered    16517\n",
    "Name: 676, dtype: int64"
   ]
  },
  {
   "cell_type": "markdown",
   "id": "428a2612",
   "metadata": {},
   "source": [
    "nombre_infected       834\n",
    "nombre_sain          2238\n",
    "nombre_exposed        444\n",
    "nombre_recovered    16484\n",
    "Name: 677, dtype: int64"
   ]
  },
  {
   "cell_type": "markdown",
   "id": "31a277b1",
   "metadata": {},
   "source": [
    "nombre_infected       829\n",
    "nombre_sain          2238\n",
    "nombre_exposed        451\n",
    "nombre_recovered    16482\n",
    "Name: 678, dtype: int64"
   ]
  },
  {
   "cell_type": "markdown",
   "id": "05391548",
   "metadata": {},
   "source": [
    "nombre_infected       816\n",
    "nombre_sain          2241\n",
    "nombre_exposed        454\n",
    "nombre_recovered    16489\n",
    "Name: 679, dtype: int64"
   ]
  },
  {
   "cell_type": "markdown",
   "id": "c45fa833",
   "metadata": {},
   "source": [
    "nombre_infected       795\n",
    "nombre_sain          2257\n",
    "nombre_exposed        457\n",
    "nombre_recovered    16491\n",
    "Name: 680, dtype: int64"
   ]
  },
  {
   "cell_type": "markdown",
   "id": "21cbb8a8",
   "metadata": {},
   "source": [
    "nombre_infected       806\n",
    "nombre_sain          2258\n",
    "nombre_exposed        428\n",
    "nombre_recovered    16508\n",
    "Name: 681, dtype: int64"
   ]
  },
  {
   "cell_type": "markdown",
   "id": "7a6e3fcf",
   "metadata": {},
   "source": [
    "nombre_infected       827\n",
    "nombre_sain          2221\n",
    "nombre_exposed        442\n",
    "nombre_recovered    16510\n",
    "Name: 682, dtype: int64"
   ]
  },
  {
   "cell_type": "markdown",
   "id": "81e36d08",
   "metadata": {},
   "source": [
    "nombre_infected       834\n",
    "nombre_sain          2234\n",
    "nombre_exposed        432\n",
    "nombre_recovered    16500\n",
    "Name: 683, dtype: int64"
   ]
  },
  {
   "cell_type": "markdown",
   "id": "34383763",
   "metadata": {},
   "source": [
    "nombre_infected       820\n",
    "nombre_sain          2216\n",
    "nombre_exposed        444\n",
    "nombre_recovered    16520\n",
    "Name: 684, dtype: int64"
   ]
  },
  {
   "cell_type": "markdown",
   "id": "82146baf",
   "metadata": {},
   "source": [
    "nombre_infected       820\n",
    "nombre_sain          2183\n",
    "nombre_exposed        475\n",
    "nombre_recovered    16522\n",
    "Name: 685, dtype: int64"
   ]
  },
  {
   "cell_type": "markdown",
   "id": "9dd86730",
   "metadata": {},
   "source": [
    "nombre_infected       814\n",
    "nombre_sain          2203\n",
    "nombre_exposed        471\n",
    "nombre_recovered    16512\n",
    "Name: 686, dtype: int64"
   ]
  },
  {
   "cell_type": "markdown",
   "id": "038bd661",
   "metadata": {},
   "source": [
    "nombre_infected       799\n",
    "nombre_sain          2215\n",
    "nombre_exposed        469\n",
    "nombre_recovered    16517\n",
    "Name: 687, dtype: int64"
   ]
  },
  {
   "cell_type": "markdown",
   "id": "c4173d6a",
   "metadata": {},
   "source": [
    "nombre_infected       810\n",
    "nombre_sain          2245\n",
    "nombre_exposed        448\n",
    "nombre_recovered    16497\n",
    "Name: 688, dtype: int64"
   ]
  },
  {
   "cell_type": "markdown",
   "id": "a9c3fa47",
   "metadata": {},
   "source": [
    "nombre_infected       838\n",
    "nombre_sain          2265\n",
    "nombre_exposed        434\n",
    "nombre_recovered    16463\n",
    "Name: 689, dtype: int64"
   ]
  },
  {
   "cell_type": "markdown",
   "id": "729f4477",
   "metadata": {},
   "source": [
    "nombre_infected       820\n",
    "nombre_sain          2279\n",
    "nombre_exposed        444\n",
    "nombre_recovered    16457\n",
    "Name: 690, dtype: int64"
   ]
  },
  {
   "cell_type": "markdown",
   "id": "fd103cdc",
   "metadata": {},
   "source": [
    "nombre_infected       810\n",
    "nombre_sain          2276\n",
    "nombre_exposed        468\n",
    "nombre_recovered    16446\n",
    "Name: 691, dtype: int64"
   ]
  },
  {
   "cell_type": "markdown",
   "id": "fcd1db20",
   "metadata": {},
   "source": [
    "nombre_infected       800\n",
    "nombre_sain          2277\n",
    "nombre_exposed        478\n",
    "nombre_recovered    16445\n",
    "Name: 692, dtype: int64"
   ]
  },
  {
   "cell_type": "markdown",
   "id": "9deb6984",
   "metadata": {},
   "source": [
    "nombre_infected       791\n",
    "nombre_sain          2286\n",
    "nombre_exposed        488\n",
    "nombre_recovered    16435\n",
    "Name: 693, dtype: int64"
   ]
  },
  {
   "cell_type": "markdown",
   "id": "8fbc690e",
   "metadata": {},
   "source": [
    "nombre_infected       799\n",
    "nombre_sain          2303\n",
    "nombre_exposed        460\n",
    "nombre_recovered    16438\n",
    "Name: 694, dtype: int64"
   ]
  },
  {
   "cell_type": "markdown",
   "id": "50e97f02",
   "metadata": {},
   "source": [
    "nombre_infected       817\n",
    "nombre_sain          2313\n",
    "nombre_exposed        448\n",
    "nombre_recovered    16422\n",
    "Name: 695, dtype: int64"
   ]
  },
  {
   "cell_type": "markdown",
   "id": "409411fd",
   "metadata": {},
   "source": [
    "nombre_infected       827\n",
    "nombre_sain          2334\n",
    "nombre_exposed        463\n",
    "nombre_recovered    16376\n",
    "Name: 696, dtype: int64"
   ]
  },
  {
   "cell_type": "markdown",
   "id": "5eea4b39",
   "metadata": {},
   "source": [
    "nombre_infected       825\n",
    "nombre_sain          2349\n",
    "nombre_exposed        470\n",
    "nombre_recovered    16356\n",
    "Name: 697, dtype: int64"
   ]
  },
  {
   "cell_type": "markdown",
   "id": "7864bf85",
   "metadata": {},
   "source": [
    "nombre_infected       822\n",
    "nombre_sain          2354\n",
    "nombre_exposed        507\n",
    "nombre_recovered    16317\n",
    "Name: 698, dtype: int64"
   ]
  },
  {
   "cell_type": "markdown",
   "id": "2609ac6e",
   "metadata": {},
   "source": [
    "nombre_infected       808\n",
    "nombre_sain          2351\n",
    "nombre_exposed        511\n",
    "nombre_recovered    16330\n",
    "Name: 699, dtype: int64"
   ]
  },
  {
   "cell_type": "markdown",
   "id": "cb1fef90",
   "metadata": {},
   "source": [
    "nombre_infected       816\n",
    "nombre_sain          2364\n",
    "nombre_exposed        509\n",
    "nombre_recovered    16311\n",
    "Name: 700, dtype: int64"
   ]
  },
  {
   "cell_type": "markdown",
   "id": "80aed231",
   "metadata": {},
   "source": [
    "nombre_infected       855\n",
    "nombre_sain          2367\n",
    "nombre_exposed        499\n",
    "nombre_recovered    16279\n",
    "Name: 701, dtype: int64"
   ]
  },
  {
   "cell_type": "markdown",
   "id": "f5c9f80f",
   "metadata": {},
   "source": [
    "nombre_infected       891\n",
    "nombre_sain          2358\n",
    "nombre_exposed        492\n",
    "nombre_recovered    16259\n",
    "Name: 702, dtype: int64"
   ]
  },
  {
   "cell_type": "markdown",
   "id": "c8646bbe",
   "metadata": {},
   "source": [
    "nombre_infected       882\n",
    "nombre_sain          2352\n",
    "nombre_exposed        500\n",
    "nombre_recovered    16266\n",
    "Name: 703, dtype: int64"
   ]
  },
  {
   "cell_type": "markdown",
   "id": "bdae5136",
   "metadata": {},
   "source": [
    "nombre_infected       872\n",
    "nombre_sain          2327\n",
    "nombre_exposed        513\n",
    "nombre_recovered    16288\n",
    "Name: 704, dtype: int64"
   ]
  },
  {
   "cell_type": "markdown",
   "id": "dbc92ab4",
   "metadata": {},
   "source": [
    "nombre_infected       869\n",
    "nombre_sain          2300\n",
    "nombre_exposed        547\n",
    "nombre_recovered    16284\n",
    "Name: 705, dtype: int64"
   ]
  },
  {
   "cell_type": "markdown",
   "id": "6293904b",
   "metadata": {},
   "source": [
    "nombre_infected       878\n",
    "nombre_sain          2279\n",
    "nombre_exposed        563\n",
    "nombre_recovered    16280\n",
    "Name: 706, dtype: int64"
   ]
  },
  {
   "cell_type": "markdown",
   "id": "910b0144",
   "metadata": {},
   "source": [
    "nombre_infected       852\n",
    "nombre_sain          2274\n",
    "nombre_exposed        570\n",
    "nombre_recovered    16304\n",
    "Name: 707, dtype: int64"
   ]
  },
  {
   "cell_type": "markdown",
   "id": "708869e6",
   "metadata": {},
   "source": [
    "nombre_infected       882\n",
    "nombre_sain          2270\n",
    "nombre_exposed        544\n",
    "nombre_recovered    16304\n",
    "Name: 708, dtype: int64"
   ]
  },
  {
   "cell_type": "markdown",
   "id": "20393ee2",
   "metadata": {},
   "source": [
    "nombre_infected       897\n",
    "nombre_sain          2259\n",
    "nombre_exposed        546\n",
    "nombre_recovered    16298\n",
    "Name: 709, dtype: int64"
   ]
  },
  {
   "cell_type": "markdown",
   "id": "24ae8607",
   "metadata": {},
   "source": [
    "nombre_infected       898\n",
    "nombre_sain          2229\n",
    "nombre_exposed        553\n",
    "nombre_recovered    16320\n",
    "Name: 710, dtype: int64"
   ]
  },
  {
   "cell_type": "markdown",
   "id": "4c6734cc",
   "metadata": {},
   "source": [
    "nombre_infected       896\n",
    "nombre_sain          2241\n",
    "nombre_exposed        544\n",
    "nombre_recovered    16319\n",
    "Name: 711, dtype: int64"
   ]
  },
  {
   "cell_type": "markdown",
   "id": "0d42ee9b",
   "metadata": {},
   "source": [
    "nombre_infected       886\n",
    "nombre_sain          2238\n",
    "nombre_exposed        542\n",
    "nombre_recovered    16334\n",
    "Name: 712, dtype: int64"
   ]
  },
  {
   "cell_type": "markdown",
   "id": "8871226b",
   "metadata": {},
   "source": [
    "nombre_infected       910\n",
    "nombre_sain          2235\n",
    "nombre_exposed        526\n",
    "nombre_recovered    16329\n",
    "Name: 713, dtype: int64"
   ]
  },
  {
   "cell_type": "markdown",
   "id": "acb70f36",
   "metadata": {},
   "source": [
    "nombre_infected       926\n",
    "nombre_sain          2257\n",
    "nombre_exposed        491\n",
    "nombre_recovered    16326\n",
    "Name: 714, dtype: int64"
   ]
  },
  {
   "cell_type": "markdown",
   "id": "e862c752",
   "metadata": {},
   "source": [
    "nombre_infected       905\n",
    "nombre_sain          2249\n",
    "nombre_exposed        516\n",
    "nombre_recovered    16330\n",
    "Name: 715, dtype: int64"
   ]
  },
  {
   "cell_type": "markdown",
   "id": "5eedc5cf",
   "metadata": {},
   "source": [
    "nombre_infected       909\n",
    "nombre_sain          2260\n",
    "nombre_exposed        519\n",
    "nombre_recovered    16312\n",
    "Name: 716, dtype: int64"
   ]
  },
  {
   "cell_type": "markdown",
   "id": "82765164",
   "metadata": {},
   "source": [
    "nombre_infected       918\n",
    "nombre_sain          2281\n",
    "nombre_exposed        488\n",
    "nombre_recovered    16313\n",
    "Name: 717, dtype: int64"
   ]
  },
  {
   "cell_type": "markdown",
   "id": "175cddda",
   "metadata": {},
   "source": [
    "nombre_infected       896\n",
    "nombre_sain          2261\n",
    "nombre_exposed        515\n",
    "nombre_recovered    16328\n",
    "Name: 718, dtype: int64"
   ]
  },
  {
   "cell_type": "markdown",
   "id": "5234e5bb",
   "metadata": {},
   "source": [
    "nombre_infected       882\n",
    "nombre_sain          2239\n",
    "nombre_exposed        530\n",
    "nombre_recovered    16349\n",
    "Name: 719, dtype: int64"
   ]
  },
  {
   "cell_type": "markdown",
   "id": "65e06f7f",
   "metadata": {},
   "source": [
    "nombre_infected       896\n",
    "nombre_sain          2232\n",
    "nombre_exposed        512\n",
    "nombre_recovered    16360\n",
    "Name: 720, dtype: int64"
   ]
  },
  {
   "cell_type": "markdown",
   "id": "9e74940f",
   "metadata": {},
   "source": [
    "nombre_infected       896\n",
    "nombre_sain          2235\n",
    "nombre_exposed        512\n",
    "nombre_recovered    16357\n",
    "Name: 721, dtype: int64"
   ]
  },
  {
   "cell_type": "markdown",
   "id": "c295f6ce",
   "metadata": {},
   "source": [
    "nombre_infected       879\n",
    "nombre_sain          2249\n",
    "nombre_exposed        520\n",
    "nombre_recovered    16352\n",
    "Name: 722, dtype: int64"
   ]
  },
  {
   "cell_type": "markdown",
   "id": "9a5b7176",
   "metadata": {},
   "source": [
    "nombre_infected       884\n",
    "nombre_sain          2286\n",
    "nombre_exposed        498\n",
    "nombre_recovered    16332\n",
    "Name: 723, dtype: int64"
   ]
  },
  {
   "cell_type": "markdown",
   "id": "56648954",
   "metadata": {},
   "source": [
    "nombre_infected       891\n",
    "nombre_sain          2310\n",
    "nombre_exposed        487\n",
    "nombre_recovered    16312\n",
    "Name: 724, dtype: int64"
   ]
  },
  {
   "cell_type": "markdown",
   "id": "c0ca3c07",
   "metadata": {},
   "source": [
    "nombre_infected       875\n",
    "nombre_sain          2339\n",
    "nombre_exposed        486\n",
    "nombre_recovered    16300\n",
    "Name: 725, dtype: int64"
   ]
  },
  {
   "cell_type": "markdown",
   "id": "9a6b7721",
   "metadata": {},
   "source": [
    "nombre_infected       864\n",
    "nombre_sain          2349\n",
    "nombre_exposed        482\n",
    "nombre_recovered    16305\n",
    "Name: 726, dtype: int64"
   ]
  },
  {
   "cell_type": "markdown",
   "id": "a526ecb4",
   "metadata": {},
   "source": [
    "nombre_infected       857\n",
    "nombre_sain          2340\n",
    "nombre_exposed        505\n",
    "nombre_recovered    16298\n",
    "Name: 727, dtype: int64"
   ]
  },
  {
   "cell_type": "markdown",
   "id": "03564392",
   "metadata": {},
   "source": [
    "nombre_infected       844\n",
    "nombre_sain          2337\n",
    "nombre_exposed        544\n",
    "nombre_recovered    16275\n",
    "Name: 728, dtype: int64"
   ]
  },
  {
   "cell_type": "markdown",
   "id": "8ba018b6",
   "metadata": {},
   "source": [
    "nombre_infected       838\n",
    "nombre_sain          2335\n",
    "nombre_exposed        551\n",
    "nombre_recovered    16276\n",
    "Name: 729, dtype: int64"
   ]
  },
  {
   "cell_type": "markdown",
   "id": "0e5a934c",
   "metadata": {},
   "source": [
    "nombre_infected       835\n",
    "nombre_sain          2343\n",
    "nombre_exposed        543\n",
    "nombre_recovered    16279\n",
    "Name: 730, dtype: int64"
   ]
  }
 ],
 "metadata": {},
 "nbformat": 4,
 "nbformat_minor": 5
}
