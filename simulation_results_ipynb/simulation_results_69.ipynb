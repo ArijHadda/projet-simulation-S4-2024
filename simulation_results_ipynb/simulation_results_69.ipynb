{
 "cells": [
  {
   "cell_type": "markdown",
   "id": "62523055",
   "metadata": {},
   "source": [
    "nombre_infected        20\n",
    "nombre_sain         19980\n",
    "nombre_exposed          0\n",
    "nombre_recovered        0\n",
    "Name: 0, dtype: int64"
   ]
  },
  {
   "cell_type": "markdown",
   "id": "2b0a2c4d",
   "metadata": {},
   "source": [
    "nombre_infected        20\n",
    "nombre_sain         19966\n",
    "nombre_exposed         14\n",
    "nombre_recovered        0\n",
    "Name: 1, dtype: int64"
   ]
  },
  {
   "cell_type": "markdown",
   "id": "7838bdbd",
   "metadata": {},
   "source": [
    "nombre_infected        20\n",
    "nombre_sain         19939\n",
    "nombre_exposed         41\n",
    "nombre_recovered        0\n",
    "Name: 2, dtype: int64"
   ]
  },
  {
   "cell_type": "markdown",
   "id": "6317f3bc",
   "metadata": {},
   "source": [
    "nombre_infected         3\n",
    "nombre_sain         19925\n",
    "nombre_exposed         52\n",
    "nombre_recovered       20\n",
    "Name: 3, dtype: int64"
   ]
  },
  {
   "cell_type": "markdown",
   "id": "8ecda1a6",
   "metadata": {},
   "source": [
    "nombre_infected        17\n",
    "nombre_sain         19909\n",
    "nombre_exposed         54\n",
    "nombre_recovered       20\n",
    "Name: 4, dtype: int64"
   ]
  },
  {
   "cell_type": "markdown",
   "id": "b8b2edc4",
   "metadata": {},
   "source": [
    "nombre_infected        23\n",
    "nombre_sain         19887\n",
    "nombre_exposed         69\n",
    "nombre_recovered       21\n",
    "Name: 5, dtype: int64"
   ]
  },
  {
   "cell_type": "markdown",
   "id": "1509124d",
   "metadata": {},
   "source": [
    "nombre_infected        31\n",
    "nombre_sain         19853\n",
    "nombre_exposed         93\n",
    "nombre_recovered       23\n",
    "Name: 6, dtype: int64"
   ]
  },
  {
   "cell_type": "markdown",
   "id": "21cbcff7",
   "metadata": {},
   "source": [
    "nombre_infected        42\n",
    "nombre_sain         19813\n",
    "nombre_exposed        117\n",
    "nombre_recovered       28\n",
    "Name: 7, dtype: int64"
   ]
  },
  {
   "cell_type": "markdown",
   "id": "b18e7084",
   "metadata": {},
   "source": [
    "nombre_infected        64\n",
    "nombre_sain         19743\n",
    "nombre_exposed        160\n",
    "nombre_recovered       33\n",
    "Name: 8, dtype: int64"
   ]
  },
  {
   "cell_type": "markdown",
   "id": "79022c10",
   "metadata": {},
   "source": [
    "nombre_infected        89\n",
    "nombre_sain         19673\n",
    "nombre_exposed        199\n",
    "nombre_recovered       39\n",
    "Name: 9, dtype: int64"
   ]
  },
  {
   "cell_type": "markdown",
   "id": "ff88c0c9",
   "metadata": {},
   "source": [
    "nombre_infected       118\n",
    "nombre_sain         19554\n",
    "nombre_exposed        280\n",
    "nombre_recovered       48\n",
    "Name: 10, dtype: int64"
   ]
  },
  {
   "cell_type": "markdown",
   "id": "9255b9ad",
   "metadata": {},
   "source": [
    "nombre_infected       148\n",
    "nombre_sain         19385\n",
    "nombre_exposed        410\n",
    "nombre_recovered       57\n",
    "Name: 11, dtype: int64"
   ]
  },
  {
   "cell_type": "markdown",
   "id": "748e1754",
   "metadata": {},
   "source": [
    "nombre_infected       207\n",
    "nombre_sain         19193\n",
    "nombre_exposed        530\n",
    "nombre_recovered       70\n",
    "Name: 12, dtype: int64"
   ]
  },
  {
   "cell_type": "markdown",
   "id": "6678c8ce",
   "metadata": {},
   "source": [
    "nombre_infected       290\n",
    "nombre_sain         18957\n",
    "nombre_exposed        668\n",
    "nombre_recovered       85\n",
    "Name: 13, dtype: int64"
   ]
  },
  {
   "cell_type": "markdown",
   "id": "388f959c",
   "metadata": {},
   "source": [
    "nombre_infected       406\n",
    "nombre_sain         18558\n",
    "nombre_exposed        931\n",
    "nombre_recovered      105\n",
    "Name: 14, dtype: int64"
   ]
  },
  {
   "cell_type": "markdown",
   "id": "53f8dd13",
   "metadata": {},
   "source": [
    "nombre_infected       515\n",
    "nombre_sain         18032\n",
    "nombre_exposed       1304\n",
    "nombre_recovered      149\n",
    "Name: 15, dtype: int64"
   ]
  },
  {
   "cell_type": "markdown",
   "id": "a895f5c7",
   "metadata": {},
   "source": [
    "nombre_infected       672\n",
    "nombre_sain         17379\n",
    "nombre_exposed       1745\n",
    "nombre_recovered      204\n",
    "Name: 16, dtype: int64"
   ]
  },
  {
   "cell_type": "markdown",
   "id": "2a510827",
   "metadata": {},
   "source": [
    "nombre_infected       940\n",
    "nombre_sain         16495\n",
    "nombre_exposed       2303\n",
    "nombre_recovered      262\n",
    "Name: 17, dtype: int64"
   ]
  },
  {
   "cell_type": "markdown",
   "id": "82000f13",
   "metadata": {},
   "source": [
    "nombre_infected      1298\n",
    "nombre_sain         15377\n",
    "nombre_exposed       3003\n",
    "nombre_recovered      322\n",
    "Name: 18, dtype: int64"
   ]
  },
  {
   "cell_type": "markdown",
   "id": "e5a3c9ee",
   "metadata": {},
   "source": [
    "nombre_infected      1721\n",
    "nombre_sain         14028\n",
    "nombre_exposed       3843\n",
    "nombre_recovered      408\n",
    "Name: 19, dtype: int64"
   ]
  },
  {
   "cell_type": "markdown",
   "id": "a35106d2",
   "metadata": {},
   "source": [
    "nombre_infected      2284\n",
    "nombre_sain         12592\n",
    "nombre_exposed       4559\n",
    "nombre_recovered      565\n",
    "Name: 20, dtype: int64"
   ]
  },
  {
   "cell_type": "markdown",
   "id": "61759b3a",
   "metadata": {},
   "source": [
    "nombre_infected      3003\n",
    "nombre_sain         10900\n",
    "nombre_exposed       5347\n",
    "nombre_recovered      750\n",
    "Name: 21, dtype: int64"
   ]
  },
  {
   "cell_type": "markdown",
   "id": "c329de5f",
   "metadata": {},
   "source": [
    "nombre_infected     3778\n",
    "nombre_sain         9037\n",
    "nombre_exposed      6173\n",
    "nombre_recovered    1012\n",
    "Name: 22, dtype: int64"
   ]
  },
  {
   "cell_type": "markdown",
   "id": "92437357",
   "metadata": {},
   "source": [
    "nombre_infected     4745\n",
    "nombre_sain         7226\n",
    "nombre_exposed      6692\n",
    "nombre_recovered    1337\n",
    "Name: 23, dtype: int64"
   ]
  },
  {
   "cell_type": "markdown",
   "id": "0397856e",
   "metadata": {},
   "source": [
    "nombre_infected     5700\n",
    "nombre_sain         5551\n",
    "nombre_exposed      6988\n",
    "nombre_recovered    1761\n",
    "Name: 24, dtype: int64"
   ]
  },
  {
   "cell_type": "markdown",
   "id": "906f1fa5",
   "metadata": {},
   "source": [
    "nombre_infected     6717\n",
    "nombre_sain         4066\n",
    "nombre_exposed      6962\n",
    "nombre_recovered    2255\n",
    "Name: 25, dtype: int64"
   ]
  },
  {
   "cell_type": "markdown",
   "id": "8f42e648",
   "metadata": {},
   "source": [
    "nombre_infected     7651\n",
    "nombre_sain         2900\n",
    "nombre_exposed      6538\n",
    "nombre_recovered    2911\n",
    "Name: 26, dtype: int64"
   ]
  },
  {
   "cell_type": "markdown",
   "id": "e408b5f6",
   "metadata": {},
   "source": [
    "nombre_infected     8493\n",
    "nombre_sain         1992\n",
    "nombre_exposed      5885\n",
    "nombre_recovered    3630\n",
    "Name: 27, dtype: int64"
   ]
  },
  {
   "cell_type": "markdown",
   "id": "5e10a63d",
   "metadata": {},
   "source": [
    "nombre_infected     9025\n",
    "nombre_sain         1368\n",
    "nombre_exposed      5122\n",
    "nombre_recovered    4485\n",
    "Name: 28, dtype: int64"
   ]
  },
  {
   "cell_type": "markdown",
   "id": "489ff982",
   "metadata": {},
   "source": [
    "nombre_infected     9354\n",
    "nombre_sain          946\n",
    "nombre_exposed      4264\n",
    "nombre_recovered    5436\n",
    "Name: 29, dtype: int64"
   ]
  },
  {
   "cell_type": "markdown",
   "id": "33e61f2b",
   "metadata": {},
   "source": [
    "nombre_infected     9376\n",
    "nombre_sain          660\n",
    "nombre_exposed      3493\n",
    "nombre_recovered    6471\n",
    "Name: 30, dtype: int64"
   ]
  },
  {
   "cell_type": "markdown",
   "id": "56965570",
   "metadata": {},
   "source": [
    "nombre_infected     9162\n",
    "nombre_sain          469\n",
    "nombre_exposed      2794\n",
    "nombre_recovered    7575\n",
    "Name: 31, dtype: int64"
   ]
  },
  {
   "cell_type": "markdown",
   "id": "fa9ea97f",
   "metadata": {},
   "source": [
    "nombre_infected     8808\n",
    "nombre_sain          357\n",
    "nombre_exposed      2232\n",
    "nombre_recovered    8603\n",
    "Name: 32, dtype: int64"
   ]
  },
  {
   "cell_type": "markdown",
   "id": "5e5b0ef8",
   "metadata": {},
   "source": [
    "nombre_infected     8365\n",
    "nombre_sain          276\n",
    "nombre_exposed      1740\n",
    "nombre_recovered    9619\n",
    "Name: 33, dtype: int64"
   ]
  },
  {
   "cell_type": "markdown",
   "id": "ee829150",
   "metadata": {},
   "source": [
    "nombre_infected      7765\n",
    "nombre_sain           229\n",
    "nombre_exposed       1374\n",
    "nombre_recovered    10632\n",
    "Name: 34, dtype: int64"
   ]
  },
  {
   "cell_type": "markdown",
   "id": "a85ffb87",
   "metadata": {},
   "source": [
    "nombre_infected      7059\n",
    "nombre_sain           203\n",
    "nombre_exposed       1052\n",
    "nombre_recovered    11686\n",
    "Name: 35, dtype: int64"
   ]
  },
  {
   "cell_type": "markdown",
   "id": "9a0452a6",
   "metadata": {},
   "source": [
    "nombre_infected      6346\n",
    "nombre_sain           177\n",
    "nombre_exposed        827\n",
    "nombre_recovered    12650\n",
    "Name: 36, dtype: int64"
   ]
  },
  {
   "cell_type": "markdown",
   "id": "be769df3",
   "metadata": {},
   "source": [
    "nombre_infected      5719\n",
    "nombre_sain           181\n",
    "nombre_exposed        656\n",
    "nombre_recovered    13444\n",
    "Name: 37, dtype: int64"
   ]
  },
  {
   "cell_type": "markdown",
   "id": "c013b540",
   "metadata": {},
   "source": [
    "nombre_infected      5092\n",
    "nombre_sain           200\n",
    "nombre_exposed        513\n",
    "nombre_recovered    14195\n",
    "Name: 38, dtype: int64"
   ]
  },
  {
   "cell_type": "markdown",
   "id": "9f0973f8",
   "metadata": {},
   "source": [
    "nombre_infected      4532\n",
    "nombre_sain           206\n",
    "nombre_exposed        420\n",
    "nombre_recovered    14842\n",
    "Name: 39, dtype: int64"
   ]
  },
  {
   "cell_type": "markdown",
   "id": "9199e1e5",
   "metadata": {},
   "source": [
    "nombre_infected      3932\n",
    "nombre_sain           212\n",
    "nombre_exposed        373\n",
    "nombre_recovered    15483\n",
    "Name: 40, dtype: int64"
   ]
  },
  {
   "cell_type": "markdown",
   "id": "7bdd3744",
   "metadata": {},
   "source": [
    "nombre_infected      3480\n",
    "nombre_sain           225\n",
    "nombre_exposed        325\n",
    "nombre_recovered    15970\n",
    "Name: 41, dtype: int64"
   ]
  },
  {
   "cell_type": "markdown",
   "id": "fafe0f56",
   "metadata": {},
   "source": [
    "nombre_infected      3076\n",
    "nombre_sain           245\n",
    "nombre_exposed        275\n",
    "nombre_recovered    16404\n",
    "Name: 42, dtype: int64"
   ]
  },
  {
   "cell_type": "markdown",
   "id": "d36488da",
   "metadata": {},
   "source": [
    "nombre_infected      2701\n",
    "nombre_sain           257\n",
    "nombre_exposed        237\n",
    "nombre_recovered    16805\n",
    "Name: 43, dtype: int64"
   ]
  },
  {
   "cell_type": "markdown",
   "id": "d47096de",
   "metadata": {},
   "source": [
    "nombre_infected      2389\n",
    "nombre_sain           295\n",
    "nombre_exposed        196\n",
    "nombre_recovered    17120\n",
    "Name: 44, dtype: int64"
   ]
  },
  {
   "cell_type": "markdown",
   "id": "066fd9cf",
   "metadata": {},
   "source": [
    "nombre_infected      2114\n",
    "nombre_sain           305\n",
    "nombre_exposed        170\n",
    "nombre_recovered    17411\n",
    "Name: 45, dtype: int64"
   ]
  },
  {
   "cell_type": "markdown",
   "id": "f7ea4e97",
   "metadata": {},
   "source": [
    "nombre_infected      1891\n",
    "nombre_sain           315\n",
    "nombre_exposed        162\n",
    "nombre_recovered    17632\n",
    "Name: 46, dtype: int64"
   ]
  },
  {
   "cell_type": "markdown",
   "id": "52f05cea",
   "metadata": {},
   "source": [
    "nombre_infected      1705\n",
    "nombre_sain           351\n",
    "nombre_exposed        130\n",
    "nombre_recovered    17814\n",
    "Name: 47, dtype: int64"
   ]
  },
  {
   "cell_type": "markdown",
   "id": "813d14df",
   "metadata": {},
   "source": [
    "nombre_infected      1515\n",
    "nombre_sain           383\n",
    "nombre_exposed        114\n",
    "nombre_recovered    17988\n",
    "Name: 48, dtype: int64"
   ]
  },
  {
   "cell_type": "markdown",
   "id": "473f507e",
   "metadata": {},
   "source": [
    "nombre_infected      1354\n",
    "nombre_sain           415\n",
    "nombre_exposed        109\n",
    "nombre_recovered    18122\n",
    "Name: 49, dtype: int64"
   ]
  },
  {
   "cell_type": "markdown",
   "id": "837cc07d",
   "metadata": {},
   "source": [
    "nombre_infected      1196\n",
    "nombre_sain           468\n",
    "nombre_exposed         96\n",
    "nombre_recovered    18240\n",
    "Name: 50, dtype: int64"
   ]
  },
  {
   "cell_type": "markdown",
   "id": "c0177586",
   "metadata": {},
   "source": [
    "nombre_infected      1039\n",
    "nombre_sain           490\n",
    "nombre_exposed         94\n",
    "nombre_recovered    18377\n",
    "Name: 51, dtype: int64"
   ]
  },
  {
   "cell_type": "markdown",
   "id": "40a0452f",
   "metadata": {},
   "source": [
    "nombre_infected       898\n",
    "nombre_sain           533\n",
    "nombre_exposed        105\n",
    "nombre_recovered    18464\n",
    "Name: 52, dtype: int64"
   ]
  },
  {
   "cell_type": "markdown",
   "id": "03fce6e5",
   "metadata": {},
   "source": [
    "nombre_infected       785\n",
    "nombre_sain           559\n",
    "nombre_exposed        105\n",
    "nombre_recovered    18551\n",
    "Name: 53, dtype: int64"
   ]
  },
  {
   "cell_type": "markdown",
   "id": "3e2b1121",
   "metadata": {},
   "source": [
    "nombre_infected       703\n",
    "nombre_sain           596\n",
    "nombre_exposed         92\n",
    "nombre_recovered    18609\n",
    "Name: 54, dtype: int64"
   ]
  },
  {
   "cell_type": "markdown",
   "id": "e1c84430",
   "metadata": {},
   "source": [
    "nombre_infected       598\n",
    "nombre_sain           624\n",
    "nombre_exposed         93\n",
    "nombre_recovered    18685\n",
    "Name: 55, dtype: int64"
   ]
  },
  {
   "cell_type": "markdown",
   "id": "0f964ec0",
   "metadata": {},
   "source": [
    "nombre_infected       518\n",
    "nombre_sain           660\n",
    "nombre_exposed         90\n",
    "nombre_recovered    18732\n",
    "Name: 56, dtype: int64"
   ]
  },
  {
   "cell_type": "markdown",
   "id": "dfe05d94",
   "metadata": {},
   "source": [
    "nombre_infected       445\n",
    "nombre_sain           694\n",
    "nombre_exposed         82\n",
    "nombre_recovered    18779\n",
    "Name: 57, dtype: int64"
   ]
  },
  {
   "cell_type": "markdown",
   "id": "d0a9e9c1",
   "metadata": {},
   "source": [
    "nombre_infected       366\n",
    "nombre_sain           726\n",
    "nombre_exposed         79\n",
    "nombre_recovered    18829\n",
    "Name: 58, dtype: int64"
   ]
  },
  {
   "cell_type": "markdown",
   "id": "5b92e4b0",
   "metadata": {},
   "source": [
    "nombre_infected       315\n",
    "nombre_sain           763\n",
    "nombre_exposed         80\n",
    "nombre_recovered    18842\n",
    "Name: 59, dtype: int64"
   ]
  },
  {
   "cell_type": "markdown",
   "id": "6f0a7e23",
   "metadata": {},
   "source": [
    "nombre_infected       261\n",
    "nombre_sain           780\n",
    "nombre_exposed         79\n",
    "nombre_recovered    18880\n",
    "Name: 60, dtype: int64"
   ]
  },
  {
   "cell_type": "markdown",
   "id": "50890cb0",
   "metadata": {},
   "source": [
    "nombre_infected       234\n",
    "nombre_sain           820\n",
    "nombre_exposed         74\n",
    "nombre_recovered    18872\n",
    "Name: 61, dtype: int64"
   ]
  },
  {
   "cell_type": "markdown",
   "id": "154b89f3",
   "metadata": {},
   "source": [
    "nombre_infected       201\n",
    "nombre_sain           856\n",
    "nombre_exposed         61\n",
    "nombre_recovered    18882\n",
    "Name: 62, dtype: int64"
   ]
  },
  {
   "cell_type": "markdown",
   "id": "409483bb",
   "metadata": {},
   "source": [
    "nombre_infected       164\n",
    "nombre_sain           901\n",
    "nombre_exposed         58\n",
    "nombre_recovered    18877\n",
    "Name: 63, dtype: int64"
   ]
  },
  {
   "cell_type": "markdown",
   "id": "11995248",
   "metadata": {},
   "source": [
    "nombre_infected       143\n",
    "nombre_sain           947\n",
    "nombre_exposed         52\n",
    "nombre_recovered    18858\n",
    "Name: 64, dtype: int64"
   ]
  },
  {
   "cell_type": "markdown",
   "id": "b704559e",
   "metadata": {},
   "source": [
    "nombre_infected       120\n",
    "nombre_sain          1013\n",
    "nombre_exposed         46\n",
    "nombre_recovered    18821\n",
    "Name: 65, dtype: int64"
   ]
  },
  {
   "cell_type": "markdown",
   "id": "61782b60",
   "metadata": {},
   "source": [
    "nombre_infected       103\n",
    "nombre_sain          1067\n",
    "nombre_exposed         44\n",
    "nombre_recovered    18786\n",
    "Name: 66, dtype: int64"
   ]
  },
  {
   "cell_type": "markdown",
   "id": "05b208d3",
   "metadata": {},
   "source": [
    "nombre_infected        91\n",
    "nombre_sain          1136\n",
    "nombre_exposed         40\n",
    "nombre_recovered    18733\n",
    "Name: 67, dtype: int64"
   ]
  },
  {
   "cell_type": "markdown",
   "id": "66f175cf",
   "metadata": {},
   "source": [
    "nombre_infected        72\n",
    "nombre_sain          1191\n",
    "nombre_exposed         42\n",
    "nombre_recovered    18695\n",
    "Name: 68, dtype: int64"
   ]
  },
  {
   "cell_type": "markdown",
   "id": "5701513d",
   "metadata": {},
   "source": [
    "nombre_infected        60\n",
    "nombre_sain          1260\n",
    "nombre_exposed         33\n",
    "nombre_recovered    18647\n",
    "Name: 69, dtype: int64"
   ]
  },
  {
   "cell_type": "markdown",
   "id": "f8196214",
   "metadata": {},
   "source": [
    "nombre_infected        54\n",
    "nombre_sain          1308\n",
    "nombre_exposed         34\n",
    "nombre_recovered    18604\n",
    "Name: 70, dtype: int64"
   ]
  },
  {
   "cell_type": "markdown",
   "id": "a7b6ddd8",
   "metadata": {},
   "source": [
    "nombre_infected        48\n",
    "nombre_sain          1370\n",
    "nombre_exposed         27\n",
    "nombre_recovered    18555\n",
    "Name: 71, dtype: int64"
   ]
  },
  {
   "cell_type": "markdown",
   "id": "2f4e694a",
   "metadata": {},
   "source": [
    "nombre_infected        42\n",
    "nombre_sain          1430\n",
    "nombre_exposed         18\n",
    "nombre_recovered    18510\n",
    "Name: 72, dtype: int64"
   ]
  },
  {
   "cell_type": "markdown",
   "id": "a99f65e5",
   "metadata": {},
   "source": [
    "nombre_infected        36\n",
    "nombre_sain          1477\n",
    "nombre_exposed         20\n",
    "nombre_recovered    18467\n",
    "Name: 73, dtype: int64"
   ]
  },
  {
   "cell_type": "markdown",
   "id": "5eefea18",
   "metadata": {},
   "source": [
    "nombre_infected        33\n",
    "nombre_sain          1534\n",
    "nombre_exposed         20\n",
    "nombre_recovered    18413\n",
    "Name: 74, dtype: int64"
   ]
  },
  {
   "cell_type": "markdown",
   "id": "0a539321",
   "metadata": {},
   "source": [
    "nombre_infected        32\n",
    "nombre_sain          1599\n",
    "nombre_exposed         15\n",
    "nombre_recovered    18354\n",
    "Name: 75, dtype: int64"
   ]
  },
  {
   "cell_type": "markdown",
   "id": "ce633fb8",
   "metadata": {},
   "source": [
    "nombre_infected        35\n",
    "nombre_sain          1663\n",
    "nombre_exposed         13\n",
    "nombre_recovered    18289\n",
    "Name: 76, dtype: int64"
   ]
  },
  {
   "cell_type": "markdown",
   "id": "407a5264",
   "metadata": {},
   "source": [
    "nombre_infected        25\n",
    "nombre_sain          1714\n",
    "nombre_exposed         10\n",
    "nombre_recovered    18251\n",
    "Name: 77, dtype: int64"
   ]
  },
  {
   "cell_type": "markdown",
   "id": "141f8d00",
   "metadata": {},
   "source": [
    "nombre_infected        23\n",
    "nombre_sain          1759\n",
    "nombre_exposed         11\n",
    "nombre_recovered    18207\n",
    "Name: 78, dtype: int64"
   ]
  },
  {
   "cell_type": "markdown",
   "id": "cf96e364",
   "metadata": {},
   "source": [
    "nombre_infected        20\n",
    "nombre_sain          1797\n",
    "nombre_exposed         10\n",
    "nombre_recovered    18173\n",
    "Name: 79, dtype: int64"
   ]
  },
  {
   "cell_type": "markdown",
   "id": "81ce0167",
   "metadata": {},
   "source": [
    "nombre_infected        19\n",
    "nombre_sain          1848\n",
    "nombre_exposed         10\n",
    "nombre_recovered    18123\n",
    "Name: 80, dtype: int64"
   ]
  },
  {
   "cell_type": "markdown",
   "id": "3490ee1a",
   "metadata": {},
   "source": [
    "nombre_infected        20\n",
    "nombre_sain          1897\n",
    "nombre_exposed         11\n",
    "nombre_recovered    18072\n",
    "Name: 81, dtype: int64"
   ]
  },
  {
   "cell_type": "markdown",
   "id": "811ebc59",
   "metadata": {},
   "source": [
    "nombre_infected        17\n",
    "nombre_sain          1952\n",
    "nombre_exposed          7\n",
    "nombre_recovered    18024\n",
    "Name: 82, dtype: int64"
   ]
  },
  {
   "cell_type": "markdown",
   "id": "8eb0904a",
   "metadata": {},
   "source": [
    "nombre_infected        15\n",
    "nombre_sain          2005\n",
    "nombre_exposed          9\n",
    "nombre_recovered    17971\n",
    "Name: 83, dtype: int64"
   ]
  },
  {
   "cell_type": "markdown",
   "id": "d5e18de5",
   "metadata": {},
   "source": [
    "nombre_infected        12\n",
    "nombre_sain          2056\n",
    "nombre_exposed         12\n",
    "nombre_recovered    17920\n",
    "Name: 84, dtype: int64"
   ]
  },
  {
   "cell_type": "markdown",
   "id": "7ceacfb5",
   "metadata": {},
   "source": [
    "nombre_infected        15\n",
    "nombre_sain          2102\n",
    "nombre_exposed         10\n",
    "nombre_recovered    17873\n",
    "Name: 85, dtype: int64"
   ]
  },
  {
   "cell_type": "markdown",
   "id": "60687097",
   "metadata": {},
   "source": [
    "nombre_infected        14\n",
    "nombre_sain          2157\n",
    "nombre_exposed          9\n",
    "nombre_recovered    17820\n",
    "Name: 86, dtype: int64"
   ]
  },
  {
   "cell_type": "markdown",
   "id": "aaa3ce63",
   "metadata": {},
   "source": [
    "nombre_infected        15\n",
    "nombre_sain          2203\n",
    "nombre_exposed         10\n",
    "nombre_recovered    17772\n",
    "Name: 87, dtype: int64"
   ]
  },
  {
   "cell_type": "markdown",
   "id": "4c00d215",
   "metadata": {},
   "source": [
    "nombre_infected        12\n",
    "nombre_sain          2255\n",
    "nombre_exposed         10\n",
    "nombre_recovered    17723\n",
    "Name: 88, dtype: int64"
   ]
  },
  {
   "cell_type": "markdown",
   "id": "91578859",
   "metadata": {},
   "source": [
    "nombre_infected        13\n",
    "nombre_sain          2297\n",
    "nombre_exposed         10\n",
    "nombre_recovered    17680\n",
    "Name: 89, dtype: int64"
   ]
  },
  {
   "cell_type": "markdown",
   "id": "7ca8c8e3",
   "metadata": {},
   "source": [
    "nombre_infected        11\n",
    "nombre_sain          2340\n",
    "nombre_exposed         12\n",
    "nombre_recovered    17637\n",
    "Name: 90, dtype: int64"
   ]
  },
  {
   "cell_type": "markdown",
   "id": "f100c9c2",
   "metadata": {},
   "source": [
    "nombre_infected        13\n",
    "nombre_sain          2394\n",
    "nombre_exposed         10\n",
    "nombre_recovered    17583\n",
    "Name: 91, dtype: int64"
   ]
  },
  {
   "cell_type": "markdown",
   "id": "897dbc30",
   "metadata": {},
   "source": [
    "nombre_infected        13\n",
    "nombre_sain          2436\n",
    "nombre_exposed         10\n",
    "nombre_recovered    17541\n",
    "Name: 92, dtype: int64"
   ]
  },
  {
   "cell_type": "markdown",
   "id": "24580138",
   "metadata": {},
   "source": [
    "nombre_infected        11\n",
    "nombre_sain          2482\n",
    "nombre_exposed         10\n",
    "nombre_recovered    17497\n",
    "Name: 93, dtype: int64"
   ]
  },
  {
   "cell_type": "markdown",
   "id": "09024b94",
   "metadata": {},
   "source": [
    "nombre_infected        12\n",
    "nombre_sain          2530\n",
    "nombre_exposed          7\n",
    "nombre_recovered    17451\n",
    "Name: 94, dtype: int64"
   ]
  },
  {
   "cell_type": "markdown",
   "id": "9d916ff2",
   "metadata": {},
   "source": [
    "nombre_infected        13\n",
    "nombre_sain          2574\n",
    "nombre_exposed          8\n",
    "nombre_recovered    17405\n",
    "Name: 95, dtype: int64"
   ]
  },
  {
   "cell_type": "markdown",
   "id": "d693bf11",
   "metadata": {},
   "source": [
    "nombre_infected        12\n",
    "nombre_sain          2625\n",
    "nombre_exposed          8\n",
    "nombre_recovered    17355\n",
    "Name: 96, dtype: int64"
   ]
  },
  {
   "cell_type": "markdown",
   "id": "37994763",
   "metadata": {},
   "source": [
    "nombre_infected        11\n",
    "nombre_sain          2668\n",
    "nombre_exposed          8\n",
    "nombre_recovered    17313\n",
    "Name: 97, dtype: int64"
   ]
  },
  {
   "cell_type": "markdown",
   "id": "00c3b39b",
   "metadata": {},
   "source": [
    "nombre_infected        12\n",
    "nombre_sain          2713\n",
    "nombre_exposed          6\n",
    "nombre_recovered    17269\n",
    "Name: 98, dtype: int64"
   ]
  },
  {
   "cell_type": "markdown",
   "id": "1e6818eb",
   "metadata": {},
   "source": [
    "nombre_infected        10\n",
    "nombre_sain          2756\n",
    "nombre_exposed          8\n",
    "nombre_recovered    17226\n",
    "Name: 99, dtype: int64"
   ]
  },
  {
   "cell_type": "markdown",
   "id": "13514b48",
   "metadata": {},
   "source": [
    "nombre_infected        11\n",
    "nombre_sain          2807\n",
    "nombre_exposed         10\n",
    "nombre_recovered    17172\n",
    "Name: 100, dtype: int64"
   ]
  },
  {
   "cell_type": "markdown",
   "id": "69bdfb55",
   "metadata": {},
   "source": [
    "nombre_infected        10\n",
    "nombre_sain          2847\n",
    "nombre_exposed          9\n",
    "nombre_recovered    17134\n",
    "Name: 101, dtype: int64"
   ]
  },
  {
   "cell_type": "markdown",
   "id": "5fec6073",
   "metadata": {},
   "source": [
    "nombre_infected        10\n",
    "nombre_sain          2893\n",
    "nombre_exposed          8\n",
    "nombre_recovered    17089\n",
    "Name: 102, dtype: int64"
   ]
  },
  {
   "cell_type": "markdown",
   "id": "1ee4a332",
   "metadata": {},
   "source": [
    "nombre_infected        10\n",
    "nombre_sain          2926\n",
    "nombre_exposed          7\n",
    "nombre_recovered    17057\n",
    "Name: 103, dtype: int64"
   ]
  },
  {
   "cell_type": "markdown",
   "id": "3eca6744",
   "metadata": {},
   "source": [
    "nombre_infected        10\n",
    "nombre_sain          2960\n",
    "nombre_exposed          8\n",
    "nombre_recovered    17022\n",
    "Name: 104, dtype: int64"
   ]
  },
  {
   "cell_type": "markdown",
   "id": "6b19821a",
   "metadata": {},
   "source": [
    "nombre_infected         9\n",
    "nombre_sain          2988\n",
    "nombre_exposed          8\n",
    "nombre_recovered    16995\n",
    "Name: 105, dtype: int64"
   ]
  },
  {
   "cell_type": "markdown",
   "id": "d2b97c2f",
   "metadata": {},
   "source": [
    "nombre_infected        11\n",
    "nombre_sain          3029\n",
    "nombre_exposed          7\n",
    "nombre_recovered    16953\n",
    "Name: 106, dtype: int64"
   ]
  },
  {
   "cell_type": "markdown",
   "id": "54da045c",
   "metadata": {},
   "source": [
    "nombre_infected        13\n",
    "nombre_sain          3062\n",
    "nombre_exposed          4\n",
    "nombre_recovered    16921\n",
    "Name: 107, dtype: int64"
   ]
  },
  {
   "cell_type": "markdown",
   "id": "d6c82cee",
   "metadata": {},
   "source": [
    "nombre_infected        13\n",
    "nombre_sain          3098\n",
    "nombre_exposed          3\n",
    "nombre_recovered    16886\n",
    "Name: 108, dtype: int64"
   ]
  },
  {
   "cell_type": "markdown",
   "id": "89ef6175",
   "metadata": {},
   "source": [
    "nombre_infected        12\n",
    "nombre_sain          3136\n",
    "nombre_exposed          5\n",
    "nombre_recovered    16847\n",
    "Name: 109, dtype: int64"
   ]
  },
  {
   "cell_type": "markdown",
   "id": "924b97f3",
   "metadata": {},
   "source": [
    "nombre_infected        10\n",
    "nombre_sain          3175\n",
    "nombre_exposed          5\n",
    "nombre_recovered    16810\n",
    "Name: 110, dtype: int64"
   ]
  },
  {
   "cell_type": "markdown",
   "id": "be8450e7",
   "metadata": {},
   "source": [
    "nombre_infected         9\n",
    "nombre_sain          3216\n",
    "nombre_exposed          9\n",
    "nombre_recovered    16766\n",
    "Name: 111, dtype: int64"
   ]
  },
  {
   "cell_type": "markdown",
   "id": "06cb3849",
   "metadata": {},
   "source": [
    "nombre_infected        10\n",
    "nombre_sain          3267\n",
    "nombre_exposed         11\n",
    "nombre_recovered    16712\n",
    "Name: 112, dtype: int64"
   ]
  },
  {
   "cell_type": "markdown",
   "id": "066509dd",
   "metadata": {},
   "source": [
    "nombre_infected        10\n",
    "nombre_sain          3305\n",
    "nombre_exposed         10\n",
    "nombre_recovered    16675\n",
    "Name: 113, dtype: int64"
   ]
  },
  {
   "cell_type": "markdown",
   "id": "c714b56b",
   "metadata": {},
   "source": [
    "nombre_infected        10\n",
    "nombre_sain          3351\n",
    "nombre_exposed         13\n",
    "nombre_recovered    16626\n",
    "Name: 114, dtype: int64"
   ]
  },
  {
   "cell_type": "markdown",
   "id": "40bc2bd7",
   "metadata": {},
   "source": [
    "nombre_infected        10\n",
    "nombre_sain          3383\n",
    "nombre_exposed         14\n",
    "nombre_recovered    16593\n",
    "Name: 115, dtype: int64"
   ]
  },
  {
   "cell_type": "markdown",
   "id": "aac43dff",
   "metadata": {},
   "source": [
    "nombre_infected         8\n",
    "nombre_sain          3433\n",
    "nombre_exposed         13\n",
    "nombre_recovered    16546\n",
    "Name: 116, dtype: int64"
   ]
  },
  {
   "cell_type": "markdown",
   "id": "72cfd5cb",
   "metadata": {},
   "source": [
    "nombre_infected        15\n",
    "nombre_sain          3485\n",
    "nombre_exposed          6\n",
    "nombre_recovered    16494\n",
    "Name: 117, dtype: int64"
   ]
  },
  {
   "cell_type": "markdown",
   "id": "60a878c3",
   "metadata": {},
   "source": [
    "nombre_infected        12\n",
    "nombre_sain          3531\n",
    "nombre_exposed          9\n",
    "nombre_recovered    16448\n",
    "Name: 118, dtype: int64"
   ]
  },
  {
   "cell_type": "markdown",
   "id": "e89eaf1d",
   "metadata": {},
   "source": [
    "nombre_infected        12\n",
    "nombre_sain          3568\n",
    "nombre_exposed         10\n",
    "nombre_recovered    16410\n",
    "Name: 119, dtype: int64"
   ]
  },
  {
   "cell_type": "markdown",
   "id": "6fef1b06",
   "metadata": {},
   "source": [
    "nombre_infected        12\n",
    "nombre_sain          3617\n",
    "nombre_exposed         12\n",
    "nombre_recovered    16359\n",
    "Name: 120, dtype: int64"
   ]
  },
  {
   "cell_type": "markdown",
   "id": "1153b14d",
   "metadata": {},
   "source": [
    "nombre_infected        10\n",
    "nombre_sain          3676\n",
    "nombre_exposed         17\n",
    "nombre_recovered    16297\n",
    "Name: 121, dtype: int64"
   ]
  },
  {
   "cell_type": "markdown",
   "id": "72823969",
   "metadata": {},
   "source": [
    "nombre_infected        12\n",
    "nombre_sain          3745\n",
    "nombre_exposed         16\n",
    "nombre_recovered    16227\n",
    "Name: 122, dtype: int64"
   ]
  },
  {
   "cell_type": "markdown",
   "id": "7b395d0b",
   "metadata": {},
   "source": [
    "nombre_infected        18\n",
    "nombre_sain          3808\n",
    "nombre_exposed         12\n",
    "nombre_recovered    16162\n",
    "Name: 123, dtype: int64"
   ]
  },
  {
   "cell_type": "markdown",
   "id": "aa9b9e54",
   "metadata": {},
   "source": [
    "nombre_infected        17\n",
    "nombre_sain          3895\n",
    "nombre_exposed         10\n",
    "nombre_recovered    16078\n",
    "Name: 124, dtype: int64"
   ]
  },
  {
   "cell_type": "markdown",
   "id": "10bc3c6d",
   "metadata": {},
   "source": [
    "nombre_infected        20\n",
    "nombre_sain          3979\n",
    "nombre_exposed         10\n",
    "nombre_recovered    15991\n",
    "Name: 125, dtype: int64"
   ]
  },
  {
   "cell_type": "markdown",
   "id": "cb41acf1",
   "metadata": {},
   "source": [
    "nombre_infected        20\n",
    "nombre_sain          4045\n",
    "nombre_exposed         17\n",
    "nombre_recovered    15918\n",
    "Name: 126, dtype: int64"
   ]
  },
  {
   "cell_type": "markdown",
   "id": "ef903e4a",
   "metadata": {},
   "source": [
    "nombre_infected        19\n",
    "nombre_sain          4108\n",
    "nombre_exposed         23\n",
    "nombre_recovered    15850\n",
    "Name: 127, dtype: int64"
   ]
  },
  {
   "cell_type": "markdown",
   "id": "d3d9ac30",
   "metadata": {},
   "source": [
    "nombre_infected        24\n",
    "nombre_sain          4178\n",
    "nombre_exposed         24\n",
    "nombre_recovered    15774\n",
    "Name: 128, dtype: int64"
   ]
  },
  {
   "cell_type": "markdown",
   "id": "5f195e19",
   "metadata": {},
   "source": [
    "nombre_infected        22\n",
    "nombre_sain          4234\n",
    "nombre_exposed         29\n",
    "nombre_recovered    15715\n",
    "Name: 129, dtype: int64"
   ]
  },
  {
   "cell_type": "markdown",
   "id": "6e9894a7",
   "metadata": {},
   "source": [
    "nombre_infected        26\n",
    "nombre_sain          4277\n",
    "nombre_exposed         30\n",
    "nombre_recovered    15667\n",
    "Name: 130, dtype: int64"
   ]
  },
  {
   "cell_type": "markdown",
   "id": "7b5a18df",
   "metadata": {},
   "source": [
    "nombre_infected        27\n",
    "nombre_sain          4334\n",
    "nombre_exposed         28\n",
    "nombre_recovered    15611\n",
    "Name: 131, dtype: int64"
   ]
  },
  {
   "cell_type": "markdown",
   "id": "0da72580",
   "metadata": {},
   "source": [
    "nombre_infected        26\n",
    "nombre_sain          4365\n",
    "nombre_exposed         28\n",
    "nombre_recovered    15581\n",
    "Name: 132, dtype: int64"
   ]
  },
  {
   "cell_type": "markdown",
   "id": "298fb44a",
   "metadata": {},
   "source": [
    "nombre_infected        25\n",
    "nombre_sain          4400\n",
    "nombre_exposed         37\n",
    "nombre_recovered    15538\n",
    "Name: 133, dtype: int64"
   ]
  },
  {
   "cell_type": "markdown",
   "id": "231ea862",
   "metadata": {},
   "source": [
    "nombre_infected        23\n",
    "nombre_sain          4442\n",
    "nombre_exposed         34\n",
    "nombre_recovered    15501\n",
    "Name: 134, dtype: int64"
   ]
  },
  {
   "cell_type": "markdown",
   "id": "d560b219",
   "metadata": {},
   "source": [
    "nombre_infected        27\n",
    "nombre_sain          4489\n",
    "nombre_exposed         35\n",
    "nombre_recovered    15449\n",
    "Name: 135, dtype: int64"
   ]
  },
  {
   "cell_type": "markdown",
   "id": "13554539",
   "metadata": {},
   "source": [
    "nombre_infected        31\n",
    "nombre_sain          4529\n",
    "nombre_exposed         39\n",
    "nombre_recovered    15401\n",
    "Name: 136, dtype: int64"
   ]
  },
  {
   "cell_type": "markdown",
   "id": "7a38ec8d",
   "metadata": {},
   "source": [
    "nombre_infected        39\n",
    "nombre_sain          4563\n",
    "nombre_exposed         46\n",
    "nombre_recovered    15352\n",
    "Name: 137, dtype: int64"
   ]
  },
  {
   "cell_type": "markdown",
   "id": "8c053b79",
   "metadata": {},
   "source": [
    "nombre_infected        46\n",
    "nombre_sain          4584\n",
    "nombre_exposed         54\n",
    "nombre_recovered    15316\n",
    "Name: 138, dtype: int64"
   ]
  },
  {
   "cell_type": "markdown",
   "id": "d6f9fab0",
   "metadata": {},
   "source": [
    "nombre_infected        45\n",
    "nombre_sain          4623\n",
    "nombre_exposed         61\n",
    "nombre_recovered    15271\n",
    "Name: 139, dtype: int64"
   ]
  },
  {
   "cell_type": "markdown",
   "id": "a5a2804e",
   "metadata": {},
   "source": [
    "nombre_infected        46\n",
    "nombre_sain          4656\n",
    "nombre_exposed         64\n",
    "nombre_recovered    15234\n",
    "Name: 140, dtype: int64"
   ]
  },
  {
   "cell_type": "markdown",
   "id": "11318b97",
   "metadata": {},
   "source": [
    "nombre_infected        53\n",
    "nombre_sain          4701\n",
    "nombre_exposed         56\n",
    "nombre_recovered    15190\n",
    "Name: 141, dtype: int64"
   ]
  },
  {
   "cell_type": "markdown",
   "id": "2c7a7ef4",
   "metadata": {},
   "source": [
    "nombre_infected        62\n",
    "nombre_sain          4737\n",
    "nombre_exposed         57\n",
    "nombre_recovered    15144\n",
    "Name: 142, dtype: int64"
   ]
  },
  {
   "cell_type": "markdown",
   "id": "382ba7d3",
   "metadata": {},
   "source": [
    "nombre_infected        61\n",
    "nombre_sain          4776\n",
    "nombre_exposed         67\n",
    "nombre_recovered    15096\n",
    "Name: 143, dtype: int64"
   ]
  },
  {
   "cell_type": "markdown",
   "id": "f06da3e6",
   "metadata": {},
   "source": [
    "nombre_infected        58\n",
    "nombre_sain          4834\n",
    "nombre_exposed         72\n",
    "nombre_recovered    15036\n",
    "Name: 144, dtype: int64"
   ]
  },
  {
   "cell_type": "markdown",
   "id": "85b38ba2",
   "metadata": {},
   "source": [
    "nombre_infected        70\n",
    "nombre_sain          4872\n",
    "nombre_exposed         76\n",
    "nombre_recovered    14982\n",
    "Name: 145, dtype: int64"
   ]
  },
  {
   "cell_type": "markdown",
   "id": "d37520fe",
   "metadata": {},
   "source": [
    "nombre_infected        78\n",
    "nombre_sain          4906\n",
    "nombre_exposed         84\n",
    "nombre_recovered    14932\n",
    "Name: 146, dtype: int64"
   ]
  },
  {
   "cell_type": "markdown",
   "id": "bf177cd8",
   "metadata": {},
   "source": [
    "nombre_infected        82\n",
    "nombre_sain          4936\n",
    "nombre_exposed         92\n",
    "nombre_recovered    14890\n",
    "Name: 147, dtype: int64"
   ]
  },
  {
   "cell_type": "markdown",
   "id": "d160a891",
   "metadata": {},
   "source": [
    "nombre_infected        95\n",
    "nombre_sain          4968\n",
    "nombre_exposed         95\n",
    "nombre_recovered    14842\n",
    "Name: 148, dtype: int64"
   ]
  },
  {
   "cell_type": "markdown",
   "id": "2ae75292",
   "metadata": {},
   "source": [
    "nombre_infected       103\n",
    "nombre_sain          4988\n",
    "nombre_exposed        114\n",
    "nombre_recovered    14795\n",
    "Name: 149, dtype: int64"
   ]
  },
  {
   "cell_type": "markdown",
   "id": "e905a80c",
   "metadata": {},
   "source": [
    "nombre_infected       109\n",
    "nombre_sain          5035\n",
    "nombre_exposed        121\n",
    "nombre_recovered    14735\n",
    "Name: 150, dtype: int64"
   ]
  },
  {
   "cell_type": "markdown",
   "id": "46494c04",
   "metadata": {},
   "source": [
    "nombre_infected       129\n",
    "nombre_sain          5065\n",
    "nombre_exposed        122\n",
    "nombre_recovered    14684\n",
    "Name: 151, dtype: int64"
   ]
  },
  {
   "cell_type": "markdown",
   "id": "4d1f570f",
   "metadata": {},
   "source": [
    "nombre_infected       133\n",
    "nombre_sain          5081\n",
    "nombre_exposed        141\n",
    "nombre_recovered    14645\n",
    "Name: 152, dtype: int64"
   ]
  },
  {
   "cell_type": "markdown",
   "id": "8155354e",
   "metadata": {},
   "source": [
    "nombre_infected       146\n",
    "nombre_sain          5105\n",
    "nombre_exposed        140\n",
    "nombre_recovered    14609\n",
    "Name: 153, dtype: int64"
   ]
  },
  {
   "cell_type": "markdown",
   "id": "424a7232",
   "metadata": {},
   "source": [
    "nombre_infected       158\n",
    "nombre_sain          5106\n",
    "nombre_exposed        153\n",
    "nombre_recovered    14583\n",
    "Name: 154, dtype: int64"
   ]
  },
  {
   "cell_type": "markdown",
   "id": "6f9a4818",
   "metadata": {},
   "source": [
    "nombre_infected       163\n",
    "nombre_sain          5098\n",
    "nombre_exposed        179\n",
    "nombre_recovered    14560\n",
    "Name: 155, dtype: int64"
   ]
  },
  {
   "cell_type": "markdown",
   "id": "e9342298",
   "metadata": {},
   "source": [
    "nombre_infected       174\n",
    "nombre_sain          5088\n",
    "nombre_exposed        197\n",
    "nombre_recovered    14541\n",
    "Name: 156, dtype: int64"
   ]
  },
  {
   "cell_type": "markdown",
   "id": "fc9e3d58",
   "metadata": {},
   "source": [
    "nombre_infected       181\n",
    "nombre_sain          5081\n",
    "nombre_exposed        197\n",
    "nombre_recovered    14541\n",
    "Name: 157, dtype: int64"
   ]
  },
  {
   "cell_type": "markdown",
   "id": "abdaf673",
   "metadata": {},
   "source": [
    "nombre_infected       206\n",
    "nombre_sain          5072\n",
    "nombre_exposed        202\n",
    "nombre_recovered    14520\n",
    "Name: 158, dtype: int64"
   ]
  },
  {
   "cell_type": "markdown",
   "id": "de75733f",
   "metadata": {},
   "source": [
    "nombre_infected       218\n",
    "nombre_sain          5036\n",
    "nombre_exposed        246\n",
    "nombre_recovered    14500\n",
    "Name: 159, dtype: int64"
   ]
  },
  {
   "cell_type": "markdown",
   "id": "0d1691c9",
   "metadata": {},
   "source": [
    "nombre_infected       252\n",
    "nombre_sain          5010\n",
    "nombre_exposed        253\n",
    "nombre_recovered    14485\n",
    "Name: 160, dtype: int64"
   ]
  },
  {
   "cell_type": "markdown",
   "id": "78f22c81",
   "metadata": {},
   "source": [
    "nombre_infected       282\n",
    "nombre_sain          4958\n",
    "nombre_exposed        278\n",
    "nombre_recovered    14482\n",
    "Name: 161, dtype: int64"
   ]
  },
  {
   "cell_type": "markdown",
   "id": "465dba49",
   "metadata": {},
   "source": [
    "nombre_infected       305\n",
    "nombre_sain          4915\n",
    "nombre_exposed        306\n",
    "nombre_recovered    14474\n",
    "Name: 162, dtype: int64"
   ]
  },
  {
   "cell_type": "markdown",
   "id": "2a676208",
   "metadata": {},
   "source": [
    "nombre_infected       302\n",
    "nombre_sain          4845\n",
    "nombre_exposed        362\n",
    "nombre_recovered    14491\n",
    "Name: 163, dtype: int64"
   ]
  },
  {
   "cell_type": "markdown",
   "id": "b5836598",
   "metadata": {},
   "source": [
    "nombre_infected       335\n",
    "nombre_sain          4786\n",
    "nombre_exposed        386\n",
    "nombre_recovered    14493\n",
    "Name: 164, dtype: int64"
   ]
  },
  {
   "cell_type": "markdown",
   "id": "49552770",
   "metadata": {},
   "source": [
    "nombre_infected       389\n",
    "nombre_sain          4700\n",
    "nombre_exposed        402\n",
    "nombre_recovered    14509\n",
    "Name: 165, dtype: int64"
   ]
  },
  {
   "cell_type": "markdown",
   "id": "09d1a046",
   "metadata": {},
   "source": [
    "nombre_infected       412\n",
    "nombre_sain          4615\n",
    "nombre_exposed        436\n",
    "nombre_recovered    14537\n",
    "Name: 166, dtype: int64"
   ]
  },
  {
   "cell_type": "markdown",
   "id": "921a5e87",
   "metadata": {},
   "source": [
    "nombre_infected       442\n",
    "nombre_sain          4493\n",
    "nombre_exposed        491\n",
    "nombre_recovered    14574\n",
    "Name: 167, dtype: int64"
   ]
  },
  {
   "cell_type": "markdown",
   "id": "58d4cef7",
   "metadata": {},
   "source": [
    "nombre_infected       476\n",
    "nombre_sain          4412\n",
    "nombre_exposed        508\n",
    "nombre_recovered    14604\n",
    "Name: 168, dtype: int64"
   ]
  },
  {
   "cell_type": "markdown",
   "id": "8498e0b0",
   "metadata": {},
   "source": [
    "nombre_infected       520\n",
    "nombre_sain          4332\n",
    "nombre_exposed        510\n",
    "nombre_recovered    14638\n",
    "Name: 169, dtype: int64"
   ]
  },
  {
   "cell_type": "markdown",
   "id": "3d2a7b33",
   "metadata": {},
   "source": [
    "nombre_infected       542\n",
    "nombre_sain          4255\n",
    "nombre_exposed        524\n",
    "nombre_recovered    14679\n",
    "Name: 170, dtype: int64"
   ]
  },
  {
   "cell_type": "markdown",
   "id": "d76302fb",
   "metadata": {},
   "source": [
    "nombre_infected       575\n",
    "nombre_sain          4156\n",
    "nombre_exposed        555\n",
    "nombre_recovered    14714\n",
    "Name: 171, dtype: int64"
   ]
  },
  {
   "cell_type": "markdown",
   "id": "aaaeb341",
   "metadata": {},
   "source": [
    "nombre_infected       624\n",
    "nombre_sain          4042\n",
    "nombre_exposed        593\n",
    "nombre_recovered    14741\n",
    "Name: 172, dtype: int64"
   ]
  },
  {
   "cell_type": "markdown",
   "id": "6702fd91",
   "metadata": {},
   "source": [
    "nombre_infected       663\n",
    "nombre_sain          3940\n",
    "nombre_exposed        620\n",
    "nombre_recovered    14777\n",
    "Name: 173, dtype: int64"
   ]
  },
  {
   "cell_type": "markdown",
   "id": "375ec7c9",
   "metadata": {},
   "source": [
    "nombre_infected       720\n",
    "nombre_sain          3843\n",
    "nombre_exposed        652\n",
    "nombre_recovered    14785\n",
    "Name: 174, dtype: int64"
   ]
  },
  {
   "cell_type": "markdown",
   "id": "e7a4901d",
   "metadata": {},
   "source": [
    "nombre_infected       772\n",
    "nombre_sain          3731\n",
    "nombre_exposed        671\n",
    "nombre_recovered    14826\n",
    "Name: 175, dtype: int64"
   ]
  },
  {
   "cell_type": "markdown",
   "id": "aac3aed8",
   "metadata": {},
   "source": [
    "nombre_infected       820\n",
    "nombre_sain          3633\n",
    "nombre_exposed        702\n",
    "nombre_recovered    14845\n",
    "Name: 176, dtype: int64"
   ]
  },
  {
   "cell_type": "markdown",
   "id": "fe554d4c",
   "metadata": {},
   "source": [
    "nombre_infected       852\n",
    "nombre_sain          3545\n",
    "nombre_exposed        694\n",
    "nombre_recovered    14909\n",
    "Name: 177, dtype: int64"
   ]
  },
  {
   "cell_type": "markdown",
   "id": "057f00d3",
   "metadata": {},
   "source": [
    "nombre_infected       893\n",
    "nombre_sain          3417\n",
    "nombre_exposed        723\n",
    "nombre_recovered    14967\n",
    "Name: 178, dtype: int64"
   ]
  },
  {
   "cell_type": "markdown",
   "id": "9a90c9a6",
   "metadata": {},
   "source": [
    "nombre_infected       934\n",
    "nombre_sain          3318\n",
    "nombre_exposed        725\n",
    "nombre_recovered    15023\n",
    "Name: 179, dtype: int64"
   ]
  },
  {
   "cell_type": "markdown",
   "id": "88982848",
   "metadata": {},
   "source": [
    "nombre_infected       976\n",
    "nombre_sain          3180\n",
    "nombre_exposed        736\n",
    "nombre_recovered    15108\n",
    "Name: 180, dtype: int64"
   ]
  },
  {
   "cell_type": "markdown",
   "id": "cadacb27",
   "metadata": {},
   "source": [
    "nombre_infected      1010\n",
    "nombre_sain          3038\n",
    "nombre_exposed        764\n",
    "nombre_recovered    15188\n",
    "Name: 181, dtype: int64"
   ]
  },
  {
   "cell_type": "markdown",
   "id": "f95d1dc9",
   "metadata": {},
   "source": [
    "nombre_infected      1016\n",
    "nombre_sain          2915\n",
    "nombre_exposed        780\n",
    "nombre_recovered    15289\n",
    "Name: 182, dtype: int64"
   ]
  },
  {
   "cell_type": "markdown",
   "id": "a9090676",
   "metadata": {},
   "source": [
    "nombre_infected      1015\n",
    "nombre_sain          2808\n",
    "nombre_exposed        791\n",
    "nombre_recovered    15386\n",
    "Name: 183, dtype: int64"
   ]
  },
  {
   "cell_type": "markdown",
   "id": "305b78a2",
   "metadata": {},
   "source": [
    "nombre_infected      1052\n",
    "nombre_sain          2720\n",
    "nombre_exposed        745\n",
    "nombre_recovered    15483\n",
    "Name: 184, dtype: int64"
   ]
  },
  {
   "cell_type": "markdown",
   "id": "52041bc5",
   "metadata": {},
   "source": [
    "nombre_infected      1094\n",
    "nombre_sain          2587\n",
    "nombre_exposed        767\n",
    "nombre_recovered    15552\n",
    "Name: 185, dtype: int64"
   ]
  },
  {
   "cell_type": "markdown",
   "id": "77f1747b",
   "metadata": {},
   "source": [
    "nombre_infected      1119\n",
    "nombre_sain          2467\n",
    "nombre_exposed        776\n",
    "nombre_recovered    15638\n",
    "Name: 186, dtype: int64"
   ]
  },
  {
   "cell_type": "markdown",
   "id": "ba4aefc9",
   "metadata": {},
   "source": [
    "nombre_infected      1139\n",
    "nombre_sain          2362\n",
    "nombre_exposed        747\n",
    "nombre_recovered    15752\n",
    "Name: 187, dtype: int64"
   ]
  },
  {
   "cell_type": "markdown",
   "id": "c992f258",
   "metadata": {},
   "source": [
    "nombre_infected      1159\n",
    "nombre_sain          2256\n",
    "nombre_exposed        732\n",
    "nombre_recovered    15853\n",
    "Name: 188, dtype: int64"
   ]
  },
  {
   "cell_type": "markdown",
   "id": "ebf224a4",
   "metadata": {},
   "source": [
    "nombre_infected      1143\n",
    "nombre_sain          2158\n",
    "nombre_exposed        716\n",
    "nombre_recovered    15983\n",
    "Name: 189, dtype: int64"
   ]
  },
  {
   "cell_type": "markdown",
   "id": "e2b4fbd0",
   "metadata": {},
   "source": [
    "nombre_infected      1105\n",
    "nombre_sain          2058\n",
    "nombre_exposed        711\n",
    "nombre_recovered    16126\n",
    "Name: 190, dtype: int64"
   ]
  },
  {
   "cell_type": "markdown",
   "id": "f4e9c1a6",
   "metadata": {},
   "source": [
    "nombre_infected      1123\n",
    "nombre_sain          1983\n",
    "nombre_exposed        669\n",
    "nombre_recovered    16225\n",
    "Name: 191, dtype: int64"
   ]
  },
  {
   "cell_type": "markdown",
   "id": "587d86f2",
   "metadata": {},
   "source": [
    "nombre_infected      1160\n",
    "nombre_sain          1897\n",
    "nombre_exposed        623\n",
    "nombre_recovered    16320\n",
    "Name: 192, dtype: int64"
   ]
  },
  {
   "cell_type": "markdown",
   "id": "d16f106d",
   "metadata": {},
   "source": [
    "nombre_infected      1169\n",
    "nombre_sain          1833\n",
    "nombre_exposed        605\n",
    "nombre_recovered    16393\n",
    "Name: 193, dtype: int64"
   ]
  },
  {
   "cell_type": "markdown",
   "id": "12daac19",
   "metadata": {},
   "source": [
    "nombre_infected      1144\n",
    "nombre_sain          1783\n",
    "nombre_exposed        558\n",
    "nombre_recovered    16515\n",
    "Name: 194, dtype: int64"
   ]
  },
  {
   "cell_type": "markdown",
   "id": "875fd950",
   "metadata": {},
   "source": [
    "nombre_infected      1106\n",
    "nombre_sain          1720\n",
    "nombre_exposed        548\n",
    "nombre_recovered    16626\n",
    "Name: 195, dtype: int64"
   ]
  },
  {
   "cell_type": "markdown",
   "id": "1172a5c5",
   "metadata": {},
   "source": [
    "nombre_infected      1091\n",
    "nombre_sain          1680\n",
    "nombre_exposed        521\n",
    "nombre_recovered    16708\n",
    "Name: 196, dtype: int64"
   ]
  },
  {
   "cell_type": "markdown",
   "id": "f86f56de",
   "metadata": {},
   "source": [
    "nombre_infected      1054\n",
    "nombre_sain          1651\n",
    "nombre_exposed        486\n",
    "nombre_recovered    16809\n",
    "Name: 197, dtype: int64"
   ]
  },
  {
   "cell_type": "markdown",
   "id": "f5b6ee63",
   "metadata": {},
   "source": [
    "nombre_infected      1041\n",
    "nombre_sain          1638\n",
    "nombre_exposed        463\n",
    "nombre_recovered    16858\n",
    "Name: 198, dtype: int64"
   ]
  },
  {
   "cell_type": "markdown",
   "id": "2885e5cf",
   "metadata": {},
   "source": [
    "nombre_infected      1004\n",
    "nombre_sain          1604\n",
    "nombre_exposed        470\n",
    "nombre_recovered    16922\n",
    "Name: 199, dtype: int64"
   ]
  },
  {
   "cell_type": "markdown",
   "id": "b07691ea",
   "metadata": {},
   "source": [
    "nombre_infected       980\n",
    "nombre_sain          1617\n",
    "nombre_exposed        435\n",
    "nombre_recovered    16968\n",
    "Name: 200, dtype: int64"
   ]
  },
  {
   "cell_type": "markdown",
   "id": "92dc8b34",
   "metadata": {},
   "source": [
    "nombre_infected       918\n",
    "nombre_sain          1605\n",
    "nombre_exposed        441\n",
    "nombre_recovered    17036\n",
    "Name: 201, dtype: int64"
   ]
  },
  {
   "cell_type": "markdown",
   "id": "f41d72b7",
   "metadata": {},
   "source": [
    "nombre_infected       907\n",
    "nombre_sain          1613\n",
    "nombre_exposed        426\n",
    "nombre_recovered    17054\n",
    "Name: 202, dtype: int64"
   ]
  },
  {
   "cell_type": "markdown",
   "id": "34b1a349",
   "metadata": {},
   "source": [
    "nombre_infected       866\n",
    "nombre_sain          1643\n",
    "nombre_exposed        417\n",
    "nombre_recovered    17074\n",
    "Name: 203, dtype: int64"
   ]
  },
  {
   "cell_type": "markdown",
   "id": "2eff3771",
   "metadata": {},
   "source": [
    "nombre_infected       851\n",
    "nombre_sain          1665\n",
    "nombre_exposed        401\n",
    "nombre_recovered    17083\n",
    "Name: 204, dtype: int64"
   ]
  },
  {
   "cell_type": "markdown",
   "id": "d34b1f03",
   "metadata": {},
   "source": [
    "nombre_infected       829\n",
    "nombre_sain          1699\n",
    "nombre_exposed        396\n",
    "nombre_recovered    17076\n",
    "Name: 205, dtype: int64"
   ]
  },
  {
   "cell_type": "markdown",
   "id": "0f73e731",
   "metadata": {},
   "source": [
    "nombre_infected       792\n",
    "nombre_sain          1728\n",
    "nombre_exposed        380\n",
    "nombre_recovered    17100\n",
    "Name: 206, dtype: int64"
   ]
  },
  {
   "cell_type": "markdown",
   "id": "773fcd37",
   "metadata": {},
   "source": [
    "nombre_infected       761\n",
    "nombre_sain          1755\n",
    "nombre_exposed        380\n",
    "nombre_recovered    17104\n",
    "Name: 207, dtype: int64"
   ]
  },
  {
   "cell_type": "markdown",
   "id": "728bcd22",
   "metadata": {},
   "source": [
    "nombre_infected       726\n",
    "nombre_sain          1777\n",
    "nombre_exposed        387\n",
    "nombre_recovered    17110\n",
    "Name: 208, dtype: int64"
   ]
  },
  {
   "cell_type": "markdown",
   "id": "b2084b66",
   "metadata": {},
   "source": [
    "nombre_infected       727\n",
    "nombre_sain          1788\n",
    "nombre_exposed        378\n",
    "nombre_recovered    17107\n",
    "Name: 209, dtype: int64"
   ]
  },
  {
   "cell_type": "markdown",
   "id": "17d09850",
   "metadata": {},
   "source": [
    "nombre_infected       705\n",
    "nombre_sain          1798\n",
    "nombre_exposed        370\n",
    "nombre_recovered    17127\n",
    "Name: 210, dtype: int64"
   ]
  },
  {
   "cell_type": "markdown",
   "id": "05a5a287",
   "metadata": {},
   "source": [
    "nombre_infected       690\n",
    "nombre_sain          1820\n",
    "nombre_exposed        367\n",
    "nombre_recovered    17123\n",
    "Name: 211, dtype: int64"
   ]
  },
  {
   "cell_type": "markdown",
   "id": "0a29796a",
   "metadata": {},
   "source": [
    "nombre_infected       670\n",
    "nombre_sain          1828\n",
    "nombre_exposed        369\n",
    "nombre_recovered    17133\n",
    "Name: 212, dtype: int64"
   ]
  },
  {
   "cell_type": "markdown",
   "id": "063f7c14",
   "metadata": {},
   "source": [
    "nombre_infected       668\n",
    "nombre_sain          1841\n",
    "nombre_exposed        351\n",
    "nombre_recovered    17140\n",
    "Name: 213, dtype: int64"
   ]
  },
  {
   "cell_type": "markdown",
   "id": "1a6ec46c",
   "metadata": {},
   "source": [
    "nombre_infected       652\n",
    "nombre_sain          1861\n",
    "nombre_exposed        338\n",
    "nombre_recovered    17149\n",
    "Name: 214, dtype: int64"
   ]
  },
  {
   "cell_type": "markdown",
   "id": "90af3a83",
   "metadata": {},
   "source": [
    "nombre_infected       643\n",
    "nombre_sain          1855\n",
    "nombre_exposed        335\n",
    "nombre_recovered    17167\n",
    "Name: 215, dtype: int64"
   ]
  },
  {
   "cell_type": "markdown",
   "id": "c5730a2c",
   "metadata": {},
   "source": [
    "nombre_infected       631\n",
    "nombre_sain          1857\n",
    "nombre_exposed        339\n",
    "nombre_recovered    17173\n",
    "Name: 216, dtype: int64"
   ]
  },
  {
   "cell_type": "markdown",
   "id": "5db3d679",
   "metadata": {},
   "source": [
    "nombre_infected       636\n",
    "nombre_sain          1848\n",
    "nombre_exposed        328\n",
    "nombre_recovered    17188\n",
    "Name: 217, dtype: int64"
   ]
  },
  {
   "cell_type": "markdown",
   "id": "7045a301",
   "metadata": {},
   "source": [
    "nombre_infected       651\n",
    "nombre_sain          1856\n",
    "nombre_exposed        327\n",
    "nombre_recovered    17166\n",
    "Name: 218, dtype: int64"
   ]
  },
  {
   "cell_type": "markdown",
   "id": "176605e4",
   "metadata": {},
   "source": [
    "nombre_infected       642\n",
    "nombre_sain          1873\n",
    "nombre_exposed        315\n",
    "nombre_recovered    17170\n",
    "Name: 219, dtype: int64"
   ]
  },
  {
   "cell_type": "markdown",
   "id": "b71628b1",
   "metadata": {},
   "source": [
    "nombre_infected       624\n",
    "nombre_sain          1873\n",
    "nombre_exposed        320\n",
    "nombre_recovered    17183\n",
    "Name: 220, dtype: int64"
   ]
  },
  {
   "cell_type": "markdown",
   "id": "d94a3e3f",
   "metadata": {},
   "source": [
    "nombre_infected       620\n",
    "nombre_sain          1891\n",
    "nombre_exposed        294\n",
    "nombre_recovered    17195\n",
    "Name: 221, dtype: int64"
   ]
  },
  {
   "cell_type": "markdown",
   "id": "d8684c1c",
   "metadata": {},
   "source": [
    "nombre_infected       609\n",
    "nombre_sain          1911\n",
    "nombre_exposed        283\n",
    "nombre_recovered    17197\n",
    "Name: 222, dtype: int64"
   ]
  },
  {
   "cell_type": "markdown",
   "id": "fc438430",
   "metadata": {},
   "source": [
    "nombre_infected       609\n",
    "nombre_sain          1917\n",
    "nombre_exposed        285\n",
    "nombre_recovered    17189\n",
    "Name: 223, dtype: int64"
   ]
  },
  {
   "cell_type": "markdown",
   "id": "eadc5bc5",
   "metadata": {},
   "source": [
    "nombre_infected       597\n",
    "nombre_sain          1901\n",
    "nombre_exposed        301\n",
    "nombre_recovered    17201\n",
    "Name: 224, dtype: int64"
   ]
  },
  {
   "cell_type": "markdown",
   "id": "abbba8ea",
   "metadata": {},
   "source": [
    "nombre_infected       591\n",
    "nombre_sain          1915\n",
    "nombre_exposed        306\n",
    "nombre_recovered    17188\n",
    "Name: 225, dtype: int64"
   ]
  },
  {
   "cell_type": "markdown",
   "id": "fdb66b02",
   "metadata": {},
   "source": [
    "nombre_infected       581\n",
    "nombre_sain          1954\n",
    "nombre_exposed        280\n",
    "nombre_recovered    17185\n",
    "Name: 226, dtype: int64"
   ]
  },
  {
   "cell_type": "markdown",
   "id": "f5aa07f6",
   "metadata": {},
   "source": [
    "nombre_infected       565\n",
    "nombre_sain          1996\n",
    "nombre_exposed        278\n",
    "nombre_recovered    17161\n",
    "Name: 227, dtype: int64"
   ]
  },
  {
   "cell_type": "markdown",
   "id": "497b3965",
   "metadata": {},
   "source": [
    "nombre_infected       553\n",
    "nombre_sain          2034\n",
    "nombre_exposed        287\n",
    "nombre_recovered    17126\n",
    "Name: 228, dtype: int64"
   ]
  },
  {
   "cell_type": "markdown",
   "id": "2ddef0dc",
   "metadata": {},
   "source": [
    "nombre_infected       527\n",
    "nombre_sain          2063\n",
    "nombre_exposed        296\n",
    "nombre_recovered    17114\n",
    "Name: 229, dtype: int64"
   ]
  },
  {
   "cell_type": "markdown",
   "id": "12ecd171",
   "metadata": {},
   "source": [
    "nombre_infected       511\n",
    "nombre_sain          2101\n",
    "nombre_exposed        289\n",
    "nombre_recovered    17099\n",
    "Name: 230, dtype: int64"
   ]
  },
  {
   "cell_type": "markdown",
   "id": "e2ecf246",
   "metadata": {},
   "source": [
    "nombre_infected       505\n",
    "nombre_sain          2149\n",
    "nombre_exposed        275\n",
    "nombre_recovered    17071\n",
    "Name: 231, dtype: int64"
   ]
  },
  {
   "cell_type": "markdown",
   "id": "a2365cfe",
   "metadata": {},
   "source": [
    "nombre_infected       504\n",
    "nombre_sain          2186\n",
    "nombre_exposed        266\n",
    "nombre_recovered    17044\n",
    "Name: 232, dtype: int64"
   ]
  },
  {
   "cell_type": "markdown",
   "id": "1d0a81fd",
   "metadata": {},
   "source": [
    "nombre_infected       500\n",
    "nombre_sain          2233\n",
    "nombre_exposed        260\n",
    "nombre_recovered    17007\n",
    "Name: 233, dtype: int64"
   ]
  },
  {
   "cell_type": "markdown",
   "id": "dde8b6a1",
   "metadata": {},
   "source": [
    "nombre_infected       500\n",
    "nombre_sain          2274\n",
    "nombre_exposed        279\n",
    "nombre_recovered    16947\n",
    "Name: 234, dtype: int64"
   ]
  },
  {
   "cell_type": "markdown",
   "id": "ca532a00",
   "metadata": {},
   "source": [
    "nombre_infected       488\n",
    "nombre_sain          2322\n",
    "nombre_exposed        281\n",
    "nombre_recovered    16909\n",
    "Name: 235, dtype: int64"
   ]
  },
  {
   "cell_type": "markdown",
   "id": "ddfee361",
   "metadata": {},
   "source": [
    "nombre_infected       487\n",
    "nombre_sain          2345\n",
    "nombre_exposed        290\n",
    "nombre_recovered    16878\n",
    "Name: 236, dtype: int64"
   ]
  },
  {
   "cell_type": "markdown",
   "id": "5c426dea",
   "metadata": {},
   "source": [
    "nombre_infected       486\n",
    "nombre_sain          2388\n",
    "nombre_exposed        294\n",
    "nombre_recovered    16832\n",
    "Name: 237, dtype: int64"
   ]
  },
  {
   "cell_type": "markdown",
   "id": "24503afd",
   "metadata": {},
   "source": [
    "nombre_infected       498\n",
    "nombre_sain          2420\n",
    "nombre_exposed        296\n",
    "nombre_recovered    16786\n",
    "Name: 238, dtype: int64"
   ]
  },
  {
   "cell_type": "markdown",
   "id": "b9fe4c6a",
   "metadata": {},
   "source": [
    "nombre_infected       506\n",
    "nombre_sain          2453\n",
    "nombre_exposed        299\n",
    "nombre_recovered    16742\n",
    "Name: 239, dtype: int64"
   ]
  },
  {
   "cell_type": "markdown",
   "id": "872d2b74",
   "metadata": {},
   "source": [
    "nombre_infected       501\n",
    "nombre_sain          2505\n",
    "nombre_exposed        307\n",
    "nombre_recovered    16687\n",
    "Name: 240, dtype: int64"
   ]
  },
  {
   "cell_type": "markdown",
   "id": "aeb97391",
   "metadata": {},
   "source": [
    "nombre_infected       510\n",
    "nombre_sain          2548\n",
    "nombre_exposed        305\n",
    "nombre_recovered    16637\n",
    "Name: 241, dtype: int64"
   ]
  },
  {
   "cell_type": "markdown",
   "id": "16abb9e7",
   "metadata": {},
   "source": [
    "nombre_infected       499\n",
    "nombre_sain          2592\n",
    "nombre_exposed        320\n",
    "nombre_recovered    16589\n",
    "Name: 242, dtype: int64"
   ]
  },
  {
   "cell_type": "markdown",
   "id": "d9252937",
   "metadata": {},
   "source": [
    "nombre_infected       497\n",
    "nombre_sain          2609\n",
    "nombre_exposed        340\n",
    "nombre_recovered    16554\n",
    "Name: 243, dtype: int64"
   ]
  },
  {
   "cell_type": "markdown",
   "id": "c625785c",
   "metadata": {},
   "source": [
    "nombre_infected       504\n",
    "nombre_sain          2659\n",
    "nombre_exposed        340\n",
    "nombre_recovered    16497\n",
    "Name: 244, dtype: int64"
   ]
  },
  {
   "cell_type": "markdown",
   "id": "2e7c7856",
   "metadata": {},
   "source": [
    "nombre_infected       530\n",
    "nombre_sain          2687\n",
    "nombre_exposed        317\n",
    "nombre_recovered    16466\n",
    "Name: 245, dtype: int64"
   ]
  },
  {
   "cell_type": "markdown",
   "id": "c6ff1014",
   "metadata": {},
   "source": [
    "nombre_infected       521\n",
    "nombre_sain          2705\n",
    "nombre_exposed        328\n",
    "nombre_recovered    16446\n",
    "Name: 246, dtype: int64"
   ]
  },
  {
   "cell_type": "markdown",
   "id": "72b4a82b",
   "metadata": {},
   "source": [
    "nombre_infected       529\n",
    "nombre_sain          2720\n",
    "nombre_exposed        341\n",
    "nombre_recovered    16410\n",
    "Name: 247, dtype: int64"
   ]
  },
  {
   "cell_type": "markdown",
   "id": "9e5b0727",
   "metadata": {},
   "source": [
    "nombre_infected       544\n",
    "nombre_sain          2706\n",
    "nombre_exposed        364\n",
    "nombre_recovered    16386\n",
    "Name: 248, dtype: int64"
   ]
  },
  {
   "cell_type": "markdown",
   "id": "05f79776",
   "metadata": {},
   "source": [
    "nombre_infected       537\n",
    "nombre_sain          2731\n",
    "nombre_exposed        377\n",
    "nombre_recovered    16355\n",
    "Name: 249, dtype: int64"
   ]
  },
  {
   "cell_type": "markdown",
   "id": "229cfd02",
   "metadata": {},
   "source": [
    "nombre_infected       557\n",
    "nombre_sain          2738\n",
    "nombre_exposed        378\n",
    "nombre_recovered    16327\n",
    "Name: 250, dtype: int64"
   ]
  },
  {
   "cell_type": "markdown",
   "id": "9817910c",
   "metadata": {},
   "source": [
    "nombre_infected       581\n",
    "nombre_sain          2745\n",
    "nombre_exposed        376\n",
    "nombre_recovered    16298\n",
    "Name: 251, dtype: int64"
   ]
  },
  {
   "cell_type": "markdown",
   "id": "de677347",
   "metadata": {},
   "source": [
    "nombre_infected       598\n",
    "nombre_sain          2725\n",
    "nombre_exposed        392\n",
    "nombre_recovered    16285\n",
    "Name: 252, dtype: int64"
   ]
  },
  {
   "cell_type": "markdown",
   "id": "7a4dd592",
   "metadata": {},
   "source": [
    "nombre_infected       605\n",
    "nombre_sain          2724\n",
    "nombre_exposed        416\n",
    "nombre_recovered    16255\n",
    "Name: 253, dtype: int64"
   ]
  },
  {
   "cell_type": "markdown",
   "id": "500dfb4d",
   "metadata": {},
   "source": [
    "nombre_infected       623\n",
    "nombre_sain          2728\n",
    "nombre_exposed        436\n",
    "nombre_recovered    16213\n",
    "Name: 254, dtype: int64"
   ]
  },
  {
   "cell_type": "markdown",
   "id": "4bda336c",
   "metadata": {},
   "source": [
    "nombre_infected       656\n",
    "nombre_sain          2751\n",
    "nombre_exposed        422\n",
    "nombre_recovered    16171\n",
    "Name: 255, dtype: int64"
   ]
  },
  {
   "cell_type": "markdown",
   "id": "d4f9a2ac",
   "metadata": {},
   "source": [
    "nombre_infected       679\n",
    "nombre_sain          2742\n",
    "nombre_exposed        418\n",
    "nombre_recovered    16161\n",
    "Name: 256, dtype: int64"
   ]
  },
  {
   "cell_type": "markdown",
   "id": "17576593",
   "metadata": {},
   "source": [
    "nombre_infected       707\n",
    "nombre_sain          2738\n",
    "nombre_exposed        425\n",
    "nombre_recovered    16130\n",
    "Name: 257, dtype: int64"
   ]
  },
  {
   "cell_type": "markdown",
   "id": "b2c1fb33",
   "metadata": {},
   "source": [
    "nombre_infected       736\n",
    "nombre_sain          2715\n",
    "nombre_exposed        438\n",
    "nombre_recovered    16111\n",
    "Name: 258, dtype: int64"
   ]
  },
  {
   "cell_type": "markdown",
   "id": "30e34240",
   "metadata": {},
   "source": [
    "nombre_infected       736\n",
    "nombre_sain          2688\n",
    "nombre_exposed        457\n",
    "nombre_recovered    16119\n",
    "Name: 259, dtype: int64"
   ]
  },
  {
   "cell_type": "markdown",
   "id": "40c30053",
   "metadata": {},
   "source": [
    "nombre_infected       744\n",
    "nombre_sain          2669\n",
    "nombre_exposed        467\n",
    "nombre_recovered    16120\n",
    "Name: 260, dtype: int64"
   ]
  },
  {
   "cell_type": "markdown",
   "id": "23f8cd05",
   "metadata": {},
   "source": [
    "nombre_infected       767\n",
    "nombre_sain          2644\n",
    "nombre_exposed        493\n",
    "nombre_recovered    16096\n",
    "Name: 261, dtype: int64"
   ]
  },
  {
   "cell_type": "markdown",
   "id": "29b16d98",
   "metadata": {},
   "source": [
    "nombre_infected       784\n",
    "nombre_sain          2629\n",
    "nombre_exposed        500\n",
    "nombre_recovered    16087\n",
    "Name: 262, dtype: int64"
   ]
  },
  {
   "cell_type": "markdown",
   "id": "0c054951",
   "metadata": {},
   "source": [
    "nombre_infected       781\n",
    "nombre_sain          2595\n",
    "nombre_exposed        514\n",
    "nombre_recovered    16110\n",
    "Name: 263, dtype: int64"
   ]
  },
  {
   "cell_type": "markdown",
   "id": "527f08a9",
   "metadata": {},
   "source": [
    "nombre_infected       809\n",
    "nombre_sain          2566\n",
    "nombre_exposed        510\n",
    "nombre_recovered    16115\n",
    "Name: 264, dtype: int64"
   ]
  },
  {
   "cell_type": "markdown",
   "id": "2b9a1cec",
   "metadata": {},
   "source": [
    "nombre_infected       824\n",
    "nombre_sain          2515\n",
    "nombre_exposed        533\n",
    "nombre_recovered    16128\n",
    "Name: 265, dtype: int64"
   ]
  },
  {
   "cell_type": "markdown",
   "id": "74042a96",
   "metadata": {},
   "source": [
    "nombre_infected       853\n",
    "nombre_sain          2483\n",
    "nombre_exposed        526\n",
    "nombre_recovered    16138\n",
    "Name: 266, dtype: int64"
   ]
  },
  {
   "cell_type": "markdown",
   "id": "53daaf60",
   "metadata": {},
   "source": [
    "nombre_infected       891\n",
    "nombre_sain          2453\n",
    "nombre_exposed        518\n",
    "nombre_recovered    16138\n",
    "Name: 267, dtype: int64"
   ]
  },
  {
   "cell_type": "markdown",
   "id": "81d02c44",
   "metadata": {},
   "source": [
    "nombre_infected       903\n",
    "nombre_sain          2428\n",
    "nombre_exposed        504\n",
    "nombre_recovered    16165\n",
    "Name: 268, dtype: int64"
   ]
  },
  {
   "cell_type": "markdown",
   "id": "9b5efa57",
   "metadata": {},
   "source": [
    "nombre_infected       917\n",
    "nombre_sain          2383\n",
    "nombre_exposed        511\n",
    "nombre_recovered    16189\n",
    "Name: 269, dtype: int64"
   ]
  },
  {
   "cell_type": "markdown",
   "id": "7996818e",
   "metadata": {},
   "source": [
    "nombre_infected       934\n",
    "nombre_sain          2342\n",
    "nombre_exposed        523\n",
    "nombre_recovered    16201\n",
    "Name: 270, dtype: int64"
   ]
  },
  {
   "cell_type": "markdown",
   "id": "58f5766f",
   "metadata": {},
   "source": [
    "nombre_infected       939\n",
    "nombre_sain          2314\n",
    "nombre_exposed        525\n",
    "nombre_recovered    16222\n",
    "Name: 271, dtype: int64"
   ]
  },
  {
   "cell_type": "markdown",
   "id": "75643d0c",
   "metadata": {},
   "source": [
    "nombre_infected       939\n",
    "nombre_sain          2293\n",
    "nombre_exposed        541\n",
    "nombre_recovered    16227\n",
    "Name: 272, dtype: int64"
   ]
  },
  {
   "cell_type": "markdown",
   "id": "42178fbf",
   "metadata": {},
   "source": [
    "nombre_infected       956\n",
    "nombre_sain          2276\n",
    "nombre_exposed        538\n",
    "nombre_recovered    16230\n",
    "Name: 273, dtype: int64"
   ]
  },
  {
   "cell_type": "markdown",
   "id": "f98651eb",
   "metadata": {},
   "source": [
    "nombre_infected       944\n",
    "nombre_sain          2270\n",
    "nombre_exposed        540\n",
    "nombre_recovered    16246\n",
    "Name: 274, dtype: int64"
   ]
  },
  {
   "cell_type": "markdown",
   "id": "cf247761",
   "metadata": {},
   "source": [
    "nombre_infected       943\n",
    "nombre_sain          2244\n",
    "nombre_exposed        549\n",
    "nombre_recovered    16264\n",
    "Name: 275, dtype: int64"
   ]
  },
  {
   "cell_type": "markdown",
   "id": "79b06935",
   "metadata": {},
   "source": [
    "nombre_infected       940\n",
    "nombre_sain          2253\n",
    "nombre_exposed        531\n",
    "nombre_recovered    16276\n",
    "Name: 276, dtype: int64"
   ]
  },
  {
   "cell_type": "markdown",
   "id": "beda57f1",
   "metadata": {},
   "source": [
    "nombre_infected       962\n",
    "nombre_sain          2236\n",
    "nombre_exposed        531\n",
    "nombre_recovered    16271\n",
    "Name: 277, dtype: int64"
   ]
  },
  {
   "cell_type": "markdown",
   "id": "bc901c2a",
   "metadata": {},
   "source": [
    "nombre_infected       969\n",
    "nombre_sain          2215\n",
    "nombre_exposed        524\n",
    "nombre_recovered    16292\n",
    "Name: 278, dtype: int64"
   ]
  },
  {
   "cell_type": "markdown",
   "id": "2cbc4696",
   "metadata": {},
   "source": [
    "nombre_infected       977\n",
    "nombre_sain          2243\n",
    "nombre_exposed        496\n",
    "nombre_recovered    16284\n",
    "Name: 279, dtype: int64"
   ]
  },
  {
   "cell_type": "markdown",
   "id": "630cf9a7",
   "metadata": {},
   "source": [
    "nombre_infected       968\n",
    "nombre_sain          2216\n",
    "nombre_exposed        519\n",
    "nombre_recovered    16297\n",
    "Name: 280, dtype: int64"
   ]
  },
  {
   "cell_type": "markdown",
   "id": "0186033c",
   "metadata": {},
   "source": [
    "nombre_infected       980\n",
    "nombre_sain          2198\n",
    "nombre_exposed        517\n",
    "nombre_recovered    16305\n",
    "Name: 281, dtype: int64"
   ]
  },
  {
   "cell_type": "markdown",
   "id": "44f56741",
   "metadata": {},
   "source": [
    "nombre_infected       958\n",
    "nombre_sain          2200\n",
    "nombre_exposed        527\n",
    "nombre_recovered    16315\n",
    "Name: 282, dtype: int64"
   ]
  },
  {
   "cell_type": "markdown",
   "id": "39c54ae5",
   "metadata": {},
   "source": [
    "nombre_infected       953\n",
    "nombre_sain          2193\n",
    "nombre_exposed        506\n",
    "nombre_recovered    16348\n",
    "Name: 283, dtype: int64"
   ]
  },
  {
   "cell_type": "markdown",
   "id": "8da4d44d",
   "metadata": {},
   "source": [
    "nombre_infected       937\n",
    "nombre_sain          2181\n",
    "nombre_exposed        509\n",
    "nombre_recovered    16373\n",
    "Name: 284, dtype: int64"
   ]
  },
  {
   "cell_type": "markdown",
   "id": "e4b316ab",
   "metadata": {},
   "source": [
    "nombre_infected       934\n",
    "nombre_sain          2168\n",
    "nombre_exposed        518\n",
    "nombre_recovered    16380\n",
    "Name: 285, dtype: int64"
   ]
  },
  {
   "cell_type": "markdown",
   "id": "97560798",
   "metadata": {},
   "source": [
    "nombre_infected       902\n",
    "nombre_sain          2136\n",
    "nombre_exposed        536\n",
    "nombre_recovered    16426\n",
    "Name: 286, dtype: int64"
   ]
  },
  {
   "cell_type": "markdown",
   "id": "46fdf6c4",
   "metadata": {},
   "source": [
    "nombre_infected       898\n",
    "nombre_sain          2084\n",
    "nombre_exposed        528\n",
    "nombre_recovered    16490\n",
    "Name: 287, dtype: int64"
   ]
  },
  {
   "cell_type": "markdown",
   "id": "38007c15",
   "metadata": {},
   "source": [
    "nombre_infected       918\n",
    "nombre_sain          2103\n",
    "nombre_exposed        502\n",
    "nombre_recovered    16477\n",
    "Name: 288, dtype: int64"
   ]
  },
  {
   "cell_type": "markdown",
   "id": "a273bcd6",
   "metadata": {},
   "source": [
    "nombre_infected       947\n",
    "nombre_sain          2092\n",
    "nombre_exposed        490\n",
    "nombre_recovered    16471\n",
    "Name: 289, dtype: int64"
   ]
  },
  {
   "cell_type": "markdown",
   "id": "3370ccf2",
   "metadata": {},
   "source": [
    "nombre_infected       938\n",
    "nombre_sain          2097\n",
    "nombre_exposed        496\n",
    "nombre_recovered    16469\n",
    "Name: 290, dtype: int64"
   ]
  },
  {
   "cell_type": "markdown",
   "id": "a49e44e3",
   "metadata": {},
   "source": [
    "nombre_infected       922\n",
    "nombre_sain          2097\n",
    "nombre_exposed        477\n",
    "nombre_recovered    16504\n",
    "Name: 291, dtype: int64"
   ]
  },
  {
   "cell_type": "markdown",
   "id": "7961973e",
   "metadata": {},
   "source": [
    "nombre_infected       915\n",
    "nombre_sain          2101\n",
    "nombre_exposed        467\n",
    "nombre_recovered    16517\n",
    "Name: 292, dtype: int64"
   ]
  },
  {
   "cell_type": "markdown",
   "id": "bd584f43",
   "metadata": {},
   "source": [
    "nombre_infected       880\n",
    "nombre_sain          2113\n",
    "nombre_exposed        482\n",
    "nombre_recovered    16525\n",
    "Name: 293, dtype: int64"
   ]
  },
  {
   "cell_type": "markdown",
   "id": "db8e8e37",
   "metadata": {},
   "source": [
    "nombre_infected       875\n",
    "nombre_sain          2105\n",
    "nombre_exposed        471\n",
    "nombre_recovered    16549\n",
    "Name: 294, dtype: int64"
   ]
  },
  {
   "cell_type": "markdown",
   "id": "ce1b60c6",
   "metadata": {},
   "source": [
    "nombre_infected       857\n",
    "nombre_sain          2093\n",
    "nombre_exposed        494\n",
    "nombre_recovered    16556\n",
    "Name: 295, dtype: int64"
   ]
  },
  {
   "cell_type": "markdown",
   "id": "194f2e87",
   "metadata": {},
   "source": [
    "nombre_infected       850\n",
    "nombre_sain          2106\n",
    "nombre_exposed        482\n",
    "nombre_recovered    16562\n",
    "Name: 296, dtype: int64"
   ]
  },
  {
   "cell_type": "markdown",
   "id": "b076c19e",
   "metadata": {},
   "source": [
    "nombre_infected       843\n",
    "nombre_sain          2112\n",
    "nombre_exposed        483\n",
    "nombre_recovered    16562\n",
    "Name: 297, dtype: int64"
   ]
  },
  {
   "cell_type": "markdown",
   "id": "81155e7f",
   "metadata": {},
   "source": [
    "nombre_infected       836\n",
    "nombre_sain          2125\n",
    "nombre_exposed        442\n",
    "nombre_recovered    16597\n",
    "Name: 298, dtype: int64"
   ]
  },
  {
   "cell_type": "markdown",
   "id": "1822ef7b",
   "metadata": {},
   "source": [
    "nombre_infected       834\n",
    "nombre_sain          2138\n",
    "nombre_exposed        430\n",
    "nombre_recovered    16598\n",
    "Name: 299, dtype: int64"
   ]
  },
  {
   "cell_type": "markdown",
   "id": "b4564c47",
   "metadata": {},
   "source": [
    "nombre_infected       811\n",
    "nombre_sain          2179\n",
    "nombre_exposed        411\n",
    "nombre_recovered    16599\n",
    "Name: 300, dtype: int64"
   ]
  },
  {
   "cell_type": "markdown",
   "id": "ddccd98f",
   "metadata": {},
   "source": [
    "nombre_infected       805\n",
    "nombre_sain          2208\n",
    "nombre_exposed        408\n",
    "nombre_recovered    16579\n",
    "Name: 301, dtype: int64"
   ]
  },
  {
   "cell_type": "markdown",
   "id": "a557cf82",
   "metadata": {},
   "source": [
    "nombre_infected       788\n",
    "nombre_sain          2219\n",
    "nombre_exposed        412\n",
    "nombre_recovered    16581\n",
    "Name: 302, dtype: int64"
   ]
  },
  {
   "cell_type": "markdown",
   "id": "376c1d65",
   "metadata": {},
   "source": [
    "nombre_infected       778\n",
    "nombre_sain          2240\n",
    "nombre_exposed        424\n",
    "nombre_recovered    16558\n",
    "Name: 303, dtype: int64"
   ]
  },
  {
   "cell_type": "markdown",
   "id": "cbc6990e",
   "metadata": {},
   "source": [
    "nombre_infected       732\n",
    "nombre_sain          2248\n",
    "nombre_exposed        462\n",
    "nombre_recovered    16558\n",
    "Name: 304, dtype: int64"
   ]
  },
  {
   "cell_type": "markdown",
   "id": "772d98eb",
   "metadata": {},
   "source": [
    "nombre_infected       715\n",
    "nombre_sain          2295\n",
    "nombre_exposed        455\n",
    "nombre_recovered    16535\n",
    "Name: 305, dtype: int64"
   ]
  },
  {
   "cell_type": "markdown",
   "id": "adecd94d",
   "metadata": {},
   "source": [
    "nombre_infected       728\n",
    "nombre_sain          2326\n",
    "nombre_exposed        443\n",
    "nombre_recovered    16503\n",
    "Name: 306, dtype: int64"
   ]
  },
  {
   "cell_type": "markdown",
   "id": "8e2ee5bc",
   "metadata": {},
   "source": [
    "nombre_infected       713\n",
    "nombre_sain          2329\n",
    "nombre_exposed        462\n",
    "nombre_recovered    16496\n",
    "Name: 307, dtype: int64"
   ]
  },
  {
   "cell_type": "markdown",
   "id": "8ef92f59",
   "metadata": {},
   "source": [
    "nombre_infected       722\n",
    "nombre_sain          2348\n",
    "nombre_exposed        478\n",
    "nombre_recovered    16452\n",
    "Name: 308, dtype: int64"
   ]
  },
  {
   "cell_type": "markdown",
   "id": "301b4392",
   "metadata": {},
   "source": [
    "nombre_infected       732\n",
    "nombre_sain          2343\n",
    "nombre_exposed        488\n",
    "nombre_recovered    16437\n",
    "Name: 309, dtype: int64"
   ]
  },
  {
   "cell_type": "markdown",
   "id": "bb4bfd57",
   "metadata": {},
   "source": [
    "nombre_infected       729\n",
    "nombre_sain          2368\n",
    "nombre_exposed        491\n",
    "nombre_recovered    16412\n",
    "Name: 310, dtype: int64"
   ]
  },
  {
   "cell_type": "markdown",
   "id": "fb36ea52",
   "metadata": {},
   "source": [
    "nombre_infected       734\n",
    "nombre_sain          2402\n",
    "nombre_exposed        494\n",
    "nombre_recovered    16370\n",
    "Name: 311, dtype: int64"
   ]
  },
  {
   "cell_type": "markdown",
   "id": "fbf13f32",
   "metadata": {},
   "source": [
    "nombre_infected       756\n",
    "nombre_sain          2419\n",
    "nombre_exposed        495\n",
    "nombre_recovered    16330\n",
    "Name: 312, dtype: int64"
   ]
  },
  {
   "cell_type": "markdown",
   "id": "066e5d70",
   "metadata": {},
   "source": [
    "nombre_infected       770\n",
    "nombre_sain          2438\n",
    "nombre_exposed        481\n",
    "nombre_recovered    16311\n",
    "Name: 313, dtype: int64"
   ]
  },
  {
   "cell_type": "markdown",
   "id": "96adbe05",
   "metadata": {},
   "source": [
    "nombre_infected       787\n",
    "nombre_sain          2443\n",
    "nombre_exposed        482\n",
    "nombre_recovered    16288\n",
    "Name: 314, dtype: int64"
   ]
  },
  {
   "cell_type": "markdown",
   "id": "96aa8446",
   "metadata": {},
   "source": [
    "nombre_infected       779\n",
    "nombre_sain          2443\n",
    "nombre_exposed        493\n",
    "nombre_recovered    16285\n",
    "Name: 315, dtype: int64"
   ]
  },
  {
   "cell_type": "markdown",
   "id": "4d25d376",
   "metadata": {},
   "source": [
    "nombre_infected       796\n",
    "nombre_sain          2458\n",
    "nombre_exposed        503\n",
    "nombre_recovered    16243\n",
    "Name: 316, dtype: int64"
   ]
  },
  {
   "cell_type": "markdown",
   "id": "80ba1132",
   "metadata": {},
   "source": [
    "nombre_infected       821\n",
    "nombre_sain          2424\n",
    "nombre_exposed        510\n",
    "nombre_recovered    16245\n",
    "Name: 317, dtype: int64"
   ]
  },
  {
   "cell_type": "markdown",
   "id": "2b6b087f",
   "metadata": {},
   "source": [
    "nombre_infected       829\n",
    "nombre_sain          2420\n",
    "nombre_exposed        497\n",
    "nombre_recovered    16254\n",
    "Name: 318, dtype: int64"
   ]
  },
  {
   "cell_type": "markdown",
   "id": "39ebb658",
   "metadata": {},
   "source": [
    "nombre_infected       823\n",
    "nombre_sain          2415\n",
    "nombre_exposed        522\n",
    "nombre_recovered    16240\n",
    "Name: 319, dtype: int64"
   ]
  },
  {
   "cell_type": "markdown",
   "id": "bd718083",
   "metadata": {},
   "source": [
    "nombre_infected       840\n",
    "nombre_sain          2406\n",
    "nombre_exposed        510\n",
    "nombre_recovered    16244\n",
    "Name: 320, dtype: int64"
   ]
  },
  {
   "cell_type": "markdown",
   "id": "9d0de5a5",
   "metadata": {},
   "source": [
    "nombre_infected       845\n",
    "nombre_sain          2394\n",
    "nombre_exposed        500\n",
    "nombre_recovered    16261\n",
    "Name: 321, dtype: int64"
   ]
  },
  {
   "cell_type": "markdown",
   "id": "a7716e11",
   "metadata": {},
   "source": [
    "nombre_infected       842\n",
    "nombre_sain          2380\n",
    "nombre_exposed        497\n",
    "nombre_recovered    16281\n",
    "Name: 322, dtype: int64"
   ]
  },
  {
   "cell_type": "markdown",
   "id": "8d31666f",
   "metadata": {},
   "source": [
    "nombre_infected       855\n",
    "nombre_sain          2353\n",
    "nombre_exposed        500\n",
    "nombre_recovered    16292\n",
    "Name: 323, dtype: int64"
   ]
  },
  {
   "cell_type": "markdown",
   "id": "e360ebb5",
   "metadata": {},
   "source": [
    "nombre_infected       852\n",
    "nombre_sain          2364\n",
    "nombre_exposed        497\n",
    "nombre_recovered    16287\n",
    "Name: 324, dtype: int64"
   ]
  },
  {
   "cell_type": "markdown",
   "id": "0c8f47d2",
   "metadata": {},
   "source": [
    "nombre_infected       849\n",
    "nombre_sain          2349\n",
    "nombre_exposed        495\n",
    "nombre_recovered    16307\n",
    "Name: 325, dtype: int64"
   ]
  },
  {
   "cell_type": "markdown",
   "id": "76ac954e",
   "metadata": {},
   "source": [
    "nombre_infected       847\n",
    "nombre_sain          2339\n",
    "nombre_exposed        493\n",
    "nombre_recovered    16321\n",
    "Name: 326, dtype: int64"
   ]
  },
  {
   "cell_type": "markdown",
   "id": "ee3e50eb",
   "metadata": {},
   "source": [
    "nombre_infected       834\n",
    "nombre_sain          2317\n",
    "nombre_exposed        516\n",
    "nombre_recovered    16333\n",
    "Name: 327, dtype: int64"
   ]
  },
  {
   "cell_type": "markdown",
   "id": "d777606e",
   "metadata": {},
   "source": [
    "nombre_infected       838\n",
    "nombre_sain          2282\n",
    "nombre_exposed        516\n",
    "nombre_recovered    16364\n",
    "Name: 328, dtype: int64"
   ]
  },
  {
   "cell_type": "markdown",
   "id": "2c73e26f",
   "metadata": {},
   "source": [
    "nombre_infected       858\n",
    "nombre_sain          2273\n",
    "nombre_exposed        505\n",
    "nombre_recovered    16364\n",
    "Name: 329, dtype: int64"
   ]
  },
  {
   "cell_type": "markdown",
   "id": "5be9610f",
   "metadata": {},
   "source": [
    "nombre_infected       849\n",
    "nombre_sain          2257\n",
    "nombre_exposed        482\n",
    "nombre_recovered    16412\n",
    "Name: 330, dtype: int64"
   ]
  },
  {
   "cell_type": "markdown",
   "id": "de9ae2c0",
   "metadata": {},
   "source": [
    "nombre_infected       858\n",
    "nombre_sain          2256\n",
    "nombre_exposed        463\n",
    "nombre_recovered    16423\n",
    "Name: 331, dtype: int64"
   ]
  },
  {
   "cell_type": "markdown",
   "id": "db3ae01f",
   "metadata": {},
   "source": [
    "nombre_infected       862\n",
    "nombre_sain          2237\n",
    "nombre_exposed        473\n",
    "nombre_recovered    16428\n",
    "Name: 332, dtype: int64"
   ]
  },
  {
   "cell_type": "markdown",
   "id": "26c83070",
   "metadata": {},
   "source": [
    "nombre_infected       837\n",
    "nombre_sain          2225\n",
    "nombre_exposed        474\n",
    "nombre_recovered    16464\n",
    "Name: 333, dtype: int64"
   ]
  },
  {
   "cell_type": "markdown",
   "id": "a06e9014",
   "metadata": {},
   "source": [
    "nombre_infected       841\n",
    "nombre_sain          2222\n",
    "nombre_exposed        465\n",
    "nombre_recovered    16472\n",
    "Name: 334, dtype: int64"
   ]
  },
  {
   "cell_type": "markdown",
   "id": "62e71d2a",
   "metadata": {},
   "source": [
    "nombre_infected       849\n",
    "nombre_sain          2212\n",
    "nombre_exposed        454\n",
    "nombre_recovered    16485\n",
    "Name: 335, dtype: int64"
   ]
  },
  {
   "cell_type": "markdown",
   "id": "e5bbef4e",
   "metadata": {},
   "source": [
    "nombre_infected       825\n",
    "nombre_sain          2207\n",
    "nombre_exposed        444\n",
    "nombre_recovered    16524\n",
    "Name: 336, dtype: int64"
   ]
  },
  {
   "cell_type": "markdown",
   "id": "f3c0828d",
   "metadata": {},
   "source": [
    "nombre_infected       824\n",
    "nombre_sain          2194\n",
    "nombre_exposed        444\n",
    "nombre_recovered    16538\n",
    "Name: 337, dtype: int64"
   ]
  },
  {
   "cell_type": "markdown",
   "id": "114cce2a",
   "metadata": {},
   "source": [
    "nombre_infected       799\n",
    "nombre_sain          2197\n",
    "nombre_exposed        438\n",
    "nombre_recovered    16566\n",
    "Name: 338, dtype: int64"
   ]
  },
  {
   "cell_type": "markdown",
   "id": "5d72cea1",
   "metadata": {},
   "source": [
    "nombre_infected       782\n",
    "nombre_sain          2223\n",
    "nombre_exposed        457\n",
    "nombre_recovered    16538\n",
    "Name: 339, dtype: int64"
   ]
  },
  {
   "cell_type": "markdown",
   "id": "22480557",
   "metadata": {},
   "source": [
    "nombre_infected       800\n",
    "nombre_sain          2209\n",
    "nombre_exposed        437\n",
    "nombre_recovered    16554\n",
    "Name: 340, dtype: int64"
   ]
  },
  {
   "cell_type": "markdown",
   "id": "9e8e4126",
   "metadata": {},
   "source": [
    "nombre_infected       808\n",
    "nombre_sain          2192\n",
    "nombre_exposed        439\n",
    "nombre_recovered    16561\n",
    "Name: 341, dtype: int64"
   ]
  },
  {
   "cell_type": "markdown",
   "id": "6d96dab1",
   "metadata": {},
   "source": [
    "nombre_infected       797\n",
    "nombre_sain          2194\n",
    "nombre_exposed        443\n",
    "nombre_recovered    16566\n",
    "Name: 342, dtype: int64"
   ]
  },
  {
   "cell_type": "markdown",
   "id": "e229dcc8",
   "metadata": {},
   "source": [
    "nombre_infected       793\n",
    "nombre_sain          2203\n",
    "nombre_exposed        438\n",
    "nombre_recovered    16566\n",
    "Name: 343, dtype: int64"
   ]
  },
  {
   "cell_type": "markdown",
   "id": "f1dda666",
   "metadata": {},
   "source": [
    "nombre_infected       772\n",
    "nombre_sain          2220\n",
    "nombre_exposed        439\n",
    "nombre_recovered    16569\n",
    "Name: 344, dtype: int64"
   ]
  },
  {
   "cell_type": "markdown",
   "id": "06fd56ef",
   "metadata": {},
   "source": [
    "nombre_infected       774\n",
    "nombre_sain          2217\n",
    "nombre_exposed        452\n",
    "nombre_recovered    16557\n",
    "Name: 345, dtype: int64"
   ]
  },
  {
   "cell_type": "markdown",
   "id": "01c03cc0",
   "metadata": {},
   "source": [
    "nombre_infected       757\n",
    "nombre_sain          2254\n",
    "nombre_exposed        462\n",
    "nombre_recovered    16527\n",
    "Name: 346, dtype: int64"
   ]
  },
  {
   "cell_type": "markdown",
   "id": "f1fe9183",
   "metadata": {},
   "source": [
    "nombre_infected       751\n",
    "nombre_sain          2276\n",
    "nombre_exposed        466\n",
    "nombre_recovered    16507\n",
    "Name: 347, dtype: int64"
   ]
  },
  {
   "cell_type": "markdown",
   "id": "157f3aa4",
   "metadata": {},
   "source": [
    "nombre_infected       765\n",
    "nombre_sain          2314\n",
    "nombre_exposed        471\n",
    "nombre_recovered    16450\n",
    "Name: 348, dtype: int64"
   ]
  },
  {
   "cell_type": "markdown",
   "id": "12e85b1c",
   "metadata": {},
   "source": [
    "nombre_infected       770\n",
    "nombre_sain          2321\n",
    "nombre_exposed        492\n",
    "nombre_recovered    16417\n",
    "Name: 349, dtype: int64"
   ]
  },
  {
   "cell_type": "markdown",
   "id": "be48f162",
   "metadata": {},
   "source": [
    "nombre_infected       778\n",
    "nombre_sain          2320\n",
    "nombre_exposed        487\n",
    "nombre_recovered    16415\n",
    "Name: 350, dtype: int64"
   ]
  },
  {
   "cell_type": "markdown",
   "id": "aef22fdc",
   "metadata": {},
   "source": [
    "nombre_infected       791\n",
    "nombre_sain          2343\n",
    "nombre_exposed        463\n",
    "nombre_recovered    16403\n",
    "Name: 351, dtype: int64"
   ]
  },
  {
   "cell_type": "markdown",
   "id": "9ef16b0b",
   "metadata": {},
   "source": [
    "nombre_infected       790\n",
    "nombre_sain          2356\n",
    "nombre_exposed        461\n",
    "nombre_recovered    16393\n",
    "Name: 352, dtype: int64"
   ]
  },
  {
   "cell_type": "markdown",
   "id": "714411da",
   "metadata": {},
   "source": [
    "nombre_infected       775\n",
    "nombre_sain          2366\n",
    "nombre_exposed        463\n",
    "nombre_recovered    16396\n",
    "Name: 353, dtype: int64"
   ]
  },
  {
   "cell_type": "markdown",
   "id": "cc64053d",
   "metadata": {},
   "source": [
    "nombre_infected       772\n",
    "nombre_sain          2372\n",
    "nombre_exposed        461\n",
    "nombre_recovered    16395\n",
    "Name: 354, dtype: int64"
   ]
  },
  {
   "cell_type": "markdown",
   "id": "908c38e4",
   "metadata": {},
   "source": [
    "nombre_infected       767\n",
    "nombre_sain          2371\n",
    "nombre_exposed        476\n",
    "nombre_recovered    16386\n",
    "Name: 355, dtype: int64"
   ]
  },
  {
   "cell_type": "markdown",
   "id": "0aebec18",
   "metadata": {},
   "source": [
    "nombre_infected       766\n",
    "nombre_sain          2379\n",
    "nombre_exposed        472\n",
    "nombre_recovered    16383\n",
    "Name: 356, dtype: int64"
   ]
  },
  {
   "cell_type": "markdown",
   "id": "61c5bb41",
   "metadata": {},
   "source": [
    "nombre_infected       749\n",
    "nombre_sain          2384\n",
    "nombre_exposed        477\n",
    "nombre_recovered    16390\n",
    "Name: 357, dtype: int64"
   ]
  },
  {
   "cell_type": "markdown",
   "id": "4db8e00a",
   "metadata": {},
   "source": [
    "nombre_infected       744\n",
    "nombre_sain          2377\n",
    "nombre_exposed        475\n",
    "nombre_recovered    16404\n",
    "Name: 358, dtype: int64"
   ]
  },
  {
   "cell_type": "markdown",
   "id": "5393b0a3",
   "metadata": {},
   "source": [
    "nombre_infected       752\n",
    "nombre_sain          2379\n",
    "nombre_exposed        456\n",
    "nombre_recovered    16413\n",
    "Name: 359, dtype: int64"
   ]
  },
  {
   "cell_type": "markdown",
   "id": "fdf1d2b6",
   "metadata": {},
   "source": [
    "nombre_infected       763\n",
    "nombre_sain          2388\n",
    "nombre_exposed        451\n",
    "nombre_recovered    16398\n",
    "Name: 360, dtype: int64"
   ]
  },
  {
   "cell_type": "markdown",
   "id": "ed900707",
   "metadata": {},
   "source": [
    "nombre_infected       738\n",
    "nombre_sain          2384\n",
    "nombre_exposed        472\n",
    "nombre_recovered    16406\n",
    "Name: 361, dtype: int64"
   ]
  },
  {
   "cell_type": "markdown",
   "id": "9d42da8b",
   "metadata": {},
   "source": [
    "nombre_infected       724\n",
    "nombre_sain          2369\n",
    "nombre_exposed        491\n",
    "nombre_recovered    16416\n",
    "Name: 362, dtype: int64"
   ]
  },
  {
   "cell_type": "markdown",
   "id": "3939e766",
   "metadata": {},
   "source": [
    "nombre_infected       739\n",
    "nombre_sain          2345\n",
    "nombre_exposed        491\n",
    "nombre_recovered    16425\n",
    "Name: 363, dtype: int64"
   ]
  },
  {
   "cell_type": "markdown",
   "id": "30e394b6",
   "metadata": {},
   "source": [
    "nombre_infected       744\n",
    "nombre_sain          2335\n",
    "nombre_exposed        499\n",
    "nombre_recovered    16422\n",
    "Name: 364, dtype: int64"
   ]
  },
  {
   "cell_type": "markdown",
   "id": "6f30f8b0",
   "metadata": {},
   "source": [
    "nombre_infected       756\n",
    "nombre_sain          2334\n",
    "nombre_exposed        499\n",
    "nombre_recovered    16411\n",
    "Name: 365, dtype: int64"
   ]
  },
  {
   "cell_type": "markdown",
   "id": "e8ef0d8d",
   "metadata": {},
   "source": [
    "nombre_infected       749\n",
    "nombre_sain          2322\n",
    "nombre_exposed        511\n",
    "nombre_recovered    16418\n",
    "Name: 366, dtype: int64"
   ]
  },
  {
   "cell_type": "markdown",
   "id": "83be53a4",
   "metadata": {},
   "source": [
    "nombre_infected       747\n",
    "nombre_sain          2302\n",
    "nombre_exposed        504\n",
    "nombre_recovered    16447\n",
    "Name: 367, dtype: int64"
   ]
  },
  {
   "cell_type": "markdown",
   "id": "79bcab2f",
   "metadata": {},
   "source": [
    "nombre_infected       761\n",
    "nombre_sain          2286\n",
    "nombre_exposed        520\n",
    "nombre_recovered    16433\n",
    "Name: 368, dtype: int64"
   ]
  },
  {
   "cell_type": "markdown",
   "id": "6998ccaf",
   "metadata": {},
   "source": [
    "nombre_infected       779\n",
    "nombre_sain          2299\n",
    "nombre_exposed        509\n",
    "nombre_recovered    16413\n",
    "Name: 369, dtype: int64"
   ]
  },
  {
   "cell_type": "markdown",
   "id": "5d3cff69",
   "metadata": {},
   "source": [
    "nombre_infected       769\n",
    "nombre_sain          2304\n",
    "nombre_exposed        504\n",
    "nombre_recovered    16423\n",
    "Name: 370, dtype: int64"
   ]
  },
  {
   "cell_type": "markdown",
   "id": "85aa3c16",
   "metadata": {},
   "source": [
    "nombre_infected       744\n",
    "nombre_sain          2304\n",
    "nombre_exposed        494\n",
    "nombre_recovered    16458\n",
    "Name: 371, dtype: int64"
   ]
  },
  {
   "cell_type": "markdown",
   "id": "a9bb1601",
   "metadata": {},
   "source": [
    "nombre_infected       751\n",
    "nombre_sain          2316\n",
    "nombre_exposed        481\n",
    "nombre_recovered    16452\n",
    "Name: 372, dtype: int64"
   ]
  },
  {
   "cell_type": "markdown",
   "id": "e2bf7c2e",
   "metadata": {},
   "source": [
    "nombre_infected       757\n",
    "nombre_sain          2308\n",
    "nombre_exposed        482\n",
    "nombre_recovered    16453\n",
    "Name: 373, dtype: int64"
   ]
  },
  {
   "cell_type": "markdown",
   "id": "6b10ba7f",
   "metadata": {},
   "source": [
    "nombre_infected       761\n",
    "nombre_sain          2308\n",
    "nombre_exposed        467\n",
    "nombre_recovered    16464\n",
    "Name: 374, dtype: int64"
   ]
  },
  {
   "cell_type": "markdown",
   "id": "b9b0aa09",
   "metadata": {},
   "source": [
    "nombre_infected       753\n",
    "nombre_sain          2335\n",
    "nombre_exposed        466\n",
    "nombre_recovered    16446\n",
    "Name: 375, dtype: int64"
   ]
  },
  {
   "cell_type": "markdown",
   "id": "59540dcc",
   "metadata": {},
   "source": [
    "nombre_infected       753\n",
    "nombre_sain          2297\n",
    "nombre_exposed        487\n",
    "nombre_recovered    16463\n",
    "Name: 376, dtype: int64"
   ]
  },
  {
   "cell_type": "markdown",
   "id": "ff1079dc",
   "metadata": {},
   "source": [
    "nombre_infected       763\n",
    "nombre_sain          2316\n",
    "nombre_exposed        476\n",
    "nombre_recovered    16445\n",
    "Name: 377, dtype: int64"
   ]
  },
  {
   "cell_type": "markdown",
   "id": "73fd5288",
   "metadata": {},
   "source": [
    "nombre_infected       767\n",
    "nombre_sain          2322\n",
    "nombre_exposed        474\n",
    "nombre_recovered    16437\n",
    "Name: 378, dtype: int64"
   ]
  },
  {
   "cell_type": "markdown",
   "id": "547ab543",
   "metadata": {},
   "source": [
    "nombre_infected       763\n",
    "nombre_sain          2327\n",
    "nombre_exposed        482\n",
    "nombre_recovered    16428\n",
    "Name: 379, dtype: int64"
   ]
  },
  {
   "cell_type": "markdown",
   "id": "a4fcb039",
   "metadata": {},
   "source": [
    "nombre_infected       756\n",
    "nombre_sain          2313\n",
    "nombre_exposed        505\n",
    "nombre_recovered    16426\n",
    "Name: 380, dtype: int64"
   ]
  },
  {
   "cell_type": "markdown",
   "id": "0209b568",
   "metadata": {},
   "source": [
    "nombre_infected       762\n",
    "nombre_sain          2335\n",
    "nombre_exposed        480\n",
    "nombre_recovered    16423\n",
    "Name: 381, dtype: int64"
   ]
  },
  {
   "cell_type": "markdown",
   "id": "6ecfbd9f",
   "metadata": {},
   "source": [
    "nombre_infected       783\n",
    "nombre_sain          2356\n",
    "nombre_exposed        472\n",
    "nombre_recovered    16389\n",
    "Name: 382, dtype: int64"
   ]
  },
  {
   "cell_type": "markdown",
   "id": "0ec64b1c",
   "metadata": {},
   "source": [
    "nombre_infected       769\n",
    "nombre_sain          2372\n",
    "nombre_exposed        484\n",
    "nombre_recovered    16375\n",
    "Name: 383, dtype: int64"
   ]
  },
  {
   "cell_type": "markdown",
   "id": "5a4243f2",
   "metadata": {},
   "source": [
    "nombre_infected       770\n",
    "nombre_sain          2401\n",
    "nombre_exposed        467\n",
    "nombre_recovered    16362\n",
    "Name: 384, dtype: int64"
   ]
  },
  {
   "cell_type": "markdown",
   "id": "4f745e5c",
   "metadata": {},
   "source": [
    "nombre_infected       766\n",
    "nombre_sain          2434\n",
    "nombre_exposed        476\n",
    "nombre_recovered    16324\n",
    "Name: 385, dtype: int64"
   ]
  },
  {
   "cell_type": "markdown",
   "id": "a43c9e25",
   "metadata": {},
   "source": [
    "nombre_infected       742\n",
    "nombre_sain          2459\n",
    "nombre_exposed        473\n",
    "nombre_recovered    16326\n",
    "Name: 386, dtype: int64"
   ]
  },
  {
   "cell_type": "markdown",
   "id": "ff210a98",
   "metadata": {},
   "source": [
    "nombre_infected       725\n",
    "nombre_sain          2492\n",
    "nombre_exposed        479\n",
    "nombre_recovered    16304\n",
    "Name: 387, dtype: int64"
   ]
  },
  {
   "cell_type": "markdown",
   "id": "dbfa4d4d",
   "metadata": {},
   "source": [
    "nombre_infected       723\n",
    "nombre_sain          2509\n",
    "nombre_exposed        493\n",
    "nombre_recovered    16275\n",
    "Name: 388, dtype: int64"
   ]
  },
  {
   "cell_type": "markdown",
   "id": "46e50cfa",
   "metadata": {},
   "source": [
    "nombre_infected       720\n",
    "nombre_sain          2559\n",
    "nombre_exposed        484\n",
    "nombre_recovered    16237\n",
    "Name: 389, dtype: int64"
   ]
  },
  {
   "cell_type": "markdown",
   "id": "11046f35",
   "metadata": {},
   "source": [
    "nombre_infected       699\n",
    "nombre_sain          2596\n",
    "nombre_exposed        471\n",
    "nombre_recovered    16234\n",
    "Name: 390, dtype: int64"
   ]
  },
  {
   "cell_type": "markdown",
   "id": "3ebbd910",
   "metadata": {},
   "source": [
    "nombre_infected       679\n",
    "nombre_sain          2624\n",
    "nombre_exposed        478\n",
    "nombre_recovered    16219\n",
    "Name: 391, dtype: int64"
   ]
  },
  {
   "cell_type": "markdown",
   "id": "4fc0c627",
   "metadata": {},
   "source": [
    "nombre_infected       684\n",
    "nombre_sain          2624\n",
    "nombre_exposed        483\n",
    "nombre_recovered    16209\n",
    "Name: 392, dtype: int64"
   ]
  },
  {
   "cell_type": "markdown",
   "id": "8cd217db",
   "metadata": {},
   "source": [
    "nombre_infected       717\n",
    "nombre_sain          2621\n",
    "nombre_exposed        481\n",
    "nombre_recovered    16181\n",
    "Name: 393, dtype: int64"
   ]
  },
  {
   "cell_type": "markdown",
   "id": "3cad592a",
   "metadata": {},
   "source": [
    "nombre_infected       694\n",
    "nombre_sain          2614\n",
    "nombre_exposed        503\n",
    "nombre_recovered    16189\n",
    "Name: 394, dtype: int64"
   ]
  },
  {
   "cell_type": "markdown",
   "id": "689b8836",
   "metadata": {},
   "source": [
    "nombre_infected       690\n",
    "nombre_sain          2613\n",
    "nombre_exposed        504\n",
    "nombre_recovered    16193\n",
    "Name: 395, dtype: int64"
   ]
  },
  {
   "cell_type": "markdown",
   "id": "e22dbdce",
   "metadata": {},
   "source": [
    "nombre_infected       716\n",
    "nombre_sain          2619\n",
    "nombre_exposed        483\n",
    "nombre_recovered    16182\n",
    "Name: 396, dtype: int64"
   ]
  },
  {
   "cell_type": "markdown",
   "id": "3a24c470",
   "metadata": {},
   "source": [
    "nombre_infected       716\n",
    "nombre_sain          2630\n",
    "nombre_exposed        483\n",
    "nombre_recovered    16171\n",
    "Name: 397, dtype: int64"
   ]
  },
  {
   "cell_type": "markdown",
   "id": "f5cec3b1",
   "metadata": {},
   "source": [
    "nombre_infected       719\n",
    "nombre_sain          2626\n",
    "nombre_exposed        515\n",
    "nombre_recovered    16140\n",
    "Name: 398, dtype: int64"
   ]
  },
  {
   "cell_type": "markdown",
   "id": "71d0cd1a",
   "metadata": {},
   "source": [
    "nombre_infected       715\n",
    "nombre_sain          2659\n",
    "nombre_exposed        501\n",
    "nombre_recovered    16125\n",
    "Name: 399, dtype: int64"
   ]
  },
  {
   "cell_type": "markdown",
   "id": "176e78fe",
   "metadata": {},
   "source": [
    "nombre_infected       721\n",
    "nombre_sain          2661\n",
    "nombre_exposed        508\n",
    "nombre_recovered    16110\n",
    "Name: 400, dtype: int64"
   ]
  },
  {
   "cell_type": "markdown",
   "id": "a6820b0f",
   "metadata": {},
   "source": [
    "nombre_infected       732\n",
    "nombre_sain          2674\n",
    "nombre_exposed        519\n",
    "nombre_recovered    16075\n",
    "Name: 401, dtype: int64"
   ]
  },
  {
   "cell_type": "markdown",
   "id": "db705e7d",
   "metadata": {},
   "source": [
    "nombre_infected       730\n",
    "nombre_sain          2687\n",
    "nombre_exposed        520\n",
    "nombre_recovered    16063\n",
    "Name: 402, dtype: int64"
   ]
  },
  {
   "cell_type": "markdown",
   "id": "f2b5bccb",
   "metadata": {},
   "source": [
    "nombre_infected       749\n",
    "nombre_sain          2678\n",
    "nombre_exposed        535\n",
    "nombre_recovered    16038\n",
    "Name: 403, dtype: int64"
   ]
  },
  {
   "cell_type": "markdown",
   "id": "d6073f5d",
   "metadata": {},
   "source": [
    "nombre_infected       743\n",
    "nombre_sain          2687\n",
    "nombre_exposed        541\n",
    "nombre_recovered    16029\n",
    "Name: 404, dtype: int64"
   ]
  },
  {
   "cell_type": "markdown",
   "id": "0067681d",
   "metadata": {},
   "source": [
    "nombre_infected       752\n",
    "nombre_sain          2659\n",
    "nombre_exposed        548\n",
    "nombre_recovered    16041\n",
    "Name: 405, dtype: int64"
   ]
  },
  {
   "cell_type": "markdown",
   "id": "a6f78cdd",
   "metadata": {},
   "source": [
    "nombre_infected       779\n",
    "nombre_sain          2647\n",
    "nombre_exposed        552\n",
    "nombre_recovered    16022\n",
    "Name: 406, dtype: int64"
   ]
  },
  {
   "cell_type": "markdown",
   "id": "8cf8ac76",
   "metadata": {},
   "source": [
    "nombre_infected       807\n",
    "nombre_sain          2640\n",
    "nombre_exposed        547\n",
    "nombre_recovered    16006\n",
    "Name: 407, dtype: int64"
   ]
  },
  {
   "cell_type": "markdown",
   "id": "1f089097",
   "metadata": {},
   "source": [
    "nombre_infected       840\n",
    "nombre_sain          2590\n",
    "nombre_exposed        579\n",
    "nombre_recovered    15991\n",
    "Name: 408, dtype: int64"
   ]
  },
  {
   "cell_type": "markdown",
   "id": "3de17760",
   "metadata": {},
   "source": [
    "nombre_infected       868\n",
    "nombre_sain          2579\n",
    "nombre_exposed        582\n",
    "nombre_recovered    15971\n",
    "Name: 409, dtype: int64"
   ]
  },
  {
   "cell_type": "markdown",
   "id": "8970ed38",
   "metadata": {},
   "source": [
    "nombre_infected       894\n",
    "nombre_sain          2585\n",
    "nombre_exposed        546\n",
    "nombre_recovered    15975\n",
    "Name: 410, dtype: int64"
   ]
  },
  {
   "cell_type": "markdown",
   "id": "1adc3259",
   "metadata": {},
   "source": [
    "nombre_infected       888\n",
    "nombre_sain          2553\n",
    "nombre_exposed        541\n",
    "nombre_recovered    16018\n",
    "Name: 411, dtype: int64"
   ]
  },
  {
   "cell_type": "markdown",
   "id": "15a739d5",
   "metadata": {},
   "source": [
    "nombre_infected       872\n",
    "nombre_sain          2521\n",
    "nombre_exposed        561\n",
    "nombre_recovered    16046\n",
    "Name: 412, dtype: int64"
   ]
  },
  {
   "cell_type": "markdown",
   "id": "4a3b33a5",
   "metadata": {},
   "source": [
    "nombre_infected       863\n",
    "nombre_sain          2512\n",
    "nombre_exposed        553\n",
    "nombre_recovered    16072\n",
    "Name: 413, dtype: int64"
   ]
  },
  {
   "cell_type": "markdown",
   "id": "8efcfe72",
   "metadata": {},
   "source": [
    "nombre_infected       846\n",
    "nombre_sain          2468\n",
    "nombre_exposed        580\n",
    "nombre_recovered    16106\n",
    "Name: 414, dtype: int64"
   ]
  },
  {
   "cell_type": "markdown",
   "id": "07510bc5",
   "metadata": {},
   "source": [
    "nombre_infected       858\n",
    "nombre_sain          2476\n",
    "nombre_exposed        553\n",
    "nombre_recovered    16113\n",
    "Name: 415, dtype: int64"
   ]
  },
  {
   "cell_type": "markdown",
   "id": "b38538d5",
   "metadata": {},
   "source": [
    "nombre_infected       868\n",
    "nombre_sain          2480\n",
    "nombre_exposed        538\n",
    "nombre_recovered    16114\n",
    "Name: 416, dtype: int64"
   ]
  },
  {
   "cell_type": "markdown",
   "id": "86b756ab",
   "metadata": {},
   "source": [
    "nombre_infected       868\n",
    "nombre_sain          2458\n",
    "nombre_exposed        536\n",
    "nombre_recovered    16138\n",
    "Name: 417, dtype: int64"
   ]
  },
  {
   "cell_type": "markdown",
   "id": "6ff3ac95",
   "metadata": {},
   "source": [
    "nombre_infected       865\n",
    "nombre_sain          2465\n",
    "nombre_exposed        521\n",
    "nombre_recovered    16149\n",
    "Name: 418, dtype: int64"
   ]
  },
  {
   "cell_type": "markdown",
   "id": "bc192091",
   "metadata": {},
   "source": [
    "nombre_infected       877\n",
    "nombre_sain          2449\n",
    "nombre_exposed        517\n",
    "nombre_recovered    16157\n",
    "Name: 419, dtype: int64"
   ]
  },
  {
   "cell_type": "markdown",
   "id": "e5c82d0e",
   "metadata": {},
   "source": [
    "nombre_infected       878\n",
    "nombre_sain          2413\n",
    "nombre_exposed        526\n",
    "nombre_recovered    16183\n",
    "Name: 420, dtype: int64"
   ]
  },
  {
   "cell_type": "markdown",
   "id": "99c0688a",
   "metadata": {},
   "source": [
    "nombre_infected       850\n",
    "nombre_sain          2400\n",
    "nombre_exposed        524\n",
    "nombre_recovered    16226\n",
    "Name: 421, dtype: int64"
   ]
  },
  {
   "cell_type": "markdown",
   "id": "29cc3c4c",
   "metadata": {},
   "source": [
    "nombre_infected       843\n",
    "nombre_sain          2405\n",
    "nombre_exposed        508\n",
    "nombre_recovered    16244\n",
    "Name: 422, dtype: int64"
   ]
  },
  {
   "cell_type": "markdown",
   "id": "5e1b6890",
   "metadata": {},
   "source": [
    "nombre_infected       837\n",
    "nombre_sain          2372\n",
    "nombre_exposed        524\n",
    "nombre_recovered    16267\n",
    "Name: 423, dtype: int64"
   ]
  },
  {
   "cell_type": "markdown",
   "id": "4bd86418",
   "metadata": {},
   "source": [
    "nombre_infected       837\n",
    "nombre_sain          2380\n",
    "nombre_exposed        496\n",
    "nombre_recovered    16287\n",
    "Name: 424, dtype: int64"
   ]
  },
  {
   "cell_type": "markdown",
   "id": "597bfa3f",
   "metadata": {},
   "source": [
    "nombre_infected       852\n",
    "nombre_sain          2372\n",
    "nombre_exposed        507\n",
    "nombre_recovered    16269\n",
    "Name: 425, dtype: int64"
   ]
  },
  {
   "cell_type": "markdown",
   "id": "89bb29f0",
   "metadata": {},
   "source": [
    "nombre_infected       827\n",
    "nombre_sain          2367\n",
    "nombre_exposed        527\n",
    "nombre_recovered    16279\n",
    "Name: 426, dtype: int64"
   ]
  },
  {
   "cell_type": "markdown",
   "id": "741fdcd4",
   "metadata": {},
   "source": [
    "nombre_infected       829\n",
    "nombre_sain          2377\n",
    "nombre_exposed        514\n",
    "nombre_recovered    16280\n",
    "Name: 427, dtype: int64"
   ]
  },
  {
   "cell_type": "markdown",
   "id": "c512e5ef",
   "metadata": {},
   "source": [
    "nombre_infected       843\n",
    "nombre_sain          2353\n",
    "nombre_exposed        499\n",
    "nombre_recovered    16305\n",
    "Name: 428, dtype: int64"
   ]
  },
  {
   "cell_type": "markdown",
   "id": "7e4542a6",
   "metadata": {},
   "source": [
    "nombre_infected       861\n",
    "nombre_sain          2362\n",
    "nombre_exposed        487\n",
    "nombre_recovered    16290\n",
    "Name: 429, dtype: int64"
   ]
  },
  {
   "cell_type": "markdown",
   "id": "778d9d91",
   "metadata": {},
   "source": [
    "nombre_infected       845\n",
    "nombre_sain          2366\n",
    "nombre_exposed        494\n",
    "nombre_recovered    16295\n",
    "Name: 430, dtype: int64"
   ]
  },
  {
   "cell_type": "markdown",
   "id": "1be7c4f8",
   "metadata": {},
   "source": [
    "nombre_infected       819\n",
    "nombre_sain          2359\n",
    "nombre_exposed        506\n",
    "nombre_recovered    16316\n",
    "Name: 431, dtype: int64"
   ]
  },
  {
   "cell_type": "markdown",
   "id": "ba37da02",
   "metadata": {},
   "source": [
    "nombre_infected       834\n",
    "nombre_sain          2352\n",
    "nombre_exposed        508\n",
    "nombre_recovered    16306\n",
    "Name: 432, dtype: int64"
   ]
  },
  {
   "cell_type": "markdown",
   "id": "80c55ae3",
   "metadata": {},
   "source": [
    "nombre_infected       832\n",
    "nombre_sain          2365\n",
    "nombre_exposed        506\n",
    "nombre_recovered    16297\n",
    "Name: 433, dtype: int64"
   ]
  },
  {
   "cell_type": "markdown",
   "id": "eb45c24a",
   "metadata": {},
   "source": [
    "nombre_infected       822\n",
    "nombre_sain          2358\n",
    "nombre_exposed        523\n",
    "nombre_recovered    16297\n",
    "Name: 434, dtype: int64"
   ]
  },
  {
   "cell_type": "markdown",
   "id": "51cba3ba",
   "metadata": {},
   "source": [
    "nombre_infected       802\n",
    "nombre_sain          2372\n",
    "nombre_exposed        531\n",
    "nombre_recovered    16295\n",
    "Name: 435, dtype: int64"
   ]
  },
  {
   "cell_type": "markdown",
   "id": "ea0e892e",
   "metadata": {},
   "source": [
    "nombre_infected       795\n",
    "nombre_sain          2358\n",
    "nombre_exposed        527\n",
    "nombre_recovered    16320\n",
    "Name: 436, dtype: int64"
   ]
  },
  {
   "cell_type": "markdown",
   "id": "5fce2da3",
   "metadata": {},
   "source": [
    "nombre_infected       817\n",
    "nombre_sain          2363\n",
    "nombre_exposed        495\n",
    "nombre_recovered    16325\n",
    "Name: 437, dtype: int64"
   ]
  },
  {
   "cell_type": "markdown",
   "id": "a8b89b6a",
   "metadata": {},
   "source": [
    "nombre_infected       788\n",
    "nombre_sain          2367\n",
    "nombre_exposed        505\n",
    "nombre_recovered    16340\n",
    "Name: 438, dtype: int64"
   ]
  },
  {
   "cell_type": "markdown",
   "id": "73474e7a",
   "metadata": {},
   "source": [
    "nombre_infected       790\n",
    "nombre_sain          2354\n",
    "nombre_exposed        510\n",
    "nombre_recovered    16346\n",
    "Name: 439, dtype: int64"
   ]
  },
  {
   "cell_type": "markdown",
   "id": "479772ad",
   "metadata": {},
   "source": [
    "nombre_infected       787\n",
    "nombre_sain          2383\n",
    "nombre_exposed        499\n",
    "nombre_recovered    16331\n",
    "Name: 440, dtype: int64"
   ]
  },
  {
   "cell_type": "markdown",
   "id": "cd0c8eae",
   "metadata": {},
   "source": [
    "nombre_infected       763\n",
    "nombre_sain          2394\n",
    "nombre_exposed        486\n",
    "nombre_recovered    16357\n",
    "Name: 441, dtype: int64"
   ]
  },
  {
   "cell_type": "markdown",
   "id": "acb5a5cf",
   "metadata": {},
   "source": [
    "nombre_infected       795\n",
    "nombre_sain          2384\n",
    "nombre_exposed        472\n",
    "nombre_recovered    16349\n",
    "Name: 442, dtype: int64"
   ]
  },
  {
   "cell_type": "markdown",
   "id": "87876d36",
   "metadata": {},
   "source": [
    "nombre_infected       795\n",
    "nombre_sain          2413\n",
    "nombre_exposed        462\n",
    "nombre_recovered    16330\n",
    "Name: 443, dtype: int64"
   ]
  },
  {
   "cell_type": "markdown",
   "id": "21e5808e",
   "metadata": {},
   "source": [
    "nombre_infected       785\n",
    "nombre_sain          2413\n",
    "nombre_exposed        487\n",
    "nombre_recovered    16315\n",
    "Name: 444, dtype: int64"
   ]
  },
  {
   "cell_type": "markdown",
   "id": "f00af291",
   "metadata": {},
   "source": [
    "nombre_infected       785\n",
    "nombre_sain          2407\n",
    "nombre_exposed        486\n",
    "nombre_recovered    16322\n",
    "Name: 445, dtype: int64"
   ]
  },
  {
   "cell_type": "markdown",
   "id": "03d973f2",
   "metadata": {},
   "source": [
    "nombre_infected       785\n",
    "nombre_sain          2405\n",
    "nombre_exposed        487\n",
    "nombre_recovered    16323\n",
    "Name: 446, dtype: int64"
   ]
  },
  {
   "cell_type": "markdown",
   "id": "0bf74dab",
   "metadata": {},
   "source": [
    "nombre_infected       791\n",
    "nombre_sain          2404\n",
    "nombre_exposed        493\n",
    "nombre_recovered    16312\n",
    "Name: 447, dtype: int64"
   ]
  },
  {
   "cell_type": "markdown",
   "id": "575e84a4",
   "metadata": {},
   "source": [
    "nombre_infected       788\n",
    "nombre_sain          2421\n",
    "nombre_exposed        498\n",
    "nombre_recovered    16293\n",
    "Name: 448, dtype: int64"
   ]
  },
  {
   "cell_type": "markdown",
   "id": "6cb99990",
   "metadata": {},
   "source": [
    "nombre_infected       804\n",
    "nombre_sain          2423\n",
    "nombre_exposed        512\n",
    "nombre_recovered    16261\n",
    "Name: 449, dtype: int64"
   ]
  },
  {
   "cell_type": "markdown",
   "id": "5137b76f",
   "metadata": {},
   "source": [
    "nombre_infected       814\n",
    "nombre_sain          2451\n",
    "nombre_exposed        503\n",
    "nombre_recovered    16232\n",
    "Name: 450, dtype: int64"
   ]
  },
  {
   "cell_type": "markdown",
   "id": "77e80747",
   "metadata": {},
   "source": [
    "nombre_infected       831\n",
    "nombre_sain          2482\n",
    "nombre_exposed        471\n",
    "nombre_recovered    16216\n",
    "Name: 451, dtype: int64"
   ]
  },
  {
   "cell_type": "markdown",
   "id": "64007d09",
   "metadata": {},
   "source": [
    "nombre_infected       815\n",
    "nombre_sain          2478\n",
    "nombre_exposed        467\n",
    "nombre_recovered    16240\n",
    "Name: 452, dtype: int64"
   ]
  },
  {
   "cell_type": "markdown",
   "id": "2f5f4f3f",
   "metadata": {},
   "source": [
    "nombre_infected       814\n",
    "nombre_sain          2518\n",
    "nombre_exposed        443\n",
    "nombre_recovered    16225\n",
    "Name: 453, dtype: int64"
   ]
  },
  {
   "cell_type": "markdown",
   "id": "e3fe67fc",
   "metadata": {},
   "source": [
    "nombre_infected       809\n",
    "nombre_sain          2504\n",
    "nombre_exposed        454\n",
    "nombre_recovered    16233\n",
    "Name: 454, dtype: int64"
   ]
  },
  {
   "cell_type": "markdown",
   "id": "ec557bde",
   "metadata": {},
   "source": [
    "nombre_infected       783\n",
    "nombre_sain          2493\n",
    "nombre_exposed        497\n",
    "nombre_recovered    16227\n",
    "Name: 455, dtype: int64"
   ]
  },
  {
   "cell_type": "markdown",
   "id": "533399c2",
   "metadata": {},
   "source": [
    "nombre_infected       764\n",
    "nombre_sain          2497\n",
    "nombre_exposed        497\n",
    "nombre_recovered    16242\n",
    "Name: 456, dtype: int64"
   ]
  },
  {
   "cell_type": "markdown",
   "id": "c98e84c5",
   "metadata": {},
   "source": [
    "nombre_infected       795\n",
    "nombre_sain          2511\n",
    "nombre_exposed        481\n",
    "nombre_recovered    16213\n",
    "Name: 457, dtype: int64"
   ]
  },
  {
   "cell_type": "markdown",
   "id": "00746949",
   "metadata": {},
   "source": [
    "nombre_infected       788\n",
    "nombre_sain          2514\n",
    "nombre_exposed        486\n",
    "nombre_recovered    16212\n",
    "Name: 458, dtype: int64"
   ]
  },
  {
   "cell_type": "markdown",
   "id": "23806e41",
   "metadata": {},
   "source": [
    "nombre_infected       793\n",
    "nombre_sain          2538\n",
    "nombre_exposed        465\n",
    "nombre_recovered    16204\n",
    "Name: 459, dtype: int64"
   ]
  },
  {
   "cell_type": "markdown",
   "id": "153e240b",
   "metadata": {},
   "source": [
    "nombre_infected       797\n",
    "nombre_sain          2544\n",
    "nombre_exposed        445\n",
    "nombre_recovered    16214\n",
    "Name: 460, dtype: int64"
   ]
  },
  {
   "cell_type": "markdown",
   "id": "2d31971c",
   "metadata": {},
   "source": [
    "nombre_infected       785\n",
    "nombre_sain          2526\n",
    "nombre_exposed        474\n",
    "nombre_recovered    16215\n",
    "Name: 461, dtype: int64"
   ]
  },
  {
   "cell_type": "markdown",
   "id": "60941c79",
   "metadata": {},
   "source": [
    "nombre_infected       792\n",
    "nombre_sain          2521\n",
    "nombre_exposed        465\n",
    "nombre_recovered    16222\n",
    "Name: 462, dtype: int64"
   ]
  },
  {
   "cell_type": "markdown",
   "id": "300e4f7e",
   "metadata": {},
   "source": [
    "nombre_infected       780\n",
    "nombre_sain          2519\n",
    "nombre_exposed        489\n",
    "nombre_recovered    16212\n",
    "Name: 463, dtype: int64"
   ]
  },
  {
   "cell_type": "markdown",
   "id": "f5604b84",
   "metadata": {},
   "source": [
    "nombre_infected       775\n",
    "nombre_sain          2536\n",
    "nombre_exposed        467\n",
    "nombre_recovered    16222\n",
    "Name: 464, dtype: int64"
   ]
  },
  {
   "cell_type": "markdown",
   "id": "6b78d00f",
   "metadata": {},
   "source": [
    "nombre_infected       806\n",
    "nombre_sain          2528\n",
    "nombre_exposed        466\n",
    "nombre_recovered    16200\n",
    "Name: 465, dtype: int64"
   ]
  },
  {
   "cell_type": "markdown",
   "id": "88088798",
   "metadata": {},
   "source": [
    "nombre_infected       794\n",
    "nombre_sain          2552\n",
    "nombre_exposed        488\n",
    "nombre_recovered    16166\n",
    "Name: 466, dtype: int64"
   ]
  },
  {
   "cell_type": "markdown",
   "id": "f2227332",
   "metadata": {},
   "source": [
    "nombre_infected       819\n",
    "nombre_sain          2577\n",
    "nombre_exposed        473\n",
    "nombre_recovered    16131\n",
    "Name: 467, dtype: int64"
   ]
  },
  {
   "cell_type": "markdown",
   "id": "5f5a2028",
   "metadata": {},
   "source": [
    "nombre_infected       809\n",
    "nombre_sain          2582\n",
    "nombre_exposed        489\n",
    "nombre_recovered    16120\n",
    "Name: 468, dtype: int64"
   ]
  },
  {
   "cell_type": "markdown",
   "id": "943499bb",
   "metadata": {},
   "source": [
    "nombre_infected       782\n",
    "nombre_sain          2579\n",
    "nombre_exposed        509\n",
    "nombre_recovered    16130\n",
    "Name: 469, dtype: int64"
   ]
  },
  {
   "cell_type": "markdown",
   "id": "20f4bbdd",
   "metadata": {},
   "source": [
    "nombre_infected       788\n",
    "nombre_sain          2590\n",
    "nombre_exposed        505\n",
    "nombre_recovered    16117\n",
    "Name: 470, dtype: int64"
   ]
  },
  {
   "cell_type": "markdown",
   "id": "8181260f",
   "metadata": {},
   "source": [
    "nombre_infected       778\n",
    "nombre_sain          2584\n",
    "nombre_exposed        490\n",
    "nombre_recovered    16148\n",
    "Name: 471, dtype: int64"
   ]
  },
  {
   "cell_type": "markdown",
   "id": "8797b8f7",
   "metadata": {},
   "source": [
    "nombre_infected       786\n",
    "nombre_sain          2572\n",
    "nombre_exposed        483\n",
    "nombre_recovered    16159\n",
    "Name: 472, dtype: int64"
   ]
  },
  {
   "cell_type": "markdown",
   "id": "e69e3a50",
   "metadata": {},
   "source": [
    "nombre_infected       782\n",
    "nombre_sain          2556\n",
    "nombre_exposed        493\n",
    "nombre_recovered    16169\n",
    "Name: 473, dtype: int64"
   ]
  },
  {
   "cell_type": "markdown",
   "id": "ec2562a1",
   "metadata": {},
   "source": [
    "nombre_infected       787\n",
    "nombre_sain          2540\n",
    "nombre_exposed        495\n",
    "nombre_recovered    16178\n",
    "Name: 474, dtype: int64"
   ]
  },
  {
   "cell_type": "markdown",
   "id": "4826126b",
   "metadata": {},
   "source": [
    "nombre_infected       792\n",
    "nombre_sain          2509\n",
    "nombre_exposed        498\n",
    "nombre_recovered    16201\n",
    "Name: 475, dtype: int64"
   ]
  },
  {
   "cell_type": "markdown",
   "id": "890b7fa7",
   "metadata": {},
   "source": [
    "nombre_infected       795\n",
    "nombre_sain          2519\n",
    "nombre_exposed        470\n",
    "nombre_recovered    16216\n",
    "Name: 476, dtype: int64"
   ]
  },
  {
   "cell_type": "markdown",
   "id": "163e0643",
   "metadata": {},
   "source": [
    "nombre_infected       813\n",
    "nombre_sain          2506\n",
    "nombre_exposed        461\n",
    "nombre_recovered    16220\n",
    "Name: 477, dtype: int64"
   ]
  },
  {
   "cell_type": "markdown",
   "id": "9324e027",
   "metadata": {},
   "source": [
    "nombre_infected       803\n",
    "nombre_sain          2516\n",
    "nombre_exposed        455\n",
    "nombre_recovered    16226\n",
    "Name: 478, dtype: int64"
   ]
  },
  {
   "cell_type": "markdown",
   "id": "b7f0c963",
   "metadata": {},
   "source": [
    "nombre_infected       778\n",
    "nombre_sain          2487\n",
    "nombre_exposed        480\n",
    "nombre_recovered    16255\n",
    "Name: 479, dtype: int64"
   ]
  },
  {
   "cell_type": "markdown",
   "id": "4d82c670",
   "metadata": {},
   "source": [
    "nombre_infected       779\n",
    "nombre_sain          2478\n",
    "nombre_exposed        459\n",
    "nombre_recovered    16284\n",
    "Name: 480, dtype: int64"
   ]
  },
  {
   "cell_type": "markdown",
   "id": "58407118",
   "metadata": {},
   "source": [
    "nombre_infected       785\n",
    "nombre_sain          2504\n",
    "nombre_exposed        441\n",
    "nombre_recovered    16270\n",
    "Name: 481, dtype: int64"
   ]
  },
  {
   "cell_type": "markdown",
   "id": "986bc84d",
   "metadata": {},
   "source": [
    "nombre_infected       787\n",
    "nombre_sain          2500\n",
    "nombre_exposed        426\n",
    "nombre_recovered    16287\n",
    "Name: 482, dtype: int64"
   ]
  },
  {
   "cell_type": "markdown",
   "id": "cd50cc49",
   "metadata": {},
   "source": [
    "nombre_infected       770\n",
    "nombre_sain          2500\n",
    "nombre_exposed        448\n",
    "nombre_recovered    16282\n",
    "Name: 483, dtype: int64"
   ]
  },
  {
   "cell_type": "markdown",
   "id": "71321b2b",
   "metadata": {},
   "source": [
    "nombre_infected       758\n",
    "nombre_sain          2492\n",
    "nombre_exposed        460\n",
    "nombre_recovered    16290\n",
    "Name: 484, dtype: int64"
   ]
  },
  {
   "cell_type": "markdown",
   "id": "5cc10342",
   "metadata": {},
   "source": [
    "nombre_infected       783\n",
    "nombre_sain          2480\n",
    "nombre_exposed        451\n",
    "nombre_recovered    16286\n",
    "Name: 485, dtype: int64"
   ]
  },
  {
   "cell_type": "markdown",
   "id": "a9b3223c",
   "metadata": {},
   "source": [
    "nombre_infected       794\n",
    "nombre_sain          2473\n",
    "nombre_exposed        464\n",
    "nombre_recovered    16269\n",
    "Name: 486, dtype: int64"
   ]
  },
  {
   "cell_type": "markdown",
   "id": "5e348a7e",
   "metadata": {},
   "source": [
    "nombre_infected       788\n",
    "nombre_sain          2511\n",
    "nombre_exposed        454\n",
    "nombre_recovered    16247\n",
    "Name: 487, dtype: int64"
   ]
  },
  {
   "cell_type": "markdown",
   "id": "4ae5b05e",
   "metadata": {},
   "source": [
    "nombre_infected       810\n",
    "nombre_sain          2524\n",
    "nombre_exposed        447\n",
    "nombre_recovered    16219\n",
    "Name: 488, dtype: int64"
   ]
  },
  {
   "cell_type": "markdown",
   "id": "f5cca8e5",
   "metadata": {},
   "source": [
    "nombre_infected       785\n",
    "nombre_sain          2526\n",
    "nombre_exposed        473\n",
    "nombre_recovered    16216\n",
    "Name: 489, dtype: int64"
   ]
  },
  {
   "cell_type": "markdown",
   "id": "7e73f97f",
   "metadata": {},
   "source": [
    "nombre_infected       782\n",
    "nombre_sain          2537\n",
    "nombre_exposed        461\n",
    "nombre_recovered    16220\n",
    "Name: 490, dtype: int64"
   ]
  },
  {
   "cell_type": "markdown",
   "id": "b4bd7007",
   "metadata": {},
   "source": [
    "nombre_infected       806\n",
    "nombre_sain          2531\n",
    "nombre_exposed        473\n",
    "nombre_recovered    16190\n",
    "Name: 491, dtype: int64"
   ]
  },
  {
   "cell_type": "markdown",
   "id": "1b6c0c23",
   "metadata": {},
   "source": [
    "nombre_infected       819\n",
    "nombre_sain          2522\n",
    "nombre_exposed        481\n",
    "nombre_recovered    16178\n",
    "Name: 492, dtype: int64"
   ]
  },
  {
   "cell_type": "markdown",
   "id": "707f9af5",
   "metadata": {},
   "source": [
    "nombre_infected       832\n",
    "nombre_sain          2487\n",
    "nombre_exposed        507\n",
    "nombre_recovered    16174\n",
    "Name: 493, dtype: int64"
   ]
  },
  {
   "cell_type": "markdown",
   "id": "5528d8a3",
   "metadata": {},
   "source": [
    "nombre_infected       844\n",
    "nombre_sain          2472\n",
    "nombre_exposed        500\n",
    "nombre_recovered    16184\n",
    "Name: 494, dtype: int64"
   ]
  },
  {
   "cell_type": "markdown",
   "id": "20a6ed07",
   "metadata": {},
   "source": [
    "nombre_infected       867\n",
    "nombre_sain          2483\n",
    "nombre_exposed        489\n",
    "nombre_recovered    16161\n",
    "Name: 495, dtype: int64"
   ]
  },
  {
   "cell_type": "markdown",
   "id": "85ab0631",
   "metadata": {},
   "source": [
    "nombre_infected       911\n",
    "nombre_sain          2452\n",
    "nombre_exposed        479\n",
    "nombre_recovered    16158\n",
    "Name: 496, dtype: int64"
   ]
  },
  {
   "cell_type": "markdown",
   "id": "cc403551",
   "metadata": {},
   "source": [
    "nombre_infected       906\n",
    "nombre_sain          2455\n",
    "nombre_exposed        492\n",
    "nombre_recovered    16147\n",
    "Name: 497, dtype: int64"
   ]
  },
  {
   "cell_type": "markdown",
   "id": "7970f9f8",
   "metadata": {},
   "source": [
    "nombre_infected       893\n",
    "nombre_sain          2395\n",
    "nombre_exposed        535\n",
    "nombre_recovered    16177\n",
    "Name: 498, dtype: int64"
   ]
  },
  {
   "cell_type": "markdown",
   "id": "986d9360",
   "metadata": {},
   "source": [
    "nombre_infected       913\n",
    "nombre_sain          2389\n",
    "nombre_exposed        517\n",
    "nombre_recovered    16181\n",
    "Name: 499, dtype: int64"
   ]
  },
  {
   "cell_type": "markdown",
   "id": "863fa124",
   "metadata": {},
   "source": [
    "nombre_infected       958\n",
    "nombre_sain          2368\n",
    "nombre_exposed        499\n",
    "nombre_recovered    16175\n",
    "Name: 500, dtype: int64"
   ]
  },
  {
   "cell_type": "markdown",
   "id": "ee23f9ce",
   "metadata": {},
   "source": [
    "nombre_infected       970\n",
    "nombre_sain          2348\n",
    "nombre_exposed        497\n",
    "nombre_recovered    16185\n",
    "Name: 501, dtype: int64"
   ]
  },
  {
   "cell_type": "markdown",
   "id": "1cfc4d61",
   "metadata": {},
   "source": [
    "nombre_infected       984\n",
    "nombre_sain          2306\n",
    "nombre_exposed        513\n",
    "nombre_recovered    16197\n",
    "Name: 502, dtype: int64"
   ]
  },
  {
   "cell_type": "markdown",
   "id": "1b7cbdb8",
   "metadata": {},
   "source": [
    "nombre_infected       955\n",
    "nombre_sain          2292\n",
    "nombre_exposed        551\n",
    "nombre_recovered    16202\n",
    "Name: 503, dtype: int64"
   ]
  },
  {
   "cell_type": "markdown",
   "id": "0ad2e6f5",
   "metadata": {},
   "source": [
    "nombre_infected       980\n",
    "nombre_sain          2271\n",
    "nombre_exposed        538\n",
    "nombre_recovered    16211\n",
    "Name: 504, dtype: int64"
   ]
  },
  {
   "cell_type": "markdown",
   "id": "8ca6ad6b",
   "metadata": {},
   "source": [
    "nombre_infected       986\n",
    "nombre_sain          2270\n",
    "nombre_exposed        536\n",
    "nombre_recovered    16208\n",
    "Name: 505, dtype: int64"
   ]
  },
  {
   "cell_type": "markdown",
   "id": "2df6b38b",
   "metadata": {},
   "source": [
    "nombre_infected       996\n",
    "nombre_sain          2240\n",
    "nombre_exposed        539\n",
    "nombre_recovered    16225\n",
    "Name: 506, dtype: int64"
   ]
  },
  {
   "cell_type": "markdown",
   "id": "57a36670",
   "metadata": {},
   "source": [
    "nombre_infected      1022\n",
    "nombre_sain          2230\n",
    "nombre_exposed        527\n",
    "nombre_recovered    16221\n",
    "Name: 507, dtype: int64"
   ]
  },
  {
   "cell_type": "markdown",
   "id": "56bddc64",
   "metadata": {},
   "source": [
    "nombre_infected      1016\n",
    "nombre_sain          2185\n",
    "nombre_exposed        547\n",
    "nombre_recovered    16252\n",
    "Name: 508, dtype: int64"
   ]
  },
  {
   "cell_type": "markdown",
   "id": "d21ce36e",
   "metadata": {},
   "source": [
    "nombre_infected      1023\n",
    "nombre_sain          2177\n",
    "nombre_exposed        540\n",
    "nombre_recovered    16260\n",
    "Name: 509, dtype: int64"
   ]
  },
  {
   "cell_type": "markdown",
   "id": "f3d6226b",
   "metadata": {},
   "source": [
    "nombre_infected      1018\n",
    "nombre_sain          2152\n",
    "nombre_exposed        540\n",
    "nombre_recovered    16290\n",
    "Name: 510, dtype: int64"
   ]
  },
  {
   "cell_type": "markdown",
   "id": "59694842",
   "metadata": {},
   "source": [
    "nombre_infected      1018\n",
    "nombre_sain          2135\n",
    "nombre_exposed        535\n",
    "nombre_recovered    16312\n",
    "Name: 511, dtype: int64"
   ]
  },
  {
   "cell_type": "markdown",
   "id": "a43b1350",
   "metadata": {},
   "source": [
    "nombre_infected      1028\n",
    "nombre_sain          2086\n",
    "nombre_exposed        550\n",
    "nombre_recovered    16336\n",
    "Name: 512, dtype: int64"
   ]
  },
  {
   "cell_type": "markdown",
   "id": "4a87170c",
   "metadata": {},
   "source": [
    "nombre_infected      1041\n",
    "nombre_sain          2055\n",
    "nombre_exposed        541\n",
    "nombre_recovered    16363\n",
    "Name: 513, dtype: int64"
   ]
  },
  {
   "cell_type": "markdown",
   "id": "e2c74996",
   "metadata": {},
   "source": [
    "nombre_infected       996\n",
    "nombre_sain          2055\n",
    "nombre_exposed        560\n",
    "nombre_recovered    16389\n",
    "Name: 514, dtype: int64"
   ]
  },
  {
   "cell_type": "markdown",
   "id": "cd1358cf",
   "metadata": {},
   "source": [
    "nombre_infected       998\n",
    "nombre_sain          2033\n",
    "nombre_exposed        543\n",
    "nombre_recovered    16426\n",
    "Name: 515, dtype: int64"
   ]
  },
  {
   "cell_type": "markdown",
   "id": "b9d14c43",
   "metadata": {},
   "source": [
    "nombre_infected      1009\n",
    "nombre_sain          2030\n",
    "nombre_exposed        533\n",
    "nombre_recovered    16428\n",
    "Name: 516, dtype: int64"
   ]
  },
  {
   "cell_type": "markdown",
   "id": "51ec5e70",
   "metadata": {},
   "source": [
    "nombre_infected      1020\n",
    "nombre_sain          2000\n",
    "nombre_exposed        526\n",
    "nombre_recovered    16454\n",
    "Name: 517, dtype: int64"
   ]
  },
  {
   "cell_type": "markdown",
   "id": "ab59832b",
   "metadata": {},
   "source": [
    "nombre_infected      1032\n",
    "nombre_sain          1992\n",
    "nombre_exposed        515\n",
    "nombre_recovered    16461\n",
    "Name: 518, dtype: int64"
   ]
  },
  {
   "cell_type": "markdown",
   "id": "916ab866",
   "metadata": {},
   "source": [
    "nombre_infected      1017\n",
    "nombre_sain          1973\n",
    "nombre_exposed        531\n",
    "nombre_recovered    16479\n",
    "Name: 519, dtype: int64"
   ]
  },
  {
   "cell_type": "markdown",
   "id": "3da6ac23",
   "metadata": {},
   "source": [
    "nombre_infected      1007\n",
    "nombre_sain          1995\n",
    "nombre_exposed        515\n",
    "nombre_recovered    16483\n",
    "Name: 520, dtype: int64"
   ]
  },
  {
   "cell_type": "markdown",
   "id": "83e5aa1a",
   "metadata": {},
   "source": [
    "nombre_infected      1003\n",
    "nombre_sain          1992\n",
    "nombre_exposed        510\n",
    "nombre_recovered    16495\n",
    "Name: 521, dtype: int64"
   ]
  },
  {
   "cell_type": "markdown",
   "id": "d408e6ac",
   "metadata": {},
   "source": [
    "nombre_infected       985\n",
    "nombre_sain          1991\n",
    "nombre_exposed        500\n",
    "nombre_recovered    16524\n",
    "Name: 522, dtype: int64"
   ]
  },
  {
   "cell_type": "markdown",
   "id": "729a44b2",
   "metadata": {},
   "source": [
    "nombre_infected       950\n",
    "nombre_sain          1995\n",
    "nombre_exposed        508\n",
    "nombre_recovered    16547\n",
    "Name: 523, dtype: int64"
   ]
  },
  {
   "cell_type": "markdown",
   "id": "74a7d625",
   "metadata": {},
   "source": [
    "nombre_infected       952\n",
    "nombre_sain          1965\n",
    "nombre_exposed        519\n",
    "nombre_recovered    16564\n",
    "Name: 524, dtype: int64"
   ]
  },
  {
   "cell_type": "markdown",
   "id": "bb75c167",
   "metadata": {},
   "source": [
    "nombre_infected       926\n",
    "nombre_sain          1962\n",
    "nombre_exposed        519\n",
    "nombre_recovered    16593\n",
    "Name: 525, dtype: int64"
   ]
  },
  {
   "cell_type": "markdown",
   "id": "fe91b4f8",
   "metadata": {},
   "source": [
    "nombre_infected       952\n",
    "nombre_sain          1963\n",
    "nombre_exposed        491\n",
    "nombre_recovered    16594\n",
    "Name: 526, dtype: int64"
   ]
  },
  {
   "cell_type": "markdown",
   "id": "a3fc3761",
   "metadata": {},
   "source": [
    "nombre_infected       927\n",
    "nombre_sain          1954\n",
    "nombre_exposed        505\n",
    "nombre_recovered    16614\n",
    "Name: 527, dtype: int64"
   ]
  },
  {
   "cell_type": "markdown",
   "id": "f0d1cc09",
   "metadata": {},
   "source": [
    "nombre_infected       930\n",
    "nombre_sain          1952\n",
    "nombre_exposed        502\n",
    "nombre_recovered    16616\n",
    "Name: 528, dtype: int64"
   ]
  },
  {
   "cell_type": "markdown",
   "id": "0db4ac82",
   "metadata": {},
   "source": [
    "nombre_infected       920\n",
    "nombre_sain          1982\n",
    "nombre_exposed        482\n",
    "nombre_recovered    16616\n",
    "Name: 529, dtype: int64"
   ]
  },
  {
   "cell_type": "markdown",
   "id": "39bc70b1",
   "metadata": {},
   "source": [
    "nombre_infected       916\n",
    "nombre_sain          1993\n",
    "nombre_exposed        485\n",
    "nombre_recovered    16606\n",
    "Name: 530, dtype: int64"
   ]
  },
  {
   "cell_type": "markdown",
   "id": "d6a94bb9",
   "metadata": {},
   "source": [
    "nombre_infected       911\n",
    "nombre_sain          1993\n",
    "nombre_exposed        501\n",
    "nombre_recovered    16595\n",
    "Name: 531, dtype: int64"
   ]
  },
  {
   "cell_type": "markdown",
   "id": "d47040d3",
   "metadata": {},
   "source": [
    "nombre_infected       897\n",
    "nombre_sain          1987\n",
    "nombre_exposed        492\n",
    "nombre_recovered    16624\n",
    "Name: 532, dtype: int64"
   ]
  },
  {
   "cell_type": "markdown",
   "id": "ca1c3cd3",
   "metadata": {},
   "source": [
    "nombre_infected       902\n",
    "nombre_sain          1974\n",
    "nombre_exposed        509\n",
    "nombre_recovered    16615\n",
    "Name: 533, dtype: int64"
   ]
  },
  {
   "cell_type": "markdown",
   "id": "c5a68a8c",
   "metadata": {},
   "source": [
    "nombre_infected       879\n",
    "nombre_sain          1979\n",
    "nombre_exposed        503\n",
    "nombre_recovered    16639\n",
    "Name: 534, dtype: int64"
   ]
  },
  {
   "cell_type": "markdown",
   "id": "4450b768",
   "metadata": {},
   "source": [
    "nombre_infected       896\n",
    "nombre_sain          1966\n",
    "nombre_exposed        502\n",
    "nombre_recovered    16636\n",
    "Name: 535, dtype: int64"
   ]
  },
  {
   "cell_type": "markdown",
   "id": "13a52984",
   "metadata": {},
   "source": [
    "nombre_infected       905\n",
    "nombre_sain          1980\n",
    "nombre_exposed        489\n",
    "nombre_recovered    16626\n",
    "Name: 536, dtype: int64"
   ]
  },
  {
   "cell_type": "markdown",
   "id": "39d2c705",
   "metadata": {},
   "source": [
    "nombre_infected       899\n",
    "nombre_sain          1996\n",
    "nombre_exposed        477\n",
    "nombre_recovered    16628\n",
    "Name: 537, dtype: int64"
   ]
  },
  {
   "cell_type": "markdown",
   "id": "eedb2e1c",
   "metadata": {},
   "source": [
    "nombre_infected       872\n",
    "nombre_sain          2019\n",
    "nombre_exposed        456\n",
    "nombre_recovered    16653\n",
    "Name: 538, dtype: int64"
   ]
  },
  {
   "cell_type": "markdown",
   "id": "6de57113",
   "metadata": {},
   "source": [
    "nombre_infected       890\n",
    "nombre_sain          2044\n",
    "nombre_exposed        452\n",
    "nombre_recovered    16614\n",
    "Name: 539, dtype: int64"
   ]
  },
  {
   "cell_type": "markdown",
   "id": "d45d209f",
   "metadata": {},
   "source": [
    "nombre_infected       836\n",
    "nombre_sain          2047\n",
    "nombre_exposed        481\n",
    "nombre_recovered    16636\n",
    "Name: 540, dtype: int64"
   ]
  },
  {
   "cell_type": "markdown",
   "id": "24c3e19e",
   "metadata": {},
   "source": [
    "nombre_infected       826\n",
    "nombre_sain          2043\n",
    "nombre_exposed        490\n",
    "nombre_recovered    16641\n",
    "Name: 541, dtype: int64"
   ]
  },
  {
   "cell_type": "markdown",
   "id": "787c1e26",
   "metadata": {},
   "source": [
    "nombre_infected       845\n",
    "nombre_sain          2049\n",
    "nombre_exposed        474\n",
    "nombre_recovered    16632\n",
    "Name: 542, dtype: int64"
   ]
  },
  {
   "cell_type": "markdown",
   "id": "67697b8d",
   "metadata": {},
   "source": [
    "nombre_infected       858\n",
    "nombre_sain          2064\n",
    "nombre_exposed        450\n",
    "nombre_recovered    16628\n",
    "Name: 543, dtype: int64"
   ]
  },
  {
   "cell_type": "markdown",
   "id": "c209cda9",
   "metadata": {},
   "source": [
    "nombre_infected       855\n",
    "nombre_sain          2097\n",
    "nombre_exposed        420\n",
    "nombre_recovered    16628\n",
    "Name: 544, dtype: int64"
   ]
  },
  {
   "cell_type": "markdown",
   "id": "8b272315",
   "metadata": {},
   "source": [
    "nombre_infected       837\n",
    "nombre_sain          2115\n",
    "nombre_exposed        429\n",
    "nombre_recovered    16619\n",
    "Name: 545, dtype: int64"
   ]
  },
  {
   "cell_type": "markdown",
   "id": "6e757e76",
   "metadata": {},
   "source": [
    "nombre_infected       813\n",
    "nombre_sain          2125\n",
    "nombre_exposed        424\n",
    "nombre_recovered    16638\n",
    "Name: 546, dtype: int64"
   ]
  },
  {
   "cell_type": "markdown",
   "id": "a9346d6f",
   "metadata": {},
   "source": [
    "nombre_infected       803\n",
    "nombre_sain          2120\n",
    "nombre_exposed        431\n",
    "nombre_recovered    16646\n",
    "Name: 547, dtype: int64"
   ]
  },
  {
   "cell_type": "markdown",
   "id": "7bb29134",
   "metadata": {},
   "source": [
    "nombre_infected       809\n",
    "nombre_sain          2127\n",
    "nombre_exposed        420\n",
    "nombre_recovered    16644\n",
    "Name: 548, dtype: int64"
   ]
  },
  {
   "cell_type": "markdown",
   "id": "7de9e1d2",
   "metadata": {},
   "source": [
    "nombre_infected       822\n",
    "nombre_sain          2144\n",
    "nombre_exposed        410\n",
    "nombre_recovered    16624\n",
    "Name: 549, dtype: int64"
   ]
  },
  {
   "cell_type": "markdown",
   "id": "526c1372",
   "metadata": {},
   "source": [
    "nombre_infected       819\n",
    "nombre_sain          2123\n",
    "nombre_exposed        428\n",
    "nombre_recovered    16630\n",
    "Name: 550, dtype: int64"
   ]
  },
  {
   "cell_type": "markdown",
   "id": "f5778395",
   "metadata": {},
   "source": [
    "nombre_infected       807\n",
    "nombre_sain          2099\n",
    "nombre_exposed        472\n",
    "nombre_recovered    16622\n",
    "Name: 551, dtype: int64"
   ]
  },
  {
   "cell_type": "markdown",
   "id": "3a585d4e",
   "metadata": {},
   "source": [
    "nombre_infected       809\n",
    "nombre_sain          2103\n",
    "nombre_exposed        460\n",
    "nombre_recovered    16628\n",
    "Name: 552, dtype: int64"
   ]
  },
  {
   "cell_type": "markdown",
   "id": "196cfb9a",
   "metadata": {},
   "source": [
    "nombre_infected       817\n",
    "nombre_sain          2105\n",
    "nombre_exposed        445\n",
    "nombre_recovered    16633\n",
    "Name: 553, dtype: int64"
   ]
  },
  {
   "cell_type": "markdown",
   "id": "32350a01",
   "metadata": {},
   "source": [
    "nombre_infected       815\n",
    "nombre_sain          2104\n",
    "nombre_exposed        420\n",
    "nombre_recovered    16661\n",
    "Name: 554, dtype: int64"
   ]
  },
  {
   "cell_type": "markdown",
   "id": "aee9e16f",
   "metadata": {},
   "source": [
    "nombre_infected       812\n",
    "nombre_sain          2120\n",
    "nombre_exposed        416\n",
    "nombre_recovered    16652\n",
    "Name: 555, dtype: int64"
   ]
  },
  {
   "cell_type": "markdown",
   "id": "71f7173c",
   "metadata": {},
   "source": [
    "nombre_infected       799\n",
    "nombre_sain          2117\n",
    "nombre_exposed        400\n",
    "nombre_recovered    16684\n",
    "Name: 556, dtype: int64"
   ]
  },
  {
   "cell_type": "markdown",
   "id": "3dca2494",
   "metadata": {},
   "source": [
    "nombre_infected       800\n",
    "nombre_sain          2116\n",
    "nombre_exposed        398\n",
    "nombre_recovered    16686\n",
    "Name: 557, dtype: int64"
   ]
  },
  {
   "cell_type": "markdown",
   "id": "860df2d8",
   "metadata": {},
   "source": [
    "nombre_infected       781\n",
    "nombre_sain          2119\n",
    "nombre_exposed        419\n",
    "nombre_recovered    16681\n",
    "Name: 558, dtype: int64"
   ]
  },
  {
   "cell_type": "markdown",
   "id": "fb562cc3",
   "metadata": {},
   "source": [
    "nombre_infected       768\n",
    "nombre_sain          2114\n",
    "nombre_exposed        416\n",
    "nombre_recovered    16702\n",
    "Name: 559, dtype: int64"
   ]
  },
  {
   "cell_type": "markdown",
   "id": "738b0853",
   "metadata": {},
   "source": [
    "nombre_infected       765\n",
    "nombre_sain          2092\n",
    "nombre_exposed        424\n",
    "nombre_recovered    16719\n",
    "Name: 560, dtype: int64"
   ]
  },
  {
   "cell_type": "markdown",
   "id": "9ace7d2f",
   "metadata": {},
   "source": [
    "nombre_infected       756\n",
    "nombre_sain          2076\n",
    "nombre_exposed        445\n",
    "nombre_recovered    16723\n",
    "Name: 561, dtype: int64"
   ]
  },
  {
   "cell_type": "markdown",
   "id": "36a781d3",
   "metadata": {},
   "source": [
    "nombre_infected       753\n",
    "nombre_sain          2102\n",
    "nombre_exposed        435\n",
    "nombre_recovered    16710\n",
    "Name: 562, dtype: int64"
   ]
  },
  {
   "cell_type": "markdown",
   "id": "62c759d5",
   "metadata": {},
   "source": [
    "nombre_infected       751\n",
    "nombre_sain          2094\n",
    "nombre_exposed        418\n",
    "nombre_recovered    16737\n",
    "Name: 563, dtype: int64"
   ]
  },
  {
   "cell_type": "markdown",
   "id": "58a5dd7b",
   "metadata": {},
   "source": [
    "nombre_infected       743\n",
    "nombre_sain          2127\n",
    "nombre_exposed        408\n",
    "nombre_recovered    16722\n",
    "Name: 564, dtype: int64"
   ]
  },
  {
   "cell_type": "markdown",
   "id": "9886cca5",
   "metadata": {},
   "source": [
    "nombre_infected       729\n",
    "nombre_sain          2143\n",
    "nombre_exposed        394\n",
    "nombre_recovered    16734\n",
    "Name: 565, dtype: int64"
   ]
  },
  {
   "cell_type": "markdown",
   "id": "c6f1cecf",
   "metadata": {},
   "source": [
    "nombre_infected       729\n",
    "nombre_sain          2166\n",
    "nombre_exposed        377\n",
    "nombre_recovered    16728\n",
    "Name: 566, dtype: int64"
   ]
  },
  {
   "cell_type": "markdown",
   "id": "735404b4",
   "metadata": {},
   "source": [
    "nombre_infected       709\n",
    "nombre_sain          2188\n",
    "nombre_exposed        375\n",
    "nombre_recovered    16728\n",
    "Name: 567, dtype: int64"
   ]
  },
  {
   "cell_type": "markdown",
   "id": "ffadf1c1",
   "metadata": {},
   "source": [
    "nombre_infected       690\n",
    "nombre_sain          2204\n",
    "nombre_exposed        370\n",
    "nombre_recovered    16736\n",
    "Name: 568, dtype: int64"
   ]
  },
  {
   "cell_type": "markdown",
   "id": "d3016c31",
   "metadata": {},
   "source": [
    "nombre_infected       670\n",
    "nombre_sain          2207\n",
    "nombre_exposed        375\n",
    "nombre_recovered    16748\n",
    "Name: 569, dtype: int64"
   ]
  },
  {
   "cell_type": "markdown",
   "id": "8ff8019d",
   "metadata": {},
   "source": [
    "nombre_infected       673\n",
    "nombre_sain          2254\n",
    "nombre_exposed        344\n",
    "nombre_recovered    16729\n",
    "Name: 570, dtype: int64"
   ]
  },
  {
   "cell_type": "markdown",
   "id": "51005b65",
   "metadata": {},
   "source": [
    "nombre_infected       651\n",
    "nombre_sain          2280\n",
    "nombre_exposed        359\n",
    "nombre_recovered    16710\n",
    "Name: 571, dtype: int64"
   ]
  },
  {
   "cell_type": "markdown",
   "id": "cd4cf409",
   "metadata": {},
   "source": [
    "nombre_infected       645\n",
    "nombre_sain          2294\n",
    "nombre_exposed        377\n",
    "nombre_recovered    16684\n",
    "Name: 572, dtype: int64"
   ]
  },
  {
   "cell_type": "markdown",
   "id": "69fd4e58",
   "metadata": {},
   "source": [
    "nombre_infected       649\n",
    "nombre_sain          2312\n",
    "nombre_exposed        385\n",
    "nombre_recovered    16654\n",
    "Name: 573, dtype: int64"
   ]
  },
  {
   "cell_type": "markdown",
   "id": "3c5de02b",
   "metadata": {},
   "source": [
    "nombre_infected       662\n",
    "nombre_sain          2337\n",
    "nombre_exposed        369\n",
    "nombre_recovered    16632\n",
    "Name: 574, dtype: int64"
   ]
  },
  {
   "cell_type": "markdown",
   "id": "e99f1453",
   "metadata": {},
   "source": [
    "nombre_infected       675\n",
    "nombre_sain          2355\n",
    "nombre_exposed        361\n",
    "nombre_recovered    16609\n",
    "Name: 575, dtype: int64"
   ]
  },
  {
   "cell_type": "markdown",
   "id": "9c033866",
   "metadata": {},
   "source": [
    "nombre_infected       639\n",
    "nombre_sain          2368\n",
    "nombre_exposed        384\n",
    "nombre_recovered    16609\n",
    "Name: 576, dtype: int64"
   ]
  },
  {
   "cell_type": "markdown",
   "id": "5dc8daff",
   "metadata": {},
   "source": [
    "nombre_infected       657\n",
    "nombre_sain          2388\n",
    "nombre_exposed        369\n",
    "nombre_recovered    16586\n",
    "Name: 577, dtype: int64"
   ]
  },
  {
   "cell_type": "markdown",
   "id": "f279a9ae",
   "metadata": {},
   "source": [
    "nombre_infected       671\n",
    "nombre_sain          2398\n",
    "nombre_exposed        380\n",
    "nombre_recovered    16551\n",
    "Name: 578, dtype: int64"
   ]
  },
  {
   "cell_type": "markdown",
   "id": "07cf4cae",
   "metadata": {},
   "source": [
    "nombre_infected       668\n",
    "nombre_sain          2432\n",
    "nombre_exposed        387\n",
    "nombre_recovered    16513\n",
    "Name: 579, dtype: int64"
   ]
  },
  {
   "cell_type": "markdown",
   "id": "891096db",
   "metadata": {},
   "source": [
    "nombre_infected       677\n",
    "nombre_sain          2460\n",
    "nombre_exposed        397\n",
    "nombre_recovered    16466\n",
    "Name: 580, dtype: int64"
   ]
  },
  {
   "cell_type": "markdown",
   "id": "4b6b0390",
   "metadata": {},
   "source": [
    "nombre_infected       693\n",
    "nombre_sain          2509\n",
    "nombre_exposed        390\n",
    "nombre_recovered    16408\n",
    "Name: 581, dtype: int64"
   ]
  },
  {
   "cell_type": "markdown",
   "id": "8386b3ee",
   "metadata": {},
   "source": [
    "nombre_infected       684\n",
    "nombre_sain          2513\n",
    "nombre_exposed        405\n",
    "nombre_recovered    16398\n",
    "Name: 582, dtype: int64"
   ]
  },
  {
   "cell_type": "markdown",
   "id": "e24037aa",
   "metadata": {},
   "source": [
    "nombre_infected       663\n",
    "nombre_sain          2534\n",
    "nombre_exposed        430\n",
    "nombre_recovered    16373\n",
    "Name: 583, dtype: int64"
   ]
  },
  {
   "cell_type": "markdown",
   "id": "405ad07a",
   "metadata": {},
   "source": [
    "nombre_infected       650\n",
    "nombre_sain          2550\n",
    "nombre_exposed        443\n",
    "nombre_recovered    16357\n",
    "Name: 584, dtype: int64"
   ]
  },
  {
   "cell_type": "markdown",
   "id": "4a66f508",
   "metadata": {},
   "source": [
    "nombre_infected       660\n",
    "nombre_sain          2574\n",
    "nombre_exposed        424\n",
    "nombre_recovered    16342\n",
    "Name: 585, dtype: int64"
   ]
  },
  {
   "cell_type": "markdown",
   "id": "21a68773",
   "metadata": {},
   "source": [
    "nombre_infected       676\n",
    "nombre_sain          2582\n",
    "nombre_exposed        427\n",
    "nombre_recovered    16315\n",
    "Name: 586, dtype: int64"
   ]
  },
  {
   "cell_type": "markdown",
   "id": "884ae797",
   "metadata": {},
   "source": [
    "nombre_infected       673\n",
    "nombre_sain          2603\n",
    "nombre_exposed        430\n",
    "nombre_recovered    16294\n",
    "Name: 587, dtype: int64"
   ]
  },
  {
   "cell_type": "markdown",
   "id": "1e4efe2e",
   "metadata": {},
   "source": [
    "nombre_infected       668\n",
    "nombre_sain          2620\n",
    "nombre_exposed        444\n",
    "nombre_recovered    16268\n",
    "Name: 588, dtype: int64"
   ]
  },
  {
   "cell_type": "markdown",
   "id": "1031b8c6",
   "metadata": {},
   "source": [
    "nombre_infected       688\n",
    "nombre_sain          2647\n",
    "nombre_exposed        439\n",
    "nombre_recovered    16226\n",
    "Name: 589, dtype: int64"
   ]
  },
  {
   "cell_type": "markdown",
   "id": "20c517db",
   "metadata": {},
   "source": [
    "nombre_infected       711\n",
    "nombre_sain          2624\n",
    "nombre_exposed        461\n",
    "nombre_recovered    16204\n",
    "Name: 590, dtype: int64"
   ]
  },
  {
   "cell_type": "markdown",
   "id": "96ca4e1d",
   "metadata": {},
   "source": [
    "nombre_infected       714\n",
    "nombre_sain          2628\n",
    "nombre_exposed        474\n",
    "nombre_recovered    16184\n",
    "Name: 591, dtype: int64"
   ]
  },
  {
   "cell_type": "markdown",
   "id": "e5701178",
   "metadata": {},
   "source": [
    "nombre_infected       736\n",
    "nombre_sain          2634\n",
    "nombre_exposed        474\n",
    "nombre_recovered    16156\n",
    "Name: 592, dtype: int64"
   ]
  },
  {
   "cell_type": "markdown",
   "id": "c585dffb",
   "metadata": {},
   "source": [
    "nombre_infected       748\n",
    "nombre_sain          2609\n",
    "nombre_exposed        508\n",
    "nombre_recovered    16135\n",
    "Name: 593, dtype: int64"
   ]
  },
  {
   "cell_type": "markdown",
   "id": "2fe821fe",
   "metadata": {},
   "source": [
    "nombre_infected       745\n",
    "nombre_sain          2597\n",
    "nombre_exposed        516\n",
    "nombre_recovered    16142\n",
    "Name: 594, dtype: int64"
   ]
  },
  {
   "cell_type": "markdown",
   "id": "e3eba528",
   "metadata": {},
   "source": [
    "nombre_infected       763\n",
    "nombre_sain          2598\n",
    "nombre_exposed        508\n",
    "nombre_recovered    16131\n",
    "Name: 595, dtype: int64"
   ]
  },
  {
   "cell_type": "markdown",
   "id": "4e88dedc",
   "metadata": {},
   "source": [
    "nombre_infected       757\n",
    "nombre_sain          2575\n",
    "nombre_exposed        526\n",
    "nombre_recovered    16142\n",
    "Name: 596, dtype: int64"
   ]
  },
  {
   "cell_type": "markdown",
   "id": "9f92e88d",
   "metadata": {},
   "source": [
    "nombre_infected       759\n",
    "nombre_sain          2559\n",
    "nombre_exposed        553\n",
    "nombre_recovered    16129\n",
    "Name: 597, dtype: int64"
   ]
  },
  {
   "cell_type": "markdown",
   "id": "4301c57d",
   "metadata": {},
   "source": [
    "nombre_infected       772\n",
    "nombre_sain          2559\n",
    "nombre_exposed        552\n",
    "nombre_recovered    16117\n",
    "Name: 598, dtype: int64"
   ]
  },
  {
   "cell_type": "markdown",
   "id": "12d1eba1",
   "metadata": {},
   "source": [
    "nombre_infected       792\n",
    "nombre_sain          2530\n",
    "nombre_exposed        541\n",
    "nombre_recovered    16137\n",
    "Name: 599, dtype: int64"
   ]
  },
  {
   "cell_type": "markdown",
   "id": "02a9a521",
   "metadata": {},
   "source": [
    "nombre_infected       807\n",
    "nombre_sain          2508\n",
    "nombre_exposed        566\n",
    "nombre_recovered    16119\n",
    "Name: 600, dtype: int64"
   ]
  },
  {
   "cell_type": "markdown",
   "id": "4ee49385",
   "metadata": {},
   "source": [
    "nombre_infected       825\n",
    "nombre_sain          2501\n",
    "nombre_exposed        561\n",
    "nombre_recovered    16113\n",
    "Name: 601, dtype: int64"
   ]
  },
  {
   "cell_type": "markdown",
   "id": "f83f949e",
   "metadata": {},
   "source": [
    "nombre_infected       849\n",
    "nombre_sain          2501\n",
    "nombre_exposed        542\n",
    "nombre_recovered    16108\n",
    "Name: 602, dtype: int64"
   ]
  },
  {
   "cell_type": "markdown",
   "id": "5c141814",
   "metadata": {},
   "source": [
    "nombre_infected       856\n",
    "nombre_sain          2496\n",
    "nombre_exposed        557\n",
    "nombre_recovered    16091\n",
    "Name: 603, dtype: int64"
   ]
  },
  {
   "cell_type": "markdown",
   "id": "2315795d",
   "metadata": {},
   "source": [
    "nombre_infected       870\n",
    "nombre_sain          2462\n",
    "nombre_exposed        564\n",
    "nombre_recovered    16104\n",
    "Name: 604, dtype: int64"
   ]
  },
  {
   "cell_type": "markdown",
   "id": "daf1fa6f",
   "metadata": {},
   "source": [
    "nombre_infected       907\n",
    "nombre_sain          2437\n",
    "nombre_exposed        560\n",
    "nombre_recovered    16096\n",
    "Name: 605, dtype: int64"
   ]
  },
  {
   "cell_type": "markdown",
   "id": "dbb46943",
   "metadata": {},
   "source": [
    "nombre_infected       915\n",
    "nombre_sain          2424\n",
    "nombre_exposed        557\n",
    "nombre_recovered    16104\n",
    "Name: 606, dtype: int64"
   ]
  },
  {
   "cell_type": "markdown",
   "id": "8c66618f",
   "metadata": {},
   "source": [
    "nombre_infected       922\n",
    "nombre_sain          2393\n",
    "nombre_exposed        570\n",
    "nombre_recovered    16115\n",
    "Name: 607, dtype: int64"
   ]
  },
  {
   "cell_type": "markdown",
   "id": "4911837d",
   "metadata": {},
   "source": [
    "nombre_infected       932\n",
    "nombre_sain          2345\n",
    "nombre_exposed        584\n",
    "nombre_recovered    16139\n",
    "Name: 608, dtype: int64"
   ]
  },
  {
   "cell_type": "markdown",
   "id": "6a13ea93",
   "metadata": {},
   "source": [
    "nombre_infected       923\n",
    "nombre_sain          2333\n",
    "nombre_exposed        600\n",
    "nombre_recovered    16144\n",
    "Name: 609, dtype: int64"
   ]
  },
  {
   "cell_type": "markdown",
   "id": "4a096d02",
   "metadata": {},
   "source": [
    "nombre_infected       946\n",
    "nombre_sain          2302\n",
    "nombre_exposed        584\n",
    "nombre_recovered    16168\n",
    "Name: 610, dtype: int64"
   ]
  },
  {
   "cell_type": "markdown",
   "id": "0e08e06e",
   "metadata": {},
   "source": [
    "nombre_infected       964\n",
    "nombre_sain          2269\n",
    "nombre_exposed        573\n",
    "nombre_recovered    16194\n",
    "Name: 611, dtype: int64"
   ]
  },
  {
   "cell_type": "markdown",
   "id": "7903296d",
   "metadata": {},
   "source": [
    "nombre_infected       950\n",
    "nombre_sain          2244\n",
    "nombre_exposed        584\n",
    "nombre_recovered    16222\n",
    "Name: 612, dtype: int64"
   ]
  },
  {
   "cell_type": "markdown",
   "id": "83d159a8",
   "metadata": {},
   "source": [
    "nombre_infected       924\n",
    "nombre_sain          2253\n",
    "nombre_exposed        577\n",
    "nombre_recovered    16246\n",
    "Name: 613, dtype: int64"
   ]
  },
  {
   "cell_type": "markdown",
   "id": "ffa49615",
   "metadata": {},
   "source": [
    "nombre_infected       954\n",
    "nombre_sain          2269\n",
    "nombre_exposed        547\n",
    "nombre_recovered    16230\n",
    "Name: 614, dtype: int64"
   ]
  },
  {
   "cell_type": "markdown",
   "id": "91864543",
   "metadata": {},
   "source": [
    "nombre_infected       910\n",
    "nombre_sain          2270\n",
    "nombre_exposed        542\n",
    "nombre_recovered    16278\n",
    "Name: 615, dtype: int64"
   ]
  },
  {
   "cell_type": "markdown",
   "id": "a267e121",
   "metadata": {},
   "source": [
    "nombre_infected       916\n",
    "nombre_sain          2261\n",
    "nombre_exposed        543\n",
    "nombre_recovered    16280\n",
    "Name: 616, dtype: int64"
   ]
  },
  {
   "cell_type": "markdown",
   "id": "9867cfc0",
   "metadata": {},
   "source": [
    "nombre_infected       919\n",
    "nombre_sain          2281\n",
    "nombre_exposed        540\n",
    "nombre_recovered    16260\n",
    "Name: 617, dtype: int64"
   ]
  },
  {
   "cell_type": "markdown",
   "id": "cd725e4c",
   "metadata": {},
   "source": [
    "nombre_infected       911\n",
    "nombre_sain          2270\n",
    "nombre_exposed        562\n",
    "nombre_recovered    16257\n",
    "Name: 618, dtype: int64"
   ]
  },
  {
   "cell_type": "markdown",
   "id": "9cd016e0",
   "metadata": {},
   "source": [
    "nombre_infected       919\n",
    "nombre_sain          2254\n",
    "nombre_exposed        567\n",
    "nombre_recovered    16260\n",
    "Name: 619, dtype: int64"
   ]
  },
  {
   "cell_type": "markdown",
   "id": "429b4b7e",
   "metadata": {},
   "source": [
    "nombre_infected       898\n",
    "nombre_sain          2244\n",
    "nombre_exposed        581\n",
    "nombre_recovered    16277\n",
    "Name: 620, dtype: int64"
   ]
  },
  {
   "cell_type": "markdown",
   "id": "5621045d",
   "metadata": {},
   "source": [
    "nombre_infected       899\n",
    "nombre_sain          2235\n",
    "nombre_exposed        565\n",
    "nombre_recovered    16301\n",
    "Name: 621, dtype: int64"
   ]
  },
  {
   "cell_type": "markdown",
   "id": "2a6d3b86",
   "metadata": {},
   "source": [
    "nombre_infected       919\n",
    "nombre_sain          2251\n",
    "nombre_exposed        527\n",
    "nombre_recovered    16303\n",
    "Name: 622, dtype: int64"
   ]
  },
  {
   "cell_type": "markdown",
   "id": "f1eaea06",
   "metadata": {},
   "source": [
    "nombre_infected       933\n",
    "nombre_sain          2250\n",
    "nombre_exposed        496\n",
    "nombre_recovered    16321\n",
    "Name: 623, dtype: int64"
   ]
  },
  {
   "cell_type": "markdown",
   "id": "d12b1352",
   "metadata": {},
   "source": [
    "nombre_infected       902\n",
    "nombre_sain          2242\n",
    "nombre_exposed        511\n",
    "nombre_recovered    16345\n",
    "Name: 624, dtype: int64"
   ]
  },
  {
   "cell_type": "markdown",
   "id": "ac6cd221",
   "metadata": {},
   "source": [
    "nombre_infected       893\n",
    "nombre_sain          2230\n",
    "nombre_exposed        518\n",
    "nombre_recovered    16359\n",
    "Name: 625, dtype: int64"
   ]
  },
  {
   "cell_type": "markdown",
   "id": "8136f945",
   "metadata": {},
   "source": [
    "nombre_infected       879\n",
    "nombre_sain          2224\n",
    "nombre_exposed        520\n",
    "nombre_recovered    16377\n",
    "Name: 626, dtype: int64"
   ]
  },
  {
   "cell_type": "markdown",
   "id": "36c3c615",
   "metadata": {},
   "source": [
    "nombre_infected       895\n",
    "nombre_sain          2217\n",
    "nombre_exposed        507\n",
    "nombre_recovered    16381\n",
    "Name: 627, dtype: int64"
   ]
  },
  {
   "cell_type": "markdown",
   "id": "c4ee8af0",
   "metadata": {},
   "source": [
    "nombre_infected       887\n",
    "nombre_sain          2193\n",
    "nombre_exposed        504\n",
    "nombre_recovered    16416\n",
    "Name: 628, dtype: int64"
   ]
  },
  {
   "cell_type": "markdown",
   "id": "5036a722",
   "metadata": {},
   "source": [
    "nombre_infected       865\n",
    "nombre_sain          2181\n",
    "nombre_exposed        519\n",
    "nombre_recovered    16435\n",
    "Name: 629, dtype: int64"
   ]
  },
  {
   "cell_type": "markdown",
   "id": "7395e0c0",
   "metadata": {},
   "source": [
    "nombre_infected       853\n",
    "nombre_sain          2174\n",
    "nombre_exposed        526\n",
    "nombre_recovered    16447\n",
    "Name: 630, dtype: int64"
   ]
  },
  {
   "cell_type": "markdown",
   "id": "5fe97bad",
   "metadata": {},
   "source": [
    "nombre_infected       858\n",
    "nombre_sain          2168\n",
    "nombre_exposed        533\n",
    "nombre_recovered    16441\n",
    "Name: 631, dtype: int64"
   ]
  },
  {
   "cell_type": "markdown",
   "id": "0c2cccca",
   "metadata": {},
   "source": [
    "nombre_infected       872\n",
    "nombre_sain          2184\n",
    "nombre_exposed        514\n",
    "nombre_recovered    16430\n",
    "Name: 632, dtype: int64"
   ]
  },
  {
   "cell_type": "markdown",
   "id": "bf758517",
   "metadata": {},
   "source": [
    "nombre_infected       870\n",
    "nombre_sain          2197\n",
    "nombre_exposed        501\n",
    "nombre_recovered    16432\n",
    "Name: 633, dtype: int64"
   ]
  },
  {
   "cell_type": "markdown",
   "id": "6fde7a2a",
   "metadata": {},
   "source": [
    "nombre_infected       867\n",
    "nombre_sain          2194\n",
    "nombre_exposed        498\n",
    "nombre_recovered    16441\n",
    "Name: 634, dtype: int64"
   ]
  },
  {
   "cell_type": "markdown",
   "id": "3c4b2d50",
   "metadata": {},
   "source": [
    "nombre_infected       843\n",
    "nombre_sain          2212\n",
    "nombre_exposed        512\n",
    "nombre_recovered    16433\n",
    "Name: 635, dtype: int64"
   ]
  },
  {
   "cell_type": "markdown",
   "id": "4fcc2699",
   "metadata": {},
   "source": [
    "nombre_infected       860\n",
    "nombre_sain          2218\n",
    "nombre_exposed        493\n",
    "nombre_recovered    16429\n",
    "Name: 636, dtype: int64"
   ]
  },
  {
   "cell_type": "markdown",
   "id": "2e034cb9",
   "metadata": {},
   "source": [
    "nombre_infected       851\n",
    "nombre_sain          2228\n",
    "nombre_exposed        488\n",
    "nombre_recovered    16433\n",
    "Name: 637, dtype: int64"
   ]
  },
  {
   "cell_type": "markdown",
   "id": "00353195",
   "metadata": {},
   "source": [
    "nombre_infected       848\n",
    "nombre_sain          2266\n",
    "nombre_exposed        473\n",
    "nombre_recovered    16413\n",
    "Name: 638, dtype: int64"
   ]
  },
  {
   "cell_type": "markdown",
   "id": "1677b7cb",
   "metadata": {},
   "source": [
    "nombre_infected       837\n",
    "nombre_sain          2262\n",
    "nombre_exposed        479\n",
    "nombre_recovered    16422\n",
    "Name: 639, dtype: int64"
   ]
  },
  {
   "cell_type": "markdown",
   "id": "3d607b51",
   "metadata": {},
   "source": [
    "nombre_infected       841\n",
    "nombre_sain          2261\n",
    "nombre_exposed        483\n",
    "nombre_recovered    16415\n",
    "Name: 640, dtype: int64"
   ]
  },
  {
   "cell_type": "markdown",
   "id": "2135c64e",
   "metadata": {},
   "source": [
    "nombre_infected       834\n",
    "nombre_sain          2276\n",
    "nombre_exposed        474\n",
    "nombre_recovered    16416\n",
    "Name: 641, dtype: int64"
   ]
  },
  {
   "cell_type": "markdown",
   "id": "7f664166",
   "metadata": {},
   "source": [
    "nombre_infected       828\n",
    "nombre_sain          2288\n",
    "nombre_exposed        465\n",
    "nombre_recovered    16419\n",
    "Name: 642, dtype: int64"
   ]
  },
  {
   "cell_type": "markdown",
   "id": "ca4cf8a7",
   "metadata": {},
   "source": [
    "nombre_infected       795\n",
    "nombre_sain          2285\n",
    "nombre_exposed        494\n",
    "nombre_recovered    16426\n",
    "Name: 643, dtype: int64"
   ]
  },
  {
   "cell_type": "markdown",
   "id": "2fc4ff8f",
   "metadata": {},
   "source": [
    "nombre_infected       806\n",
    "nombre_sain          2285\n",
    "nombre_exposed        492\n",
    "nombre_recovered    16417\n",
    "Name: 644, dtype: int64"
   ]
  },
  {
   "cell_type": "markdown",
   "id": "47d594fa",
   "metadata": {},
   "source": [
    "nombre_infected       788\n",
    "nombre_sain          2287\n",
    "nombre_exposed        492\n",
    "nombre_recovered    16433\n",
    "Name: 645, dtype: int64"
   ]
  },
  {
   "cell_type": "markdown",
   "id": "7dd6938d",
   "metadata": {},
   "source": [
    "nombre_infected       788\n",
    "nombre_sain          2279\n",
    "nombre_exposed        492\n",
    "nombre_recovered    16441\n",
    "Name: 646, dtype: int64"
   ]
  },
  {
   "cell_type": "markdown",
   "id": "34f27a8f",
   "metadata": {},
   "source": [
    "nombre_infected       782\n",
    "nombre_sain          2271\n",
    "nombre_exposed        493\n",
    "nombre_recovered    16454\n",
    "Name: 647, dtype: int64"
   ]
  },
  {
   "cell_type": "markdown",
   "id": "8bc6c2f2",
   "metadata": {},
   "source": [
    "nombre_infected       782\n",
    "nombre_sain          2271\n",
    "nombre_exposed        497\n",
    "nombre_recovered    16450\n",
    "Name: 648, dtype: int64"
   ]
  },
  {
   "cell_type": "markdown",
   "id": "8b2d3603",
   "metadata": {},
   "source": [
    "nombre_infected       771\n",
    "nombre_sain          2269\n",
    "nombre_exposed        483\n",
    "nombre_recovered    16477\n",
    "Name: 649, dtype: int64"
   ]
  },
  {
   "cell_type": "markdown",
   "id": "3cb560a3",
   "metadata": {},
   "source": [
    "nombre_infected       776\n",
    "nombre_sain          2261\n",
    "nombre_exposed        484\n",
    "nombre_recovered    16479\n",
    "Name: 650, dtype: int64"
   ]
  },
  {
   "cell_type": "markdown",
   "id": "e877d38e",
   "metadata": {},
   "source": [
    "nombre_infected       787\n",
    "nombre_sain          2272\n",
    "nombre_exposed        474\n",
    "nombre_recovered    16467\n",
    "Name: 651, dtype: int64"
   ]
  },
  {
   "cell_type": "markdown",
   "id": "6ca199c4",
   "metadata": {},
   "source": [
    "nombre_infected       809\n",
    "nombre_sain          2257\n",
    "nombre_exposed        481\n",
    "nombre_recovered    16453\n",
    "Name: 652, dtype: int64"
   ]
  },
  {
   "cell_type": "markdown",
   "id": "4013e998",
   "metadata": {},
   "source": [
    "nombre_infected       818\n",
    "nombre_sain          2266\n",
    "nombre_exposed        478\n",
    "nombre_recovered    16438\n",
    "Name: 653, dtype: int64"
   ]
  },
  {
   "cell_type": "markdown",
   "id": "20020b37",
   "metadata": {},
   "source": [
    "nombre_infected       828\n",
    "nombre_sain          2263\n",
    "nombre_exposed        488\n",
    "nombre_recovered    16421\n",
    "Name: 654, dtype: int64"
   ]
  },
  {
   "cell_type": "markdown",
   "id": "d17a983f",
   "metadata": {},
   "source": [
    "nombre_infected       815\n",
    "nombre_sain          2258\n",
    "nombre_exposed        485\n",
    "nombre_recovered    16442\n",
    "Name: 655, dtype: int64"
   ]
  },
  {
   "cell_type": "markdown",
   "id": "9e943462",
   "metadata": {},
   "source": [
    "nombre_infected       801\n",
    "nombre_sain          2264\n",
    "nombre_exposed        471\n",
    "nombre_recovered    16464\n",
    "Name: 656, dtype: int64"
   ]
  },
  {
   "cell_type": "markdown",
   "id": "2c40022f",
   "metadata": {},
   "source": [
    "nombre_infected       797\n",
    "nombre_sain          2253\n",
    "nombre_exposed        478\n",
    "nombre_recovered    16472\n",
    "Name: 657, dtype: int64"
   ]
  },
  {
   "cell_type": "markdown",
   "id": "a5c88ad2",
   "metadata": {},
   "source": [
    "nombre_infected       775\n",
    "nombre_sain          2273\n",
    "nombre_exposed        473\n",
    "nombre_recovered    16479\n",
    "Name: 658, dtype: int64"
   ]
  },
  {
   "cell_type": "markdown",
   "id": "81ea49c6",
   "metadata": {},
   "source": [
    "nombre_infected       767\n",
    "nombre_sain          2261\n",
    "nombre_exposed        472\n",
    "nombre_recovered    16500\n",
    "Name: 659, dtype: int64"
   ]
  },
  {
   "cell_type": "markdown",
   "id": "ae898555",
   "metadata": {},
   "source": [
    "nombre_infected       761\n",
    "nombre_sain          2258\n",
    "nombre_exposed        473\n",
    "nombre_recovered    16508\n",
    "Name: 660, dtype: int64"
   ]
  },
  {
   "cell_type": "markdown",
   "id": "879c8b76",
   "metadata": {},
   "source": [
    "nombre_infected       750\n",
    "nombre_sain          2249\n",
    "nombre_exposed        477\n",
    "nombre_recovered    16524\n",
    "Name: 661, dtype: int64"
   ]
  },
  {
   "cell_type": "markdown",
   "id": "e490d628",
   "metadata": {},
   "source": [
    "nombre_infected       746\n",
    "nombre_sain          2243\n",
    "nombre_exposed        498\n",
    "nombre_recovered    16513\n",
    "Name: 662, dtype: int64"
   ]
  },
  {
   "cell_type": "markdown",
   "id": "f77d6d0f",
   "metadata": {},
   "source": [
    "nombre_infected       762\n",
    "nombre_sain          2270\n",
    "nombre_exposed        463\n",
    "nombre_recovered    16505\n",
    "Name: 663, dtype: int64"
   ]
  },
  {
   "cell_type": "markdown",
   "id": "bd036eef",
   "metadata": {},
   "source": [
    "nombre_infected       764\n",
    "nombre_sain          2283\n",
    "nombre_exposed        449\n",
    "nombre_recovered    16504\n",
    "Name: 664, dtype: int64"
   ]
  },
  {
   "cell_type": "markdown",
   "id": "f32ec4b7",
   "metadata": {},
   "source": [
    "nombre_infected       764\n",
    "nombre_sain          2295\n",
    "nombre_exposed        438\n",
    "nombre_recovered    16503\n",
    "Name: 665, dtype: int64"
   ]
  },
  {
   "cell_type": "markdown",
   "id": "2aec1218",
   "metadata": {},
   "source": [
    "nombre_infected       773\n",
    "nombre_sain          2287\n",
    "nombre_exposed        442\n",
    "nombre_recovered    16498\n",
    "Name: 666, dtype: int64"
   ]
  },
  {
   "cell_type": "markdown",
   "id": "2a5ab43f",
   "metadata": {},
   "source": [
    "nombre_infected       759\n",
    "nombre_sain          2297\n",
    "nombre_exposed        438\n",
    "nombre_recovered    16506\n",
    "Name: 667, dtype: int64"
   ]
  },
  {
   "cell_type": "markdown",
   "id": "0883d8ff",
   "metadata": {},
   "source": [
    "nombre_infected       754\n",
    "nombre_sain          2297\n",
    "nombre_exposed        437\n",
    "nombre_recovered    16512\n",
    "Name: 668, dtype: int64"
   ]
  },
  {
   "cell_type": "markdown",
   "id": "541c057b",
   "metadata": {},
   "source": [
    "nombre_infected       741\n",
    "nombre_sain          2298\n",
    "nombre_exposed        442\n",
    "nombre_recovered    16519\n",
    "Name: 669, dtype: int64"
   ]
  },
  {
   "cell_type": "markdown",
   "id": "aebe4557",
   "metadata": {},
   "source": [
    "nombre_infected       735\n",
    "nombre_sain          2331\n",
    "nombre_exposed        438\n",
    "nombre_recovered    16496\n",
    "Name: 670, dtype: int64"
   ]
  },
  {
   "cell_type": "markdown",
   "id": "413ddf0e",
   "metadata": {},
   "source": [
    "nombre_infected       714\n",
    "nombre_sain          2328\n",
    "nombre_exposed        456\n",
    "nombre_recovered    16502\n",
    "Name: 671, dtype: int64"
   ]
  },
  {
   "cell_type": "markdown",
   "id": "778b1fb8",
   "metadata": {},
   "source": [
    "nombre_infected       693\n",
    "nombre_sain          2360\n",
    "nombre_exposed        464\n",
    "nombre_recovered    16483\n",
    "Name: 672, dtype: int64"
   ]
  },
  {
   "cell_type": "markdown",
   "id": "e32f5f68",
   "metadata": {},
   "source": [
    "nombre_infected       697\n",
    "nombre_sain          2396\n",
    "nombre_exposed        454\n",
    "nombre_recovered    16453\n",
    "Name: 673, dtype: int64"
   ]
  },
  {
   "cell_type": "markdown",
   "id": "b727bdc4",
   "metadata": {},
   "source": [
    "nombre_infected       694\n",
    "nombre_sain          2424\n",
    "nombre_exposed        443\n",
    "nombre_recovered    16439\n",
    "Name: 674, dtype: int64"
   ]
  },
  {
   "cell_type": "markdown",
   "id": "52461158",
   "metadata": {},
   "source": [
    "nombre_infected       682\n",
    "nombre_sain          2446\n",
    "nombre_exposed        445\n",
    "nombre_recovered    16427\n",
    "Name: 675, dtype: int64"
   ]
  },
  {
   "cell_type": "markdown",
   "id": "76fe04bf",
   "metadata": {},
   "source": [
    "nombre_infected       692\n",
    "nombre_sain          2466\n",
    "nombre_exposed        438\n",
    "nombre_recovered    16404\n",
    "Name: 676, dtype: int64"
   ]
  },
  {
   "cell_type": "markdown",
   "id": "7421919a",
   "metadata": {},
   "source": [
    "nombre_infected       692\n",
    "nombre_sain          2464\n",
    "nombre_exposed        449\n",
    "nombre_recovered    16395\n",
    "Name: 677, dtype: int64"
   ]
  },
  {
   "cell_type": "markdown",
   "id": "854eeee9",
   "metadata": {},
   "source": [
    "nombre_infected       699\n",
    "nombre_sain          2464\n",
    "nombre_exposed        458\n",
    "nombre_recovered    16379\n",
    "Name: 678, dtype: int64"
   ]
  },
  {
   "cell_type": "markdown",
   "id": "99c7defa",
   "metadata": {},
   "source": [
    "nombre_infected       677\n",
    "nombre_sain          2483\n",
    "nombre_exposed        473\n",
    "nombre_recovered    16367\n",
    "Name: 679, dtype: int64"
   ]
  },
  {
   "cell_type": "markdown",
   "id": "a12ad057",
   "metadata": {},
   "source": [
    "nombre_infected       700\n",
    "nombre_sain          2484\n",
    "nombre_exposed        458\n",
    "nombre_recovered    16358\n",
    "Name: 680, dtype: int64"
   ]
  },
  {
   "cell_type": "markdown",
   "id": "666d30fd",
   "metadata": {},
   "source": [
    "nombre_infected       724\n",
    "nombre_sain          2516\n",
    "nombre_exposed        454\n",
    "nombre_recovered    16306\n",
    "Name: 681, dtype: int64"
   ]
  },
  {
   "cell_type": "markdown",
   "id": "945edfef",
   "metadata": {},
   "source": [
    "nombre_infected       725\n",
    "nombre_sain          2543\n",
    "nombre_exposed        448\n",
    "nombre_recovered    16284\n",
    "Name: 682, dtype: int64"
   ]
  },
  {
   "cell_type": "markdown",
   "id": "c3b12552",
   "metadata": {},
   "source": [
    "nombre_infected       718\n",
    "nombre_sain          2537\n",
    "nombre_exposed        492\n",
    "nombre_recovered    16253\n",
    "Name: 683, dtype: int64"
   ]
  },
  {
   "cell_type": "markdown",
   "id": "3a2a7652",
   "metadata": {},
   "source": [
    "nombre_infected       740\n",
    "nombre_sain          2555\n",
    "nombre_exposed        503\n",
    "nombre_recovered    16202\n",
    "Name: 684, dtype: int64"
   ]
  },
  {
   "cell_type": "markdown",
   "id": "363904d3",
   "metadata": {},
   "source": [
    "nombre_infected       759\n",
    "nombre_sain          2569\n",
    "nombre_exposed        501\n",
    "nombre_recovered    16171\n",
    "Name: 685, dtype: int64"
   ]
  },
  {
   "cell_type": "markdown",
   "id": "b12e83b3",
   "metadata": {},
   "source": [
    "nombre_infected       780\n",
    "nombre_sain          2570\n",
    "nombre_exposed        481\n",
    "nombre_recovered    16169\n",
    "Name: 686, dtype: int64"
   ]
  },
  {
   "cell_type": "markdown",
   "id": "2be6a718",
   "metadata": {},
   "source": [
    "nombre_infected       779\n",
    "nombre_sain          2588\n",
    "nombre_exposed        484\n",
    "nombre_recovered    16149\n",
    "Name: 687, dtype: int64"
   ]
  },
  {
   "cell_type": "markdown",
   "id": "da2c0c00",
   "metadata": {},
   "source": [
    "nombre_infected       808\n",
    "nombre_sain          2612\n",
    "nombre_exposed        465\n",
    "nombre_recovered    16115\n",
    "Name: 688, dtype: int64"
   ]
  },
  {
   "cell_type": "markdown",
   "id": "9c483cbd",
   "metadata": {},
   "source": [
    "nombre_infected       806\n",
    "nombre_sain          2609\n",
    "nombre_exposed        489\n",
    "nombre_recovered    16096\n",
    "Name: 689, dtype: int64"
   ]
  },
  {
   "cell_type": "markdown",
   "id": "7f6188c4",
   "metadata": {},
   "source": [
    "nombre_infected       787\n",
    "nombre_sain          2604\n",
    "nombre_exposed        502\n",
    "nombre_recovered    16107\n",
    "Name: 690, dtype: int64"
   ]
  },
  {
   "cell_type": "markdown",
   "id": "46e8ecf1",
   "metadata": {},
   "source": [
    "nombre_infected       796\n",
    "nombre_sain          2631\n",
    "nombre_exposed        511\n",
    "nombre_recovered    16062\n",
    "Name: 691, dtype: int64"
   ]
  },
  {
   "cell_type": "markdown",
   "id": "f901e0d7",
   "metadata": {},
   "source": [
    "nombre_infected       810\n",
    "nombre_sain          2607\n",
    "nombre_exposed        529\n",
    "nombre_recovered    16054\n",
    "Name: 692, dtype: int64"
   ]
  },
  {
   "cell_type": "markdown",
   "id": "1a8fbe5c",
   "metadata": {},
   "source": [
    "nombre_infected       837\n",
    "nombre_sain          2592\n",
    "nombre_exposed        542\n",
    "nombre_recovered    16029\n",
    "Name: 693, dtype: int64"
   ]
  },
  {
   "cell_type": "markdown",
   "id": "336f64ce",
   "metadata": {},
   "source": [
    "nombre_infected       852\n",
    "nombre_sain          2594\n",
    "nombre_exposed        540\n",
    "nombre_recovered    16014\n",
    "Name: 694, dtype: int64"
   ]
  },
  {
   "cell_type": "markdown",
   "id": "dae49c13",
   "metadata": {},
   "source": [
    "nombre_infected       862\n",
    "nombre_sain          2569\n",
    "nombre_exposed        541\n",
    "nombre_recovered    16028\n",
    "Name: 695, dtype: int64"
   ]
  },
  {
   "cell_type": "markdown",
   "id": "ceae796e",
   "metadata": {},
   "source": [
    "nombre_infected       863\n",
    "nombre_sain          2572\n",
    "nombre_exposed        535\n",
    "nombre_recovered    16030\n",
    "Name: 696, dtype: int64"
   ]
  },
  {
   "cell_type": "markdown",
   "id": "f686be86",
   "metadata": {},
   "source": [
    "nombre_infected       870\n",
    "nombre_sain          2540\n",
    "nombre_exposed        557\n",
    "nombre_recovered    16033\n",
    "Name: 697, dtype: int64"
   ]
  },
  {
   "cell_type": "markdown",
   "id": "41d885ac",
   "metadata": {},
   "source": [
    "nombre_infected       879\n",
    "nombre_sain          2531\n",
    "nombre_exposed        572\n",
    "nombre_recovered    16018\n",
    "Name: 698, dtype: int64"
   ]
  },
  {
   "cell_type": "markdown",
   "id": "41c5615a",
   "metadata": {},
   "source": [
    "nombre_infected       892\n",
    "nombre_sain          2515\n",
    "nombre_exposed        585\n",
    "nombre_recovered    16008\n",
    "Name: 699, dtype: int64"
   ]
  },
  {
   "cell_type": "markdown",
   "id": "6b8f4423",
   "metadata": {},
   "source": [
    "nombre_infected       910\n",
    "nombre_sain          2499\n",
    "nombre_exposed        591\n",
    "nombre_recovered    16000\n",
    "Name: 700, dtype: int64"
   ]
  },
  {
   "cell_type": "markdown",
   "id": "42bb152c",
   "metadata": {},
   "source": [
    "nombre_infected       920\n",
    "nombre_sain          2466\n",
    "nombre_exposed        609\n",
    "nombre_recovered    16005\n",
    "Name: 701, dtype: int64"
   ]
  },
  {
   "cell_type": "markdown",
   "id": "f2cf11f7",
   "metadata": {},
   "source": [
    "nombre_infected       955\n",
    "nombre_sain          2466\n",
    "nombre_exposed        601\n",
    "nombre_recovered    15978\n",
    "Name: 702, dtype: int64"
   ]
  },
  {
   "cell_type": "markdown",
   "id": "30f660f8",
   "metadata": {},
   "source": [
    "nombre_infected       974\n",
    "nombre_sain          2459\n",
    "nombre_exposed        573\n",
    "nombre_recovered    15994\n",
    "Name: 703, dtype: int64"
   ]
  },
  {
   "cell_type": "markdown",
   "id": "7f15ceac",
   "metadata": {},
   "source": [
    "nombre_infected       976\n",
    "nombre_sain          2427\n",
    "nombre_exposed        585\n",
    "nombre_recovered    16012\n",
    "Name: 704, dtype: int64"
   ]
  },
  {
   "cell_type": "markdown",
   "id": "7fa68768",
   "metadata": {},
   "source": [
    "nombre_infected       988\n",
    "nombre_sain          2423\n",
    "nombre_exposed        574\n",
    "nombre_recovered    16015\n",
    "Name: 705, dtype: int64"
   ]
  },
  {
   "cell_type": "markdown",
   "id": "cfa1632a",
   "metadata": {},
   "source": [
    "nombre_infected       966\n",
    "nombre_sain          2393\n",
    "nombre_exposed        602\n",
    "nombre_recovered    16039\n",
    "Name: 706, dtype: int64"
   ]
  },
  {
   "cell_type": "markdown",
   "id": "074f55dc",
   "metadata": {},
   "source": [
    "nombre_infected       968\n",
    "nombre_sain          2368\n",
    "nombre_exposed        609\n",
    "nombre_recovered    16055\n",
    "Name: 707, dtype: int64"
   ]
  },
  {
   "cell_type": "markdown",
   "id": "a1c2e10d",
   "metadata": {},
   "source": [
    "nombre_infected      1005\n",
    "nombre_sain          2329\n",
    "nombre_exposed        608\n",
    "nombre_recovered    16058\n",
    "Name: 708, dtype: int64"
   ]
  },
  {
   "cell_type": "markdown",
   "id": "11fd7b44",
   "metadata": {},
   "source": [
    "nombre_infected      1027\n",
    "nombre_sain          2304\n",
    "nombre_exposed        600\n",
    "nombre_recovered    16069\n",
    "Name: 709, dtype: int64"
   ]
  },
  {
   "cell_type": "markdown",
   "id": "2d0e2cf5",
   "metadata": {},
   "source": [
    "nombre_infected      1061\n",
    "nombre_sain          2301\n",
    "nombre_exposed        576\n",
    "nombre_recovered    16062\n",
    "Name: 710, dtype: int64"
   ]
  },
  {
   "cell_type": "markdown",
   "id": "d3cc01b2",
   "metadata": {},
   "source": [
    "nombre_infected      1066\n",
    "nombre_sain          2314\n",
    "nombre_exposed        559\n",
    "nombre_recovered    16061\n",
    "Name: 711, dtype: int64"
   ]
  },
  {
   "cell_type": "markdown",
   "id": "4b408094",
   "metadata": {},
   "source": [
    "nombre_infected      1062\n",
    "nombre_sain          2282\n",
    "nombre_exposed        562\n",
    "nombre_recovered    16094\n",
    "Name: 712, dtype: int64"
   ]
  },
  {
   "cell_type": "markdown",
   "id": "e59de5aa",
   "metadata": {},
   "source": [
    "nombre_infected      1061\n",
    "nombre_sain          2247\n",
    "nombre_exposed        578\n",
    "nombre_recovered    16114\n",
    "Name: 713, dtype: int64"
   ]
  },
  {
   "cell_type": "markdown",
   "id": "847869a7",
   "metadata": {},
   "source": [
    "nombre_infected      1033\n",
    "nombre_sain          2253\n",
    "nombre_exposed        588\n",
    "nombre_recovered    16126\n",
    "Name: 714, dtype: int64"
   ]
  },
  {
   "cell_type": "markdown",
   "id": "fdb770e7",
   "metadata": {},
   "source": [
    "nombre_infected      1011\n",
    "nombre_sain          2243\n",
    "nombre_exposed        581\n",
    "nombre_recovered    16165\n",
    "Name: 715, dtype: int64"
   ]
  },
  {
   "cell_type": "markdown",
   "id": "7339e6bb",
   "metadata": {},
   "source": [
    "nombre_infected       996\n",
    "nombre_sain          2228\n",
    "nombre_exposed        580\n",
    "nombre_recovered    16196\n",
    "Name: 716, dtype: int64"
   ]
  },
  {
   "cell_type": "markdown",
   "id": "6529a1e2",
   "metadata": {},
   "source": [
    "nombre_infected      1012\n",
    "nombre_sain          2225\n",
    "nombre_exposed        556\n",
    "nombre_recovered    16207\n",
    "Name: 717, dtype: int64"
   ]
  },
  {
   "cell_type": "markdown",
   "id": "a01df5ce",
   "metadata": {},
   "source": [
    "nombre_infected      1032\n",
    "nombre_sain          2213\n",
    "nombre_exposed        558\n",
    "nombre_recovered    16197\n",
    "Name: 718, dtype: int64"
   ]
  },
  {
   "cell_type": "markdown",
   "id": "f0ab9635",
   "metadata": {},
   "source": [
    "nombre_infected      1005\n",
    "nombre_sain          2191\n",
    "nombre_exposed        544\n",
    "nombre_recovered    16260\n",
    "Name: 719, dtype: int64"
   ]
  },
  {
   "cell_type": "markdown",
   "id": "1230f3be",
   "metadata": {},
   "source": [
    "nombre_infected      1002\n",
    "nombre_sain          2165\n",
    "nombre_exposed        545\n",
    "nombre_recovered    16288\n",
    "Name: 720, dtype: int64"
   ]
  },
  {
   "cell_type": "markdown",
   "id": "59dcdca8",
   "metadata": {},
   "source": [
    "nombre_infected       985\n",
    "nombre_sain          2165\n",
    "nombre_exposed        557\n",
    "nombre_recovered    16293\n",
    "Name: 721, dtype: int64"
   ]
  },
  {
   "cell_type": "markdown",
   "id": "fee94dbc",
   "metadata": {},
   "source": [
    "nombre_infected       968\n",
    "nombre_sain          2147\n",
    "nombre_exposed        573\n",
    "nombre_recovered    16312\n",
    "Name: 722, dtype: int64"
   ]
  },
  {
   "cell_type": "markdown",
   "id": "ed6d7d8c",
   "metadata": {},
   "source": [
    "nombre_infected       954\n",
    "nombre_sain          2147\n",
    "nombre_exposed        596\n",
    "nombre_recovered    16303\n",
    "Name: 723, dtype: int64"
   ]
  },
  {
   "cell_type": "markdown",
   "id": "bf4e9cad",
   "metadata": {},
   "source": [
    "nombre_infected       981\n",
    "nombre_sain          2140\n",
    "nombre_exposed        583\n",
    "nombre_recovered    16296\n",
    "Name: 724, dtype: int64"
   ]
  },
  {
   "cell_type": "markdown",
   "id": "12934018",
   "metadata": {},
   "source": [
    "nombre_infected       965\n",
    "nombre_sain          2135\n",
    "nombre_exposed        580\n",
    "nombre_recovered    16320\n",
    "Name: 725, dtype: int64"
   ]
  },
  {
   "cell_type": "markdown",
   "id": "63fe205b",
   "metadata": {},
   "source": [
    "nombre_infected       993\n",
    "nombre_sain          2159\n",
    "nombre_exposed        555\n",
    "nombre_recovered    16293\n",
    "Name: 726, dtype: int64"
   ]
  },
  {
   "cell_type": "markdown",
   "id": "9534088e",
   "metadata": {},
   "source": [
    "nombre_infected       990\n",
    "nombre_sain          2172\n",
    "nombre_exposed        532\n",
    "nombre_recovered    16306\n",
    "Name: 727, dtype: int64"
   ]
  },
  {
   "cell_type": "markdown",
   "id": "79fb863a",
   "metadata": {},
   "source": [
    "nombre_infected       984\n",
    "nombre_sain          2202\n",
    "nombre_exposed        504\n",
    "nombre_recovered    16310\n",
    "Name: 728, dtype: int64"
   ]
  },
  {
   "cell_type": "markdown",
   "id": "96931290",
   "metadata": {},
   "source": [
    "nombre_infected      1004\n",
    "nombre_sain          2209\n",
    "nombre_exposed        491\n",
    "nombre_recovered    16296\n",
    "Name: 729, dtype: int64"
   ]
  },
  {
   "cell_type": "markdown",
   "id": "5ec3527c",
   "metadata": {},
   "source": [
    "nombre_infected      1000\n",
    "nombre_sain          2196\n",
    "nombre_exposed        523\n",
    "nombre_recovered    16281\n",
    "Name: 730, dtype: int64"
   ]
  }
 ],
 "metadata": {},
 "nbformat": 4,
 "nbformat_minor": 5
}
