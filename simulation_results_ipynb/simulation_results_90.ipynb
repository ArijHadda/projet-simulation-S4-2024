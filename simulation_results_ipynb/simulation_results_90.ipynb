{
 "cells": [
  {
   "cell_type": "markdown",
   "id": "7b5b3444",
   "metadata": {},
   "source": [
    "nombre_infected        20\n",
    "nombre_sain         19980\n",
    "nombre_exposed          0\n",
    "nombre_recovered        0\n",
    "Name: 0, dtype: int64"
   ]
  },
  {
   "cell_type": "markdown",
   "id": "8c295038",
   "metadata": {},
   "source": [
    "nombre_infected        20\n",
    "nombre_sain         19959\n",
    "nombre_exposed         21\n",
    "nombre_recovered        0\n",
    "Name: 1, dtype: int64"
   ]
  },
  {
   "cell_type": "markdown",
   "id": "120732dc",
   "metadata": {},
   "source": [
    "nombre_infected        20\n",
    "nombre_sain         19938\n",
    "nombre_exposed         42\n",
    "nombre_recovered        0\n",
    "Name: 2, dtype: int64"
   ]
  },
  {
   "cell_type": "markdown",
   "id": "15d2d5da",
   "metadata": {},
   "source": [
    "nombre_infected        28\n",
    "nombre_sain         19905\n",
    "nombre_exposed         67\n",
    "nombre_recovered        0\n",
    "Name: 3, dtype: int64"
   ]
  },
  {
   "cell_type": "markdown",
   "id": "4d8900d2",
   "metadata": {},
   "source": [
    "nombre_infected        42\n",
    "nombre_sain         19865\n",
    "nombre_exposed         93\n",
    "nombre_recovered        0\n",
    "Name: 4, dtype: int64"
   ]
  },
  {
   "cell_type": "markdown",
   "id": "2963b037",
   "metadata": {},
   "source": [
    "nombre_infected        66\n",
    "nombre_sain         19784\n",
    "nombre_exposed        150\n",
    "nombre_recovered        0\n",
    "Name: 5, dtype: int64"
   ]
  },
  {
   "cell_type": "markdown",
   "id": "9a2cca64",
   "metadata": {},
   "source": [
    "nombre_infected        83\n",
    "nombre_sain         19667\n",
    "nombre_exposed        246\n",
    "nombre_recovered        4\n",
    "Name: 6, dtype: int64"
   ]
  },
  {
   "cell_type": "markdown",
   "id": "25f92b46",
   "metadata": {},
   "source": [
    "nombre_infected       130\n",
    "nombre_sain         19530\n",
    "nombre_exposed        333\n",
    "nombre_recovered        7\n",
    "Name: 7, dtype: int64"
   ]
  },
  {
   "cell_type": "markdown",
   "id": "4cc71cb7",
   "metadata": {},
   "source": [
    "nombre_infected       186\n",
    "nombre_sain         19346\n",
    "nombre_exposed        452\n",
    "nombre_recovered       16\n",
    "Name: 8, dtype: int64"
   ]
  },
  {
   "cell_type": "markdown",
   "id": "d5e990da",
   "metadata": {},
   "source": [
    "nombre_infected       254\n",
    "nombre_sain         19103\n",
    "nombre_exposed        613\n",
    "nombre_recovered       30\n",
    "Name: 9, dtype: int64"
   ]
  },
  {
   "cell_type": "markdown",
   "id": "5179d3b1",
   "metadata": {},
   "source": [
    "nombre_infected       343\n",
    "nombre_sain         18758\n",
    "nombre_exposed        851\n",
    "nombre_recovered       48\n",
    "Name: 10, dtype: int64"
   ]
  },
  {
   "cell_type": "markdown",
   "id": "6a56c651",
   "metadata": {},
   "source": [
    "nombre_infected       466\n",
    "nombre_sain         18327\n",
    "nombre_exposed       1132\n",
    "nombre_recovered       75\n",
    "Name: 11, dtype: int64"
   ]
  },
  {
   "cell_type": "markdown",
   "id": "7372a0ec",
   "metadata": {},
   "source": [
    "nombre_infected       642\n",
    "nombre_sain         17751\n",
    "nombre_exposed       1486\n",
    "nombre_recovered      121\n",
    "Name: 12, dtype: int64"
   ]
  },
  {
   "cell_type": "markdown",
   "id": "df82a5ef",
   "metadata": {},
   "source": [
    "nombre_infected       862\n",
    "nombre_sain         16962\n",
    "nombre_exposed       2015\n",
    "nombre_recovered      161\n",
    "Name: 13, dtype: int64"
   ]
  },
  {
   "cell_type": "markdown",
   "id": "2d61e897",
   "metadata": {},
   "source": [
    "nombre_infected      1157\n",
    "nombre_sain         15962\n",
    "nombre_exposed       2637\n",
    "nombre_recovered      244\n",
    "Name: 14, dtype: int64"
   ]
  },
  {
   "cell_type": "markdown",
   "id": "208aaba4",
   "metadata": {},
   "source": [
    "nombre_infected      1558\n",
    "nombre_sain         14748\n",
    "nombre_exposed       3330\n",
    "nombre_recovered      364\n",
    "Name: 15, dtype: int64"
   ]
  },
  {
   "cell_type": "markdown",
   "id": "bb07d211",
   "metadata": {},
   "source": [
    "nombre_infected      2073\n",
    "nombre_sain         13323\n",
    "nombre_exposed       4100\n",
    "nombre_recovered      504\n",
    "Name: 16, dtype: int64"
   ]
  },
  {
   "cell_type": "markdown",
   "id": "0c7fd3bb",
   "metadata": {},
   "source": [
    "nombre_infected      2684\n",
    "nombre_sain         11683\n",
    "nombre_exposed       4948\n",
    "nombre_recovered      685\n",
    "Name: 17, dtype: int64"
   ]
  },
  {
   "cell_type": "markdown",
   "id": "4452869b",
   "metadata": {},
   "source": [
    "nombre_infected     3426\n",
    "nombre_sain         9926\n",
    "nombre_exposed      5715\n",
    "nombre_recovered     933\n",
    "Name: 18, dtype: int64"
   ]
  },
  {
   "cell_type": "markdown",
   "id": "24aff3a8",
   "metadata": {},
   "source": [
    "nombre_infected     4350\n",
    "nombre_sain         8050\n",
    "nombre_exposed      6354\n",
    "nombre_recovered    1246\n",
    "Name: 19, dtype: int64"
   ]
  },
  {
   "cell_type": "markdown",
   "id": "d500a740",
   "metadata": {},
   "source": [
    "nombre_infected     5231\n",
    "nombre_sain         6228\n",
    "nombre_exposed      6832\n",
    "nombre_recovered    1709\n",
    "Name: 20, dtype: int64"
   ]
  },
  {
   "cell_type": "markdown",
   "id": "5bb6d90e",
   "metadata": {},
   "source": [
    "nombre_infected     6258\n",
    "nombre_sain         4681\n",
    "nombre_exposed      6835\n",
    "nombre_recovered    2226\n",
    "Name: 21, dtype: int64"
   ]
  },
  {
   "cell_type": "markdown",
   "id": "e468db0d",
   "metadata": {},
   "source": [
    "nombre_infected     7233\n",
    "nombre_sain         3404\n",
    "nombre_exposed      6483\n",
    "nombre_recovered    2880\n",
    "Name: 22, dtype: int64"
   ]
  },
  {
   "cell_type": "markdown",
   "id": "189e7e53",
   "metadata": {},
   "source": [
    "nombre_infected     8062\n",
    "nombre_sain         2391\n",
    "nombre_exposed      5915\n",
    "nombre_recovered    3632\n",
    "Name: 23, dtype: int64"
   ]
  },
  {
   "cell_type": "markdown",
   "id": "24190267",
   "metadata": {},
   "source": [
    "nombre_infected     8625\n",
    "nombre_sain         1645\n",
    "nombre_exposed      5237\n",
    "nombre_recovered    4493\n",
    "Name: 24, dtype: int64"
   ]
  },
  {
   "cell_type": "markdown",
   "id": "7cdbf63e",
   "metadata": {},
   "source": [
    "nombre_infected     8958\n",
    "nombre_sain         1110\n",
    "nombre_exposed      4469\n",
    "nombre_recovered    5463\n",
    "Name: 25, dtype: int64"
   ]
  },
  {
   "cell_type": "markdown",
   "id": "40fd0700",
   "metadata": {},
   "source": [
    "nombre_infected     8976\n",
    "nombre_sain          750\n",
    "nombre_exposed      3735\n",
    "nombre_recovered    6539\n",
    "Name: 26, dtype: int64"
   ]
  },
  {
   "cell_type": "markdown",
   "id": "7ac4049d",
   "metadata": {},
   "source": [
    "nombre_infected     8843\n",
    "nombre_sain          489\n",
    "nombre_exposed      3064\n",
    "nombre_recovered    7604\n",
    "Name: 27, dtype: int64"
   ]
  },
  {
   "cell_type": "markdown",
   "id": "e36efd80",
   "metadata": {},
   "source": [
    "nombre_infected     8534\n",
    "nombre_sain          338\n",
    "nombre_exposed      2459\n",
    "nombre_recovered    8669\n",
    "Name: 28, dtype: int64"
   ]
  },
  {
   "cell_type": "markdown",
   "id": "362830cb",
   "metadata": {},
   "source": [
    "nombre_infected     8084\n",
    "nombre_sain          244\n",
    "nombre_exposed      1930\n",
    "nombre_recovered    9742\n",
    "Name: 29, dtype: int64"
   ]
  },
  {
   "cell_type": "markdown",
   "id": "772e1a01",
   "metadata": {},
   "source": [
    "nombre_infected      7534\n",
    "nombre_sain           212\n",
    "nombre_exposed       1488\n",
    "nombre_recovered    10766\n",
    "Name: 30, dtype: int64"
   ]
  },
  {
   "cell_type": "markdown",
   "id": "58f9fa0f",
   "metadata": {},
   "source": [
    "nombre_infected      6860\n",
    "nombre_sain           180\n",
    "nombre_exposed       1148\n",
    "nombre_recovered    11812\n",
    "Name: 31, dtype: int64"
   ]
  },
  {
   "cell_type": "markdown",
   "id": "e7e9b72d",
   "metadata": {},
   "source": [
    "nombre_infected      6203\n",
    "nombre_sain           171\n",
    "nombre_exposed        895\n",
    "nombre_recovered    12731\n",
    "Name: 32, dtype: int64"
   ]
  },
  {
   "cell_type": "markdown",
   "id": "73ba33cc",
   "metadata": {},
   "source": [
    "nombre_infected      5520\n",
    "nombre_sain           159\n",
    "nombre_exposed        689\n",
    "nombre_recovered    13632\n",
    "Name: 33, dtype: int64"
   ]
  },
  {
   "cell_type": "markdown",
   "id": "12c8402b",
   "metadata": {},
   "source": [
    "nombre_infected      4880\n",
    "nombre_sain           190\n",
    "nombre_exposed        537\n",
    "nombre_recovered    14393\n",
    "Name: 34, dtype: int64"
   ]
  },
  {
   "cell_type": "markdown",
   "id": "48ec37fa",
   "metadata": {},
   "source": [
    "nombre_infected      4272\n",
    "nombre_sain           213\n",
    "nombre_exposed        428\n",
    "nombre_recovered    15087\n",
    "Name: 35, dtype: int64"
   ]
  },
  {
   "cell_type": "markdown",
   "id": "7199118e",
   "metadata": {},
   "source": [
    "nombre_infected      3770\n",
    "nombre_sain           227\n",
    "nombre_exposed        363\n",
    "nombre_recovered    15640\n",
    "Name: 36, dtype: int64"
   ]
  },
  {
   "cell_type": "markdown",
   "id": "09fec6f1",
   "metadata": {},
   "source": [
    "nombre_infected      3307\n",
    "nombre_sain           256\n",
    "nombre_exposed        320\n",
    "nombre_recovered    16117\n",
    "Name: 37, dtype: int64"
   ]
  },
  {
   "cell_type": "markdown",
   "id": "f76df559",
   "metadata": {},
   "source": [
    "nombre_infected      2879\n",
    "nombre_sain           274\n",
    "nombre_exposed        297\n",
    "nombre_recovered    16550\n",
    "Name: 38, dtype: int64"
   ]
  },
  {
   "cell_type": "markdown",
   "id": "bc7dfbca",
   "metadata": {},
   "source": [
    "nombre_infected      2574\n",
    "nombre_sain           295\n",
    "nombre_exposed        270\n",
    "nombre_recovered    16861\n",
    "Name: 39, dtype: int64"
   ]
  },
  {
   "cell_type": "markdown",
   "id": "82ef18fc",
   "metadata": {},
   "source": [
    "nombre_infected      2262\n",
    "nombre_sain           326\n",
    "nombre_exposed        258\n",
    "nombre_recovered    17154\n",
    "Name: 40, dtype: int64"
   ]
  },
  {
   "cell_type": "markdown",
   "id": "4d98fa73",
   "metadata": {},
   "source": [
    "nombre_infected      1992\n",
    "nombre_sain           342\n",
    "nombre_exposed        249\n",
    "nombre_recovered    17417\n",
    "Name: 41, dtype: int64"
   ]
  },
  {
   "cell_type": "markdown",
   "id": "38638f10",
   "metadata": {},
   "source": [
    "nombre_infected      1766\n",
    "nombre_sain           380\n",
    "nombre_exposed        215\n",
    "nombre_recovered    17639\n",
    "Name: 42, dtype: int64"
   ]
  },
  {
   "cell_type": "markdown",
   "id": "75a9f39d",
   "metadata": {},
   "source": [
    "nombre_infected      1563\n",
    "nombre_sain           396\n",
    "nombre_exposed        187\n",
    "nombre_recovered    17854\n",
    "Name: 43, dtype: int64"
   ]
  },
  {
   "cell_type": "markdown",
   "id": "86434275",
   "metadata": {},
   "source": [
    "nombre_infected      1414\n",
    "nombre_sain           418\n",
    "nombre_exposed        161\n",
    "nombre_recovered    18007\n",
    "Name: 44, dtype: int64"
   ]
  },
  {
   "cell_type": "markdown",
   "id": "eb84ecb3",
   "metadata": {},
   "source": [
    "nombre_infected      1271\n",
    "nombre_sain           437\n",
    "nombre_exposed        144\n",
    "nombre_recovered    18148\n",
    "Name: 45, dtype: int64"
   ]
  },
  {
   "cell_type": "markdown",
   "id": "ff032021",
   "metadata": {},
   "source": [
    "nombre_infected      1116\n",
    "nombre_sain           463\n",
    "nombre_exposed        131\n",
    "nombre_recovered    18290\n",
    "Name: 46, dtype: int64"
   ]
  },
  {
   "cell_type": "markdown",
   "id": "e11e46c7",
   "metadata": {},
   "source": [
    "nombre_infected       982\n",
    "nombre_sain           498\n",
    "nombre_exposed        117\n",
    "nombre_recovered    18403\n",
    "Name: 47, dtype: int64"
   ]
  },
  {
   "cell_type": "markdown",
   "id": "13b8e05a",
   "metadata": {},
   "source": [
    "nombre_infected       883\n",
    "nombre_sain           523\n",
    "nombre_exposed        113\n",
    "nombre_recovered    18481\n",
    "Name: 48, dtype: int64"
   ]
  },
  {
   "cell_type": "markdown",
   "id": "8cf9127c",
   "metadata": {},
   "source": [
    "nombre_infected       783\n",
    "nombre_sain           564\n",
    "nombre_exposed        115\n",
    "nombre_recovered    18538\n",
    "Name: 49, dtype: int64"
   ]
  },
  {
   "cell_type": "markdown",
   "id": "6d77fb21",
   "metadata": {},
   "source": [
    "nombre_infected       706\n",
    "nombre_sain           615\n",
    "nombre_exposed        103\n",
    "nombre_recovered    18576\n",
    "Name: 50, dtype: int64"
   ]
  },
  {
   "cell_type": "markdown",
   "id": "31a8a123",
   "metadata": {},
   "source": [
    "nombre_infected       649\n",
    "nombre_sain           670\n",
    "nombre_exposed        102\n",
    "nombre_recovered    18579\n",
    "Name: 51, dtype: int64"
   ]
  },
  {
   "cell_type": "markdown",
   "id": "0861f9fd",
   "metadata": {},
   "source": [
    "nombre_infected       567\n",
    "nombre_sain           712\n",
    "nombre_exposed        109\n",
    "nombre_recovered    18612\n",
    "Name: 52, dtype: int64"
   ]
  },
  {
   "cell_type": "markdown",
   "id": "76058d38",
   "metadata": {},
   "source": [
    "nombre_infected       502\n",
    "nombre_sain           774\n",
    "nombre_exposed         96\n",
    "nombre_recovered    18628\n",
    "Name: 53, dtype: int64"
   ]
  },
  {
   "cell_type": "markdown",
   "id": "369bc96c",
   "metadata": {},
   "source": [
    "nombre_infected       453\n",
    "nombre_sain           857\n",
    "nombre_exposed         90\n",
    "nombre_recovered    18600\n",
    "Name: 54, dtype: int64"
   ]
  },
  {
   "cell_type": "markdown",
   "id": "fcc2c481",
   "metadata": {},
   "source": [
    "nombre_infected       403\n",
    "nombre_sain           923\n",
    "nombre_exposed         86\n",
    "nombre_recovered    18588\n",
    "Name: 55, dtype: int64"
   ]
  },
  {
   "cell_type": "markdown",
   "id": "a1ef66b7",
   "metadata": {},
   "source": [
    "nombre_infected       367\n",
    "nombre_sain           973\n",
    "nombre_exposed         90\n",
    "nombre_recovered    18570\n",
    "Name: 56, dtype: int64"
   ]
  },
  {
   "cell_type": "markdown",
   "id": "038923de",
   "metadata": {},
   "source": [
    "nombre_infected       335\n",
    "nombre_sain          1038\n",
    "nombre_exposed         97\n",
    "nombre_recovered    18530\n",
    "Name: 57, dtype: int64"
   ]
  },
  {
   "cell_type": "markdown",
   "id": "f8f35952",
   "metadata": {},
   "source": [
    "nombre_infected       309\n",
    "nombre_sain          1096\n",
    "nombre_exposed         86\n",
    "nombre_recovered    18509\n",
    "Name: 58, dtype: int64"
   ]
  },
  {
   "cell_type": "markdown",
   "id": "3a5e5957",
   "metadata": {},
   "source": [
    "nombre_infected       283\n",
    "nombre_sain          1172\n",
    "nombre_exposed         82\n",
    "nombre_recovered    18463\n",
    "Name: 59, dtype: int64"
   ]
  },
  {
   "cell_type": "markdown",
   "id": "2c621405",
   "metadata": {},
   "source": [
    "nombre_infected       244\n",
    "nombre_sain          1219\n",
    "nombre_exposed         91\n",
    "nombre_recovered    18446\n",
    "Name: 60, dtype: int64"
   ]
  },
  {
   "cell_type": "markdown",
   "id": "a07ef4d3",
   "metadata": {},
   "source": [
    "nombre_infected       238\n",
    "nombre_sain          1280\n",
    "nombre_exposed         77\n",
    "nombre_recovered    18405\n",
    "Name: 61, dtype: int64"
   ]
  },
  {
   "cell_type": "markdown",
   "id": "5bcf25b1",
   "metadata": {},
   "source": [
    "nombre_infected       221\n",
    "nombre_sain          1322\n",
    "nombre_exposed         77\n",
    "nombre_recovered    18380\n",
    "Name: 62, dtype: int64"
   ]
  },
  {
   "cell_type": "markdown",
   "id": "c4c3d8ae",
   "metadata": {},
   "source": [
    "nombre_infected       199\n",
    "nombre_sain          1373\n",
    "nombre_exposed         72\n",
    "nombre_recovered    18356\n",
    "Name: 63, dtype: int64"
   ]
  },
  {
   "cell_type": "markdown",
   "id": "2e44727c",
   "metadata": {},
   "source": [
    "nombre_infected       184\n",
    "nombre_sain          1410\n",
    "nombre_exposed         69\n",
    "nombre_recovered    18337\n",
    "Name: 64, dtype: int64"
   ]
  },
  {
   "cell_type": "markdown",
   "id": "40ad11e5",
   "metadata": {},
   "source": [
    "nombre_infected       166\n",
    "nombre_sain          1444\n",
    "nombre_exposed         74\n",
    "nombre_recovered    18316\n",
    "Name: 65, dtype: int64"
   ]
  },
  {
   "cell_type": "markdown",
   "id": "7be38619",
   "metadata": {},
   "source": [
    "nombre_infected       147\n",
    "nombre_sain          1486\n",
    "nombre_exposed         71\n",
    "nombre_recovered    18296\n",
    "Name: 66, dtype: int64"
   ]
  },
  {
   "cell_type": "markdown",
   "id": "47f7e4cb",
   "metadata": {},
   "source": [
    "nombre_infected       130\n",
    "nombre_sain          1521\n",
    "nombre_exposed         76\n",
    "nombre_recovered    18273\n",
    "Name: 67, dtype: int64"
   ]
  },
  {
   "cell_type": "markdown",
   "id": "cd69fe02",
   "metadata": {},
   "source": [
    "nombre_infected       125\n",
    "nombre_sain          1585\n",
    "nombre_exposed         72\n",
    "nombre_recovered    18218\n",
    "Name: 68, dtype: int64"
   ]
  },
  {
   "cell_type": "markdown",
   "id": "783252cd",
   "metadata": {},
   "source": [
    "nombre_infected       116\n",
    "nombre_sain          1616\n",
    "nombre_exposed         64\n",
    "nombre_recovered    18204\n",
    "Name: 69, dtype: int64"
   ]
  },
  {
   "cell_type": "markdown",
   "id": "3f395bc2",
   "metadata": {},
   "source": [
    "nombre_infected       112\n",
    "nombre_sain          1649\n",
    "nombre_exposed         60\n",
    "nombre_recovered    18179\n",
    "Name: 70, dtype: int64"
   ]
  },
  {
   "cell_type": "markdown",
   "id": "a05a3913",
   "metadata": {},
   "source": [
    "nombre_infected       113\n",
    "nombre_sain          1679\n",
    "nombre_exposed         54\n",
    "nombre_recovered    18154\n",
    "Name: 71, dtype: int64"
   ]
  },
  {
   "cell_type": "markdown",
   "id": "9a8c8cda",
   "metadata": {},
   "source": [
    "nombre_infected       115\n",
    "nombre_sain          1709\n",
    "nombre_exposed         48\n",
    "nombre_recovered    18128\n",
    "Name: 72, dtype: int64"
   ]
  },
  {
   "cell_type": "markdown",
   "id": "f1c9b9ea",
   "metadata": {},
   "source": [
    "nombre_infected       108\n",
    "nombre_sain          1757\n",
    "nombre_exposed         51\n",
    "nombre_recovered    18084\n",
    "Name: 73, dtype: int64"
   ]
  },
  {
   "cell_type": "markdown",
   "id": "1b11d5ab",
   "metadata": {},
   "source": [
    "nombre_infected        99\n",
    "nombre_sain          1801\n",
    "nombre_exposed         52\n",
    "nombre_recovered    18048\n",
    "Name: 74, dtype: int64"
   ]
  },
  {
   "cell_type": "markdown",
   "id": "58ea8846",
   "metadata": {},
   "source": [
    "nombre_infected        94\n",
    "nombre_sain          1843\n",
    "nombre_exposed         55\n",
    "nombre_recovered    18008\n",
    "Name: 75, dtype: int64"
   ]
  },
  {
   "cell_type": "markdown",
   "id": "9e5c2ea6",
   "metadata": {},
   "source": [
    "nombre_infected        95\n",
    "nombre_sain          1898\n",
    "nombre_exposed         52\n",
    "nombre_recovered    17955\n",
    "Name: 76, dtype: int64"
   ]
  },
  {
   "cell_type": "markdown",
   "id": "0b0a8322",
   "metadata": {},
   "source": [
    "nombre_infected       102\n",
    "nombre_sain          1949\n",
    "nombre_exposed         41\n",
    "nombre_recovered    17908\n",
    "Name: 77, dtype: int64"
   ]
  },
  {
   "cell_type": "markdown",
   "id": "9e4247b3",
   "metadata": {},
   "source": [
    "nombre_infected        95\n",
    "nombre_sain          1995\n",
    "nombre_exposed         41\n",
    "nombre_recovered    17869\n",
    "Name: 78, dtype: int64"
   ]
  },
  {
   "cell_type": "markdown",
   "id": "357baccc",
   "metadata": {},
   "source": [
    "nombre_infected        93\n",
    "nombre_sain          2021\n",
    "nombre_exposed         45\n",
    "nombre_recovered    17841\n",
    "Name: 79, dtype: int64"
   ]
  },
  {
   "cell_type": "markdown",
   "id": "fa0cf04f",
   "metadata": {},
   "source": [
    "nombre_infected        85\n",
    "nombre_sain          2057\n",
    "nombre_exposed         52\n",
    "nombre_recovered    17806\n",
    "Name: 80, dtype: int64"
   ]
  },
  {
   "cell_type": "markdown",
   "id": "6ac99d86",
   "metadata": {},
   "source": [
    "nombre_infected        86\n",
    "nombre_sain          2106\n",
    "nombre_exposed         50\n",
    "nombre_recovered    17758\n",
    "Name: 81, dtype: int64"
   ]
  },
  {
   "cell_type": "markdown",
   "id": "79ff2791",
   "metadata": {},
   "source": [
    "nombre_infected        84\n",
    "nombre_sain          2170\n",
    "nombre_exposed         46\n",
    "nombre_recovered    17700\n",
    "Name: 82, dtype: int64"
   ]
  },
  {
   "cell_type": "markdown",
   "id": "770770c4",
   "metadata": {},
   "source": [
    "nombre_infected        80\n",
    "nombre_sain          2219\n",
    "nombre_exposed         47\n",
    "nombre_recovered    17654\n",
    "Name: 83, dtype: int64"
   ]
  },
  {
   "cell_type": "markdown",
   "id": "f9d7db6a",
   "metadata": {},
   "source": [
    "nombre_infected        80\n",
    "nombre_sain          2265\n",
    "nombre_exposed         42\n",
    "nombre_recovered    17613\n",
    "Name: 84, dtype: int64"
   ]
  },
  {
   "cell_type": "markdown",
   "id": "3536ac6c",
   "metadata": {},
   "source": [
    "nombre_infected        88\n",
    "nombre_sain          2301\n",
    "nombre_exposed         41\n",
    "nombre_recovered    17570\n",
    "Name: 85, dtype: int64"
   ]
  },
  {
   "cell_type": "markdown",
   "id": "cc3e0646",
   "metadata": {},
   "source": [
    "nombre_infected        85\n",
    "nombre_sain          2367\n",
    "nombre_exposed         44\n",
    "nombre_recovered    17504\n",
    "Name: 86, dtype: int64"
   ]
  },
  {
   "cell_type": "markdown",
   "id": "2c17da33",
   "metadata": {},
   "source": [
    "nombre_infected        77\n",
    "nombre_sain          2425\n",
    "nombre_exposed         46\n",
    "nombre_recovered    17452\n",
    "Name: 87, dtype: int64"
   ]
  },
  {
   "cell_type": "markdown",
   "id": "1e8eb4bf",
   "metadata": {},
   "source": [
    "nombre_infected        74\n",
    "nombre_sain          2469\n",
    "nombre_exposed         46\n",
    "nombre_recovered    17411\n",
    "Name: 88, dtype: int64"
   ]
  },
  {
   "cell_type": "markdown",
   "id": "e77961c9",
   "metadata": {},
   "source": [
    "nombre_infected        80\n",
    "nombre_sain          2510\n",
    "nombre_exposed         45\n",
    "nombre_recovered    17365\n",
    "Name: 89, dtype: int64"
   ]
  },
  {
   "cell_type": "markdown",
   "id": "2281f543",
   "metadata": {},
   "source": [
    "nombre_infected        79\n",
    "nombre_sain          2585\n",
    "nombre_exposed         44\n",
    "nombre_recovered    17292\n",
    "Name: 90, dtype: int64"
   ]
  },
  {
   "cell_type": "markdown",
   "id": "e6f75fdd",
   "metadata": {},
   "source": [
    "nombre_infected        79\n",
    "nombre_sain          2630\n",
    "nombre_exposed         43\n",
    "nombre_recovered    17248\n",
    "Name: 91, dtype: int64"
   ]
  },
  {
   "cell_type": "markdown",
   "id": "3cd1a9d7",
   "metadata": {},
   "source": [
    "nombre_infected        80\n",
    "nombre_sain          2712\n",
    "nombre_exposed         45\n",
    "nombre_recovered    17163\n",
    "Name: 92, dtype: int64"
   ]
  },
  {
   "cell_type": "markdown",
   "id": "30025e12",
   "metadata": {},
   "source": [
    "nombre_infected        86\n",
    "nombre_sain          2771\n",
    "nombre_exposed         47\n",
    "nombre_recovered    17096\n",
    "Name: 93, dtype: int64"
   ]
  },
  {
   "cell_type": "markdown",
   "id": "ffb99d8d",
   "metadata": {},
   "source": [
    "nombre_infected        85\n",
    "nombre_sain          2829\n",
    "nombre_exposed         52\n",
    "nombre_recovered    17034\n",
    "Name: 94, dtype: int64"
   ]
  },
  {
   "cell_type": "markdown",
   "id": "95d94351",
   "metadata": {},
   "source": [
    "nombre_infected        85\n",
    "nombre_sain          2897\n",
    "nombre_exposed         55\n",
    "nombre_recovered    16963\n",
    "Name: 95, dtype: int64"
   ]
  },
  {
   "cell_type": "markdown",
   "id": "fb29e984",
   "metadata": {},
   "source": [
    "nombre_infected        84\n",
    "nombre_sain          2942\n",
    "nombre_exposed         62\n",
    "nombre_recovered    16912\n",
    "Name: 96, dtype: int64"
   ]
  },
  {
   "cell_type": "markdown",
   "id": "47ccee1d",
   "metadata": {},
   "source": [
    "nombre_infected        70\n",
    "nombre_sain          2986\n",
    "nombre_exposed         67\n",
    "nombre_recovered    16877\n",
    "Name: 97, dtype: int64"
   ]
  },
  {
   "cell_type": "markdown",
   "id": "959e6239",
   "metadata": {},
   "source": [
    "nombre_infected        73\n",
    "nombre_sain          3036\n",
    "nombre_exposed         62\n",
    "nombre_recovered    16829\n",
    "Name: 98, dtype: int64"
   ]
  },
  {
   "cell_type": "markdown",
   "id": "67b4c3f8",
   "metadata": {},
   "source": [
    "nombre_infected        87\n",
    "nombre_sain          3079\n",
    "nombre_exposed         47\n",
    "nombre_recovered    16787\n",
    "Name: 99, dtype: int64"
   ]
  },
  {
   "cell_type": "markdown",
   "id": "c434876f",
   "metadata": {},
   "source": [
    "nombre_infected        86\n",
    "nombre_sain          3116\n",
    "nombre_exposed         55\n",
    "nombre_recovered    16743\n",
    "Name: 100, dtype: int64"
   ]
  },
  {
   "cell_type": "markdown",
   "id": "9f20633c",
   "metadata": {},
   "source": [
    "nombre_infected        88\n",
    "nombre_sain          3136\n",
    "nombre_exposed         61\n",
    "nombre_recovered    16715\n",
    "Name: 101, dtype: int64"
   ]
  },
  {
   "cell_type": "markdown",
   "id": "df45fa82",
   "metadata": {},
   "source": [
    "nombre_infected        87\n",
    "nombre_sain          3173\n",
    "nombre_exposed         67\n",
    "nombre_recovered    16673\n",
    "Name: 102, dtype: int64"
   ]
  },
  {
   "cell_type": "markdown",
   "id": "28f8b1f0",
   "metadata": {},
   "source": [
    "nombre_infected        90\n",
    "nombre_sain          3197\n",
    "nombre_exposed         68\n",
    "nombre_recovered    16645\n",
    "Name: 103, dtype: int64"
   ]
  },
  {
   "cell_type": "markdown",
   "id": "9505f507",
   "metadata": {},
   "source": [
    "nombre_infected       100\n",
    "nombre_sain          3242\n",
    "nombre_exposed         59\n",
    "nombre_recovered    16599\n",
    "Name: 104, dtype: int64"
   ]
  },
  {
   "cell_type": "markdown",
   "id": "695b2ae2",
   "metadata": {},
   "source": [
    "nombre_infected       103\n",
    "nombre_sain          3260\n",
    "nombre_exposed         64\n",
    "nombre_recovered    16573\n",
    "Name: 105, dtype: int64"
   ]
  },
  {
   "cell_type": "markdown",
   "id": "147d9f7d",
   "metadata": {},
   "source": [
    "nombre_infected        97\n",
    "nombre_sain          3280\n",
    "nombre_exposed         73\n",
    "nombre_recovered    16550\n",
    "Name: 106, dtype: int64"
   ]
  },
  {
   "cell_type": "markdown",
   "id": "48b9227a",
   "metadata": {},
   "source": [
    "nombre_infected        99\n",
    "nombre_sain          3291\n",
    "nombre_exposed         83\n",
    "nombre_recovered    16527\n",
    "Name: 107, dtype: int64"
   ]
  },
  {
   "cell_type": "markdown",
   "id": "ffb1ee12",
   "metadata": {},
   "source": [
    "nombre_infected        98\n",
    "nombre_sain          3299\n",
    "nombre_exposed         95\n",
    "nombre_recovered    16508\n",
    "Name: 108, dtype: int64"
   ]
  },
  {
   "cell_type": "markdown",
   "id": "26d92d9f",
   "metadata": {},
   "source": [
    "nombre_infected       110\n",
    "nombre_sain          3316\n",
    "nombre_exposed         90\n",
    "nombre_recovered    16484\n",
    "Name: 109, dtype: int64"
   ]
  },
  {
   "cell_type": "markdown",
   "id": "c6f0e480",
   "metadata": {},
   "source": [
    "nombre_infected       118\n",
    "nombre_sain          3332\n",
    "nombre_exposed         92\n",
    "nombre_recovered    16458\n",
    "Name: 110, dtype: int64"
   ]
  },
  {
   "cell_type": "markdown",
   "id": "8c99bd35",
   "metadata": {},
   "source": [
    "nombre_infected       123\n",
    "nombre_sain          3339\n",
    "nombre_exposed        100\n",
    "nombre_recovered    16438\n",
    "Name: 111, dtype: int64"
   ]
  },
  {
   "cell_type": "markdown",
   "id": "fa073c42",
   "metadata": {},
   "source": [
    "nombre_infected       121\n",
    "nombre_sain          3355\n",
    "nombre_exposed        103\n",
    "nombre_recovered    16421\n",
    "Name: 112, dtype: int64"
   ]
  },
  {
   "cell_type": "markdown",
   "id": "cf632944",
   "metadata": {},
   "source": [
    "nombre_infected       122\n",
    "nombre_sain          3374\n",
    "nombre_exposed        109\n",
    "nombre_recovered    16395\n",
    "Name: 113, dtype: int64"
   ]
  },
  {
   "cell_type": "markdown",
   "id": "27f5d315",
   "metadata": {},
   "source": [
    "nombre_infected       139\n",
    "nombre_sain          3390\n",
    "nombre_exposed        102\n",
    "nombre_recovered    16369\n",
    "Name: 114, dtype: int64"
   ]
  },
  {
   "cell_type": "markdown",
   "id": "d94cf6a8",
   "metadata": {},
   "source": [
    "nombre_infected       142\n",
    "nombre_sain          3400\n",
    "nombre_exposed        113\n",
    "nombre_recovered    16345\n",
    "Name: 115, dtype: int64"
   ]
  },
  {
   "cell_type": "markdown",
   "id": "7fb00281",
   "metadata": {},
   "source": [
    "nombre_infected       130\n",
    "nombre_sain          3410\n",
    "nombre_exposed        130\n",
    "nombre_recovered    16330\n",
    "Name: 116, dtype: int64"
   ]
  },
  {
   "cell_type": "markdown",
   "id": "14758eb4",
   "metadata": {},
   "source": [
    "nombre_infected       134\n",
    "nombre_sain          3417\n",
    "nombre_exposed        137\n",
    "nombre_recovered    16312\n",
    "Name: 117, dtype: int64"
   ]
  },
  {
   "cell_type": "markdown",
   "id": "fc80c88d",
   "metadata": {},
   "source": [
    "nombre_infected       152\n",
    "nombre_sain          3428\n",
    "nombre_exposed        135\n",
    "nombre_recovered    16285\n",
    "Name: 118, dtype: int64"
   ]
  },
  {
   "cell_type": "markdown",
   "id": "fe93203d",
   "metadata": {},
   "source": [
    "nombre_infected       169\n",
    "nombre_sain          3449\n",
    "nombre_exposed        126\n",
    "nombre_recovered    16256\n",
    "Name: 119, dtype: int64"
   ]
  },
  {
   "cell_type": "markdown",
   "id": "56d77d27",
   "metadata": {},
   "source": [
    "nombre_infected       168\n",
    "nombre_sain          3484\n",
    "nombre_exposed        122\n",
    "nombre_recovered    16226\n",
    "Name: 120, dtype: int64"
   ]
  },
  {
   "cell_type": "markdown",
   "id": "a1a76a5b",
   "metadata": {},
   "source": [
    "nombre_infected       176\n",
    "nombre_sain          3500\n",
    "nombre_exposed        136\n",
    "nombre_recovered    16188\n",
    "Name: 121, dtype: int64"
   ]
  },
  {
   "cell_type": "markdown",
   "id": "7a3181a6",
   "metadata": {},
   "source": [
    "nombre_infected       181\n",
    "nombre_sain          3517\n",
    "nombre_exposed        146\n",
    "nombre_recovered    16156\n",
    "Name: 122, dtype: int64"
   ]
  },
  {
   "cell_type": "markdown",
   "id": "c9e13f9a",
   "metadata": {},
   "source": [
    "nombre_infected       202\n",
    "nombre_sain          3558\n",
    "nombre_exposed        150\n",
    "nombre_recovered    16090\n",
    "Name: 123, dtype: int64"
   ]
  },
  {
   "cell_type": "markdown",
   "id": "23f90555",
   "metadata": {},
   "source": [
    "nombre_infected       216\n",
    "nombre_sain          3595\n",
    "nombre_exposed        157\n",
    "nombre_recovered    16032\n",
    "Name: 124, dtype: int64"
   ]
  },
  {
   "cell_type": "markdown",
   "id": "48b7e3ac",
   "metadata": {},
   "source": [
    "nombre_infected       233\n",
    "nombre_sain          3625\n",
    "nombre_exposed        166\n",
    "nombre_recovered    15976\n",
    "Name: 125, dtype: int64"
   ]
  },
  {
   "cell_type": "markdown",
   "id": "32de1457",
   "metadata": {},
   "source": [
    "nombre_infected       241\n",
    "nombre_sain          3664\n",
    "nombre_exposed        181\n",
    "nombre_recovered    15914\n",
    "Name: 126, dtype: int64"
   ]
  },
  {
   "cell_type": "markdown",
   "id": "61ef8cd8",
   "metadata": {},
   "source": [
    "nombre_infected       235\n",
    "nombre_sain          3702\n",
    "nombre_exposed        196\n",
    "nombre_recovered    15867\n",
    "Name: 127, dtype: int64"
   ]
  },
  {
   "cell_type": "markdown",
   "id": "d5510f8f",
   "metadata": {},
   "source": [
    "nombre_infected       246\n",
    "nombre_sain          3737\n",
    "nombre_exposed        198\n",
    "nombre_recovered    15819\n",
    "Name: 128, dtype: int64"
   ]
  },
  {
   "cell_type": "markdown",
   "id": "4109f000",
   "metadata": {},
   "source": [
    "nombre_infected       267\n",
    "nombre_sain          3771\n",
    "nombre_exposed        205\n",
    "nombre_recovered    15757\n",
    "Name: 129, dtype: int64"
   ]
  },
  {
   "cell_type": "markdown",
   "id": "158fc559",
   "metadata": {},
   "source": [
    "nombre_infected       278\n",
    "nombre_sain          3792\n",
    "nombre_exposed        218\n",
    "nombre_recovered    15712\n",
    "Name: 130, dtype: int64"
   ]
  },
  {
   "cell_type": "markdown",
   "id": "b76ece61",
   "metadata": {},
   "source": [
    "nombre_infected       279\n",
    "nombre_sain          3823\n",
    "nombre_exposed        214\n",
    "nombre_recovered    15684\n",
    "Name: 131, dtype: int64"
   ]
  },
  {
   "cell_type": "markdown",
   "id": "31a51579",
   "metadata": {},
   "source": [
    "nombre_infected       300\n",
    "nombre_sain          3848\n",
    "nombre_exposed        226\n",
    "nombre_recovered    15626\n",
    "Name: 132, dtype: int64"
   ]
  },
  {
   "cell_type": "markdown",
   "id": "1dd4118d",
   "metadata": {},
   "source": [
    "nombre_infected       301\n",
    "nombre_sain          3880\n",
    "nombre_exposed        233\n",
    "nombre_recovered    15586\n",
    "Name: 133, dtype: int64"
   ]
  },
  {
   "cell_type": "markdown",
   "id": "ffcff3ba",
   "metadata": {},
   "source": [
    "nombre_infected       320\n",
    "nombre_sain          3884\n",
    "nombre_exposed        246\n",
    "nombre_recovered    15550\n",
    "Name: 134, dtype: int64"
   ]
  },
  {
   "cell_type": "markdown",
   "id": "1d20bfaa",
   "metadata": {},
   "source": [
    "nombre_infected       337\n",
    "nombre_sain          3878\n",
    "nombre_exposed        264\n",
    "nombre_recovered    15521\n",
    "Name: 135, dtype: int64"
   ]
  },
  {
   "cell_type": "markdown",
   "id": "84ecfd0f",
   "metadata": {},
   "source": [
    "nombre_infected       351\n",
    "nombre_sain          3865\n",
    "nombre_exposed        290\n",
    "nombre_recovered    15494\n",
    "Name: 136, dtype: int64"
   ]
  },
  {
   "cell_type": "markdown",
   "id": "2f06a9e1",
   "metadata": {},
   "source": [
    "nombre_infected       363\n",
    "nombre_sain          3858\n",
    "nombre_exposed        286\n",
    "nombre_recovered    15493\n",
    "Name: 137, dtype: int64"
   ]
  },
  {
   "cell_type": "markdown",
   "id": "4ff0366c",
   "metadata": {},
   "source": [
    "nombre_infected       381\n",
    "nombre_sain          3848\n",
    "nombre_exposed        305\n",
    "nombre_recovered    15466\n",
    "Name: 138, dtype: int64"
   ]
  },
  {
   "cell_type": "markdown",
   "id": "bd170fc7",
   "metadata": {},
   "source": [
    "nombre_infected       384\n",
    "nombre_sain          3862\n",
    "nombre_exposed        331\n",
    "nombre_recovered    15423\n",
    "Name: 139, dtype: int64"
   ]
  },
  {
   "cell_type": "markdown",
   "id": "6b09e89e",
   "metadata": {},
   "source": [
    "nombre_infected       411\n",
    "nombre_sain          3845\n",
    "nombre_exposed        341\n",
    "nombre_recovered    15403\n",
    "Name: 140, dtype: int64"
   ]
  },
  {
   "cell_type": "markdown",
   "id": "d93ef11c",
   "metadata": {},
   "source": [
    "nombre_infected       427\n",
    "nombre_sain          3830\n",
    "nombre_exposed        354\n",
    "nombre_recovered    15389\n",
    "Name: 141, dtype: int64"
   ]
  },
  {
   "cell_type": "markdown",
   "id": "400da0b3",
   "metadata": {},
   "source": [
    "nombre_infected       464\n",
    "nombre_sain          3828\n",
    "nombre_exposed        369\n",
    "nombre_recovered    15339\n",
    "Name: 142, dtype: int64"
   ]
  },
  {
   "cell_type": "markdown",
   "id": "4e803db9",
   "metadata": {},
   "source": [
    "nombre_infected       507\n",
    "nombre_sain          3793\n",
    "nombre_exposed        387\n",
    "nombre_recovered    15313\n",
    "Name: 143, dtype: int64"
   ]
  },
  {
   "cell_type": "markdown",
   "id": "ec255e65",
   "metadata": {},
   "source": [
    "nombre_infected       543\n",
    "nombre_sain          3750\n",
    "nombre_exposed        407\n",
    "nombre_recovered    15300\n",
    "Name: 144, dtype: int64"
   ]
  },
  {
   "cell_type": "markdown",
   "id": "7bdbaa99",
   "metadata": {},
   "source": [
    "nombre_infected       586\n",
    "nombre_sain          3692\n",
    "nombre_exposed        449\n",
    "nombre_recovered    15273\n",
    "Name: 145, dtype: int64"
   ]
  },
  {
   "cell_type": "markdown",
   "id": "333f323f",
   "metadata": {},
   "source": [
    "nombre_infected       601\n",
    "nombre_sain          3635\n",
    "nombre_exposed        472\n",
    "nombre_recovered    15292\n",
    "Name: 146, dtype: int64"
   ]
  },
  {
   "cell_type": "markdown",
   "id": "eeff51ea",
   "metadata": {},
   "source": [
    "nombre_infected       650\n",
    "nombre_sain          3558\n",
    "nombre_exposed        485\n",
    "nombre_recovered    15307\n",
    "Name: 147, dtype: int64"
   ]
  },
  {
   "cell_type": "markdown",
   "id": "c6d85f1a",
   "metadata": {},
   "source": [
    "nombre_infected       678\n",
    "nombre_sain          3474\n",
    "nombre_exposed        509\n",
    "nombre_recovered    15339\n",
    "Name: 148, dtype: int64"
   ]
  },
  {
   "cell_type": "markdown",
   "id": "afaab7f3",
   "metadata": {},
   "source": [
    "nombre_infected       709\n",
    "nombre_sain          3401\n",
    "nombre_exposed        535\n",
    "nombre_recovered    15355\n",
    "Name: 149, dtype: int64"
   ]
  },
  {
   "cell_type": "markdown",
   "id": "aa670859",
   "metadata": {},
   "source": [
    "nombre_infected       764\n",
    "nombre_sain          3286\n",
    "nombre_exposed        547\n",
    "nombre_recovered    15403\n",
    "Name: 150, dtype: int64"
   ]
  },
  {
   "cell_type": "markdown",
   "id": "59e367f5",
   "metadata": {},
   "source": [
    "nombre_infected       809\n",
    "nombre_sain          3189\n",
    "nombre_exposed        561\n",
    "nombre_recovered    15441\n",
    "Name: 151, dtype: int64"
   ]
  },
  {
   "cell_type": "markdown",
   "id": "d77997e7",
   "metadata": {},
   "source": [
    "nombre_infected       867\n",
    "nombre_sain          3069\n",
    "nombre_exposed        577\n",
    "nombre_recovered    15487\n",
    "Name: 152, dtype: int64"
   ]
  },
  {
   "cell_type": "markdown",
   "id": "a1c834aa",
   "metadata": {},
   "source": [
    "nombre_infected       922\n",
    "nombre_sain          2983\n",
    "nombre_exposed        563\n",
    "nombre_recovered    15532\n",
    "Name: 153, dtype: int64"
   ]
  },
  {
   "cell_type": "markdown",
   "id": "6cbb7d9b",
   "metadata": {},
   "source": [
    "nombre_infected       935\n",
    "nombre_sain          2889\n",
    "nombre_exposed        583\n",
    "nombre_recovered    15593\n",
    "Name: 154, dtype: int64"
   ]
  },
  {
   "cell_type": "markdown",
   "id": "f296edc0",
   "metadata": {},
   "source": [
    "nombre_infected       936\n",
    "nombre_sain          2812\n",
    "nombre_exposed        588\n",
    "nombre_recovered    15664\n",
    "Name: 155, dtype: int64"
   ]
  },
  {
   "cell_type": "markdown",
   "id": "1783a58e",
   "metadata": {},
   "source": [
    "nombre_infected       947\n",
    "nombre_sain          2717\n",
    "nombre_exposed        620\n",
    "nombre_recovered    15716\n",
    "Name: 156, dtype: int64"
   ]
  },
  {
   "cell_type": "markdown",
   "id": "d23270be",
   "metadata": {},
   "source": [
    "nombre_infected       982\n",
    "nombre_sain          2616\n",
    "nombre_exposed        644\n",
    "nombre_recovered    15758\n",
    "Name: 157, dtype: int64"
   ]
  },
  {
   "cell_type": "markdown",
   "id": "f73cfbe7",
   "metadata": {},
   "source": [
    "nombre_infected       999\n",
    "nombre_sain          2545\n",
    "nombre_exposed        618\n",
    "nombre_recovered    15838\n",
    "Name: 158, dtype: int64"
   ]
  },
  {
   "cell_type": "markdown",
   "id": "3f49c0df",
   "metadata": {},
   "source": [
    "nombre_infected      1043\n",
    "nombre_sain          2442\n",
    "nombre_exposed        605\n",
    "nombre_recovered    15910\n",
    "Name: 159, dtype: int64"
   ]
  },
  {
   "cell_type": "markdown",
   "id": "11145d86",
   "metadata": {},
   "source": [
    "nombre_infected      1078\n",
    "nombre_sain          2383\n",
    "nombre_exposed        581\n",
    "nombre_recovered    15958\n",
    "Name: 160, dtype: int64"
   ]
  },
  {
   "cell_type": "markdown",
   "id": "65b6fcdb",
   "metadata": {},
   "source": [
    "nombre_infected      1117\n",
    "nombre_sain          2297\n",
    "nombre_exposed        566\n",
    "nombre_recovered    16020\n",
    "Name: 161, dtype: int64"
   ]
  },
  {
   "cell_type": "markdown",
   "id": "80f429d7",
   "metadata": {},
   "source": [
    "nombre_infected      1099\n",
    "nombre_sain          2240\n",
    "nombre_exposed        562\n",
    "nombre_recovered    16099\n",
    "Name: 162, dtype: int64"
   ]
  },
  {
   "cell_type": "markdown",
   "id": "7df5aab9",
   "metadata": {},
   "source": [
    "nombre_infected      1088\n",
    "nombre_sain          2187\n",
    "nombre_exposed        552\n",
    "nombre_recovered    16173\n",
    "Name: 163, dtype: int64"
   ]
  },
  {
   "cell_type": "markdown",
   "id": "84ddb914",
   "metadata": {},
   "source": [
    "nombre_infected      1069\n",
    "nombre_sain          2140\n",
    "nombre_exposed        552\n",
    "nombre_recovered    16239\n",
    "Name: 164, dtype: int64"
   ]
  },
  {
   "cell_type": "markdown",
   "id": "a6956cf3",
   "metadata": {},
   "source": [
    "nombre_infected      1079\n",
    "nombre_sain          2052\n",
    "nombre_exposed        565\n",
    "nombre_recovered    16304\n",
    "Name: 165, dtype: int64"
   ]
  },
  {
   "cell_type": "markdown",
   "id": "8e8140e3",
   "metadata": {},
   "source": [
    "nombre_infected      1089\n",
    "nombre_sain          2014\n",
    "nombre_exposed        543\n",
    "nombre_recovered    16354\n",
    "Name: 166, dtype: int64"
   ]
  },
  {
   "cell_type": "markdown",
   "id": "b9f9b775",
   "metadata": {},
   "source": [
    "nombre_infected      1106\n",
    "nombre_sain          1974\n",
    "nombre_exposed        513\n",
    "nombre_recovered    16407\n",
    "Name: 167, dtype: int64"
   ]
  },
  {
   "cell_type": "markdown",
   "id": "de51a944",
   "metadata": {},
   "source": [
    "nombre_infected      1133\n",
    "nombre_sain          1938\n",
    "nombre_exposed        488\n",
    "nombre_recovered    16441\n",
    "Name: 168, dtype: int64"
   ]
  },
  {
   "cell_type": "markdown",
   "id": "c27f969e",
   "metadata": {},
   "source": [
    "nombre_infected      1138\n",
    "nombre_sain          1896\n",
    "nombre_exposed        469\n",
    "nombre_recovered    16497\n",
    "Name: 169, dtype: int64"
   ]
  },
  {
   "cell_type": "markdown",
   "id": "ab49bc7f",
   "metadata": {},
   "source": [
    "nombre_infected      1109\n",
    "nombre_sain          1866\n",
    "nombre_exposed        497\n",
    "nombre_recovered    16528\n",
    "Name: 170, dtype: int64"
   ]
  },
  {
   "cell_type": "markdown",
   "id": "0c23735e",
   "metadata": {},
   "source": [
    "nombre_infected      1081\n",
    "nombre_sain          1844\n",
    "nombre_exposed        482\n",
    "nombre_recovered    16593\n",
    "Name: 171, dtype: int64"
   ]
  },
  {
   "cell_type": "markdown",
   "id": "e4c09fb0",
   "metadata": {},
   "source": [
    "nombre_infected      1071\n",
    "nombre_sain          1817\n",
    "nombre_exposed        443\n",
    "nombre_recovered    16669\n",
    "Name: 172, dtype: int64"
   ]
  },
  {
   "cell_type": "markdown",
   "id": "04ec6d7f",
   "metadata": {},
   "source": [
    "nombre_infected      1052\n",
    "nombre_sain          1768\n",
    "nombre_exposed        451\n",
    "nombre_recovered    16729\n",
    "Name: 173, dtype: int64"
   ]
  },
  {
   "cell_type": "markdown",
   "id": "b4195bd2",
   "metadata": {},
   "source": [
    "nombre_infected      1039\n",
    "nombre_sain          1744\n",
    "nombre_exposed        438\n",
    "nombre_recovered    16779\n",
    "Name: 174, dtype: int64"
   ]
  },
  {
   "cell_type": "markdown",
   "id": "14d54396",
   "metadata": {},
   "source": [
    "nombre_infected      1009\n",
    "nombre_sain          1741\n",
    "nombre_exposed        424\n",
    "nombre_recovered    16826\n",
    "Name: 175, dtype: int64"
   ]
  },
  {
   "cell_type": "markdown",
   "id": "e3df9f8c",
   "metadata": {},
   "source": [
    "nombre_infected      1020\n",
    "nombre_sain          1732\n",
    "nombre_exposed        395\n",
    "nombre_recovered    16853\n",
    "Name: 176, dtype: int64"
   ]
  },
  {
   "cell_type": "markdown",
   "id": "db9444ee",
   "metadata": {},
   "source": [
    "nombre_infected      1007\n",
    "nombre_sain          1727\n",
    "nombre_exposed        394\n",
    "nombre_recovered    16872\n",
    "Name: 177, dtype: int64"
   ]
  },
  {
   "cell_type": "markdown",
   "id": "7ee7ec7f",
   "metadata": {},
   "source": [
    "nombre_infected      1002\n",
    "nombre_sain          1760\n",
    "nombre_exposed        361\n",
    "nombre_recovered    16877\n",
    "Name: 178, dtype: int64"
   ]
  },
  {
   "cell_type": "markdown",
   "id": "154acc33",
   "metadata": {},
   "source": [
    "nombre_infected       976\n",
    "nombre_sain          1765\n",
    "nombre_exposed        389\n",
    "nombre_recovered    16870\n",
    "Name: 179, dtype: int64"
   ]
  },
  {
   "cell_type": "markdown",
   "id": "81c60647",
   "metadata": {},
   "source": [
    "nombre_infected       953\n",
    "nombre_sain          1780\n",
    "nombre_exposed        385\n",
    "nombre_recovered    16882\n",
    "Name: 180, dtype: int64"
   ]
  },
  {
   "cell_type": "markdown",
   "id": "d7c11942",
   "metadata": {},
   "source": [
    "nombre_infected       942\n",
    "nombre_sain          1781\n",
    "nombre_exposed        378\n",
    "nombre_recovered    16899\n",
    "Name: 181, dtype: int64"
   ]
  },
  {
   "cell_type": "markdown",
   "id": "eaee5855",
   "metadata": {},
   "source": [
    "nombre_infected       932\n",
    "nombre_sain          1800\n",
    "nombre_exposed        365\n",
    "nombre_recovered    16903\n",
    "Name: 182, dtype: int64"
   ]
  },
  {
   "cell_type": "markdown",
   "id": "cf2e33d3",
   "metadata": {},
   "source": [
    "nombre_infected       895\n",
    "nombre_sain          1815\n",
    "nombre_exposed        369\n",
    "nombre_recovered    16921\n",
    "Name: 183, dtype: int64"
   ]
  },
  {
   "cell_type": "markdown",
   "id": "9bcc27ad",
   "metadata": {},
   "source": [
    "nombre_infected       886\n",
    "nombre_sain          1832\n",
    "nombre_exposed        366\n",
    "nombre_recovered    16916\n",
    "Name: 184, dtype: int64"
   ]
  },
  {
   "cell_type": "markdown",
   "id": "16ea066c",
   "metadata": {},
   "source": [
    "nombre_infected       852\n",
    "nombre_sain          1859\n",
    "nombre_exposed        365\n",
    "nombre_recovered    16924\n",
    "Name: 185, dtype: int64"
   ]
  },
  {
   "cell_type": "markdown",
   "id": "7d66e93a",
   "metadata": {},
   "source": [
    "nombre_infected       850\n",
    "nombre_sain          1888\n",
    "nombre_exposed        355\n",
    "nombre_recovered    16907\n",
    "Name: 186, dtype: int64"
   ]
  },
  {
   "cell_type": "markdown",
   "id": "354b05aa",
   "metadata": {},
   "source": [
    "nombre_infected       855\n",
    "nombre_sain          1892\n",
    "nombre_exposed        346\n",
    "nombre_recovered    16907\n",
    "Name: 187, dtype: int64"
   ]
  },
  {
   "cell_type": "markdown",
   "id": "b596dd37",
   "metadata": {},
   "source": [
    "nombre_infected       843\n",
    "nombre_sain          1905\n",
    "nombre_exposed        358\n",
    "nombre_recovered    16894\n",
    "Name: 188, dtype: int64"
   ]
  },
  {
   "cell_type": "markdown",
   "id": "f6e44e47",
   "metadata": {},
   "source": [
    "nombre_infected       830\n",
    "nombre_sain          1913\n",
    "nombre_exposed        340\n",
    "nombre_recovered    16917\n",
    "Name: 189, dtype: int64"
   ]
  },
  {
   "cell_type": "markdown",
   "id": "0df3a663",
   "metadata": {},
   "source": [
    "nombre_infected       802\n",
    "nombre_sain          1931\n",
    "nombre_exposed        337\n",
    "nombre_recovered    16930\n",
    "Name: 190, dtype: int64"
   ]
  },
  {
   "cell_type": "markdown",
   "id": "a70356b6",
   "metadata": {},
   "source": [
    "nombre_infected       805\n",
    "nombre_sain          1949\n",
    "nombre_exposed        335\n",
    "nombre_recovered    16911\n",
    "Name: 191, dtype: int64"
   ]
  },
  {
   "cell_type": "markdown",
   "id": "5b9c7b98",
   "metadata": {},
   "source": [
    "nombre_infected       780\n",
    "nombre_sain          1953\n",
    "nombre_exposed        364\n",
    "nombre_recovered    16903\n",
    "Name: 192, dtype: int64"
   ]
  },
  {
   "cell_type": "markdown",
   "id": "6eb727a7",
   "metadata": {},
   "source": [
    "nombre_infected       781\n",
    "nombre_sain          1977\n",
    "nombre_exposed        341\n",
    "nombre_recovered    16901\n",
    "Name: 193, dtype: int64"
   ]
  },
  {
   "cell_type": "markdown",
   "id": "ebb856df",
   "metadata": {},
   "source": [
    "nombre_infected       745\n",
    "nombre_sain          1964\n",
    "nombre_exposed        353\n",
    "nombre_recovered    16938\n",
    "Name: 194, dtype: int64"
   ]
  },
  {
   "cell_type": "markdown",
   "id": "4ed4db7e",
   "metadata": {},
   "source": [
    "nombre_infected       714\n",
    "nombre_sain          1964\n",
    "nombre_exposed        359\n",
    "nombre_recovered    16963\n",
    "Name: 195, dtype: int64"
   ]
  },
  {
   "cell_type": "markdown",
   "id": "1ea8f21f",
   "metadata": {},
   "source": [
    "nombre_infected       706\n",
    "nombre_sain          1977\n",
    "nombre_exposed        347\n",
    "nombre_recovered    16970\n",
    "Name: 196, dtype: int64"
   ]
  },
  {
   "cell_type": "markdown",
   "id": "d10f1357",
   "metadata": {},
   "source": [
    "nombre_infected       678\n",
    "nombre_sain          1994\n",
    "nombre_exposed        338\n",
    "nombre_recovered    16990\n",
    "Name: 197, dtype: int64"
   ]
  },
  {
   "cell_type": "markdown",
   "id": "316099e5",
   "metadata": {},
   "source": [
    "nombre_infected       669\n",
    "nombre_sain          2019\n",
    "nombre_exposed        345\n",
    "nombre_recovered    16967\n",
    "Name: 198, dtype: int64"
   ]
  },
  {
   "cell_type": "markdown",
   "id": "c6a63665",
   "metadata": {},
   "source": [
    "nombre_infected       665\n",
    "nombre_sain          2030\n",
    "nombre_exposed        344\n",
    "nombre_recovered    16961\n",
    "Name: 199, dtype: int64"
   ]
  },
  {
   "cell_type": "markdown",
   "id": "b8456fb1",
   "metadata": {},
   "source": [
    "nombre_infected       676\n",
    "nombre_sain          2049\n",
    "nombre_exposed        335\n",
    "nombre_recovered    16940\n",
    "Name: 200, dtype: int64"
   ]
  },
  {
   "cell_type": "markdown",
   "id": "5b8d29d5",
   "metadata": {},
   "source": [
    "nombre_infected       681\n",
    "nombre_sain          2071\n",
    "nombre_exposed        340\n",
    "nombre_recovered    16908\n",
    "Name: 201, dtype: int64"
   ]
  },
  {
   "cell_type": "markdown",
   "id": "5f6b88dd",
   "metadata": {},
   "source": [
    "nombre_infected       642\n",
    "nombre_sain          2064\n",
    "nombre_exposed        379\n",
    "nombre_recovered    16915\n",
    "Name: 202, dtype: int64"
   ]
  },
  {
   "cell_type": "markdown",
   "id": "04447335",
   "metadata": {},
   "source": [
    "nombre_infected       646\n",
    "nombre_sain          2089\n",
    "nombre_exposed        363\n",
    "nombre_recovered    16902\n",
    "Name: 203, dtype: int64"
   ]
  },
  {
   "cell_type": "markdown",
   "id": "426a26e9",
   "metadata": {},
   "source": [
    "nombre_infected       653\n",
    "nombre_sain          2085\n",
    "nombre_exposed        375\n",
    "nombre_recovered    16887\n",
    "Name: 204, dtype: int64"
   ]
  },
  {
   "cell_type": "markdown",
   "id": "7879284d",
   "metadata": {},
   "source": [
    "nombre_infected       655\n",
    "nombre_sain          2103\n",
    "nombre_exposed        368\n",
    "nombre_recovered    16874\n",
    "Name: 205, dtype: int64"
   ]
  },
  {
   "cell_type": "markdown",
   "id": "8c114cfe",
   "metadata": {},
   "source": [
    "nombre_infected       674\n",
    "nombre_sain          2135\n",
    "nombre_exposed        363\n",
    "nombre_recovered    16828\n",
    "Name: 206, dtype: int64"
   ]
  },
  {
   "cell_type": "markdown",
   "id": "580a8a93",
   "metadata": {},
   "source": [
    "nombre_infected       686\n",
    "nombre_sain          2156\n",
    "nombre_exposed        359\n",
    "nombre_recovered    16799\n",
    "Name: 207, dtype: int64"
   ]
  },
  {
   "cell_type": "markdown",
   "id": "e3935ab8",
   "metadata": {},
   "source": [
    "nombre_infected       672\n",
    "nombre_sain          2160\n",
    "nombre_exposed        374\n",
    "nombre_recovered    16794\n",
    "Name: 208, dtype: int64"
   ]
  },
  {
   "cell_type": "markdown",
   "id": "ccd129fe",
   "metadata": {},
   "source": [
    "nombre_infected       677\n",
    "nombre_sain          2155\n",
    "nombre_exposed        378\n",
    "nombre_recovered    16790\n",
    "Name: 209, dtype: int64"
   ]
  },
  {
   "cell_type": "markdown",
   "id": "0bfc8dfd",
   "metadata": {},
   "source": [
    "nombre_infected       688\n",
    "nombre_sain          2170\n",
    "nombre_exposed        357\n",
    "nombre_recovered    16785\n",
    "Name: 210, dtype: int64"
   ]
  },
  {
   "cell_type": "markdown",
   "id": "4ba6b7e0",
   "metadata": {},
   "source": [
    "nombre_infected       706\n",
    "nombre_sain          2173\n",
    "nombre_exposed        339\n",
    "nombre_recovered    16782\n",
    "Name: 211, dtype: int64"
   ]
  },
  {
   "cell_type": "markdown",
   "id": "85cbd690",
   "metadata": {},
   "source": [
    "nombre_infected       712\n",
    "nombre_sain          2201\n",
    "nombre_exposed        347\n",
    "nombre_recovered    16740\n",
    "Name: 212, dtype: int64"
   ]
  },
  {
   "cell_type": "markdown",
   "id": "e116f9aa",
   "metadata": {},
   "source": [
    "nombre_infected       694\n",
    "nombre_sain          2204\n",
    "nombre_exposed        368\n",
    "nombre_recovered    16734\n",
    "Name: 213, dtype: int64"
   ]
  },
  {
   "cell_type": "markdown",
   "id": "235ec76f",
   "metadata": {},
   "source": [
    "nombre_infected       695\n",
    "nombre_sain          2207\n",
    "nombre_exposed        376\n",
    "nombre_recovered    16722\n",
    "Name: 214, dtype: int64"
   ]
  },
  {
   "cell_type": "markdown",
   "id": "9a073d4b",
   "metadata": {},
   "source": [
    "nombre_infected       702\n",
    "nombre_sain          2237\n",
    "nombre_exposed        375\n",
    "nombre_recovered    16686\n",
    "Name: 215, dtype: int64"
   ]
  },
  {
   "cell_type": "markdown",
   "id": "40c577a2",
   "metadata": {},
   "source": [
    "nombre_infected       700\n",
    "nombre_sain          2225\n",
    "nombre_exposed        391\n",
    "nombre_recovered    16684\n",
    "Name: 216, dtype: int64"
   ]
  },
  {
   "cell_type": "markdown",
   "id": "c0c50e76",
   "metadata": {},
   "source": [
    "nombre_infected       688\n",
    "nombre_sain          2246\n",
    "nombre_exposed        384\n",
    "nombre_recovered    16682\n",
    "Name: 217, dtype: int64"
   ]
  },
  {
   "cell_type": "markdown",
   "id": "4e35f93f",
   "metadata": {},
   "source": [
    "nombre_infected       700\n",
    "nombre_sain          2247\n",
    "nombre_exposed        375\n",
    "nombre_recovered    16678\n",
    "Name: 218, dtype: int64"
   ]
  },
  {
   "cell_type": "markdown",
   "id": "bfbe8c2d",
   "metadata": {},
   "source": [
    "nombre_infected       698\n",
    "nombre_sain          2260\n",
    "nombre_exposed        379\n",
    "nombre_recovered    16663\n",
    "Name: 219, dtype: int64"
   ]
  },
  {
   "cell_type": "markdown",
   "id": "323edaaa",
   "metadata": {},
   "source": [
    "nombre_infected       689\n",
    "nombre_sain          2281\n",
    "nombre_exposed        378\n",
    "nombre_recovered    16652\n",
    "Name: 220, dtype: int64"
   ]
  },
  {
   "cell_type": "markdown",
   "id": "ccfb83de",
   "metadata": {},
   "source": [
    "nombre_infected       703\n",
    "nombre_sain          2278\n",
    "nombre_exposed        372\n",
    "nombre_recovered    16647\n",
    "Name: 221, dtype: int64"
   ]
  },
  {
   "cell_type": "markdown",
   "id": "3426f627",
   "metadata": {},
   "source": [
    "nombre_infected       701\n",
    "nombre_sain          2256\n",
    "nombre_exposed        391\n",
    "nombre_recovered    16652\n",
    "Name: 222, dtype: int64"
   ]
  },
  {
   "cell_type": "markdown",
   "id": "b9cbdab9",
   "metadata": {},
   "source": [
    "nombre_infected       712\n",
    "nombre_sain          2264\n",
    "nombre_exposed        387\n",
    "nombre_recovered    16637\n",
    "Name: 223, dtype: int64"
   ]
  },
  {
   "cell_type": "markdown",
   "id": "3f9af377",
   "metadata": {},
   "source": [
    "nombre_infected       701\n",
    "nombre_sain          2267\n",
    "nombre_exposed        396\n",
    "nombre_recovered    16636\n",
    "Name: 224, dtype: int64"
   ]
  },
  {
   "cell_type": "markdown",
   "id": "7fde519a",
   "metadata": {},
   "source": [
    "nombre_infected       673\n",
    "nombre_sain          2255\n",
    "nombre_exposed        425\n",
    "nombre_recovered    16647\n",
    "Name: 225, dtype: int64"
   ]
  },
  {
   "cell_type": "markdown",
   "id": "a90174c4",
   "metadata": {},
   "source": [
    "nombre_infected       686\n",
    "nombre_sain          2268\n",
    "nombre_exposed        401\n",
    "nombre_recovered    16645\n",
    "Name: 226, dtype: int64"
   ]
  },
  {
   "cell_type": "markdown",
   "id": "5b827467",
   "metadata": {},
   "source": [
    "nombre_infected       707\n",
    "nombre_sain          2254\n",
    "nombre_exposed        396\n",
    "nombre_recovered    16643\n",
    "Name: 227, dtype: int64"
   ]
  },
  {
   "cell_type": "markdown",
   "id": "2f0fba3d",
   "metadata": {},
   "source": [
    "nombre_infected       702\n",
    "nombre_sain          2281\n",
    "nombre_exposed        393\n",
    "nombre_recovered    16624\n",
    "Name: 228, dtype: int64"
   ]
  },
  {
   "cell_type": "markdown",
   "id": "970a5c43",
   "metadata": {},
   "source": [
    "nombre_infected       692\n",
    "nombre_sain          2272\n",
    "nombre_exposed        406\n",
    "nombre_recovered    16630\n",
    "Name: 229, dtype: int64"
   ]
  },
  {
   "cell_type": "markdown",
   "id": "e8ded869",
   "metadata": {},
   "source": [
    "nombre_infected       701\n",
    "nombre_sain          2278\n",
    "nombre_exposed        407\n",
    "nombre_recovered    16614\n",
    "Name: 230, dtype: int64"
   ]
  },
  {
   "cell_type": "markdown",
   "id": "85caca34",
   "metadata": {},
   "source": [
    "nombre_infected       716\n",
    "nombre_sain          2274\n",
    "nombre_exposed        401\n",
    "nombre_recovered    16609\n",
    "Name: 231, dtype: int64"
   ]
  },
  {
   "cell_type": "markdown",
   "id": "a9c883ea",
   "metadata": {},
   "source": [
    "nombre_infected       757\n",
    "nombre_sain          2272\n",
    "nombre_exposed        385\n",
    "nombre_recovered    16586\n",
    "Name: 232, dtype: int64"
   ]
  },
  {
   "cell_type": "markdown",
   "id": "43eff47e",
   "metadata": {},
   "source": [
    "nombre_infected       757\n",
    "nombre_sain          2280\n",
    "nombre_exposed        388\n",
    "nombre_recovered    16575\n",
    "Name: 233, dtype: int64"
   ]
  },
  {
   "cell_type": "markdown",
   "id": "1b303695",
   "metadata": {},
   "source": [
    "nombre_infected       742\n",
    "nombre_sain          2272\n",
    "nombre_exposed        402\n",
    "nombre_recovered    16584\n",
    "Name: 234, dtype: int64"
   ]
  },
  {
   "cell_type": "markdown",
   "id": "755c741d",
   "metadata": {},
   "source": [
    "nombre_infected       742\n",
    "nombre_sain          2294\n",
    "nombre_exposed        378\n",
    "nombre_recovered    16586\n",
    "Name: 235, dtype: int64"
   ]
  },
  {
   "cell_type": "markdown",
   "id": "55569699",
   "metadata": {},
   "source": [
    "nombre_infected       743\n",
    "nombre_sain          2289\n",
    "nombre_exposed        390\n",
    "nombre_recovered    16578\n",
    "Name: 236, dtype: int64"
   ]
  },
  {
   "cell_type": "markdown",
   "id": "82da9f68",
   "metadata": {},
   "source": [
    "nombre_infected       700\n",
    "nombre_sain          2269\n",
    "nombre_exposed        421\n",
    "nombre_recovered    16610\n",
    "Name: 237, dtype: int64"
   ]
  },
  {
   "cell_type": "markdown",
   "id": "5795b421",
   "metadata": {},
   "source": [
    "nombre_infected       719\n",
    "nombre_sain          2270\n",
    "nombre_exposed        412\n",
    "nombre_recovered    16599\n",
    "Name: 238, dtype: int64"
   ]
  },
  {
   "cell_type": "markdown",
   "id": "ebe38121",
   "metadata": {},
   "source": [
    "nombre_infected       725\n",
    "nombre_sain          2266\n",
    "nombre_exposed        420\n",
    "nombre_recovered    16589\n",
    "Name: 239, dtype: int64"
   ]
  },
  {
   "cell_type": "markdown",
   "id": "148a98e3",
   "metadata": {},
   "source": [
    "nombre_infected       741\n",
    "nombre_sain          2278\n",
    "nombre_exposed        418\n",
    "nombre_recovered    16563\n",
    "Name: 240, dtype: int64"
   ]
  },
  {
   "cell_type": "markdown",
   "id": "eaab9f54",
   "metadata": {},
   "source": [
    "nombre_infected       734\n",
    "nombre_sain          2287\n",
    "nombre_exposed        396\n",
    "nombre_recovered    16583\n",
    "Name: 241, dtype: int64"
   ]
  },
  {
   "cell_type": "markdown",
   "id": "99850ec2",
   "metadata": {},
   "source": [
    "nombre_infected       741\n",
    "nombre_sain          2272\n",
    "nombre_exposed        405\n",
    "nombre_recovered    16582\n",
    "Name: 242, dtype: int64"
   ]
  },
  {
   "cell_type": "markdown",
   "id": "371da9e5",
   "metadata": {},
   "source": [
    "nombre_infected       730\n",
    "nombre_sain          2264\n",
    "nombre_exposed        426\n",
    "nombre_recovered    16580\n",
    "Name: 243, dtype: int64"
   ]
  },
  {
   "cell_type": "markdown",
   "id": "d3eff5ae",
   "metadata": {},
   "source": [
    "nombre_infected       738\n",
    "nombre_sain          2282\n",
    "nombre_exposed        419\n",
    "nombre_recovered    16561\n",
    "Name: 244, dtype: int64"
   ]
  },
  {
   "cell_type": "markdown",
   "id": "a7eb9bbc",
   "metadata": {},
   "source": [
    "nombre_infected       755\n",
    "nombre_sain          2263\n",
    "nombre_exposed        409\n",
    "nombre_recovered    16573\n",
    "Name: 245, dtype: int64"
   ]
  },
  {
   "cell_type": "markdown",
   "id": "1aee674e",
   "metadata": {},
   "source": [
    "nombre_infected       737\n",
    "nombre_sain          2235\n",
    "nombre_exposed        435\n",
    "nombre_recovered    16593\n",
    "Name: 246, dtype: int64"
   ]
  },
  {
   "cell_type": "markdown",
   "id": "1f8f2c16",
   "metadata": {},
   "source": [
    "nombre_infected       757\n",
    "nombre_sain          2238\n",
    "nombre_exposed        418\n",
    "nombre_recovered    16587\n",
    "Name: 247, dtype: int64"
   ]
  },
  {
   "cell_type": "markdown",
   "id": "a9b4909a",
   "metadata": {},
   "source": [
    "nombre_infected       749\n",
    "nombre_sain          2234\n",
    "nombre_exposed        437\n",
    "nombre_recovered    16580\n",
    "Name: 248, dtype: int64"
   ]
  },
  {
   "cell_type": "markdown",
   "id": "251b33ca",
   "metadata": {},
   "source": [
    "nombre_infected       728\n",
    "nombre_sain          2275\n",
    "nombre_exposed        417\n",
    "nombre_recovered    16580\n",
    "Name: 249, dtype: int64"
   ]
  },
  {
   "cell_type": "markdown",
   "id": "35ca439b",
   "metadata": {},
   "source": [
    "nombre_infected       753\n",
    "nombre_sain          2280\n",
    "nombre_exposed        395\n",
    "nombre_recovered    16572\n",
    "Name: 250, dtype: int64"
   ]
  },
  {
   "cell_type": "markdown",
   "id": "2230d3c8",
   "metadata": {},
   "source": [
    "nombre_infected       760\n",
    "nombre_sain          2292\n",
    "nombre_exposed        391\n",
    "nombre_recovered    16557\n",
    "Name: 251, dtype: int64"
   ]
  },
  {
   "cell_type": "markdown",
   "id": "42336ae4",
   "metadata": {},
   "source": [
    "nombre_infected       724\n",
    "nombre_sain          2285\n",
    "nombre_exposed        420\n",
    "nombre_recovered    16571\n",
    "Name: 252, dtype: int64"
   ]
  },
  {
   "cell_type": "markdown",
   "id": "565b1519",
   "metadata": {},
   "source": [
    "nombre_infected       720\n",
    "nombre_sain          2288\n",
    "nombre_exposed        438\n",
    "nombre_recovered    16554\n",
    "Name: 253, dtype: int64"
   ]
  },
  {
   "cell_type": "markdown",
   "id": "e785f43e",
   "metadata": {},
   "source": [
    "nombre_infected       721\n",
    "nombre_sain          2288\n",
    "nombre_exposed        443\n",
    "nombre_recovered    16548\n",
    "Name: 254, dtype: int64"
   ]
  },
  {
   "cell_type": "markdown",
   "id": "ceb87ab6",
   "metadata": {},
   "source": [
    "nombre_infected       720\n",
    "nombre_sain          2304\n",
    "nombre_exposed        436\n",
    "nombre_recovered    16540\n",
    "Name: 255, dtype: int64"
   ]
  },
  {
   "cell_type": "markdown",
   "id": "9ce089a4",
   "metadata": {},
   "source": [
    "nombre_infected       735\n",
    "nombre_sain          2308\n",
    "nombre_exposed        429\n",
    "nombre_recovered    16528\n",
    "Name: 256, dtype: int64"
   ]
  },
  {
   "cell_type": "markdown",
   "id": "acc9c021",
   "metadata": {},
   "source": [
    "nombre_infected       749\n",
    "nombre_sain          2342\n",
    "nombre_exposed        411\n",
    "nombre_recovered    16498\n",
    "Name: 257, dtype: int64"
   ]
  },
  {
   "cell_type": "markdown",
   "id": "6d0da15a",
   "metadata": {},
   "source": [
    "nombre_infected       727\n",
    "nombre_sain          2322\n",
    "nombre_exposed        420\n",
    "nombre_recovered    16531\n",
    "Name: 258, dtype: int64"
   ]
  },
  {
   "cell_type": "markdown",
   "id": "df59ccaa",
   "metadata": {},
   "source": [
    "nombre_infected       720\n",
    "nombre_sain          2315\n",
    "nombre_exposed        420\n",
    "nombre_recovered    16545\n",
    "Name: 259, dtype: int64"
   ]
  },
  {
   "cell_type": "markdown",
   "id": "a10724db",
   "metadata": {},
   "source": [
    "nombre_infected       738\n",
    "nombre_sain          2310\n",
    "nombre_exposed        420\n",
    "nombre_recovered    16532\n",
    "Name: 260, dtype: int64"
   ]
  },
  {
   "cell_type": "markdown",
   "id": "36582035",
   "metadata": {},
   "source": [
    "nombre_infected       723\n",
    "nombre_sain          2310\n",
    "nombre_exposed        427\n",
    "nombre_recovered    16540\n",
    "Name: 261, dtype: int64"
   ]
  },
  {
   "cell_type": "markdown",
   "id": "5df04146",
   "metadata": {},
   "source": [
    "nombre_infected       742\n",
    "nombre_sain          2320\n",
    "nombre_exposed        402\n",
    "nombre_recovered    16536\n",
    "Name: 262, dtype: int64"
   ]
  },
  {
   "cell_type": "markdown",
   "id": "f129dba6",
   "metadata": {},
   "source": [
    "nombre_infected       747\n",
    "nombre_sain          2325\n",
    "nombre_exposed        395\n",
    "nombre_recovered    16533\n",
    "Name: 263, dtype: int64"
   ]
  },
  {
   "cell_type": "markdown",
   "id": "cbc5d3c9",
   "metadata": {},
   "source": [
    "nombre_infected       737\n",
    "nombre_sain          2358\n",
    "nombre_exposed        397\n",
    "nombre_recovered    16508\n",
    "Name: 264, dtype: int64"
   ]
  },
  {
   "cell_type": "markdown",
   "id": "02b89c09",
   "metadata": {},
   "source": [
    "nombre_infected       739\n",
    "nombre_sain          2352\n",
    "nombre_exposed        398\n",
    "nombre_recovered    16511\n",
    "Name: 265, dtype: int64"
   ]
  },
  {
   "cell_type": "markdown",
   "id": "1e19c005",
   "metadata": {},
   "source": [
    "nombre_infected       732\n",
    "nombre_sain          2345\n",
    "nombre_exposed        427\n",
    "nombre_recovered    16496\n",
    "Name: 266, dtype: int64"
   ]
  },
  {
   "cell_type": "markdown",
   "id": "66d94763",
   "metadata": {},
   "source": [
    "nombre_infected       716\n",
    "nombre_sain          2358\n",
    "nombre_exposed        417\n",
    "nombre_recovered    16509\n",
    "Name: 267, dtype: int64"
   ]
  },
  {
   "cell_type": "markdown",
   "id": "cea49520",
   "metadata": {},
   "source": [
    "nombre_infected       725\n",
    "nombre_sain          2407\n",
    "nombre_exposed        406\n",
    "nombre_recovered    16462\n",
    "Name: 268, dtype: int64"
   ]
  },
  {
   "cell_type": "markdown",
   "id": "df9bb623",
   "metadata": {},
   "source": [
    "nombre_infected       740\n",
    "nombre_sain          2425\n",
    "nombre_exposed        398\n",
    "nombre_recovered    16437\n",
    "Name: 269, dtype: int64"
   ]
  },
  {
   "cell_type": "markdown",
   "id": "a0c7d069",
   "metadata": {},
   "source": [
    "nombre_infected       718\n",
    "nombre_sain          2452\n",
    "nombre_exposed        391\n",
    "nombre_recovered    16439\n",
    "Name: 270, dtype: int64"
   ]
  },
  {
   "cell_type": "markdown",
   "id": "5f00541a",
   "metadata": {},
   "source": [
    "nombre_infected       714\n",
    "nombre_sain          2468\n",
    "nombre_exposed        386\n",
    "nombre_recovered    16432\n",
    "Name: 271, dtype: int64"
   ]
  },
  {
   "cell_type": "markdown",
   "id": "6cc5eff1",
   "metadata": {},
   "source": [
    "nombre_infected       720\n",
    "nombre_sain          2500\n",
    "nombre_exposed        394\n",
    "nombre_recovered    16386\n",
    "Name: 272, dtype: int64"
   ]
  },
  {
   "cell_type": "markdown",
   "id": "88e0ac9b",
   "metadata": {},
   "source": [
    "nombre_infected       714\n",
    "nombre_sain          2548\n",
    "nombre_exposed        385\n",
    "nombre_recovered    16353\n",
    "Name: 273, dtype: int64"
   ]
  },
  {
   "cell_type": "markdown",
   "id": "ced409ec",
   "metadata": {},
   "source": [
    "nombre_infected       710\n",
    "nombre_sain          2562\n",
    "nombre_exposed        420\n",
    "nombre_recovered    16308\n",
    "Name: 274, dtype: int64"
   ]
  },
  {
   "cell_type": "markdown",
   "id": "d26948fb",
   "metadata": {},
   "source": [
    "nombre_infected       730\n",
    "nombre_sain          2550\n",
    "nombre_exposed        423\n",
    "nombre_recovered    16297\n",
    "Name: 275, dtype: int64"
   ]
  },
  {
   "cell_type": "markdown",
   "id": "2b7ec6e8",
   "metadata": {},
   "source": [
    "nombre_infected       719\n",
    "nombre_sain          2575\n",
    "nombre_exposed        448\n",
    "nombre_recovered    16258\n",
    "Name: 276, dtype: int64"
   ]
  },
  {
   "cell_type": "markdown",
   "id": "db80a2cb",
   "metadata": {},
   "source": [
    "nombre_infected       738\n",
    "nombre_sain          2568\n",
    "nombre_exposed        457\n",
    "nombre_recovered    16237\n",
    "Name: 277, dtype: int64"
   ]
  },
  {
   "cell_type": "markdown",
   "id": "a7f463c4",
   "metadata": {},
   "source": [
    "nombre_infected       738\n",
    "nombre_sain          2565\n",
    "nombre_exposed        463\n",
    "nombre_recovered    16234\n",
    "Name: 278, dtype: int64"
   ]
  },
  {
   "cell_type": "markdown",
   "id": "9f361646",
   "metadata": {},
   "source": [
    "nombre_infected       745\n",
    "nombre_sain          2555\n",
    "nombre_exposed        468\n",
    "nombre_recovered    16232\n",
    "Name: 279, dtype: int64"
   ]
  },
  {
   "cell_type": "markdown",
   "id": "73bb38c2",
   "metadata": {},
   "source": [
    "nombre_infected       767\n",
    "nombre_sain          2533\n",
    "nombre_exposed        482\n",
    "nombre_recovered    16218\n",
    "Name: 280, dtype: int64"
   ]
  },
  {
   "cell_type": "markdown",
   "id": "fc9362ca",
   "metadata": {},
   "source": [
    "nombre_infected       762\n",
    "nombre_sain          2523\n",
    "nombre_exposed        496\n",
    "nombre_recovered    16219\n",
    "Name: 281, dtype: int64"
   ]
  },
  {
   "cell_type": "markdown",
   "id": "6db4f738",
   "metadata": {},
   "source": [
    "nombre_infected       755\n",
    "nombre_sain          2515\n",
    "nombre_exposed        525\n",
    "nombre_recovered    16205\n",
    "Name: 282, dtype: int64"
   ]
  },
  {
   "cell_type": "markdown",
   "id": "8b56e0fd",
   "metadata": {},
   "source": [
    "nombre_infected       770\n",
    "nombre_sain          2514\n",
    "nombre_exposed        498\n",
    "nombre_recovered    16218\n",
    "Name: 283, dtype: int64"
   ]
  },
  {
   "cell_type": "markdown",
   "id": "aba1d06d",
   "metadata": {},
   "source": [
    "nombre_infected       781\n",
    "nombre_sain          2492\n",
    "nombre_exposed        493\n",
    "nombre_recovered    16234\n",
    "Name: 284, dtype: int64"
   ]
  },
  {
   "cell_type": "markdown",
   "id": "e6f93b5b",
   "metadata": {},
   "source": [
    "nombre_infected       779\n",
    "nombre_sain          2474\n",
    "nombre_exposed        507\n",
    "nombre_recovered    16240\n",
    "Name: 285, dtype: int64"
   ]
  },
  {
   "cell_type": "markdown",
   "id": "f3cc4a31",
   "metadata": {},
   "source": [
    "nombre_infected       782\n",
    "nombre_sain          2459\n",
    "nombre_exposed        510\n",
    "nombre_recovered    16249\n",
    "Name: 286, dtype: int64"
   ]
  },
  {
   "cell_type": "markdown",
   "id": "0b66850a",
   "metadata": {},
   "source": [
    "nombre_infected       813\n",
    "nombre_sain          2426\n",
    "nombre_exposed        498\n",
    "nombre_recovered    16263\n",
    "Name: 287, dtype: int64"
   ]
  },
  {
   "cell_type": "markdown",
   "id": "091234d4",
   "metadata": {},
   "source": [
    "nombre_infected       822\n",
    "nombre_sain          2434\n",
    "nombre_exposed        473\n",
    "nombre_recovered    16271\n",
    "Name: 288, dtype: int64"
   ]
  },
  {
   "cell_type": "markdown",
   "id": "fc8eace1",
   "metadata": {},
   "source": [
    "nombre_infected       819\n",
    "nombre_sain          2399\n",
    "nombre_exposed        489\n",
    "nombre_recovered    16293\n",
    "Name: 289, dtype: int64"
   ]
  },
  {
   "cell_type": "markdown",
   "id": "3f4e7431",
   "metadata": {},
   "source": [
    "nombre_infected       844\n",
    "nombre_sain          2403\n",
    "nombre_exposed        489\n",
    "nombre_recovered    16264\n",
    "Name: 290, dtype: int64"
   ]
  },
  {
   "cell_type": "markdown",
   "id": "03feadf5",
   "metadata": {},
   "source": [
    "nombre_infected       846\n",
    "nombre_sain          2396\n",
    "nombre_exposed        478\n",
    "nombre_recovered    16280\n",
    "Name: 291, dtype: int64"
   ]
  },
  {
   "cell_type": "markdown",
   "id": "388da2c3",
   "metadata": {},
   "source": [
    "nombre_infected       828\n",
    "nombre_sain          2368\n",
    "nombre_exposed        499\n",
    "nombre_recovered    16305\n",
    "Name: 292, dtype: int64"
   ]
  },
  {
   "cell_type": "markdown",
   "id": "cc65736f",
   "metadata": {},
   "source": [
    "nombre_infected       844\n",
    "nombre_sain          2365\n",
    "nombre_exposed        483\n",
    "nombre_recovered    16308\n",
    "Name: 293, dtype: int64"
   ]
  },
  {
   "cell_type": "markdown",
   "id": "bb1a5f88",
   "metadata": {},
   "source": [
    "nombre_infected       857\n",
    "nombre_sain          2353\n",
    "nombre_exposed        499\n",
    "nombre_recovered    16291\n",
    "Name: 294, dtype: int64"
   ]
  },
  {
   "cell_type": "markdown",
   "id": "f1e92b9a",
   "metadata": {},
   "source": [
    "nombre_infected       869\n",
    "nombre_sain          2331\n",
    "nombre_exposed        527\n",
    "nombre_recovered    16273\n",
    "Name: 295, dtype: int64"
   ]
  },
  {
   "cell_type": "markdown",
   "id": "ce3b0aae",
   "metadata": {},
   "source": [
    "nombre_infected       848\n",
    "nombre_sain          2337\n",
    "nombre_exposed        521\n",
    "nombre_recovered    16294\n",
    "Name: 296, dtype: int64"
   ]
  },
  {
   "cell_type": "markdown",
   "id": "569e4fba",
   "metadata": {},
   "source": [
    "nombre_infected       878\n",
    "nombre_sain          2329\n",
    "nombre_exposed        504\n",
    "nombre_recovered    16289\n",
    "Name: 297, dtype: int64"
   ]
  },
  {
   "cell_type": "markdown",
   "id": "dbf411c6",
   "metadata": {},
   "source": [
    "nombre_infected       890\n",
    "nombre_sain          2354\n",
    "nombre_exposed        483\n",
    "nombre_recovered    16273\n",
    "Name: 298, dtype: int64"
   ]
  },
  {
   "cell_type": "markdown",
   "id": "6d31586d",
   "metadata": {},
   "source": [
    "nombre_infected       919\n",
    "nombre_sain          2324\n",
    "nombre_exposed        510\n",
    "nombre_recovered    16247\n",
    "Name: 299, dtype: int64"
   ]
  },
  {
   "cell_type": "markdown",
   "id": "83f0eaeb",
   "metadata": {},
   "source": [
    "nombre_infected       905\n",
    "nombre_sain          2309\n",
    "nombre_exposed        527\n",
    "nombre_recovered    16259\n",
    "Name: 300, dtype: int64"
   ]
  },
  {
   "cell_type": "markdown",
   "id": "d8df3f70",
   "metadata": {},
   "source": [
    "nombre_infected       927\n",
    "nombre_sain          2298\n",
    "nombre_exposed        514\n",
    "nombre_recovered    16261\n",
    "Name: 301, dtype: int64"
   ]
  },
  {
   "cell_type": "markdown",
   "id": "bab54b18",
   "metadata": {},
   "source": [
    "nombre_infected       941\n",
    "nombre_sain          2280\n",
    "nombre_exposed        521\n",
    "nombre_recovered    16258\n",
    "Name: 302, dtype: int64"
   ]
  },
  {
   "cell_type": "markdown",
   "id": "85561cdf",
   "metadata": {},
   "source": [
    "nombre_infected       937\n",
    "nombre_sain          2288\n",
    "nombre_exposed        544\n",
    "nombre_recovered    16231\n",
    "Name: 303, dtype: int64"
   ]
  },
  {
   "cell_type": "markdown",
   "id": "7ce2e1b0",
   "metadata": {},
   "source": [
    "nombre_infected       934\n",
    "nombre_sain          2285\n",
    "nombre_exposed        543\n",
    "nombre_recovered    16238\n",
    "Name: 304, dtype: int64"
   ]
  },
  {
   "cell_type": "markdown",
   "id": "3a610ff7",
   "metadata": {},
   "source": [
    "nombre_infected       962\n",
    "nombre_sain          2260\n",
    "nombre_exposed        549\n",
    "nombre_recovered    16229\n",
    "Name: 305, dtype: int64"
   ]
  },
  {
   "cell_type": "markdown",
   "id": "d884debe",
   "metadata": {},
   "source": [
    "nombre_infected       988\n",
    "nombre_sain          2277\n",
    "nombre_exposed        536\n",
    "nombre_recovered    16199\n",
    "Name: 306, dtype: int64"
   ]
  },
  {
   "cell_type": "markdown",
   "id": "28b53622",
   "metadata": {},
   "source": [
    "nombre_infected       975\n",
    "nombre_sain          2273\n",
    "nombre_exposed        551\n",
    "nombre_recovered    16201\n",
    "Name: 307, dtype: int64"
   ]
  },
  {
   "cell_type": "markdown",
   "id": "567ae819",
   "metadata": {},
   "source": [
    "nombre_infected       995\n",
    "nombre_sain          2254\n",
    "nombre_exposed        564\n",
    "nombre_recovered    16187\n",
    "Name: 308, dtype: int64"
   ]
  },
  {
   "cell_type": "markdown",
   "id": "f388645c",
   "metadata": {},
   "source": [
    "nombre_infected       988\n",
    "nombre_sain          2241\n",
    "nombre_exposed        583\n",
    "nombre_recovered    16188\n",
    "Name: 309, dtype: int64"
   ]
  },
  {
   "cell_type": "markdown",
   "id": "17a6248e",
   "metadata": {},
   "source": [
    "nombre_infected      1034\n",
    "nombre_sain          2207\n",
    "nombre_exposed        554\n",
    "nombre_recovered    16205\n",
    "Name: 310, dtype: int64"
   ]
  },
  {
   "cell_type": "markdown",
   "id": "7565b29d",
   "metadata": {},
   "source": [
    "nombre_infected      1051\n",
    "nombre_sain          2176\n",
    "nombre_exposed        548\n",
    "nombre_recovered    16225\n",
    "Name: 311, dtype: int64"
   ]
  },
  {
   "cell_type": "markdown",
   "id": "c87741d6",
   "metadata": {},
   "source": [
    "nombre_infected      1061\n",
    "nombre_sain          2134\n",
    "nombre_exposed        567\n",
    "nombre_recovered    16238\n",
    "Name: 312, dtype: int64"
   ]
  },
  {
   "cell_type": "markdown",
   "id": "6abb9775",
   "metadata": {},
   "source": [
    "nombre_infected      1085\n",
    "nombre_sain          2143\n",
    "nombre_exposed        523\n",
    "nombre_recovered    16249\n",
    "Name: 313, dtype: int64"
   ]
  },
  {
   "cell_type": "markdown",
   "id": "4ba8f974",
   "metadata": {},
   "source": [
    "nombre_infected      1077\n",
    "nombre_sain          2135\n",
    "nombre_exposed        519\n",
    "nombre_recovered    16269\n",
    "Name: 314, dtype: int64"
   ]
  },
  {
   "cell_type": "markdown",
   "id": "3b038561",
   "metadata": {},
   "source": [
    "nombre_infected      1095\n",
    "nombre_sain          2122\n",
    "nombre_exposed        525\n",
    "nombre_recovered    16258\n",
    "Name: 315, dtype: int64"
   ]
  },
  {
   "cell_type": "markdown",
   "id": "eb2da106",
   "metadata": {},
   "source": [
    "nombre_infected      1095\n",
    "nombre_sain          2112\n",
    "nombre_exposed        507\n",
    "nombre_recovered    16286\n",
    "Name: 316, dtype: int64"
   ]
  },
  {
   "cell_type": "markdown",
   "id": "d61b6b4b",
   "metadata": {},
   "source": [
    "nombre_infected      1110\n",
    "nombre_sain          2098\n",
    "nombre_exposed        480\n",
    "nombre_recovered    16312\n",
    "Name: 317, dtype: int64"
   ]
  },
  {
   "cell_type": "markdown",
   "id": "a134d29d",
   "metadata": {},
   "source": [
    "nombre_infected      1099\n",
    "nombre_sain          2063\n",
    "nombre_exposed        507\n",
    "nombre_recovered    16331\n",
    "Name: 318, dtype: int64"
   ]
  },
  {
   "cell_type": "markdown",
   "id": "b4982cee",
   "metadata": {},
   "source": [
    "nombre_infected      1076\n",
    "nombre_sain          2062\n",
    "nombre_exposed        511\n",
    "nombre_recovered    16351\n",
    "Name: 319, dtype: int64"
   ]
  },
  {
   "cell_type": "markdown",
   "id": "dee9910e",
   "metadata": {},
   "source": [
    "nombre_infected      1081\n",
    "nombre_sain          2050\n",
    "nombre_exposed        496\n",
    "nombre_recovered    16373\n",
    "Name: 320, dtype: int64"
   ]
  },
  {
   "cell_type": "markdown",
   "id": "172987c0",
   "metadata": {},
   "source": [
    "nombre_infected      1070\n",
    "nombre_sain          2036\n",
    "nombre_exposed        504\n",
    "nombre_recovered    16390\n",
    "Name: 321, dtype: int64"
   ]
  },
  {
   "cell_type": "markdown",
   "id": "7ac5e3a1",
   "metadata": {},
   "source": [
    "nombre_infected      1071\n",
    "nombre_sain          2026\n",
    "nombre_exposed        510\n",
    "nombre_recovered    16393\n",
    "Name: 322, dtype: int64"
   ]
  },
  {
   "cell_type": "markdown",
   "id": "abae5a53",
   "metadata": {},
   "source": [
    "nombre_infected      1040\n",
    "nombre_sain          2020\n",
    "nombre_exposed        506\n",
    "nombre_recovered    16434\n",
    "Name: 323, dtype: int64"
   ]
  },
  {
   "cell_type": "markdown",
   "id": "ec2ebf79",
   "metadata": {},
   "source": [
    "nombre_infected      1012\n",
    "nombre_sain          1990\n",
    "nombre_exposed        530\n",
    "nombre_recovered    16468\n",
    "Name: 324, dtype: int64"
   ]
  },
  {
   "cell_type": "markdown",
   "id": "95bd9c95",
   "metadata": {},
   "source": [
    "nombre_infected      1015\n",
    "nombre_sain          1967\n",
    "nombre_exposed        522\n",
    "nombre_recovered    16496\n",
    "Name: 325, dtype: int64"
   ]
  },
  {
   "cell_type": "markdown",
   "id": "941b04c1",
   "metadata": {},
   "source": [
    "nombre_infected      1000\n",
    "nombre_sain          1985\n",
    "nombre_exposed        494\n",
    "nombre_recovered    16521\n",
    "Name: 326, dtype: int64"
   ]
  },
  {
   "cell_type": "markdown",
   "id": "325aa625",
   "metadata": {},
   "source": [
    "nombre_infected      1028\n",
    "nombre_sain          1963\n",
    "nombre_exposed        498\n",
    "nombre_recovered    16511\n",
    "Name: 327, dtype: int64"
   ]
  },
  {
   "cell_type": "markdown",
   "id": "9ae995fc",
   "metadata": {},
   "source": [
    "nombre_infected      1024\n",
    "nombre_sain          1955\n",
    "nombre_exposed        499\n",
    "nombre_recovered    16522\n",
    "Name: 328, dtype: int64"
   ]
  },
  {
   "cell_type": "markdown",
   "id": "298ec6bf",
   "metadata": {},
   "source": [
    "nombre_infected      1053\n",
    "nombre_sain          1957\n",
    "nombre_exposed        471\n",
    "nombre_recovered    16519\n",
    "Name: 329, dtype: int64"
   ]
  },
  {
   "cell_type": "markdown",
   "id": "369f6d78",
   "metadata": {},
   "source": [
    "nombre_infected      1055\n",
    "nombre_sain          1950\n",
    "nombre_exposed        477\n",
    "nombre_recovered    16518\n",
    "Name: 330, dtype: int64"
   ]
  },
  {
   "cell_type": "markdown",
   "id": "ab4f6ff9",
   "metadata": {},
   "source": [
    "nombre_infected      1053\n",
    "nombre_sain          1942\n",
    "nombre_exposed        472\n",
    "nombre_recovered    16533\n",
    "Name: 331, dtype: int64"
   ]
  },
  {
   "cell_type": "markdown",
   "id": "c400f84a",
   "metadata": {},
   "source": [
    "nombre_infected      1061\n",
    "nombre_sain          1933\n",
    "nombre_exposed        469\n",
    "nombre_recovered    16537\n",
    "Name: 332, dtype: int64"
   ]
  },
  {
   "cell_type": "markdown",
   "id": "393811c6",
   "metadata": {},
   "source": [
    "nombre_infected      1040\n",
    "nombre_sain          1941\n",
    "nombre_exposed        474\n",
    "nombre_recovered    16545\n",
    "Name: 333, dtype: int64"
   ]
  },
  {
   "cell_type": "markdown",
   "id": "2d63633a",
   "metadata": {},
   "source": [
    "nombre_infected      1041\n",
    "nombre_sain          1933\n",
    "nombre_exposed        462\n",
    "nombre_recovered    16564\n",
    "Name: 334, dtype: int64"
   ]
  },
  {
   "cell_type": "markdown",
   "id": "884430ca",
   "metadata": {},
   "source": [
    "nombre_infected      1023\n",
    "nombre_sain          1940\n",
    "nombre_exposed        489\n",
    "nombre_recovered    16548\n",
    "Name: 335, dtype: int64"
   ]
  },
  {
   "cell_type": "markdown",
   "id": "548d42d0",
   "metadata": {},
   "source": [
    "nombre_infected      1030\n",
    "nombre_sain          1956\n",
    "nombre_exposed        474\n",
    "nombre_recovered    16540\n",
    "Name: 336, dtype: int64"
   ]
  },
  {
   "cell_type": "markdown",
   "id": "64c3b982",
   "metadata": {},
   "source": [
    "nombre_infected      1030\n",
    "nombre_sain          1953\n",
    "nombre_exposed        458\n",
    "nombre_recovered    16559\n",
    "Name: 337, dtype: int64"
   ]
  },
  {
   "cell_type": "markdown",
   "id": "cf1ac49b",
   "metadata": {},
   "source": [
    "nombre_infected      1010\n",
    "nombre_sain          1929\n",
    "nombre_exposed        462\n",
    "nombre_recovered    16599\n",
    "Name: 338, dtype: int64"
   ]
  },
  {
   "cell_type": "markdown",
   "id": "9c15dc0c",
   "metadata": {},
   "source": [
    "nombre_infected       992\n",
    "nombre_sain          1938\n",
    "nombre_exposed        462\n",
    "nombre_recovered    16608\n",
    "Name: 339, dtype: int64"
   ]
  },
  {
   "cell_type": "markdown",
   "id": "57bdf7d3",
   "metadata": {},
   "source": [
    "nombre_infected       989\n",
    "nombre_sain          1904\n",
    "nombre_exposed        478\n",
    "nombre_recovered    16629\n",
    "Name: 340, dtype: int64"
   ]
  },
  {
   "cell_type": "markdown",
   "id": "c06e9646",
   "metadata": {},
   "source": [
    "nombre_infected       953\n",
    "nombre_sain          1876\n",
    "nombre_exposed        504\n",
    "nombre_recovered    16667\n",
    "Name: 341, dtype: int64"
   ]
  },
  {
   "cell_type": "markdown",
   "id": "d9fe0619",
   "metadata": {},
   "source": [
    "nombre_infected       955\n",
    "nombre_sain          1868\n",
    "nombre_exposed        497\n",
    "nombre_recovered    16680\n",
    "Name: 342, dtype: int64"
   ]
  },
  {
   "cell_type": "markdown",
   "id": "d18af9cc",
   "metadata": {},
   "source": [
    "nombre_infected       946\n",
    "nombre_sain          1858\n",
    "nombre_exposed        500\n",
    "nombre_recovered    16696\n",
    "Name: 343, dtype: int64"
   ]
  },
  {
   "cell_type": "markdown",
   "id": "b40bea83",
   "metadata": {},
   "source": [
    "nombre_infected       974\n",
    "nombre_sain          1853\n",
    "nombre_exposed        483\n",
    "nombre_recovered    16690\n",
    "Name: 344, dtype: int64"
   ]
  },
  {
   "cell_type": "markdown",
   "id": "0b4c061a",
   "metadata": {},
   "source": [
    "nombre_infected       969\n",
    "nombre_sain          1858\n",
    "nombre_exposed        438\n",
    "nombre_recovered    16735\n",
    "Name: 345, dtype: int64"
   ]
  },
  {
   "cell_type": "markdown",
   "id": "52e6be2b",
   "metadata": {},
   "source": [
    "nombre_infected       945\n",
    "nombre_sain          1845\n",
    "nombre_exposed        432\n",
    "nombre_recovered    16778\n",
    "Name: 346, dtype: int64"
   ]
  },
  {
   "cell_type": "markdown",
   "id": "ab3dc5ea",
   "metadata": {},
   "source": [
    "nombre_infected       924\n",
    "nombre_sain          1845\n",
    "nombre_exposed        417\n",
    "nombre_recovered    16814\n",
    "Name: 347, dtype: int64"
   ]
  },
  {
   "cell_type": "markdown",
   "id": "ce447275",
   "metadata": {},
   "source": [
    "nombre_infected       925\n",
    "nombre_sain          1874\n",
    "nombre_exposed        398\n",
    "nombre_recovered    16803\n",
    "Name: 348, dtype: int64"
   ]
  },
  {
   "cell_type": "markdown",
   "id": "07bd0c15",
   "metadata": {},
   "source": [
    "nombre_infected       924\n",
    "nombre_sain          1891\n",
    "nombre_exposed        383\n",
    "nombre_recovered    16802\n",
    "Name: 349, dtype: int64"
   ]
  },
  {
   "cell_type": "markdown",
   "id": "46daac84",
   "metadata": {},
   "source": [
    "nombre_infected       901\n",
    "nombre_sain          1885\n",
    "nombre_exposed        388\n",
    "nombre_recovered    16826\n",
    "Name: 350, dtype: int64"
   ]
  },
  {
   "cell_type": "markdown",
   "id": "8b6b40fe",
   "metadata": {},
   "source": [
    "nombre_infected       882\n",
    "nombre_sain          1871\n",
    "nombre_exposed        403\n",
    "nombre_recovered    16844\n",
    "Name: 351, dtype: int64"
   ]
  },
  {
   "cell_type": "markdown",
   "id": "7581967a",
   "metadata": {},
   "source": [
    "nombre_infected       873\n",
    "nombre_sain          1865\n",
    "nombre_exposed        403\n",
    "nombre_recovered    16859\n",
    "Name: 352, dtype: int64"
   ]
  },
  {
   "cell_type": "markdown",
   "id": "6432d6b8",
   "metadata": {},
   "source": [
    "nombre_infected       866\n",
    "nombre_sain          1868\n",
    "nombre_exposed        373\n",
    "nombre_recovered    16893\n",
    "Name: 353, dtype: int64"
   ]
  },
  {
   "cell_type": "markdown",
   "id": "8e2b7d86",
   "metadata": {},
   "source": [
    "nombre_infected       853\n",
    "nombre_sain          1889\n",
    "nombre_exposed        364\n",
    "nombre_recovered    16894\n",
    "Name: 354, dtype: int64"
   ]
  },
  {
   "cell_type": "markdown",
   "id": "a18ede83",
   "metadata": {},
   "source": [
    "nombre_infected       839\n",
    "nombre_sain          1905\n",
    "nombre_exposed        357\n",
    "nombre_recovered    16899\n",
    "Name: 355, dtype: int64"
   ]
  },
  {
   "cell_type": "markdown",
   "id": "bb53e66a",
   "metadata": {},
   "source": [
    "nombre_infected       821\n",
    "nombre_sain          1908\n",
    "nombre_exposed        370\n",
    "nombre_recovered    16901\n",
    "Name: 356, dtype: int64"
   ]
  },
  {
   "cell_type": "markdown",
   "id": "27d550f9",
   "metadata": {},
   "source": [
    "nombre_infected       810\n",
    "nombre_sain          1928\n",
    "nombre_exposed        373\n",
    "nombre_recovered    16889\n",
    "Name: 357, dtype: int64"
   ]
  },
  {
   "cell_type": "markdown",
   "id": "a003d695",
   "metadata": {},
   "source": [
    "nombre_infected       803\n",
    "nombre_sain          1951\n",
    "nombre_exposed        358\n",
    "nombre_recovered    16888\n",
    "Name: 358, dtype: int64"
   ]
  },
  {
   "cell_type": "markdown",
   "id": "0876b785",
   "metadata": {},
   "source": [
    "nombre_infected       796\n",
    "nombre_sain          1973\n",
    "nombre_exposed        350\n",
    "nombre_recovered    16881\n",
    "Name: 359, dtype: int64"
   ]
  },
  {
   "cell_type": "markdown",
   "id": "86abd804",
   "metadata": {},
   "source": [
    "nombre_infected       779\n",
    "nombre_sain          1997\n",
    "nombre_exposed        357\n",
    "nombre_recovered    16867\n",
    "Name: 360, dtype: int64"
   ]
  },
  {
   "cell_type": "markdown",
   "id": "fd50160e",
   "metadata": {},
   "source": [
    "nombre_infected       760\n",
    "nombre_sain          2001\n",
    "nombre_exposed        384\n",
    "nombre_recovered    16855\n",
    "Name: 361, dtype: int64"
   ]
  },
  {
   "cell_type": "markdown",
   "id": "e77bfdd1",
   "metadata": {},
   "source": [
    "nombre_infected       734\n",
    "nombre_sain          2032\n",
    "nombre_exposed        395\n",
    "nombre_recovered    16839\n",
    "Name: 362, dtype: int64"
   ]
  },
  {
   "cell_type": "markdown",
   "id": "9da9fed1",
   "metadata": {},
   "source": [
    "nombre_infected       724\n",
    "nombre_sain          2071\n",
    "nombre_exposed        384\n",
    "nombre_recovered    16821\n",
    "Name: 363, dtype: int64"
   ]
  },
  {
   "cell_type": "markdown",
   "id": "62aaf680",
   "metadata": {},
   "source": [
    "nombre_infected       714\n",
    "nombre_sain          2119\n",
    "nombre_exposed        374\n",
    "nombre_recovered    16793\n",
    "Name: 364, dtype: int64"
   ]
  },
  {
   "cell_type": "markdown",
   "id": "5bbf3ddd",
   "metadata": {},
   "source": [
    "nombre_infected       700\n",
    "nombre_sain          2157\n",
    "nombre_exposed        360\n",
    "nombre_recovered    16783\n",
    "Name: 365, dtype: int64"
   ]
  },
  {
   "cell_type": "markdown",
   "id": "def10532",
   "metadata": {},
   "source": [
    "nombre_infected       692\n",
    "nombre_sain          2182\n",
    "nombre_exposed        368\n",
    "nombre_recovered    16758\n",
    "Name: 366, dtype: int64"
   ]
  },
  {
   "cell_type": "markdown",
   "id": "4da28213",
   "metadata": {},
   "source": [
    "nombre_infected       694\n",
    "nombre_sain          2216\n",
    "nombre_exposed        375\n",
    "nombre_recovered    16715\n",
    "Name: 367, dtype: int64"
   ]
  },
  {
   "cell_type": "markdown",
   "id": "a88d1662",
   "metadata": {},
   "source": [
    "nombre_infected       701\n",
    "nombre_sain          2267\n",
    "nombre_exposed        376\n",
    "nombre_recovered    16656\n",
    "Name: 368, dtype: int64"
   ]
  },
  {
   "cell_type": "markdown",
   "id": "77cc81ec",
   "metadata": {},
   "source": [
    "nombre_infected       702\n",
    "nombre_sain          2299\n",
    "nombre_exposed        382\n",
    "nombre_recovered    16617\n",
    "Name: 369, dtype: int64"
   ]
  },
  {
   "cell_type": "markdown",
   "id": "d10b3f7d",
   "metadata": {},
   "source": [
    "nombre_infected       699\n",
    "nombre_sain          2333\n",
    "nombre_exposed        394\n",
    "nombre_recovered    16574\n",
    "Name: 370, dtype: int64"
   ]
  },
  {
   "cell_type": "markdown",
   "id": "fc454128",
   "metadata": {},
   "source": [
    "nombre_infected       685\n",
    "nombre_sain          2376\n",
    "nombre_exposed        396\n",
    "nombre_recovered    16543\n",
    "Name: 371, dtype: int64"
   ]
  },
  {
   "cell_type": "markdown",
   "id": "488091ee",
   "metadata": {},
   "source": [
    "nombre_infected       692\n",
    "nombre_sain          2394\n",
    "nombre_exposed        403\n",
    "nombre_recovered    16511\n",
    "Name: 372, dtype: int64"
   ]
  },
  {
   "cell_type": "markdown",
   "id": "da6dc89d",
   "metadata": {},
   "source": [
    "nombre_infected       678\n",
    "nombre_sain          2423\n",
    "nombre_exposed        414\n",
    "nombre_recovered    16485\n",
    "Name: 373, dtype: int64"
   ]
  },
  {
   "cell_type": "markdown",
   "id": "c26f6f12",
   "metadata": {},
   "source": [
    "nombre_infected       683\n",
    "nombre_sain          2472\n",
    "nombre_exposed        417\n",
    "nombre_recovered    16428\n",
    "Name: 374, dtype: int64"
   ]
  },
  {
   "cell_type": "markdown",
   "id": "f8d5ee6d",
   "metadata": {},
   "source": [
    "nombre_infected       676\n",
    "nombre_sain          2496\n",
    "nombre_exposed        411\n",
    "nombre_recovered    16417\n",
    "Name: 375, dtype: int64"
   ]
  },
  {
   "cell_type": "markdown",
   "id": "ac0ac6fd",
   "metadata": {},
   "source": [
    "nombre_infected       699\n",
    "nombre_sain          2551\n",
    "nombre_exposed        385\n",
    "nombre_recovered    16365\n",
    "Name: 376, dtype: int64"
   ]
  },
  {
   "cell_type": "markdown",
   "id": "fe1acac1",
   "metadata": {},
   "source": [
    "nombre_infected       701\n",
    "nombre_sain          2552\n",
    "nombre_exposed        410\n",
    "nombre_recovered    16337\n",
    "Name: 377, dtype: int64"
   ]
  },
  {
   "cell_type": "markdown",
   "id": "d3284e16",
   "metadata": {},
   "source": [
    "nombre_infected       707\n",
    "nombre_sain          2594\n",
    "nombre_exposed        410\n",
    "nombre_recovered    16289\n",
    "Name: 378, dtype: int64"
   ]
  },
  {
   "cell_type": "markdown",
   "id": "b308c7b3",
   "metadata": {},
   "source": [
    "nombre_infected       703\n",
    "nombre_sain          2591\n",
    "nombre_exposed        443\n",
    "nombre_recovered    16263\n",
    "Name: 379, dtype: int64"
   ]
  },
  {
   "cell_type": "markdown",
   "id": "1a09d3d3",
   "metadata": {},
   "source": [
    "nombre_infected       685\n",
    "nombre_sain          2588\n",
    "nombre_exposed        476\n",
    "nombre_recovered    16251\n",
    "Name: 380, dtype: int64"
   ]
  },
  {
   "cell_type": "markdown",
   "id": "0e6dddff",
   "metadata": {},
   "source": [
    "nombre_infected       683\n",
    "nombre_sain          2624\n",
    "nombre_exposed        480\n",
    "nombre_recovered    16213\n",
    "Name: 381, dtype: int64"
   ]
  },
  {
   "cell_type": "markdown",
   "id": "6b5b89c5",
   "metadata": {},
   "source": [
    "nombre_infected       698\n",
    "nombre_sain          2638\n",
    "nombre_exposed        474\n",
    "nombre_recovered    16190\n",
    "Name: 382, dtype: int64"
   ]
  },
  {
   "cell_type": "markdown",
   "id": "16f18f2f",
   "metadata": {},
   "source": [
    "nombre_infected       719\n",
    "nombre_sain          2637\n",
    "nombre_exposed        482\n",
    "nombre_recovered    16162\n",
    "Name: 383, dtype: int64"
   ]
  },
  {
   "cell_type": "markdown",
   "id": "3e6c9fa3",
   "metadata": {},
   "source": [
    "nombre_infected       757\n",
    "nombre_sain          2668\n",
    "nombre_exposed        472\n",
    "nombre_recovered    16103\n",
    "Name: 384, dtype: int64"
   ]
  },
  {
   "cell_type": "markdown",
   "id": "10841c62",
   "metadata": {},
   "source": [
    "nombre_infected       748\n",
    "nombre_sain          2656\n",
    "nombre_exposed        515\n",
    "nombre_recovered    16081\n",
    "Name: 385, dtype: int64"
   ]
  },
  {
   "cell_type": "markdown",
   "id": "b1e8703a",
   "metadata": {},
   "source": [
    "nombre_infected       758\n",
    "nombre_sain          2677\n",
    "nombre_exposed        544\n",
    "nombre_recovered    16021\n",
    "Name: 386, dtype: int64"
   ]
  },
  {
   "cell_type": "markdown",
   "id": "163c0c98",
   "metadata": {},
   "source": [
    "nombre_infected       781\n",
    "nombre_sain          2689\n",
    "nombre_exposed        532\n",
    "nombre_recovered    15998\n",
    "Name: 387, dtype: int64"
   ]
  },
  {
   "cell_type": "markdown",
   "id": "a18e7f8f",
   "metadata": {},
   "source": [
    "nombre_infected       805\n",
    "nombre_sain          2709\n",
    "nombre_exposed        516\n",
    "nombre_recovered    15970\n",
    "Name: 388, dtype: int64"
   ]
  },
  {
   "cell_type": "markdown",
   "id": "4a80e36d",
   "metadata": {},
   "source": [
    "nombre_infected       821\n",
    "nombre_sain          2710\n",
    "nombre_exposed        524\n",
    "nombre_recovered    15945\n",
    "Name: 389, dtype: int64"
   ]
  },
  {
   "cell_type": "markdown",
   "id": "7f5ea5a1",
   "metadata": {},
   "source": [
    "nombre_infected       827\n",
    "nombre_sain          2699\n",
    "nombre_exposed        541\n",
    "nombre_recovered    15933\n",
    "Name: 390, dtype: int64"
   ]
  },
  {
   "cell_type": "markdown",
   "id": "c51299a3",
   "metadata": {},
   "source": [
    "nombre_infected       837\n",
    "nombre_sain          2706\n",
    "nombre_exposed        551\n",
    "nombre_recovered    15906\n",
    "Name: 391, dtype: int64"
   ]
  },
  {
   "cell_type": "markdown",
   "id": "1987d9b2",
   "metadata": {},
   "source": [
    "nombre_infected       838\n",
    "nombre_sain          2687\n",
    "nombre_exposed        572\n",
    "nombre_recovered    15903\n",
    "Name: 392, dtype: int64"
   ]
  },
  {
   "cell_type": "markdown",
   "id": "eef44f19",
   "metadata": {},
   "source": [
    "nombre_infected       843\n",
    "nombre_sain          2651\n",
    "nombre_exposed        598\n",
    "nombre_recovered    15908\n",
    "Name: 393, dtype: int64"
   ]
  },
  {
   "cell_type": "markdown",
   "id": "f6d770e8",
   "metadata": {},
   "source": [
    "nombre_infected       856\n",
    "nombre_sain          2656\n",
    "nombre_exposed        609\n",
    "nombre_recovered    15879\n",
    "Name: 394, dtype: int64"
   ]
  },
  {
   "cell_type": "markdown",
   "id": "5822e956",
   "metadata": {},
   "source": [
    "nombre_infected       869\n",
    "nombre_sain          2651\n",
    "nombre_exposed        620\n",
    "nombre_recovered    15860\n",
    "Name: 395, dtype: int64"
   ]
  },
  {
   "cell_type": "markdown",
   "id": "d02fc257",
   "metadata": {},
   "source": [
    "nombre_infected       884\n",
    "nombre_sain          2666\n",
    "nombre_exposed        630\n",
    "nombre_recovered    15820\n",
    "Name: 396, dtype: int64"
   ]
  },
  {
   "cell_type": "markdown",
   "id": "1a0b3f01",
   "metadata": {},
   "source": [
    "nombre_infected       912\n",
    "nombre_sain          2659\n",
    "nombre_exposed        616\n",
    "nombre_recovered    15813\n",
    "Name: 397, dtype: int64"
   ]
  },
  {
   "cell_type": "markdown",
   "id": "7e2cb846",
   "metadata": {},
   "source": [
    "nombre_infected       951\n",
    "nombre_sain          2651\n",
    "nombre_exposed        594\n",
    "nombre_recovered    15804\n",
    "Name: 398, dtype: int64"
   ]
  },
  {
   "cell_type": "markdown",
   "id": "458b9d6e",
   "metadata": {},
   "source": [
    "nombre_infected       961\n",
    "nombre_sain          2600\n",
    "nombre_exposed        640\n",
    "nombre_recovered    15799\n",
    "Name: 399, dtype: int64"
   ]
  },
  {
   "cell_type": "markdown",
   "id": "fd3f9b8b",
   "metadata": {},
   "source": [
    "nombre_infected       960\n",
    "nombre_sain          2608\n",
    "nombre_exposed        646\n",
    "nombre_recovered    15786\n",
    "Name: 400, dtype: int64"
   ]
  },
  {
   "cell_type": "markdown",
   "id": "8ed08d90",
   "metadata": {},
   "source": [
    "nombre_infected       999\n",
    "nombre_sain          2570\n",
    "nombre_exposed        639\n",
    "nombre_recovered    15792\n",
    "Name: 401, dtype: int64"
   ]
  },
  {
   "cell_type": "markdown",
   "id": "731823c2",
   "metadata": {},
   "source": [
    "nombre_infected      1027\n",
    "nombre_sain          2538\n",
    "nombre_exposed        656\n",
    "nombre_recovered    15779\n",
    "Name: 402, dtype: int64"
   ]
  },
  {
   "cell_type": "markdown",
   "id": "17f614c7",
   "metadata": {},
   "source": [
    "nombre_infected      1027\n",
    "nombre_sain          2525\n",
    "nombre_exposed        660\n",
    "nombre_recovered    15788\n",
    "Name: 403, dtype: int64"
   ]
  },
  {
   "cell_type": "markdown",
   "id": "9237d219",
   "metadata": {},
   "source": [
    "nombre_infected      1062\n",
    "nombre_sain          2488\n",
    "nombre_exposed        659\n",
    "nombre_recovered    15791\n",
    "Name: 404, dtype: int64"
   ]
  },
  {
   "cell_type": "markdown",
   "id": "c9e07c45",
   "metadata": {},
   "source": [
    "nombre_infected      1109\n",
    "nombre_sain          2458\n",
    "nombre_exposed        642\n",
    "nombre_recovered    15791\n",
    "Name: 405, dtype: int64"
   ]
  },
  {
   "cell_type": "markdown",
   "id": "9f19a65f",
   "metadata": {},
   "source": [
    "nombre_infected      1147\n",
    "nombre_sain          2413\n",
    "nombre_exposed        638\n",
    "nombre_recovered    15802\n",
    "Name: 406, dtype: int64"
   ]
  },
  {
   "cell_type": "markdown",
   "id": "dd3132df",
   "metadata": {},
   "source": [
    "nombre_infected      1137\n",
    "nombre_sain          2390\n",
    "nombre_exposed        643\n",
    "nombre_recovered    15830\n",
    "Name: 407, dtype: int64"
   ]
  },
  {
   "cell_type": "markdown",
   "id": "b3f78832",
   "metadata": {},
   "source": [
    "nombre_infected      1142\n",
    "nombre_sain          2328\n",
    "nombre_exposed        673\n",
    "nombre_recovered    15857\n",
    "Name: 408, dtype: int64"
   ]
  },
  {
   "cell_type": "markdown",
   "id": "2da1c20a",
   "metadata": {},
   "source": [
    "nombre_infected      1161\n",
    "nombre_sain          2284\n",
    "nombre_exposed        667\n",
    "nombre_recovered    15888\n",
    "Name: 409, dtype: int64"
   ]
  },
  {
   "cell_type": "markdown",
   "id": "d3e2bfa8",
   "metadata": {},
   "source": [
    "nombre_infected      1183\n",
    "nombre_sain          2267\n",
    "nombre_exposed        656\n",
    "nombre_recovered    15894\n",
    "Name: 410, dtype: int64"
   ]
  },
  {
   "cell_type": "markdown",
   "id": "3d266953",
   "metadata": {},
   "source": [
    "nombre_infected      1199\n",
    "nombre_sain          2247\n",
    "nombre_exposed        643\n",
    "nombre_recovered    15911\n",
    "Name: 411, dtype: int64"
   ]
  },
  {
   "cell_type": "markdown",
   "id": "6468b2a7",
   "metadata": {},
   "source": [
    "nombre_infected      1186\n",
    "nombre_sain          2229\n",
    "nombre_exposed        657\n",
    "nombre_recovered    15928\n",
    "Name: 412, dtype: int64"
   ]
  },
  {
   "cell_type": "markdown",
   "id": "536c3845",
   "metadata": {},
   "source": [
    "nombre_infected      1198\n",
    "nombre_sain          2161\n",
    "nombre_exposed        678\n",
    "nombre_recovered    15963\n",
    "Name: 413, dtype: int64"
   ]
  },
  {
   "cell_type": "markdown",
   "id": "b8c63166",
   "metadata": {},
   "source": [
    "nombre_infected      1233\n",
    "nombre_sain          2114\n",
    "nombre_exposed        664\n",
    "nombre_recovered    15989\n",
    "Name: 414, dtype: int64"
   ]
  },
  {
   "cell_type": "markdown",
   "id": "06a9296b",
   "metadata": {},
   "source": [
    "nombre_infected      1251\n",
    "nombre_sain          2052\n",
    "nombre_exposed        681\n",
    "nombre_recovered    16016\n",
    "Name: 415, dtype: int64"
   ]
  },
  {
   "cell_type": "markdown",
   "id": "2cf646a9",
   "metadata": {},
   "source": [
    "nombre_infected      1279\n",
    "nombre_sain          2005\n",
    "nombre_exposed        656\n",
    "nombre_recovered    16060\n",
    "Name: 416, dtype: int64"
   ]
  },
  {
   "cell_type": "markdown",
   "id": "c637e5ca",
   "metadata": {},
   "source": [
    "nombre_infected      1278\n",
    "nombre_sain          1985\n",
    "nombre_exposed        627\n",
    "nombre_recovered    16110\n",
    "Name: 417, dtype: int64"
   ]
  },
  {
   "cell_type": "markdown",
   "id": "78206579",
   "metadata": {},
   "source": [
    "nombre_infected      1247\n",
    "nombre_sain          1946\n",
    "nombre_exposed        640\n",
    "nombre_recovered    16167\n",
    "Name: 418, dtype: int64"
   ]
  },
  {
   "cell_type": "markdown",
   "id": "ab4e0fa6",
   "metadata": {},
   "source": [
    "nombre_infected      1270\n",
    "nombre_sain          1937\n",
    "nombre_exposed        620\n",
    "nombre_recovered    16173\n",
    "Name: 419, dtype: int64"
   ]
  },
  {
   "cell_type": "markdown",
   "id": "e9818dc9",
   "metadata": {},
   "source": [
    "nombre_infected      1282\n",
    "nombre_sain          1904\n",
    "nombre_exposed        604\n",
    "nombre_recovered    16210\n",
    "Name: 420, dtype: int64"
   ]
  },
  {
   "cell_type": "markdown",
   "id": "0c1dc013",
   "metadata": {},
   "source": [
    "nombre_infected      1256\n",
    "nombre_sain          1884\n",
    "nombre_exposed        596\n",
    "nombre_recovered    16264\n",
    "Name: 421, dtype: int64"
   ]
  },
  {
   "cell_type": "markdown",
   "id": "0e13f789",
   "metadata": {},
   "source": [
    "nombre_infected      1238\n",
    "nombre_sain          1869\n",
    "nombre_exposed        586\n",
    "nombre_recovered    16307\n",
    "Name: 422, dtype: int64"
   ]
  },
  {
   "cell_type": "markdown",
   "id": "8ac70409",
   "metadata": {},
   "source": [
    "nombre_infected      1195\n",
    "nombre_sain          1854\n",
    "nombre_exposed        599\n",
    "nombre_recovered    16352\n",
    "Name: 423, dtype: int64"
   ]
  },
  {
   "cell_type": "markdown",
   "id": "2cdaf46f",
   "metadata": {},
   "source": [
    "nombre_infected      1201\n",
    "nombre_sain          1840\n",
    "nombre_exposed        570\n",
    "nombre_recovered    16389\n",
    "Name: 424, dtype: int64"
   ]
  },
  {
   "cell_type": "markdown",
   "id": "88cbf9c2",
   "metadata": {},
   "source": [
    "nombre_infected      1162\n",
    "nombre_sain          1830\n",
    "nombre_exposed        564\n",
    "nombre_recovered    16444\n",
    "Name: 425, dtype: int64"
   ]
  },
  {
   "cell_type": "markdown",
   "id": "e34503fb",
   "metadata": {},
   "source": [
    "nombre_infected      1170\n",
    "nombre_sain          1847\n",
    "nombre_exposed        542\n",
    "nombre_recovered    16441\n",
    "Name: 426, dtype: int64"
   ]
  },
  {
   "cell_type": "markdown",
   "id": "d5f198a6",
   "metadata": {},
   "source": [
    "nombre_infected      1151\n",
    "nombre_sain          1838\n",
    "nombre_exposed        545\n",
    "nombre_recovered    16466\n",
    "Name: 427, dtype: int64"
   ]
  },
  {
   "cell_type": "markdown",
   "id": "1c052a2a",
   "metadata": {},
   "source": [
    "nombre_infected      1168\n",
    "nombre_sain          1842\n",
    "nombre_exposed        517\n",
    "nombre_recovered    16473\n",
    "Name: 428, dtype: int64"
   ]
  },
  {
   "cell_type": "markdown",
   "id": "8d9a005d",
   "metadata": {},
   "source": [
    "nombre_infected      1135\n",
    "nombre_sain          1852\n",
    "nombre_exposed        515\n",
    "nombre_recovered    16498\n",
    "Name: 429, dtype: int64"
   ]
  },
  {
   "cell_type": "markdown",
   "id": "b4fb94d7",
   "metadata": {},
   "source": [
    "nombre_infected      1089\n",
    "nombre_sain          1843\n",
    "nombre_exposed        536\n",
    "nombre_recovered    16532\n",
    "Name: 430, dtype: int64"
   ]
  },
  {
   "cell_type": "markdown",
   "id": "fb7a7a5a",
   "metadata": {},
   "source": [
    "nombre_infected      1062\n",
    "nombre_sain          1849\n",
    "nombre_exposed        552\n",
    "nombre_recovered    16537\n",
    "Name: 431, dtype: int64"
   ]
  },
  {
   "cell_type": "markdown",
   "id": "0202b4b5",
   "metadata": {},
   "source": [
    "nombre_infected      1062\n",
    "nombre_sain          1868\n",
    "nombre_exposed        542\n",
    "nombre_recovered    16528\n",
    "Name: 432, dtype: int64"
   ]
  },
  {
   "cell_type": "markdown",
   "id": "69f968d2",
   "metadata": {},
   "source": [
    "nombre_infected      1064\n",
    "nombre_sain          1893\n",
    "nombre_exposed        515\n",
    "nombre_recovered    16528\n",
    "Name: 433, dtype: int64"
   ]
  },
  {
   "cell_type": "markdown",
   "id": "629d877d",
   "metadata": {},
   "source": [
    "nombre_infected      1054\n",
    "nombre_sain          1909\n",
    "nombre_exposed        509\n",
    "nombre_recovered    16528\n",
    "Name: 434, dtype: int64"
   ]
  },
  {
   "cell_type": "markdown",
   "id": "7d2c5552",
   "metadata": {},
   "source": [
    "nombre_infected      1022\n",
    "nombre_sain          1933\n",
    "nombre_exposed        501\n",
    "nombre_recovered    16544\n",
    "Name: 435, dtype: int64"
   ]
  },
  {
   "cell_type": "markdown",
   "id": "c8c11876",
   "metadata": {},
   "source": [
    "nombre_infected      1016\n",
    "nombre_sain          1926\n",
    "nombre_exposed        478\n",
    "nombre_recovered    16580\n",
    "Name: 436, dtype: int64"
   ]
  },
  {
   "cell_type": "markdown",
   "id": "485933c3",
   "metadata": {},
   "source": [
    "nombre_infected      1009\n",
    "nombre_sain          1961\n",
    "nombre_exposed        478\n",
    "nombre_recovered    16552\n",
    "Name: 437, dtype: int64"
   ]
  },
  {
   "cell_type": "markdown",
   "id": "6c83e486",
   "metadata": {},
   "source": [
    "nombre_infected       970\n",
    "nombre_sain          1978\n",
    "nombre_exposed        485\n",
    "nombre_recovered    16567\n",
    "Name: 438, dtype: int64"
   ]
  },
  {
   "cell_type": "markdown",
   "id": "b43080dc",
   "metadata": {},
   "source": [
    "nombre_infected       962\n",
    "nombre_sain          2010\n",
    "nombre_exposed        469\n",
    "nombre_recovered    16559\n",
    "Name: 439, dtype: int64"
   ]
  },
  {
   "cell_type": "markdown",
   "id": "eb91daa7",
   "metadata": {},
   "source": [
    "nombre_infected       934\n",
    "nombre_sain          2038\n",
    "nombre_exposed        469\n",
    "nombre_recovered    16559\n",
    "Name: 440, dtype: int64"
   ]
  },
  {
   "cell_type": "markdown",
   "id": "45c71b96",
   "metadata": {},
   "source": [
    "nombre_infected       919\n",
    "nombre_sain          2087\n",
    "nombre_exposed        440\n",
    "nombre_recovered    16554\n",
    "Name: 441, dtype: int64"
   ]
  },
  {
   "cell_type": "markdown",
   "id": "abd1052e",
   "metadata": {},
   "source": [
    "nombre_infected       908\n",
    "nombre_sain          2107\n",
    "nombre_exposed        423\n",
    "nombre_recovered    16562\n",
    "Name: 442, dtype: int64"
   ]
  },
  {
   "cell_type": "markdown",
   "id": "6355b203",
   "metadata": {},
   "source": [
    "nombre_infected       890\n",
    "nombre_sain          2120\n",
    "nombre_exposed        409\n",
    "nombre_recovered    16581\n",
    "Name: 443, dtype: int64"
   ]
  },
  {
   "cell_type": "markdown",
   "id": "72bf911e",
   "metadata": {},
   "source": [
    "nombre_infected       859\n",
    "nombre_sain          2163\n",
    "nombre_exposed        415\n",
    "nombre_recovered    16563\n",
    "Name: 444, dtype: int64"
   ]
  },
  {
   "cell_type": "markdown",
   "id": "ca75bbfd",
   "metadata": {},
   "source": [
    "nombre_infected       847\n",
    "nombre_sain          2178\n",
    "nombre_exposed        417\n",
    "nombre_recovered    16558\n",
    "Name: 445, dtype: int64"
   ]
  },
  {
   "cell_type": "markdown",
   "id": "09c96e8f",
   "metadata": {},
   "source": [
    "nombre_infected       837\n",
    "nombre_sain          2201\n",
    "nombre_exposed        425\n",
    "nombre_recovered    16537\n",
    "Name: 446, dtype: int64"
   ]
  },
  {
   "cell_type": "markdown",
   "id": "a3199cd4",
   "metadata": {},
   "source": [
    "nombre_infected       815\n",
    "nombre_sain          2200\n",
    "nombre_exposed        456\n",
    "nombre_recovered    16529\n",
    "Name: 447, dtype: int64"
   ]
  },
  {
   "cell_type": "markdown",
   "id": "d83d806a",
   "metadata": {},
   "source": [
    "nombre_infected       826\n",
    "nombre_sain          2212\n",
    "nombre_exposed        440\n",
    "nombre_recovered    16522\n",
    "Name: 448, dtype: int64"
   ]
  },
  {
   "cell_type": "markdown",
   "id": "bb7290e6",
   "metadata": {},
   "source": [
    "nombre_infected       815\n",
    "nombre_sain          2229\n",
    "nombre_exposed        422\n",
    "nombre_recovered    16534\n",
    "Name: 449, dtype: int64"
   ]
  },
  {
   "cell_type": "markdown",
   "id": "7e826055",
   "metadata": {},
   "source": [
    "nombre_infected       813\n",
    "nombre_sain          2241\n",
    "nombre_exposed        419\n",
    "nombre_recovered    16527\n",
    "Name: 450, dtype: int64"
   ]
  },
  {
   "cell_type": "markdown",
   "id": "c25584db",
   "metadata": {},
   "source": [
    "nombre_infected       800\n",
    "nombre_sain          2250\n",
    "nombre_exposed        429\n",
    "nombre_recovered    16521\n",
    "Name: 451, dtype: int64"
   ]
  },
  {
   "cell_type": "markdown",
   "id": "307c2491",
   "metadata": {},
   "source": [
    "nombre_infected       802\n",
    "nombre_sain          2252\n",
    "nombre_exposed        449\n",
    "nombre_recovered    16497\n",
    "Name: 452, dtype: int64"
   ]
  },
  {
   "cell_type": "markdown",
   "id": "5f98e55e",
   "metadata": {},
   "source": [
    "nombre_infected       781\n",
    "nombre_sain          2243\n",
    "nombre_exposed        464\n",
    "nombre_recovered    16512\n",
    "Name: 453, dtype: int64"
   ]
  },
  {
   "cell_type": "markdown",
   "id": "9062e8c4",
   "metadata": {},
   "source": [
    "nombre_infected       777\n",
    "nombre_sain          2278\n",
    "nombre_exposed        452\n",
    "nombre_recovered    16493\n",
    "Name: 454, dtype: int64"
   ]
  },
  {
   "cell_type": "markdown",
   "id": "f73ac18d",
   "metadata": {},
   "source": [
    "nombre_infected       805\n",
    "nombre_sain          2303\n",
    "nombre_exposed        425\n",
    "nombre_recovered    16467\n",
    "Name: 455, dtype: int64"
   ]
  },
  {
   "cell_type": "markdown",
   "id": "986820c3",
   "metadata": {},
   "source": [
    "nombre_infected       813\n",
    "nombre_sain          2308\n",
    "nombre_exposed        419\n",
    "nombre_recovered    16460\n",
    "Name: 456, dtype: int64"
   ]
  },
  {
   "cell_type": "markdown",
   "id": "1a8a4fec",
   "metadata": {},
   "source": [
    "nombre_infected       803\n",
    "nombre_sain          2311\n",
    "nombre_exposed        437\n",
    "nombre_recovered    16449\n",
    "Name: 457, dtype: int64"
   ]
  },
  {
   "cell_type": "markdown",
   "id": "77e2ad50",
   "metadata": {},
   "source": [
    "nombre_infected       795\n",
    "nombre_sain          2324\n",
    "nombre_exposed        451\n",
    "nombre_recovered    16430\n",
    "Name: 458, dtype: int64"
   ]
  },
  {
   "cell_type": "markdown",
   "id": "96bceba2",
   "metadata": {},
   "source": [
    "nombre_infected       806\n",
    "nombre_sain          2347\n",
    "nombre_exposed        425\n",
    "nombre_recovered    16422\n",
    "Name: 459, dtype: int64"
   ]
  },
  {
   "cell_type": "markdown",
   "id": "7618ebd5",
   "metadata": {},
   "source": [
    "nombre_infected       811\n",
    "nombre_sain          2384\n",
    "nombre_exposed        414\n",
    "nombre_recovered    16391\n",
    "Name: 460, dtype: int64"
   ]
  },
  {
   "cell_type": "markdown",
   "id": "9a968355",
   "metadata": {},
   "source": [
    "nombre_infected       807\n",
    "nombre_sain          2407\n",
    "nombre_exposed        447\n",
    "nombre_recovered    16339\n",
    "Name: 461, dtype: int64"
   ]
  },
  {
   "cell_type": "markdown",
   "id": "1c5ecb32",
   "metadata": {},
   "source": [
    "nombre_infected       788\n",
    "nombre_sain          2426\n",
    "nombre_exposed        446\n",
    "nombre_recovered    16340\n",
    "Name: 462, dtype: int64"
   ]
  },
  {
   "cell_type": "markdown",
   "id": "373538dc",
   "metadata": {},
   "source": [
    "nombre_infected       793\n",
    "nombre_sain          2447\n",
    "nombre_exposed        454\n",
    "nombre_recovered    16306\n",
    "Name: 463, dtype: int64"
   ]
  },
  {
   "cell_type": "markdown",
   "id": "b2a6469f",
   "metadata": {},
   "source": [
    "nombre_infected       798\n",
    "nombre_sain          2438\n",
    "nombre_exposed        483\n",
    "nombre_recovered    16281\n",
    "Name: 464, dtype: int64"
   ]
  },
  {
   "cell_type": "markdown",
   "id": "0de05fbc",
   "metadata": {},
   "source": [
    "nombre_infected       827\n",
    "nombre_sain          2472\n",
    "nombre_exposed        479\n",
    "nombre_recovered    16222\n",
    "Name: 465, dtype: int64"
   ]
  },
  {
   "cell_type": "markdown",
   "id": "3c20b80f",
   "metadata": {},
   "source": [
    "nombre_infected       828\n",
    "nombre_sain          2491\n",
    "nombre_exposed        494\n",
    "nombre_recovered    16187\n",
    "Name: 466, dtype: int64"
   ]
  },
  {
   "cell_type": "markdown",
   "id": "178f219d",
   "metadata": {},
   "source": [
    "nombre_infected       839\n",
    "nombre_sain          2492\n",
    "nombre_exposed        502\n",
    "nombre_recovered    16167\n",
    "Name: 467, dtype: int64"
   ]
  },
  {
   "cell_type": "markdown",
   "id": "e8db6dda",
   "metadata": {},
   "source": [
    "nombre_infected       864\n",
    "nombre_sain          2477\n",
    "nombre_exposed        505\n",
    "nombre_recovered    16154\n",
    "Name: 468, dtype: int64"
   ]
  },
  {
   "cell_type": "markdown",
   "id": "13f00592",
   "metadata": {},
   "source": [
    "nombre_infected       851\n",
    "nombre_sain          2481\n",
    "nombre_exposed        517\n",
    "nombre_recovered    16151\n",
    "Name: 469, dtype: int64"
   ]
  },
  {
   "cell_type": "markdown",
   "id": "9921826c",
   "metadata": {},
   "source": [
    "nombre_infected       876\n",
    "nombre_sain          2507\n",
    "nombre_exposed        485\n",
    "nombre_recovered    16132\n",
    "Name: 470, dtype: int64"
   ]
  },
  {
   "cell_type": "markdown",
   "id": "8f9c0962",
   "metadata": {},
   "source": [
    "nombre_infected       898\n",
    "nombre_sain          2483\n",
    "nombre_exposed        474\n",
    "nombre_recovered    16145\n",
    "Name: 471, dtype: int64"
   ]
  },
  {
   "cell_type": "markdown",
   "id": "19888303",
   "metadata": {},
   "source": [
    "nombre_infected       901\n",
    "nombre_sain          2471\n",
    "nombre_exposed        480\n",
    "nombre_recovered    16148\n",
    "Name: 472, dtype: int64"
   ]
  },
  {
   "cell_type": "markdown",
   "id": "a63fa77d",
   "metadata": {},
   "source": [
    "nombre_infected       895\n",
    "nombre_sain          2452\n",
    "nombre_exposed        489\n",
    "nombre_recovered    16164\n",
    "Name: 473, dtype: int64"
   ]
  },
  {
   "cell_type": "markdown",
   "id": "1d9e6f13",
   "metadata": {},
   "source": [
    "nombre_infected       899\n",
    "nombre_sain          2429\n",
    "nombre_exposed        505\n",
    "nombre_recovered    16167\n",
    "Name: 474, dtype: int64"
   ]
  },
  {
   "cell_type": "markdown",
   "id": "93a3050c",
   "metadata": {},
   "source": [
    "nombre_infected       892\n",
    "nombre_sain          2426\n",
    "nombre_exposed        513\n",
    "nombre_recovered    16169\n",
    "Name: 475, dtype: int64"
   ]
  },
  {
   "cell_type": "markdown",
   "id": "a8136b90",
   "metadata": {},
   "source": [
    "nombre_infected       906\n",
    "nombre_sain          2403\n",
    "nombre_exposed        512\n",
    "nombre_recovered    16179\n",
    "Name: 476, dtype: int64"
   ]
  },
  {
   "cell_type": "markdown",
   "id": "72e211f8",
   "metadata": {},
   "source": [
    "nombre_infected       897\n",
    "nombre_sain          2409\n",
    "nombre_exposed        511\n",
    "nombre_recovered    16183\n",
    "Name: 477, dtype: int64"
   ]
  },
  {
   "cell_type": "markdown",
   "id": "0912b7cb",
   "metadata": {},
   "source": [
    "nombre_infected       932\n",
    "nombre_sain          2362\n",
    "nombre_exposed        500\n",
    "nombre_recovered    16206\n",
    "Name: 478, dtype: int64"
   ]
  },
  {
   "cell_type": "markdown",
   "id": "dd21620f",
   "metadata": {},
   "source": [
    "nombre_infected       942\n",
    "nombre_sain          2340\n",
    "nombre_exposed        492\n",
    "nombre_recovered    16226\n",
    "Name: 479, dtype: int64"
   ]
  },
  {
   "cell_type": "markdown",
   "id": "2fe294e9",
   "metadata": {},
   "source": [
    "nombre_infected       943\n",
    "nombre_sain          2298\n",
    "nombre_exposed        501\n",
    "nombre_recovered    16258\n",
    "Name: 480, dtype: int64"
   ]
  },
  {
   "cell_type": "markdown",
   "id": "f33c6102",
   "metadata": {},
   "source": [
    "nombre_infected       936\n",
    "nombre_sain          2290\n",
    "nombre_exposed        502\n",
    "nombre_recovered    16272\n",
    "Name: 481, dtype: int64"
   ]
  },
  {
   "cell_type": "markdown",
   "id": "22ba0c95",
   "metadata": {},
   "source": [
    "nombre_infected       938\n",
    "nombre_sain          2279\n",
    "nombre_exposed        489\n",
    "nombre_recovered    16294\n",
    "Name: 482, dtype: int64"
   ]
  },
  {
   "cell_type": "markdown",
   "id": "e524888c",
   "metadata": {},
   "source": [
    "nombre_infected       930\n",
    "nombre_sain          2279\n",
    "nombre_exposed        498\n",
    "nombre_recovered    16293\n",
    "Name: 483, dtype: int64"
   ]
  },
  {
   "cell_type": "markdown",
   "id": "9f2e7a05",
   "metadata": {},
   "source": [
    "nombre_infected       911\n",
    "nombre_sain          2243\n",
    "nombre_exposed        522\n",
    "nombre_recovered    16324\n",
    "Name: 484, dtype: int64"
   ]
  },
  {
   "cell_type": "markdown",
   "id": "520c4bd9",
   "metadata": {},
   "source": [
    "nombre_infected       898\n",
    "nombre_sain          2224\n",
    "nombre_exposed        533\n",
    "nombre_recovered    16345\n",
    "Name: 485, dtype: int64"
   ]
  },
  {
   "cell_type": "markdown",
   "id": "fbc53dd0",
   "metadata": {},
   "source": [
    "nombre_infected       926\n",
    "nombre_sain          2237\n",
    "nombre_exposed        503\n",
    "nombre_recovered    16334\n",
    "Name: 486, dtype: int64"
   ]
  },
  {
   "cell_type": "markdown",
   "id": "d950a9df",
   "metadata": {},
   "source": [
    "nombre_infected       931\n",
    "nombre_sain          2201\n",
    "nombre_exposed        524\n",
    "nombre_recovered    16344\n",
    "Name: 487, dtype: int64"
   ]
  },
  {
   "cell_type": "markdown",
   "id": "9a3dc584",
   "metadata": {},
   "source": [
    "nombre_infected       926\n",
    "nombre_sain          2203\n",
    "nombre_exposed        517\n",
    "nombre_recovered    16354\n",
    "Name: 488, dtype: int64"
   ]
  },
  {
   "cell_type": "markdown",
   "id": "2a4e38b8",
   "metadata": {},
   "source": [
    "nombre_infected       940\n",
    "nombre_sain          2204\n",
    "nombre_exposed        501\n",
    "nombre_recovered    16355\n",
    "Name: 489, dtype: int64"
   ]
  },
  {
   "cell_type": "markdown",
   "id": "3dfeed7a",
   "metadata": {},
   "source": [
    "nombre_infected       935\n",
    "nombre_sain          2195\n",
    "nombre_exposed        515\n",
    "nombre_recovered    16355\n",
    "Name: 490, dtype: int64"
   ]
  },
  {
   "cell_type": "markdown",
   "id": "fcb89e5d",
   "metadata": {},
   "source": [
    "nombre_infected       945\n",
    "nombre_sain          2182\n",
    "nombre_exposed        504\n",
    "nombre_recovered    16369\n",
    "Name: 491, dtype: int64"
   ]
  },
  {
   "cell_type": "markdown",
   "id": "1b53c668",
   "metadata": {},
   "source": [
    "nombre_infected       941\n",
    "nombre_sain          2179\n",
    "nombre_exposed        513\n",
    "nombre_recovered    16367\n",
    "Name: 492, dtype: int64"
   ]
  },
  {
   "cell_type": "markdown",
   "id": "c6371f44",
   "metadata": {},
   "source": [
    "nombre_infected       953\n",
    "nombre_sain          2146\n",
    "nombre_exposed        520\n",
    "nombre_recovered    16381\n",
    "Name: 493, dtype: int64"
   ]
  },
  {
   "cell_type": "markdown",
   "id": "859f721b",
   "metadata": {},
   "source": [
    "nombre_infected       962\n",
    "nombre_sain          2124\n",
    "nombre_exposed        512\n",
    "nombre_recovered    16402\n",
    "Name: 494, dtype: int64"
   ]
  },
  {
   "cell_type": "markdown",
   "id": "0edd9c32",
   "metadata": {},
   "source": [
    "nombre_infected       983\n",
    "nombre_sain          2119\n",
    "nombre_exposed        497\n",
    "nombre_recovered    16401\n",
    "Name: 495, dtype: int64"
   ]
  },
  {
   "cell_type": "markdown",
   "id": "7d9fcdbd",
   "metadata": {},
   "source": [
    "nombre_infected       981\n",
    "nombre_sain          2090\n",
    "nombre_exposed        509\n",
    "nombre_recovered    16420\n",
    "Name: 496, dtype: int64"
   ]
  },
  {
   "cell_type": "markdown",
   "id": "826122a7",
   "metadata": {},
   "source": [
    "nombre_infected       955\n",
    "nombre_sain          2079\n",
    "nombre_exposed        499\n",
    "nombre_recovered    16467\n",
    "Name: 497, dtype: int64"
   ]
  },
  {
   "cell_type": "markdown",
   "id": "7143ee8c",
   "metadata": {},
   "source": [
    "nombre_infected       958\n",
    "nombre_sain          2089\n",
    "nombre_exposed        477\n",
    "nombre_recovered    16476\n",
    "Name: 498, dtype: int64"
   ]
  },
  {
   "cell_type": "markdown",
   "id": "c8fe2877",
   "metadata": {},
   "source": [
    "nombre_infected       933\n",
    "nombre_sain          2088\n",
    "nombre_exposed        473\n",
    "nombre_recovered    16506\n",
    "Name: 499, dtype: int64"
   ]
  },
  {
   "cell_type": "markdown",
   "id": "ba6808ba",
   "metadata": {},
   "source": [
    "nombre_infected       934\n",
    "nombre_sain          2070\n",
    "nombre_exposed        457\n",
    "nombre_recovered    16539\n",
    "Name: 500, dtype: int64"
   ]
  },
  {
   "cell_type": "markdown",
   "id": "c751fe42",
   "metadata": {},
   "source": [
    "nombre_infected       924\n",
    "nombre_sain          2078\n",
    "nombre_exposed        454\n",
    "nombre_recovered    16544\n",
    "Name: 501, dtype: int64"
   ]
  },
  {
   "cell_type": "markdown",
   "id": "06ef719a",
   "metadata": {},
   "source": [
    "nombre_infected       915\n",
    "nombre_sain          2080\n",
    "nombre_exposed        459\n",
    "nombre_recovered    16546\n",
    "Name: 502, dtype: int64"
   ]
  },
  {
   "cell_type": "markdown",
   "id": "53c90e2f",
   "metadata": {},
   "source": [
    "nombre_infected       904\n",
    "nombre_sain          2077\n",
    "nombre_exposed        454\n",
    "nombre_recovered    16565\n",
    "Name: 503, dtype: int64"
   ]
  },
  {
   "cell_type": "markdown",
   "id": "be633564",
   "metadata": {},
   "source": [
    "nombre_infected       908\n",
    "nombre_sain          2086\n",
    "nombre_exposed        432\n",
    "nombre_recovered    16574\n",
    "Name: 504, dtype: int64"
   ]
  },
  {
   "cell_type": "markdown",
   "id": "39c922ec",
   "metadata": {},
   "source": [
    "nombre_infected       887\n",
    "nombre_sain          2088\n",
    "nombre_exposed        441\n",
    "nombre_recovered    16584\n",
    "Name: 505, dtype: int64"
   ]
  },
  {
   "cell_type": "markdown",
   "id": "1a958e61",
   "metadata": {},
   "source": [
    "nombre_infected       881\n",
    "nombre_sain          2086\n",
    "nombre_exposed        417\n",
    "nombre_recovered    16616\n",
    "Name: 506, dtype: int64"
   ]
  },
  {
   "cell_type": "markdown",
   "id": "6aae3f08",
   "metadata": {},
   "source": [
    "nombre_infected       879\n",
    "nombre_sain          2134\n",
    "nombre_exposed        396\n",
    "nombre_recovered    16591\n",
    "Name: 507, dtype: int64"
   ]
  },
  {
   "cell_type": "markdown",
   "id": "042653a9",
   "metadata": {},
   "source": [
    "nombre_infected       830\n",
    "nombre_sain          2135\n",
    "nombre_exposed        427\n",
    "nombre_recovered    16608\n",
    "Name: 508, dtype: int64"
   ]
  },
  {
   "cell_type": "markdown",
   "id": "94afc0cc",
   "metadata": {},
   "source": [
    "nombre_infected       808\n",
    "nombre_sain          2162\n",
    "nombre_exposed        441\n",
    "nombre_recovered    16589\n",
    "Name: 509, dtype: int64"
   ]
  },
  {
   "cell_type": "markdown",
   "id": "fdae02c7",
   "metadata": {},
   "source": [
    "nombre_infected       827\n",
    "nombre_sain          2163\n",
    "nombre_exposed        417\n",
    "nombre_recovered    16593\n",
    "Name: 510, dtype: int64"
   ]
  },
  {
   "cell_type": "markdown",
   "id": "2872b1b2",
   "metadata": {},
   "source": [
    "nombre_infected       812\n",
    "nombre_sain          2146\n",
    "nombre_exposed        436\n",
    "nombre_recovered    16606\n",
    "Name: 511, dtype: int64"
   ]
  },
  {
   "cell_type": "markdown",
   "id": "82630620",
   "metadata": {},
   "source": [
    "nombre_infected       790\n",
    "nombre_sain          2163\n",
    "nombre_exposed        439\n",
    "nombre_recovered    16608\n",
    "Name: 512, dtype: int64"
   ]
  },
  {
   "cell_type": "markdown",
   "id": "dd55cd0e",
   "metadata": {},
   "source": [
    "nombre_infected       787\n",
    "nombre_sain          2158\n",
    "nombre_exposed        441\n",
    "nombre_recovered    16614\n",
    "Name: 513, dtype: int64"
   ]
  },
  {
   "cell_type": "markdown",
   "id": "7d235f91",
   "metadata": {},
   "source": [
    "nombre_infected       807\n",
    "nombre_sain          2156\n",
    "nombre_exposed        445\n",
    "nombre_recovered    16592\n",
    "Name: 514, dtype: int64"
   ]
  },
  {
   "cell_type": "markdown",
   "id": "430750a1",
   "metadata": {},
   "source": [
    "nombre_infected       799\n",
    "nombre_sain          2153\n",
    "nombre_exposed        455\n",
    "nombre_recovered    16593\n",
    "Name: 515, dtype: int64"
   ]
  },
  {
   "cell_type": "markdown",
   "id": "06531606",
   "metadata": {},
   "source": [
    "nombre_infected       814\n",
    "nombre_sain          2129\n",
    "nombre_exposed        450\n",
    "nombre_recovered    16607\n",
    "Name: 516, dtype: int64"
   ]
  },
  {
   "cell_type": "markdown",
   "id": "eb9a22dd",
   "metadata": {},
   "source": [
    "nombre_infected       807\n",
    "nombre_sain          2162\n",
    "nombre_exposed        421\n",
    "nombre_recovered    16610\n",
    "Name: 517, dtype: int64"
   ]
  },
  {
   "cell_type": "markdown",
   "id": "cdf044a1",
   "metadata": {},
   "source": [
    "nombre_infected       806\n",
    "nombre_sain          2179\n",
    "nombre_exposed        405\n",
    "nombre_recovered    16610\n",
    "Name: 518, dtype: int64"
   ]
  },
  {
   "cell_type": "markdown",
   "id": "9eb15411",
   "metadata": {},
   "source": [
    "nombre_infected       812\n",
    "nombre_sain          2185\n",
    "nombre_exposed        407\n",
    "nombre_recovered    16596\n",
    "Name: 519, dtype: int64"
   ]
  },
  {
   "cell_type": "markdown",
   "id": "e25bbccd",
   "metadata": {},
   "source": [
    "nombre_infected       812\n",
    "nombre_sain          2206\n",
    "nombre_exposed        409\n",
    "nombre_recovered    16573\n",
    "Name: 520, dtype: int64"
   ]
  },
  {
   "cell_type": "markdown",
   "id": "b66c48b6",
   "metadata": {},
   "source": [
    "nombre_infected       785\n",
    "nombre_sain          2214\n",
    "nombre_exposed        412\n",
    "nombre_recovered    16589\n",
    "Name: 521, dtype: int64"
   ]
  },
  {
   "cell_type": "markdown",
   "id": "6ffc998c",
   "metadata": {},
   "source": [
    "nombre_infected       785\n",
    "nombre_sain          2244\n",
    "nombre_exposed        391\n",
    "nombre_recovered    16580\n",
    "Name: 522, dtype: int64"
   ]
  },
  {
   "cell_type": "markdown",
   "id": "b26615cf",
   "metadata": {},
   "source": [
    "nombre_infected       782\n",
    "nombre_sain          2271\n",
    "nombre_exposed        411\n",
    "nombre_recovered    16536\n",
    "Name: 523, dtype: int64"
   ]
  },
  {
   "cell_type": "markdown",
   "id": "154cb128",
   "metadata": {},
   "source": [
    "nombre_infected       769\n",
    "nombre_sain          2272\n",
    "nombre_exposed        439\n",
    "nombre_recovered    16520\n",
    "Name: 524, dtype: int64"
   ]
  },
  {
   "cell_type": "markdown",
   "id": "3106369a",
   "metadata": {},
   "source": [
    "nombre_infected       763\n",
    "nombre_sain          2274\n",
    "nombre_exposed        441\n",
    "nombre_recovered    16522\n",
    "Name: 525, dtype: int64"
   ]
  },
  {
   "cell_type": "markdown",
   "id": "d0773f45",
   "metadata": {},
   "source": [
    "nombre_infected       769\n",
    "nombre_sain          2298\n",
    "nombre_exposed        401\n",
    "nombre_recovered    16532\n",
    "Name: 526, dtype: int64"
   ]
  },
  {
   "cell_type": "markdown",
   "id": "cf32f98c",
   "metadata": {},
   "source": [
    "nombre_infected       766\n",
    "nombre_sain          2325\n",
    "nombre_exposed        406\n",
    "nombre_recovered    16503\n",
    "Name: 527, dtype: int64"
   ]
  },
  {
   "cell_type": "markdown",
   "id": "e5b4065e",
   "metadata": {},
   "source": [
    "nombre_infected       773\n",
    "nombre_sain          2349\n",
    "nombre_exposed        397\n",
    "nombre_recovered    16481\n",
    "Name: 528, dtype: int64"
   ]
  },
  {
   "cell_type": "markdown",
   "id": "f3f310b8",
   "metadata": {},
   "source": [
    "nombre_infected       778\n",
    "nombre_sain          2343\n",
    "nombre_exposed        436\n",
    "nombre_recovered    16443\n",
    "Name: 529, dtype: int64"
   ]
  },
  {
   "cell_type": "markdown",
   "id": "521e102c",
   "metadata": {},
   "source": [
    "nombre_infected       757\n",
    "nombre_sain          2372\n",
    "nombre_exposed        460\n",
    "nombre_recovered    16411\n",
    "Name: 530, dtype: int64"
   ]
  },
  {
   "cell_type": "markdown",
   "id": "adcff56e",
   "metadata": {},
   "source": [
    "nombre_infected       764\n",
    "nombre_sain          2366\n",
    "nombre_exposed        469\n",
    "nombre_recovered    16401\n",
    "Name: 531, dtype: int64"
   ]
  },
  {
   "cell_type": "markdown",
   "id": "0d062c70",
   "metadata": {},
   "source": [
    "nombre_infected       742\n",
    "nombre_sain          2402\n",
    "nombre_exposed        474\n",
    "nombre_recovered    16382\n",
    "Name: 532, dtype: int64"
   ]
  },
  {
   "cell_type": "markdown",
   "id": "c2749b6e",
   "metadata": {},
   "source": [
    "nombre_infected       754\n",
    "nombre_sain          2439\n",
    "nombre_exposed        452\n",
    "nombre_recovered    16355\n",
    "Name: 533, dtype: int64"
   ]
  },
  {
   "cell_type": "markdown",
   "id": "5253b43b",
   "metadata": {},
   "source": [
    "nombre_infected       766\n",
    "nombre_sain          2422\n",
    "nombre_exposed        445\n",
    "nombre_recovered    16367\n",
    "Name: 534, dtype: int64"
   ]
  },
  {
   "cell_type": "markdown",
   "id": "b46cfa2a",
   "metadata": {},
   "source": [
    "nombre_infected       756\n",
    "nombre_sain          2438\n",
    "nombre_exposed        449\n",
    "nombre_recovered    16357\n",
    "Name: 535, dtype: int64"
   ]
  },
  {
   "cell_type": "markdown",
   "id": "c0b57c46",
   "metadata": {},
   "source": [
    "nombre_infected       763\n",
    "nombre_sain          2453\n",
    "nombre_exposed        448\n",
    "nombre_recovered    16336\n",
    "Name: 536, dtype: int64"
   ]
  },
  {
   "cell_type": "markdown",
   "id": "74a13314",
   "metadata": {},
   "source": [
    "nombre_infected       774\n",
    "nombre_sain          2475\n",
    "nombre_exposed        442\n",
    "nombre_recovered    16309\n",
    "Name: 537, dtype: int64"
   ]
  },
  {
   "cell_type": "markdown",
   "id": "c1b68891",
   "metadata": {},
   "source": [
    "nombre_infected       776\n",
    "nombre_sain          2501\n",
    "nombre_exposed        459\n",
    "nombre_recovered    16264\n",
    "Name: 538, dtype: int64"
   ]
  },
  {
   "cell_type": "markdown",
   "id": "c019aa45",
   "metadata": {},
   "source": [
    "nombre_infected       768\n",
    "nombre_sain          2513\n",
    "nombre_exposed        473\n",
    "nombre_recovered    16246\n",
    "Name: 539, dtype: int64"
   ]
  },
  {
   "cell_type": "markdown",
   "id": "8d334fe5",
   "metadata": {},
   "source": [
    "nombre_infected       766\n",
    "nombre_sain          2512\n",
    "nombre_exposed        489\n",
    "nombre_recovered    16233\n",
    "Name: 540, dtype: int64"
   ]
  },
  {
   "cell_type": "markdown",
   "id": "ddf4467b",
   "metadata": {},
   "source": [
    "nombre_infected       785\n",
    "nombre_sain          2503\n",
    "nombre_exposed        492\n",
    "nombre_recovered    16220\n",
    "Name: 541, dtype: int64"
   ]
  },
  {
   "cell_type": "markdown",
   "id": "c2b7375d",
   "metadata": {},
   "source": [
    "nombre_infected       813\n",
    "nombre_sain          2525\n",
    "nombre_exposed        488\n",
    "nombre_recovered    16174\n",
    "Name: 542, dtype: int64"
   ]
  },
  {
   "cell_type": "markdown",
   "id": "d381699a",
   "metadata": {},
   "source": [
    "nombre_infected       815\n",
    "nombre_sain          2529\n",
    "nombre_exposed        491\n",
    "nombre_recovered    16165\n",
    "Name: 543, dtype: int64"
   ]
  },
  {
   "cell_type": "markdown",
   "id": "de316181",
   "metadata": {},
   "source": [
    "nombre_infected       808\n",
    "nombre_sain          2529\n",
    "nombre_exposed        502\n",
    "nombre_recovered    16161\n",
    "Name: 544, dtype: int64"
   ]
  },
  {
   "cell_type": "markdown",
   "id": "e598946b",
   "metadata": {},
   "source": [
    "nombre_infected       839\n",
    "nombre_sain          2503\n",
    "nombre_exposed        518\n",
    "nombre_recovered    16140\n",
    "Name: 545, dtype: int64"
   ]
  },
  {
   "cell_type": "markdown",
   "id": "4edcbd69",
   "metadata": {},
   "source": [
    "nombre_infected       858\n",
    "nombre_sain          2518\n",
    "nombre_exposed        509\n",
    "nombre_recovered    16115\n",
    "Name: 546, dtype: int64"
   ]
  },
  {
   "cell_type": "markdown",
   "id": "33cc7cf8",
   "metadata": {},
   "source": [
    "nombre_infected       855\n",
    "nombre_sain          2521\n",
    "nombre_exposed        538\n",
    "nombre_recovered    16086\n",
    "Name: 547, dtype: int64"
   ]
  },
  {
   "cell_type": "markdown",
   "id": "bd085f9a",
   "metadata": {},
   "source": [
    "nombre_infected       836\n",
    "nombre_sain          2508\n",
    "nombre_exposed        576\n",
    "nombre_recovered    16080\n",
    "Name: 548, dtype: int64"
   ]
  },
  {
   "cell_type": "markdown",
   "id": "d69ea004",
   "metadata": {},
   "source": [
    "nombre_infected       858\n",
    "nombre_sain          2510\n",
    "nombre_exposed        552\n",
    "nombre_recovered    16080\n",
    "Name: 549, dtype: int64"
   ]
  },
  {
   "cell_type": "markdown",
   "id": "f51d9ce3",
   "metadata": {},
   "source": [
    "nombre_infected       863\n",
    "nombre_sain          2490\n",
    "nombre_exposed        569\n",
    "nombre_recovered    16078\n",
    "Name: 550, dtype: int64"
   ]
  },
  {
   "cell_type": "markdown",
   "id": "da3f3910",
   "metadata": {},
   "source": [
    "nombre_infected       872\n",
    "nombre_sain          2466\n",
    "nombre_exposed        571\n",
    "nombre_recovered    16091\n",
    "Name: 551, dtype: int64"
   ]
  },
  {
   "cell_type": "markdown",
   "id": "fdc79af2",
   "metadata": {},
   "source": [
    "nombre_infected       901\n",
    "nombre_sain          2453\n",
    "nombre_exposed        585\n",
    "nombre_recovered    16061\n",
    "Name: 552, dtype: int64"
   ]
  },
  {
   "cell_type": "markdown",
   "id": "f5bf34e5",
   "metadata": {},
   "source": [
    "nombre_infected       925\n",
    "nombre_sain          2432\n",
    "nombre_exposed        586\n",
    "nombre_recovered    16057\n",
    "Name: 553, dtype: int64"
   ]
  },
  {
   "cell_type": "markdown",
   "id": "af20b6b4",
   "metadata": {},
   "source": [
    "nombre_infected       927\n",
    "nombre_sain          2416\n",
    "nombre_exposed        582\n",
    "nombre_recovered    16075\n",
    "Name: 554, dtype: int64"
   ]
  },
  {
   "cell_type": "markdown",
   "id": "d7f77c87",
   "metadata": {},
   "source": [
    "nombre_infected       941\n",
    "nombre_sain          2388\n",
    "nombre_exposed        586\n",
    "nombre_recovered    16085\n",
    "Name: 555, dtype: int64"
   ]
  },
  {
   "cell_type": "markdown",
   "id": "45e9f71a",
   "metadata": {},
   "source": [
    "nombre_infected       946\n",
    "nombre_sain          2375\n",
    "nombre_exposed        583\n",
    "nombre_recovered    16096\n",
    "Name: 556, dtype: int64"
   ]
  },
  {
   "cell_type": "markdown",
   "id": "0142afdd",
   "metadata": {},
   "source": [
    "nombre_infected       959\n",
    "nombre_sain          2340\n",
    "nombre_exposed        590\n",
    "nombre_recovered    16111\n",
    "Name: 557, dtype: int64"
   ]
  },
  {
   "cell_type": "markdown",
   "id": "fcf8fcb1",
   "metadata": {},
   "source": [
    "nombre_infected       980\n",
    "nombre_sain          2299\n",
    "nombre_exposed        595\n",
    "nombre_recovered    16126\n",
    "Name: 558, dtype: int64"
   ]
  },
  {
   "cell_type": "markdown",
   "id": "4a999e35",
   "metadata": {},
   "source": [
    "nombre_infected       993\n",
    "nombre_sain          2263\n",
    "nombre_exposed        611\n",
    "nombre_recovered    16133\n",
    "Name: 559, dtype: int64"
   ]
  },
  {
   "cell_type": "markdown",
   "id": "0b62daf3",
   "metadata": {},
   "source": [
    "nombre_infected      1001\n",
    "nombre_sain          2258\n",
    "nombre_exposed        582\n",
    "nombre_recovered    16159\n",
    "Name: 560, dtype: int64"
   ]
  },
  {
   "cell_type": "markdown",
   "id": "5563ee52",
   "metadata": {},
   "source": [
    "nombre_infected      1048\n",
    "nombre_sain          2231\n",
    "nombre_exposed        572\n",
    "nombre_recovered    16149\n",
    "Name: 561, dtype: int64"
   ]
  },
  {
   "cell_type": "markdown",
   "id": "35af60c1",
   "metadata": {},
   "source": [
    "nombre_infected      1054\n",
    "nombre_sain          2218\n",
    "nombre_exposed        551\n",
    "nombre_recovered    16177\n",
    "Name: 562, dtype: int64"
   ]
  },
  {
   "cell_type": "markdown",
   "id": "4c1e626d",
   "metadata": {},
   "source": [
    "nombre_infected      1045\n",
    "nombre_sain          2224\n",
    "nombre_exposed        537\n",
    "nombre_recovered    16194\n",
    "Name: 563, dtype: int64"
   ]
  },
  {
   "cell_type": "markdown",
   "id": "8ba49884",
   "metadata": {},
   "source": [
    "nombre_infected      1037\n",
    "nombre_sain          2208\n",
    "nombre_exposed        546\n",
    "nombre_recovered    16209\n",
    "Name: 564, dtype: int64"
   ]
  },
  {
   "cell_type": "markdown",
   "id": "be94c96d",
   "metadata": {},
   "source": [
    "nombre_infected      1015\n",
    "nombre_sain          2192\n",
    "nombre_exposed        553\n",
    "nombre_recovered    16240\n",
    "Name: 565, dtype: int64"
   ]
  },
  {
   "cell_type": "markdown",
   "id": "7d0c2793",
   "metadata": {},
   "source": [
    "nombre_infected       998\n",
    "nombre_sain          2179\n",
    "nombre_exposed        561\n",
    "nombre_recovered    16262\n",
    "Name: 566, dtype: int64"
   ]
  },
  {
   "cell_type": "markdown",
   "id": "f2997814",
   "metadata": {},
   "source": [
    "nombre_infected      1008\n",
    "nombre_sain          2148\n",
    "nombre_exposed        565\n",
    "nombre_recovered    16279\n",
    "Name: 567, dtype: int64"
   ]
  },
  {
   "cell_type": "markdown",
   "id": "0363f263",
   "metadata": {},
   "source": [
    "nombre_infected       992\n",
    "nombre_sain          2139\n",
    "nombre_exposed        566\n",
    "nombre_recovered    16303\n",
    "Name: 568, dtype: int64"
   ]
  },
  {
   "cell_type": "markdown",
   "id": "a98840a1",
   "metadata": {},
   "source": [
    "nombre_infected       983\n",
    "nombre_sain          2137\n",
    "nombre_exposed        561\n",
    "nombre_recovered    16319\n",
    "Name: 569, dtype: int64"
   ]
  },
  {
   "cell_type": "markdown",
   "id": "2e794ee0",
   "metadata": {},
   "source": [
    "nombre_infected       996\n",
    "nombre_sain          2125\n",
    "nombre_exposed        560\n",
    "nombre_recovered    16319\n",
    "Name: 570, dtype: int64"
   ]
  },
  {
   "cell_type": "markdown",
   "id": "e259b602",
   "metadata": {},
   "source": [
    "nombre_infected       995\n",
    "nombre_sain          2119\n",
    "nombre_exposed        562\n",
    "nombre_recovered    16324\n",
    "Name: 571, dtype: int64"
   ]
  },
  {
   "cell_type": "markdown",
   "id": "664dc4a1",
   "metadata": {},
   "source": [
    "nombre_infected      1000\n",
    "nombre_sain          2131\n",
    "nombre_exposed        529\n",
    "nombre_recovered    16340\n",
    "Name: 572, dtype: int64"
   ]
  },
  {
   "cell_type": "markdown",
   "id": "57a0b535",
   "metadata": {},
   "source": [
    "nombre_infected       994\n",
    "nombre_sain          2113\n",
    "nombre_exposed        535\n",
    "nombre_recovered    16358\n",
    "Name: 573, dtype: int64"
   ]
  },
  {
   "cell_type": "markdown",
   "id": "a90e5718",
   "metadata": {},
   "source": [
    "nombre_infected      1002\n",
    "nombre_sain          2082\n",
    "nombre_exposed        536\n",
    "nombre_recovered    16380\n",
    "Name: 574, dtype: int64"
   ]
  },
  {
   "cell_type": "markdown",
   "id": "41b85f7d",
   "metadata": {},
   "source": [
    "nombre_infected       986\n",
    "nombre_sain          2092\n",
    "nombre_exposed        518\n",
    "nombre_recovered    16404\n",
    "Name: 575, dtype: int64"
   ]
  },
  {
   "cell_type": "markdown",
   "id": "cbeb6c1e",
   "metadata": {},
   "source": [
    "nombre_infected       965\n",
    "nombre_sain          2130\n",
    "nombre_exposed        511\n",
    "nombre_recovered    16394\n",
    "Name: 576, dtype: int64"
   ]
  },
  {
   "cell_type": "markdown",
   "id": "b95361e5",
   "metadata": {},
   "source": [
    "nombre_infected       966\n",
    "nombre_sain          2115\n",
    "nombre_exposed        516\n",
    "nombre_recovered    16403\n",
    "Name: 577, dtype: int64"
   ]
  },
  {
   "cell_type": "markdown",
   "id": "2f5feaf2",
   "metadata": {},
   "source": [
    "nombre_infected       966\n",
    "nombre_sain          2122\n",
    "nombre_exposed        519\n",
    "nombre_recovered    16393\n",
    "Name: 578, dtype: int64"
   ]
  },
  {
   "cell_type": "markdown",
   "id": "c164495f",
   "metadata": {},
   "source": [
    "nombre_infected       975\n",
    "nombre_sain          2120\n",
    "nombre_exposed        511\n",
    "nombre_recovered    16394\n",
    "Name: 579, dtype: int64"
   ]
  },
  {
   "cell_type": "markdown",
   "id": "cf532c86",
   "metadata": {},
   "source": [
    "nombre_infected       960\n",
    "nombre_sain          2127\n",
    "nombre_exposed        518\n",
    "nombre_recovered    16395\n",
    "Name: 580, dtype: int64"
   ]
  },
  {
   "cell_type": "markdown",
   "id": "699c4de7",
   "metadata": {},
   "source": [
    "nombre_infected       948\n",
    "nombre_sain          2122\n",
    "nombre_exposed        531\n",
    "nombre_recovered    16399\n",
    "Name: 581, dtype: int64"
   ]
  },
  {
   "cell_type": "markdown",
   "id": "bb54720a",
   "metadata": {},
   "source": [
    "nombre_infected       936\n",
    "nombre_sain          2122\n",
    "nombre_exposed        543\n",
    "nombre_recovered    16399\n",
    "Name: 582, dtype: int64"
   ]
  },
  {
   "cell_type": "markdown",
   "id": "0d7128b7",
   "metadata": {},
   "source": [
    "nombre_infected       917\n",
    "nombre_sain          2151\n",
    "nombre_exposed        554\n",
    "nombre_recovered    16378\n",
    "Name: 583, dtype: int64"
   ]
  },
  {
   "cell_type": "markdown",
   "id": "e75833ab",
   "metadata": {},
   "source": [
    "nombre_infected       934\n",
    "nombre_sain          2163\n",
    "nombre_exposed        558\n",
    "nombre_recovered    16345\n",
    "Name: 584, dtype: int64"
   ]
  },
  {
   "cell_type": "markdown",
   "id": "1885aca4",
   "metadata": {},
   "source": [
    "nombre_infected       925\n",
    "nombre_sain          2173\n",
    "nombre_exposed        571\n",
    "nombre_recovered    16331\n",
    "Name: 585, dtype: int64"
   ]
  },
  {
   "cell_type": "markdown",
   "id": "faee0ed0",
   "metadata": {},
   "source": [
    "nombre_infected       931\n",
    "nombre_sain          2158\n",
    "nombre_exposed        557\n",
    "nombre_recovered    16354\n",
    "Name: 586, dtype: int64"
   ]
  },
  {
   "cell_type": "markdown",
   "id": "f820b458",
   "metadata": {},
   "source": [
    "nombre_infected       958\n",
    "nombre_sain          2147\n",
    "nombre_exposed        556\n",
    "nombre_recovered    16339\n",
    "Name: 587, dtype: int64"
   ]
  },
  {
   "cell_type": "markdown",
   "id": "6fee08ee",
   "metadata": {},
   "source": [
    "nombre_infected       929\n",
    "nombre_sain          2170\n",
    "nombre_exposed        551\n",
    "nombre_recovered    16350\n",
    "Name: 588, dtype: int64"
   ]
  },
  {
   "cell_type": "markdown",
   "id": "f4af83f8",
   "metadata": {},
   "source": [
    "nombre_infected       932\n",
    "nombre_sain          2194\n",
    "nombre_exposed        534\n",
    "nombre_recovered    16340\n",
    "Name: 589, dtype: int64"
   ]
  },
  {
   "cell_type": "markdown",
   "id": "30ec1b69",
   "metadata": {},
   "source": [
    "nombre_infected       932\n",
    "nombre_sain          2234\n",
    "nombre_exposed        503\n",
    "nombre_recovered    16331\n",
    "Name: 590, dtype: int64"
   ]
  },
  {
   "cell_type": "markdown",
   "id": "15ee5ad8",
   "metadata": {},
   "source": [
    "nombre_infected       943\n",
    "nombre_sain          2248\n",
    "nombre_exposed        482\n",
    "nombre_recovered    16327\n",
    "Name: 591, dtype: int64"
   ]
  },
  {
   "cell_type": "markdown",
   "id": "3f6915b1",
   "metadata": {},
   "source": [
    "nombre_infected       952\n",
    "nombre_sain          2244\n",
    "nombre_exposed        500\n",
    "nombre_recovered    16304\n",
    "Name: 592, dtype: int64"
   ]
  },
  {
   "cell_type": "markdown",
   "id": "ea823bb1",
   "metadata": {},
   "source": [
    "nombre_infected       934\n",
    "nombre_sain          2276\n",
    "nombre_exposed        496\n",
    "nombre_recovered    16294\n",
    "Name: 593, dtype: int64"
   ]
  },
  {
   "cell_type": "markdown",
   "id": "e6fd3735",
   "metadata": {},
   "source": [
    "nombre_infected       933\n",
    "nombre_sain          2269\n",
    "nombre_exposed        481\n",
    "nombre_recovered    16317\n",
    "Name: 594, dtype: int64"
   ]
  },
  {
   "cell_type": "markdown",
   "id": "5c4a9b1e",
   "metadata": {},
   "source": [
    "nombre_infected       929\n",
    "nombre_sain          2280\n",
    "nombre_exposed        483\n",
    "nombre_recovered    16308\n",
    "Name: 595, dtype: int64"
   ]
  },
  {
   "cell_type": "markdown",
   "id": "d4f421d4",
   "metadata": {},
   "source": [
    "nombre_infected       893\n",
    "nombre_sain          2275\n",
    "nombre_exposed        517\n",
    "nombre_recovered    16315\n",
    "Name: 596, dtype: int64"
   ]
  },
  {
   "cell_type": "markdown",
   "id": "b5f08399",
   "metadata": {},
   "source": [
    "nombre_infected       896\n",
    "nombre_sain          2277\n",
    "nombre_exposed        509\n",
    "nombre_recovered    16318\n",
    "Name: 597, dtype: int64"
   ]
  },
  {
   "cell_type": "markdown",
   "id": "16f3d30a",
   "metadata": {},
   "source": [
    "nombre_infected       885\n",
    "nombre_sain          2254\n",
    "nombre_exposed        510\n",
    "nombre_recovered    16351\n",
    "Name: 598, dtype: int64"
   ]
  },
  {
   "cell_type": "markdown",
   "id": "ca085d12",
   "metadata": {},
   "source": [
    "nombre_infected       894\n",
    "nombre_sain          2225\n",
    "nombre_exposed        515\n",
    "nombre_recovered    16366\n",
    "Name: 599, dtype: int64"
   ]
  },
  {
   "cell_type": "markdown",
   "id": "f00a50c0",
   "metadata": {},
   "source": [
    "nombre_infected       899\n",
    "nombre_sain          2239\n",
    "nombre_exposed        524\n",
    "nombre_recovered    16338\n",
    "Name: 600, dtype: int64"
   ]
  },
  {
   "cell_type": "markdown",
   "id": "90461ec9",
   "metadata": {},
   "source": [
    "nombre_infected       921\n",
    "nombre_sain          2237\n",
    "nombre_exposed        518\n",
    "nombre_recovered    16324\n",
    "Name: 601, dtype: int64"
   ]
  },
  {
   "cell_type": "markdown",
   "id": "c4e3916b",
   "metadata": {},
   "source": [
    "nombre_infected       921\n",
    "nombre_sain          2237\n",
    "nombre_exposed        512\n",
    "nombre_recovered    16330\n",
    "Name: 602, dtype: int64"
   ]
  },
  {
   "cell_type": "markdown",
   "id": "71a534cf",
   "metadata": {},
   "source": [
    "nombre_infected       935\n",
    "nombre_sain          2257\n",
    "nombre_exposed        492\n",
    "nombre_recovered    16316\n",
    "Name: 603, dtype: int64"
   ]
  },
  {
   "cell_type": "markdown",
   "id": "de0ec7e8",
   "metadata": {},
   "source": [
    "nombre_infected       930\n",
    "nombre_sain          2257\n",
    "nombre_exposed        515\n",
    "nombre_recovered    16298\n",
    "Name: 604, dtype: int64"
   ]
  },
  {
   "cell_type": "markdown",
   "id": "2871e4e2",
   "metadata": {},
   "source": [
    "nombre_infected       934\n",
    "nombre_sain          2245\n",
    "nombre_exposed        518\n",
    "nombre_recovered    16303\n",
    "Name: 605, dtype: int64"
   ]
  },
  {
   "cell_type": "markdown",
   "id": "5326b164",
   "metadata": {},
   "source": [
    "nombre_infected       911\n",
    "nombre_sain          2261\n",
    "nombre_exposed        517\n",
    "nombre_recovered    16311\n",
    "Name: 606, dtype: int64"
   ]
  },
  {
   "cell_type": "markdown",
   "id": "8fabaf74",
   "metadata": {},
   "source": [
    "nombre_infected       940\n",
    "nombre_sain          2261\n",
    "nombre_exposed        512\n",
    "nombre_recovered    16287\n",
    "Name: 607, dtype: int64"
   ]
  },
  {
   "cell_type": "markdown",
   "id": "3fba7a4b",
   "metadata": {},
   "source": [
    "nombre_infected       955\n",
    "nombre_sain          2280\n",
    "nombre_exposed        499\n",
    "nombre_recovered    16266\n",
    "Name: 608, dtype: int64"
   ]
  },
  {
   "cell_type": "markdown",
   "id": "71d5c134",
   "metadata": {},
   "source": [
    "nombre_infected       957\n",
    "nombre_sain          2260\n",
    "nombre_exposed        510\n",
    "nombre_recovered    16273\n",
    "Name: 609, dtype: int64"
   ]
  },
  {
   "cell_type": "markdown",
   "id": "a254ede5",
   "metadata": {},
   "source": [
    "nombre_infected       926\n",
    "nombre_sain          2240\n",
    "nombre_exposed        552\n",
    "nombre_recovered    16282\n",
    "Name: 610, dtype: int64"
   ]
  },
  {
   "cell_type": "markdown",
   "id": "fad592ae",
   "metadata": {},
   "source": [
    "nombre_infected       940\n",
    "nombre_sain          2231\n",
    "nombre_exposed        547\n",
    "nombre_recovered    16282\n",
    "Name: 611, dtype: int64"
   ]
  },
  {
   "cell_type": "markdown",
   "id": "d820da6f",
   "metadata": {},
   "source": [
    "nombre_infected       944\n",
    "nombre_sain          2234\n",
    "nombre_exposed        534\n",
    "nombre_recovered    16288\n",
    "Name: 612, dtype: int64"
   ]
  },
  {
   "cell_type": "markdown",
   "id": "c8d1d475",
   "metadata": {},
   "source": [
    "nombre_infected       942\n",
    "nombre_sain          2225\n",
    "nombre_exposed        559\n",
    "nombre_recovered    16274\n",
    "Name: 613, dtype: int64"
   ]
  },
  {
   "cell_type": "markdown",
   "id": "194230d4",
   "metadata": {},
   "source": [
    "nombre_infected       930\n",
    "nombre_sain          2216\n",
    "nombre_exposed        573\n",
    "nombre_recovered    16281\n",
    "Name: 614, dtype: int64"
   ]
  },
  {
   "cell_type": "markdown",
   "id": "cad3c545",
   "metadata": {},
   "source": [
    "nombre_infected       949\n",
    "nombre_sain          2173\n",
    "nombre_exposed        576\n",
    "nombre_recovered    16302\n",
    "Name: 615, dtype: int64"
   ]
  },
  {
   "cell_type": "markdown",
   "id": "3844b153",
   "metadata": {},
   "source": [
    "nombre_infected       977\n",
    "nombre_sain          2173\n",
    "nombre_exposed        553\n",
    "nombre_recovered    16297\n",
    "Name: 616, dtype: int64"
   ]
  },
  {
   "cell_type": "markdown",
   "id": "2910d317",
   "metadata": {},
   "source": [
    "nombre_infected      1000\n",
    "nombre_sain          2164\n",
    "nombre_exposed        545\n",
    "nombre_recovered    16291\n",
    "Name: 617, dtype: int64"
   ]
  },
  {
   "cell_type": "markdown",
   "id": "041e4d74",
   "metadata": {},
   "source": [
    "nombre_infected       989\n",
    "nombre_sain          2158\n",
    "nombre_exposed        545\n",
    "nombre_recovered    16308\n",
    "Name: 618, dtype: int64"
   ]
  },
  {
   "cell_type": "markdown",
   "id": "6170beee",
   "metadata": {},
   "source": [
    "nombre_infected       990\n",
    "nombre_sain          2150\n",
    "nombre_exposed        532\n",
    "nombre_recovered    16328\n",
    "Name: 619, dtype: int64"
   ]
  },
  {
   "cell_type": "markdown",
   "id": "d2c6c9d9",
   "metadata": {},
   "source": [
    "nombre_infected       990\n",
    "nombre_sain          2145\n",
    "nombre_exposed        537\n",
    "nombre_recovered    16328\n",
    "Name: 620, dtype: int64"
   ]
  },
  {
   "cell_type": "markdown",
   "id": "880082d8",
   "metadata": {},
   "source": [
    "nombre_infected      1008\n",
    "nombre_sain          2140\n",
    "nombre_exposed        505\n",
    "nombre_recovered    16347\n",
    "Name: 621, dtype: int64"
   ]
  },
  {
   "cell_type": "markdown",
   "id": "8142d1c6",
   "metadata": {},
   "source": [
    "nombre_infected       994\n",
    "nombre_sain          2145\n",
    "nombre_exposed        504\n",
    "nombre_recovered    16357\n",
    "Name: 622, dtype: int64"
   ]
  },
  {
   "cell_type": "markdown",
   "id": "bad09596",
   "metadata": {},
   "source": [
    "nombre_infected       980\n",
    "nombre_sain          2144\n",
    "nombre_exposed        538\n",
    "nombre_recovered    16338\n",
    "Name: 623, dtype: int64"
   ]
  },
  {
   "cell_type": "markdown",
   "id": "758883c5",
   "metadata": {},
   "source": [
    "nombre_infected       968\n",
    "nombre_sain          2151\n",
    "nombre_exposed        519\n",
    "nombre_recovered    16362\n",
    "Name: 624, dtype: int64"
   ]
  },
  {
   "cell_type": "markdown",
   "id": "31af9e26",
   "metadata": {},
   "source": [
    "nombre_infected       983\n",
    "nombre_sain          2158\n",
    "nombre_exposed        502\n",
    "nombre_recovered    16357\n",
    "Name: 625, dtype: int64"
   ]
  },
  {
   "cell_type": "markdown",
   "id": "056dca0a",
   "metadata": {},
   "source": [
    "nombre_infected       982\n",
    "nombre_sain          2162\n",
    "nombre_exposed        503\n",
    "nombre_recovered    16353\n",
    "Name: 626, dtype: int64"
   ]
  },
  {
   "cell_type": "markdown",
   "id": "57f9039c",
   "metadata": {},
   "source": [
    "nombre_infected       970\n",
    "nombre_sain          2161\n",
    "nombre_exposed        510\n",
    "nombre_recovered    16359\n",
    "Name: 627, dtype: int64"
   ]
  },
  {
   "cell_type": "markdown",
   "id": "afa22cc6",
   "metadata": {},
   "source": [
    "nombre_infected       959\n",
    "nombre_sain          2145\n",
    "nombre_exposed        541\n",
    "nombre_recovered    16355\n",
    "Name: 628, dtype: int64"
   ]
  },
  {
   "cell_type": "markdown",
   "id": "a1b92fc7",
   "metadata": {},
   "source": [
    "nombre_infected       961\n",
    "nombre_sain          2190\n",
    "nombre_exposed        528\n",
    "nombre_recovered    16321\n",
    "Name: 629, dtype: int64"
   ]
  },
  {
   "cell_type": "markdown",
   "id": "f5e5c6f5",
   "metadata": {},
   "source": [
    "nombre_infected       955\n",
    "nombre_sain          2198\n",
    "nombre_exposed        499\n",
    "nombre_recovered    16348\n",
    "Name: 630, dtype: int64"
   ]
  },
  {
   "cell_type": "markdown",
   "id": "4211a9ce",
   "metadata": {},
   "source": [
    "nombre_infected       936\n",
    "nombre_sain          2167\n",
    "nombre_exposed        518\n",
    "nombre_recovered    16379\n",
    "Name: 631, dtype: int64"
   ]
  },
  {
   "cell_type": "markdown",
   "id": "5e7e4c76",
   "metadata": {},
   "source": [
    "nombre_infected       952\n",
    "nombre_sain          2210\n",
    "nombre_exposed        484\n",
    "nombre_recovered    16354\n",
    "Name: 632, dtype: int64"
   ]
  },
  {
   "cell_type": "markdown",
   "id": "48c62785",
   "metadata": {},
   "source": [
    "nombre_infected       964\n",
    "nombre_sain          2236\n",
    "nombre_exposed        471\n",
    "nombre_recovered    16329\n",
    "Name: 633, dtype: int64"
   ]
  },
  {
   "cell_type": "markdown",
   "id": "072e37d2",
   "metadata": {},
   "source": [
    "nombre_infected       950\n",
    "nombre_sain          2205\n",
    "nombre_exposed        504\n",
    "nombre_recovered    16341\n",
    "Name: 634, dtype: int64"
   ]
  },
  {
   "cell_type": "markdown",
   "id": "aa1aba09",
   "metadata": {},
   "source": [
    "nombre_infected       941\n",
    "nombre_sain          2202\n",
    "nombre_exposed        509\n",
    "nombre_recovered    16348\n",
    "Name: 635, dtype: int64"
   ]
  },
  {
   "cell_type": "markdown",
   "id": "af7e22d3",
   "metadata": {},
   "source": [
    "nombre_infected       958\n",
    "nombre_sain          2223\n",
    "nombre_exposed        480\n",
    "nombre_recovered    16339\n",
    "Name: 636, dtype: int64"
   ]
  },
  {
   "cell_type": "markdown",
   "id": "07bfa0ec",
   "metadata": {},
   "source": [
    "nombre_infected       967\n",
    "nombre_sain          2217\n",
    "nombre_exposed        469\n",
    "nombre_recovered    16347\n",
    "Name: 637, dtype: int64"
   ]
  },
  {
   "cell_type": "markdown",
   "id": "e662118b",
   "metadata": {},
   "source": [
    "nombre_infected       947\n",
    "nombre_sain          2224\n",
    "nombre_exposed        474\n",
    "nombre_recovered    16355\n",
    "Name: 638, dtype: int64"
   ]
  },
  {
   "cell_type": "markdown",
   "id": "4699755a",
   "metadata": {},
   "source": [
    "nombre_infected       933\n",
    "nombre_sain          2225\n",
    "nombre_exposed        470\n",
    "nombre_recovered    16372\n",
    "Name: 639, dtype: int64"
   ]
  },
  {
   "cell_type": "markdown",
   "id": "1f36411a",
   "metadata": {},
   "source": [
    "nombre_infected       930\n",
    "nombre_sain          2216\n",
    "nombre_exposed        479\n",
    "nombre_recovered    16375\n",
    "Name: 640, dtype: int64"
   ]
  },
  {
   "cell_type": "markdown",
   "id": "4953ab4f",
   "metadata": {},
   "source": [
    "nombre_infected       874\n",
    "nombre_sain          2227\n",
    "nombre_exposed        503\n",
    "nombre_recovered    16396\n",
    "Name: 641, dtype: int64"
   ]
  },
  {
   "cell_type": "markdown",
   "id": "ad0242ab",
   "metadata": {},
   "source": [
    "nombre_infected       886\n",
    "nombre_sain          2245\n",
    "nombre_exposed        490\n",
    "nombre_recovered    16379\n",
    "Name: 642, dtype: int64"
   ]
  },
  {
   "cell_type": "markdown",
   "id": "96f3ebdc",
   "metadata": {},
   "source": [
    "nombre_infected       887\n",
    "nombre_sain          2284\n",
    "nombre_exposed        482\n",
    "nombre_recovered    16347\n",
    "Name: 643, dtype: int64"
   ]
  },
  {
   "cell_type": "markdown",
   "id": "37df5072",
   "metadata": {},
   "source": [
    "nombre_infected       889\n",
    "nombre_sain          2299\n",
    "nombre_exposed        495\n",
    "nombre_recovered    16317\n",
    "Name: 644, dtype: int64"
   ]
  },
  {
   "cell_type": "markdown",
   "id": "182fa188",
   "metadata": {},
   "source": [
    "nombre_infected       925\n",
    "nombre_sain          2304\n",
    "nombre_exposed        464\n",
    "nombre_recovered    16307\n",
    "Name: 645, dtype: int64"
   ]
  },
  {
   "cell_type": "markdown",
   "id": "1ae7b3ac",
   "metadata": {},
   "source": [
    "nombre_infected       905\n",
    "nombre_sain          2313\n",
    "nombre_exposed        481\n",
    "nombre_recovered    16301\n",
    "Name: 646, dtype: int64"
   ]
  },
  {
   "cell_type": "markdown",
   "id": "855bafc5",
   "metadata": {},
   "source": [
    "nombre_infected       904\n",
    "nombre_sain          2328\n",
    "nombre_exposed        488\n",
    "nombre_recovered    16280\n",
    "Name: 647, dtype: int64"
   ]
  },
  {
   "cell_type": "markdown",
   "id": "a3fc8c27",
   "metadata": {},
   "source": [
    "nombre_infected       908\n",
    "nombre_sain          2333\n",
    "nombre_exposed        505\n",
    "nombre_recovered    16254\n",
    "Name: 648, dtype: int64"
   ]
  },
  {
   "cell_type": "markdown",
   "id": "033272dd",
   "metadata": {},
   "source": [
    "nombre_infected       907\n",
    "nombre_sain          2351\n",
    "nombre_exposed        508\n",
    "nombre_recovered    16234\n",
    "Name: 649, dtype: int64"
   ]
  },
  {
   "cell_type": "markdown",
   "id": "1d35ce59",
   "metadata": {},
   "source": [
    "nombre_infected       897\n",
    "nombre_sain          2349\n",
    "nombre_exposed        507\n",
    "nombre_recovered    16247\n",
    "Name: 650, dtype: int64"
   ]
  },
  {
   "cell_type": "markdown",
   "id": "4405562f",
   "metadata": {},
   "source": [
    "nombre_infected       918\n",
    "nombre_sain          2373\n",
    "nombre_exposed        497\n",
    "nombre_recovered    16212\n",
    "Name: 651, dtype: int64"
   ]
  },
  {
   "cell_type": "markdown",
   "id": "c6fc3beb",
   "metadata": {},
   "source": [
    "nombre_infected       934\n",
    "nombre_sain          2383\n",
    "nombre_exposed        487\n",
    "nombre_recovered    16196\n",
    "Name: 652, dtype: int64"
   ]
  },
  {
   "cell_type": "markdown",
   "id": "dd0deb7c",
   "metadata": {},
   "source": [
    "nombre_infected       911\n",
    "nombre_sain          2359\n",
    "nombre_exposed        518\n",
    "nombre_recovered    16212\n",
    "Name: 653, dtype: int64"
   ]
  },
  {
   "cell_type": "markdown",
   "id": "4b470096",
   "metadata": {},
   "source": [
    "nombre_infected       891\n",
    "nombre_sain          2369\n",
    "nombre_exposed        533\n",
    "nombre_recovered    16207\n",
    "Name: 654, dtype: int64"
   ]
  },
  {
   "cell_type": "markdown",
   "id": "362dd69f",
   "metadata": {},
   "source": [
    "nombre_infected       925\n",
    "nombre_sain          2372\n",
    "nombre_exposed        508\n",
    "nombre_recovered    16195\n",
    "Name: 655, dtype: int64"
   ]
  },
  {
   "cell_type": "markdown",
   "id": "caafeab9",
   "metadata": {},
   "source": [
    "nombre_infected       931\n",
    "nombre_sain          2359\n",
    "nombre_exposed        510\n",
    "nombre_recovered    16200\n",
    "Name: 656, dtype: int64"
   ]
  },
  {
   "cell_type": "markdown",
   "id": "e7ebe1c0",
   "metadata": {},
   "source": [
    "nombre_infected       939\n",
    "nombre_sain          2373\n",
    "nombre_exposed        513\n",
    "nombre_recovered    16175\n",
    "Name: 657, dtype: int64"
   ]
  },
  {
   "cell_type": "markdown",
   "id": "aabd31bc",
   "metadata": {},
   "source": [
    "nombre_infected       969\n",
    "nombre_sain          2375\n",
    "nombre_exposed        482\n",
    "nombre_recovered    16174\n",
    "Name: 658, dtype: int64"
   ]
  },
  {
   "cell_type": "markdown",
   "id": "9807e015",
   "metadata": {},
   "source": [
    "nombre_infected       955\n",
    "nombre_sain          2363\n",
    "nombre_exposed        509\n",
    "nombre_recovered    16173\n",
    "Name: 659, dtype: int64"
   ]
  },
  {
   "cell_type": "markdown",
   "id": "79024762",
   "metadata": {},
   "source": [
    "nombre_infected       935\n",
    "nombre_sain          2362\n",
    "nombre_exposed        499\n",
    "nombre_recovered    16204\n",
    "Name: 660, dtype: int64"
   ]
  },
  {
   "cell_type": "markdown",
   "id": "0786d6da",
   "metadata": {},
   "source": [
    "nombre_infected       943\n",
    "nombre_sain          2367\n",
    "nombre_exposed        476\n",
    "nombre_recovered    16214\n",
    "Name: 661, dtype: int64"
   ]
  },
  {
   "cell_type": "markdown",
   "id": "24c7a416",
   "metadata": {},
   "source": [
    "nombre_infected       940\n",
    "nombre_sain          2377\n",
    "nombre_exposed        499\n",
    "nombre_recovered    16184\n",
    "Name: 662, dtype: int64"
   ]
  },
  {
   "cell_type": "markdown",
   "id": "0bf594c8",
   "metadata": {},
   "source": [
    "nombre_infected       942\n",
    "nombre_sain          2360\n",
    "nombre_exposed        518\n",
    "nombre_recovered    16180\n",
    "Name: 663, dtype: int64"
   ]
  },
  {
   "cell_type": "markdown",
   "id": "3541ae62",
   "metadata": {},
   "source": [
    "nombre_infected       946\n",
    "nombre_sain          2365\n",
    "nombre_exposed        521\n",
    "nombre_recovered    16168\n",
    "Name: 664, dtype: int64"
   ]
  },
  {
   "cell_type": "markdown",
   "id": "2ba4fbe2",
   "metadata": {},
   "source": [
    "nombre_infected       976\n",
    "nombre_sain          2358\n",
    "nombre_exposed        488\n",
    "nombre_recovered    16178\n",
    "Name: 665, dtype: int64"
   ]
  },
  {
   "cell_type": "markdown",
   "id": "02011650",
   "metadata": {},
   "source": [
    "nombre_infected       981\n",
    "nombre_sain          2328\n",
    "nombre_exposed        496\n",
    "nombre_recovered    16195\n",
    "Name: 666, dtype: int64"
   ]
  },
  {
   "cell_type": "markdown",
   "id": "d7bf873b",
   "metadata": {},
   "source": [
    "nombre_infected       989\n",
    "nombre_sain          2311\n",
    "nombre_exposed        500\n",
    "nombre_recovered    16200\n",
    "Name: 667, dtype: int64"
   ]
  },
  {
   "cell_type": "markdown",
   "id": "7e350bc2",
   "metadata": {},
   "source": [
    "nombre_infected       970\n",
    "nombre_sain          2303\n",
    "nombre_exposed        522\n",
    "nombre_recovered    16205\n",
    "Name: 668, dtype: int64"
   ]
  },
  {
   "cell_type": "markdown",
   "id": "0f223dc1",
   "metadata": {},
   "source": [
    "nombre_infected       955\n",
    "nombre_sain          2271\n",
    "nombre_exposed        530\n",
    "nombre_recovered    16244\n",
    "Name: 669, dtype: int64"
   ]
  },
  {
   "cell_type": "markdown",
   "id": "09e7fd46",
   "metadata": {},
   "source": [
    "nombre_infected       973\n",
    "nombre_sain          2218\n",
    "nombre_exposed        545\n",
    "nombre_recovered    16264\n",
    "Name: 670, dtype: int64"
   ]
  },
  {
   "cell_type": "markdown",
   "id": "f52b2dc8",
   "metadata": {},
   "source": [
    "nombre_infected       963\n",
    "nombre_sain          2212\n",
    "nombre_exposed        542\n",
    "nombre_recovered    16283\n",
    "Name: 671, dtype: int64"
   ]
  },
  {
   "cell_type": "markdown",
   "id": "55e5b662",
   "metadata": {},
   "source": [
    "nombre_infected       975\n",
    "nombre_sain          2224\n",
    "nombre_exposed        531\n",
    "nombre_recovered    16270\n",
    "Name: 672, dtype: int64"
   ]
  },
  {
   "cell_type": "markdown",
   "id": "d8e05627",
   "metadata": {},
   "source": [
    "nombre_infected       989\n",
    "nombre_sain          2210\n",
    "nombre_exposed        505\n",
    "nombre_recovered    16296\n",
    "Name: 673, dtype: int64"
   ]
  },
  {
   "cell_type": "markdown",
   "id": "7240979e",
   "metadata": {},
   "source": [
    "nombre_infected      1001\n",
    "nombre_sain          2185\n",
    "nombre_exposed        496\n",
    "nombre_recovered    16318\n",
    "Name: 674, dtype: int64"
   ]
  },
  {
   "cell_type": "markdown",
   "id": "3b6956c4",
   "metadata": {},
   "source": [
    "nombre_infected       978\n",
    "nombre_sain          2165\n",
    "nombre_exposed        523\n",
    "nombre_recovered    16334\n",
    "Name: 675, dtype: int64"
   ]
  },
  {
   "cell_type": "markdown",
   "id": "30e7417e",
   "metadata": {},
   "source": [
    "nombre_infected       987\n",
    "nombre_sain          2161\n",
    "nombre_exposed        512\n",
    "nombre_recovered    16340\n",
    "Name: 676, dtype: int64"
   ]
  },
  {
   "cell_type": "markdown",
   "id": "8d97d0e9",
   "metadata": {},
   "source": [
    "nombre_infected       999\n",
    "nombre_sain          2166\n",
    "nombre_exposed        474\n",
    "nombre_recovered    16361\n",
    "Name: 677, dtype: int64"
   ]
  },
  {
   "cell_type": "markdown",
   "id": "38cf8e63",
   "metadata": {},
   "source": [
    "nombre_infected      1010\n",
    "nombre_sain          2152\n",
    "nombre_exposed        473\n",
    "nombre_recovered    16365\n",
    "Name: 678, dtype: int64"
   ]
  },
  {
   "cell_type": "markdown",
   "id": "56aa6923",
   "metadata": {},
   "source": [
    "nombre_infected      1006\n",
    "nombre_sain          2141\n",
    "nombre_exposed        491\n",
    "nombre_recovered    16362\n",
    "Name: 679, dtype: int64"
   ]
  },
  {
   "cell_type": "markdown",
   "id": "355dc492",
   "metadata": {},
   "source": [
    "nombre_infected      1010\n",
    "nombre_sain          2120\n",
    "nombre_exposed        491\n",
    "nombre_recovered    16379\n",
    "Name: 680, dtype: int64"
   ]
  },
  {
   "cell_type": "markdown",
   "id": "318e2614",
   "metadata": {},
   "source": [
    "nombre_infected       985\n",
    "nombre_sain          2119\n",
    "nombre_exposed        494\n",
    "nombre_recovered    16402\n",
    "Name: 681, dtype: int64"
   ]
  },
  {
   "cell_type": "markdown",
   "id": "04ab51b2",
   "metadata": {},
   "source": [
    "nombre_infected       990\n",
    "nombre_sain          2119\n",
    "nombre_exposed        480\n",
    "nombre_recovered    16411\n",
    "Name: 682, dtype: int64"
   ]
  },
  {
   "cell_type": "markdown",
   "id": "50caded7",
   "metadata": {},
   "source": [
    "nombre_infected      1010\n",
    "nombre_sain          2113\n",
    "nombre_exposed        465\n",
    "nombre_recovered    16412\n",
    "Name: 683, dtype: int64"
   ]
  },
  {
   "cell_type": "markdown",
   "id": "f3f3da9a",
   "metadata": {},
   "source": [
    "nombre_infected       992\n",
    "nombre_sain          2120\n",
    "nombre_exposed        465\n",
    "nombre_recovered    16423\n",
    "Name: 684, dtype: int64"
   ]
  },
  {
   "cell_type": "markdown",
   "id": "da705cab",
   "metadata": {},
   "source": [
    "nombre_infected      1004\n",
    "nombre_sain          2117\n",
    "nombre_exposed        455\n",
    "nombre_recovered    16424\n",
    "Name: 685, dtype: int64"
   ]
  },
  {
   "cell_type": "markdown",
   "id": "12b8cd25",
   "metadata": {},
   "source": [
    "nombre_infected       990\n",
    "nombre_sain          2126\n",
    "nombre_exposed        449\n",
    "nombre_recovered    16435\n",
    "Name: 686, dtype: int64"
   ]
  },
  {
   "cell_type": "markdown",
   "id": "d42e8b9c",
   "metadata": {},
   "source": [
    "nombre_infected       985\n",
    "nombre_sain          2134\n",
    "nombre_exposed        466\n",
    "nombre_recovered    16415\n",
    "Name: 687, dtype: int64"
   ]
  },
  {
   "cell_type": "markdown",
   "id": "e3dd1454",
   "metadata": {},
   "source": [
    "nombre_infected       974\n",
    "nombre_sain          2145\n",
    "nombre_exposed        463\n",
    "nombre_recovered    16418\n",
    "Name: 688, dtype: int64"
   ]
  },
  {
   "cell_type": "markdown",
   "id": "b024583b",
   "metadata": {},
   "source": [
    "nombre_infected       950\n",
    "nombre_sain          2144\n",
    "nombre_exposed        474\n",
    "nombre_recovered    16432\n",
    "Name: 689, dtype: int64"
   ]
  },
  {
   "cell_type": "markdown",
   "id": "f697b0dd",
   "metadata": {},
   "source": [
    "nombre_infected       947\n",
    "nombre_sain          2145\n",
    "nombre_exposed        457\n",
    "nombre_recovered    16451\n",
    "Name: 690, dtype: int64"
   ]
  },
  {
   "cell_type": "markdown",
   "id": "e5202679",
   "metadata": {},
   "source": [
    "nombre_infected       943\n",
    "nombre_sain          2155\n",
    "nombre_exposed        440\n",
    "nombre_recovered    16462\n",
    "Name: 691, dtype: int64"
   ]
  },
  {
   "cell_type": "markdown",
   "id": "ddb9a832",
   "metadata": {},
   "source": [
    "nombre_infected       939\n",
    "nombre_sain          2164\n",
    "nombre_exposed        433\n",
    "nombre_recovered    16464\n",
    "Name: 692, dtype: int64"
   ]
  },
  {
   "cell_type": "markdown",
   "id": "526f5de0",
   "metadata": {},
   "source": [
    "nombre_infected       914\n",
    "nombre_sain          2118\n",
    "nombre_exposed        491\n",
    "nombre_recovered    16477\n",
    "Name: 693, dtype: int64"
   ]
  },
  {
   "cell_type": "markdown",
   "id": "c07d50f8",
   "metadata": {},
   "source": [
    "nombre_infected       897\n",
    "nombre_sain          2141\n",
    "nombre_exposed        492\n",
    "nombre_recovered    16470\n",
    "Name: 694, dtype: int64"
   ]
  },
  {
   "cell_type": "markdown",
   "id": "4d0d2c1b",
   "metadata": {},
   "source": [
    "nombre_infected       906\n",
    "nombre_sain          2121\n",
    "nombre_exposed        499\n",
    "nombre_recovered    16474\n",
    "Name: 695, dtype: int64"
   ]
  },
  {
   "cell_type": "markdown",
   "id": "f392406b",
   "metadata": {},
   "source": [
    "nombre_infected       901\n",
    "nombre_sain          2125\n",
    "nombre_exposed        512\n",
    "nombre_recovered    16462\n",
    "Name: 696, dtype: int64"
   ]
  },
  {
   "cell_type": "markdown",
   "id": "c019832d",
   "metadata": {},
   "source": [
    "nombre_infected       896\n",
    "nombre_sain          2110\n",
    "nombre_exposed        498\n",
    "nombre_recovered    16496\n",
    "Name: 697, dtype: int64"
   ]
  },
  {
   "cell_type": "markdown",
   "id": "459d43dc",
   "metadata": {},
   "source": [
    "nombre_infected       923\n",
    "nombre_sain          2125\n",
    "nombre_exposed        486\n",
    "nombre_recovered    16466\n",
    "Name: 698, dtype: int64"
   ]
  },
  {
   "cell_type": "markdown",
   "id": "8e5081bc",
   "metadata": {},
   "source": [
    "nombre_infected       907\n",
    "nombre_sain          2115\n",
    "nombre_exposed        495\n",
    "nombre_recovered    16483\n",
    "Name: 699, dtype: int64"
   ]
  },
  {
   "cell_type": "markdown",
   "id": "5acaf20f",
   "metadata": {},
   "source": [
    "nombre_infected       933\n",
    "nombre_sain          2116\n",
    "nombre_exposed        472\n",
    "nombre_recovered    16479\n",
    "Name: 700, dtype: int64"
   ]
  },
  {
   "cell_type": "markdown",
   "id": "ff6b4e06",
   "metadata": {},
   "source": [
    "nombre_infected       917\n",
    "nombre_sain          2103\n",
    "nombre_exposed        474\n",
    "nombre_recovered    16506\n",
    "Name: 701, dtype: int64"
   ]
  },
  {
   "cell_type": "markdown",
   "id": "43247451",
   "metadata": {},
   "source": [
    "nombre_infected       921\n",
    "nombre_sain          2095\n",
    "nombre_exposed        463\n",
    "nombre_recovered    16521\n",
    "Name: 702, dtype: int64"
   ]
  },
  {
   "cell_type": "markdown",
   "id": "080700a2",
   "metadata": {},
   "source": [
    "nombre_infected       922\n",
    "nombre_sain          2121\n",
    "nombre_exposed        450\n",
    "nombre_recovered    16507\n",
    "Name: 703, dtype: int64"
   ]
  },
  {
   "cell_type": "markdown",
   "id": "26efe464",
   "metadata": {},
   "source": [
    "nombre_infected       917\n",
    "nombre_sain          2120\n",
    "nombre_exposed        452\n",
    "nombre_recovered    16511\n",
    "Name: 704, dtype: int64"
   ]
  },
  {
   "cell_type": "markdown",
   "id": "8f3824b1",
   "metadata": {},
   "source": [
    "nombre_infected       903\n",
    "nombre_sain          2141\n",
    "nombre_exposed        447\n",
    "nombre_recovered    16509\n",
    "Name: 705, dtype: int64"
   ]
  },
  {
   "cell_type": "markdown",
   "id": "e0817f09",
   "metadata": {},
   "source": [
    "nombre_infected       908\n",
    "nombre_sain          2150\n",
    "nombre_exposed        433\n",
    "nombre_recovered    16509\n",
    "Name: 706, dtype: int64"
   ]
  },
  {
   "cell_type": "markdown",
   "id": "bdde4bb3",
   "metadata": {},
   "source": [
    "nombre_infected       894\n",
    "nombre_sain          2155\n",
    "nombre_exposed        436\n",
    "nombre_recovered    16515\n",
    "Name: 707, dtype: int64"
   ]
  },
  {
   "cell_type": "markdown",
   "id": "b681b109",
   "metadata": {},
   "source": [
    "nombre_infected       895\n",
    "nombre_sain          2126\n",
    "nombre_exposed        433\n",
    "nombre_recovered    16546\n",
    "Name: 708, dtype: int64"
   ]
  },
  {
   "cell_type": "markdown",
   "id": "7fb90ecd",
   "metadata": {},
   "source": [
    "nombre_infected       896\n",
    "nombre_sain          2138\n",
    "nombre_exposed        419\n",
    "nombre_recovered    16547\n",
    "Name: 709, dtype: int64"
   ]
  },
  {
   "cell_type": "markdown",
   "id": "b4ee95e9",
   "metadata": {},
   "source": [
    "nombre_infected       875\n",
    "nombre_sain          2137\n",
    "nombre_exposed        443\n",
    "nombre_recovered    16545\n",
    "Name: 710, dtype: int64"
   ]
  },
  {
   "cell_type": "markdown",
   "id": "767964c6",
   "metadata": {},
   "source": [
    "nombre_infected       868\n",
    "nombre_sain          2136\n",
    "nombre_exposed        453\n",
    "nombre_recovered    16543\n",
    "Name: 711, dtype: int64"
   ]
  },
  {
   "cell_type": "markdown",
   "id": "1ad0a186",
   "metadata": {},
   "source": [
    "nombre_infected       876\n",
    "nombre_sain          2167\n",
    "nombre_exposed        456\n",
    "nombre_recovered    16501\n",
    "Name: 712, dtype: int64"
   ]
  },
  {
   "cell_type": "markdown",
   "id": "84aef7a3",
   "metadata": {},
   "source": [
    "nombre_infected       893\n",
    "nombre_sain          2196\n",
    "nombre_exposed        448\n",
    "nombre_recovered    16463\n",
    "Name: 713, dtype: int64"
   ]
  },
  {
   "cell_type": "markdown",
   "id": "09750aae",
   "metadata": {},
   "source": [
    "nombre_infected       897\n",
    "nombre_sain          2211\n",
    "nombre_exposed        450\n",
    "nombre_recovered    16442\n",
    "Name: 714, dtype: int64"
   ]
  },
  {
   "cell_type": "markdown",
   "id": "3887cdd3",
   "metadata": {},
   "source": [
    "nombre_infected       894\n",
    "nombre_sain          2233\n",
    "nombre_exposed        445\n",
    "nombre_recovered    16428\n",
    "Name: 715, dtype: int64"
   ]
  },
  {
   "cell_type": "markdown",
   "id": "5b113e5d",
   "metadata": {},
   "source": [
    "nombre_infected       879\n",
    "nombre_sain          2247\n",
    "nombre_exposed        448\n",
    "nombre_recovered    16426\n",
    "Name: 716, dtype: int64"
   ]
  },
  {
   "cell_type": "markdown",
   "id": "4157782c",
   "metadata": {},
   "source": [
    "nombre_infected       883\n",
    "nombre_sain          2269\n",
    "nombre_exposed        436\n",
    "nombre_recovered    16412\n",
    "Name: 717, dtype: int64"
   ]
  },
  {
   "cell_type": "markdown",
   "id": "66d8e19e",
   "metadata": {},
   "source": [
    "nombre_infected       878\n",
    "nombre_sain          2265\n",
    "nombre_exposed        450\n",
    "nombre_recovered    16407\n",
    "Name: 718, dtype: int64"
   ]
  },
  {
   "cell_type": "markdown",
   "id": "e9b35169",
   "metadata": {},
   "source": [
    "nombre_infected       859\n",
    "nombre_sain          2269\n",
    "nombre_exposed        465\n",
    "nombre_recovered    16407\n",
    "Name: 719, dtype: int64"
   ]
  },
  {
   "cell_type": "markdown",
   "id": "bba528d9",
   "metadata": {},
   "source": [
    "nombre_infected       881\n",
    "nombre_sain          2264\n",
    "nombre_exposed        472\n",
    "nombre_recovered    16383\n",
    "Name: 720, dtype: int64"
   ]
  },
  {
   "cell_type": "markdown",
   "id": "d45f2c98",
   "metadata": {},
   "source": [
    "nombre_infected       866\n",
    "nombre_sain          2284\n",
    "nombre_exposed        474\n",
    "nombre_recovered    16376\n",
    "Name: 721, dtype: int64"
   ]
  },
  {
   "cell_type": "markdown",
   "id": "64bb6d3a",
   "metadata": {},
   "source": [
    "nombre_infected       857\n",
    "nombre_sain          2320\n",
    "nombre_exposed        470\n",
    "nombre_recovered    16353\n",
    "Name: 722, dtype: int64"
   ]
  },
  {
   "cell_type": "markdown",
   "id": "e075072d",
   "metadata": {},
   "source": [
    "nombre_infected       840\n",
    "nombre_sain          2330\n",
    "nombre_exposed        467\n",
    "nombre_recovered    16363\n",
    "Name: 723, dtype: int64"
   ]
  },
  {
   "cell_type": "markdown",
   "id": "a09e2949",
   "metadata": {},
   "source": [
    "nombre_infected       844\n",
    "nombre_sain          2355\n",
    "nombre_exposed        476\n",
    "nombre_recovered    16325\n",
    "Name: 724, dtype: int64"
   ]
  },
  {
   "cell_type": "markdown",
   "id": "43f2f8dc",
   "metadata": {},
   "source": [
    "nombre_infected       850\n",
    "nombre_sain          2374\n",
    "nombre_exposed        465\n",
    "nombre_recovered    16311\n",
    "Name: 725, dtype: int64"
   ]
  },
  {
   "cell_type": "markdown",
   "id": "2ea3b389",
   "metadata": {},
   "source": [
    "nombre_infected       870\n",
    "nombre_sain          2387\n",
    "nombre_exposed        465\n",
    "nombre_recovered    16278\n",
    "Name: 726, dtype: int64"
   ]
  },
  {
   "cell_type": "markdown",
   "id": "04c7ce52",
   "metadata": {},
   "source": [
    "nombre_infected       838\n",
    "nombre_sain          2388\n",
    "nombre_exposed        501\n",
    "nombre_recovered    16273\n",
    "Name: 727, dtype: int64"
   ]
  },
  {
   "cell_type": "markdown",
   "id": "1f52b7c1",
   "metadata": {},
   "source": [
    "nombre_infected       841\n",
    "nombre_sain          2390\n",
    "nombre_exposed        506\n",
    "nombre_recovered    16263\n",
    "Name: 728, dtype: int64"
   ]
  },
  {
   "cell_type": "markdown",
   "id": "400ff7ee",
   "metadata": {},
   "source": [
    "nombre_infected       855\n",
    "nombre_sain          2399\n",
    "nombre_exposed        494\n",
    "nombre_recovered    16252\n",
    "Name: 729, dtype: int64"
   ]
  },
  {
   "cell_type": "markdown",
   "id": "7b99825a",
   "metadata": {},
   "source": [
    "nombre_infected       869\n",
    "nombre_sain          2417\n",
    "nombre_exposed        495\n",
    "nombre_recovered    16219\n",
    "Name: 730, dtype: int64"
   ]
  }
 ],
 "metadata": {},
 "nbformat": 4,
 "nbformat_minor": 5
}
