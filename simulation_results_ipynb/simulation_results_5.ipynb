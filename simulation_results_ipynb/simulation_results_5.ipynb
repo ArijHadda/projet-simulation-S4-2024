{
 "cells": [
  {
   "cell_type": "markdown",
   "id": "7b1a3e2f",
   "metadata": {},
   "source": [
    "nombre_infected        20\n",
    "nombre_sain         19980\n",
    "nombre_exposed          0\n",
    "nombre_recovered        0\n",
    "Name: 0, dtype: int64"
   ]
  },
  {
   "cell_type": "markdown",
   "id": "9158f1f1",
   "metadata": {},
   "source": [
    "nombre_infected        20\n",
    "nombre_sain         19965\n",
    "nombre_exposed         15\n",
    "nombre_recovered        0\n",
    "Name: 1, dtype: int64"
   ]
  },
  {
   "cell_type": "markdown",
   "id": "e8eebb34",
   "metadata": {},
   "source": [
    "nombre_infected        20\n",
    "nombre_sain         19948\n",
    "nombre_exposed         32\n",
    "nombre_recovered        0\n",
    "Name: 2, dtype: int64"
   ]
  },
  {
   "cell_type": "markdown",
   "id": "65aefb0a",
   "metadata": {},
   "source": [
    "nombre_infected        22\n",
    "nombre_sain         19925\n",
    "nombre_exposed         53\n",
    "nombre_recovered        0\n",
    "Name: 3, dtype: int64"
   ]
  },
  {
   "cell_type": "markdown",
   "id": "5e01c652",
   "metadata": {},
   "source": [
    "nombre_infected        26\n",
    "nombre_sain         19896\n",
    "nombre_exposed         78\n",
    "nombre_recovered        0\n",
    "Name: 4, dtype: int64"
   ]
  },
  {
   "cell_type": "markdown",
   "id": "758807cf",
   "metadata": {},
   "source": [
    "nombre_infected        39\n",
    "nombre_sain         19856\n",
    "nombre_exposed        105\n",
    "nombre_recovered        0\n",
    "Name: 5, dtype: int64"
   ]
  },
  {
   "cell_type": "markdown",
   "id": "616e6cd8",
   "metadata": {},
   "source": [
    "nombre_infected        38\n",
    "nombre_sain         19810\n",
    "nombre_exposed        140\n",
    "nombre_recovered       12\n",
    "Name: 6, dtype: int64"
   ]
  },
  {
   "cell_type": "markdown",
   "id": "e127ada1",
   "metadata": {},
   "source": [
    "nombre_infected        60\n",
    "nombre_sain         19743\n",
    "nombre_exposed        183\n",
    "nombre_recovered       14\n",
    "Name: 7, dtype: int64"
   ]
  },
  {
   "cell_type": "markdown",
   "id": "73136de7",
   "metadata": {},
   "source": [
    "nombre_infected        89\n",
    "nombre_sain         19655\n",
    "nombre_exposed        231\n",
    "nombre_recovered       25\n",
    "Name: 8, dtype: int64"
   ]
  },
  {
   "cell_type": "markdown",
   "id": "c8f3c176",
   "metadata": {},
   "source": [
    "nombre_infected       126\n",
    "nombre_sain         19513\n",
    "nombre_exposed        330\n",
    "nombre_recovered       31\n",
    "Name: 9, dtype: int64"
   ]
  },
  {
   "cell_type": "markdown",
   "id": "9df07a85",
   "metadata": {},
   "source": [
    "nombre_infected       173\n",
    "nombre_sain         19356\n",
    "nombre_exposed        431\n",
    "nombre_recovered       40\n",
    "Name: 10, dtype: int64"
   ]
  },
  {
   "cell_type": "markdown",
   "id": "b6bb5951",
   "metadata": {},
   "source": [
    "nombre_infected       225\n",
    "nombre_sain         19108\n",
    "nombre_exposed        612\n",
    "nombre_recovered       55\n",
    "Name: 11, dtype: int64"
   ]
  },
  {
   "cell_type": "markdown",
   "id": "a36129f9",
   "metadata": {},
   "source": [
    "nombre_infected       306\n",
    "nombre_sain         18781\n",
    "nombre_exposed        842\n",
    "nombre_recovered       71\n",
    "Name: 12, dtype: int64"
   ]
  },
  {
   "cell_type": "markdown",
   "id": "bfbe8b2f",
   "metadata": {},
   "source": [
    "nombre_infected       432\n",
    "nombre_sain         18380\n",
    "nombre_exposed       1097\n",
    "nombre_recovered       91\n",
    "Name: 13, dtype: int64"
   ]
  },
  {
   "cell_type": "markdown",
   "id": "8395e0d3",
   "metadata": {},
   "source": [
    "nombre_infected       578\n",
    "nombre_sain         17827\n",
    "nombre_exposed       1476\n",
    "nombre_recovered      119\n",
    "Name: 14, dtype: int64"
   ]
  },
  {
   "cell_type": "markdown",
   "id": "6aaf0efd",
   "metadata": {},
   "source": [
    "nombre_infected       784\n",
    "nombre_sain         17065\n",
    "nombre_exposed       1979\n",
    "nombre_recovered      172\n",
    "Name: 15, dtype: int64"
   ]
  },
  {
   "cell_type": "markdown",
   "id": "e446489e",
   "metadata": {},
   "source": [
    "nombre_infected      1068\n",
    "nombre_sain         16162\n",
    "nombre_exposed       2535\n",
    "nombre_recovered      235\n",
    "Name: 16, dtype: int64"
   ]
  },
  {
   "cell_type": "markdown",
   "id": "061eb82d",
   "metadata": {},
   "source": [
    "nombre_infected      1422\n",
    "nombre_sain         15082\n",
    "nombre_exposed       3178\n",
    "nombre_recovered      318\n",
    "Name: 17, dtype: int64"
   ]
  },
  {
   "cell_type": "markdown",
   "id": "be4c05cb",
   "metadata": {},
   "source": [
    "nombre_infected      1904\n",
    "nombre_sain         13693\n",
    "nombre_exposed       3952\n",
    "nombre_recovered      451\n",
    "Name: 18, dtype: int64"
   ]
  },
  {
   "cell_type": "markdown",
   "id": "9f0243be",
   "metadata": {},
   "source": [
    "nombre_infected      2513\n",
    "nombre_sain         12088\n",
    "nombre_exposed       4773\n",
    "nombre_recovered      626\n",
    "Name: 19, dtype: int64"
   ]
  },
  {
   "cell_type": "markdown",
   "id": "21e33cf6",
   "metadata": {},
   "source": [
    "nombre_infected      3151\n",
    "nombre_sain         10329\n",
    "nombre_exposed       5649\n",
    "nombre_recovered      871\n",
    "Name: 20, dtype: int64"
   ]
  },
  {
   "cell_type": "markdown",
   "id": "a1fe5b59",
   "metadata": {},
   "source": [
    "nombre_infected     3919\n",
    "nombre_sain         8515\n",
    "nombre_exposed      6377\n",
    "nombre_recovered    1189\n",
    "Name: 21, dtype: int64"
   ]
  },
  {
   "cell_type": "markdown",
   "id": "6156cc71",
   "metadata": {},
   "source": [
    "nombre_infected     4866\n",
    "nombre_sain         6823\n",
    "nombre_exposed      6727\n",
    "nombre_recovered    1584\n",
    "Name: 22, dtype: int64"
   ]
  },
  {
   "cell_type": "markdown",
   "id": "adaeb5fd",
   "metadata": {},
   "source": [
    "nombre_infected     5846\n",
    "nombre_sain         5196\n",
    "nombre_exposed      6939\n",
    "nombre_recovered    2019\n",
    "Name: 23, dtype: int64"
   ]
  },
  {
   "cell_type": "markdown",
   "id": "f5403aea",
   "metadata": {},
   "source": [
    "nombre_infected     6869\n",
    "nombre_sain         3795\n",
    "nombre_exposed      6768\n",
    "nombre_recovered    2568\n",
    "Name: 24, dtype: int64"
   ]
  },
  {
   "cell_type": "markdown",
   "id": "ace1fef9",
   "metadata": {},
   "source": [
    "nombre_infected     7782\n",
    "nombre_sain         2641\n",
    "nombre_exposed      6346\n",
    "nombre_recovered    3231\n",
    "Name: 25, dtype: int64"
   ]
  },
  {
   "cell_type": "markdown",
   "id": "07b8695a",
   "metadata": {},
   "source": [
    "nombre_infected     8429\n",
    "nombre_sain         1875\n",
    "nombre_exposed      5638\n",
    "nombre_recovered    4058\n",
    "Name: 26, dtype: int64"
   ]
  },
  {
   "cell_type": "markdown",
   "id": "04709232",
   "metadata": {},
   "source": [
    "nombre_infected     8865\n",
    "nombre_sain         1261\n",
    "nombre_exposed      4891\n",
    "nombre_recovered    4983\n",
    "Name: 27, dtype: int64"
   ]
  },
  {
   "cell_type": "markdown",
   "id": "92327f24",
   "metadata": {},
   "source": [
    "nombre_infected     9059\n",
    "nombre_sain          859\n",
    "nombre_exposed      4099\n",
    "nombre_recovered    5983\n",
    "Name: 28, dtype: int64"
   ]
  },
  {
   "cell_type": "markdown",
   "id": "96bae962",
   "metadata": {},
   "source": [
    "nombre_infected     9060\n",
    "nombre_sain          566\n",
    "nombre_exposed      3364\n",
    "nombre_recovered    7010\n",
    "Name: 29, dtype: int64"
   ]
  },
  {
   "cell_type": "markdown",
   "id": "0136ed5e",
   "metadata": {},
   "source": [
    "nombre_infected     8759\n",
    "nombre_sain          383\n",
    "nombre_exposed      2716\n",
    "nombre_recovered    8142\n",
    "Name: 30, dtype: int64"
   ]
  },
  {
   "cell_type": "markdown",
   "id": "e46aaf64",
   "metadata": {},
   "source": [
    "nombre_infected     8374\n",
    "nombre_sain          287\n",
    "nombre_exposed      2137\n",
    "nombre_recovered    9202\n",
    "Name: 31, dtype: int64"
   ]
  },
  {
   "cell_type": "markdown",
   "id": "aaff9dea",
   "metadata": {},
   "source": [
    "nombre_infected      7874\n",
    "nombre_sain           221\n",
    "nombre_exposed       1682\n",
    "nombre_recovered    10223\n",
    "Name: 32, dtype: int64"
   ]
  },
  {
   "cell_type": "markdown",
   "id": "b370becf",
   "metadata": {},
   "source": [
    "nombre_infected      7268\n",
    "nombre_sain           184\n",
    "nombre_exposed       1311\n",
    "nombre_recovered    11237\n",
    "Name: 33, dtype: int64"
   ]
  },
  {
   "cell_type": "markdown",
   "id": "9aa1d76a",
   "metadata": {},
   "source": [
    "nombre_infected      6680\n",
    "nombre_sain           158\n",
    "nombre_exposed       1034\n",
    "nombre_recovered    12128\n",
    "Name: 34, dtype: int64"
   ]
  },
  {
   "cell_type": "markdown",
   "id": "88c2906f",
   "metadata": {},
   "source": [
    "nombre_infected      6058\n",
    "nombre_sain           151\n",
    "nombre_exposed        822\n",
    "nombre_recovered    12969\n",
    "Name: 35, dtype: int64"
   ]
  },
  {
   "cell_type": "markdown",
   "id": "797ce94b",
   "metadata": {},
   "source": [
    "nombre_infected      5427\n",
    "nombre_sain           138\n",
    "nombre_exposed        688\n",
    "nombre_recovered    13747\n",
    "Name: 36, dtype: int64"
   ]
  },
  {
   "cell_type": "markdown",
   "id": "16f3910a",
   "metadata": {},
   "source": [
    "nombre_infected      4850\n",
    "nombre_sain           157\n",
    "nombre_exposed        545\n",
    "nombre_recovered    14448\n",
    "Name: 37, dtype: int64"
   ]
  },
  {
   "cell_type": "markdown",
   "id": "79dc85c7",
   "metadata": {},
   "source": [
    "nombre_infected      4330\n",
    "nombre_sain           154\n",
    "nombre_exposed        444\n",
    "nombre_recovered    15072\n",
    "Name: 38, dtype: int64"
   ]
  },
  {
   "cell_type": "markdown",
   "id": "d4a341fb",
   "metadata": {},
   "source": [
    "nombre_infected      3823\n",
    "nombre_sain           162\n",
    "nombre_exposed        373\n",
    "nombre_recovered    15642\n",
    "Name: 39, dtype: int64"
   ]
  },
  {
   "cell_type": "markdown",
   "id": "aefb4e4c",
   "metadata": {},
   "source": [
    "nombre_infected      3423\n",
    "nombre_sain           181\n",
    "nombre_exposed        301\n",
    "nombre_recovered    16095\n",
    "Name: 40, dtype: int64"
   ]
  },
  {
   "cell_type": "markdown",
   "id": "887fa32a",
   "metadata": {},
   "source": [
    "nombre_infected      3034\n",
    "nombre_sain           182\n",
    "nombre_exposed        255\n",
    "nombre_recovered    16529\n",
    "Name: 41, dtype: int64"
   ]
  },
  {
   "cell_type": "markdown",
   "id": "130303cb",
   "metadata": {},
   "source": [
    "nombre_infected      2633\n",
    "nombre_sain           192\n",
    "nombre_exposed        228\n",
    "nombre_recovered    16947\n",
    "Name: 42, dtype: int64"
   ]
  },
  {
   "cell_type": "markdown",
   "id": "29a42b07",
   "metadata": {},
   "source": [
    "nombre_infected      2307\n",
    "nombre_sain           224\n",
    "nombre_exposed        202\n",
    "nombre_recovered    17267\n",
    "Name: 43, dtype: int64"
   ]
  },
  {
   "cell_type": "markdown",
   "id": "3cef30bd",
   "metadata": {},
   "source": [
    "nombre_infected      2011\n",
    "nombre_sain           246\n",
    "nombre_exposed        180\n",
    "nombre_recovered    17563\n",
    "Name: 44, dtype: int64"
   ]
  },
  {
   "cell_type": "markdown",
   "id": "072925ad",
   "metadata": {},
   "source": [
    "nombre_infected      1746\n",
    "nombre_sain           283\n",
    "nombre_exposed        169\n",
    "nombre_recovered    17802\n",
    "Name: 45, dtype: int64"
   ]
  },
  {
   "cell_type": "markdown",
   "id": "127df860",
   "metadata": {},
   "source": [
    "nombre_infected      1491\n",
    "nombre_sain           318\n",
    "nombre_exposed        158\n",
    "nombre_recovered    18033\n",
    "Name: 46, dtype: int64"
   ]
  },
  {
   "cell_type": "markdown",
   "id": "b39c930a",
   "metadata": {},
   "source": [
    "nombre_infected      1278\n",
    "nombre_sain           374\n",
    "nombre_exposed        141\n",
    "nombre_recovered    18207\n",
    "Name: 47, dtype: int64"
   ]
  },
  {
   "cell_type": "markdown",
   "id": "2135085a",
   "metadata": {},
   "source": [
    "nombre_infected      1121\n",
    "nombre_sain           433\n",
    "nombre_exposed        143\n",
    "nombre_recovered    18303\n",
    "Name: 48, dtype: int64"
   ]
  },
  {
   "cell_type": "markdown",
   "id": "dab9545a",
   "metadata": {},
   "source": [
    "nombre_infected       980\n",
    "nombre_sain           475\n",
    "nombre_exposed        148\n",
    "nombre_recovered    18397\n",
    "Name: 49, dtype: int64"
   ]
  },
  {
   "cell_type": "markdown",
   "id": "d11da3ea",
   "metadata": {},
   "source": [
    "nombre_infected       863\n",
    "nombre_sain           518\n",
    "nombre_exposed        158\n",
    "nombre_recovered    18461\n",
    "Name: 50, dtype: int64"
   ]
  },
  {
   "cell_type": "markdown",
   "id": "34ba35ed",
   "metadata": {},
   "source": [
    "nombre_infected       737\n",
    "nombre_sain           570\n",
    "nombre_exposed        154\n",
    "nombre_recovered    18539\n",
    "Name: 51, dtype: int64"
   ]
  },
  {
   "cell_type": "markdown",
   "id": "3d150aa1",
   "metadata": {},
   "source": [
    "nombre_infected       650\n",
    "nombre_sain           641\n",
    "nombre_exposed        136\n",
    "nombre_recovered    18573\n",
    "Name: 52, dtype: int64"
   ]
  },
  {
   "cell_type": "markdown",
   "id": "8789c35d",
   "metadata": {},
   "source": [
    "nombre_infected       590\n",
    "nombre_sain           693\n",
    "nombre_exposed        121\n",
    "nombre_recovered    18596\n",
    "Name: 53, dtype: int64"
   ]
  },
  {
   "cell_type": "markdown",
   "id": "fadb9265",
   "metadata": {},
   "source": [
    "nombre_infected       523\n",
    "nombre_sain           751\n",
    "nombre_exposed        124\n",
    "nombre_recovered    18602\n",
    "Name: 54, dtype: int64"
   ]
  },
  {
   "cell_type": "markdown",
   "id": "99961ecd",
   "metadata": {},
   "source": [
    "nombre_infected       452\n",
    "nombre_sain           807\n",
    "nombre_exposed        127\n",
    "nombre_recovered    18614\n",
    "Name: 55, dtype: int64"
   ]
  },
  {
   "cell_type": "markdown",
   "id": "eab22343",
   "metadata": {},
   "source": [
    "nombre_infected       425\n",
    "nombre_sain           877\n",
    "nombre_exposed        111\n",
    "nombre_recovered    18587\n",
    "Name: 56, dtype: int64"
   ]
  },
  {
   "cell_type": "markdown",
   "id": "ab7fb31f",
   "metadata": {},
   "source": [
    "nombre_infected       385\n",
    "nombre_sain           948\n",
    "nombre_exposed        104\n",
    "nombre_recovered    18563\n",
    "Name: 57, dtype: int64"
   ]
  },
  {
   "cell_type": "markdown",
   "id": "a96d3905",
   "metadata": {},
   "source": [
    "nombre_infected       351\n",
    "nombre_sain          1015\n",
    "nombre_exposed         99\n",
    "nombre_recovered    18535\n",
    "Name: 58, dtype: int64"
   ]
  },
  {
   "cell_type": "markdown",
   "id": "3cc992ea",
   "metadata": {},
   "source": [
    "nombre_infected       312\n",
    "nombre_sain          1064\n",
    "nombre_exposed        104\n",
    "nombre_recovered    18520\n",
    "Name: 59, dtype: int64"
   ]
  },
  {
   "cell_type": "markdown",
   "id": "747f5b17",
   "metadata": {},
   "source": [
    "nombre_infected       288\n",
    "nombre_sain          1125\n",
    "nombre_exposed        100\n",
    "nombre_recovered    18487\n",
    "Name: 60, dtype: int64"
   ]
  },
  {
   "cell_type": "markdown",
   "id": "68a63d6b",
   "metadata": {},
   "source": [
    "nombre_infected       272\n",
    "nombre_sain          1195\n",
    "nombre_exposed         97\n",
    "nombre_recovered    18436\n",
    "Name: 61, dtype: int64"
   ]
  },
  {
   "cell_type": "markdown",
   "id": "38b5c05c",
   "metadata": {},
   "source": [
    "nombre_infected       252\n",
    "nombre_sain          1236\n",
    "nombre_exposed         97\n",
    "nombre_recovered    18415\n",
    "Name: 62, dtype: int64"
   ]
  },
  {
   "cell_type": "markdown",
   "id": "911a022b",
   "metadata": {},
   "source": [
    "nombre_infected       231\n",
    "nombre_sain          1280\n",
    "nombre_exposed         93\n",
    "nombre_recovered    18396\n",
    "Name: 63, dtype: int64"
   ]
  },
  {
   "cell_type": "markdown",
   "id": "ef4af309",
   "metadata": {},
   "source": [
    "nombre_infected       214\n",
    "nombre_sain          1327\n",
    "nombre_exposed         92\n",
    "nombre_recovered    18367\n",
    "Name: 64, dtype: int64"
   ]
  },
  {
   "cell_type": "markdown",
   "id": "c8455c9d",
   "metadata": {},
   "source": [
    "nombre_infected       192\n",
    "nombre_sain          1367\n",
    "nombre_exposed         93\n",
    "nombre_recovered    18348\n",
    "Name: 65, dtype: int64"
   ]
  },
  {
   "cell_type": "markdown",
   "id": "f937a5c8",
   "metadata": {},
   "source": [
    "nombre_infected       170\n",
    "nombre_sain          1413\n",
    "nombre_exposed         93\n",
    "nombre_recovered    18324\n",
    "Name: 66, dtype: int64"
   ]
  },
  {
   "cell_type": "markdown",
   "id": "923125cc",
   "metadata": {},
   "source": [
    "nombre_infected       155\n",
    "nombre_sain          1451\n",
    "nombre_exposed         82\n",
    "nombre_recovered    18312\n",
    "Name: 67, dtype: int64"
   ]
  },
  {
   "cell_type": "markdown",
   "id": "5b78f2b0",
   "metadata": {},
   "source": [
    "nombre_infected       147\n",
    "nombre_sain          1491\n",
    "nombre_exposed         78\n",
    "nombre_recovered    18284\n",
    "Name: 68, dtype: int64"
   ]
  },
  {
   "cell_type": "markdown",
   "id": "2a896753",
   "metadata": {},
   "source": [
    "nombre_infected       135\n",
    "nombre_sain          1524\n",
    "nombre_exposed         75\n",
    "nombre_recovered    18266\n",
    "Name: 69, dtype: int64"
   ]
  },
  {
   "cell_type": "markdown",
   "id": "8cf24c83",
   "metadata": {},
   "source": [
    "nombre_infected       133\n",
    "nombre_sain          1550\n",
    "nombre_exposed         76\n",
    "nombre_recovered    18241\n",
    "Name: 70, dtype: int64"
   ]
  },
  {
   "cell_type": "markdown",
   "id": "988c9a90",
   "metadata": {},
   "source": [
    "nombre_infected       114\n",
    "nombre_sain          1598\n",
    "nombre_exposed         66\n",
    "nombre_recovered    18222\n",
    "Name: 71, dtype: int64"
   ]
  },
  {
   "cell_type": "markdown",
   "id": "53638a1f",
   "metadata": {},
   "source": [
    "nombre_infected       108\n",
    "nombre_sain          1648\n",
    "nombre_exposed         62\n",
    "nombre_recovered    18182\n",
    "Name: 72, dtype: int64"
   ]
  },
  {
   "cell_type": "markdown",
   "id": "67b8fcba",
   "metadata": {},
   "source": [
    "nombre_infected       112\n",
    "nombre_sain          1714\n",
    "nombre_exposed         55\n",
    "nombre_recovered    18119\n",
    "Name: 73, dtype: int64"
   ]
  },
  {
   "cell_type": "markdown",
   "id": "f65db573",
   "metadata": {},
   "source": [
    "nombre_infected       112\n",
    "nombre_sain          1750\n",
    "nombre_exposed         60\n",
    "nombre_recovered    18078\n",
    "Name: 74, dtype: int64"
   ]
  },
  {
   "cell_type": "markdown",
   "id": "0c6919e4",
   "metadata": {},
   "source": [
    "nombre_infected       114\n",
    "nombre_sain          1812\n",
    "nombre_exposed         61\n",
    "nombre_recovered    18013\n",
    "Name: 75, dtype: int64"
   ]
  },
  {
   "cell_type": "markdown",
   "id": "9de8b977",
   "metadata": {},
   "source": [
    "nombre_infected       111\n",
    "nombre_sain          1885\n",
    "nombre_exposed         60\n",
    "nombre_recovered    17944\n",
    "Name: 76, dtype: int64"
   ]
  },
  {
   "cell_type": "markdown",
   "id": "8516c86d",
   "metadata": {},
   "source": [
    "nombre_infected       105\n",
    "nombre_sain          1954\n",
    "nombre_exposed         62\n",
    "nombre_recovered    17879\n",
    "Name: 77, dtype: int64"
   ]
  },
  {
   "cell_type": "markdown",
   "id": "eac05e22",
   "metadata": {},
   "source": [
    "nombre_infected       101\n",
    "nombre_sain          2041\n",
    "nombre_exposed         62\n",
    "nombre_recovered    17796\n",
    "Name: 78, dtype: int64"
   ]
  },
  {
   "cell_type": "markdown",
   "id": "519f70a2",
   "metadata": {},
   "source": [
    "nombre_infected       106\n",
    "nombre_sain          2127\n",
    "nombre_exposed         64\n",
    "nombre_recovered    17703\n",
    "Name: 79, dtype: int64"
   ]
  },
  {
   "cell_type": "markdown",
   "id": "9b1d5c59",
   "metadata": {},
   "source": [
    "nombre_infected       100\n",
    "nombre_sain          2232\n",
    "nombre_exposed         67\n",
    "nombre_recovered    17601\n",
    "Name: 80, dtype: int64"
   ]
  },
  {
   "cell_type": "markdown",
   "id": "ff596184",
   "metadata": {},
   "source": [
    "nombre_infected       107\n",
    "nombre_sain          2308\n",
    "nombre_exposed         64\n",
    "nombre_recovered    17521\n",
    "Name: 81, dtype: int64"
   ]
  },
  {
   "cell_type": "markdown",
   "id": "a66e7f4f",
   "metadata": {},
   "source": [
    "nombre_infected       105\n",
    "nombre_sain          2383\n",
    "nombre_exposed         74\n",
    "nombre_recovered    17438\n",
    "Name: 82, dtype: int64"
   ]
  },
  {
   "cell_type": "markdown",
   "id": "03bd7497",
   "metadata": {},
   "source": [
    "nombre_infected        99\n",
    "nombre_sain          2461\n",
    "nombre_exposed         79\n",
    "nombre_recovered    17361\n",
    "Name: 83, dtype: int64"
   ]
  },
  {
   "cell_type": "markdown",
   "id": "35f383e2",
   "metadata": {},
   "source": [
    "nombre_infected       100\n",
    "nombre_sain          2552\n",
    "nombre_exposed         74\n",
    "nombre_recovered    17274\n",
    "Name: 84, dtype: int64"
   ]
  },
  {
   "cell_type": "markdown",
   "id": "d0aac43f",
   "metadata": {},
   "source": [
    "nombre_infected       107\n",
    "nombre_sain          2614\n",
    "nombre_exposed         79\n",
    "nombre_recovered    17200\n",
    "Name: 85, dtype: int64"
   ]
  },
  {
   "cell_type": "markdown",
   "id": "75a2c511",
   "metadata": {},
   "source": [
    "nombre_infected       105\n",
    "nombre_sain          2682\n",
    "nombre_exposed         77\n",
    "nombre_recovered    17136\n",
    "Name: 86, dtype: int64"
   ]
  },
  {
   "cell_type": "markdown",
   "id": "3a744d2d",
   "metadata": {},
   "source": [
    "nombre_infected       112\n",
    "nombre_sain          2759\n",
    "nombre_exposed         72\n",
    "nombre_recovered    17057\n",
    "Name: 87, dtype: int64"
   ]
  },
  {
   "cell_type": "markdown",
   "id": "89f11089",
   "metadata": {},
   "source": [
    "nombre_infected       117\n",
    "nombre_sain          2819\n",
    "nombre_exposed         77\n",
    "nombre_recovered    16987\n",
    "Name: 88, dtype: int64"
   ]
  },
  {
   "cell_type": "markdown",
   "id": "161a5a2f",
   "metadata": {},
   "source": [
    "nombre_infected       122\n",
    "nombre_sain          2883\n",
    "nombre_exposed         78\n",
    "nombre_recovered    16917\n",
    "Name: 89, dtype: int64"
   ]
  },
  {
   "cell_type": "markdown",
   "id": "85787ed7",
   "metadata": {},
   "source": [
    "nombre_infected       124\n",
    "nombre_sain          2954\n",
    "nombre_exposed         77\n",
    "nombre_recovered    16845\n",
    "Name: 90, dtype: int64"
   ]
  },
  {
   "cell_type": "markdown",
   "id": "a0148869",
   "metadata": {},
   "source": [
    "nombre_infected       126\n",
    "nombre_sain          2992\n",
    "nombre_exposed         83\n",
    "nombre_recovered    16799\n",
    "Name: 91, dtype: int64"
   ]
  },
  {
   "cell_type": "markdown",
   "id": "ee0eba50",
   "metadata": {},
   "source": [
    "nombre_infected       125\n",
    "nombre_sain          3042\n",
    "nombre_exposed         85\n",
    "nombre_recovered    16748\n",
    "Name: 92, dtype: int64"
   ]
  },
  {
   "cell_type": "markdown",
   "id": "f0bb4b0e",
   "metadata": {},
   "source": [
    "nombre_infected       130\n",
    "nombre_sain          3089\n",
    "nombre_exposed         87\n",
    "nombre_recovered    16694\n",
    "Name: 93, dtype: int64"
   ]
  },
  {
   "cell_type": "markdown",
   "id": "edace033",
   "metadata": {},
   "source": [
    "nombre_infected       122\n",
    "nombre_sain          3125\n",
    "nombre_exposed        114\n",
    "nombre_recovered    16639\n",
    "Name: 94, dtype: int64"
   ]
  },
  {
   "cell_type": "markdown",
   "id": "dded5249",
   "metadata": {},
   "source": [
    "nombre_infected       124\n",
    "nombre_sain          3165\n",
    "nombre_exposed        120\n",
    "nombre_recovered    16591\n",
    "Name: 95, dtype: int64"
   ]
  },
  {
   "cell_type": "markdown",
   "id": "f559287a",
   "metadata": {},
   "source": [
    "nombre_infected       127\n",
    "nombre_sain          3194\n",
    "nombre_exposed        128\n",
    "nombre_recovered    16551\n",
    "Name: 96, dtype: int64"
   ]
  },
  {
   "cell_type": "markdown",
   "id": "f4e350ba",
   "metadata": {},
   "source": [
    "nombre_infected       131\n",
    "nombre_sain          3230\n",
    "nombre_exposed        128\n",
    "nombre_recovered    16511\n",
    "Name: 97, dtype: int64"
   ]
  },
  {
   "cell_type": "markdown",
   "id": "f9f1bb25",
   "metadata": {},
   "source": [
    "nombre_infected       145\n",
    "nombre_sain          3258\n",
    "nombre_exposed        125\n",
    "nombre_recovered    16472\n",
    "Name: 98, dtype: int64"
   ]
  },
  {
   "cell_type": "markdown",
   "id": "afd93257",
   "metadata": {},
   "source": [
    "nombre_infected       147\n",
    "nombre_sain          3294\n",
    "nombre_exposed        129\n",
    "nombre_recovered    16430\n",
    "Name: 99, dtype: int64"
   ]
  },
  {
   "cell_type": "markdown",
   "id": "b1c1810b",
   "metadata": {},
   "source": [
    "nombre_infected       151\n",
    "nombre_sain          3324\n",
    "nombre_exposed        137\n",
    "nombre_recovered    16388\n",
    "Name: 100, dtype: int64"
   ]
  },
  {
   "cell_type": "markdown",
   "id": "b48fe82a",
   "metadata": {},
   "source": [
    "nombre_infected       166\n",
    "nombre_sain          3357\n",
    "nombre_exposed        134\n",
    "nombre_recovered    16343\n",
    "Name: 101, dtype: int64"
   ]
  },
  {
   "cell_type": "markdown",
   "id": "36453ff6",
   "metadata": {},
   "source": [
    "nombre_infected       184\n",
    "nombre_sain          3374\n",
    "nombre_exposed        141\n",
    "nombre_recovered    16301\n",
    "Name: 102, dtype: int64"
   ]
  },
  {
   "cell_type": "markdown",
   "id": "a6c493ac",
   "metadata": {},
   "source": [
    "nombre_infected       179\n",
    "nombre_sain          3409\n",
    "nombre_exposed        158\n",
    "nombre_recovered    16254\n",
    "Name: 103, dtype: int64"
   ]
  },
  {
   "cell_type": "markdown",
   "id": "4de7f2fb",
   "metadata": {},
   "source": [
    "nombre_infected       193\n",
    "nombre_sain          3428\n",
    "nombre_exposed        153\n",
    "nombre_recovered    16226\n",
    "Name: 104, dtype: int64"
   ]
  },
  {
   "cell_type": "markdown",
   "id": "ccd62c62",
   "metadata": {},
   "source": [
    "nombre_infected       204\n",
    "nombre_sain          3420\n",
    "nombre_exposed        171\n",
    "nombre_recovered    16205\n",
    "Name: 105, dtype: int64"
   ]
  },
  {
   "cell_type": "markdown",
   "id": "8d04a7bb",
   "metadata": {},
   "source": [
    "nombre_infected       203\n",
    "nombre_sain          3418\n",
    "nombre_exposed        183\n",
    "nombre_recovered    16196\n",
    "Name: 106, dtype: int64"
   ]
  },
  {
   "cell_type": "markdown",
   "id": "601b30d2",
   "metadata": {},
   "source": [
    "nombre_infected       214\n",
    "nombre_sain          3420\n",
    "nombre_exposed        191\n",
    "nombre_recovered    16175\n",
    "Name: 107, dtype: int64"
   ]
  },
  {
   "cell_type": "markdown",
   "id": "ab95fbe8",
   "metadata": {},
   "source": [
    "nombre_infected       227\n",
    "nombre_sain          3411\n",
    "nombre_exposed        198\n",
    "nombre_recovered    16164\n",
    "Name: 108, dtype: int64"
   ]
  },
  {
   "cell_type": "markdown",
   "id": "fa38373b",
   "metadata": {},
   "source": [
    "nombre_infected       244\n",
    "nombre_sain          3402\n",
    "nombre_exposed        212\n",
    "nombre_recovered    16142\n",
    "Name: 109, dtype: int64"
   ]
  },
  {
   "cell_type": "markdown",
   "id": "24b8a250",
   "metadata": {},
   "source": [
    "nombre_infected       264\n",
    "nombre_sain          3397\n",
    "nombre_exposed        214\n",
    "nombre_recovered    16125\n",
    "Name: 110, dtype: int64"
   ]
  },
  {
   "cell_type": "markdown",
   "id": "f240bdac",
   "metadata": {},
   "source": [
    "nombre_infected       258\n",
    "nombre_sain          3394\n",
    "nombre_exposed        230\n",
    "nombre_recovered    16118\n",
    "Name: 111, dtype: int64"
   ]
  },
  {
   "cell_type": "markdown",
   "id": "fb43ee9b",
   "metadata": {},
   "source": [
    "nombre_infected       260\n",
    "nombre_sain          3386\n",
    "nombre_exposed        237\n",
    "nombre_recovered    16117\n",
    "Name: 112, dtype: int64"
   ]
  },
  {
   "cell_type": "markdown",
   "id": "f8f1d305",
   "metadata": {},
   "source": [
    "nombre_infected       266\n",
    "nombre_sain          3362\n",
    "nombre_exposed        258\n",
    "nombre_recovered    16114\n",
    "Name: 113, dtype: int64"
   ]
  },
  {
   "cell_type": "markdown",
   "id": "0facbbc4",
   "metadata": {},
   "source": [
    "nombre_infected       285\n",
    "nombre_sain          3356\n",
    "nombre_exposed        259\n",
    "nombre_recovered    16100\n",
    "Name: 114, dtype: int64"
   ]
  },
  {
   "cell_type": "markdown",
   "id": "a0fe67e9",
   "metadata": {},
   "source": [
    "nombre_infected       309\n",
    "nombre_sain          3340\n",
    "nombre_exposed        258\n",
    "nombre_recovered    16093\n",
    "Name: 115, dtype: int64"
   ]
  },
  {
   "cell_type": "markdown",
   "id": "1b3e34f6",
   "metadata": {},
   "source": [
    "nombre_infected       339\n",
    "nombre_sain          3306\n",
    "nombre_exposed        257\n",
    "nombre_recovered    16098\n",
    "Name: 116, dtype: int64"
   ]
  },
  {
   "cell_type": "markdown",
   "id": "a0813f9b",
   "metadata": {},
   "source": [
    "nombre_infected       350\n",
    "nombre_sain          3297\n",
    "nombre_exposed        268\n",
    "nombre_recovered    16085\n",
    "Name: 117, dtype: int64"
   ]
  },
  {
   "cell_type": "markdown",
   "id": "e133e4e2",
   "metadata": {},
   "source": [
    "nombre_infected       358\n",
    "nombre_sain          3274\n",
    "nombre_exposed        287\n",
    "nombre_recovered    16081\n",
    "Name: 118, dtype: int64"
   ]
  },
  {
   "cell_type": "markdown",
   "id": "8a9d0f9a",
   "metadata": {},
   "source": [
    "nombre_infected       381\n",
    "nombre_sain          3238\n",
    "nombre_exposed        298\n",
    "nombre_recovered    16083\n",
    "Name: 119, dtype: int64"
   ]
  },
  {
   "cell_type": "markdown",
   "id": "92f97ab3",
   "metadata": {},
   "source": [
    "nombre_infected       397\n",
    "nombre_sain          3197\n",
    "nombre_exposed        315\n",
    "nombre_recovered    16091\n",
    "Name: 120, dtype: int64"
   ]
  },
  {
   "cell_type": "markdown",
   "id": "a75938b9",
   "metadata": {},
   "source": [
    "nombre_infected       406\n",
    "nombre_sain          3179\n",
    "nombre_exposed        326\n",
    "nombre_recovered    16089\n",
    "Name: 121, dtype: int64"
   ]
  },
  {
   "cell_type": "markdown",
   "id": "8248d48e",
   "metadata": {},
   "source": [
    "nombre_infected       423\n",
    "nombre_sain          3161\n",
    "nombre_exposed        325\n",
    "nombre_recovered    16091\n",
    "Name: 122, dtype: int64"
   ]
  },
  {
   "cell_type": "markdown",
   "id": "8421e004",
   "metadata": {},
   "source": [
    "nombre_infected       445\n",
    "nombre_sain          3134\n",
    "nombre_exposed        332\n",
    "nombre_recovered    16089\n",
    "Name: 123, dtype: int64"
   ]
  },
  {
   "cell_type": "markdown",
   "id": "ebd5a23b",
   "metadata": {},
   "source": [
    "nombre_infected       457\n",
    "nombre_sain          3100\n",
    "nombre_exposed        362\n",
    "nombre_recovered    16081\n",
    "Name: 124, dtype: int64"
   ]
  },
  {
   "cell_type": "markdown",
   "id": "0b1e915c",
   "metadata": {},
   "source": [
    "nombre_infected       478\n",
    "nombre_sain          3058\n",
    "nombre_exposed        381\n",
    "nombre_recovered    16083\n",
    "Name: 125, dtype: int64"
   ]
  },
  {
   "cell_type": "markdown",
   "id": "adf76aa3",
   "metadata": {},
   "source": [
    "nombre_infected       498\n",
    "nombre_sain          3010\n",
    "nombre_exposed        401\n",
    "nombre_recovered    16091\n",
    "Name: 126, dtype: int64"
   ]
  },
  {
   "cell_type": "markdown",
   "id": "4ea2bcd5",
   "metadata": {},
   "source": [
    "nombre_infected       486\n",
    "nombre_sain          2976\n",
    "nombre_exposed        421\n",
    "nombre_recovered    16117\n",
    "Name: 127, dtype: int64"
   ]
  },
  {
   "cell_type": "markdown",
   "id": "c673e9c0",
   "metadata": {},
   "source": [
    "nombre_infected       523\n",
    "nombre_sain          2963\n",
    "nombre_exposed        408\n",
    "nombre_recovered    16106\n",
    "Name: 128, dtype: int64"
   ]
  },
  {
   "cell_type": "markdown",
   "id": "c1efff65",
   "metadata": {},
   "source": [
    "nombre_infected       538\n",
    "nombre_sain          2941\n",
    "nombre_exposed        419\n",
    "nombre_recovered    16102\n",
    "Name: 129, dtype: int64"
   ]
  },
  {
   "cell_type": "markdown",
   "id": "f794d30b",
   "metadata": {},
   "source": [
    "nombre_infected       563\n",
    "nombre_sain          2888\n",
    "nombre_exposed        419\n",
    "nombre_recovered    16130\n",
    "Name: 130, dtype: int64"
   ]
  },
  {
   "cell_type": "markdown",
   "id": "25cd5396",
   "metadata": {},
   "source": [
    "nombre_infected       591\n",
    "nombre_sain          2843\n",
    "nombre_exposed        424\n",
    "nombre_recovered    16142\n",
    "Name: 131, dtype: int64"
   ]
  },
  {
   "cell_type": "markdown",
   "id": "53ce55b9",
   "metadata": {},
   "source": [
    "nombre_infected       602\n",
    "nombre_sain          2796\n",
    "nombre_exposed        444\n",
    "nombre_recovered    16158\n",
    "Name: 132, dtype: int64"
   ]
  },
  {
   "cell_type": "markdown",
   "id": "760e9838",
   "metadata": {},
   "source": [
    "nombre_infected       608\n",
    "nombre_sain          2766\n",
    "nombre_exposed        456\n",
    "nombre_recovered    16170\n",
    "Name: 133, dtype: int64"
   ]
  },
  {
   "cell_type": "markdown",
   "id": "a273f8f0",
   "metadata": {},
   "source": [
    "nombre_infected       635\n",
    "nombre_sain          2718\n",
    "nombre_exposed        490\n",
    "nombre_recovered    16157\n",
    "Name: 134, dtype: int64"
   ]
  },
  {
   "cell_type": "markdown",
   "id": "305c546d",
   "metadata": {},
   "source": [
    "nombre_infected       656\n",
    "nombre_sain          2677\n",
    "nombre_exposed        504\n",
    "nombre_recovered    16163\n",
    "Name: 135, dtype: int64"
   ]
  },
  {
   "cell_type": "markdown",
   "id": "86342edb",
   "metadata": {},
   "source": [
    "nombre_infected       659\n",
    "nombre_sain          2661\n",
    "nombre_exposed        507\n",
    "nombre_recovered    16173\n",
    "Name: 136, dtype: int64"
   ]
  },
  {
   "cell_type": "markdown",
   "id": "725e9976",
   "metadata": {},
   "source": [
    "nombre_infected       681\n",
    "nombre_sain          2636\n",
    "nombre_exposed        503\n",
    "nombre_recovered    16180\n",
    "Name: 137, dtype: int64"
   ]
  },
  {
   "cell_type": "markdown",
   "id": "f4d34dad",
   "metadata": {},
   "source": [
    "nombre_infected       700\n",
    "nombre_sain          2589\n",
    "nombre_exposed        526\n",
    "nombre_recovered    16185\n",
    "Name: 138, dtype: int64"
   ]
  },
  {
   "cell_type": "markdown",
   "id": "18d6c4ee",
   "metadata": {},
   "source": [
    "nombre_infected       719\n",
    "nombre_sain          2563\n",
    "nombre_exposed        525\n",
    "nombre_recovered    16193\n",
    "Name: 139, dtype: int64"
   ]
  },
  {
   "cell_type": "markdown",
   "id": "a4476ffe",
   "metadata": {},
   "source": [
    "nombre_infected       732\n",
    "nombre_sain          2539\n",
    "nombre_exposed        525\n",
    "nombre_recovered    16204\n",
    "Name: 140, dtype: int64"
   ]
  },
  {
   "cell_type": "markdown",
   "id": "d62b1e90",
   "metadata": {},
   "source": [
    "nombre_infected       743\n",
    "nombre_sain          2537\n",
    "nombre_exposed        518\n",
    "nombre_recovered    16202\n",
    "Name: 141, dtype: int64"
   ]
  },
  {
   "cell_type": "markdown",
   "id": "e55e5552",
   "metadata": {},
   "source": [
    "nombre_infected       776\n",
    "nombre_sain          2508\n",
    "nombre_exposed        513\n",
    "nombre_recovered    16203\n",
    "Name: 142, dtype: int64"
   ]
  },
  {
   "cell_type": "markdown",
   "id": "6250d212",
   "metadata": {},
   "source": [
    "nombre_infected       768\n",
    "nombre_sain          2467\n",
    "nombre_exposed        523\n",
    "nombre_recovered    16242\n",
    "Name: 143, dtype: int64"
   ]
  },
  {
   "cell_type": "markdown",
   "id": "d5d227ed",
   "metadata": {},
   "source": [
    "nombre_infected       775\n",
    "nombre_sain          2437\n",
    "nombre_exposed        521\n",
    "nombre_recovered    16267\n",
    "Name: 144, dtype: int64"
   ]
  },
  {
   "cell_type": "markdown",
   "id": "7c8b8d16",
   "metadata": {},
   "source": [
    "nombre_infected       791\n",
    "nombre_sain          2398\n",
    "nombre_exposed        542\n",
    "nombre_recovered    16269\n",
    "Name: 145, dtype: int64"
   ]
  },
  {
   "cell_type": "markdown",
   "id": "c1c9bbd4",
   "metadata": {},
   "source": [
    "nombre_infected       806\n",
    "nombre_sain          2360\n",
    "nombre_exposed        552\n",
    "nombre_recovered    16282\n",
    "Name: 146, dtype: int64"
   ]
  },
  {
   "cell_type": "markdown",
   "id": "5e29940d",
   "metadata": {},
   "source": [
    "nombre_infected       815\n",
    "nombre_sain          2325\n",
    "nombre_exposed        540\n",
    "nombre_recovered    16320\n",
    "Name: 147, dtype: int64"
   ]
  },
  {
   "cell_type": "markdown",
   "id": "b8a8d23e",
   "metadata": {},
   "source": [
    "nombre_infected       813\n",
    "nombre_sain          2330\n",
    "nombre_exposed        522\n",
    "nombre_recovered    16335\n",
    "Name: 148, dtype: int64"
   ]
  },
  {
   "cell_type": "markdown",
   "id": "f82290a2",
   "metadata": {},
   "source": [
    "nombre_infected       812\n",
    "nombre_sain          2298\n",
    "nombre_exposed        522\n",
    "nombre_recovered    16368\n",
    "Name: 149, dtype: int64"
   ]
  },
  {
   "cell_type": "markdown",
   "id": "8f3dbb8e",
   "metadata": {},
   "source": [
    "nombre_infected       818\n",
    "nombre_sain          2265\n",
    "nombre_exposed        516\n",
    "nombre_recovered    16401\n",
    "Name: 150, dtype: int64"
   ]
  },
  {
   "cell_type": "markdown",
   "id": "dd9695c3",
   "metadata": {},
   "source": [
    "nombre_infected       836\n",
    "nombre_sain          2201\n",
    "nombre_exposed        530\n",
    "nombre_recovered    16433\n",
    "Name: 151, dtype: int64"
   ]
  },
  {
   "cell_type": "markdown",
   "id": "f9e26437",
   "metadata": {},
   "source": [
    "nombre_infected       850\n",
    "nombre_sain          2134\n",
    "nombre_exposed        553\n",
    "nombre_recovered    16463\n",
    "Name: 152, dtype: int64"
   ]
  },
  {
   "cell_type": "markdown",
   "id": "f16f6244",
   "metadata": {},
   "source": [
    "nombre_infected       835\n",
    "nombre_sain          2130\n",
    "nombre_exposed        540\n",
    "nombre_recovered    16495\n",
    "Name: 153, dtype: int64"
   ]
  },
  {
   "cell_type": "markdown",
   "id": "8369fb9b",
   "metadata": {},
   "source": [
    "nombre_infected       849\n",
    "nombre_sain          2093\n",
    "nombre_exposed        531\n",
    "nombre_recovered    16527\n",
    "Name: 154, dtype: int64"
   ]
  },
  {
   "cell_type": "markdown",
   "id": "3438440a",
   "metadata": {},
   "source": [
    "nombre_infected       827\n",
    "nombre_sain          2053\n",
    "nombre_exposed        558\n",
    "nombre_recovered    16562\n",
    "Name: 155, dtype: int64"
   ]
  },
  {
   "cell_type": "markdown",
   "id": "01e69c88",
   "metadata": {},
   "source": [
    "nombre_infected       800\n",
    "nombre_sain          2044\n",
    "nombre_exposed        540\n",
    "nombre_recovered    16616\n",
    "Name: 156, dtype: int64"
   ]
  },
  {
   "cell_type": "markdown",
   "id": "4a9359b4",
   "metadata": {},
   "source": [
    "nombre_infected       818\n",
    "nombre_sain          2015\n",
    "nombre_exposed        528\n",
    "nombre_recovered    16639\n",
    "Name: 157, dtype: int64"
   ]
  },
  {
   "cell_type": "markdown",
   "id": "20fdb64c",
   "metadata": {},
   "source": [
    "nombre_infected       837\n",
    "nombre_sain          1999\n",
    "nombre_exposed        517\n",
    "nombre_recovered    16647\n",
    "Name: 158, dtype: int64"
   ]
  },
  {
   "cell_type": "markdown",
   "id": "cd16e6bb",
   "metadata": {},
   "source": [
    "nombre_infected       819\n",
    "nombre_sain          2003\n",
    "nombre_exposed        488\n",
    "nombre_recovered    16690\n",
    "Name: 159, dtype: int64"
   ]
  },
  {
   "cell_type": "markdown",
   "id": "80b0630a",
   "metadata": {},
   "source": [
    "nombre_infected       814\n",
    "nombre_sain          1971\n",
    "nombre_exposed        490\n",
    "nombre_recovered    16725\n",
    "Name: 160, dtype: int64"
   ]
  },
  {
   "cell_type": "markdown",
   "id": "9574ee21",
   "metadata": {},
   "source": [
    "nombre_infected       796\n",
    "nombre_sain          1972\n",
    "nombre_exposed        487\n",
    "nombre_recovered    16745\n",
    "Name: 161, dtype: int64"
   ]
  },
  {
   "cell_type": "markdown",
   "id": "29444d9e",
   "metadata": {},
   "source": [
    "nombre_infected       787\n",
    "nombre_sain          1948\n",
    "nombre_exposed        489\n",
    "nombre_recovered    16776\n",
    "Name: 162, dtype: int64"
   ]
  },
  {
   "cell_type": "markdown",
   "id": "f184bc9f",
   "metadata": {},
   "source": [
    "nombre_infected       757\n",
    "nombre_sain          1950\n",
    "nombre_exposed        473\n",
    "nombre_recovered    16820\n",
    "Name: 163, dtype: int64"
   ]
  },
  {
   "cell_type": "markdown",
   "id": "d5a11213",
   "metadata": {},
   "source": [
    "nombre_infected       753\n",
    "nombre_sain          1961\n",
    "nombre_exposed        455\n",
    "nombre_recovered    16831\n",
    "Name: 164, dtype: int64"
   ]
  },
  {
   "cell_type": "markdown",
   "id": "f23dcce5",
   "metadata": {},
   "source": [
    "nombre_infected       740\n",
    "nombre_sain          1988\n",
    "nombre_exposed        444\n",
    "nombre_recovered    16828\n",
    "Name: 165, dtype: int64"
   ]
  },
  {
   "cell_type": "markdown",
   "id": "607ede22",
   "metadata": {},
   "source": [
    "nombre_infected       740\n",
    "nombre_sain          1970\n",
    "nombre_exposed        434\n",
    "nombre_recovered    16856\n",
    "Name: 166, dtype: int64"
   ]
  },
  {
   "cell_type": "markdown",
   "id": "df453564",
   "metadata": {},
   "source": [
    "nombre_infected       730\n",
    "nombre_sain          1982\n",
    "nombre_exposed        446\n",
    "nombre_recovered    16842\n",
    "Name: 167, dtype: int64"
   ]
  },
  {
   "cell_type": "markdown",
   "id": "f407ddaf",
   "metadata": {},
   "source": [
    "nombre_infected       707\n",
    "nombre_sain          1994\n",
    "nombre_exposed        444\n",
    "nombre_recovered    16855\n",
    "Name: 168, dtype: int64"
   ]
  },
  {
   "cell_type": "markdown",
   "id": "8c51382a",
   "metadata": {},
   "source": [
    "nombre_infected       699\n",
    "nombre_sain          1978\n",
    "nombre_exposed        446\n",
    "nombre_recovered    16877\n",
    "Name: 169, dtype: int64"
   ]
  },
  {
   "cell_type": "markdown",
   "id": "2e5d5693",
   "metadata": {},
   "source": [
    "nombre_infected       691\n",
    "nombre_sain          1967\n",
    "nombre_exposed        447\n",
    "nombre_recovered    16895\n",
    "Name: 170, dtype: int64"
   ]
  },
  {
   "cell_type": "markdown",
   "id": "a23e907f",
   "metadata": {},
   "source": [
    "nombre_infected       681\n",
    "nombre_sain          1971\n",
    "nombre_exposed        439\n",
    "nombre_recovered    16909\n",
    "Name: 171, dtype: int64"
   ]
  },
  {
   "cell_type": "markdown",
   "id": "a534caa2",
   "metadata": {},
   "source": [
    "nombre_infected       700\n",
    "nombre_sain          1980\n",
    "nombre_exposed        448\n",
    "nombre_recovered    16872\n",
    "Name: 172, dtype: int64"
   ]
  },
  {
   "cell_type": "markdown",
   "id": "0078e1fd",
   "metadata": {},
   "source": [
    "nombre_infected       693\n",
    "nombre_sain          1985\n",
    "nombre_exposed        441\n",
    "nombre_recovered    16881\n",
    "Name: 173, dtype: int64"
   ]
  },
  {
   "cell_type": "markdown",
   "id": "e0d87c10",
   "metadata": {},
   "source": [
    "nombre_infected       670\n",
    "nombre_sain          1993\n",
    "nombre_exposed        438\n",
    "nombre_recovered    16899\n",
    "Name: 174, dtype: int64"
   ]
  },
  {
   "cell_type": "markdown",
   "id": "d079648d",
   "metadata": {},
   "source": [
    "nombre_infected       671\n",
    "nombre_sain          2016\n",
    "nombre_exposed        433\n",
    "nombre_recovered    16880\n",
    "Name: 175, dtype: int64"
   ]
  },
  {
   "cell_type": "markdown",
   "id": "cd05b134",
   "metadata": {},
   "source": [
    "nombre_infected       660\n",
    "nombre_sain          2027\n",
    "nombre_exposed        452\n",
    "nombre_recovered    16861\n",
    "Name: 176, dtype: int64"
   ]
  },
  {
   "cell_type": "markdown",
   "id": "e1b33571",
   "metadata": {},
   "source": [
    "nombre_infected       663\n",
    "nombre_sain          2041\n",
    "nombre_exposed        450\n",
    "nombre_recovered    16846\n",
    "Name: 177, dtype: int64"
   ]
  },
  {
   "cell_type": "markdown",
   "id": "89d952e3",
   "metadata": {},
   "source": [
    "nombre_infected       656\n",
    "nombre_sain          2055\n",
    "nombre_exposed        449\n",
    "nombre_recovered    16840\n",
    "Name: 178, dtype: int64"
   ]
  },
  {
   "cell_type": "markdown",
   "id": "85aa6d41",
   "metadata": {},
   "source": [
    "nombre_infected       658\n",
    "nombre_sain          2085\n",
    "nombre_exposed        432\n",
    "nombre_recovered    16825\n",
    "Name: 179, dtype: int64"
   ]
  },
  {
   "cell_type": "markdown",
   "id": "ec757b0c",
   "metadata": {},
   "source": [
    "nombre_infected       685\n",
    "nombre_sain          2107\n",
    "nombre_exposed        404\n",
    "nombre_recovered    16804\n",
    "Name: 180, dtype: int64"
   ]
  },
  {
   "cell_type": "markdown",
   "id": "6be53d97",
   "metadata": {},
   "source": [
    "nombre_infected       689\n",
    "nombre_sain          2139\n",
    "nombre_exposed        382\n",
    "nombre_recovered    16790\n",
    "Name: 181, dtype: int64"
   ]
  },
  {
   "cell_type": "markdown",
   "id": "e4deb3aa",
   "metadata": {},
   "source": [
    "nombre_infected       707\n",
    "nombre_sain          2154\n",
    "nombre_exposed        380\n",
    "nombre_recovered    16759\n",
    "Name: 182, dtype: int64"
   ]
  },
  {
   "cell_type": "markdown",
   "id": "71a982e7",
   "metadata": {},
   "source": [
    "nombre_infected       680\n",
    "nombre_sain          2164\n",
    "nombre_exposed        402\n",
    "nombre_recovered    16754\n",
    "Name: 183, dtype: int64"
   ]
  },
  {
   "cell_type": "markdown",
   "id": "af4d1d8d",
   "metadata": {},
   "source": [
    "nombre_infected       690\n",
    "nombre_sain          2152\n",
    "nombre_exposed        418\n",
    "nombre_recovered    16740\n",
    "Name: 184, dtype: int64"
   ]
  },
  {
   "cell_type": "markdown",
   "id": "9e0c7ae5",
   "metadata": {},
   "source": [
    "nombre_infected       693\n",
    "nombre_sain          2152\n",
    "nombre_exposed        419\n",
    "nombre_recovered    16736\n",
    "Name: 185, dtype: int64"
   ]
  },
  {
   "cell_type": "markdown",
   "id": "41598540",
   "metadata": {},
   "source": [
    "nombre_infected       716\n",
    "nombre_sain          2144\n",
    "nombre_exposed        407\n",
    "nombre_recovered    16733\n",
    "Name: 186, dtype: int64"
   ]
  },
  {
   "cell_type": "markdown",
   "id": "6994e9e0",
   "metadata": {},
   "source": [
    "nombre_infected       717\n",
    "nombre_sain          2159\n",
    "nombre_exposed        417\n",
    "nombre_recovered    16707\n",
    "Name: 187, dtype: int64"
   ]
  },
  {
   "cell_type": "markdown",
   "id": "48c2ec01",
   "metadata": {},
   "source": [
    "nombre_infected       720\n",
    "nombre_sain          2178\n",
    "nombre_exposed        409\n",
    "nombre_recovered    16693\n",
    "Name: 188, dtype: int64"
   ]
  },
  {
   "cell_type": "markdown",
   "id": "832b6caa",
   "metadata": {},
   "source": [
    "nombre_infected       728\n",
    "nombre_sain          2188\n",
    "nombre_exposed        415\n",
    "nombre_recovered    16669\n",
    "Name: 189, dtype: int64"
   ]
  },
  {
   "cell_type": "markdown",
   "id": "34e9beb0",
   "metadata": {},
   "source": [
    "nombre_infected       732\n",
    "nombre_sain          2219\n",
    "nombre_exposed        414\n",
    "nombre_recovered    16635\n",
    "Name: 190, dtype: int64"
   ]
  },
  {
   "cell_type": "markdown",
   "id": "57af5e1e",
   "metadata": {},
   "source": [
    "nombre_infected       729\n",
    "nombre_sain          2235\n",
    "nombre_exposed        411\n",
    "nombre_recovered    16625\n",
    "Name: 191, dtype: int64"
   ]
  },
  {
   "cell_type": "markdown",
   "id": "4cfc6378",
   "metadata": {},
   "source": [
    "nombre_infected       730\n",
    "nombre_sain          2257\n",
    "nombre_exposed        401\n",
    "nombre_recovered    16612\n",
    "Name: 192, dtype: int64"
   ]
  },
  {
   "cell_type": "markdown",
   "id": "1d4ce036",
   "metadata": {},
   "source": [
    "nombre_infected       710\n",
    "nombre_sain          2275\n",
    "nombre_exposed        418\n",
    "nombre_recovered    16597\n",
    "Name: 193, dtype: int64"
   ]
  },
  {
   "cell_type": "markdown",
   "id": "4ae33ed5",
   "metadata": {},
   "source": [
    "nombre_infected       696\n",
    "nombre_sain          2323\n",
    "nombre_exposed        408\n",
    "nombre_recovered    16573\n",
    "Name: 194, dtype: int64"
   ]
  },
  {
   "cell_type": "markdown",
   "id": "198cb12d",
   "metadata": {},
   "source": [
    "nombre_infected       699\n",
    "nombre_sain          2366\n",
    "nombre_exposed        384\n",
    "nombre_recovered    16551\n",
    "Name: 195, dtype: int64"
   ]
  },
  {
   "cell_type": "markdown",
   "id": "8eea0c5e",
   "metadata": {},
   "source": [
    "nombre_infected       704\n",
    "nombre_sain          2382\n",
    "nombre_exposed        387\n",
    "nombre_recovered    16527\n",
    "Name: 196, dtype: int64"
   ]
  },
  {
   "cell_type": "markdown",
   "id": "5fd5d4b2",
   "metadata": {},
   "source": [
    "nombre_infected       677\n",
    "nombre_sain          2386\n",
    "nombre_exposed        439\n",
    "nombre_recovered    16498\n",
    "Name: 197, dtype: int64"
   ]
  },
  {
   "cell_type": "markdown",
   "id": "4ce19830",
   "metadata": {},
   "source": [
    "nombre_infected       684\n",
    "nombre_sain          2396\n",
    "nombre_exposed        436\n",
    "nombre_recovered    16484\n",
    "Name: 198, dtype: int64"
   ]
  },
  {
   "cell_type": "markdown",
   "id": "b7af6531",
   "metadata": {},
   "source": [
    "nombre_infected       717\n",
    "nombre_sain          2402\n",
    "nombre_exposed        443\n",
    "nombre_recovered    16438\n",
    "Name: 199, dtype: int64"
   ]
  },
  {
   "cell_type": "markdown",
   "id": "82327e07",
   "metadata": {},
   "source": [
    "nombre_infected       701\n",
    "nombre_sain          2393\n",
    "nombre_exposed        466\n",
    "nombre_recovered    16440\n",
    "Name: 200, dtype: int64"
   ]
  },
  {
   "cell_type": "markdown",
   "id": "91e2d05b",
   "metadata": {},
   "source": [
    "nombre_infected       709\n",
    "nombre_sain          2410\n",
    "nombre_exposed        474\n",
    "nombre_recovered    16407\n",
    "Name: 201, dtype: int64"
   ]
  },
  {
   "cell_type": "markdown",
   "id": "cdd8aa9f",
   "metadata": {},
   "source": [
    "nombre_infected       720\n",
    "nombre_sain          2418\n",
    "nombre_exposed        477\n",
    "nombre_recovered    16385\n",
    "Name: 202, dtype: int64"
   ]
  },
  {
   "cell_type": "markdown",
   "id": "9ce81ebe",
   "metadata": {},
   "source": [
    "nombre_infected       722\n",
    "nombre_sain          2416\n",
    "nombre_exposed        486\n",
    "nombre_recovered    16376\n",
    "Name: 203, dtype: int64"
   ]
  },
  {
   "cell_type": "markdown",
   "id": "c12318b5",
   "metadata": {},
   "source": [
    "nombre_infected       746\n",
    "nombre_sain          2424\n",
    "nombre_exposed        483\n",
    "nombre_recovered    16347\n",
    "Name: 204, dtype: int64"
   ]
  },
  {
   "cell_type": "markdown",
   "id": "d52e8734",
   "metadata": {},
   "source": [
    "nombre_infected       766\n",
    "nombre_sain          2396\n",
    "nombre_exposed        488\n",
    "nombre_recovered    16350\n",
    "Name: 205, dtype: int64"
   ]
  },
  {
   "cell_type": "markdown",
   "id": "29ab4dfa",
   "metadata": {},
   "source": [
    "nombre_infected       777\n",
    "nombre_sain          2383\n",
    "nombre_exposed        511\n",
    "nombre_recovered    16329\n",
    "Name: 206, dtype: int64"
   ]
  },
  {
   "cell_type": "markdown",
   "id": "36843419",
   "metadata": {},
   "source": [
    "nombre_infected       774\n",
    "nombre_sain          2348\n",
    "nombre_exposed        522\n",
    "nombre_recovered    16356\n",
    "Name: 207, dtype: int64"
   ]
  },
  {
   "cell_type": "markdown",
   "id": "cb9a350f",
   "metadata": {},
   "source": [
    "nombre_infected       760\n",
    "nombre_sain          2335\n",
    "nombre_exposed        549\n",
    "nombre_recovered    16356\n",
    "Name: 208, dtype: int64"
   ]
  },
  {
   "cell_type": "markdown",
   "id": "0d1abbd9",
   "metadata": {},
   "source": [
    "nombre_infected       788\n",
    "nombre_sain          2324\n",
    "nombre_exposed        545\n",
    "nombre_recovered    16343\n",
    "Name: 209, dtype: int64"
   ]
  },
  {
   "cell_type": "markdown",
   "id": "a3ed7f89",
   "metadata": {},
   "source": [
    "nombre_infected       791\n",
    "nombre_sain          2307\n",
    "nombre_exposed        552\n",
    "nombre_recovered    16350\n",
    "Name: 210, dtype: int64"
   ]
  },
  {
   "cell_type": "markdown",
   "id": "1e7f00cc",
   "metadata": {},
   "source": [
    "nombre_infected       789\n",
    "nombre_sain          2302\n",
    "nombre_exposed        550\n",
    "nombre_recovered    16359\n",
    "Name: 211, dtype: int64"
   ]
  },
  {
   "cell_type": "markdown",
   "id": "576b8dad",
   "metadata": {},
   "source": [
    "nombre_infected       807\n",
    "nombre_sain          2318\n",
    "nombre_exposed        531\n",
    "nombre_recovered    16344\n",
    "Name: 212, dtype: int64"
   ]
  },
  {
   "cell_type": "markdown",
   "id": "766c796e",
   "metadata": {},
   "source": [
    "nombre_infected       802\n",
    "nombre_sain          2287\n",
    "nombre_exposed        547\n",
    "nombre_recovered    16364\n",
    "Name: 213, dtype: int64"
   ]
  },
  {
   "cell_type": "markdown",
   "id": "dd777a66",
   "metadata": {},
   "source": [
    "nombre_infected       817\n",
    "nombre_sain          2290\n",
    "nombre_exposed        536\n",
    "nombre_recovered    16357\n",
    "Name: 214, dtype: int64"
   ]
  },
  {
   "cell_type": "markdown",
   "id": "55fc2d90",
   "metadata": {},
   "source": [
    "nombre_infected       828\n",
    "nombre_sain          2267\n",
    "nombre_exposed        527\n",
    "nombre_recovered    16378\n",
    "Name: 215, dtype: int64"
   ]
  },
  {
   "cell_type": "markdown",
   "id": "5fdeef25",
   "metadata": {},
   "source": [
    "nombre_infected       847\n",
    "nombre_sain          2248\n",
    "nombre_exposed        531\n",
    "nombre_recovered    16374\n",
    "Name: 216, dtype: int64"
   ]
  },
  {
   "cell_type": "markdown",
   "id": "09a7d6dc",
   "metadata": {},
   "source": [
    "nombre_infected       834\n",
    "nombre_sain          2241\n",
    "nombre_exposed        541\n",
    "nombre_recovered    16384\n",
    "Name: 217, dtype: int64"
   ]
  },
  {
   "cell_type": "markdown",
   "id": "b0501125",
   "metadata": {},
   "source": [
    "nombre_infected       852\n",
    "nombre_sain          2245\n",
    "nombre_exposed        517\n",
    "nombre_recovered    16386\n",
    "Name: 218, dtype: int64"
   ]
  },
  {
   "cell_type": "markdown",
   "id": "2e712fe1",
   "metadata": {},
   "source": [
    "nombre_infected       854\n",
    "nombre_sain          2223\n",
    "nombre_exposed        532\n",
    "nombre_recovered    16391\n",
    "Name: 219, dtype: int64"
   ]
  },
  {
   "cell_type": "markdown",
   "id": "80c8eca0",
   "metadata": {},
   "source": [
    "nombre_infected       852\n",
    "nombre_sain          2210\n",
    "nombre_exposed        539\n",
    "nombre_recovered    16399\n",
    "Name: 220, dtype: int64"
   ]
  },
  {
   "cell_type": "markdown",
   "id": "50060fe5",
   "metadata": {},
   "source": [
    "nombre_infected       861\n",
    "nombre_sain          2188\n",
    "nombre_exposed        538\n",
    "nombre_recovered    16413\n",
    "Name: 221, dtype: int64"
   ]
  },
  {
   "cell_type": "markdown",
   "id": "ea4261be",
   "metadata": {},
   "source": [
    "nombre_infected       854\n",
    "nombre_sain          2174\n",
    "nombre_exposed        544\n",
    "nombre_recovered    16428\n",
    "Name: 222, dtype: int64"
   ]
  },
  {
   "cell_type": "markdown",
   "id": "f355d3e7",
   "metadata": {},
   "source": [
    "nombre_infected       867\n",
    "nombre_sain          2136\n",
    "nombre_exposed        566\n",
    "nombre_recovered    16431\n",
    "Name: 223, dtype: int64"
   ]
  },
  {
   "cell_type": "markdown",
   "id": "a3b70f11",
   "metadata": {},
   "source": [
    "nombre_infected       893\n",
    "nombre_sain          2130\n",
    "nombre_exposed        538\n",
    "nombre_recovered    16439\n",
    "Name: 224, dtype: int64"
   ]
  },
  {
   "cell_type": "markdown",
   "id": "6a739abe",
   "metadata": {},
   "source": [
    "nombre_infected       895\n",
    "nombre_sain          2101\n",
    "nombre_exposed        547\n",
    "nombre_recovered    16457\n",
    "Name: 225, dtype: int64"
   ]
  },
  {
   "cell_type": "markdown",
   "id": "ac787446",
   "metadata": {},
   "source": [
    "nombre_infected       893\n",
    "nombre_sain          2078\n",
    "nombre_exposed        541\n",
    "nombre_recovered    16488\n",
    "Name: 226, dtype: int64"
   ]
  },
  {
   "cell_type": "markdown",
   "id": "f16c24b7",
   "metadata": {},
   "source": [
    "nombre_infected       879\n",
    "nombre_sain          2076\n",
    "nombre_exposed        549\n",
    "nombre_recovered    16496\n",
    "Name: 227, dtype: int64"
   ]
  },
  {
   "cell_type": "markdown",
   "id": "2e5acd3a",
   "metadata": {},
   "source": [
    "nombre_infected       857\n",
    "nombre_sain          2092\n",
    "nombre_exposed        544\n",
    "nombre_recovered    16507\n",
    "Name: 228, dtype: int64"
   ]
  },
  {
   "cell_type": "markdown",
   "id": "ce4fba13",
   "metadata": {},
   "source": [
    "nombre_infected       850\n",
    "nombre_sain          2094\n",
    "nombre_exposed        539\n",
    "nombre_recovered    16517\n",
    "Name: 229, dtype: int64"
   ]
  },
  {
   "cell_type": "markdown",
   "id": "8c02f2ed",
   "metadata": {},
   "source": [
    "nombre_infected       866\n",
    "nombre_sain          2108\n",
    "nombre_exposed        522\n",
    "nombre_recovered    16504\n",
    "Name: 230, dtype: int64"
   ]
  },
  {
   "cell_type": "markdown",
   "id": "64e1bc24",
   "metadata": {},
   "source": [
    "nombre_infected       846\n",
    "nombre_sain          2129\n",
    "nombre_exposed        517\n",
    "nombre_recovered    16508\n",
    "Name: 231, dtype: int64"
   ]
  },
  {
   "cell_type": "markdown",
   "id": "9b3f3c4b",
   "metadata": {},
   "source": [
    "nombre_infected       832\n",
    "nombre_sain          2136\n",
    "nombre_exposed        521\n",
    "nombre_recovered    16511\n",
    "Name: 232, dtype: int64"
   ]
  },
  {
   "cell_type": "markdown",
   "id": "4654d5bc",
   "metadata": {},
   "source": [
    "nombre_infected       831\n",
    "nombre_sain          2147\n",
    "nombre_exposed        504\n",
    "nombre_recovered    16518\n",
    "Name: 233, dtype: int64"
   ]
  },
  {
   "cell_type": "markdown",
   "id": "9d42d3dd",
   "metadata": {},
   "source": [
    "nombre_infected       840\n",
    "nombre_sain          2132\n",
    "nombre_exposed        512\n",
    "nombre_recovered    16516\n",
    "Name: 234, dtype: int64"
   ]
  },
  {
   "cell_type": "markdown",
   "id": "25185a8a",
   "metadata": {},
   "source": [
    "nombre_infected       831\n",
    "nombre_sain          2148\n",
    "nombre_exposed        520\n",
    "nombre_recovered    16501\n",
    "Name: 235, dtype: int64"
   ]
  },
  {
   "cell_type": "markdown",
   "id": "d3126217",
   "metadata": {},
   "source": [
    "nombre_infected       834\n",
    "nombre_sain          2159\n",
    "nombre_exposed        502\n",
    "nombre_recovered    16505\n",
    "Name: 236, dtype: int64"
   ]
  },
  {
   "cell_type": "markdown",
   "id": "1e8666d3",
   "metadata": {},
   "source": [
    "nombre_infected       825\n",
    "nombre_sain          2188\n",
    "nombre_exposed        487\n",
    "nombre_recovered    16500\n",
    "Name: 237, dtype: int64"
   ]
  },
  {
   "cell_type": "markdown",
   "id": "b9880b8f",
   "metadata": {},
   "source": [
    "nombre_infected       825\n",
    "nombre_sain          2183\n",
    "nombre_exposed        493\n",
    "nombre_recovered    16499\n",
    "Name: 238, dtype: int64"
   ]
  },
  {
   "cell_type": "markdown",
   "id": "d9ba5e17",
   "metadata": {},
   "source": [
    "nombre_infected       822\n",
    "nombre_sain          2196\n",
    "nombre_exposed        490\n",
    "nombre_recovered    16492\n",
    "Name: 239, dtype: int64"
   ]
  },
  {
   "cell_type": "markdown",
   "id": "b17d5950",
   "metadata": {},
   "source": [
    "nombre_infected       796\n",
    "nombre_sain          2205\n",
    "nombre_exposed        513\n",
    "nombre_recovered    16486\n",
    "Name: 240, dtype: int64"
   ]
  },
  {
   "cell_type": "markdown",
   "id": "36450316",
   "metadata": {},
   "source": [
    "nombre_infected       795\n",
    "nombre_sain          2227\n",
    "nombre_exposed        493\n",
    "nombre_recovered    16485\n",
    "Name: 241, dtype: int64"
   ]
  },
  {
   "cell_type": "markdown",
   "id": "94bb73a7",
   "metadata": {},
   "source": [
    "nombre_infected       771\n",
    "nombre_sain          2226\n",
    "nombre_exposed        513\n",
    "nombre_recovered    16490\n",
    "Name: 242, dtype: int64"
   ]
  },
  {
   "cell_type": "markdown",
   "id": "095cd4b0",
   "metadata": {},
   "source": [
    "nombre_infected       775\n",
    "nombre_sain          2237\n",
    "nombre_exposed        500\n",
    "nombre_recovered    16488\n",
    "Name: 243, dtype: int64"
   ]
  },
  {
   "cell_type": "markdown",
   "id": "df9398e7",
   "metadata": {},
   "source": [
    "nombre_infected       771\n",
    "nombre_sain          2260\n",
    "nombre_exposed        497\n",
    "nombre_recovered    16472\n",
    "Name: 244, dtype: int64"
   ]
  },
  {
   "cell_type": "markdown",
   "id": "ecc0b88e",
   "metadata": {},
   "source": [
    "nombre_infected       809\n",
    "nombre_sain          2266\n",
    "nombre_exposed        482\n",
    "nombre_recovered    16443\n",
    "Name: 245, dtype: int64"
   ]
  },
  {
   "cell_type": "markdown",
   "id": "c4b7263c",
   "metadata": {},
   "source": [
    "nombre_infected       784\n",
    "nombre_sain          2282\n",
    "nombre_exposed        496\n",
    "nombre_recovered    16438\n",
    "Name: 246, dtype: int64"
   ]
  },
  {
   "cell_type": "markdown",
   "id": "388a52df",
   "metadata": {},
   "source": [
    "nombre_infected       768\n",
    "nombre_sain          2293\n",
    "nombre_exposed        522\n",
    "nombre_recovered    16417\n",
    "Name: 247, dtype: int64"
   ]
  },
  {
   "cell_type": "markdown",
   "id": "3ec93baa",
   "metadata": {},
   "source": [
    "nombre_infected       763\n",
    "nombre_sain          2295\n",
    "nombre_exposed        540\n",
    "nombre_recovered    16402\n",
    "Name: 248, dtype: int64"
   ]
  },
  {
   "cell_type": "markdown",
   "id": "f5013acf",
   "metadata": {},
   "source": [
    "nombre_infected       768\n",
    "nombre_sain          2338\n",
    "nombre_exposed        548\n",
    "nombre_recovered    16346\n",
    "Name: 249, dtype: int64"
   ]
  },
  {
   "cell_type": "markdown",
   "id": "c2eb4c38",
   "metadata": {},
   "source": [
    "nombre_infected       795\n",
    "nombre_sain          2362\n",
    "nombre_exposed        536\n",
    "nombre_recovered    16307\n",
    "Name: 250, dtype: int64"
   ]
  },
  {
   "cell_type": "markdown",
   "id": "df39d42f",
   "metadata": {},
   "source": [
    "nombre_infected       818\n",
    "nombre_sain          2383\n",
    "nombre_exposed        514\n",
    "nombre_recovered    16285\n",
    "Name: 251, dtype: int64"
   ]
  },
  {
   "cell_type": "markdown",
   "id": "8b2fb5e5",
   "metadata": {},
   "source": [
    "nombre_infected       807\n",
    "nombre_sain          2423\n",
    "nombre_exposed        535\n",
    "nombre_recovered    16235\n",
    "Name: 252, dtype: int64"
   ]
  },
  {
   "cell_type": "markdown",
   "id": "b8bd49fb",
   "metadata": {},
   "source": [
    "nombre_infected       816\n",
    "nombre_sain          2444\n",
    "nombre_exposed        531\n",
    "nombre_recovered    16209\n",
    "Name: 253, dtype: int64"
   ]
  },
  {
   "cell_type": "markdown",
   "id": "7e605440",
   "metadata": {},
   "source": [
    "nombre_infected       814\n",
    "nombre_sain          2486\n",
    "nombre_exposed        527\n",
    "nombre_recovered    16173\n",
    "Name: 254, dtype: int64"
   ]
  },
  {
   "cell_type": "markdown",
   "id": "c233e211",
   "metadata": {},
   "source": [
    "nombre_infected       812\n",
    "nombre_sain          2511\n",
    "nombre_exposed        535\n",
    "nombre_recovered    16142\n",
    "Name: 255, dtype: int64"
   ]
  },
  {
   "cell_type": "markdown",
   "id": "920dc6da",
   "metadata": {},
   "source": [
    "nombre_infected       802\n",
    "nombre_sain          2530\n",
    "nombre_exposed        548\n",
    "nombre_recovered    16120\n",
    "Name: 256, dtype: int64"
   ]
  },
  {
   "cell_type": "markdown",
   "id": "5692b30f",
   "metadata": {},
   "source": [
    "nombre_infected       802\n",
    "nombre_sain          2541\n",
    "nombre_exposed        572\n",
    "nombre_recovered    16085\n",
    "Name: 257, dtype: int64"
   ]
  },
  {
   "cell_type": "markdown",
   "id": "9f9b1c01",
   "metadata": {},
   "source": [
    "nombre_infected       798\n",
    "nombre_sain          2567\n",
    "nombre_exposed        566\n",
    "nombre_recovered    16069\n",
    "Name: 258, dtype: int64"
   ]
  },
  {
   "cell_type": "markdown",
   "id": "4053e22f",
   "metadata": {},
   "source": [
    "nombre_infected       808\n",
    "nombre_sain          2566\n",
    "nombre_exposed        591\n",
    "nombre_recovered    16035\n",
    "Name: 259, dtype: int64"
   ]
  },
  {
   "cell_type": "markdown",
   "id": "20afc96e",
   "metadata": {},
   "source": [
    "nombre_infected       835\n",
    "nombre_sain          2543\n",
    "nombre_exposed        610\n",
    "nombre_recovered    16012\n",
    "Name: 260, dtype: int64"
   ]
  },
  {
   "cell_type": "markdown",
   "id": "1649d301",
   "metadata": {},
   "source": [
    "nombre_infected       856\n",
    "nombre_sain          2542\n",
    "nombre_exposed        622\n",
    "nombre_recovered    15980\n",
    "Name: 261, dtype: int64"
   ]
  },
  {
   "cell_type": "markdown",
   "id": "f54e1c2e",
   "metadata": {},
   "source": [
    "nombre_infected       877\n",
    "nombre_sain          2538\n",
    "nombre_exposed        630\n",
    "nombre_recovered    15955\n",
    "Name: 262, dtype: int64"
   ]
  },
  {
   "cell_type": "markdown",
   "id": "43264230",
   "metadata": {},
   "source": [
    "nombre_infected       905\n",
    "nombre_sain          2547\n",
    "nombre_exposed        633\n",
    "nombre_recovered    15915\n",
    "Name: 263, dtype: int64"
   ]
  },
  {
   "cell_type": "markdown",
   "id": "6d5bcb14",
   "metadata": {},
   "source": [
    "nombre_infected       935\n",
    "nombre_sain          2535\n",
    "nombre_exposed        642\n",
    "nombre_recovered    15888\n",
    "Name: 264, dtype: int64"
   ]
  },
  {
   "cell_type": "markdown",
   "id": "562357f7",
   "metadata": {},
   "source": [
    "nombre_infected       967\n",
    "nombre_sain          2528\n",
    "nombre_exposed        652\n",
    "nombre_recovered    15853\n",
    "Name: 265, dtype: int64"
   ]
  },
  {
   "cell_type": "markdown",
   "id": "77e4eba6",
   "metadata": {},
   "source": [
    "nombre_infected       971\n",
    "nombre_sain          2498\n",
    "nombre_exposed        675\n",
    "nombre_recovered    15856\n",
    "Name: 266, dtype: int64"
   ]
  },
  {
   "cell_type": "markdown",
   "id": "fe31447a",
   "metadata": {},
   "source": [
    "nombre_infected      1005\n",
    "nombre_sain          2495\n",
    "nombre_exposed        648\n",
    "nombre_recovered    15852\n",
    "Name: 267, dtype: int64"
   ]
  },
  {
   "cell_type": "markdown",
   "id": "f59c0aa7",
   "metadata": {},
   "source": [
    "nombre_infected      1012\n",
    "nombre_sain          2491\n",
    "nombre_exposed        656\n",
    "nombre_recovered    15841\n",
    "Name: 268, dtype: int64"
   ]
  },
  {
   "cell_type": "markdown",
   "id": "802e8c85",
   "metadata": {},
   "source": [
    "nombre_infected      1018\n",
    "nombre_sain          2444\n",
    "nombre_exposed        679\n",
    "nombre_recovered    15859\n",
    "Name: 269, dtype: int64"
   ]
  },
  {
   "cell_type": "markdown",
   "id": "448ada98",
   "metadata": {},
   "source": [
    "nombre_infected      1006\n",
    "nombre_sain          2433\n",
    "nombre_exposed        685\n",
    "nombre_recovered    15876\n",
    "Name: 270, dtype: int64"
   ]
  },
  {
   "cell_type": "markdown",
   "id": "e12a6c7a",
   "metadata": {},
   "source": [
    "nombre_infected      1046\n",
    "nombre_sain          2394\n",
    "nombre_exposed        667\n",
    "nombre_recovered    15893\n",
    "Name: 271, dtype: int64"
   ]
  },
  {
   "cell_type": "markdown",
   "id": "941a1324",
   "metadata": {},
   "source": [
    "nombre_infected      1050\n",
    "nombre_sain          2362\n",
    "nombre_exposed        676\n",
    "nombre_recovered    15912\n",
    "Name: 272, dtype: int64"
   ]
  },
  {
   "cell_type": "markdown",
   "id": "d3f7d7ce",
   "metadata": {},
   "source": [
    "nombre_infected      1082\n",
    "nombre_sain          2357\n",
    "nombre_exposed        649\n",
    "nombre_recovered    15912\n",
    "Name: 273, dtype: int64"
   ]
  },
  {
   "cell_type": "markdown",
   "id": "5ff4718b",
   "metadata": {},
   "source": [
    "nombre_infected      1069\n",
    "nombre_sain          2298\n",
    "nombre_exposed        685\n",
    "nombre_recovered    15948\n",
    "Name: 274, dtype: int64"
   ]
  },
  {
   "cell_type": "markdown",
   "id": "ac05d989",
   "metadata": {},
   "source": [
    "nombre_infected      1056\n",
    "nombre_sain          2284\n",
    "nombre_exposed        672\n",
    "nombre_recovered    15988\n",
    "Name: 275, dtype: int64"
   ]
  },
  {
   "cell_type": "markdown",
   "id": "165edb6f",
   "metadata": {},
   "source": [
    "nombre_infected      1061\n",
    "nombre_sain          2258\n",
    "nombre_exposed        690\n",
    "nombre_recovered    15991\n",
    "Name: 276, dtype: int64"
   ]
  },
  {
   "cell_type": "markdown",
   "id": "2699c79f",
   "metadata": {},
   "source": [
    "nombre_infected      1061\n",
    "nombre_sain          2268\n",
    "nombre_exposed        666\n",
    "nombre_recovered    16005\n",
    "Name: 277, dtype: int64"
   ]
  },
  {
   "cell_type": "markdown",
   "id": "2fc000da",
   "metadata": {},
   "source": [
    "nombre_infected      1111\n",
    "nombre_sain          2248\n",
    "nombre_exposed        640\n",
    "nombre_recovered    16001\n",
    "Name: 278, dtype: int64"
   ]
  },
  {
   "cell_type": "markdown",
   "id": "0fe8a982",
   "metadata": {},
   "source": [
    "nombre_infected      1090\n",
    "nombre_sain          2235\n",
    "nombre_exposed        662\n",
    "nombre_recovered    16013\n",
    "Name: 279, dtype: int64"
   ]
  },
  {
   "cell_type": "markdown",
   "id": "adc6d700",
   "metadata": {},
   "source": [
    "nombre_infected      1063\n",
    "nombre_sain          2220\n",
    "nombre_exposed        672\n",
    "nombre_recovered    16045\n",
    "Name: 280, dtype: int64"
   ]
  },
  {
   "cell_type": "markdown",
   "id": "ed6c22d5",
   "metadata": {},
   "source": [
    "nombre_infected      1064\n",
    "nombre_sain          2222\n",
    "nombre_exposed        648\n",
    "nombre_recovered    16066\n",
    "Name: 281, dtype: int64"
   ]
  },
  {
   "cell_type": "markdown",
   "id": "e18f2ed5",
   "metadata": {},
   "source": [
    "nombre_infected      1097\n",
    "nombre_sain          2191\n",
    "nombre_exposed        637\n",
    "nombre_recovered    16075\n",
    "Name: 282, dtype: int64"
   ]
  },
  {
   "cell_type": "markdown",
   "id": "f3cb7a24",
   "metadata": {},
   "source": [
    "nombre_infected      1087\n",
    "nombre_sain          2155\n",
    "nombre_exposed        636\n",
    "nombre_recovered    16122\n",
    "Name: 283, dtype: int64"
   ]
  },
  {
   "cell_type": "markdown",
   "id": "2c0e523b",
   "metadata": {},
   "source": [
    "nombre_infected      1116\n",
    "nombre_sain          2120\n",
    "nombre_exposed        627\n",
    "nombre_recovered    16137\n",
    "Name: 284, dtype: int64"
   ]
  },
  {
   "cell_type": "markdown",
   "id": "ff37876a",
   "metadata": {},
   "source": [
    "nombre_infected      1116\n",
    "nombre_sain          2100\n",
    "nombre_exposed        635\n",
    "nombre_recovered    16149\n",
    "Name: 285, dtype: int64"
   ]
  },
  {
   "cell_type": "markdown",
   "id": "b9d210a2",
   "metadata": {},
   "source": [
    "nombre_infected      1106\n",
    "nombre_sain          2053\n",
    "nombre_exposed        648\n",
    "nombre_recovered    16193\n",
    "Name: 286, dtype: int64"
   ]
  },
  {
   "cell_type": "markdown",
   "id": "6dec96d8",
   "metadata": {},
   "source": [
    "nombre_infected      1095\n",
    "nombre_sain          2053\n",
    "nombre_exposed        627\n",
    "nombre_recovered    16225\n",
    "Name: 287, dtype: int64"
   ]
  },
  {
   "cell_type": "markdown",
   "id": "6f56b239",
   "metadata": {},
   "source": [
    "nombre_infected      1130\n",
    "nombre_sain          2038\n",
    "nombre_exposed        592\n",
    "nombre_recovered    16240\n",
    "Name: 288, dtype: int64"
   ]
  },
  {
   "cell_type": "markdown",
   "id": "143ceeec",
   "metadata": {},
   "source": [
    "nombre_infected      1114\n",
    "nombre_sain          2003\n",
    "nombre_exposed        610\n",
    "nombre_recovered    16273\n",
    "Name: 289, dtype: int64"
   ]
  },
  {
   "cell_type": "markdown",
   "id": "305ebf55",
   "metadata": {},
   "source": [
    "nombre_infected      1122\n",
    "nombre_sain          1999\n",
    "nombre_exposed        593\n",
    "nombre_recovered    16286\n",
    "Name: 290, dtype: int64"
   ]
  },
  {
   "cell_type": "markdown",
   "id": "65df1c1c",
   "metadata": {},
   "source": [
    "nombre_infected      1108\n",
    "nombre_sain          1979\n",
    "nombre_exposed        595\n",
    "nombre_recovered    16318\n",
    "Name: 291, dtype: int64"
   ]
  },
  {
   "cell_type": "markdown",
   "id": "f93c5a75",
   "metadata": {},
   "source": [
    "nombre_infected      1089\n",
    "nombre_sain          1975\n",
    "nombre_exposed        587\n",
    "nombre_recovered    16349\n",
    "Name: 292, dtype: int64"
   ]
  },
  {
   "cell_type": "markdown",
   "id": "62fdb10e",
   "metadata": {},
   "source": [
    "nombre_infected      1085\n",
    "nombre_sain          1977\n",
    "nombre_exposed        577\n",
    "nombre_recovered    16361\n",
    "Name: 293, dtype: int64"
   ]
  },
  {
   "cell_type": "markdown",
   "id": "d5e4eb5c",
   "metadata": {},
   "source": [
    "nombre_infected      1074\n",
    "nombre_sain          1951\n",
    "nombre_exposed        567\n",
    "nombre_recovered    16408\n",
    "Name: 294, dtype: int64"
   ]
  },
  {
   "cell_type": "markdown",
   "id": "2869d195",
   "metadata": {},
   "source": [
    "nombre_infected      1053\n",
    "nombre_sain          1936\n",
    "nombre_exposed        565\n",
    "nombre_recovered    16446\n",
    "Name: 295, dtype: int64"
   ]
  },
  {
   "cell_type": "markdown",
   "id": "b9603bb6",
   "metadata": {},
   "source": [
    "nombre_infected      1026\n",
    "nombre_sain          1930\n",
    "nombre_exposed        565\n",
    "nombre_recovered    16479\n",
    "Name: 296, dtype: int64"
   ]
  },
  {
   "cell_type": "markdown",
   "id": "cd25f10a",
   "metadata": {},
   "source": [
    "nombre_infected      1016\n",
    "nombre_sain          1905\n",
    "nombre_exposed        565\n",
    "nombre_recovered    16514\n",
    "Name: 297, dtype: int64"
   ]
  },
  {
   "cell_type": "markdown",
   "id": "a1ae5879",
   "metadata": {},
   "source": [
    "nombre_infected       995\n",
    "nombre_sain          1917\n",
    "nombre_exposed        556\n",
    "nombre_recovered    16532\n",
    "Name: 298, dtype: int64"
   ]
  },
  {
   "cell_type": "markdown",
   "id": "9e90e153",
   "metadata": {},
   "source": [
    "nombre_infected       981\n",
    "nombre_sain          1902\n",
    "nombre_exposed        563\n",
    "nombre_recovered    16554\n",
    "Name: 299, dtype: int64"
   ]
  },
  {
   "cell_type": "markdown",
   "id": "34213cc3",
   "metadata": {},
   "source": [
    "nombre_infected       991\n",
    "nombre_sain          1905\n",
    "nombre_exposed        538\n",
    "nombre_recovered    16566\n",
    "Name: 300, dtype: int64"
   ]
  },
  {
   "cell_type": "markdown",
   "id": "130fb8e8",
   "metadata": {},
   "source": [
    "nombre_infected       975\n",
    "nombre_sain          1893\n",
    "nombre_exposed        549\n",
    "nombre_recovered    16583\n",
    "Name: 301, dtype: int64"
   ]
  },
  {
   "cell_type": "markdown",
   "id": "fcc815f4",
   "metadata": {},
   "source": [
    "nombre_infected       940\n",
    "nombre_sain          1923\n",
    "nombre_exposed        545\n",
    "nombre_recovered    16592\n",
    "Name: 302, dtype: int64"
   ]
  },
  {
   "cell_type": "markdown",
   "id": "3ae5676a",
   "metadata": {},
   "source": [
    "nombre_infected       931\n",
    "nombre_sain          1903\n",
    "nombre_exposed        560\n",
    "nombre_recovered    16606\n",
    "Name: 303, dtype: int64"
   ]
  },
  {
   "cell_type": "markdown",
   "id": "aa3e538b",
   "metadata": {},
   "source": [
    "nombre_infected       928\n",
    "nombre_sain          1893\n",
    "nombre_exposed        549\n",
    "nombre_recovered    16630\n",
    "Name: 304, dtype: int64"
   ]
  },
  {
   "cell_type": "markdown",
   "id": "58068490",
   "metadata": {},
   "source": [
    "nombre_infected       926\n",
    "nombre_sain          1909\n",
    "nombre_exposed        547\n",
    "nombre_recovered    16618\n",
    "Name: 305, dtype: int64"
   ]
  },
  {
   "cell_type": "markdown",
   "id": "fb07940d",
   "metadata": {},
   "source": [
    "nombre_infected       925\n",
    "nombre_sain          1921\n",
    "nombre_exposed        550\n",
    "nombre_recovered    16604\n",
    "Name: 306, dtype: int64"
   ]
  },
  {
   "cell_type": "markdown",
   "id": "14a116c9",
   "metadata": {},
   "source": [
    "nombre_infected       922\n",
    "nombre_sain          1935\n",
    "nombre_exposed        549\n",
    "nombre_recovered    16594\n",
    "Name: 307, dtype: int64"
   ]
  },
  {
   "cell_type": "markdown",
   "id": "d23d5eb4",
   "metadata": {},
   "source": [
    "nombre_infected       943\n",
    "nombre_sain          1941\n",
    "nombre_exposed        550\n",
    "nombre_recovered    16566\n",
    "Name: 308, dtype: int64"
   ]
  },
  {
   "cell_type": "markdown",
   "id": "9853a53b",
   "metadata": {},
   "source": [
    "nombre_infected       929\n",
    "nombre_sain          1945\n",
    "nombre_exposed        549\n",
    "nombre_recovered    16577\n",
    "Name: 309, dtype: int64"
   ]
  },
  {
   "cell_type": "markdown",
   "id": "50d83e8a",
   "metadata": {},
   "source": [
    "nombre_infected       925\n",
    "nombre_sain          1986\n",
    "nombre_exposed        520\n",
    "nombre_recovered    16569\n",
    "Name: 310, dtype: int64"
   ]
  },
  {
   "cell_type": "markdown",
   "id": "640fc9ef",
   "metadata": {},
   "source": [
    "nombre_infected       925\n",
    "nombre_sain          1987\n",
    "nombre_exposed        511\n",
    "nombre_recovered    16577\n",
    "Name: 311, dtype: int64"
   ]
  },
  {
   "cell_type": "markdown",
   "id": "4ee116ed",
   "metadata": {},
   "source": [
    "nombre_infected       911\n",
    "nombre_sain          2002\n",
    "nombre_exposed        521\n",
    "nombre_recovered    16566\n",
    "Name: 312, dtype: int64"
   ]
  },
  {
   "cell_type": "markdown",
   "id": "29f5f8e2",
   "metadata": {},
   "source": [
    "nombre_infected       891\n",
    "nombre_sain          2022\n",
    "nombre_exposed        513\n",
    "nombre_recovered    16574\n",
    "Name: 313, dtype: int64"
   ]
  },
  {
   "cell_type": "markdown",
   "id": "3a11cdf1",
   "metadata": {},
   "source": [
    "nombre_infected       888\n",
    "nombre_sain          2014\n",
    "nombre_exposed        516\n",
    "nombre_recovered    16582\n",
    "Name: 314, dtype: int64"
   ]
  },
  {
   "cell_type": "markdown",
   "id": "80cb3fd7",
   "metadata": {},
   "source": [
    "nombre_infected       873\n",
    "nombre_sain          2034\n",
    "nombre_exposed        510\n",
    "nombre_recovered    16583\n",
    "Name: 315, dtype: int64"
   ]
  },
  {
   "cell_type": "markdown",
   "id": "b3347eff",
   "metadata": {},
   "source": [
    "nombre_infected       890\n",
    "nombre_sain          2022\n",
    "nombre_exposed        495\n",
    "nombre_recovered    16593\n",
    "Name: 316, dtype: int64"
   ]
  },
  {
   "cell_type": "markdown",
   "id": "4d96edb4",
   "metadata": {},
   "source": [
    "nombre_infected       892\n",
    "nombre_sain          2007\n",
    "nombre_exposed        500\n",
    "nombre_recovered    16601\n",
    "Name: 317, dtype: int64"
   ]
  },
  {
   "cell_type": "markdown",
   "id": "edaf9921",
   "metadata": {},
   "source": [
    "nombre_infected       884\n",
    "nombre_sain          2024\n",
    "nombre_exposed        490\n",
    "nombre_recovered    16602\n",
    "Name: 318, dtype: int64"
   ]
  },
  {
   "cell_type": "markdown",
   "id": "f635c475",
   "metadata": {},
   "source": [
    "nombre_infected       862\n",
    "nombre_sain          2039\n",
    "nombre_exposed        496\n",
    "nombre_recovered    16603\n",
    "Name: 319, dtype: int64"
   ]
  },
  {
   "cell_type": "markdown",
   "id": "f9edb595",
   "metadata": {},
   "source": [
    "nombre_infected       835\n",
    "nombre_sain          2089\n",
    "nombre_exposed        489\n",
    "nombre_recovered    16587\n",
    "Name: 320, dtype: int64"
   ]
  },
  {
   "cell_type": "markdown",
   "id": "0bd00c20",
   "metadata": {},
   "source": [
    "nombre_infected       826\n",
    "nombre_sain          2118\n",
    "nombre_exposed        500\n",
    "nombre_recovered    16556\n",
    "Name: 321, dtype: int64"
   ]
  },
  {
   "cell_type": "markdown",
   "id": "a15de62b",
   "metadata": {},
   "source": [
    "nombre_infected       822\n",
    "nombre_sain          2119\n",
    "nombre_exposed        490\n",
    "nombre_recovered    16569\n",
    "Name: 322, dtype: int64"
   ]
  },
  {
   "cell_type": "markdown",
   "id": "117df37f",
   "metadata": {},
   "source": [
    "nombre_infected       826\n",
    "nombre_sain          2119\n",
    "nombre_exposed        509\n",
    "nombre_recovered    16546\n",
    "Name: 323, dtype: int64"
   ]
  },
  {
   "cell_type": "markdown",
   "id": "29e1e8c7",
   "metadata": {},
   "source": [
    "nombre_infected       821\n",
    "nombre_sain          2135\n",
    "nombre_exposed        514\n",
    "nombre_recovered    16530\n",
    "Name: 324, dtype: int64"
   ]
  },
  {
   "cell_type": "markdown",
   "id": "15820eed",
   "metadata": {},
   "source": [
    "nombre_infected       829\n",
    "nombre_sain          2146\n",
    "nombre_exposed        505\n",
    "nombre_recovered    16520\n",
    "Name: 325, dtype: int64"
   ]
  },
  {
   "cell_type": "markdown",
   "id": "66b28712",
   "metadata": {},
   "source": [
    "nombre_infected       813\n",
    "nombre_sain          2161\n",
    "nombre_exposed        516\n",
    "nombre_recovered    16510\n",
    "Name: 326, dtype: int64"
   ]
  },
  {
   "cell_type": "markdown",
   "id": "13366faf",
   "metadata": {},
   "source": [
    "nombre_infected       833\n",
    "nombre_sain          2177\n",
    "nombre_exposed        513\n",
    "nombre_recovered    16477\n",
    "Name: 327, dtype: int64"
   ]
  },
  {
   "cell_type": "markdown",
   "id": "2c80c342",
   "metadata": {},
   "source": [
    "nombre_infected       836\n",
    "nombre_sain          2191\n",
    "nombre_exposed        515\n",
    "nombre_recovered    16458\n",
    "Name: 328, dtype: int64"
   ]
  },
  {
   "cell_type": "markdown",
   "id": "1a6e341a",
   "metadata": {},
   "source": [
    "nombre_infected       847\n",
    "nombre_sain          2205\n",
    "nombre_exposed        510\n",
    "nombre_recovered    16438\n",
    "Name: 329, dtype: int64"
   ]
  },
  {
   "cell_type": "markdown",
   "id": "574d1754",
   "metadata": {},
   "source": [
    "nombre_infected       829\n",
    "nombre_sain          2188\n",
    "nombre_exposed        536\n",
    "nombre_recovered    16447\n",
    "Name: 330, dtype: int64"
   ]
  },
  {
   "cell_type": "markdown",
   "id": "0aeb236f",
   "metadata": {},
   "source": [
    "nombre_infected       860\n",
    "nombre_sain          2181\n",
    "nombre_exposed        522\n",
    "nombre_recovered    16437\n",
    "Name: 331, dtype: int64"
   ]
  },
  {
   "cell_type": "markdown",
   "id": "8487e18e",
   "metadata": {},
   "source": [
    "nombre_infected       844\n",
    "nombre_sain          2176\n",
    "nombre_exposed        530\n",
    "nombre_recovered    16450\n",
    "Name: 332, dtype: int64"
   ]
  },
  {
   "cell_type": "markdown",
   "id": "a477cb69",
   "metadata": {},
   "source": [
    "nombre_infected       864\n",
    "nombre_sain          2183\n",
    "nombre_exposed        518\n",
    "nombre_recovered    16435\n",
    "Name: 333, dtype: int64"
   ]
  },
  {
   "cell_type": "markdown",
   "id": "c99be506",
   "metadata": {},
   "source": [
    "nombre_infected       880\n",
    "nombre_sain          2183\n",
    "nombre_exposed        527\n",
    "nombre_recovered    16410\n",
    "Name: 334, dtype: int64"
   ]
  },
  {
   "cell_type": "markdown",
   "id": "d8ae622e",
   "metadata": {},
   "source": [
    "nombre_infected       873\n",
    "nombre_sain          2188\n",
    "nombre_exposed        538\n",
    "nombre_recovered    16401\n",
    "Name: 335, dtype: int64"
   ]
  },
  {
   "cell_type": "markdown",
   "id": "dbad5f3a",
   "metadata": {},
   "source": [
    "nombre_infected       867\n",
    "nombre_sain          2195\n",
    "nombre_exposed        521\n",
    "nombre_recovered    16417\n",
    "Name: 336, dtype: int64"
   ]
  },
  {
   "cell_type": "markdown",
   "id": "92c3773d",
   "metadata": {},
   "source": [
    "nombre_infected       859\n",
    "nombre_sain          2204\n",
    "nombre_exposed        526\n",
    "nombre_recovered    16411\n",
    "Name: 337, dtype: int64"
   ]
  },
  {
   "cell_type": "markdown",
   "id": "7a9f2737",
   "metadata": {},
   "source": [
    "nombre_infected       880\n",
    "nombre_sain          2214\n",
    "nombre_exposed        519\n",
    "nombre_recovered    16387\n",
    "Name: 338, dtype: int64"
   ]
  },
  {
   "cell_type": "markdown",
   "id": "1ab37ad2",
   "metadata": {},
   "source": [
    "nombre_infected       883\n",
    "nombre_sain          2222\n",
    "nombre_exposed        522\n",
    "nombre_recovered    16373\n",
    "Name: 339, dtype: int64"
   ]
  },
  {
   "cell_type": "markdown",
   "id": "8e0bc844",
   "metadata": {},
   "source": [
    "nombre_infected       889\n",
    "nombre_sain          2215\n",
    "nombre_exposed        512\n",
    "nombre_recovered    16384\n",
    "Name: 340, dtype: int64"
   ]
  },
  {
   "cell_type": "markdown",
   "id": "c69d6513",
   "metadata": {},
   "source": [
    "nombre_infected       881\n",
    "nombre_sain          2220\n",
    "nombre_exposed        521\n",
    "nombre_recovered    16378\n",
    "Name: 341, dtype: int64"
   ]
  },
  {
   "cell_type": "markdown",
   "id": "cc3e4192",
   "metadata": {},
   "source": [
    "nombre_infected       872\n",
    "nombre_sain          2195\n",
    "nombre_exposed        528\n",
    "nombre_recovered    16405\n",
    "Name: 342, dtype: int64"
   ]
  },
  {
   "cell_type": "markdown",
   "id": "49281591",
   "metadata": {},
   "source": [
    "nombre_infected       873\n",
    "nombre_sain          2184\n",
    "nombre_exposed        530\n",
    "nombre_recovered    16413\n",
    "Name: 343, dtype: int64"
   ]
  },
  {
   "cell_type": "markdown",
   "id": "64b90bf7",
   "metadata": {},
   "source": [
    "nombre_infected       848\n",
    "nombre_sain          2173\n",
    "nombre_exposed        530\n",
    "nombre_recovered    16449\n",
    "Name: 344, dtype: int64"
   ]
  },
  {
   "cell_type": "markdown",
   "id": "e0cebbdc",
   "metadata": {},
   "source": [
    "nombre_infected       848\n",
    "nombre_sain          2188\n",
    "nombre_exposed        522\n",
    "nombre_recovered    16442\n",
    "Name: 345, dtype: int64"
   ]
  },
  {
   "cell_type": "markdown",
   "id": "a60a1fa6",
   "metadata": {},
   "source": [
    "nombre_infected       853\n",
    "nombre_sain          2218\n",
    "nombre_exposed        512\n",
    "nombre_recovered    16417\n",
    "Name: 346, dtype: int64"
   ]
  },
  {
   "cell_type": "markdown",
   "id": "6ea88889",
   "metadata": {},
   "source": [
    "nombre_infected       854\n",
    "nombre_sain          2234\n",
    "nombre_exposed        507\n",
    "nombre_recovered    16405\n",
    "Name: 347, dtype: int64"
   ]
  },
  {
   "cell_type": "markdown",
   "id": "5dd72421",
   "metadata": {},
   "source": [
    "nombre_infected       826\n",
    "nombre_sain          2209\n",
    "nombre_exposed        534\n",
    "nombre_recovered    16431\n",
    "Name: 348, dtype: int64"
   ]
  },
  {
   "cell_type": "markdown",
   "id": "7b4b05e7",
   "metadata": {},
   "source": [
    "nombre_infected       824\n",
    "nombre_sain          2198\n",
    "nombre_exposed        542\n",
    "nombre_recovered    16436\n",
    "Name: 349, dtype: int64"
   ]
  },
  {
   "cell_type": "markdown",
   "id": "5973d561",
   "metadata": {},
   "source": [
    "nombre_infected       833\n",
    "nombre_sain          2200\n",
    "nombre_exposed        528\n",
    "nombre_recovered    16439\n",
    "Name: 350, dtype: int64"
   ]
  },
  {
   "cell_type": "markdown",
   "id": "18ddc563",
   "metadata": {},
   "source": [
    "nombre_infected       828\n",
    "nombre_sain          2209\n",
    "nombre_exposed        526\n",
    "nombre_recovered    16437\n",
    "Name: 351, dtype: int64"
   ]
  },
  {
   "cell_type": "markdown",
   "id": "4c0f02fc",
   "metadata": {},
   "source": [
    "nombre_infected       800\n",
    "nombre_sain          2201\n",
    "nombre_exposed        554\n",
    "nombre_recovered    16445\n",
    "Name: 352, dtype: int64"
   ]
  },
  {
   "cell_type": "markdown",
   "id": "1eead242",
   "metadata": {},
   "source": [
    "nombre_infected       812\n",
    "nombre_sain          2201\n",
    "nombre_exposed        549\n",
    "nombre_recovered    16438\n",
    "Name: 353, dtype: int64"
   ]
  },
  {
   "cell_type": "markdown",
   "id": "fc4ccbac",
   "metadata": {},
   "source": [
    "nombre_infected       810\n",
    "nombre_sain          2227\n",
    "nombre_exposed        542\n",
    "nombre_recovered    16421\n",
    "Name: 354, dtype: int64"
   ]
  },
  {
   "cell_type": "markdown",
   "id": "d9ab7c02",
   "metadata": {},
   "source": [
    "nombre_infected       827\n",
    "nombre_sain          2199\n",
    "nombre_exposed        527\n",
    "nombre_recovered    16447\n",
    "Name: 355, dtype: int64"
   ]
  },
  {
   "cell_type": "markdown",
   "id": "e393fae6",
   "metadata": {},
   "source": [
    "nombre_infected       826\n",
    "nombre_sain          2191\n",
    "nombre_exposed        532\n",
    "nombre_recovered    16451\n",
    "Name: 356, dtype: int64"
   ]
  },
  {
   "cell_type": "markdown",
   "id": "08ced53b",
   "metadata": {},
   "source": [
    "nombre_infected       845\n",
    "nombre_sain          2184\n",
    "nombre_exposed        522\n",
    "nombre_recovered    16449\n",
    "Name: 357, dtype: int64"
   ]
  },
  {
   "cell_type": "markdown",
   "id": "1bf40eb5",
   "metadata": {},
   "source": [
    "nombre_infected       848\n",
    "nombre_sain          2187\n",
    "nombre_exposed        510\n",
    "nombre_recovered    16455\n",
    "Name: 358, dtype: int64"
   ]
  },
  {
   "cell_type": "markdown",
   "id": "b2163574",
   "metadata": {},
   "source": [
    "nombre_infected       850\n",
    "nombre_sain          2153\n",
    "nombre_exposed        521\n",
    "nombre_recovered    16476\n",
    "Name: 359, dtype: int64"
   ]
  },
  {
   "cell_type": "markdown",
   "id": "29148b68",
   "metadata": {},
   "source": [
    "nombre_infected       825\n",
    "nombre_sain          2140\n",
    "nombre_exposed        527\n",
    "nombre_recovered    16508\n",
    "Name: 360, dtype: int64"
   ]
  },
  {
   "cell_type": "markdown",
   "id": "6f1e35a8",
   "metadata": {},
   "source": [
    "nombre_infected       818\n",
    "nombre_sain          2142\n",
    "nombre_exposed        538\n",
    "nombre_recovered    16502\n",
    "Name: 361, dtype: int64"
   ]
  },
  {
   "cell_type": "markdown",
   "id": "bd4130c0",
   "metadata": {},
   "source": [
    "nombre_infected       844\n",
    "nombre_sain          2130\n",
    "nombre_exposed        518\n",
    "nombre_recovered    16508\n",
    "Name: 362, dtype: int64"
   ]
  },
  {
   "cell_type": "markdown",
   "id": "c82e33e3",
   "metadata": {},
   "source": [
    "nombre_infected       841\n",
    "nombre_sain          2142\n",
    "nombre_exposed        497\n",
    "nombre_recovered    16520\n",
    "Name: 363, dtype: int64"
   ]
  },
  {
   "cell_type": "markdown",
   "id": "5765a3a9",
   "metadata": {},
   "source": [
    "nombre_infected       851\n",
    "nombre_sain          2154\n",
    "nombre_exposed        503\n",
    "nombre_recovered    16492\n",
    "Name: 364, dtype: int64"
   ]
  },
  {
   "cell_type": "markdown",
   "id": "9aacf938",
   "metadata": {},
   "source": [
    "nombre_infected       847\n",
    "nombre_sain          2168\n",
    "nombre_exposed        474\n",
    "nombre_recovered    16511\n",
    "Name: 365, dtype: int64"
   ]
  },
  {
   "cell_type": "markdown",
   "id": "e0913a8d",
   "metadata": {},
   "source": [
    "nombre_infected       839\n",
    "nombre_sain          2153\n",
    "nombre_exposed        505\n",
    "nombre_recovered    16503\n",
    "Name: 366, dtype: int64"
   ]
  },
  {
   "cell_type": "markdown",
   "id": "44e3638c",
   "metadata": {},
   "source": [
    "nombre_infected       825\n",
    "nombre_sain          2169\n",
    "nombre_exposed        506\n",
    "nombre_recovered    16500\n",
    "Name: 367, dtype: int64"
   ]
  },
  {
   "cell_type": "markdown",
   "id": "2a734f26",
   "metadata": {},
   "source": [
    "nombre_infected       840\n",
    "nombre_sain          2167\n",
    "nombre_exposed        511\n",
    "nombre_recovered    16482\n",
    "Name: 368, dtype: int64"
   ]
  },
  {
   "cell_type": "markdown",
   "id": "09bd11ed",
   "metadata": {},
   "source": [
    "nombre_infected       841\n",
    "nombre_sain          2146\n",
    "nombre_exposed        522\n",
    "nombre_recovered    16491\n",
    "Name: 369, dtype: int64"
   ]
  },
  {
   "cell_type": "markdown",
   "id": "eb157158",
   "metadata": {},
   "source": [
    "nombre_infected       827\n",
    "nombre_sain          2166\n",
    "nombre_exposed        520\n",
    "nombre_recovered    16487\n",
    "Name: 370, dtype: int64"
   ]
  },
  {
   "cell_type": "markdown",
   "id": "cc73630a",
   "metadata": {},
   "source": [
    "nombre_infected       852\n",
    "nombre_sain          2169\n",
    "nombre_exposed        490\n",
    "nombre_recovered    16489\n",
    "Name: 371, dtype: int64"
   ]
  },
  {
   "cell_type": "markdown",
   "id": "3a5c1c1c",
   "metadata": {},
   "source": [
    "nombre_infected       852\n",
    "nombre_sain          2164\n",
    "nombre_exposed        496\n",
    "nombre_recovered    16488\n",
    "Name: 372, dtype: int64"
   ]
  },
  {
   "cell_type": "markdown",
   "id": "02cae9b6",
   "metadata": {},
   "source": [
    "nombre_infected       802\n",
    "nombre_sain          2181\n",
    "nombre_exposed        499\n",
    "nombre_recovered    16518\n",
    "Name: 373, dtype: int64"
   ]
  },
  {
   "cell_type": "markdown",
   "id": "778b3700",
   "metadata": {},
   "source": [
    "nombre_infected       793\n",
    "nombre_sain          2198\n",
    "nombre_exposed        511\n",
    "nombre_recovered    16498\n",
    "Name: 374, dtype: int64"
   ]
  },
  {
   "cell_type": "markdown",
   "id": "cfe1f5c2",
   "metadata": {},
   "source": [
    "nombre_infected       782\n",
    "nombre_sain          2198\n",
    "nombre_exposed        539\n",
    "nombre_recovered    16481\n",
    "Name: 375, dtype: int64"
   ]
  },
  {
   "cell_type": "markdown",
   "id": "3ffa4ba1",
   "metadata": {},
   "source": [
    "nombre_infected       795\n",
    "nombre_sain          2223\n",
    "nombre_exposed        517\n",
    "nombre_recovered    16465\n",
    "Name: 376, dtype: int64"
   ]
  },
  {
   "cell_type": "markdown",
   "id": "7fe38ca2",
   "metadata": {},
   "source": [
    "nombre_infected       817\n",
    "nombre_sain          2211\n",
    "nombre_exposed        513\n",
    "nombre_recovered    16459\n",
    "Name: 377, dtype: int64"
   ]
  },
  {
   "cell_type": "markdown",
   "id": "5b308f01",
   "metadata": {},
   "source": [
    "nombre_infected       833\n",
    "nombre_sain          2229\n",
    "nombre_exposed        526\n",
    "nombre_recovered    16412\n",
    "Name: 378, dtype: int64"
   ]
  },
  {
   "cell_type": "markdown",
   "id": "af53b8cb",
   "metadata": {},
   "source": [
    "nombre_infected       847\n",
    "nombre_sain          2244\n",
    "nombre_exposed        515\n",
    "nombre_recovered    16394\n",
    "Name: 379, dtype: int64"
   ]
  },
  {
   "cell_type": "markdown",
   "id": "f621f66b",
   "metadata": {},
   "source": [
    "nombre_infected       860\n",
    "nombre_sain          2276\n",
    "nombre_exposed        498\n",
    "nombre_recovered    16366\n",
    "Name: 380, dtype: int64"
   ]
  },
  {
   "cell_type": "markdown",
   "id": "af77c3be",
   "metadata": {},
   "source": [
    "nombre_infected       881\n",
    "nombre_sain          2301\n",
    "nombre_exposed        499\n",
    "nombre_recovered    16319\n",
    "Name: 381, dtype: int64"
   ]
  },
  {
   "cell_type": "markdown",
   "id": "b54f8f88",
   "metadata": {},
   "source": [
    "nombre_infected       872\n",
    "nombre_sain          2338\n",
    "nombre_exposed        508\n",
    "nombre_recovered    16282\n",
    "Name: 382, dtype: int64"
   ]
  },
  {
   "cell_type": "markdown",
   "id": "31b56975",
   "metadata": {},
   "source": [
    "nombre_infected       867\n",
    "nombre_sain          2336\n",
    "nombre_exposed        518\n",
    "nombre_recovered    16279\n",
    "Name: 383, dtype: int64"
   ]
  },
  {
   "cell_type": "markdown",
   "id": "13fb36c7",
   "metadata": {},
   "source": [
    "nombre_infected       869\n",
    "nombre_sain          2318\n",
    "nombre_exposed        539\n",
    "nombre_recovered    16274\n",
    "Name: 384, dtype: int64"
   ]
  },
  {
   "cell_type": "markdown",
   "id": "9fde94a8",
   "metadata": {},
   "source": [
    "nombre_infected       860\n",
    "nombre_sain          2335\n",
    "nombre_exposed        552\n",
    "nombre_recovered    16253\n",
    "Name: 385, dtype: int64"
   ]
  },
  {
   "cell_type": "markdown",
   "id": "6cee2a8e",
   "metadata": {},
   "source": [
    "nombre_infected       849\n",
    "nombre_sain          2339\n",
    "nombre_exposed        560\n",
    "nombre_recovered    16252\n",
    "Name: 386, dtype: int64"
   ]
  },
  {
   "cell_type": "markdown",
   "id": "9394480b",
   "metadata": {},
   "source": [
    "nombre_infected       859\n",
    "nombre_sain          2363\n",
    "nombre_exposed        559\n",
    "nombre_recovered    16219\n",
    "Name: 387, dtype: int64"
   ]
  },
  {
   "cell_type": "markdown",
   "id": "2b8b92d2",
   "metadata": {},
   "source": [
    "nombre_infected       874\n",
    "nombre_sain          2349\n",
    "nombre_exposed        556\n",
    "nombre_recovered    16221\n",
    "Name: 388, dtype: int64"
   ]
  },
  {
   "cell_type": "markdown",
   "id": "2a0da4ac",
   "metadata": {},
   "source": [
    "nombre_infected       884\n",
    "nombre_sain          2339\n",
    "nombre_exposed        553\n",
    "nombre_recovered    16224\n",
    "Name: 389, dtype: int64"
   ]
  },
  {
   "cell_type": "markdown",
   "id": "9e341a72",
   "metadata": {},
   "source": [
    "nombre_infected       892\n",
    "nombre_sain          2336\n",
    "nombre_exposed        560\n",
    "nombre_recovered    16212\n",
    "Name: 390, dtype: int64"
   ]
  },
  {
   "cell_type": "markdown",
   "id": "3017505f",
   "metadata": {},
   "source": [
    "nombre_infected       885\n",
    "nombre_sain          2329\n",
    "nombre_exposed        585\n",
    "nombre_recovered    16201\n",
    "Name: 391, dtype: int64"
   ]
  },
  {
   "cell_type": "markdown",
   "id": "85791533",
   "metadata": {},
   "source": [
    "nombre_infected       868\n",
    "nombre_sain          2297\n",
    "nombre_exposed        608\n",
    "nombre_recovered    16227\n",
    "Name: 392, dtype: int64"
   ]
  },
  {
   "cell_type": "markdown",
   "id": "a035c7eb",
   "metadata": {},
   "source": [
    "nombre_infected       911\n",
    "nombre_sain          2306\n",
    "nombre_exposed        593\n",
    "nombre_recovered    16190\n",
    "Name: 393, dtype: int64"
   ]
  },
  {
   "cell_type": "markdown",
   "id": "858f5c27",
   "metadata": {},
   "source": [
    "nombre_infected       938\n",
    "nombre_sain          2317\n",
    "nombre_exposed        564\n",
    "nombre_recovered    16181\n",
    "Name: 394, dtype: int64"
   ]
  },
  {
   "cell_type": "markdown",
   "id": "000bcabf",
   "metadata": {},
   "source": [
    "nombre_infected       950\n",
    "nombre_sain          2299\n",
    "nombre_exposed        585\n",
    "nombre_recovered    16166\n",
    "Name: 395, dtype: int64"
   ]
  },
  {
   "cell_type": "markdown",
   "id": "fb116675",
   "metadata": {},
   "source": [
    "nombre_infected       937\n",
    "nombre_sain          2292\n",
    "nombre_exposed        619\n",
    "nombre_recovered    16152\n",
    "Name: 396, dtype: int64"
   ]
  },
  {
   "cell_type": "markdown",
   "id": "344a5604",
   "metadata": {},
   "source": [
    "nombre_infected       944\n",
    "nombre_sain          2290\n",
    "nombre_exposed        621\n",
    "nombre_recovered    16145\n",
    "Name: 397, dtype: int64"
   ]
  },
  {
   "cell_type": "markdown",
   "id": "5e198d59",
   "metadata": {},
   "source": [
    "nombre_infected       940\n",
    "nombre_sain          2272\n",
    "nombre_exposed        634\n",
    "nombre_recovered    16154\n",
    "Name: 398, dtype: int64"
   ]
  },
  {
   "cell_type": "markdown",
   "id": "2a2010b6",
   "metadata": {},
   "source": [
    "nombre_infected       959\n",
    "nombre_sain          2263\n",
    "nombre_exposed        637\n",
    "nombre_recovered    16141\n",
    "Name: 399, dtype: int64"
   ]
  },
  {
   "cell_type": "markdown",
   "id": "b0b46a6c",
   "metadata": {},
   "source": [
    "nombre_infected      1007\n",
    "nombre_sain          2244\n",
    "nombre_exposed        620\n",
    "nombre_recovered    16129\n",
    "Name: 400, dtype: int64"
   ]
  },
  {
   "cell_type": "markdown",
   "id": "163b4600",
   "metadata": {},
   "source": [
    "nombre_infected      1034\n",
    "nombre_sain          2250\n",
    "nombre_exposed        607\n",
    "nombre_recovered    16109\n",
    "Name: 401, dtype: int64"
   ]
  },
  {
   "cell_type": "markdown",
   "id": "e6b6b083",
   "metadata": {},
   "source": [
    "nombre_infected      1056\n",
    "nombre_sain          2218\n",
    "nombre_exposed        624\n",
    "nombre_recovered    16102\n",
    "Name: 402, dtype: int64"
   ]
  },
  {
   "cell_type": "markdown",
   "id": "e29cbd42",
   "metadata": {},
   "source": [
    "nombre_infected      1041\n",
    "nombre_sain          2252\n",
    "nombre_exposed        627\n",
    "nombre_recovered    16080\n",
    "Name: 403, dtype: int64"
   ]
  },
  {
   "cell_type": "markdown",
   "id": "df142406",
   "metadata": {},
   "source": [
    "nombre_infected      1054\n",
    "nombre_sain          2215\n",
    "nombre_exposed        636\n",
    "nombre_recovered    16095\n",
    "Name: 404, dtype: int64"
   ]
  },
  {
   "cell_type": "markdown",
   "id": "7ee6b621",
   "metadata": {},
   "source": [
    "nombre_infected      1046\n",
    "nombre_sain          2201\n",
    "nombre_exposed        636\n",
    "nombre_recovered    16117\n",
    "Name: 405, dtype: int64"
   ]
  },
  {
   "cell_type": "markdown",
   "id": "49c6e3aa",
   "metadata": {},
   "source": [
    "nombre_infected      1040\n",
    "nombre_sain          2182\n",
    "nombre_exposed        651\n",
    "nombre_recovered    16127\n",
    "Name: 406, dtype: int64"
   ]
  },
  {
   "cell_type": "markdown",
   "id": "7c9cdd2e",
   "metadata": {},
   "source": [
    "nombre_infected      1067\n",
    "nombre_sain          2154\n",
    "nombre_exposed        652\n",
    "nombre_recovered    16127\n",
    "Name: 407, dtype: int64"
   ]
  },
  {
   "cell_type": "markdown",
   "id": "41357e34",
   "metadata": {},
   "source": [
    "nombre_infected      1075\n",
    "nombre_sain          2149\n",
    "nombre_exposed        639\n",
    "nombre_recovered    16137\n",
    "Name: 408, dtype: int64"
   ]
  },
  {
   "cell_type": "markdown",
   "id": "63adde94",
   "metadata": {},
   "source": [
    "nombre_infected      1102\n",
    "nombre_sain          2122\n",
    "nombre_exposed        614\n",
    "nombre_recovered    16162\n",
    "Name: 409, dtype: int64"
   ]
  },
  {
   "cell_type": "markdown",
   "id": "8ae5da2e",
   "metadata": {},
   "source": [
    "nombre_infected      1090\n",
    "nombre_sain          2103\n",
    "nombre_exposed        601\n",
    "nombre_recovered    16206\n",
    "Name: 410, dtype: int64"
   ]
  },
  {
   "cell_type": "markdown",
   "id": "6b473bf8",
   "metadata": {},
   "source": [
    "nombre_infected      1096\n",
    "nombre_sain          2080\n",
    "nombre_exposed        593\n",
    "nombre_recovered    16231\n",
    "Name: 411, dtype: int64"
   ]
  },
  {
   "cell_type": "markdown",
   "id": "f84f8230",
   "metadata": {},
   "source": [
    "nombre_infected      1095\n",
    "nombre_sain          2025\n",
    "nombre_exposed        620\n",
    "nombre_recovered    16260\n",
    "Name: 412, dtype: int64"
   ]
  },
  {
   "cell_type": "markdown",
   "id": "f61f3500",
   "metadata": {},
   "source": [
    "nombre_infected      1087\n",
    "nombre_sain          1985\n",
    "nombre_exposed        644\n",
    "nombre_recovered    16284\n",
    "Name: 413, dtype: int64"
   ]
  },
  {
   "cell_type": "markdown",
   "id": "547df46b",
   "metadata": {},
   "source": [
    "nombre_infected      1097\n",
    "nombre_sain          1933\n",
    "nombre_exposed        658\n",
    "nombre_recovered    16312\n",
    "Name: 414, dtype: int64"
   ]
  },
  {
   "cell_type": "markdown",
   "id": "3bee52f3",
   "metadata": {},
   "source": [
    "nombre_infected      1121\n",
    "nombre_sain          1910\n",
    "nombre_exposed        645\n",
    "nombre_recovered    16324\n",
    "Name: 415, dtype: int64"
   ]
  },
  {
   "cell_type": "markdown",
   "id": "6a1b0de1",
   "metadata": {},
   "source": [
    "nombre_infected      1095\n",
    "nombre_sain          1899\n",
    "nombre_exposed        622\n",
    "nombre_recovered    16384\n",
    "Name: 416, dtype: int64"
   ]
  },
  {
   "cell_type": "markdown",
   "id": "e62e3c58",
   "metadata": {},
   "source": [
    "nombre_infected      1128\n",
    "nombre_sain          1855\n",
    "nombre_exposed        618\n",
    "nombre_recovered    16399\n",
    "Name: 417, dtype: int64"
   ]
  },
  {
   "cell_type": "markdown",
   "id": "eeeb8f1b",
   "metadata": {},
   "source": [
    "nombre_infected      1113\n",
    "nombre_sain          1839\n",
    "nombre_exposed        616\n",
    "nombre_recovered    16432\n",
    "Name: 418, dtype: int64"
   ]
  },
  {
   "cell_type": "markdown",
   "id": "637c70e6",
   "metadata": {},
   "source": [
    "nombre_infected      1105\n",
    "nombre_sain          1807\n",
    "nombre_exposed        623\n",
    "nombre_recovered    16465\n",
    "Name: 419, dtype: int64"
   ]
  },
  {
   "cell_type": "markdown",
   "id": "2d3381ff",
   "metadata": {},
   "source": [
    "nombre_infected      1138\n",
    "nombre_sain          1795\n",
    "nombre_exposed        589\n",
    "nombre_recovered    16478\n",
    "Name: 420, dtype: int64"
   ]
  },
  {
   "cell_type": "markdown",
   "id": "dcefb948",
   "metadata": {},
   "source": [
    "nombre_infected      1144\n",
    "nombre_sain          1822\n",
    "nombre_exposed        553\n",
    "nombre_recovered    16481\n",
    "Name: 421, dtype: int64"
   ]
  },
  {
   "cell_type": "markdown",
   "id": "20a28f53",
   "metadata": {},
   "source": [
    "nombre_infected      1146\n",
    "nombre_sain          1806\n",
    "nombre_exposed        535\n",
    "nombre_recovered    16513\n",
    "Name: 422, dtype: int64"
   ]
  },
  {
   "cell_type": "markdown",
   "id": "5e0f01c7",
   "metadata": {},
   "source": [
    "nombre_infected      1120\n",
    "nombre_sain          1819\n",
    "nombre_exposed        544\n",
    "nombre_recovered    16517\n",
    "Name: 423, dtype: int64"
   ]
  },
  {
   "cell_type": "markdown",
   "id": "f6adec56",
   "metadata": {},
   "source": [
    "nombre_infected      1108\n",
    "nombre_sain          1805\n",
    "nombre_exposed        548\n",
    "nombre_recovered    16539\n",
    "Name: 424, dtype: int64"
   ]
  },
  {
   "cell_type": "markdown",
   "id": "1348d136",
   "metadata": {},
   "source": [
    "nombre_infected      1093\n",
    "nombre_sain          1799\n",
    "nombre_exposed        566\n",
    "nombre_recovered    16542\n",
    "Name: 425, dtype: int64"
   ]
  },
  {
   "cell_type": "markdown",
   "id": "4e5138e8",
   "metadata": {},
   "source": [
    "nombre_infected      1074\n",
    "nombre_sain          1812\n",
    "nombre_exposed        571\n",
    "nombre_recovered    16543\n",
    "Name: 426, dtype: int64"
   ]
  },
  {
   "cell_type": "markdown",
   "id": "a000e4cc",
   "metadata": {},
   "source": [
    "nombre_infected      1072\n",
    "nombre_sain          1802\n",
    "nombre_exposed        576\n",
    "nombre_recovered    16550\n",
    "Name: 427, dtype: int64"
   ]
  },
  {
   "cell_type": "markdown",
   "id": "3343198d",
   "metadata": {},
   "source": [
    "nombre_infected      1055\n",
    "nombre_sain          1831\n",
    "nombre_exposed        549\n",
    "nombre_recovered    16565\n",
    "Name: 428, dtype: int64"
   ]
  },
  {
   "cell_type": "markdown",
   "id": "e64cfc4c",
   "metadata": {},
   "source": [
    "nombre_infected      1043\n",
    "nombre_sain          1846\n",
    "nombre_exposed        557\n",
    "nombre_recovered    16554\n",
    "Name: 429, dtype: int64"
   ]
  },
  {
   "cell_type": "markdown",
   "id": "275b5161",
   "metadata": {},
   "source": [
    "nombre_infected      1023\n",
    "nombre_sain          1846\n",
    "nombre_exposed        567\n",
    "nombre_recovered    16564\n",
    "Name: 430, dtype: int64"
   ]
  },
  {
   "cell_type": "markdown",
   "id": "c6079aeb",
   "metadata": {},
   "source": [
    "nombre_infected       982\n",
    "nombre_sain          1852\n",
    "nombre_exposed        567\n",
    "nombre_recovered    16599\n",
    "Name: 431, dtype: int64"
   ]
  },
  {
   "cell_type": "markdown",
   "id": "2dcbdcdf",
   "metadata": {},
   "source": [
    "nombre_infected       994\n",
    "nombre_sain          1868\n",
    "nombre_exposed        550\n",
    "nombre_recovered    16588\n",
    "Name: 432, dtype: int64"
   ]
  },
  {
   "cell_type": "markdown",
   "id": "3bd078d6",
   "metadata": {},
   "source": [
    "nombre_infected       981\n",
    "nombre_sain          1857\n",
    "nombre_exposed        562\n",
    "nombre_recovered    16600\n",
    "Name: 433, dtype: int64"
   ]
  },
  {
   "cell_type": "markdown",
   "id": "0797f854",
   "metadata": {},
   "source": [
    "nombre_infected       967\n",
    "nombre_sain          1876\n",
    "nombre_exposed        547\n",
    "nombre_recovered    16610\n",
    "Name: 434, dtype: int64"
   ]
  },
  {
   "cell_type": "markdown",
   "id": "bac8c548",
   "metadata": {},
   "source": [
    "nombre_infected       981\n",
    "nombre_sain          1877\n",
    "nombre_exposed        499\n",
    "nombre_recovered    16643\n",
    "Name: 435, dtype: int64"
   ]
  },
  {
   "cell_type": "markdown",
   "id": "ee052257",
   "metadata": {},
   "source": [
    "nombre_infected       968\n",
    "nombre_sain          1868\n",
    "nombre_exposed        513\n",
    "nombre_recovered    16651\n",
    "Name: 436, dtype: int64"
   ]
  },
  {
   "cell_type": "markdown",
   "id": "a9f2b171",
   "metadata": {},
   "source": [
    "nombre_infected       960\n",
    "nombre_sain          1877\n",
    "nombre_exposed        522\n",
    "nombre_recovered    16641\n",
    "Name: 437, dtype: int64"
   ]
  },
  {
   "cell_type": "markdown",
   "id": "f698d444",
   "metadata": {},
   "source": [
    "nombre_infected       962\n",
    "nombre_sain          1889\n",
    "nombre_exposed        497\n",
    "nombre_recovered    16652\n",
    "Name: 438, dtype: int64"
   ]
  },
  {
   "cell_type": "markdown",
   "id": "247b88f3",
   "metadata": {},
   "source": [
    "nombre_infected       965\n",
    "nombre_sain          1929\n",
    "nombre_exposed        466\n",
    "nombre_recovered    16640\n",
    "Name: 439, dtype: int64"
   ]
  },
  {
   "cell_type": "markdown",
   "id": "92268dfc",
   "metadata": {},
   "source": [
    "nombre_infected       952\n",
    "nombre_sain          1940\n",
    "nombre_exposed        465\n",
    "nombre_recovered    16643\n",
    "Name: 440, dtype: int64"
   ]
  },
  {
   "cell_type": "markdown",
   "id": "f798a046",
   "metadata": {},
   "source": [
    "nombre_infected       917\n",
    "nombre_sain          1944\n",
    "nombre_exposed        490\n",
    "nombre_recovered    16649\n",
    "Name: 441, dtype: int64"
   ]
  },
  {
   "cell_type": "markdown",
   "id": "fa865336",
   "metadata": {},
   "source": [
    "nombre_infected       905\n",
    "nombre_sain          1937\n",
    "nombre_exposed        509\n",
    "nombre_recovered    16649\n",
    "Name: 442, dtype: int64"
   ]
  },
  {
   "cell_type": "markdown",
   "id": "5c31b135",
   "metadata": {},
   "source": [
    "nombre_infected       899\n",
    "nombre_sain          1974\n",
    "nombre_exposed        502\n",
    "nombre_recovered    16625\n",
    "Name: 443, dtype: int64"
   ]
  },
  {
   "cell_type": "markdown",
   "id": "94510fa3",
   "metadata": {},
   "source": [
    "nombre_infected       879\n",
    "nombre_sain          1993\n",
    "nombre_exposed        501\n",
    "nombre_recovered    16627\n",
    "Name: 444, dtype: int64"
   ]
  },
  {
   "cell_type": "markdown",
   "id": "e056e151",
   "metadata": {},
   "source": [
    "nombre_infected       856\n",
    "nombre_sain          2025\n",
    "nombre_exposed        490\n",
    "nombre_recovered    16629\n",
    "Name: 445, dtype: int64"
   ]
  },
  {
   "cell_type": "markdown",
   "id": "e2213e08",
   "metadata": {},
   "source": [
    "nombre_infected       869\n",
    "nombre_sain          2024\n",
    "nombre_exposed        492\n",
    "nombre_recovered    16615\n",
    "Name: 446, dtype: int64"
   ]
  },
  {
   "cell_type": "markdown",
   "id": "178930e1",
   "metadata": {},
   "source": [
    "nombre_infected       857\n",
    "nombre_sain          2059\n",
    "nombre_exposed        488\n",
    "nombre_recovered    16596\n",
    "Name: 447, dtype: int64"
   ]
  },
  {
   "cell_type": "markdown",
   "id": "b2f2f5bf",
   "metadata": {},
   "source": [
    "nombre_infected       839\n",
    "nombre_sain          2086\n",
    "nombre_exposed        474\n",
    "nombre_recovered    16601\n",
    "Name: 448, dtype: int64"
   ]
  },
  {
   "cell_type": "markdown",
   "id": "02629a1d",
   "metadata": {},
   "source": [
    "nombre_infected       841\n",
    "nombre_sain          2110\n",
    "nombre_exposed        463\n",
    "nombre_recovered    16586\n",
    "Name: 449, dtype: int64"
   ]
  },
  {
   "cell_type": "markdown",
   "id": "4fe7764a",
   "metadata": {},
   "source": [
    "nombre_infected       802\n",
    "nombre_sain          2102\n",
    "nombre_exposed        486\n",
    "nombre_recovered    16610\n",
    "Name: 450, dtype: int64"
   ]
  },
  {
   "cell_type": "markdown",
   "id": "757682a5",
   "metadata": {},
   "source": [
    "nombre_infected       779\n",
    "nombre_sain          2111\n",
    "nombre_exposed        479\n",
    "nombre_recovered    16631\n",
    "Name: 451, dtype: int64"
   ]
  },
  {
   "cell_type": "markdown",
   "id": "bcb38da5",
   "metadata": {},
   "source": [
    "nombre_infected       768\n",
    "nombre_sain          2116\n",
    "nombre_exposed        489\n",
    "nombre_recovered    16627\n",
    "Name: 452, dtype: int64"
   ]
  },
  {
   "cell_type": "markdown",
   "id": "c6f22f69",
   "metadata": {},
   "source": [
    "nombre_infected       748\n",
    "nombre_sain          2128\n",
    "nombre_exposed        505\n",
    "nombre_recovered    16619\n",
    "Name: 453, dtype: int64"
   ]
  },
  {
   "cell_type": "markdown",
   "id": "98f72036",
   "metadata": {},
   "source": [
    "nombre_infected       749\n",
    "nombre_sain          2136\n",
    "nombre_exposed        502\n",
    "nombre_recovered    16613\n",
    "Name: 454, dtype: int64"
   ]
  },
  {
   "cell_type": "markdown",
   "id": "9416820a",
   "metadata": {},
   "source": [
    "nombre_infected       745\n",
    "nombre_sain          2143\n",
    "nombre_exposed        503\n",
    "nombre_recovered    16609\n",
    "Name: 455, dtype: int64"
   ]
  },
  {
   "cell_type": "markdown",
   "id": "e0adb957",
   "metadata": {},
   "source": [
    "nombre_infected       749\n",
    "nombre_sain          2152\n",
    "nombre_exposed        495\n",
    "nombre_recovered    16604\n",
    "Name: 456, dtype: int64"
   ]
  },
  {
   "cell_type": "markdown",
   "id": "62ee457e",
   "metadata": {},
   "source": [
    "nombre_infected       745\n",
    "nombre_sain          2148\n",
    "nombre_exposed        499\n",
    "nombre_recovered    16608\n",
    "Name: 457, dtype: int64"
   ]
  },
  {
   "cell_type": "markdown",
   "id": "ce376f82",
   "metadata": {},
   "source": [
    "nombre_infected       735\n",
    "nombre_sain          2154\n",
    "nombre_exposed        508\n",
    "nombre_recovered    16603\n",
    "Name: 458, dtype: int64"
   ]
  },
  {
   "cell_type": "markdown",
   "id": "8b1f539c",
   "metadata": {},
   "source": [
    "nombre_infected       752\n",
    "nombre_sain          2161\n",
    "nombre_exposed        488\n",
    "nombre_recovered    16599\n",
    "Name: 459, dtype: int64"
   ]
  },
  {
   "cell_type": "markdown",
   "id": "9590903d",
   "metadata": {},
   "source": [
    "nombre_infected       727\n",
    "nombre_sain          2165\n",
    "nombre_exposed        500\n",
    "nombre_recovered    16608\n",
    "Name: 460, dtype: int64"
   ]
  },
  {
   "cell_type": "markdown",
   "id": "8715b336",
   "metadata": {},
   "source": [
    "nombre_infected       725\n",
    "nombre_sain          2180\n",
    "nombre_exposed        506\n",
    "nombre_recovered    16589\n",
    "Name: 461, dtype: int64"
   ]
  },
  {
   "cell_type": "markdown",
   "id": "8dedd64a",
   "metadata": {},
   "source": [
    "nombre_infected       725\n",
    "nombre_sain          2194\n",
    "nombre_exposed        490\n",
    "nombre_recovered    16591\n",
    "Name: 462, dtype: int64"
   ]
  },
  {
   "cell_type": "markdown",
   "id": "584703aa",
   "metadata": {},
   "source": [
    "nombre_infected       727\n",
    "nombre_sain          2221\n",
    "nombre_exposed        485\n",
    "nombre_recovered    16567\n",
    "Name: 463, dtype: int64"
   ]
  },
  {
   "cell_type": "markdown",
   "id": "61a57d28",
   "metadata": {},
   "source": [
    "nombre_infected       729\n",
    "nombre_sain          2219\n",
    "nombre_exposed        487\n",
    "nombre_recovered    16565\n",
    "Name: 464, dtype: int64"
   ]
  },
  {
   "cell_type": "markdown",
   "id": "5905eef1",
   "metadata": {},
   "source": [
    "nombre_infected       730\n",
    "nombre_sain          2232\n",
    "nombre_exposed        474\n",
    "nombre_recovered    16564\n",
    "Name: 465, dtype: int64"
   ]
  },
  {
   "cell_type": "markdown",
   "id": "78077981",
   "metadata": {},
   "source": [
    "nombre_infected       721\n",
    "nombre_sain          2257\n",
    "nombre_exposed        483\n",
    "nombre_recovered    16539\n",
    "Name: 466, dtype: int64"
   ]
  },
  {
   "cell_type": "markdown",
   "id": "aef90084",
   "metadata": {},
   "source": [
    "nombre_infected       730\n",
    "nombre_sain          2259\n",
    "nombre_exposed        481\n",
    "nombre_recovered    16530\n",
    "Name: 467, dtype: int64"
   ]
  },
  {
   "cell_type": "markdown",
   "id": "4fa4336a",
   "metadata": {},
   "source": [
    "nombre_infected       718\n",
    "nombre_sain          2275\n",
    "nombre_exposed        495\n",
    "nombre_recovered    16512\n",
    "Name: 468, dtype: int64"
   ]
  },
  {
   "cell_type": "markdown",
   "id": "9e38478d",
   "metadata": {},
   "source": [
    "nombre_infected       706\n",
    "nombre_sain          2281\n",
    "nombre_exposed        507\n",
    "nombre_recovered    16506\n",
    "Name: 469, dtype: int64"
   ]
  },
  {
   "cell_type": "markdown",
   "id": "29190fda",
   "metadata": {},
   "source": [
    "nombre_infected       712\n",
    "nombre_sain          2302\n",
    "nombre_exposed        499\n",
    "nombre_recovered    16487\n",
    "Name: 470, dtype: int64"
   ]
  },
  {
   "cell_type": "markdown",
   "id": "7c325e55",
   "metadata": {},
   "source": [
    "nombre_infected       707\n",
    "nombre_sain          2331\n",
    "nombre_exposed        488\n",
    "nombre_recovered    16474\n",
    "Name: 471, dtype: int64"
   ]
  },
  {
   "cell_type": "markdown",
   "id": "1bc38087",
   "metadata": {},
   "source": [
    "nombre_infected       714\n",
    "nombre_sain          2361\n",
    "nombre_exposed        487\n",
    "nombre_recovered    16438\n",
    "Name: 472, dtype: int64"
   ]
  },
  {
   "cell_type": "markdown",
   "id": "a627aa7d",
   "metadata": {},
   "source": [
    "nombre_infected       722\n",
    "nombre_sain          2388\n",
    "nombre_exposed        493\n",
    "nombre_recovered    16397\n",
    "Name: 473, dtype: int64"
   ]
  },
  {
   "cell_type": "markdown",
   "id": "e09282b1",
   "metadata": {},
   "source": [
    "nombre_infected       727\n",
    "nombre_sain          2409\n",
    "nombre_exposed        490\n",
    "nombre_recovered    16374\n",
    "Name: 474, dtype: int64"
   ]
  },
  {
   "cell_type": "markdown",
   "id": "f120e9a4",
   "metadata": {},
   "source": [
    "nombre_infected       727\n",
    "nombre_sain          2417\n",
    "nombre_exposed        508\n",
    "nombre_recovered    16348\n",
    "Name: 475, dtype: int64"
   ]
  },
  {
   "cell_type": "markdown",
   "id": "d84a61c5",
   "metadata": {},
   "source": [
    "nombre_infected       749\n",
    "nombre_sain          2446\n",
    "nombre_exposed        488\n",
    "nombre_recovered    16317\n",
    "Name: 476, dtype: int64"
   ]
  },
  {
   "cell_type": "markdown",
   "id": "0c1aefc4",
   "metadata": {},
   "source": [
    "nombre_infected       762\n",
    "nombre_sain          2464\n",
    "nombre_exposed        472\n",
    "nombre_recovered    16302\n",
    "Name: 477, dtype: int64"
   ]
  },
  {
   "cell_type": "markdown",
   "id": "b6c33013",
   "metadata": {},
   "source": [
    "nombre_infected       733\n",
    "nombre_sain          2490\n",
    "nombre_exposed        500\n",
    "nombre_recovered    16277\n",
    "Name: 478, dtype: int64"
   ]
  },
  {
   "cell_type": "markdown",
   "id": "736c8bcd",
   "metadata": {},
   "source": [
    "nombre_infected       737\n",
    "nombre_sain          2514\n",
    "nombre_exposed        503\n",
    "nombre_recovered    16246\n",
    "Name: 479, dtype: int64"
   ]
  },
  {
   "cell_type": "markdown",
   "id": "cb3e3e1c",
   "metadata": {},
   "source": [
    "nombre_infected       763\n",
    "nombre_sain          2545\n",
    "nombre_exposed        503\n",
    "nombre_recovered    16189\n",
    "Name: 480, dtype: int64"
   ]
  },
  {
   "cell_type": "markdown",
   "id": "92c1c314",
   "metadata": {},
   "source": [
    "nombre_infected       761\n",
    "nombre_sain          2561\n",
    "nombre_exposed        516\n",
    "nombre_recovered    16162\n",
    "Name: 481, dtype: int64"
   ]
  },
  {
   "cell_type": "markdown",
   "id": "7d2fb83c",
   "metadata": {},
   "source": [
    "nombre_infected       745\n",
    "nombre_sain          2571\n",
    "nombre_exposed        542\n",
    "nombre_recovered    16142\n",
    "Name: 482, dtype: int64"
   ]
  },
  {
   "cell_type": "markdown",
   "id": "bd4f6e8b",
   "metadata": {},
   "source": [
    "nombre_infected       768\n",
    "nombre_sain          2574\n",
    "nombre_exposed        535\n",
    "nombre_recovered    16123\n",
    "Name: 483, dtype: int64"
   ]
  },
  {
   "cell_type": "markdown",
   "id": "d6d01f70",
   "metadata": {},
   "source": [
    "nombre_infected       769\n",
    "nombre_sain          2576\n",
    "nombre_exposed        541\n",
    "nombre_recovered    16114\n",
    "Name: 484, dtype: int64"
   ]
  },
  {
   "cell_type": "markdown",
   "id": "d4223456",
   "metadata": {},
   "source": [
    "nombre_infected       772\n",
    "nombre_sain          2571\n",
    "nombre_exposed        556\n",
    "nombre_recovered    16101\n",
    "Name: 485, dtype: int64"
   ]
  },
  {
   "cell_type": "markdown",
   "id": "1f34501c",
   "metadata": {},
   "source": [
    "nombre_infected       782\n",
    "nombre_sain          2591\n",
    "nombre_exposed        549\n",
    "nombre_recovered    16078\n",
    "Name: 486, dtype: int64"
   ]
  },
  {
   "cell_type": "markdown",
   "id": "f10559bf",
   "metadata": {},
   "source": [
    "nombre_infected       802\n",
    "nombre_sain          2599\n",
    "nombre_exposed        566\n",
    "nombre_recovered    16033\n",
    "Name: 487, dtype: int64"
   ]
  },
  {
   "cell_type": "markdown",
   "id": "fa2236fc",
   "metadata": {},
   "source": [
    "nombre_infected       808\n",
    "nombre_sain          2620\n",
    "nombre_exposed        563\n",
    "nombre_recovered    16009\n",
    "Name: 488, dtype: int64"
   ]
  },
  {
   "cell_type": "markdown",
   "id": "65b5845c",
   "metadata": {},
   "source": [
    "nombre_infected       824\n",
    "nombre_sain          2601\n",
    "nombre_exposed        566\n",
    "nombre_recovered    16009\n",
    "Name: 489, dtype: int64"
   ]
  },
  {
   "cell_type": "markdown",
   "id": "e1db9dc7",
   "metadata": {},
   "source": [
    "nombre_infected       833\n",
    "nombre_sain          2623\n",
    "nombre_exposed        586\n",
    "nombre_recovered    15958\n",
    "Name: 490, dtype: int64"
   ]
  },
  {
   "cell_type": "markdown",
   "id": "3b454545",
   "metadata": {},
   "source": [
    "nombre_infected       850\n",
    "nombre_sain          2639\n",
    "nombre_exposed        596\n",
    "nombre_recovered    15915\n",
    "Name: 491, dtype: int64"
   ]
  },
  {
   "cell_type": "markdown",
   "id": "fb998a1f",
   "metadata": {},
   "source": [
    "nombre_infected       861\n",
    "nombre_sain          2643\n",
    "nombre_exposed        613\n",
    "nombre_recovered    15883\n",
    "Name: 492, dtype: int64"
   ]
  },
  {
   "cell_type": "markdown",
   "id": "56ef52a0",
   "metadata": {},
   "source": [
    "nombre_infected       886\n",
    "nombre_sain          2664\n",
    "nombre_exposed        579\n",
    "nombre_recovered    15871\n",
    "Name: 493, dtype: int64"
   ]
  },
  {
   "cell_type": "markdown",
   "id": "96c83f89",
   "metadata": {},
   "source": [
    "nombre_infected       924\n",
    "nombre_sain          2668\n",
    "nombre_exposed        582\n",
    "nombre_recovered    15826\n",
    "Name: 494, dtype: int64"
   ]
  },
  {
   "cell_type": "markdown",
   "id": "8b1d761f",
   "metadata": {},
   "source": [
    "nombre_infected       917\n",
    "nombre_sain          2648\n",
    "nombre_exposed        611\n",
    "nombre_recovered    15824\n",
    "Name: 495, dtype: int64"
   ]
  },
  {
   "cell_type": "markdown",
   "id": "8f9ba1bf",
   "metadata": {},
   "source": [
    "nombre_infected       910\n",
    "nombre_sain          2599\n",
    "nombre_exposed        664\n",
    "nombre_recovered    15827\n",
    "Name: 496, dtype: int64"
   ]
  },
  {
   "cell_type": "markdown",
   "id": "20f7559b",
   "metadata": {},
   "source": [
    "nombre_infected       905\n",
    "nombre_sain          2570\n",
    "nombre_exposed        688\n",
    "nombre_recovered    15837\n",
    "Name: 497, dtype: int64"
   ]
  },
  {
   "cell_type": "markdown",
   "id": "7ac7e447",
   "metadata": {},
   "source": [
    "nombre_infected       911\n",
    "nombre_sain          2562\n",
    "nombre_exposed        690\n",
    "nombre_recovered    15837\n",
    "Name: 498, dtype: int64"
   ]
  },
  {
   "cell_type": "markdown",
   "id": "14e047c2",
   "metadata": {},
   "source": [
    "nombre_infected       929\n",
    "nombre_sain          2550\n",
    "nombre_exposed        708\n",
    "nombre_recovered    15813\n",
    "Name: 499, dtype: int64"
   ]
  },
  {
   "cell_type": "markdown",
   "id": "ff3f3b84",
   "metadata": {},
   "source": [
    "nombre_infected       945\n",
    "nombre_sain          2540\n",
    "nombre_exposed        688\n",
    "nombre_recovered    15827\n",
    "Name: 500, dtype: int64"
   ]
  },
  {
   "cell_type": "markdown",
   "id": "034f275c",
   "metadata": {},
   "source": [
    "nombre_infected       968\n",
    "nombre_sain          2499\n",
    "nombre_exposed        688\n",
    "nombre_recovered    15845\n",
    "Name: 501, dtype: int64"
   ]
  },
  {
   "cell_type": "markdown",
   "id": "0f3213dd",
   "metadata": {},
   "source": [
    "nombre_infected       976\n",
    "nombre_sain          2466\n",
    "nombre_exposed        703\n",
    "nombre_recovered    15855\n",
    "Name: 502, dtype: int64"
   ]
  },
  {
   "cell_type": "markdown",
   "id": "d9f4a433",
   "metadata": {},
   "source": [
    "nombre_infected       996\n",
    "nombre_sain          2431\n",
    "nombre_exposed        691\n",
    "nombre_recovered    15882\n",
    "Name: 503, dtype: int64"
   ]
  },
  {
   "cell_type": "markdown",
   "id": "f13eb19a",
   "metadata": {},
   "source": [
    "nombre_infected      1007\n",
    "nombre_sain          2428\n",
    "nombre_exposed        641\n",
    "nombre_recovered    15924\n",
    "Name: 504, dtype: int64"
   ]
  },
  {
   "cell_type": "markdown",
   "id": "60444994",
   "metadata": {},
   "source": [
    "nombre_infected       997\n",
    "nombre_sain          2403\n",
    "nombre_exposed        655\n",
    "nombre_recovered    15945\n",
    "Name: 505, dtype: int64"
   ]
  },
  {
   "cell_type": "markdown",
   "id": "6d335248",
   "metadata": {},
   "source": [
    "nombre_infected       999\n",
    "nombre_sain          2365\n",
    "nombre_exposed        654\n",
    "nombre_recovered    15982\n",
    "Name: 506, dtype: int64"
   ]
  },
  {
   "cell_type": "markdown",
   "id": "cafab5fd",
   "metadata": {},
   "source": [
    "nombre_infected      1007\n",
    "nombre_sain          2370\n",
    "nombre_exposed        634\n",
    "nombre_recovered    15989\n",
    "Name: 507, dtype: int64"
   ]
  },
  {
   "cell_type": "markdown",
   "id": "ea9d4d55",
   "metadata": {},
   "source": [
    "nombre_infected      1022\n",
    "nombre_sain          2362\n",
    "nombre_exposed        630\n",
    "nombre_recovered    15986\n",
    "Name: 508, dtype: int64"
   ]
  },
  {
   "cell_type": "markdown",
   "id": "7d7195b2",
   "metadata": {},
   "source": [
    "nombre_infected       992\n",
    "nombre_sain          2346\n",
    "nombre_exposed        650\n",
    "nombre_recovered    16012\n",
    "Name: 509, dtype: int64"
   ]
  },
  {
   "cell_type": "markdown",
   "id": "64192a42",
   "metadata": {},
   "source": [
    "nombre_infected       998\n",
    "nombre_sain          2333\n",
    "nombre_exposed        640\n",
    "nombre_recovered    16029\n",
    "Name: 510, dtype: int64"
   ]
  },
  {
   "cell_type": "markdown",
   "id": "d229164f",
   "metadata": {},
   "source": [
    "nombre_infected       996\n",
    "nombre_sain          2334\n",
    "nombre_exposed        636\n",
    "nombre_recovered    16034\n",
    "Name: 511, dtype: int64"
   ]
  },
  {
   "cell_type": "markdown",
   "id": "dcb3aa99",
   "metadata": {},
   "source": [
    "nombre_infected       977\n",
    "nombre_sain          2336\n",
    "nombre_exposed        635\n",
    "nombre_recovered    16052\n",
    "Name: 512, dtype: int64"
   ]
  },
  {
   "cell_type": "markdown",
   "id": "959d1f45",
   "metadata": {},
   "source": [
    "nombre_infected       979\n",
    "nombre_sain          2332\n",
    "nombre_exposed        626\n",
    "nombre_recovered    16063\n",
    "Name: 513, dtype: int64"
   ]
  },
  {
   "cell_type": "markdown",
   "id": "0331a027",
   "metadata": {},
   "source": [
    "nombre_infected       999\n",
    "nombre_sain          2315\n",
    "nombre_exposed        620\n",
    "nombre_recovered    16066\n",
    "Name: 514, dtype: int64"
   ]
  },
  {
   "cell_type": "markdown",
   "id": "9c169226",
   "metadata": {},
   "source": [
    "nombre_infected      1006\n",
    "nombre_sain          2292\n",
    "nombre_exposed        626\n",
    "nombre_recovered    16076\n",
    "Name: 515, dtype: int64"
   ]
  },
  {
   "cell_type": "markdown",
   "id": "d8f0610b",
   "metadata": {},
   "source": [
    "nombre_infected      1014\n",
    "nombre_sain          2270\n",
    "nombre_exposed        634\n",
    "nombre_recovered    16082\n",
    "Name: 516, dtype: int64"
   ]
  },
  {
   "cell_type": "markdown",
   "id": "ad048cb8",
   "metadata": {},
   "source": [
    "nombre_infected      1004\n",
    "nombre_sain          2277\n",
    "nombre_exposed        631\n",
    "nombre_recovered    16088\n",
    "Name: 517, dtype: int64"
   ]
  },
  {
   "cell_type": "markdown",
   "id": "2f0e57ae",
   "metadata": {},
   "source": [
    "nombre_infected       993\n",
    "nombre_sain          2244\n",
    "nombre_exposed        655\n",
    "nombre_recovered    16108\n",
    "Name: 518, dtype: int64"
   ]
  },
  {
   "cell_type": "markdown",
   "id": "2e2dcb79",
   "metadata": {},
   "source": [
    "nombre_infected       975\n",
    "nombre_sain          2238\n",
    "nombre_exposed        658\n",
    "nombre_recovered    16129\n",
    "Name: 519, dtype: int64"
   ]
  },
  {
   "cell_type": "markdown",
   "id": "2bfd870f",
   "metadata": {},
   "source": [
    "nombre_infected      1006\n",
    "nombre_sain          2217\n",
    "nombre_exposed        642\n",
    "nombre_recovered    16135\n",
    "Name: 520, dtype: int64"
   ]
  },
  {
   "cell_type": "markdown",
   "id": "22251a53",
   "metadata": {},
   "source": [
    "nombre_infected      1032\n",
    "nombre_sain          2221\n",
    "nombre_exposed        611\n",
    "nombre_recovered    16136\n",
    "Name: 521, dtype: int64"
   ]
  },
  {
   "cell_type": "markdown",
   "id": "6a8cec7f",
   "metadata": {},
   "source": [
    "nombre_infected      1031\n",
    "nombre_sain          2241\n",
    "nombre_exposed        580\n",
    "nombre_recovered    16148\n",
    "Name: 522, dtype: int64"
   ]
  },
  {
   "cell_type": "markdown",
   "id": "2b230cc6",
   "metadata": {},
   "source": [
    "nombre_infected      1003\n",
    "nombre_sain          2219\n",
    "nombre_exposed        593\n",
    "nombre_recovered    16185\n",
    "Name: 523, dtype: int64"
   ]
  },
  {
   "cell_type": "markdown",
   "id": "bb3909d1",
   "metadata": {},
   "source": [
    "nombre_infected      1008\n",
    "nombre_sain          2193\n",
    "nombre_exposed        614\n",
    "nombre_recovered    16185\n",
    "Name: 524, dtype: int64"
   ]
  },
  {
   "cell_type": "markdown",
   "id": "8a5cbffd",
   "metadata": {},
   "source": [
    "nombre_infected       992\n",
    "nombre_sain          2165\n",
    "nombre_exposed        622\n",
    "nombre_recovered    16221\n",
    "Name: 525, dtype: int64"
   ]
  },
  {
   "cell_type": "markdown",
   "id": "f74c2c51",
   "metadata": {},
   "source": [
    "nombre_infected       998\n",
    "nombre_sain          2121\n",
    "nombre_exposed        628\n",
    "nombre_recovered    16253\n",
    "Name: 526, dtype: int64"
   ]
  },
  {
   "cell_type": "markdown",
   "id": "afa9829d",
   "metadata": {},
   "source": [
    "nombre_infected      1003\n",
    "nombre_sain          2105\n",
    "nombre_exposed        638\n",
    "nombre_recovered    16254\n",
    "Name: 527, dtype: int64"
   ]
  },
  {
   "cell_type": "markdown",
   "id": "3f8788f3",
   "metadata": {},
   "source": [
    "nombre_infected      1012\n",
    "nombre_sain          2114\n",
    "nombre_exposed        611\n",
    "nombre_recovered    16263\n",
    "Name: 528, dtype: int64"
   ]
  },
  {
   "cell_type": "markdown",
   "id": "39466b07",
   "metadata": {},
   "source": [
    "nombre_infected      1025\n",
    "nombre_sain          2108\n",
    "nombre_exposed        590\n",
    "nombre_recovered    16277\n",
    "Name: 529, dtype: int64"
   ]
  },
  {
   "cell_type": "markdown",
   "id": "edb9e4bc",
   "metadata": {},
   "source": [
    "nombre_infected      1019\n",
    "nombre_sain          2102\n",
    "nombre_exposed        581\n",
    "nombre_recovered    16298\n",
    "Name: 530, dtype: int64"
   ]
  },
  {
   "cell_type": "markdown",
   "id": "5cb7dd89",
   "metadata": {},
   "source": [
    "nombre_infected      1019\n",
    "nombre_sain          2109\n",
    "nombre_exposed        561\n",
    "nombre_recovered    16311\n",
    "Name: 531, dtype: int64"
   ]
  },
  {
   "cell_type": "markdown",
   "id": "03b6dded",
   "metadata": {},
   "source": [
    "nombre_infected      1000\n",
    "nombre_sain          2137\n",
    "nombre_exposed        557\n",
    "nombre_recovered    16306\n",
    "Name: 532, dtype: int64"
   ]
  },
  {
   "cell_type": "markdown",
   "id": "bdae2b54",
   "metadata": {},
   "source": [
    "nombre_infected       993\n",
    "nombre_sain          2135\n",
    "nombre_exposed        568\n",
    "nombre_recovered    16304\n",
    "Name: 533, dtype: int64"
   ]
  },
  {
   "cell_type": "markdown",
   "id": "afc4eaf0",
   "metadata": {},
   "source": [
    "nombre_infected       959\n",
    "nombre_sain          2149\n",
    "nombre_exposed        570\n",
    "nombre_recovered    16322\n",
    "Name: 534, dtype: int64"
   ]
  },
  {
   "cell_type": "markdown",
   "id": "b89b64ef",
   "metadata": {},
   "source": [
    "nombre_infected       953\n",
    "nombre_sain          2146\n",
    "nombre_exposed        571\n",
    "nombre_recovered    16330\n",
    "Name: 535, dtype: int64"
   ]
  },
  {
   "cell_type": "markdown",
   "id": "ea30bc5f",
   "metadata": {},
   "source": [
    "nombre_infected       960\n",
    "nombre_sain          2147\n",
    "nombre_exposed        577\n",
    "nombre_recovered    16316\n",
    "Name: 536, dtype: int64"
   ]
  },
  {
   "cell_type": "markdown",
   "id": "c493c9f3",
   "metadata": {},
   "source": [
    "nombre_infected       943\n",
    "nombre_sain          2136\n",
    "nombre_exposed        605\n",
    "nombre_recovered    16316\n",
    "Name: 537, dtype: int64"
   ]
  },
  {
   "cell_type": "markdown",
   "id": "68269685",
   "metadata": {},
   "source": [
    "nombre_infected       959\n",
    "nombre_sain          2146\n",
    "nombre_exposed        598\n",
    "nombre_recovered    16297\n",
    "Name: 538, dtype: int64"
   ]
  },
  {
   "cell_type": "markdown",
   "id": "d966f6a7",
   "metadata": {},
   "source": [
    "nombre_infected       961\n",
    "nombre_sain          2137\n",
    "nombre_exposed        590\n",
    "nombre_recovered    16312\n",
    "Name: 539, dtype: int64"
   ]
  },
  {
   "cell_type": "markdown",
   "id": "a3988c78",
   "metadata": {},
   "source": [
    "nombre_infected       969\n",
    "nombre_sain          2152\n",
    "nombre_exposed        586\n",
    "nombre_recovered    16293\n",
    "Name: 540, dtype: int64"
   ]
  },
  {
   "cell_type": "markdown",
   "id": "eacf5bf6",
   "metadata": {},
   "source": [
    "nombre_infected       956\n",
    "nombre_sain          2147\n",
    "nombre_exposed        591\n",
    "nombre_recovered    16306\n",
    "Name: 541, dtype: int64"
   ]
  },
  {
   "cell_type": "markdown",
   "id": "5e2eb7fa",
   "metadata": {},
   "source": [
    "nombre_infected       973\n",
    "nombre_sain          2153\n",
    "nombre_exposed        590\n",
    "nombre_recovered    16284\n",
    "Name: 542, dtype: int64"
   ]
  },
  {
   "cell_type": "markdown",
   "id": "2673fc49",
   "metadata": {},
   "source": [
    "nombre_infected       968\n",
    "nombre_sain          2126\n",
    "nombre_exposed        621\n",
    "nombre_recovered    16285\n",
    "Name: 543, dtype: int64"
   ]
  },
  {
   "cell_type": "markdown",
   "id": "cd1cce43",
   "metadata": {},
   "source": [
    "nombre_infected       975\n",
    "nombre_sain          2118\n",
    "nombre_exposed        614\n",
    "nombre_recovered    16293\n",
    "Name: 544, dtype: int64"
   ]
  },
  {
   "cell_type": "markdown",
   "id": "2da5fa26",
   "metadata": {},
   "source": [
    "nombre_infected       985\n",
    "nombre_sain          2140\n",
    "nombre_exposed        598\n",
    "nombre_recovered    16277\n",
    "Name: 545, dtype: int64"
   ]
  },
  {
   "cell_type": "markdown",
   "id": "312e5d6d",
   "metadata": {},
   "source": [
    "nombre_infected       987\n",
    "nombre_sain          2138\n",
    "nombre_exposed        588\n",
    "nombre_recovered    16287\n",
    "Name: 546, dtype: int64"
   ]
  },
  {
   "cell_type": "markdown",
   "id": "eecb1962",
   "metadata": {},
   "source": [
    "nombre_infected       979\n",
    "nombre_sain          2115\n",
    "nombre_exposed        591\n",
    "nombre_recovered    16315\n",
    "Name: 547, dtype: int64"
   ]
  },
  {
   "cell_type": "markdown",
   "id": "6a84f789",
   "metadata": {},
   "source": [
    "nombre_infected       952\n",
    "nombre_sain          2108\n",
    "nombre_exposed        627\n",
    "nombre_recovered    16313\n",
    "Name: 548, dtype: int64"
   ]
  },
  {
   "cell_type": "markdown",
   "id": "35102fa2",
   "metadata": {},
   "source": [
    "nombre_infected       968\n",
    "nombre_sain          2101\n",
    "nombre_exposed        616\n",
    "nombre_recovered    16315\n",
    "Name: 549, dtype: int64"
   ]
  },
  {
   "cell_type": "markdown",
   "id": "9432992f",
   "metadata": {},
   "source": [
    "nombre_infected       983\n",
    "nombre_sain          2081\n",
    "nombre_exposed        623\n",
    "nombre_recovered    16313\n",
    "Name: 550, dtype: int64"
   ]
  },
  {
   "cell_type": "markdown",
   "id": "7ee5aecd",
   "metadata": {},
   "source": [
    "nombre_infected      1001\n",
    "nombre_sain          2089\n",
    "nombre_exposed        586\n",
    "nombre_recovered    16324\n",
    "Name: 551, dtype: int64"
   ]
  },
  {
   "cell_type": "markdown",
   "id": "e7e4fed9",
   "metadata": {},
   "source": [
    "nombre_infected      1015\n",
    "nombre_sain          2099\n",
    "nombre_exposed        579\n",
    "nombre_recovered    16307\n",
    "Name: 552, dtype: int64"
   ]
  },
  {
   "cell_type": "markdown",
   "id": "81ea3437",
   "metadata": {},
   "source": [
    "nombre_infected      1003\n",
    "nombre_sain          2116\n",
    "nombre_exposed        560\n",
    "nombre_recovered    16321\n",
    "Name: 553, dtype: int64"
   ]
  },
  {
   "cell_type": "markdown",
   "id": "9ec39eda",
   "metadata": {},
   "source": [
    "nombre_infected       997\n",
    "nombre_sain          2104\n",
    "nombre_exposed        590\n",
    "nombre_recovered    16309\n",
    "Name: 554, dtype: int64"
   ]
  },
  {
   "cell_type": "markdown",
   "id": "495caa38",
   "metadata": {},
   "source": [
    "nombre_infected      1015\n",
    "nombre_sain          2072\n",
    "nombre_exposed        592\n",
    "nombre_recovered    16321\n",
    "Name: 555, dtype: int64"
   ]
  },
  {
   "cell_type": "markdown",
   "id": "9d16da30",
   "metadata": {},
   "source": [
    "nombre_infected       999\n",
    "nombre_sain          2066\n",
    "nombre_exposed        613\n",
    "nombre_recovered    16322\n",
    "Name: 556, dtype: int64"
   ]
  },
  {
   "cell_type": "markdown",
   "id": "29d7edd8",
   "metadata": {},
   "source": [
    "nombre_infected      1020\n",
    "nombre_sain          2084\n",
    "nombre_exposed        591\n",
    "nombre_recovered    16305\n",
    "Name: 557, dtype: int64"
   ]
  },
  {
   "cell_type": "markdown",
   "id": "388364ee",
   "metadata": {},
   "source": [
    "nombre_infected      1023\n",
    "nombre_sain          2058\n",
    "nombre_exposed        592\n",
    "nombre_recovered    16327\n",
    "Name: 558, dtype: int64"
   ]
  },
  {
   "cell_type": "markdown",
   "id": "236e70f3",
   "metadata": {},
   "source": [
    "nombre_infected      1027\n",
    "nombre_sain          2074\n",
    "nombre_exposed        587\n",
    "nombre_recovered    16312\n",
    "Name: 559, dtype: int64"
   ]
  },
  {
   "cell_type": "markdown",
   "id": "efe8b851",
   "metadata": {},
   "source": [
    "nombre_infected       997\n",
    "nombre_sain          2070\n",
    "nombre_exposed        598\n",
    "nombre_recovered    16335\n",
    "Name: 560, dtype: int64"
   ]
  },
  {
   "cell_type": "markdown",
   "id": "03e8f38b",
   "metadata": {},
   "source": [
    "nombre_infected      1011\n",
    "nombre_sain          2072\n",
    "nombre_exposed        569\n",
    "nombre_recovered    16348\n",
    "Name: 561, dtype: int64"
   ]
  },
  {
   "cell_type": "markdown",
   "id": "2597f8c8",
   "metadata": {},
   "source": [
    "nombre_infected      1003\n",
    "nombre_sain          2079\n",
    "nombre_exposed        574\n",
    "nombre_recovered    16344\n",
    "Name: 562, dtype: int64"
   ]
  },
  {
   "cell_type": "markdown",
   "id": "2046e052",
   "metadata": {},
   "source": [
    "nombre_infected      1004\n",
    "nombre_sain          2091\n",
    "nombre_exposed        566\n",
    "nombre_recovered    16339\n",
    "Name: 563, dtype: int64"
   ]
  },
  {
   "cell_type": "markdown",
   "id": "689cd283",
   "metadata": {},
   "source": [
    "nombre_infected       992\n",
    "nombre_sain          2101\n",
    "nombre_exposed        552\n",
    "nombre_recovered    16355\n",
    "Name: 564, dtype: int64"
   ]
  },
  {
   "cell_type": "markdown",
   "id": "d7847692",
   "metadata": {},
   "source": [
    "nombre_infected       995\n",
    "nombre_sain          2116\n",
    "nombre_exposed        553\n",
    "nombre_recovered    16336\n",
    "Name: 565, dtype: int64"
   ]
  },
  {
   "cell_type": "markdown",
   "id": "3745bbec",
   "metadata": {},
   "source": [
    "nombre_infected       979\n",
    "nombre_sain          2124\n",
    "nombre_exposed        564\n",
    "nombre_recovered    16333\n",
    "Name: 566, dtype: int64"
   ]
  },
  {
   "cell_type": "markdown",
   "id": "e1a10db5",
   "metadata": {},
   "source": [
    "nombre_infected       978\n",
    "nombre_sain          2125\n",
    "nombre_exposed        551\n",
    "nombre_recovered    16346\n",
    "Name: 567, dtype: int64"
   ]
  },
  {
   "cell_type": "markdown",
   "id": "ff23d84f",
   "metadata": {},
   "source": [
    "nombre_infected       970\n",
    "nombre_sain          2123\n",
    "nombre_exposed        579\n",
    "nombre_recovered    16328\n",
    "Name: 568, dtype: int64"
   ]
  },
  {
   "cell_type": "markdown",
   "id": "2dcf5a95",
   "metadata": {},
   "source": [
    "nombre_infected       973\n",
    "nombre_sain          2131\n",
    "nombre_exposed        580\n",
    "nombre_recovered    16316\n",
    "Name: 569, dtype: int64"
   ]
  },
  {
   "cell_type": "markdown",
   "id": "ffc8ab6a",
   "metadata": {},
   "source": [
    "nombre_infected       975\n",
    "nombre_sain          2149\n",
    "nombre_exposed        583\n",
    "nombre_recovered    16293\n",
    "Name: 570, dtype: int64"
   ]
  },
  {
   "cell_type": "markdown",
   "id": "2b474d7f",
   "metadata": {},
   "source": [
    "nombre_infected       977\n",
    "nombre_sain          2153\n",
    "nombre_exposed        588\n",
    "nombre_recovered    16282\n",
    "Name: 571, dtype: int64"
   ]
  },
  {
   "cell_type": "markdown",
   "id": "fcda2520",
   "metadata": {},
   "source": [
    "nombre_infected       984\n",
    "nombre_sain          2165\n",
    "nombre_exposed        563\n",
    "nombre_recovered    16288\n",
    "Name: 572, dtype: int64"
   ]
  },
  {
   "cell_type": "markdown",
   "id": "07aad710",
   "metadata": {},
   "source": [
    "nombre_infected       975\n",
    "nombre_sain          2173\n",
    "nombre_exposed        570\n",
    "nombre_recovered    16282\n",
    "Name: 573, dtype: int64"
   ]
  },
  {
   "cell_type": "markdown",
   "id": "2ee70807",
   "metadata": {},
   "source": [
    "nombre_infected       980\n",
    "nombre_sain          2176\n",
    "nombre_exposed        585\n",
    "nombre_recovered    16259\n",
    "Name: 574, dtype: int64"
   ]
  },
  {
   "cell_type": "markdown",
   "id": "a0ac4aa3",
   "metadata": {},
   "source": [
    "nombre_infected       981\n",
    "nombre_sain          2190\n",
    "nombre_exposed        586\n",
    "nombre_recovered    16243\n",
    "Name: 575, dtype: int64"
   ]
  },
  {
   "cell_type": "markdown",
   "id": "df4d1697",
   "metadata": {},
   "source": [
    "nombre_infected       976\n",
    "nombre_sain          2186\n",
    "nombre_exposed        598\n",
    "nombre_recovered    16240\n",
    "Name: 576, dtype: int64"
   ]
  },
  {
   "cell_type": "markdown",
   "id": "ee61af63",
   "metadata": {},
   "source": [
    "nombre_infected       989\n",
    "nombre_sain          2209\n",
    "nombre_exposed        577\n",
    "nombre_recovered    16225\n",
    "Name: 577, dtype: int64"
   ]
  },
  {
   "cell_type": "markdown",
   "id": "8d64fb38",
   "metadata": {},
   "source": [
    "nombre_infected       975\n",
    "nombre_sain          2201\n",
    "nombre_exposed        595\n",
    "nombre_recovered    16229\n",
    "Name: 578, dtype: int64"
   ]
  },
  {
   "cell_type": "markdown",
   "id": "cd6299e7",
   "metadata": {},
   "source": [
    "nombre_infected       988\n",
    "nombre_sain          2206\n",
    "nombre_exposed        581\n",
    "nombre_recovered    16225\n",
    "Name: 579, dtype: int64"
   ]
  },
  {
   "cell_type": "markdown",
   "id": "ab90bf1b",
   "metadata": {},
   "source": [
    "nombre_infected       987\n",
    "nombre_sain          2182\n",
    "nombre_exposed        592\n",
    "nombre_recovered    16239\n",
    "Name: 580, dtype: int64"
   ]
  },
  {
   "cell_type": "markdown",
   "id": "da1dd1dd",
   "metadata": {},
   "source": [
    "nombre_infected       993\n",
    "nombre_sain          2185\n",
    "nombre_exposed        595\n",
    "nombre_recovered    16227\n",
    "Name: 581, dtype: int64"
   ]
  },
  {
   "cell_type": "markdown",
   "id": "07d33dc1",
   "metadata": {},
   "source": [
    "nombre_infected       969\n",
    "nombre_sain          2164\n",
    "nombre_exposed        621\n",
    "nombre_recovered    16246\n",
    "Name: 582, dtype: int64"
   ]
  },
  {
   "cell_type": "markdown",
   "id": "3ea82897",
   "metadata": {},
   "source": [
    "nombre_infected       986\n",
    "nombre_sain          2164\n",
    "nombre_exposed        595\n",
    "nombre_recovered    16255\n",
    "Name: 583, dtype: int64"
   ]
  },
  {
   "cell_type": "markdown",
   "id": "edcb8768",
   "metadata": {},
   "source": [
    "nombre_infected       994\n",
    "nombre_sain          2144\n",
    "nombre_exposed        591\n",
    "nombre_recovered    16271\n",
    "Name: 584, dtype: int64"
   ]
  },
  {
   "cell_type": "markdown",
   "id": "003d93d8",
   "metadata": {},
   "source": [
    "nombre_infected       976\n",
    "nombre_sain          2150\n",
    "nombre_exposed        601\n",
    "nombre_recovered    16273\n",
    "Name: 585, dtype: int64"
   ]
  },
  {
   "cell_type": "markdown",
   "id": "3225f7d3",
   "metadata": {},
   "source": [
    "nombre_infected       982\n",
    "nombre_sain          2149\n",
    "nombre_exposed        593\n",
    "nombre_recovered    16276\n",
    "Name: 586, dtype: int64"
   ]
  },
  {
   "cell_type": "markdown",
   "id": "f6175bbc",
   "metadata": {},
   "source": [
    "nombre_infected       981\n",
    "nombre_sain          2150\n",
    "nombre_exposed        590\n",
    "nombre_recovered    16279\n",
    "Name: 587, dtype: int64"
   ]
  },
  {
   "cell_type": "markdown",
   "id": "f571f3ec",
   "metadata": {},
   "source": [
    "nombre_infected       960\n",
    "nombre_sain          2141\n",
    "nombre_exposed        604\n",
    "nombre_recovered    16295\n",
    "Name: 588, dtype: int64"
   ]
  },
  {
   "cell_type": "markdown",
   "id": "7a437de7",
   "metadata": {},
   "source": [
    "nombre_infected       967\n",
    "nombre_sain          2134\n",
    "nombre_exposed        603\n",
    "nombre_recovered    16296\n",
    "Name: 589, dtype: int64"
   ]
  },
  {
   "cell_type": "markdown",
   "id": "893bcc66",
   "metadata": {},
   "source": [
    "nombre_infected       988\n",
    "nombre_sain          2089\n",
    "nombre_exposed        628\n",
    "nombre_recovered    16295\n",
    "Name: 590, dtype: int64"
   ]
  },
  {
   "cell_type": "markdown",
   "id": "fce7d6e5",
   "metadata": {},
   "source": [
    "nombre_infected       978\n",
    "nombre_sain          2083\n",
    "nombre_exposed        630\n",
    "nombre_recovered    16309\n",
    "Name: 591, dtype: int64"
   ]
  },
  {
   "cell_type": "markdown",
   "id": "00b7f97c",
   "metadata": {},
   "source": [
    "nombre_infected       974\n",
    "nombre_sain          2097\n",
    "nombre_exposed        616\n",
    "nombre_recovered    16313\n",
    "Name: 592, dtype: int64"
   ]
  },
  {
   "cell_type": "markdown",
   "id": "341b4830",
   "metadata": {},
   "source": [
    "nombre_infected       988\n",
    "nombre_sain          2097\n",
    "nombre_exposed        584\n",
    "nombre_recovered    16331\n",
    "Name: 593, dtype: int64"
   ]
  },
  {
   "cell_type": "markdown",
   "id": "c9203688",
   "metadata": {},
   "source": [
    "nombre_infected      1007\n",
    "nombre_sain          2104\n",
    "nombre_exposed        544\n",
    "nombre_recovered    16345\n",
    "Name: 594, dtype: int64"
   ]
  },
  {
   "cell_type": "markdown",
   "id": "784a43c7",
   "metadata": {},
   "source": [
    "nombre_infected      1004\n",
    "nombre_sain          2087\n",
    "nombre_exposed        568\n",
    "nombre_recovered    16341\n",
    "Name: 595, dtype: int64"
   ]
  },
  {
   "cell_type": "markdown",
   "id": "8fc12437",
   "metadata": {},
   "source": [
    "nombre_infected       985\n",
    "nombre_sain          2095\n",
    "nombre_exposed        580\n",
    "nombre_recovered    16340\n",
    "Name: 596, dtype: int64"
   ]
  },
  {
   "cell_type": "markdown",
   "id": "cc30ecab",
   "metadata": {},
   "source": [
    "nombre_infected       970\n",
    "nombre_sain          2086\n",
    "nombre_exposed        568\n",
    "nombre_recovered    16376\n",
    "Name: 597, dtype: int64"
   ]
  },
  {
   "cell_type": "markdown",
   "id": "5b6f348f",
   "metadata": {},
   "source": [
    "nombre_infected       965\n",
    "nombre_sain          2104\n",
    "nombre_exposed        557\n",
    "nombre_recovered    16374\n",
    "Name: 598, dtype: int64"
   ]
  },
  {
   "cell_type": "markdown",
   "id": "2c90ff81",
   "metadata": {},
   "source": [
    "nombre_infected       960\n",
    "nombre_sain          2106\n",
    "nombre_exposed        558\n",
    "nombre_recovered    16376\n",
    "Name: 599, dtype: int64"
   ]
  },
  {
   "cell_type": "markdown",
   "id": "87f83ea5",
   "metadata": {},
   "source": [
    "nombre_infected       974\n",
    "nombre_sain          2122\n",
    "nombre_exposed        551\n",
    "nombre_recovered    16353\n",
    "Name: 600, dtype: int64"
   ]
  },
  {
   "cell_type": "markdown",
   "id": "7f360d0e",
   "metadata": {},
   "source": [
    "nombre_infected       979\n",
    "nombre_sain          2122\n",
    "nombre_exposed        563\n",
    "nombre_recovered    16336\n",
    "Name: 601, dtype: int64"
   ]
  },
  {
   "cell_type": "markdown",
   "id": "dac1b7f4",
   "metadata": {},
   "source": [
    "nombre_infected       962\n",
    "nombre_sain          2103\n",
    "nombre_exposed        582\n",
    "nombre_recovered    16353\n",
    "Name: 602, dtype: int64"
   ]
  },
  {
   "cell_type": "markdown",
   "id": "dec74b87",
   "metadata": {},
   "source": [
    "nombre_infected       954\n",
    "nombre_sain          2085\n",
    "nombre_exposed        586\n",
    "nombre_recovered    16375\n",
    "Name: 603, dtype: int64"
   ]
  },
  {
   "cell_type": "markdown",
   "id": "237ddb10",
   "metadata": {},
   "source": [
    "nombre_infected       972\n",
    "nombre_sain          2072\n",
    "nombre_exposed        561\n",
    "nombre_recovered    16395\n",
    "Name: 604, dtype: int64"
   ]
  },
  {
   "cell_type": "markdown",
   "id": "c68169ce",
   "metadata": {},
   "source": [
    "nombre_infected       949\n",
    "nombre_sain          2089\n",
    "nombre_exposed        563\n",
    "nombre_recovered    16399\n",
    "Name: 605, dtype: int64"
   ]
  },
  {
   "cell_type": "markdown",
   "id": "2f0c9e40",
   "metadata": {},
   "source": [
    "nombre_infected       933\n",
    "nombre_sain          2064\n",
    "nombre_exposed        573\n",
    "nombre_recovered    16430\n",
    "Name: 606, dtype: int64"
   ]
  },
  {
   "cell_type": "markdown",
   "id": "9a3f409b",
   "metadata": {},
   "source": [
    "nombre_infected       915\n",
    "nombre_sain          2070\n",
    "nombre_exposed        581\n",
    "nombre_recovered    16434\n",
    "Name: 607, dtype: int64"
   ]
  },
  {
   "cell_type": "markdown",
   "id": "677ad6c2",
   "metadata": {},
   "source": [
    "nombre_infected       932\n",
    "nombre_sain          2056\n",
    "nombre_exposed        576\n",
    "nombre_recovered    16436\n",
    "Name: 608, dtype: int64"
   ]
  },
  {
   "cell_type": "markdown",
   "id": "59d0c34e",
   "metadata": {},
   "source": [
    "nombre_infected       939\n",
    "nombre_sain          2070\n",
    "nombre_exposed        576\n",
    "nombre_recovered    16415\n",
    "Name: 609, dtype: int64"
   ]
  },
  {
   "cell_type": "markdown",
   "id": "1e5b7c88",
   "metadata": {},
   "source": [
    "nombre_infected       925\n",
    "nombre_sain          2052\n",
    "nombre_exposed        581\n",
    "nombre_recovered    16442\n",
    "Name: 610, dtype: int64"
   ]
  },
  {
   "cell_type": "markdown",
   "id": "a91ff94f",
   "metadata": {},
   "source": [
    "nombre_infected       934\n",
    "nombre_sain          2050\n",
    "nombre_exposed        567\n",
    "nombre_recovered    16449\n",
    "Name: 611, dtype: int64"
   ]
  },
  {
   "cell_type": "markdown",
   "id": "83397844",
   "metadata": {},
   "source": [
    "nombre_infected       933\n",
    "nombre_sain          2050\n",
    "nombre_exposed        557\n",
    "nombre_recovered    16460\n",
    "Name: 612, dtype: int64"
   ]
  },
  {
   "cell_type": "markdown",
   "id": "4e95db1c",
   "metadata": {},
   "source": [
    "nombre_infected       950\n",
    "nombre_sain          2066\n",
    "nombre_exposed        526\n",
    "nombre_recovered    16458\n",
    "Name: 613, dtype: int64"
   ]
  },
  {
   "cell_type": "markdown",
   "id": "19c6c41b",
   "metadata": {},
   "source": [
    "nombre_infected       953\n",
    "nombre_sain          2064\n",
    "nombre_exposed        523\n",
    "nombre_recovered    16460\n",
    "Name: 614, dtype: int64"
   ]
  },
  {
   "cell_type": "markdown",
   "id": "e61f55e9",
   "metadata": {},
   "source": [
    "nombre_infected       974\n",
    "nombre_sain          2082\n",
    "nombre_exposed        511\n",
    "nombre_recovered    16433\n",
    "Name: 615, dtype: int64"
   ]
  },
  {
   "cell_type": "markdown",
   "id": "5f693b18",
   "metadata": {},
   "source": [
    "nombre_infected       938\n",
    "nombre_sain          2088\n",
    "nombre_exposed        524\n",
    "nombre_recovered    16450\n",
    "Name: 616, dtype: int64"
   ]
  },
  {
   "cell_type": "markdown",
   "id": "e2f2c0ed",
   "metadata": {},
   "source": [
    "nombre_infected       947\n",
    "nombre_sain          2110\n",
    "nombre_exposed        511\n",
    "nombre_recovered    16432\n",
    "Name: 617, dtype: int64"
   ]
  },
  {
   "cell_type": "markdown",
   "id": "d597ba5b",
   "metadata": {},
   "source": [
    "nombre_infected       933\n",
    "nombre_sain          2119\n",
    "nombre_exposed        525\n",
    "nombre_recovered    16423\n",
    "Name: 618, dtype: int64"
   ]
  },
  {
   "cell_type": "markdown",
   "id": "21fab08c",
   "metadata": {},
   "source": [
    "nombre_infected       925\n",
    "nombre_sain          2136\n",
    "nombre_exposed        523\n",
    "nombre_recovered    16416\n",
    "Name: 619, dtype: int64"
   ]
  },
  {
   "cell_type": "markdown",
   "id": "b6284631",
   "metadata": {},
   "source": [
    "nombre_infected       924\n",
    "nombre_sain          2136\n",
    "nombre_exposed        510\n",
    "nombre_recovered    16430\n",
    "Name: 620, dtype: int64"
   ]
  },
  {
   "cell_type": "markdown",
   "id": "cf2e2858",
   "metadata": {},
   "source": [
    "nombre_infected       909\n",
    "nombre_sain          2134\n",
    "nombre_exposed        528\n",
    "nombre_recovered    16429\n",
    "Name: 621, dtype: int64"
   ]
  },
  {
   "cell_type": "markdown",
   "id": "bc85f44c",
   "metadata": {},
   "source": [
    "nombre_infected       876\n",
    "nombre_sain          2129\n",
    "nombre_exposed        550\n",
    "nombre_recovered    16445\n",
    "Name: 622, dtype: int64"
   ]
  },
  {
   "cell_type": "markdown",
   "id": "bcbb1f81",
   "metadata": {},
   "source": [
    "nombre_infected       883\n",
    "nombre_sain          2121\n",
    "nombre_exposed        542\n",
    "nombre_recovered    16454\n",
    "Name: 623, dtype: int64"
   ]
  },
  {
   "cell_type": "markdown",
   "id": "013fdf6f",
   "metadata": {},
   "source": [
    "nombre_infected       909\n",
    "nombre_sain          2126\n",
    "nombre_exposed        527\n",
    "nombre_recovered    16438\n",
    "Name: 624, dtype: int64"
   ]
  },
  {
   "cell_type": "markdown",
   "id": "dfbebc72",
   "metadata": {},
   "source": [
    "nombre_infected       902\n",
    "nombre_sain          2145\n",
    "nombre_exposed        532\n",
    "nombre_recovered    16421\n",
    "Name: 625, dtype: int64"
   ]
  },
  {
   "cell_type": "markdown",
   "id": "5e04c495",
   "metadata": {},
   "source": [
    "nombre_infected       892\n",
    "nombre_sain          2171\n",
    "nombre_exposed        541\n",
    "nombre_recovered    16396\n",
    "Name: 626, dtype: int64"
   ]
  },
  {
   "cell_type": "markdown",
   "id": "70cc3d10",
   "metadata": {},
   "source": [
    "nombre_infected       885\n",
    "nombre_sain          2154\n",
    "nombre_exposed        537\n",
    "nombre_recovered    16424\n",
    "Name: 627, dtype: int64"
   ]
  },
  {
   "cell_type": "markdown",
   "id": "035a5b87",
   "metadata": {},
   "source": [
    "nombre_infected       898\n",
    "nombre_sain          2198\n",
    "nombre_exposed        515\n",
    "nombre_recovered    16389\n",
    "Name: 628, dtype: int64"
   ]
  },
  {
   "cell_type": "markdown",
   "id": "105980c1",
   "metadata": {},
   "source": [
    "nombre_infected       893\n",
    "nombre_sain          2189\n",
    "nombre_exposed        526\n",
    "nombre_recovered    16392\n",
    "Name: 629, dtype: int64"
   ]
  },
  {
   "cell_type": "markdown",
   "id": "1a1f7095",
   "metadata": {},
   "source": [
    "nombre_infected       874\n",
    "nombre_sain          2190\n",
    "nombre_exposed        529\n",
    "nombre_recovered    16407\n",
    "Name: 630, dtype: int64"
   ]
  },
  {
   "cell_type": "markdown",
   "id": "3bf519fe",
   "metadata": {},
   "source": [
    "nombre_infected       847\n",
    "nombre_sain          2194\n",
    "nombre_exposed        561\n",
    "nombre_recovered    16398\n",
    "Name: 631, dtype: int64"
   ]
  },
  {
   "cell_type": "markdown",
   "id": "bc76d88f",
   "metadata": {},
   "source": [
    "nombre_infected       858\n",
    "nombre_sain          2223\n",
    "nombre_exposed        548\n",
    "nombre_recovered    16371\n",
    "Name: 632, dtype: int64"
   ]
  },
  {
   "cell_type": "markdown",
   "id": "2143cb63",
   "metadata": {},
   "source": [
    "nombre_infected       847\n",
    "nombre_sain          2214\n",
    "nombre_exposed        571\n",
    "nombre_recovered    16368\n",
    "Name: 633, dtype: int64"
   ]
  },
  {
   "cell_type": "markdown",
   "id": "63f8f272",
   "metadata": {},
   "source": [
    "nombre_infected       876\n",
    "nombre_sain          2227\n",
    "nombre_exposed        581\n",
    "nombre_recovered    16316\n",
    "Name: 634, dtype: int64"
   ]
  },
  {
   "cell_type": "markdown",
   "id": "f1771fea",
   "metadata": {},
   "source": [
    "nombre_infected       892\n",
    "nombre_sain          2266\n",
    "nombre_exposed        562\n",
    "nombre_recovered    16280\n",
    "Name: 635, dtype: int64"
   ]
  },
  {
   "cell_type": "markdown",
   "id": "49b936f2",
   "metadata": {},
   "source": [
    "nombre_infected       899\n",
    "nombre_sain          2239\n",
    "nombre_exposed        566\n",
    "nombre_recovered    16296\n",
    "Name: 636, dtype: int64"
   ]
  },
  {
   "cell_type": "markdown",
   "id": "d67945ce",
   "metadata": {},
   "source": [
    "nombre_infected       895\n",
    "nombre_sain          2221\n",
    "nombre_exposed        593\n",
    "nombre_recovered    16291\n",
    "Name: 637, dtype: int64"
   ]
  },
  {
   "cell_type": "markdown",
   "id": "8eb7695d",
   "metadata": {},
   "source": [
    "nombre_infected       900\n",
    "nombre_sain          2226\n",
    "nombre_exposed        589\n",
    "nombre_recovered    16285\n",
    "Name: 638, dtype: int64"
   ]
  },
  {
   "cell_type": "markdown",
   "id": "a5c39d64",
   "metadata": {},
   "source": [
    "nombre_infected       917\n",
    "nombre_sain          2217\n",
    "nombre_exposed        569\n",
    "nombre_recovered    16297\n",
    "Name: 639, dtype: int64"
   ]
  },
  {
   "cell_type": "markdown",
   "id": "88ec15da",
   "metadata": {},
   "source": [
    "nombre_infected       922\n",
    "nombre_sain          2214\n",
    "nombre_exposed        562\n",
    "nombre_recovered    16302\n",
    "Name: 640, dtype: int64"
   ]
  },
  {
   "cell_type": "markdown",
   "id": "d78f33ff",
   "metadata": {},
   "source": [
    "nombre_infected       917\n",
    "nombre_sain          2236\n",
    "nombre_exposed        569\n",
    "nombre_recovered    16278\n",
    "Name: 641, dtype: int64"
   ]
  },
  {
   "cell_type": "markdown",
   "id": "6158a67e",
   "metadata": {},
   "source": [
    "nombre_infected       902\n",
    "nombre_sain          2244\n",
    "nombre_exposed        570\n",
    "nombre_recovered    16284\n",
    "Name: 642, dtype: int64"
   ]
  },
  {
   "cell_type": "markdown",
   "id": "4b7159be",
   "metadata": {},
   "source": [
    "nombre_infected       897\n",
    "nombre_sain          2258\n",
    "nombre_exposed        540\n",
    "nombre_recovered    16305\n",
    "Name: 643, dtype: int64"
   ]
  },
  {
   "cell_type": "markdown",
   "id": "9888fec4",
   "metadata": {},
   "source": [
    "nombre_infected       904\n",
    "nombre_sain          2266\n",
    "nombre_exposed        545\n",
    "nombre_recovered    16285\n",
    "Name: 644, dtype: int64"
   ]
  },
  {
   "cell_type": "markdown",
   "id": "cbf6681d",
   "metadata": {},
   "source": [
    "nombre_infected       898\n",
    "nombre_sain          2264\n",
    "nombre_exposed        561\n",
    "nombre_recovered    16277\n",
    "Name: 645, dtype: int64"
   ]
  },
  {
   "cell_type": "markdown",
   "id": "2180d47c",
   "metadata": {},
   "source": [
    "nombre_infected       896\n",
    "nombre_sain          2303\n",
    "nombre_exposed        585\n",
    "nombre_recovered    16216\n",
    "Name: 646, dtype: int64"
   ]
  },
  {
   "cell_type": "markdown",
   "id": "b6914535",
   "metadata": {},
   "source": [
    "nombre_infected       909\n",
    "nombre_sain          2288\n",
    "nombre_exposed        604\n",
    "nombre_recovered    16199\n",
    "Name: 647, dtype: int64"
   ]
  },
  {
   "cell_type": "markdown",
   "id": "860ef703",
   "metadata": {},
   "source": [
    "nombre_infected       944\n",
    "nombre_sain          2279\n",
    "nombre_exposed        592\n",
    "nombre_recovered    16185\n",
    "Name: 648, dtype: int64"
   ]
  },
  {
   "cell_type": "markdown",
   "id": "8e5594f2",
   "metadata": {},
   "source": [
    "nombre_infected       965\n",
    "nombre_sain          2277\n",
    "nombre_exposed        567\n",
    "nombre_recovered    16191\n",
    "Name: 649, dtype: int64"
   ]
  },
  {
   "cell_type": "markdown",
   "id": "b3e3a1e0",
   "metadata": {},
   "source": [
    "nombre_infected       970\n",
    "nombre_sain          2242\n",
    "nombre_exposed        594\n",
    "nombre_recovered    16194\n",
    "Name: 650, dtype: int64"
   ]
  },
  {
   "cell_type": "markdown",
   "id": "c9055ab7",
   "metadata": {},
   "source": [
    "nombre_infected       951\n",
    "nombre_sain          2225\n",
    "nombre_exposed        616\n",
    "nombre_recovered    16208\n",
    "Name: 651, dtype: int64"
   ]
  },
  {
   "cell_type": "markdown",
   "id": "28042679",
   "metadata": {},
   "source": [
    "nombre_infected       946\n",
    "nombre_sain          2218\n",
    "nombre_exposed        610\n",
    "nombre_recovered    16226\n",
    "Name: 652, dtype: int64"
   ]
  },
  {
   "cell_type": "markdown",
   "id": "4212665e",
   "metadata": {},
   "source": [
    "nombre_infected       966\n",
    "nombre_sain          2211\n",
    "nombre_exposed        598\n",
    "nombre_recovered    16225\n",
    "Name: 653, dtype: int64"
   ]
  },
  {
   "cell_type": "markdown",
   "id": "f1206d18",
   "metadata": {},
   "source": [
    "nombre_infected       951\n",
    "nombre_sain          2218\n",
    "nombre_exposed        598\n",
    "nombre_recovered    16233\n",
    "Name: 654, dtype: int64"
   ]
  },
  {
   "cell_type": "markdown",
   "id": "f29b3547",
   "metadata": {},
   "source": [
    "nombre_infected       936\n",
    "nombre_sain          2225\n",
    "nombre_exposed        592\n",
    "nombre_recovered    16247\n",
    "Name: 655, dtype: int64"
   ]
  },
  {
   "cell_type": "markdown",
   "id": "ccbc5fee",
   "metadata": {},
   "source": [
    "nombre_infected       927\n",
    "nombre_sain          2257\n",
    "nombre_exposed        567\n",
    "nombre_recovered    16249\n",
    "Name: 656, dtype: int64"
   ]
  },
  {
   "cell_type": "markdown",
   "id": "10cfc0ac",
   "metadata": {},
   "source": [
    "nombre_infected       943\n",
    "nombre_sain          2272\n",
    "nombre_exposed        544\n",
    "nombre_recovered    16241\n",
    "Name: 657, dtype: int64"
   ]
  },
  {
   "cell_type": "markdown",
   "id": "f4d5c9bb",
   "metadata": {},
   "source": [
    "nombre_infected       936\n",
    "nombre_sain          2249\n",
    "nombre_exposed        573\n",
    "nombre_recovered    16242\n",
    "Name: 658, dtype: int64"
   ]
  },
  {
   "cell_type": "markdown",
   "id": "d18466a9",
   "metadata": {},
   "source": [
    "nombre_infected       928\n",
    "nombre_sain          2223\n",
    "nombre_exposed        573\n",
    "nombre_recovered    16276\n",
    "Name: 659, dtype: int64"
   ]
  },
  {
   "cell_type": "markdown",
   "id": "03ced45e",
   "metadata": {},
   "source": [
    "nombre_infected       926\n",
    "nombre_sain          2202\n",
    "nombre_exposed        575\n",
    "nombre_recovered    16297\n",
    "Name: 660, dtype: int64"
   ]
  },
  {
   "cell_type": "markdown",
   "id": "bbed3ec6",
   "metadata": {},
   "source": [
    "nombre_infected       930\n",
    "nombre_sain          2191\n",
    "nombre_exposed        577\n",
    "nombre_recovered    16302\n",
    "Name: 661, dtype: int64"
   ]
  },
  {
   "cell_type": "markdown",
   "id": "5488902c",
   "metadata": {},
   "source": [
    "nombre_infected       925\n",
    "nombre_sain          2188\n",
    "nombre_exposed        556\n",
    "nombre_recovered    16331\n",
    "Name: 662, dtype: int64"
   ]
  },
  {
   "cell_type": "markdown",
   "id": "a53bb07f",
   "metadata": {},
   "source": [
    "nombre_infected       951\n",
    "nombre_sain          2196\n",
    "nombre_exposed        530\n",
    "nombre_recovered    16323\n",
    "Name: 663, dtype: int64"
   ]
  },
  {
   "cell_type": "markdown",
   "id": "8f1a7bd5",
   "metadata": {},
   "source": [
    "nombre_infected       949\n",
    "nombre_sain          2207\n",
    "nombre_exposed        523\n",
    "nombre_recovered    16321\n",
    "Name: 664, dtype: int64"
   ]
  },
  {
   "cell_type": "markdown",
   "id": "d58b3b03",
   "metadata": {},
   "source": [
    "nombre_infected       927\n",
    "nombre_sain          2235\n",
    "nombre_exposed        530\n",
    "nombre_recovered    16308\n",
    "Name: 665, dtype: int64"
   ]
  },
  {
   "cell_type": "markdown",
   "id": "b0801d8e",
   "metadata": {},
   "source": [
    "nombre_infected       930\n",
    "nombre_sain          2238\n",
    "nombre_exposed        527\n",
    "nombre_recovered    16305\n",
    "Name: 666, dtype: int64"
   ]
  },
  {
   "cell_type": "markdown",
   "id": "20fb414f",
   "metadata": {},
   "source": [
    "nombre_infected       927\n",
    "nombre_sain          2244\n",
    "nombre_exposed        521\n",
    "nombre_recovered    16308\n",
    "Name: 667, dtype: int64"
   ]
  },
  {
   "cell_type": "markdown",
   "id": "dd1036a5",
   "metadata": {},
   "source": [
    "nombre_infected       882\n",
    "nombre_sain          2244\n",
    "nombre_exposed        536\n",
    "nombre_recovered    16338\n",
    "Name: 668, dtype: int64"
   ]
  },
  {
   "cell_type": "markdown",
   "id": "dba91383",
   "metadata": {},
   "source": [
    "nombre_infected       887\n",
    "nombre_sain          2220\n",
    "nombre_exposed        536\n",
    "nombre_recovered    16357\n",
    "Name: 669, dtype: int64"
   ]
  },
  {
   "cell_type": "markdown",
   "id": "03535802",
   "metadata": {},
   "source": [
    "nombre_infected       864\n",
    "nombre_sain          2217\n",
    "nombre_exposed        527\n",
    "nombre_recovered    16392\n",
    "Name: 670, dtype: int64"
   ]
  },
  {
   "cell_type": "markdown",
   "id": "021d2c56",
   "metadata": {},
   "source": [
    "nombre_infected       870\n",
    "nombre_sain          2199\n",
    "nombre_exposed        524\n",
    "nombre_recovered    16407\n",
    "Name: 671, dtype: int64"
   ]
  },
  {
   "cell_type": "markdown",
   "id": "1e67d59a",
   "metadata": {},
   "source": [
    "nombre_infected       838\n",
    "nombre_sain          2213\n",
    "nombre_exposed        544\n",
    "nombre_recovered    16405\n",
    "Name: 672, dtype: int64"
   ]
  },
  {
   "cell_type": "markdown",
   "id": "28b3cbdd",
   "metadata": {},
   "source": [
    "nombre_infected       833\n",
    "nombre_sain          2225\n",
    "nombre_exposed        540\n",
    "nombre_recovered    16402\n",
    "Name: 673, dtype: int64"
   ]
  },
  {
   "cell_type": "markdown",
   "id": "661aff19",
   "metadata": {},
   "source": [
    "nombre_infected       821\n",
    "nombre_sain          2237\n",
    "nombre_exposed        535\n",
    "nombre_recovered    16407\n",
    "Name: 674, dtype: int64"
   ]
  },
  {
   "cell_type": "markdown",
   "id": "5d9b7ec8",
   "metadata": {},
   "source": [
    "nombre_infected       818\n",
    "nombre_sain          2245\n",
    "nombre_exposed        532\n",
    "nombre_recovered    16405\n",
    "Name: 675, dtype: int64"
   ]
  },
  {
   "cell_type": "markdown",
   "id": "de56a110",
   "metadata": {},
   "source": [
    "nombre_infected       810\n",
    "nombre_sain          2255\n",
    "nombre_exposed        526\n",
    "nombre_recovered    16409\n",
    "Name: 676, dtype: int64"
   ]
  },
  {
   "cell_type": "markdown",
   "id": "7fb6e032",
   "metadata": {},
   "source": [
    "nombre_infected       823\n",
    "nombre_sain          2260\n",
    "nombre_exposed        515\n",
    "nombre_recovered    16402\n",
    "Name: 677, dtype: int64"
   ]
  },
  {
   "cell_type": "markdown",
   "id": "066d5019",
   "metadata": {},
   "source": [
    "nombre_infected       838\n",
    "nombre_sain          2259\n",
    "nombre_exposed        506\n",
    "nombre_recovered    16397\n",
    "Name: 678, dtype: int64"
   ]
  },
  {
   "cell_type": "markdown",
   "id": "44710b8a",
   "metadata": {},
   "source": [
    "nombre_infected       812\n",
    "nombre_sain          2284\n",
    "nombre_exposed        516\n",
    "nombre_recovered    16388\n",
    "Name: 679, dtype: int64"
   ]
  },
  {
   "cell_type": "markdown",
   "id": "3b0bcccd",
   "metadata": {},
   "source": [
    "nombre_infected       813\n",
    "nombre_sain          2312\n",
    "nombre_exposed        514\n",
    "nombre_recovered    16361\n",
    "Name: 680, dtype: int64"
   ]
  },
  {
   "cell_type": "markdown",
   "id": "6bc648f3",
   "metadata": {},
   "source": [
    "nombre_infected       809\n",
    "nombre_sain          2344\n",
    "nombre_exposed        504\n",
    "nombre_recovered    16343\n",
    "Name: 681, dtype: int64"
   ]
  },
  {
   "cell_type": "markdown",
   "id": "504c19ff",
   "metadata": {},
   "source": [
    "nombre_infected       801\n",
    "nombre_sain          2366\n",
    "nombre_exposed        510\n",
    "nombre_recovered    16323\n",
    "Name: 682, dtype: int64"
   ]
  },
  {
   "cell_type": "markdown",
   "id": "8e42cd12",
   "metadata": {},
   "source": [
    "nombre_infected       804\n",
    "nombre_sain          2396\n",
    "nombre_exposed        513\n",
    "nombre_recovered    16287\n",
    "Name: 683, dtype: int64"
   ]
  },
  {
   "cell_type": "markdown",
   "id": "8db9a0cf",
   "metadata": {},
   "source": [
    "nombre_infected       792\n",
    "nombre_sain          2426\n",
    "nombre_exposed        514\n",
    "nombre_recovered    16268\n",
    "Name: 684, dtype: int64"
   ]
  },
  {
   "cell_type": "markdown",
   "id": "2e2355ae",
   "metadata": {},
   "source": [
    "nombre_infected       785\n",
    "nombre_sain          2444\n",
    "nombre_exposed        519\n",
    "nombre_recovered    16252\n",
    "Name: 685, dtype: int64"
   ]
  },
  {
   "cell_type": "markdown",
   "id": "33aba49b",
   "metadata": {},
   "source": [
    "nombre_infected       770\n",
    "nombre_sain          2476\n",
    "nombre_exposed        526\n",
    "nombre_recovered    16228\n",
    "Name: 686, dtype: int64"
   ]
  },
  {
   "cell_type": "markdown",
   "id": "7f600cd6",
   "metadata": {},
   "source": [
    "nombre_infected       782\n",
    "nombre_sain          2489\n",
    "nombre_exposed        537\n",
    "nombre_recovered    16192\n",
    "Name: 687, dtype: int64"
   ]
  },
  {
   "cell_type": "markdown",
   "id": "5b8eedde",
   "metadata": {},
   "source": [
    "nombre_infected       811\n",
    "nombre_sain          2491\n",
    "nombre_exposed        538\n",
    "nombre_recovered    16160\n",
    "Name: 688, dtype: int64"
   ]
  },
  {
   "cell_type": "markdown",
   "id": "fd734b8a",
   "metadata": {},
   "source": [
    "nombre_infected       821\n",
    "nombre_sain          2491\n",
    "nombre_exposed        537\n",
    "nombre_recovered    16151\n",
    "Name: 689, dtype: int64"
   ]
  },
  {
   "cell_type": "markdown",
   "id": "4006516b",
   "metadata": {},
   "source": [
    "nombre_infected       825\n",
    "nombre_sain          2508\n",
    "nombre_exposed        546\n",
    "nombre_recovered    16121\n",
    "Name: 690, dtype: int64"
   ]
  },
  {
   "cell_type": "markdown",
   "id": "88bf1549",
   "metadata": {},
   "source": [
    "nombre_infected       846\n",
    "nombre_sain          2504\n",
    "nombre_exposed        552\n",
    "nombre_recovered    16098\n",
    "Name: 691, dtype: int64"
   ]
  },
  {
   "cell_type": "markdown",
   "id": "616f70e2",
   "metadata": {},
   "source": [
    "nombre_infected       868\n",
    "nombre_sain          2481\n",
    "nombre_exposed        564\n",
    "nombre_recovered    16087\n",
    "Name: 692, dtype: int64"
   ]
  },
  {
   "cell_type": "markdown",
   "id": "a4efe746",
   "metadata": {},
   "source": [
    "nombre_infected       872\n",
    "nombre_sain          2477\n",
    "nombre_exposed        566\n",
    "nombre_recovered    16085\n",
    "Name: 693, dtype: int64"
   ]
  },
  {
   "cell_type": "markdown",
   "id": "f6840f43",
   "metadata": {},
   "source": [
    "nombre_infected       877\n",
    "nombre_sain          2491\n",
    "nombre_exposed        567\n",
    "nombre_recovered    16065\n",
    "Name: 694, dtype: int64"
   ]
  },
  {
   "cell_type": "markdown",
   "id": "22fe3a28",
   "metadata": {},
   "source": [
    "nombre_infected       912\n",
    "nombre_sain          2483\n",
    "nombre_exposed        559\n",
    "nombre_recovered    16046\n",
    "Name: 695, dtype: int64"
   ]
  },
  {
   "cell_type": "markdown",
   "id": "c66b8a1b",
   "metadata": {},
   "source": [
    "nombre_infected       907\n",
    "nombre_sain          2473\n",
    "nombre_exposed        579\n",
    "nombre_recovered    16041\n",
    "Name: 696, dtype: int64"
   ]
  },
  {
   "cell_type": "markdown",
   "id": "bf7ee2f8",
   "metadata": {},
   "source": [
    "nombre_infected       889\n",
    "nombre_sain          2475\n",
    "nombre_exposed        587\n",
    "nombre_recovered    16049\n",
    "Name: 697, dtype: int64"
   ]
  },
  {
   "cell_type": "markdown",
   "id": "1de5fe3b",
   "metadata": {},
   "source": [
    "nombre_infected       891\n",
    "nombre_sain          2467\n",
    "nombre_exposed        584\n",
    "nombre_recovered    16058\n",
    "Name: 698, dtype: int64"
   ]
  },
  {
   "cell_type": "markdown",
   "id": "b624cd4e",
   "metadata": {},
   "source": [
    "nombre_infected       929\n",
    "nombre_sain          2425\n",
    "nombre_exposed        592\n",
    "nombre_recovered    16054\n",
    "Name: 699, dtype: int64"
   ]
  },
  {
   "cell_type": "markdown",
   "id": "35efcce2",
   "metadata": {},
   "source": [
    "nombre_infected       907\n",
    "nombre_sain          2405\n",
    "nombre_exposed        614\n",
    "nombre_recovered    16074\n",
    "Name: 700, dtype: int64"
   ]
  },
  {
   "cell_type": "markdown",
   "id": "02cafd03",
   "metadata": {},
   "source": [
    "nombre_infected       934\n",
    "nombre_sain          2391\n",
    "nombre_exposed        629\n",
    "nombre_recovered    16046\n",
    "Name: 701, dtype: int64"
   ]
  },
  {
   "cell_type": "markdown",
   "id": "333b6990",
   "metadata": {},
   "source": [
    "nombre_infected       906\n",
    "nombre_sain          2372\n",
    "nombre_exposed        653\n",
    "nombre_recovered    16069\n",
    "Name: 702, dtype: int64"
   ]
  },
  {
   "cell_type": "markdown",
   "id": "8664c987",
   "metadata": {},
   "source": [
    "nombre_infected       926\n",
    "nombre_sain          2365\n",
    "nombre_exposed        651\n",
    "nombre_recovered    16058\n",
    "Name: 703, dtype: int64"
   ]
  },
  {
   "cell_type": "markdown",
   "id": "1215a381",
   "metadata": {},
   "source": [
    "nombre_infected       968\n",
    "nombre_sain          2362\n",
    "nombre_exposed        623\n",
    "nombre_recovered    16047\n",
    "Name: 704, dtype: int64"
   ]
  },
  {
   "cell_type": "markdown",
   "id": "7cf35f70",
   "metadata": {},
   "source": [
    "nombre_infected      1002\n",
    "nombre_sain          2312\n",
    "nombre_exposed        616\n",
    "nombre_recovered    16070\n",
    "Name: 705, dtype: int64"
   ]
  },
  {
   "cell_type": "markdown",
   "id": "f6e88b4d",
   "metadata": {},
   "source": [
    "nombre_infected      1005\n",
    "nombre_sain          2293\n",
    "nombre_exposed        622\n",
    "nombre_recovered    16080\n",
    "Name: 706, dtype: int64"
   ]
  },
  {
   "cell_type": "markdown",
   "id": "8c7f6854",
   "metadata": {},
   "source": [
    "nombre_infected      1009\n",
    "nombre_sain          2296\n",
    "nombre_exposed        622\n",
    "nombre_recovered    16073\n",
    "Name: 707, dtype: int64"
   ]
  },
  {
   "cell_type": "markdown",
   "id": "06e8df3e",
   "metadata": {},
   "source": [
    "nombre_infected      1002\n",
    "nombre_sain          2286\n",
    "nombre_exposed        598\n",
    "nombre_recovered    16114\n",
    "Name: 708, dtype: int64"
   ]
  },
  {
   "cell_type": "markdown",
   "id": "89572e5a",
   "metadata": {},
   "source": [
    "nombre_infected      1002\n",
    "nombre_sain          2281\n",
    "nombre_exposed        603\n",
    "nombre_recovered    16114\n",
    "Name: 709, dtype: int64"
   ]
  },
  {
   "cell_type": "markdown",
   "id": "621c8eeb",
   "metadata": {},
   "source": [
    "nombre_infected       964\n",
    "nombre_sain          2271\n",
    "nombre_exposed        624\n",
    "nombre_recovered    16141\n",
    "Name: 710, dtype: int64"
   ]
  },
  {
   "cell_type": "markdown",
   "id": "e51f3930",
   "metadata": {},
   "source": [
    "nombre_infected       948\n",
    "nombre_sain          2253\n",
    "nombre_exposed        611\n",
    "nombre_recovered    16188\n",
    "Name: 711, dtype: int64"
   ]
  },
  {
   "cell_type": "markdown",
   "id": "d8dfff4a",
   "metadata": {},
   "source": [
    "nombre_infected       962\n",
    "nombre_sain          2229\n",
    "nombre_exposed        615\n",
    "nombre_recovered    16194\n",
    "Name: 712, dtype: int64"
   ]
  },
  {
   "cell_type": "markdown",
   "id": "d61d4ac8",
   "metadata": {},
   "source": [
    "nombre_infected       949\n",
    "nombre_sain          2212\n",
    "nombre_exposed        628\n",
    "nombre_recovered    16211\n",
    "Name: 713, dtype: int64"
   ]
  },
  {
   "cell_type": "markdown",
   "id": "c1e37aba",
   "metadata": {},
   "source": [
    "nombre_infected       978\n",
    "nombre_sain          2216\n",
    "nombre_exposed        618\n",
    "nombre_recovered    16188\n",
    "Name: 714, dtype: int64"
   ]
  },
  {
   "cell_type": "markdown",
   "id": "5bd25566",
   "metadata": {},
   "source": [
    "nombre_infected       989\n",
    "nombre_sain          2190\n",
    "nombre_exposed        625\n",
    "nombre_recovered    16196\n",
    "Name: 715, dtype: int64"
   ]
  },
  {
   "cell_type": "markdown",
   "id": "e511b642",
   "metadata": {},
   "source": [
    "nombre_infected       984\n",
    "nombre_sain          2171\n",
    "nombre_exposed        632\n",
    "nombre_recovered    16213\n",
    "Name: 716, dtype: int64"
   ]
  },
  {
   "cell_type": "markdown",
   "id": "152b11fd",
   "metadata": {},
   "source": [
    "nombre_infected       981\n",
    "nombre_sain          2202\n",
    "nombre_exposed        614\n",
    "nombre_recovered    16203\n",
    "Name: 717, dtype: int64"
   ]
  },
  {
   "cell_type": "markdown",
   "id": "829a648f",
   "metadata": {},
   "source": [
    "nombre_infected       966\n",
    "nombre_sain          2226\n",
    "nombre_exposed        590\n",
    "nombre_recovered    16218\n",
    "Name: 718, dtype: int64"
   ]
  },
  {
   "cell_type": "markdown",
   "id": "30d83d8b",
   "metadata": {},
   "source": [
    "nombre_infected       981\n",
    "nombre_sain          2224\n",
    "nombre_exposed        574\n",
    "nombre_recovered    16221\n",
    "Name: 719, dtype: int64"
   ]
  },
  {
   "cell_type": "markdown",
   "id": "3f8ab13e",
   "metadata": {},
   "source": [
    "nombre_infected       970\n",
    "nombre_sain          2214\n",
    "nombre_exposed        582\n",
    "nombre_recovered    16234\n",
    "Name: 720, dtype: int64"
   ]
  },
  {
   "cell_type": "markdown",
   "id": "7017d5f6",
   "metadata": {},
   "source": [
    "nombre_infected       958\n",
    "nombre_sain          2217\n",
    "nombre_exposed        585\n",
    "nombre_recovered    16240\n",
    "Name: 721, dtype: int64"
   ]
  },
  {
   "cell_type": "markdown",
   "id": "5a6e98c8",
   "metadata": {},
   "source": [
    "nombre_infected       966\n",
    "nombre_sain          2223\n",
    "nombre_exposed        585\n",
    "nombre_recovered    16226\n",
    "Name: 722, dtype: int64"
   ]
  },
  {
   "cell_type": "markdown",
   "id": "0f9cadbc",
   "metadata": {},
   "source": [
    "nombre_infected       971\n",
    "nombre_sain          2219\n",
    "nombre_exposed        581\n",
    "nombre_recovered    16229\n",
    "Name: 723, dtype: int64"
   ]
  },
  {
   "cell_type": "markdown",
   "id": "825e5223",
   "metadata": {},
   "source": [
    "nombre_infected       991\n",
    "nombre_sain          2182\n",
    "nombre_exposed        596\n",
    "nombre_recovered    16231\n",
    "Name: 724, dtype: int64"
   ]
  },
  {
   "cell_type": "markdown",
   "id": "7b74ff81",
   "metadata": {},
   "source": [
    "nombre_infected      1004\n",
    "nombre_sain          2171\n",
    "nombre_exposed        584\n",
    "nombre_recovered    16241\n",
    "Name: 725, dtype: int64"
   ]
  },
  {
   "cell_type": "markdown",
   "id": "1dcbce2c",
   "metadata": {},
   "source": [
    "nombre_infected      1000\n",
    "nombre_sain          2184\n",
    "nombre_exposed        574\n",
    "nombre_recovered    16242\n",
    "Name: 726, dtype: int64"
   ]
  },
  {
   "cell_type": "markdown",
   "id": "7b61ca01",
   "metadata": {},
   "source": [
    "nombre_infected       999\n",
    "nombre_sain          2169\n",
    "nombre_exposed        574\n",
    "nombre_recovered    16258\n",
    "Name: 727, dtype: int64"
   ]
  },
  {
   "cell_type": "markdown",
   "id": "2df080de",
   "metadata": {},
   "source": [
    "nombre_infected       994\n",
    "nombre_sain          2168\n",
    "nombre_exposed        591\n",
    "nombre_recovered    16247\n",
    "Name: 728, dtype: int64"
   ]
  },
  {
   "cell_type": "markdown",
   "id": "611114b1",
   "metadata": {},
   "source": [
    "nombre_infected       998\n",
    "nombre_sain          2179\n",
    "nombre_exposed        580\n",
    "nombre_recovered    16243\n",
    "Name: 729, dtype: int64"
   ]
  },
  {
   "cell_type": "markdown",
   "id": "7f3f52b4",
   "metadata": {},
   "source": [
    "nombre_infected      1001\n",
    "nombre_sain          2210\n",
    "nombre_exposed        574\n",
    "nombre_recovered    16215\n",
    "Name: 730, dtype: int64"
   ]
  }
 ],
 "metadata": {},
 "nbformat": 4,
 "nbformat_minor": 5
}
