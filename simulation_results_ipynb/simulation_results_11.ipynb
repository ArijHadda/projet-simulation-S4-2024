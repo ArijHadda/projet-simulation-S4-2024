{
 "cells": [
  {
   "cell_type": "markdown",
   "id": "f5e2dfed",
   "metadata": {},
   "source": [
    "nombre_infected        20\n",
    "nombre_sain         19980\n",
    "nombre_exposed          0\n",
    "nombre_recovered        0\n",
    "Name: 0, dtype: int64"
   ]
  },
  {
   "cell_type": "markdown",
   "id": "a8caa750",
   "metadata": {},
   "source": [
    "nombre_infected        20\n",
    "nombre_sain         19964\n",
    "nombre_exposed         16\n",
    "nombre_recovered        0\n",
    "Name: 1, dtype: int64"
   ]
  },
  {
   "cell_type": "markdown",
   "id": "ea8f7d2f",
   "metadata": {},
   "source": [
    "nombre_infected        20\n",
    "nombre_sain         19939\n",
    "nombre_exposed         41\n",
    "nombre_recovered        0\n",
    "Name: 2, dtype: int64"
   ]
  },
  {
   "cell_type": "markdown",
   "id": "f755701c",
   "metadata": {},
   "source": [
    "nombre_infected        29\n",
    "nombre_sain         19912\n",
    "nombre_exposed         59\n",
    "nombre_recovered        0\n",
    "Name: 3, dtype: int64"
   ]
  },
  {
   "cell_type": "markdown",
   "id": "85c8b5f4",
   "metadata": {},
   "source": [
    "nombre_infected        40\n",
    "nombre_sain         19860\n",
    "nombre_exposed        100\n",
    "nombre_recovered        0\n",
    "Name: 4, dtype: int64"
   ]
  },
  {
   "cell_type": "markdown",
   "id": "31dc9d96",
   "metadata": {},
   "source": [
    "nombre_infected        54\n",
    "nombre_sain         19804\n",
    "nombre_exposed        142\n",
    "nombre_recovered        0\n",
    "Name: 5, dtype: int64"
   ]
  },
  {
   "cell_type": "markdown",
   "id": "c7c41f62",
   "metadata": {},
   "source": [
    "nombre_infected        69\n",
    "nombre_sain         19741\n",
    "nombre_exposed        184\n",
    "nombre_recovered        6\n",
    "Name: 6, dtype: int64"
   ]
  },
  {
   "cell_type": "markdown",
   "id": "7620ddcc",
   "metadata": {},
   "source": [
    "nombre_infected       109\n",
    "nombre_sain         19630\n",
    "nombre_exposed        252\n",
    "nombre_recovered        9\n",
    "Name: 7, dtype: int64"
   ]
  },
  {
   "cell_type": "markdown",
   "id": "d433cca1",
   "metadata": {},
   "source": [
    "nombre_infected       133\n",
    "nombre_sain         19512\n",
    "nombre_exposed        338\n",
    "nombre_recovered       17\n",
    "Name: 8, dtype: int64"
   ]
  },
  {
   "cell_type": "markdown",
   "id": "9e1d2497",
   "metadata": {},
   "source": [
    "nombre_infected       194\n",
    "nombre_sain         19322\n",
    "nombre_exposed        460\n",
    "nombre_recovered       24\n",
    "Name: 9, dtype: int64"
   ]
  },
  {
   "cell_type": "markdown",
   "id": "ca8272dc",
   "metadata": {},
   "source": [
    "nombre_infected       263\n",
    "nombre_sain         19057\n",
    "nombre_exposed        643\n",
    "nombre_recovered       37\n",
    "Name: 10, dtype: int64"
   ]
  },
  {
   "cell_type": "markdown",
   "id": "b074259b",
   "metadata": {},
   "source": [
    "nombre_infected       338\n",
    "nombre_sain         18719\n",
    "nombre_exposed        884\n",
    "nombre_recovered       59\n",
    "Name: 11, dtype: int64"
   ]
  },
  {
   "cell_type": "markdown",
   "id": "dc2b865a",
   "metadata": {},
   "source": [
    "nombre_infected       453\n",
    "nombre_sain         18251\n",
    "nombre_exposed       1186\n",
    "nombre_recovered      110\n",
    "Name: 12, dtype: int64"
   ]
  },
  {
   "cell_type": "markdown",
   "id": "c4dc118a",
   "metadata": {},
   "source": [
    "nombre_infected       594\n",
    "nombre_sain         17676\n",
    "nombre_exposed       1573\n",
    "nombre_recovered      157\n",
    "Name: 13, dtype: int64"
   ]
  },
  {
   "cell_type": "markdown",
   "id": "2660dd54",
   "metadata": {},
   "source": [
    "nombre_infected       833\n",
    "nombre_sain         16881\n",
    "nombre_exposed       2074\n",
    "nombre_recovered      212\n",
    "Name: 14, dtype: int64"
   ]
  },
  {
   "cell_type": "markdown",
   "id": "1a5d42b8",
   "metadata": {},
   "source": [
    "nombre_infected      1122\n",
    "nombre_sain         15920\n",
    "nombre_exposed       2663\n",
    "nombre_recovered      295\n",
    "Name: 15, dtype: int64"
   ]
  },
  {
   "cell_type": "markdown",
   "id": "83d40fd8",
   "metadata": {},
   "source": [
    "nombre_infected      1475\n",
    "nombre_sain         14731\n",
    "nombre_exposed       3392\n",
    "nombre_recovered      402\n",
    "Name: 16, dtype: int64"
   ]
  },
  {
   "cell_type": "markdown",
   "id": "08d2281c",
   "metadata": {},
   "source": [
    "nombre_infected      1919\n",
    "nombre_sain         13355\n",
    "nombre_exposed       4184\n",
    "nombre_recovered      542\n",
    "Name: 17, dtype: int64"
   ]
  },
  {
   "cell_type": "markdown",
   "id": "edcc38ab",
   "metadata": {},
   "source": [
    "nombre_infected      2531\n",
    "nombre_sain         11837\n",
    "nombre_exposed       4905\n",
    "nombre_recovered      727\n",
    "Name: 18, dtype: int64"
   ]
  },
  {
   "cell_type": "markdown",
   "id": "2ba685ac",
   "metadata": {},
   "source": [
    "nombre_infected      3203\n",
    "nombre_sain         10153\n",
    "nombre_exposed       5636\n",
    "nombre_recovered     1008\n",
    "Name: 19, dtype: int64"
   ]
  },
  {
   "cell_type": "markdown",
   "id": "fd1b0e7d",
   "metadata": {},
   "source": [
    "nombre_infected     3945\n",
    "nombre_sain         8297\n",
    "nombre_exposed      6404\n",
    "nombre_recovered    1354\n",
    "Name: 20, dtype: int64"
   ]
  },
  {
   "cell_type": "markdown",
   "id": "f4a61b67",
   "metadata": {},
   "source": [
    "nombre_infected     4783\n",
    "nombre_sain         6589\n",
    "nombre_exposed      6832\n",
    "nombre_recovered    1796\n",
    "Name: 21, dtype: int64"
   ]
  },
  {
   "cell_type": "markdown",
   "id": "932931ee",
   "metadata": {},
   "source": [
    "nombre_infected     5699\n",
    "nombre_sain         5051\n",
    "nombre_exposed      6930\n",
    "nombre_recovered    2320\n",
    "Name: 22, dtype: int64"
   ]
  },
  {
   "cell_type": "markdown",
   "id": "2b27ad60",
   "metadata": {},
   "source": [
    "nombre_infected     6584\n",
    "nombre_sain         3693\n",
    "nombre_exposed      6760\n",
    "nombre_recovered    2963\n",
    "Name: 23, dtype: int64"
   ]
  },
  {
   "cell_type": "markdown",
   "id": "293c17dc",
   "metadata": {},
   "source": [
    "nombre_infected     7284\n",
    "nombre_sain         2652\n",
    "nombre_exposed      6328\n",
    "nombre_recovered    3736\n",
    "Name: 24, dtype: int64"
   ]
  },
  {
   "cell_type": "markdown",
   "id": "86cc675a",
   "metadata": {},
   "source": [
    "nombre_infected     7842\n",
    "nombre_sain         1858\n",
    "nombre_exposed      5674\n",
    "nombre_recovered    4626\n",
    "Name: 25, dtype: int64"
   ]
  },
  {
   "cell_type": "markdown",
   "id": "29fb1883",
   "metadata": {},
   "source": [
    "nombre_infected     8242\n",
    "nombre_sain         1256\n",
    "nombre_exposed      4943\n",
    "nombre_recovered    5559\n",
    "Name: 26, dtype: int64"
   ]
  },
  {
   "cell_type": "markdown",
   "id": "f8c42253",
   "metadata": {},
   "source": [
    "nombre_infected     8437\n",
    "nombre_sain          882\n",
    "nombre_exposed      4120\n",
    "nombre_recovered    6561\n",
    "Name: 27, dtype: int64"
   ]
  },
  {
   "cell_type": "markdown",
   "id": "0a838bd0",
   "metadata": {},
   "source": [
    "nombre_infected     8360\n",
    "nombre_sain          638\n",
    "nombre_exposed      3372\n",
    "nombre_recovered    7630\n",
    "Name: 28, dtype: int64"
   ]
  },
  {
   "cell_type": "markdown",
   "id": "937c8578",
   "metadata": {},
   "source": [
    "nombre_infected     8152\n",
    "nombre_sain          458\n",
    "nombre_exposed      2688\n",
    "nombre_recovered    8702\n",
    "Name: 29, dtype: int64"
   ]
  },
  {
   "cell_type": "markdown",
   "id": "ac4a2ade",
   "metadata": {},
   "source": [
    "nombre_infected     7751\n",
    "nombre_sain          337\n",
    "nombre_exposed      2095\n",
    "nombre_recovered    9817\n",
    "Name: 30, dtype: int64"
   ]
  },
  {
   "cell_type": "markdown",
   "id": "613f68ec",
   "metadata": {},
   "source": [
    "nombre_infected      7248\n",
    "nombre_sain           256\n",
    "nombre_exposed       1642\n",
    "nombre_recovered    10854\n",
    "Name: 31, dtype: int64"
   ]
  },
  {
   "cell_type": "markdown",
   "id": "f42b10d2",
   "metadata": {},
   "source": [
    "nombre_infected      6834\n",
    "nombre_sain           195\n",
    "nombre_exposed       1216\n",
    "nombre_recovered    11755\n",
    "Name: 32, dtype: int64"
   ]
  },
  {
   "cell_type": "markdown",
   "id": "c945cff9",
   "metadata": {},
   "source": [
    "nombre_infected      6270\n",
    "nombre_sain           169\n",
    "nombre_exposed        901\n",
    "nombre_recovered    12660\n",
    "Name: 33, dtype: int64"
   ]
  },
  {
   "cell_type": "markdown",
   "id": "0cc0acba",
   "metadata": {},
   "source": [
    "nombre_infected      5685\n",
    "nombre_sain           146\n",
    "nombre_exposed        674\n",
    "nombre_recovered    13495\n",
    "Name: 34, dtype: int64"
   ]
  },
  {
   "cell_type": "markdown",
   "id": "9e1c3cdf",
   "metadata": {},
   "source": [
    "nombre_infected      5124\n",
    "nombre_sain           123\n",
    "nombre_exposed        507\n",
    "nombre_recovered    14246\n",
    "Name: 35, dtype: int64"
   ]
  },
  {
   "cell_type": "markdown",
   "id": "f1feca36",
   "metadata": {},
   "source": [
    "nombre_infected      4561\n",
    "nombre_sain           130\n",
    "nombre_exposed        384\n",
    "nombre_recovered    14925\n",
    "Name: 36, dtype: int64"
   ]
  },
  {
   "cell_type": "markdown",
   "id": "0986afbb",
   "metadata": {},
   "source": [
    "nombre_infected      4069\n",
    "nombre_sain           133\n",
    "nombre_exposed        293\n",
    "nombre_recovered    15505\n",
    "Name: 37, dtype: int64"
   ]
  },
  {
   "cell_type": "markdown",
   "id": "44f6e3dd",
   "metadata": {},
   "source": [
    "nombre_infected      3661\n",
    "nombre_sain           150\n",
    "nombre_exposed        217\n",
    "nombre_recovered    15972\n",
    "Name: 38, dtype: int64"
   ]
  },
  {
   "cell_type": "markdown",
   "id": "ae15731f",
   "metadata": {},
   "source": [
    "nombre_infected      3226\n",
    "nombre_sain           146\n",
    "nombre_exposed        171\n",
    "nombre_recovered    16457\n",
    "Name: 39, dtype: int64"
   ]
  },
  {
   "cell_type": "markdown",
   "id": "f58a531d",
   "metadata": {},
   "source": [
    "nombre_infected      2838\n",
    "nombre_sain           169\n",
    "nombre_exposed        142\n",
    "nombre_recovered    16851\n",
    "Name: 40, dtype: int64"
   ]
  },
  {
   "cell_type": "markdown",
   "id": "cabd1101",
   "metadata": {},
   "source": [
    "nombre_infected      2444\n",
    "nombre_sain           207\n",
    "nombre_exposed        118\n",
    "nombre_recovered    17231\n",
    "Name: 41, dtype: int64"
   ]
  },
  {
   "cell_type": "markdown",
   "id": "70ca23c9",
   "metadata": {},
   "source": [
    "nombre_infected      2145\n",
    "nombre_sain           237\n",
    "nombre_exposed         92\n",
    "nombre_recovered    17526\n",
    "Name: 42, dtype: int64"
   ]
  },
  {
   "cell_type": "markdown",
   "id": "4531f0f7",
   "metadata": {},
   "source": [
    "nombre_infected      1902\n",
    "nombre_sain           272\n",
    "nombre_exposed         93\n",
    "nombre_recovered    17733\n",
    "Name: 43, dtype: int64"
   ]
  },
  {
   "cell_type": "markdown",
   "id": "17bbc46b",
   "metadata": {},
   "source": [
    "nombre_infected      1665\n",
    "nombre_sain           318\n",
    "nombre_exposed         80\n",
    "nombre_recovered    17937\n",
    "Name: 44, dtype: int64"
   ]
  },
  {
   "cell_type": "markdown",
   "id": "9cfe6073",
   "metadata": {},
   "source": [
    "nombre_infected      1454\n",
    "nombre_sain           345\n",
    "nombre_exposed         85\n",
    "nombre_recovered    18116\n",
    "Name: 45, dtype: int64"
   ]
  },
  {
   "cell_type": "markdown",
   "id": "61b9ff20",
   "metadata": {},
   "source": [
    "nombre_infected      1253\n",
    "nombre_sain           395\n",
    "nombre_exposed         80\n",
    "nombre_recovered    18272\n",
    "Name: 46, dtype: int64"
   ]
  },
  {
   "cell_type": "markdown",
   "id": "a088915f",
   "metadata": {},
   "source": [
    "nombre_infected      1100\n",
    "nombre_sain           438\n",
    "nombre_exposed         87\n",
    "nombre_recovered    18375\n",
    "Name: 47, dtype: int64"
   ]
  },
  {
   "cell_type": "markdown",
   "id": "1323e9d8",
   "metadata": {},
   "source": [
    "nombre_infected       946\n",
    "nombre_sain           478\n",
    "nombre_exposed         94\n",
    "nombre_recovered    18482\n",
    "Name: 48, dtype: int64"
   ]
  },
  {
   "cell_type": "markdown",
   "id": "87093047",
   "metadata": {},
   "source": [
    "nombre_infected       824\n",
    "nombre_sain           510\n",
    "nombre_exposed        102\n",
    "nombre_recovered    18564\n",
    "Name: 49, dtype: int64"
   ]
  },
  {
   "cell_type": "markdown",
   "id": "62e70f38",
   "metadata": {},
   "source": [
    "nombre_infected       733\n",
    "nombre_sain           565\n",
    "nombre_exposed         89\n",
    "nombre_recovered    18613\n",
    "Name: 50, dtype: int64"
   ]
  },
  {
   "cell_type": "markdown",
   "id": "04975f93",
   "metadata": {},
   "source": [
    "nombre_infected       641\n",
    "nombre_sain           605\n",
    "nombre_exposed         94\n",
    "nombre_recovered    18660\n",
    "Name: 51, dtype: int64"
   ]
  },
  {
   "cell_type": "markdown",
   "id": "2ac57137",
   "metadata": {},
   "source": [
    "nombre_infected       554\n",
    "nombre_sain           659\n",
    "nombre_exposed         89\n",
    "nombre_recovered    18698\n",
    "Name: 52, dtype: int64"
   ]
  },
  {
   "cell_type": "markdown",
   "id": "c258a012",
   "metadata": {},
   "source": [
    "nombre_infected       489\n",
    "nombre_sain           715\n",
    "nombre_exposed         79\n",
    "nombre_recovered    18717\n",
    "Name: 53, dtype: int64"
   ]
  },
  {
   "cell_type": "markdown",
   "id": "ea05d43f",
   "metadata": {},
   "source": [
    "nombre_infected       416\n",
    "nombre_sain           756\n",
    "nombre_exposed         85\n",
    "nombre_recovered    18743\n",
    "Name: 54, dtype: int64"
   ]
  },
  {
   "cell_type": "markdown",
   "id": "fa98e3d9",
   "metadata": {},
   "source": [
    "nombre_infected       366\n",
    "nombre_sain           805\n",
    "nombre_exposed         70\n",
    "nombre_recovered    18759\n",
    "Name: 55, dtype: int64"
   ]
  },
  {
   "cell_type": "markdown",
   "id": "60d8370a",
   "metadata": {},
   "source": [
    "nombre_infected       331\n",
    "nombre_sain           847\n",
    "nombre_exposed         71\n",
    "nombre_recovered    18751\n",
    "Name: 56, dtype: int64"
   ]
  },
  {
   "cell_type": "markdown",
   "id": "cf6a36e1",
   "metadata": {},
   "source": [
    "nombre_infected       302\n",
    "nombre_sain           915\n",
    "nombre_exposed         65\n",
    "nombre_recovered    18718\n",
    "Name: 57, dtype: int64"
   ]
  },
  {
   "cell_type": "markdown",
   "id": "5cc51c57",
   "metadata": {},
   "source": [
    "nombre_infected       273\n",
    "nombre_sain           956\n",
    "nombre_exposed         69\n",
    "nombre_recovered    18702\n",
    "Name: 58, dtype: int64"
   ]
  },
  {
   "cell_type": "markdown",
   "id": "1c0abd24",
   "metadata": {},
   "source": [
    "nombre_infected       248\n",
    "nombre_sain          1016\n",
    "nombre_exposed         68\n",
    "nombre_recovered    18668\n",
    "Name: 59, dtype: int64"
   ]
  },
  {
   "cell_type": "markdown",
   "id": "094ebff7",
   "metadata": {},
   "source": [
    "nombre_infected       234\n",
    "nombre_sain          1073\n",
    "nombre_exposed         68\n",
    "nombre_recovered    18625\n",
    "Name: 60, dtype: int64"
   ]
  },
  {
   "cell_type": "markdown",
   "id": "338aff75",
   "metadata": {},
   "source": [
    "nombre_infected       226\n",
    "nombre_sain          1136\n",
    "nombre_exposed         59\n",
    "nombre_recovered    18579\n",
    "Name: 61, dtype: int64"
   ]
  },
  {
   "cell_type": "markdown",
   "id": "2799201e",
   "metadata": {},
   "source": [
    "nombre_infected       207\n",
    "nombre_sain          1197\n",
    "nombre_exposed         65\n",
    "nombre_recovered    18531\n",
    "Name: 62, dtype: int64"
   ]
  },
  {
   "cell_type": "markdown",
   "id": "6678fabc",
   "metadata": {},
   "source": [
    "nombre_infected       191\n",
    "nombre_sain          1242\n",
    "nombre_exposed         67\n",
    "nombre_recovered    18500\n",
    "Name: 63, dtype: int64"
   ]
  },
  {
   "cell_type": "markdown",
   "id": "141538c5",
   "metadata": {},
   "source": [
    "nombre_infected       176\n",
    "nombre_sain          1292\n",
    "nombre_exposed         60\n",
    "nombre_recovered    18472\n",
    "Name: 64, dtype: int64"
   ]
  },
  {
   "cell_type": "markdown",
   "id": "da9f31f4",
   "metadata": {},
   "source": [
    "nombre_infected       165\n",
    "nombre_sain          1350\n",
    "nombre_exposed         63\n",
    "nombre_recovered    18422\n",
    "Name: 65, dtype: int64"
   ]
  },
  {
   "cell_type": "markdown",
   "id": "2bf846e3",
   "metadata": {},
   "source": [
    "nombre_infected       160\n",
    "nombre_sain          1410\n",
    "nombre_exposed         57\n",
    "nombre_recovered    18373\n",
    "Name: 66, dtype: int64"
   ]
  },
  {
   "cell_type": "markdown",
   "id": "d473f969",
   "metadata": {},
   "source": [
    "nombre_infected       142\n",
    "nombre_sain          1468\n",
    "nombre_exposed         52\n",
    "nombre_recovered    18338\n",
    "Name: 67, dtype: int64"
   ]
  },
  {
   "cell_type": "markdown",
   "id": "793a3fe7",
   "metadata": {},
   "source": [
    "nombre_infected       131\n",
    "nombre_sain          1521\n",
    "nombre_exposed         54\n",
    "nombre_recovered    18294\n",
    "Name: 68, dtype: int64"
   ]
  },
  {
   "cell_type": "markdown",
   "id": "35eef998",
   "metadata": {},
   "source": [
    "nombre_infected       123\n",
    "nombre_sain          1581\n",
    "nombre_exposed         50\n",
    "nombre_recovered    18246\n",
    "Name: 69, dtype: int64"
   ]
  },
  {
   "cell_type": "markdown",
   "id": "d5df26a9",
   "metadata": {},
   "source": [
    "nombre_infected       118\n",
    "nombre_sain          1632\n",
    "nombre_exposed         60\n",
    "nombre_recovered    18190\n",
    "Name: 70, dtype: int64"
   ]
  },
  {
   "cell_type": "markdown",
   "id": "044f422f",
   "metadata": {},
   "source": [
    "nombre_infected       106\n",
    "nombre_sain          1690\n",
    "nombre_exposed         62\n",
    "nombre_recovered    18142\n",
    "Name: 71, dtype: int64"
   ]
  },
  {
   "cell_type": "markdown",
   "id": "e9e6620d",
   "metadata": {},
   "source": [
    "nombre_infected       110\n",
    "nombre_sain          1755\n",
    "nombre_exposed         53\n",
    "nombre_recovered    18082\n",
    "Name: 72, dtype: int64"
   ]
  },
  {
   "cell_type": "markdown",
   "id": "ae6563cc",
   "metadata": {},
   "source": [
    "nombre_infected       104\n",
    "nombre_sain          1816\n",
    "nombre_exposed         49\n",
    "nombre_recovered    18031\n",
    "Name: 73, dtype: int64"
   ]
  },
  {
   "cell_type": "markdown",
   "id": "13f24842",
   "metadata": {},
   "source": [
    "nombre_infected        90\n",
    "nombre_sain          1881\n",
    "nombre_exposed         48\n",
    "nombre_recovered    17981\n",
    "Name: 74, dtype: int64"
   ]
  },
  {
   "cell_type": "markdown",
   "id": "e757a8a9",
   "metadata": {},
   "source": [
    "nombre_infected        86\n",
    "nombre_sain          1948\n",
    "nombre_exposed         45\n",
    "nombre_recovered    17921\n",
    "Name: 75, dtype: int64"
   ]
  },
  {
   "cell_type": "markdown",
   "id": "982862c7",
   "metadata": {},
   "source": [
    "nombre_infected        83\n",
    "nombre_sain          2010\n",
    "nombre_exposed         35\n",
    "nombre_recovered    17872\n",
    "Name: 76, dtype: int64"
   ]
  },
  {
   "cell_type": "markdown",
   "id": "38b3bc03",
   "metadata": {},
   "source": [
    "nombre_infected        81\n",
    "nombre_sain          2076\n",
    "nombre_exposed         35\n",
    "nombre_recovered    17808\n",
    "Name: 77, dtype: int64"
   ]
  },
  {
   "cell_type": "markdown",
   "id": "21f16498",
   "metadata": {},
   "source": [
    "nombre_infected        78\n",
    "nombre_sain          2119\n",
    "nombre_exposed         39\n",
    "nombre_recovered    17764\n",
    "Name: 78, dtype: int64"
   ]
  },
  {
   "cell_type": "markdown",
   "id": "28b4a39d",
   "metadata": {},
   "source": [
    "nombre_infected        71\n",
    "nombre_sain          2166\n",
    "nombre_exposed         49\n",
    "nombre_recovered    17714\n",
    "Name: 79, dtype: int64"
   ]
  },
  {
   "cell_type": "markdown",
   "id": "0c566c06",
   "metadata": {},
   "source": [
    "nombre_infected        72\n",
    "nombre_sain          2203\n",
    "nombre_exposed         49\n",
    "nombre_recovered    17676\n",
    "Name: 80, dtype: int64"
   ]
  },
  {
   "cell_type": "markdown",
   "id": "3b912997",
   "metadata": {},
   "source": [
    "nombre_infected        72\n",
    "nombre_sain          2250\n",
    "nombre_exposed         46\n",
    "nombre_recovered    17632\n",
    "Name: 81, dtype: int64"
   ]
  },
  {
   "cell_type": "markdown",
   "id": "40ecd5bf",
   "metadata": {},
   "source": [
    "nombre_infected        74\n",
    "nombre_sain          2274\n",
    "nombre_exposed         44\n",
    "nombre_recovered    17608\n",
    "Name: 82, dtype: int64"
   ]
  },
  {
   "cell_type": "markdown",
   "id": "610110fd",
   "metadata": {},
   "source": [
    "nombre_infected        71\n",
    "nombre_sain          2296\n",
    "nombre_exposed         44\n",
    "nombre_recovered    17589\n",
    "Name: 83, dtype: int64"
   ]
  },
  {
   "cell_type": "markdown",
   "id": "fbdfecf9",
   "metadata": {},
   "source": [
    "nombre_infected        77\n",
    "nombre_sain          2322\n",
    "nombre_exposed         41\n",
    "nombre_recovered    17560\n",
    "Name: 84, dtype: int64"
   ]
  },
  {
   "cell_type": "markdown",
   "id": "bcafe53c",
   "metadata": {},
   "source": [
    "nombre_infected        78\n",
    "nombre_sain          2340\n",
    "nombre_exposed         41\n",
    "nombre_recovered    17541\n",
    "Name: 85, dtype: int64"
   ]
  },
  {
   "cell_type": "markdown",
   "id": "45e46481",
   "metadata": {},
   "source": [
    "nombre_infected        86\n",
    "nombre_sain          2364\n",
    "nombre_exposed         44\n",
    "nombre_recovered    17506\n",
    "Name: 86, dtype: int64"
   ]
  },
  {
   "cell_type": "markdown",
   "id": "c6d6a0d2",
   "metadata": {},
   "source": [
    "nombre_infected        81\n",
    "nombre_sain          2382\n",
    "nombre_exposed         48\n",
    "nombre_recovered    17489\n",
    "Name: 87, dtype: int64"
   ]
  },
  {
   "cell_type": "markdown",
   "id": "c9ffb468",
   "metadata": {},
   "source": [
    "nombre_infected        76\n",
    "nombre_sain          2405\n",
    "nombre_exposed         55\n",
    "nombre_recovered    17464\n",
    "Name: 88, dtype: int64"
   ]
  },
  {
   "cell_type": "markdown",
   "id": "83770e61",
   "metadata": {},
   "source": [
    "nombre_infected        79\n",
    "nombre_sain          2427\n",
    "nombre_exposed         55\n",
    "nombre_recovered    17439\n",
    "Name: 89, dtype: int64"
   ]
  },
  {
   "cell_type": "markdown",
   "id": "3b99f495",
   "metadata": {},
   "source": [
    "nombre_infected        72\n",
    "nombre_sain          2453\n",
    "nombre_exposed         56\n",
    "nombre_recovered    17419\n",
    "Name: 90, dtype: int64"
   ]
  },
  {
   "cell_type": "markdown",
   "id": "b57a8679",
   "metadata": {},
   "source": [
    "nombre_infected        79\n",
    "nombre_sain          2481\n",
    "nombre_exposed         46\n",
    "nombre_recovered    17394\n",
    "Name: 91, dtype: int64"
   ]
  },
  {
   "cell_type": "markdown",
   "id": "8a3eac0f",
   "metadata": {},
   "source": [
    "nombre_infected        82\n",
    "nombre_sain          2517\n",
    "nombre_exposed         50\n",
    "nombre_recovered    17351\n",
    "Name: 92, dtype: int64"
   ]
  },
  {
   "cell_type": "markdown",
   "id": "de6f9f80",
   "metadata": {},
   "source": [
    "nombre_infected        87\n",
    "nombre_sain          2544\n",
    "nombre_exposed         49\n",
    "nombre_recovered    17320\n",
    "Name: 93, dtype: int64"
   ]
  },
  {
   "cell_type": "markdown",
   "id": "aa6b5c5f",
   "metadata": {},
   "source": [
    "nombre_infected        93\n",
    "nombre_sain          2572\n",
    "nombre_exposed         53\n",
    "nombre_recovered    17282\n",
    "Name: 94, dtype: int64"
   ]
  },
  {
   "cell_type": "markdown",
   "id": "7c34b392",
   "metadata": {},
   "source": [
    "nombre_infected       102\n",
    "nombre_sain          2593\n",
    "nombre_exposed         61\n",
    "nombre_recovered    17244\n",
    "Name: 95, dtype: int64"
   ]
  },
  {
   "cell_type": "markdown",
   "id": "00ee51ba",
   "metadata": {},
   "source": [
    "nombre_infected       109\n",
    "nombre_sain          2623\n",
    "nombre_exposed         62\n",
    "nombre_recovered    17206\n",
    "Name: 96, dtype: int64"
   ]
  },
  {
   "cell_type": "markdown",
   "id": "652b0795",
   "metadata": {},
   "source": [
    "nombre_infected       112\n",
    "nombre_sain          2652\n",
    "nombre_exposed         65\n",
    "nombre_recovered    17171\n",
    "Name: 97, dtype: int64"
   ]
  },
  {
   "cell_type": "markdown",
   "id": "82a28aa1",
   "metadata": {},
   "source": [
    "nombre_infected       115\n",
    "nombre_sain          2688\n",
    "nombre_exposed         66\n",
    "nombre_recovered    17131\n",
    "Name: 98, dtype: int64"
   ]
  },
  {
   "cell_type": "markdown",
   "id": "a67adf05",
   "metadata": {},
   "source": [
    "nombre_infected       117\n",
    "nombre_sain          2724\n",
    "nombre_exposed         69\n",
    "nombre_recovered    17090\n",
    "Name: 99, dtype: int64"
   ]
  },
  {
   "cell_type": "markdown",
   "id": "05065997",
   "metadata": {},
   "source": [
    "nombre_infected       114\n",
    "nombre_sain          2742\n",
    "nombre_exposed         82\n",
    "nombre_recovered    17062\n",
    "Name: 100, dtype: int64"
   ]
  },
  {
   "cell_type": "markdown",
   "id": "9083a069",
   "metadata": {},
   "source": [
    "nombre_infected       114\n",
    "nombre_sain          2772\n",
    "nombre_exposed         96\n",
    "nombre_recovered    17018\n",
    "Name: 101, dtype: int64"
   ]
  },
  {
   "cell_type": "markdown",
   "id": "dd70bc53",
   "metadata": {},
   "source": [
    "nombre_infected       126\n",
    "nombre_sain          2806\n",
    "nombre_exposed         92\n",
    "nombre_recovered    16976\n",
    "Name: 102, dtype: int64"
   ]
  },
  {
   "cell_type": "markdown",
   "id": "b7a5584d",
   "metadata": {},
   "source": [
    "nombre_infected       138\n",
    "nombre_sain          2836\n",
    "nombre_exposed         84\n",
    "nombre_recovered    16942\n",
    "Name: 103, dtype: int64"
   ]
  },
  {
   "cell_type": "markdown",
   "id": "130f8e9d",
   "metadata": {},
   "source": [
    "nombre_infected       159\n",
    "nombre_sain          2858\n",
    "nombre_exposed         85\n",
    "nombre_recovered    16898\n",
    "Name: 104, dtype: int64"
   ]
  },
  {
   "cell_type": "markdown",
   "id": "0a2a8af1",
   "metadata": {},
   "source": [
    "nombre_infected       150\n",
    "nombre_sain          2894\n",
    "nombre_exposed        104\n",
    "nombre_recovered    16852\n",
    "Name: 105, dtype: int64"
   ]
  },
  {
   "cell_type": "markdown",
   "id": "6a173e07",
   "metadata": {},
   "source": [
    "nombre_infected       148\n",
    "nombre_sain          2920\n",
    "nombre_exposed        124\n",
    "nombre_recovered    16808\n",
    "Name: 106, dtype: int64"
   ]
  },
  {
   "cell_type": "markdown",
   "id": "40ba2a6e",
   "metadata": {},
   "source": [
    "nombre_infected       155\n",
    "nombre_sain          2952\n",
    "nombre_exposed        111\n",
    "nombre_recovered    16782\n",
    "Name: 107, dtype: int64"
   ]
  },
  {
   "cell_type": "markdown",
   "id": "7ea64f1d",
   "metadata": {},
   "source": [
    "nombre_infected       160\n",
    "nombre_sain          2973\n",
    "nombre_exposed        124\n",
    "nombre_recovered    16743\n",
    "Name: 108, dtype: int64"
   ]
  },
  {
   "cell_type": "markdown",
   "id": "10ae1bff",
   "metadata": {},
   "source": [
    "nombre_infected       172\n",
    "nombre_sain          2999\n",
    "nombre_exposed        125\n",
    "nombre_recovered    16704\n",
    "Name: 109, dtype: int64"
   ]
  },
  {
   "cell_type": "markdown",
   "id": "f01a4fa3",
   "metadata": {},
   "source": [
    "nombre_infected       178\n",
    "nombre_sain          2995\n",
    "nombre_exposed        145\n",
    "nombre_recovered    16682\n",
    "Name: 110, dtype: int64"
   ]
  },
  {
   "cell_type": "markdown",
   "id": "0470867a",
   "metadata": {},
   "source": [
    "nombre_infected       189\n",
    "nombre_sain          3002\n",
    "nombre_exposed        146\n",
    "nombre_recovered    16663\n",
    "Name: 111, dtype: int64"
   ]
  },
  {
   "cell_type": "markdown",
   "id": "40a6b3b5",
   "metadata": {},
   "source": [
    "nombre_infected       201\n",
    "nombre_sain          2991\n",
    "nombre_exposed        157\n",
    "nombre_recovered    16651\n",
    "Name: 112, dtype: int64"
   ]
  },
  {
   "cell_type": "markdown",
   "id": "d5c27347",
   "metadata": {},
   "source": [
    "nombre_infected       204\n",
    "nombre_sain          3018\n",
    "nombre_exposed        160\n",
    "nombre_recovered    16618\n",
    "Name: 113, dtype: int64"
   ]
  },
  {
   "cell_type": "markdown",
   "id": "5efde025",
   "metadata": {},
   "source": [
    "nombre_infected       220\n",
    "nombre_sain          3019\n",
    "nombre_exposed        165\n",
    "nombre_recovered    16596\n",
    "Name: 114, dtype: int64"
   ]
  },
  {
   "cell_type": "markdown",
   "id": "4143e78d",
   "metadata": {},
   "source": [
    "nombre_infected       230\n",
    "nombre_sain          3019\n",
    "nombre_exposed        166\n",
    "nombre_recovered    16585\n",
    "Name: 115, dtype: int64"
   ]
  },
  {
   "cell_type": "markdown",
   "id": "1c50c907",
   "metadata": {},
   "source": [
    "nombre_infected       238\n",
    "nombre_sain          2997\n",
    "nombre_exposed        185\n",
    "nombre_recovered    16580\n",
    "Name: 116, dtype: int64"
   ]
  },
  {
   "cell_type": "markdown",
   "id": "129cd44c",
   "metadata": {},
   "source": [
    "nombre_infected       239\n",
    "nombre_sain          2984\n",
    "nombre_exposed        208\n",
    "nombre_recovered    16569\n",
    "Name: 117, dtype: int64"
   ]
  },
  {
   "cell_type": "markdown",
   "id": "c7e4128a",
   "metadata": {},
   "source": [
    "nombre_infected       253\n",
    "nombre_sain          2970\n",
    "nombre_exposed        221\n",
    "nombre_recovered    16556\n",
    "Name: 118, dtype: int64"
   ]
  },
  {
   "cell_type": "markdown",
   "id": "e3e51850",
   "metadata": {},
   "source": [
    "nombre_infected       260\n",
    "nombre_sain          2961\n",
    "nombre_exposed        232\n",
    "nombre_recovered    16547\n",
    "Name: 119, dtype: int64"
   ]
  },
  {
   "cell_type": "markdown",
   "id": "c63f0e0c",
   "metadata": {},
   "source": [
    "nombre_infected       289\n",
    "nombre_sain          2962\n",
    "nombre_exposed        215\n",
    "nombre_recovered    16534\n",
    "Name: 120, dtype: int64"
   ]
  },
  {
   "cell_type": "markdown",
   "id": "650dcba5",
   "metadata": {},
   "source": [
    "nombre_infected       301\n",
    "nombre_sain          2956\n",
    "nombre_exposed        232\n",
    "nombre_recovered    16511\n",
    "Name: 121, dtype: int64"
   ]
  },
  {
   "cell_type": "markdown",
   "id": "eddce2a9",
   "metadata": {},
   "source": [
    "nombre_infected       320\n",
    "nombre_sain          2934\n",
    "nombre_exposed        237\n",
    "nombre_recovered    16509\n",
    "Name: 122, dtype: int64"
   ]
  },
  {
   "cell_type": "markdown",
   "id": "f96fa1a1",
   "metadata": {},
   "source": [
    "nombre_infected       328\n",
    "nombre_sain          2938\n",
    "nombre_exposed        242\n",
    "nombre_recovered    16492\n",
    "Name: 123, dtype: int64"
   ]
  },
  {
   "cell_type": "markdown",
   "id": "dfcea381",
   "metadata": {},
   "source": [
    "nombre_infected       352\n",
    "nombre_sain          2933\n",
    "nombre_exposed        237\n",
    "nombre_recovered    16478\n",
    "Name: 124, dtype: int64"
   ]
  },
  {
   "cell_type": "markdown",
   "id": "f6c509bc",
   "metadata": {},
   "source": [
    "nombre_infected       361\n",
    "nombre_sain          2923\n",
    "nombre_exposed        240\n",
    "nombre_recovered    16476\n",
    "Name: 125, dtype: int64"
   ]
  },
  {
   "cell_type": "markdown",
   "id": "44bb7db2",
   "metadata": {},
   "source": [
    "nombre_infected       376\n",
    "nombre_sain          2913\n",
    "nombre_exposed        241\n",
    "nombre_recovered    16470\n",
    "Name: 126, dtype: int64"
   ]
  },
  {
   "cell_type": "markdown",
   "id": "12e925da",
   "metadata": {},
   "source": [
    "nombre_infected       373\n",
    "nombre_sain          2910\n",
    "nombre_exposed        254\n",
    "nombre_recovered    16463\n",
    "Name: 127, dtype: int64"
   ]
  },
  {
   "cell_type": "markdown",
   "id": "e87558c4",
   "metadata": {},
   "source": [
    "nombre_infected       381\n",
    "nombre_sain          2888\n",
    "nombre_exposed        293\n",
    "nombre_recovered    16438\n",
    "Name: 128, dtype: int64"
   ]
  },
  {
   "cell_type": "markdown",
   "id": "6d2db793",
   "metadata": {},
   "source": [
    "nombre_infected       401\n",
    "nombre_sain          2845\n",
    "nombre_exposed        306\n",
    "nombre_recovered    16448\n",
    "Name: 129, dtype: int64"
   ]
  },
  {
   "cell_type": "markdown",
   "id": "b707758e",
   "metadata": {},
   "source": [
    "nombre_infected       431\n",
    "nombre_sain          2827\n",
    "nombre_exposed        313\n",
    "nombre_recovered    16429\n",
    "Name: 130, dtype: int64"
   ]
  },
  {
   "cell_type": "markdown",
   "id": "712973f7",
   "metadata": {},
   "source": [
    "nombre_infected       449\n",
    "nombre_sain          2805\n",
    "nombre_exposed        325\n",
    "nombre_recovered    16421\n",
    "Name: 131, dtype: int64"
   ]
  },
  {
   "cell_type": "markdown",
   "id": "160b4058",
   "metadata": {},
   "source": [
    "nombre_infected       479\n",
    "nombre_sain          2779\n",
    "nombre_exposed        339\n",
    "nombre_recovered    16403\n",
    "Name: 132, dtype: int64"
   ]
  },
  {
   "cell_type": "markdown",
   "id": "3cab7402",
   "metadata": {},
   "source": [
    "nombre_infected       492\n",
    "nombre_sain          2761\n",
    "nombre_exposed        343\n",
    "nombre_recovered    16404\n",
    "Name: 133, dtype: int64"
   ]
  },
  {
   "cell_type": "markdown",
   "id": "24c0f225",
   "metadata": {},
   "source": [
    "nombre_infected       505\n",
    "nombre_sain          2719\n",
    "nombre_exposed        368\n",
    "nombre_recovered    16408\n",
    "Name: 134, dtype: int64"
   ]
  },
  {
   "cell_type": "markdown",
   "id": "243645ae",
   "metadata": {},
   "source": [
    "nombre_infected       506\n",
    "nombre_sain          2662\n",
    "nombre_exposed        397\n",
    "nombre_recovered    16435\n",
    "Name: 135, dtype: int64"
   ]
  },
  {
   "cell_type": "markdown",
   "id": "41b3009f",
   "metadata": {},
   "source": [
    "nombre_infected       509\n",
    "nombre_sain          2628\n",
    "nombre_exposed        418\n",
    "nombre_recovered    16445\n",
    "Name: 136, dtype: int64"
   ]
  },
  {
   "cell_type": "markdown",
   "id": "523ff0c9",
   "metadata": {},
   "source": [
    "nombre_infected       533\n",
    "nombre_sain          2592\n",
    "nombre_exposed        423\n",
    "nombre_recovered    16452\n",
    "Name: 137, dtype: int64"
   ]
  },
  {
   "cell_type": "markdown",
   "id": "8a423197",
   "metadata": {},
   "source": [
    "nombre_infected       555\n",
    "nombre_sain          2581\n",
    "nombre_exposed        399\n",
    "nombre_recovered    16465\n",
    "Name: 138, dtype: int64"
   ]
  },
  {
   "cell_type": "markdown",
   "id": "48e4ee51",
   "metadata": {},
   "source": [
    "nombre_infected       570\n",
    "nombre_sain          2533\n",
    "nombre_exposed        420\n",
    "nombre_recovered    16477\n",
    "Name: 139, dtype: int64"
   ]
  },
  {
   "cell_type": "markdown",
   "id": "51fda95f",
   "metadata": {},
   "source": [
    "nombre_infected       600\n",
    "nombre_sain          2491\n",
    "nombre_exposed        418\n",
    "nombre_recovered    16491\n",
    "Name: 140, dtype: int64"
   ]
  },
  {
   "cell_type": "markdown",
   "id": "80ffdbcd",
   "metadata": {},
   "source": [
    "nombre_infected       624\n",
    "nombre_sain          2453\n",
    "nombre_exposed        409\n",
    "nombre_recovered    16514\n",
    "Name: 141, dtype: int64"
   ]
  },
  {
   "cell_type": "markdown",
   "id": "c1d2efba",
   "metadata": {},
   "source": [
    "nombre_infected       649\n",
    "nombre_sain          2424\n",
    "nombre_exposed        393\n",
    "nombre_recovered    16534\n",
    "Name: 142, dtype: int64"
   ]
  },
  {
   "cell_type": "markdown",
   "id": "c1cf667f",
   "metadata": {},
   "source": [
    "nombre_infected       663\n",
    "nombre_sain          2398\n",
    "nombre_exposed        386\n",
    "nombre_recovered    16553\n",
    "Name: 143, dtype: int64"
   ]
  },
  {
   "cell_type": "markdown",
   "id": "5c2c6362",
   "metadata": {},
   "source": [
    "nombre_infected       643\n",
    "nombre_sain          2383\n",
    "nombre_exposed        381\n",
    "nombre_recovered    16593\n",
    "Name: 144, dtype: int64"
   ]
  },
  {
   "cell_type": "markdown",
   "id": "568d3ede",
   "metadata": {},
   "source": [
    "nombre_infected       633\n",
    "nombre_sain          2362\n",
    "nombre_exposed        389\n",
    "nombre_recovered    16616\n",
    "Name: 145, dtype: int64"
   ]
  },
  {
   "cell_type": "markdown",
   "id": "5d7d3780",
   "metadata": {},
   "source": [
    "nombre_infected       654\n",
    "nombre_sain          2333\n",
    "nombre_exposed        385\n",
    "nombre_recovered    16628\n",
    "Name: 146, dtype: int64"
   ]
  },
  {
   "cell_type": "markdown",
   "id": "3ca37672",
   "metadata": {},
   "source": [
    "nombre_infected       672\n",
    "nombre_sain          2306\n",
    "nombre_exposed        386\n",
    "nombre_recovered    16636\n",
    "Name: 147, dtype: int64"
   ]
  },
  {
   "cell_type": "markdown",
   "id": "631fd6d9",
   "metadata": {},
   "source": [
    "nombre_infected       670\n",
    "nombre_sain          2280\n",
    "nombre_exposed        404\n",
    "nombre_recovered    16646\n",
    "Name: 148, dtype: int64"
   ]
  },
  {
   "cell_type": "markdown",
   "id": "6f46ebf8",
   "metadata": {},
   "source": [
    "nombre_infected       663\n",
    "nombre_sain          2276\n",
    "nombre_exposed        404\n",
    "nombre_recovered    16657\n",
    "Name: 149, dtype: int64"
   ]
  },
  {
   "cell_type": "markdown",
   "id": "da2d1c02",
   "metadata": {},
   "source": [
    "nombre_infected       666\n",
    "nombre_sain          2258\n",
    "nombre_exposed        408\n",
    "nombre_recovered    16668\n",
    "Name: 150, dtype: int64"
   ]
  },
  {
   "cell_type": "markdown",
   "id": "8ca1f987",
   "metadata": {},
   "source": [
    "nombre_infected       654\n",
    "nombre_sain          2252\n",
    "nombre_exposed        417\n",
    "nombre_recovered    16677\n",
    "Name: 151, dtype: int64"
   ]
  },
  {
   "cell_type": "markdown",
   "id": "41782186",
   "metadata": {},
   "source": [
    "nombre_infected       654\n",
    "nombre_sain          2234\n",
    "nombre_exposed        436\n",
    "nombre_recovered    16676\n",
    "Name: 152, dtype: int64"
   ]
  },
  {
   "cell_type": "markdown",
   "id": "613bd22a",
   "metadata": {},
   "source": [
    "nombre_infected       660\n",
    "nombre_sain          2240\n",
    "nombre_exposed        422\n",
    "nombre_recovered    16678\n",
    "Name: 153, dtype: int64"
   ]
  },
  {
   "cell_type": "markdown",
   "id": "dd27f30c",
   "metadata": {},
   "source": [
    "nombre_infected       682\n",
    "nombre_sain          2234\n",
    "nombre_exposed        427\n",
    "nombre_recovered    16657\n",
    "Name: 154, dtype: int64"
   ]
  },
  {
   "cell_type": "markdown",
   "id": "f84f177a",
   "metadata": {},
   "source": [
    "nombre_infected       696\n",
    "nombre_sain          2205\n",
    "nombre_exposed        446\n",
    "nombre_recovered    16653\n",
    "Name: 155, dtype: int64"
   ]
  },
  {
   "cell_type": "markdown",
   "id": "89aacac0",
   "metadata": {},
   "source": [
    "nombre_infected       721\n",
    "nombre_sain          2195\n",
    "nombre_exposed        433\n",
    "nombre_recovered    16651\n",
    "Name: 156, dtype: int64"
   ]
  },
  {
   "cell_type": "markdown",
   "id": "596c3195",
   "metadata": {},
   "source": [
    "nombre_infected       739\n",
    "nombre_sain          2199\n",
    "nombre_exposed        417\n",
    "nombre_recovered    16645\n",
    "Name: 157, dtype: int64"
   ]
  },
  {
   "cell_type": "markdown",
   "id": "358cf05c",
   "metadata": {},
   "source": [
    "nombre_infected       734\n",
    "nombre_sain          2199\n",
    "nombre_exposed        401\n",
    "nombre_recovered    16666\n",
    "Name: 158, dtype: int64"
   ]
  },
  {
   "cell_type": "markdown",
   "id": "c3e680b8",
   "metadata": {},
   "source": [
    "nombre_infected       717\n",
    "nombre_sain          2171\n",
    "nombre_exposed        416\n",
    "nombre_recovered    16696\n",
    "Name: 159, dtype: int64"
   ]
  },
  {
   "cell_type": "markdown",
   "id": "233d8d98",
   "metadata": {},
   "source": [
    "nombre_infected       700\n",
    "nombre_sain          2140\n",
    "nombre_exposed        423\n",
    "nombre_recovered    16737\n",
    "Name: 160, dtype: int64"
   ]
  },
  {
   "cell_type": "markdown",
   "id": "68a28ee8",
   "metadata": {},
   "source": [
    "nombre_infected       701\n",
    "nombre_sain          2122\n",
    "nombre_exposed        415\n",
    "nombre_recovered    16762\n",
    "Name: 161, dtype: int64"
   ]
  },
  {
   "cell_type": "markdown",
   "id": "e1b9db3a",
   "metadata": {},
   "source": [
    "nombre_infected       724\n",
    "nombre_sain          2112\n",
    "nombre_exposed        400\n",
    "nombre_recovered    16764\n",
    "Name: 162, dtype: int64"
   ]
  },
  {
   "cell_type": "markdown",
   "id": "af65fe78",
   "metadata": {},
   "source": [
    "nombre_infected       728\n",
    "nombre_sain          2087\n",
    "nombre_exposed        418\n",
    "nombre_recovered    16767\n",
    "Name: 163, dtype: int64"
   ]
  },
  {
   "cell_type": "markdown",
   "id": "16230db3",
   "metadata": {},
   "source": [
    "nombre_infected       734\n",
    "nombre_sain          2076\n",
    "nombre_exposed        402\n",
    "nombre_recovered    16788\n",
    "Name: 164, dtype: int64"
   ]
  },
  {
   "cell_type": "markdown",
   "id": "9fca3c6f",
   "metadata": {},
   "source": [
    "nombre_infected       714\n",
    "nombre_sain          2055\n",
    "nombre_exposed        423\n",
    "nombre_recovered    16808\n",
    "Name: 165, dtype: int64"
   ]
  },
  {
   "cell_type": "markdown",
   "id": "1119b952",
   "metadata": {},
   "source": [
    "nombre_infected       703\n",
    "nombre_sain          2014\n",
    "nombre_exposed        430\n",
    "nombre_recovered    16853\n",
    "Name: 166, dtype: int64"
   ]
  },
  {
   "cell_type": "markdown",
   "id": "e8b54e51",
   "metadata": {},
   "source": [
    "nombre_infected       719\n",
    "nombre_sain          2015\n",
    "nombre_exposed        414\n",
    "nombre_recovered    16852\n",
    "Name: 167, dtype: int64"
   ]
  },
  {
   "cell_type": "markdown",
   "id": "8041e43f",
   "metadata": {},
   "source": [
    "nombre_infected       719\n",
    "nombre_sain          2006\n",
    "nombre_exposed        423\n",
    "nombre_recovered    16852\n",
    "Name: 168, dtype: int64"
   ]
  },
  {
   "cell_type": "markdown",
   "id": "3a38df2f",
   "metadata": {},
   "source": [
    "nombre_infected       706\n",
    "nombre_sain          2004\n",
    "nombre_exposed        448\n",
    "nombre_recovered    16842\n",
    "Name: 169, dtype: int64"
   ]
  },
  {
   "cell_type": "markdown",
   "id": "23bd8b4f",
   "metadata": {},
   "source": [
    "nombre_infected       722\n",
    "nombre_sain          2012\n",
    "nombre_exposed        443\n",
    "nombre_recovered    16823\n",
    "Name: 170, dtype: int64"
   ]
  },
  {
   "cell_type": "markdown",
   "id": "4ca3dcb5",
   "metadata": {},
   "source": [
    "nombre_infected       733\n",
    "nombre_sain          2001\n",
    "nombre_exposed        446\n",
    "nombre_recovered    16820\n",
    "Name: 171, dtype: int64"
   ]
  },
  {
   "cell_type": "markdown",
   "id": "50fca0dc",
   "metadata": {},
   "source": [
    "nombre_infected       741\n",
    "nombre_sain          2002\n",
    "nombre_exposed        450\n",
    "nombre_recovered    16807\n",
    "Name: 172, dtype: int64"
   ]
  },
  {
   "cell_type": "markdown",
   "id": "89c0931d",
   "metadata": {},
   "source": [
    "nombre_infected       751\n",
    "nombre_sain          1989\n",
    "nombre_exposed        444\n",
    "nombre_recovered    16816\n",
    "Name: 173, dtype: int64"
   ]
  },
  {
   "cell_type": "markdown",
   "id": "dc94e35e",
   "metadata": {},
   "source": [
    "nombre_infected       763\n",
    "nombre_sain          1989\n",
    "nombre_exposed        440\n",
    "nombre_recovered    16808\n",
    "Name: 174, dtype: int64"
   ]
  },
  {
   "cell_type": "markdown",
   "id": "95dc19f4",
   "metadata": {},
   "source": [
    "nombre_infected       751\n",
    "nombre_sain          1977\n",
    "nombre_exposed        452\n",
    "nombre_recovered    16820\n",
    "Name: 175, dtype: int64"
   ]
  },
  {
   "cell_type": "markdown",
   "id": "faa0d900",
   "metadata": {},
   "source": [
    "nombre_infected       748\n",
    "nombre_sain          1964\n",
    "nombre_exposed        460\n",
    "nombre_recovered    16828\n",
    "Name: 176, dtype: int64"
   ]
  },
  {
   "cell_type": "markdown",
   "id": "a45cbf47",
   "metadata": {},
   "source": [
    "nombre_infected       748\n",
    "nombre_sain          1948\n",
    "nombre_exposed        460\n",
    "nombre_recovered    16844\n",
    "Name: 177, dtype: int64"
   ]
  },
  {
   "cell_type": "markdown",
   "id": "7907b271",
   "metadata": {},
   "source": [
    "nombre_infected       785\n",
    "nombre_sain          1913\n",
    "nombre_exposed        449\n",
    "nombre_recovered    16853\n",
    "Name: 178, dtype: int64"
   ]
  },
  {
   "cell_type": "markdown",
   "id": "20b4ef9a",
   "metadata": {},
   "source": [
    "nombre_infected       789\n",
    "nombre_sain          1923\n",
    "nombre_exposed        425\n",
    "nombre_recovered    16863\n",
    "Name: 179, dtype: int64"
   ]
  },
  {
   "cell_type": "markdown",
   "id": "88344b68",
   "metadata": {},
   "source": [
    "nombre_infected       792\n",
    "nombre_sain          1919\n",
    "nombre_exposed        413\n",
    "nombre_recovered    16876\n",
    "Name: 180, dtype: int64"
   ]
  },
  {
   "cell_type": "markdown",
   "id": "3740fda3",
   "metadata": {},
   "source": [
    "nombre_infected       777\n",
    "nombre_sain          1920\n",
    "nombre_exposed        401\n",
    "nombre_recovered    16902\n",
    "Name: 181, dtype: int64"
   ]
  },
  {
   "cell_type": "markdown",
   "id": "400e6402",
   "metadata": {},
   "source": [
    "nombre_infected       782\n",
    "nombre_sain          1903\n",
    "nombre_exposed        401\n",
    "nombre_recovered    16914\n",
    "Name: 182, dtype: int64"
   ]
  },
  {
   "cell_type": "markdown",
   "id": "d9287920",
   "metadata": {},
   "source": [
    "nombre_infected       751\n",
    "nombre_sain          1911\n",
    "nombre_exposed        400\n",
    "nombre_recovered    16938\n",
    "Name: 183, dtype: int64"
   ]
  },
  {
   "cell_type": "markdown",
   "id": "3fc9f1b0",
   "metadata": {},
   "source": [
    "nombre_infected       762\n",
    "nombre_sain          1907\n",
    "nombre_exposed        393\n",
    "nombre_recovered    16938\n",
    "Name: 184, dtype: int64"
   ]
  },
  {
   "cell_type": "markdown",
   "id": "45c9e0d9",
   "metadata": {},
   "source": [
    "nombre_infected       764\n",
    "nombre_sain          1910\n",
    "nombre_exposed        399\n",
    "nombre_recovered    16927\n",
    "Name: 185, dtype: int64"
   ]
  },
  {
   "cell_type": "markdown",
   "id": "415ec58b",
   "metadata": {},
   "source": [
    "nombre_infected       751\n",
    "nombre_sain          1920\n",
    "nombre_exposed        398\n",
    "nombre_recovered    16931\n",
    "Name: 186, dtype: int64"
   ]
  },
  {
   "cell_type": "markdown",
   "id": "857f053f",
   "metadata": {},
   "source": [
    "nombre_infected       728\n",
    "nombre_sain          1921\n",
    "nombre_exposed        401\n",
    "nombre_recovered    16950\n",
    "Name: 187, dtype: int64"
   ]
  },
  {
   "cell_type": "markdown",
   "id": "2d7de072",
   "metadata": {},
   "source": [
    "nombre_infected       724\n",
    "nombre_sain          1943\n",
    "nombre_exposed        387\n",
    "nombre_recovered    16946\n",
    "Name: 188, dtype: int64"
   ]
  },
  {
   "cell_type": "markdown",
   "id": "85367943",
   "metadata": {},
   "source": [
    "nombre_infected       728\n",
    "nombre_sain          1955\n",
    "nombre_exposed        384\n",
    "nombre_recovered    16933\n",
    "Name: 189, dtype: int64"
   ]
  },
  {
   "cell_type": "markdown",
   "id": "2805ad57",
   "metadata": {},
   "source": [
    "nombre_infected       744\n",
    "nombre_sain          1977\n",
    "nombre_exposed        359\n",
    "nombre_recovered    16920\n",
    "Name: 190, dtype: int64"
   ]
  },
  {
   "cell_type": "markdown",
   "id": "d88ea505",
   "metadata": {},
   "source": [
    "nombre_infected       751\n",
    "nombre_sain          2011\n",
    "nombre_exposed        358\n",
    "nombre_recovered    16880\n",
    "Name: 191, dtype: int64"
   ]
  },
  {
   "cell_type": "markdown",
   "id": "14ad1e2d",
   "metadata": {},
   "source": [
    "nombre_infected       747\n",
    "nombre_sain          2049\n",
    "nombre_exposed        361\n",
    "nombre_recovered    16843\n",
    "Name: 192, dtype: int64"
   ]
  },
  {
   "cell_type": "markdown",
   "id": "ef82484e",
   "metadata": {},
   "source": [
    "nombre_infected       730\n",
    "nombre_sain          2071\n",
    "nombre_exposed        375\n",
    "nombre_recovered    16824\n",
    "Name: 193, dtype: int64"
   ]
  },
  {
   "cell_type": "markdown",
   "id": "2310502b",
   "metadata": {},
   "source": [
    "nombre_infected       713\n",
    "nombre_sain          2085\n",
    "nombre_exposed        383\n",
    "nombre_recovered    16819\n",
    "Name: 194, dtype: int64"
   ]
  },
  {
   "cell_type": "markdown",
   "id": "5384440d",
   "metadata": {},
   "source": [
    "nombre_infected       712\n",
    "nombre_sain          2114\n",
    "nombre_exposed        387\n",
    "nombre_recovered    16787\n",
    "Name: 195, dtype: int64"
   ]
  },
  {
   "cell_type": "markdown",
   "id": "d5e037da",
   "metadata": {},
   "source": [
    "nombre_infected       718\n",
    "nombre_sain          2129\n",
    "nombre_exposed        386\n",
    "nombre_recovered    16767\n",
    "Name: 196, dtype: int64"
   ]
  },
  {
   "cell_type": "markdown",
   "id": "7ecda238",
   "metadata": {},
   "source": [
    "nombre_infected       731\n",
    "nombre_sain          2161\n",
    "nombre_exposed        379\n",
    "nombre_recovered    16729\n",
    "Name: 197, dtype: int64"
   ]
  },
  {
   "cell_type": "markdown",
   "id": "ba344051",
   "metadata": {},
   "source": [
    "nombre_infected       734\n",
    "nombre_sain          2179\n",
    "nombre_exposed        383\n",
    "nombre_recovered    16704\n",
    "Name: 198, dtype: int64"
   ]
  },
  {
   "cell_type": "markdown",
   "id": "a944bbb8",
   "metadata": {},
   "source": [
    "nombre_infected       731\n",
    "nombre_sain          2195\n",
    "nombre_exposed        378\n",
    "nombre_recovered    16696\n",
    "Name: 199, dtype: int64"
   ]
  },
  {
   "cell_type": "markdown",
   "id": "b6421e36",
   "metadata": {},
   "source": [
    "nombre_infected       715\n",
    "nombre_sain          2221\n",
    "nombre_exposed        382\n",
    "nombre_recovered    16682\n",
    "Name: 200, dtype: int64"
   ]
  },
  {
   "cell_type": "markdown",
   "id": "02fa1cb0",
   "metadata": {},
   "source": [
    "nombre_infected       715\n",
    "nombre_sain          2222\n",
    "nombre_exposed        399\n",
    "nombre_recovered    16664\n",
    "Name: 201, dtype: int64"
   ]
  },
  {
   "cell_type": "markdown",
   "id": "32bf97f6",
   "metadata": {},
   "source": [
    "nombre_infected       713\n",
    "nombre_sain          2223\n",
    "nombre_exposed        405\n",
    "nombre_recovered    16659\n",
    "Name: 202, dtype: int64"
   ]
  },
  {
   "cell_type": "markdown",
   "id": "26bf3507",
   "metadata": {},
   "source": [
    "nombre_infected       736\n",
    "nombre_sain          2229\n",
    "nombre_exposed        414\n",
    "nombre_recovered    16621\n",
    "Name: 203, dtype: int64"
   ]
  },
  {
   "cell_type": "markdown",
   "id": "b115e89b",
   "metadata": {},
   "source": [
    "nombre_infected       739\n",
    "nombre_sain          2232\n",
    "nombre_exposed        433\n",
    "nombre_recovered    16596\n",
    "Name: 204, dtype: int64"
   ]
  },
  {
   "cell_type": "markdown",
   "id": "ebaae81e",
   "metadata": {},
   "source": [
    "nombre_infected       737\n",
    "nombre_sain          2244\n",
    "nombre_exposed        443\n",
    "nombre_recovered    16576\n",
    "Name: 205, dtype: int64"
   ]
  },
  {
   "cell_type": "markdown",
   "id": "b8397b14",
   "metadata": {},
   "source": [
    "nombre_infected       736\n",
    "nombre_sain          2252\n",
    "nombre_exposed        447\n",
    "nombre_recovered    16565\n",
    "Name: 206, dtype: int64"
   ]
  },
  {
   "cell_type": "markdown",
   "id": "531ae750",
   "metadata": {},
   "source": [
    "nombre_infected       747\n",
    "nombre_sain          2252\n",
    "nombre_exposed        450\n",
    "nombre_recovered    16551\n",
    "Name: 207, dtype: int64"
   ]
  },
  {
   "cell_type": "markdown",
   "id": "18648f53",
   "metadata": {},
   "source": [
    "nombre_infected       762\n",
    "nombre_sain          2259\n",
    "nombre_exposed        467\n",
    "nombre_recovered    16512\n",
    "Name: 208, dtype: int64"
   ]
  },
  {
   "cell_type": "markdown",
   "id": "9a71b25e",
   "metadata": {},
   "source": [
    "nombre_infected       800\n",
    "nombre_sain          2260\n",
    "nombre_exposed        453\n",
    "nombre_recovered    16487\n",
    "Name: 209, dtype: int64"
   ]
  },
  {
   "cell_type": "markdown",
   "id": "cb274667",
   "metadata": {},
   "source": [
    "nombre_infected       797\n",
    "nombre_sain          2259\n",
    "nombre_exposed        460\n",
    "nombre_recovered    16484\n",
    "Name: 210, dtype: int64"
   ]
  },
  {
   "cell_type": "markdown",
   "id": "e6ebf092",
   "metadata": {},
   "source": [
    "nombre_infected       807\n",
    "nombre_sain          2224\n",
    "nombre_exposed        486\n",
    "nombre_recovered    16483\n",
    "Name: 211, dtype: int64"
   ]
  },
  {
   "cell_type": "markdown",
   "id": "eee1ff90",
   "metadata": {},
   "source": [
    "nombre_infected       801\n",
    "nombre_sain          2199\n",
    "nombre_exposed        502\n",
    "nombre_recovered    16498\n",
    "Name: 212, dtype: int64"
   ]
  },
  {
   "cell_type": "markdown",
   "id": "619bc602",
   "metadata": {},
   "source": [
    "nombre_infected       817\n",
    "nombre_sain          2186\n",
    "nombre_exposed        501\n",
    "nombre_recovered    16496\n",
    "Name: 213, dtype: int64"
   ]
  },
  {
   "cell_type": "markdown",
   "id": "9eed46f7",
   "metadata": {},
   "source": [
    "nombre_infected       823\n",
    "nombre_sain          2185\n",
    "nombre_exposed        500\n",
    "nombre_recovered    16492\n",
    "Name: 214, dtype: int64"
   ]
  },
  {
   "cell_type": "markdown",
   "id": "f60f28ed",
   "metadata": {},
   "source": [
    "nombre_infected       820\n",
    "nombre_sain          2191\n",
    "nombre_exposed        510\n",
    "nombre_recovered    16479\n",
    "Name: 215, dtype: int64"
   ]
  },
  {
   "cell_type": "markdown",
   "id": "b558532f",
   "metadata": {},
   "source": [
    "nombre_infected       838\n",
    "nombre_sain          2156\n",
    "nombre_exposed        514\n",
    "nombre_recovered    16492\n",
    "Name: 216, dtype: int64"
   ]
  },
  {
   "cell_type": "markdown",
   "id": "6ca11080",
   "metadata": {},
   "source": [
    "nombre_infected       853\n",
    "nombre_sain          2122\n",
    "nombre_exposed        521\n",
    "nombre_recovered    16504\n",
    "Name: 217, dtype: int64"
   ]
  },
  {
   "cell_type": "markdown",
   "id": "8da14f81",
   "metadata": {},
   "source": [
    "nombre_infected       851\n",
    "nombre_sain          2104\n",
    "nombre_exposed        527\n",
    "nombre_recovered    16518\n",
    "Name: 218, dtype: int64"
   ]
  },
  {
   "cell_type": "markdown",
   "id": "c5b4e699",
   "metadata": {},
   "source": [
    "nombre_infected       876\n",
    "nombre_sain          2100\n",
    "nombre_exposed        507\n",
    "nombre_recovered    16517\n",
    "Name: 219, dtype: int64"
   ]
  },
  {
   "cell_type": "markdown",
   "id": "f75745f5",
   "metadata": {},
   "source": [
    "nombre_infected       856\n",
    "nombre_sain          2089\n",
    "nombre_exposed        510\n",
    "nombre_recovered    16545\n",
    "Name: 220, dtype: int64"
   ]
  },
  {
   "cell_type": "markdown",
   "id": "e4a38d7b",
   "metadata": {},
   "source": [
    "nombre_infected       858\n",
    "nombre_sain          2077\n",
    "nombre_exposed        515\n",
    "nombre_recovered    16550\n",
    "Name: 221, dtype: int64"
   ]
  },
  {
   "cell_type": "markdown",
   "id": "c88adab1",
   "metadata": {},
   "source": [
    "nombre_infected       851\n",
    "nombre_sain          2052\n",
    "nombre_exposed        502\n",
    "nombre_recovered    16595\n",
    "Name: 222, dtype: int64"
   ]
  },
  {
   "cell_type": "markdown",
   "id": "9a4a0282",
   "metadata": {},
   "source": [
    "nombre_infected       852\n",
    "nombre_sain          2045\n",
    "nombre_exposed        481\n",
    "nombre_recovered    16622\n",
    "Name: 223, dtype: int64"
   ]
  },
  {
   "cell_type": "markdown",
   "id": "0f19bf28",
   "metadata": {},
   "source": [
    "nombre_infected       855\n",
    "nombre_sain          2012\n",
    "nombre_exposed        484\n",
    "nombre_recovered    16649\n",
    "Name: 224, dtype: int64"
   ]
  },
  {
   "cell_type": "markdown",
   "id": "fb26b75a",
   "metadata": {},
   "source": [
    "nombre_infected       842\n",
    "nombre_sain          2008\n",
    "nombre_exposed        494\n",
    "nombre_recovered    16656\n",
    "Name: 225, dtype: int64"
   ]
  },
  {
   "cell_type": "markdown",
   "id": "200a7a5d",
   "metadata": {},
   "source": [
    "nombre_infected       843\n",
    "nombre_sain          2011\n",
    "nombre_exposed        486\n",
    "nombre_recovered    16660\n",
    "Name: 226, dtype: int64"
   ]
  },
  {
   "cell_type": "markdown",
   "id": "074f2aac",
   "metadata": {},
   "source": [
    "nombre_infected       835\n",
    "nombre_sain          2008\n",
    "nombre_exposed        474\n",
    "nombre_recovered    16683\n",
    "Name: 227, dtype: int64"
   ]
  },
  {
   "cell_type": "markdown",
   "id": "afc73493",
   "metadata": {},
   "source": [
    "nombre_infected       837\n",
    "nombre_sain          2013\n",
    "nombre_exposed        469\n",
    "nombre_recovered    16681\n",
    "Name: 228, dtype: int64"
   ]
  },
  {
   "cell_type": "markdown",
   "id": "e616007b",
   "metadata": {},
   "source": [
    "nombre_infected       827\n",
    "nombre_sain          2050\n",
    "nombre_exposed        474\n",
    "nombre_recovered    16649\n",
    "Name: 229, dtype: int64"
   ]
  },
  {
   "cell_type": "markdown",
   "id": "39d42639",
   "metadata": {},
   "source": [
    "nombre_infected       832\n",
    "nombre_sain          2043\n",
    "nombre_exposed        471\n",
    "nombre_recovered    16654\n",
    "Name: 230, dtype: int64"
   ]
  },
  {
   "cell_type": "markdown",
   "id": "44818129",
   "metadata": {},
   "source": [
    "nombre_infected       832\n",
    "nombre_sain          2053\n",
    "nombre_exposed        468\n",
    "nombre_recovered    16647\n",
    "Name: 231, dtype: int64"
   ]
  },
  {
   "cell_type": "markdown",
   "id": "8be12fed",
   "metadata": {},
   "source": [
    "nombre_infected       817\n",
    "nombre_sain          2054\n",
    "nombre_exposed        460\n",
    "nombre_recovered    16669\n",
    "Name: 232, dtype: int64"
   ]
  },
  {
   "cell_type": "markdown",
   "id": "aa206dca",
   "metadata": {},
   "source": [
    "nombre_infected       815\n",
    "nombre_sain          2043\n",
    "nombre_exposed        472\n",
    "nombre_recovered    16670\n",
    "Name: 233, dtype: int64"
   ]
  },
  {
   "cell_type": "markdown",
   "id": "2a62fa91",
   "metadata": {},
   "source": [
    "nombre_infected       774\n",
    "nombre_sain          2047\n",
    "nombre_exposed        507\n",
    "nombre_recovered    16672\n",
    "Name: 234, dtype: int64"
   ]
  },
  {
   "cell_type": "markdown",
   "id": "e4c18272",
   "metadata": {},
   "source": [
    "nombre_infected       746\n",
    "nombre_sain          2036\n",
    "nombre_exposed        517\n",
    "nombre_recovered    16701\n",
    "Name: 235, dtype: int64"
   ]
  },
  {
   "cell_type": "markdown",
   "id": "37182947",
   "metadata": {},
   "source": [
    "nombre_infected       749\n",
    "nombre_sain          2050\n",
    "nombre_exposed        508\n",
    "nombre_recovered    16693\n",
    "Name: 236, dtype: int64"
   ]
  },
  {
   "cell_type": "markdown",
   "id": "6af0a2d8",
   "metadata": {},
   "source": [
    "nombre_infected       744\n",
    "nombre_sain          2062\n",
    "nombre_exposed        502\n",
    "nombre_recovered    16692\n",
    "Name: 237, dtype: int64"
   ]
  },
  {
   "cell_type": "markdown",
   "id": "8c0a2558",
   "metadata": {},
   "source": [
    "nombre_infected       756\n",
    "nombre_sain          2082\n",
    "nombre_exposed        488\n",
    "nombre_recovered    16674\n",
    "Name: 238, dtype: int64"
   ]
  },
  {
   "cell_type": "markdown",
   "id": "63bf6392",
   "metadata": {},
   "source": [
    "nombre_infected       787\n",
    "nombre_sain          2080\n",
    "nombre_exposed        473\n",
    "nombre_recovered    16660\n",
    "Name: 239, dtype: int64"
   ]
  },
  {
   "cell_type": "markdown",
   "id": "9b405d96",
   "metadata": {},
   "source": [
    "nombre_infected       794\n",
    "nombre_sain          2072\n",
    "nombre_exposed        465\n",
    "nombre_recovered    16669\n",
    "Name: 240, dtype: int64"
   ]
  },
  {
   "cell_type": "markdown",
   "id": "2d4c15cf",
   "metadata": {},
   "source": [
    "nombre_infected       792\n",
    "nombre_sain          2067\n",
    "nombre_exposed        473\n",
    "nombre_recovered    16668\n",
    "Name: 241, dtype: int64"
   ]
  },
  {
   "cell_type": "markdown",
   "id": "56bd2587",
   "metadata": {},
   "source": [
    "nombre_infected       785\n",
    "nombre_sain          2061\n",
    "nombre_exposed        473\n",
    "nombre_recovered    16681\n",
    "Name: 242, dtype: int64"
   ]
  },
  {
   "cell_type": "markdown",
   "id": "4f243eac",
   "metadata": {},
   "source": [
    "nombre_infected       793\n",
    "nombre_sain          2068\n",
    "nombre_exposed        462\n",
    "nombre_recovered    16677\n",
    "Name: 243, dtype: int64"
   ]
  },
  {
   "cell_type": "markdown",
   "id": "413a7efd",
   "metadata": {},
   "source": [
    "nombre_infected       795\n",
    "nombre_sain          2074\n",
    "nombre_exposed        457\n",
    "nombre_recovered    16674\n",
    "Name: 244, dtype: int64"
   ]
  },
  {
   "cell_type": "markdown",
   "id": "c8288b27",
   "metadata": {},
   "source": [
    "nombre_infected       810\n",
    "nombre_sain          2052\n",
    "nombre_exposed        458\n",
    "nombre_recovered    16680\n",
    "Name: 245, dtype: int64"
   ]
  },
  {
   "cell_type": "markdown",
   "id": "be3b5b2d",
   "metadata": {},
   "source": [
    "nombre_infected       816\n",
    "nombre_sain          2019\n",
    "nombre_exposed        474\n",
    "nombre_recovered    16691\n",
    "Name: 246, dtype: int64"
   ]
  },
  {
   "cell_type": "markdown",
   "id": "e8eccebb",
   "metadata": {},
   "source": [
    "nombre_infected       786\n",
    "nombre_sain          2025\n",
    "nombre_exposed        487\n",
    "nombre_recovered    16702\n",
    "Name: 247, dtype: int64"
   ]
  },
  {
   "cell_type": "markdown",
   "id": "d6173365",
   "metadata": {},
   "source": [
    "nombre_infected       796\n",
    "nombre_sain          2021\n",
    "nombre_exposed        480\n",
    "nombre_recovered    16703\n",
    "Name: 248, dtype: int64"
   ]
  },
  {
   "cell_type": "markdown",
   "id": "9d9f9858",
   "metadata": {},
   "source": [
    "nombre_infected       801\n",
    "nombre_sain          2012\n",
    "nombre_exposed        495\n",
    "nombre_recovered    16692\n",
    "Name: 249, dtype: int64"
   ]
  },
  {
   "cell_type": "markdown",
   "id": "890e4016",
   "metadata": {},
   "source": [
    "nombre_infected       784\n",
    "nombre_sain          2011\n",
    "nombre_exposed        486\n",
    "nombre_recovered    16719\n",
    "Name: 250, dtype: int64"
   ]
  },
  {
   "cell_type": "markdown",
   "id": "248b6c06",
   "metadata": {},
   "source": [
    "nombre_infected       763\n",
    "nombre_sain          2021\n",
    "nombre_exposed        489\n",
    "nombre_recovered    16727\n",
    "Name: 251, dtype: int64"
   ]
  },
  {
   "cell_type": "markdown",
   "id": "ea658c66",
   "metadata": {},
   "source": [
    "nombre_infected       761\n",
    "nombre_sain          2016\n",
    "nombre_exposed        506\n",
    "nombre_recovered    16717\n",
    "Name: 252, dtype: int64"
   ]
  },
  {
   "cell_type": "markdown",
   "id": "292a844d",
   "metadata": {},
   "source": [
    "nombre_infected       793\n",
    "nombre_sain          2021\n",
    "nombre_exposed        472\n",
    "nombre_recovered    16714\n",
    "Name: 253, dtype: int64"
   ]
  },
  {
   "cell_type": "markdown",
   "id": "20e55713",
   "metadata": {},
   "source": [
    "nombre_infected       789\n",
    "nombre_sain          2019\n",
    "nombre_exposed        472\n",
    "nombre_recovered    16720\n",
    "Name: 254, dtype: int64"
   ]
  },
  {
   "cell_type": "markdown",
   "id": "3e9eb03d",
   "metadata": {},
   "source": [
    "nombre_infected       788\n",
    "nombre_sain          2048\n",
    "nombre_exposed        464\n",
    "nombre_recovered    16700\n",
    "Name: 255, dtype: int64"
   ]
  },
  {
   "cell_type": "markdown",
   "id": "5e909f85",
   "metadata": {},
   "source": [
    "nombre_infected       784\n",
    "nombre_sain          2033\n",
    "nombre_exposed        468\n",
    "nombre_recovered    16715\n",
    "Name: 256, dtype: int64"
   ]
  },
  {
   "cell_type": "markdown",
   "id": "e63c0e51",
   "metadata": {},
   "source": [
    "nombre_infected       786\n",
    "nombre_sain          2055\n",
    "nombre_exposed        453\n",
    "nombre_recovered    16706\n",
    "Name: 257, dtype: int64"
   ]
  },
  {
   "cell_type": "markdown",
   "id": "90489eb5",
   "metadata": {},
   "source": [
    "nombre_infected       766\n",
    "nombre_sain          2054\n",
    "nombre_exposed        464\n",
    "nombre_recovered    16716\n",
    "Name: 258, dtype: int64"
   ]
  },
  {
   "cell_type": "markdown",
   "id": "c9bae978",
   "metadata": {},
   "source": [
    "nombre_infected       761\n",
    "nombre_sain          2068\n",
    "nombre_exposed        463\n",
    "nombre_recovered    16708\n",
    "Name: 259, dtype: int64"
   ]
  },
  {
   "cell_type": "markdown",
   "id": "deeb7e88",
   "metadata": {},
   "source": [
    "nombre_infected       754\n",
    "nombre_sain          2069\n",
    "nombre_exposed        475\n",
    "nombre_recovered    16702\n",
    "Name: 260, dtype: int64"
   ]
  },
  {
   "cell_type": "markdown",
   "id": "93e6baef",
   "metadata": {},
   "source": [
    "nombre_infected       739\n",
    "nombre_sain          2073\n",
    "nombre_exposed        494\n",
    "nombre_recovered    16694\n",
    "Name: 261, dtype: int64"
   ]
  },
  {
   "cell_type": "markdown",
   "id": "eb49be12",
   "metadata": {},
   "source": [
    "nombre_infected       753\n",
    "nombre_sain          2071\n",
    "nombre_exposed        481\n",
    "nombre_recovered    16695\n",
    "Name: 262, dtype: int64"
   ]
  },
  {
   "cell_type": "markdown",
   "id": "abffa297",
   "metadata": {},
   "source": [
    "nombre_infected       768\n",
    "nombre_sain          2068\n",
    "nombre_exposed        465\n",
    "nombre_recovered    16699\n",
    "Name: 263, dtype: int64"
   ]
  },
  {
   "cell_type": "markdown",
   "id": "c3750328",
   "metadata": {},
   "source": [
    "nombre_infected       777\n",
    "nombre_sain          2053\n",
    "nombre_exposed        470\n",
    "nombre_recovered    16700\n",
    "Name: 264, dtype: int64"
   ]
  },
  {
   "cell_type": "markdown",
   "id": "50a5f760",
   "metadata": {},
   "source": [
    "nombre_infected       766\n",
    "nombre_sain          2022\n",
    "nombre_exposed        505\n",
    "nombre_recovered    16707\n",
    "Name: 265, dtype: int64"
   ]
  },
  {
   "cell_type": "markdown",
   "id": "c1f3caa6",
   "metadata": {},
   "source": [
    "nombre_infected       761\n",
    "nombre_sain          2031\n",
    "nombre_exposed        519\n",
    "nombre_recovered    16689\n",
    "Name: 266, dtype: int64"
   ]
  },
  {
   "cell_type": "markdown",
   "id": "9a6c4521",
   "metadata": {},
   "source": [
    "nombre_infected       762\n",
    "nombre_sain          2043\n",
    "nombre_exposed        484\n",
    "nombre_recovered    16711\n",
    "Name: 267, dtype: int64"
   ]
  },
  {
   "cell_type": "markdown",
   "id": "0faec665",
   "metadata": {},
   "source": [
    "nombre_infected       747\n",
    "nombre_sain          2039\n",
    "nombre_exposed        475\n",
    "nombre_recovered    16739\n",
    "Name: 268, dtype: int64"
   ]
  },
  {
   "cell_type": "markdown",
   "id": "0094535a",
   "metadata": {},
   "source": [
    "nombre_infected       753\n",
    "nombre_sain          2039\n",
    "nombre_exposed        465\n",
    "nombre_recovered    16743\n",
    "Name: 269, dtype: int64"
   ]
  },
  {
   "cell_type": "markdown",
   "id": "316b4482",
   "metadata": {},
   "source": [
    "nombre_infected       767\n",
    "nombre_sain          2054\n",
    "nombre_exposed        440\n",
    "nombre_recovered    16739\n",
    "Name: 270, dtype: int64"
   ]
  },
  {
   "cell_type": "markdown",
   "id": "4de3b467",
   "metadata": {},
   "source": [
    "nombre_infected       777\n",
    "nombre_sain          2047\n",
    "nombre_exposed        415\n",
    "nombre_recovered    16761\n",
    "Name: 271, dtype: int64"
   ]
  },
  {
   "cell_type": "markdown",
   "id": "e3a76db0",
   "metadata": {},
   "source": [
    "nombre_infected       758\n",
    "nombre_sain          2061\n",
    "nombre_exposed        412\n",
    "nombre_recovered    16769\n",
    "Name: 272, dtype: int64"
   ]
  },
  {
   "cell_type": "markdown",
   "id": "85a42439",
   "metadata": {},
   "source": [
    "nombre_infected       744\n",
    "nombre_sain          2067\n",
    "nombre_exposed        413\n",
    "nombre_recovered    16776\n",
    "Name: 273, dtype: int64"
   ]
  },
  {
   "cell_type": "markdown",
   "id": "aa618ad1",
   "metadata": {},
   "source": [
    "nombre_infected       743\n",
    "nombre_sain          2099\n",
    "nombre_exposed        401\n",
    "nombre_recovered    16757\n",
    "Name: 274, dtype: int64"
   ]
  },
  {
   "cell_type": "markdown",
   "id": "8ba9f58b",
   "metadata": {},
   "source": [
    "nombre_infected       747\n",
    "nombre_sain          2109\n",
    "nombre_exposed        391\n",
    "nombre_recovered    16753\n",
    "Name: 275, dtype: int64"
   ]
  },
  {
   "cell_type": "markdown",
   "id": "2f961747",
   "metadata": {},
   "source": [
    "nombre_infected       738\n",
    "nombre_sain          2105\n",
    "nombre_exposed        405\n",
    "nombre_recovered    16752\n",
    "Name: 276, dtype: int64"
   ]
  },
  {
   "cell_type": "markdown",
   "id": "1c29ae2c",
   "metadata": {},
   "source": [
    "nombre_infected       729\n",
    "nombre_sain          2127\n",
    "nombre_exposed        403\n",
    "nombre_recovered    16741\n",
    "Name: 277, dtype: int64"
   ]
  },
  {
   "cell_type": "markdown",
   "id": "d04c20b5",
   "metadata": {},
   "source": [
    "nombre_infected       716\n",
    "nombre_sain          2132\n",
    "nombre_exposed        427\n",
    "nombre_recovered    16725\n",
    "Name: 278, dtype: int64"
   ]
  },
  {
   "cell_type": "markdown",
   "id": "7e849bdd",
   "metadata": {},
   "source": [
    "nombre_infected       706\n",
    "nombre_sain          2155\n",
    "nombre_exposed        422\n",
    "nombre_recovered    16717\n",
    "Name: 279, dtype: int64"
   ]
  },
  {
   "cell_type": "markdown",
   "id": "232e2a4b",
   "metadata": {},
   "source": [
    "nombre_infected       691\n",
    "nombre_sain          2169\n",
    "nombre_exposed        421\n",
    "nombre_recovered    16719\n",
    "Name: 280, dtype: int64"
   ]
  },
  {
   "cell_type": "markdown",
   "id": "6888f4c9",
   "metadata": {},
   "source": [
    "nombre_infected       702\n",
    "nombre_sain          2158\n",
    "nombre_exposed        426\n",
    "nombre_recovered    16714\n",
    "Name: 281, dtype: int64"
   ]
  },
  {
   "cell_type": "markdown",
   "id": "1f5f4fda",
   "metadata": {},
   "source": [
    "nombre_infected       710\n",
    "nombre_sain          2150\n",
    "nombre_exposed        432\n",
    "nombre_recovered    16708\n",
    "Name: 282, dtype: int64"
   ]
  },
  {
   "cell_type": "markdown",
   "id": "5483849c",
   "metadata": {},
   "source": [
    "nombre_infected       725\n",
    "nombre_sain          2188\n",
    "nombre_exposed        410\n",
    "nombre_recovered    16677\n",
    "Name: 283, dtype: int64"
   ]
  },
  {
   "cell_type": "markdown",
   "id": "2942c4a0",
   "metadata": {},
   "source": [
    "nombre_infected       724\n",
    "nombre_sain          2235\n",
    "nombre_exposed        397\n",
    "nombre_recovered    16644\n",
    "Name: 284, dtype: int64"
   ]
  },
  {
   "cell_type": "markdown",
   "id": "25c3fe6c",
   "metadata": {},
   "source": [
    "nombre_infected       711\n",
    "nombre_sain          2221\n",
    "nombre_exposed        421\n",
    "nombre_recovered    16647\n",
    "Name: 285, dtype: int64"
   ]
  },
  {
   "cell_type": "markdown",
   "id": "0ed0d084",
   "metadata": {},
   "source": [
    "nombre_infected       699\n",
    "nombre_sain          2213\n",
    "nombre_exposed        453\n",
    "nombre_recovered    16635\n",
    "Name: 286, dtype: int64"
   ]
  },
  {
   "cell_type": "markdown",
   "id": "c0c90da5",
   "metadata": {},
   "source": [
    "nombre_infected       711\n",
    "nombre_sain          2249\n",
    "nombre_exposed        448\n",
    "nombre_recovered    16592\n",
    "Name: 287, dtype: int64"
   ]
  },
  {
   "cell_type": "markdown",
   "id": "64dcbde4",
   "metadata": {},
   "source": [
    "nombre_infected       723\n",
    "nombre_sain          2297\n",
    "nombre_exposed        433\n",
    "nombre_recovered    16547\n",
    "Name: 288, dtype: int64"
   ]
  },
  {
   "cell_type": "markdown",
   "id": "20d4811e",
   "metadata": {},
   "source": [
    "nombre_infected       741\n",
    "nombre_sain          2324\n",
    "nombre_exposed        438\n",
    "nombre_recovered    16497\n",
    "Name: 289, dtype: int64"
   ]
  },
  {
   "cell_type": "markdown",
   "id": "c260ce92",
   "metadata": {},
   "source": [
    "nombre_infected       730\n",
    "nombre_sain          2336\n",
    "nombre_exposed        467\n",
    "nombre_recovered    16467\n",
    "Name: 290, dtype: int64"
   ]
  },
  {
   "cell_type": "markdown",
   "id": "8f0d0dab",
   "metadata": {},
   "source": [
    "nombre_infected       736\n",
    "nombre_sain          2356\n",
    "nombre_exposed        487\n",
    "nombre_recovered    16421\n",
    "Name: 291, dtype: int64"
   ]
  },
  {
   "cell_type": "markdown",
   "id": "e7d8f8f4",
   "metadata": {},
   "source": [
    "nombre_infected       748\n",
    "nombre_sain          2384\n",
    "nombre_exposed        489\n",
    "nombre_recovered    16379\n",
    "Name: 292, dtype: int64"
   ]
  },
  {
   "cell_type": "markdown",
   "id": "f0ee7cb4",
   "metadata": {},
   "source": [
    "nombre_infected       778\n",
    "nombre_sain          2370\n",
    "nombre_exposed        496\n",
    "nombre_recovered    16356\n",
    "Name: 293, dtype: int64"
   ]
  },
  {
   "cell_type": "markdown",
   "id": "b1c25b16",
   "metadata": {},
   "source": [
    "nombre_infected       770\n",
    "nombre_sain          2367\n",
    "nombre_exposed        493\n",
    "nombre_recovered    16370\n",
    "Name: 294, dtype: int64"
   ]
  },
  {
   "cell_type": "markdown",
   "id": "a0afb212",
   "metadata": {},
   "source": [
    "nombre_infected       804\n",
    "nombre_sain          2374\n",
    "nombre_exposed        478\n",
    "nombre_recovered    16344\n",
    "Name: 295, dtype: int64"
   ]
  },
  {
   "cell_type": "markdown",
   "id": "dce83db5",
   "metadata": {},
   "source": [
    "nombre_infected       807\n",
    "nombre_sain          2350\n",
    "nombre_exposed        508\n",
    "nombre_recovered    16335\n",
    "Name: 296, dtype: int64"
   ]
  },
  {
   "cell_type": "markdown",
   "id": "e1b9f0a2",
   "metadata": {},
   "source": [
    "nombre_infected       842\n",
    "nombre_sain          2331\n",
    "nombre_exposed        490\n",
    "nombre_recovered    16337\n",
    "Name: 297, dtype: int64"
   ]
  },
  {
   "cell_type": "markdown",
   "id": "55c20a04",
   "metadata": {},
   "source": [
    "nombre_infected       848\n",
    "nombre_sain          2315\n",
    "nombre_exposed        512\n",
    "nombre_recovered    16325\n",
    "Name: 298, dtype: int64"
   ]
  },
  {
   "cell_type": "markdown",
   "id": "ec6c8ee4",
   "metadata": {},
   "source": [
    "nombre_infected       852\n",
    "nombre_sain          2329\n",
    "nombre_exposed        494\n",
    "nombre_recovered    16325\n",
    "Name: 299, dtype: int64"
   ]
  },
  {
   "cell_type": "markdown",
   "id": "f3103a09",
   "metadata": {},
   "source": [
    "nombre_infected       869\n",
    "nombre_sain          2320\n",
    "nombre_exposed        498\n",
    "nombre_recovered    16313\n",
    "Name: 300, dtype: int64"
   ]
  },
  {
   "cell_type": "markdown",
   "id": "793d4b16",
   "metadata": {},
   "source": [
    "nombre_infected       876\n",
    "nombre_sain          2304\n",
    "nombre_exposed        485\n",
    "nombre_recovered    16335\n",
    "Name: 301, dtype: int64"
   ]
  },
  {
   "cell_type": "markdown",
   "id": "4fd55107",
   "metadata": {},
   "source": [
    "nombre_infected       887\n",
    "nombre_sain          2278\n",
    "nombre_exposed        489\n",
    "nombre_recovered    16346\n",
    "Name: 302, dtype: int64"
   ]
  },
  {
   "cell_type": "markdown",
   "id": "b70a9aaf",
   "metadata": {},
   "source": [
    "nombre_infected       899\n",
    "nombre_sain          2277\n",
    "nombre_exposed        485\n",
    "nombre_recovered    16339\n",
    "Name: 303, dtype: int64"
   ]
  },
  {
   "cell_type": "markdown",
   "id": "5352a79f",
   "metadata": {},
   "source": [
    "nombre_infected       892\n",
    "nombre_sain          2267\n",
    "nombre_exposed        502\n",
    "nombre_recovered    16339\n",
    "Name: 304, dtype: int64"
   ]
  },
  {
   "cell_type": "markdown",
   "id": "ee23e15d",
   "metadata": {},
   "source": [
    "nombre_infected       907\n",
    "nombre_sain          2265\n",
    "nombre_exposed        507\n",
    "nombre_recovered    16321\n",
    "Name: 305, dtype: int64"
   ]
  },
  {
   "cell_type": "markdown",
   "id": "ed898826",
   "metadata": {},
   "source": [
    "nombre_infected       924\n",
    "nombre_sain          2281\n",
    "nombre_exposed        498\n",
    "nombre_recovered    16297\n",
    "Name: 306, dtype: int64"
   ]
  },
  {
   "cell_type": "markdown",
   "id": "7d5431c9",
   "metadata": {},
   "source": [
    "nombre_infected       935\n",
    "nombre_sain          2292\n",
    "nombre_exposed        476\n",
    "nombre_recovered    16297\n",
    "Name: 307, dtype: int64"
   ]
  },
  {
   "cell_type": "markdown",
   "id": "cdc26052",
   "metadata": {},
   "source": [
    "nombre_infected       956\n",
    "nombre_sain          2261\n",
    "nombre_exposed        504\n",
    "nombre_recovered    16279\n",
    "Name: 308, dtype: int64"
   ]
  },
  {
   "cell_type": "markdown",
   "id": "e8834340",
   "metadata": {},
   "source": [
    "nombre_infected       933\n",
    "nombre_sain          2272\n",
    "nombre_exposed        518\n",
    "nombre_recovered    16277\n",
    "Name: 309, dtype: int64"
   ]
  },
  {
   "cell_type": "markdown",
   "id": "159da6b5",
   "metadata": {},
   "source": [
    "nombre_infected       946\n",
    "nombre_sain          2256\n",
    "nombre_exposed        535\n",
    "nombre_recovered    16263\n",
    "Name: 310, dtype: int64"
   ]
  },
  {
   "cell_type": "markdown",
   "id": "193fb7bd",
   "metadata": {},
   "source": [
    "nombre_infected       931\n",
    "nombre_sain          2268\n",
    "nombre_exposed        544\n",
    "nombre_recovered    16257\n",
    "Name: 311, dtype: int64"
   ]
  },
  {
   "cell_type": "markdown",
   "id": "cb8bb609",
   "metadata": {},
   "source": [
    "nombre_infected       933\n",
    "nombre_sain          2291\n",
    "nombre_exposed        569\n",
    "nombre_recovered    16207\n",
    "Name: 312, dtype: int64"
   ]
  },
  {
   "cell_type": "markdown",
   "id": "c9c94684",
   "metadata": {},
   "source": [
    "nombre_infected       973\n",
    "nombre_sain          2288\n",
    "nombre_exposed        542\n",
    "nombre_recovered    16197\n",
    "Name: 313, dtype: int64"
   ]
  },
  {
   "cell_type": "markdown",
   "id": "64323171",
   "metadata": {},
   "source": [
    "nombre_infected       968\n",
    "nombre_sain          2282\n",
    "nombre_exposed        546\n",
    "nombre_recovered    16204\n",
    "Name: 314, dtype: int64"
   ]
  },
  {
   "cell_type": "markdown",
   "id": "211e2cf6",
   "metadata": {},
   "source": [
    "nombre_infected       966\n",
    "nombre_sain          2319\n",
    "nombre_exposed        523\n",
    "nombre_recovered    16192\n",
    "Name: 315, dtype: int64"
   ]
  },
  {
   "cell_type": "markdown",
   "id": "62167081",
   "metadata": {},
   "source": [
    "nombre_infected       963\n",
    "nombre_sain          2270\n",
    "nombre_exposed        556\n",
    "nombre_recovered    16211\n",
    "Name: 316, dtype: int64"
   ]
  },
  {
   "cell_type": "markdown",
   "id": "3d8ab9a7",
   "metadata": {},
   "source": [
    "nombre_infected       944\n",
    "nombre_sain          2266\n",
    "nombre_exposed        578\n",
    "nombre_recovered    16212\n",
    "Name: 317, dtype: int64"
   ]
  },
  {
   "cell_type": "markdown",
   "id": "cb2308bd",
   "metadata": {},
   "source": [
    "nombre_infected       899\n",
    "nombre_sain          2267\n",
    "nombre_exposed        590\n",
    "nombre_recovered    16244\n",
    "Name: 318, dtype: int64"
   ]
  },
  {
   "cell_type": "markdown",
   "id": "dda8d229",
   "metadata": {},
   "source": [
    "nombre_infected       923\n",
    "nombre_sain          2252\n",
    "nombre_exposed        586\n",
    "nombre_recovered    16239\n",
    "Name: 319, dtype: int64"
   ]
  },
  {
   "cell_type": "markdown",
   "id": "a44bde4b",
   "metadata": {},
   "source": [
    "nombre_infected       940\n",
    "nombre_sain          2232\n",
    "nombre_exposed        565\n",
    "nombre_recovered    16263\n",
    "Name: 320, dtype: int64"
   ]
  },
  {
   "cell_type": "markdown",
   "id": "5af97d16",
   "metadata": {},
   "source": [
    "nombre_infected       960\n",
    "nombre_sain          2205\n",
    "nombre_exposed        577\n",
    "nombre_recovered    16258\n",
    "Name: 321, dtype: int64"
   ]
  },
  {
   "cell_type": "markdown",
   "id": "663aeece",
   "metadata": {},
   "source": [
    "nombre_infected       964\n",
    "nombre_sain          2213\n",
    "nombre_exposed        559\n",
    "nombre_recovered    16264\n",
    "Name: 322, dtype: int64"
   ]
  },
  {
   "cell_type": "markdown",
   "id": "668f8b2f",
   "metadata": {},
   "source": [
    "nombre_infected       981\n",
    "nombre_sain          2185\n",
    "nombre_exposed        549\n",
    "nombre_recovered    16285\n",
    "Name: 323, dtype: int64"
   ]
  },
  {
   "cell_type": "markdown",
   "id": "2ccd3159",
   "metadata": {},
   "source": [
    "nombre_infected       970\n",
    "nombre_sain          2164\n",
    "nombre_exposed        547\n",
    "nombre_recovered    16319\n",
    "Name: 324, dtype: int64"
   ]
  },
  {
   "cell_type": "markdown",
   "id": "86f59958",
   "metadata": {},
   "source": [
    "nombre_infected       954\n",
    "nombre_sain          2148\n",
    "nombre_exposed        549\n",
    "nombre_recovered    16349\n",
    "Name: 325, dtype: int64"
   ]
  },
  {
   "cell_type": "markdown",
   "id": "0831a9d4",
   "metadata": {},
   "source": [
    "nombre_infected       934\n",
    "nombre_sain          2172\n",
    "nombre_exposed        523\n",
    "nombre_recovered    16371\n",
    "Name: 326, dtype: int64"
   ]
  },
  {
   "cell_type": "markdown",
   "id": "6139b10c",
   "metadata": {},
   "source": [
    "nombre_infected       911\n",
    "nombre_sain          2173\n",
    "nombre_exposed        523\n",
    "nombre_recovered    16393\n",
    "Name: 327, dtype: int64"
   ]
  },
  {
   "cell_type": "markdown",
   "id": "ec415e2b",
   "metadata": {},
   "source": [
    "nombre_infected       910\n",
    "nombre_sain          2157\n",
    "nombre_exposed        551\n",
    "nombre_recovered    16382\n",
    "Name: 328, dtype: int64"
   ]
  },
  {
   "cell_type": "markdown",
   "id": "7b654524",
   "metadata": {},
   "source": [
    "nombre_infected       930\n",
    "nombre_sain          2131\n",
    "nombre_exposed        544\n",
    "nombre_recovered    16395\n",
    "Name: 329, dtype: int64"
   ]
  },
  {
   "cell_type": "markdown",
   "id": "73d690f9",
   "metadata": {},
   "source": [
    "nombre_infected       936\n",
    "nombre_sain          2122\n",
    "nombre_exposed        537\n",
    "nombre_recovered    16405\n",
    "Name: 330, dtype: int64"
   ]
  },
  {
   "cell_type": "markdown",
   "id": "65b5a9de",
   "metadata": {},
   "source": [
    "nombre_infected       949\n",
    "nombre_sain          2085\n",
    "nombre_exposed        536\n",
    "nombre_recovered    16430\n",
    "Name: 331, dtype: int64"
   ]
  },
  {
   "cell_type": "markdown",
   "id": "4143d159",
   "metadata": {},
   "source": [
    "nombre_infected       937\n",
    "nombre_sain          2059\n",
    "nombre_exposed        534\n",
    "nombre_recovered    16470\n",
    "Name: 332, dtype: int64"
   ]
  },
  {
   "cell_type": "markdown",
   "id": "c25e9613",
   "metadata": {},
   "source": [
    "nombre_infected       923\n",
    "nombre_sain          2052\n",
    "nombre_exposed        531\n",
    "nombre_recovered    16494\n",
    "Name: 333, dtype: int64"
   ]
  },
  {
   "cell_type": "markdown",
   "id": "170adbcd",
   "metadata": {},
   "source": [
    "nombre_infected       918\n",
    "nombre_sain          2053\n",
    "nombre_exposed        482\n",
    "nombre_recovered    16547\n",
    "Name: 334, dtype: int64"
   ]
  },
  {
   "cell_type": "markdown",
   "id": "7fe2c99f",
   "metadata": {},
   "source": [
    "nombre_infected       906\n",
    "nombre_sain          2046\n",
    "nombre_exposed        480\n",
    "nombre_recovered    16568\n",
    "Name: 335, dtype: int64"
   ]
  },
  {
   "cell_type": "markdown",
   "id": "7b32a3e0",
   "metadata": {},
   "source": [
    "nombre_infected       902\n",
    "nombre_sain          2044\n",
    "nombre_exposed        477\n",
    "nombre_recovered    16577\n",
    "Name: 336, dtype: int64"
   ]
  },
  {
   "cell_type": "markdown",
   "id": "c87904a5",
   "metadata": {},
   "source": [
    "nombre_infected       885\n",
    "nombre_sain          2015\n",
    "nombre_exposed        477\n",
    "nombre_recovered    16623\n",
    "Name: 337, dtype: int64"
   ]
  },
  {
   "cell_type": "markdown",
   "id": "64c2bd74",
   "metadata": {},
   "source": [
    "nombre_infected       905\n",
    "nombre_sain          1994\n",
    "nombre_exposed        475\n",
    "nombre_recovered    16626\n",
    "Name: 338, dtype: int64"
   ]
  },
  {
   "cell_type": "markdown",
   "id": "2603cb99",
   "metadata": {},
   "source": [
    "nombre_infected       894\n",
    "nombre_sain          1981\n",
    "nombre_exposed        476\n",
    "nombre_recovered    16649\n",
    "Name: 339, dtype: int64"
   ]
  },
  {
   "cell_type": "markdown",
   "id": "7056b377",
   "metadata": {},
   "source": [
    "nombre_infected       880\n",
    "nombre_sain          1965\n",
    "nombre_exposed        465\n",
    "nombre_recovered    16690\n",
    "Name: 340, dtype: int64"
   ]
  },
  {
   "cell_type": "markdown",
   "id": "59534514",
   "metadata": {},
   "source": [
    "nombre_infected       882\n",
    "nombre_sain          1942\n",
    "nombre_exposed        451\n",
    "nombre_recovered    16725\n",
    "Name: 341, dtype: int64"
   ]
  },
  {
   "cell_type": "markdown",
   "id": "6c452bed",
   "metadata": {},
   "source": [
    "nombre_infected       886\n",
    "nombre_sain          1920\n",
    "nombre_exposed        446\n",
    "nombre_recovered    16748\n",
    "Name: 342, dtype: int64"
   ]
  },
  {
   "cell_type": "markdown",
   "id": "714771d3",
   "metadata": {},
   "source": [
    "nombre_infected       876\n",
    "nombre_sain          1896\n",
    "nombre_exposed        442\n",
    "nombre_recovered    16786\n",
    "Name: 343, dtype: int64"
   ]
  },
  {
   "cell_type": "markdown",
   "id": "e8ed24f9",
   "metadata": {},
   "source": [
    "nombre_infected       868\n",
    "nombre_sain          1879\n",
    "nombre_exposed        443\n",
    "nombre_recovered    16810\n",
    "Name: 344, dtype: int64"
   ]
  },
  {
   "cell_type": "markdown",
   "id": "488548c6",
   "metadata": {},
   "source": [
    "nombre_infected       848\n",
    "nombre_sain          1904\n",
    "nombre_exposed        435\n",
    "nombre_recovered    16813\n",
    "Name: 345, dtype: int64"
   ]
  },
  {
   "cell_type": "markdown",
   "id": "dddf1b02",
   "metadata": {},
   "source": [
    "nombre_infected       843\n",
    "nombre_sain          1914\n",
    "nombre_exposed        428\n",
    "nombre_recovered    16815\n",
    "Name: 346, dtype: int64"
   ]
  },
  {
   "cell_type": "markdown",
   "id": "9afe2c45",
   "metadata": {},
   "source": [
    "nombre_infected       824\n",
    "nombre_sain          1894\n",
    "nombre_exposed        422\n",
    "nombre_recovered    16860\n",
    "Name: 347, dtype: int64"
   ]
  },
  {
   "cell_type": "markdown",
   "id": "e890a6fe",
   "metadata": {},
   "source": [
    "nombre_infected       820\n",
    "nombre_sain          1904\n",
    "nombre_exposed        391\n",
    "nombre_recovered    16885\n",
    "Name: 348, dtype: int64"
   ]
  },
  {
   "cell_type": "markdown",
   "id": "5dd2d32a",
   "metadata": {},
   "source": [
    "nombre_infected       812\n",
    "nombre_sain          1911\n",
    "nombre_exposed        389\n",
    "nombre_recovered    16888\n",
    "Name: 349, dtype: int64"
   ]
  },
  {
   "cell_type": "markdown",
   "id": "a50059d0",
   "metadata": {},
   "source": [
    "nombre_infected       796\n",
    "nombre_sain          1905\n",
    "nombre_exposed        389\n",
    "nombre_recovered    16910\n",
    "Name: 350, dtype: int64"
   ]
  },
  {
   "cell_type": "markdown",
   "id": "0962be71",
   "metadata": {},
   "source": [
    "nombre_infected       786\n",
    "nombre_sain          1871\n",
    "nombre_exposed        399\n",
    "nombre_recovered    16944\n",
    "Name: 351, dtype: int64"
   ]
  },
  {
   "cell_type": "markdown",
   "id": "84e920ce",
   "metadata": {},
   "source": [
    "nombre_infected       755\n",
    "nombre_sain          1853\n",
    "nombre_exposed        415\n",
    "nombre_recovered    16977\n",
    "Name: 352, dtype: int64"
   ]
  },
  {
   "cell_type": "markdown",
   "id": "85987d7e",
   "metadata": {},
   "source": [
    "nombre_infected       766\n",
    "nombre_sain          1864\n",
    "nombre_exposed        404\n",
    "nombre_recovered    16966\n",
    "Name: 353, dtype: int64"
   ]
  },
  {
   "cell_type": "markdown",
   "id": "6d4ef50e",
   "metadata": {},
   "source": [
    "nombre_infected       764\n",
    "nombre_sain          1872\n",
    "nombre_exposed        389\n",
    "nombre_recovered    16975\n",
    "Name: 354, dtype: int64"
   ]
  },
  {
   "cell_type": "markdown",
   "id": "99cdb344",
   "metadata": {},
   "source": [
    "nombre_infected       763\n",
    "nombre_sain          1879\n",
    "nombre_exposed        379\n",
    "nombre_recovered    16979\n",
    "Name: 355, dtype: int64"
   ]
  },
  {
   "cell_type": "markdown",
   "id": "3db968c2",
   "metadata": {},
   "source": [
    "nombre_infected       741\n",
    "nombre_sain          1900\n",
    "nombre_exposed        373\n",
    "nombre_recovered    16986\n",
    "Name: 356, dtype: int64"
   ]
  },
  {
   "cell_type": "markdown",
   "id": "8e40f6b7",
   "metadata": {},
   "source": [
    "nombre_infected       737\n",
    "nombre_sain          1933\n",
    "nombre_exposed        352\n",
    "nombre_recovered    16978\n",
    "Name: 357, dtype: int64"
   ]
  },
  {
   "cell_type": "markdown",
   "id": "a6c8b14f",
   "metadata": {},
   "source": [
    "nombre_infected       713\n",
    "nombre_sain          1948\n",
    "nombre_exposed        365\n",
    "nombre_recovered    16974\n",
    "Name: 358, dtype: int64"
   ]
  },
  {
   "cell_type": "markdown",
   "id": "e9e94115",
   "metadata": {},
   "source": [
    "nombre_infected       698\n",
    "nombre_sain          1999\n",
    "nombre_exposed        359\n",
    "nombre_recovered    16944\n",
    "Name: 359, dtype: int64"
   ]
  },
  {
   "cell_type": "markdown",
   "id": "c41a8208",
   "metadata": {},
   "source": [
    "nombre_infected       704\n",
    "nombre_sain          2022\n",
    "nombre_exposed        352\n",
    "nombre_recovered    16922\n",
    "Name: 360, dtype: int64"
   ]
  },
  {
   "cell_type": "markdown",
   "id": "c502223b",
   "metadata": {},
   "source": [
    "nombre_infected       696\n",
    "nombre_sain          2065\n",
    "nombre_exposed        345\n",
    "nombre_recovered    16894\n",
    "Name: 361, dtype: int64"
   ]
  },
  {
   "cell_type": "markdown",
   "id": "ea27e117",
   "metadata": {},
   "source": [
    "nombre_infected       682\n",
    "nombre_sain          2120\n",
    "nombre_exposed        336\n",
    "nombre_recovered    16862\n",
    "Name: 362, dtype: int64"
   ]
  },
  {
   "cell_type": "markdown",
   "id": "cec33d34",
   "metadata": {},
   "source": [
    "nombre_infected       673\n",
    "nombre_sain          2139\n",
    "nombre_exposed        351\n",
    "nombre_recovered    16837\n",
    "Name: 363, dtype: int64"
   ]
  },
  {
   "cell_type": "markdown",
   "id": "5906d51a",
   "metadata": {},
   "source": [
    "nombre_infected       685\n",
    "nombre_sain          2180\n",
    "nombre_exposed        341\n",
    "nombre_recovered    16794\n",
    "Name: 364, dtype: int64"
   ]
  },
  {
   "cell_type": "markdown",
   "id": "35f45b4d",
   "metadata": {},
   "source": [
    "nombre_infected       669\n",
    "nombre_sain          2233\n",
    "nombre_exposed        351\n",
    "nombre_recovered    16747\n",
    "Name: 365, dtype: int64"
   ]
  },
  {
   "cell_type": "markdown",
   "id": "3e3952cb",
   "metadata": {},
   "source": [
    "nombre_infected       671\n",
    "nombre_sain          2285\n",
    "nombre_exposed        347\n",
    "nombre_recovered    16697\n",
    "Name: 366, dtype: int64"
   ]
  },
  {
   "cell_type": "markdown",
   "id": "9508dc5b",
   "metadata": {},
   "source": [
    "nombre_infected       661\n",
    "nombre_sain          2337\n",
    "nombre_exposed        361\n",
    "nombre_recovered    16641\n",
    "Name: 367, dtype: int64"
   ]
  },
  {
   "cell_type": "markdown",
   "id": "ab70ff73",
   "metadata": {},
   "source": [
    "nombre_infected       655\n",
    "nombre_sain          2342\n",
    "nombre_exposed        382\n",
    "nombre_recovered    16621\n",
    "Name: 368, dtype: int64"
   ]
  },
  {
   "cell_type": "markdown",
   "id": "a547214d",
   "metadata": {},
   "source": [
    "nombre_infected       648\n",
    "nombre_sain          2392\n",
    "nombre_exposed        380\n",
    "nombre_recovered    16580\n",
    "Name: 369, dtype: int64"
   ]
  },
  {
   "cell_type": "markdown",
   "id": "d700342a",
   "metadata": {},
   "source": [
    "nombre_infected       649\n",
    "nombre_sain          2432\n",
    "nombre_exposed        378\n",
    "nombre_recovered    16541\n",
    "Name: 370, dtype: int64"
   ]
  },
  {
   "cell_type": "markdown",
   "id": "a7eb7be1",
   "metadata": {},
   "source": [
    "nombre_infected       663\n",
    "nombre_sain          2462\n",
    "nombre_exposed        379\n",
    "nombre_recovered    16496\n",
    "Name: 371, dtype: int64"
   ]
  },
  {
   "cell_type": "markdown",
   "id": "f90acf1e",
   "metadata": {},
   "source": [
    "nombre_infected       672\n",
    "nombre_sain          2474\n",
    "nombre_exposed        384\n",
    "nombre_recovered    16470\n",
    "Name: 372, dtype: int64"
   ]
  },
  {
   "cell_type": "markdown",
   "id": "18094df1",
   "metadata": {},
   "source": [
    "nombre_infected       699\n",
    "nombre_sain          2493\n",
    "nombre_exposed        400\n",
    "nombre_recovered    16408\n",
    "Name: 373, dtype: int64"
   ]
  },
  {
   "cell_type": "markdown",
   "id": "c5b519b2",
   "metadata": {},
   "source": [
    "nombre_infected       689\n",
    "nombre_sain          2496\n",
    "nombre_exposed        413\n",
    "nombre_recovered    16402\n",
    "Name: 374, dtype: int64"
   ]
  },
  {
   "cell_type": "markdown",
   "id": "eb31b386",
   "metadata": {},
   "source": [
    "nombre_infected       698\n",
    "nombre_sain          2503\n",
    "nombre_exposed        440\n",
    "nombre_recovered    16359\n",
    "Name: 375, dtype: int64"
   ]
  },
  {
   "cell_type": "markdown",
   "id": "f9709f4c",
   "metadata": {},
   "source": [
    "nombre_infected       711\n",
    "nombre_sain          2504\n",
    "nombre_exposed        459\n",
    "nombre_recovered    16326\n",
    "Name: 376, dtype: int64"
   ]
  },
  {
   "cell_type": "markdown",
   "id": "a45bc433",
   "metadata": {},
   "source": [
    "nombre_infected       717\n",
    "nombre_sain          2489\n",
    "nombre_exposed        486\n",
    "nombre_recovered    16308\n",
    "Name: 377, dtype: int64"
   ]
  },
  {
   "cell_type": "markdown",
   "id": "21140920",
   "metadata": {},
   "source": [
    "nombre_infected       710\n",
    "nombre_sain          2496\n",
    "nombre_exposed        501\n",
    "nombre_recovered    16293\n",
    "Name: 378, dtype: int64"
   ]
  },
  {
   "cell_type": "markdown",
   "id": "c2008c3d",
   "metadata": {},
   "source": [
    "nombre_infected       734\n",
    "nombre_sain          2471\n",
    "nombre_exposed        507\n",
    "nombre_recovered    16288\n",
    "Name: 379, dtype: int64"
   ]
  },
  {
   "cell_type": "markdown",
   "id": "32fa77b1",
   "metadata": {},
   "source": [
    "nombre_infected       758\n",
    "nombre_sain          2471\n",
    "nombre_exposed        501\n",
    "nombre_recovered    16270\n",
    "Name: 380, dtype: int64"
   ]
  },
  {
   "cell_type": "markdown",
   "id": "6cedfc9c",
   "metadata": {},
   "source": [
    "nombre_infected       766\n",
    "nombre_sain          2463\n",
    "nombre_exposed        503\n",
    "nombre_recovered    16268\n",
    "Name: 381, dtype: int64"
   ]
  },
  {
   "cell_type": "markdown",
   "id": "5339c1f5",
   "metadata": {},
   "source": [
    "nombre_infected       800\n",
    "nombre_sain          2427\n",
    "nombre_exposed        524\n",
    "nombre_recovered    16249\n",
    "Name: 382, dtype: int64"
   ]
  },
  {
   "cell_type": "markdown",
   "id": "645cded0",
   "metadata": {},
   "source": [
    "nombre_infected       822\n",
    "nombre_sain          2408\n",
    "nombre_exposed        531\n",
    "nombre_recovered    16239\n",
    "Name: 383, dtype: int64"
   ]
  },
  {
   "cell_type": "markdown",
   "id": "8495f876",
   "metadata": {},
   "source": [
    "nombre_infected       853\n",
    "nombre_sain          2392\n",
    "nombre_exposed        561\n",
    "nombre_recovered    16194\n",
    "Name: 384, dtype: int64"
   ]
  },
  {
   "cell_type": "markdown",
   "id": "11b2bb8a",
   "metadata": {},
   "source": [
    "nombre_infected       862\n",
    "nombre_sain          2365\n",
    "nombre_exposed        572\n",
    "nombre_recovered    16201\n",
    "Name: 385, dtype: int64"
   ]
  },
  {
   "cell_type": "markdown",
   "id": "9ff591f5",
   "metadata": {},
   "source": [
    "nombre_infected       882\n",
    "nombre_sain          2349\n",
    "nombre_exposed        579\n",
    "nombre_recovered    16190\n",
    "Name: 386, dtype: int64"
   ]
  },
  {
   "cell_type": "markdown",
   "id": "45a3f4e5",
   "metadata": {},
   "source": [
    "nombre_infected       896\n",
    "nombre_sain          2321\n",
    "nombre_exposed        583\n",
    "nombre_recovered    16200\n",
    "Name: 387, dtype: int64"
   ]
  },
  {
   "cell_type": "markdown",
   "id": "9cd3b704",
   "metadata": {},
   "source": [
    "nombre_infected       919\n",
    "nombre_sain          2284\n",
    "nombre_exposed        586\n",
    "nombre_recovered    16211\n",
    "Name: 388, dtype: int64"
   ]
  },
  {
   "cell_type": "markdown",
   "id": "07a39c24",
   "metadata": {},
   "source": [
    "nombre_infected       970\n",
    "nombre_sain          2284\n",
    "nombre_exposed        563\n",
    "nombre_recovered    16183\n",
    "Name: 389, dtype: int64"
   ]
  },
  {
   "cell_type": "markdown",
   "id": "46cb27fb",
   "metadata": {},
   "source": [
    "nombre_infected       959\n",
    "nombre_sain          2242\n",
    "nombre_exposed        598\n",
    "nombre_recovered    16201\n",
    "Name: 390, dtype: int64"
   ]
  },
  {
   "cell_type": "markdown",
   "id": "4f2e71bc",
   "metadata": {},
   "source": [
    "nombre_infected       977\n",
    "nombre_sain          2230\n",
    "nombre_exposed        587\n",
    "nombre_recovered    16206\n",
    "Name: 391, dtype: int64"
   ]
  },
  {
   "cell_type": "markdown",
   "id": "d4118b71",
   "metadata": {},
   "source": [
    "nombre_infected       996\n",
    "nombre_sain          2220\n",
    "nombre_exposed        580\n",
    "nombre_recovered    16204\n",
    "Name: 392, dtype: int64"
   ]
  },
  {
   "cell_type": "markdown",
   "id": "e858ac72",
   "metadata": {},
   "source": [
    "nombre_infected      1016\n",
    "nombre_sain          2254\n",
    "nombre_exposed        554\n",
    "nombre_recovered    16176\n",
    "Name: 393, dtype: int64"
   ]
  },
  {
   "cell_type": "markdown",
   "id": "c5c35dd1",
   "metadata": {},
   "source": [
    "nombre_infected      1000\n",
    "nombre_sain          2228\n",
    "nombre_exposed        565\n",
    "nombre_recovered    16207\n",
    "Name: 394, dtype: int64"
   ]
  },
  {
   "cell_type": "markdown",
   "id": "19077ba8",
   "metadata": {},
   "source": [
    "nombre_infected       994\n",
    "nombre_sain          2202\n",
    "nombre_exposed        586\n",
    "nombre_recovered    16218\n",
    "Name: 395, dtype: int64"
   ]
  },
  {
   "cell_type": "markdown",
   "id": "adf0d3bf",
   "metadata": {},
   "source": [
    "nombre_infected      1008\n",
    "nombre_sain          2219\n",
    "nombre_exposed        572\n",
    "nombre_recovered    16201\n",
    "Name: 396, dtype: int64"
   ]
  },
  {
   "cell_type": "markdown",
   "id": "31e81c3d",
   "metadata": {},
   "source": [
    "nombre_infected      1036\n",
    "nombre_sain          2222\n",
    "nombre_exposed        547\n",
    "nombre_recovered    16195\n",
    "Name: 397, dtype: int64"
   ]
  },
  {
   "cell_type": "markdown",
   "id": "fb2714f4",
   "metadata": {},
   "source": [
    "nombre_infected      1037\n",
    "nombre_sain          2210\n",
    "nombre_exposed        561\n",
    "nombre_recovered    16192\n",
    "Name: 398, dtype: int64"
   ]
  },
  {
   "cell_type": "markdown",
   "id": "48141a3b",
   "metadata": {},
   "source": [
    "nombre_infected      1008\n",
    "nombre_sain          2169\n",
    "nombre_exposed        614\n",
    "nombre_recovered    16209\n",
    "Name: 399, dtype: int64"
   ]
  },
  {
   "cell_type": "markdown",
   "id": "94a3eb22",
   "metadata": {},
   "source": [
    "nombre_infected      1009\n",
    "nombre_sain          2140\n",
    "nombre_exposed        616\n",
    "nombre_recovered    16235\n",
    "Name: 400, dtype: int64"
   ]
  },
  {
   "cell_type": "markdown",
   "id": "1b33374e",
   "metadata": {},
   "source": [
    "nombre_infected      1010\n",
    "nombre_sain          2131\n",
    "nombre_exposed        621\n",
    "nombre_recovered    16238\n",
    "Name: 401, dtype: int64"
   ]
  },
  {
   "cell_type": "markdown",
   "id": "24360139",
   "metadata": {},
   "source": [
    "nombre_infected      1034\n",
    "nombre_sain          2091\n",
    "nombre_exposed        618\n",
    "nombre_recovered    16257\n",
    "Name: 402, dtype: int64"
   ]
  },
  {
   "cell_type": "markdown",
   "id": "74dd2859",
   "metadata": {},
   "source": [
    "nombre_infected      1042\n",
    "nombre_sain          2094\n",
    "nombre_exposed        579\n",
    "nombre_recovered    16285\n",
    "Name: 403, dtype: int64"
   ]
  },
  {
   "cell_type": "markdown",
   "id": "408f162d",
   "metadata": {},
   "source": [
    "nombre_infected      1036\n",
    "nombre_sain          2062\n",
    "nombre_exposed        579\n",
    "nombre_recovered    16323\n",
    "Name: 404, dtype: int64"
   ]
  },
  {
   "cell_type": "markdown",
   "id": "3149b42c",
   "metadata": {},
   "source": [
    "nombre_infected      1022\n",
    "nombre_sain          2053\n",
    "nombre_exposed        574\n",
    "nombre_recovered    16351\n",
    "Name: 405, dtype: int64"
   ]
  },
  {
   "cell_type": "markdown",
   "id": "f98916c7",
   "metadata": {},
   "source": [
    "nombre_infected      1023\n",
    "nombre_sain          2042\n",
    "nombre_exposed        560\n",
    "nombre_recovered    16375\n",
    "Name: 406, dtype: int64"
   ]
  },
  {
   "cell_type": "markdown",
   "id": "6c0d9682",
   "metadata": {},
   "source": [
    "nombre_infected      1010\n",
    "nombre_sain          1984\n",
    "nombre_exposed        588\n",
    "nombre_recovered    16418\n",
    "Name: 407, dtype: int64"
   ]
  },
  {
   "cell_type": "markdown",
   "id": "345cfa57",
   "metadata": {},
   "source": [
    "nombre_infected       994\n",
    "nombre_sain          1953\n",
    "nombre_exposed        573\n",
    "nombre_recovered    16480\n",
    "Name: 408, dtype: int64"
   ]
  },
  {
   "cell_type": "markdown",
   "id": "70ea6bbb",
   "metadata": {},
   "source": [
    "nombre_infected       991\n",
    "nombre_sain          1937\n",
    "nombre_exposed        560\n",
    "nombre_recovered    16512\n",
    "Name: 409, dtype: int64"
   ]
  },
  {
   "cell_type": "markdown",
   "id": "28e3ff93",
   "metadata": {},
   "source": [
    "nombre_infected       982\n",
    "nombre_sain          1926\n",
    "nombre_exposed        556\n",
    "nombre_recovered    16536\n",
    "Name: 410, dtype: int64"
   ]
  },
  {
   "cell_type": "markdown",
   "id": "a956be50",
   "metadata": {},
   "source": [
    "nombre_infected       981\n",
    "nombre_sain          1916\n",
    "nombre_exposed        550\n",
    "nombre_recovered    16553\n",
    "Name: 411, dtype: int64"
   ]
  },
  {
   "cell_type": "markdown",
   "id": "3b0a993c",
   "metadata": {},
   "source": [
    "nombre_infected       965\n",
    "nombre_sain          1907\n",
    "nombre_exposed        540\n",
    "nombre_recovered    16588\n",
    "Name: 412, dtype: int64"
   ]
  },
  {
   "cell_type": "markdown",
   "id": "186181c8",
   "metadata": {},
   "source": [
    "nombre_infected       963\n",
    "nombre_sain          1882\n",
    "nombre_exposed        543\n",
    "nombre_recovered    16612\n",
    "Name: 413, dtype: int64"
   ]
  },
  {
   "cell_type": "markdown",
   "id": "19b15639",
   "metadata": {},
   "source": [
    "nombre_infected       969\n",
    "nombre_sain          1897\n",
    "nombre_exposed        523\n",
    "nombre_recovered    16611\n",
    "Name: 414, dtype: int64"
   ]
  },
  {
   "cell_type": "markdown",
   "id": "008bdc68",
   "metadata": {},
   "source": [
    "nombre_infected       965\n",
    "nombre_sain          1885\n",
    "nombre_exposed        533\n",
    "nombre_recovered    16617\n",
    "Name: 415, dtype: int64"
   ]
  },
  {
   "cell_type": "markdown",
   "id": "358a4434",
   "metadata": {},
   "source": [
    "nombre_infected       930\n",
    "nombre_sain          1867\n",
    "nombre_exposed        550\n",
    "nombre_recovered    16653\n",
    "Name: 416, dtype: int64"
   ]
  },
  {
   "cell_type": "markdown",
   "id": "ebe098bb",
   "metadata": {},
   "source": [
    "nombre_infected       925\n",
    "nombre_sain          1874\n",
    "nombre_exposed        520\n",
    "nombre_recovered    16681\n",
    "Name: 417, dtype: int64"
   ]
  },
  {
   "cell_type": "markdown",
   "id": "0bbfa2ea",
   "metadata": {},
   "source": [
    "nombre_infected       904\n",
    "nombre_sain          1874\n",
    "nombre_exposed        519\n",
    "nombre_recovered    16703\n",
    "Name: 418, dtype: int64"
   ]
  },
  {
   "cell_type": "markdown",
   "id": "3fe1abcd",
   "metadata": {},
   "source": [
    "nombre_infected       924\n",
    "nombre_sain          1890\n",
    "nombre_exposed        505\n",
    "nombre_recovered    16681\n",
    "Name: 419, dtype: int64"
   ]
  },
  {
   "cell_type": "markdown",
   "id": "7131d735",
   "metadata": {},
   "source": [
    "nombre_infected       913\n",
    "nombre_sain          1893\n",
    "nombre_exposed        512\n",
    "nombre_recovered    16682\n",
    "Name: 420, dtype: int64"
   ]
  },
  {
   "cell_type": "markdown",
   "id": "1c2c0d74",
   "metadata": {},
   "source": [
    "nombre_infected       915\n",
    "nombre_sain          1890\n",
    "nombre_exposed        519\n",
    "nombre_recovered    16676\n",
    "Name: 421, dtype: int64"
   ]
  },
  {
   "cell_type": "markdown",
   "id": "e3925b05",
   "metadata": {},
   "source": [
    "nombre_infected       905\n",
    "nombre_sain          1918\n",
    "nombre_exposed        488\n",
    "nombre_recovered    16689\n",
    "Name: 422, dtype: int64"
   ]
  },
  {
   "cell_type": "markdown",
   "id": "aa1ed0b4",
   "metadata": {},
   "source": [
    "nombre_infected       912\n",
    "nombre_sain          1933\n",
    "nombre_exposed        478\n",
    "nombre_recovered    16677\n",
    "Name: 423, dtype: int64"
   ]
  },
  {
   "cell_type": "markdown",
   "id": "bd9b4261",
   "metadata": {},
   "source": [
    "nombre_infected       923\n",
    "nombre_sain          1939\n",
    "nombre_exposed        465\n",
    "nombre_recovered    16673\n",
    "Name: 424, dtype: int64"
   ]
  },
  {
   "cell_type": "markdown",
   "id": "a1347d6d",
   "metadata": {},
   "source": [
    "nombre_infected       904\n",
    "nombre_sain          1932\n",
    "nombre_exposed        486\n",
    "nombre_recovered    16678\n",
    "Name: 425, dtype: int64"
   ]
  },
  {
   "cell_type": "markdown",
   "id": "2ce74882",
   "metadata": {},
   "source": [
    "nombre_infected       874\n",
    "nombre_sain          1944\n",
    "nombre_exposed        488\n",
    "nombre_recovered    16694\n",
    "Name: 426, dtype: int64"
   ]
  },
  {
   "cell_type": "markdown",
   "id": "7a3831ca",
   "metadata": {},
   "source": [
    "nombre_infected       893\n",
    "nombre_sain          1965\n",
    "nombre_exposed        451\n",
    "nombre_recovered    16691\n",
    "Name: 427, dtype: int64"
   ]
  },
  {
   "cell_type": "markdown",
   "id": "37a37d49",
   "metadata": {},
   "source": [
    "nombre_infected       869\n",
    "nombre_sain          1980\n",
    "nombre_exposed        461\n",
    "nombre_recovered    16690\n",
    "Name: 428, dtype: int64"
   ]
  },
  {
   "cell_type": "markdown",
   "id": "2b4775da",
   "metadata": {},
   "source": [
    "nombre_infected       847\n",
    "nombre_sain          1995\n",
    "nombre_exposed        472\n",
    "nombre_recovered    16686\n",
    "Name: 429, dtype: int64"
   ]
  },
  {
   "cell_type": "markdown",
   "id": "e9a6134a",
   "metadata": {},
   "source": [
    "nombre_infected       854\n",
    "nombre_sain          2023\n",
    "nombre_exposed        461\n",
    "nombre_recovered    16662\n",
    "Name: 430, dtype: int64"
   ]
  },
  {
   "cell_type": "markdown",
   "id": "25a6be69",
   "metadata": {},
   "source": [
    "nombre_infected       873\n",
    "nombre_sain          2051\n",
    "nombre_exposed        451\n",
    "nombre_recovered    16625\n",
    "Name: 431, dtype: int64"
   ]
  },
  {
   "cell_type": "markdown",
   "id": "b3e70d9f",
   "metadata": {},
   "source": [
    "nombre_infected       842\n",
    "nombre_sain          2066\n",
    "nombre_exposed        475\n",
    "nombre_recovered    16617\n",
    "Name: 432, dtype: int64"
   ]
  },
  {
   "cell_type": "markdown",
   "id": "5658da6d",
   "metadata": {},
   "source": [
    "nombre_infected       844\n",
    "nombre_sain          2090\n",
    "nombre_exposed        455\n",
    "nombre_recovered    16611\n",
    "Name: 433, dtype: int64"
   ]
  },
  {
   "cell_type": "markdown",
   "id": "29acf642",
   "metadata": {},
   "source": [
    "nombre_infected       844\n",
    "nombre_sain          2131\n",
    "nombre_exposed        444\n",
    "nombre_recovered    16581\n",
    "Name: 434, dtype: int64"
   ]
  },
  {
   "cell_type": "markdown",
   "id": "4dd103f6",
   "metadata": {},
   "source": [
    "nombre_infected       836\n",
    "nombre_sain          2123\n",
    "nombre_exposed        466\n",
    "nombre_recovered    16575\n",
    "Name: 435, dtype: int64"
   ]
  },
  {
   "cell_type": "markdown",
   "id": "c903c2d4",
   "metadata": {},
   "source": [
    "nombre_infected       843\n",
    "nombre_sain          2109\n",
    "nombre_exposed        485\n",
    "nombre_recovered    16563\n",
    "Name: 436, dtype: int64"
   ]
  },
  {
   "cell_type": "markdown",
   "id": "964e92c6",
   "metadata": {},
   "source": [
    "nombre_infected       842\n",
    "nombre_sain          2111\n",
    "nombre_exposed        477\n",
    "nombre_recovered    16570\n",
    "Name: 437, dtype: int64"
   ]
  },
  {
   "cell_type": "markdown",
   "id": "b5349a8e",
   "metadata": {},
   "source": [
    "nombre_infected       850\n",
    "nombre_sain          2126\n",
    "nombre_exposed        470\n",
    "nombre_recovered    16554\n",
    "Name: 438, dtype: int64"
   ]
  },
  {
   "cell_type": "markdown",
   "id": "55f752c4",
   "metadata": {},
   "source": [
    "nombre_infected       865\n",
    "nombre_sain          2127\n",
    "nombre_exposed        482\n",
    "nombre_recovered    16526\n",
    "Name: 439, dtype: int64"
   ]
  },
  {
   "cell_type": "markdown",
   "id": "c8c4412d",
   "metadata": {},
   "source": [
    "nombre_infected       860\n",
    "nombre_sain          2113\n",
    "nombre_exposed        498\n",
    "nombre_recovered    16529\n",
    "Name: 440, dtype: int64"
   ]
  },
  {
   "cell_type": "markdown",
   "id": "43f1ebe1",
   "metadata": {},
   "source": [
    "nombre_infected       866\n",
    "nombre_sain          2114\n",
    "nombre_exposed        495\n",
    "nombre_recovered    16525\n",
    "Name: 441, dtype: int64"
   ]
  },
  {
   "cell_type": "markdown",
   "id": "76c9e005",
   "metadata": {},
   "source": [
    "nombre_infected       872\n",
    "nombre_sain          2093\n",
    "nombre_exposed        504\n",
    "nombre_recovered    16531\n",
    "Name: 442, dtype: int64"
   ]
  },
  {
   "cell_type": "markdown",
   "id": "ab00a216",
   "metadata": {},
   "source": [
    "nombre_infected       891\n",
    "nombre_sain          2088\n",
    "nombre_exposed        493\n",
    "nombre_recovered    16528\n",
    "Name: 443, dtype: int64"
   ]
  },
  {
   "cell_type": "markdown",
   "id": "fb2b2ece",
   "metadata": {},
   "source": [
    "nombre_infected       894\n",
    "nombre_sain          2079\n",
    "nombre_exposed        499\n",
    "nombre_recovered    16528\n",
    "Name: 444, dtype: int64"
   ]
  },
  {
   "cell_type": "markdown",
   "id": "9b9d522b",
   "metadata": {},
   "source": [
    "nombre_infected       877\n",
    "nombre_sain          2069\n",
    "nombre_exposed        498\n",
    "nombre_recovered    16556\n",
    "Name: 445, dtype: int64"
   ]
  },
  {
   "cell_type": "markdown",
   "id": "6ed1fb78",
   "metadata": {},
   "source": [
    "nombre_infected       873\n",
    "nombre_sain          2076\n",
    "nombre_exposed        499\n",
    "nombre_recovered    16552\n",
    "Name: 446, dtype: int64"
   ]
  },
  {
   "cell_type": "markdown",
   "id": "3dcede20",
   "metadata": {},
   "source": [
    "nombre_infected       889\n",
    "nombre_sain          2080\n",
    "nombre_exposed        479\n",
    "nombre_recovered    16552\n",
    "Name: 447, dtype: int64"
   ]
  },
  {
   "cell_type": "markdown",
   "id": "33e504ec",
   "metadata": {},
   "source": [
    "nombre_infected       893\n",
    "nombre_sain          2093\n",
    "nombre_exposed        471\n",
    "nombre_recovered    16543\n",
    "Name: 448, dtype: int64"
   ]
  },
  {
   "cell_type": "markdown",
   "id": "c8c09a02",
   "metadata": {},
   "source": [
    "nombre_infected       895\n",
    "nombre_sain          2072\n",
    "nombre_exposed        482\n",
    "nombre_recovered    16551\n",
    "Name: 449, dtype: int64"
   ]
  },
  {
   "cell_type": "markdown",
   "id": "4830baac",
   "metadata": {},
   "source": [
    "nombre_infected       895\n",
    "nombre_sain          2065\n",
    "nombre_exposed        482\n",
    "nombre_recovered    16558\n",
    "Name: 450, dtype: int64"
   ]
  },
  {
   "cell_type": "markdown",
   "id": "78d45d14",
   "metadata": {},
   "source": [
    "nombre_infected       872\n",
    "nombre_sain          2067\n",
    "nombre_exposed        483\n",
    "nombre_recovered    16578\n",
    "Name: 451, dtype: int64"
   ]
  },
  {
   "cell_type": "markdown",
   "id": "be1bdc81",
   "metadata": {},
   "source": [
    "nombre_infected       852\n",
    "nombre_sain          2077\n",
    "nombre_exposed        494\n",
    "nombre_recovered    16577\n",
    "Name: 452, dtype: int64"
   ]
  },
  {
   "cell_type": "markdown",
   "id": "24de5873",
   "metadata": {},
   "source": [
    "nombre_infected       844\n",
    "nombre_sain          2099\n",
    "nombre_exposed        493\n",
    "nombre_recovered    16564\n",
    "Name: 453, dtype: int64"
   ]
  },
  {
   "cell_type": "markdown",
   "id": "55e7a049",
   "metadata": {},
   "source": [
    "nombre_infected       841\n",
    "nombre_sain          2095\n",
    "nombre_exposed        492\n",
    "nombre_recovered    16572\n",
    "Name: 454, dtype: int64"
   ]
  },
  {
   "cell_type": "markdown",
   "id": "769eb204",
   "metadata": {},
   "source": [
    "nombre_infected       856\n",
    "nombre_sain          2107\n",
    "nombre_exposed        484\n",
    "nombre_recovered    16553\n",
    "Name: 455, dtype: int64"
   ]
  },
  {
   "cell_type": "markdown",
   "id": "cefb4678",
   "metadata": {},
   "source": [
    "nombre_infected       865\n",
    "nombre_sain          2113\n",
    "nombre_exposed        480\n",
    "nombre_recovered    16542\n",
    "Name: 456, dtype: int64"
   ]
  },
  {
   "cell_type": "markdown",
   "id": "7701e22c",
   "metadata": {},
   "source": [
    "nombre_infected       841\n",
    "nombre_sain          2119\n",
    "nombre_exposed        484\n",
    "nombre_recovered    16556\n",
    "Name: 457, dtype: int64"
   ]
  },
  {
   "cell_type": "markdown",
   "id": "b6f5528f",
   "metadata": {},
   "source": [
    "nombre_infected       846\n",
    "nombre_sain          2120\n",
    "nombre_exposed        460\n",
    "nombre_recovered    16574\n",
    "Name: 458, dtype: int64"
   ]
  },
  {
   "cell_type": "markdown",
   "id": "965c341d",
   "metadata": {},
   "source": [
    "nombre_infected       858\n",
    "nombre_sain          2128\n",
    "nombre_exposed        428\n",
    "nombre_recovered    16586\n",
    "Name: 459, dtype: int64"
   ]
  },
  {
   "cell_type": "markdown",
   "id": "21657e90",
   "metadata": {},
   "source": [
    "nombre_infected       838\n",
    "nombre_sain          2120\n",
    "nombre_exposed        459\n",
    "nombre_recovered    16583\n",
    "Name: 460, dtype: int64"
   ]
  },
  {
   "cell_type": "markdown",
   "id": "e2f63a7d",
   "metadata": {},
   "source": [
    "nombre_infected       824\n",
    "nombre_sain          2125\n",
    "nombre_exposed        468\n",
    "nombre_recovered    16583\n",
    "Name: 461, dtype: int64"
   ]
  },
  {
   "cell_type": "markdown",
   "id": "004fbf84",
   "metadata": {},
   "source": [
    "nombre_infected       813\n",
    "nombre_sain          2110\n",
    "nombre_exposed        478\n",
    "nombre_recovered    16599\n",
    "Name: 462, dtype: int64"
   ]
  },
  {
   "cell_type": "markdown",
   "id": "4bd4fbde",
   "metadata": {},
   "source": [
    "nombre_infected       807\n",
    "nombre_sain          2128\n",
    "nombre_exposed        477\n",
    "nombre_recovered    16588\n",
    "Name: 463, dtype: int64"
   ]
  },
  {
   "cell_type": "markdown",
   "id": "1ab47c9b",
   "metadata": {},
   "source": [
    "nombre_infected       808\n",
    "nombre_sain          2136\n",
    "nombre_exposed        477\n",
    "nombre_recovered    16579\n",
    "Name: 464, dtype: int64"
   ]
  },
  {
   "cell_type": "markdown",
   "id": "5fc66317",
   "metadata": {},
   "source": [
    "nombre_infected       823\n",
    "nombre_sain          2164\n",
    "nombre_exposed        470\n",
    "nombre_recovered    16543\n",
    "Name: 465, dtype: int64"
   ]
  },
  {
   "cell_type": "markdown",
   "id": "bf9a7f19",
   "metadata": {},
   "source": [
    "nombre_infected       824\n",
    "nombre_sain          2164\n",
    "nombre_exposed        468\n",
    "nombre_recovered    16544\n",
    "Name: 466, dtype: int64"
   ]
  },
  {
   "cell_type": "markdown",
   "id": "45a86fba",
   "metadata": {},
   "source": [
    "nombre_infected       819\n",
    "nombre_sain          2144\n",
    "nombre_exposed        478\n",
    "nombre_recovered    16559\n",
    "Name: 467, dtype: int64"
   ]
  },
  {
   "cell_type": "markdown",
   "id": "1aadfaa1",
   "metadata": {},
   "source": [
    "nombre_infected       835\n",
    "nombre_sain          2130\n",
    "nombre_exposed        479\n",
    "nombre_recovered    16556\n",
    "Name: 468, dtype: int64"
   ]
  },
  {
   "cell_type": "markdown",
   "id": "1df8b2d5",
   "metadata": {},
   "source": [
    "nombre_infected       835\n",
    "nombre_sain          2132\n",
    "nombre_exposed        461\n",
    "nombre_recovered    16572\n",
    "Name: 469, dtype: int64"
   ]
  },
  {
   "cell_type": "markdown",
   "id": "f90534c8",
   "metadata": {},
   "source": [
    "nombre_infected       827\n",
    "nombre_sain          2104\n",
    "nombre_exposed        477\n",
    "nombre_recovered    16592\n",
    "Name: 470, dtype: int64"
   ]
  },
  {
   "cell_type": "markdown",
   "id": "1e0db7c8",
   "metadata": {},
   "source": [
    "nombre_infected       837\n",
    "nombre_sain          2103\n",
    "nombre_exposed        478\n",
    "nombre_recovered    16582\n",
    "Name: 471, dtype: int64"
   ]
  },
  {
   "cell_type": "markdown",
   "id": "f6656e15",
   "metadata": {},
   "source": [
    "nombre_infected       843\n",
    "nombre_sain          2093\n",
    "nombre_exposed        486\n",
    "nombre_recovered    16578\n",
    "Name: 472, dtype: int64"
   ]
  },
  {
   "cell_type": "markdown",
   "id": "1b93dc37",
   "metadata": {},
   "source": [
    "nombre_infected       816\n",
    "nombre_sain          2057\n",
    "nombre_exposed        521\n",
    "nombre_recovered    16606\n",
    "Name: 473, dtype: int64"
   ]
  },
  {
   "cell_type": "markdown",
   "id": "305bb125",
   "metadata": {},
   "source": [
    "nombre_infected       829\n",
    "nombre_sain          2047\n",
    "nombre_exposed        517\n",
    "nombre_recovered    16607\n",
    "Name: 474, dtype: int64"
   ]
  },
  {
   "cell_type": "markdown",
   "id": "00bba5ca",
   "metadata": {},
   "source": [
    "nombre_infected       846\n",
    "nombre_sain          2066\n",
    "nombre_exposed        491\n",
    "nombre_recovered    16597\n",
    "Name: 475, dtype: int64"
   ]
  },
  {
   "cell_type": "markdown",
   "id": "5e1ea0d2",
   "metadata": {},
   "source": [
    "nombre_infected       856\n",
    "nombre_sain          2081\n",
    "nombre_exposed        472\n",
    "nombre_recovered    16591\n",
    "Name: 476, dtype: int64"
   ]
  },
  {
   "cell_type": "markdown",
   "id": "89a70828",
   "metadata": {},
   "source": [
    "nombre_infected       853\n",
    "nombre_sain          2094\n",
    "nombre_exposed        461\n",
    "nombre_recovered    16592\n",
    "Name: 477, dtype: int64"
   ]
  },
  {
   "cell_type": "markdown",
   "id": "31d0b6b3",
   "metadata": {},
   "source": [
    "nombre_infected       845\n",
    "nombre_sain          2089\n",
    "nombre_exposed        466\n",
    "nombre_recovered    16600\n",
    "Name: 478, dtype: int64"
   ]
  },
  {
   "cell_type": "markdown",
   "id": "c19bead3",
   "metadata": {},
   "source": [
    "nombre_infected       843\n",
    "nombre_sain          2075\n",
    "nombre_exposed        461\n",
    "nombre_recovered    16621\n",
    "Name: 479, dtype: int64"
   ]
  },
  {
   "cell_type": "markdown",
   "id": "481f4024",
   "metadata": {},
   "source": [
    "nombre_infected       845\n",
    "nombre_sain          2067\n",
    "nombre_exposed        471\n",
    "nombre_recovered    16617\n",
    "Name: 480, dtype: int64"
   ]
  },
  {
   "cell_type": "markdown",
   "id": "516b05a5",
   "metadata": {},
   "source": [
    "nombre_infected       844\n",
    "nombre_sain          2061\n",
    "nombre_exposed        471\n",
    "nombre_recovered    16624\n",
    "Name: 481, dtype: int64"
   ]
  },
  {
   "cell_type": "markdown",
   "id": "d11935a0",
   "metadata": {},
   "source": [
    "nombre_infected       820\n",
    "nombre_sain          2017\n",
    "nombre_exposed        517\n",
    "nombre_recovered    16646\n",
    "Name: 482, dtype: int64"
   ]
  },
  {
   "cell_type": "markdown",
   "id": "8aa796ed",
   "metadata": {},
   "source": [
    "nombre_infected       818\n",
    "nombre_sain          2021\n",
    "nombre_exposed        525\n",
    "nombre_recovered    16636\n",
    "Name: 483, dtype: int64"
   ]
  },
  {
   "cell_type": "markdown",
   "id": "eeb546a2",
   "metadata": {},
   "source": [
    "nombre_infected       839\n",
    "nombre_sain          2028\n",
    "nombre_exposed        502\n",
    "nombre_recovered    16631\n",
    "Name: 484, dtype: int64"
   ]
  },
  {
   "cell_type": "markdown",
   "id": "503f573a",
   "metadata": {},
   "source": [
    "nombre_infected       840\n",
    "nombre_sain          2029\n",
    "nombre_exposed        498\n",
    "nombre_recovered    16633\n",
    "Name: 485, dtype: int64"
   ]
  },
  {
   "cell_type": "markdown",
   "id": "ee623e22",
   "metadata": {},
   "source": [
    "nombre_infected       862\n",
    "nombre_sain          2022\n",
    "nombre_exposed        498\n",
    "nombre_recovered    16618\n",
    "Name: 486, dtype: int64"
   ]
  },
  {
   "cell_type": "markdown",
   "id": "44eff4e9",
   "metadata": {},
   "source": [
    "nombre_infected       876\n",
    "nombre_sain          2023\n",
    "nombre_exposed        474\n",
    "nombre_recovered    16627\n",
    "Name: 487, dtype: int64"
   ]
  },
  {
   "cell_type": "markdown",
   "id": "9cc17409",
   "metadata": {},
   "source": [
    "nombre_infected       878\n",
    "nombre_sain          2026\n",
    "nombre_exposed        453\n",
    "nombre_recovered    16643\n",
    "Name: 488, dtype: int64"
   ]
  },
  {
   "cell_type": "markdown",
   "id": "7a2206c4",
   "metadata": {},
   "source": [
    "nombre_infected       899\n",
    "nombre_sain          2036\n",
    "nombre_exposed        437\n",
    "nombre_recovered    16628\n",
    "Name: 489, dtype: int64"
   ]
  },
  {
   "cell_type": "markdown",
   "id": "ef5d26cd",
   "metadata": {},
   "source": [
    "nombre_infected       879\n",
    "nombre_sain          2038\n",
    "nombre_exposed        443\n",
    "nombre_recovered    16640\n",
    "Name: 490, dtype: int64"
   ]
  },
  {
   "cell_type": "markdown",
   "id": "010cc9b4",
   "metadata": {},
   "source": [
    "nombre_infected       847\n",
    "nombre_sain          2049\n",
    "nombre_exposed        463\n",
    "nombre_recovered    16641\n",
    "Name: 491, dtype: int64"
   ]
  },
  {
   "cell_type": "markdown",
   "id": "45b720a6",
   "metadata": {},
   "source": [
    "nombre_infected       845\n",
    "nombre_sain          2035\n",
    "nombre_exposed        462\n",
    "nombre_recovered    16658\n",
    "Name: 492, dtype: int64"
   ]
  },
  {
   "cell_type": "markdown",
   "id": "629be4b8",
   "metadata": {},
   "source": [
    "nombre_infected       856\n",
    "nombre_sain          2034\n",
    "nombre_exposed        448\n",
    "nombre_recovered    16662\n",
    "Name: 493, dtype: int64"
   ]
  },
  {
   "cell_type": "markdown",
   "id": "009efd13",
   "metadata": {},
   "source": [
    "nombre_infected       845\n",
    "nombre_sain          2004\n",
    "nombre_exposed        473\n",
    "nombre_recovered    16678\n",
    "Name: 494, dtype: int64"
   ]
  },
  {
   "cell_type": "markdown",
   "id": "63ba7467",
   "metadata": {},
   "source": [
    "nombre_infected       839\n",
    "nombre_sain          1993\n",
    "nombre_exposed        477\n",
    "nombre_recovered    16691\n",
    "Name: 495, dtype: int64"
   ]
  },
  {
   "cell_type": "markdown",
   "id": "688feb8f",
   "metadata": {},
   "source": [
    "nombre_infected       845\n",
    "nombre_sain          2005\n",
    "nombre_exposed        467\n",
    "nombre_recovered    16683\n",
    "Name: 496, dtype: int64"
   ]
  },
  {
   "cell_type": "markdown",
   "id": "a3d6a2b2",
   "metadata": {},
   "source": [
    "nombre_infected       834\n",
    "nombre_sain          2006\n",
    "nombre_exposed        456\n",
    "nombre_recovered    16704\n",
    "Name: 497, dtype: int64"
   ]
  },
  {
   "cell_type": "markdown",
   "id": "e7498b6b",
   "metadata": {},
   "source": [
    "nombre_infected       819\n",
    "nombre_sain          1972\n",
    "nombre_exposed        501\n",
    "nombre_recovered    16708\n",
    "Name: 498, dtype: int64"
   ]
  },
  {
   "cell_type": "markdown",
   "id": "4acdbcc5",
   "metadata": {},
   "source": [
    "nombre_infected       818\n",
    "nombre_sain          1978\n",
    "nombre_exposed        489\n",
    "nombre_recovered    16715\n",
    "Name: 499, dtype: int64"
   ]
  },
  {
   "cell_type": "markdown",
   "id": "3eea924d",
   "metadata": {},
   "source": [
    "nombre_infected       805\n",
    "nombre_sain          2002\n",
    "nombre_exposed        468\n",
    "nombre_recovered    16725\n",
    "Name: 500, dtype: int64"
   ]
  },
  {
   "cell_type": "markdown",
   "id": "c13ad780",
   "metadata": {},
   "source": [
    "nombre_infected       803\n",
    "nombre_sain          2003\n",
    "nombre_exposed        471\n",
    "nombre_recovered    16723\n",
    "Name: 501, dtype: int64"
   ]
  },
  {
   "cell_type": "markdown",
   "id": "4676df5d",
   "metadata": {},
   "source": [
    "nombre_infected       795\n",
    "nombre_sain          2025\n",
    "nombre_exposed        467\n",
    "nombre_recovered    16713\n",
    "Name: 502, dtype: int64"
   ]
  },
  {
   "cell_type": "markdown",
   "id": "5d0815dd",
   "metadata": {},
   "source": [
    "nombre_infected       768\n",
    "nombre_sain          2058\n",
    "nombre_exposed        468\n",
    "nombre_recovered    16706\n",
    "Name: 503, dtype: int64"
   ]
  },
  {
   "cell_type": "markdown",
   "id": "39849163",
   "metadata": {},
   "source": [
    "nombre_infected       784\n",
    "nombre_sain          2065\n",
    "nombre_exposed        480\n",
    "nombre_recovered    16671\n",
    "Name: 504, dtype: int64"
   ]
  },
  {
   "cell_type": "markdown",
   "id": "c1246400",
   "metadata": {},
   "source": [
    "nombre_infected       793\n",
    "nombre_sain          2090\n",
    "nombre_exposed        476\n",
    "nombre_recovered    16641\n",
    "Name: 505, dtype: int64"
   ]
  },
  {
   "cell_type": "markdown",
   "id": "b64bcf86",
   "metadata": {},
   "source": [
    "nombre_infected       788\n",
    "nombre_sain          2108\n",
    "nombre_exposed        471\n",
    "nombre_recovered    16633\n",
    "Name: 506, dtype: int64"
   ]
  },
  {
   "cell_type": "markdown",
   "id": "cf9e60d5",
   "metadata": {},
   "source": [
    "nombre_infected       768\n",
    "nombre_sain          2140\n",
    "nombre_exposed        470\n",
    "nombre_recovered    16622\n",
    "Name: 507, dtype: int64"
   ]
  },
  {
   "cell_type": "markdown",
   "id": "e949e9c0",
   "metadata": {},
   "source": [
    "nombre_infected       780\n",
    "nombre_sain          2146\n",
    "nombre_exposed        477\n",
    "nombre_recovered    16597\n",
    "Name: 508, dtype: int64"
   ]
  },
  {
   "cell_type": "markdown",
   "id": "eb55be67",
   "metadata": {},
   "source": [
    "nombre_infected       779\n",
    "nombre_sain          2154\n",
    "nombre_exposed        491\n",
    "nombre_recovered    16576\n",
    "Name: 509, dtype: int64"
   ]
  },
  {
   "cell_type": "markdown",
   "id": "55bae01e",
   "metadata": {},
   "source": [
    "nombre_infected       774\n",
    "nombre_sain          2179\n",
    "nombre_exposed        499\n",
    "nombre_recovered    16548\n",
    "Name: 510, dtype: int64"
   ]
  },
  {
   "cell_type": "markdown",
   "id": "46049f0b",
   "metadata": {},
   "source": [
    "nombre_infected       767\n",
    "nombre_sain          2207\n",
    "nombre_exposed        512\n",
    "nombre_recovered    16514\n",
    "Name: 511, dtype: int64"
   ]
  },
  {
   "cell_type": "markdown",
   "id": "0839b1c3",
   "metadata": {},
   "source": [
    "nombre_infected       764\n",
    "nombre_sain          2236\n",
    "nombre_exposed        498\n",
    "nombre_recovered    16502\n",
    "Name: 512, dtype: int64"
   ]
  },
  {
   "cell_type": "markdown",
   "id": "a4ffb7e1",
   "metadata": {},
   "source": [
    "nombre_infected       761\n",
    "nombre_sain          2238\n",
    "nombre_exposed        503\n",
    "nombre_recovered    16498\n",
    "Name: 513, dtype: int64"
   ]
  },
  {
   "cell_type": "markdown",
   "id": "75010280",
   "metadata": {},
   "source": [
    "nombre_infected       800\n",
    "nombre_sain          2216\n",
    "nombre_exposed        518\n",
    "nombre_recovered    16466\n",
    "Name: 514, dtype: int64"
   ]
  },
  {
   "cell_type": "markdown",
   "id": "3813c333",
   "metadata": {},
   "source": [
    "nombre_infected       807\n",
    "nombre_sain          2225\n",
    "nombre_exposed        524\n",
    "nombre_recovered    16444\n",
    "Name: 515, dtype: int64"
   ]
  },
  {
   "cell_type": "markdown",
   "id": "6c290a5b",
   "metadata": {},
   "source": [
    "nombre_infected       826\n",
    "nombre_sain          2219\n",
    "nombre_exposed        512\n",
    "nombre_recovered    16443\n",
    "Name: 516, dtype: int64"
   ]
  },
  {
   "cell_type": "markdown",
   "id": "6ffb938d",
   "metadata": {},
   "source": [
    "nombre_infected       842\n",
    "nombre_sain          2208\n",
    "nombre_exposed        504\n",
    "nombre_recovered    16446\n",
    "Name: 517, dtype: int64"
   ]
  },
  {
   "cell_type": "markdown",
   "id": "f8038144",
   "metadata": {},
   "source": [
    "nombre_infected       824\n",
    "nombre_sain          2198\n",
    "nombre_exposed        519\n",
    "nombre_recovered    16459\n",
    "Name: 518, dtype: int64"
   ]
  },
  {
   "cell_type": "markdown",
   "id": "6af511fe",
   "metadata": {},
   "source": [
    "nombre_infected       805\n",
    "nombre_sain          2190\n",
    "nombre_exposed        524\n",
    "nombre_recovered    16481\n",
    "Name: 519, dtype: int64"
   ]
  },
  {
   "cell_type": "markdown",
   "id": "d7e2f301",
   "metadata": {},
   "source": [
    "nombre_infected       810\n",
    "nombre_sain          2187\n",
    "nombre_exposed        505\n",
    "nombre_recovered    16498\n",
    "Name: 520, dtype: int64"
   ]
  },
  {
   "cell_type": "markdown",
   "id": "ca80aa4f",
   "metadata": {},
   "source": [
    "nombre_infected       825\n",
    "nombre_sain          2179\n",
    "nombre_exposed        506\n",
    "nombre_recovered    16490\n",
    "Name: 521, dtype: int64"
   ]
  },
  {
   "cell_type": "markdown",
   "id": "ca2135d9",
   "metadata": {},
   "source": [
    "nombre_infected       841\n",
    "nombre_sain          2171\n",
    "nombre_exposed        513\n",
    "nombre_recovered    16475\n",
    "Name: 522, dtype: int64"
   ]
  },
  {
   "cell_type": "markdown",
   "id": "c1dcf2b0",
   "metadata": {},
   "source": [
    "nombre_infected       872\n",
    "nombre_sain          2134\n",
    "nombre_exposed        521\n",
    "nombre_recovered    16473\n",
    "Name: 523, dtype: int64"
   ]
  },
  {
   "cell_type": "markdown",
   "id": "904bf6e5",
   "metadata": {},
   "source": [
    "nombre_infected       856\n",
    "nombre_sain          2148\n",
    "nombre_exposed        512\n",
    "nombre_recovered    16484\n",
    "Name: 524, dtype: int64"
   ]
  },
  {
   "cell_type": "markdown",
   "id": "041fd887",
   "metadata": {},
   "source": [
    "nombre_infected       852\n",
    "nombre_sain          2116\n",
    "nombre_exposed        524\n",
    "nombre_recovered    16508\n",
    "Name: 525, dtype: int64"
   ]
  },
  {
   "cell_type": "markdown",
   "id": "471818bc",
   "metadata": {},
   "source": [
    "nombre_infected       850\n",
    "nombre_sain          2088\n",
    "nombre_exposed        533\n",
    "nombre_recovered    16529\n",
    "Name: 526, dtype: int64"
   ]
  },
  {
   "cell_type": "markdown",
   "id": "b91b75cf",
   "metadata": {},
   "source": [
    "nombre_infected       850\n",
    "nombre_sain          2077\n",
    "nombre_exposed        545\n",
    "nombre_recovered    16528\n",
    "Name: 527, dtype: int64"
   ]
  },
  {
   "cell_type": "markdown",
   "id": "2b87d03e",
   "metadata": {},
   "source": [
    "nombre_infected       865\n",
    "nombre_sain          2055\n",
    "nombre_exposed        541\n",
    "nombre_recovered    16539\n",
    "Name: 528, dtype: int64"
   ]
  },
  {
   "cell_type": "markdown",
   "id": "3fca2668",
   "metadata": {},
   "source": [
    "nombre_infected       855\n",
    "nombre_sain          2044\n",
    "nombre_exposed        536\n",
    "nombre_recovered    16565\n",
    "Name: 529, dtype: int64"
   ]
  },
  {
   "cell_type": "markdown",
   "id": "d6b827cd",
   "metadata": {},
   "source": [
    "nombre_infected       836\n",
    "nombre_sain          2040\n",
    "nombre_exposed        520\n",
    "nombre_recovered    16604\n",
    "Name: 530, dtype: int64"
   ]
  },
  {
   "cell_type": "markdown",
   "id": "03d25f08",
   "metadata": {},
   "source": [
    "nombre_infected       830\n",
    "nombre_sain          2029\n",
    "nombre_exposed        502\n",
    "nombre_recovered    16639\n",
    "Name: 531, dtype: int64"
   ]
  },
  {
   "cell_type": "markdown",
   "id": "03ecf200",
   "metadata": {},
   "source": [
    "nombre_infected       833\n",
    "nombre_sain          2026\n",
    "nombre_exposed        473\n",
    "nombre_recovered    16668\n",
    "Name: 532, dtype: int64"
   ]
  },
  {
   "cell_type": "markdown",
   "id": "98ce13a0",
   "metadata": {},
   "source": [
    "nombre_infected       830\n",
    "nombre_sain          2030\n",
    "nombre_exposed        458\n",
    "nombre_recovered    16682\n",
    "Name: 533, dtype: int64"
   ]
  },
  {
   "cell_type": "markdown",
   "id": "c6d95e08",
   "metadata": {},
   "source": [
    "nombre_infected       810\n",
    "nombre_sain          2024\n",
    "nombre_exposed        460\n",
    "nombre_recovered    16706\n",
    "Name: 534, dtype: int64"
   ]
  },
  {
   "cell_type": "markdown",
   "id": "3e26ecf4",
   "metadata": {},
   "source": [
    "nombre_infected       811\n",
    "nombre_sain          2023\n",
    "nombre_exposed        460\n",
    "nombre_recovered    16706\n",
    "Name: 535, dtype: int64"
   ]
  },
  {
   "cell_type": "markdown",
   "id": "55e5850c",
   "metadata": {},
   "source": [
    "nombre_infected       808\n",
    "nombre_sain          2027\n",
    "nombre_exposed        446\n",
    "nombre_recovered    16719\n",
    "Name: 536, dtype: int64"
   ]
  },
  {
   "cell_type": "markdown",
   "id": "46c34c14",
   "metadata": {},
   "source": [
    "nombre_infected       808\n",
    "nombre_sain          2035\n",
    "nombre_exposed        442\n",
    "nombre_recovered    16715\n",
    "Name: 537, dtype: int64"
   ]
  },
  {
   "cell_type": "markdown",
   "id": "7f4be0e0",
   "metadata": {},
   "source": [
    "nombre_infected       807\n",
    "nombre_sain          2021\n",
    "nombre_exposed        456\n",
    "nombre_recovered    16716\n",
    "Name: 538, dtype: int64"
   ]
  },
  {
   "cell_type": "markdown",
   "id": "a4358710",
   "metadata": {},
   "source": [
    "nombre_infected       791\n",
    "nombre_sain          2028\n",
    "nombre_exposed        450\n",
    "nombre_recovered    16731\n",
    "Name: 539, dtype: int64"
   ]
  },
  {
   "cell_type": "markdown",
   "id": "4f3b7ca7",
   "metadata": {},
   "source": [
    "nombre_infected       810\n",
    "nombre_sain          2061\n",
    "nombre_exposed        423\n",
    "nombre_recovered    16706\n",
    "Name: 540, dtype: int64"
   ]
  },
  {
   "cell_type": "markdown",
   "id": "063ce7ad",
   "metadata": {},
   "source": [
    "nombre_infected       814\n",
    "nombre_sain          2083\n",
    "nombre_exposed        403\n",
    "nombre_recovered    16700\n",
    "Name: 541, dtype: int64"
   ]
  },
  {
   "cell_type": "markdown",
   "id": "70f7592a",
   "metadata": {},
   "source": [
    "nombre_infected       772\n",
    "nombre_sain          2085\n",
    "nombre_exposed        429\n",
    "nombre_recovered    16714\n",
    "Name: 542, dtype: int64"
   ]
  },
  {
   "cell_type": "markdown",
   "id": "95dd69d8",
   "metadata": {},
   "source": [
    "nombre_infected       740\n",
    "nombre_sain          2070\n",
    "nombre_exposed        462\n",
    "nombre_recovered    16728\n",
    "Name: 543, dtype: int64"
   ]
  },
  {
   "cell_type": "markdown",
   "id": "b655f8cc",
   "metadata": {},
   "source": [
    "nombre_infected       741\n",
    "nombre_sain          2112\n",
    "nombre_exposed        459\n",
    "nombre_recovered    16688\n",
    "Name: 544, dtype: int64"
   ]
  },
  {
   "cell_type": "markdown",
   "id": "2bc31920",
   "metadata": {},
   "source": [
    "nombre_infected       760\n",
    "nombre_sain          2104\n",
    "nombre_exposed        463\n",
    "nombre_recovered    16673\n",
    "Name: 545, dtype: int64"
   ]
  },
  {
   "cell_type": "markdown",
   "id": "916b09c9",
   "metadata": {},
   "source": [
    "nombre_infected       783\n",
    "nombre_sain          2112\n",
    "nombre_exposed        480\n",
    "nombre_recovered    16625\n",
    "Name: 546, dtype: int64"
   ]
  },
  {
   "cell_type": "markdown",
   "id": "59467d63",
   "metadata": {},
   "source": [
    "nombre_infected       800\n",
    "nombre_sain          2141\n",
    "nombre_exposed        477\n",
    "nombre_recovered    16582\n",
    "Name: 547, dtype: int64"
   ]
  },
  {
   "cell_type": "markdown",
   "id": "cccfa9ab",
   "metadata": {},
   "source": [
    "nombre_infected       784\n",
    "nombre_sain          2128\n",
    "nombre_exposed        496\n",
    "nombre_recovered    16592\n",
    "Name: 548, dtype: int64"
   ]
  },
  {
   "cell_type": "markdown",
   "id": "c0fe289c",
   "metadata": {},
   "source": [
    "nombre_infected       787\n",
    "nombre_sain          2165\n",
    "nombre_exposed        489\n",
    "nombre_recovered    16559\n",
    "Name: 549, dtype: int64"
   ]
  },
  {
   "cell_type": "markdown",
   "id": "764af59a",
   "metadata": {},
   "source": [
    "nombre_infected       781\n",
    "nombre_sain          2205\n",
    "nombre_exposed        492\n",
    "nombre_recovered    16522\n",
    "Name: 550, dtype: int64"
   ]
  },
  {
   "cell_type": "markdown",
   "id": "d701813e",
   "metadata": {},
   "source": [
    "nombre_infected       824\n",
    "nombre_sain          2202\n",
    "nombre_exposed        469\n",
    "nombre_recovered    16505\n",
    "Name: 551, dtype: int64"
   ]
  },
  {
   "cell_type": "markdown",
   "id": "fd06d42a",
   "metadata": {},
   "source": [
    "nombre_infected       826\n",
    "nombre_sain          2213\n",
    "nombre_exposed        474\n",
    "nombre_recovered    16487\n",
    "Name: 552, dtype: int64"
   ]
  },
  {
   "cell_type": "markdown",
   "id": "f3e2913f",
   "metadata": {},
   "source": [
    "nombre_infected       837\n",
    "nombre_sain          2253\n",
    "nombre_exposed        479\n",
    "nombre_recovered    16431\n",
    "Name: 553, dtype: int64"
   ]
  },
  {
   "cell_type": "markdown",
   "id": "582f0942",
   "metadata": {},
   "source": [
    "nombre_infected       837\n",
    "nombre_sain          2230\n",
    "nombre_exposed        509\n",
    "nombre_recovered    16424\n",
    "Name: 554, dtype: int64"
   ]
  },
  {
   "cell_type": "markdown",
   "id": "b4e060db",
   "metadata": {},
   "source": [
    "nombre_infected       854\n",
    "nombre_sain          2236\n",
    "nombre_exposed        508\n",
    "nombre_recovered    16402\n",
    "Name: 555, dtype: int64"
   ]
  },
  {
   "cell_type": "markdown",
   "id": "2368e934",
   "metadata": {},
   "source": [
    "nombre_infected       853\n",
    "nombre_sain          2237\n",
    "nombre_exposed        523\n",
    "nombre_recovered    16387\n",
    "Name: 556, dtype: int64"
   ]
  },
  {
   "cell_type": "markdown",
   "id": "d25ff2f0",
   "metadata": {},
   "source": [
    "nombre_infected       858\n",
    "nombre_sain          2226\n",
    "nombre_exposed        520\n",
    "nombre_recovered    16396\n",
    "Name: 557, dtype: int64"
   ]
  },
  {
   "cell_type": "markdown",
   "id": "c09f9468",
   "metadata": {},
   "source": [
    "nombre_infected       875\n",
    "nombre_sain          2245\n",
    "nombre_exposed        496\n",
    "nombre_recovered    16384\n",
    "Name: 558, dtype: int64"
   ]
  },
  {
   "cell_type": "markdown",
   "id": "6753cdc5",
   "metadata": {},
   "source": [
    "nombre_infected       885\n",
    "nombre_sain          2246\n",
    "nombre_exposed        503\n",
    "nombre_recovered    16366\n",
    "Name: 559, dtype: int64"
   ]
  },
  {
   "cell_type": "markdown",
   "id": "abdfab0e",
   "metadata": {},
   "source": [
    "nombre_infected       889\n",
    "nombre_sain          2270\n",
    "nombre_exposed        494\n",
    "nombre_recovered    16347\n",
    "Name: 560, dtype: int64"
   ]
  },
  {
   "cell_type": "markdown",
   "id": "746770d8",
   "metadata": {},
   "source": [
    "nombre_infected       895\n",
    "nombre_sain          2242\n",
    "nombre_exposed        524\n",
    "nombre_recovered    16339\n",
    "Name: 561, dtype: int64"
   ]
  },
  {
   "cell_type": "markdown",
   "id": "94aa2451",
   "metadata": {},
   "source": [
    "nombre_infected       918\n",
    "nombre_sain          2251\n",
    "nombre_exposed        534\n",
    "nombre_recovered    16297\n",
    "Name: 562, dtype: int64"
   ]
  },
  {
   "cell_type": "markdown",
   "id": "e642fcf7",
   "metadata": {},
   "source": [
    "nombre_infected       932\n",
    "nombre_sain          2255\n",
    "nombre_exposed        542\n",
    "nombre_recovered    16271\n",
    "Name: 563, dtype: int64"
   ]
  },
  {
   "cell_type": "markdown",
   "id": "b31ddf8e",
   "metadata": {},
   "source": [
    "nombre_infected       910\n",
    "nombre_sain          2280\n",
    "nombre_exposed        544\n",
    "nombre_recovered    16266\n",
    "Name: 564, dtype: int64"
   ]
  },
  {
   "cell_type": "markdown",
   "id": "82c91107",
   "metadata": {},
   "source": [
    "nombre_infected       922\n",
    "nombre_sain          2285\n",
    "nombre_exposed        561\n",
    "nombre_recovered    16232\n",
    "Name: 565, dtype: int64"
   ]
  },
  {
   "cell_type": "markdown",
   "id": "5b03017b",
   "metadata": {},
   "source": [
    "nombre_infected       931\n",
    "nombre_sain          2306\n",
    "nombre_exposed        554\n",
    "nombre_recovered    16209\n",
    "Name: 566, dtype: int64"
   ]
  },
  {
   "cell_type": "markdown",
   "id": "d2439afb",
   "metadata": {},
   "source": [
    "nombre_infected       942\n",
    "nombre_sain          2296\n",
    "nombre_exposed        568\n",
    "nombre_recovered    16194\n",
    "Name: 567, dtype: int64"
   ]
  },
  {
   "cell_type": "markdown",
   "id": "1695146b",
   "metadata": {},
   "source": [
    "nombre_infected       967\n",
    "nombre_sain          2297\n",
    "nombre_exposed        554\n",
    "nombre_recovered    16182\n",
    "Name: 568, dtype: int64"
   ]
  },
  {
   "cell_type": "markdown",
   "id": "642046a2",
   "metadata": {},
   "source": [
    "nombre_infected       993\n",
    "nombre_sain          2312\n",
    "nombre_exposed        537\n",
    "nombre_recovered    16158\n",
    "Name: 569, dtype: int64"
   ]
  },
  {
   "cell_type": "markdown",
   "id": "993472de",
   "metadata": {},
   "source": [
    "nombre_infected      1008\n",
    "nombre_sain          2327\n",
    "nombre_exposed        535\n",
    "nombre_recovered    16130\n",
    "Name: 570, dtype: int64"
   ]
  },
  {
   "cell_type": "markdown",
   "id": "5da9a51a",
   "metadata": {},
   "source": [
    "nombre_infected      1023\n",
    "nombre_sain          2303\n",
    "nombre_exposed        555\n",
    "nombre_recovered    16119\n",
    "Name: 571, dtype: int64"
   ]
  },
  {
   "cell_type": "markdown",
   "id": "0244242a",
   "metadata": {},
   "source": [
    "nombre_infected      1014\n",
    "nombre_sain          2309\n",
    "nombre_exposed        552\n",
    "nombre_recovered    16125\n",
    "Name: 572, dtype: int64"
   ]
  },
  {
   "cell_type": "markdown",
   "id": "ed25975a",
   "metadata": {},
   "source": [
    "nombre_infected      1035\n",
    "nombre_sain          2292\n",
    "nombre_exposed        568\n",
    "nombre_recovered    16105\n",
    "Name: 573, dtype: int64"
   ]
  },
  {
   "cell_type": "markdown",
   "id": "46c7cfdc",
   "metadata": {},
   "source": [
    "nombre_infected      1019\n",
    "nombre_sain          2284\n",
    "nombre_exposed        611\n",
    "nombre_recovered    16086\n",
    "Name: 574, dtype: int64"
   ]
  },
  {
   "cell_type": "markdown",
   "id": "b4866f05",
   "metadata": {},
   "source": [
    "nombre_infected      1040\n",
    "nombre_sain          2241\n",
    "nombre_exposed        638\n",
    "nombre_recovered    16081\n",
    "Name: 575, dtype: int64"
   ]
  },
  {
   "cell_type": "markdown",
   "id": "2ce62248",
   "metadata": {},
   "source": [
    "nombre_infected      1068\n",
    "nombre_sain          2186\n",
    "nombre_exposed        635\n",
    "nombre_recovered    16111\n",
    "Name: 576, dtype: int64"
   ]
  },
  {
   "cell_type": "markdown",
   "id": "02aad6af",
   "metadata": {},
   "source": [
    "nombre_infected      1102\n",
    "nombre_sain          2168\n",
    "nombre_exposed        621\n",
    "nombre_recovered    16109\n",
    "Name: 577, dtype: int64"
   ]
  },
  {
   "cell_type": "markdown",
   "id": "7a7303fa",
   "metadata": {},
   "source": [
    "nombre_infected      1136\n",
    "nombre_sain          2143\n",
    "nombre_exposed        594\n",
    "nombre_recovered    16127\n",
    "Name: 578, dtype: int64"
   ]
  },
  {
   "cell_type": "markdown",
   "id": "5f15c3ac",
   "metadata": {},
   "source": [
    "nombre_infected      1128\n",
    "nombre_sain          2107\n",
    "nombre_exposed        599\n",
    "nombre_recovered    16166\n",
    "Name: 579, dtype: int64"
   ]
  },
  {
   "cell_type": "markdown",
   "id": "78b308e0",
   "metadata": {},
   "source": [
    "nombre_infected      1145\n",
    "nombre_sain          2046\n",
    "nombre_exposed        608\n",
    "nombre_recovered    16201\n",
    "Name: 580, dtype: int64"
   ]
  },
  {
   "cell_type": "markdown",
   "id": "3fb7ecd9",
   "metadata": {},
   "source": [
    "nombre_infected      1125\n",
    "nombre_sain          2044\n",
    "nombre_exposed        613\n",
    "nombre_recovered    16218\n",
    "Name: 581, dtype: int64"
   ]
  },
  {
   "cell_type": "markdown",
   "id": "1dc080aa",
   "metadata": {},
   "source": [
    "nombre_infected      1123\n",
    "nombre_sain          2036\n",
    "nombre_exposed        579\n",
    "nombre_recovered    16262\n",
    "Name: 582, dtype: int64"
   ]
  },
  {
   "cell_type": "markdown",
   "id": "ae40c158",
   "metadata": {},
   "source": [
    "nombre_infected      1145\n",
    "nombre_sain          2001\n",
    "nombre_exposed        569\n",
    "nombre_recovered    16285\n",
    "Name: 583, dtype: int64"
   ]
  },
  {
   "cell_type": "markdown",
   "id": "d67d087d",
   "metadata": {},
   "source": [
    "nombre_infected      1137\n",
    "nombre_sain          1994\n",
    "nombre_exposed        579\n",
    "nombre_recovered    16290\n",
    "Name: 584, dtype: int64"
   ]
  },
  {
   "cell_type": "markdown",
   "id": "f4ff71c2",
   "metadata": {},
   "source": [
    "nombre_infected      1135\n",
    "nombre_sain          1955\n",
    "nombre_exposed        580\n",
    "nombre_recovered    16330\n",
    "Name: 585, dtype: int64"
   ]
  },
  {
   "cell_type": "markdown",
   "id": "92d02b23",
   "metadata": {},
   "source": [
    "nombre_infected      1111\n",
    "nombre_sain          1940\n",
    "nombre_exposed        591\n",
    "nombre_recovered    16358\n",
    "Name: 586, dtype: int64"
   ]
  },
  {
   "cell_type": "markdown",
   "id": "8f64d221",
   "metadata": {},
   "source": [
    "nombre_infected      1076\n",
    "nombre_sain          1931\n",
    "nombre_exposed        598\n",
    "nombre_recovered    16395\n",
    "Name: 587, dtype: int64"
   ]
  },
  {
   "cell_type": "markdown",
   "id": "c763cb29",
   "metadata": {},
   "source": [
    "nombre_infected      1044\n",
    "nombre_sain          1915\n",
    "nombre_exposed        620\n",
    "nombre_recovered    16421\n",
    "Name: 588, dtype: int64"
   ]
  },
  {
   "cell_type": "markdown",
   "id": "3515fc9a",
   "metadata": {},
   "source": [
    "nombre_infected      1072\n",
    "nombre_sain          1954\n",
    "nombre_exposed        556\n",
    "nombre_recovered    16418\n",
    "Name: 589, dtype: int64"
   ]
  },
  {
   "cell_type": "markdown",
   "id": "5821285a",
   "metadata": {},
   "source": [
    "nombre_infected      1069\n",
    "nombre_sain          1938\n",
    "nombre_exposed        555\n",
    "nombre_recovered    16438\n",
    "Name: 590, dtype: int64"
   ]
  },
  {
   "cell_type": "markdown",
   "id": "9cf69614",
   "metadata": {},
   "source": [
    "nombre_infected      1053\n",
    "nombre_sain          1906\n",
    "nombre_exposed        580\n",
    "nombre_recovered    16461\n",
    "Name: 591, dtype: int64"
   ]
  },
  {
   "cell_type": "markdown",
   "id": "cfaaf464",
   "metadata": {},
   "source": [
    "nombre_infected      1053\n",
    "nombre_sain          1924\n",
    "nombre_exposed        561\n",
    "nombre_recovered    16462\n",
    "Name: 592, dtype: int64"
   ]
  },
  {
   "cell_type": "markdown",
   "id": "31cbbef4",
   "metadata": {},
   "source": [
    "nombre_infected      1044\n",
    "nombre_sain          1929\n",
    "nombre_exposed        546\n",
    "nombre_recovered    16481\n",
    "Name: 593, dtype: int64"
   ]
  },
  {
   "cell_type": "markdown",
   "id": "ce0cced8",
   "metadata": {},
   "source": [
    "nombre_infected      1074\n",
    "nombre_sain          1929\n",
    "nombre_exposed        531\n",
    "nombre_recovered    16466\n",
    "Name: 594, dtype: int64"
   ]
  },
  {
   "cell_type": "markdown",
   "id": "6cd93a43",
   "metadata": {},
   "source": [
    "nombre_infected      1062\n",
    "nombre_sain          1938\n",
    "nombre_exposed        538\n",
    "nombre_recovered    16462\n",
    "Name: 595, dtype: int64"
   ]
  },
  {
   "cell_type": "markdown",
   "id": "79bec905",
   "metadata": {},
   "source": [
    "nombre_infected      1017\n",
    "nombre_sain          1933\n",
    "nombre_exposed        537\n",
    "nombre_recovered    16513\n",
    "Name: 596, dtype: int64"
   ]
  },
  {
   "cell_type": "markdown",
   "id": "7c83c928",
   "metadata": {},
   "source": [
    "nombre_infected       999\n",
    "nombre_sain          1952\n",
    "nombre_exposed        533\n",
    "nombre_recovered    16516\n",
    "Name: 597, dtype: int64"
   ]
  },
  {
   "cell_type": "markdown",
   "id": "1377921d",
   "metadata": {},
   "source": [
    "nombre_infected      1004\n",
    "nombre_sain          1977\n",
    "nombre_exposed        517\n",
    "nombre_recovered    16502\n",
    "Name: 598, dtype: int64"
   ]
  },
  {
   "cell_type": "markdown",
   "id": "b755e333",
   "metadata": {},
   "source": [
    "nombre_infected      1014\n",
    "nombre_sain          1994\n",
    "nombre_exposed        487\n",
    "nombre_recovered    16505\n",
    "Name: 599, dtype: int64"
   ]
  },
  {
   "cell_type": "markdown",
   "id": "935c8457",
   "metadata": {},
   "source": [
    "nombre_infected       983\n",
    "nombre_sain          2007\n",
    "nombre_exposed        498\n",
    "nombre_recovered    16512\n",
    "Name: 600, dtype: int64"
   ]
  },
  {
   "cell_type": "markdown",
   "id": "8b45b108",
   "metadata": {},
   "source": [
    "nombre_infected       957\n",
    "nombre_sain          2021\n",
    "nombre_exposed        498\n",
    "nombre_recovered    16524\n",
    "Name: 601, dtype: int64"
   ]
  },
  {
   "cell_type": "markdown",
   "id": "a3f17f3f",
   "metadata": {},
   "source": [
    "nombre_infected       965\n",
    "nombre_sain          2044\n",
    "nombre_exposed        512\n",
    "nombre_recovered    16479\n",
    "Name: 602, dtype: int64"
   ]
  },
  {
   "cell_type": "markdown",
   "id": "2dbff9e1",
   "metadata": {},
   "source": [
    "nombre_infected       945\n",
    "nombre_sain          2059\n",
    "nombre_exposed        505\n",
    "nombre_recovered    16491\n",
    "Name: 603, dtype: int64"
   ]
  },
  {
   "cell_type": "markdown",
   "id": "d410e24b",
   "metadata": {},
   "source": [
    "nombre_infected       915\n",
    "nombre_sain          2046\n",
    "nombre_exposed        525\n",
    "nombre_recovered    16514\n",
    "Name: 604, dtype: int64"
   ]
  },
  {
   "cell_type": "markdown",
   "id": "bd6e80f7",
   "metadata": {},
   "source": [
    "nombre_infected       904\n",
    "nombre_sain          2028\n",
    "nombre_exposed        544\n",
    "nombre_recovered    16524\n",
    "Name: 605, dtype: int64"
   ]
  },
  {
   "cell_type": "markdown",
   "id": "5b2dd1de",
   "metadata": {},
   "source": [
    "nombre_infected       930\n",
    "nombre_sain          2023\n",
    "nombre_exposed        532\n",
    "nombre_recovered    16515\n",
    "Name: 606, dtype: int64"
   ]
  },
  {
   "cell_type": "markdown",
   "id": "91d43043",
   "metadata": {},
   "source": [
    "nombre_infected       948\n",
    "nombre_sain          2028\n",
    "nombre_exposed        521\n",
    "nombre_recovered    16503\n",
    "Name: 607, dtype: int64"
   ]
  },
  {
   "cell_type": "markdown",
   "id": "8da18fd7",
   "metadata": {},
   "source": [
    "nombre_infected       949\n",
    "nombre_sain          2024\n",
    "nombre_exposed        522\n",
    "nombre_recovered    16505\n",
    "Name: 608, dtype: int64"
   ]
  },
  {
   "cell_type": "markdown",
   "id": "059f9a17",
   "metadata": {},
   "source": [
    "nombre_infected       944\n",
    "nombre_sain          2044\n",
    "nombre_exposed        530\n",
    "nombre_recovered    16482\n",
    "Name: 609, dtype: int64"
   ]
  },
  {
   "cell_type": "markdown",
   "id": "aac82f41",
   "metadata": {},
   "source": [
    "nombre_infected       953\n",
    "nombre_sain          2046\n",
    "nombre_exposed        519\n",
    "nombre_recovered    16482\n",
    "Name: 610, dtype: int64"
   ]
  },
  {
   "cell_type": "markdown",
   "id": "15fc2cab",
   "metadata": {},
   "source": [
    "nombre_infected       942\n",
    "nombre_sain          2052\n",
    "nombre_exposed        513\n",
    "nombre_recovered    16493\n",
    "Name: 611, dtype: int64"
   ]
  },
  {
   "cell_type": "markdown",
   "id": "33d3034b",
   "metadata": {},
   "source": [
    "nombre_infected       923\n",
    "nombre_sain          2078\n",
    "nombre_exposed        520\n",
    "nombre_recovered    16479\n",
    "Name: 612, dtype: int64"
   ]
  },
  {
   "cell_type": "markdown",
   "id": "aa705bd6",
   "metadata": {},
   "source": [
    "nombre_infected       911\n",
    "nombre_sain          2088\n",
    "nombre_exposed        522\n",
    "nombre_recovered    16479\n",
    "Name: 613, dtype: int64"
   ]
  },
  {
   "cell_type": "markdown",
   "id": "29e8360b",
   "metadata": {},
   "source": [
    "nombre_infected       895\n",
    "nombre_sain          2101\n",
    "nombre_exposed        523\n",
    "nombre_recovered    16481\n",
    "Name: 614, dtype: int64"
   ]
  },
  {
   "cell_type": "markdown",
   "id": "670ba8c3",
   "metadata": {},
   "source": [
    "nombre_infected       909\n",
    "nombre_sain          2087\n",
    "nombre_exposed        514\n",
    "nombre_recovered    16490\n",
    "Name: 615, dtype: int64"
   ]
  },
  {
   "cell_type": "markdown",
   "id": "6d663856",
   "metadata": {},
   "source": [
    "nombre_infected       885\n",
    "nombre_sain          2106\n",
    "nombre_exposed        502\n",
    "nombre_recovered    16507\n",
    "Name: 616, dtype: int64"
   ]
  },
  {
   "cell_type": "markdown",
   "id": "fe2777af",
   "metadata": {},
   "source": [
    "nombre_infected       897\n",
    "nombre_sain          2087\n",
    "nombre_exposed        491\n",
    "nombre_recovered    16525\n",
    "Name: 617, dtype: int64"
   ]
  },
  {
   "cell_type": "markdown",
   "id": "297a8a98",
   "metadata": {},
   "source": [
    "nombre_infected       881\n",
    "nombre_sain          2094\n",
    "nombre_exposed        516\n",
    "nombre_recovered    16509\n",
    "Name: 618, dtype: int64"
   ]
  },
  {
   "cell_type": "markdown",
   "id": "5b29cb30",
   "metadata": {},
   "source": [
    "nombre_infected       867\n",
    "nombre_sain          2118\n",
    "nombre_exposed        513\n",
    "nombre_recovered    16502\n",
    "Name: 619, dtype: int64"
   ]
  },
  {
   "cell_type": "markdown",
   "id": "4220495f",
   "metadata": {},
   "source": [
    "nombre_infected       860\n",
    "nombre_sain          2150\n",
    "nombre_exposed        489\n",
    "nombre_recovered    16501\n",
    "Name: 620, dtype: int64"
   ]
  },
  {
   "cell_type": "markdown",
   "id": "1c583330",
   "metadata": {},
   "source": [
    "nombre_infected       850\n",
    "nombre_sain          2156\n",
    "nombre_exposed        490\n",
    "nombre_recovered    16504\n",
    "Name: 621, dtype: int64"
   ]
  },
  {
   "cell_type": "markdown",
   "id": "07121b7b",
   "metadata": {},
   "source": [
    "nombre_infected       870\n",
    "nombre_sain          2199\n",
    "nombre_exposed        481\n",
    "nombre_recovered    16450\n",
    "Name: 622, dtype: int64"
   ]
  },
  {
   "cell_type": "markdown",
   "id": "ca855a38",
   "metadata": {},
   "source": [
    "nombre_infected       866\n",
    "nombre_sain          2208\n",
    "nombre_exposed        474\n",
    "nombre_recovered    16452\n",
    "Name: 623, dtype: int64"
   ]
  },
  {
   "cell_type": "markdown",
   "id": "cdbfa944",
   "metadata": {},
   "source": [
    "nombre_infected       878\n",
    "nombre_sain          2204\n",
    "nombre_exposed        478\n",
    "nombre_recovered    16440\n",
    "Name: 624, dtype: int64"
   ]
  },
  {
   "cell_type": "markdown",
   "id": "b5f52138",
   "metadata": {},
   "source": [
    "nombre_infected       885\n",
    "nombre_sain          2200\n",
    "nombre_exposed        478\n",
    "nombre_recovered    16437\n",
    "Name: 625, dtype: int64"
   ]
  },
  {
   "cell_type": "markdown",
   "id": "35d73920",
   "metadata": {},
   "source": [
    "nombre_infected       853\n",
    "nombre_sain          2201\n",
    "nombre_exposed        502\n",
    "nombre_recovered    16444\n",
    "Name: 626, dtype: int64"
   ]
  },
  {
   "cell_type": "markdown",
   "id": "a055e312",
   "metadata": {},
   "source": [
    "nombre_infected       858\n",
    "nombre_sain          2199\n",
    "nombre_exposed        488\n",
    "nombre_recovered    16455\n",
    "Name: 627, dtype: int64"
   ]
  },
  {
   "cell_type": "markdown",
   "id": "6ceb56d6",
   "metadata": {},
   "source": [
    "nombre_infected       854\n",
    "nombre_sain          2194\n",
    "nombre_exposed        494\n",
    "nombre_recovered    16458\n",
    "Name: 628, dtype: int64"
   ]
  },
  {
   "cell_type": "markdown",
   "id": "c015d325",
   "metadata": {},
   "source": [
    "nombre_infected       826\n",
    "nombre_sain          2199\n",
    "nombre_exposed        500\n",
    "nombre_recovered    16475\n",
    "Name: 629, dtype: int64"
   ]
  },
  {
   "cell_type": "markdown",
   "id": "2bbe4867",
   "metadata": {},
   "source": [
    "nombre_infected       821\n",
    "nombre_sain          2205\n",
    "nombre_exposed        495\n",
    "nombre_recovered    16479\n",
    "Name: 630, dtype: int64"
   ]
  },
  {
   "cell_type": "markdown",
   "id": "4600c426",
   "metadata": {},
   "source": [
    "nombre_infected       830\n",
    "nombre_sain          2194\n",
    "nombre_exposed        499\n",
    "nombre_recovered    16477\n",
    "Name: 631, dtype: int64"
   ]
  },
  {
   "cell_type": "markdown",
   "id": "24a57f28",
   "metadata": {},
   "source": [
    "nombre_infected       848\n",
    "nombre_sain          2184\n",
    "nombre_exposed        490\n",
    "nombre_recovered    16478\n",
    "Name: 632, dtype: int64"
   ]
  },
  {
   "cell_type": "markdown",
   "id": "f7ece800",
   "metadata": {},
   "source": [
    "nombre_infected       868\n",
    "nombre_sain          2173\n",
    "nombre_exposed        473\n",
    "nombre_recovered    16486\n",
    "Name: 633, dtype: int64"
   ]
  },
  {
   "cell_type": "markdown",
   "id": "a7327c31",
   "metadata": {},
   "source": [
    "nombre_infected       874\n",
    "nombre_sain          2178\n",
    "nombre_exposed        467\n",
    "nombre_recovered    16481\n",
    "Name: 634, dtype: int64"
   ]
  },
  {
   "cell_type": "markdown",
   "id": "25c1a051",
   "metadata": {},
   "source": [
    "nombre_infected       860\n",
    "nombre_sain          2174\n",
    "nombre_exposed        489\n",
    "nombre_recovered    16477\n",
    "Name: 635, dtype: int64"
   ]
  },
  {
   "cell_type": "markdown",
   "id": "8bff0f5b",
   "metadata": {},
   "source": [
    "nombre_infected       838\n",
    "nombre_sain          2205\n",
    "nombre_exposed        472\n",
    "nombre_recovered    16485\n",
    "Name: 636, dtype: int64"
   ]
  },
  {
   "cell_type": "markdown",
   "id": "83c512af",
   "metadata": {},
   "source": [
    "nombre_infected       820\n",
    "nombre_sain          2211\n",
    "nombre_exposed        478\n",
    "nombre_recovered    16491\n",
    "Name: 637, dtype: int64"
   ]
  },
  {
   "cell_type": "markdown",
   "id": "b1911421",
   "metadata": {},
   "source": [
    "nombre_infected       817\n",
    "nombre_sain          2228\n",
    "nombre_exposed        466\n",
    "nombre_recovered    16489\n",
    "Name: 638, dtype: int64"
   ]
  },
  {
   "cell_type": "markdown",
   "id": "4822f305",
   "metadata": {},
   "source": [
    "nombre_infected       841\n",
    "nombre_sain          2192\n",
    "nombre_exposed        471\n",
    "nombre_recovered    16496\n",
    "Name: 639, dtype: int64"
   ]
  },
  {
   "cell_type": "markdown",
   "id": "6badce89",
   "metadata": {},
   "source": [
    "nombre_infected       824\n",
    "nombre_sain          2196\n",
    "nombre_exposed        493\n",
    "nombre_recovered    16487\n",
    "Name: 640, dtype: int64"
   ]
  },
  {
   "cell_type": "markdown",
   "id": "78645452",
   "metadata": {},
   "source": [
    "nombre_infected       842\n",
    "nombre_sain          2203\n",
    "nombre_exposed        480\n",
    "nombre_recovered    16475\n",
    "Name: 641, dtype: int64"
   ]
  },
  {
   "cell_type": "markdown",
   "id": "1546d348",
   "metadata": {},
   "source": [
    "nombre_infected       827\n",
    "nombre_sain          2219\n",
    "nombre_exposed        494\n",
    "nombre_recovered    16460\n",
    "Name: 642, dtype: int64"
   ]
  },
  {
   "cell_type": "markdown",
   "id": "8ab9f9fc",
   "metadata": {},
   "source": [
    "nombre_infected       825\n",
    "nombre_sain          2228\n",
    "nombre_exposed        500\n",
    "nombre_recovered    16447\n",
    "Name: 643, dtype: int64"
   ]
  },
  {
   "cell_type": "markdown",
   "id": "eb9d8ca4",
   "metadata": {},
   "source": [
    "nombre_infected       817\n",
    "nombre_sain          2245\n",
    "nombre_exposed        512\n",
    "nombre_recovered    16426\n",
    "Name: 644, dtype: int64"
   ]
  },
  {
   "cell_type": "markdown",
   "id": "31ef33eb",
   "metadata": {},
   "source": [
    "nombre_infected       800\n",
    "nombre_sain          2260\n",
    "nombre_exposed        513\n",
    "nombre_recovered    16427\n",
    "Name: 645, dtype: int64"
   ]
  },
  {
   "cell_type": "markdown",
   "id": "4c92eeac",
   "metadata": {},
   "source": [
    "nombre_infected       826\n",
    "nombre_sain          2265\n",
    "nombre_exposed        511\n",
    "nombre_recovered    16398\n",
    "Name: 646, dtype: int64"
   ]
  },
  {
   "cell_type": "markdown",
   "id": "132a4216",
   "metadata": {},
   "source": [
    "nombre_infected       824\n",
    "nombre_sain          2302\n",
    "nombre_exposed        496\n",
    "nombre_recovered    16378\n",
    "Name: 647, dtype: int64"
   ]
  },
  {
   "cell_type": "markdown",
   "id": "adfd45f2",
   "metadata": {},
   "source": [
    "nombre_infected       830\n",
    "nombre_sain          2322\n",
    "nombre_exposed        470\n",
    "nombre_recovered    16378\n",
    "Name: 648, dtype: int64"
   ]
  },
  {
   "cell_type": "markdown",
   "id": "7858306e",
   "metadata": {},
   "source": [
    "nombre_infected       852\n",
    "nombre_sain          2298\n",
    "nombre_exposed        478\n",
    "nombre_recovered    16372\n",
    "Name: 649, dtype: int64"
   ]
  },
  {
   "cell_type": "markdown",
   "id": "4d65ebd9",
   "metadata": {},
   "source": [
    "nombre_infected       837\n",
    "nombre_sain          2306\n",
    "nombre_exposed        487\n",
    "nombre_recovered    16370\n",
    "Name: 650, dtype: int64"
   ]
  },
  {
   "cell_type": "markdown",
   "id": "c89b7b90",
   "metadata": {},
   "source": [
    "nombre_infected       850\n",
    "nombre_sain          2279\n",
    "nombre_exposed        486\n",
    "nombre_recovered    16385\n",
    "Name: 651, dtype: int64"
   ]
  },
  {
   "cell_type": "markdown",
   "id": "ef0c1067",
   "metadata": {},
   "source": [
    "nombre_infected       845\n",
    "nombre_sain          2240\n",
    "nombre_exposed        508\n",
    "nombre_recovered    16407\n",
    "Name: 652, dtype: int64"
   ]
  },
  {
   "cell_type": "markdown",
   "id": "1f91b5c5",
   "metadata": {},
   "source": [
    "nombre_infected       831\n",
    "nombre_sain          2224\n",
    "nombre_exposed        526\n",
    "nombre_recovered    16419\n",
    "Name: 653, dtype: int64"
   ]
  },
  {
   "cell_type": "markdown",
   "id": "45060ddd",
   "metadata": {},
   "source": [
    "nombre_infected       836\n",
    "nombre_sain          2223\n",
    "nombre_exposed        509\n",
    "nombre_recovered    16432\n",
    "Name: 654, dtype: int64"
   ]
  },
  {
   "cell_type": "markdown",
   "id": "d95b22d5",
   "metadata": {},
   "source": [
    "nombre_infected       839\n",
    "nombre_sain          2233\n",
    "nombre_exposed        493\n",
    "nombre_recovered    16435\n",
    "Name: 655, dtype: int64"
   ]
  },
  {
   "cell_type": "markdown",
   "id": "3f9f37a4",
   "metadata": {},
   "source": [
    "nombre_infected       831\n",
    "nombre_sain          2206\n",
    "nombre_exposed        500\n",
    "nombre_recovered    16463\n",
    "Name: 656, dtype: int64"
   ]
  },
  {
   "cell_type": "markdown",
   "id": "3a55a2f7",
   "metadata": {},
   "source": [
    "nombre_infected       841\n",
    "nombre_sain          2205\n",
    "nombre_exposed        497\n",
    "nombre_recovered    16457\n",
    "Name: 657, dtype: int64"
   ]
  },
  {
   "cell_type": "markdown",
   "id": "561eaf0c",
   "metadata": {},
   "source": [
    "nombre_infected       857\n",
    "nombre_sain          2202\n",
    "nombre_exposed        466\n",
    "nombre_recovered    16475\n",
    "Name: 658, dtype: int64"
   ]
  },
  {
   "cell_type": "markdown",
   "id": "a6956bf6",
   "metadata": {},
   "source": [
    "nombre_infected       842\n",
    "nombre_sain          2187\n",
    "nombre_exposed        463\n",
    "nombre_recovered    16508\n",
    "Name: 659, dtype: int64"
   ]
  },
  {
   "cell_type": "markdown",
   "id": "668ed1bf",
   "metadata": {},
   "source": [
    "nombre_infected       822\n",
    "nombre_sain          2155\n",
    "nombre_exposed        486\n",
    "nombre_recovered    16537\n",
    "Name: 660, dtype: int64"
   ]
  },
  {
   "cell_type": "markdown",
   "id": "84aec156",
   "metadata": {},
   "source": [
    "nombre_infected       820\n",
    "nombre_sain          2169\n",
    "nombre_exposed        467\n",
    "nombre_recovered    16544\n",
    "Name: 661, dtype: int64"
   ]
  },
  {
   "cell_type": "markdown",
   "id": "6c37f959",
   "metadata": {},
   "source": [
    "nombre_infected       836\n",
    "nombre_sain          2156\n",
    "nombre_exposed        448\n",
    "nombre_recovered    16560\n",
    "Name: 662, dtype: int64"
   ]
  },
  {
   "cell_type": "markdown",
   "id": "85e62410",
   "metadata": {},
   "source": [
    "nombre_infected       834\n",
    "nombre_sain          2118\n",
    "nombre_exposed        471\n",
    "nombre_recovered    16577\n",
    "Name: 663, dtype: int64"
   ]
  },
  {
   "cell_type": "markdown",
   "id": "1738babb",
   "metadata": {},
   "source": [
    "nombre_infected       829\n",
    "nombre_sain          2113\n",
    "nombre_exposed        484\n",
    "nombre_recovered    16574\n",
    "Name: 664, dtype: int64"
   ]
  },
  {
   "cell_type": "markdown",
   "id": "5d53b8b3",
   "metadata": {},
   "source": [
    "nombre_infected       849\n",
    "nombre_sain          2106\n",
    "nombre_exposed        476\n",
    "nombre_recovered    16569\n",
    "Name: 665, dtype: int64"
   ]
  },
  {
   "cell_type": "markdown",
   "id": "e8accdf7",
   "metadata": {},
   "source": [
    "nombre_infected       852\n",
    "nombre_sain          2101\n",
    "nombre_exposed        470\n",
    "nombre_recovered    16577\n",
    "Name: 666, dtype: int64"
   ]
  },
  {
   "cell_type": "markdown",
   "id": "e6b785df",
   "metadata": {},
   "source": [
    "nombre_infected       850\n",
    "nombre_sain          2091\n",
    "nombre_exposed        469\n",
    "nombre_recovered    16590\n",
    "Name: 667, dtype: int64"
   ]
  },
  {
   "cell_type": "markdown",
   "id": "f9049fa4",
   "metadata": {},
   "source": [
    "nombre_infected       838\n",
    "nombre_sain          2111\n",
    "nombre_exposed        473\n",
    "nombre_recovered    16578\n",
    "Name: 668, dtype: int64"
   ]
  },
  {
   "cell_type": "markdown",
   "id": "2d3ac004",
   "metadata": {},
   "source": [
    "nombre_infected       826\n",
    "nombre_sain          2121\n",
    "nombre_exposed        452\n",
    "nombre_recovered    16601\n",
    "Name: 669, dtype: int64"
   ]
  },
  {
   "cell_type": "markdown",
   "id": "4e8e5f69",
   "metadata": {},
   "source": [
    "nombre_infected       796\n",
    "nombre_sain          2139\n",
    "nombre_exposed        454\n",
    "nombre_recovered    16611\n",
    "Name: 670, dtype: int64"
   ]
  },
  {
   "cell_type": "markdown",
   "id": "bb987da7",
   "metadata": {},
   "source": [
    "nombre_infected       807\n",
    "nombre_sain          2186\n",
    "nombre_exposed        414\n",
    "nombre_recovered    16593\n",
    "Name: 671, dtype: int64"
   ]
  },
  {
   "cell_type": "markdown",
   "id": "3e780438",
   "metadata": {},
   "source": [
    "nombre_infected       808\n",
    "nombre_sain          2184\n",
    "nombre_exposed        430\n",
    "nombre_recovered    16578\n",
    "Name: 672, dtype: int64"
   ]
  },
  {
   "cell_type": "markdown",
   "id": "2badcd7d",
   "metadata": {},
   "source": [
    "nombre_infected       810\n",
    "nombre_sain          2185\n",
    "nombre_exposed        452\n",
    "nombre_recovered    16553\n",
    "Name: 673, dtype: int64"
   ]
  },
  {
   "cell_type": "markdown",
   "id": "6fb9e3ee",
   "metadata": {},
   "source": [
    "nombre_infected       802\n",
    "nombre_sain          2194\n",
    "nombre_exposed        462\n",
    "nombre_recovered    16542\n",
    "Name: 674, dtype: int64"
   ]
  },
  {
   "cell_type": "markdown",
   "id": "61a0ebd9",
   "metadata": {},
   "source": [
    "nombre_infected       812\n",
    "nombre_sain          2220\n",
    "nombre_exposed        463\n",
    "nombre_recovered    16505\n",
    "Name: 675, dtype: int64"
   ]
  },
  {
   "cell_type": "markdown",
   "id": "452d41f8",
   "metadata": {},
   "source": [
    "nombre_infected       792\n",
    "nombre_sain          2207\n",
    "nombre_exposed        483\n",
    "nombre_recovered    16518\n",
    "Name: 676, dtype: int64"
   ]
  },
  {
   "cell_type": "markdown",
   "id": "79527ec5",
   "metadata": {},
   "source": [
    "nombre_infected       809\n",
    "nombre_sain          2222\n",
    "nombre_exposed        481\n",
    "nombre_recovered    16488\n",
    "Name: 677, dtype: int64"
   ]
  },
  {
   "cell_type": "markdown",
   "id": "55968f1a",
   "metadata": {},
   "source": [
    "nombre_infected       813\n",
    "nombre_sain          2231\n",
    "nombre_exposed        489\n",
    "nombre_recovered    16467\n",
    "Name: 678, dtype: int64"
   ]
  },
  {
   "cell_type": "markdown",
   "id": "af22afec",
   "metadata": {},
   "source": [
    "nombre_infected       847\n",
    "nombre_sain          2217\n",
    "nombre_exposed        471\n",
    "nombre_recovered    16465\n",
    "Name: 679, dtype: int64"
   ]
  },
  {
   "cell_type": "markdown",
   "id": "4ebb5fd0",
   "metadata": {},
   "source": [
    "nombre_infected       864\n",
    "nombre_sain          2211\n",
    "nombre_exposed        460\n",
    "nombre_recovered    16465\n",
    "Name: 680, dtype: int64"
   ]
  },
  {
   "cell_type": "markdown",
   "id": "d158fa77",
   "metadata": {},
   "source": [
    "nombre_infected       847\n",
    "nombre_sain          2191\n",
    "nombre_exposed        472\n",
    "nombre_recovered    16490\n",
    "Name: 681, dtype: int64"
   ]
  },
  {
   "cell_type": "markdown",
   "id": "931a57e9",
   "metadata": {},
   "source": [
    "nombre_infected       830\n",
    "nombre_sain          2189\n",
    "nombre_exposed        471\n",
    "nombre_recovered    16510\n",
    "Name: 682, dtype: int64"
   ]
  },
  {
   "cell_type": "markdown",
   "id": "b59d4349",
   "metadata": {},
   "source": [
    "nombre_infected       802\n",
    "nombre_sain          2175\n",
    "nombre_exposed        473\n",
    "nombre_recovered    16550\n",
    "Name: 683, dtype: int64"
   ]
  },
  {
   "cell_type": "markdown",
   "id": "d2b52783",
   "metadata": {},
   "source": [
    "nombre_infected       819\n",
    "nombre_sain          2175\n",
    "nombre_exposed        462\n",
    "nombre_recovered    16544\n",
    "Name: 684, dtype: int64"
   ]
  },
  {
   "cell_type": "markdown",
   "id": "30ba7340",
   "metadata": {},
   "source": [
    "nombre_infected       820\n",
    "nombre_sain          2136\n",
    "nombre_exposed        482\n",
    "nombre_recovered    16562\n",
    "Name: 685, dtype: int64"
   ]
  },
  {
   "cell_type": "markdown",
   "id": "f2628831",
   "metadata": {},
   "source": [
    "nombre_infected       840\n",
    "nombre_sain          2120\n",
    "nombre_exposed        491\n",
    "nombre_recovered    16549\n",
    "Name: 686, dtype: int64"
   ]
  },
  {
   "cell_type": "markdown",
   "id": "4f790f08",
   "metadata": {},
   "source": [
    "nombre_infected       850\n",
    "nombre_sain          2095\n",
    "nombre_exposed        499\n",
    "nombre_recovered    16556\n",
    "Name: 687, dtype: int64"
   ]
  },
  {
   "cell_type": "markdown",
   "id": "c9a97b02",
   "metadata": {},
   "source": [
    "nombre_infected       862\n",
    "nombre_sain          2061\n",
    "nombre_exposed        518\n",
    "nombre_recovered    16559\n",
    "Name: 688, dtype: int64"
   ]
  },
  {
   "cell_type": "markdown",
   "id": "a8d80f88",
   "metadata": {},
   "source": [
    "nombre_infected       851\n",
    "nombre_sain          2042\n",
    "nombre_exposed        522\n",
    "nombre_recovered    16585\n",
    "Name: 689, dtype: int64"
   ]
  },
  {
   "cell_type": "markdown",
   "id": "7dc7d2dd",
   "metadata": {},
   "source": [
    "nombre_infected       860\n",
    "nombre_sain          2015\n",
    "nombre_exposed        538\n",
    "nombre_recovered    16587\n",
    "Name: 690, dtype: int64"
   ]
  },
  {
   "cell_type": "markdown",
   "id": "c3f21145",
   "metadata": {},
   "source": [
    "nombre_infected       857\n",
    "nombre_sain          1997\n",
    "nombre_exposed        544\n",
    "nombre_recovered    16602\n",
    "Name: 691, dtype: int64"
   ]
  },
  {
   "cell_type": "markdown",
   "id": "d7e06118",
   "metadata": {},
   "source": [
    "nombre_infected       878\n",
    "nombre_sain          1988\n",
    "nombre_exposed        532\n",
    "nombre_recovered    16602\n",
    "Name: 692, dtype: int64"
   ]
  },
  {
   "cell_type": "markdown",
   "id": "7de7b507",
   "metadata": {},
   "source": [
    "nombre_infected       867\n",
    "nombre_sain          1969\n",
    "nombre_exposed        530\n",
    "nombre_recovered    16634\n",
    "Name: 693, dtype: int64"
   ]
  },
  {
   "cell_type": "markdown",
   "id": "849dfb5e",
   "metadata": {},
   "source": [
    "nombre_infected       879\n",
    "nombre_sain          1935\n",
    "nombre_exposed        525\n",
    "nombre_recovered    16661\n",
    "Name: 694, dtype: int64"
   ]
  },
  {
   "cell_type": "markdown",
   "id": "0821af29",
   "metadata": {},
   "source": [
    "nombre_infected       882\n",
    "nombre_sain          1940\n",
    "nombre_exposed        500\n",
    "nombre_recovered    16678\n",
    "Name: 695, dtype: int64"
   ]
  },
  {
   "cell_type": "markdown",
   "id": "5acac8e1",
   "metadata": {},
   "source": [
    "nombre_infected       899\n",
    "nombre_sain          1918\n",
    "nombre_exposed        485\n",
    "nombre_recovered    16698\n",
    "Name: 696, dtype: int64"
   ]
  },
  {
   "cell_type": "markdown",
   "id": "7d08baaa",
   "metadata": {},
   "source": [
    "nombre_infected       903\n",
    "nombre_sain          1909\n",
    "nombre_exposed        479\n",
    "nombre_recovered    16709\n",
    "Name: 697, dtype: int64"
   ]
  },
  {
   "cell_type": "markdown",
   "id": "98eb8e83",
   "metadata": {},
   "source": [
    "nombre_infected       898\n",
    "nombre_sain          1906\n",
    "nombre_exposed        472\n",
    "nombre_recovered    16724\n",
    "Name: 698, dtype: int64"
   ]
  },
  {
   "cell_type": "markdown",
   "id": "a8435fe3",
   "metadata": {},
   "source": [
    "nombre_infected       873\n",
    "nombre_sain          1885\n",
    "nombre_exposed        468\n",
    "nombre_recovered    16774\n",
    "Name: 699, dtype: int64"
   ]
  },
  {
   "cell_type": "markdown",
   "id": "0f1a3f1c",
   "metadata": {},
   "source": [
    "nombre_infected       873\n",
    "nombre_sain          1894\n",
    "nombre_exposed        450\n",
    "nombre_recovered    16783\n",
    "Name: 700, dtype: int64"
   ]
  },
  {
   "cell_type": "markdown",
   "id": "c46bd29c",
   "metadata": {},
   "source": [
    "nombre_infected       863\n",
    "nombre_sain          1894\n",
    "nombre_exposed        447\n",
    "nombre_recovered    16796\n",
    "Name: 701, dtype: int64"
   ]
  },
  {
   "cell_type": "markdown",
   "id": "9cf8d9e3",
   "metadata": {},
   "source": [
    "nombre_infected       858\n",
    "nombre_sain          1917\n",
    "nombre_exposed        421\n",
    "nombre_recovered    16804\n",
    "Name: 702, dtype: int64"
   ]
  },
  {
   "cell_type": "markdown",
   "id": "df282073",
   "metadata": {},
   "source": [
    "nombre_infected       844\n",
    "nombre_sain          1907\n",
    "nombre_exposed        449\n",
    "nombre_recovered    16800\n",
    "Name: 703, dtype: int64"
   ]
  },
  {
   "cell_type": "markdown",
   "id": "c472fdfd",
   "metadata": {},
   "source": [
    "nombre_infected       836\n",
    "nombre_sain          1916\n",
    "nombre_exposed        453\n",
    "nombre_recovered    16795\n",
    "Name: 704, dtype: int64"
   ]
  },
  {
   "cell_type": "markdown",
   "id": "0a1df6d6",
   "metadata": {},
   "source": [
    "nombre_infected       826\n",
    "nombre_sain          1929\n",
    "nombre_exposed        467\n",
    "nombre_recovered    16778\n",
    "Name: 705, dtype: int64"
   ]
  },
  {
   "cell_type": "markdown",
   "id": "ca1d6dc1",
   "metadata": {},
   "source": [
    "nombre_infected       823\n",
    "nombre_sain          1920\n",
    "nombre_exposed        463\n",
    "nombre_recovered    16794\n",
    "Name: 706, dtype: int64"
   ]
  },
  {
   "cell_type": "markdown",
   "id": "a35ad086",
   "metadata": {},
   "source": [
    "nombre_infected       792\n",
    "nombre_sain          1947\n",
    "nombre_exposed        475\n",
    "nombre_recovered    16786\n",
    "Name: 707, dtype: int64"
   ]
  },
  {
   "cell_type": "markdown",
   "id": "53c618bb",
   "metadata": {},
   "source": [
    "nombre_infected       797\n",
    "nombre_sain          1944\n",
    "nombre_exposed        459\n",
    "nombre_recovered    16800\n",
    "Name: 708, dtype: int64"
   ]
  },
  {
   "cell_type": "markdown",
   "id": "3fb4a6c8",
   "metadata": {},
   "source": [
    "nombre_infected       802\n",
    "nombre_sain          1964\n",
    "nombre_exposed        439\n",
    "nombre_recovered    16795\n",
    "Name: 709, dtype: int64"
   ]
  },
  {
   "cell_type": "markdown",
   "id": "4020869e",
   "metadata": {},
   "source": [
    "nombre_infected       799\n",
    "nombre_sain          1949\n",
    "nombre_exposed        447\n",
    "nombre_recovered    16805\n",
    "Name: 710, dtype: int64"
   ]
  },
  {
   "cell_type": "markdown",
   "id": "55dd2551",
   "metadata": {},
   "source": [
    "nombre_infected       786\n",
    "nombre_sain          1949\n",
    "nombre_exposed        433\n",
    "nombre_recovered    16832\n",
    "Name: 711, dtype: int64"
   ]
  },
  {
   "cell_type": "markdown",
   "id": "6729eb4a",
   "metadata": {},
   "source": [
    "nombre_infected       764\n",
    "nombre_sain          1970\n",
    "nombre_exposed        423\n",
    "nombre_recovered    16843\n",
    "Name: 712, dtype: int64"
   ]
  },
  {
   "cell_type": "markdown",
   "id": "1673d21d",
   "metadata": {},
   "source": [
    "nombre_infected       762\n",
    "nombre_sain          2023\n",
    "nombre_exposed        397\n",
    "nombre_recovered    16818\n",
    "Name: 713, dtype: int64"
   ]
  },
  {
   "cell_type": "markdown",
   "id": "277078fb",
   "metadata": {},
   "source": [
    "nombre_infected       763\n",
    "nombre_sain          2045\n",
    "nombre_exposed        416\n",
    "nombre_recovered    16776\n",
    "Name: 714, dtype: int64"
   ]
  },
  {
   "cell_type": "markdown",
   "id": "5289272e",
   "metadata": {},
   "source": [
    "nombre_infected       742\n",
    "nombre_sain          2070\n",
    "nombre_exposed        432\n",
    "nombre_recovered    16756\n",
    "Name: 715, dtype: int64"
   ]
  },
  {
   "cell_type": "markdown",
   "id": "7608982b",
   "metadata": {},
   "source": [
    "nombre_infected       761\n",
    "nombre_sain          2114\n",
    "nombre_exposed        406\n",
    "nombre_recovered    16719\n",
    "Name: 716, dtype: int64"
   ]
  },
  {
   "cell_type": "markdown",
   "id": "eddfb708",
   "metadata": {},
   "source": [
    "nombre_infected       758\n",
    "nombre_sain          2163\n",
    "nombre_exposed        412\n",
    "nombre_recovered    16667\n",
    "Name: 717, dtype: int64"
   ]
  },
  {
   "cell_type": "markdown",
   "id": "3475dd25",
   "metadata": {},
   "source": [
    "nombre_infected       777\n",
    "nombre_sain          2208\n",
    "nombre_exposed        413\n",
    "nombre_recovered    16602\n",
    "Name: 718, dtype: int64"
   ]
  },
  {
   "cell_type": "markdown",
   "id": "d0d385ac",
   "metadata": {},
   "source": [
    "nombre_infected       794\n",
    "nombre_sain          2232\n",
    "nombre_exposed        413\n",
    "nombre_recovered    16561\n",
    "Name: 719, dtype: int64"
   ]
  },
  {
   "cell_type": "markdown",
   "id": "d3f8dfb5",
   "metadata": {},
   "source": [
    "nombre_infected       785\n",
    "nombre_sain          2242\n",
    "nombre_exposed        435\n",
    "nombre_recovered    16538\n",
    "Name: 720, dtype: int64"
   ]
  },
  {
   "cell_type": "markdown",
   "id": "b9683b5f",
   "metadata": {},
   "source": [
    "nombre_infected       791\n",
    "nombre_sain          2257\n",
    "nombre_exposed        433\n",
    "nombre_recovered    16519\n",
    "Name: 721, dtype: int64"
   ]
  },
  {
   "cell_type": "markdown",
   "id": "00f809d7",
   "metadata": {},
   "source": [
    "nombre_infected       768\n",
    "nombre_sain          2240\n",
    "nombre_exposed        448\n",
    "nombre_recovered    16544\n",
    "Name: 722, dtype: int64"
   ]
  },
  {
   "cell_type": "markdown",
   "id": "f281c4f8",
   "metadata": {},
   "source": [
    "nombre_infected       763\n",
    "nombre_sain          2258\n",
    "nombre_exposed        466\n",
    "nombre_recovered    16513\n",
    "Name: 723, dtype: int64"
   ]
  },
  {
   "cell_type": "markdown",
   "id": "da260106",
   "metadata": {},
   "source": [
    "nombre_infected       766\n",
    "nombre_sain          2299\n",
    "nombre_exposed        457\n",
    "nombre_recovered    16478\n",
    "Name: 724, dtype: int64"
   ]
  },
  {
   "cell_type": "markdown",
   "id": "0b0677bd",
   "metadata": {},
   "source": [
    "nombre_infected       769\n",
    "nombre_sain          2322\n",
    "nombre_exposed        460\n",
    "nombre_recovered    16449\n",
    "Name: 725, dtype: int64"
   ]
  },
  {
   "cell_type": "markdown",
   "id": "e38e40d9",
   "metadata": {},
   "source": [
    "nombre_infected       796\n",
    "nombre_sain          2337\n",
    "nombre_exposed        452\n",
    "nombre_recovered    16415\n",
    "Name: 726, dtype: int64"
   ]
  },
  {
   "cell_type": "markdown",
   "id": "05a1d21d",
   "metadata": {},
   "source": [
    "nombre_infected       789\n",
    "nombre_sain          2357\n",
    "nombre_exposed        449\n",
    "nombre_recovered    16405\n",
    "Name: 727, dtype: int64"
   ]
  },
  {
   "cell_type": "markdown",
   "id": "2ee1e9f2",
   "metadata": {},
   "source": [
    "nombre_infected       794\n",
    "nombre_sain          2341\n",
    "nombre_exposed        463\n",
    "nombre_recovered    16402\n",
    "Name: 728, dtype: int64"
   ]
  },
  {
   "cell_type": "markdown",
   "id": "3a73a067",
   "metadata": {},
   "source": [
    "nombre_infected       780\n",
    "nombre_sain          2345\n",
    "nombre_exposed        467\n",
    "nombre_recovered    16408\n",
    "Name: 729, dtype: int64"
   ]
  },
  {
   "cell_type": "markdown",
   "id": "6ed7ed4c",
   "metadata": {},
   "source": [
    "nombre_infected       793\n",
    "nombre_sain          2372\n",
    "nombre_exposed        450\n",
    "nombre_recovered    16385\n",
    "Name: 730, dtype: int64"
   ]
  }
 ],
 "metadata": {},
 "nbformat": 4,
 "nbformat_minor": 5
}
