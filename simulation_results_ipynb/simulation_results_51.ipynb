{
 "cells": [
  {
   "cell_type": "markdown",
   "id": "a5976dcb",
   "metadata": {},
   "source": [
    "nombre_infected        20\n",
    "nombre_sain         19980\n",
    "nombre_exposed          0\n",
    "nombre_recovered        0\n",
    "Name: 0, dtype: int64"
   ]
  },
  {
   "cell_type": "markdown",
   "id": "89b795cf",
   "metadata": {},
   "source": [
    "nombre_infected        20\n",
    "nombre_sain         19960\n",
    "nombre_exposed         20\n",
    "nombre_recovered        0\n",
    "Name: 1, dtype: int64"
   ]
  },
  {
   "cell_type": "markdown",
   "id": "b56c63f8",
   "metadata": {},
   "source": [
    "nombre_infected        20\n",
    "nombre_sain         19943\n",
    "nombre_exposed         37\n",
    "nombre_recovered        0\n",
    "Name: 2, dtype: int64"
   ]
  },
  {
   "cell_type": "markdown",
   "id": "350928ff",
   "metadata": {},
   "source": [
    "nombre_infected        30\n",
    "nombre_sain         19903\n",
    "nombre_exposed         67\n",
    "nombre_recovered        0\n",
    "Name: 3, dtype: int64"
   ]
  },
  {
   "cell_type": "markdown",
   "id": "7d7a75c6",
   "metadata": {},
   "source": [
    "nombre_infected        37\n",
    "nombre_sain         19868\n",
    "nombre_exposed         95\n",
    "nombre_recovered        0\n",
    "Name: 4, dtype: int64"
   ]
  },
  {
   "cell_type": "markdown",
   "id": "08f790fe",
   "metadata": {},
   "source": [
    "nombre_infected        50\n",
    "nombre_sain         19811\n",
    "nombre_exposed        137\n",
    "nombre_recovered        2\n",
    "Name: 5, dtype: int64"
   ]
  },
  {
   "cell_type": "markdown",
   "id": "0bfbb6c8",
   "metadata": {},
   "source": [
    "nombre_infected        65\n",
    "nombre_sain         19736\n",
    "nombre_exposed        195\n",
    "nombre_recovered        4\n",
    "Name: 6, dtype: int64"
   ]
  },
  {
   "cell_type": "markdown",
   "id": "b309bb02",
   "metadata": {},
   "source": [
    "nombre_infected        88\n",
    "nombre_sain         19630\n",
    "nombre_exposed        272\n",
    "nombre_recovered       10\n",
    "Name: 7, dtype: int64"
   ]
  },
  {
   "cell_type": "markdown",
   "id": "41eb6a7c",
   "metadata": {},
   "source": [
    "nombre_infected       128\n",
    "nombre_sain         19474\n",
    "nombre_exposed        384\n",
    "nombre_recovered       14\n",
    "Name: 8, dtype: int64"
   ]
  },
  {
   "cell_type": "markdown",
   "id": "a078a806",
   "metadata": {},
   "source": [
    "nombre_infected       195\n",
    "nombre_sain         19293\n",
    "nombre_exposed        489\n",
    "nombre_recovered       23\n",
    "Name: 9, dtype: int64"
   ]
  },
  {
   "cell_type": "markdown",
   "id": "ebcaeb80",
   "metadata": {},
   "source": [
    "nombre_infected       274\n",
    "nombre_sain         19044\n",
    "nombre_exposed        649\n",
    "nombre_recovered       33\n",
    "Name: 10, dtype: int64"
   ]
  },
  {
   "cell_type": "markdown",
   "id": "cf3dafeb",
   "metadata": {},
   "source": [
    "nombre_infected       353\n",
    "nombre_sain         18661\n",
    "nombre_exposed        930\n",
    "nombre_recovered       56\n",
    "Name: 11, dtype: int64"
   ]
  },
  {
   "cell_type": "markdown",
   "id": "365c9ee9",
   "metadata": {},
   "source": [
    "nombre_infected       467\n",
    "nombre_sain         18203\n",
    "nombre_exposed       1241\n",
    "nombre_recovered       89\n",
    "Name: 12, dtype: int64"
   ]
  },
  {
   "cell_type": "markdown",
   "id": "e4712f9a",
   "metadata": {},
   "source": [
    "nombre_infected       639\n",
    "nombre_sain         17634\n",
    "nombre_exposed       1579\n",
    "nombre_recovered      148\n",
    "Name: 13, dtype: int64"
   ]
  },
  {
   "cell_type": "markdown",
   "id": "5516c047",
   "metadata": {},
   "source": [
    "nombre_infected       844\n",
    "nombre_sain         16841\n",
    "nombre_exposed       2100\n",
    "nombre_recovered      215\n",
    "Name: 14, dtype: int64"
   ]
  },
  {
   "cell_type": "markdown",
   "id": "5ce4f51c",
   "metadata": {},
   "source": [
    "nombre_infected      1169\n",
    "nombre_sain         15810\n",
    "nombre_exposed       2735\n",
    "nombre_recovered      286\n",
    "Name: 15, dtype: int64"
   ]
  },
  {
   "cell_type": "markdown",
   "id": "f85fcf24",
   "metadata": {},
   "source": [
    "nombre_infected      1505\n",
    "nombre_sain         14689\n",
    "nombre_exposed       3404\n",
    "nombre_recovered      402\n",
    "Name: 16, dtype: int64"
   ]
  },
  {
   "cell_type": "markdown",
   "id": "79508780",
   "metadata": {},
   "source": [
    "nombre_infected      1998\n",
    "nombre_sain         13247\n",
    "nombre_exposed       4205\n",
    "nombre_recovered      550\n",
    "Name: 17, dtype: int64"
   ]
  },
  {
   "cell_type": "markdown",
   "id": "799b2e6d",
   "metadata": {},
   "source": [
    "nombre_infected      2635\n",
    "nombre_sain         11665\n",
    "nombre_exposed       4955\n",
    "nombre_recovered      745\n",
    "Name: 18, dtype: int64"
   ]
  },
  {
   "cell_type": "markdown",
   "id": "a51ee6c4",
   "metadata": {},
   "source": [
    "nombre_infected     3348\n",
    "nombre_sain         9834\n",
    "nombre_exposed      5822\n",
    "nombre_recovered     996\n",
    "Name: 19, dtype: int64"
   ]
  },
  {
   "cell_type": "markdown",
   "id": "f480f402",
   "metadata": {},
   "source": [
    "nombre_infected     4166\n",
    "nombre_sain         8058\n",
    "nombre_exposed      6475\n",
    "nombre_recovered    1301\n",
    "Name: 20, dtype: int64"
   ]
  },
  {
   "cell_type": "markdown",
   "id": "d9f4a2f4",
   "metadata": {},
   "source": [
    "nombre_infected     5092\n",
    "nombre_sain         6370\n",
    "nombre_exposed      6782\n",
    "nombre_recovered    1756\n",
    "Name: 21, dtype: int64"
   ]
  },
  {
   "cell_type": "markdown",
   "id": "932e3f6b",
   "metadata": {},
   "source": [
    "nombre_infected     6059\n",
    "nombre_sain         4776\n",
    "nombre_exposed      6891\n",
    "nombre_recovered    2274\n",
    "Name: 22, dtype: int64"
   ]
  },
  {
   "cell_type": "markdown",
   "id": "87f3f361",
   "metadata": {},
   "source": [
    "nombre_infected     6921\n",
    "nombre_sain         3510\n",
    "nombre_exposed      6634\n",
    "nombre_recovered    2935\n",
    "Name: 23, dtype: int64"
   ]
  },
  {
   "cell_type": "markdown",
   "id": "a3201457",
   "metadata": {},
   "source": [
    "nombre_infected     7643\n",
    "nombre_sain         2459\n",
    "nombre_exposed      6189\n",
    "nombre_recovered    3709\n",
    "Name: 24, dtype: int64"
   ]
  },
  {
   "cell_type": "markdown",
   "id": "83ae4234",
   "metadata": {},
   "source": [
    "nombre_infected     8264\n",
    "nombre_sain         1706\n",
    "nombre_exposed      5435\n",
    "nombre_recovered    4595\n",
    "Name: 25, dtype: int64"
   ]
  },
  {
   "cell_type": "markdown",
   "id": "664ca967",
   "metadata": {},
   "source": [
    "nombre_infected     8687\n",
    "nombre_sain         1153\n",
    "nombre_exposed      4616\n",
    "nombre_recovered    5544\n",
    "Name: 26, dtype: int64"
   ]
  },
  {
   "cell_type": "markdown",
   "id": "947e2c88",
   "metadata": {},
   "source": [
    "nombre_infected     8868\n",
    "nombre_sain          785\n",
    "nombre_exposed      3811\n",
    "nombre_recovered    6536\n",
    "Name: 27, dtype: int64"
   ]
  },
  {
   "cell_type": "markdown",
   "id": "7cd9a565",
   "metadata": {},
   "source": [
    "nombre_infected     8751\n",
    "nombre_sain          533\n",
    "nombre_exposed      3058\n",
    "nombre_recovered    7658\n",
    "Name: 28, dtype: int64"
   ]
  },
  {
   "cell_type": "markdown",
   "id": "61d1278f",
   "metadata": {},
   "source": [
    "nombre_infected     8498\n",
    "nombre_sain          355\n",
    "nombre_exposed      2415\n",
    "nombre_recovered    8732\n",
    "Name: 29, dtype: int64"
   ]
  },
  {
   "cell_type": "markdown",
   "id": "f9c4fb83",
   "metadata": {},
   "source": [
    "nombre_infected     8030\n",
    "nombre_sain          257\n",
    "nombre_exposed      1891\n",
    "nombre_recovered    9822\n",
    "Name: 30, dtype: int64"
   ]
  },
  {
   "cell_type": "markdown",
   "id": "066e3262",
   "metadata": {},
   "source": [
    "nombre_infected      7512\n",
    "nombre_sain           189\n",
    "nombre_exposed       1451\n",
    "nombre_recovered    10848\n",
    "Name: 31, dtype: int64"
   ]
  },
  {
   "cell_type": "markdown",
   "id": "a8ad5843",
   "metadata": {},
   "source": [
    "nombre_infected      6949\n",
    "nombre_sain           151\n",
    "nombre_exposed       1069\n",
    "nombre_recovered    11831\n",
    "Name: 32, dtype: int64"
   ]
  },
  {
   "cell_type": "markdown",
   "id": "8323d46c",
   "metadata": {},
   "source": [
    "nombre_infected      6411\n",
    "nombre_sain           122\n",
    "nombre_exposed        779\n",
    "nombre_recovered    12688\n",
    "Name: 33, dtype: int64"
   ]
  },
  {
   "cell_type": "markdown",
   "id": "1cff8836",
   "metadata": {},
   "source": [
    "nombre_infected      5740\n",
    "nombre_sain           120\n",
    "nombre_exposed        583\n",
    "nombre_recovered    13557\n",
    "Name: 34, dtype: int64"
   ]
  },
  {
   "cell_type": "markdown",
   "id": "fffc0db9",
   "metadata": {},
   "source": [
    "nombre_infected      5165\n",
    "nombre_sain           141\n",
    "nombre_exposed        410\n",
    "nombre_recovered    14284\n",
    "Name: 35, dtype: int64"
   ]
  },
  {
   "cell_type": "markdown",
   "id": "97a5181f",
   "metadata": {},
   "source": [
    "nombre_infected      4592\n",
    "nombre_sain           138\n",
    "nombre_exposed        313\n",
    "nombre_recovered    14957\n",
    "Name: 36, dtype: int64"
   ]
  },
  {
   "cell_type": "markdown",
   "id": "cd56629a",
   "metadata": {},
   "source": [
    "nombre_infected      4051\n",
    "nombre_sain           127\n",
    "nombre_exposed        258\n",
    "nombre_recovered    15564\n",
    "Name: 37, dtype: int64"
   ]
  },
  {
   "cell_type": "markdown",
   "id": "4b003105",
   "metadata": {},
   "source": [
    "nombre_infected      3549\n",
    "nombre_sain           138\n",
    "nombre_exposed        211\n",
    "nombre_recovered    16102\n",
    "Name: 38, dtype: int64"
   ]
  },
  {
   "cell_type": "markdown",
   "id": "bc7fb454",
   "metadata": {},
   "source": [
    "nombre_infected      3148\n",
    "nombre_sain           151\n",
    "nombre_exposed        171\n",
    "nombre_recovered    16530\n",
    "Name: 39, dtype: int64"
   ]
  },
  {
   "cell_type": "markdown",
   "id": "bfa7aa60",
   "metadata": {},
   "source": [
    "nombre_infected      2703\n",
    "nombre_sain           166\n",
    "nombre_exposed        136\n",
    "nombre_recovered    16995\n",
    "Name: 40, dtype: int64"
   ]
  },
  {
   "cell_type": "markdown",
   "id": "da8c22dd",
   "metadata": {},
   "source": [
    "nombre_infected      2332\n",
    "nombre_sain           184\n",
    "nombre_exposed        120\n",
    "nombre_recovered    17364\n",
    "Name: 41, dtype: int64"
   ]
  },
  {
   "cell_type": "markdown",
   "id": "6e25b71b",
   "metadata": {},
   "source": [
    "nombre_infected      2041\n",
    "nombre_sain           212\n",
    "nombre_exposed        109\n",
    "nombre_recovered    17638\n",
    "Name: 42, dtype: int64"
   ]
  },
  {
   "cell_type": "markdown",
   "id": "5f558304",
   "metadata": {},
   "source": [
    "nombre_infected      1811\n",
    "nombre_sain           241\n",
    "nombre_exposed        106\n",
    "nombre_recovered    17842\n",
    "Name: 43, dtype: int64"
   ]
  },
  {
   "cell_type": "markdown",
   "id": "f59cec63",
   "metadata": {},
   "source": [
    "nombre_infected      1594\n",
    "nombre_sain           268\n",
    "nombre_exposed         84\n",
    "nombre_recovered    18054\n",
    "Name: 44, dtype: int64"
   ]
  },
  {
   "cell_type": "markdown",
   "id": "7062f7a6",
   "metadata": {},
   "source": [
    "nombre_infected      1418\n",
    "nombre_sain           291\n",
    "nombre_exposed         86\n",
    "nombre_recovered    18205\n",
    "Name: 45, dtype: int64"
   ]
  },
  {
   "cell_type": "markdown",
   "id": "b19791bf",
   "metadata": {},
   "source": [
    "nombre_infected      1264\n",
    "nombre_sain           330\n",
    "nombre_exposed         96\n",
    "nombre_recovered    18310\n",
    "Name: 46, dtype: int64"
   ]
  },
  {
   "cell_type": "markdown",
   "id": "af755b79",
   "metadata": {},
   "source": [
    "nombre_infected      1148\n",
    "nombre_sain           355\n",
    "nombre_exposed        100\n",
    "nombre_recovered    18397\n",
    "Name: 47, dtype: int64"
   ]
  },
  {
   "cell_type": "markdown",
   "id": "1d10e7f0",
   "metadata": {},
   "source": [
    "nombre_infected      1056\n",
    "nombre_sain           402\n",
    "nombre_exposed         98\n",
    "nombre_recovered    18444\n",
    "Name: 48, dtype: int64"
   ]
  },
  {
   "cell_type": "markdown",
   "id": "b1c7c673",
   "metadata": {},
   "source": [
    "nombre_infected       969\n",
    "nombre_sain           425\n",
    "nombre_exposed        104\n",
    "nombre_recovered    18502\n",
    "Name: 49, dtype: int64"
   ]
  },
  {
   "cell_type": "markdown",
   "id": "63c52bc7",
   "metadata": {},
   "source": [
    "nombre_infected       898\n",
    "nombre_sain           475\n",
    "nombre_exposed         99\n",
    "nombre_recovered    18528\n",
    "Name: 50, dtype: int64"
   ]
  },
  {
   "cell_type": "markdown",
   "id": "cce1e72f",
   "metadata": {},
   "source": [
    "nombre_infected       834\n",
    "nombre_sain           517\n",
    "nombre_exposed         96\n",
    "nombre_recovered    18553\n",
    "Name: 51, dtype: int64"
   ]
  },
  {
   "cell_type": "markdown",
   "id": "ced5c269",
   "metadata": {},
   "source": [
    "nombre_infected       766\n",
    "nombre_sain           545\n",
    "nombre_exposed        105\n",
    "nombre_recovered    18584\n",
    "Name: 52, dtype: int64"
   ]
  },
  {
   "cell_type": "markdown",
   "id": "9808a9a6",
   "metadata": {},
   "source": [
    "nombre_infected       726\n",
    "nombre_sain           574\n",
    "nombre_exposed        103\n",
    "nombre_recovered    18597\n",
    "Name: 53, dtype: int64"
   ]
  },
  {
   "cell_type": "markdown",
   "id": "22731d9c",
   "metadata": {},
   "source": [
    "nombre_infected       694\n",
    "nombre_sain           600\n",
    "nombre_exposed        108\n",
    "nombre_recovered    18598\n",
    "Name: 54, dtype: int64"
   ]
  },
  {
   "cell_type": "markdown",
   "id": "812f605d",
   "metadata": {},
   "source": [
    "nombre_infected       634\n",
    "nombre_sain           620\n",
    "nombre_exposed        113\n",
    "nombre_recovered    18633\n",
    "Name: 55, dtype: int64"
   ]
  },
  {
   "cell_type": "markdown",
   "id": "d35197e5",
   "metadata": {},
   "source": [
    "nombre_infected       590\n",
    "nombre_sain           656\n",
    "nombre_exposed        113\n",
    "nombre_recovered    18641\n",
    "Name: 56, dtype: int64"
   ]
  },
  {
   "cell_type": "markdown",
   "id": "2c87d927",
   "metadata": {},
   "source": [
    "nombre_infected       539\n",
    "nombre_sain           697\n",
    "nombre_exposed        115\n",
    "nombre_recovered    18649\n",
    "Name: 57, dtype: int64"
   ]
  },
  {
   "cell_type": "markdown",
   "id": "7d8d322d",
   "metadata": {},
   "source": [
    "nombre_infected       485\n",
    "nombre_sain           725\n",
    "nombre_exposed        111\n",
    "nombre_recovered    18679\n",
    "Name: 58, dtype: int64"
   ]
  },
  {
   "cell_type": "markdown",
   "id": "a07a2a91",
   "metadata": {},
   "source": [
    "nombre_infected       455\n",
    "nombre_sain           771\n",
    "nombre_exposed        109\n",
    "nombre_recovered    18665\n",
    "Name: 59, dtype: int64"
   ]
  },
  {
   "cell_type": "markdown",
   "id": "9b5f4e76",
   "metadata": {},
   "source": [
    "nombre_infected       413\n",
    "nombre_sain           805\n",
    "nombre_exposed        104\n",
    "nombre_recovered    18678\n",
    "Name: 60, dtype: int64"
   ]
  },
  {
   "cell_type": "markdown",
   "id": "5b3618a1",
   "metadata": {},
   "source": [
    "nombre_infected       377\n",
    "nombre_sain           838\n",
    "nombre_exposed        105\n",
    "nombre_recovered    18680\n",
    "Name: 61, dtype: int64"
   ]
  },
  {
   "cell_type": "markdown",
   "id": "7debfebb",
   "metadata": {},
   "source": [
    "nombre_infected       324\n",
    "nombre_sain           901\n",
    "nombre_exposed         98\n",
    "nombre_recovered    18677\n",
    "Name: 62, dtype: int64"
   ]
  },
  {
   "cell_type": "markdown",
   "id": "0420ecdd",
   "metadata": {},
   "source": [
    "nombre_infected       296\n",
    "nombre_sain           974\n",
    "nombre_exposed         91\n",
    "nombre_recovered    18639\n",
    "Name: 63, dtype: int64"
   ]
  },
  {
   "cell_type": "markdown",
   "id": "b13793d1",
   "metadata": {},
   "source": [
    "nombre_infected       282\n",
    "nombre_sain          1041\n",
    "nombre_exposed         77\n",
    "nombre_recovered    18600\n",
    "Name: 64, dtype: int64"
   ]
  },
  {
   "cell_type": "markdown",
   "id": "74cc3270",
   "metadata": {},
   "source": [
    "nombre_infected       259\n",
    "nombre_sain          1104\n",
    "nombre_exposed         71\n",
    "nombre_recovered    18566\n",
    "Name: 65, dtype: int64"
   ]
  },
  {
   "cell_type": "markdown",
   "id": "ace65f5b",
   "metadata": {},
   "source": [
    "nombre_infected       231\n",
    "nombre_sain          1152\n",
    "nombre_exposed         66\n",
    "nombre_recovered    18551\n",
    "Name: 66, dtype: int64"
   ]
  },
  {
   "cell_type": "markdown",
   "id": "cf1d8d06",
   "metadata": {},
   "source": [
    "nombre_infected       213\n",
    "nombre_sain          1224\n",
    "nombre_exposed         66\n",
    "nombre_recovered    18497\n",
    "Name: 67, dtype: int64"
   ]
  },
  {
   "cell_type": "markdown",
   "id": "9a959f5f",
   "metadata": {},
   "source": [
    "nombre_infected       201\n",
    "nombre_sain          1283\n",
    "nombre_exposed         57\n",
    "nombre_recovered    18459\n",
    "Name: 68, dtype: int64"
   ]
  },
  {
   "cell_type": "markdown",
   "id": "d2bd24a9",
   "metadata": {},
   "source": [
    "nombre_infected       190\n",
    "nombre_sain          1340\n",
    "nombre_exposed         56\n",
    "nombre_recovered    18414\n",
    "Name: 69, dtype: int64"
   ]
  },
  {
   "cell_type": "markdown",
   "id": "de2a1850",
   "metadata": {},
   "source": [
    "nombre_infected       178\n",
    "nombre_sain          1403\n",
    "nombre_exposed         52\n",
    "nombre_recovered    18367\n",
    "Name: 70, dtype: int64"
   ]
  },
  {
   "cell_type": "markdown",
   "id": "502607af",
   "metadata": {},
   "source": [
    "nombre_infected       152\n",
    "nombre_sain          1453\n",
    "nombre_exposed         69\n",
    "nombre_recovered    18326\n",
    "Name: 71, dtype: int64"
   ]
  },
  {
   "cell_type": "markdown",
   "id": "bfe62f22",
   "metadata": {},
   "source": [
    "nombre_infected       148\n",
    "nombre_sain          1507\n",
    "nombre_exposed         65\n",
    "nombre_recovered    18280\n",
    "Name: 72, dtype: int64"
   ]
  },
  {
   "cell_type": "markdown",
   "id": "b63d28d6",
   "metadata": {},
   "source": [
    "nombre_infected       149\n",
    "nombre_sain          1575\n",
    "nombre_exposed         56\n",
    "nombre_recovered    18220\n",
    "Name: 73, dtype: int64"
   ]
  },
  {
   "cell_type": "markdown",
   "id": "bf93f08e",
   "metadata": {},
   "source": [
    "nombre_infected       147\n",
    "nombre_sain          1630\n",
    "nombre_exposed         52\n",
    "nombre_recovered    18171\n",
    "Name: 74, dtype: int64"
   ]
  },
  {
   "cell_type": "markdown",
   "id": "6338a7dc",
   "metadata": {},
   "source": [
    "nombre_infected       141\n",
    "nombre_sain          1679\n",
    "nombre_exposed         63\n",
    "nombre_recovered    18117\n",
    "Name: 75, dtype: int64"
   ]
  },
  {
   "cell_type": "markdown",
   "id": "5899e6a7",
   "metadata": {},
   "source": [
    "nombre_infected       144\n",
    "nombre_sain          1726\n",
    "nombre_exposed         58\n",
    "nombre_recovered    18072\n",
    "Name: 76, dtype: int64"
   ]
  },
  {
   "cell_type": "markdown",
   "id": "d494b408",
   "metadata": {},
   "source": [
    "nombre_infected       143\n",
    "nombre_sain          1757\n",
    "nombre_exposed         56\n",
    "nombre_recovered    18044\n",
    "Name: 77, dtype: int64"
   ]
  },
  {
   "cell_type": "markdown",
   "id": "50d20ef9",
   "metadata": {},
   "source": [
    "nombre_infected       135\n",
    "nombre_sain          1786\n",
    "nombre_exposed         54\n",
    "nombre_recovered    18025\n",
    "Name: 78, dtype: int64"
   ]
  },
  {
   "cell_type": "markdown",
   "id": "f8b3d9d5",
   "metadata": {},
   "source": [
    "nombre_infected       125\n",
    "nombre_sain          1818\n",
    "nombre_exposed         51\n",
    "nombre_recovered    18006\n",
    "Name: 79, dtype: int64"
   ]
  },
  {
   "cell_type": "markdown",
   "id": "d1a26773",
   "metadata": {},
   "source": [
    "nombre_infected       116\n",
    "nombre_sain          1849\n",
    "nombre_exposed         55\n",
    "nombre_recovered    17980\n",
    "Name: 80, dtype: int64"
   ]
  },
  {
   "cell_type": "markdown",
   "id": "0c8caf9a",
   "metadata": {},
   "source": [
    "nombre_infected       112\n",
    "nombre_sain          1891\n",
    "nombre_exposed         50\n",
    "nombre_recovered    17947\n",
    "Name: 81, dtype: int64"
   ]
  },
  {
   "cell_type": "markdown",
   "id": "ca5ff536",
   "metadata": {},
   "source": [
    "nombre_infected       105\n",
    "nombre_sain          1928\n",
    "nombre_exposed         42\n",
    "nombre_recovered    17925\n",
    "Name: 82, dtype: int64"
   ]
  },
  {
   "cell_type": "markdown",
   "id": "4ab4bdb9",
   "metadata": {},
   "source": [
    "nombre_infected       103\n",
    "nombre_sain          1975\n",
    "nombre_exposed         42\n",
    "nombre_recovered    17880\n",
    "Name: 83, dtype: int64"
   ]
  },
  {
   "cell_type": "markdown",
   "id": "28be483b",
   "metadata": {},
   "source": [
    "nombre_infected        90\n",
    "nombre_sain          2025\n",
    "nombre_exposed         40\n",
    "nombre_recovered    17845\n",
    "Name: 84, dtype: int64"
   ]
  },
  {
   "cell_type": "markdown",
   "id": "c185ded3",
   "metadata": {},
   "source": [
    "nombre_infected        86\n",
    "nombre_sain          2074\n",
    "nombre_exposed         35\n",
    "nombre_recovered    17805\n",
    "Name: 85, dtype: int64"
   ]
  },
  {
   "cell_type": "markdown",
   "id": "42ad7e26",
   "metadata": {},
   "source": [
    "nombre_infected        88\n",
    "nombre_sain          2137\n",
    "nombre_exposed         32\n",
    "nombre_recovered    17743\n",
    "Name: 86, dtype: int64"
   ]
  },
  {
   "cell_type": "markdown",
   "id": "9ae12c85",
   "metadata": {},
   "source": [
    "nombre_infected        78\n",
    "nombre_sain          2195\n",
    "nombre_exposed         38\n",
    "nombre_recovered    17689\n",
    "Name: 87, dtype: int64"
   ]
  },
  {
   "cell_type": "markdown",
   "id": "af89d393",
   "metadata": {},
   "source": [
    "nombre_infected        67\n",
    "nombre_sain          2262\n",
    "nombre_exposed         41\n",
    "nombre_recovered    17630\n",
    "Name: 88, dtype: int64"
   ]
  },
  {
   "cell_type": "markdown",
   "id": "07aa8ff5",
   "metadata": {},
   "source": [
    "nombre_infected        61\n",
    "nombre_sain          2322\n",
    "nombre_exposed         47\n",
    "nombre_recovered    17570\n",
    "Name: 89, dtype: int64"
   ]
  },
  {
   "cell_type": "markdown",
   "id": "684814c0",
   "metadata": {},
   "source": [
    "nombre_infected        56\n",
    "nombre_sain          2381\n",
    "nombre_exposed         48\n",
    "nombre_recovered    17515\n",
    "Name: 90, dtype: int64"
   ]
  },
  {
   "cell_type": "markdown",
   "id": "384b2834",
   "metadata": {},
   "source": [
    "nombre_infected        60\n",
    "nombre_sain          2434\n",
    "nombre_exposed         45\n",
    "nombre_recovered    17461\n",
    "Name: 91, dtype: int64"
   ]
  },
  {
   "cell_type": "markdown",
   "id": "9675b4b1",
   "metadata": {},
   "source": [
    "nombre_infected        63\n",
    "nombre_sain          2485\n",
    "nombre_exposed         41\n",
    "nombre_recovered    17411\n",
    "Name: 92, dtype: int64"
   ]
  },
  {
   "cell_type": "markdown",
   "id": "05f93436",
   "metadata": {},
   "source": [
    "nombre_infected        64\n",
    "nombre_sain          2539\n",
    "nombre_exposed         42\n",
    "nombre_recovered    17355\n",
    "Name: 93, dtype: int64"
   ]
  },
  {
   "cell_type": "markdown",
   "id": "fcc807bd",
   "metadata": {},
   "source": [
    "nombre_infected        64\n",
    "nombre_sain          2596\n",
    "nombre_exposed         42\n",
    "nombre_recovered    17298\n",
    "Name: 94, dtype: int64"
   ]
  },
  {
   "cell_type": "markdown",
   "id": "5dad2abd",
   "metadata": {},
   "source": [
    "nombre_infected        69\n",
    "nombre_sain          2640\n",
    "nombre_exposed         40\n",
    "nombre_recovered    17251\n",
    "Name: 95, dtype: int64"
   ]
  },
  {
   "cell_type": "markdown",
   "id": "3ac1ac56",
   "metadata": {},
   "source": [
    "nombre_infected        63\n",
    "nombre_sain          2692\n",
    "nombre_exposed         53\n",
    "nombre_recovered    17192\n",
    "Name: 96, dtype: int64"
   ]
  },
  {
   "cell_type": "markdown",
   "id": "c91d3c49",
   "metadata": {},
   "source": [
    "nombre_infected        66\n",
    "nombre_sain          2756\n",
    "nombre_exposed         48\n",
    "nombre_recovered    17130\n",
    "Name: 97, dtype: int64"
   ]
  },
  {
   "cell_type": "markdown",
   "id": "bcd52509",
   "metadata": {},
   "source": [
    "nombre_infected        66\n",
    "nombre_sain          2805\n",
    "nombre_exposed         45\n",
    "nombre_recovered    17084\n",
    "Name: 98, dtype: int64"
   ]
  },
  {
   "cell_type": "markdown",
   "id": "5da45a21",
   "metadata": {},
   "source": [
    "nombre_infected        73\n",
    "nombre_sain          2854\n",
    "nombre_exposed         36\n",
    "nombre_recovered    17037\n",
    "Name: 99, dtype: int64"
   ]
  },
  {
   "cell_type": "markdown",
   "id": "a7c100b6",
   "metadata": {},
   "source": [
    "nombre_infected        78\n",
    "nombre_sain          2894\n",
    "nombre_exposed         35\n",
    "nombre_recovered    16993\n",
    "Name: 100, dtype: int64"
   ]
  },
  {
   "cell_type": "markdown",
   "id": "17b7c0a3",
   "metadata": {},
   "source": [
    "nombre_infected        74\n",
    "nombre_sain          2935\n",
    "nombre_exposed         46\n",
    "nombre_recovered    16945\n",
    "Name: 101, dtype: int64"
   ]
  },
  {
   "cell_type": "markdown",
   "id": "fd94138c",
   "metadata": {},
   "source": [
    "nombre_infected        66\n",
    "nombre_sain          2959\n",
    "nombre_exposed         50\n",
    "nombre_recovered    16925\n",
    "Name: 102, dtype: int64"
   ]
  },
  {
   "cell_type": "markdown",
   "id": "984e7f62",
   "metadata": {},
   "source": [
    "nombre_infected        66\n",
    "nombre_sain          2990\n",
    "nombre_exposed         49\n",
    "nombre_recovered    16895\n",
    "Name: 103, dtype: int64"
   ]
  },
  {
   "cell_type": "markdown",
   "id": "bd589642",
   "metadata": {},
   "source": [
    "nombre_infected        70\n",
    "nombre_sain          3018\n",
    "nombre_exposed         48\n",
    "nombre_recovered    16864\n",
    "Name: 104, dtype: int64"
   ]
  },
  {
   "cell_type": "markdown",
   "id": "a7fd3318",
   "metadata": {},
   "source": [
    "nombre_infected        70\n",
    "nombre_sain          3037\n",
    "nombre_exposed         50\n",
    "nombre_recovered    16843\n",
    "Name: 105, dtype: int64"
   ]
  },
  {
   "cell_type": "markdown",
   "id": "f3dcad5a",
   "metadata": {},
   "source": [
    "nombre_infected        66\n",
    "nombre_sain          3054\n",
    "nombre_exposed         55\n",
    "nombre_recovered    16825\n",
    "Name: 106, dtype: int64"
   ]
  },
  {
   "cell_type": "markdown",
   "id": "7dce5654",
   "metadata": {},
   "source": [
    "nombre_infected        73\n",
    "nombre_sain          3071\n",
    "nombre_exposed         54\n",
    "nombre_recovered    16802\n",
    "Name: 107, dtype: int64"
   ]
  },
  {
   "cell_type": "markdown",
   "id": "3c2f6bcd",
   "metadata": {},
   "source": [
    "nombre_infected        81\n",
    "nombre_sain          3082\n",
    "nombre_exposed         58\n",
    "nombre_recovered    16779\n",
    "Name: 108, dtype: int64"
   ]
  },
  {
   "cell_type": "markdown",
   "id": "4c0f9959",
   "metadata": {},
   "source": [
    "nombre_infected        91\n",
    "nombre_sain          3090\n",
    "nombre_exposed         58\n",
    "nombre_recovered    16761\n",
    "Name: 109, dtype: int64"
   ]
  },
  {
   "cell_type": "markdown",
   "id": "de7b0c82",
   "metadata": {},
   "source": [
    "nombre_infected        89\n",
    "nombre_sain          3113\n",
    "nombre_exposed         57\n",
    "nombre_recovered    16741\n",
    "Name: 110, dtype: int64"
   ]
  },
  {
   "cell_type": "markdown",
   "id": "6934a082",
   "metadata": {},
   "source": [
    "nombre_infected        94\n",
    "nombre_sain          3129\n",
    "nombre_exposed         60\n",
    "nombre_recovered    16717\n",
    "Name: 111, dtype: int64"
   ]
  },
  {
   "cell_type": "markdown",
   "id": "18e60685",
   "metadata": {},
   "source": [
    "nombre_infected        87\n",
    "nombre_sain          3157\n",
    "nombre_exposed         60\n",
    "nombre_recovered    16696\n",
    "Name: 112, dtype: int64"
   ]
  },
  {
   "cell_type": "markdown",
   "id": "63cf9a1d",
   "metadata": {},
   "source": [
    "nombre_infected        93\n",
    "nombre_sain          3180\n",
    "nombre_exposed         52\n",
    "nombre_recovered    16675\n",
    "Name: 113, dtype: int64"
   ]
  },
  {
   "cell_type": "markdown",
   "id": "1e376486",
   "metadata": {},
   "source": [
    "nombre_infected        90\n",
    "nombre_sain          3197\n",
    "nombre_exposed         66\n",
    "nombre_recovered    16647\n",
    "Name: 114, dtype: int64"
   ]
  },
  {
   "cell_type": "markdown",
   "id": "abfa8a50",
   "metadata": {},
   "source": [
    "nombre_infected        88\n",
    "nombre_sain          3220\n",
    "nombre_exposed         74\n",
    "nombre_recovered    16618\n",
    "Name: 115, dtype: int64"
   ]
  },
  {
   "cell_type": "markdown",
   "id": "0c6d411a",
   "metadata": {},
   "source": [
    "nombre_infected        97\n",
    "nombre_sain          3239\n",
    "nombre_exposed         71\n",
    "nombre_recovered    16593\n",
    "Name: 116, dtype: int64"
   ]
  },
  {
   "cell_type": "markdown",
   "id": "ad9d0271",
   "metadata": {},
   "source": [
    "nombre_infected       101\n",
    "nombre_sain          3257\n",
    "nombre_exposed         84\n",
    "nombre_recovered    16558\n",
    "Name: 117, dtype: int64"
   ]
  },
  {
   "cell_type": "markdown",
   "id": "8d8844ea",
   "metadata": {},
   "source": [
    "nombre_infected       105\n",
    "nombre_sain          3283\n",
    "nombre_exposed         91\n",
    "nombre_recovered    16521\n",
    "Name: 118, dtype: int64"
   ]
  },
  {
   "cell_type": "markdown",
   "id": "5cd00f6a",
   "metadata": {},
   "source": [
    "nombre_infected       115\n",
    "nombre_sain          3303\n",
    "nombre_exposed         96\n",
    "nombre_recovered    16486\n",
    "Name: 119, dtype: int64"
   ]
  },
  {
   "cell_type": "markdown",
   "id": "038c4942",
   "metadata": {},
   "source": [
    "nombre_infected       126\n",
    "nombre_sain          3321\n",
    "nombre_exposed         94\n",
    "nombre_recovered    16459\n",
    "Name: 120, dtype: int64"
   ]
  },
  {
   "cell_type": "markdown",
   "id": "2a29397c",
   "metadata": {},
   "source": [
    "nombre_infected       127\n",
    "nombre_sain          3338\n",
    "nombre_exposed        111\n",
    "nombre_recovered    16424\n",
    "Name: 121, dtype: int64"
   ]
  },
  {
   "cell_type": "markdown",
   "id": "bb70cd25",
   "metadata": {},
   "source": [
    "nombre_infected       124\n",
    "nombre_sain          3342\n",
    "nombre_exposed        114\n",
    "nombre_recovered    16420\n",
    "Name: 122, dtype: int64"
   ]
  },
  {
   "cell_type": "markdown",
   "id": "5bf90a93",
   "metadata": {},
   "source": [
    "nombre_infected       137\n",
    "nombre_sain          3345\n",
    "nombre_exposed        116\n",
    "nombre_recovered    16402\n",
    "Name: 123, dtype: int64"
   ]
  },
  {
   "cell_type": "markdown",
   "id": "cee7b13f",
   "metadata": {},
   "source": [
    "nombre_infected       151\n",
    "nombre_sain          3355\n",
    "nombre_exposed        110\n",
    "nombre_recovered    16384\n",
    "Name: 124, dtype: int64"
   ]
  },
  {
   "cell_type": "markdown",
   "id": "a9f866bf",
   "metadata": {},
   "source": [
    "nombre_infected       164\n",
    "nombre_sain          3365\n",
    "nombre_exposed        104\n",
    "nombre_recovered    16367\n",
    "Name: 125, dtype: int64"
   ]
  },
  {
   "cell_type": "markdown",
   "id": "a3c531dd",
   "metadata": {},
   "source": [
    "nombre_infected       179\n",
    "nombre_sain          3358\n",
    "nombre_exposed        103\n",
    "nombre_recovered    16360\n",
    "Name: 126, dtype: int64"
   ]
  },
  {
   "cell_type": "markdown",
   "id": "17022827",
   "metadata": {},
   "source": [
    "nombre_infected       176\n",
    "nombre_sain          3363\n",
    "nombre_exposed        117\n",
    "nombre_recovered    16344\n",
    "Name: 127, dtype: int64"
   ]
  },
  {
   "cell_type": "markdown",
   "id": "7c6c9321",
   "metadata": {},
   "source": [
    "nombre_infected       183\n",
    "nombre_sain          3382\n",
    "nombre_exposed        115\n",
    "nombre_recovered    16320\n",
    "Name: 128, dtype: int64"
   ]
  },
  {
   "cell_type": "markdown",
   "id": "5dbe7d38",
   "metadata": {},
   "source": [
    "nombre_infected       195\n",
    "nombre_sain          3382\n",
    "nombre_exposed        120\n",
    "nombre_recovered    16303\n",
    "Name: 129, dtype: int64"
   ]
  },
  {
   "cell_type": "markdown",
   "id": "10036b26",
   "metadata": {},
   "source": [
    "nombre_infected       190\n",
    "nombre_sain          3385\n",
    "nombre_exposed        131\n",
    "nombre_recovered    16294\n",
    "Name: 130, dtype: int64"
   ]
  },
  {
   "cell_type": "markdown",
   "id": "f5b5b3a1",
   "metadata": {},
   "source": [
    "nombre_infected       196\n",
    "nombre_sain          3407\n",
    "nombre_exposed        138\n",
    "nombre_recovered    16259\n",
    "Name: 131, dtype: int64"
   ]
  },
  {
   "cell_type": "markdown",
   "id": "f612b801",
   "metadata": {},
   "source": [
    "nombre_infected       196\n",
    "nombre_sain          3421\n",
    "nombre_exposed        148\n",
    "nombre_recovered    16235\n",
    "Name: 132, dtype: int64"
   ]
  },
  {
   "cell_type": "markdown",
   "id": "e9ac0c48",
   "metadata": {},
   "source": [
    "nombre_infected       203\n",
    "nombre_sain          3408\n",
    "nombre_exposed        162\n",
    "nombre_recovered    16227\n",
    "Name: 133, dtype: int64"
   ]
  },
  {
   "cell_type": "markdown",
   "id": "4db0f39a",
   "metadata": {},
   "source": [
    "nombre_infected       219\n",
    "nombre_sain          3420\n",
    "nombre_exposed        164\n",
    "nombre_recovered    16197\n",
    "Name: 134, dtype: int64"
   ]
  },
  {
   "cell_type": "markdown",
   "id": "706c6220",
   "metadata": {},
   "source": [
    "nombre_infected       237\n",
    "nombre_sain          3423\n",
    "nombre_exposed        161\n",
    "nombre_recovered    16179\n",
    "Name: 135, dtype: int64"
   ]
  },
  {
   "cell_type": "markdown",
   "id": "93f17792",
   "metadata": {},
   "source": [
    "nombre_infected       256\n",
    "nombre_sain          3425\n",
    "nombre_exposed        165\n",
    "nombre_recovered    16154\n",
    "Name: 136, dtype: int64"
   ]
  },
  {
   "cell_type": "markdown",
   "id": "d3d906b8",
   "metadata": {},
   "source": [
    "nombre_infected       261\n",
    "nombre_sain          3424\n",
    "nombre_exposed        181\n",
    "nombre_recovered    16134\n",
    "Name: 137, dtype: int64"
   ]
  },
  {
   "cell_type": "markdown",
   "id": "952e2fe1",
   "metadata": {},
   "source": [
    "nombre_infected       267\n",
    "nombre_sain          3416\n",
    "nombre_exposed        191\n",
    "nombre_recovered    16126\n",
    "Name: 138, dtype: int64"
   ]
  },
  {
   "cell_type": "markdown",
   "id": "6b275382",
   "metadata": {},
   "source": [
    "nombre_infected       270\n",
    "nombre_sain          3405\n",
    "nombre_exposed        202\n",
    "nombre_recovered    16123\n",
    "Name: 139, dtype: int64"
   ]
  },
  {
   "cell_type": "markdown",
   "id": "ba1b2ea6",
   "metadata": {},
   "source": [
    "nombre_infected       281\n",
    "nombre_sain          3374\n",
    "nombre_exposed        219\n",
    "nombre_recovered    16126\n",
    "Name: 140, dtype: int64"
   ]
  },
  {
   "cell_type": "markdown",
   "id": "b0cd4efe",
   "metadata": {},
   "source": [
    "nombre_infected       294\n",
    "nombre_sain          3371\n",
    "nombre_exposed        235\n",
    "nombre_recovered    16100\n",
    "Name: 141, dtype: int64"
   ]
  },
  {
   "cell_type": "markdown",
   "id": "9718eb65",
   "metadata": {},
   "source": [
    "nombre_infected       316\n",
    "nombre_sain          3377\n",
    "nombre_exposed        237\n",
    "nombre_recovered    16070\n",
    "Name: 142, dtype: int64"
   ]
  },
  {
   "cell_type": "markdown",
   "id": "3f4679a3",
   "metadata": {},
   "source": [
    "nombre_infected       325\n",
    "nombre_sain          3367\n",
    "nombre_exposed        249\n",
    "nombre_recovered    16059\n",
    "Name: 143, dtype: int64"
   ]
  },
  {
   "cell_type": "markdown",
   "id": "58e5a623",
   "metadata": {},
   "source": [
    "nombre_infected       343\n",
    "nombre_sain          3358\n",
    "nombre_exposed        254\n",
    "nombre_recovered    16045\n",
    "Name: 144, dtype: int64"
   ]
  },
  {
   "cell_type": "markdown",
   "id": "afdce0cc",
   "metadata": {},
   "source": [
    "nombre_infected       363\n",
    "nombre_sain          3348\n",
    "nombre_exposed        254\n",
    "nombre_recovered    16035\n",
    "Name: 145, dtype: int64"
   ]
  },
  {
   "cell_type": "markdown",
   "id": "8d3abfd2",
   "metadata": {},
   "source": [
    "nombre_infected       375\n",
    "nombre_sain          3330\n",
    "nombre_exposed        264\n",
    "nombre_recovered    16031\n",
    "Name: 146, dtype: int64"
   ]
  },
  {
   "cell_type": "markdown",
   "id": "9981dcbc",
   "metadata": {},
   "source": [
    "nombre_infected       384\n",
    "nombre_sain          3309\n",
    "nombre_exposed        289\n",
    "nombre_recovered    16018\n",
    "Name: 147, dtype: int64"
   ]
  },
  {
   "cell_type": "markdown",
   "id": "5bfd5510",
   "metadata": {},
   "source": [
    "nombre_infected       404\n",
    "nombre_sain          3304\n",
    "nombre_exposed        291\n",
    "nombre_recovered    16001\n",
    "Name: 148, dtype: int64"
   ]
  },
  {
   "cell_type": "markdown",
   "id": "63c119aa",
   "metadata": {},
   "source": [
    "nombre_infected       419\n",
    "nombre_sain          3271\n",
    "nombre_exposed        317\n",
    "nombre_recovered    15993\n",
    "Name: 149, dtype: int64"
   ]
  },
  {
   "cell_type": "markdown",
   "id": "7f91fbbe",
   "metadata": {},
   "source": [
    "nombre_infected       442\n",
    "nombre_sain          3241\n",
    "nombre_exposed        323\n",
    "nombre_recovered    15994\n",
    "Name: 150, dtype: int64"
   ]
  },
  {
   "cell_type": "markdown",
   "id": "6b64dec4",
   "metadata": {},
   "source": [
    "nombre_infected       466\n",
    "nombre_sain          3232\n",
    "nombre_exposed        324\n",
    "nombre_recovered    15978\n",
    "Name: 151, dtype: int64"
   ]
  },
  {
   "cell_type": "markdown",
   "id": "ea9c8801",
   "metadata": {},
   "source": [
    "nombre_infected       498\n",
    "nombre_sain          3193\n",
    "nombre_exposed        332\n",
    "nombre_recovered    15977\n",
    "Name: 152, dtype: int64"
   ]
  },
  {
   "cell_type": "markdown",
   "id": "09c81f42",
   "metadata": {},
   "source": [
    "nombre_infected       499\n",
    "nombre_sain          3165\n",
    "nombre_exposed        350\n",
    "nombre_recovered    15986\n",
    "Name: 153, dtype: int64"
   ]
  },
  {
   "cell_type": "markdown",
   "id": "89b184c4",
   "metadata": {},
   "source": [
    "nombre_infected       502\n",
    "nombre_sain          3127\n",
    "nombre_exposed        379\n",
    "nombre_recovered    15992\n",
    "Name: 154, dtype: int64"
   ]
  },
  {
   "cell_type": "markdown",
   "id": "5beeb66f",
   "metadata": {},
   "source": [
    "nombre_infected       512\n",
    "nombre_sain          3094\n",
    "nombre_exposed        390\n",
    "nombre_recovered    16004\n",
    "Name: 155, dtype: int64"
   ]
  },
  {
   "cell_type": "markdown",
   "id": "129c4873",
   "metadata": {},
   "source": [
    "nombre_infected       552\n",
    "nombre_sain          3071\n",
    "nombre_exposed        391\n",
    "nombre_recovered    15986\n",
    "Name: 156, dtype: int64"
   ]
  },
  {
   "cell_type": "markdown",
   "id": "332e6bb5",
   "metadata": {},
   "source": [
    "nombre_infected       567\n",
    "nombre_sain          3061\n",
    "nombre_exposed        406\n",
    "nombre_recovered    15966\n",
    "Name: 157, dtype: int64"
   ]
  },
  {
   "cell_type": "markdown",
   "id": "62150ba1",
   "metadata": {},
   "source": [
    "nombre_infected       585\n",
    "nombre_sain          3015\n",
    "nombre_exposed        420\n",
    "nombre_recovered    15980\n",
    "Name: 158, dtype: int64"
   ]
  },
  {
   "cell_type": "markdown",
   "id": "bd2d7556",
   "metadata": {},
   "source": [
    "nombre_infected       628\n",
    "nombre_sain          3018\n",
    "nombre_exposed        412\n",
    "nombre_recovered    15942\n",
    "Name: 159, dtype: int64"
   ]
  },
  {
   "cell_type": "markdown",
   "id": "4d74439f",
   "metadata": {},
   "source": [
    "nombre_infected       642\n",
    "nombre_sain          2973\n",
    "nombre_exposed        433\n",
    "nombre_recovered    15952\n",
    "Name: 160, dtype: int64"
   ]
  },
  {
   "cell_type": "markdown",
   "id": "956c5e68",
   "metadata": {},
   "source": [
    "nombre_infected       668\n",
    "nombre_sain          2915\n",
    "nombre_exposed        457\n",
    "nombre_recovered    15960\n",
    "Name: 161, dtype: int64"
   ]
  },
  {
   "cell_type": "markdown",
   "id": "188962fa",
   "metadata": {},
   "source": [
    "nombre_infected       685\n",
    "nombre_sain          2855\n",
    "nombre_exposed        480\n",
    "nombre_recovered    15980\n",
    "Name: 162, dtype: int64"
   ]
  },
  {
   "cell_type": "markdown",
   "id": "5ed08fcd",
   "metadata": {},
   "source": [
    "nombre_infected       692\n",
    "nombre_sain          2803\n",
    "nombre_exposed        492\n",
    "nombre_recovered    16013\n",
    "Name: 163, dtype: int64"
   ]
  },
  {
   "cell_type": "markdown",
   "id": "b0ce5b9f",
   "metadata": {},
   "source": [
    "nombre_infected       714\n",
    "nombre_sain          2742\n",
    "nombre_exposed        500\n",
    "nombre_recovered    16044\n",
    "Name: 164, dtype: int64"
   ]
  },
  {
   "cell_type": "markdown",
   "id": "cd7f5260",
   "metadata": {},
   "source": [
    "nombre_infected       741\n",
    "nombre_sain          2652\n",
    "nombre_exposed        531\n",
    "nombre_recovered    16076\n",
    "Name: 165, dtype: int64"
   ]
  },
  {
   "cell_type": "markdown",
   "id": "b1e58269",
   "metadata": {},
   "source": [
    "nombre_infected       758\n",
    "nombre_sain          2601\n",
    "nombre_exposed        529\n",
    "nombre_recovered    16112\n",
    "Name: 166, dtype: int64"
   ]
  },
  {
   "cell_type": "markdown",
   "id": "acb01dc2",
   "metadata": {},
   "source": [
    "nombre_infected       798\n",
    "nombre_sain          2550\n",
    "nombre_exposed        497\n",
    "nombre_recovered    16155\n",
    "Name: 167, dtype: int64"
   ]
  },
  {
   "cell_type": "markdown",
   "id": "658ff46f",
   "metadata": {},
   "source": [
    "nombre_infected       837\n",
    "nombre_sain          2450\n",
    "nombre_exposed        508\n",
    "nombre_recovered    16205\n",
    "Name: 168, dtype: int64"
   ]
  },
  {
   "cell_type": "markdown",
   "id": "7efd2a65",
   "metadata": {},
   "source": [
    "nombre_infected       849\n",
    "nombre_sain          2358\n",
    "nombre_exposed        538\n",
    "nombre_recovered    16255\n",
    "Name: 169, dtype: int64"
   ]
  },
  {
   "cell_type": "markdown",
   "id": "558cf5c0",
   "metadata": {},
   "source": [
    "nombre_infected       844\n",
    "nombre_sain          2297\n",
    "nombre_exposed        509\n",
    "nombre_recovered    16350\n",
    "Name: 170, dtype: int64"
   ]
  },
  {
   "cell_type": "markdown",
   "id": "8de300e0",
   "metadata": {},
   "source": [
    "nombre_infected       860\n",
    "nombre_sain          2218\n",
    "nombre_exposed        520\n",
    "nombre_recovered    16402\n",
    "Name: 171, dtype: int64"
   ]
  },
  {
   "cell_type": "markdown",
   "id": "1b4f1d5f",
   "metadata": {},
   "source": [
    "nombre_infected       881\n",
    "nombre_sain          2155\n",
    "nombre_exposed        516\n",
    "nombre_recovered    16448\n",
    "Name: 172, dtype: int64"
   ]
  },
  {
   "cell_type": "markdown",
   "id": "c763c75c",
   "metadata": {},
   "source": [
    "nombre_infected       878\n",
    "nombre_sain          2083\n",
    "nombre_exposed        521\n",
    "nombre_recovered    16518\n",
    "Name: 173, dtype: int64"
   ]
  },
  {
   "cell_type": "markdown",
   "id": "73445e64",
   "metadata": {},
   "source": [
    "nombre_infected       889\n",
    "nombre_sain          2005\n",
    "nombre_exposed        531\n",
    "nombre_recovered    16575\n",
    "Name: 174, dtype: int64"
   ]
  },
  {
   "cell_type": "markdown",
   "id": "cce23eeb",
   "metadata": {},
   "source": [
    "nombre_infected       882\n",
    "nombre_sain          1946\n",
    "nombre_exposed        542\n",
    "nombre_recovered    16630\n",
    "Name: 175, dtype: int64"
   ]
  },
  {
   "cell_type": "markdown",
   "id": "4eb23ff2",
   "metadata": {},
   "source": [
    "nombre_infected       874\n",
    "nombre_sain          1889\n",
    "nombre_exposed        526\n",
    "nombre_recovered    16711\n",
    "Name: 176, dtype: int64"
   ]
  },
  {
   "cell_type": "markdown",
   "id": "78cfa151",
   "metadata": {},
   "source": [
    "nombre_infected       875\n",
    "nombre_sain          1842\n",
    "nombre_exposed        498\n",
    "nombre_recovered    16785\n",
    "Name: 177, dtype: int64"
   ]
  },
  {
   "cell_type": "markdown",
   "id": "074a0d9f",
   "metadata": {},
   "source": [
    "nombre_infected       879\n",
    "nombre_sain          1819\n",
    "nombre_exposed        460\n",
    "nombre_recovered    16842\n",
    "Name: 178, dtype: int64"
   ]
  },
  {
   "cell_type": "markdown",
   "id": "234cc8e8",
   "metadata": {},
   "source": [
    "nombre_infected       878\n",
    "nombre_sain          1799\n",
    "nombre_exposed        432\n",
    "nombre_recovered    16891\n",
    "Name: 179, dtype: int64"
   ]
  },
  {
   "cell_type": "markdown",
   "id": "0348d330",
   "metadata": {},
   "source": [
    "nombre_infected       850\n",
    "nombre_sain          1775\n",
    "nombre_exposed        429\n",
    "nombre_recovered    16946\n",
    "Name: 180, dtype: int64"
   ]
  },
  {
   "cell_type": "markdown",
   "id": "7982b66e",
   "metadata": {},
   "source": [
    "nombre_infected       832\n",
    "nombre_sain          1759\n",
    "nombre_exposed        416\n",
    "nombre_recovered    16993\n",
    "Name: 181, dtype: int64"
   ]
  },
  {
   "cell_type": "markdown",
   "id": "0e819316",
   "metadata": {},
   "source": [
    "nombre_infected       826\n",
    "nombre_sain          1747\n",
    "nombre_exposed        408\n",
    "nombre_recovered    17019\n",
    "Name: 182, dtype: int64"
   ]
  },
  {
   "cell_type": "markdown",
   "id": "5f17cb68",
   "metadata": {},
   "source": [
    "nombre_infected       818\n",
    "nombre_sain          1738\n",
    "nombre_exposed        403\n",
    "nombre_recovered    17041\n",
    "Name: 183, dtype: int64"
   ]
  },
  {
   "cell_type": "markdown",
   "id": "5fa0f855",
   "metadata": {},
   "source": [
    "nombre_infected       797\n",
    "nombre_sain          1754\n",
    "nombre_exposed        386\n",
    "nombre_recovered    17063\n",
    "Name: 184, dtype: int64"
   ]
  },
  {
   "cell_type": "markdown",
   "id": "559cb80a",
   "metadata": {},
   "source": [
    "nombre_infected       776\n",
    "nombre_sain          1751\n",
    "nombre_exposed        374\n",
    "nombre_recovered    17099\n",
    "Name: 185, dtype: int64"
   ]
  },
  {
   "cell_type": "markdown",
   "id": "d3b75d6d",
   "metadata": {},
   "source": [
    "nombre_infected       762\n",
    "nombre_sain          1751\n",
    "nombre_exposed        375\n",
    "nombre_recovered    17112\n",
    "Name: 186, dtype: int64"
   ]
  },
  {
   "cell_type": "markdown",
   "id": "b0d2721e",
   "metadata": {},
   "source": [
    "nombre_infected       755\n",
    "nombre_sain          1742\n",
    "nombre_exposed        383\n",
    "nombre_recovered    17120\n",
    "Name: 187, dtype: int64"
   ]
  },
  {
   "cell_type": "markdown",
   "id": "31f35a27",
   "metadata": {},
   "source": [
    "nombre_infected       739\n",
    "nombre_sain          1744\n",
    "nombre_exposed        386\n",
    "nombre_recovered    17131\n",
    "Name: 188, dtype: int64"
   ]
  },
  {
   "cell_type": "markdown",
   "id": "936ecfd9",
   "metadata": {},
   "source": [
    "nombre_infected       753\n",
    "nombre_sain          1779\n",
    "nombre_exposed        353\n",
    "nombre_recovered    17115\n",
    "Name: 189, dtype: int64"
   ]
  },
  {
   "cell_type": "markdown",
   "id": "7b337e4c",
   "metadata": {},
   "source": [
    "nombre_infected       746\n",
    "nombre_sain          1824\n",
    "nombre_exposed        339\n",
    "nombre_recovered    17091\n",
    "Name: 190, dtype: int64"
   ]
  },
  {
   "cell_type": "markdown",
   "id": "c59b0e33",
   "metadata": {},
   "source": [
    "nombre_infected       727\n",
    "nombre_sain          1874\n",
    "nombre_exposed        336\n",
    "nombre_recovered    17063\n",
    "Name: 191, dtype: int64"
   ]
  },
  {
   "cell_type": "markdown",
   "id": "5cc56864",
   "metadata": {},
   "source": [
    "nombre_infected       712\n",
    "nombre_sain          1906\n",
    "nombre_exposed        316\n",
    "nombre_recovered    17066\n",
    "Name: 192, dtype: int64"
   ]
  },
  {
   "cell_type": "markdown",
   "id": "0bb21284",
   "metadata": {},
   "source": [
    "nombre_infected       692\n",
    "nombre_sain          1926\n",
    "nombre_exposed        310\n",
    "nombre_recovered    17072\n",
    "Name: 193, dtype: int64"
   ]
  },
  {
   "cell_type": "markdown",
   "id": "d4326ef7",
   "metadata": {},
   "source": [
    "nombre_infected       672\n",
    "nombre_sain          1963\n",
    "nombre_exposed        318\n",
    "nombre_recovered    17047\n",
    "Name: 194, dtype: int64"
   ]
  },
  {
   "cell_type": "markdown",
   "id": "2143d29e",
   "metadata": {},
   "source": [
    "nombre_infected       653\n",
    "nombre_sain          1992\n",
    "nombre_exposed        316\n",
    "nombre_recovered    17039\n",
    "Name: 195, dtype: int64"
   ]
  },
  {
   "cell_type": "markdown",
   "id": "c2c142fe",
   "metadata": {},
   "source": [
    "nombre_infected       636\n",
    "nombre_sain          2013\n",
    "nombre_exposed        317\n",
    "nombre_recovered    17034\n",
    "Name: 196, dtype: int64"
   ]
  },
  {
   "cell_type": "markdown",
   "id": "15e676a0",
   "metadata": {},
   "source": [
    "nombre_infected       635\n",
    "nombre_sain          2045\n",
    "nombre_exposed        309\n",
    "nombre_recovered    17011\n",
    "Name: 197, dtype: int64"
   ]
  },
  {
   "cell_type": "markdown",
   "id": "a316bf64",
   "metadata": {},
   "source": [
    "nombre_infected       637\n",
    "nombre_sain          2073\n",
    "nombre_exposed        301\n",
    "nombre_recovered    16989\n",
    "Name: 198, dtype: int64"
   ]
  },
  {
   "cell_type": "markdown",
   "id": "490fdf15",
   "metadata": {},
   "source": [
    "nombre_infected       609\n",
    "nombre_sain          2081\n",
    "nombre_exposed        315\n",
    "nombre_recovered    16995\n",
    "Name: 199, dtype: int64"
   ]
  },
  {
   "cell_type": "markdown",
   "id": "6114ce35",
   "metadata": {},
   "source": [
    "nombre_infected       592\n",
    "nombre_sain          2103\n",
    "nombre_exposed        319\n",
    "nombre_recovered    16986\n",
    "Name: 200, dtype: int64"
   ]
  },
  {
   "cell_type": "markdown",
   "id": "1bc4338e",
   "metadata": {},
   "source": [
    "nombre_infected       592\n",
    "nombre_sain          2128\n",
    "nombre_exposed        320\n",
    "nombre_recovered    16960\n",
    "Name: 201, dtype: int64"
   ]
  },
  {
   "cell_type": "markdown",
   "id": "94fae5f5",
   "metadata": {},
   "source": [
    "nombre_infected       571\n",
    "nombre_sain          2151\n",
    "nombre_exposed        321\n",
    "nombre_recovered    16957\n",
    "Name: 202, dtype: int64"
   ]
  },
  {
   "cell_type": "markdown",
   "id": "283bf583",
   "metadata": {},
   "source": [
    "nombre_infected       558\n",
    "nombre_sain          2148\n",
    "nombre_exposed        324\n",
    "nombre_recovered    16970\n",
    "Name: 203, dtype: int64"
   ]
  },
  {
   "cell_type": "markdown",
   "id": "da2793e5",
   "metadata": {},
   "source": [
    "nombre_infected       559\n",
    "nombre_sain          2142\n",
    "nombre_exposed        322\n",
    "nombre_recovered    16977\n",
    "Name: 204, dtype: int64"
   ]
  },
  {
   "cell_type": "markdown",
   "id": "1e40982e",
   "metadata": {},
   "source": [
    "nombre_infected       567\n",
    "nombre_sain          2172\n",
    "nombre_exposed        300\n",
    "nombre_recovered    16961\n",
    "Name: 205, dtype: int64"
   ]
  },
  {
   "cell_type": "markdown",
   "id": "33eed2e2",
   "metadata": {},
   "source": [
    "nombre_infected       567\n",
    "nombre_sain          2217\n",
    "nombre_exposed        289\n",
    "nombre_recovered    16927\n",
    "Name: 206, dtype: int64"
   ]
  },
  {
   "cell_type": "markdown",
   "id": "be35b920",
   "metadata": {},
   "source": [
    "nombre_infected       533\n",
    "nombre_sain          2237\n",
    "nombre_exposed        305\n",
    "nombre_recovered    16925\n",
    "Name: 207, dtype: int64"
   ]
  },
  {
   "cell_type": "markdown",
   "id": "8f454fcd",
   "metadata": {},
   "source": [
    "nombre_infected       534\n",
    "nombre_sain          2240\n",
    "nombre_exposed        315\n",
    "nombre_recovered    16911\n",
    "Name: 208, dtype: int64"
   ]
  },
  {
   "cell_type": "markdown",
   "id": "2c175e00",
   "metadata": {},
   "source": [
    "nombre_infected       546\n",
    "nombre_sain          2268\n",
    "nombre_exposed        308\n",
    "nombre_recovered    16878\n",
    "Name: 209, dtype: int64"
   ]
  },
  {
   "cell_type": "markdown",
   "id": "52650831",
   "metadata": {},
   "source": [
    "nombre_infected       539\n",
    "nombre_sain          2287\n",
    "nombre_exposed        316\n",
    "nombre_recovered    16858\n",
    "Name: 210, dtype: int64"
   ]
  },
  {
   "cell_type": "markdown",
   "id": "6219ad38",
   "metadata": {},
   "source": [
    "nombre_infected       537\n",
    "nombre_sain          2298\n",
    "nombre_exposed        319\n",
    "nombre_recovered    16846\n",
    "Name: 211, dtype: int64"
   ]
  },
  {
   "cell_type": "markdown",
   "id": "e6d71fcc",
   "metadata": {},
   "source": [
    "nombre_infected       547\n",
    "nombre_sain          2311\n",
    "nombre_exposed        322\n",
    "nombre_recovered    16820\n",
    "Name: 212, dtype: int64"
   ]
  },
  {
   "cell_type": "markdown",
   "id": "2d7c7682",
   "metadata": {},
   "source": [
    "nombre_infected       564\n",
    "nombre_sain          2330\n",
    "nombre_exposed        310\n",
    "nombre_recovered    16796\n",
    "Name: 213, dtype: int64"
   ]
  },
  {
   "cell_type": "markdown",
   "id": "5bc0fdf8",
   "metadata": {},
   "source": [
    "nombre_infected       557\n",
    "nombre_sain          2334\n",
    "nombre_exposed        320\n",
    "nombre_recovered    16789\n",
    "Name: 214, dtype: int64"
   ]
  },
  {
   "cell_type": "markdown",
   "id": "e1499194",
   "metadata": {},
   "source": [
    "nombre_infected       562\n",
    "nombre_sain          2361\n",
    "nombre_exposed        317\n",
    "nombre_recovered    16760\n",
    "Name: 215, dtype: int64"
   ]
  },
  {
   "cell_type": "markdown",
   "id": "b55e5160",
   "metadata": {},
   "source": [
    "nombre_infected       562\n",
    "nombre_sain          2383\n",
    "nombre_exposed        339\n",
    "nombre_recovered    16716\n",
    "Name: 216, dtype: int64"
   ]
  },
  {
   "cell_type": "markdown",
   "id": "9ed1f30f",
   "metadata": {},
   "source": [
    "nombre_infected       570\n",
    "nombre_sain          2415\n",
    "nombre_exposed        351\n",
    "nombre_recovered    16664\n",
    "Name: 217, dtype: int64"
   ]
  },
  {
   "cell_type": "markdown",
   "id": "55aef790",
   "metadata": {},
   "source": [
    "nombre_infected       601\n",
    "nombre_sain          2437\n",
    "nombre_exposed        347\n",
    "nombre_recovered    16615\n",
    "Name: 218, dtype: int64"
   ]
  },
  {
   "cell_type": "markdown",
   "id": "d6990953",
   "metadata": {},
   "source": [
    "nombre_infected       597\n",
    "nombre_sain          2438\n",
    "nombre_exposed        351\n",
    "nombre_recovered    16614\n",
    "Name: 219, dtype: int64"
   ]
  },
  {
   "cell_type": "markdown",
   "id": "5409fa73",
   "metadata": {},
   "source": [
    "nombre_infected       589\n",
    "nombre_sain          2437\n",
    "nombre_exposed        364\n",
    "nombre_recovered    16610\n",
    "Name: 220, dtype: int64"
   ]
  },
  {
   "cell_type": "markdown",
   "id": "33c3dbbd",
   "metadata": {},
   "source": [
    "nombre_infected       593\n",
    "nombre_sain          2430\n",
    "nombre_exposed        381\n",
    "nombre_recovered    16596\n",
    "Name: 221, dtype: int64"
   ]
  },
  {
   "cell_type": "markdown",
   "id": "61f2a136",
   "metadata": {},
   "source": [
    "nombre_infected       621\n",
    "nombre_sain          2429\n",
    "nombre_exposed        382\n",
    "nombre_recovered    16568\n",
    "Name: 222, dtype: int64"
   ]
  },
  {
   "cell_type": "markdown",
   "id": "54be6563",
   "metadata": {},
   "source": [
    "nombre_infected       633\n",
    "nombre_sain          2434\n",
    "nombre_exposed        375\n",
    "nombre_recovered    16558\n",
    "Name: 223, dtype: int64"
   ]
  },
  {
   "cell_type": "markdown",
   "id": "e4d3b5e4",
   "metadata": {},
   "source": [
    "nombre_infected       656\n",
    "nombre_sain          2441\n",
    "nombre_exposed        369\n",
    "nombre_recovered    16534\n",
    "Name: 224, dtype: int64"
   ]
  },
  {
   "cell_type": "markdown",
   "id": "660ea7b4",
   "metadata": {},
   "source": [
    "nombre_infected       680\n",
    "nombre_sain          2431\n",
    "nombre_exposed        371\n",
    "nombre_recovered    16518\n",
    "Name: 225, dtype: int64"
   ]
  },
  {
   "cell_type": "markdown",
   "id": "b13177f5",
   "metadata": {},
   "source": [
    "nombre_infected       674\n",
    "nombre_sain          2418\n",
    "nombre_exposed        382\n",
    "nombre_recovered    16526\n",
    "Name: 226, dtype: int64"
   ]
  },
  {
   "cell_type": "markdown",
   "id": "cb33794e",
   "metadata": {},
   "source": [
    "nombre_infected       685\n",
    "nombre_sain          2401\n",
    "nombre_exposed        391\n",
    "nombre_recovered    16523\n",
    "Name: 227, dtype: int64"
   ]
  },
  {
   "cell_type": "markdown",
   "id": "deea3ae1",
   "metadata": {},
   "source": [
    "nombre_infected       683\n",
    "nombre_sain          2423\n",
    "nombre_exposed        387\n",
    "nombre_recovered    16507\n",
    "Name: 228, dtype: int64"
   ]
  },
  {
   "cell_type": "markdown",
   "id": "03596e5e",
   "metadata": {},
   "source": [
    "nombre_infected       690\n",
    "nombre_sain          2413\n",
    "nombre_exposed        385\n",
    "nombre_recovered    16512\n",
    "Name: 229, dtype: int64"
   ]
  },
  {
   "cell_type": "markdown",
   "id": "b9ccc448",
   "metadata": {},
   "source": [
    "nombre_infected       700\n",
    "nombre_sain          2400\n",
    "nombre_exposed        390\n",
    "nombre_recovered    16510\n",
    "Name: 230, dtype: int64"
   ]
  },
  {
   "cell_type": "markdown",
   "id": "e4ffd639",
   "metadata": {},
   "source": [
    "nombre_infected       717\n",
    "nombre_sain          2396\n",
    "nombre_exposed        391\n",
    "nombre_recovered    16496\n",
    "Name: 231, dtype: int64"
   ]
  },
  {
   "cell_type": "markdown",
   "id": "792a6c2f",
   "metadata": {},
   "source": [
    "nombre_infected       715\n",
    "nombre_sain          2394\n",
    "nombre_exposed        385\n",
    "nombre_recovered    16506\n",
    "Name: 232, dtype: int64"
   ]
  },
  {
   "cell_type": "markdown",
   "id": "93a1b69f",
   "metadata": {},
   "source": [
    "nombre_infected       706\n",
    "nombre_sain          2380\n",
    "nombre_exposed        403\n",
    "nombre_recovered    16511\n",
    "Name: 233, dtype: int64"
   ]
  },
  {
   "cell_type": "markdown",
   "id": "866f73e5",
   "metadata": {},
   "source": [
    "nombre_infected       682\n",
    "nombre_sain          2364\n",
    "nombre_exposed        419\n",
    "nombre_recovered    16535\n",
    "Name: 234, dtype: int64"
   ]
  },
  {
   "cell_type": "markdown",
   "id": "71ef63a5",
   "metadata": {},
   "source": [
    "nombre_infected       702\n",
    "nombre_sain          2344\n",
    "nombre_exposed        407\n",
    "nombre_recovered    16547\n",
    "Name: 235, dtype: int64"
   ]
  },
  {
   "cell_type": "markdown",
   "id": "85042da1",
   "metadata": {},
   "source": [
    "nombre_infected       707\n",
    "nombre_sain          2342\n",
    "nombre_exposed        424\n",
    "nombre_recovered    16527\n",
    "Name: 236, dtype: int64"
   ]
  },
  {
   "cell_type": "markdown",
   "id": "7a0587af",
   "metadata": {},
   "source": [
    "nombre_infected       727\n",
    "nombre_sain          2349\n",
    "nombre_exposed        401\n",
    "nombre_recovered    16523\n",
    "Name: 237, dtype: int64"
   ]
  },
  {
   "cell_type": "markdown",
   "id": "edfd990d",
   "metadata": {},
   "source": [
    "nombre_infected       719\n",
    "nombre_sain          2356\n",
    "nombre_exposed        401\n",
    "nombre_recovered    16524\n",
    "Name: 238, dtype: int64"
   ]
  },
  {
   "cell_type": "markdown",
   "id": "2c217f60",
   "metadata": {},
   "source": [
    "nombre_infected       714\n",
    "nombre_sain          2363\n",
    "nombre_exposed        398\n",
    "nombre_recovered    16525\n",
    "Name: 239, dtype: int64"
   ]
  },
  {
   "cell_type": "markdown",
   "id": "37262a05",
   "metadata": {},
   "source": [
    "nombre_infected       742\n",
    "nombre_sain          2372\n",
    "nombre_exposed        373\n",
    "nombre_recovered    16513\n",
    "Name: 240, dtype: int64"
   ]
  },
  {
   "cell_type": "markdown",
   "id": "1471fc1e",
   "metadata": {},
   "source": [
    "nombre_infected       720\n",
    "nombre_sain          2349\n",
    "nombre_exposed        399\n",
    "nombre_recovered    16532\n",
    "Name: 241, dtype: int64"
   ]
  },
  {
   "cell_type": "markdown",
   "id": "ffbe1233",
   "metadata": {},
   "source": [
    "nombre_infected       716\n",
    "nombre_sain          2308\n",
    "nombre_exposed        409\n",
    "nombre_recovered    16567\n",
    "Name: 242, dtype: int64"
   ]
  },
  {
   "cell_type": "markdown",
   "id": "c88d9a19",
   "metadata": {},
   "source": [
    "nombre_infected       734\n",
    "nombre_sain          2303\n",
    "nombre_exposed        397\n",
    "nombre_recovered    16566\n",
    "Name: 243, dtype: int64"
   ]
  },
  {
   "cell_type": "markdown",
   "id": "052a295b",
   "metadata": {},
   "source": [
    "nombre_infected       731\n",
    "nombre_sain          2290\n",
    "nombre_exposed        404\n",
    "nombre_recovered    16575\n",
    "Name: 244, dtype: int64"
   ]
  },
  {
   "cell_type": "markdown",
   "id": "8def68e2",
   "metadata": {},
   "source": [
    "nombre_infected       708\n",
    "nombre_sain          2282\n",
    "nombre_exposed        402\n",
    "nombre_recovered    16608\n",
    "Name: 245, dtype: int64"
   ]
  },
  {
   "cell_type": "markdown",
   "id": "7493c6bf",
   "metadata": {},
   "source": [
    "nombre_infected       707\n",
    "nombre_sain          2276\n",
    "nombre_exposed        387\n",
    "nombre_recovered    16630\n",
    "Name: 246, dtype: int64"
   ]
  },
  {
   "cell_type": "markdown",
   "id": "5ca37284",
   "metadata": {},
   "source": [
    "nombre_infected       716\n",
    "nombre_sain          2260\n",
    "nombre_exposed        383\n",
    "nombre_recovered    16641\n",
    "Name: 247, dtype: int64"
   ]
  },
  {
   "cell_type": "markdown",
   "id": "70495706",
   "metadata": {},
   "source": [
    "nombre_infected       703\n",
    "nombre_sain          2250\n",
    "nombre_exposed        381\n",
    "nombre_recovered    16666\n",
    "Name: 248, dtype: int64"
   ]
  },
  {
   "cell_type": "markdown",
   "id": "f84e134a",
   "metadata": {},
   "source": [
    "nombre_infected       699\n",
    "nombre_sain          2236\n",
    "nombre_exposed        404\n",
    "nombre_recovered    16661\n",
    "Name: 249, dtype: int64"
   ]
  },
  {
   "cell_type": "markdown",
   "id": "75e3a92e",
   "metadata": {},
   "source": [
    "nombre_infected       685\n",
    "nombre_sain          2222\n",
    "nombre_exposed        398\n",
    "nombre_recovered    16695\n",
    "Name: 250, dtype: int64"
   ]
  },
  {
   "cell_type": "markdown",
   "id": "27595f86",
   "metadata": {},
   "source": [
    "nombre_infected       699\n",
    "nombre_sain          2206\n",
    "nombre_exposed        381\n",
    "nombre_recovered    16714\n",
    "Name: 251, dtype: int64"
   ]
  },
  {
   "cell_type": "markdown",
   "id": "6c2bf3a9",
   "metadata": {},
   "source": [
    "nombre_infected       680\n",
    "nombre_sain          2219\n",
    "nombre_exposed        369\n",
    "nombre_recovered    16732\n",
    "Name: 252, dtype: int64"
   ]
  },
  {
   "cell_type": "markdown",
   "id": "10d3a360",
   "metadata": {},
   "source": [
    "nombre_infected       675\n",
    "nombre_sain          2230\n",
    "nombre_exposed        346\n",
    "nombre_recovered    16749\n",
    "Name: 253, dtype: int64"
   ]
  },
  {
   "cell_type": "markdown",
   "id": "0d5727f6",
   "metadata": {},
   "source": [
    "nombre_infected       669\n",
    "nombre_sain          2236\n",
    "nombre_exposed        354\n",
    "nombre_recovered    16741\n",
    "Name: 254, dtype: int64"
   ]
  },
  {
   "cell_type": "markdown",
   "id": "ecd27de3",
   "metadata": {},
   "source": [
    "nombre_infected       651\n",
    "nombre_sain          2241\n",
    "nombre_exposed        336\n",
    "nombre_recovered    16772\n",
    "Name: 255, dtype: int64"
   ]
  },
  {
   "cell_type": "markdown",
   "id": "76d5562a",
   "metadata": {},
   "source": [
    "nombre_infected       641\n",
    "nombre_sain          2237\n",
    "nombre_exposed        336\n",
    "nombre_recovered    16786\n",
    "Name: 256, dtype: int64"
   ]
  },
  {
   "cell_type": "markdown",
   "id": "a4ba254c",
   "metadata": {},
   "source": [
    "nombre_infected       632\n",
    "nombre_sain          2217\n",
    "nombre_exposed        341\n",
    "nombre_recovered    16810\n",
    "Name: 257, dtype: int64"
   ]
  },
  {
   "cell_type": "markdown",
   "id": "e4a3fd04",
   "metadata": {},
   "source": [
    "nombre_infected       612\n",
    "nombre_sain          2219\n",
    "nombre_exposed        349\n",
    "nombre_recovered    16820\n",
    "Name: 258, dtype: int64"
   ]
  },
  {
   "cell_type": "markdown",
   "id": "a9335c7f",
   "metadata": {},
   "source": [
    "nombre_infected       601\n",
    "nombre_sain          2220\n",
    "nombre_exposed        352\n",
    "nombre_recovered    16827\n",
    "Name: 259, dtype: int64"
   ]
  },
  {
   "cell_type": "markdown",
   "id": "f8b56032",
   "metadata": {},
   "source": [
    "nombre_infected       608\n",
    "nombre_sain          2220\n",
    "nombre_exposed        339\n",
    "nombre_recovered    16833\n",
    "Name: 260, dtype: int64"
   ]
  },
  {
   "cell_type": "markdown",
   "id": "91e47926",
   "metadata": {},
   "source": [
    "nombre_infected       612\n",
    "nombre_sain          2221\n",
    "nombre_exposed        319\n",
    "nombre_recovered    16848\n",
    "Name: 261, dtype: int64"
   ]
  },
  {
   "cell_type": "markdown",
   "id": "9c9cc02e",
   "metadata": {},
   "source": [
    "nombre_infected       613\n",
    "nombre_sain          2220\n",
    "nombre_exposed        326\n",
    "nombre_recovered    16841\n",
    "Name: 262, dtype: int64"
   ]
  },
  {
   "cell_type": "markdown",
   "id": "df414598",
   "metadata": {},
   "source": [
    "nombre_infected       611\n",
    "nombre_sain          2208\n",
    "nombre_exposed        333\n",
    "nombre_recovered    16848\n",
    "Name: 263, dtype: int64"
   ]
  },
  {
   "cell_type": "markdown",
   "id": "390b1b56",
   "metadata": {},
   "source": [
    "nombre_infected       599\n",
    "nombre_sain          2224\n",
    "nombre_exposed        323\n",
    "nombre_recovered    16854\n",
    "Name: 264, dtype: int64"
   ]
  },
  {
   "cell_type": "markdown",
   "id": "954266c7",
   "metadata": {},
   "source": [
    "nombre_infected       589\n",
    "nombre_sain          2217\n",
    "nombre_exposed        324\n",
    "nombre_recovered    16870\n",
    "Name: 265, dtype: int64"
   ]
  },
  {
   "cell_type": "markdown",
   "id": "7e49026e",
   "metadata": {},
   "source": [
    "nombre_infected       577\n",
    "nombre_sain          2231\n",
    "nombre_exposed        331\n",
    "nombre_recovered    16861\n",
    "Name: 266, dtype: int64"
   ]
  },
  {
   "cell_type": "markdown",
   "id": "0c0d6dd2",
   "metadata": {},
   "source": [
    "nombre_infected       592\n",
    "nombre_sain          2223\n",
    "nombre_exposed        321\n",
    "nombre_recovered    16864\n",
    "Name: 267, dtype: int64"
   ]
  },
  {
   "cell_type": "markdown",
   "id": "5b59c68b",
   "metadata": {},
   "source": [
    "nombre_infected       596\n",
    "nombre_sain          2193\n",
    "nombre_exposed        331\n",
    "nombre_recovered    16880\n",
    "Name: 268, dtype: int64"
   ]
  },
  {
   "cell_type": "markdown",
   "id": "d45ac8b5",
   "metadata": {},
   "source": [
    "nombre_infected       600\n",
    "nombre_sain          2196\n",
    "nombre_exposed        314\n",
    "nombre_recovered    16890\n",
    "Name: 269, dtype: int64"
   ]
  },
  {
   "cell_type": "markdown",
   "id": "29f14c6f",
   "metadata": {},
   "source": [
    "nombre_infected       592\n",
    "nombre_sain          2197\n",
    "nombre_exposed        312\n",
    "nombre_recovered    16899\n",
    "Name: 270, dtype: int64"
   ]
  },
  {
   "cell_type": "markdown",
   "id": "6cedaccc",
   "metadata": {},
   "source": [
    "nombre_infected       575\n",
    "nombre_sain          2191\n",
    "nombre_exposed        302\n",
    "nombre_recovered    16932\n",
    "Name: 271, dtype: int64"
   ]
  },
  {
   "cell_type": "markdown",
   "id": "015eebdd",
   "metadata": {},
   "source": [
    "nombre_infected       584\n",
    "nombre_sain          2167\n",
    "nombre_exposed        309\n",
    "nombre_recovered    16940\n",
    "Name: 272, dtype: int64"
   ]
  },
  {
   "cell_type": "markdown",
   "id": "fa54d160",
   "metadata": {},
   "source": [
    "nombre_infected       572\n",
    "nombre_sain          2172\n",
    "nombre_exposed        330\n",
    "nombre_recovered    16926\n",
    "Name: 273, dtype: int64"
   ]
  },
  {
   "cell_type": "markdown",
   "id": "37c2e952",
   "metadata": {},
   "source": [
    "nombre_infected       559\n",
    "nombre_sain          2193\n",
    "nombre_exposed        314\n",
    "nombre_recovered    16934\n",
    "Name: 274, dtype: int64"
   ]
  },
  {
   "cell_type": "markdown",
   "id": "9658903a",
   "metadata": {},
   "source": [
    "nombre_infected       567\n",
    "nombre_sain          2194\n",
    "nombre_exposed        320\n",
    "nombre_recovered    16919\n",
    "Name: 275, dtype: int64"
   ]
  },
  {
   "cell_type": "markdown",
   "id": "3d5649ca",
   "metadata": {},
   "source": [
    "nombre_infected       583\n",
    "nombre_sain          2204\n",
    "nombre_exposed        294\n",
    "nombre_recovered    16919\n",
    "Name: 276, dtype: int64"
   ]
  },
  {
   "cell_type": "markdown",
   "id": "9f9d72e5",
   "metadata": {},
   "source": [
    "nombre_infected       574\n",
    "nombre_sain          2199\n",
    "nombre_exposed        312\n",
    "nombre_recovered    16915\n",
    "Name: 277, dtype: int64"
   ]
  },
  {
   "cell_type": "markdown",
   "id": "de92d581",
   "metadata": {},
   "source": [
    "nombre_infected       566\n",
    "nombre_sain          2209\n",
    "nombre_exposed        307\n",
    "nombre_recovered    16918\n",
    "Name: 278, dtype: int64"
   ]
  },
  {
   "cell_type": "markdown",
   "id": "643a70cb",
   "metadata": {},
   "source": [
    "nombre_infected       558\n",
    "nombre_sain          2228\n",
    "nombre_exposed        309\n",
    "nombre_recovered    16905\n",
    "Name: 279, dtype: int64"
   ]
  },
  {
   "cell_type": "markdown",
   "id": "fd18d9a6",
   "metadata": {},
   "source": [
    "nombre_infected       558\n",
    "nombre_sain          2249\n",
    "nombre_exposed        291\n",
    "nombre_recovered    16902\n",
    "Name: 280, dtype: int64"
   ]
  },
  {
   "cell_type": "markdown",
   "id": "72ede022",
   "metadata": {},
   "source": [
    "nombre_infected       557\n",
    "nombre_sain          2265\n",
    "nombre_exposed        276\n",
    "nombre_recovered    16902\n",
    "Name: 281, dtype: int64"
   ]
  },
  {
   "cell_type": "markdown",
   "id": "97880f7d",
   "metadata": {},
   "source": [
    "nombre_infected       536\n",
    "nombre_sain          2313\n",
    "nombre_exposed        267\n",
    "nombre_recovered    16884\n",
    "Name: 282, dtype: int64"
   ]
  },
  {
   "cell_type": "markdown",
   "id": "e72fd05b",
   "metadata": {},
   "source": [
    "nombre_infected       531\n",
    "nombre_sain          2342\n",
    "nombre_exposed        268\n",
    "nombre_recovered    16859\n",
    "Name: 283, dtype: int64"
   ]
  },
  {
   "cell_type": "markdown",
   "id": "96241cff",
   "metadata": {},
   "source": [
    "nombre_infected       505\n",
    "nombre_sain          2353\n",
    "nombre_exposed        290\n",
    "nombre_recovered    16852\n",
    "Name: 284, dtype: int64"
   ]
  },
  {
   "cell_type": "markdown",
   "id": "2a474f58",
   "metadata": {},
   "source": [
    "nombre_infected       514\n",
    "nombre_sain          2374\n",
    "nombre_exposed        293\n",
    "nombre_recovered    16819\n",
    "Name: 285, dtype: int64"
   ]
  },
  {
   "cell_type": "markdown",
   "id": "ebab7c8c",
   "metadata": {},
   "source": [
    "nombre_infected       500\n",
    "nombre_sain          2394\n",
    "nombre_exposed        306\n",
    "nombre_recovered    16800\n",
    "Name: 286, dtype: int64"
   ]
  },
  {
   "cell_type": "markdown",
   "id": "e5ec53d0",
   "metadata": {},
   "source": [
    "nombre_infected       499\n",
    "nombre_sain          2407\n",
    "nombre_exposed        312\n",
    "nombre_recovered    16782\n",
    "Name: 287, dtype: int64"
   ]
  },
  {
   "cell_type": "markdown",
   "id": "6f0f1057",
   "metadata": {},
   "source": [
    "nombre_infected       519\n",
    "nombre_sain          2435\n",
    "nombre_exposed        304\n",
    "nombre_recovered    16742\n",
    "Name: 288, dtype: int64"
   ]
  },
  {
   "cell_type": "markdown",
   "id": "c52c68ce",
   "metadata": {},
   "source": [
    "nombre_infected       533\n",
    "nombre_sain          2442\n",
    "nombre_exposed        334\n",
    "nombre_recovered    16691\n",
    "Name: 289, dtype: int64"
   ]
  },
  {
   "cell_type": "markdown",
   "id": "ae880f80",
   "metadata": {},
   "source": [
    "nombre_infected       534\n",
    "nombre_sain          2481\n",
    "nombre_exposed        325\n",
    "nombre_recovered    16660\n",
    "Name: 290, dtype: int64"
   ]
  },
  {
   "cell_type": "markdown",
   "id": "7ccc17ba",
   "metadata": {},
   "source": [
    "nombre_infected       540\n",
    "nombre_sain          2516\n",
    "nombre_exposed        320\n",
    "nombre_recovered    16624\n",
    "Name: 291, dtype: int64"
   ]
  },
  {
   "cell_type": "markdown",
   "id": "342079d1",
   "metadata": {},
   "source": [
    "nombre_infected       552\n",
    "nombre_sain          2535\n",
    "nombre_exposed        325\n",
    "nombre_recovered    16588\n",
    "Name: 292, dtype: int64"
   ]
  },
  {
   "cell_type": "markdown",
   "id": "a73a084c",
   "metadata": {},
   "source": [
    "nombre_infected       552\n",
    "nombre_sain          2574\n",
    "nombre_exposed        338\n",
    "nombre_recovered    16536\n",
    "Name: 293, dtype: int64"
   ]
  },
  {
   "cell_type": "markdown",
   "id": "05a6f3c3",
   "metadata": {},
   "source": [
    "nombre_infected       564\n",
    "nombre_sain          2618\n",
    "nombre_exposed        329\n",
    "nombre_recovered    16489\n",
    "Name: 294, dtype: int64"
   ]
  },
  {
   "cell_type": "markdown",
   "id": "bd232d1a",
   "metadata": {},
   "source": [
    "nombre_infected       562\n",
    "nombre_sain          2634\n",
    "nombre_exposed        327\n",
    "nombre_recovered    16477\n",
    "Name: 295, dtype: int64"
   ]
  },
  {
   "cell_type": "markdown",
   "id": "be60f867",
   "metadata": {},
   "source": [
    "nombre_infected       561\n",
    "nombre_sain          2666\n",
    "nombre_exposed        340\n",
    "nombre_recovered    16433\n",
    "Name: 296, dtype: int64"
   ]
  },
  {
   "cell_type": "markdown",
   "id": "c2fd6d73",
   "metadata": {},
   "source": [
    "nombre_infected       565\n",
    "nombre_sain          2689\n",
    "nombre_exposed        348\n",
    "nombre_recovered    16398\n",
    "Name: 297, dtype: int64"
   ]
  },
  {
   "cell_type": "markdown",
   "id": "66a89319",
   "metadata": {},
   "source": [
    "nombre_infected       539\n",
    "nombre_sain          2718\n",
    "nombre_exposed        359\n",
    "nombre_recovered    16384\n",
    "Name: 298, dtype: int64"
   ]
  },
  {
   "cell_type": "markdown",
   "id": "e75ff4ec",
   "metadata": {},
   "source": [
    "nombre_infected       555\n",
    "nombre_sain          2757\n",
    "nombre_exposed        340\n",
    "nombre_recovered    16348\n",
    "Name: 299, dtype: int64"
   ]
  },
  {
   "cell_type": "markdown",
   "id": "5726989e",
   "metadata": {},
   "source": [
    "nombre_infected       559\n",
    "nombre_sain          2779\n",
    "nombre_exposed        341\n",
    "nombre_recovered    16321\n",
    "Name: 300, dtype: int64"
   ]
  },
  {
   "cell_type": "markdown",
   "id": "92fd809b",
   "metadata": {},
   "source": [
    "nombre_infected       572\n",
    "nombre_sain          2800\n",
    "nombre_exposed        359\n",
    "nombre_recovered    16269\n",
    "Name: 301, dtype: int64"
   ]
  },
  {
   "cell_type": "markdown",
   "id": "f44dd7a6",
   "metadata": {},
   "source": [
    "nombre_infected       560\n",
    "nombre_sain          2812\n",
    "nombre_exposed        387\n",
    "nombre_recovered    16241\n",
    "Name: 302, dtype: int64"
   ]
  },
  {
   "cell_type": "markdown",
   "id": "4b4c72bc",
   "metadata": {},
   "source": [
    "nombre_infected       583\n",
    "nombre_sain          2831\n",
    "nombre_exposed        384\n",
    "nombre_recovered    16202\n",
    "Name: 303, dtype: int64"
   ]
  },
  {
   "cell_type": "markdown",
   "id": "f532ca85",
   "metadata": {},
   "source": [
    "nombre_infected       590\n",
    "nombre_sain          2845\n",
    "nombre_exposed        391\n",
    "nombre_recovered    16174\n",
    "Name: 304, dtype: int64"
   ]
  },
  {
   "cell_type": "markdown",
   "id": "c837c762",
   "metadata": {},
   "source": [
    "nombre_infected       616\n",
    "nombre_sain          2843\n",
    "nombre_exposed        404\n",
    "nombre_recovered    16137\n",
    "Name: 305, dtype: int64"
   ]
  },
  {
   "cell_type": "markdown",
   "id": "bea7f0db",
   "metadata": {},
   "source": [
    "nombre_infected       625\n",
    "nombre_sain          2853\n",
    "nombre_exposed        432\n",
    "nombre_recovered    16090\n",
    "Name: 306, dtype: int64"
   ]
  },
  {
   "cell_type": "markdown",
   "id": "84b8b6d9",
   "metadata": {},
   "source": [
    "nombre_infected       628\n",
    "nombre_sain          2856\n",
    "nombre_exposed        435\n",
    "nombre_recovered    16081\n",
    "Name: 307, dtype: int64"
   ]
  },
  {
   "cell_type": "markdown",
   "id": "c9901738",
   "metadata": {},
   "source": [
    "nombre_infected       668\n",
    "nombre_sain          2835\n",
    "nombre_exposed        424\n",
    "nombre_recovered    16073\n",
    "Name: 308, dtype: int64"
   ]
  },
  {
   "cell_type": "markdown",
   "id": "00eb096d",
   "metadata": {},
   "source": [
    "nombre_infected       670\n",
    "nombre_sain          2823\n",
    "nombre_exposed        435\n",
    "nombre_recovered    16072\n",
    "Name: 309, dtype: int64"
   ]
  },
  {
   "cell_type": "markdown",
   "id": "b26bfeb4",
   "metadata": {},
   "source": [
    "nombre_infected       669\n",
    "nombre_sain          2811\n",
    "nombre_exposed        445\n",
    "nombre_recovered    16075\n",
    "Name: 310, dtype: int64"
   ]
  },
  {
   "cell_type": "markdown",
   "id": "fc6e4f37",
   "metadata": {},
   "source": [
    "nombre_infected       665\n",
    "nombre_sain          2794\n",
    "nombre_exposed        482\n",
    "nombre_recovered    16059\n",
    "Name: 311, dtype: int64"
   ]
  },
  {
   "cell_type": "markdown",
   "id": "ce99e32c",
   "metadata": {},
   "source": [
    "nombre_infected       682\n",
    "nombre_sain          2802\n",
    "nombre_exposed        476\n",
    "nombre_recovered    16040\n",
    "Name: 312, dtype: int64"
   ]
  },
  {
   "cell_type": "markdown",
   "id": "a2d8808e",
   "metadata": {},
   "source": [
    "nombre_infected       693\n",
    "nombre_sain          2786\n",
    "nombre_exposed        475\n",
    "nombre_recovered    16046\n",
    "Name: 313, dtype: int64"
   ]
  },
  {
   "cell_type": "markdown",
   "id": "79a27822",
   "metadata": {},
   "source": [
    "nombre_infected       709\n",
    "nombre_sain          2782\n",
    "nombre_exposed        480\n",
    "nombre_recovered    16029\n",
    "Name: 314, dtype: int64"
   ]
  },
  {
   "cell_type": "markdown",
   "id": "6c2309f7",
   "metadata": {},
   "source": [
    "nombre_infected       753\n",
    "nombre_sain          2773\n",
    "nombre_exposed        466\n",
    "nombre_recovered    16008\n",
    "Name: 315, dtype: int64"
   ]
  },
  {
   "cell_type": "markdown",
   "id": "fec6fc1b",
   "metadata": {},
   "source": [
    "nombre_infected       770\n",
    "nombre_sain          2741\n",
    "nombre_exposed        480\n",
    "nombre_recovered    16009\n",
    "Name: 316, dtype: int64"
   ]
  },
  {
   "cell_type": "markdown",
   "id": "4a7419a9",
   "metadata": {},
   "source": [
    "nombre_infected       786\n",
    "nombre_sain          2710\n",
    "nombre_exposed        503\n",
    "nombre_recovered    16001\n",
    "Name: 317, dtype: int64"
   ]
  },
  {
   "cell_type": "markdown",
   "id": "b543ba03",
   "metadata": {},
   "source": [
    "nombre_infected       785\n",
    "nombre_sain          2692\n",
    "nombre_exposed        515\n",
    "nombre_recovered    16008\n",
    "Name: 318, dtype: int64"
   ]
  },
  {
   "cell_type": "markdown",
   "id": "86fd8538",
   "metadata": {},
   "source": [
    "nombre_infected       801\n",
    "nombre_sain          2652\n",
    "nombre_exposed        522\n",
    "nombre_recovered    16025\n",
    "Name: 319, dtype: int64"
   ]
  },
  {
   "cell_type": "markdown",
   "id": "161a5320",
   "metadata": {},
   "source": [
    "nombre_infected       793\n",
    "nombre_sain          2634\n",
    "nombre_exposed        523\n",
    "nombre_recovered    16050\n",
    "Name: 320, dtype: int64"
   ]
  },
  {
   "cell_type": "markdown",
   "id": "559450b2",
   "metadata": {},
   "source": [
    "nombre_infected       830\n",
    "nombre_sain          2606\n",
    "nombre_exposed        528\n",
    "nombre_recovered    16036\n",
    "Name: 321, dtype: int64"
   ]
  },
  {
   "cell_type": "markdown",
   "id": "7fdc5dc4",
   "metadata": {},
   "source": [
    "nombre_infected       817\n",
    "nombre_sain          2558\n",
    "nombre_exposed        552\n",
    "nombre_recovered    16073\n",
    "Name: 322, dtype: int64"
   ]
  },
  {
   "cell_type": "markdown",
   "id": "c177100a",
   "metadata": {},
   "source": [
    "nombre_infected       859\n",
    "nombre_sain          2540\n",
    "nombre_exposed        533\n",
    "nombre_recovered    16068\n",
    "Name: 323, dtype: int64"
   ]
  },
  {
   "cell_type": "markdown",
   "id": "be1fee16",
   "metadata": {},
   "source": [
    "nombre_infected       871\n",
    "nombre_sain          2516\n",
    "nombre_exposed        534\n",
    "nombre_recovered    16079\n",
    "Name: 324, dtype: int64"
   ]
  },
  {
   "cell_type": "markdown",
   "id": "b33209de",
   "metadata": {},
   "source": [
    "nombre_infected       906\n",
    "nombre_sain          2485\n",
    "nombre_exposed        515\n",
    "nombre_recovered    16094\n",
    "Name: 325, dtype: int64"
   ]
  },
  {
   "cell_type": "markdown",
   "id": "9b68f1f4",
   "metadata": {},
   "source": [
    "nombre_infected       893\n",
    "nombre_sain          2454\n",
    "nombre_exposed        529\n",
    "nombre_recovered    16124\n",
    "Name: 326, dtype: int64"
   ]
  },
  {
   "cell_type": "markdown",
   "id": "d24d1267",
   "metadata": {},
   "source": [
    "nombre_infected       919\n",
    "nombre_sain          2414\n",
    "nombre_exposed        521\n",
    "nombre_recovered    16146\n",
    "Name: 327, dtype: int64"
   ]
  },
  {
   "cell_type": "markdown",
   "id": "aeb85746",
   "metadata": {},
   "source": [
    "nombre_infected       924\n",
    "nombre_sain          2381\n",
    "nombre_exposed        540\n",
    "nombre_recovered    16155\n",
    "Name: 328, dtype: int64"
   ]
  },
  {
   "cell_type": "markdown",
   "id": "c3cb3ecb",
   "metadata": {},
   "source": [
    "nombre_infected       935\n",
    "nombre_sain          2357\n",
    "nombre_exposed        528\n",
    "nombre_recovered    16180\n",
    "Name: 329, dtype: int64"
   ]
  },
  {
   "cell_type": "markdown",
   "id": "9346fab6",
   "metadata": {},
   "source": [
    "nombre_infected       931\n",
    "nombre_sain          2330\n",
    "nombre_exposed        538\n",
    "nombre_recovered    16201\n",
    "Name: 330, dtype: int64"
   ]
  },
  {
   "cell_type": "markdown",
   "id": "2f65878a",
   "metadata": {},
   "source": [
    "nombre_infected       970\n",
    "nombre_sain          2284\n",
    "nombre_exposed        524\n",
    "nombre_recovered    16222\n",
    "Name: 331, dtype: int64"
   ]
  },
  {
   "cell_type": "markdown",
   "id": "c1782a10",
   "metadata": {},
   "source": [
    "nombre_infected       958\n",
    "nombre_sain          2234\n",
    "nombre_exposed        531\n",
    "nombre_recovered    16277\n",
    "Name: 332, dtype: int64"
   ]
  },
  {
   "cell_type": "markdown",
   "id": "d18efd86",
   "metadata": {},
   "source": [
    "nombre_infected       972\n",
    "nombre_sain          2201\n",
    "nombre_exposed        511\n",
    "nombre_recovered    16316\n",
    "Name: 333, dtype: int64"
   ]
  },
  {
   "cell_type": "markdown",
   "id": "6758d9a5",
   "metadata": {},
   "source": [
    "nombre_infected       984\n",
    "nombre_sain          2139\n",
    "nombre_exposed        528\n",
    "nombre_recovered    16349\n",
    "Name: 334, dtype: int64"
   ]
  },
  {
   "cell_type": "markdown",
   "id": "4d4c303e",
   "metadata": {},
   "source": [
    "nombre_infected       986\n",
    "nombre_sain          2087\n",
    "nombre_exposed        528\n",
    "nombre_recovered    16399\n",
    "Name: 335, dtype: int64"
   ]
  },
  {
   "cell_type": "markdown",
   "id": "57c3956c",
   "metadata": {},
   "source": [
    "nombre_infected      1016\n",
    "nombre_sain          2050\n",
    "nombre_exposed        524\n",
    "nombre_recovered    16410\n",
    "Name: 336, dtype: int64"
   ]
  },
  {
   "cell_type": "markdown",
   "id": "b5e6b47e",
   "metadata": {},
   "source": [
    "nombre_infected       993\n",
    "nombre_sain          2022\n",
    "nombre_exposed        535\n",
    "nombre_recovered    16450\n",
    "Name: 337, dtype: int64"
   ]
  },
  {
   "cell_type": "markdown",
   "id": "4c13364d",
   "metadata": {},
   "source": [
    "nombre_infected       984\n",
    "nombre_sain          1969\n",
    "nombre_exposed        515\n",
    "nombre_recovered    16532\n",
    "Name: 338, dtype: int64"
   ]
  },
  {
   "cell_type": "markdown",
   "id": "e06107d4",
   "metadata": {},
   "source": [
    "nombre_infected       996\n",
    "nombre_sain          1913\n",
    "nombre_exposed        511\n",
    "nombre_recovered    16580\n",
    "Name: 339, dtype: int64"
   ]
  },
  {
   "cell_type": "markdown",
   "id": "1b69c2ca",
   "metadata": {},
   "source": [
    "nombre_infected       987\n",
    "nombre_sain          1861\n",
    "nombre_exposed        513\n",
    "nombre_recovered    16639\n",
    "Name: 340, dtype: int64"
   ]
  },
  {
   "cell_type": "markdown",
   "id": "c7ac5168",
   "metadata": {},
   "source": [
    "nombre_infected       965\n",
    "nombre_sain          1847\n",
    "nombre_exposed        511\n",
    "nombre_recovered    16677\n",
    "Name: 341, dtype: int64"
   ]
  },
  {
   "cell_type": "markdown",
   "id": "4dfe2e03",
   "metadata": {},
   "source": [
    "nombre_infected       997\n",
    "nombre_sain          1846\n",
    "nombre_exposed        469\n",
    "nombre_recovered    16688\n",
    "Name: 342, dtype: int64"
   ]
  },
  {
   "cell_type": "markdown",
   "id": "5e830b1b",
   "metadata": {},
   "source": [
    "nombre_infected      1015\n",
    "nombre_sain          1815\n",
    "nombre_exposed        469\n",
    "nombre_recovered    16701\n",
    "Name: 343, dtype: int64"
   ]
  },
  {
   "cell_type": "markdown",
   "id": "5a2be499",
   "metadata": {},
   "source": [
    "nombre_infected      1007\n",
    "nombre_sain          1793\n",
    "nombre_exposed        463\n",
    "nombre_recovered    16737\n",
    "Name: 344, dtype: int64"
   ]
  },
  {
   "cell_type": "markdown",
   "id": "b887693f",
   "metadata": {},
   "source": [
    "nombre_infected       975\n",
    "nombre_sain          1782\n",
    "nombre_exposed        453\n",
    "nombre_recovered    16790\n",
    "Name: 345, dtype: int64"
   ]
  },
  {
   "cell_type": "markdown",
   "id": "8828385c",
   "metadata": {},
   "source": [
    "nombre_infected       938\n",
    "nombre_sain          1762\n",
    "nombre_exposed        459\n",
    "nombre_recovered    16841\n",
    "Name: 346, dtype: int64"
   ]
  },
  {
   "cell_type": "markdown",
   "id": "cd64640c",
   "metadata": {},
   "source": [
    "nombre_infected       919\n",
    "nombre_sain          1761\n",
    "nombre_exposed        446\n",
    "nombre_recovered    16874\n",
    "Name: 347, dtype: int64"
   ]
  },
  {
   "cell_type": "markdown",
   "id": "f0669ebd",
   "metadata": {},
   "source": [
    "nombre_infected       903\n",
    "nombre_sain          1754\n",
    "nombre_exposed        432\n",
    "nombre_recovered    16911\n",
    "Name: 348, dtype: int64"
   ]
  },
  {
   "cell_type": "markdown",
   "id": "e3aa1a8f",
   "metadata": {},
   "source": [
    "nombre_infected       892\n",
    "nombre_sain          1717\n",
    "nombre_exposed        436\n",
    "nombre_recovered    16955\n",
    "Name: 349, dtype: int64"
   ]
  },
  {
   "cell_type": "markdown",
   "id": "aa510c8d",
   "metadata": {},
   "source": [
    "nombre_infected       853\n",
    "nombre_sain          1702\n",
    "nombre_exposed        439\n",
    "nombre_recovered    17006\n",
    "Name: 350, dtype: int64"
   ]
  },
  {
   "cell_type": "markdown",
   "id": "ef736d6c",
   "metadata": {},
   "source": [
    "nombre_infected       862\n",
    "nombre_sain          1699\n",
    "nombre_exposed        403\n",
    "nombre_recovered    17036\n",
    "Name: 351, dtype: int64"
   ]
  },
  {
   "cell_type": "markdown",
   "id": "131c629a",
   "metadata": {},
   "source": [
    "nombre_infected       863\n",
    "nombre_sain          1725\n",
    "nombre_exposed        373\n",
    "nombre_recovered    17039\n",
    "Name: 352, dtype: int64"
   ]
  },
  {
   "cell_type": "markdown",
   "id": "4ac3cf8f",
   "metadata": {},
   "source": [
    "nombre_infected       868\n",
    "nombre_sain          1725\n",
    "nombre_exposed        376\n",
    "nombre_recovered    17031\n",
    "Name: 353, dtype: int64"
   ]
  },
  {
   "cell_type": "markdown",
   "id": "6f685678",
   "metadata": {},
   "source": [
    "nombre_infected       843\n",
    "nombre_sain          1744\n",
    "nombre_exposed        368\n",
    "nombre_recovered    17045\n",
    "Name: 354, dtype: int64"
   ]
  },
  {
   "cell_type": "markdown",
   "id": "b759c93f",
   "metadata": {},
   "source": [
    "nombre_infected       804\n",
    "nombre_sain          1748\n",
    "nombre_exposed        384\n",
    "nombre_recovered    17064\n",
    "Name: 355, dtype: int64"
   ]
  },
  {
   "cell_type": "markdown",
   "id": "6210d9e5",
   "metadata": {},
   "source": [
    "nombre_infected       789\n",
    "nombre_sain          1753\n",
    "nombre_exposed        393\n",
    "nombre_recovered    17065\n",
    "Name: 356, dtype: int64"
   ]
  },
  {
   "cell_type": "markdown",
   "id": "09d0770f",
   "metadata": {},
   "source": [
    "nombre_infected       783\n",
    "nombre_sain          1759\n",
    "nombre_exposed        364\n",
    "nombre_recovered    17094\n",
    "Name: 357, dtype: int64"
   ]
  },
  {
   "cell_type": "markdown",
   "id": "91bcce9f",
   "metadata": {},
   "source": [
    "nombre_infected       793\n",
    "nombre_sain          1780\n",
    "nombre_exposed        349\n",
    "nombre_recovered    17078\n",
    "Name: 358, dtype: int64"
   ]
  },
  {
   "cell_type": "markdown",
   "id": "e21a1006",
   "metadata": {},
   "source": [
    "nombre_infected       749\n",
    "nombre_sain          1789\n",
    "nombre_exposed        368\n",
    "nombre_recovered    17094\n",
    "Name: 359, dtype: int64"
   ]
  },
  {
   "cell_type": "markdown",
   "id": "9f40cfe8",
   "metadata": {},
   "source": [
    "nombre_infected       748\n",
    "nombre_sain          1821\n",
    "nombre_exposed        376\n",
    "nombre_recovered    17055\n",
    "Name: 360, dtype: int64"
   ]
  },
  {
   "cell_type": "markdown",
   "id": "65f605e1",
   "metadata": {},
   "source": [
    "nombre_infected       714\n",
    "nombre_sain          1864\n",
    "nombre_exposed        366\n",
    "nombre_recovered    17056\n",
    "Name: 361, dtype: int64"
   ]
  },
  {
   "cell_type": "markdown",
   "id": "80ee5400",
   "metadata": {},
   "source": [
    "nombre_infected       696\n",
    "nombre_sain          1887\n",
    "nombre_exposed        367\n",
    "nombre_recovered    17050\n",
    "Name: 362, dtype: int64"
   ]
  },
  {
   "cell_type": "markdown",
   "id": "70506c65",
   "metadata": {},
   "source": [
    "nombre_infected       668\n",
    "nombre_sain          1902\n",
    "nombre_exposed        371\n",
    "nombre_recovered    17059\n",
    "Name: 363, dtype: int64"
   ]
  },
  {
   "cell_type": "markdown",
   "id": "fa3ea884",
   "metadata": {},
   "source": [
    "nombre_infected       646\n",
    "nombre_sain          1930\n",
    "nombre_exposed        383\n",
    "nombre_recovered    17041\n",
    "Name: 364, dtype: int64"
   ]
  },
  {
   "cell_type": "markdown",
   "id": "884e0bdc",
   "metadata": {},
   "source": [
    "nombre_infected       639\n",
    "nombre_sain          1966\n",
    "nombre_exposed        377\n",
    "nombre_recovered    17018\n",
    "Name: 365, dtype: int64"
   ]
  },
  {
   "cell_type": "markdown",
   "id": "d3745748",
   "metadata": {},
   "source": [
    "nombre_infected       655\n",
    "nombre_sain          2001\n",
    "nombre_exposed        354\n",
    "nombre_recovered    16990\n",
    "Name: 366, dtype: int64"
   ]
  },
  {
   "cell_type": "markdown",
   "id": "d1d85e81",
   "metadata": {},
   "source": [
    "nombre_infected       647\n",
    "nombre_sain          2025\n",
    "nombre_exposed        357\n",
    "nombre_recovered    16971\n",
    "Name: 367, dtype: int64"
   ]
  },
  {
   "cell_type": "markdown",
   "id": "ac6ed68f",
   "metadata": {},
   "source": [
    "nombre_infected       653\n",
    "nombre_sain          2047\n",
    "nombre_exposed        352\n",
    "nombre_recovered    16948\n",
    "Name: 368, dtype: int64"
   ]
  },
  {
   "cell_type": "markdown",
   "id": "48e693ca",
   "metadata": {},
   "source": [
    "nombre_infected       640\n",
    "nombre_sain          2069\n",
    "nombre_exposed        338\n",
    "nombre_recovered    16953\n",
    "Name: 369, dtype: int64"
   ]
  },
  {
   "cell_type": "markdown",
   "id": "efb6ce53",
   "metadata": {},
   "source": [
    "nombre_infected       642\n",
    "nombre_sain          2079\n",
    "nombre_exposed        346\n",
    "nombre_recovered    16933\n",
    "Name: 370, dtype: int64"
   ]
  },
  {
   "cell_type": "markdown",
   "id": "68c1a06e",
   "metadata": {},
   "source": [
    "nombre_infected       638\n",
    "nombre_sain          2104\n",
    "nombre_exposed        329\n",
    "nombre_recovered    16929\n",
    "Name: 371, dtype: int64"
   ]
  },
  {
   "cell_type": "markdown",
   "id": "a14335e4",
   "metadata": {},
   "source": [
    "nombre_infected       639\n",
    "nombre_sain          2126\n",
    "nombre_exposed        336\n",
    "nombre_recovered    16899\n",
    "Name: 372, dtype: int64"
   ]
  },
  {
   "cell_type": "markdown",
   "id": "5c81f78a",
   "metadata": {},
   "source": [
    "nombre_infected       638\n",
    "nombre_sain          2157\n",
    "nombre_exposed        326\n",
    "nombre_recovered    16879\n",
    "Name: 373, dtype: int64"
   ]
  },
  {
   "cell_type": "markdown",
   "id": "e3bd0bf4",
   "metadata": {},
   "source": [
    "nombre_infected       620\n",
    "nombre_sain          2164\n",
    "nombre_exposed        339\n",
    "nombre_recovered    16877\n",
    "Name: 374, dtype: int64"
   ]
  },
  {
   "cell_type": "markdown",
   "id": "87b49c74",
   "metadata": {},
   "source": [
    "nombre_infected       614\n",
    "nombre_sain          2196\n",
    "nombre_exposed        353\n",
    "nombre_recovered    16837\n",
    "Name: 375, dtype: int64"
   ]
  },
  {
   "cell_type": "markdown",
   "id": "549f1375",
   "metadata": {},
   "source": [
    "nombre_infected       596\n",
    "nombre_sain          2210\n",
    "nombre_exposed        372\n",
    "nombre_recovered    16822\n",
    "Name: 376, dtype: int64"
   ]
  },
  {
   "cell_type": "markdown",
   "id": "b12627cc",
   "metadata": {},
   "source": [
    "nombre_infected       584\n",
    "nombre_sain          2233\n",
    "nombre_exposed        388\n",
    "nombre_recovered    16795\n",
    "Name: 377, dtype: int64"
   ]
  },
  {
   "cell_type": "markdown",
   "id": "43de4a8a",
   "metadata": {},
   "source": [
    "nombre_infected       581\n",
    "nombre_sain          2257\n",
    "nombre_exposed        392\n",
    "nombre_recovered    16770\n",
    "Name: 378, dtype: int64"
   ]
  },
  {
   "cell_type": "markdown",
   "id": "c4fa45b5",
   "metadata": {},
   "source": [
    "nombre_infected       605\n",
    "nombre_sain          2275\n",
    "nombre_exposed        395\n",
    "nombre_recovered    16725\n",
    "Name: 379, dtype: int64"
   ]
  },
  {
   "cell_type": "markdown",
   "id": "416c3895",
   "metadata": {},
   "source": [
    "nombre_infected       615\n",
    "nombre_sain          2325\n",
    "nombre_exposed        376\n",
    "nombre_recovered    16684\n",
    "Name: 380, dtype: int64"
   ]
  },
  {
   "cell_type": "markdown",
   "id": "ef44fcc3",
   "metadata": {},
   "source": [
    "nombre_infected       637\n",
    "nombre_sain          2353\n",
    "nombre_exposed        369\n",
    "nombre_recovered    16641\n",
    "Name: 381, dtype: int64"
   ]
  },
  {
   "cell_type": "markdown",
   "id": "38848e59",
   "metadata": {},
   "source": [
    "nombre_infected       642\n",
    "nombre_sain          2367\n",
    "nombre_exposed        375\n",
    "nombre_recovered    16616\n",
    "Name: 382, dtype: int64"
   ]
  },
  {
   "cell_type": "markdown",
   "id": "f6ff6754",
   "metadata": {},
   "source": [
    "nombre_infected       642\n",
    "nombre_sain          2409\n",
    "nombre_exposed        362\n",
    "nombre_recovered    16587\n",
    "Name: 383, dtype: int64"
   ]
  },
  {
   "cell_type": "markdown",
   "id": "27fa35c1",
   "metadata": {},
   "source": [
    "nombre_infected       658\n",
    "nombre_sain          2434\n",
    "nombre_exposed        366\n",
    "nombre_recovered    16542\n",
    "Name: 384, dtype: int64"
   ]
  },
  {
   "cell_type": "markdown",
   "id": "98dd68d6",
   "metadata": {},
   "source": [
    "nombre_infected       655\n",
    "nombre_sain          2452\n",
    "nombre_exposed        374\n",
    "nombre_recovered    16519\n",
    "Name: 385, dtype: int64"
   ]
  },
  {
   "cell_type": "markdown",
   "id": "e578abaf",
   "metadata": {},
   "source": [
    "nombre_infected       657\n",
    "nombre_sain          2470\n",
    "nombre_exposed        381\n",
    "nombre_recovered    16492\n",
    "Name: 386, dtype: int64"
   ]
  },
  {
   "cell_type": "markdown",
   "id": "4541d788",
   "metadata": {},
   "source": [
    "nombre_infected       663\n",
    "nombre_sain          2467\n",
    "nombre_exposed        394\n",
    "nombre_recovered    16476\n",
    "Name: 387, dtype: int64"
   ]
  },
  {
   "cell_type": "markdown",
   "id": "e3d19fd2",
   "metadata": {},
   "source": [
    "nombre_infected       655\n",
    "nombre_sain          2478\n",
    "nombre_exposed        396\n",
    "nombre_recovered    16471\n",
    "Name: 388, dtype: int64"
   ]
  },
  {
   "cell_type": "markdown",
   "id": "94823b96",
   "metadata": {},
   "source": [
    "nombre_infected       647\n",
    "nombre_sain          2469\n",
    "nombre_exposed        403\n",
    "nombre_recovered    16481\n",
    "Name: 389, dtype: int64"
   ]
  },
  {
   "cell_type": "markdown",
   "id": "5e256d6c",
   "metadata": {},
   "source": [
    "nombre_infected       654\n",
    "nombre_sain          2492\n",
    "nombre_exposed        387\n",
    "nombre_recovered    16467\n",
    "Name: 390, dtype: int64"
   ]
  },
  {
   "cell_type": "markdown",
   "id": "36deea2b",
   "metadata": {},
   "source": [
    "nombre_infected       652\n",
    "nombre_sain          2499\n",
    "nombre_exposed        392\n",
    "nombre_recovered    16457\n",
    "Name: 391, dtype: int64"
   ]
  },
  {
   "cell_type": "markdown",
   "id": "55689c7c",
   "metadata": {},
   "source": [
    "nombre_infected       659\n",
    "nombre_sain          2483\n",
    "nombre_exposed        406\n",
    "nombre_recovered    16452\n",
    "Name: 392, dtype: int64"
   ]
  },
  {
   "cell_type": "markdown",
   "id": "d1667d9a",
   "metadata": {},
   "source": [
    "nombre_infected       648\n",
    "nombre_sain          2488\n",
    "nombre_exposed        417\n",
    "nombre_recovered    16447\n",
    "Name: 393, dtype: int64"
   ]
  },
  {
   "cell_type": "markdown",
   "id": "7a507ffa",
   "metadata": {},
   "source": [
    "nombre_infected       632\n",
    "nombre_sain          2516\n",
    "nombre_exposed        432\n",
    "nombre_recovered    16420\n",
    "Name: 394, dtype: int64"
   ]
  },
  {
   "cell_type": "markdown",
   "id": "a2353f2c",
   "metadata": {},
   "source": [
    "nombre_infected       614\n",
    "nombre_sain          2512\n",
    "nombre_exposed        449\n",
    "nombre_recovered    16425\n",
    "Name: 395, dtype: int64"
   ]
  },
  {
   "cell_type": "markdown",
   "id": "a641913a",
   "metadata": {},
   "source": [
    "nombre_infected       631\n",
    "nombre_sain          2539\n",
    "nombre_exposed        461\n",
    "nombre_recovered    16369\n",
    "Name: 396, dtype: int64"
   ]
  },
  {
   "cell_type": "markdown",
   "id": "6648d11c",
   "metadata": {},
   "source": [
    "nombre_infected       666\n",
    "nombre_sain          2551\n",
    "nombre_exposed        459\n",
    "nombre_recovered    16324\n",
    "Name: 397, dtype: int64"
   ]
  },
  {
   "cell_type": "markdown",
   "id": "855884d7",
   "metadata": {},
   "source": [
    "nombre_infected       694\n",
    "nombre_sain          2547\n",
    "nombre_exposed        444\n",
    "nombre_recovered    16315\n",
    "Name: 398, dtype: int64"
   ]
  },
  {
   "cell_type": "markdown",
   "id": "3cc56b5d",
   "metadata": {},
   "source": [
    "nombre_infected       717\n",
    "nombre_sain          2552\n",
    "nombre_exposed        442\n",
    "nombre_recovered    16289\n",
    "Name: 399, dtype: int64"
   ]
  },
  {
   "cell_type": "markdown",
   "id": "b167a2e1",
   "metadata": {},
   "source": [
    "nombre_infected       714\n",
    "nombre_sain          2557\n",
    "nombre_exposed        454\n",
    "nombre_recovered    16275\n",
    "Name: 400, dtype: int64"
   ]
  },
  {
   "cell_type": "markdown",
   "id": "513817ff",
   "metadata": {},
   "source": [
    "nombre_infected       696\n",
    "nombre_sain          2547\n",
    "nombre_exposed        476\n",
    "nombre_recovered    16281\n",
    "Name: 401, dtype: int64"
   ]
  },
  {
   "cell_type": "markdown",
   "id": "1f9c72cf",
   "metadata": {},
   "source": [
    "nombre_infected       719\n",
    "nombre_sain          2538\n",
    "nombre_exposed        481\n",
    "nombre_recovered    16262\n",
    "Name: 402, dtype: int64"
   ]
  },
  {
   "cell_type": "markdown",
   "id": "4e039766",
   "metadata": {},
   "source": [
    "nombre_infected       735\n",
    "nombre_sain          2556\n",
    "nombre_exposed        467\n",
    "nombre_recovered    16242\n",
    "Name: 403, dtype: int64"
   ]
  },
  {
   "cell_type": "markdown",
   "id": "10eb2d4d",
   "metadata": {},
   "source": [
    "nombre_infected       746\n",
    "nombre_sain          2560\n",
    "nombre_exposed        491\n",
    "nombre_recovered    16203\n",
    "Name: 404, dtype: int64"
   ]
  },
  {
   "cell_type": "markdown",
   "id": "e2131dee",
   "metadata": {},
   "source": [
    "nombre_infected       750\n",
    "nombre_sain          2565\n",
    "nombre_exposed        505\n",
    "nombre_recovered    16180\n",
    "Name: 405, dtype: int64"
   ]
  },
  {
   "cell_type": "markdown",
   "id": "755cd5d4",
   "metadata": {},
   "source": [
    "nombre_infected       759\n",
    "nombre_sain          2565\n",
    "nombre_exposed        510\n",
    "nombre_recovered    16166\n",
    "Name: 406, dtype: int64"
   ]
  },
  {
   "cell_type": "markdown",
   "id": "590b706a",
   "metadata": {},
   "source": [
    "nombre_infected       784\n",
    "nombre_sain          2586\n",
    "nombre_exposed        497\n",
    "nombre_recovered    16133\n",
    "Name: 407, dtype: int64"
   ]
  },
  {
   "cell_type": "markdown",
   "id": "799e762e",
   "metadata": {},
   "source": [
    "nombre_infected       781\n",
    "nombre_sain          2597\n",
    "nombre_exposed        489\n",
    "nombre_recovered    16133\n",
    "Name: 408, dtype: int64"
   ]
  },
  {
   "cell_type": "markdown",
   "id": "44ae7387",
   "metadata": {},
   "source": [
    "nombre_infected       803\n",
    "nombre_sain          2583\n",
    "nombre_exposed        503\n",
    "nombre_recovered    16111\n",
    "Name: 409, dtype: int64"
   ]
  },
  {
   "cell_type": "markdown",
   "id": "1860129c",
   "metadata": {},
   "source": [
    "nombre_infected       816\n",
    "nombre_sain          2573\n",
    "nombre_exposed        501\n",
    "nombre_recovered    16110\n",
    "Name: 410, dtype: int64"
   ]
  },
  {
   "cell_type": "markdown",
   "id": "31e99be5",
   "metadata": {},
   "source": [
    "nombre_infected       806\n",
    "nombre_sain          2561\n",
    "nombre_exposed        526\n",
    "nombre_recovered    16107\n",
    "Name: 411, dtype: int64"
   ]
  },
  {
   "cell_type": "markdown",
   "id": "4b4c438b",
   "metadata": {},
   "source": [
    "nombre_infected       820\n",
    "nombre_sain          2534\n",
    "nombre_exposed        540\n",
    "nombre_recovered    16106\n",
    "Name: 412, dtype: int64"
   ]
  },
  {
   "cell_type": "markdown",
   "id": "47883444",
   "metadata": {},
   "source": [
    "nombre_infected       850\n",
    "nombre_sain          2527\n",
    "nombre_exposed        522\n",
    "nombre_recovered    16101\n",
    "Name: 413, dtype: int64"
   ]
  },
  {
   "cell_type": "markdown",
   "id": "b2b03f44",
   "metadata": {},
   "source": [
    "nombre_infected       863\n",
    "nombre_sain          2520\n",
    "nombre_exposed        532\n",
    "nombre_recovered    16085\n",
    "Name: 414, dtype: int64"
   ]
  },
  {
   "cell_type": "markdown",
   "id": "b7d83598",
   "metadata": {},
   "source": [
    "nombre_infected       840\n",
    "nombre_sain          2507\n",
    "nombre_exposed        565\n",
    "nombre_recovered    16088\n",
    "Name: 415, dtype: int64"
   ]
  },
  {
   "cell_type": "markdown",
   "id": "b019ec31",
   "metadata": {},
   "source": [
    "nombre_infected       843\n",
    "nombre_sain          2482\n",
    "nombre_exposed        552\n",
    "nombre_recovered    16123\n",
    "Name: 416, dtype: int64"
   ]
  },
  {
   "cell_type": "markdown",
   "id": "4e5b4d92",
   "metadata": {},
   "source": [
    "nombre_infected       852\n",
    "nombre_sain          2477\n",
    "nombre_exposed        530\n",
    "nombre_recovered    16141\n",
    "Name: 417, dtype: int64"
   ]
  },
  {
   "cell_type": "markdown",
   "id": "717a5875",
   "metadata": {},
   "source": [
    "nombre_infected       839\n",
    "nombre_sain          2489\n",
    "nombre_exposed        528\n",
    "nombre_recovered    16144\n",
    "Name: 418, dtype: int64"
   ]
  },
  {
   "cell_type": "markdown",
   "id": "f7a6b625",
   "metadata": {},
   "source": [
    "nombre_infected       878\n",
    "nombre_sain          2460\n",
    "nombre_exposed        500\n",
    "nombre_recovered    16162\n",
    "Name: 419, dtype: int64"
   ]
  },
  {
   "cell_type": "markdown",
   "id": "81d401d0",
   "metadata": {},
   "source": [
    "nombre_infected       864\n",
    "nombre_sain          2464\n",
    "nombre_exposed        504\n",
    "nombre_recovered    16168\n",
    "Name: 420, dtype: int64"
   ]
  },
  {
   "cell_type": "markdown",
   "id": "f0b4d215",
   "metadata": {},
   "source": [
    "nombre_infected       841\n",
    "nombre_sain          2449\n",
    "nombre_exposed        511\n",
    "nombre_recovered    16199\n",
    "Name: 421, dtype: int64"
   ]
  },
  {
   "cell_type": "markdown",
   "id": "446c5465",
   "metadata": {},
   "source": [
    "nombre_infected       834\n",
    "nombre_sain          2434\n",
    "nombre_exposed        535\n",
    "nombre_recovered    16197\n",
    "Name: 422, dtype: int64"
   ]
  },
  {
   "cell_type": "markdown",
   "id": "b4a91f31",
   "metadata": {},
   "source": [
    "nombre_infected       840\n",
    "nombre_sain          2404\n",
    "nombre_exposed        540\n",
    "nombre_recovered    16216\n",
    "Name: 423, dtype: int64"
   ]
  },
  {
   "cell_type": "markdown",
   "id": "3dc80643",
   "metadata": {},
   "source": [
    "nombre_infected       847\n",
    "nombre_sain          2412\n",
    "nombre_exposed        525\n",
    "nombre_recovered    16216\n",
    "Name: 424, dtype: int64"
   ]
  },
  {
   "cell_type": "markdown",
   "id": "8c98d18f",
   "metadata": {},
   "source": [
    "nombre_infected       854\n",
    "nombre_sain          2422\n",
    "nombre_exposed        502\n",
    "nombre_recovered    16222\n",
    "Name: 425, dtype: int64"
   ]
  },
  {
   "cell_type": "markdown",
   "id": "e2e4faa2",
   "metadata": {},
   "source": [
    "nombre_infected       897\n",
    "nombre_sain          2425\n",
    "nombre_exposed        480\n",
    "nombre_recovered    16198\n",
    "Name: 426, dtype: int64"
   ]
  },
  {
   "cell_type": "markdown",
   "id": "38234c97",
   "metadata": {},
   "source": [
    "nombre_infected       880\n",
    "nombre_sain          2430\n",
    "nombre_exposed        480\n",
    "nombre_recovered    16210\n",
    "Name: 427, dtype: int64"
   ]
  },
  {
   "cell_type": "markdown",
   "id": "2ebbb4e0",
   "metadata": {},
   "source": [
    "nombre_infected       881\n",
    "nombre_sain          2417\n",
    "nombre_exposed        480\n",
    "nombre_recovered    16222\n",
    "Name: 428, dtype: int64"
   ]
  },
  {
   "cell_type": "markdown",
   "id": "8be6c057",
   "metadata": {},
   "source": [
    "nombre_infected       902\n",
    "nombre_sain          2388\n",
    "nombre_exposed        498\n",
    "nombre_recovered    16212\n",
    "Name: 429, dtype: int64"
   ]
  },
  {
   "cell_type": "markdown",
   "id": "c4fe1f44",
   "metadata": {},
   "source": [
    "nombre_infected       896\n",
    "nombre_sain          2352\n",
    "nombre_exposed        518\n",
    "nombre_recovered    16234\n",
    "Name: 430, dtype: int64"
   ]
  },
  {
   "cell_type": "markdown",
   "id": "bda2faa1",
   "metadata": {},
   "source": [
    "nombre_infected       873\n",
    "nombre_sain          2331\n",
    "nombre_exposed        513\n",
    "nombre_recovered    16283\n",
    "Name: 431, dtype: int64"
   ]
  },
  {
   "cell_type": "markdown",
   "id": "f205d95f",
   "metadata": {},
   "source": [
    "nombre_infected       889\n",
    "nombre_sain          2286\n",
    "nombre_exposed        542\n",
    "nombre_recovered    16283\n",
    "Name: 432, dtype: int64"
   ]
  },
  {
   "cell_type": "markdown",
   "id": "87ad6539",
   "metadata": {},
   "source": [
    "nombre_infected       879\n",
    "nombre_sain          2254\n",
    "nombre_exposed        561\n",
    "nombre_recovered    16306\n",
    "Name: 433, dtype: int64"
   ]
  },
  {
   "cell_type": "markdown",
   "id": "d8256660",
   "metadata": {},
   "source": [
    "nombre_infected       893\n",
    "nombre_sain          2243\n",
    "nombre_exposed        533\n",
    "nombre_recovered    16331\n",
    "Name: 434, dtype: int64"
   ]
  },
  {
   "cell_type": "markdown",
   "id": "50976335",
   "metadata": {},
   "source": [
    "nombre_infected       886\n",
    "nombre_sain          2214\n",
    "nombre_exposed        551\n",
    "nombre_recovered    16349\n",
    "Name: 435, dtype: int64"
   ]
  },
  {
   "cell_type": "markdown",
   "id": "44c13627",
   "metadata": {},
   "source": [
    "nombre_infected       910\n",
    "nombre_sain          2228\n",
    "nombre_exposed        516\n",
    "nombre_recovered    16346\n",
    "Name: 436, dtype: int64"
   ]
  },
  {
   "cell_type": "markdown",
   "id": "1f9aa808",
   "metadata": {},
   "source": [
    "nombre_infected       903\n",
    "nombre_sain          2224\n",
    "nombre_exposed        492\n",
    "nombre_recovered    16381\n",
    "Name: 437, dtype: int64"
   ]
  },
  {
   "cell_type": "markdown",
   "id": "ca2435fc",
   "metadata": {},
   "source": [
    "nombre_infected       884\n",
    "nombre_sain          2216\n",
    "nombre_exposed        498\n",
    "nombre_recovered    16402\n",
    "Name: 438, dtype: int64"
   ]
  },
  {
   "cell_type": "markdown",
   "id": "ac5c94cb",
   "metadata": {},
   "source": [
    "nombre_infected       885\n",
    "nombre_sain          2215\n",
    "nombre_exposed        506\n",
    "nombre_recovered    16394\n",
    "Name: 439, dtype: int64"
   ]
  },
  {
   "cell_type": "markdown",
   "id": "c66f87b2",
   "metadata": {},
   "source": [
    "nombre_infected       879\n",
    "nombre_sain          2228\n",
    "nombre_exposed        497\n",
    "nombre_recovered    16396\n",
    "Name: 440, dtype: int64"
   ]
  },
  {
   "cell_type": "markdown",
   "id": "bc9a99c2",
   "metadata": {},
   "source": [
    "nombre_infected       892\n",
    "nombre_sain          2232\n",
    "nombre_exposed        494\n",
    "nombre_recovered    16382\n",
    "Name: 441, dtype: int64"
   ]
  },
  {
   "cell_type": "markdown",
   "id": "87a7e351",
   "metadata": {},
   "source": [
    "nombre_infected       884\n",
    "nombre_sain          2215\n",
    "nombre_exposed        497\n",
    "nombre_recovered    16404\n",
    "Name: 442, dtype: int64"
   ]
  },
  {
   "cell_type": "markdown",
   "id": "47145aaa",
   "metadata": {},
   "source": [
    "nombre_infected       882\n",
    "nombre_sain          2211\n",
    "nombre_exposed        499\n",
    "nombre_recovered    16408\n",
    "Name: 443, dtype: int64"
   ]
  },
  {
   "cell_type": "markdown",
   "id": "55b6d9cd",
   "metadata": {},
   "source": [
    "nombre_infected       892\n",
    "nombre_sain          2210\n",
    "nombre_exposed        470\n",
    "nombre_recovered    16428\n",
    "Name: 444, dtype: int64"
   ]
  },
  {
   "cell_type": "markdown",
   "id": "e0cd14a1",
   "metadata": {},
   "source": [
    "nombre_infected       883\n",
    "nombre_sain          2214\n",
    "nombre_exposed        462\n",
    "nombre_recovered    16441\n",
    "Name: 445, dtype: int64"
   ]
  },
  {
   "cell_type": "markdown",
   "id": "f020e203",
   "metadata": {},
   "source": [
    "nombre_infected       905\n",
    "nombre_sain          2209\n",
    "nombre_exposed        452\n",
    "nombre_recovered    16434\n",
    "Name: 446, dtype: int64"
   ]
  },
  {
   "cell_type": "markdown",
   "id": "d00b9925",
   "metadata": {},
   "source": [
    "nombre_infected       876\n",
    "nombre_sain          2212\n",
    "nombre_exposed        465\n",
    "nombre_recovered    16447\n",
    "Name: 447, dtype: int64"
   ]
  },
  {
   "cell_type": "markdown",
   "id": "32359c22",
   "metadata": {},
   "source": [
    "nombre_infected       869\n",
    "nombre_sain          2223\n",
    "nombre_exposed        449\n",
    "nombre_recovered    16459\n",
    "Name: 448, dtype: int64"
   ]
  },
  {
   "cell_type": "markdown",
   "id": "f3725301",
   "metadata": {},
   "source": [
    "nombre_infected       887\n",
    "nombre_sain          2233\n",
    "nombre_exposed        443\n",
    "nombre_recovered    16437\n",
    "Name: 449, dtype: int64"
   ]
  },
  {
   "cell_type": "markdown",
   "id": "a0993d17",
   "metadata": {},
   "source": [
    "nombre_infected       859\n",
    "nombre_sain          2213\n",
    "nombre_exposed        455\n",
    "nombre_recovered    16473\n",
    "Name: 450, dtype: int64"
   ]
  },
  {
   "cell_type": "markdown",
   "id": "99b26a90",
   "metadata": {},
   "source": [
    "nombre_infected       861\n",
    "nombre_sain          2220\n",
    "nombre_exposed        450\n",
    "nombre_recovered    16469\n",
    "Name: 451, dtype: int64"
   ]
  },
  {
   "cell_type": "markdown",
   "id": "377ec308",
   "metadata": {},
   "source": [
    "nombre_infected       858\n",
    "nombre_sain          2220\n",
    "nombre_exposed        448\n",
    "nombre_recovered    16474\n",
    "Name: 452, dtype: int64"
   ]
  },
  {
   "cell_type": "markdown",
   "id": "3482fd9f",
   "metadata": {},
   "source": [
    "nombre_infected       859\n",
    "nombre_sain          2205\n",
    "nombre_exposed        462\n",
    "nombre_recovered    16474\n",
    "Name: 453, dtype: int64"
   ]
  },
  {
   "cell_type": "markdown",
   "id": "cefa9caa",
   "metadata": {},
   "source": [
    "nombre_infected       838\n",
    "nombre_sain          2203\n",
    "nombre_exposed        476\n",
    "nombre_recovered    16483\n",
    "Name: 454, dtype: int64"
   ]
  },
  {
   "cell_type": "markdown",
   "id": "89f45658",
   "metadata": {},
   "source": [
    "nombre_infected       827\n",
    "nombre_sain          2187\n",
    "nombre_exposed        474\n",
    "nombre_recovered    16512\n",
    "Name: 455, dtype: int64"
   ]
  },
  {
   "cell_type": "markdown",
   "id": "2975ed87",
   "metadata": {},
   "source": [
    "nombre_infected       823\n",
    "nombre_sain          2173\n",
    "nombre_exposed        480\n",
    "nombre_recovered    16524\n",
    "Name: 456, dtype: int64"
   ]
  },
  {
   "cell_type": "markdown",
   "id": "f2eb2014",
   "metadata": {},
   "source": [
    "nombre_infected       803\n",
    "nombre_sain          2167\n",
    "nombre_exposed        484\n",
    "nombre_recovered    16546\n",
    "Name: 457, dtype: int64"
   ]
  },
  {
   "cell_type": "markdown",
   "id": "0e3a7d5f",
   "metadata": {},
   "source": [
    "nombre_infected       797\n",
    "nombre_sain          2155\n",
    "nombre_exposed        487\n",
    "nombre_recovered    16561\n",
    "Name: 458, dtype: int64"
   ]
  },
  {
   "cell_type": "markdown",
   "id": "89976e9e",
   "metadata": {},
   "source": [
    "nombre_infected       808\n",
    "nombre_sain          2155\n",
    "nombre_exposed        482\n",
    "nombre_recovered    16555\n",
    "Name: 459, dtype: int64"
   ]
  },
  {
   "cell_type": "markdown",
   "id": "c16c4bca",
   "metadata": {},
   "source": [
    "nombre_infected       833\n",
    "nombre_sain          2157\n",
    "nombre_exposed        460\n",
    "nombre_recovered    16550\n",
    "Name: 460, dtype: int64"
   ]
  },
  {
   "cell_type": "markdown",
   "id": "750aeee7",
   "metadata": {},
   "source": [
    "nombre_infected       832\n",
    "nombre_sain          2161\n",
    "nombre_exposed        461\n",
    "nombre_recovered    16546\n",
    "Name: 461, dtype: int64"
   ]
  },
  {
   "cell_type": "markdown",
   "id": "05dac730",
   "metadata": {},
   "source": [
    "nombre_infected       828\n",
    "nombre_sain          2173\n",
    "nombre_exposed        441\n",
    "nombre_recovered    16558\n",
    "Name: 462, dtype: int64"
   ]
  },
  {
   "cell_type": "markdown",
   "id": "718f46cd",
   "metadata": {},
   "source": [
    "nombre_infected       816\n",
    "nombre_sain          2166\n",
    "nombre_exposed        447\n",
    "nombre_recovered    16571\n",
    "Name: 463, dtype: int64"
   ]
  },
  {
   "cell_type": "markdown",
   "id": "952ccfc7",
   "metadata": {},
   "source": [
    "nombre_infected       805\n",
    "nombre_sain          2161\n",
    "nombre_exposed        464\n",
    "nombre_recovered    16570\n",
    "Name: 464, dtype: int64"
   ]
  },
  {
   "cell_type": "markdown",
   "id": "b51c085e",
   "metadata": {},
   "source": [
    "nombre_infected       799\n",
    "nombre_sain          2192\n",
    "nombre_exposed        444\n",
    "nombre_recovered    16565\n",
    "Name: 465, dtype: int64"
   ]
  },
  {
   "cell_type": "markdown",
   "id": "a42ad56a",
   "metadata": {},
   "source": [
    "nombre_infected       808\n",
    "nombre_sain          2202\n",
    "nombre_exposed        432\n",
    "nombre_recovered    16558\n",
    "Name: 466, dtype: int64"
   ]
  },
  {
   "cell_type": "markdown",
   "id": "a7602d11",
   "metadata": {},
   "source": [
    "nombre_infected       792\n",
    "nombre_sain          2221\n",
    "nombre_exposed        440\n",
    "nombre_recovered    16547\n",
    "Name: 467, dtype: int64"
   ]
  },
  {
   "cell_type": "markdown",
   "id": "e294e229",
   "metadata": {},
   "source": [
    "nombre_infected       797\n",
    "nombre_sain          2224\n",
    "nombre_exposed        437\n",
    "nombre_recovered    16542\n",
    "Name: 468, dtype: int64"
   ]
  },
  {
   "cell_type": "markdown",
   "id": "d3309bdb",
   "metadata": {},
   "source": [
    "nombre_infected       787\n",
    "nombre_sain          2254\n",
    "nombre_exposed        419\n",
    "nombre_recovered    16540\n",
    "Name: 469, dtype: int64"
   ]
  },
  {
   "cell_type": "markdown",
   "id": "ea4ab04f",
   "metadata": {},
   "source": [
    "nombre_infected       778\n",
    "nombre_sain          2249\n",
    "nombre_exposed        430\n",
    "nombre_recovered    16543\n",
    "Name: 470, dtype: int64"
   ]
  },
  {
   "cell_type": "markdown",
   "id": "6845849a",
   "metadata": {},
   "source": [
    "nombre_infected       786\n",
    "nombre_sain          2253\n",
    "nombre_exposed        425\n",
    "nombre_recovered    16536\n",
    "Name: 471, dtype: int64"
   ]
  },
  {
   "cell_type": "markdown",
   "id": "0c6919be",
   "metadata": {},
   "source": [
    "nombre_infected       783\n",
    "nombre_sain          2263\n",
    "nombre_exposed        413\n",
    "nombre_recovered    16541\n",
    "Name: 472, dtype: int64"
   ]
  },
  {
   "cell_type": "markdown",
   "id": "68fa5917",
   "metadata": {},
   "source": [
    "nombre_infected       782\n",
    "nombre_sain          2259\n",
    "nombre_exposed        412\n",
    "nombre_recovered    16547\n",
    "Name: 473, dtype: int64"
   ]
  },
  {
   "cell_type": "markdown",
   "id": "245dbdc8",
   "metadata": {},
   "source": [
    "nombre_infected       752\n",
    "nombre_sain          2256\n",
    "nombre_exposed        438\n",
    "nombre_recovered    16554\n",
    "Name: 474, dtype: int64"
   ]
  },
  {
   "cell_type": "markdown",
   "id": "d0866775",
   "metadata": {},
   "source": [
    "nombre_infected       763\n",
    "nombre_sain          2260\n",
    "nombre_exposed        432\n",
    "nombre_recovered    16545\n",
    "Name: 475, dtype: int64"
   ]
  },
  {
   "cell_type": "markdown",
   "id": "80b6faf3",
   "metadata": {},
   "source": [
    "nombre_infected       790\n",
    "nombre_sain          2272\n",
    "nombre_exposed        402\n",
    "nombre_recovered    16536\n",
    "Name: 476, dtype: int64"
   ]
  },
  {
   "cell_type": "markdown",
   "id": "8e711e8b",
   "metadata": {},
   "source": [
    "nombre_infected       787\n",
    "nombre_sain          2301\n",
    "nombre_exposed        397\n",
    "nombre_recovered    16515\n",
    "Name: 477, dtype: int64"
   ]
  },
  {
   "cell_type": "markdown",
   "id": "efa8b585",
   "metadata": {},
   "source": [
    "nombre_infected       755\n",
    "nombre_sain          2298\n",
    "nombre_exposed        410\n",
    "nombre_recovered    16537\n",
    "Name: 478, dtype: int64"
   ]
  },
  {
   "cell_type": "markdown",
   "id": "a7d46489",
   "metadata": {},
   "source": [
    "nombre_infected       754\n",
    "nombre_sain          2299\n",
    "nombre_exposed        398\n",
    "nombre_recovered    16549\n",
    "Name: 479, dtype: int64"
   ]
  },
  {
   "cell_type": "markdown",
   "id": "f65fbe2f",
   "metadata": {},
   "source": [
    "nombre_infected       748\n",
    "nombre_sain          2318\n",
    "nombre_exposed        389\n",
    "nombre_recovered    16545\n",
    "Name: 480, dtype: int64"
   ]
  },
  {
   "cell_type": "markdown",
   "id": "fd7e3292",
   "metadata": {},
   "source": [
    "nombre_infected       733\n",
    "nombre_sain          2335\n",
    "nombre_exposed        413\n",
    "nombre_recovered    16519\n",
    "Name: 481, dtype: int64"
   ]
  },
  {
   "cell_type": "markdown",
   "id": "6b09a393",
   "metadata": {},
   "source": [
    "nombre_infected       739\n",
    "nombre_sain          2342\n",
    "nombre_exposed        401\n",
    "nombre_recovered    16518\n",
    "Name: 482, dtype: int64"
   ]
  },
  {
   "cell_type": "markdown",
   "id": "60f531ae",
   "metadata": {},
   "source": [
    "nombre_infected       711\n",
    "nombre_sain          2341\n",
    "nombre_exposed        405\n",
    "nombre_recovered    16543\n",
    "Name: 483, dtype: int64"
   ]
  },
  {
   "cell_type": "markdown",
   "id": "045743d7",
   "metadata": {},
   "source": [
    "nombre_infected       711\n",
    "nombre_sain          2366\n",
    "nombre_exposed        405\n",
    "nombre_recovered    16518\n",
    "Name: 484, dtype: int64"
   ]
  },
  {
   "cell_type": "markdown",
   "id": "dfff70e4",
   "metadata": {},
   "source": [
    "nombre_infected       688\n",
    "nombre_sain          2366\n",
    "nombre_exposed        419\n",
    "nombre_recovered    16527\n",
    "Name: 485, dtype: int64"
   ]
  },
  {
   "cell_type": "markdown",
   "id": "884dd8dd",
   "metadata": {},
   "source": [
    "nombre_infected       666\n",
    "nombre_sain          2382\n",
    "nombre_exposed        441\n",
    "nombre_recovered    16511\n",
    "Name: 486, dtype: int64"
   ]
  },
  {
   "cell_type": "markdown",
   "id": "5dcefa44",
   "metadata": {},
   "source": [
    "nombre_infected       694\n",
    "nombre_sain          2403\n",
    "nombre_exposed        411\n",
    "nombre_recovered    16492\n",
    "Name: 487, dtype: int64"
   ]
  },
  {
   "cell_type": "markdown",
   "id": "b1d7861b",
   "metadata": {},
   "source": [
    "nombre_infected       682\n",
    "nombre_sain          2415\n",
    "nombre_exposed        406\n",
    "nombre_recovered    16497\n",
    "Name: 488, dtype: int64"
   ]
  },
  {
   "cell_type": "markdown",
   "id": "e22821ba",
   "metadata": {},
   "source": [
    "nombre_infected       668\n",
    "nombre_sain          2411\n",
    "nombre_exposed        415\n",
    "nombre_recovered    16506\n",
    "Name: 489, dtype: int64"
   ]
  },
  {
   "cell_type": "markdown",
   "id": "139bd06c",
   "metadata": {},
   "source": [
    "nombre_infected       679\n",
    "nombre_sain          2418\n",
    "nombre_exposed        425\n",
    "nombre_recovered    16478\n",
    "Name: 490, dtype: int64"
   ]
  },
  {
   "cell_type": "markdown",
   "id": "b6272c8a",
   "metadata": {},
   "source": [
    "nombre_infected       672\n",
    "nombre_sain          2412\n",
    "nombre_exposed        446\n",
    "nombre_recovered    16470\n",
    "Name: 491, dtype: int64"
   ]
  },
  {
   "cell_type": "markdown",
   "id": "47a8c064",
   "metadata": {},
   "source": [
    "nombre_infected       675\n",
    "nombre_sain          2429\n",
    "nombre_exposed        451\n",
    "nombre_recovered    16445\n",
    "Name: 492, dtype: int64"
   ]
  },
  {
   "cell_type": "markdown",
   "id": "244e5184",
   "metadata": {},
   "source": [
    "nombre_infected       681\n",
    "nombre_sain          2418\n",
    "nombre_exposed        450\n",
    "nombre_recovered    16451\n",
    "Name: 493, dtype: int64"
   ]
  },
  {
   "cell_type": "markdown",
   "id": "245c8b16",
   "metadata": {},
   "source": [
    "nombre_infected       712\n",
    "nombre_sain          2409\n",
    "nombre_exposed        444\n",
    "nombre_recovered    16435\n",
    "Name: 494, dtype: int64"
   ]
  },
  {
   "cell_type": "markdown",
   "id": "dc459d87",
   "metadata": {},
   "source": [
    "nombre_infected       692\n",
    "nombre_sain          2443\n",
    "nombre_exposed        455\n",
    "nombre_recovered    16410\n",
    "Name: 495, dtype: int64"
   ]
  },
  {
   "cell_type": "markdown",
   "id": "5178eb50",
   "metadata": {},
   "source": [
    "nombre_infected       697\n",
    "nombre_sain          2464\n",
    "nombre_exposed        444\n",
    "nombre_recovered    16395\n",
    "Name: 496, dtype: int64"
   ]
  },
  {
   "cell_type": "markdown",
   "id": "07337cd9",
   "metadata": {},
   "source": [
    "nombre_infected       716\n",
    "nombre_sain          2469\n",
    "nombre_exposed        442\n",
    "nombre_recovered    16373\n",
    "Name: 497, dtype: int64"
   ]
  },
  {
   "cell_type": "markdown",
   "id": "f21376e9",
   "metadata": {},
   "source": [
    "nombre_infected       712\n",
    "nombre_sain          2488\n",
    "nombre_exposed        452\n",
    "nombre_recovered    16348\n",
    "Name: 498, dtype: int64"
   ]
  },
  {
   "cell_type": "markdown",
   "id": "28cbeca4",
   "metadata": {},
   "source": [
    "nombre_infected       719\n",
    "nombre_sain          2496\n",
    "nombre_exposed        437\n",
    "nombre_recovered    16348\n",
    "Name: 499, dtype: int64"
   ]
  },
  {
   "cell_type": "markdown",
   "id": "abc62a5f",
   "metadata": {},
   "source": [
    "nombre_infected       744\n",
    "nombre_sain          2490\n",
    "nombre_exposed        429\n",
    "nombre_recovered    16337\n",
    "Name: 500, dtype: int64"
   ]
  },
  {
   "cell_type": "markdown",
   "id": "be78f38a",
   "metadata": {},
   "source": [
    "nombre_infected       741\n",
    "nombre_sain          2490\n",
    "nombre_exposed        440\n",
    "nombre_recovered    16329\n",
    "Name: 501, dtype: int64"
   ]
  },
  {
   "cell_type": "markdown",
   "id": "8d4da5c6",
   "metadata": {},
   "source": [
    "nombre_infected       737\n",
    "nombre_sain          2495\n",
    "nombre_exposed        437\n",
    "nombre_recovered    16331\n",
    "Name: 502, dtype: int64"
   ]
  },
  {
   "cell_type": "markdown",
   "id": "2ae9c027",
   "metadata": {},
   "source": [
    "nombre_infected       732\n",
    "nombre_sain          2496\n",
    "nombre_exposed        438\n",
    "nombre_recovered    16334\n",
    "Name: 503, dtype: int64"
   ]
  },
  {
   "cell_type": "markdown",
   "id": "136b801d",
   "metadata": {},
   "source": [
    "nombre_infected       721\n",
    "nombre_sain          2497\n",
    "nombre_exposed        429\n",
    "nombre_recovered    16353\n",
    "Name: 504, dtype: int64"
   ]
  },
  {
   "cell_type": "markdown",
   "id": "e6a87ef4",
   "metadata": {},
   "source": [
    "nombre_infected       715\n",
    "nombre_sain          2515\n",
    "nombre_exposed        431\n",
    "nombre_recovered    16339\n",
    "Name: 505, dtype: int64"
   ]
  },
  {
   "cell_type": "markdown",
   "id": "80a3f548",
   "metadata": {},
   "source": [
    "nombre_infected       708\n",
    "nombre_sain          2496\n",
    "nombre_exposed        446\n",
    "nombre_recovered    16350\n",
    "Name: 506, dtype: int64"
   ]
  },
  {
   "cell_type": "markdown",
   "id": "27de97aa",
   "metadata": {},
   "source": [
    "nombre_infected       701\n",
    "nombre_sain          2489\n",
    "nombre_exposed        434\n",
    "nombre_recovered    16376\n",
    "Name: 507, dtype: int64"
   ]
  },
  {
   "cell_type": "markdown",
   "id": "54978aa0",
   "metadata": {},
   "source": [
    "nombre_infected       713\n",
    "nombre_sain          2492\n",
    "nombre_exposed        433\n",
    "nombre_recovered    16362\n",
    "Name: 508, dtype: int64"
   ]
  },
  {
   "cell_type": "markdown",
   "id": "090a1d8a",
   "metadata": {},
   "source": [
    "nombre_infected       715\n",
    "nombre_sain          2495\n",
    "nombre_exposed        429\n",
    "nombre_recovered    16361\n",
    "Name: 509, dtype: int64"
   ]
  },
  {
   "cell_type": "markdown",
   "id": "e71fe638",
   "metadata": {},
   "source": [
    "nombre_infected       733\n",
    "nombre_sain          2490\n",
    "nombre_exposed        391\n",
    "nombre_recovered    16386\n",
    "Name: 510, dtype: int64"
   ]
  },
  {
   "cell_type": "markdown",
   "id": "45a999e0",
   "metadata": {},
   "source": [
    "nombre_infected       724\n",
    "nombre_sain          2470\n",
    "nombre_exposed        417\n",
    "nombre_recovered    16389\n",
    "Name: 511, dtype: int64"
   ]
  },
  {
   "cell_type": "markdown",
   "id": "b182c552",
   "metadata": {},
   "source": [
    "nombre_infected       728\n",
    "nombre_sain          2445\n",
    "nombre_exposed        433\n",
    "nombre_recovered    16394\n",
    "Name: 512, dtype: int64"
   ]
  },
  {
   "cell_type": "markdown",
   "id": "86a203de",
   "metadata": {},
   "source": [
    "nombre_infected       729\n",
    "nombre_sain          2442\n",
    "nombre_exposed        432\n",
    "nombre_recovered    16397\n",
    "Name: 513, dtype: int64"
   ]
  },
  {
   "cell_type": "markdown",
   "id": "29ee0bdc",
   "metadata": {},
   "source": [
    "nombre_infected       736\n",
    "nombre_sain          2431\n",
    "nombre_exposed        420\n",
    "nombre_recovered    16413\n",
    "Name: 514, dtype: int64"
   ]
  },
  {
   "cell_type": "markdown",
   "id": "6388f1d1",
   "metadata": {},
   "source": [
    "nombre_infected       724\n",
    "nombre_sain          2417\n",
    "nombre_exposed        422\n",
    "nombre_recovered    16437\n",
    "Name: 515, dtype: int64"
   ]
  },
  {
   "cell_type": "markdown",
   "id": "24f8b3d6",
   "metadata": {},
   "source": [
    "nombre_infected       713\n",
    "nombre_sain          2405\n",
    "nombre_exposed        413\n",
    "nombre_recovered    16469\n",
    "Name: 516, dtype: int64"
   ]
  },
  {
   "cell_type": "markdown",
   "id": "814c95e0",
   "metadata": {},
   "source": [
    "nombre_infected       715\n",
    "nombre_sain          2396\n",
    "nombre_exposed        400\n",
    "nombre_recovered    16489\n",
    "Name: 517, dtype: int64"
   ]
  },
  {
   "cell_type": "markdown",
   "id": "75c96b30",
   "metadata": {},
   "source": [
    "nombre_infected       717\n",
    "nombre_sain          2405\n",
    "nombre_exposed        400\n",
    "nombre_recovered    16478\n",
    "Name: 518, dtype: int64"
   ]
  },
  {
   "cell_type": "markdown",
   "id": "6228e9bd",
   "metadata": {},
   "source": [
    "nombre_infected       702\n",
    "nombre_sain          2388\n",
    "nombre_exposed        419\n",
    "nombre_recovered    16491\n",
    "Name: 519, dtype: int64"
   ]
  },
  {
   "cell_type": "markdown",
   "id": "f517ba79",
   "metadata": {},
   "source": [
    "nombre_infected       708\n",
    "nombre_sain          2354\n",
    "nombre_exposed        426\n",
    "nombre_recovered    16512\n",
    "Name: 520, dtype: int64"
   ]
  },
  {
   "cell_type": "markdown",
   "id": "3d33234d",
   "metadata": {},
   "source": [
    "nombre_infected       689\n",
    "nombre_sain          2346\n",
    "nombre_exposed        453\n",
    "nombre_recovered    16512\n",
    "Name: 521, dtype: int64"
   ]
  },
  {
   "cell_type": "markdown",
   "id": "72c3b631",
   "metadata": {},
   "source": [
    "nombre_infected       698\n",
    "nombre_sain          2323\n",
    "nombre_exposed        450\n",
    "nombre_recovered    16529\n",
    "Name: 522, dtype: int64"
   ]
  },
  {
   "cell_type": "markdown",
   "id": "b43d1a4b",
   "metadata": {},
   "source": [
    "nombre_infected       696\n",
    "nombre_sain          2346\n",
    "nombre_exposed        423\n",
    "nombre_recovered    16535\n",
    "Name: 523, dtype: int64"
   ]
  },
  {
   "cell_type": "markdown",
   "id": "c492352e",
   "metadata": {},
   "source": [
    "nombre_infected       723\n",
    "nombre_sain          2335\n",
    "nombre_exposed        391\n",
    "nombre_recovered    16551\n",
    "Name: 524, dtype: int64"
   ]
  },
  {
   "cell_type": "markdown",
   "id": "93950159",
   "metadata": {},
   "source": [
    "nombre_infected       742\n",
    "nombre_sain          2327\n",
    "nombre_exposed        378\n",
    "nombre_recovered    16553\n",
    "Name: 525, dtype: int64"
   ]
  },
  {
   "cell_type": "markdown",
   "id": "1aecae6b",
   "metadata": {},
   "source": [
    "nombre_infected       728\n",
    "nombre_sain          2338\n",
    "nombre_exposed        391\n",
    "nombre_recovered    16543\n",
    "Name: 526, dtype: int64"
   ]
  },
  {
   "cell_type": "markdown",
   "id": "dc910ef3",
   "metadata": {},
   "source": [
    "nombre_infected       707\n",
    "nombre_sain          2337\n",
    "nombre_exposed        419\n",
    "nombre_recovered    16537\n",
    "Name: 527, dtype: int64"
   ]
  },
  {
   "cell_type": "markdown",
   "id": "33c761eb",
   "metadata": {},
   "source": [
    "nombre_infected       720\n",
    "nombre_sain          2335\n",
    "nombre_exposed        405\n",
    "nombre_recovered    16540\n",
    "Name: 528, dtype: int64"
   ]
  },
  {
   "cell_type": "markdown",
   "id": "6639c51b",
   "metadata": {},
   "source": [
    "nombre_infected       725\n",
    "nombre_sain          2345\n",
    "nombre_exposed        409\n",
    "nombre_recovered    16521\n",
    "Name: 529, dtype: int64"
   ]
  },
  {
   "cell_type": "markdown",
   "id": "f6d27ecc",
   "metadata": {},
   "source": [
    "nombre_infected       718\n",
    "nombre_sain          2336\n",
    "nombre_exposed        422\n",
    "nombre_recovered    16524\n",
    "Name: 530, dtype: int64"
   ]
  },
  {
   "cell_type": "markdown",
   "id": "34e7eb9d",
   "metadata": {},
   "source": [
    "nombre_infected       740\n",
    "nombre_sain          2340\n",
    "nombre_exposed        397\n",
    "nombre_recovered    16523\n",
    "Name: 531, dtype: int64"
   ]
  },
  {
   "cell_type": "markdown",
   "id": "527c5a21",
   "metadata": {},
   "source": [
    "nombre_infected       749\n",
    "nombre_sain          2340\n",
    "nombre_exposed        405\n",
    "nombre_recovered    16506\n",
    "Name: 532, dtype: int64"
   ]
  },
  {
   "cell_type": "markdown",
   "id": "50997ec9",
   "metadata": {},
   "source": [
    "nombre_infected       760\n",
    "nombre_sain          2357\n",
    "nombre_exposed        391\n",
    "nombre_recovered    16492\n",
    "Name: 533, dtype: int64"
   ]
  },
  {
   "cell_type": "markdown",
   "id": "5e3b0905",
   "metadata": {},
   "source": [
    "nombre_infected       758\n",
    "nombre_sain          2340\n",
    "nombre_exposed        398\n",
    "nombre_recovered    16504\n",
    "Name: 534, dtype: int64"
   ]
  },
  {
   "cell_type": "markdown",
   "id": "874bf2ca",
   "metadata": {},
   "source": [
    "nombre_infected       750\n",
    "nombre_sain          2339\n",
    "nombre_exposed        413\n",
    "nombre_recovered    16498\n",
    "Name: 535, dtype: int64"
   ]
  },
  {
   "cell_type": "markdown",
   "id": "2875130a",
   "metadata": {},
   "source": [
    "nombre_infected       768\n",
    "nombre_sain          2328\n",
    "nombre_exposed        429\n",
    "nombre_recovered    16475\n",
    "Name: 536, dtype: int64"
   ]
  },
  {
   "cell_type": "markdown",
   "id": "96824c15",
   "metadata": {},
   "source": [
    "nombre_infected       789\n",
    "nombre_sain          2302\n",
    "nombre_exposed        433\n",
    "nombre_recovered    16476\n",
    "Name: 537, dtype: int64"
   ]
  },
  {
   "cell_type": "markdown",
   "id": "70b70a86",
   "metadata": {},
   "source": [
    "nombre_infected       792\n",
    "nombre_sain          2288\n",
    "nombre_exposed        446\n",
    "nombre_recovered    16474\n",
    "Name: 538, dtype: int64"
   ]
  },
  {
   "cell_type": "markdown",
   "id": "7cdadea2",
   "metadata": {},
   "source": [
    "nombre_infected       782\n",
    "nombre_sain          2271\n",
    "nombre_exposed        446\n",
    "nombre_recovered    16501\n",
    "Name: 539, dtype: int64"
   ]
  },
  {
   "cell_type": "markdown",
   "id": "afdaaaa0",
   "metadata": {},
   "source": [
    "nombre_infected       808\n",
    "nombre_sain          2270\n",
    "nombre_exposed        440\n",
    "nombre_recovered    16482\n",
    "Name: 540, dtype: int64"
   ]
  },
  {
   "cell_type": "markdown",
   "id": "b70ce255",
   "metadata": {},
   "source": [
    "nombre_infected       813\n",
    "nombre_sain          2272\n",
    "nombre_exposed        432\n",
    "nombre_recovered    16483\n",
    "Name: 541, dtype: int64"
   ]
  },
  {
   "cell_type": "markdown",
   "id": "e0cfeffc",
   "metadata": {},
   "source": [
    "nombre_infected       818\n",
    "nombre_sain          2254\n",
    "nombre_exposed        439\n",
    "nombre_recovered    16489\n",
    "Name: 542, dtype: int64"
   ]
  },
  {
   "cell_type": "markdown",
   "id": "fc4df3e9",
   "metadata": {},
   "source": [
    "nombre_infected       819\n",
    "nombre_sain          2241\n",
    "nombre_exposed        449\n",
    "nombre_recovered    16491\n",
    "Name: 543, dtype: int64"
   ]
  },
  {
   "cell_type": "markdown",
   "id": "78653ff3",
   "metadata": {},
   "source": [
    "nombre_infected       799\n",
    "nombre_sain          2246\n",
    "nombre_exposed        464\n",
    "nombre_recovered    16491\n",
    "Name: 544, dtype: int64"
   ]
  },
  {
   "cell_type": "markdown",
   "id": "9c455534",
   "metadata": {},
   "source": [
    "nombre_infected       803\n",
    "nombre_sain          2248\n",
    "nombre_exposed        451\n",
    "nombre_recovered    16498\n",
    "Name: 545, dtype: int64"
   ]
  },
  {
   "cell_type": "markdown",
   "id": "ead15c09",
   "metadata": {},
   "source": [
    "nombre_infected       813\n",
    "nombre_sain          2231\n",
    "nombre_exposed        459\n",
    "nombre_recovered    16497\n",
    "Name: 546, dtype: int64"
   ]
  },
  {
   "cell_type": "markdown",
   "id": "de91ddee",
   "metadata": {},
   "source": [
    "nombre_infected       815\n",
    "nombre_sain          2250\n",
    "nombre_exposed        457\n",
    "nombre_recovered    16478\n",
    "Name: 547, dtype: int64"
   ]
  },
  {
   "cell_type": "markdown",
   "id": "7c792723",
   "metadata": {},
   "source": [
    "nombre_infected       800\n",
    "nombre_sain          2240\n",
    "nombre_exposed        476\n",
    "nombre_recovered    16484\n",
    "Name: 548, dtype: int64"
   ]
  },
  {
   "cell_type": "markdown",
   "id": "6b4a8851",
   "metadata": {},
   "source": [
    "nombre_infected       802\n",
    "nombre_sain          2246\n",
    "nombre_exposed        473\n",
    "nombre_recovered    16479\n",
    "Name: 549, dtype: int64"
   ]
  },
  {
   "cell_type": "markdown",
   "id": "e3ddf25b",
   "metadata": {},
   "source": [
    "nombre_infected       801\n",
    "nombre_sain          2252\n",
    "nombre_exposed        478\n",
    "nombre_recovered    16469\n",
    "Name: 550, dtype: int64"
   ]
  },
  {
   "cell_type": "markdown",
   "id": "f74e03e5",
   "metadata": {},
   "source": [
    "nombre_infected       799\n",
    "nombre_sain          2299\n",
    "nombre_exposed        465\n",
    "nombre_recovered    16437\n",
    "Name: 551, dtype: int64"
   ]
  },
  {
   "cell_type": "markdown",
   "id": "ef44065a",
   "metadata": {},
   "source": [
    "nombre_infected       809\n",
    "nombre_sain          2304\n",
    "nombre_exposed        470\n",
    "nombre_recovered    16417\n",
    "Name: 552, dtype: int64"
   ]
  },
  {
   "cell_type": "markdown",
   "id": "56a5338b",
   "metadata": {},
   "source": [
    "nombre_infected       815\n",
    "nombre_sain          2309\n",
    "nombre_exposed        465\n",
    "nombre_recovered    16411\n",
    "Name: 553, dtype: int64"
   ]
  },
  {
   "cell_type": "markdown",
   "id": "470d4713",
   "metadata": {},
   "source": [
    "nombre_infected       813\n",
    "nombre_sain          2296\n",
    "nombre_exposed        473\n",
    "nombre_recovered    16418\n",
    "Name: 554, dtype: int64"
   ]
  },
  {
   "cell_type": "markdown",
   "id": "b8f98a8e",
   "metadata": {},
   "source": [
    "nombre_infected       828\n",
    "nombre_sain          2295\n",
    "nombre_exposed        485\n",
    "nombre_recovered    16392\n",
    "Name: 555, dtype: int64"
   ]
  },
  {
   "cell_type": "markdown",
   "id": "3cc70b6b",
   "metadata": {},
   "source": [
    "nombre_infected       844\n",
    "nombre_sain          2297\n",
    "nombre_exposed        473\n",
    "nombre_recovered    16386\n",
    "Name: 556, dtype: int64"
   ]
  },
  {
   "cell_type": "markdown",
   "id": "e1915f99",
   "metadata": {},
   "source": [
    "nombre_infected       856\n",
    "nombre_sain          2277\n",
    "nombre_exposed        477\n",
    "nombre_recovered    16390\n",
    "Name: 557, dtype: int64"
   ]
  },
  {
   "cell_type": "markdown",
   "id": "7ecae151",
   "metadata": {},
   "source": [
    "nombre_infected       845\n",
    "nombre_sain          2250\n",
    "nombre_exposed        490\n",
    "nombre_recovered    16415\n",
    "Name: 558, dtype: int64"
   ]
  },
  {
   "cell_type": "markdown",
   "id": "970ad653",
   "metadata": {},
   "source": [
    "nombre_infected       860\n",
    "nombre_sain          2238\n",
    "nombre_exposed        480\n",
    "nombre_recovered    16422\n",
    "Name: 559, dtype: int64"
   ]
  },
  {
   "cell_type": "markdown",
   "id": "517a8ac0",
   "metadata": {},
   "source": [
    "nombre_infected       869\n",
    "nombre_sain          2219\n",
    "nombre_exposed        490\n",
    "nombre_recovered    16422\n",
    "Name: 560, dtype: int64"
   ]
  },
  {
   "cell_type": "markdown",
   "id": "9e1d8c5c",
   "metadata": {},
   "source": [
    "nombre_infected       874\n",
    "nombre_sain          2186\n",
    "nombre_exposed        489\n",
    "nombre_recovered    16451\n",
    "Name: 561, dtype: int64"
   ]
  },
  {
   "cell_type": "markdown",
   "id": "7da04699",
   "metadata": {},
   "source": [
    "nombre_infected       862\n",
    "nombre_sain          2163\n",
    "nombre_exposed        496\n",
    "nombre_recovered    16479\n",
    "Name: 562, dtype: int64"
   ]
  },
  {
   "cell_type": "markdown",
   "id": "29e671d2",
   "metadata": {},
   "source": [
    "nombre_infected       845\n",
    "nombre_sain          2139\n",
    "nombre_exposed        495\n",
    "nombre_recovered    16521\n",
    "Name: 563, dtype: int64"
   ]
  },
  {
   "cell_type": "markdown",
   "id": "1bcaca1b",
   "metadata": {},
   "source": [
    "nombre_infected       829\n",
    "nombre_sain          2147\n",
    "nombre_exposed        477\n",
    "nombre_recovered    16547\n",
    "Name: 564, dtype: int64"
   ]
  },
  {
   "cell_type": "markdown",
   "id": "c32f0a73",
   "metadata": {},
   "source": [
    "nombre_infected       868\n",
    "nombre_sain          2133\n",
    "nombre_exposed        461\n",
    "nombre_recovered    16538\n",
    "Name: 565, dtype: int64"
   ]
  },
  {
   "cell_type": "markdown",
   "id": "1da5749f",
   "metadata": {},
   "source": [
    "nombre_infected       857\n",
    "nombre_sain          2126\n",
    "nombre_exposed        473\n",
    "nombre_recovered    16544\n",
    "Name: 566, dtype: int64"
   ]
  },
  {
   "cell_type": "markdown",
   "id": "276d7da6",
   "metadata": {},
   "source": [
    "nombre_infected       869\n",
    "nombre_sain          2119\n",
    "nombre_exposed        469\n",
    "nombre_recovered    16543\n",
    "Name: 567, dtype: int64"
   ]
  },
  {
   "cell_type": "markdown",
   "id": "efe687ff",
   "metadata": {},
   "source": [
    "nombre_infected       874\n",
    "nombre_sain          2124\n",
    "nombre_exposed        475\n",
    "nombre_recovered    16527\n",
    "Name: 568, dtype: int64"
   ]
  },
  {
   "cell_type": "markdown",
   "id": "0c60a94e",
   "metadata": {},
   "source": [
    "nombre_infected       886\n",
    "nombre_sain          2147\n",
    "nombre_exposed        448\n",
    "nombre_recovered    16519\n",
    "Name: 569, dtype: int64"
   ]
  },
  {
   "cell_type": "markdown",
   "id": "a17a636f",
   "metadata": {},
   "source": [
    "nombre_infected       893\n",
    "nombre_sain          2158\n",
    "nombre_exposed        445\n",
    "nombre_recovered    16504\n",
    "Name: 570, dtype: int64"
   ]
  },
  {
   "cell_type": "markdown",
   "id": "3ccedbb8",
   "metadata": {},
   "source": [
    "nombre_infected       856\n",
    "nombre_sain          2137\n",
    "nombre_exposed        464\n",
    "nombre_recovered    16543\n",
    "Name: 571, dtype: int64"
   ]
  },
  {
   "cell_type": "markdown",
   "id": "c7308e34",
   "metadata": {},
   "source": [
    "nombre_infected       863\n",
    "nombre_sain          2118\n",
    "nombre_exposed        463\n",
    "nombre_recovered    16556\n",
    "Name: 572, dtype: int64"
   ]
  },
  {
   "cell_type": "markdown",
   "id": "4af18425",
   "metadata": {},
   "source": [
    "nombre_infected       862\n",
    "nombre_sain          2120\n",
    "nombre_exposed        480\n",
    "nombre_recovered    16538\n",
    "Name: 573, dtype: int64"
   ]
  },
  {
   "cell_type": "markdown",
   "id": "3dd162ce",
   "metadata": {},
   "source": [
    "nombre_infected       879\n",
    "nombre_sain          2102\n",
    "nombre_exposed        493\n",
    "nombre_recovered    16526\n",
    "Name: 574, dtype: int64"
   ]
  },
  {
   "cell_type": "markdown",
   "id": "b85e2300",
   "metadata": {},
   "source": [
    "nombre_infected       872\n",
    "nombre_sain          2097\n",
    "nombre_exposed        484\n",
    "nombre_recovered    16547\n",
    "Name: 575, dtype: int64"
   ]
  },
  {
   "cell_type": "markdown",
   "id": "b6f398f1",
   "metadata": {},
   "source": [
    "nombre_infected       882\n",
    "nombre_sain          2060\n",
    "nombre_exposed        489\n",
    "nombre_recovered    16569\n",
    "Name: 576, dtype: int64"
   ]
  },
  {
   "cell_type": "markdown",
   "id": "90e69088",
   "metadata": {},
   "source": [
    "nombre_infected       884\n",
    "nombre_sain          2048\n",
    "nombre_exposed        470\n",
    "nombre_recovered    16598\n",
    "Name: 577, dtype: int64"
   ]
  },
  {
   "cell_type": "markdown",
   "id": "37cbd976",
   "metadata": {},
   "source": [
    "nombre_infected       896\n",
    "nombre_sain          2051\n",
    "nombre_exposed        445\n",
    "nombre_recovered    16608\n",
    "Name: 578, dtype: int64"
   ]
  },
  {
   "cell_type": "markdown",
   "id": "ccbb7340",
   "metadata": {},
   "source": [
    "nombre_infected       881\n",
    "nombre_sain          2038\n",
    "nombre_exposed        459\n",
    "nombre_recovered    16622\n",
    "Name: 579, dtype: int64"
   ]
  },
  {
   "cell_type": "markdown",
   "id": "05cbbabc",
   "metadata": {},
   "source": [
    "nombre_infected       883\n",
    "nombre_sain          2051\n",
    "nombre_exposed        438\n",
    "nombre_recovered    16628\n",
    "Name: 580, dtype: int64"
   ]
  },
  {
   "cell_type": "markdown",
   "id": "40802f42",
   "metadata": {},
   "source": [
    "nombre_infected       863\n",
    "nombre_sain          2039\n",
    "nombre_exposed        444\n",
    "nombre_recovered    16654\n",
    "Name: 581, dtype: int64"
   ]
  },
  {
   "cell_type": "markdown",
   "id": "9712e892",
   "metadata": {},
   "source": [
    "nombre_infected       848\n",
    "nombre_sain          2046\n",
    "nombre_exposed        462\n",
    "nombre_recovered    16644\n",
    "Name: 582, dtype: int64"
   ]
  },
  {
   "cell_type": "markdown",
   "id": "64d218db",
   "metadata": {},
   "source": [
    "nombre_infected       850\n",
    "nombre_sain          2045\n",
    "nombre_exposed        469\n",
    "nombre_recovered    16636\n",
    "Name: 583, dtype: int64"
   ]
  },
  {
   "cell_type": "markdown",
   "id": "656c955c",
   "metadata": {},
   "source": [
    "nombre_infected       834\n",
    "nombre_sain          2020\n",
    "nombre_exposed        475\n",
    "nombre_recovered    16671\n",
    "Name: 584, dtype: int64"
   ]
  },
  {
   "cell_type": "markdown",
   "id": "3cd0db2d",
   "metadata": {},
   "source": [
    "nombre_infected       819\n",
    "nombre_sain          2034\n",
    "nombre_exposed        466\n",
    "nombre_recovered    16681\n",
    "Name: 585, dtype: int64"
   ]
  },
  {
   "cell_type": "markdown",
   "id": "57e16d6a",
   "metadata": {},
   "source": [
    "nombre_infected       819\n",
    "nombre_sain          2042\n",
    "nombre_exposed        460\n",
    "nombre_recovered    16679\n",
    "Name: 586, dtype: int64"
   ]
  },
  {
   "cell_type": "markdown",
   "id": "2762a335",
   "metadata": {},
   "source": [
    "nombre_infected       813\n",
    "nombre_sain          2078\n",
    "nombre_exposed        441\n",
    "nombre_recovered    16668\n",
    "Name: 587, dtype: int64"
   ]
  },
  {
   "cell_type": "markdown",
   "id": "8374d077",
   "metadata": {},
   "source": [
    "nombre_infected       813\n",
    "nombre_sain          2093\n",
    "nombre_exposed        435\n",
    "nombre_recovered    16659\n",
    "Name: 588, dtype: int64"
   ]
  },
  {
   "cell_type": "markdown",
   "id": "c65bcad7",
   "metadata": {},
   "source": [
    "nombre_infected       815\n",
    "nombre_sain          2110\n",
    "nombre_exposed        422\n",
    "nombre_recovered    16653\n",
    "Name: 589, dtype: int64"
   ]
  },
  {
   "cell_type": "markdown",
   "id": "5727d993",
   "metadata": {},
   "source": [
    "nombre_infected       814\n",
    "nombre_sain          2125\n",
    "nombre_exposed        408\n",
    "nombre_recovered    16653\n",
    "Name: 590, dtype: int64"
   ]
  },
  {
   "cell_type": "markdown",
   "id": "c66e740e",
   "metadata": {},
   "source": [
    "nombre_infected       814\n",
    "nombre_sain          2128\n",
    "nombre_exposed        421\n",
    "nombre_recovered    16637\n",
    "Name: 591, dtype: int64"
   ]
  },
  {
   "cell_type": "markdown",
   "id": "e28d0718",
   "metadata": {},
   "source": [
    "nombre_infected       792\n",
    "nombre_sain          2150\n",
    "nombre_exposed        436\n",
    "nombre_recovered    16622\n",
    "Name: 592, dtype: int64"
   ]
  },
  {
   "cell_type": "markdown",
   "id": "1596c0f0",
   "metadata": {},
   "source": [
    "nombre_infected       800\n",
    "nombre_sain          2164\n",
    "nombre_exposed        430\n",
    "nombre_recovered    16606\n",
    "Name: 593, dtype: int64"
   ]
  },
  {
   "cell_type": "markdown",
   "id": "d1feb706",
   "metadata": {},
   "source": [
    "nombre_infected       806\n",
    "nombre_sain          2169\n",
    "nombre_exposed        424\n",
    "nombre_recovered    16601\n",
    "Name: 594, dtype: int64"
   ]
  },
  {
   "cell_type": "markdown",
   "id": "e40d18e5",
   "metadata": {},
   "source": [
    "nombre_infected       810\n",
    "nombre_sain          2173\n",
    "nombre_exposed        427\n",
    "nombre_recovered    16590\n",
    "Name: 595, dtype: int64"
   ]
  },
  {
   "cell_type": "markdown",
   "id": "f6600c2e",
   "metadata": {},
   "source": [
    "nombre_infected       799\n",
    "nombre_sain          2188\n",
    "nombre_exposed        435\n",
    "nombre_recovered    16578\n",
    "Name: 596, dtype: int64"
   ]
  },
  {
   "cell_type": "markdown",
   "id": "4d604a1f",
   "metadata": {},
   "source": [
    "nombre_infected       791\n",
    "nombre_sain          2214\n",
    "nombre_exposed        430\n",
    "nombre_recovered    16565\n",
    "Name: 597, dtype: int64"
   ]
  },
  {
   "cell_type": "markdown",
   "id": "304cd0ae",
   "metadata": {},
   "source": [
    "nombre_infected       782\n",
    "nombre_sain          2235\n",
    "nombre_exposed        435\n",
    "nombre_recovered    16548\n",
    "Name: 598, dtype: int64"
   ]
  },
  {
   "cell_type": "markdown",
   "id": "402e9830",
   "metadata": {},
   "source": [
    "nombre_infected       778\n",
    "nombre_sain          2277\n",
    "nombre_exposed        445\n",
    "nombre_recovered    16500\n",
    "Name: 599, dtype: int64"
   ]
  },
  {
   "cell_type": "markdown",
   "id": "dd28ccd3",
   "metadata": {},
   "source": [
    "nombre_infected       793\n",
    "nombre_sain          2286\n",
    "nombre_exposed        456\n",
    "nombre_recovered    16465\n",
    "Name: 600, dtype: int64"
   ]
  },
  {
   "cell_type": "markdown",
   "id": "9f959817",
   "metadata": {},
   "source": [
    "nombre_infected       801\n",
    "nombre_sain          2298\n",
    "nombre_exposed        473\n",
    "nombre_recovered    16428\n",
    "Name: 601, dtype: int64"
   ]
  },
  {
   "cell_type": "markdown",
   "id": "020ef51b",
   "metadata": {},
   "source": [
    "nombre_infected       796\n",
    "nombre_sain          2306\n",
    "nombre_exposed        491\n",
    "nombre_recovered    16407\n",
    "Name: 602, dtype: int64"
   ]
  },
  {
   "cell_type": "markdown",
   "id": "cdfcd40c",
   "metadata": {},
   "source": [
    "nombre_infected       817\n",
    "nombre_sain          2306\n",
    "nombre_exposed        501\n",
    "nombre_recovered    16376\n",
    "Name: 603, dtype: int64"
   ]
  },
  {
   "cell_type": "markdown",
   "id": "5db3878b",
   "metadata": {},
   "source": [
    "nombre_infected       830\n",
    "nombre_sain          2289\n",
    "nombre_exposed        511\n",
    "nombre_recovered    16370\n",
    "Name: 604, dtype: int64"
   ]
  },
  {
   "cell_type": "markdown",
   "id": "a0490573",
   "metadata": {},
   "source": [
    "nombre_infected       843\n",
    "nombre_sain          2281\n",
    "nombre_exposed        501\n",
    "nombre_recovered    16375\n",
    "Name: 605, dtype: int64"
   ]
  },
  {
   "cell_type": "markdown",
   "id": "e483f96f",
   "metadata": {},
   "source": [
    "nombre_infected       857\n",
    "nombre_sain          2295\n",
    "nombre_exposed        493\n",
    "nombre_recovered    16355\n",
    "Name: 606, dtype: int64"
   ]
  },
  {
   "cell_type": "markdown",
   "id": "aaf07f6a",
   "metadata": {},
   "source": [
    "nombre_infected       883\n",
    "nombre_sain          2276\n",
    "nombre_exposed        492\n",
    "nombre_recovered    16349\n",
    "Name: 607, dtype: int64"
   ]
  },
  {
   "cell_type": "markdown",
   "id": "1783e6f7",
   "metadata": {},
   "source": [
    "nombre_infected       892\n",
    "nombre_sain          2250\n",
    "nombre_exposed        481\n",
    "nombre_recovered    16377\n",
    "Name: 608, dtype: int64"
   ]
  },
  {
   "cell_type": "markdown",
   "id": "cd3df434",
   "metadata": {},
   "source": [
    "nombre_infected       893\n",
    "nombre_sain          2267\n",
    "nombre_exposed        469\n",
    "nombre_recovered    16371\n",
    "Name: 609, dtype: int64"
   ]
  },
  {
   "cell_type": "markdown",
   "id": "a15c9856",
   "metadata": {},
   "source": [
    "nombre_infected       918\n",
    "nombre_sain          2282\n",
    "nombre_exposed        446\n",
    "nombre_recovered    16354\n",
    "Name: 610, dtype: int64"
   ]
  },
  {
   "cell_type": "markdown",
   "id": "13706fc7",
   "metadata": {},
   "source": [
    "nombre_infected       902\n",
    "nombre_sain          2265\n",
    "nombre_exposed        472\n",
    "nombre_recovered    16361\n",
    "Name: 611, dtype: int64"
   ]
  },
  {
   "cell_type": "markdown",
   "id": "e03686d3",
   "metadata": {},
   "source": [
    "nombre_infected       902\n",
    "nombre_sain          2266\n",
    "nombre_exposed        475\n",
    "nombre_recovered    16357\n",
    "Name: 612, dtype: int64"
   ]
  },
  {
   "cell_type": "markdown",
   "id": "1df77560",
   "metadata": {},
   "source": [
    "nombre_infected       890\n",
    "nombre_sain          2268\n",
    "nombre_exposed        500\n",
    "nombre_recovered    16342\n",
    "Name: 613, dtype: int64"
   ]
  },
  {
   "cell_type": "markdown",
   "id": "6cb8ba83",
   "metadata": {},
   "source": [
    "nombre_infected       876\n",
    "nombre_sain          2264\n",
    "nombre_exposed        522\n",
    "nombre_recovered    16338\n",
    "Name: 614, dtype: int64"
   ]
  },
  {
   "cell_type": "markdown",
   "id": "9e52f7dd",
   "metadata": {},
   "source": [
    "nombre_infected       873\n",
    "nombre_sain          2269\n",
    "nombre_exposed        508\n",
    "nombre_recovered    16350\n",
    "Name: 615, dtype: int64"
   ]
  },
  {
   "cell_type": "markdown",
   "id": "12040e41",
   "metadata": {},
   "source": [
    "nombre_infected       894\n",
    "nombre_sain          2281\n",
    "nombre_exposed        483\n",
    "nombre_recovered    16342\n",
    "Name: 616, dtype: int64"
   ]
  },
  {
   "cell_type": "markdown",
   "id": "5f06633a",
   "metadata": {},
   "source": [
    "nombre_infected       888\n",
    "nombre_sain          2262\n",
    "nombre_exposed        493\n",
    "nombre_recovered    16357\n",
    "Name: 617, dtype: int64"
   ]
  },
  {
   "cell_type": "markdown",
   "id": "f2447037",
   "metadata": {},
   "source": [
    "nombre_infected       875\n",
    "nombre_sain          2251\n",
    "nombre_exposed        492\n",
    "nombre_recovered    16382\n",
    "Name: 618, dtype: int64"
   ]
  },
  {
   "cell_type": "markdown",
   "id": "8fc3c317",
   "metadata": {},
   "source": [
    "nombre_infected       884\n",
    "nombre_sain          2257\n",
    "nombre_exposed        490\n",
    "nombre_recovered    16369\n",
    "Name: 619, dtype: int64"
   ]
  },
  {
   "cell_type": "markdown",
   "id": "77e97f6b",
   "metadata": {},
   "source": [
    "nombre_infected       884\n",
    "nombre_sain          2253\n",
    "nombre_exposed        484\n",
    "nombre_recovered    16379\n",
    "Name: 620, dtype: int64"
   ]
  },
  {
   "cell_type": "markdown",
   "id": "a9345b07",
   "metadata": {},
   "source": [
    "nombre_infected       878\n",
    "nombre_sain          2261\n",
    "nombre_exposed        484\n",
    "nombre_recovered    16377\n",
    "Name: 621, dtype: int64"
   ]
  },
  {
   "cell_type": "markdown",
   "id": "afc9a74f",
   "metadata": {},
   "source": [
    "nombre_infected       904\n",
    "nombre_sain          2242\n",
    "nombre_exposed        475\n",
    "nombre_recovered    16379\n",
    "Name: 622, dtype: int64"
   ]
  },
  {
   "cell_type": "markdown",
   "id": "8a2ffefa",
   "metadata": {},
   "source": [
    "nombre_infected       884\n",
    "nombre_sain          2217\n",
    "nombre_exposed        482\n",
    "nombre_recovered    16417\n",
    "Name: 623, dtype: int64"
   ]
  },
  {
   "cell_type": "markdown",
   "id": "e8935b30",
   "metadata": {},
   "source": [
    "nombre_infected       895\n",
    "nombre_sain          2233\n",
    "nombre_exposed        472\n",
    "nombre_recovered    16400\n",
    "Name: 624, dtype: int64"
   ]
  },
  {
   "cell_type": "markdown",
   "id": "1f304490",
   "metadata": {},
   "source": [
    "nombre_infected       878\n",
    "nombre_sain          2253\n",
    "nombre_exposed        474\n",
    "nombre_recovered    16395\n",
    "Name: 625, dtype: int64"
   ]
  },
  {
   "cell_type": "markdown",
   "id": "2f1f0cfc",
   "metadata": {},
   "source": [
    "nombre_infected       856\n",
    "nombre_sain          2270\n",
    "nombre_exposed        462\n",
    "nombre_recovered    16412\n",
    "Name: 626, dtype: int64"
   ]
  },
  {
   "cell_type": "markdown",
   "id": "dad1d5f4",
   "metadata": {},
   "source": [
    "nombre_infected       861\n",
    "nombre_sain          2302\n",
    "nombre_exposed        434\n",
    "nombre_recovered    16403\n",
    "Name: 627, dtype: int64"
   ]
  },
  {
   "cell_type": "markdown",
   "id": "4d1f0b8d",
   "metadata": {},
   "source": [
    "nombre_infected       863\n",
    "nombre_sain          2302\n",
    "nombre_exposed        428\n",
    "nombre_recovered    16407\n",
    "Name: 628, dtype: int64"
   ]
  },
  {
   "cell_type": "markdown",
   "id": "63e1fd15",
   "metadata": {},
   "source": [
    "nombre_infected       844\n",
    "nombre_sain          2321\n",
    "nombre_exposed        445\n",
    "nombre_recovered    16390\n",
    "Name: 629, dtype: int64"
   ]
  },
  {
   "cell_type": "markdown",
   "id": "2ab09589",
   "metadata": {},
   "source": [
    "nombre_infected       832\n",
    "nombre_sain          2328\n",
    "nombre_exposed        460\n",
    "nombre_recovered    16380\n",
    "Name: 630, dtype: int64"
   ]
  },
  {
   "cell_type": "markdown",
   "id": "ef3e9dd9",
   "metadata": {},
   "source": [
    "nombre_infected       831\n",
    "nombre_sain          2330\n",
    "nombre_exposed        490\n",
    "nombre_recovered    16349\n",
    "Name: 631, dtype: int64"
   ]
  },
  {
   "cell_type": "markdown",
   "id": "b5db4803",
   "metadata": {},
   "source": [
    "nombre_infected       833\n",
    "nombre_sain          2330\n",
    "nombre_exposed        501\n",
    "nombre_recovered    16336\n",
    "Name: 632, dtype: int64"
   ]
  },
  {
   "cell_type": "markdown",
   "id": "b4c268cc",
   "metadata": {},
   "source": [
    "nombre_infected       854\n",
    "nombre_sain          2333\n",
    "nombre_exposed        499\n",
    "nombre_recovered    16314\n",
    "Name: 633, dtype: int64"
   ]
  },
  {
   "cell_type": "markdown",
   "id": "3d8bf419",
   "metadata": {},
   "source": [
    "nombre_infected       870\n",
    "nombre_sain          2358\n",
    "nombre_exposed        494\n",
    "nombre_recovered    16278\n",
    "Name: 634, dtype: int64"
   ]
  },
  {
   "cell_type": "markdown",
   "id": "32eef81f",
   "metadata": {},
   "source": [
    "nombre_infected       889\n",
    "nombre_sain          2361\n",
    "nombre_exposed        501\n",
    "nombre_recovered    16249\n",
    "Name: 635, dtype: int64"
   ]
  },
  {
   "cell_type": "markdown",
   "id": "cd5e777a",
   "metadata": {},
   "source": [
    "nombre_infected       887\n",
    "nombre_sain          2380\n",
    "nombre_exposed        514\n",
    "nombre_recovered    16219\n",
    "Name: 636, dtype: int64"
   ]
  },
  {
   "cell_type": "markdown",
   "id": "3bb92964",
   "metadata": {},
   "source": [
    "nombre_infected       882\n",
    "nombre_sain          2404\n",
    "nombre_exposed        517\n",
    "nombre_recovered    16197\n",
    "Name: 637, dtype: int64"
   ]
  },
  {
   "cell_type": "markdown",
   "id": "c32285eb",
   "metadata": {},
   "source": [
    "nombre_infected       891\n",
    "nombre_sain          2421\n",
    "nombre_exposed        512\n",
    "nombre_recovered    16176\n",
    "Name: 638, dtype: int64"
   ]
  },
  {
   "cell_type": "markdown",
   "id": "429af4c9",
   "metadata": {},
   "source": [
    "nombre_infected       906\n",
    "nombre_sain          2441\n",
    "nombre_exposed        509\n",
    "nombre_recovered    16144\n",
    "Name: 639, dtype: int64"
   ]
  },
  {
   "cell_type": "markdown",
   "id": "f51fcc83",
   "metadata": {},
   "source": [
    "nombre_infected       894\n",
    "nombre_sain          2446\n",
    "nombre_exposed        520\n",
    "nombre_recovered    16140\n",
    "Name: 640, dtype: int64"
   ]
  },
  {
   "cell_type": "markdown",
   "id": "de938b05",
   "metadata": {},
   "source": [
    "nombre_infected       912\n",
    "nombre_sain          2441\n",
    "nombre_exposed        503\n",
    "nombre_recovered    16144\n",
    "Name: 641, dtype: int64"
   ]
  },
  {
   "cell_type": "markdown",
   "id": "88ac10a4",
   "metadata": {},
   "source": [
    "nombre_infected       947\n",
    "nombre_sain          2398\n",
    "nombre_exposed        522\n",
    "nombre_recovered    16133\n",
    "Name: 642, dtype: int64"
   ]
  },
  {
   "cell_type": "markdown",
   "id": "fd73ab49",
   "metadata": {},
   "source": [
    "nombre_infected       949\n",
    "nombre_sain          2406\n",
    "nombre_exposed        514\n",
    "nombre_recovered    16131\n",
    "Name: 643, dtype: int64"
   ]
  },
  {
   "cell_type": "markdown",
   "id": "2cb2eb07",
   "metadata": {},
   "source": [
    "nombre_infected       949\n",
    "nombre_sain          2409\n",
    "nombre_exposed        503\n",
    "nombre_recovered    16139\n",
    "Name: 644, dtype: int64"
   ]
  },
  {
   "cell_type": "markdown",
   "id": "807ade55",
   "metadata": {},
   "source": [
    "nombre_infected       953\n",
    "nombre_sain          2375\n",
    "nombre_exposed        519\n",
    "nombre_recovered    16153\n",
    "Name: 645, dtype: int64"
   ]
  },
  {
   "cell_type": "markdown",
   "id": "d7cda201",
   "metadata": {},
   "source": [
    "nombre_infected       944\n",
    "nombre_sain          2375\n",
    "nombre_exposed        536\n",
    "nombre_recovered    16145\n",
    "Name: 646, dtype: int64"
   ]
  },
  {
   "cell_type": "markdown",
   "id": "6cd9d982",
   "metadata": {},
   "source": [
    "nombre_infected       951\n",
    "nombre_sain          2353\n",
    "nombre_exposed        534\n",
    "nombre_recovered    16162\n",
    "Name: 647, dtype: int64"
   ]
  },
  {
   "cell_type": "markdown",
   "id": "4092e4aa",
   "metadata": {},
   "source": [
    "nombre_infected       943\n",
    "nombre_sain          2348\n",
    "nombre_exposed        550\n",
    "nombre_recovered    16159\n",
    "Name: 648, dtype: int64"
   ]
  },
  {
   "cell_type": "markdown",
   "id": "e9fb18f8",
   "metadata": {},
   "source": [
    "nombre_infected       967\n",
    "nombre_sain          2342\n",
    "nombre_exposed        541\n",
    "nombre_recovered    16150\n",
    "Name: 649, dtype: int64"
   ]
  },
  {
   "cell_type": "markdown",
   "id": "1ef71dc0",
   "metadata": {},
   "source": [
    "nombre_infected       974\n",
    "nombre_sain          2332\n",
    "nombre_exposed        540\n",
    "nombre_recovered    16154\n",
    "Name: 650, dtype: int64"
   ]
  },
  {
   "cell_type": "markdown",
   "id": "ac191a51",
   "metadata": {},
   "source": [
    "nombre_infected       988\n",
    "nombre_sain          2344\n",
    "nombre_exposed        540\n",
    "nombre_recovered    16128\n",
    "Name: 651, dtype: int64"
   ]
  },
  {
   "cell_type": "markdown",
   "id": "801ad6bc",
   "metadata": {},
   "source": [
    "nombre_infected       968\n",
    "nombre_sain          2326\n",
    "nombre_exposed        545\n",
    "nombre_recovered    16161\n",
    "Name: 652, dtype: int64"
   ]
  },
  {
   "cell_type": "markdown",
   "id": "59206af0",
   "metadata": {},
   "source": [
    "nombre_infected      1006\n",
    "nombre_sain          2311\n",
    "nombre_exposed        540\n",
    "nombre_recovered    16143\n",
    "Name: 653, dtype: int64"
   ]
  },
  {
   "cell_type": "markdown",
   "id": "3a3ac77b",
   "metadata": {},
   "source": [
    "nombre_infected      1002\n",
    "nombre_sain          2311\n",
    "nombre_exposed        544\n",
    "nombre_recovered    16143\n",
    "Name: 654, dtype: int64"
   ]
  },
  {
   "cell_type": "markdown",
   "id": "cf61beb1",
   "metadata": {},
   "source": [
    "nombre_infected      1000\n",
    "nombre_sain          2290\n",
    "nombre_exposed        533\n",
    "nombre_recovered    16177\n",
    "Name: 655, dtype: int64"
   ]
  },
  {
   "cell_type": "markdown",
   "id": "5648dac6",
   "metadata": {},
   "source": [
    "nombre_infected      1021\n",
    "nombre_sain          2259\n",
    "nombre_exposed        536\n",
    "nombre_recovered    16184\n",
    "Name: 656, dtype: int64"
   ]
  },
  {
   "cell_type": "markdown",
   "id": "dbcead14",
   "metadata": {},
   "source": [
    "nombre_infected      1034\n",
    "nombre_sain          2200\n",
    "nombre_exposed        534\n",
    "nombre_recovered    16232\n",
    "Name: 657, dtype: int64"
   ]
  },
  {
   "cell_type": "markdown",
   "id": "a08ce960",
   "metadata": {},
   "source": [
    "nombre_infected      1051\n",
    "nombre_sain          2186\n",
    "nombre_exposed        536\n",
    "nombre_recovered    16227\n",
    "Name: 658, dtype: int64"
   ]
  },
  {
   "cell_type": "markdown",
   "id": "b87f2c88",
   "metadata": {},
   "source": [
    "nombre_infected      1048\n",
    "nombre_sain          2126\n",
    "nombre_exposed        551\n",
    "nombre_recovered    16275\n",
    "Name: 659, dtype: int64"
   ]
  },
  {
   "cell_type": "markdown",
   "id": "0c216714",
   "metadata": {},
   "source": [
    "nombre_infected      1039\n",
    "nombre_sain          2116\n",
    "nombre_exposed        548\n",
    "nombre_recovered    16297\n",
    "Name: 660, dtype: int64"
   ]
  },
  {
   "cell_type": "markdown",
   "id": "2599a9df",
   "metadata": {},
   "source": [
    "nombre_infected      1041\n",
    "nombre_sain          2086\n",
    "nombre_exposed        542\n",
    "nombre_recovered    16331\n",
    "Name: 661, dtype: int64"
   ]
  },
  {
   "cell_type": "markdown",
   "id": "3124f828",
   "metadata": {},
   "source": [
    "nombre_infected      1034\n",
    "nombre_sain          2048\n",
    "nombre_exposed        546\n",
    "nombre_recovered    16372\n",
    "Name: 662, dtype: int64"
   ]
  },
  {
   "cell_type": "markdown",
   "id": "08349c1d",
   "metadata": {},
   "source": [
    "nombre_infected      1056\n",
    "nombre_sain          2028\n",
    "nombre_exposed        525\n",
    "nombre_recovered    16391\n",
    "Name: 663, dtype: int64"
   ]
  },
  {
   "cell_type": "markdown",
   "id": "e9440483",
   "metadata": {},
   "source": [
    "nombre_infected      1057\n",
    "nombre_sain          2031\n",
    "nombre_exposed        496\n",
    "nombre_recovered    16416\n",
    "Name: 664, dtype: int64"
   ]
  },
  {
   "cell_type": "markdown",
   "id": "aab3d3fe",
   "metadata": {},
   "source": [
    "nombre_infected      1045\n",
    "nombre_sain          2004\n",
    "nombre_exposed        504\n",
    "nombre_recovered    16447\n",
    "Name: 665, dtype: int64"
   ]
  },
  {
   "cell_type": "markdown",
   "id": "de3fbd56",
   "metadata": {},
   "source": [
    "nombre_infected      1019\n",
    "nombre_sain          2009\n",
    "nombre_exposed        492\n",
    "nombre_recovered    16480\n",
    "Name: 666, dtype: int64"
   ]
  },
  {
   "cell_type": "markdown",
   "id": "a956edb2",
   "metadata": {},
   "source": [
    "nombre_infected      1000\n",
    "nombre_sain          2012\n",
    "nombre_exposed        500\n",
    "nombre_recovered    16488\n",
    "Name: 667, dtype: int64"
   ]
  },
  {
   "cell_type": "markdown",
   "id": "c6baf495",
   "metadata": {},
   "source": [
    "nombre_infected       991\n",
    "nombre_sain          1990\n",
    "nombre_exposed        500\n",
    "nombre_recovered    16519\n",
    "Name: 668, dtype: int64"
   ]
  },
  {
   "cell_type": "markdown",
   "id": "49af08f7",
   "metadata": {},
   "source": [
    "nombre_infected      1012\n",
    "nombre_sain          1979\n",
    "nombre_exposed        489\n",
    "nombre_recovered    16520\n",
    "Name: 669, dtype: int64"
   ]
  },
  {
   "cell_type": "markdown",
   "id": "e941d080",
   "metadata": {},
   "source": [
    "nombre_infected       996\n",
    "nombre_sain          1996\n",
    "nombre_exposed        482\n",
    "nombre_recovered    16526\n",
    "Name: 670, dtype: int64"
   ]
  },
  {
   "cell_type": "markdown",
   "id": "0bd14c2a",
   "metadata": {},
   "source": [
    "nombre_infected      1007\n",
    "nombre_sain          1968\n",
    "nombre_exposed        467\n",
    "nombre_recovered    16558\n",
    "Name: 671, dtype: int64"
   ]
  },
  {
   "cell_type": "markdown",
   "id": "b46d739b",
   "metadata": {},
   "source": [
    "nombre_infected      1008\n",
    "nombre_sain          1974\n",
    "nombre_exposed        455\n",
    "nombre_recovered    16563\n",
    "Name: 672, dtype: int64"
   ]
  },
  {
   "cell_type": "markdown",
   "id": "0d384854",
   "metadata": {},
   "source": [
    "nombre_infected       991\n",
    "nombre_sain          1956\n",
    "nombre_exposed        471\n",
    "nombre_recovered    16582\n",
    "Name: 673, dtype: int64"
   ]
  },
  {
   "cell_type": "markdown",
   "id": "e67199d6",
   "metadata": {},
   "source": [
    "nombre_infected       974\n",
    "nombre_sain          1954\n",
    "nombre_exposed        476\n",
    "nombre_recovered    16596\n",
    "Name: 674, dtype: int64"
   ]
  },
  {
   "cell_type": "markdown",
   "id": "626b09b8",
   "metadata": {},
   "source": [
    "nombre_infected       960\n",
    "nombre_sain          1946\n",
    "nombre_exposed        464\n",
    "nombre_recovered    16630\n",
    "Name: 675, dtype: int64"
   ]
  },
  {
   "cell_type": "markdown",
   "id": "d9ff906f",
   "metadata": {},
   "source": [
    "nombre_infected       959\n",
    "nombre_sain          1946\n",
    "nombre_exposed        464\n",
    "nombre_recovered    16631\n",
    "Name: 676, dtype: int64"
   ]
  },
  {
   "cell_type": "markdown",
   "id": "859b5f35",
   "metadata": {},
   "source": [
    "nombre_infected       974\n",
    "nombre_sain          1930\n",
    "nombre_exposed        451\n",
    "nombre_recovered    16645\n",
    "Name: 677, dtype: int64"
   ]
  },
  {
   "cell_type": "markdown",
   "id": "1797aba3",
   "metadata": {},
   "source": [
    "nombre_infected       958\n",
    "nombre_sain          1924\n",
    "nombre_exposed        449\n",
    "nombre_recovered    16669\n",
    "Name: 678, dtype: int64"
   ]
  },
  {
   "cell_type": "markdown",
   "id": "f40045c2",
   "metadata": {},
   "source": [
    "nombre_infected       935\n",
    "nombre_sain          1918\n",
    "nombre_exposed        467\n",
    "nombre_recovered    16680\n",
    "Name: 679, dtype: int64"
   ]
  },
  {
   "cell_type": "markdown",
   "id": "817e9eea",
   "metadata": {},
   "source": [
    "nombre_infected       926\n",
    "nombre_sain          1923\n",
    "nombre_exposed        456\n",
    "nombre_recovered    16695\n",
    "Name: 680, dtype: int64"
   ]
  },
  {
   "cell_type": "markdown",
   "id": "197528df",
   "metadata": {},
   "source": [
    "nombre_infected       941\n",
    "nombre_sain          1918\n",
    "nombre_exposed        458\n",
    "nombre_recovered    16683\n",
    "Name: 681, dtype: int64"
   ]
  },
  {
   "cell_type": "markdown",
   "id": "cdf8c79a",
   "metadata": {},
   "source": [
    "nombre_infected       914\n",
    "nombre_sain          1899\n",
    "nombre_exposed        446\n",
    "nombre_recovered    16741\n",
    "Name: 682, dtype: int64"
   ]
  },
  {
   "cell_type": "markdown",
   "id": "7f74b330",
   "metadata": {},
   "source": [
    "nombre_infected       911\n",
    "nombre_sain          1889\n",
    "nombre_exposed        446\n",
    "nombre_recovered    16754\n",
    "Name: 683, dtype: int64"
   ]
  },
  {
   "cell_type": "markdown",
   "id": "1532347e",
   "metadata": {},
   "source": [
    "nombre_infected       896\n",
    "nombre_sain          1926\n",
    "nombre_exposed        433\n",
    "nombre_recovered    16745\n",
    "Name: 684, dtype: int64"
   ]
  },
  {
   "cell_type": "markdown",
   "id": "c80ceab1",
   "metadata": {},
   "source": [
    "nombre_infected       890\n",
    "nombre_sain          1927\n",
    "nombre_exposed        427\n",
    "nombre_recovered    16756\n",
    "Name: 685, dtype: int64"
   ]
  },
  {
   "cell_type": "markdown",
   "id": "ff6bc79a",
   "metadata": {},
   "source": [
    "nombre_infected       888\n",
    "nombre_sain          1916\n",
    "nombre_exposed        414\n",
    "nombre_recovered    16782\n",
    "Name: 686, dtype: int64"
   ]
  },
  {
   "cell_type": "markdown",
   "id": "0f6a0886",
   "metadata": {},
   "source": [
    "nombre_infected       872\n",
    "nombre_sain          1891\n",
    "nombre_exposed        411\n",
    "nombre_recovered    16826\n",
    "Name: 687, dtype: int64"
   ]
  },
  {
   "cell_type": "markdown",
   "id": "e08f09a7",
   "metadata": {},
   "source": [
    "nombre_infected       874\n",
    "nombre_sain          1894\n",
    "nombre_exposed        394\n",
    "nombre_recovered    16838\n",
    "Name: 688, dtype: int64"
   ]
  },
  {
   "cell_type": "markdown",
   "id": "887755ec",
   "metadata": {},
   "source": [
    "nombre_infected       859\n",
    "nombre_sain          1893\n",
    "nombre_exposed        406\n",
    "nombre_recovered    16842\n",
    "Name: 689, dtype: int64"
   ]
  },
  {
   "cell_type": "markdown",
   "id": "df9b9864",
   "metadata": {},
   "source": [
    "nombre_infected       846\n",
    "nombre_sain          1896\n",
    "nombre_exposed        409\n",
    "nombre_recovered    16849\n",
    "Name: 690, dtype: int64"
   ]
  },
  {
   "cell_type": "markdown",
   "id": "58143ef9",
   "metadata": {},
   "source": [
    "nombre_infected       843\n",
    "nombre_sain          1896\n",
    "nombre_exposed        411\n",
    "nombre_recovered    16850\n",
    "Name: 691, dtype: int64"
   ]
  },
  {
   "cell_type": "markdown",
   "id": "7271fc44",
   "metadata": {},
   "source": [
    "nombre_infected       875\n",
    "nombre_sain          1887\n",
    "nombre_exposed        397\n",
    "nombre_recovered    16841\n",
    "Name: 692, dtype: int64"
   ]
  },
  {
   "cell_type": "markdown",
   "id": "430a77df",
   "metadata": {},
   "source": [
    "nombre_infected       862\n",
    "nombre_sain          1887\n",
    "nombre_exposed        383\n",
    "nombre_recovered    16868\n",
    "Name: 693, dtype: int64"
   ]
  },
  {
   "cell_type": "markdown",
   "id": "81873408",
   "metadata": {},
   "source": [
    "nombre_infected       855\n",
    "nombre_sain          1889\n",
    "nombre_exposed        377\n",
    "nombre_recovered    16879\n",
    "Name: 694, dtype: int64"
   ]
  },
  {
   "cell_type": "markdown",
   "id": "b37d4642",
   "metadata": {},
   "source": [
    "nombre_infected       822\n",
    "nombre_sain          1902\n",
    "nombre_exposed        368\n",
    "nombre_recovered    16908\n",
    "Name: 695, dtype: int64"
   ]
  },
  {
   "cell_type": "markdown",
   "id": "e04b2e80",
   "metadata": {},
   "source": [
    "nombre_infected       808\n",
    "nombre_sain          1916\n",
    "nombre_exposed        367\n",
    "nombre_recovered    16909\n",
    "Name: 696, dtype: int64"
   ]
  },
  {
   "cell_type": "markdown",
   "id": "2b85f4a5",
   "metadata": {},
   "source": [
    "nombre_infected       797\n",
    "nombre_sain          1912\n",
    "nombre_exposed        361\n",
    "nombre_recovered    16930\n",
    "Name: 697, dtype: int64"
   ]
  },
  {
   "cell_type": "markdown",
   "id": "82c7aa94",
   "metadata": {},
   "source": [
    "nombre_infected       772\n",
    "nombre_sain          1903\n",
    "nombre_exposed        375\n",
    "nombre_recovered    16950\n",
    "Name: 698, dtype: int64"
   ]
  },
  {
   "cell_type": "markdown",
   "id": "ce633ccd",
   "metadata": {},
   "source": [
    "nombre_infected       759\n",
    "nombre_sain          1915\n",
    "nombre_exposed        363\n",
    "nombre_recovered    16963\n",
    "Name: 699, dtype: int64"
   ]
  },
  {
   "cell_type": "markdown",
   "id": "0c45d633",
   "metadata": {},
   "source": [
    "nombre_infected       754\n",
    "nombre_sain          1916\n",
    "nombre_exposed        370\n",
    "nombre_recovered    16960\n",
    "Name: 700, dtype: int64"
   ]
  },
  {
   "cell_type": "markdown",
   "id": "05da832b",
   "metadata": {},
   "source": [
    "nombre_infected       737\n",
    "nombre_sain          1918\n",
    "nombre_exposed        375\n",
    "nombre_recovered    16970\n",
    "Name: 701, dtype: int64"
   ]
  },
  {
   "cell_type": "markdown",
   "id": "ad726a7a",
   "metadata": {},
   "source": [
    "nombre_infected       721\n",
    "nombre_sain          1936\n",
    "nombre_exposed        382\n",
    "nombre_recovered    16961\n",
    "Name: 702, dtype: int64"
   ]
  },
  {
   "cell_type": "markdown",
   "id": "e22ba956",
   "metadata": {},
   "source": [
    "nombre_infected       714\n",
    "nombre_sain          1933\n",
    "nombre_exposed        381\n",
    "nombre_recovered    16972\n",
    "Name: 703, dtype: int64"
   ]
  },
  {
   "cell_type": "markdown",
   "id": "075687c5",
   "metadata": {},
   "source": [
    "nombre_infected       711\n",
    "nombre_sain          1958\n",
    "nombre_exposed        368\n",
    "nombre_recovered    16963\n",
    "Name: 704, dtype: int64"
   ]
  },
  {
   "cell_type": "markdown",
   "id": "737492f4",
   "metadata": {},
   "source": [
    "nombre_infected       689\n",
    "nombre_sain          1956\n",
    "nombre_exposed        360\n",
    "nombre_recovered    16995\n",
    "Name: 705, dtype: int64"
   ]
  },
  {
   "cell_type": "markdown",
   "id": "1f85bc25",
   "metadata": {},
   "source": [
    "nombre_infected       695\n",
    "nombre_sain          1980\n",
    "nombre_exposed        362\n",
    "nombre_recovered    16963\n",
    "Name: 706, dtype: int64"
   ]
  },
  {
   "cell_type": "markdown",
   "id": "fff90d83",
   "metadata": {},
   "source": [
    "nombre_infected       682\n",
    "nombre_sain          2013\n",
    "nombre_exposed        351\n",
    "nombre_recovered    16954\n",
    "Name: 707, dtype: int64"
   ]
  },
  {
   "cell_type": "markdown",
   "id": "1ab55edf",
   "metadata": {},
   "source": [
    "nombre_infected       662\n",
    "nombre_sain          2058\n",
    "nombre_exposed        327\n",
    "nombre_recovered    16953\n",
    "Name: 708, dtype: int64"
   ]
  },
  {
   "cell_type": "markdown",
   "id": "6a87b705",
   "metadata": {},
   "source": [
    "nombre_infected       658\n",
    "nombre_sain          2101\n",
    "nombre_exposed        323\n",
    "nombre_recovered    16918\n",
    "Name: 709, dtype: int64"
   ]
  },
  {
   "cell_type": "markdown",
   "id": "b7a73b95",
   "metadata": {},
   "source": [
    "nombre_infected       647\n",
    "nombre_sain          2099\n",
    "nombre_exposed        345\n",
    "nombre_recovered    16909\n",
    "Name: 710, dtype: int64"
   ]
  },
  {
   "cell_type": "markdown",
   "id": "2f93da39",
   "metadata": {},
   "source": [
    "nombre_infected       640\n",
    "nombre_sain          2124\n",
    "nombre_exposed        361\n",
    "nombre_recovered    16875\n",
    "Name: 711, dtype: int64"
   ]
  },
  {
   "cell_type": "markdown",
   "id": "a50d4958",
   "metadata": {},
   "source": [
    "nombre_infected       638\n",
    "nombre_sain          2136\n",
    "nombre_exposed        356\n",
    "nombre_recovered    16870\n",
    "Name: 712, dtype: int64"
   ]
  },
  {
   "cell_type": "markdown",
   "id": "fa7be96d",
   "metadata": {},
   "source": [
    "nombre_infected       635\n",
    "nombre_sain          2150\n",
    "nombre_exposed        367\n",
    "nombre_recovered    16848\n",
    "Name: 713, dtype: int64"
   ]
  },
  {
   "cell_type": "markdown",
   "id": "8328e7b9",
   "metadata": {},
   "source": [
    "nombre_infected       631\n",
    "nombre_sain          2154\n",
    "nombre_exposed        392\n",
    "nombre_recovered    16823\n",
    "Name: 714, dtype: int64"
   ]
  },
  {
   "cell_type": "markdown",
   "id": "dd51307b",
   "metadata": {},
   "source": [
    "nombre_infected       615\n",
    "nombre_sain          2191\n",
    "nombre_exposed        385\n",
    "nombre_recovered    16809\n",
    "Name: 715, dtype: int64"
   ]
  },
  {
   "cell_type": "markdown",
   "id": "cffd160b",
   "metadata": {},
   "source": [
    "nombre_infected       641\n",
    "nombre_sain          2226\n",
    "nombre_exposed        358\n",
    "nombre_recovered    16775\n",
    "Name: 716, dtype: int64"
   ]
  },
  {
   "cell_type": "markdown",
   "id": "25fa85f2",
   "metadata": {},
   "source": [
    "nombre_infected       616\n",
    "nombre_sain          2249\n",
    "nombre_exposed        368\n",
    "nombre_recovered    16767\n",
    "Name: 717, dtype: int64"
   ]
  },
  {
   "cell_type": "markdown",
   "id": "f35c1c85",
   "metadata": {},
   "source": [
    "nombre_infected       628\n",
    "nombre_sain          2277\n",
    "nombre_exposed        341\n",
    "nombre_recovered    16754\n",
    "Name: 718, dtype: int64"
   ]
  },
  {
   "cell_type": "markdown",
   "id": "06a854a3",
   "metadata": {},
   "source": [
    "nombre_infected       631\n",
    "nombre_sain          2307\n",
    "nombre_exposed        344\n",
    "nombre_recovered    16718\n",
    "Name: 719, dtype: int64"
   ]
  },
  {
   "cell_type": "markdown",
   "id": "d1785292",
   "metadata": {},
   "source": [
    "nombre_infected       627\n",
    "nombre_sain          2349\n",
    "nombre_exposed        340\n",
    "nombre_recovered    16684\n",
    "Name: 720, dtype: int64"
   ]
  },
  {
   "cell_type": "markdown",
   "id": "b20a2bdf",
   "metadata": {},
   "source": [
    "nombre_infected       617\n",
    "nombre_sain          2374\n",
    "nombre_exposed        355\n",
    "nombre_recovered    16654\n",
    "Name: 721, dtype: int64"
   ]
  },
  {
   "cell_type": "markdown",
   "id": "e2e9c304",
   "metadata": {},
   "source": [
    "nombre_infected       634\n",
    "nombre_sain          2381\n",
    "nombre_exposed        356\n",
    "nombre_recovered    16629\n",
    "Name: 722, dtype: int64"
   ]
  },
  {
   "cell_type": "markdown",
   "id": "aa353551",
   "metadata": {},
   "source": [
    "nombre_infected       630\n",
    "nombre_sain          2391\n",
    "nombre_exposed        367\n",
    "nombre_recovered    16612\n",
    "Name: 723, dtype: int64"
   ]
  },
  {
   "cell_type": "markdown",
   "id": "29f7e5b1",
   "metadata": {},
   "source": [
    "nombre_infected       638\n",
    "nombre_sain          2390\n",
    "nombre_exposed        387\n",
    "nombre_recovered    16585\n",
    "Name: 724, dtype: int64"
   ]
  },
  {
   "cell_type": "markdown",
   "id": "83b0b9ac",
   "metadata": {},
   "source": [
    "nombre_infected       644\n",
    "nombre_sain          2410\n",
    "nombre_exposed        393\n",
    "nombre_recovered    16553\n",
    "Name: 725, dtype: int64"
   ]
  },
  {
   "cell_type": "markdown",
   "id": "2713ea36",
   "metadata": {},
   "source": [
    "nombre_infected       624\n",
    "nombre_sain          2421\n",
    "nombre_exposed        407\n",
    "nombre_recovered    16548\n",
    "Name: 726, dtype: int64"
   ]
  },
  {
   "cell_type": "markdown",
   "id": "2bbc273f",
   "metadata": {},
   "source": [
    "nombre_infected       626\n",
    "nombre_sain          2436\n",
    "nombre_exposed        414\n",
    "nombre_recovered    16524\n",
    "Name: 727, dtype: int64"
   ]
  },
  {
   "cell_type": "markdown",
   "id": "eec12063",
   "metadata": {},
   "source": [
    "nombre_infected       639\n",
    "nombre_sain          2423\n",
    "nombre_exposed        414\n",
    "nombre_recovered    16524\n",
    "Name: 728, dtype: int64"
   ]
  },
  {
   "cell_type": "markdown",
   "id": "a6c5904b",
   "metadata": {},
   "source": [
    "nombre_infected       643\n",
    "nombre_sain          2418\n",
    "nombre_exposed        434\n",
    "nombre_recovered    16505\n",
    "Name: 729, dtype: int64"
   ]
  },
  {
   "cell_type": "markdown",
   "id": "397e2f72",
   "metadata": {},
   "source": [
    "nombre_infected       656\n",
    "nombre_sain          2432\n",
    "nombre_exposed        457\n",
    "nombre_recovered    16455\n",
    "Name: 730, dtype: int64"
   ]
  }
 ],
 "metadata": {},
 "nbformat": 4,
 "nbformat_minor": 5
}
