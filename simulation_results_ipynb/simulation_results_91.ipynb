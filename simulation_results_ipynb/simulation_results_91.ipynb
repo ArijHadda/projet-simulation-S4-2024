{
 "cells": [
  {
   "cell_type": "markdown",
   "id": "9eca2218",
   "metadata": {},
   "source": [
    "nombre_infected        20\n",
    "nombre_sain         19980\n",
    "nombre_exposed          0\n",
    "nombre_recovered        0\n",
    "Name: 0, dtype: int64"
   ]
  },
  {
   "cell_type": "markdown",
   "id": "c3660a60",
   "metadata": {},
   "source": [
    "nombre_infected        20\n",
    "nombre_sain         19964\n",
    "nombre_exposed         16\n",
    "nombre_recovered        0\n",
    "Name: 1, dtype: int64"
   ]
  },
  {
   "cell_type": "markdown",
   "id": "e88cda9e",
   "metadata": {},
   "source": [
    "nombre_infected         0\n",
    "nombre_sain         19955\n",
    "nombre_exposed         25\n",
    "nombre_recovered       20\n",
    "Name: 2, dtype: int64"
   ]
  },
  {
   "cell_type": "markdown",
   "id": "7b0ecb34",
   "metadata": {},
   "source": [
    "nombre_infected         5\n",
    "nombre_sain         19954\n",
    "nombre_exposed         21\n",
    "nombre_recovered       20\n",
    "Name: 3, dtype: int64"
   ]
  },
  {
   "cell_type": "markdown",
   "id": "d0659135",
   "metadata": {},
   "source": [
    "nombre_infected         7\n",
    "nombre_sain         19944\n",
    "nombre_exposed         29\n",
    "nombre_recovered       20\n",
    "Name: 4, dtype: int64"
   ]
  },
  {
   "cell_type": "markdown",
   "id": "b3cba4d8",
   "metadata": {},
   "source": [
    "nombre_infected        14\n",
    "nombre_sain         19933\n",
    "nombre_exposed         33\n",
    "nombre_recovered       20\n",
    "Name: 5, dtype: int64"
   ]
  },
  {
   "cell_type": "markdown",
   "id": "16105e24",
   "metadata": {},
   "source": [
    "nombre_infected        23\n",
    "nombre_sain         19900\n",
    "nombre_exposed         57\n",
    "nombre_recovered       20\n",
    "Name: 6, dtype: int64"
   ]
  },
  {
   "cell_type": "markdown",
   "id": "60532531",
   "metadata": {},
   "source": [
    "nombre_infected        30\n",
    "nombre_sain         19863\n",
    "nombre_exposed         87\n",
    "nombre_recovered       20\n",
    "Name: 7, dtype: int64"
   ]
  },
  {
   "cell_type": "markdown",
   "id": "9a2b998c",
   "metadata": {},
   "source": [
    "nombre_infected        38\n",
    "nombre_sain         19809\n",
    "nombre_exposed        127\n",
    "nombre_recovered       26\n",
    "Name: 8, dtype: int64"
   ]
  },
  {
   "cell_type": "markdown",
   "id": "ba344fff",
   "metadata": {},
   "source": [
    "nombre_infected        58\n",
    "nombre_sain         19767\n",
    "nombre_exposed        148\n",
    "nombre_recovered       27\n",
    "Name: 9, dtype: int64"
   ]
  },
  {
   "cell_type": "markdown",
   "id": "c8364173",
   "metadata": {},
   "source": [
    "nombre_infected        87\n",
    "nombre_sain         19672\n",
    "nombre_exposed        209\n",
    "nombre_recovered       32\n",
    "Name: 10, dtype: int64"
   ]
  },
  {
   "cell_type": "markdown",
   "id": "3e57ec8c",
   "metadata": {},
   "source": [
    "nombre_infected       121\n",
    "nombre_sain         19547\n",
    "nombre_exposed        295\n",
    "nombre_recovered       37\n",
    "Name: 11, dtype: int64"
   ]
  },
  {
   "cell_type": "markdown",
   "id": "be48dbd1",
   "metadata": {},
   "source": [
    "nombre_infected       153\n",
    "nombre_sain         19361\n",
    "nombre_exposed        442\n",
    "nombre_recovered       44\n",
    "Name: 12, dtype: int64"
   ]
  },
  {
   "cell_type": "markdown",
   "id": "64db4740",
   "metadata": {},
   "source": [
    "nombre_infected       198\n",
    "nombre_sain         19167\n",
    "nombre_exposed        573\n",
    "nombre_recovered       62\n",
    "Name: 13, dtype: int64"
   ]
  },
  {
   "cell_type": "markdown",
   "id": "dab556c7",
   "metadata": {},
   "source": [
    "nombre_infected       293\n",
    "nombre_sain         18876\n",
    "nombre_exposed        752\n",
    "nombre_recovered       79\n",
    "Name: 14, dtype: int64"
   ]
  },
  {
   "cell_type": "markdown",
   "id": "a6b01ecb",
   "metadata": {},
   "source": [
    "nombre_infected       417\n",
    "nombre_sain         18531\n",
    "nombre_exposed        952\n",
    "nombre_recovered      100\n",
    "Name: 15, dtype: int64"
   ]
  },
  {
   "cell_type": "markdown",
   "id": "1b166b7d",
   "metadata": {},
   "source": [
    "nombre_infected       552\n",
    "nombre_sain         17975\n",
    "nombre_exposed       1339\n",
    "nombre_recovered      134\n",
    "Name: 16, dtype: int64"
   ]
  },
  {
   "cell_type": "markdown",
   "id": "1099576e",
   "metadata": {},
   "source": [
    "nombre_infected       719\n",
    "nombre_sain         17292\n",
    "nombre_exposed       1799\n",
    "nombre_recovered      190\n",
    "Name: 17, dtype: int64"
   ]
  },
  {
   "cell_type": "markdown",
   "id": "931fb1cd",
   "metadata": {},
   "source": [
    "nombre_infected       972\n",
    "nombre_sain         16399\n",
    "nombre_exposed       2368\n",
    "nombre_recovered      261\n",
    "Name: 18, dtype: int64"
   ]
  },
  {
   "cell_type": "markdown",
   "id": "ca3d8690",
   "metadata": {},
   "source": [
    "nombre_infected      1307\n",
    "nombre_sain         15383\n",
    "nombre_exposed       2959\n",
    "nombre_recovered      351\n",
    "Name: 19, dtype: int64"
   ]
  },
  {
   "cell_type": "markdown",
   "id": "7a1b8ba8",
   "metadata": {},
   "source": [
    "nombre_infected      1752\n",
    "nombre_sain         14059\n",
    "nombre_exposed       3717\n",
    "nombre_recovered      472\n",
    "Name: 20, dtype: int64"
   ]
  },
  {
   "cell_type": "markdown",
   "id": "5224d43e",
   "metadata": {},
   "source": [
    "nombre_infected      2277\n",
    "nombre_sain         12516\n",
    "nombre_exposed       4575\n",
    "nombre_recovered      632\n",
    "Name: 21, dtype: int64"
   ]
  },
  {
   "cell_type": "markdown",
   "id": "65ff7a62",
   "metadata": {},
   "source": [
    "nombre_infected      2955\n",
    "nombre_sain         10748\n",
    "nombre_exposed       5453\n",
    "nombre_recovered      844\n",
    "Name: 22, dtype: int64"
   ]
  },
  {
   "cell_type": "markdown",
   "id": "3626d105",
   "metadata": {},
   "source": [
    "nombre_infected     3797\n",
    "nombre_sain         8979\n",
    "nombre_exposed      6120\n",
    "nombre_recovered    1104\n",
    "Name: 23, dtype: int64"
   ]
  },
  {
   "cell_type": "markdown",
   "id": "2884cf1b",
   "metadata": {},
   "source": [
    "nombre_infected     4689\n",
    "nombre_sain         7147\n",
    "nombre_exposed      6686\n",
    "nombre_recovered    1478\n",
    "Name: 24, dtype: int64"
   ]
  },
  {
   "cell_type": "markdown",
   "id": "d35532e4",
   "metadata": {},
   "source": [
    "nombre_infected     5695\n",
    "nombre_sain         5505\n",
    "nombre_exposed      6890\n",
    "nombre_recovered    1910\n",
    "Name: 25, dtype: int64"
   ]
  },
  {
   "cell_type": "markdown",
   "id": "a75e01e3",
   "metadata": {},
   "source": [
    "nombre_infected     6664\n",
    "nombre_sain         4071\n",
    "nombre_exposed      6770\n",
    "nombre_recovered    2495\n",
    "Name: 26, dtype: int64"
   ]
  },
  {
   "cell_type": "markdown",
   "id": "1c0eff9e",
   "metadata": {},
   "source": [
    "nombre_infected     7587\n",
    "nombre_sain         2909\n",
    "nombre_exposed      6338\n",
    "nombre_recovered    3166\n",
    "Name: 27, dtype: int64"
   ]
  },
  {
   "cell_type": "markdown",
   "id": "a84a8ae3",
   "metadata": {},
   "source": [
    "nombre_infected     8361\n",
    "nombre_sain         2004\n",
    "nombre_exposed      5755\n",
    "nombre_recovered    3880\n",
    "Name: 28, dtype: int64"
   ]
  },
  {
   "cell_type": "markdown",
   "id": "c8f4fea9",
   "metadata": {},
   "source": [
    "nombre_infected     8986\n",
    "nombre_sain         1372\n",
    "nombre_exposed      4945\n",
    "nombre_recovered    4697\n",
    "Name: 29, dtype: int64"
   ]
  },
  {
   "cell_type": "markdown",
   "id": "ad58829c",
   "metadata": {},
   "source": [
    "nombre_infected     9285\n",
    "nombre_sain          927\n",
    "nombre_exposed      4162\n",
    "nombre_recovered    5626\n",
    "Name: 30, dtype: int64"
   ]
  },
  {
   "cell_type": "markdown",
   "id": "73c8395e",
   "metadata": {},
   "source": [
    "nombre_infected     9417\n",
    "nombre_sain          620\n",
    "nombre_exposed      3360\n",
    "nombre_recovered    6603\n",
    "Name: 31, dtype: int64"
   ]
  },
  {
   "cell_type": "markdown",
   "id": "789f68a5",
   "metadata": {},
   "source": [
    "nombre_infected     9217\n",
    "nombre_sain          435\n",
    "nombre_exposed      2700\n",
    "nombre_recovered    7648\n",
    "Name: 32, dtype: int64"
   ]
  },
  {
   "cell_type": "markdown",
   "id": "2a6c58e7",
   "metadata": {},
   "source": [
    "nombre_infected     8864\n",
    "nombre_sain          300\n",
    "nombre_exposed      2104\n",
    "nombre_recovered    8732\n",
    "Name: 33, dtype: int64"
   ]
  },
  {
   "cell_type": "markdown",
   "id": "3a72f3d8",
   "metadata": {},
   "source": [
    "nombre_infected     8386\n",
    "nombre_sain          204\n",
    "nombre_exposed      1637\n",
    "nombre_recovered    9773\n",
    "Name: 34, dtype: int64"
   ]
  },
  {
   "cell_type": "markdown",
   "id": "a16bbe16",
   "metadata": {},
   "source": [
    "nombre_infected      7846\n",
    "nombre_sain           170\n",
    "nombre_exposed       1268\n",
    "nombre_recovered    10716\n",
    "Name: 35, dtype: int64"
   ]
  },
  {
   "cell_type": "markdown",
   "id": "91b9d72a",
   "metadata": {},
   "source": [
    "nombre_infected      7263\n",
    "nombre_sain           153\n",
    "nombre_exposed        978\n",
    "nombre_recovered    11606\n",
    "Name: 36, dtype: int64"
   ]
  },
  {
   "cell_type": "markdown",
   "id": "1869312a",
   "metadata": {},
   "source": [
    "nombre_infected      6653\n",
    "nombre_sain           144\n",
    "nombre_exposed        750\n",
    "nombre_recovered    12453\n",
    "Name: 37, dtype: int64"
   ]
  },
  {
   "cell_type": "markdown",
   "id": "e8d3de5b",
   "metadata": {},
   "source": [
    "nombre_infected      6020\n",
    "nombre_sain           151\n",
    "nombre_exposed        588\n",
    "nombre_recovered    13241\n",
    "Name: 38, dtype: int64"
   ]
  },
  {
   "cell_type": "markdown",
   "id": "e0e419c2",
   "metadata": {},
   "source": [
    "nombre_infected      5463\n",
    "nombre_sain           150\n",
    "nombre_exposed        465\n",
    "nombre_recovered    13922\n",
    "Name: 39, dtype: int64"
   ]
  },
  {
   "cell_type": "markdown",
   "id": "4b7b4489",
   "metadata": {},
   "source": [
    "nombre_infected      4890\n",
    "nombre_sain           175\n",
    "nombre_exposed        403\n",
    "nombre_recovered    14532\n",
    "Name: 40, dtype: int64"
   ]
  },
  {
   "cell_type": "markdown",
   "id": "8f2fbf1c",
   "metadata": {},
   "source": [
    "nombre_infected      4374\n",
    "nombre_sain           191\n",
    "nombre_exposed        328\n",
    "nombre_recovered    15107\n",
    "Name: 41, dtype: int64"
   ]
  },
  {
   "cell_type": "markdown",
   "id": "cc9cb5c2",
   "metadata": {},
   "source": [
    "nombre_infected      3870\n",
    "nombre_sain           211\n",
    "nombre_exposed        274\n",
    "nombre_recovered    15645\n",
    "Name: 42, dtype: int64"
   ]
  },
  {
   "cell_type": "markdown",
   "id": "2c51955f",
   "metadata": {},
   "source": [
    "nombre_infected      3423\n",
    "nombre_sain           237\n",
    "nombre_exposed        234\n",
    "nombre_recovered    16106\n",
    "Name: 43, dtype: int64"
   ]
  },
  {
   "cell_type": "markdown",
   "id": "77e50aad",
   "metadata": {},
   "source": [
    "nombre_infected      3034\n",
    "nombre_sain           285\n",
    "nombre_exposed        204\n",
    "nombre_recovered    16477\n",
    "Name: 44, dtype: int64"
   ]
  },
  {
   "cell_type": "markdown",
   "id": "e817cd02",
   "metadata": {},
   "source": [
    "nombre_infected      2662\n",
    "nombre_sain           328\n",
    "nombre_exposed        189\n",
    "nombre_recovered    16821\n",
    "Name: 45, dtype: int64"
   ]
  },
  {
   "cell_type": "markdown",
   "id": "347ce24b",
   "metadata": {},
   "source": [
    "nombre_infected      2360\n",
    "nombre_sain           350\n",
    "nombre_exposed        199\n",
    "nombre_recovered    17091\n",
    "Name: 46, dtype: int64"
   ]
  },
  {
   "cell_type": "markdown",
   "id": "e347cd30",
   "metadata": {},
   "source": [
    "nombre_infected      2124\n",
    "nombre_sain           391\n",
    "nombre_exposed        201\n",
    "nombre_recovered    17284\n",
    "Name: 47, dtype: int64"
   ]
  },
  {
   "cell_type": "markdown",
   "id": "8cab5f6a",
   "metadata": {},
   "source": [
    "nombre_infected      1884\n",
    "nombre_sain           437\n",
    "nombre_exposed        186\n",
    "nombre_recovered    17493\n",
    "Name: 48, dtype: int64"
   ]
  },
  {
   "cell_type": "markdown",
   "id": "45a554a4",
   "metadata": {},
   "source": [
    "nombre_infected      1672\n",
    "nombre_sain           474\n",
    "nombre_exposed        168\n",
    "nombre_recovered    17686\n",
    "Name: 49, dtype: int64"
   ]
  },
  {
   "cell_type": "markdown",
   "id": "296617b2",
   "metadata": {},
   "source": [
    "nombre_infected      1511\n",
    "nombre_sain           531\n",
    "nombre_exposed        155\n",
    "nombre_recovered    17803\n",
    "Name: 50, dtype: int64"
   ]
  },
  {
   "cell_type": "markdown",
   "id": "b2a943d1",
   "metadata": {},
   "source": [
    "nombre_infected      1341\n",
    "nombre_sain           571\n",
    "nombre_exposed        145\n",
    "nombre_recovered    17943\n",
    "Name: 51, dtype: int64"
   ]
  },
  {
   "cell_type": "markdown",
   "id": "ec1797e2",
   "metadata": {},
   "source": [
    "nombre_infected      1210\n",
    "nombre_sain           605\n",
    "nombre_exposed        139\n",
    "nombre_recovered    18046\n",
    "Name: 52, dtype: int64"
   ]
  },
  {
   "cell_type": "markdown",
   "id": "09dd4b10",
   "metadata": {},
   "source": [
    "nombre_infected      1104\n",
    "nombre_sain           657\n",
    "nombre_exposed        142\n",
    "nombre_recovered    18097\n",
    "Name: 53, dtype: int64"
   ]
  },
  {
   "cell_type": "markdown",
   "id": "1511e8fe",
   "metadata": {},
   "source": [
    "nombre_infected       984\n",
    "nombre_sain           684\n",
    "nombre_exposed        152\n",
    "nombre_recovered    18180\n",
    "Name: 54, dtype: int64"
   ]
  },
  {
   "cell_type": "markdown",
   "id": "7994a166",
   "metadata": {},
   "source": [
    "nombre_infected       882\n",
    "nombre_sain           738\n",
    "nombre_exposed        151\n",
    "nombre_recovered    18229\n",
    "Name: 55, dtype: int64"
   ]
  },
  {
   "cell_type": "markdown",
   "id": "caad45b7",
   "metadata": {},
   "source": [
    "nombre_infected       774\n",
    "nombre_sain           773\n",
    "nombre_exposed        150\n",
    "nombre_recovered    18303\n",
    "Name: 56, dtype: int64"
   ]
  },
  {
   "cell_type": "markdown",
   "id": "a7b10b5a",
   "metadata": {},
   "source": [
    "nombre_infected       714\n",
    "nombre_sain           802\n",
    "nombre_exposed        140\n",
    "nombre_recovered    18344\n",
    "Name: 57, dtype: int64"
   ]
  },
  {
   "cell_type": "markdown",
   "id": "979edc33",
   "metadata": {},
   "source": [
    "nombre_infected       656\n",
    "nombre_sain           846\n",
    "nombre_exposed        140\n",
    "nombre_recovered    18358\n",
    "Name: 58, dtype: int64"
   ]
  },
  {
   "cell_type": "markdown",
   "id": "91b04141",
   "metadata": {},
   "source": [
    "nombre_infected       605\n",
    "nombre_sain           891\n",
    "nombre_exposed        122\n",
    "nombre_recovered    18382\n",
    "Name: 59, dtype: int64"
   ]
  },
  {
   "cell_type": "markdown",
   "id": "681c1eec",
   "metadata": {},
   "source": [
    "nombre_infected       538\n",
    "nombre_sain           927\n",
    "nombre_exposed        134\n",
    "nombre_recovered    18401\n",
    "Name: 60, dtype: int64"
   ]
  },
  {
   "cell_type": "markdown",
   "id": "3af3826b",
   "metadata": {},
   "source": [
    "nombre_infected       486\n",
    "nombre_sain           954\n",
    "nombre_exposed        138\n",
    "nombre_recovered    18422\n",
    "Name: 61, dtype: int64"
   ]
  },
  {
   "cell_type": "markdown",
   "id": "39a491b5",
   "metadata": {},
   "source": [
    "nombre_infected       457\n",
    "nombre_sain           980\n",
    "nombre_exposed        133\n",
    "nombre_recovered    18430\n",
    "Name: 62, dtype: int64"
   ]
  },
  {
   "cell_type": "markdown",
   "id": "672c3c45",
   "metadata": {},
   "source": [
    "nombre_infected       422\n",
    "nombre_sain          1036\n",
    "nombre_exposed        121\n",
    "nombre_recovered    18421\n",
    "Name: 63, dtype: int64"
   ]
  },
  {
   "cell_type": "markdown",
   "id": "fdb09eef",
   "metadata": {},
   "source": [
    "nombre_infected       385\n",
    "nombre_sain          1079\n",
    "nombre_exposed        112\n",
    "nombre_recovered    18424\n",
    "Name: 64, dtype: int64"
   ]
  },
  {
   "cell_type": "markdown",
   "id": "331e238c",
   "metadata": {},
   "source": [
    "nombre_infected       365\n",
    "nombre_sain          1103\n",
    "nombre_exposed        105\n",
    "nombre_recovered    18427\n",
    "Name: 65, dtype: int64"
   ]
  },
  {
   "cell_type": "markdown",
   "id": "acd07a9b",
   "metadata": {},
   "source": [
    "nombre_infected       343\n",
    "nombre_sain          1129\n",
    "nombre_exposed        103\n",
    "nombre_recovered    18425\n",
    "Name: 66, dtype: int64"
   ]
  },
  {
   "cell_type": "markdown",
   "id": "29fbfd33",
   "metadata": {},
   "source": [
    "nombre_infected       333\n",
    "nombre_sain          1157\n",
    "nombre_exposed         83\n",
    "nombre_recovered    18427\n",
    "Name: 67, dtype: int64"
   ]
  },
  {
   "cell_type": "markdown",
   "id": "115bdd1b",
   "metadata": {},
   "source": [
    "nombre_infected       316\n",
    "nombre_sain          1162\n",
    "nombre_exposed         93\n",
    "nombre_recovered    18429\n",
    "Name: 68, dtype: int64"
   ]
  },
  {
   "cell_type": "markdown",
   "id": "acc44732",
   "metadata": {},
   "source": [
    "nombre_infected       293\n",
    "nombre_sain          1180\n",
    "nombre_exposed         95\n",
    "nombre_recovered    18432\n",
    "Name: 69, dtype: int64"
   ]
  },
  {
   "cell_type": "markdown",
   "id": "0ab7785f",
   "metadata": {},
   "source": [
    "nombre_infected       280\n",
    "nombre_sain          1218\n",
    "nombre_exposed         90\n",
    "nombre_recovered    18412\n",
    "Name: 70, dtype: int64"
   ]
  },
  {
   "cell_type": "markdown",
   "id": "6d389857",
   "metadata": {},
   "source": [
    "nombre_infected       270\n",
    "nombre_sain          1247\n",
    "nombre_exposed         89\n",
    "nombre_recovered    18394\n",
    "Name: 71, dtype: int64"
   ]
  },
  {
   "cell_type": "markdown",
   "id": "8d34a2cb",
   "metadata": {},
   "source": [
    "nombre_infected       258\n",
    "nombre_sain          1278\n",
    "nombre_exposed         84\n",
    "nombre_recovered    18380\n",
    "Name: 72, dtype: int64"
   ]
  },
  {
   "cell_type": "markdown",
   "id": "1dae1fbc",
   "metadata": {},
   "source": [
    "nombre_infected       255\n",
    "nombre_sain          1306\n",
    "nombre_exposed         76\n",
    "nombre_recovered    18363\n",
    "Name: 73, dtype: int64"
   ]
  },
  {
   "cell_type": "markdown",
   "id": "7c5c7b19",
   "metadata": {},
   "source": [
    "nombre_infected       243\n",
    "nombre_sain          1328\n",
    "nombre_exposed         82\n",
    "nombre_recovered    18347\n",
    "Name: 74, dtype: int64"
   ]
  },
  {
   "cell_type": "markdown",
   "id": "e5a370fe",
   "metadata": {},
   "source": [
    "nombre_infected       243\n",
    "nombre_sain          1360\n",
    "nombre_exposed         83\n",
    "nombre_recovered    18314\n",
    "Name: 75, dtype: int64"
   ]
  },
  {
   "cell_type": "markdown",
   "id": "5a9f5392",
   "metadata": {},
   "source": [
    "nombre_infected       234\n",
    "nombre_sain          1394\n",
    "nombre_exposed         83\n",
    "nombre_recovered    18289\n",
    "Name: 76, dtype: int64"
   ]
  },
  {
   "cell_type": "markdown",
   "id": "9d9c00a7",
   "metadata": {},
   "source": [
    "nombre_infected       229\n",
    "nombre_sain          1445\n",
    "nombre_exposed         78\n",
    "nombre_recovered    18248\n",
    "Name: 77, dtype: int64"
   ]
  },
  {
   "cell_type": "markdown",
   "id": "59a8631f",
   "metadata": {},
   "source": [
    "nombre_infected       222\n",
    "nombre_sain          1494\n",
    "nombre_exposed         84\n",
    "nombre_recovered    18200\n",
    "Name: 78, dtype: int64"
   ]
  },
  {
   "cell_type": "markdown",
   "id": "43e81511",
   "metadata": {},
   "source": [
    "nombre_infected       220\n",
    "nombre_sain          1533\n",
    "nombre_exposed         88\n",
    "nombre_recovered    18159\n",
    "Name: 79, dtype: int64"
   ]
  },
  {
   "cell_type": "markdown",
   "id": "b39e0cc4",
   "metadata": {},
   "source": [
    "nombre_infected       217\n",
    "nombre_sain          1585\n",
    "nombre_exposed         86\n",
    "nombre_recovered    18112\n",
    "Name: 80, dtype: int64"
   ]
  },
  {
   "cell_type": "markdown",
   "id": "4f789d6f",
   "metadata": {},
   "source": [
    "nombre_infected       222\n",
    "nombre_sain          1634\n",
    "nombre_exposed         84\n",
    "nombre_recovered    18060\n",
    "Name: 81, dtype: int64"
   ]
  },
  {
   "cell_type": "markdown",
   "id": "a2c68584",
   "metadata": {},
   "source": [
    "nombre_infected       216\n",
    "nombre_sain          1702\n",
    "nombre_exposed         81\n",
    "nombre_recovered    18001\n",
    "Name: 82, dtype: int64"
   ]
  },
  {
   "cell_type": "markdown",
   "id": "c1597767",
   "metadata": {},
   "source": [
    "nombre_infected       210\n",
    "nombre_sain          1766\n",
    "nombre_exposed         91\n",
    "nombre_recovered    17933\n",
    "Name: 83, dtype: int64"
   ]
  },
  {
   "cell_type": "markdown",
   "id": "f6cb051e",
   "metadata": {},
   "source": [
    "nombre_infected       190\n",
    "nombre_sain          1823\n",
    "nombre_exposed         99\n",
    "nombre_recovered    17888\n",
    "Name: 84, dtype: int64"
   ]
  },
  {
   "cell_type": "markdown",
   "id": "bc9c4291",
   "metadata": {},
   "source": [
    "nombre_infected       185\n",
    "nombre_sain          1891\n",
    "nombre_exposed         95\n",
    "nombre_recovered    17829\n",
    "Name: 85, dtype: int64"
   ]
  },
  {
   "cell_type": "markdown",
   "id": "4d2b659f",
   "metadata": {},
   "source": [
    "nombre_infected       190\n",
    "nombre_sain          1965\n",
    "nombre_exposed         86\n",
    "nombre_recovered    17759\n",
    "Name: 86, dtype: int64"
   ]
  },
  {
   "cell_type": "markdown",
   "id": "017cb2aa",
   "metadata": {},
   "source": [
    "nombre_infected       185\n",
    "nombre_sain          2014\n",
    "nombre_exposed         95\n",
    "nombre_recovered    17706\n",
    "Name: 87, dtype: int64"
   ]
  },
  {
   "cell_type": "markdown",
   "id": "60e3c87d",
   "metadata": {},
   "source": [
    "nombre_infected       168\n",
    "nombre_sain          2081\n",
    "nombre_exposed         98\n",
    "nombre_recovered    17653\n",
    "Name: 88, dtype: int64"
   ]
  },
  {
   "cell_type": "markdown",
   "id": "dcbf369b",
   "metadata": {},
   "source": [
    "nombre_infected       167\n",
    "nombre_sain          2128\n",
    "nombre_exposed        102\n",
    "nombre_recovered    17603\n",
    "Name: 89, dtype: int64"
   ]
  },
  {
   "cell_type": "markdown",
   "id": "7adf5e19",
   "metadata": {},
   "source": [
    "nombre_infected       152\n",
    "nombre_sain          2198\n",
    "nombre_exposed        106\n",
    "nombre_recovered    17544\n",
    "Name: 90, dtype: int64"
   ]
  },
  {
   "cell_type": "markdown",
   "id": "3a77c823",
   "metadata": {},
   "source": [
    "nombre_infected       152\n",
    "nombre_sain          2245\n",
    "nombre_exposed        106\n",
    "nombre_recovered    17497\n",
    "Name: 91, dtype: int64"
   ]
  },
  {
   "cell_type": "markdown",
   "id": "dc6b52f3",
   "metadata": {},
   "source": [
    "nombre_infected       146\n",
    "nombre_sain          2289\n",
    "nombre_exposed        111\n",
    "nombre_recovered    17454\n",
    "Name: 92, dtype: int64"
   ]
  },
  {
   "cell_type": "markdown",
   "id": "5df72284",
   "metadata": {},
   "source": [
    "nombre_infected       144\n",
    "nombre_sain          2357\n",
    "nombre_exposed        103\n",
    "nombre_recovered    17396\n",
    "Name: 93, dtype: int64"
   ]
  },
  {
   "cell_type": "markdown",
   "id": "9ea28843",
   "metadata": {},
   "source": [
    "nombre_infected       148\n",
    "nombre_sain          2399\n",
    "nombre_exposed         95\n",
    "nombre_recovered    17358\n",
    "Name: 94, dtype: int64"
   ]
  },
  {
   "cell_type": "markdown",
   "id": "8a8b4eab",
   "metadata": {},
   "source": [
    "nombre_infected       154\n",
    "nombre_sain          2446\n",
    "nombre_exposed         97\n",
    "nombre_recovered    17303\n",
    "Name: 95, dtype: int64"
   ]
  },
  {
   "cell_type": "markdown",
   "id": "2f32406e",
   "metadata": {},
   "source": [
    "nombre_infected       154\n",
    "nombre_sain          2493\n",
    "nombre_exposed         97\n",
    "nombre_recovered    17256\n",
    "Name: 96, dtype: int64"
   ]
  },
  {
   "cell_type": "markdown",
   "id": "382896c6",
   "metadata": {},
   "source": [
    "nombre_infected       153\n",
    "nombre_sain          2532\n",
    "nombre_exposed         94\n",
    "nombre_recovered    17221\n",
    "Name: 97, dtype: int64"
   ]
  },
  {
   "cell_type": "markdown",
   "id": "ce5ca3b9",
   "metadata": {},
   "source": [
    "nombre_infected       146\n",
    "nombre_sain          2573\n",
    "nombre_exposed         99\n",
    "nombre_recovered    17182\n",
    "Name: 98, dtype: int64"
   ]
  },
  {
   "cell_type": "markdown",
   "id": "3524513a",
   "metadata": {},
   "source": [
    "nombre_infected       138\n",
    "nombre_sain          2616\n",
    "nombre_exposed        106\n",
    "nombre_recovered    17140\n",
    "Name: 99, dtype: int64"
   ]
  },
  {
   "cell_type": "markdown",
   "id": "72c0976e",
   "metadata": {},
   "source": [
    "nombre_infected       144\n",
    "nombre_sain          2646\n",
    "nombre_exposed        112\n",
    "nombre_recovered    17098\n",
    "Name: 100, dtype: int64"
   ]
  },
  {
   "cell_type": "markdown",
   "id": "2cf5c6cf",
   "metadata": {},
   "source": [
    "nombre_infected       142\n",
    "nombre_sain          2687\n",
    "nombre_exposed        123\n",
    "nombre_recovered    17048\n",
    "Name: 101, dtype: int64"
   ]
  },
  {
   "cell_type": "markdown",
   "id": "82faa151",
   "metadata": {},
   "source": [
    "nombre_infected       153\n",
    "nombre_sain          2714\n",
    "nombre_exposed        112\n",
    "nombre_recovered    17021\n",
    "Name: 102, dtype: int64"
   ]
  },
  {
   "cell_type": "markdown",
   "id": "251f8ed2",
   "metadata": {},
   "source": [
    "nombre_infected       153\n",
    "nombre_sain          2747\n",
    "nombre_exposed        116\n",
    "nombre_recovered    16984\n",
    "Name: 103, dtype: int64"
   ]
  },
  {
   "cell_type": "markdown",
   "id": "125f44ae",
   "metadata": {},
   "source": [
    "nombre_infected       168\n",
    "nombre_sain          2768\n",
    "nombre_exposed        118\n",
    "nombre_recovered    16946\n",
    "Name: 104, dtype: int64"
   ]
  },
  {
   "cell_type": "markdown",
   "id": "8d056211",
   "metadata": {},
   "source": [
    "nombre_infected       162\n",
    "nombre_sain          2787\n",
    "nombre_exposed        130\n",
    "nombre_recovered    16921\n",
    "Name: 105, dtype: int64"
   ]
  },
  {
   "cell_type": "markdown",
   "id": "72d92dc1",
   "metadata": {},
   "source": [
    "nombre_infected       167\n",
    "nombre_sain          2812\n",
    "nombre_exposed        135\n",
    "nombre_recovered    16886\n",
    "Name: 106, dtype: int64"
   ]
  },
  {
   "cell_type": "markdown",
   "id": "6015f798",
   "metadata": {},
   "source": [
    "nombre_infected       174\n",
    "nombre_sain          2850\n",
    "nombre_exposed        141\n",
    "nombre_recovered    16835\n",
    "Name: 107, dtype: int64"
   ]
  },
  {
   "cell_type": "markdown",
   "id": "b2d8074c",
   "metadata": {},
   "source": [
    "nombre_infected       174\n",
    "nombre_sain          2869\n",
    "nombre_exposed        147\n",
    "nombre_recovered    16810\n",
    "Name: 108, dtype: int64"
   ]
  },
  {
   "cell_type": "markdown",
   "id": "00212884",
   "metadata": {},
   "source": [
    "nombre_infected       189\n",
    "nombre_sain          2892\n",
    "nombre_exposed        138\n",
    "nombre_recovered    16781\n",
    "Name: 109, dtype: int64"
   ]
  },
  {
   "cell_type": "markdown",
   "id": "4950c85b",
   "metadata": {},
   "source": [
    "nombre_infected       195\n",
    "nombre_sain          2922\n",
    "nombre_exposed        150\n",
    "nombre_recovered    16733\n",
    "Name: 110, dtype: int64"
   ]
  },
  {
   "cell_type": "markdown",
   "id": "6f358eb2",
   "metadata": {},
   "source": [
    "nombre_infected       194\n",
    "nombre_sain          2946\n",
    "nombre_exposed        149\n",
    "nombre_recovered    16711\n",
    "Name: 111, dtype: int64"
   ]
  },
  {
   "cell_type": "markdown",
   "id": "5b098451",
   "metadata": {},
   "source": [
    "nombre_infected       193\n",
    "nombre_sain          2969\n",
    "nombre_exposed        154\n",
    "nombre_recovered    16684\n",
    "Name: 112, dtype: int64"
   ]
  },
  {
   "cell_type": "markdown",
   "id": "31e3d3d5",
   "metadata": {},
   "source": [
    "nombre_infected       213\n",
    "nombre_sain          2983\n",
    "nombre_exposed        151\n",
    "nombre_recovered    16653\n",
    "Name: 113, dtype: int64"
   ]
  },
  {
   "cell_type": "markdown",
   "id": "ea3e7b66",
   "metadata": {},
   "source": [
    "nombre_infected       227\n",
    "nombre_sain          2995\n",
    "nombre_exposed        155\n",
    "nombre_recovered    16623\n",
    "Name: 114, dtype: int64"
   ]
  },
  {
   "cell_type": "markdown",
   "id": "8d5cfddd",
   "metadata": {},
   "source": [
    "nombre_infected       223\n",
    "nombre_sain          2998\n",
    "nombre_exposed        180\n",
    "nombre_recovered    16599\n",
    "Name: 115, dtype: int64"
   ]
  },
  {
   "cell_type": "markdown",
   "id": "28b83a9b",
   "metadata": {},
   "source": [
    "nombre_infected       206\n",
    "nombre_sain          2999\n",
    "nombre_exposed        202\n",
    "nombre_recovered    16593\n",
    "Name: 116, dtype: int64"
   ]
  },
  {
   "cell_type": "markdown",
   "id": "f1d82be9",
   "metadata": {},
   "source": [
    "nombre_infected       232\n",
    "nombre_sain          3001\n",
    "nombre_exposed        192\n",
    "nombre_recovered    16575\n",
    "Name: 117, dtype: int64"
   ]
  },
  {
   "cell_type": "markdown",
   "id": "6de05761",
   "metadata": {},
   "source": [
    "nombre_infected       250\n",
    "nombre_sain          2991\n",
    "nombre_exposed        201\n",
    "nombre_recovered    16558\n",
    "Name: 118, dtype: int64"
   ]
  },
  {
   "cell_type": "markdown",
   "id": "2c1517c7",
   "metadata": {},
   "source": [
    "nombre_infected       244\n",
    "nombre_sain          2965\n",
    "nombre_exposed        227\n",
    "nombre_recovered    16564\n",
    "Name: 119, dtype: int64"
   ]
  },
  {
   "cell_type": "markdown",
   "id": "f8db73f4",
   "metadata": {},
   "source": [
    "nombre_infected       247\n",
    "nombre_sain          2969\n",
    "nombre_exposed        234\n",
    "nombre_recovered    16550\n",
    "Name: 120, dtype: int64"
   ]
  },
  {
   "cell_type": "markdown",
   "id": "b993877f",
   "metadata": {},
   "source": [
    "nombre_infected       280\n",
    "nombre_sain          2959\n",
    "nombre_exposed        230\n",
    "nombre_recovered    16531\n",
    "Name: 121, dtype: int64"
   ]
  },
  {
   "cell_type": "markdown",
   "id": "5a5bafb7",
   "metadata": {},
   "source": [
    "nombre_infected       286\n",
    "nombre_sain          2971\n",
    "nombre_exposed        227\n",
    "nombre_recovered    16516\n",
    "Name: 122, dtype: int64"
   ]
  },
  {
   "cell_type": "markdown",
   "id": "5d52ae28",
   "metadata": {},
   "source": [
    "nombre_infected       303\n",
    "nombre_sain          2993\n",
    "nombre_exposed        212\n",
    "nombre_recovered    16492\n",
    "Name: 123, dtype: int64"
   ]
  },
  {
   "cell_type": "markdown",
   "id": "a9552fdc",
   "metadata": {},
   "source": [
    "nombre_infected       304\n",
    "nombre_sain          2991\n",
    "nombre_exposed        226\n",
    "nombre_recovered    16479\n",
    "Name: 124, dtype: int64"
   ]
  },
  {
   "cell_type": "markdown",
   "id": "1533eb61",
   "metadata": {},
   "source": [
    "nombre_infected       314\n",
    "nombre_sain          2988\n",
    "nombre_exposed        250\n",
    "nombre_recovered    16448\n",
    "Name: 125, dtype: int64"
   ]
  },
  {
   "cell_type": "markdown",
   "id": "af364271",
   "metadata": {},
   "source": [
    "nombre_infected       326\n",
    "nombre_sain          2986\n",
    "nombre_exposed        254\n",
    "nombre_recovered    16434\n",
    "Name: 126, dtype: int64"
   ]
  },
  {
   "cell_type": "markdown",
   "id": "d6f88a7b",
   "metadata": {},
   "source": [
    "nombre_infected       340\n",
    "nombre_sain          2991\n",
    "nombre_exposed        264\n",
    "nombre_recovered    16405\n",
    "Name: 127, dtype: int64"
   ]
  },
  {
   "cell_type": "markdown",
   "id": "d4a8560c",
   "metadata": {},
   "source": [
    "nombre_infected       349\n",
    "nombre_sain          2987\n",
    "nombre_exposed        284\n",
    "nombre_recovered    16380\n",
    "Name: 128, dtype: int64"
   ]
  },
  {
   "cell_type": "markdown",
   "id": "5d13b52c",
   "metadata": {},
   "source": [
    "nombre_infected       379\n",
    "nombre_sain          2981\n",
    "nombre_exposed        296\n",
    "nombre_recovered    16344\n",
    "Name: 129, dtype: int64"
   ]
  },
  {
   "cell_type": "markdown",
   "id": "e64ecdae",
   "metadata": {},
   "source": [
    "nombre_infected       398\n",
    "nombre_sain          3000\n",
    "nombre_exposed        301\n",
    "nombre_recovered    16301\n",
    "Name: 130, dtype: int64"
   ]
  },
  {
   "cell_type": "markdown",
   "id": "a12b40ad",
   "metadata": {},
   "source": [
    "nombre_infected       416\n",
    "nombre_sain          2993\n",
    "nombre_exposed        320\n",
    "nombre_recovered    16271\n",
    "Name: 131, dtype: int64"
   ]
  },
  {
   "cell_type": "markdown",
   "id": "5425d047",
   "metadata": {},
   "source": [
    "nombre_infected       433\n",
    "nombre_sain          2968\n",
    "nombre_exposed        345\n",
    "nombre_recovered    16254\n",
    "Name: 132, dtype: int64"
   ]
  },
  {
   "cell_type": "markdown",
   "id": "ee5023d5",
   "metadata": {},
   "source": [
    "nombre_infected       478\n",
    "nombre_sain          2946\n",
    "nombre_exposed        334\n",
    "nombre_recovered    16242\n",
    "Name: 133, dtype: int64"
   ]
  },
  {
   "cell_type": "markdown",
   "id": "a99e8f1a",
   "metadata": {},
   "source": [
    "nombre_infected       491\n",
    "nombre_sain          2915\n",
    "nombre_exposed        363\n",
    "nombre_recovered    16231\n",
    "Name: 134, dtype: int64"
   ]
  },
  {
   "cell_type": "markdown",
   "id": "662bc0e8",
   "metadata": {},
   "source": [
    "nombre_infected       486\n",
    "nombre_sain          2899\n",
    "nombre_exposed        378\n",
    "nombre_recovered    16237\n",
    "Name: 135, dtype: int64"
   ]
  },
  {
   "cell_type": "markdown",
   "id": "8825acc8",
   "metadata": {},
   "source": [
    "nombre_infected       523\n",
    "nombre_sain          2865\n",
    "nombre_exposed        388\n",
    "nombre_recovered    16224\n",
    "Name: 136, dtype: int64"
   ]
  },
  {
   "cell_type": "markdown",
   "id": "b22878d9",
   "metadata": {},
   "source": [
    "nombre_infected       539\n",
    "nombre_sain          2840\n",
    "nombre_exposed        386\n",
    "nombre_recovered    16235\n",
    "Name: 137, dtype: int64"
   ]
  },
  {
   "cell_type": "markdown",
   "id": "ea37629d",
   "metadata": {},
   "source": [
    "nombre_infected       594\n",
    "nombre_sain          2785\n",
    "nombre_exposed        394\n",
    "nombre_recovered    16227\n",
    "Name: 138, dtype: int64"
   ]
  },
  {
   "cell_type": "markdown",
   "id": "2a61d9a0",
   "metadata": {},
   "source": [
    "nombre_infected       596\n",
    "nombre_sain          2757\n",
    "nombre_exposed        420\n",
    "nombre_recovered    16227\n",
    "Name: 139, dtype: int64"
   ]
  },
  {
   "cell_type": "markdown",
   "id": "021fe2ac",
   "metadata": {},
   "source": [
    "nombre_infected       619\n",
    "nombre_sain          2693\n",
    "nombre_exposed        449\n",
    "nombre_recovered    16239\n",
    "Name: 140, dtype: int64"
   ]
  },
  {
   "cell_type": "markdown",
   "id": "8b954092",
   "metadata": {},
   "source": [
    "nombre_infected       658\n",
    "nombre_sain          2629\n",
    "nombre_exposed        466\n",
    "nombre_recovered    16247\n",
    "Name: 141, dtype: int64"
   ]
  },
  {
   "cell_type": "markdown",
   "id": "762938e6",
   "metadata": {},
   "source": [
    "nombre_infected       660\n",
    "nombre_sain          2599\n",
    "nombre_exposed        481\n",
    "nombre_recovered    16260\n",
    "Name: 142, dtype: int64"
   ]
  },
  {
   "cell_type": "markdown",
   "id": "77b32c2b",
   "metadata": {},
   "source": [
    "nombre_infected       696\n",
    "nombre_sain          2557\n",
    "nombre_exposed        476\n",
    "nombre_recovered    16271\n",
    "Name: 143, dtype: int64"
   ]
  },
  {
   "cell_type": "markdown",
   "id": "8114820a",
   "metadata": {},
   "source": [
    "nombre_infected       731\n",
    "nombre_sain          2517\n",
    "nombre_exposed        481\n",
    "nombre_recovered    16271\n",
    "Name: 144, dtype: int64"
   ]
  },
  {
   "cell_type": "markdown",
   "id": "ddf71427",
   "metadata": {},
   "source": [
    "nombre_infected       758\n",
    "nombre_sain          2466\n",
    "nombre_exposed        500\n",
    "nombre_recovered    16276\n",
    "Name: 145, dtype: int64"
   ]
  },
  {
   "cell_type": "markdown",
   "id": "21fa3548",
   "metadata": {},
   "source": [
    "nombre_infected       782\n",
    "nombre_sain          2427\n",
    "nombre_exposed        486\n",
    "nombre_recovered    16305\n",
    "Name: 146, dtype: int64"
   ]
  },
  {
   "cell_type": "markdown",
   "id": "22ae370c",
   "metadata": {},
   "source": [
    "nombre_infected       825\n",
    "nombre_sain          2416\n",
    "nombre_exposed        451\n",
    "nombre_recovered    16308\n",
    "Name: 147, dtype: int64"
   ]
  },
  {
   "cell_type": "markdown",
   "id": "c5c76119",
   "metadata": {},
   "source": [
    "nombre_infected       850\n",
    "nombre_sain          2380\n",
    "nombre_exposed        444\n",
    "nombre_recovered    16326\n",
    "Name: 148, dtype: int64"
   ]
  },
  {
   "cell_type": "markdown",
   "id": "f71c15a6",
   "metadata": {},
   "source": [
    "nombre_infected       839\n",
    "nombre_sain          2342\n",
    "nombre_exposed        456\n",
    "nombre_recovered    16363\n",
    "Name: 149, dtype: int64"
   ]
  },
  {
   "cell_type": "markdown",
   "id": "509665c5",
   "metadata": {},
   "source": [
    "nombre_infected       843\n",
    "nombre_sain          2305\n",
    "nombre_exposed        469\n",
    "nombre_recovered    16383\n",
    "Name: 150, dtype: int64"
   ]
  },
  {
   "cell_type": "markdown",
   "id": "c52e0f8a",
   "metadata": {},
   "source": [
    "nombre_infected       854\n",
    "nombre_sain          2284\n",
    "nombre_exposed        486\n",
    "nombre_recovered    16376\n",
    "Name: 151, dtype: int64"
   ]
  },
  {
   "cell_type": "markdown",
   "id": "d6c3ad73",
   "metadata": {},
   "source": [
    "nombre_infected       853\n",
    "nombre_sain          2252\n",
    "nombre_exposed        498\n",
    "nombre_recovered    16397\n",
    "Name: 152, dtype: int64"
   ]
  },
  {
   "cell_type": "markdown",
   "id": "49da3d06",
   "metadata": {},
   "source": [
    "nombre_infected       846\n",
    "nombre_sain          2215\n",
    "nombre_exposed        521\n",
    "nombre_recovered    16418\n",
    "Name: 153, dtype: int64"
   ]
  },
  {
   "cell_type": "markdown",
   "id": "44230016",
   "metadata": {},
   "source": [
    "nombre_infected       865\n",
    "nombre_sain          2173\n",
    "nombre_exposed        508\n",
    "nombre_recovered    16454\n",
    "Name: 154, dtype: int64"
   ]
  },
  {
   "cell_type": "markdown",
   "id": "af4c06c8",
   "metadata": {},
   "source": [
    "nombre_infected       872\n",
    "nombre_sain          2142\n",
    "nombre_exposed        509\n",
    "nombre_recovered    16477\n",
    "Name: 155, dtype: int64"
   ]
  },
  {
   "cell_type": "markdown",
   "id": "619f8089",
   "metadata": {},
   "source": [
    "nombre_infected       875\n",
    "nombre_sain          2077\n",
    "nombre_exposed        521\n",
    "nombre_recovered    16527\n",
    "Name: 156, dtype: int64"
   ]
  },
  {
   "cell_type": "markdown",
   "id": "969eef7c",
   "metadata": {},
   "source": [
    "nombre_infected       891\n",
    "nombre_sain          2040\n",
    "nombre_exposed        511\n",
    "nombre_recovered    16558\n",
    "Name: 157, dtype: int64"
   ]
  },
  {
   "cell_type": "markdown",
   "id": "dc9717e7",
   "metadata": {},
   "source": [
    "nombre_infected       884\n",
    "nombre_sain          2000\n",
    "nombre_exposed        495\n",
    "nombre_recovered    16621\n",
    "Name: 158, dtype: int64"
   ]
  },
  {
   "cell_type": "markdown",
   "id": "4ee7801d",
   "metadata": {},
   "source": [
    "nombre_infected       896\n",
    "nombre_sain          1954\n",
    "nombre_exposed        492\n",
    "nombre_recovered    16658\n",
    "Name: 159, dtype: int64"
   ]
  },
  {
   "cell_type": "markdown",
   "id": "a83ba53b",
   "metadata": {},
   "source": [
    "nombre_infected       898\n",
    "nombre_sain          1914\n",
    "nombre_exposed        483\n",
    "nombre_recovered    16705\n",
    "Name: 160, dtype: int64"
   ]
  },
  {
   "cell_type": "markdown",
   "id": "8b518c03",
   "metadata": {},
   "source": [
    "nombre_infected       907\n",
    "nombre_sain          1868\n",
    "nombre_exposed        473\n",
    "nombre_recovered    16752\n",
    "Name: 161, dtype: int64"
   ]
  },
  {
   "cell_type": "markdown",
   "id": "a7e82511",
   "metadata": {},
   "source": [
    "nombre_infected       908\n",
    "nombre_sain          1834\n",
    "nombre_exposed        460\n",
    "nombre_recovered    16798\n",
    "Name: 162, dtype: int64"
   ]
  },
  {
   "cell_type": "markdown",
   "id": "056f4b93",
   "metadata": {},
   "source": [
    "nombre_infected       906\n",
    "nombre_sain          1834\n",
    "nombre_exposed        435\n",
    "nombre_recovered    16825\n",
    "Name: 163, dtype: int64"
   ]
  },
  {
   "cell_type": "markdown",
   "id": "1c0e800b",
   "metadata": {},
   "source": [
    "nombre_infected       888\n",
    "nombre_sain          1820\n",
    "nombre_exposed        431\n",
    "nombre_recovered    16861\n",
    "Name: 164, dtype: int64"
   ]
  },
  {
   "cell_type": "markdown",
   "id": "c760b595",
   "metadata": {},
   "source": [
    "nombre_infected       886\n",
    "nombre_sain          1798\n",
    "nombre_exposed        433\n",
    "nombre_recovered    16883\n",
    "Name: 165, dtype: int64"
   ]
  },
  {
   "cell_type": "markdown",
   "id": "f9edc413",
   "metadata": {},
   "source": [
    "nombre_infected       871\n",
    "nombre_sain          1808\n",
    "nombre_exposed        436\n",
    "nombre_recovered    16885\n",
    "Name: 166, dtype: int64"
   ]
  },
  {
   "cell_type": "markdown",
   "id": "9d545ebe",
   "metadata": {},
   "source": [
    "nombre_infected       866\n",
    "nombre_sain          1821\n",
    "nombre_exposed        436\n",
    "nombre_recovered    16877\n",
    "Name: 167, dtype: int64"
   ]
  },
  {
   "cell_type": "markdown",
   "id": "c432eff4",
   "metadata": {},
   "source": [
    "nombre_infected       856\n",
    "nombre_sain          1818\n",
    "nombre_exposed        435\n",
    "nombre_recovered    16891\n",
    "Name: 168, dtype: int64"
   ]
  },
  {
   "cell_type": "markdown",
   "id": "d2b967f0",
   "metadata": {},
   "source": [
    "nombre_infected       867\n",
    "nombre_sain          1820\n",
    "nombre_exposed        412\n",
    "nombre_recovered    16901\n",
    "Name: 169, dtype: int64"
   ]
  },
  {
   "cell_type": "markdown",
   "id": "17179754",
   "metadata": {},
   "source": [
    "nombre_infected       861\n",
    "nombre_sain          1813\n",
    "nombre_exposed        407\n",
    "nombre_recovered    16919\n",
    "Name: 170, dtype: int64"
   ]
  },
  {
   "cell_type": "markdown",
   "id": "a3722225",
   "metadata": {},
   "source": [
    "nombre_infected       849\n",
    "nombre_sain          1824\n",
    "nombre_exposed        408\n",
    "nombre_recovered    16919\n",
    "Name: 171, dtype: int64"
   ]
  },
  {
   "cell_type": "markdown",
   "id": "78571c34",
   "metadata": {},
   "source": [
    "nombre_infected       838\n",
    "nombre_sain          1832\n",
    "nombre_exposed        389\n",
    "nombre_recovered    16941\n",
    "Name: 172, dtype: int64"
   ]
  },
  {
   "cell_type": "markdown",
   "id": "78db85e5",
   "metadata": {},
   "source": [
    "nombre_infected       807\n",
    "nombre_sain          1845\n",
    "nombre_exposed        378\n",
    "nombre_recovered    16970\n",
    "Name: 173, dtype: int64"
   ]
  },
  {
   "cell_type": "markdown",
   "id": "aa1f0c5f",
   "metadata": {},
   "source": [
    "nombre_infected       782\n",
    "nombre_sain          1842\n",
    "nombre_exposed        372\n",
    "nombre_recovered    17004\n",
    "Name: 174, dtype: int64"
   ]
  },
  {
   "cell_type": "markdown",
   "id": "19c21b69",
   "metadata": {},
   "source": [
    "nombre_infected       780\n",
    "nombre_sain          1866\n",
    "nombre_exposed        359\n",
    "nombre_recovered    16995\n",
    "Name: 175, dtype: int64"
   ]
  },
  {
   "cell_type": "markdown",
   "id": "24fb4100",
   "metadata": {},
   "source": [
    "nombre_infected       762\n",
    "nombre_sain          1898\n",
    "nombre_exposed        354\n",
    "nombre_recovered    16986\n",
    "Name: 176, dtype: int64"
   ]
  },
  {
   "cell_type": "markdown",
   "id": "ae0ed243",
   "metadata": {},
   "source": [
    "nombre_infected       758\n",
    "nombre_sain          1891\n",
    "nombre_exposed        362\n",
    "nombre_recovered    16989\n",
    "Name: 177, dtype: int64"
   ]
  },
  {
   "cell_type": "markdown",
   "id": "517116d7",
   "metadata": {},
   "source": [
    "nombre_infected       733\n",
    "nombre_sain          1925\n",
    "nombre_exposed        373\n",
    "nombre_recovered    16969\n",
    "Name: 178, dtype: int64"
   ]
  },
  {
   "cell_type": "markdown",
   "id": "772bd603",
   "metadata": {},
   "source": [
    "nombre_infected       731\n",
    "nombre_sain          1925\n",
    "nombre_exposed        363\n",
    "nombre_recovered    16981\n",
    "Name: 179, dtype: int64"
   ]
  },
  {
   "cell_type": "markdown",
   "id": "6d803886",
   "metadata": {},
   "source": [
    "nombre_infected       718\n",
    "nombre_sain          1940\n",
    "nombre_exposed        361\n",
    "nombre_recovered    16981\n",
    "Name: 180, dtype: int64"
   ]
  },
  {
   "cell_type": "markdown",
   "id": "e345391c",
   "metadata": {},
   "source": [
    "nombre_infected       724\n",
    "nombre_sain          1944\n",
    "nombre_exposed        359\n",
    "nombre_recovered    16973\n",
    "Name: 181, dtype: int64"
   ]
  },
  {
   "cell_type": "markdown",
   "id": "74c30200",
   "metadata": {},
   "source": [
    "nombre_infected       719\n",
    "nombre_sain          1968\n",
    "nombre_exposed        345\n",
    "nombre_recovered    16968\n",
    "Name: 182, dtype: int64"
   ]
  },
  {
   "cell_type": "markdown",
   "id": "0be9d2ca",
   "metadata": {},
   "source": [
    "nombre_infected       720\n",
    "nombre_sain          1968\n",
    "nombre_exposed        348\n",
    "nombre_recovered    16964\n",
    "Name: 183, dtype: int64"
   ]
  },
  {
   "cell_type": "markdown",
   "id": "97bfd139",
   "metadata": {},
   "source": [
    "nombre_infected       726\n",
    "nombre_sain          1948\n",
    "nombre_exposed        357\n",
    "nombre_recovered    16969\n",
    "Name: 184, dtype: int64"
   ]
  },
  {
   "cell_type": "markdown",
   "id": "2f352fed",
   "metadata": {},
   "source": [
    "nombre_infected       691\n",
    "nombre_sain          1968\n",
    "nombre_exposed        367\n",
    "nombre_recovered    16974\n",
    "Name: 185, dtype: int64"
   ]
  },
  {
   "cell_type": "markdown",
   "id": "d7fda277",
   "metadata": {},
   "source": [
    "nombre_infected       665\n",
    "nombre_sain          1963\n",
    "nombre_exposed        368\n",
    "nombre_recovered    17004\n",
    "Name: 186, dtype: int64"
   ]
  },
  {
   "cell_type": "markdown",
   "id": "4b2eefe7",
   "metadata": {},
   "source": [
    "nombre_infected       680\n",
    "nombre_sain          1966\n",
    "nombre_exposed        341\n",
    "nombre_recovered    17013\n",
    "Name: 187, dtype: int64"
   ]
  },
  {
   "cell_type": "markdown",
   "id": "cf18323b",
   "metadata": {},
   "source": [
    "nombre_infected       677\n",
    "nombre_sain          1973\n",
    "nombre_exposed        330\n",
    "nombre_recovered    17020\n",
    "Name: 188, dtype: int64"
   ]
  },
  {
   "cell_type": "markdown",
   "id": "a348880a",
   "metadata": {},
   "source": [
    "nombre_infected       688\n",
    "nombre_sain          1991\n",
    "nombre_exposed        326\n",
    "nombre_recovered    16995\n",
    "Name: 189, dtype: int64"
   ]
  },
  {
   "cell_type": "markdown",
   "id": "973cc0a5",
   "metadata": {},
   "source": [
    "nombre_infected       662\n",
    "nombre_sain          1988\n",
    "nombre_exposed        339\n",
    "nombre_recovered    17011\n",
    "Name: 190, dtype: int64"
   ]
  },
  {
   "cell_type": "markdown",
   "id": "035a6e30",
   "metadata": {},
   "source": [
    "nombre_infected       660\n",
    "nombre_sain          2002\n",
    "nombre_exposed        322\n",
    "nombre_recovered    17016\n",
    "Name: 191, dtype: int64"
   ]
  },
  {
   "cell_type": "markdown",
   "id": "822a141e",
   "metadata": {},
   "source": [
    "nombre_infected       663\n",
    "nombre_sain          1998\n",
    "nombre_exposed        315\n",
    "nombre_recovered    17024\n",
    "Name: 192, dtype: int64"
   ]
  },
  {
   "cell_type": "markdown",
   "id": "71e18976",
   "metadata": {},
   "source": [
    "nombre_infected       637\n",
    "nombre_sain          1996\n",
    "nombre_exposed        325\n",
    "nombre_recovered    17042\n",
    "Name: 193, dtype: int64"
   ]
  },
  {
   "cell_type": "markdown",
   "id": "fddaeee8",
   "metadata": {},
   "source": [
    "nombre_infected       632\n",
    "nombre_sain          2010\n",
    "nombre_exposed        316\n",
    "nombre_recovered    17042\n",
    "Name: 194, dtype: int64"
   ]
  },
  {
   "cell_type": "markdown",
   "id": "810df629",
   "metadata": {},
   "source": [
    "nombre_infected       637\n",
    "nombre_sain          2032\n",
    "nombre_exposed        308\n",
    "nombre_recovered    17023\n",
    "Name: 195, dtype: int64"
   ]
  },
  {
   "cell_type": "markdown",
   "id": "bdd1731a",
   "metadata": {},
   "source": [
    "nombre_infected       638\n",
    "nombre_sain          2045\n",
    "nombre_exposed        297\n",
    "nombre_recovered    17020\n",
    "Name: 196, dtype: int64"
   ]
  },
  {
   "cell_type": "markdown",
   "id": "da29897a",
   "metadata": {},
   "source": [
    "nombre_infected       623\n",
    "nombre_sain          2080\n",
    "nombre_exposed        291\n",
    "nombre_recovered    17006\n",
    "Name: 197, dtype: int64"
   ]
  },
  {
   "cell_type": "markdown",
   "id": "8b6e1936",
   "metadata": {},
   "source": [
    "nombre_infected       609\n",
    "nombre_sain          2113\n",
    "nombre_exposed        281\n",
    "nombre_recovered    16997\n",
    "Name: 198, dtype: int64"
   ]
  },
  {
   "cell_type": "markdown",
   "id": "fbc82392",
   "metadata": {},
   "source": [
    "nombre_infected       597\n",
    "nombre_sain          2119\n",
    "nombre_exposed        313\n",
    "nombre_recovered    16971\n",
    "Name: 199, dtype: int64"
   ]
  },
  {
   "cell_type": "markdown",
   "id": "23fcc522",
   "metadata": {},
   "source": [
    "nombre_infected       592\n",
    "nombre_sain          2149\n",
    "nombre_exposed        308\n",
    "nombre_recovered    16951\n",
    "Name: 200, dtype: int64"
   ]
  },
  {
   "cell_type": "markdown",
   "id": "c1f48979",
   "metadata": {},
   "source": [
    "nombre_infected       578\n",
    "nombre_sain          2164\n",
    "nombre_exposed        311\n",
    "nombre_recovered    16947\n",
    "Name: 201, dtype: int64"
   ]
  },
  {
   "cell_type": "markdown",
   "id": "616dcf61",
   "metadata": {},
   "source": [
    "nombre_infected       548\n",
    "nombre_sain          2171\n",
    "nombre_exposed        352\n",
    "nombre_recovered    16929\n",
    "Name: 202, dtype: int64"
   ]
  },
  {
   "cell_type": "markdown",
   "id": "fc5debbc",
   "metadata": {},
   "source": [
    "nombre_infected       568\n",
    "nombre_sain          2198\n",
    "nombre_exposed        322\n",
    "nombre_recovered    16912\n",
    "Name: 203, dtype: int64"
   ]
  },
  {
   "cell_type": "markdown",
   "id": "b2b26f7e",
   "metadata": {},
   "source": [
    "nombre_infected       562\n",
    "nombre_sain          2208\n",
    "nombre_exposed        330\n",
    "nombre_recovered    16900\n",
    "Name: 204, dtype: int64"
   ]
  },
  {
   "cell_type": "markdown",
   "id": "dd48e143",
   "metadata": {},
   "source": [
    "nombre_infected       554\n",
    "nombre_sain          2239\n",
    "nombre_exposed        332\n",
    "nombre_recovered    16875\n",
    "Name: 205, dtype: int64"
   ]
  },
  {
   "cell_type": "markdown",
   "id": "959c3999",
   "metadata": {},
   "source": [
    "nombre_infected       561\n",
    "nombre_sain          2285\n",
    "nombre_exposed        317\n",
    "nombre_recovered    16837\n",
    "Name: 206, dtype: int64"
   ]
  },
  {
   "cell_type": "markdown",
   "id": "7dc864fe",
   "metadata": {},
   "source": [
    "nombre_infected       571\n",
    "nombre_sain          2301\n",
    "nombre_exposed        299\n",
    "nombre_recovered    16829\n",
    "Name: 207, dtype: int64"
   ]
  },
  {
   "cell_type": "markdown",
   "id": "63fd36a2",
   "metadata": {},
   "source": [
    "nombre_infected       575\n",
    "nombre_sain          2328\n",
    "nombre_exposed        306\n",
    "nombre_recovered    16791\n",
    "Name: 208, dtype: int64"
   ]
  },
  {
   "cell_type": "markdown",
   "id": "759863a4",
   "metadata": {},
   "source": [
    "nombre_infected       577\n",
    "nombre_sain          2360\n",
    "nombre_exposed        318\n",
    "nombre_recovered    16745\n",
    "Name: 209, dtype: int64"
   ]
  },
  {
   "cell_type": "markdown",
   "id": "940c8398",
   "metadata": {},
   "source": [
    "nombre_infected       562\n",
    "nombre_sain          2391\n",
    "nombre_exposed        330\n",
    "nombre_recovered    16717\n",
    "Name: 210, dtype: int64"
   ]
  },
  {
   "cell_type": "markdown",
   "id": "91d57ab2",
   "metadata": {},
   "source": [
    "nombre_infected       542\n",
    "nombre_sain          2428\n",
    "nombre_exposed        339\n",
    "nombre_recovered    16691\n",
    "Name: 211, dtype: int64"
   ]
  },
  {
   "cell_type": "markdown",
   "id": "c7cfbcc2",
   "metadata": {},
   "source": [
    "nombre_infected       540\n",
    "nombre_sain          2458\n",
    "nombre_exposed        347\n",
    "nombre_recovered    16655\n",
    "Name: 212, dtype: int64"
   ]
  },
  {
   "cell_type": "markdown",
   "id": "28550ee8",
   "metadata": {},
   "source": [
    "nombre_infected       543\n",
    "nombre_sain          2484\n",
    "nombre_exposed        353\n",
    "nombre_recovered    16620\n",
    "Name: 213, dtype: int64"
   ]
  },
  {
   "cell_type": "markdown",
   "id": "354a1040",
   "metadata": {},
   "source": [
    "nombre_infected       545\n",
    "nombre_sain          2514\n",
    "nombre_exposed        350\n",
    "nombre_recovered    16591\n",
    "Name: 214, dtype: int64"
   ]
  },
  {
   "cell_type": "markdown",
   "id": "0f8fb61b",
   "metadata": {},
   "source": [
    "nombre_infected       563\n",
    "nombre_sain          2533\n",
    "nombre_exposed        347\n",
    "nombre_recovered    16557\n",
    "Name: 215, dtype: int64"
   ]
  },
  {
   "cell_type": "markdown",
   "id": "5d938a83",
   "metadata": {},
   "source": [
    "nombre_infected       582\n",
    "nombre_sain          2550\n",
    "nombre_exposed        323\n",
    "nombre_recovered    16545\n",
    "Name: 216, dtype: int64"
   ]
  },
  {
   "cell_type": "markdown",
   "id": "b75df273",
   "metadata": {},
   "source": [
    "nombre_infected       571\n",
    "nombre_sain          2563\n",
    "nombre_exposed        351\n",
    "nombre_recovered    16515\n",
    "Name: 217, dtype: int64"
   ]
  },
  {
   "cell_type": "markdown",
   "id": "b57de9a0",
   "metadata": {},
   "source": [
    "nombre_infected       574\n",
    "nombre_sain          2588\n",
    "nombre_exposed        365\n",
    "nombre_recovered    16473\n",
    "Name: 218, dtype: int64"
   ]
  },
  {
   "cell_type": "markdown",
   "id": "dbbdca0c",
   "metadata": {},
   "source": [
    "nombre_infected       569\n",
    "nombre_sain          2606\n",
    "nombre_exposed        392\n",
    "nombre_recovered    16433\n",
    "Name: 219, dtype: int64"
   ]
  },
  {
   "cell_type": "markdown",
   "id": "5956505f",
   "metadata": {},
   "source": [
    "nombre_infected       579\n",
    "nombre_sain          2628\n",
    "nombre_exposed        389\n",
    "nombre_recovered    16404\n",
    "Name: 220, dtype: int64"
   ]
  },
  {
   "cell_type": "markdown",
   "id": "8b9727b2",
   "metadata": {},
   "source": [
    "nombre_infected       597\n",
    "nombre_sain          2618\n",
    "nombre_exposed        374\n",
    "nombre_recovered    16411\n",
    "Name: 221, dtype: int64"
   ]
  },
  {
   "cell_type": "markdown",
   "id": "aad200a8",
   "metadata": {},
   "source": [
    "nombre_infected       608\n",
    "nombre_sain          2615\n",
    "nombre_exposed        389\n",
    "nombre_recovered    16388\n",
    "Name: 222, dtype: int64"
   ]
  },
  {
   "cell_type": "markdown",
   "id": "b2f3669d",
   "metadata": {},
   "source": [
    "nombre_infected       605\n",
    "nombre_sain          2606\n",
    "nombre_exposed        417\n",
    "nombre_recovered    16372\n",
    "Name: 223, dtype: int64"
   ]
  },
  {
   "cell_type": "markdown",
   "id": "019a250f",
   "metadata": {},
   "source": [
    "nombre_infected       599\n",
    "nombre_sain          2619\n",
    "nombre_exposed        455\n",
    "nombre_recovered    16327\n",
    "Name: 224, dtype: int64"
   ]
  },
  {
   "cell_type": "markdown",
   "id": "6a099927",
   "metadata": {},
   "source": [
    "nombre_infected       635\n",
    "nombre_sain          2597\n",
    "nombre_exposed        460\n",
    "nombre_recovered    16308\n",
    "Name: 225, dtype: int64"
   ]
  },
  {
   "cell_type": "markdown",
   "id": "dec86029",
   "metadata": {},
   "source": [
    "nombre_infected       649\n",
    "nombre_sain          2600\n",
    "nombre_exposed        478\n",
    "nombre_recovered    16273\n",
    "Name: 226, dtype: int64"
   ]
  },
  {
   "cell_type": "markdown",
   "id": "cf3391b6",
   "metadata": {},
   "source": [
    "nombre_infected       692\n",
    "nombre_sain          2594\n",
    "nombre_exposed        464\n",
    "nombre_recovered    16250\n",
    "Name: 227, dtype: int64"
   ]
  },
  {
   "cell_type": "markdown",
   "id": "9d346f5f",
   "metadata": {},
   "source": [
    "nombre_infected       709\n",
    "nombre_sain          2563\n",
    "nombre_exposed        483\n",
    "nombre_recovered    16245\n",
    "Name: 228, dtype: int64"
   ]
  },
  {
   "cell_type": "markdown",
   "id": "1c419e37",
   "metadata": {},
   "source": [
    "nombre_infected       721\n",
    "nombre_sain          2587\n",
    "nombre_exposed        465\n",
    "nombre_recovered    16227\n",
    "Name: 229, dtype: int64"
   ]
  },
  {
   "cell_type": "markdown",
   "id": "d436b92d",
   "metadata": {},
   "source": [
    "nombre_infected       746\n",
    "nombre_sain          2570\n",
    "nombre_exposed        458\n",
    "nombre_recovered    16226\n",
    "Name: 230, dtype: int64"
   ]
  },
  {
   "cell_type": "markdown",
   "id": "eaec752f",
   "metadata": {},
   "source": [
    "nombre_infected       762\n",
    "nombre_sain          2533\n",
    "nombre_exposed        481\n",
    "nombre_recovered    16224\n",
    "Name: 231, dtype: int64"
   ]
  },
  {
   "cell_type": "markdown",
   "id": "9f999f00",
   "metadata": {},
   "source": [
    "nombre_infected       769\n",
    "nombre_sain          2508\n",
    "nombre_exposed        482\n",
    "nombre_recovered    16241\n",
    "Name: 232, dtype: int64"
   ]
  },
  {
   "cell_type": "markdown",
   "id": "d6f88012",
   "metadata": {},
   "source": [
    "nombre_infected       798\n",
    "nombre_sain          2489\n",
    "nombre_exposed        482\n",
    "nombre_recovered    16231\n",
    "Name: 233, dtype: int64"
   ]
  },
  {
   "cell_type": "markdown",
   "id": "9df42ded",
   "metadata": {},
   "source": [
    "nombre_infected       786\n",
    "nombre_sain          2462\n",
    "nombre_exposed        498\n",
    "nombre_recovered    16254\n",
    "Name: 234, dtype: int64"
   ]
  },
  {
   "cell_type": "markdown",
   "id": "28431427",
   "metadata": {},
   "source": [
    "nombre_infected       784\n",
    "nombre_sain          2439\n",
    "nombre_exposed        492\n",
    "nombre_recovered    16285\n",
    "Name: 235, dtype: int64"
   ]
  },
  {
   "cell_type": "markdown",
   "id": "e61feedb",
   "metadata": {},
   "source": [
    "nombre_infected       816\n",
    "nombre_sain          2438\n",
    "nombre_exposed        467\n",
    "nombre_recovered    16279\n",
    "Name: 236, dtype: int64"
   ]
  },
  {
   "cell_type": "markdown",
   "id": "7ce7373f",
   "metadata": {},
   "source": [
    "nombre_infected       815\n",
    "nombre_sain          2406\n",
    "nombre_exposed        492\n",
    "nombre_recovered    16287\n",
    "Name: 237, dtype: int64"
   ]
  },
  {
   "cell_type": "markdown",
   "id": "0f67be82",
   "metadata": {},
   "source": [
    "nombre_infected       827\n",
    "nombre_sain          2373\n",
    "nombre_exposed        507\n",
    "nombre_recovered    16293\n",
    "Name: 238, dtype: int64"
   ]
  },
  {
   "cell_type": "markdown",
   "id": "698287ac",
   "metadata": {},
   "source": [
    "nombre_infected       847\n",
    "nombre_sain          2314\n",
    "nombre_exposed        512\n",
    "nombre_recovered    16327\n",
    "Name: 239, dtype: int64"
   ]
  },
  {
   "cell_type": "markdown",
   "id": "e10e8a49",
   "metadata": {},
   "source": [
    "nombre_infected       847\n",
    "nombre_sain          2272\n",
    "nombre_exposed        530\n",
    "nombre_recovered    16351\n",
    "Name: 240, dtype: int64"
   ]
  },
  {
   "cell_type": "markdown",
   "id": "ad5f8a16",
   "metadata": {},
   "source": [
    "nombre_infected       881\n",
    "nombre_sain          2252\n",
    "nombre_exposed        532\n",
    "nombre_recovered    16335\n",
    "Name: 241, dtype: int64"
   ]
  },
  {
   "cell_type": "markdown",
   "id": "6348d5c3",
   "metadata": {},
   "source": [
    "nombre_infected       866\n",
    "nombre_sain          2223\n",
    "nombre_exposed        544\n",
    "nombre_recovered    16367\n",
    "Name: 242, dtype: int64"
   ]
  },
  {
   "cell_type": "markdown",
   "id": "ae75dce1",
   "metadata": {},
   "source": [
    "nombre_infected       894\n",
    "nombre_sain          2205\n",
    "nombre_exposed        511\n",
    "nombre_recovered    16390\n",
    "Name: 243, dtype: int64"
   ]
  },
  {
   "cell_type": "markdown",
   "id": "01854aa3",
   "metadata": {},
   "source": [
    "nombre_infected       918\n",
    "nombre_sain          2174\n",
    "nombre_exposed        495\n",
    "nombre_recovered    16413\n",
    "Name: 244, dtype: int64"
   ]
  },
  {
   "cell_type": "markdown",
   "id": "e1bbaadf",
   "metadata": {},
   "source": [
    "nombre_infected       902\n",
    "nombre_sain          2159\n",
    "nombre_exposed        496\n",
    "nombre_recovered    16443\n",
    "Name: 245, dtype: int64"
   ]
  },
  {
   "cell_type": "markdown",
   "id": "7c471358",
   "metadata": {},
   "source": [
    "nombre_infected       916\n",
    "nombre_sain          2146\n",
    "nombre_exposed        463\n",
    "nombre_recovered    16475\n",
    "Name: 246, dtype: int64"
   ]
  },
  {
   "cell_type": "markdown",
   "id": "c91f6dd8",
   "metadata": {},
   "source": [
    "nombre_infected       912\n",
    "nombre_sain          2131\n",
    "nombre_exposed        471\n",
    "nombre_recovered    16486\n",
    "Name: 247, dtype: int64"
   ]
  },
  {
   "cell_type": "markdown",
   "id": "47f96ef9",
   "metadata": {},
   "source": [
    "nombre_infected       899\n",
    "nombre_sain          2081\n",
    "nombre_exposed        496\n",
    "nombre_recovered    16524\n",
    "Name: 248, dtype: int64"
   ]
  },
  {
   "cell_type": "markdown",
   "id": "6722dde8",
   "metadata": {},
   "source": [
    "nombre_infected       882\n",
    "nombre_sain          2042\n",
    "nombre_exposed        505\n",
    "nombre_recovered    16571\n",
    "Name: 249, dtype: int64"
   ]
  },
  {
   "cell_type": "markdown",
   "id": "0e205bda",
   "metadata": {},
   "source": [
    "nombre_infected       886\n",
    "nombre_sain          2038\n",
    "nombre_exposed        484\n",
    "nombre_recovered    16592\n",
    "Name: 250, dtype: int64"
   ]
  },
  {
   "cell_type": "markdown",
   "id": "6fa620dd",
   "metadata": {},
   "source": [
    "nombre_infected       888\n",
    "nombre_sain          2039\n",
    "nombre_exposed        460\n",
    "nombre_recovered    16613\n",
    "Name: 251, dtype: int64"
   ]
  },
  {
   "cell_type": "markdown",
   "id": "d539d608",
   "metadata": {},
   "source": [
    "nombre_infected       909\n",
    "nombre_sain          2061\n",
    "nombre_exposed        442\n",
    "nombre_recovered    16588\n",
    "Name: 252, dtype: int64"
   ]
  },
  {
   "cell_type": "markdown",
   "id": "f11ddb11",
   "metadata": {},
   "source": [
    "nombre_infected       906\n",
    "nombre_sain          2032\n",
    "nombre_exposed        450\n",
    "nombre_recovered    16612\n",
    "Name: 253, dtype: int64"
   ]
  },
  {
   "cell_type": "markdown",
   "id": "2afd53a9",
   "metadata": {},
   "source": [
    "nombre_infected       880\n",
    "nombre_sain          2040\n",
    "nombre_exposed        457\n",
    "nombre_recovered    16623\n",
    "Name: 254, dtype: int64"
   ]
  },
  {
   "cell_type": "markdown",
   "id": "d8e89065",
   "metadata": {},
   "source": [
    "nombre_infected       887\n",
    "nombre_sain          2030\n",
    "nombre_exposed        479\n",
    "nombre_recovered    16604\n",
    "Name: 255, dtype: int64"
   ]
  },
  {
   "cell_type": "markdown",
   "id": "0bd9382f",
   "metadata": {},
   "source": [
    "nombre_infected       895\n",
    "nombre_sain          2018\n",
    "nombre_exposed        462\n",
    "nombre_recovered    16625\n",
    "Name: 256, dtype: int64"
   ]
  },
  {
   "cell_type": "markdown",
   "id": "51d9c56b",
   "metadata": {},
   "source": [
    "nombre_infected       896\n",
    "nombre_sain          2003\n",
    "nombre_exposed        459\n",
    "nombre_recovered    16642\n",
    "Name: 257, dtype: int64"
   ]
  },
  {
   "cell_type": "markdown",
   "id": "867f3cc0",
   "metadata": {},
   "source": [
    "nombre_infected       891\n",
    "nombre_sain          2022\n",
    "nombre_exposed        446\n",
    "nombre_recovered    16641\n",
    "Name: 258, dtype: int64"
   ]
  },
  {
   "cell_type": "markdown",
   "id": "81157458",
   "metadata": {},
   "source": [
    "nombre_infected       902\n",
    "nombre_sain          1996\n",
    "nombre_exposed        434\n",
    "nombre_recovered    16668\n",
    "Name: 259, dtype: int64"
   ]
  },
  {
   "cell_type": "markdown",
   "id": "8b047ec4",
   "metadata": {},
   "source": [
    "nombre_infected       871\n",
    "nombre_sain          2009\n",
    "nombre_exposed        432\n",
    "nombre_recovered    16688\n",
    "Name: 260, dtype: int64"
   ]
  },
  {
   "cell_type": "markdown",
   "id": "00ff718b",
   "metadata": {},
   "source": [
    "nombre_infected       841\n",
    "nombre_sain          2023\n",
    "nombre_exposed        439\n",
    "nombre_recovered    16697\n",
    "Name: 261, dtype: int64"
   ]
  },
  {
   "cell_type": "markdown",
   "id": "33d42b43",
   "metadata": {},
   "source": [
    "nombre_infected       859\n",
    "nombre_sain          2022\n",
    "nombre_exposed        425\n",
    "nombre_recovered    16694\n",
    "Name: 262, dtype: int64"
   ]
  },
  {
   "cell_type": "markdown",
   "id": "8b565199",
   "metadata": {},
   "source": [
    "nombre_infected       839\n",
    "nombre_sain          2035\n",
    "nombre_exposed        446\n",
    "nombre_recovered    16680\n",
    "Name: 263, dtype: int64"
   ]
  },
  {
   "cell_type": "markdown",
   "id": "fe1637bf",
   "metadata": {},
   "source": [
    "nombre_infected       822\n",
    "nombre_sain          2059\n",
    "nombre_exposed        446\n",
    "nombre_recovered    16673\n",
    "Name: 264, dtype: int64"
   ]
  },
  {
   "cell_type": "markdown",
   "id": "cec49707",
   "metadata": {},
   "source": [
    "nombre_infected       805\n",
    "nombre_sain          2055\n",
    "nombre_exposed        487\n",
    "nombre_recovered    16653\n",
    "Name: 265, dtype: int64"
   ]
  },
  {
   "cell_type": "markdown",
   "id": "310f5d43",
   "metadata": {},
   "source": [
    "nombre_infected       818\n",
    "nombre_sain          2075\n",
    "nombre_exposed        459\n",
    "nombre_recovered    16648\n",
    "Name: 266, dtype: int64"
   ]
  },
  {
   "cell_type": "markdown",
   "id": "86708527",
   "metadata": {},
   "source": [
    "nombre_infected       826\n",
    "nombre_sain          2110\n",
    "nombre_exposed        432\n",
    "nombre_recovered    16632\n",
    "Name: 267, dtype: int64"
   ]
  },
  {
   "cell_type": "markdown",
   "id": "9400eacb",
   "metadata": {},
   "source": [
    "nombre_infected       819\n",
    "nombre_sain          2133\n",
    "nombre_exposed        410\n",
    "nombre_recovered    16638\n",
    "Name: 268, dtype: int64"
   ]
  },
  {
   "cell_type": "markdown",
   "id": "471c7fa0",
   "metadata": {},
   "source": [
    "nombre_infected       825\n",
    "nombre_sain          2161\n",
    "nombre_exposed        404\n",
    "nombre_recovered    16610\n",
    "Name: 269, dtype: int64"
   ]
  },
  {
   "cell_type": "markdown",
   "id": "43cc5f4b",
   "metadata": {},
   "source": [
    "nombre_infected       800\n",
    "nombre_sain          2173\n",
    "nombre_exposed        434\n",
    "nombre_recovered    16593\n",
    "Name: 270, dtype: int64"
   ]
  },
  {
   "cell_type": "markdown",
   "id": "843b0101",
   "metadata": {},
   "source": [
    "nombre_infected       798\n",
    "nombre_sain          2169\n",
    "nombre_exposed        440\n",
    "nombre_recovered    16593\n",
    "Name: 271, dtype: int64"
   ]
  },
  {
   "cell_type": "markdown",
   "id": "5f52d2bf",
   "metadata": {},
   "source": [
    "nombre_infected       821\n",
    "nombre_sain          2227\n",
    "nombre_exposed        429\n",
    "nombre_recovered    16523\n",
    "Name: 272, dtype: int64"
   ]
  },
  {
   "cell_type": "markdown",
   "id": "96f7b9fa",
   "metadata": {},
   "source": [
    "nombre_infected       803\n",
    "nombre_sain          2259\n",
    "nombre_exposed        455\n",
    "nombre_recovered    16483\n",
    "Name: 273, dtype: int64"
   ]
  },
  {
   "cell_type": "markdown",
   "id": "8937d181",
   "metadata": {},
   "source": [
    "nombre_infected       789\n",
    "nombre_sain          2303\n",
    "nombre_exposed        489\n",
    "nombre_recovered    16419\n",
    "Name: 274, dtype: int64"
   ]
  },
  {
   "cell_type": "markdown",
   "id": "7a514986",
   "metadata": {},
   "source": [
    "nombre_infected       788\n",
    "nombre_sain          2332\n",
    "nombre_exposed        500\n",
    "nombre_recovered    16380\n",
    "Name: 275, dtype: int64"
   ]
  },
  {
   "cell_type": "markdown",
   "id": "b73cc44a",
   "metadata": {},
   "source": [
    "nombre_infected       795\n",
    "nombre_sain          2393\n",
    "nombre_exposed        507\n",
    "nombre_recovered    16305\n",
    "Name: 276, dtype: int64"
   ]
  },
  {
   "cell_type": "markdown",
   "id": "35095130",
   "metadata": {},
   "source": [
    "nombre_infected       779\n",
    "nombre_sain          2460\n",
    "nombre_exposed        525\n",
    "nombre_recovered    16236\n",
    "Name: 277, dtype: int64"
   ]
  },
  {
   "cell_type": "markdown",
   "id": "1b885b91",
   "metadata": {},
   "source": [
    "nombre_infected       792\n",
    "nombre_sain          2498\n",
    "nombre_exposed        526\n",
    "nombre_recovered    16184\n",
    "Name: 278, dtype: int64"
   ]
  },
  {
   "cell_type": "markdown",
   "id": "a930acf5",
   "metadata": {},
   "source": [
    "nombre_infected       805\n",
    "nombre_sain          2514\n",
    "nombre_exposed        529\n",
    "nombre_recovered    16152\n",
    "Name: 279, dtype: int64"
   ]
  },
  {
   "cell_type": "markdown",
   "id": "8c23072f",
   "metadata": {},
   "source": [
    "nombre_infected       835\n",
    "nombre_sain          2546\n",
    "nombre_exposed        508\n",
    "nombre_recovered    16111\n",
    "Name: 280, dtype: int64"
   ]
  },
  {
   "cell_type": "markdown",
   "id": "fea408e2",
   "metadata": {},
   "source": [
    "nombre_infected       833\n",
    "nombre_sain          2554\n",
    "nombre_exposed        528\n",
    "nombre_recovered    16085\n",
    "Name: 281, dtype: int64"
   ]
  },
  {
   "cell_type": "markdown",
   "id": "70a1040b",
   "metadata": {},
   "source": [
    "nombre_infected       854\n",
    "nombre_sain          2564\n",
    "nombre_exposed        540\n",
    "nombre_recovered    16042\n",
    "Name: 282, dtype: int64"
   ]
  },
  {
   "cell_type": "markdown",
   "id": "9e0fd63c",
   "metadata": {},
   "source": [
    "nombre_infected       847\n",
    "nombre_sain          2567\n",
    "nombre_exposed        560\n",
    "nombre_recovered    16026\n",
    "Name: 283, dtype: int64"
   ]
  },
  {
   "cell_type": "markdown",
   "id": "e374384c",
   "metadata": {},
   "source": [
    "nombre_infected       851\n",
    "nombre_sain          2573\n",
    "nombre_exposed        552\n",
    "nombre_recovered    16024\n",
    "Name: 284, dtype: int64"
   ]
  },
  {
   "cell_type": "markdown",
   "id": "2a413808",
   "metadata": {},
   "source": [
    "nombre_infected       839\n",
    "nombre_sain          2585\n",
    "nombre_exposed        565\n",
    "nombre_recovered    16011\n",
    "Name: 285, dtype: int64"
   ]
  },
  {
   "cell_type": "markdown",
   "id": "9c1848c1",
   "metadata": {},
   "source": [
    "nombre_infected       846\n",
    "nombre_sain          2593\n",
    "nombre_exposed        548\n",
    "nombre_recovered    16013\n",
    "Name: 286, dtype: int64"
   ]
  },
  {
   "cell_type": "markdown",
   "id": "62d03d41",
   "metadata": {},
   "source": [
    "nombre_infected       834\n",
    "nombre_sain          2590\n",
    "nombre_exposed        550\n",
    "nombre_recovered    16026\n",
    "Name: 287, dtype: int64"
   ]
  },
  {
   "cell_type": "markdown",
   "id": "c4f44ca9",
   "metadata": {},
   "source": [
    "nombre_infected       810\n",
    "nombre_sain          2565\n",
    "nombre_exposed        573\n",
    "nombre_recovered    16052\n",
    "Name: 288, dtype: int64"
   ]
  },
  {
   "cell_type": "markdown",
   "id": "de0e0d88",
   "metadata": {},
   "source": [
    "nombre_infected       818\n",
    "nombre_sain          2560\n",
    "nombre_exposed        592\n",
    "nombre_recovered    16030\n",
    "Name: 289, dtype: int64"
   ]
  },
  {
   "cell_type": "markdown",
   "id": "586acc64",
   "metadata": {},
   "source": [
    "nombre_infected       860\n",
    "nombre_sain          2564\n",
    "nombre_exposed        548\n",
    "nombre_recovered    16028\n",
    "Name: 290, dtype: int64"
   ]
  },
  {
   "cell_type": "markdown",
   "id": "fb4fc1ed",
   "metadata": {},
   "source": [
    "nombre_infected       879\n",
    "nombre_sain          2567\n",
    "nombre_exposed        550\n",
    "nombre_recovered    16004\n",
    "Name: 291, dtype: int64"
   ]
  },
  {
   "cell_type": "markdown",
   "id": "cc453ced",
   "metadata": {},
   "source": [
    "nombre_infected       879\n",
    "nombre_sain          2556\n",
    "nombre_exposed        578\n",
    "nombre_recovered    15987\n",
    "Name: 292, dtype: int64"
   ]
  },
  {
   "cell_type": "markdown",
   "id": "cc570557",
   "metadata": {},
   "source": [
    "nombre_infected       886\n",
    "nombre_sain          2548\n",
    "nombre_exposed        598\n",
    "nombre_recovered    15968\n",
    "Name: 293, dtype: int64"
   ]
  },
  {
   "cell_type": "markdown",
   "id": "b2e4431b",
   "metadata": {},
   "source": [
    "nombre_infected       917\n",
    "nombre_sain          2563\n",
    "nombre_exposed        578\n",
    "nombre_recovered    15942\n",
    "Name: 294, dtype: int64"
   ]
  },
  {
   "cell_type": "markdown",
   "id": "13a53516",
   "metadata": {},
   "source": [
    "nombre_infected       913\n",
    "nombre_sain          2575\n",
    "nombre_exposed        585\n",
    "nombre_recovered    15927\n",
    "Name: 295, dtype: int64"
   ]
  },
  {
   "cell_type": "markdown",
   "id": "b9f21c20",
   "metadata": {},
   "source": [
    "nombre_infected       906\n",
    "nombre_sain          2570\n",
    "nombre_exposed        607\n",
    "nombre_recovered    15917\n",
    "Name: 296, dtype: int64"
   ]
  },
  {
   "cell_type": "markdown",
   "id": "d62fa2fc",
   "metadata": {},
   "source": [
    "nombre_infected       911\n",
    "nombre_sain          2551\n",
    "nombre_exposed        599\n",
    "nombre_recovered    15939\n",
    "Name: 297, dtype: int64"
   ]
  },
  {
   "cell_type": "markdown",
   "id": "1fc6fa41",
   "metadata": {},
   "source": [
    "nombre_infected       927\n",
    "nombre_sain          2540\n",
    "nombre_exposed        597\n",
    "nombre_recovered    15936\n",
    "Name: 298, dtype: int64"
   ]
  },
  {
   "cell_type": "markdown",
   "id": "62475918",
   "metadata": {},
   "source": [
    "nombre_infected       942\n",
    "nombre_sain          2515\n",
    "nombre_exposed        593\n",
    "nombre_recovered    15950\n",
    "Name: 299, dtype: int64"
   ]
  },
  {
   "cell_type": "markdown",
   "id": "74e9ba54",
   "metadata": {},
   "source": [
    "nombre_infected       978\n",
    "nombre_sain          2497\n",
    "nombre_exposed        598\n",
    "nombre_recovered    15927\n",
    "Name: 300, dtype: int64"
   ]
  },
  {
   "cell_type": "markdown",
   "id": "0b0dd836",
   "metadata": {},
   "source": [
    "nombre_infected      1003\n",
    "nombre_sain          2468\n",
    "nombre_exposed        590\n",
    "nombre_recovered    15939\n",
    "Name: 301, dtype: int64"
   ]
  },
  {
   "cell_type": "markdown",
   "id": "fdb565ef",
   "metadata": {},
   "source": [
    "nombre_infected       979\n",
    "nombre_sain          2433\n",
    "nombre_exposed        615\n",
    "nombre_recovered    15973\n",
    "Name: 302, dtype: int64"
   ]
  },
  {
   "cell_type": "markdown",
   "id": "df0544d0",
   "metadata": {},
   "source": [
    "nombre_infected       991\n",
    "nombre_sain          2375\n",
    "nombre_exposed        622\n",
    "nombre_recovered    16012\n",
    "Name: 303, dtype: int64"
   ]
  },
  {
   "cell_type": "markdown",
   "id": "7c7c13e7",
   "metadata": {},
   "source": [
    "nombre_infected       981\n",
    "nombre_sain          2341\n",
    "nombre_exposed        627\n",
    "nombre_recovered    16051\n",
    "Name: 304, dtype: int64"
   ]
  },
  {
   "cell_type": "markdown",
   "id": "1276a880",
   "metadata": {},
   "source": [
    "nombre_infected      1010\n",
    "nombre_sain          2302\n",
    "nombre_exposed        608\n",
    "nombre_recovered    16080\n",
    "Name: 305, dtype: int64"
   ]
  },
  {
   "cell_type": "markdown",
   "id": "466f3752",
   "metadata": {},
   "source": [
    "nombre_infected       996\n",
    "nombre_sain          2257\n",
    "nombre_exposed        636\n",
    "nombre_recovered    16111\n",
    "Name: 306, dtype: int64"
   ]
  },
  {
   "cell_type": "markdown",
   "id": "9341fb7f",
   "metadata": {},
   "source": [
    "nombre_infected      1012\n",
    "nombre_sain          2223\n",
    "nombre_exposed        637\n",
    "nombre_recovered    16128\n",
    "Name: 307, dtype: int64"
   ]
  },
  {
   "cell_type": "markdown",
   "id": "61210142",
   "metadata": {},
   "source": [
    "nombre_infected      1024\n",
    "nombre_sain          2183\n",
    "nombre_exposed        628\n",
    "nombre_recovered    16165\n",
    "Name: 308, dtype: int64"
   ]
  },
  {
   "cell_type": "markdown",
   "id": "ff8c032d",
   "metadata": {},
   "source": [
    "nombre_infected      1036\n",
    "nombre_sain          2172\n",
    "nombre_exposed        600\n",
    "nombre_recovered    16192\n",
    "Name: 309, dtype: int64"
   ]
  },
  {
   "cell_type": "markdown",
   "id": "d98448c6",
   "metadata": {},
   "source": [
    "nombre_infected      1012\n",
    "nombre_sain          2150\n",
    "nombre_exposed        599\n",
    "nombre_recovered    16239\n",
    "Name: 310, dtype: int64"
   ]
  },
  {
   "cell_type": "markdown",
   "id": "076b8f17",
   "metadata": {},
   "source": [
    "nombre_infected      1008\n",
    "nombre_sain          2142\n",
    "nombre_exposed        569\n",
    "nombre_recovered    16281\n",
    "Name: 311, dtype: int64"
   ]
  },
  {
   "cell_type": "markdown",
   "id": "7a41bbfc",
   "metadata": {},
   "source": [
    "nombre_infected       990\n",
    "nombre_sain          2129\n",
    "nombre_exposed        563\n",
    "nombre_recovered    16318\n",
    "Name: 312, dtype: int64"
   ]
  },
  {
   "cell_type": "markdown",
   "id": "6557d83a",
   "metadata": {},
   "source": [
    "nombre_infected       982\n",
    "nombre_sain          2101\n",
    "nombre_exposed        565\n",
    "nombre_recovered    16352\n",
    "Name: 313, dtype: int64"
   ]
  },
  {
   "cell_type": "markdown",
   "id": "44f23fc4",
   "metadata": {},
   "source": [
    "nombre_infected       983\n",
    "nombre_sain          2097\n",
    "nombre_exposed        558\n",
    "nombre_recovered    16362\n",
    "Name: 314, dtype: int64"
   ]
  },
  {
   "cell_type": "markdown",
   "id": "ad8da42f",
   "metadata": {},
   "source": [
    "nombre_infected       967\n",
    "nombre_sain          2101\n",
    "nombre_exposed        553\n",
    "nombre_recovered    16379\n",
    "Name: 315, dtype: int64"
   ]
  },
  {
   "cell_type": "markdown",
   "id": "d55f9d43",
   "metadata": {},
   "source": [
    "nombre_infected       957\n",
    "nombre_sain          2125\n",
    "nombre_exposed        525\n",
    "nombre_recovered    16393\n",
    "Name: 316, dtype: int64"
   ]
  },
  {
   "cell_type": "markdown",
   "id": "1cff565f",
   "metadata": {},
   "source": [
    "nombre_infected       967\n",
    "nombre_sain          2145\n",
    "nombre_exposed        511\n",
    "nombre_recovered    16377\n",
    "Name: 317, dtype: int64"
   ]
  },
  {
   "cell_type": "markdown",
   "id": "9db6432f",
   "metadata": {},
   "source": [
    "nombre_infected       941\n",
    "nombre_sain          2150\n",
    "nombre_exposed        521\n",
    "nombre_recovered    16388\n",
    "Name: 318, dtype: int64"
   ]
  },
  {
   "cell_type": "markdown",
   "id": "6a3e60e1",
   "metadata": {},
   "source": [
    "nombre_infected       930\n",
    "nombre_sain          2157\n",
    "nombre_exposed        534\n",
    "nombre_recovered    16379\n",
    "Name: 319, dtype: int64"
   ]
  },
  {
   "cell_type": "markdown",
   "id": "d4455dea",
   "metadata": {},
   "source": [
    "nombre_infected       901\n",
    "nombre_sain          2165\n",
    "nombre_exposed        550\n",
    "nombre_recovered    16384\n",
    "Name: 320, dtype: int64"
   ]
  },
  {
   "cell_type": "markdown",
   "id": "b6ae1c68",
   "metadata": {},
   "source": [
    "nombre_infected       914\n",
    "nombre_sain          2188\n",
    "nombre_exposed        529\n",
    "nombre_recovered    16369\n",
    "Name: 321, dtype: int64"
   ]
  },
  {
   "cell_type": "markdown",
   "id": "0dc78756",
   "metadata": {},
   "source": [
    "nombre_infected       904\n",
    "nombre_sain          2204\n",
    "nombre_exposed        528\n",
    "nombre_recovered    16364\n",
    "Name: 322, dtype: int64"
   ]
  },
  {
   "cell_type": "markdown",
   "id": "7e545304",
   "metadata": {},
   "source": [
    "nombre_infected       923\n",
    "nombre_sain          2233\n",
    "nombre_exposed        502\n",
    "nombre_recovered    16342\n",
    "Name: 323, dtype: int64"
   ]
  },
  {
   "cell_type": "markdown",
   "id": "b6038380",
   "metadata": {},
   "source": [
    "nombre_infected       931\n",
    "nombre_sain          2238\n",
    "nombre_exposed        501\n",
    "nombre_recovered    16330\n",
    "Name: 324, dtype: int64"
   ]
  },
  {
   "cell_type": "markdown",
   "id": "4f8cfc45",
   "metadata": {},
   "source": [
    "nombre_infected       912\n",
    "nombre_sain          2233\n",
    "nombre_exposed        515\n",
    "nombre_recovered    16340\n",
    "Name: 325, dtype: int64"
   ]
  },
  {
   "cell_type": "markdown",
   "id": "98a91147",
   "metadata": {},
   "source": [
    "nombre_infected       915\n",
    "nombre_sain          2236\n",
    "nombre_exposed        502\n",
    "nombre_recovered    16347\n",
    "Name: 326, dtype: int64"
   ]
  },
  {
   "cell_type": "markdown",
   "id": "760c1a64",
   "metadata": {},
   "source": [
    "nombre_infected       903\n",
    "nombre_sain          2231\n",
    "nombre_exposed        514\n",
    "nombre_recovered    16352\n",
    "Name: 327, dtype: int64"
   ]
  },
  {
   "cell_type": "markdown",
   "id": "03b38d50",
   "metadata": {},
   "source": [
    "nombre_infected       898\n",
    "nombre_sain          2244\n",
    "nombre_exposed        499\n",
    "nombre_recovered    16359\n",
    "Name: 328, dtype: int64"
   ]
  },
  {
   "cell_type": "markdown",
   "id": "e4d71c44",
   "metadata": {},
   "source": [
    "nombre_infected       911\n",
    "nombre_sain          2234\n",
    "nombre_exposed        508\n",
    "nombre_recovered    16347\n",
    "Name: 329, dtype: int64"
   ]
  },
  {
   "cell_type": "markdown",
   "id": "fb811c68",
   "metadata": {},
   "source": [
    "nombre_infected       886\n",
    "nombre_sain          2231\n",
    "nombre_exposed        510\n",
    "nombre_recovered    16373\n",
    "Name: 330, dtype: int64"
   ]
  },
  {
   "cell_type": "markdown",
   "id": "3a8ec8a5",
   "metadata": {},
   "source": [
    "nombre_infected       877\n",
    "nombre_sain          2224\n",
    "nombre_exposed        512\n",
    "nombre_recovered    16387\n",
    "Name: 331, dtype: int64"
   ]
  },
  {
   "cell_type": "markdown",
   "id": "628bc3e6",
   "metadata": {},
   "source": [
    "nombre_infected       915\n",
    "nombre_sain          2206\n",
    "nombre_exposed        481\n",
    "nombre_recovered    16398\n",
    "Name: 332, dtype: int64"
   ]
  },
  {
   "cell_type": "markdown",
   "id": "101529e2",
   "metadata": {},
   "source": [
    "nombre_infected       916\n",
    "nombre_sain          2223\n",
    "nombre_exposed        477\n",
    "nombre_recovered    16384\n",
    "Name: 333, dtype: int64"
   ]
  },
  {
   "cell_type": "markdown",
   "id": "6e0ddfc9",
   "metadata": {},
   "source": [
    "nombre_infected       890\n",
    "nombre_sain          2213\n",
    "nombre_exposed        480\n",
    "nombre_recovered    16417\n",
    "Name: 334, dtype: int64"
   ]
  },
  {
   "cell_type": "markdown",
   "id": "342087cc",
   "metadata": {},
   "source": [
    "nombre_infected       875\n",
    "nombre_sain          2243\n",
    "nombre_exposed        472\n",
    "nombre_recovered    16410\n",
    "Name: 335, dtype: int64"
   ]
  },
  {
   "cell_type": "markdown",
   "id": "f8ba5c27",
   "metadata": {},
   "source": [
    "nombre_infected       867\n",
    "nombre_sain          2254\n",
    "nombre_exposed        461\n",
    "nombre_recovered    16418\n",
    "Name: 336, dtype: int64"
   ]
  },
  {
   "cell_type": "markdown",
   "id": "0cf41fb0",
   "metadata": {},
   "source": [
    "nombre_infected       877\n",
    "nombre_sain          2254\n",
    "nombre_exposed        452\n",
    "nombre_recovered    16417\n",
    "Name: 337, dtype: int64"
   ]
  },
  {
   "cell_type": "markdown",
   "id": "13994f8b",
   "metadata": {},
   "source": [
    "nombre_infected       891\n",
    "nombre_sain          2226\n",
    "nombre_exposed        469\n",
    "nombre_recovered    16414\n",
    "Name: 338, dtype: int64"
   ]
  },
  {
   "cell_type": "markdown",
   "id": "9d12f1c4",
   "metadata": {},
   "source": [
    "nombre_infected       866\n",
    "nombre_sain          2171\n",
    "nombre_exposed        509\n",
    "nombre_recovered    16454\n",
    "Name: 339, dtype: int64"
   ]
  },
  {
   "cell_type": "markdown",
   "id": "88b9b709",
   "metadata": {},
   "source": [
    "nombre_infected       892\n",
    "nombre_sain          2157\n",
    "nombre_exposed        504\n",
    "nombre_recovered    16447\n",
    "Name: 340, dtype: int64"
   ]
  },
  {
   "cell_type": "markdown",
   "id": "9b10c554",
   "metadata": {},
   "source": [
    "nombre_infected       899\n",
    "nombre_sain          2133\n",
    "nombre_exposed        500\n",
    "nombre_recovered    16468\n",
    "Name: 341, dtype: int64"
   ]
  },
  {
   "cell_type": "markdown",
   "id": "4827fcbc",
   "metadata": {},
   "source": [
    "nombre_infected       903\n",
    "nombre_sain          2107\n",
    "nombre_exposed        496\n",
    "nombre_recovered    16494\n",
    "Name: 342, dtype: int64"
   ]
  },
  {
   "cell_type": "markdown",
   "id": "fa5a8c8c",
   "metadata": {},
   "source": [
    "nombre_infected       907\n",
    "nombre_sain          2122\n",
    "nombre_exposed        486\n",
    "nombre_recovered    16485\n",
    "Name: 343, dtype: int64"
   ]
  },
  {
   "cell_type": "markdown",
   "id": "9cdd6867",
   "metadata": {},
   "source": [
    "nombre_infected       914\n",
    "nombre_sain          2103\n",
    "nombre_exposed        481\n",
    "nombre_recovered    16502\n",
    "Name: 344, dtype: int64"
   ]
  },
  {
   "cell_type": "markdown",
   "id": "415afb13",
   "metadata": {},
   "source": [
    "nombre_infected       925\n",
    "nombre_sain          2088\n",
    "nombre_exposed        479\n",
    "nombre_recovered    16508\n",
    "Name: 345, dtype: int64"
   ]
  },
  {
   "cell_type": "markdown",
   "id": "1325af18",
   "metadata": {},
   "source": [
    "nombre_infected       919\n",
    "nombre_sain          2091\n",
    "nombre_exposed        475\n",
    "nombre_recovered    16515\n",
    "Name: 346, dtype: int64"
   ]
  },
  {
   "cell_type": "markdown",
   "id": "502f0875",
   "metadata": {},
   "source": [
    "nombre_infected       908\n",
    "nombre_sain          2082\n",
    "nombre_exposed        466\n",
    "nombre_recovered    16544\n",
    "Name: 347, dtype: int64"
   ]
  },
  {
   "cell_type": "markdown",
   "id": "b607cd57",
   "metadata": {},
   "source": [
    "nombre_infected       919\n",
    "nombre_sain          2063\n",
    "nombre_exposed        470\n",
    "nombre_recovered    16548\n",
    "Name: 348, dtype: int64"
   ]
  },
  {
   "cell_type": "markdown",
   "id": "5b2a1a2d",
   "metadata": {},
   "source": [
    "nombre_infected       884\n",
    "nombre_sain          2053\n",
    "nombre_exposed        499\n",
    "nombre_recovered    16564\n",
    "Name: 349, dtype: int64"
   ]
  },
  {
   "cell_type": "markdown",
   "id": "9ed251a0",
   "metadata": {},
   "source": [
    "nombre_infected       860\n",
    "nombre_sain          2055\n",
    "nombre_exposed        496\n",
    "nombre_recovered    16589\n",
    "Name: 350, dtype: int64"
   ]
  },
  {
   "cell_type": "markdown",
   "id": "9a6b3613",
   "metadata": {},
   "source": [
    "nombre_infected       881\n",
    "nombre_sain          2059\n",
    "nombre_exposed        491\n",
    "nombre_recovered    16569\n",
    "Name: 351, dtype: int64"
   ]
  },
  {
   "cell_type": "markdown",
   "id": "85265355",
   "metadata": {},
   "source": [
    "nombre_infected       875\n",
    "nombre_sain          2057\n",
    "nombre_exposed        491\n",
    "nombre_recovered    16577\n",
    "Name: 352, dtype: int64"
   ]
  },
  {
   "cell_type": "markdown",
   "id": "db9fabc2",
   "metadata": {},
   "source": [
    "nombre_infected       886\n",
    "nombre_sain          2051\n",
    "nombre_exposed        472\n",
    "nombre_recovered    16591\n",
    "Name: 353, dtype: int64"
   ]
  },
  {
   "cell_type": "markdown",
   "id": "8635959d",
   "metadata": {},
   "source": [
    "nombre_infected       892\n",
    "nombre_sain          2020\n",
    "nombre_exposed        494\n",
    "nombre_recovered    16594\n",
    "Name: 354, dtype: int64"
   ]
  },
  {
   "cell_type": "markdown",
   "id": "25142a7e",
   "metadata": {},
   "source": [
    "nombre_infected       885\n",
    "nombre_sain          2059\n",
    "nombre_exposed        489\n",
    "nombre_recovered    16567\n",
    "Name: 355, dtype: int64"
   ]
  },
  {
   "cell_type": "markdown",
   "id": "ca73778b",
   "metadata": {},
   "source": [
    "nombre_infected       888\n",
    "nombre_sain          2086\n",
    "nombre_exposed        453\n",
    "nombre_recovered    16573\n",
    "Name: 356, dtype: int64"
   ]
  },
  {
   "cell_type": "markdown",
   "id": "fa75c8db",
   "metadata": {},
   "source": [
    "nombre_infected       901\n",
    "nombre_sain          2085\n",
    "nombre_exposed        440\n",
    "nombre_recovered    16574\n",
    "Name: 357, dtype: int64"
   ]
  },
  {
   "cell_type": "markdown",
   "id": "8f108dc3",
   "metadata": {},
   "source": [
    "nombre_infected       895\n",
    "nombre_sain          2088\n",
    "nombre_exposed        449\n",
    "nombre_recovered    16568\n",
    "Name: 358, dtype: int64"
   ]
  },
  {
   "cell_type": "markdown",
   "id": "f03bfd1c",
   "metadata": {},
   "source": [
    "nombre_infected       876\n",
    "nombre_sain          2106\n",
    "nombre_exposed        450\n",
    "nombre_recovered    16568\n",
    "Name: 359, dtype: int64"
   ]
  },
  {
   "cell_type": "markdown",
   "id": "c8708a78",
   "metadata": {},
   "source": [
    "nombre_infected       886\n",
    "nombre_sain          2123\n",
    "nombre_exposed        432\n",
    "nombre_recovered    16559\n",
    "Name: 360, dtype: int64"
   ]
  },
  {
   "cell_type": "markdown",
   "id": "3b5e5fdb",
   "metadata": {},
   "source": [
    "nombre_infected       891\n",
    "nombre_sain          2106\n",
    "nombre_exposed        441\n",
    "nombre_recovered    16562\n",
    "Name: 361, dtype: int64"
   ]
  },
  {
   "cell_type": "markdown",
   "id": "ef34d16a",
   "metadata": {},
   "source": [
    "nombre_infected       865\n",
    "nombre_sain          2131\n",
    "nombre_exposed        439\n",
    "nombre_recovered    16565\n",
    "Name: 362, dtype: int64"
   ]
  },
  {
   "cell_type": "markdown",
   "id": "b2d39d78",
   "metadata": {},
   "source": [
    "nombre_infected       851\n",
    "nombre_sain          2129\n",
    "nombre_exposed        446\n",
    "nombre_recovered    16574\n",
    "Name: 363, dtype: int64"
   ]
  },
  {
   "cell_type": "markdown",
   "id": "c71e6a65",
   "metadata": {},
   "source": [
    "nombre_infected       839\n",
    "nombre_sain          2135\n",
    "nombre_exposed        457\n",
    "nombre_recovered    16569\n",
    "Name: 364, dtype: int64"
   ]
  },
  {
   "cell_type": "markdown",
   "id": "2fb68c7d",
   "metadata": {},
   "source": [
    "nombre_infected       841\n",
    "nombre_sain          2139\n",
    "nombre_exposed        463\n",
    "nombre_recovered    16557\n",
    "Name: 365, dtype: int64"
   ]
  },
  {
   "cell_type": "markdown",
   "id": "c1e7ad99",
   "metadata": {},
   "source": [
    "nombre_infected       846\n",
    "nombre_sain          2154\n",
    "nombre_exposed        458\n",
    "nombre_recovered    16542\n",
    "Name: 366, dtype: int64"
   ]
  },
  {
   "cell_type": "markdown",
   "id": "774066a7",
   "metadata": {},
   "source": [
    "nombre_infected       844\n",
    "nombre_sain          2143\n",
    "nombre_exposed        459\n",
    "nombre_recovered    16554\n",
    "Name: 367, dtype: int64"
   ]
  },
  {
   "cell_type": "markdown",
   "id": "7d9886ef",
   "metadata": {},
   "source": [
    "nombre_infected       839\n",
    "nombre_sain          2127\n",
    "nombre_exposed        468\n",
    "nombre_recovered    16566\n",
    "Name: 368, dtype: int64"
   ]
  },
  {
   "cell_type": "markdown",
   "id": "70d78a19",
   "metadata": {},
   "source": [
    "nombre_infected       828\n",
    "nombre_sain          2133\n",
    "nombre_exposed        467\n",
    "nombre_recovered    16572\n",
    "Name: 369, dtype: int64"
   ]
  },
  {
   "cell_type": "markdown",
   "id": "2aec768c",
   "metadata": {},
   "source": [
    "nombre_infected       842\n",
    "nombre_sain          2140\n",
    "nombre_exposed        455\n",
    "nombre_recovered    16563\n",
    "Name: 370, dtype: int64"
   ]
  },
  {
   "cell_type": "markdown",
   "id": "8abf8fc6",
   "metadata": {},
   "source": [
    "nombre_infected       821\n",
    "nombre_sain          2136\n",
    "nombre_exposed        464\n",
    "nombre_recovered    16579\n",
    "Name: 371, dtype: int64"
   ]
  },
  {
   "cell_type": "markdown",
   "id": "50424a80",
   "metadata": {},
   "source": [
    "nombre_infected       815\n",
    "nombre_sain          2147\n",
    "nombre_exposed        458\n",
    "nombre_recovered    16580\n",
    "Name: 372, dtype: int64"
   ]
  },
  {
   "cell_type": "markdown",
   "id": "7d214576",
   "metadata": {},
   "source": [
    "nombre_infected       800\n",
    "nombre_sain          2176\n",
    "nombre_exposed        457\n",
    "nombre_recovered    16567\n",
    "Name: 373, dtype: int64"
   ]
  },
  {
   "cell_type": "markdown",
   "id": "718b8ed2",
   "metadata": {},
   "source": [
    "nombre_infected       804\n",
    "nombre_sain          2185\n",
    "nombre_exposed        462\n",
    "nombre_recovered    16549\n",
    "Name: 374, dtype: int64"
   ]
  },
  {
   "cell_type": "markdown",
   "id": "f8fd8d54",
   "metadata": {},
   "source": [
    "nombre_infected       816\n",
    "nombre_sain          2199\n",
    "nombre_exposed        449\n",
    "nombre_recovered    16536\n",
    "Name: 375, dtype: int64"
   ]
  },
  {
   "cell_type": "markdown",
   "id": "4ac77f39",
   "metadata": {},
   "source": [
    "nombre_infected       812\n",
    "nombre_sain          2222\n",
    "nombre_exposed        459\n",
    "nombre_recovered    16507\n",
    "Name: 376, dtype: int64"
   ]
  },
  {
   "cell_type": "markdown",
   "id": "f6a17dbd",
   "metadata": {},
   "source": [
    "nombre_infected       798\n",
    "nombre_sain          2234\n",
    "nombre_exposed        465\n",
    "nombre_recovered    16503\n",
    "Name: 377, dtype: int64"
   ]
  },
  {
   "cell_type": "markdown",
   "id": "a38628cf",
   "metadata": {},
   "source": [
    "nombre_infected       835\n",
    "nombre_sain          2225\n",
    "nombre_exposed        441\n",
    "nombre_recovered    16499\n",
    "Name: 378, dtype: int64"
   ]
  },
  {
   "cell_type": "markdown",
   "id": "2d082f79",
   "metadata": {},
   "source": [
    "nombre_infected       840\n",
    "nombre_sain          2226\n",
    "nombre_exposed        436\n",
    "nombre_recovered    16498\n",
    "Name: 379, dtype: int64"
   ]
  },
  {
   "cell_type": "markdown",
   "id": "a6841746",
   "metadata": {},
   "source": [
    "nombre_infected       819\n",
    "nombre_sain          2225\n",
    "nombre_exposed        452\n",
    "nombre_recovered    16504\n",
    "Name: 380, dtype: int64"
   ]
  },
  {
   "cell_type": "markdown",
   "id": "43c7b39d",
   "metadata": {},
   "source": [
    "nombre_infected       840\n",
    "nombre_sain          2230\n",
    "nombre_exposed        447\n",
    "nombre_recovered    16483\n",
    "Name: 381, dtype: int64"
   ]
  },
  {
   "cell_type": "markdown",
   "id": "9d937f0e",
   "metadata": {},
   "source": [
    "nombre_infected       811\n",
    "nombre_sain          2210\n",
    "nombre_exposed        482\n",
    "nombre_recovered    16497\n",
    "Name: 382, dtype: int64"
   ]
  },
  {
   "cell_type": "markdown",
   "id": "c17898c8",
   "metadata": {},
   "source": [
    "nombre_infected       812\n",
    "nombre_sain          2195\n",
    "nombre_exposed        486\n",
    "nombre_recovered    16507\n",
    "Name: 383, dtype: int64"
   ]
  },
  {
   "cell_type": "markdown",
   "id": "ee20cbe2",
   "metadata": {},
   "source": [
    "nombre_infected       831\n",
    "nombre_sain          2175\n",
    "nombre_exposed        472\n",
    "nombre_recovered    16522\n",
    "Name: 384, dtype: int64"
   ]
  },
  {
   "cell_type": "markdown",
   "id": "793d4b47",
   "metadata": {},
   "source": [
    "nombre_infected       844\n",
    "nombre_sain          2159\n",
    "nombre_exposed        465\n",
    "nombre_recovered    16532\n",
    "Name: 385, dtype: int64"
   ]
  },
  {
   "cell_type": "markdown",
   "id": "1c774075",
   "metadata": {},
   "source": [
    "nombre_infected       861\n",
    "nombre_sain          2162\n",
    "nombre_exposed        458\n",
    "nombre_recovered    16519\n",
    "Name: 386, dtype: int64"
   ]
  },
  {
   "cell_type": "markdown",
   "id": "15ef5cb7",
   "metadata": {},
   "source": [
    "nombre_infected       854\n",
    "nombre_sain          2174\n",
    "nombre_exposed        442\n",
    "nombre_recovered    16530\n",
    "Name: 387, dtype: int64"
   ]
  },
  {
   "cell_type": "markdown",
   "id": "d4c28092",
   "metadata": {},
   "source": [
    "nombre_infected       854\n",
    "nombre_sain          2177\n",
    "nombre_exposed        438\n",
    "nombre_recovered    16531\n",
    "Name: 388, dtype: int64"
   ]
  },
  {
   "cell_type": "markdown",
   "id": "4fb5406d",
   "metadata": {},
   "source": [
    "nombre_infected       847\n",
    "nombre_sain          2157\n",
    "nombre_exposed        461\n",
    "nombre_recovered    16535\n",
    "Name: 389, dtype: int64"
   ]
  },
  {
   "cell_type": "markdown",
   "id": "5ab182a3",
   "metadata": {},
   "source": [
    "nombre_infected       824\n",
    "nombre_sain          2169\n",
    "nombre_exposed        484\n",
    "nombre_recovered    16523\n",
    "Name: 390, dtype: int64"
   ]
  },
  {
   "cell_type": "markdown",
   "id": "d93aed85",
   "metadata": {},
   "source": [
    "nombre_infected       839\n",
    "nombre_sain          2186\n",
    "nombre_exposed        463\n",
    "nombre_recovered    16512\n",
    "Name: 391, dtype: int64"
   ]
  },
  {
   "cell_type": "markdown",
   "id": "470b1774",
   "metadata": {},
   "source": [
    "nombre_infected       824\n",
    "nombre_sain          2186\n",
    "nombre_exposed        474\n",
    "nombre_recovered    16516\n",
    "Name: 392, dtype: int64"
   ]
  },
  {
   "cell_type": "markdown",
   "id": "4fcf8ba9",
   "metadata": {},
   "source": [
    "nombre_infected       832\n",
    "nombre_sain          2176\n",
    "nombre_exposed        477\n",
    "nombre_recovered    16515\n",
    "Name: 393, dtype: int64"
   ]
  },
  {
   "cell_type": "markdown",
   "id": "47cf4d74",
   "metadata": {},
   "source": [
    "nombre_infected       833\n",
    "nombre_sain          2140\n",
    "nombre_exposed        521\n",
    "nombre_recovered    16506\n",
    "Name: 394, dtype: int64"
   ]
  },
  {
   "cell_type": "markdown",
   "id": "1b63bfc6",
   "metadata": {},
   "source": [
    "nombre_infected       839\n",
    "nombre_sain          2128\n",
    "nombre_exposed        520\n",
    "nombre_recovered    16513\n",
    "Name: 395, dtype: int64"
   ]
  },
  {
   "cell_type": "markdown",
   "id": "b57d3772",
   "metadata": {},
   "source": [
    "nombre_infected       859\n",
    "nombre_sain          2144\n",
    "nombre_exposed        501\n",
    "nombre_recovered    16496\n",
    "Name: 396, dtype: int64"
   ]
  },
  {
   "cell_type": "markdown",
   "id": "9df4fd02",
   "metadata": {},
   "source": [
    "nombre_infected       873\n",
    "nombre_sain          2141\n",
    "nombre_exposed        501\n",
    "nombre_recovered    16485\n",
    "Name: 397, dtype: int64"
   ]
  },
  {
   "cell_type": "markdown",
   "id": "946ab30f",
   "metadata": {},
   "source": [
    "nombre_infected       884\n",
    "nombre_sain          2120\n",
    "nombre_exposed        499\n",
    "nombre_recovered    16497\n",
    "Name: 398, dtype: int64"
   ]
  },
  {
   "cell_type": "markdown",
   "id": "bdb2a6e5",
   "metadata": {},
   "source": [
    "nombre_infected       877\n",
    "nombre_sain          2067\n",
    "nombre_exposed        513\n",
    "nombre_recovered    16543\n",
    "Name: 399, dtype: int64"
   ]
  },
  {
   "cell_type": "markdown",
   "id": "7ea0d564",
   "metadata": {},
   "source": [
    "nombre_infected       878\n",
    "nombre_sain          2089\n",
    "nombre_exposed        497\n",
    "nombre_recovered    16536\n",
    "Name: 400, dtype: int64"
   ]
  },
  {
   "cell_type": "markdown",
   "id": "312e4051",
   "metadata": {},
   "source": [
    "nombre_infected       870\n",
    "nombre_sain          2079\n",
    "nombre_exposed        503\n",
    "nombre_recovered    16548\n",
    "Name: 401, dtype: int64"
   ]
  },
  {
   "cell_type": "markdown",
   "id": "666b7575",
   "metadata": {},
   "source": [
    "nombre_infected       848\n",
    "nombre_sain          2068\n",
    "nombre_exposed        505\n",
    "nombre_recovered    16579\n",
    "Name: 402, dtype: int64"
   ]
  },
  {
   "cell_type": "markdown",
   "id": "f5edef54",
   "metadata": {},
   "source": [
    "nombre_infected       843\n",
    "nombre_sain          2079\n",
    "nombre_exposed        496\n",
    "nombre_recovered    16582\n",
    "Name: 403, dtype: int64"
   ]
  },
  {
   "cell_type": "markdown",
   "id": "ff5bc7a3",
   "metadata": {},
   "source": [
    "nombre_infected       865\n",
    "nombre_sain          2076\n",
    "nombre_exposed        477\n",
    "nombre_recovered    16582\n",
    "Name: 404, dtype: int64"
   ]
  },
  {
   "cell_type": "markdown",
   "id": "ff270aad",
   "metadata": {},
   "source": [
    "nombre_infected       868\n",
    "nombre_sain          2082\n",
    "nombre_exposed        477\n",
    "nombre_recovered    16573\n",
    "Name: 405, dtype: int64"
   ]
  },
  {
   "cell_type": "markdown",
   "id": "b2824e2f",
   "metadata": {},
   "source": [
    "nombre_infected       861\n",
    "nombre_sain          2097\n",
    "nombre_exposed        464\n",
    "nombre_recovered    16578\n",
    "Name: 406, dtype: int64"
   ]
  },
  {
   "cell_type": "markdown",
   "id": "ec155e88",
   "metadata": {},
   "source": [
    "nombre_infected       875\n",
    "nombre_sain          2091\n",
    "nombre_exposed        452\n",
    "nombre_recovered    16582\n",
    "Name: 407, dtype: int64"
   ]
  },
  {
   "cell_type": "markdown",
   "id": "93984fba",
   "metadata": {},
   "source": [
    "nombre_infected       858\n",
    "nombre_sain          2105\n",
    "nombre_exposed        474\n",
    "nombre_recovered    16563\n",
    "Name: 408, dtype: int64"
   ]
  },
  {
   "cell_type": "markdown",
   "id": "254ddbd7",
   "metadata": {},
   "source": [
    "nombre_infected       857\n",
    "nombre_sain          2130\n",
    "nombre_exposed        462\n",
    "nombre_recovered    16551\n",
    "Name: 409, dtype: int64"
   ]
  },
  {
   "cell_type": "markdown",
   "id": "5b576313",
   "metadata": {},
   "source": [
    "nombre_infected       847\n",
    "nombre_sain          2147\n",
    "nombre_exposed        455\n",
    "nombre_recovered    16551\n",
    "Name: 410, dtype: int64"
   ]
  },
  {
   "cell_type": "markdown",
   "id": "abd21077",
   "metadata": {},
   "source": [
    "nombre_infected       838\n",
    "nombre_sain          2142\n",
    "nombre_exposed        470\n",
    "nombre_recovered    16550\n",
    "Name: 411, dtype: int64"
   ]
  },
  {
   "cell_type": "markdown",
   "id": "9cee540d",
   "metadata": {},
   "source": [
    "nombre_infected       843\n",
    "nombre_sain          2150\n",
    "nombre_exposed        464\n",
    "nombre_recovered    16543\n",
    "Name: 412, dtype: int64"
   ]
  },
  {
   "cell_type": "markdown",
   "id": "746a2447",
   "metadata": {},
   "source": [
    "nombre_infected       860\n",
    "nombre_sain          2163\n",
    "nombre_exposed        456\n",
    "nombre_recovered    16521\n",
    "Name: 413, dtype: int64"
   ]
  },
  {
   "cell_type": "markdown",
   "id": "0de2807c",
   "metadata": {},
   "source": [
    "nombre_infected       873\n",
    "nombre_sain          2164\n",
    "nombre_exposed        458\n",
    "nombre_recovered    16505\n",
    "Name: 414, dtype: int64"
   ]
  },
  {
   "cell_type": "markdown",
   "id": "116e9bbc",
   "metadata": {},
   "source": [
    "nombre_infected       865\n",
    "nombre_sain          2140\n",
    "nombre_exposed        487\n",
    "nombre_recovered    16508\n",
    "Name: 415, dtype: int64"
   ]
  },
  {
   "cell_type": "markdown",
   "id": "8f1f8d41",
   "metadata": {},
   "source": [
    "nombre_infected       862\n",
    "nombre_sain          2133\n",
    "nombre_exposed        506\n",
    "nombre_recovered    16499\n",
    "Name: 416, dtype: int64"
   ]
  },
  {
   "cell_type": "markdown",
   "id": "b7493e9b",
   "metadata": {},
   "source": [
    "nombre_infected       873\n",
    "nombre_sain          2157\n",
    "nombre_exposed        483\n",
    "nombre_recovered    16487\n",
    "Name: 417, dtype: int64"
   ]
  },
  {
   "cell_type": "markdown",
   "id": "b762253c",
   "metadata": {},
   "source": [
    "nombre_infected       880\n",
    "nombre_sain          2142\n",
    "nombre_exposed        498\n",
    "nombre_recovered    16480\n",
    "Name: 418, dtype: int64"
   ]
  },
  {
   "cell_type": "markdown",
   "id": "8d2296ce",
   "metadata": {},
   "source": [
    "nombre_infected       867\n",
    "nombre_sain          2152\n",
    "nombre_exposed        500\n",
    "nombre_recovered    16481\n",
    "Name: 419, dtype: int64"
   ]
  },
  {
   "cell_type": "markdown",
   "id": "251e4fcb",
   "metadata": {},
   "source": [
    "nombre_infected       877\n",
    "nombre_sain          2150\n",
    "nombre_exposed        504\n",
    "nombre_recovered    16469\n",
    "Name: 420, dtype: int64"
   ]
  },
  {
   "cell_type": "markdown",
   "id": "8dddaa5a",
   "metadata": {},
   "source": [
    "nombre_infected       893\n",
    "nombre_sain          2160\n",
    "nombre_exposed        483\n",
    "nombre_recovered    16464\n",
    "Name: 421, dtype: int64"
   ]
  },
  {
   "cell_type": "markdown",
   "id": "ed1454ef",
   "metadata": {},
   "source": [
    "nombre_infected       890\n",
    "nombre_sain          2156\n",
    "nombre_exposed        479\n",
    "nombre_recovered    16475\n",
    "Name: 422, dtype: int64"
   ]
  },
  {
   "cell_type": "markdown",
   "id": "9c94a582",
   "metadata": {},
   "source": [
    "nombre_infected       891\n",
    "nombre_sain          2123\n",
    "nombre_exposed        512\n",
    "nombre_recovered    16474\n",
    "Name: 423, dtype: int64"
   ]
  },
  {
   "cell_type": "markdown",
   "id": "027a75b9",
   "metadata": {},
   "source": [
    "nombre_infected       878\n",
    "nombre_sain          2137\n",
    "nombre_exposed        518\n",
    "nombre_recovered    16467\n",
    "Name: 424, dtype: int64"
   ]
  },
  {
   "cell_type": "markdown",
   "id": "42304fbd",
   "metadata": {},
   "source": [
    "nombre_infected       874\n",
    "nombre_sain          2137\n",
    "nombre_exposed        529\n",
    "nombre_recovered    16460\n",
    "Name: 425, dtype: int64"
   ]
  },
  {
   "cell_type": "markdown",
   "id": "3288081b",
   "metadata": {},
   "source": [
    "nombre_infected       891\n",
    "nombre_sain          2129\n",
    "nombre_exposed        533\n",
    "nombre_recovered    16447\n",
    "Name: 426, dtype: int64"
   ]
  },
  {
   "cell_type": "markdown",
   "id": "3101a20b",
   "metadata": {},
   "source": [
    "nombre_infected       909\n",
    "nombre_sain          2144\n",
    "nombre_exposed        495\n",
    "nombre_recovered    16452\n",
    "Name: 427, dtype: int64"
   ]
  },
  {
   "cell_type": "markdown",
   "id": "df55b505",
   "metadata": {},
   "source": [
    "nombre_infected       920\n",
    "nombre_sain          2127\n",
    "nombre_exposed        491\n",
    "nombre_recovered    16462\n",
    "Name: 428, dtype: int64"
   ]
  },
  {
   "cell_type": "markdown",
   "id": "f750c302",
   "metadata": {},
   "source": [
    "nombre_infected       913\n",
    "nombre_sain          2100\n",
    "nombre_exposed        510\n",
    "nombre_recovered    16477\n",
    "Name: 429, dtype: int64"
   ]
  },
  {
   "cell_type": "markdown",
   "id": "9ef3765b",
   "metadata": {},
   "source": [
    "nombre_infected       916\n",
    "nombre_sain          2095\n",
    "nombre_exposed        503\n",
    "nombre_recovered    16486\n",
    "Name: 430, dtype: int64"
   ]
  },
  {
   "cell_type": "markdown",
   "id": "e4682b72",
   "metadata": {},
   "source": [
    "nombre_infected       940\n",
    "nombre_sain          2097\n",
    "nombre_exposed        503\n",
    "nombre_recovered    16460\n",
    "Name: 431, dtype: int64"
   ]
  },
  {
   "cell_type": "markdown",
   "id": "7bae96b3",
   "metadata": {},
   "source": [
    "nombre_infected       928\n",
    "nombre_sain          2114\n",
    "nombre_exposed        499\n",
    "nombre_recovered    16459\n",
    "Name: 432, dtype: int64"
   ]
  },
  {
   "cell_type": "markdown",
   "id": "d3792f82",
   "metadata": {},
   "source": [
    "nombre_infected       943\n",
    "nombre_sain          2101\n",
    "nombre_exposed        519\n",
    "nombre_recovered    16437\n",
    "Name: 433, dtype: int64"
   ]
  },
  {
   "cell_type": "markdown",
   "id": "a30b2078",
   "metadata": {},
   "source": [
    "nombre_infected       927\n",
    "nombre_sain          2126\n",
    "nombre_exposed        539\n",
    "nombre_recovered    16408\n",
    "Name: 434, dtype: int64"
   ]
  },
  {
   "cell_type": "markdown",
   "id": "28b45786",
   "metadata": {},
   "source": [
    "nombre_infected       929\n",
    "nombre_sain          2101\n",
    "nombre_exposed        542\n",
    "nombre_recovered    16428\n",
    "Name: 435, dtype: int64"
   ]
  },
  {
   "cell_type": "markdown",
   "id": "25eaf052",
   "metadata": {},
   "source": [
    "nombre_infected       930\n",
    "nombre_sain          2098\n",
    "nombre_exposed        527\n",
    "nombre_recovered    16445\n",
    "Name: 436, dtype: int64"
   ]
  },
  {
   "cell_type": "markdown",
   "id": "cf918e26",
   "metadata": {},
   "source": [
    "nombre_infected       937\n",
    "nombre_sain          2108\n",
    "nombre_exposed        515\n",
    "nombre_recovered    16440\n",
    "Name: 437, dtype: int64"
   ]
  },
  {
   "cell_type": "markdown",
   "id": "9a2d53c3",
   "metadata": {},
   "source": [
    "nombre_infected       931\n",
    "nombre_sain          2108\n",
    "nombre_exposed        511\n",
    "nombre_recovered    16450\n",
    "Name: 438, dtype: int64"
   ]
  },
  {
   "cell_type": "markdown",
   "id": "be77d90b",
   "metadata": {},
   "source": [
    "nombre_infected       933\n",
    "nombre_sain          2124\n",
    "nombre_exposed        514\n",
    "nombre_recovered    16429\n",
    "Name: 439, dtype: int64"
   ]
  },
  {
   "cell_type": "markdown",
   "id": "2b104ba5",
   "metadata": {},
   "source": [
    "nombre_infected       941\n",
    "nombre_sain          2113\n",
    "nombre_exposed        521\n",
    "nombre_recovered    16425\n",
    "Name: 440, dtype: int64"
   ]
  },
  {
   "cell_type": "markdown",
   "id": "57cc50fb",
   "metadata": {},
   "source": [
    "nombre_infected       956\n",
    "nombre_sain          2089\n",
    "nombre_exposed        522\n",
    "nombre_recovered    16433\n",
    "Name: 441, dtype: int64"
   ]
  },
  {
   "cell_type": "markdown",
   "id": "09399d39",
   "metadata": {},
   "source": [
    "nombre_infected       968\n",
    "nombre_sain          2086\n",
    "nombre_exposed        518\n",
    "nombre_recovered    16428\n",
    "Name: 442, dtype: int64"
   ]
  },
  {
   "cell_type": "markdown",
   "id": "98ef4ca3",
   "metadata": {},
   "source": [
    "nombre_infected       965\n",
    "nombre_sain          2075\n",
    "nombre_exposed        510\n",
    "nombre_recovered    16450\n",
    "Name: 443, dtype: int64"
   ]
  },
  {
   "cell_type": "markdown",
   "id": "43b01278",
   "metadata": {},
   "source": [
    "nombre_infected       980\n",
    "nombre_sain          2078\n",
    "nombre_exposed        502\n",
    "nombre_recovered    16440\n",
    "Name: 444, dtype: int64"
   ]
  },
  {
   "cell_type": "markdown",
   "id": "3519b24f",
   "metadata": {},
   "source": [
    "nombre_infected       984\n",
    "nombre_sain          2081\n",
    "nombre_exposed        503\n",
    "nombre_recovered    16432\n",
    "Name: 445, dtype: int64"
   ]
  },
  {
   "cell_type": "markdown",
   "id": "0e529dbd",
   "metadata": {},
   "source": [
    "nombre_infected       979\n",
    "nombre_sain          2083\n",
    "nombre_exposed        511\n",
    "nombre_recovered    16427\n",
    "Name: 446, dtype: int64"
   ]
  },
  {
   "cell_type": "markdown",
   "id": "41ea86ba",
   "metadata": {},
   "source": [
    "nombre_infected       979\n",
    "nombre_sain          2107\n",
    "nombre_exposed        514\n",
    "nombre_recovered    16400\n",
    "Name: 447, dtype: int64"
   ]
  },
  {
   "cell_type": "markdown",
   "id": "0c2049b7",
   "metadata": {},
   "source": [
    "nombre_infected       981\n",
    "nombre_sain          2109\n",
    "nombre_exposed        527\n",
    "nombre_recovered    16383\n",
    "Name: 448, dtype: int64"
   ]
  },
  {
   "cell_type": "markdown",
   "id": "580fb330",
   "metadata": {},
   "source": [
    "nombre_infected       977\n",
    "nombre_sain          2112\n",
    "nombre_exposed        549\n",
    "nombre_recovered    16362\n",
    "Name: 449, dtype: int64"
   ]
  },
  {
   "cell_type": "markdown",
   "id": "4e6a875c",
   "metadata": {},
   "source": [
    "nombre_infected       984\n",
    "nombre_sain          2100\n",
    "nombre_exposed        556\n",
    "nombre_recovered    16360\n",
    "Name: 450, dtype: int64"
   ]
  },
  {
   "cell_type": "markdown",
   "id": "d10bcd56",
   "metadata": {},
   "source": [
    "nombre_infected       980\n",
    "nombre_sain          2108\n",
    "nombre_exposed        569\n",
    "nombre_recovered    16343\n",
    "Name: 451, dtype: int64"
   ]
  },
  {
   "cell_type": "markdown",
   "id": "8e920c56",
   "metadata": {},
   "source": [
    "nombre_infected      1022\n",
    "nombre_sain          2101\n",
    "nombre_exposed        531\n",
    "nombre_recovered    16346\n",
    "Name: 452, dtype: int64"
   ]
  },
  {
   "cell_type": "markdown",
   "id": "42fd3a9b",
   "metadata": {},
   "source": [
    "nombre_infected      1036\n",
    "nombre_sain          2102\n",
    "nombre_exposed        520\n",
    "nombre_recovered    16342\n",
    "Name: 453, dtype: int64"
   ]
  },
  {
   "cell_type": "markdown",
   "id": "5beb8ec6",
   "metadata": {},
   "source": [
    "nombre_infected      1033\n",
    "nombre_sain          2085\n",
    "nombre_exposed        538\n",
    "nombre_recovered    16344\n",
    "Name: 454, dtype: int64"
   ]
  },
  {
   "cell_type": "markdown",
   "id": "2d9cbd9d",
   "metadata": {},
   "source": [
    "nombre_infected      1072\n",
    "nombre_sain          2089\n",
    "nombre_exposed        520\n",
    "nombre_recovered    16319\n",
    "Name: 455, dtype: int64"
   ]
  },
  {
   "cell_type": "markdown",
   "id": "b8159b93",
   "metadata": {},
   "source": [
    "nombre_infected      1046\n",
    "nombre_sain          2077\n",
    "nombre_exposed        533\n",
    "nombre_recovered    16344\n",
    "Name: 456, dtype: int64"
   ]
  },
  {
   "cell_type": "markdown",
   "id": "7fb439c7",
   "metadata": {},
   "source": [
    "nombre_infected      1053\n",
    "nombre_sain          2082\n",
    "nombre_exposed        532\n",
    "nombre_recovered    16333\n",
    "Name: 457, dtype: int64"
   ]
  },
  {
   "cell_type": "markdown",
   "id": "66bac9a1",
   "metadata": {},
   "source": [
    "nombre_infected      1068\n",
    "nombre_sain          2090\n",
    "nombre_exposed        530\n",
    "nombre_recovered    16312\n",
    "Name: 458, dtype: int64"
   ]
  },
  {
   "cell_type": "markdown",
   "id": "69fe69df",
   "metadata": {},
   "source": [
    "nombre_infected      1076\n",
    "nombre_sain          2077\n",
    "nombre_exposed        541\n",
    "nombre_recovered    16306\n",
    "Name: 459, dtype: int64"
   ]
  },
  {
   "cell_type": "markdown",
   "id": "1e487044",
   "metadata": {},
   "source": [
    "nombre_infected      1065\n",
    "nombre_sain          2070\n",
    "nombre_exposed        539\n",
    "nombre_recovered    16326\n",
    "Name: 460, dtype: int64"
   ]
  },
  {
   "cell_type": "markdown",
   "id": "247ca0a1",
   "metadata": {},
   "source": [
    "nombre_infected      1045\n",
    "nombre_sain          2075\n",
    "nombre_exposed        532\n",
    "nombre_recovered    16348\n",
    "Name: 461, dtype: int64"
   ]
  },
  {
   "cell_type": "markdown",
   "id": "4bddca99",
   "metadata": {},
   "source": [
    "nombre_infected      1032\n",
    "nombre_sain          2066\n",
    "nombre_exposed        541\n",
    "nombre_recovered    16361\n",
    "Name: 462, dtype: int64"
   ]
  },
  {
   "cell_type": "markdown",
   "id": "94d59ded",
   "metadata": {},
   "source": [
    "nombre_infected      1050\n",
    "nombre_sain          2064\n",
    "nombre_exposed        525\n",
    "nombre_recovered    16361\n",
    "Name: 463, dtype: int64"
   ]
  },
  {
   "cell_type": "markdown",
   "id": "3b0c7541",
   "metadata": {},
   "source": [
    "nombre_infected      1062\n",
    "nombre_sain          2059\n",
    "nombre_exposed        504\n",
    "nombre_recovered    16375\n",
    "Name: 464, dtype: int64"
   ]
  },
  {
   "cell_type": "markdown",
   "id": "0c5044c1",
   "metadata": {},
   "source": [
    "nombre_infected      1048\n",
    "nombre_sain          2069\n",
    "nombre_exposed        510\n",
    "nombre_recovered    16373\n",
    "Name: 465, dtype: int64"
   ]
  },
  {
   "cell_type": "markdown",
   "id": "140e57e5",
   "metadata": {},
   "source": [
    "nombre_infected      1022\n",
    "nombre_sain          2055\n",
    "nombre_exposed        511\n",
    "nombre_recovered    16412\n",
    "Name: 466, dtype: int64"
   ]
  },
  {
   "cell_type": "markdown",
   "id": "f4406a75",
   "metadata": {},
   "source": [
    "nombre_infected       998\n",
    "nombre_sain          2041\n",
    "nombre_exposed        533\n",
    "nombre_recovered    16428\n",
    "Name: 467, dtype: int64"
   ]
  },
  {
   "cell_type": "markdown",
   "id": "b8fd5b69",
   "metadata": {},
   "source": [
    "nombre_infected       990\n",
    "nombre_sain          2049\n",
    "nombre_exposed        529\n",
    "nombre_recovered    16432\n",
    "Name: 468, dtype: int64"
   ]
  },
  {
   "cell_type": "markdown",
   "id": "39d2e2d4",
   "metadata": {},
   "source": [
    "nombre_infected      1008\n",
    "nombre_sain          2065\n",
    "nombre_exposed        508\n",
    "nombre_recovered    16419\n",
    "Name: 469, dtype: int64"
   ]
  },
  {
   "cell_type": "markdown",
   "id": "d8c1d6ca",
   "metadata": {},
   "source": [
    "nombre_infected      1017\n",
    "nombre_sain          2062\n",
    "nombre_exposed        518\n",
    "nombre_recovered    16403\n",
    "Name: 470, dtype: int64"
   ]
  },
  {
   "cell_type": "markdown",
   "id": "ea71bca0",
   "metadata": {},
   "source": [
    "nombre_infected       988\n",
    "nombre_sain          2040\n",
    "nombre_exposed        546\n",
    "nombre_recovered    16426\n",
    "Name: 471, dtype: int64"
   ]
  },
  {
   "cell_type": "markdown",
   "id": "e6f80603",
   "metadata": {},
   "source": [
    "nombre_infected       997\n",
    "nombre_sain          2033\n",
    "nombre_exposed        560\n",
    "nombre_recovered    16410\n",
    "Name: 472, dtype: int64"
   ]
  },
  {
   "cell_type": "markdown",
   "id": "4aa8a217",
   "metadata": {},
   "source": [
    "nombre_infected       985\n",
    "nombre_sain          2079\n",
    "nombre_exposed        533\n",
    "nombre_recovered    16403\n",
    "Name: 473, dtype: int64"
   ]
  },
  {
   "cell_type": "markdown",
   "id": "e74d1c20",
   "metadata": {},
   "source": [
    "nombre_infected       992\n",
    "nombre_sain          2078\n",
    "nombre_exposed        534\n",
    "nombre_recovered    16396\n",
    "Name: 474, dtype: int64"
   ]
  },
  {
   "cell_type": "markdown",
   "id": "a653762d",
   "metadata": {},
   "source": [
    "nombre_infected       991\n",
    "nombre_sain          2072\n",
    "nombre_exposed        523\n",
    "nombre_recovered    16414\n",
    "Name: 475, dtype: int64"
   ]
  },
  {
   "cell_type": "markdown",
   "id": "f37ff96a",
   "metadata": {},
   "source": [
    "nombre_infected       984\n",
    "nombre_sain          2062\n",
    "nombre_exposed        516\n",
    "nombre_recovered    16438\n",
    "Name: 476, dtype: int64"
   ]
  },
  {
   "cell_type": "markdown",
   "id": "bcd050c5",
   "metadata": {},
   "source": [
    "nombre_infected       988\n",
    "nombre_sain          2075\n",
    "nombre_exposed        505\n",
    "nombre_recovered    16432\n",
    "Name: 477, dtype: int64"
   ]
  },
  {
   "cell_type": "markdown",
   "id": "3bb44f4d",
   "metadata": {},
   "source": [
    "nombre_infected       960\n",
    "nombre_sain          2094\n",
    "nombre_exposed        507\n",
    "nombre_recovered    16439\n",
    "Name: 478, dtype: int64"
   ]
  },
  {
   "cell_type": "markdown",
   "id": "dc9fcdd6",
   "metadata": {},
   "source": [
    "nombre_infected       956\n",
    "nombre_sain          2092\n",
    "nombre_exposed        475\n",
    "nombre_recovered    16477\n",
    "Name: 479, dtype: int64"
   ]
  },
  {
   "cell_type": "markdown",
   "id": "1f84a9a7",
   "metadata": {},
   "source": [
    "nombre_infected       951\n",
    "nombre_sain          2103\n",
    "nombre_exposed        483\n",
    "nombre_recovered    16463\n",
    "Name: 480, dtype: int64"
   ]
  },
  {
   "cell_type": "markdown",
   "id": "0e292e0e",
   "metadata": {},
   "source": [
    "nombre_infected       953\n",
    "nombre_sain          2096\n",
    "nombre_exposed        493\n",
    "nombre_recovered    16458\n",
    "Name: 481, dtype: int64"
   ]
  },
  {
   "cell_type": "markdown",
   "id": "bfb7e771",
   "metadata": {},
   "source": [
    "nombre_infected       950\n",
    "nombre_sain          2091\n",
    "nombre_exposed        500\n",
    "nombre_recovered    16459\n",
    "Name: 482, dtype: int64"
   ]
  },
  {
   "cell_type": "markdown",
   "id": "977b6225",
   "metadata": {},
   "source": [
    "nombre_infected       966\n",
    "nombre_sain          2097\n",
    "nombre_exposed        497\n",
    "nombre_recovered    16440\n",
    "Name: 483, dtype: int64"
   ]
  },
  {
   "cell_type": "markdown",
   "id": "fde716dd",
   "metadata": {},
   "source": [
    "nombre_infected       931\n",
    "nombre_sain          2076\n",
    "nombre_exposed        503\n",
    "nombre_recovered    16490\n",
    "Name: 484, dtype: int64"
   ]
  },
  {
   "cell_type": "markdown",
   "id": "e7597038",
   "metadata": {},
   "source": [
    "nombre_infected       941\n",
    "nombre_sain          2099\n",
    "nombre_exposed        484\n",
    "nombre_recovered    16476\n",
    "Name: 485, dtype: int64"
   ]
  },
  {
   "cell_type": "markdown",
   "id": "8b9e2689",
   "metadata": {},
   "source": [
    "nombre_infected       940\n",
    "nombre_sain          2098\n",
    "nombre_exposed        509\n",
    "nombre_recovered    16453\n",
    "Name: 486, dtype: int64"
   ]
  },
  {
   "cell_type": "markdown",
   "id": "41a7ac62",
   "metadata": {},
   "source": [
    "nombre_infected       942\n",
    "nombre_sain          2094\n",
    "nombre_exposed        524\n",
    "nombre_recovered    16440\n",
    "Name: 487, dtype: int64"
   ]
  },
  {
   "cell_type": "markdown",
   "id": "0a70c807",
   "metadata": {},
   "source": [
    "nombre_infected       908\n",
    "nombre_sain          2121\n",
    "nombre_exposed        507\n",
    "nombre_recovered    16464\n",
    "Name: 488, dtype: int64"
   ]
  },
  {
   "cell_type": "markdown",
   "id": "d205d414",
   "metadata": {},
   "source": [
    "nombre_infected       914\n",
    "nombre_sain          2119\n",
    "nombre_exposed        493\n",
    "nombre_recovered    16474\n",
    "Name: 489, dtype: int64"
   ]
  },
  {
   "cell_type": "markdown",
   "id": "51e974bb",
   "metadata": {},
   "source": [
    "nombre_infected       901\n",
    "nombre_sain          2134\n",
    "nombre_exposed        481\n",
    "nombre_recovered    16484\n",
    "Name: 490, dtype: int64"
   ]
  },
  {
   "cell_type": "markdown",
   "id": "b130fd87",
   "metadata": {},
   "source": [
    "nombre_infected       897\n",
    "nombre_sain          2153\n",
    "nombre_exposed        456\n",
    "nombre_recovered    16494\n",
    "Name: 491, dtype: int64"
   ]
  },
  {
   "cell_type": "markdown",
   "id": "3c734a55",
   "metadata": {},
   "source": [
    "nombre_infected       905\n",
    "nombre_sain          2166\n",
    "nombre_exposed        448\n",
    "nombre_recovered    16481\n",
    "Name: 492, dtype: int64"
   ]
  },
  {
   "cell_type": "markdown",
   "id": "7c7549ad",
   "metadata": {},
   "source": [
    "nombre_infected       901\n",
    "nombre_sain          2155\n",
    "nombre_exposed        460\n",
    "nombre_recovered    16484\n",
    "Name: 493, dtype: int64"
   ]
  },
  {
   "cell_type": "markdown",
   "id": "b8ae0b6c",
   "metadata": {},
   "source": [
    "nombre_infected       898\n",
    "nombre_sain          2190\n",
    "nombre_exposed        452\n",
    "nombre_recovered    16460\n",
    "Name: 494, dtype: int64"
   ]
  },
  {
   "cell_type": "markdown",
   "id": "20900d7b",
   "metadata": {},
   "source": [
    "nombre_infected       896\n",
    "nombre_sain          2213\n",
    "nombre_exposed        445\n",
    "nombre_recovered    16446\n",
    "Name: 495, dtype: int64"
   ]
  },
  {
   "cell_type": "markdown",
   "id": "b574aacf",
   "metadata": {},
   "source": [
    "nombre_infected       880\n",
    "nombre_sain          2205\n",
    "nombre_exposed        454\n",
    "nombre_recovered    16461\n",
    "Name: 496, dtype: int64"
   ]
  },
  {
   "cell_type": "markdown",
   "id": "c421ed14",
   "metadata": {},
   "source": [
    "nombre_infected       863\n",
    "nombre_sain          2211\n",
    "nombre_exposed        474\n",
    "nombre_recovered    16452\n",
    "Name: 497, dtype: int64"
   ]
  },
  {
   "cell_type": "markdown",
   "id": "ea135e0f",
   "metadata": {},
   "source": [
    "nombre_infected       865\n",
    "nombre_sain          2227\n",
    "nombre_exposed        461\n",
    "nombre_recovered    16447\n",
    "Name: 498, dtype: int64"
   ]
  },
  {
   "cell_type": "markdown",
   "id": "1ae4525c",
   "metadata": {},
   "source": [
    "nombre_infected       874\n",
    "nombre_sain          2232\n",
    "nombre_exposed        444\n",
    "nombre_recovered    16450\n",
    "Name: 499, dtype: int64"
   ]
  },
  {
   "cell_type": "markdown",
   "id": "2f565d3b",
   "metadata": {},
   "source": [
    "nombre_infected       857\n",
    "nombre_sain          2232\n",
    "nombre_exposed        453\n",
    "nombre_recovered    16458\n",
    "Name: 500, dtype: int64"
   ]
  },
  {
   "cell_type": "markdown",
   "id": "85ffbcad",
   "metadata": {},
   "source": [
    "nombre_infected       842\n",
    "nombre_sain          2230\n",
    "nombre_exposed        474\n",
    "nombre_recovered    16454\n",
    "Name: 501, dtype: int64"
   ]
  },
  {
   "cell_type": "markdown",
   "id": "478f3c87",
   "metadata": {},
   "source": [
    "nombre_infected       847\n",
    "nombre_sain          2210\n",
    "nombre_exposed        488\n",
    "nombre_recovered    16455\n",
    "Name: 502, dtype: int64"
   ]
  },
  {
   "cell_type": "markdown",
   "id": "38bba927",
   "metadata": {},
   "source": [
    "nombre_infected       856\n",
    "nombre_sain          2216\n",
    "nombre_exposed        475\n",
    "nombre_recovered    16453\n",
    "Name: 503, dtype: int64"
   ]
  },
  {
   "cell_type": "markdown",
   "id": "9b768de3",
   "metadata": {},
   "source": [
    "nombre_infected       877\n",
    "nombre_sain          2233\n",
    "nombre_exposed        472\n",
    "nombre_recovered    16418\n",
    "Name: 504, dtype: int64"
   ]
  },
  {
   "cell_type": "markdown",
   "id": "8ce3e9a3",
   "metadata": {},
   "source": [
    "nombre_infected       862\n",
    "nombre_sain          2208\n",
    "nombre_exposed        484\n",
    "nombre_recovered    16446\n",
    "Name: 505, dtype: int64"
   ]
  },
  {
   "cell_type": "markdown",
   "id": "9b8a7a6a",
   "metadata": {},
   "source": [
    "nombre_infected       881\n",
    "nombre_sain          2208\n",
    "nombre_exposed        473\n",
    "nombre_recovered    16438\n",
    "Name: 506, dtype: int64"
   ]
  },
  {
   "cell_type": "markdown",
   "id": "f7b8ae43",
   "metadata": {},
   "source": [
    "nombre_infected       857\n",
    "nombre_sain          2233\n",
    "nombre_exposed        478\n",
    "nombre_recovered    16432\n",
    "Name: 507, dtype: int64"
   ]
  },
  {
   "cell_type": "markdown",
   "id": "47afccbc",
   "metadata": {},
   "source": [
    "nombre_infected       881\n",
    "nombre_sain          2232\n",
    "nombre_exposed        474\n",
    "nombre_recovered    16413\n",
    "Name: 508, dtype: int64"
   ]
  },
  {
   "cell_type": "markdown",
   "id": "8afcd6e6",
   "metadata": {},
   "source": [
    "nombre_infected       896\n",
    "nombre_sain          2220\n",
    "nombre_exposed        489\n",
    "nombre_recovered    16395\n",
    "Name: 509, dtype: int64"
   ]
  },
  {
   "cell_type": "markdown",
   "id": "3c5201c1",
   "metadata": {},
   "source": [
    "nombre_infected       892\n",
    "nombre_sain          2227\n",
    "nombre_exposed        489\n",
    "nombre_recovered    16392\n",
    "Name: 510, dtype: int64"
   ]
  },
  {
   "cell_type": "markdown",
   "id": "19c2c13b",
   "metadata": {},
   "source": [
    "nombre_infected       888\n",
    "nombre_sain          2240\n",
    "nombre_exposed        502\n",
    "nombre_recovered    16370\n",
    "Name: 511, dtype: int64"
   ]
  },
  {
   "cell_type": "markdown",
   "id": "6de8ddca",
   "metadata": {},
   "source": [
    "nombre_infected       909\n",
    "nombre_sain          2255\n",
    "nombre_exposed        485\n",
    "nombre_recovered    16351\n",
    "Name: 512, dtype: int64"
   ]
  },
  {
   "cell_type": "markdown",
   "id": "9d2fa1e0",
   "metadata": {},
   "source": [
    "nombre_infected       903\n",
    "nombre_sain          2260\n",
    "nombre_exposed        483\n",
    "nombre_recovered    16354\n",
    "Name: 513, dtype: int64"
   ]
  },
  {
   "cell_type": "markdown",
   "id": "07ca3506",
   "metadata": {},
   "source": [
    "nombre_infected       913\n",
    "nombre_sain          2262\n",
    "nombre_exposed        483\n",
    "nombre_recovered    16342\n",
    "Name: 514, dtype: int64"
   ]
  },
  {
   "cell_type": "markdown",
   "id": "a7e5dc1c",
   "metadata": {},
   "source": [
    "nombre_infected       933\n",
    "nombre_sain          2265\n",
    "nombre_exposed        483\n",
    "nombre_recovered    16319\n",
    "Name: 515, dtype: int64"
   ]
  },
  {
   "cell_type": "markdown",
   "id": "b56bd7d4",
   "metadata": {},
   "source": [
    "nombre_infected       938\n",
    "nombre_sain          2247\n",
    "nombre_exposed        494\n",
    "nombre_recovered    16321\n",
    "Name: 516, dtype: int64"
   ]
  },
  {
   "cell_type": "markdown",
   "id": "afb92def",
   "metadata": {},
   "source": [
    "nombre_infected       942\n",
    "nombre_sain          2236\n",
    "nombre_exposed        500\n",
    "nombre_recovered    16322\n",
    "Name: 517, dtype: int64"
   ]
  },
  {
   "cell_type": "markdown",
   "id": "e7baf558",
   "metadata": {},
   "source": [
    "nombre_infected       944\n",
    "nombre_sain          2200\n",
    "nombre_exposed        531\n",
    "nombre_recovered    16325\n",
    "Name: 518, dtype: int64"
   ]
  },
  {
   "cell_type": "markdown",
   "id": "52d2495e",
   "metadata": {},
   "source": [
    "nombre_infected       935\n",
    "nombre_sain          2167\n",
    "nombre_exposed        546\n",
    "nombre_recovered    16352\n",
    "Name: 519, dtype: int64"
   ]
  },
  {
   "cell_type": "markdown",
   "id": "2a135df1",
   "metadata": {},
   "source": [
    "nombre_infected       935\n",
    "nombre_sain          2181\n",
    "nombre_exposed        516\n",
    "nombre_recovered    16368\n",
    "Name: 520, dtype: int64"
   ]
  },
  {
   "cell_type": "markdown",
   "id": "b41ee5fc",
   "metadata": {},
   "source": [
    "nombre_infected       955\n",
    "nombre_sain          2172\n",
    "nombre_exposed        496\n",
    "nombre_recovered    16377\n",
    "Name: 521, dtype: int64"
   ]
  },
  {
   "cell_type": "markdown",
   "id": "7a944227",
   "metadata": {},
   "source": [
    "nombre_infected       990\n",
    "nombre_sain          2162\n",
    "nombre_exposed        479\n",
    "nombre_recovered    16369\n",
    "Name: 522, dtype: int64"
   ]
  },
  {
   "cell_type": "markdown",
   "id": "d73b4447",
   "metadata": {},
   "source": [
    "nombre_infected       982\n",
    "nombre_sain          2140\n",
    "nombre_exposed        502\n",
    "nombre_recovered    16376\n",
    "Name: 523, dtype: int64"
   ]
  },
  {
   "cell_type": "markdown",
   "id": "1ef64a43",
   "metadata": {},
   "source": [
    "nombre_infected       966\n",
    "nombre_sain          2128\n",
    "nombre_exposed        516\n",
    "nombre_recovered    16390\n",
    "Name: 524, dtype: int64"
   ]
  },
  {
   "cell_type": "markdown",
   "id": "62604945",
   "metadata": {},
   "source": [
    "nombre_infected       972\n",
    "nombre_sain          2114\n",
    "nombre_exposed        516\n",
    "nombre_recovered    16398\n",
    "Name: 525, dtype: int64"
   ]
  },
  {
   "cell_type": "markdown",
   "id": "2856524e",
   "metadata": {},
   "source": [
    "nombre_infected      1005\n",
    "nombre_sain          2112\n",
    "nombre_exposed        489\n",
    "nombre_recovered    16394\n",
    "Name: 526, dtype: int64"
   ]
  },
  {
   "cell_type": "markdown",
   "id": "b5d43941",
   "metadata": {},
   "source": [
    "nombre_infected       986\n",
    "nombre_sain          2090\n",
    "nombre_exposed        520\n",
    "nombre_recovered    16404\n",
    "Name: 527, dtype: int64"
   ]
  },
  {
   "cell_type": "markdown",
   "id": "200d1ef6",
   "metadata": {},
   "source": [
    "nombre_infected      1016\n",
    "nombre_sain          2073\n",
    "nombre_exposed        509\n",
    "nombre_recovered    16402\n",
    "Name: 528, dtype: int64"
   ]
  },
  {
   "cell_type": "markdown",
   "id": "76e31147",
   "metadata": {},
   "source": [
    "nombre_infected      1029\n",
    "nombre_sain          2050\n",
    "nombre_exposed        509\n",
    "nombre_recovered    16412\n",
    "Name: 529, dtype: int64"
   ]
  },
  {
   "cell_type": "markdown",
   "id": "fb5dfca5",
   "metadata": {},
   "source": [
    "nombre_infected      1031\n",
    "nombre_sain          2034\n",
    "nombre_exposed        507\n",
    "nombre_recovered    16428\n",
    "Name: 530, dtype: int64"
   ]
  },
  {
   "cell_type": "markdown",
   "id": "c5b726ab",
   "metadata": {},
   "source": [
    "nombre_infected      1035\n",
    "nombre_sain          2067\n",
    "nombre_exposed        507\n",
    "nombre_recovered    16391\n",
    "Name: 531, dtype: int64"
   ]
  },
  {
   "cell_type": "markdown",
   "id": "0d27507c",
   "metadata": {},
   "source": [
    "nombre_infected      1038\n",
    "nombre_sain          2065\n",
    "nombre_exposed        497\n",
    "nombre_recovered    16400\n",
    "Name: 532, dtype: int64"
   ]
  },
  {
   "cell_type": "markdown",
   "id": "7de8c404",
   "metadata": {},
   "source": [
    "nombre_infected      1035\n",
    "nombre_sain          2076\n",
    "nombre_exposed        488\n",
    "nombre_recovered    16401\n",
    "Name: 533, dtype: int64"
   ]
  },
  {
   "cell_type": "markdown",
   "id": "a83520a7",
   "metadata": {},
   "source": [
    "nombre_infected      1025\n",
    "nombre_sain          2053\n",
    "nombre_exposed        529\n",
    "nombre_recovered    16393\n",
    "Name: 534, dtype: int64"
   ]
  },
  {
   "cell_type": "markdown",
   "id": "febdc74e",
   "metadata": {},
   "source": [
    "nombre_infected      1044\n",
    "nombre_sain          2072\n",
    "nombre_exposed        525\n",
    "nombre_recovered    16359\n",
    "Name: 535, dtype: int64"
   ]
  },
  {
   "cell_type": "markdown",
   "id": "471ca0d8",
   "metadata": {},
   "source": [
    "nombre_infected      1040\n",
    "nombre_sain          2086\n",
    "nombre_exposed        517\n",
    "nombre_recovered    16357\n",
    "Name: 536, dtype: int64"
   ]
  },
  {
   "cell_type": "markdown",
   "id": "6912a54d",
   "metadata": {},
   "source": [
    "nombre_infected      1025\n",
    "nombre_sain          2090\n",
    "nombre_exposed        524\n",
    "nombre_recovered    16361\n",
    "Name: 537, dtype: int64"
   ]
  },
  {
   "cell_type": "markdown",
   "id": "6da36717",
   "metadata": {},
   "source": [
    "nombre_infected      1015\n",
    "nombre_sain          2119\n",
    "nombre_exposed        521\n",
    "nombre_recovered    16345\n",
    "Name: 538, dtype: int64"
   ]
  },
  {
   "cell_type": "markdown",
   "id": "6ef9ac7a",
   "metadata": {},
   "source": [
    "nombre_infected      1008\n",
    "nombre_sain          2125\n",
    "nombre_exposed        550\n",
    "nombre_recovered    16317\n",
    "Name: 539, dtype: int64"
   ]
  },
  {
   "cell_type": "markdown",
   "id": "e38c59c2",
   "metadata": {},
   "source": [
    "nombre_infected      1035\n",
    "nombre_sain          2136\n",
    "nombre_exposed        543\n",
    "nombre_recovered    16286\n",
    "Name: 540, dtype: int64"
   ]
  },
  {
   "cell_type": "markdown",
   "id": "acdc6fe4",
   "metadata": {},
   "source": [
    "nombre_infected      1021\n",
    "nombre_sain          2160\n",
    "nombre_exposed        555\n",
    "nombre_recovered    16264\n",
    "Name: 541, dtype: int64"
   ]
  },
  {
   "cell_type": "markdown",
   "id": "b57523c4",
   "metadata": {},
   "source": [
    "nombre_infected       997\n",
    "nombre_sain          2210\n",
    "nombre_exposed        533\n",
    "nombre_recovered    16260\n",
    "Name: 542, dtype: int64"
   ]
  },
  {
   "cell_type": "markdown",
   "id": "24843d5c",
   "metadata": {},
   "source": [
    "nombre_infected       994\n",
    "nombre_sain          2223\n",
    "nombre_exposed        562\n",
    "nombre_recovered    16221\n",
    "Name: 543, dtype: int64"
   ]
  },
  {
   "cell_type": "markdown",
   "id": "ccafc53b",
   "metadata": {},
   "source": [
    "nombre_infected       959\n",
    "nombre_sain          2269\n",
    "nombre_exposed        575\n",
    "nombre_recovered    16197\n",
    "Name: 544, dtype: int64"
   ]
  },
  {
   "cell_type": "markdown",
   "id": "2324e43b",
   "metadata": {},
   "source": [
    "nombre_infected       960\n",
    "nombre_sain          2297\n",
    "nombre_exposed        573\n",
    "nombre_recovered    16170\n",
    "Name: 545, dtype: int64"
   ]
  },
  {
   "cell_type": "markdown",
   "id": "5921ba60",
   "metadata": {},
   "source": [
    "nombre_infected       968\n",
    "nombre_sain          2333\n",
    "nombre_exposed        567\n",
    "nombre_recovered    16132\n",
    "Name: 546, dtype: int64"
   ]
  },
  {
   "cell_type": "markdown",
   "id": "35f077a0",
   "metadata": {},
   "source": [
    "nombre_infected       979\n",
    "nombre_sain          2325\n",
    "nombre_exposed        559\n",
    "nombre_recovered    16137\n",
    "Name: 547, dtype: int64"
   ]
  },
  {
   "cell_type": "markdown",
   "id": "9c7279f6",
   "metadata": {},
   "source": [
    "nombre_infected       998\n",
    "nombre_sain          2357\n",
    "nombre_exposed        551\n",
    "nombre_recovered    16094\n",
    "Name: 548, dtype: int64"
   ]
  },
  {
   "cell_type": "markdown",
   "id": "a6d00608",
   "metadata": {},
   "source": [
    "nombre_infected       990\n",
    "nombre_sain          2364\n",
    "nombre_exposed        553\n",
    "nombre_recovered    16093\n",
    "Name: 549, dtype: int64"
   ]
  },
  {
   "cell_type": "markdown",
   "id": "ad36bcf5",
   "metadata": {},
   "source": [
    "nombre_infected       984\n",
    "nombre_sain          2388\n",
    "nombre_exposed        562\n",
    "nombre_recovered    16066\n",
    "Name: 550, dtype: int64"
   ]
  },
  {
   "cell_type": "markdown",
   "id": "07b5c70d",
   "metadata": {},
   "source": [
    "nombre_infected      1000\n",
    "nombre_sain          2399\n",
    "nombre_exposed        563\n",
    "nombre_recovered    16038\n",
    "Name: 551, dtype: int64"
   ]
  },
  {
   "cell_type": "markdown",
   "id": "1abf8e1b",
   "metadata": {},
   "source": [
    "nombre_infected       994\n",
    "nombre_sain          2410\n",
    "nombre_exposed        560\n",
    "nombre_recovered    16036\n",
    "Name: 552, dtype: int64"
   ]
  },
  {
   "cell_type": "markdown",
   "id": "1bcaa8fc",
   "metadata": {},
   "source": [
    "nombre_infected      1021\n",
    "nombre_sain          2421\n",
    "nombre_exposed        540\n",
    "nombre_recovered    16018\n",
    "Name: 553, dtype: int64"
   ]
  },
  {
   "cell_type": "markdown",
   "id": "d669f0e5",
   "metadata": {},
   "source": [
    "nombre_infected       985\n",
    "nombre_sain          2423\n",
    "nombre_exposed        559\n",
    "nombre_recovered    16033\n",
    "Name: 554, dtype: int64"
   ]
  },
  {
   "cell_type": "markdown",
   "id": "8f0d5c1d",
   "metadata": {},
   "source": [
    "nombre_infected       981\n",
    "nombre_sain          2416\n",
    "nombre_exposed        584\n",
    "nombre_recovered    16019\n",
    "Name: 555, dtype: int64"
   ]
  },
  {
   "cell_type": "markdown",
   "id": "8d92622a",
   "metadata": {},
   "source": [
    "nombre_infected       988\n",
    "nombre_sain          2420\n",
    "nombre_exposed        583\n",
    "nombre_recovered    16009\n",
    "Name: 556, dtype: int64"
   ]
  },
  {
   "cell_type": "markdown",
   "id": "1fd0eab8",
   "metadata": {},
   "source": [
    "nombre_infected       979\n",
    "nombre_sain          2396\n",
    "nombre_exposed        587\n",
    "nombre_recovered    16038\n",
    "Name: 557, dtype: int64"
   ]
  },
  {
   "cell_type": "markdown",
   "id": "2fbf517b",
   "metadata": {},
   "source": [
    "nombre_infected       972\n",
    "nombre_sain          2407\n",
    "nombre_exposed        584\n",
    "nombre_recovered    16037\n",
    "Name: 558, dtype: int64"
   ]
  },
  {
   "cell_type": "markdown",
   "id": "0d1b0d6d",
   "metadata": {},
   "source": [
    "nombre_infected       961\n",
    "nombre_sain          2395\n",
    "nombre_exposed        600\n",
    "nombre_recovered    16044\n",
    "Name: 559, dtype: int64"
   ]
  },
  {
   "cell_type": "markdown",
   "id": "19f9bc3e",
   "metadata": {},
   "source": [
    "nombre_infected       989\n",
    "nombre_sain          2401\n",
    "nombre_exposed        595\n",
    "nombre_recovered    16015\n",
    "Name: 560, dtype: int64"
   ]
  },
  {
   "cell_type": "markdown",
   "id": "3d8440bf",
   "metadata": {},
   "source": [
    "nombre_infected       967\n",
    "nombre_sain          2428\n",
    "nombre_exposed        609\n",
    "nombre_recovered    15996\n",
    "Name: 561, dtype: int64"
   ]
  },
  {
   "cell_type": "markdown",
   "id": "efbea177",
   "metadata": {},
   "source": [
    "nombre_infected       965\n",
    "nombre_sain          2439\n",
    "nombre_exposed        589\n",
    "nombre_recovered    16007\n",
    "Name: 562, dtype: int64"
   ]
  },
  {
   "cell_type": "markdown",
   "id": "be850291",
   "metadata": {},
   "source": [
    "nombre_infected       969\n",
    "nombre_sain          2436\n",
    "nombre_exposed        611\n",
    "nombre_recovered    15984\n",
    "Name: 563, dtype: int64"
   ]
  },
  {
   "cell_type": "markdown",
   "id": "f6540df0",
   "metadata": {},
   "source": [
    "nombre_infected      1006\n",
    "nombre_sain          2444\n",
    "nombre_exposed        579\n",
    "nombre_recovered    15971\n",
    "Name: 564, dtype: int64"
   ]
  },
  {
   "cell_type": "markdown",
   "id": "73efe74e",
   "metadata": {},
   "source": [
    "nombre_infected      1009\n",
    "nombre_sain          2415\n",
    "nombre_exposed        587\n",
    "nombre_recovered    15989\n",
    "Name: 565, dtype: int64"
   ]
  },
  {
   "cell_type": "markdown",
   "id": "4d44f572",
   "metadata": {},
   "source": [
    "nombre_infected      1000\n",
    "nombre_sain          2428\n",
    "nombre_exposed        601\n",
    "nombre_recovered    15971\n",
    "Name: 566, dtype: int64"
   ]
  },
  {
   "cell_type": "markdown",
   "id": "50f000f2",
   "metadata": {},
   "source": [
    "nombre_infected      1023\n",
    "nombre_sain          2414\n",
    "nombre_exposed        600\n",
    "nombre_recovered    15963\n",
    "Name: 567, dtype: int64"
   ]
  },
  {
   "cell_type": "markdown",
   "id": "f30a5f12",
   "metadata": {},
   "source": [
    "nombre_infected      1034\n",
    "nombre_sain          2375\n",
    "nombre_exposed        621\n",
    "nombre_recovered    15970\n",
    "Name: 568, dtype: int64"
   ]
  },
  {
   "cell_type": "markdown",
   "id": "71ac5114",
   "metadata": {},
   "source": [
    "nombre_infected      1037\n",
    "nombre_sain          2363\n",
    "nombre_exposed        627\n",
    "nombre_recovered    15973\n",
    "Name: 569, dtype: int64"
   ]
  },
  {
   "cell_type": "markdown",
   "id": "ff7cfc2b",
   "metadata": {},
   "source": [
    "nombre_infected      1044\n",
    "nombre_sain          2353\n",
    "nombre_exposed        623\n",
    "nombre_recovered    15980\n",
    "Name: 570, dtype: int64"
   ]
  },
  {
   "cell_type": "markdown",
   "id": "6ed1fd6e",
   "metadata": {},
   "source": [
    "nombre_infected      1049\n",
    "nombre_sain          2341\n",
    "nombre_exposed        638\n",
    "nombre_recovered    15972\n",
    "Name: 571, dtype: int64"
   ]
  },
  {
   "cell_type": "markdown",
   "id": "75cc7b9c",
   "metadata": {},
   "source": [
    "nombre_infected      1061\n",
    "nombre_sain          2324\n",
    "nombre_exposed        635\n",
    "nombre_recovered    15980\n",
    "Name: 572, dtype: int64"
   ]
  },
  {
   "cell_type": "markdown",
   "id": "08b4f561",
   "metadata": {},
   "source": [
    "nombre_infected      1073\n",
    "nombre_sain          2314\n",
    "nombre_exposed        634\n",
    "nombre_recovered    15979\n",
    "Name: 573, dtype: int64"
   ]
  },
  {
   "cell_type": "markdown",
   "id": "cc094d77",
   "metadata": {},
   "source": [
    "nombre_infected      1076\n",
    "nombre_sain          2312\n",
    "nombre_exposed        642\n",
    "nombre_recovered    15970\n",
    "Name: 574, dtype: int64"
   ]
  },
  {
   "cell_type": "markdown",
   "id": "ade6d9fe",
   "metadata": {},
   "source": [
    "nombre_infected      1065\n",
    "nombre_sain          2295\n",
    "nombre_exposed        651\n",
    "nombre_recovered    15989\n",
    "Name: 575, dtype: int64"
   ]
  },
  {
   "cell_type": "markdown",
   "id": "b1975bc5",
   "metadata": {},
   "source": [
    "nombre_infected      1085\n",
    "nombre_sain          2292\n",
    "nombre_exposed        618\n",
    "nombre_recovered    16005\n",
    "Name: 576, dtype: int64"
   ]
  },
  {
   "cell_type": "markdown",
   "id": "3c82c882",
   "metadata": {},
   "source": [
    "nombre_infected      1085\n",
    "nombre_sain          2258\n",
    "nombre_exposed        627\n",
    "nombre_recovered    16030\n",
    "Name: 577, dtype: int64"
   ]
  },
  {
   "cell_type": "markdown",
   "id": "fed7510c",
   "metadata": {},
   "source": [
    "nombre_infected      1070\n",
    "nombre_sain          2249\n",
    "nombre_exposed        671\n",
    "nombre_recovered    16010\n",
    "Name: 578, dtype: int64"
   ]
  },
  {
   "cell_type": "markdown",
   "id": "64a4e167",
   "metadata": {},
   "source": [
    "nombre_infected      1067\n",
    "nombre_sain          2255\n",
    "nombre_exposed        657\n",
    "nombre_recovered    16021\n",
    "Name: 579, dtype: int64"
   ]
  },
  {
   "cell_type": "markdown",
   "id": "0288cf9f",
   "metadata": {},
   "source": [
    "nombre_infected      1066\n",
    "nombre_sain          2259\n",
    "nombre_exposed        655\n",
    "nombre_recovered    16020\n",
    "Name: 580, dtype: int64"
   ]
  },
  {
   "cell_type": "markdown",
   "id": "d30a62a1",
   "metadata": {},
   "source": [
    "nombre_infected      1070\n",
    "nombre_sain          2247\n",
    "nombre_exposed        651\n",
    "nombre_recovered    16032\n",
    "Name: 581, dtype: int64"
   ]
  },
  {
   "cell_type": "markdown",
   "id": "0ae5603a",
   "metadata": {},
   "source": [
    "nombre_infected      1091\n",
    "nombre_sain          2242\n",
    "nombre_exposed        630\n",
    "nombre_recovered    16037\n",
    "Name: 582, dtype: int64"
   ]
  },
  {
   "cell_type": "markdown",
   "id": "60c77e75",
   "metadata": {},
   "source": [
    "nombre_infected      1121\n",
    "nombre_sain          2218\n",
    "nombre_exposed        618\n",
    "nombre_recovered    16043\n",
    "Name: 583, dtype: int64"
   ]
  },
  {
   "cell_type": "markdown",
   "id": "de1edb8b",
   "metadata": {},
   "source": [
    "nombre_infected      1081\n",
    "nombre_sain          2205\n",
    "nombre_exposed        637\n",
    "nombre_recovered    16077\n",
    "Name: 584, dtype: int64"
   ]
  },
  {
   "cell_type": "markdown",
   "id": "3ad1b8cb",
   "metadata": {},
   "source": [
    "nombre_infected      1083\n",
    "nombre_sain          2192\n",
    "nombre_exposed        655\n",
    "nombre_recovered    16070\n",
    "Name: 585, dtype: int64"
   ]
  },
  {
   "cell_type": "markdown",
   "id": "0c9d00b4",
   "metadata": {},
   "source": [
    "nombre_infected      1084\n",
    "nombre_sain          2165\n",
    "nombre_exposed        654\n",
    "nombre_recovered    16097\n",
    "Name: 586, dtype: int64"
   ]
  },
  {
   "cell_type": "markdown",
   "id": "14ad2c1f",
   "metadata": {},
   "source": [
    "nombre_infected      1080\n",
    "nombre_sain          2143\n",
    "nombre_exposed        631\n",
    "nombre_recovered    16146\n",
    "Name: 587, dtype: int64"
   ]
  },
  {
   "cell_type": "markdown",
   "id": "a69867a4",
   "metadata": {},
   "source": [
    "nombre_infected      1089\n",
    "nombre_sain          2150\n",
    "nombre_exposed        601\n",
    "nombre_recovered    16160\n",
    "Name: 588, dtype: int64"
   ]
  },
  {
   "cell_type": "markdown",
   "id": "0bdb092f",
   "metadata": {},
   "source": [
    "nombre_infected      1073\n",
    "nombre_sain          2142\n",
    "nombre_exposed        610\n",
    "nombre_recovered    16175\n",
    "Name: 589, dtype: int64"
   ]
  },
  {
   "cell_type": "markdown",
   "id": "742329b5",
   "metadata": {},
   "source": [
    "nombre_infected      1061\n",
    "nombre_sain          2153\n",
    "nombre_exposed        599\n",
    "nombre_recovered    16187\n",
    "Name: 590, dtype: int64"
   ]
  },
  {
   "cell_type": "markdown",
   "id": "deb6d232",
   "metadata": {},
   "source": [
    "nombre_infected      1049\n",
    "nombre_sain          2148\n",
    "nombre_exposed        588\n",
    "nombre_recovered    16215\n",
    "Name: 591, dtype: int64"
   ]
  },
  {
   "cell_type": "markdown",
   "id": "483d88ca",
   "metadata": {},
   "source": [
    "nombre_infected      1064\n",
    "nombre_sain          2126\n",
    "nombre_exposed        598\n",
    "nombre_recovered    16212\n",
    "Name: 592, dtype: int64"
   ]
  },
  {
   "cell_type": "markdown",
   "id": "6f29bca0",
   "metadata": {},
   "source": [
    "nombre_infected      1050\n",
    "nombre_sain          2110\n",
    "nombre_exposed        595\n",
    "nombre_recovered    16245\n",
    "Name: 593, dtype: int64"
   ]
  },
  {
   "cell_type": "markdown",
   "id": "d33658c4",
   "metadata": {},
   "source": [
    "nombre_infected      1057\n",
    "nombre_sain          2125\n",
    "nombre_exposed        590\n",
    "nombre_recovered    16228\n",
    "Name: 594, dtype: int64"
   ]
  },
  {
   "cell_type": "markdown",
   "id": "d8b0fccd",
   "metadata": {},
   "source": [
    "nombre_infected      1045\n",
    "nombre_sain          2123\n",
    "nombre_exposed        592\n",
    "nombre_recovered    16240\n",
    "Name: 595, dtype: int64"
   ]
  },
  {
   "cell_type": "markdown",
   "id": "bc61053c",
   "metadata": {},
   "source": [
    "nombre_infected      1047\n",
    "nombre_sain          2145\n",
    "nombre_exposed        567\n",
    "nombre_recovered    16241\n",
    "Name: 596, dtype: int64"
   ]
  },
  {
   "cell_type": "markdown",
   "id": "67f6f118",
   "metadata": {},
   "source": [
    "nombre_infected      1044\n",
    "nombre_sain          2155\n",
    "nombre_exposed        559\n",
    "nombre_recovered    16242\n",
    "Name: 597, dtype: int64"
   ]
  },
  {
   "cell_type": "markdown",
   "id": "0abfa8e3",
   "metadata": {},
   "source": [
    "nombre_infected      1036\n",
    "nombre_sain          2136\n",
    "nombre_exposed        572\n",
    "nombre_recovered    16256\n",
    "Name: 598, dtype: int64"
   ]
  },
  {
   "cell_type": "markdown",
   "id": "afe0b96c",
   "metadata": {},
   "source": [
    "nombre_infected      1032\n",
    "nombre_sain          2136\n",
    "nombre_exposed        561\n",
    "nombre_recovered    16271\n",
    "Name: 599, dtype: int64"
   ]
  },
  {
   "cell_type": "markdown",
   "id": "bdaca2ab",
   "metadata": {},
   "source": [
    "nombre_infected      1018\n",
    "nombre_sain          2150\n",
    "nombre_exposed        565\n",
    "nombre_recovered    16267\n",
    "Name: 600, dtype: int64"
   ]
  },
  {
   "cell_type": "markdown",
   "id": "26e1e37c",
   "metadata": {},
   "source": [
    "nombre_infected      1011\n",
    "nombre_sain          2165\n",
    "nombre_exposed        564\n",
    "nombre_recovered    16260\n",
    "Name: 601, dtype: int64"
   ]
  },
  {
   "cell_type": "markdown",
   "id": "20c326e3",
   "metadata": {},
   "source": [
    "nombre_infected      1005\n",
    "nombre_sain          2164\n",
    "nombre_exposed        567\n",
    "nombre_recovered    16264\n",
    "Name: 602, dtype: int64"
   ]
  },
  {
   "cell_type": "markdown",
   "id": "99acc478",
   "metadata": {},
   "source": [
    "nombre_infected       976\n",
    "nombre_sain          2159\n",
    "nombre_exposed        555\n",
    "nombre_recovered    16310\n",
    "Name: 603, dtype: int64"
   ]
  },
  {
   "cell_type": "markdown",
   "id": "b6ffe235",
   "metadata": {},
   "source": [
    "nombre_infected       959\n",
    "nombre_sain          2131\n",
    "nombre_exposed        566\n",
    "nombre_recovered    16344\n",
    "Name: 604, dtype: int64"
   ]
  },
  {
   "cell_type": "markdown",
   "id": "aa6ae348",
   "metadata": {},
   "source": [
    "nombre_infected       942\n",
    "nombre_sain          2132\n",
    "nombre_exposed        591\n",
    "nombre_recovered    16335\n",
    "Name: 605, dtype: int64"
   ]
  },
  {
   "cell_type": "markdown",
   "id": "935cab23",
   "metadata": {},
   "source": [
    "nombre_infected       947\n",
    "nombre_sain          2131\n",
    "nombre_exposed        574\n",
    "nombre_recovered    16348\n",
    "Name: 606, dtype: int64"
   ]
  },
  {
   "cell_type": "markdown",
   "id": "842b264f",
   "metadata": {},
   "source": [
    "nombre_infected       975\n",
    "nombre_sain          2125\n",
    "nombre_exposed        564\n",
    "nombre_recovered    16336\n",
    "Name: 607, dtype: int64"
   ]
  },
  {
   "cell_type": "markdown",
   "id": "b3eac3a5",
   "metadata": {},
   "source": [
    "nombre_infected       979\n",
    "nombre_sain          2117\n",
    "nombre_exposed        564\n",
    "nombre_recovered    16340\n",
    "Name: 608, dtype: int64"
   ]
  },
  {
   "cell_type": "markdown",
   "id": "efd97edd",
   "metadata": {},
   "source": [
    "nombre_infected       985\n",
    "nombre_sain          2119\n",
    "nombre_exposed        527\n",
    "nombre_recovered    16369\n",
    "Name: 609, dtype: int64"
   ]
  },
  {
   "cell_type": "markdown",
   "id": "f6183956",
   "metadata": {},
   "source": [
    "nombre_infected       972\n",
    "nombre_sain          2078\n",
    "nombre_exposed        545\n",
    "nombre_recovered    16405\n",
    "Name: 610, dtype: int64"
   ]
  },
  {
   "cell_type": "markdown",
   "id": "91507867",
   "metadata": {},
   "source": [
    "nombre_infected       953\n",
    "nombre_sain          2072\n",
    "nombre_exposed        550\n",
    "nombre_recovered    16425\n",
    "Name: 611, dtype: int64"
   ]
  },
  {
   "cell_type": "markdown",
   "id": "f6f85ba8",
   "metadata": {},
   "source": [
    "nombre_infected       963\n",
    "nombre_sain          2050\n",
    "nombre_exposed        544\n",
    "nombre_recovered    16443\n",
    "Name: 612, dtype: int64"
   ]
  },
  {
   "cell_type": "markdown",
   "id": "9897be75",
   "metadata": {},
   "source": [
    "nombre_infected       951\n",
    "nombre_sain          2015\n",
    "nombre_exposed        548\n",
    "nombre_recovered    16486\n",
    "Name: 613, dtype: int64"
   ]
  },
  {
   "cell_type": "markdown",
   "id": "fc457836",
   "metadata": {},
   "source": [
    "nombre_infected       951\n",
    "nombre_sain          2011\n",
    "nombre_exposed        539\n",
    "nombre_recovered    16499\n",
    "Name: 614, dtype: int64"
   ]
  },
  {
   "cell_type": "markdown",
   "id": "07415929",
   "metadata": {},
   "source": [
    "nombre_infected       943\n",
    "nombre_sain          1994\n",
    "nombre_exposed        528\n",
    "nombre_recovered    16535\n",
    "Name: 615, dtype: int64"
   ]
  },
  {
   "cell_type": "markdown",
   "id": "d0f8cdb1",
   "metadata": {},
   "source": [
    "nombre_infected       926\n",
    "nombre_sain          2001\n",
    "nombre_exposed        527\n",
    "nombre_recovered    16546\n",
    "Name: 616, dtype: int64"
   ]
  },
  {
   "cell_type": "markdown",
   "id": "9c6f5a2b",
   "metadata": {},
   "source": [
    "nombre_infected       905\n",
    "nombre_sain          2006\n",
    "nombre_exposed        526\n",
    "nombre_recovered    16563\n",
    "Name: 617, dtype: int64"
   ]
  },
  {
   "cell_type": "markdown",
   "id": "d9c2cf77",
   "metadata": {},
   "source": [
    "nombre_infected       913\n",
    "nombre_sain          2010\n",
    "nombre_exposed        503\n",
    "nombre_recovered    16574\n",
    "Name: 618, dtype: int64"
   ]
  },
  {
   "cell_type": "markdown",
   "id": "a38f0bbb",
   "metadata": {},
   "source": [
    "nombre_infected       920\n",
    "nombre_sain          2021\n",
    "nombre_exposed        492\n",
    "nombre_recovered    16567\n",
    "Name: 619, dtype: int64"
   ]
  },
  {
   "cell_type": "markdown",
   "id": "969642d0",
   "metadata": {},
   "source": [
    "nombre_infected       911\n",
    "nombre_sain          2005\n",
    "nombre_exposed        495\n",
    "nombre_recovered    16589\n",
    "Name: 620, dtype: int64"
   ]
  },
  {
   "cell_type": "markdown",
   "id": "8c0302f6",
   "metadata": {},
   "source": [
    "nombre_infected       910\n",
    "nombre_sain          2029\n",
    "nombre_exposed        482\n",
    "nombre_recovered    16579\n",
    "Name: 621, dtype: int64"
   ]
  },
  {
   "cell_type": "markdown",
   "id": "df3a4c9d",
   "metadata": {},
   "source": [
    "nombre_infected       902\n",
    "nombre_sain          2035\n",
    "nombre_exposed        491\n",
    "nombre_recovered    16572\n",
    "Name: 622, dtype: int64"
   ]
  },
  {
   "cell_type": "markdown",
   "id": "db5a9868",
   "metadata": {},
   "source": [
    "nombre_infected       889\n",
    "nombre_sain          2044\n",
    "nombre_exposed        502\n",
    "nombre_recovered    16565\n",
    "Name: 623, dtype: int64"
   ]
  },
  {
   "cell_type": "markdown",
   "id": "ccc7b88d",
   "metadata": {},
   "source": [
    "nombre_infected       894\n",
    "nombre_sain          2052\n",
    "nombre_exposed        489\n",
    "nombre_recovered    16565\n",
    "Name: 624, dtype: int64"
   ]
  },
  {
   "cell_type": "markdown",
   "id": "c4812904",
   "metadata": {},
   "source": [
    "nombre_infected       891\n",
    "nombre_sain          2079\n",
    "nombre_exposed        478\n",
    "nombre_recovered    16552\n",
    "Name: 625, dtype: int64"
   ]
  },
  {
   "cell_type": "markdown",
   "id": "a9711c2d",
   "metadata": {},
   "source": [
    "nombre_infected       879\n",
    "nombre_sain          2109\n",
    "nombre_exposed        458\n",
    "nombre_recovered    16554\n",
    "Name: 626, dtype: int64"
   ]
  },
  {
   "cell_type": "markdown",
   "id": "97c7ac13",
   "metadata": {},
   "source": [
    "nombre_infected       872\n",
    "nombre_sain          2126\n",
    "nombre_exposed        441\n",
    "nombre_recovered    16561\n",
    "Name: 627, dtype: int64"
   ]
  },
  {
   "cell_type": "markdown",
   "id": "f903b7f9",
   "metadata": {},
   "source": [
    "nombre_infected       874\n",
    "nombre_sain          2150\n",
    "nombre_exposed        447\n",
    "nombre_recovered    16529\n",
    "Name: 628, dtype: int64"
   ]
  },
  {
   "cell_type": "markdown",
   "id": "d0d88e09",
   "metadata": {},
   "source": [
    "nombre_infected       857\n",
    "nombre_sain          2145\n",
    "nombre_exposed        460\n",
    "nombre_recovered    16538\n",
    "Name: 629, dtype: int64"
   ]
  },
  {
   "cell_type": "markdown",
   "id": "8534efa1",
   "metadata": {},
   "source": [
    "nombre_infected       861\n",
    "nombre_sain          2145\n",
    "nombre_exposed        485\n",
    "nombre_recovered    16509\n",
    "Name: 630, dtype: int64"
   ]
  },
  {
   "cell_type": "markdown",
   "id": "3846b4f7",
   "metadata": {},
   "source": [
    "nombre_infected       848\n",
    "nombre_sain          2160\n",
    "nombre_exposed        509\n",
    "nombre_recovered    16483\n",
    "Name: 631, dtype: int64"
   ]
  },
  {
   "cell_type": "markdown",
   "id": "9b6b752b",
   "metadata": {},
   "source": [
    "nombre_infected       869\n",
    "nombre_sain          2182\n",
    "nombre_exposed        500\n",
    "nombre_recovered    16449\n",
    "Name: 632, dtype: int64"
   ]
  },
  {
   "cell_type": "markdown",
   "id": "8e64e518",
   "metadata": {},
   "source": [
    "nombre_infected       858\n",
    "nombre_sain          2206\n",
    "nombre_exposed        498\n",
    "nombre_recovered    16438\n",
    "Name: 633, dtype: int64"
   ]
  },
  {
   "cell_type": "markdown",
   "id": "40c8a5cc",
   "metadata": {},
   "source": [
    "nombre_infected       870\n",
    "nombre_sain          2222\n",
    "nombre_exposed        476\n",
    "nombre_recovered    16432\n",
    "Name: 634, dtype: int64"
   ]
  },
  {
   "cell_type": "markdown",
   "id": "78e8e9c9",
   "metadata": {},
   "source": [
    "nombre_infected       886\n",
    "nombre_sain          2230\n",
    "nombre_exposed        474\n",
    "nombre_recovered    16410\n",
    "Name: 635, dtype: int64"
   ]
  },
  {
   "cell_type": "markdown",
   "id": "e63719ac",
   "metadata": {},
   "source": [
    "nombre_infected       885\n",
    "nombre_sain          2229\n",
    "nombre_exposed        484\n",
    "nombre_recovered    16402\n",
    "Name: 636, dtype: int64"
   ]
  },
  {
   "cell_type": "markdown",
   "id": "376961c1",
   "metadata": {},
   "source": [
    "nombre_infected       881\n",
    "nombre_sain          2229\n",
    "nombre_exposed        483\n",
    "nombre_recovered    16407\n",
    "Name: 637, dtype: int64"
   ]
  },
  {
   "cell_type": "markdown",
   "id": "706104c7",
   "metadata": {},
   "source": [
    "nombre_infected       886\n",
    "nombre_sain          2209\n",
    "nombre_exposed        504\n",
    "nombre_recovered    16401\n",
    "Name: 638, dtype: int64"
   ]
  },
  {
   "cell_type": "markdown",
   "id": "da48acad",
   "metadata": {},
   "source": [
    "nombre_infected       882\n",
    "nombre_sain          2189\n",
    "nombre_exposed        520\n",
    "nombre_recovered    16409\n",
    "Name: 639, dtype: int64"
   ]
  },
  {
   "cell_type": "markdown",
   "id": "51e81273",
   "metadata": {},
   "source": [
    "nombre_infected       901\n",
    "nombre_sain          2213\n",
    "nombre_exposed        489\n",
    "nombre_recovered    16397\n",
    "Name: 640, dtype: int64"
   ]
  },
  {
   "cell_type": "markdown",
   "id": "c46f0521",
   "metadata": {},
   "source": [
    "nombre_infected       908\n",
    "nombre_sain          2222\n",
    "nombre_exposed        470\n",
    "nombre_recovered    16400\n",
    "Name: 641, dtype: int64"
   ]
  },
  {
   "cell_type": "markdown",
   "id": "c79e0b36",
   "metadata": {},
   "source": [
    "nombre_infected       903\n",
    "nombre_sain          2232\n",
    "nombre_exposed        477\n",
    "nombre_recovered    16388\n",
    "Name: 642, dtype: int64"
   ]
  },
  {
   "cell_type": "markdown",
   "id": "cc2e13c5",
   "metadata": {},
   "source": [
    "nombre_infected       931\n",
    "nombre_sain          2228\n",
    "nombre_exposed        476\n",
    "nombre_recovered    16365\n",
    "Name: 643, dtype: int64"
   ]
  },
  {
   "cell_type": "markdown",
   "id": "41c8cd77",
   "metadata": {},
   "source": [
    "nombre_infected       918\n",
    "nombre_sain          2209\n",
    "nombre_exposed        499\n",
    "nombre_recovered    16374\n",
    "Name: 644, dtype: int64"
   ]
  },
  {
   "cell_type": "markdown",
   "id": "453cf109",
   "metadata": {},
   "source": [
    "nombre_infected       918\n",
    "nombre_sain          2211\n",
    "nombre_exposed        518\n",
    "nombre_recovered    16353\n",
    "Name: 645, dtype: int64"
   ]
  },
  {
   "cell_type": "markdown",
   "id": "189734c1",
   "metadata": {},
   "source": [
    "nombre_infected       918\n",
    "nombre_sain          2220\n",
    "nombre_exposed        520\n",
    "nombre_recovered    16342\n",
    "Name: 646, dtype: int64"
   ]
  },
  {
   "cell_type": "markdown",
   "id": "47d91e99",
   "metadata": {},
   "source": [
    "nombre_infected       932\n",
    "nombre_sain          2223\n",
    "nombre_exposed        522\n",
    "nombre_recovered    16323\n",
    "Name: 647, dtype: int64"
   ]
  },
  {
   "cell_type": "markdown",
   "id": "727e7925",
   "metadata": {},
   "source": [
    "nombre_infected       932\n",
    "nombre_sain          2198\n",
    "nombre_exposed        538\n",
    "nombre_recovered    16332\n",
    "Name: 648, dtype: int64"
   ]
  },
  {
   "cell_type": "markdown",
   "id": "392d10c9",
   "metadata": {},
   "source": [
    "nombre_infected       955\n",
    "nombre_sain          2214\n",
    "nombre_exposed        528\n",
    "nombre_recovered    16303\n",
    "Name: 649, dtype: int64"
   ]
  },
  {
   "cell_type": "markdown",
   "id": "a810f4b3",
   "metadata": {},
   "source": [
    "nombre_infected       960\n",
    "nombre_sain          2226\n",
    "nombre_exposed        530\n",
    "nombre_recovered    16284\n",
    "Name: 650, dtype: int64"
   ]
  },
  {
   "cell_type": "markdown",
   "id": "1a410419",
   "metadata": {},
   "source": [
    "nombre_infected       980\n",
    "nombre_sain          2206\n",
    "nombre_exposed        549\n",
    "nombre_recovered    16265\n",
    "Name: 651, dtype: int64"
   ]
  },
  {
   "cell_type": "markdown",
   "id": "bd5e3ce9",
   "metadata": {},
   "source": [
    "nombre_infected       973\n",
    "nombre_sain          2191\n",
    "nombre_exposed        561\n",
    "nombre_recovered    16275\n",
    "Name: 652, dtype: int64"
   ]
  },
  {
   "cell_type": "markdown",
   "id": "23ad5e51",
   "metadata": {},
   "source": [
    "nombre_infected       972\n",
    "nombre_sain          2155\n",
    "nombre_exposed        569\n",
    "nombre_recovered    16304\n",
    "Name: 653, dtype: int64"
   ]
  },
  {
   "cell_type": "markdown",
   "id": "b4148891",
   "metadata": {},
   "source": [
    "nombre_infected      1004\n",
    "nombre_sain          2144\n",
    "nombre_exposed        560\n",
    "nombre_recovered    16292\n",
    "Name: 654, dtype: int64"
   ]
  },
  {
   "cell_type": "markdown",
   "id": "07ebcb18",
   "metadata": {},
   "source": [
    "nombre_infected      1016\n",
    "nombre_sain          2114\n",
    "nombre_exposed        576\n",
    "nombre_recovered    16294\n",
    "Name: 655, dtype: int64"
   ]
  },
  {
   "cell_type": "markdown",
   "id": "309ca324",
   "metadata": {},
   "source": [
    "nombre_infected      1026\n",
    "nombre_sain          2097\n",
    "nombre_exposed        584\n",
    "nombre_recovered    16293\n",
    "Name: 656, dtype: int64"
   ]
  },
  {
   "cell_type": "markdown",
   "id": "bbec97a2",
   "metadata": {},
   "source": [
    "nombre_infected      1060\n",
    "nombre_sain          2098\n",
    "nombre_exposed        550\n",
    "nombre_recovered    16292\n",
    "Name: 657, dtype: int64"
   ]
  },
  {
   "cell_type": "markdown",
   "id": "3099ad0e",
   "metadata": {},
   "source": [
    "nombre_infected      1082\n",
    "nombre_sain          2097\n",
    "nombre_exposed        548\n",
    "nombre_recovered    16273\n",
    "Name: 658, dtype: int64"
   ]
  },
  {
   "cell_type": "markdown",
   "id": "8d739d29",
   "metadata": {},
   "source": [
    "nombre_infected      1098\n",
    "nombre_sain          2063\n",
    "nombre_exposed        555\n",
    "nombre_recovered    16284\n",
    "Name: 659, dtype: int64"
   ]
  },
  {
   "cell_type": "markdown",
   "id": "3a5de6bf",
   "metadata": {},
   "source": [
    "nombre_infected      1094\n",
    "nombre_sain          2036\n",
    "nombre_exposed        572\n",
    "nombre_recovered    16298\n",
    "Name: 660, dtype: int64"
   ]
  },
  {
   "cell_type": "markdown",
   "id": "3cbca5d0",
   "metadata": {},
   "source": [
    "nombre_infected      1090\n",
    "nombre_sain          2063\n",
    "nombre_exposed        565\n",
    "nombre_recovered    16282\n",
    "Name: 661, dtype: int64"
   ]
  },
  {
   "cell_type": "markdown",
   "id": "e93aff00",
   "metadata": {},
   "source": [
    "nombre_infected      1108\n",
    "nombre_sain          2068\n",
    "nombre_exposed        549\n",
    "nombre_recovered    16275\n",
    "Name: 662, dtype: int64"
   ]
  },
  {
   "cell_type": "markdown",
   "id": "9acfb28d",
   "metadata": {},
   "source": [
    "nombre_infected      1121\n",
    "nombre_sain          2082\n",
    "nombre_exposed        539\n",
    "nombre_recovered    16258\n",
    "Name: 663, dtype: int64"
   ]
  },
  {
   "cell_type": "markdown",
   "id": "e68e7ad7",
   "metadata": {},
   "source": [
    "nombre_infected      1115\n",
    "nombre_sain          2034\n",
    "nombre_exposed        572\n",
    "nombre_recovered    16279\n",
    "Name: 664, dtype: int64"
   ]
  },
  {
   "cell_type": "markdown",
   "id": "345d532e",
   "metadata": {},
   "source": [
    "nombre_infected      1117\n",
    "nombre_sain          2040\n",
    "nombre_exposed        572\n",
    "nombre_recovered    16271\n",
    "Name: 665, dtype: int64"
   ]
  },
  {
   "cell_type": "markdown",
   "id": "1c1df5b3",
   "metadata": {},
   "source": [
    "nombre_infected      1126\n",
    "nombre_sain          2027\n",
    "nombre_exposed        559\n",
    "nombre_recovered    16288\n",
    "Name: 666, dtype: int64"
   ]
  },
  {
   "cell_type": "markdown",
   "id": "6f549893",
   "metadata": {},
   "source": [
    "nombre_infected      1122\n",
    "nombre_sain          1998\n",
    "nombre_exposed        567\n",
    "nombre_recovered    16313\n",
    "Name: 667, dtype: int64"
   ]
  },
  {
   "cell_type": "markdown",
   "id": "5ef28b74",
   "metadata": {},
   "source": [
    "nombre_infected      1109\n",
    "nombre_sain          1998\n",
    "nombre_exposed        562\n",
    "nombre_recovered    16331\n",
    "Name: 668, dtype: int64"
   ]
  },
  {
   "cell_type": "markdown",
   "id": "3ed1cea8",
   "metadata": {},
   "source": [
    "nombre_infected      1105\n",
    "nombre_sain          1987\n",
    "nombre_exposed        549\n",
    "nombre_recovered    16359\n",
    "Name: 669, dtype: int64"
   ]
  },
  {
   "cell_type": "markdown",
   "id": "ad012d53",
   "metadata": {},
   "source": [
    "nombre_infected      1126\n",
    "nombre_sain          1952\n",
    "nombre_exposed        539\n",
    "nombre_recovered    16383\n",
    "Name: 670, dtype: int64"
   ]
  },
  {
   "cell_type": "markdown",
   "id": "fddace4f",
   "metadata": {},
   "source": [
    "nombre_infected      1124\n",
    "nombre_sain          1953\n",
    "nombre_exposed        525\n",
    "nombre_recovered    16398\n",
    "Name: 671, dtype: int64"
   ]
  },
  {
   "cell_type": "markdown",
   "id": "7785f818",
   "metadata": {},
   "source": [
    "nombre_infected      1129\n",
    "nombre_sain          1951\n",
    "nombre_exposed        518\n",
    "nombre_recovered    16402\n",
    "Name: 672, dtype: int64"
   ]
  },
  {
   "cell_type": "markdown",
   "id": "06ea7c6e",
   "metadata": {},
   "source": [
    "nombre_infected      1105\n",
    "nombre_sain          1944\n",
    "nombre_exposed        517\n",
    "nombre_recovered    16434\n",
    "Name: 673, dtype: int64"
   ]
  },
  {
   "cell_type": "markdown",
   "id": "777e2ed0",
   "metadata": {},
   "source": [
    "nombre_infected      1106\n",
    "nombre_sain          1905\n",
    "nombre_exposed        522\n",
    "nombre_recovered    16467\n",
    "Name: 674, dtype: int64"
   ]
  },
  {
   "cell_type": "markdown",
   "id": "8d7a48dc",
   "metadata": {},
   "source": [
    "nombre_infected      1092\n",
    "nombre_sain          1917\n",
    "nombre_exposed        527\n",
    "nombre_recovered    16464\n",
    "Name: 675, dtype: int64"
   ]
  },
  {
   "cell_type": "markdown",
   "id": "06b7118c",
   "metadata": {},
   "source": [
    "nombre_infected      1084\n",
    "nombre_sain          1916\n",
    "nombre_exposed        522\n",
    "nombre_recovered    16478\n",
    "Name: 676, dtype: int64"
   ]
  },
  {
   "cell_type": "markdown",
   "id": "478abb1b",
   "metadata": {},
   "source": [
    "nombre_infected      1087\n",
    "nombre_sain          1909\n",
    "nombre_exposed        530\n",
    "nombre_recovered    16474\n",
    "Name: 677, dtype: int64"
   ]
  },
  {
   "cell_type": "markdown",
   "id": "2b2d559b",
   "metadata": {},
   "source": [
    "nombre_infected      1082\n",
    "nombre_sain          1891\n",
    "nombre_exposed        544\n",
    "nombre_recovered    16483\n",
    "Name: 678, dtype: int64"
   ]
  },
  {
   "cell_type": "markdown",
   "id": "020a516b",
   "metadata": {},
   "source": [
    "nombre_infected      1073\n",
    "nombre_sain          1890\n",
    "nombre_exposed        535\n",
    "nombre_recovered    16502\n",
    "Name: 679, dtype: int64"
   ]
  },
  {
   "cell_type": "markdown",
   "id": "7e77a64e",
   "metadata": {},
   "source": [
    "nombre_infected      1083\n",
    "nombre_sain          1863\n",
    "nombre_exposed        519\n",
    "nombre_recovered    16535\n",
    "Name: 680, dtype: int64"
   ]
  },
  {
   "cell_type": "markdown",
   "id": "9f6232c0",
   "metadata": {},
   "source": [
    "nombre_infected      1101\n",
    "nombre_sain          1870\n",
    "nombre_exposed        518\n",
    "nombre_recovered    16511\n",
    "Name: 681, dtype: int64"
   ]
  },
  {
   "cell_type": "markdown",
   "id": "abedb4ec",
   "metadata": {},
   "source": [
    "nombre_infected      1091\n",
    "nombre_sain          1875\n",
    "nombre_exposed        506\n",
    "nombre_recovered    16528\n",
    "Name: 682, dtype: int64"
   ]
  },
  {
   "cell_type": "markdown",
   "id": "8ba582e6",
   "metadata": {},
   "source": [
    "nombre_infected      1073\n",
    "nombre_sain          1879\n",
    "nombre_exposed        512\n",
    "nombre_recovered    16536\n",
    "Name: 683, dtype: int64"
   ]
  },
  {
   "cell_type": "markdown",
   "id": "9fddad26",
   "metadata": {},
   "source": [
    "nombre_infected      1048\n",
    "nombre_sain          1851\n",
    "nombre_exposed        532\n",
    "nombre_recovered    16569\n",
    "Name: 684, dtype: int64"
   ]
  },
  {
   "cell_type": "markdown",
   "id": "bbcdbd8f",
   "metadata": {},
   "source": [
    "nombre_infected      1047\n",
    "nombre_sain          1835\n",
    "nombre_exposed        538\n",
    "nombre_recovered    16580\n",
    "Name: 685, dtype: int64"
   ]
  },
  {
   "cell_type": "markdown",
   "id": "f4504c92",
   "metadata": {},
   "source": [
    "nombre_infected      1045\n",
    "nombre_sain          1836\n",
    "nombre_exposed        534\n",
    "nombre_recovered    16585\n",
    "Name: 686, dtype: int64"
   ]
  },
  {
   "cell_type": "markdown",
   "id": "b3abac26",
   "metadata": {},
   "source": [
    "nombre_infected      1045\n",
    "nombre_sain          1841\n",
    "nombre_exposed        525\n",
    "nombre_recovered    16589\n",
    "Name: 687, dtype: int64"
   ]
  },
  {
   "cell_type": "markdown",
   "id": "2d7eca8b",
   "metadata": {},
   "source": [
    "nombre_infected      1051\n",
    "nombre_sain          1842\n",
    "nombre_exposed        523\n",
    "nombre_recovered    16584\n",
    "Name: 688, dtype: int64"
   ]
  },
  {
   "cell_type": "markdown",
   "id": "d9fee506",
   "metadata": {},
   "source": [
    "nombre_infected      1068\n",
    "nombre_sain          1860\n",
    "nombre_exposed        479\n",
    "nombre_recovered    16593\n",
    "Name: 689, dtype: int64"
   ]
  },
  {
   "cell_type": "markdown",
   "id": "ba135671",
   "metadata": {},
   "source": [
    "nombre_infected      1041\n",
    "nombre_sain          1875\n",
    "nombre_exposed        499\n",
    "nombre_recovered    16585\n",
    "Name: 690, dtype: int64"
   ]
  },
  {
   "cell_type": "markdown",
   "id": "a6c9c9cf",
   "metadata": {},
   "source": [
    "nombre_infected      1010\n",
    "nombre_sain          1853\n",
    "nombre_exposed        522\n",
    "nombre_recovered    16615\n",
    "Name: 691, dtype: int64"
   ]
  },
  {
   "cell_type": "markdown",
   "id": "fc408dbe",
   "metadata": {},
   "source": [
    "nombre_infected      1011\n",
    "nombre_sain          1867\n",
    "nombre_exposed        507\n",
    "nombre_recovered    16615\n",
    "Name: 692, dtype: int64"
   ]
  },
  {
   "cell_type": "markdown",
   "id": "d0092ae7",
   "metadata": {},
   "source": [
    "nombre_infected       986\n",
    "nombre_sain          1867\n",
    "nombre_exposed        504\n",
    "nombre_recovered    16643\n",
    "Name: 693, dtype: int64"
   ]
  },
  {
   "cell_type": "markdown",
   "id": "979e3c0b",
   "metadata": {},
   "source": [
    "nombre_infected       990\n",
    "nombre_sain          1861\n",
    "nombre_exposed        498\n",
    "nombre_recovered    16651\n",
    "Name: 694, dtype: int64"
   ]
  },
  {
   "cell_type": "markdown",
   "id": "46303ffd",
   "metadata": {},
   "source": [
    "nombre_infected       976\n",
    "nombre_sain          1862\n",
    "nombre_exposed        492\n",
    "nombre_recovered    16670\n",
    "Name: 695, dtype: int64"
   ]
  },
  {
   "cell_type": "markdown",
   "id": "aee79982",
   "metadata": {},
   "source": [
    "nombre_infected       963\n",
    "nombre_sain          1866\n",
    "nombre_exposed        490\n",
    "nombre_recovered    16681\n",
    "Name: 696, dtype: int64"
   ]
  },
  {
   "cell_type": "markdown",
   "id": "9ecb4899",
   "metadata": {},
   "source": [
    "nombre_infected       968\n",
    "nombre_sain          1898\n",
    "nombre_exposed        453\n",
    "nombre_recovered    16681\n",
    "Name: 697, dtype: int64"
   ]
  },
  {
   "cell_type": "markdown",
   "id": "fbc874a3",
   "metadata": {},
   "source": [
    "nombre_infected       971\n",
    "nombre_sain          1919\n",
    "nombre_exposed        437\n",
    "nombre_recovered    16673\n",
    "Name: 698, dtype: int64"
   ]
  },
  {
   "cell_type": "markdown",
   "id": "5be6de66",
   "metadata": {},
   "source": [
    "nombre_infected       935\n",
    "nombre_sain          1921\n",
    "nombre_exposed        456\n",
    "nombre_recovered    16688\n",
    "Name: 699, dtype: int64"
   ]
  },
  {
   "cell_type": "markdown",
   "id": "335c474b",
   "metadata": {},
   "source": [
    "nombre_infected       913\n",
    "nombre_sain          1947\n",
    "nombre_exposed        452\n",
    "nombre_recovered    16688\n",
    "Name: 700, dtype: int64"
   ]
  },
  {
   "cell_type": "markdown",
   "id": "ce735b7f",
   "metadata": {},
   "source": [
    "nombre_infected       940\n",
    "nombre_sain          1965\n",
    "nombre_exposed        440\n",
    "nombre_recovered    16655\n",
    "Name: 701, dtype: int64"
   ]
  },
  {
   "cell_type": "markdown",
   "id": "983636ce",
   "metadata": {},
   "source": [
    "nombre_infected       907\n",
    "nombre_sain          1978\n",
    "nombre_exposed        440\n",
    "nombre_recovered    16675\n",
    "Name: 702, dtype: int64"
   ]
  },
  {
   "cell_type": "markdown",
   "id": "cf36b4d5",
   "metadata": {},
   "source": [
    "nombre_infected       889\n",
    "nombre_sain          2001\n",
    "nombre_exposed        435\n",
    "nombre_recovered    16675\n",
    "Name: 703, dtype: int64"
   ]
  },
  {
   "cell_type": "markdown",
   "id": "3001b6ea",
   "metadata": {},
   "source": [
    "nombre_infected       852\n",
    "nombre_sain          2003\n",
    "nombre_exposed        469\n",
    "nombre_recovered    16676\n",
    "Name: 704, dtype: int64"
   ]
  },
  {
   "cell_type": "markdown",
   "id": "641b9c24",
   "metadata": {},
   "source": [
    "nombre_infected       848\n",
    "nombre_sain          2009\n",
    "nombre_exposed        479\n",
    "nombre_recovered    16664\n",
    "Name: 705, dtype: int64"
   ]
  },
  {
   "cell_type": "markdown",
   "id": "0df703d9",
   "metadata": {},
   "source": [
    "nombre_infected       859\n",
    "nombre_sain          2043\n",
    "nombre_exposed        477\n",
    "nombre_recovered    16621\n",
    "Name: 706, dtype: int64"
   ]
  },
  {
   "cell_type": "markdown",
   "id": "a0458ea0",
   "metadata": {},
   "source": [
    "nombre_infected       887\n",
    "nombre_sain          2079\n",
    "nombre_exposed        450\n",
    "nombre_recovered    16584\n",
    "Name: 707, dtype: int64"
   ]
  },
  {
   "cell_type": "markdown",
   "id": "6bb15032",
   "metadata": {},
   "source": [
    "nombre_infected       880\n",
    "nombre_sain          2085\n",
    "nombre_exposed        458\n",
    "nombre_recovered    16577\n",
    "Name: 708, dtype: int64"
   ]
  },
  {
   "cell_type": "markdown",
   "id": "7efa0ad3",
   "metadata": {},
   "source": [
    "nombre_infected       867\n",
    "nombre_sain          2092\n",
    "nombre_exposed        458\n",
    "nombre_recovered    16583\n",
    "Name: 709, dtype: int64"
   ]
  },
  {
   "cell_type": "markdown",
   "id": "dcf44e7d",
   "metadata": {},
   "source": [
    "nombre_infected       867\n",
    "nombre_sain          2099\n",
    "nombre_exposed        463\n",
    "nombre_recovered    16571\n",
    "Name: 710, dtype: int64"
   ]
  },
  {
   "cell_type": "markdown",
   "id": "0d8ae12e",
   "metadata": {},
   "source": [
    "nombre_infected       873\n",
    "nombre_sain          2124\n",
    "nombre_exposed        461\n",
    "nombre_recovered    16542\n",
    "Name: 711, dtype: int64"
   ]
  },
  {
   "cell_type": "markdown",
   "id": "1d42bfbd",
   "metadata": {},
   "source": [
    "nombre_infected       839\n",
    "nombre_sain          2129\n",
    "nombre_exposed        474\n",
    "nombre_recovered    16558\n",
    "Name: 712, dtype: int64"
   ]
  },
  {
   "cell_type": "markdown",
   "id": "b8c060a6",
   "metadata": {},
   "source": [
    "nombre_infected       832\n",
    "nombre_sain          2148\n",
    "nombre_exposed        481\n",
    "nombre_recovered    16539\n",
    "Name: 713, dtype: int64"
   ]
  },
  {
   "cell_type": "markdown",
   "id": "af15f200",
   "metadata": {},
   "source": [
    "nombre_infected       821\n",
    "nombre_sain          2144\n",
    "nombre_exposed        490\n",
    "nombre_recovered    16545\n",
    "Name: 714, dtype: int64"
   ]
  },
  {
   "cell_type": "markdown",
   "id": "0fe6ccdc",
   "metadata": {},
   "source": [
    "nombre_infected       825\n",
    "nombre_sain          2171\n",
    "nombre_exposed        492\n",
    "nombre_recovered    16512\n",
    "Name: 715, dtype: int64"
   ]
  },
  {
   "cell_type": "markdown",
   "id": "5cc4f16a",
   "metadata": {},
   "source": [
    "nombre_infected       839\n",
    "nombre_sain          2164\n",
    "nombre_exposed        488\n",
    "nombre_recovered    16509\n",
    "Name: 716, dtype: int64"
   ]
  },
  {
   "cell_type": "markdown",
   "id": "ab8cd748",
   "metadata": {},
   "source": [
    "nombre_infected       840\n",
    "nombre_sain          2160\n",
    "nombre_exposed        482\n",
    "nombre_recovered    16518\n",
    "Name: 717, dtype: int64"
   ]
  },
  {
   "cell_type": "markdown",
   "id": "c1312977",
   "metadata": {},
   "source": [
    "nombre_infected       848\n",
    "nombre_sain          2171\n",
    "nombre_exposed        486\n",
    "nombre_recovered    16495\n",
    "Name: 718, dtype: int64"
   ]
  },
  {
   "cell_type": "markdown",
   "id": "53468c12",
   "metadata": {},
   "source": [
    "nombre_infected       855\n",
    "nombre_sain          2188\n",
    "nombre_exposed        479\n",
    "nombre_recovered    16478\n",
    "Name: 719, dtype: int64"
   ]
  },
  {
   "cell_type": "markdown",
   "id": "221c17bd",
   "metadata": {},
   "source": [
    "nombre_infected       849\n",
    "nombre_sain          2207\n",
    "nombre_exposed        472\n",
    "nombre_recovered    16472\n",
    "Name: 720, dtype: int64"
   ]
  },
  {
   "cell_type": "markdown",
   "id": "25a2f648",
   "metadata": {},
   "source": [
    "nombre_infected       852\n",
    "nombre_sain          2212\n",
    "nombre_exposed        475\n",
    "nombre_recovered    16461\n",
    "Name: 721, dtype: int64"
   ]
  },
  {
   "cell_type": "markdown",
   "id": "a703bbbd",
   "metadata": {},
   "source": [
    "nombre_infected       840\n",
    "nombre_sain          2221\n",
    "nombre_exposed        493\n",
    "nombre_recovered    16446\n",
    "Name: 722, dtype: int64"
   ]
  },
  {
   "cell_type": "markdown",
   "id": "66640254",
   "metadata": {},
   "source": [
    "nombre_infected       816\n",
    "nombre_sain          2231\n",
    "nombre_exposed        504\n",
    "nombre_recovered    16449\n",
    "Name: 723, dtype: int64"
   ]
  },
  {
   "cell_type": "markdown",
   "id": "b1cfcd43",
   "metadata": {},
   "source": [
    "nombre_infected       818\n",
    "nombre_sain          2260\n",
    "nombre_exposed        497\n",
    "nombre_recovered    16425\n",
    "Name: 724, dtype: int64"
   ]
  },
  {
   "cell_type": "markdown",
   "id": "06ca3cdb",
   "metadata": {},
   "source": [
    "nombre_infected       839\n",
    "nombre_sain          2259\n",
    "nombre_exposed        478\n",
    "nombre_recovered    16424\n",
    "Name: 725, dtype: int64"
   ]
  },
  {
   "cell_type": "markdown",
   "id": "56162dcd",
   "metadata": {},
   "source": [
    "nombre_infected       854\n",
    "nombre_sain          2244\n",
    "nombre_exposed        475\n",
    "nombre_recovered    16427\n",
    "Name: 726, dtype: int64"
   ]
  },
  {
   "cell_type": "markdown",
   "id": "9570816e",
   "metadata": {},
   "source": [
    "nombre_infected       861\n",
    "nombre_sain          2257\n",
    "nombre_exposed        463\n",
    "nombre_recovered    16419\n",
    "Name: 727, dtype: int64"
   ]
  },
  {
   "cell_type": "markdown",
   "id": "f485be21",
   "metadata": {},
   "source": [
    "nombre_infected       860\n",
    "nombre_sain          2257\n",
    "nombre_exposed        459\n",
    "nombre_recovered    16424\n",
    "Name: 728, dtype: int64"
   ]
  },
  {
   "cell_type": "markdown",
   "id": "1c29a0dd",
   "metadata": {},
   "source": [
    "nombre_infected       844\n",
    "nombre_sain          2263\n",
    "nombre_exposed        476\n",
    "nombre_recovered    16417\n",
    "Name: 729, dtype: int64"
   ]
  },
  {
   "cell_type": "markdown",
   "id": "c3d43265",
   "metadata": {},
   "source": [
    "nombre_infected       846\n",
    "nombre_sain          2248\n",
    "nombre_exposed        490\n",
    "nombre_recovered    16416\n",
    "Name: 730, dtype: int64"
   ]
  }
 ],
 "metadata": {},
 "nbformat": 4,
 "nbformat_minor": 5
}
