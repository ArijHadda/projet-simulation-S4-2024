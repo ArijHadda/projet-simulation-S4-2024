{
 "cells": [
  {
   "cell_type": "markdown",
   "id": "e432dfaa",
   "metadata": {},
   "source": [
    "nombre_infected        20\n",
    "nombre_sain         19980\n",
    "nombre_exposed          0\n",
    "nombre_recovered        0\n",
    "Name: 0, dtype: int64"
   ]
  },
  {
   "cell_type": "markdown",
   "id": "ab715adc",
   "metadata": {},
   "source": [
    "nombre_infected        20\n",
    "nombre_sain         19967\n",
    "nombre_exposed         13\n",
    "nombre_recovered        0\n",
    "Name: 1, dtype: int64"
   ]
  },
  {
   "cell_type": "markdown",
   "id": "644b0c36",
   "metadata": {},
   "source": [
    "nombre_infected        20\n",
    "nombre_sain         19940\n",
    "nombre_exposed         40\n",
    "nombre_recovered        0\n",
    "Name: 2, dtype: int64"
   ]
  },
  {
   "cell_type": "markdown",
   "id": "4e876dc7",
   "metadata": {},
   "source": [
    "nombre_infected        20\n",
    "nombre_sain         19921\n",
    "nombre_exposed         56\n",
    "nombre_recovered        3\n",
    "Name: 3, dtype: int64"
   ]
  },
  {
   "cell_type": "markdown",
   "id": "a6ac92bf",
   "metadata": {},
   "source": [
    "nombre_infected        31\n",
    "nombre_sain         19896\n",
    "nombre_exposed         70\n",
    "nombre_recovered        3\n",
    "Name: 4, dtype: int64"
   ]
  },
  {
   "cell_type": "markdown",
   "id": "b65775af",
   "metadata": {},
   "source": [
    "nombre_infected        42\n",
    "nombre_sain         19854\n",
    "nombre_exposed        101\n",
    "nombre_recovered        3\n",
    "Name: 5, dtype: int64"
   ]
  },
  {
   "cell_type": "markdown",
   "id": "618d32c7",
   "metadata": {},
   "source": [
    "nombre_infected        58\n",
    "nombre_sain         19789\n",
    "nombre_exposed        149\n",
    "nombre_recovered        4\n",
    "Name: 6, dtype: int64"
   ]
  },
  {
   "cell_type": "markdown",
   "id": "979817de",
   "metadata": {},
   "source": [
    "nombre_infected        78\n",
    "nombre_sain         19707\n",
    "nombre_exposed        206\n",
    "nombre_recovered        9\n",
    "Name: 7, dtype: int64"
   ]
  },
  {
   "cell_type": "markdown",
   "id": "8fe32b2c",
   "metadata": {},
   "source": [
    "nombre_infected       112\n",
    "nombre_sain         19577\n",
    "nombre_exposed        291\n",
    "nombre_recovered       20\n",
    "Name: 8, dtype: int64"
   ]
  },
  {
   "cell_type": "markdown",
   "id": "752ef467",
   "metadata": {},
   "source": [
    "nombre_infected       147\n",
    "nombre_sain         19436\n",
    "nombre_exposed        387\n",
    "nombre_recovered       30\n",
    "Name: 9, dtype: int64"
   ]
  },
  {
   "cell_type": "markdown",
   "id": "4b2f73b5",
   "metadata": {},
   "source": [
    "nombre_infected       195\n",
    "nombre_sain         19232\n",
    "nombre_exposed        520\n",
    "nombre_recovered       53\n",
    "Name: 10, dtype: int64"
   ]
  },
  {
   "cell_type": "markdown",
   "id": "e2d1c6d6",
   "metadata": {},
   "source": [
    "nombre_infected       274\n",
    "nombre_sain         18939\n",
    "nombre_exposed        719\n",
    "nombre_recovered       68\n",
    "Name: 11, dtype: int64"
   ]
  },
  {
   "cell_type": "markdown",
   "id": "8b6138f0",
   "metadata": {},
   "source": [
    "nombre_infected       360\n",
    "nombre_sain         18566\n",
    "nombre_exposed        980\n",
    "nombre_recovered       94\n",
    "Name: 12, dtype: int64"
   ]
  },
  {
   "cell_type": "markdown",
   "id": "1d9a30dc",
   "metadata": {},
   "source": [
    "nombre_infected       485\n",
    "nombre_sain         18125\n",
    "nombre_exposed       1256\n",
    "nombre_recovered      134\n",
    "Name: 13, dtype: int64"
   ]
  },
  {
   "cell_type": "markdown",
   "id": "823d8ab2",
   "metadata": {},
   "source": [
    "nombre_infected       673\n",
    "nombre_sain         17509\n",
    "nombre_exposed       1634\n",
    "nombre_recovered      184\n",
    "Name: 14, dtype: int64"
   ]
  },
  {
   "cell_type": "markdown",
   "id": "8b45893a",
   "metadata": {},
   "source": [
    "nombre_infected       898\n",
    "nombre_sain         16659\n",
    "nombre_exposed       2192\n",
    "nombre_recovered      251\n",
    "Name: 15, dtype: int64"
   ]
  },
  {
   "cell_type": "markdown",
   "id": "1addfa48",
   "metadata": {},
   "source": [
    "nombre_infected      1202\n",
    "nombre_sain         15647\n",
    "nombre_exposed       2816\n",
    "nombre_recovered      335\n",
    "Name: 16, dtype: int64"
   ]
  },
  {
   "cell_type": "markdown",
   "id": "7404e970",
   "metadata": {},
   "source": [
    "nombre_infected      1596\n",
    "nombre_sain         14375\n",
    "nombre_exposed       3580\n",
    "nombre_recovered      449\n",
    "Name: 17, dtype: int64"
   ]
  },
  {
   "cell_type": "markdown",
   "id": "26bbfd33",
   "metadata": {},
   "source": [
    "nombre_infected      2127\n",
    "nombre_sain         12911\n",
    "nombre_exposed       4366\n",
    "nombre_recovered      596\n",
    "Name: 18, dtype: int64"
   ]
  },
  {
   "cell_type": "markdown",
   "id": "3f31b881",
   "metadata": {},
   "source": [
    "nombre_infected      2756\n",
    "nombre_sain         11248\n",
    "nombre_exposed       5225\n",
    "nombre_recovered      771\n",
    "Name: 19, dtype: int64"
   ]
  },
  {
   "cell_type": "markdown",
   "id": "c6c3fd89",
   "metadata": {},
   "source": [
    "nombre_infected     3497\n",
    "nombre_sain         9430\n",
    "nombre_exposed      6013\n",
    "nombre_recovered    1060\n",
    "Name: 20, dtype: int64"
   ]
  },
  {
   "cell_type": "markdown",
   "id": "a0674086",
   "metadata": {},
   "source": [
    "nombre_infected     4343\n",
    "nombre_sain         7586\n",
    "nombre_exposed      6640\n",
    "nombre_recovered    1431\n",
    "Name: 21, dtype: int64"
   ]
  },
  {
   "cell_type": "markdown",
   "id": "f4a7b94f",
   "metadata": {},
   "source": [
    "nombre_infected     5308\n",
    "nombre_sain         5994\n",
    "nombre_exposed      6823\n",
    "nombre_recovered    1875\n",
    "Name: 22, dtype: int64"
   ]
  },
  {
   "cell_type": "markdown",
   "id": "cbc15d8d",
   "metadata": {},
   "source": [
    "nombre_infected     6300\n",
    "nombre_sain         4522\n",
    "nombre_exposed      6745\n",
    "nombre_recovered    2433\n",
    "Name: 23, dtype: int64"
   ]
  },
  {
   "cell_type": "markdown",
   "id": "bc7ec867",
   "metadata": {},
   "source": [
    "nombre_infected     7220\n",
    "nombre_sain         3238\n",
    "nombre_exposed      6430\n",
    "nombre_recovered    3112\n",
    "Name: 24, dtype: int64"
   ]
  },
  {
   "cell_type": "markdown",
   "id": "3cd81ac0",
   "metadata": {},
   "source": [
    "nombre_infected     8001\n",
    "nombre_sain         2261\n",
    "nombre_exposed      5815\n",
    "nombre_recovered    3923\n",
    "Name: 25, dtype: int64"
   ]
  },
  {
   "cell_type": "markdown",
   "id": "b068e013",
   "metadata": {},
   "source": [
    "nombre_infected     8602\n",
    "nombre_sain         1525\n",
    "nombre_exposed      5041\n",
    "nombre_recovered    4832\n",
    "Name: 26, dtype: int64"
   ]
  },
  {
   "cell_type": "markdown",
   "id": "c50caf58",
   "metadata": {},
   "source": [
    "nombre_infected     8855\n",
    "nombre_sain         1048\n",
    "nombre_exposed      4224\n",
    "nombre_recovered    5873\n",
    "Name: 27, dtype: int64"
   ]
  },
  {
   "cell_type": "markdown",
   "id": "70a292e7",
   "metadata": {},
   "source": [
    "nombre_infected     8898\n",
    "nombre_sain          719\n",
    "nombre_exposed      3378\n",
    "nombre_recovered    7005\n",
    "Name: 28, dtype: int64"
   ]
  },
  {
   "cell_type": "markdown",
   "id": "62081d97",
   "metadata": {},
   "source": [
    "nombre_infected     8734\n",
    "nombre_sain          498\n",
    "nombre_exposed      2651\n",
    "nombre_recovered    8117\n",
    "Name: 29, dtype: int64"
   ]
  },
  {
   "cell_type": "markdown",
   "id": "031dde2b",
   "metadata": {},
   "source": [
    "nombre_infected     8278\n",
    "nombre_sain          371\n",
    "nombre_exposed      2053\n",
    "nombre_recovered    9298\n",
    "Name: 30, dtype: int64"
   ]
  },
  {
   "cell_type": "markdown",
   "id": "1764957d",
   "metadata": {},
   "source": [
    "nombre_infected      7780\n",
    "nombre_sain           296\n",
    "nombre_exposed       1537\n",
    "nombre_recovered    10387\n",
    "Name: 31, dtype: int64"
   ]
  },
  {
   "cell_type": "markdown",
   "id": "50239f52",
   "metadata": {},
   "source": [
    "nombre_infected      7176\n",
    "nombre_sain           221\n",
    "nombre_exposed       1174\n",
    "nombre_recovered    11429\n",
    "Name: 32, dtype: int64"
   ]
  },
  {
   "cell_type": "markdown",
   "id": "1a6c0e2c",
   "metadata": {},
   "source": [
    "nombre_infected      6514\n",
    "nombre_sain           204\n",
    "nombre_exposed        872\n",
    "nombre_recovered    12410\n",
    "Name: 33, dtype: int64"
   ]
  },
  {
   "cell_type": "markdown",
   "id": "1bdc6c91",
   "metadata": {},
   "source": [
    "nombre_infected      5867\n",
    "nombre_sain           190\n",
    "nombre_exposed        646\n",
    "nombre_recovered    13297\n",
    "Name: 34, dtype: int64"
   ]
  },
  {
   "cell_type": "markdown",
   "id": "284f202c",
   "metadata": {},
   "source": [
    "nombre_infected      5273\n",
    "nombre_sain           197\n",
    "nombre_exposed        467\n",
    "nombre_recovered    14063\n",
    "Name: 35, dtype: int64"
   ]
  },
  {
   "cell_type": "markdown",
   "id": "634f24fd",
   "metadata": {},
   "source": [
    "nombre_infected      4673\n",
    "nombre_sain           194\n",
    "nombre_exposed        368\n",
    "nombre_recovered    14765\n",
    "Name: 36, dtype: int64"
   ]
  },
  {
   "cell_type": "markdown",
   "id": "0691c0ea",
   "metadata": {},
   "source": [
    "nombre_infected      4138\n",
    "nombre_sain           206\n",
    "nombre_exposed        282\n",
    "nombre_recovered    15374\n",
    "Name: 37, dtype: int64"
   ]
  },
  {
   "cell_type": "markdown",
   "id": "b9896969",
   "metadata": {},
   "source": [
    "nombre_infected      3650\n",
    "nombre_sain           226\n",
    "nombre_exposed        216\n",
    "nombre_recovered    15908\n",
    "Name: 38, dtype: int64"
   ]
  },
  {
   "cell_type": "markdown",
   "id": "6b8ed4ff",
   "metadata": {},
   "source": [
    "nombre_infected      3185\n",
    "nombre_sain           261\n",
    "nombre_exposed        161\n",
    "nombre_recovered    16393\n",
    "Name: 39, dtype: int64"
   ]
  },
  {
   "cell_type": "markdown",
   "id": "8cbadd87",
   "metadata": {},
   "source": [
    "nombre_infected      2755\n",
    "nombre_sain           287\n",
    "nombre_exposed        156\n",
    "nombre_recovered    16802\n",
    "Name: 40, dtype: int64"
   ]
  },
  {
   "cell_type": "markdown",
   "id": "c785df4d",
   "metadata": {},
   "source": [
    "nombre_infected      2368\n",
    "nombre_sain           316\n",
    "nombre_exposed        153\n",
    "nombre_recovered    17163\n",
    "Name: 41, dtype: int64"
   ]
  },
  {
   "cell_type": "markdown",
   "id": "b18da5d0",
   "metadata": {},
   "source": [
    "nombre_infected      2036\n",
    "nombre_sain           348\n",
    "nombre_exposed        131\n",
    "nombre_recovered    17485\n",
    "Name: 42, dtype: int64"
   ]
  },
  {
   "cell_type": "markdown",
   "id": "c46384b0",
   "metadata": {},
   "source": [
    "nombre_infected      1773\n",
    "nombre_sain           380\n",
    "nombre_exposed        122\n",
    "nombre_recovered    17725\n",
    "Name: 43, dtype: int64"
   ]
  },
  {
   "cell_type": "markdown",
   "id": "3886032d",
   "metadata": {},
   "source": [
    "nombre_infected      1556\n",
    "nombre_sain           400\n",
    "nombre_exposed        116\n",
    "nombre_recovered    17928\n",
    "Name: 44, dtype: int64"
   ]
  },
  {
   "cell_type": "markdown",
   "id": "393af5c3",
   "metadata": {},
   "source": [
    "nombre_infected      1391\n",
    "nombre_sain           443\n",
    "nombre_exposed        111\n",
    "nombre_recovered    18055\n",
    "Name: 45, dtype: int64"
   ]
  },
  {
   "cell_type": "markdown",
   "id": "444049c8",
   "metadata": {},
   "source": [
    "nombre_infected      1223\n",
    "nombre_sain           474\n",
    "nombre_exposed        112\n",
    "nombre_recovered    18191\n",
    "Name: 46, dtype: int64"
   ]
  },
  {
   "cell_type": "markdown",
   "id": "c816c691",
   "metadata": {},
   "source": [
    "nombre_infected      1088\n",
    "nombre_sain           521\n",
    "nombre_exposed        114\n",
    "nombre_recovered    18277\n",
    "Name: 47, dtype: int64"
   ]
  },
  {
   "cell_type": "markdown",
   "id": "38d086ea",
   "metadata": {},
   "source": [
    "nombre_infected       958\n",
    "nombre_sain           559\n",
    "nombre_exposed        105\n",
    "nombre_recovered    18378\n",
    "Name: 48, dtype: int64"
   ]
  },
  {
   "cell_type": "markdown",
   "id": "a062886c",
   "metadata": {},
   "source": [
    "nombre_infected       843\n",
    "nombre_sain           601\n",
    "nombre_exposed        107\n",
    "nombre_recovered    18449\n",
    "Name: 49, dtype: int64"
   ]
  },
  {
   "cell_type": "markdown",
   "id": "1882fc79",
   "metadata": {},
   "source": [
    "nombre_infected       729\n",
    "nombre_sain           657\n",
    "nombre_exposed         98\n",
    "nombre_recovered    18516\n",
    "Name: 50, dtype: int64"
   ]
  },
  {
   "cell_type": "markdown",
   "id": "5befc169",
   "metadata": {},
   "source": [
    "nombre_infected       647\n",
    "nombre_sain           718\n",
    "nombre_exposed         96\n",
    "nombre_recovered    18539\n",
    "Name: 51, dtype: int64"
   ]
  },
  {
   "cell_type": "markdown",
   "id": "d7d7d6ea",
   "metadata": {},
   "source": [
    "nombre_infected       565\n",
    "nombre_sain           779\n",
    "nombre_exposed         92\n",
    "nombre_recovered    18564\n",
    "Name: 52, dtype: int64"
   ]
  },
  {
   "cell_type": "markdown",
   "id": "f2b89f41",
   "metadata": {},
   "source": [
    "nombre_infected       497\n",
    "nombre_sain           813\n",
    "nombre_exposed         90\n",
    "nombre_recovered    18600\n",
    "Name: 53, dtype: int64"
   ]
  },
  {
   "cell_type": "markdown",
   "id": "3649b62b",
   "metadata": {},
   "source": [
    "nombre_infected       422\n",
    "nombre_sain           868\n",
    "nombre_exposed         88\n",
    "nombre_recovered    18622\n",
    "Name: 54, dtype: int64"
   ]
  },
  {
   "cell_type": "markdown",
   "id": "36134e37",
   "metadata": {},
   "source": [
    "nombre_infected       372\n",
    "nombre_sain           934\n",
    "nombre_exposed         84\n",
    "nombre_recovered    18610\n",
    "Name: 55, dtype: int64"
   ]
  },
  {
   "cell_type": "markdown",
   "id": "4afe40a5",
   "metadata": {},
   "source": [
    "nombre_infected       332\n",
    "nombre_sain           979\n",
    "nombre_exposed         84\n",
    "nombre_recovered    18605\n",
    "Name: 56, dtype: int64"
   ]
  },
  {
   "cell_type": "markdown",
   "id": "cba02600",
   "metadata": {},
   "source": [
    "nombre_infected       299\n",
    "nombre_sain          1012\n",
    "nombre_exposed         79\n",
    "nombre_recovered    18610\n",
    "Name: 57, dtype: int64"
   ]
  },
  {
   "cell_type": "markdown",
   "id": "5838bd34",
   "metadata": {},
   "source": [
    "nombre_infected       279\n",
    "nombre_sain          1061\n",
    "nombre_exposed         65\n",
    "nombre_recovered    18595\n",
    "Name: 58, dtype: int64"
   ]
  },
  {
   "cell_type": "markdown",
   "id": "d84b6048",
   "metadata": {},
   "source": [
    "nombre_infected       246\n",
    "nombre_sain          1110\n",
    "nombre_exposed         66\n",
    "nombre_recovered    18578\n",
    "Name: 59, dtype: int64"
   ]
  },
  {
   "cell_type": "markdown",
   "id": "decefb2b",
   "metadata": {},
   "source": [
    "nombre_infected       216\n",
    "nombre_sain          1164\n",
    "nombre_exposed         61\n",
    "nombre_recovered    18559\n",
    "Name: 60, dtype: int64"
   ]
  },
  {
   "cell_type": "markdown",
   "id": "18565e28",
   "metadata": {},
   "source": [
    "nombre_infected       187\n",
    "nombre_sain          1215\n",
    "nombre_exposed         48\n",
    "nombre_recovered    18550\n",
    "Name: 61, dtype: int64"
   ]
  },
  {
   "cell_type": "markdown",
   "id": "55b3febb",
   "metadata": {},
   "source": [
    "nombre_infected       155\n",
    "nombre_sain          1260\n",
    "nombre_exposed         56\n",
    "nombre_recovered    18529\n",
    "Name: 62, dtype: int64"
   ]
  },
  {
   "cell_type": "markdown",
   "id": "dfc12fce",
   "metadata": {},
   "source": [
    "nombre_infected       133\n",
    "nombre_sain          1314\n",
    "nombre_exposed         47\n",
    "nombre_recovered    18506\n",
    "Name: 63, dtype: int64"
   ]
  },
  {
   "cell_type": "markdown",
   "id": "89ff8f63",
   "metadata": {},
   "source": [
    "nombre_infected       123\n",
    "nombre_sain          1379\n",
    "nombre_exposed         39\n",
    "nombre_recovered    18459\n",
    "Name: 64, dtype: int64"
   ]
  },
  {
   "cell_type": "markdown",
   "id": "ee418958",
   "metadata": {},
   "source": [
    "nombre_infected       116\n",
    "nombre_sain          1437\n",
    "nombre_exposed         41\n",
    "nombre_recovered    18406\n",
    "Name: 65, dtype: int64"
   ]
  },
  {
   "cell_type": "markdown",
   "id": "20cc65d0",
   "metadata": {},
   "source": [
    "nombre_infected       100\n",
    "nombre_sain          1484\n",
    "nombre_exposed         41\n",
    "nombre_recovered    18375\n",
    "Name: 66, dtype: int64"
   ]
  },
  {
   "cell_type": "markdown",
   "id": "c926d243",
   "metadata": {},
   "source": [
    "nombre_infected        85\n",
    "nombre_sain          1546\n",
    "nombre_exposed         39\n",
    "nombre_recovered    18330\n",
    "Name: 67, dtype: int64"
   ]
  },
  {
   "cell_type": "markdown",
   "id": "02250e4d",
   "metadata": {},
   "source": [
    "nombre_infected        86\n",
    "nombre_sain          1604\n",
    "nombre_exposed         30\n",
    "nombre_recovered    18280\n",
    "Name: 68, dtype: int64"
   ]
  },
  {
   "cell_type": "markdown",
   "id": "76a3cdd1",
   "metadata": {},
   "source": [
    "nombre_infected        80\n",
    "nombre_sain          1668\n",
    "nombre_exposed         29\n",
    "nombre_recovered    18223\n",
    "Name: 69, dtype: int64"
   ]
  },
  {
   "cell_type": "markdown",
   "id": "36bf2208",
   "metadata": {},
   "source": [
    "nombre_infected        76\n",
    "nombre_sain          1719\n",
    "nombre_exposed         28\n",
    "nombre_recovered    18177\n",
    "Name: 70, dtype: int64"
   ]
  },
  {
   "cell_type": "markdown",
   "id": "5e0398e4",
   "metadata": {},
   "source": [
    "nombre_infected        68\n",
    "nombre_sain          1763\n",
    "nombre_exposed         31\n",
    "nombre_recovered    18138\n",
    "Name: 71, dtype: int64"
   ]
  },
  {
   "cell_type": "markdown",
   "id": "49b99f8a",
   "metadata": {},
   "source": [
    "nombre_infected        69\n",
    "nombre_sain          1809\n",
    "nombre_exposed         27\n",
    "nombre_recovered    18095\n",
    "Name: 72, dtype: int64"
   ]
  },
  {
   "cell_type": "markdown",
   "id": "b17b1148",
   "metadata": {},
   "source": [
    "nombre_infected        62\n",
    "nombre_sain          1861\n",
    "nombre_exposed         23\n",
    "nombre_recovered    18054\n",
    "Name: 73, dtype: int64"
   ]
  },
  {
   "cell_type": "markdown",
   "id": "6555ba82",
   "metadata": {},
   "source": [
    "nombre_infected        59\n",
    "nombre_sain          1916\n",
    "nombre_exposed         19\n",
    "nombre_recovered    18006\n",
    "Name: 74, dtype: int64"
   ]
  },
  {
   "cell_type": "markdown",
   "id": "4bc1a488",
   "metadata": {},
   "source": [
    "nombre_infected        59\n",
    "nombre_sain          1964\n",
    "nombre_exposed         18\n",
    "nombre_recovered    17959\n",
    "Name: 75, dtype: int64"
   ]
  },
  {
   "cell_type": "markdown",
   "id": "3fb5b447",
   "metadata": {},
   "source": [
    "nombre_infected        56\n",
    "nombre_sain          2020\n",
    "nombre_exposed         20\n",
    "nombre_recovered    17904\n",
    "Name: 76, dtype: int64"
   ]
  },
  {
   "cell_type": "markdown",
   "id": "6dd1cb30",
   "metadata": {},
   "source": [
    "nombre_infected        53\n",
    "nombre_sain          2080\n",
    "nombre_exposed         16\n",
    "nombre_recovered    17851\n",
    "Name: 77, dtype: int64"
   ]
  },
  {
   "cell_type": "markdown",
   "id": "f7f1a437",
   "metadata": {},
   "source": [
    "nombre_infected        48\n",
    "nombre_sain          2133\n",
    "nombre_exposed         19\n",
    "nombre_recovered    17800\n",
    "Name: 78, dtype: int64"
   ]
  },
  {
   "cell_type": "markdown",
   "id": "be9bfd79",
   "metadata": {},
   "source": [
    "nombre_infected        44\n",
    "nombre_sain          2191\n",
    "nombre_exposed         23\n",
    "nombre_recovered    17742\n",
    "Name: 79, dtype: int64"
   ]
  },
  {
   "cell_type": "markdown",
   "id": "c74fcf9a",
   "metadata": {},
   "source": [
    "nombre_infected        43\n",
    "nombre_sain          2246\n",
    "nombre_exposed         28\n",
    "nombre_recovered    17683\n",
    "Name: 80, dtype: int64"
   ]
  },
  {
   "cell_type": "markdown",
   "id": "4296570a",
   "metadata": {},
   "source": [
    "nombre_infected        44\n",
    "nombre_sain          2294\n",
    "nombre_exposed         28\n",
    "nombre_recovered    17634\n",
    "Name: 81, dtype: int64"
   ]
  },
  {
   "cell_type": "markdown",
   "id": "9a28d604",
   "metadata": {},
   "source": [
    "nombre_infected        45\n",
    "nombre_sain          2336\n",
    "nombre_exposed         26\n",
    "nombre_recovered    17593\n",
    "Name: 82, dtype: int64"
   ]
  },
  {
   "cell_type": "markdown",
   "id": "3d684439",
   "metadata": {},
   "source": [
    "nombre_infected        46\n",
    "nombre_sain          2394\n",
    "nombre_exposed         21\n",
    "nombre_recovered    17539\n",
    "Name: 83, dtype: int64"
   ]
  },
  {
   "cell_type": "markdown",
   "id": "7975f47d",
   "metadata": {},
   "source": [
    "nombre_infected        47\n",
    "nombre_sain          2446\n",
    "nombre_exposed         24\n",
    "nombre_recovered    17483\n",
    "Name: 84, dtype: int64"
   ]
  },
  {
   "cell_type": "markdown",
   "id": "0bd90677",
   "metadata": {},
   "source": [
    "nombre_infected        43\n",
    "nombre_sain          2511\n",
    "nombre_exposed         24\n",
    "nombre_recovered    17422\n",
    "Name: 85, dtype: int64"
   ]
  },
  {
   "cell_type": "markdown",
   "id": "36254e81",
   "metadata": {},
   "source": [
    "nombre_infected        46\n",
    "nombre_sain          2581\n",
    "nombre_exposed         23\n",
    "nombre_recovered    17350\n",
    "Name: 86, dtype: int64"
   ]
  },
  {
   "cell_type": "markdown",
   "id": "057ca713",
   "metadata": {},
   "source": [
    "nombre_infected        41\n",
    "nombre_sain          2662\n",
    "nombre_exposed         28\n",
    "nombre_recovered    17269\n",
    "Name: 87, dtype: int64"
   ]
  },
  {
   "cell_type": "markdown",
   "id": "adb867a4",
   "metadata": {},
   "source": [
    "nombre_infected        32\n",
    "nombre_sain          2726\n",
    "nombre_exposed         29\n",
    "nombre_recovered    17213\n",
    "Name: 88, dtype: int64"
   ]
  },
  {
   "cell_type": "markdown",
   "id": "1d09ecb0",
   "metadata": {},
   "source": [
    "nombre_infected        35\n",
    "nombre_sain          2792\n",
    "nombre_exposed         22\n",
    "nombre_recovered    17151\n",
    "Name: 89, dtype: int64"
   ]
  },
  {
   "cell_type": "markdown",
   "id": "62d6efce",
   "metadata": {},
   "source": [
    "nombre_infected        39\n",
    "nombre_sain          2859\n",
    "nombre_exposed         19\n",
    "nombre_recovered    17083\n",
    "Name: 90, dtype: int64"
   ]
  },
  {
   "cell_type": "markdown",
   "id": "7faeb5cf",
   "metadata": {},
   "source": [
    "nombre_infected        39\n",
    "nombre_sain          2918\n",
    "nombre_exposed         22\n",
    "nombre_recovered    17021\n",
    "Name: 91, dtype: int64"
   ]
  },
  {
   "cell_type": "markdown",
   "id": "76669eb2",
   "metadata": {},
   "source": [
    "nombre_infected        42\n",
    "nombre_sain          2983\n",
    "nombre_exposed         20\n",
    "nombre_recovered    16955\n",
    "Name: 92, dtype: int64"
   ]
  },
  {
   "cell_type": "markdown",
   "id": "602716b9",
   "metadata": {},
   "source": [
    "nombre_infected        43\n",
    "nombre_sain          3045\n",
    "nombre_exposed         28\n",
    "nombre_recovered    16884\n",
    "Name: 93, dtype: int64"
   ]
  },
  {
   "cell_type": "markdown",
   "id": "2f8a0f58",
   "metadata": {},
   "source": [
    "nombre_infected        43\n",
    "nombre_sain          3100\n",
    "nombre_exposed         34\n",
    "nombre_recovered    16823\n",
    "Name: 94, dtype: int64"
   ]
  },
  {
   "cell_type": "markdown",
   "id": "caea66d7",
   "metadata": {},
   "source": [
    "nombre_infected        43\n",
    "nombre_sain          3153\n",
    "nombre_exposed         34\n",
    "nombre_recovered    16770\n",
    "Name: 95, dtype: int64"
   ]
  },
  {
   "cell_type": "markdown",
   "id": "2ff3e34a",
   "metadata": {},
   "source": [
    "nombre_infected        46\n",
    "nombre_sain          3230\n",
    "nombre_exposed         30\n",
    "nombre_recovered    16694\n",
    "Name: 96, dtype: int64"
   ]
  },
  {
   "cell_type": "markdown",
   "id": "fb3322d4",
   "metadata": {},
   "source": [
    "nombre_infected        46\n",
    "nombre_sain          3282\n",
    "nombre_exposed         35\n",
    "nombre_recovered    16637\n",
    "Name: 97, dtype: int64"
   ]
  },
  {
   "cell_type": "markdown",
   "id": "4fd38b69",
   "metadata": {},
   "source": [
    "nombre_infected        42\n",
    "nombre_sain          3339\n",
    "nombre_exposed         34\n",
    "nombre_recovered    16585\n",
    "Name: 98, dtype: int64"
   ]
  },
  {
   "cell_type": "markdown",
   "id": "37631f0c",
   "metadata": {},
   "source": [
    "nombre_infected        44\n",
    "nombre_sain          3389\n",
    "nombre_exposed         31\n",
    "nombre_recovered    16536\n",
    "Name: 99, dtype: int64"
   ]
  },
  {
   "cell_type": "markdown",
   "id": "7d7729c4",
   "metadata": {},
   "source": [
    "nombre_infected        41\n",
    "nombre_sain          3441\n",
    "nombre_exposed         31\n",
    "nombre_recovered    16487\n",
    "Name: 100, dtype: int64"
   ]
  },
  {
   "cell_type": "markdown",
   "id": "9db29946",
   "metadata": {},
   "source": [
    "nombre_infected        42\n",
    "nombre_sain          3506\n",
    "nombre_exposed         29\n",
    "nombre_recovered    16423\n",
    "Name: 101, dtype: int64"
   ]
  },
  {
   "cell_type": "markdown",
   "id": "d5adce90",
   "metadata": {},
   "source": [
    "nombre_infected        42\n",
    "nombre_sain          3573\n",
    "nombre_exposed         27\n",
    "nombre_recovered    16358\n",
    "Name: 102, dtype: int64"
   ]
  },
  {
   "cell_type": "markdown",
   "id": "85f9bce9",
   "metadata": {},
   "source": [
    "nombre_infected        53\n",
    "nombre_sain          3626\n",
    "nombre_exposed         21\n",
    "nombre_recovered    16300\n",
    "Name: 103, dtype: int64"
   ]
  },
  {
   "cell_type": "markdown",
   "id": "be016943",
   "metadata": {},
   "source": [
    "nombre_infected        53\n",
    "nombre_sain          3682\n",
    "nombre_exposed         26\n",
    "nombre_recovered    16239\n",
    "Name: 104, dtype: int64"
   ]
  },
  {
   "cell_type": "markdown",
   "id": "c32ff2e2",
   "metadata": {},
   "source": [
    "nombre_infected        48\n",
    "nombre_sain          3745\n",
    "nombre_exposed         26\n",
    "nombre_recovered    16181\n",
    "Name: 105, dtype: int64"
   ]
  },
  {
   "cell_type": "markdown",
   "id": "e39695c8",
   "metadata": {},
   "source": [
    "nombre_infected        48\n",
    "nombre_sain          3796\n",
    "nombre_exposed         28\n",
    "nombre_recovered    16128\n",
    "Name: 106, dtype: int64"
   ]
  },
  {
   "cell_type": "markdown",
   "id": "4c38acc0",
   "metadata": {},
   "source": [
    "nombre_infected        46\n",
    "nombre_sain          3837\n",
    "nombre_exposed         39\n",
    "nombre_recovered    16078\n",
    "Name: 107, dtype: int64"
   ]
  },
  {
   "cell_type": "markdown",
   "id": "1df71a8b",
   "metadata": {},
   "source": [
    "nombre_infected        48\n",
    "nombre_sain          3885\n",
    "nombre_exposed         39\n",
    "nombre_recovered    16028\n",
    "Name: 108, dtype: int64"
   ]
  },
  {
   "cell_type": "markdown",
   "id": "1b3adbc8",
   "metadata": {},
   "source": [
    "nombre_infected        52\n",
    "nombre_sain          3913\n",
    "nombre_exposed         46\n",
    "nombre_recovered    15989\n",
    "Name: 109, dtype: int64"
   ]
  },
  {
   "cell_type": "markdown",
   "id": "6cbfd20a",
   "metadata": {},
   "source": [
    "nombre_infected        57\n",
    "nombre_sain          3949\n",
    "nombre_exposed         47\n",
    "nombre_recovered    15947\n",
    "Name: 110, dtype: int64"
   ]
  },
  {
   "cell_type": "markdown",
   "id": "d2418832",
   "metadata": {},
   "source": [
    "nombre_infected        58\n",
    "nombre_sain          3997\n",
    "nombre_exposed         48\n",
    "nombre_recovered    15897\n",
    "Name: 111, dtype: int64"
   ]
  },
  {
   "cell_type": "markdown",
   "id": "bc94a434",
   "metadata": {},
   "source": [
    "nombre_infected        56\n",
    "nombre_sain          4019\n",
    "nombre_exposed         55\n",
    "nombre_recovered    15870\n",
    "Name: 112, dtype: int64"
   ]
  },
  {
   "cell_type": "markdown",
   "id": "2ab39229",
   "metadata": {},
   "source": [
    "nombre_infected        67\n",
    "nombre_sain          4051\n",
    "nombre_exposed         55\n",
    "nombre_recovered    15827\n",
    "Name: 113, dtype: int64"
   ]
  },
  {
   "cell_type": "markdown",
   "id": "71d316fc",
   "metadata": {},
   "source": [
    "nombre_infected        64\n",
    "nombre_sain          4072\n",
    "nombre_exposed         60\n",
    "nombre_recovered    15804\n",
    "Name: 114, dtype: int64"
   ]
  },
  {
   "cell_type": "markdown",
   "id": "78d56ccb",
   "metadata": {},
   "source": [
    "nombre_infected        61\n",
    "nombre_sain          4097\n",
    "nombre_exposed         67\n",
    "nombre_recovered    15775\n",
    "Name: 115, dtype: int64"
   ]
  },
  {
   "cell_type": "markdown",
   "id": "034992e6",
   "metadata": {},
   "source": [
    "nombre_infected        69\n",
    "nombre_sain          4109\n",
    "nombre_exposed         69\n",
    "nombre_recovered    15753\n",
    "Name: 116, dtype: int64"
   ]
  },
  {
   "cell_type": "markdown",
   "id": "76f0340f",
   "metadata": {},
   "source": [
    "nombre_infected        75\n",
    "nombre_sain          4135\n",
    "nombre_exposed         68\n",
    "nombre_recovered    15722\n",
    "Name: 117, dtype: int64"
   ]
  },
  {
   "cell_type": "markdown",
   "id": "ae4e0e0b",
   "metadata": {},
   "source": [
    "nombre_infected        82\n",
    "nombre_sain          4162\n",
    "nombre_exposed         71\n",
    "nombre_recovered    15685\n",
    "Name: 118, dtype: int64"
   ]
  },
  {
   "cell_type": "markdown",
   "id": "98e13928",
   "metadata": {},
   "source": [
    "nombre_infected        91\n",
    "nombre_sain          4175\n",
    "nombre_exposed         73\n",
    "nombre_recovered    15661\n",
    "Name: 119, dtype: int64"
   ]
  },
  {
   "cell_type": "markdown",
   "id": "d5cd2f99",
   "metadata": {},
   "source": [
    "nombre_infected       100\n",
    "nombre_sain          4175\n",
    "nombre_exposed         83\n",
    "nombre_recovered    15642\n",
    "Name: 120, dtype: int64"
   ]
  },
  {
   "cell_type": "markdown",
   "id": "0cfabaf4",
   "metadata": {},
   "source": [
    "nombre_infected       102\n",
    "nombre_sain          4194\n",
    "nombre_exposed         90\n",
    "nombre_recovered    15614\n",
    "Name: 121, dtype: int64"
   ]
  },
  {
   "cell_type": "markdown",
   "id": "604d642f",
   "metadata": {},
   "source": [
    "nombre_infected       103\n",
    "nombre_sain          4220\n",
    "nombre_exposed         99\n",
    "nombre_recovered    15578\n",
    "Name: 122, dtype: int64"
   ]
  },
  {
   "cell_type": "markdown",
   "id": "1a743866",
   "metadata": {},
   "source": [
    "nombre_infected       107\n",
    "nombre_sain          4236\n",
    "nombre_exposed        113\n",
    "nombre_recovered    15544\n",
    "Name: 123, dtype: int64"
   ]
  },
  {
   "cell_type": "markdown",
   "id": "5b22e0d8",
   "metadata": {},
   "source": [
    "nombre_infected       124\n",
    "nombre_sain          4246\n",
    "nombre_exposed        112\n",
    "nombre_recovered    15518\n",
    "Name: 124, dtype: int64"
   ]
  },
  {
   "cell_type": "markdown",
   "id": "0e10f13a",
   "metadata": {},
   "source": [
    "nombre_infected       129\n",
    "nombre_sain          4267\n",
    "nombre_exposed        119\n",
    "nombre_recovered    15485\n",
    "Name: 125, dtype: int64"
   ]
  },
  {
   "cell_type": "markdown",
   "id": "89574517",
   "metadata": {},
   "source": [
    "nombre_infected       147\n",
    "nombre_sain          4254\n",
    "nombre_exposed        127\n",
    "nombre_recovered    15472\n",
    "Name: 126, dtype: int64"
   ]
  },
  {
   "cell_type": "markdown",
   "id": "69f6b84b",
   "metadata": {},
   "source": [
    "nombre_infected       157\n",
    "nombre_sain          4274\n",
    "nombre_exposed        132\n",
    "nombre_recovered    15437\n",
    "Name: 127, dtype: int64"
   ]
  },
  {
   "cell_type": "markdown",
   "id": "85fb20e6",
   "metadata": {},
   "source": [
    "nombre_infected       153\n",
    "nombre_sain          4277\n",
    "nombre_exposed        143\n",
    "nombre_recovered    15427\n",
    "Name: 128, dtype: int64"
   ]
  },
  {
   "cell_type": "markdown",
   "id": "52f343e3",
   "metadata": {},
   "source": [
    "nombre_infected       166\n",
    "nombre_sain          4289\n",
    "nombre_exposed        136\n",
    "nombre_recovered    15409\n",
    "Name: 129, dtype: int64"
   ]
  },
  {
   "cell_type": "markdown",
   "id": "64b45aad",
   "metadata": {},
   "source": [
    "nombre_infected       177\n",
    "nombre_sain          4290\n",
    "nombre_exposed        141\n",
    "nombre_recovered    15392\n",
    "Name: 130, dtype: int64"
   ]
  },
  {
   "cell_type": "markdown",
   "id": "b47eae5a",
   "metadata": {},
   "source": [
    "nombre_infected       187\n",
    "nombre_sain          4273\n",
    "nombre_exposed        157\n",
    "nombre_recovered    15383\n",
    "Name: 131, dtype: int64"
   ]
  },
  {
   "cell_type": "markdown",
   "id": "3430f2ac",
   "metadata": {},
   "source": [
    "nombre_infected       188\n",
    "nombre_sain          4261\n",
    "nombre_exposed        177\n",
    "nombre_recovered    15374\n",
    "Name: 132, dtype: int64"
   ]
  },
  {
   "cell_type": "markdown",
   "id": "6773acc6",
   "metadata": {},
   "source": [
    "nombre_infected       210\n",
    "nombre_sain          4248\n",
    "nombre_exposed        189\n",
    "nombre_recovered    15353\n",
    "Name: 133, dtype: int64"
   ]
  },
  {
   "cell_type": "markdown",
   "id": "c1e733cf",
   "metadata": {},
   "source": [
    "nombre_infected       218\n",
    "nombre_sain          4242\n",
    "nombre_exposed        199\n",
    "nombre_recovered    15341\n",
    "Name: 134, dtype: int64"
   ]
  },
  {
   "cell_type": "markdown",
   "id": "2c5fc666",
   "metadata": {},
   "source": [
    "nombre_infected       245\n",
    "nombre_sain          4231\n",
    "nombre_exposed        205\n",
    "nombre_recovered    15319\n",
    "Name: 135, dtype: int64"
   ]
  },
  {
   "cell_type": "markdown",
   "id": "3a59f9ae",
   "metadata": {},
   "source": [
    "nombre_infected       253\n",
    "nombre_sain          4214\n",
    "nombre_exposed        210\n",
    "nombre_recovered    15323\n",
    "Name: 136, dtype: int64"
   ]
  },
  {
   "cell_type": "markdown",
   "id": "b2839ae3",
   "metadata": {},
   "source": [
    "nombre_infected       268\n",
    "nombre_sain          4185\n",
    "nombre_exposed        221\n",
    "nombre_recovered    15326\n",
    "Name: 137, dtype: int64"
   ]
  },
  {
   "cell_type": "markdown",
   "id": "dbae39d8",
   "metadata": {},
   "source": [
    "nombre_infected       290\n",
    "nombre_sain          4168\n",
    "nombre_exposed        227\n",
    "nombre_recovered    15315\n",
    "Name: 138, dtype: int64"
   ]
  },
  {
   "cell_type": "markdown",
   "id": "776fcbaf",
   "metadata": {},
   "source": [
    "nombre_infected       292\n",
    "nombre_sain          4162\n",
    "nombre_exposed        242\n",
    "nombre_recovered    15304\n",
    "Name: 139, dtype: int64"
   ]
  },
  {
   "cell_type": "markdown",
   "id": "493056a1",
   "metadata": {},
   "source": [
    "nombre_infected       317\n",
    "nombre_sain          4150\n",
    "nombre_exposed        252\n",
    "nombre_recovered    15281\n",
    "Name: 140, dtype: int64"
   ]
  },
  {
   "cell_type": "markdown",
   "id": "c06836b2",
   "metadata": {},
   "source": [
    "nombre_infected       311\n",
    "nombre_sain          4148\n",
    "nombre_exposed        267\n",
    "nombre_recovered    15274\n",
    "Name: 141, dtype: int64"
   ]
  },
  {
   "cell_type": "markdown",
   "id": "68ff033d",
   "metadata": {},
   "source": [
    "nombre_infected       346\n",
    "nombre_sain          4141\n",
    "nombre_exposed        276\n",
    "nombre_recovered    15237\n",
    "Name: 142, dtype: int64"
   ]
  },
  {
   "cell_type": "markdown",
   "id": "d23cf18c",
   "metadata": {},
   "source": [
    "nombre_infected       367\n",
    "nombre_sain          4128\n",
    "nombre_exposed        292\n",
    "nombre_recovered    15213\n",
    "Name: 143, dtype: int64"
   ]
  },
  {
   "cell_type": "markdown",
   "id": "36999f42",
   "metadata": {},
   "source": [
    "nombre_infected       391\n",
    "nombre_sain          4108\n",
    "nombre_exposed        314\n",
    "nombre_recovered    15187\n",
    "Name: 144, dtype: int64"
   ]
  },
  {
   "cell_type": "markdown",
   "id": "e3a48bb5",
   "metadata": {},
   "source": [
    "nombre_infected       405\n",
    "nombre_sain          4075\n",
    "nombre_exposed        360\n",
    "nombre_recovered    15160\n",
    "Name: 145, dtype: int64"
   ]
  },
  {
   "cell_type": "markdown",
   "id": "3895be70",
   "metadata": {},
   "source": [
    "nombre_infected       422\n",
    "nombre_sain          4019\n",
    "nombre_exposed        401\n",
    "nombre_recovered    15158\n",
    "Name: 146, dtype: int64"
   ]
  },
  {
   "cell_type": "markdown",
   "id": "f0e467ba",
   "metadata": {},
   "source": [
    "nombre_infected       448\n",
    "nombre_sain          3972\n",
    "nombre_exposed        431\n",
    "nombre_recovered    15149\n",
    "Name: 147, dtype: int64"
   ]
  },
  {
   "cell_type": "markdown",
   "id": "272c214b",
   "metadata": {},
   "source": [
    "nombre_infected       499\n",
    "nombre_sain          3936\n",
    "nombre_exposed        431\n",
    "nombre_recovered    15134\n",
    "Name: 148, dtype: int64"
   ]
  },
  {
   "cell_type": "markdown",
   "id": "68f9ac8e",
   "metadata": {},
   "source": [
    "nombre_infected       535\n",
    "nombre_sain          3875\n",
    "nombre_exposed        453\n",
    "nombre_recovered    15137\n",
    "Name: 149, dtype: int64"
   ]
  },
  {
   "cell_type": "markdown",
   "id": "d6389060",
   "metadata": {},
   "source": [
    "nombre_infected       573\n",
    "nombre_sain          3805\n",
    "nombre_exposed        470\n",
    "nombre_recovered    15152\n",
    "Name: 150, dtype: int64"
   ]
  },
  {
   "cell_type": "markdown",
   "id": "5b8316ff",
   "metadata": {},
   "source": [
    "nombre_infected       596\n",
    "nombre_sain          3729\n",
    "nombre_exposed        490\n",
    "nombre_recovered    15185\n",
    "Name: 151, dtype: int64"
   ]
  },
  {
   "cell_type": "markdown",
   "id": "2aee9a0a",
   "metadata": {},
   "source": [
    "nombre_infected       619\n",
    "nombre_sain          3649\n",
    "nombre_exposed        519\n",
    "nombre_recovered    15213\n",
    "Name: 152, dtype: int64"
   ]
  },
  {
   "cell_type": "markdown",
   "id": "d0ec5d86",
   "metadata": {},
   "source": [
    "nombre_infected       645\n",
    "nombre_sain          3544\n",
    "nombre_exposed        536\n",
    "nombre_recovered    15275\n",
    "Name: 153, dtype: int64"
   ]
  },
  {
   "cell_type": "markdown",
   "id": "25d3f32a",
   "metadata": {},
   "source": [
    "nombre_infected       682\n",
    "nombre_sain          3460\n",
    "nombre_exposed        553\n",
    "nombre_recovered    15305\n",
    "Name: 154, dtype: int64"
   ]
  },
  {
   "cell_type": "markdown",
   "id": "555e996a",
   "metadata": {},
   "source": [
    "nombre_infected       728\n",
    "nombre_sain          3383\n",
    "nombre_exposed        553\n",
    "nombre_recovered    15336\n",
    "Name: 155, dtype: int64"
   ]
  },
  {
   "cell_type": "markdown",
   "id": "9cdb2871",
   "metadata": {},
   "source": [
    "nombre_infected       754\n",
    "nombre_sain          3273\n",
    "nombre_exposed        577\n",
    "nombre_recovered    15396\n",
    "Name: 156, dtype: int64"
   ]
  },
  {
   "cell_type": "markdown",
   "id": "f657888d",
   "metadata": {},
   "source": [
    "nombre_infected       767\n",
    "nombre_sain          3172\n",
    "nombre_exposed        602\n",
    "nombre_recovered    15459\n",
    "Name: 157, dtype: int64"
   ]
  },
  {
   "cell_type": "markdown",
   "id": "104c012e",
   "metadata": {},
   "source": [
    "nombre_infected       796\n",
    "nombre_sain          3076\n",
    "nombre_exposed        605\n",
    "nombre_recovered    15523\n",
    "Name: 158, dtype: int64"
   ]
  },
  {
   "cell_type": "markdown",
   "id": "a9825f30",
   "metadata": {},
   "source": [
    "nombre_infected       845\n",
    "nombre_sain          2974\n",
    "nombre_exposed        603\n",
    "nombre_recovered    15578\n",
    "Name: 159, dtype: int64"
   ]
  },
  {
   "cell_type": "markdown",
   "id": "166c09d5",
   "metadata": {},
   "source": [
    "nombre_infected       858\n",
    "nombre_sain          2890\n",
    "nombre_exposed        610\n",
    "nombre_recovered    15642\n",
    "Name: 160, dtype: int64"
   ]
  },
  {
   "cell_type": "markdown",
   "id": "4d26a558",
   "metadata": {},
   "source": [
    "nombre_infected       910\n",
    "nombre_sain          2801\n",
    "nombre_exposed        565\n",
    "nombre_recovered    15724\n",
    "Name: 161, dtype: int64"
   ]
  },
  {
   "cell_type": "markdown",
   "id": "00f3c5e4",
   "metadata": {},
   "source": [
    "nombre_infected       907\n",
    "nombre_sain          2706\n",
    "nombre_exposed        570\n",
    "nombre_recovered    15817\n",
    "Name: 162, dtype: int64"
   ]
  },
  {
   "cell_type": "markdown",
   "id": "96fc1254",
   "metadata": {},
   "source": [
    "nombre_infected       916\n",
    "nombre_sain          2638\n",
    "nombre_exposed        559\n",
    "nombre_recovered    15887\n",
    "Name: 163, dtype: int64"
   ]
  },
  {
   "cell_type": "markdown",
   "id": "1f732e48",
   "metadata": {},
   "source": [
    "nombre_infected       912\n",
    "nombre_sain          2557\n",
    "nombre_exposed        570\n",
    "nombre_recovered    15961\n",
    "Name: 164, dtype: int64"
   ]
  },
  {
   "cell_type": "markdown",
   "id": "cf156d2c",
   "metadata": {},
   "source": [
    "nombre_infected       940\n",
    "nombre_sain          2491\n",
    "nombre_exposed        554\n",
    "nombre_recovered    16015\n",
    "Name: 165, dtype: int64"
   ]
  },
  {
   "cell_type": "markdown",
   "id": "29354bc9",
   "metadata": {},
   "source": [
    "nombre_infected       940\n",
    "nombre_sain          2433\n",
    "nombre_exposed        539\n",
    "nombre_recovered    16088\n",
    "Name: 166, dtype: int64"
   ]
  },
  {
   "cell_type": "markdown",
   "id": "a43523b5",
   "metadata": {},
   "source": [
    "nombre_infected       957\n",
    "nombre_sain          2362\n",
    "nombre_exposed        525\n",
    "nombre_recovered    16156\n",
    "Name: 167, dtype: int64"
   ]
  },
  {
   "cell_type": "markdown",
   "id": "633dadea",
   "metadata": {},
   "source": [
    "nombre_infected       960\n",
    "nombre_sain          2322\n",
    "nombre_exposed        511\n",
    "nombre_recovered    16207\n",
    "Name: 168, dtype: int64"
   ]
  },
  {
   "cell_type": "markdown",
   "id": "22d1f38a",
   "metadata": {},
   "source": [
    "nombre_infected       949\n",
    "nombre_sain          2249\n",
    "nombre_exposed        525\n",
    "nombre_recovered    16277\n",
    "Name: 169, dtype: int64"
   ]
  },
  {
   "cell_type": "markdown",
   "id": "e44a842e",
   "metadata": {},
   "source": [
    "nombre_infected       943\n",
    "nombre_sain          2173\n",
    "nombre_exposed        554\n",
    "nombre_recovered    16330\n",
    "Name: 170, dtype: int64"
   ]
  },
  {
   "cell_type": "markdown",
   "id": "c7027d0c",
   "metadata": {},
   "source": [
    "nombre_infected       929\n",
    "nombre_sain          2152\n",
    "nombre_exposed        547\n",
    "nombre_recovered    16372\n",
    "Name: 171, dtype: int64"
   ]
  },
  {
   "cell_type": "markdown",
   "id": "88446dd8",
   "metadata": {},
   "source": [
    "nombre_infected       942\n",
    "nombre_sain          2101\n",
    "nombre_exposed        535\n",
    "nombre_recovered    16422\n",
    "Name: 172, dtype: int64"
   ]
  },
  {
   "cell_type": "markdown",
   "id": "4d326286",
   "metadata": {},
   "source": [
    "nombre_infected       931\n",
    "nombre_sain          2073\n",
    "nombre_exposed        523\n",
    "nombre_recovered    16473\n",
    "Name: 173, dtype: int64"
   ]
  },
  {
   "cell_type": "markdown",
   "id": "e4a61eaa",
   "metadata": {},
   "source": [
    "nombre_infected       933\n",
    "nombre_sain          2052\n",
    "nombre_exposed        506\n",
    "nombre_recovered    16509\n",
    "Name: 174, dtype: int64"
   ]
  },
  {
   "cell_type": "markdown",
   "id": "5a46bdd7",
   "metadata": {},
   "source": [
    "nombre_infected       946\n",
    "nombre_sain          2043\n",
    "nombre_exposed        475\n",
    "nombre_recovered    16536\n",
    "Name: 175, dtype: int64"
   ]
  },
  {
   "cell_type": "markdown",
   "id": "8023c375",
   "metadata": {},
   "source": [
    "nombre_infected       946\n",
    "nombre_sain          2016\n",
    "nombre_exposed        463\n",
    "nombre_recovered    16575\n",
    "Name: 176, dtype: int64"
   ]
  },
  {
   "cell_type": "markdown",
   "id": "629d2e41",
   "metadata": {},
   "source": [
    "nombre_infected       941\n",
    "nombre_sain          2016\n",
    "nombre_exposed        420\n",
    "nombre_recovered    16623\n",
    "Name: 177, dtype: int64"
   ]
  },
  {
   "cell_type": "markdown",
   "id": "ac1d1102",
   "metadata": {},
   "source": [
    "nombre_infected       916\n",
    "nombre_sain          1979\n",
    "nombre_exposed        429\n",
    "nombre_recovered    16676\n",
    "Name: 178, dtype: int64"
   ]
  },
  {
   "cell_type": "markdown",
   "id": "303a5483",
   "metadata": {},
   "source": [
    "nombre_infected       901\n",
    "nombre_sain          1958\n",
    "nombre_exposed        418\n",
    "nombre_recovered    16723\n",
    "Name: 179, dtype: int64"
   ]
  },
  {
   "cell_type": "markdown",
   "id": "fdf04eab",
   "metadata": {},
   "source": [
    "nombre_infected       874\n",
    "nombre_sain          1951\n",
    "nombre_exposed        395\n",
    "nombre_recovered    16780\n",
    "Name: 180, dtype: int64"
   ]
  },
  {
   "cell_type": "markdown",
   "id": "7751887e",
   "metadata": {},
   "source": [
    "nombre_infected       856\n",
    "nombre_sain          1928\n",
    "nombre_exposed        405\n",
    "nombre_recovered    16811\n",
    "Name: 181, dtype: int64"
   ]
  },
  {
   "cell_type": "markdown",
   "id": "3cbcd3a6",
   "metadata": {},
   "source": [
    "nombre_infected       846\n",
    "nombre_sain          1905\n",
    "nombre_exposed        422\n",
    "nombre_recovered    16827\n",
    "Name: 182, dtype: int64"
   ]
  },
  {
   "cell_type": "markdown",
   "id": "2d597b97",
   "metadata": {},
   "source": [
    "nombre_infected       826\n",
    "nombre_sain          1908\n",
    "nombre_exposed        420\n",
    "nombre_recovered    16846\n",
    "Name: 183, dtype: int64"
   ]
  },
  {
   "cell_type": "markdown",
   "id": "95798710",
   "metadata": {},
   "source": [
    "nombre_infected       799\n",
    "nombre_sain          1889\n",
    "nombre_exposed        409\n",
    "nombre_recovered    16903\n",
    "Name: 184, dtype: int64"
   ]
  },
  {
   "cell_type": "markdown",
   "id": "5ddf7d34",
   "metadata": {},
   "source": [
    "nombre_infected       787\n",
    "nombre_sain          1891\n",
    "nombre_exposed        407\n",
    "nombre_recovered    16915\n",
    "Name: 185, dtype: int64"
   ]
  },
  {
   "cell_type": "markdown",
   "id": "7f5dce72",
   "metadata": {},
   "source": [
    "nombre_infected       784\n",
    "nombre_sain          1900\n",
    "nombre_exposed        392\n",
    "nombre_recovered    16924\n",
    "Name: 186, dtype: int64"
   ]
  },
  {
   "cell_type": "markdown",
   "id": "42d30f37",
   "metadata": {},
   "source": [
    "nombre_infected       786\n",
    "nombre_sain          1932\n",
    "nombre_exposed        354\n",
    "nombre_recovered    16928\n",
    "Name: 187, dtype: int64"
   ]
  },
  {
   "cell_type": "markdown",
   "id": "1927ec81",
   "metadata": {},
   "source": [
    "nombre_infected       777\n",
    "nombre_sain          1948\n",
    "nombre_exposed        334\n",
    "nombre_recovered    16941\n",
    "Name: 188, dtype: int64"
   ]
  },
  {
   "cell_type": "markdown",
   "id": "5a162cc9",
   "metadata": {},
   "source": [
    "nombre_infected       750\n",
    "nombre_sain          1994\n",
    "nombre_exposed        323\n",
    "nombre_recovered    16933\n",
    "Name: 189, dtype: int64"
   ]
  },
  {
   "cell_type": "markdown",
   "id": "756f019a",
   "metadata": {},
   "source": [
    "nombre_infected       721\n",
    "nombre_sain          2015\n",
    "nombre_exposed        327\n",
    "nombre_recovered    16937\n",
    "Name: 190, dtype: int64"
   ]
  },
  {
   "cell_type": "markdown",
   "id": "94cebe8f",
   "metadata": {},
   "source": [
    "nombre_infected       722\n",
    "nombre_sain          2063\n",
    "nombre_exposed        310\n",
    "nombre_recovered    16905\n",
    "Name: 191, dtype: int64"
   ]
  },
  {
   "cell_type": "markdown",
   "id": "8ff0fd25",
   "metadata": {},
   "source": [
    "nombre_infected       701\n",
    "nombre_sain          2073\n",
    "nombre_exposed        312\n",
    "nombre_recovered    16914\n",
    "Name: 192, dtype: int64"
   ]
  },
  {
   "cell_type": "markdown",
   "id": "cd3a4af3",
   "metadata": {},
   "source": [
    "nombre_infected       675\n",
    "nombre_sain          2100\n",
    "nombre_exposed        317\n",
    "nombre_recovered    16908\n",
    "Name: 193, dtype: int64"
   ]
  },
  {
   "cell_type": "markdown",
   "id": "17a03cca",
   "metadata": {},
   "source": [
    "nombre_infected       663\n",
    "nombre_sain          2135\n",
    "nombre_exposed        313\n",
    "nombre_recovered    16889\n",
    "Name: 194, dtype: int64"
   ]
  },
  {
   "cell_type": "markdown",
   "id": "aecf275c",
   "metadata": {},
   "source": [
    "nombre_infected       654\n",
    "nombre_sain          2162\n",
    "nombre_exposed        293\n",
    "nombre_recovered    16891\n",
    "Name: 195, dtype: int64"
   ]
  },
  {
   "cell_type": "markdown",
   "id": "bdbb6675",
   "metadata": {},
   "source": [
    "nombre_infected       660\n",
    "nombre_sain          2183\n",
    "nombre_exposed        290\n",
    "nombre_recovered    16867\n",
    "Name: 196, dtype: int64"
   ]
  },
  {
   "cell_type": "markdown",
   "id": "6b143ea4",
   "metadata": {},
   "source": [
    "nombre_infected       661\n",
    "nombre_sain          2199\n",
    "nombre_exposed        302\n",
    "nombre_recovered    16838\n",
    "Name: 197, dtype: int64"
   ]
  },
  {
   "cell_type": "markdown",
   "id": "f73ab1db",
   "metadata": {},
   "source": [
    "nombre_infected       644\n",
    "nombre_sain          2208\n",
    "nombre_exposed        319\n",
    "nombre_recovered    16829\n",
    "Name: 198, dtype: int64"
   ]
  },
  {
   "cell_type": "markdown",
   "id": "c54a833f",
   "metadata": {},
   "source": [
    "nombre_infected       640\n",
    "nombre_sain          2206\n",
    "nombre_exposed        322\n",
    "nombre_recovered    16832\n",
    "Name: 199, dtype: int64"
   ]
  },
  {
   "cell_type": "markdown",
   "id": "472a90ed",
   "metadata": {},
   "source": [
    "nombre_infected       627\n",
    "nombre_sain          2229\n",
    "nombre_exposed        340\n",
    "nombre_recovered    16804\n",
    "Name: 200, dtype: int64"
   ]
  },
  {
   "cell_type": "markdown",
   "id": "b7b84bd8",
   "metadata": {},
   "source": [
    "nombre_infected       654\n",
    "nombre_sain          2259\n",
    "nombre_exposed        328\n",
    "nombre_recovered    16759\n",
    "Name: 201, dtype: int64"
   ]
  },
  {
   "cell_type": "markdown",
   "id": "7f39da29",
   "metadata": {},
   "source": [
    "nombre_infected       673\n",
    "nombre_sain          2256\n",
    "nombre_exposed        329\n",
    "nombre_recovered    16742\n",
    "Name: 202, dtype: int64"
   ]
  },
  {
   "cell_type": "markdown",
   "id": "8cc329c4",
   "metadata": {},
   "source": [
    "nombre_infected       659\n",
    "nombre_sain          2288\n",
    "nombre_exposed        346\n",
    "nombre_recovered    16707\n",
    "Name: 203, dtype: int64"
   ]
  },
  {
   "cell_type": "markdown",
   "id": "e11888ff",
   "metadata": {},
   "source": [
    "nombre_infected       660\n",
    "nombre_sain          2314\n",
    "nombre_exposed        332\n",
    "nombre_recovered    16694\n",
    "Name: 204, dtype: int64"
   ]
  },
  {
   "cell_type": "markdown",
   "id": "d5c977c1",
   "metadata": {},
   "source": [
    "nombre_infected       662\n",
    "nombre_sain          2313\n",
    "nombre_exposed        330\n",
    "nombre_recovered    16695\n",
    "Name: 205, dtype: int64"
   ]
  },
  {
   "cell_type": "markdown",
   "id": "3bf2eeee",
   "metadata": {},
   "source": [
    "nombre_infected       661\n",
    "nombre_sain          2314\n",
    "nombre_exposed        337\n",
    "nombre_recovered    16688\n",
    "Name: 206, dtype: int64"
   ]
  },
  {
   "cell_type": "markdown",
   "id": "a5d1d342",
   "metadata": {},
   "source": [
    "nombre_infected       650\n",
    "nombre_sain          2352\n",
    "nombre_exposed        331\n",
    "nombre_recovered    16667\n",
    "Name: 207, dtype: int64"
   ]
  },
  {
   "cell_type": "markdown",
   "id": "7557a1c5",
   "metadata": {},
   "source": [
    "nombre_infected       641\n",
    "nombre_sain          2370\n",
    "nombre_exposed        327\n",
    "nombre_recovered    16662\n",
    "Name: 208, dtype: int64"
   ]
  },
  {
   "cell_type": "markdown",
   "id": "9a161064",
   "metadata": {},
   "source": [
    "nombre_infected       654\n",
    "nombre_sain          2358\n",
    "nombre_exposed        339\n",
    "nombre_recovered    16649\n",
    "Name: 209, dtype: int64"
   ]
  },
  {
   "cell_type": "markdown",
   "id": "e1ee6d76",
   "metadata": {},
   "source": [
    "nombre_infected       657\n",
    "nombre_sain          2342\n",
    "nombre_exposed        345\n",
    "nombre_recovered    16656\n",
    "Name: 210, dtype: int64"
   ]
  },
  {
   "cell_type": "markdown",
   "id": "bd0c3e08",
   "metadata": {},
   "source": [
    "nombre_infected       646\n",
    "nombre_sain          2326\n",
    "nombre_exposed        372\n",
    "nombre_recovered    16656\n",
    "Name: 211, dtype: int64"
   ]
  },
  {
   "cell_type": "markdown",
   "id": "61e61e86",
   "metadata": {},
   "source": [
    "nombre_infected       648\n",
    "nombre_sain          2348\n",
    "nombre_exposed        369\n",
    "nombre_recovered    16635\n",
    "Name: 212, dtype: int64"
   ]
  },
  {
   "cell_type": "markdown",
   "id": "ec8966ca",
   "metadata": {},
   "source": [
    "nombre_infected       675\n",
    "nombre_sain          2348\n",
    "nombre_exposed        358\n",
    "nombre_recovered    16619\n",
    "Name: 213, dtype: int64"
   ]
  },
  {
   "cell_type": "markdown",
   "id": "9a53a6fb",
   "metadata": {},
   "source": [
    "nombre_infected       657\n",
    "nombre_sain          2362\n",
    "nombre_exposed        378\n",
    "nombre_recovered    16603\n",
    "Name: 214, dtype: int64"
   ]
  },
  {
   "cell_type": "markdown",
   "id": "58ab3ded",
   "metadata": {},
   "source": [
    "nombre_infected       661\n",
    "nombre_sain          2353\n",
    "nombre_exposed        383\n",
    "nombre_recovered    16603\n",
    "Name: 215, dtype: int64"
   ]
  },
  {
   "cell_type": "markdown",
   "id": "e75d3292",
   "metadata": {},
   "source": [
    "nombre_infected       657\n",
    "nombre_sain          2344\n",
    "nombre_exposed        389\n",
    "nombre_recovered    16610\n",
    "Name: 216, dtype: int64"
   ]
  },
  {
   "cell_type": "markdown",
   "id": "100ed445",
   "metadata": {},
   "source": [
    "nombre_infected       674\n",
    "nombre_sain          2338\n",
    "nombre_exposed        409\n",
    "nombre_recovered    16579\n",
    "Name: 217, dtype: int64"
   ]
  },
  {
   "cell_type": "markdown",
   "id": "c2c8b0f6",
   "metadata": {},
   "source": [
    "nombre_infected       697\n",
    "nombre_sain          2349\n",
    "nombre_exposed        395\n",
    "nombre_recovered    16559\n",
    "Name: 218, dtype: int64"
   ]
  },
  {
   "cell_type": "markdown",
   "id": "9298204c",
   "metadata": {},
   "source": [
    "nombre_infected       708\n",
    "nombre_sain          2364\n",
    "nombre_exposed        386\n",
    "nombre_recovered    16542\n",
    "Name: 219, dtype: int64"
   ]
  },
  {
   "cell_type": "markdown",
   "id": "d4321412",
   "metadata": {},
   "source": [
    "nombre_infected       712\n",
    "nombre_sain          2327\n",
    "nombre_exposed        394\n",
    "nombre_recovered    16567\n",
    "Name: 220, dtype: int64"
   ]
  },
  {
   "cell_type": "markdown",
   "id": "c19c6098",
   "metadata": {},
   "source": [
    "nombre_infected       706\n",
    "nombre_sain          2322\n",
    "nombre_exposed        395\n",
    "nombre_recovered    16577\n",
    "Name: 221, dtype: int64"
   ]
  },
  {
   "cell_type": "markdown",
   "id": "ff45a564",
   "metadata": {},
   "source": [
    "nombre_infected       703\n",
    "nombre_sain          2325\n",
    "nombre_exposed        382\n",
    "nombre_recovered    16590\n",
    "Name: 222, dtype: int64"
   ]
  },
  {
   "cell_type": "markdown",
   "id": "0e962551",
   "metadata": {},
   "source": [
    "nombre_infected       697\n",
    "nombre_sain          2301\n",
    "nombre_exposed        375\n",
    "nombre_recovered    16627\n",
    "Name: 223, dtype: int64"
   ]
  },
  {
   "cell_type": "markdown",
   "id": "63485859",
   "metadata": {},
   "source": [
    "nombre_infected       701\n",
    "nombre_sain          2288\n",
    "nombre_exposed        368\n",
    "nombre_recovered    16643\n",
    "Name: 224, dtype: int64"
   ]
  },
  {
   "cell_type": "markdown",
   "id": "dd886328",
   "metadata": {},
   "source": [
    "nombre_infected       686\n",
    "nombre_sain          2276\n",
    "nombre_exposed        366\n",
    "nombre_recovered    16672\n",
    "Name: 225, dtype: int64"
   ]
  },
  {
   "cell_type": "markdown",
   "id": "7b242ab5",
   "metadata": {},
   "source": [
    "nombre_infected       691\n",
    "nombre_sain          2286\n",
    "nombre_exposed        352\n",
    "nombre_recovered    16671\n",
    "Name: 226, dtype: int64"
   ]
  },
  {
   "cell_type": "markdown",
   "id": "2e90689c",
   "metadata": {},
   "source": [
    "nombre_infected       674\n",
    "nombre_sain          2285\n",
    "nombre_exposed        346\n",
    "nombre_recovered    16695\n",
    "Name: 227, dtype: int64"
   ]
  },
  {
   "cell_type": "markdown",
   "id": "5fc9411b",
   "metadata": {},
   "source": [
    "nombre_infected       643\n",
    "nombre_sain          2294\n",
    "nombre_exposed        369\n",
    "nombre_recovered    16694\n",
    "Name: 228, dtype: int64"
   ]
  },
  {
   "cell_type": "markdown",
   "id": "1f64acbd",
   "metadata": {},
   "source": [
    "nombre_infected       645\n",
    "nombre_sain          2330\n",
    "nombre_exposed        353\n",
    "nombre_recovered    16672\n",
    "Name: 229, dtype: int64"
   ]
  },
  {
   "cell_type": "markdown",
   "id": "9ea37954",
   "metadata": {},
   "source": [
    "nombre_infected       648\n",
    "nombre_sain          2349\n",
    "nombre_exposed        342\n",
    "nombre_recovered    16661\n",
    "Name: 230, dtype: int64"
   ]
  },
  {
   "cell_type": "markdown",
   "id": "8abb725b",
   "metadata": {},
   "source": [
    "nombre_infected       627\n",
    "nombre_sain          2380\n",
    "nombre_exposed        330\n",
    "nombre_recovered    16663\n",
    "Name: 231, dtype: int64"
   ]
  },
  {
   "cell_type": "markdown",
   "id": "50beb0e0",
   "metadata": {},
   "source": [
    "nombre_infected       622\n",
    "nombre_sain          2391\n",
    "nombre_exposed        331\n",
    "nombre_recovered    16656\n",
    "Name: 232, dtype: int64"
   ]
  },
  {
   "cell_type": "markdown",
   "id": "6fbe9a34",
   "metadata": {},
   "source": [
    "nombre_infected       609\n",
    "nombre_sain          2407\n",
    "nombre_exposed        341\n",
    "nombre_recovered    16643\n",
    "Name: 233, dtype: int64"
   ]
  },
  {
   "cell_type": "markdown",
   "id": "46222d0c",
   "metadata": {},
   "source": [
    "nombre_infected       619\n",
    "nombre_sain          2418\n",
    "nombre_exposed        335\n",
    "nombre_recovered    16628\n",
    "Name: 234, dtype: int64"
   ]
  },
  {
   "cell_type": "markdown",
   "id": "1407c5b8",
   "metadata": {},
   "source": [
    "nombre_infected       612\n",
    "nombre_sain          2452\n",
    "nombre_exposed        334\n",
    "nombre_recovered    16602\n",
    "Name: 235, dtype: int64"
   ]
  },
  {
   "cell_type": "markdown",
   "id": "1170ab87",
   "metadata": {},
   "source": [
    "nombre_infected       611\n",
    "nombre_sain          2484\n",
    "nombre_exposed        312\n",
    "nombre_recovered    16593\n",
    "Name: 236, dtype: int64"
   ]
  },
  {
   "cell_type": "markdown",
   "id": "3420c505",
   "metadata": {},
   "source": [
    "nombre_infected       587\n",
    "nombre_sain          2523\n",
    "nombre_exposed        320\n",
    "nombre_recovered    16570\n",
    "Name: 237, dtype: int64"
   ]
  },
  {
   "cell_type": "markdown",
   "id": "4fddc684",
   "metadata": {},
   "source": [
    "nombre_infected       575\n",
    "nombre_sain          2546\n",
    "nombre_exposed        320\n",
    "nombre_recovered    16559\n",
    "Name: 238, dtype: int64"
   ]
  },
  {
   "cell_type": "markdown",
   "id": "804d82e4",
   "metadata": {},
   "source": [
    "nombre_infected       599\n",
    "nombre_sain          2587\n",
    "nombre_exposed        291\n",
    "nombre_recovered    16523\n",
    "Name: 239, dtype: int64"
   ]
  },
  {
   "cell_type": "markdown",
   "id": "7980c38b",
   "metadata": {},
   "source": [
    "nombre_infected       604\n",
    "nombre_sain          2618\n",
    "nombre_exposed        306\n",
    "nombre_recovered    16472\n",
    "Name: 240, dtype: int64"
   ]
  },
  {
   "cell_type": "markdown",
   "id": "c70fc98f",
   "metadata": {},
   "source": [
    "nombre_infected       595\n",
    "nombre_sain          2652\n",
    "nombre_exposed        316\n",
    "nombre_recovered    16437\n",
    "Name: 241, dtype: int64"
   ]
  },
  {
   "cell_type": "markdown",
   "id": "b5639f2a",
   "metadata": {},
   "source": [
    "nombre_infected       592\n",
    "nombre_sain          2659\n",
    "nombre_exposed        331\n",
    "nombre_recovered    16418\n",
    "Name: 242, dtype: int64"
   ]
  },
  {
   "cell_type": "markdown",
   "id": "e2eeb83d",
   "metadata": {},
   "source": [
    "nombre_infected       581\n",
    "nombre_sain          2697\n",
    "nombre_exposed        332\n",
    "nombre_recovered    16390\n",
    "Name: 243, dtype: int64"
   ]
  },
  {
   "cell_type": "markdown",
   "id": "882e7625",
   "metadata": {},
   "source": [
    "nombre_infected       572\n",
    "nombre_sain          2760\n",
    "nombre_exposed        331\n",
    "nombre_recovered    16337\n",
    "Name: 244, dtype: int64"
   ]
  },
  {
   "cell_type": "markdown",
   "id": "6d3975ed",
   "metadata": {},
   "source": [
    "nombre_infected       560\n",
    "nombre_sain          2773\n",
    "nombre_exposed        348\n",
    "nombre_recovered    16319\n",
    "Name: 245, dtype: int64"
   ]
  },
  {
   "cell_type": "markdown",
   "id": "26a8f9b0",
   "metadata": {},
   "source": [
    "nombre_infected       566\n",
    "nombre_sain          2796\n",
    "nombre_exposed        353\n",
    "nombre_recovered    16285\n",
    "Name: 246, dtype: int64"
   ]
  },
  {
   "cell_type": "markdown",
   "id": "90c84840",
   "metadata": {},
   "source": [
    "nombre_infected       556\n",
    "nombre_sain          2833\n",
    "nombre_exposed        369\n",
    "nombre_recovered    16242\n",
    "Name: 247, dtype: int64"
   ]
  },
  {
   "cell_type": "markdown",
   "id": "8e502a64",
   "metadata": {},
   "source": [
    "nombre_infected       567\n",
    "nombre_sain          2892\n",
    "nombre_exposed        361\n",
    "nombre_recovered    16180\n",
    "Name: 248, dtype: int64"
   ]
  },
  {
   "cell_type": "markdown",
   "id": "b19a056c",
   "metadata": {},
   "source": [
    "nombre_infected       580\n",
    "nombre_sain          2912\n",
    "nombre_exposed        365\n",
    "nombre_recovered    16143\n",
    "Name: 249, dtype: int64"
   ]
  },
  {
   "cell_type": "markdown",
   "id": "3ab772d4",
   "metadata": {},
   "source": [
    "nombre_infected       573\n",
    "nombre_sain          2955\n",
    "nombre_exposed        357\n",
    "nombre_recovered    16115\n",
    "Name: 250, dtype: int64"
   ]
  },
  {
   "cell_type": "markdown",
   "id": "ef75f74f",
   "metadata": {},
   "source": [
    "nombre_infected       569\n",
    "nombre_sain          3001\n",
    "nombre_exposed        360\n",
    "nombre_recovered    16070\n",
    "Name: 251, dtype: int64"
   ]
  },
  {
   "cell_type": "markdown",
   "id": "517740e9",
   "metadata": {},
   "source": [
    "nombre_infected       570\n",
    "nombre_sain          3022\n",
    "nombre_exposed        375\n",
    "nombre_recovered    16033\n",
    "Name: 252, dtype: int64"
   ]
  },
  {
   "cell_type": "markdown",
   "id": "79373c3e",
   "metadata": {},
   "source": [
    "nombre_infected       571\n",
    "nombre_sain          3033\n",
    "nombre_exposed        408\n",
    "nombre_recovered    15988\n",
    "Name: 253, dtype: int64"
   ]
  },
  {
   "cell_type": "markdown",
   "id": "8669dc05",
   "metadata": {},
   "source": [
    "nombre_infected       561\n",
    "nombre_sain          3068\n",
    "nombre_exposed        414\n",
    "nombre_recovered    15957\n",
    "Name: 254, dtype: int64"
   ]
  },
  {
   "cell_type": "markdown",
   "id": "e6a20d08",
   "metadata": {},
   "source": [
    "nombre_infected       585\n",
    "nombre_sain          3069\n",
    "nombre_exposed        419\n",
    "nombre_recovered    15927\n",
    "Name: 255, dtype: int64"
   ]
  },
  {
   "cell_type": "markdown",
   "id": "2b39990e",
   "metadata": {},
   "source": [
    "nombre_infected       601\n",
    "nombre_sain          3081\n",
    "nombre_exposed        410\n",
    "nombre_recovered    15908\n",
    "Name: 256, dtype: int64"
   ]
  },
  {
   "cell_type": "markdown",
   "id": "6554ae4e",
   "metadata": {},
   "source": [
    "nombre_infected       620\n",
    "nombre_sain          3068\n",
    "nombre_exposed        420\n",
    "nombre_recovered    15892\n",
    "Name: 257, dtype: int64"
   ]
  },
  {
   "cell_type": "markdown",
   "id": "d8d0cf33",
   "metadata": {},
   "source": [
    "nombre_infected       645\n",
    "nombre_sain          3044\n",
    "nombre_exposed        450\n",
    "nombre_recovered    15861\n",
    "Name: 258, dtype: int64"
   ]
  },
  {
   "cell_type": "markdown",
   "id": "d42bd42e",
   "metadata": {},
   "source": [
    "nombre_infected       669\n",
    "nombre_sain          3021\n",
    "nombre_exposed        482\n",
    "nombre_recovered    15828\n",
    "Name: 259, dtype: int64"
   ]
  },
  {
   "cell_type": "markdown",
   "id": "46b7344d",
   "metadata": {},
   "source": [
    "nombre_infected       689\n",
    "nombre_sain          3016\n",
    "nombre_exposed        478\n",
    "nombre_recovered    15817\n",
    "Name: 260, dtype: int64"
   ]
  },
  {
   "cell_type": "markdown",
   "id": "54eee4b8",
   "metadata": {},
   "source": [
    "nombre_infected       696\n",
    "nombre_sain          3009\n",
    "nombre_exposed        485\n",
    "nombre_recovered    15810\n",
    "Name: 261, dtype: int64"
   ]
  },
  {
   "cell_type": "markdown",
   "id": "d38fbb7d",
   "metadata": {},
   "source": [
    "nombre_infected       709\n",
    "nombre_sain          2976\n",
    "nombre_exposed        486\n",
    "nombre_recovered    15829\n",
    "Name: 262, dtype: int64"
   ]
  },
  {
   "cell_type": "markdown",
   "id": "f70a01c6",
   "metadata": {},
   "source": [
    "nombre_infected       750\n",
    "nombre_sain          2939\n",
    "nombre_exposed        496\n",
    "nombre_recovered    15815\n",
    "Name: 263, dtype: int64"
   ]
  },
  {
   "cell_type": "markdown",
   "id": "45cdff2d",
   "metadata": {},
   "source": [
    "nombre_infected       775\n",
    "nombre_sain          2914\n",
    "nombre_exposed        505\n",
    "nombre_recovered    15806\n",
    "Name: 264, dtype: int64"
   ]
  },
  {
   "cell_type": "markdown",
   "id": "3c44dac4",
   "metadata": {},
   "source": [
    "nombre_infected       772\n",
    "nombre_sain          2861\n",
    "nombre_exposed        536\n",
    "nombre_recovered    15831\n",
    "Name: 265, dtype: int64"
   ]
  },
  {
   "cell_type": "markdown",
   "id": "9ac55a67",
   "metadata": {},
   "source": [
    "nombre_infected       796\n",
    "nombre_sain          2820\n",
    "nombre_exposed        568\n",
    "nombre_recovered    15816\n",
    "Name: 266, dtype: int64"
   ]
  },
  {
   "cell_type": "markdown",
   "id": "bd328eef",
   "metadata": {},
   "source": [
    "nombre_infected       804\n",
    "nombre_sain          2757\n",
    "nombre_exposed        601\n",
    "nombre_recovered    15838\n",
    "Name: 267, dtype: int64"
   ]
  },
  {
   "cell_type": "markdown",
   "id": "31d94e5f",
   "metadata": {},
   "source": [
    "nombre_infected       844\n",
    "nombre_sain          2736\n",
    "nombre_exposed        594\n",
    "nombre_recovered    15826\n",
    "Name: 268, dtype: int64"
   ]
  },
  {
   "cell_type": "markdown",
   "id": "d5852a9a",
   "metadata": {},
   "source": [
    "nombre_infected       873\n",
    "nombre_sain          2698\n",
    "nombre_exposed        604\n",
    "nombre_recovered    15825\n",
    "Name: 269, dtype: int64"
   ]
  },
  {
   "cell_type": "markdown",
   "id": "289c5c1d",
   "metadata": {},
   "source": [
    "nombre_infected       904\n",
    "nombre_sain          2680\n",
    "nombre_exposed        582\n",
    "nombre_recovered    15834\n",
    "Name: 270, dtype: int64"
   ]
  },
  {
   "cell_type": "markdown",
   "id": "2bdd48d7",
   "metadata": {},
   "source": [
    "nombre_infected       949\n",
    "nombre_sain          2663\n",
    "nombre_exposed        553\n",
    "nombre_recovered    15835\n",
    "Name: 271, dtype: int64"
   ]
  },
  {
   "cell_type": "markdown",
   "id": "574e2abe",
   "metadata": {},
   "source": [
    "nombre_infected       978\n",
    "nombre_sain          2642\n",
    "nombre_exposed        551\n",
    "nombre_recovered    15829\n",
    "Name: 272, dtype: int64"
   ]
  },
  {
   "cell_type": "markdown",
   "id": "1c7d15ee",
   "metadata": {},
   "source": [
    "nombre_infected       979\n",
    "nombre_sain          2627\n",
    "nombre_exposed        591\n",
    "nombre_recovered    15803\n",
    "Name: 273, dtype: int64"
   ]
  },
  {
   "cell_type": "markdown",
   "id": "e493c382",
   "metadata": {},
   "source": [
    "nombre_infected       975\n",
    "nombre_sain          2597\n",
    "nombre_exposed        611\n",
    "nombre_recovered    15817\n",
    "Name: 274, dtype: int64"
   ]
  },
  {
   "cell_type": "markdown",
   "id": "cdaf95c2",
   "metadata": {},
   "source": [
    "nombre_infected       999\n",
    "nombre_sain          2574\n",
    "nombre_exposed        613\n",
    "nombre_recovered    15814\n",
    "Name: 275, dtype: int64"
   ]
  },
  {
   "cell_type": "markdown",
   "id": "4b81a652",
   "metadata": {},
   "source": [
    "nombre_infected      1012\n",
    "nombre_sain          2526\n",
    "nombre_exposed        631\n",
    "nombre_recovered    15831\n",
    "Name: 276, dtype: int64"
   ]
  },
  {
   "cell_type": "markdown",
   "id": "dccf4af9",
   "metadata": {},
   "source": [
    "nombre_infected      1023\n",
    "nombre_sain          2497\n",
    "nombre_exposed        630\n",
    "nombre_recovered    15850\n",
    "Name: 277, dtype: int64"
   ]
  },
  {
   "cell_type": "markdown",
   "id": "41096f13",
   "metadata": {},
   "source": [
    "nombre_infected      1054\n",
    "nombre_sain          2461\n",
    "nombre_exposed        620\n",
    "nombre_recovered    15865\n",
    "Name: 278, dtype: int64"
   ]
  },
  {
   "cell_type": "markdown",
   "id": "ec711d0c",
   "metadata": {},
   "source": [
    "nombre_infected      1031\n",
    "nombre_sain          2404\n",
    "nombre_exposed        636\n",
    "nombre_recovered    15929\n",
    "Name: 279, dtype: int64"
   ]
  },
  {
   "cell_type": "markdown",
   "id": "344d6bbc",
   "metadata": {},
   "source": [
    "nombre_infected      1046\n",
    "nombre_sain          2372\n",
    "nombre_exposed        618\n",
    "nombre_recovered    15964\n",
    "Name: 280, dtype: int64"
   ]
  },
  {
   "cell_type": "markdown",
   "id": "9fb75c1a",
   "metadata": {},
   "source": [
    "nombre_infected      1060\n",
    "nombre_sain          2340\n",
    "nombre_exposed        637\n",
    "nombre_recovered    15963\n",
    "Name: 281, dtype: int64"
   ]
  },
  {
   "cell_type": "markdown",
   "id": "d08aaa54",
   "metadata": {},
   "source": [
    "nombre_infected      1082\n",
    "nombre_sain          2308\n",
    "nombre_exposed        609\n",
    "nombre_recovered    16001\n",
    "Name: 282, dtype: int64"
   ]
  },
  {
   "cell_type": "markdown",
   "id": "90f579ef",
   "metadata": {},
   "source": [
    "nombre_infected      1095\n",
    "nombre_sain          2278\n",
    "nombre_exposed        599\n",
    "nombre_recovered    16028\n",
    "Name: 283, dtype: int64"
   ]
  },
  {
   "cell_type": "markdown",
   "id": "bb1e8150",
   "metadata": {},
   "source": [
    "nombre_infected      1078\n",
    "nombre_sain          2280\n",
    "nombre_exposed        579\n",
    "nombre_recovered    16063\n",
    "Name: 284, dtype: int64"
   ]
  },
  {
   "cell_type": "markdown",
   "id": "a9391bee",
   "metadata": {},
   "source": [
    "nombre_infected      1096\n",
    "nombre_sain          2227\n",
    "nombre_exposed        580\n",
    "nombre_recovered    16097\n",
    "Name: 285, dtype: int64"
   ]
  },
  {
   "cell_type": "markdown",
   "id": "bf4a2b5e",
   "metadata": {},
   "source": [
    "nombre_infected      1084\n",
    "nombre_sain          2177\n",
    "nombre_exposed        602\n",
    "nombre_recovered    16137\n",
    "Name: 286, dtype: int64"
   ]
  },
  {
   "cell_type": "markdown",
   "id": "1c66d36c",
   "metadata": {},
   "source": [
    "nombre_infected      1082\n",
    "nombre_sain          2127\n",
    "nombre_exposed        596\n",
    "nombre_recovered    16195\n",
    "Name: 287, dtype: int64"
   ]
  },
  {
   "cell_type": "markdown",
   "id": "cd144668",
   "metadata": {},
   "source": [
    "nombre_infected      1078\n",
    "nombre_sain          2131\n",
    "nombre_exposed        589\n",
    "nombre_recovered    16202\n",
    "Name: 288, dtype: int64"
   ]
  },
  {
   "cell_type": "markdown",
   "id": "b99c1b5c",
   "metadata": {},
   "source": [
    "nombre_infected      1090\n",
    "nombre_sain          2116\n",
    "nombre_exposed        565\n",
    "nombre_recovered    16229\n",
    "Name: 289, dtype: int64"
   ]
  },
  {
   "cell_type": "markdown",
   "id": "3349567e",
   "metadata": {},
   "source": [
    "nombre_infected      1098\n",
    "nombre_sain          2123\n",
    "nombre_exposed        552\n",
    "nombre_recovered    16227\n",
    "Name: 290, dtype: int64"
   ]
  },
  {
   "cell_type": "markdown",
   "id": "67ef5bf9",
   "metadata": {},
   "source": [
    "nombre_infected      1101\n",
    "nombre_sain          2095\n",
    "nombre_exposed        546\n",
    "nombre_recovered    16258\n",
    "Name: 291, dtype: int64"
   ]
  },
  {
   "cell_type": "markdown",
   "id": "34211048",
   "metadata": {},
   "source": [
    "nombre_infected      1106\n",
    "nombre_sain          2101\n",
    "nombre_exposed        527\n",
    "nombre_recovered    16266\n",
    "Name: 292, dtype: int64"
   ]
  },
  {
   "cell_type": "markdown",
   "id": "9c1bef3f",
   "metadata": {},
   "source": [
    "nombre_infected      1098\n",
    "nombre_sain          2123\n",
    "nombre_exposed        510\n",
    "nombre_recovered    16269\n",
    "Name: 293, dtype: int64"
   ]
  },
  {
   "cell_type": "markdown",
   "id": "492e4b5f",
   "metadata": {},
   "source": [
    "nombre_infected      1083\n",
    "nombre_sain          2114\n",
    "nombre_exposed        500\n",
    "nombre_recovered    16303\n",
    "Name: 294, dtype: int64"
   ]
  },
  {
   "cell_type": "markdown",
   "id": "4eb064cf",
   "metadata": {},
   "source": [
    "nombre_infected      1067\n",
    "nombre_sain          2101\n",
    "nombre_exposed        504\n",
    "nombre_recovered    16328\n",
    "Name: 295, dtype: int64"
   ]
  },
  {
   "cell_type": "markdown",
   "id": "e54d5cf6",
   "metadata": {},
   "source": [
    "nombre_infected      1034\n",
    "nombre_sain          2117\n",
    "nombre_exposed        487\n",
    "nombre_recovered    16362\n",
    "Name: 296, dtype: int64"
   ]
  },
  {
   "cell_type": "markdown",
   "id": "dbd4ad6a",
   "metadata": {},
   "source": [
    "nombre_infected       968\n",
    "nombre_sain          2097\n",
    "nombre_exposed        519\n",
    "nombre_recovered    16416\n",
    "Name: 297, dtype: int64"
   ]
  },
  {
   "cell_type": "markdown",
   "id": "417b5294",
   "metadata": {},
   "source": [
    "nombre_infected       953\n",
    "nombre_sain          2104\n",
    "nombre_exposed        501\n",
    "nombre_recovered    16442\n",
    "Name: 298, dtype: int64"
   ]
  },
  {
   "cell_type": "markdown",
   "id": "161af845",
   "metadata": {},
   "source": [
    "nombre_infected       947\n",
    "nombre_sain          2154\n",
    "nombre_exposed        476\n",
    "nombre_recovered    16423\n",
    "Name: 299, dtype: int64"
   ]
  },
  {
   "cell_type": "markdown",
   "id": "4390b689",
   "metadata": {},
   "source": [
    "nombre_infected       920\n",
    "nombre_sain          2184\n",
    "nombre_exposed        475\n",
    "nombre_recovered    16421\n",
    "Name: 300, dtype: int64"
   ]
  },
  {
   "cell_type": "markdown",
   "id": "615a78a4",
   "metadata": {},
   "source": [
    "nombre_infected       899\n",
    "nombre_sain          2191\n",
    "nombre_exposed        481\n",
    "nombre_recovered    16429\n",
    "Name: 301, dtype: int64"
   ]
  },
  {
   "cell_type": "markdown",
   "id": "37f857f6",
   "metadata": {},
   "source": [
    "nombre_infected       896\n",
    "nombre_sain          2180\n",
    "nombre_exposed        491\n",
    "nombre_recovered    16433\n",
    "Name: 302, dtype: int64"
   ]
  },
  {
   "cell_type": "markdown",
   "id": "b8aabde5",
   "metadata": {},
   "source": [
    "nombre_infected       918\n",
    "nombre_sain          2155\n",
    "nombre_exposed        492\n",
    "nombre_recovered    16435\n",
    "Name: 303, dtype: int64"
   ]
  },
  {
   "cell_type": "markdown",
   "id": "09156e16",
   "metadata": {},
   "source": [
    "nombre_infected       896\n",
    "nombre_sain          2146\n",
    "nombre_exposed        507\n",
    "nombre_recovered    16451\n",
    "Name: 304, dtype: int64"
   ]
  },
  {
   "cell_type": "markdown",
   "id": "12d08357",
   "metadata": {},
   "source": [
    "nombre_infected       912\n",
    "nombre_sain          2131\n",
    "nombre_exposed        476\n",
    "nombre_recovered    16481\n",
    "Name: 305, dtype: int64"
   ]
  },
  {
   "cell_type": "markdown",
   "id": "db087db3",
   "metadata": {},
   "source": [
    "nombre_infected       910\n",
    "nombre_sain          2133\n",
    "nombre_exposed        468\n",
    "nombre_recovered    16489\n",
    "Name: 306, dtype: int64"
   ]
  },
  {
   "cell_type": "markdown",
   "id": "7c8d0280",
   "metadata": {},
   "source": [
    "nombre_infected       890\n",
    "nombre_sain          2134\n",
    "nombre_exposed        471\n",
    "nombre_recovered    16505\n",
    "Name: 307, dtype: int64"
   ]
  },
  {
   "cell_type": "markdown",
   "id": "1519bb59",
   "metadata": {},
   "source": [
    "nombre_infected       878\n",
    "nombre_sain          2134\n",
    "nombre_exposed        452\n",
    "nombre_recovered    16536\n",
    "Name: 308, dtype: int64"
   ]
  },
  {
   "cell_type": "markdown",
   "id": "f2c4ea06",
   "metadata": {},
   "source": [
    "nombre_infected       882\n",
    "nombre_sain          2119\n",
    "nombre_exposed        442\n",
    "nombre_recovered    16557\n",
    "Name: 309, dtype: int64"
   ]
  },
  {
   "cell_type": "markdown",
   "id": "1eda8011",
   "metadata": {},
   "source": [
    "nombre_infected       896\n",
    "nombre_sain          2112\n",
    "nombre_exposed        411\n",
    "nombre_recovered    16581\n",
    "Name: 310, dtype: int64"
   ]
  },
  {
   "cell_type": "markdown",
   "id": "56311c93",
   "metadata": {},
   "source": [
    "nombre_infected       869\n",
    "nombre_sain          2117\n",
    "nombre_exposed        423\n",
    "nombre_recovered    16591\n",
    "Name: 311, dtype: int64"
   ]
  },
  {
   "cell_type": "markdown",
   "id": "3f0a0c70",
   "metadata": {},
   "source": [
    "nombre_infected       850\n",
    "nombre_sain          2119\n",
    "nombre_exposed        411\n",
    "nombre_recovered    16620\n",
    "Name: 312, dtype: int64"
   ]
  },
  {
   "cell_type": "markdown",
   "id": "b2bc2e2a",
   "metadata": {},
   "source": [
    "nombre_infected       819\n",
    "nombre_sain          2146\n",
    "nombre_exposed        406\n",
    "nombre_recovered    16629\n",
    "Name: 313, dtype: int64"
   ]
  },
  {
   "cell_type": "markdown",
   "id": "2dd5d51e",
   "metadata": {},
   "source": [
    "nombre_infected       822\n",
    "nombre_sain          2160\n",
    "nombre_exposed        371\n",
    "nombre_recovered    16647\n",
    "Name: 314, dtype: int64"
   ]
  },
  {
   "cell_type": "markdown",
   "id": "b5d9ffe3",
   "metadata": {},
   "source": [
    "nombre_infected       815\n",
    "nombre_sain          2172\n",
    "nombre_exposed        339\n",
    "nombre_recovered    16674\n",
    "Name: 315, dtype: int64"
   ]
  },
  {
   "cell_type": "markdown",
   "id": "ed6c28de",
   "metadata": {},
   "source": [
    "nombre_infected       793\n",
    "nombre_sain          2178\n",
    "nombre_exposed        354\n",
    "nombre_recovered    16675\n",
    "Name: 316, dtype: int64"
   ]
  },
  {
   "cell_type": "markdown",
   "id": "583f1bb4",
   "metadata": {},
   "source": [
    "nombre_infected       757\n",
    "nombre_sain          2199\n",
    "nombre_exposed        365\n",
    "nombre_recovered    16679\n",
    "Name: 317, dtype: int64"
   ]
  },
  {
   "cell_type": "markdown",
   "id": "eb0093a5",
   "metadata": {},
   "source": [
    "nombre_infected       732\n",
    "nombre_sain          2211\n",
    "nombre_exposed        364\n",
    "nombre_recovered    16693\n",
    "Name: 318, dtype: int64"
   ]
  },
  {
   "cell_type": "markdown",
   "id": "2b4a815c",
   "metadata": {},
   "source": [
    "nombre_infected       727\n",
    "nombre_sain          2245\n",
    "nombre_exposed        348\n",
    "nombre_recovered    16680\n",
    "Name: 319, dtype: int64"
   ]
  },
  {
   "cell_type": "markdown",
   "id": "677d4542",
   "metadata": {},
   "source": [
    "nombre_infected       689\n",
    "nombre_sain          2253\n",
    "nombre_exposed        370\n",
    "nombre_recovered    16688\n",
    "Name: 320, dtype: int64"
   ]
  },
  {
   "cell_type": "markdown",
   "id": "90f56da0",
   "metadata": {},
   "source": [
    "nombre_infected       672\n",
    "nombre_sain          2288\n",
    "nombre_exposed        353\n",
    "nombre_recovered    16687\n",
    "Name: 321, dtype: int64"
   ]
  },
  {
   "cell_type": "markdown",
   "id": "d61f16d9",
   "metadata": {},
   "source": [
    "nombre_infected       657\n",
    "nombre_sain          2327\n",
    "nombre_exposed        352\n",
    "nombre_recovered    16664\n",
    "Name: 322, dtype: int64"
   ]
  },
  {
   "cell_type": "markdown",
   "id": "a39b369b",
   "metadata": {},
   "source": [
    "nombre_infected       647\n",
    "nombre_sain          2354\n",
    "nombre_exposed        367\n",
    "nombre_recovered    16632\n",
    "Name: 323, dtype: int64"
   ]
  },
  {
   "cell_type": "markdown",
   "id": "5a23294e",
   "metadata": {},
   "source": [
    "nombre_infected       654\n",
    "nombre_sain          2376\n",
    "nombre_exposed        354\n",
    "nombre_recovered    16616\n",
    "Name: 324, dtype: int64"
   ]
  },
  {
   "cell_type": "markdown",
   "id": "dbfcf009",
   "metadata": {},
   "source": [
    "nombre_infected       651\n",
    "nombre_sain          2403\n",
    "nombre_exposed        350\n",
    "nombre_recovered    16596\n",
    "Name: 325, dtype: int64"
   ]
  },
  {
   "cell_type": "markdown",
   "id": "170a10e4",
   "metadata": {},
   "source": [
    "nombre_infected       641\n",
    "nombre_sain          2445\n",
    "nombre_exposed        363\n",
    "nombre_recovered    16551\n",
    "Name: 326, dtype: int64"
   ]
  },
  {
   "cell_type": "markdown",
   "id": "85183ec7",
   "metadata": {},
   "source": [
    "nombre_infected       634\n",
    "nombre_sain          2481\n",
    "nombre_exposed        357\n",
    "nombre_recovered    16528\n",
    "Name: 327, dtype: int64"
   ]
  },
  {
   "cell_type": "markdown",
   "id": "b340e6f4",
   "metadata": {},
   "source": [
    "nombre_infected       612\n",
    "nombre_sain          2501\n",
    "nombre_exposed        364\n",
    "nombre_recovered    16523\n",
    "Name: 328, dtype: int64"
   ]
  },
  {
   "cell_type": "markdown",
   "id": "ba9dcfd2",
   "metadata": {},
   "source": [
    "nombre_infected       606\n",
    "nombre_sain          2528\n",
    "nombre_exposed        374\n",
    "nombre_recovered    16492\n",
    "Name: 329, dtype: int64"
   ]
  },
  {
   "cell_type": "markdown",
   "id": "c82b10fa",
   "metadata": {},
   "source": [
    "nombre_infected       600\n",
    "nombre_sain          2559\n",
    "nombre_exposed        369\n",
    "nombre_recovered    16472\n",
    "Name: 330, dtype: int64"
   ]
  },
  {
   "cell_type": "markdown",
   "id": "bd4071f7",
   "metadata": {},
   "source": [
    "nombre_infected       614\n",
    "nombre_sain          2595\n",
    "nombre_exposed        360\n",
    "nombre_recovered    16431\n",
    "Name: 331, dtype: int64"
   ]
  },
  {
   "cell_type": "markdown",
   "id": "303d41d3",
   "metadata": {},
   "source": [
    "nombre_infected       615\n",
    "nombre_sain          2610\n",
    "nombre_exposed        363\n",
    "nombre_recovered    16412\n",
    "Name: 332, dtype: int64"
   ]
  },
  {
   "cell_type": "markdown",
   "id": "331dd146",
   "metadata": {},
   "source": [
    "nombre_infected       612\n",
    "nombre_sain          2631\n",
    "nombre_exposed        348\n",
    "nombre_recovered    16409\n",
    "Name: 333, dtype: int64"
   ]
  },
  {
   "cell_type": "markdown",
   "id": "ff09e1bd",
   "metadata": {},
   "source": [
    "nombre_infected       598\n",
    "nombre_sain          2646\n",
    "nombre_exposed        352\n",
    "nombre_recovered    16404\n",
    "Name: 334, dtype: int64"
   ]
  },
  {
   "cell_type": "markdown",
   "id": "b9ef5a25",
   "metadata": {},
   "source": [
    "nombre_infected       580\n",
    "nombre_sain          2659\n",
    "nombre_exposed        383\n",
    "nombre_recovered    16378\n",
    "Name: 335, dtype: int64"
   ]
  },
  {
   "cell_type": "markdown",
   "id": "dc529670",
   "metadata": {},
   "source": [
    "nombre_infected       581\n",
    "nombre_sain          2660\n",
    "nombre_exposed        392\n",
    "nombre_recovered    16367\n",
    "Name: 336, dtype: int64"
   ]
  },
  {
   "cell_type": "markdown",
   "id": "0c438b1b",
   "metadata": {},
   "source": [
    "nombre_infected       584\n",
    "nombre_sain          2684\n",
    "nombre_exposed        382\n",
    "nombre_recovered    16350\n",
    "Name: 337, dtype: int64"
   ]
  },
  {
   "cell_type": "markdown",
   "id": "1b60fb40",
   "metadata": {},
   "source": [
    "nombre_infected       603\n",
    "nombre_sain          2670\n",
    "nombre_exposed        385\n",
    "nombre_recovered    16342\n",
    "Name: 338, dtype: int64"
   ]
  },
  {
   "cell_type": "markdown",
   "id": "58d8bda9",
   "metadata": {},
   "source": [
    "nombre_infected       611\n",
    "nombre_sain          2686\n",
    "nombre_exposed        387\n",
    "nombre_recovered    16316\n",
    "Name: 339, dtype: int64"
   ]
  },
  {
   "cell_type": "markdown",
   "id": "a4318239",
   "metadata": {},
   "source": [
    "nombre_infected       619\n",
    "nombre_sain          2686\n",
    "nombre_exposed        382\n",
    "nombre_recovered    16313\n",
    "Name: 340, dtype: int64"
   ]
  },
  {
   "cell_type": "markdown",
   "id": "d258b893",
   "metadata": {},
   "source": [
    "nombre_infected       618\n",
    "nombre_sain          2693\n",
    "nombre_exposed        393\n",
    "nombre_recovered    16296\n",
    "Name: 341, dtype: int64"
   ]
  },
  {
   "cell_type": "markdown",
   "id": "509bf369",
   "metadata": {},
   "source": [
    "nombre_infected       613\n",
    "nombre_sain          2707\n",
    "nombre_exposed        409\n",
    "nombre_recovered    16271\n",
    "Name: 342, dtype: int64"
   ]
  },
  {
   "cell_type": "markdown",
   "id": "8991e0f8",
   "metadata": {},
   "source": [
    "nombre_infected       616\n",
    "nombre_sain          2715\n",
    "nombre_exposed        419\n",
    "nombre_recovered    16250\n",
    "Name: 343, dtype: int64"
   ]
  },
  {
   "cell_type": "markdown",
   "id": "a6dc1008",
   "metadata": {},
   "source": [
    "nombre_infected       626\n",
    "nombre_sain          2719\n",
    "nombre_exposed        433\n",
    "nombre_recovered    16222\n",
    "Name: 344, dtype: int64"
   ]
  },
  {
   "cell_type": "markdown",
   "id": "a22374df",
   "metadata": {},
   "source": [
    "nombre_infected       634\n",
    "nombre_sain          2732\n",
    "nombre_exposed        433\n",
    "nombre_recovered    16201\n",
    "Name: 345, dtype: int64"
   ]
  },
  {
   "cell_type": "markdown",
   "id": "fb9d8e79",
   "metadata": {},
   "source": [
    "nombre_infected       644\n",
    "nombre_sain          2758\n",
    "nombre_exposed        418\n",
    "nombre_recovered    16180\n",
    "Name: 346, dtype: int64"
   ]
  },
  {
   "cell_type": "markdown",
   "id": "13aabfd3",
   "metadata": {},
   "source": [
    "nombre_infected       661\n",
    "nombre_sain          2763\n",
    "nombre_exposed        406\n",
    "nombre_recovered    16170\n",
    "Name: 347, dtype: int64"
   ]
  },
  {
   "cell_type": "markdown",
   "id": "15c69b3b",
   "metadata": {},
   "source": [
    "nombre_infected       640\n",
    "nombre_sain          2748\n",
    "nombre_exposed        433\n",
    "nombre_recovered    16179\n",
    "Name: 348, dtype: int64"
   ]
  },
  {
   "cell_type": "markdown",
   "id": "2e47e2ee",
   "metadata": {},
   "source": [
    "nombre_infected       649\n",
    "nombre_sain          2745\n",
    "nombre_exposed        456\n",
    "nombre_recovered    16150\n",
    "Name: 349, dtype: int64"
   ]
  },
  {
   "cell_type": "markdown",
   "id": "421902ee",
   "metadata": {},
   "source": [
    "nombre_infected       647\n",
    "nombre_sain          2757\n",
    "nombre_exposed        433\n",
    "nombre_recovered    16163\n",
    "Name: 350, dtype: int64"
   ]
  },
  {
   "cell_type": "markdown",
   "id": "23d8355f",
   "metadata": {},
   "source": [
    "nombre_infected       683\n",
    "nombre_sain          2749\n",
    "nombre_exposed        423\n",
    "nombre_recovered    16145\n",
    "Name: 351, dtype: int64"
   ]
  },
  {
   "cell_type": "markdown",
   "id": "1c3057b6",
   "metadata": {},
   "source": [
    "nombre_infected       692\n",
    "nombre_sain          2733\n",
    "nombre_exposed        444\n",
    "nombre_recovered    16131\n",
    "Name: 352, dtype: int64"
   ]
  },
  {
   "cell_type": "markdown",
   "id": "9b016534",
   "metadata": {},
   "source": [
    "nombre_infected       709\n",
    "nombre_sain          2758\n",
    "nombre_exposed        456\n",
    "nombre_recovered    16077\n",
    "Name: 353, dtype: int64"
   ]
  },
  {
   "cell_type": "markdown",
   "id": "d531be01",
   "metadata": {},
   "source": [
    "nombre_infected       706\n",
    "nombre_sain          2751\n",
    "nombre_exposed        481\n",
    "nombre_recovered    16062\n",
    "Name: 354, dtype: int64"
   ]
  },
  {
   "cell_type": "markdown",
   "id": "5548f6b9",
   "metadata": {},
   "source": [
    "nombre_infected       729\n",
    "nombre_sain          2769\n",
    "nombre_exposed        475\n",
    "nombre_recovered    16027\n",
    "Name: 355, dtype: int64"
   ]
  },
  {
   "cell_type": "markdown",
   "id": "51d93ffa",
   "metadata": {},
   "source": [
    "nombre_infected       763\n",
    "nombre_sain          2762\n",
    "nombre_exposed        464\n",
    "nombre_recovered    16011\n",
    "Name: 356, dtype: int64"
   ]
  },
  {
   "cell_type": "markdown",
   "id": "37a20414",
   "metadata": {},
   "source": [
    "nombre_infected       778\n",
    "nombre_sain          2776\n",
    "nombre_exposed        459\n",
    "nombre_recovered    15987\n",
    "Name: 357, dtype: int64"
   ]
  },
  {
   "cell_type": "markdown",
   "id": "7288b4cb",
   "metadata": {},
   "source": [
    "nombre_infected       799\n",
    "nombre_sain          2753\n",
    "nombre_exposed        474\n",
    "nombre_recovered    15974\n",
    "Name: 358, dtype: int64"
   ]
  },
  {
   "cell_type": "markdown",
   "id": "b95cfa5d",
   "metadata": {},
   "source": [
    "nombre_infected       799\n",
    "nombre_sain          2748\n",
    "nombre_exposed        483\n",
    "nombre_recovered    15970\n",
    "Name: 359, dtype: int64"
   ]
  },
  {
   "cell_type": "markdown",
   "id": "8d116a19",
   "metadata": {},
   "source": [
    "nombre_infected       811\n",
    "nombre_sain          2760\n",
    "nombre_exposed        479\n",
    "nombre_recovered    15950\n",
    "Name: 360, dtype: int64"
   ]
  },
  {
   "cell_type": "markdown",
   "id": "e9586af6",
   "metadata": {},
   "source": [
    "nombre_infected       826\n",
    "nombre_sain          2755\n",
    "nombre_exposed        491\n",
    "nombre_recovered    15928\n",
    "Name: 361, dtype: int64"
   ]
  },
  {
   "cell_type": "markdown",
   "id": "2b38373c",
   "metadata": {},
   "source": [
    "nombre_infected       839\n",
    "nombre_sain          2745\n",
    "nombre_exposed        514\n",
    "nombre_recovered    15902\n",
    "Name: 362, dtype: int64"
   ]
  },
  {
   "cell_type": "markdown",
   "id": "faa286a7",
   "metadata": {},
   "source": [
    "nombre_infected       847\n",
    "nombre_sain          2716\n",
    "nombre_exposed        547\n",
    "nombre_recovered    15890\n",
    "Name: 363, dtype: int64"
   ]
  },
  {
   "cell_type": "markdown",
   "id": "15cb5b6c",
   "metadata": {},
   "source": [
    "nombre_infected       858\n",
    "nombre_sain          2724\n",
    "nombre_exposed        526\n",
    "nombre_recovered    15892\n",
    "Name: 364, dtype: int64"
   ]
  },
  {
   "cell_type": "markdown",
   "id": "597cf7dc",
   "metadata": {},
   "source": [
    "nombre_infected       905\n",
    "nombre_sain          2716\n",
    "nombre_exposed        526\n",
    "nombre_recovered    15853\n",
    "Name: 365, dtype: int64"
   ]
  },
  {
   "cell_type": "markdown",
   "id": "5b1f0ce8",
   "metadata": {},
   "source": [
    "nombre_infected       882\n",
    "nombre_sain          2705\n",
    "nombre_exposed        552\n",
    "nombre_recovered    15861\n",
    "Name: 366, dtype: int64"
   ]
  },
  {
   "cell_type": "markdown",
   "id": "23a04099",
   "metadata": {},
   "source": [
    "nombre_infected       886\n",
    "nombre_sain          2708\n",
    "nombre_exposed        542\n",
    "nombre_recovered    15864\n",
    "Name: 367, dtype: int64"
   ]
  },
  {
   "cell_type": "markdown",
   "id": "fd47daec",
   "metadata": {},
   "source": [
    "nombre_infected       917\n",
    "nombre_sain          2668\n",
    "nombre_exposed        561\n",
    "nombre_recovered    15854\n",
    "Name: 368, dtype: int64"
   ]
  },
  {
   "cell_type": "markdown",
   "id": "aabd81f5",
   "metadata": {},
   "source": [
    "nombre_infected       919\n",
    "nombre_sain          2660\n",
    "nombre_exposed        578\n",
    "nombre_recovered    15843\n",
    "Name: 369, dtype: int64"
   ]
  },
  {
   "cell_type": "markdown",
   "id": "3f075097",
   "metadata": {},
   "source": [
    "nombre_infected       936\n",
    "nombre_sain          2637\n",
    "nombre_exposed        574\n",
    "nombre_recovered    15853\n",
    "Name: 370, dtype: int64"
   ]
  },
  {
   "cell_type": "markdown",
   "id": "5c72ed80",
   "metadata": {},
   "source": [
    "nombre_infected       952\n",
    "nombre_sain          2631\n",
    "nombre_exposed        569\n",
    "nombre_recovered    15848\n",
    "Name: 371, dtype: int64"
   ]
  },
  {
   "cell_type": "markdown",
   "id": "cb437347",
   "metadata": {},
   "source": [
    "nombre_infected       944\n",
    "nombre_sain          2604\n",
    "nombre_exposed        573\n",
    "nombre_recovered    15879\n",
    "Name: 372, dtype: int64"
   ]
  },
  {
   "cell_type": "markdown",
   "id": "a0e21093",
   "metadata": {},
   "source": [
    "nombre_infected       944\n",
    "nombre_sain          2585\n",
    "nombre_exposed        560\n",
    "nombre_recovered    15911\n",
    "Name: 373, dtype: int64"
   ]
  },
  {
   "cell_type": "markdown",
   "id": "a3d7ff57",
   "metadata": {},
   "source": [
    "nombre_infected       974\n",
    "nombre_sain          2540\n",
    "nombre_exposed        558\n",
    "nombre_recovered    15928\n",
    "Name: 374, dtype: int64"
   ]
  },
  {
   "cell_type": "markdown",
   "id": "ff0d37e9",
   "metadata": {},
   "source": [
    "nombre_infected       975\n",
    "nombre_sain          2481\n",
    "nombre_exposed        564\n",
    "nombre_recovered    15980\n",
    "Name: 375, dtype: int64"
   ]
  },
  {
   "cell_type": "markdown",
   "id": "ba883196",
   "metadata": {},
   "source": [
    "nombre_infected       983\n",
    "nombre_sain          2437\n",
    "nombre_exposed        568\n",
    "nombre_recovered    16012\n",
    "Name: 376, dtype: int64"
   ]
  },
  {
   "cell_type": "markdown",
   "id": "fd2e6eda",
   "metadata": {},
   "source": [
    "nombre_infected       994\n",
    "nombre_sain          2339\n",
    "nombre_exposed        613\n",
    "nombre_recovered    16054\n",
    "Name: 377, dtype: int64"
   ]
  },
  {
   "cell_type": "markdown",
   "id": "e945efd5",
   "metadata": {},
   "source": [
    "nombre_infected      1011\n",
    "nombre_sain          2316\n",
    "nombre_exposed        598\n",
    "nombre_recovered    16075\n",
    "Name: 378, dtype: int64"
   ]
  },
  {
   "cell_type": "markdown",
   "id": "eea75ca6",
   "metadata": {},
   "source": [
    "nombre_infected      1017\n",
    "nombre_sain          2296\n",
    "nombre_exposed        568\n",
    "nombre_recovered    16119\n",
    "Name: 379, dtype: int64"
   ]
  },
  {
   "cell_type": "markdown",
   "id": "73563480",
   "metadata": {},
   "source": [
    "nombre_infected      1044\n",
    "nombre_sain          2258\n",
    "nombre_exposed        565\n",
    "nombre_recovered    16133\n",
    "Name: 380, dtype: int64"
   ]
  },
  {
   "cell_type": "markdown",
   "id": "1c23b212",
   "metadata": {},
   "source": [
    "nombre_infected      1032\n",
    "nombre_sain          2225\n",
    "nombre_exposed        562\n",
    "nombre_recovered    16181\n",
    "Name: 381, dtype: int64"
   ]
  },
  {
   "cell_type": "markdown",
   "id": "dd439218",
   "metadata": {},
   "source": [
    "nombre_infected      1035\n",
    "nombre_sain          2216\n",
    "nombre_exposed        534\n",
    "nombre_recovered    16215\n",
    "Name: 382, dtype: int64"
   ]
  },
  {
   "cell_type": "markdown",
   "id": "a56262ac",
   "metadata": {},
   "source": [
    "nombre_infected      1038\n",
    "nombre_sain          2207\n",
    "nombre_exposed        516\n",
    "nombre_recovered    16239\n",
    "Name: 383, dtype: int64"
   ]
  },
  {
   "cell_type": "markdown",
   "id": "20459585",
   "metadata": {},
   "source": [
    "nombre_infected      1036\n",
    "nombre_sain          2177\n",
    "nombre_exposed        526\n",
    "nombre_recovered    16261\n",
    "Name: 384, dtype: int64"
   ]
  },
  {
   "cell_type": "markdown",
   "id": "03b022be",
   "metadata": {},
   "source": [
    "nombre_infected      1002\n",
    "nombre_sain          2181\n",
    "nombre_exposed        525\n",
    "nombre_recovered    16292\n",
    "Name: 385, dtype: int64"
   ]
  },
  {
   "cell_type": "markdown",
   "id": "89f1df0a",
   "metadata": {},
   "source": [
    "nombre_infected      1010\n",
    "nombre_sain          2136\n",
    "nombre_exposed        514\n",
    "nombre_recovered    16340\n",
    "Name: 386, dtype: int64"
   ]
  },
  {
   "cell_type": "markdown",
   "id": "7606ce83",
   "metadata": {},
   "source": [
    "nombre_infected       987\n",
    "nombre_sain          2137\n",
    "nombre_exposed        494\n",
    "nombre_recovered    16382\n",
    "Name: 387, dtype: int64"
   ]
  },
  {
   "cell_type": "markdown",
   "id": "2f426035",
   "metadata": {},
   "source": [
    "nombre_infected       950\n",
    "nombre_sain          2109\n",
    "nombre_exposed        506\n",
    "nombre_recovered    16435\n",
    "Name: 388, dtype: int64"
   ]
  },
  {
   "cell_type": "markdown",
   "id": "06fc42a2",
   "metadata": {},
   "source": [
    "nombre_infected       957\n",
    "nombre_sain          2138\n",
    "nombre_exposed        477\n",
    "nombre_recovered    16428\n",
    "Name: 389, dtype: int64"
   ]
  },
  {
   "cell_type": "markdown",
   "id": "b0c1615e",
   "metadata": {},
   "source": [
    "nombre_infected       938\n",
    "nombre_sain          2135\n",
    "nombre_exposed        470\n",
    "nombre_recovered    16457\n",
    "Name: 390, dtype: int64"
   ]
  },
  {
   "cell_type": "markdown",
   "id": "121e6520",
   "metadata": {},
   "source": [
    "nombre_infected       960\n",
    "nombre_sain          2128\n",
    "nombre_exposed        470\n",
    "nombre_recovered    16442\n",
    "Name: 391, dtype: int64"
   ]
  },
  {
   "cell_type": "markdown",
   "id": "834629a3",
   "metadata": {},
   "source": [
    "nombre_infected       932\n",
    "nombre_sain          2140\n",
    "nombre_exposed        468\n",
    "nombre_recovered    16460\n",
    "Name: 392, dtype: int64"
   ]
  },
  {
   "cell_type": "markdown",
   "id": "0ce4165c",
   "metadata": {},
   "source": [
    "nombre_infected       929\n",
    "nombre_sain          2171\n",
    "nombre_exposed        447\n",
    "nombre_recovered    16453\n",
    "Name: 393, dtype: int64"
   ]
  },
  {
   "cell_type": "markdown",
   "id": "8fc453c0",
   "metadata": {},
   "source": [
    "nombre_infected       929\n",
    "nombre_sain          2214\n",
    "nombre_exposed        435\n",
    "nombre_recovered    16422\n",
    "Name: 394, dtype: int64"
   ]
  },
  {
   "cell_type": "markdown",
   "id": "25a85617",
   "metadata": {},
   "source": [
    "nombre_infected       918\n",
    "nombre_sain          2220\n",
    "nombre_exposed        447\n",
    "nombre_recovered    16415\n",
    "Name: 395, dtype: int64"
   ]
  },
  {
   "cell_type": "markdown",
   "id": "166ef7a6",
   "metadata": {},
   "source": [
    "nombre_infected       919\n",
    "nombre_sain          2232\n",
    "nombre_exposed        453\n",
    "nombre_recovered    16396\n",
    "Name: 396, dtype: int64"
   ]
  },
  {
   "cell_type": "markdown",
   "id": "32bb86b3",
   "metadata": {},
   "source": [
    "nombre_infected       918\n",
    "nombre_sain          2245\n",
    "nombre_exposed        450\n",
    "nombre_recovered    16387\n",
    "Name: 397, dtype: int64"
   ]
  },
  {
   "cell_type": "markdown",
   "id": "24c0103e",
   "metadata": {},
   "source": [
    "nombre_infected       900\n",
    "nombre_sain          2263\n",
    "nombre_exposed        445\n",
    "nombre_recovered    16392\n",
    "Name: 398, dtype: int64"
   ]
  },
  {
   "cell_type": "markdown",
   "id": "710321c5",
   "metadata": {},
   "source": [
    "nombre_infected       911\n",
    "nombre_sain          2279\n",
    "nombre_exposed        444\n",
    "nombre_recovered    16366\n",
    "Name: 399, dtype: int64"
   ]
  },
  {
   "cell_type": "markdown",
   "id": "763a8bab",
   "metadata": {},
   "source": [
    "nombre_infected       881\n",
    "nombre_sain          2301\n",
    "nombre_exposed        471\n",
    "nombre_recovered    16347\n",
    "Name: 400, dtype: int64"
   ]
  },
  {
   "cell_type": "markdown",
   "id": "d97b8192",
   "metadata": {},
   "source": [
    "nombre_infected       866\n",
    "nombre_sain          2296\n",
    "nombre_exposed        497\n",
    "nombre_recovered    16341\n",
    "Name: 401, dtype: int64"
   ]
  },
  {
   "cell_type": "markdown",
   "id": "d2864f71",
   "metadata": {},
   "source": [
    "nombre_infected       867\n",
    "nombre_sain          2330\n",
    "nombre_exposed        491\n",
    "nombre_recovered    16312\n",
    "Name: 402, dtype: int64"
   ]
  },
  {
   "cell_type": "markdown",
   "id": "76bb8d19",
   "metadata": {},
   "source": [
    "nombre_infected       884\n",
    "nombre_sain          2336\n",
    "nombre_exposed        477\n",
    "nombre_recovered    16303\n",
    "Name: 403, dtype: int64"
   ]
  },
  {
   "cell_type": "markdown",
   "id": "a5126c0b",
   "metadata": {},
   "source": [
    "nombre_infected       885\n",
    "nombre_sain          2325\n",
    "nombre_exposed        491\n",
    "nombre_recovered    16299\n",
    "Name: 404, dtype: int64"
   ]
  },
  {
   "cell_type": "markdown",
   "id": "e3bb6399",
   "metadata": {},
   "source": [
    "nombre_infected       899\n",
    "nombre_sain          2336\n",
    "nombre_exposed        478\n",
    "nombre_recovered    16287\n",
    "Name: 405, dtype: int64"
   ]
  },
  {
   "cell_type": "markdown",
   "id": "14ae48ed",
   "metadata": {},
   "source": [
    "nombre_infected       901\n",
    "nombre_sain          2354\n",
    "nombre_exposed        463\n",
    "nombre_recovered    16282\n",
    "Name: 406, dtype: int64"
   ]
  },
  {
   "cell_type": "markdown",
   "id": "9a00c7c0",
   "metadata": {},
   "source": [
    "nombre_infected       895\n",
    "nombre_sain          2362\n",
    "nombre_exposed        465\n",
    "nombre_recovered    16278\n",
    "Name: 407, dtype: int64"
   ]
  },
  {
   "cell_type": "markdown",
   "id": "6d961f26",
   "metadata": {},
   "source": [
    "nombre_infected       876\n",
    "nombre_sain          2378\n",
    "nombre_exposed        463\n",
    "nombre_recovered    16283\n",
    "Name: 408, dtype: int64"
   ]
  },
  {
   "cell_type": "markdown",
   "id": "c4d1b440",
   "metadata": {},
   "source": [
    "nombre_infected       853\n",
    "nombre_sain          2370\n",
    "nombre_exposed        492\n",
    "nombre_recovered    16285\n",
    "Name: 409, dtype: int64"
   ]
  },
  {
   "cell_type": "markdown",
   "id": "fbfcd593",
   "metadata": {},
   "source": [
    "nombre_infected       866\n",
    "nombre_sain          2387\n",
    "nombre_exposed        473\n",
    "nombre_recovered    16274\n",
    "Name: 410, dtype: int64"
   ]
  },
  {
   "cell_type": "markdown",
   "id": "c77ec250",
   "metadata": {},
   "source": [
    "nombre_infected       856\n",
    "nombre_sain          2383\n",
    "nombre_exposed        468\n",
    "nombre_recovered    16293\n",
    "Name: 411, dtype: int64"
   ]
  },
  {
   "cell_type": "markdown",
   "id": "856f67e6",
   "metadata": {},
   "source": [
    "nombre_infected       874\n",
    "nombre_sain          2412\n",
    "nombre_exposed        468\n",
    "nombre_recovered    16246\n",
    "Name: 412, dtype: int64"
   ]
  },
  {
   "cell_type": "markdown",
   "id": "401b0fd2",
   "metadata": {},
   "source": [
    "nombre_infected       878\n",
    "nombre_sain          2407\n",
    "nombre_exposed        467\n",
    "nombre_recovered    16248\n",
    "Name: 413, dtype: int64"
   ]
  },
  {
   "cell_type": "markdown",
   "id": "cecefb06",
   "metadata": {},
   "source": [
    "nombre_infected       863\n",
    "nombre_sain          2392\n",
    "nombre_exposed        475\n",
    "nombre_recovered    16270\n",
    "Name: 414, dtype: int64"
   ]
  },
  {
   "cell_type": "markdown",
   "id": "8fc065b7",
   "metadata": {},
   "source": [
    "nombre_infected       847\n",
    "nombre_sain          2401\n",
    "nombre_exposed        458\n",
    "nombre_recovered    16294\n",
    "Name: 415, dtype: int64"
   ]
  },
  {
   "cell_type": "markdown",
   "id": "2e2603f7",
   "metadata": {},
   "source": [
    "nombre_infected       869\n",
    "nombre_sain          2415\n",
    "nombre_exposed        449\n",
    "nombre_recovered    16267\n",
    "Name: 416, dtype: int64"
   ]
  },
  {
   "cell_type": "markdown",
   "id": "9bdf9bc8",
   "metadata": {},
   "source": [
    "nombre_infected       884\n",
    "nombre_sain          2394\n",
    "nombre_exposed        438\n",
    "nombre_recovered    16284\n",
    "Name: 417, dtype: int64"
   ]
  },
  {
   "cell_type": "markdown",
   "id": "65971018",
   "metadata": {},
   "source": [
    "nombre_infected       845\n",
    "nombre_sain          2377\n",
    "nombre_exposed        472\n",
    "nombre_recovered    16306\n",
    "Name: 418, dtype: int64"
   ]
  },
  {
   "cell_type": "markdown",
   "id": "aca1fa75",
   "metadata": {},
   "source": [
    "nombre_infected       858\n",
    "nombre_sain          2373\n",
    "nombre_exposed        468\n",
    "nombre_recovered    16301\n",
    "Name: 419, dtype: int64"
   ]
  },
  {
   "cell_type": "markdown",
   "id": "8ae7e777",
   "metadata": {},
   "source": [
    "nombre_infected       843\n",
    "nombre_sain          2389\n",
    "nombre_exposed        470\n",
    "nombre_recovered    16298\n",
    "Name: 420, dtype: int64"
   ]
  },
  {
   "cell_type": "markdown",
   "id": "17693bda",
   "metadata": {},
   "source": [
    "nombre_infected       839\n",
    "nombre_sain          2376\n",
    "nombre_exposed        463\n",
    "nombre_recovered    16322\n",
    "Name: 421, dtype: int64"
   ]
  },
  {
   "cell_type": "markdown",
   "id": "51d8f9f0",
   "metadata": {},
   "source": [
    "nombre_infected       828\n",
    "nombre_sain          2403\n",
    "nombre_exposed        449\n",
    "nombre_recovered    16320\n",
    "Name: 422, dtype: int64"
   ]
  },
  {
   "cell_type": "markdown",
   "id": "c811f96a",
   "metadata": {},
   "source": [
    "nombre_infected       820\n",
    "nombre_sain          2414\n",
    "nombre_exposed        447\n",
    "nombre_recovered    16319\n",
    "Name: 423, dtype: int64"
   ]
  },
  {
   "cell_type": "markdown",
   "id": "e9b4f49a",
   "metadata": {},
   "source": [
    "nombre_infected       772\n",
    "nombre_sain          2389\n",
    "nombre_exposed        464\n",
    "nombre_recovered    16375\n",
    "Name: 424, dtype: int64"
   ]
  },
  {
   "cell_type": "markdown",
   "id": "48cae716",
   "metadata": {},
   "source": [
    "nombre_infected       783\n",
    "nombre_sain          2365\n",
    "nombre_exposed        480\n",
    "nombre_recovered    16372\n",
    "Name: 425, dtype: int64"
   ]
  },
  {
   "cell_type": "markdown",
   "id": "5d9a49bf",
   "metadata": {},
   "source": [
    "nombre_infected       801\n",
    "nombre_sain          2353\n",
    "nombre_exposed        481\n",
    "nombre_recovered    16365\n",
    "Name: 426, dtype: int64"
   ]
  },
  {
   "cell_type": "markdown",
   "id": "5372b606",
   "metadata": {},
   "source": [
    "nombre_infected       815\n",
    "nombre_sain          2374\n",
    "nombre_exposed        455\n",
    "nombre_recovered    16356\n",
    "Name: 427, dtype: int64"
   ]
  },
  {
   "cell_type": "markdown",
   "id": "b52b9f49",
   "metadata": {},
   "source": [
    "nombre_infected       803\n",
    "nombre_sain          2366\n",
    "nombre_exposed        458\n",
    "nombre_recovered    16373\n",
    "Name: 428, dtype: int64"
   ]
  },
  {
   "cell_type": "markdown",
   "id": "d1ed0e3a",
   "metadata": {},
   "source": [
    "nombre_infected       780\n",
    "nombre_sain          2378\n",
    "nombre_exposed        447\n",
    "nombre_recovered    16395\n",
    "Name: 429, dtype: int64"
   ]
  },
  {
   "cell_type": "markdown",
   "id": "5d690b33",
   "metadata": {},
   "source": [
    "nombre_infected       775\n",
    "nombre_sain          2388\n",
    "nombre_exposed        436\n",
    "nombre_recovered    16401\n",
    "Name: 430, dtype: int64"
   ]
  },
  {
   "cell_type": "markdown",
   "id": "b4fbcb93",
   "metadata": {},
   "source": [
    "nombre_infected       764\n",
    "nombre_sain          2399\n",
    "nombre_exposed        419\n",
    "nombre_recovered    16418\n",
    "Name: 431, dtype: int64"
   ]
  },
  {
   "cell_type": "markdown",
   "id": "e7a4c4bb",
   "metadata": {},
   "source": [
    "nombre_infected       757\n",
    "nombre_sain          2402\n",
    "nombre_exposed        430\n",
    "nombre_recovered    16411\n",
    "Name: 432, dtype: int64"
   ]
  },
  {
   "cell_type": "markdown",
   "id": "1a6c0890",
   "metadata": {},
   "source": [
    "nombre_infected       754\n",
    "nombre_sain          2393\n",
    "nombre_exposed        433\n",
    "nombre_recovered    16420\n",
    "Name: 433, dtype: int64"
   ]
  },
  {
   "cell_type": "markdown",
   "id": "3fbcb151",
   "metadata": {},
   "source": [
    "nombre_infected       751\n",
    "nombre_sain          2395\n",
    "nombre_exposed        434\n",
    "nombre_recovered    16420\n",
    "Name: 434, dtype: int64"
   ]
  },
  {
   "cell_type": "markdown",
   "id": "1ed0e1e3",
   "metadata": {},
   "source": [
    "nombre_infected       723\n",
    "nombre_sain          2402\n",
    "nombre_exposed        445\n",
    "nombre_recovered    16430\n",
    "Name: 435, dtype: int64"
   ]
  },
  {
   "cell_type": "markdown",
   "id": "71717b24",
   "metadata": {},
   "source": [
    "nombre_infected       725\n",
    "nombre_sain          2422\n",
    "nombre_exposed        448\n",
    "nombre_recovered    16405\n",
    "Name: 436, dtype: int64"
   ]
  },
  {
   "cell_type": "markdown",
   "id": "d84eaed8",
   "metadata": {},
   "source": [
    "nombre_infected       725\n",
    "nombre_sain          2447\n",
    "nombre_exposed        427\n",
    "nombre_recovered    16401\n",
    "Name: 437, dtype: int64"
   ]
  },
  {
   "cell_type": "markdown",
   "id": "3564bb65",
   "metadata": {},
   "source": [
    "nombre_infected       717\n",
    "nombre_sain          2463\n",
    "nombre_exposed        433\n",
    "nombre_recovered    16387\n",
    "Name: 438, dtype: int64"
   ]
  },
  {
   "cell_type": "markdown",
   "id": "fe668fd0",
   "metadata": {},
   "source": [
    "nombre_infected       702\n",
    "nombre_sain          2493\n",
    "nombre_exposed        420\n",
    "nombre_recovered    16385\n",
    "Name: 439, dtype: int64"
   ]
  },
  {
   "cell_type": "markdown",
   "id": "1f02643f",
   "metadata": {},
   "source": [
    "nombre_infected       717\n",
    "nombre_sain          2517\n",
    "nombre_exposed        416\n",
    "nombre_recovered    16350\n",
    "Name: 440, dtype: int64"
   ]
  },
  {
   "cell_type": "markdown",
   "id": "f6971bf4",
   "metadata": {},
   "source": [
    "nombre_infected       694\n",
    "nombre_sain          2564\n",
    "nombre_exposed        398\n",
    "nombre_recovered    16344\n",
    "Name: 441, dtype: int64"
   ]
  },
  {
   "cell_type": "markdown",
   "id": "d9e3785b",
   "metadata": {},
   "source": [
    "nombre_infected       643\n",
    "nombre_sain          2593\n",
    "nombre_exposed        415\n",
    "nombre_recovered    16349\n",
    "Name: 442, dtype: int64"
   ]
  },
  {
   "cell_type": "markdown",
   "id": "7b2a72d4",
   "metadata": {},
   "source": [
    "nombre_infected       667\n",
    "nombre_sain          2607\n",
    "nombre_exposed        412\n",
    "nombre_recovered    16314\n",
    "Name: 443, dtype: int64"
   ]
  },
  {
   "cell_type": "markdown",
   "id": "cec221b8",
   "metadata": {},
   "source": [
    "nombre_infected       661\n",
    "nombre_sain          2606\n",
    "nombre_exposed        436\n",
    "nombre_recovered    16297\n",
    "Name: 444, dtype: int64"
   ]
  },
  {
   "cell_type": "markdown",
   "id": "8c2a0775",
   "metadata": {},
   "source": [
    "nombre_infected       652\n",
    "nombre_sain          2650\n",
    "nombre_exposed        419\n",
    "nombre_recovered    16279\n",
    "Name: 445, dtype: int64"
   ]
  },
  {
   "cell_type": "markdown",
   "id": "e5abbc39",
   "metadata": {},
   "source": [
    "nombre_infected       649\n",
    "nombre_sain          2676\n",
    "nombre_exposed        419\n",
    "nombre_recovered    16256\n",
    "Name: 446, dtype: int64"
   ]
  },
  {
   "cell_type": "markdown",
   "id": "f4877863",
   "metadata": {},
   "source": [
    "nombre_infected       650\n",
    "nombre_sain          2685\n",
    "nombre_exposed        416\n",
    "nombre_recovered    16249\n",
    "Name: 447, dtype: int64"
   ]
  },
  {
   "cell_type": "markdown",
   "id": "75018847",
   "metadata": {},
   "source": [
    "nombre_infected       651\n",
    "nombre_sain          2711\n",
    "nombre_exposed        416\n",
    "nombre_recovered    16222\n",
    "Name: 448, dtype: int64"
   ]
  },
  {
   "cell_type": "markdown",
   "id": "01d50e9e",
   "metadata": {},
   "source": [
    "nombre_infected       652\n",
    "nombre_sain          2741\n",
    "nombre_exposed        415\n",
    "nombre_recovered    16192\n",
    "Name: 449, dtype: int64"
   ]
  },
  {
   "cell_type": "markdown",
   "id": "33050f3e",
   "metadata": {},
   "source": [
    "nombre_infected       653\n",
    "nombre_sain          2734\n",
    "nombre_exposed        431\n",
    "nombre_recovered    16182\n",
    "Name: 450, dtype: int64"
   ]
  },
  {
   "cell_type": "markdown",
   "id": "6dfb6736",
   "metadata": {},
   "source": [
    "nombre_infected       659\n",
    "nombre_sain          2740\n",
    "nombre_exposed        456\n",
    "nombre_recovered    16145\n",
    "Name: 451, dtype: int64"
   ]
  },
  {
   "cell_type": "markdown",
   "id": "5d77bc05",
   "metadata": {},
   "source": [
    "nombre_infected       667\n",
    "nombre_sain          2721\n",
    "nombre_exposed        464\n",
    "nombre_recovered    16148\n",
    "Name: 452, dtype: int64"
   ]
  },
  {
   "cell_type": "markdown",
   "id": "9c43008e",
   "metadata": {},
   "source": [
    "nombre_infected       657\n",
    "nombre_sain          2719\n",
    "nombre_exposed        472\n",
    "nombre_recovered    16152\n",
    "Name: 453, dtype: int64"
   ]
  },
  {
   "cell_type": "markdown",
   "id": "bf65f0f7",
   "metadata": {},
   "source": [
    "nombre_infected       673\n",
    "nombre_sain          2719\n",
    "nombre_exposed        485\n",
    "nombre_recovered    16123\n",
    "Name: 454, dtype: int64"
   ]
  },
  {
   "cell_type": "markdown",
   "id": "24f96b32",
   "metadata": {},
   "source": [
    "nombre_infected       660\n",
    "nombre_sain          2705\n",
    "nombre_exposed        495\n",
    "nombre_recovered    16140\n",
    "Name: 455, dtype: int64"
   ]
  },
  {
   "cell_type": "markdown",
   "id": "5ab00765",
   "metadata": {},
   "source": [
    "nombre_infected       681\n",
    "nombre_sain          2690\n",
    "nombre_exposed        485\n",
    "nombre_recovered    16144\n",
    "Name: 456, dtype: int64"
   ]
  },
  {
   "cell_type": "markdown",
   "id": "9cac71da",
   "metadata": {},
   "source": [
    "nombre_infected       685\n",
    "nombre_sain          2686\n",
    "nombre_exposed        489\n",
    "nombre_recovered    16140\n",
    "Name: 457, dtype: int64"
   ]
  },
  {
   "cell_type": "markdown",
   "id": "da4eb6e6",
   "metadata": {},
   "source": [
    "nombre_infected       710\n",
    "nombre_sain          2679\n",
    "nombre_exposed        474\n",
    "nombre_recovered    16137\n",
    "Name: 458, dtype: int64"
   ]
  },
  {
   "cell_type": "markdown",
   "id": "7e0d0ebc",
   "metadata": {},
   "source": [
    "nombre_infected       706\n",
    "nombre_sain          2704\n",
    "nombre_exposed        446\n",
    "nombre_recovered    16144\n",
    "Name: 459, dtype: int64"
   ]
  },
  {
   "cell_type": "markdown",
   "id": "280ce68d",
   "metadata": {},
   "source": [
    "nombre_infected       711\n",
    "nombre_sain          2706\n",
    "nombre_exposed        446\n",
    "nombre_recovered    16137\n",
    "Name: 460, dtype: int64"
   ]
  },
  {
   "cell_type": "markdown",
   "id": "2c2c2110",
   "metadata": {},
   "source": [
    "nombre_infected       709\n",
    "nombre_sain          2693\n",
    "nombre_exposed        458\n",
    "nombre_recovered    16140\n",
    "Name: 461, dtype: int64"
   ]
  },
  {
   "cell_type": "markdown",
   "id": "d3a6bc4b",
   "metadata": {},
   "source": [
    "nombre_infected       719\n",
    "nombre_sain          2680\n",
    "nombre_exposed        464\n",
    "nombre_recovered    16137\n",
    "Name: 462, dtype: int64"
   ]
  },
  {
   "cell_type": "markdown",
   "id": "ed51d158",
   "metadata": {},
   "source": [
    "nombre_infected       733\n",
    "nombre_sain          2672\n",
    "nombre_exposed        459\n",
    "nombre_recovered    16136\n",
    "Name: 463, dtype: int64"
   ]
  },
  {
   "cell_type": "markdown",
   "id": "403b960b",
   "metadata": {},
   "source": [
    "nombre_infected       715\n",
    "nombre_sain          2691\n",
    "nombre_exposed        465\n",
    "nombre_recovered    16129\n",
    "Name: 464, dtype: int64"
   ]
  },
  {
   "cell_type": "markdown",
   "id": "fad426f7",
   "metadata": {},
   "source": [
    "nombre_infected       705\n",
    "nombre_sain          2676\n",
    "nombre_exposed        480\n",
    "nombre_recovered    16139\n",
    "Name: 465, dtype: int64"
   ]
  },
  {
   "cell_type": "markdown",
   "id": "ef585a36",
   "metadata": {},
   "source": [
    "nombre_infected       724\n",
    "nombre_sain          2667\n",
    "nombre_exposed        479\n",
    "nombre_recovered    16130\n",
    "Name: 466, dtype: int64"
   ]
  },
  {
   "cell_type": "markdown",
   "id": "0147914b",
   "metadata": {},
   "source": [
    "nombre_infected       739\n",
    "nombre_sain          2670\n",
    "nombre_exposed        460\n",
    "nombre_recovered    16131\n",
    "Name: 467, dtype: int64"
   ]
  },
  {
   "cell_type": "markdown",
   "id": "8d062d58",
   "metadata": {},
   "source": [
    "nombre_infected       763\n",
    "nombre_sain          2674\n",
    "nombre_exposed        460\n",
    "nombre_recovered    16103\n",
    "Name: 468, dtype: int64"
   ]
  },
  {
   "cell_type": "markdown",
   "id": "9773bf4e",
   "metadata": {},
   "source": [
    "nombre_infected       757\n",
    "nombre_sain          2649\n",
    "nombre_exposed        486\n",
    "nombre_recovered    16108\n",
    "Name: 469, dtype: int64"
   ]
  },
  {
   "cell_type": "markdown",
   "id": "bdf529d7",
   "metadata": {},
   "source": [
    "nombre_infected       764\n",
    "nombre_sain          2676\n",
    "nombre_exposed        466\n",
    "nombre_recovered    16094\n",
    "Name: 470, dtype: int64"
   ]
  },
  {
   "cell_type": "markdown",
   "id": "e7f6a948",
   "metadata": {},
   "source": [
    "nombre_infected       753\n",
    "nombre_sain          2693\n",
    "nombre_exposed        467\n",
    "nombre_recovered    16087\n",
    "Name: 471, dtype: int64"
   ]
  },
  {
   "cell_type": "markdown",
   "id": "816beec0",
   "metadata": {},
   "source": [
    "nombre_infected       752\n",
    "nombre_sain          2662\n",
    "nombre_exposed        497\n",
    "nombre_recovered    16089\n",
    "Name: 472, dtype: int64"
   ]
  },
  {
   "cell_type": "markdown",
   "id": "82cfe02d",
   "metadata": {},
   "source": [
    "nombre_infected       756\n",
    "nombre_sain          2681\n",
    "nombre_exposed        472\n",
    "nombre_recovered    16091\n",
    "Name: 473, dtype: int64"
   ]
  },
  {
   "cell_type": "markdown",
   "id": "6199ea85",
   "metadata": {},
   "source": [
    "nombre_infected       760\n",
    "nombre_sain          2691\n",
    "nombre_exposed        474\n",
    "nombre_recovered    16075\n",
    "Name: 474, dtype: int64"
   ]
  },
  {
   "cell_type": "markdown",
   "id": "10fe799a",
   "metadata": {},
   "source": [
    "nombre_infected       765\n",
    "nombre_sain          2700\n",
    "nombre_exposed        477\n",
    "nombre_recovered    16058\n",
    "Name: 475, dtype: int64"
   ]
  },
  {
   "cell_type": "markdown",
   "id": "dd79639f",
   "metadata": {},
   "source": [
    "nombre_infected       767\n",
    "nombre_sain          2686\n",
    "nombre_exposed        492\n",
    "nombre_recovered    16055\n",
    "Name: 476, dtype: int64"
   ]
  },
  {
   "cell_type": "markdown",
   "id": "bb596cb2",
   "metadata": {},
   "source": [
    "nombre_infected       794\n",
    "nombre_sain          2690\n",
    "nombre_exposed        482\n",
    "nombre_recovered    16034\n",
    "Name: 477, dtype: int64"
   ]
  },
  {
   "cell_type": "markdown",
   "id": "e3a672e1",
   "metadata": {},
   "source": [
    "nombre_infected       796\n",
    "nombre_sain          2697\n",
    "nombre_exposed        496\n",
    "nombre_recovered    16011\n",
    "Name: 478, dtype: int64"
   ]
  },
  {
   "cell_type": "markdown",
   "id": "d683a1b4",
   "metadata": {},
   "source": [
    "nombre_infected       776\n",
    "nombre_sain          2671\n",
    "nombre_exposed        522\n",
    "nombre_recovered    16031\n",
    "Name: 479, dtype: int64"
   ]
  },
  {
   "cell_type": "markdown",
   "id": "bc5c2f68",
   "metadata": {},
   "source": [
    "nombre_infected       768\n",
    "nombre_sain          2622\n",
    "nombre_exposed        549\n",
    "nombre_recovered    16061\n",
    "Name: 480, dtype: int64"
   ]
  },
  {
   "cell_type": "markdown",
   "id": "29100975",
   "metadata": {},
   "source": [
    "nombre_infected       789\n",
    "nombre_sain          2637\n",
    "nombre_exposed        516\n",
    "nombre_recovered    16058\n",
    "Name: 481, dtype: int64"
   ]
  },
  {
   "cell_type": "markdown",
   "id": "a798f98b",
   "metadata": {},
   "source": [
    "nombre_infected       779\n",
    "nombre_sain          2603\n",
    "nombre_exposed        532\n",
    "nombre_recovered    16086\n",
    "Name: 482, dtype: int64"
   ]
  },
  {
   "cell_type": "markdown",
   "id": "c9726262",
   "metadata": {},
   "source": [
    "nombre_infected       780\n",
    "nombre_sain          2560\n",
    "nombre_exposed        551\n",
    "nombre_recovered    16109\n",
    "Name: 483, dtype: int64"
   ]
  },
  {
   "cell_type": "markdown",
   "id": "b1691c4b",
   "metadata": {},
   "source": [
    "nombre_infected       798\n",
    "nombre_sain          2564\n",
    "nombre_exposed        529\n",
    "nombre_recovered    16109\n",
    "Name: 484, dtype: int64"
   ]
  },
  {
   "cell_type": "markdown",
   "id": "175a708f",
   "metadata": {},
   "source": [
    "nombre_infected       841\n",
    "nombre_sain          2538\n",
    "nombre_exposed        532\n",
    "nombre_recovered    16089\n",
    "Name: 485, dtype: int64"
   ]
  },
  {
   "cell_type": "markdown",
   "id": "fe025f77",
   "metadata": {},
   "source": [
    "nombre_infected       872\n",
    "nombre_sain          2532\n",
    "nombre_exposed        528\n",
    "nombre_recovered    16068\n",
    "Name: 486, dtype: int64"
   ]
  },
  {
   "cell_type": "markdown",
   "id": "e759cbdb",
   "metadata": {},
   "source": [
    "nombre_infected       877\n",
    "nombre_sain          2513\n",
    "nombre_exposed        539\n",
    "nombre_recovered    16071\n",
    "Name: 487, dtype: int64"
   ]
  },
  {
   "cell_type": "markdown",
   "id": "b4a02b00",
   "metadata": {},
   "source": [
    "nombre_infected       875\n",
    "nombre_sain          2488\n",
    "nombre_exposed        563\n",
    "nombre_recovered    16074\n",
    "Name: 488, dtype: int64"
   ]
  },
  {
   "cell_type": "markdown",
   "id": "97dc0019",
   "metadata": {},
   "source": [
    "nombre_infected       867\n",
    "nombre_sain          2478\n",
    "nombre_exposed        557\n",
    "nombre_recovered    16098\n",
    "Name: 489, dtype: int64"
   ]
  },
  {
   "cell_type": "markdown",
   "id": "77dbebcd",
   "metadata": {},
   "source": [
    "nombre_infected       902\n",
    "nombre_sain          2463\n",
    "nombre_exposed        548\n",
    "nombre_recovered    16087\n",
    "Name: 490, dtype: int64"
   ]
  },
  {
   "cell_type": "markdown",
   "id": "b90604d0",
   "metadata": {},
   "source": [
    "nombre_infected       896\n",
    "nombre_sain          2446\n",
    "nombre_exposed        573\n",
    "nombre_recovered    16085\n",
    "Name: 491, dtype: int64"
   ]
  },
  {
   "cell_type": "markdown",
   "id": "4ee80b34",
   "metadata": {},
   "source": [
    "nombre_infected       897\n",
    "nombre_sain          2429\n",
    "nombre_exposed        595\n",
    "nombre_recovered    16079\n",
    "Name: 492, dtype: int64"
   ]
  },
  {
   "cell_type": "markdown",
   "id": "da943925",
   "metadata": {},
   "source": [
    "nombre_infected       935\n",
    "nombre_sain          2426\n",
    "nombre_exposed        580\n",
    "nombre_recovered    16059\n",
    "Name: 493, dtype: int64"
   ]
  },
  {
   "cell_type": "markdown",
   "id": "b25df501",
   "metadata": {},
   "source": [
    "nombre_infected       923\n",
    "nombre_sain          2429\n",
    "nombre_exposed        587\n",
    "nombre_recovered    16061\n",
    "Name: 494, dtype: int64"
   ]
  },
  {
   "cell_type": "markdown",
   "id": "14a0e3c6",
   "metadata": {},
   "source": [
    "nombre_infected       968\n",
    "nombre_sain          2410\n",
    "nombre_exposed        559\n",
    "nombre_recovered    16063\n",
    "Name: 495, dtype: int64"
   ]
  },
  {
   "cell_type": "markdown",
   "id": "7ef21ca6",
   "metadata": {},
   "source": [
    "nombre_infected       981\n",
    "nombre_sain          2383\n",
    "nombre_exposed        558\n",
    "nombre_recovered    16078\n",
    "Name: 496, dtype: int64"
   ]
  },
  {
   "cell_type": "markdown",
   "id": "5108d744",
   "metadata": {},
   "source": [
    "nombre_infected       976\n",
    "nombre_sain          2370\n",
    "nombre_exposed        565\n",
    "nombre_recovered    16089\n",
    "Name: 497, dtype: int64"
   ]
  },
  {
   "cell_type": "markdown",
   "id": "9cdba5ac",
   "metadata": {},
   "source": [
    "nombre_infected       957\n",
    "nombre_sain          2364\n",
    "nombre_exposed        557\n",
    "nombre_recovered    16122\n",
    "Name: 498, dtype: int64"
   ]
  },
  {
   "cell_type": "markdown",
   "id": "f9d3212a",
   "metadata": {},
   "source": [
    "nombre_infected      1010\n",
    "nombre_sain          2337\n",
    "nombre_exposed        534\n",
    "nombre_recovered    16119\n",
    "Name: 499, dtype: int64"
   ]
  },
  {
   "cell_type": "markdown",
   "id": "679c6a80",
   "metadata": {},
   "source": [
    "nombre_infected      1017\n",
    "nombre_sain          2314\n",
    "nombre_exposed        542\n",
    "nombre_recovered    16127\n",
    "Name: 500, dtype: int64"
   ]
  },
  {
   "cell_type": "markdown",
   "id": "03a9145c",
   "metadata": {},
   "source": [
    "nombre_infected      1000\n",
    "nombre_sain          2298\n",
    "nombre_exposed        554\n",
    "nombre_recovered    16148\n",
    "Name: 501, dtype: int64"
   ]
  },
  {
   "cell_type": "markdown",
   "id": "3a225ac0",
   "metadata": {},
   "source": [
    "nombre_infected      1013\n",
    "nombre_sain          2314\n",
    "nombre_exposed        514\n",
    "nombre_recovered    16159\n",
    "Name: 502, dtype: int64"
   ]
  },
  {
   "cell_type": "markdown",
   "id": "b34c413b",
   "metadata": {},
   "source": [
    "nombre_infected      1020\n",
    "nombre_sain          2301\n",
    "nombre_exposed        499\n",
    "nombre_recovered    16180\n",
    "Name: 503, dtype: int64"
   ]
  },
  {
   "cell_type": "markdown",
   "id": "03cd3706",
   "metadata": {},
   "source": [
    "nombre_infected       999\n",
    "nombre_sain          2280\n",
    "nombre_exposed        504\n",
    "nombre_recovered    16217\n",
    "Name: 504, dtype: int64"
   ]
  },
  {
   "cell_type": "markdown",
   "id": "55be7d1e",
   "metadata": {},
   "source": [
    "nombre_infected       973\n",
    "nombre_sain          2269\n",
    "nombre_exposed        539\n",
    "nombre_recovered    16219\n",
    "Name: 505, dtype: int64"
   ]
  },
  {
   "cell_type": "markdown",
   "id": "4e8a3c9c",
   "metadata": {},
   "source": [
    "nombre_infected       968\n",
    "nombre_sain          2278\n",
    "nombre_exposed        524\n",
    "nombre_recovered    16230\n",
    "Name: 506, dtype: int64"
   ]
  },
  {
   "cell_type": "markdown",
   "id": "0d0baf6d",
   "metadata": {},
   "source": [
    "nombre_infected       971\n",
    "nombre_sain          2300\n",
    "nombre_exposed        514\n",
    "nombre_recovered    16215\n",
    "Name: 507, dtype: int64"
   ]
  },
  {
   "cell_type": "markdown",
   "id": "e5aad3aa",
   "metadata": {},
   "source": [
    "nombre_infected       957\n",
    "nombre_sain          2296\n",
    "nombre_exposed        527\n",
    "nombre_recovered    16220\n",
    "Name: 508, dtype: int64"
   ]
  },
  {
   "cell_type": "markdown",
   "id": "1cc3aa9c",
   "metadata": {},
   "source": [
    "nombre_infected       963\n",
    "nombre_sain          2313\n",
    "nombre_exposed        519\n",
    "nombre_recovered    16205\n",
    "Name: 509, dtype: int64"
   ]
  },
  {
   "cell_type": "markdown",
   "id": "b905746d",
   "metadata": {},
   "source": [
    "nombre_infected       964\n",
    "nombre_sain          2311\n",
    "nombre_exposed        524\n",
    "nombre_recovered    16201\n",
    "Name: 510, dtype: int64"
   ]
  },
  {
   "cell_type": "markdown",
   "id": "3f36707a",
   "metadata": {},
   "source": [
    "nombre_infected       968\n",
    "nombre_sain          2296\n",
    "nombre_exposed        527\n",
    "nombre_recovered    16209\n",
    "Name: 511, dtype: int64"
   ]
  },
  {
   "cell_type": "markdown",
   "id": "1f6b8199",
   "metadata": {},
   "source": [
    "nombre_infected       955\n",
    "nombre_sain          2272\n",
    "nombre_exposed        565\n",
    "nombre_recovered    16208\n",
    "Name: 512, dtype: int64"
   ]
  },
  {
   "cell_type": "markdown",
   "id": "af58dc37",
   "metadata": {},
   "source": [
    "nombre_infected       952\n",
    "nombre_sain          2277\n",
    "nombre_exposed        556\n",
    "nombre_recovered    16215\n",
    "Name: 513, dtype: int64"
   ]
  },
  {
   "cell_type": "markdown",
   "id": "9f5bed9b",
   "metadata": {},
   "source": [
    "nombre_infected       970\n",
    "nombre_sain          2281\n",
    "nombre_exposed        551\n",
    "nombre_recovered    16198\n",
    "Name: 514, dtype: int64"
   ]
  },
  {
   "cell_type": "markdown",
   "id": "571fce99",
   "metadata": {},
   "source": [
    "nombre_infected      1000\n",
    "nombre_sain          2278\n",
    "nombre_exposed        538\n",
    "nombre_recovered    16184\n",
    "Name: 515, dtype: int64"
   ]
  },
  {
   "cell_type": "markdown",
   "id": "2d692332",
   "metadata": {},
   "source": [
    "nombre_infected      1001\n",
    "nombre_sain          2285\n",
    "nombre_exposed        553\n",
    "nombre_recovered    16161\n",
    "Name: 516, dtype: int64"
   ]
  },
  {
   "cell_type": "markdown",
   "id": "12265e77",
   "metadata": {},
   "source": [
    "nombre_infected      1000\n",
    "nombre_sain          2275\n",
    "nombre_exposed        544\n",
    "nombre_recovered    16181\n",
    "Name: 517, dtype: int64"
   ]
  },
  {
   "cell_type": "markdown",
   "id": "10a7a391",
   "metadata": {},
   "source": [
    "nombre_infected       986\n",
    "nombre_sain          2249\n",
    "nombre_exposed        580\n",
    "nombre_recovered    16185\n",
    "Name: 518, dtype: int64"
   ]
  },
  {
   "cell_type": "markdown",
   "id": "840cc315",
   "metadata": {},
   "source": [
    "nombre_infected       990\n",
    "nombre_sain          2220\n",
    "nombre_exposed        577\n",
    "nombre_recovered    16213\n",
    "Name: 519, dtype: int64"
   ]
  },
  {
   "cell_type": "markdown",
   "id": "9b212766",
   "metadata": {},
   "source": [
    "nombre_infected       987\n",
    "nombre_sain          2206\n",
    "nombre_exposed        571\n",
    "nombre_recovered    16236\n",
    "Name: 520, dtype: int64"
   ]
  },
  {
   "cell_type": "markdown",
   "id": "7e5f0d47",
   "metadata": {},
   "source": [
    "nombre_infected       978\n",
    "nombre_sain          2229\n",
    "nombre_exposed        525\n",
    "nombre_recovered    16268\n",
    "Name: 521, dtype: int64"
   ]
  },
  {
   "cell_type": "markdown",
   "id": "c1d94194",
   "metadata": {},
   "source": [
    "nombre_infected       980\n",
    "nombre_sain          2215\n",
    "nombre_exposed        518\n",
    "nombre_recovered    16287\n",
    "Name: 522, dtype: int64"
   ]
  },
  {
   "cell_type": "markdown",
   "id": "03ce11d2",
   "metadata": {},
   "source": [
    "nombre_infected       953\n",
    "nombre_sain          2204\n",
    "nombre_exposed        530\n",
    "nombre_recovered    16313\n",
    "Name: 523, dtype: int64"
   ]
  },
  {
   "cell_type": "markdown",
   "id": "f68c119d",
   "metadata": {},
   "source": [
    "nombre_infected       974\n",
    "nombre_sain          2183\n",
    "nombre_exposed        540\n",
    "nombre_recovered    16303\n",
    "Name: 524, dtype: int64"
   ]
  },
  {
   "cell_type": "markdown",
   "id": "3ca9820b",
   "metadata": {},
   "source": [
    "nombre_infected       967\n",
    "nombre_sain          2165\n",
    "nombre_exposed        559\n",
    "nombre_recovered    16309\n",
    "Name: 525, dtype: int64"
   ]
  },
  {
   "cell_type": "markdown",
   "id": "943b01bf",
   "metadata": {},
   "source": [
    "nombre_infected       978\n",
    "nombre_sain          2165\n",
    "nombre_exposed        545\n",
    "nombre_recovered    16312\n",
    "Name: 526, dtype: int64"
   ]
  },
  {
   "cell_type": "markdown",
   "id": "cc9964ee",
   "metadata": {},
   "source": [
    "nombre_infected       987\n",
    "nombre_sain          2138\n",
    "nombre_exposed        552\n",
    "nombre_recovered    16323\n",
    "Name: 527, dtype: int64"
   ]
  },
  {
   "cell_type": "markdown",
   "id": "6b5eae5a",
   "metadata": {},
   "source": [
    "nombre_infected       972\n",
    "nombre_sain          2139\n",
    "nombre_exposed        559\n",
    "nombre_recovered    16330\n",
    "Name: 528, dtype: int64"
   ]
  },
  {
   "cell_type": "markdown",
   "id": "fa116ced",
   "metadata": {},
   "source": [
    "nombre_infected       980\n",
    "nombre_sain          2152\n",
    "nombre_exposed        532\n",
    "nombre_recovered    16336\n",
    "Name: 529, dtype: int64"
   ]
  },
  {
   "cell_type": "markdown",
   "id": "aa4b591c",
   "metadata": {},
   "source": [
    "nombre_infected       975\n",
    "nombre_sain          2136\n",
    "nombre_exposed        543\n",
    "nombre_recovered    16346\n",
    "Name: 530, dtype: int64"
   ]
  },
  {
   "cell_type": "markdown",
   "id": "b1c88ae9",
   "metadata": {},
   "source": [
    "nombre_infected       975\n",
    "nombre_sain          2140\n",
    "nombre_exposed        544\n",
    "nombre_recovered    16341\n",
    "Name: 531, dtype: int64"
   ]
  },
  {
   "cell_type": "markdown",
   "id": "03e1f331",
   "metadata": {},
   "source": [
    "nombre_infected       969\n",
    "nombre_sain          2160\n",
    "nombre_exposed        529\n",
    "nombre_recovered    16342\n",
    "Name: 532, dtype: int64"
   ]
  },
  {
   "cell_type": "markdown",
   "id": "d2f5789a",
   "metadata": {},
   "source": [
    "nombre_infected       971\n",
    "nombre_sain          2147\n",
    "nombre_exposed        550\n",
    "nombre_recovered    16332\n",
    "Name: 533, dtype: int64"
   ]
  },
  {
   "cell_type": "markdown",
   "id": "de159f0a",
   "metadata": {},
   "source": [
    "nombre_infected       968\n",
    "nombre_sain          2159\n",
    "nombre_exposed        549\n",
    "nombre_recovered    16324\n",
    "Name: 534, dtype: int64"
   ]
  },
  {
   "cell_type": "markdown",
   "id": "19eeda33",
   "metadata": {},
   "source": [
    "nombre_infected       990\n",
    "nombre_sain          2166\n",
    "nombre_exposed        522\n",
    "nombre_recovered    16322\n",
    "Name: 535, dtype: int64"
   ]
  },
  {
   "cell_type": "markdown",
   "id": "ca3abc6d",
   "metadata": {},
   "source": [
    "nombre_infected       987\n",
    "nombre_sain          2151\n",
    "nombre_exposed        539\n",
    "nombre_recovered    16323\n",
    "Name: 536, dtype: int64"
   ]
  },
  {
   "cell_type": "markdown",
   "id": "b004ec04",
   "metadata": {},
   "source": [
    "nombre_infected       983\n",
    "nombre_sain          2181\n",
    "nombre_exposed        538\n",
    "nombre_recovered    16298\n",
    "Name: 537, dtype: int64"
   ]
  },
  {
   "cell_type": "markdown",
   "id": "46e5930f",
   "metadata": {},
   "source": [
    "nombre_infected       967\n",
    "nombre_sain          2212\n",
    "nombre_exposed        522\n",
    "nombre_recovered    16299\n",
    "Name: 538, dtype: int64"
   ]
  },
  {
   "cell_type": "markdown",
   "id": "448224f2",
   "metadata": {},
   "source": [
    "nombre_infected       989\n",
    "nombre_sain          2245\n",
    "nombre_exposed        511\n",
    "nombre_recovered    16255\n",
    "Name: 539, dtype: int64"
   ]
  },
  {
   "cell_type": "markdown",
   "id": "98f99922",
   "metadata": {},
   "source": [
    "nombre_infected       977\n",
    "nombre_sain          2289\n",
    "nombre_exposed        511\n",
    "nombre_recovered    16223\n",
    "Name: 540, dtype: int64"
   ]
  },
  {
   "cell_type": "markdown",
   "id": "0ee26bea",
   "metadata": {},
   "source": [
    "nombre_infected       977\n",
    "nombre_sain          2297\n",
    "nombre_exposed        525\n",
    "nombre_recovered    16201\n",
    "Name: 541, dtype: int64"
   ]
  },
  {
   "cell_type": "markdown",
   "id": "ec556595",
   "metadata": {},
   "source": [
    "nombre_infected      1014\n",
    "nombre_sain          2293\n",
    "nombre_exposed        517\n",
    "nombre_recovered    16176\n",
    "Name: 542, dtype: int64"
   ]
  },
  {
   "cell_type": "markdown",
   "id": "8c2068b2",
   "metadata": {},
   "source": [
    "nombre_infected       987\n",
    "nombre_sain          2280\n",
    "nombre_exposed        531\n",
    "nombre_recovered    16202\n",
    "Name: 543, dtype: int64"
   ]
  },
  {
   "cell_type": "markdown",
   "id": "b84d738f",
   "metadata": {},
   "source": [
    "nombre_infected       978\n",
    "nombre_sain          2275\n",
    "nombre_exposed        540\n",
    "nombre_recovered    16207\n",
    "Name: 544, dtype: int64"
   ]
  },
  {
   "cell_type": "markdown",
   "id": "9559c072",
   "metadata": {},
   "source": [
    "nombre_infected       966\n",
    "nombre_sain          2279\n",
    "nombre_exposed        559\n",
    "nombre_recovered    16196\n",
    "Name: 545, dtype: int64"
   ]
  },
  {
   "cell_type": "markdown",
   "id": "36070de3",
   "metadata": {},
   "source": [
    "nombre_infected       988\n",
    "nombre_sain          2275\n",
    "nombre_exposed        527\n",
    "nombre_recovered    16210\n",
    "Name: 546, dtype: int64"
   ]
  },
  {
   "cell_type": "markdown",
   "id": "7c8343a1",
   "metadata": {},
   "source": [
    "nombre_infected       993\n",
    "nombre_sain          2261\n",
    "nombre_exposed        527\n",
    "nombre_recovered    16219\n",
    "Name: 547, dtype: int64"
   ]
  },
  {
   "cell_type": "markdown",
   "id": "45c6e17d",
   "metadata": {},
   "source": [
    "nombre_infected       990\n",
    "nombre_sain          2242\n",
    "nombre_exposed        557\n",
    "nombre_recovered    16211\n",
    "Name: 548, dtype: int64"
   ]
  },
  {
   "cell_type": "markdown",
   "id": "9b095b13",
   "metadata": {},
   "source": [
    "nombre_infected      1001\n",
    "nombre_sain          2276\n",
    "nombre_exposed        557\n",
    "nombre_recovered    16166\n",
    "Name: 549, dtype: int64"
   ]
  },
  {
   "cell_type": "markdown",
   "id": "ddeb57fd",
   "metadata": {},
   "source": [
    "nombre_infected       992\n",
    "nombre_sain          2290\n",
    "nombre_exposed        550\n",
    "nombre_recovered    16168\n",
    "Name: 550, dtype: int64"
   ]
  },
  {
   "cell_type": "markdown",
   "id": "55538b9e",
   "metadata": {},
   "source": [
    "nombre_infected      1010\n",
    "nombre_sain          2271\n",
    "nombre_exposed        569\n",
    "nombre_recovered    16150\n",
    "Name: 551, dtype: int64"
   ]
  },
  {
   "cell_type": "markdown",
   "id": "17268b8d",
   "metadata": {},
   "source": [
    "nombre_infected      1015\n",
    "nombre_sain          2273\n",
    "nombre_exposed        569\n",
    "nombre_recovered    16143\n",
    "Name: 552, dtype: int64"
   ]
  },
  {
   "cell_type": "markdown",
   "id": "fbe906cc",
   "metadata": {},
   "source": [
    "nombre_infected      1038\n",
    "nombre_sain          2272\n",
    "nombre_exposed        547\n",
    "nombre_recovered    16143\n",
    "Name: 553, dtype: int64"
   ]
  },
  {
   "cell_type": "markdown",
   "id": "6fe9e984",
   "metadata": {},
   "source": [
    "nombre_infected      1037\n",
    "nombre_sain          2277\n",
    "nombre_exposed        541\n",
    "nombre_recovered    16145\n",
    "Name: 554, dtype: int64"
   ]
  },
  {
   "cell_type": "markdown",
   "id": "119f8ff0",
   "metadata": {},
   "source": [
    "nombre_infected      1056\n",
    "nombre_sain          2278\n",
    "nombre_exposed        527\n",
    "nombre_recovered    16139\n",
    "Name: 555, dtype: int64"
   ]
  },
  {
   "cell_type": "markdown",
   "id": "fac28deb",
   "metadata": {},
   "source": [
    "nombre_infected      1058\n",
    "nombre_sain          2300\n",
    "nombre_exposed        538\n",
    "nombre_recovered    16104\n",
    "Name: 556, dtype: int64"
   ]
  },
  {
   "cell_type": "markdown",
   "id": "468a7231",
   "metadata": {},
   "source": [
    "nombre_infected      1045\n",
    "nombre_sain          2311\n",
    "nombre_exposed        569\n",
    "nombre_recovered    16075\n",
    "Name: 557, dtype: int64"
   ]
  },
  {
   "cell_type": "markdown",
   "id": "de17dfcd",
   "metadata": {},
   "source": [
    "nombre_infected      1055\n",
    "nombre_sain          2306\n",
    "nombre_exposed        559\n",
    "nombre_recovered    16080\n",
    "Name: 558, dtype: int64"
   ]
  },
  {
   "cell_type": "markdown",
   "id": "06664174",
   "metadata": {},
   "source": [
    "nombre_infected      1073\n",
    "nombre_sain          2292\n",
    "nombre_exposed        543\n",
    "nombre_recovered    16092\n",
    "Name: 559, dtype: int64"
   ]
  },
  {
   "cell_type": "markdown",
   "id": "b3a3c4ac",
   "metadata": {},
   "source": [
    "nombre_infected      1075\n",
    "nombre_sain          2274\n",
    "nombre_exposed        544\n",
    "nombre_recovered    16107\n",
    "Name: 560, dtype: int64"
   ]
  },
  {
   "cell_type": "markdown",
   "id": "6240b888",
   "metadata": {},
   "source": [
    "nombre_infected      1051\n",
    "nombre_sain          2262\n",
    "nombre_exposed        565\n",
    "nombre_recovered    16122\n",
    "Name: 561, dtype: int64"
   ]
  },
  {
   "cell_type": "markdown",
   "id": "0d4bdbf0",
   "metadata": {},
   "source": [
    "nombre_infected      1050\n",
    "nombre_sain          2244\n",
    "nombre_exposed        542\n",
    "nombre_recovered    16164\n",
    "Name: 562, dtype: int64"
   ]
  },
  {
   "cell_type": "markdown",
   "id": "0ed822f1",
   "metadata": {},
   "source": [
    "nombre_infected      1046\n",
    "nombre_sain          2248\n",
    "nombre_exposed        538\n",
    "nombre_recovered    16168\n",
    "Name: 563, dtype: int64"
   ]
  },
  {
   "cell_type": "markdown",
   "id": "05dd00f2",
   "metadata": {},
   "source": [
    "nombre_infected      1034\n",
    "nombre_sain          2260\n",
    "nombre_exposed        517\n",
    "nombre_recovered    16189\n",
    "Name: 564, dtype: int64"
   ]
  },
  {
   "cell_type": "markdown",
   "id": "f406b926",
   "metadata": {},
   "source": [
    "nombre_infected      1033\n",
    "nombre_sain          2261\n",
    "nombre_exposed        503\n",
    "nombre_recovered    16203\n",
    "Name: 565, dtype: int64"
   ]
  },
  {
   "cell_type": "markdown",
   "id": "db3a8895",
   "metadata": {},
   "source": [
    "nombre_infected      1018\n",
    "nombre_sain          2249\n",
    "nombre_exposed        492\n",
    "nombre_recovered    16241\n",
    "Name: 566, dtype: int64"
   ]
  },
  {
   "cell_type": "markdown",
   "id": "19a7f079",
   "metadata": {},
   "source": [
    "nombre_infected      1011\n",
    "nombre_sain          2237\n",
    "nombre_exposed        502\n",
    "nombre_recovered    16250\n",
    "Name: 567, dtype: int64"
   ]
  },
  {
   "cell_type": "markdown",
   "id": "522e3da3",
   "metadata": {},
   "source": [
    "nombre_infected       988\n",
    "nombre_sain          2241\n",
    "nombre_exposed        508\n",
    "nombre_recovered    16263\n",
    "Name: 568, dtype: int64"
   ]
  },
  {
   "cell_type": "markdown",
   "id": "61a42a10",
   "metadata": {},
   "source": [
    "nombre_infected       997\n",
    "nombre_sain          2230\n",
    "nombre_exposed        487\n",
    "nombre_recovered    16286\n",
    "Name: 569, dtype: int64"
   ]
  },
  {
   "cell_type": "markdown",
   "id": "d571ee83",
   "metadata": {},
   "source": [
    "nombre_infected       984\n",
    "nombre_sain          2251\n",
    "nombre_exposed        466\n",
    "nombre_recovered    16299\n",
    "Name: 570, dtype: int64"
   ]
  },
  {
   "cell_type": "markdown",
   "id": "909b4132",
   "metadata": {},
   "source": [
    "nombre_infected       985\n",
    "nombre_sain          2214\n",
    "nombre_exposed        466\n",
    "nombre_recovered    16335\n",
    "Name: 571, dtype: int64"
   ]
  },
  {
   "cell_type": "markdown",
   "id": "d8af2c2d",
   "metadata": {},
   "source": [
    "nombre_infected       977\n",
    "nombre_sain          2237\n",
    "nombre_exposed        468\n",
    "nombre_recovered    16318\n",
    "Name: 572, dtype: int64"
   ]
  },
  {
   "cell_type": "markdown",
   "id": "83d3d3e0",
   "metadata": {},
   "source": [
    "nombre_infected       969\n",
    "nombre_sain          2221\n",
    "nombre_exposed        488\n",
    "nombre_recovered    16322\n",
    "Name: 573, dtype: int64"
   ]
  },
  {
   "cell_type": "markdown",
   "id": "138c7f60",
   "metadata": {},
   "source": [
    "nombre_infected       957\n",
    "nombre_sain          2208\n",
    "nombre_exposed        507\n",
    "nombre_recovered    16328\n",
    "Name: 574, dtype: int64"
   ]
  },
  {
   "cell_type": "markdown",
   "id": "220f77e6",
   "metadata": {},
   "source": [
    "nombre_infected       956\n",
    "nombre_sain          2211\n",
    "nombre_exposed        495\n",
    "nombre_recovered    16338\n",
    "Name: 575, dtype: int64"
   ]
  },
  {
   "cell_type": "markdown",
   "id": "b6ebd510",
   "metadata": {},
   "source": [
    "nombre_infected       931\n",
    "nombre_sain          2209\n",
    "nombre_exposed        505\n",
    "nombre_recovered    16355\n",
    "Name: 576, dtype: int64"
   ]
  },
  {
   "cell_type": "markdown",
   "id": "0df1e345",
   "metadata": {},
   "source": [
    "nombre_infected       907\n",
    "nombre_sain          2229\n",
    "nombre_exposed        478\n",
    "nombre_recovered    16386\n",
    "Name: 577, dtype: int64"
   ]
  },
  {
   "cell_type": "markdown",
   "id": "5bab975a",
   "metadata": {},
   "source": [
    "nombre_infected       902\n",
    "nombre_sain          2231\n",
    "nombre_exposed        484\n",
    "nombre_recovered    16383\n",
    "Name: 578, dtype: int64"
   ]
  },
  {
   "cell_type": "markdown",
   "id": "fc4fc65e",
   "metadata": {},
   "source": [
    "nombre_infected       882\n",
    "nombre_sain          2275\n",
    "nombre_exposed        483\n",
    "nombre_recovered    16360\n",
    "Name: 579, dtype: int64"
   ]
  },
  {
   "cell_type": "markdown",
   "id": "d7efe98a",
   "metadata": {},
   "source": [
    "nombre_infected       902\n",
    "nombre_sain          2325\n",
    "nombre_exposed        450\n",
    "nombre_recovered    16323\n",
    "Name: 580, dtype: int64"
   ]
  },
  {
   "cell_type": "markdown",
   "id": "4d5c1898",
   "metadata": {},
   "source": [
    "nombre_infected       902\n",
    "nombre_sain          2306\n",
    "nombre_exposed        471\n",
    "nombre_recovered    16321\n",
    "Name: 581, dtype: int64"
   ]
  },
  {
   "cell_type": "markdown",
   "id": "493fba72",
   "metadata": {},
   "source": [
    "nombre_infected       886\n",
    "nombre_sain          2332\n",
    "nombre_exposed        471\n",
    "nombre_recovered    16311\n",
    "Name: 582, dtype: int64"
   ]
  },
  {
   "cell_type": "markdown",
   "id": "6a3c1806",
   "metadata": {},
   "source": [
    "nombre_infected       903\n",
    "nombre_sain          2332\n",
    "nombre_exposed        482\n",
    "nombre_recovered    16283\n",
    "Name: 583, dtype: int64"
   ]
  },
  {
   "cell_type": "markdown",
   "id": "086c0016",
   "metadata": {},
   "source": [
    "nombre_infected       904\n",
    "nombre_sain          2357\n",
    "nombre_exposed        478\n",
    "nombre_recovered    16261\n",
    "Name: 584, dtype: int64"
   ]
  },
  {
   "cell_type": "markdown",
   "id": "1a65a40c",
   "metadata": {},
   "source": [
    "nombre_infected       906\n",
    "nombre_sain          2344\n",
    "nombre_exposed        487\n",
    "nombre_recovered    16263\n",
    "Name: 585, dtype: int64"
   ]
  },
  {
   "cell_type": "markdown",
   "id": "f2f2fa34",
   "metadata": {},
   "source": [
    "nombre_infected       866\n",
    "nombre_sain          2349\n",
    "nombre_exposed        509\n",
    "nombre_recovered    16276\n",
    "Name: 586, dtype: int64"
   ]
  },
  {
   "cell_type": "markdown",
   "id": "d8ab8fa9",
   "metadata": {},
   "source": [
    "nombre_infected       870\n",
    "nombre_sain          2346\n",
    "nombre_exposed        494\n",
    "nombre_recovered    16290\n",
    "Name: 587, dtype: int64"
   ]
  },
  {
   "cell_type": "markdown",
   "id": "0b0c5031",
   "metadata": {},
   "source": [
    "nombre_infected       887\n",
    "nombre_sain          2349\n",
    "nombre_exposed        499\n",
    "nombre_recovered    16265\n",
    "Name: 588, dtype: int64"
   ]
  },
  {
   "cell_type": "markdown",
   "id": "7dd6d6fa",
   "metadata": {},
   "source": [
    "nombre_infected       880\n",
    "nombre_sain          2364\n",
    "nombre_exposed        500\n",
    "nombre_recovered    16256\n",
    "Name: 589, dtype: int64"
   ]
  },
  {
   "cell_type": "markdown",
   "id": "f3461ac0",
   "metadata": {},
   "source": [
    "nombre_infected       914\n",
    "nombre_sain          2356\n",
    "nombre_exposed        482\n",
    "nombre_recovered    16248\n",
    "Name: 590, dtype: int64"
   ]
  },
  {
   "cell_type": "markdown",
   "id": "9dce493a",
   "metadata": {},
   "source": [
    "nombre_infected       931\n",
    "nombre_sain          2366\n",
    "nombre_exposed        487\n",
    "nombre_recovered    16216\n",
    "Name: 591, dtype: int64"
   ]
  },
  {
   "cell_type": "markdown",
   "id": "4320bdb4",
   "metadata": {},
   "source": [
    "nombre_infected       914\n",
    "nombre_sain          2350\n",
    "nombre_exposed        500\n",
    "nombre_recovered    16236\n",
    "Name: 592, dtype: int64"
   ]
  },
  {
   "cell_type": "markdown",
   "id": "d012974f",
   "metadata": {},
   "source": [
    "nombre_infected       891\n",
    "nombre_sain          2350\n",
    "nombre_exposed        493\n",
    "nombre_recovered    16266\n",
    "Name: 593, dtype: int64"
   ]
  },
  {
   "cell_type": "markdown",
   "id": "f8ba3950",
   "metadata": {},
   "source": [
    "nombre_infected       886\n",
    "nombre_sain          2367\n",
    "nombre_exposed        473\n",
    "nombre_recovered    16274\n",
    "Name: 594, dtype: int64"
   ]
  },
  {
   "cell_type": "markdown",
   "id": "5dc1ef4e",
   "metadata": {},
   "source": [
    "nombre_infected       898\n",
    "nombre_sain          2344\n",
    "nombre_exposed        464\n",
    "nombre_recovered    16294\n",
    "Name: 595, dtype: int64"
   ]
  },
  {
   "cell_type": "markdown",
   "id": "cb15a44e",
   "metadata": {},
   "source": [
    "nombre_infected       867\n",
    "nombre_sain          2360\n",
    "nombre_exposed        474\n",
    "nombre_recovered    16299\n",
    "Name: 596, dtype: int64"
   ]
  },
  {
   "cell_type": "markdown",
   "id": "76482066",
   "metadata": {},
   "source": [
    "nombre_infected       869\n",
    "nombre_sain          2371\n",
    "nombre_exposed        471\n",
    "nombre_recovered    16289\n",
    "Name: 597, dtype: int64"
   ]
  },
  {
   "cell_type": "markdown",
   "id": "bb94d39e",
   "metadata": {},
   "source": [
    "nombre_infected       852\n",
    "nombre_sain          2372\n",
    "nombre_exposed        476\n",
    "nombre_recovered    16300\n",
    "Name: 598, dtype: int64"
   ]
  },
  {
   "cell_type": "markdown",
   "id": "8abb851e",
   "metadata": {},
   "source": [
    "nombre_infected       856\n",
    "nombre_sain          2402\n",
    "nombre_exposed        468\n",
    "nombre_recovered    16274\n",
    "Name: 599, dtype: int64"
   ]
  },
  {
   "cell_type": "markdown",
   "id": "0e39af7c",
   "metadata": {},
   "source": [
    "nombre_infected       866\n",
    "nombre_sain          2422\n",
    "nombre_exposed        443\n",
    "nombre_recovered    16269\n",
    "Name: 600, dtype: int64"
   ]
  },
  {
   "cell_type": "markdown",
   "id": "1f103223",
   "metadata": {},
   "source": [
    "nombre_infected       840\n",
    "nombre_sain          2397\n",
    "nombre_exposed        462\n",
    "nombre_recovered    16301\n",
    "Name: 601, dtype: int64"
   ]
  },
  {
   "cell_type": "markdown",
   "id": "dc36497c",
   "metadata": {},
   "source": [
    "nombre_infected       824\n",
    "nombre_sain          2404\n",
    "nombre_exposed        446\n",
    "nombre_recovered    16326\n",
    "Name: 602, dtype: int64"
   ]
  },
  {
   "cell_type": "markdown",
   "id": "164a21d8",
   "metadata": {},
   "source": [
    "nombre_infected       807\n",
    "nombre_sain          2406\n",
    "nombre_exposed        466\n",
    "nombre_recovered    16321\n",
    "Name: 603, dtype: int64"
   ]
  },
  {
   "cell_type": "markdown",
   "id": "1e424a6b",
   "metadata": {},
   "source": [
    "nombre_infected       801\n",
    "nombre_sain          2416\n",
    "nombre_exposed        476\n",
    "nombre_recovered    16307\n",
    "Name: 604, dtype: int64"
   ]
  },
  {
   "cell_type": "markdown",
   "id": "f8c13403",
   "metadata": {},
   "source": [
    "nombre_infected       814\n",
    "nombre_sain          2420\n",
    "nombre_exposed        487\n",
    "nombre_recovered    16279\n",
    "Name: 605, dtype: int64"
   ]
  },
  {
   "cell_type": "markdown",
   "id": "cf48f05a",
   "metadata": {},
   "source": [
    "nombre_infected       809\n",
    "nombre_sain          2418\n",
    "nombre_exposed        471\n",
    "nombre_recovered    16302\n",
    "Name: 606, dtype: int64"
   ]
  },
  {
   "cell_type": "markdown",
   "id": "f89e2d6c",
   "metadata": {},
   "source": [
    "nombre_infected       812\n",
    "nombre_sain          2420\n",
    "nombre_exposed        452\n",
    "nombre_recovered    16316\n",
    "Name: 607, dtype: int64"
   ]
  },
  {
   "cell_type": "markdown",
   "id": "611c3cb9",
   "metadata": {},
   "source": [
    "nombre_infected       805\n",
    "nombre_sain          2430\n",
    "nombre_exposed        462\n",
    "nombre_recovered    16303\n",
    "Name: 608, dtype: int64"
   ]
  },
  {
   "cell_type": "markdown",
   "id": "6a83350e",
   "metadata": {},
   "source": [
    "nombre_infected       775\n",
    "nombre_sain          2421\n",
    "nombre_exposed        469\n",
    "nombre_recovered    16335\n",
    "Name: 609, dtype: int64"
   ]
  },
  {
   "cell_type": "markdown",
   "id": "e924b2de",
   "metadata": {},
   "source": [
    "nombre_infected       788\n",
    "nombre_sain          2439\n",
    "nombre_exposed        458\n",
    "nombre_recovered    16315\n",
    "Name: 610, dtype: int64"
   ]
  },
  {
   "cell_type": "markdown",
   "id": "6391774a",
   "metadata": {},
   "source": [
    "nombre_infected       783\n",
    "nombre_sain          2428\n",
    "nombre_exposed        463\n",
    "nombre_recovered    16326\n",
    "Name: 611, dtype: int64"
   ]
  },
  {
   "cell_type": "markdown",
   "id": "3ff21287",
   "metadata": {},
   "source": [
    "nombre_infected       788\n",
    "nombre_sain          2439\n",
    "nombre_exposed        456\n",
    "nombre_recovered    16317\n",
    "Name: 612, dtype: int64"
   ]
  },
  {
   "cell_type": "markdown",
   "id": "1b0d3ac8",
   "metadata": {},
   "source": [
    "nombre_infected       787\n",
    "nombre_sain          2431\n",
    "nombre_exposed        476\n",
    "nombre_recovered    16306\n",
    "Name: 613, dtype: int64"
   ]
  },
  {
   "cell_type": "markdown",
   "id": "f90b7cf4",
   "metadata": {},
   "source": [
    "nombre_infected       786\n",
    "nombre_sain          2441\n",
    "nombre_exposed        470\n",
    "nombre_recovered    16303\n",
    "Name: 614, dtype: int64"
   ]
  },
  {
   "cell_type": "markdown",
   "id": "928c2a6a",
   "metadata": {},
   "source": [
    "nombre_infected       811\n",
    "nombre_sain          2439\n",
    "nombre_exposed        443\n",
    "nombre_recovered    16307\n",
    "Name: 615, dtype: int64"
   ]
  },
  {
   "cell_type": "markdown",
   "id": "3a4e3916",
   "metadata": {},
   "source": [
    "nombre_infected       832\n",
    "nombre_sain          2427\n",
    "nombre_exposed        446\n",
    "nombre_recovered    16295\n",
    "Name: 616, dtype: int64"
   ]
  },
  {
   "cell_type": "markdown",
   "id": "1d392a99",
   "metadata": {},
   "source": [
    "nombre_infected       824\n",
    "nombre_sain          2446\n",
    "nombre_exposed        433\n",
    "nombre_recovered    16297\n",
    "Name: 617, dtype: int64"
   ]
  },
  {
   "cell_type": "markdown",
   "id": "db294ae8",
   "metadata": {},
   "source": [
    "nombre_infected       820\n",
    "nombre_sain          2439\n",
    "nombre_exposed        441\n",
    "nombre_recovered    16300\n",
    "Name: 618, dtype: int64"
   ]
  },
  {
   "cell_type": "markdown",
   "id": "b1d36c86",
   "metadata": {},
   "source": [
    "nombre_infected       811\n",
    "nombre_sain          2447\n",
    "nombre_exposed        440\n",
    "nombre_recovered    16302\n",
    "Name: 619, dtype: int64"
   ]
  },
  {
   "cell_type": "markdown",
   "id": "a9b3de55",
   "metadata": {},
   "source": [
    "nombre_infected       815\n",
    "nombre_sain          2445\n",
    "nombre_exposed        425\n",
    "nombre_recovered    16315\n",
    "Name: 620, dtype: int64"
   ]
  },
  {
   "cell_type": "markdown",
   "id": "85b5c87f",
   "metadata": {},
   "source": [
    "nombre_infected       811\n",
    "nombre_sain          2447\n",
    "nombre_exposed        427\n",
    "nombre_recovered    16315\n",
    "Name: 621, dtype: int64"
   ]
  },
  {
   "cell_type": "markdown",
   "id": "bd5e175f",
   "metadata": {},
   "source": [
    "nombre_infected       790\n",
    "nombre_sain          2445\n",
    "nombre_exposed        439\n",
    "nombre_recovered    16326\n",
    "Name: 622, dtype: int64"
   ]
  },
  {
   "cell_type": "markdown",
   "id": "5c7ae60e",
   "metadata": {},
   "source": [
    "nombre_infected       802\n",
    "nombre_sain          2446\n",
    "nombre_exposed        417\n",
    "nombre_recovered    16335\n",
    "Name: 623, dtype: int64"
   ]
  },
  {
   "cell_type": "markdown",
   "id": "d0a3deb4",
   "metadata": {},
   "source": [
    "nombre_infected       773\n",
    "nombre_sain          2456\n",
    "nombre_exposed        439\n",
    "nombre_recovered    16332\n",
    "Name: 624, dtype: int64"
   ]
  },
  {
   "cell_type": "markdown",
   "id": "1f3b585b",
   "metadata": {},
   "source": [
    "nombre_infected       766\n",
    "nombre_sain          2447\n",
    "nombre_exposed        439\n",
    "nombre_recovered    16348\n",
    "Name: 625, dtype: int64"
   ]
  },
  {
   "cell_type": "markdown",
   "id": "1cb6ca6a",
   "metadata": {},
   "source": [
    "nombre_infected       775\n",
    "nombre_sain          2472\n",
    "nombre_exposed        433\n",
    "nombre_recovered    16320\n",
    "Name: 626, dtype: int64"
   ]
  },
  {
   "cell_type": "markdown",
   "id": "1f8a08f9",
   "metadata": {},
   "source": [
    "nombre_infected       778\n",
    "nombre_sain          2482\n",
    "nombre_exposed        413\n",
    "nombre_recovered    16327\n",
    "Name: 627, dtype: int64"
   ]
  },
  {
   "cell_type": "markdown",
   "id": "e4f14a2e",
   "metadata": {},
   "source": [
    "nombre_infected       769\n",
    "nombre_sain          2499\n",
    "nombre_exposed        416\n",
    "nombre_recovered    16316\n",
    "Name: 628, dtype: int64"
   ]
  },
  {
   "cell_type": "markdown",
   "id": "8585d934",
   "metadata": {},
   "source": [
    "nombre_infected       774\n",
    "nombre_sain          2492\n",
    "nombre_exposed        415\n",
    "nombre_recovered    16319\n",
    "Name: 629, dtype: int64"
   ]
  },
  {
   "cell_type": "markdown",
   "id": "88b95197",
   "metadata": {},
   "source": [
    "nombre_infected       779\n",
    "nombre_sain          2484\n",
    "nombre_exposed        427\n",
    "nombre_recovered    16310\n",
    "Name: 630, dtype: int64"
   ]
  },
  {
   "cell_type": "markdown",
   "id": "e14ca9a3",
   "metadata": {},
   "source": [
    "nombre_infected       756\n",
    "nombre_sain          2478\n",
    "nombre_exposed        463\n",
    "nombre_recovered    16303\n",
    "Name: 631, dtype: int64"
   ]
  },
  {
   "cell_type": "markdown",
   "id": "705fddc5",
   "metadata": {},
   "source": [
    "nombre_infected       743\n",
    "nombre_sain          2479\n",
    "nombre_exposed        477\n",
    "nombre_recovered    16301\n",
    "Name: 632, dtype: int64"
   ]
  },
  {
   "cell_type": "markdown",
   "id": "50bc592a",
   "metadata": {},
   "source": [
    "nombre_infected       751\n",
    "nombre_sain          2482\n",
    "nombre_exposed        489\n",
    "nombre_recovered    16278\n",
    "Name: 633, dtype: int64"
   ]
  },
  {
   "cell_type": "markdown",
   "id": "39a1ff95",
   "metadata": {},
   "source": [
    "nombre_infected       740\n",
    "nombre_sain          2499\n",
    "nombre_exposed        491\n",
    "nombre_recovered    16270\n",
    "Name: 634, dtype: int64"
   ]
  },
  {
   "cell_type": "markdown",
   "id": "0098df18",
   "metadata": {},
   "source": [
    "nombre_infected       768\n",
    "nombre_sain          2519\n",
    "nombre_exposed        460\n",
    "nombre_recovered    16253\n",
    "Name: 635, dtype: int64"
   ]
  },
  {
   "cell_type": "markdown",
   "id": "ad4b8219",
   "metadata": {},
   "source": [
    "nombre_infected       781\n",
    "nombre_sain          2502\n",
    "nombre_exposed        464\n",
    "nombre_recovered    16253\n",
    "Name: 636, dtype: int64"
   ]
  },
  {
   "cell_type": "markdown",
   "id": "ff0b2202",
   "metadata": {},
   "source": [
    "nombre_infected       803\n",
    "nombre_sain          2508\n",
    "nombre_exposed        467\n",
    "nombre_recovered    16222\n",
    "Name: 637, dtype: int64"
   ]
  },
  {
   "cell_type": "markdown",
   "id": "2385f5a6",
   "metadata": {},
   "source": [
    "nombre_infected       807\n",
    "nombre_sain          2524\n",
    "nombre_exposed        464\n",
    "nombre_recovered    16205\n",
    "Name: 638, dtype: int64"
   ]
  },
  {
   "cell_type": "markdown",
   "id": "ec68789e",
   "metadata": {},
   "source": [
    "nombre_infected       802\n",
    "nombre_sain          2546\n",
    "nombre_exposed        445\n",
    "nombre_recovered    16207\n",
    "Name: 639, dtype: int64"
   ]
  },
  {
   "cell_type": "markdown",
   "id": "f7cf3a33",
   "metadata": {},
   "source": [
    "nombre_infected       791\n",
    "nombre_sain          2529\n",
    "nombre_exposed        469\n",
    "nombre_recovered    16211\n",
    "Name: 640, dtype: int64"
   ]
  },
  {
   "cell_type": "markdown",
   "id": "9aee92c3",
   "metadata": {},
   "source": [
    "nombre_infected       795\n",
    "nombre_sain          2534\n",
    "nombre_exposed        487\n",
    "nombre_recovered    16184\n",
    "Name: 641, dtype: int64"
   ]
  },
  {
   "cell_type": "markdown",
   "id": "8d0a0a59",
   "metadata": {},
   "source": [
    "nombre_infected       779\n",
    "nombre_sain          2526\n",
    "nombre_exposed        498\n",
    "nombre_recovered    16197\n",
    "Name: 642, dtype: int64"
   ]
  },
  {
   "cell_type": "markdown",
   "id": "e52c5cd9",
   "metadata": {},
   "source": [
    "nombre_infected       793\n",
    "nombre_sain          2509\n",
    "nombre_exposed        488\n",
    "nombre_recovered    16210\n",
    "Name: 643, dtype: int64"
   ]
  },
  {
   "cell_type": "markdown",
   "id": "1df54e0c",
   "metadata": {},
   "source": [
    "nombre_infected       797\n",
    "nombre_sain          2503\n",
    "nombre_exposed        491\n",
    "nombre_recovered    16209\n",
    "Name: 644, dtype: int64"
   ]
  },
  {
   "cell_type": "markdown",
   "id": "06163a2a",
   "metadata": {},
   "source": [
    "nombre_infected       788\n",
    "nombre_sain          2487\n",
    "nombre_exposed        503\n",
    "nombre_recovered    16222\n",
    "Name: 645, dtype: int64"
   ]
  },
  {
   "cell_type": "markdown",
   "id": "1f1f2bf6",
   "metadata": {},
   "source": [
    "nombre_infected       796\n",
    "nombre_sain          2462\n",
    "nombre_exposed        514\n",
    "nombre_recovered    16228\n",
    "Name: 646, dtype: int64"
   ]
  },
  {
   "cell_type": "markdown",
   "id": "9c830cab",
   "metadata": {},
   "source": [
    "nombre_infected       799\n",
    "nombre_sain          2457\n",
    "nombre_exposed        523\n",
    "nombre_recovered    16221\n",
    "Name: 647, dtype: int64"
   ]
  },
  {
   "cell_type": "markdown",
   "id": "0e8bc2be",
   "metadata": {},
   "source": [
    "nombre_infected       802\n",
    "nombre_sain          2468\n",
    "nombre_exposed        516\n",
    "nombre_recovered    16214\n",
    "Name: 648, dtype: int64"
   ]
  },
  {
   "cell_type": "markdown",
   "id": "fec14fd0",
   "metadata": {},
   "source": [
    "nombre_infected       796\n",
    "nombre_sain          2447\n",
    "nombre_exposed        539\n",
    "nombre_recovered    16218\n",
    "Name: 649, dtype: int64"
   ]
  },
  {
   "cell_type": "markdown",
   "id": "c5126b88",
   "metadata": {},
   "source": [
    "nombre_infected       824\n",
    "nombre_sain          2436\n",
    "nombre_exposed        517\n",
    "nombre_recovered    16223\n",
    "Name: 650, dtype: int64"
   ]
  },
  {
   "cell_type": "markdown",
   "id": "2d29b81a",
   "metadata": {},
   "source": [
    "nombre_infected       827\n",
    "nombre_sain          2425\n",
    "nombre_exposed        521\n",
    "nombre_recovered    16227\n",
    "Name: 651, dtype: int64"
   ]
  },
  {
   "cell_type": "markdown",
   "id": "3d4b5957",
   "metadata": {},
   "source": [
    "nombre_infected       845\n",
    "nombre_sain          2393\n",
    "nombre_exposed        525\n",
    "nombre_recovered    16237\n",
    "Name: 652, dtype: int64"
   ]
  },
  {
   "cell_type": "markdown",
   "id": "553dd2be",
   "metadata": {},
   "source": [
    "nombre_infected       850\n",
    "nombre_sain          2405\n",
    "nombre_exposed        496\n",
    "nombre_recovered    16249\n",
    "Name: 653, dtype: int64"
   ]
  },
  {
   "cell_type": "markdown",
   "id": "d423a84e",
   "metadata": {},
   "source": [
    "nombre_infected       877\n",
    "nombre_sain          2387\n",
    "nombre_exposed        490\n",
    "nombre_recovered    16246\n",
    "Name: 654, dtype: int64"
   ]
  },
  {
   "cell_type": "markdown",
   "id": "4d02e0c9",
   "metadata": {},
   "source": [
    "nombre_infected       876\n",
    "nombre_sain          2382\n",
    "nombre_exposed        480\n",
    "nombre_recovered    16262\n",
    "Name: 655, dtype: int64"
   ]
  },
  {
   "cell_type": "markdown",
   "id": "1ee10f53",
   "metadata": {},
   "source": [
    "nombre_infected       838\n",
    "nombre_sain          2366\n",
    "nombre_exposed        494\n",
    "nombre_recovered    16302\n",
    "Name: 656, dtype: int64"
   ]
  },
  {
   "cell_type": "markdown",
   "id": "911ff025",
   "metadata": {},
   "source": [
    "nombre_infected       830\n",
    "nombre_sain          2345\n",
    "nombre_exposed        485\n",
    "nombre_recovered    16340\n",
    "Name: 657, dtype: int64"
   ]
  },
  {
   "cell_type": "markdown",
   "id": "dbe8b874",
   "metadata": {},
   "source": [
    "nombre_infected       819\n",
    "nombre_sain          2333\n",
    "nombre_exposed        494\n",
    "nombre_recovered    16354\n",
    "Name: 658, dtype: int64"
   ]
  },
  {
   "cell_type": "markdown",
   "id": "7f772465",
   "metadata": {},
   "source": [
    "nombre_infected       814\n",
    "nombre_sain          2358\n",
    "nombre_exposed        457\n",
    "nombre_recovered    16371\n",
    "Name: 659, dtype: int64"
   ]
  },
  {
   "cell_type": "markdown",
   "id": "c8557341",
   "metadata": {},
   "source": [
    "nombre_infected       806\n",
    "nombre_sain          2361\n",
    "nombre_exposed        458\n",
    "nombre_recovered    16375\n",
    "Name: 660, dtype: int64"
   ]
  },
  {
   "cell_type": "markdown",
   "id": "e2bcc81a",
   "metadata": {},
   "source": [
    "nombre_infected       808\n",
    "nombre_sain          2374\n",
    "nombre_exposed        437\n",
    "nombre_recovered    16381\n",
    "Name: 661, dtype: int64"
   ]
  },
  {
   "cell_type": "markdown",
   "id": "cccce66a",
   "metadata": {},
   "source": [
    "nombre_infected       816\n",
    "nombre_sain          2353\n",
    "nombre_exposed        455\n",
    "nombre_recovered    16376\n",
    "Name: 662, dtype: int64"
   ]
  },
  {
   "cell_type": "markdown",
   "id": "d3f73938",
   "metadata": {},
   "source": [
    "nombre_infected       796\n",
    "nombre_sain          2343\n",
    "nombre_exposed        470\n",
    "nombre_recovered    16391\n",
    "Name: 663, dtype: int64"
   ]
  },
  {
   "cell_type": "markdown",
   "id": "15fd3110",
   "metadata": {},
   "source": [
    "nombre_infected       789\n",
    "nombre_sain          2346\n",
    "nombre_exposed        489\n",
    "nombre_recovered    16376\n",
    "Name: 664, dtype: int64"
   ]
  },
  {
   "cell_type": "markdown",
   "id": "4a83bdb1",
   "metadata": {},
   "source": [
    "nombre_infected       782\n",
    "nombre_sain          2389\n",
    "nombre_exposed        464\n",
    "nombre_recovered    16365\n",
    "Name: 665, dtype: int64"
   ]
  },
  {
   "cell_type": "markdown",
   "id": "04624e1c",
   "metadata": {},
   "source": [
    "nombre_infected       796\n",
    "nombre_sain          2398\n",
    "nombre_exposed        467\n",
    "nombre_recovered    16339\n",
    "Name: 666, dtype: int64"
   ]
  },
  {
   "cell_type": "markdown",
   "id": "3163df20",
   "metadata": {},
   "source": [
    "nombre_infected       784\n",
    "nombre_sain          2423\n",
    "nombre_exposed        452\n",
    "nombre_recovered    16341\n",
    "Name: 667, dtype: int64"
   ]
  },
  {
   "cell_type": "markdown",
   "id": "58c88c5c",
   "metadata": {},
   "source": [
    "nombre_infected       800\n",
    "nombre_sain          2448\n",
    "nombre_exposed        438\n",
    "nombre_recovered    16314\n",
    "Name: 668, dtype: int64"
   ]
  },
  {
   "cell_type": "markdown",
   "id": "a16b94f4",
   "metadata": {},
   "source": [
    "nombre_infected       776\n",
    "nombre_sain          2474\n",
    "nombre_exposed        451\n",
    "nombre_recovered    16299\n",
    "Name: 669, dtype: int64"
   ]
  },
  {
   "cell_type": "markdown",
   "id": "bd7a6493",
   "metadata": {},
   "source": [
    "nombre_infected       773\n",
    "nombre_sain          2490\n",
    "nombre_exposed        446\n",
    "nombre_recovered    16291\n",
    "Name: 670, dtype: int64"
   ]
  },
  {
   "cell_type": "markdown",
   "id": "0e645b09",
   "metadata": {},
   "source": [
    "nombre_infected       804\n",
    "nombre_sain          2511\n",
    "nombre_exposed        432\n",
    "nombre_recovered    16253\n",
    "Name: 671, dtype: int64"
   ]
  },
  {
   "cell_type": "markdown",
   "id": "3c814e8b",
   "metadata": {},
   "source": [
    "nombre_infected       779\n",
    "nombre_sain          2513\n",
    "nombre_exposed        464\n",
    "nombre_recovered    16244\n",
    "Name: 672, dtype: int64"
   ]
  },
  {
   "cell_type": "markdown",
   "id": "fcd5e475",
   "metadata": {},
   "source": [
    "nombre_infected       764\n",
    "nombre_sain          2554\n",
    "nombre_exposed        459\n",
    "nombre_recovered    16223\n",
    "Name: 673, dtype: int64"
   ]
  },
  {
   "cell_type": "markdown",
   "id": "6e30df53",
   "metadata": {},
   "source": [
    "nombre_infected       772\n",
    "nombre_sain          2579\n",
    "nombre_exposed        438\n",
    "nombre_recovered    16211\n",
    "Name: 674, dtype: int64"
   ]
  },
  {
   "cell_type": "markdown",
   "id": "7c123693",
   "metadata": {},
   "source": [
    "nombre_infected       787\n",
    "nombre_sain          2601\n",
    "nombre_exposed        448\n",
    "nombre_recovered    16164\n",
    "Name: 675, dtype: int64"
   ]
  },
  {
   "cell_type": "markdown",
   "id": "bbde61bc",
   "metadata": {},
   "source": [
    "nombre_infected       775\n",
    "nombre_sain          2593\n",
    "nombre_exposed        478\n",
    "nombre_recovered    16154\n",
    "Name: 676, dtype: int64"
   ]
  },
  {
   "cell_type": "markdown",
   "id": "3102e0b1",
   "metadata": {},
   "source": [
    "nombre_infected       769\n",
    "nombre_sain          2598\n",
    "nombre_exposed        481\n",
    "nombre_recovered    16152\n",
    "Name: 677, dtype: int64"
   ]
  },
  {
   "cell_type": "markdown",
   "id": "fe42da8a",
   "metadata": {},
   "source": [
    "nombre_infected       784\n",
    "nombre_sain          2630\n",
    "nombre_exposed        469\n",
    "nombre_recovered    16117\n",
    "Name: 678, dtype: int64"
   ]
  },
  {
   "cell_type": "markdown",
   "id": "d1b341fd",
   "metadata": {},
   "source": [
    "nombre_infected       789\n",
    "nombre_sain          2606\n",
    "nombre_exposed        496\n",
    "nombre_recovered    16109\n",
    "Name: 679, dtype: int64"
   ]
  },
  {
   "cell_type": "markdown",
   "id": "591b83a9",
   "metadata": {},
   "source": [
    "nombre_infected       790\n",
    "nombre_sain          2630\n",
    "nombre_exposed        494\n",
    "nombre_recovered    16086\n",
    "Name: 680, dtype: int64"
   ]
  },
  {
   "cell_type": "markdown",
   "id": "9f9e3925",
   "metadata": {},
   "source": [
    "nombre_infected       833\n",
    "nombre_sain          2620\n",
    "nombre_exposed        481\n",
    "nombre_recovered    16066\n",
    "Name: 681, dtype: int64"
   ]
  },
  {
   "cell_type": "markdown",
   "id": "192665d2",
   "metadata": {},
   "source": [
    "nombre_infected       842\n",
    "nombre_sain          2605\n",
    "nombre_exposed        492\n",
    "nombre_recovered    16061\n",
    "Name: 682, dtype: int64"
   ]
  },
  {
   "cell_type": "markdown",
   "id": "c19f3abc",
   "metadata": {},
   "source": [
    "nombre_infected       850\n",
    "nombre_sain          2568\n",
    "nombre_exposed        506\n",
    "nombre_recovered    16076\n",
    "Name: 683, dtype: int64"
   ]
  },
  {
   "cell_type": "markdown",
   "id": "5bf27fee",
   "metadata": {},
   "source": [
    "nombre_infected       842\n",
    "nombre_sain          2555\n",
    "nombre_exposed        535\n",
    "nombre_recovered    16068\n",
    "Name: 684, dtype: int64"
   ]
  },
  {
   "cell_type": "markdown",
   "id": "94723370",
   "metadata": {},
   "source": [
    "nombre_infected       857\n",
    "nombre_sain          2525\n",
    "nombre_exposed        551\n",
    "nombre_recovered    16067\n",
    "Name: 685, dtype: int64"
   ]
  },
  {
   "cell_type": "markdown",
   "id": "eb7f73f0",
   "metadata": {},
   "source": [
    "nombre_infected       849\n",
    "nombre_sain          2517\n",
    "nombre_exposed        554\n",
    "nombre_recovered    16080\n",
    "Name: 686, dtype: int64"
   ]
  },
  {
   "cell_type": "markdown",
   "id": "22a1dae0",
   "metadata": {},
   "source": [
    "nombre_infected       881\n",
    "nombre_sain          2511\n",
    "nombre_exposed        532\n",
    "nombre_recovered    16076\n",
    "Name: 687, dtype: int64"
   ]
  },
  {
   "cell_type": "markdown",
   "id": "52530550",
   "metadata": {},
   "source": [
    "nombre_infected       885\n",
    "nombre_sain          2513\n",
    "nombre_exposed        527\n",
    "nombre_recovered    16075\n",
    "Name: 688, dtype: int64"
   ]
  },
  {
   "cell_type": "markdown",
   "id": "24574dc4",
   "metadata": {},
   "source": [
    "nombre_infected       903\n",
    "nombre_sain          2475\n",
    "nombre_exposed        509\n",
    "nombre_recovered    16113\n",
    "Name: 689, dtype: int64"
   ]
  },
  {
   "cell_type": "markdown",
   "id": "3c0e504c",
   "metadata": {},
   "source": [
    "nombre_infected       921\n",
    "nombre_sain          2459\n",
    "nombre_exposed        512\n",
    "nombre_recovered    16108\n",
    "Name: 690, dtype: int64"
   ]
  },
  {
   "cell_type": "markdown",
   "id": "d252cf2c",
   "metadata": {},
   "source": [
    "nombre_infected       919\n",
    "nombre_sain          2450\n",
    "nombre_exposed        517\n",
    "nombre_recovered    16114\n",
    "Name: 691, dtype: int64"
   ]
  },
  {
   "cell_type": "markdown",
   "id": "d9529d98",
   "metadata": {},
   "source": [
    "nombre_infected       922\n",
    "nombre_sain          2439\n",
    "nombre_exposed        507\n",
    "nombre_recovered    16132\n",
    "Name: 692, dtype: int64"
   ]
  },
  {
   "cell_type": "markdown",
   "id": "6375e48e",
   "metadata": {},
   "source": [
    "nombre_infected       916\n",
    "nombre_sain          2402\n",
    "nombre_exposed        527\n",
    "nombre_recovered    16155\n",
    "Name: 693, dtype: int64"
   ]
  },
  {
   "cell_type": "markdown",
   "id": "7cbc9be1",
   "metadata": {},
   "source": [
    "nombre_infected       918\n",
    "nombre_sain          2386\n",
    "nombre_exposed        519\n",
    "nombre_recovered    16177\n",
    "Name: 694, dtype: int64"
   ]
  },
  {
   "cell_type": "markdown",
   "id": "dc0ea30d",
   "metadata": {},
   "source": [
    "nombre_infected       950\n",
    "nombre_sain          2364\n",
    "nombre_exposed        475\n",
    "nombre_recovered    16211\n",
    "Name: 695, dtype: int64"
   ]
  },
  {
   "cell_type": "markdown",
   "id": "e15e97b3",
   "metadata": {},
   "source": [
    "nombre_infected       956\n",
    "nombre_sain          2345\n",
    "nombre_exposed        467\n",
    "nombre_recovered    16232\n",
    "Name: 696, dtype: int64"
   ]
  },
  {
   "cell_type": "markdown",
   "id": "69637cde",
   "metadata": {},
   "source": [
    "nombre_infected       913\n",
    "nombre_sain          2328\n",
    "nombre_exposed        475\n",
    "nombre_recovered    16284\n",
    "Name: 697, dtype: int64"
   ]
  },
  {
   "cell_type": "markdown",
   "id": "feacd7cd",
   "metadata": {},
   "source": [
    "nombre_infected       895\n",
    "nombre_sain          2321\n",
    "nombre_exposed        490\n",
    "nombre_recovered    16294\n",
    "Name: 698, dtype: int64"
   ]
  },
  {
   "cell_type": "markdown",
   "id": "4327a2a3",
   "metadata": {},
   "source": [
    "nombre_infected       875\n",
    "nombre_sain          2325\n",
    "nombre_exposed        500\n",
    "nombre_recovered    16300\n",
    "Name: 699, dtype: int64"
   ]
  },
  {
   "cell_type": "markdown",
   "id": "b84a3d84",
   "metadata": {},
   "source": [
    "nombre_infected       885\n",
    "nombre_sain          2301\n",
    "nombre_exposed        483\n",
    "nombre_recovered    16331\n",
    "Name: 700, dtype: int64"
   ]
  },
  {
   "cell_type": "markdown",
   "id": "dd7d8e70",
   "metadata": {},
   "source": [
    "nombre_infected       866\n",
    "nombre_sain          2306\n",
    "nombre_exposed        500\n",
    "nombre_recovered    16328\n",
    "Name: 701, dtype: int64"
   ]
  },
  {
   "cell_type": "markdown",
   "id": "6c3707da",
   "metadata": {},
   "source": [
    "nombre_infected       869\n",
    "nombre_sain          2305\n",
    "nombre_exposed        493\n",
    "nombre_recovered    16333\n",
    "Name: 702, dtype: int64"
   ]
  },
  {
   "cell_type": "markdown",
   "id": "4ec3c3d9",
   "metadata": {},
   "source": [
    "nombre_infected       866\n",
    "nombre_sain          2299\n",
    "nombre_exposed        500\n",
    "nombre_recovered    16335\n",
    "Name: 703, dtype: int64"
   ]
  },
  {
   "cell_type": "markdown",
   "id": "f85b8252",
   "metadata": {},
   "source": [
    "nombre_infected       848\n",
    "nombre_sain          2319\n",
    "nombre_exposed        495\n",
    "nombre_recovered    16338\n",
    "Name: 704, dtype: int64"
   ]
  },
  {
   "cell_type": "markdown",
   "id": "a7b81e33",
   "metadata": {},
   "source": [
    "nombre_infected       858\n",
    "nombre_sain          2327\n",
    "nombre_exposed        485\n",
    "nombre_recovered    16330\n",
    "Name: 705, dtype: int64"
   ]
  },
  {
   "cell_type": "markdown",
   "id": "6235e95c",
   "metadata": {},
   "source": [
    "nombre_infected       874\n",
    "nombre_sain          2361\n",
    "nombre_exposed        469\n",
    "nombre_recovered    16296\n",
    "Name: 706, dtype: int64"
   ]
  },
  {
   "cell_type": "markdown",
   "id": "e9cb0b6f",
   "metadata": {},
   "source": [
    "nombre_infected       860\n",
    "nombre_sain          2386\n",
    "nombre_exposed        460\n",
    "nombre_recovered    16294\n",
    "Name: 707, dtype: int64"
   ]
  },
  {
   "cell_type": "markdown",
   "id": "8c04b9f8",
   "metadata": {},
   "source": [
    "nombre_infected       866\n",
    "nombre_sain          2374\n",
    "nombre_exposed        465\n",
    "nombre_recovered    16295\n",
    "Name: 708, dtype: int64"
   ]
  },
  {
   "cell_type": "markdown",
   "id": "67ca5889",
   "metadata": {},
   "source": [
    "nombre_infected       861\n",
    "nombre_sain          2400\n",
    "nombre_exposed        474\n",
    "nombre_recovered    16265\n",
    "Name: 709, dtype: int64"
   ]
  },
  {
   "cell_type": "markdown",
   "id": "e60743b7",
   "metadata": {},
   "source": [
    "nombre_infected       845\n",
    "nombre_sain          2442\n",
    "nombre_exposed        444\n",
    "nombre_recovered    16269\n",
    "Name: 710, dtype: int64"
   ]
  },
  {
   "cell_type": "markdown",
   "id": "44bc57d0",
   "metadata": {},
   "source": [
    "nombre_infected       819\n",
    "nombre_sain          2481\n",
    "nombre_exposed        447\n",
    "nombre_recovered    16253\n",
    "Name: 711, dtype: int64"
   ]
  },
  {
   "cell_type": "markdown",
   "id": "b0c49946",
   "metadata": {},
   "source": [
    "nombre_infected       791\n",
    "nombre_sain          2463\n",
    "nombre_exposed        454\n",
    "nombre_recovered    16292\n",
    "Name: 712, dtype: int64"
   ]
  },
  {
   "cell_type": "markdown",
   "id": "bd487494",
   "metadata": {},
   "source": [
    "nombre_infected       787\n",
    "nombre_sain          2500\n",
    "nombre_exposed        443\n",
    "nombre_recovered    16270\n",
    "Name: 713, dtype: int64"
   ]
  },
  {
   "cell_type": "markdown",
   "id": "b17ff839",
   "metadata": {},
   "source": [
    "nombre_infected       784\n",
    "nombre_sain          2513\n",
    "nombre_exposed        464\n",
    "nombre_recovered    16239\n",
    "Name: 714, dtype: int64"
   ]
  },
  {
   "cell_type": "markdown",
   "id": "ad44d4e4",
   "metadata": {},
   "source": [
    "nombre_infected       770\n",
    "nombre_sain          2516\n",
    "nombre_exposed        486\n",
    "nombre_recovered    16228\n",
    "Name: 715, dtype: int64"
   ]
  },
  {
   "cell_type": "markdown",
   "id": "cda5152d",
   "metadata": {},
   "source": [
    "nombre_infected       777\n",
    "nombre_sain          2541\n",
    "nombre_exposed        458\n",
    "nombre_recovered    16224\n",
    "Name: 716, dtype: int64"
   ]
  },
  {
   "cell_type": "markdown",
   "id": "1a4b3617",
   "metadata": {},
   "source": [
    "nombre_infected       789\n",
    "nombre_sain          2551\n",
    "nombre_exposed        451\n",
    "nombre_recovered    16209\n",
    "Name: 717, dtype: int64"
   ]
  },
  {
   "cell_type": "markdown",
   "id": "fd5c9e0b",
   "metadata": {},
   "source": [
    "nombre_infected       788\n",
    "nombre_sain          2543\n",
    "nombre_exposed        470\n",
    "nombre_recovered    16199\n",
    "Name: 718, dtype: int64"
   ]
  },
  {
   "cell_type": "markdown",
   "id": "9eacdd33",
   "metadata": {},
   "source": [
    "nombre_infected       800\n",
    "nombre_sain          2529\n",
    "nombre_exposed        495\n",
    "nombre_recovered    16176\n",
    "Name: 719, dtype: int64"
   ]
  },
  {
   "cell_type": "markdown",
   "id": "aae6aec0",
   "metadata": {},
   "source": [
    "nombre_infected       799\n",
    "nombre_sain          2551\n",
    "nombre_exposed        508\n",
    "nombre_recovered    16142\n",
    "Name: 720, dtype: int64"
   ]
  },
  {
   "cell_type": "markdown",
   "id": "51999acc",
   "metadata": {},
   "source": [
    "nombre_infected       818\n",
    "nombre_sain          2567\n",
    "nombre_exposed        497\n",
    "nombre_recovered    16118\n",
    "Name: 721, dtype: int64"
   ]
  },
  {
   "cell_type": "markdown",
   "id": "0389c616",
   "metadata": {},
   "source": [
    "nombre_infected       824\n",
    "nombre_sain          2575\n",
    "nombre_exposed        500\n",
    "nombre_recovered    16101\n",
    "Name: 722, dtype: int64"
   ]
  },
  {
   "cell_type": "markdown",
   "id": "dddbfc49",
   "metadata": {},
   "source": [
    "nombre_infected       849\n",
    "nombre_sain          2569\n",
    "nombre_exposed        505\n",
    "nombre_recovered    16077\n",
    "Name: 723, dtype: int64"
   ]
  },
  {
   "cell_type": "markdown",
   "id": "93a6a43e",
   "metadata": {},
   "source": [
    "nombre_infected       843\n",
    "nombre_sain          2558\n",
    "nombre_exposed        535\n",
    "nombre_recovered    16064\n",
    "Name: 724, dtype: int64"
   ]
  },
  {
   "cell_type": "markdown",
   "id": "763852c1",
   "metadata": {},
   "source": [
    "nombre_infected       867\n",
    "nombre_sain          2555\n",
    "nombre_exposed        532\n",
    "nombre_recovered    16046\n",
    "Name: 725, dtype: int64"
   ]
  },
  {
   "cell_type": "markdown",
   "id": "12ffcd7f",
   "metadata": {},
   "source": [
    "nombre_infected       869\n",
    "nombre_sain          2589\n",
    "nombre_exposed        518\n",
    "nombre_recovered    16024\n",
    "Name: 726, dtype: int64"
   ]
  },
  {
   "cell_type": "markdown",
   "id": "59f837a9",
   "metadata": {},
   "source": [
    "nombre_infected       907\n",
    "nombre_sain          2612\n",
    "nombre_exposed        492\n",
    "nombre_recovered    15989\n",
    "Name: 727, dtype: int64"
   ]
  },
  {
   "cell_type": "markdown",
   "id": "83344d12",
   "metadata": {},
   "source": [
    "nombre_infected       884\n",
    "nombre_sain          2613\n",
    "nombre_exposed        520\n",
    "nombre_recovered    15983\n",
    "Name: 728, dtype: int64"
   ]
  },
  {
   "cell_type": "markdown",
   "id": "73f7747e",
   "metadata": {},
   "source": [
    "nombre_infected       877\n",
    "nombre_sain          2616\n",
    "nombre_exposed        527\n",
    "nombre_recovered    15980\n",
    "Name: 729, dtype: int64"
   ]
  },
  {
   "cell_type": "markdown",
   "id": "89505233",
   "metadata": {},
   "source": [
    "nombre_infected       880\n",
    "nombre_sain          2640\n",
    "nombre_exposed        536\n",
    "nombre_recovered    15944\n",
    "Name: 730, dtype: int64"
   ]
  }
 ],
 "metadata": {},
 "nbformat": 4,
 "nbformat_minor": 5
}
