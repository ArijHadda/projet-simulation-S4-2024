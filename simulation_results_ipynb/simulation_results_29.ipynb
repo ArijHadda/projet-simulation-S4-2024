{
 "cells": [
  {
   "cell_type": "markdown",
   "id": "af3764a5",
   "metadata": {},
   "source": [
    "nombre_infected        20\n",
    "nombre_sain         19980\n",
    "nombre_exposed          0\n",
    "nombre_recovered        0\n",
    "Name: 0, dtype: int64"
   ]
  },
  {
   "cell_type": "markdown",
   "id": "3a420c41",
   "metadata": {},
   "source": [
    "nombre_infected        20\n",
    "nombre_sain         19963\n",
    "nombre_exposed         17\n",
    "nombre_recovered        0\n",
    "Name: 1, dtype: int64"
   ]
  },
  {
   "cell_type": "markdown",
   "id": "82a26854",
   "metadata": {},
   "source": [
    "nombre_infected         8\n",
    "nombre_sain         19944\n",
    "nombre_exposed         36\n",
    "nombre_recovered       12\n",
    "Name: 2, dtype: int64"
   ]
  },
  {
   "cell_type": "markdown",
   "id": "e77c9d71",
   "metadata": {},
   "source": [
    "nombre_infected        10\n",
    "nombre_sain         19929\n",
    "nombre_exposed         49\n",
    "nombre_recovered       12\n",
    "Name: 3, dtype: int64"
   ]
  },
  {
   "cell_type": "markdown",
   "id": "debde327",
   "metadata": {},
   "source": [
    "nombre_infected        18\n",
    "nombre_sain         19916\n",
    "nombre_exposed         54\n",
    "nombre_recovered       12\n",
    "Name: 4, dtype: int64"
   ]
  },
  {
   "cell_type": "markdown",
   "id": "f29168d4",
   "metadata": {},
   "source": [
    "nombre_infected        24\n",
    "nombre_sain         19880\n",
    "nombre_exposed         76\n",
    "nombre_recovered       20\n",
    "Name: 5, dtype: int64"
   ]
  },
  {
   "cell_type": "markdown",
   "id": "20f807d9",
   "metadata": {},
   "source": [
    "nombre_infected        31\n",
    "nombre_sain         19840\n",
    "nombre_exposed        107\n",
    "nombre_recovered       22\n",
    "Name: 6, dtype: int64"
   ]
  },
  {
   "cell_type": "markdown",
   "id": "c0f36f27",
   "metadata": {},
   "source": [
    "nombre_infected        44\n",
    "nombre_sain         19798\n",
    "nombre_exposed        132\n",
    "nombre_recovered       26\n",
    "Name: 7, dtype: int64"
   ]
  },
  {
   "cell_type": "markdown",
   "id": "efa05b74",
   "metadata": {},
   "source": [
    "nombre_infected        69\n",
    "nombre_sain         19721\n",
    "nombre_exposed        177\n",
    "nombre_recovered       33\n",
    "Name: 8, dtype: int64"
   ]
  },
  {
   "cell_type": "markdown",
   "id": "f233175f",
   "metadata": {},
   "source": [
    "nombre_infected        97\n",
    "nombre_sain         19622\n",
    "nombre_exposed        245\n",
    "nombre_recovered       36\n",
    "Name: 9, dtype: int64"
   ]
  },
  {
   "cell_type": "markdown",
   "id": "88cc0713",
   "metadata": {},
   "source": [
    "nombre_infected       134\n",
    "nombre_sain         19483\n",
    "nombre_exposed        342\n",
    "nombre_recovered       41\n",
    "Name: 10, dtype: int64"
   ]
  },
  {
   "cell_type": "markdown",
   "id": "f7a0ae0f",
   "metadata": {},
   "source": [
    "nombre_infected       175\n",
    "nombre_sain         19292\n",
    "nombre_exposed        477\n",
    "nombre_recovered       56\n",
    "Name: 11, dtype: int64"
   ]
  },
  {
   "cell_type": "markdown",
   "id": "572b6c07",
   "metadata": {},
   "source": [
    "nombre_infected       257\n",
    "nombre_sain         19048\n",
    "nombre_exposed        626\n",
    "nombre_recovered       69\n",
    "Name: 12, dtype: int64"
   ]
  },
  {
   "cell_type": "markdown",
   "id": "6a8d7fd2",
   "metadata": {},
   "source": [
    "nombre_infected       337\n",
    "nombre_sain         18681\n",
    "nombre_exposed        894\n",
    "nombre_recovered       88\n",
    "Name: 13, dtype: int64"
   ]
  },
  {
   "cell_type": "markdown",
   "id": "fd573487",
   "metadata": {},
   "source": [
    "nombre_infected       444\n",
    "nombre_sain         18239\n",
    "nombre_exposed       1190\n",
    "nombre_recovered      127\n",
    "Name: 14, dtype: int64"
   ]
  },
  {
   "cell_type": "markdown",
   "id": "9a34667e",
   "metadata": {},
   "source": [
    "nombre_infected       569\n",
    "nombre_sain         17709\n",
    "nombre_exposed       1535\n",
    "nombre_recovered      187\n",
    "Name: 15, dtype: int64"
   ]
  },
  {
   "cell_type": "markdown",
   "id": "f6ba91e4",
   "metadata": {},
   "source": [
    "nombre_infected       805\n",
    "nombre_sain         16988\n",
    "nombre_exposed       1966\n",
    "nombre_recovered      241\n",
    "Name: 16, dtype: int64"
   ]
  },
  {
   "cell_type": "markdown",
   "id": "59199c07",
   "metadata": {},
   "source": [
    "nombre_infected      1078\n",
    "nombre_sain         16054\n",
    "nombre_exposed       2555\n",
    "nombre_recovered      313\n",
    "Name: 17, dtype: int64"
   ]
  },
  {
   "cell_type": "markdown",
   "id": "a3c30db3",
   "metadata": {},
   "source": [
    "nombre_infected      1416\n",
    "nombre_sain         15015\n",
    "nombre_exposed       3149\n",
    "nombre_recovered      420\n",
    "Name: 18, dtype: int64"
   ]
  },
  {
   "cell_type": "markdown",
   "id": "352434f7",
   "metadata": {},
   "source": [
    "nombre_infected      1815\n",
    "nombre_sain         13688\n",
    "nombre_exposed       3916\n",
    "nombre_recovered      581\n",
    "Name: 19, dtype: int64"
   ]
  },
  {
   "cell_type": "markdown",
   "id": "34fa2262",
   "metadata": {},
   "source": [
    "nombre_infected      2350\n",
    "nombre_sain         12138\n",
    "nombre_exposed       4742\n",
    "nombre_recovered      770\n",
    "Name: 20, dtype: int64"
   ]
  },
  {
   "cell_type": "markdown",
   "id": "9fbb0b60",
   "metadata": {},
   "source": [
    "nombre_infected      2992\n",
    "nombre_sain         10429\n",
    "nombre_exposed       5572\n",
    "nombre_recovered     1007\n",
    "Name: 21, dtype: int64"
   ]
  },
  {
   "cell_type": "markdown",
   "id": "61afbaaf",
   "metadata": {},
   "source": [
    "nombre_infected     3769\n",
    "nombre_sain         8673\n",
    "nombre_exposed      6226\n",
    "nombre_recovered    1332\n",
    "Name: 22, dtype: int64"
   ]
  },
  {
   "cell_type": "markdown",
   "id": "1956172b",
   "metadata": {},
   "source": [
    "nombre_infected     4631\n",
    "nombre_sain         7015\n",
    "nombre_exposed      6624\n",
    "nombre_recovered    1730\n",
    "Name: 23, dtype: int64"
   ]
  },
  {
   "cell_type": "markdown",
   "id": "d80e1dd9",
   "metadata": {},
   "source": [
    "nombre_infected     5559\n",
    "nombre_sain         5378\n",
    "nombre_exposed      6861\n",
    "nombre_recovered    2202\n",
    "Name: 24, dtype: int64"
   ]
  },
  {
   "cell_type": "markdown",
   "id": "2cd9f3c4",
   "metadata": {},
   "source": [
    "nombre_infected     6363\n",
    "nombre_sain         3953\n",
    "nombre_exposed      6883\n",
    "nombre_recovered    2801\n",
    "Name: 25, dtype: int64"
   ]
  },
  {
   "cell_type": "markdown",
   "id": "a21425de",
   "metadata": {},
   "source": [
    "nombre_infected     7074\n",
    "nombre_sain         2922\n",
    "nombre_exposed      6475\n",
    "nombre_recovered    3529\n",
    "Name: 26, dtype: int64"
   ]
  },
  {
   "cell_type": "markdown",
   "id": "a718785d",
   "metadata": {},
   "source": [
    "nombre_infected     7776\n",
    "nombre_sain         2069\n",
    "nombre_exposed      5826\n",
    "nombre_recovered    4329\n",
    "Name: 27, dtype: int64"
   ]
  },
  {
   "cell_type": "markdown",
   "id": "e05c7830",
   "metadata": {},
   "source": [
    "nombre_infected     8241\n",
    "nombre_sain         1444\n",
    "nombre_exposed      5105\n",
    "nombre_recovered    5210\n",
    "Name: 28, dtype: int64"
   ]
  },
  {
   "cell_type": "markdown",
   "id": "6238c063",
   "metadata": {},
   "source": [
    "nombre_infected     8577\n",
    "nombre_sain         1003\n",
    "nombre_exposed      4306\n",
    "nombre_recovered    6114\n",
    "Name: 29, dtype: int64"
   ]
  },
  {
   "cell_type": "markdown",
   "id": "5f5a511a",
   "metadata": {},
   "source": [
    "nombre_infected     8601\n",
    "nombre_sain          690\n",
    "nombre_exposed      3617\n",
    "nombre_recovered    7092\n",
    "Name: 30, dtype: int64"
   ]
  },
  {
   "cell_type": "markdown",
   "id": "fb7bc8e7",
   "metadata": {},
   "source": [
    "nombre_infected     8512\n",
    "nombre_sain          489\n",
    "nombre_exposed      2934\n",
    "nombre_recovered    8065\n",
    "Name: 31, dtype: int64"
   ]
  },
  {
   "cell_type": "markdown",
   "id": "c21ebb1c",
   "metadata": {},
   "source": [
    "nombre_infected     8180\n",
    "nombre_sain          358\n",
    "nombre_exposed      2370\n",
    "nombre_recovered    9092\n",
    "Name: 32, dtype: int64"
   ]
  },
  {
   "cell_type": "markdown",
   "id": "e7209402",
   "metadata": {},
   "source": [
    "nombre_infected      7746\n",
    "nombre_sain           265\n",
    "nombre_exposed       1865\n",
    "nombre_recovered    10124\n",
    "Name: 33, dtype: int64"
   ]
  },
  {
   "cell_type": "markdown",
   "id": "6ccc27e9",
   "metadata": {},
   "source": [
    "nombre_infected      7265\n",
    "nombre_sain           230\n",
    "nombre_exposed       1472\n",
    "nombre_recovered    11033\n",
    "Name: 34, dtype: int64"
   ]
  },
  {
   "cell_type": "markdown",
   "id": "0b32942c",
   "metadata": {},
   "source": [
    "nombre_infected      6677\n",
    "nombre_sain           216\n",
    "nombre_exposed       1161\n",
    "nombre_recovered    11946\n",
    "Name: 35, dtype: int64"
   ]
  },
  {
   "cell_type": "markdown",
   "id": "1b90c0bf",
   "metadata": {},
   "source": [
    "nombre_infected      6100\n",
    "nombre_sain           215\n",
    "nombre_exposed        925\n",
    "nombre_recovered    12760\n",
    "Name: 36, dtype: int64"
   ]
  },
  {
   "cell_type": "markdown",
   "id": "49e6dd3a",
   "metadata": {},
   "source": [
    "nombre_infected      5506\n",
    "nombre_sain           210\n",
    "nombre_exposed        761\n",
    "nombre_recovered    13523\n",
    "Name: 37, dtype: int64"
   ]
  },
  {
   "cell_type": "markdown",
   "id": "f8234d1c",
   "metadata": {},
   "source": [
    "nombre_infected      4923\n",
    "nombre_sain           227\n",
    "nombre_exposed        654\n",
    "nombre_recovered    14196\n",
    "Name: 38, dtype: int64"
   ]
  },
  {
   "cell_type": "markdown",
   "id": "297f5d9e",
   "metadata": {},
   "source": [
    "nombre_infected      4408\n",
    "nombre_sain           241\n",
    "nombre_exposed        544\n",
    "nombre_recovered    14807\n",
    "Name: 39, dtype: int64"
   ]
  },
  {
   "cell_type": "markdown",
   "id": "a30397fe",
   "metadata": {},
   "source": [
    "nombre_infected      3868\n",
    "nombre_sain           258\n",
    "nombre_exposed        465\n",
    "nombre_recovered    15409\n",
    "Name: 40, dtype: int64"
   ]
  },
  {
   "cell_type": "markdown",
   "id": "010da289",
   "metadata": {},
   "source": [
    "nombre_infected      3430\n",
    "nombre_sain           271\n",
    "nombre_exposed        410\n",
    "nombre_recovered    15889\n",
    "Name: 41, dtype: int64"
   ]
  },
  {
   "cell_type": "markdown",
   "id": "32b2f746",
   "metadata": {},
   "source": [
    "nombre_infected      3037\n",
    "nombre_sain           289\n",
    "nombre_exposed        356\n",
    "nombre_recovered    16318\n",
    "Name: 42, dtype: int64"
   ]
  },
  {
   "cell_type": "markdown",
   "id": "3f315241",
   "metadata": {},
   "source": [
    "nombre_infected      2661\n",
    "nombre_sain           308\n",
    "nombre_exposed        315\n",
    "nombre_recovered    16716\n",
    "Name: 43, dtype: int64"
   ]
  },
  {
   "cell_type": "markdown",
   "id": "995177fb",
   "metadata": {},
   "source": [
    "nombre_infected      2339\n",
    "nombre_sain           335\n",
    "nombre_exposed        278\n",
    "nombre_recovered    17048\n",
    "Name: 44, dtype: int64"
   ]
  },
  {
   "cell_type": "markdown",
   "id": "62fcaaa6",
   "metadata": {},
   "source": [
    "nombre_infected      2064\n",
    "nombre_sain           379\n",
    "nombre_exposed        239\n",
    "nombre_recovered    17318\n",
    "Name: 45, dtype: int64"
   ]
  },
  {
   "cell_type": "markdown",
   "id": "46bc9b3b",
   "metadata": {},
   "source": [
    "nombre_infected      1818\n",
    "nombre_sain           411\n",
    "nombre_exposed        226\n",
    "nombre_recovered    17545\n",
    "Name: 46, dtype: int64"
   ]
  },
  {
   "cell_type": "markdown",
   "id": "98c3eefe",
   "metadata": {},
   "source": [
    "nombre_infected      1596\n",
    "nombre_sain           462\n",
    "nombre_exposed        194\n",
    "nombre_recovered    17748\n",
    "Name: 47, dtype: int64"
   ]
  },
  {
   "cell_type": "markdown",
   "id": "063f7b13",
   "metadata": {},
   "source": [
    "nombre_infected      1411\n",
    "nombre_sain           482\n",
    "nombre_exposed        192\n",
    "nombre_recovered    17915\n",
    "Name: 48, dtype: int64"
   ]
  },
  {
   "cell_type": "markdown",
   "id": "bdc508b8",
   "metadata": {},
   "source": [
    "nombre_infected      1232\n",
    "nombre_sain           508\n",
    "nombre_exposed        177\n",
    "nombre_recovered    18083\n",
    "Name: 49, dtype: int64"
   ]
  },
  {
   "cell_type": "markdown",
   "id": "71810f28",
   "metadata": {},
   "source": [
    "nombre_infected      1120\n",
    "nombre_sain           570\n",
    "nombre_exposed        144\n",
    "nombre_recovered    18166\n",
    "Name: 50, dtype: int64"
   ]
  },
  {
   "cell_type": "markdown",
   "id": "99b31598",
   "metadata": {},
   "source": [
    "nombre_infected      1005\n",
    "nombre_sain           599\n",
    "nombre_exposed        140\n",
    "nombre_recovered    18256\n",
    "Name: 51, dtype: int64"
   ]
  },
  {
   "cell_type": "markdown",
   "id": "9067cf9b",
   "metadata": {},
   "source": [
    "nombre_infected       893\n",
    "nombre_sain           642\n",
    "nombre_exposed        133\n",
    "nombre_recovered    18332\n",
    "Name: 52, dtype: int64"
   ]
  },
  {
   "cell_type": "markdown",
   "id": "29e85e44",
   "metadata": {},
   "source": [
    "nombre_infected       799\n",
    "nombre_sain           673\n",
    "nombre_exposed        128\n",
    "nombre_recovered    18400\n",
    "Name: 53, dtype: int64"
   ]
  },
  {
   "cell_type": "markdown",
   "id": "1d75ef1d",
   "metadata": {},
   "source": [
    "nombre_infected       699\n",
    "nombre_sain           703\n",
    "nombre_exposed        122\n",
    "nombre_recovered    18476\n",
    "Name: 54, dtype: int64"
   ]
  },
  {
   "cell_type": "markdown",
   "id": "5d468198",
   "metadata": {},
   "source": [
    "nombre_infected       621\n",
    "nombre_sain           755\n",
    "nombre_exposed        104\n",
    "nombre_recovered    18520\n",
    "Name: 55, dtype: int64"
   ]
  },
  {
   "cell_type": "markdown",
   "id": "79d6452b",
   "metadata": {},
   "source": [
    "nombre_infected       541\n",
    "nombre_sain           823\n",
    "nombre_exposed         88\n",
    "nombre_recovered    18548\n",
    "Name: 56, dtype: int64"
   ]
  },
  {
   "cell_type": "markdown",
   "id": "95845cb7",
   "metadata": {},
   "source": [
    "nombre_infected       473\n",
    "nombre_sain           888\n",
    "nombre_exposed         91\n",
    "nombre_recovered    18548\n",
    "Name: 57, dtype: int64"
   ]
  },
  {
   "cell_type": "markdown",
   "id": "085a439c",
   "metadata": {},
   "source": [
    "nombre_infected       395\n",
    "nombre_sain           946\n",
    "nombre_exposed         87\n",
    "nombre_recovered    18572\n",
    "Name: 58, dtype: int64"
   ]
  },
  {
   "cell_type": "markdown",
   "id": "778da366",
   "metadata": {},
   "source": [
    "nombre_infected       329\n",
    "nombre_sain          1027\n",
    "nombre_exposed         86\n",
    "nombre_recovered    18558\n",
    "Name: 59, dtype: int64"
   ]
  },
  {
   "cell_type": "markdown",
   "id": "44185f90",
   "metadata": {},
   "source": [
    "nombre_infected       298\n",
    "nombre_sain          1100\n",
    "nombre_exposed         87\n",
    "nombre_recovered    18515\n",
    "Name: 60, dtype: int64"
   ]
  },
  {
   "cell_type": "markdown",
   "id": "73168928",
   "metadata": {},
   "source": [
    "nombre_infected       271\n",
    "nombre_sain          1165\n",
    "nombre_exposed         77\n",
    "nombre_recovered    18487\n",
    "Name: 61, dtype: int64"
   ]
  },
  {
   "cell_type": "markdown",
   "id": "3554493d",
   "metadata": {},
   "source": [
    "nombre_infected       248\n",
    "nombre_sain          1279\n",
    "nombre_exposed         63\n",
    "nombre_recovered    18410\n",
    "Name: 62, dtype: int64"
   ]
  },
  {
   "cell_type": "markdown",
   "id": "c7d0bfde",
   "metadata": {},
   "source": [
    "nombre_infected       224\n",
    "nombre_sain          1368\n",
    "nombre_exposed         60\n",
    "nombre_recovered    18348\n",
    "Name: 63, dtype: int64"
   ]
  },
  {
   "cell_type": "markdown",
   "id": "fa34057c",
   "metadata": {},
   "source": [
    "nombre_infected       201\n",
    "nombre_sain          1473\n",
    "nombre_exposed         61\n",
    "nombre_recovered    18265\n",
    "Name: 64, dtype: int64"
   ]
  },
  {
   "cell_type": "markdown",
   "id": "819daaa7",
   "metadata": {},
   "source": [
    "nombre_infected       196\n",
    "nombre_sain          1561\n",
    "nombre_exposed         55\n",
    "nombre_recovered    18188\n",
    "Name: 65, dtype: int64"
   ]
  },
  {
   "cell_type": "markdown",
   "id": "f6e575c4",
   "metadata": {},
   "source": [
    "nombre_infected       185\n",
    "nombre_sain          1647\n",
    "nombre_exposed         53\n",
    "nombre_recovered    18115\n",
    "Name: 66, dtype: int64"
   ]
  },
  {
   "cell_type": "markdown",
   "id": "cbe8a8bd",
   "metadata": {},
   "source": [
    "nombre_infected       177\n",
    "nombre_sain          1730\n",
    "nombre_exposed         54\n",
    "nombre_recovered    18039\n",
    "Name: 67, dtype: int64"
   ]
  },
  {
   "cell_type": "markdown",
   "id": "4dd23c37",
   "metadata": {},
   "source": [
    "nombre_infected       166\n",
    "nombre_sain          1810\n",
    "nombre_exposed         63\n",
    "nombre_recovered    17961\n",
    "Name: 68, dtype: int64"
   ]
  },
  {
   "cell_type": "markdown",
   "id": "d62ebdfc",
   "metadata": {},
   "source": [
    "nombre_infected       158\n",
    "nombre_sain          1896\n",
    "nombre_exposed         73\n",
    "nombre_recovered    17873\n",
    "Name: 69, dtype: int64"
   ]
  },
  {
   "cell_type": "markdown",
   "id": "a4a3ab52",
   "metadata": {},
   "source": [
    "nombre_infected       148\n",
    "nombre_sain          1959\n",
    "nombre_exposed         76\n",
    "nombre_recovered    17817\n",
    "Name: 70, dtype: int64"
   ]
  },
  {
   "cell_type": "markdown",
   "id": "79c564ee",
   "metadata": {},
   "source": [
    "nombre_infected       147\n",
    "nombre_sain          2018\n",
    "nombre_exposed         82\n",
    "nombre_recovered    17753\n",
    "Name: 71, dtype: int64"
   ]
  },
  {
   "cell_type": "markdown",
   "id": "cef26afd",
   "metadata": {},
   "source": [
    "nombre_infected       146\n",
    "nombre_sain          2107\n",
    "nombre_exposed         76\n",
    "nombre_recovered    17671\n",
    "Name: 72, dtype: int64"
   ]
  },
  {
   "cell_type": "markdown",
   "id": "f39059fa",
   "metadata": {},
   "source": [
    "nombre_infected       147\n",
    "nombre_sain          2176\n",
    "nombre_exposed         71\n",
    "nombre_recovered    17606\n",
    "Name: 73, dtype: int64"
   ]
  },
  {
   "cell_type": "markdown",
   "id": "d0ab2b6d",
   "metadata": {},
   "source": [
    "nombre_infected       141\n",
    "nombre_sain          2237\n",
    "nombre_exposed         74\n",
    "nombre_recovered    17548\n",
    "Name: 74, dtype: int64"
   ]
  },
  {
   "cell_type": "markdown",
   "id": "a97cf782",
   "metadata": {},
   "source": [
    "nombre_infected       132\n",
    "nombre_sain          2295\n",
    "nombre_exposed         86\n",
    "nombre_recovered    17487\n",
    "Name: 75, dtype: int64"
   ]
  },
  {
   "cell_type": "markdown",
   "id": "70010484",
   "metadata": {},
   "source": [
    "nombre_infected       118\n",
    "nombre_sain          2343\n",
    "nombre_exposed        101\n",
    "nombre_recovered    17438\n",
    "Name: 76, dtype: int64"
   ]
  },
  {
   "cell_type": "markdown",
   "id": "03d27776",
   "metadata": {},
   "source": [
    "nombre_infected       136\n",
    "nombre_sain          2411\n",
    "nombre_exposed         87\n",
    "nombre_recovered    17366\n",
    "Name: 77, dtype: int64"
   ]
  },
  {
   "cell_type": "markdown",
   "id": "f5e82d8b",
   "metadata": {},
   "source": [
    "nombre_infected       125\n",
    "nombre_sain          2448\n",
    "nombre_exposed         90\n",
    "nombre_recovered    17337\n",
    "Name: 78, dtype: int64"
   ]
  },
  {
   "cell_type": "markdown",
   "id": "1f222da2",
   "metadata": {},
   "source": [
    "nombre_infected       130\n",
    "nombre_sain          2494\n",
    "nombre_exposed         92\n",
    "nombre_recovered    17284\n",
    "Name: 79, dtype: int64"
   ]
  },
  {
   "cell_type": "markdown",
   "id": "12bc8c7a",
   "metadata": {},
   "source": [
    "nombre_infected       134\n",
    "nombre_sain          2550\n",
    "nombre_exposed         88\n",
    "nombre_recovered    17228\n",
    "Name: 80, dtype: int64"
   ]
  },
  {
   "cell_type": "markdown",
   "id": "d95d4515",
   "metadata": {},
   "source": [
    "nombre_infected       146\n",
    "nombre_sain          2608\n",
    "nombre_exposed         97\n",
    "nombre_recovered    17149\n",
    "Name: 81, dtype: int64"
   ]
  },
  {
   "cell_type": "markdown",
   "id": "29879b03",
   "metadata": {},
   "source": [
    "nombre_infected       149\n",
    "nombre_sain          2663\n",
    "nombre_exposed         98\n",
    "nombre_recovered    17090\n",
    "Name: 82, dtype: int64"
   ]
  },
  {
   "cell_type": "markdown",
   "id": "1b5c1d86",
   "metadata": {},
   "source": [
    "nombre_infected       152\n",
    "nombre_sain          2726\n",
    "nombre_exposed         93\n",
    "nombre_recovered    17029\n",
    "Name: 83, dtype: int64"
   ]
  },
  {
   "cell_type": "markdown",
   "id": "6804b0b1",
   "metadata": {},
   "source": [
    "nombre_infected       150\n",
    "nombre_sain          2774\n",
    "nombre_exposed        100\n",
    "nombre_recovered    16976\n",
    "Name: 84, dtype: int64"
   ]
  },
  {
   "cell_type": "markdown",
   "id": "6f78efe6",
   "metadata": {},
   "source": [
    "nombre_infected       157\n",
    "nombre_sain          2815\n",
    "nombre_exposed        103\n",
    "nombre_recovered    16925\n",
    "Name: 85, dtype: int64"
   ]
  },
  {
   "cell_type": "markdown",
   "id": "c5a3c9ab",
   "metadata": {},
   "source": [
    "nombre_infected       155\n",
    "nombre_sain          2862\n",
    "nombre_exposed        103\n",
    "nombre_recovered    16880\n",
    "Name: 86, dtype: int64"
   ]
  },
  {
   "cell_type": "markdown",
   "id": "43607f16",
   "metadata": {},
   "source": [
    "nombre_infected       158\n",
    "nombre_sain          2907\n",
    "nombre_exposed        104\n",
    "nombre_recovered    16831\n",
    "Name: 87, dtype: int64"
   ]
  },
  {
   "cell_type": "markdown",
   "id": "8ed314d3",
   "metadata": {},
   "source": [
    "nombre_infected       167\n",
    "nombre_sain          2942\n",
    "nombre_exposed        104\n",
    "nombre_recovered    16787\n",
    "Name: 88, dtype: int64"
   ]
  },
  {
   "cell_type": "markdown",
   "id": "abafa497",
   "metadata": {},
   "source": [
    "nombre_infected       171\n",
    "nombre_sain          2967\n",
    "nombre_exposed        108\n",
    "nombre_recovered    16754\n",
    "Name: 89, dtype: int64"
   ]
  },
  {
   "cell_type": "markdown",
   "id": "0b45e240",
   "metadata": {},
   "source": [
    "nombre_infected       172\n",
    "nombre_sain          2983\n",
    "nombre_exposed        121\n",
    "nombre_recovered    16724\n",
    "Name: 90, dtype: int64"
   ]
  },
  {
   "cell_type": "markdown",
   "id": "5ae57454",
   "metadata": {},
   "source": [
    "nombre_infected       181\n",
    "nombre_sain          3008\n",
    "nombre_exposed        113\n",
    "nombre_recovered    16698\n",
    "Name: 91, dtype: int64"
   ]
  },
  {
   "cell_type": "markdown",
   "id": "3d959a20",
   "metadata": {},
   "source": [
    "nombre_infected       186\n",
    "nombre_sain          3015\n",
    "nombre_exposed        127\n",
    "nombre_recovered    16672\n",
    "Name: 92, dtype: int64"
   ]
  },
  {
   "cell_type": "markdown",
   "id": "61cce59d",
   "metadata": {},
   "source": [
    "nombre_infected       173\n",
    "nombre_sain          3048\n",
    "nombre_exposed        135\n",
    "nombre_recovered    16644\n",
    "Name: 93, dtype: int64"
   ]
  },
  {
   "cell_type": "markdown",
   "id": "5fb80d39",
   "metadata": {},
   "source": [
    "nombre_infected       176\n",
    "nombre_sain          3085\n",
    "nombre_exposed        138\n",
    "nombre_recovered    16601\n",
    "Name: 94, dtype: int64"
   ]
  },
  {
   "cell_type": "markdown",
   "id": "39819916",
   "metadata": {},
   "source": [
    "nombre_infected       176\n",
    "nombre_sain          3126\n",
    "nombre_exposed        129\n",
    "nombre_recovered    16569\n",
    "Name: 95, dtype: int64"
   ]
  },
  {
   "cell_type": "markdown",
   "id": "9c7ed692",
   "metadata": {},
   "source": [
    "nombre_infected       182\n",
    "nombre_sain          3155\n",
    "nombre_exposed        135\n",
    "nombre_recovered    16528\n",
    "Name: 96, dtype: int64"
   ]
  },
  {
   "cell_type": "markdown",
   "id": "9d00444e",
   "metadata": {},
   "source": [
    "nombre_infected       192\n",
    "nombre_sain          3199\n",
    "nombre_exposed        121\n",
    "nombre_recovered    16488\n",
    "Name: 97, dtype: int64"
   ]
  },
  {
   "cell_type": "markdown",
   "id": "80073cb1",
   "metadata": {},
   "source": [
    "nombre_infected       196\n",
    "nombre_sain          3237\n",
    "nombre_exposed        121\n",
    "nombre_recovered    16446\n",
    "Name: 98, dtype: int64"
   ]
  },
  {
   "cell_type": "markdown",
   "id": "7d042e0b",
   "metadata": {},
   "source": [
    "nombre_infected       193\n",
    "nombre_sain          3270\n",
    "nombre_exposed        130\n",
    "nombre_recovered    16407\n",
    "Name: 99, dtype: int64"
   ]
  },
  {
   "cell_type": "markdown",
   "id": "db6585e1",
   "metadata": {},
   "source": [
    "nombre_infected       190\n",
    "nombre_sain          3297\n",
    "nombre_exposed        143\n",
    "nombre_recovered    16370\n",
    "Name: 100, dtype: int64"
   ]
  },
  {
   "cell_type": "markdown",
   "id": "1744a96e",
   "metadata": {},
   "source": [
    "nombre_infected       202\n",
    "nombre_sain          3325\n",
    "nombre_exposed        137\n",
    "nombre_recovered    16336\n",
    "Name: 101, dtype: int64"
   ]
  },
  {
   "cell_type": "markdown",
   "id": "b5c35380",
   "metadata": {},
   "source": [
    "nombre_infected       213\n",
    "nombre_sain          3345\n",
    "nombre_exposed        151\n",
    "nombre_recovered    16291\n",
    "Name: 102, dtype: int64"
   ]
  },
  {
   "cell_type": "markdown",
   "id": "742541ba",
   "metadata": {},
   "source": [
    "nombre_infected       223\n",
    "nombre_sain          3364\n",
    "nombre_exposed        164\n",
    "nombre_recovered    16249\n",
    "Name: 103, dtype: int64"
   ]
  },
  {
   "cell_type": "markdown",
   "id": "67e731d8",
   "metadata": {},
   "source": [
    "nombre_infected       230\n",
    "nombre_sain          3361\n",
    "nombre_exposed        175\n",
    "nombre_recovered    16234\n",
    "Name: 104, dtype: int64"
   ]
  },
  {
   "cell_type": "markdown",
   "id": "d76538eb",
   "metadata": {},
   "source": [
    "nombre_infected       237\n",
    "nombre_sain          3360\n",
    "nombre_exposed        183\n",
    "nombre_recovered    16220\n",
    "Name: 105, dtype: int64"
   ]
  },
  {
   "cell_type": "markdown",
   "id": "8e463f11",
   "metadata": {},
   "source": [
    "nombre_infected       231\n",
    "nombre_sain          3359\n",
    "nombre_exposed        199\n",
    "nombre_recovered    16211\n",
    "Name: 106, dtype: int64"
   ]
  },
  {
   "cell_type": "markdown",
   "id": "23c2507e",
   "metadata": {},
   "source": [
    "nombre_infected       243\n",
    "nombre_sain          3367\n",
    "nombre_exposed        190\n",
    "nombre_recovered    16200\n",
    "Name: 107, dtype: int64"
   ]
  },
  {
   "cell_type": "markdown",
   "id": "1756152b",
   "metadata": {},
   "source": [
    "nombre_infected       255\n",
    "nombre_sain          3363\n",
    "nombre_exposed        189\n",
    "nombre_recovered    16193\n",
    "Name: 108, dtype: int64"
   ]
  },
  {
   "cell_type": "markdown",
   "id": "5ced2211",
   "metadata": {},
   "source": [
    "nombre_infected       268\n",
    "nombre_sain          3357\n",
    "nombre_exposed        213\n",
    "nombre_recovered    16162\n",
    "Name: 109, dtype: int64"
   ]
  },
  {
   "cell_type": "markdown",
   "id": "b6fb1091",
   "metadata": {},
   "source": [
    "nombre_infected       283\n",
    "nombre_sain          3363\n",
    "nombre_exposed        216\n",
    "nombre_recovered    16138\n",
    "Name: 110, dtype: int64"
   ]
  },
  {
   "cell_type": "markdown",
   "id": "c38d4ea2",
   "metadata": {},
   "source": [
    "nombre_infected       296\n",
    "nombre_sain          3346\n",
    "nombre_exposed        235\n",
    "nombre_recovered    16123\n",
    "Name: 111, dtype: int64"
   ]
  },
  {
   "cell_type": "markdown",
   "id": "0d6e5899",
   "metadata": {},
   "source": [
    "nombre_infected       304\n",
    "nombre_sain          3348\n",
    "nombre_exposed        254\n",
    "nombre_recovered    16094\n",
    "Name: 112, dtype: int64"
   ]
  },
  {
   "cell_type": "markdown",
   "id": "2c309aa9",
   "metadata": {},
   "source": [
    "nombre_infected       316\n",
    "nombre_sain          3358\n",
    "nombre_exposed        260\n",
    "nombre_recovered    16066\n",
    "Name: 113, dtype: int64"
   ]
  },
  {
   "cell_type": "markdown",
   "id": "da3e841d",
   "metadata": {},
   "source": [
    "nombre_infected       341\n",
    "nombre_sain          3352\n",
    "nombre_exposed        270\n",
    "nombre_recovered    16037\n",
    "Name: 114, dtype: int64"
   ]
  },
  {
   "cell_type": "markdown",
   "id": "760e1372",
   "metadata": {},
   "source": [
    "nombre_infected       350\n",
    "nombre_sain          3351\n",
    "nombre_exposed        288\n",
    "nombre_recovered    16011\n",
    "Name: 115, dtype: int64"
   ]
  },
  {
   "cell_type": "markdown",
   "id": "21bc493c",
   "metadata": {},
   "source": [
    "nombre_infected       360\n",
    "nombre_sain          3351\n",
    "nombre_exposed        283\n",
    "nombre_recovered    16006\n",
    "Name: 116, dtype: int64"
   ]
  },
  {
   "cell_type": "markdown",
   "id": "6dd9370e",
   "metadata": {},
   "source": [
    "nombre_infected       380\n",
    "nombre_sain          3345\n",
    "nombre_exposed        297\n",
    "nombre_recovered    15978\n",
    "Name: 117, dtype: int64"
   ]
  },
  {
   "cell_type": "markdown",
   "id": "9a18faf2",
   "metadata": {},
   "source": [
    "nombre_infected       410\n",
    "nombre_sain          3347\n",
    "nombre_exposed        318\n",
    "nombre_recovered    15925\n",
    "Name: 118, dtype: int64"
   ]
  },
  {
   "cell_type": "markdown",
   "id": "15b31825",
   "metadata": {},
   "source": [
    "nombre_infected       426\n",
    "nombre_sain          3347\n",
    "nombre_exposed        328\n",
    "nombre_recovered    15899\n",
    "Name: 119, dtype: int64"
   ]
  },
  {
   "cell_type": "markdown",
   "id": "b0bdda0e",
   "metadata": {},
   "source": [
    "nombre_infected       442\n",
    "nombre_sain          3349\n",
    "nombre_exposed        354\n",
    "nombre_recovered    15855\n",
    "Name: 120, dtype: int64"
   ]
  },
  {
   "cell_type": "markdown",
   "id": "24161cda",
   "metadata": {},
   "source": [
    "nombre_infected       458\n",
    "nombre_sain          3344\n",
    "nombre_exposed        357\n",
    "nombre_recovered    15841\n",
    "Name: 121, dtype: int64"
   ]
  },
  {
   "cell_type": "markdown",
   "id": "48781474",
   "metadata": {},
   "source": [
    "nombre_infected       472\n",
    "nombre_sain          3325\n",
    "nombre_exposed        390\n",
    "nombre_recovered    15813\n",
    "Name: 122, dtype: int64"
   ]
  },
  {
   "cell_type": "markdown",
   "id": "fc8eaa94",
   "metadata": {},
   "source": [
    "nombre_infected       501\n",
    "nombre_sain          3337\n",
    "nombre_exposed        386\n",
    "nombre_recovered    15776\n",
    "Name: 123, dtype: int64"
   ]
  },
  {
   "cell_type": "markdown",
   "id": "9ef3efdd",
   "metadata": {},
   "source": [
    "nombre_infected       524\n",
    "nombre_sain          3327\n",
    "nombre_exposed        398\n",
    "nombre_recovered    15751\n",
    "Name: 124, dtype: int64"
   ]
  },
  {
   "cell_type": "markdown",
   "id": "103303b5",
   "metadata": {},
   "source": [
    "nombre_infected       529\n",
    "nombre_sain          3307\n",
    "nombre_exposed        418\n",
    "nombre_recovered    15746\n",
    "Name: 125, dtype: int64"
   ]
  },
  {
   "cell_type": "markdown",
   "id": "1898d8cc",
   "metadata": {},
   "source": [
    "nombre_infected       528\n",
    "nombre_sain          3295\n",
    "nombre_exposed        422\n",
    "nombre_recovered    15755\n",
    "Name: 126, dtype: int64"
   ]
  },
  {
   "cell_type": "markdown",
   "id": "492904c8",
   "metadata": {},
   "source": [
    "nombre_infected       531\n",
    "nombre_sain          3266\n",
    "nombre_exposed        454\n",
    "nombre_recovered    15749\n",
    "Name: 127, dtype: int64"
   ]
  },
  {
   "cell_type": "markdown",
   "id": "cfee60ae",
   "metadata": {},
   "source": [
    "nombre_infected       548\n",
    "nombre_sain          3238\n",
    "nombre_exposed        465\n",
    "nombre_recovered    15749\n",
    "Name: 128, dtype: int64"
   ]
  },
  {
   "cell_type": "markdown",
   "id": "73cb8894",
   "metadata": {},
   "source": [
    "nombre_infected       582\n",
    "nombre_sain          3204\n",
    "nombre_exposed        488\n",
    "nombre_recovered    15726\n",
    "Name: 129, dtype: int64"
   ]
  },
  {
   "cell_type": "markdown",
   "id": "f35fc86c",
   "metadata": {},
   "source": [
    "nombre_infected       615\n",
    "nombre_sain          3179\n",
    "nombre_exposed        503\n",
    "nombre_recovered    15703\n",
    "Name: 130, dtype: int64"
   ]
  },
  {
   "cell_type": "markdown",
   "id": "d6548321",
   "metadata": {},
   "source": [
    "nombre_infected       633\n",
    "nombre_sain          3122\n",
    "nombre_exposed        538\n",
    "nombre_recovered    15707\n",
    "Name: 131, dtype: int64"
   ]
  },
  {
   "cell_type": "markdown",
   "id": "5ddc89b2",
   "metadata": {},
   "source": [
    "nombre_infected       642\n",
    "nombre_sain          3083\n",
    "nombre_exposed        569\n",
    "nombre_recovered    15706\n",
    "Name: 132, dtype: int64"
   ]
  },
  {
   "cell_type": "markdown",
   "id": "8962334c",
   "metadata": {},
   "source": [
    "nombre_infected       702\n",
    "nombre_sain          3032\n",
    "nombre_exposed        570\n",
    "nombre_recovered    15696\n",
    "Name: 133, dtype: int64"
   ]
  },
  {
   "cell_type": "markdown",
   "id": "4b6b39ba",
   "metadata": {},
   "source": [
    "nombre_infected       740\n",
    "nombre_sain          2997\n",
    "nombre_exposed        580\n",
    "nombre_recovered    15683\n",
    "Name: 134, dtype: int64"
   ]
  },
  {
   "cell_type": "markdown",
   "id": "ad997400",
   "metadata": {},
   "source": [
    "nombre_infected       803\n",
    "nombre_sain          2920\n",
    "nombre_exposed        602\n",
    "nombre_recovered    15675\n",
    "Name: 135, dtype: int64"
   ]
  },
  {
   "cell_type": "markdown",
   "id": "8bcbbb58",
   "metadata": {},
   "source": [
    "nombre_infected       816\n",
    "nombre_sain          2888\n",
    "nombre_exposed        598\n",
    "nombre_recovered    15698\n",
    "Name: 136, dtype: int64"
   ]
  },
  {
   "cell_type": "markdown",
   "id": "8b584191",
   "metadata": {},
   "source": [
    "nombre_infected       835\n",
    "nombre_sain          2839\n",
    "nombre_exposed        600\n",
    "nombre_recovered    15726\n",
    "Name: 137, dtype: int64"
   ]
  },
  {
   "cell_type": "markdown",
   "id": "262277ad",
   "metadata": {},
   "source": [
    "nombre_infected       882\n",
    "nombre_sain          2779\n",
    "nombre_exposed        599\n",
    "nombre_recovered    15740\n",
    "Name: 138, dtype: int64"
   ]
  },
  {
   "cell_type": "markdown",
   "id": "e62446c4",
   "metadata": {},
   "source": [
    "nombre_infected       908\n",
    "nombre_sain          2733\n",
    "nombre_exposed        604\n",
    "nombre_recovered    15755\n",
    "Name: 139, dtype: int64"
   ]
  },
  {
   "cell_type": "markdown",
   "id": "9e25dea8",
   "metadata": {},
   "source": [
    "nombre_infected       930\n",
    "nombre_sain          2678\n",
    "nombre_exposed        611\n",
    "nombre_recovered    15781\n",
    "Name: 140, dtype: int64"
   ]
  },
  {
   "cell_type": "markdown",
   "id": "b0afbd45",
   "metadata": {},
   "source": [
    "nombre_infected       943\n",
    "nombre_sain          2600\n",
    "nombre_exposed        647\n",
    "nombre_recovered    15810\n",
    "Name: 141, dtype: int64"
   ]
  },
  {
   "cell_type": "markdown",
   "id": "c61dc22f",
   "metadata": {},
   "source": [
    "nombre_infected       942\n",
    "nombre_sain          2506\n",
    "nombre_exposed        689\n",
    "nombre_recovered    15863\n",
    "Name: 142, dtype: int64"
   ]
  },
  {
   "cell_type": "markdown",
   "id": "57cda298",
   "metadata": {},
   "source": [
    "nombre_infected       958\n",
    "nombre_sain          2458\n",
    "nombre_exposed        696\n",
    "nombre_recovered    15888\n",
    "Name: 143, dtype: int64"
   ]
  },
  {
   "cell_type": "markdown",
   "id": "55d63391",
   "metadata": {},
   "source": [
    "nombre_infected       987\n",
    "nombre_sain          2384\n",
    "nombre_exposed        677\n",
    "nombre_recovered    15952\n",
    "Name: 144, dtype: int64"
   ]
  },
  {
   "cell_type": "markdown",
   "id": "897fe1d1",
   "metadata": {},
   "source": [
    "nombre_infected      1023\n",
    "nombre_sain          2320\n",
    "nombre_exposed        671\n",
    "nombre_recovered    15986\n",
    "Name: 145, dtype: int64"
   ]
  },
  {
   "cell_type": "markdown",
   "id": "47786f78",
   "metadata": {},
   "source": [
    "nombre_infected      1068\n",
    "nombre_sain          2265\n",
    "nombre_exposed        652\n",
    "nombre_recovered    16015\n",
    "Name: 146, dtype: int64"
   ]
  },
  {
   "cell_type": "markdown",
   "id": "21e6c20c",
   "metadata": {},
   "source": [
    "nombre_infected      1081\n",
    "nombre_sain          2184\n",
    "nombre_exposed        682\n",
    "nombre_recovered    16053\n",
    "Name: 147, dtype: int64"
   ]
  },
  {
   "cell_type": "markdown",
   "id": "d719960d",
   "metadata": {},
   "source": [
    "nombre_infected      1089\n",
    "nombre_sain          2114\n",
    "nombre_exposed        676\n",
    "nombre_recovered    16121\n",
    "Name: 148, dtype: int64"
   ]
  },
  {
   "cell_type": "markdown",
   "id": "a43392d2",
   "metadata": {},
   "source": [
    "nombre_infected      1095\n",
    "nombre_sain          2046\n",
    "nombre_exposed        672\n",
    "nombre_recovered    16187\n",
    "Name: 149, dtype: int64"
   ]
  },
  {
   "cell_type": "markdown",
   "id": "aa050095",
   "metadata": {},
   "source": [
    "nombre_infected      1124\n",
    "nombre_sain          2019\n",
    "nombre_exposed        651\n",
    "nombre_recovered    16206\n",
    "Name: 150, dtype: int64"
   ]
  },
  {
   "cell_type": "markdown",
   "id": "3db55870",
   "metadata": {},
   "source": [
    "nombre_infected      1153\n",
    "nombre_sain          1964\n",
    "nombre_exposed        647\n",
    "nombre_recovered    16236\n",
    "Name: 151, dtype: int64"
   ]
  },
  {
   "cell_type": "markdown",
   "id": "7b7fe388",
   "metadata": {},
   "source": [
    "nombre_infected      1157\n",
    "nombre_sain          1927\n",
    "nombre_exposed        625\n",
    "nombre_recovered    16291\n",
    "Name: 152, dtype: int64"
   ]
  },
  {
   "cell_type": "markdown",
   "id": "9bca0fe6",
   "metadata": {},
   "source": [
    "nombre_infected      1148\n",
    "nombre_sain          1888\n",
    "nombre_exposed        609\n",
    "nombre_recovered    16355\n",
    "Name: 153, dtype: int64"
   ]
  },
  {
   "cell_type": "markdown",
   "id": "0c0864ec",
   "metadata": {},
   "source": [
    "nombre_infected      1159\n",
    "nombre_sain          1846\n",
    "nombre_exposed        597\n",
    "nombre_recovered    16398\n",
    "Name: 154, dtype: int64"
   ]
  },
  {
   "cell_type": "markdown",
   "id": "dd2e8085",
   "metadata": {},
   "source": [
    "nombre_infected      1182\n",
    "nombre_sain          1844\n",
    "nombre_exposed        563\n",
    "nombre_recovered    16411\n",
    "Name: 155, dtype: int64"
   ]
  },
  {
   "cell_type": "markdown",
   "id": "c3151ec7",
   "metadata": {},
   "source": [
    "nombre_infected      1151\n",
    "nombre_sain          1808\n",
    "nombre_exposed        563\n",
    "nombre_recovered    16478\n",
    "Name: 156, dtype: int64"
   ]
  },
  {
   "cell_type": "markdown",
   "id": "5e6af265",
   "metadata": {},
   "source": [
    "nombre_infected      1126\n",
    "nombre_sain          1786\n",
    "nombre_exposed        536\n",
    "nombre_recovered    16552\n",
    "Name: 157, dtype: int64"
   ]
  },
  {
   "cell_type": "markdown",
   "id": "294d126e",
   "metadata": {},
   "source": [
    "nombre_infected      1080\n",
    "nombre_sain          1757\n",
    "nombre_exposed        529\n",
    "nombre_recovered    16634\n",
    "Name: 158, dtype: int64"
   ]
  },
  {
   "cell_type": "markdown",
   "id": "e9864021",
   "metadata": {},
   "source": [
    "nombre_infected      1041\n",
    "nombre_sain          1741\n",
    "nombre_exposed        516\n",
    "nombre_recovered    16702\n",
    "Name: 159, dtype: int64"
   ]
  },
  {
   "cell_type": "markdown",
   "id": "085e0daa",
   "metadata": {},
   "source": [
    "nombre_infected      1040\n",
    "nombre_sain          1728\n",
    "nombre_exposed        484\n",
    "nombre_recovered    16748\n",
    "Name: 160, dtype: int64"
   ]
  },
  {
   "cell_type": "markdown",
   "id": "a3ab6c6e",
   "metadata": {},
   "source": [
    "nombre_infected      1013\n",
    "nombre_sain          1707\n",
    "nombre_exposed        484\n",
    "nombre_recovered    16796\n",
    "Name: 161, dtype: int64"
   ]
  },
  {
   "cell_type": "markdown",
   "id": "b4021ed2",
   "metadata": {},
   "source": [
    "nombre_infected       992\n",
    "nombre_sain          1709\n",
    "nombre_exposed        473\n",
    "nombre_recovered    16826\n",
    "Name: 162, dtype: int64"
   ]
  },
  {
   "cell_type": "markdown",
   "id": "768721b8",
   "metadata": {},
   "source": [
    "nombre_infected       951\n",
    "nombre_sain          1693\n",
    "nombre_exposed        467\n",
    "nombre_recovered    16889\n",
    "Name: 163, dtype: int64"
   ]
  },
  {
   "cell_type": "markdown",
   "id": "a99aabd3",
   "metadata": {},
   "source": [
    "nombre_infected       938\n",
    "nombre_sain          1682\n",
    "nombre_exposed        439\n",
    "nombre_recovered    16941\n",
    "Name: 164, dtype: int64"
   ]
  },
  {
   "cell_type": "markdown",
   "id": "645356e1",
   "metadata": {},
   "source": [
    "nombre_infected       923\n",
    "nombre_sain          1703\n",
    "nombre_exposed        408\n",
    "nombre_recovered    16966\n",
    "Name: 165, dtype: int64"
   ]
  },
  {
   "cell_type": "markdown",
   "id": "6b5f9e2d",
   "metadata": {},
   "source": [
    "nombre_infected       900\n",
    "nombre_sain          1732\n",
    "nombre_exposed        404\n",
    "nombre_recovered    16964\n",
    "Name: 166, dtype: int64"
   ]
  },
  {
   "cell_type": "markdown",
   "id": "44838069",
   "metadata": {},
   "source": [
    "nombre_infected       862\n",
    "nombre_sain          1743\n",
    "nombre_exposed        396\n",
    "nombre_recovered    16999\n",
    "Name: 167, dtype: int64"
   ]
  },
  {
   "cell_type": "markdown",
   "id": "f43f55b5",
   "metadata": {},
   "source": [
    "nombre_infected       854\n",
    "nombre_sain          1757\n",
    "nombre_exposed        385\n",
    "nombre_recovered    17004\n",
    "Name: 168, dtype: int64"
   ]
  },
  {
   "cell_type": "markdown",
   "id": "57dc9b3b",
   "metadata": {},
   "source": [
    "nombre_infected       838\n",
    "nombre_sain          1791\n",
    "nombre_exposed        356\n",
    "nombre_recovered    17015\n",
    "Name: 169, dtype: int64"
   ]
  },
  {
   "cell_type": "markdown",
   "id": "4aab69f8",
   "metadata": {},
   "source": [
    "nombre_infected       805\n",
    "nombre_sain          1829\n",
    "nombre_exposed        343\n",
    "nombre_recovered    17023\n",
    "Name: 170, dtype: int64"
   ]
  },
  {
   "cell_type": "markdown",
   "id": "f2627dee",
   "metadata": {},
   "source": [
    "nombre_infected       773\n",
    "nombre_sain          1855\n",
    "nombre_exposed        349\n",
    "nombre_recovered    17023\n",
    "Name: 171, dtype: int64"
   ]
  },
  {
   "cell_type": "markdown",
   "id": "783c3d7b",
   "metadata": {},
   "source": [
    "nombre_infected       746\n",
    "nombre_sain          1872\n",
    "nombre_exposed        371\n",
    "nombre_recovered    17011\n",
    "Name: 172, dtype: int64"
   ]
  },
  {
   "cell_type": "markdown",
   "id": "c02b0142",
   "metadata": {},
   "source": [
    "nombre_infected       751\n",
    "nombre_sain          1929\n",
    "nombre_exposed        352\n",
    "nombre_recovered    16968\n",
    "Name: 173, dtype: int64"
   ]
  },
  {
   "cell_type": "markdown",
   "id": "16f29d6a",
   "metadata": {},
   "source": [
    "nombre_infected       732\n",
    "nombre_sain          1964\n",
    "nombre_exposed        334\n",
    "nombre_recovered    16970\n",
    "Name: 174, dtype: int64"
   ]
  },
  {
   "cell_type": "markdown",
   "id": "17c39610",
   "metadata": {},
   "source": [
    "nombre_infected       718\n",
    "nombre_sain          2022\n",
    "nombre_exposed        316\n",
    "nombre_recovered    16944\n",
    "Name: 175, dtype: int64"
   ]
  },
  {
   "cell_type": "markdown",
   "id": "4a4b91d2",
   "metadata": {},
   "source": [
    "nombre_infected       700\n",
    "nombre_sain          2073\n",
    "nombre_exposed        289\n",
    "nombre_recovered    16938\n",
    "Name: 176, dtype: int64"
   ]
  },
  {
   "cell_type": "markdown",
   "id": "23aeae50",
   "metadata": {},
   "source": [
    "nombre_infected       650\n",
    "nombre_sain          2130\n",
    "nombre_exposed        288\n",
    "nombre_recovered    16932\n",
    "Name: 177, dtype: int64"
   ]
  },
  {
   "cell_type": "markdown",
   "id": "c7668eaa",
   "metadata": {},
   "source": [
    "nombre_infected       616\n",
    "nombre_sain          2193\n",
    "nombre_exposed        284\n",
    "nombre_recovered    16907\n",
    "Name: 178, dtype: int64"
   ]
  },
  {
   "cell_type": "markdown",
   "id": "95262aa9",
   "metadata": {},
   "source": [
    "nombre_infected       615\n",
    "nombre_sain          2236\n",
    "nombre_exposed        289\n",
    "nombre_recovered    16860\n",
    "Name: 179, dtype: int64"
   ]
  },
  {
   "cell_type": "markdown",
   "id": "176b151d",
   "metadata": {},
   "source": [
    "nombre_infected       586\n",
    "nombre_sain          2267\n",
    "nombre_exposed        303\n",
    "nombre_recovered    16844\n",
    "Name: 180, dtype: int64"
   ]
  },
  {
   "cell_type": "markdown",
   "id": "e8c7f3f9",
   "metadata": {},
   "source": [
    "nombre_infected       558\n",
    "nombre_sain          2315\n",
    "nombre_exposed        317\n",
    "nombre_recovered    16810\n",
    "Name: 181, dtype: int64"
   ]
  },
  {
   "cell_type": "markdown",
   "id": "2f52b70c",
   "metadata": {},
   "source": [
    "nombre_infected       540\n",
    "nombre_sain          2378\n",
    "nombre_exposed        311\n",
    "nombre_recovered    16771\n",
    "Name: 182, dtype: int64"
   ]
  },
  {
   "cell_type": "markdown",
   "id": "16b6085d",
   "metadata": {},
   "source": [
    "nombre_infected       536\n",
    "nombre_sain          2446\n",
    "nombre_exposed        300\n",
    "nombre_recovered    16718\n",
    "Name: 183, dtype: int64"
   ]
  },
  {
   "cell_type": "markdown",
   "id": "a14f408a",
   "metadata": {},
   "source": [
    "nombre_infected       526\n",
    "nombre_sain          2482\n",
    "nombre_exposed        308\n",
    "nombre_recovered    16684\n",
    "Name: 184, dtype: int64"
   ]
  },
  {
   "cell_type": "markdown",
   "id": "2566ac14",
   "metadata": {},
   "source": [
    "nombre_infected       519\n",
    "nombre_sain          2531\n",
    "nombre_exposed        317\n",
    "nombre_recovered    16633\n",
    "Name: 185, dtype: int64"
   ]
  },
  {
   "cell_type": "markdown",
   "id": "507b13bc",
   "metadata": {},
   "source": [
    "nombre_infected       529\n",
    "nombre_sain          2590\n",
    "nombre_exposed        306\n",
    "nombre_recovered    16575\n",
    "Name: 186, dtype: int64"
   ]
  },
  {
   "cell_type": "markdown",
   "id": "c948adbc",
   "metadata": {},
   "source": [
    "nombre_infected       547\n",
    "nombre_sain          2639\n",
    "nombre_exposed        306\n",
    "nombre_recovered    16508\n",
    "Name: 187, dtype: int64"
   ]
  },
  {
   "cell_type": "markdown",
   "id": "0c9988cc",
   "metadata": {},
   "source": [
    "nombre_infected       562\n",
    "nombre_sain          2665\n",
    "nombre_exposed        305\n",
    "nombre_recovered    16468\n",
    "Name: 188, dtype: int64"
   ]
  },
  {
   "cell_type": "markdown",
   "id": "5d10012e",
   "metadata": {},
   "source": [
    "nombre_infected       569\n",
    "nombre_sain          2691\n",
    "nombre_exposed        313\n",
    "nombre_recovered    16427\n",
    "Name: 189, dtype: int64"
   ]
  },
  {
   "cell_type": "markdown",
   "id": "b3036c61",
   "metadata": {},
   "source": [
    "nombre_infected       565\n",
    "nombre_sain          2715\n",
    "nombre_exposed        324\n",
    "nombre_recovered    16396\n",
    "Name: 190, dtype: int64"
   ]
  },
  {
   "cell_type": "markdown",
   "id": "4999e7ac",
   "metadata": {},
   "source": [
    "nombre_infected       570\n",
    "nombre_sain          2726\n",
    "nombre_exposed        343\n",
    "nombre_recovered    16361\n",
    "Name: 191, dtype: int64"
   ]
  },
  {
   "cell_type": "markdown",
   "id": "7c291b45",
   "metadata": {},
   "source": [
    "nombre_infected       584\n",
    "nombre_sain          2740\n",
    "nombre_exposed        352\n",
    "nombre_recovered    16324\n",
    "Name: 192, dtype: int64"
   ]
  },
  {
   "cell_type": "markdown",
   "id": "a9a47ec1",
   "metadata": {},
   "source": [
    "nombre_infected       609\n",
    "nombre_sain          2746\n",
    "nombre_exposed        357\n",
    "nombre_recovered    16288\n",
    "Name: 193, dtype: int64"
   ]
  },
  {
   "cell_type": "markdown",
   "id": "654e239f",
   "metadata": {},
   "source": [
    "nombre_infected       609\n",
    "nombre_sain          2732\n",
    "nombre_exposed        402\n",
    "nombre_recovered    16257\n",
    "Name: 194, dtype: int64"
   ]
  },
  {
   "cell_type": "markdown",
   "id": "1d5dd6df",
   "metadata": {},
   "source": [
    "nombre_infected       599\n",
    "nombre_sain          2722\n",
    "nombre_exposed        416\n",
    "nombre_recovered    16263\n",
    "Name: 195, dtype: int64"
   ]
  },
  {
   "cell_type": "markdown",
   "id": "a064a51f",
   "metadata": {},
   "source": [
    "nombre_infected       616\n",
    "nombre_sain          2773\n",
    "nombre_exposed        411\n",
    "nombre_recovered    16200\n",
    "Name: 196, dtype: int64"
   ]
  },
  {
   "cell_type": "markdown",
   "id": "34b4dcd8",
   "metadata": {},
   "source": [
    "nombre_infected       643\n",
    "nombre_sain          2773\n",
    "nombre_exposed        430\n",
    "nombre_recovered    16154\n",
    "Name: 197, dtype: int64"
   ]
  },
  {
   "cell_type": "markdown",
   "id": "e146d649",
   "metadata": {},
   "source": [
    "nombre_infected       650\n",
    "nombre_sain          2763\n",
    "nombre_exposed        433\n",
    "nombre_recovered    16154\n",
    "Name: 198, dtype: int64"
   ]
  },
  {
   "cell_type": "markdown",
   "id": "44c85f0c",
   "metadata": {},
   "source": [
    "nombre_infected       673\n",
    "nombre_sain          2767\n",
    "nombre_exposed        426\n",
    "nombre_recovered    16134\n",
    "Name: 199, dtype: int64"
   ]
  },
  {
   "cell_type": "markdown",
   "id": "3346786a",
   "metadata": {},
   "source": [
    "nombre_infected       672\n",
    "nombre_sain          2775\n",
    "nombre_exposed        438\n",
    "nombre_recovered    16115\n",
    "Name: 200, dtype: int64"
   ]
  },
  {
   "cell_type": "markdown",
   "id": "4e0e53da",
   "metadata": {},
   "source": [
    "nombre_infected       683\n",
    "nombre_sain          2784\n",
    "nombre_exposed        436\n",
    "nombre_recovered    16097\n",
    "Name: 201, dtype: int64"
   ]
  },
  {
   "cell_type": "markdown",
   "id": "ed60de39",
   "metadata": {},
   "source": [
    "nombre_infected       714\n",
    "nombre_sain          2767\n",
    "nombre_exposed        458\n",
    "nombre_recovered    16061\n",
    "Name: 202, dtype: int64"
   ]
  },
  {
   "cell_type": "markdown",
   "id": "a184b23c",
   "metadata": {},
   "source": [
    "nombre_infected       734\n",
    "nombre_sain          2776\n",
    "nombre_exposed        461\n",
    "nombre_recovered    16029\n",
    "Name: 203, dtype: int64"
   ]
  },
  {
   "cell_type": "markdown",
   "id": "acb9f170",
   "metadata": {},
   "source": [
    "nombre_infected       750\n",
    "nombre_sain          2781\n",
    "nombre_exposed        466\n",
    "nombre_recovered    16003\n",
    "Name: 204, dtype: int64"
   ]
  },
  {
   "cell_type": "markdown",
   "id": "40b34bc5",
   "metadata": {},
   "source": [
    "nombre_infected       780\n",
    "nombre_sain          2789\n",
    "nombre_exposed        460\n",
    "nombre_recovered    15971\n",
    "Name: 205, dtype: int64"
   ]
  },
  {
   "cell_type": "markdown",
   "id": "245cf0bf",
   "metadata": {},
   "source": [
    "nombre_infected       782\n",
    "nombre_sain          2797\n",
    "nombre_exposed        463\n",
    "nombre_recovered    15958\n",
    "Name: 206, dtype: int64"
   ]
  },
  {
   "cell_type": "markdown",
   "id": "a181be33",
   "metadata": {},
   "source": [
    "nombre_infected       772\n",
    "nombre_sain          2759\n",
    "nombre_exposed        497\n",
    "nombre_recovered    15972\n",
    "Name: 207, dtype: int64"
   ]
  },
  {
   "cell_type": "markdown",
   "id": "2650849b",
   "metadata": {},
   "source": [
    "nombre_infected       787\n",
    "nombre_sain          2751\n",
    "nombre_exposed        473\n",
    "nombre_recovered    15989\n",
    "Name: 208, dtype: int64"
   ]
  },
  {
   "cell_type": "markdown",
   "id": "2f8c1189",
   "metadata": {},
   "source": [
    "nombre_infected       816\n",
    "nombre_sain          2723\n",
    "nombre_exposed        500\n",
    "nombre_recovered    15961\n",
    "Name: 209, dtype: int64"
   ]
  },
  {
   "cell_type": "markdown",
   "id": "218cfb6e",
   "metadata": {},
   "source": [
    "nombre_infected       817\n",
    "nombre_sain          2693\n",
    "nombre_exposed        530\n",
    "nombre_recovered    15960\n",
    "Name: 210, dtype: int64"
   ]
  },
  {
   "cell_type": "markdown",
   "id": "1c70003b",
   "metadata": {},
   "source": [
    "nombre_infected       835\n",
    "nombre_sain          2667\n",
    "nombre_exposed        525\n",
    "nombre_recovered    15973\n",
    "Name: 211, dtype: int64"
   ]
  },
  {
   "cell_type": "markdown",
   "id": "55fe67ba",
   "metadata": {},
   "source": [
    "nombre_infected       852\n",
    "nombre_sain          2624\n",
    "nombre_exposed        539\n",
    "nombre_recovered    15985\n",
    "Name: 212, dtype: int64"
   ]
  },
  {
   "cell_type": "markdown",
   "id": "63a25558",
   "metadata": {},
   "source": [
    "nombre_infected       870\n",
    "nombre_sain          2576\n",
    "nombre_exposed        531\n",
    "nombre_recovered    16023\n",
    "Name: 213, dtype: int64"
   ]
  },
  {
   "cell_type": "markdown",
   "id": "97e6c41a",
   "metadata": {},
   "source": [
    "nombre_infected       867\n",
    "nombre_sain          2560\n",
    "nombre_exposed        532\n",
    "nombre_recovered    16041\n",
    "Name: 214, dtype: int64"
   ]
  },
  {
   "cell_type": "markdown",
   "id": "9c50e6d3",
   "metadata": {},
   "source": [
    "nombre_infected       869\n",
    "nombre_sain          2560\n",
    "nombre_exposed        513\n",
    "nombre_recovered    16058\n",
    "Name: 215, dtype: int64"
   ]
  },
  {
   "cell_type": "markdown",
   "id": "e1c8be6f",
   "metadata": {},
   "source": [
    "nombre_infected       883\n",
    "nombre_sain          2528\n",
    "nombre_exposed        509\n",
    "nombre_recovered    16080\n",
    "Name: 216, dtype: int64"
   ]
  },
  {
   "cell_type": "markdown",
   "id": "3ee2bf3f",
   "metadata": {},
   "source": [
    "nombre_infected       884\n",
    "nombre_sain          2534\n",
    "nombre_exposed        506\n",
    "nombre_recovered    16076\n",
    "Name: 217, dtype: int64"
   ]
  },
  {
   "cell_type": "markdown",
   "id": "246a95f8",
   "metadata": {},
   "source": [
    "nombre_infected       878\n",
    "nombre_sain          2527\n",
    "nombre_exposed        495\n",
    "nombre_recovered    16100\n",
    "Name: 218, dtype: int64"
   ]
  },
  {
   "cell_type": "markdown",
   "id": "b28bf2e5",
   "metadata": {},
   "source": [
    "nombre_infected       861\n",
    "nombre_sain          2508\n",
    "nombre_exposed        518\n",
    "nombre_recovered    16113\n",
    "Name: 219, dtype: int64"
   ]
  },
  {
   "cell_type": "markdown",
   "id": "4b4913a8",
   "metadata": {},
   "source": [
    "nombre_infected       870\n",
    "nombre_sain          2501\n",
    "nombre_exposed        521\n",
    "nombre_recovered    16108\n",
    "Name: 220, dtype: int64"
   ]
  },
  {
   "cell_type": "markdown",
   "id": "4fcaf4ed",
   "metadata": {},
   "source": [
    "nombre_infected       851\n",
    "nombre_sain          2505\n",
    "nombre_exposed        522\n",
    "nombre_recovered    16122\n",
    "Name: 221, dtype: int64"
   ]
  },
  {
   "cell_type": "markdown",
   "id": "3a7b3f13",
   "metadata": {},
   "source": [
    "nombre_infected       877\n",
    "nombre_sain          2511\n",
    "nombre_exposed        513\n",
    "nombre_recovered    16099\n",
    "Name: 222, dtype: int64"
   ]
  },
  {
   "cell_type": "markdown",
   "id": "1da216b7",
   "metadata": {},
   "source": [
    "nombre_infected       876\n",
    "nombre_sain          2468\n",
    "nombre_exposed        549\n",
    "nombre_recovered    16107\n",
    "Name: 223, dtype: int64"
   ]
  },
  {
   "cell_type": "markdown",
   "id": "6466bfb8",
   "metadata": {},
   "source": [
    "nombre_infected       866\n",
    "nombre_sain          2477\n",
    "nombre_exposed        550\n",
    "nombre_recovered    16107\n",
    "Name: 224, dtype: int64"
   ]
  },
  {
   "cell_type": "markdown",
   "id": "2417cb18",
   "metadata": {},
   "source": [
    "nombre_infected       876\n",
    "nombre_sain          2499\n",
    "nombre_exposed        537\n",
    "nombre_recovered    16088\n",
    "Name: 225, dtype: int64"
   ]
  },
  {
   "cell_type": "markdown",
   "id": "f7e5efca",
   "metadata": {},
   "source": [
    "nombre_infected       869\n",
    "nombre_sain          2474\n",
    "nombre_exposed        557\n",
    "nombre_recovered    16100\n",
    "Name: 226, dtype: int64"
   ]
  },
  {
   "cell_type": "markdown",
   "id": "1754a766",
   "metadata": {},
   "source": [
    "nombre_infected       893\n",
    "nombre_sain          2462\n",
    "nombre_exposed        551\n",
    "nombre_recovered    16094\n",
    "Name: 227, dtype: int64"
   ]
  },
  {
   "cell_type": "markdown",
   "id": "64b5905b",
   "metadata": {},
   "source": [
    "nombre_infected       907\n",
    "nombre_sain          2454\n",
    "nombre_exposed        550\n",
    "nombre_recovered    16089\n",
    "Name: 228, dtype: int64"
   ]
  },
  {
   "cell_type": "markdown",
   "id": "39b57351",
   "metadata": {},
   "source": [
    "nombre_infected       921\n",
    "nombre_sain          2473\n",
    "nombre_exposed        535\n",
    "nombre_recovered    16071\n",
    "Name: 229, dtype: int64"
   ]
  },
  {
   "cell_type": "markdown",
   "id": "b3232da0",
   "metadata": {},
   "source": [
    "nombre_infected       905\n",
    "nombre_sain          2482\n",
    "nombre_exposed        537\n",
    "nombre_recovered    16076\n",
    "Name: 230, dtype: int64"
   ]
  },
  {
   "cell_type": "markdown",
   "id": "23b1fc6e",
   "metadata": {},
   "source": [
    "nombre_infected       909\n",
    "nombre_sain          2503\n",
    "nombre_exposed        540\n",
    "nombre_recovered    16048\n",
    "Name: 231, dtype: int64"
   ]
  },
  {
   "cell_type": "markdown",
   "id": "40c6ea90",
   "metadata": {},
   "source": [
    "nombre_infected       905\n",
    "nombre_sain          2509\n",
    "nombre_exposed        560\n",
    "nombre_recovered    16026\n",
    "Name: 232, dtype: int64"
   ]
  },
  {
   "cell_type": "markdown",
   "id": "efae7300",
   "metadata": {},
   "source": [
    "nombre_infected       930\n",
    "nombre_sain          2490\n",
    "nombre_exposed        554\n",
    "nombre_recovered    16026\n",
    "Name: 233, dtype: int64"
   ]
  },
  {
   "cell_type": "markdown",
   "id": "0ec03dbb",
   "metadata": {},
   "source": [
    "nombre_infected       936\n",
    "nombre_sain          2491\n",
    "nombre_exposed        544\n",
    "nombre_recovered    16029\n",
    "Name: 234, dtype: int64"
   ]
  },
  {
   "cell_type": "markdown",
   "id": "3be8a980",
   "metadata": {},
   "source": [
    "nombre_infected       948\n",
    "nombre_sain          2479\n",
    "nombre_exposed        556\n",
    "nombre_recovered    16017\n",
    "Name: 235, dtype: int64"
   ]
  },
  {
   "cell_type": "markdown",
   "id": "a56d113f",
   "metadata": {},
   "source": [
    "nombre_infected       935\n",
    "nombre_sain          2475\n",
    "nombre_exposed        560\n",
    "nombre_recovered    16030\n",
    "Name: 236, dtype: int64"
   ]
  },
  {
   "cell_type": "markdown",
   "id": "6181909b",
   "metadata": {},
   "source": [
    "nombre_infected       943\n",
    "nombre_sain          2467\n",
    "nombre_exposed        559\n",
    "nombre_recovered    16031\n",
    "Name: 237, dtype: int64"
   ]
  },
  {
   "cell_type": "markdown",
   "id": "1570e26a",
   "metadata": {},
   "source": [
    "nombre_infected       959\n",
    "nombre_sain          2474\n",
    "nombre_exposed        558\n",
    "nombre_recovered    16009\n",
    "Name: 238, dtype: int64"
   ]
  },
  {
   "cell_type": "markdown",
   "id": "5f8ee312",
   "metadata": {},
   "source": [
    "nombre_infected       954\n",
    "nombre_sain          2492\n",
    "nombre_exposed        557\n",
    "nombre_recovered    15997\n",
    "Name: 239, dtype: int64"
   ]
  },
  {
   "cell_type": "markdown",
   "id": "25e73287",
   "metadata": {},
   "source": [
    "nombre_infected       943\n",
    "nombre_sain          2488\n",
    "nombre_exposed        570\n",
    "nombre_recovered    15999\n",
    "Name: 240, dtype: int64"
   ]
  },
  {
   "cell_type": "markdown",
   "id": "387de502",
   "metadata": {},
   "source": [
    "nombre_infected       936\n",
    "nombre_sain          2488\n",
    "nombre_exposed        588\n",
    "nombre_recovered    15988\n",
    "Name: 241, dtype: int64"
   ]
  },
  {
   "cell_type": "markdown",
   "id": "832cf3a1",
   "metadata": {},
   "source": [
    "nombre_infected       940\n",
    "nombre_sain          2479\n",
    "nombre_exposed        593\n",
    "nombre_recovered    15988\n",
    "Name: 242, dtype: int64"
   ]
  },
  {
   "cell_type": "markdown",
   "id": "746716e8",
   "metadata": {},
   "source": [
    "nombre_infected       906\n",
    "nombre_sain          2485\n",
    "nombre_exposed        588\n",
    "nombre_recovered    16021\n",
    "Name: 243, dtype: int64"
   ]
  },
  {
   "cell_type": "markdown",
   "id": "49657fff",
   "metadata": {},
   "source": [
    "nombre_infected       925\n",
    "nombre_sain          2470\n",
    "nombre_exposed        598\n",
    "nombre_recovered    16007\n",
    "Name: 244, dtype: int64"
   ]
  },
  {
   "cell_type": "markdown",
   "id": "0c6a441f",
   "metadata": {},
   "source": [
    "nombre_infected       919\n",
    "nombre_sain          2461\n",
    "nombre_exposed        621\n",
    "nombre_recovered    15999\n",
    "Name: 245, dtype: int64"
   ]
  },
  {
   "cell_type": "markdown",
   "id": "0dddddc1",
   "metadata": {},
   "source": [
    "nombre_infected       919\n",
    "nombre_sain          2477\n",
    "nombre_exposed        616\n",
    "nombre_recovered    15988\n",
    "Name: 246, dtype: int64"
   ]
  },
  {
   "cell_type": "markdown",
   "id": "956a184c",
   "metadata": {},
   "source": [
    "nombre_infected       913\n",
    "nombre_sain          2482\n",
    "nombre_exposed        616\n",
    "nombre_recovered    15989\n",
    "Name: 247, dtype: int64"
   ]
  },
  {
   "cell_type": "markdown",
   "id": "cd42b10b",
   "metadata": {},
   "source": [
    "nombre_infected       945\n",
    "nombre_sain          2498\n",
    "nombre_exposed        589\n",
    "nombre_recovered    15968\n",
    "Name: 248, dtype: int64"
   ]
  },
  {
   "cell_type": "markdown",
   "id": "5d8c2a62",
   "metadata": {},
   "source": [
    "nombre_infected       937\n",
    "nombre_sain          2500\n",
    "nombre_exposed        584\n",
    "nombre_recovered    15979\n",
    "Name: 249, dtype: int64"
   ]
  },
  {
   "cell_type": "markdown",
   "id": "6f5d75ed",
   "metadata": {},
   "source": [
    "nombre_infected       949\n",
    "nombre_sain          2487\n",
    "nombre_exposed        602\n",
    "nombre_recovered    15962\n",
    "Name: 250, dtype: int64"
   ]
  },
  {
   "cell_type": "markdown",
   "id": "a3a561b5",
   "metadata": {},
   "source": [
    "nombre_infected       945\n",
    "nombre_sain          2483\n",
    "nombre_exposed        607\n",
    "nombre_recovered    15965\n",
    "Name: 251, dtype: int64"
   ]
  },
  {
   "cell_type": "markdown",
   "id": "d399841f",
   "metadata": {},
   "source": [
    "nombre_infected       956\n",
    "nombre_sain          2468\n",
    "nombre_exposed        620\n",
    "nombre_recovered    15956\n",
    "Name: 252, dtype: int64"
   ]
  },
  {
   "cell_type": "markdown",
   "id": "f3b7643c",
   "metadata": {},
   "source": [
    "nombre_infected       982\n",
    "nombre_sain          2471\n",
    "nombre_exposed        617\n",
    "nombre_recovered    15930\n",
    "Name: 253, dtype: int64"
   ]
  },
  {
   "cell_type": "markdown",
   "id": "001e0a50",
   "metadata": {},
   "source": [
    "nombre_infected       957\n",
    "nombre_sain          2440\n",
    "nombre_exposed        644\n",
    "nombre_recovered    15959\n",
    "Name: 254, dtype: int64"
   ]
  },
  {
   "cell_type": "markdown",
   "id": "9374d506",
   "metadata": {},
   "source": [
    "nombre_infected       974\n",
    "nombre_sain          2427\n",
    "nombre_exposed        639\n",
    "nombre_recovered    15960\n",
    "Name: 255, dtype: int64"
   ]
  },
  {
   "cell_type": "markdown",
   "id": "2608ad1b",
   "metadata": {},
   "source": [
    "nombre_infected       992\n",
    "nombre_sain          2420\n",
    "nombre_exposed        624\n",
    "nombre_recovered    15964\n",
    "Name: 256, dtype: int64"
   ]
  },
  {
   "cell_type": "markdown",
   "id": "3562a5ec",
   "metadata": {},
   "source": [
    "nombre_infected       979\n",
    "nombre_sain          2431\n",
    "nombre_exposed        618\n",
    "nombre_recovered    15972\n",
    "Name: 257, dtype: int64"
   ]
  },
  {
   "cell_type": "markdown",
   "id": "6744a5cb",
   "metadata": {},
   "source": [
    "nombre_infected       981\n",
    "nombre_sain          2419\n",
    "nombre_exposed        602\n",
    "nombre_recovered    15998\n",
    "Name: 258, dtype: int64"
   ]
  },
  {
   "cell_type": "markdown",
   "id": "e5a28c2f",
   "metadata": {},
   "source": [
    "nombre_infected      1002\n",
    "nombre_sain          2412\n",
    "nombre_exposed        604\n",
    "nombre_recovered    15982\n",
    "Name: 259, dtype: int64"
   ]
  },
  {
   "cell_type": "markdown",
   "id": "1bf91653",
   "metadata": {},
   "source": [
    "nombre_infected      1002\n",
    "nombre_sain          2366\n",
    "nombre_exposed        632\n",
    "nombre_recovered    16000\n",
    "Name: 260, dtype: int64"
   ]
  },
  {
   "cell_type": "markdown",
   "id": "fac78ad6",
   "metadata": {},
   "source": [
    "nombre_infected      1011\n",
    "nombre_sain          2349\n",
    "nombre_exposed        631\n",
    "nombre_recovered    16009\n",
    "Name: 261, dtype: int64"
   ]
  },
  {
   "cell_type": "markdown",
   "id": "347e5d3a",
   "metadata": {},
   "source": [
    "nombre_infected      1011\n",
    "nombre_sain          2350\n",
    "nombre_exposed        627\n",
    "nombre_recovered    16012\n",
    "Name: 262, dtype: int64"
   ]
  },
  {
   "cell_type": "markdown",
   "id": "d18c1080",
   "metadata": {},
   "source": [
    "nombre_infected      1003\n",
    "nombre_sain          2329\n",
    "nombre_exposed        628\n",
    "nombre_recovered    16040\n",
    "Name: 263, dtype: int64"
   ]
  },
  {
   "cell_type": "markdown",
   "id": "1470e7bd",
   "metadata": {},
   "source": [
    "nombre_infected      1026\n",
    "nombre_sain          2342\n",
    "nombre_exposed        594\n",
    "nombre_recovered    16038\n",
    "Name: 264, dtype: int64"
   ]
  },
  {
   "cell_type": "markdown",
   "id": "e9b57b66",
   "metadata": {},
   "source": [
    "nombre_infected      1027\n",
    "nombre_sain          2312\n",
    "nombre_exposed        603\n",
    "nombre_recovered    16058\n",
    "Name: 265, dtype: int64"
   ]
  },
  {
   "cell_type": "markdown",
   "id": "adb223de",
   "metadata": {},
   "source": [
    "nombre_infected      1004\n",
    "nombre_sain          2303\n",
    "nombre_exposed        620\n",
    "nombre_recovered    16073\n",
    "Name: 266, dtype: int64"
   ]
  },
  {
   "cell_type": "markdown",
   "id": "9e433942",
   "metadata": {},
   "source": [
    "nombre_infected      1017\n",
    "nombre_sain          2336\n",
    "nombre_exposed        591\n",
    "nombre_recovered    16056\n",
    "Name: 267, dtype: int64"
   ]
  },
  {
   "cell_type": "markdown",
   "id": "5e0379dc",
   "metadata": {},
   "source": [
    "nombre_infected      1040\n",
    "nombre_sain          2346\n",
    "nombre_exposed        569\n",
    "nombre_recovered    16045\n",
    "Name: 268, dtype: int64"
   ]
  },
  {
   "cell_type": "markdown",
   "id": "00ce1a94",
   "metadata": {},
   "source": [
    "nombre_infected      1073\n",
    "nombre_sain          2311\n",
    "nombre_exposed        577\n",
    "nombre_recovered    16039\n",
    "Name: 269, dtype: int64"
   ]
  },
  {
   "cell_type": "markdown",
   "id": "2c73552f",
   "metadata": {},
   "source": [
    "nombre_infected      1054\n",
    "nombre_sain          2315\n",
    "nombre_exposed        593\n",
    "nombre_recovered    16038\n",
    "Name: 270, dtype: int64"
   ]
  },
  {
   "cell_type": "markdown",
   "id": "253ac1a1",
   "metadata": {},
   "source": [
    "nombre_infected      1056\n",
    "nombre_sain          2300\n",
    "nombre_exposed        604\n",
    "nombre_recovered    16040\n",
    "Name: 271, dtype: int64"
   ]
  },
  {
   "cell_type": "markdown",
   "id": "26286f3e",
   "metadata": {},
   "source": [
    "nombre_infected      1047\n",
    "nombre_sain          2298\n",
    "nombre_exposed        595\n",
    "nombre_recovered    16060\n",
    "Name: 272, dtype: int64"
   ]
  },
  {
   "cell_type": "markdown",
   "id": "6c496a67",
   "metadata": {},
   "source": [
    "nombre_infected      1069\n",
    "nombre_sain          2290\n",
    "nombre_exposed        600\n",
    "nombre_recovered    16041\n",
    "Name: 273, dtype: int64"
   ]
  },
  {
   "cell_type": "markdown",
   "id": "1560bbde",
   "metadata": {},
   "source": [
    "nombre_infected      1069\n",
    "nombre_sain          2257\n",
    "nombre_exposed        627\n",
    "nombre_recovered    16047\n",
    "Name: 274, dtype: int64"
   ]
  },
  {
   "cell_type": "markdown",
   "id": "c0d8db6b",
   "metadata": {},
   "source": [
    "nombre_infected      1058\n",
    "nombre_sain          2267\n",
    "nombre_exposed        628\n",
    "nombre_recovered    16047\n",
    "Name: 275, dtype: int64"
   ]
  },
  {
   "cell_type": "markdown",
   "id": "b61f09f2",
   "metadata": {},
   "source": [
    "nombre_infected      1096\n",
    "nombre_sain          2261\n",
    "nombre_exposed        616\n",
    "nombre_recovered    16027\n",
    "Name: 276, dtype: int64"
   ]
  },
  {
   "cell_type": "markdown",
   "id": "2bb3e986",
   "metadata": {},
   "source": [
    "nombre_infected      1120\n",
    "nombre_sain          2248\n",
    "nombre_exposed        611\n",
    "nombre_recovered    16021\n",
    "Name: 277, dtype: int64"
   ]
  },
  {
   "cell_type": "markdown",
   "id": "0c163039",
   "metadata": {},
   "source": [
    "nombre_infected      1133\n",
    "nombre_sain          2234\n",
    "nombre_exposed        626\n",
    "nombre_recovered    16007\n",
    "Name: 278, dtype: int64"
   ]
  },
  {
   "cell_type": "markdown",
   "id": "1c65636b",
   "metadata": {},
   "source": [
    "nombre_infected      1105\n",
    "nombre_sain          2211\n",
    "nombre_exposed        636\n",
    "nombre_recovered    16048\n",
    "Name: 279, dtype: int64"
   ]
  },
  {
   "cell_type": "markdown",
   "id": "ecf0ba24",
   "metadata": {},
   "source": [
    "nombre_infected      1086\n",
    "nombre_sain          2217\n",
    "nombre_exposed        641\n",
    "nombre_recovered    16056\n",
    "Name: 280, dtype: int64"
   ]
  },
  {
   "cell_type": "markdown",
   "id": "8b648d40",
   "metadata": {},
   "source": [
    "nombre_infected      1094\n",
    "nombre_sain          2222\n",
    "nombre_exposed        651\n",
    "nombre_recovered    16033\n",
    "Name: 281, dtype: int64"
   ]
  },
  {
   "cell_type": "markdown",
   "id": "9b258747",
   "metadata": {},
   "source": [
    "nombre_infected      1120\n",
    "nombre_sain          2200\n",
    "nombre_exposed        659\n",
    "nombre_recovered    16021\n",
    "Name: 282, dtype: int64"
   ]
  },
  {
   "cell_type": "markdown",
   "id": "0d60e5cc",
   "metadata": {},
   "source": [
    "nombre_infected      1142\n",
    "nombre_sain          2186\n",
    "nombre_exposed        648\n",
    "nombre_recovered    16024\n",
    "Name: 283, dtype: int64"
   ]
  },
  {
   "cell_type": "markdown",
   "id": "184ab34b",
   "metadata": {},
   "source": [
    "nombre_infected      1159\n",
    "nombre_sain          2163\n",
    "nombre_exposed        648\n",
    "nombre_recovered    16030\n",
    "Name: 284, dtype: int64"
   ]
  },
  {
   "cell_type": "markdown",
   "id": "9693666a",
   "metadata": {},
   "source": [
    "nombre_infected      1160\n",
    "nombre_sain          2138\n",
    "nombre_exposed        645\n",
    "nombre_recovered    16057\n",
    "Name: 285, dtype: int64"
   ]
  },
  {
   "cell_type": "markdown",
   "id": "d80f984b",
   "metadata": {},
   "source": [
    "nombre_infected      1166\n",
    "nombre_sain          2125\n",
    "nombre_exposed        624\n",
    "nombre_recovered    16085\n",
    "Name: 286, dtype: int64"
   ]
  },
  {
   "cell_type": "markdown",
   "id": "a2d06662",
   "metadata": {},
   "source": [
    "nombre_infected      1196\n",
    "nombre_sain          2118\n",
    "nombre_exposed        609\n",
    "nombre_recovered    16077\n",
    "Name: 287, dtype: int64"
   ]
  },
  {
   "cell_type": "markdown",
   "id": "d463e2e0",
   "metadata": {},
   "source": [
    "nombre_infected      1187\n",
    "nombre_sain          2075\n",
    "nombre_exposed        626\n",
    "nombre_recovered    16112\n",
    "Name: 288, dtype: int64"
   ]
  },
  {
   "cell_type": "markdown",
   "id": "55675653",
   "metadata": {},
   "source": [
    "nombre_infected      1170\n",
    "nombre_sain          2071\n",
    "nombre_exposed        620\n",
    "nombre_recovered    16139\n",
    "Name: 289, dtype: int64"
   ]
  },
  {
   "cell_type": "markdown",
   "id": "9bc2cfe6",
   "metadata": {},
   "source": [
    "nombre_infected      1160\n",
    "nombre_sain          2081\n",
    "nombre_exposed        613\n",
    "nombre_recovered    16146\n",
    "Name: 290, dtype: int64"
   ]
  },
  {
   "cell_type": "markdown",
   "id": "059b83e3",
   "metadata": {},
   "source": [
    "nombre_infected      1158\n",
    "nombre_sain          2060\n",
    "nombre_exposed        613\n",
    "nombre_recovered    16169\n",
    "Name: 291, dtype: int64"
   ]
  },
  {
   "cell_type": "markdown",
   "id": "31928b59",
   "metadata": {},
   "source": [
    "nombre_infected      1133\n",
    "nombre_sain          2045\n",
    "nombre_exposed        621\n",
    "nombre_recovered    16201\n",
    "Name: 292, dtype: int64"
   ]
  },
  {
   "cell_type": "markdown",
   "id": "2a76204e",
   "metadata": {},
   "source": [
    "nombre_infected      1129\n",
    "nombre_sain          2012\n",
    "nombre_exposed        628\n",
    "nombre_recovered    16231\n",
    "Name: 293, dtype: int64"
   ]
  },
  {
   "cell_type": "markdown",
   "id": "f9edc0b8",
   "metadata": {},
   "source": [
    "nombre_infected      1123\n",
    "nombre_sain          1980\n",
    "nombre_exposed        632\n",
    "nombre_recovered    16265\n",
    "Name: 294, dtype: int64"
   ]
  },
  {
   "cell_type": "markdown",
   "id": "c5b4eed7",
   "metadata": {},
   "source": [
    "nombre_infected      1141\n",
    "nombre_sain          1984\n",
    "nombre_exposed        589\n",
    "nombre_recovered    16286\n",
    "Name: 295, dtype: int64"
   ]
  },
  {
   "cell_type": "markdown",
   "id": "ce4f7150",
   "metadata": {},
   "source": [
    "nombre_infected      1114\n",
    "nombre_sain          1947\n",
    "nombre_exposed        612\n",
    "nombre_recovered    16327\n",
    "Name: 296, dtype: int64"
   ]
  },
  {
   "cell_type": "markdown",
   "id": "0fd98c03",
   "metadata": {},
   "source": [
    "nombre_infected      1088\n",
    "nombre_sain          1958\n",
    "nombre_exposed        598\n",
    "nombre_recovered    16356\n",
    "Name: 297, dtype: int64"
   ]
  },
  {
   "cell_type": "markdown",
   "id": "71f7bd80",
   "metadata": {},
   "source": [
    "nombre_infected      1097\n",
    "nombre_sain          1970\n",
    "nombre_exposed        562\n",
    "nombre_recovered    16371\n",
    "Name: 298, dtype: int64"
   ]
  },
  {
   "cell_type": "markdown",
   "id": "e40def26",
   "metadata": {},
   "source": [
    "nombre_infected      1086\n",
    "nombre_sain          1964\n",
    "nombre_exposed        551\n",
    "nombre_recovered    16399\n",
    "Name: 299, dtype: int64"
   ]
  },
  {
   "cell_type": "markdown",
   "id": "c9faf79d",
   "metadata": {},
   "source": [
    "nombre_infected      1069\n",
    "nombre_sain          1967\n",
    "nombre_exposed        536\n",
    "nombre_recovered    16428\n",
    "Name: 300, dtype: int64"
   ]
  },
  {
   "cell_type": "markdown",
   "id": "1df2a07d",
   "metadata": {},
   "source": [
    "nombre_infected      1041\n",
    "nombre_sain          1971\n",
    "nombre_exposed        523\n",
    "nombre_recovered    16465\n",
    "Name: 301, dtype: int64"
   ]
  },
  {
   "cell_type": "markdown",
   "id": "00c77619",
   "metadata": {},
   "source": [
    "nombre_infected      1015\n",
    "nombre_sain          2005\n",
    "nombre_exposed        484\n",
    "nombre_recovered    16496\n",
    "Name: 302, dtype: int64"
   ]
  },
  {
   "cell_type": "markdown",
   "id": "526dd58d",
   "metadata": {},
   "source": [
    "nombre_infected       973\n",
    "nombre_sain          2003\n",
    "nombre_exposed        492\n",
    "nombre_recovered    16532\n",
    "Name: 303, dtype: int64"
   ]
  },
  {
   "cell_type": "markdown",
   "id": "e498ab9d",
   "metadata": {},
   "source": [
    "nombre_infected       966\n",
    "nombre_sain          2000\n",
    "nombre_exposed        475\n",
    "nombre_recovered    16559\n",
    "Name: 304, dtype: int64"
   ]
  },
  {
   "cell_type": "markdown",
   "id": "878d34f5",
   "metadata": {},
   "source": [
    "nombre_infected       936\n",
    "nombre_sain          1987\n",
    "nombre_exposed        500\n",
    "nombre_recovered    16577\n",
    "Name: 305, dtype: int64"
   ]
  },
  {
   "cell_type": "markdown",
   "id": "66e63dff",
   "metadata": {},
   "source": [
    "nombre_infected       909\n",
    "nombre_sain          1986\n",
    "nombre_exposed        497\n",
    "nombre_recovered    16608\n",
    "Name: 306, dtype: int64"
   ]
  },
  {
   "cell_type": "markdown",
   "id": "2680fa00",
   "metadata": {},
   "source": [
    "nombre_infected       881\n",
    "nombre_sain          1996\n",
    "nombre_exposed        472\n",
    "nombre_recovered    16651\n",
    "Name: 307, dtype: int64"
   ]
  },
  {
   "cell_type": "markdown",
   "id": "a6a5be3f",
   "metadata": {},
   "source": [
    "nombre_infected       865\n",
    "nombre_sain          2014\n",
    "nombre_exposed        461\n",
    "nombre_recovered    16660\n",
    "Name: 308, dtype: int64"
   ]
  },
  {
   "cell_type": "markdown",
   "id": "dc020bb8",
   "metadata": {},
   "source": [
    "nombre_infected       868\n",
    "nombre_sain          2017\n",
    "nombre_exposed        452\n",
    "nombre_recovered    16663\n",
    "Name: 309, dtype: int64"
   ]
  },
  {
   "cell_type": "markdown",
   "id": "465caa0f",
   "metadata": {},
   "source": [
    "nombre_infected       843\n",
    "nombre_sain          2025\n",
    "nombre_exposed        465\n",
    "nombre_recovered    16667\n",
    "Name: 310, dtype: int64"
   ]
  },
  {
   "cell_type": "markdown",
   "id": "9629685a",
   "metadata": {},
   "source": [
    "nombre_infected       856\n",
    "nombre_sain          2022\n",
    "nombre_exposed        452\n",
    "nombre_recovered    16670\n",
    "Name: 311, dtype: int64"
   ]
  },
  {
   "cell_type": "markdown",
   "id": "e32a9bae",
   "metadata": {},
   "source": [
    "nombre_infected       819\n",
    "nombre_sain          2030\n",
    "nombre_exposed        461\n",
    "nombre_recovered    16690\n",
    "Name: 312, dtype: int64"
   ]
  },
  {
   "cell_type": "markdown",
   "id": "97cf8cd3",
   "metadata": {},
   "source": [
    "nombre_infected       804\n",
    "nombre_sain          2055\n",
    "nombre_exposed        446\n",
    "nombre_recovered    16695\n",
    "Name: 313, dtype: int64"
   ]
  },
  {
   "cell_type": "markdown",
   "id": "87a754b0",
   "metadata": {},
   "source": [
    "nombre_infected       787\n",
    "nombre_sain          2073\n",
    "nombre_exposed        441\n",
    "nombre_recovered    16699\n",
    "Name: 314, dtype: int64"
   ]
  },
  {
   "cell_type": "markdown",
   "id": "bc940f6e",
   "metadata": {},
   "source": [
    "nombre_infected       777\n",
    "nombre_sain          2066\n",
    "nombre_exposed        444\n",
    "nombre_recovered    16713\n",
    "Name: 315, dtype: int64"
   ]
  },
  {
   "cell_type": "markdown",
   "id": "c24b9f6e",
   "metadata": {},
   "source": [
    "nombre_infected       798\n",
    "nombre_sain          2078\n",
    "nombre_exposed        425\n",
    "nombre_recovered    16699\n",
    "Name: 316, dtype: int64"
   ]
  },
  {
   "cell_type": "markdown",
   "id": "249a9d17",
   "metadata": {},
   "source": [
    "nombre_infected       777\n",
    "nombre_sain          2086\n",
    "nombre_exposed        447\n",
    "nombre_recovered    16690\n",
    "Name: 317, dtype: int64"
   ]
  },
  {
   "cell_type": "markdown",
   "id": "ba5e25c5",
   "metadata": {},
   "source": [
    "nombre_infected       785\n",
    "nombre_sain          2080\n",
    "nombre_exposed        445\n",
    "nombre_recovered    16690\n",
    "Name: 318, dtype: int64"
   ]
  },
  {
   "cell_type": "markdown",
   "id": "ec369d25",
   "metadata": {},
   "source": [
    "nombre_infected       769\n",
    "nombre_sain          2089\n",
    "nombre_exposed        462\n",
    "nombre_recovered    16680\n",
    "Name: 319, dtype: int64"
   ]
  },
  {
   "cell_type": "markdown",
   "id": "39a17e57",
   "metadata": {},
   "source": [
    "nombre_infected       765\n",
    "nombre_sain          2085\n",
    "nombre_exposed        468\n",
    "nombre_recovered    16682\n",
    "Name: 320, dtype: int64"
   ]
  },
  {
   "cell_type": "markdown",
   "id": "228f9106",
   "metadata": {},
   "source": [
    "nombre_infected       762\n",
    "nombre_sain          2107\n",
    "nombre_exposed        447\n",
    "nombre_recovered    16684\n",
    "Name: 321, dtype: int64"
   ]
  },
  {
   "cell_type": "markdown",
   "id": "d3766193",
   "metadata": {},
   "source": [
    "nombre_infected       762\n",
    "nombre_sain          2106\n",
    "nombre_exposed        442\n",
    "nombre_recovered    16690\n",
    "Name: 322, dtype: int64"
   ]
  },
  {
   "cell_type": "markdown",
   "id": "8c78aa55",
   "metadata": {},
   "source": [
    "nombre_infected       742\n",
    "nombre_sain          2144\n",
    "nombre_exposed        457\n",
    "nombre_recovered    16657\n",
    "Name: 323, dtype: int64"
   ]
  },
  {
   "cell_type": "markdown",
   "id": "9f0b7105",
   "metadata": {},
   "source": [
    "nombre_infected       738\n",
    "nombre_sain          2158\n",
    "nombre_exposed        445\n",
    "nombre_recovered    16659\n",
    "Name: 324, dtype: int64"
   ]
  },
  {
   "cell_type": "markdown",
   "id": "7e0f6bd4",
   "metadata": {},
   "source": [
    "nombre_infected       732\n",
    "nombre_sain          2173\n",
    "nombre_exposed        449\n",
    "nombre_recovered    16646\n",
    "Name: 325, dtype: int64"
   ]
  },
  {
   "cell_type": "markdown",
   "id": "4e496c5a",
   "metadata": {},
   "source": [
    "nombre_infected       715\n",
    "nombre_sain          2178\n",
    "nombre_exposed        451\n",
    "nombre_recovered    16656\n",
    "Name: 326, dtype: int64"
   ]
  },
  {
   "cell_type": "markdown",
   "id": "e791b5e6",
   "metadata": {},
   "source": [
    "nombre_infected       715\n",
    "nombre_sain          2204\n",
    "nombre_exposed        448\n",
    "nombre_recovered    16633\n",
    "Name: 327, dtype: int64"
   ]
  },
  {
   "cell_type": "markdown",
   "id": "872e8f2f",
   "metadata": {},
   "source": [
    "nombre_infected       705\n",
    "nombre_sain          2224\n",
    "nombre_exposed        447\n",
    "nombre_recovered    16624\n",
    "Name: 328, dtype: int64"
   ]
  },
  {
   "cell_type": "markdown",
   "id": "201b13bd",
   "metadata": {},
   "source": [
    "nombre_infected       715\n",
    "nombre_sain          2255\n",
    "nombre_exposed        424\n",
    "nombre_recovered    16606\n",
    "Name: 329, dtype: int64"
   ]
  },
  {
   "cell_type": "markdown",
   "id": "33186a16",
   "metadata": {},
   "source": [
    "nombre_infected       724\n",
    "nombre_sain          2255\n",
    "nombre_exposed        419\n",
    "nombre_recovered    16602\n",
    "Name: 330, dtype: int64"
   ]
  },
  {
   "cell_type": "markdown",
   "id": "ccad2a35",
   "metadata": {},
   "source": [
    "nombre_infected       716\n",
    "nombre_sain          2286\n",
    "nombre_exposed        423\n",
    "nombre_recovered    16575\n",
    "Name: 331, dtype: int64"
   ]
  },
  {
   "cell_type": "markdown",
   "id": "13c531f4",
   "metadata": {},
   "source": [
    "nombre_infected       715\n",
    "nombre_sain          2319\n",
    "nombre_exposed        418\n",
    "nombre_recovered    16548\n",
    "Name: 332, dtype: int64"
   ]
  },
  {
   "cell_type": "markdown",
   "id": "1fec41f2",
   "metadata": {},
   "source": [
    "nombre_infected       695\n",
    "nombre_sain          2350\n",
    "nombre_exposed        432\n",
    "nombre_recovered    16523\n",
    "Name: 333, dtype: int64"
   ]
  },
  {
   "cell_type": "markdown",
   "id": "949d00dc",
   "metadata": {},
   "source": [
    "nombre_infected       696\n",
    "nombre_sain          2404\n",
    "nombre_exposed        428\n",
    "nombre_recovered    16472\n",
    "Name: 334, dtype: int64"
   ]
  },
  {
   "cell_type": "markdown",
   "id": "177d34b5",
   "metadata": {},
   "source": [
    "nombre_infected       692\n",
    "nombre_sain          2445\n",
    "nombre_exposed        425\n",
    "nombre_recovered    16438\n",
    "Name: 335, dtype: int64"
   ]
  },
  {
   "cell_type": "markdown",
   "id": "990e6525",
   "metadata": {},
   "source": [
    "nombre_infected       706\n",
    "nombre_sain          2459\n",
    "nombre_exposed        426\n",
    "nombre_recovered    16409\n",
    "Name: 336, dtype: int64"
   ]
  },
  {
   "cell_type": "markdown",
   "id": "e6072eb0",
   "metadata": {},
   "source": [
    "nombre_infected       718\n",
    "nombre_sain          2477\n",
    "nombre_exposed        435\n",
    "nombre_recovered    16370\n",
    "Name: 337, dtype: int64"
   ]
  },
  {
   "cell_type": "markdown",
   "id": "5efe7978",
   "metadata": {},
   "source": [
    "nombre_infected       698\n",
    "nombre_sain          2505\n",
    "nombre_exposed        454\n",
    "nombre_recovered    16343\n",
    "Name: 338, dtype: int64"
   ]
  },
  {
   "cell_type": "markdown",
   "id": "5920c233",
   "metadata": {},
   "source": [
    "nombre_infected       685\n",
    "nombre_sain          2528\n",
    "nombre_exposed        453\n",
    "nombre_recovered    16334\n",
    "Name: 339, dtype: int64"
   ]
  },
  {
   "cell_type": "markdown",
   "id": "2ee1a72c",
   "metadata": {},
   "source": [
    "nombre_infected       690\n",
    "nombre_sain          2542\n",
    "nombre_exposed        449\n",
    "nombre_recovered    16319\n",
    "Name: 340, dtype: int64"
   ]
  },
  {
   "cell_type": "markdown",
   "id": "3c8a4252",
   "metadata": {},
   "source": [
    "nombre_infected       713\n",
    "nombre_sain          2552\n",
    "nombre_exposed        433\n",
    "nombre_recovered    16302\n",
    "Name: 341, dtype: int64"
   ]
  },
  {
   "cell_type": "markdown",
   "id": "4caf8667",
   "metadata": {},
   "source": [
    "nombre_infected       702\n",
    "nombre_sain          2612\n",
    "nombre_exposed        437\n",
    "nombre_recovered    16249\n",
    "Name: 342, dtype: int64"
   ]
  },
  {
   "cell_type": "markdown",
   "id": "d37d637b",
   "metadata": {},
   "source": [
    "nombre_infected       701\n",
    "nombre_sain          2619\n",
    "nombre_exposed        463\n",
    "nombre_recovered    16217\n",
    "Name: 343, dtype: int64"
   ]
  },
  {
   "cell_type": "markdown",
   "id": "1fb4acf2",
   "metadata": {},
   "source": [
    "nombre_infected       693\n",
    "nombre_sain          2658\n",
    "nombre_exposed        477\n",
    "nombre_recovered    16172\n",
    "Name: 344, dtype: int64"
   ]
  },
  {
   "cell_type": "markdown",
   "id": "411f61e0",
   "metadata": {},
   "source": [
    "nombre_infected       704\n",
    "nombre_sain          2682\n",
    "nombre_exposed        493\n",
    "nombre_recovered    16121\n",
    "Name: 345, dtype: int64"
   ]
  },
  {
   "cell_type": "markdown",
   "id": "aecdc13f",
   "metadata": {},
   "source": [
    "nombre_infected       703\n",
    "nombre_sain          2681\n",
    "nombre_exposed        515\n",
    "nombre_recovered    16101\n",
    "Name: 346, dtype: int64"
   ]
  },
  {
   "cell_type": "markdown",
   "id": "6009fa9f",
   "metadata": {},
   "source": [
    "nombre_infected       704\n",
    "nombre_sain          2714\n",
    "nombre_exposed        531\n",
    "nombre_recovered    16051\n",
    "Name: 347, dtype: int64"
   ]
  },
  {
   "cell_type": "markdown",
   "id": "062a5b96",
   "metadata": {},
   "source": [
    "nombre_infected       728\n",
    "nombre_sain          2724\n",
    "nombre_exposed        535\n",
    "nombre_recovered    16013\n",
    "Name: 348, dtype: int64"
   ]
  },
  {
   "cell_type": "markdown",
   "id": "ca1a6b76",
   "metadata": {},
   "source": [
    "nombre_infected       731\n",
    "nombre_sain          2746\n",
    "nombre_exposed        555\n",
    "nombre_recovered    15968\n",
    "Name: 349, dtype: int64"
   ]
  },
  {
   "cell_type": "markdown",
   "id": "ac5ecd29",
   "metadata": {},
   "source": [
    "nombre_infected       732\n",
    "nombre_sain          2774\n",
    "nombre_exposed        563\n",
    "nombre_recovered    15931\n",
    "Name: 350, dtype: int64"
   ]
  },
  {
   "cell_type": "markdown",
   "id": "e4ac2c92",
   "metadata": {},
   "source": [
    "nombre_infected       773\n",
    "nombre_sain          2790\n",
    "nombre_exposed        524\n",
    "nombre_recovered    15913\n",
    "Name: 351, dtype: int64"
   ]
  },
  {
   "cell_type": "markdown",
   "id": "3d5d7529",
   "metadata": {},
   "source": [
    "nombre_infected       771\n",
    "nombre_sain          2793\n",
    "nombre_exposed        552\n",
    "nombre_recovered    15884\n",
    "Name: 352, dtype: int64"
   ]
  },
  {
   "cell_type": "markdown",
   "id": "68b52fd8",
   "metadata": {},
   "source": [
    "nombre_infected       793\n",
    "nombre_sain          2817\n",
    "nombre_exposed        549\n",
    "nombre_recovered    15841\n",
    "Name: 353, dtype: int64"
   ]
  },
  {
   "cell_type": "markdown",
   "id": "835df8e4",
   "metadata": {},
   "source": [
    "nombre_infected       810\n",
    "nombre_sain          2846\n",
    "nombre_exposed        563\n",
    "nombre_recovered    15781\n",
    "Name: 354, dtype: int64"
   ]
  },
  {
   "cell_type": "markdown",
   "id": "8826187e",
   "metadata": {},
   "source": [
    "nombre_infected       801\n",
    "nombre_sain          2857\n",
    "nombre_exposed        587\n",
    "nombre_recovered    15755\n",
    "Name: 355, dtype: int64"
   ]
  },
  {
   "cell_type": "markdown",
   "id": "9ad004fa",
   "metadata": {},
   "source": [
    "nombre_infected       821\n",
    "nombre_sain          2859\n",
    "nombre_exposed        589\n",
    "nombre_recovered    15731\n",
    "Name: 356, dtype: int64"
   ]
  },
  {
   "cell_type": "markdown",
   "id": "15a9d1a9",
   "metadata": {},
   "source": [
    "nombre_infected       835\n",
    "nombre_sain          2889\n",
    "nombre_exposed        576\n",
    "nombre_recovered    15700\n",
    "Name: 357, dtype: int64"
   ]
  },
  {
   "cell_type": "markdown",
   "id": "4b97d9e3",
   "metadata": {},
   "source": [
    "nombre_infected       860\n",
    "nombre_sain          2885\n",
    "nombre_exposed        588\n",
    "nombre_recovered    15667\n",
    "Name: 358, dtype: int64"
   ]
  },
  {
   "cell_type": "markdown",
   "id": "858a21fa",
   "metadata": {},
   "source": [
    "nombre_infected       845\n",
    "nombre_sain          2858\n",
    "nombre_exposed        643\n",
    "nombre_recovered    15654\n",
    "Name: 359, dtype: int64"
   ]
  },
  {
   "cell_type": "markdown",
   "id": "acac9644",
   "metadata": {},
   "source": [
    "nombre_infected       866\n",
    "nombre_sain          2858\n",
    "nombre_exposed        635\n",
    "nombre_recovered    15641\n",
    "Name: 360, dtype: int64"
   ]
  },
  {
   "cell_type": "markdown",
   "id": "540d4564",
   "metadata": {},
   "source": [
    "nombre_infected       890\n",
    "nombre_sain          2873\n",
    "nombre_exposed        634\n",
    "nombre_recovered    15603\n",
    "Name: 361, dtype: int64"
   ]
  },
  {
   "cell_type": "markdown",
   "id": "668aa212",
   "metadata": {},
   "source": [
    "nombre_infected       887\n",
    "nombre_sain          2869\n",
    "nombre_exposed        637\n",
    "nombre_recovered    15607\n",
    "Name: 362, dtype: int64"
   ]
  },
  {
   "cell_type": "markdown",
   "id": "933b5f24",
   "metadata": {},
   "source": [
    "nombre_infected       905\n",
    "nombre_sain          2859\n",
    "nombre_exposed        658\n",
    "nombre_recovered    15578\n",
    "Name: 363, dtype: int64"
   ]
  },
  {
   "cell_type": "markdown",
   "id": "b0762a4e",
   "metadata": {},
   "source": [
    "nombre_infected       937\n",
    "nombre_sain          2837\n",
    "nombre_exposed        666\n",
    "nombre_recovered    15560\n",
    "Name: 364, dtype: int64"
   ]
  },
  {
   "cell_type": "markdown",
   "id": "ea2aa487",
   "metadata": {},
   "source": [
    "nombre_infected       945\n",
    "nombre_sain          2814\n",
    "nombre_exposed        696\n",
    "nombre_recovered    15545\n",
    "Name: 365, dtype: int64"
   ]
  },
  {
   "cell_type": "markdown",
   "id": "006588a4",
   "metadata": {},
   "source": [
    "nombre_infected       967\n",
    "nombre_sain          2798\n",
    "nombre_exposed        697\n",
    "nombre_recovered    15538\n",
    "Name: 366, dtype: int64"
   ]
  },
  {
   "cell_type": "markdown",
   "id": "634ee9fa",
   "metadata": {},
   "source": [
    "nombre_infected      1012\n",
    "nombre_sain          2767\n",
    "nombre_exposed        699\n",
    "nombre_recovered    15522\n",
    "Name: 367, dtype: int64"
   ]
  },
  {
   "cell_type": "markdown",
   "id": "6d04241a",
   "metadata": {},
   "source": [
    "nombre_infected      1030\n",
    "nombre_sain          2739\n",
    "nombre_exposed        718\n",
    "nombre_recovered    15513\n",
    "Name: 368, dtype: int64"
   ]
  },
  {
   "cell_type": "markdown",
   "id": "f8340a5b",
   "metadata": {},
   "source": [
    "nombre_infected      1064\n",
    "nombre_sain          2701\n",
    "nombre_exposed        740\n",
    "nombre_recovered    15495\n",
    "Name: 369, dtype: int64"
   ]
  },
  {
   "cell_type": "markdown",
   "id": "89b809df",
   "metadata": {},
   "source": [
    "nombre_infected      1072\n",
    "nombre_sain          2672\n",
    "nombre_exposed        740\n",
    "nombre_recovered    15516\n",
    "Name: 370, dtype: int64"
   ]
  },
  {
   "cell_type": "markdown",
   "id": "b5f23a33",
   "metadata": {},
   "source": [
    "nombre_infected      1081\n",
    "nombre_sain          2639\n",
    "nombre_exposed        743\n",
    "nombre_recovered    15537\n",
    "Name: 371, dtype: int64"
   ]
  },
  {
   "cell_type": "markdown",
   "id": "062df450",
   "metadata": {},
   "source": [
    "nombre_infected      1074\n",
    "nombre_sain          2633\n",
    "nombre_exposed        736\n",
    "nombre_recovered    15557\n",
    "Name: 372, dtype: int64"
   ]
  },
  {
   "cell_type": "markdown",
   "id": "b5443ece",
   "metadata": {},
   "source": [
    "nombre_infected      1133\n",
    "nombre_sain          2598\n",
    "nombre_exposed        705\n",
    "nombre_recovered    15564\n",
    "Name: 373, dtype: int64"
   ]
  },
  {
   "cell_type": "markdown",
   "id": "b854f74f",
   "metadata": {},
   "source": [
    "nombre_infected      1158\n",
    "nombre_sain          2558\n",
    "nombre_exposed        703\n",
    "nombre_recovered    15581\n",
    "Name: 374, dtype: int64"
   ]
  },
  {
   "cell_type": "markdown",
   "id": "32df63c1",
   "metadata": {},
   "source": [
    "nombre_infected      1184\n",
    "nombre_sain          2549\n",
    "nombre_exposed        704\n",
    "nombre_recovered    15563\n",
    "Name: 375, dtype: int64"
   ]
  },
  {
   "cell_type": "markdown",
   "id": "2049dd07",
   "metadata": {},
   "source": [
    "nombre_infected      1186\n",
    "nombre_sain          2473\n",
    "nombre_exposed        730\n",
    "nombre_recovered    15611\n",
    "Name: 376, dtype: int64"
   ]
  },
  {
   "cell_type": "markdown",
   "id": "346fceef",
   "metadata": {},
   "source": [
    "nombre_infected      1186\n",
    "nombre_sain          2423\n",
    "nombre_exposed        745\n",
    "nombre_recovered    15646\n",
    "Name: 377, dtype: int64"
   ]
  },
  {
   "cell_type": "markdown",
   "id": "4756042f",
   "metadata": {},
   "source": [
    "nombre_infected      1185\n",
    "nombre_sain          2371\n",
    "nombre_exposed        752\n",
    "nombre_recovered    15692\n",
    "Name: 378, dtype: int64"
   ]
  },
  {
   "cell_type": "markdown",
   "id": "27bfcc81",
   "metadata": {},
   "source": [
    "nombre_infected      1208\n",
    "nombre_sain          2332\n",
    "nombre_exposed        729\n",
    "nombre_recovered    15731\n",
    "Name: 379, dtype: int64"
   ]
  },
  {
   "cell_type": "markdown",
   "id": "a167986c",
   "metadata": {},
   "source": [
    "nombre_infected      1222\n",
    "nombre_sain          2311\n",
    "nombre_exposed        716\n",
    "nombre_recovered    15751\n",
    "Name: 380, dtype: int64"
   ]
  },
  {
   "cell_type": "markdown",
   "id": "4ad63473",
   "metadata": {},
   "source": [
    "nombre_infected      1206\n",
    "nombre_sain          2278\n",
    "nombre_exposed        734\n",
    "nombre_recovered    15782\n",
    "Name: 381, dtype: int64"
   ]
  },
  {
   "cell_type": "markdown",
   "id": "b5f9e066",
   "metadata": {},
   "source": [
    "nombre_infected      1207\n",
    "nombre_sain          2253\n",
    "nombre_exposed        735\n",
    "nombre_recovered    15805\n",
    "Name: 382, dtype: int64"
   ]
  },
  {
   "cell_type": "markdown",
   "id": "eb55d563",
   "metadata": {},
   "source": [
    "nombre_infected      1171\n",
    "nombre_sain          2236\n",
    "nombre_exposed        724\n",
    "nombre_recovered    15869\n",
    "Name: 383, dtype: int64"
   ]
  },
  {
   "cell_type": "markdown",
   "id": "0b189de4",
   "metadata": {},
   "source": [
    "nombre_infected      1167\n",
    "nombre_sain          2205\n",
    "nombre_exposed        722\n",
    "nombre_recovered    15906\n",
    "Name: 384, dtype: int64"
   ]
  },
  {
   "cell_type": "markdown",
   "id": "d878096b",
   "metadata": {},
   "source": [
    "nombre_infected      1201\n",
    "nombre_sain          2187\n",
    "nombre_exposed        700\n",
    "nombre_recovered    15912\n",
    "Name: 385, dtype: int64"
   ]
  },
  {
   "cell_type": "markdown",
   "id": "3de37d8a",
   "metadata": {},
   "source": [
    "nombre_infected      1198\n",
    "nombre_sain          2173\n",
    "nombre_exposed        697\n",
    "nombre_recovered    15932\n",
    "Name: 386, dtype: int64"
   ]
  },
  {
   "cell_type": "markdown",
   "id": "bba61026",
   "metadata": {},
   "source": [
    "nombre_infected      1203\n",
    "nombre_sain          2161\n",
    "nombre_exposed        669\n",
    "nombre_recovered    15967\n",
    "Name: 387, dtype: int64"
   ]
  },
  {
   "cell_type": "markdown",
   "id": "50021037",
   "metadata": {},
   "source": [
    "nombre_infected      1175\n",
    "nombre_sain          2153\n",
    "nombre_exposed        655\n",
    "nombre_recovered    16017\n",
    "Name: 388, dtype: int64"
   ]
  },
  {
   "cell_type": "markdown",
   "id": "55a873b3",
   "metadata": {},
   "source": [
    "nombre_infected      1148\n",
    "nombre_sain          2182\n",
    "nombre_exposed        627\n",
    "nombre_recovered    16043\n",
    "Name: 389, dtype: int64"
   ]
  },
  {
   "cell_type": "markdown",
   "id": "2371c964",
   "metadata": {},
   "source": [
    "nombre_infected      1174\n",
    "nombre_sain          2166\n",
    "nombre_exposed        605\n",
    "nombre_recovered    16055\n",
    "Name: 390, dtype: int64"
   ]
  },
  {
   "cell_type": "markdown",
   "id": "111202eb",
   "metadata": {},
   "source": [
    "nombre_infected      1158\n",
    "nombre_sain          2159\n",
    "nombre_exposed        596\n",
    "nombre_recovered    16087\n",
    "Name: 391, dtype: int64"
   ]
  },
  {
   "cell_type": "markdown",
   "id": "3b46f611",
   "metadata": {},
   "source": [
    "nombre_infected      1147\n",
    "nombre_sain          2168\n",
    "nombre_exposed        592\n",
    "nombre_recovered    16093\n",
    "Name: 392, dtype: int64"
   ]
  },
  {
   "cell_type": "markdown",
   "id": "9cfc65f2",
   "metadata": {},
   "source": [
    "nombre_infected      1146\n",
    "nombre_sain          2142\n",
    "nombre_exposed        599\n",
    "nombre_recovered    16113\n",
    "Name: 393, dtype: int64"
   ]
  },
  {
   "cell_type": "markdown",
   "id": "82ac3b0b",
   "metadata": {},
   "source": [
    "nombre_infected      1132\n",
    "nombre_sain          2136\n",
    "nombre_exposed        623\n",
    "nombre_recovered    16109\n",
    "Name: 394, dtype: int64"
   ]
  },
  {
   "cell_type": "markdown",
   "id": "f924dd21",
   "metadata": {},
   "source": [
    "nombre_infected      1129\n",
    "nombre_sain          2132\n",
    "nombre_exposed        613\n",
    "nombre_recovered    16126\n",
    "Name: 395, dtype: int64"
   ]
  },
  {
   "cell_type": "markdown",
   "id": "f58f1006",
   "metadata": {},
   "source": [
    "nombre_infected      1145\n",
    "nombre_sain          2126\n",
    "nombre_exposed        601\n",
    "nombre_recovered    16128\n",
    "Name: 396, dtype: int64"
   ]
  },
  {
   "cell_type": "markdown",
   "id": "83f5d0d8",
   "metadata": {},
   "source": [
    "nombre_infected      1146\n",
    "nombre_sain          2142\n",
    "nombre_exposed        581\n",
    "nombre_recovered    16131\n",
    "Name: 397, dtype: int64"
   ]
  },
  {
   "cell_type": "markdown",
   "id": "3c34785a",
   "metadata": {},
   "source": [
    "nombre_infected      1119\n",
    "nombre_sain          2136\n",
    "nombre_exposed        589\n",
    "nombre_recovered    16156\n",
    "Name: 398, dtype: int64"
   ]
  },
  {
   "cell_type": "markdown",
   "id": "4a482a43",
   "metadata": {},
   "source": [
    "nombre_infected      1076\n",
    "nombre_sain          2092\n",
    "nombre_exposed        629\n",
    "nombre_recovered    16203\n",
    "Name: 399, dtype: int64"
   ]
  },
  {
   "cell_type": "markdown",
   "id": "aa5f49aa",
   "metadata": {},
   "source": [
    "nombre_infected      1062\n",
    "nombre_sain          2110\n",
    "nombre_exposed        601\n",
    "nombre_recovered    16227\n",
    "Name: 400, dtype: int64"
   ]
  },
  {
   "cell_type": "markdown",
   "id": "676c6dbb",
   "metadata": {},
   "source": [
    "nombre_infected      1070\n",
    "nombre_sain          2105\n",
    "nombre_exposed        572\n",
    "nombre_recovered    16253\n",
    "Name: 401, dtype: int64"
   ]
  },
  {
   "cell_type": "markdown",
   "id": "da1e7c2f",
   "metadata": {},
   "source": [
    "nombre_infected      1073\n",
    "nombre_sain          2121\n",
    "nombre_exposed        558\n",
    "nombre_recovered    16248\n",
    "Name: 402, dtype: int64"
   ]
  },
  {
   "cell_type": "markdown",
   "id": "00acae47",
   "metadata": {},
   "source": [
    "nombre_infected      1037\n",
    "nombre_sain          2135\n",
    "nombre_exposed        560\n",
    "nombre_recovered    16268\n",
    "Name: 403, dtype: int64"
   ]
  },
  {
   "cell_type": "markdown",
   "id": "6d3c45e7",
   "metadata": {},
   "source": [
    "nombre_infected      1027\n",
    "nombre_sain          2141\n",
    "nombre_exposed        563\n",
    "nombre_recovered    16269\n",
    "Name: 404, dtype: int64"
   ]
  },
  {
   "cell_type": "markdown",
   "id": "8ed94382",
   "metadata": {},
   "source": [
    "nombre_infected      1028\n",
    "nombre_sain          2158\n",
    "nombre_exposed        550\n",
    "nombre_recovered    16264\n",
    "Name: 405, dtype: int64"
   ]
  },
  {
   "cell_type": "markdown",
   "id": "06eb28b7",
   "metadata": {},
   "source": [
    "nombre_infected      1047\n",
    "nombre_sain          2182\n",
    "nombre_exposed        520\n",
    "nombre_recovered    16251\n",
    "Name: 406, dtype: int64"
   ]
  },
  {
   "cell_type": "markdown",
   "id": "2d2cbfa5",
   "metadata": {},
   "source": [
    "nombre_infected      1036\n",
    "nombre_sain          2208\n",
    "nombre_exposed        506\n",
    "nombre_recovered    16250\n",
    "Name: 407, dtype: int64"
   ]
  },
  {
   "cell_type": "markdown",
   "id": "8db92bb4",
   "metadata": {},
   "source": [
    "nombre_infected      1009\n",
    "nombre_sain          2164\n",
    "nombre_exposed        537\n",
    "nombre_recovered    16290\n",
    "Name: 408, dtype: int64"
   ]
  },
  {
   "cell_type": "markdown",
   "id": "77159d17",
   "metadata": {},
   "source": [
    "nombre_infected       994\n",
    "nombre_sain          2185\n",
    "nombre_exposed        533\n",
    "nombre_recovered    16288\n",
    "Name: 409, dtype: int64"
   ]
  },
  {
   "cell_type": "markdown",
   "id": "0b5c453a",
   "metadata": {},
   "source": [
    "nombre_infected       984\n",
    "nombre_sain          2174\n",
    "nombre_exposed        527\n",
    "nombre_recovered    16315\n",
    "Name: 410, dtype: int64"
   ]
  },
  {
   "cell_type": "markdown",
   "id": "529685d9",
   "metadata": {},
   "source": [
    "nombre_infected       976\n",
    "nombre_sain          2195\n",
    "nombre_exposed        521\n",
    "nombre_recovered    16308\n",
    "Name: 411, dtype: int64"
   ]
  },
  {
   "cell_type": "markdown",
   "id": "46889752",
   "metadata": {},
   "source": [
    "nombre_infected       942\n",
    "nombre_sain          2214\n",
    "nombre_exposed        525\n",
    "nombre_recovered    16319\n",
    "Name: 412, dtype: int64"
   ]
  },
  {
   "cell_type": "markdown",
   "id": "2b462833",
   "metadata": {},
   "source": [
    "nombre_infected       909\n",
    "nombre_sain          2213\n",
    "nombre_exposed        533\n",
    "nombre_recovered    16345\n",
    "Name: 413, dtype: int64"
   ]
  },
  {
   "cell_type": "markdown",
   "id": "18124073",
   "metadata": {},
   "source": [
    "nombre_infected       917\n",
    "nombre_sain          2209\n",
    "nombre_exposed        551\n",
    "nombre_recovered    16323\n",
    "Name: 414, dtype: int64"
   ]
  },
  {
   "cell_type": "markdown",
   "id": "6d636c43",
   "metadata": {},
   "source": [
    "nombre_infected       917\n",
    "nombre_sain          2193\n",
    "nombre_exposed        565\n",
    "nombre_recovered    16325\n",
    "Name: 415, dtype: int64"
   ]
  },
  {
   "cell_type": "markdown",
   "id": "5b5db03a",
   "metadata": {},
   "source": [
    "nombre_infected       918\n",
    "nombre_sain          2209\n",
    "nombre_exposed        541\n",
    "nombre_recovered    16332\n",
    "Name: 416, dtype: int64"
   ]
  },
  {
   "cell_type": "markdown",
   "id": "c17ede0e",
   "metadata": {},
   "source": [
    "nombre_infected       942\n",
    "nombre_sain          2206\n",
    "nombre_exposed        503\n",
    "nombre_recovered    16349\n",
    "Name: 417, dtype: int64"
   ]
  },
  {
   "cell_type": "markdown",
   "id": "667a71b2",
   "metadata": {},
   "source": [
    "nombre_infected       920\n",
    "nombre_sain          2192\n",
    "nombre_exposed        502\n",
    "nombre_recovered    16386\n",
    "Name: 418, dtype: int64"
   ]
  },
  {
   "cell_type": "markdown",
   "id": "b0e9cca7",
   "metadata": {},
   "source": [
    "nombre_infected       916\n",
    "nombre_sain          2186\n",
    "nombre_exposed        504\n",
    "nombre_recovered    16394\n",
    "Name: 419, dtype: int64"
   ]
  },
  {
   "cell_type": "markdown",
   "id": "7c7dbed3",
   "metadata": {},
   "source": [
    "nombre_infected       893\n",
    "nombre_sain          2157\n",
    "nombre_exposed        527\n",
    "nombre_recovered    16423\n",
    "Name: 420, dtype: int64"
   ]
  },
  {
   "cell_type": "markdown",
   "id": "027a1cfe",
   "metadata": {},
   "source": [
    "nombre_infected       895\n",
    "nombre_sain          2152\n",
    "nombre_exposed        529\n",
    "nombre_recovered    16424\n",
    "Name: 421, dtype: int64"
   ]
  },
  {
   "cell_type": "markdown",
   "id": "1d18c5bf",
   "metadata": {},
   "source": [
    "nombre_infected       912\n",
    "nombre_sain          2158\n",
    "nombre_exposed        517\n",
    "nombre_recovered    16413\n",
    "Name: 422, dtype: int64"
   ]
  },
  {
   "cell_type": "markdown",
   "id": "8108dfe9",
   "metadata": {},
   "source": [
    "nombre_infected       902\n",
    "nombre_sain          2163\n",
    "nombre_exposed        504\n",
    "nombre_recovered    16431\n",
    "Name: 423, dtype: int64"
   ]
  },
  {
   "cell_type": "markdown",
   "id": "1320042c",
   "metadata": {},
   "source": [
    "nombre_infected       903\n",
    "nombre_sain          2178\n",
    "nombre_exposed        503\n",
    "nombre_recovered    16416\n",
    "Name: 424, dtype: int64"
   ]
  },
  {
   "cell_type": "markdown",
   "id": "42e6baf6",
   "metadata": {},
   "source": [
    "nombre_infected       895\n",
    "nombre_sain          2196\n",
    "nombre_exposed        478\n",
    "nombre_recovered    16431\n",
    "Name: 425, dtype: int64"
   ]
  },
  {
   "cell_type": "markdown",
   "id": "7a24ca3e",
   "metadata": {},
   "source": [
    "nombre_infected       888\n",
    "nombre_sain          2185\n",
    "nombre_exposed        487\n",
    "nombre_recovered    16440\n",
    "Name: 426, dtype: int64"
   ]
  },
  {
   "cell_type": "markdown",
   "id": "424f266e",
   "metadata": {},
   "source": [
    "nombre_infected       888\n",
    "nombre_sain          2188\n",
    "nombre_exposed        477\n",
    "nombre_recovered    16447\n",
    "Name: 427, dtype: int64"
   ]
  },
  {
   "cell_type": "markdown",
   "id": "cb100d0c",
   "metadata": {},
   "source": [
    "nombre_infected       885\n",
    "nombre_sain          2211\n",
    "nombre_exposed        472\n",
    "nombre_recovered    16432\n",
    "Name: 428, dtype: int64"
   ]
  },
  {
   "cell_type": "markdown",
   "id": "529461b8",
   "metadata": {},
   "source": [
    "nombre_infected       894\n",
    "nombre_sain          2223\n",
    "nombre_exposed        475\n",
    "nombre_recovered    16408\n",
    "Name: 429, dtype: int64"
   ]
  },
  {
   "cell_type": "markdown",
   "id": "38a747ba",
   "metadata": {},
   "source": [
    "nombre_infected       884\n",
    "nombre_sain          2223\n",
    "nombre_exposed        476\n",
    "nombre_recovered    16417\n",
    "Name: 430, dtype: int64"
   ]
  },
  {
   "cell_type": "markdown",
   "id": "7581f0c7",
   "metadata": {},
   "source": [
    "nombre_infected       866\n",
    "nombre_sain          2256\n",
    "nombre_exposed        474\n",
    "nombre_recovered    16404\n",
    "Name: 431, dtype: int64"
   ]
  },
  {
   "cell_type": "markdown",
   "id": "af3df067",
   "metadata": {},
   "source": [
    "nombre_infected       844\n",
    "nombre_sain          2277\n",
    "nombre_exposed        490\n",
    "nombre_recovered    16389\n",
    "Name: 432, dtype: int64"
   ]
  },
  {
   "cell_type": "markdown",
   "id": "78305ee7",
   "metadata": {},
   "source": [
    "nombre_infected       857\n",
    "nombre_sain          2266\n",
    "nombre_exposed        497\n",
    "nombre_recovered    16380\n",
    "Name: 433, dtype: int64"
   ]
  },
  {
   "cell_type": "markdown",
   "id": "e31eddab",
   "metadata": {},
   "source": [
    "nombre_infected       889\n",
    "nombre_sain          2254\n",
    "nombre_exposed        494\n",
    "nombre_recovered    16363\n",
    "Name: 434, dtype: int64"
   ]
  },
  {
   "cell_type": "markdown",
   "id": "f66f7462",
   "metadata": {},
   "source": [
    "nombre_infected       890\n",
    "nombre_sain          2257\n",
    "nombre_exposed        505\n",
    "nombre_recovered    16348\n",
    "Name: 435, dtype: int64"
   ]
  },
  {
   "cell_type": "markdown",
   "id": "3ebf85ae",
   "metadata": {},
   "source": [
    "nombre_infected       903\n",
    "nombre_sain          2287\n",
    "nombre_exposed        480\n",
    "nombre_recovered    16330\n",
    "Name: 436, dtype: int64"
   ]
  },
  {
   "cell_type": "markdown",
   "id": "f3464033",
   "metadata": {},
   "source": [
    "nombre_infected       891\n",
    "nombre_sain          2299\n",
    "nombre_exposed        481\n",
    "nombre_recovered    16329\n",
    "Name: 437, dtype: int64"
   ]
  },
  {
   "cell_type": "markdown",
   "id": "6d3ba623",
   "metadata": {},
   "source": [
    "nombre_infected       895\n",
    "nombre_sain          2294\n",
    "nombre_exposed        491\n",
    "nombre_recovered    16320\n",
    "Name: 438, dtype: int64"
   ]
  },
  {
   "cell_type": "markdown",
   "id": "c7ff9c14",
   "metadata": {},
   "source": [
    "nombre_infected       894\n",
    "nombre_sain          2288\n",
    "nombre_exposed        492\n",
    "nombre_recovered    16326\n",
    "Name: 439, dtype: int64"
   ]
  },
  {
   "cell_type": "markdown",
   "id": "0ef38703",
   "metadata": {},
   "source": [
    "nombre_infected       884\n",
    "nombre_sain          2274\n",
    "nombre_exposed        494\n",
    "nombre_recovered    16348\n",
    "Name: 440, dtype: int64"
   ]
  },
  {
   "cell_type": "markdown",
   "id": "2c31c782",
   "metadata": {},
   "source": [
    "nombre_infected       873\n",
    "nombre_sain          2283\n",
    "nombre_exposed        496\n",
    "nombre_recovered    16348\n",
    "Name: 441, dtype: int64"
   ]
  },
  {
   "cell_type": "markdown",
   "id": "98a36079",
   "metadata": {},
   "source": [
    "nombre_infected       903\n",
    "nombre_sain          2288\n",
    "nombre_exposed        494\n",
    "nombre_recovered    16315\n",
    "Name: 442, dtype: int64"
   ]
  },
  {
   "cell_type": "markdown",
   "id": "20448d89",
   "metadata": {},
   "source": [
    "nombre_infected       900\n",
    "nombre_sain          2298\n",
    "nombre_exposed        500\n",
    "nombre_recovered    16302\n",
    "Name: 443, dtype: int64"
   ]
  },
  {
   "cell_type": "markdown",
   "id": "2c97885f",
   "metadata": {},
   "source": [
    "nombre_infected       909\n",
    "nombre_sain          2306\n",
    "nombre_exposed        513\n",
    "nombre_recovered    16272\n",
    "Name: 444, dtype: int64"
   ]
  },
  {
   "cell_type": "markdown",
   "id": "9633fa34",
   "metadata": {},
   "source": [
    "nombre_infected       905\n",
    "nombre_sain          2288\n",
    "nombre_exposed        526\n",
    "nombre_recovered    16281\n",
    "Name: 445, dtype: int64"
   ]
  },
  {
   "cell_type": "markdown",
   "id": "74fa91eb",
   "metadata": {},
   "source": [
    "nombre_infected       925\n",
    "nombre_sain          2290\n",
    "nombre_exposed        524\n",
    "nombre_recovered    16261\n",
    "Name: 446, dtype: int64"
   ]
  },
  {
   "cell_type": "markdown",
   "id": "9cba4296",
   "metadata": {},
   "source": [
    "nombre_infected       906\n",
    "nombre_sain          2292\n",
    "nombre_exposed        530\n",
    "nombre_recovered    16272\n",
    "Name: 447, dtype: int64"
   ]
  },
  {
   "cell_type": "markdown",
   "id": "5957a12f",
   "metadata": {},
   "source": [
    "nombre_infected       904\n",
    "nombre_sain          2262\n",
    "nombre_exposed        550\n",
    "nombre_recovered    16284\n",
    "Name: 448, dtype: int64"
   ]
  },
  {
   "cell_type": "markdown",
   "id": "efd45a1c",
   "metadata": {},
   "source": [
    "nombre_infected       916\n",
    "nombre_sain          2257\n",
    "nombre_exposed        567\n",
    "nombre_recovered    16260\n",
    "Name: 449, dtype: int64"
   ]
  },
  {
   "cell_type": "markdown",
   "id": "4a5c2b44",
   "metadata": {},
   "source": [
    "nombre_infected       914\n",
    "nombre_sain          2274\n",
    "nombre_exposed        554\n",
    "nombre_recovered    16258\n",
    "Name: 450, dtype: int64"
   ]
  },
  {
   "cell_type": "markdown",
   "id": "4479a1ac",
   "metadata": {},
   "source": [
    "nombre_infected       929\n",
    "nombre_sain          2258\n",
    "nombre_exposed        546\n",
    "nombre_recovered    16267\n",
    "Name: 451, dtype: int64"
   ]
  },
  {
   "cell_type": "markdown",
   "id": "e240d6cd",
   "metadata": {},
   "source": [
    "nombre_infected       901\n",
    "nombre_sain          2270\n",
    "nombre_exposed        536\n",
    "nombre_recovered    16293\n",
    "Name: 452, dtype: int64"
   ]
  },
  {
   "cell_type": "markdown",
   "id": "50725601",
   "metadata": {},
   "source": [
    "nombre_infected       896\n",
    "nombre_sain          2265\n",
    "nombre_exposed        533\n",
    "nombre_recovered    16306\n",
    "Name: 453, dtype: int64"
   ]
  },
  {
   "cell_type": "markdown",
   "id": "a22ba854",
   "metadata": {},
   "source": [
    "nombre_infected       897\n",
    "nombre_sain          2263\n",
    "nombre_exposed        534\n",
    "nombre_recovered    16306\n",
    "Name: 454, dtype: int64"
   ]
  },
  {
   "cell_type": "markdown",
   "id": "3086422c",
   "metadata": {},
   "source": [
    "nombre_infected       900\n",
    "nombre_sain          2283\n",
    "nombre_exposed        510\n",
    "nombre_recovered    16307\n",
    "Name: 455, dtype: int64"
   ]
  },
  {
   "cell_type": "markdown",
   "id": "043716ef",
   "metadata": {},
   "source": [
    "nombre_infected       891\n",
    "nombre_sain          2301\n",
    "nombre_exposed        526\n",
    "nombre_recovered    16282\n",
    "Name: 456, dtype: int64"
   ]
  },
  {
   "cell_type": "markdown",
   "id": "835daff9",
   "metadata": {},
   "source": [
    "nombre_infected       890\n",
    "nombre_sain          2287\n",
    "nombre_exposed        534\n",
    "nombre_recovered    16289\n",
    "Name: 457, dtype: int64"
   ]
  },
  {
   "cell_type": "markdown",
   "id": "eef627dd",
   "metadata": {},
   "source": [
    "nombre_infected       882\n",
    "nombre_sain          2318\n",
    "nombre_exposed        541\n",
    "nombre_recovered    16259\n",
    "Name: 458, dtype: int64"
   ]
  },
  {
   "cell_type": "markdown",
   "id": "a11b5b29",
   "metadata": {},
   "source": [
    "nombre_infected       899\n",
    "nombre_sain          2355\n",
    "nombre_exposed        524\n",
    "nombre_recovered    16222\n",
    "Name: 459, dtype: int64"
   ]
  },
  {
   "cell_type": "markdown",
   "id": "c635aef0",
   "metadata": {},
   "source": [
    "nombre_infected       856\n",
    "nombre_sain          2348\n",
    "nombre_exposed        540\n",
    "nombre_recovered    16256\n",
    "Name: 460, dtype: int64"
   ]
  },
  {
   "cell_type": "markdown",
   "id": "797573d2",
   "metadata": {},
   "source": [
    "nombre_infected       881\n",
    "nombre_sain          2375\n",
    "nombre_exposed        519\n",
    "nombre_recovered    16225\n",
    "Name: 461, dtype: int64"
   ]
  },
  {
   "cell_type": "markdown",
   "id": "7a4aca1d",
   "metadata": {},
   "source": [
    "nombre_infected       894\n",
    "nombre_sain          2373\n",
    "nombre_exposed        536\n",
    "nombre_recovered    16197\n",
    "Name: 462, dtype: int64"
   ]
  },
  {
   "cell_type": "markdown",
   "id": "33425e5a",
   "metadata": {},
   "source": [
    "nombre_infected       889\n",
    "nombre_sain          2381\n",
    "nombre_exposed        558\n",
    "nombre_recovered    16172\n",
    "Name: 463, dtype: int64"
   ]
  },
  {
   "cell_type": "markdown",
   "id": "b2cf9803",
   "metadata": {},
   "source": [
    "nombre_infected       890\n",
    "nombre_sain          2377\n",
    "nombre_exposed        559\n",
    "nombre_recovered    16174\n",
    "Name: 464, dtype: int64"
   ]
  },
  {
   "cell_type": "markdown",
   "id": "9172fb15",
   "metadata": {},
   "source": [
    "nombre_infected       888\n",
    "nombre_sain          2410\n",
    "nombre_exposed        550\n",
    "nombre_recovered    16152\n",
    "Name: 465, dtype: int64"
   ]
  },
  {
   "cell_type": "markdown",
   "id": "8ac4ac97",
   "metadata": {},
   "source": [
    "nombre_infected       897\n",
    "nombre_sain          2429\n",
    "nombre_exposed        548\n",
    "nombre_recovered    16126\n",
    "Name: 466, dtype: int64"
   ]
  },
  {
   "cell_type": "markdown",
   "id": "c9ff0cdd",
   "metadata": {},
   "source": [
    "nombre_infected       884\n",
    "nombre_sain          2438\n",
    "nombre_exposed        551\n",
    "nombre_recovered    16127\n",
    "Name: 467, dtype: int64"
   ]
  },
  {
   "cell_type": "markdown",
   "id": "910e2ee7",
   "metadata": {},
   "source": [
    "nombre_infected       874\n",
    "nombre_sain          2478\n",
    "nombre_exposed        559\n",
    "nombre_recovered    16089\n",
    "Name: 468, dtype: int64"
   ]
  },
  {
   "cell_type": "markdown",
   "id": "384b3a87",
   "metadata": {},
   "source": [
    "nombre_infected       865\n",
    "nombre_sain          2496\n",
    "nombre_exposed        547\n",
    "nombre_recovered    16092\n",
    "Name: 469, dtype: int64"
   ]
  },
  {
   "cell_type": "markdown",
   "id": "0fef617a",
   "metadata": {},
   "source": [
    "nombre_infected       849\n",
    "nombre_sain          2485\n",
    "nombre_exposed        556\n",
    "nombre_recovered    16110\n",
    "Name: 470, dtype: int64"
   ]
  },
  {
   "cell_type": "markdown",
   "id": "43858f57",
   "metadata": {},
   "source": [
    "nombre_infected       842\n",
    "nombre_sain          2488\n",
    "nombre_exposed        577\n",
    "nombre_recovered    16093\n",
    "Name: 471, dtype: int64"
   ]
  },
  {
   "cell_type": "markdown",
   "id": "4d545e35",
   "metadata": {},
   "source": [
    "nombre_infected       813\n",
    "nombre_sain          2475\n",
    "nombre_exposed        621\n",
    "nombre_recovered    16091\n",
    "Name: 472, dtype: int64"
   ]
  },
  {
   "cell_type": "markdown",
   "id": "03c220d6",
   "metadata": {},
   "source": [
    "nombre_infected       828\n",
    "nombre_sain          2494\n",
    "nombre_exposed        584\n",
    "nombre_recovered    16094\n",
    "Name: 473, dtype: int64"
   ]
  },
  {
   "cell_type": "markdown",
   "id": "f939159f",
   "metadata": {},
   "source": [
    "nombre_infected       834\n",
    "nombre_sain          2507\n",
    "nombre_exposed        593\n",
    "nombre_recovered    16066\n",
    "Name: 474, dtype: int64"
   ]
  },
  {
   "cell_type": "markdown",
   "id": "49ea3c71",
   "metadata": {},
   "source": [
    "nombre_infected       853\n",
    "nombre_sain          2510\n",
    "nombre_exposed        601\n",
    "nombre_recovered    16036\n",
    "Name: 475, dtype: int64"
   ]
  },
  {
   "cell_type": "markdown",
   "id": "dab7be54",
   "metadata": {},
   "source": [
    "nombre_infected       883\n",
    "nombre_sain          2524\n",
    "nombre_exposed        580\n",
    "nombre_recovered    16013\n",
    "Name: 476, dtype: int64"
   ]
  },
  {
   "cell_type": "markdown",
   "id": "d5bafa25",
   "metadata": {},
   "source": [
    "nombre_infected       905\n",
    "nombre_sain          2519\n",
    "nombre_exposed        587\n",
    "nombre_recovered    15989\n",
    "Name: 477, dtype: int64"
   ]
  },
  {
   "cell_type": "markdown",
   "id": "9b161320",
   "metadata": {},
   "source": [
    "nombre_infected       908\n",
    "nombre_sain          2516\n",
    "nombre_exposed        595\n",
    "nombre_recovered    15981\n",
    "Name: 478, dtype: int64"
   ]
  },
  {
   "cell_type": "markdown",
   "id": "c16338ab",
   "metadata": {},
   "source": [
    "nombre_infected       894\n",
    "nombre_sain          2540\n",
    "nombre_exposed        583\n",
    "nombre_recovered    15983\n",
    "Name: 479, dtype: int64"
   ]
  },
  {
   "cell_type": "markdown",
   "id": "cdcdaeb4",
   "metadata": {},
   "source": [
    "nombre_infected       889\n",
    "nombre_sain          2547\n",
    "nombre_exposed        576\n",
    "nombre_recovered    15988\n",
    "Name: 480, dtype: int64"
   ]
  },
  {
   "cell_type": "markdown",
   "id": "371945ff",
   "metadata": {},
   "source": [
    "nombre_infected       907\n",
    "nombre_sain          2543\n",
    "nombre_exposed        569\n",
    "nombre_recovered    15981\n",
    "Name: 481, dtype: int64"
   ]
  },
  {
   "cell_type": "markdown",
   "id": "50011b1c",
   "metadata": {},
   "source": [
    "nombre_infected       932\n",
    "nombre_sain          2547\n",
    "nombre_exposed        538\n",
    "nombre_recovered    15983\n",
    "Name: 482, dtype: int64"
   ]
  },
  {
   "cell_type": "markdown",
   "id": "28473628",
   "metadata": {},
   "source": [
    "nombre_infected       900\n",
    "nombre_sain          2545\n",
    "nombre_exposed        554\n",
    "nombre_recovered    16001\n",
    "Name: 483, dtype: int64"
   ]
  },
  {
   "cell_type": "markdown",
   "id": "4d75f3e0",
   "metadata": {},
   "source": [
    "nombre_infected       868\n",
    "nombre_sain          2545\n",
    "nombre_exposed        578\n",
    "nombre_recovered    16009\n",
    "Name: 484, dtype: int64"
   ]
  },
  {
   "cell_type": "markdown",
   "id": "6a8135d5",
   "metadata": {},
   "source": [
    "nombre_infected       878\n",
    "nombre_sain          2518\n",
    "nombre_exposed        615\n",
    "nombre_recovered    15989\n",
    "Name: 485, dtype: int64"
   ]
  },
  {
   "cell_type": "markdown",
   "id": "2b2279d6",
   "metadata": {},
   "source": [
    "nombre_infected       904\n",
    "nombre_sain          2504\n",
    "nombre_exposed        620\n",
    "nombre_recovered    15972\n",
    "Name: 486, dtype: int64"
   ]
  },
  {
   "cell_type": "markdown",
   "id": "2d83c675",
   "metadata": {},
   "source": [
    "nombre_infected       914\n",
    "nombre_sain          2471\n",
    "nombre_exposed        641\n",
    "nombre_recovered    15974\n",
    "Name: 487, dtype: int64"
   ]
  },
  {
   "cell_type": "markdown",
   "id": "a9c66d27",
   "metadata": {},
   "source": [
    "nombre_infected       928\n",
    "nombre_sain          2445\n",
    "nombre_exposed        645\n",
    "nombre_recovered    15982\n",
    "Name: 488, dtype: int64"
   ]
  },
  {
   "cell_type": "markdown",
   "id": "fbb85680",
   "metadata": {},
   "source": [
    "nombre_infected       965\n",
    "nombre_sain          2420\n",
    "nombre_exposed        637\n",
    "nombre_recovered    15978\n",
    "Name: 489, dtype: int64"
   ]
  },
  {
   "cell_type": "markdown",
   "id": "3bb19f53",
   "metadata": {},
   "source": [
    "nombre_infected       987\n",
    "nombre_sain          2405\n",
    "nombre_exposed        632\n",
    "nombre_recovered    15976\n",
    "Name: 490, dtype: int64"
   ]
  },
  {
   "cell_type": "markdown",
   "id": "7c639d3d",
   "metadata": {},
   "source": [
    "nombre_infected      1012\n",
    "nombre_sain          2377\n",
    "nombre_exposed        627\n",
    "nombre_recovered    15984\n",
    "Name: 491, dtype: int64"
   ]
  },
  {
   "cell_type": "markdown",
   "id": "fc0bf0ca",
   "metadata": {},
   "source": [
    "nombre_infected       983\n",
    "nombre_sain          2330\n",
    "nombre_exposed        657\n",
    "nombre_recovered    16030\n",
    "Name: 492, dtype: int64"
   ]
  },
  {
   "cell_type": "markdown",
   "id": "9069c247",
   "metadata": {},
   "source": [
    "nombre_infected      1007\n",
    "nombre_sain          2298\n",
    "nombre_exposed        633\n",
    "nombre_recovered    16062\n",
    "Name: 493, dtype: int64"
   ]
  },
  {
   "cell_type": "markdown",
   "id": "936a7b45",
   "metadata": {},
   "source": [
    "nombre_infected      1006\n",
    "nombre_sain          2283\n",
    "nombre_exposed        619\n",
    "nombre_recovered    16092\n",
    "Name: 494, dtype: int64"
   ]
  },
  {
   "cell_type": "markdown",
   "id": "85b314b2",
   "metadata": {},
   "source": [
    "nombre_infected      1004\n",
    "nombre_sain          2273\n",
    "nombre_exposed        605\n",
    "nombre_recovered    16118\n",
    "Name: 495, dtype: int64"
   ]
  },
  {
   "cell_type": "markdown",
   "id": "f0f80962",
   "metadata": {},
   "source": [
    "nombre_infected       982\n",
    "nombre_sain          2254\n",
    "nombre_exposed        626\n",
    "nombre_recovered    16138\n",
    "Name: 496, dtype: int64"
   ]
  },
  {
   "cell_type": "markdown",
   "id": "49fc8b92",
   "metadata": {},
   "source": [
    "nombre_infected       977\n",
    "nombre_sain          2219\n",
    "nombre_exposed        633\n",
    "nombre_recovered    16171\n",
    "Name: 497, dtype: int64"
   ]
  },
  {
   "cell_type": "markdown",
   "id": "05b07631",
   "metadata": {},
   "source": [
    "nombre_infected       979\n",
    "nombre_sain          2221\n",
    "nombre_exposed        617\n",
    "nombre_recovered    16183\n",
    "Name: 498, dtype: int64"
   ]
  },
  {
   "cell_type": "markdown",
   "id": "1403488f",
   "metadata": {},
   "source": [
    "nombre_infected       983\n",
    "nombre_sain          2224\n",
    "nombre_exposed        592\n",
    "nombre_recovered    16201\n",
    "Name: 499, dtype: int64"
   ]
  },
  {
   "cell_type": "markdown",
   "id": "f345307f",
   "metadata": {},
   "source": [
    "nombre_infected       981\n",
    "nombre_sain          2220\n",
    "nombre_exposed        564\n",
    "nombre_recovered    16235\n",
    "Name: 500, dtype: int64"
   ]
  },
  {
   "cell_type": "markdown",
   "id": "4c3a8e2f",
   "metadata": {},
   "source": [
    "nombre_infected       981\n",
    "nombre_sain          2229\n",
    "nombre_exposed        539\n",
    "nombre_recovered    16251\n",
    "Name: 501, dtype: int64"
   ]
  },
  {
   "cell_type": "markdown",
   "id": "039fbf21",
   "metadata": {},
   "source": [
    "nombre_infected       960\n",
    "nombre_sain          2223\n",
    "nombre_exposed        533\n",
    "nombre_recovered    16284\n",
    "Name: 502, dtype: int64"
   ]
  },
  {
   "cell_type": "markdown",
   "id": "7b282a06",
   "metadata": {},
   "source": [
    "nombre_infected       973\n",
    "nombre_sain          2224\n",
    "nombre_exposed        521\n",
    "nombre_recovered    16282\n",
    "Name: 503, dtype: int64"
   ]
  },
  {
   "cell_type": "markdown",
   "id": "e967b447",
   "metadata": {},
   "source": [
    "nombre_infected       963\n",
    "nombre_sain          2261\n",
    "nombre_exposed        503\n",
    "nombre_recovered    16273\n",
    "Name: 504, dtype: int64"
   ]
  },
  {
   "cell_type": "markdown",
   "id": "b8055781",
   "metadata": {},
   "source": [
    "nombre_infected       956\n",
    "nombre_sain          2251\n",
    "nombre_exposed        530\n",
    "nombre_recovered    16263\n",
    "Name: 505, dtype: int64"
   ]
  },
  {
   "cell_type": "markdown",
   "id": "58226934",
   "metadata": {},
   "source": [
    "nombre_infected       950\n",
    "nombre_sain          2265\n",
    "nombre_exposed        528\n",
    "nombre_recovered    16257\n",
    "Name: 506, dtype: int64"
   ]
  },
  {
   "cell_type": "markdown",
   "id": "592432e5",
   "metadata": {},
   "source": [
    "nombre_infected       950\n",
    "nombre_sain          2270\n",
    "nombre_exposed        535\n",
    "nombre_recovered    16245\n",
    "Name: 507, dtype: int64"
   ]
  },
  {
   "cell_type": "markdown",
   "id": "8d4236d4",
   "metadata": {},
   "source": [
    "nombre_infected       947\n",
    "nombre_sain          2264\n",
    "nombre_exposed        521\n",
    "nombre_recovered    16268\n",
    "Name: 508, dtype: int64"
   ]
  },
  {
   "cell_type": "markdown",
   "id": "2499ae52",
   "metadata": {},
   "source": [
    "nombre_infected       944\n",
    "nombre_sain          2270\n",
    "nombre_exposed        514\n",
    "nombre_recovered    16272\n",
    "Name: 509, dtype: int64"
   ]
  },
  {
   "cell_type": "markdown",
   "id": "e6174d2b",
   "metadata": {},
   "source": [
    "nombre_infected       969\n",
    "nombre_sain          2258\n",
    "nombre_exposed        519\n",
    "nombre_recovered    16254\n",
    "Name: 510, dtype: int64"
   ]
  },
  {
   "cell_type": "markdown",
   "id": "e0d11a5a",
   "metadata": {},
   "source": [
    "nombre_infected       934\n",
    "nombre_sain          2265\n",
    "nombre_exposed        534\n",
    "nombre_recovered    16267\n",
    "Name: 511, dtype: int64"
   ]
  },
  {
   "cell_type": "markdown",
   "id": "0df2392d",
   "metadata": {},
   "source": [
    "nombre_infected       896\n",
    "nombre_sain          2268\n",
    "nombre_exposed        532\n",
    "nombre_recovered    16304\n",
    "Name: 512, dtype: int64"
   ]
  },
  {
   "cell_type": "markdown",
   "id": "cf04d508",
   "metadata": {},
   "source": [
    "nombre_infected       912\n",
    "nombre_sain          2295\n",
    "nombre_exposed        507\n",
    "nombre_recovered    16286\n",
    "Name: 513, dtype: int64"
   ]
  },
  {
   "cell_type": "markdown",
   "id": "8ff575ba",
   "metadata": {},
   "source": [
    "nombre_infected       929\n",
    "nombre_sain          2342\n",
    "nombre_exposed        504\n",
    "nombre_recovered    16225\n",
    "Name: 514, dtype: int64"
   ]
  },
  {
   "cell_type": "markdown",
   "id": "b9389cc6",
   "metadata": {},
   "source": [
    "nombre_infected       929\n",
    "nombre_sain          2348\n",
    "nombre_exposed        502\n",
    "nombre_recovered    16221\n",
    "Name: 515, dtype: int64"
   ]
  },
  {
   "cell_type": "markdown",
   "id": "a4ca3231",
   "metadata": {},
   "source": [
    "nombre_infected       906\n",
    "nombre_sain          2366\n",
    "nombre_exposed        498\n",
    "nombre_recovered    16230\n",
    "Name: 516, dtype: int64"
   ]
  },
  {
   "cell_type": "markdown",
   "id": "689de894",
   "metadata": {},
   "source": [
    "nombre_infected       891\n",
    "nombre_sain          2392\n",
    "nombre_exposed        514\n",
    "nombre_recovered    16203\n",
    "Name: 517, dtype: int64"
   ]
  },
  {
   "cell_type": "markdown",
   "id": "51c92215",
   "metadata": {},
   "source": [
    "nombre_infected       871\n",
    "nombre_sain          2418\n",
    "nombre_exposed        533\n",
    "nombre_recovered    16178\n",
    "Name: 518, dtype: int64"
   ]
  },
  {
   "cell_type": "markdown",
   "id": "2649c73e",
   "metadata": {},
   "source": [
    "nombre_infected       868\n",
    "nombre_sain          2414\n",
    "nombre_exposed        558\n",
    "nombre_recovered    16160\n",
    "Name: 519, dtype: int64"
   ]
  },
  {
   "cell_type": "markdown",
   "id": "f693c119",
   "metadata": {},
   "source": [
    "nombre_infected       884\n",
    "nombre_sain          2443\n",
    "nombre_exposed        527\n",
    "nombre_recovered    16146\n",
    "Name: 520, dtype: int64"
   ]
  },
  {
   "cell_type": "markdown",
   "id": "573b1da5",
   "metadata": {},
   "source": [
    "nombre_infected       915\n",
    "nombre_sain          2441\n",
    "nombre_exposed        526\n",
    "nombre_recovered    16118\n",
    "Name: 521, dtype: int64"
   ]
  },
  {
   "cell_type": "markdown",
   "id": "cc63fb46",
   "metadata": {},
   "source": [
    "nombre_infected       918\n",
    "nombre_sain          2459\n",
    "nombre_exposed        531\n",
    "nombre_recovered    16092\n",
    "Name: 522, dtype: int64"
   ]
  },
  {
   "cell_type": "markdown",
   "id": "6fb91bc0",
   "metadata": {},
   "source": [
    "nombre_infected       932\n",
    "nombre_sain          2438\n",
    "nombre_exposed        536\n",
    "nombre_recovered    16094\n",
    "Name: 523, dtype: int64"
   ]
  },
  {
   "cell_type": "markdown",
   "id": "ac1a5d86",
   "metadata": {},
   "source": [
    "nombre_infected       941\n",
    "nombre_sain          2426\n",
    "nombre_exposed        558\n",
    "nombre_recovered    16075\n",
    "Name: 524, dtype: int64"
   ]
  },
  {
   "cell_type": "markdown",
   "id": "381f4125",
   "metadata": {},
   "source": [
    "nombre_infected       959\n",
    "nombre_sain          2409\n",
    "nombre_exposed        568\n",
    "nombre_recovered    16064\n",
    "Name: 525, dtype: int64"
   ]
  },
  {
   "cell_type": "markdown",
   "id": "da45c402",
   "metadata": {},
   "source": [
    "nombre_infected       975\n",
    "nombre_sain          2426\n",
    "nombre_exposed        573\n",
    "nombre_recovered    16026\n",
    "Name: 526, dtype: int64"
   ]
  },
  {
   "cell_type": "markdown",
   "id": "4010c118",
   "metadata": {},
   "source": [
    "nombre_infected       971\n",
    "nombre_sain          2439\n",
    "nombre_exposed        581\n",
    "nombre_recovered    16009\n",
    "Name: 527, dtype: int64"
   ]
  },
  {
   "cell_type": "markdown",
   "id": "d971a4c9",
   "metadata": {},
   "source": [
    "nombre_infected      1011\n",
    "nombre_sain          2492\n",
    "nombre_exposed        532\n",
    "nombre_recovered    15965\n",
    "Name: 528, dtype: int64"
   ]
  },
  {
   "cell_type": "markdown",
   "id": "95e6c05e",
   "metadata": {},
   "source": [
    "nombre_infected      1010\n",
    "nombre_sain          2488\n",
    "nombre_exposed        537\n",
    "nombre_recovered    15965\n",
    "Name: 529, dtype: int64"
   ]
  },
  {
   "cell_type": "markdown",
   "id": "cc6b7a24",
   "metadata": {},
   "source": [
    "nombre_infected      1021\n",
    "nombre_sain          2468\n",
    "nombre_exposed        569\n",
    "nombre_recovered    15942\n",
    "Name: 530, dtype: int64"
   ]
  },
  {
   "cell_type": "markdown",
   "id": "53a373b5",
   "metadata": {},
   "source": [
    "nombre_infected      1029\n",
    "nombre_sain          2451\n",
    "nombre_exposed        600\n",
    "nombre_recovered    15920\n",
    "Name: 531, dtype: int64"
   ]
  },
  {
   "cell_type": "markdown",
   "id": "220f967f",
   "metadata": {},
   "source": [
    "nombre_infected      1044\n",
    "nombre_sain          2443\n",
    "nombre_exposed        638\n",
    "nombre_recovered    15875\n",
    "Name: 532, dtype: int64"
   ]
  },
  {
   "cell_type": "markdown",
   "id": "1f4375a3",
   "metadata": {},
   "source": [
    "nombre_infected      1078\n",
    "nombre_sain          2428\n",
    "nombre_exposed        625\n",
    "nombre_recovered    15869\n",
    "Name: 533, dtype: int64"
   ]
  },
  {
   "cell_type": "markdown",
   "id": "ab6677a7",
   "metadata": {},
   "source": [
    "nombre_infected      1091\n",
    "nombre_sain          2400\n",
    "nombre_exposed        637\n",
    "nombre_recovered    15872\n",
    "Name: 534, dtype: int64"
   ]
  },
  {
   "cell_type": "markdown",
   "id": "0e1442f9",
   "metadata": {},
   "source": [
    "nombre_infected      1091\n",
    "nombre_sain          2398\n",
    "nombre_exposed        637\n",
    "nombre_recovered    15874\n",
    "Name: 535, dtype: int64"
   ]
  },
  {
   "cell_type": "markdown",
   "id": "9c15f4b3",
   "metadata": {},
   "source": [
    "nombre_infected      1092\n",
    "nombre_sain          2388\n",
    "nombre_exposed        650\n",
    "nombre_recovered    15870\n",
    "Name: 536, dtype: int64"
   ]
  },
  {
   "cell_type": "markdown",
   "id": "9cac160d",
   "metadata": {},
   "source": [
    "nombre_infected      1106\n",
    "nombre_sain          2372\n",
    "nombre_exposed        647\n",
    "nombre_recovered    15875\n",
    "Name: 537, dtype: int64"
   ]
  },
  {
   "cell_type": "markdown",
   "id": "b4720557",
   "metadata": {},
   "source": [
    "nombre_infected      1129\n",
    "nombre_sain          2356\n",
    "nombre_exposed        636\n",
    "nombre_recovered    15879\n",
    "Name: 538, dtype: int64"
   ]
  },
  {
   "cell_type": "markdown",
   "id": "83e8a219",
   "metadata": {},
   "source": [
    "nombre_infected      1143\n",
    "nombre_sain          2344\n",
    "nombre_exposed        636\n",
    "nombre_recovered    15877\n",
    "Name: 539, dtype: int64"
   ]
  },
  {
   "cell_type": "markdown",
   "id": "1b372bc8",
   "metadata": {},
   "source": [
    "nombre_infected      1174\n",
    "nombre_sain          2365\n",
    "nombre_exposed        596\n",
    "nombre_recovered    15865\n",
    "Name: 540, dtype: int64"
   ]
  },
  {
   "cell_type": "markdown",
   "id": "90947b16",
   "metadata": {},
   "source": [
    "nombre_infected      1194\n",
    "nombre_sain          2351\n",
    "nombre_exposed        593\n",
    "nombre_recovered    15862\n",
    "Name: 541, dtype: int64"
   ]
  },
  {
   "cell_type": "markdown",
   "id": "d0ee2a26",
   "metadata": {},
   "source": [
    "nombre_infected      1199\n",
    "nombre_sain          2319\n",
    "nombre_exposed        614\n",
    "nombre_recovered    15868\n",
    "Name: 542, dtype: int64"
   ]
  },
  {
   "cell_type": "markdown",
   "id": "641daada",
   "metadata": {},
   "source": [
    "nombre_infected      1164\n",
    "nombre_sain          2292\n",
    "nombre_exposed        640\n",
    "nombre_recovered    15904\n",
    "Name: 543, dtype: int64"
   ]
  },
  {
   "cell_type": "markdown",
   "id": "8daa869f",
   "metadata": {},
   "source": [
    "nombre_infected      1161\n",
    "nombre_sain          2237\n",
    "nombre_exposed        687\n",
    "nombre_recovered    15915\n",
    "Name: 544, dtype: int64"
   ]
  },
  {
   "cell_type": "markdown",
   "id": "f893069c",
   "metadata": {},
   "source": [
    "nombre_infected      1174\n",
    "nombre_sain          2212\n",
    "nombre_exposed        684\n",
    "nombre_recovered    15930\n",
    "Name: 545, dtype: int64"
   ]
  },
  {
   "cell_type": "markdown",
   "id": "a3941a35",
   "metadata": {},
   "source": [
    "nombre_infected      1192\n",
    "nombre_sain          2200\n",
    "nombre_exposed        667\n",
    "nombre_recovered    15941\n",
    "Name: 546, dtype: int64"
   ]
  },
  {
   "cell_type": "markdown",
   "id": "0e2e5e7d",
   "metadata": {},
   "source": [
    "nombre_infected      1199\n",
    "nombre_sain          2173\n",
    "nombre_exposed        662\n",
    "nombre_recovered    15966\n",
    "Name: 547, dtype: int64"
   ]
  },
  {
   "cell_type": "markdown",
   "id": "586baf29",
   "metadata": {},
   "source": [
    "nombre_infected      1183\n",
    "nombre_sain          2145\n",
    "nombre_exposed        670\n",
    "nombre_recovered    16002\n",
    "Name: 548, dtype: int64"
   ]
  },
  {
   "cell_type": "markdown",
   "id": "82555dc8",
   "metadata": {},
   "source": [
    "nombre_infected      1187\n",
    "nombre_sain          2121\n",
    "nombre_exposed        652\n",
    "nombre_recovered    16040\n",
    "Name: 549, dtype: int64"
   ]
  },
  {
   "cell_type": "markdown",
   "id": "e5dcc80e",
   "metadata": {},
   "source": [
    "nombre_infected      1195\n",
    "nombre_sain          2098\n",
    "nombre_exposed        664\n",
    "nombre_recovered    16043\n",
    "Name: 550, dtype: int64"
   ]
  },
  {
   "cell_type": "markdown",
   "id": "dba901d2",
   "metadata": {},
   "source": [
    "nombre_infected      1197\n",
    "nombre_sain          2081\n",
    "nombre_exposed        639\n",
    "nombre_recovered    16083\n",
    "Name: 551, dtype: int64"
   ]
  },
  {
   "cell_type": "markdown",
   "id": "d6934d51",
   "metadata": {},
   "source": [
    "nombre_infected      1190\n",
    "nombre_sain          2052\n",
    "nombre_exposed        627\n",
    "nombre_recovered    16131\n",
    "Name: 552, dtype: int64"
   ]
  },
  {
   "cell_type": "markdown",
   "id": "986f9e8f",
   "metadata": {},
   "source": [
    "nombre_infected      1165\n",
    "nombre_sain          2057\n",
    "nombre_exposed        615\n",
    "nombre_recovered    16163\n",
    "Name: 553, dtype: int64"
   ]
  },
  {
   "cell_type": "markdown",
   "id": "b2aa9beb",
   "metadata": {},
   "source": [
    "nombre_infected      1145\n",
    "nombre_sain          2057\n",
    "nombre_exposed        617\n",
    "nombre_recovered    16181\n",
    "Name: 554, dtype: int64"
   ]
  },
  {
   "cell_type": "markdown",
   "id": "184a9629",
   "metadata": {},
   "source": [
    "nombre_infected      1144\n",
    "nombre_sain          2048\n",
    "nombre_exposed        595\n",
    "nombre_recovered    16213\n",
    "Name: 555, dtype: int64"
   ]
  },
  {
   "cell_type": "markdown",
   "id": "f35a0e59",
   "metadata": {},
   "source": [
    "nombre_infected      1178\n",
    "nombre_sain          2058\n",
    "nombre_exposed        572\n",
    "nombre_recovered    16192\n",
    "Name: 556, dtype: int64"
   ]
  },
  {
   "cell_type": "markdown",
   "id": "16e125bf",
   "metadata": {},
   "source": [
    "nombre_infected      1143\n",
    "nombre_sain          2061\n",
    "nombre_exposed        591\n",
    "nombre_recovered    16205\n",
    "Name: 557, dtype: int64"
   ]
  },
  {
   "cell_type": "markdown",
   "id": "dcf44112",
   "metadata": {},
   "source": [
    "nombre_infected      1135\n",
    "nombre_sain          2037\n",
    "nombre_exposed        624\n",
    "nombre_recovered    16204\n",
    "Name: 558, dtype: int64"
   ]
  },
  {
   "cell_type": "markdown",
   "id": "7b9ab60b",
   "metadata": {},
   "source": [
    "nombre_infected      1147\n",
    "nombre_sain          2036\n",
    "nombre_exposed        620\n",
    "nombre_recovered    16197\n",
    "Name: 559, dtype: int64"
   ]
  },
  {
   "cell_type": "markdown",
   "id": "c7ed8f29",
   "metadata": {},
   "source": [
    "nombre_infected      1147\n",
    "nombre_sain          2006\n",
    "nombre_exposed        648\n",
    "nombre_recovered    16199\n",
    "Name: 560, dtype: int64"
   ]
  },
  {
   "cell_type": "markdown",
   "id": "d89eb2b6",
   "metadata": {},
   "source": [
    "nombre_infected      1148\n",
    "nombre_sain          1991\n",
    "nombre_exposed        640\n",
    "nombre_recovered    16221\n",
    "Name: 561, dtype: int64"
   ]
  },
  {
   "cell_type": "markdown",
   "id": "c18c77c6",
   "metadata": {},
   "source": [
    "nombre_infected      1150\n",
    "nombre_sain          2025\n",
    "nombre_exposed        612\n",
    "nombre_recovered    16213\n",
    "Name: 562, dtype: int64"
   ]
  },
  {
   "cell_type": "markdown",
   "id": "d0732de6",
   "metadata": {},
   "source": [
    "nombre_infected      1153\n",
    "nombre_sain          2048\n",
    "nombre_exposed        602\n",
    "nombre_recovered    16197\n",
    "Name: 563, dtype: int64"
   ]
  },
  {
   "cell_type": "markdown",
   "id": "81245aea",
   "metadata": {},
   "source": [
    "nombre_infected      1118\n",
    "nombre_sain          2048\n",
    "nombre_exposed        609\n",
    "nombre_recovered    16225\n",
    "Name: 564, dtype: int64"
   ]
  },
  {
   "cell_type": "markdown",
   "id": "592ae36f",
   "metadata": {},
   "source": [
    "nombre_infected      1124\n",
    "nombre_sain          2043\n",
    "nombre_exposed        590\n",
    "nombre_recovered    16243\n",
    "Name: 565, dtype: int64"
   ]
  },
  {
   "cell_type": "markdown",
   "id": "45c4434c",
   "metadata": {},
   "source": [
    "nombre_infected      1124\n",
    "nombre_sain          2066\n",
    "nombre_exposed        600\n",
    "nombre_recovered    16210\n",
    "Name: 566, dtype: int64"
   ]
  },
  {
   "cell_type": "markdown",
   "id": "24f24492",
   "metadata": {},
   "source": [
    "nombre_infected      1127\n",
    "nombre_sain          2062\n",
    "nombre_exposed        585\n",
    "nombre_recovered    16226\n",
    "Name: 567, dtype: int64"
   ]
  },
  {
   "cell_type": "markdown",
   "id": "1f5eb446",
   "metadata": {},
   "source": [
    "nombre_infected      1114\n",
    "nombre_sain          2077\n",
    "nombre_exposed        574\n",
    "nombre_recovered    16235\n",
    "Name: 568, dtype: int64"
   ]
  },
  {
   "cell_type": "markdown",
   "id": "7a3c604b",
   "metadata": {},
   "source": [
    "nombre_infected      1099\n",
    "nombre_sain          2103\n",
    "nombre_exposed        564\n",
    "nombre_recovered    16234\n",
    "Name: 569, dtype: int64"
   ]
  },
  {
   "cell_type": "markdown",
   "id": "1816e9ed",
   "metadata": {},
   "source": [
    "nombre_infected      1119\n",
    "nombre_sain          2124\n",
    "nombre_exposed        525\n",
    "nombre_recovered    16232\n",
    "Name: 570, dtype: int64"
   ]
  },
  {
   "cell_type": "markdown",
   "id": "864927a7",
   "metadata": {},
   "source": [
    "nombre_infected      1096\n",
    "nombre_sain          2102\n",
    "nombre_exposed        557\n",
    "nombre_recovered    16245\n",
    "Name: 571, dtype: int64"
   ]
  },
  {
   "cell_type": "markdown",
   "id": "09dc74f9",
   "metadata": {},
   "source": [
    "nombre_infected      1056\n",
    "nombre_sain          2093\n",
    "nombre_exposed        573\n",
    "nombre_recovered    16278\n",
    "Name: 572, dtype: int64"
   ]
  },
  {
   "cell_type": "markdown",
   "id": "f976af6d",
   "metadata": {},
   "source": [
    "nombre_infected      1060\n",
    "nombre_sain          2094\n",
    "nombre_exposed        597\n",
    "nombre_recovered    16249\n",
    "Name: 573, dtype: int64"
   ]
  },
  {
   "cell_type": "markdown",
   "id": "46a7a33f",
   "metadata": {},
   "source": [
    "nombre_infected      1016\n",
    "nombre_sain          2127\n",
    "nombre_exposed        591\n",
    "nombre_recovered    16266\n",
    "Name: 574, dtype: int64"
   ]
  },
  {
   "cell_type": "markdown",
   "id": "879d3675",
   "metadata": {},
   "source": [
    "nombre_infected      1031\n",
    "nombre_sain          2146\n",
    "nombre_exposed        546\n",
    "nombre_recovered    16277\n",
    "Name: 575, dtype: int64"
   ]
  },
  {
   "cell_type": "markdown",
   "id": "51672cfd",
   "metadata": {},
   "source": [
    "nombre_infected      1007\n",
    "nombre_sain          2172\n",
    "nombre_exposed        533\n",
    "nombre_recovered    16288\n",
    "Name: 576, dtype: int64"
   ]
  },
  {
   "cell_type": "markdown",
   "id": "f8b3b4e9",
   "metadata": {},
   "source": [
    "nombre_infected       985\n",
    "nombre_sain          2183\n",
    "nombre_exposed        517\n",
    "nombre_recovered    16315\n",
    "Name: 577, dtype: int64"
   ]
  },
  {
   "cell_type": "markdown",
   "id": "96f1a481",
   "metadata": {},
   "source": [
    "nombre_infected       978\n",
    "nombre_sain          2207\n",
    "nombre_exposed        495\n",
    "nombre_recovered    16320\n",
    "Name: 578, dtype: int64"
   ]
  },
  {
   "cell_type": "markdown",
   "id": "08833bd5",
   "metadata": {},
   "source": [
    "nombre_infected       979\n",
    "nombre_sain          2207\n",
    "nombre_exposed        500\n",
    "nombre_recovered    16314\n",
    "Name: 579, dtype: int64"
   ]
  },
  {
   "cell_type": "markdown",
   "id": "9fe34df0",
   "metadata": {},
   "source": [
    "nombre_infected       932\n",
    "nombre_sain          2205\n",
    "nombre_exposed        515\n",
    "nombre_recovered    16348\n",
    "Name: 580, dtype: int64"
   ]
  },
  {
   "cell_type": "markdown",
   "id": "63d2ff8d",
   "metadata": {},
   "source": [
    "nombre_infected       907\n",
    "nombre_sain          2229\n",
    "nombre_exposed        496\n",
    "nombre_recovered    16368\n",
    "Name: 581, dtype: int64"
   ]
  },
  {
   "cell_type": "markdown",
   "id": "a8653ad9",
   "metadata": {},
   "source": [
    "nombre_infected       894\n",
    "nombre_sain          2253\n",
    "nombre_exposed        503\n",
    "nombre_recovered    16350\n",
    "Name: 582, dtype: int64"
   ]
  },
  {
   "cell_type": "markdown",
   "id": "f163e6aa",
   "metadata": {},
   "source": [
    "nombre_infected       899\n",
    "nombre_sain          2263\n",
    "nombre_exposed        500\n",
    "nombre_recovered    16338\n",
    "Name: 583, dtype: int64"
   ]
  },
  {
   "cell_type": "markdown",
   "id": "3f61ad18",
   "metadata": {},
   "source": [
    "nombre_infected       919\n",
    "nombre_sain          2256\n",
    "nombre_exposed        513\n",
    "nombre_recovered    16312\n",
    "Name: 584, dtype: int64"
   ]
  },
  {
   "cell_type": "markdown",
   "id": "3c7166ea",
   "metadata": {},
   "source": [
    "nombre_infected       906\n",
    "nombre_sain          2247\n",
    "nombre_exposed        543\n",
    "nombre_recovered    16304\n",
    "Name: 585, dtype: int64"
   ]
  },
  {
   "cell_type": "markdown",
   "id": "18499b6f",
   "metadata": {},
   "source": [
    "nombre_infected       902\n",
    "nombre_sain          2270\n",
    "nombre_exposed        543\n",
    "nombre_recovered    16285\n",
    "Name: 586, dtype: int64"
   ]
  },
  {
   "cell_type": "markdown",
   "id": "21aec500",
   "metadata": {},
   "source": [
    "nombre_infected       922\n",
    "nombre_sain          2265\n",
    "nombre_exposed        553\n",
    "nombre_recovered    16260\n",
    "Name: 587, dtype: int64"
   ]
  },
  {
   "cell_type": "markdown",
   "id": "549d48ed",
   "metadata": {},
   "source": [
    "nombre_infected       921\n",
    "nombre_sain          2257\n",
    "nombre_exposed        556\n",
    "nombre_recovered    16266\n",
    "Name: 588, dtype: int64"
   ]
  },
  {
   "cell_type": "markdown",
   "id": "071bf7ef",
   "metadata": {},
   "source": [
    "nombre_infected       939\n",
    "nombre_sain          2256\n",
    "nombre_exposed        552\n",
    "nombre_recovered    16253\n",
    "Name: 589, dtype: int64"
   ]
  },
  {
   "cell_type": "markdown",
   "id": "f4ff6e45",
   "metadata": {},
   "source": [
    "nombre_infected       936\n",
    "nombre_sain          2260\n",
    "nombre_exposed        544\n",
    "nombre_recovered    16260\n",
    "Name: 590, dtype: int64"
   ]
  },
  {
   "cell_type": "markdown",
   "id": "3957277c",
   "metadata": {},
   "source": [
    "nombre_infected       931\n",
    "nombre_sain          2275\n",
    "nombre_exposed        546\n",
    "nombre_recovered    16248\n",
    "Name: 591, dtype: int64"
   ]
  },
  {
   "cell_type": "markdown",
   "id": "7bcf2331",
   "metadata": {},
   "source": [
    "nombre_infected       920\n",
    "nombre_sain          2290\n",
    "nombre_exposed        542\n",
    "nombre_recovered    16248\n",
    "Name: 592, dtype: int64"
   ]
  },
  {
   "cell_type": "markdown",
   "id": "ed7f4a19",
   "metadata": {},
   "source": [
    "nombre_infected       943\n",
    "nombre_sain          2305\n",
    "nombre_exposed        537\n",
    "nombre_recovered    16215\n",
    "Name: 593, dtype: int64"
   ]
  },
  {
   "cell_type": "markdown",
   "id": "be4c222c",
   "metadata": {},
   "source": [
    "nombre_infected       919\n",
    "nombre_sain          2333\n",
    "nombre_exposed        538\n",
    "nombre_recovered    16210\n",
    "Name: 594, dtype: int64"
   ]
  },
  {
   "cell_type": "markdown",
   "id": "84d8f7be",
   "metadata": {},
   "source": [
    "nombre_infected       942\n",
    "nombre_sain          2332\n",
    "nombre_exposed        517\n",
    "nombre_recovered    16209\n",
    "Name: 595, dtype: int64"
   ]
  },
  {
   "cell_type": "markdown",
   "id": "176ada98",
   "metadata": {},
   "source": [
    "nombre_infected       932\n",
    "nombre_sain          2349\n",
    "nombre_exposed        533\n",
    "nombre_recovered    16186\n",
    "Name: 596, dtype: int64"
   ]
  },
  {
   "cell_type": "markdown",
   "id": "87806ce6",
   "metadata": {},
   "source": [
    "nombre_infected       923\n",
    "nombre_sain          2365\n",
    "nombre_exposed        542\n",
    "nombre_recovered    16170\n",
    "Name: 597, dtype: int64"
   ]
  },
  {
   "cell_type": "markdown",
   "id": "d409ca93",
   "metadata": {},
   "source": [
    "nombre_infected       917\n",
    "nombre_sain          2371\n",
    "nombre_exposed        560\n",
    "nombre_recovered    16152\n",
    "Name: 598, dtype: int64"
   ]
  },
  {
   "cell_type": "markdown",
   "id": "fa607297",
   "metadata": {},
   "source": [
    "nombre_infected       915\n",
    "nombre_sain          2410\n",
    "nombre_exposed        552\n",
    "nombre_recovered    16123\n",
    "Name: 599, dtype: int64"
   ]
  },
  {
   "cell_type": "markdown",
   "id": "85ac5351",
   "metadata": {},
   "source": [
    "nombre_infected       937\n",
    "nombre_sain          2406\n",
    "nombre_exposed        560\n",
    "nombre_recovered    16097\n",
    "Name: 600, dtype: int64"
   ]
  },
  {
   "cell_type": "markdown",
   "id": "1f58ff28",
   "metadata": {},
   "source": [
    "nombre_infected       928\n",
    "nombre_sain          2389\n",
    "nombre_exposed        574\n",
    "nombre_recovered    16109\n",
    "Name: 601, dtype: int64"
   ]
  },
  {
   "cell_type": "markdown",
   "id": "5a471012",
   "metadata": {},
   "source": [
    "nombre_infected       932\n",
    "nombre_sain          2384\n",
    "nombre_exposed        569\n",
    "nombre_recovered    16115\n",
    "Name: 602, dtype: int64"
   ]
  },
  {
   "cell_type": "markdown",
   "id": "699105a7",
   "metadata": {},
   "source": [
    "nombre_infected       946\n",
    "nombre_sain          2373\n",
    "nombre_exposed        584\n",
    "nombre_recovered    16097\n",
    "Name: 603, dtype: int64"
   ]
  },
  {
   "cell_type": "markdown",
   "id": "c7203bd7",
   "metadata": {},
   "source": [
    "nombre_infected       933\n",
    "nombre_sain          2376\n",
    "nombre_exposed        607\n",
    "nombre_recovered    16084\n",
    "Name: 604, dtype: int64"
   ]
  },
  {
   "cell_type": "markdown",
   "id": "7d20c9b7",
   "metadata": {},
   "source": [
    "nombre_infected       928\n",
    "nombre_sain          2389\n",
    "nombre_exposed        607\n",
    "nombre_recovered    16076\n",
    "Name: 605, dtype: int64"
   ]
  },
  {
   "cell_type": "markdown",
   "id": "db5709d0",
   "metadata": {},
   "source": [
    "nombre_infected       942\n",
    "nombre_sain          2429\n",
    "nombre_exposed        595\n",
    "nombre_recovered    16034\n",
    "Name: 606, dtype: int64"
   ]
  },
  {
   "cell_type": "markdown",
   "id": "89796964",
   "metadata": {},
   "source": [
    "nombre_infected       941\n",
    "nombre_sain          2441\n",
    "nombre_exposed        591\n",
    "nombre_recovered    16027\n",
    "Name: 607, dtype: int64"
   ]
  },
  {
   "cell_type": "markdown",
   "id": "409e3373",
   "metadata": {},
   "source": [
    "nombre_infected       929\n",
    "nombre_sain          2431\n",
    "nombre_exposed        604\n",
    "nombre_recovered    16036\n",
    "Name: 608, dtype: int64"
   ]
  },
  {
   "cell_type": "markdown",
   "id": "d650b72d",
   "metadata": {},
   "source": [
    "nombre_infected       935\n",
    "nombre_sain          2459\n",
    "nombre_exposed        592\n",
    "nombre_recovered    16014\n",
    "Name: 609, dtype: int64"
   ]
  },
  {
   "cell_type": "markdown",
   "id": "7e9a7d20",
   "metadata": {},
   "source": [
    "nombre_infected       953\n",
    "nombre_sain          2457\n",
    "nombre_exposed        593\n",
    "nombre_recovered    15997\n",
    "Name: 610, dtype: int64"
   ]
  },
  {
   "cell_type": "markdown",
   "id": "48a9f20a",
   "metadata": {},
   "source": [
    "nombre_infected       950\n",
    "nombre_sain          2466\n",
    "nombre_exposed        608\n",
    "nombre_recovered    15976\n",
    "Name: 611, dtype: int64"
   ]
  },
  {
   "cell_type": "markdown",
   "id": "4aed7fcb",
   "metadata": {},
   "source": [
    "nombre_infected       917\n",
    "nombre_sain          2457\n",
    "nombre_exposed        637\n",
    "nombre_recovered    15989\n",
    "Name: 612, dtype: int64"
   ]
  },
  {
   "cell_type": "markdown",
   "id": "c5400d0a",
   "metadata": {},
   "source": [
    "nombre_infected       930\n",
    "nombre_sain          2425\n",
    "nombre_exposed        638\n",
    "nombre_recovered    16007\n",
    "Name: 613, dtype: int64"
   ]
  },
  {
   "cell_type": "markdown",
   "id": "3fdbbfe3",
   "metadata": {},
   "source": [
    "nombre_infected       939\n",
    "nombre_sain          2406\n",
    "nombre_exposed        659\n",
    "nombre_recovered    15996\n",
    "Name: 614, dtype: int64"
   ]
  },
  {
   "cell_type": "markdown",
   "id": "bdeeff41",
   "metadata": {},
   "source": [
    "nombre_infected       944\n",
    "nombre_sain          2401\n",
    "nombre_exposed        645\n",
    "nombre_recovered    16010\n",
    "Name: 615, dtype: int64"
   ]
  },
  {
   "cell_type": "markdown",
   "id": "6ed2ed98",
   "metadata": {},
   "source": [
    "nombre_infected       976\n",
    "nombre_sain          2391\n",
    "nombre_exposed        624\n",
    "nombre_recovered    16009\n",
    "Name: 616, dtype: int64"
   ]
  },
  {
   "cell_type": "markdown",
   "id": "2e372d92",
   "metadata": {},
   "source": [
    "nombre_infected       995\n",
    "nombre_sain          2335\n",
    "nombre_exposed        647\n",
    "nombre_recovered    16023\n",
    "Name: 617, dtype: int64"
   ]
  },
  {
   "cell_type": "markdown",
   "id": "377c15c7",
   "metadata": {},
   "source": [
    "nombre_infected      1004\n",
    "nombre_sain          2320\n",
    "nombre_exposed        616\n",
    "nombre_recovered    16060\n",
    "Name: 618, dtype: int64"
   ]
  },
  {
   "cell_type": "markdown",
   "id": "a45daf16",
   "metadata": {},
   "source": [
    "nombre_infected      1042\n",
    "nombre_sain          2288\n",
    "nombre_exposed        606\n",
    "nombre_recovered    16064\n",
    "Name: 619, dtype: int64"
   ]
  },
  {
   "cell_type": "markdown",
   "id": "13a4a9eb",
   "metadata": {},
   "source": [
    "nombre_infected      1055\n",
    "nombre_sain          2259\n",
    "nombre_exposed        614\n",
    "nombre_recovered    16072\n",
    "Name: 620, dtype: int64"
   ]
  },
  {
   "cell_type": "markdown",
   "id": "3cd8bb08",
   "metadata": {},
   "source": [
    "nombre_infected      1065\n",
    "nombre_sain          2242\n",
    "nombre_exposed        589\n",
    "nombre_recovered    16104\n",
    "Name: 621, dtype: int64"
   ]
  },
  {
   "cell_type": "markdown",
   "id": "ff9cee57",
   "metadata": {},
   "source": [
    "nombre_infected      1046\n",
    "nombre_sain          2224\n",
    "nombre_exposed        596\n",
    "nombre_recovered    16134\n",
    "Name: 622, dtype: int64"
   ]
  },
  {
   "cell_type": "markdown",
   "id": "844d2926",
   "metadata": {},
   "source": [
    "nombre_infected      1043\n",
    "nombre_sain          2221\n",
    "nombre_exposed        563\n",
    "nombre_recovered    16173\n",
    "Name: 623, dtype: int64"
   ]
  },
  {
   "cell_type": "markdown",
   "id": "78e7a58a",
   "metadata": {},
   "source": [
    "nombre_infected      1050\n",
    "nombre_sain          2196\n",
    "nombre_exposed        566\n",
    "nombre_recovered    16188\n",
    "Name: 624, dtype: int64"
   ]
  },
  {
   "cell_type": "markdown",
   "id": "c3f2bd0e",
   "metadata": {},
   "source": [
    "nombre_infected      1071\n",
    "nombre_sain          2189\n",
    "nombre_exposed        554\n",
    "nombre_recovered    16186\n",
    "Name: 625, dtype: int64"
   ]
  },
  {
   "cell_type": "markdown",
   "id": "20a2f753",
   "metadata": {},
   "source": [
    "nombre_infected      1044\n",
    "nombre_sain          2183\n",
    "nombre_exposed        570\n",
    "nombre_recovered    16203\n",
    "Name: 626, dtype: int64"
   ]
  },
  {
   "cell_type": "markdown",
   "id": "3e995589",
   "metadata": {},
   "source": [
    "nombre_infected      1029\n",
    "nombre_sain          2167\n",
    "nombre_exposed        568\n",
    "nombre_recovered    16236\n",
    "Name: 627, dtype: int64"
   ]
  },
  {
   "cell_type": "markdown",
   "id": "2d16cb69",
   "metadata": {},
   "source": [
    "nombre_infected      1027\n",
    "nombre_sain          2149\n",
    "nombre_exposed        575\n",
    "nombre_recovered    16249\n",
    "Name: 628, dtype: int64"
   ]
  },
  {
   "cell_type": "markdown",
   "id": "dab23e3a",
   "metadata": {},
   "source": [
    "nombre_infected      1003\n",
    "nombre_sain          2151\n",
    "nombre_exposed        569\n",
    "nombre_recovered    16277\n",
    "Name: 629, dtype: int64"
   ]
  },
  {
   "cell_type": "markdown",
   "id": "f602f65e",
   "metadata": {},
   "source": [
    "nombre_infected      1007\n",
    "nombre_sain          2146\n",
    "nombre_exposed        580\n",
    "nombre_recovered    16267\n",
    "Name: 630, dtype: int64"
   ]
  },
  {
   "cell_type": "markdown",
   "id": "41687b97",
   "metadata": {},
   "source": [
    "nombre_infected       974\n",
    "nombre_sain          2161\n",
    "nombre_exposed        573\n",
    "nombre_recovered    16292\n",
    "Name: 631, dtype: int64"
   ]
  },
  {
   "cell_type": "markdown",
   "id": "48d7d1ac",
   "metadata": {},
   "source": [
    "nombre_infected       955\n",
    "nombre_sain          2159\n",
    "nombre_exposed        573\n",
    "nombre_recovered    16313\n",
    "Name: 632, dtype: int64"
   ]
  },
  {
   "cell_type": "markdown",
   "id": "e3f0a988",
   "metadata": {},
   "source": [
    "nombre_infected       939\n",
    "nombre_sain          2141\n",
    "nombre_exposed        592\n",
    "nombre_recovered    16328\n",
    "Name: 633, dtype: int64"
   ]
  },
  {
   "cell_type": "markdown",
   "id": "9f50394e",
   "metadata": {},
   "source": [
    "nombre_infected       965\n",
    "nombre_sain          2130\n",
    "nombre_exposed        590\n",
    "nombre_recovered    16315\n",
    "Name: 634, dtype: int64"
   ]
  },
  {
   "cell_type": "markdown",
   "id": "e530299b",
   "metadata": {},
   "source": [
    "nombre_infected       951\n",
    "nombre_sain          2118\n",
    "nombre_exposed        570\n",
    "nombre_recovered    16361\n",
    "Name: 635, dtype: int64"
   ]
  },
  {
   "cell_type": "markdown",
   "id": "7094da54",
   "metadata": {},
   "source": [
    "nombre_infected       956\n",
    "nombre_sain          2126\n",
    "nombre_exposed        548\n",
    "nombre_recovered    16370\n",
    "Name: 636, dtype: int64"
   ]
  },
  {
   "cell_type": "markdown",
   "id": "0894371d",
   "metadata": {},
   "source": [
    "nombre_infected       942\n",
    "nombre_sain          2135\n",
    "nombre_exposed        548\n",
    "nombre_recovered    16375\n",
    "Name: 637, dtype: int64"
   ]
  },
  {
   "cell_type": "markdown",
   "id": "3da651ae",
   "metadata": {},
   "source": [
    "nombre_infected       926\n",
    "nombre_sain          2138\n",
    "nombre_exposed        551\n",
    "nombre_recovered    16385\n",
    "Name: 638, dtype: int64"
   ]
  },
  {
   "cell_type": "markdown",
   "id": "afebdba1",
   "metadata": {},
   "source": [
    "nombre_infected       931\n",
    "nombre_sain          2126\n",
    "nombre_exposed        546\n",
    "nombre_recovered    16397\n",
    "Name: 639, dtype: int64"
   ]
  },
  {
   "cell_type": "markdown",
   "id": "6a0e74ce",
   "metadata": {},
   "source": [
    "nombre_infected       924\n",
    "nombre_sain          2155\n",
    "nombre_exposed        518\n",
    "nombre_recovered    16403\n",
    "Name: 640, dtype: int64"
   ]
  },
  {
   "cell_type": "markdown",
   "id": "4a73604d",
   "metadata": {},
   "source": [
    "nombre_infected       926\n",
    "nombre_sain          2161\n",
    "nombre_exposed        520\n",
    "nombre_recovered    16393\n",
    "Name: 641, dtype: int64"
   ]
  },
  {
   "cell_type": "markdown",
   "id": "50b8deef",
   "metadata": {},
   "source": [
    "nombre_infected       924\n",
    "nombre_sain          2149\n",
    "nombre_exposed        540\n",
    "nombre_recovered    16387\n",
    "Name: 642, dtype: int64"
   ]
  },
  {
   "cell_type": "markdown",
   "id": "7481787e",
   "metadata": {},
   "source": [
    "nombre_infected       913\n",
    "nombre_sain          2153\n",
    "nombre_exposed        554\n",
    "nombre_recovered    16380\n",
    "Name: 643, dtype: int64"
   ]
  },
  {
   "cell_type": "markdown",
   "id": "1648fa20",
   "metadata": {},
   "source": [
    "nombre_infected       877\n",
    "nombre_sain          2188\n",
    "nombre_exposed        549\n",
    "nombre_recovered    16386\n",
    "Name: 644, dtype: int64"
   ]
  },
  {
   "cell_type": "markdown",
   "id": "988a51f1",
   "metadata": {},
   "source": [
    "nombre_infected       891\n",
    "nombre_sain          2225\n",
    "nombre_exposed        516\n",
    "nombre_recovered    16368\n",
    "Name: 645, dtype: int64"
   ]
  },
  {
   "cell_type": "markdown",
   "id": "bc9eaa22",
   "metadata": {},
   "source": [
    "nombre_infected       905\n",
    "nombre_sain          2229\n",
    "nombre_exposed        523\n",
    "nombre_recovered    16343\n",
    "Name: 646, dtype: int64"
   ]
  },
  {
   "cell_type": "markdown",
   "id": "ef5fcd65",
   "metadata": {},
   "source": [
    "nombre_infected       908\n",
    "nombre_sain          2222\n",
    "nombre_exposed        517\n",
    "nombre_recovered    16353\n",
    "Name: 647, dtype: int64"
   ]
  },
  {
   "cell_type": "markdown",
   "id": "6cd9de82",
   "metadata": {},
   "source": [
    "nombre_infected       889\n",
    "nombre_sain          2215\n",
    "nombre_exposed        524\n",
    "nombre_recovered    16372\n",
    "Name: 648, dtype: int64"
   ]
  },
  {
   "cell_type": "markdown",
   "id": "5386d3da",
   "metadata": {},
   "source": [
    "nombre_infected       878\n",
    "nombre_sain          2235\n",
    "nombre_exposed        527\n",
    "nombre_recovered    16360\n",
    "Name: 649, dtype: int64"
   ]
  },
  {
   "cell_type": "markdown",
   "id": "a0b6fa0e",
   "metadata": {},
   "source": [
    "nombre_infected       887\n",
    "nombre_sain          2235\n",
    "nombre_exposed        523\n",
    "nombre_recovered    16355\n",
    "Name: 650, dtype: int64"
   ]
  },
  {
   "cell_type": "markdown",
   "id": "8e5c020b",
   "metadata": {},
   "source": [
    "nombre_infected       892\n",
    "nombre_sain          2275\n",
    "nombre_exposed        502\n",
    "nombre_recovered    16331\n",
    "Name: 651, dtype: int64"
   ]
  },
  {
   "cell_type": "markdown",
   "id": "b22ff1de",
   "metadata": {},
   "source": [
    "nombre_infected       895\n",
    "nombre_sain          2276\n",
    "nombre_exposed        516\n",
    "nombre_recovered    16313\n",
    "Name: 652, dtype: int64"
   ]
  },
  {
   "cell_type": "markdown",
   "id": "a7f89ddc",
   "metadata": {},
   "source": [
    "nombre_infected       872\n",
    "nombre_sain          2278\n",
    "nombre_exposed        530\n",
    "nombre_recovered    16320\n",
    "Name: 653, dtype: int64"
   ]
  },
  {
   "cell_type": "markdown",
   "id": "0ae67c0c",
   "metadata": {},
   "source": [
    "nombre_infected       858\n",
    "nombre_sain          2278\n",
    "nombre_exposed        544\n",
    "nombre_recovered    16320\n",
    "Name: 654, dtype: int64"
   ]
  },
  {
   "cell_type": "markdown",
   "id": "e500258d",
   "metadata": {},
   "source": [
    "nombre_infected       856\n",
    "nombre_sain          2275\n",
    "nombre_exposed        550\n",
    "nombre_recovered    16319\n",
    "Name: 655, dtype: int64"
   ]
  },
  {
   "cell_type": "markdown",
   "id": "b172bd80",
   "metadata": {},
   "source": [
    "nombre_infected       869\n",
    "nombre_sain          2304\n",
    "nombre_exposed        517\n",
    "nombre_recovered    16310\n",
    "Name: 656, dtype: int64"
   ]
  },
  {
   "cell_type": "markdown",
   "id": "23a0bea4",
   "metadata": {},
   "source": [
    "nombre_infected       879\n",
    "nombre_sain          2304\n",
    "nombre_exposed        525\n",
    "nombre_recovered    16292\n",
    "Name: 657, dtype: int64"
   ]
  },
  {
   "cell_type": "markdown",
   "id": "f38f52d1",
   "metadata": {},
   "source": [
    "nombre_infected       867\n",
    "nombre_sain          2325\n",
    "nombre_exposed        529\n",
    "nombre_recovered    16279\n",
    "Name: 658, dtype: int64"
   ]
  },
  {
   "cell_type": "markdown",
   "id": "1ab41564",
   "metadata": {},
   "source": [
    "nombre_infected       851\n",
    "nombre_sain          2332\n",
    "nombre_exposed        531\n",
    "nombre_recovered    16286\n",
    "Name: 659, dtype: int64"
   ]
  },
  {
   "cell_type": "markdown",
   "id": "cf70f36a",
   "metadata": {},
   "source": [
    "nombre_infected       896\n",
    "nombre_sain          2341\n",
    "nombre_exposed        511\n",
    "nombre_recovered    16252\n",
    "Name: 660, dtype: int64"
   ]
  },
  {
   "cell_type": "markdown",
   "id": "3edc3fe2",
   "metadata": {},
   "source": [
    "nombre_infected       897\n",
    "nombre_sain          2380\n",
    "nombre_exposed        492\n",
    "nombre_recovered    16231\n",
    "Name: 661, dtype: int64"
   ]
  },
  {
   "cell_type": "markdown",
   "id": "196ec8ce",
   "metadata": {},
   "source": [
    "nombre_infected       895\n",
    "nombre_sain          2350\n",
    "nombre_exposed        537\n",
    "nombre_recovered    16218\n",
    "Name: 662, dtype: int64"
   ]
  },
  {
   "cell_type": "markdown",
   "id": "eeb655e2",
   "metadata": {},
   "source": [
    "nombre_infected       892\n",
    "nombre_sain          2357\n",
    "nombre_exposed        549\n",
    "nombre_recovered    16202\n",
    "Name: 663, dtype: int64"
   ]
  },
  {
   "cell_type": "markdown",
   "id": "4f5bb36e",
   "metadata": {},
   "source": [
    "nombre_infected       901\n",
    "nombre_sain          2371\n",
    "nombre_exposed        526\n",
    "nombre_recovered    16202\n",
    "Name: 664, dtype: int64"
   ]
  },
  {
   "cell_type": "markdown",
   "id": "7c379b5e",
   "metadata": {},
   "source": [
    "nombre_infected       912\n",
    "nombre_sain          2352\n",
    "nombre_exposed        530\n",
    "nombre_recovered    16206\n",
    "Name: 665, dtype: int64"
   ]
  },
  {
   "cell_type": "markdown",
   "id": "ef6d3892",
   "metadata": {},
   "source": [
    "nombre_infected       892\n",
    "nombre_sain          2368\n",
    "nombre_exposed        538\n",
    "nombre_recovered    16202\n",
    "Name: 666, dtype: int64"
   ]
  },
  {
   "cell_type": "markdown",
   "id": "f91be7f3",
   "metadata": {},
   "source": [
    "nombre_infected       886\n",
    "nombre_sain          2376\n",
    "nombre_exposed        534\n",
    "nombre_recovered    16204\n",
    "Name: 667, dtype: int64"
   ]
  },
  {
   "cell_type": "markdown",
   "id": "ba8a9b66",
   "metadata": {},
   "source": [
    "nombre_infected       907\n",
    "nombre_sain          2382\n",
    "nombre_exposed        547\n",
    "nombre_recovered    16164\n",
    "Name: 668, dtype: int64"
   ]
  },
  {
   "cell_type": "markdown",
   "id": "fdb861b7",
   "metadata": {},
   "source": [
    "nombre_infected       888\n",
    "nombre_sain          2395\n",
    "nombre_exposed        551\n",
    "nombre_recovered    16166\n",
    "Name: 669, dtype: int64"
   ]
  },
  {
   "cell_type": "markdown",
   "id": "42f6705a",
   "metadata": {},
   "source": [
    "nombre_infected       886\n",
    "nombre_sain          2408\n",
    "nombre_exposed        550\n",
    "nombre_recovered    16156\n",
    "Name: 670, dtype: int64"
   ]
  },
  {
   "cell_type": "markdown",
   "id": "373141ba",
   "metadata": {},
   "source": [
    "nombre_infected       904\n",
    "nombre_sain          2423\n",
    "nombre_exposed        538\n",
    "nombre_recovered    16135\n",
    "Name: 671, dtype: int64"
   ]
  },
  {
   "cell_type": "markdown",
   "id": "52ac26b8",
   "metadata": {},
   "source": [
    "nombre_infected       906\n",
    "nombre_sain          2410\n",
    "nombre_exposed        517\n",
    "nombre_recovered    16167\n",
    "Name: 672, dtype: int64"
   ]
  },
  {
   "cell_type": "markdown",
   "id": "3fd27e40",
   "metadata": {},
   "source": [
    "nombre_infected       907\n",
    "nombre_sain          2440\n",
    "nombre_exposed        535\n",
    "nombre_recovered    16118\n",
    "Name: 673, dtype: int64"
   ]
  },
  {
   "cell_type": "markdown",
   "id": "6d7356a0",
   "metadata": {},
   "source": [
    "nombre_infected       893\n",
    "nombre_sain          2426\n",
    "nombre_exposed        556\n",
    "nombre_recovered    16125\n",
    "Name: 674, dtype: int64"
   ]
  },
  {
   "cell_type": "markdown",
   "id": "5e2cb145",
   "metadata": {},
   "source": [
    "nombre_infected       913\n",
    "nombre_sain          2428\n",
    "nombre_exposed        555\n",
    "nombre_recovered    16104\n",
    "Name: 675, dtype: int64"
   ]
  },
  {
   "cell_type": "markdown",
   "id": "b77fc85b",
   "metadata": {},
   "source": [
    "nombre_infected       909\n",
    "nombre_sain          2409\n",
    "nombre_exposed        567\n",
    "nombre_recovered    16115\n",
    "Name: 676, dtype: int64"
   ]
  },
  {
   "cell_type": "markdown",
   "id": "31489dcd",
   "metadata": {},
   "source": [
    "nombre_infected       905\n",
    "nombre_sain          2424\n",
    "nombre_exposed        567\n",
    "nombre_recovered    16104\n",
    "Name: 677, dtype: int64"
   ]
  },
  {
   "cell_type": "markdown",
   "id": "ee2e2e1e",
   "metadata": {},
   "source": [
    "nombre_infected       892\n",
    "nombre_sain          2422\n",
    "nombre_exposed        569\n",
    "nombre_recovered    16117\n",
    "Name: 678, dtype: int64"
   ]
  },
  {
   "cell_type": "markdown",
   "id": "7143e5b5",
   "metadata": {},
   "source": [
    "nombre_infected       925\n",
    "nombre_sain          2445\n",
    "nombre_exposed        545\n",
    "nombre_recovered    16085\n",
    "Name: 679, dtype: int64"
   ]
  },
  {
   "cell_type": "markdown",
   "id": "fa09fd60",
   "metadata": {},
   "source": [
    "nombre_infected       928\n",
    "nombre_sain          2463\n",
    "nombre_exposed        556\n",
    "nombre_recovered    16053\n",
    "Name: 680, dtype: int64"
   ]
  },
  {
   "cell_type": "markdown",
   "id": "de9c39cd",
   "metadata": {},
   "source": [
    "nombre_infected       927\n",
    "nombre_sain          2486\n",
    "nombre_exposed        552\n",
    "nombre_recovered    16035\n",
    "Name: 681, dtype: int64"
   ]
  },
  {
   "cell_type": "markdown",
   "id": "7304f8c2",
   "metadata": {},
   "source": [
    "nombre_infected       927\n",
    "nombre_sain          2495\n",
    "nombre_exposed        571\n",
    "nombre_recovered    16007\n",
    "Name: 682, dtype: int64"
   ]
  },
  {
   "cell_type": "markdown",
   "id": "89ad39a0",
   "metadata": {},
   "source": [
    "nombre_infected       928\n",
    "nombre_sain          2524\n",
    "nombre_exposed        565\n",
    "nombre_recovered    15983\n",
    "Name: 683, dtype: int64"
   ]
  },
  {
   "cell_type": "markdown",
   "id": "86a91406",
   "metadata": {},
   "source": [
    "nombre_infected       931\n",
    "nombre_sain          2530\n",
    "nombre_exposed        578\n",
    "nombre_recovered    15961\n",
    "Name: 684, dtype: int64"
   ]
  },
  {
   "cell_type": "markdown",
   "id": "1a1fd444",
   "metadata": {},
   "source": [
    "nombre_infected       901\n",
    "nombre_sain          2541\n",
    "nombre_exposed        595\n",
    "nombre_recovered    15963\n",
    "Name: 685, dtype: int64"
   ]
  },
  {
   "cell_type": "markdown",
   "id": "eb64c54a",
   "metadata": {},
   "source": [
    "nombre_infected       922\n",
    "nombre_sain          2513\n",
    "nombre_exposed        617\n",
    "nombre_recovered    15948\n",
    "Name: 686, dtype: int64"
   ]
  },
  {
   "cell_type": "markdown",
   "id": "85571407",
   "metadata": {},
   "source": [
    "nombre_infected       919\n",
    "nombre_sain          2567\n",
    "nombre_exposed        610\n",
    "nombre_recovered    15904\n",
    "Name: 687, dtype: int64"
   ]
  },
  {
   "cell_type": "markdown",
   "id": "f1469501",
   "metadata": {},
   "source": [
    "nombre_infected       913\n",
    "nombre_sain          2574\n",
    "nombre_exposed        613\n",
    "nombre_recovered    15900\n",
    "Name: 688, dtype: int64"
   ]
  },
  {
   "cell_type": "markdown",
   "id": "8a1dfe64",
   "metadata": {},
   "source": [
    "nombre_infected       912\n",
    "nombre_sain          2565\n",
    "nombre_exposed        626\n",
    "nombre_recovered    15897\n",
    "Name: 689, dtype: int64"
   ]
  },
  {
   "cell_type": "markdown",
   "id": "b1db9ef2",
   "metadata": {},
   "source": [
    "nombre_infected       920\n",
    "nombre_sain          2573\n",
    "nombre_exposed        626\n",
    "nombre_recovered    15881\n",
    "Name: 690, dtype: int64"
   ]
  },
  {
   "cell_type": "markdown",
   "id": "f90d9ab6",
   "metadata": {},
   "source": [
    "nombre_infected       900\n",
    "nombre_sain          2545\n",
    "nombre_exposed        665\n",
    "nombre_recovered    15890\n",
    "Name: 691, dtype: int64"
   ]
  },
  {
   "cell_type": "markdown",
   "id": "9bc13df6",
   "metadata": {},
   "source": [
    "nombre_infected       906\n",
    "nombre_sain          2562\n",
    "nombre_exposed        635\n",
    "nombre_recovered    15897\n",
    "Name: 692, dtype: int64"
   ]
  },
  {
   "cell_type": "markdown",
   "id": "1862cb24",
   "metadata": {},
   "source": [
    "nombre_infected       927\n",
    "nombre_sain          2574\n",
    "nombre_exposed        645\n",
    "nombre_recovered    15854\n",
    "Name: 693, dtype: int64"
   ]
  },
  {
   "cell_type": "markdown",
   "id": "8897686a",
   "metadata": {},
   "source": [
    "nombre_infected       943\n",
    "nombre_sain          2544\n",
    "nombre_exposed        656\n",
    "nombre_recovered    15857\n",
    "Name: 694, dtype: int64"
   ]
  },
  {
   "cell_type": "markdown",
   "id": "a5b434a0",
   "metadata": {},
   "source": [
    "nombre_infected       938\n",
    "nombre_sain          2554\n",
    "nombre_exposed        667\n",
    "nombre_recovered    15841\n",
    "Name: 695, dtype: int64"
   ]
  },
  {
   "cell_type": "markdown",
   "id": "b75a2aca",
   "metadata": {},
   "source": [
    "nombre_infected       953\n",
    "nombre_sain          2547\n",
    "nombre_exposed        651\n",
    "nombre_recovered    15849\n",
    "Name: 696, dtype: int64"
   ]
  },
  {
   "cell_type": "markdown",
   "id": "5938d9fb",
   "metadata": {},
   "source": [
    "nombre_infected       974\n",
    "nombre_sain          2563\n",
    "nombre_exposed        635\n",
    "nombre_recovered    15828\n",
    "Name: 697, dtype: int64"
   ]
  },
  {
   "cell_type": "markdown",
   "id": "3939ff44",
   "metadata": {},
   "source": [
    "nombre_infected       981\n",
    "nombre_sain          2555\n",
    "nombre_exposed        649\n",
    "nombre_recovered    15815\n",
    "Name: 698, dtype: int64"
   ]
  },
  {
   "cell_type": "markdown",
   "id": "c57854af",
   "metadata": {},
   "source": [
    "nombre_infected       976\n",
    "nombre_sain          2561\n",
    "nombre_exposed        650\n",
    "nombre_recovered    15813\n",
    "Name: 699, dtype: int64"
   ]
  },
  {
   "cell_type": "markdown",
   "id": "88a9e1ed",
   "metadata": {},
   "source": [
    "nombre_infected       981\n",
    "nombre_sain          2589\n",
    "nombre_exposed        627\n",
    "nombre_recovered    15803\n",
    "Name: 700, dtype: int64"
   ]
  },
  {
   "cell_type": "markdown",
   "id": "ba02b32a",
   "metadata": {},
   "source": [
    "nombre_infected      1000\n",
    "nombre_sain          2573\n",
    "nombre_exposed        628\n",
    "nombre_recovered    15799\n",
    "Name: 701, dtype: int64"
   ]
  },
  {
   "cell_type": "markdown",
   "id": "e46d29c9",
   "metadata": {},
   "source": [
    "nombre_infected      1003\n",
    "nombre_sain          2579\n",
    "nombre_exposed        632\n",
    "nombre_recovered    15786\n",
    "Name: 702, dtype: int64"
   ]
  },
  {
   "cell_type": "markdown",
   "id": "89bf7150",
   "metadata": {},
   "source": [
    "nombre_infected       982\n",
    "nombre_sain          2585\n",
    "nombre_exposed        622\n",
    "nombre_recovered    15811\n",
    "Name: 703, dtype: int64"
   ]
  },
  {
   "cell_type": "markdown",
   "id": "d167da37",
   "metadata": {},
   "source": [
    "nombre_infected      1004\n",
    "nombre_sain          2591\n",
    "nombre_exposed        608\n",
    "nombre_recovered    15797\n",
    "Name: 704, dtype: int64"
   ]
  },
  {
   "cell_type": "markdown",
   "id": "1d0cfb65",
   "metadata": {},
   "source": [
    "nombre_infected      1016\n",
    "nombre_sain          2596\n",
    "nombre_exposed        602\n",
    "nombre_recovered    15786\n",
    "Name: 705, dtype: int64"
   ]
  },
  {
   "cell_type": "markdown",
   "id": "6ede0e97",
   "metadata": {},
   "source": [
    "nombre_infected      1011\n",
    "nombre_sain          2586\n",
    "nombre_exposed        610\n",
    "nombre_recovered    15793\n",
    "Name: 706, dtype: int64"
   ]
  },
  {
   "cell_type": "markdown",
   "id": "079f0c08",
   "metadata": {},
   "source": [
    "nombre_infected      1023\n",
    "nombre_sain          2543\n",
    "nombre_exposed        628\n",
    "nombre_recovered    15806\n",
    "Name: 707, dtype: int64"
   ]
  },
  {
   "cell_type": "markdown",
   "id": "26946f3a",
   "metadata": {},
   "source": [
    "nombre_infected      1021\n",
    "nombre_sain          2510\n",
    "nombre_exposed        654\n",
    "nombre_recovered    15815\n",
    "Name: 708, dtype: int64"
   ]
  },
  {
   "cell_type": "markdown",
   "id": "9d67d107",
   "metadata": {},
   "source": [
    "nombre_infected      1010\n",
    "nombre_sain          2476\n",
    "nombre_exposed        668\n",
    "nombre_recovered    15846\n",
    "Name: 709, dtype: int64"
   ]
  },
  {
   "cell_type": "markdown",
   "id": "54316bd1",
   "metadata": {},
   "source": [
    "nombre_infected      1037\n",
    "nombre_sain          2491\n",
    "nombre_exposed        671\n",
    "nombre_recovered    15801\n",
    "Name: 710, dtype: int64"
   ]
  },
  {
   "cell_type": "markdown",
   "id": "b2658aa4",
   "metadata": {},
   "source": [
    "nombre_infected      1056\n",
    "nombre_sain          2472\n",
    "nombre_exposed        668\n",
    "nombre_recovered    15804\n",
    "Name: 711, dtype: int64"
   ]
  },
  {
   "cell_type": "markdown",
   "id": "e4ae1ff2",
   "metadata": {},
   "source": [
    "nombre_infected      1066\n",
    "nombre_sain          2459\n",
    "nombre_exposed        636\n",
    "nombre_recovered    15839\n",
    "Name: 712, dtype: int64"
   ]
  },
  {
   "cell_type": "markdown",
   "id": "2ae9dc9f",
   "metadata": {},
   "source": [
    "nombre_infected      1088\n",
    "nombre_sain          2442\n",
    "nombre_exposed        637\n",
    "nombre_recovered    15833\n",
    "Name: 713, dtype: int64"
   ]
  },
  {
   "cell_type": "markdown",
   "id": "d0b84f5d",
   "metadata": {},
   "source": [
    "nombre_infected      1078\n",
    "nombre_sain          2404\n",
    "nombre_exposed        665\n",
    "nombre_recovered    15853\n",
    "Name: 714, dtype: int64"
   ]
  },
  {
   "cell_type": "markdown",
   "id": "be1313cb",
   "metadata": {},
   "source": [
    "nombre_infected      1063\n",
    "nombre_sain          2370\n",
    "nombre_exposed        675\n",
    "nombre_recovered    15892\n",
    "Name: 715, dtype: int64"
   ]
  },
  {
   "cell_type": "markdown",
   "id": "48589527",
   "metadata": {},
   "source": [
    "nombre_infected      1084\n",
    "nombre_sain          2359\n",
    "nombre_exposed        657\n",
    "nombre_recovered    15900\n",
    "Name: 716, dtype: int64"
   ]
  },
  {
   "cell_type": "markdown",
   "id": "fd624869",
   "metadata": {},
   "source": [
    "nombre_infected      1086\n",
    "nombre_sain          2342\n",
    "nombre_exposed        646\n",
    "nombre_recovered    15926\n",
    "Name: 717, dtype: int64"
   ]
  },
  {
   "cell_type": "markdown",
   "id": "3abc6b0e",
   "metadata": {},
   "source": [
    "nombre_infected      1101\n",
    "nombre_sain          2365\n",
    "nombre_exposed        629\n",
    "nombre_recovered    15905\n",
    "Name: 718, dtype: int64"
   ]
  },
  {
   "cell_type": "markdown",
   "id": "faf625d8",
   "metadata": {},
   "source": [
    "nombre_infected      1092\n",
    "nombre_sain          2368\n",
    "nombre_exposed        613\n",
    "nombre_recovered    15927\n",
    "Name: 719, dtype: int64"
   ]
  },
  {
   "cell_type": "markdown",
   "id": "825c8df5",
   "metadata": {},
   "source": [
    "nombre_infected      1083\n",
    "nombre_sain          2361\n",
    "nombre_exposed        622\n",
    "nombre_recovered    15934\n",
    "Name: 720, dtype: int64"
   ]
  },
  {
   "cell_type": "markdown",
   "id": "57fd96d1",
   "metadata": {},
   "source": [
    "nombre_infected      1071\n",
    "nombre_sain          2312\n",
    "nombre_exposed        638\n",
    "nombre_recovered    15979\n",
    "Name: 721, dtype: int64"
   ]
  },
  {
   "cell_type": "markdown",
   "id": "03ad03ba",
   "metadata": {},
   "source": [
    "nombre_infected      1035\n",
    "nombre_sain          2336\n",
    "nombre_exposed        632\n",
    "nombre_recovered    15997\n",
    "Name: 722, dtype: int64"
   ]
  },
  {
   "cell_type": "markdown",
   "id": "046a404f",
   "metadata": {},
   "source": [
    "nombre_infected      1036\n",
    "nombre_sain          2340\n",
    "nombre_exposed        610\n",
    "nombre_recovered    16014\n",
    "Name: 723, dtype: int64"
   ]
  },
  {
   "cell_type": "markdown",
   "id": "4ab7d215",
   "metadata": {},
   "source": [
    "nombre_infected      1052\n",
    "nombre_sain          2340\n",
    "nombre_exposed        596\n",
    "nombre_recovered    16012\n",
    "Name: 724, dtype: int64"
   ]
  },
  {
   "cell_type": "markdown",
   "id": "8eb62267",
   "metadata": {},
   "source": [
    "nombre_infected      1064\n",
    "nombre_sain          2333\n",
    "nombre_exposed        615\n",
    "nombre_recovered    15988\n",
    "Name: 725, dtype: int64"
   ]
  },
  {
   "cell_type": "markdown",
   "id": "1434a474",
   "metadata": {},
   "source": [
    "nombre_infected      1053\n",
    "nombre_sain          2317\n",
    "nombre_exposed        633\n",
    "nombre_recovered    15997\n",
    "Name: 726, dtype: int64"
   ]
  },
  {
   "cell_type": "markdown",
   "id": "dac2f2fa",
   "metadata": {},
   "source": [
    "nombre_infected      1056\n",
    "nombre_sain          2327\n",
    "nombre_exposed        619\n",
    "nombre_recovered    15998\n",
    "Name: 727, dtype: int64"
   ]
  },
  {
   "cell_type": "markdown",
   "id": "d319b9ad",
   "metadata": {},
   "source": [
    "nombre_infected      1073\n",
    "nombre_sain          2324\n",
    "nombre_exposed        613\n",
    "nombre_recovered    15990\n",
    "Name: 728, dtype: int64"
   ]
  },
  {
   "cell_type": "markdown",
   "id": "7f98f214",
   "metadata": {},
   "source": [
    "nombre_infected      1060\n",
    "nombre_sain          2344\n",
    "nombre_exposed        603\n",
    "nombre_recovered    15993\n",
    "Name: 729, dtype: int64"
   ]
  },
  {
   "cell_type": "markdown",
   "id": "9c0be8eb",
   "metadata": {},
   "source": [
    "nombre_infected      1050\n",
    "nombre_sain          2327\n",
    "nombre_exposed        603\n",
    "nombre_recovered    16020\n",
    "Name: 730, dtype: int64"
   ]
  }
 ],
 "metadata": {},
 "nbformat": 4,
 "nbformat_minor": 5
}
