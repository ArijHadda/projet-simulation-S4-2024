{
 "cells": [
  {
   "cell_type": "markdown",
   "id": "840ec637",
   "metadata": {},
   "source": [
    "nombre_infected        20\n",
    "nombre_sain         19980\n",
    "nombre_exposed          0\n",
    "nombre_recovered        0\n",
    "Name: 0, dtype: int64"
   ]
  },
  {
   "cell_type": "markdown",
   "id": "81aebc52",
   "metadata": {},
   "source": [
    "nombre_infected        20\n",
    "nombre_sain         19956\n",
    "nombre_exposed         24\n",
    "nombre_recovered        0\n",
    "Name: 1, dtype: int64"
   ]
  },
  {
   "cell_type": "markdown",
   "id": "e66a095b",
   "metadata": {},
   "source": [
    "nombre_infected         0\n",
    "nombre_sain         19949\n",
    "nombre_exposed         31\n",
    "nombre_recovered       20\n",
    "Name: 2, dtype: int64"
   ]
  },
  {
   "cell_type": "markdown",
   "id": "81b15444",
   "metadata": {},
   "source": [
    "nombre_infected         5\n",
    "nombre_sain         19946\n",
    "nombre_exposed         29\n",
    "nombre_recovered       20\n",
    "Name: 3, dtype: int64"
   ]
  },
  {
   "cell_type": "markdown",
   "id": "07e514ff",
   "metadata": {},
   "source": [
    "nombre_infected         9\n",
    "nombre_sain         19936\n",
    "nombre_exposed         35\n",
    "nombre_recovered       20\n",
    "Name: 4, dtype: int64"
   ]
  },
  {
   "cell_type": "markdown",
   "id": "c46c7b8c",
   "metadata": {},
   "source": [
    "nombre_infected        19\n",
    "nombre_sain         19923\n",
    "nombre_exposed         38\n",
    "nombre_recovered       20\n",
    "Name: 5, dtype: int64"
   ]
  },
  {
   "cell_type": "markdown",
   "id": "b0f48d91",
   "metadata": {},
   "source": [
    "nombre_infected        26\n",
    "nombre_sain         19900\n",
    "nombre_exposed         54\n",
    "nombre_recovered       20\n",
    "Name: 6, dtype: int64"
   ]
  },
  {
   "cell_type": "markdown",
   "id": "01e289e8",
   "metadata": {},
   "source": [
    "nombre_infected        28\n",
    "nombre_sain         19862\n",
    "nombre_exposed         88\n",
    "nombre_recovered       22\n",
    "Name: 7, dtype: int64"
   ]
  },
  {
   "cell_type": "markdown",
   "id": "64cb3c59",
   "metadata": {},
   "source": [
    "nombre_infected        42\n",
    "nombre_sain         19819\n",
    "nombre_exposed        115\n",
    "nombre_recovered       24\n",
    "Name: 8, dtype: int64"
   ]
  },
  {
   "cell_type": "markdown",
   "id": "88c9bfae",
   "metadata": {},
   "source": [
    "nombre_infected        58\n",
    "nombre_sain         19757\n",
    "nombre_exposed        159\n",
    "nombre_recovered       26\n",
    "Name: 9, dtype: int64"
   ]
  },
  {
   "cell_type": "markdown",
   "id": "7c22d9f6",
   "metadata": {},
   "source": [
    "nombre_infected        89\n",
    "nombre_sain         19657\n",
    "nombre_exposed        225\n",
    "nombre_recovered       29\n",
    "Name: 10, dtype: int64"
   ]
  },
  {
   "cell_type": "markdown",
   "id": "f4fd080a",
   "metadata": {},
   "source": [
    "nombre_infected       124\n",
    "nombre_sain         19525\n",
    "nombre_exposed        319\n",
    "nombre_recovered       32\n",
    "Name: 11, dtype: int64"
   ]
  },
  {
   "cell_type": "markdown",
   "id": "05ca4009",
   "metadata": {},
   "source": [
    "nombre_infected       156\n",
    "nombre_sain         19354\n",
    "nombre_exposed        445\n",
    "nombre_recovered       45\n",
    "Name: 12, dtype: int64"
   ]
  },
  {
   "cell_type": "markdown",
   "id": "4ad50c59",
   "metadata": {},
   "source": [
    "nombre_infected       214\n",
    "nombre_sain         19164\n",
    "nombre_exposed        561\n",
    "nombre_recovered       61\n",
    "Name: 13, dtype: int64"
   ]
  },
  {
   "cell_type": "markdown",
   "id": "73174ab9",
   "metadata": {},
   "source": [
    "nombre_infected       291\n",
    "nombre_sain         18848\n",
    "nombre_exposed        784\n",
    "nombre_recovered       77\n",
    "Name: 14, dtype: int64"
   ]
  },
  {
   "cell_type": "markdown",
   "id": "c86192c3",
   "metadata": {},
   "source": [
    "nombre_infected       402\n",
    "nombre_sain         18472\n",
    "nombre_exposed       1026\n",
    "nombre_recovered      100\n",
    "Name: 15, dtype: int64"
   ]
  },
  {
   "cell_type": "markdown",
   "id": "47a9f10a",
   "metadata": {},
   "source": [
    "nombre_infected       528\n",
    "nombre_sain         17934\n",
    "nombre_exposed       1397\n",
    "nombre_recovered      141\n",
    "Name: 16, dtype: int64"
   ]
  },
  {
   "cell_type": "markdown",
   "id": "5b7ba448",
   "metadata": {},
   "source": [
    "nombre_infected       731\n",
    "nombre_sain         17283\n",
    "nombre_exposed       1808\n",
    "nombre_recovered      178\n",
    "Name: 17, dtype: int64"
   ]
  },
  {
   "cell_type": "markdown",
   "id": "6e2830ea",
   "metadata": {},
   "source": [
    "nombre_infected      1030\n",
    "nombre_sain         16432\n",
    "nombre_exposed       2300\n",
    "nombre_recovered      238\n",
    "Name: 18, dtype: int64"
   ]
  },
  {
   "cell_type": "markdown",
   "id": "39e9a788",
   "metadata": {},
   "source": [
    "nombre_infected      1357\n",
    "nombre_sain         15344\n",
    "nombre_exposed       2974\n",
    "nombre_recovered      325\n",
    "Name: 19, dtype: int64"
   ]
  },
  {
   "cell_type": "markdown",
   "id": "f2f0af41",
   "metadata": {},
   "source": [
    "nombre_infected      1775\n",
    "nombre_sain         13952\n",
    "nombre_exposed       3833\n",
    "nombre_recovered      440\n",
    "Name: 20, dtype: int64"
   ]
  },
  {
   "cell_type": "markdown",
   "id": "606df441",
   "metadata": {},
   "source": [
    "nombre_infected      2310\n",
    "nombre_sain         12374\n",
    "nombre_exposed       4727\n",
    "nombre_recovered      589\n",
    "Name: 21, dtype: int64"
   ]
  },
  {
   "cell_type": "markdown",
   "id": "36477a8f",
   "metadata": {},
   "source": [
    "nombre_infected      2999\n",
    "nombre_sain         10709\n",
    "nombre_exposed       5515\n",
    "nombre_recovered      777\n",
    "Name: 22, dtype: int64"
   ]
  },
  {
   "cell_type": "markdown",
   "id": "a1d478e1",
   "metadata": {},
   "source": [
    "nombre_infected     3735\n",
    "nombre_sain         8894\n",
    "nombre_exposed      6308\n",
    "nombre_recovered    1063\n",
    "Name: 23, dtype: int64"
   ]
  },
  {
   "cell_type": "markdown",
   "id": "c65f3d7e",
   "metadata": {},
   "source": [
    "nombre_infected     4640\n",
    "nombre_sain         7107\n",
    "nombre_exposed      6824\n",
    "nombre_recovered    1429\n",
    "Name: 24, dtype: int64"
   ]
  },
  {
   "cell_type": "markdown",
   "id": "3830f40f",
   "metadata": {},
   "source": [
    "nombre_infected     5560\n",
    "nombre_sain         5413\n",
    "nombre_exposed      7134\n",
    "nombre_recovered    1893\n",
    "Name: 25, dtype: int64"
   ]
  },
  {
   "cell_type": "markdown",
   "id": "db1df07e",
   "metadata": {},
   "source": [
    "nombre_infected     6524\n",
    "nombre_sain         4047\n",
    "nombre_exposed      6980\n",
    "nombre_recovered    2449\n",
    "Name: 26, dtype: int64"
   ]
  },
  {
   "cell_type": "markdown",
   "id": "5317250d",
   "metadata": {},
   "source": [
    "nombre_infected     7478\n",
    "nombre_sain         2887\n",
    "nombre_exposed      6547\n",
    "nombre_recovered    3088\n",
    "Name: 27, dtype: int64"
   ]
  },
  {
   "cell_type": "markdown",
   "id": "07f9511f",
   "metadata": {},
   "source": [
    "nombre_infected     8108\n",
    "nombre_sain         2020\n",
    "nombre_exposed      5999\n",
    "nombre_recovered    3873\n",
    "Name: 28, dtype: int64"
   ]
  },
  {
   "cell_type": "markdown",
   "id": "abb09b3d",
   "metadata": {},
   "source": [
    "nombre_infected     8602\n",
    "nombre_sain         1400\n",
    "nombre_exposed      5221\n",
    "nombre_recovered    4777\n",
    "Name: 29, dtype: int64"
   ]
  },
  {
   "cell_type": "markdown",
   "id": "ce2bcc15",
   "metadata": {},
   "source": [
    "nombre_infected     8862\n",
    "nombre_sain          970\n",
    "nombre_exposed      4370\n",
    "nombre_recovered    5798\n",
    "Name: 30, dtype: int64"
   ]
  },
  {
   "cell_type": "markdown",
   "id": "4aea6148",
   "metadata": {},
   "source": [
    "nombre_infected     8833\n",
    "nombre_sain          685\n",
    "nombre_exposed      3633\n",
    "nombre_recovered    6849\n",
    "Name: 31, dtype: int64"
   ]
  },
  {
   "cell_type": "markdown",
   "id": "276d71af",
   "metadata": {},
   "source": [
    "nombre_infected     8689\n",
    "nombre_sain          481\n",
    "nombre_exposed      2950\n",
    "nombre_recovered    7880\n",
    "Name: 32, dtype: int64"
   ]
  },
  {
   "cell_type": "markdown",
   "id": "6d55a970",
   "metadata": {},
   "source": [
    "nombre_infected     8317\n",
    "nombre_sain          346\n",
    "nombre_exposed      2377\n",
    "nombre_recovered    8960\n",
    "Name: 33, dtype: int64"
   ]
  },
  {
   "cell_type": "markdown",
   "id": "ddd5575a",
   "metadata": {},
   "source": [
    "nombre_infected     7864\n",
    "nombre_sain          259\n",
    "nombre_exposed      1902\n",
    "nombre_recovered    9975\n",
    "Name: 34, dtype: int64"
   ]
  },
  {
   "cell_type": "markdown",
   "id": "2bb915a0",
   "metadata": {},
   "source": [
    "nombre_infected      7424\n",
    "nombre_sain           239\n",
    "nombre_exposed       1466\n",
    "nombre_recovered    10871\n",
    "Name: 35, dtype: int64"
   ]
  },
  {
   "cell_type": "markdown",
   "id": "829bbe40",
   "metadata": {},
   "source": [
    "nombre_infected      6854\n",
    "nombre_sain           211\n",
    "nombre_exposed       1166\n",
    "nombre_recovered    11769\n",
    "Name: 36, dtype: int64"
   ]
  },
  {
   "cell_type": "markdown",
   "id": "69d3c16e",
   "metadata": {},
   "source": [
    "nombre_infected      6298\n",
    "nombre_sain           209\n",
    "nombre_exposed        926\n",
    "nombre_recovered    12567\n",
    "Name: 37, dtype: int64"
   ]
  },
  {
   "cell_type": "markdown",
   "id": "06301380",
   "metadata": {},
   "source": [
    "nombre_infected      5728\n",
    "nombre_sain           183\n",
    "nombre_exposed        732\n",
    "nombre_recovered    13357\n",
    "Name: 38, dtype: int64"
   ]
  },
  {
   "cell_type": "markdown",
   "id": "a3e0eb9c",
   "metadata": {},
   "source": [
    "nombre_infected      5208\n",
    "nombre_sain           176\n",
    "nombre_exposed        586\n",
    "nombre_recovered    14030\n",
    "Name: 39, dtype: int64"
   ]
  },
  {
   "cell_type": "markdown",
   "id": "a5256548",
   "metadata": {},
   "source": [
    "nombre_infected      4695\n",
    "nombre_sain           189\n",
    "nombre_exposed        494\n",
    "nombre_recovered    14622\n",
    "Name: 40, dtype: int64"
   ]
  },
  {
   "cell_type": "markdown",
   "id": "743b455c",
   "metadata": {},
   "source": [
    "nombre_infected      4204\n",
    "nombre_sain           212\n",
    "nombre_exposed        394\n",
    "nombre_recovered    15190\n",
    "Name: 41, dtype: int64"
   ]
  },
  {
   "cell_type": "markdown",
   "id": "343e1a8e",
   "metadata": {},
   "source": [
    "nombre_infected      3830\n",
    "nombre_sain           207\n",
    "nombre_exposed        332\n",
    "nombre_recovered    15631\n",
    "Name: 42, dtype: int64"
   ]
  },
  {
   "cell_type": "markdown",
   "id": "ad193174",
   "metadata": {},
   "source": [
    "nombre_infected      3439\n",
    "nombre_sain           229\n",
    "nombre_exposed        259\n",
    "nombre_recovered    16073\n",
    "Name: 43, dtype: int64"
   ]
  },
  {
   "cell_type": "markdown",
   "id": "65d4fcfc",
   "metadata": {},
   "source": [
    "nombre_infected      3063\n",
    "nombre_sain           244\n",
    "nombre_exposed        221\n",
    "nombre_recovered    16472\n",
    "Name: 44, dtype: int64"
   ]
  },
  {
   "cell_type": "markdown",
   "id": "34c7bf13",
   "metadata": {},
   "source": [
    "nombre_infected      2730\n",
    "nombre_sain           267\n",
    "nombre_exposed        208\n",
    "nombre_recovered    16795\n",
    "Name: 45, dtype: int64"
   ]
  },
  {
   "cell_type": "markdown",
   "id": "c481a3ea",
   "metadata": {},
   "source": [
    "nombre_infected      2460\n",
    "nombre_sain           266\n",
    "nombre_exposed        181\n",
    "nombre_recovered    17093\n",
    "Name: 46, dtype: int64"
   ]
  },
  {
   "cell_type": "markdown",
   "id": "b29d5539",
   "metadata": {},
   "source": [
    "nombre_infected      2210\n",
    "nombre_sain           301\n",
    "nombre_exposed        156\n",
    "nombre_recovered    17333\n",
    "Name: 47, dtype: int64"
   ]
  },
  {
   "cell_type": "markdown",
   "id": "6d4777f1",
   "metadata": {},
   "source": [
    "nombre_infected      1976\n",
    "nombre_sain           319\n",
    "nombre_exposed        152\n",
    "nombre_recovered    17553\n",
    "Name: 48, dtype: int64"
   ]
  },
  {
   "cell_type": "markdown",
   "id": "d3407d5c",
   "metadata": {},
   "source": [
    "nombre_infected      1771\n",
    "nombre_sain           353\n",
    "nombre_exposed        130\n",
    "nombre_recovered    17746\n",
    "Name: 49, dtype: int64"
   ]
  },
  {
   "cell_type": "markdown",
   "id": "0e4d7641",
   "metadata": {},
   "source": [
    "nombre_infected      1570\n",
    "nombre_sain           378\n",
    "nombre_exposed        125\n",
    "nombre_recovered    17927\n",
    "Name: 50, dtype: int64"
   ]
  },
  {
   "cell_type": "markdown",
   "id": "1ca028be",
   "metadata": {},
   "source": [
    "nombre_infected      1394\n",
    "nombre_sain           404\n",
    "nombre_exposed        125\n",
    "nombre_recovered    18077\n",
    "Name: 51, dtype: int64"
   ]
  },
  {
   "cell_type": "markdown",
   "id": "10922c0d",
   "metadata": {},
   "source": [
    "nombre_infected      1241\n",
    "nombre_sain           430\n",
    "nombre_exposed        133\n",
    "nombre_recovered    18196\n",
    "Name: 52, dtype: int64"
   ]
  },
  {
   "cell_type": "markdown",
   "id": "eb749b5e",
   "metadata": {},
   "source": [
    "nombre_infected      1134\n",
    "nombre_sain           471\n",
    "nombre_exposed        139\n",
    "nombre_recovered    18256\n",
    "Name: 53, dtype: int64"
   ]
  },
  {
   "cell_type": "markdown",
   "id": "19e13ff2",
   "metadata": {},
   "source": [
    "nombre_infected      1023\n",
    "nombre_sain           499\n",
    "nombre_exposed        141\n",
    "nombre_recovered    18337\n",
    "Name: 54, dtype: int64"
   ]
  },
  {
   "cell_type": "markdown",
   "id": "b2fe2183",
   "metadata": {},
   "source": [
    "nombre_infected       954\n",
    "nombre_sain           550\n",
    "nombre_exposed        131\n",
    "nombre_recovered    18365\n",
    "Name: 55, dtype: int64"
   ]
  },
  {
   "cell_type": "markdown",
   "id": "3d0d83c2",
   "metadata": {},
   "source": [
    "nombre_infected       852\n",
    "nombre_sain           607\n",
    "nombre_exposed        127\n",
    "nombre_recovered    18414\n",
    "Name: 56, dtype: int64"
   ]
  },
  {
   "cell_type": "markdown",
   "id": "4772fe2e",
   "metadata": {},
   "source": [
    "nombre_infected       770\n",
    "nombre_sain           644\n",
    "nombre_exposed        139\n",
    "nombre_recovered    18447\n",
    "Name: 57, dtype: int64"
   ]
  },
  {
   "cell_type": "markdown",
   "id": "c83fb4a6",
   "metadata": {},
   "source": [
    "nombre_infected       692\n",
    "nombre_sain           695\n",
    "nombre_exposed        135\n",
    "nombre_recovered    18478\n",
    "Name: 58, dtype: int64"
   ]
  },
  {
   "cell_type": "markdown",
   "id": "bab5ae58",
   "metadata": {},
   "source": [
    "nombre_infected       627\n",
    "nombre_sain           732\n",
    "nombre_exposed        149\n",
    "nombre_recovered    18492\n",
    "Name: 59, dtype: int64"
   ]
  },
  {
   "cell_type": "markdown",
   "id": "008fac5f",
   "metadata": {},
   "source": [
    "nombre_infected       580\n",
    "nombre_sain           788\n",
    "nombre_exposed        143\n",
    "nombre_recovered    18489\n",
    "Name: 60, dtype: int64"
   ]
  },
  {
   "cell_type": "markdown",
   "id": "cbc454d2",
   "metadata": {},
   "source": [
    "nombre_infected       552\n",
    "nombre_sain           849\n",
    "nombre_exposed        127\n",
    "nombre_recovered    18472\n",
    "Name: 61, dtype: int64"
   ]
  },
  {
   "cell_type": "markdown",
   "id": "334e8a81",
   "metadata": {},
   "source": [
    "nombre_infected       527\n",
    "nombre_sain           902\n",
    "nombre_exposed        115\n",
    "nombre_recovered    18456\n",
    "Name: 62, dtype: int64"
   ]
  },
  {
   "cell_type": "markdown",
   "id": "ea398291",
   "metadata": {},
   "source": [
    "nombre_infected       472\n",
    "nombre_sain           946\n",
    "nombre_exposed        126\n",
    "nombre_recovered    18456\n",
    "Name: 63, dtype: int64"
   ]
  },
  {
   "cell_type": "markdown",
   "id": "87747f65",
   "metadata": {},
   "source": [
    "nombre_infected       440\n",
    "nombre_sain           988\n",
    "nombre_exposed        126\n",
    "nombre_recovered    18446\n",
    "Name: 64, dtype: int64"
   ]
  },
  {
   "cell_type": "markdown",
   "id": "62bc4970",
   "metadata": {},
   "source": [
    "nombre_infected       394\n",
    "nombre_sain          1042\n",
    "nombre_exposed        131\n",
    "nombre_recovered    18433\n",
    "Name: 65, dtype: int64"
   ]
  },
  {
   "cell_type": "markdown",
   "id": "9bdf48b4",
   "metadata": {},
   "source": [
    "nombre_infected       361\n",
    "nombre_sain          1105\n",
    "nombre_exposed        134\n",
    "nombre_recovered    18400\n",
    "Name: 66, dtype: int64"
   ]
  },
  {
   "cell_type": "markdown",
   "id": "b3132c86",
   "metadata": {},
   "source": [
    "nombre_infected       323\n",
    "nombre_sain          1185\n",
    "nombre_exposed        128\n",
    "nombre_recovered    18364\n",
    "Name: 67, dtype: int64"
   ]
  },
  {
   "cell_type": "markdown",
   "id": "9c2dc825",
   "metadata": {},
   "source": [
    "nombre_infected       302\n",
    "nombre_sain          1242\n",
    "nombre_exposed        120\n",
    "nombre_recovered    18336\n",
    "Name: 68, dtype: int64"
   ]
  },
  {
   "cell_type": "markdown",
   "id": "9026114f",
   "metadata": {},
   "source": [
    "nombre_infected       287\n",
    "nombre_sain          1291\n",
    "nombre_exposed        112\n",
    "nombre_recovered    18310\n",
    "Name: 69, dtype: int64"
   ]
  },
  {
   "cell_type": "markdown",
   "id": "a297d4eb",
   "metadata": {},
   "source": [
    "nombre_infected       273\n",
    "nombre_sain          1351\n",
    "nombre_exposed        106\n",
    "nombre_recovered    18270\n",
    "Name: 70, dtype: int64"
   ]
  },
  {
   "cell_type": "markdown",
   "id": "05955e3e",
   "metadata": {},
   "source": [
    "nombre_infected       246\n",
    "nombre_sain          1400\n",
    "nombre_exposed        117\n",
    "nombre_recovered    18237\n",
    "Name: 71, dtype: int64"
   ]
  },
  {
   "cell_type": "markdown",
   "id": "1e88e467",
   "metadata": {},
   "source": [
    "nombre_infected       234\n",
    "nombre_sain          1457\n",
    "nombre_exposed        104\n",
    "nombre_recovered    18205\n",
    "Name: 72, dtype: int64"
   ]
  },
  {
   "cell_type": "markdown",
   "id": "32d74106",
   "metadata": {},
   "source": [
    "nombre_infected       237\n",
    "nombre_sain          1506\n",
    "nombre_exposed         85\n",
    "nombre_recovered    18172\n",
    "Name: 73, dtype: int64"
   ]
  },
  {
   "cell_type": "markdown",
   "id": "40898460",
   "metadata": {},
   "source": [
    "nombre_infected       218\n",
    "nombre_sain          1550\n",
    "nombre_exposed         90\n",
    "nombre_recovered    18142\n",
    "Name: 74, dtype: int64"
   ]
  },
  {
   "cell_type": "markdown",
   "id": "e991f703",
   "metadata": {},
   "source": [
    "nombre_infected       208\n",
    "nombre_sain          1603\n",
    "nombre_exposed         84\n",
    "nombre_recovered    18105\n",
    "Name: 75, dtype: int64"
   ]
  },
  {
   "cell_type": "markdown",
   "id": "49292062",
   "metadata": {},
   "source": [
    "nombre_infected       191\n",
    "nombre_sain          1653\n",
    "nombre_exposed         84\n",
    "nombre_recovered    18072\n",
    "Name: 76, dtype: int64"
   ]
  },
  {
   "cell_type": "markdown",
   "id": "92f9134a",
   "metadata": {},
   "source": [
    "nombre_infected       175\n",
    "nombre_sain          1694\n",
    "nombre_exposed         92\n",
    "nombre_recovered    18039\n",
    "Name: 77, dtype: int64"
   ]
  },
  {
   "cell_type": "markdown",
   "id": "5cc2a249",
   "metadata": {},
   "source": [
    "nombre_infected       183\n",
    "nombre_sain          1755\n",
    "nombre_exposed         73\n",
    "nombre_recovered    17989\n",
    "Name: 78, dtype: int64"
   ]
  },
  {
   "cell_type": "markdown",
   "id": "1081f347",
   "metadata": {},
   "source": [
    "nombre_infected       179\n",
    "nombre_sain          1808\n",
    "nombre_exposed         69\n",
    "nombre_recovered    17944\n",
    "Name: 79, dtype: int64"
   ]
  },
  {
   "cell_type": "markdown",
   "id": "9481fef2",
   "metadata": {},
   "source": [
    "nombre_infected       166\n",
    "nombre_sain          1859\n",
    "nombre_exposed         82\n",
    "nombre_recovered    17893\n",
    "Name: 80, dtype: int64"
   ]
  },
  {
   "cell_type": "markdown",
   "id": "26deac36",
   "metadata": {},
   "source": [
    "nombre_infected       157\n",
    "nombre_sain          1896\n",
    "nombre_exposed         91\n",
    "nombre_recovered    17856\n",
    "Name: 81, dtype: int64"
   ]
  },
  {
   "cell_type": "markdown",
   "id": "ae8fce4f",
   "metadata": {},
   "source": [
    "nombre_infected       145\n",
    "nombre_sain          1953\n",
    "nombre_exposed         83\n",
    "nombre_recovered    17819\n",
    "Name: 82, dtype: int64"
   ]
  },
  {
   "cell_type": "markdown",
   "id": "a93c5350",
   "metadata": {},
   "source": [
    "nombre_infected       151\n",
    "nombre_sain          1996\n",
    "nombre_exposed         85\n",
    "nombre_recovered    17768\n",
    "Name: 83, dtype: int64"
   ]
  },
  {
   "cell_type": "markdown",
   "id": "0dbf32b1",
   "metadata": {},
   "source": [
    "nombre_infected       145\n",
    "nombre_sain          2040\n",
    "nombre_exposed         88\n",
    "nombre_recovered    17727\n",
    "Name: 84, dtype: int64"
   ]
  },
  {
   "cell_type": "markdown",
   "id": "4708a613",
   "metadata": {},
   "source": [
    "nombre_infected       148\n",
    "nombre_sain          2085\n",
    "nombre_exposed         77\n",
    "nombre_recovered    17690\n",
    "Name: 85, dtype: int64"
   ]
  },
  {
   "cell_type": "markdown",
   "id": "305b73f5",
   "metadata": {},
   "source": [
    "nombre_infected       152\n",
    "nombre_sain          2122\n",
    "nombre_exposed         79\n",
    "nombre_recovered    17647\n",
    "Name: 86, dtype: int64"
   ]
  },
  {
   "cell_type": "markdown",
   "id": "a59a9941",
   "metadata": {},
   "source": [
    "nombre_infected       154\n",
    "nombre_sain          2166\n",
    "nombre_exposed         76\n",
    "nombre_recovered    17604\n",
    "Name: 87, dtype: int64"
   ]
  },
  {
   "cell_type": "markdown",
   "id": "c108097b",
   "metadata": {},
   "source": [
    "nombre_infected       145\n",
    "nombre_sain          2206\n",
    "nombre_exposed         83\n",
    "nombre_recovered    17566\n",
    "Name: 88, dtype: int64"
   ]
  },
  {
   "cell_type": "markdown",
   "id": "5ebb23da",
   "metadata": {},
   "source": [
    "nombre_infected       146\n",
    "nombre_sain          2242\n",
    "nombre_exposed         79\n",
    "nombre_recovered    17533\n",
    "Name: 89, dtype: int64"
   ]
  },
  {
   "cell_type": "markdown",
   "id": "5d9259d1",
   "metadata": {},
   "source": [
    "nombre_infected       150\n",
    "nombre_sain          2276\n",
    "nombre_exposed         76\n",
    "nombre_recovered    17498\n",
    "Name: 90, dtype: int64"
   ]
  },
  {
   "cell_type": "markdown",
   "id": "68c40a71",
   "metadata": {},
   "source": [
    "nombre_infected       144\n",
    "nombre_sain          2310\n",
    "nombre_exposed         87\n",
    "nombre_recovered    17459\n",
    "Name: 91, dtype: int64"
   ]
  },
  {
   "cell_type": "markdown",
   "id": "ce2fb377",
   "metadata": {},
   "source": [
    "nombre_infected       147\n",
    "nombre_sain          2334\n",
    "nombre_exposed         90\n",
    "nombre_recovered    17429\n",
    "Name: 92, dtype: int64"
   ]
  },
  {
   "cell_type": "markdown",
   "id": "8d3902e9",
   "metadata": {},
   "source": [
    "nombre_infected       136\n",
    "nombre_sain          2377\n",
    "nombre_exposed         92\n",
    "nombre_recovered    17395\n",
    "Name: 93, dtype: int64"
   ]
  },
  {
   "cell_type": "markdown",
   "id": "86d6038a",
   "metadata": {},
   "source": [
    "nombre_infected       134\n",
    "nombre_sain          2416\n",
    "nombre_exposed         88\n",
    "nombre_recovered    17362\n",
    "Name: 94, dtype: int64"
   ]
  },
  {
   "cell_type": "markdown",
   "id": "bd4f3ff9",
   "metadata": {},
   "source": [
    "nombre_infected       137\n",
    "nombre_sain          2455\n",
    "nombre_exposed         86\n",
    "nombre_recovered    17322\n",
    "Name: 95, dtype: int64"
   ]
  },
  {
   "cell_type": "markdown",
   "id": "dd3c7aee",
   "metadata": {},
   "source": [
    "nombre_infected       146\n",
    "nombre_sain          2482\n",
    "nombre_exposed         91\n",
    "nombre_recovered    17281\n",
    "Name: 96, dtype: int64"
   ]
  },
  {
   "cell_type": "markdown",
   "id": "ddbe67b0",
   "metadata": {},
   "source": [
    "nombre_infected       161\n",
    "nombre_sain          2505\n",
    "nombre_exposed         89\n",
    "nombre_recovered    17245\n",
    "Name: 97, dtype: int64"
   ]
  },
  {
   "cell_type": "markdown",
   "id": "7d60b7b0",
   "metadata": {},
   "source": [
    "nombre_infected       160\n",
    "nombre_sain          2540\n",
    "nombre_exposed         87\n",
    "nombre_recovered    17213\n",
    "Name: 98, dtype: int64"
   ]
  },
  {
   "cell_type": "markdown",
   "id": "88c3640e",
   "metadata": {},
   "source": [
    "nombre_infected       150\n",
    "nombre_sain          2579\n",
    "nombre_exposed         91\n",
    "nombre_recovered    17180\n",
    "Name: 99, dtype: int64"
   ]
  },
  {
   "cell_type": "markdown",
   "id": "ba565623",
   "metadata": {},
   "source": [
    "nombre_infected       152\n",
    "nombre_sain          2631\n",
    "nombre_exposed         92\n",
    "nombre_recovered    17125\n",
    "Name: 100, dtype: int64"
   ]
  },
  {
   "cell_type": "markdown",
   "id": "5946c85d",
   "metadata": {},
   "source": [
    "nombre_infected       152\n",
    "nombre_sain          2688\n",
    "nombre_exposed         89\n",
    "nombre_recovered    17071\n",
    "Name: 101, dtype: int64"
   ]
  },
  {
   "cell_type": "markdown",
   "id": "6f4d83c4",
   "metadata": {},
   "source": [
    "nombre_infected       152\n",
    "nombre_sain          2720\n",
    "nombre_exposed        104\n",
    "nombre_recovered    17024\n",
    "Name: 102, dtype: int64"
   ]
  },
  {
   "cell_type": "markdown",
   "id": "b159e187",
   "metadata": {},
   "source": [
    "nombre_infected       148\n",
    "nombre_sain          2759\n",
    "nombre_exposed        114\n",
    "nombre_recovered    16979\n",
    "Name: 103, dtype: int64"
   ]
  },
  {
   "cell_type": "markdown",
   "id": "a761d1d5",
   "metadata": {},
   "source": [
    "nombre_infected       152\n",
    "nombre_sain          2801\n",
    "nombre_exposed        117\n",
    "nombre_recovered    16930\n",
    "Name: 104, dtype: int64"
   ]
  },
  {
   "cell_type": "markdown",
   "id": "83379bba",
   "metadata": {},
   "source": [
    "nombre_infected       164\n",
    "nombre_sain          2832\n",
    "nombre_exposed        114\n",
    "nombre_recovered    16890\n",
    "Name: 105, dtype: int64"
   ]
  },
  {
   "cell_type": "markdown",
   "id": "546f0851",
   "metadata": {},
   "source": [
    "nombre_infected       170\n",
    "nombre_sain          2867\n",
    "nombre_exposed        113\n",
    "nombre_recovered    16850\n",
    "Name: 106, dtype: int64"
   ]
  },
  {
   "cell_type": "markdown",
   "id": "569c262c",
   "metadata": {},
   "source": [
    "nombre_infected       171\n",
    "nombre_sain          2893\n",
    "nombre_exposed        114\n",
    "nombre_recovered    16822\n",
    "Name: 107, dtype: int64"
   ]
  },
  {
   "cell_type": "markdown",
   "id": "56b5b001",
   "metadata": {},
   "source": [
    "nombre_infected       180\n",
    "nombre_sain          2928\n",
    "nombre_exposed        123\n",
    "nombre_recovered    16769\n",
    "Name: 108, dtype: int64"
   ]
  },
  {
   "cell_type": "markdown",
   "id": "507c84a1",
   "metadata": {},
   "source": [
    "nombre_infected       179\n",
    "nombre_sain          2952\n",
    "nombre_exposed        135\n",
    "nombre_recovered    16734\n",
    "Name: 109, dtype: int64"
   ]
  },
  {
   "cell_type": "markdown",
   "id": "074849ad",
   "metadata": {},
   "source": [
    "nombre_infected       173\n",
    "nombre_sain          2986\n",
    "nombre_exposed        135\n",
    "nombre_recovered    16706\n",
    "Name: 110, dtype: int64"
   ]
  },
  {
   "cell_type": "markdown",
   "id": "cd69a14b",
   "metadata": {},
   "source": [
    "nombre_infected       185\n",
    "nombre_sain          3017\n",
    "nombre_exposed        123\n",
    "nombre_recovered    16675\n",
    "Name: 111, dtype: int64"
   ]
  },
  {
   "cell_type": "markdown",
   "id": "84e65d90",
   "metadata": {},
   "source": [
    "nombre_infected       193\n",
    "nombre_sain          3055\n",
    "nombre_exposed        122\n",
    "nombre_recovered    16630\n",
    "Name: 112, dtype: int64"
   ]
  },
  {
   "cell_type": "markdown",
   "id": "a7bec78c",
   "metadata": {},
   "source": [
    "nombre_infected       198\n",
    "nombre_sain          3070\n",
    "nombre_exposed        134\n",
    "nombre_recovered    16598\n",
    "Name: 113, dtype: int64"
   ]
  },
  {
   "cell_type": "markdown",
   "id": "8d7befea",
   "metadata": {},
   "source": [
    "nombre_infected       195\n",
    "nombre_sain          3087\n",
    "nombre_exposed        142\n",
    "nombre_recovered    16576\n",
    "Name: 114, dtype: int64"
   ]
  },
  {
   "cell_type": "markdown",
   "id": "e5270868",
   "metadata": {},
   "source": [
    "nombre_infected       206\n",
    "nombre_sain          3111\n",
    "nombre_exposed        147\n",
    "nombre_recovered    16536\n",
    "Name: 115, dtype: int64"
   ]
  },
  {
   "cell_type": "markdown",
   "id": "3cc5e9eb",
   "metadata": {},
   "source": [
    "nombre_infected       208\n",
    "nombre_sain          3135\n",
    "nombre_exposed        143\n",
    "nombre_recovered    16514\n",
    "Name: 116, dtype: int64"
   ]
  },
  {
   "cell_type": "markdown",
   "id": "8116353e",
   "metadata": {},
   "source": [
    "nombre_infected       216\n",
    "nombre_sain          3148\n",
    "nombre_exposed        152\n",
    "nombre_recovered    16484\n",
    "Name: 117, dtype: int64"
   ]
  },
  {
   "cell_type": "markdown",
   "id": "fb04d73b",
   "metadata": {},
   "source": [
    "nombre_infected       212\n",
    "nombre_sain          3177\n",
    "nombre_exposed        156\n",
    "nombre_recovered    16455\n",
    "Name: 118, dtype: int64"
   ]
  },
  {
   "cell_type": "markdown",
   "id": "3c603001",
   "metadata": {},
   "source": [
    "nombre_infected       232\n",
    "nombre_sain          3210\n",
    "nombre_exposed        146\n",
    "nombre_recovered    16412\n",
    "Name: 119, dtype: int64"
   ]
  },
  {
   "cell_type": "markdown",
   "id": "f4a9771b",
   "metadata": {},
   "source": [
    "nombre_infected       237\n",
    "nombre_sain          3241\n",
    "nombre_exposed        141\n",
    "nombre_recovered    16381\n",
    "Name: 120, dtype: int64"
   ]
  },
  {
   "cell_type": "markdown",
   "id": "b97f1f74",
   "metadata": {},
   "source": [
    "nombre_infected       234\n",
    "nombre_sain          3252\n",
    "nombre_exposed        161\n",
    "nombre_recovered    16353\n",
    "Name: 121, dtype: int64"
   ]
  },
  {
   "cell_type": "markdown",
   "id": "1c81f5d0",
   "metadata": {},
   "source": [
    "nombre_infected       228\n",
    "nombre_sain          3260\n",
    "nombre_exposed        183\n",
    "nombre_recovered    16329\n",
    "Name: 122, dtype: int64"
   ]
  },
  {
   "cell_type": "markdown",
   "id": "c13495b1",
   "metadata": {},
   "source": [
    "nombre_infected       234\n",
    "nombre_sain          3282\n",
    "nombre_exposed        186\n",
    "nombre_recovered    16298\n",
    "Name: 123, dtype: int64"
   ]
  },
  {
   "cell_type": "markdown",
   "id": "ef9efb55",
   "metadata": {},
   "source": [
    "nombre_infected       241\n",
    "nombre_sain          3282\n",
    "nombre_exposed        197\n",
    "nombre_recovered    16280\n",
    "Name: 124, dtype: int64"
   ]
  },
  {
   "cell_type": "markdown",
   "id": "8218d63a",
   "metadata": {},
   "source": [
    "nombre_infected       246\n",
    "nombre_sain          3287\n",
    "nombre_exposed        195\n",
    "nombre_recovered    16272\n",
    "Name: 125, dtype: int64"
   ]
  },
  {
   "cell_type": "markdown",
   "id": "7a1146a8",
   "metadata": {},
   "source": [
    "nombre_infected       249\n",
    "nombre_sain          3281\n",
    "nombre_exposed        217\n",
    "nombre_recovered    16253\n",
    "Name: 126, dtype: int64"
   ]
  },
  {
   "cell_type": "markdown",
   "id": "5523b153",
   "metadata": {},
   "source": [
    "nombre_infected       264\n",
    "nombre_sain          3277\n",
    "nombre_exposed        213\n",
    "nombre_recovered    16246\n",
    "Name: 127, dtype: int64"
   ]
  },
  {
   "cell_type": "markdown",
   "id": "fe803842",
   "metadata": {},
   "source": [
    "nombre_infected       274\n",
    "nombre_sain          3272\n",
    "nombre_exposed        223\n",
    "nombre_recovered    16231\n",
    "Name: 128, dtype: int64"
   ]
  },
  {
   "cell_type": "markdown",
   "id": "b8414ce8",
   "metadata": {},
   "source": [
    "nombre_infected       300\n",
    "nombre_sain          3279\n",
    "nombre_exposed        230\n",
    "nombre_recovered    16191\n",
    "Name: 129, dtype: int64"
   ]
  },
  {
   "cell_type": "markdown",
   "id": "5a43fb48",
   "metadata": {},
   "source": [
    "nombre_infected       307\n",
    "nombre_sain          3283\n",
    "nombre_exposed        257\n",
    "nombre_recovered    16153\n",
    "Name: 130, dtype: int64"
   ]
  },
  {
   "cell_type": "markdown",
   "id": "de6c593b",
   "metadata": {},
   "source": [
    "nombre_infected       340\n",
    "nombre_sain          3263\n",
    "nombre_exposed        264\n",
    "nombre_recovered    16133\n",
    "Name: 131, dtype: int64"
   ]
  },
  {
   "cell_type": "markdown",
   "id": "53fd8aaf",
   "metadata": {},
   "source": [
    "nombre_infected       353\n",
    "nombre_sain          3260\n",
    "nombre_exposed        273\n",
    "nombre_recovered    16114\n",
    "Name: 132, dtype: int64"
   ]
  },
  {
   "cell_type": "markdown",
   "id": "41707d72",
   "metadata": {},
   "source": [
    "nombre_infected       379\n",
    "nombre_sain          3240\n",
    "nombre_exposed        279\n",
    "nombre_recovered    16102\n",
    "Name: 133, dtype: int64"
   ]
  },
  {
   "cell_type": "markdown",
   "id": "adc37899",
   "metadata": {},
   "source": [
    "nombre_infected       397\n",
    "nombre_sain          3215\n",
    "nombre_exposed        290\n",
    "nombre_recovered    16098\n",
    "Name: 134, dtype: int64"
   ]
  },
  {
   "cell_type": "markdown",
   "id": "dffe8d94",
   "metadata": {},
   "source": [
    "nombre_infected       399\n",
    "nombre_sain          3194\n",
    "nombre_exposed        325\n",
    "nombre_recovered    16082\n",
    "Name: 135, dtype: int64"
   ]
  },
  {
   "cell_type": "markdown",
   "id": "72792c06",
   "metadata": {},
   "source": [
    "nombre_infected       421\n",
    "nombre_sain          3163\n",
    "nombre_exposed        328\n",
    "nombre_recovered    16088\n",
    "Name: 136, dtype: int64"
   ]
  },
  {
   "cell_type": "markdown",
   "id": "8b6facb2",
   "metadata": {},
   "source": [
    "nombre_infected       465\n",
    "nombre_sain          3116\n",
    "nombre_exposed        325\n",
    "nombre_recovered    16094\n",
    "Name: 137, dtype: int64"
   ]
  },
  {
   "cell_type": "markdown",
   "id": "f50b822d",
   "metadata": {},
   "source": [
    "nombre_infected       479\n",
    "nombre_sain          3071\n",
    "nombre_exposed        334\n",
    "nombre_recovered    16116\n",
    "Name: 138, dtype: int64"
   ]
  },
  {
   "cell_type": "markdown",
   "id": "bc785443",
   "metadata": {},
   "source": [
    "nombre_infected       473\n",
    "nombre_sain          3048\n",
    "nombre_exposed        359\n",
    "nombre_recovered    16120\n",
    "Name: 139, dtype: int64"
   ]
  },
  {
   "cell_type": "markdown",
   "id": "a3bdf0c8",
   "metadata": {},
   "source": [
    "nombre_infected       498\n",
    "nombre_sain          3011\n",
    "nombre_exposed        363\n",
    "nombre_recovered    16128\n",
    "Name: 140, dtype: int64"
   ]
  },
  {
   "cell_type": "markdown",
   "id": "87e68056",
   "metadata": {},
   "source": [
    "nombre_infected       527\n",
    "nombre_sain          2983\n",
    "nombre_exposed        380\n",
    "nombre_recovered    16110\n",
    "Name: 141, dtype: int64"
   ]
  },
  {
   "cell_type": "markdown",
   "id": "9968cb3b",
   "metadata": {},
   "source": [
    "nombre_infected       543\n",
    "nombre_sain          2944\n",
    "nombre_exposed        395\n",
    "nombre_recovered    16118\n",
    "Name: 142, dtype: int64"
   ]
  },
  {
   "cell_type": "markdown",
   "id": "980410c5",
   "metadata": {},
   "source": [
    "nombre_infected       577\n",
    "nombre_sain          2888\n",
    "nombre_exposed        414\n",
    "nombre_recovered    16121\n",
    "Name: 143, dtype: int64"
   ]
  },
  {
   "cell_type": "markdown",
   "id": "7c4e9e7d",
   "metadata": {},
   "source": [
    "nombre_infected       594\n",
    "nombre_sain          2847\n",
    "nombre_exposed        431\n",
    "nombre_recovered    16128\n",
    "Name: 144, dtype: int64"
   ]
  },
  {
   "cell_type": "markdown",
   "id": "c84ac64a",
   "metadata": {},
   "source": [
    "nombre_infected       621\n",
    "nombre_sain          2788\n",
    "nombre_exposed        461\n",
    "nombre_recovered    16130\n",
    "Name: 145, dtype: int64"
   ]
  },
  {
   "cell_type": "markdown",
   "id": "2cfebef9",
   "metadata": {},
   "source": [
    "nombre_infected       634\n",
    "nombre_sain          2752\n",
    "nombre_exposed        470\n",
    "nombre_recovered    16144\n",
    "Name: 146, dtype: int64"
   ]
  },
  {
   "cell_type": "markdown",
   "id": "54991fa9",
   "metadata": {},
   "source": [
    "nombre_infected       684\n",
    "nombre_sain          2717\n",
    "nombre_exposed        456\n",
    "nombre_recovered    16143\n",
    "Name: 147, dtype: int64"
   ]
  },
  {
   "cell_type": "markdown",
   "id": "4588e748",
   "metadata": {},
   "source": [
    "nombre_infected       686\n",
    "nombre_sain          2669\n",
    "nombre_exposed        483\n",
    "nombre_recovered    16162\n",
    "Name: 148, dtype: int64"
   ]
  },
  {
   "cell_type": "markdown",
   "id": "3fdd78dd",
   "metadata": {},
   "source": [
    "nombre_infected       672\n",
    "nombre_sain          2632\n",
    "nombre_exposed        498\n",
    "nombre_recovered    16198\n",
    "Name: 149, dtype: int64"
   ]
  },
  {
   "cell_type": "markdown",
   "id": "d5c4176d",
   "metadata": {},
   "source": [
    "nombre_infected       681\n",
    "nombre_sain          2585\n",
    "nombre_exposed        500\n",
    "nombre_recovered    16234\n",
    "Name: 150, dtype: int64"
   ]
  },
  {
   "cell_type": "markdown",
   "id": "8fada99f",
   "metadata": {},
   "source": [
    "nombre_infected       705\n",
    "nombre_sain          2538\n",
    "nombre_exposed        504\n",
    "nombre_recovered    16253\n",
    "Name: 151, dtype: int64"
   ]
  },
  {
   "cell_type": "markdown",
   "id": "5b24a86e",
   "metadata": {},
   "source": [
    "nombre_infected       725\n",
    "nombre_sain          2508\n",
    "nombre_exposed        486\n",
    "nombre_recovered    16281\n",
    "Name: 152, dtype: int64"
   ]
  },
  {
   "cell_type": "markdown",
   "id": "5d9cc9a9",
   "metadata": {},
   "source": [
    "nombre_infected       731\n",
    "nombre_sain          2456\n",
    "nombre_exposed        483\n",
    "nombre_recovered    16330\n",
    "Name: 153, dtype: int64"
   ]
  },
  {
   "cell_type": "markdown",
   "id": "14485786",
   "metadata": {},
   "source": [
    "nombre_infected       726\n",
    "nombre_sain          2430\n",
    "nombre_exposed        481\n",
    "nombre_recovered    16363\n",
    "Name: 154, dtype: int64"
   ]
  },
  {
   "cell_type": "markdown",
   "id": "6e555902",
   "metadata": {},
   "source": [
    "nombre_infected       753\n",
    "nombre_sain          2361\n",
    "nombre_exposed        509\n",
    "nombre_recovered    16377\n",
    "Name: 155, dtype: int64"
   ]
  },
  {
   "cell_type": "markdown",
   "id": "1ab30ce8",
   "metadata": {},
   "source": [
    "nombre_infected       762\n",
    "nombre_sain          2306\n",
    "nombre_exposed        517\n",
    "nombre_recovered    16415\n",
    "Name: 156, dtype: int64"
   ]
  },
  {
   "cell_type": "markdown",
   "id": "12d7924b",
   "metadata": {},
   "source": [
    "nombre_infected       776\n",
    "nombre_sain          2282\n",
    "nombre_exposed        504\n",
    "nombre_recovered    16438\n",
    "Name: 157, dtype: int64"
   ]
  },
  {
   "cell_type": "markdown",
   "id": "361edcec",
   "metadata": {},
   "source": [
    "nombre_infected       773\n",
    "nombre_sain          2225\n",
    "nombre_exposed        516\n",
    "nombre_recovered    16486\n",
    "Name: 158, dtype: int64"
   ]
  },
  {
   "cell_type": "markdown",
   "id": "99c33dc6",
   "metadata": {},
   "source": [
    "nombre_infected       758\n",
    "nombre_sain          2199\n",
    "nombre_exposed        504\n",
    "nombre_recovered    16539\n",
    "Name: 159, dtype: int64"
   ]
  },
  {
   "cell_type": "markdown",
   "id": "795f4956",
   "metadata": {},
   "source": [
    "nombre_infected       761\n",
    "nombre_sain          2182\n",
    "nombre_exposed        484\n",
    "nombre_recovered    16573\n",
    "Name: 160, dtype: int64"
   ]
  },
  {
   "cell_type": "markdown",
   "id": "865a9de7",
   "metadata": {},
   "source": [
    "nombre_infected       778\n",
    "nombre_sain          2165\n",
    "nombre_exposed        450\n",
    "nombre_recovered    16607\n",
    "Name: 161, dtype: int64"
   ]
  },
  {
   "cell_type": "markdown",
   "id": "4abf93c8",
   "metadata": {},
   "source": [
    "nombre_infected       776\n",
    "nombre_sain          2153\n",
    "nombre_exposed        458\n",
    "nombre_recovered    16613\n",
    "Name: 162, dtype: int64"
   ]
  },
  {
   "cell_type": "markdown",
   "id": "eb58693b",
   "metadata": {},
   "source": [
    "nombre_infected       774\n",
    "nombre_sain          2124\n",
    "nombre_exposed        468\n",
    "nombre_recovered    16634\n",
    "Name: 163, dtype: int64"
   ]
  },
  {
   "cell_type": "markdown",
   "id": "17c66369",
   "metadata": {},
   "source": [
    "nombre_infected       765\n",
    "nombre_sain          2121\n",
    "nombre_exposed        467\n",
    "nombre_recovered    16647\n",
    "Name: 164, dtype: int64"
   ]
  },
  {
   "cell_type": "markdown",
   "id": "88fda072",
   "metadata": {},
   "source": [
    "nombre_infected       764\n",
    "nombre_sain          2106\n",
    "nombre_exposed        464\n",
    "nombre_recovered    16666\n",
    "Name: 165, dtype: int64"
   ]
  },
  {
   "cell_type": "markdown",
   "id": "0ba5de24",
   "metadata": {},
   "source": [
    "nombre_infected       761\n",
    "nombre_sain          2098\n",
    "nombre_exposed        467\n",
    "nombre_recovered    16674\n",
    "Name: 166, dtype: int64"
   ]
  },
  {
   "cell_type": "markdown",
   "id": "6f0ada61",
   "metadata": {},
   "source": [
    "nombre_infected       764\n",
    "nombre_sain          2122\n",
    "nombre_exposed        439\n",
    "nombre_recovered    16675\n",
    "Name: 167, dtype: int64"
   ]
  },
  {
   "cell_type": "markdown",
   "id": "68cff65c",
   "metadata": {},
   "source": [
    "nombre_infected       743\n",
    "nombre_sain          2105\n",
    "nombre_exposed        445\n",
    "nombre_recovered    16707\n",
    "Name: 168, dtype: int64"
   ]
  },
  {
   "cell_type": "markdown",
   "id": "f396cf57",
   "metadata": {},
   "source": [
    "nombre_infected       733\n",
    "nombre_sain          2093\n",
    "nombre_exposed        447\n",
    "nombre_recovered    16727\n",
    "Name: 169, dtype: int64"
   ]
  },
  {
   "cell_type": "markdown",
   "id": "1078ab59",
   "metadata": {},
   "source": [
    "nombre_infected       720\n",
    "nombre_sain          2099\n",
    "nombre_exposed        442\n",
    "nombre_recovered    16739\n",
    "Name: 170, dtype: int64"
   ]
  },
  {
   "cell_type": "markdown",
   "id": "532c4a30",
   "metadata": {},
   "source": [
    "nombre_infected       721\n",
    "nombre_sain          2087\n",
    "nombre_exposed        458\n",
    "nombre_recovered    16734\n",
    "Name: 171, dtype: int64"
   ]
  },
  {
   "cell_type": "markdown",
   "id": "044806e4",
   "metadata": {},
   "source": [
    "nombre_infected       723\n",
    "nombre_sain          2089\n",
    "nombre_exposed        446\n",
    "nombre_recovered    16742\n",
    "Name: 172, dtype: int64"
   ]
  },
  {
   "cell_type": "markdown",
   "id": "6b532be8",
   "metadata": {},
   "source": [
    "nombre_infected       737\n",
    "nombre_sain          2069\n",
    "nombre_exposed        452\n",
    "nombre_recovered    16742\n",
    "Name: 173, dtype: int64"
   ]
  },
  {
   "cell_type": "markdown",
   "id": "29a1d191",
   "metadata": {},
   "source": [
    "nombre_infected       730\n",
    "nombre_sain          2072\n",
    "nombre_exposed        460\n",
    "nombre_recovered    16738\n",
    "Name: 174, dtype: int64"
   ]
  },
  {
   "cell_type": "markdown",
   "id": "b526803a",
   "metadata": {},
   "source": [
    "nombre_infected       734\n",
    "nombre_sain          2036\n",
    "nombre_exposed        463\n",
    "nombre_recovered    16767\n",
    "Name: 175, dtype: int64"
   ]
  },
  {
   "cell_type": "markdown",
   "id": "1c503aee",
   "metadata": {},
   "source": [
    "nombre_infected       752\n",
    "nombre_sain          2041\n",
    "nombre_exposed        441\n",
    "nombre_recovered    16766\n",
    "Name: 176, dtype: int64"
   ]
  },
  {
   "cell_type": "markdown",
   "id": "ea5b9e4f",
   "metadata": {},
   "source": [
    "nombre_infected       750\n",
    "nombre_sain          2023\n",
    "nombre_exposed        435\n",
    "nombre_recovered    16792\n",
    "Name: 177, dtype: int64"
   ]
  },
  {
   "cell_type": "markdown",
   "id": "c2594337",
   "metadata": {},
   "source": [
    "nombre_infected       767\n",
    "nombre_sain          2009\n",
    "nombre_exposed        416\n",
    "nombre_recovered    16808\n",
    "Name: 178, dtype: int64"
   ]
  },
  {
   "cell_type": "markdown",
   "id": "8b628b62",
   "metadata": {},
   "source": [
    "nombre_infected       763\n",
    "nombre_sain          2014\n",
    "nombre_exposed        416\n",
    "nombre_recovered    16807\n",
    "Name: 179, dtype: int64"
   ]
  },
  {
   "cell_type": "markdown",
   "id": "d60ce776",
   "metadata": {},
   "source": [
    "nombre_infected       751\n",
    "nombre_sain          2000\n",
    "nombre_exposed        413\n",
    "nombre_recovered    16836\n",
    "Name: 180, dtype: int64"
   ]
  },
  {
   "cell_type": "markdown",
   "id": "e02b95ab",
   "metadata": {},
   "source": [
    "nombre_infected       726\n",
    "nombre_sain          1970\n",
    "nombre_exposed        422\n",
    "nombre_recovered    16882\n",
    "Name: 181, dtype: int64"
   ]
  },
  {
   "cell_type": "markdown",
   "id": "b57ca808",
   "metadata": {},
   "source": [
    "nombre_infected       712\n",
    "nombre_sain          1965\n",
    "nombre_exposed        423\n",
    "nombre_recovered    16900\n",
    "Name: 182, dtype: int64"
   ]
  },
  {
   "cell_type": "markdown",
   "id": "7875c617",
   "metadata": {},
   "source": [
    "nombre_infected       708\n",
    "nombre_sain          1984\n",
    "nombre_exposed        408\n",
    "nombre_recovered    16900\n",
    "Name: 183, dtype: int64"
   ]
  },
  {
   "cell_type": "markdown",
   "id": "b3d26c97",
   "metadata": {},
   "source": [
    "nombre_infected       709\n",
    "nombre_sain          1997\n",
    "nombre_exposed        397\n",
    "nombre_recovered    16897\n",
    "Name: 184, dtype: int64"
   ]
  },
  {
   "cell_type": "markdown",
   "id": "7798e21d",
   "metadata": {},
   "source": [
    "nombre_infected       693\n",
    "nombre_sain          1985\n",
    "nombre_exposed        394\n",
    "nombre_recovered    16928\n",
    "Name: 185, dtype: int64"
   ]
  },
  {
   "cell_type": "markdown",
   "id": "4831c1cc",
   "metadata": {},
   "source": [
    "nombre_infected       671\n",
    "nombre_sain          2009\n",
    "nombre_exposed        395\n",
    "nombre_recovered    16925\n",
    "Name: 186, dtype: int64"
   ]
  },
  {
   "cell_type": "markdown",
   "id": "4804fa04",
   "metadata": {},
   "source": [
    "nombre_infected       670\n",
    "nombre_sain          2028\n",
    "nombre_exposed        365\n",
    "nombre_recovered    16937\n",
    "Name: 187, dtype: int64"
   ]
  },
  {
   "cell_type": "markdown",
   "id": "1907e734",
   "metadata": {},
   "source": [
    "nombre_infected       648\n",
    "nombre_sain          2047\n",
    "nombre_exposed        358\n",
    "nombre_recovered    16947\n",
    "Name: 188, dtype: int64"
   ]
  },
  {
   "cell_type": "markdown",
   "id": "be8d568c",
   "metadata": {},
   "source": [
    "nombre_infected       635\n",
    "nombre_sain          2054\n",
    "nombre_exposed        359\n",
    "nombre_recovered    16952\n",
    "Name: 189, dtype: int64"
   ]
  },
  {
   "cell_type": "markdown",
   "id": "c5bbd29b",
   "metadata": {},
   "source": [
    "nombre_infected       630\n",
    "nombre_sain          2067\n",
    "nombre_exposed        370\n",
    "nombre_recovered    16933\n",
    "Name: 190, dtype: int64"
   ]
  },
  {
   "cell_type": "markdown",
   "id": "8f7d7d5a",
   "metadata": {},
   "source": [
    "nombre_infected       625\n",
    "nombre_sain          2090\n",
    "nombre_exposed        362\n",
    "nombre_recovered    16923\n",
    "Name: 191, dtype: int64"
   ]
  },
  {
   "cell_type": "markdown",
   "id": "2feb0071",
   "metadata": {},
   "source": [
    "nombre_infected       618\n",
    "nombre_sain          2124\n",
    "nombre_exposed        357\n",
    "nombre_recovered    16901\n",
    "Name: 192, dtype: int64"
   ]
  },
  {
   "cell_type": "markdown",
   "id": "9a8699c3",
   "metadata": {},
   "source": [
    "nombre_infected       613\n",
    "nombre_sain          2158\n",
    "nombre_exposed        342\n",
    "nombre_recovered    16887\n",
    "Name: 193, dtype: int64"
   ]
  },
  {
   "cell_type": "markdown",
   "id": "46d5077a",
   "metadata": {},
   "source": [
    "nombre_infected       615\n",
    "nombre_sain          2194\n",
    "nombre_exposed        339\n",
    "nombre_recovered    16852\n",
    "Name: 194, dtype: int64"
   ]
  },
  {
   "cell_type": "markdown",
   "id": "ffe68cd9",
   "metadata": {},
   "source": [
    "nombre_infected       600\n",
    "nombre_sain          2232\n",
    "nombre_exposed        342\n",
    "nombre_recovered    16826\n",
    "Name: 195, dtype: int64"
   ]
  },
  {
   "cell_type": "markdown",
   "id": "e68e006b",
   "metadata": {},
   "source": [
    "nombre_infected       581\n",
    "nombre_sain          2259\n",
    "nombre_exposed        348\n",
    "nombre_recovered    16812\n",
    "Name: 196, dtype: int64"
   ]
  },
  {
   "cell_type": "markdown",
   "id": "691965f2",
   "metadata": {},
   "source": [
    "nombre_infected       563\n",
    "nombre_sain          2272\n",
    "nombre_exposed        351\n",
    "nombre_recovered    16814\n",
    "Name: 197, dtype: int64"
   ]
  },
  {
   "cell_type": "markdown",
   "id": "c2ac84e1",
   "metadata": {},
   "source": [
    "nombre_infected       568\n",
    "nombre_sain          2276\n",
    "nombre_exposed        366\n",
    "nombre_recovered    16790\n",
    "Name: 198, dtype: int64"
   ]
  },
  {
   "cell_type": "markdown",
   "id": "33172b36",
   "metadata": {},
   "source": [
    "nombre_infected       581\n",
    "nombre_sain          2296\n",
    "nombre_exposed        362\n",
    "nombre_recovered    16761\n",
    "Name: 199, dtype: int64"
   ]
  },
  {
   "cell_type": "markdown",
   "id": "210fb129",
   "metadata": {},
   "source": [
    "nombre_infected       562\n",
    "nombre_sain          2302\n",
    "nombre_exposed        371\n",
    "nombre_recovered    16765\n",
    "Name: 200, dtype: int64"
   ]
  },
  {
   "cell_type": "markdown",
   "id": "14208659",
   "metadata": {},
   "source": [
    "nombre_infected       580\n",
    "nombre_sain          2315\n",
    "nombre_exposed        347\n",
    "nombre_recovered    16758\n",
    "Name: 201, dtype: int64"
   ]
  },
  {
   "cell_type": "markdown",
   "id": "cdddcbdc",
   "metadata": {},
   "source": [
    "nombre_infected       575\n",
    "nombre_sain          2339\n",
    "nombre_exposed        339\n",
    "nombre_recovered    16747\n",
    "Name: 202, dtype: int64"
   ]
  },
  {
   "cell_type": "markdown",
   "id": "b63711f4",
   "metadata": {},
   "source": [
    "nombre_infected       585\n",
    "nombre_sain          2339\n",
    "nombre_exposed        337\n",
    "nombre_recovered    16739\n",
    "Name: 203, dtype: int64"
   ]
  },
  {
   "cell_type": "markdown",
   "id": "2490ad9a",
   "metadata": {},
   "source": [
    "nombre_infected       567\n",
    "nombre_sain          2338\n",
    "nombre_exposed        370\n",
    "nombre_recovered    16725\n",
    "Name: 204, dtype: int64"
   ]
  },
  {
   "cell_type": "markdown",
   "id": "a3b3fe10",
   "metadata": {},
   "source": [
    "nombre_infected       556\n",
    "nombre_sain          2357\n",
    "nombre_exposed        368\n",
    "nombre_recovered    16719\n",
    "Name: 205, dtype: int64"
   ]
  },
  {
   "cell_type": "markdown",
   "id": "9712eaba",
   "metadata": {},
   "source": [
    "nombre_infected       561\n",
    "nombre_sain          2345\n",
    "nombre_exposed        363\n",
    "nombre_recovered    16731\n",
    "Name: 206, dtype: int64"
   ]
  },
  {
   "cell_type": "markdown",
   "id": "4f4b8f66",
   "metadata": {},
   "source": [
    "nombre_infected       582\n",
    "nombre_sain          2353\n",
    "nombre_exposed        357\n",
    "nombre_recovered    16708\n",
    "Name: 207, dtype: int64"
   ]
  },
  {
   "cell_type": "markdown",
   "id": "d14cb096",
   "metadata": {},
   "source": [
    "nombre_infected       567\n",
    "nombre_sain          2383\n",
    "nombre_exposed        349\n",
    "nombre_recovered    16701\n",
    "Name: 208, dtype: int64"
   ]
  },
  {
   "cell_type": "markdown",
   "id": "94f50867",
   "metadata": {},
   "source": [
    "nombre_infected       571\n",
    "nombre_sain          2393\n",
    "nombre_exposed        335\n",
    "nombre_recovered    16701\n",
    "Name: 209, dtype: int64"
   ]
  },
  {
   "cell_type": "markdown",
   "id": "5f254e2b",
   "metadata": {},
   "source": [
    "nombre_infected       588\n",
    "nombre_sain          2411\n",
    "nombre_exposed        329\n",
    "nombre_recovered    16672\n",
    "Name: 210, dtype: int64"
   ]
  },
  {
   "cell_type": "markdown",
   "id": "4f6c486a",
   "metadata": {},
   "source": [
    "nombre_infected       588\n",
    "nombre_sain          2407\n",
    "nombre_exposed        334\n",
    "nombre_recovered    16671\n",
    "Name: 211, dtype: int64"
   ]
  },
  {
   "cell_type": "markdown",
   "id": "1a89981d",
   "metadata": {},
   "source": [
    "nombre_infected       590\n",
    "nombre_sain          2407\n",
    "nombre_exposed        348\n",
    "nombre_recovered    16655\n",
    "Name: 212, dtype: int64"
   ]
  },
  {
   "cell_type": "markdown",
   "id": "756f8d48",
   "metadata": {},
   "source": [
    "nombre_infected       610\n",
    "nombre_sain          2396\n",
    "nombre_exposed        359\n",
    "nombre_recovered    16635\n",
    "Name: 213, dtype: int64"
   ]
  },
  {
   "cell_type": "markdown",
   "id": "bc29f2d5",
   "metadata": {},
   "source": [
    "nombre_infected       608\n",
    "nombre_sain          2415\n",
    "nombre_exposed        363\n",
    "nombre_recovered    16614\n",
    "Name: 214, dtype: int64"
   ]
  },
  {
   "cell_type": "markdown",
   "id": "5c9c2bf7",
   "metadata": {},
   "source": [
    "nombre_infected       630\n",
    "nombre_sain          2426\n",
    "nombre_exposed        362\n",
    "nombre_recovered    16582\n",
    "Name: 215, dtype: int64"
   ]
  },
  {
   "cell_type": "markdown",
   "id": "39d2ec8a",
   "metadata": {},
   "source": [
    "nombre_infected       619\n",
    "nombre_sain          2471\n",
    "nombre_exposed        356\n",
    "nombre_recovered    16554\n",
    "Name: 216, dtype: int64"
   ]
  },
  {
   "cell_type": "markdown",
   "id": "1d0b28ca",
   "metadata": {},
   "source": [
    "nombre_infected       596\n",
    "nombre_sain          2470\n",
    "nombre_exposed        370\n",
    "nombre_recovered    16564\n",
    "Name: 217, dtype: int64"
   ]
  },
  {
   "cell_type": "markdown",
   "id": "661bfa92",
   "metadata": {},
   "source": [
    "nombre_infected       592\n",
    "nombre_sain          2483\n",
    "nombre_exposed        397\n",
    "nombre_recovered    16528\n",
    "Name: 218, dtype: int64"
   ]
  },
  {
   "cell_type": "markdown",
   "id": "1339da51",
   "metadata": {},
   "source": [
    "nombre_infected       595\n",
    "nombre_sain          2479\n",
    "nombre_exposed        393\n",
    "nombre_recovered    16533\n",
    "Name: 219, dtype: int64"
   ]
  },
  {
   "cell_type": "markdown",
   "id": "e5aa41ed",
   "metadata": {},
   "source": [
    "nombre_infected       598\n",
    "nombre_sain          2475\n",
    "nombre_exposed        410\n",
    "nombre_recovered    16517\n",
    "Name: 220, dtype: int64"
   ]
  },
  {
   "cell_type": "markdown",
   "id": "fd78d465",
   "metadata": {},
   "source": [
    "nombre_infected       593\n",
    "nombre_sain          2499\n",
    "nombre_exposed        409\n",
    "nombre_recovered    16499\n",
    "Name: 221, dtype: int64"
   ]
  },
  {
   "cell_type": "markdown",
   "id": "ad5ff756",
   "metadata": {},
   "source": [
    "nombre_infected       611\n",
    "nombre_sain          2515\n",
    "nombre_exposed        387\n",
    "nombre_recovered    16487\n",
    "Name: 222, dtype: int64"
   ]
  },
  {
   "cell_type": "markdown",
   "id": "f71c015f",
   "metadata": {},
   "source": [
    "nombre_infected       619\n",
    "nombre_sain          2517\n",
    "nombre_exposed        395\n",
    "nombre_recovered    16469\n",
    "Name: 223, dtype: int64"
   ]
  },
  {
   "cell_type": "markdown",
   "id": "842313f8",
   "metadata": {},
   "source": [
    "nombre_infected       630\n",
    "nombre_sain          2513\n",
    "nombre_exposed        399\n",
    "nombre_recovered    16458\n",
    "Name: 224, dtype: int64"
   ]
  },
  {
   "cell_type": "markdown",
   "id": "62d87e9a",
   "metadata": {},
   "source": [
    "nombre_infected       640\n",
    "nombre_sain          2486\n",
    "nombre_exposed        417\n",
    "nombre_recovered    16457\n",
    "Name: 225, dtype: int64"
   ]
  },
  {
   "cell_type": "markdown",
   "id": "8a67ef13",
   "metadata": {},
   "source": [
    "nombre_infected       651\n",
    "nombre_sain          2468\n",
    "nombre_exposed        430\n",
    "nombre_recovered    16451\n",
    "Name: 226, dtype: int64"
   ]
  },
  {
   "cell_type": "markdown",
   "id": "0e1bb961",
   "metadata": {},
   "source": [
    "nombre_infected       652\n",
    "nombre_sain          2464\n",
    "nombre_exposed        440\n",
    "nombre_recovered    16444\n",
    "Name: 227, dtype: int64"
   ]
  },
  {
   "cell_type": "markdown",
   "id": "fc668f04",
   "metadata": {},
   "source": [
    "nombre_infected       683\n",
    "nombre_sain          2450\n",
    "nombre_exposed        420\n",
    "nombre_recovered    16447\n",
    "Name: 228, dtype: int64"
   ]
  },
  {
   "cell_type": "markdown",
   "id": "0ef206e5",
   "metadata": {},
   "source": [
    "nombre_infected       693\n",
    "nombre_sain          2469\n",
    "nombre_exposed        405\n",
    "nombre_recovered    16433\n",
    "Name: 229, dtype: int64"
   ]
  },
  {
   "cell_type": "markdown",
   "id": "3160fce3",
   "metadata": {},
   "source": [
    "nombre_infected       683\n",
    "nombre_sain          2472\n",
    "nombre_exposed        400\n",
    "nombre_recovered    16445\n",
    "Name: 230, dtype: int64"
   ]
  },
  {
   "cell_type": "markdown",
   "id": "b74aa519",
   "metadata": {},
   "source": [
    "nombre_infected       683\n",
    "nombre_sain          2479\n",
    "nombre_exposed        421\n",
    "nombre_recovered    16417\n",
    "Name: 231, dtype: int64"
   ]
  },
  {
   "cell_type": "markdown",
   "id": "07d429cd",
   "metadata": {},
   "source": [
    "nombre_infected       673\n",
    "nombre_sain          2487\n",
    "nombre_exposed        405\n",
    "nombre_recovered    16435\n",
    "Name: 232, dtype: int64"
   ]
  },
  {
   "cell_type": "markdown",
   "id": "e4206172",
   "metadata": {},
   "source": [
    "nombre_infected       670\n",
    "nombre_sain          2480\n",
    "nombre_exposed        411\n",
    "nombre_recovered    16439\n",
    "Name: 233, dtype: int64"
   ]
  },
  {
   "cell_type": "markdown",
   "id": "85e77f3d",
   "metadata": {},
   "source": [
    "nombre_infected       672\n",
    "nombre_sain          2479\n",
    "nombre_exposed        412\n",
    "nombre_recovered    16437\n",
    "Name: 234, dtype: int64"
   ]
  },
  {
   "cell_type": "markdown",
   "id": "0b758d14",
   "metadata": {},
   "source": [
    "nombre_infected       679\n",
    "nombre_sain          2476\n",
    "nombre_exposed        400\n",
    "nombre_recovered    16445\n",
    "Name: 235, dtype: int64"
   ]
  },
  {
   "cell_type": "markdown",
   "id": "d48be1dd",
   "metadata": {},
   "source": [
    "nombre_infected       697\n",
    "nombre_sain          2466\n",
    "nombre_exposed        414\n",
    "nombre_recovered    16423\n",
    "Name: 236, dtype: int64"
   ]
  },
  {
   "cell_type": "markdown",
   "id": "8660c925",
   "metadata": {},
   "source": [
    "nombre_infected       684\n",
    "nombre_sain          2469\n",
    "nombre_exposed        428\n",
    "nombre_recovered    16419\n",
    "Name: 237, dtype: int64"
   ]
  },
  {
   "cell_type": "markdown",
   "id": "8b0bcc04",
   "metadata": {},
   "source": [
    "nombre_infected       712\n",
    "nombre_sain          2481\n",
    "nombre_exposed        400\n",
    "nombre_recovered    16407\n",
    "Name: 238, dtype: int64"
   ]
  },
  {
   "cell_type": "markdown",
   "id": "44521003",
   "metadata": {},
   "source": [
    "nombre_infected       703\n",
    "nombre_sain          2471\n",
    "nombre_exposed        411\n",
    "nombre_recovered    16415\n",
    "Name: 239, dtype: int64"
   ]
  },
  {
   "cell_type": "markdown",
   "id": "915ba04f",
   "metadata": {},
   "source": [
    "nombre_infected       697\n",
    "nombre_sain          2464\n",
    "nombre_exposed        420\n",
    "nombre_recovered    16419\n",
    "Name: 240, dtype: int64"
   ]
  },
  {
   "cell_type": "markdown",
   "id": "96ddbf5d",
   "metadata": {},
   "source": [
    "nombre_infected       698\n",
    "nombre_sain          2446\n",
    "nombre_exposed        443\n",
    "nombre_recovered    16413\n",
    "Name: 241, dtype: int64"
   ]
  },
  {
   "cell_type": "markdown",
   "id": "3cc7d4c9",
   "metadata": {},
   "source": [
    "nombre_infected       684\n",
    "nombre_sain          2452\n",
    "nombre_exposed        437\n",
    "nombre_recovered    16427\n",
    "Name: 242, dtype: int64"
   ]
  },
  {
   "cell_type": "markdown",
   "id": "07745a14",
   "metadata": {},
   "source": [
    "nombre_infected       695\n",
    "nombre_sain          2446\n",
    "nombre_exposed        435\n",
    "nombre_recovered    16424\n",
    "Name: 243, dtype: int64"
   ]
  },
  {
   "cell_type": "markdown",
   "id": "4a6940c8",
   "metadata": {},
   "source": [
    "nombre_infected       712\n",
    "nombre_sain          2402\n",
    "nombre_exposed        458\n",
    "nombre_recovered    16428\n",
    "Name: 244, dtype: int64"
   ]
  },
  {
   "cell_type": "markdown",
   "id": "696221a4",
   "metadata": {},
   "source": [
    "nombre_infected       728\n",
    "nombre_sain          2408\n",
    "nombre_exposed        437\n",
    "nombre_recovered    16427\n",
    "Name: 245, dtype: int64"
   ]
  },
  {
   "cell_type": "markdown",
   "id": "f8fa75b0",
   "metadata": {},
   "source": [
    "nombre_infected       741\n",
    "nombre_sain          2392\n",
    "nombre_exposed        408\n",
    "nombre_recovered    16459\n",
    "Name: 246, dtype: int64"
   ]
  },
  {
   "cell_type": "markdown",
   "id": "96c26dcd",
   "metadata": {},
   "source": [
    "nombre_infected       718\n",
    "nombre_sain          2372\n",
    "nombre_exposed        414\n",
    "nombre_recovered    16496\n",
    "Name: 247, dtype: int64"
   ]
  },
  {
   "cell_type": "markdown",
   "id": "a3396098",
   "metadata": {},
   "source": [
    "nombre_infected       715\n",
    "nombre_sain          2365\n",
    "nombre_exposed        429\n",
    "nombre_recovered    16491\n",
    "Name: 248, dtype: int64"
   ]
  },
  {
   "cell_type": "markdown",
   "id": "e527129e",
   "metadata": {},
   "source": [
    "nombre_infected       723\n",
    "nombre_sain          2357\n",
    "nombre_exposed        404\n",
    "nombre_recovered    16516\n",
    "Name: 249, dtype: int64"
   ]
  },
  {
   "cell_type": "markdown",
   "id": "3e0c81bf",
   "metadata": {},
   "source": [
    "nombre_infected       719\n",
    "nombre_sain          2346\n",
    "nombre_exposed        411\n",
    "nombre_recovered    16524\n",
    "Name: 250, dtype: int64"
   ]
  },
  {
   "cell_type": "markdown",
   "id": "ded59f10",
   "metadata": {},
   "source": [
    "nombre_infected       703\n",
    "nombre_sain          2300\n",
    "nombre_exposed        433\n",
    "nombre_recovered    16564\n",
    "Name: 251, dtype: int64"
   ]
  },
  {
   "cell_type": "markdown",
   "id": "fcf87538",
   "metadata": {},
   "source": [
    "nombre_infected       711\n",
    "nombre_sain          2283\n",
    "nombre_exposed        433\n",
    "nombre_recovered    16573\n",
    "Name: 252, dtype: int64"
   ]
  },
  {
   "cell_type": "markdown",
   "id": "d93f6a33",
   "metadata": {},
   "source": [
    "nombre_infected       710\n",
    "nombre_sain          2287\n",
    "nombre_exposed        432\n",
    "nombre_recovered    16571\n",
    "Name: 253, dtype: int64"
   ]
  },
  {
   "cell_type": "markdown",
   "id": "c551b142",
   "metadata": {},
   "source": [
    "nombre_infected       715\n",
    "nombre_sain          2256\n",
    "nombre_exposed        432\n",
    "nombre_recovered    16597\n",
    "Name: 254, dtype: int64"
   ]
  },
  {
   "cell_type": "markdown",
   "id": "f996e13a",
   "metadata": {},
   "source": [
    "nombre_infected       734\n",
    "nombre_sain          2247\n",
    "nombre_exposed        407\n",
    "nombre_recovered    16612\n",
    "Name: 255, dtype: int64"
   ]
  },
  {
   "cell_type": "markdown",
   "id": "b42e1c04",
   "metadata": {},
   "source": [
    "nombre_infected       729\n",
    "nombre_sain          2212\n",
    "nombre_exposed        429\n",
    "nombre_recovered    16630\n",
    "Name: 256, dtype: int64"
   ]
  },
  {
   "cell_type": "markdown",
   "id": "a5acec45",
   "metadata": {},
   "source": [
    "nombre_infected       737\n",
    "nombre_sain          2190\n",
    "nombre_exposed        428\n",
    "nombre_recovered    16645\n",
    "Name: 257, dtype: int64"
   ]
  },
  {
   "cell_type": "markdown",
   "id": "afd59cbf",
   "metadata": {},
   "source": [
    "nombre_infected       741\n",
    "nombre_sain          2203\n",
    "nombre_exposed        411\n",
    "nombre_recovered    16645\n",
    "Name: 258, dtype: int64"
   ]
  },
  {
   "cell_type": "markdown",
   "id": "5c1b8fea",
   "metadata": {},
   "source": [
    "nombre_infected       725\n",
    "nombre_sain          2185\n",
    "nombre_exposed        424\n",
    "nombre_recovered    16666\n",
    "Name: 259, dtype: int64"
   ]
  },
  {
   "cell_type": "markdown",
   "id": "268e1a55",
   "metadata": {},
   "source": [
    "nombre_infected       730\n",
    "nombre_sain          2165\n",
    "nombre_exposed        436\n",
    "nombre_recovered    16669\n",
    "Name: 260, dtype: int64"
   ]
  },
  {
   "cell_type": "markdown",
   "id": "54eb9984",
   "metadata": {},
   "source": [
    "nombre_infected       726\n",
    "nombre_sain          2166\n",
    "nombre_exposed        430\n",
    "nombre_recovered    16678\n",
    "Name: 261, dtype: int64"
   ]
  },
  {
   "cell_type": "markdown",
   "id": "81bdc66b",
   "metadata": {},
   "source": [
    "nombre_infected       724\n",
    "nombre_sain          2151\n",
    "nombre_exposed        438\n",
    "nombre_recovered    16687\n",
    "Name: 262, dtype: int64"
   ]
  },
  {
   "cell_type": "markdown",
   "id": "45718b83",
   "metadata": {},
   "source": [
    "nombre_infected       752\n",
    "nombre_sain          2158\n",
    "nombre_exposed        394\n",
    "nombre_recovered    16696\n",
    "Name: 263, dtype: int64"
   ]
  },
  {
   "cell_type": "markdown",
   "id": "7bdd2741",
   "metadata": {},
   "source": [
    "nombre_infected       743\n",
    "nombre_sain          2162\n",
    "nombre_exposed        397\n",
    "nombre_recovered    16698\n",
    "Name: 264, dtype: int64"
   ]
  },
  {
   "cell_type": "markdown",
   "id": "e230c0ad",
   "metadata": {},
   "source": [
    "nombre_infected       739\n",
    "nombre_sain          2161\n",
    "nombre_exposed        398\n",
    "nombre_recovered    16702\n",
    "Name: 265, dtype: int64"
   ]
  },
  {
   "cell_type": "markdown",
   "id": "6fa87ef8",
   "metadata": {},
   "source": [
    "nombre_infected       733\n",
    "nombre_sain          2161\n",
    "nombre_exposed        403\n",
    "nombre_recovered    16703\n",
    "Name: 266, dtype: int64"
   ]
  },
  {
   "cell_type": "markdown",
   "id": "3a2de7cb",
   "metadata": {},
   "source": [
    "nombre_infected       728\n",
    "nombre_sain          2157\n",
    "nombre_exposed        408\n",
    "nombre_recovered    16707\n",
    "Name: 267, dtype: int64"
   ]
  },
  {
   "cell_type": "markdown",
   "id": "06da12d3",
   "metadata": {},
   "source": [
    "nombre_infected       748\n",
    "nombre_sain          2172\n",
    "nombre_exposed        394\n",
    "nombre_recovered    16686\n",
    "Name: 268, dtype: int64"
   ]
  },
  {
   "cell_type": "markdown",
   "id": "c7a2c34b",
   "metadata": {},
   "source": [
    "nombre_infected       751\n",
    "nombre_sain          2206\n",
    "nombre_exposed        376\n",
    "nombre_recovered    16667\n",
    "Name: 269, dtype: int64"
   ]
  },
  {
   "cell_type": "markdown",
   "id": "ed336702",
   "metadata": {},
   "source": [
    "nombre_infected       732\n",
    "nombre_sain          2201\n",
    "nombre_exposed        392\n",
    "nombre_recovered    16675\n",
    "Name: 270, dtype: int64"
   ]
  },
  {
   "cell_type": "markdown",
   "id": "de6ec644",
   "metadata": {},
   "source": [
    "nombre_infected       723\n",
    "nombre_sain          2214\n",
    "nombre_exposed        393\n",
    "nombre_recovered    16670\n",
    "Name: 271, dtype: int64"
   ]
  },
  {
   "cell_type": "markdown",
   "id": "a6d6dbc3",
   "metadata": {},
   "source": [
    "nombre_infected       704\n",
    "nombre_sain          2220\n",
    "nombre_exposed        416\n",
    "nombre_recovered    16660\n",
    "Name: 272, dtype: int64"
   ]
  },
  {
   "cell_type": "markdown",
   "id": "dec2197a",
   "metadata": {},
   "source": [
    "nombre_infected       686\n",
    "nombre_sain          2234\n",
    "nombre_exposed        416\n",
    "nombre_recovered    16664\n",
    "Name: 273, dtype: int64"
   ]
  },
  {
   "cell_type": "markdown",
   "id": "f72f1212",
   "metadata": {},
   "source": [
    "nombre_infected       706\n",
    "nombre_sain          2273\n",
    "nombre_exposed        383\n",
    "nombre_recovered    16638\n",
    "Name: 274, dtype: int64"
   ]
  },
  {
   "cell_type": "markdown",
   "id": "c6ab7e9d",
   "metadata": {},
   "source": [
    "nombre_infected       699\n",
    "nombre_sain          2298\n",
    "nombre_exposed        388\n",
    "nombre_recovered    16615\n",
    "Name: 275, dtype: int64"
   ]
  },
  {
   "cell_type": "markdown",
   "id": "a6b6bf1e",
   "metadata": {},
   "source": [
    "nombre_infected       689\n",
    "nombre_sain          2313\n",
    "nombre_exposed        400\n",
    "nombre_recovered    16598\n",
    "Name: 276, dtype: int64"
   ]
  },
  {
   "cell_type": "markdown",
   "id": "71ed62f7",
   "metadata": {},
   "source": [
    "nombre_infected       694\n",
    "nombre_sain          2309\n",
    "nombre_exposed        387\n",
    "nombre_recovered    16610\n",
    "Name: 277, dtype: int64"
   ]
  },
  {
   "cell_type": "markdown",
   "id": "eaf2cdfd",
   "metadata": {},
   "source": [
    "nombre_infected       680\n",
    "nombre_sain          2305\n",
    "nombre_exposed        406\n",
    "nombre_recovered    16609\n",
    "Name: 278, dtype: int64"
   ]
  },
  {
   "cell_type": "markdown",
   "id": "ac26a3d2",
   "metadata": {},
   "source": [
    "nombre_infected       704\n",
    "nombre_sain          2335\n",
    "nombre_exposed        380\n",
    "nombre_recovered    16581\n",
    "Name: 279, dtype: int64"
   ]
  },
  {
   "cell_type": "markdown",
   "id": "09bf322e",
   "metadata": {},
   "source": [
    "nombre_infected       725\n",
    "nombre_sain          2340\n",
    "nombre_exposed        377\n",
    "nombre_recovered    16558\n",
    "Name: 280, dtype: int64"
   ]
  },
  {
   "cell_type": "markdown",
   "id": "23c4bd49",
   "metadata": {},
   "source": [
    "nombre_infected       697\n",
    "nombre_sain          2362\n",
    "nombre_exposed        390\n",
    "nombre_recovered    16551\n",
    "Name: 281, dtype: int64"
   ]
  },
  {
   "cell_type": "markdown",
   "id": "f28bbc10",
   "metadata": {},
   "source": [
    "nombre_infected       709\n",
    "nombre_sain          2367\n",
    "nombre_exposed        400\n",
    "nombre_recovered    16524\n",
    "Name: 282, dtype: int64"
   ]
  },
  {
   "cell_type": "markdown",
   "id": "371c6678",
   "metadata": {},
   "source": [
    "nombre_infected       705\n",
    "nombre_sain          2376\n",
    "nombre_exposed        401\n",
    "nombre_recovered    16518\n",
    "Name: 283, dtype: int64"
   ]
  },
  {
   "cell_type": "markdown",
   "id": "7c0686c4",
   "metadata": {},
   "source": [
    "nombre_infected       708\n",
    "nombre_sain          2387\n",
    "nombre_exposed        413\n",
    "nombre_recovered    16492\n",
    "Name: 284, dtype: int64"
   ]
  },
  {
   "cell_type": "markdown",
   "id": "58a43115",
   "metadata": {},
   "source": [
    "nombre_infected       704\n",
    "nombre_sain          2412\n",
    "nombre_exposed        416\n",
    "nombre_recovered    16468\n",
    "Name: 285, dtype: int64"
   ]
  },
  {
   "cell_type": "markdown",
   "id": "255f28e2",
   "metadata": {},
   "source": [
    "nombre_infected       722\n",
    "nombre_sain          2415\n",
    "nombre_exposed        411\n",
    "nombre_recovered    16452\n",
    "Name: 286, dtype: int64"
   ]
  },
  {
   "cell_type": "markdown",
   "id": "e6bfbff6",
   "metadata": {},
   "source": [
    "nombre_infected       706\n",
    "nombre_sain          2419\n",
    "nombre_exposed        442\n",
    "nombre_recovered    16433\n",
    "Name: 287, dtype: int64"
   ]
  },
  {
   "cell_type": "markdown",
   "id": "77b74594",
   "metadata": {},
   "source": [
    "nombre_infected       703\n",
    "nombre_sain          2442\n",
    "nombre_exposed        459\n",
    "nombre_recovered    16396\n",
    "Name: 288, dtype: int64"
   ]
  },
  {
   "cell_type": "markdown",
   "id": "c6c97641",
   "metadata": {},
   "source": [
    "nombre_infected       722\n",
    "nombre_sain          2476\n",
    "nombre_exposed        450\n",
    "nombre_recovered    16352\n",
    "Name: 289, dtype: int64"
   ]
  },
  {
   "cell_type": "markdown",
   "id": "4a8ce57c",
   "metadata": {},
   "source": [
    "nombre_infected       746\n",
    "nombre_sain          2490\n",
    "nombre_exposed        440\n",
    "nombre_recovered    16324\n",
    "Name: 290, dtype: int64"
   ]
  },
  {
   "cell_type": "markdown",
   "id": "94a543ec",
   "metadata": {},
   "source": [
    "nombre_infected       761\n",
    "nombre_sain          2476\n",
    "nombre_exposed        478\n",
    "nombre_recovered    16285\n",
    "Name: 291, dtype: int64"
   ]
  },
  {
   "cell_type": "markdown",
   "id": "8022ad18",
   "metadata": {},
   "source": [
    "nombre_infected       759\n",
    "nombre_sain          2460\n",
    "nombre_exposed        519\n",
    "nombre_recovered    16262\n",
    "Name: 292, dtype: int64"
   ]
  },
  {
   "cell_type": "markdown",
   "id": "83f59c00",
   "metadata": {},
   "source": [
    "nombre_infected       784\n",
    "nombre_sain          2451\n",
    "nombre_exposed        517\n",
    "nombre_recovered    16248\n",
    "Name: 293, dtype: int64"
   ]
  },
  {
   "cell_type": "markdown",
   "id": "ef13f5f4",
   "metadata": {},
   "source": [
    "nombre_infected       786\n",
    "nombre_sain          2453\n",
    "nombre_exposed        529\n",
    "nombre_recovered    16232\n",
    "Name: 294, dtype: int64"
   ]
  },
  {
   "cell_type": "markdown",
   "id": "ba05538c",
   "metadata": {},
   "source": [
    "nombre_infected       818\n",
    "nombre_sain          2467\n",
    "nombre_exposed        528\n",
    "nombre_recovered    16187\n",
    "Name: 295, dtype: int64"
   ]
  },
  {
   "cell_type": "markdown",
   "id": "3cb32c92",
   "metadata": {},
   "source": [
    "nombre_infected       846\n",
    "nombre_sain          2473\n",
    "nombre_exposed        517\n",
    "nombre_recovered    16164\n",
    "Name: 296, dtype: int64"
   ]
  },
  {
   "cell_type": "markdown",
   "id": "aacd7d0e",
   "metadata": {},
   "source": [
    "nombre_infected       871\n",
    "nombre_sain          2514\n",
    "nombre_exposed        502\n",
    "nombre_recovered    16113\n",
    "Name: 297, dtype: int64"
   ]
  },
  {
   "cell_type": "markdown",
   "id": "66e3fe7b",
   "metadata": {},
   "source": [
    "nombre_infected       876\n",
    "nombre_sain          2528\n",
    "nombre_exposed        519\n",
    "nombre_recovered    16077\n",
    "Name: 298, dtype: int64"
   ]
  },
  {
   "cell_type": "markdown",
   "id": "ce8f61e1",
   "metadata": {},
   "source": [
    "nombre_infected       875\n",
    "nombre_sain          2535\n",
    "nombre_exposed        531\n",
    "nombre_recovered    16059\n",
    "Name: 299, dtype: int64"
   ]
  },
  {
   "cell_type": "markdown",
   "id": "d68be09c",
   "metadata": {},
   "source": [
    "nombre_infected       866\n",
    "nombre_sain          2594\n",
    "nombre_exposed        513\n",
    "nombre_recovered    16027\n",
    "Name: 300, dtype: int64"
   ]
  },
  {
   "cell_type": "markdown",
   "id": "aff0a67c",
   "metadata": {},
   "source": [
    "nombre_infected       880\n",
    "nombre_sain          2610\n",
    "nombre_exposed        512\n",
    "nombre_recovered    15998\n",
    "Name: 301, dtype: int64"
   ]
  },
  {
   "cell_type": "markdown",
   "id": "228b0a5d",
   "metadata": {},
   "source": [
    "nombre_infected       869\n",
    "nombre_sain          2637\n",
    "nombre_exposed        530\n",
    "nombre_recovered    15964\n",
    "Name: 302, dtype: int64"
   ]
  },
  {
   "cell_type": "markdown",
   "id": "072293a5",
   "metadata": {},
   "source": [
    "nombre_infected       863\n",
    "nombre_sain          2637\n",
    "nombre_exposed        554\n",
    "nombre_recovered    15946\n",
    "Name: 303, dtype: int64"
   ]
  },
  {
   "cell_type": "markdown",
   "id": "916c28dc",
   "metadata": {},
   "source": [
    "nombre_infected       874\n",
    "nombre_sain          2618\n",
    "nombre_exposed        570\n",
    "nombre_recovered    15938\n",
    "Name: 304, dtype: int64"
   ]
  },
  {
   "cell_type": "markdown",
   "id": "4cdff521",
   "metadata": {},
   "source": [
    "nombre_infected       881\n",
    "nombre_sain          2588\n",
    "nombre_exposed        615\n",
    "nombre_recovered    15916\n",
    "Name: 305, dtype: int64"
   ]
  },
  {
   "cell_type": "markdown",
   "id": "77bdc728",
   "metadata": {},
   "source": [
    "nombre_infected       875\n",
    "nombre_sain          2557\n",
    "nombre_exposed        651\n",
    "nombre_recovered    15917\n",
    "Name: 306, dtype: int64"
   ]
  },
  {
   "cell_type": "markdown",
   "id": "2904d900",
   "metadata": {},
   "source": [
    "nombre_infected       893\n",
    "nombre_sain          2548\n",
    "nombre_exposed        654\n",
    "nombre_recovered    15905\n",
    "Name: 307, dtype: int64"
   ]
  },
  {
   "cell_type": "markdown",
   "id": "8a8bdc1a",
   "metadata": {},
   "source": [
    "nombre_infected       907\n",
    "nombre_sain          2538\n",
    "nombre_exposed        628\n",
    "nombre_recovered    15927\n",
    "Name: 308, dtype: int64"
   ]
  },
  {
   "cell_type": "markdown",
   "id": "3f57750a",
   "metadata": {},
   "source": [
    "nombre_infected       911\n",
    "nombre_sain          2528\n",
    "nombre_exposed        623\n",
    "nombre_recovered    15938\n",
    "Name: 309, dtype: int64"
   ]
  },
  {
   "cell_type": "markdown",
   "id": "969bbaa7",
   "metadata": {},
   "source": [
    "nombre_infected       930\n",
    "nombre_sain          2473\n",
    "nombre_exposed        645\n",
    "nombre_recovered    15952\n",
    "Name: 310, dtype: int64"
   ]
  },
  {
   "cell_type": "markdown",
   "id": "55f43af9",
   "metadata": {},
   "source": [
    "nombre_infected       923\n",
    "nombre_sain          2426\n",
    "nombre_exposed        664\n",
    "nombre_recovered    15987\n",
    "Name: 311, dtype: int64"
   ]
  },
  {
   "cell_type": "markdown",
   "id": "6dd41789",
   "metadata": {},
   "source": [
    "nombre_infected       938\n",
    "nombre_sain          2404\n",
    "nombre_exposed        670\n",
    "nombre_recovered    15988\n",
    "Name: 312, dtype: int64"
   ]
  },
  {
   "cell_type": "markdown",
   "id": "bd7cee0c",
   "metadata": {},
   "source": [
    "nombre_infected       977\n",
    "nombre_sain          2370\n",
    "nombre_exposed        643\n",
    "nombre_recovered    16010\n",
    "Name: 313, dtype: int64"
   ]
  },
  {
   "cell_type": "markdown",
   "id": "d4d1be76",
   "metadata": {},
   "source": [
    "nombre_infected       995\n",
    "nombre_sain          2341\n",
    "nombre_exposed        639\n",
    "nombre_recovered    16025\n",
    "Name: 314, dtype: int64"
   ]
  },
  {
   "cell_type": "markdown",
   "id": "1ae06031",
   "metadata": {},
   "source": [
    "nombre_infected       988\n",
    "nombre_sain          2326\n",
    "nombre_exposed        647\n",
    "nombre_recovered    16039\n",
    "Name: 315, dtype: int64"
   ]
  },
  {
   "cell_type": "markdown",
   "id": "abf0bb57",
   "metadata": {},
   "source": [
    "nombre_infected       966\n",
    "nombre_sain          2288\n",
    "nombre_exposed        653\n",
    "nombre_recovered    16093\n",
    "Name: 316, dtype: int64"
   ]
  },
  {
   "cell_type": "markdown",
   "id": "517da2e1",
   "metadata": {},
   "source": [
    "nombre_infected       975\n",
    "nombre_sain          2336\n",
    "nombre_exposed        624\n",
    "nombre_recovered    16065\n",
    "Name: 317, dtype: int64"
   ]
  },
  {
   "cell_type": "markdown",
   "id": "d74d8b2d",
   "metadata": {},
   "source": [
    "nombre_infected       980\n",
    "nombre_sain          2309\n",
    "nombre_exposed        644\n",
    "nombre_recovered    16067\n",
    "Name: 318, dtype: int64"
   ]
  },
  {
   "cell_type": "markdown",
   "id": "d81aa782",
   "metadata": {},
   "source": [
    "nombre_infected       990\n",
    "nombre_sain          2304\n",
    "nombre_exposed        632\n",
    "nombre_recovered    16074\n",
    "Name: 319, dtype: int64"
   ]
  },
  {
   "cell_type": "markdown",
   "id": "071ea928",
   "metadata": {},
   "source": [
    "nombre_infected      1004\n",
    "nombre_sain          2282\n",
    "nombre_exposed        642\n",
    "nombre_recovered    16072\n",
    "Name: 320, dtype: int64"
   ]
  },
  {
   "cell_type": "markdown",
   "id": "0e7622d9",
   "metadata": {},
   "source": [
    "nombre_infected       992\n",
    "nombre_sain          2277\n",
    "nombre_exposed        635\n",
    "nombre_recovered    16096\n",
    "Name: 321, dtype: int64"
   ]
  },
  {
   "cell_type": "markdown",
   "id": "f285b3e2",
   "metadata": {},
   "source": [
    "nombre_infected       977\n",
    "nombre_sain          2255\n",
    "nombre_exposed        636\n",
    "nombre_recovered    16132\n",
    "Name: 322, dtype: int64"
   ]
  },
  {
   "cell_type": "markdown",
   "id": "a9afd77e",
   "metadata": {},
   "source": [
    "nombre_infected       984\n",
    "nombre_sain          2267\n",
    "nombre_exposed        611\n",
    "nombre_recovered    16138\n",
    "Name: 323, dtype: int64"
   ]
  },
  {
   "cell_type": "markdown",
   "id": "15ff208f",
   "metadata": {},
   "source": [
    "nombre_infected       973\n",
    "nombre_sain          2253\n",
    "nombre_exposed        635\n",
    "nombre_recovered    16139\n",
    "Name: 324, dtype: int64"
   ]
  },
  {
   "cell_type": "markdown",
   "id": "35a35266",
   "metadata": {},
   "source": [
    "nombre_infected       982\n",
    "nombre_sain          2227\n",
    "nombre_exposed        646\n",
    "nombre_recovered    16145\n",
    "Name: 325, dtype: int64"
   ]
  },
  {
   "cell_type": "markdown",
   "id": "d6abf0df",
   "metadata": {},
   "source": [
    "nombre_infected       980\n",
    "nombre_sain          2205\n",
    "nombre_exposed        651\n",
    "nombre_recovered    16164\n",
    "Name: 326, dtype: int64"
   ]
  },
  {
   "cell_type": "markdown",
   "id": "25c2501a",
   "metadata": {},
   "source": [
    "nombre_infected      1013\n",
    "nombre_sain          2165\n",
    "nombre_exposed        647\n",
    "nombre_recovered    16175\n",
    "Name: 327, dtype: int64"
   ]
  },
  {
   "cell_type": "markdown",
   "id": "9364dd21",
   "metadata": {},
   "source": [
    "nombre_infected      1001\n",
    "nombre_sain          2160\n",
    "nombre_exposed        637\n",
    "nombre_recovered    16202\n",
    "Name: 328, dtype: int64"
   ]
  },
  {
   "cell_type": "markdown",
   "id": "69c5ee0c",
   "metadata": {},
   "source": [
    "nombre_infected       994\n",
    "nombre_sain          2155\n",
    "nombre_exposed        624\n",
    "nombre_recovered    16227\n",
    "Name: 329, dtype: int64"
   ]
  },
  {
   "cell_type": "markdown",
   "id": "74334ed5",
   "metadata": {},
   "source": [
    "nombre_infected       979\n",
    "nombre_sain          2127\n",
    "nombre_exposed        643\n",
    "nombre_recovered    16251\n",
    "Name: 330, dtype: int64"
   ]
  },
  {
   "cell_type": "markdown",
   "id": "949df377",
   "metadata": {},
   "source": [
    "nombre_infected       975\n",
    "nombre_sain          2110\n",
    "nombre_exposed        639\n",
    "nombre_recovered    16276\n",
    "Name: 331, dtype: int64"
   ]
  },
  {
   "cell_type": "markdown",
   "id": "efc91ef6",
   "metadata": {},
   "source": [
    "nombre_infected       970\n",
    "nombre_sain          2115\n",
    "nombre_exposed        626\n",
    "nombre_recovered    16289\n",
    "Name: 332, dtype: int64"
   ]
  },
  {
   "cell_type": "markdown",
   "id": "1fcd52ad",
   "metadata": {},
   "source": [
    "nombre_infected       973\n",
    "nombre_sain          2103\n",
    "nombre_exposed        606\n",
    "nombre_recovered    16318\n",
    "Name: 333, dtype: int64"
   ]
  },
  {
   "cell_type": "markdown",
   "id": "00f6ff18",
   "metadata": {},
   "source": [
    "nombre_infected       965\n",
    "nombre_sain          2121\n",
    "nombre_exposed        582\n",
    "nombre_recovered    16332\n",
    "Name: 334, dtype: int64"
   ]
  },
  {
   "cell_type": "markdown",
   "id": "122953fa",
   "metadata": {},
   "source": [
    "nombre_infected       942\n",
    "nombre_sain          2086\n",
    "nombre_exposed        604\n",
    "nombre_recovered    16368\n",
    "Name: 335, dtype: int64"
   ]
  },
  {
   "cell_type": "markdown",
   "id": "b07bdcd6",
   "metadata": {},
   "source": [
    "nombre_infected       943\n",
    "nombre_sain          2094\n",
    "nombre_exposed        593\n",
    "nombre_recovered    16370\n",
    "Name: 336, dtype: int64"
   ]
  },
  {
   "cell_type": "markdown",
   "id": "f08976e4",
   "metadata": {},
   "source": [
    "nombre_infected       908\n",
    "nombre_sain          2086\n",
    "nombre_exposed        623\n",
    "nombre_recovered    16383\n",
    "Name: 337, dtype: int64"
   ]
  },
  {
   "cell_type": "markdown",
   "id": "67f0025b",
   "metadata": {},
   "source": [
    "nombre_infected       888\n",
    "nombre_sain          2073\n",
    "nombre_exposed        637\n",
    "nombre_recovered    16402\n",
    "Name: 338, dtype: int64"
   ]
  },
  {
   "cell_type": "markdown",
   "id": "9c48fdb0",
   "metadata": {},
   "source": [
    "nombre_infected       913\n",
    "nombre_sain          2070\n",
    "nombre_exposed        595\n",
    "nombre_recovered    16422\n",
    "Name: 339, dtype: int64"
   ]
  },
  {
   "cell_type": "markdown",
   "id": "dbe0298f",
   "metadata": {},
   "source": [
    "nombre_infected       922\n",
    "nombre_sain          2079\n",
    "nombre_exposed        561\n",
    "nombre_recovered    16438\n",
    "Name: 340, dtype: int64"
   ]
  },
  {
   "cell_type": "markdown",
   "id": "e6a8db61",
   "metadata": {},
   "source": [
    "nombre_infected       947\n",
    "nombre_sain          2087\n",
    "nombre_exposed        586\n",
    "nombre_recovered    16380\n",
    "Name: 341, dtype: int64"
   ]
  },
  {
   "cell_type": "markdown",
   "id": "4ae3002f",
   "metadata": {},
   "source": [
    "nombre_infected       923\n",
    "nombre_sain          2064\n",
    "nombre_exposed        606\n",
    "nombre_recovered    16407\n",
    "Name: 342, dtype: int64"
   ]
  },
  {
   "cell_type": "markdown",
   "id": "977677c7",
   "metadata": {},
   "source": [
    "nombre_infected       915\n",
    "nombre_sain          2056\n",
    "nombre_exposed        602\n",
    "nombre_recovered    16427\n",
    "Name: 343, dtype: int64"
   ]
  },
  {
   "cell_type": "markdown",
   "id": "ceb7b938",
   "metadata": {},
   "source": [
    "nombre_infected       906\n",
    "nombre_sain          2070\n",
    "nombre_exposed        586\n",
    "nombre_recovered    16438\n",
    "Name: 344, dtype: int64"
   ]
  },
  {
   "cell_type": "markdown",
   "id": "ac0e50c7",
   "metadata": {},
   "source": [
    "nombre_infected       932\n",
    "nombre_sain          2082\n",
    "nombre_exposed        555\n",
    "nombre_recovered    16431\n",
    "Name: 345, dtype: int64"
   ]
  },
  {
   "cell_type": "markdown",
   "id": "35fa6283",
   "metadata": {},
   "source": [
    "nombre_infected       918\n",
    "nombre_sain          2102\n",
    "nombre_exposed        536\n",
    "nombre_recovered    16444\n",
    "Name: 346, dtype: int64"
   ]
  },
  {
   "cell_type": "markdown",
   "id": "620fddf7",
   "metadata": {},
   "source": [
    "nombre_infected       912\n",
    "nombre_sain          2097\n",
    "nombre_exposed        550\n",
    "nombre_recovered    16441\n",
    "Name: 347, dtype: int64"
   ]
  },
  {
   "cell_type": "markdown",
   "id": "8be3d877",
   "metadata": {},
   "source": [
    "nombre_infected       905\n",
    "nombre_sain          2095\n",
    "nombre_exposed        559\n",
    "nombre_recovered    16441\n",
    "Name: 348, dtype: int64"
   ]
  },
  {
   "cell_type": "markdown",
   "id": "5d93712c",
   "metadata": {},
   "source": [
    "nombre_infected       878\n",
    "nombre_sain          2110\n",
    "nombre_exposed        550\n",
    "nombre_recovered    16462\n",
    "Name: 349, dtype: int64"
   ]
  },
  {
   "cell_type": "markdown",
   "id": "dd3bd890",
   "metadata": {},
   "source": [
    "nombre_infected       875\n",
    "nombre_sain          2103\n",
    "nombre_exposed        554\n",
    "nombre_recovered    16468\n",
    "Name: 350, dtype: int64"
   ]
  },
  {
   "cell_type": "markdown",
   "id": "afd4b948",
   "metadata": {},
   "source": [
    "nombre_infected       881\n",
    "nombre_sain          2116\n",
    "nombre_exposed        550\n",
    "nombre_recovered    16453\n",
    "Name: 351, dtype: int64"
   ]
  },
  {
   "cell_type": "markdown",
   "id": "8086dd52",
   "metadata": {},
   "source": [
    "nombre_infected       891\n",
    "nombre_sain          2112\n",
    "nombre_exposed        526\n",
    "nombre_recovered    16471\n",
    "Name: 352, dtype: int64"
   ]
  },
  {
   "cell_type": "markdown",
   "id": "fe1877b2",
   "metadata": {},
   "source": [
    "nombre_infected       890\n",
    "nombre_sain          2115\n",
    "nombre_exposed        546\n",
    "nombre_recovered    16449\n",
    "Name: 353, dtype: int64"
   ]
  },
  {
   "cell_type": "markdown",
   "id": "ac8518c0",
   "metadata": {},
   "source": [
    "nombre_infected       893\n",
    "nombre_sain          2102\n",
    "nombre_exposed        559\n",
    "nombre_recovered    16446\n",
    "Name: 354, dtype: int64"
   ]
  },
  {
   "cell_type": "markdown",
   "id": "c1c85ce5",
   "metadata": {},
   "source": [
    "nombre_infected       898\n",
    "nombre_sain          2091\n",
    "nombre_exposed        557\n",
    "nombre_recovered    16454\n",
    "Name: 355, dtype: int64"
   ]
  },
  {
   "cell_type": "markdown",
   "id": "bd8e6e54",
   "metadata": {},
   "source": [
    "nombre_infected       890\n",
    "nombre_sain          2119\n",
    "nombre_exposed        540\n",
    "nombre_recovered    16451\n",
    "Name: 356, dtype: int64"
   ]
  },
  {
   "cell_type": "markdown",
   "id": "3cc73e91",
   "metadata": {},
   "source": [
    "nombre_infected       878\n",
    "nombre_sain          2125\n",
    "nombre_exposed        535\n",
    "nombre_recovered    16462\n",
    "Name: 357, dtype: int64"
   ]
  },
  {
   "cell_type": "markdown",
   "id": "2bd4c563",
   "metadata": {},
   "source": [
    "nombre_infected       886\n",
    "nombre_sain          2138\n",
    "nombre_exposed        522\n",
    "nombre_recovered    16454\n",
    "Name: 358, dtype: int64"
   ]
  },
  {
   "cell_type": "markdown",
   "id": "0521ba81",
   "metadata": {},
   "source": [
    "nombre_infected       906\n",
    "nombre_sain          2138\n",
    "nombre_exposed        509\n",
    "nombre_recovered    16447\n",
    "Name: 359, dtype: int64"
   ]
  },
  {
   "cell_type": "markdown",
   "id": "dfaff659",
   "metadata": {},
   "source": [
    "nombre_infected       922\n",
    "nombre_sain          2123\n",
    "nombre_exposed        510\n",
    "nombre_recovered    16445\n",
    "Name: 360, dtype: int64"
   ]
  },
  {
   "cell_type": "markdown",
   "id": "7f46bc6e",
   "metadata": {},
   "source": [
    "nombre_infected       905\n",
    "nombre_sain          2130\n",
    "nombre_exposed        508\n",
    "nombre_recovered    16457\n",
    "Name: 361, dtype: int64"
   ]
  },
  {
   "cell_type": "markdown",
   "id": "341cb742",
   "metadata": {},
   "source": [
    "nombre_infected       908\n",
    "nombre_sain          2125\n",
    "nombre_exposed        507\n",
    "nombre_recovered    16460\n",
    "Name: 362, dtype: int64"
   ]
  },
  {
   "cell_type": "markdown",
   "id": "b0dc3f73",
   "metadata": {},
   "source": [
    "nombre_infected       905\n",
    "nombre_sain          2127\n",
    "nombre_exposed        538\n",
    "nombre_recovered    16430\n",
    "Name: 363, dtype: int64"
   ]
  },
  {
   "cell_type": "markdown",
   "id": "9257b2aa",
   "metadata": {},
   "source": [
    "nombre_infected       906\n",
    "nombre_sain          2129\n",
    "nombre_exposed        544\n",
    "nombre_recovered    16421\n",
    "Name: 364, dtype: int64"
   ]
  },
  {
   "cell_type": "markdown",
   "id": "238b3ae1",
   "metadata": {},
   "source": [
    "nombre_infected       921\n",
    "nombre_sain          2145\n",
    "nombre_exposed        521\n",
    "nombre_recovered    16413\n",
    "Name: 365, dtype: int64"
   ]
  },
  {
   "cell_type": "markdown",
   "id": "4e35df9f",
   "metadata": {},
   "source": [
    "nombre_infected       931\n",
    "nombre_sain          2160\n",
    "nombre_exposed        512\n",
    "nombre_recovered    16397\n",
    "Name: 366, dtype: int64"
   ]
  },
  {
   "cell_type": "markdown",
   "id": "dc1fcbcf",
   "metadata": {},
   "source": [
    "nombre_infected       940\n",
    "nombre_sain          2146\n",
    "nombre_exposed        527\n",
    "nombre_recovered    16387\n",
    "Name: 367, dtype: int64"
   ]
  },
  {
   "cell_type": "markdown",
   "id": "47da2c93",
   "metadata": {},
   "source": [
    "nombre_infected       937\n",
    "nombre_sain          2153\n",
    "nombre_exposed        538\n",
    "nombre_recovered    16372\n",
    "Name: 368, dtype: int64"
   ]
  },
  {
   "cell_type": "markdown",
   "id": "204f3599",
   "metadata": {},
   "source": [
    "nombre_infected       941\n",
    "nombre_sain          2185\n",
    "nombre_exposed        535\n",
    "nombre_recovered    16339\n",
    "Name: 369, dtype: int64"
   ]
  },
  {
   "cell_type": "markdown",
   "id": "02b6503e",
   "metadata": {},
   "source": [
    "nombre_infected       962\n",
    "nombre_sain          2204\n",
    "nombre_exposed        533\n",
    "nombre_recovered    16301\n",
    "Name: 370, dtype: int64"
   ]
  },
  {
   "cell_type": "markdown",
   "id": "ecb6101d",
   "metadata": {},
   "source": [
    "nombre_infected       959\n",
    "nombre_sain          2194\n",
    "nombre_exposed        552\n",
    "nombre_recovered    16295\n",
    "Name: 371, dtype: int64"
   ]
  },
  {
   "cell_type": "markdown",
   "id": "2220276a",
   "metadata": {},
   "source": [
    "nombre_infected       965\n",
    "nombre_sain          2225\n",
    "nombre_exposed        546\n",
    "nombre_recovered    16264\n",
    "Name: 372, dtype: int64"
   ]
  },
  {
   "cell_type": "markdown",
   "id": "d12ef61a",
   "metadata": {},
   "source": [
    "nombre_infected       950\n",
    "nombre_sain          2212\n",
    "nombre_exposed        578\n",
    "nombre_recovered    16260\n",
    "Name: 373, dtype: int64"
   ]
  },
  {
   "cell_type": "markdown",
   "id": "0dcfec1a",
   "metadata": {},
   "source": [
    "nombre_infected       979\n",
    "nombre_sain          2203\n",
    "nombre_exposed        570\n",
    "nombre_recovered    16248\n",
    "Name: 374, dtype: int64"
   ]
  },
  {
   "cell_type": "markdown",
   "id": "704d774b",
   "metadata": {},
   "source": [
    "nombre_infected      1016\n",
    "nombre_sain          2202\n",
    "nombre_exposed        564\n",
    "nombre_recovered    16218\n",
    "Name: 375, dtype: int64"
   ]
  },
  {
   "cell_type": "markdown",
   "id": "2f1c5156",
   "metadata": {},
   "source": [
    "nombre_infected      1036\n",
    "nombre_sain          2201\n",
    "nombre_exposed        549\n",
    "nombre_recovered    16214\n",
    "Name: 376, dtype: int64"
   ]
  },
  {
   "cell_type": "markdown",
   "id": "d3b0ddaf",
   "metadata": {},
   "source": [
    "nombre_infected      1037\n",
    "nombre_sain          2176\n",
    "nombre_exposed        556\n",
    "nombre_recovered    16231\n",
    "Name: 377, dtype: int64"
   ]
  },
  {
   "cell_type": "markdown",
   "id": "62212690",
   "metadata": {},
   "source": [
    "nombre_infected      1064\n",
    "nombre_sain          2168\n",
    "nombre_exposed        546\n",
    "nombre_recovered    16222\n",
    "Name: 378, dtype: int64"
   ]
  },
  {
   "cell_type": "markdown",
   "id": "d6c2d259",
   "metadata": {},
   "source": [
    "nombre_infected      1065\n",
    "nombre_sain          2144\n",
    "nombre_exposed        569\n",
    "nombre_recovered    16222\n",
    "Name: 379, dtype: int64"
   ]
  },
  {
   "cell_type": "markdown",
   "id": "342b9c5b",
   "metadata": {},
   "source": [
    "nombre_infected      1078\n",
    "nombre_sain          2137\n",
    "nombre_exposed        575\n",
    "nombre_recovered    16210\n",
    "Name: 380, dtype: int64"
   ]
  },
  {
   "cell_type": "markdown",
   "id": "e8da1551",
   "metadata": {},
   "source": [
    "nombre_infected      1094\n",
    "nombre_sain          2085\n",
    "nombre_exposed        601\n",
    "nombre_recovered    16220\n",
    "Name: 381, dtype: int64"
   ]
  },
  {
   "cell_type": "markdown",
   "id": "88d0616d",
   "metadata": {},
   "source": [
    "nombre_infected      1105\n",
    "nombre_sain          2042\n",
    "nombre_exposed        596\n",
    "nombre_recovered    16257\n",
    "Name: 382, dtype: int64"
   ]
  },
  {
   "cell_type": "markdown",
   "id": "fd7c8fd8",
   "metadata": {},
   "source": [
    "nombre_infected      1119\n",
    "nombre_sain          2019\n",
    "nombre_exposed        575\n",
    "nombre_recovered    16287\n",
    "Name: 383, dtype: int64"
   ]
  },
  {
   "cell_type": "markdown",
   "id": "6c854bc7",
   "metadata": {},
   "source": [
    "nombre_infected      1123\n",
    "nombre_sain          1973\n",
    "nombre_exposed        566\n",
    "nombre_recovered    16338\n",
    "Name: 384, dtype: int64"
   ]
  },
  {
   "cell_type": "markdown",
   "id": "d1ec5b48",
   "metadata": {},
   "source": [
    "nombre_infected      1112\n",
    "nombre_sain          1929\n",
    "nombre_exposed        563\n",
    "nombre_recovered    16396\n",
    "Name: 385, dtype: int64"
   ]
  },
  {
   "cell_type": "markdown",
   "id": "769a6bf1",
   "metadata": {},
   "source": [
    "nombre_infected      1128\n",
    "nombre_sain          1927\n",
    "nombre_exposed        531\n",
    "nombre_recovered    16414\n",
    "Name: 386, dtype: int64"
   ]
  },
  {
   "cell_type": "markdown",
   "id": "99c4b53c",
   "metadata": {},
   "source": [
    "nombre_infected      1134\n",
    "nombre_sain          1896\n",
    "nombre_exposed        526\n",
    "nombre_recovered    16444\n",
    "Name: 387, dtype: int64"
   ]
  },
  {
   "cell_type": "markdown",
   "id": "8b6ef7cd",
   "metadata": {},
   "source": [
    "nombre_infected      1139\n",
    "nombre_sain          1883\n",
    "nombre_exposed        509\n",
    "nombre_recovered    16469\n",
    "Name: 388, dtype: int64"
   ]
  },
  {
   "cell_type": "markdown",
   "id": "0843af7f",
   "metadata": {},
   "source": [
    "nombre_infected      1103\n",
    "nombre_sain          1886\n",
    "nombre_exposed        503\n",
    "nombre_recovered    16508\n",
    "Name: 389, dtype: int64"
   ]
  },
  {
   "cell_type": "markdown",
   "id": "14debaae",
   "metadata": {},
   "source": [
    "nombre_infected      1104\n",
    "nombre_sain          1865\n",
    "nombre_exposed        497\n",
    "nombre_recovered    16534\n",
    "Name: 390, dtype: int64"
   ]
  },
  {
   "cell_type": "markdown",
   "id": "3f80504d",
   "metadata": {},
   "source": [
    "nombre_infected      1103\n",
    "nombre_sain          1863\n",
    "nombre_exposed        489\n",
    "nombre_recovered    16545\n",
    "Name: 391, dtype: int64"
   ]
  },
  {
   "cell_type": "markdown",
   "id": "39603d32",
   "metadata": {},
   "source": [
    "nombre_infected      1074\n",
    "nombre_sain          1872\n",
    "nombre_exposed        484\n",
    "nombre_recovered    16570\n",
    "Name: 392, dtype: int64"
   ]
  },
  {
   "cell_type": "markdown",
   "id": "5890bf98",
   "metadata": {},
   "source": [
    "nombre_infected      1057\n",
    "nombre_sain          1875\n",
    "nombre_exposed        500\n",
    "nombre_recovered    16568\n",
    "Name: 393, dtype: int64"
   ]
  },
  {
   "cell_type": "markdown",
   "id": "2491ff58",
   "metadata": {},
   "source": [
    "nombre_infected      1056\n",
    "nombre_sain          1881\n",
    "nombre_exposed        479\n",
    "nombre_recovered    16584\n",
    "Name: 394, dtype: int64"
   ]
  },
  {
   "cell_type": "markdown",
   "id": "0c82bdb4",
   "metadata": {},
   "source": [
    "nombre_infected      1040\n",
    "nombre_sain          1893\n",
    "nombre_exposed        479\n",
    "nombre_recovered    16588\n",
    "Name: 395, dtype: int64"
   ]
  },
  {
   "cell_type": "markdown",
   "id": "494975e7",
   "metadata": {},
   "source": [
    "nombre_infected      1066\n",
    "nombre_sain          1873\n",
    "nombre_exposed        472\n",
    "nombre_recovered    16589\n",
    "Name: 396, dtype: int64"
   ]
  },
  {
   "cell_type": "markdown",
   "id": "8b52ef70",
   "metadata": {},
   "source": [
    "nombre_infected      1042\n",
    "nombre_sain          1854\n",
    "nombre_exposed        476\n",
    "nombre_recovered    16628\n",
    "Name: 397, dtype: int64"
   ]
  },
  {
   "cell_type": "markdown",
   "id": "b6c21352",
   "metadata": {},
   "source": [
    "nombre_infected      1026\n",
    "nombre_sain          1853\n",
    "nombre_exposed        467\n",
    "nombre_recovered    16654\n",
    "Name: 398, dtype: int64"
   ]
  },
  {
   "cell_type": "markdown",
   "id": "1add1627",
   "metadata": {},
   "source": [
    "nombre_infected      1008\n",
    "nombre_sain          1885\n",
    "nombre_exposed        455\n",
    "nombre_recovered    16652\n",
    "Name: 399, dtype: int64"
   ]
  },
  {
   "cell_type": "markdown",
   "id": "5a3c22ba",
   "metadata": {},
   "source": [
    "nombre_infected       975\n",
    "nombre_sain          1894\n",
    "nombre_exposed        473\n",
    "nombre_recovered    16658\n",
    "Name: 400, dtype: int64"
   ]
  },
  {
   "cell_type": "markdown",
   "id": "91dc306b",
   "metadata": {},
   "source": [
    "nombre_infected       961\n",
    "nombre_sain          1914\n",
    "nombre_exposed        487\n",
    "nombre_recovered    16638\n",
    "Name: 401, dtype: int64"
   ]
  },
  {
   "cell_type": "markdown",
   "id": "1a55ec03",
   "metadata": {},
   "source": [
    "nombre_infected       972\n",
    "nombre_sain          1912\n",
    "nombre_exposed        463\n",
    "nombre_recovered    16653\n",
    "Name: 402, dtype: int64"
   ]
  },
  {
   "cell_type": "markdown",
   "id": "bb9048af",
   "metadata": {},
   "source": [
    "nombre_infected       944\n",
    "nombre_sain          1875\n",
    "nombre_exposed        484\n",
    "nombre_recovered    16697\n",
    "Name: 403, dtype: int64"
   ]
  },
  {
   "cell_type": "markdown",
   "id": "1262124d",
   "metadata": {},
   "source": [
    "nombre_infected       911\n",
    "nombre_sain          1879\n",
    "nombre_exposed        493\n",
    "nombre_recovered    16717\n",
    "Name: 404, dtype: int64"
   ]
  },
  {
   "cell_type": "markdown",
   "id": "63304c75",
   "metadata": {},
   "source": [
    "nombre_infected       927\n",
    "nombre_sain          1873\n",
    "nombre_exposed        475\n",
    "nombre_recovered    16725\n",
    "Name: 405, dtype: int64"
   ]
  },
  {
   "cell_type": "markdown",
   "id": "6131007b",
   "metadata": {},
   "source": [
    "nombre_infected       924\n",
    "nombre_sain          1895\n",
    "nombre_exposed        439\n",
    "nombre_recovered    16742\n",
    "Name: 406, dtype: int64"
   ]
  },
  {
   "cell_type": "markdown",
   "id": "0bbb3d82",
   "metadata": {},
   "source": [
    "nombre_infected       888\n",
    "nombre_sain          1902\n",
    "nombre_exposed        455\n",
    "nombre_recovered    16755\n",
    "Name: 407, dtype: int64"
   ]
  },
  {
   "cell_type": "markdown",
   "id": "59bf0cac",
   "metadata": {},
   "source": [
    "nombre_infected       863\n",
    "nombre_sain          1900\n",
    "nombre_exposed        478\n",
    "nombre_recovered    16759\n",
    "Name: 408, dtype: int64"
   ]
  },
  {
   "cell_type": "markdown",
   "id": "4746a72d",
   "metadata": {},
   "source": [
    "nombre_infected       850\n",
    "nombre_sain          1938\n",
    "nombre_exposed        470\n",
    "nombre_recovered    16742\n",
    "Name: 409, dtype: int64"
   ]
  },
  {
   "cell_type": "markdown",
   "id": "1156d8f1",
   "metadata": {},
   "source": [
    "nombre_infected       838\n",
    "nombre_sain          1962\n",
    "nombre_exposed        474\n",
    "nombre_recovered    16726\n",
    "Name: 410, dtype: int64"
   ]
  },
  {
   "cell_type": "markdown",
   "id": "3b017e0b",
   "metadata": {},
   "source": [
    "nombre_infected       846\n",
    "nombre_sain          1963\n",
    "nombre_exposed        473\n",
    "nombre_recovered    16718\n",
    "Name: 411, dtype: int64"
   ]
  },
  {
   "cell_type": "markdown",
   "id": "a2fb31c9",
   "metadata": {},
   "source": [
    "nombre_infected       885\n",
    "nombre_sain          1966\n",
    "nombre_exposed        444\n",
    "nombre_recovered    16705\n",
    "Name: 412, dtype: int64"
   ]
  },
  {
   "cell_type": "markdown",
   "id": "f075d9a7",
   "metadata": {},
   "source": [
    "nombre_infected       877\n",
    "nombre_sain          1991\n",
    "nombre_exposed        444\n",
    "nombre_recovered    16688\n",
    "Name: 413, dtype: int64"
   ]
  },
  {
   "cell_type": "markdown",
   "id": "76b3f336",
   "metadata": {},
   "source": [
    "nombre_infected       869\n",
    "nombre_sain          2000\n",
    "nombre_exposed        456\n",
    "nombre_recovered    16675\n",
    "Name: 414, dtype: int64"
   ]
  },
  {
   "cell_type": "markdown",
   "id": "bc3eb776",
   "metadata": {},
   "source": [
    "nombre_infected       850\n",
    "nombre_sain          2005\n",
    "nombre_exposed        455\n",
    "nombre_recovered    16690\n",
    "Name: 415, dtype: int64"
   ]
  },
  {
   "cell_type": "markdown",
   "id": "c9371a15",
   "metadata": {},
   "source": [
    "nombre_infected       849\n",
    "nombre_sain          1991\n",
    "nombre_exposed        465\n",
    "nombre_recovered    16695\n",
    "Name: 416, dtype: int64"
   ]
  },
  {
   "cell_type": "markdown",
   "id": "d72161a5",
   "metadata": {},
   "source": [
    "nombre_infected       842\n",
    "nombre_sain          2031\n",
    "nombre_exposed        465\n",
    "nombre_recovered    16662\n",
    "Name: 417, dtype: int64"
   ]
  },
  {
   "cell_type": "markdown",
   "id": "03acd489",
   "metadata": {},
   "source": [
    "nombre_infected       848\n",
    "nombre_sain          2050\n",
    "nombre_exposed        437\n",
    "nombre_recovered    16665\n",
    "Name: 418, dtype: int64"
   ]
  },
  {
   "cell_type": "markdown",
   "id": "43732ca3",
   "metadata": {},
   "source": [
    "nombre_infected       828\n",
    "nombre_sain          2051\n",
    "nombre_exposed        441\n",
    "nombre_recovered    16680\n",
    "Name: 419, dtype: int64"
   ]
  },
  {
   "cell_type": "markdown",
   "id": "ca317a8b",
   "metadata": {},
   "source": [
    "nombre_infected       818\n",
    "nombre_sain          2067\n",
    "nombre_exposed        431\n",
    "nombre_recovered    16684\n",
    "Name: 420, dtype: int64"
   ]
  },
  {
   "cell_type": "markdown",
   "id": "6705c314",
   "metadata": {},
   "source": [
    "nombre_infected       815\n",
    "nombre_sain          2072\n",
    "nombre_exposed        428\n",
    "nombre_recovered    16685\n",
    "Name: 421, dtype: int64"
   ]
  },
  {
   "cell_type": "markdown",
   "id": "3b18e816",
   "metadata": {},
   "source": [
    "nombre_infected       827\n",
    "nombre_sain          2053\n",
    "nombre_exposed        447\n",
    "nombre_recovered    16673\n",
    "Name: 422, dtype: int64"
   ]
  },
  {
   "cell_type": "markdown",
   "id": "3267443d",
   "metadata": {},
   "source": [
    "nombre_infected       810\n",
    "nombre_sain          2063\n",
    "nombre_exposed        443\n",
    "nombre_recovered    16684\n",
    "Name: 423, dtype: int64"
   ]
  },
  {
   "cell_type": "markdown",
   "id": "7c14574f",
   "metadata": {},
   "source": [
    "nombre_infected       818\n",
    "nombre_sain          2055\n",
    "nombre_exposed        446\n",
    "nombre_recovered    16681\n",
    "Name: 424, dtype: int64"
   ]
  },
  {
   "cell_type": "markdown",
   "id": "b84b3501",
   "metadata": {},
   "source": [
    "nombre_infected       816\n",
    "nombre_sain          2086\n",
    "nombre_exposed        440\n",
    "nombre_recovered    16658\n",
    "Name: 425, dtype: int64"
   ]
  },
  {
   "cell_type": "markdown",
   "id": "b7d6c2ab",
   "metadata": {},
   "source": [
    "nombre_infected       808\n",
    "nombre_sain          2083\n",
    "nombre_exposed        459\n",
    "nombre_recovered    16650\n",
    "Name: 426, dtype: int64"
   ]
  },
  {
   "cell_type": "markdown",
   "id": "d05111f8",
   "metadata": {},
   "source": [
    "nombre_infected       794\n",
    "nombre_sain          2100\n",
    "nombre_exposed        458\n",
    "nombre_recovered    16648\n",
    "Name: 427, dtype: int64"
   ]
  },
  {
   "cell_type": "markdown",
   "id": "52794ecf",
   "metadata": {},
   "source": [
    "nombre_infected       826\n",
    "nombre_sain          2098\n",
    "nombre_exposed        455\n",
    "nombre_recovered    16621\n",
    "Name: 428, dtype: int64"
   ]
  },
  {
   "cell_type": "markdown",
   "id": "b7977f30",
   "metadata": {},
   "source": [
    "nombre_infected       824\n",
    "nombre_sain          2097\n",
    "nombre_exposed        471\n",
    "nombre_recovered    16608\n",
    "Name: 429, dtype: int64"
   ]
  },
  {
   "cell_type": "markdown",
   "id": "ce3264c4",
   "metadata": {},
   "source": [
    "nombre_infected       827\n",
    "nombre_sain          2113\n",
    "nombre_exposed        459\n",
    "nombre_recovered    16601\n",
    "Name: 430, dtype: int64"
   ]
  },
  {
   "cell_type": "markdown",
   "id": "3422fbf5",
   "metadata": {},
   "source": [
    "nombre_infected       818\n",
    "nombre_sain          2134\n",
    "nombre_exposed        450\n",
    "nombre_recovered    16598\n",
    "Name: 431, dtype: int64"
   ]
  },
  {
   "cell_type": "markdown",
   "id": "1960e165",
   "metadata": {},
   "source": [
    "nombre_infected       828\n",
    "nombre_sain          2154\n",
    "nombre_exposed        443\n",
    "nombre_recovered    16575\n",
    "Name: 432, dtype: int64"
   ]
  },
  {
   "cell_type": "markdown",
   "id": "7897ca19",
   "metadata": {},
   "source": [
    "nombre_infected       817\n",
    "nombre_sain          2172\n",
    "nombre_exposed        451\n",
    "nombre_recovered    16560\n",
    "Name: 433, dtype: int64"
   ]
  },
  {
   "cell_type": "markdown",
   "id": "6e405118",
   "metadata": {},
   "source": [
    "nombre_infected       808\n",
    "nombre_sain          2160\n",
    "nombre_exposed        467\n",
    "nombre_recovered    16565\n",
    "Name: 434, dtype: int64"
   ]
  },
  {
   "cell_type": "markdown",
   "id": "1242401e",
   "metadata": {},
   "source": [
    "nombre_infected       804\n",
    "nombre_sain          2188\n",
    "nombre_exposed        457\n",
    "nombre_recovered    16551\n",
    "Name: 435, dtype: int64"
   ]
  },
  {
   "cell_type": "markdown",
   "id": "a83367c0",
   "metadata": {},
   "source": [
    "nombre_infected       829\n",
    "nombre_sain          2190\n",
    "nombre_exposed        449\n",
    "nombre_recovered    16532\n",
    "Name: 436, dtype: int64"
   ]
  },
  {
   "cell_type": "markdown",
   "id": "c3563f76",
   "metadata": {},
   "source": [
    "nombre_infected       807\n",
    "nombre_sain          2205\n",
    "nombre_exposed        460\n",
    "nombre_recovered    16528\n",
    "Name: 437, dtype: int64"
   ]
  },
  {
   "cell_type": "markdown",
   "id": "f744ef4a",
   "metadata": {},
   "source": [
    "nombre_infected       793\n",
    "nombre_sain          2199\n",
    "nombre_exposed        476\n",
    "nombre_recovered    16532\n",
    "Name: 438, dtype: int64"
   ]
  },
  {
   "cell_type": "markdown",
   "id": "14773fda",
   "metadata": {},
   "source": [
    "nombre_infected       771\n",
    "nombre_sain          2213\n",
    "nombre_exposed        481\n",
    "nombre_recovered    16535\n",
    "Name: 439, dtype: int64"
   ]
  },
  {
   "cell_type": "markdown",
   "id": "895fe4f9",
   "metadata": {},
   "source": [
    "nombre_infected       758\n",
    "nombre_sain          2207\n",
    "nombre_exposed        493\n",
    "nombre_recovered    16542\n",
    "Name: 440, dtype: int64"
   ]
  },
  {
   "cell_type": "markdown",
   "id": "8cb789ea",
   "metadata": {},
   "source": [
    "nombre_infected       782\n",
    "nombre_sain          2228\n",
    "nombre_exposed        484\n",
    "nombre_recovered    16506\n",
    "Name: 441, dtype: int64"
   ]
  },
  {
   "cell_type": "markdown",
   "id": "d53a8932",
   "metadata": {},
   "source": [
    "nombre_infected       798\n",
    "nombre_sain          2267\n",
    "nombre_exposed        475\n",
    "nombre_recovered    16460\n",
    "Name: 442, dtype: int64"
   ]
  },
  {
   "cell_type": "markdown",
   "id": "dd91d0e0",
   "metadata": {},
   "source": [
    "nombre_infected       803\n",
    "nombre_sain          2281\n",
    "nombre_exposed        487\n",
    "nombre_recovered    16429\n",
    "Name: 443, dtype: int64"
   ]
  },
  {
   "cell_type": "markdown",
   "id": "72fdbb7a",
   "metadata": {},
   "source": [
    "nombre_infected       796\n",
    "nombre_sain          2286\n",
    "nombre_exposed        509\n",
    "nombre_recovered    16409\n",
    "Name: 444, dtype: int64"
   ]
  },
  {
   "cell_type": "markdown",
   "id": "aaa51360",
   "metadata": {},
   "source": [
    "nombre_infected       795\n",
    "nombre_sain          2307\n",
    "nombre_exposed        524\n",
    "nombre_recovered    16374\n",
    "Name: 445, dtype: int64"
   ]
  },
  {
   "cell_type": "markdown",
   "id": "23cb9c91",
   "metadata": {},
   "source": [
    "nombre_infected       807\n",
    "nombre_sain          2323\n",
    "nombre_exposed        498\n",
    "nombre_recovered    16372\n",
    "Name: 446, dtype: int64"
   ]
  },
  {
   "cell_type": "markdown",
   "id": "70cc3810",
   "metadata": {},
   "source": [
    "nombre_infected       822\n",
    "nombre_sain          2335\n",
    "nombre_exposed        486\n",
    "nombre_recovered    16357\n",
    "Name: 447, dtype: int64"
   ]
  },
  {
   "cell_type": "markdown",
   "id": "945423fc",
   "metadata": {},
   "source": [
    "nombre_infected       832\n",
    "nombre_sain          2327\n",
    "nombre_exposed        489\n",
    "nombre_recovered    16352\n",
    "Name: 448, dtype: int64"
   ]
  },
  {
   "cell_type": "markdown",
   "id": "58378657",
   "metadata": {},
   "source": [
    "nombre_infected       792\n",
    "nombre_sain          2286\n",
    "nombre_exposed        531\n",
    "nombre_recovered    16391\n",
    "Name: 449, dtype: int64"
   ]
  },
  {
   "cell_type": "markdown",
   "id": "86bb756a",
   "metadata": {},
   "source": [
    "nombre_infected       806\n",
    "nombre_sain          2287\n",
    "nombre_exposed        517\n",
    "nombre_recovered    16390\n",
    "Name: 450, dtype: int64"
   ]
  },
  {
   "cell_type": "markdown",
   "id": "35533d4b",
   "metadata": {},
   "source": [
    "nombre_infected       805\n",
    "nombre_sain          2328\n",
    "nombre_exposed        496\n",
    "nombre_recovered    16371\n",
    "Name: 451, dtype: int64"
   ]
  },
  {
   "cell_type": "markdown",
   "id": "ddf0e997",
   "metadata": {},
   "source": [
    "nombre_infected       804\n",
    "nombre_sain          2298\n",
    "nombre_exposed        489\n",
    "nombre_recovered    16409\n",
    "Name: 452, dtype: int64"
   ]
  },
  {
   "cell_type": "markdown",
   "id": "b7887e6f",
   "metadata": {},
   "source": [
    "nombre_infected       771\n",
    "nombre_sain          2312\n",
    "nombre_exposed        506\n",
    "nombre_recovered    16411\n",
    "Name: 453, dtype: int64"
   ]
  },
  {
   "cell_type": "markdown",
   "id": "ab291567",
   "metadata": {},
   "source": [
    "nombre_infected       779\n",
    "nombre_sain          2297\n",
    "nombre_exposed        503\n",
    "nombre_recovered    16421\n",
    "Name: 454, dtype: int64"
   ]
  },
  {
   "cell_type": "markdown",
   "id": "2ee67a55",
   "metadata": {},
   "source": [
    "nombre_infected       794\n",
    "nombre_sain          2278\n",
    "nombre_exposed        499\n",
    "nombre_recovered    16429\n",
    "Name: 455, dtype: int64"
   ]
  },
  {
   "cell_type": "markdown",
   "id": "c74330bc",
   "metadata": {},
   "source": [
    "nombre_infected       805\n",
    "nombre_sain          2272\n",
    "nombre_exposed        501\n",
    "nombre_recovered    16422\n",
    "Name: 456, dtype: int64"
   ]
  },
  {
   "cell_type": "markdown",
   "id": "242a7760",
   "metadata": {},
   "source": [
    "nombre_infected       824\n",
    "nombre_sain          2277\n",
    "nombre_exposed        482\n",
    "nombre_recovered    16417\n",
    "Name: 457, dtype: int64"
   ]
  },
  {
   "cell_type": "markdown",
   "id": "a58f8188",
   "metadata": {},
   "source": [
    "nombre_infected       812\n",
    "nombre_sain          2274\n",
    "nombre_exposed        497\n",
    "nombre_recovered    16417\n",
    "Name: 458, dtype: int64"
   ]
  },
  {
   "cell_type": "markdown",
   "id": "f3fa72fb",
   "metadata": {},
   "source": [
    "nombre_infected       798\n",
    "nombre_sain          2278\n",
    "nombre_exposed        500\n",
    "nombre_recovered    16424\n",
    "Name: 459, dtype: int64"
   ]
  },
  {
   "cell_type": "markdown",
   "id": "3474d9da",
   "metadata": {},
   "source": [
    "nombre_infected       800\n",
    "nombre_sain          2285\n",
    "nombre_exposed        491\n",
    "nombre_recovered    16424\n",
    "Name: 460, dtype: int64"
   ]
  },
  {
   "cell_type": "markdown",
   "id": "5bebd1ea",
   "metadata": {},
   "source": [
    "nombre_infected       813\n",
    "nombre_sain          2285\n",
    "nombre_exposed        489\n",
    "nombre_recovered    16413\n",
    "Name: 461, dtype: int64"
   ]
  },
  {
   "cell_type": "markdown",
   "id": "6dcb4f43",
   "metadata": {},
   "source": [
    "nombre_infected       808\n",
    "nombre_sain          2301\n",
    "nombre_exposed        489\n",
    "nombre_recovered    16402\n",
    "Name: 462, dtype: int64"
   ]
  },
  {
   "cell_type": "markdown",
   "id": "3f6f6eb2",
   "metadata": {},
   "source": [
    "nombre_infected       771\n",
    "nombre_sain          2313\n",
    "nombre_exposed        496\n",
    "nombre_recovered    16420\n",
    "Name: 463, dtype: int64"
   ]
  },
  {
   "cell_type": "markdown",
   "id": "e8fdbbd9",
   "metadata": {},
   "source": [
    "nombre_infected       793\n",
    "nombre_sain          2322\n",
    "nombre_exposed        493\n",
    "nombre_recovered    16392\n",
    "Name: 464, dtype: int64"
   ]
  },
  {
   "cell_type": "markdown",
   "id": "e735c209",
   "metadata": {},
   "source": [
    "nombre_infected       793\n",
    "nombre_sain          2328\n",
    "nombre_exposed        500\n",
    "nombre_recovered    16379\n",
    "Name: 465, dtype: int64"
   ]
  },
  {
   "cell_type": "markdown",
   "id": "b54f33c8",
   "metadata": {},
   "source": [
    "nombre_infected       775\n",
    "nombre_sain          2354\n",
    "nombre_exposed        511\n",
    "nombre_recovered    16360\n",
    "Name: 466, dtype: int64"
   ]
  },
  {
   "cell_type": "markdown",
   "id": "776ef0f2",
   "metadata": {},
   "source": [
    "nombre_infected       790\n",
    "nombre_sain          2382\n",
    "nombre_exposed        492\n",
    "nombre_recovered    16336\n",
    "Name: 467, dtype: int64"
   ]
  },
  {
   "cell_type": "markdown",
   "id": "ab954fc2",
   "metadata": {},
   "source": [
    "nombre_infected       789\n",
    "nombre_sain          2386\n",
    "nombre_exposed        499\n",
    "nombre_recovered    16326\n",
    "Name: 468, dtype: int64"
   ]
  },
  {
   "cell_type": "markdown",
   "id": "86c566b8",
   "metadata": {},
   "source": [
    "nombre_infected       777\n",
    "nombre_sain          2378\n",
    "nombre_exposed        513\n",
    "nombre_recovered    16332\n",
    "Name: 469, dtype: int64"
   ]
  },
  {
   "cell_type": "markdown",
   "id": "2a365601",
   "metadata": {},
   "source": [
    "nombre_infected       774\n",
    "nombre_sain          2399\n",
    "nombre_exposed        503\n",
    "nombre_recovered    16324\n",
    "Name: 470, dtype: int64"
   ]
  },
  {
   "cell_type": "markdown",
   "id": "606e605d",
   "metadata": {},
   "source": [
    "nombre_infected       772\n",
    "nombre_sain          2379\n",
    "nombre_exposed        503\n",
    "nombre_recovered    16346\n",
    "Name: 471, dtype: int64"
   ]
  },
  {
   "cell_type": "markdown",
   "id": "41636c19",
   "metadata": {},
   "source": [
    "nombre_infected       794\n",
    "nombre_sain          2389\n",
    "nombre_exposed        492\n",
    "nombre_recovered    16325\n",
    "Name: 472, dtype: int64"
   ]
  },
  {
   "cell_type": "markdown",
   "id": "6aa85060",
   "metadata": {},
   "source": [
    "nombre_infected       804\n",
    "nombre_sain          2409\n",
    "nombre_exposed        492\n",
    "nombre_recovered    16295\n",
    "Name: 473, dtype: int64"
   ]
  },
  {
   "cell_type": "markdown",
   "id": "c82d95e1",
   "metadata": {},
   "source": [
    "nombre_infected       827\n",
    "nombre_sain          2419\n",
    "nombre_exposed        499\n",
    "nombre_recovered    16255\n",
    "Name: 474, dtype: int64"
   ]
  },
  {
   "cell_type": "markdown",
   "id": "c84981e7",
   "metadata": {},
   "source": [
    "nombre_infected       823\n",
    "nombre_sain          2388\n",
    "nombre_exposed        535\n",
    "nombre_recovered    16254\n",
    "Name: 475, dtype: int64"
   ]
  },
  {
   "cell_type": "markdown",
   "id": "16f888f1",
   "metadata": {},
   "source": [
    "nombre_infected       826\n",
    "nombre_sain          2395\n",
    "nombre_exposed        540\n",
    "nombre_recovered    16239\n",
    "Name: 476, dtype: int64"
   ]
  },
  {
   "cell_type": "markdown",
   "id": "4720fd31",
   "metadata": {},
   "source": [
    "nombre_infected       820\n",
    "nombre_sain          2397\n",
    "nombre_exposed        533\n",
    "nombre_recovered    16250\n",
    "Name: 477, dtype: int64"
   ]
  },
  {
   "cell_type": "markdown",
   "id": "08b67637",
   "metadata": {},
   "source": [
    "nombre_infected       838\n",
    "nombre_sain          2407\n",
    "nombre_exposed        505\n",
    "nombre_recovered    16250\n",
    "Name: 478, dtype: int64"
   ]
  },
  {
   "cell_type": "markdown",
   "id": "c21e1ecc",
   "metadata": {},
   "source": [
    "nombre_infected       830\n",
    "nombre_sain          2414\n",
    "nombre_exposed        510\n",
    "nombre_recovered    16246\n",
    "Name: 479, dtype: int64"
   ]
  },
  {
   "cell_type": "markdown",
   "id": "74fe14bd",
   "metadata": {},
   "source": [
    "nombre_infected       842\n",
    "nombre_sain          2398\n",
    "nombre_exposed        536\n",
    "nombre_recovered    16224\n",
    "Name: 480, dtype: int64"
   ]
  },
  {
   "cell_type": "markdown",
   "id": "955f1ef0",
   "metadata": {},
   "source": [
    "nombre_infected       839\n",
    "nombre_sain          2352\n",
    "nombre_exposed        579\n",
    "nombre_recovered    16230\n",
    "Name: 481, dtype: int64"
   ]
  },
  {
   "cell_type": "markdown",
   "id": "7204e974",
   "metadata": {},
   "source": [
    "nombre_infected       830\n",
    "nombre_sain          2356\n",
    "nombre_exposed        601\n",
    "nombre_recovered    16213\n",
    "Name: 482, dtype: int64"
   ]
  },
  {
   "cell_type": "markdown",
   "id": "14dcdc9b",
   "metadata": {},
   "source": [
    "nombre_infected       864\n",
    "nombre_sain          2362\n",
    "nombre_exposed        568\n",
    "nombre_recovered    16206\n",
    "Name: 483, dtype: int64"
   ]
  },
  {
   "cell_type": "markdown",
   "id": "aa5764fe",
   "metadata": {},
   "source": [
    "nombre_infected       884\n",
    "nombre_sain          2355\n",
    "nombre_exposed        568\n",
    "nombre_recovered    16193\n",
    "Name: 484, dtype: int64"
   ]
  },
  {
   "cell_type": "markdown",
   "id": "c9666c09",
   "metadata": {},
   "source": [
    "nombre_infected       872\n",
    "nombre_sain          2337\n",
    "nombre_exposed        565\n",
    "nombre_recovered    16226\n",
    "Name: 485, dtype: int64"
   ]
  },
  {
   "cell_type": "markdown",
   "id": "81ea6049",
   "metadata": {},
   "source": [
    "nombre_infected       881\n",
    "nombre_sain          2298\n",
    "nombre_exposed        569\n",
    "nombre_recovered    16252\n",
    "Name: 486, dtype: int64"
   ]
  },
  {
   "cell_type": "markdown",
   "id": "c2e3ba84",
   "metadata": {},
   "source": [
    "nombre_infected       898\n",
    "nombre_sain          2282\n",
    "nombre_exposed        561\n",
    "nombre_recovered    16259\n",
    "Name: 487, dtype: int64"
   ]
  },
  {
   "cell_type": "markdown",
   "id": "c2a39f8e",
   "metadata": {},
   "source": [
    "nombre_infected       913\n",
    "nombre_sain          2285\n",
    "nombre_exposed        547\n",
    "nombre_recovered    16255\n",
    "Name: 488, dtype: int64"
   ]
  },
  {
   "cell_type": "markdown",
   "id": "c8181e14",
   "metadata": {},
   "source": [
    "nombre_infected       908\n",
    "nombre_sain          2254\n",
    "nombre_exposed        559\n",
    "nombre_recovered    16279\n",
    "Name: 489, dtype: int64"
   ]
  },
  {
   "cell_type": "markdown",
   "id": "98346bd1",
   "metadata": {},
   "source": [
    "nombre_infected       939\n",
    "nombre_sain          2228\n",
    "nombre_exposed        543\n",
    "nombre_recovered    16290\n",
    "Name: 490, dtype: int64"
   ]
  },
  {
   "cell_type": "markdown",
   "id": "24b6493a",
   "metadata": {},
   "source": [
    "nombre_infected       935\n",
    "nombre_sain          2208\n",
    "nombre_exposed        522\n",
    "nombre_recovered    16335\n",
    "Name: 491, dtype: int64"
   ]
  },
  {
   "cell_type": "markdown",
   "id": "8745038d",
   "metadata": {},
   "source": [
    "nombre_infected       922\n",
    "nombre_sain          2202\n",
    "nombre_exposed        524\n",
    "nombre_recovered    16352\n",
    "Name: 492, dtype: int64"
   ]
  },
  {
   "cell_type": "markdown",
   "id": "b3820dd4",
   "metadata": {},
   "source": [
    "nombre_infected       935\n",
    "nombre_sain          2197\n",
    "nombre_exposed        510\n",
    "nombre_recovered    16358\n",
    "Name: 493, dtype: int64"
   ]
  },
  {
   "cell_type": "markdown",
   "id": "97e65da9",
   "metadata": {},
   "source": [
    "nombre_infected       930\n",
    "nombre_sain          2172\n",
    "nombre_exposed        499\n",
    "nombre_recovered    16399\n",
    "Name: 494, dtype: int64"
   ]
  },
  {
   "cell_type": "markdown",
   "id": "6280a870",
   "metadata": {},
   "source": [
    "nombre_infected       912\n",
    "nombre_sain          2195\n",
    "nombre_exposed        512\n",
    "nombre_recovered    16381\n",
    "Name: 495, dtype: int64"
   ]
  },
  {
   "cell_type": "markdown",
   "id": "4f4a23bd",
   "metadata": {},
   "source": [
    "nombre_infected       877\n",
    "nombre_sain          2195\n",
    "nombre_exposed        521\n",
    "nombre_recovered    16407\n",
    "Name: 496, dtype: int64"
   ]
  },
  {
   "cell_type": "markdown",
   "id": "e2dbf4d9",
   "metadata": {},
   "source": [
    "nombre_infected       872\n",
    "nombre_sain          2200\n",
    "nombre_exposed        505\n",
    "nombre_recovered    16423\n",
    "Name: 497, dtype: int64"
   ]
  },
  {
   "cell_type": "markdown",
   "id": "9cc8ed27",
   "metadata": {},
   "source": [
    "nombre_infected       849\n",
    "nombre_sain          2193\n",
    "nombre_exposed        509\n",
    "nombre_recovered    16449\n",
    "Name: 498, dtype: int64"
   ]
  },
  {
   "cell_type": "markdown",
   "id": "8240ad46",
   "metadata": {},
   "source": [
    "nombre_infected       849\n",
    "nombre_sain          2222\n",
    "nombre_exposed        496\n",
    "nombre_recovered    16433\n",
    "Name: 499, dtype: int64"
   ]
  },
  {
   "cell_type": "markdown",
   "id": "621c89d2",
   "metadata": {},
   "source": [
    "nombre_infected       844\n",
    "nombre_sain          2226\n",
    "nombre_exposed        473\n",
    "nombre_recovered    16457\n",
    "Name: 500, dtype: int64"
   ]
  },
  {
   "cell_type": "markdown",
   "id": "c49bb46c",
   "metadata": {},
   "source": [
    "nombre_infected       835\n",
    "nombre_sain          2243\n",
    "nombre_exposed        458\n",
    "nombre_recovered    16464\n",
    "Name: 501, dtype: int64"
   ]
  },
  {
   "cell_type": "markdown",
   "id": "acfd9627",
   "metadata": {},
   "source": [
    "nombre_infected       834\n",
    "nombre_sain          2257\n",
    "nombre_exposed        452\n",
    "nombre_recovered    16457\n",
    "Name: 502, dtype: int64"
   ]
  },
  {
   "cell_type": "markdown",
   "id": "4fb13f82",
   "metadata": {},
   "source": [
    "nombre_infected       815\n",
    "nombre_sain          2251\n",
    "nombre_exposed        466\n",
    "nombre_recovered    16468\n",
    "Name: 503, dtype: int64"
   ]
  },
  {
   "cell_type": "markdown",
   "id": "54ea5d3d",
   "metadata": {},
   "source": [
    "nombre_infected       815\n",
    "nombre_sain          2261\n",
    "nombre_exposed        458\n",
    "nombre_recovered    16466\n",
    "Name: 504, dtype: int64"
   ]
  },
  {
   "cell_type": "markdown",
   "id": "d11c4f23",
   "metadata": {},
   "source": [
    "nombre_infected       818\n",
    "nombre_sain          2277\n",
    "nombre_exposed        453\n",
    "nombre_recovered    16452\n",
    "Name: 505, dtype: int64"
   ]
  },
  {
   "cell_type": "markdown",
   "id": "e9a8093d",
   "metadata": {},
   "source": [
    "nombre_infected       805\n",
    "nombre_sain          2272\n",
    "nombre_exposed        454\n",
    "nombre_recovered    16469\n",
    "Name: 506, dtype: int64"
   ]
  },
  {
   "cell_type": "markdown",
   "id": "1e73e6b6",
   "metadata": {},
   "source": [
    "nombre_infected       795\n",
    "nombre_sain          2257\n",
    "nombre_exposed        468\n",
    "nombre_recovered    16480\n",
    "Name: 507, dtype: int64"
   ]
  },
  {
   "cell_type": "markdown",
   "id": "41d07cf2",
   "metadata": {},
   "source": [
    "nombre_infected       762\n",
    "nombre_sain          2247\n",
    "nombre_exposed        499\n",
    "nombre_recovered    16492\n",
    "Name: 508, dtype: int64"
   ]
  },
  {
   "cell_type": "markdown",
   "id": "8b13ac86",
   "metadata": {},
   "source": [
    "nombre_infected       759\n",
    "nombre_sain          2237\n",
    "nombre_exposed        505\n",
    "nombre_recovered    16499\n",
    "Name: 509, dtype: int64"
   ]
  },
  {
   "cell_type": "markdown",
   "id": "be6c458e",
   "metadata": {},
   "source": [
    "nombre_infected       768\n",
    "nombre_sain          2222\n",
    "nombre_exposed        501\n",
    "nombre_recovered    16509\n",
    "Name: 510, dtype: int64"
   ]
  },
  {
   "cell_type": "markdown",
   "id": "350b07e3",
   "metadata": {},
   "source": [
    "nombre_infected       773\n",
    "nombre_sain          2202\n",
    "nombre_exposed        493\n",
    "nombre_recovered    16532\n",
    "Name: 511, dtype: int64"
   ]
  },
  {
   "cell_type": "markdown",
   "id": "21fbd560",
   "metadata": {},
   "source": [
    "nombre_infected       771\n",
    "nombre_sain          2175\n",
    "nombre_exposed        502\n",
    "nombre_recovered    16552\n",
    "Name: 512, dtype: int64"
   ]
  },
  {
   "cell_type": "markdown",
   "id": "03d00ab4",
   "metadata": {},
   "source": [
    "nombre_infected       785\n",
    "nombre_sain          2162\n",
    "nombre_exposed        484\n",
    "nombre_recovered    16569\n",
    "Name: 513, dtype: int64"
   ]
  },
  {
   "cell_type": "markdown",
   "id": "8f62d695",
   "metadata": {},
   "source": [
    "nombre_infected       798\n",
    "nombre_sain          2142\n",
    "nombre_exposed        479\n",
    "nombre_recovered    16581\n",
    "Name: 514, dtype: int64"
   ]
  },
  {
   "cell_type": "markdown",
   "id": "eb04ec6e",
   "metadata": {},
   "source": [
    "nombre_infected       777\n",
    "nombre_sain          2142\n",
    "nombre_exposed        463\n",
    "nombre_recovered    16618\n",
    "Name: 515, dtype: int64"
   ]
  },
  {
   "cell_type": "markdown",
   "id": "142aa0db",
   "metadata": {},
   "source": [
    "nombre_infected       802\n",
    "nombre_sain          2138\n",
    "nombre_exposed        447\n",
    "nombre_recovered    16613\n",
    "Name: 516, dtype: int64"
   ]
  },
  {
   "cell_type": "markdown",
   "id": "5cd1de48",
   "metadata": {},
   "source": [
    "nombre_infected       783\n",
    "nombre_sain          2116\n",
    "nombre_exposed        460\n",
    "nombre_recovered    16641\n",
    "Name: 517, dtype: int64"
   ]
  },
  {
   "cell_type": "markdown",
   "id": "e3f05fc5",
   "metadata": {},
   "source": [
    "nombre_infected       769\n",
    "nombre_sain          2104\n",
    "nombre_exposed        464\n",
    "nombre_recovered    16663\n",
    "Name: 518, dtype: int64"
   ]
  },
  {
   "cell_type": "markdown",
   "id": "c4002f63",
   "metadata": {},
   "source": [
    "nombre_infected       759\n",
    "nombre_sain          2115\n",
    "nombre_exposed        455\n",
    "nombre_recovered    16671\n",
    "Name: 519, dtype: int64"
   ]
  },
  {
   "cell_type": "markdown",
   "id": "e2188658",
   "metadata": {},
   "source": [
    "nombre_infected       761\n",
    "nombre_sain          2123\n",
    "nombre_exposed        431\n",
    "nombre_recovered    16685\n",
    "Name: 520, dtype: int64"
   ]
  },
  {
   "cell_type": "markdown",
   "id": "818f897f",
   "metadata": {},
   "source": [
    "nombre_infected       775\n",
    "nombre_sain          2129\n",
    "nombre_exposed        396\n",
    "nombre_recovered    16700\n",
    "Name: 521, dtype: int64"
   ]
  },
  {
   "cell_type": "markdown",
   "id": "e8c0b4ea",
   "metadata": {},
   "source": [
    "nombre_infected       761\n",
    "nombre_sain          2149\n",
    "nombre_exposed        393\n",
    "nombre_recovered    16697\n",
    "Name: 522, dtype: int64"
   ]
  },
  {
   "cell_type": "markdown",
   "id": "914c68af",
   "metadata": {},
   "source": [
    "nombre_infected       735\n",
    "nombre_sain          2194\n",
    "nombre_exposed        402\n",
    "nombre_recovered    16669\n",
    "Name: 523, dtype: int64"
   ]
  },
  {
   "cell_type": "markdown",
   "id": "5c7c4683",
   "metadata": {},
   "source": [
    "nombre_infected       738\n",
    "nombre_sain          2233\n",
    "nombre_exposed        401\n",
    "nombre_recovered    16628\n",
    "Name: 524, dtype: int64"
   ]
  },
  {
   "cell_type": "markdown",
   "id": "7393ee73",
   "metadata": {},
   "source": [
    "nombre_infected       732\n",
    "nombre_sain          2240\n",
    "nombre_exposed        396\n",
    "nombre_recovered    16632\n",
    "Name: 525, dtype: int64"
   ]
  },
  {
   "cell_type": "markdown",
   "id": "1810c316",
   "metadata": {},
   "source": [
    "nombre_infected       727\n",
    "nombre_sain          2255\n",
    "nombre_exposed        410\n",
    "nombre_recovered    16608\n",
    "Name: 526, dtype: int64"
   ]
  },
  {
   "cell_type": "markdown",
   "id": "711b206c",
   "metadata": {},
   "source": [
    "nombre_infected       738\n",
    "nombre_sain          2276\n",
    "nombre_exposed        407\n",
    "nombre_recovered    16579\n",
    "Name: 527, dtype: int64"
   ]
  },
  {
   "cell_type": "markdown",
   "id": "71c6a504",
   "metadata": {},
   "source": [
    "nombre_infected       744\n",
    "nombre_sain          2297\n",
    "nombre_exposed        411\n",
    "nombre_recovered    16548\n",
    "Name: 528, dtype: int64"
   ]
  },
  {
   "cell_type": "markdown",
   "id": "d7b16c90",
   "metadata": {},
   "source": [
    "nombre_infected       757\n",
    "nombre_sain          2293\n",
    "nombre_exposed        410\n",
    "nombre_recovered    16540\n",
    "Name: 529, dtype: int64"
   ]
  },
  {
   "cell_type": "markdown",
   "id": "77021170",
   "metadata": {},
   "source": [
    "nombre_infected       766\n",
    "nombre_sain          2327\n",
    "nombre_exposed        418\n",
    "nombre_recovered    16489\n",
    "Name: 530, dtype: int64"
   ]
  },
  {
   "cell_type": "markdown",
   "id": "4a2b1e0f",
   "metadata": {},
   "source": [
    "nombre_infected       749\n",
    "nombre_sain          2353\n",
    "nombre_exposed        414\n",
    "nombre_recovered    16484\n",
    "Name: 531, dtype: int64"
   ]
  },
  {
   "cell_type": "markdown",
   "id": "f1f474ff",
   "metadata": {},
   "source": [
    "nombre_infected       766\n",
    "nombre_sain          2414\n",
    "nombre_exposed        391\n",
    "nombre_recovered    16429\n",
    "Name: 532, dtype: int64"
   ]
  },
  {
   "cell_type": "markdown",
   "id": "c50acf45",
   "metadata": {},
   "source": [
    "nombre_infected       769\n",
    "nombre_sain          2430\n",
    "nombre_exposed        411\n",
    "nombre_recovered    16390\n",
    "Name: 533, dtype: int64"
   ]
  },
  {
   "cell_type": "markdown",
   "id": "e9bc7c3f",
   "metadata": {},
   "source": [
    "nombre_infected       779\n",
    "nombre_sain          2442\n",
    "nombre_exposed        427\n",
    "nombre_recovered    16352\n",
    "Name: 534, dtype: int64"
   ]
  },
  {
   "cell_type": "markdown",
   "id": "d384e315",
   "metadata": {},
   "source": [
    "nombre_infected       781\n",
    "nombre_sain          2448\n",
    "nombre_exposed        451\n",
    "nombre_recovered    16320\n",
    "Name: 535, dtype: int64"
   ]
  },
  {
   "cell_type": "markdown",
   "id": "c825e07a",
   "metadata": {},
   "source": [
    "nombre_infected       780\n",
    "nombre_sain          2463\n",
    "nombre_exposed        463\n",
    "nombre_recovered    16294\n",
    "Name: 536, dtype: int64"
   ]
  },
  {
   "cell_type": "markdown",
   "id": "7008e70a",
   "metadata": {},
   "source": [
    "nombre_infected       789\n",
    "nombre_sain          2474\n",
    "nombre_exposed        474\n",
    "nombre_recovered    16263\n",
    "Name: 537, dtype: int64"
   ]
  },
  {
   "cell_type": "markdown",
   "id": "593829a4",
   "metadata": {},
   "source": [
    "nombre_infected       801\n",
    "nombre_sain          2464\n",
    "nombre_exposed        468\n",
    "nombre_recovered    16267\n",
    "Name: 538, dtype: int64"
   ]
  },
  {
   "cell_type": "markdown",
   "id": "985830e7",
   "metadata": {},
   "source": [
    "nombre_infected       807\n",
    "nombre_sain          2469\n",
    "nombre_exposed        466\n",
    "nombre_recovered    16258\n",
    "Name: 539, dtype: int64"
   ]
  },
  {
   "cell_type": "markdown",
   "id": "56b6f99b",
   "metadata": {},
   "source": [
    "nombre_infected       823\n",
    "nombre_sain          2445\n",
    "nombre_exposed        488\n",
    "nombre_recovered    16244\n",
    "Name: 540, dtype: int64"
   ]
  },
  {
   "cell_type": "markdown",
   "id": "da5ce037",
   "metadata": {},
   "source": [
    "nombre_infected       825\n",
    "nombre_sain          2430\n",
    "nombre_exposed        511\n",
    "nombre_recovered    16234\n",
    "Name: 541, dtype: int64"
   ]
  },
  {
   "cell_type": "markdown",
   "id": "f309cbbc",
   "metadata": {},
   "source": [
    "nombre_infected       815\n",
    "nombre_sain          2452\n",
    "nombre_exposed        540\n",
    "nombre_recovered    16193\n",
    "Name: 542, dtype: int64"
   ]
  },
  {
   "cell_type": "markdown",
   "id": "40d2e031",
   "metadata": {},
   "source": [
    "nombre_infected       818\n",
    "nombre_sain          2449\n",
    "nombre_exposed        540\n",
    "nombre_recovered    16193\n",
    "Name: 543, dtype: int64"
   ]
  },
  {
   "cell_type": "markdown",
   "id": "8bda426a",
   "metadata": {},
   "source": [
    "nombre_infected       839\n",
    "nombre_sain          2433\n",
    "nombre_exposed        542\n",
    "nombre_recovered    16186\n",
    "Name: 544, dtype: int64"
   ]
  },
  {
   "cell_type": "markdown",
   "id": "b7e912d3",
   "metadata": {},
   "source": [
    "nombre_infected       860\n",
    "nombre_sain          2415\n",
    "nombre_exposed        552\n",
    "nombre_recovered    16173\n",
    "Name: 545, dtype: int64"
   ]
  },
  {
   "cell_type": "markdown",
   "id": "c11ae509",
   "metadata": {},
   "source": [
    "nombre_infected       866\n",
    "nombre_sain          2411\n",
    "nombre_exposed        554\n",
    "nombre_recovered    16169\n",
    "Name: 546, dtype: int64"
   ]
  },
  {
   "cell_type": "markdown",
   "id": "d482d7d0",
   "metadata": {},
   "source": [
    "nombre_infected       886\n",
    "nombre_sain          2385\n",
    "nombre_exposed        538\n",
    "nombre_recovered    16191\n",
    "Name: 547, dtype: int64"
   ]
  },
  {
   "cell_type": "markdown",
   "id": "778c51cc",
   "metadata": {},
   "source": [
    "nombre_infected       866\n",
    "nombre_sain          2381\n",
    "nombre_exposed        551\n",
    "nombre_recovered    16202\n",
    "Name: 548, dtype: int64"
   ]
  },
  {
   "cell_type": "markdown",
   "id": "f6b4a74e",
   "metadata": {},
   "source": [
    "nombre_infected       884\n",
    "nombre_sain          2335\n",
    "nombre_exposed        563\n",
    "nombre_recovered    16218\n",
    "Name: 549, dtype: int64"
   ]
  },
  {
   "cell_type": "markdown",
   "id": "4d74dc60",
   "metadata": {},
   "source": [
    "nombre_infected       905\n",
    "nombre_sain          2305\n",
    "nombre_exposed        578\n",
    "nombre_recovered    16212\n",
    "Name: 550, dtype: int64"
   ]
  },
  {
   "cell_type": "markdown",
   "id": "a4dc2e00",
   "metadata": {},
   "source": [
    "nombre_infected       912\n",
    "nombre_sain          2305\n",
    "nombre_exposed        555\n",
    "nombre_recovered    16228\n",
    "Name: 551, dtype: int64"
   ]
  },
  {
   "cell_type": "markdown",
   "id": "0b32a7f5",
   "metadata": {},
   "source": [
    "nombre_infected       886\n",
    "nombre_sain          2270\n",
    "nombre_exposed        569\n",
    "nombre_recovered    16275\n",
    "Name: 552, dtype: int64"
   ]
  },
  {
   "cell_type": "markdown",
   "id": "f02ca366",
   "metadata": {},
   "source": [
    "nombre_infected       898\n",
    "nombre_sain          2273\n",
    "nombre_exposed        558\n",
    "nombre_recovered    16271\n",
    "Name: 553, dtype: int64"
   ]
  },
  {
   "cell_type": "markdown",
   "id": "9646fb0c",
   "metadata": {},
   "source": [
    "nombre_infected       900\n",
    "nombre_sain          2231\n",
    "nombre_exposed        580\n",
    "nombre_recovered    16289\n",
    "Name: 554, dtype: int64"
   ]
  },
  {
   "cell_type": "markdown",
   "id": "b6acba4f",
   "metadata": {},
   "source": [
    "nombre_infected       919\n",
    "nombre_sain          2218\n",
    "nombre_exposed        582\n",
    "nombre_recovered    16281\n",
    "Name: 555, dtype: int64"
   ]
  },
  {
   "cell_type": "markdown",
   "id": "e221567b",
   "metadata": {},
   "source": [
    "nombre_infected       927\n",
    "nombre_sain          2224\n",
    "nombre_exposed        556\n",
    "nombre_recovered    16293\n",
    "Name: 556, dtype: int64"
   ]
  },
  {
   "cell_type": "markdown",
   "id": "7fb5de98",
   "metadata": {},
   "source": [
    "nombre_infected       944\n",
    "nombre_sain          2206\n",
    "nombre_exposed        554\n",
    "nombre_recovered    16296\n",
    "Name: 557, dtype: int64"
   ]
  },
  {
   "cell_type": "markdown",
   "id": "e3a587cf",
   "metadata": {},
   "source": [
    "nombre_infected       929\n",
    "nombre_sain          2207\n",
    "nombre_exposed        552\n",
    "nombre_recovered    16312\n",
    "Name: 558, dtype: int64"
   ]
  },
  {
   "cell_type": "markdown",
   "id": "b1028671",
   "metadata": {},
   "source": [
    "nombre_infected       961\n",
    "nombre_sain          2195\n",
    "nombre_exposed        542\n",
    "nombre_recovered    16302\n",
    "Name: 559, dtype: int64"
   ]
  },
  {
   "cell_type": "markdown",
   "id": "e1039cc0",
   "metadata": {},
   "source": [
    "nombre_infected       966\n",
    "nombre_sain          2196\n",
    "nombre_exposed        535\n",
    "nombre_recovered    16303\n",
    "Name: 560, dtype: int64"
   ]
  },
  {
   "cell_type": "markdown",
   "id": "f4f5c07f",
   "metadata": {},
   "source": [
    "nombre_infected       962\n",
    "nombre_sain          2215\n",
    "nombre_exposed        526\n",
    "nombre_recovered    16297\n",
    "Name: 561, dtype: int64"
   ]
  },
  {
   "cell_type": "markdown",
   "id": "815e4043",
   "metadata": {},
   "source": [
    "nombre_infected       921\n",
    "nombre_sain          2183\n",
    "nombre_exposed        546\n",
    "nombre_recovered    16350\n",
    "Name: 562, dtype: int64"
   ]
  },
  {
   "cell_type": "markdown",
   "id": "9fb7bf88",
   "metadata": {},
   "source": [
    "nombre_infected       909\n",
    "nombre_sain          2205\n",
    "nombre_exposed        532\n",
    "nombre_recovered    16354\n",
    "Name: 563, dtype: int64"
   ]
  },
  {
   "cell_type": "markdown",
   "id": "978a6755",
   "metadata": {},
   "source": [
    "nombre_infected       933\n",
    "nombre_sain          2214\n",
    "nombre_exposed        522\n",
    "nombre_recovered    16331\n",
    "Name: 564, dtype: int64"
   ]
  },
  {
   "cell_type": "markdown",
   "id": "02469557",
   "metadata": {},
   "source": [
    "nombre_infected       927\n",
    "nombre_sain          2230\n",
    "nombre_exposed        524\n",
    "nombre_recovered    16319\n",
    "Name: 565, dtype: int64"
   ]
  },
  {
   "cell_type": "markdown",
   "id": "c4866d70",
   "metadata": {},
   "source": [
    "nombre_infected       930\n",
    "nombre_sain          2240\n",
    "nombre_exposed        528\n",
    "nombre_recovered    16302\n",
    "Name: 566, dtype: int64"
   ]
  },
  {
   "cell_type": "markdown",
   "id": "2c77df7d",
   "metadata": {},
   "source": [
    "nombre_infected       939\n",
    "nombre_sain          2236\n",
    "nombre_exposed        532\n",
    "nombre_recovered    16293\n",
    "Name: 567, dtype: int64"
   ]
  },
  {
   "cell_type": "markdown",
   "id": "0ee6ed72",
   "metadata": {},
   "source": [
    "nombre_infected       932\n",
    "nombre_sain          2286\n",
    "nombre_exposed        516\n",
    "nombre_recovered    16266\n",
    "Name: 568, dtype: int64"
   ]
  },
  {
   "cell_type": "markdown",
   "id": "4daecffb",
   "metadata": {},
   "source": [
    "nombre_infected       925\n",
    "nombre_sain          2298\n",
    "nombre_exposed        511\n",
    "nombre_recovered    16266\n",
    "Name: 569, dtype: int64"
   ]
  },
  {
   "cell_type": "markdown",
   "id": "f887eae5",
   "metadata": {},
   "source": [
    "nombre_infected       919\n",
    "nombre_sain          2335\n",
    "nombre_exposed        507\n",
    "nombre_recovered    16239\n",
    "Name: 570, dtype: int64"
   ]
  },
  {
   "cell_type": "markdown",
   "id": "4852b39e",
   "metadata": {},
   "source": [
    "nombre_infected       920\n",
    "nombre_sain          2324\n",
    "nombre_exposed        520\n",
    "nombre_recovered    16236\n",
    "Name: 571, dtype: int64"
   ]
  },
  {
   "cell_type": "markdown",
   "id": "c4704ac3",
   "metadata": {},
   "source": [
    "nombre_infected       911\n",
    "nombre_sain          2299\n",
    "nombre_exposed        536\n",
    "nombre_recovered    16254\n",
    "Name: 572, dtype: int64"
   ]
  },
  {
   "cell_type": "markdown",
   "id": "89952b66",
   "metadata": {},
   "source": [
    "nombre_infected       919\n",
    "nombre_sain          2295\n",
    "nombre_exposed        537\n",
    "nombre_recovered    16249\n",
    "Name: 573, dtype: int64"
   ]
  },
  {
   "cell_type": "markdown",
   "id": "12871eb4",
   "metadata": {},
   "source": [
    "nombre_infected       913\n",
    "nombre_sain          2260\n",
    "nombre_exposed        576\n",
    "nombre_recovered    16251\n",
    "Name: 574, dtype: int64"
   ]
  },
  {
   "cell_type": "markdown",
   "id": "9d78419c",
   "metadata": {},
   "source": [
    "nombre_infected       901\n",
    "nombre_sain          2250\n",
    "nombre_exposed        601\n",
    "nombre_recovered    16248\n",
    "Name: 575, dtype: int64"
   ]
  },
  {
   "cell_type": "markdown",
   "id": "c565ffa1",
   "metadata": {},
   "source": [
    "nombre_infected       915\n",
    "nombre_sain          2240\n",
    "nombre_exposed        599\n",
    "nombre_recovered    16246\n",
    "Name: 576, dtype: int64"
   ]
  },
  {
   "cell_type": "markdown",
   "id": "6063eb50",
   "metadata": {},
   "source": [
    "nombre_infected       945\n",
    "nombre_sain          2264\n",
    "nombre_exposed        571\n",
    "nombre_recovered    16220\n",
    "Name: 577, dtype: int64"
   ]
  },
  {
   "cell_type": "markdown",
   "id": "37ef14de",
   "metadata": {},
   "source": [
    "nombre_infected       960\n",
    "nombre_sain          2264\n",
    "nombre_exposed        557\n",
    "nombre_recovered    16219\n",
    "Name: 578, dtype: int64"
   ]
  },
  {
   "cell_type": "markdown",
   "id": "6e4d5640",
   "metadata": {},
   "source": [
    "nombre_infected       978\n",
    "nombre_sain          2279\n",
    "nombre_exposed        534\n",
    "nombre_recovered    16209\n",
    "Name: 579, dtype: int64"
   ]
  },
  {
   "cell_type": "markdown",
   "id": "4d6870c9",
   "metadata": {},
   "source": [
    "nombre_infected       971\n",
    "nombre_sain          2279\n",
    "nombre_exposed        522\n",
    "nombre_recovered    16228\n",
    "Name: 580, dtype: int64"
   ]
  },
  {
   "cell_type": "markdown",
   "id": "ae49762d",
   "metadata": {},
   "source": [
    "nombre_infected       956\n",
    "nombre_sain          2288\n",
    "nombre_exposed        525\n",
    "nombre_recovered    16231\n",
    "Name: 581, dtype: int64"
   ]
  },
  {
   "cell_type": "markdown",
   "id": "b152e3a1",
   "metadata": {},
   "source": [
    "nombre_infected       950\n",
    "nombre_sain          2299\n",
    "nombre_exposed        511\n",
    "nombre_recovered    16240\n",
    "Name: 582, dtype: int64"
   ]
  },
  {
   "cell_type": "markdown",
   "id": "b2f4dcd5",
   "metadata": {},
   "source": [
    "nombre_infected       947\n",
    "nombre_sain          2317\n",
    "nombre_exposed        531\n",
    "nombre_recovered    16205\n",
    "Name: 583, dtype: int64"
   ]
  },
  {
   "cell_type": "markdown",
   "id": "3d07a325",
   "metadata": {},
   "source": [
    "nombre_infected       963\n",
    "nombre_sain          2326\n",
    "nombre_exposed        554\n",
    "nombre_recovered    16157\n",
    "Name: 584, dtype: int64"
   ]
  },
  {
   "cell_type": "markdown",
   "id": "fc24c455",
   "metadata": {},
   "source": [
    "nombre_infected       958\n",
    "nombre_sain          2324\n",
    "nombre_exposed        566\n",
    "nombre_recovered    16152\n",
    "Name: 585, dtype: int64"
   ]
  },
  {
   "cell_type": "markdown",
   "id": "aced2c87",
   "metadata": {},
   "source": [
    "nombre_infected       977\n",
    "nombre_sain          2306\n",
    "nombre_exposed        584\n",
    "nombre_recovered    16133\n",
    "Name: 586, dtype: int64"
   ]
  },
  {
   "cell_type": "markdown",
   "id": "272bb03c",
   "metadata": {},
   "source": [
    "nombre_infected       980\n",
    "nombre_sain          2351\n",
    "nombre_exposed        575\n",
    "nombre_recovered    16094\n",
    "Name: 587, dtype: int64"
   ]
  },
  {
   "cell_type": "markdown",
   "id": "566d7235",
   "metadata": {},
   "source": [
    "nombre_infected      1016\n",
    "nombre_sain          2352\n",
    "nombre_exposed        572\n",
    "nombre_recovered    16060\n",
    "Name: 588, dtype: int64"
   ]
  },
  {
   "cell_type": "markdown",
   "id": "1bb4b2e7",
   "metadata": {},
   "source": [
    "nombre_infected      1023\n",
    "nombre_sain          2357\n",
    "nombre_exposed        589\n",
    "nombre_recovered    16031\n",
    "Name: 589, dtype: int64"
   ]
  },
  {
   "cell_type": "markdown",
   "id": "6f63fefa",
   "metadata": {},
   "source": [
    "nombre_infected      1001\n",
    "nombre_sain          2315\n",
    "nombre_exposed        617\n",
    "nombre_recovered    16067\n",
    "Name: 590, dtype: int64"
   ]
  },
  {
   "cell_type": "markdown",
   "id": "73a0a098",
   "metadata": {},
   "source": [
    "nombre_infected      1017\n",
    "nombre_sain          2318\n",
    "nombre_exposed        598\n",
    "nombre_recovered    16067\n",
    "Name: 591, dtype: int64"
   ]
  },
  {
   "cell_type": "markdown",
   "id": "b5909928",
   "metadata": {},
   "source": [
    "nombre_infected      1011\n",
    "nombre_sain          2324\n",
    "nombre_exposed        600\n",
    "nombre_recovered    16065\n",
    "Name: 592, dtype: int64"
   ]
  },
  {
   "cell_type": "markdown",
   "id": "d72e7a90",
   "metadata": {},
   "source": [
    "nombre_infected       986\n",
    "nombre_sain          2303\n",
    "nombre_exposed        628\n",
    "nombre_recovered    16083\n",
    "Name: 593, dtype: int64"
   ]
  },
  {
   "cell_type": "markdown",
   "id": "ac81862c",
   "metadata": {},
   "source": [
    "nombre_infected      1000\n",
    "nombre_sain          2292\n",
    "nombre_exposed        617\n",
    "nombre_recovered    16091\n",
    "Name: 594, dtype: int64"
   ]
  },
  {
   "cell_type": "markdown",
   "id": "e758df84",
   "metadata": {},
   "source": [
    "nombre_infected      1027\n",
    "nombre_sain          2286\n",
    "nombre_exposed        606\n",
    "nombre_recovered    16081\n",
    "Name: 595, dtype: int64"
   ]
  },
  {
   "cell_type": "markdown",
   "id": "acba6877",
   "metadata": {},
   "source": [
    "nombre_infected      1026\n",
    "nombre_sain          2285\n",
    "nombre_exposed        596\n",
    "nombre_recovered    16093\n",
    "Name: 596, dtype: int64"
   ]
  },
  {
   "cell_type": "markdown",
   "id": "b2e77897",
   "metadata": {},
   "source": [
    "nombre_infected      1008\n",
    "nombre_sain          2299\n",
    "nombre_exposed        608\n",
    "nombre_recovered    16085\n",
    "Name: 597, dtype: int64"
   ]
  },
  {
   "cell_type": "markdown",
   "id": "46075b3d",
   "metadata": {},
   "source": [
    "nombre_infected      1006\n",
    "nombre_sain          2264\n",
    "nombre_exposed        617\n",
    "nombre_recovered    16113\n",
    "Name: 598, dtype: int64"
   ]
  },
  {
   "cell_type": "markdown",
   "id": "b7c31f3f",
   "metadata": {},
   "source": [
    "nombre_infected      1020\n",
    "nombre_sain          2240\n",
    "nombre_exposed        615\n",
    "nombre_recovered    16125\n",
    "Name: 599, dtype: int64"
   ]
  },
  {
   "cell_type": "markdown",
   "id": "1c2383bb",
   "metadata": {},
   "source": [
    "nombre_infected      1042\n",
    "nombre_sain          2229\n",
    "nombre_exposed        603\n",
    "nombre_recovered    16126\n",
    "Name: 600, dtype: int64"
   ]
  },
  {
   "cell_type": "markdown",
   "id": "7809450e",
   "metadata": {},
   "source": [
    "nombre_infected      1024\n",
    "nombre_sain          2220\n",
    "nombre_exposed        617\n",
    "nombre_recovered    16139\n",
    "Name: 601, dtype: int64"
   ]
  },
  {
   "cell_type": "markdown",
   "id": "818e6aed",
   "metadata": {},
   "source": [
    "nombre_infected      1016\n",
    "nombre_sain          2219\n",
    "nombre_exposed        608\n",
    "nombre_recovered    16157\n",
    "Name: 602, dtype: int64"
   ]
  },
  {
   "cell_type": "markdown",
   "id": "c801edcb",
   "metadata": {},
   "source": [
    "nombre_infected      1017\n",
    "nombre_sain          2201\n",
    "nombre_exposed        604\n",
    "nombre_recovered    16178\n",
    "Name: 603, dtype: int64"
   ]
  },
  {
   "cell_type": "markdown",
   "id": "9d5efbbb",
   "metadata": {},
   "source": [
    "nombre_infected      1005\n",
    "nombre_sain          2181\n",
    "nombre_exposed        616\n",
    "nombre_recovered    16198\n",
    "Name: 604, dtype: int64"
   ]
  },
  {
   "cell_type": "markdown",
   "id": "562c75be",
   "metadata": {},
   "source": [
    "nombre_infected      1013\n",
    "nombre_sain          2194\n",
    "nombre_exposed        594\n",
    "nombre_recovered    16199\n",
    "Name: 605, dtype: int64"
   ]
  },
  {
   "cell_type": "markdown",
   "id": "b693f674",
   "metadata": {},
   "source": [
    "nombre_infected      1022\n",
    "nombre_sain          2156\n",
    "nombre_exposed        597\n",
    "nombre_recovered    16225\n",
    "Name: 606, dtype: int64"
   ]
  },
  {
   "cell_type": "markdown",
   "id": "672a1e57",
   "metadata": {},
   "source": [
    "nombre_infected      1007\n",
    "nombre_sain          2124\n",
    "nombre_exposed        591\n",
    "nombre_recovered    16278\n",
    "Name: 607, dtype: int64"
   ]
  },
  {
   "cell_type": "markdown",
   "id": "894efa3e",
   "metadata": {},
   "source": [
    "nombre_infected      1005\n",
    "nombre_sain          2105\n",
    "nombre_exposed        592\n",
    "nombre_recovered    16298\n",
    "Name: 608, dtype: int64"
   ]
  },
  {
   "cell_type": "markdown",
   "id": "8e46efe4",
   "metadata": {},
   "source": [
    "nombre_infected      1020\n",
    "nombre_sain          2084\n",
    "nombre_exposed        573\n",
    "nombre_recovered    16323\n",
    "Name: 609, dtype: int64"
   ]
  },
  {
   "cell_type": "markdown",
   "id": "13babe95",
   "metadata": {},
   "source": [
    "nombre_infected      1003\n",
    "nombre_sain          2051\n",
    "nombre_exposed        582\n",
    "nombre_recovered    16364\n",
    "Name: 610, dtype: int64"
   ]
  },
  {
   "cell_type": "markdown",
   "id": "4143d0b2",
   "metadata": {},
   "source": [
    "nombre_infected       984\n",
    "nombre_sain          2068\n",
    "nombre_exposed        572\n",
    "nombre_recovered    16376\n",
    "Name: 611, dtype: int64"
   ]
  },
  {
   "cell_type": "markdown",
   "id": "3241a6a3",
   "metadata": {},
   "source": [
    "nombre_infected       972\n",
    "nombre_sain          2047\n",
    "nombre_exposed        574\n",
    "nombre_recovered    16407\n",
    "Name: 612, dtype: int64"
   ]
  },
  {
   "cell_type": "markdown",
   "id": "b904ad8b",
   "metadata": {},
   "source": [
    "nombre_infected       958\n",
    "nombre_sain          2031\n",
    "nombre_exposed        575\n",
    "nombre_recovered    16436\n",
    "Name: 613, dtype: int64"
   ]
  },
  {
   "cell_type": "markdown",
   "id": "d6057f5d",
   "metadata": {},
   "source": [
    "nombre_infected       977\n",
    "nombre_sain          2046\n",
    "nombre_exposed        546\n",
    "nombre_recovered    16431\n",
    "Name: 614, dtype: int64"
   ]
  },
  {
   "cell_type": "markdown",
   "id": "b95bd2ff",
   "metadata": {},
   "source": [
    "nombre_infected       972\n",
    "nombre_sain          2072\n",
    "nombre_exposed        530\n",
    "nombre_recovered    16426\n",
    "Name: 615, dtype: int64"
   ]
  },
  {
   "cell_type": "markdown",
   "id": "95c0eb1c",
   "metadata": {},
   "source": [
    "nombre_infected       963\n",
    "nombre_sain          2055\n",
    "nombre_exposed        543\n",
    "nombre_recovered    16439\n",
    "Name: 616, dtype: int64"
   ]
  },
  {
   "cell_type": "markdown",
   "id": "4def4aa2",
   "metadata": {},
   "source": [
    "nombre_infected       938\n",
    "nombre_sain          2028\n",
    "nombre_exposed        559\n",
    "nombre_recovered    16475\n",
    "Name: 617, dtype: int64"
   ]
  },
  {
   "cell_type": "markdown",
   "id": "90c31378",
   "metadata": {},
   "source": [
    "nombre_infected       937\n",
    "nombre_sain          2025\n",
    "nombre_exposed        535\n",
    "nombre_recovered    16503\n",
    "Name: 618, dtype: int64"
   ]
  },
  {
   "cell_type": "markdown",
   "id": "b2991c13",
   "metadata": {},
   "source": [
    "nombre_infected       904\n",
    "nombre_sain          2013\n",
    "nombre_exposed        530\n",
    "nombre_recovered    16553\n",
    "Name: 619, dtype: int64"
   ]
  },
  {
   "cell_type": "markdown",
   "id": "c288e69a",
   "metadata": {},
   "source": [
    "nombre_infected       905\n",
    "nombre_sain          2004\n",
    "nombre_exposed        519\n",
    "nombre_recovered    16572\n",
    "Name: 620, dtype: int64"
   ]
  },
  {
   "cell_type": "markdown",
   "id": "9fdab2db",
   "metadata": {},
   "source": [
    "nombre_infected       911\n",
    "nombre_sain          2014\n",
    "nombre_exposed        526\n",
    "nombre_recovered    16549\n",
    "Name: 621, dtype: int64"
   ]
  },
  {
   "cell_type": "markdown",
   "id": "bdb69c74",
   "metadata": {},
   "source": [
    "nombre_infected       893\n",
    "nombre_sain          2033\n",
    "nombre_exposed        525\n",
    "nombre_recovered    16549\n",
    "Name: 622, dtype: int64"
   ]
  },
  {
   "cell_type": "markdown",
   "id": "ba276e30",
   "metadata": {},
   "source": [
    "nombre_infected       866\n",
    "nombre_sain          2060\n",
    "nombre_exposed        530\n",
    "nombre_recovered    16544\n",
    "Name: 623, dtype: int64"
   ]
  },
  {
   "cell_type": "markdown",
   "id": "1b6dc638",
   "metadata": {},
   "source": [
    "nombre_infected       877\n",
    "nombre_sain          2079\n",
    "nombre_exposed        520\n",
    "nombre_recovered    16524\n",
    "Name: 624, dtype: int64"
   ]
  },
  {
   "cell_type": "markdown",
   "id": "a0ee8f49",
   "metadata": {},
   "source": [
    "nombre_infected       871\n",
    "nombre_sain          2102\n",
    "nombre_exposed        512\n",
    "nombre_recovered    16515\n",
    "Name: 625, dtype: int64"
   ]
  },
  {
   "cell_type": "markdown",
   "id": "e65edfa1",
   "metadata": {},
   "source": [
    "nombre_infected       868\n",
    "nombre_sain          2142\n",
    "nombre_exposed        494\n",
    "nombre_recovered    16496\n",
    "Name: 626, dtype: int64"
   ]
  },
  {
   "cell_type": "markdown",
   "id": "340f4944",
   "metadata": {},
   "source": [
    "nombre_infected       856\n",
    "nombre_sain          2164\n",
    "nombre_exposed        465\n",
    "nombre_recovered    16515\n",
    "Name: 627, dtype: int64"
   ]
  },
  {
   "cell_type": "markdown",
   "id": "24bed854",
   "metadata": {},
   "source": [
    "nombre_infected       847\n",
    "nombre_sain          2164\n",
    "nombre_exposed        458\n",
    "nombre_recovered    16531\n",
    "Name: 628, dtype: int64"
   ]
  },
  {
   "cell_type": "markdown",
   "id": "2ae1595c",
   "metadata": {},
   "source": [
    "nombre_infected       809\n",
    "nombre_sain          2144\n",
    "nombre_exposed        496\n",
    "nombre_recovered    16551\n",
    "Name: 629, dtype: int64"
   ]
  },
  {
   "cell_type": "markdown",
   "id": "5e772c47",
   "metadata": {},
   "source": [
    "nombre_infected       794\n",
    "nombre_sain          2172\n",
    "nombre_exposed        498\n",
    "nombre_recovered    16536\n",
    "Name: 630, dtype: int64"
   ]
  },
  {
   "cell_type": "markdown",
   "id": "992677ef",
   "metadata": {},
   "source": [
    "nombre_infected       795\n",
    "nombre_sain          2193\n",
    "nombre_exposed        480\n",
    "nombre_recovered    16532\n",
    "Name: 631, dtype: int64"
   ]
  },
  {
   "cell_type": "markdown",
   "id": "9d0a287c",
   "metadata": {},
   "source": [
    "nombre_infected       815\n",
    "nombre_sain          2226\n",
    "nombre_exposed        459\n",
    "nombre_recovered    16500\n",
    "Name: 632, dtype: int64"
   ]
  },
  {
   "cell_type": "markdown",
   "id": "9ce65814",
   "metadata": {},
   "source": [
    "nombre_infected       779\n",
    "nombre_sain          2251\n",
    "nombre_exposed        460\n",
    "nombre_recovered    16510\n",
    "Name: 633, dtype: int64"
   ]
  },
  {
   "cell_type": "markdown",
   "id": "9c87b515",
   "metadata": {},
   "source": [
    "nombre_infected       768\n",
    "nombre_sain          2273\n",
    "nombre_exposed        465\n",
    "nombre_recovered    16494\n",
    "Name: 634, dtype: int64"
   ]
  },
  {
   "cell_type": "markdown",
   "id": "d263a5f7",
   "metadata": {},
   "source": [
    "nombre_infected       765\n",
    "nombre_sain          2298\n",
    "nombre_exposed        464\n",
    "nombre_recovered    16473\n",
    "Name: 635, dtype: int64"
   ]
  },
  {
   "cell_type": "markdown",
   "id": "5bc5c0c0",
   "metadata": {},
   "source": [
    "nombre_infected       779\n",
    "nombre_sain          2285\n",
    "nombre_exposed        460\n",
    "nombre_recovered    16476\n",
    "Name: 636, dtype: int64"
   ]
  },
  {
   "cell_type": "markdown",
   "id": "3664bece",
   "metadata": {},
   "source": [
    "nombre_infected       767\n",
    "nombre_sain          2294\n",
    "nombre_exposed        472\n",
    "nombre_recovered    16467\n",
    "Name: 637, dtype: int64"
   ]
  },
  {
   "cell_type": "markdown",
   "id": "57bff6da",
   "metadata": {},
   "source": [
    "nombre_infected       770\n",
    "nombre_sain          2291\n",
    "nombre_exposed        476\n",
    "nombre_recovered    16463\n",
    "Name: 638, dtype: int64"
   ]
  },
  {
   "cell_type": "markdown",
   "id": "60b46ad1",
   "metadata": {},
   "source": [
    "nombre_infected       758\n",
    "nombre_sain          2294\n",
    "nombre_exposed        487\n",
    "nombre_recovered    16461\n",
    "Name: 639, dtype: int64"
   ]
  },
  {
   "cell_type": "markdown",
   "id": "68ccf762",
   "metadata": {},
   "source": [
    "nombre_infected       775\n",
    "nombre_sain          2305\n",
    "nombre_exposed        465\n",
    "nombre_recovered    16455\n",
    "Name: 640, dtype: int64"
   ]
  },
  {
   "cell_type": "markdown",
   "id": "96c53e15",
   "metadata": {},
   "source": [
    "nombre_infected       782\n",
    "nombre_sain          2320\n",
    "nombre_exposed        472\n",
    "nombre_recovered    16426\n",
    "Name: 641, dtype: int64"
   ]
  },
  {
   "cell_type": "markdown",
   "id": "c36e8592",
   "metadata": {},
   "source": [
    "nombre_infected       770\n",
    "nombre_sain          2299\n",
    "nombre_exposed        505\n",
    "nombre_recovered    16426\n",
    "Name: 642, dtype: int64"
   ]
  },
  {
   "cell_type": "markdown",
   "id": "3d993f6d",
   "metadata": {},
   "source": [
    "nombre_infected       757\n",
    "nombre_sain          2291\n",
    "nombre_exposed        527\n",
    "nombre_recovered    16425\n",
    "Name: 643, dtype: int64"
   ]
  },
  {
   "cell_type": "markdown",
   "id": "d0989a8c",
   "metadata": {},
   "source": [
    "nombre_infected       778\n",
    "nombre_sain          2307\n",
    "nombre_exposed        518\n",
    "nombre_recovered    16397\n",
    "Name: 644, dtype: int64"
   ]
  },
  {
   "cell_type": "markdown",
   "id": "2f74c669",
   "metadata": {},
   "source": [
    "nombre_infected       795\n",
    "nombre_sain          2334\n",
    "nombre_exposed        500\n",
    "nombre_recovered    16371\n",
    "Name: 645, dtype: int64"
   ]
  },
  {
   "cell_type": "markdown",
   "id": "87fd0a87",
   "metadata": {},
   "source": [
    "nombre_infected       808\n",
    "nombre_sain          2325\n",
    "nombre_exposed        505\n",
    "nombre_recovered    16362\n",
    "Name: 646, dtype: int64"
   ]
  },
  {
   "cell_type": "markdown",
   "id": "ff0f66a5",
   "metadata": {},
   "source": [
    "nombre_infected       813\n",
    "nombre_sain          2339\n",
    "nombre_exposed        514\n",
    "nombre_recovered    16334\n",
    "Name: 647, dtype: int64"
   ]
  },
  {
   "cell_type": "markdown",
   "id": "2a5a0759",
   "metadata": {},
   "source": [
    "nombre_infected       825\n",
    "nombre_sain          2324\n",
    "nombre_exposed        520\n",
    "nombre_recovered    16331\n",
    "Name: 648, dtype: int64"
   ]
  },
  {
   "cell_type": "markdown",
   "id": "e05babd7",
   "metadata": {},
   "source": [
    "nombre_infected       836\n",
    "nombre_sain          2344\n",
    "nombre_exposed        518\n",
    "nombre_recovered    16302\n",
    "Name: 649, dtype: int64"
   ]
  },
  {
   "cell_type": "markdown",
   "id": "2d377c37",
   "metadata": {},
   "source": [
    "nombre_infected       825\n",
    "nombre_sain          2360\n",
    "nombre_exposed        524\n",
    "nombre_recovered    16291\n",
    "Name: 650, dtype: int64"
   ]
  },
  {
   "cell_type": "markdown",
   "id": "44160941",
   "metadata": {},
   "source": [
    "nombre_infected       827\n",
    "nombre_sain          2343\n",
    "nombre_exposed        535\n",
    "nombre_recovered    16295\n",
    "Name: 651, dtype: int64"
   ]
  },
  {
   "cell_type": "markdown",
   "id": "5f2a3e61",
   "metadata": {},
   "source": [
    "nombre_infected       834\n",
    "nombre_sain          2374\n",
    "nombre_exposed        508\n",
    "nombre_recovered    16284\n",
    "Name: 652, dtype: int64"
   ]
  },
  {
   "cell_type": "markdown",
   "id": "36ec916c",
   "metadata": {},
   "source": [
    "nombre_infected       853\n",
    "nombre_sain          2386\n",
    "nombre_exposed        514\n",
    "nombre_recovered    16247\n",
    "Name: 653, dtype: int64"
   ]
  },
  {
   "cell_type": "markdown",
   "id": "0b04cb4d",
   "metadata": {},
   "source": [
    "nombre_infected       843\n",
    "nombre_sain          2410\n",
    "nombre_exposed        500\n",
    "nombre_recovered    16247\n",
    "Name: 654, dtype: int64"
   ]
  },
  {
   "cell_type": "markdown",
   "id": "14e911b9",
   "metadata": {},
   "source": [
    "nombre_infected       829\n",
    "nombre_sain          2387\n",
    "nombre_exposed        508\n",
    "nombre_recovered    16276\n",
    "Name: 655, dtype: int64"
   ]
  },
  {
   "cell_type": "markdown",
   "id": "10de881c",
   "metadata": {},
   "source": [
    "nombre_infected       837\n",
    "nombre_sain          2404\n",
    "nombre_exposed        527\n",
    "nombre_recovered    16232\n",
    "Name: 656, dtype: int64"
   ]
  },
  {
   "cell_type": "markdown",
   "id": "b562cf88",
   "metadata": {},
   "source": [
    "nombre_infected       837\n",
    "nombre_sain          2389\n",
    "nombre_exposed        547\n",
    "nombre_recovered    16227\n",
    "Name: 657, dtype: int64"
   ]
  },
  {
   "cell_type": "markdown",
   "id": "a531d5ad",
   "metadata": {},
   "source": [
    "nombre_infected       848\n",
    "nombre_sain          2386\n",
    "nombre_exposed        546\n",
    "nombre_recovered    16220\n",
    "Name: 658, dtype: int64"
   ]
  },
  {
   "cell_type": "markdown",
   "id": "090f6571",
   "metadata": {},
   "source": [
    "nombre_infected       848\n",
    "nombre_sain          2384\n",
    "nombre_exposed        535\n",
    "nombre_recovered    16233\n",
    "Name: 659, dtype: int64"
   ]
  },
  {
   "cell_type": "markdown",
   "id": "f9ff2ba1",
   "metadata": {},
   "source": [
    "nombre_infected       899\n",
    "nombre_sain          2404\n",
    "nombre_exposed        512\n",
    "nombre_recovered    16185\n",
    "Name: 660, dtype: int64"
   ]
  },
  {
   "cell_type": "markdown",
   "id": "eb911f0b",
   "metadata": {},
   "source": [
    "nombre_infected       903\n",
    "nombre_sain          2400\n",
    "nombre_exposed        527\n",
    "nombre_recovered    16170\n",
    "Name: 661, dtype: int64"
   ]
  },
  {
   "cell_type": "markdown",
   "id": "23ac887d",
   "metadata": {},
   "source": [
    "nombre_infected       888\n",
    "nombre_sain          2370\n",
    "nombre_exposed        569\n",
    "nombre_recovered    16173\n",
    "Name: 662, dtype: int64"
   ]
  },
  {
   "cell_type": "markdown",
   "id": "b46e270f",
   "metadata": {},
   "source": [
    "nombre_infected       899\n",
    "nombre_sain          2371\n",
    "nombre_exposed        569\n",
    "nombre_recovered    16161\n",
    "Name: 663, dtype: int64"
   ]
  },
  {
   "cell_type": "markdown",
   "id": "8d1af680",
   "metadata": {},
   "source": [
    "nombre_infected       938\n",
    "nombre_sain          2379\n",
    "nombre_exposed        549\n",
    "nombre_recovered    16134\n",
    "Name: 664, dtype: int64"
   ]
  },
  {
   "cell_type": "markdown",
   "id": "29ad3e38",
   "metadata": {},
   "source": [
    "nombre_infected       935\n",
    "nombre_sain          2386\n",
    "nombre_exposed        553\n",
    "nombre_recovered    16126\n",
    "Name: 665, dtype: int64"
   ]
  },
  {
   "cell_type": "markdown",
   "id": "31b1b06a",
   "metadata": {},
   "source": [
    "nombre_infected       923\n",
    "nombre_sain          2398\n",
    "nombre_exposed        573\n",
    "nombre_recovered    16106\n",
    "Name: 666, dtype: int64"
   ]
  },
  {
   "cell_type": "markdown",
   "id": "013f4f81",
   "metadata": {},
   "source": [
    "nombre_infected       948\n",
    "nombre_sain          2396\n",
    "nombre_exposed        563\n",
    "nombre_recovered    16093\n",
    "Name: 667, dtype: int64"
   ]
  },
  {
   "cell_type": "markdown",
   "id": "c4f2f369",
   "metadata": {},
   "source": [
    "nombre_infected       919\n",
    "nombre_sain          2402\n",
    "nombre_exposed        584\n",
    "nombre_recovered    16095\n",
    "Name: 668, dtype: int64"
   ]
  },
  {
   "cell_type": "markdown",
   "id": "18b564ec",
   "metadata": {},
   "source": [
    "nombre_infected       947\n",
    "nombre_sain          2394\n",
    "nombre_exposed        591\n",
    "nombre_recovered    16068\n",
    "Name: 669, dtype: int64"
   ]
  },
  {
   "cell_type": "markdown",
   "id": "5361afe0",
   "metadata": {},
   "source": [
    "nombre_infected       963\n",
    "nombre_sain          2396\n",
    "nombre_exposed        580\n",
    "nombre_recovered    16061\n",
    "Name: 670, dtype: int64"
   ]
  },
  {
   "cell_type": "markdown",
   "id": "d3e9352f",
   "metadata": {},
   "source": [
    "nombre_infected       982\n",
    "nombre_sain          2357\n",
    "nombre_exposed        604\n",
    "nombre_recovered    16057\n",
    "Name: 671, dtype: int64"
   ]
  },
  {
   "cell_type": "markdown",
   "id": "97f052e4",
   "metadata": {},
   "source": [
    "nombre_infected       988\n",
    "nombre_sain          2333\n",
    "nombre_exposed        612\n",
    "nombre_recovered    16067\n",
    "Name: 672, dtype: int64"
   ]
  },
  {
   "cell_type": "markdown",
   "id": "cbb17a2a",
   "metadata": {},
   "source": [
    "nombre_infected      1018\n",
    "nombre_sain          2348\n",
    "nombre_exposed        559\n",
    "nombre_recovered    16075\n",
    "Name: 673, dtype: int64"
   ]
  },
  {
   "cell_type": "markdown",
   "id": "b24c690c",
   "metadata": {},
   "source": [
    "nombre_infected      1024\n",
    "nombre_sain          2350\n",
    "nombre_exposed        540\n",
    "nombre_recovered    16086\n",
    "Name: 674, dtype: int64"
   ]
  },
  {
   "cell_type": "markdown",
   "id": "ff13ac1d",
   "metadata": {},
   "source": [
    "nombre_infected      1002\n",
    "nombre_sain          2340\n",
    "nombre_exposed        560\n",
    "nombre_recovered    16098\n",
    "Name: 675, dtype: int64"
   ]
  },
  {
   "cell_type": "markdown",
   "id": "043cef2b",
   "metadata": {},
   "source": [
    "nombre_infected      1003\n",
    "nombre_sain          2320\n",
    "nombre_exposed        575\n",
    "nombre_recovered    16102\n",
    "Name: 676, dtype: int64"
   ]
  },
  {
   "cell_type": "markdown",
   "id": "2195cf9a",
   "metadata": {},
   "source": [
    "nombre_infected      1006\n",
    "nombre_sain          2313\n",
    "nombre_exposed        589\n",
    "nombre_recovered    16092\n",
    "Name: 677, dtype: int64"
   ]
  },
  {
   "cell_type": "markdown",
   "id": "a8a0d84b",
   "metadata": {},
   "source": [
    "nombre_infected      1002\n",
    "nombre_sain          2304\n",
    "nombre_exposed        606\n",
    "nombre_recovered    16088\n",
    "Name: 678, dtype: int64"
   ]
  },
  {
   "cell_type": "markdown",
   "id": "f35d2c54",
   "metadata": {},
   "source": [
    "nombre_infected      1003\n",
    "nombre_sain          2278\n",
    "nombre_exposed        602\n",
    "nombre_recovered    16117\n",
    "Name: 679, dtype: int64"
   ]
  },
  {
   "cell_type": "markdown",
   "id": "17101c18",
   "metadata": {},
   "source": [
    "nombre_infected      1024\n",
    "nombre_sain          2250\n",
    "nombre_exposed        587\n",
    "nombre_recovered    16139\n",
    "Name: 680, dtype: int64"
   ]
  },
  {
   "cell_type": "markdown",
   "id": "6d74063d",
   "metadata": {},
   "source": [
    "nombre_infected      1016\n",
    "nombre_sain          2234\n",
    "nombre_exposed        611\n",
    "nombre_recovered    16139\n",
    "Name: 681, dtype: int64"
   ]
  },
  {
   "cell_type": "markdown",
   "id": "4ef4a904",
   "metadata": {},
   "source": [
    "nombre_infected      1034\n",
    "nombre_sain          2215\n",
    "nombre_exposed        597\n",
    "nombre_recovered    16154\n",
    "Name: 682, dtype: int64"
   ]
  },
  {
   "cell_type": "markdown",
   "id": "647c3cff",
   "metadata": {},
   "source": [
    "nombre_infected      1039\n",
    "nombre_sain          2181\n",
    "nombre_exposed        608\n",
    "nombre_recovered    16172\n",
    "Name: 683, dtype: int64"
   ]
  },
  {
   "cell_type": "markdown",
   "id": "ec9bd3dc",
   "metadata": {},
   "source": [
    "nombre_infected      1076\n",
    "nombre_sain          2167\n",
    "nombre_exposed        581\n",
    "nombre_recovered    16176\n",
    "Name: 684, dtype: int64"
   ]
  },
  {
   "cell_type": "markdown",
   "id": "e03fc2ee",
   "metadata": {},
   "source": [
    "nombre_infected      1064\n",
    "nombre_sain          2133\n",
    "nombre_exposed        595\n",
    "nombre_recovered    16208\n",
    "Name: 685, dtype: int64"
   ]
  },
  {
   "cell_type": "markdown",
   "id": "a70b8841",
   "metadata": {},
   "source": [
    "nombre_infected      1087\n",
    "nombre_sain          2087\n",
    "nombre_exposed        604\n",
    "nombre_recovered    16222\n",
    "Name: 686, dtype: int64"
   ]
  },
  {
   "cell_type": "markdown",
   "id": "2bb320ba",
   "metadata": {},
   "source": [
    "nombre_infected      1082\n",
    "nombre_sain          2060\n",
    "nombre_exposed        594\n",
    "nombre_recovered    16264\n",
    "Name: 687, dtype: int64"
   ]
  },
  {
   "cell_type": "markdown",
   "id": "c2e00b88",
   "metadata": {},
   "source": [
    "nombre_infected      1080\n",
    "nombre_sain          2058\n",
    "nombre_exposed        575\n",
    "nombre_recovered    16287\n",
    "Name: 688, dtype: int64"
   ]
  },
  {
   "cell_type": "markdown",
   "id": "a6e7b7ad",
   "metadata": {},
   "source": [
    "nombre_infected      1072\n",
    "nombre_sain          2064\n",
    "nombre_exposed        563\n",
    "nombre_recovered    16301\n",
    "Name: 689, dtype: int64"
   ]
  },
  {
   "cell_type": "markdown",
   "id": "be334bff",
   "metadata": {},
   "source": [
    "nombre_infected      1072\n",
    "nombre_sain          2034\n",
    "nombre_exposed        548\n",
    "nombre_recovered    16346\n",
    "Name: 690, dtype: int64"
   ]
  },
  {
   "cell_type": "markdown",
   "id": "c088cbc5",
   "metadata": {},
   "source": [
    "nombre_infected      1060\n",
    "nombre_sain          1992\n",
    "nombre_exposed        560\n",
    "nombre_recovered    16388\n",
    "Name: 691, dtype: int64"
   ]
  },
  {
   "cell_type": "markdown",
   "id": "c3842384",
   "metadata": {},
   "source": [
    "nombre_infected      1046\n",
    "nombre_sain          1969\n",
    "nombre_exposed        576\n",
    "nombre_recovered    16409\n",
    "Name: 692, dtype: int64"
   ]
  },
  {
   "cell_type": "markdown",
   "id": "962e9af5",
   "metadata": {},
   "source": [
    "nombre_infected      1025\n",
    "nombre_sain          1959\n",
    "nombre_exposed        569\n",
    "nombre_recovered    16447\n",
    "Name: 693, dtype: int64"
   ]
  },
  {
   "cell_type": "markdown",
   "id": "0a6df586",
   "metadata": {},
   "source": [
    "nombre_infected      1021\n",
    "nombre_sain          1928\n",
    "nombre_exposed        557\n",
    "nombre_recovered    16494\n",
    "Name: 694, dtype: int64"
   ]
  },
  {
   "cell_type": "markdown",
   "id": "a8600369",
   "metadata": {},
   "source": [
    "nombre_infected      1029\n",
    "nombre_sain          1921\n",
    "nombre_exposed        541\n",
    "nombre_recovered    16509\n",
    "Name: 695, dtype: int64"
   ]
  },
  {
   "cell_type": "markdown",
   "id": "faa33cf0",
   "metadata": {},
   "source": [
    "nombre_infected      1034\n",
    "nombre_sain          1921\n",
    "nombre_exposed        539\n",
    "nombre_recovered    16506\n",
    "Name: 696, dtype: int64"
   ]
  },
  {
   "cell_type": "markdown",
   "id": "f65372b9",
   "metadata": {},
   "source": [
    "nombre_infected      1021\n",
    "nombre_sain          1931\n",
    "nombre_exposed        517\n",
    "nombre_recovered    16531\n",
    "Name: 697, dtype: int64"
   ]
  },
  {
   "cell_type": "markdown",
   "id": "f781a165",
   "metadata": {},
   "source": [
    "nombre_infected      1014\n",
    "nombre_sain          1916\n",
    "nombre_exposed        513\n",
    "nombre_recovered    16557\n",
    "Name: 698, dtype: int64"
   ]
  },
  {
   "cell_type": "markdown",
   "id": "fc2ec7b7",
   "metadata": {},
   "source": [
    "nombre_infected      1008\n",
    "nombre_sain          1899\n",
    "nombre_exposed        511\n",
    "nombre_recovered    16582\n",
    "Name: 699, dtype: int64"
   ]
  },
  {
   "cell_type": "markdown",
   "id": "d5b1320b",
   "metadata": {},
   "source": [
    "nombre_infected       980\n",
    "nombre_sain          1905\n",
    "nombre_exposed        508\n",
    "nombre_recovered    16607\n",
    "Name: 700, dtype: int64"
   ]
  },
  {
   "cell_type": "markdown",
   "id": "520793b9",
   "metadata": {},
   "source": [
    "nombre_infected       998\n",
    "nombre_sain          1902\n",
    "nombre_exposed        489\n",
    "nombre_recovered    16611\n",
    "Name: 701, dtype: int64"
   ]
  },
  {
   "cell_type": "markdown",
   "id": "a4012a26",
   "metadata": {},
   "source": [
    "nombre_infected       982\n",
    "nombre_sain          1901\n",
    "nombre_exposed        496\n",
    "nombre_recovered    16621\n",
    "Name: 702, dtype: int64"
   ]
  },
  {
   "cell_type": "markdown",
   "id": "e2f4d16a",
   "metadata": {},
   "source": [
    "nombre_infected       959\n",
    "nombre_sain          1891\n",
    "nombre_exposed        511\n",
    "nombre_recovered    16639\n",
    "Name: 703, dtype: int64"
   ]
  },
  {
   "cell_type": "markdown",
   "id": "93cf6924",
   "metadata": {},
   "source": [
    "nombre_infected       936\n",
    "nombre_sain          1887\n",
    "nombre_exposed        508\n",
    "nombre_recovered    16669\n",
    "Name: 704, dtype: int64"
   ]
  },
  {
   "cell_type": "markdown",
   "id": "a3d35cae",
   "metadata": {},
   "source": [
    "nombre_infected       944\n",
    "nombre_sain          1893\n",
    "nombre_exposed        486\n",
    "nombre_recovered    16677\n",
    "Name: 705, dtype: int64"
   ]
  },
  {
   "cell_type": "markdown",
   "id": "2ba3bd61",
   "metadata": {},
   "source": [
    "nombre_infected       943\n",
    "nombre_sain          1921\n",
    "nombre_exposed        466\n",
    "nombre_recovered    16670\n",
    "Name: 706, dtype: int64"
   ]
  },
  {
   "cell_type": "markdown",
   "id": "96fabeb9",
   "metadata": {},
   "source": [
    "nombre_infected       945\n",
    "nombre_sain          1943\n",
    "nombre_exposed        464\n",
    "nombre_recovered    16648\n",
    "Name: 707, dtype: int64"
   ]
  },
  {
   "cell_type": "markdown",
   "id": "4293fd02",
   "metadata": {},
   "source": [
    "nombre_infected       916\n",
    "nombre_sain          1964\n",
    "nombre_exposed        439\n",
    "nombre_recovered    16681\n",
    "Name: 708, dtype: int64"
   ]
  },
  {
   "cell_type": "markdown",
   "id": "f9c58fdd",
   "metadata": {},
   "source": [
    "nombre_infected       926\n",
    "nombre_sain          2023\n",
    "nombre_exposed        407\n",
    "nombre_recovered    16644\n",
    "Name: 709, dtype: int64"
   ]
  },
  {
   "cell_type": "markdown",
   "id": "d5c992e0",
   "metadata": {},
   "source": [
    "nombre_infected       891\n",
    "nombre_sain          2039\n",
    "nombre_exposed        434\n",
    "nombre_recovered    16636\n",
    "Name: 710, dtype: int64"
   ]
  },
  {
   "cell_type": "markdown",
   "id": "98593523",
   "metadata": {},
   "source": [
    "nombre_infected       876\n",
    "nombre_sain          2050\n",
    "nombre_exposed        433\n",
    "nombre_recovered    16641\n",
    "Name: 711, dtype: int64"
   ]
  },
  {
   "cell_type": "markdown",
   "id": "3ff13937",
   "metadata": {},
   "source": [
    "nombre_infected       865\n",
    "nombre_sain          2065\n",
    "nombre_exposed        442\n",
    "nombre_recovered    16628\n",
    "Name: 712, dtype: int64"
   ]
  },
  {
   "cell_type": "markdown",
   "id": "51c5bff2",
   "metadata": {},
   "source": [
    "nombre_infected       838\n",
    "nombre_sain          2053\n",
    "nombre_exposed        461\n",
    "nombre_recovered    16648\n",
    "Name: 713, dtype: int64"
   ]
  },
  {
   "cell_type": "markdown",
   "id": "5d3fa979",
   "metadata": {},
   "source": [
    "nombre_infected       826\n",
    "nombre_sain          2086\n",
    "nombre_exposed        467\n",
    "nombre_recovered    16621\n",
    "Name: 714, dtype: int64"
   ]
  },
  {
   "cell_type": "markdown",
   "id": "9f67438d",
   "metadata": {},
   "source": [
    "nombre_infected       801\n",
    "nombre_sain          2112\n",
    "nombre_exposed        470\n",
    "nombre_recovered    16617\n",
    "Name: 715, dtype: int64"
   ]
  },
  {
   "cell_type": "markdown",
   "id": "06d2cc03",
   "metadata": {},
   "source": [
    "nombre_infected       796\n",
    "nombre_sain          2130\n",
    "nombre_exposed        481\n",
    "nombre_recovered    16593\n",
    "Name: 716, dtype: int64"
   ]
  },
  {
   "cell_type": "markdown",
   "id": "d98fddf3",
   "metadata": {},
   "source": [
    "nombre_infected       798\n",
    "nombre_sain          2185\n",
    "nombre_exposed        468\n",
    "nombre_recovered    16549\n",
    "Name: 717, dtype: int64"
   ]
  },
  {
   "cell_type": "markdown",
   "id": "18193cf4",
   "metadata": {},
   "source": [
    "nombre_infected       803\n",
    "nombre_sain          2227\n",
    "nombre_exposed        445\n",
    "nombre_recovered    16525\n",
    "Name: 718, dtype: int64"
   ]
  },
  {
   "cell_type": "markdown",
   "id": "27c81172",
   "metadata": {},
   "source": [
    "nombre_infected       812\n",
    "nombre_sain          2236\n",
    "nombre_exposed        458\n",
    "nombre_recovered    16494\n",
    "Name: 719, dtype: int64"
   ]
  },
  {
   "cell_type": "markdown",
   "id": "d9bcb9b8",
   "metadata": {},
   "source": [
    "nombre_infected       811\n",
    "nombre_sain          2236\n",
    "nombre_exposed        465\n",
    "nombre_recovered    16488\n",
    "Name: 720, dtype: int64"
   ]
  },
  {
   "cell_type": "markdown",
   "id": "fcc2a311",
   "metadata": {},
   "source": [
    "nombre_infected       813\n",
    "nombre_sain          2256\n",
    "nombre_exposed        474\n",
    "nombre_recovered    16457\n",
    "Name: 721, dtype: int64"
   ]
  },
  {
   "cell_type": "markdown",
   "id": "8111d874",
   "metadata": {},
   "source": [
    "nombre_infected       819\n",
    "nombre_sain          2281\n",
    "nombre_exposed        466\n",
    "nombre_recovered    16434\n",
    "Name: 722, dtype: int64"
   ]
  },
  {
   "cell_type": "markdown",
   "id": "fe33add1",
   "metadata": {},
   "source": [
    "nombre_infected       825\n",
    "nombre_sain          2299\n",
    "nombre_exposed        463\n",
    "nombre_recovered    16413\n",
    "Name: 723, dtype: int64"
   ]
  },
  {
   "cell_type": "markdown",
   "id": "8a883a50",
   "metadata": {},
   "source": [
    "nombre_infected       841\n",
    "nombre_sain          2306\n",
    "nombre_exposed        468\n",
    "nombre_recovered    16385\n",
    "Name: 724, dtype: int64"
   ]
  },
  {
   "cell_type": "markdown",
   "id": "cf17a8b8",
   "metadata": {},
   "source": [
    "nombre_infected       825\n",
    "nombre_sain          2316\n",
    "nombre_exposed        477\n",
    "nombre_recovered    16382\n",
    "Name: 725, dtype: int64"
   ]
  },
  {
   "cell_type": "markdown",
   "id": "320f919a",
   "metadata": {},
   "source": [
    "nombre_infected       829\n",
    "nombre_sain          2336\n",
    "nombre_exposed        465\n",
    "nombre_recovered    16370\n",
    "Name: 726, dtype: int64"
   ]
  },
  {
   "cell_type": "markdown",
   "id": "863ce721",
   "metadata": {},
   "source": [
    "nombre_infected       821\n",
    "nombre_sain          2319\n",
    "nombre_exposed        477\n",
    "nombre_recovered    16383\n",
    "Name: 727, dtype: int64"
   ]
  },
  {
   "cell_type": "markdown",
   "id": "6b2dbb1e",
   "metadata": {},
   "source": [
    "nombre_infected       824\n",
    "nombre_sain          2306\n",
    "nombre_exposed        495\n",
    "nombre_recovered    16375\n",
    "Name: 728, dtype: int64"
   ]
  },
  {
   "cell_type": "markdown",
   "id": "211e65d1",
   "metadata": {},
   "source": [
    "nombre_infected       815\n",
    "nombre_sain          2297\n",
    "nombre_exposed        515\n",
    "nombre_recovered    16373\n",
    "Name: 729, dtype: int64"
   ]
  },
  {
   "cell_type": "markdown",
   "id": "3a6203f2",
   "metadata": {},
   "source": [
    "nombre_infected       815\n",
    "nombre_sain          2305\n",
    "nombre_exposed        510\n",
    "nombre_recovered    16370\n",
    "Name: 730, dtype: int64"
   ]
  }
 ],
 "metadata": {},
 "nbformat": 4,
 "nbformat_minor": 5
}
