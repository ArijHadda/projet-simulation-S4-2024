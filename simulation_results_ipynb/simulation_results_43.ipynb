{
 "cells": [
  {
   "cell_type": "markdown",
   "id": "3eb70eb3",
   "metadata": {},
   "source": [
    "nombre_infected        20\n",
    "nombre_sain         19980\n",
    "nombre_exposed          0\n",
    "nombre_recovered        0\n",
    "Name: 0, dtype: int64"
   ]
  },
  {
   "cell_type": "markdown",
   "id": "63e8b4b2",
   "metadata": {},
   "source": [
    "nombre_infected        20\n",
    "nombre_sain         19970\n",
    "nombre_exposed         10\n",
    "nombre_recovered        0\n",
    "Name: 1, dtype: int64"
   ]
  },
  {
   "cell_type": "markdown",
   "id": "5a3cfa8b",
   "metadata": {},
   "source": [
    "nombre_infected        20\n",
    "nombre_sain         19952\n",
    "nombre_exposed         28\n",
    "nombre_recovered        0\n",
    "Name: 2, dtype: int64"
   ]
  },
  {
   "cell_type": "markdown",
   "id": "b25533ae",
   "metadata": {},
   "source": [
    "nombre_infected        23\n",
    "nombre_sain         19935\n",
    "nombre_exposed         42\n",
    "nombre_recovered        0\n",
    "Name: 3, dtype: int64"
   ]
  },
  {
   "cell_type": "markdown",
   "id": "91ccdcfa",
   "metadata": {},
   "source": [
    "nombre_infected        10\n",
    "nombre_sain         19919\n",
    "nombre_exposed         51\n",
    "nombre_recovered       20\n",
    "Name: 4, dtype: int64"
   ]
  },
  {
   "cell_type": "markdown",
   "id": "7d138030",
   "metadata": {},
   "source": [
    "nombre_infected        18\n",
    "nombre_sain         19905\n",
    "nombre_exposed         57\n",
    "nombre_recovered       20\n",
    "Name: 5, dtype: int64"
   ]
  },
  {
   "cell_type": "markdown",
   "id": "741527dc",
   "metadata": {},
   "source": [
    "nombre_infected        38\n",
    "nombre_sain         19871\n",
    "nombre_exposed         69\n",
    "nombre_recovered       22\n",
    "Name: 6, dtype: int64"
   ]
  },
  {
   "cell_type": "markdown",
   "id": "81fd3f9d",
   "metadata": {},
   "source": [
    "nombre_infected        46\n",
    "nombre_sain         19808\n",
    "nombre_exposed        122\n",
    "nombre_recovered       24\n",
    "Name: 7, dtype: int64"
   ]
  },
  {
   "cell_type": "markdown",
   "id": "214083c1",
   "metadata": {},
   "source": [
    "nombre_infected        61\n",
    "nombre_sain         19731\n",
    "nombre_exposed        180\n",
    "nombre_recovered       28\n",
    "Name: 8, dtype: int64"
   ]
  },
  {
   "cell_type": "markdown",
   "id": "51d91c70",
   "metadata": {},
   "source": [
    "nombre_infected        83\n",
    "nombre_sain         19636\n",
    "nombre_exposed        244\n",
    "nombre_recovered       37\n",
    "Name: 9, dtype: int64"
   ]
  },
  {
   "cell_type": "markdown",
   "id": "1d6e71ad",
   "metadata": {},
   "source": [
    "nombre_infected       116\n",
    "nombre_sain         19486\n",
    "nombre_exposed        354\n",
    "nombre_recovered       44\n",
    "Name: 10, dtype: int64"
   ]
  },
  {
   "cell_type": "markdown",
   "id": "2953a93e",
   "metadata": {},
   "source": [
    "nombre_infected       188\n",
    "nombre_sain         19335\n",
    "nombre_exposed        424\n",
    "nombre_recovered       53\n",
    "Name: 11, dtype: int64"
   ]
  },
  {
   "cell_type": "markdown",
   "id": "8bc43bcd",
   "metadata": {},
   "source": [
    "nombre_infected       251\n",
    "nombre_sain         19051\n",
    "nombre_exposed        627\n",
    "nombre_recovered       71\n",
    "Name: 12, dtype: int64"
   ]
  },
  {
   "cell_type": "markdown",
   "id": "6e99dddb",
   "metadata": {},
   "source": [
    "nombre_infected       319\n",
    "nombre_sain         18735\n",
    "nombre_exposed        847\n",
    "nombre_recovered       99\n",
    "Name: 13, dtype: int64"
   ]
  },
  {
   "cell_type": "markdown",
   "id": "8b80d784",
   "metadata": {},
   "source": [
    "nombre_infected       449\n",
    "nombre_sain         18318\n",
    "nombre_exposed       1108\n",
    "nombre_recovered      125\n",
    "Name: 14, dtype: int64"
   ]
  },
  {
   "cell_type": "markdown",
   "id": "e6f29890",
   "metadata": {},
   "source": [
    "nombre_infected       594\n",
    "nombre_sain         17767\n",
    "nombre_exposed       1469\n",
    "nombre_recovered      170\n",
    "Name: 15, dtype: int64"
   ]
  },
  {
   "cell_type": "markdown",
   "id": "48cc94dd",
   "metadata": {},
   "source": [
    "nombre_infected       784\n",
    "nombre_sain         17030\n",
    "nombre_exposed       1952\n",
    "nombre_recovered      234\n",
    "Name: 16, dtype: int64"
   ]
  },
  {
   "cell_type": "markdown",
   "id": "818ebe0d",
   "metadata": {},
   "source": [
    "nombre_infected      1007\n",
    "nombre_sain         16206\n",
    "nombre_exposed       2478\n",
    "nombre_recovered      309\n",
    "Name: 17, dtype: int64"
   ]
  },
  {
   "cell_type": "markdown",
   "id": "814fe528",
   "metadata": {},
   "source": [
    "nombre_infected      1376\n",
    "nombre_sain         15035\n",
    "nombre_exposed       3187\n",
    "nombre_recovered      402\n",
    "Name: 18, dtype: int64"
   ]
  },
  {
   "cell_type": "markdown",
   "id": "4c66732b",
   "metadata": {},
   "source": [
    "nombre_infected      1808\n",
    "nombre_sain         13774\n",
    "nombre_exposed       3879\n",
    "nombre_recovered      539\n",
    "Name: 19, dtype: int64"
   ]
  },
  {
   "cell_type": "markdown",
   "id": "47dbba74",
   "metadata": {},
   "source": [
    "nombre_infected      2327\n",
    "nombre_sain         12225\n",
    "nombre_exposed       4730\n",
    "nombre_recovered      718\n",
    "Name: 20, dtype: int64"
   ]
  },
  {
   "cell_type": "markdown",
   "id": "f5b011cc",
   "metadata": {},
   "source": [
    "nombre_infected      2995\n",
    "nombre_sain         10589\n",
    "nombre_exposed       5474\n",
    "nombre_recovered      942\n",
    "Name: 21, dtype: int64"
   ]
  },
  {
   "cell_type": "markdown",
   "id": "3ccf2797",
   "metadata": {},
   "source": [
    "nombre_infected     3771\n",
    "nombre_sain         8798\n",
    "nombre_exposed      6183\n",
    "nombre_recovered    1248\n",
    "Name: 22, dtype: int64"
   ]
  },
  {
   "cell_type": "markdown",
   "id": "d20a71b6",
   "metadata": {},
   "source": [
    "nombre_infected     4657\n",
    "nombre_sain         7031\n",
    "nombre_exposed      6697\n",
    "nombre_recovered    1615\n",
    "Name: 23, dtype: int64"
   ]
  },
  {
   "cell_type": "markdown",
   "id": "6f90f7d0",
   "metadata": {},
   "source": [
    "nombre_infected     5536\n",
    "nombre_sain         5370\n",
    "nombre_exposed      7001\n",
    "nombre_recovered    2093\n",
    "Name: 24, dtype: int64"
   ]
  },
  {
   "cell_type": "markdown",
   "id": "ba4ba4f3",
   "metadata": {},
   "source": [
    "nombre_infected     6452\n",
    "nombre_sain         3935\n",
    "nombre_exposed      6917\n",
    "nombre_recovered    2696\n",
    "Name: 25, dtype: int64"
   ]
  },
  {
   "cell_type": "markdown",
   "id": "c5064722",
   "metadata": {},
   "source": [
    "nombre_infected     7206\n",
    "nombre_sain         2830\n",
    "nombre_exposed      6563\n",
    "nombre_recovered    3401\n",
    "Name: 26, dtype: int64"
   ]
  },
  {
   "cell_type": "markdown",
   "id": "36c51536",
   "metadata": {},
   "source": [
    "nombre_infected     7889\n",
    "nombre_sain         1981\n",
    "nombre_exposed      5878\n",
    "nombre_recovered    4252\n",
    "Name: 27, dtype: int64"
   ]
  },
  {
   "cell_type": "markdown",
   "id": "444e3277",
   "metadata": {},
   "source": [
    "nombre_infected     8249\n",
    "nombre_sain         1380\n",
    "nombre_exposed      5140\n",
    "nombre_recovered    5231\n",
    "Name: 28, dtype: int64"
   ]
  },
  {
   "cell_type": "markdown",
   "id": "d0df0e27",
   "metadata": {},
   "source": [
    "nombre_infected     8534\n",
    "nombre_sain          971\n",
    "nombre_exposed      4315\n",
    "nombre_recovered    6180\n",
    "Name: 29, dtype: int64"
   ]
  },
  {
   "cell_type": "markdown",
   "id": "4b904f4b",
   "metadata": {},
   "source": [
    "nombre_infected     8568\n",
    "nombre_sain          653\n",
    "nombre_exposed      3573\n",
    "nombre_recovered    7206\n",
    "Name: 30, dtype: int64"
   ]
  },
  {
   "cell_type": "markdown",
   "id": "6fb5e7f4",
   "metadata": {},
   "source": [
    "nombre_infected     8410\n",
    "nombre_sain          470\n",
    "nombre_exposed      2880\n",
    "nombre_recovered    8240\n",
    "Name: 31, dtype: int64"
   ]
  },
  {
   "cell_type": "markdown",
   "id": "4c874ff1",
   "metadata": {},
   "source": [
    "nombre_infected     8012\n",
    "nombre_sain          333\n",
    "nombre_exposed      2304\n",
    "nombre_recovered    9351\n",
    "Name: 32, dtype: int64"
   ]
  },
  {
   "cell_type": "markdown",
   "id": "95235ba7",
   "metadata": {},
   "source": [
    "nombre_infected      7498\n",
    "nombre_sain           256\n",
    "nombre_exposed       1817\n",
    "nombre_recovered    10429\n",
    "Name: 33, dtype: int64"
   ]
  },
  {
   "cell_type": "markdown",
   "id": "0b9a38af",
   "metadata": {},
   "source": [
    "nombre_infected      6888\n",
    "nombre_sain           208\n",
    "nombre_exposed       1444\n",
    "nombre_recovered    11460\n",
    "Name: 34, dtype: int64"
   ]
  },
  {
   "cell_type": "markdown",
   "id": "a51b83d2",
   "metadata": {},
   "source": [
    "nombre_infected      6250\n",
    "nombre_sain           165\n",
    "nombre_exposed       1174\n",
    "nombre_recovered    12411\n",
    "Name: 35, dtype: int64"
   ]
  },
  {
   "cell_type": "markdown",
   "id": "e60f40b2",
   "metadata": {},
   "source": [
    "nombre_infected      5708\n",
    "nombre_sain           162\n",
    "nombre_exposed        919\n",
    "nombre_recovered    13211\n",
    "Name: 36, dtype: int64"
   ]
  },
  {
   "cell_type": "markdown",
   "id": "37391df0",
   "metadata": {},
   "source": [
    "nombre_infected      5143\n",
    "nombre_sain           169\n",
    "nombre_exposed        733\n",
    "nombre_recovered    13955\n",
    "Name: 37, dtype: int64"
   ]
  },
  {
   "cell_type": "markdown",
   "id": "9f48a63b",
   "metadata": {},
   "source": [
    "nombre_infected      4601\n",
    "nombre_sain           182\n",
    "nombre_exposed        595\n",
    "nombre_recovered    14622\n",
    "Name: 38, dtype: int64"
   ]
  },
  {
   "cell_type": "markdown",
   "id": "b83fcde0",
   "metadata": {},
   "source": [
    "nombre_infected      4077\n",
    "nombre_sain           190\n",
    "nombre_exposed        498\n",
    "nombre_recovered    15235\n",
    "Name: 39, dtype: int64"
   ]
  },
  {
   "cell_type": "markdown",
   "id": "3af3f9f4",
   "metadata": {},
   "source": [
    "nombre_infected      3636\n",
    "nombre_sain           217\n",
    "nombre_exposed        410\n",
    "nombre_recovered    15737\n",
    "Name: 40, dtype: int64"
   ]
  },
  {
   "cell_type": "markdown",
   "id": "15f87551",
   "metadata": {},
   "source": [
    "nombre_infected      3228\n",
    "nombre_sain           241\n",
    "nombre_exposed        338\n",
    "nombre_recovered    16193\n",
    "Name: 41, dtype: int64"
   ]
  },
  {
   "cell_type": "markdown",
   "id": "841ca8ac",
   "metadata": {},
   "source": [
    "nombre_infected      2857\n",
    "nombre_sain           255\n",
    "nombre_exposed        290\n",
    "nombre_recovered    16598\n",
    "Name: 42, dtype: int64"
   ]
  },
  {
   "cell_type": "markdown",
   "id": "ded75536",
   "metadata": {},
   "source": [
    "nombre_infected      2526\n",
    "nombre_sain           291\n",
    "nombre_exposed        251\n",
    "nombre_recovered    16932\n",
    "Name: 43, dtype: int64"
   ]
  },
  {
   "cell_type": "markdown",
   "id": "008b04af",
   "metadata": {},
   "source": [
    "nombre_infected      2256\n",
    "nombre_sain           313\n",
    "nombre_exposed        203\n",
    "nombre_recovered    17228\n",
    "Name: 44, dtype: int64"
   ]
  },
  {
   "cell_type": "markdown",
   "id": "a5445d6f",
   "metadata": {},
   "source": [
    "nombre_infected      1978\n",
    "nombre_sain           341\n",
    "nombre_exposed        199\n",
    "nombre_recovered    17482\n",
    "Name: 45, dtype: int64"
   ]
  },
  {
   "cell_type": "markdown",
   "id": "474fab97",
   "metadata": {},
   "source": [
    "nombre_infected      1742\n",
    "nombre_sain           382\n",
    "nombre_exposed        184\n",
    "nombre_recovered    17692\n",
    "Name: 46, dtype: int64"
   ]
  },
  {
   "cell_type": "markdown",
   "id": "3bb7f172",
   "metadata": {},
   "source": [
    "nombre_infected      1532\n",
    "nombre_sain           400\n",
    "nombre_exposed        166\n",
    "nombre_recovered    17902\n",
    "Name: 47, dtype: int64"
   ]
  },
  {
   "cell_type": "markdown",
   "id": "dbac637c",
   "metadata": {},
   "source": [
    "nombre_infected      1324\n",
    "nombre_sain           410\n",
    "nombre_exposed        172\n",
    "nombre_recovered    18094\n",
    "Name: 48, dtype: int64"
   ]
  },
  {
   "cell_type": "markdown",
   "id": "e0a55be8",
   "metadata": {},
   "source": [
    "nombre_infected      1156\n",
    "nombre_sain           446\n",
    "nombre_exposed        155\n",
    "nombre_recovered    18243\n",
    "Name: 49, dtype: int64"
   ]
  },
  {
   "cell_type": "markdown",
   "id": "b334d088",
   "metadata": {},
   "source": [
    "nombre_infected      1010\n",
    "nombre_sain           460\n",
    "nombre_exposed        147\n",
    "nombre_recovered    18383\n",
    "Name: 50, dtype: int64"
   ]
  },
  {
   "cell_type": "markdown",
   "id": "dbd1c8d6",
   "metadata": {},
   "source": [
    "nombre_infected       898\n",
    "nombre_sain           482\n",
    "nombre_exposed        144\n",
    "nombre_recovered    18476\n",
    "Name: 51, dtype: int64"
   ]
  },
  {
   "cell_type": "markdown",
   "id": "95174a97",
   "metadata": {},
   "source": [
    "nombre_infected       800\n",
    "nombre_sain           505\n",
    "nombre_exposed        129\n",
    "nombre_recovered    18566\n",
    "Name: 52, dtype: int64"
   ]
  },
  {
   "cell_type": "markdown",
   "id": "55051ef3",
   "metadata": {},
   "source": [
    "nombre_infected       705\n",
    "nombre_sain           540\n",
    "nombre_exposed        118\n",
    "nombre_recovered    18637\n",
    "Name: 53, dtype: int64"
   ]
  },
  {
   "cell_type": "markdown",
   "id": "4e6ae1bf",
   "metadata": {},
   "source": [
    "nombre_infected       634\n",
    "nombre_sain           559\n",
    "nombre_exposed        117\n",
    "nombre_recovered    18690\n",
    "Name: 54, dtype: int64"
   ]
  },
  {
   "cell_type": "markdown",
   "id": "64fe5f55",
   "metadata": {},
   "source": [
    "nombre_infected       552\n",
    "nombre_sain           593\n",
    "nombre_exposed        118\n",
    "nombre_recovered    18737\n",
    "Name: 55, dtype: int64"
   ]
  },
  {
   "cell_type": "markdown",
   "id": "d6b00e8a",
   "metadata": {},
   "source": [
    "nombre_infected       479\n",
    "nombre_sain           614\n",
    "nombre_exposed        118\n",
    "nombre_recovered    18789\n",
    "Name: 56, dtype: int64"
   ]
  },
  {
   "cell_type": "markdown",
   "id": "6a0df90b",
   "metadata": {},
   "source": [
    "nombre_infected       429\n",
    "nombre_sain           665\n",
    "nombre_exposed        103\n",
    "nombre_recovered    18803\n",
    "Name: 57, dtype: int64"
   ]
  },
  {
   "cell_type": "markdown",
   "id": "8cdf7361",
   "metadata": {},
   "source": [
    "nombre_infected       392\n",
    "nombre_sain           693\n",
    "nombre_exposed         92\n",
    "nombre_recovered    18823\n",
    "Name: 58, dtype: int64"
   ]
  },
  {
   "cell_type": "markdown",
   "id": "27a4abbd",
   "metadata": {},
   "source": [
    "nombre_infected       332\n",
    "nombre_sain           744\n",
    "nombre_exposed         90\n",
    "nombre_recovered    18834\n",
    "Name: 59, dtype: int64"
   ]
  },
  {
   "cell_type": "markdown",
   "id": "3d1ca6bb",
   "metadata": {},
   "source": [
    "nombre_infected       284\n",
    "nombre_sain           784\n",
    "nombre_exposed         84\n",
    "nombre_recovered    18848\n",
    "Name: 60, dtype: int64"
   ]
  },
  {
   "cell_type": "markdown",
   "id": "e340e544",
   "metadata": {},
   "source": [
    "nombre_infected       250\n",
    "nombre_sain           819\n",
    "nombre_exposed         75\n",
    "nombre_recovered    18856\n",
    "Name: 61, dtype: int64"
   ]
  },
  {
   "cell_type": "markdown",
   "id": "85985e69",
   "metadata": {},
   "source": [
    "nombre_infected       221\n",
    "nombre_sain           862\n",
    "nombre_exposed         71\n",
    "nombre_recovered    18846\n",
    "Name: 62, dtype: int64"
   ]
  },
  {
   "cell_type": "markdown",
   "id": "353bb068",
   "metadata": {},
   "source": [
    "nombre_infected       187\n",
    "nombre_sain           908\n",
    "nombre_exposed         57\n",
    "nombre_recovered    18848\n",
    "Name: 63, dtype: int64"
   ]
  },
  {
   "cell_type": "markdown",
   "id": "0290d0d4",
   "metadata": {},
   "source": [
    "nombre_infected       166\n",
    "nombre_sain           946\n",
    "nombre_exposed         48\n",
    "nombre_recovered    18840\n",
    "Name: 64, dtype: int64"
   ]
  },
  {
   "cell_type": "markdown",
   "id": "a963a601",
   "metadata": {},
   "source": [
    "nombre_infected       154\n",
    "nombre_sain           992\n",
    "nombre_exposed         46\n",
    "nombre_recovered    18808\n",
    "Name: 65, dtype: int64"
   ]
  },
  {
   "cell_type": "markdown",
   "id": "37efffac",
   "metadata": {},
   "source": [
    "nombre_infected       134\n",
    "nombre_sain          1032\n",
    "nombre_exposed         41\n",
    "nombre_recovered    18793\n",
    "Name: 66, dtype: int64"
   ]
  },
  {
   "cell_type": "markdown",
   "id": "7b9f7915",
   "metadata": {},
   "source": [
    "nombre_infected       119\n",
    "nombre_sain          1077\n",
    "nombre_exposed         31\n",
    "nombre_recovered    18773\n",
    "Name: 67, dtype: int64"
   ]
  },
  {
   "cell_type": "markdown",
   "id": "50fb33d4",
   "metadata": {},
   "source": [
    "nombre_infected       105\n",
    "nombre_sain          1116\n",
    "nombre_exposed         35\n",
    "nombre_recovered    18744\n",
    "Name: 68, dtype: int64"
   ]
  },
  {
   "cell_type": "markdown",
   "id": "782ce240",
   "metadata": {},
   "source": [
    "nombre_infected        92\n",
    "nombre_sain          1156\n",
    "nombre_exposed         34\n",
    "nombre_recovered    18718\n",
    "Name: 69, dtype: int64"
   ]
  },
  {
   "cell_type": "markdown",
   "id": "18cf3b5f",
   "metadata": {},
   "source": [
    "nombre_infected        83\n",
    "nombre_sain          1195\n",
    "nombre_exposed         29\n",
    "nombre_recovered    18693\n",
    "Name: 70, dtype: int64"
   ]
  },
  {
   "cell_type": "markdown",
   "id": "bf6a8621",
   "metadata": {},
   "source": [
    "nombre_infected        69\n",
    "nombre_sain          1253\n",
    "nombre_exposed         29\n",
    "nombre_recovered    18649\n",
    "Name: 71, dtype: int64"
   ]
  },
  {
   "cell_type": "markdown",
   "id": "d68d5109",
   "metadata": {},
   "source": [
    "nombre_infected        61\n",
    "nombre_sain          1308\n",
    "nombre_exposed         27\n",
    "nombre_recovered    18604\n",
    "Name: 72, dtype: int64"
   ]
  },
  {
   "cell_type": "markdown",
   "id": "f3b06328",
   "metadata": {},
   "source": [
    "nombre_infected        56\n",
    "nombre_sain          1365\n",
    "nombre_exposed         25\n",
    "nombre_recovered    18554\n",
    "Name: 73, dtype: int64"
   ]
  },
  {
   "cell_type": "markdown",
   "id": "09b0c343",
   "metadata": {},
   "source": [
    "nombre_infected        53\n",
    "nombre_sain          1421\n",
    "nombre_exposed         24\n",
    "nombre_recovered    18502\n",
    "Name: 74, dtype: int64"
   ]
  },
  {
   "cell_type": "markdown",
   "id": "1bfa701f",
   "metadata": {},
   "source": [
    "nombre_infected        52\n",
    "nombre_sain          1483\n",
    "nombre_exposed         18\n",
    "nombre_recovered    18447\n",
    "Name: 75, dtype: int64"
   ]
  },
  {
   "cell_type": "markdown",
   "id": "7ad2a9f9",
   "metadata": {},
   "source": [
    "nombre_infected        43\n",
    "nombre_sain          1547\n",
    "nombre_exposed         23\n",
    "nombre_recovered    18387\n",
    "Name: 76, dtype: int64"
   ]
  },
  {
   "cell_type": "markdown",
   "id": "88dab0cd",
   "metadata": {},
   "source": [
    "nombre_infected        34\n",
    "nombre_sain          1601\n",
    "nombre_exposed         22\n",
    "nombre_recovered    18343\n",
    "Name: 77, dtype: int64"
   ]
  },
  {
   "cell_type": "markdown",
   "id": "e209db0b",
   "metadata": {},
   "source": [
    "nombre_infected        34\n",
    "nombre_sain          1661\n",
    "nombre_exposed         19\n",
    "nombre_recovered    18286\n",
    "Name: 78, dtype: int64"
   ]
  },
  {
   "cell_type": "markdown",
   "id": "934c28e4",
   "metadata": {},
   "source": [
    "nombre_infected        35\n",
    "nombre_sain          1730\n",
    "nombre_exposed         16\n",
    "nombre_recovered    18219\n",
    "Name: 79, dtype: int64"
   ]
  },
  {
   "cell_type": "markdown",
   "id": "08cb3b51",
   "metadata": {},
   "source": [
    "nombre_infected        33\n",
    "nombre_sain          1791\n",
    "nombre_exposed          9\n",
    "nombre_recovered    18167\n",
    "Name: 80, dtype: int64"
   ]
  },
  {
   "cell_type": "markdown",
   "id": "4b31ff93",
   "metadata": {},
   "source": [
    "nombre_infected        28\n",
    "nombre_sain          1835\n",
    "nombre_exposed         10\n",
    "nombre_recovered    18127\n",
    "Name: 81, dtype: int64"
   ]
  },
  {
   "cell_type": "markdown",
   "id": "f4a55d18",
   "metadata": {},
   "source": [
    "nombre_infected        27\n",
    "nombre_sain          1886\n",
    "nombre_exposed         10\n",
    "nombre_recovered    18077\n",
    "Name: 82, dtype: int64"
   ]
  },
  {
   "cell_type": "markdown",
   "id": "42543ba1",
   "metadata": {},
   "source": [
    "nombre_infected        22\n",
    "nombre_sain          1914\n",
    "nombre_exposed         14\n",
    "nombre_recovered    18050\n",
    "Name: 83, dtype: int64"
   ]
  },
  {
   "cell_type": "markdown",
   "id": "c7ec7418",
   "metadata": {},
   "source": [
    "nombre_infected        18\n",
    "nombre_sain          1955\n",
    "nombre_exposed         11\n",
    "nombre_recovered    18016\n",
    "Name: 84, dtype: int64"
   ]
  },
  {
   "cell_type": "markdown",
   "id": "3da2be47",
   "metadata": {},
   "source": [
    "nombre_infected        17\n",
    "nombre_sain          1999\n",
    "nombre_exposed          6\n",
    "nombre_recovered    17978\n",
    "Name: 85, dtype: int64"
   ]
  },
  {
   "cell_type": "markdown",
   "id": "fe4a39e9",
   "metadata": {},
   "source": [
    "nombre_infected        14\n",
    "nombre_sain          2030\n",
    "nombre_exposed          8\n",
    "nombre_recovered    17948\n",
    "Name: 86, dtype: int64"
   ]
  },
  {
   "cell_type": "markdown",
   "id": "7a168f1f",
   "metadata": {},
   "source": [
    "nombre_infected        14\n",
    "nombre_sain          2062\n",
    "nombre_exposed         10\n",
    "nombre_recovered    17914\n",
    "Name: 87, dtype: int64"
   ]
  },
  {
   "cell_type": "markdown",
   "id": "092f9751",
   "metadata": {},
   "source": [
    "nombre_infected        12\n",
    "nombre_sain          2097\n",
    "nombre_exposed          9\n",
    "nombre_recovered    17882\n",
    "Name: 88, dtype: int64"
   ]
  },
  {
   "cell_type": "markdown",
   "id": "92bfafa5",
   "metadata": {},
   "source": [
    "nombre_infected        13\n",
    "nombre_sain          2149\n",
    "nombre_exposed          6\n",
    "nombre_recovered    17832\n",
    "Name: 89, dtype: int64"
   ]
  },
  {
   "cell_type": "markdown",
   "id": "6a9edc73",
   "metadata": {},
   "source": [
    "nombre_infected        14\n",
    "nombre_sain          2189\n",
    "nombre_exposed          8\n",
    "nombre_recovered    17789\n",
    "Name: 90, dtype: int64"
   ]
  },
  {
   "cell_type": "markdown",
   "id": "c9e2c97c",
   "metadata": {},
   "source": [
    "nombre_infected        14\n",
    "nombre_sain          2233\n",
    "nombre_exposed          7\n",
    "nombre_recovered    17746\n",
    "Name: 91, dtype: int64"
   ]
  },
  {
   "cell_type": "markdown",
   "id": "0fc440ba",
   "metadata": {},
   "source": [
    "nombre_infected        14\n",
    "nombre_sain          2271\n",
    "nombre_exposed          7\n",
    "nombre_recovered    17708\n",
    "Name: 92, dtype: int64"
   ]
  },
  {
   "cell_type": "markdown",
   "id": "24218319",
   "metadata": {},
   "source": [
    "nombre_infected        16\n",
    "nombre_sain          2325\n",
    "nombre_exposed          7\n",
    "nombre_recovered    17652\n",
    "Name: 93, dtype: int64"
   ]
  },
  {
   "cell_type": "markdown",
   "id": "ba0bc591",
   "metadata": {},
   "source": [
    "nombre_infected        13\n",
    "nombre_sain          2358\n",
    "nombre_exposed          7\n",
    "nombre_recovered    17622\n",
    "Name: 94, dtype: int64"
   ]
  },
  {
   "cell_type": "markdown",
   "id": "e46bfc28",
   "metadata": {},
   "source": [
    "nombre_infected        14\n",
    "nombre_sain          2412\n",
    "nombre_exposed          5\n",
    "nombre_recovered    17569\n",
    "Name: 95, dtype: int64"
   ]
  },
  {
   "cell_type": "markdown",
   "id": "80b544d4",
   "metadata": {},
   "source": [
    "nombre_infected        12\n",
    "nombre_sain          2458\n",
    "nombre_exposed          6\n",
    "nombre_recovered    17524\n",
    "Name: 96, dtype: int64"
   ]
  },
  {
   "cell_type": "markdown",
   "id": "b9492eef",
   "metadata": {},
   "source": [
    "nombre_infected        16\n",
    "nombre_sain          2499\n",
    "nombre_exposed          6\n",
    "nombre_recovered    17479\n",
    "Name: 97, dtype: int64"
   ]
  },
  {
   "cell_type": "markdown",
   "id": "1f586fc1",
   "metadata": {},
   "source": [
    "nombre_infected        15\n",
    "nombre_sain          2538\n",
    "nombre_exposed         12\n",
    "nombre_recovered    17435\n",
    "Name: 98, dtype: int64"
   ]
  },
  {
   "cell_type": "markdown",
   "id": "3f098105",
   "metadata": {},
   "source": [
    "nombre_infected        15\n",
    "nombre_sain          2582\n",
    "nombre_exposed         17\n",
    "nombre_recovered    17386\n",
    "Name: 99, dtype: int64"
   ]
  },
  {
   "cell_type": "markdown",
   "id": "f94d9f6f",
   "metadata": {},
   "source": [
    "nombre_infected        14\n",
    "nombre_sain          2629\n",
    "nombre_exposed         18\n",
    "nombre_recovered    17339\n",
    "Name: 100, dtype: int64"
   ]
  },
  {
   "cell_type": "markdown",
   "id": "a0321c49",
   "metadata": {},
   "source": [
    "nombre_infected        16\n",
    "nombre_sain          2668\n",
    "nombre_exposed         15\n",
    "nombre_recovered    17301\n",
    "Name: 101, dtype: int64"
   ]
  },
  {
   "cell_type": "markdown",
   "id": "b97e6c36",
   "metadata": {},
   "source": [
    "nombre_infected        16\n",
    "nombre_sain          2729\n",
    "nombre_exposed         15\n",
    "nombre_recovered    17240\n",
    "Name: 102, dtype: int64"
   ]
  },
  {
   "cell_type": "markdown",
   "id": "c188a855",
   "metadata": {},
   "source": [
    "nombre_infected        19\n",
    "nombre_sain          2793\n",
    "nombre_exposed         12\n",
    "nombre_recovered    17176\n",
    "Name: 103, dtype: int64"
   ]
  },
  {
   "cell_type": "markdown",
   "id": "cc975625",
   "metadata": {},
   "source": [
    "nombre_infected        19\n",
    "nombre_sain          2839\n",
    "nombre_exposed         10\n",
    "nombre_recovered    17132\n",
    "Name: 104, dtype: int64"
   ]
  },
  {
   "cell_type": "markdown",
   "id": "7707ca06",
   "metadata": {},
   "source": [
    "nombre_infected        19\n",
    "nombre_sain          2911\n",
    "nombre_exposed         11\n",
    "nombre_recovered    17059\n",
    "Name: 105, dtype: int64"
   ]
  },
  {
   "cell_type": "markdown",
   "id": "fcd16f4f",
   "metadata": {},
   "source": [
    "nombre_infected        18\n",
    "nombre_sain          2991\n",
    "nombre_exposed         15\n",
    "nombre_recovered    16976\n",
    "Name: 106, dtype: int64"
   ]
  },
  {
   "cell_type": "markdown",
   "id": "38cf4bed",
   "metadata": {},
   "source": [
    "nombre_infected        21\n",
    "nombre_sain          3067\n",
    "nombre_exposed         13\n",
    "nombre_recovered    16899\n",
    "Name: 107, dtype: int64"
   ]
  },
  {
   "cell_type": "markdown",
   "id": "a6eec826",
   "metadata": {},
   "source": [
    "nombre_infected        22\n",
    "nombre_sain          3130\n",
    "nombre_exposed         12\n",
    "nombre_recovered    16836\n",
    "Name: 108, dtype: int64"
   ]
  },
  {
   "cell_type": "markdown",
   "id": "d1bc6057",
   "metadata": {},
   "source": [
    "nombre_infected        20\n",
    "nombre_sain          3207\n",
    "nombre_exposed          9\n",
    "nombre_recovered    16764\n",
    "Name: 109, dtype: int64"
   ]
  },
  {
   "cell_type": "markdown",
   "id": "32bb7f73",
   "metadata": {},
   "source": [
    "nombre_infected        18\n",
    "nombre_sain          3294\n",
    "nombre_exposed         10\n",
    "nombre_recovered    16678\n",
    "Name: 110, dtype: int64"
   ]
  },
  {
   "cell_type": "markdown",
   "id": "b04b9bf0",
   "metadata": {},
   "source": [
    "nombre_infected        16\n",
    "nombre_sain          3383\n",
    "nombre_exposed         12\n",
    "nombre_recovered    16589\n",
    "Name: 111, dtype: int64"
   ]
  },
  {
   "cell_type": "markdown",
   "id": "3fab1650",
   "metadata": {},
   "source": [
    "nombre_infected        17\n",
    "nombre_sain          3455\n",
    "nombre_exposed         14\n",
    "nombre_recovered    16514\n",
    "Name: 112, dtype: int64"
   ]
  },
  {
   "cell_type": "markdown",
   "id": "3ebec241",
   "metadata": {},
   "source": [
    "nombre_infected        19\n",
    "nombre_sain          3548\n",
    "nombre_exposed         16\n",
    "nombre_recovered    16417\n",
    "Name: 113, dtype: int64"
   ]
  },
  {
   "cell_type": "markdown",
   "id": "576a6417",
   "metadata": {},
   "source": [
    "nombre_infected        18\n",
    "nombre_sain          3619\n",
    "nombre_exposed         19\n",
    "nombre_recovered    16344\n",
    "Name: 114, dtype: int64"
   ]
  },
  {
   "cell_type": "markdown",
   "id": "6f2d7288",
   "metadata": {},
   "source": [
    "nombre_infected        21\n",
    "nombre_sain          3689\n",
    "nombre_exposed         18\n",
    "nombre_recovered    16272\n",
    "Name: 115, dtype: int64"
   ]
  },
  {
   "cell_type": "markdown",
   "id": "a82dab28",
   "metadata": {},
   "source": [
    "nombre_infected        23\n",
    "nombre_sain          3758\n",
    "nombre_exposed         20\n",
    "nombre_recovered    16199\n",
    "Name: 116, dtype: int64"
   ]
  },
  {
   "cell_type": "markdown",
   "id": "2d300402",
   "metadata": {},
   "source": [
    "nombre_infected        18\n",
    "nombre_sain          3817\n",
    "nombre_exposed         27\n",
    "nombre_recovered    16138\n",
    "Name: 117, dtype: int64"
   ]
  },
  {
   "cell_type": "markdown",
   "id": "6e0e7cf3",
   "metadata": {},
   "source": [
    "nombre_infected        25\n",
    "nombre_sain          3883\n",
    "nombre_exposed         25\n",
    "nombre_recovered    16067\n",
    "Name: 118, dtype: int64"
   ]
  },
  {
   "cell_type": "markdown",
   "id": "f9428fd9",
   "metadata": {},
   "source": [
    "nombre_infected        28\n",
    "nombre_sain          3939\n",
    "nombre_exposed         26\n",
    "nombre_recovered    16007\n",
    "Name: 119, dtype: int64"
   ]
  },
  {
   "cell_type": "markdown",
   "id": "6fe6aa35",
   "metadata": {},
   "source": [
    "nombre_infected        32\n",
    "nombre_sain          3996\n",
    "nombre_exposed         30\n",
    "nombre_recovered    15942\n",
    "Name: 120, dtype: int64"
   ]
  },
  {
   "cell_type": "markdown",
   "id": "c760a89e",
   "metadata": {},
   "source": [
    "nombre_infected        29\n",
    "nombre_sain          4037\n",
    "nombre_exposed         36\n",
    "nombre_recovered    15898\n",
    "Name: 121, dtype: int64"
   ]
  },
  {
   "cell_type": "markdown",
   "id": "d5043f27",
   "metadata": {},
   "source": [
    "nombre_infected        32\n",
    "nombre_sain          4077\n",
    "nombre_exposed         33\n",
    "nombre_recovered    15858\n",
    "Name: 122, dtype: int64"
   ]
  },
  {
   "cell_type": "markdown",
   "id": "310b616f",
   "metadata": {},
   "source": [
    "nombre_infected        36\n",
    "nombre_sain          4109\n",
    "nombre_exposed         34\n",
    "nombre_recovered    15821\n",
    "Name: 123, dtype: int64"
   ]
  },
  {
   "cell_type": "markdown",
   "id": "3e48e51a",
   "metadata": {},
   "source": [
    "nombre_infected        42\n",
    "nombre_sain          4126\n",
    "nombre_exposed         41\n",
    "nombre_recovered    15791\n",
    "Name: 124, dtype: int64"
   ]
  },
  {
   "cell_type": "markdown",
   "id": "363e8bb7",
   "metadata": {},
   "source": [
    "nombre_infected        45\n",
    "nombre_sain          4157\n",
    "nombre_exposed         40\n",
    "nombre_recovered    15758\n",
    "Name: 125, dtype: int64"
   ]
  },
  {
   "cell_type": "markdown",
   "id": "b550ff5f",
   "metadata": {},
   "source": [
    "nombre_infected        46\n",
    "nombre_sain          4190\n",
    "nombre_exposed         42\n",
    "nombre_recovered    15722\n",
    "Name: 126, dtype: int64"
   ]
  },
  {
   "cell_type": "markdown",
   "id": "077ab998",
   "metadata": {},
   "source": [
    "nombre_infected        52\n",
    "nombre_sain          4222\n",
    "nombre_exposed         44\n",
    "nombre_recovered    15682\n",
    "Name: 127, dtype: int64"
   ]
  },
  {
   "cell_type": "markdown",
   "id": "bbbeda18",
   "metadata": {},
   "source": [
    "nombre_infected        53\n",
    "nombre_sain          4251\n",
    "nombre_exposed         50\n",
    "nombre_recovered    15646\n",
    "Name: 128, dtype: int64"
   ]
  },
  {
   "cell_type": "markdown",
   "id": "0e718014",
   "metadata": {},
   "source": [
    "nombre_infected        56\n",
    "nombre_sain          4268\n",
    "nombre_exposed         55\n",
    "nombre_recovered    15621\n",
    "Name: 129, dtype: int64"
   ]
  },
  {
   "cell_type": "markdown",
   "id": "8d8963f2",
   "metadata": {},
   "source": [
    "nombre_infected        58\n",
    "nombre_sain          4298\n",
    "nombre_exposed         60\n",
    "nombre_recovered    15584\n",
    "Name: 130, dtype: int64"
   ]
  },
  {
   "cell_type": "markdown",
   "id": "c3c1aec8",
   "metadata": {},
   "source": [
    "nombre_infected        57\n",
    "nombre_sain          4332\n",
    "nombre_exposed         74\n",
    "nombre_recovered    15537\n",
    "Name: 131, dtype: int64"
   ]
  },
  {
   "cell_type": "markdown",
   "id": "471a0d0c",
   "metadata": {},
   "source": [
    "nombre_infected        67\n",
    "nombre_sain          4351\n",
    "nombre_exposed         72\n",
    "nombre_recovered    15510\n",
    "Name: 132, dtype: int64"
   ]
  },
  {
   "cell_type": "markdown",
   "id": "c926fec0",
   "metadata": {},
   "source": [
    "nombre_infected        76\n",
    "nombre_sain          4377\n",
    "nombre_exposed         76\n",
    "nombre_recovered    15471\n",
    "Name: 133, dtype: int64"
   ]
  },
  {
   "cell_type": "markdown",
   "id": "f6d93c91",
   "metadata": {},
   "source": [
    "nombre_infected        86\n",
    "nombre_sain          4387\n",
    "nombre_exposed         75\n",
    "nombre_recovered    15452\n",
    "Name: 134, dtype: int64"
   ]
  },
  {
   "cell_type": "markdown",
   "id": "ef88f005",
   "metadata": {},
   "source": [
    "nombre_infected        86\n",
    "nombre_sain          4400\n",
    "nombre_exposed         96\n",
    "nombre_recovered    15418\n",
    "Name: 135, dtype: int64"
   ]
  },
  {
   "cell_type": "markdown",
   "id": "3a074022",
   "metadata": {},
   "source": [
    "nombre_infected        92\n",
    "nombre_sain          4432\n",
    "nombre_exposed         97\n",
    "nombre_recovered    15379\n",
    "Name: 136, dtype: int64"
   ]
  },
  {
   "cell_type": "markdown",
   "id": "e902b54a",
   "metadata": {},
   "source": [
    "nombre_infected       104\n",
    "nombre_sain          4455\n",
    "nombre_exposed        110\n",
    "nombre_recovered    15331\n",
    "Name: 137, dtype: int64"
   ]
  },
  {
   "cell_type": "markdown",
   "id": "105c0e9e",
   "metadata": {},
   "source": [
    "nombre_infected       118\n",
    "nombre_sain          4463\n",
    "nombre_exposed        120\n",
    "nombre_recovered    15299\n",
    "Name: 138, dtype: int64"
   ]
  },
  {
   "cell_type": "markdown",
   "id": "afc56631",
   "metadata": {},
   "source": [
    "nombre_infected       140\n",
    "nombre_sain          4471\n",
    "nombre_exposed        121\n",
    "nombre_recovered    15268\n",
    "Name: 139, dtype: int64"
   ]
  },
  {
   "cell_type": "markdown",
   "id": "21d95139",
   "metadata": {},
   "source": [
    "nombre_infected       157\n",
    "nombre_sain          4478\n",
    "nombre_exposed        122\n",
    "nombre_recovered    15243\n",
    "Name: 140, dtype: int64"
   ]
  },
  {
   "cell_type": "markdown",
   "id": "9e9cff0f",
   "metadata": {},
   "source": [
    "nombre_infected       154\n",
    "nombre_sain          4501\n",
    "nombre_exposed        135\n",
    "nombre_recovered    15210\n",
    "Name: 141, dtype: int64"
   ]
  },
  {
   "cell_type": "markdown",
   "id": "78ea2fb0",
   "metadata": {},
   "source": [
    "nombre_infected       166\n",
    "nombre_sain          4515\n",
    "nombre_exposed        141\n",
    "nombre_recovered    15178\n",
    "Name: 142, dtype: int64"
   ]
  },
  {
   "cell_type": "markdown",
   "id": "526f5668",
   "metadata": {},
   "source": [
    "nombre_infected       178\n",
    "nombre_sain          4507\n",
    "nombre_exposed        164\n",
    "nombre_recovered    15151\n",
    "Name: 143, dtype: int64"
   ]
  },
  {
   "cell_type": "markdown",
   "id": "86dac1ec",
   "metadata": {},
   "source": [
    "nombre_infected       186\n",
    "nombre_sain          4487\n",
    "nombre_exposed        181\n",
    "nombre_recovered    15146\n",
    "Name: 144, dtype: int64"
   ]
  },
  {
   "cell_type": "markdown",
   "id": "8c38617e",
   "metadata": {},
   "source": [
    "nombre_infected       200\n",
    "nombre_sain          4483\n",
    "nombre_exposed        184\n",
    "nombre_recovered    15133\n",
    "Name: 145, dtype: int64"
   ]
  },
  {
   "cell_type": "markdown",
   "id": "94561ad8",
   "metadata": {},
   "source": [
    "nombre_infected       202\n",
    "nombre_sain          4466\n",
    "nombre_exposed        201\n",
    "nombre_recovered    15131\n",
    "Name: 146, dtype: int64"
   ]
  },
  {
   "cell_type": "markdown",
   "id": "242d4747",
   "metadata": {},
   "source": [
    "nombre_infected       213\n",
    "nombre_sain          4454\n",
    "nombre_exposed        207\n",
    "nombre_recovered    15126\n",
    "Name: 147, dtype: int64"
   ]
  },
  {
   "cell_type": "markdown",
   "id": "e2cdfdde",
   "metadata": {},
   "source": [
    "nombre_infected       242\n",
    "nombre_sain          4430\n",
    "nombre_exposed        218\n",
    "nombre_recovered    15110\n",
    "Name: 148, dtype: int64"
   ]
  },
  {
   "cell_type": "markdown",
   "id": "db12038c",
   "metadata": {},
   "source": [
    "nombre_infected       259\n",
    "nombre_sain          4412\n",
    "nombre_exposed        212\n",
    "nombre_recovered    15117\n",
    "Name: 149, dtype: int64"
   ]
  },
  {
   "cell_type": "markdown",
   "id": "03430e51",
   "metadata": {},
   "source": [
    "nombre_infected       270\n",
    "nombre_sain          4367\n",
    "nombre_exposed        254\n",
    "nombre_recovered    15109\n",
    "Name: 150, dtype: int64"
   ]
  },
  {
   "cell_type": "markdown",
   "id": "9e55c032",
   "metadata": {},
   "source": [
    "nombre_infected       285\n",
    "nombre_sain          4328\n",
    "nombre_exposed        285\n",
    "nombre_recovered    15102\n",
    "Name: 151, dtype: int64"
   ]
  },
  {
   "cell_type": "markdown",
   "id": "13570354",
   "metadata": {},
   "source": [
    "nombre_infected       303\n",
    "nombre_sain          4289\n",
    "nombre_exposed        306\n",
    "nombre_recovered    15102\n",
    "Name: 152, dtype: int64"
   ]
  },
  {
   "cell_type": "markdown",
   "id": "f07eb62b",
   "metadata": {},
   "source": [
    "nombre_infected       327\n",
    "nombre_sain          4262\n",
    "nombre_exposed        326\n",
    "nombre_recovered    15085\n",
    "Name: 153, dtype: int64"
   ]
  },
  {
   "cell_type": "markdown",
   "id": "19fc29a8",
   "metadata": {},
   "source": [
    "nombre_infected       355\n",
    "nombre_sain          4221\n",
    "nombre_exposed        341\n",
    "nombre_recovered    15083\n",
    "Name: 154, dtype: int64"
   ]
  },
  {
   "cell_type": "markdown",
   "id": "a1186d80",
   "metadata": {},
   "source": [
    "nombre_infected       384\n",
    "nombre_sain          4172\n",
    "nombre_exposed        356\n",
    "nombre_recovered    15088\n",
    "Name: 155, dtype: int64"
   ]
  },
  {
   "cell_type": "markdown",
   "id": "81396c33",
   "metadata": {},
   "source": [
    "nombre_infected       418\n",
    "nombre_sain          4095\n",
    "nombre_exposed        394\n",
    "nombre_recovered    15093\n",
    "Name: 156, dtype: int64"
   ]
  },
  {
   "cell_type": "markdown",
   "id": "e573df24",
   "metadata": {},
   "source": [
    "nombre_infected       459\n",
    "nombre_sain          4034\n",
    "nombre_exposed        416\n",
    "nombre_recovered    15091\n",
    "Name: 157, dtype: int64"
   ]
  },
  {
   "cell_type": "markdown",
   "id": "187f2d28",
   "metadata": {},
   "source": [
    "nombre_infected       491\n",
    "nombre_sain          3963\n",
    "nombre_exposed        439\n",
    "nombre_recovered    15107\n",
    "Name: 158, dtype: int64"
   ]
  },
  {
   "cell_type": "markdown",
   "id": "9158e26a",
   "metadata": {},
   "source": [
    "nombre_infected       539\n",
    "nombre_sain          3874\n",
    "nombre_exposed        468\n",
    "nombre_recovered    15119\n",
    "Name: 159, dtype: int64"
   ]
  },
  {
   "cell_type": "markdown",
   "id": "92306840",
   "metadata": {},
   "source": [
    "nombre_infected       568\n",
    "nombre_sain          3780\n",
    "nombre_exposed        514\n",
    "nombre_recovered    15138\n",
    "Name: 160, dtype: int64"
   ]
  },
  {
   "cell_type": "markdown",
   "id": "6fa2df6a",
   "metadata": {},
   "source": [
    "nombre_infected       615\n",
    "nombre_sain          3697\n",
    "nombre_exposed        538\n",
    "nombre_recovered    15150\n",
    "Name: 161, dtype: int64"
   ]
  },
  {
   "cell_type": "markdown",
   "id": "f65bd398",
   "metadata": {},
   "source": [
    "nombre_infected       652\n",
    "nombre_sain          3601\n",
    "nombre_exposed        569\n",
    "nombre_recovered    15178\n",
    "Name: 162, dtype: int64"
   ]
  },
  {
   "cell_type": "markdown",
   "id": "6cae85c1",
   "metadata": {},
   "source": [
    "nombre_infected       690\n",
    "nombre_sain          3496\n",
    "nombre_exposed        592\n",
    "nombre_recovered    15222\n",
    "Name: 163, dtype: int64"
   ]
  },
  {
   "cell_type": "markdown",
   "id": "5736b4a8",
   "metadata": {},
   "source": [
    "nombre_infected       733\n",
    "nombre_sain          3407\n",
    "nombre_exposed        635\n",
    "nombre_recovered    15225\n",
    "Name: 164, dtype: int64"
   ]
  },
  {
   "cell_type": "markdown",
   "id": "24025ba7",
   "metadata": {},
   "source": [
    "nombre_infected       782\n",
    "nombre_sain          3337\n",
    "nombre_exposed        622\n",
    "nombre_recovered    15259\n",
    "Name: 165, dtype: int64"
   ]
  },
  {
   "cell_type": "markdown",
   "id": "1ec4104a",
   "metadata": {},
   "source": [
    "nombre_infected       821\n",
    "nombre_sain          3230\n",
    "nombre_exposed        654\n",
    "nombre_recovered    15295\n",
    "Name: 166, dtype: int64"
   ]
  },
  {
   "cell_type": "markdown",
   "id": "801ad703",
   "metadata": {},
   "source": [
    "nombre_infected       853\n",
    "nombre_sain          3092\n",
    "nombre_exposed        700\n",
    "nombre_recovered    15355\n",
    "Name: 167, dtype: int64"
   ]
  },
  {
   "cell_type": "markdown",
   "id": "7573fec5",
   "metadata": {},
   "source": [
    "nombre_infected       906\n",
    "nombre_sain          2973\n",
    "nombre_exposed        723\n",
    "nombre_recovered    15398\n",
    "Name: 168, dtype: int64"
   ]
  },
  {
   "cell_type": "markdown",
   "id": "0ee7a820",
   "metadata": {},
   "source": [
    "nombre_infected       979\n",
    "nombre_sain          2868\n",
    "nombre_exposed        722\n",
    "nombre_recovered    15431\n",
    "Name: 169, dtype: int64"
   ]
  },
  {
   "cell_type": "markdown",
   "id": "188b2619",
   "metadata": {},
   "source": [
    "nombre_infected      1022\n",
    "nombre_sain          2741\n",
    "nombre_exposed        750\n",
    "nombre_recovered    15487\n",
    "Name: 170, dtype: int64"
   ]
  },
  {
   "cell_type": "markdown",
   "id": "beba7ba9",
   "metadata": {},
   "source": [
    "nombre_infected      1079\n",
    "nombre_sain          2626\n",
    "nombre_exposed        750\n",
    "nombre_recovered    15545\n",
    "Name: 171, dtype: int64"
   ]
  },
  {
   "cell_type": "markdown",
   "id": "3c71e559",
   "metadata": {},
   "source": [
    "nombre_infected      1138\n",
    "nombre_sain          2535\n",
    "nombre_exposed        730\n",
    "nombre_recovered    15597\n",
    "Name: 172, dtype: int64"
   ]
  },
  {
   "cell_type": "markdown",
   "id": "ea6b609f",
   "metadata": {},
   "source": [
    "nombre_infected      1169\n",
    "nombre_sain          2420\n",
    "nombre_exposed        741\n",
    "nombre_recovered    15670\n",
    "Name: 173, dtype: int64"
   ]
  },
  {
   "cell_type": "markdown",
   "id": "6a923acb",
   "metadata": {},
   "source": [
    "nombre_infected      1192\n",
    "nombre_sain          2340\n",
    "nombre_exposed        725\n",
    "nombre_recovered    15743\n",
    "Name: 174, dtype: int64"
   ]
  },
  {
   "cell_type": "markdown",
   "id": "e64b354a",
   "metadata": {},
   "source": [
    "nombre_infected      1193\n",
    "nombre_sain          2251\n",
    "nombre_exposed        715\n",
    "nombre_recovered    15841\n",
    "Name: 175, dtype: int64"
   ]
  },
  {
   "cell_type": "markdown",
   "id": "6d9d1402",
   "metadata": {},
   "source": [
    "nombre_infected      1184\n",
    "nombre_sain          2179\n",
    "nombre_exposed        706\n",
    "nombre_recovered    15931\n",
    "Name: 176, dtype: int64"
   ]
  },
  {
   "cell_type": "markdown",
   "id": "6a774660",
   "metadata": {},
   "source": [
    "nombre_infected      1208\n",
    "nombre_sain          2118\n",
    "nombre_exposed        663\n",
    "nombre_recovered    16011\n",
    "Name: 177, dtype: int64"
   ]
  },
  {
   "cell_type": "markdown",
   "id": "a0bc58d3",
   "metadata": {},
   "source": [
    "nombre_infected      1174\n",
    "nombre_sain          2036\n",
    "nombre_exposed        687\n",
    "nombre_recovered    16103\n",
    "Name: 178, dtype: int64"
   ]
  },
  {
   "cell_type": "markdown",
   "id": "d1722d42",
   "metadata": {},
   "source": [
    "nombre_infected      1156\n",
    "nombre_sain          1968\n",
    "nombre_exposed        697\n",
    "nombre_recovered    16179\n",
    "Name: 179, dtype: int64"
   ]
  },
  {
   "cell_type": "markdown",
   "id": "7b663864",
   "metadata": {},
   "source": [
    "nombre_infected      1161\n",
    "nombre_sain          1901\n",
    "nombre_exposed        678\n",
    "nombre_recovered    16260\n",
    "Name: 180, dtype: int64"
   ]
  },
  {
   "cell_type": "markdown",
   "id": "96134759",
   "metadata": {},
   "source": [
    "nombre_infected      1159\n",
    "nombre_sain          1848\n",
    "nombre_exposed        663\n",
    "nombre_recovered    16330\n",
    "Name: 181, dtype: int64"
   ]
  },
  {
   "cell_type": "markdown",
   "id": "05097083",
   "metadata": {},
   "source": [
    "nombre_infected      1136\n",
    "nombre_sain          1795\n",
    "nombre_exposed        649\n",
    "nombre_recovered    16420\n",
    "Name: 182, dtype: int64"
   ]
  },
  {
   "cell_type": "markdown",
   "id": "4840efdc",
   "metadata": {},
   "source": [
    "nombre_infected      1131\n",
    "nombre_sain          1758\n",
    "nombre_exposed        631\n",
    "nombre_recovered    16480\n",
    "Name: 183, dtype: int64"
   ]
  },
  {
   "cell_type": "markdown",
   "id": "4d10c02a",
   "metadata": {},
   "source": [
    "nombre_infected      1125\n",
    "nombre_sain          1748\n",
    "nombre_exposed        594\n",
    "nombre_recovered    16533\n",
    "Name: 184, dtype: int64"
   ]
  },
  {
   "cell_type": "markdown",
   "id": "86a77240",
   "metadata": {},
   "source": [
    "nombre_infected      1104\n",
    "nombre_sain          1699\n",
    "nombre_exposed        584\n",
    "nombre_recovered    16613\n",
    "Name: 185, dtype: int64"
   ]
  },
  {
   "cell_type": "markdown",
   "id": "473b594e",
   "metadata": {},
   "source": [
    "nombre_infected      1075\n",
    "nombre_sain          1666\n",
    "nombre_exposed        576\n",
    "nombre_recovered    16683\n",
    "Name: 186, dtype: int64"
   ]
  },
  {
   "cell_type": "markdown",
   "id": "3c46dad2",
   "metadata": {},
   "source": [
    "nombre_infected      1031\n",
    "nombre_sain          1643\n",
    "nombre_exposed        551\n",
    "nombre_recovered    16775\n",
    "Name: 187, dtype: int64"
   ]
  },
  {
   "cell_type": "markdown",
   "id": "f1465a3e",
   "metadata": {},
   "source": [
    "nombre_infected       995\n",
    "nombre_sain          1644\n",
    "nombre_exposed        537\n",
    "nombre_recovered    16824\n",
    "Name: 188, dtype: int64"
   ]
  },
  {
   "cell_type": "markdown",
   "id": "e5cd2d8a",
   "metadata": {},
   "source": [
    "nombre_infected       955\n",
    "nombre_sain          1609\n",
    "nombre_exposed        532\n",
    "nombre_recovered    16904\n",
    "Name: 189, dtype: int64"
   ]
  },
  {
   "cell_type": "markdown",
   "id": "1b863dc1",
   "metadata": {},
   "source": [
    "nombre_infected       943\n",
    "nombre_sain          1586\n",
    "nombre_exposed        509\n",
    "nombre_recovered    16962\n",
    "Name: 190, dtype: int64"
   ]
  },
  {
   "cell_type": "markdown",
   "id": "40ce3128",
   "metadata": {},
   "source": [
    "nombre_infected       908\n",
    "nombre_sain          1604\n",
    "nombre_exposed        490\n",
    "nombre_recovered    16998\n",
    "Name: 191, dtype: int64"
   ]
  },
  {
   "cell_type": "markdown",
   "id": "d4d8b573",
   "metadata": {},
   "source": [
    "nombre_infected       887\n",
    "nombre_sain          1598\n",
    "nombre_exposed        471\n",
    "nombre_recovered    17044\n",
    "Name: 192, dtype: int64"
   ]
  },
  {
   "cell_type": "markdown",
   "id": "966c5173",
   "metadata": {},
   "source": [
    "nombre_infected       852\n",
    "nombre_sain          1601\n",
    "nombre_exposed        460\n",
    "nombre_recovered    17087\n",
    "Name: 193, dtype: int64"
   ]
  },
  {
   "cell_type": "markdown",
   "id": "da1af644",
   "metadata": {},
   "source": [
    "nombre_infected       837\n",
    "nombre_sain          1630\n",
    "nombre_exposed        442\n",
    "nombre_recovered    17091\n",
    "Name: 194, dtype: int64"
   ]
  },
  {
   "cell_type": "markdown",
   "id": "74df909a",
   "metadata": {},
   "source": [
    "nombre_infected       817\n",
    "nombre_sain          1647\n",
    "nombre_exposed        431\n",
    "nombre_recovered    17105\n",
    "Name: 195, dtype: int64"
   ]
  },
  {
   "cell_type": "markdown",
   "id": "b3166dee",
   "metadata": {},
   "source": [
    "nombre_infected       784\n",
    "nombre_sain          1652\n",
    "nombre_exposed        429\n",
    "nombre_recovered    17135\n",
    "Name: 196, dtype: int64"
   ]
  },
  {
   "cell_type": "markdown",
   "id": "34078676",
   "metadata": {},
   "source": [
    "nombre_infected       747\n",
    "nombre_sain          1696\n",
    "nombre_exposed        421\n",
    "nombre_recovered    17136\n",
    "Name: 197, dtype: int64"
   ]
  },
  {
   "cell_type": "markdown",
   "id": "59b101cb",
   "metadata": {},
   "source": [
    "nombre_infected       744\n",
    "nombre_sain          1722\n",
    "nombre_exposed        398\n",
    "nombre_recovered    17136\n",
    "Name: 198, dtype: int64"
   ]
  },
  {
   "cell_type": "markdown",
   "id": "955d8b61",
   "metadata": {},
   "source": [
    "nombre_infected       712\n",
    "nombre_sain          1757\n",
    "nombre_exposed        387\n",
    "nombre_recovered    17144\n",
    "Name: 199, dtype: int64"
   ]
  },
  {
   "cell_type": "markdown",
   "id": "818a660b",
   "metadata": {},
   "source": [
    "nombre_infected       673\n",
    "nombre_sain          1790\n",
    "nombre_exposed        390\n",
    "nombre_recovered    17147\n",
    "Name: 200, dtype: int64"
   ]
  },
  {
   "cell_type": "markdown",
   "id": "46df4f8e",
   "metadata": {},
   "source": [
    "nombre_infected       662\n",
    "nombre_sain          1827\n",
    "nombre_exposed        377\n",
    "nombre_recovered    17134\n",
    "Name: 201, dtype: int64"
   ]
  },
  {
   "cell_type": "markdown",
   "id": "a0d2384a",
   "metadata": {},
   "source": [
    "nombre_infected       633\n",
    "nombre_sain          1869\n",
    "nombre_exposed        363\n",
    "nombre_recovered    17135\n",
    "Name: 202, dtype: int64"
   ]
  },
  {
   "cell_type": "markdown",
   "id": "fdb131f9",
   "metadata": {},
   "source": [
    "nombre_infected       625\n",
    "nombre_sain          1893\n",
    "nombre_exposed        361\n",
    "nombre_recovered    17121\n",
    "Name: 203, dtype: int64"
   ]
  },
  {
   "cell_type": "markdown",
   "id": "1986237a",
   "metadata": {},
   "source": [
    "nombre_infected       609\n",
    "nombre_sain          1912\n",
    "nombre_exposed        374\n",
    "nombre_recovered    17105\n",
    "Name: 204, dtype: int64"
   ]
  },
  {
   "cell_type": "markdown",
   "id": "83b8f8e8",
   "metadata": {},
   "source": [
    "nombre_infected       598\n",
    "nombre_sain          1945\n",
    "nombre_exposed        361\n",
    "nombre_recovered    17096\n",
    "Name: 205, dtype: int64"
   ]
  },
  {
   "cell_type": "markdown",
   "id": "143b7804",
   "metadata": {},
   "source": [
    "nombre_infected       595\n",
    "nombre_sain          1996\n",
    "nombre_exposed        357\n",
    "nombre_recovered    17052\n",
    "Name: 206, dtype: int64"
   ]
  },
  {
   "cell_type": "markdown",
   "id": "7d7e8a0b",
   "metadata": {},
   "source": [
    "nombre_infected       584\n",
    "nombre_sain          2021\n",
    "nombre_exposed        362\n",
    "nombre_recovered    17033\n",
    "Name: 207, dtype: int64"
   ]
  },
  {
   "cell_type": "markdown",
   "id": "a25a3f44",
   "metadata": {},
   "source": [
    "nombre_infected       581\n",
    "nombre_sain          2024\n",
    "nombre_exposed        349\n",
    "nombre_recovered    17046\n",
    "Name: 208, dtype: int64"
   ]
  },
  {
   "cell_type": "markdown",
   "id": "2abdea54",
   "metadata": {},
   "source": [
    "nombre_infected       570\n",
    "nombre_sain          2055\n",
    "nombre_exposed        340\n",
    "nombre_recovered    17035\n",
    "Name: 209, dtype: int64"
   ]
  },
  {
   "cell_type": "markdown",
   "id": "15c28d16",
   "metadata": {},
   "source": [
    "nombre_infected       565\n",
    "nombre_sain          2078\n",
    "nombre_exposed        335\n",
    "nombre_recovered    17022\n",
    "Name: 210, dtype: int64"
   ]
  },
  {
   "cell_type": "markdown",
   "id": "f4e163bd",
   "metadata": {},
   "source": [
    "nombre_infected       571\n",
    "nombre_sain          2093\n",
    "nombre_exposed        335\n",
    "nombre_recovered    17001\n",
    "Name: 211, dtype: int64"
   ]
  },
  {
   "cell_type": "markdown",
   "id": "5d74ff38",
   "metadata": {},
   "source": [
    "nombre_infected       546\n",
    "nombre_sain          2115\n",
    "nombre_exposed        358\n",
    "nombre_recovered    16981\n",
    "Name: 212, dtype: int64"
   ]
  },
  {
   "cell_type": "markdown",
   "id": "b9569c5c",
   "metadata": {},
   "source": [
    "nombre_infected       542\n",
    "nombre_sain          2135\n",
    "nombre_exposed        369\n",
    "nombre_recovered    16954\n",
    "Name: 213, dtype: int64"
   ]
  },
  {
   "cell_type": "markdown",
   "id": "d4835ccf",
   "metadata": {},
   "source": [
    "nombre_infected       557\n",
    "nombre_sain          2160\n",
    "nombre_exposed        364\n",
    "nombre_recovered    16919\n",
    "Name: 214, dtype: int64"
   ]
  },
  {
   "cell_type": "markdown",
   "id": "2175d9d8",
   "metadata": {},
   "source": [
    "nombre_infected       564\n",
    "nombre_sain          2198\n",
    "nombre_exposed        355\n",
    "nombre_recovered    16883\n",
    "Name: 215, dtype: int64"
   ]
  },
  {
   "cell_type": "markdown",
   "id": "b9e42d95",
   "metadata": {},
   "source": [
    "nombre_infected       561\n",
    "nombre_sain          2223\n",
    "nombre_exposed        354\n",
    "nombre_recovered    16862\n",
    "Name: 216, dtype: int64"
   ]
  },
  {
   "cell_type": "markdown",
   "id": "8fe1e82f",
   "metadata": {},
   "source": [
    "nombre_infected       563\n",
    "nombre_sain          2250\n",
    "nombre_exposed        360\n",
    "nombre_recovered    16827\n",
    "Name: 217, dtype: int64"
   ]
  },
  {
   "cell_type": "markdown",
   "id": "135ee88d",
   "metadata": {},
   "source": [
    "nombre_infected       559\n",
    "nombre_sain          2283\n",
    "nombre_exposed        356\n",
    "nombre_recovered    16802\n",
    "Name: 218, dtype: int64"
   ]
  },
  {
   "cell_type": "markdown",
   "id": "b5211e72",
   "metadata": {},
   "source": [
    "nombre_infected       556\n",
    "nombre_sain          2313\n",
    "nombre_exposed        384\n",
    "nombre_recovered    16747\n",
    "Name: 219, dtype: int64"
   ]
  },
  {
   "cell_type": "markdown",
   "id": "37c428e7",
   "metadata": {},
   "source": [
    "nombre_infected       554\n",
    "nombre_sain          2306\n",
    "nombre_exposed        399\n",
    "nombre_recovered    16741\n",
    "Name: 220, dtype: int64"
   ]
  },
  {
   "cell_type": "markdown",
   "id": "ecaebaf6",
   "metadata": {},
   "source": [
    "nombre_infected       551\n",
    "nombre_sain          2305\n",
    "nombre_exposed        407\n",
    "nombre_recovered    16737\n",
    "Name: 221, dtype: int64"
   ]
  },
  {
   "cell_type": "markdown",
   "id": "0bf494de",
   "metadata": {},
   "source": [
    "nombre_infected       563\n",
    "nombre_sain          2325\n",
    "nombre_exposed        411\n",
    "nombre_recovered    16701\n",
    "Name: 222, dtype: int64"
   ]
  },
  {
   "cell_type": "markdown",
   "id": "fbbbfd8a",
   "metadata": {},
   "source": [
    "nombre_infected       542\n",
    "nombre_sain          2326\n",
    "nombre_exposed        423\n",
    "nombre_recovered    16709\n",
    "Name: 223, dtype: int64"
   ]
  },
  {
   "cell_type": "markdown",
   "id": "492fc725",
   "metadata": {},
   "source": [
    "nombre_infected       555\n",
    "nombre_sain          2327\n",
    "nombre_exposed        413\n",
    "nombre_recovered    16705\n",
    "Name: 224, dtype: int64"
   ]
  },
  {
   "cell_type": "markdown",
   "id": "bdf6b264",
   "metadata": {},
   "source": [
    "nombre_infected       570\n",
    "nombre_sain          2337\n",
    "nombre_exposed        397\n",
    "nombre_recovered    16696\n",
    "Name: 225, dtype: int64"
   ]
  },
  {
   "cell_type": "markdown",
   "id": "e65c3955",
   "metadata": {},
   "source": [
    "nombre_infected       581\n",
    "nombre_sain          2348\n",
    "nombre_exposed        393\n",
    "nombre_recovered    16678\n",
    "Name: 226, dtype: int64"
   ]
  },
  {
   "cell_type": "markdown",
   "id": "f2041e77",
   "metadata": {},
   "source": [
    "nombre_infected       593\n",
    "nombre_sain          2356\n",
    "nombre_exposed        383\n",
    "nombre_recovered    16668\n",
    "Name: 227, dtype: int64"
   ]
  },
  {
   "cell_type": "markdown",
   "id": "22f88950",
   "metadata": {},
   "source": [
    "nombre_infected       582\n",
    "nombre_sain          2351\n",
    "nombre_exposed        393\n",
    "nombre_recovered    16674\n",
    "Name: 228, dtype: int64"
   ]
  },
  {
   "cell_type": "markdown",
   "id": "5c898945",
   "metadata": {},
   "source": [
    "nombre_infected       581\n",
    "nombre_sain          2390\n",
    "nombre_exposed        386\n",
    "nombre_recovered    16643\n",
    "Name: 229, dtype: int64"
   ]
  },
  {
   "cell_type": "markdown",
   "id": "2ca27a7b",
   "metadata": {},
   "source": [
    "nombre_infected       580\n",
    "nombre_sain          2407\n",
    "nombre_exposed        396\n",
    "nombre_recovered    16617\n",
    "Name: 230, dtype: int64"
   ]
  },
  {
   "cell_type": "markdown",
   "id": "ec12b389",
   "metadata": {},
   "source": [
    "nombre_infected       582\n",
    "nombre_sain          2422\n",
    "nombre_exposed        390\n",
    "nombre_recovered    16606\n",
    "Name: 231, dtype: int64"
   ]
  },
  {
   "cell_type": "markdown",
   "id": "334ff599",
   "metadata": {},
   "source": [
    "nombre_infected       572\n",
    "nombre_sain          2465\n",
    "nombre_exposed        374\n",
    "nombre_recovered    16589\n",
    "Name: 232, dtype: int64"
   ]
  },
  {
   "cell_type": "markdown",
   "id": "7d336064",
   "metadata": {},
   "source": [
    "nombre_infected       573\n",
    "nombre_sain          2464\n",
    "nombre_exposed        376\n",
    "nombre_recovered    16587\n",
    "Name: 233, dtype: int64"
   ]
  },
  {
   "cell_type": "markdown",
   "id": "296b45b2",
   "metadata": {},
   "source": [
    "nombre_infected       557\n",
    "nombre_sain          2471\n",
    "nombre_exposed        377\n",
    "nombre_recovered    16595\n",
    "Name: 234, dtype: int64"
   ]
  },
  {
   "cell_type": "markdown",
   "id": "023003e7",
   "metadata": {},
   "source": [
    "nombre_infected       540\n",
    "nombre_sain          2486\n",
    "nombre_exposed        379\n",
    "nombre_recovered    16595\n",
    "Name: 235, dtype: int64"
   ]
  },
  {
   "cell_type": "markdown",
   "id": "322141e7",
   "metadata": {},
   "source": [
    "nombre_infected       548\n",
    "nombre_sain          2495\n",
    "nombre_exposed        382\n",
    "nombre_recovered    16575\n",
    "Name: 236, dtype: int64"
   ]
  },
  {
   "cell_type": "markdown",
   "id": "46f6e278",
   "metadata": {},
   "source": [
    "nombre_infected       557\n",
    "nombre_sain          2499\n",
    "nombre_exposed        379\n",
    "nombre_recovered    16565\n",
    "Name: 237, dtype: int64"
   ]
  },
  {
   "cell_type": "markdown",
   "id": "6cd9ba97",
   "metadata": {},
   "source": [
    "nombre_infected       578\n",
    "nombre_sain          2500\n",
    "nombre_exposed        367\n",
    "nombre_recovered    16555\n",
    "Name: 238, dtype: int64"
   ]
  },
  {
   "cell_type": "markdown",
   "id": "e79046ee",
   "metadata": {},
   "source": [
    "nombre_infected       584\n",
    "nombre_sain          2507\n",
    "nombre_exposed        373\n",
    "nombre_recovered    16536\n",
    "Name: 239, dtype: int64"
   ]
  },
  {
   "cell_type": "markdown",
   "id": "471050cc",
   "metadata": {},
   "source": [
    "nombre_infected       567\n",
    "nombre_sain          2531\n",
    "nombre_exposed        379\n",
    "nombre_recovered    16523\n",
    "Name: 240, dtype: int64"
   ]
  },
  {
   "cell_type": "markdown",
   "id": "03263749",
   "metadata": {},
   "source": [
    "nombre_infected       584\n",
    "nombre_sain          2530\n",
    "nombre_exposed        388\n",
    "nombre_recovered    16498\n",
    "Name: 241, dtype: int64"
   ]
  },
  {
   "cell_type": "markdown",
   "id": "4b93ff3b",
   "metadata": {},
   "source": [
    "nombre_infected       604\n",
    "nombre_sain          2536\n",
    "nombre_exposed        394\n",
    "nombre_recovered    16466\n",
    "Name: 242, dtype: int64"
   ]
  },
  {
   "cell_type": "markdown",
   "id": "53d02f46",
   "metadata": {},
   "source": [
    "nombre_infected       602\n",
    "nombre_sain          2533\n",
    "nombre_exposed        404\n",
    "nombre_recovered    16461\n",
    "Name: 243, dtype: int64"
   ]
  },
  {
   "cell_type": "markdown",
   "id": "ec642367",
   "metadata": {},
   "source": [
    "nombre_infected       626\n",
    "nombre_sain          2534\n",
    "nombre_exposed        387\n",
    "nombre_recovered    16453\n",
    "Name: 244, dtype: int64"
   ]
  },
  {
   "cell_type": "markdown",
   "id": "df27769e",
   "metadata": {},
   "source": [
    "nombre_infected       626\n",
    "nombre_sain          2542\n",
    "nombre_exposed        403\n",
    "nombre_recovered    16429\n",
    "Name: 245, dtype: int64"
   ]
  },
  {
   "cell_type": "markdown",
   "id": "99e7d873",
   "metadata": {},
   "source": [
    "nombre_infected       632\n",
    "nombre_sain          2568\n",
    "nombre_exposed        411\n",
    "nombre_recovered    16389\n",
    "Name: 246, dtype: int64"
   ]
  },
  {
   "cell_type": "markdown",
   "id": "72735a7f",
   "metadata": {},
   "source": [
    "nombre_infected       633\n",
    "nombre_sain          2569\n",
    "nombre_exposed        421\n",
    "nombre_recovered    16377\n",
    "Name: 247, dtype: int64"
   ]
  },
  {
   "cell_type": "markdown",
   "id": "ac9837a9",
   "metadata": {},
   "source": [
    "nombre_infected       639\n",
    "nombre_sain          2579\n",
    "nombre_exposed        431\n",
    "nombre_recovered    16351\n",
    "Name: 248, dtype: int64"
   ]
  },
  {
   "cell_type": "markdown",
   "id": "593e6f41",
   "metadata": {},
   "source": [
    "nombre_infected       640\n",
    "nombre_sain          2572\n",
    "nombre_exposed        442\n",
    "nombre_recovered    16346\n",
    "Name: 249, dtype: int64"
   ]
  },
  {
   "cell_type": "markdown",
   "id": "5504ec4d",
   "metadata": {},
   "source": [
    "nombre_infected       650\n",
    "nombre_sain          2564\n",
    "nombre_exposed        462\n",
    "nombre_recovered    16324\n",
    "Name: 250, dtype: int64"
   ]
  },
  {
   "cell_type": "markdown",
   "id": "483b7489",
   "metadata": {},
   "source": [
    "nombre_infected       675\n",
    "nombre_sain          2557\n",
    "nombre_exposed        473\n",
    "nombre_recovered    16295\n",
    "Name: 251, dtype: int64"
   ]
  },
  {
   "cell_type": "markdown",
   "id": "08048799",
   "metadata": {},
   "source": [
    "nombre_infected       673\n",
    "nombre_sain          2545\n",
    "nombre_exposed        477\n",
    "nombre_recovered    16305\n",
    "Name: 252, dtype: int64"
   ]
  },
  {
   "cell_type": "markdown",
   "id": "1f91aa3e",
   "metadata": {},
   "source": [
    "nombre_infected       674\n",
    "nombre_sain          2529\n",
    "nombre_exposed        497\n",
    "nombre_recovered    16300\n",
    "Name: 253, dtype: int64"
   ]
  },
  {
   "cell_type": "markdown",
   "id": "73133fef",
   "metadata": {},
   "source": [
    "nombre_infected       681\n",
    "nombre_sain          2522\n",
    "nombre_exposed        506\n",
    "nombre_recovered    16291\n",
    "Name: 254, dtype: int64"
   ]
  },
  {
   "cell_type": "markdown",
   "id": "f4a99ff5",
   "metadata": {},
   "source": [
    "nombre_infected       700\n",
    "nombre_sain          2545\n",
    "nombre_exposed        489\n",
    "nombre_recovered    16266\n",
    "Name: 255, dtype: int64"
   ]
  },
  {
   "cell_type": "markdown",
   "id": "8f5d7719",
   "metadata": {},
   "source": [
    "nombre_infected       712\n",
    "nombre_sain          2540\n",
    "nombre_exposed        474\n",
    "nombre_recovered    16274\n",
    "Name: 256, dtype: int64"
   ]
  },
  {
   "cell_type": "markdown",
   "id": "eab07058",
   "metadata": {},
   "source": [
    "nombre_infected       719\n",
    "nombre_sain          2528\n",
    "nombre_exposed        471\n",
    "nombre_recovered    16282\n",
    "Name: 257, dtype: int64"
   ]
  },
  {
   "cell_type": "markdown",
   "id": "afdb0ad7",
   "metadata": {},
   "source": [
    "nombre_infected       744\n",
    "nombre_sain          2542\n",
    "nombre_exposed        456\n",
    "nombre_recovered    16258\n",
    "Name: 258, dtype: int64"
   ]
  },
  {
   "cell_type": "markdown",
   "id": "e2fffe3b",
   "metadata": {},
   "source": [
    "nombre_infected       761\n",
    "nombre_sain          2541\n",
    "nombre_exposed        440\n",
    "nombre_recovered    16258\n",
    "Name: 259, dtype: int64"
   ]
  },
  {
   "cell_type": "markdown",
   "id": "ca9abcd2",
   "metadata": {},
   "source": [
    "nombre_infected       770\n",
    "nombre_sain          2524\n",
    "nombre_exposed        444\n",
    "nombre_recovered    16262\n",
    "Name: 260, dtype: int64"
   ]
  },
  {
   "cell_type": "markdown",
   "id": "492feacb",
   "metadata": {},
   "source": [
    "nombre_infected       786\n",
    "nombre_sain          2515\n",
    "nombre_exposed        446\n",
    "nombre_recovered    16253\n",
    "Name: 261, dtype: int64"
   ]
  },
  {
   "cell_type": "markdown",
   "id": "594b5ed8",
   "metadata": {},
   "source": [
    "nombre_infected       788\n",
    "nombre_sain          2471\n",
    "nombre_exposed        485\n",
    "nombre_recovered    16256\n",
    "Name: 262, dtype: int64"
   ]
  },
  {
   "cell_type": "markdown",
   "id": "bf6c59f7",
   "metadata": {},
   "source": [
    "nombre_infected       790\n",
    "nombre_sain          2442\n",
    "nombre_exposed        514\n",
    "nombre_recovered    16254\n",
    "Name: 263, dtype: int64"
   ]
  },
  {
   "cell_type": "markdown",
   "id": "65c4979d",
   "metadata": {},
   "source": [
    "nombre_infected       798\n",
    "nombre_sain          2412\n",
    "nombre_exposed        523\n",
    "nombre_recovered    16267\n",
    "Name: 264, dtype: int64"
   ]
  },
  {
   "cell_type": "markdown",
   "id": "ad4d0542",
   "metadata": {},
   "source": [
    "nombre_infected       829\n",
    "nombre_sain          2406\n",
    "nombre_exposed        525\n",
    "nombre_recovered    16240\n",
    "Name: 265, dtype: int64"
   ]
  },
  {
   "cell_type": "markdown",
   "id": "474abac2",
   "metadata": {},
   "source": [
    "nombre_infected       848\n",
    "nombre_sain          2392\n",
    "nombre_exposed        528\n",
    "nombre_recovered    16232\n",
    "Name: 266, dtype: int64"
   ]
  },
  {
   "cell_type": "markdown",
   "id": "abc8e884",
   "metadata": {},
   "source": [
    "nombre_infected       871\n",
    "nombre_sain          2373\n",
    "nombre_exposed        527\n",
    "nombre_recovered    16229\n",
    "Name: 267, dtype: int64"
   ]
  },
  {
   "cell_type": "markdown",
   "id": "6685a81c",
   "metadata": {},
   "source": [
    "nombre_infected       895\n",
    "nombre_sain          2355\n",
    "nombre_exposed        513\n",
    "nombre_recovered    16237\n",
    "Name: 268, dtype: int64"
   ]
  },
  {
   "cell_type": "markdown",
   "id": "0822693c",
   "metadata": {},
   "source": [
    "nombre_infected       918\n",
    "nombre_sain          2329\n",
    "nombre_exposed        501\n",
    "nombre_recovered    16252\n",
    "Name: 269, dtype: int64"
   ]
  },
  {
   "cell_type": "markdown",
   "id": "f95abcec",
   "metadata": {},
   "source": [
    "nombre_infected       931\n",
    "nombre_sain          2311\n",
    "nombre_exposed        503\n",
    "nombre_recovered    16255\n",
    "Name: 270, dtype: int64"
   ]
  },
  {
   "cell_type": "markdown",
   "id": "751400a4",
   "metadata": {},
   "source": [
    "nombre_infected       916\n",
    "nombre_sain          2306\n",
    "nombre_exposed        516\n",
    "nombre_recovered    16262\n",
    "Name: 271, dtype: int64"
   ]
  },
  {
   "cell_type": "markdown",
   "id": "2fc8b003",
   "metadata": {},
   "source": [
    "nombre_infected       925\n",
    "nombre_sain          2286\n",
    "nombre_exposed        510\n",
    "nombre_recovered    16279\n",
    "Name: 272, dtype: int64"
   ]
  },
  {
   "cell_type": "markdown",
   "id": "59a6e4eb",
   "metadata": {},
   "source": [
    "nombre_infected       930\n",
    "nombre_sain          2276\n",
    "nombre_exposed        510\n",
    "nombre_recovered    16284\n",
    "Name: 273, dtype: int64"
   ]
  },
  {
   "cell_type": "markdown",
   "id": "8affc6b1",
   "metadata": {},
   "source": [
    "nombre_infected       909\n",
    "nombre_sain          2271\n",
    "nombre_exposed        528\n",
    "nombre_recovered    16292\n",
    "Name: 274, dtype: int64"
   ]
  },
  {
   "cell_type": "markdown",
   "id": "83f03379",
   "metadata": {},
   "source": [
    "nombre_infected       888\n",
    "nombre_sain          2256\n",
    "nombre_exposed        528\n",
    "nombre_recovered    16328\n",
    "Name: 275, dtype: int64"
   ]
  },
  {
   "cell_type": "markdown",
   "id": "a38a053a",
   "metadata": {},
   "source": [
    "nombre_infected       916\n",
    "nombre_sain          2248\n",
    "nombre_exposed        520\n",
    "nombre_recovered    16316\n",
    "Name: 276, dtype: int64"
   ]
  },
  {
   "cell_type": "markdown",
   "id": "2e2c04a7",
   "metadata": {},
   "source": [
    "nombre_infected       933\n",
    "nombre_sain          2254\n",
    "nombre_exposed        509\n",
    "nombre_recovered    16304\n",
    "Name: 277, dtype: int64"
   ]
  },
  {
   "cell_type": "markdown",
   "id": "4466cdd1",
   "metadata": {},
   "source": [
    "nombre_infected       911\n",
    "nombre_sain          2243\n",
    "nombre_exposed        526\n",
    "nombre_recovered    16320\n",
    "Name: 278, dtype: int64"
   ]
  },
  {
   "cell_type": "markdown",
   "id": "66ddb914",
   "metadata": {},
   "source": [
    "nombre_infected       899\n",
    "nombre_sain          2222\n",
    "nombre_exposed        532\n",
    "nombre_recovered    16347\n",
    "Name: 279, dtype: int64"
   ]
  },
  {
   "cell_type": "markdown",
   "id": "c9d26b14",
   "metadata": {},
   "source": [
    "nombre_infected       890\n",
    "nombre_sain          2234\n",
    "nombre_exposed        514\n",
    "nombre_recovered    16362\n",
    "Name: 280, dtype: int64"
   ]
  },
  {
   "cell_type": "markdown",
   "id": "90bad8a6",
   "metadata": {},
   "source": [
    "nombre_infected       886\n",
    "nombre_sain          2214\n",
    "nombre_exposed        523\n",
    "nombre_recovered    16377\n",
    "Name: 281, dtype: int64"
   ]
  },
  {
   "cell_type": "markdown",
   "id": "056e5f3f",
   "metadata": {},
   "source": [
    "nombre_infected       881\n",
    "nombre_sain          2221\n",
    "nombre_exposed        516\n",
    "nombre_recovered    16382\n",
    "Name: 282, dtype: int64"
   ]
  },
  {
   "cell_type": "markdown",
   "id": "95f0ca5e",
   "metadata": {},
   "source": [
    "nombre_infected       903\n",
    "nombre_sain          2230\n",
    "nombre_exposed        501\n",
    "nombre_recovered    16366\n",
    "Name: 283, dtype: int64"
   ]
  },
  {
   "cell_type": "markdown",
   "id": "433dc01c",
   "metadata": {},
   "source": [
    "nombre_infected       923\n",
    "nombre_sain          2221\n",
    "nombre_exposed        505\n",
    "nombre_recovered    16351\n",
    "Name: 284, dtype: int64"
   ]
  },
  {
   "cell_type": "markdown",
   "id": "ba75c8f1",
   "metadata": {},
   "source": [
    "nombre_infected       900\n",
    "nombre_sain          2201\n",
    "nombre_exposed        542\n",
    "nombre_recovered    16357\n",
    "Name: 285, dtype: int64"
   ]
  },
  {
   "cell_type": "markdown",
   "id": "f9af2965",
   "metadata": {},
   "source": [
    "nombre_infected       887\n",
    "nombre_sain          2185\n",
    "nombre_exposed        539\n",
    "nombre_recovered    16389\n",
    "Name: 286, dtype: int64"
   ]
  },
  {
   "cell_type": "markdown",
   "id": "bea9ea55",
   "metadata": {},
   "source": [
    "nombre_infected       914\n",
    "nombre_sain          2162\n",
    "nombre_exposed        504\n",
    "nombre_recovered    16420\n",
    "Name: 287, dtype: int64"
   ]
  },
  {
   "cell_type": "markdown",
   "id": "1f08276c",
   "metadata": {},
   "source": [
    "nombre_infected       949\n",
    "nombre_sain          2166\n",
    "nombre_exposed        465\n",
    "nombre_recovered    16420\n",
    "Name: 288, dtype: int64"
   ]
  },
  {
   "cell_type": "markdown",
   "id": "13487afb",
   "metadata": {},
   "source": [
    "nombre_infected       941\n",
    "nombre_sain          2161\n",
    "nombre_exposed        462\n",
    "nombre_recovered    16436\n",
    "Name: 289, dtype: int64"
   ]
  },
  {
   "cell_type": "markdown",
   "id": "60f4132b",
   "metadata": {},
   "source": [
    "nombre_infected       921\n",
    "nombre_sain          2155\n",
    "nombre_exposed        447\n",
    "nombre_recovered    16477\n",
    "Name: 290, dtype: int64"
   ]
  },
  {
   "cell_type": "markdown",
   "id": "19dd28af",
   "metadata": {},
   "source": [
    "nombre_infected       904\n",
    "nombre_sain          2147\n",
    "nombre_exposed        442\n",
    "nombre_recovered    16507\n",
    "Name: 291, dtype: int64"
   ]
  },
  {
   "cell_type": "markdown",
   "id": "6d150af3",
   "metadata": {},
   "source": [
    "nombre_infected       888\n",
    "nombre_sain          2147\n",
    "nombre_exposed        437\n",
    "nombre_recovered    16528\n",
    "Name: 292, dtype: int64"
   ]
  },
  {
   "cell_type": "markdown",
   "id": "dee19df0",
   "metadata": {},
   "source": [
    "nombre_infected       870\n",
    "nombre_sain          2114\n",
    "nombre_exposed        462\n",
    "nombre_recovered    16554\n",
    "Name: 293, dtype: int64"
   ]
  },
  {
   "cell_type": "markdown",
   "id": "3bf4d84d",
   "metadata": {},
   "source": [
    "nombre_infected       846\n",
    "nombre_sain          2119\n",
    "nombre_exposed        456\n",
    "nombre_recovered    16579\n",
    "Name: 294, dtype: int64"
   ]
  },
  {
   "cell_type": "markdown",
   "id": "2a88fb3c",
   "metadata": {},
   "source": [
    "nombre_infected       840\n",
    "nombre_sain          2110\n",
    "nombre_exposed        455\n",
    "nombre_recovered    16595\n",
    "Name: 295, dtype: int64"
   ]
  },
  {
   "cell_type": "markdown",
   "id": "dda0557d",
   "metadata": {},
   "source": [
    "nombre_infected       839\n",
    "nombre_sain          2095\n",
    "nombre_exposed        448\n",
    "nombre_recovered    16618\n",
    "Name: 296, dtype: int64"
   ]
  },
  {
   "cell_type": "markdown",
   "id": "6a40747d",
   "metadata": {},
   "source": [
    "nombre_infected       815\n",
    "nombre_sain          2108\n",
    "nombre_exposed        443\n",
    "nombre_recovered    16634\n",
    "Name: 297, dtype: int64"
   ]
  },
  {
   "cell_type": "markdown",
   "id": "b545cdb0",
   "metadata": {},
   "source": [
    "nombre_infected       803\n",
    "nombre_sain          2118\n",
    "nombre_exposed        436\n",
    "nombre_recovered    16643\n",
    "Name: 298, dtype: int64"
   ]
  },
  {
   "cell_type": "markdown",
   "id": "c63a0007",
   "metadata": {},
   "source": [
    "nombre_infected       788\n",
    "nombre_sain          2114\n",
    "nombre_exposed        446\n",
    "nombre_recovered    16652\n",
    "Name: 299, dtype: int64"
   ]
  },
  {
   "cell_type": "markdown",
   "id": "8c4ddbc5",
   "metadata": {},
   "source": [
    "nombre_infected       792\n",
    "nombre_sain          2109\n",
    "nombre_exposed        450\n",
    "nombre_recovered    16649\n",
    "Name: 300, dtype: int64"
   ]
  },
  {
   "cell_type": "markdown",
   "id": "eacb5b3f",
   "metadata": {},
   "source": [
    "nombre_infected       798\n",
    "nombre_sain          2121\n",
    "nombre_exposed        429\n",
    "nombre_recovered    16652\n",
    "Name: 301, dtype: int64"
   ]
  },
  {
   "cell_type": "markdown",
   "id": "7fd89c9d",
   "metadata": {},
   "source": [
    "nombre_infected       763\n",
    "nombre_sain          2108\n",
    "nombre_exposed        456\n",
    "nombre_recovered    16673\n",
    "Name: 302, dtype: int64"
   ]
  },
  {
   "cell_type": "markdown",
   "id": "d5fef969",
   "metadata": {},
   "source": [
    "nombre_infected       779\n",
    "nombre_sain          2133\n",
    "nombre_exposed        453\n",
    "nombre_recovered    16635\n",
    "Name: 303, dtype: int64"
   ]
  },
  {
   "cell_type": "markdown",
   "id": "084ca028",
   "metadata": {},
   "source": [
    "nombre_infected       782\n",
    "nombre_sain          2168\n",
    "nombre_exposed        437\n",
    "nombre_recovered    16613\n",
    "Name: 304, dtype: int64"
   ]
  },
  {
   "cell_type": "markdown",
   "id": "3fbbf147",
   "metadata": {},
   "source": [
    "nombre_infected       776\n",
    "nombre_sain          2173\n",
    "nombre_exposed        430\n",
    "nombre_recovered    16621\n",
    "Name: 305, dtype: int64"
   ]
  },
  {
   "cell_type": "markdown",
   "id": "9a5fd4d5",
   "metadata": {},
   "source": [
    "nombre_infected       768\n",
    "nombre_sain          2193\n",
    "nombre_exposed        430\n",
    "nombre_recovered    16609\n",
    "Name: 306, dtype: int64"
   ]
  },
  {
   "cell_type": "markdown",
   "id": "a74ec8d8",
   "metadata": {},
   "source": [
    "nombre_infected       775\n",
    "nombre_sain          2161\n",
    "nombre_exposed        433\n",
    "nombre_recovered    16631\n",
    "Name: 307, dtype: int64"
   ]
  },
  {
   "cell_type": "markdown",
   "id": "0ab8d512",
   "metadata": {},
   "source": [
    "nombre_infected       761\n",
    "nombre_sain          2185\n",
    "nombre_exposed        431\n",
    "nombre_recovered    16623\n",
    "Name: 308, dtype: int64"
   ]
  },
  {
   "cell_type": "markdown",
   "id": "c548b280",
   "metadata": {},
   "source": [
    "nombre_infected       747\n",
    "nombre_sain          2170\n",
    "nombre_exposed        443\n",
    "nombre_recovered    16640\n",
    "Name: 309, dtype: int64"
   ]
  },
  {
   "cell_type": "markdown",
   "id": "8fc52771",
   "metadata": {},
   "source": [
    "nombre_infected       760\n",
    "nombre_sain          2194\n",
    "nombre_exposed        452\n",
    "nombre_recovered    16594\n",
    "Name: 310, dtype: int64"
   ]
  },
  {
   "cell_type": "markdown",
   "id": "8ac6871d",
   "metadata": {},
   "source": [
    "nombre_infected       749\n",
    "nombre_sain          2208\n",
    "nombre_exposed        438\n",
    "nombre_recovered    16605\n",
    "Name: 311, dtype: int64"
   ]
  },
  {
   "cell_type": "markdown",
   "id": "95203b84",
   "metadata": {},
   "source": [
    "nombre_infected       763\n",
    "nombre_sain          2191\n",
    "nombre_exposed        449\n",
    "nombre_recovered    16597\n",
    "Name: 312, dtype: int64"
   ]
  },
  {
   "cell_type": "markdown",
   "id": "bd1e1691",
   "metadata": {},
   "source": [
    "nombre_infected       751\n",
    "nombre_sain          2191\n",
    "nombre_exposed        463\n",
    "nombre_recovered    16595\n",
    "Name: 313, dtype: int64"
   ]
  },
  {
   "cell_type": "markdown",
   "id": "f48ed6ba",
   "metadata": {},
   "source": [
    "nombre_infected       745\n",
    "nombre_sain          2172\n",
    "nombre_exposed        470\n",
    "nombre_recovered    16613\n",
    "Name: 314, dtype: int64"
   ]
  },
  {
   "cell_type": "markdown",
   "id": "6bcd5041",
   "metadata": {},
   "source": [
    "nombre_infected       759\n",
    "nombre_sain          2173\n",
    "nombre_exposed        453\n",
    "nombre_recovered    16615\n",
    "Name: 315, dtype: int64"
   ]
  },
  {
   "cell_type": "markdown",
   "id": "07c01f9c",
   "metadata": {},
   "source": [
    "nombre_infected       756\n",
    "nombre_sain          2173\n",
    "nombre_exposed        444\n",
    "nombre_recovered    16627\n",
    "Name: 316, dtype: int64"
   ]
  },
  {
   "cell_type": "markdown",
   "id": "ea4d52c2",
   "metadata": {},
   "source": [
    "nombre_infected       768\n",
    "nombre_sain          2150\n",
    "nombre_exposed        466\n",
    "nombre_recovered    16616\n",
    "Name: 317, dtype: int64"
   ]
  },
  {
   "cell_type": "markdown",
   "id": "db0c1618",
   "metadata": {},
   "source": [
    "nombre_infected       759\n",
    "nombre_sain          2150\n",
    "nombre_exposed        464\n",
    "nombre_recovered    16627\n",
    "Name: 318, dtype: int64"
   ]
  },
  {
   "cell_type": "markdown",
   "id": "3cdea02f",
   "metadata": {},
   "source": [
    "nombre_infected       781\n",
    "nombre_sain          2150\n",
    "nombre_exposed        450\n",
    "nombre_recovered    16619\n",
    "Name: 319, dtype: int64"
   ]
  },
  {
   "cell_type": "markdown",
   "id": "fd532af5",
   "metadata": {},
   "source": [
    "nombre_infected       755\n",
    "nombre_sain          2136\n",
    "nombre_exposed        455\n",
    "nombre_recovered    16654\n",
    "Name: 320, dtype: int64"
   ]
  },
  {
   "cell_type": "markdown",
   "id": "e3e5be88",
   "metadata": {},
   "source": [
    "nombre_infected       774\n",
    "nombre_sain          2141\n",
    "nombre_exposed        437\n",
    "nombre_recovered    16648\n",
    "Name: 321, dtype: int64"
   ]
  },
  {
   "cell_type": "markdown",
   "id": "fecb4548",
   "metadata": {},
   "source": [
    "nombre_infected       771\n",
    "nombre_sain          2135\n",
    "nombre_exposed        428\n",
    "nombre_recovered    16666\n",
    "Name: 322, dtype: int64"
   ]
  },
  {
   "cell_type": "markdown",
   "id": "690891cc",
   "metadata": {},
   "source": [
    "nombre_infected       756\n",
    "nombre_sain          2154\n",
    "nombre_exposed        439\n",
    "nombre_recovered    16651\n",
    "Name: 323, dtype: int64"
   ]
  },
  {
   "cell_type": "markdown",
   "id": "641aa3d3",
   "metadata": {},
   "source": [
    "nombre_infected       779\n",
    "nombre_sain          2135\n",
    "nombre_exposed        427\n",
    "nombre_recovered    16659\n",
    "Name: 324, dtype: int64"
   ]
  },
  {
   "cell_type": "markdown",
   "id": "61217531",
   "metadata": {},
   "source": [
    "nombre_infected       757\n",
    "nombre_sain          2133\n",
    "nombre_exposed        448\n",
    "nombre_recovered    16662\n",
    "Name: 325, dtype: int64"
   ]
  },
  {
   "cell_type": "markdown",
   "id": "1b0eca46",
   "metadata": {},
   "source": [
    "nombre_infected       769\n",
    "nombre_sain          2126\n",
    "nombre_exposed        451\n",
    "nombre_recovered    16654\n",
    "Name: 326, dtype: int64"
   ]
  },
  {
   "cell_type": "markdown",
   "id": "ed8a0f42",
   "metadata": {},
   "source": [
    "nombre_infected       760\n",
    "nombre_sain          2148\n",
    "nombre_exposed        439\n",
    "nombre_recovered    16653\n",
    "Name: 327, dtype: int64"
   ]
  },
  {
   "cell_type": "markdown",
   "id": "3db0ef36",
   "metadata": {},
   "source": [
    "nombre_infected       746\n",
    "nombre_sain          2156\n",
    "nombre_exposed        449\n",
    "nombre_recovered    16649\n",
    "Name: 328, dtype: int64"
   ]
  },
  {
   "cell_type": "markdown",
   "id": "29d04e38",
   "metadata": {},
   "source": [
    "nombre_infected       745\n",
    "nombre_sain          2196\n",
    "nombre_exposed        428\n",
    "nombre_recovered    16631\n",
    "Name: 329, dtype: int64"
   ]
  },
  {
   "cell_type": "markdown",
   "id": "e0c02ff1",
   "metadata": {},
   "source": [
    "nombre_infected       737\n",
    "nombre_sain          2207\n",
    "nombre_exposed        439\n",
    "nombre_recovered    16617\n",
    "Name: 330, dtype: int64"
   ]
  },
  {
   "cell_type": "markdown",
   "id": "e16be1e5",
   "metadata": {},
   "source": [
    "nombre_infected       751\n",
    "nombre_sain          2238\n",
    "nombre_exposed        423\n",
    "nombre_recovered    16588\n",
    "Name: 331, dtype: int64"
   ]
  },
  {
   "cell_type": "markdown",
   "id": "5ead6be7",
   "metadata": {},
   "source": [
    "nombre_infected       739\n",
    "nombre_sain          2246\n",
    "nombre_exposed        425\n",
    "nombre_recovered    16590\n",
    "Name: 332, dtype: int64"
   ]
  },
  {
   "cell_type": "markdown",
   "id": "b8a3dd9a",
   "metadata": {},
   "source": [
    "nombre_infected       733\n",
    "nombre_sain          2267\n",
    "nombre_exposed        418\n",
    "nombre_recovered    16582\n",
    "Name: 333, dtype: int64"
   ]
  },
  {
   "cell_type": "markdown",
   "id": "f76df8e8",
   "metadata": {},
   "source": [
    "nombre_infected       741\n",
    "nombre_sain          2246\n",
    "nombre_exposed        436\n",
    "nombre_recovered    16577\n",
    "Name: 334, dtype: int64"
   ]
  },
  {
   "cell_type": "markdown",
   "id": "81b70432",
   "metadata": {},
   "source": [
    "nombre_infected       735\n",
    "nombre_sain          2253\n",
    "nombre_exposed        442\n",
    "nombre_recovered    16570\n",
    "Name: 335, dtype: int64"
   ]
  },
  {
   "cell_type": "markdown",
   "id": "d7b41815",
   "metadata": {},
   "source": [
    "nombre_infected       729\n",
    "nombre_sain          2263\n",
    "nombre_exposed        433\n",
    "nombre_recovered    16575\n",
    "Name: 336, dtype: int64"
   ]
  },
  {
   "cell_type": "markdown",
   "id": "7ab18a52",
   "metadata": {},
   "source": [
    "nombre_infected       728\n",
    "nombre_sain          2263\n",
    "nombre_exposed        454\n",
    "nombre_recovered    16555\n",
    "Name: 337, dtype: int64"
   ]
  },
  {
   "cell_type": "markdown",
   "id": "1751ad35",
   "metadata": {},
   "source": [
    "nombre_infected       740\n",
    "nombre_sain          2284\n",
    "nombre_exposed        435\n",
    "nombre_recovered    16541\n",
    "Name: 338, dtype: int64"
   ]
  },
  {
   "cell_type": "markdown",
   "id": "9583c9f1",
   "metadata": {},
   "source": [
    "nombre_infected       753\n",
    "nombre_sain          2272\n",
    "nombre_exposed        430\n",
    "nombre_recovered    16545\n",
    "Name: 339, dtype: int64"
   ]
  },
  {
   "cell_type": "markdown",
   "id": "c9126cf0",
   "metadata": {},
   "source": [
    "nombre_infected       742\n",
    "nombre_sain          2292\n",
    "nombre_exposed        443\n",
    "nombre_recovered    16523\n",
    "Name: 340, dtype: int64"
   ]
  },
  {
   "cell_type": "markdown",
   "id": "3cc6a2dd",
   "metadata": {},
   "source": [
    "nombre_infected       744\n",
    "nombre_sain          2304\n",
    "nombre_exposed        465\n",
    "nombre_recovered    16487\n",
    "Name: 341, dtype: int64"
   ]
  },
  {
   "cell_type": "markdown",
   "id": "58a60175",
   "metadata": {},
   "source": [
    "nombre_infected       751\n",
    "nombre_sain          2327\n",
    "nombre_exposed        448\n",
    "nombre_recovered    16474\n",
    "Name: 342, dtype: int64"
   ]
  },
  {
   "cell_type": "markdown",
   "id": "ed64c5f2",
   "metadata": {},
   "source": [
    "nombre_infected       754\n",
    "nombre_sain          2346\n",
    "nombre_exposed        441\n",
    "nombre_recovered    16459\n",
    "Name: 343, dtype: int64"
   ]
  },
  {
   "cell_type": "markdown",
   "id": "75a27cad",
   "metadata": {},
   "source": [
    "nombre_infected       744\n",
    "nombre_sain          2360\n",
    "nombre_exposed        444\n",
    "nombre_recovered    16452\n",
    "Name: 344, dtype: int64"
   ]
  },
  {
   "cell_type": "markdown",
   "id": "812ab0ba",
   "metadata": {},
   "source": [
    "nombre_infected       730\n",
    "nombre_sain          2371\n",
    "nombre_exposed        450\n",
    "nombre_recovered    16449\n",
    "Name: 345, dtype: int64"
   ]
  },
  {
   "cell_type": "markdown",
   "id": "ee0dac63",
   "metadata": {},
   "source": [
    "nombre_infected       740\n",
    "nombre_sain          2372\n",
    "nombre_exposed        448\n",
    "nombre_recovered    16440\n",
    "Name: 346, dtype: int64"
   ]
  },
  {
   "cell_type": "markdown",
   "id": "72de187c",
   "metadata": {},
   "source": [
    "nombre_infected       741\n",
    "nombre_sain          2394\n",
    "nombre_exposed        454\n",
    "nombre_recovered    16411\n",
    "Name: 347, dtype: int64"
   ]
  },
  {
   "cell_type": "markdown",
   "id": "811fc3d6",
   "metadata": {},
   "source": [
    "nombre_infected       746\n",
    "nombre_sain          2378\n",
    "nombre_exposed        466\n",
    "nombre_recovered    16410\n",
    "Name: 348, dtype: int64"
   ]
  },
  {
   "cell_type": "markdown",
   "id": "e3d47bd1",
   "metadata": {},
   "source": [
    "nombre_infected       751\n",
    "nombre_sain          2409\n",
    "nombre_exposed        465\n",
    "nombre_recovered    16375\n",
    "Name: 349, dtype: int64"
   ]
  },
  {
   "cell_type": "markdown",
   "id": "56971859",
   "metadata": {},
   "source": [
    "nombre_infected       743\n",
    "nombre_sain          2370\n",
    "nombre_exposed        492\n",
    "nombre_recovered    16395\n",
    "Name: 350, dtype: int64"
   ]
  },
  {
   "cell_type": "markdown",
   "id": "6d96620d",
   "metadata": {},
   "source": [
    "nombre_infected       740\n",
    "nombre_sain          2343\n",
    "nombre_exposed        509\n",
    "nombre_recovered    16408\n",
    "Name: 351, dtype: int64"
   ]
  },
  {
   "cell_type": "markdown",
   "id": "d43ad6ac",
   "metadata": {},
   "source": [
    "nombre_infected       737\n",
    "nombre_sain          2343\n",
    "nombre_exposed        508\n",
    "nombre_recovered    16412\n",
    "Name: 352, dtype: int64"
   ]
  },
  {
   "cell_type": "markdown",
   "id": "dff7b9b1",
   "metadata": {},
   "source": [
    "nombre_infected       732\n",
    "nombre_sain          2335\n",
    "nombre_exposed        514\n",
    "nombre_recovered    16419\n",
    "Name: 353, dtype: int64"
   ]
  },
  {
   "cell_type": "markdown",
   "id": "6296fb23",
   "metadata": {},
   "source": [
    "nombre_infected       754\n",
    "nombre_sain          2324\n",
    "nombre_exposed        495\n",
    "nombre_recovered    16427\n",
    "Name: 354, dtype: int64"
   ]
  },
  {
   "cell_type": "markdown",
   "id": "a2ffba41",
   "metadata": {},
   "source": [
    "nombre_infected       775\n",
    "nombre_sain          2310\n",
    "nombre_exposed        509\n",
    "nombre_recovered    16406\n",
    "Name: 355, dtype: int64"
   ]
  },
  {
   "cell_type": "markdown",
   "id": "69c52d57",
   "metadata": {},
   "source": [
    "nombre_infected       786\n",
    "nombre_sain          2310\n",
    "nombre_exposed        495\n",
    "nombre_recovered    16409\n",
    "Name: 356, dtype: int64"
   ]
  },
  {
   "cell_type": "markdown",
   "id": "4f2aadf8",
   "metadata": {},
   "source": [
    "nombre_infected       788\n",
    "nombre_sain          2304\n",
    "nombre_exposed        500\n",
    "nombre_recovered    16408\n",
    "Name: 357, dtype: int64"
   ]
  },
  {
   "cell_type": "markdown",
   "id": "d252ed37",
   "metadata": {},
   "source": [
    "nombre_infected       785\n",
    "nombre_sain          2325\n",
    "nombre_exposed        465\n",
    "nombre_recovered    16425\n",
    "Name: 358, dtype: int64"
   ]
  },
  {
   "cell_type": "markdown",
   "id": "d409b860",
   "metadata": {},
   "source": [
    "nombre_infected       767\n",
    "nombre_sain          2327\n",
    "nombre_exposed        450\n",
    "nombre_recovered    16456\n",
    "Name: 359, dtype: int64"
   ]
  },
  {
   "cell_type": "markdown",
   "id": "0ba6a579",
   "metadata": {},
   "source": [
    "nombre_infected       759\n",
    "nombre_sain          2339\n",
    "nombre_exposed        464\n",
    "nombre_recovered    16438\n",
    "Name: 360, dtype: int64"
   ]
  },
  {
   "cell_type": "markdown",
   "id": "1489582f",
   "metadata": {},
   "source": [
    "nombre_infected       750\n",
    "nombre_sain          2337\n",
    "nombre_exposed        460\n",
    "nombre_recovered    16453\n",
    "Name: 361, dtype: int64"
   ]
  },
  {
   "cell_type": "markdown",
   "id": "095019f9",
   "metadata": {},
   "source": [
    "nombre_infected       736\n",
    "nombre_sain          2332\n",
    "nombre_exposed        477\n",
    "nombre_recovered    16455\n",
    "Name: 362, dtype: int64"
   ]
  },
  {
   "cell_type": "markdown",
   "id": "e526df82",
   "metadata": {},
   "source": [
    "nombre_infected       741\n",
    "nombre_sain          2337\n",
    "nombre_exposed        475\n",
    "nombre_recovered    16447\n",
    "Name: 363, dtype: int64"
   ]
  },
  {
   "cell_type": "markdown",
   "id": "1c4fc9d7",
   "metadata": {},
   "source": [
    "nombre_infected       727\n",
    "nombre_sain          2359\n",
    "nombre_exposed        458\n",
    "nombre_recovered    16456\n",
    "Name: 364, dtype: int64"
   ]
  },
  {
   "cell_type": "markdown",
   "id": "788f7a9e",
   "metadata": {},
   "source": [
    "nombre_infected       741\n",
    "nombre_sain          2370\n",
    "nombre_exposed        443\n",
    "nombre_recovered    16446\n",
    "Name: 365, dtype: int64"
   ]
  },
  {
   "cell_type": "markdown",
   "id": "0236ccc0",
   "metadata": {},
   "source": [
    "nombre_infected       717\n",
    "nombre_sain          2387\n",
    "nombre_exposed        453\n",
    "nombre_recovered    16443\n",
    "Name: 366, dtype: int64"
   ]
  },
  {
   "cell_type": "markdown",
   "id": "ae75fa4b",
   "metadata": {},
   "source": [
    "nombre_infected       716\n",
    "nombre_sain          2405\n",
    "nombre_exposed        450\n",
    "nombre_recovered    16429\n",
    "Name: 367, dtype: int64"
   ]
  },
  {
   "cell_type": "markdown",
   "id": "34f5e2f0",
   "metadata": {},
   "source": [
    "nombre_infected       736\n",
    "nombre_sain          2412\n",
    "nombre_exposed        430\n",
    "nombre_recovered    16422\n",
    "Name: 368, dtype: int64"
   ]
  },
  {
   "cell_type": "markdown",
   "id": "50f75a29",
   "metadata": {},
   "source": [
    "nombre_infected       712\n",
    "nombre_sain          2441\n",
    "nombre_exposed        437\n",
    "nombre_recovered    16410\n",
    "Name: 369, dtype: int64"
   ]
  },
  {
   "cell_type": "markdown",
   "id": "3d2656de",
   "metadata": {},
   "source": [
    "nombre_infected       711\n",
    "nombre_sain          2454\n",
    "nombre_exposed        433\n",
    "nombre_recovered    16402\n",
    "Name: 370, dtype: int64"
   ]
  },
  {
   "cell_type": "markdown",
   "id": "68d5a23e",
   "metadata": {},
   "source": [
    "nombre_infected       731\n",
    "nombre_sain          2441\n",
    "nombre_exposed        438\n",
    "nombre_recovered    16390\n",
    "Name: 371, dtype: int64"
   ]
  },
  {
   "cell_type": "markdown",
   "id": "98f57773",
   "metadata": {},
   "source": [
    "nombre_infected       720\n",
    "nombre_sain          2444\n",
    "nombre_exposed        467\n",
    "nombre_recovered    16369\n",
    "Name: 372, dtype: int64"
   ]
  },
  {
   "cell_type": "markdown",
   "id": "5e4a1723",
   "metadata": {},
   "source": [
    "nombre_infected       685\n",
    "nombre_sain          2465\n",
    "nombre_exposed        478\n",
    "nombre_recovered    16372\n",
    "Name: 373, dtype: int64"
   ]
  },
  {
   "cell_type": "markdown",
   "id": "9043156a",
   "metadata": {},
   "source": [
    "nombre_infected       693\n",
    "nombre_sain          2485\n",
    "nombre_exposed        480\n",
    "nombre_recovered    16342\n",
    "Name: 374, dtype: int64"
   ]
  },
  {
   "cell_type": "markdown",
   "id": "1ab5519f",
   "metadata": {},
   "source": [
    "nombre_infected       724\n",
    "nombre_sain          2501\n",
    "nombre_exposed        469\n",
    "nombre_recovered    16306\n",
    "Name: 375, dtype: int64"
   ]
  },
  {
   "cell_type": "markdown",
   "id": "9744796d",
   "metadata": {},
   "source": [
    "nombre_infected       722\n",
    "nombre_sain          2541\n",
    "nombre_exposed        450\n",
    "nombre_recovered    16287\n",
    "Name: 376, dtype: int64"
   ]
  },
  {
   "cell_type": "markdown",
   "id": "4f61c500",
   "metadata": {},
   "source": [
    "nombre_infected       734\n",
    "nombre_sain          2540\n",
    "nombre_exposed        433\n",
    "nombre_recovered    16293\n",
    "Name: 377, dtype: int64"
   ]
  },
  {
   "cell_type": "markdown",
   "id": "0f7d1455",
   "metadata": {},
   "source": [
    "nombre_infected       722\n",
    "nombre_sain          2531\n",
    "nombre_exposed        456\n",
    "nombre_recovered    16291\n",
    "Name: 378, dtype: int64"
   ]
  },
  {
   "cell_type": "markdown",
   "id": "4580ad88",
   "metadata": {},
   "source": [
    "nombre_infected       713\n",
    "nombre_sain          2538\n",
    "nombre_exposed        471\n",
    "nombre_recovered    16278\n",
    "Name: 379, dtype: int64"
   ]
  },
  {
   "cell_type": "markdown",
   "id": "cc770fcb",
   "metadata": {},
   "source": [
    "nombre_infected       721\n",
    "nombre_sain          2549\n",
    "nombre_exposed        487\n",
    "nombre_recovered    16243\n",
    "Name: 380, dtype: int64"
   ]
  },
  {
   "cell_type": "markdown",
   "id": "b473441b",
   "metadata": {},
   "source": [
    "nombre_infected       736\n",
    "nombre_sain          2519\n",
    "nombre_exposed        487\n",
    "nombre_recovered    16258\n",
    "Name: 381, dtype: int64"
   ]
  },
  {
   "cell_type": "markdown",
   "id": "da668c1c",
   "metadata": {},
   "source": [
    "nombre_infected       743\n",
    "nombre_sain          2513\n",
    "nombre_exposed        489\n",
    "nombre_recovered    16255\n",
    "Name: 382, dtype: int64"
   ]
  },
  {
   "cell_type": "markdown",
   "id": "16d2066c",
   "metadata": {},
   "source": [
    "nombre_infected       752\n",
    "nombre_sain          2530\n",
    "nombre_exposed        471\n",
    "nombre_recovered    16247\n",
    "Name: 383, dtype: int64"
   ]
  },
  {
   "cell_type": "markdown",
   "id": "29e82948",
   "metadata": {},
   "source": [
    "nombre_infected       769\n",
    "nombre_sain          2505\n",
    "nombre_exposed        485\n",
    "nombre_recovered    16241\n",
    "Name: 384, dtype: int64"
   ]
  },
  {
   "cell_type": "markdown",
   "id": "5f2d6ac7",
   "metadata": {},
   "source": [
    "nombre_infected       779\n",
    "nombre_sain          2504\n",
    "nombre_exposed        484\n",
    "nombre_recovered    16233\n",
    "Name: 385, dtype: int64"
   ]
  },
  {
   "cell_type": "markdown",
   "id": "724abc9e",
   "metadata": {},
   "source": [
    "nombre_infected       769\n",
    "nombre_sain          2467\n",
    "nombre_exposed        498\n",
    "nombre_recovered    16266\n",
    "Name: 386, dtype: int64"
   ]
  },
  {
   "cell_type": "markdown",
   "id": "56905151",
   "metadata": {},
   "source": [
    "nombre_infected       766\n",
    "nombre_sain          2477\n",
    "nombre_exposed        481\n",
    "nombre_recovered    16276\n",
    "Name: 387, dtype: int64"
   ]
  },
  {
   "cell_type": "markdown",
   "id": "63f9cdb6",
   "metadata": {},
   "source": [
    "nombre_infected       769\n",
    "nombre_sain          2486\n",
    "nombre_exposed        480\n",
    "nombre_recovered    16265\n",
    "Name: 388, dtype: int64"
   ]
  },
  {
   "cell_type": "markdown",
   "id": "c364cf0c",
   "metadata": {},
   "source": [
    "nombre_infected       765\n",
    "nombre_sain          2503\n",
    "nombre_exposed        468\n",
    "nombre_recovered    16264\n",
    "Name: 389, dtype: int64"
   ]
  },
  {
   "cell_type": "markdown",
   "id": "f106ffbe",
   "metadata": {},
   "source": [
    "nombre_infected       750\n",
    "nombre_sain          2501\n",
    "nombre_exposed        476\n",
    "nombre_recovered    16273\n",
    "Name: 390, dtype: int64"
   ]
  },
  {
   "cell_type": "markdown",
   "id": "ff0da387",
   "metadata": {},
   "source": [
    "nombre_infected       752\n",
    "nombre_sain          2517\n",
    "nombre_exposed        477\n",
    "nombre_recovered    16254\n",
    "Name: 391, dtype: int64"
   ]
  },
  {
   "cell_type": "markdown",
   "id": "68de44cb",
   "metadata": {},
   "source": [
    "nombre_infected       745\n",
    "nombre_sain          2548\n",
    "nombre_exposed        473\n",
    "nombre_recovered    16234\n",
    "Name: 392, dtype: int64"
   ]
  },
  {
   "cell_type": "markdown",
   "id": "21a661e8",
   "metadata": {},
   "source": [
    "nombre_infected       759\n",
    "nombre_sain          2540\n",
    "nombre_exposed        473\n",
    "nombre_recovered    16228\n",
    "Name: 393, dtype: int64"
   ]
  },
  {
   "cell_type": "markdown",
   "id": "3cbd81dc",
   "metadata": {},
   "source": [
    "nombre_infected       771\n",
    "nombre_sain          2530\n",
    "nombre_exposed        485\n",
    "nombre_recovered    16214\n",
    "Name: 394, dtype: int64"
   ]
  },
  {
   "cell_type": "markdown",
   "id": "91510c9e",
   "metadata": {},
   "source": [
    "nombre_infected       794\n",
    "nombre_sain          2519\n",
    "nombre_exposed        493\n",
    "nombre_recovered    16194\n",
    "Name: 395, dtype: int64"
   ]
  },
  {
   "cell_type": "markdown",
   "id": "ff01a121",
   "metadata": {},
   "source": [
    "nombre_infected       786\n",
    "nombre_sain          2513\n",
    "nombre_exposed        514\n",
    "nombre_recovered    16187\n",
    "Name: 396, dtype: int64"
   ]
  },
  {
   "cell_type": "markdown",
   "id": "4339a2f7",
   "metadata": {},
   "source": [
    "nombre_infected       766\n",
    "nombre_sain          2504\n",
    "nombre_exposed        534\n",
    "nombre_recovered    16196\n",
    "Name: 397, dtype: int64"
   ]
  },
  {
   "cell_type": "markdown",
   "id": "c62be9a2",
   "metadata": {},
   "source": [
    "nombre_infected       787\n",
    "nombre_sain          2500\n",
    "nombre_exposed        528\n",
    "nombre_recovered    16185\n",
    "Name: 398, dtype: int64"
   ]
  },
  {
   "cell_type": "markdown",
   "id": "caf29570",
   "metadata": {},
   "source": [
    "nombre_infected       795\n",
    "nombre_sain          2491\n",
    "nombre_exposed        530\n",
    "nombre_recovered    16184\n",
    "Name: 399, dtype: int64"
   ]
  },
  {
   "cell_type": "markdown",
   "id": "75f15eb1",
   "metadata": {},
   "source": [
    "nombre_infected       812\n",
    "nombre_sain          2491\n",
    "nombre_exposed        513\n",
    "nombre_recovered    16184\n",
    "Name: 400, dtype: int64"
   ]
  },
  {
   "cell_type": "markdown",
   "id": "57e313b5",
   "metadata": {},
   "source": [
    "nombre_infected       809\n",
    "nombre_sain          2468\n",
    "nombre_exposed        533\n",
    "nombre_recovered    16190\n",
    "Name: 401, dtype: int64"
   ]
  },
  {
   "cell_type": "markdown",
   "id": "91629998",
   "metadata": {},
   "source": [
    "nombre_infected       811\n",
    "nombre_sain          2488\n",
    "nombre_exposed        514\n",
    "nombre_recovered    16187\n",
    "Name: 402, dtype: int64"
   ]
  },
  {
   "cell_type": "markdown",
   "id": "544f72ae",
   "metadata": {},
   "source": [
    "nombre_infected       803\n",
    "nombre_sain          2455\n",
    "nombre_exposed        524\n",
    "nombre_recovered    16218\n",
    "Name: 403, dtype: int64"
   ]
  },
  {
   "cell_type": "markdown",
   "id": "2a2538d6",
   "metadata": {},
   "source": [
    "nombre_infected       791\n",
    "nombre_sain          2439\n",
    "nombre_exposed        533\n",
    "nombre_recovered    16237\n",
    "Name: 404, dtype: int64"
   ]
  },
  {
   "cell_type": "markdown",
   "id": "4da58490",
   "metadata": {},
   "source": [
    "nombre_infected       803\n",
    "nombre_sain          2420\n",
    "nombre_exposed        546\n",
    "nombre_recovered    16231\n",
    "Name: 405, dtype: int64"
   ]
  },
  {
   "cell_type": "markdown",
   "id": "978dbe4a",
   "metadata": {},
   "source": [
    "nombre_infected       800\n",
    "nombre_sain          2385\n",
    "nombre_exposed        564\n",
    "nombre_recovered    16251\n",
    "Name: 406, dtype: int64"
   ]
  },
  {
   "cell_type": "markdown",
   "id": "6c0898e5",
   "metadata": {},
   "source": [
    "nombre_infected       808\n",
    "nombre_sain          2379\n",
    "nombre_exposed        547\n",
    "nombre_recovered    16266\n",
    "Name: 407, dtype: int64"
   ]
  },
  {
   "cell_type": "markdown",
   "id": "1d7e964e",
   "metadata": {},
   "source": [
    "nombre_infected       797\n",
    "nombre_sain          2358\n",
    "nombre_exposed        536\n",
    "nombre_recovered    16309\n",
    "Name: 408, dtype: int64"
   ]
  },
  {
   "cell_type": "markdown",
   "id": "ad7bba8c",
   "metadata": {},
   "source": [
    "nombre_infected       830\n",
    "nombre_sain          2331\n",
    "nombre_exposed        532\n",
    "nombre_recovered    16307\n",
    "Name: 409, dtype: int64"
   ]
  },
  {
   "cell_type": "markdown",
   "id": "13c50431",
   "metadata": {},
   "source": [
    "nombre_infected       837\n",
    "nombre_sain          2310\n",
    "nombre_exposed        524\n",
    "nombre_recovered    16329\n",
    "Name: 410, dtype: int64"
   ]
  },
  {
   "cell_type": "markdown",
   "id": "ccfbec39",
   "metadata": {},
   "source": [
    "nombre_infected       839\n",
    "nombre_sain          2288\n",
    "nombre_exposed        518\n",
    "nombre_recovered    16355\n",
    "Name: 411, dtype: int64"
   ]
  },
  {
   "cell_type": "markdown",
   "id": "74b1bcdb",
   "metadata": {},
   "source": [
    "nombre_infected       845\n",
    "nombre_sain          2302\n",
    "nombre_exposed        489\n",
    "nombre_recovered    16364\n",
    "Name: 412, dtype: int64"
   ]
  },
  {
   "cell_type": "markdown",
   "id": "f97f9ec8",
   "metadata": {},
   "source": [
    "nombre_infected       821\n",
    "nombre_sain          2284\n",
    "nombre_exposed        500\n",
    "nombre_recovered    16395\n",
    "Name: 413, dtype: int64"
   ]
  },
  {
   "cell_type": "markdown",
   "id": "94f3c30a",
   "metadata": {},
   "source": [
    "nombre_infected       809\n",
    "nombre_sain          2280\n",
    "nombre_exposed        512\n",
    "nombre_recovered    16399\n",
    "Name: 414, dtype: int64"
   ]
  },
  {
   "cell_type": "markdown",
   "id": "fb18878e",
   "metadata": {},
   "source": [
    "nombre_infected       826\n",
    "nombre_sain          2276\n",
    "nombre_exposed        499\n",
    "nombre_recovered    16399\n",
    "Name: 415, dtype: int64"
   ]
  },
  {
   "cell_type": "markdown",
   "id": "23bac683",
   "metadata": {},
   "source": [
    "nombre_infected       820\n",
    "nombre_sain          2278\n",
    "nombre_exposed        487\n",
    "nombre_recovered    16415\n",
    "Name: 416, dtype: int64"
   ]
  },
  {
   "cell_type": "markdown",
   "id": "f636077d",
   "metadata": {},
   "source": [
    "nombre_infected       815\n",
    "nombre_sain          2292\n",
    "nombre_exposed        470\n",
    "nombre_recovered    16423\n",
    "Name: 417, dtype: int64"
   ]
  },
  {
   "cell_type": "markdown",
   "id": "52c30c87",
   "metadata": {},
   "source": [
    "nombre_infected       814\n",
    "nombre_sain          2302\n",
    "nombre_exposed        466\n",
    "nombre_recovered    16418\n",
    "Name: 418, dtype: int64"
   ]
  },
  {
   "cell_type": "markdown",
   "id": "9f42ad17",
   "metadata": {},
   "source": [
    "nombre_infected       815\n",
    "nombre_sain          2305\n",
    "nombre_exposed        478\n",
    "nombre_recovered    16402\n",
    "Name: 419, dtype: int64"
   ]
  },
  {
   "cell_type": "markdown",
   "id": "d6a2a4ee",
   "metadata": {},
   "source": [
    "nombre_infected       798\n",
    "nombre_sain          2304\n",
    "nombre_exposed        485\n",
    "nombre_recovered    16413\n",
    "Name: 420, dtype: int64"
   ]
  },
  {
   "cell_type": "markdown",
   "id": "625a7be0",
   "metadata": {},
   "source": [
    "nombre_infected       795\n",
    "nombre_sain          2292\n",
    "nombre_exposed        512\n",
    "nombre_recovered    16401\n",
    "Name: 421, dtype: int64"
   ]
  },
  {
   "cell_type": "markdown",
   "id": "09ccc505",
   "metadata": {},
   "source": [
    "nombre_infected       791\n",
    "nombre_sain          2294\n",
    "nombre_exposed        514\n",
    "nombre_recovered    16401\n",
    "Name: 422, dtype: int64"
   ]
  },
  {
   "cell_type": "markdown",
   "id": "5629d608",
   "metadata": {},
   "source": [
    "nombre_infected       794\n",
    "nombre_sain          2293\n",
    "nombre_exposed        519\n",
    "nombre_recovered    16394\n",
    "Name: 423, dtype: int64"
   ]
  },
  {
   "cell_type": "markdown",
   "id": "3d666c0e",
   "metadata": {},
   "source": [
    "nombre_infected       799\n",
    "nombre_sain          2274\n",
    "nombre_exposed        528\n",
    "nombre_recovered    16399\n",
    "Name: 424, dtype: int64"
   ]
  },
  {
   "cell_type": "markdown",
   "id": "f7bbc892",
   "metadata": {},
   "source": [
    "nombre_infected       803\n",
    "nombre_sain          2264\n",
    "nombre_exposed        535\n",
    "nombre_recovered    16398\n",
    "Name: 425, dtype: int64"
   ]
  },
  {
   "cell_type": "markdown",
   "id": "a8e5d0fa",
   "metadata": {},
   "source": [
    "nombre_infected       798\n",
    "nombre_sain          2273\n",
    "nombre_exposed        534\n",
    "nombre_recovered    16395\n",
    "Name: 426, dtype: int64"
   ]
  },
  {
   "cell_type": "markdown",
   "id": "36b25d5d",
   "metadata": {},
   "source": [
    "nombre_infected       804\n",
    "nombre_sain          2260\n",
    "nombre_exposed        526\n",
    "nombre_recovered    16410\n",
    "Name: 427, dtype: int64"
   ]
  },
  {
   "cell_type": "markdown",
   "id": "4f3ffa33",
   "metadata": {},
   "source": [
    "nombre_infected       790\n",
    "nombre_sain          2265\n",
    "nombre_exposed        541\n",
    "nombre_recovered    16404\n",
    "Name: 428, dtype: int64"
   ]
  },
  {
   "cell_type": "markdown",
   "id": "6dfca732",
   "metadata": {},
   "source": [
    "nombre_infected       772\n",
    "nombre_sain          2258\n",
    "nombre_exposed        544\n",
    "nombre_recovered    16426\n",
    "Name: 429, dtype: int64"
   ]
  },
  {
   "cell_type": "markdown",
   "id": "5f321435",
   "metadata": {},
   "source": [
    "nombre_infected       775\n",
    "nombre_sain          2256\n",
    "nombre_exposed        531\n",
    "nombre_recovered    16438\n",
    "Name: 430, dtype: int64"
   ]
  },
  {
   "cell_type": "markdown",
   "id": "ad1a601c",
   "metadata": {},
   "source": [
    "nombre_infected       766\n",
    "nombre_sain          2262\n",
    "nombre_exposed        524\n",
    "nombre_recovered    16448\n",
    "Name: 431, dtype: int64"
   ]
  },
  {
   "cell_type": "markdown",
   "id": "a48a8ee5",
   "metadata": {},
   "source": [
    "nombre_infected       783\n",
    "nombre_sain          2283\n",
    "nombre_exposed        496\n",
    "nombre_recovered    16438\n",
    "Name: 432, dtype: int64"
   ]
  },
  {
   "cell_type": "markdown",
   "id": "7a2346e9",
   "metadata": {},
   "source": [
    "nombre_infected       781\n",
    "nombre_sain          2277\n",
    "nombre_exposed        490\n",
    "nombre_recovered    16452\n",
    "Name: 433, dtype: int64"
   ]
  },
  {
   "cell_type": "markdown",
   "id": "00dc3fb8",
   "metadata": {},
   "source": [
    "nombre_infected       775\n",
    "nombre_sain          2268\n",
    "nombre_exposed        490\n",
    "nombre_recovered    16467\n",
    "Name: 434, dtype: int64"
   ]
  },
  {
   "cell_type": "markdown",
   "id": "ef49b821",
   "metadata": {},
   "source": [
    "nombre_infected       776\n",
    "nombre_sain          2282\n",
    "nombre_exposed        469\n",
    "nombre_recovered    16473\n",
    "Name: 435, dtype: int64"
   ]
  },
  {
   "cell_type": "markdown",
   "id": "79c117fc",
   "metadata": {},
   "source": [
    "nombre_infected       773\n",
    "nombre_sain          2289\n",
    "nombre_exposed        456\n",
    "nombre_recovered    16482\n",
    "Name: 436, dtype: int64"
   ]
  },
  {
   "cell_type": "markdown",
   "id": "6fc051a5",
   "metadata": {},
   "source": [
    "nombre_infected       757\n",
    "nombre_sain          2296\n",
    "nombre_exposed        468\n",
    "nombre_recovered    16479\n",
    "Name: 437, dtype: int64"
   ]
  },
  {
   "cell_type": "markdown",
   "id": "cd941ca0",
   "metadata": {},
   "source": [
    "nombre_infected       751\n",
    "nombre_sain          2302\n",
    "nombre_exposed        477\n",
    "nombre_recovered    16470\n",
    "Name: 438, dtype: int64"
   ]
  },
  {
   "cell_type": "markdown",
   "id": "357c4d4e",
   "metadata": {},
   "source": [
    "nombre_infected       761\n",
    "nombre_sain          2293\n",
    "nombre_exposed        481\n",
    "nombre_recovered    16465\n",
    "Name: 439, dtype: int64"
   ]
  },
  {
   "cell_type": "markdown",
   "id": "b0d2087f",
   "metadata": {},
   "source": [
    "nombre_infected       764\n",
    "nombre_sain          2293\n",
    "nombre_exposed        489\n",
    "nombre_recovered    16454\n",
    "Name: 440, dtype: int64"
   ]
  },
  {
   "cell_type": "markdown",
   "id": "301db94c",
   "metadata": {},
   "source": [
    "nombre_infected       790\n",
    "nombre_sain          2276\n",
    "nombre_exposed        500\n",
    "nombre_recovered    16434\n",
    "Name: 441, dtype: int64"
   ]
  },
  {
   "cell_type": "markdown",
   "id": "53c25142",
   "metadata": {},
   "source": [
    "nombre_infected       787\n",
    "nombre_sain          2283\n",
    "nombre_exposed        502\n",
    "nombre_recovered    16428\n",
    "Name: 442, dtype: int64"
   ]
  },
  {
   "cell_type": "markdown",
   "id": "7871639d",
   "metadata": {},
   "source": [
    "nombre_infected       788\n",
    "nombre_sain          2269\n",
    "nombre_exposed        520\n",
    "nombre_recovered    16423\n",
    "Name: 443, dtype: int64"
   ]
  },
  {
   "cell_type": "markdown",
   "id": "243b9329",
   "metadata": {},
   "source": [
    "nombre_infected       799\n",
    "nombre_sain          2261\n",
    "nombre_exposed        529\n",
    "nombre_recovered    16411\n",
    "Name: 444, dtype: int64"
   ]
  },
  {
   "cell_type": "markdown",
   "id": "c785c044",
   "metadata": {},
   "source": [
    "nombre_infected       812\n",
    "nombre_sain          2271\n",
    "nombre_exposed        515\n",
    "nombre_recovered    16402\n",
    "Name: 445, dtype: int64"
   ]
  },
  {
   "cell_type": "markdown",
   "id": "c4812ff2",
   "metadata": {},
   "source": [
    "nombre_infected       822\n",
    "nombre_sain          2275\n",
    "nombre_exposed        498\n",
    "nombre_recovered    16405\n",
    "Name: 446, dtype: int64"
   ]
  },
  {
   "cell_type": "markdown",
   "id": "4a8f6139",
   "metadata": {},
   "source": [
    "nombre_infected       802\n",
    "nombre_sain          2291\n",
    "nombre_exposed        487\n",
    "nombre_recovered    16420\n",
    "Name: 447, dtype: int64"
   ]
  },
  {
   "cell_type": "markdown",
   "id": "77fc5b94",
   "metadata": {},
   "source": [
    "nombre_infected       801\n",
    "nombre_sain          2296\n",
    "nombre_exposed        490\n",
    "nombre_recovered    16413\n",
    "Name: 448, dtype: int64"
   ]
  },
  {
   "cell_type": "markdown",
   "id": "1bb02392",
   "metadata": {},
   "source": [
    "nombre_infected       816\n",
    "nombre_sain          2293\n",
    "nombre_exposed        503\n",
    "nombre_recovered    16388\n",
    "Name: 449, dtype: int64"
   ]
  },
  {
   "cell_type": "markdown",
   "id": "221f9fc5",
   "metadata": {},
   "source": [
    "nombre_infected       792\n",
    "nombre_sain          2314\n",
    "nombre_exposed        510\n",
    "nombre_recovered    16384\n",
    "Name: 450, dtype: int64"
   ]
  },
  {
   "cell_type": "markdown",
   "id": "9cbd7fb7",
   "metadata": {},
   "source": [
    "nombre_infected       807\n",
    "nombre_sain          2307\n",
    "nombre_exposed        526\n",
    "nombre_recovered    16360\n",
    "Name: 451, dtype: int64"
   ]
  },
  {
   "cell_type": "markdown",
   "id": "7f57e44f",
   "metadata": {},
   "source": [
    "nombre_infected       807\n",
    "nombre_sain          2304\n",
    "nombre_exposed        539\n",
    "nombre_recovered    16350\n",
    "Name: 452, dtype: int64"
   ]
  },
  {
   "cell_type": "markdown",
   "id": "5280c1c3",
   "metadata": {},
   "source": [
    "nombre_infected       808\n",
    "nombre_sain          2298\n",
    "nombre_exposed        541\n",
    "nombre_recovered    16353\n",
    "Name: 453, dtype: int64"
   ]
  },
  {
   "cell_type": "markdown",
   "id": "f5645380",
   "metadata": {},
   "source": [
    "nombre_infected       813\n",
    "nombre_sain          2330\n",
    "nombre_exposed        515\n",
    "nombre_recovered    16342\n",
    "Name: 454, dtype: int64"
   ]
  },
  {
   "cell_type": "markdown",
   "id": "2cdfa2b8",
   "metadata": {},
   "source": [
    "nombre_infected       813\n",
    "nombre_sain          2313\n",
    "nombre_exposed        541\n",
    "nombre_recovered    16333\n",
    "Name: 455, dtype: int64"
   ]
  },
  {
   "cell_type": "markdown",
   "id": "56d9aaa3",
   "metadata": {},
   "source": [
    "nombre_infected       793\n",
    "nombre_sain          2332\n",
    "nombre_exposed        541\n",
    "nombre_recovered    16334\n",
    "Name: 456, dtype: int64"
   ]
  },
  {
   "cell_type": "markdown",
   "id": "1c2f5d1d",
   "metadata": {},
   "source": [
    "nombre_infected       802\n",
    "nombre_sain          2345\n",
    "nombre_exposed        542\n",
    "nombre_recovered    16311\n",
    "Name: 457, dtype: int64"
   ]
  },
  {
   "cell_type": "markdown",
   "id": "48b06213",
   "metadata": {},
   "source": [
    "nombre_infected       799\n",
    "nombre_sain          2371\n",
    "nombre_exposed        524\n",
    "nombre_recovered    16306\n",
    "Name: 458, dtype: int64"
   ]
  },
  {
   "cell_type": "markdown",
   "id": "b47003d1",
   "metadata": {},
   "source": [
    "nombre_infected       798\n",
    "nombre_sain          2419\n",
    "nombre_exposed        503\n",
    "nombre_recovered    16280\n",
    "Name: 459, dtype: int64"
   ]
  },
  {
   "cell_type": "markdown",
   "id": "f2b1c753",
   "metadata": {},
   "source": [
    "nombre_infected       818\n",
    "nombre_sain          2433\n",
    "nombre_exposed        509\n",
    "nombre_recovered    16240\n",
    "Name: 460, dtype: int64"
   ]
  },
  {
   "cell_type": "markdown",
   "id": "724afc37",
   "metadata": {},
   "source": [
    "nombre_infected       805\n",
    "nombre_sain          2443\n",
    "nombre_exposed        515\n",
    "nombre_recovered    16237\n",
    "Name: 461, dtype: int64"
   ]
  },
  {
   "cell_type": "markdown",
   "id": "af473965",
   "metadata": {},
   "source": [
    "nombre_infected       800\n",
    "nombre_sain          2451\n",
    "nombre_exposed        527\n",
    "nombre_recovered    16222\n",
    "Name: 462, dtype: int64"
   ]
  },
  {
   "cell_type": "markdown",
   "id": "511373c3",
   "metadata": {},
   "source": [
    "nombre_infected       822\n",
    "nombre_sain          2426\n",
    "nombre_exposed        542\n",
    "nombre_recovered    16210\n",
    "Name: 463, dtype: int64"
   ]
  },
  {
   "cell_type": "markdown",
   "id": "19e7add3",
   "metadata": {},
   "source": [
    "nombre_infected       836\n",
    "nombre_sain          2439\n",
    "nombre_exposed        532\n",
    "nombre_recovered    16193\n",
    "Name: 464, dtype: int64"
   ]
  },
  {
   "cell_type": "markdown",
   "id": "f4f1c35a",
   "metadata": {},
   "source": [
    "nombre_infected       831\n",
    "nombre_sain          2427\n",
    "nombre_exposed        555\n",
    "nombre_recovered    16187\n",
    "Name: 465, dtype: int64"
   ]
  },
  {
   "cell_type": "markdown",
   "id": "6115c52c",
   "metadata": {},
   "source": [
    "nombre_infected       856\n",
    "nombre_sain          2448\n",
    "nombre_exposed        518\n",
    "nombre_recovered    16178\n",
    "Name: 466, dtype: int64"
   ]
  },
  {
   "cell_type": "markdown",
   "id": "5571a353",
   "metadata": {},
   "source": [
    "nombre_infected       864\n",
    "nombre_sain          2442\n",
    "nombre_exposed        520\n",
    "nombre_recovered    16174\n",
    "Name: 467, dtype: int64"
   ]
  },
  {
   "cell_type": "markdown",
   "id": "425c949e",
   "metadata": {},
   "source": [
    "nombre_infected       851\n",
    "nombre_sain          2414\n",
    "nombre_exposed        522\n",
    "nombre_recovered    16213\n",
    "Name: 468, dtype: int64"
   ]
  },
  {
   "cell_type": "markdown",
   "id": "8b341b6e",
   "metadata": {},
   "source": [
    "nombre_infected       823\n",
    "nombre_sain          2402\n",
    "nombre_exposed        538\n",
    "nombre_recovered    16237\n",
    "Name: 469, dtype: int64"
   ]
  },
  {
   "cell_type": "markdown",
   "id": "ee2bb8f0",
   "metadata": {},
   "source": [
    "nombre_infected       804\n",
    "nombre_sain          2388\n",
    "nombre_exposed        555\n",
    "nombre_recovered    16253\n",
    "Name: 470, dtype: int64"
   ]
  },
  {
   "cell_type": "markdown",
   "id": "b8e2ff30",
   "metadata": {},
   "source": [
    "nombre_infected       815\n",
    "nombre_sain          2413\n",
    "nombre_exposed        539\n",
    "nombre_recovered    16233\n",
    "Name: 471, dtype: int64"
   ]
  },
  {
   "cell_type": "markdown",
   "id": "09e9bb6e",
   "metadata": {},
   "source": [
    "nombre_infected       812\n",
    "nombre_sain          2393\n",
    "nombre_exposed        558\n",
    "nombre_recovered    16237\n",
    "Name: 472, dtype: int64"
   ]
  },
  {
   "cell_type": "markdown",
   "id": "3ec27c0b",
   "metadata": {},
   "source": [
    "nombre_infected       814\n",
    "nombre_sain          2389\n",
    "nombre_exposed        563\n",
    "nombre_recovered    16234\n",
    "Name: 473, dtype: int64"
   ]
  },
  {
   "cell_type": "markdown",
   "id": "86cbebf8",
   "metadata": {},
   "source": [
    "nombre_infected       836\n",
    "nombre_sain          2393\n",
    "nombre_exposed        553\n",
    "nombre_recovered    16218\n",
    "Name: 474, dtype: int64"
   ]
  },
  {
   "cell_type": "markdown",
   "id": "de27dbf7",
   "metadata": {},
   "source": [
    "nombre_infected       841\n",
    "nombre_sain          2378\n",
    "nombre_exposed        557\n",
    "nombre_recovered    16224\n",
    "Name: 475, dtype: int64"
   ]
  },
  {
   "cell_type": "markdown",
   "id": "3d0289ec",
   "metadata": {},
   "source": [
    "nombre_infected       850\n",
    "nombre_sain          2382\n",
    "nombre_exposed        543\n",
    "nombre_recovered    16225\n",
    "Name: 476, dtype: int64"
   ]
  },
  {
   "cell_type": "markdown",
   "id": "62d14cd8",
   "metadata": {},
   "source": [
    "nombre_infected       852\n",
    "nombre_sain          2372\n",
    "nombre_exposed        546\n",
    "nombre_recovered    16230\n",
    "Name: 477, dtype: int64"
   ]
  },
  {
   "cell_type": "markdown",
   "id": "d7c788e4",
   "metadata": {},
   "source": [
    "nombre_infected       851\n",
    "nombre_sain          2372\n",
    "nombre_exposed        560\n",
    "nombre_recovered    16217\n",
    "Name: 478, dtype: int64"
   ]
  },
  {
   "cell_type": "markdown",
   "id": "2cab292d",
   "metadata": {},
   "source": [
    "nombre_infected       853\n",
    "nombre_sain          2374\n",
    "nombre_exposed        565\n",
    "nombre_recovered    16208\n",
    "Name: 479, dtype: int64"
   ]
  },
  {
   "cell_type": "markdown",
   "id": "e6fdaeff",
   "metadata": {},
   "source": [
    "nombre_infected       853\n",
    "nombre_sain          2365\n",
    "nombre_exposed        566\n",
    "nombre_recovered    16216\n",
    "Name: 480, dtype: int64"
   ]
  },
  {
   "cell_type": "markdown",
   "id": "856c9178",
   "metadata": {},
   "source": [
    "nombre_infected       849\n",
    "nombre_sain          2352\n",
    "nombre_exposed        563\n",
    "nombre_recovered    16236\n",
    "Name: 481, dtype: int64"
   ]
  },
  {
   "cell_type": "markdown",
   "id": "37dff9eb",
   "metadata": {},
   "source": [
    "nombre_infected       855\n",
    "nombre_sain          2370\n",
    "nombre_exposed        536\n",
    "nombre_recovered    16239\n",
    "Name: 482, dtype: int64"
   ]
  },
  {
   "cell_type": "markdown",
   "id": "25bb3235",
   "metadata": {},
   "source": [
    "nombre_infected       836\n",
    "nombre_sain          2380\n",
    "nombre_exposed        555\n",
    "nombre_recovered    16229\n",
    "Name: 483, dtype: int64"
   ]
  },
  {
   "cell_type": "markdown",
   "id": "2b2cdca3",
   "metadata": {},
   "source": [
    "nombre_infected       866\n",
    "nombre_sain          2390\n",
    "nombre_exposed        527\n",
    "nombre_recovered    16217\n",
    "Name: 484, dtype: int64"
   ]
  },
  {
   "cell_type": "markdown",
   "id": "67153adf",
   "metadata": {},
   "source": [
    "nombre_infected       863\n",
    "nombre_sain          2350\n",
    "nombre_exposed        550\n",
    "nombre_recovered    16237\n",
    "Name: 485, dtype: int64"
   ]
  },
  {
   "cell_type": "markdown",
   "id": "9dd65d15",
   "metadata": {},
   "source": [
    "nombre_infected       861\n",
    "nombre_sain          2323\n",
    "nombre_exposed        539\n",
    "nombre_recovered    16277\n",
    "Name: 486, dtype: int64"
   ]
  },
  {
   "cell_type": "markdown",
   "id": "bcdef900",
   "metadata": {},
   "source": [
    "nombre_infected       872\n",
    "nombre_sain          2307\n",
    "nombre_exposed        538\n",
    "nombre_recovered    16283\n",
    "Name: 487, dtype: int64"
   ]
  },
  {
   "cell_type": "markdown",
   "id": "fa607a21",
   "metadata": {},
   "source": [
    "nombre_infected       894\n",
    "nombre_sain          2281\n",
    "nombre_exposed        540\n",
    "nombre_recovered    16285\n",
    "Name: 488, dtype: int64"
   ]
  },
  {
   "cell_type": "markdown",
   "id": "ca1e7dfe",
   "metadata": {},
   "source": [
    "nombre_infected       878\n",
    "nombre_sain          2275\n",
    "nombre_exposed        533\n",
    "nombre_recovered    16314\n",
    "Name: 489, dtype: int64"
   ]
  },
  {
   "cell_type": "markdown",
   "id": "cf6525f1",
   "metadata": {},
   "source": [
    "nombre_infected       886\n",
    "nombre_sain          2257\n",
    "nombre_exposed        537\n",
    "nombre_recovered    16320\n",
    "Name: 490, dtype: int64"
   ]
  },
  {
   "cell_type": "markdown",
   "id": "0ae8a9f3",
   "metadata": {},
   "source": [
    "nombre_infected       892\n",
    "nombre_sain          2259\n",
    "nombre_exposed        546\n",
    "nombre_recovered    16303\n",
    "Name: 491, dtype: int64"
   ]
  },
  {
   "cell_type": "markdown",
   "id": "42a2f37a",
   "metadata": {},
   "source": [
    "nombre_infected       869\n",
    "nombre_sain          2255\n",
    "nombre_exposed        557\n",
    "nombre_recovered    16319\n",
    "Name: 492, dtype: int64"
   ]
  },
  {
   "cell_type": "markdown",
   "id": "533d605a",
   "metadata": {},
   "source": [
    "nombre_infected       853\n",
    "nombre_sain          2241\n",
    "nombre_exposed        574\n",
    "nombre_recovered    16332\n",
    "Name: 493, dtype: int64"
   ]
  },
  {
   "cell_type": "markdown",
   "id": "675a59ea",
   "metadata": {},
   "source": [
    "nombre_infected       864\n",
    "nombre_sain          2250\n",
    "nombre_exposed        570\n",
    "nombre_recovered    16316\n",
    "Name: 494, dtype: int64"
   ]
  },
  {
   "cell_type": "markdown",
   "id": "f6248e13",
   "metadata": {},
   "source": [
    "nombre_infected       887\n",
    "nombre_sain          2238\n",
    "nombre_exposed        568\n",
    "nombre_recovered    16307\n",
    "Name: 495, dtype: int64"
   ]
  },
  {
   "cell_type": "markdown",
   "id": "7f658991",
   "metadata": {},
   "source": [
    "nombre_infected       897\n",
    "nombre_sain          2255\n",
    "nombre_exposed        547\n",
    "nombre_recovered    16301\n",
    "Name: 496, dtype: int64"
   ]
  },
  {
   "cell_type": "markdown",
   "id": "0be55046",
   "metadata": {},
   "source": [
    "nombre_infected       931\n",
    "nombre_sain          2258\n",
    "nombre_exposed        529\n",
    "nombre_recovered    16282\n",
    "Name: 497, dtype: int64"
   ]
  },
  {
   "cell_type": "markdown",
   "id": "4449bad4",
   "metadata": {},
   "source": [
    "nombre_infected       909\n",
    "nombre_sain          2274\n",
    "nombre_exposed        508\n",
    "nombre_recovered    16309\n",
    "Name: 498, dtype: int64"
   ]
  },
  {
   "cell_type": "markdown",
   "id": "f27b1bb1",
   "metadata": {},
   "source": [
    "nombre_infected       910\n",
    "nombre_sain          2276\n",
    "nombre_exposed        515\n",
    "nombre_recovered    16299\n",
    "Name: 499, dtype: int64"
   ]
  },
  {
   "cell_type": "markdown",
   "id": "3d6ad69b",
   "metadata": {},
   "source": [
    "nombre_infected       858\n",
    "nombre_sain          2253\n",
    "nombre_exposed        557\n",
    "nombre_recovered    16332\n",
    "Name: 500, dtype: int64"
   ]
  },
  {
   "cell_type": "markdown",
   "id": "1c4f6bf8",
   "metadata": {},
   "source": [
    "nombre_infected       871\n",
    "nombre_sain          2217\n",
    "nombre_exposed        558\n",
    "nombre_recovered    16354\n",
    "Name: 501, dtype: int64"
   ]
  },
  {
   "cell_type": "markdown",
   "id": "b1135005",
   "metadata": {},
   "source": [
    "nombre_infected       850\n",
    "nombre_sain          2208\n",
    "nombre_exposed        555\n",
    "nombre_recovered    16387\n",
    "Name: 502, dtype: int64"
   ]
  },
  {
   "cell_type": "markdown",
   "id": "ebbc86ad",
   "metadata": {},
   "source": [
    "nombre_infected       854\n",
    "nombre_sain          2205\n",
    "nombre_exposed        533\n",
    "nombre_recovered    16408\n",
    "Name: 503, dtype: int64"
   ]
  },
  {
   "cell_type": "markdown",
   "id": "0587fa97",
   "metadata": {},
   "source": [
    "nombre_infected       861\n",
    "nombre_sain          2181\n",
    "nombre_exposed        518\n",
    "nombre_recovered    16440\n",
    "Name: 504, dtype: int64"
   ]
  },
  {
   "cell_type": "markdown",
   "id": "7bfc7c1b",
   "metadata": {},
   "source": [
    "nombre_infected       874\n",
    "nombre_sain          2191\n",
    "nombre_exposed        486\n",
    "nombre_recovered    16449\n",
    "Name: 505, dtype: int64"
   ]
  },
  {
   "cell_type": "markdown",
   "id": "7950a57c",
   "metadata": {},
   "source": [
    "nombre_infected       876\n",
    "nombre_sain          2192\n",
    "nombre_exposed        483\n",
    "nombre_recovered    16449\n",
    "Name: 506, dtype: int64"
   ]
  },
  {
   "cell_type": "markdown",
   "id": "73fd3a7c",
   "metadata": {},
   "source": [
    "nombre_infected       867\n",
    "nombre_sain          2194\n",
    "nombre_exposed        478\n",
    "nombre_recovered    16461\n",
    "Name: 507, dtype: int64"
   ]
  },
  {
   "cell_type": "markdown",
   "id": "a83ecba2",
   "metadata": {},
   "source": [
    "nombre_infected       864\n",
    "nombre_sain          2174\n",
    "nombre_exposed        484\n",
    "nombre_recovered    16478\n",
    "Name: 508, dtype: int64"
   ]
  },
  {
   "cell_type": "markdown",
   "id": "0dee6e62",
   "metadata": {},
   "source": [
    "nombre_infected       878\n",
    "nombre_sain          2188\n",
    "nombre_exposed        473\n",
    "nombre_recovered    16461\n",
    "Name: 509, dtype: int64"
   ]
  },
  {
   "cell_type": "markdown",
   "id": "20094b98",
   "metadata": {},
   "source": [
    "nombre_infected       872\n",
    "nombre_sain          2199\n",
    "nombre_exposed        468\n",
    "nombre_recovered    16461\n",
    "Name: 510, dtype: int64"
   ]
  },
  {
   "cell_type": "markdown",
   "id": "2ffb08b6",
   "metadata": {},
   "source": [
    "nombre_infected       868\n",
    "nombre_sain          2200\n",
    "nombre_exposed        463\n",
    "nombre_recovered    16469\n",
    "Name: 511, dtype: int64"
   ]
  },
  {
   "cell_type": "markdown",
   "id": "8251a6c7",
   "metadata": {},
   "source": [
    "nombre_infected       870\n",
    "nombre_sain          2209\n",
    "nombre_exposed        442\n",
    "nombre_recovered    16479\n",
    "Name: 512, dtype: int64"
   ]
  },
  {
   "cell_type": "markdown",
   "id": "880b2ff0",
   "metadata": {},
   "source": [
    "nombre_infected       872\n",
    "nombre_sain          2202\n",
    "nombre_exposed        448\n",
    "nombre_recovered    16478\n",
    "Name: 513, dtype: int64"
   ]
  },
  {
   "cell_type": "markdown",
   "id": "a29c8282",
   "metadata": {},
   "source": [
    "nombre_infected       840\n",
    "nombre_sain          2194\n",
    "nombre_exposed        466\n",
    "nombre_recovered    16500\n",
    "Name: 514, dtype: int64"
   ]
  },
  {
   "cell_type": "markdown",
   "id": "d8c5db92",
   "metadata": {},
   "source": [
    "nombre_infected       838\n",
    "nombre_sain          2180\n",
    "nombre_exposed        479\n",
    "nombre_recovered    16503\n",
    "Name: 515, dtype: int64"
   ]
  },
  {
   "cell_type": "markdown",
   "id": "2e1d8143",
   "metadata": {},
   "source": [
    "nombre_infected       838\n",
    "nombre_sain          2201\n",
    "nombre_exposed        478\n",
    "nombre_recovered    16483\n",
    "Name: 516, dtype: int64"
   ]
  },
  {
   "cell_type": "markdown",
   "id": "7419dd30",
   "metadata": {},
   "source": [
    "nombre_infected       845\n",
    "nombre_sain          2180\n",
    "nombre_exposed        472\n",
    "nombre_recovered    16503\n",
    "Name: 517, dtype: int64"
   ]
  },
  {
   "cell_type": "markdown",
   "id": "2727afed",
   "metadata": {},
   "source": [
    "nombre_infected       852\n",
    "nombre_sain          2163\n",
    "nombre_exposed        475\n",
    "nombre_recovered    16510\n",
    "Name: 518, dtype: int64"
   ]
  },
  {
   "cell_type": "markdown",
   "id": "91c00be7",
   "metadata": {},
   "source": [
    "nombre_infected       860\n",
    "nombre_sain          2150\n",
    "nombre_exposed        469\n",
    "nombre_recovered    16521\n",
    "Name: 519, dtype: int64"
   ]
  },
  {
   "cell_type": "markdown",
   "id": "4536fe6f",
   "metadata": {},
   "source": [
    "nombre_infected       857\n",
    "nombre_sain          2139\n",
    "nombre_exposed        487\n",
    "nombre_recovered    16517\n",
    "Name: 520, dtype: int64"
   ]
  },
  {
   "cell_type": "markdown",
   "id": "b2d30320",
   "metadata": {},
   "source": [
    "nombre_infected       883\n",
    "nombre_sain          2113\n",
    "nombre_exposed        489\n",
    "nombre_recovered    16515\n",
    "Name: 521, dtype: int64"
   ]
  },
  {
   "cell_type": "markdown",
   "id": "f6bcf875",
   "metadata": {},
   "source": [
    "nombre_infected       883\n",
    "nombre_sain          2099\n",
    "nombre_exposed        484\n",
    "nombre_recovered    16534\n",
    "Name: 522, dtype: int64"
   ]
  },
  {
   "cell_type": "markdown",
   "id": "b6993c09",
   "metadata": {},
   "source": [
    "nombre_infected       860\n",
    "nombre_sain          2103\n",
    "nombre_exposed        491\n",
    "nombre_recovered    16546\n",
    "Name: 523, dtype: int64"
   ]
  },
  {
   "cell_type": "markdown",
   "id": "ce79cae5",
   "metadata": {},
   "source": [
    "nombre_infected       874\n",
    "nombre_sain          2115\n",
    "nombre_exposed        437\n",
    "nombre_recovered    16574\n",
    "Name: 524, dtype: int64"
   ]
  },
  {
   "cell_type": "markdown",
   "id": "73122028",
   "metadata": {},
   "source": [
    "nombre_infected       863\n",
    "nombre_sain          2115\n",
    "nombre_exposed        448\n",
    "nombre_recovered    16574\n",
    "Name: 525, dtype: int64"
   ]
  },
  {
   "cell_type": "markdown",
   "id": "18058246",
   "metadata": {},
   "source": [
    "nombre_infected       840\n",
    "nombre_sain          2106\n",
    "nombre_exposed        457\n",
    "nombre_recovered    16597\n",
    "Name: 526, dtype: int64"
   ]
  },
  {
   "cell_type": "markdown",
   "id": "2c6e097f",
   "metadata": {},
   "source": [
    "nombre_infected       849\n",
    "nombre_sain          2103\n",
    "nombre_exposed        461\n",
    "nombre_recovered    16587\n",
    "Name: 527, dtype: int64"
   ]
  },
  {
   "cell_type": "markdown",
   "id": "cfc72f5a",
   "metadata": {},
   "source": [
    "nombre_infected       813\n",
    "nombre_sain          2093\n",
    "nombre_exposed        470\n",
    "nombre_recovered    16624\n",
    "Name: 528, dtype: int64"
   ]
  },
  {
   "cell_type": "markdown",
   "id": "93a866f5",
   "metadata": {},
   "source": [
    "nombre_infected       816\n",
    "nombre_sain          2119\n",
    "nombre_exposed        460\n",
    "nombre_recovered    16605\n",
    "Name: 529, dtype: int64"
   ]
  },
  {
   "cell_type": "markdown",
   "id": "b2e58005",
   "metadata": {},
   "source": [
    "nombre_infected       819\n",
    "nombre_sain          2113\n",
    "nombre_exposed        474\n",
    "nombre_recovered    16594\n",
    "Name: 530, dtype: int64"
   ]
  },
  {
   "cell_type": "markdown",
   "id": "861405fe",
   "metadata": {},
   "source": [
    "nombre_infected       812\n",
    "nombre_sain          2098\n",
    "nombre_exposed        481\n",
    "nombre_recovered    16609\n",
    "Name: 531, dtype: int64"
   ]
  },
  {
   "cell_type": "markdown",
   "id": "f02964e1",
   "metadata": {},
   "source": [
    "nombre_infected       803\n",
    "nombre_sain          2099\n",
    "nombre_exposed        485\n",
    "nombre_recovered    16613\n",
    "Name: 532, dtype: int64"
   ]
  },
  {
   "cell_type": "markdown",
   "id": "fce7f89c",
   "metadata": {},
   "source": [
    "nombre_infected       799\n",
    "nombre_sain          2118\n",
    "nombre_exposed        467\n",
    "nombre_recovered    16616\n",
    "Name: 533, dtype: int64"
   ]
  },
  {
   "cell_type": "markdown",
   "id": "3efe19bb",
   "metadata": {},
   "source": [
    "nombre_infected       768\n",
    "nombre_sain          2125\n",
    "nombre_exposed        469\n",
    "nombre_recovered    16638\n",
    "Name: 534, dtype: int64"
   ]
  },
  {
   "cell_type": "markdown",
   "id": "64ad9413",
   "metadata": {},
   "source": [
    "nombre_infected       748\n",
    "nombre_sain          2139\n",
    "nombre_exposed        472\n",
    "nombre_recovered    16641\n",
    "Name: 535, dtype: int64"
   ]
  },
  {
   "cell_type": "markdown",
   "id": "61e47ba1",
   "metadata": {},
   "source": [
    "nombre_infected       752\n",
    "nombre_sain          2148\n",
    "nombre_exposed        460\n",
    "nombre_recovered    16640\n",
    "Name: 536, dtype: int64"
   ]
  },
  {
   "cell_type": "markdown",
   "id": "59bdc5a8",
   "metadata": {},
   "source": [
    "nombre_infected       776\n",
    "nombre_sain          2160\n",
    "nombre_exposed        436\n",
    "nombre_recovered    16628\n",
    "Name: 537, dtype: int64"
   ]
  },
  {
   "cell_type": "markdown",
   "id": "7c47b925",
   "metadata": {},
   "source": [
    "nombre_infected       749\n",
    "nombre_sain          2193\n",
    "nombre_exposed        420\n",
    "nombre_recovered    16638\n",
    "Name: 538, dtype: int64"
   ]
  },
  {
   "cell_type": "markdown",
   "id": "7610b53c",
   "metadata": {},
   "source": [
    "nombre_infected       734\n",
    "nombre_sain          2201\n",
    "nombre_exposed        425\n",
    "nombre_recovered    16640\n",
    "Name: 539, dtype: int64"
   ]
  },
  {
   "cell_type": "markdown",
   "id": "2a5be1a9",
   "metadata": {},
   "source": [
    "nombre_infected       721\n",
    "nombre_sain          2214\n",
    "nombre_exposed        429\n",
    "nombre_recovered    16636\n",
    "Name: 540, dtype: int64"
   ]
  },
  {
   "cell_type": "markdown",
   "id": "fd2dccbb",
   "metadata": {},
   "source": [
    "nombre_infected       729\n",
    "nombre_sain          2210\n",
    "nombre_exposed        423\n",
    "nombre_recovered    16638\n",
    "Name: 541, dtype: int64"
   ]
  },
  {
   "cell_type": "markdown",
   "id": "a7d554a1",
   "metadata": {},
   "source": [
    "nombre_infected       698\n",
    "nombre_sain          2207\n",
    "nombre_exposed        423\n",
    "nombre_recovered    16672\n",
    "Name: 542, dtype: int64"
   ]
  },
  {
   "cell_type": "markdown",
   "id": "5f09fd3e",
   "metadata": {},
   "source": [
    "nombre_infected       683\n",
    "nombre_sain          2217\n",
    "nombre_exposed        407\n",
    "nombre_recovered    16693\n",
    "Name: 543, dtype: int64"
   ]
  },
  {
   "cell_type": "markdown",
   "id": "755977a4",
   "metadata": {},
   "source": [
    "nombre_infected       693\n",
    "nombre_sain          2244\n",
    "nombre_exposed        410\n",
    "nombre_recovered    16653\n",
    "Name: 544, dtype: int64"
   ]
  },
  {
   "cell_type": "markdown",
   "id": "f1c6d02f",
   "metadata": {},
   "source": [
    "nombre_infected       695\n",
    "nombre_sain          2254\n",
    "nombre_exposed        400\n",
    "nombre_recovered    16651\n",
    "Name: 545, dtype: int64"
   ]
  },
  {
   "cell_type": "markdown",
   "id": "30794ab4",
   "metadata": {},
   "source": [
    "nombre_infected       683\n",
    "nombre_sain          2278\n",
    "nombre_exposed        408\n",
    "nombre_recovered    16631\n",
    "Name: 546, dtype: int64"
   ]
  },
  {
   "cell_type": "markdown",
   "id": "1429fdfe",
   "metadata": {},
   "source": [
    "nombre_infected       662\n",
    "nombre_sain          2305\n",
    "nombre_exposed        413\n",
    "nombre_recovered    16620\n",
    "Name: 547, dtype: int64"
   ]
  },
  {
   "cell_type": "markdown",
   "id": "c3335d41",
   "metadata": {},
   "source": [
    "nombre_infected       638\n",
    "nombre_sain          2319\n",
    "nombre_exposed        420\n",
    "nombre_recovered    16623\n",
    "Name: 548, dtype: int64"
   ]
  },
  {
   "cell_type": "markdown",
   "id": "aa617805",
   "metadata": {},
   "source": [
    "nombre_infected       666\n",
    "nombre_sain          2332\n",
    "nombre_exposed        389\n",
    "nombre_recovered    16613\n",
    "Name: 549, dtype: int64"
   ]
  },
  {
   "cell_type": "markdown",
   "id": "eba2da41",
   "metadata": {},
   "source": [
    "nombre_infected       668\n",
    "nombre_sain          2345\n",
    "nombre_exposed        394\n",
    "nombre_recovered    16593\n",
    "Name: 550, dtype: int64"
   ]
  },
  {
   "cell_type": "markdown",
   "id": "09e454f4",
   "metadata": {},
   "source": [
    "nombre_infected       648\n",
    "nombre_sain          2379\n",
    "nombre_exposed        375\n",
    "nombre_recovered    16598\n",
    "Name: 551, dtype: int64"
   ]
  },
  {
   "cell_type": "markdown",
   "id": "f99e4a41",
   "metadata": {},
   "source": [
    "nombre_infected       647\n",
    "nombre_sain          2431\n",
    "nombre_exposed        357\n",
    "nombre_recovered    16565\n",
    "Name: 552, dtype: int64"
   ]
  },
  {
   "cell_type": "markdown",
   "id": "717b9fa2",
   "metadata": {},
   "source": [
    "nombre_infected       660\n",
    "nombre_sain          2471\n",
    "nombre_exposed        323\n",
    "nombre_recovered    16546\n",
    "Name: 553, dtype: int64"
   ]
  },
  {
   "cell_type": "markdown",
   "id": "f2a49154",
   "metadata": {},
   "source": [
    "nombre_infected       644\n",
    "nombre_sain          2478\n",
    "nombre_exposed        344\n",
    "nombre_recovered    16534\n",
    "Name: 554, dtype: int64"
   ]
  },
  {
   "cell_type": "markdown",
   "id": "175ab093",
   "metadata": {},
   "source": [
    "nombre_infected       606\n",
    "nombre_sain          2512\n",
    "nombre_exposed        368\n",
    "nombre_recovered    16514\n",
    "Name: 555, dtype: int64"
   ]
  },
  {
   "cell_type": "markdown",
   "id": "ad789623",
   "metadata": {},
   "source": [
    "nombre_infected       606\n",
    "nombre_sain          2547\n",
    "nombre_exposed        382\n",
    "nombre_recovered    16465\n",
    "Name: 556, dtype: int64"
   ]
  },
  {
   "cell_type": "markdown",
   "id": "53467fc3",
   "metadata": {},
   "source": [
    "nombre_infected       629\n",
    "nombre_sain          2587\n",
    "nombre_exposed        389\n",
    "nombre_recovered    16395\n",
    "Name: 557, dtype: int64"
   ]
  },
  {
   "cell_type": "markdown",
   "id": "e6e59a65",
   "metadata": {},
   "source": [
    "nombre_infected       625\n",
    "nombre_sain          2603\n",
    "nombre_exposed        406\n",
    "nombre_recovered    16366\n",
    "Name: 558, dtype: int64"
   ]
  },
  {
   "cell_type": "markdown",
   "id": "960099f6",
   "metadata": {},
   "source": [
    "nombre_infected       620\n",
    "nombre_sain          2623\n",
    "nombre_exposed        400\n",
    "nombre_recovered    16357\n",
    "Name: 559, dtype: int64"
   ]
  },
  {
   "cell_type": "markdown",
   "id": "ca790b7d",
   "metadata": {},
   "source": [
    "nombre_infected       644\n",
    "nombre_sain          2639\n",
    "nombre_exposed        397\n",
    "nombre_recovered    16320\n",
    "Name: 560, dtype: int64"
   ]
  },
  {
   "cell_type": "markdown",
   "id": "3c460e4c",
   "metadata": {},
   "source": [
    "nombre_infected       628\n",
    "nombre_sain          2647\n",
    "nombre_exposed        433\n",
    "nombre_recovered    16292\n",
    "Name: 561, dtype: int64"
   ]
  },
  {
   "cell_type": "markdown",
   "id": "245843db",
   "metadata": {},
   "source": [
    "nombre_infected       641\n",
    "nombre_sain          2660\n",
    "nombre_exposed        424\n",
    "nombre_recovered    16275\n",
    "Name: 562, dtype: int64"
   ]
  },
  {
   "cell_type": "markdown",
   "id": "a49ea69c",
   "metadata": {},
   "source": [
    "nombre_infected       672\n",
    "nombre_sain          2649\n",
    "nombre_exposed        419\n",
    "nombre_recovered    16260\n",
    "Name: 563, dtype: int64"
   ]
  },
  {
   "cell_type": "markdown",
   "id": "79785adc",
   "metadata": {},
   "source": [
    "nombre_infected       654\n",
    "nombre_sain          2653\n",
    "nombre_exposed        450\n",
    "nombre_recovered    16243\n",
    "Name: 564, dtype: int64"
   ]
  },
  {
   "cell_type": "markdown",
   "id": "88b028d6",
   "metadata": {},
   "source": [
    "nombre_infected       673\n",
    "nombre_sain          2641\n",
    "nombre_exposed        472\n",
    "nombre_recovered    16214\n",
    "Name: 565, dtype: int64"
   ]
  },
  {
   "cell_type": "markdown",
   "id": "0db1e8a4",
   "metadata": {},
   "source": [
    "nombre_infected       660\n",
    "nombre_sain          2636\n",
    "nombre_exposed        474\n",
    "nombre_recovered    16230\n",
    "Name: 566, dtype: int64"
   ]
  },
  {
   "cell_type": "markdown",
   "id": "1483efdf",
   "metadata": {},
   "source": [
    "nombre_infected       660\n",
    "nombre_sain          2628\n",
    "nombre_exposed        483\n",
    "nombre_recovered    16229\n",
    "Name: 567, dtype: int64"
   ]
  },
  {
   "cell_type": "markdown",
   "id": "86d7093d",
   "metadata": {},
   "source": [
    "nombre_infected       660\n",
    "nombre_sain          2621\n",
    "nombre_exposed        475\n",
    "nombre_recovered    16244\n",
    "Name: 568, dtype: int64"
   ]
  },
  {
   "cell_type": "markdown",
   "id": "964d2520",
   "metadata": {},
   "source": [
    "nombre_infected       658\n",
    "nombre_sain          2650\n",
    "nombre_exposed        455\n",
    "nombre_recovered    16237\n",
    "Name: 569, dtype: int64"
   ]
  },
  {
   "cell_type": "markdown",
   "id": "dd655a22",
   "metadata": {},
   "source": [
    "nombre_infected       677\n",
    "nombre_sain          2663\n",
    "nombre_exposed        452\n",
    "nombre_recovered    16208\n",
    "Name: 570, dtype: int64"
   ]
  },
  {
   "cell_type": "markdown",
   "id": "60cc8168",
   "metadata": {},
   "source": [
    "nombre_infected       668\n",
    "nombre_sain          2687\n",
    "nombre_exposed        455\n",
    "nombre_recovered    16190\n",
    "Name: 571, dtype: int64"
   ]
  },
  {
   "cell_type": "markdown",
   "id": "ce7f3623",
   "metadata": {},
   "source": [
    "nombre_infected       641\n",
    "nombre_sain          2684\n",
    "nombre_exposed        461\n",
    "nombre_recovered    16214\n",
    "Name: 572, dtype: int64"
   ]
  },
  {
   "cell_type": "markdown",
   "id": "f5e1547f",
   "metadata": {},
   "source": [
    "nombre_infected       671\n",
    "nombre_sain          2664\n",
    "nombre_exposed        460\n",
    "nombre_recovered    16205\n",
    "Name: 573, dtype: int64"
   ]
  },
  {
   "cell_type": "markdown",
   "id": "54170d73",
   "metadata": {},
   "source": [
    "nombre_infected       687\n",
    "nombre_sain          2661\n",
    "nombre_exposed        465\n",
    "nombre_recovered    16187\n",
    "Name: 574, dtype: int64"
   ]
  },
  {
   "cell_type": "markdown",
   "id": "56843dac",
   "metadata": {},
   "source": [
    "nombre_infected       681\n",
    "nombre_sain          2660\n",
    "nombre_exposed        472\n",
    "nombre_recovered    16187\n",
    "Name: 575, dtype: int64"
   ]
  },
  {
   "cell_type": "markdown",
   "id": "166d8270",
   "metadata": {},
   "source": [
    "nombre_infected       674\n",
    "nombre_sain          2668\n",
    "nombre_exposed        485\n",
    "nombre_recovered    16173\n",
    "Name: 576, dtype: int64"
   ]
  },
  {
   "cell_type": "markdown",
   "id": "69555f2e",
   "metadata": {},
   "source": [
    "nombre_infected       676\n",
    "nombre_sain          2658\n",
    "nombre_exposed        500\n",
    "nombre_recovered    16166\n",
    "Name: 577, dtype: int64"
   ]
  },
  {
   "cell_type": "markdown",
   "id": "8fe6eae1",
   "metadata": {},
   "source": [
    "nombre_infected       692\n",
    "nombre_sain          2697\n",
    "nombre_exposed        494\n",
    "nombre_recovered    16117\n",
    "Name: 578, dtype: int64"
   ]
  },
  {
   "cell_type": "markdown",
   "id": "96b9864c",
   "metadata": {},
   "source": [
    "nombre_infected       728\n",
    "nombre_sain          2708\n",
    "nombre_exposed        478\n",
    "nombre_recovered    16086\n",
    "Name: 579, dtype: int64"
   ]
  },
  {
   "cell_type": "markdown",
   "id": "70399c9b",
   "metadata": {},
   "source": [
    "nombre_infected       723\n",
    "nombre_sain          2721\n",
    "nombre_exposed        481\n",
    "nombre_recovered    16075\n",
    "Name: 580, dtype: int64"
   ]
  },
  {
   "cell_type": "markdown",
   "id": "e531b0a8",
   "metadata": {},
   "source": [
    "nombre_infected       707\n",
    "nombre_sain          2716\n",
    "nombre_exposed        502\n",
    "nombre_recovered    16075\n",
    "Name: 581, dtype: int64"
   ]
  },
  {
   "cell_type": "markdown",
   "id": "a103e7c8",
   "metadata": {},
   "source": [
    "nombre_infected       728\n",
    "nombre_sain          2713\n",
    "nombre_exposed        496\n",
    "nombre_recovered    16063\n",
    "Name: 582, dtype: int64"
   ]
  },
  {
   "cell_type": "markdown",
   "id": "351832d0",
   "metadata": {},
   "source": [
    "nombre_infected       722\n",
    "nombre_sain          2709\n",
    "nombre_exposed        503\n",
    "nombre_recovered    16066\n",
    "Name: 583, dtype: int64"
   ]
  },
  {
   "cell_type": "markdown",
   "id": "c34c37b3",
   "metadata": {},
   "source": [
    "nombre_infected       751\n",
    "nombre_sain          2703\n",
    "nombre_exposed        487\n",
    "nombre_recovered    16059\n",
    "Name: 584, dtype: int64"
   ]
  },
  {
   "cell_type": "markdown",
   "id": "c09e13f2",
   "metadata": {},
   "source": [
    "nombre_infected       768\n",
    "nombre_sain          2685\n",
    "nombre_exposed        493\n",
    "nombre_recovered    16054\n",
    "Name: 585, dtype: int64"
   ]
  },
  {
   "cell_type": "markdown",
   "id": "c7f883de",
   "metadata": {},
   "source": [
    "nombre_infected       765\n",
    "nombre_sain          2676\n",
    "nombre_exposed        506\n",
    "nombre_recovered    16053\n",
    "Name: 586, dtype: int64"
   ]
  },
  {
   "cell_type": "markdown",
   "id": "31c62110",
   "metadata": {},
   "source": [
    "nombre_infected       757\n",
    "nombre_sain          2656\n",
    "nombre_exposed        539\n",
    "nombre_recovered    16048\n",
    "Name: 587, dtype: int64"
   ]
  },
  {
   "cell_type": "markdown",
   "id": "2df79e07",
   "metadata": {},
   "source": [
    "nombre_infected       756\n",
    "nombre_sain          2621\n",
    "nombre_exposed        566\n",
    "nombre_recovered    16057\n",
    "Name: 588, dtype: int64"
   ]
  },
  {
   "cell_type": "markdown",
   "id": "1a90fe3c",
   "metadata": {},
   "source": [
    "nombre_infected       759\n",
    "nombre_sain          2603\n",
    "nombre_exposed        580\n",
    "nombre_recovered    16058\n",
    "Name: 589, dtype: int64"
   ]
  },
  {
   "cell_type": "markdown",
   "id": "c255bd8c",
   "metadata": {},
   "source": [
    "nombre_infected       789\n",
    "nombre_sain          2590\n",
    "nombre_exposed        558\n",
    "nombre_recovered    16063\n",
    "Name: 590, dtype: int64"
   ]
  },
  {
   "cell_type": "markdown",
   "id": "9df6c9fc",
   "metadata": {},
   "source": [
    "nombre_infected       807\n",
    "nombre_sain          2578\n",
    "nombre_exposed        562\n",
    "nombre_recovered    16053\n",
    "Name: 591, dtype: int64"
   ]
  },
  {
   "cell_type": "markdown",
   "id": "d42d8bcc",
   "metadata": {},
   "source": [
    "nombre_infected       804\n",
    "nombre_sain          2581\n",
    "nombre_exposed        548\n",
    "nombre_recovered    16067\n",
    "Name: 592, dtype: int64"
   ]
  },
  {
   "cell_type": "markdown",
   "id": "9da2c626",
   "metadata": {},
   "source": [
    "nombre_infected       848\n",
    "nombre_sain          2545\n",
    "nombre_exposed        553\n",
    "nombre_recovered    16054\n",
    "Name: 593, dtype: int64"
   ]
  },
  {
   "cell_type": "markdown",
   "id": "133ce7a7",
   "metadata": {},
   "source": [
    "nombre_infected       852\n",
    "nombre_sain          2527\n",
    "nombre_exposed        577\n",
    "nombre_recovered    16044\n",
    "Name: 594, dtype: int64"
   ]
  },
  {
   "cell_type": "markdown",
   "id": "03eabf40",
   "metadata": {},
   "source": [
    "nombre_infected       872\n",
    "nombre_sain          2488\n",
    "nombre_exposed        588\n",
    "nombre_recovered    16052\n",
    "Name: 595, dtype: int64"
   ]
  },
  {
   "cell_type": "markdown",
   "id": "71fcdfb2",
   "metadata": {},
   "source": [
    "nombre_infected       872\n",
    "nombre_sain          2483\n",
    "nombre_exposed        602\n",
    "nombre_recovered    16043\n",
    "Name: 596, dtype: int64"
   ]
  },
  {
   "cell_type": "markdown",
   "id": "a731cb55",
   "metadata": {},
   "source": [
    "nombre_infected       885\n",
    "nombre_sain          2521\n",
    "nombre_exposed        588\n",
    "nombre_recovered    16006\n",
    "Name: 597, dtype: int64"
   ]
  },
  {
   "cell_type": "markdown",
   "id": "56be2924",
   "metadata": {},
   "source": [
    "nombre_infected       887\n",
    "nombre_sain          2509\n",
    "nombre_exposed        581\n",
    "nombre_recovered    16023\n",
    "Name: 598, dtype: int64"
   ]
  },
  {
   "cell_type": "markdown",
   "id": "694429ed",
   "metadata": {},
   "source": [
    "nombre_infected       906\n",
    "nombre_sain          2501\n",
    "nombre_exposed        585\n",
    "nombre_recovered    16008\n",
    "Name: 599, dtype: int64"
   ]
  },
  {
   "cell_type": "markdown",
   "id": "a6094492",
   "metadata": {},
   "source": [
    "nombre_infected       927\n",
    "nombre_sain          2487\n",
    "nombre_exposed        581\n",
    "nombre_recovered    16005\n",
    "Name: 600, dtype: int64"
   ]
  },
  {
   "cell_type": "markdown",
   "id": "d40f326b",
   "metadata": {},
   "source": [
    "nombre_infected       945\n",
    "nombre_sain          2456\n",
    "nombre_exposed        604\n",
    "nombre_recovered    15995\n",
    "Name: 601, dtype: int64"
   ]
  },
  {
   "cell_type": "markdown",
   "id": "4c75e4ff",
   "metadata": {},
   "source": [
    "nombre_infected       941\n",
    "nombre_sain          2441\n",
    "nombre_exposed        608\n",
    "nombre_recovered    16010\n",
    "Name: 602, dtype: int64"
   ]
  },
  {
   "cell_type": "markdown",
   "id": "60b6d49c",
   "metadata": {},
   "source": [
    "nombre_infected       953\n",
    "nombre_sain          2436\n",
    "nombre_exposed        595\n",
    "nombre_recovered    16016\n",
    "Name: 603, dtype: int64"
   ]
  },
  {
   "cell_type": "markdown",
   "id": "705ab590",
   "metadata": {},
   "source": [
    "nombre_infected       949\n",
    "nombre_sain          2428\n",
    "nombre_exposed        596\n",
    "nombre_recovered    16027\n",
    "Name: 604, dtype: int64"
   ]
  },
  {
   "cell_type": "markdown",
   "id": "69d87bf8",
   "metadata": {},
   "source": [
    "nombre_infected       950\n",
    "nombre_sain          2416\n",
    "nombre_exposed        593\n",
    "nombre_recovered    16041\n",
    "Name: 605, dtype: int64"
   ]
  },
  {
   "cell_type": "markdown",
   "id": "2fe03ad9",
   "metadata": {},
   "source": [
    "nombre_infected       965\n",
    "nombre_sain          2386\n",
    "nombre_exposed        601\n",
    "nombre_recovered    16048\n",
    "Name: 606, dtype: int64"
   ]
  },
  {
   "cell_type": "markdown",
   "id": "000e19ca",
   "metadata": {},
   "source": [
    "nombre_infected       964\n",
    "nombre_sain          2354\n",
    "nombre_exposed        607\n",
    "nombre_recovered    16075\n",
    "Name: 607, dtype: int64"
   ]
  },
  {
   "cell_type": "markdown",
   "id": "39b07e68",
   "metadata": {},
   "source": [
    "nombre_infected       952\n",
    "nombre_sain          2339\n",
    "nombre_exposed        598\n",
    "nombre_recovered    16111\n",
    "Name: 608, dtype: int64"
   ]
  },
  {
   "cell_type": "markdown",
   "id": "245d5b3d",
   "metadata": {},
   "source": [
    "nombre_infected       989\n",
    "nombre_sain          2309\n",
    "nombre_exposed        602\n",
    "nombre_recovered    16100\n",
    "Name: 609, dtype: int64"
   ]
  },
  {
   "cell_type": "markdown",
   "id": "e79c8712",
   "metadata": {},
   "source": [
    "nombre_infected       984\n",
    "nombre_sain          2294\n",
    "nombre_exposed        588\n",
    "nombre_recovered    16134\n",
    "Name: 610, dtype: int64"
   ]
  },
  {
   "cell_type": "markdown",
   "id": "be28c7e5",
   "metadata": {},
   "source": [
    "nombre_infected       990\n",
    "nombre_sain          2268\n",
    "nombre_exposed        599\n",
    "nombre_recovered    16143\n",
    "Name: 611, dtype: int64"
   ]
  },
  {
   "cell_type": "markdown",
   "id": "6e67a1e0",
   "metadata": {},
   "source": [
    "nombre_infected      1008\n",
    "nombre_sain          2238\n",
    "nombre_exposed        592\n",
    "nombre_recovered    16162\n",
    "Name: 612, dtype: int64"
   ]
  },
  {
   "cell_type": "markdown",
   "id": "94d8222e",
   "metadata": {},
   "source": [
    "nombre_infected       989\n",
    "nombre_sain          2214\n",
    "nombre_exposed        598\n",
    "nombre_recovered    16199\n",
    "Name: 613, dtype: int64"
   ]
  },
  {
   "cell_type": "markdown",
   "id": "b5457c0c",
   "metadata": {},
   "source": [
    "nombre_infected       990\n",
    "nombre_sain          2182\n",
    "nombre_exposed        595\n",
    "nombre_recovered    16233\n",
    "Name: 614, dtype: int64"
   ]
  },
  {
   "cell_type": "markdown",
   "id": "b81d9e78",
   "metadata": {},
   "source": [
    "nombre_infected       977\n",
    "nombre_sain          2176\n",
    "nombre_exposed        599\n",
    "nombre_recovered    16248\n",
    "Name: 615, dtype: int64"
   ]
  },
  {
   "cell_type": "markdown",
   "id": "be63d143",
   "metadata": {},
   "source": [
    "nombre_infected       986\n",
    "nombre_sain          2172\n",
    "nombre_exposed        583\n",
    "nombre_recovered    16259\n",
    "Name: 616, dtype: int64"
   ]
  },
  {
   "cell_type": "markdown",
   "id": "c65576ca",
   "metadata": {},
   "source": [
    "nombre_infected       974\n",
    "nombre_sain          2135\n",
    "nombre_exposed        578\n",
    "nombre_recovered    16313\n",
    "Name: 617, dtype: int64"
   ]
  },
  {
   "cell_type": "markdown",
   "id": "4c5aa570",
   "metadata": {},
   "source": [
    "nombre_infected       969\n",
    "nombre_sain          2142\n",
    "nombre_exposed        560\n",
    "nombre_recovered    16329\n",
    "Name: 618, dtype: int64"
   ]
  },
  {
   "cell_type": "markdown",
   "id": "43a05fd9",
   "metadata": {},
   "source": [
    "nombre_infected       984\n",
    "nombre_sain          2171\n",
    "nombre_exposed        523\n",
    "nombre_recovered    16322\n",
    "Name: 619, dtype: int64"
   ]
  },
  {
   "cell_type": "markdown",
   "id": "4cf0e180",
   "metadata": {},
   "source": [
    "nombre_infected       989\n",
    "nombre_sain          2185\n",
    "nombre_exposed        500\n",
    "nombre_recovered    16326\n",
    "Name: 620, dtype: int64"
   ]
  },
  {
   "cell_type": "markdown",
   "id": "ded242b8",
   "metadata": {},
   "source": [
    "nombre_infected       961\n",
    "nombre_sain          2173\n",
    "nombre_exposed        517\n",
    "nombre_recovered    16349\n",
    "Name: 621, dtype: int64"
   ]
  },
  {
   "cell_type": "markdown",
   "id": "9a19f321",
   "metadata": {},
   "source": [
    "nombre_infected       939\n",
    "nombre_sain          2158\n",
    "nombre_exposed        517\n",
    "nombre_recovered    16386\n",
    "Name: 622, dtype: int64"
   ]
  },
  {
   "cell_type": "markdown",
   "id": "e1cf6211",
   "metadata": {},
   "source": [
    "nombre_infected       897\n",
    "nombre_sain          2160\n",
    "nombre_exposed        538\n",
    "nombre_recovered    16405\n",
    "Name: 623, dtype: int64"
   ]
  },
  {
   "cell_type": "markdown",
   "id": "c39e88fc",
   "metadata": {},
   "source": [
    "nombre_infected       866\n",
    "nombre_sain          2174\n",
    "nombre_exposed        564\n",
    "nombre_recovered    16396\n",
    "Name: 624, dtype: int64"
   ]
  },
  {
   "cell_type": "markdown",
   "id": "d15d7aa2",
   "metadata": {},
   "source": [
    "nombre_infected       884\n",
    "nombre_sain          2183\n",
    "nombre_exposed        549\n",
    "nombre_recovered    16384\n",
    "Name: 625, dtype: int64"
   ]
  },
  {
   "cell_type": "markdown",
   "id": "ee497a7b",
   "metadata": {},
   "source": [
    "nombre_infected       902\n",
    "nombre_sain          2197\n",
    "nombre_exposed        506\n",
    "nombre_recovered    16395\n",
    "Name: 626, dtype: int64"
   ]
  },
  {
   "cell_type": "markdown",
   "id": "4a252795",
   "metadata": {},
   "source": [
    "nombre_infected       901\n",
    "nombre_sain          2204\n",
    "nombre_exposed        512\n",
    "nombre_recovered    16383\n",
    "Name: 627, dtype: int64"
   ]
  },
  {
   "cell_type": "markdown",
   "id": "c394a055",
   "metadata": {},
   "source": [
    "nombre_infected       913\n",
    "nombre_sain          2210\n",
    "nombre_exposed        497\n",
    "nombre_recovered    16380\n",
    "Name: 628, dtype: int64"
   ]
  },
  {
   "cell_type": "markdown",
   "id": "7790adf4",
   "metadata": {},
   "source": [
    "nombre_infected       913\n",
    "nombre_sain          2208\n",
    "nombre_exposed        499\n",
    "nombre_recovered    16380\n",
    "Name: 629, dtype: int64"
   ]
  },
  {
   "cell_type": "markdown",
   "id": "58211077",
   "metadata": {},
   "source": [
    "nombre_infected       886\n",
    "nombre_sain          2206\n",
    "nombre_exposed        515\n",
    "nombre_recovered    16393\n",
    "Name: 630, dtype: int64"
   ]
  },
  {
   "cell_type": "markdown",
   "id": "912ab2a8",
   "metadata": {},
   "source": [
    "nombre_infected       872\n",
    "nombre_sain          2193\n",
    "nombre_exposed        530\n",
    "nombre_recovered    16405\n",
    "Name: 631, dtype: int64"
   ]
  },
  {
   "cell_type": "markdown",
   "id": "a34039a7",
   "metadata": {},
   "source": [
    "nombre_infected       859\n",
    "nombre_sain          2191\n",
    "nombre_exposed        527\n",
    "nombre_recovered    16423\n",
    "Name: 632, dtype: int64"
   ]
  },
  {
   "cell_type": "markdown",
   "id": "dbc73b06",
   "metadata": {},
   "source": [
    "nombre_infected       844\n",
    "nombre_sain          2201\n",
    "nombre_exposed        517\n",
    "nombre_recovered    16438\n",
    "Name: 633, dtype: int64"
   ]
  },
  {
   "cell_type": "markdown",
   "id": "5f3720bf",
   "metadata": {},
   "source": [
    "nombre_infected       811\n",
    "nombre_sain          2220\n",
    "nombre_exposed        504\n",
    "nombre_recovered    16465\n",
    "Name: 634, dtype: int64"
   ]
  },
  {
   "cell_type": "markdown",
   "id": "f49f3a65",
   "metadata": {},
   "source": [
    "nombre_infected       802\n",
    "nombre_sain          2218\n",
    "nombre_exposed        493\n",
    "nombre_recovered    16487\n",
    "Name: 635, dtype: int64"
   ]
  },
  {
   "cell_type": "markdown",
   "id": "36a0c373",
   "metadata": {},
   "source": [
    "nombre_infected       813\n",
    "nombre_sain          2227\n",
    "nombre_exposed        482\n",
    "nombre_recovered    16478\n",
    "Name: 636, dtype: int64"
   ]
  },
  {
   "cell_type": "markdown",
   "id": "59fe8f4c",
   "metadata": {},
   "source": [
    "nombre_infected       796\n",
    "nombre_sain          2248\n",
    "nombre_exposed        472\n",
    "nombre_recovered    16484\n",
    "Name: 637, dtype: int64"
   ]
  },
  {
   "cell_type": "markdown",
   "id": "f3357110",
   "metadata": {},
   "source": [
    "nombre_infected       824\n",
    "nombre_sain          2221\n",
    "nombre_exposed        461\n",
    "nombre_recovered    16494\n",
    "Name: 638, dtype: int64"
   ]
  },
  {
   "cell_type": "markdown",
   "id": "0908723e",
   "metadata": {},
   "source": [
    "nombre_infected       802\n",
    "nombre_sain          2220\n",
    "nombre_exposed        487\n",
    "nombre_recovered    16491\n",
    "Name: 639, dtype: int64"
   ]
  },
  {
   "cell_type": "markdown",
   "id": "d8cbe599",
   "metadata": {},
   "source": [
    "nombre_infected       803\n",
    "nombre_sain          2201\n",
    "nombre_exposed        505\n",
    "nombre_recovered    16491\n",
    "Name: 640, dtype: int64"
   ]
  },
  {
   "cell_type": "markdown",
   "id": "2b4c1ac9",
   "metadata": {},
   "source": [
    "nombre_infected       763\n",
    "nombre_sain          2199\n",
    "nombre_exposed        522\n",
    "nombre_recovered    16516\n",
    "Name: 641, dtype: int64"
   ]
  },
  {
   "cell_type": "markdown",
   "id": "b1958192",
   "metadata": {},
   "source": [
    "nombre_infected       783\n",
    "nombre_sain          2192\n",
    "nombre_exposed        511\n",
    "nombre_recovered    16514\n",
    "Name: 642, dtype: int64"
   ]
  },
  {
   "cell_type": "markdown",
   "id": "470dc53d",
   "metadata": {},
   "source": [
    "nombre_infected       806\n",
    "nombre_sain          2194\n",
    "nombre_exposed        490\n",
    "nombre_recovered    16510\n",
    "Name: 643, dtype: int64"
   ]
  },
  {
   "cell_type": "markdown",
   "id": "7422c8d6",
   "metadata": {},
   "source": [
    "nombre_infected       799\n",
    "nombre_sain          2208\n",
    "nombre_exposed        496\n",
    "nombre_recovered    16497\n",
    "Name: 644, dtype: int64"
   ]
  },
  {
   "cell_type": "markdown",
   "id": "498f6ebe",
   "metadata": {},
   "source": [
    "nombre_infected       817\n",
    "nombre_sain          2242\n",
    "nombre_exposed        483\n",
    "nombre_recovered    16458\n",
    "Name: 645, dtype: int64"
   ]
  },
  {
   "cell_type": "markdown",
   "id": "7920b188",
   "metadata": {},
   "source": [
    "nombre_infected       821\n",
    "nombre_sain          2242\n",
    "nombre_exposed        479\n",
    "nombre_recovered    16458\n",
    "Name: 646, dtype: int64"
   ]
  },
  {
   "cell_type": "markdown",
   "id": "c7a3a561",
   "metadata": {},
   "source": [
    "nombre_infected       807\n",
    "nombre_sain          2273\n",
    "nombre_exposed        475\n",
    "nombre_recovered    16445\n",
    "Name: 647, dtype: int64"
   ]
  },
  {
   "cell_type": "markdown",
   "id": "feb3c375",
   "metadata": {},
   "source": [
    "nombre_infected       805\n",
    "nombre_sain          2270\n",
    "nombre_exposed        478\n",
    "nombre_recovered    16447\n",
    "Name: 648, dtype: int64"
   ]
  },
  {
   "cell_type": "markdown",
   "id": "b3adbccd",
   "metadata": {},
   "source": [
    "nombre_infected       784\n",
    "nombre_sain          2281\n",
    "nombre_exposed        479\n",
    "nombre_recovered    16456\n",
    "Name: 649, dtype: int64"
   ]
  },
  {
   "cell_type": "markdown",
   "id": "544d8c5f",
   "metadata": {},
   "source": [
    "nombre_infected       777\n",
    "nombre_sain          2282\n",
    "nombre_exposed        498\n",
    "nombre_recovered    16443\n",
    "Name: 650, dtype: int64"
   ]
  },
  {
   "cell_type": "markdown",
   "id": "6cd78bf9",
   "metadata": {},
   "source": [
    "nombre_infected       774\n",
    "nombre_sain          2286\n",
    "nombre_exposed        519\n",
    "nombre_recovered    16421\n",
    "Name: 651, dtype: int64"
   ]
  },
  {
   "cell_type": "markdown",
   "id": "b15e2422",
   "metadata": {},
   "source": [
    "nombre_infected       803\n",
    "nombre_sain          2290\n",
    "nombre_exposed        502\n",
    "nombre_recovered    16405\n",
    "Name: 652, dtype: int64"
   ]
  },
  {
   "cell_type": "markdown",
   "id": "25540101",
   "metadata": {},
   "source": [
    "nombre_infected       795\n",
    "nombre_sain          2278\n",
    "nombre_exposed        513\n",
    "nombre_recovered    16414\n",
    "Name: 653, dtype: int64"
   ]
  },
  {
   "cell_type": "markdown",
   "id": "a23ef147",
   "metadata": {},
   "source": [
    "nombre_infected       804\n",
    "nombre_sain          2276\n",
    "nombre_exposed        497\n",
    "nombre_recovered    16423\n",
    "Name: 654, dtype: int64"
   ]
  },
  {
   "cell_type": "markdown",
   "id": "8ffdf899",
   "metadata": {},
   "source": [
    "nombre_infected       818\n",
    "nombre_sain          2293\n",
    "nombre_exposed        464\n",
    "nombre_recovered    16425\n",
    "Name: 655, dtype: int64"
   ]
  },
  {
   "cell_type": "markdown",
   "id": "e9caabea",
   "metadata": {},
   "source": [
    "nombre_infected       789\n",
    "nombre_sain          2307\n",
    "nombre_exposed        476\n",
    "nombre_recovered    16428\n",
    "Name: 656, dtype: int64"
   ]
  },
  {
   "cell_type": "markdown",
   "id": "fd308b00",
   "metadata": {},
   "source": [
    "nombre_infected       784\n",
    "nombre_sain          2305\n",
    "nombre_exposed        492\n",
    "nombre_recovered    16419\n",
    "Name: 657, dtype: int64"
   ]
  },
  {
   "cell_type": "markdown",
   "id": "51f7190d",
   "metadata": {},
   "source": [
    "nombre_infected       798\n",
    "nombre_sain          2317\n",
    "nombre_exposed        476\n",
    "nombre_recovered    16409\n",
    "Name: 658, dtype: int64"
   ]
  },
  {
   "cell_type": "markdown",
   "id": "189a9326",
   "metadata": {},
   "source": [
    "nombre_infected       792\n",
    "nombre_sain          2340\n",
    "nombre_exposed        469\n",
    "nombre_recovered    16399\n",
    "Name: 659, dtype: int64"
   ]
  },
  {
   "cell_type": "markdown",
   "id": "4d873aca",
   "metadata": {},
   "source": [
    "nombre_infected       778\n",
    "nombre_sain          2318\n",
    "nombre_exposed        488\n",
    "nombre_recovered    16416\n",
    "Name: 660, dtype: int64"
   ]
  },
  {
   "cell_type": "markdown",
   "id": "9324ca6a",
   "metadata": {},
   "source": [
    "nombre_infected       777\n",
    "nombre_sain          2327\n",
    "nombre_exposed        487\n",
    "nombre_recovered    16409\n",
    "Name: 661, dtype: int64"
   ]
  },
  {
   "cell_type": "markdown",
   "id": "200c9d36",
   "metadata": {},
   "source": [
    "nombre_infected       787\n",
    "nombre_sain          2339\n",
    "nombre_exposed        476\n",
    "nombre_recovered    16398\n",
    "Name: 662, dtype: int64"
   ]
  },
  {
   "cell_type": "markdown",
   "id": "73a58b98",
   "metadata": {},
   "source": [
    "nombre_infected       786\n",
    "nombre_sain          2322\n",
    "nombre_exposed        508\n",
    "nombre_recovered    16384\n",
    "Name: 663, dtype: int64"
   ]
  },
  {
   "cell_type": "markdown",
   "id": "e4bd4a4a",
   "metadata": {},
   "source": [
    "nombre_infected       783\n",
    "nombre_sain          2334\n",
    "nombre_exposed        512\n",
    "nombre_recovered    16371\n",
    "Name: 664, dtype: int64"
   ]
  },
  {
   "cell_type": "markdown",
   "id": "f9b3f21b",
   "metadata": {},
   "source": [
    "nombre_infected       795\n",
    "nombre_sain          2338\n",
    "nombre_exposed        512\n",
    "nombre_recovered    16355\n",
    "Name: 665, dtype: int64"
   ]
  },
  {
   "cell_type": "markdown",
   "id": "1a113ee1",
   "metadata": {},
   "source": [
    "nombre_infected       815\n",
    "nombre_sain          2339\n",
    "nombre_exposed        498\n",
    "nombre_recovered    16348\n",
    "Name: 666, dtype: int64"
   ]
  },
  {
   "cell_type": "markdown",
   "id": "2744bb3b",
   "metadata": {},
   "source": [
    "nombre_infected       804\n",
    "nombre_sain          2348\n",
    "nombre_exposed        503\n",
    "nombre_recovered    16345\n",
    "Name: 667, dtype: int64"
   ]
  },
  {
   "cell_type": "markdown",
   "id": "6f14cebc",
   "metadata": {},
   "source": [
    "nombre_infected       788\n",
    "nombre_sain          2373\n",
    "nombre_exposed        515\n",
    "nombre_recovered    16324\n",
    "Name: 668, dtype: int64"
   ]
  },
  {
   "cell_type": "markdown",
   "id": "5417891a",
   "metadata": {},
   "source": [
    "nombre_infected       798\n",
    "nombre_sain          2380\n",
    "nombre_exposed        490\n",
    "nombre_recovered    16332\n",
    "Name: 669, dtype: int64"
   ]
  },
  {
   "cell_type": "markdown",
   "id": "07985e43",
   "metadata": {},
   "source": [
    "nombre_infected       814\n",
    "nombre_sain          2361\n",
    "nombre_exposed        496\n",
    "nombre_recovered    16329\n",
    "Name: 670, dtype: int64"
   ]
  },
  {
   "cell_type": "markdown",
   "id": "53eabde7",
   "metadata": {},
   "source": [
    "nombre_infected       822\n",
    "nombre_sain          2352\n",
    "nombre_exposed        534\n",
    "nombre_recovered    16292\n",
    "Name: 671, dtype: int64"
   ]
  },
  {
   "cell_type": "markdown",
   "id": "a8bfa430",
   "metadata": {},
   "source": [
    "nombre_infected       822\n",
    "nombre_sain          2368\n",
    "nombre_exposed        530\n",
    "nombre_recovered    16280\n",
    "Name: 672, dtype: int64"
   ]
  },
  {
   "cell_type": "markdown",
   "id": "8796def3",
   "metadata": {},
   "source": [
    "nombre_infected       827\n",
    "nombre_sain          2368\n",
    "nombre_exposed        533\n",
    "nombre_recovered    16272\n",
    "Name: 673, dtype: int64"
   ]
  },
  {
   "cell_type": "markdown",
   "id": "efaacc82",
   "metadata": {},
   "source": [
    "nombre_infected       835\n",
    "nombre_sain          2379\n",
    "nombre_exposed        542\n",
    "nombre_recovered    16244\n",
    "Name: 674, dtype: int64"
   ]
  },
  {
   "cell_type": "markdown",
   "id": "0cf0c4ba",
   "metadata": {},
   "source": [
    "nombre_infected       845\n",
    "nombre_sain          2381\n",
    "nombre_exposed        526\n",
    "nombre_recovered    16248\n",
    "Name: 675, dtype: int64"
   ]
  },
  {
   "cell_type": "markdown",
   "id": "041904f4",
   "metadata": {},
   "source": [
    "nombre_infected       828\n",
    "nombre_sain          2367\n",
    "nombre_exposed        532\n",
    "nombre_recovered    16273\n",
    "Name: 676, dtype: int64"
   ]
  },
  {
   "cell_type": "markdown",
   "id": "bb2a2758",
   "metadata": {},
   "source": [
    "nombre_infected       827\n",
    "nombre_sain          2386\n",
    "nombre_exposed        545\n",
    "nombre_recovered    16242\n",
    "Name: 677, dtype: int64"
   ]
  },
  {
   "cell_type": "markdown",
   "id": "18739bca",
   "metadata": {},
   "source": [
    "nombre_infected       824\n",
    "nombre_sain          2353\n",
    "nombre_exposed        563\n",
    "nombre_recovered    16260\n",
    "Name: 678, dtype: int64"
   ]
  },
  {
   "cell_type": "markdown",
   "id": "43f35ae2",
   "metadata": {},
   "source": [
    "nombre_infected       823\n",
    "nombre_sain          2330\n",
    "nombre_exposed        582\n",
    "nombre_recovered    16265\n",
    "Name: 679, dtype: int64"
   ]
  },
  {
   "cell_type": "markdown",
   "id": "4bfab2a1",
   "metadata": {},
   "source": [
    "nombre_infected       834\n",
    "nombre_sain          2320\n",
    "nombre_exposed        570\n",
    "nombre_recovered    16276\n",
    "Name: 680, dtype: int64"
   ]
  },
  {
   "cell_type": "markdown",
   "id": "4786fe42",
   "metadata": {},
   "source": [
    "nombre_infected       844\n",
    "nombre_sain          2304\n",
    "nombre_exposed        567\n",
    "nombre_recovered    16285\n",
    "Name: 681, dtype: int64"
   ]
  },
  {
   "cell_type": "markdown",
   "id": "477207d8",
   "metadata": {},
   "source": [
    "nombre_infected       877\n",
    "nombre_sain          2312\n",
    "nombre_exposed        529\n",
    "nombre_recovered    16282\n",
    "Name: 682, dtype: int64"
   ]
  },
  {
   "cell_type": "markdown",
   "id": "ab151d40",
   "metadata": {},
   "source": [
    "nombre_infected       873\n",
    "nombre_sain          2295\n",
    "nombre_exposed        528\n",
    "nombre_recovered    16304\n",
    "Name: 683, dtype: int64"
   ]
  },
  {
   "cell_type": "markdown",
   "id": "0af96c46",
   "metadata": {},
   "source": [
    "nombre_infected       861\n",
    "nombre_sain          2286\n",
    "nombre_exposed        540\n",
    "nombre_recovered    16313\n",
    "Name: 684, dtype: int64"
   ]
  },
  {
   "cell_type": "markdown",
   "id": "a28680dd",
   "metadata": {},
   "source": [
    "nombre_infected       849\n",
    "nombre_sain          2286\n",
    "nombre_exposed        550\n",
    "nombre_recovered    16315\n",
    "Name: 685, dtype: int64"
   ]
  },
  {
   "cell_type": "markdown",
   "id": "ed4040c6",
   "metadata": {},
   "source": [
    "nombre_infected       864\n",
    "nombre_sain          2265\n",
    "nombre_exposed        549\n",
    "nombre_recovered    16322\n",
    "Name: 686, dtype: int64"
   ]
  },
  {
   "cell_type": "markdown",
   "id": "b03294a8",
   "metadata": {},
   "source": [
    "nombre_infected       854\n",
    "nombre_sain          2243\n",
    "nombre_exposed        566\n",
    "nombre_recovered    16337\n",
    "Name: 687, dtype: int64"
   ]
  },
  {
   "cell_type": "markdown",
   "id": "26af1cdc",
   "metadata": {},
   "source": [
    "nombre_infected       872\n",
    "nombre_sain          2218\n",
    "nombre_exposed        555\n",
    "nombre_recovered    16355\n",
    "Name: 688, dtype: int64"
   ]
  },
  {
   "cell_type": "markdown",
   "id": "fa29bebd",
   "metadata": {},
   "source": [
    "nombre_infected       904\n",
    "nombre_sain          2215\n",
    "nombre_exposed        512\n",
    "nombre_recovered    16369\n",
    "Name: 689, dtype: int64"
   ]
  },
  {
   "cell_type": "markdown",
   "id": "21bd7c9b",
   "metadata": {},
   "source": [
    "nombre_infected       887\n",
    "nombre_sain          2204\n",
    "nombre_exposed        529\n",
    "nombre_recovered    16380\n",
    "Name: 690, dtype: int64"
   ]
  },
  {
   "cell_type": "markdown",
   "id": "c2e39676",
   "metadata": {},
   "source": [
    "nombre_infected       878\n",
    "nombre_sain          2209\n",
    "nombre_exposed        520\n",
    "nombre_recovered    16393\n",
    "Name: 691, dtype: int64"
   ]
  },
  {
   "cell_type": "markdown",
   "id": "e534c7ff",
   "metadata": {},
   "source": [
    "nombre_infected       872\n",
    "nombre_sain          2201\n",
    "nombre_exposed        508\n",
    "nombre_recovered    16419\n",
    "Name: 692, dtype: int64"
   ]
  },
  {
   "cell_type": "markdown",
   "id": "535956c3",
   "metadata": {},
   "source": [
    "nombre_infected       844\n",
    "nombre_sain          2233\n",
    "nombre_exposed        510\n",
    "nombre_recovered    16413\n",
    "Name: 693, dtype: int64"
   ]
  },
  {
   "cell_type": "markdown",
   "id": "4b6f9866",
   "metadata": {},
   "source": [
    "nombre_infected       849\n",
    "nombre_sain          2241\n",
    "nombre_exposed        490\n",
    "nombre_recovered    16420\n",
    "Name: 694, dtype: int64"
   ]
  },
  {
   "cell_type": "markdown",
   "id": "e9e6f1df",
   "metadata": {},
   "source": [
    "nombre_infected       865\n",
    "nombre_sain          2235\n",
    "nombre_exposed        480\n",
    "nombre_recovered    16420\n",
    "Name: 695, dtype: int64"
   ]
  },
  {
   "cell_type": "markdown",
   "id": "0e20f632",
   "metadata": {},
   "source": [
    "nombre_infected       841\n",
    "nombre_sain          2246\n",
    "nombre_exposed        501\n",
    "nombre_recovered    16412\n",
    "Name: 696, dtype: int64"
   ]
  },
  {
   "cell_type": "markdown",
   "id": "5dfd5c2d",
   "metadata": {},
   "source": [
    "nombre_infected       813\n",
    "nombre_sain          2258\n",
    "nombre_exposed        511\n",
    "nombre_recovered    16418\n",
    "Name: 697, dtype: int64"
   ]
  },
  {
   "cell_type": "markdown",
   "id": "906c19e9",
   "metadata": {},
   "source": [
    "nombre_infected       814\n",
    "nombre_sain          2259\n",
    "nombre_exposed        499\n",
    "nombre_recovered    16428\n",
    "Name: 698, dtype: int64"
   ]
  },
  {
   "cell_type": "markdown",
   "id": "7023ef35",
   "metadata": {},
   "source": [
    "nombre_infected       801\n",
    "nombre_sain          2275\n",
    "nombre_exposed        502\n",
    "nombre_recovered    16422\n",
    "Name: 699, dtype: int64"
   ]
  },
  {
   "cell_type": "markdown",
   "id": "cb3d37fa",
   "metadata": {},
   "source": [
    "nombre_infected       775\n",
    "nombre_sain          2292\n",
    "nombre_exposed        518\n",
    "nombre_recovered    16415\n",
    "Name: 700, dtype: int64"
   ]
  },
  {
   "cell_type": "markdown",
   "id": "7f6948b9",
   "metadata": {},
   "source": [
    "nombre_infected       781\n",
    "nombre_sain          2301\n",
    "nombre_exposed        530\n",
    "nombre_recovered    16388\n",
    "Name: 701, dtype: int64"
   ]
  },
  {
   "cell_type": "markdown",
   "id": "9f5be998",
   "metadata": {},
   "source": [
    "nombre_infected       819\n",
    "nombre_sain          2313\n",
    "nombre_exposed        511\n",
    "nombre_recovered    16357\n",
    "Name: 702, dtype: int64"
   ]
  },
  {
   "cell_type": "markdown",
   "id": "8f31ec13",
   "metadata": {},
   "source": [
    "nombre_infected       824\n",
    "nombre_sain          2300\n",
    "nombre_exposed        503\n",
    "nombre_recovered    16373\n",
    "Name: 703, dtype: int64"
   ]
  },
  {
   "cell_type": "markdown",
   "id": "c5070918",
   "metadata": {},
   "source": [
    "nombre_infected       832\n",
    "nombre_sain          2341\n",
    "nombre_exposed        488\n",
    "nombre_recovered    16339\n",
    "Name: 704, dtype: int64"
   ]
  },
  {
   "cell_type": "markdown",
   "id": "5b312258",
   "metadata": {},
   "source": [
    "nombre_infected       840\n",
    "nombre_sain          2355\n",
    "nombre_exposed        481\n",
    "nombre_recovered    16324\n",
    "Name: 705, dtype: int64"
   ]
  },
  {
   "cell_type": "markdown",
   "id": "c65d7cf1",
   "metadata": {},
   "source": [
    "nombre_infected       821\n",
    "nombre_sain          2370\n",
    "nombre_exposed        484\n",
    "nombre_recovered    16325\n",
    "Name: 706, dtype: int64"
   ]
  },
  {
   "cell_type": "markdown",
   "id": "d19c83a7",
   "metadata": {},
   "source": [
    "nombre_infected       793\n",
    "nombre_sain          2383\n",
    "nombre_exposed        478\n",
    "nombre_recovered    16346\n",
    "Name: 707, dtype: int64"
   ]
  },
  {
   "cell_type": "markdown",
   "id": "1ef1c249",
   "metadata": {},
   "source": [
    "nombre_infected       798\n",
    "nombre_sain          2389\n",
    "nombre_exposed        477\n",
    "nombre_recovered    16336\n",
    "Name: 708, dtype: int64"
   ]
  },
  {
   "cell_type": "markdown",
   "id": "263a2dc3",
   "metadata": {},
   "source": [
    "nombre_infected       799\n",
    "nombre_sain          2395\n",
    "nombre_exposed        474\n",
    "nombre_recovered    16332\n",
    "Name: 709, dtype: int64"
   ]
  },
  {
   "cell_type": "markdown",
   "id": "415298b2",
   "metadata": {},
   "source": [
    "nombre_infected       786\n",
    "nombre_sain          2422\n",
    "nombre_exposed        472\n",
    "nombre_recovered    16320\n",
    "Name: 710, dtype: int64"
   ]
  },
  {
   "cell_type": "markdown",
   "id": "9562fbc4",
   "metadata": {},
   "source": [
    "nombre_infected       776\n",
    "nombre_sain          2405\n",
    "nombre_exposed        492\n",
    "nombre_recovered    16327\n",
    "Name: 711, dtype: int64"
   ]
  },
  {
   "cell_type": "markdown",
   "id": "c277c39c",
   "metadata": {},
   "source": [
    "nombre_infected       767\n",
    "nombre_sain          2435\n",
    "nombre_exposed        485\n",
    "nombre_recovered    16313\n",
    "Name: 712, dtype: int64"
   ]
  },
  {
   "cell_type": "markdown",
   "id": "870a96d2",
   "metadata": {},
   "source": [
    "nombre_infected       762\n",
    "nombre_sain          2443\n",
    "nombre_exposed        480\n",
    "nombre_recovered    16315\n",
    "Name: 713, dtype: int64"
   ]
  },
  {
   "cell_type": "markdown",
   "id": "4e92496a",
   "metadata": {},
   "source": [
    "nombre_infected       765\n",
    "nombre_sain          2446\n",
    "nombre_exposed        480\n",
    "nombre_recovered    16309\n",
    "Name: 714, dtype: int64"
   ]
  },
  {
   "cell_type": "markdown",
   "id": "423a7923",
   "metadata": {},
   "source": [
    "nombre_infected       774\n",
    "nombre_sain          2465\n",
    "nombre_exposed        469\n",
    "nombre_recovered    16292\n",
    "Name: 715, dtype: int64"
   ]
  },
  {
   "cell_type": "markdown",
   "id": "6010e0d2",
   "metadata": {},
   "source": [
    "nombre_infected       794\n",
    "nombre_sain          2451\n",
    "nombre_exposed        469\n",
    "nombre_recovered    16286\n",
    "Name: 716, dtype: int64"
   ]
  },
  {
   "cell_type": "markdown",
   "id": "f70af060",
   "metadata": {},
   "source": [
    "nombre_infected       791\n",
    "nombre_sain          2420\n",
    "nombre_exposed        504\n",
    "nombre_recovered    16285\n",
    "Name: 717, dtype: int64"
   ]
  },
  {
   "cell_type": "markdown",
   "id": "6931103c",
   "metadata": {},
   "source": [
    "nombre_infected       774\n",
    "nombre_sain          2434\n",
    "nombre_exposed        514\n",
    "nombre_recovered    16278\n",
    "Name: 718, dtype: int64"
   ]
  },
  {
   "cell_type": "markdown",
   "id": "823c9a49",
   "metadata": {},
   "source": [
    "nombre_infected       776\n",
    "nombre_sain          2422\n",
    "nombre_exposed        515\n",
    "nombre_recovered    16287\n",
    "Name: 719, dtype: int64"
   ]
  },
  {
   "cell_type": "markdown",
   "id": "63c4b5df",
   "metadata": {},
   "source": [
    "nombre_infected       770\n",
    "nombre_sain          2442\n",
    "nombre_exposed        496\n",
    "nombre_recovered    16292\n",
    "Name: 720, dtype: int64"
   ]
  },
  {
   "cell_type": "markdown",
   "id": "4b9d8db3",
   "metadata": {},
   "source": [
    "nombre_infected       808\n",
    "nombre_sain          2454\n",
    "nombre_exposed        497\n",
    "nombre_recovered    16241\n",
    "Name: 721, dtype: int64"
   ]
  },
  {
   "cell_type": "markdown",
   "id": "73260467",
   "metadata": {},
   "source": [
    "nombre_infected       794\n",
    "nombre_sain          2466\n",
    "nombre_exposed        506\n",
    "nombre_recovered    16234\n",
    "Name: 722, dtype: int64"
   ]
  },
  {
   "cell_type": "markdown",
   "id": "fe2d4e16",
   "metadata": {},
   "source": [
    "nombre_infected       798\n",
    "nombre_sain          2460\n",
    "nombre_exposed        527\n",
    "nombre_recovered    16215\n",
    "Name: 723, dtype: int64"
   ]
  },
  {
   "cell_type": "markdown",
   "id": "d4e4d18b",
   "metadata": {},
   "source": [
    "nombre_infected       811\n",
    "nombre_sain          2438\n",
    "nombre_exposed        537\n",
    "nombre_recovered    16214\n",
    "Name: 724, dtype: int64"
   ]
  },
  {
   "cell_type": "markdown",
   "id": "28fe0906",
   "metadata": {},
   "source": [
    "nombre_infected       800\n",
    "nombre_sain          2434\n",
    "nombre_exposed        539\n",
    "nombre_recovered    16227\n",
    "Name: 725, dtype: int64"
   ]
  },
  {
   "cell_type": "markdown",
   "id": "4c2b39c7",
   "metadata": {},
   "source": [
    "nombre_infected       831\n",
    "nombre_sain          2415\n",
    "nombre_exposed        553\n",
    "nombre_recovered    16201\n",
    "Name: 726, dtype: int64"
   ]
  },
  {
   "cell_type": "markdown",
   "id": "22acb9c6",
   "metadata": {},
   "source": [
    "nombre_infected       853\n",
    "nombre_sain          2401\n",
    "nombre_exposed        552\n",
    "nombre_recovered    16194\n",
    "Name: 727, dtype: int64"
   ]
  },
  {
   "cell_type": "markdown",
   "id": "9db5ec2d",
   "metadata": {},
   "source": [
    "nombre_infected       836\n",
    "nombre_sain          2381\n",
    "nombre_exposed        563\n",
    "nombre_recovered    16220\n",
    "Name: 728, dtype: int64"
   ]
  },
  {
   "cell_type": "markdown",
   "id": "825f6c9a",
   "metadata": {},
   "source": [
    "nombre_infected       856\n",
    "nombre_sain          2355\n",
    "nombre_exposed        560\n",
    "nombre_recovered    16229\n",
    "Name: 729, dtype: int64"
   ]
  },
  {
   "cell_type": "markdown",
   "id": "203f36ed",
   "metadata": {},
   "source": [
    "nombre_infected       870\n",
    "nombre_sain          2317\n",
    "nombre_exposed        560\n",
    "nombre_recovered    16253\n",
    "Name: 730, dtype: int64"
   ]
  }
 ],
 "metadata": {},
 "nbformat": 4,
 "nbformat_minor": 5
}
