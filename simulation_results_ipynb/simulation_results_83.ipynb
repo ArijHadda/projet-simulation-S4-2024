{
 "cells": [
  {
   "cell_type": "markdown",
   "id": "c9cbe8fa",
   "metadata": {},
   "source": [
    "nombre_infected        20\n",
    "nombre_sain         19980\n",
    "nombre_exposed          0\n",
    "nombre_recovered        0\n",
    "Name: 0, dtype: int64"
   ]
  },
  {
   "cell_type": "markdown",
   "id": "1d3e0002",
   "metadata": {},
   "source": [
    "nombre_infected        20\n",
    "nombre_sain         19961\n",
    "nombre_exposed         19\n",
    "nombre_recovered        0\n",
    "Name: 1, dtype: int64"
   ]
  },
  {
   "cell_type": "markdown",
   "id": "bd1e18e0",
   "metadata": {},
   "source": [
    "nombre_infected        20\n",
    "nombre_sain         19939\n",
    "nombre_exposed         41\n",
    "nombre_recovered        0\n",
    "Name: 2, dtype: int64"
   ]
  },
  {
   "cell_type": "markdown",
   "id": "48f3d618",
   "metadata": {},
   "source": [
    "nombre_infected        27\n",
    "nombre_sain         19918\n",
    "nombre_exposed         55\n",
    "nombre_recovered        0\n",
    "Name: 3, dtype: int64"
   ]
  },
  {
   "cell_type": "markdown",
   "id": "9da712b7",
   "metadata": {},
   "source": [
    "nombre_infected        33\n",
    "nombre_sain         19875\n",
    "nombre_exposed         92\n",
    "nombre_recovered        0\n",
    "Name: 4, dtype: int64"
   ]
  },
  {
   "cell_type": "markdown",
   "id": "4742299e",
   "metadata": {},
   "source": [
    "nombre_infected        47\n",
    "nombre_sain         19825\n",
    "nombre_exposed        127\n",
    "nombre_recovered        1\n",
    "Name: 5, dtype: int64"
   ]
  },
  {
   "cell_type": "markdown",
   "id": "f3a97d1b",
   "metadata": {},
   "source": [
    "nombre_infected        65\n",
    "nombre_sain         19771\n",
    "nombre_exposed        161\n",
    "nombre_recovered        3\n",
    "Name: 6, dtype: int64"
   ]
  },
  {
   "cell_type": "markdown",
   "id": "c6157b38",
   "metadata": {},
   "source": [
    "nombre_infected        88\n",
    "nombre_sain         19676\n",
    "nombre_exposed        230\n",
    "nombre_recovered        6\n",
    "Name: 7, dtype: int64"
   ]
  },
  {
   "cell_type": "markdown",
   "id": "21d96a1f",
   "metadata": {},
   "source": [
    "nombre_infected       117\n",
    "nombre_sain         19539\n",
    "nombre_exposed        331\n",
    "nombre_recovered       13\n",
    "Name: 8, dtype: int64"
   ]
  },
  {
   "cell_type": "markdown",
   "id": "978ddecc",
   "metadata": {},
   "source": [
    "nombre_infected       143\n",
    "nombre_sain         19394\n",
    "nombre_exposed        421\n",
    "nombre_recovered       42\n",
    "Name: 9, dtype: int64"
   ]
  },
  {
   "cell_type": "markdown",
   "id": "7ed4fa53",
   "metadata": {},
   "source": [
    "nombre_infected       213\n",
    "nombre_sain         19153\n",
    "nombre_exposed        584\n",
    "nombre_recovered       50\n",
    "Name: 10, dtype: int64"
   ]
  },
  {
   "cell_type": "markdown",
   "id": "04878350",
   "metadata": {},
   "source": [
    "nombre_infected       298\n",
    "nombre_sain         18855\n",
    "nombre_exposed        773\n",
    "nombre_recovered       74\n",
    "Name: 11, dtype: int64"
   ]
  },
  {
   "cell_type": "markdown",
   "id": "21ff2650",
   "metadata": {},
   "source": [
    "nombre_infected       398\n",
    "nombre_sain         18454\n",
    "nombre_exposed       1041\n",
    "nombre_recovered      107\n",
    "Name: 12, dtype: int64"
   ]
  },
  {
   "cell_type": "markdown",
   "id": "a3c8f05b",
   "metadata": {},
   "source": [
    "nombre_infected       528\n",
    "nombre_sain         17964\n",
    "nombre_exposed       1360\n",
    "nombre_recovered      148\n",
    "Name: 13, dtype: int64"
   ]
  },
  {
   "cell_type": "markdown",
   "id": "619b8dcc",
   "metadata": {},
   "source": [
    "nombre_infected       711\n",
    "nombre_sain         17297\n",
    "nombre_exposed       1794\n",
    "nombre_recovered      198\n",
    "Name: 14, dtype: int64"
   ]
  },
  {
   "cell_type": "markdown",
   "id": "67965b23",
   "metadata": {},
   "source": [
    "nombre_infected       971\n",
    "nombre_sain         16480\n",
    "nombre_exposed       2282\n",
    "nombre_recovered      267\n",
    "Name: 15, dtype: int64"
   ]
  },
  {
   "cell_type": "markdown",
   "id": "998b3d17",
   "metadata": {},
   "source": [
    "nombre_infected      1311\n",
    "nombre_sain         15446\n",
    "nombre_exposed       2898\n",
    "nombre_recovered      345\n",
    "Name: 16, dtype: int64"
   ]
  },
  {
   "cell_type": "markdown",
   "id": "25060e44",
   "metadata": {},
   "source": [
    "nombre_infected      1736\n",
    "nombre_sain         14117\n",
    "nombre_exposed       3678\n",
    "nombre_recovered      469\n",
    "Name: 17, dtype: int64"
   ]
  },
  {
   "cell_type": "markdown",
   "id": "b0942983",
   "metadata": {},
   "source": [
    "nombre_infected      2259\n",
    "nombre_sain         12563\n",
    "nombre_exposed       4568\n",
    "nombre_recovered      610\n",
    "Name: 18, dtype: int64"
   ]
  },
  {
   "cell_type": "markdown",
   "id": "d4d09bee",
   "metadata": {},
   "source": [
    "nombre_infected      2913\n",
    "nombre_sain         10948\n",
    "nombre_exposed       5317\n",
    "nombre_recovered      822\n",
    "Name: 19, dtype: int64"
   ]
  },
  {
   "cell_type": "markdown",
   "id": "de6e57b7",
   "metadata": {},
   "source": [
    "nombre_infected     3705\n",
    "nombre_sain         9126\n",
    "nombre_exposed      6090\n",
    "nombre_recovered    1079\n",
    "Name: 20, dtype: int64"
   ]
  },
  {
   "cell_type": "markdown",
   "id": "5317e5fd",
   "metadata": {},
   "source": [
    "nombre_infected     4603\n",
    "nombre_sain         7321\n",
    "nombre_exposed      6665\n",
    "nombre_recovered    1411\n",
    "Name: 21, dtype: int64"
   ]
  },
  {
   "cell_type": "markdown",
   "id": "c27882b6",
   "metadata": {},
   "source": [
    "nombre_infected     5517\n",
    "nombre_sain         5703\n",
    "nombre_exposed      6898\n",
    "nombre_recovered    1882\n",
    "Name: 22, dtype: int64"
   ]
  },
  {
   "cell_type": "markdown",
   "id": "88a48c00",
   "metadata": {},
   "source": [
    "nombre_infected     6533\n",
    "nombre_sain         4216\n",
    "nombre_exposed      6831\n",
    "nombre_recovered    2420\n",
    "Name: 23, dtype: int64"
   ]
  },
  {
   "cell_type": "markdown",
   "id": "a939d4dc",
   "metadata": {},
   "source": [
    "nombre_infected     7460\n",
    "nombre_sain         3015\n",
    "nombre_exposed      6454\n",
    "nombre_recovered    3071\n",
    "Name: 24, dtype: int64"
   ]
  },
  {
   "cell_type": "markdown",
   "id": "9a181642",
   "metadata": {},
   "source": [
    "nombre_infected     8254\n",
    "nombre_sain         2045\n",
    "nombre_exposed      5892\n",
    "nombre_recovered    3809\n",
    "Name: 25, dtype: int64"
   ]
  },
  {
   "cell_type": "markdown",
   "id": "7dc3c944",
   "metadata": {},
   "source": [
    "nombre_infected     8705\n",
    "nombre_sain         1408\n",
    "nombre_exposed      5166\n",
    "nombre_recovered    4721\n",
    "Name: 26, dtype: int64"
   ]
  },
  {
   "cell_type": "markdown",
   "id": "55645dfb",
   "metadata": {},
   "source": [
    "nombre_infected     9051\n",
    "nombre_sain          929\n",
    "nombre_exposed      4398\n",
    "nombre_recovered    5622\n",
    "Name: 27, dtype: int64"
   ]
  },
  {
   "cell_type": "markdown",
   "id": "9e7b61b9",
   "metadata": {},
   "source": [
    "nombre_infected     9215\n",
    "nombre_sain          632\n",
    "nombre_exposed      3594\n",
    "nombre_recovered    6559\n",
    "Name: 28, dtype: int64"
   ]
  },
  {
   "cell_type": "markdown",
   "id": "ebe7d061",
   "metadata": {},
   "source": [
    "nombre_infected     9074\n",
    "nombre_sain          430\n",
    "nombre_exposed      2929\n",
    "nombre_recovered    7567\n",
    "Name: 29, dtype: int64"
   ]
  },
  {
   "cell_type": "markdown",
   "id": "d3f64116",
   "metadata": {},
   "source": [
    "nombre_infected     8779\n",
    "nombre_sain          293\n",
    "nombre_exposed      2317\n",
    "nombre_recovered    8611\n",
    "Name: 30, dtype: int64"
   ]
  },
  {
   "cell_type": "markdown",
   "id": "40a367e1",
   "metadata": {},
   "source": [
    "nombre_infected     8400\n",
    "nombre_sain          222\n",
    "nombre_exposed      1784\n",
    "nombre_recovered    9594\n",
    "Name: 31, dtype: int64"
   ]
  },
  {
   "cell_type": "markdown",
   "id": "eae7e7c8",
   "metadata": {},
   "source": [
    "nombre_infected      7873\n",
    "nombre_sain           169\n",
    "nombre_exposed       1429\n",
    "nombre_recovered    10529\n",
    "Name: 32, dtype: int64"
   ]
  },
  {
   "cell_type": "markdown",
   "id": "63c0087d",
   "metadata": {},
   "source": [
    "nombre_infected      7319\n",
    "nombre_sain           141\n",
    "nombre_exposed       1090\n",
    "nombre_recovered    11450\n",
    "Name: 33, dtype: int64"
   ]
  },
  {
   "cell_type": "markdown",
   "id": "6f05d870",
   "metadata": {},
   "source": [
    "nombre_infected      6669\n",
    "nombre_sain           144\n",
    "nombre_exposed        837\n",
    "nombre_recovered    12350\n",
    "Name: 34, dtype: int64"
   ]
  },
  {
   "cell_type": "markdown",
   "id": "0405cba8",
   "metadata": {},
   "source": [
    "nombre_infected      6030\n",
    "nombre_sain           133\n",
    "nombre_exposed        675\n",
    "nombre_recovered    13162\n",
    "Name: 35, dtype: int64"
   ]
  },
  {
   "cell_type": "markdown",
   "id": "cbfc5128",
   "metadata": {},
   "source": [
    "nombre_infected      5454\n",
    "nombre_sain           136\n",
    "nombre_exposed        548\n",
    "nombre_recovered    13862\n",
    "Name: 36, dtype: int64"
   ]
  },
  {
   "cell_type": "markdown",
   "id": "0778d41c",
   "metadata": {},
   "source": [
    "nombre_infected      4888\n",
    "nombre_sain           172\n",
    "nombre_exposed        423\n",
    "nombre_recovered    14517\n",
    "Name: 37, dtype: int64"
   ]
  },
  {
   "cell_type": "markdown",
   "id": "bbfe00ed",
   "metadata": {},
   "source": [
    "nombre_infected      4347\n",
    "nombre_sain           169\n",
    "nombre_exposed        348\n",
    "nombre_recovered    15136\n",
    "Name: 38, dtype: int64"
   ]
  },
  {
   "cell_type": "markdown",
   "id": "5e976319",
   "metadata": {},
   "source": [
    "nombre_infected      3850\n",
    "nombre_sain           175\n",
    "nombre_exposed        294\n",
    "nombre_recovered    15681\n",
    "Name: 39, dtype: int64"
   ]
  },
  {
   "cell_type": "markdown",
   "id": "997d67dc",
   "metadata": {},
   "source": [
    "nombre_infected      3417\n",
    "nombre_sain           191\n",
    "nombre_exposed        252\n",
    "nombre_recovered    16140\n",
    "Name: 40, dtype: int64"
   ]
  },
  {
   "cell_type": "markdown",
   "id": "eebe7b44",
   "metadata": {},
   "source": [
    "nombre_infected      3028\n",
    "nombre_sain           195\n",
    "nombre_exposed        215\n",
    "nombre_recovered    16562\n",
    "Name: 41, dtype: int64"
   ]
  },
  {
   "cell_type": "markdown",
   "id": "17a0c477",
   "metadata": {},
   "source": [
    "nombre_infected      2653\n",
    "nombre_sain           219\n",
    "nombre_exposed        194\n",
    "nombre_recovered    16934\n",
    "Name: 42, dtype: int64"
   ]
  },
  {
   "cell_type": "markdown",
   "id": "0dedda95",
   "metadata": {},
   "source": [
    "nombre_infected      2334\n",
    "nombre_sain           220\n",
    "nombre_exposed        176\n",
    "nombre_recovered    17270\n",
    "Name: 43, dtype: int64"
   ]
  },
  {
   "cell_type": "markdown",
   "id": "8ee76517",
   "metadata": {},
   "source": [
    "nombre_infected      2069\n",
    "nombre_sain           252\n",
    "nombre_exposed        149\n",
    "nombre_recovered    17530\n",
    "Name: 44, dtype: int64"
   ]
  },
  {
   "cell_type": "markdown",
   "id": "63395fb3",
   "metadata": {},
   "source": [
    "nombre_infected      1833\n",
    "nombre_sain           283\n",
    "nombre_exposed        137\n",
    "nombre_recovered    17747\n",
    "Name: 45, dtype: int64"
   ]
  },
  {
   "cell_type": "markdown",
   "id": "1ef0b72b",
   "metadata": {},
   "source": [
    "nombre_infected      1641\n",
    "nombre_sain           319\n",
    "nombre_exposed        124\n",
    "nombre_recovered    17916\n",
    "Name: 46, dtype: int64"
   ]
  },
  {
   "cell_type": "markdown",
   "id": "7a936916",
   "metadata": {},
   "source": [
    "nombre_infected      1444\n",
    "nombre_sain           350\n",
    "nombre_exposed        123\n",
    "nombre_recovered    18083\n",
    "Name: 47, dtype: int64"
   ]
  },
  {
   "cell_type": "markdown",
   "id": "a7fefb3a",
   "metadata": {},
   "source": [
    "nombre_infected      1288\n",
    "nombre_sain           380\n",
    "nombre_exposed        110\n",
    "nombre_recovered    18222\n",
    "Name: 48, dtype: int64"
   ]
  },
  {
   "cell_type": "markdown",
   "id": "b4d56b47",
   "metadata": {},
   "source": [
    "nombre_infected      1133\n",
    "nombre_sain           413\n",
    "nombre_exposed        104\n",
    "nombre_recovered    18350\n",
    "Name: 49, dtype: int64"
   ]
  },
  {
   "cell_type": "markdown",
   "id": "d47a1f53",
   "metadata": {},
   "source": [
    "nombre_infected      1024\n",
    "nombre_sain           458\n",
    "nombre_exposed        100\n",
    "nombre_recovered    18418\n",
    "Name: 50, dtype: int64"
   ]
  },
  {
   "cell_type": "markdown",
   "id": "7caf8ef9",
   "metadata": {},
   "source": [
    "nombre_infected       913\n",
    "nombre_sain           493\n",
    "nombre_exposed         96\n",
    "nombre_recovered    18498\n",
    "Name: 51, dtype: int64"
   ]
  },
  {
   "cell_type": "markdown",
   "id": "5ac32802",
   "metadata": {},
   "source": [
    "nombre_infected       829\n",
    "nombre_sain           535\n",
    "nombre_exposed         95\n",
    "nombre_recovered    18541\n",
    "Name: 52, dtype: int64"
   ]
  },
  {
   "cell_type": "markdown",
   "id": "fa29492a",
   "metadata": {},
   "source": [
    "nombre_infected       741\n",
    "nombre_sain           577\n",
    "nombre_exposed         94\n",
    "nombre_recovered    18588\n",
    "Name: 53, dtype: int64"
   ]
  },
  {
   "cell_type": "markdown",
   "id": "d7c27263",
   "metadata": {},
   "source": [
    "nombre_infected       649\n",
    "nombre_sain           619\n",
    "nombre_exposed        103\n",
    "nombre_recovered    18629\n",
    "Name: 54, dtype: int64"
   ]
  },
  {
   "cell_type": "markdown",
   "id": "6effe024",
   "metadata": {},
   "source": [
    "nombre_infected       618\n",
    "nombre_sain           676\n",
    "nombre_exposed        107\n",
    "nombre_recovered    18599\n",
    "Name: 55, dtype: int64"
   ]
  },
  {
   "cell_type": "markdown",
   "id": "c103a6b4",
   "metadata": {},
   "source": [
    "nombre_infected       581\n",
    "nombre_sain           723\n",
    "nombre_exposed        104\n",
    "nombre_recovered    18592\n",
    "Name: 56, dtype: int64"
   ]
  },
  {
   "cell_type": "markdown",
   "id": "8cb1d628",
   "metadata": {},
   "source": [
    "nombre_infected       549\n",
    "nombre_sain           780\n",
    "nombre_exposed        103\n",
    "nombre_recovered    18568\n",
    "Name: 57, dtype: int64"
   ]
  },
  {
   "cell_type": "markdown",
   "id": "3cf65391",
   "metadata": {},
   "source": [
    "nombre_infected       518\n",
    "nombre_sain           846\n",
    "nombre_exposed         95\n",
    "nombre_recovered    18541\n",
    "Name: 58, dtype: int64"
   ]
  },
  {
   "cell_type": "markdown",
   "id": "46224316",
   "metadata": {},
   "source": [
    "nombre_infected       492\n",
    "nombre_sain           902\n",
    "nombre_exposed        102\n",
    "nombre_recovered    18504\n",
    "Name: 59, dtype: int64"
   ]
  },
  {
   "cell_type": "markdown",
   "id": "557ac7f9",
   "metadata": {},
   "source": [
    "nombre_infected       470\n",
    "nombre_sain           963\n",
    "nombre_exposed        116\n",
    "nombre_recovered    18451\n",
    "Name: 60, dtype: int64"
   ]
  },
  {
   "cell_type": "markdown",
   "id": "735264d0",
   "metadata": {},
   "source": [
    "nombre_infected       447\n",
    "nombre_sain          1017\n",
    "nombre_exposed        109\n",
    "nombre_recovered    18427\n",
    "Name: 61, dtype: int64"
   ]
  },
  {
   "cell_type": "markdown",
   "id": "a0a3a6f5",
   "metadata": {},
   "source": [
    "nombre_infected       407\n",
    "nombre_sain          1071\n",
    "nombre_exposed        114\n",
    "nombre_recovered    18408\n",
    "Name: 62, dtype: int64"
   ]
  },
  {
   "cell_type": "markdown",
   "id": "70278d4c",
   "metadata": {},
   "source": [
    "nombre_infected       390\n",
    "nombre_sain          1089\n",
    "nombre_exposed        125\n",
    "nombre_recovered    18396\n",
    "Name: 63, dtype: int64"
   ]
  },
  {
   "cell_type": "markdown",
   "id": "62195ee6",
   "metadata": {},
   "source": [
    "nombre_infected       368\n",
    "nombre_sain          1132\n",
    "nombre_exposed        122\n",
    "nombre_recovered    18378\n",
    "Name: 64, dtype: int64"
   ]
  },
  {
   "cell_type": "markdown",
   "id": "4ed6db6a",
   "metadata": {},
   "source": [
    "nombre_infected       356\n",
    "nombre_sain          1155\n",
    "nombre_exposed        127\n",
    "nombre_recovered    18362\n",
    "Name: 65, dtype: int64"
   ]
  },
  {
   "cell_type": "markdown",
   "id": "0ff28656",
   "metadata": {},
   "source": [
    "nombre_infected       332\n",
    "nombre_sain          1204\n",
    "nombre_exposed        125\n",
    "nombre_recovered    18339\n",
    "Name: 66, dtype: int64"
   ]
  },
  {
   "cell_type": "markdown",
   "id": "5db6ecf4",
   "metadata": {},
   "source": [
    "nombre_infected       316\n",
    "nombre_sain          1222\n",
    "nombre_exposed        124\n",
    "nombre_recovered    18338\n",
    "Name: 67, dtype: int64"
   ]
  },
  {
   "cell_type": "markdown",
   "id": "4a4c7905",
   "metadata": {},
   "source": [
    "nombre_infected       300\n",
    "nombre_sain          1252\n",
    "nombre_exposed        119\n",
    "nombre_recovered    18329\n",
    "Name: 68, dtype: int64"
   ]
  },
  {
   "cell_type": "markdown",
   "id": "f295cc90",
   "metadata": {},
   "source": [
    "nombre_infected       283\n",
    "nombre_sain          1277\n",
    "nombre_exposed        109\n",
    "nombre_recovered    18331\n",
    "Name: 69, dtype: int64"
   ]
  },
  {
   "cell_type": "markdown",
   "id": "98a2155f",
   "metadata": {},
   "source": [
    "nombre_infected       252\n",
    "nombre_sain          1301\n",
    "nombre_exposed        114\n",
    "nombre_recovered    18333\n",
    "Name: 70, dtype: int64"
   ]
  },
  {
   "cell_type": "markdown",
   "id": "0ced10ab",
   "metadata": {},
   "source": [
    "nombre_infected       247\n",
    "nombre_sain          1338\n",
    "nombre_exposed        102\n",
    "nombre_recovered    18313\n",
    "Name: 71, dtype: int64"
   ]
  },
  {
   "cell_type": "markdown",
   "id": "e3755841",
   "metadata": {},
   "source": [
    "nombre_infected       231\n",
    "nombre_sain          1360\n",
    "nombre_exposed        103\n",
    "nombre_recovered    18306\n",
    "Name: 72, dtype: int64"
   ]
  },
  {
   "cell_type": "markdown",
   "id": "0af150f6",
   "metadata": {},
   "source": [
    "nombre_infected       206\n",
    "nombre_sain          1370\n",
    "nombre_exposed        108\n",
    "nombre_recovered    18316\n",
    "Name: 73, dtype: int64"
   ]
  },
  {
   "cell_type": "markdown",
   "id": "61428add",
   "metadata": {},
   "source": [
    "nombre_infected       200\n",
    "nombre_sain          1402\n",
    "nombre_exposed         98\n",
    "nombre_recovered    18300\n",
    "Name: 74, dtype: int64"
   ]
  },
  {
   "cell_type": "markdown",
   "id": "9e0a3d06",
   "metadata": {},
   "source": [
    "nombre_infected       193\n",
    "nombre_sain          1426\n",
    "nombre_exposed         96\n",
    "nombre_recovered    18285\n",
    "Name: 75, dtype: int64"
   ]
  },
  {
   "cell_type": "markdown",
   "id": "a1799b59",
   "metadata": {},
   "source": [
    "nombre_infected       187\n",
    "nombre_sain          1449\n",
    "nombre_exposed         92\n",
    "nombre_recovered    18272\n",
    "Name: 76, dtype: int64"
   ]
  },
  {
   "cell_type": "markdown",
   "id": "05f079f3",
   "metadata": {},
   "source": [
    "nombre_infected       185\n",
    "nombre_sain          1484\n",
    "nombre_exposed         91\n",
    "nombre_recovered    18240\n",
    "Name: 77, dtype: int64"
   ]
  },
  {
   "cell_type": "markdown",
   "id": "9215540b",
   "metadata": {},
   "source": [
    "nombre_infected       173\n",
    "nombre_sain          1534\n",
    "nombre_exposed         87\n",
    "nombre_recovered    18206\n",
    "Name: 78, dtype: int64"
   ]
  },
  {
   "cell_type": "markdown",
   "id": "0e08f018",
   "metadata": {},
   "source": [
    "nombre_infected       165\n",
    "nombre_sain          1568\n",
    "nombre_exposed         93\n",
    "nombre_recovered    18174\n",
    "Name: 79, dtype: int64"
   ]
  },
  {
   "cell_type": "markdown",
   "id": "41cd7098",
   "metadata": {},
   "source": [
    "nombre_infected       159\n",
    "nombre_sain          1617\n",
    "nombre_exposed         78\n",
    "nombre_recovered    18146\n",
    "Name: 80, dtype: int64"
   ]
  },
  {
   "cell_type": "markdown",
   "id": "8efc4813",
   "metadata": {},
   "source": [
    "nombre_infected       146\n",
    "nombre_sain          1659\n",
    "nombre_exposed         77\n",
    "nombre_recovered    18118\n",
    "Name: 81, dtype: int64"
   ]
  },
  {
   "cell_type": "markdown",
   "id": "b1918882",
   "metadata": {},
   "source": [
    "nombre_infected       135\n",
    "nombre_sain          1696\n",
    "nombre_exposed         80\n",
    "nombre_recovered    18089\n",
    "Name: 82, dtype: int64"
   ]
  },
  {
   "cell_type": "markdown",
   "id": "ac85e020",
   "metadata": {},
   "source": [
    "nombre_infected       127\n",
    "nombre_sain          1732\n",
    "nombre_exposed         82\n",
    "nombre_recovered    18059\n",
    "Name: 83, dtype: int64"
   ]
  },
  {
   "cell_type": "markdown",
   "id": "ee7572f5",
   "metadata": {},
   "source": [
    "nombre_infected       134\n",
    "nombre_sain          1796\n",
    "nombre_exposed         69\n",
    "nombre_recovered    18001\n",
    "Name: 84, dtype: int64"
   ]
  },
  {
   "cell_type": "markdown",
   "id": "88a696cb",
   "metadata": {},
   "source": [
    "nombre_infected       139\n",
    "nombre_sain          1844\n",
    "nombre_exposed         66\n",
    "nombre_recovered    17951\n",
    "Name: 85, dtype: int64"
   ]
  },
  {
   "cell_type": "markdown",
   "id": "49dbe338",
   "metadata": {},
   "source": [
    "nombre_infected       134\n",
    "nombre_sain          1890\n",
    "nombre_exposed         77\n",
    "nombre_recovered    17899\n",
    "Name: 86, dtype: int64"
   ]
  },
  {
   "cell_type": "markdown",
   "id": "97e32e04",
   "metadata": {},
   "source": [
    "nombre_infected       130\n",
    "nombre_sain          1948\n",
    "nombre_exposed         78\n",
    "nombre_recovered    17844\n",
    "Name: 87, dtype: int64"
   ]
  },
  {
   "cell_type": "markdown",
   "id": "4dd4e520",
   "metadata": {},
   "source": [
    "nombre_infected       134\n",
    "nombre_sain          2001\n",
    "nombre_exposed         79\n",
    "nombre_recovered    17786\n",
    "Name: 88, dtype: int64"
   ]
  },
  {
   "cell_type": "markdown",
   "id": "51159329",
   "metadata": {},
   "source": [
    "nombre_infected       142\n",
    "nombre_sain          2062\n",
    "nombre_exposed         71\n",
    "nombre_recovered    17725\n",
    "Name: 89, dtype: int64"
   ]
  },
  {
   "cell_type": "markdown",
   "id": "f155c578",
   "metadata": {},
   "source": [
    "nombre_infected       143\n",
    "nombre_sain          2127\n",
    "nombre_exposed         72\n",
    "nombre_recovered    17658\n",
    "Name: 90, dtype: int64"
   ]
  },
  {
   "cell_type": "markdown",
   "id": "02108918",
   "metadata": {},
   "source": [
    "nombre_infected       145\n",
    "nombre_sain          2201\n",
    "nombre_exposed         68\n",
    "nombre_recovered    17586\n",
    "Name: 91, dtype: int64"
   ]
  },
  {
   "cell_type": "markdown",
   "id": "6d4e31b5",
   "metadata": {},
   "source": [
    "nombre_infected       142\n",
    "nombre_sain          2253\n",
    "nombre_exposed         82\n",
    "nombre_recovered    17523\n",
    "Name: 92, dtype: int64"
   ]
  },
  {
   "cell_type": "markdown",
   "id": "3636eb46",
   "metadata": {},
   "source": [
    "nombre_infected       145\n",
    "nombre_sain          2311\n",
    "nombre_exposed         93\n",
    "nombre_recovered    17451\n",
    "Name: 93, dtype: int64"
   ]
  },
  {
   "cell_type": "markdown",
   "id": "f14d6bf0",
   "metadata": {},
   "source": [
    "nombre_infected       147\n",
    "nombre_sain          2389\n",
    "nombre_exposed         91\n",
    "nombre_recovered    17373\n",
    "Name: 94, dtype: int64"
   ]
  },
  {
   "cell_type": "markdown",
   "id": "c4525497",
   "metadata": {},
   "source": [
    "nombre_infected       145\n",
    "nombre_sain          2453\n",
    "nombre_exposed         95\n",
    "nombre_recovered    17307\n",
    "Name: 95, dtype: int64"
   ]
  },
  {
   "cell_type": "markdown",
   "id": "f733c350",
   "metadata": {},
   "source": [
    "nombre_infected       153\n",
    "nombre_sain          2504\n",
    "nombre_exposed         95\n",
    "nombre_recovered    17248\n",
    "Name: 96, dtype: int64"
   ]
  },
  {
   "cell_type": "markdown",
   "id": "16dbfcd3",
   "metadata": {},
   "source": [
    "nombre_infected       165\n",
    "nombre_sain          2546\n",
    "nombre_exposed         95\n",
    "nombre_recovered    17194\n",
    "Name: 97, dtype: int64"
   ]
  },
  {
   "cell_type": "markdown",
   "id": "c501ebe7",
   "metadata": {},
   "source": [
    "nombre_infected       174\n",
    "nombre_sain          2599\n",
    "nombre_exposed         88\n",
    "nombre_recovered    17139\n",
    "Name: 98, dtype: int64"
   ]
  },
  {
   "cell_type": "markdown",
   "id": "a11d41ad",
   "metadata": {},
   "source": [
    "nombre_infected       175\n",
    "nombre_sain          2615\n",
    "nombre_exposed         96\n",
    "nombre_recovered    17114\n",
    "Name: 99, dtype: int64"
   ]
  },
  {
   "cell_type": "markdown",
   "id": "0ae54633",
   "metadata": {},
   "source": [
    "nombre_infected       182\n",
    "nombre_sain          2641\n",
    "nombre_exposed         91\n",
    "nombre_recovered    17086\n",
    "Name: 100, dtype: int64"
   ]
  },
  {
   "cell_type": "markdown",
   "id": "70c3a5cf",
   "metadata": {},
   "source": [
    "nombre_infected       181\n",
    "nombre_sain          2673\n",
    "nombre_exposed        104\n",
    "nombre_recovered    17042\n",
    "Name: 101, dtype: int64"
   ]
  },
  {
   "cell_type": "markdown",
   "id": "7004bd45",
   "metadata": {},
   "source": [
    "nombre_infected       179\n",
    "nombre_sain          2718\n",
    "nombre_exposed        110\n",
    "nombre_recovered    16993\n",
    "Name: 102, dtype: int64"
   ]
  },
  {
   "cell_type": "markdown",
   "id": "d810e920",
   "metadata": {},
   "source": [
    "nombre_infected       184\n",
    "nombre_sain          2763\n",
    "nombre_exposed        104\n",
    "nombre_recovered    16949\n",
    "Name: 103, dtype: int64"
   ]
  },
  {
   "cell_type": "markdown",
   "id": "864e098a",
   "metadata": {},
   "source": [
    "nombre_infected       182\n",
    "nombre_sain          2795\n",
    "nombre_exposed        111\n",
    "nombre_recovered    16912\n",
    "Name: 104, dtype: int64"
   ]
  },
  {
   "cell_type": "markdown",
   "id": "3c50d74b",
   "metadata": {},
   "source": [
    "nombre_infected       178\n",
    "nombre_sain          2828\n",
    "nombre_exposed        115\n",
    "nombre_recovered    16879\n",
    "Name: 105, dtype: int64"
   ]
  },
  {
   "cell_type": "markdown",
   "id": "bbb56cfa",
   "metadata": {},
   "source": [
    "nombre_infected       186\n",
    "nombre_sain          2850\n",
    "nombre_exposed        132\n",
    "nombre_recovered    16832\n",
    "Name: 106, dtype: int64"
   ]
  },
  {
   "cell_type": "markdown",
   "id": "84e800d1",
   "metadata": {},
   "source": [
    "nombre_infected       180\n",
    "nombre_sain          2888\n",
    "nombre_exposed        142\n",
    "nombre_recovered    16790\n",
    "Name: 107, dtype: int64"
   ]
  },
  {
   "cell_type": "markdown",
   "id": "aee4e757",
   "metadata": {},
   "source": [
    "nombre_infected       179\n",
    "nombre_sain          2909\n",
    "nombre_exposed        153\n",
    "nombre_recovered    16759\n",
    "Name: 108, dtype: int64"
   ]
  },
  {
   "cell_type": "markdown",
   "id": "8fc538e6",
   "metadata": {},
   "source": [
    "nombre_infected       191\n",
    "nombre_sain          2940\n",
    "nombre_exposed        157\n",
    "nombre_recovered    16712\n",
    "Name: 109, dtype: int64"
   ]
  },
  {
   "cell_type": "markdown",
   "id": "4c41b501",
   "metadata": {},
   "source": [
    "nombre_infected       207\n",
    "nombre_sain          2971\n",
    "nombre_exposed        158\n",
    "nombre_recovered    16664\n",
    "Name: 110, dtype: int64"
   ]
  },
  {
   "cell_type": "markdown",
   "id": "38645e41",
   "metadata": {},
   "source": [
    "nombre_infected       235\n",
    "nombre_sain          2984\n",
    "nombre_exposed        161\n",
    "nombre_recovered    16620\n",
    "Name: 111, dtype: int64"
   ]
  },
  {
   "cell_type": "markdown",
   "id": "2bba31be",
   "metadata": {},
   "source": [
    "nombre_infected       251\n",
    "nombre_sain          3012\n",
    "nombre_exposed        167\n",
    "nombre_recovered    16570\n",
    "Name: 112, dtype: int64"
   ]
  },
  {
   "cell_type": "markdown",
   "id": "16c08578",
   "metadata": {},
   "source": [
    "nombre_infected       261\n",
    "nombre_sain          3013\n",
    "nombre_exposed        183\n",
    "nombre_recovered    16543\n",
    "Name: 113, dtype: int64"
   ]
  },
  {
   "cell_type": "markdown",
   "id": "95c0368e",
   "metadata": {},
   "source": [
    "nombre_infected       273\n",
    "nombre_sain          3021\n",
    "nombre_exposed        192\n",
    "nombre_recovered    16514\n",
    "Name: 114, dtype: int64"
   ]
  },
  {
   "cell_type": "markdown",
   "id": "68683b02",
   "metadata": {},
   "source": [
    "nombre_infected       293\n",
    "nombre_sain          3027\n",
    "nombre_exposed        197\n",
    "nombre_recovered    16483\n",
    "Name: 115, dtype: int64"
   ]
  },
  {
   "cell_type": "markdown",
   "id": "0bd1c07d",
   "metadata": {},
   "source": [
    "nombre_infected       307\n",
    "nombre_sain          3024\n",
    "nombre_exposed        213\n",
    "nombre_recovered    16456\n",
    "Name: 116, dtype: int64"
   ]
  },
  {
   "cell_type": "markdown",
   "id": "cc5d7980",
   "metadata": {},
   "source": [
    "nombre_infected       308\n",
    "nombre_sain          3005\n",
    "nombre_exposed        243\n",
    "nombre_recovered    16444\n",
    "Name: 117, dtype: int64"
   ]
  },
  {
   "cell_type": "markdown",
   "id": "94163219",
   "metadata": {},
   "source": [
    "nombre_infected       326\n",
    "nombre_sain          3009\n",
    "nombre_exposed        258\n",
    "nombre_recovered    16407\n",
    "Name: 118, dtype: int64"
   ]
  },
  {
   "cell_type": "markdown",
   "id": "7ef82a5a",
   "metadata": {},
   "source": [
    "nombre_infected       356\n",
    "nombre_sain          3019\n",
    "nombre_exposed        244\n",
    "nombre_recovered    16381\n",
    "Name: 119, dtype: int64"
   ]
  },
  {
   "cell_type": "markdown",
   "id": "4ac912c3",
   "metadata": {},
   "source": [
    "nombre_infected       381\n",
    "nombre_sain          3018\n",
    "nombre_exposed        259\n",
    "nombre_recovered    16342\n",
    "Name: 120, dtype: int64"
   ]
  },
  {
   "cell_type": "markdown",
   "id": "7c728903",
   "metadata": {},
   "source": [
    "nombre_infected       388\n",
    "nombre_sain          2995\n",
    "nombre_exposed        288\n",
    "nombre_recovered    16329\n",
    "Name: 121, dtype: int64"
   ]
  },
  {
   "cell_type": "markdown",
   "id": "af1e7f0a",
   "metadata": {},
   "source": [
    "nombre_infected       410\n",
    "nombre_sain          3007\n",
    "nombre_exposed        283\n",
    "nombre_recovered    16300\n",
    "Name: 122, dtype: int64"
   ]
  },
  {
   "cell_type": "markdown",
   "id": "a1cbe351",
   "metadata": {},
   "source": [
    "nombre_infected       433\n",
    "nombre_sain          2974\n",
    "nombre_exposed        298\n",
    "nombre_recovered    16295\n",
    "Name: 123, dtype: int64"
   ]
  },
  {
   "cell_type": "markdown",
   "id": "062999b5",
   "metadata": {},
   "source": [
    "nombre_infected       457\n",
    "nombre_sain          2989\n",
    "nombre_exposed        293\n",
    "nombre_recovered    16261\n",
    "Name: 124, dtype: int64"
   ]
  },
  {
   "cell_type": "markdown",
   "id": "5be48335",
   "metadata": {},
   "source": [
    "nombre_infected       472\n",
    "nombre_sain          2975\n",
    "nombre_exposed        303\n",
    "nombre_recovered    16250\n",
    "Name: 125, dtype: int64"
   ]
  },
  {
   "cell_type": "markdown",
   "id": "10d59793",
   "metadata": {},
   "source": [
    "nombre_infected       498\n",
    "nombre_sain          2953\n",
    "nombre_exposed        327\n",
    "nombre_recovered    16222\n",
    "Name: 126, dtype: int64"
   ]
  },
  {
   "cell_type": "markdown",
   "id": "142867ff",
   "metadata": {},
   "source": [
    "nombre_infected       496\n",
    "nombre_sain          2920\n",
    "nombre_exposed        354\n",
    "nombre_recovered    16230\n",
    "Name: 127, dtype: int64"
   ]
  },
  {
   "cell_type": "markdown",
   "id": "d520bf8f",
   "metadata": {},
   "source": [
    "nombre_infected       517\n",
    "nombre_sain          2903\n",
    "nombre_exposed        359\n",
    "nombre_recovered    16221\n",
    "Name: 128, dtype: int64"
   ]
  },
  {
   "cell_type": "markdown",
   "id": "ae83761a",
   "metadata": {},
   "source": [
    "nombre_infected       534\n",
    "nombre_sain          2865\n",
    "nombre_exposed        381\n",
    "nombre_recovered    16220\n",
    "Name: 129, dtype: int64"
   ]
  },
  {
   "cell_type": "markdown",
   "id": "e3686008",
   "metadata": {},
   "source": [
    "nombre_infected       577\n",
    "nombre_sain          2830\n",
    "nombre_exposed        394\n",
    "nombre_recovered    16199\n",
    "Name: 130, dtype: int64"
   ]
  },
  {
   "cell_type": "markdown",
   "id": "80815de6",
   "metadata": {},
   "source": [
    "nombre_infected       595\n",
    "nombre_sain          2772\n",
    "nombre_exposed        430\n",
    "nombre_recovered    16203\n",
    "Name: 131, dtype: int64"
   ]
  },
  {
   "cell_type": "markdown",
   "id": "8b8c0cf0",
   "metadata": {},
   "source": [
    "nombre_infected       611\n",
    "nombre_sain          2735\n",
    "nombre_exposed        449\n",
    "nombre_recovered    16205\n",
    "Name: 132, dtype: int64"
   ]
  },
  {
   "cell_type": "markdown",
   "id": "ae303f26",
   "metadata": {},
   "source": [
    "nombre_infected       657\n",
    "nombre_sain          2719\n",
    "nombre_exposed        429\n",
    "nombre_recovered    16195\n",
    "Name: 133, dtype: int64"
   ]
  },
  {
   "cell_type": "markdown",
   "id": "0b25c3f7",
   "metadata": {},
   "source": [
    "nombre_infected       676\n",
    "nombre_sain          2666\n",
    "nombre_exposed        460\n",
    "nombre_recovered    16198\n",
    "Name: 134, dtype: int64"
   ]
  },
  {
   "cell_type": "markdown",
   "id": "04795f44",
   "metadata": {},
   "source": [
    "nombre_infected       705\n",
    "nombre_sain          2623\n",
    "nombre_exposed        459\n",
    "nombre_recovered    16213\n",
    "Name: 135, dtype: int64"
   ]
  },
  {
   "cell_type": "markdown",
   "id": "38ca31e9",
   "metadata": {},
   "source": [
    "nombre_infected       737\n",
    "nombre_sain          2558\n",
    "nombre_exposed        480\n",
    "nombre_recovered    16225\n",
    "Name: 136, dtype: int64"
   ]
  },
  {
   "cell_type": "markdown",
   "id": "5ac781ea",
   "metadata": {},
   "source": [
    "nombre_infected       780\n",
    "nombre_sain          2534\n",
    "nombre_exposed        478\n",
    "nombre_recovered    16208\n",
    "Name: 137, dtype: int64"
   ]
  },
  {
   "cell_type": "markdown",
   "id": "5cfd2108",
   "metadata": {},
   "source": [
    "nombre_infected       812\n",
    "nombre_sain          2449\n",
    "nombre_exposed        514\n",
    "nombre_recovered    16225\n",
    "Name: 138, dtype: int64"
   ]
  },
  {
   "cell_type": "markdown",
   "id": "3abde14c",
   "metadata": {},
   "source": [
    "nombre_infected       869\n",
    "nombre_sain          2398\n",
    "nombre_exposed        498\n",
    "nombre_recovered    16235\n",
    "Name: 139, dtype: int64"
   ]
  },
  {
   "cell_type": "markdown",
   "id": "1fcc6894",
   "metadata": {},
   "source": [
    "nombre_infected       901\n",
    "nombre_sain          2326\n",
    "nombre_exposed        526\n",
    "nombre_recovered    16247\n",
    "Name: 140, dtype: int64"
   ]
  },
  {
   "cell_type": "markdown",
   "id": "279c65f1",
   "metadata": {},
   "source": [
    "nombre_infected       911\n",
    "nombre_sain          2277\n",
    "nombre_exposed        541\n",
    "nombre_recovered    16271\n",
    "Name: 141, dtype: int64"
   ]
  },
  {
   "cell_type": "markdown",
   "id": "9cff1182",
   "metadata": {},
   "source": [
    "nombre_infected       950\n",
    "nombre_sain          2231\n",
    "nombre_exposed        523\n",
    "nombre_recovered    16296\n",
    "Name: 142, dtype: int64"
   ]
  },
  {
   "cell_type": "markdown",
   "id": "df9c0693",
   "metadata": {},
   "source": [
    "nombre_infected       987\n",
    "nombre_sain          2167\n",
    "nombre_exposed        531\n",
    "nombre_recovered    16315\n",
    "Name: 143, dtype: int64"
   ]
  },
  {
   "cell_type": "markdown",
   "id": "fd8bff48",
   "metadata": {},
   "source": [
    "nombre_infected       999\n",
    "nombre_sain          2117\n",
    "nombre_exposed        537\n",
    "nombre_recovered    16347\n",
    "Name: 144, dtype: int64"
   ]
  },
  {
   "cell_type": "markdown",
   "id": "5eed1b6e",
   "metadata": {},
   "source": [
    "nombre_infected      1055\n",
    "nombre_sain          2066\n",
    "nombre_exposed        523\n",
    "nombre_recovered    16356\n",
    "Name: 145, dtype: int64"
   ]
  },
  {
   "cell_type": "markdown",
   "id": "c025cdba",
   "metadata": {},
   "source": [
    "nombre_infected      1042\n",
    "nombre_sain          2012\n",
    "nombre_exposed        534\n",
    "nombre_recovered    16412\n",
    "Name: 146, dtype: int64"
   ]
  },
  {
   "cell_type": "markdown",
   "id": "5349465b",
   "metadata": {},
   "source": [
    "nombre_infected      1071\n",
    "nombre_sain          1965\n",
    "nombre_exposed        524\n",
    "nombre_recovered    16440\n",
    "Name: 147, dtype: int64"
   ]
  },
  {
   "cell_type": "markdown",
   "id": "9089e568",
   "metadata": {},
   "source": [
    "nombre_infected      1092\n",
    "nombre_sain          1928\n",
    "nombre_exposed        514\n",
    "nombre_recovered    16466\n",
    "Name: 148, dtype: int64"
   ]
  },
  {
   "cell_type": "markdown",
   "id": "405d93c7",
   "metadata": {},
   "source": [
    "nombre_infected      1111\n",
    "nombre_sain          1891\n",
    "nombre_exposed        496\n",
    "nombre_recovered    16502\n",
    "Name: 149, dtype: int64"
   ]
  },
  {
   "cell_type": "markdown",
   "id": "78c07380",
   "metadata": {},
   "source": [
    "nombre_infected      1097\n",
    "nombre_sain          1854\n",
    "nombre_exposed        520\n",
    "nombre_recovered    16529\n",
    "Name: 150, dtype: int64"
   ]
  },
  {
   "cell_type": "markdown",
   "id": "2d333646",
   "metadata": {},
   "source": [
    "nombre_infected      1101\n",
    "nombre_sain          1823\n",
    "nombre_exposed        522\n",
    "nombre_recovered    16554\n",
    "Name: 151, dtype: int64"
   ]
  },
  {
   "cell_type": "markdown",
   "id": "45d69300",
   "metadata": {},
   "source": [
    "nombre_infected      1117\n",
    "nombre_sain          1773\n",
    "nombre_exposed        522\n",
    "nombre_recovered    16588\n",
    "Name: 152, dtype: int64"
   ]
  },
  {
   "cell_type": "markdown",
   "id": "e7c89c98",
   "metadata": {},
   "source": [
    "nombre_infected      1133\n",
    "nombre_sain          1733\n",
    "nombre_exposed        507\n",
    "nombre_recovered    16627\n",
    "Name: 153, dtype: int64"
   ]
  },
  {
   "cell_type": "markdown",
   "id": "6df8a08d",
   "metadata": {},
   "source": [
    "nombre_infected      1152\n",
    "nombre_sain          1707\n",
    "nombre_exposed        485\n",
    "nombre_recovered    16656\n",
    "Name: 154, dtype: int64"
   ]
  },
  {
   "cell_type": "markdown",
   "id": "d6293f4c",
   "metadata": {},
   "source": [
    "nombre_infected      1126\n",
    "nombre_sain          1679\n",
    "nombre_exposed        478\n",
    "nombre_recovered    16717\n",
    "Name: 155, dtype: int64"
   ]
  },
  {
   "cell_type": "markdown",
   "id": "f1d2f52b",
   "metadata": {},
   "source": [
    "nombre_infected      1116\n",
    "nombre_sain          1654\n",
    "nombre_exposed        478\n",
    "nombre_recovered    16752\n",
    "Name: 156, dtype: int64"
   ]
  },
  {
   "cell_type": "markdown",
   "id": "498ceb6d",
   "metadata": {},
   "source": [
    "nombre_infected      1102\n",
    "nombre_sain          1630\n",
    "nombre_exposed        467\n",
    "nombre_recovered    16801\n",
    "Name: 157, dtype: int64"
   ]
  },
  {
   "cell_type": "markdown",
   "id": "a4f83269",
   "metadata": {},
   "source": [
    "nombre_infected      1094\n",
    "nombre_sain          1603\n",
    "nombre_exposed        462\n",
    "nombre_recovered    16841\n",
    "Name: 158, dtype: int64"
   ]
  },
  {
   "cell_type": "markdown",
   "id": "eafcdb30",
   "metadata": {},
   "source": [
    "nombre_infected      1090\n",
    "nombre_sain          1607\n",
    "nombre_exposed        435\n",
    "nombre_recovered    16868\n",
    "Name: 159, dtype: int64"
   ]
  },
  {
   "cell_type": "markdown",
   "id": "97d0d447",
   "metadata": {},
   "source": [
    "nombre_infected      1089\n",
    "nombre_sain          1611\n",
    "nombre_exposed        403\n",
    "nombre_recovered    16897\n",
    "Name: 160, dtype: int64"
   ]
  },
  {
   "cell_type": "markdown",
   "id": "8128431a",
   "metadata": {},
   "source": [
    "nombre_infected      1051\n",
    "nombre_sain          1609\n",
    "nombre_exposed        401\n",
    "nombre_recovered    16939\n",
    "Name: 161, dtype: int64"
   ]
  },
  {
   "cell_type": "markdown",
   "id": "b61750e0",
   "metadata": {},
   "source": [
    "nombre_infected      1026\n",
    "nombre_sain          1608\n",
    "nombre_exposed        406\n",
    "nombre_recovered    16960\n",
    "Name: 162, dtype: int64"
   ]
  },
  {
   "cell_type": "markdown",
   "id": "ea7a430d",
   "metadata": {},
   "source": [
    "nombre_infected      1003\n",
    "nombre_sain          1616\n",
    "nombre_exposed        411\n",
    "nombre_recovered    16970\n",
    "Name: 163, dtype: int64"
   ]
  },
  {
   "cell_type": "markdown",
   "id": "a47b1246",
   "metadata": {},
   "source": [
    "nombre_infected       976\n",
    "nombre_sain          1637\n",
    "nombre_exposed        409\n",
    "nombre_recovered    16978\n",
    "Name: 164, dtype: int64"
   ]
  },
  {
   "cell_type": "markdown",
   "id": "1aec7361",
   "metadata": {},
   "source": [
    "nombre_infected       931\n",
    "nombre_sain          1655\n",
    "nombre_exposed        417\n",
    "nombre_recovered    16997\n",
    "Name: 165, dtype: int64"
   ]
  },
  {
   "cell_type": "markdown",
   "id": "aafb82d0",
   "metadata": {},
   "source": [
    "nombre_infected       912\n",
    "nombre_sain          1657\n",
    "nombre_exposed        401\n",
    "nombre_recovered    17030\n",
    "Name: 166, dtype: int64"
   ]
  },
  {
   "cell_type": "markdown",
   "id": "aeff6207",
   "metadata": {},
   "source": [
    "nombre_infected       896\n",
    "nombre_sain          1671\n",
    "nombre_exposed        385\n",
    "nombre_recovered    17048\n",
    "Name: 167, dtype: int64"
   ]
  },
  {
   "cell_type": "markdown",
   "id": "8413c6c1",
   "metadata": {},
   "source": [
    "nombre_infected       881\n",
    "nombre_sain          1687\n",
    "nombre_exposed        370\n",
    "nombre_recovered    17062\n",
    "Name: 168, dtype: int64"
   ]
  },
  {
   "cell_type": "markdown",
   "id": "5d345d2e",
   "metadata": {},
   "source": [
    "nombre_infected       867\n",
    "nombre_sain          1710\n",
    "nombre_exposed        351\n",
    "nombre_recovered    17072\n",
    "Name: 169, dtype: int64"
   ]
  },
  {
   "cell_type": "markdown",
   "id": "3a0b2745",
   "metadata": {},
   "source": [
    "nombre_infected       839\n",
    "nombre_sain          1720\n",
    "nombre_exposed        343\n",
    "nombre_recovered    17098\n",
    "Name: 170, dtype: int64"
   ]
  },
  {
   "cell_type": "markdown",
   "id": "c0c43800",
   "metadata": {},
   "source": [
    "nombre_infected       818\n",
    "nombre_sain          1728\n",
    "nombre_exposed        346\n",
    "nombre_recovered    17108\n",
    "Name: 171, dtype: int64"
   ]
  },
  {
   "cell_type": "markdown",
   "id": "7c68cccc",
   "metadata": {},
   "source": [
    "nombre_infected       774\n",
    "nombre_sain          1744\n",
    "nombre_exposed        340\n",
    "nombre_recovered    17142\n",
    "Name: 172, dtype: int64"
   ]
  },
  {
   "cell_type": "markdown",
   "id": "065d1fa1",
   "metadata": {},
   "source": [
    "nombre_infected       748\n",
    "nombre_sain          1761\n",
    "nombre_exposed        332\n",
    "nombre_recovered    17159\n",
    "Name: 173, dtype: int64"
   ]
  },
  {
   "cell_type": "markdown",
   "id": "4357c95f",
   "metadata": {},
   "source": [
    "nombre_infected       728\n",
    "nombre_sain          1777\n",
    "nombre_exposed        332\n",
    "nombre_recovered    17163\n",
    "Name: 174, dtype: int64"
   ]
  },
  {
   "cell_type": "markdown",
   "id": "eb5a223f",
   "metadata": {},
   "source": [
    "nombre_infected       724\n",
    "nombre_sain          1813\n",
    "nombre_exposed        322\n",
    "nombre_recovered    17141\n",
    "Name: 175, dtype: int64"
   ]
  },
  {
   "cell_type": "markdown",
   "id": "684ab789",
   "metadata": {},
   "source": [
    "nombre_infected       708\n",
    "nombre_sain          1826\n",
    "nombre_exposed        327\n",
    "nombre_recovered    17139\n",
    "Name: 176, dtype: int64"
   ]
  },
  {
   "cell_type": "markdown",
   "id": "4399e3cc",
   "metadata": {},
   "source": [
    "nombre_infected       701\n",
    "nombre_sain          1821\n",
    "nombre_exposed        340\n",
    "nombre_recovered    17138\n",
    "Name: 177, dtype: int64"
   ]
  },
  {
   "cell_type": "markdown",
   "id": "f644d78a",
   "metadata": {},
   "source": [
    "nombre_infected       673\n",
    "nombre_sain          1841\n",
    "nombre_exposed        340\n",
    "nombre_recovered    17146\n",
    "Name: 178, dtype: int64"
   ]
  },
  {
   "cell_type": "markdown",
   "id": "bc6bcaf7",
   "metadata": {},
   "source": [
    "nombre_infected       676\n",
    "nombre_sain          1847\n",
    "nombre_exposed        347\n",
    "nombre_recovered    17130\n",
    "Name: 179, dtype: int64"
   ]
  },
  {
   "cell_type": "markdown",
   "id": "6343d71f",
   "metadata": {},
   "source": [
    "nombre_infected       673\n",
    "nombre_sain          1873\n",
    "nombre_exposed        340\n",
    "nombre_recovered    17114\n",
    "Name: 180, dtype: int64"
   ]
  },
  {
   "cell_type": "markdown",
   "id": "27396c65",
   "metadata": {},
   "source": [
    "nombre_infected       662\n",
    "nombre_sain          1907\n",
    "nombre_exposed        339\n",
    "nombre_recovered    17092\n",
    "Name: 181, dtype: int64"
   ]
  },
  {
   "cell_type": "markdown",
   "id": "3159707e",
   "metadata": {},
   "source": [
    "nombre_infected       661\n",
    "nombre_sain          1927\n",
    "nombre_exposed        344\n",
    "nombre_recovered    17068\n",
    "Name: 182, dtype: int64"
   ]
  },
  {
   "cell_type": "markdown",
   "id": "002d8d1a",
   "metadata": {},
   "source": [
    "nombre_infected       661\n",
    "nombre_sain          1958\n",
    "nombre_exposed        337\n",
    "nombre_recovered    17044\n",
    "Name: 183, dtype: int64"
   ]
  },
  {
   "cell_type": "markdown",
   "id": "43784306",
   "metadata": {},
   "source": [
    "nombre_infected       644\n",
    "nombre_sain          2001\n",
    "nombre_exposed        352\n",
    "nombre_recovered    17003\n",
    "Name: 184, dtype: int64"
   ]
  },
  {
   "cell_type": "markdown",
   "id": "b30d5d33",
   "metadata": {},
   "source": [
    "nombre_infected       649\n",
    "nombre_sain          2050\n",
    "nombre_exposed        335\n",
    "nombre_recovered    16966\n",
    "Name: 185, dtype: int64"
   ]
  },
  {
   "cell_type": "markdown",
   "id": "4913afb9",
   "metadata": {},
   "source": [
    "nombre_infected       654\n",
    "nombre_sain          2081\n",
    "nombre_exposed        335\n",
    "nombre_recovered    16930\n",
    "Name: 186, dtype: int64"
   ]
  },
  {
   "cell_type": "markdown",
   "id": "5659c1e7",
   "metadata": {},
   "source": [
    "nombre_infected       650\n",
    "nombre_sain          2099\n",
    "nombre_exposed        343\n",
    "nombre_recovered    16908\n",
    "Name: 187, dtype: int64"
   ]
  },
  {
   "cell_type": "markdown",
   "id": "36aae6e6",
   "metadata": {},
   "source": [
    "nombre_infected       640\n",
    "nombre_sain          2139\n",
    "nombre_exposed        350\n",
    "nombre_recovered    16871\n",
    "Name: 188, dtype: int64"
   ]
  },
  {
   "cell_type": "markdown",
   "id": "5d32687a",
   "metadata": {},
   "source": [
    "nombre_infected       645\n",
    "nombre_sain          2176\n",
    "nombre_exposed        348\n",
    "nombre_recovered    16831\n",
    "Name: 189, dtype: int64"
   ]
  },
  {
   "cell_type": "markdown",
   "id": "bf49a2d6",
   "metadata": {},
   "source": [
    "nombre_infected       657\n",
    "nombre_sain          2222\n",
    "nombre_exposed        350\n",
    "nombre_recovered    16771\n",
    "Name: 190, dtype: int64"
   ]
  },
  {
   "cell_type": "markdown",
   "id": "5f497841",
   "metadata": {},
   "source": [
    "nombre_infected       662\n",
    "nombre_sain          2278\n",
    "nombre_exposed        353\n",
    "nombre_recovered    16707\n",
    "Name: 191, dtype: int64"
   ]
  },
  {
   "cell_type": "markdown",
   "id": "ad3de005",
   "metadata": {},
   "source": [
    "nombre_infected       672\n",
    "nombre_sain          2299\n",
    "nombre_exposed        350\n",
    "nombre_recovered    16679\n",
    "Name: 192, dtype: int64"
   ]
  },
  {
   "cell_type": "markdown",
   "id": "3438c414",
   "metadata": {},
   "source": [
    "nombre_infected       654\n",
    "nombre_sain          2339\n",
    "nombre_exposed        345\n",
    "nombre_recovered    16662\n",
    "Name: 193, dtype: int64"
   ]
  },
  {
   "cell_type": "markdown",
   "id": "3c9dbea2",
   "metadata": {},
   "source": [
    "nombre_infected       661\n",
    "nombre_sain          2361\n",
    "nombre_exposed        368\n",
    "nombre_recovered    16610\n",
    "Name: 194, dtype: int64"
   ]
  },
  {
   "cell_type": "markdown",
   "id": "4f5c5640",
   "metadata": {},
   "source": [
    "nombre_infected       681\n",
    "nombre_sain          2403\n",
    "nombre_exposed        361\n",
    "nombre_recovered    16555\n",
    "Name: 195, dtype: int64"
   ]
  },
  {
   "cell_type": "markdown",
   "id": "b8a23f73",
   "metadata": {},
   "source": [
    "nombre_infected       676\n",
    "nombre_sain          2417\n",
    "nombre_exposed        385\n",
    "nombre_recovered    16522\n",
    "Name: 196, dtype: int64"
   ]
  },
  {
   "cell_type": "markdown",
   "id": "ce987e80",
   "metadata": {},
   "source": [
    "nombre_infected       689\n",
    "nombre_sain          2419\n",
    "nombre_exposed        400\n",
    "nombre_recovered    16492\n",
    "Name: 197, dtype: int64"
   ]
  },
  {
   "cell_type": "markdown",
   "id": "b92d4288",
   "metadata": {},
   "source": [
    "nombre_infected       693\n",
    "nombre_sain          2427\n",
    "nombre_exposed        401\n",
    "nombre_recovered    16479\n",
    "Name: 198, dtype: int64"
   ]
  },
  {
   "cell_type": "markdown",
   "id": "d9f4e1c8",
   "metadata": {},
   "source": [
    "nombre_infected       700\n",
    "nombre_sain          2423\n",
    "nombre_exposed        413\n",
    "nombre_recovered    16464\n",
    "Name: 199, dtype: int64"
   ]
  },
  {
   "cell_type": "markdown",
   "id": "470e26e5",
   "metadata": {},
   "source": [
    "nombre_infected       703\n",
    "nombre_sain          2411\n",
    "nombre_exposed        431\n",
    "nombre_recovered    16455\n",
    "Name: 200, dtype: int64"
   ]
  },
  {
   "cell_type": "markdown",
   "id": "c0d744db",
   "metadata": {},
   "source": [
    "nombre_infected       731\n",
    "nombre_sain          2393\n",
    "nombre_exposed        423\n",
    "nombre_recovered    16453\n",
    "Name: 201, dtype: int64"
   ]
  },
  {
   "cell_type": "markdown",
   "id": "a9ae2444",
   "metadata": {},
   "source": [
    "nombre_infected       753\n",
    "nombre_sain          2399\n",
    "nombre_exposed        390\n",
    "nombre_recovered    16458\n",
    "Name: 202, dtype: int64"
   ]
  },
  {
   "cell_type": "markdown",
   "id": "41f6a4e6",
   "metadata": {},
   "source": [
    "nombre_infected       769\n",
    "nombre_sain          2406\n",
    "nombre_exposed        413\n",
    "nombre_recovered    16412\n",
    "Name: 203, dtype: int64"
   ]
  },
  {
   "cell_type": "markdown",
   "id": "d1399e32",
   "metadata": {},
   "source": [
    "nombre_infected       773\n",
    "nombre_sain          2415\n",
    "nombre_exposed        396\n",
    "nombre_recovered    16416\n",
    "Name: 204, dtype: int64"
   ]
  },
  {
   "cell_type": "markdown",
   "id": "164ea662",
   "metadata": {},
   "source": [
    "nombre_infected       774\n",
    "nombre_sain          2400\n",
    "nombre_exposed        401\n",
    "nombre_recovered    16425\n",
    "Name: 205, dtype: int64"
   ]
  },
  {
   "cell_type": "markdown",
   "id": "11e533a8",
   "metadata": {},
   "source": [
    "nombre_infected       755\n",
    "nombre_sain          2408\n",
    "nombre_exposed        408\n",
    "nombre_recovered    16429\n",
    "Name: 206, dtype: int64"
   ]
  },
  {
   "cell_type": "markdown",
   "id": "042b0240",
   "metadata": {},
   "source": [
    "nombre_infected       755\n",
    "nombre_sain          2384\n",
    "nombre_exposed        427\n",
    "nombre_recovered    16434\n",
    "Name: 207, dtype: int64"
   ]
  },
  {
   "cell_type": "markdown",
   "id": "1f4dc2de",
   "metadata": {},
   "source": [
    "nombre_infected       753\n",
    "nombre_sain          2390\n",
    "nombre_exposed        435\n",
    "nombre_recovered    16422\n",
    "Name: 208, dtype: int64"
   ]
  },
  {
   "cell_type": "markdown",
   "id": "ba06e32d",
   "metadata": {},
   "source": [
    "nombre_infected       781\n",
    "nombre_sain          2379\n",
    "nombre_exposed        430\n",
    "nombre_recovered    16410\n",
    "Name: 209, dtype: int64"
   ]
  },
  {
   "cell_type": "markdown",
   "id": "f1494851",
   "metadata": {},
   "source": [
    "nombre_infected       782\n",
    "nombre_sain          2360\n",
    "nombre_exposed        440\n",
    "nombre_recovered    16418\n",
    "Name: 210, dtype: int64"
   ]
  },
  {
   "cell_type": "markdown",
   "id": "c660f86e",
   "metadata": {},
   "source": [
    "nombre_infected       776\n",
    "nombre_sain          2333\n",
    "nombre_exposed        469\n",
    "nombre_recovered    16422\n",
    "Name: 211, dtype: int64"
   ]
  },
  {
   "cell_type": "markdown",
   "id": "dca6ac7b",
   "metadata": {},
   "source": [
    "nombre_infected       793\n",
    "nombre_sain          2328\n",
    "nombre_exposed        464\n",
    "nombre_recovered    16415\n",
    "Name: 212, dtype: int64"
   ]
  },
  {
   "cell_type": "markdown",
   "id": "a39b9638",
   "metadata": {},
   "source": [
    "nombre_infected       809\n",
    "nombre_sain          2319\n",
    "nombre_exposed        459\n",
    "nombre_recovered    16413\n",
    "Name: 213, dtype: int64"
   ]
  },
  {
   "cell_type": "markdown",
   "id": "6412451a",
   "metadata": {},
   "source": [
    "nombre_infected       791\n",
    "nombre_sain          2329\n",
    "nombre_exposed        444\n",
    "nombre_recovered    16436\n",
    "Name: 214, dtype: int64"
   ]
  },
  {
   "cell_type": "markdown",
   "id": "cc940000",
   "metadata": {},
   "source": [
    "nombre_infected       810\n",
    "nombre_sain          2335\n",
    "nombre_exposed        414\n",
    "nombre_recovered    16441\n",
    "Name: 215, dtype: int64"
   ]
  },
  {
   "cell_type": "markdown",
   "id": "3b639990",
   "metadata": {},
   "source": [
    "nombre_infected       806\n",
    "nombre_sain          2293\n",
    "nombre_exposed        433\n",
    "nombre_recovered    16468\n",
    "Name: 216, dtype: int64"
   ]
  },
  {
   "cell_type": "markdown",
   "id": "0e20db65",
   "metadata": {},
   "source": [
    "nombre_infected       806\n",
    "nombre_sain          2281\n",
    "nombre_exposed        461\n",
    "nombre_recovered    16452\n",
    "Name: 217, dtype: int64"
   ]
  },
  {
   "cell_type": "markdown",
   "id": "ed3df3af",
   "metadata": {},
   "source": [
    "nombre_infected       844\n",
    "nombre_sain          2254\n",
    "nombre_exposed        483\n",
    "nombre_recovered    16419\n",
    "Name: 218, dtype: int64"
   ]
  },
  {
   "cell_type": "markdown",
   "id": "490938a6",
   "metadata": {},
   "source": [
    "nombre_infected       843\n",
    "nombre_sain          2217\n",
    "nombre_exposed        478\n",
    "nombre_recovered    16462\n",
    "Name: 219, dtype: int64"
   ]
  },
  {
   "cell_type": "markdown",
   "id": "17cbbff9",
   "metadata": {},
   "source": [
    "nombre_infected       834\n",
    "nombre_sain          2201\n",
    "nombre_exposed        488\n",
    "nombre_recovered    16477\n",
    "Name: 220, dtype: int64"
   ]
  },
  {
   "cell_type": "markdown",
   "id": "df02d42d",
   "metadata": {},
   "source": [
    "nombre_infected       850\n",
    "nombre_sain          2174\n",
    "nombre_exposed        486\n",
    "nombre_recovered    16490\n",
    "Name: 221, dtype: int64"
   ]
  },
  {
   "cell_type": "markdown",
   "id": "8c22fed9",
   "metadata": {},
   "source": [
    "nombre_infected       856\n",
    "nombre_sain          2200\n",
    "nombre_exposed        472\n",
    "nombre_recovered    16472\n",
    "Name: 222, dtype: int64"
   ]
  },
  {
   "cell_type": "markdown",
   "id": "accb67e6",
   "metadata": {},
   "source": [
    "nombre_infected       861\n",
    "nombre_sain          2190\n",
    "nombre_exposed        481\n",
    "nombre_recovered    16468\n",
    "Name: 223, dtype: int64"
   ]
  },
  {
   "cell_type": "markdown",
   "id": "4d0b6ef2",
   "metadata": {},
   "source": [
    "nombre_infected       874\n",
    "nombre_sain          2169\n",
    "nombre_exposed        496\n",
    "nombre_recovered    16461\n",
    "Name: 224, dtype: int64"
   ]
  },
  {
   "cell_type": "markdown",
   "id": "28c3007a",
   "metadata": {},
   "source": [
    "nombre_infected       870\n",
    "nombre_sain          2154\n",
    "nombre_exposed        510\n",
    "nombre_recovered    16466\n",
    "Name: 225, dtype: int64"
   ]
  },
  {
   "cell_type": "markdown",
   "id": "bb5b947f",
   "metadata": {},
   "source": [
    "nombre_infected       888\n",
    "nombre_sain          2154\n",
    "nombre_exposed        502\n",
    "nombre_recovered    16456\n",
    "Name: 226, dtype: int64"
   ]
  },
  {
   "cell_type": "markdown",
   "id": "00b46c04",
   "metadata": {},
   "source": [
    "nombre_infected       898\n",
    "nombre_sain          2148\n",
    "nombre_exposed        507\n",
    "nombre_recovered    16447\n",
    "Name: 227, dtype: int64"
   ]
  },
  {
   "cell_type": "markdown",
   "id": "2b93ad86",
   "metadata": {},
   "source": [
    "nombre_infected       894\n",
    "nombre_sain          2138\n",
    "nombre_exposed        502\n",
    "nombre_recovered    16466\n",
    "Name: 228, dtype: int64"
   ]
  },
  {
   "cell_type": "markdown",
   "id": "2b745382",
   "metadata": {},
   "source": [
    "nombre_infected       890\n",
    "nombre_sain          2122\n",
    "nombre_exposed        505\n",
    "nombre_recovered    16483\n",
    "Name: 229, dtype: int64"
   ]
  },
  {
   "cell_type": "markdown",
   "id": "4c485e9c",
   "metadata": {},
   "source": [
    "nombre_infected       899\n",
    "nombre_sain          2106\n",
    "nombre_exposed        509\n",
    "nombre_recovered    16486\n",
    "Name: 230, dtype: int64"
   ]
  },
  {
   "cell_type": "markdown",
   "id": "18fa09df",
   "metadata": {},
   "source": [
    "nombre_infected       902\n",
    "nombre_sain          2103\n",
    "nombre_exposed        508\n",
    "nombre_recovered    16487\n",
    "Name: 231, dtype: int64"
   ]
  },
  {
   "cell_type": "markdown",
   "id": "6b40e8b1",
   "metadata": {},
   "source": [
    "nombre_infected       916\n",
    "nombre_sain          2100\n",
    "nombre_exposed        526\n",
    "nombre_recovered    16458\n",
    "Name: 232, dtype: int64"
   ]
  },
  {
   "cell_type": "markdown",
   "id": "916692d7",
   "metadata": {},
   "source": [
    "nombre_infected       935\n",
    "nombre_sain          2092\n",
    "nombre_exposed        522\n",
    "nombre_recovered    16451\n",
    "Name: 233, dtype: int64"
   ]
  },
  {
   "cell_type": "markdown",
   "id": "830d8a28",
   "metadata": {},
   "source": [
    "nombre_infected       931\n",
    "nombre_sain          2091\n",
    "nombre_exposed        510\n",
    "nombre_recovered    16468\n",
    "Name: 234, dtype: int64"
   ]
  },
  {
   "cell_type": "markdown",
   "id": "fb30b7f9",
   "metadata": {},
   "source": [
    "nombre_infected       955\n",
    "nombre_sain          2052\n",
    "nombre_exposed        514\n",
    "nombre_recovered    16479\n",
    "Name: 235, dtype: int64"
   ]
  },
  {
   "cell_type": "markdown",
   "id": "00fc6177",
   "metadata": {},
   "source": [
    "nombre_infected       940\n",
    "nombre_sain          2015\n",
    "nombre_exposed        532\n",
    "nombre_recovered    16513\n",
    "Name: 236, dtype: int64"
   ]
  },
  {
   "cell_type": "markdown",
   "id": "a7774d30",
   "metadata": {},
   "source": [
    "nombre_infected       948\n",
    "nombre_sain          2008\n",
    "nombre_exposed        506\n",
    "nombre_recovered    16538\n",
    "Name: 237, dtype: int64"
   ]
  },
  {
   "cell_type": "markdown",
   "id": "3addb67b",
   "metadata": {},
   "source": [
    "nombre_infected       944\n",
    "nombre_sain          2027\n",
    "nombre_exposed        491\n",
    "nombre_recovered    16538\n",
    "Name: 238, dtype: int64"
   ]
  },
  {
   "cell_type": "markdown",
   "id": "29a21b76",
   "metadata": {},
   "source": [
    "nombre_infected       938\n",
    "nombre_sain          2022\n",
    "nombre_exposed        496\n",
    "nombre_recovered    16544\n",
    "Name: 239, dtype: int64"
   ]
  },
  {
   "cell_type": "markdown",
   "id": "ed41cdf6",
   "metadata": {},
   "source": [
    "nombre_infected       932\n",
    "nombre_sain          2012\n",
    "nombre_exposed        485\n",
    "nombre_recovered    16571\n",
    "Name: 240, dtype: int64"
   ]
  },
  {
   "cell_type": "markdown",
   "id": "2a6de288",
   "metadata": {},
   "source": [
    "nombre_infected       939\n",
    "nombre_sain          2017\n",
    "nombre_exposed        481\n",
    "nombre_recovered    16563\n",
    "Name: 241, dtype: int64"
   ]
  },
  {
   "cell_type": "markdown",
   "id": "6b7308d2",
   "metadata": {},
   "source": [
    "nombre_infected       947\n",
    "nombre_sain          2024\n",
    "nombre_exposed        481\n",
    "nombre_recovered    16548\n",
    "Name: 242, dtype: int64"
   ]
  },
  {
   "cell_type": "markdown",
   "id": "214d3527",
   "metadata": {},
   "source": [
    "nombre_infected       932\n",
    "nombre_sain          2022\n",
    "nombre_exposed        480\n",
    "nombre_recovered    16566\n",
    "Name: 243, dtype: int64"
   ]
  },
  {
   "cell_type": "markdown",
   "id": "dddd885a",
   "metadata": {},
   "source": [
    "nombre_infected       909\n",
    "nombre_sain          2026\n",
    "nombre_exposed        497\n",
    "nombre_recovered    16568\n",
    "Name: 244, dtype: int64"
   ]
  },
  {
   "cell_type": "markdown",
   "id": "7fdde65f",
   "metadata": {},
   "source": [
    "nombre_infected       906\n",
    "nombre_sain          2025\n",
    "nombre_exposed        509\n",
    "nombre_recovered    16560\n",
    "Name: 245, dtype: int64"
   ]
  },
  {
   "cell_type": "markdown",
   "id": "8ce8598e",
   "metadata": {},
   "source": [
    "nombre_infected       912\n",
    "nombre_sain          2004\n",
    "nombre_exposed        512\n",
    "nombre_recovered    16572\n",
    "Name: 246, dtype: int64"
   ]
  },
  {
   "cell_type": "markdown",
   "id": "7e12bd0b",
   "metadata": {},
   "source": [
    "nombre_infected       920\n",
    "nombre_sain          1996\n",
    "nombre_exposed        511\n",
    "nombre_recovered    16573\n",
    "Name: 247, dtype: int64"
   ]
  },
  {
   "cell_type": "markdown",
   "id": "7170cf84",
   "metadata": {},
   "source": [
    "nombre_infected       937\n",
    "nombre_sain          2009\n",
    "nombre_exposed        495\n",
    "nombre_recovered    16559\n",
    "Name: 248, dtype: int64"
   ]
  },
  {
   "cell_type": "markdown",
   "id": "c0d14e37",
   "metadata": {},
   "source": [
    "nombre_infected       892\n",
    "nombre_sain          2000\n",
    "nombre_exposed        528\n",
    "nombre_recovered    16580\n",
    "Name: 249, dtype: int64"
   ]
  },
  {
   "cell_type": "markdown",
   "id": "e25731ac",
   "metadata": {},
   "source": [
    "nombre_infected       897\n",
    "nombre_sain          1993\n",
    "nombre_exposed        517\n",
    "nombre_recovered    16593\n",
    "Name: 250, dtype: int64"
   ]
  },
  {
   "cell_type": "markdown",
   "id": "25a60e90",
   "metadata": {},
   "source": [
    "nombre_infected       911\n",
    "nombre_sain          2000\n",
    "nombre_exposed        500\n",
    "nombre_recovered    16589\n",
    "Name: 251, dtype: int64"
   ]
  },
  {
   "cell_type": "markdown",
   "id": "33cc0362",
   "metadata": {},
   "source": [
    "nombre_infected       917\n",
    "nombre_sain          2025\n",
    "nombre_exposed        474\n",
    "nombre_recovered    16584\n",
    "Name: 252, dtype: int64"
   ]
  },
  {
   "cell_type": "markdown",
   "id": "4c67bd90",
   "metadata": {},
   "source": [
    "nombre_infected       936\n",
    "nombre_sain          2012\n",
    "nombre_exposed        466\n",
    "nombre_recovered    16586\n",
    "Name: 253, dtype: int64"
   ]
  },
  {
   "cell_type": "markdown",
   "id": "8c3811f7",
   "metadata": {},
   "source": [
    "nombre_infected       902\n",
    "nombre_sain          1987\n",
    "nombre_exposed        507\n",
    "nombre_recovered    16604\n",
    "Name: 254, dtype: int64"
   ]
  },
  {
   "cell_type": "markdown",
   "id": "69d583f5",
   "metadata": {},
   "source": [
    "nombre_infected       897\n",
    "nombre_sain          1969\n",
    "nombre_exposed        537\n",
    "nombre_recovered    16597\n",
    "Name: 255, dtype: int64"
   ]
  },
  {
   "cell_type": "markdown",
   "id": "d10cf675",
   "metadata": {},
   "source": [
    "nombre_infected       885\n",
    "nombre_sain          1961\n",
    "nombre_exposed        560\n",
    "nombre_recovered    16594\n",
    "Name: 256, dtype: int64"
   ]
  },
  {
   "cell_type": "markdown",
   "id": "7d53b416",
   "metadata": {},
   "source": [
    "nombre_infected       915\n",
    "nombre_sain          1966\n",
    "nombre_exposed        537\n",
    "nombre_recovered    16582\n",
    "Name: 257, dtype: int64"
   ]
  },
  {
   "cell_type": "markdown",
   "id": "65e0313b",
   "metadata": {},
   "source": [
    "nombre_infected       933\n",
    "nombre_sain          1978\n",
    "nombre_exposed        519\n",
    "nombre_recovered    16570\n",
    "Name: 258, dtype: int64"
   ]
  },
  {
   "cell_type": "markdown",
   "id": "47ea971a",
   "metadata": {},
   "source": [
    "nombre_infected       953\n",
    "nombre_sain          1978\n",
    "nombre_exposed        498\n",
    "nombre_recovered    16571\n",
    "Name: 259, dtype: int64"
   ]
  },
  {
   "cell_type": "markdown",
   "id": "c1438830",
   "metadata": {},
   "source": [
    "nombre_infected       952\n",
    "nombre_sain          1983\n",
    "nombre_exposed        495\n",
    "nombre_recovered    16570\n",
    "Name: 260, dtype: int64"
   ]
  },
  {
   "cell_type": "markdown",
   "id": "6c40e1d1",
   "metadata": {},
   "source": [
    "nombre_infected       972\n",
    "nombre_sain          1950\n",
    "nombre_exposed        500\n",
    "nombre_recovered    16578\n",
    "Name: 261, dtype: int64"
   ]
  },
  {
   "cell_type": "markdown",
   "id": "a9ff6936",
   "metadata": {},
   "source": [
    "nombre_infected       962\n",
    "nombre_sain          1943\n",
    "nombre_exposed        512\n",
    "nombre_recovered    16583\n",
    "Name: 262, dtype: int64"
   ]
  },
  {
   "cell_type": "markdown",
   "id": "3a266f9d",
   "metadata": {},
   "source": [
    "nombre_infected       960\n",
    "nombre_sain          1936\n",
    "nombre_exposed        518\n",
    "nombre_recovered    16586\n",
    "Name: 263, dtype: int64"
   ]
  },
  {
   "cell_type": "markdown",
   "id": "c04c607b",
   "metadata": {},
   "source": [
    "nombre_infected       952\n",
    "nombre_sain          1932\n",
    "nombre_exposed        534\n",
    "nombre_recovered    16582\n",
    "Name: 264, dtype: int64"
   ]
  },
  {
   "cell_type": "markdown",
   "id": "3dafa2af",
   "metadata": {},
   "source": [
    "nombre_infected       961\n",
    "nombre_sain          1927\n",
    "nombre_exposed        544\n",
    "nombre_recovered    16568\n",
    "Name: 265, dtype: int64"
   ]
  },
  {
   "cell_type": "markdown",
   "id": "d16dcb56",
   "metadata": {},
   "source": [
    "nombre_infected       969\n",
    "nombre_sain          1914\n",
    "nombre_exposed        539\n",
    "nombre_recovered    16578\n",
    "Name: 266, dtype: int64"
   ]
  },
  {
   "cell_type": "markdown",
   "id": "dabfc5b5",
   "metadata": {},
   "source": [
    "nombre_infected       979\n",
    "nombre_sain          1921\n",
    "nombre_exposed        537\n",
    "nombre_recovered    16563\n",
    "Name: 267, dtype: int64"
   ]
  },
  {
   "cell_type": "markdown",
   "id": "f99209c6",
   "metadata": {},
   "source": [
    "nombre_infected      1001\n",
    "nombre_sain          1942\n",
    "nombre_exposed        518\n",
    "nombre_recovered    16539\n",
    "Name: 268, dtype: int64"
   ]
  },
  {
   "cell_type": "markdown",
   "id": "00895d66",
   "metadata": {},
   "source": [
    "nombre_infected      1000\n",
    "nombre_sain          1935\n",
    "nombre_exposed        524\n",
    "nombre_recovered    16541\n",
    "Name: 269, dtype: int64"
   ]
  },
  {
   "cell_type": "markdown",
   "id": "dc1ca1be",
   "metadata": {},
   "source": [
    "nombre_infected      1009\n",
    "nombre_sain          1950\n",
    "nombre_exposed        529\n",
    "nombre_recovered    16512\n",
    "Name: 270, dtype: int64"
   ]
  },
  {
   "cell_type": "markdown",
   "id": "f54eb58c",
   "metadata": {},
   "source": [
    "nombre_infected      1003\n",
    "nombre_sain          1910\n",
    "nombre_exposed        546\n",
    "nombre_recovered    16541\n",
    "Name: 271, dtype: int64"
   ]
  },
  {
   "cell_type": "markdown",
   "id": "ef1692e8",
   "metadata": {},
   "source": [
    "nombre_infected      1035\n",
    "nombre_sain          1932\n",
    "nombre_exposed        531\n",
    "nombre_recovered    16502\n",
    "Name: 272, dtype: int64"
   ]
  },
  {
   "cell_type": "markdown",
   "id": "5673bc4f",
   "metadata": {},
   "source": [
    "nombre_infected      1017\n",
    "nombre_sain          1942\n",
    "nombre_exposed        522\n",
    "nombre_recovered    16519\n",
    "Name: 273, dtype: int64"
   ]
  },
  {
   "cell_type": "markdown",
   "id": "4cf6b961",
   "metadata": {},
   "source": [
    "nombre_infected      1029\n",
    "nombre_sain          1955\n",
    "nombre_exposed        513\n",
    "nombre_recovered    16503\n",
    "Name: 274, dtype: int64"
   ]
  },
  {
   "cell_type": "markdown",
   "id": "c462053f",
   "metadata": {},
   "source": [
    "nombre_infected      1010\n",
    "nombre_sain          1985\n",
    "nombre_exposed        520\n",
    "nombre_recovered    16485\n",
    "Name: 275, dtype: int64"
   ]
  },
  {
   "cell_type": "markdown",
   "id": "18e31de3",
   "metadata": {},
   "source": [
    "nombre_infected      1001\n",
    "nombre_sain          1974\n",
    "nombre_exposed        553\n",
    "nombre_recovered    16472\n",
    "Name: 276, dtype: int64"
   ]
  },
  {
   "cell_type": "markdown",
   "id": "86fc1aeb",
   "metadata": {},
   "source": [
    "nombre_infected      1014\n",
    "nombre_sain          1990\n",
    "nombre_exposed        533\n",
    "nombre_recovered    16463\n",
    "Name: 277, dtype: int64"
   ]
  },
  {
   "cell_type": "markdown",
   "id": "294eb011",
   "metadata": {},
   "source": [
    "nombre_infected      1013\n",
    "nombre_sain          1976\n",
    "nombre_exposed        547\n",
    "nombre_recovered    16464\n",
    "Name: 278, dtype: int64"
   ]
  },
  {
   "cell_type": "markdown",
   "id": "6b4e4bc3",
   "metadata": {},
   "source": [
    "nombre_infected      1021\n",
    "nombre_sain          1967\n",
    "nombre_exposed        545\n",
    "nombre_recovered    16467\n",
    "Name: 279, dtype: int64"
   ]
  },
  {
   "cell_type": "markdown",
   "id": "10bf094d",
   "metadata": {},
   "source": [
    "nombre_infected      1026\n",
    "nombre_sain          1950\n",
    "nombre_exposed        552\n",
    "nombre_recovered    16472\n",
    "Name: 280, dtype: int64"
   ]
  },
  {
   "cell_type": "markdown",
   "id": "f6b8a249",
   "metadata": {},
   "source": [
    "nombre_infected      1025\n",
    "nombre_sain          1917\n",
    "nombre_exposed        566\n",
    "nombre_recovered    16492\n",
    "Name: 281, dtype: int64"
   ]
  },
  {
   "cell_type": "markdown",
   "id": "55f87ca3",
   "metadata": {},
   "source": [
    "nombre_infected      1035\n",
    "nombre_sain          1891\n",
    "nombre_exposed        573\n",
    "nombre_recovered    16501\n",
    "Name: 282, dtype: int64"
   ]
  },
  {
   "cell_type": "markdown",
   "id": "a017d8e0",
   "metadata": {},
   "source": [
    "nombre_infected      1041\n",
    "nombre_sain          1887\n",
    "nombre_exposed        561\n",
    "nombre_recovered    16511\n",
    "Name: 283, dtype: int64"
   ]
  },
  {
   "cell_type": "markdown",
   "id": "b5a6063b",
   "metadata": {},
   "source": [
    "nombre_infected      1065\n",
    "nombre_sain          1895\n",
    "nombre_exposed        536\n",
    "nombre_recovered    16504\n",
    "Name: 284, dtype: int64"
   ]
  },
  {
   "cell_type": "markdown",
   "id": "fea05e9e",
   "metadata": {},
   "source": [
    "nombre_infected      1042\n",
    "nombre_sain          1877\n",
    "nombre_exposed        514\n",
    "nombre_recovered    16567\n",
    "Name: 285, dtype: int64"
   ]
  },
  {
   "cell_type": "markdown",
   "id": "6ddf2341",
   "metadata": {},
   "source": [
    "nombre_infected      1074\n",
    "nombre_sain          1857\n",
    "nombre_exposed        505\n",
    "nombre_recovered    16564\n",
    "Name: 286, dtype: int64"
   ]
  },
  {
   "cell_type": "markdown",
   "id": "f41cc280",
   "metadata": {},
   "source": [
    "nombre_infected      1108\n",
    "nombre_sain          1845\n",
    "nombre_exposed        501\n",
    "nombre_recovered    16546\n",
    "Name: 287, dtype: int64"
   ]
  },
  {
   "cell_type": "markdown",
   "id": "4c251fd7",
   "metadata": {},
   "source": [
    "nombre_infected      1100\n",
    "nombre_sain          1823\n",
    "nombre_exposed        498\n",
    "nombre_recovered    16579\n",
    "Name: 288, dtype: int64"
   ]
  },
  {
   "cell_type": "markdown",
   "id": "6c82111c",
   "metadata": {},
   "source": [
    "nombre_infected      1099\n",
    "nombre_sain          1795\n",
    "nombre_exposed        518\n",
    "nombre_recovered    16588\n",
    "Name: 289, dtype: int64"
   ]
  },
  {
   "cell_type": "markdown",
   "id": "bb66a298",
   "metadata": {},
   "source": [
    "nombre_infected      1110\n",
    "nombre_sain          1780\n",
    "nombre_exposed        513\n",
    "nombre_recovered    16597\n",
    "Name: 290, dtype: int64"
   ]
  },
  {
   "cell_type": "markdown",
   "id": "ee913c32",
   "metadata": {},
   "source": [
    "nombre_infected      1103\n",
    "nombre_sain          1766\n",
    "nombre_exposed        508\n",
    "nombre_recovered    16623\n",
    "Name: 291, dtype: int64"
   ]
  },
  {
   "cell_type": "markdown",
   "id": "409cbd7e",
   "metadata": {},
   "source": [
    "nombre_infected      1110\n",
    "nombre_sain          1775\n",
    "nombre_exposed        500\n",
    "nombre_recovered    16615\n",
    "Name: 292, dtype: int64"
   ]
  },
  {
   "cell_type": "markdown",
   "id": "2cd1d819",
   "metadata": {},
   "source": [
    "nombre_infected      1100\n",
    "nombre_sain          1784\n",
    "nombre_exposed        497\n",
    "nombre_recovered    16619\n",
    "Name: 293, dtype: int64"
   ]
  },
  {
   "cell_type": "markdown",
   "id": "2bd9c3ec",
   "metadata": {},
   "source": [
    "nombre_infected      1100\n",
    "nombre_sain          1786\n",
    "nombre_exposed        478\n",
    "nombre_recovered    16636\n",
    "Name: 294, dtype: int64"
   ]
  },
  {
   "cell_type": "markdown",
   "id": "226a4f61",
   "metadata": {},
   "source": [
    "nombre_infected      1084\n",
    "nombre_sain          1759\n",
    "nombre_exposed        499\n",
    "nombre_recovered    16658\n",
    "Name: 295, dtype: int64"
   ]
  },
  {
   "cell_type": "markdown",
   "id": "6690309b",
   "metadata": {},
   "source": [
    "nombre_infected      1092\n",
    "nombre_sain          1763\n",
    "nombre_exposed        504\n",
    "nombre_recovered    16641\n",
    "Name: 296, dtype: int64"
   ]
  },
  {
   "cell_type": "markdown",
   "id": "edf06265",
   "metadata": {},
   "source": [
    "nombre_infected      1067\n",
    "nombre_sain          1777\n",
    "nombre_exposed        484\n",
    "nombre_recovered    16672\n",
    "Name: 297, dtype: int64"
   ]
  },
  {
   "cell_type": "markdown",
   "id": "649c85ee",
   "metadata": {},
   "source": [
    "nombre_infected      1077\n",
    "nombre_sain          1776\n",
    "nombre_exposed        457\n",
    "nombre_recovered    16690\n",
    "Name: 298, dtype: int64"
   ]
  },
  {
   "cell_type": "markdown",
   "id": "770f858f",
   "metadata": {},
   "source": [
    "nombre_infected      1072\n",
    "nombre_sain          1757\n",
    "nombre_exposed        484\n",
    "nombre_recovered    16687\n",
    "Name: 299, dtype: int64"
   ]
  },
  {
   "cell_type": "markdown",
   "id": "feb5be68",
   "metadata": {},
   "source": [
    "nombre_infected      1080\n",
    "nombre_sain          1759\n",
    "nombre_exposed        473\n",
    "nombre_recovered    16688\n",
    "Name: 300, dtype: int64"
   ]
  },
  {
   "cell_type": "markdown",
   "id": "b6f26964",
   "metadata": {},
   "source": [
    "nombre_infected      1071\n",
    "nombre_sain          1751\n",
    "nombre_exposed        473\n",
    "nombre_recovered    16705\n",
    "Name: 301, dtype: int64"
   ]
  },
  {
   "cell_type": "markdown",
   "id": "a4b201d2",
   "metadata": {},
   "source": [
    "nombre_infected      1072\n",
    "nombre_sain          1780\n",
    "nombre_exposed        456\n",
    "nombre_recovered    16692\n",
    "Name: 302, dtype: int64"
   ]
  },
  {
   "cell_type": "markdown",
   "id": "e0c81c64",
   "metadata": {},
   "source": [
    "nombre_infected      1066\n",
    "nombre_sain          1789\n",
    "nombre_exposed        448\n",
    "nombre_recovered    16697\n",
    "Name: 303, dtype: int64"
   ]
  },
  {
   "cell_type": "markdown",
   "id": "e696b4b1",
   "metadata": {},
   "source": [
    "nombre_infected      1063\n",
    "nombre_sain          1779\n",
    "nombre_exposed        468\n",
    "nombre_recovered    16690\n",
    "Name: 304, dtype: int64"
   ]
  },
  {
   "cell_type": "markdown",
   "id": "fef1bddb",
   "metadata": {},
   "source": [
    "nombre_infected      1065\n",
    "nombre_sain          1791\n",
    "nombre_exposed        477\n",
    "nombre_recovered    16667\n",
    "Name: 305, dtype: int64"
   ]
  },
  {
   "cell_type": "markdown",
   "id": "0da15495",
   "metadata": {},
   "source": [
    "nombre_infected      1073\n",
    "nombre_sain          1789\n",
    "nombre_exposed        484\n",
    "nombre_recovered    16654\n",
    "Name: 306, dtype: int64"
   ]
  },
  {
   "cell_type": "markdown",
   "id": "b060c294",
   "metadata": {},
   "source": [
    "nombre_infected      1060\n",
    "nombre_sain          1776\n",
    "nombre_exposed        513\n",
    "nombre_recovered    16651\n",
    "Name: 307, dtype: int64"
   ]
  },
  {
   "cell_type": "markdown",
   "id": "83eb3748",
   "metadata": {},
   "source": [
    "nombre_infected      1082\n",
    "nombre_sain          1791\n",
    "nombre_exposed        488\n",
    "nombre_recovered    16639\n",
    "Name: 308, dtype: int64"
   ]
  },
  {
   "cell_type": "markdown",
   "id": "3948f862",
   "metadata": {},
   "source": [
    "nombre_infected      1083\n",
    "nombre_sain          1778\n",
    "nombre_exposed        493\n",
    "nombre_recovered    16646\n",
    "Name: 309, dtype: int64"
   ]
  },
  {
   "cell_type": "markdown",
   "id": "0e376249",
   "metadata": {},
   "source": [
    "nombre_infected      1094\n",
    "nombre_sain          1774\n",
    "nombre_exposed        479\n",
    "nombre_recovered    16653\n",
    "Name: 310, dtype: int64"
   ]
  },
  {
   "cell_type": "markdown",
   "id": "82ed8fa2",
   "metadata": {},
   "source": [
    "nombre_infected      1081\n",
    "nombre_sain          1788\n",
    "nombre_exposed        485\n",
    "nombre_recovered    16646\n",
    "Name: 311, dtype: int64"
   ]
  },
  {
   "cell_type": "markdown",
   "id": "f4aab68c",
   "metadata": {},
   "source": [
    "nombre_infected      1089\n",
    "nombre_sain          1813\n",
    "nombre_exposed        479\n",
    "nombre_recovered    16619\n",
    "Name: 312, dtype: int64"
   ]
  },
  {
   "cell_type": "markdown",
   "id": "cd7232f7",
   "metadata": {},
   "source": [
    "nombre_infected      1077\n",
    "nombre_sain          1787\n",
    "nombre_exposed        508\n",
    "nombre_recovered    16628\n",
    "Name: 313, dtype: int64"
   ]
  },
  {
   "cell_type": "markdown",
   "id": "10fc3d35",
   "metadata": {},
   "source": [
    "nombre_infected      1083\n",
    "nombre_sain          1772\n",
    "nombre_exposed        513\n",
    "nombre_recovered    16632\n",
    "Name: 314, dtype: int64"
   ]
  },
  {
   "cell_type": "markdown",
   "id": "b4e15e0c",
   "metadata": {},
   "source": [
    "nombre_infected      1063\n",
    "nombre_sain          1773\n",
    "nombre_exposed        507\n",
    "nombre_recovered    16657\n",
    "Name: 315, dtype: int64"
   ]
  },
  {
   "cell_type": "markdown",
   "id": "afa5ee92",
   "metadata": {},
   "source": [
    "nombre_infected      1076\n",
    "nombre_sain          1753\n",
    "nombre_exposed        492\n",
    "nombre_recovered    16679\n",
    "Name: 316, dtype: int64"
   ]
  },
  {
   "cell_type": "markdown",
   "id": "4d3d6f26",
   "metadata": {},
   "source": [
    "nombre_infected      1060\n",
    "nombre_sain          1750\n",
    "nombre_exposed        488\n",
    "nombre_recovered    16702\n",
    "Name: 317, dtype: int64"
   ]
  },
  {
   "cell_type": "markdown",
   "id": "874cb0a6",
   "metadata": {},
   "source": [
    "nombre_infected      1051\n",
    "nombre_sain          1770\n",
    "nombre_exposed        462\n",
    "nombre_recovered    16717\n",
    "Name: 318, dtype: int64"
   ]
  },
  {
   "cell_type": "markdown",
   "id": "3453084b",
   "metadata": {},
   "source": [
    "nombre_infected      1050\n",
    "nombre_sain          1764\n",
    "nombre_exposed        454\n",
    "nombre_recovered    16732\n",
    "Name: 319, dtype: int64"
   ]
  },
  {
   "cell_type": "markdown",
   "id": "9cb36afb",
   "metadata": {},
   "source": [
    "nombre_infected      1022\n",
    "nombre_sain          1778\n",
    "nombre_exposed        466\n",
    "nombre_recovered    16734\n",
    "Name: 320, dtype: int64"
   ]
  },
  {
   "cell_type": "markdown",
   "id": "98adada7",
   "metadata": {},
   "source": [
    "nombre_infected      1043\n",
    "nombre_sain          1792\n",
    "nombre_exposed        433\n",
    "nombre_recovered    16732\n",
    "Name: 321, dtype: int64"
   ]
  },
  {
   "cell_type": "markdown",
   "id": "83558519",
   "metadata": {},
   "source": [
    "nombre_infected      1039\n",
    "nombre_sain          1779\n",
    "nombre_exposed        436\n",
    "nombre_recovered    16746\n",
    "Name: 322, dtype: int64"
   ]
  },
  {
   "cell_type": "markdown",
   "id": "352dd6fb",
   "metadata": {},
   "source": [
    "nombre_infected      1002\n",
    "nombre_sain          1792\n",
    "nombre_exposed        446\n",
    "nombre_recovered    16760\n",
    "Name: 323, dtype: int64"
   ]
  },
  {
   "cell_type": "markdown",
   "id": "785dc029",
   "metadata": {},
   "source": [
    "nombre_infected       989\n",
    "nombre_sain          1807\n",
    "nombre_exposed        431\n",
    "nombre_recovered    16773\n",
    "Name: 324, dtype: int64"
   ]
  },
  {
   "cell_type": "markdown",
   "id": "53e583c3",
   "metadata": {},
   "source": [
    "nombre_infected       985\n",
    "nombre_sain          1847\n",
    "nombre_exposed        397\n",
    "nombre_recovered    16771\n",
    "Name: 325, dtype: int64"
   ]
  },
  {
   "cell_type": "markdown",
   "id": "d72e3f73",
   "metadata": {},
   "source": [
    "nombre_infected       955\n",
    "nombre_sain          1853\n",
    "nombre_exposed        403\n",
    "nombre_recovered    16789\n",
    "Name: 326, dtype: int64"
   ]
  },
  {
   "cell_type": "markdown",
   "id": "2ef74a68",
   "metadata": {},
   "source": [
    "nombre_infected       927\n",
    "nombre_sain          1866\n",
    "nombre_exposed        410\n",
    "nombre_recovered    16797\n",
    "Name: 327, dtype: int64"
   ]
  },
  {
   "cell_type": "markdown",
   "id": "f2ea7d9c",
   "metadata": {},
   "source": [
    "nombre_infected       907\n",
    "nombre_sain          1889\n",
    "nombre_exposed        416\n",
    "nombre_recovered    16788\n",
    "Name: 328, dtype: int64"
   ]
  },
  {
   "cell_type": "markdown",
   "id": "b4f6bb3e",
   "metadata": {},
   "source": [
    "nombre_infected       872\n",
    "nombre_sain          1895\n",
    "nombre_exposed        417\n",
    "nombre_recovered    16816\n",
    "Name: 329, dtype: int64"
   ]
  },
  {
   "cell_type": "markdown",
   "id": "8dcde927",
   "metadata": {},
   "source": [
    "nombre_infected       861\n",
    "nombre_sain          1929\n",
    "nombre_exposed        407\n",
    "nombre_recovered    16803\n",
    "Name: 330, dtype: int64"
   ]
  },
  {
   "cell_type": "markdown",
   "id": "9523d5da",
   "metadata": {},
   "source": [
    "nombre_infected       834\n",
    "nombre_sain          1924\n",
    "nombre_exposed        409\n",
    "nombre_recovered    16833\n",
    "Name: 331, dtype: int64"
   ]
  },
  {
   "cell_type": "markdown",
   "id": "162b7e73",
   "metadata": {},
   "source": [
    "nombre_infected       815\n",
    "nombre_sain          1899\n",
    "nombre_exposed        428\n",
    "nombre_recovered    16858\n",
    "Name: 332, dtype: int64"
   ]
  },
  {
   "cell_type": "markdown",
   "id": "d7e06176",
   "metadata": {},
   "source": [
    "nombre_infected       788\n",
    "nombre_sain          1914\n",
    "nombre_exposed        431\n",
    "nombre_recovered    16867\n",
    "Name: 333, dtype: int64"
   ]
  },
  {
   "cell_type": "markdown",
   "id": "b90836ea",
   "metadata": {},
   "source": [
    "nombre_infected       784\n",
    "nombre_sain          1941\n",
    "nombre_exposed        432\n",
    "nombre_recovered    16843\n",
    "Name: 334, dtype: int64"
   ]
  },
  {
   "cell_type": "markdown",
   "id": "e2d8f6c2",
   "metadata": {},
   "source": [
    "nombre_infected       780\n",
    "nombre_sain          1967\n",
    "nombre_exposed        408\n",
    "nombre_recovered    16845\n",
    "Name: 335, dtype: int64"
   ]
  },
  {
   "cell_type": "markdown",
   "id": "640826a2",
   "metadata": {},
   "source": [
    "nombre_infected       796\n",
    "nombre_sain          1939\n",
    "nombre_exposed        411\n",
    "nombre_recovered    16854\n",
    "Name: 336, dtype: int64"
   ]
  },
  {
   "cell_type": "markdown",
   "id": "e5ce6734",
   "metadata": {},
   "source": [
    "nombre_infected       760\n",
    "nombre_sain          1936\n",
    "nombre_exposed        421\n",
    "nombre_recovered    16883\n",
    "Name: 337, dtype: int64"
   ]
  },
  {
   "cell_type": "markdown",
   "id": "d783af13",
   "metadata": {},
   "source": [
    "nombre_infected       783\n",
    "nombre_sain          1915\n",
    "nombre_exposed        414\n",
    "nombre_recovered    16888\n",
    "Name: 338, dtype: int64"
   ]
  },
  {
   "cell_type": "markdown",
   "id": "811bafe0",
   "metadata": {},
   "source": [
    "nombre_infected       791\n",
    "nombre_sain          1917\n",
    "nombre_exposed        417\n",
    "nombre_recovered    16875\n",
    "Name: 339, dtype: int64"
   ]
  },
  {
   "cell_type": "markdown",
   "id": "d4240655",
   "metadata": {},
   "source": [
    "nombre_infected       802\n",
    "nombre_sain          1945\n",
    "nombre_exposed        378\n",
    "nombre_recovered    16875\n",
    "Name: 340, dtype: int64"
   ]
  },
  {
   "cell_type": "markdown",
   "id": "e816b0bd",
   "metadata": {},
   "source": [
    "nombre_infected       789\n",
    "nombre_sain          1949\n",
    "nombre_exposed        377\n",
    "nombre_recovered    16885\n",
    "Name: 341, dtype: int64"
   ]
  },
  {
   "cell_type": "markdown",
   "id": "a63b31b7",
   "metadata": {},
   "source": [
    "nombre_infected       781\n",
    "nombre_sain          1976\n",
    "nombre_exposed        351\n",
    "nombre_recovered    16892\n",
    "Name: 342, dtype: int64"
   ]
  },
  {
   "cell_type": "markdown",
   "id": "1705fe03",
   "metadata": {},
   "source": [
    "nombre_infected       768\n",
    "nombre_sain          1991\n",
    "nombre_exposed        363\n",
    "nombre_recovered    16878\n",
    "Name: 343, dtype: int64"
   ]
  },
  {
   "cell_type": "markdown",
   "id": "581de4d5",
   "metadata": {},
   "source": [
    "nombre_infected       756\n",
    "nombre_sain          2014\n",
    "nombre_exposed        365\n",
    "nombre_recovered    16865\n",
    "Name: 344, dtype: int64"
   ]
  },
  {
   "cell_type": "markdown",
   "id": "d55b7df6",
   "metadata": {},
   "source": [
    "nombre_infected       765\n",
    "nombre_sain          2016\n",
    "nombre_exposed        368\n",
    "nombre_recovered    16851\n",
    "Name: 345, dtype: int64"
   ]
  },
  {
   "cell_type": "markdown",
   "id": "446c13e0",
   "metadata": {},
   "source": [
    "nombre_infected       755\n",
    "nombre_sain          2042\n",
    "nombre_exposed        358\n",
    "nombre_recovered    16845\n",
    "Name: 346, dtype: int64"
   ]
  },
  {
   "cell_type": "markdown",
   "id": "105ae64b",
   "metadata": {},
   "source": [
    "nombre_infected       757\n",
    "nombre_sain          2059\n",
    "nombre_exposed        356\n",
    "nombre_recovered    16828\n",
    "Name: 347, dtype: int64"
   ]
  },
  {
   "cell_type": "markdown",
   "id": "fa498aa7",
   "metadata": {},
   "source": [
    "nombre_infected       742\n",
    "nombre_sain          2079\n",
    "nombre_exposed        366\n",
    "nombre_recovered    16813\n",
    "Name: 348, dtype: int64"
   ]
  },
  {
   "cell_type": "markdown",
   "id": "1232adb5",
   "metadata": {},
   "source": [
    "nombre_infected       728\n",
    "nombre_sain          2096\n",
    "nombre_exposed        387\n",
    "nombre_recovered    16789\n",
    "Name: 349, dtype: int64"
   ]
  },
  {
   "cell_type": "markdown",
   "id": "ff412500",
   "metadata": {},
   "source": [
    "nombre_infected       718\n",
    "nombre_sain          2125\n",
    "nombre_exposed        389\n",
    "nombre_recovered    16768\n",
    "Name: 350, dtype: int64"
   ]
  },
  {
   "cell_type": "markdown",
   "id": "1a030d7a",
   "metadata": {},
   "source": [
    "nombre_infected       731\n",
    "nombre_sain          2135\n",
    "nombre_exposed        395\n",
    "nombre_recovered    16739\n",
    "Name: 351, dtype: int64"
   ]
  },
  {
   "cell_type": "markdown",
   "id": "2265b2df",
   "metadata": {},
   "source": [
    "nombre_infected       745\n",
    "nombre_sain          2151\n",
    "nombre_exposed        401\n",
    "nombre_recovered    16703\n",
    "Name: 352, dtype: int64"
   ]
  },
  {
   "cell_type": "markdown",
   "id": "05e864ae",
   "metadata": {},
   "source": [
    "nombre_infected       743\n",
    "nombre_sain          2166\n",
    "nombre_exposed        399\n",
    "nombre_recovered    16692\n",
    "Name: 353, dtype: int64"
   ]
  },
  {
   "cell_type": "markdown",
   "id": "d8586267",
   "metadata": {},
   "source": [
    "nombre_infected       731\n",
    "nombre_sain          2180\n",
    "nombre_exposed        392\n",
    "nombre_recovered    16697\n",
    "Name: 354, dtype: int64"
   ]
  },
  {
   "cell_type": "markdown",
   "id": "8cfc0816",
   "metadata": {},
   "source": [
    "nombre_infected       736\n",
    "nombre_sain          2204\n",
    "nombre_exposed        387\n",
    "nombre_recovered    16673\n",
    "Name: 355, dtype: int64"
   ]
  },
  {
   "cell_type": "markdown",
   "id": "5bc6708b",
   "metadata": {},
   "source": [
    "nombre_infected       748\n",
    "nombre_sain          2196\n",
    "nombre_exposed        386\n",
    "nombre_recovered    16670\n",
    "Name: 356, dtype: int64"
   ]
  },
  {
   "cell_type": "markdown",
   "id": "bf8b72fa",
   "metadata": {},
   "source": [
    "nombre_infected       759\n",
    "nombre_sain          2232\n",
    "nombre_exposed        370\n",
    "nombre_recovered    16639\n",
    "Name: 357, dtype: int64"
   ]
  },
  {
   "cell_type": "markdown",
   "id": "853b81c6",
   "metadata": {},
   "source": [
    "nombre_infected       770\n",
    "nombre_sain          2225\n",
    "nombre_exposed        386\n",
    "nombre_recovered    16619\n",
    "Name: 358, dtype: int64"
   ]
  },
  {
   "cell_type": "markdown",
   "id": "90a051a0",
   "metadata": {},
   "source": [
    "nombre_infected       758\n",
    "nombre_sain          2228\n",
    "nombre_exposed        395\n",
    "nombre_recovered    16619\n",
    "Name: 359, dtype: int64"
   ]
  },
  {
   "cell_type": "markdown",
   "id": "c894a602",
   "metadata": {},
   "source": [
    "nombre_infected       759\n",
    "nombre_sain          2202\n",
    "nombre_exposed        404\n",
    "nombre_recovered    16635\n",
    "Name: 360, dtype: int64"
   ]
  },
  {
   "cell_type": "markdown",
   "id": "96afd9a7",
   "metadata": {},
   "source": [
    "nombre_infected       769\n",
    "nombre_sain          2220\n",
    "nombre_exposed        386\n",
    "nombre_recovered    16625\n",
    "Name: 361, dtype: int64"
   ]
  },
  {
   "cell_type": "markdown",
   "id": "b7172a2c",
   "metadata": {},
   "source": [
    "nombre_infected       774\n",
    "nombre_sain          2250\n",
    "nombre_exposed        378\n",
    "nombre_recovered    16598\n",
    "Name: 362, dtype: int64"
   ]
  },
  {
   "cell_type": "markdown",
   "id": "d82348f8",
   "metadata": {},
   "source": [
    "nombre_infected       773\n",
    "nombre_sain          2237\n",
    "nombre_exposed        390\n",
    "nombre_recovered    16600\n",
    "Name: 363, dtype: int64"
   ]
  },
  {
   "cell_type": "markdown",
   "id": "0e40d527",
   "metadata": {},
   "source": [
    "nombre_infected       751\n",
    "nombre_sain          2241\n",
    "nombre_exposed        393\n",
    "nombre_recovered    16615\n",
    "Name: 364, dtype: int64"
   ]
  },
  {
   "cell_type": "markdown",
   "id": "eedb4455",
   "metadata": {},
   "source": [
    "nombre_infected       751\n",
    "nombre_sain          2236\n",
    "nombre_exposed        409\n",
    "nombre_recovered    16604\n",
    "Name: 365, dtype: int64"
   ]
  },
  {
   "cell_type": "markdown",
   "id": "1f5ade2b",
   "metadata": {},
   "source": [
    "nombre_infected       752\n",
    "nombre_sain          2257\n",
    "nombre_exposed        402\n",
    "nombre_recovered    16589\n",
    "Name: 366, dtype: int64"
   ]
  },
  {
   "cell_type": "markdown",
   "id": "abe029eb",
   "metadata": {},
   "source": [
    "nombre_infected       756\n",
    "nombre_sain          2292\n",
    "nombre_exposed        391\n",
    "nombre_recovered    16561\n",
    "Name: 367, dtype: int64"
   ]
  },
  {
   "cell_type": "markdown",
   "id": "dfb738f4",
   "metadata": {},
   "source": [
    "nombre_infected       763\n",
    "nombre_sain          2331\n",
    "nombre_exposed        387\n",
    "nombre_recovered    16519\n",
    "Name: 368, dtype: int64"
   ]
  },
  {
   "cell_type": "markdown",
   "id": "651c535d",
   "metadata": {},
   "source": [
    "nombre_infected       761\n",
    "nombre_sain          2313\n",
    "nombre_exposed        430\n",
    "nombre_recovered    16496\n",
    "Name: 369, dtype: int64"
   ]
  },
  {
   "cell_type": "markdown",
   "id": "dcabdcb7",
   "metadata": {},
   "source": [
    "nombre_infected       765\n",
    "nombre_sain          2327\n",
    "nombre_exposed        445\n",
    "nombre_recovered    16463\n",
    "Name: 370, dtype: int64"
   ]
  },
  {
   "cell_type": "markdown",
   "id": "ce00f323",
   "metadata": {},
   "source": [
    "nombre_infected       772\n",
    "nombre_sain          2352\n",
    "nombre_exposed        435\n",
    "nombre_recovered    16441\n",
    "Name: 371, dtype: int64"
   ]
  },
  {
   "cell_type": "markdown",
   "id": "2e863fd5",
   "metadata": {},
   "source": [
    "nombre_infected       778\n",
    "nombre_sain          2376\n",
    "nombre_exposed        447\n",
    "nombre_recovered    16399\n",
    "Name: 372, dtype: int64"
   ]
  },
  {
   "cell_type": "markdown",
   "id": "8575c249",
   "metadata": {},
   "source": [
    "nombre_infected       808\n",
    "nombre_sain          2409\n",
    "nombre_exposed        447\n",
    "nombre_recovered    16336\n",
    "Name: 373, dtype: int64"
   ]
  },
  {
   "cell_type": "markdown",
   "id": "90f68fd4",
   "metadata": {},
   "source": [
    "nombre_infected       841\n",
    "nombre_sain          2410\n",
    "nombre_exposed        440\n",
    "nombre_recovered    16309\n",
    "Name: 374, dtype: int64"
   ]
  },
  {
   "cell_type": "markdown",
   "id": "b665206e",
   "metadata": {},
   "source": [
    "nombre_infected       838\n",
    "nombre_sain          2405\n",
    "nombre_exposed        466\n",
    "nombre_recovered    16291\n",
    "Name: 375, dtype: int64"
   ]
  },
  {
   "cell_type": "markdown",
   "id": "85114eeb",
   "metadata": {},
   "source": [
    "nombre_infected       845\n",
    "nombre_sain          2419\n",
    "nombre_exposed        467\n",
    "nombre_recovered    16269\n",
    "Name: 376, dtype: int64"
   ]
  },
  {
   "cell_type": "markdown",
   "id": "ed783139",
   "metadata": {},
   "source": [
    "nombre_infected       874\n",
    "nombre_sain          2430\n",
    "nombre_exposed        467\n",
    "nombre_recovered    16229\n",
    "Name: 377, dtype: int64"
   ]
  },
  {
   "cell_type": "markdown",
   "id": "a0b94105",
   "metadata": {},
   "source": [
    "nombre_infected       914\n",
    "nombre_sain          2437\n",
    "nombre_exposed        461\n",
    "nombre_recovered    16188\n",
    "Name: 378, dtype: int64"
   ]
  },
  {
   "cell_type": "markdown",
   "id": "7d936e82",
   "metadata": {},
   "source": [
    "nombre_infected       901\n",
    "nombre_sain          2444\n",
    "nombre_exposed        470\n",
    "nombre_recovered    16185\n",
    "Name: 379, dtype: int64"
   ]
  },
  {
   "cell_type": "markdown",
   "id": "3b46600e",
   "metadata": {},
   "source": [
    "nombre_infected       907\n",
    "nombre_sain          2443\n",
    "nombre_exposed        498\n",
    "nombre_recovered    16152\n",
    "Name: 380, dtype: int64"
   ]
  },
  {
   "cell_type": "markdown",
   "id": "eb2b3600",
   "metadata": {},
   "source": [
    "nombre_infected       912\n",
    "nombre_sain          2426\n",
    "nombre_exposed        516\n",
    "nombre_recovered    16146\n",
    "Name: 381, dtype: int64"
   ]
  },
  {
   "cell_type": "markdown",
   "id": "d8455a97",
   "metadata": {},
   "source": [
    "nombre_infected       893\n",
    "nombre_sain          2403\n",
    "nombre_exposed        549\n",
    "nombre_recovered    16155\n",
    "Name: 382, dtype: int64"
   ]
  },
  {
   "cell_type": "markdown",
   "id": "cc923413",
   "metadata": {},
   "source": [
    "nombre_infected       921\n",
    "nombre_sain          2386\n",
    "nombre_exposed        536\n",
    "nombre_recovered    16157\n",
    "Name: 383, dtype: int64"
   ]
  },
  {
   "cell_type": "markdown",
   "id": "6edfede0",
   "metadata": {},
   "source": [
    "nombre_infected       921\n",
    "nombre_sain          2381\n",
    "nombre_exposed        536\n",
    "nombre_recovered    16162\n",
    "Name: 384, dtype: int64"
   ]
  },
  {
   "cell_type": "markdown",
   "id": "3fef41f7",
   "metadata": {},
   "source": [
    "nombre_infected       965\n",
    "nombre_sain          2356\n",
    "nombre_exposed        522\n",
    "nombre_recovered    16157\n",
    "Name: 385, dtype: int64"
   ]
  },
  {
   "cell_type": "markdown",
   "id": "ca1e0b03",
   "metadata": {},
   "source": [
    "nombre_infected       955\n",
    "nombre_sain          2336\n",
    "nombre_exposed        513\n",
    "nombre_recovered    16196\n",
    "Name: 386, dtype: int64"
   ]
  },
  {
   "cell_type": "markdown",
   "id": "1d5a844b",
   "metadata": {},
   "source": [
    "nombre_infected       973\n",
    "nombre_sain          2314\n",
    "nombre_exposed        502\n",
    "nombre_recovered    16211\n",
    "Name: 387, dtype: int64"
   ]
  },
  {
   "cell_type": "markdown",
   "id": "74a460f2",
   "metadata": {},
   "source": [
    "nombre_infected       984\n",
    "nombre_sain          2299\n",
    "nombre_exposed        496\n",
    "nombre_recovered    16221\n",
    "Name: 388, dtype: int64"
   ]
  },
  {
   "cell_type": "markdown",
   "id": "c59a70f1",
   "metadata": {},
   "source": [
    "nombre_infected       965\n",
    "nombre_sain          2291\n",
    "nombre_exposed        506\n",
    "nombre_recovered    16238\n",
    "Name: 389, dtype: int64"
   ]
  },
  {
   "cell_type": "markdown",
   "id": "f8dc4110",
   "metadata": {},
   "source": [
    "nombre_infected       956\n",
    "nombre_sain          2274\n",
    "nombre_exposed        520\n",
    "nombre_recovered    16250\n",
    "Name: 390, dtype: int64"
   ]
  },
  {
   "cell_type": "markdown",
   "id": "94c97f0a",
   "metadata": {},
   "source": [
    "nombre_infected       957\n",
    "nombre_sain          2257\n",
    "nombre_exposed        549\n",
    "nombre_recovered    16237\n",
    "Name: 391, dtype: int64"
   ]
  },
  {
   "cell_type": "markdown",
   "id": "dc3b47c1",
   "metadata": {},
   "source": [
    "nombre_infected       963\n",
    "nombre_sain          2248\n",
    "nombre_exposed        539\n",
    "nombre_recovered    16250\n",
    "Name: 392, dtype: int64"
   ]
  },
  {
   "cell_type": "markdown",
   "id": "fa579307",
   "metadata": {},
   "source": [
    "nombre_infected       993\n",
    "nombre_sain          2235\n",
    "nombre_exposed        532\n",
    "nombre_recovered    16240\n",
    "Name: 393, dtype: int64"
   ]
  },
  {
   "cell_type": "markdown",
   "id": "51fe5efa",
   "metadata": {},
   "source": [
    "nombre_infected      1002\n",
    "nombre_sain          2208\n",
    "nombre_exposed        537\n",
    "nombre_recovered    16253\n",
    "Name: 394, dtype: int64"
   ]
  },
  {
   "cell_type": "markdown",
   "id": "4fc65f83",
   "metadata": {},
   "source": [
    "nombre_infected      1007\n",
    "nombre_sain          2193\n",
    "nombre_exposed        540\n",
    "nombre_recovered    16260\n",
    "Name: 395, dtype: int64"
   ]
  },
  {
   "cell_type": "markdown",
   "id": "28df14e0",
   "metadata": {},
   "source": [
    "nombre_infected      1011\n",
    "nombre_sain          2190\n",
    "nombre_exposed        530\n",
    "nombre_recovered    16269\n",
    "Name: 396, dtype: int64"
   ]
  },
  {
   "cell_type": "markdown",
   "id": "e84fc374",
   "metadata": {},
   "source": [
    "nombre_infected      1010\n",
    "nombre_sain          2185\n",
    "nombre_exposed        547\n",
    "nombre_recovered    16258\n",
    "Name: 397, dtype: int64"
   ]
  },
  {
   "cell_type": "markdown",
   "id": "b8294082",
   "metadata": {},
   "source": [
    "nombre_infected      1038\n",
    "nombre_sain          2203\n",
    "nombre_exposed        511\n",
    "nombre_recovered    16248\n",
    "Name: 398, dtype: int64"
   ]
  },
  {
   "cell_type": "markdown",
   "id": "c7e8145e",
   "metadata": {},
   "source": [
    "nombre_infected      1023\n",
    "nombre_sain          2196\n",
    "nombre_exposed        516\n",
    "nombre_recovered    16265\n",
    "Name: 399, dtype: int64"
   ]
  },
  {
   "cell_type": "markdown",
   "id": "1404c9c0",
   "metadata": {},
   "source": [
    "nombre_infected      1035\n",
    "nombre_sain          2205\n",
    "nombre_exposed        517\n",
    "nombre_recovered    16243\n",
    "Name: 400, dtype: int64"
   ]
  },
  {
   "cell_type": "markdown",
   "id": "ff8d7fb1",
   "metadata": {},
   "source": [
    "nombre_infected      1015\n",
    "nombre_sain          2190\n",
    "nombre_exposed        525\n",
    "nombre_recovered    16270\n",
    "Name: 401, dtype: int64"
   ]
  },
  {
   "cell_type": "markdown",
   "id": "687da3ee",
   "metadata": {},
   "source": [
    "nombre_infected      1032\n",
    "nombre_sain          2167\n",
    "nombre_exposed        520\n",
    "nombre_recovered    16281\n",
    "Name: 402, dtype: int64"
   ]
  },
  {
   "cell_type": "markdown",
   "id": "c3a7e47e",
   "metadata": {},
   "source": [
    "nombre_infected      1044\n",
    "nombre_sain          2153\n",
    "nombre_exposed        527\n",
    "nombre_recovered    16276\n",
    "Name: 403, dtype: int64"
   ]
  },
  {
   "cell_type": "markdown",
   "id": "11dcf079",
   "metadata": {},
   "source": [
    "nombre_infected      1065\n",
    "nombre_sain          2122\n",
    "nombre_exposed        536\n",
    "nombre_recovered    16277\n",
    "Name: 404, dtype: int64"
   ]
  },
  {
   "cell_type": "markdown",
   "id": "7e5b352b",
   "metadata": {},
   "source": [
    "nombre_infected      1068\n",
    "nombre_sain          2088\n",
    "nombre_exposed        551\n",
    "nombre_recovered    16293\n",
    "Name: 405, dtype: int64"
   ]
  },
  {
   "cell_type": "markdown",
   "id": "ce9812c7",
   "metadata": {},
   "source": [
    "nombre_infected      1087\n",
    "nombre_sain          2062\n",
    "nombre_exposed        530\n",
    "nombre_recovered    16321\n",
    "Name: 406, dtype: int64"
   ]
  },
  {
   "cell_type": "markdown",
   "id": "ad6ac5ae",
   "metadata": {},
   "source": [
    "nombre_infected      1074\n",
    "nombre_sain          2052\n",
    "nombre_exposed        532\n",
    "nombre_recovered    16342\n",
    "Name: 407, dtype: int64"
   ]
  },
  {
   "cell_type": "markdown",
   "id": "285657f5",
   "metadata": {},
   "source": [
    "nombre_infected      1073\n",
    "nombre_sain          2025\n",
    "nombre_exposed        520\n",
    "nombre_recovered    16382\n",
    "Name: 408, dtype: int64"
   ]
  },
  {
   "cell_type": "markdown",
   "id": "df5a8e69",
   "metadata": {},
   "source": [
    "nombre_infected      1044\n",
    "nombre_sain          2017\n",
    "nombre_exposed        540\n",
    "nombre_recovered    16399\n",
    "Name: 409, dtype: int64"
   ]
  },
  {
   "cell_type": "markdown",
   "id": "eb66b653",
   "metadata": {},
   "source": [
    "nombre_infected      1094\n",
    "nombre_sain          2015\n",
    "nombre_exposed        509\n",
    "nombre_recovered    16382\n",
    "Name: 410, dtype: int64"
   ]
  },
  {
   "cell_type": "markdown",
   "id": "d3f1a36a",
   "metadata": {},
   "source": [
    "nombre_infected      1111\n",
    "nombre_sain          2007\n",
    "nombre_exposed        519\n",
    "nombre_recovered    16363\n",
    "Name: 411, dtype: int64"
   ]
  },
  {
   "cell_type": "markdown",
   "id": "ea75248b",
   "metadata": {},
   "source": [
    "nombre_infected      1117\n",
    "nombre_sain          1967\n",
    "nombre_exposed        530\n",
    "nombre_recovered    16386\n",
    "Name: 412, dtype: int64"
   ]
  },
  {
   "cell_type": "markdown",
   "id": "416ef0ad",
   "metadata": {},
   "source": [
    "nombre_infected      1116\n",
    "nombre_sain          1950\n",
    "nombre_exposed        501\n",
    "nombre_recovered    16433\n",
    "Name: 413, dtype: int64"
   ]
  },
  {
   "cell_type": "markdown",
   "id": "040d9fac",
   "metadata": {},
   "source": [
    "nombre_infected      1123\n",
    "nombre_sain          1954\n",
    "nombre_exposed        496\n",
    "nombre_recovered    16427\n",
    "Name: 414, dtype: int64"
   ]
  },
  {
   "cell_type": "markdown",
   "id": "3b33aced",
   "metadata": {},
   "source": [
    "nombre_infected      1130\n",
    "nombre_sain          1949\n",
    "nombre_exposed        500\n",
    "nombre_recovered    16421\n",
    "Name: 415, dtype: int64"
   ]
  },
  {
   "cell_type": "markdown",
   "id": "9b1d0b53",
   "metadata": {},
   "source": [
    "nombre_infected      1113\n",
    "nombre_sain          1920\n",
    "nombre_exposed        517\n",
    "nombre_recovered    16450\n",
    "Name: 416, dtype: int64"
   ]
  },
  {
   "cell_type": "markdown",
   "id": "0d82984b",
   "metadata": {},
   "source": [
    "nombre_infected      1104\n",
    "nombre_sain          1936\n",
    "nombre_exposed        508\n",
    "nombre_recovered    16452\n",
    "Name: 417, dtype: int64"
   ]
  },
  {
   "cell_type": "markdown",
   "id": "feb30956",
   "metadata": {},
   "source": [
    "nombre_infected      1097\n",
    "nombre_sain          1929\n",
    "nombre_exposed        514\n",
    "nombre_recovered    16460\n",
    "Name: 418, dtype: int64"
   ]
  },
  {
   "cell_type": "markdown",
   "id": "06212869",
   "metadata": {},
   "source": [
    "nombre_infected      1090\n",
    "nombre_sain          1910\n",
    "nombre_exposed        527\n",
    "nombre_recovered    16473\n",
    "Name: 419, dtype: int64"
   ]
  },
  {
   "cell_type": "markdown",
   "id": "e65a6fed",
   "metadata": {},
   "source": [
    "nombre_infected      1083\n",
    "nombre_sain          1920\n",
    "nombre_exposed        494\n",
    "nombre_recovered    16503\n",
    "Name: 420, dtype: int64"
   ]
  },
  {
   "cell_type": "markdown",
   "id": "19eea0bf",
   "metadata": {},
   "source": [
    "nombre_infected      1095\n",
    "nombre_sain          1939\n",
    "nombre_exposed        473\n",
    "nombre_recovered    16493\n",
    "Name: 421, dtype: int64"
   ]
  },
  {
   "cell_type": "markdown",
   "id": "211b87d7",
   "metadata": {},
   "source": [
    "nombre_infected      1082\n",
    "nombre_sain          1951\n",
    "nombre_exposed        501\n",
    "nombre_recovered    16466\n",
    "Name: 422, dtype: int64"
   ]
  },
  {
   "cell_type": "markdown",
   "id": "0963b896",
   "metadata": {},
   "source": [
    "nombre_infected      1100\n",
    "nombre_sain          1952\n",
    "nombre_exposed        507\n",
    "nombre_recovered    16441\n",
    "Name: 423, dtype: int64"
   ]
  },
  {
   "cell_type": "markdown",
   "id": "7b93eefb",
   "metadata": {},
   "source": [
    "nombre_infected      1094\n",
    "nombre_sain          1952\n",
    "nombre_exposed        524\n",
    "nombre_recovered    16430\n",
    "Name: 424, dtype: int64"
   ]
  },
  {
   "cell_type": "markdown",
   "id": "d570d712",
   "metadata": {},
   "source": [
    "nombre_infected      1093\n",
    "nombre_sain          1953\n",
    "nombre_exposed        520\n",
    "nombre_recovered    16434\n",
    "Name: 425, dtype: int64"
   ]
  },
  {
   "cell_type": "markdown",
   "id": "3a5d293b",
   "metadata": {},
   "source": [
    "nombre_infected      1090\n",
    "nombre_sain          1948\n",
    "nombre_exposed        539\n",
    "nombre_recovered    16423\n",
    "Name: 426, dtype: int64"
   ]
  },
  {
   "cell_type": "markdown",
   "id": "de91aa3d",
   "metadata": {},
   "source": [
    "nombre_infected      1085\n",
    "nombre_sain          1952\n",
    "nombre_exposed        552\n",
    "nombre_recovered    16411\n",
    "Name: 427, dtype: int64"
   ]
  },
  {
   "cell_type": "markdown",
   "id": "a4e00a14",
   "metadata": {},
   "source": [
    "nombre_infected      1075\n",
    "nombre_sain          1954\n",
    "nombre_exposed        557\n",
    "nombre_recovered    16414\n",
    "Name: 428, dtype: int64"
   ]
  },
  {
   "cell_type": "markdown",
   "id": "e752fcf8",
   "metadata": {},
   "source": [
    "nombre_infected      1088\n",
    "nombre_sain          1944\n",
    "nombre_exposed        558\n",
    "nombre_recovered    16410\n",
    "Name: 429, dtype: int64"
   ]
  },
  {
   "cell_type": "markdown",
   "id": "889f947c",
   "metadata": {},
   "source": [
    "nombre_infected      1101\n",
    "nombre_sain          1943\n",
    "nombre_exposed        546\n",
    "nombre_recovered    16410\n",
    "Name: 430, dtype: int64"
   ]
  },
  {
   "cell_type": "markdown",
   "id": "3566d59b",
   "metadata": {},
   "source": [
    "nombre_infected      1102\n",
    "nombre_sain          1941\n",
    "nombre_exposed        561\n",
    "nombre_recovered    16396\n",
    "Name: 431, dtype: int64"
   ]
  },
  {
   "cell_type": "markdown",
   "id": "265cbb20",
   "metadata": {},
   "source": [
    "nombre_infected      1118\n",
    "nombre_sain          1975\n",
    "nombre_exposed        519\n",
    "nombre_recovered    16388\n",
    "Name: 432, dtype: int64"
   ]
  },
  {
   "cell_type": "markdown",
   "id": "4d8d0a62",
   "metadata": {},
   "source": [
    "nombre_infected      1109\n",
    "nombre_sain          1974\n",
    "nombre_exposed        523\n",
    "nombre_recovered    16394\n",
    "Name: 433, dtype: int64"
   ]
  },
  {
   "cell_type": "markdown",
   "id": "aa9a28c8",
   "metadata": {},
   "source": [
    "nombre_infected      1112\n",
    "nombre_sain          1949\n",
    "nombre_exposed        554\n",
    "nombre_recovered    16385\n",
    "Name: 434, dtype: int64"
   ]
  },
  {
   "cell_type": "markdown",
   "id": "f1eeb6eb",
   "metadata": {},
   "source": [
    "nombre_infected      1090\n",
    "nombre_sain          1950\n",
    "nombre_exposed        554\n",
    "nombre_recovered    16406\n",
    "Name: 435, dtype: int64"
   ]
  },
  {
   "cell_type": "markdown",
   "id": "851a1000",
   "metadata": {},
   "source": [
    "nombre_infected      1106\n",
    "nombre_sain          1946\n",
    "nombre_exposed        524\n",
    "nombre_recovered    16424\n",
    "Name: 436, dtype: int64"
   ]
  },
  {
   "cell_type": "markdown",
   "id": "f01fc523",
   "metadata": {},
   "source": [
    "nombre_infected      1089\n",
    "nombre_sain          1933\n",
    "nombre_exposed        544\n",
    "nombre_recovered    16434\n",
    "Name: 437, dtype: int64"
   ]
  },
  {
   "cell_type": "markdown",
   "id": "9e49dd63",
   "metadata": {},
   "source": [
    "nombre_infected      1121\n",
    "nombre_sain          1891\n",
    "nombre_exposed        545\n",
    "nombre_recovered    16443\n",
    "Name: 438, dtype: int64"
   ]
  },
  {
   "cell_type": "markdown",
   "id": "c1f29297",
   "metadata": {},
   "source": [
    "nombre_infected      1120\n",
    "nombre_sain          1859\n",
    "nombre_exposed        550\n",
    "nombre_recovered    16471\n",
    "Name: 439, dtype: int64"
   ]
  },
  {
   "cell_type": "markdown",
   "id": "d099a014",
   "metadata": {},
   "source": [
    "nombre_infected      1119\n",
    "nombre_sain          1837\n",
    "nombre_exposed        550\n",
    "nombre_recovered    16494\n",
    "Name: 440, dtype: int64"
   ]
  },
  {
   "cell_type": "markdown",
   "id": "c723f775",
   "metadata": {},
   "source": [
    "nombre_infected      1093\n",
    "nombre_sain          1841\n",
    "nombre_exposed        538\n",
    "nombre_recovered    16528\n",
    "Name: 441, dtype: int64"
   ]
  },
  {
   "cell_type": "markdown",
   "id": "754a20bf",
   "metadata": {},
   "source": [
    "nombre_infected      1109\n",
    "nombre_sain          1843\n",
    "nombre_exposed        527\n",
    "nombre_recovered    16521\n",
    "Name: 442, dtype: int64"
   ]
  },
  {
   "cell_type": "markdown",
   "id": "d20150a1",
   "metadata": {},
   "source": [
    "nombre_infected      1091\n",
    "nombre_sain          1849\n",
    "nombre_exposed        539\n",
    "nombre_recovered    16521\n",
    "Name: 443, dtype: int64"
   ]
  },
  {
   "cell_type": "markdown",
   "id": "a6a0277d",
   "metadata": {},
   "source": [
    "nombre_infected      1070\n",
    "nombre_sain          1826\n",
    "nombre_exposed        560\n",
    "nombre_recovered    16544\n",
    "Name: 444, dtype: int64"
   ]
  },
  {
   "cell_type": "markdown",
   "id": "ecd823f6",
   "metadata": {},
   "source": [
    "nombre_infected      1081\n",
    "nombre_sain          1845\n",
    "nombre_exposed        543\n",
    "nombre_recovered    16531\n",
    "Name: 445, dtype: int64"
   ]
  },
  {
   "cell_type": "markdown",
   "id": "96044d43",
   "metadata": {},
   "source": [
    "nombre_infected      1071\n",
    "nombre_sain          1847\n",
    "nombre_exposed        541\n",
    "nombre_recovered    16541\n",
    "Name: 446, dtype: int64"
   ]
  },
  {
   "cell_type": "markdown",
   "id": "d467df67",
   "metadata": {},
   "source": [
    "nombre_infected      1072\n",
    "nombre_sain          1845\n",
    "nombre_exposed        541\n",
    "nombre_recovered    16542\n",
    "Name: 447, dtype: int64"
   ]
  },
  {
   "cell_type": "markdown",
   "id": "42dead93",
   "metadata": {},
   "source": [
    "nombre_infected      1074\n",
    "nombre_sain          1874\n",
    "nombre_exposed        521\n",
    "nombre_recovered    16531\n",
    "Name: 448, dtype: int64"
   ]
  },
  {
   "cell_type": "markdown",
   "id": "b6f6b9df",
   "metadata": {},
   "source": [
    "nombre_infected      1060\n",
    "nombre_sain          1871\n",
    "nombre_exposed        515\n",
    "nombre_recovered    16554\n",
    "Name: 449, dtype: int64"
   ]
  },
  {
   "cell_type": "markdown",
   "id": "27b9ed1d",
   "metadata": {},
   "source": [
    "nombre_infected      1062\n",
    "nombre_sain          1874\n",
    "nombre_exposed        524\n",
    "nombre_recovered    16540\n",
    "Name: 450, dtype: int64"
   ]
  },
  {
   "cell_type": "markdown",
   "id": "a6dd3a22",
   "metadata": {},
   "source": [
    "nombre_infected      1035\n",
    "nombre_sain          1889\n",
    "nombre_exposed        524\n",
    "nombre_recovered    16552\n",
    "Name: 451, dtype: int64"
   ]
  },
  {
   "cell_type": "markdown",
   "id": "8fd63d54",
   "metadata": {},
   "source": [
    "nombre_infected      1035\n",
    "nombre_sain          1908\n",
    "nombre_exposed        518\n",
    "nombre_recovered    16539\n",
    "Name: 452, dtype: int64"
   ]
  },
  {
   "cell_type": "markdown",
   "id": "e87217a2",
   "metadata": {},
   "source": [
    "nombre_infected      1016\n",
    "nombre_sain          1924\n",
    "nombre_exposed        528\n",
    "nombre_recovered    16532\n",
    "Name: 453, dtype: int64"
   ]
  },
  {
   "cell_type": "markdown",
   "id": "834334f0",
   "metadata": {},
   "source": [
    "nombre_infected      1018\n",
    "nombre_sain          1967\n",
    "nombre_exposed        508\n",
    "nombre_recovered    16507\n",
    "Name: 454, dtype: int64"
   ]
  },
  {
   "cell_type": "markdown",
   "id": "3a450a22",
   "metadata": {},
   "source": [
    "nombre_infected       987\n",
    "nombre_sain          1970\n",
    "nombre_exposed        519\n",
    "nombre_recovered    16524\n",
    "Name: 455, dtype: int64"
   ]
  },
  {
   "cell_type": "markdown",
   "id": "9f5974c2",
   "metadata": {},
   "source": [
    "nombre_infected       983\n",
    "nombre_sain          1984\n",
    "nombre_exposed        539\n",
    "nombre_recovered    16494\n",
    "Name: 456, dtype: int64"
   ]
  },
  {
   "cell_type": "markdown",
   "id": "517ac861",
   "metadata": {},
   "source": [
    "nombre_infected       947\n",
    "nombre_sain          2005\n",
    "nombre_exposed        563\n",
    "nombre_recovered    16485\n",
    "Name: 457, dtype: int64"
   ]
  },
  {
   "cell_type": "markdown",
   "id": "27a4e2a0",
   "metadata": {},
   "source": [
    "nombre_infected       962\n",
    "nombre_sain          2017\n",
    "nombre_exposed        520\n",
    "nombre_recovered    16501\n",
    "Name: 458, dtype: int64"
   ]
  },
  {
   "cell_type": "markdown",
   "id": "1115dd94",
   "metadata": {},
   "source": [
    "nombre_infected       957\n",
    "nombre_sain          2038\n",
    "nombre_exposed        517\n",
    "nombre_recovered    16488\n",
    "Name: 459, dtype: int64"
   ]
  },
  {
   "cell_type": "markdown",
   "id": "87392d00",
   "metadata": {},
   "source": [
    "nombre_infected       939\n",
    "nombre_sain          2032\n",
    "nombre_exposed        533\n",
    "nombre_recovered    16496\n",
    "Name: 460, dtype: int64"
   ]
  },
  {
   "cell_type": "markdown",
   "id": "fe208277",
   "metadata": {},
   "source": [
    "nombre_infected       943\n",
    "nombre_sain          2032\n",
    "nombre_exposed        529\n",
    "nombre_recovered    16496\n",
    "Name: 461, dtype: int64"
   ]
  },
  {
   "cell_type": "markdown",
   "id": "b9fc0816",
   "metadata": {},
   "source": [
    "nombre_infected       920\n",
    "nombre_sain          2063\n",
    "nombre_exposed        543\n",
    "nombre_recovered    16474\n",
    "Name: 462, dtype: int64"
   ]
  },
  {
   "cell_type": "markdown",
   "id": "0b50e298",
   "metadata": {},
   "source": [
    "nombre_infected       907\n",
    "nombre_sain          2106\n",
    "nombre_exposed        523\n",
    "nombre_recovered    16464\n",
    "Name: 463, dtype: int64"
   ]
  },
  {
   "cell_type": "markdown",
   "id": "2e99bc61",
   "metadata": {},
   "source": [
    "nombre_infected       903\n",
    "nombre_sain          2111\n",
    "nombre_exposed        524\n",
    "nombre_recovered    16462\n",
    "Name: 464, dtype: int64"
   ]
  },
  {
   "cell_type": "markdown",
   "id": "38d6368b",
   "metadata": {},
   "source": [
    "nombre_infected       896\n",
    "nombre_sain          2137\n",
    "nombre_exposed        519\n",
    "nombre_recovered    16448\n",
    "Name: 465, dtype: int64"
   ]
  },
  {
   "cell_type": "markdown",
   "id": "9487b4b8",
   "metadata": {},
   "source": [
    "nombre_infected       885\n",
    "nombre_sain          2136\n",
    "nombre_exposed        537\n",
    "nombre_recovered    16442\n",
    "Name: 466, dtype: int64"
   ]
  },
  {
   "cell_type": "markdown",
   "id": "c1c7a44b",
   "metadata": {},
   "source": [
    "nombre_infected       860\n",
    "nombre_sain          2130\n",
    "nombre_exposed        526\n",
    "nombre_recovered    16484\n",
    "Name: 467, dtype: int64"
   ]
  },
  {
   "cell_type": "markdown",
   "id": "88c60100",
   "metadata": {},
   "source": [
    "nombre_infected       859\n",
    "nombre_sain          2132\n",
    "nombre_exposed        538\n",
    "nombre_recovered    16471\n",
    "Name: 468, dtype: int64"
   ]
  },
  {
   "cell_type": "markdown",
   "id": "2171d38c",
   "metadata": {},
   "source": [
    "nombre_infected       860\n",
    "nombre_sain          2123\n",
    "nombre_exposed        530\n",
    "nombre_recovered    16487\n",
    "Name: 469, dtype: int64"
   ]
  },
  {
   "cell_type": "markdown",
   "id": "0c385758",
   "metadata": {},
   "source": [
    "nombre_infected       855\n",
    "nombre_sain          2118\n",
    "nombre_exposed        533\n",
    "nombre_recovered    16494\n",
    "Name: 470, dtype: int64"
   ]
  },
  {
   "cell_type": "markdown",
   "id": "5784e9bf",
   "metadata": {},
   "source": [
    "nombre_infected       860\n",
    "nombre_sain          2125\n",
    "nombre_exposed        531\n",
    "nombre_recovered    16484\n",
    "Name: 471, dtype: int64"
   ]
  },
  {
   "cell_type": "markdown",
   "id": "5454891c",
   "metadata": {},
   "source": [
    "nombre_infected       864\n",
    "nombre_sain          2147\n",
    "nombre_exposed        521\n",
    "nombre_recovered    16468\n",
    "Name: 472, dtype: int64"
   ]
  },
  {
   "cell_type": "markdown",
   "id": "670192a1",
   "metadata": {},
   "source": [
    "nombre_infected       855\n",
    "nombre_sain          2129\n",
    "nombre_exposed        522\n",
    "nombre_recovered    16494\n",
    "Name: 473, dtype: int64"
   ]
  },
  {
   "cell_type": "markdown",
   "id": "b5638493",
   "metadata": {},
   "source": [
    "nombre_infected       840\n",
    "nombre_sain          2147\n",
    "nombre_exposed        526\n",
    "nombre_recovered    16487\n",
    "Name: 474, dtype: int64"
   ]
  },
  {
   "cell_type": "markdown",
   "id": "b275e6f1",
   "metadata": {},
   "source": [
    "nombre_infected       836\n",
    "nombre_sain          2157\n",
    "nombre_exposed        528\n",
    "nombre_recovered    16479\n",
    "Name: 475, dtype: int64"
   ]
  },
  {
   "cell_type": "markdown",
   "id": "72b96eaf",
   "metadata": {},
   "source": [
    "nombre_infected       840\n",
    "nombre_sain          2157\n",
    "nombre_exposed        522\n",
    "nombre_recovered    16481\n",
    "Name: 476, dtype: int64"
   ]
  },
  {
   "cell_type": "markdown",
   "id": "b08d2d8c",
   "metadata": {},
   "source": [
    "nombre_infected       856\n",
    "nombre_sain          2138\n",
    "nombre_exposed        515\n",
    "nombre_recovered    16491\n",
    "Name: 477, dtype: int64"
   ]
  },
  {
   "cell_type": "markdown",
   "id": "3e7c751b",
   "metadata": {},
   "source": [
    "nombre_infected       861\n",
    "nombre_sain          2161\n",
    "nombre_exposed        510\n",
    "nombre_recovered    16468\n",
    "Name: 478, dtype: int64"
   ]
  },
  {
   "cell_type": "markdown",
   "id": "45a8ac61",
   "metadata": {},
   "source": [
    "nombre_infected       862\n",
    "nombre_sain          2167\n",
    "nombre_exposed        502\n",
    "nombre_recovered    16469\n",
    "Name: 479, dtype: int64"
   ]
  },
  {
   "cell_type": "markdown",
   "id": "49a74289",
   "metadata": {},
   "source": [
    "nombre_infected       862\n",
    "nombre_sain          2145\n",
    "nombre_exposed        526\n",
    "nombre_recovered    16467\n",
    "Name: 480, dtype: int64"
   ]
  },
  {
   "cell_type": "markdown",
   "id": "3d6cf5a6",
   "metadata": {},
   "source": [
    "nombre_infected       870\n",
    "nombre_sain          2184\n",
    "nombre_exposed        506\n",
    "nombre_recovered    16440\n",
    "Name: 481, dtype: int64"
   ]
  },
  {
   "cell_type": "markdown",
   "id": "97451e23",
   "metadata": {},
   "source": [
    "nombre_infected       864\n",
    "nombre_sain          2170\n",
    "nombre_exposed        537\n",
    "nombre_recovered    16429\n",
    "Name: 482, dtype: int64"
   ]
  },
  {
   "cell_type": "markdown",
   "id": "fa487461",
   "metadata": {},
   "source": [
    "nombre_infected       860\n",
    "nombre_sain          2184\n",
    "nombre_exposed        539\n",
    "nombre_recovered    16417\n",
    "Name: 483, dtype: int64"
   ]
  },
  {
   "cell_type": "markdown",
   "id": "9618b319",
   "metadata": {},
   "source": [
    "nombre_infected       847\n",
    "nombre_sain          2203\n",
    "nombre_exposed        557\n",
    "nombre_recovered    16393\n",
    "Name: 484, dtype: int64"
   ]
  },
  {
   "cell_type": "markdown",
   "id": "6b89e09a",
   "metadata": {},
   "source": [
    "nombre_infected       855\n",
    "nombre_sain          2206\n",
    "nombre_exposed        552\n",
    "nombre_recovered    16387\n",
    "Name: 485, dtype: int64"
   ]
  },
  {
   "cell_type": "markdown",
   "id": "62df2fbe",
   "metadata": {},
   "source": [
    "nombre_infected       842\n",
    "nombre_sain          2222\n",
    "nombre_exposed        558\n",
    "nombre_recovered    16378\n",
    "Name: 486, dtype: int64"
   ]
  },
  {
   "cell_type": "markdown",
   "id": "0cf8ea8a",
   "metadata": {},
   "source": [
    "nombre_infected       879\n",
    "nombre_sain          2210\n",
    "nombre_exposed        535\n",
    "nombre_recovered    16376\n",
    "Name: 487, dtype: int64"
   ]
  },
  {
   "cell_type": "markdown",
   "id": "6bdba614",
   "metadata": {},
   "source": [
    "nombre_infected       877\n",
    "nombre_sain          2215\n",
    "nombre_exposed        541\n",
    "nombre_recovered    16367\n",
    "Name: 488, dtype: int64"
   ]
  },
  {
   "cell_type": "markdown",
   "id": "b542df16",
   "metadata": {},
   "source": [
    "nombre_infected       898\n",
    "nombre_sain          2220\n",
    "nombre_exposed        540\n",
    "nombre_recovered    16342\n",
    "Name: 489, dtype: int64"
   ]
  },
  {
   "cell_type": "markdown",
   "id": "f3ab3508",
   "metadata": {},
   "source": [
    "nombre_infected       890\n",
    "nombre_sain          2219\n",
    "nombre_exposed        547\n",
    "nombre_recovered    16344\n",
    "Name: 490, dtype: int64"
   ]
  },
  {
   "cell_type": "markdown",
   "id": "a614f5da",
   "metadata": {},
   "source": [
    "nombre_infected       910\n",
    "nombre_sain          2195\n",
    "nombre_exposed        562\n",
    "nombre_recovered    16333\n",
    "Name: 491, dtype: int64"
   ]
  },
  {
   "cell_type": "markdown",
   "id": "ff29d329",
   "metadata": {},
   "source": [
    "nombre_infected       896\n",
    "nombre_sain          2183\n",
    "nombre_exposed        576\n",
    "nombre_recovered    16345\n",
    "Name: 492, dtype: int64"
   ]
  },
  {
   "cell_type": "markdown",
   "id": "798f9d2c",
   "metadata": {},
   "source": [
    "nombre_infected       925\n",
    "nombre_sain          2166\n",
    "nombre_exposed        584\n",
    "nombre_recovered    16325\n",
    "Name: 493, dtype: int64"
   ]
  },
  {
   "cell_type": "markdown",
   "id": "29168da2",
   "metadata": {},
   "source": [
    "nombre_infected       937\n",
    "nombre_sain          2188\n",
    "nombre_exposed        563\n",
    "nombre_recovered    16312\n",
    "Name: 494, dtype: int64"
   ]
  },
  {
   "cell_type": "markdown",
   "id": "d41c2a0e",
   "metadata": {},
   "source": [
    "nombre_infected       928\n",
    "nombre_sain          2204\n",
    "nombre_exposed        555\n",
    "nombre_recovered    16313\n",
    "Name: 495, dtype: int64"
   ]
  },
  {
   "cell_type": "markdown",
   "id": "d6f4ffe7",
   "metadata": {},
   "source": [
    "nombre_infected       953\n",
    "nombre_sain          2198\n",
    "nombre_exposed        561\n",
    "nombre_recovered    16288\n",
    "Name: 496, dtype: int64"
   ]
  },
  {
   "cell_type": "markdown",
   "id": "67f346e8",
   "metadata": {},
   "source": [
    "nombre_infected       961\n",
    "nombre_sain          2218\n",
    "nombre_exposed        546\n",
    "nombre_recovered    16275\n",
    "Name: 497, dtype: int64"
   ]
  },
  {
   "cell_type": "markdown",
   "id": "b97d73bd",
   "metadata": {},
   "source": [
    "nombre_infected       945\n",
    "nombre_sain          2225\n",
    "nombre_exposed        561\n",
    "nombre_recovered    16269\n",
    "Name: 498, dtype: int64"
   ]
  },
  {
   "cell_type": "markdown",
   "id": "f642cddb",
   "metadata": {},
   "source": [
    "nombre_infected       950\n",
    "nombre_sain          2219\n",
    "nombre_exposed        573\n",
    "nombre_recovered    16258\n",
    "Name: 499, dtype: int64"
   ]
  },
  {
   "cell_type": "markdown",
   "id": "268cfb26",
   "metadata": {},
   "source": [
    "nombre_infected       959\n",
    "nombre_sain          2200\n",
    "nombre_exposed        589\n",
    "nombre_recovered    16252\n",
    "Name: 500, dtype: int64"
   ]
  },
  {
   "cell_type": "markdown",
   "id": "429f8e1f",
   "metadata": {},
   "source": [
    "nombre_infected       967\n",
    "nombre_sain          2179\n",
    "nombre_exposed        607\n",
    "nombre_recovered    16247\n",
    "Name: 501, dtype: int64"
   ]
  },
  {
   "cell_type": "markdown",
   "id": "c37abade",
   "metadata": {},
   "source": [
    "nombre_infected       977\n",
    "nombre_sain          2177\n",
    "nombre_exposed        597\n",
    "nombre_recovered    16249\n",
    "Name: 502, dtype: int64"
   ]
  },
  {
   "cell_type": "markdown",
   "id": "02f55f61",
   "metadata": {},
   "source": [
    "nombre_infected      1004\n",
    "nombre_sain          2141\n",
    "nombre_exposed        613\n",
    "nombre_recovered    16242\n",
    "Name: 503, dtype: int64"
   ]
  },
  {
   "cell_type": "markdown",
   "id": "9d33834c",
   "metadata": {},
   "source": [
    "nombre_infected      1008\n",
    "nombre_sain          2106\n",
    "nombre_exposed        614\n",
    "nombre_recovered    16272\n",
    "Name: 504, dtype: int64"
   ]
  },
  {
   "cell_type": "markdown",
   "id": "09353194",
   "metadata": {},
   "source": [
    "nombre_infected      1034\n",
    "nombre_sain          2078\n",
    "nombre_exposed        594\n",
    "nombre_recovered    16294\n",
    "Name: 505, dtype: int64"
   ]
  },
  {
   "cell_type": "markdown",
   "id": "2d2204e2",
   "metadata": {},
   "source": [
    "nombre_infected      1059\n",
    "nombre_sain          2028\n",
    "nombre_exposed        611\n",
    "nombre_recovered    16302\n",
    "Name: 506, dtype: int64"
   ]
  },
  {
   "cell_type": "markdown",
   "id": "5610c18b",
   "metadata": {},
   "source": [
    "nombre_infected      1082\n",
    "nombre_sain          2019\n",
    "nombre_exposed        580\n",
    "nombre_recovered    16319\n",
    "Name: 507, dtype: int64"
   ]
  },
  {
   "cell_type": "markdown",
   "id": "6b4bda90",
   "metadata": {},
   "source": [
    "nombre_infected      1063\n",
    "nombre_sain          1997\n",
    "nombre_exposed        581\n",
    "nombre_recovered    16359\n",
    "Name: 508, dtype: int64"
   ]
  },
  {
   "cell_type": "markdown",
   "id": "dfb6d5aa",
   "metadata": {},
   "source": [
    "nombre_infected      1055\n",
    "nombre_sain          1978\n",
    "nombre_exposed        583\n",
    "nombre_recovered    16384\n",
    "Name: 509, dtype: int64"
   ]
  },
  {
   "cell_type": "markdown",
   "id": "bdccfcac",
   "metadata": {},
   "source": [
    "nombre_infected      1075\n",
    "nombre_sain          1942\n",
    "nombre_exposed        592\n",
    "nombre_recovered    16391\n",
    "Name: 510, dtype: int64"
   ]
  },
  {
   "cell_type": "markdown",
   "id": "fecf8ca1",
   "metadata": {},
   "source": [
    "nombre_infected      1038\n",
    "nombre_sain          1949\n",
    "nombre_exposed        581\n",
    "nombre_recovered    16432\n",
    "Name: 511, dtype: int64"
   ]
  },
  {
   "cell_type": "markdown",
   "id": "aea32cee",
   "metadata": {},
   "source": [
    "nombre_infected      1076\n",
    "nombre_sain          1954\n",
    "nombre_exposed        534\n",
    "nombre_recovered    16436\n",
    "Name: 512, dtype: int64"
   ]
  },
  {
   "cell_type": "markdown",
   "id": "f19cbcff",
   "metadata": {},
   "source": [
    "nombre_infected      1068\n",
    "nombre_sain          1956\n",
    "nombre_exposed        525\n",
    "nombre_recovered    16451\n",
    "Name: 513, dtype: int64"
   ]
  },
  {
   "cell_type": "markdown",
   "id": "47acfd56",
   "metadata": {},
   "source": [
    "nombre_infected      1024\n",
    "nombre_sain          1944\n",
    "nombre_exposed        538\n",
    "nombre_recovered    16494\n",
    "Name: 514, dtype: int64"
   ]
  },
  {
   "cell_type": "markdown",
   "id": "41026f9d",
   "metadata": {},
   "source": [
    "nombre_infected      1028\n",
    "nombre_sain          1957\n",
    "nombre_exposed        530\n",
    "nombre_recovered    16485\n",
    "Name: 515, dtype: int64"
   ]
  },
  {
   "cell_type": "markdown",
   "id": "596a1502",
   "metadata": {},
   "source": [
    "nombre_infected      1008\n",
    "nombre_sain          1940\n",
    "nombre_exposed        548\n",
    "nombre_recovered    16504\n",
    "Name: 516, dtype: int64"
   ]
  },
  {
   "cell_type": "markdown",
   "id": "ee7b58fb",
   "metadata": {},
   "source": [
    "nombre_infected      1004\n",
    "nombre_sain          1919\n",
    "nombre_exposed        554\n",
    "nombre_recovered    16523\n",
    "Name: 517, dtype: int64"
   ]
  },
  {
   "cell_type": "markdown",
   "id": "21fe2c12",
   "metadata": {},
   "source": [
    "nombre_infected      1007\n",
    "nombre_sain          1902\n",
    "nombre_exposed        561\n",
    "nombre_recovered    16530\n",
    "Name: 518, dtype: int64"
   ]
  },
  {
   "cell_type": "markdown",
   "id": "3cdddcba",
   "metadata": {},
   "source": [
    "nombre_infected       987\n",
    "nombre_sain          1896\n",
    "nombre_exposed        584\n",
    "nombre_recovered    16533\n",
    "Name: 519, dtype: int64"
   ]
  },
  {
   "cell_type": "markdown",
   "id": "68304bd7",
   "metadata": {},
   "source": [
    "nombre_infected       989\n",
    "nombre_sain          1892\n",
    "nombre_exposed        573\n",
    "nombre_recovered    16546\n",
    "Name: 520, dtype: int64"
   ]
  },
  {
   "cell_type": "markdown",
   "id": "313b82c2",
   "metadata": {},
   "source": [
    "nombre_infected       998\n",
    "nombre_sain          1873\n",
    "nombre_exposed        575\n",
    "nombre_recovered    16554\n",
    "Name: 521, dtype: int64"
   ]
  },
  {
   "cell_type": "markdown",
   "id": "a30b17eb",
   "metadata": {},
   "source": [
    "nombre_infected      1022\n",
    "nombre_sain          1871\n",
    "nombre_exposed        552\n",
    "nombre_recovered    16555\n",
    "Name: 522, dtype: int64"
   ]
  },
  {
   "cell_type": "markdown",
   "id": "720cb1be",
   "metadata": {},
   "source": [
    "nombre_infected      1049\n",
    "nombre_sain          1885\n",
    "nombre_exposed        533\n",
    "nombre_recovered    16533\n",
    "Name: 523, dtype: int64"
   ]
  },
  {
   "cell_type": "markdown",
   "id": "20c491fc",
   "metadata": {},
   "source": [
    "nombre_infected      1060\n",
    "nombre_sain          1861\n",
    "nombre_exposed        533\n",
    "nombre_recovered    16546\n",
    "Name: 524, dtype: int64"
   ]
  },
  {
   "cell_type": "markdown",
   "id": "37c32635",
   "metadata": {},
   "source": [
    "nombre_infected      1054\n",
    "nombre_sain          1870\n",
    "nombre_exposed        526\n",
    "nombre_recovered    16550\n",
    "Name: 525, dtype: int64"
   ]
  },
  {
   "cell_type": "markdown",
   "id": "b22c4c0d",
   "metadata": {},
   "source": [
    "nombre_infected      1054\n",
    "nombre_sain          1898\n",
    "nombre_exposed        534\n",
    "nombre_recovered    16514\n",
    "Name: 526, dtype: int64"
   ]
  },
  {
   "cell_type": "markdown",
   "id": "d56cc951",
   "metadata": {},
   "source": [
    "nombre_infected      1049\n",
    "nombre_sain          1956\n",
    "nombre_exposed        521\n",
    "nombre_recovered    16474\n",
    "Name: 527, dtype: int64"
   ]
  },
  {
   "cell_type": "markdown",
   "id": "3b28385b",
   "metadata": {},
   "source": [
    "nombre_infected      1054\n",
    "nombre_sain          1948\n",
    "nombre_exposed        519\n",
    "nombre_recovered    16479\n",
    "Name: 528, dtype: int64"
   ]
  },
  {
   "cell_type": "markdown",
   "id": "77a60ddb",
   "metadata": {},
   "source": [
    "nombre_infected      1054\n",
    "nombre_sain          1930\n",
    "nombre_exposed        533\n",
    "nombre_recovered    16483\n",
    "Name: 529, dtype: int64"
   ]
  },
  {
   "cell_type": "markdown",
   "id": "c01f2a65",
   "metadata": {},
   "source": [
    "nombre_infected      1041\n",
    "nombre_sain          1917\n",
    "nombre_exposed        542\n",
    "nombre_recovered    16500\n",
    "Name: 530, dtype: int64"
   ]
  },
  {
   "cell_type": "markdown",
   "id": "37495765",
   "metadata": {},
   "source": [
    "nombre_infected      1036\n",
    "nombre_sain          1931\n",
    "nombre_exposed        515\n",
    "nombre_recovered    16518\n",
    "Name: 531, dtype: int64"
   ]
  },
  {
   "cell_type": "markdown",
   "id": "4f4d117c",
   "metadata": {},
   "source": [
    "nombre_infected      1037\n",
    "nombre_sain          1955\n",
    "nombre_exposed        508\n",
    "nombre_recovered    16500\n",
    "Name: 532, dtype: int64"
   ]
  },
  {
   "cell_type": "markdown",
   "id": "42a549b6",
   "metadata": {},
   "source": [
    "nombre_infected      1031\n",
    "nombre_sain          1943\n",
    "nombre_exposed        519\n",
    "nombre_recovered    16507\n",
    "Name: 533, dtype: int64"
   ]
  },
  {
   "cell_type": "markdown",
   "id": "83b44b8a",
   "metadata": {},
   "source": [
    "nombre_infected      1038\n",
    "nombre_sain          1916\n",
    "nombre_exposed        526\n",
    "nombre_recovered    16520\n",
    "Name: 534, dtype: int64"
   ]
  },
  {
   "cell_type": "markdown",
   "id": "ccb49d32",
   "metadata": {},
   "source": [
    "nombre_infected      1018\n",
    "nombre_sain          1929\n",
    "nombre_exposed        515\n",
    "nombre_recovered    16538\n",
    "Name: 535, dtype: int64"
   ]
  },
  {
   "cell_type": "markdown",
   "id": "a91485dc",
   "metadata": {},
   "source": [
    "nombre_infected      1040\n",
    "nombre_sain          1945\n",
    "nombre_exposed        507\n",
    "nombre_recovered    16508\n",
    "Name: 536, dtype: int64"
   ]
  },
  {
   "cell_type": "markdown",
   "id": "a8faafce",
   "metadata": {},
   "source": [
    "nombre_infected      1025\n",
    "nombre_sain          1952\n",
    "nombre_exposed        507\n",
    "nombre_recovered    16516\n",
    "Name: 537, dtype: int64"
   ]
  },
  {
   "cell_type": "markdown",
   "id": "dd88da86",
   "metadata": {},
   "source": [
    "nombre_infected      1002\n",
    "nombre_sain          1988\n",
    "nombre_exposed        509\n",
    "nombre_recovered    16501\n",
    "Name: 538, dtype: int64"
   ]
  },
  {
   "cell_type": "markdown",
   "id": "c63598c1",
   "metadata": {},
   "source": [
    "nombre_infected       989\n",
    "nombre_sain          2014\n",
    "nombre_exposed        500\n",
    "nombre_recovered    16497\n",
    "Name: 539, dtype: int64"
   ]
  },
  {
   "cell_type": "markdown",
   "id": "5eb32963",
   "metadata": {},
   "source": [
    "nombre_infected       992\n",
    "nombre_sain          2030\n",
    "nombre_exposed        506\n",
    "nombre_recovered    16472\n",
    "Name: 540, dtype: int64"
   ]
  },
  {
   "cell_type": "markdown",
   "id": "e04fc77a",
   "metadata": {},
   "source": [
    "nombre_infected       995\n",
    "nombre_sain          2048\n",
    "nombre_exposed        498\n",
    "nombre_recovered    16459\n",
    "Name: 541, dtype: int64"
   ]
  },
  {
   "cell_type": "markdown",
   "id": "91f1c098",
   "metadata": {},
   "source": [
    "nombre_infected      1004\n",
    "nombre_sain          2085\n",
    "nombre_exposed        499\n",
    "nombre_recovered    16412\n",
    "Name: 542, dtype: int64"
   ]
  },
  {
   "cell_type": "markdown",
   "id": "a81ab0f0",
   "metadata": {},
   "source": [
    "nombre_infected       982\n",
    "nombre_sain          2134\n",
    "nombre_exposed        510\n",
    "nombre_recovered    16374\n",
    "Name: 543, dtype: int64"
   ]
  },
  {
   "cell_type": "markdown",
   "id": "0dc5c6ab",
   "metadata": {},
   "source": [
    "nombre_infected      1003\n",
    "nombre_sain          2144\n",
    "nombre_exposed        522\n",
    "nombre_recovered    16331\n",
    "Name: 544, dtype: int64"
   ]
  },
  {
   "cell_type": "markdown",
   "id": "60c9efe9",
   "metadata": {},
   "source": [
    "nombre_infected      1016\n",
    "nombre_sain          2154\n",
    "nombre_exposed        532\n",
    "nombre_recovered    16298\n",
    "Name: 545, dtype: int64"
   ]
  },
  {
   "cell_type": "markdown",
   "id": "afed8379",
   "metadata": {},
   "source": [
    "nombre_infected      1003\n",
    "nombre_sain          2162\n",
    "nombre_exposed        544\n",
    "nombre_recovered    16291\n",
    "Name: 546, dtype: int64"
   ]
  },
  {
   "cell_type": "markdown",
   "id": "23e84e69",
   "metadata": {},
   "source": [
    "nombre_infected       996\n",
    "nombre_sain          2195\n",
    "nombre_exposed        536\n",
    "nombre_recovered    16273\n",
    "Name: 547, dtype: int64"
   ]
  },
  {
   "cell_type": "markdown",
   "id": "365fcbb0",
   "metadata": {},
   "source": [
    "nombre_infected       995\n",
    "nombre_sain          2172\n",
    "nombre_exposed        563\n",
    "nombre_recovered    16270\n",
    "Name: 548, dtype: int64"
   ]
  },
  {
   "cell_type": "markdown",
   "id": "52a1fcde",
   "metadata": {},
   "source": [
    "nombre_infected      1021\n",
    "nombre_sain          2185\n",
    "nombre_exposed        567\n",
    "nombre_recovered    16227\n",
    "Name: 549, dtype: int64"
   ]
  },
  {
   "cell_type": "markdown",
   "id": "36be0525",
   "metadata": {},
   "source": [
    "nombre_infected      1019\n",
    "nombre_sain          2200\n",
    "nombre_exposed        563\n",
    "nombre_recovered    16218\n",
    "Name: 550, dtype: int64"
   ]
  },
  {
   "cell_type": "markdown",
   "id": "b9333fd3",
   "metadata": {},
   "source": [
    "nombre_infected      1048\n",
    "nombre_sain          2199\n",
    "nombre_exposed        564\n",
    "nombre_recovered    16189\n",
    "Name: 551, dtype: int64"
   ]
  },
  {
   "cell_type": "markdown",
   "id": "f381ad91",
   "metadata": {},
   "source": [
    "nombre_infected      1047\n",
    "nombre_sain          2190\n",
    "nombre_exposed        581\n",
    "nombre_recovered    16182\n",
    "Name: 552, dtype: int64"
   ]
  },
  {
   "cell_type": "markdown",
   "id": "4e5588b6",
   "metadata": {},
   "source": [
    "nombre_infected      1062\n",
    "nombre_sain          2185\n",
    "nombre_exposed        603\n",
    "nombre_recovered    16150\n",
    "Name: 553, dtype: int64"
   ]
  },
  {
   "cell_type": "markdown",
   "id": "688cd4c8",
   "metadata": {},
   "source": [
    "nombre_infected      1050\n",
    "nombre_sain          2160\n",
    "nombre_exposed        627\n",
    "nombre_recovered    16163\n",
    "Name: 554, dtype: int64"
   ]
  },
  {
   "cell_type": "markdown",
   "id": "2e640f8b",
   "metadata": {},
   "source": [
    "nombre_infected      1073\n",
    "nombre_sain          2168\n",
    "nombre_exposed        621\n",
    "nombre_recovered    16138\n",
    "Name: 555, dtype: int64"
   ]
  },
  {
   "cell_type": "markdown",
   "id": "ea9b31bf",
   "metadata": {},
   "source": [
    "nombre_infected      1091\n",
    "nombre_sain          2174\n",
    "nombre_exposed        610\n",
    "nombre_recovered    16125\n",
    "Name: 556, dtype: int64"
   ]
  },
  {
   "cell_type": "markdown",
   "id": "1332762b",
   "metadata": {},
   "source": [
    "nombre_infected      1112\n",
    "nombre_sain          2178\n",
    "nombre_exposed        623\n",
    "nombre_recovered    16087\n",
    "Name: 557, dtype: int64"
   ]
  },
  {
   "cell_type": "markdown",
   "id": "7b06d65a",
   "metadata": {},
   "source": [
    "nombre_infected      1112\n",
    "nombre_sain          2183\n",
    "nombre_exposed        618\n",
    "nombre_recovered    16087\n",
    "Name: 558, dtype: int64"
   ]
  },
  {
   "cell_type": "markdown",
   "id": "dec985d6",
   "metadata": {},
   "source": [
    "nombre_infected      1139\n",
    "nombre_sain          2178\n",
    "nombre_exposed        628\n",
    "nombre_recovered    16055\n",
    "Name: 559, dtype: int64"
   ]
  },
  {
   "cell_type": "markdown",
   "id": "50e09cfc",
   "metadata": {},
   "source": [
    "nombre_infected      1164\n",
    "nombre_sain          2178\n",
    "nombre_exposed        617\n",
    "nombre_recovered    16041\n",
    "Name: 560, dtype: int64"
   ]
  },
  {
   "cell_type": "markdown",
   "id": "44f671a1",
   "metadata": {},
   "source": [
    "nombre_infected      1174\n",
    "nombre_sain          2151\n",
    "nombre_exposed        636\n",
    "nombre_recovered    16039\n",
    "Name: 561, dtype: int64"
   ]
  },
  {
   "cell_type": "markdown",
   "id": "375eb33f",
   "metadata": {},
   "source": [
    "nombre_infected      1172\n",
    "nombre_sain          2121\n",
    "nombre_exposed        651\n",
    "nombre_recovered    16056\n",
    "Name: 562, dtype: int64"
   ]
  },
  {
   "cell_type": "markdown",
   "id": "311143c4",
   "metadata": {},
   "source": [
    "nombre_infected      1178\n",
    "nombre_sain          2101\n",
    "nombre_exposed        663\n",
    "nombre_recovered    16058\n",
    "Name: 563, dtype: int64"
   ]
  },
  {
   "cell_type": "markdown",
   "id": "46774c87",
   "metadata": {},
   "source": [
    "nombre_infected      1161\n",
    "nombre_sain          2093\n",
    "nombre_exposed        662\n",
    "nombre_recovered    16084\n",
    "Name: 564, dtype: int64"
   ]
  },
  {
   "cell_type": "markdown",
   "id": "a371fc45",
   "metadata": {},
   "source": [
    "nombre_infected      1196\n",
    "nombre_sain          2049\n",
    "nombre_exposed        654\n",
    "nombre_recovered    16101\n",
    "Name: 565, dtype: int64"
   ]
  },
  {
   "cell_type": "markdown",
   "id": "c6941949",
   "metadata": {},
   "source": [
    "nombre_infected      1201\n",
    "nombre_sain          2017\n",
    "nombre_exposed        661\n",
    "nombre_recovered    16121\n",
    "Name: 566, dtype: int64"
   ]
  },
  {
   "cell_type": "markdown",
   "id": "496115d9",
   "metadata": {},
   "source": [
    "nombre_infected      1224\n",
    "nombre_sain          2004\n",
    "nombre_exposed        645\n",
    "nombre_recovered    16127\n",
    "Name: 567, dtype: int64"
   ]
  },
  {
   "cell_type": "markdown",
   "id": "7fb7d2a4",
   "metadata": {},
   "source": [
    "nombre_infected      1220\n",
    "nombre_sain          1976\n",
    "nombre_exposed        654\n",
    "nombre_recovered    16150\n",
    "Name: 568, dtype: int64"
   ]
  },
  {
   "cell_type": "markdown",
   "id": "0228bfa8",
   "metadata": {},
   "source": [
    "nombre_infected      1254\n",
    "nombre_sain          1962\n",
    "nombre_exposed        618\n",
    "nombre_recovered    16166\n",
    "Name: 569, dtype: int64"
   ]
  },
  {
   "cell_type": "markdown",
   "id": "d18da296",
   "metadata": {},
   "source": [
    "nombre_infected      1240\n",
    "nombre_sain          1945\n",
    "nombre_exposed        624\n",
    "nombre_recovered    16191\n",
    "Name: 570, dtype: int64"
   ]
  },
  {
   "cell_type": "markdown",
   "id": "6dd82289",
   "metadata": {},
   "source": [
    "nombre_infected      1246\n",
    "nombre_sain          1921\n",
    "nombre_exposed        608\n",
    "nombre_recovered    16225\n",
    "Name: 571, dtype: int64"
   ]
  },
  {
   "cell_type": "markdown",
   "id": "9cfe19af",
   "metadata": {},
   "source": [
    "nombre_infected      1249\n",
    "nombre_sain          1907\n",
    "nombre_exposed        594\n",
    "nombre_recovered    16250\n",
    "Name: 572, dtype: int64"
   ]
  },
  {
   "cell_type": "markdown",
   "id": "afb695c3",
   "metadata": {},
   "source": [
    "nombre_infected      1241\n",
    "nombre_sain          1888\n",
    "nombre_exposed        586\n",
    "nombre_recovered    16285\n",
    "Name: 573, dtype: int64"
   ]
  },
  {
   "cell_type": "markdown",
   "id": "4ad23095",
   "metadata": {},
   "source": [
    "nombre_infected      1216\n",
    "nombre_sain          1895\n",
    "nombre_exposed        574\n",
    "nombre_recovered    16315\n",
    "Name: 574, dtype: int64"
   ]
  },
  {
   "cell_type": "markdown",
   "id": "aaf04d7c",
   "metadata": {},
   "source": [
    "nombre_infected      1200\n",
    "nombre_sain          1888\n",
    "nombre_exposed        580\n",
    "nombre_recovered    16332\n",
    "Name: 575, dtype: int64"
   ]
  },
  {
   "cell_type": "markdown",
   "id": "4d480ce5",
   "metadata": {},
   "source": [
    "nombre_infected      1191\n",
    "nombre_sain          1874\n",
    "nombre_exposed        567\n",
    "nombre_recovered    16368\n",
    "Name: 576, dtype: int64"
   ]
  },
  {
   "cell_type": "markdown",
   "id": "8c2e8684",
   "metadata": {},
   "source": [
    "nombre_infected      1177\n",
    "nombre_sain          1877\n",
    "nombre_exposed        550\n",
    "nombre_recovered    16396\n",
    "Name: 577, dtype: int64"
   ]
  },
  {
   "cell_type": "markdown",
   "id": "f232a138",
   "metadata": {},
   "source": [
    "nombre_infected      1189\n",
    "nombre_sain          1860\n",
    "nombre_exposed        558\n",
    "nombre_recovered    16393\n",
    "Name: 578, dtype: int64"
   ]
  },
  {
   "cell_type": "markdown",
   "id": "186d9af6",
   "metadata": {},
   "source": [
    "nombre_infected      1164\n",
    "nombre_sain          1867\n",
    "nombre_exposed        547\n",
    "nombre_recovered    16422\n",
    "Name: 579, dtype: int64"
   ]
  },
  {
   "cell_type": "markdown",
   "id": "55c80556",
   "metadata": {},
   "source": [
    "nombre_infected      1173\n",
    "nombre_sain          1847\n",
    "nombre_exposed        530\n",
    "nombre_recovered    16450\n",
    "Name: 580, dtype: int64"
   ]
  },
  {
   "cell_type": "markdown",
   "id": "beb27df3",
   "metadata": {},
   "source": [
    "nombre_infected      1154\n",
    "nombre_sain          1829\n",
    "nombre_exposed        526\n",
    "nombre_recovered    16491\n",
    "Name: 581, dtype: int64"
   ]
  },
  {
   "cell_type": "markdown",
   "id": "dab0ee7d",
   "metadata": {},
   "source": [
    "nombre_infected      1144\n",
    "nombre_sain          1828\n",
    "nombre_exposed        518\n",
    "nombre_recovered    16510\n",
    "Name: 582, dtype: int64"
   ]
  },
  {
   "cell_type": "markdown",
   "id": "61cf45a8",
   "metadata": {},
   "source": [
    "nombre_infected      1108\n",
    "nombre_sain          1813\n",
    "nombre_exposed        531\n",
    "nombre_recovered    16548\n",
    "Name: 583, dtype: int64"
   ]
  },
  {
   "cell_type": "markdown",
   "id": "7ed09f7a",
   "metadata": {},
   "source": [
    "nombre_infected      1099\n",
    "nombre_sain          1798\n",
    "nombre_exposed        522\n",
    "nombre_recovered    16581\n",
    "Name: 584, dtype: int64"
   ]
  },
  {
   "cell_type": "markdown",
   "id": "30adcd74",
   "metadata": {},
   "source": [
    "nombre_infected      1106\n",
    "nombre_sain          1791\n",
    "nombre_exposed        501\n",
    "nombre_recovered    16602\n",
    "Name: 585, dtype: int64"
   ]
  },
  {
   "cell_type": "markdown",
   "id": "e3cbfadf",
   "metadata": {},
   "source": [
    "nombre_infected      1096\n",
    "nombre_sain          1791\n",
    "nombre_exposed        484\n",
    "nombre_recovered    16629\n",
    "Name: 586, dtype: int64"
   ]
  },
  {
   "cell_type": "markdown",
   "id": "8e90d6d7",
   "metadata": {},
   "source": [
    "nombre_infected      1073\n",
    "nombre_sain          1794\n",
    "nombre_exposed        481\n",
    "nombre_recovered    16652\n",
    "Name: 587, dtype: int64"
   ]
  },
  {
   "cell_type": "markdown",
   "id": "87dd0c77",
   "metadata": {},
   "source": [
    "nombre_infected      1069\n",
    "nombre_sain          1794\n",
    "nombre_exposed        464\n",
    "nombre_recovered    16673\n",
    "Name: 588, dtype: int64"
   ]
  },
  {
   "cell_type": "markdown",
   "id": "90066293",
   "metadata": {},
   "source": [
    "nombre_infected      1064\n",
    "nombre_sain          1779\n",
    "nombre_exposed        466\n",
    "nombre_recovered    16691\n",
    "Name: 589, dtype: int64"
   ]
  },
  {
   "cell_type": "markdown",
   "id": "d6e8321d",
   "metadata": {},
   "source": [
    "nombre_infected      1027\n",
    "nombre_sain          1786\n",
    "nombre_exposed        489\n",
    "nombre_recovered    16698\n",
    "Name: 590, dtype: int64"
   ]
  },
  {
   "cell_type": "markdown",
   "id": "695ac114",
   "metadata": {},
   "source": [
    "nombre_infected       995\n",
    "nombre_sain          1806\n",
    "nombre_exposed        494\n",
    "nombre_recovered    16705\n",
    "Name: 591, dtype: int64"
   ]
  },
  {
   "cell_type": "markdown",
   "id": "db96e7ff",
   "metadata": {},
   "source": [
    "nombre_infected       973\n",
    "nombre_sain          1822\n",
    "nombre_exposed        463\n",
    "nombre_recovered    16742\n",
    "Name: 592, dtype: int64"
   ]
  },
  {
   "cell_type": "markdown",
   "id": "1199d60e",
   "metadata": {},
   "source": [
    "nombre_infected       976\n",
    "nombre_sain          1846\n",
    "nombre_exposed        455\n",
    "nombre_recovered    16723\n",
    "Name: 593, dtype: int64"
   ]
  },
  {
   "cell_type": "markdown",
   "id": "9de1a10e",
   "metadata": {},
   "source": [
    "nombre_infected       959\n",
    "nombre_sain          1851\n",
    "nombre_exposed        470\n",
    "nombre_recovered    16720\n",
    "Name: 594, dtype: int64"
   ]
  },
  {
   "cell_type": "markdown",
   "id": "51f4335d",
   "metadata": {},
   "source": [
    "nombre_infected       954\n",
    "nombre_sain          1860\n",
    "nombre_exposed        453\n",
    "nombre_recovered    16733\n",
    "Name: 595, dtype: int64"
   ]
  },
  {
   "cell_type": "markdown",
   "id": "9e386875",
   "metadata": {},
   "source": [
    "nombre_infected       944\n",
    "nombre_sain          1889\n",
    "nombre_exposed        448\n",
    "nombre_recovered    16719\n",
    "Name: 596, dtype: int64"
   ]
  },
  {
   "cell_type": "markdown",
   "id": "5b436a77",
   "metadata": {},
   "source": [
    "nombre_infected       927\n",
    "nombre_sain          1916\n",
    "nombre_exposed        449\n",
    "nombre_recovered    16708\n",
    "Name: 597, dtype: int64"
   ]
  },
  {
   "cell_type": "markdown",
   "id": "89fb5389",
   "metadata": {},
   "source": [
    "nombre_infected       905\n",
    "nombre_sain          1920\n",
    "nombre_exposed        456\n",
    "nombre_recovered    16719\n",
    "Name: 598, dtype: int64"
   ]
  },
  {
   "cell_type": "markdown",
   "id": "c1248bb8",
   "metadata": {},
   "source": [
    "nombre_infected       882\n",
    "nombre_sain          1906\n",
    "nombre_exposed        476\n",
    "nombre_recovered    16736\n",
    "Name: 599, dtype: int64"
   ]
  },
  {
   "cell_type": "markdown",
   "id": "4730cf4d",
   "metadata": {},
   "source": [
    "nombre_infected       862\n",
    "nombre_sain          1935\n",
    "nombre_exposed        492\n",
    "nombre_recovered    16711\n",
    "Name: 600, dtype: int64"
   ]
  },
  {
   "cell_type": "markdown",
   "id": "4320c456",
   "metadata": {},
   "source": [
    "nombre_infected       882\n",
    "nombre_sain          1945\n",
    "nombre_exposed        509\n",
    "nombre_recovered    16664\n",
    "Name: 601, dtype: int64"
   ]
  },
  {
   "cell_type": "markdown",
   "id": "e2925e76",
   "metadata": {},
   "source": [
    "nombre_infected       878\n",
    "nombre_sain          1978\n",
    "nombre_exposed        507\n",
    "nombre_recovered    16637\n",
    "Name: 602, dtype: int64"
   ]
  },
  {
   "cell_type": "markdown",
   "id": "f8287338",
   "metadata": {},
   "source": [
    "nombre_infected       914\n",
    "nombre_sain          2002\n",
    "nombre_exposed        461\n",
    "nombre_recovered    16623\n",
    "Name: 603, dtype: int64"
   ]
  },
  {
   "cell_type": "markdown",
   "id": "ecb3b0d2",
   "metadata": {},
   "source": [
    "nombre_infected       891\n",
    "nombre_sain          2037\n",
    "nombre_exposed        464\n",
    "nombre_recovered    16608\n",
    "Name: 604, dtype: int64"
   ]
  },
  {
   "cell_type": "markdown",
   "id": "0bd53ac8",
   "metadata": {},
   "source": [
    "nombre_infected       908\n",
    "nombre_sain          2042\n",
    "nombre_exposed        454\n",
    "nombre_recovered    16596\n",
    "Name: 605, dtype: int64"
   ]
  },
  {
   "cell_type": "markdown",
   "id": "778aac8e",
   "metadata": {},
   "source": [
    "nombre_infected       900\n",
    "nombre_sain          2096\n",
    "nombre_exposed        453\n",
    "nombre_recovered    16551\n",
    "Name: 606, dtype: int64"
   ]
  },
  {
   "cell_type": "markdown",
   "id": "571c477a",
   "metadata": {},
   "source": [
    "nombre_infected       894\n",
    "nombre_sain          2094\n",
    "nombre_exposed        474\n",
    "nombre_recovered    16538\n",
    "Name: 607, dtype: int64"
   ]
  },
  {
   "cell_type": "markdown",
   "id": "456b08c7",
   "metadata": {},
   "source": [
    "nombre_infected       906\n",
    "nombre_sain          2082\n",
    "nombre_exposed        493\n",
    "nombre_recovered    16519\n",
    "Name: 608, dtype: int64"
   ]
  },
  {
   "cell_type": "markdown",
   "id": "33df403f",
   "metadata": {},
   "source": [
    "nombre_infected       927\n",
    "nombre_sain          2071\n",
    "nombre_exposed        491\n",
    "nombre_recovered    16511\n",
    "Name: 609, dtype: int64"
   ]
  },
  {
   "cell_type": "markdown",
   "id": "988826df",
   "metadata": {},
   "source": [
    "nombre_infected       951\n",
    "nombre_sain          2055\n",
    "nombre_exposed        508\n",
    "nombre_recovered    16486\n",
    "Name: 610, dtype: int64"
   ]
  },
  {
   "cell_type": "markdown",
   "id": "20a87d2d",
   "metadata": {},
   "source": [
    "nombre_infected       980\n",
    "nombre_sain          2069\n",
    "nombre_exposed        496\n",
    "nombre_recovered    16455\n",
    "Name: 611, dtype: int64"
   ]
  },
  {
   "cell_type": "markdown",
   "id": "183b9502",
   "metadata": {},
   "source": [
    "nombre_infected       983\n",
    "nombre_sain          2074\n",
    "nombre_exposed        493\n",
    "nombre_recovered    16450\n",
    "Name: 612, dtype: int64"
   ]
  },
  {
   "cell_type": "markdown",
   "id": "ae52b82c",
   "metadata": {},
   "source": [
    "nombre_infected       973\n",
    "nombre_sain          2072\n",
    "nombre_exposed        497\n",
    "nombre_recovered    16458\n",
    "Name: 613, dtype: int64"
   ]
  },
  {
   "cell_type": "markdown",
   "id": "8b3836bd",
   "metadata": {},
   "source": [
    "nombre_infected       985\n",
    "nombre_sain          2076\n",
    "nombre_exposed        493\n",
    "nombre_recovered    16446\n",
    "Name: 614, dtype: int64"
   ]
  },
  {
   "cell_type": "markdown",
   "id": "42f9b004",
   "metadata": {},
   "source": [
    "nombre_infected       978\n",
    "nombre_sain          2045\n",
    "nombre_exposed        522\n",
    "nombre_recovered    16455\n",
    "Name: 615, dtype: int64"
   ]
  },
  {
   "cell_type": "markdown",
   "id": "62b5ff4f",
   "metadata": {},
   "source": [
    "nombre_infected       996\n",
    "nombre_sain          2037\n",
    "nombre_exposed        523\n",
    "nombre_recovered    16444\n",
    "Name: 616, dtype: int64"
   ]
  },
  {
   "cell_type": "markdown",
   "id": "5b4cce54",
   "metadata": {},
   "source": [
    "nombre_infected      1007\n",
    "nombre_sain          2042\n",
    "nombre_exposed        507\n",
    "nombre_recovered    16444\n",
    "Name: 617, dtype: int64"
   ]
  },
  {
   "cell_type": "markdown",
   "id": "b69e1e15",
   "metadata": {},
   "source": [
    "nombre_infected      1017\n",
    "nombre_sain          2034\n",
    "nombre_exposed        514\n",
    "nombre_recovered    16435\n",
    "Name: 618, dtype: int64"
   ]
  },
  {
   "cell_type": "markdown",
   "id": "f74cf2ab",
   "metadata": {},
   "source": [
    "nombre_infected      1036\n",
    "nombre_sain          2011\n",
    "nombre_exposed        527\n",
    "nombre_recovered    16426\n",
    "Name: 619, dtype: int64"
   ]
  },
  {
   "cell_type": "markdown",
   "id": "b99b5ccc",
   "metadata": {},
   "source": [
    "nombre_infected      1044\n",
    "nombre_sain          2014\n",
    "nombre_exposed        523\n",
    "nombre_recovered    16419\n",
    "Name: 620, dtype: int64"
   ]
  },
  {
   "cell_type": "markdown",
   "id": "8c224595",
   "metadata": {},
   "source": [
    "nombre_infected      1040\n",
    "nombre_sain          2014\n",
    "nombre_exposed        507\n",
    "nombre_recovered    16439\n",
    "Name: 621, dtype: int64"
   ]
  },
  {
   "cell_type": "markdown",
   "id": "89577415",
   "metadata": {},
   "source": [
    "nombre_infected      1027\n",
    "nombre_sain          2002\n",
    "nombre_exposed        527\n",
    "nombre_recovered    16444\n",
    "Name: 622, dtype: int64"
   ]
  },
  {
   "cell_type": "markdown",
   "id": "dfc59be5",
   "metadata": {},
   "source": [
    "nombre_infected      1009\n",
    "nombre_sain          1981\n",
    "nombre_exposed        532\n",
    "nombre_recovered    16478\n",
    "Name: 623, dtype: int64"
   ]
  },
  {
   "cell_type": "markdown",
   "id": "cb826625",
   "metadata": {},
   "source": [
    "nombre_infected      1026\n",
    "nombre_sain          1960\n",
    "nombre_exposed        535\n",
    "nombre_recovered    16479\n",
    "Name: 624, dtype: int64"
   ]
  },
  {
   "cell_type": "markdown",
   "id": "7f5fc137",
   "metadata": {},
   "source": [
    "nombre_infected      1047\n",
    "nombre_sain          1983\n",
    "nombre_exposed        502\n",
    "nombre_recovered    16468\n",
    "Name: 625, dtype: int64"
   ]
  },
  {
   "cell_type": "markdown",
   "id": "d9ef9ebf",
   "metadata": {},
   "source": [
    "nombre_infected      1073\n",
    "nombre_sain          1961\n",
    "nombre_exposed        490\n",
    "nombre_recovered    16476\n",
    "Name: 626, dtype: int64"
   ]
  },
  {
   "cell_type": "markdown",
   "id": "28e2cd12",
   "metadata": {},
   "source": [
    "nombre_infected      1072\n",
    "nombre_sain          1957\n",
    "nombre_exposed        502\n",
    "nombre_recovered    16469\n",
    "Name: 627, dtype: int64"
   ]
  },
  {
   "cell_type": "markdown",
   "id": "e4b27ff2",
   "metadata": {},
   "source": [
    "nombre_infected      1073\n",
    "nombre_sain          1931\n",
    "nombre_exposed        520\n",
    "nombre_recovered    16476\n",
    "Name: 628, dtype: int64"
   ]
  },
  {
   "cell_type": "markdown",
   "id": "c23720ec",
   "metadata": {},
   "source": [
    "nombre_infected      1074\n",
    "nombre_sain          1943\n",
    "nombre_exposed        523\n",
    "nombre_recovered    16460\n",
    "Name: 629, dtype: int64"
   ]
  },
  {
   "cell_type": "markdown",
   "id": "908e2faf",
   "metadata": {},
   "source": [
    "nombre_infected      1073\n",
    "nombre_sain          1930\n",
    "nombre_exposed        528\n",
    "nombre_recovered    16469\n",
    "Name: 630, dtype: int64"
   ]
  },
  {
   "cell_type": "markdown",
   "id": "4ed10995",
   "metadata": {},
   "source": [
    "nombre_infected      1051\n",
    "nombre_sain          1950\n",
    "nombre_exposed        537\n",
    "nombre_recovered    16462\n",
    "Name: 631, dtype: int64"
   ]
  },
  {
   "cell_type": "markdown",
   "id": "f276f73c",
   "metadata": {},
   "source": [
    "nombre_infected      1046\n",
    "nombre_sain          1949\n",
    "nombre_exposed        536\n",
    "nombre_recovered    16469\n",
    "Name: 632, dtype: int64"
   ]
  },
  {
   "cell_type": "markdown",
   "id": "15975791",
   "metadata": {},
   "source": [
    "nombre_infected      1049\n",
    "nombre_sain          1958\n",
    "nombre_exposed        535\n",
    "nombre_recovered    16458\n",
    "Name: 633, dtype: int64"
   ]
  },
  {
   "cell_type": "markdown",
   "id": "22a063b1",
   "metadata": {},
   "source": [
    "nombre_infected      1058\n",
    "nombre_sain          1984\n",
    "nombre_exposed        503\n",
    "nombre_recovered    16455\n",
    "Name: 634, dtype: int64"
   ]
  },
  {
   "cell_type": "markdown",
   "id": "237b20ef",
   "metadata": {},
   "source": [
    "nombre_infected      1072\n",
    "nombre_sain          1976\n",
    "nombre_exposed        504\n",
    "nombre_recovered    16448\n",
    "Name: 635, dtype: int64"
   ]
  },
  {
   "cell_type": "markdown",
   "id": "a68c7050",
   "metadata": {},
   "source": [
    "nombre_infected      1063\n",
    "nombre_sain          1970\n",
    "nombre_exposed        517\n",
    "nombre_recovered    16450\n",
    "Name: 636, dtype: int64"
   ]
  },
  {
   "cell_type": "markdown",
   "id": "5cf00861",
   "metadata": {},
   "source": [
    "nombre_infected      1056\n",
    "nombre_sain          1968\n",
    "nombre_exposed        517\n",
    "nombre_recovered    16459\n",
    "Name: 637, dtype: int64"
   ]
  },
  {
   "cell_type": "markdown",
   "id": "df80b6c2",
   "metadata": {},
   "source": [
    "nombre_infected      1042\n",
    "nombre_sain          1957\n",
    "nombre_exposed        526\n",
    "nombre_recovered    16475\n",
    "Name: 638, dtype: int64"
   ]
  },
  {
   "cell_type": "markdown",
   "id": "af1541ff",
   "metadata": {},
   "source": [
    "nombre_infected      1020\n",
    "nombre_sain          1956\n",
    "nombre_exposed        540\n",
    "nombre_recovered    16484\n",
    "Name: 639, dtype: int64"
   ]
  },
  {
   "cell_type": "markdown",
   "id": "4fe79cca",
   "metadata": {},
   "source": [
    "nombre_infected      1015\n",
    "nombre_sain          1943\n",
    "nombre_exposed        544\n",
    "nombre_recovered    16498\n",
    "Name: 640, dtype: int64"
   ]
  },
  {
   "cell_type": "markdown",
   "id": "49fb2c6d",
   "metadata": {},
   "source": [
    "nombre_infected      1002\n",
    "nombre_sain          1960\n",
    "nombre_exposed        539\n",
    "nombre_recovered    16499\n",
    "Name: 641, dtype: int64"
   ]
  },
  {
   "cell_type": "markdown",
   "id": "e397b9c5",
   "metadata": {},
   "source": [
    "nombre_infected       983\n",
    "nombre_sain          1948\n",
    "nombre_exposed        557\n",
    "nombre_recovered    16512\n",
    "Name: 642, dtype: int64"
   ]
  },
  {
   "cell_type": "markdown",
   "id": "cb298e4e",
   "metadata": {},
   "source": [
    "nombre_infected       990\n",
    "nombre_sain          1939\n",
    "nombre_exposed        546\n",
    "nombre_recovered    16525\n",
    "Name: 643, dtype: int64"
   ]
  },
  {
   "cell_type": "markdown",
   "id": "37e0781a",
   "metadata": {},
   "source": [
    "nombre_infected       987\n",
    "nombre_sain          1946\n",
    "nombre_exposed        537\n",
    "nombre_recovered    16530\n",
    "Name: 644, dtype: int64"
   ]
  },
  {
   "cell_type": "markdown",
   "id": "f1559b20",
   "metadata": {},
   "source": [
    "nombre_infected       992\n",
    "nombre_sain          1936\n",
    "nombre_exposed        541\n",
    "nombre_recovered    16531\n",
    "Name: 645, dtype: int64"
   ]
  },
  {
   "cell_type": "markdown",
   "id": "65ffba06",
   "metadata": {},
   "source": [
    "nombre_infected       999\n",
    "nombre_sain          1928\n",
    "nombre_exposed        548\n",
    "nombre_recovered    16525\n",
    "Name: 646, dtype: int64"
   ]
  },
  {
   "cell_type": "markdown",
   "id": "a5cf564d",
   "metadata": {},
   "source": [
    "nombre_infected       980\n",
    "nombre_sain          1938\n",
    "nombre_exposed        538\n",
    "nombre_recovered    16544\n",
    "Name: 647, dtype: int64"
   ]
  },
  {
   "cell_type": "markdown",
   "id": "468b9ce2",
   "metadata": {},
   "source": [
    "nombre_infected      1021\n",
    "nombre_sain          1929\n",
    "nombre_exposed        517\n",
    "nombre_recovered    16533\n",
    "Name: 648, dtype: int64"
   ]
  },
  {
   "cell_type": "markdown",
   "id": "39f0f725",
   "metadata": {},
   "source": [
    "nombre_infected      1038\n",
    "nombre_sain          1951\n",
    "nombre_exposed        508\n",
    "nombre_recovered    16503\n",
    "Name: 649, dtype: int64"
   ]
  },
  {
   "cell_type": "markdown",
   "id": "0879c564",
   "metadata": {},
   "source": [
    "nombre_infected      1063\n",
    "nombre_sain          1952\n",
    "nombre_exposed        511\n",
    "nombre_recovered    16474\n",
    "Name: 650, dtype: int64"
   ]
  },
  {
   "cell_type": "markdown",
   "id": "9b4de4a9",
   "metadata": {},
   "source": [
    "nombre_infected      1068\n",
    "nombre_sain          1959\n",
    "nombre_exposed        509\n",
    "nombre_recovered    16464\n",
    "Name: 651, dtype: int64"
   ]
  },
  {
   "cell_type": "markdown",
   "id": "cc9fb075",
   "metadata": {},
   "source": [
    "nombre_infected      1076\n",
    "nombre_sain          1948\n",
    "nombre_exposed        505\n",
    "nombre_recovered    16471\n",
    "Name: 652, dtype: int64"
   ]
  },
  {
   "cell_type": "markdown",
   "id": "2436a2d9",
   "metadata": {},
   "source": [
    "nombre_infected      1045\n",
    "nombre_sain          1943\n",
    "nombre_exposed        529\n",
    "nombre_recovered    16483\n",
    "Name: 653, dtype: int64"
   ]
  },
  {
   "cell_type": "markdown",
   "id": "f0801488",
   "metadata": {},
   "source": [
    "nombre_infected      1041\n",
    "nombre_sain          1960\n",
    "nombre_exposed        531\n",
    "nombre_recovered    16468\n",
    "Name: 654, dtype: int64"
   ]
  },
  {
   "cell_type": "markdown",
   "id": "346d6893",
   "metadata": {},
   "source": [
    "nombre_infected      1077\n",
    "nombre_sain          1957\n",
    "nombre_exposed        506\n",
    "nombre_recovered    16460\n",
    "Name: 655, dtype: int64"
   ]
  },
  {
   "cell_type": "markdown",
   "id": "7be2dda7",
   "metadata": {},
   "source": [
    "nombre_infected      1069\n",
    "nombre_sain          1973\n",
    "nombre_exposed        502\n",
    "nombre_recovered    16456\n",
    "Name: 656, dtype: int64"
   ]
  },
  {
   "cell_type": "markdown",
   "id": "13e81319",
   "metadata": {},
   "source": [
    "nombre_infected      1082\n",
    "nombre_sain          1976\n",
    "nombre_exposed        499\n",
    "nombre_recovered    16443\n",
    "Name: 657, dtype: int64"
   ]
  },
  {
   "cell_type": "markdown",
   "id": "979de736",
   "metadata": {},
   "source": [
    "nombre_infected      1087\n",
    "nombre_sain          1950\n",
    "nombre_exposed        515\n",
    "nombre_recovered    16448\n",
    "Name: 658, dtype: int64"
   ]
  },
  {
   "cell_type": "markdown",
   "id": "c03729a8",
   "metadata": {},
   "source": [
    "nombre_infected      1074\n",
    "nombre_sain          1937\n",
    "nombre_exposed        532\n",
    "nombre_recovered    16457\n",
    "Name: 659, dtype: int64"
   ]
  },
  {
   "cell_type": "markdown",
   "id": "3335657b",
   "metadata": {},
   "source": [
    "nombre_infected      1083\n",
    "nombre_sain          1904\n",
    "nombre_exposed        530\n",
    "nombre_recovered    16483\n",
    "Name: 660, dtype: int64"
   ]
  },
  {
   "cell_type": "markdown",
   "id": "8a9706f7",
   "metadata": {},
   "source": [
    "nombre_infected      1062\n",
    "nombre_sain          1917\n",
    "nombre_exposed        512\n",
    "nombre_recovered    16509\n",
    "Name: 661, dtype: int64"
   ]
  },
  {
   "cell_type": "markdown",
   "id": "31088a4d",
   "metadata": {},
   "source": [
    "nombre_infected      1094\n",
    "nombre_sain          1918\n",
    "nombre_exposed        458\n",
    "nombre_recovered    16530\n",
    "Name: 662, dtype: int64"
   ]
  },
  {
   "cell_type": "markdown",
   "id": "53c3dcf7",
   "metadata": {},
   "source": [
    "nombre_infected      1076\n",
    "nombre_sain          1878\n",
    "nombre_exposed        494\n",
    "nombre_recovered    16552\n",
    "Name: 663, dtype: int64"
   ]
  },
  {
   "cell_type": "markdown",
   "id": "9b76cfc8",
   "metadata": {},
   "source": [
    "nombre_infected      1051\n",
    "nombre_sain          1872\n",
    "nombre_exposed        511\n",
    "nombre_recovered    16566\n",
    "Name: 664, dtype: int64"
   ]
  },
  {
   "cell_type": "markdown",
   "id": "8ad53325",
   "metadata": {},
   "source": [
    "nombre_infected      1038\n",
    "nombre_sain          1857\n",
    "nombre_exposed        518\n",
    "nombre_recovered    16587\n",
    "Name: 665, dtype: int64"
   ]
  },
  {
   "cell_type": "markdown",
   "id": "740a6cdd",
   "metadata": {},
   "source": [
    "nombre_infected      1021\n",
    "nombre_sain          1869\n",
    "nombre_exposed        510\n",
    "nombre_recovered    16600\n",
    "Name: 666, dtype: int64"
   ]
  },
  {
   "cell_type": "markdown",
   "id": "62c14718",
   "metadata": {},
   "source": [
    "nombre_infected      1013\n",
    "nombre_sain          1873\n",
    "nombre_exposed        507\n",
    "nombre_recovered    16607\n",
    "Name: 667, dtype: int64"
   ]
  },
  {
   "cell_type": "markdown",
   "id": "07b2ede2",
   "metadata": {},
   "source": [
    "nombre_infected      1015\n",
    "nombre_sain          1889\n",
    "nombre_exposed        479\n",
    "nombre_recovered    16617\n",
    "Name: 668, dtype: int64"
   ]
  },
  {
   "cell_type": "markdown",
   "id": "df642475",
   "metadata": {},
   "source": [
    "nombre_infected       997\n",
    "nombre_sain          1920\n",
    "nombre_exposed        465\n",
    "nombre_recovered    16618\n",
    "Name: 669, dtype: int64"
   ]
  },
  {
   "cell_type": "markdown",
   "id": "32fde4cc",
   "metadata": {},
   "source": [
    "nombre_infected      1021\n",
    "nombre_sain          1931\n",
    "nombre_exposed        439\n",
    "nombre_recovered    16609\n",
    "Name: 670, dtype: int64"
   ]
  },
  {
   "cell_type": "markdown",
   "id": "3b35021f",
   "metadata": {},
   "source": [
    "nombre_infected       999\n",
    "nombre_sain          1929\n",
    "nombre_exposed        460\n",
    "nombre_recovered    16612\n",
    "Name: 671, dtype: int64"
   ]
  },
  {
   "cell_type": "markdown",
   "id": "625f3cea",
   "metadata": {},
   "source": [
    "nombre_infected       978\n",
    "nombre_sain          1937\n",
    "nombre_exposed        465\n",
    "nombre_recovered    16620\n",
    "Name: 672, dtype: int64"
   ]
  },
  {
   "cell_type": "markdown",
   "id": "84651846",
   "metadata": {},
   "source": [
    "nombre_infected       954\n",
    "nombre_sain          1934\n",
    "nombre_exposed        458\n",
    "nombre_recovered    16654\n",
    "Name: 673, dtype: int64"
   ]
  },
  {
   "cell_type": "markdown",
   "id": "56e4df62",
   "metadata": {},
   "source": [
    "nombre_infected       956\n",
    "nombre_sain          1916\n",
    "nombre_exposed        456\n",
    "nombre_recovered    16672\n",
    "Name: 674, dtype: int64"
   ]
  },
  {
   "cell_type": "markdown",
   "id": "7bd6599b",
   "metadata": {},
   "source": [
    "nombre_infected       921\n",
    "nombre_sain          1907\n",
    "nombre_exposed        454\n",
    "nombre_recovered    16718\n",
    "Name: 675, dtype: int64"
   ]
  },
  {
   "cell_type": "markdown",
   "id": "6e202673",
   "metadata": {},
   "source": [
    "nombre_infected       903\n",
    "nombre_sain          1911\n",
    "nombre_exposed        461\n",
    "nombre_recovered    16725\n",
    "Name: 676, dtype: int64"
   ]
  },
  {
   "cell_type": "markdown",
   "id": "ea53ac7d",
   "metadata": {},
   "source": [
    "nombre_infected       884\n",
    "nombre_sain          1911\n",
    "nombre_exposed        467\n",
    "nombre_recovered    16738\n",
    "Name: 677, dtype: int64"
   ]
  },
  {
   "cell_type": "markdown",
   "id": "7e7b50fe",
   "metadata": {},
   "source": [
    "nombre_infected       901\n",
    "nombre_sain          1898\n",
    "nombre_exposed        455\n",
    "nombre_recovered    16746\n",
    "Name: 678, dtype: int64"
   ]
  },
  {
   "cell_type": "markdown",
   "id": "f5bbf3cc",
   "metadata": {},
   "source": [
    "nombre_infected       889\n",
    "nombre_sain          1910\n",
    "nombre_exposed        445\n",
    "nombre_recovered    16756\n",
    "Name: 679, dtype: int64"
   ]
  },
  {
   "cell_type": "markdown",
   "id": "73463571",
   "metadata": {},
   "source": [
    "nombre_infected       863\n",
    "nombre_sain          1898\n",
    "nombre_exposed        463\n",
    "nombre_recovered    16776\n",
    "Name: 680, dtype: int64"
   ]
  },
  {
   "cell_type": "markdown",
   "id": "3b13b3b0",
   "metadata": {},
   "source": [
    "nombre_infected       843\n",
    "nombre_sain          1895\n",
    "nombre_exposed        471\n",
    "nombre_recovered    16791\n",
    "Name: 681, dtype: int64"
   ]
  },
  {
   "cell_type": "markdown",
   "id": "4382ccbb",
   "metadata": {},
   "source": [
    "nombre_infected       840\n",
    "nombre_sain          1916\n",
    "nombre_exposed        455\n",
    "nombre_recovered    16789\n",
    "Name: 682, dtype: int64"
   ]
  },
  {
   "cell_type": "markdown",
   "id": "15b45f90",
   "metadata": {},
   "source": [
    "nombre_infected       838\n",
    "nombre_sain          1908\n",
    "nombre_exposed        453\n",
    "nombre_recovered    16801\n",
    "Name: 683, dtype: int64"
   ]
  },
  {
   "cell_type": "markdown",
   "id": "33aecd24",
   "metadata": {},
   "source": [
    "nombre_infected       825\n",
    "nombre_sain          1931\n",
    "nombre_exposed        432\n",
    "nombre_recovered    16812\n",
    "Name: 684, dtype: int64"
   ]
  },
  {
   "cell_type": "markdown",
   "id": "6fae6b57",
   "metadata": {},
   "source": [
    "nombre_infected       801\n",
    "nombre_sain          1971\n",
    "nombre_exposed        425\n",
    "nombre_recovered    16803\n",
    "Name: 685, dtype: int64"
   ]
  },
  {
   "cell_type": "markdown",
   "id": "e1d656f2",
   "metadata": {},
   "source": [
    "nombre_infected       840\n",
    "nombre_sain          1982\n",
    "nombre_exposed        415\n",
    "nombre_recovered    16763\n",
    "Name: 686, dtype: int64"
   ]
  },
  {
   "cell_type": "markdown",
   "id": "2fa606e8",
   "metadata": {},
   "source": [
    "nombre_infected       831\n",
    "nombre_sain          1998\n",
    "nombre_exposed        428\n",
    "nombre_recovered    16743\n",
    "Name: 687, dtype: int64"
   ]
  },
  {
   "cell_type": "markdown",
   "id": "b1f3339f",
   "metadata": {},
   "source": [
    "nombre_infected       830\n",
    "nombre_sain          2023\n",
    "nombre_exposed        403\n",
    "nombre_recovered    16744\n",
    "Name: 688, dtype: int64"
   ]
  },
  {
   "cell_type": "markdown",
   "id": "789f51a4",
   "metadata": {},
   "source": [
    "nombre_infected       827\n",
    "nombre_sain          2033\n",
    "nombre_exposed        409\n",
    "nombre_recovered    16731\n",
    "Name: 689, dtype: int64"
   ]
  },
  {
   "cell_type": "markdown",
   "id": "eadf3110",
   "metadata": {},
   "source": [
    "nombre_infected       815\n",
    "nombre_sain          2032\n",
    "nombre_exposed        423\n",
    "nombre_recovered    16730\n",
    "Name: 690, dtype: int64"
   ]
  },
  {
   "cell_type": "markdown",
   "id": "676c2d91",
   "metadata": {},
   "source": [
    "nombre_infected       803\n",
    "nombre_sain          2012\n",
    "nombre_exposed        451\n",
    "nombre_recovered    16734\n",
    "Name: 691, dtype: int64"
   ]
  },
  {
   "cell_type": "markdown",
   "id": "c736deed",
   "metadata": {},
   "source": [
    "nombre_infected       800\n",
    "nombre_sain          2024\n",
    "nombre_exposed        440\n",
    "nombre_recovered    16736\n",
    "Name: 692, dtype: int64"
   ]
  },
  {
   "cell_type": "markdown",
   "id": "be40c84a",
   "metadata": {},
   "source": [
    "nombre_infected       827\n",
    "nombre_sain          2035\n",
    "nombre_exposed        421\n",
    "nombre_recovered    16717\n",
    "Name: 693, dtype: int64"
   ]
  },
  {
   "cell_type": "markdown",
   "id": "aac748b9",
   "metadata": {},
   "source": [
    "nombre_infected       814\n",
    "nombre_sain          2061\n",
    "nombre_exposed        434\n",
    "nombre_recovered    16691\n",
    "Name: 694, dtype: int64"
   ]
  },
  {
   "cell_type": "markdown",
   "id": "1f0a5ecf",
   "metadata": {},
   "source": [
    "nombre_infected       806\n",
    "nombre_sain          2094\n",
    "nombre_exposed        442\n",
    "nombre_recovered    16658\n",
    "Name: 695, dtype: int64"
   ]
  },
  {
   "cell_type": "markdown",
   "id": "73218abe",
   "metadata": {},
   "source": [
    "nombre_infected       810\n",
    "nombre_sain          2125\n",
    "nombre_exposed        431\n",
    "nombre_recovered    16634\n",
    "Name: 696, dtype: int64"
   ]
  },
  {
   "cell_type": "markdown",
   "id": "53580abf",
   "metadata": {},
   "source": [
    "nombre_infected       797\n",
    "nombre_sain          2138\n",
    "nombre_exposed        444\n",
    "nombre_recovered    16621\n",
    "Name: 697, dtype: int64"
   ]
  },
  {
   "cell_type": "markdown",
   "id": "1a3d82f3",
   "metadata": {},
   "source": [
    "nombre_infected       814\n",
    "nombre_sain          2180\n",
    "nombre_exposed        424\n",
    "nombre_recovered    16582\n",
    "Name: 698, dtype: int64"
   ]
  },
  {
   "cell_type": "markdown",
   "id": "3dbc05cb",
   "metadata": {},
   "source": [
    "nombre_infected       797\n",
    "nombre_sain          2187\n",
    "nombre_exposed        421\n",
    "nombre_recovered    16595\n",
    "Name: 699, dtype: int64"
   ]
  },
  {
   "cell_type": "markdown",
   "id": "d56906dc",
   "metadata": {},
   "source": [
    "nombre_infected       784\n",
    "nombre_sain          2228\n",
    "nombre_exposed        412\n",
    "nombre_recovered    16576\n",
    "Name: 700, dtype: int64"
   ]
  },
  {
   "cell_type": "markdown",
   "id": "1120d750",
   "metadata": {},
   "source": [
    "nombre_infected       777\n",
    "nombre_sain          2235\n",
    "nombre_exposed        445\n",
    "nombre_recovered    16543\n",
    "Name: 701, dtype: int64"
   ]
  },
  {
   "cell_type": "markdown",
   "id": "0a5e711d",
   "metadata": {},
   "source": [
    "nombre_infected       787\n",
    "nombre_sain          2262\n",
    "nombre_exposed        453\n",
    "nombre_recovered    16498\n",
    "Name: 702, dtype: int64"
   ]
  },
  {
   "cell_type": "markdown",
   "id": "41d0ba0c",
   "metadata": {},
   "source": [
    "nombre_infected       795\n",
    "nombre_sain          2247\n",
    "nombre_exposed        475\n",
    "nombre_recovered    16483\n",
    "Name: 703, dtype: int64"
   ]
  },
  {
   "cell_type": "markdown",
   "id": "649e629f",
   "metadata": {},
   "source": [
    "nombre_infected       807\n",
    "nombre_sain          2231\n",
    "nombre_exposed        463\n",
    "nombre_recovered    16499\n",
    "Name: 704, dtype: int64"
   ]
  },
  {
   "cell_type": "markdown",
   "id": "37964de6",
   "metadata": {},
   "source": [
    "nombre_infected       806\n",
    "nombre_sain          2221\n",
    "nombre_exposed        468\n",
    "nombre_recovered    16505\n",
    "Name: 705, dtype: int64"
   ]
  },
  {
   "cell_type": "markdown",
   "id": "12bccd50",
   "metadata": {},
   "source": [
    "nombre_infected       849\n",
    "nombre_sain          2224\n",
    "nombre_exposed        450\n",
    "nombre_recovered    16477\n",
    "Name: 706, dtype: int64"
   ]
  },
  {
   "cell_type": "markdown",
   "id": "1b7fce34",
   "metadata": {},
   "source": [
    "nombre_infected       860\n",
    "nombre_sain          2225\n",
    "nombre_exposed        461\n",
    "nombre_recovered    16454\n",
    "Name: 707, dtype: int64"
   ]
  },
  {
   "cell_type": "markdown",
   "id": "b8a846f7",
   "metadata": {},
   "source": [
    "nombre_infected       870\n",
    "nombre_sain          2199\n",
    "nombre_exposed        479\n",
    "nombre_recovered    16452\n",
    "Name: 708, dtype: int64"
   ]
  },
  {
   "cell_type": "markdown",
   "id": "0c9461b0",
   "metadata": {},
   "source": [
    "nombre_infected       873\n",
    "nombre_sain          2215\n",
    "nombre_exposed        487\n",
    "nombre_recovered    16425\n",
    "Name: 709, dtype: int64"
   ]
  },
  {
   "cell_type": "markdown",
   "id": "f85baac4",
   "metadata": {},
   "source": [
    "nombre_infected       882\n",
    "nombre_sain          2221\n",
    "nombre_exposed        485\n",
    "nombre_recovered    16412\n",
    "Name: 710, dtype: int64"
   ]
  },
  {
   "cell_type": "markdown",
   "id": "6e255826",
   "metadata": {},
   "source": [
    "nombre_infected       890\n",
    "nombre_sain          2225\n",
    "nombre_exposed        489\n",
    "nombre_recovered    16396\n",
    "Name: 711, dtype: int64"
   ]
  },
  {
   "cell_type": "markdown",
   "id": "0254b09c",
   "metadata": {},
   "source": [
    "nombre_infected       887\n",
    "nombre_sain          2208\n",
    "nombre_exposed        514\n",
    "nombre_recovered    16391\n",
    "Name: 712, dtype: int64"
   ]
  },
  {
   "cell_type": "markdown",
   "id": "61f0a806",
   "metadata": {},
   "source": [
    "nombre_infected       900\n",
    "nombre_sain          2186\n",
    "nombre_exposed        537\n",
    "nombre_recovered    16377\n",
    "Name: 713, dtype: int64"
   ]
  },
  {
   "cell_type": "markdown",
   "id": "19f2f007",
   "metadata": {},
   "source": [
    "nombre_infected       933\n",
    "nombre_sain          2194\n",
    "nombre_exposed        518\n",
    "nombre_recovered    16355\n",
    "Name: 714, dtype: int64"
   ]
  },
  {
   "cell_type": "markdown",
   "id": "85b7153b",
   "metadata": {},
   "source": [
    "nombre_infected       944\n",
    "nombre_sain          2158\n",
    "nombre_exposed        545\n",
    "nombre_recovered    16353\n",
    "Name: 715, dtype: int64"
   ]
  },
  {
   "cell_type": "markdown",
   "id": "608d76ab",
   "metadata": {},
   "source": [
    "nombre_infected       949\n",
    "nombre_sain          2128\n",
    "nombre_exposed        547\n",
    "nombre_recovered    16376\n",
    "Name: 716, dtype: int64"
   ]
  },
  {
   "cell_type": "markdown",
   "id": "520bbbd3",
   "metadata": {},
   "source": [
    "nombre_infected       965\n",
    "nombre_sain          2122\n",
    "nombre_exposed        535\n",
    "nombre_recovered    16378\n",
    "Name: 717, dtype: int64"
   ]
  },
  {
   "cell_type": "markdown",
   "id": "48a4b440",
   "metadata": {},
   "source": [
    "nombre_infected       993\n",
    "nombre_sain          2078\n",
    "nombre_exposed        545\n",
    "nombre_recovered    16384\n",
    "Name: 718, dtype: int64"
   ]
  },
  {
   "cell_type": "markdown",
   "id": "50f7cf12",
   "metadata": {},
   "source": [
    "nombre_infected       993\n",
    "nombre_sain          2066\n",
    "nombre_exposed        572\n",
    "nombre_recovered    16369\n",
    "Name: 719, dtype: int64"
   ]
  },
  {
   "cell_type": "markdown",
   "id": "96372d2e",
   "metadata": {},
   "source": [
    "nombre_infected      1002\n",
    "nombre_sain          2052\n",
    "nombre_exposed        551\n",
    "nombre_recovered    16395\n",
    "Name: 720, dtype: int64"
   ]
  },
  {
   "cell_type": "markdown",
   "id": "6712545d",
   "metadata": {},
   "source": [
    "nombre_infected      1004\n",
    "nombre_sain          2049\n",
    "nombre_exposed        535\n",
    "nombre_recovered    16412\n",
    "Name: 721, dtype: int64"
   ]
  },
  {
   "cell_type": "markdown",
   "id": "d6204336",
   "metadata": {},
   "source": [
    "nombre_infected      1010\n",
    "nombre_sain          2026\n",
    "nombre_exposed        547\n",
    "nombre_recovered    16417\n",
    "Name: 722, dtype: int64"
   ]
  },
  {
   "cell_type": "markdown",
   "id": "811f1415",
   "metadata": {},
   "source": [
    "nombre_infected      1006\n",
    "nombre_sain          2026\n",
    "nombre_exposed        543\n",
    "nombre_recovered    16425\n",
    "Name: 723, dtype: int64"
   ]
  },
  {
   "cell_type": "markdown",
   "id": "390a3954",
   "metadata": {},
   "source": [
    "nombre_infected      1005\n",
    "nombre_sain          2022\n",
    "nombre_exposed        541\n",
    "nombre_recovered    16432\n",
    "Name: 724, dtype: int64"
   ]
  },
  {
   "cell_type": "markdown",
   "id": "24f73aef",
   "metadata": {},
   "source": [
    "nombre_infected      1001\n",
    "nombre_sain          2042\n",
    "nombre_exposed        524\n",
    "nombre_recovered    16433\n",
    "Name: 725, dtype: int64"
   ]
  },
  {
   "cell_type": "markdown",
   "id": "c7e44a3b",
   "metadata": {},
   "source": [
    "nombre_infected      1011\n",
    "nombre_sain          2041\n",
    "nombre_exposed        505\n",
    "nombre_recovered    16443\n",
    "Name: 726, dtype: int64"
   ]
  },
  {
   "cell_type": "markdown",
   "id": "5edaffd1",
   "metadata": {},
   "source": [
    "nombre_infected      1015\n",
    "nombre_sain          2009\n",
    "nombre_exposed        537\n",
    "nombre_recovered    16439\n",
    "Name: 727, dtype: int64"
   ]
  },
  {
   "cell_type": "markdown",
   "id": "d3460b03",
   "metadata": {},
   "source": [
    "nombre_infected      1007\n",
    "nombre_sain          2017\n",
    "nombre_exposed        543\n",
    "nombre_recovered    16433\n",
    "Name: 728, dtype: int64"
   ]
  },
  {
   "cell_type": "markdown",
   "id": "1dc88f7b",
   "metadata": {},
   "source": [
    "nombre_infected      1007\n",
    "nombre_sain          2024\n",
    "nombre_exposed        543\n",
    "nombre_recovered    16426\n",
    "Name: 729, dtype: int64"
   ]
  },
  {
   "cell_type": "markdown",
   "id": "4c076c14",
   "metadata": {},
   "source": [
    "nombre_infected      1017\n",
    "nombre_sain          2043\n",
    "nombre_exposed        520\n",
    "nombre_recovered    16420\n",
    "Name: 730, dtype: int64"
   ]
  }
 ],
 "metadata": {},
 "nbformat": 4,
 "nbformat_minor": 5
}
