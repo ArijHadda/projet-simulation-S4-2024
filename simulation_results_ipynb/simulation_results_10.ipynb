{
 "cells": [
  {
   "cell_type": "markdown",
   "id": "01861f62",
   "metadata": {},
   "source": [
    "nombre_infected        20\n",
    "nombre_sain         19980\n",
    "nombre_exposed          0\n",
    "nombre_recovered        0\n",
    "Name: 0, dtype: int64"
   ]
  },
  {
   "cell_type": "markdown",
   "id": "a717a7da",
   "metadata": {},
   "source": [
    "nombre_infected        20\n",
    "nombre_sain         19965\n",
    "nombre_exposed         15\n",
    "nombre_recovered        0\n",
    "Name: 1, dtype: int64"
   ]
  },
  {
   "cell_type": "markdown",
   "id": "f7b141b7",
   "metadata": {},
   "source": [
    "nombre_infected        10\n",
    "nombre_sain         19957\n",
    "nombre_exposed         23\n",
    "nombre_recovered       10\n",
    "Name: 2, dtype: int64"
   ]
  },
  {
   "cell_type": "markdown",
   "id": "4039b146",
   "metadata": {},
   "source": [
    "nombre_infected        17\n",
    "nombre_sain         19940\n",
    "nombre_exposed         33\n",
    "nombre_recovered       10\n",
    "Name: 3, dtype: int64"
   ]
  },
  {
   "cell_type": "markdown",
   "id": "d9173078",
   "metadata": {},
   "source": [
    "nombre_infected        23\n",
    "nombre_sain         19905\n",
    "nombre_exposed         62\n",
    "nombre_recovered       10\n",
    "Name: 4, dtype: int64"
   ]
  },
  {
   "cell_type": "markdown",
   "id": "95c2395a",
   "metadata": {},
   "source": [
    "nombre_infected        28\n",
    "nombre_sain         19874\n",
    "nombre_exposed         87\n",
    "nombre_recovered       11\n",
    "Name: 5, dtype: int64"
   ]
  },
  {
   "cell_type": "markdown",
   "id": "4b22ac37",
   "metadata": {},
   "source": [
    "nombre_infected        43\n",
    "nombre_sain         19837\n",
    "nombre_exposed        107\n",
    "nombre_recovered       13\n",
    "Name: 6, dtype: int64"
   ]
  },
  {
   "cell_type": "markdown",
   "id": "f274a4a0",
   "metadata": {},
   "source": [
    "nombre_infected        53\n",
    "nombre_sain         19785\n",
    "nombre_exposed        146\n",
    "nombre_recovered       16\n",
    "Name: 7, dtype: int64"
   ]
  },
  {
   "cell_type": "markdown",
   "id": "6ae52f03",
   "metadata": {},
   "source": [
    "nombre_infected        78\n",
    "nombre_sain         19724\n",
    "nombre_exposed        179\n",
    "nombre_recovered       19\n",
    "Name: 8, dtype: int64"
   ]
  },
  {
   "cell_type": "markdown",
   "id": "42662752",
   "metadata": {},
   "source": [
    "nombre_infected       101\n",
    "nombre_sain         19624\n",
    "nombre_exposed        249\n",
    "nombre_recovered       26\n",
    "Name: 9, dtype: int64"
   ]
  },
  {
   "cell_type": "markdown",
   "id": "cf77805d",
   "metadata": {},
   "source": [
    "nombre_infected       135\n",
    "nombre_sain         19483\n",
    "nombre_exposed        352\n",
    "nombre_recovered       30\n",
    "Name: 10, dtype: int64"
   ]
  },
  {
   "cell_type": "markdown",
   "id": "495d026e",
   "metadata": {},
   "source": [
    "nombre_infected       186\n",
    "nombre_sain         19296\n",
    "nombre_exposed        479\n",
    "nombre_recovered       39\n",
    "Name: 11, dtype: int64"
   ]
  },
  {
   "cell_type": "markdown",
   "id": "8901d032",
   "metadata": {},
   "source": [
    "nombre_infected       249\n",
    "nombre_sain         19036\n",
    "nombre_exposed        660\n",
    "nombre_recovered       55\n",
    "Name: 12, dtype: int64"
   ]
  },
  {
   "cell_type": "markdown",
   "id": "853fd14e",
   "metadata": {},
   "source": [
    "nombre_infected       351\n",
    "nombre_sain         18714\n",
    "nombre_exposed        862\n",
    "nombre_recovered       73\n",
    "Name: 13, dtype: int64"
   ]
  },
  {
   "cell_type": "markdown",
   "id": "853d1034",
   "metadata": {},
   "source": [
    "nombre_infected       461\n",
    "nombre_sain         18295\n",
    "nombre_exposed       1133\n",
    "nombre_recovered      111\n",
    "Name: 14, dtype: int64"
   ]
  },
  {
   "cell_type": "markdown",
   "id": "9b7d00b7",
   "metadata": {},
   "source": [
    "nombre_infected       619\n",
    "nombre_sain         17663\n",
    "nombre_exposed       1569\n",
    "nombre_recovered      149\n",
    "Name: 15, dtype: int64"
   ]
  },
  {
   "cell_type": "markdown",
   "id": "97e37d4c",
   "metadata": {},
   "source": [
    "nombre_infected       831\n",
    "nombre_sain         16912\n",
    "nombre_exposed       2073\n",
    "nombre_recovered      184\n",
    "Name: 16, dtype: int64"
   ]
  },
  {
   "cell_type": "markdown",
   "id": "7979669d",
   "metadata": {},
   "source": [
    "nombre_infected      1111\n",
    "nombre_sain         15922\n",
    "nombre_exposed       2702\n",
    "nombre_recovered      265\n",
    "Name: 17, dtype: int64"
   ]
  },
  {
   "cell_type": "markdown",
   "id": "48bbc23a",
   "metadata": {},
   "source": [
    "nombre_infected      1507\n",
    "nombre_sain         14776\n",
    "nombre_exposed       3357\n",
    "nombre_recovered      360\n",
    "Name: 18, dtype: int64"
   ]
  },
  {
   "cell_type": "markdown",
   "id": "3c527301",
   "metadata": {},
   "source": [
    "nombre_infected      1963\n",
    "nombre_sain         13400\n",
    "nombre_exposed       4129\n",
    "nombre_recovered      508\n",
    "Name: 19, dtype: int64"
   ]
  },
  {
   "cell_type": "markdown",
   "id": "839e10fe",
   "metadata": {},
   "source": [
    "nombre_infected      2543\n",
    "nombre_sain         11763\n",
    "nombre_exposed       5009\n",
    "nombre_recovered      685\n",
    "Name: 20, dtype: int64"
   ]
  },
  {
   "cell_type": "markdown",
   "id": "e180d8a1",
   "metadata": {},
   "source": [
    "nombre_infected      3224\n",
    "nombre_sain         10039\n",
    "nombre_exposed       5821\n",
    "nombre_recovered      916\n",
    "Name: 21, dtype: int64"
   ]
  },
  {
   "cell_type": "markdown",
   "id": "778c4ddf",
   "metadata": {},
   "source": [
    "nombre_infected     3949\n",
    "nombre_sain         8262\n",
    "nombre_exposed      6530\n",
    "nombre_recovered    1259\n",
    "Name: 22, dtype: int64"
   ]
  },
  {
   "cell_type": "markdown",
   "id": "d4653b96",
   "metadata": {},
   "source": [
    "nombre_infected     4869\n",
    "nombre_sain         6520\n",
    "nombre_exposed      6954\n",
    "nombre_recovered    1657\n",
    "Name: 23, dtype: int64"
   ]
  },
  {
   "cell_type": "markdown",
   "id": "46c8d802",
   "metadata": {},
   "source": [
    "nombre_infected     5842\n",
    "nombre_sain         4941\n",
    "nombre_exposed      7115\n",
    "nombre_recovered    2102\n",
    "Name: 24, dtype: int64"
   ]
  },
  {
   "cell_type": "markdown",
   "id": "dd66e016",
   "metadata": {},
   "source": [
    "nombre_infected     6715\n",
    "nombre_sain         3645\n",
    "nombre_exposed      6955\n",
    "nombre_recovered    2685\n",
    "Name: 25, dtype: int64"
   ]
  },
  {
   "cell_type": "markdown",
   "id": "e52d1225",
   "metadata": {},
   "source": [
    "nombre_infected     7511\n",
    "nombre_sain         2582\n",
    "nombre_exposed      6519\n",
    "nombre_recovered    3388\n",
    "Name: 26, dtype: int64"
   ]
  },
  {
   "cell_type": "markdown",
   "id": "d9854729",
   "metadata": {},
   "source": [
    "nombre_infected     8131\n",
    "nombre_sain         1773\n",
    "nombre_exposed      5890\n",
    "nombre_recovered    4206\n",
    "Name: 27, dtype: int64"
   ]
  },
  {
   "cell_type": "markdown",
   "id": "901986ee",
   "metadata": {},
   "source": [
    "nombre_infected     8648\n",
    "nombre_sain         1256\n",
    "nombre_exposed      5029\n",
    "nombre_recovered    5067\n",
    "Name: 28, dtype: int64"
   ]
  },
  {
   "cell_type": "markdown",
   "id": "a9c770bb",
   "metadata": {},
   "source": [
    "nombre_infected     8961\n",
    "nombre_sain          880\n",
    "nombre_exposed      4204\n",
    "nombre_recovered    5955\n",
    "Name: 29, dtype: int64"
   ]
  },
  {
   "cell_type": "markdown",
   "id": "cbec9077",
   "metadata": {},
   "source": [
    "nombre_infected     8992\n",
    "nombre_sain          580\n",
    "nombre_exposed      3452\n",
    "nombre_recovered    6976\n",
    "Name: 30, dtype: int64"
   ]
  },
  {
   "cell_type": "markdown",
   "id": "b9c56265",
   "metadata": {},
   "source": [
    "nombre_infected     8815\n",
    "nombre_sain          426\n",
    "nombre_exposed      2778\n",
    "nombre_recovered    7981\n",
    "Name: 31, dtype: int64"
   ]
  },
  {
   "cell_type": "markdown",
   "id": "08d2348e",
   "metadata": {},
   "source": [
    "nombre_infected     8545\n",
    "nombre_sain          310\n",
    "nombre_exposed      2188\n",
    "nombre_recovered    8957\n",
    "Name: 32, dtype: int64"
   ]
  },
  {
   "cell_type": "markdown",
   "id": "1d05397d",
   "metadata": {},
   "source": [
    "nombre_infected     8121\n",
    "nombre_sain          233\n",
    "nombre_exposed      1662\n",
    "nombre_recovered    9984\n",
    "Name: 33, dtype: int64"
   ]
  },
  {
   "cell_type": "markdown",
   "id": "b21beb4a",
   "metadata": {},
   "source": [
    "nombre_infected      7546\n",
    "nombre_sain           190\n",
    "nombre_exposed       1310\n",
    "nombre_recovered    10954\n",
    "Name: 34, dtype: int64"
   ]
  },
  {
   "cell_type": "markdown",
   "id": "b84284bc",
   "metadata": {},
   "source": [
    "nombre_infected      6991\n",
    "nombre_sain           178\n",
    "nombre_exposed        975\n",
    "nombre_recovered    11856\n",
    "Name: 35, dtype: int64"
   ]
  },
  {
   "cell_type": "markdown",
   "id": "f660b9ea",
   "metadata": {},
   "source": [
    "nombre_infected      6496\n",
    "nombre_sain           158\n",
    "nombre_exposed        717\n",
    "nombre_recovered    12629\n",
    "Name: 36, dtype: int64"
   ]
  },
  {
   "cell_type": "markdown",
   "id": "64323e2a",
   "metadata": {},
   "source": [
    "nombre_infected      5926\n",
    "nombre_sain           157\n",
    "nombre_exposed        542\n",
    "nombre_recovered    13375\n",
    "Name: 37, dtype: int64"
   ]
  },
  {
   "cell_type": "markdown",
   "id": "5d8e38a2",
   "metadata": {},
   "source": [
    "nombre_infected      5341\n",
    "nombre_sain           158\n",
    "nombre_exposed        412\n",
    "nombre_recovered    14089\n",
    "Name: 38, dtype: int64"
   ]
  },
  {
   "cell_type": "markdown",
   "id": "e38c0fd7",
   "metadata": {},
   "source": [
    "nombre_infected      4834\n",
    "nombre_sain           159\n",
    "nombre_exposed        316\n",
    "nombre_recovered    14691\n",
    "Name: 39, dtype: int64"
   ]
  },
  {
   "cell_type": "markdown",
   "id": "5d1b6090",
   "metadata": {},
   "source": [
    "nombre_infected      4300\n",
    "nombre_sain           167\n",
    "nombre_exposed        260\n",
    "nombre_recovered    15273\n",
    "Name: 40, dtype: int64"
   ]
  },
  {
   "cell_type": "markdown",
   "id": "98c32c09",
   "metadata": {},
   "source": [
    "nombre_infected      3842\n",
    "nombre_sain           191\n",
    "nombre_exposed        205\n",
    "nombre_recovered    15762\n",
    "Name: 41, dtype: int64"
   ]
  },
  {
   "cell_type": "markdown",
   "id": "5eaec7ec",
   "metadata": {},
   "source": [
    "nombre_infected      3360\n",
    "nombre_sain           210\n",
    "nombre_exposed        191\n",
    "nombre_recovered    16239\n",
    "Name: 42, dtype: int64"
   ]
  },
  {
   "cell_type": "markdown",
   "id": "cb85ba65",
   "metadata": {},
   "source": [
    "nombre_infected      2987\n",
    "nombre_sain           236\n",
    "nombre_exposed        189\n",
    "nombre_recovered    16588\n",
    "Name: 43, dtype: int64"
   ]
  },
  {
   "cell_type": "markdown",
   "id": "6e274ec1",
   "metadata": {},
   "source": [
    "nombre_infected      2627\n",
    "nombre_sain           273\n",
    "nombre_exposed        162\n",
    "nombre_recovered    16938\n",
    "Name: 44, dtype: int64"
   ]
  },
  {
   "cell_type": "markdown",
   "id": "5b9087b7",
   "metadata": {},
   "source": [
    "nombre_infected      2327\n",
    "nombre_sain           305\n",
    "nombre_exposed        154\n",
    "nombre_recovered    17214\n",
    "Name: 45, dtype: int64"
   ]
  },
  {
   "cell_type": "markdown",
   "id": "7d3a53df",
   "metadata": {},
   "source": [
    "nombre_infected      2051\n",
    "nombre_sain           331\n",
    "nombre_exposed        142\n",
    "nombre_recovered    17476\n",
    "Name: 46, dtype: int64"
   ]
  },
  {
   "cell_type": "markdown",
   "id": "83a4cadb",
   "metadata": {},
   "source": [
    "nombre_infected      1768\n",
    "nombre_sain           363\n",
    "nombre_exposed        135\n",
    "nombre_recovered    17734\n",
    "Name: 47, dtype: int64"
   ]
  },
  {
   "cell_type": "markdown",
   "id": "a0459394",
   "metadata": {},
   "source": [
    "nombre_infected      1560\n",
    "nombre_sain           392\n",
    "nombre_exposed        135\n",
    "nombre_recovered    17913\n",
    "Name: 48, dtype: int64"
   ]
  },
  {
   "cell_type": "markdown",
   "id": "528e8b7f",
   "metadata": {},
   "source": [
    "nombre_infected      1370\n",
    "nombre_sain           431\n",
    "nombre_exposed        122\n",
    "nombre_recovered    18077\n",
    "Name: 49, dtype: int64"
   ]
  },
  {
   "cell_type": "markdown",
   "id": "18a06fc3",
   "metadata": {},
   "source": [
    "nombre_infected      1207\n",
    "nombre_sain           466\n",
    "nombre_exposed        110\n",
    "nombre_recovered    18217\n",
    "Name: 50, dtype: int64"
   ]
  },
  {
   "cell_type": "markdown",
   "id": "5f8db6e8",
   "metadata": {},
   "source": [
    "nombre_infected      1048\n",
    "nombre_sain           509\n",
    "nombre_exposed        110\n",
    "nombre_recovered    18333\n",
    "Name: 51, dtype: int64"
   ]
  },
  {
   "cell_type": "markdown",
   "id": "ab580fab",
   "metadata": {},
   "source": [
    "nombre_infected       904\n",
    "nombre_sain           544\n",
    "nombre_exposed        118\n",
    "nombre_recovered    18434\n",
    "Name: 52, dtype: int64"
   ]
  },
  {
   "cell_type": "markdown",
   "id": "0137f49c",
   "metadata": {},
   "source": [
    "nombre_infected       822\n",
    "nombre_sain           593\n",
    "nombre_exposed         97\n",
    "nombre_recovered    18488\n",
    "Name: 53, dtype: int64"
   ]
  },
  {
   "cell_type": "markdown",
   "id": "f6a48ada",
   "metadata": {},
   "source": [
    "nombre_infected       747\n",
    "nombre_sain           617\n",
    "nombre_exposed         96\n",
    "nombre_recovered    18540\n",
    "Name: 54, dtype: int64"
   ]
  },
  {
   "cell_type": "markdown",
   "id": "dfb1f376",
   "metadata": {},
   "source": [
    "nombre_infected       651\n",
    "nombre_sain           665\n",
    "nombre_exposed         94\n",
    "nombre_recovered    18590\n",
    "Name: 55, dtype: int64"
   ]
  },
  {
   "cell_type": "markdown",
   "id": "2a671f10",
   "metadata": {},
   "source": [
    "nombre_infected       601\n",
    "nombre_sain           698\n",
    "nombre_exposed         91\n",
    "nombre_recovered    18610\n",
    "Name: 56, dtype: int64"
   ]
  },
  {
   "cell_type": "markdown",
   "id": "b56be973",
   "metadata": {},
   "source": [
    "nombre_infected       538\n",
    "nombre_sain           748\n",
    "nombre_exposed         82\n",
    "nombre_recovered    18632\n",
    "Name: 57, dtype: int64"
   ]
  },
  {
   "cell_type": "markdown",
   "id": "ac952cc5",
   "metadata": {},
   "source": [
    "nombre_infected       496\n",
    "nombre_sain           788\n",
    "nombre_exposed         82\n",
    "nombre_recovered    18634\n",
    "Name: 58, dtype: int64"
   ]
  },
  {
   "cell_type": "markdown",
   "id": "91a59d21",
   "metadata": {},
   "source": [
    "nombre_infected       438\n",
    "nombre_sain           825\n",
    "nombre_exposed         84\n",
    "nombre_recovered    18653\n",
    "Name: 59, dtype: int64"
   ]
  },
  {
   "cell_type": "markdown",
   "id": "d0d04b5b",
   "metadata": {},
   "source": [
    "nombre_infected       401\n",
    "nombre_sain           873\n",
    "nombre_exposed         83\n",
    "nombre_recovered    18643\n",
    "Name: 60, dtype: int64"
   ]
  },
  {
   "cell_type": "markdown",
   "id": "4138ee56",
   "metadata": {},
   "source": [
    "nombre_infected       377\n",
    "nombre_sain           913\n",
    "nombre_exposed         89\n",
    "nombre_recovered    18621\n",
    "Name: 61, dtype: int64"
   ]
  },
  {
   "cell_type": "markdown",
   "id": "0503db22",
   "metadata": {},
   "source": [
    "nombre_infected       349\n",
    "nombre_sain           964\n",
    "nombre_exposed         86\n",
    "nombre_recovered    18601\n",
    "Name: 62, dtype: int64"
   ]
  },
  {
   "cell_type": "markdown",
   "id": "8bc08f5c",
   "metadata": {},
   "source": [
    "nombre_infected       338\n",
    "nombre_sain          1019\n",
    "nombre_exposed         79\n",
    "nombre_recovered    18564\n",
    "Name: 63, dtype: int64"
   ]
  },
  {
   "cell_type": "markdown",
   "id": "12f6e828",
   "metadata": {},
   "source": [
    "nombre_infected       310\n",
    "nombre_sain          1078\n",
    "nombre_exposed         82\n",
    "nombre_recovered    18530\n",
    "Name: 64, dtype: int64"
   ]
  },
  {
   "cell_type": "markdown",
   "id": "41cbb31f",
   "metadata": {},
   "source": [
    "nombre_infected       297\n",
    "nombre_sain          1128\n",
    "nombre_exposed         79\n",
    "nombre_recovered    18496\n",
    "Name: 65, dtype: int64"
   ]
  },
  {
   "cell_type": "markdown",
   "id": "613c444a",
   "metadata": {},
   "source": [
    "nombre_infected       284\n",
    "nombre_sain          1153\n",
    "nombre_exposed         83\n",
    "nombre_recovered    18480\n",
    "Name: 66, dtype: int64"
   ]
  },
  {
   "cell_type": "markdown",
   "id": "c0830ad7",
   "metadata": {},
   "source": [
    "nombre_infected       277\n",
    "nombre_sain          1216\n",
    "nombre_exposed         69\n",
    "nombre_recovered    18438\n",
    "Name: 67, dtype: int64"
   ]
  },
  {
   "cell_type": "markdown",
   "id": "c6b2da7e",
   "metadata": {},
   "source": [
    "nombre_infected       266\n",
    "nombre_sain          1243\n",
    "nombre_exposed         66\n",
    "nombre_recovered    18425\n",
    "Name: 68, dtype: int64"
   ]
  },
  {
   "cell_type": "markdown",
   "id": "f3f8b2c3",
   "metadata": {},
   "source": [
    "nombre_infected       259\n",
    "nombre_sain          1281\n",
    "nombre_exposed         70\n",
    "nombre_recovered    18390\n",
    "Name: 69, dtype: int64"
   ]
  },
  {
   "cell_type": "markdown",
   "id": "109505ae",
   "metadata": {},
   "source": [
    "nombre_infected       242\n",
    "nombre_sain          1315\n",
    "nombre_exposed         77\n",
    "nombre_recovered    18366\n",
    "Name: 70, dtype: int64"
   ]
  },
  {
   "cell_type": "markdown",
   "id": "2ea4408e",
   "metadata": {},
   "source": [
    "nombre_infected       221\n",
    "nombre_sain          1338\n",
    "nombre_exposed         88\n",
    "nombre_recovered    18353\n",
    "Name: 71, dtype: int64"
   ]
  },
  {
   "cell_type": "markdown",
   "id": "171080b6",
   "metadata": {},
   "source": [
    "nombre_infected       207\n",
    "nombre_sain          1372\n",
    "nombre_exposed         82\n",
    "nombre_recovered    18339\n",
    "Name: 72, dtype: int64"
   ]
  },
  {
   "cell_type": "markdown",
   "id": "1c4d80f9",
   "metadata": {},
   "source": [
    "nombre_infected       199\n",
    "nombre_sain          1426\n",
    "nombre_exposed         76\n",
    "nombre_recovered    18299\n",
    "Name: 73, dtype: int64"
   ]
  },
  {
   "cell_type": "markdown",
   "id": "47c5e0a5",
   "metadata": {},
   "source": [
    "nombre_infected       185\n",
    "nombre_sain          1447\n",
    "nombre_exposed         76\n",
    "nombre_recovered    18292\n",
    "Name: 74, dtype: int64"
   ]
  },
  {
   "cell_type": "markdown",
   "id": "9241a19d",
   "metadata": {},
   "source": [
    "nombre_infected       170\n",
    "nombre_sain          1481\n",
    "nombre_exposed         75\n",
    "nombre_recovered    18274\n",
    "Name: 75, dtype: int64"
   ]
  },
  {
   "cell_type": "markdown",
   "id": "173bde1a",
   "metadata": {},
   "source": [
    "nombre_infected       163\n",
    "nombre_sain          1505\n",
    "nombre_exposed         76\n",
    "nombre_recovered    18256\n",
    "Name: 76, dtype: int64"
   ]
  },
  {
   "cell_type": "markdown",
   "id": "b9a1e800",
   "metadata": {},
   "source": [
    "nombre_infected       159\n",
    "nombre_sain          1531\n",
    "nombre_exposed         69\n",
    "nombre_recovered    18241\n",
    "Name: 77, dtype: int64"
   ]
  },
  {
   "cell_type": "markdown",
   "id": "c889b20a",
   "metadata": {},
   "source": [
    "nombre_infected       149\n",
    "nombre_sain          1572\n",
    "nombre_exposed         69\n",
    "nombre_recovered    18210\n",
    "Name: 78, dtype: int64"
   ]
  },
  {
   "cell_type": "markdown",
   "id": "11493753",
   "metadata": {},
   "source": [
    "nombre_infected       136\n",
    "nombre_sain          1613\n",
    "nombre_exposed         72\n",
    "nombre_recovered    18179\n",
    "Name: 79, dtype: int64"
   ]
  },
  {
   "cell_type": "markdown",
   "id": "c2cf3184",
   "metadata": {},
   "source": [
    "nombre_infected       132\n",
    "nombre_sain          1660\n",
    "nombre_exposed         67\n",
    "nombre_recovered    18141\n",
    "Name: 80, dtype: int64"
   ]
  },
  {
   "cell_type": "markdown",
   "id": "82058d3f",
   "metadata": {},
   "source": [
    "nombre_infected       132\n",
    "nombre_sain          1694\n",
    "nombre_exposed         66\n",
    "nombre_recovered    18108\n",
    "Name: 81, dtype: int64"
   ]
  },
  {
   "cell_type": "markdown",
   "id": "bbed717d",
   "metadata": {},
   "source": [
    "nombre_infected       131\n",
    "nombre_sain          1754\n",
    "nombre_exposed         62\n",
    "nombre_recovered    18053\n",
    "Name: 82, dtype: int64"
   ]
  },
  {
   "cell_type": "markdown",
   "id": "dc88415a",
   "metadata": {},
   "source": [
    "nombre_infected       123\n",
    "nombre_sain          1798\n",
    "nombre_exposed         72\n",
    "nombre_recovered    18007\n",
    "Name: 83, dtype: int64"
   ]
  },
  {
   "cell_type": "markdown",
   "id": "156ceb35",
   "metadata": {},
   "source": [
    "nombre_infected       113\n",
    "nombre_sain          1847\n",
    "nombre_exposed         73\n",
    "nombre_recovered    17967\n",
    "Name: 84, dtype: int64"
   ]
  },
  {
   "cell_type": "markdown",
   "id": "c1b80bde",
   "metadata": {},
   "source": [
    "nombre_infected       113\n",
    "nombre_sain          1899\n",
    "nombre_exposed         74\n",
    "nombre_recovered    17914\n",
    "Name: 85, dtype: int64"
   ]
  },
  {
   "cell_type": "markdown",
   "id": "eab5fa83",
   "metadata": {},
   "source": [
    "nombre_infected       122\n",
    "nombre_sain          1951\n",
    "nombre_exposed         76\n",
    "nombre_recovered    17851\n",
    "Name: 86, dtype: int64"
   ]
  },
  {
   "cell_type": "markdown",
   "id": "bee56a96",
   "metadata": {},
   "source": [
    "nombre_infected       120\n",
    "nombre_sain          2011\n",
    "nombre_exposed         71\n",
    "nombre_recovered    17798\n",
    "Name: 87, dtype: int64"
   ]
  },
  {
   "cell_type": "markdown",
   "id": "1e7d4258",
   "metadata": {},
   "source": [
    "nombre_infected       128\n",
    "nombre_sain          2084\n",
    "nombre_exposed         68\n",
    "nombre_recovered    17720\n",
    "Name: 88, dtype: int64"
   ]
  },
  {
   "cell_type": "markdown",
   "id": "f2d87b6e",
   "metadata": {},
   "source": [
    "nombre_infected       125\n",
    "nombre_sain          2147\n",
    "nombre_exposed         72\n",
    "nombre_recovered    17656\n",
    "Name: 89, dtype: int64"
   ]
  },
  {
   "cell_type": "markdown",
   "id": "972ae77a",
   "metadata": {},
   "source": [
    "nombre_infected       126\n",
    "nombre_sain          2205\n",
    "nombre_exposed         71\n",
    "nombre_recovered    17598\n",
    "Name: 90, dtype: int64"
   ]
  },
  {
   "cell_type": "markdown",
   "id": "55a68cb1",
   "metadata": {},
   "source": [
    "nombre_infected       125\n",
    "nombre_sain          2278\n",
    "nombre_exposed         73\n",
    "nombre_recovered    17524\n",
    "Name: 91, dtype: int64"
   ]
  },
  {
   "cell_type": "markdown",
   "id": "f51e8f20",
   "metadata": {},
   "source": [
    "nombre_infected       128\n",
    "nombre_sain          2349\n",
    "nombre_exposed         72\n",
    "nombre_recovered    17451\n",
    "Name: 92, dtype: int64"
   ]
  },
  {
   "cell_type": "markdown",
   "id": "dfae16d6",
   "metadata": {},
   "source": [
    "nombre_infected       123\n",
    "nombre_sain          2417\n",
    "nombre_exposed         72\n",
    "nombre_recovered    17388\n",
    "Name: 93, dtype: int64"
   ]
  },
  {
   "cell_type": "markdown",
   "id": "ce1384a1",
   "metadata": {},
   "source": [
    "nombre_infected       124\n",
    "nombre_sain          2470\n",
    "nombre_exposed         70\n",
    "nombre_recovered    17336\n",
    "Name: 94, dtype: int64"
   ]
  },
  {
   "cell_type": "markdown",
   "id": "ff8e4898",
   "metadata": {},
   "source": [
    "nombre_infected       122\n",
    "nombre_sain          2544\n",
    "nombre_exposed         66\n",
    "nombre_recovered    17268\n",
    "Name: 95, dtype: int64"
   ]
  },
  {
   "cell_type": "markdown",
   "id": "4486e79b",
   "metadata": {},
   "source": [
    "nombre_infected       129\n",
    "nombre_sain          2572\n",
    "nombre_exposed         74\n",
    "nombre_recovered    17225\n",
    "Name: 96, dtype: int64"
   ]
  },
  {
   "cell_type": "markdown",
   "id": "c9291689",
   "metadata": {},
   "source": [
    "nombre_infected       126\n",
    "nombre_sain          2635\n",
    "nombre_exposed         81\n",
    "nombre_recovered    17158\n",
    "Name: 97, dtype: int64"
   ]
  },
  {
   "cell_type": "markdown",
   "id": "73f4d4cb",
   "metadata": {},
   "source": [
    "nombre_infected       122\n",
    "nombre_sain          2682\n",
    "nombre_exposed         72\n",
    "nombre_recovered    17124\n",
    "Name: 98, dtype: int64"
   ]
  },
  {
   "cell_type": "markdown",
   "id": "c7da8958",
   "metadata": {},
   "source": [
    "nombre_infected       118\n",
    "nombre_sain          2724\n",
    "nombre_exposed         75\n",
    "nombre_recovered    17083\n",
    "Name: 99, dtype: int64"
   ]
  },
  {
   "cell_type": "markdown",
   "id": "bf8ca2f0",
   "metadata": {},
   "source": [
    "nombre_infected       119\n",
    "nombre_sain          2774\n",
    "nombre_exposed         80\n",
    "nombre_recovered    17027\n",
    "Name: 100, dtype: int64"
   ]
  },
  {
   "cell_type": "markdown",
   "id": "2d487774",
   "metadata": {},
   "source": [
    "nombre_infected       121\n",
    "nombre_sain          2817\n",
    "nombre_exposed         75\n",
    "nombre_recovered    16987\n",
    "Name: 101, dtype: int64"
   ]
  },
  {
   "cell_type": "markdown",
   "id": "8d29bba1",
   "metadata": {},
   "source": [
    "nombre_infected       121\n",
    "nombre_sain          2851\n",
    "nombre_exposed         90\n",
    "nombre_recovered    16938\n",
    "Name: 102, dtype: int64"
   ]
  },
  {
   "cell_type": "markdown",
   "id": "db74738b",
   "metadata": {},
   "source": [
    "nombre_infected       125\n",
    "nombre_sain          2889\n",
    "nombre_exposed         88\n",
    "nombre_recovered    16898\n",
    "Name: 103, dtype: int64"
   ]
  },
  {
   "cell_type": "markdown",
   "id": "80473217",
   "metadata": {},
   "source": [
    "nombre_infected       125\n",
    "nombre_sain          2929\n",
    "nombre_exposed         93\n",
    "nombre_recovered    16853\n",
    "Name: 104, dtype: int64"
   ]
  },
  {
   "cell_type": "markdown",
   "id": "c4bfff27",
   "metadata": {},
   "source": [
    "nombre_infected       126\n",
    "nombre_sain          2958\n",
    "nombre_exposed        102\n",
    "nombre_recovered    16814\n",
    "Name: 105, dtype: int64"
   ]
  },
  {
   "cell_type": "markdown",
   "id": "a7844987",
   "metadata": {},
   "source": [
    "nombre_infected       138\n",
    "nombre_sain          2988\n",
    "nombre_exposed        104\n",
    "nombre_recovered    16770\n",
    "Name: 106, dtype: int64"
   ]
  },
  {
   "cell_type": "markdown",
   "id": "5727874d",
   "metadata": {},
   "source": [
    "nombre_infected       151\n",
    "nombre_sain          3021\n",
    "nombre_exposed         98\n",
    "nombre_recovered    16730\n",
    "Name: 107, dtype: int64"
   ]
  },
  {
   "cell_type": "markdown",
   "id": "b23dde96",
   "metadata": {},
   "source": [
    "nombre_infected       152\n",
    "nombre_sain          3035\n",
    "nombre_exposed        104\n",
    "nombre_recovered    16709\n",
    "Name: 108, dtype: int64"
   ]
  },
  {
   "cell_type": "markdown",
   "id": "b58c6b76",
   "metadata": {},
   "source": [
    "nombre_infected       158\n",
    "nombre_sain          3065\n",
    "nombre_exposed         97\n",
    "nombre_recovered    16680\n",
    "Name: 109, dtype: int64"
   ]
  },
  {
   "cell_type": "markdown",
   "id": "d86b9752",
   "metadata": {},
   "source": [
    "nombre_infected       148\n",
    "nombre_sain          3081\n",
    "nombre_exposed        115\n",
    "nombre_recovered    16656\n",
    "Name: 110, dtype: int64"
   ]
  },
  {
   "cell_type": "markdown",
   "id": "208b54fe",
   "metadata": {},
   "source": [
    "nombre_infected       155\n",
    "nombre_sain          3111\n",
    "nombre_exposed        118\n",
    "nombre_recovered    16616\n",
    "Name: 111, dtype: int64"
   ]
  },
  {
   "cell_type": "markdown",
   "id": "0dcd7bf6",
   "metadata": {},
   "source": [
    "nombre_infected       166\n",
    "nombre_sain          3142\n",
    "nombre_exposed        113\n",
    "nombre_recovered    16579\n",
    "Name: 112, dtype: int64"
   ]
  },
  {
   "cell_type": "markdown",
   "id": "69bd01f0",
   "metadata": {},
   "source": [
    "nombre_infected       174\n",
    "nombre_sain          3158\n",
    "nombre_exposed        125\n",
    "nombre_recovered    16543\n",
    "Name: 113, dtype: int64"
   ]
  },
  {
   "cell_type": "markdown",
   "id": "e78b5afc",
   "metadata": {},
   "source": [
    "nombre_infected       179\n",
    "nombre_sain          3170\n",
    "nombre_exposed        143\n",
    "nombre_recovered    16508\n",
    "Name: 114, dtype: int64"
   ]
  },
  {
   "cell_type": "markdown",
   "id": "59ff5738",
   "metadata": {},
   "source": [
    "nombre_infected       180\n",
    "nombre_sain          3185\n",
    "nombre_exposed        164\n",
    "nombre_recovered    16471\n",
    "Name: 115, dtype: int64"
   ]
  },
  {
   "cell_type": "markdown",
   "id": "080fbba7",
   "metadata": {},
   "source": [
    "nombre_infected       192\n",
    "nombre_sain          3191\n",
    "nombre_exposed        177\n",
    "nombre_recovered    16440\n",
    "Name: 116, dtype: int64"
   ]
  },
  {
   "cell_type": "markdown",
   "id": "1fe71711",
   "metadata": {},
   "source": [
    "nombre_infected       213\n",
    "nombre_sain          3204\n",
    "nombre_exposed        175\n",
    "nombre_recovered    16408\n",
    "Name: 117, dtype: int64"
   ]
  },
  {
   "cell_type": "markdown",
   "id": "b58ac73c",
   "metadata": {},
   "source": [
    "nombre_infected       221\n",
    "nombre_sain          3221\n",
    "nombre_exposed        184\n",
    "nombre_recovered    16374\n",
    "Name: 118, dtype: int64"
   ]
  },
  {
   "cell_type": "markdown",
   "id": "40af9449",
   "metadata": {},
   "source": [
    "nombre_infected       230\n",
    "nombre_sain          3246\n",
    "nombre_exposed        190\n",
    "nombre_recovered    16334\n",
    "Name: 119, dtype: int64"
   ]
  },
  {
   "cell_type": "markdown",
   "id": "f1aae945",
   "metadata": {},
   "source": [
    "nombre_infected       240\n",
    "nombre_sain          3284\n",
    "nombre_exposed        198\n",
    "nombre_recovered    16278\n",
    "Name: 120, dtype: int64"
   ]
  },
  {
   "cell_type": "markdown",
   "id": "51330c84",
   "metadata": {},
   "source": [
    "nombre_infected       247\n",
    "nombre_sain          3311\n",
    "nombre_exposed        211\n",
    "nombre_recovered    16231\n",
    "Name: 121, dtype: int64"
   ]
  },
  {
   "cell_type": "markdown",
   "id": "0037e80c",
   "metadata": {},
   "source": [
    "nombre_infected       268\n",
    "nombre_sain          3339\n",
    "nombre_exposed        212\n",
    "nombre_recovered    16181\n",
    "Name: 122, dtype: int64"
   ]
  },
  {
   "cell_type": "markdown",
   "id": "27bd6f12",
   "metadata": {},
   "source": [
    "nombre_infected       287\n",
    "nombre_sain          3347\n",
    "nombre_exposed        210\n",
    "nombre_recovered    16156\n",
    "Name: 123, dtype: int64"
   ]
  },
  {
   "cell_type": "markdown",
   "id": "38fd095a",
   "metadata": {},
   "source": [
    "nombre_infected       289\n",
    "nombre_sain          3363\n",
    "nombre_exposed        228\n",
    "nombre_recovered    16120\n",
    "Name: 124, dtype: int64"
   ]
  },
  {
   "cell_type": "markdown",
   "id": "2a9fb72b",
   "metadata": {},
   "source": [
    "nombre_infected       304\n",
    "nombre_sain          3338\n",
    "nombre_exposed        260\n",
    "nombre_recovered    16098\n",
    "Name: 125, dtype: int64"
   ]
  },
  {
   "cell_type": "markdown",
   "id": "655edd09",
   "metadata": {},
   "source": [
    "nombre_infected       319\n",
    "nombre_sain          3355\n",
    "nombre_exposed        258\n",
    "nombre_recovered    16068\n",
    "Name: 126, dtype: int64"
   ]
  },
  {
   "cell_type": "markdown",
   "id": "27595a41",
   "metadata": {},
   "source": [
    "nombre_infected       345\n",
    "nombre_sain          3355\n",
    "nombre_exposed        259\n",
    "nombre_recovered    16041\n",
    "Name: 127, dtype: int64"
   ]
  },
  {
   "cell_type": "markdown",
   "id": "ea4d988f",
   "metadata": {},
   "source": [
    "nombre_infected       363\n",
    "nombre_sain          3348\n",
    "nombre_exposed        280\n",
    "nombre_recovered    16009\n",
    "Name: 128, dtype: int64"
   ]
  },
  {
   "cell_type": "markdown",
   "id": "a4926de4",
   "metadata": {},
   "source": [
    "nombre_infected       394\n",
    "nombre_sain          3338\n",
    "nombre_exposed        288\n",
    "nombre_recovered    15980\n",
    "Name: 129, dtype: int64"
   ]
  },
  {
   "cell_type": "markdown",
   "id": "8ec75ce1",
   "metadata": {},
   "source": [
    "nombre_infected       393\n",
    "nombre_sain          3321\n",
    "nombre_exposed        314\n",
    "nombre_recovered    15972\n",
    "Name: 130, dtype: int64"
   ]
  },
  {
   "cell_type": "markdown",
   "id": "73f40b64",
   "metadata": {},
   "source": [
    "nombre_infected       402\n",
    "nombre_sain          3274\n",
    "nombre_exposed        353\n",
    "nombre_recovered    15971\n",
    "Name: 131, dtype: int64"
   ]
  },
  {
   "cell_type": "markdown",
   "id": "34520a88",
   "metadata": {},
   "source": [
    "nombre_infected       441\n",
    "nombre_sain          3272\n",
    "nombre_exposed        343\n",
    "nombre_recovered    15944\n",
    "Name: 132, dtype: int64"
   ]
  },
  {
   "cell_type": "markdown",
   "id": "51c1fc16",
   "metadata": {},
   "source": [
    "nombre_infected       456\n",
    "nombre_sain          3258\n",
    "nombre_exposed        349\n",
    "nombre_recovered    15937\n",
    "Name: 133, dtype: int64"
   ]
  },
  {
   "cell_type": "markdown",
   "id": "22831847",
   "metadata": {},
   "source": [
    "nombre_infected       482\n",
    "nombre_sain          3225\n",
    "nombre_exposed        359\n",
    "nombre_recovered    15934\n",
    "Name: 134, dtype: int64"
   ]
  },
  {
   "cell_type": "markdown",
   "id": "0883fd53",
   "metadata": {},
   "source": [
    "nombre_infected       501\n",
    "nombre_sain          3193\n",
    "nombre_exposed        381\n",
    "nombre_recovered    15925\n",
    "Name: 135, dtype: int64"
   ]
  },
  {
   "cell_type": "markdown",
   "id": "4d4741b7",
   "metadata": {},
   "source": [
    "nombre_infected       520\n",
    "nombre_sain          3168\n",
    "nombre_exposed        390\n",
    "nombre_recovered    15922\n",
    "Name: 136, dtype: int64"
   ]
  },
  {
   "cell_type": "markdown",
   "id": "a04979d9",
   "metadata": {},
   "source": [
    "nombre_infected       556\n",
    "nombre_sain          3123\n",
    "nombre_exposed        417\n",
    "nombre_recovered    15904\n",
    "Name: 137, dtype: int64"
   ]
  },
  {
   "cell_type": "markdown",
   "id": "4b1f14c5",
   "metadata": {},
   "source": [
    "nombre_infected       586\n",
    "nombre_sain          3082\n",
    "nombre_exposed        441\n",
    "nombre_recovered    15891\n",
    "Name: 138, dtype: int64"
   ]
  },
  {
   "cell_type": "markdown",
   "id": "b0974801",
   "metadata": {},
   "source": [
    "nombre_infected       605\n",
    "nombre_sain          3027\n",
    "nombre_exposed        466\n",
    "nombre_recovered    15902\n",
    "Name: 139, dtype: int64"
   ]
  },
  {
   "cell_type": "markdown",
   "id": "27ca1b59",
   "metadata": {},
   "source": [
    "nombre_infected       665\n",
    "nombre_sain          2995\n",
    "nombre_exposed        458\n",
    "nombre_recovered    15882\n",
    "Name: 140, dtype: int64"
   ]
  },
  {
   "cell_type": "markdown",
   "id": "ef73d473",
   "metadata": {},
   "source": [
    "nombre_infected       691\n",
    "nombre_sain          2948\n",
    "nombre_exposed        488\n",
    "nombre_recovered    15873\n",
    "Name: 141, dtype: int64"
   ]
  },
  {
   "cell_type": "markdown",
   "id": "f4c6913f",
   "metadata": {},
   "source": [
    "nombre_infected       716\n",
    "nombre_sain          2877\n",
    "nombre_exposed        531\n",
    "nombre_recovered    15876\n",
    "Name: 142, dtype: int64"
   ]
  },
  {
   "cell_type": "markdown",
   "id": "e43540cb",
   "metadata": {},
   "source": [
    "nombre_infected       733\n",
    "nombre_sain          2797\n",
    "nombre_exposed        577\n",
    "nombre_recovered    15893\n",
    "Name: 143, dtype: int64"
   ]
  },
  {
   "cell_type": "markdown",
   "id": "f7dcfb1a",
   "metadata": {},
   "source": [
    "nombre_infected       763\n",
    "nombre_sain          2745\n",
    "nombre_exposed        610\n",
    "nombre_recovered    15882\n",
    "Name: 144, dtype: int64"
   ]
  },
  {
   "cell_type": "markdown",
   "id": "b8b41791",
   "metadata": {},
   "source": [
    "nombre_infected       796\n",
    "nombre_sain          2680\n",
    "nombre_exposed        611\n",
    "nombre_recovered    15913\n",
    "Name: 145, dtype: int64"
   ]
  },
  {
   "cell_type": "markdown",
   "id": "8188f6f2",
   "metadata": {},
   "source": [
    "nombre_infected       835\n",
    "nombre_sain          2633\n",
    "nombre_exposed        608\n",
    "nombre_recovered    15924\n",
    "Name: 146, dtype: int64"
   ]
  },
  {
   "cell_type": "markdown",
   "id": "d6145f45",
   "metadata": {},
   "source": [
    "nombre_infected       899\n",
    "nombre_sain          2580\n",
    "nombre_exposed        585\n",
    "nombre_recovered    15936\n",
    "Name: 147, dtype: int64"
   ]
  },
  {
   "cell_type": "markdown",
   "id": "74079e2a",
   "metadata": {},
   "source": [
    "nombre_infected       934\n",
    "nombre_sain          2510\n",
    "nombre_exposed        610\n",
    "nombre_recovered    15946\n",
    "Name: 148, dtype: int64"
   ]
  },
  {
   "cell_type": "markdown",
   "id": "f702388f",
   "metadata": {},
   "source": [
    "nombre_infected       950\n",
    "nombre_sain          2438\n",
    "nombre_exposed        632\n",
    "nombre_recovered    15980\n",
    "Name: 149, dtype: int64"
   ]
  },
  {
   "cell_type": "markdown",
   "id": "a1537d8f",
   "metadata": {},
   "source": [
    "nombre_infected       965\n",
    "nombre_sain          2382\n",
    "nombre_exposed        625\n",
    "nombre_recovered    16028\n",
    "Name: 150, dtype: int64"
   ]
  },
  {
   "cell_type": "markdown",
   "id": "b2aa9edc",
   "metadata": {},
   "source": [
    "nombre_infected       995\n",
    "nombre_sain          2327\n",
    "nombre_exposed        628\n",
    "nombre_recovered    16050\n",
    "Name: 151, dtype: int64"
   ]
  },
  {
   "cell_type": "markdown",
   "id": "7905ae48",
   "metadata": {},
   "source": [
    "nombre_infected      1012\n",
    "nombre_sain          2282\n",
    "nombre_exposed        622\n",
    "nombre_recovered    16084\n",
    "Name: 152, dtype: int64"
   ]
  },
  {
   "cell_type": "markdown",
   "id": "9cd5097d",
   "metadata": {},
   "source": [
    "nombre_infected      1007\n",
    "nombre_sain          2218\n",
    "nombre_exposed        654\n",
    "nombre_recovered    16121\n",
    "Name: 153, dtype: int64"
   ]
  },
  {
   "cell_type": "markdown",
   "id": "8e605afb",
   "metadata": {},
   "source": [
    "nombre_infected      1046\n",
    "nombre_sain          2129\n",
    "nombre_exposed        661\n",
    "nombre_recovered    16164\n",
    "Name: 154, dtype: int64"
   ]
  },
  {
   "cell_type": "markdown",
   "id": "c2fd70b7",
   "metadata": {},
   "source": [
    "nombre_infected      1071\n",
    "nombre_sain          2069\n",
    "nombre_exposed        656\n",
    "nombre_recovered    16204\n",
    "Name: 155, dtype: int64"
   ]
  },
  {
   "cell_type": "markdown",
   "id": "2d7854a4",
   "metadata": {},
   "source": [
    "nombre_infected      1107\n",
    "nombre_sain          2007\n",
    "nombre_exposed        631\n",
    "nombre_recovered    16255\n",
    "Name: 156, dtype: int64"
   ]
  },
  {
   "cell_type": "markdown",
   "id": "64271b35",
   "metadata": {},
   "source": [
    "nombre_infected      1104\n",
    "nombre_sain          1947\n",
    "nombre_exposed        622\n",
    "nombre_recovered    16327\n",
    "Name: 157, dtype: int64"
   ]
  },
  {
   "cell_type": "markdown",
   "id": "64d1d556",
   "metadata": {},
   "source": [
    "nombre_infected      1133\n",
    "nombre_sain          1890\n",
    "nombre_exposed        620\n",
    "nombre_recovered    16357\n",
    "Name: 158, dtype: int64"
   ]
  },
  {
   "cell_type": "markdown",
   "id": "fd89148b",
   "metadata": {},
   "source": [
    "nombre_infected      1144\n",
    "nombre_sain          1836\n",
    "nombre_exposed        610\n",
    "nombre_recovered    16410\n",
    "Name: 159, dtype: int64"
   ]
  },
  {
   "cell_type": "markdown",
   "id": "e4d8a050",
   "metadata": {},
   "source": [
    "nombre_infected      1146\n",
    "nombre_sain          1787\n",
    "nombre_exposed        584\n",
    "nombre_recovered    16483\n",
    "Name: 160, dtype: int64"
   ]
  },
  {
   "cell_type": "markdown",
   "id": "1839e246",
   "metadata": {},
   "source": [
    "nombre_infected      1130\n",
    "nombre_sain          1730\n",
    "nombre_exposed        586\n",
    "nombre_recovered    16554\n",
    "Name: 161, dtype: int64"
   ]
  },
  {
   "cell_type": "markdown",
   "id": "551ff2aa",
   "metadata": {},
   "source": [
    "nombre_infected      1093\n",
    "nombre_sain          1716\n",
    "nombre_exposed        561\n",
    "nombre_recovered    16630\n",
    "Name: 162, dtype: int64"
   ]
  },
  {
   "cell_type": "markdown",
   "id": "dcb11e52",
   "metadata": {},
   "source": [
    "nombre_infected      1087\n",
    "nombre_sain          1709\n",
    "nombre_exposed        541\n",
    "nombre_recovered    16663\n",
    "Name: 163, dtype: int64"
   ]
  },
  {
   "cell_type": "markdown",
   "id": "7ed0a50b",
   "metadata": {},
   "source": [
    "nombre_infected      1089\n",
    "nombre_sain          1688\n",
    "nombre_exposed        511\n",
    "nombre_recovered    16712\n",
    "Name: 164, dtype: int64"
   ]
  },
  {
   "cell_type": "markdown",
   "id": "af8da385",
   "metadata": {},
   "source": [
    "nombre_infected      1056\n",
    "nombre_sain          1668\n",
    "nombre_exposed        518\n",
    "nombre_recovered    16758\n",
    "Name: 165, dtype: int64"
   ]
  },
  {
   "cell_type": "markdown",
   "id": "3df1ad12",
   "metadata": {},
   "source": [
    "nombre_infected      1057\n",
    "nombre_sain          1653\n",
    "nombre_exposed        499\n",
    "nombre_recovered    16791\n",
    "Name: 166, dtype: int64"
   ]
  },
  {
   "cell_type": "markdown",
   "id": "6ec6afa6",
   "metadata": {},
   "source": [
    "nombre_infected      1039\n",
    "nombre_sain          1668\n",
    "nombre_exposed        478\n",
    "nombre_recovered    16815\n",
    "Name: 167, dtype: int64"
   ]
  },
  {
   "cell_type": "markdown",
   "id": "f9ae5de0",
   "metadata": {},
   "source": [
    "nombre_infected      1013\n",
    "nombre_sain          1684\n",
    "nombre_exposed        454\n",
    "nombre_recovered    16849\n",
    "Name: 168, dtype: int64"
   ]
  },
  {
   "cell_type": "markdown",
   "id": "53280c7c",
   "metadata": {},
   "source": [
    "nombre_infected       951\n",
    "nombre_sain          1701\n",
    "nombre_exposed        469\n",
    "nombre_recovered    16879\n",
    "Name: 169, dtype: int64"
   ]
  },
  {
   "cell_type": "markdown",
   "id": "4a824359",
   "metadata": {},
   "source": [
    "nombre_infected       940\n",
    "nombre_sain          1705\n",
    "nombre_exposed        460\n",
    "nombre_recovered    16895\n",
    "Name: 170, dtype: int64"
   ]
  },
  {
   "cell_type": "markdown",
   "id": "31e7fc17",
   "metadata": {},
   "source": [
    "nombre_infected       909\n",
    "nombre_sain          1707\n",
    "nombre_exposed        469\n",
    "nombre_recovered    16915\n",
    "Name: 171, dtype: int64"
   ]
  },
  {
   "cell_type": "markdown",
   "id": "135da1bc",
   "metadata": {},
   "source": [
    "nombre_infected       901\n",
    "nombre_sain          1723\n",
    "nombre_exposed        460\n",
    "nombre_recovered    16916\n",
    "Name: 172, dtype: int64"
   ]
  },
  {
   "cell_type": "markdown",
   "id": "3ea24c9a",
   "metadata": {},
   "source": [
    "nombre_infected       878\n",
    "nombre_sain          1748\n",
    "nombre_exposed        449\n",
    "nombre_recovered    16925\n",
    "Name: 173, dtype: int64"
   ]
  },
  {
   "cell_type": "markdown",
   "id": "8847ab6e",
   "metadata": {},
   "source": [
    "nombre_infected       877\n",
    "nombre_sain          1770\n",
    "nombre_exposed        439\n",
    "nombre_recovered    16914\n",
    "Name: 174, dtype: int64"
   ]
  },
  {
   "cell_type": "markdown",
   "id": "2aebf10c",
   "metadata": {},
   "source": [
    "nombre_infected       875\n",
    "nombre_sain          1776\n",
    "nombre_exposed        443\n",
    "nombre_recovered    16906\n",
    "Name: 175, dtype: int64"
   ]
  },
  {
   "cell_type": "markdown",
   "id": "7b3953e4",
   "metadata": {},
   "source": [
    "nombre_infected       859\n",
    "nombre_sain          1780\n",
    "nombre_exposed        432\n",
    "nombre_recovered    16929\n",
    "Name: 176, dtype: int64"
   ]
  },
  {
   "cell_type": "markdown",
   "id": "4498d9a2",
   "metadata": {},
   "source": [
    "nombre_infected       856\n",
    "nombre_sain          1786\n",
    "nombre_exposed        413\n",
    "nombre_recovered    16945\n",
    "Name: 177, dtype: int64"
   ]
  },
  {
   "cell_type": "markdown",
   "id": "8267dfb5",
   "metadata": {},
   "source": [
    "nombre_infected       826\n",
    "nombre_sain          1813\n",
    "nombre_exposed        406\n",
    "nombre_recovered    16955\n",
    "Name: 178, dtype: int64"
   ]
  },
  {
   "cell_type": "markdown",
   "id": "a407defa",
   "metadata": {},
   "source": [
    "nombre_infected       814\n",
    "nombre_sain          1837\n",
    "nombre_exposed        386\n",
    "nombre_recovered    16963\n",
    "Name: 179, dtype: int64"
   ]
  },
  {
   "cell_type": "markdown",
   "id": "2a0c9ecd",
   "metadata": {},
   "source": [
    "nombre_infected       790\n",
    "nombre_sain          1832\n",
    "nombre_exposed        398\n",
    "nombre_recovered    16980\n",
    "Name: 180, dtype: int64"
   ]
  },
  {
   "cell_type": "markdown",
   "id": "4ad096df",
   "metadata": {},
   "source": [
    "nombre_infected       765\n",
    "nombre_sain          1853\n",
    "nombre_exposed        393\n",
    "nombre_recovered    16989\n",
    "Name: 181, dtype: int64"
   ]
  },
  {
   "cell_type": "markdown",
   "id": "bcf8e07d",
   "metadata": {},
   "source": [
    "nombre_infected       768\n",
    "nombre_sain          1862\n",
    "nombre_exposed        390\n",
    "nombre_recovered    16980\n",
    "Name: 182, dtype: int64"
   ]
  },
  {
   "cell_type": "markdown",
   "id": "51f8bfd1",
   "metadata": {},
   "source": [
    "nombre_infected       747\n",
    "nombre_sain          1850\n",
    "nombre_exposed        405\n",
    "nombre_recovered    16998\n",
    "Name: 183, dtype: int64"
   ]
  },
  {
   "cell_type": "markdown",
   "id": "f8db05fe",
   "metadata": {},
   "source": [
    "nombre_infected       744\n",
    "nombre_sain          1880\n",
    "nombre_exposed        393\n",
    "nombre_recovered    16983\n",
    "Name: 184, dtype: int64"
   ]
  },
  {
   "cell_type": "markdown",
   "id": "5fa3e461",
   "metadata": {},
   "source": [
    "nombre_infected       733\n",
    "nombre_sain          1871\n",
    "nombre_exposed        388\n",
    "nombre_recovered    17008\n",
    "Name: 185, dtype: int64"
   ]
  },
  {
   "cell_type": "markdown",
   "id": "2dc46c30",
   "metadata": {},
   "source": [
    "nombre_infected       709\n",
    "nombre_sain          1853\n",
    "nombre_exposed        405\n",
    "nombre_recovered    17033\n",
    "Name: 186, dtype: int64"
   ]
  },
  {
   "cell_type": "markdown",
   "id": "816d2fa8",
   "metadata": {},
   "source": [
    "nombre_infected       699\n",
    "nombre_sain          1848\n",
    "nombre_exposed        395\n",
    "nombre_recovered    17058\n",
    "Name: 187, dtype: int64"
   ]
  },
  {
   "cell_type": "markdown",
   "id": "9c5fc462",
   "metadata": {},
   "source": [
    "nombre_infected       701\n",
    "nombre_sain          1842\n",
    "nombre_exposed        399\n",
    "nombre_recovered    17058\n",
    "Name: 188, dtype: int64"
   ]
  },
  {
   "cell_type": "markdown",
   "id": "560b499a",
   "metadata": {},
   "source": [
    "nombre_infected       685\n",
    "nombre_sain          1839\n",
    "nombre_exposed        401\n",
    "nombre_recovered    17075\n",
    "Name: 189, dtype: int64"
   ]
  },
  {
   "cell_type": "markdown",
   "id": "760900de",
   "metadata": {},
   "source": [
    "nombre_infected       670\n",
    "nombre_sain          1832\n",
    "nombre_exposed        390\n",
    "nombre_recovered    17108\n",
    "Name: 190, dtype: int64"
   ]
  },
  {
   "cell_type": "markdown",
   "id": "78206e4a",
   "metadata": {},
   "source": [
    "nombre_infected       668\n",
    "nombre_sain          1831\n",
    "nombre_exposed        360\n",
    "nombre_recovered    17141\n",
    "Name: 191, dtype: int64"
   ]
  },
  {
   "cell_type": "markdown",
   "id": "4cf24eb8",
   "metadata": {},
   "source": [
    "nombre_infected       668\n",
    "nombre_sain          1822\n",
    "nombre_exposed        357\n",
    "nombre_recovered    17153\n",
    "Name: 192, dtype: int64"
   ]
  },
  {
   "cell_type": "markdown",
   "id": "37b0ac42",
   "metadata": {},
   "source": [
    "nombre_infected       660\n",
    "nombre_sain          1825\n",
    "nombre_exposed        366\n",
    "nombre_recovered    17149\n",
    "Name: 193, dtype: int64"
   ]
  },
  {
   "cell_type": "markdown",
   "id": "b917a4bc",
   "metadata": {},
   "source": [
    "nombre_infected       663\n",
    "nombre_sain          1850\n",
    "nombre_exposed        343\n",
    "nombre_recovered    17144\n",
    "Name: 194, dtype: int64"
   ]
  },
  {
   "cell_type": "markdown",
   "id": "e74ed1c1",
   "metadata": {},
   "source": [
    "nombre_infected       645\n",
    "nombre_sain          1852\n",
    "nombre_exposed        365\n",
    "nombre_recovered    17138\n",
    "Name: 195, dtype: int64"
   ]
  },
  {
   "cell_type": "markdown",
   "id": "a43f5320",
   "metadata": {},
   "source": [
    "nombre_infected       616\n",
    "nombre_sain          1872\n",
    "nombre_exposed        357\n",
    "nombre_recovered    17155\n",
    "Name: 196, dtype: int64"
   ]
  },
  {
   "cell_type": "markdown",
   "id": "86ddd464",
   "metadata": {},
   "source": [
    "nombre_infected       612\n",
    "nombre_sain          1914\n",
    "nombre_exposed        366\n",
    "nombre_recovered    17108\n",
    "Name: 197, dtype: int64"
   ]
  },
  {
   "cell_type": "markdown",
   "id": "726da2e8",
   "metadata": {},
   "source": [
    "nombre_infected       601\n",
    "nombre_sain          1933\n",
    "nombre_exposed        373\n",
    "nombre_recovered    17093\n",
    "Name: 198, dtype: int64"
   ]
  },
  {
   "cell_type": "markdown",
   "id": "65ba599d",
   "metadata": {},
   "source": [
    "nombre_infected       621\n",
    "nombre_sain          1964\n",
    "nombre_exposed        361\n",
    "nombre_recovered    17054\n",
    "Name: 199, dtype: int64"
   ]
  },
  {
   "cell_type": "markdown",
   "id": "f723bb7a",
   "metadata": {},
   "source": [
    "nombre_infected       624\n",
    "nombre_sain          2006\n",
    "nombre_exposed        356\n",
    "nombre_recovered    17014\n",
    "Name: 200, dtype: int64"
   ]
  },
  {
   "cell_type": "markdown",
   "id": "8f2b59e7",
   "metadata": {},
   "source": [
    "nombre_infected       610\n",
    "nombre_sain          2053\n",
    "nombre_exposed        341\n",
    "nombre_recovered    16996\n",
    "Name: 201, dtype: int64"
   ]
  },
  {
   "cell_type": "markdown",
   "id": "ac431743",
   "metadata": {},
   "source": [
    "nombre_infected       608\n",
    "nombre_sain          2090\n",
    "nombre_exposed        335\n",
    "nombre_recovered    16967\n",
    "Name: 202, dtype: int64"
   ]
  },
  {
   "cell_type": "markdown",
   "id": "a7c5fe29",
   "metadata": {},
   "source": [
    "nombre_infected       602\n",
    "nombre_sain          2099\n",
    "nombre_exposed        346\n",
    "nombre_recovered    16953\n",
    "Name: 203, dtype: int64"
   ]
  },
  {
   "cell_type": "markdown",
   "id": "1b4928a2",
   "metadata": {},
   "source": [
    "nombre_infected       603\n",
    "nombre_sain          2148\n",
    "nombre_exposed        334\n",
    "nombre_recovered    16915\n",
    "Name: 204, dtype: int64"
   ]
  },
  {
   "cell_type": "markdown",
   "id": "3b81ead1",
   "metadata": {},
   "source": [
    "nombre_infected       612\n",
    "nombre_sain          2201\n",
    "nombre_exposed        329\n",
    "nombre_recovered    16858\n",
    "Name: 205, dtype: int64"
   ]
  },
  {
   "cell_type": "markdown",
   "id": "b32fa641",
   "metadata": {},
   "source": [
    "nombre_infected       605\n",
    "nombre_sain          2253\n",
    "nombre_exposed        344\n",
    "nombre_recovered    16798\n",
    "Name: 206, dtype: int64"
   ]
  },
  {
   "cell_type": "markdown",
   "id": "7520a45e",
   "metadata": {},
   "source": [
    "nombre_infected       603\n",
    "nombre_sain          2299\n",
    "nombre_exposed        360\n",
    "nombre_recovered    16738\n",
    "Name: 207, dtype: int64"
   ]
  },
  {
   "cell_type": "markdown",
   "id": "0088785f",
   "metadata": {},
   "source": [
    "nombre_infected       586\n",
    "nombre_sain          2335\n",
    "nombre_exposed        351\n",
    "nombre_recovered    16728\n",
    "Name: 208, dtype: int64"
   ]
  },
  {
   "cell_type": "markdown",
   "id": "2f8adb7d",
   "metadata": {},
   "source": [
    "nombre_infected       575\n",
    "nombre_sain          2353\n",
    "nombre_exposed        355\n",
    "nombre_recovered    16717\n",
    "Name: 209, dtype: int64"
   ]
  },
  {
   "cell_type": "markdown",
   "id": "b51f99a1",
   "metadata": {},
   "source": [
    "nombre_infected       585\n",
    "nombre_sain          2381\n",
    "nombre_exposed        371\n",
    "nombre_recovered    16663\n",
    "Name: 210, dtype: int64"
   ]
  },
  {
   "cell_type": "markdown",
   "id": "d82dd890",
   "metadata": {},
   "source": [
    "nombre_infected       589\n",
    "nombre_sain          2405\n",
    "nombre_exposed        377\n",
    "nombre_recovered    16629\n",
    "Name: 211, dtype: int64"
   ]
  },
  {
   "cell_type": "markdown",
   "id": "8a4c8e0a",
   "metadata": {},
   "source": [
    "nombre_infected       601\n",
    "nombre_sain          2440\n",
    "nombre_exposed        368\n",
    "nombre_recovered    16591\n",
    "Name: 212, dtype: int64"
   ]
  },
  {
   "cell_type": "markdown",
   "id": "9ccd0415",
   "metadata": {},
   "source": [
    "nombre_infected       603\n",
    "nombre_sain          2458\n",
    "nombre_exposed        349\n",
    "nombre_recovered    16590\n",
    "Name: 213, dtype: int64"
   ]
  },
  {
   "cell_type": "markdown",
   "id": "0b5e5c43",
   "metadata": {},
   "source": [
    "nombre_infected       611\n",
    "nombre_sain          2472\n",
    "nombre_exposed        368\n",
    "nombre_recovered    16549\n",
    "Name: 214, dtype: int64"
   ]
  },
  {
   "cell_type": "markdown",
   "id": "1b5cbe6f",
   "metadata": {},
   "source": [
    "nombre_infected       604\n",
    "nombre_sain          2501\n",
    "nombre_exposed        364\n",
    "nombre_recovered    16531\n",
    "Name: 215, dtype: int64"
   ]
  },
  {
   "cell_type": "markdown",
   "id": "2eb6e717",
   "metadata": {},
   "source": [
    "nombre_infected       605\n",
    "nombre_sain          2522\n",
    "nombre_exposed        386\n",
    "nombre_recovered    16487\n",
    "Name: 216, dtype: int64"
   ]
  },
  {
   "cell_type": "markdown",
   "id": "bfb7bbe0",
   "metadata": {},
   "source": [
    "nombre_infected       588\n",
    "nombre_sain          2537\n",
    "nombre_exposed        412\n",
    "nombre_recovered    16463\n",
    "Name: 217, dtype: int64"
   ]
  },
  {
   "cell_type": "markdown",
   "id": "2d022691",
   "metadata": {},
   "source": [
    "nombre_infected       601\n",
    "nombre_sain          2563\n",
    "nombre_exposed        417\n",
    "nombre_recovered    16419\n",
    "Name: 218, dtype: int64"
   ]
  },
  {
   "cell_type": "markdown",
   "id": "c27d9fd1",
   "metadata": {},
   "source": [
    "nombre_infected       618\n",
    "nombre_sain          2601\n",
    "nombre_exposed        408\n",
    "nombre_recovered    16373\n",
    "Name: 219, dtype: int64"
   ]
  },
  {
   "cell_type": "markdown",
   "id": "ea0efa78",
   "metadata": {},
   "source": [
    "nombre_infected       619\n",
    "nombre_sain          2606\n",
    "nombre_exposed        440\n",
    "nombre_recovered    16335\n",
    "Name: 220, dtype: int64"
   ]
  },
  {
   "cell_type": "markdown",
   "id": "8ec09950",
   "metadata": {},
   "source": [
    "nombre_infected       627\n",
    "nombre_sain          2624\n",
    "nombre_exposed        459\n",
    "nombre_recovered    16290\n",
    "Name: 221, dtype: int64"
   ]
  },
  {
   "cell_type": "markdown",
   "id": "fe17af69",
   "metadata": {},
   "source": [
    "nombre_infected       645\n",
    "nombre_sain          2623\n",
    "nombre_exposed        473\n",
    "nombre_recovered    16259\n",
    "Name: 222, dtype: int64"
   ]
  },
  {
   "cell_type": "markdown",
   "id": "ded0c194",
   "metadata": {},
   "source": [
    "nombre_infected       656\n",
    "nombre_sain          2618\n",
    "nombre_exposed        505\n",
    "nombre_recovered    16221\n",
    "Name: 223, dtype: int64"
   ]
  },
  {
   "cell_type": "markdown",
   "id": "fb36d77e",
   "metadata": {},
   "source": [
    "nombre_infected       677\n",
    "nombre_sain          2633\n",
    "nombre_exposed        495\n",
    "nombre_recovered    16195\n",
    "Name: 224, dtype: int64"
   ]
  },
  {
   "cell_type": "markdown",
   "id": "43f3b7d2",
   "metadata": {},
   "source": [
    "nombre_infected       725\n",
    "nombre_sain          2635\n",
    "nombre_exposed        470\n",
    "nombre_recovered    16170\n",
    "Name: 225, dtype: int64"
   ]
  },
  {
   "cell_type": "markdown",
   "id": "f7756029",
   "metadata": {},
   "source": [
    "nombre_infected       736\n",
    "nombre_sain          2627\n",
    "nombre_exposed        495\n",
    "nombre_recovered    16142\n",
    "Name: 226, dtype: int64"
   ]
  },
  {
   "cell_type": "markdown",
   "id": "21407c1b",
   "metadata": {},
   "source": [
    "nombre_infected       761\n",
    "nombre_sain          2629\n",
    "nombre_exposed        506\n",
    "nombre_recovered    16104\n",
    "Name: 227, dtype: int64"
   ]
  },
  {
   "cell_type": "markdown",
   "id": "50041912",
   "metadata": {},
   "source": [
    "nombre_infected       807\n",
    "nombre_sain          2577\n",
    "nombre_exposed        533\n",
    "nombre_recovered    16083\n",
    "Name: 228, dtype: int64"
   ]
  },
  {
   "cell_type": "markdown",
   "id": "b0ac19fb",
   "metadata": {},
   "source": [
    "nombre_infected       801\n",
    "nombre_sain          2550\n",
    "nombre_exposed        585\n",
    "nombre_recovered    16064\n",
    "Name: 229, dtype: int64"
   ]
  },
  {
   "cell_type": "markdown",
   "id": "19d3fc10",
   "metadata": {},
   "source": [
    "nombre_infected       828\n",
    "nombre_sain          2525\n",
    "nombre_exposed        582\n",
    "nombre_recovered    16065\n",
    "Name: 230, dtype: int64"
   ]
  },
  {
   "cell_type": "markdown",
   "id": "6b105f56",
   "metadata": {},
   "source": [
    "nombre_infected       863\n",
    "nombre_sain          2485\n",
    "nombre_exposed        592\n",
    "nombre_recovered    16060\n",
    "Name: 231, dtype: int64"
   ]
  },
  {
   "cell_type": "markdown",
   "id": "1c207c7d",
   "metadata": {},
   "source": [
    "nombre_infected       870\n",
    "nombre_sain          2476\n",
    "nombre_exposed        599\n",
    "nombre_recovered    16055\n",
    "Name: 232, dtype: int64"
   ]
  },
  {
   "cell_type": "markdown",
   "id": "3c227689",
   "metadata": {},
   "source": [
    "nombre_infected       902\n",
    "nombre_sain          2469\n",
    "nombre_exposed        585\n",
    "nombre_recovered    16044\n",
    "Name: 233, dtype: int64"
   ]
  },
  {
   "cell_type": "markdown",
   "id": "c78e2466",
   "metadata": {},
   "source": [
    "nombre_infected       924\n",
    "nombre_sain          2458\n",
    "nombre_exposed        572\n",
    "nombre_recovered    16046\n",
    "Name: 234, dtype: int64"
   ]
  },
  {
   "cell_type": "markdown",
   "id": "9533d267",
   "metadata": {},
   "source": [
    "nombre_infected       934\n",
    "nombre_sain          2432\n",
    "nombre_exposed        597\n",
    "nombre_recovered    16037\n",
    "Name: 235, dtype: int64"
   ]
  },
  {
   "cell_type": "markdown",
   "id": "85f922dc",
   "metadata": {},
   "source": [
    "nombre_infected       922\n",
    "nombre_sain          2408\n",
    "nombre_exposed        622\n",
    "nombre_recovered    16048\n",
    "Name: 236, dtype: int64"
   ]
  },
  {
   "cell_type": "markdown",
   "id": "9162c605",
   "metadata": {},
   "source": [
    "nombre_infected       939\n",
    "nombre_sain          2385\n",
    "nombre_exposed        623\n",
    "nombre_recovered    16053\n",
    "Name: 237, dtype: int64"
   ]
  },
  {
   "cell_type": "markdown",
   "id": "0d52dd8b",
   "metadata": {},
   "source": [
    "nombre_infected       965\n",
    "nombre_sain          2375\n",
    "nombre_exposed        621\n",
    "nombre_recovered    16039\n",
    "Name: 238, dtype: int64"
   ]
  },
  {
   "cell_type": "markdown",
   "id": "4b841b45",
   "metadata": {},
   "source": [
    "nombre_infected       989\n",
    "nombre_sain          2368\n",
    "nombre_exposed        633\n",
    "nombre_recovered    16010\n",
    "Name: 239, dtype: int64"
   ]
  },
  {
   "cell_type": "markdown",
   "id": "bf19b166",
   "metadata": {},
   "source": [
    "nombre_infected      1000\n",
    "nombre_sain          2352\n",
    "nombre_exposed        623\n",
    "nombre_recovered    16025\n",
    "Name: 240, dtype: int64"
   ]
  },
  {
   "cell_type": "markdown",
   "id": "4e05390c",
   "metadata": {},
   "source": [
    "nombre_infected      1017\n",
    "nombre_sain          2324\n",
    "nombre_exposed        615\n",
    "nombre_recovered    16044\n",
    "Name: 241, dtype: int64"
   ]
  },
  {
   "cell_type": "markdown",
   "id": "b5f7fd2d",
   "metadata": {},
   "source": [
    "nombre_infected      1048\n",
    "nombre_sain          2302\n",
    "nombre_exposed        602\n",
    "nombre_recovered    16048\n",
    "Name: 242, dtype: int64"
   ]
  },
  {
   "cell_type": "markdown",
   "id": "3da364e8",
   "metadata": {},
   "source": [
    "nombre_infected      1084\n",
    "nombre_sain          2258\n",
    "nombre_exposed        594\n",
    "nombre_recovered    16064\n",
    "Name: 243, dtype: int64"
   ]
  },
  {
   "cell_type": "markdown",
   "id": "255d3b8f",
   "metadata": {},
   "source": [
    "nombre_infected      1103\n",
    "nombre_sain          2217\n",
    "nombre_exposed        589\n",
    "nombre_recovered    16091\n",
    "Name: 244, dtype: int64"
   ]
  },
  {
   "cell_type": "markdown",
   "id": "7e7d8314",
   "metadata": {},
   "source": [
    "nombre_infected      1096\n",
    "nombre_sain          2173\n",
    "nombre_exposed        610\n",
    "nombre_recovered    16121\n",
    "Name: 245, dtype: int64"
   ]
  },
  {
   "cell_type": "markdown",
   "id": "a95c6260",
   "metadata": {},
   "source": [
    "nombre_infected      1134\n",
    "nombre_sain          2132\n",
    "nombre_exposed        629\n",
    "nombre_recovered    16105\n",
    "Name: 246, dtype: int64"
   ]
  },
  {
   "cell_type": "markdown",
   "id": "794e7b96",
   "metadata": {},
   "source": [
    "nombre_infected      1117\n",
    "nombre_sain          2068\n",
    "nombre_exposed        652\n",
    "nombre_recovered    16163\n",
    "Name: 247, dtype: int64"
   ]
  },
  {
   "cell_type": "markdown",
   "id": "1c50621f",
   "metadata": {},
   "source": [
    "nombre_infected      1114\n",
    "nombre_sain          2009\n",
    "nombre_exposed        663\n",
    "nombre_recovered    16214\n",
    "Name: 248, dtype: int64"
   ]
  },
  {
   "cell_type": "markdown",
   "id": "c8e707a0",
   "metadata": {},
   "source": [
    "nombre_infected      1094\n",
    "nombre_sain          1962\n",
    "nombre_exposed        666\n",
    "nombre_recovered    16278\n",
    "Name: 249, dtype: int64"
   ]
  },
  {
   "cell_type": "markdown",
   "id": "7b79b1df",
   "metadata": {},
   "source": [
    "nombre_infected      1068\n",
    "nombre_sain          1944\n",
    "nombre_exposed        666\n",
    "nombre_recovered    16322\n",
    "Name: 250, dtype: int64"
   ]
  },
  {
   "cell_type": "markdown",
   "id": "b34f96ac",
   "metadata": {},
   "source": [
    "nombre_infected      1086\n",
    "nombre_sain          1948\n",
    "nombre_exposed        637\n",
    "nombre_recovered    16329\n",
    "Name: 251, dtype: int64"
   ]
  },
  {
   "cell_type": "markdown",
   "id": "05363c42",
   "metadata": {},
   "source": [
    "nombre_infected      1096\n",
    "nombre_sain          1913\n",
    "nombre_exposed        639\n",
    "nombre_recovered    16352\n",
    "Name: 252, dtype: int64"
   ]
  },
  {
   "cell_type": "markdown",
   "id": "00a61d9d",
   "metadata": {},
   "source": [
    "nombre_infected      1096\n",
    "nombre_sain          1895\n",
    "nombre_exposed        609\n",
    "nombre_recovered    16400\n",
    "Name: 253, dtype: int64"
   ]
  },
  {
   "cell_type": "markdown",
   "id": "bad7532b",
   "metadata": {},
   "source": [
    "nombre_infected      1108\n",
    "nombre_sain          1876\n",
    "nombre_exposed        581\n",
    "nombre_recovered    16435\n",
    "Name: 254, dtype: int64"
   ]
  },
  {
   "cell_type": "markdown",
   "id": "ca3c65c0",
   "metadata": {},
   "source": [
    "nombre_infected      1131\n",
    "nombre_sain          1841\n",
    "nombre_exposed        561\n",
    "nombre_recovered    16467\n",
    "Name: 255, dtype: int64"
   ]
  },
  {
   "cell_type": "markdown",
   "id": "909c639f",
   "metadata": {},
   "source": [
    "nombre_infected      1088\n",
    "nombre_sain          1792\n",
    "nombre_exposed        600\n",
    "nombre_recovered    16520\n",
    "Name: 256, dtype: int64"
   ]
  },
  {
   "cell_type": "markdown",
   "id": "caf78110",
   "metadata": {},
   "source": [
    "nombre_infected      1071\n",
    "nombre_sain          1755\n",
    "nombre_exposed        589\n",
    "nombre_recovered    16585\n",
    "Name: 257, dtype: int64"
   ]
  },
  {
   "cell_type": "markdown",
   "id": "83eadd3d",
   "metadata": {},
   "source": [
    "nombre_infected      1079\n",
    "nombre_sain          1736\n",
    "nombre_exposed        567\n",
    "nombre_recovered    16618\n",
    "Name: 258, dtype: int64"
   ]
  },
  {
   "cell_type": "markdown",
   "id": "2201c7f3",
   "metadata": {},
   "source": [
    "nombre_infected      1082\n",
    "nombre_sain          1724\n",
    "nombre_exposed        552\n",
    "nombre_recovered    16642\n",
    "Name: 259, dtype: int64"
   ]
  },
  {
   "cell_type": "markdown",
   "id": "32bd3a89",
   "metadata": {},
   "source": [
    "nombre_infected      1087\n",
    "nombre_sain          1736\n",
    "nombre_exposed        498\n",
    "nombre_recovered    16679\n",
    "Name: 260, dtype: int64"
   ]
  },
  {
   "cell_type": "markdown",
   "id": "469ad664",
   "metadata": {},
   "source": [
    "nombre_infected      1056\n",
    "nombre_sain          1730\n",
    "nombre_exposed        489\n",
    "nombre_recovered    16725\n",
    "Name: 261, dtype: int64"
   ]
  },
  {
   "cell_type": "markdown",
   "id": "9d3dc4d1",
   "metadata": {},
   "source": [
    "nombre_infected      1047\n",
    "nombre_sain          1723\n",
    "nombre_exposed        487\n",
    "nombre_recovered    16743\n",
    "Name: 262, dtype: int64"
   ]
  },
  {
   "cell_type": "markdown",
   "id": "60861559",
   "metadata": {},
   "source": [
    "nombre_infected      1016\n",
    "nombre_sain          1733\n",
    "nombre_exposed        474\n",
    "nombre_recovered    16777\n",
    "Name: 263, dtype: int64"
   ]
  },
  {
   "cell_type": "markdown",
   "id": "6e14d021",
   "metadata": {},
   "source": [
    "nombre_infected       992\n",
    "nombre_sain          1711\n",
    "nombre_exposed        474\n",
    "nombre_recovered    16823\n",
    "Name: 264, dtype: int64"
   ]
  },
  {
   "cell_type": "markdown",
   "id": "55cab1b6",
   "metadata": {},
   "source": [
    "nombre_infected       956\n",
    "nombre_sain          1711\n",
    "nombre_exposed        487\n",
    "nombre_recovered    16846\n",
    "Name: 265, dtype: int64"
   ]
  },
  {
   "cell_type": "markdown",
   "id": "3f8f03c4",
   "metadata": {},
   "source": [
    "nombre_infected       955\n",
    "nombre_sain          1717\n",
    "nombre_exposed        461\n",
    "nombre_recovered    16867\n",
    "Name: 266, dtype: int64"
   ]
  },
  {
   "cell_type": "markdown",
   "id": "6038476d",
   "metadata": {},
   "source": [
    "nombre_infected       924\n",
    "nombre_sain          1714\n",
    "nombre_exposed        460\n",
    "nombre_recovered    16902\n",
    "Name: 267, dtype: int64"
   ]
  },
  {
   "cell_type": "markdown",
   "id": "4bdd36ca",
   "metadata": {},
   "source": [
    "nombre_infected       889\n",
    "nombre_sain          1704\n",
    "nombre_exposed        470\n",
    "nombre_recovered    16937\n",
    "Name: 268, dtype: int64"
   ]
  },
  {
   "cell_type": "markdown",
   "id": "e26cbb50",
   "metadata": {},
   "source": [
    "nombre_infected       857\n",
    "nombre_sain          1709\n",
    "nombre_exposed        457\n",
    "nombre_recovered    16977\n",
    "Name: 269, dtype: int64"
   ]
  },
  {
   "cell_type": "markdown",
   "id": "6727b146",
   "metadata": {},
   "source": [
    "nombre_infected       854\n",
    "nombre_sain          1712\n",
    "nombre_exposed        450\n",
    "nombre_recovered    16984\n",
    "Name: 270, dtype: int64"
   ]
  },
  {
   "cell_type": "markdown",
   "id": "e2ed9e37",
   "metadata": {},
   "source": [
    "nombre_infected       837\n",
    "nombre_sain          1681\n",
    "nombre_exposed        465\n",
    "nombre_recovered    17017\n",
    "Name: 271, dtype: int64"
   ]
  },
  {
   "cell_type": "markdown",
   "id": "e01e59d3",
   "metadata": {},
   "source": [
    "nombre_infected       812\n",
    "nombre_sain          1714\n",
    "nombre_exposed        445\n",
    "nombre_recovered    17029\n",
    "Name: 272, dtype: int64"
   ]
  },
  {
   "cell_type": "markdown",
   "id": "b73384fd",
   "metadata": {},
   "source": [
    "nombre_infected       834\n",
    "nombre_sain          1729\n",
    "nombre_exposed        418\n",
    "nombre_recovered    17019\n",
    "Name: 273, dtype: int64"
   ]
  },
  {
   "cell_type": "markdown",
   "id": "f6deba2d",
   "metadata": {},
   "source": [
    "nombre_infected       822\n",
    "nombre_sain          1741\n",
    "nombre_exposed        406\n",
    "nombre_recovered    17031\n",
    "Name: 274, dtype: int64"
   ]
  },
  {
   "cell_type": "markdown",
   "id": "aea2fc16",
   "metadata": {},
   "source": [
    "nombre_infected       820\n",
    "nombre_sain          1757\n",
    "nombre_exposed        380\n",
    "nombre_recovered    17043\n",
    "Name: 275, dtype: int64"
   ]
  },
  {
   "cell_type": "markdown",
   "id": "3baaa5af",
   "metadata": {},
   "source": [
    "nombre_infected       811\n",
    "nombre_sain          1764\n",
    "nombre_exposed        385\n",
    "nombre_recovered    17040\n",
    "Name: 276, dtype: int64"
   ]
  },
  {
   "cell_type": "markdown",
   "id": "f0c143cc",
   "metadata": {},
   "source": [
    "nombre_infected       803\n",
    "nombre_sain          1760\n",
    "nombre_exposed        397\n",
    "nombre_recovered    17040\n",
    "Name: 277, dtype: int64"
   ]
  },
  {
   "cell_type": "markdown",
   "id": "76251c8a",
   "metadata": {},
   "source": [
    "nombre_infected       780\n",
    "nombre_sain          1763\n",
    "nombre_exposed        406\n",
    "nombre_recovered    17051\n",
    "Name: 278, dtype: int64"
   ]
  },
  {
   "cell_type": "markdown",
   "id": "e82ff32a",
   "metadata": {},
   "source": [
    "nombre_infected       749\n",
    "nombre_sain          1785\n",
    "nombre_exposed        406\n",
    "nombre_recovered    17060\n",
    "Name: 279, dtype: int64"
   ]
  },
  {
   "cell_type": "markdown",
   "id": "f6368d9a",
   "metadata": {},
   "source": [
    "nombre_infected       743\n",
    "nombre_sain          1816\n",
    "nombre_exposed        392\n",
    "nombre_recovered    17049\n",
    "Name: 280, dtype: int64"
   ]
  },
  {
   "cell_type": "markdown",
   "id": "8102a5ef",
   "metadata": {},
   "source": [
    "nombre_infected       729\n",
    "nombre_sain          1837\n",
    "nombre_exposed        378\n",
    "nombre_recovered    17056\n",
    "Name: 281, dtype: int64"
   ]
  },
  {
   "cell_type": "markdown",
   "id": "0e10183a",
   "metadata": {},
   "source": [
    "nombre_infected       722\n",
    "nombre_sain          1876\n",
    "nombre_exposed        368\n",
    "nombre_recovered    17034\n",
    "Name: 282, dtype: int64"
   ]
  },
  {
   "cell_type": "markdown",
   "id": "da875ae6",
   "metadata": {},
   "source": [
    "nombre_infected       704\n",
    "nombre_sain          1941\n",
    "nombre_exposed        371\n",
    "nombre_recovered    16984\n",
    "Name: 283, dtype: int64"
   ]
  },
  {
   "cell_type": "markdown",
   "id": "09f6facb",
   "metadata": {},
   "source": [
    "nombre_infected       703\n",
    "nombre_sain          1986\n",
    "nombre_exposed        389\n",
    "nombre_recovered    16922\n",
    "Name: 284, dtype: int64"
   ]
  },
  {
   "cell_type": "markdown",
   "id": "39774a2f",
   "metadata": {},
   "source": [
    "nombre_infected       679\n",
    "nombre_sain          2027\n",
    "nombre_exposed        393\n",
    "nombre_recovered    16901\n",
    "Name: 285, dtype: int64"
   ]
  },
  {
   "cell_type": "markdown",
   "id": "3e67aee0",
   "metadata": {},
   "source": [
    "nombre_infected       666\n",
    "nombre_sain          2041\n",
    "nombre_exposed        412\n",
    "nombre_recovered    16881\n",
    "Name: 286, dtype: int64"
   ]
  },
  {
   "cell_type": "markdown",
   "id": "f21d3685",
   "metadata": {},
   "source": [
    "nombre_infected       681\n",
    "nombre_sain          2107\n",
    "nombre_exposed        384\n",
    "nombre_recovered    16828\n",
    "Name: 287, dtype: int64"
   ]
  },
  {
   "cell_type": "markdown",
   "id": "3f51df6f",
   "metadata": {},
   "source": [
    "nombre_infected       681\n",
    "nombre_sain          2143\n",
    "nombre_exposed        386\n",
    "nombre_recovered    16790\n",
    "Name: 288, dtype: int64"
   ]
  },
  {
   "cell_type": "markdown",
   "id": "7dc02424",
   "metadata": {},
   "source": [
    "nombre_infected       641\n",
    "nombre_sain          2191\n",
    "nombre_exposed        388\n",
    "nombre_recovered    16780\n",
    "Name: 289, dtype: int64"
   ]
  },
  {
   "cell_type": "markdown",
   "id": "db73cc27",
   "metadata": {},
   "source": [
    "nombre_infected       652\n",
    "nombre_sain          2229\n",
    "nombre_exposed        379\n",
    "nombre_recovered    16740\n",
    "Name: 290, dtype: int64"
   ]
  },
  {
   "cell_type": "markdown",
   "id": "4289a3ca",
   "metadata": {},
   "source": [
    "nombre_infected       644\n",
    "nombre_sain          2249\n",
    "nombre_exposed        382\n",
    "nombre_recovered    16725\n",
    "Name: 291, dtype: int64"
   ]
  },
  {
   "cell_type": "markdown",
   "id": "b45f6fac",
   "metadata": {},
   "source": [
    "nombre_infected       629\n",
    "nombre_sain          2278\n",
    "nombre_exposed        403\n",
    "nombre_recovered    16690\n",
    "Name: 292, dtype: int64"
   ]
  },
  {
   "cell_type": "markdown",
   "id": "fc669ccf",
   "metadata": {},
   "source": [
    "nombre_infected       624\n",
    "nombre_sain          2293\n",
    "nombre_exposed        412\n",
    "nombre_recovered    16671\n",
    "Name: 293, dtype: int64"
   ]
  },
  {
   "cell_type": "markdown",
   "id": "48dc6ccd",
   "metadata": {},
   "source": [
    "nombre_infected       622\n",
    "nombre_sain          2316\n",
    "nombre_exposed        415\n",
    "nombre_recovered    16647\n",
    "Name: 294, dtype: int64"
   ]
  },
  {
   "cell_type": "markdown",
   "id": "c9b26821",
   "metadata": {},
   "source": [
    "nombre_infected       625\n",
    "nombre_sain          2343\n",
    "nombre_exposed        404\n",
    "nombre_recovered    16628\n",
    "Name: 295, dtype: int64"
   ]
  },
  {
   "cell_type": "markdown",
   "id": "c8c725c6",
   "metadata": {},
   "source": [
    "nombre_infected       623\n",
    "nombre_sain          2361\n",
    "nombre_exposed        408\n",
    "nombre_recovered    16608\n",
    "Name: 296, dtype: int64"
   ]
  },
  {
   "cell_type": "markdown",
   "id": "dd7d0928",
   "metadata": {},
   "source": [
    "nombre_infected       628\n",
    "nombre_sain          2374\n",
    "nombre_exposed        411\n",
    "nombre_recovered    16587\n",
    "Name: 297, dtype: int64"
   ]
  },
  {
   "cell_type": "markdown",
   "id": "ad8e0795",
   "metadata": {},
   "source": [
    "nombre_infected       633\n",
    "nombre_sain          2392\n",
    "nombre_exposed        405\n",
    "nombre_recovered    16570\n",
    "Name: 298, dtype: int64"
   ]
  },
  {
   "cell_type": "markdown",
   "id": "8e45835c",
   "metadata": {},
   "source": [
    "nombre_infected       649\n",
    "nombre_sain          2388\n",
    "nombre_exposed        409\n",
    "nombre_recovered    16554\n",
    "Name: 299, dtype: int64"
   ]
  },
  {
   "cell_type": "markdown",
   "id": "ba1a273b",
   "metadata": {},
   "source": [
    "nombre_infected       655\n",
    "nombre_sain          2377\n",
    "nombre_exposed        428\n",
    "nombre_recovered    16540\n",
    "Name: 300, dtype: int64"
   ]
  },
  {
   "cell_type": "markdown",
   "id": "05caf0cc",
   "metadata": {},
   "source": [
    "nombre_infected       659\n",
    "nombre_sain          2382\n",
    "nombre_exposed        425\n",
    "nombre_recovered    16534\n",
    "Name: 301, dtype: int64"
   ]
  },
  {
   "cell_type": "markdown",
   "id": "ff59ca0f",
   "metadata": {},
   "source": [
    "nombre_infected       667\n",
    "nombre_sain          2363\n",
    "nombre_exposed        443\n",
    "nombre_recovered    16527\n",
    "Name: 302, dtype: int64"
   ]
  },
  {
   "cell_type": "markdown",
   "id": "f0001798",
   "metadata": {},
   "source": [
    "nombre_infected       683\n",
    "nombre_sain          2346\n",
    "nombre_exposed        446\n",
    "nombre_recovered    16525\n",
    "Name: 303, dtype: int64"
   ]
  },
  {
   "cell_type": "markdown",
   "id": "0b950c06",
   "metadata": {},
   "source": [
    "nombre_infected       694\n",
    "nombre_sain          2340\n",
    "nombre_exposed        452\n",
    "nombre_recovered    16514\n",
    "Name: 304, dtype: int64"
   ]
  },
  {
   "cell_type": "markdown",
   "id": "29d97750",
   "metadata": {},
   "source": [
    "nombre_infected       711\n",
    "nombre_sain          2323\n",
    "nombre_exposed        446\n",
    "nombre_recovered    16520\n",
    "Name: 305, dtype: int64"
   ]
  },
  {
   "cell_type": "markdown",
   "id": "25327e84",
   "metadata": {},
   "source": [
    "nombre_infected       690\n",
    "nombre_sain          2315\n",
    "nombre_exposed        459\n",
    "nombre_recovered    16536\n",
    "Name: 306, dtype: int64"
   ]
  },
  {
   "cell_type": "markdown",
   "id": "240646b0",
   "metadata": {},
   "source": [
    "nombre_infected       699\n",
    "nombre_sain          2303\n",
    "nombre_exposed        458\n",
    "nombre_recovered    16540\n",
    "Name: 307, dtype: int64"
   ]
  },
  {
   "cell_type": "markdown",
   "id": "6a1390ff",
   "metadata": {},
   "source": [
    "nombre_infected       696\n",
    "nombre_sain          2308\n",
    "nombre_exposed        459\n",
    "nombre_recovered    16537\n",
    "Name: 308, dtype: int64"
   ]
  },
  {
   "cell_type": "markdown",
   "id": "1465c54a",
   "metadata": {},
   "source": [
    "nombre_infected       704\n",
    "nombre_sain          2316\n",
    "nombre_exposed        444\n",
    "nombre_recovered    16536\n",
    "Name: 309, dtype: int64"
   ]
  },
  {
   "cell_type": "markdown",
   "id": "428dd656",
   "metadata": {},
   "source": [
    "nombre_infected       713\n",
    "nombre_sain          2292\n",
    "nombre_exposed        468\n",
    "nombre_recovered    16527\n",
    "Name: 310, dtype: int64"
   ]
  },
  {
   "cell_type": "markdown",
   "id": "79d73593",
   "metadata": {},
   "source": [
    "nombre_infected       717\n",
    "nombre_sain          2270\n",
    "nombre_exposed        474\n",
    "nombre_recovered    16539\n",
    "Name: 311, dtype: int64"
   ]
  },
  {
   "cell_type": "markdown",
   "id": "df2f2798",
   "metadata": {},
   "source": [
    "nombre_infected       715\n",
    "nombre_sain          2310\n",
    "nombre_exposed        478\n",
    "nombre_recovered    16497\n",
    "Name: 312, dtype: int64"
   ]
  },
  {
   "cell_type": "markdown",
   "id": "5358f57e",
   "metadata": {},
   "source": [
    "nombre_infected       720\n",
    "nombre_sain          2318\n",
    "nombre_exposed        477\n",
    "nombre_recovered    16485\n",
    "Name: 313, dtype: int64"
   ]
  },
  {
   "cell_type": "markdown",
   "id": "38750296",
   "metadata": {},
   "source": [
    "nombre_infected       738\n",
    "nombre_sain          2333\n",
    "nombre_exposed        478\n",
    "nombre_recovered    16451\n",
    "Name: 314, dtype: int64"
   ]
  },
  {
   "cell_type": "markdown",
   "id": "2ccca870",
   "metadata": {},
   "source": [
    "nombre_infected       744\n",
    "nombre_sain          2358\n",
    "nombre_exposed        474\n",
    "nombre_recovered    16424\n",
    "Name: 315, dtype: int64"
   ]
  },
  {
   "cell_type": "markdown",
   "id": "2c5fcfb8",
   "metadata": {},
   "source": [
    "nombre_infected       758\n",
    "nombre_sain          2359\n",
    "nombre_exposed        480\n",
    "nombre_recovered    16403\n",
    "Name: 316, dtype: int64"
   ]
  },
  {
   "cell_type": "markdown",
   "id": "88e6b72f",
   "metadata": {},
   "source": [
    "nombre_infected       759\n",
    "nombre_sain          2384\n",
    "nombre_exposed        490\n",
    "nombre_recovered    16367\n",
    "Name: 317, dtype: int64"
   ]
  },
  {
   "cell_type": "markdown",
   "id": "d7185ea5",
   "metadata": {},
   "source": [
    "nombre_infected       765\n",
    "nombre_sain          2370\n",
    "nombre_exposed        510\n",
    "nombre_recovered    16355\n",
    "Name: 318, dtype: int64"
   ]
  },
  {
   "cell_type": "markdown",
   "id": "77cc6a4d",
   "metadata": {},
   "source": [
    "nombre_infected       800\n",
    "nombre_sain          2368\n",
    "nombre_exposed        502\n",
    "nombre_recovered    16330\n",
    "Name: 319, dtype: int64"
   ]
  },
  {
   "cell_type": "markdown",
   "id": "e9819f44",
   "metadata": {},
   "source": [
    "nombre_infected       824\n",
    "nombre_sain          2365\n",
    "nombre_exposed        526\n",
    "nombre_recovered    16285\n",
    "Name: 320, dtype: int64"
   ]
  },
  {
   "cell_type": "markdown",
   "id": "66f1c42a",
   "metadata": {},
   "source": [
    "nombre_infected       835\n",
    "nombre_sain          2368\n",
    "nombre_exposed        549\n",
    "nombre_recovered    16248\n",
    "Name: 321, dtype: int64"
   ]
  },
  {
   "cell_type": "markdown",
   "id": "9854a521",
   "metadata": {},
   "source": [
    "nombre_infected       848\n",
    "nombre_sain          2345\n",
    "nombre_exposed        567\n",
    "nombre_recovered    16240\n",
    "Name: 322, dtype: int64"
   ]
  },
  {
   "cell_type": "markdown",
   "id": "b6d5a969",
   "metadata": {},
   "source": [
    "nombre_infected       866\n",
    "nombre_sain          2368\n",
    "nombre_exposed        561\n",
    "nombre_recovered    16205\n",
    "Name: 323, dtype: int64"
   ]
  },
  {
   "cell_type": "markdown",
   "id": "c2747bdd",
   "metadata": {},
   "source": [
    "nombre_infected       881\n",
    "nombre_sain          2359\n",
    "nombre_exposed        567\n",
    "nombre_recovered    16193\n",
    "Name: 324, dtype: int64"
   ]
  },
  {
   "cell_type": "markdown",
   "id": "afce7074",
   "metadata": {},
   "source": [
    "nombre_infected       895\n",
    "nombre_sain          2345\n",
    "nombre_exposed        589\n",
    "nombre_recovered    16171\n",
    "Name: 325, dtype: int64"
   ]
  },
  {
   "cell_type": "markdown",
   "id": "4d7092f2",
   "metadata": {},
   "source": [
    "nombre_infected       905\n",
    "nombre_sain          2329\n",
    "nombre_exposed        602\n",
    "nombre_recovered    16164\n",
    "Name: 326, dtype: int64"
   ]
  },
  {
   "cell_type": "markdown",
   "id": "f0ae08e9",
   "metadata": {},
   "source": [
    "nombre_infected       941\n",
    "nombre_sain          2341\n",
    "nombre_exposed        565\n",
    "nombre_recovered    16153\n",
    "Name: 327, dtype: int64"
   ]
  },
  {
   "cell_type": "markdown",
   "id": "d305ac91",
   "metadata": {},
   "source": [
    "nombre_infected       959\n",
    "nombre_sain          2326\n",
    "nombre_exposed        567\n",
    "nombre_recovered    16148\n",
    "Name: 328, dtype: int64"
   ]
  },
  {
   "cell_type": "markdown",
   "id": "5677227e",
   "metadata": {},
   "source": [
    "nombre_infected       958\n",
    "nombre_sain          2323\n",
    "nombre_exposed        566\n",
    "nombre_recovered    16153\n",
    "Name: 329, dtype: int64"
   ]
  },
  {
   "cell_type": "markdown",
   "id": "7762befc",
   "metadata": {},
   "source": [
    "nombre_infected       958\n",
    "nombre_sain          2298\n",
    "nombre_exposed        573\n",
    "nombre_recovered    16171\n",
    "Name: 330, dtype: int64"
   ]
  },
  {
   "cell_type": "markdown",
   "id": "e1bf35f0",
   "metadata": {},
   "source": [
    "nombre_infected       947\n",
    "nombre_sain          2290\n",
    "nombre_exposed        596\n",
    "nombre_recovered    16167\n",
    "Name: 331, dtype: int64"
   ]
  },
  {
   "cell_type": "markdown",
   "id": "528d0d96",
   "metadata": {},
   "source": [
    "nombre_infected       962\n",
    "nombre_sain          2271\n",
    "nombre_exposed        595\n",
    "nombre_recovered    16172\n",
    "Name: 332, dtype: int64"
   ]
  },
  {
   "cell_type": "markdown",
   "id": "183df59c",
   "metadata": {},
   "source": [
    "nombre_infected       964\n",
    "nombre_sain          2254\n",
    "nombre_exposed        597\n",
    "nombre_recovered    16185\n",
    "Name: 333, dtype: int64"
   ]
  },
  {
   "cell_type": "markdown",
   "id": "e0d2c3e2",
   "metadata": {},
   "source": [
    "nombre_infected       992\n",
    "nombre_sain          2231\n",
    "nombre_exposed        613\n",
    "nombre_recovered    16164\n",
    "Name: 334, dtype: int64"
   ]
  },
  {
   "cell_type": "markdown",
   "id": "94d5d4fd",
   "metadata": {},
   "source": [
    "nombre_infected       997\n",
    "nombre_sain          2220\n",
    "nombre_exposed        611\n",
    "nombre_recovered    16172\n",
    "Name: 335, dtype: int64"
   ]
  },
  {
   "cell_type": "markdown",
   "id": "6af2a386",
   "metadata": {},
   "source": [
    "nombre_infected      1010\n",
    "nombre_sain          2209\n",
    "nombre_exposed        593\n",
    "nombre_recovered    16188\n",
    "Name: 336, dtype: int64"
   ]
  },
  {
   "cell_type": "markdown",
   "id": "96f3d01a",
   "metadata": {},
   "source": [
    "nombre_infected       993\n",
    "nombre_sain          2213\n",
    "nombre_exposed        588\n",
    "nombre_recovered    16206\n",
    "Name: 337, dtype: int64"
   ]
  },
  {
   "cell_type": "markdown",
   "id": "e8348d53",
   "metadata": {},
   "source": [
    "nombre_infected      1021\n",
    "nombre_sain          2201\n",
    "nombre_exposed        568\n",
    "nombre_recovered    16210\n",
    "Name: 338, dtype: int64"
   ]
  },
  {
   "cell_type": "markdown",
   "id": "a7605bb9",
   "metadata": {},
   "source": [
    "nombre_infected      1025\n",
    "nombre_sain          2155\n",
    "nombre_exposed        574\n",
    "nombre_recovered    16246\n",
    "Name: 339, dtype: int64"
   ]
  },
  {
   "cell_type": "markdown",
   "id": "0785a737",
   "metadata": {},
   "source": [
    "nombre_infected      1036\n",
    "nombre_sain          2139\n",
    "nombre_exposed        562\n",
    "nombre_recovered    16263\n",
    "Name: 340, dtype: int64"
   ]
  },
  {
   "cell_type": "markdown",
   "id": "cb2baff8",
   "metadata": {},
   "source": [
    "nombre_infected      1009\n",
    "nombre_sain          2142\n",
    "nombre_exposed        565\n",
    "nombre_recovered    16284\n",
    "Name: 341, dtype: int64"
   ]
  },
  {
   "cell_type": "markdown",
   "id": "6b93e251",
   "metadata": {},
   "source": [
    "nombre_infected      1001\n",
    "nombre_sain          2120\n",
    "nombre_exposed        563\n",
    "nombre_recovered    16316\n",
    "Name: 342, dtype: int64"
   ]
  },
  {
   "cell_type": "markdown",
   "id": "5eaf1cdc",
   "metadata": {},
   "source": [
    "nombre_infected       981\n",
    "nombre_sain          2118\n",
    "nombre_exposed        571\n",
    "nombre_recovered    16330\n",
    "Name: 343, dtype: int64"
   ]
  },
  {
   "cell_type": "markdown",
   "id": "96a1cba3",
   "metadata": {},
   "source": [
    "nombre_infected       973\n",
    "nombre_sain          2113\n",
    "nombre_exposed        582\n",
    "nombre_recovered    16332\n",
    "Name: 344, dtype: int64"
   ]
  },
  {
   "cell_type": "markdown",
   "id": "e6eec76b",
   "metadata": {},
   "source": [
    "nombre_infected      1002\n",
    "nombre_sain          2097\n",
    "nombre_exposed        563\n",
    "nombre_recovered    16338\n",
    "Name: 345, dtype: int64"
   ]
  },
  {
   "cell_type": "markdown",
   "id": "92ccc487",
   "metadata": {},
   "source": [
    "nombre_infected      1009\n",
    "nombre_sain          2069\n",
    "nombre_exposed        571\n",
    "nombre_recovered    16351\n",
    "Name: 346, dtype: int64"
   ]
  },
  {
   "cell_type": "markdown",
   "id": "8c0d8bab",
   "metadata": {},
   "source": [
    "nombre_infected      1004\n",
    "nombre_sain          2055\n",
    "nombre_exposed        584\n",
    "nombre_recovered    16357\n",
    "Name: 347, dtype: int64"
   ]
  },
  {
   "cell_type": "markdown",
   "id": "16f93497",
   "metadata": {},
   "source": [
    "nombre_infected      1006\n",
    "nombre_sain          2038\n",
    "nombre_exposed        584\n",
    "nombre_recovered    16372\n",
    "Name: 348, dtype: int64"
   ]
  },
  {
   "cell_type": "markdown",
   "id": "7e24b9aa",
   "metadata": {},
   "source": [
    "nombre_infected      1017\n",
    "nombre_sain          2043\n",
    "nombre_exposed        587\n",
    "nombre_recovered    16353\n",
    "Name: 349, dtype: int64"
   ]
  },
  {
   "cell_type": "markdown",
   "id": "b03a61e1",
   "metadata": {},
   "source": [
    "nombre_infected      1018\n",
    "nombre_sain          2057\n",
    "nombre_exposed        564\n",
    "nombre_recovered    16361\n",
    "Name: 350, dtype: int64"
   ]
  },
  {
   "cell_type": "markdown",
   "id": "c26945dd",
   "metadata": {},
   "source": [
    "nombre_infected      1026\n",
    "nombre_sain          2063\n",
    "nombre_exposed        565\n",
    "nombre_recovered    16346\n",
    "Name: 351, dtype: int64"
   ]
  },
  {
   "cell_type": "markdown",
   "id": "29ffadc8",
   "metadata": {},
   "source": [
    "nombre_infected      1004\n",
    "nombre_sain          2069\n",
    "nombre_exposed        553\n",
    "nombre_recovered    16374\n",
    "Name: 352, dtype: int64"
   ]
  },
  {
   "cell_type": "markdown",
   "id": "870689ef",
   "metadata": {},
   "source": [
    "nombre_infected      1021\n",
    "nombre_sain          2055\n",
    "nombre_exposed        543\n",
    "nombre_recovered    16381\n",
    "Name: 353, dtype: int64"
   ]
  },
  {
   "cell_type": "markdown",
   "id": "452d3a11",
   "metadata": {},
   "source": [
    "nombre_infected      1019\n",
    "nombre_sain          2052\n",
    "nombre_exposed        551\n",
    "nombre_recovered    16378\n",
    "Name: 354, dtype: int64"
   ]
  },
  {
   "cell_type": "markdown",
   "id": "3eeca71e",
   "metadata": {},
   "source": [
    "nombre_infected      1031\n",
    "nombre_sain          2040\n",
    "nombre_exposed        519\n",
    "nombre_recovered    16410\n",
    "Name: 355, dtype: int64"
   ]
  },
  {
   "cell_type": "markdown",
   "id": "3f839077",
   "metadata": {},
   "source": [
    "nombre_infected      1006\n",
    "nombre_sain          2006\n",
    "nombre_exposed        533\n",
    "nombre_recovered    16455\n",
    "Name: 356, dtype: int64"
   ]
  },
  {
   "cell_type": "markdown",
   "id": "904377f8",
   "metadata": {},
   "source": [
    "nombre_infected       994\n",
    "nombre_sain          2021\n",
    "nombre_exposed        503\n",
    "nombre_recovered    16482\n",
    "Name: 357, dtype: int64"
   ]
  },
  {
   "cell_type": "markdown",
   "id": "ae3a5f3c",
   "metadata": {},
   "source": [
    "nombre_infected       990\n",
    "nombre_sain          1988\n",
    "nombre_exposed        500\n",
    "nombre_recovered    16522\n",
    "Name: 358, dtype: int64"
   ]
  },
  {
   "cell_type": "markdown",
   "id": "5d97179d",
   "metadata": {},
   "source": [
    "nombre_infected       964\n",
    "nombre_sain          1996\n",
    "nombre_exposed        492\n",
    "nombre_recovered    16548\n",
    "Name: 359, dtype: int64"
   ]
  },
  {
   "cell_type": "markdown",
   "id": "5ec70a78",
   "metadata": {},
   "source": [
    "nombre_infected       956\n",
    "nombre_sain          1988\n",
    "nombre_exposed        480\n",
    "nombre_recovered    16576\n",
    "Name: 360, dtype: int64"
   ]
  },
  {
   "cell_type": "markdown",
   "id": "38b720b6",
   "metadata": {},
   "source": [
    "nombre_infected       950\n",
    "nombre_sain          1981\n",
    "nombre_exposed        475\n",
    "nombre_recovered    16594\n",
    "Name: 361, dtype: int64"
   ]
  },
  {
   "cell_type": "markdown",
   "id": "2cdfb0bc",
   "metadata": {},
   "source": [
    "nombre_infected       936\n",
    "nombre_sain          1959\n",
    "nombre_exposed        475\n",
    "nombre_recovered    16630\n",
    "Name: 362, dtype: int64"
   ]
  },
  {
   "cell_type": "markdown",
   "id": "7fa3c394",
   "metadata": {},
   "source": [
    "nombre_infected       928\n",
    "nombre_sain          1975\n",
    "nombre_exposed        452\n",
    "nombre_recovered    16645\n",
    "Name: 363, dtype: int64"
   ]
  },
  {
   "cell_type": "markdown",
   "id": "95b4270c",
   "metadata": {},
   "source": [
    "nombre_infected       913\n",
    "nombre_sain          1961\n",
    "nombre_exposed        455\n",
    "nombre_recovered    16671\n",
    "Name: 364, dtype: int64"
   ]
  },
  {
   "cell_type": "markdown",
   "id": "3b9aa1ed",
   "metadata": {},
   "source": [
    "nombre_infected       892\n",
    "nombre_sain          1950\n",
    "nombre_exposed        473\n",
    "nombre_recovered    16685\n",
    "Name: 365, dtype: int64"
   ]
  },
  {
   "cell_type": "markdown",
   "id": "d0b27284",
   "metadata": {},
   "source": [
    "nombre_infected       878\n",
    "nombre_sain          1937\n",
    "nombre_exposed        464\n",
    "nombre_recovered    16721\n",
    "Name: 366, dtype: int64"
   ]
  },
  {
   "cell_type": "markdown",
   "id": "275b0d38",
   "metadata": {},
   "source": [
    "nombre_infected       849\n",
    "nombre_sain          1939\n",
    "nombre_exposed        489\n",
    "nombre_recovered    16723\n",
    "Name: 367, dtype: int64"
   ]
  },
  {
   "cell_type": "markdown",
   "id": "399c16e7",
   "metadata": {},
   "source": [
    "nombre_infected       847\n",
    "nombre_sain          1954\n",
    "nombre_exposed        466\n",
    "nombre_recovered    16733\n",
    "Name: 368, dtype: int64"
   ]
  },
  {
   "cell_type": "markdown",
   "id": "935bd7c7",
   "metadata": {},
   "source": [
    "nombre_infected       847\n",
    "nombre_sain          1960\n",
    "nombre_exposed        458\n",
    "nombre_recovered    16735\n",
    "Name: 369, dtype: int64"
   ]
  },
  {
   "cell_type": "markdown",
   "id": "5eba28c0",
   "metadata": {},
   "source": [
    "nombre_infected       835\n",
    "nombre_sain          1987\n",
    "nombre_exposed        444\n",
    "nombre_recovered    16734\n",
    "Name: 370, dtype: int64"
   ]
  },
  {
   "cell_type": "markdown",
   "id": "ca050381",
   "metadata": {},
   "source": [
    "nombre_infected       820\n",
    "nombre_sain          1976\n",
    "nombre_exposed        454\n",
    "nombre_recovered    16750\n",
    "Name: 371, dtype: int64"
   ]
  },
  {
   "cell_type": "markdown",
   "id": "693e59fa",
   "metadata": {},
   "source": [
    "nombre_infected       811\n",
    "nombre_sain          1983\n",
    "nombre_exposed        457\n",
    "nombre_recovered    16749\n",
    "Name: 372, dtype: int64"
   ]
  },
  {
   "cell_type": "markdown",
   "id": "86d1d259",
   "metadata": {},
   "source": [
    "nombre_infected       800\n",
    "nombre_sain          2011\n",
    "nombre_exposed        469\n",
    "nombre_recovered    16720\n",
    "Name: 373, dtype: int64"
   ]
  },
  {
   "cell_type": "markdown",
   "id": "f25223bd",
   "metadata": {},
   "source": [
    "nombre_infected       808\n",
    "nombre_sain          2005\n",
    "nombre_exposed        476\n",
    "nombre_recovered    16711\n",
    "Name: 374, dtype: int64"
   ]
  },
  {
   "cell_type": "markdown",
   "id": "41bf7880",
   "metadata": {},
   "source": [
    "nombre_infected       802\n",
    "nombre_sain          2045\n",
    "nombre_exposed        460\n",
    "nombre_recovered    16693\n",
    "Name: 375, dtype: int64"
   ]
  },
  {
   "cell_type": "markdown",
   "id": "e8f07b78",
   "metadata": {},
   "source": [
    "nombre_infected       813\n",
    "nombre_sain          2070\n",
    "nombre_exposed        458\n",
    "nombre_recovered    16659\n",
    "Name: 376, dtype: int64"
   ]
  },
  {
   "cell_type": "markdown",
   "id": "b821f02c",
   "metadata": {},
   "source": [
    "nombre_infected       813\n",
    "nombre_sain          2072\n",
    "nombre_exposed        459\n",
    "nombre_recovered    16656\n",
    "Name: 377, dtype: int64"
   ]
  },
  {
   "cell_type": "markdown",
   "id": "2f8e009a",
   "metadata": {},
   "source": [
    "nombre_infected       816\n",
    "nombre_sain          2083\n",
    "nombre_exposed        439\n",
    "nombre_recovered    16662\n",
    "Name: 378, dtype: int64"
   ]
  },
  {
   "cell_type": "markdown",
   "id": "182d39b9",
   "metadata": {},
   "source": [
    "nombre_infected       795\n",
    "nombre_sain          2120\n",
    "nombre_exposed        424\n",
    "nombre_recovered    16661\n",
    "Name: 379, dtype: int64"
   ]
  },
  {
   "cell_type": "markdown",
   "id": "cdfd8082",
   "metadata": {},
   "source": [
    "nombre_infected       788\n",
    "nombre_sain          2099\n",
    "nombre_exposed        430\n",
    "nombre_recovered    16683\n",
    "Name: 380, dtype: int64"
   ]
  },
  {
   "cell_type": "markdown",
   "id": "85d31b04",
   "metadata": {},
   "source": [
    "nombre_infected       777\n",
    "nombre_sain          2103\n",
    "nombre_exposed        446\n",
    "nombre_recovered    16674\n",
    "Name: 381, dtype: int64"
   ]
  },
  {
   "cell_type": "markdown",
   "id": "bb752d0a",
   "metadata": {},
   "source": [
    "nombre_infected       775\n",
    "nombre_sain          2122\n",
    "nombre_exposed        438\n",
    "nombre_recovered    16665\n",
    "Name: 382, dtype: int64"
   ]
  },
  {
   "cell_type": "markdown",
   "id": "36118e97",
   "metadata": {},
   "source": [
    "nombre_infected       770\n",
    "nombre_sain          2116\n",
    "nombre_exposed        441\n",
    "nombre_recovered    16673\n",
    "Name: 383, dtype: int64"
   ]
  },
  {
   "cell_type": "markdown",
   "id": "c43bab8a",
   "metadata": {},
   "source": [
    "nombre_infected       773\n",
    "nombre_sain          2150\n",
    "nombre_exposed        425\n",
    "nombre_recovered    16652\n",
    "Name: 384, dtype: int64"
   ]
  },
  {
   "cell_type": "markdown",
   "id": "1613b828",
   "metadata": {},
   "source": [
    "nombre_infected       769\n",
    "nombre_sain          2176\n",
    "nombre_exposed        441\n",
    "nombre_recovered    16614\n",
    "Name: 385, dtype: int64"
   ]
  },
  {
   "cell_type": "markdown",
   "id": "96095c27",
   "metadata": {},
   "source": [
    "nombre_infected       777\n",
    "nombre_sain          2180\n",
    "nombre_exposed        427\n",
    "nombre_recovered    16616\n",
    "Name: 386, dtype: int64"
   ]
  },
  {
   "cell_type": "markdown",
   "id": "e45e647d",
   "metadata": {},
   "source": [
    "nombre_infected       796\n",
    "nombre_sain          2207\n",
    "nombre_exposed        409\n",
    "nombre_recovered    16588\n",
    "Name: 387, dtype: int64"
   ]
  },
  {
   "cell_type": "markdown",
   "id": "a09f86f0",
   "metadata": {},
   "source": [
    "nombre_infected       755\n",
    "nombre_sain          2240\n",
    "nombre_exposed        427\n",
    "nombre_recovered    16578\n",
    "Name: 388, dtype: int64"
   ]
  },
  {
   "cell_type": "markdown",
   "id": "97ba140d",
   "metadata": {},
   "source": [
    "nombre_infected       750\n",
    "nombre_sain          2268\n",
    "nombre_exposed        448\n",
    "nombre_recovered    16534\n",
    "Name: 389, dtype: int64"
   ]
  },
  {
   "cell_type": "markdown",
   "id": "aca96718",
   "metadata": {},
   "source": [
    "nombre_infected       750\n",
    "nombre_sain          2293\n",
    "nombre_exposed        440\n",
    "nombre_recovered    16517\n",
    "Name: 390, dtype: int64"
   ]
  },
  {
   "cell_type": "markdown",
   "id": "f499b0cc",
   "metadata": {},
   "source": [
    "nombre_infected       754\n",
    "nombre_sain          2324\n",
    "nombre_exposed        441\n",
    "nombre_recovered    16481\n",
    "Name: 391, dtype: int64"
   ]
  },
  {
   "cell_type": "markdown",
   "id": "44c59fa7",
   "metadata": {},
   "source": [
    "nombre_infected       774\n",
    "nombre_sain          2365\n",
    "nombre_exposed        428\n",
    "nombre_recovered    16433\n",
    "Name: 392, dtype: int64"
   ]
  },
  {
   "cell_type": "markdown",
   "id": "9b982341",
   "metadata": {},
   "source": [
    "nombre_infected       767\n",
    "nombre_sain          2369\n",
    "nombre_exposed        436\n",
    "nombre_recovered    16428\n",
    "Name: 393, dtype: int64"
   ]
  },
  {
   "cell_type": "markdown",
   "id": "24446ea6",
   "metadata": {},
   "source": [
    "nombre_infected       785\n",
    "nombre_sain          2383\n",
    "nombre_exposed        439\n",
    "nombre_recovered    16393\n",
    "Name: 394, dtype: int64"
   ]
  },
  {
   "cell_type": "markdown",
   "id": "17fd89ae",
   "metadata": {},
   "source": [
    "nombre_infected       781\n",
    "nombre_sain          2357\n",
    "nombre_exposed        460\n",
    "nombre_recovered    16402\n",
    "Name: 395, dtype: int64"
   ]
  },
  {
   "cell_type": "markdown",
   "id": "b1da9ab5",
   "metadata": {},
   "source": [
    "nombre_infected       802\n",
    "nombre_sain          2345\n",
    "nombre_exposed        452\n",
    "nombre_recovered    16401\n",
    "Name: 396, dtype: int64"
   ]
  },
  {
   "cell_type": "markdown",
   "id": "21866300",
   "metadata": {},
   "source": [
    "nombre_infected       813\n",
    "nombre_sain          2348\n",
    "nombre_exposed        460\n",
    "nombre_recovered    16379\n",
    "Name: 397, dtype: int64"
   ]
  },
  {
   "cell_type": "markdown",
   "id": "9d6b3eaa",
   "metadata": {},
   "source": [
    "nombre_infected       815\n",
    "nombre_sain          2339\n",
    "nombre_exposed        485\n",
    "nombre_recovered    16361\n",
    "Name: 398, dtype: int64"
   ]
  },
  {
   "cell_type": "markdown",
   "id": "7d7b1da4",
   "metadata": {},
   "source": [
    "nombre_infected       816\n",
    "nombre_sain          2326\n",
    "nombre_exposed        500\n",
    "nombre_recovered    16358\n",
    "Name: 399, dtype: int64"
   ]
  },
  {
   "cell_type": "markdown",
   "id": "e78fd37e",
   "metadata": {},
   "source": [
    "nombre_infected       822\n",
    "nombre_sain          2349\n",
    "nombre_exposed        483\n",
    "nombre_recovered    16346\n",
    "Name: 400, dtype: int64"
   ]
  },
  {
   "cell_type": "markdown",
   "id": "a8d16b3c",
   "metadata": {},
   "source": [
    "nombre_infected       826\n",
    "nombre_sain          2356\n",
    "nombre_exposed        477\n",
    "nombre_recovered    16341\n",
    "Name: 401, dtype: int64"
   ]
  },
  {
   "cell_type": "markdown",
   "id": "9dfe1ed8",
   "metadata": {},
   "source": [
    "nombre_infected       826\n",
    "nombre_sain          2352\n",
    "nombre_exposed        486\n",
    "nombre_recovered    16336\n",
    "Name: 402, dtype: int64"
   ]
  },
  {
   "cell_type": "markdown",
   "id": "9a6e2e75",
   "metadata": {},
   "source": [
    "nombre_infected       813\n",
    "nombre_sain          2360\n",
    "nombre_exposed        489\n",
    "nombre_recovered    16338\n",
    "Name: 403, dtype: int64"
   ]
  },
  {
   "cell_type": "markdown",
   "id": "7e26077d",
   "metadata": {},
   "source": [
    "nombre_infected       831\n",
    "nombre_sain          2357\n",
    "nombre_exposed        497\n",
    "nombre_recovered    16315\n",
    "Name: 404, dtype: int64"
   ]
  },
  {
   "cell_type": "markdown",
   "id": "93795456",
   "metadata": {},
   "source": [
    "nombre_infected       841\n",
    "nombre_sain          2378\n",
    "nombre_exposed        493\n",
    "nombre_recovered    16288\n",
    "Name: 405, dtype: int64"
   ]
  },
  {
   "cell_type": "markdown",
   "id": "c3258d08",
   "metadata": {},
   "source": [
    "nombre_infected       836\n",
    "nombre_sain          2370\n",
    "nombre_exposed        497\n",
    "nombre_recovered    16297\n",
    "Name: 406, dtype: int64"
   ]
  },
  {
   "cell_type": "markdown",
   "id": "e07eca12",
   "metadata": {},
   "source": [
    "nombre_infected       849\n",
    "nombre_sain          2356\n",
    "nombre_exposed        495\n",
    "nombre_recovered    16300\n",
    "Name: 407, dtype: int64"
   ]
  },
  {
   "cell_type": "markdown",
   "id": "944d2a71",
   "metadata": {},
   "source": [
    "nombre_infected       850\n",
    "nombre_sain          2357\n",
    "nombre_exposed        507\n",
    "nombre_recovered    16286\n",
    "Name: 408, dtype: int64"
   ]
  },
  {
   "cell_type": "markdown",
   "id": "04ee5970",
   "metadata": {},
   "source": [
    "nombre_infected       856\n",
    "nombre_sain          2367\n",
    "nombre_exposed        517\n",
    "nombre_recovered    16260\n",
    "Name: 409, dtype: int64"
   ]
  },
  {
   "cell_type": "markdown",
   "id": "377fcbbe",
   "metadata": {},
   "source": [
    "nombre_infected       873\n",
    "nombre_sain          2356\n",
    "nombre_exposed        536\n",
    "nombre_recovered    16235\n",
    "Name: 410, dtype: int64"
   ]
  },
  {
   "cell_type": "markdown",
   "id": "ad750553",
   "metadata": {},
   "source": [
    "nombre_infected       874\n",
    "nombre_sain          2383\n",
    "nombre_exposed        536\n",
    "nombre_recovered    16207\n",
    "Name: 411, dtype: int64"
   ]
  },
  {
   "cell_type": "markdown",
   "id": "c2f6b6da",
   "metadata": {},
   "source": [
    "nombre_infected       879\n",
    "nombre_sain          2387\n",
    "nombre_exposed        548\n",
    "nombre_recovered    16186\n",
    "Name: 412, dtype: int64"
   ]
  },
  {
   "cell_type": "markdown",
   "id": "1355494a",
   "metadata": {},
   "source": [
    "nombre_infected       897\n",
    "nombre_sain          2380\n",
    "nombre_exposed        564\n",
    "nombre_recovered    16159\n",
    "Name: 413, dtype: int64"
   ]
  },
  {
   "cell_type": "markdown",
   "id": "e67ea8c3",
   "metadata": {},
   "source": [
    "nombre_infected       894\n",
    "nombre_sain          2403\n",
    "nombre_exposed        572\n",
    "nombre_recovered    16131\n",
    "Name: 414, dtype: int64"
   ]
  },
  {
   "cell_type": "markdown",
   "id": "344712bb",
   "metadata": {},
   "source": [
    "nombre_infected       901\n",
    "nombre_sain          2404\n",
    "nombre_exposed        566\n",
    "nombre_recovered    16129\n",
    "Name: 415, dtype: int64"
   ]
  },
  {
   "cell_type": "markdown",
   "id": "cfb4ad71",
   "metadata": {},
   "source": [
    "nombre_infected       939\n",
    "nombre_sain          2384\n",
    "nombre_exposed        576\n",
    "nombre_recovered    16101\n",
    "Name: 416, dtype: int64"
   ]
  },
  {
   "cell_type": "markdown",
   "id": "e04ce9df",
   "metadata": {},
   "source": [
    "nombre_infected       953\n",
    "nombre_sain          2405\n",
    "nombre_exposed        550\n",
    "nombre_recovered    16092\n",
    "Name: 417, dtype: int64"
   ]
  },
  {
   "cell_type": "markdown",
   "id": "6e7c45e2",
   "metadata": {},
   "source": [
    "nombre_infected       964\n",
    "nombre_sain          2410\n",
    "nombre_exposed        547\n",
    "nombre_recovered    16079\n",
    "Name: 418, dtype: int64"
   ]
  },
  {
   "cell_type": "markdown",
   "id": "4383553d",
   "metadata": {},
   "source": [
    "nombre_infected       968\n",
    "nombre_sain          2445\n",
    "nombre_exposed        551\n",
    "nombre_recovered    16036\n",
    "Name: 419, dtype: int64"
   ]
  },
  {
   "cell_type": "markdown",
   "id": "ba0f3f55",
   "metadata": {},
   "source": [
    "nombre_infected       985\n",
    "nombre_sain          2416\n",
    "nombre_exposed        604\n",
    "nombre_recovered    15995\n",
    "Name: 420, dtype: int64"
   ]
  },
  {
   "cell_type": "markdown",
   "id": "44c9a330",
   "metadata": {},
   "source": [
    "nombre_infected       987\n",
    "nombre_sain          2410\n",
    "nombre_exposed        627\n",
    "nombre_recovered    15976\n",
    "Name: 421, dtype: int64"
   ]
  },
  {
   "cell_type": "markdown",
   "id": "7e3c41ec",
   "metadata": {},
   "source": [
    "nombre_infected       996\n",
    "nombre_sain          2369\n",
    "nombre_exposed        656\n",
    "nombre_recovered    15979\n",
    "Name: 422, dtype: int64"
   ]
  },
  {
   "cell_type": "markdown",
   "id": "77407058",
   "metadata": {},
   "source": [
    "nombre_infected       990\n",
    "nombre_sain          2359\n",
    "nombre_exposed        673\n",
    "nombre_recovered    15978\n",
    "Name: 423, dtype: int64"
   ]
  },
  {
   "cell_type": "markdown",
   "id": "3a1e6f78",
   "metadata": {},
   "source": [
    "nombre_infected      1026\n",
    "nombre_sain          2361\n",
    "nombre_exposed        651\n",
    "nombre_recovered    15962\n",
    "Name: 424, dtype: int64"
   ]
  },
  {
   "cell_type": "markdown",
   "id": "0e081b54",
   "metadata": {},
   "source": [
    "nombre_infected      1061\n",
    "nombre_sain          2350\n",
    "nombre_exposed        640\n",
    "nombre_recovered    15949\n",
    "Name: 425, dtype: int64"
   ]
  },
  {
   "cell_type": "markdown",
   "id": "b2b33d45",
   "metadata": {},
   "source": [
    "nombre_infected      1052\n",
    "nombre_sain          2355\n",
    "nombre_exposed        617\n",
    "nombre_recovered    15976\n",
    "Name: 426, dtype: int64"
   ]
  },
  {
   "cell_type": "markdown",
   "id": "1401321e",
   "metadata": {},
   "source": [
    "nombre_infected      1064\n",
    "nombre_sain          2343\n",
    "nombre_exposed        611\n",
    "nombre_recovered    15982\n",
    "Name: 427, dtype: int64"
   ]
  },
  {
   "cell_type": "markdown",
   "id": "f742368a",
   "metadata": {},
   "source": [
    "nombre_infected      1062\n",
    "nombre_sain          2301\n",
    "nombre_exposed        638\n",
    "nombre_recovered    15999\n",
    "Name: 428, dtype: int64"
   ]
  },
  {
   "cell_type": "markdown",
   "id": "3213da80",
   "metadata": {},
   "source": [
    "nombre_infected      1088\n",
    "nombre_sain          2262\n",
    "nombre_exposed        619\n",
    "nombre_recovered    16031\n",
    "Name: 429, dtype: int64"
   ]
  },
  {
   "cell_type": "markdown",
   "id": "535c4962",
   "metadata": {},
   "source": [
    "nombre_infected      1112\n",
    "nombre_sain          2226\n",
    "nombre_exposed        625\n",
    "nombre_recovered    16037\n",
    "Name: 430, dtype: int64"
   ]
  },
  {
   "cell_type": "markdown",
   "id": "23e0315e",
   "metadata": {},
   "source": [
    "nombre_infected      1086\n",
    "nombre_sain          2208\n",
    "nombre_exposed        642\n",
    "nombre_recovered    16064\n",
    "Name: 431, dtype: int64"
   ]
  },
  {
   "cell_type": "markdown",
   "id": "f6bd0dee",
   "metadata": {},
   "source": [
    "nombre_infected      1097\n",
    "nombre_sain          2168\n",
    "nombre_exposed        646\n",
    "nombre_recovered    16089\n",
    "Name: 432, dtype: int64"
   ]
  },
  {
   "cell_type": "markdown",
   "id": "3f4b6d39",
   "metadata": {},
   "source": [
    "nombre_infected      1083\n",
    "nombre_sain          2131\n",
    "nombre_exposed        652\n",
    "nombre_recovered    16134\n",
    "Name: 433, dtype: int64"
   ]
  },
  {
   "cell_type": "markdown",
   "id": "73465cb3",
   "metadata": {},
   "source": [
    "nombre_infected      1082\n",
    "nombre_sain          2107\n",
    "nombre_exposed        653\n",
    "nombre_recovered    16158\n",
    "Name: 434, dtype: int64"
   ]
  },
  {
   "cell_type": "markdown",
   "id": "1e9c61a7",
   "metadata": {},
   "source": [
    "nombre_infected      1100\n",
    "nombre_sain          2084\n",
    "nombre_exposed        634\n",
    "nombre_recovered    16182\n",
    "Name: 435, dtype: int64"
   ]
  },
  {
   "cell_type": "markdown",
   "id": "59ef224c",
   "metadata": {},
   "source": [
    "nombre_infected      1086\n",
    "nombre_sain          2089\n",
    "nombre_exposed        621\n",
    "nombre_recovered    16204\n",
    "Name: 436, dtype: int64"
   ]
  },
  {
   "cell_type": "markdown",
   "id": "868a9df3",
   "metadata": {},
   "source": [
    "nombre_infected      1079\n",
    "nombre_sain          2064\n",
    "nombre_exposed        603\n",
    "nombre_recovered    16254\n",
    "Name: 437, dtype: int64"
   ]
  },
  {
   "cell_type": "markdown",
   "id": "6c257744",
   "metadata": {},
   "source": [
    "nombre_infected      1091\n",
    "nombre_sain          2063\n",
    "nombre_exposed        593\n",
    "nombre_recovered    16253\n",
    "Name: 438, dtype: int64"
   ]
  },
  {
   "cell_type": "markdown",
   "id": "b9d63972",
   "metadata": {},
   "source": [
    "nombre_infected      1078\n",
    "nombre_sain          2056\n",
    "nombre_exposed        597\n",
    "nombre_recovered    16269\n",
    "Name: 439, dtype: int64"
   ]
  },
  {
   "cell_type": "markdown",
   "id": "f7e6a771",
   "metadata": {},
   "source": [
    "nombre_infected      1071\n",
    "nombre_sain          2043\n",
    "nombre_exposed        604\n",
    "nombre_recovered    16282\n",
    "Name: 440, dtype: int64"
   ]
  },
  {
   "cell_type": "markdown",
   "id": "027d2354",
   "metadata": {},
   "source": [
    "nombre_infected      1076\n",
    "nombre_sain          2040\n",
    "nombre_exposed        594\n",
    "nombre_recovered    16290\n",
    "Name: 441, dtype: int64"
   ]
  },
  {
   "cell_type": "markdown",
   "id": "df2692c6",
   "metadata": {},
   "source": [
    "nombre_infected      1089\n",
    "nombre_sain          2043\n",
    "nombre_exposed        570\n",
    "nombre_recovered    16298\n",
    "Name: 442, dtype: int64"
   ]
  },
  {
   "cell_type": "markdown",
   "id": "df5096a1",
   "metadata": {},
   "source": [
    "nombre_infected      1083\n",
    "nombre_sain          2037\n",
    "nombre_exposed        575\n",
    "nombre_recovered    16305\n",
    "Name: 443, dtype: int64"
   ]
  },
  {
   "cell_type": "markdown",
   "id": "47dea96f",
   "metadata": {},
   "source": [
    "nombre_infected      1066\n",
    "nombre_sain          2063\n",
    "nombre_exposed        557\n",
    "nombre_recovered    16314\n",
    "Name: 444, dtype: int64"
   ]
  },
  {
   "cell_type": "markdown",
   "id": "f215c376",
   "metadata": {},
   "source": [
    "nombre_infected      1070\n",
    "nombre_sain          2072\n",
    "nombre_exposed        533\n",
    "nombre_recovered    16325\n",
    "Name: 445, dtype: int64"
   ]
  },
  {
   "cell_type": "markdown",
   "id": "00ff3ef9",
   "metadata": {},
   "source": [
    "nombre_infected      1051\n",
    "nombre_sain          2088\n",
    "nombre_exposed        538\n",
    "nombre_recovered    16323\n",
    "Name: 446, dtype: int64"
   ]
  },
  {
   "cell_type": "markdown",
   "id": "85b8cb4e",
   "metadata": {},
   "source": [
    "nombre_infected      1040\n",
    "nombre_sain          2093\n",
    "nombre_exposed        540\n",
    "nombre_recovered    16327\n",
    "Name: 447, dtype: int64"
   ]
  },
  {
   "cell_type": "markdown",
   "id": "40b2cfab",
   "metadata": {},
   "source": [
    "nombre_infected      1035\n",
    "nombre_sain          2120\n",
    "nombre_exposed        516\n",
    "nombre_recovered    16329\n",
    "Name: 448, dtype: int64"
   ]
  },
  {
   "cell_type": "markdown",
   "id": "f83cf616",
   "metadata": {},
   "source": [
    "nombre_infected      1029\n",
    "nombre_sain          2142\n",
    "nombre_exposed        527\n",
    "nombre_recovered    16302\n",
    "Name: 449, dtype: int64"
   ]
  },
  {
   "cell_type": "markdown",
   "id": "f58fa30d",
   "metadata": {},
   "source": [
    "nombre_infected      1015\n",
    "nombre_sain          2141\n",
    "nombre_exposed        562\n",
    "nombre_recovered    16282\n",
    "Name: 450, dtype: int64"
   ]
  },
  {
   "cell_type": "markdown",
   "id": "f416b853",
   "metadata": {},
   "source": [
    "nombre_infected      1018\n",
    "nombre_sain          2180\n",
    "nombre_exposed        550\n",
    "nombre_recovered    16252\n",
    "Name: 451, dtype: int64"
   ]
  },
  {
   "cell_type": "markdown",
   "id": "04758630",
   "metadata": {},
   "source": [
    "nombre_infected      1024\n",
    "nombre_sain          2177\n",
    "nombre_exposed        556\n",
    "nombre_recovered    16243\n",
    "Name: 452, dtype: int64"
   ]
  },
  {
   "cell_type": "markdown",
   "id": "648a6d79",
   "metadata": {},
   "source": [
    "nombre_infected      1028\n",
    "nombre_sain          2171\n",
    "nombre_exposed        579\n",
    "nombre_recovered    16222\n",
    "Name: 453, dtype: int64"
   ]
  },
  {
   "cell_type": "markdown",
   "id": "7fe391ac",
   "metadata": {},
   "source": [
    "nombre_infected      1012\n",
    "nombre_sain          2193\n",
    "nombre_exposed        568\n",
    "nombre_recovered    16227\n",
    "Name: 454, dtype: int64"
   ]
  },
  {
   "cell_type": "markdown",
   "id": "765bdc44",
   "metadata": {},
   "source": [
    "nombre_infected      1025\n",
    "nombre_sain          2218\n",
    "nombre_exposed        550\n",
    "nombre_recovered    16207\n",
    "Name: 455, dtype: int64"
   ]
  },
  {
   "cell_type": "markdown",
   "id": "f7d884c0",
   "metadata": {},
   "source": [
    "nombre_infected      1044\n",
    "nombre_sain          2257\n",
    "nombre_exposed        561\n",
    "nombre_recovered    16138\n",
    "Name: 456, dtype: int64"
   ]
  },
  {
   "cell_type": "markdown",
   "id": "fc11cf7e",
   "metadata": {},
   "source": [
    "nombre_infected      1034\n",
    "nombre_sain          2278\n",
    "nombre_exposed        587\n",
    "nombre_recovered    16101\n",
    "Name: 457, dtype: int64"
   ]
  },
  {
   "cell_type": "markdown",
   "id": "99e1efde",
   "metadata": {},
   "source": [
    "nombre_infected      1049\n",
    "nombre_sain          2289\n",
    "nombre_exposed        619\n",
    "nombre_recovered    16043\n",
    "Name: 458, dtype: int64"
   ]
  },
  {
   "cell_type": "markdown",
   "id": "aada9035",
   "metadata": {},
   "source": [
    "nombre_infected      1054\n",
    "nombre_sain          2299\n",
    "nombre_exposed        623\n",
    "nombre_recovered    16024\n",
    "Name: 459, dtype: int64"
   ]
  },
  {
   "cell_type": "markdown",
   "id": "165fa8c4",
   "metadata": {},
   "source": [
    "nombre_infected      1070\n",
    "nombre_sain          2323\n",
    "nombre_exposed        618\n",
    "nombre_recovered    15989\n",
    "Name: 460, dtype: int64"
   ]
  },
  {
   "cell_type": "markdown",
   "id": "ca096c4e",
   "metadata": {},
   "source": [
    "nombre_infected      1088\n",
    "nombre_sain          2328\n",
    "nombre_exposed        623\n",
    "nombre_recovered    15961\n",
    "Name: 461, dtype: int64"
   ]
  },
  {
   "cell_type": "markdown",
   "id": "bf65bc24",
   "metadata": {},
   "source": [
    "nombre_infected      1083\n",
    "nombre_sain          2345\n",
    "nombre_exposed        636\n",
    "nombre_recovered    15936\n",
    "Name: 462, dtype: int64"
   ]
  },
  {
   "cell_type": "markdown",
   "id": "e8025844",
   "metadata": {},
   "source": [
    "nombre_infected      1100\n",
    "nombre_sain          2347\n",
    "nombre_exposed        636\n",
    "nombre_recovered    15917\n",
    "Name: 463, dtype: int64"
   ]
  },
  {
   "cell_type": "markdown",
   "id": "6fb4b211",
   "metadata": {},
   "source": [
    "nombre_infected      1086\n",
    "nombre_sain          2338\n",
    "nombre_exposed        664\n",
    "nombre_recovered    15912\n",
    "Name: 464, dtype: int64"
   ]
  },
  {
   "cell_type": "markdown",
   "id": "8f1d1dbc",
   "metadata": {},
   "source": [
    "nombre_infected      1084\n",
    "nombre_sain          2318\n",
    "nombre_exposed        676\n",
    "nombre_recovered    15922\n",
    "Name: 465, dtype: int64"
   ]
  },
  {
   "cell_type": "markdown",
   "id": "24fc89b7",
   "metadata": {},
   "source": [
    "nombre_infected      1096\n",
    "nombre_sain          2329\n",
    "nombre_exposed        647\n",
    "nombre_recovered    15928\n",
    "Name: 466, dtype: int64"
   ]
  },
  {
   "cell_type": "markdown",
   "id": "b2d934eb",
   "metadata": {},
   "source": [
    "nombre_infected      1124\n",
    "nombre_sain          2306\n",
    "nombre_exposed        634\n",
    "nombre_recovered    15936\n",
    "Name: 467, dtype: int64"
   ]
  },
  {
   "cell_type": "markdown",
   "id": "84282ab3",
   "metadata": {},
   "source": [
    "nombre_infected      1154\n",
    "nombre_sain          2270\n",
    "nombre_exposed        635\n",
    "nombre_recovered    15941\n",
    "Name: 468, dtype: int64"
   ]
  },
  {
   "cell_type": "markdown",
   "id": "eb930728",
   "metadata": {},
   "source": [
    "nombre_infected      1160\n",
    "nombre_sain          2240\n",
    "nombre_exposed        656\n",
    "nombre_recovered    15944\n",
    "Name: 469, dtype: int64"
   ]
  },
  {
   "cell_type": "markdown",
   "id": "2ee8221e",
   "metadata": {},
   "source": [
    "nombre_infected      1149\n",
    "nombre_sain          2218\n",
    "nombre_exposed        661\n",
    "nombre_recovered    15972\n",
    "Name: 470, dtype: int64"
   ]
  },
  {
   "cell_type": "markdown",
   "id": "6cc44c1a",
   "metadata": {},
   "source": [
    "nombre_infected      1151\n",
    "nombre_sain          2194\n",
    "nombre_exposed        672\n",
    "nombre_recovered    15983\n",
    "Name: 471, dtype: int64"
   ]
  },
  {
   "cell_type": "markdown",
   "id": "1b2dd6a2",
   "metadata": {},
   "source": [
    "nombre_infected      1165\n",
    "nombre_sain          2161\n",
    "nombre_exposed        688\n",
    "nombre_recovered    15986\n",
    "Name: 472, dtype: int64"
   ]
  },
  {
   "cell_type": "markdown",
   "id": "84c8293a",
   "metadata": {},
   "source": [
    "nombre_infected      1159\n",
    "nombre_sain          2161\n",
    "nombre_exposed        679\n",
    "nombre_recovered    16001\n",
    "Name: 473, dtype: int64"
   ]
  },
  {
   "cell_type": "markdown",
   "id": "bce854e4",
   "metadata": {},
   "source": [
    "nombre_infected      1164\n",
    "nombre_sain          2144\n",
    "nombre_exposed        674\n",
    "nombre_recovered    16018\n",
    "Name: 474, dtype: int64"
   ]
  },
  {
   "cell_type": "markdown",
   "id": "9fbfc36d",
   "metadata": {},
   "source": [
    "nombre_infected      1165\n",
    "nombre_sain          2117\n",
    "nombre_exposed        666\n",
    "nombre_recovered    16052\n",
    "Name: 475, dtype: int64"
   ]
  },
  {
   "cell_type": "markdown",
   "id": "dd53c7be",
   "metadata": {},
   "source": [
    "nombre_infected      1200\n",
    "nombre_sain          2080\n",
    "nombre_exposed        673\n",
    "nombre_recovered    16047\n",
    "Name: 476, dtype: int64"
   ]
  },
  {
   "cell_type": "markdown",
   "id": "f85b8441",
   "metadata": {},
   "source": [
    "nombre_infected      1220\n",
    "nombre_sain          2056\n",
    "nombre_exposed        655\n",
    "nombre_recovered    16069\n",
    "Name: 477, dtype: int64"
   ]
  },
  {
   "cell_type": "markdown",
   "id": "8029d91e",
   "metadata": {},
   "source": [
    "nombre_infected      1238\n",
    "nombre_sain          2049\n",
    "nombre_exposed        652\n",
    "nombre_recovered    16061\n",
    "Name: 478, dtype: int64"
   ]
  },
  {
   "cell_type": "markdown",
   "id": "c8210cbf",
   "metadata": {},
   "source": [
    "nombre_infected      1253\n",
    "nombre_sain          2001\n",
    "nombre_exposed        653\n",
    "nombre_recovered    16093\n",
    "Name: 479, dtype: int64"
   ]
  },
  {
   "cell_type": "markdown",
   "id": "aa911383",
   "metadata": {},
   "source": [
    "nombre_infected      1252\n",
    "nombre_sain          1978\n",
    "nombre_exposed        653\n",
    "nombre_recovered    16117\n",
    "Name: 480, dtype: int64"
   ]
  },
  {
   "cell_type": "markdown",
   "id": "10442039",
   "metadata": {},
   "source": [
    "nombre_infected      1247\n",
    "nombre_sain          1976\n",
    "nombre_exposed        647\n",
    "nombre_recovered    16130\n",
    "Name: 481, dtype: int64"
   ]
  },
  {
   "cell_type": "markdown",
   "id": "b1b43dbb",
   "metadata": {},
   "source": [
    "nombre_infected      1225\n",
    "nombre_sain          1926\n",
    "nombre_exposed        677\n",
    "nombre_recovered    16172\n",
    "Name: 482, dtype: int64"
   ]
  },
  {
   "cell_type": "markdown",
   "id": "c3b424e8",
   "metadata": {},
   "source": [
    "nombre_infected      1221\n",
    "nombre_sain          1900\n",
    "nombre_exposed        669\n",
    "nombre_recovered    16210\n",
    "Name: 483, dtype: int64"
   ]
  },
  {
   "cell_type": "markdown",
   "id": "66a921ee",
   "metadata": {},
   "source": [
    "nombre_infected      1229\n",
    "nombre_sain          1903\n",
    "nombre_exposed        665\n",
    "nombre_recovered    16203\n",
    "Name: 484, dtype: int64"
   ]
  },
  {
   "cell_type": "markdown",
   "id": "bb330077",
   "metadata": {},
   "source": [
    "nombre_infected      1229\n",
    "nombre_sain          1890\n",
    "nombre_exposed        655\n",
    "nombre_recovered    16226\n",
    "Name: 485, dtype: int64"
   ]
  },
  {
   "cell_type": "markdown",
   "id": "3043ab87",
   "metadata": {},
   "source": [
    "nombre_infected      1215\n",
    "nombre_sain          1894\n",
    "nombre_exposed        630\n",
    "nombre_recovered    16261\n",
    "Name: 486, dtype: int64"
   ]
  },
  {
   "cell_type": "markdown",
   "id": "5f704833",
   "metadata": {},
   "source": [
    "nombre_infected      1220\n",
    "nombre_sain          1884\n",
    "nombre_exposed        604\n",
    "nombre_recovered    16292\n",
    "Name: 487, dtype: int64"
   ]
  },
  {
   "cell_type": "markdown",
   "id": "9f48fbf3",
   "metadata": {},
   "source": [
    "nombre_infected      1214\n",
    "nombre_sain          1875\n",
    "nombre_exposed        594\n",
    "nombre_recovered    16317\n",
    "Name: 488, dtype: int64"
   ]
  },
  {
   "cell_type": "markdown",
   "id": "e8d395ee",
   "metadata": {},
   "source": [
    "nombre_infected      1195\n",
    "nombre_sain          1864\n",
    "nombre_exposed        579\n",
    "nombre_recovered    16362\n",
    "Name: 489, dtype: int64"
   ]
  },
  {
   "cell_type": "markdown",
   "id": "900b50e3",
   "metadata": {},
   "source": [
    "nombre_infected      1172\n",
    "nombre_sain          1864\n",
    "nombre_exposed        583\n",
    "nombre_recovered    16381\n",
    "Name: 490, dtype: int64"
   ]
  },
  {
   "cell_type": "markdown",
   "id": "f1f1a63f",
   "metadata": {},
   "source": [
    "nombre_infected      1129\n",
    "nombre_sain          1850\n",
    "nombre_exposed        592\n",
    "nombre_recovered    16429\n",
    "Name: 491, dtype: int64"
   ]
  },
  {
   "cell_type": "markdown",
   "id": "33fafb3c",
   "metadata": {},
   "source": [
    "nombre_infected      1110\n",
    "nombre_sain          1819\n",
    "nombre_exposed        609\n",
    "nombre_recovered    16462\n",
    "Name: 492, dtype: int64"
   ]
  },
  {
   "cell_type": "markdown",
   "id": "9eff261b",
   "metadata": {},
   "source": [
    "nombre_infected      1088\n",
    "nombre_sain          1799\n",
    "nombre_exposed        589\n",
    "nombre_recovered    16524\n",
    "Name: 493, dtype: int64"
   ]
  },
  {
   "cell_type": "markdown",
   "id": "0086a737",
   "metadata": {},
   "source": [
    "nombre_infected      1087\n",
    "nombre_sain          1809\n",
    "nombre_exposed        575\n",
    "nombre_recovered    16529\n",
    "Name: 494, dtype: int64"
   ]
  },
  {
   "cell_type": "markdown",
   "id": "23bcd49d",
   "metadata": {},
   "source": [
    "nombre_infected      1080\n",
    "nombre_sain          1839\n",
    "nombre_exposed        545\n",
    "nombre_recovered    16536\n",
    "Name: 495, dtype: int64"
   ]
  },
  {
   "cell_type": "markdown",
   "id": "a5344828",
   "metadata": {},
   "source": [
    "nombre_infected      1052\n",
    "nombre_sain          1845\n",
    "nombre_exposed        541\n",
    "nombre_recovered    16562\n",
    "Name: 496, dtype: int64"
   ]
  },
  {
   "cell_type": "markdown",
   "id": "4a855aa2",
   "metadata": {},
   "source": [
    "nombre_infected      1061\n",
    "nombre_sain          1823\n",
    "nombre_exposed        560\n",
    "nombre_recovered    16556\n",
    "Name: 497, dtype: int64"
   ]
  },
  {
   "cell_type": "markdown",
   "id": "cb25a8c8",
   "metadata": {},
   "source": [
    "nombre_infected      1053\n",
    "nombre_sain          1811\n",
    "nombre_exposed        573\n",
    "nombre_recovered    16563\n",
    "Name: 498, dtype: int64"
   ]
  },
  {
   "cell_type": "markdown",
   "id": "913347ee",
   "metadata": {},
   "source": [
    "nombre_infected      1049\n",
    "nombre_sain          1818\n",
    "nombre_exposed        552\n",
    "nombre_recovered    16581\n",
    "Name: 499, dtype: int64"
   ]
  },
  {
   "cell_type": "markdown",
   "id": "e7d550d5",
   "metadata": {},
   "source": [
    "nombre_infected      1067\n",
    "nombre_sain          1811\n",
    "nombre_exposed        551\n",
    "nombre_recovered    16571\n",
    "Name: 500, dtype: int64"
   ]
  },
  {
   "cell_type": "markdown",
   "id": "55cc3854",
   "metadata": {},
   "source": [
    "nombre_infected      1062\n",
    "nombre_sain          1797\n",
    "nombre_exposed        551\n",
    "nombre_recovered    16590\n",
    "Name: 501, dtype: int64"
   ]
  },
  {
   "cell_type": "markdown",
   "id": "5b45d8e5",
   "metadata": {},
   "source": [
    "nombre_infected      1052\n",
    "nombre_sain          1781\n",
    "nombre_exposed        546\n",
    "nombre_recovered    16621\n",
    "Name: 502, dtype: int64"
   ]
  },
  {
   "cell_type": "markdown",
   "id": "f2f80e22",
   "metadata": {},
   "source": [
    "nombre_infected      1033\n",
    "nombre_sain          1792\n",
    "nombre_exposed        521\n",
    "nombre_recovered    16654\n",
    "Name: 503, dtype: int64"
   ]
  },
  {
   "cell_type": "markdown",
   "id": "d4534356",
   "metadata": {},
   "source": [
    "nombre_infected      1001\n",
    "nombre_sain          1769\n",
    "nombre_exposed        541\n",
    "nombre_recovered    16689\n",
    "Name: 504, dtype: int64"
   ]
  },
  {
   "cell_type": "markdown",
   "id": "46e5e0e6",
   "metadata": {},
   "source": [
    "nombre_infected       995\n",
    "nombre_sain          1766\n",
    "nombre_exposed        522\n",
    "nombre_recovered    16717\n",
    "Name: 505, dtype: int64"
   ]
  },
  {
   "cell_type": "markdown",
   "id": "8567b632",
   "metadata": {},
   "source": [
    "nombre_infected      1003\n",
    "nombre_sain          1777\n",
    "nombre_exposed        501\n",
    "nombre_recovered    16719\n",
    "Name: 506, dtype: int64"
   ]
  },
  {
   "cell_type": "markdown",
   "id": "bfd91d6f",
   "metadata": {},
   "source": [
    "nombre_infected       979\n",
    "nombre_sain          1799\n",
    "nombre_exposed        481\n",
    "nombre_recovered    16741\n",
    "Name: 507, dtype: int64"
   ]
  },
  {
   "cell_type": "markdown",
   "id": "66cb38a7",
   "metadata": {},
   "source": [
    "nombre_infected       975\n",
    "nombre_sain          1809\n",
    "nombre_exposed        480\n",
    "nombre_recovered    16736\n",
    "Name: 508, dtype: int64"
   ]
  },
  {
   "cell_type": "markdown",
   "id": "bb3fd728",
   "metadata": {},
   "source": [
    "nombre_infected       960\n",
    "nombre_sain          1835\n",
    "nombre_exposed        458\n",
    "nombre_recovered    16747\n",
    "Name: 509, dtype: int64"
   ]
  },
  {
   "cell_type": "markdown",
   "id": "7418d434",
   "metadata": {},
   "source": [
    "nombre_infected       917\n",
    "nombre_sain          1860\n",
    "nombre_exposed        471\n",
    "nombre_recovered    16752\n",
    "Name: 510, dtype: int64"
   ]
  },
  {
   "cell_type": "markdown",
   "id": "1137058d",
   "metadata": {},
   "source": [
    "nombre_infected       908\n",
    "nombre_sain          1868\n",
    "nombre_exposed        472\n",
    "nombre_recovered    16752\n",
    "Name: 511, dtype: int64"
   ]
  },
  {
   "cell_type": "markdown",
   "id": "1d737a42",
   "metadata": {},
   "source": [
    "nombre_infected       892\n",
    "nombre_sain          1878\n",
    "nombre_exposed        469\n",
    "nombre_recovered    16761\n",
    "Name: 512, dtype: int64"
   ]
  },
  {
   "cell_type": "markdown",
   "id": "4d01a5e3",
   "metadata": {},
   "source": [
    "nombre_infected       862\n",
    "nombre_sain          1892\n",
    "nombre_exposed        476\n",
    "nombre_recovered    16770\n",
    "Name: 513, dtype: int64"
   ]
  },
  {
   "cell_type": "markdown",
   "id": "c6743069",
   "metadata": {},
   "source": [
    "nombre_infected       875\n",
    "nombre_sain          1903\n",
    "nombre_exposed        466\n",
    "nombre_recovered    16756\n",
    "Name: 514, dtype: int64"
   ]
  },
  {
   "cell_type": "markdown",
   "id": "197e8dcc",
   "metadata": {},
   "source": [
    "nombre_infected       873\n",
    "nombre_sain          1907\n",
    "nombre_exposed        464\n",
    "nombre_recovered    16756\n",
    "Name: 515, dtype: int64"
   ]
  },
  {
   "cell_type": "markdown",
   "id": "7c74d1c8",
   "metadata": {},
   "source": [
    "nombre_infected       864\n",
    "nombre_sain          1947\n",
    "nombre_exposed        450\n",
    "nombre_recovered    16739\n",
    "Name: 516, dtype: int64"
   ]
  },
  {
   "cell_type": "markdown",
   "id": "a4ef4ea9",
   "metadata": {},
   "source": [
    "nombre_infected       870\n",
    "nombre_sain          1949\n",
    "nombre_exposed        444\n",
    "nombre_recovered    16737\n",
    "Name: 517, dtype: int64"
   ]
  },
  {
   "cell_type": "markdown",
   "id": "40d1527d",
   "metadata": {},
   "source": [
    "nombre_infected       867\n",
    "nombre_sain          1989\n",
    "nombre_exposed        426\n",
    "nombre_recovered    16718\n",
    "Name: 518, dtype: int64"
   ]
  },
  {
   "cell_type": "markdown",
   "id": "c52cab44",
   "metadata": {},
   "source": [
    "nombre_infected       830\n",
    "nombre_sain          1990\n",
    "nombre_exposed        429\n",
    "nombre_recovered    16751\n",
    "Name: 519, dtype: int64"
   ]
  },
  {
   "cell_type": "markdown",
   "id": "fb3ec022",
   "metadata": {},
   "source": [
    "nombre_infected       800\n",
    "nombre_sain          2003\n",
    "nombre_exposed        425\n",
    "nombre_recovered    16772\n",
    "Name: 520, dtype: int64"
   ]
  },
  {
   "cell_type": "markdown",
   "id": "edd1a4d7",
   "metadata": {},
   "source": [
    "nombre_infected       800\n",
    "nombre_sain          2030\n",
    "nombre_exposed        421\n",
    "nombre_recovered    16749\n",
    "Name: 521, dtype: int64"
   ]
  },
  {
   "cell_type": "markdown",
   "id": "eb9287d9",
   "metadata": {},
   "source": [
    "nombre_infected       790\n",
    "nombre_sain          2048\n",
    "nombre_exposed        409\n",
    "nombre_recovered    16753\n",
    "Name: 522, dtype: int64"
   ]
  },
  {
   "cell_type": "markdown",
   "id": "12860e3f",
   "metadata": {},
   "source": [
    "nombre_infected       791\n",
    "nombre_sain          2064\n",
    "nombre_exposed        426\n",
    "nombre_recovered    16719\n",
    "Name: 523, dtype: int64"
   ]
  },
  {
   "cell_type": "markdown",
   "id": "2620a060",
   "metadata": {},
   "source": [
    "nombre_infected       777\n",
    "nombre_sain          2085\n",
    "nombre_exposed        435\n",
    "nombre_recovered    16703\n",
    "Name: 524, dtype: int64"
   ]
  },
  {
   "cell_type": "markdown",
   "id": "a0013b4b",
   "metadata": {},
   "source": [
    "nombre_infected       776\n",
    "nombre_sain          2087\n",
    "nombre_exposed        431\n",
    "nombre_recovered    16706\n",
    "Name: 525, dtype: int64"
   ]
  },
  {
   "cell_type": "markdown",
   "id": "c5b99242",
   "metadata": {},
   "source": [
    "nombre_infected       786\n",
    "nombre_sain          2104\n",
    "nombre_exposed        432\n",
    "nombre_recovered    16678\n",
    "Name: 526, dtype: int64"
   ]
  },
  {
   "cell_type": "markdown",
   "id": "0b0ed5c0",
   "metadata": {},
   "source": [
    "nombre_infected       786\n",
    "nombre_sain          2109\n",
    "nombre_exposed        456\n",
    "nombre_recovered    16649\n",
    "Name: 527, dtype: int64"
   ]
  },
  {
   "cell_type": "markdown",
   "id": "e3e23f4f",
   "metadata": {},
   "source": [
    "nombre_infected       798\n",
    "nombre_sain          2172\n",
    "nombre_exposed        444\n",
    "nombre_recovered    16586\n",
    "Name: 528, dtype: int64"
   ]
  },
  {
   "cell_type": "markdown",
   "id": "d22f16bb",
   "metadata": {},
   "source": [
    "nombre_infected       807\n",
    "nombre_sain          2190\n",
    "nombre_exposed        458\n",
    "nombre_recovered    16545\n",
    "Name: 529, dtype: int64"
   ]
  },
  {
   "cell_type": "markdown",
   "id": "9b271026",
   "metadata": {},
   "source": [
    "nombre_infected       831\n",
    "nombre_sain          2196\n",
    "nombre_exposed        458\n",
    "nombre_recovered    16515\n",
    "Name: 530, dtype: int64"
   ]
  },
  {
   "cell_type": "markdown",
   "id": "7573b07a",
   "metadata": {},
   "source": [
    "nombre_infected       828\n",
    "nombre_sain          2222\n",
    "nombre_exposed        457\n",
    "nombre_recovered    16493\n",
    "Name: 531, dtype: int64"
   ]
  },
  {
   "cell_type": "markdown",
   "id": "a5ef327e",
   "metadata": {},
   "source": [
    "nombre_infected       844\n",
    "nombre_sain          2253\n",
    "nombre_exposed        476\n",
    "nombre_recovered    16427\n",
    "Name: 532, dtype: int64"
   ]
  },
  {
   "cell_type": "markdown",
   "id": "1b7d1a40",
   "metadata": {},
   "source": [
    "nombre_infected       852\n",
    "nombre_sain          2259\n",
    "nombre_exposed        475\n",
    "nombre_recovered    16414\n",
    "Name: 533, dtype: int64"
   ]
  },
  {
   "cell_type": "markdown",
   "id": "f6333165",
   "metadata": {},
   "source": [
    "nombre_infected       845\n",
    "nombre_sain          2261\n",
    "nombre_exposed        486\n",
    "nombre_recovered    16408\n",
    "Name: 534, dtype: int64"
   ]
  },
  {
   "cell_type": "markdown",
   "id": "c83395f3",
   "metadata": {},
   "source": [
    "nombre_infected       831\n",
    "nombre_sain          2280\n",
    "nombre_exposed        494\n",
    "nombre_recovered    16395\n",
    "Name: 535, dtype: int64"
   ]
  },
  {
   "cell_type": "markdown",
   "id": "30d6b885",
   "metadata": {},
   "source": [
    "nombre_infected       839\n",
    "nombre_sain          2289\n",
    "nombre_exposed        497\n",
    "nombre_recovered    16375\n",
    "Name: 536, dtype: int64"
   ]
  },
  {
   "cell_type": "markdown",
   "id": "ea7adff9",
   "metadata": {},
   "source": [
    "nombre_infected       843\n",
    "nombre_sain          2299\n",
    "nombre_exposed        503\n",
    "nombre_recovered    16355\n",
    "Name: 537, dtype: int64"
   ]
  },
  {
   "cell_type": "markdown",
   "id": "09134878",
   "metadata": {},
   "source": [
    "nombre_infected       871\n",
    "nombre_sain          2288\n",
    "nombre_exposed        507\n",
    "nombre_recovered    16334\n",
    "Name: 538, dtype: int64"
   ]
  },
  {
   "cell_type": "markdown",
   "id": "b70df82d",
   "metadata": {},
   "source": [
    "nombre_infected       864\n",
    "nombre_sain          2275\n",
    "nombre_exposed        512\n",
    "nombre_recovered    16349\n",
    "Name: 539, dtype: int64"
   ]
  },
  {
   "cell_type": "markdown",
   "id": "148faa7c",
   "metadata": {},
   "source": [
    "nombre_infected       873\n",
    "nombre_sain          2261\n",
    "nombre_exposed        542\n",
    "nombre_recovered    16324\n",
    "Name: 540, dtype: int64"
   ]
  },
  {
   "cell_type": "markdown",
   "id": "a601d12a",
   "metadata": {},
   "source": [
    "nombre_infected       856\n",
    "nombre_sain          2262\n",
    "nombre_exposed        528\n",
    "nombre_recovered    16354\n",
    "Name: 541, dtype: int64"
   ]
  },
  {
   "cell_type": "markdown",
   "id": "3d2ef76a",
   "metadata": {},
   "source": [
    "nombre_infected       886\n",
    "nombre_sain          2251\n",
    "nombre_exposed        522\n",
    "nombre_recovered    16341\n",
    "Name: 542, dtype: int64"
   ]
  },
  {
   "cell_type": "markdown",
   "id": "5f3b3046",
   "metadata": {},
   "source": [
    "nombre_infected       880\n",
    "nombre_sain          2248\n",
    "nombre_exposed        533\n",
    "nombre_recovered    16339\n",
    "Name: 543, dtype: int64"
   ]
  },
  {
   "cell_type": "markdown",
   "id": "76c954a5",
   "metadata": {},
   "source": [
    "nombre_infected       883\n",
    "nombre_sain          2234\n",
    "nombre_exposed        556\n",
    "nombre_recovered    16327\n",
    "Name: 544, dtype: int64"
   ]
  },
  {
   "cell_type": "markdown",
   "id": "3bcddf19",
   "metadata": {},
   "source": [
    "nombre_infected       908\n",
    "nombre_sain          2265\n",
    "nombre_exposed        536\n",
    "nombre_recovered    16291\n",
    "Name: 545, dtype: int64"
   ]
  },
  {
   "cell_type": "markdown",
   "id": "85e89bd7",
   "metadata": {},
   "source": [
    "nombre_infected       917\n",
    "nombre_sain          2258\n",
    "nombre_exposed        553\n",
    "nombre_recovered    16272\n",
    "Name: 546, dtype: int64"
   ]
  },
  {
   "cell_type": "markdown",
   "id": "97cb71f1",
   "metadata": {},
   "source": [
    "nombre_infected       924\n",
    "nombre_sain          2285\n",
    "nombre_exposed        542\n",
    "nombre_recovered    16249\n",
    "Name: 547, dtype: int64"
   ]
  },
  {
   "cell_type": "markdown",
   "id": "ce4e4262",
   "metadata": {},
   "source": [
    "nombre_infected       941\n",
    "nombre_sain          2282\n",
    "nombre_exposed        530\n",
    "nombre_recovered    16247\n",
    "Name: 548, dtype: int64"
   ]
  },
  {
   "cell_type": "markdown",
   "id": "90384f69",
   "metadata": {},
   "source": [
    "nombre_infected       960\n",
    "nombre_sain          2272\n",
    "nombre_exposed        540\n",
    "nombre_recovered    16228\n",
    "Name: 549, dtype: int64"
   ]
  },
  {
   "cell_type": "markdown",
   "id": "0f8402a1",
   "metadata": {},
   "source": [
    "nombre_infected       949\n",
    "nombre_sain          2268\n",
    "nombre_exposed        576\n",
    "nombre_recovered    16207\n",
    "Name: 550, dtype: int64"
   ]
  },
  {
   "cell_type": "markdown",
   "id": "2d76d4b9",
   "metadata": {},
   "source": [
    "nombre_infected       938\n",
    "nombre_sain          2272\n",
    "nombre_exposed        591\n",
    "nombre_recovered    16199\n",
    "Name: 551, dtype: int64"
   ]
  },
  {
   "cell_type": "markdown",
   "id": "3d32e98f",
   "metadata": {},
   "source": [
    "nombre_infected       957\n",
    "nombre_sain          2280\n",
    "nombre_exposed        585\n",
    "nombre_recovered    16178\n",
    "Name: 552, dtype: int64"
   ]
  },
  {
   "cell_type": "markdown",
   "id": "febeb16d",
   "metadata": {},
   "source": [
    "nombre_infected       959\n",
    "nombre_sain          2267\n",
    "nombre_exposed        605\n",
    "nombre_recovered    16169\n",
    "Name: 553, dtype: int64"
   ]
  },
  {
   "cell_type": "markdown",
   "id": "a97f886f",
   "metadata": {},
   "source": [
    "nombre_infected       981\n",
    "nombre_sain          2252\n",
    "nombre_exposed        614\n",
    "nombre_recovered    16153\n",
    "Name: 554, dtype: int64"
   ]
  },
  {
   "cell_type": "markdown",
   "id": "ce3e19d0",
   "metadata": {},
   "source": [
    "nombre_infected       976\n",
    "nombre_sain          2239\n",
    "nombre_exposed        625\n",
    "nombre_recovered    16160\n",
    "Name: 555, dtype: int64"
   ]
  },
  {
   "cell_type": "markdown",
   "id": "35f04e2c",
   "metadata": {},
   "source": [
    "nombre_infected      1004\n",
    "nombre_sain          2226\n",
    "nombre_exposed        633\n",
    "nombre_recovered    16137\n",
    "Name: 556, dtype: int64"
   ]
  },
  {
   "cell_type": "markdown",
   "id": "2f48bc3e",
   "metadata": {},
   "source": [
    "nombre_infected      1024\n",
    "nombre_sain          2227\n",
    "nombre_exposed        617\n",
    "nombre_recovered    16132\n",
    "Name: 557, dtype: int64"
   ]
  },
  {
   "cell_type": "markdown",
   "id": "b9a11109",
   "metadata": {},
   "source": [
    "nombre_infected      1053\n",
    "nombre_sain          2235\n",
    "nombre_exposed        602\n",
    "nombre_recovered    16110\n",
    "Name: 558, dtype: int64"
   ]
  },
  {
   "cell_type": "markdown",
   "id": "50ef901f",
   "metadata": {},
   "source": [
    "nombre_infected      1058\n",
    "nombre_sain          2219\n",
    "nombre_exposed        618\n",
    "nombre_recovered    16105\n",
    "Name: 559, dtype: int64"
   ]
  },
  {
   "cell_type": "markdown",
   "id": "874a5cf8",
   "metadata": {},
   "source": [
    "nombre_infected      1068\n",
    "nombre_sain          2199\n",
    "nombre_exposed        626\n",
    "nombre_recovered    16107\n",
    "Name: 560, dtype: int64"
   ]
  },
  {
   "cell_type": "markdown",
   "id": "1816001f",
   "metadata": {},
   "source": [
    "nombre_infected      1053\n",
    "nombre_sain          2201\n",
    "nombre_exposed        631\n",
    "nombre_recovered    16115\n",
    "Name: 561, dtype: int64"
   ]
  },
  {
   "cell_type": "markdown",
   "id": "cc4235b2",
   "metadata": {},
   "source": [
    "nombre_infected      1072\n",
    "nombre_sain          2164\n",
    "nombre_exposed        644\n",
    "nombre_recovered    16120\n",
    "Name: 562, dtype: int64"
   ]
  },
  {
   "cell_type": "markdown",
   "id": "b07f98e9",
   "metadata": {},
   "source": [
    "nombre_infected      1071\n",
    "nombre_sain          2157\n",
    "nombre_exposed        637\n",
    "nombre_recovered    16135\n",
    "Name: 563, dtype: int64"
   ]
  },
  {
   "cell_type": "markdown",
   "id": "97066aa7",
   "metadata": {},
   "source": [
    "nombre_infected      1090\n",
    "nombre_sain          2147\n",
    "nombre_exposed        624\n",
    "nombre_recovered    16139\n",
    "Name: 564, dtype: int64"
   ]
  },
  {
   "cell_type": "markdown",
   "id": "fd810409",
   "metadata": {},
   "source": [
    "nombre_infected      1089\n",
    "nombre_sain          2105\n",
    "nombre_exposed        656\n",
    "nombre_recovered    16150\n",
    "Name: 565, dtype: int64"
   ]
  },
  {
   "cell_type": "markdown",
   "id": "54b97eab",
   "metadata": {},
   "source": [
    "nombre_infected      1094\n",
    "nombre_sain          2081\n",
    "nombre_exposed        662\n",
    "nombre_recovered    16163\n",
    "Name: 566, dtype: int64"
   ]
  },
  {
   "cell_type": "markdown",
   "id": "c69c903c",
   "metadata": {},
   "source": [
    "nombre_infected      1120\n",
    "nombre_sain          2074\n",
    "nombre_exposed        638\n",
    "nombre_recovered    16168\n",
    "Name: 567, dtype: int64"
   ]
  },
  {
   "cell_type": "markdown",
   "id": "82d37000",
   "metadata": {},
   "source": [
    "nombre_infected      1132\n",
    "nombre_sain          2055\n",
    "nombre_exposed        629\n",
    "nombre_recovered    16184\n",
    "Name: 568, dtype: int64"
   ]
  },
  {
   "cell_type": "markdown",
   "id": "c223df09",
   "metadata": {},
   "source": [
    "nombre_infected      1153\n",
    "nombre_sain          2043\n",
    "nombre_exposed        622\n",
    "nombre_recovered    16182\n",
    "Name: 569, dtype: int64"
   ]
  },
  {
   "cell_type": "markdown",
   "id": "494400c6",
   "metadata": {},
   "source": [
    "nombre_infected      1130\n",
    "nombre_sain          2013\n",
    "nombre_exposed        641\n",
    "nombre_recovered    16216\n",
    "Name: 570, dtype: int64"
   ]
  },
  {
   "cell_type": "markdown",
   "id": "9738befa",
   "metadata": {},
   "source": [
    "nombre_infected      1111\n",
    "nombre_sain          1980\n",
    "nombre_exposed        642\n",
    "nombre_recovered    16267\n",
    "Name: 571, dtype: int64"
   ]
  },
  {
   "cell_type": "markdown",
   "id": "c4615a71",
   "metadata": {},
   "source": [
    "nombre_infected      1109\n",
    "nombre_sain          1927\n",
    "nombre_exposed        669\n",
    "nombre_recovered    16295\n",
    "Name: 572, dtype: int64"
   ]
  },
  {
   "cell_type": "markdown",
   "id": "b5ff72c3",
   "metadata": {},
   "source": [
    "nombre_infected      1123\n",
    "nombre_sain          1903\n",
    "nombre_exposed        675\n",
    "nombre_recovered    16299\n",
    "Name: 573, dtype: int64"
   ]
  },
  {
   "cell_type": "markdown",
   "id": "6157ce81",
   "metadata": {},
   "source": [
    "nombre_infected      1140\n",
    "nombre_sain          1885\n",
    "nombre_exposed        650\n",
    "nombre_recovered    16325\n",
    "Name: 574, dtype: int64"
   ]
  },
  {
   "cell_type": "markdown",
   "id": "bc9bbfe6",
   "metadata": {},
   "source": [
    "nombre_infected      1140\n",
    "nombre_sain          1887\n",
    "nombre_exposed        617\n",
    "nombre_recovered    16356\n",
    "Name: 575, dtype: int64"
   ]
  },
  {
   "cell_type": "markdown",
   "id": "af0ae176",
   "metadata": {},
   "source": [
    "nombre_infected      1157\n",
    "nombre_sain          1859\n",
    "nombre_exposed        622\n",
    "nombre_recovered    16362\n",
    "Name: 576, dtype: int64"
   ]
  },
  {
   "cell_type": "markdown",
   "id": "341449da",
   "metadata": {},
   "source": [
    "nombre_infected      1138\n",
    "nombre_sain          1847\n",
    "nombre_exposed        616\n",
    "nombre_recovered    16399\n",
    "Name: 577, dtype: int64"
   ]
  },
  {
   "cell_type": "markdown",
   "id": "8a7dadb2",
   "metadata": {},
   "source": [
    "nombre_infected      1113\n",
    "nombre_sain          1827\n",
    "nombre_exposed        628\n",
    "nombre_recovered    16432\n",
    "Name: 578, dtype: int64"
   ]
  },
  {
   "cell_type": "markdown",
   "id": "cb3ad369",
   "metadata": {},
   "source": [
    "nombre_infected      1115\n",
    "nombre_sain          1816\n",
    "nombre_exposed        627\n",
    "nombre_recovered    16442\n",
    "Name: 579, dtype: int64"
   ]
  },
  {
   "cell_type": "markdown",
   "id": "409d8f84",
   "metadata": {},
   "source": [
    "nombre_infected      1095\n",
    "nombre_sain          1819\n",
    "nombre_exposed        621\n",
    "nombre_recovered    16465\n",
    "Name: 580, dtype: int64"
   ]
  },
  {
   "cell_type": "markdown",
   "id": "0f880034",
   "metadata": {},
   "source": [
    "nombre_infected      1098\n",
    "nombre_sain          1805\n",
    "nombre_exposed        593\n",
    "nombre_recovered    16504\n",
    "Name: 581, dtype: int64"
   ]
  },
  {
   "cell_type": "markdown",
   "id": "57dab30f",
   "metadata": {},
   "source": [
    "nombre_infected      1100\n",
    "nombre_sain          1799\n",
    "nombre_exposed        592\n",
    "nombre_recovered    16509\n",
    "Name: 582, dtype: int64"
   ]
  },
  {
   "cell_type": "markdown",
   "id": "f8f8bb54",
   "metadata": {},
   "source": [
    "nombre_infected      1073\n",
    "nombre_sain          1822\n",
    "nombre_exposed        584\n",
    "nombre_recovered    16521\n",
    "Name: 583, dtype: int64"
   ]
  },
  {
   "cell_type": "markdown",
   "id": "c9598d70",
   "metadata": {},
   "source": [
    "nombre_infected      1056\n",
    "nombre_sain          1822\n",
    "nombre_exposed        576\n",
    "nombre_recovered    16546\n",
    "Name: 584, dtype: int64"
   ]
  },
  {
   "cell_type": "markdown",
   "id": "a9cf7732",
   "metadata": {},
   "source": [
    "nombre_infected      1056\n",
    "nombre_sain          1819\n",
    "nombre_exposed        565\n",
    "nombre_recovered    16560\n",
    "Name: 585, dtype: int64"
   ]
  },
  {
   "cell_type": "markdown",
   "id": "3904f002",
   "metadata": {},
   "source": [
    "nombre_infected      1055\n",
    "nombre_sain          1825\n",
    "nombre_exposed        574\n",
    "nombre_recovered    16546\n",
    "Name: 586, dtype: int64"
   ]
  },
  {
   "cell_type": "markdown",
   "id": "dd9c0790",
   "metadata": {},
   "source": [
    "nombre_infected      1041\n",
    "nombre_sain          1841\n",
    "nombre_exposed        569\n",
    "nombre_recovered    16549\n",
    "Name: 587, dtype: int64"
   ]
  },
  {
   "cell_type": "markdown",
   "id": "9ac29910",
   "metadata": {},
   "source": [
    "nombre_infected      1014\n",
    "nombre_sain          1883\n",
    "nombre_exposed        552\n",
    "nombre_recovered    16551\n",
    "Name: 588, dtype: int64"
   ]
  },
  {
   "cell_type": "markdown",
   "id": "6f6711ec",
   "metadata": {},
   "source": [
    "nombre_infected       999\n",
    "nombre_sain          1894\n",
    "nombre_exposed        534\n",
    "nombre_recovered    16573\n",
    "Name: 589, dtype: int64"
   ]
  },
  {
   "cell_type": "markdown",
   "id": "043bc18f",
   "metadata": {},
   "source": [
    "nombre_infected       975\n",
    "nombre_sain          1912\n",
    "nombre_exposed        539\n",
    "nombre_recovered    16574\n",
    "Name: 590, dtype: int64"
   ]
  },
  {
   "cell_type": "markdown",
   "id": "0f3bbfe7",
   "metadata": {},
   "source": [
    "nombre_infected       954\n",
    "nombre_sain          1927\n",
    "nombre_exposed        537\n",
    "nombre_recovered    16582\n",
    "Name: 591, dtype: int64"
   ]
  },
  {
   "cell_type": "markdown",
   "id": "35fd741f",
   "metadata": {},
   "source": [
    "nombre_infected       948\n",
    "nombre_sain          1978\n",
    "nombre_exposed        516\n",
    "nombre_recovered    16558\n",
    "Name: 592, dtype: int64"
   ]
  },
  {
   "cell_type": "markdown",
   "id": "93dd4a75",
   "metadata": {},
   "source": [
    "nombre_infected       942\n",
    "nombre_sain          2026\n",
    "nombre_exposed        495\n",
    "nombre_recovered    16537\n",
    "Name: 593, dtype: int64"
   ]
  },
  {
   "cell_type": "markdown",
   "id": "2ca73eb7",
   "metadata": {},
   "source": [
    "nombre_infected       925\n",
    "nombre_sain          2032\n",
    "nombre_exposed        499\n",
    "nombre_recovered    16544\n",
    "Name: 594, dtype: int64"
   ]
  },
  {
   "cell_type": "markdown",
   "id": "52cd77ae",
   "metadata": {},
   "source": [
    "nombre_infected       892\n",
    "nombre_sain          2069\n",
    "nombre_exposed        511\n",
    "nombre_recovered    16528\n",
    "Name: 595, dtype: int64"
   ]
  },
  {
   "cell_type": "markdown",
   "id": "950d3cc6",
   "metadata": {},
   "source": [
    "nombre_infected       900\n",
    "nombre_sain          2062\n",
    "nombre_exposed        514\n",
    "nombre_recovered    16524\n",
    "Name: 596, dtype: int64"
   ]
  },
  {
   "cell_type": "markdown",
   "id": "f52c14f3",
   "metadata": {},
   "source": [
    "nombre_infected       882\n",
    "nombre_sain          2098\n",
    "nombre_exposed        525\n",
    "nombre_recovered    16495\n",
    "Name: 597, dtype: int64"
   ]
  },
  {
   "cell_type": "markdown",
   "id": "11b0c8e6",
   "metadata": {},
   "source": [
    "nombre_infected       888\n",
    "nombre_sain          2121\n",
    "nombre_exposed        525\n",
    "nombre_recovered    16466\n",
    "Name: 598, dtype: int64"
   ]
  },
  {
   "cell_type": "markdown",
   "id": "ef9727e0",
   "metadata": {},
   "source": [
    "nombre_infected       878\n",
    "nombre_sain          2107\n",
    "nombre_exposed        542\n",
    "nombre_recovered    16473\n",
    "Name: 599, dtype: int64"
   ]
  },
  {
   "cell_type": "markdown",
   "id": "54d71412",
   "metadata": {},
   "source": [
    "nombre_infected       883\n",
    "nombre_sain          2107\n",
    "nombre_exposed        538\n",
    "nombre_recovered    16472\n",
    "Name: 600, dtype: int64"
   ]
  },
  {
   "cell_type": "markdown",
   "id": "077d69f6",
   "metadata": {},
   "source": [
    "nombre_infected       900\n",
    "nombre_sain          2115\n",
    "nombre_exposed        521\n",
    "nombre_recovered    16464\n",
    "Name: 601, dtype: int64"
   ]
  },
  {
   "cell_type": "markdown",
   "id": "4cc546f0",
   "metadata": {},
   "source": [
    "nombre_infected       875\n",
    "nombre_sain          2119\n",
    "nombre_exposed        515\n",
    "nombre_recovered    16491\n",
    "Name: 602, dtype: int64"
   ]
  },
  {
   "cell_type": "markdown",
   "id": "64267d12",
   "metadata": {},
   "source": [
    "nombre_infected       888\n",
    "nombre_sain          2125\n",
    "nombre_exposed        507\n",
    "nombre_recovered    16480\n",
    "Name: 603, dtype: int64"
   ]
  },
  {
   "cell_type": "markdown",
   "id": "a8a94083",
   "metadata": {},
   "source": [
    "nombre_infected       872\n",
    "nombre_sain          2140\n",
    "nombre_exposed        518\n",
    "nombre_recovered    16470\n",
    "Name: 604, dtype: int64"
   ]
  },
  {
   "cell_type": "markdown",
   "id": "52920fb7",
   "metadata": {},
   "source": [
    "nombre_infected       864\n",
    "nombre_sain          2171\n",
    "nombre_exposed        508\n",
    "nombre_recovered    16457\n",
    "Name: 605, dtype: int64"
   ]
  },
  {
   "cell_type": "markdown",
   "id": "3360b9bf",
   "metadata": {},
   "source": [
    "nombre_infected       864\n",
    "nombre_sain          2200\n",
    "nombre_exposed        498\n",
    "nombre_recovered    16438\n",
    "Name: 606, dtype: int64"
   ]
  },
  {
   "cell_type": "markdown",
   "id": "05bafa9c",
   "metadata": {},
   "source": [
    "nombre_infected       868\n",
    "nombre_sain          2208\n",
    "nombre_exposed        495\n",
    "nombre_recovered    16429\n",
    "Name: 607, dtype: int64"
   ]
  },
  {
   "cell_type": "markdown",
   "id": "e0dae0d6",
   "metadata": {},
   "source": [
    "nombre_infected       879\n",
    "nombre_sain          2229\n",
    "nombre_exposed        494\n",
    "nombre_recovered    16398\n",
    "Name: 608, dtype: int64"
   ]
  },
  {
   "cell_type": "markdown",
   "id": "a11468c0",
   "metadata": {},
   "source": [
    "nombre_infected       858\n",
    "nombre_sain          2212\n",
    "nombre_exposed        516\n",
    "nombre_recovered    16414\n",
    "Name: 609, dtype: int64"
   ]
  },
  {
   "cell_type": "markdown",
   "id": "1c8e8575",
   "metadata": {},
   "source": [
    "nombre_infected       858\n",
    "nombre_sain          2228\n",
    "nombre_exposed        516\n",
    "nombre_recovered    16398\n",
    "Name: 610, dtype: int64"
   ]
  },
  {
   "cell_type": "markdown",
   "id": "7d79402b",
   "metadata": {},
   "source": [
    "nombre_infected       857\n",
    "nombre_sain          2257\n",
    "nombre_exposed        498\n",
    "nombre_recovered    16388\n",
    "Name: 611, dtype: int64"
   ]
  },
  {
   "cell_type": "markdown",
   "id": "6e7aeea7",
   "metadata": {},
   "source": [
    "nombre_infected       882\n",
    "nombre_sain          2271\n",
    "nombre_exposed        487\n",
    "nombre_recovered    16360\n",
    "Name: 612, dtype: int64"
   ]
  },
  {
   "cell_type": "markdown",
   "id": "c334bcb9",
   "metadata": {},
   "source": [
    "nombre_infected       902\n",
    "nombre_sain          2263\n",
    "nombre_exposed        488\n",
    "nombre_recovered    16347\n",
    "Name: 613, dtype: int64"
   ]
  },
  {
   "cell_type": "markdown",
   "id": "4c83df28",
   "metadata": {},
   "source": [
    "nombre_infected       889\n",
    "nombre_sain          2255\n",
    "nombre_exposed        518\n",
    "nombre_recovered    16338\n",
    "Name: 614, dtype: int64"
   ]
  },
  {
   "cell_type": "markdown",
   "id": "19db550a",
   "metadata": {},
   "source": [
    "nombre_infected       866\n",
    "nombre_sain          2277\n",
    "nombre_exposed        519\n",
    "nombre_recovered    16338\n",
    "Name: 615, dtype: int64"
   ]
  },
  {
   "cell_type": "markdown",
   "id": "372b5f62",
   "metadata": {},
   "source": [
    "nombre_infected       891\n",
    "nombre_sain          2264\n",
    "nombre_exposed        502\n",
    "nombre_recovered    16343\n",
    "Name: 616, dtype: int64"
   ]
  },
  {
   "cell_type": "markdown",
   "id": "8ec4d911",
   "metadata": {},
   "source": [
    "nombre_infected       922\n",
    "nombre_sain          2246\n",
    "nombre_exposed        507\n",
    "nombre_recovered    16325\n",
    "Name: 617, dtype: int64"
   ]
  },
  {
   "cell_type": "markdown",
   "id": "3a7235a8",
   "metadata": {},
   "source": [
    "nombre_infected       927\n",
    "nombre_sain          2230\n",
    "nombre_exposed        534\n",
    "nombre_recovered    16309\n",
    "Name: 618, dtype: int64"
   ]
  },
  {
   "cell_type": "markdown",
   "id": "17814f7c",
   "metadata": {},
   "source": [
    "nombre_infected       895\n",
    "nombre_sain          2221\n",
    "nombre_exposed        543\n",
    "nombre_recovered    16341\n",
    "Name: 619, dtype: int64"
   ]
  },
  {
   "cell_type": "markdown",
   "id": "008d76c1",
   "metadata": {},
   "source": [
    "nombre_infected       902\n",
    "nombre_sain          2256\n",
    "nombre_exposed        515\n",
    "nombre_recovered    16327\n",
    "Name: 620, dtype: int64"
   ]
  },
  {
   "cell_type": "markdown",
   "id": "ee594f4b",
   "metadata": {},
   "source": [
    "nombre_infected       928\n",
    "nombre_sain          2258\n",
    "nombre_exposed        503\n",
    "nombre_recovered    16311\n",
    "Name: 621, dtype: int64"
   ]
  },
  {
   "cell_type": "markdown",
   "id": "a780003e",
   "metadata": {},
   "source": [
    "nombre_infected       946\n",
    "nombre_sain          2240\n",
    "nombre_exposed        517\n",
    "nombre_recovered    16297\n",
    "Name: 622, dtype: int64"
   ]
  },
  {
   "cell_type": "markdown",
   "id": "2dd0f9c9",
   "metadata": {},
   "source": [
    "nombre_infected       939\n",
    "nombre_sain          2219\n",
    "nombre_exposed        550\n",
    "nombre_recovered    16292\n",
    "Name: 623, dtype: int64"
   ]
  },
  {
   "cell_type": "markdown",
   "id": "58425264",
   "metadata": {},
   "source": [
    "nombre_infected       933\n",
    "nombre_sain          2224\n",
    "nombre_exposed        554\n",
    "nombre_recovered    16289\n",
    "Name: 624, dtype: int64"
   ]
  },
  {
   "cell_type": "markdown",
   "id": "ab3f080a",
   "metadata": {},
   "source": [
    "nombre_infected       932\n",
    "nombre_sain          2192\n",
    "nombre_exposed        558\n",
    "nombre_recovered    16318\n",
    "Name: 625, dtype: int64"
   ]
  },
  {
   "cell_type": "markdown",
   "id": "27831656",
   "metadata": {},
   "source": [
    "nombre_infected       937\n",
    "nombre_sain          2198\n",
    "nombre_exposed        562\n",
    "nombre_recovered    16303\n",
    "Name: 626, dtype: int64"
   ]
  },
  {
   "cell_type": "markdown",
   "id": "f0fd4784",
   "metadata": {},
   "source": [
    "nombre_infected       952\n",
    "nombre_sain          2182\n",
    "nombre_exposed        573\n",
    "nombre_recovered    16293\n",
    "Name: 627, dtype: int64"
   ]
  },
  {
   "cell_type": "markdown",
   "id": "f7538c72",
   "metadata": {},
   "source": [
    "nombre_infected       949\n",
    "nombre_sain          2206\n",
    "nombre_exposed        556\n",
    "nombre_recovered    16289\n",
    "Name: 628, dtype: int64"
   ]
  },
  {
   "cell_type": "markdown",
   "id": "26a5809f",
   "metadata": {},
   "source": [
    "nombre_infected       971\n",
    "nombre_sain          2186\n",
    "nombre_exposed        556\n",
    "nombre_recovered    16287\n",
    "Name: 629, dtype: int64"
   ]
  },
  {
   "cell_type": "markdown",
   "id": "3e334c46",
   "metadata": {},
   "source": [
    "nombre_infected      1000\n",
    "nombre_sain          2172\n",
    "nombre_exposed        552\n",
    "nombre_recovered    16276\n",
    "Name: 630, dtype: int64"
   ]
  },
  {
   "cell_type": "markdown",
   "id": "74da873d",
   "metadata": {},
   "source": [
    "nombre_infected       996\n",
    "nombre_sain          2173\n",
    "nombre_exposed        546\n",
    "nombre_recovered    16285\n",
    "Name: 631, dtype: int64"
   ]
  },
  {
   "cell_type": "markdown",
   "id": "da48ec06",
   "metadata": {},
   "source": [
    "nombre_infected      1015\n",
    "nombre_sain          2154\n",
    "nombre_exposed        548\n",
    "nombre_recovered    16283\n",
    "Name: 632, dtype: int64"
   ]
  },
  {
   "cell_type": "markdown",
   "id": "6fa17278",
   "metadata": {},
   "source": [
    "nombre_infected       986\n",
    "nombre_sain          2165\n",
    "nombre_exposed        590\n",
    "nombre_recovered    16259\n",
    "Name: 633, dtype: int64"
   ]
  },
  {
   "cell_type": "markdown",
   "id": "7a9032ee",
   "metadata": {},
   "source": [
    "nombre_infected      1007\n",
    "nombre_sain          2167\n",
    "nombre_exposed        588\n",
    "nombre_recovered    16238\n",
    "Name: 634, dtype: int64"
   ]
  },
  {
   "cell_type": "markdown",
   "id": "c04acc2a",
   "metadata": {},
   "source": [
    "nombre_infected      1015\n",
    "nombre_sain          2125\n",
    "nombre_exposed        613\n",
    "nombre_recovered    16247\n",
    "Name: 635, dtype: int64"
   ]
  },
  {
   "cell_type": "markdown",
   "id": "713647ec",
   "metadata": {},
   "source": [
    "nombre_infected      1055\n",
    "nombre_sain          2087\n",
    "nombre_exposed        598\n",
    "nombre_recovered    16260\n",
    "Name: 636, dtype: int64"
   ]
  },
  {
   "cell_type": "markdown",
   "id": "d74bd294",
   "metadata": {},
   "source": [
    "nombre_infected      1075\n",
    "nombre_sain          2063\n",
    "nombre_exposed        603\n",
    "nombre_recovered    16259\n",
    "Name: 637, dtype: int64"
   ]
  },
  {
   "cell_type": "markdown",
   "id": "bc0410a0",
   "metadata": {},
   "source": [
    "nombre_infected      1099\n",
    "nombre_sain          2034\n",
    "nombre_exposed        620\n",
    "nombre_recovered    16247\n",
    "Name: 638, dtype: int64"
   ]
  },
  {
   "cell_type": "markdown",
   "id": "f1717f63",
   "metadata": {},
   "source": [
    "nombre_infected      1119\n",
    "nombre_sain          2018\n",
    "nombre_exposed        606\n",
    "nombre_recovered    16257\n",
    "Name: 639, dtype: int64"
   ]
  },
  {
   "cell_type": "markdown",
   "id": "4ea21e59",
   "metadata": {},
   "source": [
    "nombre_infected      1115\n",
    "nombre_sain          2018\n",
    "nombre_exposed        612\n",
    "nombre_recovered    16255\n",
    "Name: 640, dtype: int64"
   ]
  },
  {
   "cell_type": "markdown",
   "id": "b3ac14b3",
   "metadata": {},
   "source": [
    "nombre_infected      1122\n",
    "nombre_sain          1996\n",
    "nombre_exposed        609\n",
    "nombre_recovered    16273\n",
    "Name: 641, dtype: int64"
   ]
  },
  {
   "cell_type": "markdown",
   "id": "c6495413",
   "metadata": {},
   "source": [
    "nombre_infected      1133\n",
    "nombre_sain          1974\n",
    "nombre_exposed        624\n",
    "nombre_recovered    16269\n",
    "Name: 642, dtype: int64"
   ]
  },
  {
   "cell_type": "markdown",
   "id": "96fec656",
   "metadata": {},
   "source": [
    "nombre_infected      1144\n",
    "nombre_sain          1987\n",
    "nombre_exposed        608\n",
    "nombre_recovered    16261\n",
    "Name: 643, dtype: int64"
   ]
  },
  {
   "cell_type": "markdown",
   "id": "12aabe80",
   "metadata": {},
   "source": [
    "nombre_infected      1149\n",
    "nombre_sain          2015\n",
    "nombre_exposed        601\n",
    "nombre_recovered    16235\n",
    "Name: 644, dtype: int64"
   ]
  },
  {
   "cell_type": "markdown",
   "id": "da3e1498",
   "metadata": {},
   "source": [
    "nombre_infected      1130\n",
    "nombre_sain          2032\n",
    "nombre_exposed        599\n",
    "nombre_recovered    16239\n",
    "Name: 645, dtype: int64"
   ]
  },
  {
   "cell_type": "markdown",
   "id": "6a5c6877",
   "metadata": {},
   "source": [
    "nombre_infected      1158\n",
    "nombre_sain          2045\n",
    "nombre_exposed        591\n",
    "nombre_recovered    16206\n",
    "Name: 646, dtype: int64"
   ]
  },
  {
   "cell_type": "markdown",
   "id": "3b963063",
   "metadata": {},
   "source": [
    "nombre_infected      1143\n",
    "nombre_sain          2034\n",
    "nombre_exposed        584\n",
    "nombre_recovered    16239\n",
    "Name: 647, dtype: int64"
   ]
  },
  {
   "cell_type": "markdown",
   "id": "21af6365",
   "metadata": {},
   "source": [
    "nombre_infected      1126\n",
    "nombre_sain          2050\n",
    "nombre_exposed        575\n",
    "nombre_recovered    16249\n",
    "Name: 648, dtype: int64"
   ]
  },
  {
   "cell_type": "markdown",
   "id": "7eabb6cb",
   "metadata": {},
   "source": [
    "nombre_infected      1118\n",
    "nombre_sain          2050\n",
    "nombre_exposed        579\n",
    "nombre_recovered    16253\n",
    "Name: 649, dtype: int64"
   ]
  },
  {
   "cell_type": "markdown",
   "id": "03d37c7d",
   "metadata": {},
   "source": [
    "nombre_infected      1116\n",
    "nombre_sain          2056\n",
    "nombre_exposed        570\n",
    "nombre_recovered    16258\n",
    "Name: 650, dtype: int64"
   ]
  },
  {
   "cell_type": "markdown",
   "id": "35623f61",
   "metadata": {},
   "source": [
    "nombre_infected      1117\n",
    "nombre_sain          2100\n",
    "nombre_exposed        551\n",
    "nombre_recovered    16232\n",
    "Name: 651, dtype: int64"
   ]
  },
  {
   "cell_type": "markdown",
   "id": "68dcdc09",
   "metadata": {},
   "source": [
    "nombre_infected      1106\n",
    "nombre_sain          2078\n",
    "nombre_exposed        566\n",
    "nombre_recovered    16250\n",
    "Name: 652, dtype: int64"
   ]
  },
  {
   "cell_type": "markdown",
   "id": "7d38fa6d",
   "metadata": {},
   "source": [
    "nombre_infected      1101\n",
    "nombre_sain          2106\n",
    "nombre_exposed        577\n",
    "nombre_recovered    16216\n",
    "Name: 653, dtype: int64"
   ]
  },
  {
   "cell_type": "markdown",
   "id": "7c26b0da",
   "metadata": {},
   "source": [
    "nombre_infected      1099\n",
    "nombre_sain          2117\n",
    "nombre_exposed        568\n",
    "nombre_recovered    16216\n",
    "Name: 654, dtype: int64"
   ]
  },
  {
   "cell_type": "markdown",
   "id": "1db5f3aa",
   "metadata": {},
   "source": [
    "nombre_infected      1083\n",
    "nombre_sain          2123\n",
    "nombre_exposed        551\n",
    "nombre_recovered    16243\n",
    "Name: 655, dtype: int64"
   ]
  },
  {
   "cell_type": "markdown",
   "id": "ee9441e8",
   "metadata": {},
   "source": [
    "nombre_infected      1075\n",
    "nombre_sain          2131\n",
    "nombre_exposed        577\n",
    "nombre_recovered    16217\n",
    "Name: 656, dtype: int64"
   ]
  },
  {
   "cell_type": "markdown",
   "id": "fdabf5a4",
   "metadata": {},
   "source": [
    "nombre_infected      1071\n",
    "nombre_sain          2139\n",
    "nombre_exposed        578\n",
    "nombre_recovered    16212\n",
    "Name: 657, dtype: int64"
   ]
  },
  {
   "cell_type": "markdown",
   "id": "330f5539",
   "metadata": {},
   "source": [
    "nombre_infected      1073\n",
    "nombre_sain          2160\n",
    "nombre_exposed        585\n",
    "nombre_recovered    16182\n",
    "Name: 658, dtype: int64"
   ]
  },
  {
   "cell_type": "markdown",
   "id": "5511e03f",
   "metadata": {},
   "source": [
    "nombre_infected      1087\n",
    "nombre_sain          2161\n",
    "nombre_exposed        590\n",
    "nombre_recovered    16162\n",
    "Name: 659, dtype: int64"
   ]
  },
  {
   "cell_type": "markdown",
   "id": "d126dc2b",
   "metadata": {},
   "source": [
    "nombre_infected      1092\n",
    "nombre_sain          2171\n",
    "nombre_exposed        576\n",
    "nombre_recovered    16161\n",
    "Name: 660, dtype: int64"
   ]
  },
  {
   "cell_type": "markdown",
   "id": "138359c6",
   "metadata": {},
   "source": [
    "nombre_infected      1076\n",
    "nombre_sain          2177\n",
    "nombre_exposed        573\n",
    "nombre_recovered    16174\n",
    "Name: 661, dtype: int64"
   ]
  },
  {
   "cell_type": "markdown",
   "id": "9702a94e",
   "metadata": {},
   "source": [
    "nombre_infected      1081\n",
    "nombre_sain          2217\n",
    "nombre_exposed        557\n",
    "nombre_recovered    16145\n",
    "Name: 662, dtype: int64"
   ]
  },
  {
   "cell_type": "markdown",
   "id": "19606c45",
   "metadata": {},
   "source": [
    "nombre_infected      1086\n",
    "nombre_sain          2206\n",
    "nombre_exposed        569\n",
    "nombre_recovered    16139\n",
    "Name: 663, dtype: int64"
   ]
  },
  {
   "cell_type": "markdown",
   "id": "f8488532",
   "metadata": {},
   "source": [
    "nombre_infected      1071\n",
    "nombre_sain          2217\n",
    "nombre_exposed        567\n",
    "nombre_recovered    16145\n",
    "Name: 664, dtype: int64"
   ]
  },
  {
   "cell_type": "markdown",
   "id": "547853fa",
   "metadata": {},
   "source": [
    "nombre_infected      1054\n",
    "nombre_sain          2216\n",
    "nombre_exposed        583\n",
    "nombre_recovered    16147\n",
    "Name: 665, dtype: int64"
   ]
  },
  {
   "cell_type": "markdown",
   "id": "32d855a3",
   "metadata": {},
   "source": [
    "nombre_infected      1060\n",
    "nombre_sain          2206\n",
    "nombre_exposed        590\n",
    "nombre_recovered    16144\n",
    "Name: 666, dtype: int64"
   ]
  },
  {
   "cell_type": "markdown",
   "id": "4027111a",
   "metadata": {},
   "source": [
    "nombre_infected      1061\n",
    "nombre_sain          2197\n",
    "nombre_exposed        598\n",
    "nombre_recovered    16144\n",
    "Name: 667, dtype: int64"
   ]
  },
  {
   "cell_type": "markdown",
   "id": "2f6cf13a",
   "metadata": {},
   "source": [
    "nombre_infected      1050\n",
    "nombre_sain          2143\n",
    "nombre_exposed        632\n",
    "nombre_recovered    16175\n",
    "Name: 668, dtype: int64"
   ]
  },
  {
   "cell_type": "markdown",
   "id": "cb8ccc7b",
   "metadata": {},
   "source": [
    "nombre_infected      1043\n",
    "nombre_sain          2124\n",
    "nombre_exposed        624\n",
    "nombre_recovered    16209\n",
    "Name: 669, dtype: int64"
   ]
  },
  {
   "cell_type": "markdown",
   "id": "17808b7f",
   "metadata": {},
   "source": [
    "nombre_infected      1062\n",
    "nombre_sain          2111\n",
    "nombre_exposed        607\n",
    "nombre_recovered    16220\n",
    "Name: 670, dtype: int64"
   ]
  },
  {
   "cell_type": "markdown",
   "id": "2e06d52f",
   "metadata": {},
   "source": [
    "nombre_infected      1078\n",
    "nombre_sain          2123\n",
    "nombre_exposed        599\n",
    "nombre_recovered    16200\n",
    "Name: 671, dtype: int64"
   ]
  },
  {
   "cell_type": "markdown",
   "id": "2da21392",
   "metadata": {},
   "source": [
    "nombre_infected      1078\n",
    "nombre_sain          2098\n",
    "nombre_exposed        586\n",
    "nombre_recovered    16238\n",
    "Name: 672, dtype: int64"
   ]
  },
  {
   "cell_type": "markdown",
   "id": "c8292cc0",
   "metadata": {},
   "source": [
    "nombre_infected      1091\n",
    "nombre_sain          2100\n",
    "nombre_exposed        569\n",
    "nombre_recovered    16240\n",
    "Name: 673, dtype: int64"
   ]
  },
  {
   "cell_type": "markdown",
   "id": "aa0fc169",
   "metadata": {},
   "source": [
    "nombre_infected      1084\n",
    "nombre_sain          2113\n",
    "nombre_exposed        567\n",
    "nombre_recovered    16236\n",
    "Name: 674, dtype: int64"
   ]
  },
  {
   "cell_type": "markdown",
   "id": "25f133a4",
   "metadata": {},
   "source": [
    "nombre_infected      1058\n",
    "nombre_sain          2117\n",
    "nombre_exposed        559\n",
    "nombre_recovered    16266\n",
    "Name: 675, dtype: int64"
   ]
  },
  {
   "cell_type": "markdown",
   "id": "8519dd17",
   "metadata": {},
   "source": [
    "nombre_infected      1048\n",
    "nombre_sain          2110\n",
    "nombre_exposed        570\n",
    "nombre_recovered    16272\n",
    "Name: 676, dtype: int64"
   ]
  },
  {
   "cell_type": "markdown",
   "id": "1e0e949b",
   "metadata": {},
   "source": [
    "nombre_infected      1029\n",
    "nombre_sain          2101\n",
    "nombre_exposed        577\n",
    "nombre_recovered    16293\n",
    "Name: 677, dtype: int64"
   ]
  },
  {
   "cell_type": "markdown",
   "id": "86093847",
   "metadata": {},
   "source": [
    "nombre_infected      1027\n",
    "nombre_sain          2119\n",
    "nombre_exposed        546\n",
    "nombre_recovered    16308\n",
    "Name: 678, dtype: int64"
   ]
  },
  {
   "cell_type": "markdown",
   "id": "9dbfa1a3",
   "metadata": {},
   "source": [
    "nombre_infected      1033\n",
    "nombre_sain          2127\n",
    "nombre_exposed        548\n",
    "nombre_recovered    16292\n",
    "Name: 679, dtype: int64"
   ]
  },
  {
   "cell_type": "markdown",
   "id": "740de31b",
   "metadata": {},
   "source": [
    "nombre_infected      1051\n",
    "nombre_sain          2120\n",
    "nombre_exposed        541\n",
    "nombre_recovered    16288\n",
    "Name: 680, dtype: int64"
   ]
  },
  {
   "cell_type": "markdown",
   "id": "be9ac992",
   "metadata": {},
   "source": [
    "nombre_infected      1045\n",
    "nombre_sain          2135\n",
    "nombre_exposed        534\n",
    "nombre_recovered    16286\n",
    "Name: 681, dtype: int64"
   ]
  },
  {
   "cell_type": "markdown",
   "id": "88d0d2ce",
   "metadata": {},
   "source": [
    "nombre_infected      1071\n",
    "nombre_sain          2113\n",
    "nombre_exposed        537\n",
    "nombre_recovered    16279\n",
    "Name: 682, dtype: int64"
   ]
  },
  {
   "cell_type": "markdown",
   "id": "40160db9",
   "metadata": {},
   "source": [
    "nombre_infected      1061\n",
    "nombre_sain          2092\n",
    "nombre_exposed        560\n",
    "nombre_recovered    16287\n",
    "Name: 683, dtype: int64"
   ]
  },
  {
   "cell_type": "markdown",
   "id": "4283614c",
   "metadata": {},
   "source": [
    "nombre_infected      1044\n",
    "nombre_sain          2085\n",
    "nombre_exposed        571\n",
    "nombre_recovered    16300\n",
    "Name: 684, dtype: int64"
   ]
  },
  {
   "cell_type": "markdown",
   "id": "be19f0ad",
   "metadata": {},
   "source": [
    "nombre_infected      1049\n",
    "nombre_sain          2093\n",
    "nombre_exposed        559\n",
    "nombre_recovered    16299\n",
    "Name: 685, dtype: int64"
   ]
  },
  {
   "cell_type": "markdown",
   "id": "771f9fbe",
   "metadata": {},
   "source": [
    "nombre_infected      1044\n",
    "nombre_sain          2066\n",
    "nombre_exposed        585\n",
    "nombre_recovered    16305\n",
    "Name: 686, dtype: int64"
   ]
  },
  {
   "cell_type": "markdown",
   "id": "fcf8d7ef",
   "metadata": {},
   "source": [
    "nombre_infected      1053\n",
    "nombre_sain          2082\n",
    "nombre_exposed        568\n",
    "nombre_recovered    16297\n",
    "Name: 687, dtype: int64"
   ]
  },
  {
   "cell_type": "markdown",
   "id": "41630d7c",
   "metadata": {},
   "source": [
    "nombre_infected      1037\n",
    "nombre_sain          2076\n",
    "nombre_exposed        570\n",
    "nombre_recovered    16317\n",
    "Name: 688, dtype: int64"
   ]
  },
  {
   "cell_type": "markdown",
   "id": "28b67b6d",
   "metadata": {},
   "source": [
    "nombre_infected      1047\n",
    "nombre_sain          2096\n",
    "nombre_exposed        562\n",
    "nombre_recovered    16295\n",
    "Name: 689, dtype: int64"
   ]
  },
  {
   "cell_type": "markdown",
   "id": "70e618c8",
   "metadata": {},
   "source": [
    "nombre_infected      1045\n",
    "nombre_sain          2082\n",
    "nombre_exposed        579\n",
    "nombre_recovered    16294\n",
    "Name: 690, dtype: int64"
   ]
  },
  {
   "cell_type": "markdown",
   "id": "1191518f",
   "metadata": {},
   "source": [
    "nombre_infected      1066\n",
    "nombre_sain          2090\n",
    "nombre_exposed        562\n",
    "nombre_recovered    16282\n",
    "Name: 691, dtype: int64"
   ]
  },
  {
   "cell_type": "markdown",
   "id": "ffcb30c4",
   "metadata": {},
   "source": [
    "nombre_infected      1055\n",
    "nombre_sain          2080\n",
    "nombre_exposed        583\n",
    "nombre_recovered    16282\n",
    "Name: 692, dtype: int64"
   ]
  },
  {
   "cell_type": "markdown",
   "id": "d7a17ebd",
   "metadata": {},
   "source": [
    "nombre_infected      1066\n",
    "nombre_sain          2074\n",
    "nombre_exposed        602\n",
    "nombre_recovered    16258\n",
    "Name: 693, dtype: int64"
   ]
  },
  {
   "cell_type": "markdown",
   "id": "f570e7e1",
   "metadata": {},
   "source": [
    "nombre_infected      1045\n",
    "nombre_sain          2049\n",
    "nombre_exposed        614\n",
    "nombre_recovered    16292\n",
    "Name: 694, dtype: int64"
   ]
  },
  {
   "cell_type": "markdown",
   "id": "ff11d62d",
   "metadata": {},
   "source": [
    "nombre_infected      1045\n",
    "nombre_sain          2038\n",
    "nombre_exposed        606\n",
    "nombre_recovered    16311\n",
    "Name: 695, dtype: int64"
   ]
  },
  {
   "cell_type": "markdown",
   "id": "becfc0ba",
   "metadata": {},
   "source": [
    "nombre_infected      1050\n",
    "nombre_sain          2018\n",
    "nombre_exposed        609\n",
    "nombre_recovered    16323\n",
    "Name: 696, dtype: int64"
   ]
  },
  {
   "cell_type": "markdown",
   "id": "4c0b2aed",
   "metadata": {},
   "source": [
    "nombre_infected      1064\n",
    "nombre_sain          2040\n",
    "nombre_exposed        574\n",
    "nombre_recovered    16322\n",
    "Name: 697, dtype: int64"
   ]
  },
  {
   "cell_type": "markdown",
   "id": "80a1f1a3",
   "metadata": {},
   "source": [
    "nombre_infected      1060\n",
    "nombre_sain          2044\n",
    "nombre_exposed        568\n",
    "nombre_recovered    16328\n",
    "Name: 698, dtype: int64"
   ]
  },
  {
   "cell_type": "markdown",
   "id": "5959d50b",
   "metadata": {},
   "source": [
    "nombre_infected      1042\n",
    "nombre_sain          2056\n",
    "nombre_exposed        566\n",
    "nombre_recovered    16336\n",
    "Name: 699, dtype: int64"
   ]
  },
  {
   "cell_type": "markdown",
   "id": "715ff5e6",
   "metadata": {},
   "source": [
    "nombre_infected      1035\n",
    "nombre_sain          2056\n",
    "nombre_exposed        581\n",
    "nombre_recovered    16328\n",
    "Name: 700, dtype: int64"
   ]
  },
  {
   "cell_type": "markdown",
   "id": "b4c2c1a7",
   "metadata": {},
   "source": [
    "nombre_infected      1053\n",
    "nombre_sain          2067\n",
    "nombre_exposed        572\n",
    "nombre_recovered    16308\n",
    "Name: 701, dtype: int64"
   ]
  },
  {
   "cell_type": "markdown",
   "id": "88b275da",
   "metadata": {},
   "source": [
    "nombre_infected      1039\n",
    "nombre_sain          2037\n",
    "nombre_exposed        587\n",
    "nombre_recovered    16337\n",
    "Name: 702, dtype: int64"
   ]
  },
  {
   "cell_type": "markdown",
   "id": "ff564212",
   "metadata": {},
   "source": [
    "nombre_infected      1046\n",
    "nombre_sain          2024\n",
    "nombre_exposed        578\n",
    "nombre_recovered    16352\n",
    "Name: 703, dtype: int64"
   ]
  },
  {
   "cell_type": "markdown",
   "id": "1a81cc61",
   "metadata": {},
   "source": [
    "nombre_infected      1035\n",
    "nombre_sain          2013\n",
    "nombre_exposed        595\n",
    "nombre_recovered    16357\n",
    "Name: 704, dtype: int64"
   ]
  },
  {
   "cell_type": "markdown",
   "id": "b3432532",
   "metadata": {},
   "source": [
    "nombre_infected      1023\n",
    "nombre_sain          2004\n",
    "nombre_exposed        578\n",
    "nombre_recovered    16395\n",
    "Name: 705, dtype: int64"
   ]
  },
  {
   "cell_type": "markdown",
   "id": "668d73c2",
   "metadata": {},
   "source": [
    "nombre_infected      1014\n",
    "nombre_sain          1991\n",
    "nombre_exposed        572\n",
    "nombre_recovered    16423\n",
    "Name: 706, dtype: int64"
   ]
  },
  {
   "cell_type": "markdown",
   "id": "347abb98",
   "metadata": {},
   "source": [
    "nombre_infected      1023\n",
    "nombre_sain          1986\n",
    "nombre_exposed        558\n",
    "nombre_recovered    16433\n",
    "Name: 707, dtype: int64"
   ]
  },
  {
   "cell_type": "markdown",
   "id": "67702aa2",
   "metadata": {},
   "source": [
    "nombre_infected      1016\n",
    "nombre_sain          1989\n",
    "nombre_exposed        550\n",
    "nombre_recovered    16445\n",
    "Name: 708, dtype: int64"
   ]
  },
  {
   "cell_type": "markdown",
   "id": "14a76187",
   "metadata": {},
   "source": [
    "nombre_infected      1008\n",
    "nombre_sain          1974\n",
    "nombre_exposed        553\n",
    "nombre_recovered    16465\n",
    "Name: 709, dtype: int64"
   ]
  },
  {
   "cell_type": "markdown",
   "id": "53071270",
   "metadata": {},
   "source": [
    "nombre_infected      1002\n",
    "nombre_sain          1983\n",
    "nombre_exposed        562\n",
    "nombre_recovered    16453\n",
    "Name: 710, dtype: int64"
   ]
  },
  {
   "cell_type": "markdown",
   "id": "b9381640",
   "metadata": {},
   "source": [
    "nombre_infected       984\n",
    "nombre_sain          1979\n",
    "nombre_exposed        566\n",
    "nombre_recovered    16471\n",
    "Name: 711, dtype: int64"
   ]
  },
  {
   "cell_type": "markdown",
   "id": "0acafefb",
   "metadata": {},
   "source": [
    "nombre_infected       986\n",
    "nombre_sain          1969\n",
    "nombre_exposed        538\n",
    "nombre_recovered    16507\n",
    "Name: 712, dtype: int64"
   ]
  },
  {
   "cell_type": "markdown",
   "id": "65646349",
   "metadata": {},
   "source": [
    "nombre_infected       960\n",
    "nombre_sain          1996\n",
    "nombre_exposed        538\n",
    "nombre_recovered    16506\n",
    "Name: 713, dtype: int64"
   ]
  },
  {
   "cell_type": "markdown",
   "id": "b6fbb6b8",
   "metadata": {},
   "source": [
    "nombre_infected       955\n",
    "nombre_sain          1973\n",
    "nombre_exposed        550\n",
    "nombre_recovered    16522\n",
    "Name: 714, dtype: int64"
   ]
  },
  {
   "cell_type": "markdown",
   "id": "ed2833bc",
   "metadata": {},
   "source": [
    "nombre_infected       931\n",
    "nombre_sain          1968\n",
    "nombre_exposed        563\n",
    "nombre_recovered    16538\n",
    "Name: 715, dtype: int64"
   ]
  },
  {
   "cell_type": "markdown",
   "id": "aed92420",
   "metadata": {},
   "source": [
    "nombre_infected       925\n",
    "nombre_sain          1974\n",
    "nombre_exposed        550\n",
    "nombre_recovered    16551\n",
    "Name: 716, dtype: int64"
   ]
  },
  {
   "cell_type": "markdown",
   "id": "589139dd",
   "metadata": {},
   "source": [
    "nombre_infected       932\n",
    "nombre_sain          1955\n",
    "nombre_exposed        534\n",
    "nombre_recovered    16579\n",
    "Name: 717, dtype: int64"
   ]
  },
  {
   "cell_type": "markdown",
   "id": "9acb9cc2",
   "metadata": {},
   "source": [
    "nombre_infected       951\n",
    "nombre_sain          1974\n",
    "nombre_exposed        528\n",
    "nombre_recovered    16547\n",
    "Name: 718, dtype: int64"
   ]
  },
  {
   "cell_type": "markdown",
   "id": "5deefab1",
   "metadata": {},
   "source": [
    "nombre_infected       943\n",
    "nombre_sain          1958\n",
    "nombre_exposed        526\n",
    "nombre_recovered    16573\n",
    "Name: 719, dtype: int64"
   ]
  },
  {
   "cell_type": "markdown",
   "id": "9acb32e0",
   "metadata": {},
   "source": [
    "nombre_infected       957\n",
    "nombre_sain          1987\n",
    "nombre_exposed        501\n",
    "nombre_recovered    16555\n",
    "Name: 720, dtype: int64"
   ]
  },
  {
   "cell_type": "markdown",
   "id": "ddf113b1",
   "metadata": {},
   "source": [
    "nombre_infected       965\n",
    "nombre_sain          2005\n",
    "nombre_exposed        481\n",
    "nombre_recovered    16549\n",
    "Name: 721, dtype: int64"
   ]
  },
  {
   "cell_type": "markdown",
   "id": "e928feec",
   "metadata": {},
   "source": [
    "nombre_infected       940\n",
    "nombre_sain          1996\n",
    "nombre_exposed        497\n",
    "nombre_recovered    16567\n",
    "Name: 722, dtype: int64"
   ]
  },
  {
   "cell_type": "markdown",
   "id": "af6e2257",
   "metadata": {},
   "source": [
    "nombre_infected       930\n",
    "nombre_sain          2013\n",
    "nombre_exposed        505\n",
    "nombre_recovered    16552\n",
    "Name: 723, dtype: int64"
   ]
  },
  {
   "cell_type": "markdown",
   "id": "50f8ce73",
   "metadata": {},
   "source": [
    "nombre_infected       931\n",
    "nombre_sain          2043\n",
    "nombre_exposed        491\n",
    "nombre_recovered    16535\n",
    "Name: 724, dtype: int64"
   ]
  },
  {
   "cell_type": "markdown",
   "id": "ea52aea6",
   "metadata": {},
   "source": [
    "nombre_infected       930\n",
    "nombre_sain          2063\n",
    "nombre_exposed        500\n",
    "nombre_recovered    16507\n",
    "Name: 725, dtype: int64"
   ]
  },
  {
   "cell_type": "markdown",
   "id": "9ee07626",
   "metadata": {},
   "source": [
    "nombre_infected       954\n",
    "nombre_sain          2067\n",
    "nombre_exposed        482\n",
    "nombre_recovered    16497\n",
    "Name: 726, dtype: int64"
   ]
  },
  {
   "cell_type": "markdown",
   "id": "80006244",
   "metadata": {},
   "source": [
    "nombre_infected       953\n",
    "nombre_sain          2065\n",
    "nombre_exposed        476\n",
    "nombre_recovered    16506\n",
    "Name: 727, dtype: int64"
   ]
  },
  {
   "cell_type": "markdown",
   "id": "9475dc37",
   "metadata": {},
   "source": [
    "nombre_infected       954\n",
    "nombre_sain          2061\n",
    "nombre_exposed        499\n",
    "nombre_recovered    16486\n",
    "Name: 728, dtype: int64"
   ]
  },
  {
   "cell_type": "markdown",
   "id": "820e280b",
   "metadata": {},
   "source": [
    "nombre_infected       928\n",
    "nombre_sain          2039\n",
    "nombre_exposed        516\n",
    "nombre_recovered    16517\n",
    "Name: 729, dtype: int64"
   ]
  },
  {
   "cell_type": "markdown",
   "id": "e978740d",
   "metadata": {},
   "source": [
    "nombre_infected       893\n",
    "nombre_sain          2041\n",
    "nombre_exposed        526\n",
    "nombre_recovered    16540\n",
    "Name: 730, dtype: int64"
   ]
  }
 ],
 "metadata": {},
 "nbformat": 4,
 "nbformat_minor": 5
}
