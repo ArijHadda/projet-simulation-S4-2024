{
 "cells": [
  {
   "cell_type": "markdown",
   "id": "f456dc05",
   "metadata": {},
   "source": [
    "nombre_infected        20\n",
    "nombre_sain         19980\n",
    "nombre_exposed          0\n",
    "nombre_recovered        0\n",
    "Name: 0, dtype: int64"
   ]
  },
  {
   "cell_type": "markdown",
   "id": "a0e6feea",
   "metadata": {},
   "source": [
    "nombre_infected        20\n",
    "nombre_sain         19972\n",
    "nombre_exposed          8\n",
    "nombre_recovered        0\n",
    "Name: 1, dtype: int64"
   ]
  },
  {
   "cell_type": "markdown",
   "id": "d384fbe5",
   "metadata": {},
   "source": [
    "nombre_infected        20\n",
    "nombre_sain         19957\n",
    "nombre_exposed         23\n",
    "nombre_recovered        0\n",
    "Name: 2, dtype: int64"
   ]
  },
  {
   "cell_type": "markdown",
   "id": "969c9fcd",
   "metadata": {},
   "source": [
    "nombre_infected        22\n",
    "nombre_sain         19924\n",
    "nombre_exposed         54\n",
    "nombre_recovered        0\n",
    "Name: 3, dtype: int64"
   ]
  },
  {
   "cell_type": "markdown",
   "id": "712ea376",
   "metadata": {},
   "source": [
    "nombre_infected        28\n",
    "nombre_sain         19890\n",
    "nombre_exposed         82\n",
    "nombre_recovered        0\n",
    "Name: 4, dtype: int64"
   ]
  },
  {
   "cell_type": "markdown",
   "id": "cfd9b386",
   "metadata": {},
   "source": [
    "nombre_infected        17\n",
    "nombre_sain         19857\n",
    "nombre_exposed        105\n",
    "nombre_recovered       21\n",
    "Name: 5, dtype: int64"
   ]
  },
  {
   "cell_type": "markdown",
   "id": "483c7c07",
   "metadata": {},
   "source": [
    "nombre_infected        38\n",
    "nombre_sain         19830\n",
    "nombre_exposed        110\n",
    "nombre_recovered       22\n",
    "Name: 6, dtype: int64"
   ]
  },
  {
   "cell_type": "markdown",
   "id": "58087020",
   "metadata": {},
   "source": [
    "nombre_infected        52\n",
    "nombre_sain         19782\n",
    "nombre_exposed        140\n",
    "nombre_recovered       26\n",
    "Name: 7, dtype: int64"
   ]
  },
  {
   "cell_type": "markdown",
   "id": "40590cca",
   "metadata": {},
   "source": [
    "nombre_infected        81\n",
    "nombre_sain         19703\n",
    "nombre_exposed        189\n",
    "nombre_recovered       27\n",
    "Name: 8, dtype: int64"
   ]
  },
  {
   "cell_type": "markdown",
   "id": "292058ca",
   "metadata": {},
   "source": [
    "nombre_infected       106\n",
    "nombre_sain         19579\n",
    "nombre_exposed        283\n",
    "nombre_recovered       32\n",
    "Name: 9, dtype: int64"
   ]
  },
  {
   "cell_type": "markdown",
   "id": "8b1a6957",
   "metadata": {},
   "source": [
    "nombre_infected       127\n",
    "nombre_sain         19435\n",
    "nombre_exposed        392\n",
    "nombre_recovered       46\n",
    "Name: 10, dtype: int64"
   ]
  },
  {
   "cell_type": "markdown",
   "id": "1dacf893",
   "metadata": {},
   "source": [
    "nombre_infected       182\n",
    "nombre_sain         19259\n",
    "nombre_exposed        500\n",
    "nombre_recovered       59\n",
    "Name: 11, dtype: int64"
   ]
  },
  {
   "cell_type": "markdown",
   "id": "718ab8e8",
   "metadata": {},
   "source": [
    "nombre_infected       264\n",
    "nombre_sain         19017\n",
    "nombre_exposed        649\n",
    "nombre_recovered       70\n",
    "Name: 12, dtype: int64"
   ]
  },
  {
   "cell_type": "markdown",
   "id": "feada626",
   "metadata": {},
   "source": [
    "nombre_infected       350\n",
    "nombre_sain         18701\n",
    "nombre_exposed        855\n",
    "nombre_recovered       94\n",
    "Name: 13, dtype: int64"
   ]
  },
  {
   "cell_type": "markdown",
   "id": "73d0fec3",
   "metadata": {},
   "source": [
    "nombre_infected       473\n",
    "nombre_sain         18292\n",
    "nombre_exposed       1101\n",
    "nombre_recovered      134\n",
    "Name: 14, dtype: int64"
   ]
  },
  {
   "cell_type": "markdown",
   "id": "1e4ad1c7",
   "metadata": {},
   "source": [
    "nombre_infected       607\n",
    "nombre_sain         17697\n",
    "nombre_exposed       1519\n",
    "nombre_recovered      177\n",
    "Name: 15, dtype: int64"
   ]
  },
  {
   "cell_type": "markdown",
   "id": "ab02ccf4",
   "metadata": {},
   "source": [
    "nombre_infected       798\n",
    "nombre_sain         16982\n",
    "nombre_exposed       1993\n",
    "nombre_recovered      227\n",
    "Name: 16, dtype: int64"
   ]
  },
  {
   "cell_type": "markdown",
   "id": "440533d2",
   "metadata": {},
   "source": [
    "nombre_infected      1055\n",
    "nombre_sain         16085\n",
    "nombre_exposed       2549\n",
    "nombre_recovered      311\n",
    "Name: 17, dtype: int64"
   ]
  },
  {
   "cell_type": "markdown",
   "id": "530305ce",
   "metadata": {},
   "source": [
    "nombre_infected      1424\n",
    "nombre_sain         14943\n",
    "nombre_exposed       3204\n",
    "nombre_recovered      429\n",
    "Name: 18, dtype: int64"
   ]
  },
  {
   "cell_type": "markdown",
   "id": "a7039988",
   "metadata": {},
   "source": [
    "nombre_infected      1837\n",
    "nombre_sain         13621\n",
    "nombre_exposed       3967\n",
    "nombre_recovered      575\n",
    "Name: 19, dtype: int64"
   ]
  },
  {
   "cell_type": "markdown",
   "id": "aafa2319",
   "metadata": {},
   "source": [
    "nombre_infected      2431\n",
    "nombre_sain         12099\n",
    "nombre_exposed       4716\n",
    "nombre_recovered      754\n",
    "Name: 20, dtype: int64"
   ]
  },
  {
   "cell_type": "markdown",
   "id": "8b8a4d3e",
   "metadata": {},
   "source": [
    "nombre_infected      3118\n",
    "nombre_sain         10318\n",
    "nombre_exposed       5585\n",
    "nombre_recovered      979\n",
    "Name: 21, dtype: int64"
   ]
  },
  {
   "cell_type": "markdown",
   "id": "5189c4ed",
   "metadata": {},
   "source": [
    "nombre_infected     3851\n",
    "nombre_sain         8555\n",
    "nombre_exposed      6296\n",
    "nombre_recovered    1298\n",
    "Name: 22, dtype: int64"
   ]
  },
  {
   "cell_type": "markdown",
   "id": "0cd1cf6b",
   "metadata": {},
   "source": [
    "nombre_infected     4713\n",
    "nombre_sain         6878\n",
    "nombre_exposed      6714\n",
    "nombre_recovered    1695\n",
    "Name: 23, dtype: int64"
   ]
  },
  {
   "cell_type": "markdown",
   "id": "fd19dc01",
   "metadata": {},
   "source": [
    "nombre_infected     5728\n",
    "nombre_sain         5240\n",
    "nombre_exposed      6899\n",
    "nombre_recovered    2133\n",
    "Name: 24, dtype: int64"
   ]
  },
  {
   "cell_type": "markdown",
   "id": "17d8c5d9",
   "metadata": {},
   "source": [
    "nombre_infected     6758\n",
    "nombre_sain         3835\n",
    "nombre_exposed      6757\n",
    "nombre_recovered    2650\n",
    "Name: 25, dtype: int64"
   ]
  },
  {
   "cell_type": "markdown",
   "id": "e5901895",
   "metadata": {},
   "source": [
    "nombre_infected     7606\n",
    "nombre_sain         2751\n",
    "nombre_exposed      6332\n",
    "nombre_recovered    3311\n",
    "Name: 26, dtype: int64"
   ]
  },
  {
   "cell_type": "markdown",
   "id": "fca5dd89",
   "metadata": {},
   "source": [
    "nombre_infected     8308\n",
    "nombre_sain         1916\n",
    "nombre_exposed      5697\n",
    "nombre_recovered    4079\n",
    "Name: 27, dtype: int64"
   ]
  },
  {
   "cell_type": "markdown",
   "id": "5ee2398d",
   "metadata": {},
   "source": [
    "nombre_infected     8871\n",
    "nombre_sain         1291\n",
    "nombre_exposed      4883\n",
    "nombre_recovered    4955\n",
    "Name: 28, dtype: int64"
   ]
  },
  {
   "cell_type": "markdown",
   "id": "90dd9453",
   "metadata": {},
   "source": [
    "nombre_infected     9178\n",
    "nombre_sain          916\n",
    "nombre_exposed      4022\n",
    "nombre_recovered    5884\n",
    "Name: 29, dtype: int64"
   ]
  },
  {
   "cell_type": "markdown",
   "id": "eadb14fa",
   "metadata": {},
   "source": [
    "nombre_infected     9234\n",
    "nombre_sain          599\n",
    "nombre_exposed      3322\n",
    "nombre_recovered    6845\n",
    "Name: 30, dtype: int64"
   ]
  },
  {
   "cell_type": "markdown",
   "id": "81f9c2d9",
   "metadata": {},
   "source": [
    "nombre_infected     9144\n",
    "nombre_sain          421\n",
    "nombre_exposed      2646\n",
    "nombre_recovered    7789\n",
    "Name: 31, dtype: int64"
   ]
  },
  {
   "cell_type": "markdown",
   "id": "63639449",
   "metadata": {},
   "source": [
    "nombre_infected     8855\n",
    "nombre_sain          297\n",
    "nombre_exposed      2081\n",
    "nombre_recovered    8767\n",
    "Name: 32, dtype: int64"
   ]
  },
  {
   "cell_type": "markdown",
   "id": "38f32729",
   "metadata": {},
   "source": [
    "nombre_infected     8431\n",
    "nombre_sain          205\n",
    "nombre_exposed      1633\n",
    "nombre_recovered    9731\n",
    "Name: 33, dtype: int64"
   ]
  },
  {
   "cell_type": "markdown",
   "id": "3681f456",
   "metadata": {},
   "source": [
    "nombre_infected      7946\n",
    "nombre_sain           162\n",
    "nombre_exposed       1247\n",
    "nombre_recovered    10645\n",
    "Name: 34, dtype: int64"
   ]
  },
  {
   "cell_type": "markdown",
   "id": "c552865c",
   "metadata": {},
   "source": [
    "nombre_infected      7434\n",
    "nombre_sain           143\n",
    "nombre_exposed        938\n",
    "nombre_recovered    11485\n",
    "Name: 35, dtype: int64"
   ]
  },
  {
   "cell_type": "markdown",
   "id": "38fe3ba8",
   "metadata": {},
   "source": [
    "nombre_infected      6824\n",
    "nombre_sain           125\n",
    "nombre_exposed        725\n",
    "nombre_recovered    12326\n",
    "Name: 36, dtype: int64"
   ]
  },
  {
   "cell_type": "markdown",
   "id": "3e479fbd",
   "metadata": {},
   "source": [
    "nombre_infected      6253\n",
    "nombre_sain           123\n",
    "nombre_exposed        556\n",
    "nombre_recovered    13068\n",
    "Name: 37, dtype: int64"
   ]
  },
  {
   "cell_type": "markdown",
   "id": "c8e13d08",
   "metadata": {},
   "source": [
    "nombre_infected      5705\n",
    "nombre_sain           116\n",
    "nombre_exposed        449\n",
    "nombre_recovered    13730\n",
    "Name: 38, dtype: int64"
   ]
  },
  {
   "cell_type": "markdown",
   "id": "9a04ced3",
   "metadata": {},
   "source": [
    "nombre_infected      5168\n",
    "nombre_sain           126\n",
    "nombre_exposed        352\n",
    "nombre_recovered    14354\n",
    "Name: 39, dtype: int64"
   ]
  },
  {
   "cell_type": "markdown",
   "id": "356b4f26",
   "metadata": {},
   "source": [
    "nombre_infected      4699\n",
    "nombre_sain           119\n",
    "nombre_exposed        276\n",
    "nombre_recovered    14906\n",
    "Name: 40, dtype: int64"
   ]
  },
  {
   "cell_type": "markdown",
   "id": "4d0dfeb2",
   "metadata": {},
   "source": [
    "nombre_infected      4236\n",
    "nombre_sain           115\n",
    "nombre_exposed        222\n",
    "nombre_recovered    15427\n",
    "Name: 41, dtype: int64"
   ]
  },
  {
   "cell_type": "markdown",
   "id": "67b8e7d6",
   "metadata": {},
   "source": [
    "nombre_infected      3774\n",
    "nombre_sain           133\n",
    "nombre_exposed        196\n",
    "nombre_recovered    15897\n",
    "Name: 42, dtype: int64"
   ]
  },
  {
   "cell_type": "markdown",
   "id": "7ab1cf25",
   "metadata": {},
   "source": [
    "nombre_infected      3379\n",
    "nombre_sain           140\n",
    "nombre_exposed        168\n",
    "nombre_recovered    16313\n",
    "Name: 43, dtype: int64"
   ]
  },
  {
   "cell_type": "markdown",
   "id": "a935d760",
   "metadata": {},
   "source": [
    "nombre_infected      3021\n",
    "nombre_sain           154\n",
    "nombre_exposed        154\n",
    "nombre_recovered    16671\n",
    "Name: 44, dtype: int64"
   ]
  },
  {
   "cell_type": "markdown",
   "id": "a899b252",
   "metadata": {},
   "source": [
    "nombre_infected      2654\n",
    "nombre_sain           172\n",
    "nombre_exposed        153\n",
    "nombre_recovered    17021\n",
    "Name: 45, dtype: int64"
   ]
  },
  {
   "cell_type": "markdown",
   "id": "e58b6ad9",
   "metadata": {},
   "source": [
    "nombre_infected      2297\n",
    "nombre_sain           194\n",
    "nombre_exposed        153\n",
    "nombre_recovered    17356\n",
    "Name: 46, dtype: int64"
   ]
  },
  {
   "cell_type": "markdown",
   "id": "d65b7355",
   "metadata": {},
   "source": [
    "nombre_infected      1994\n",
    "nombre_sain           227\n",
    "nombre_exposed        147\n",
    "nombre_recovered    17632\n",
    "Name: 47, dtype: int64"
   ]
  },
  {
   "cell_type": "markdown",
   "id": "8994ca0b",
   "metadata": {},
   "source": [
    "nombre_infected      1711\n",
    "nombre_sain           267\n",
    "nombre_exposed        145\n",
    "nombre_recovered    17877\n",
    "Name: 48, dtype: int64"
   ]
  },
  {
   "cell_type": "markdown",
   "id": "48e2f4a6",
   "metadata": {},
   "source": [
    "nombre_infected      1510\n",
    "nombre_sain           300\n",
    "nombre_exposed        153\n",
    "nombre_recovered    18037\n",
    "Name: 49, dtype: int64"
   ]
  },
  {
   "cell_type": "markdown",
   "id": "3d649cce",
   "metadata": {},
   "source": [
    "nombre_infected      1314\n",
    "nombre_sain           336\n",
    "nombre_exposed        154\n",
    "nombre_recovered    18196\n",
    "Name: 50, dtype: int64"
   ]
  },
  {
   "cell_type": "markdown",
   "id": "ab50e3cd",
   "metadata": {},
   "source": [
    "nombre_infected      1135\n",
    "nombre_sain           346\n",
    "nombre_exposed        160\n",
    "nombre_recovered    18359\n",
    "Name: 51, dtype: int64"
   ]
  },
  {
   "cell_type": "markdown",
   "id": "5c69b5b5",
   "metadata": {},
   "source": [
    "nombre_infected       999\n",
    "nombre_sain           392\n",
    "nombre_exposed        145\n",
    "nombre_recovered    18464\n",
    "Name: 52, dtype: int64"
   ]
  },
  {
   "cell_type": "markdown",
   "id": "bd707c0e",
   "metadata": {},
   "source": [
    "nombre_infected       877\n",
    "nombre_sain           440\n",
    "nombre_exposed        137\n",
    "nombre_recovered    18546\n",
    "Name: 53, dtype: int64"
   ]
  },
  {
   "cell_type": "markdown",
   "id": "47fa0ec8",
   "metadata": {},
   "source": [
    "nombre_infected       777\n",
    "nombre_sain           476\n",
    "nombre_exposed        119\n",
    "nombre_recovered    18628\n",
    "Name: 54, dtype: int64"
   ]
  },
  {
   "cell_type": "markdown",
   "id": "9e327f5f",
   "metadata": {},
   "source": [
    "nombre_infected       684\n",
    "nombre_sain           522\n",
    "nombre_exposed        119\n",
    "nombre_recovered    18675\n",
    "Name: 55, dtype: int64"
   ]
  },
  {
   "cell_type": "markdown",
   "id": "e60ad2dd",
   "metadata": {},
   "source": [
    "nombre_infected       590\n",
    "nombre_sain           557\n",
    "nombre_exposed        114\n",
    "nombre_recovered    18739\n",
    "Name: 56, dtype: int64"
   ]
  },
  {
   "cell_type": "markdown",
   "id": "d04d8015",
   "metadata": {},
   "source": [
    "nombre_infected       535\n",
    "nombre_sain           581\n",
    "nombre_exposed         97\n",
    "nombre_recovered    18787\n",
    "Name: 57, dtype: int64"
   ]
  },
  {
   "cell_type": "markdown",
   "id": "ab3f3a07",
   "metadata": {},
   "source": [
    "nombre_infected       480\n",
    "nombre_sain           653\n",
    "nombre_exposed         79\n",
    "nombre_recovered    18788\n",
    "Name: 58, dtype: int64"
   ]
  },
  {
   "cell_type": "markdown",
   "id": "e554b84c",
   "metadata": {},
   "source": [
    "nombre_infected       418\n",
    "nombre_sain           693\n",
    "nombre_exposed         88\n",
    "nombre_recovered    18801\n",
    "Name: 59, dtype: int64"
   ]
  },
  {
   "cell_type": "markdown",
   "id": "9611fb92",
   "metadata": {},
   "source": [
    "nombre_infected       384\n",
    "nombre_sain           751\n",
    "nombre_exposed         74\n",
    "nombre_recovered    18791\n",
    "Name: 60, dtype: int64"
   ]
  },
  {
   "cell_type": "markdown",
   "id": "4974cd77",
   "metadata": {},
   "source": [
    "nombre_infected       329\n",
    "nombre_sain           804\n",
    "nombre_exposed         63\n",
    "nombre_recovered    18804\n",
    "Name: 61, dtype: int64"
   ]
  },
  {
   "cell_type": "markdown",
   "id": "664bfbbf",
   "metadata": {},
   "source": [
    "nombre_infected       287\n",
    "nombre_sain           864\n",
    "nombre_exposed         65\n",
    "nombre_recovered    18784\n",
    "Name: 62, dtype: int64"
   ]
  },
  {
   "cell_type": "markdown",
   "id": "4c326868",
   "metadata": {},
   "source": [
    "nombre_infected       239\n",
    "nombre_sain           926\n",
    "nombre_exposed         63\n",
    "nombre_recovered    18772\n",
    "Name: 63, dtype: int64"
   ]
  },
  {
   "cell_type": "markdown",
   "id": "27e9af35",
   "metadata": {},
   "source": [
    "nombre_infected       208\n",
    "nombre_sain           991\n",
    "nombre_exposed         64\n",
    "nombre_recovered    18737\n",
    "Name: 64, dtype: int64"
   ]
  },
  {
   "cell_type": "markdown",
   "id": "b880f32b",
   "metadata": {},
   "source": [
    "nombre_infected       183\n",
    "nombre_sain          1064\n",
    "nombre_exposed         70\n",
    "nombre_recovered    18683\n",
    "Name: 65, dtype: int64"
   ]
  },
  {
   "cell_type": "markdown",
   "id": "863c4f50",
   "metadata": {},
   "source": [
    "nombre_infected       168\n",
    "nombre_sain          1142\n",
    "nombre_exposed         63\n",
    "nombre_recovered    18627\n",
    "Name: 66, dtype: int64"
   ]
  },
  {
   "cell_type": "markdown",
   "id": "267f136a",
   "metadata": {},
   "source": [
    "nombre_infected       157\n",
    "nombre_sain          1207\n",
    "nombre_exposed         56\n",
    "nombre_recovered    18580\n",
    "Name: 67, dtype: int64"
   ]
  },
  {
   "cell_type": "markdown",
   "id": "692c4bba",
   "metadata": {},
   "source": [
    "nombre_infected       151\n",
    "nombre_sain          1295\n",
    "nombre_exposed         51\n",
    "nombre_recovered    18503\n",
    "Name: 68, dtype: int64"
   ]
  },
  {
   "cell_type": "markdown",
   "id": "740c9044",
   "metadata": {},
   "source": [
    "nombre_infected       136\n",
    "nombre_sain          1351\n",
    "nombre_exposed         50\n",
    "nombre_recovered    18463\n",
    "Name: 69, dtype: int64"
   ]
  },
  {
   "cell_type": "markdown",
   "id": "4a7b76e0",
   "metadata": {},
   "source": [
    "nombre_infected       124\n",
    "nombre_sain          1425\n",
    "nombre_exposed         49\n",
    "nombre_recovered    18402\n",
    "Name: 70, dtype: int64"
   ]
  },
  {
   "cell_type": "markdown",
   "id": "8fcf77d4",
   "metadata": {},
   "source": [
    "nombre_infected       124\n",
    "nombre_sain          1489\n",
    "nombre_exposed         34\n",
    "nombre_recovered    18353\n",
    "Name: 71, dtype: int64"
   ]
  },
  {
   "cell_type": "markdown",
   "id": "dba7d613",
   "metadata": {},
   "source": [
    "nombre_infected       111\n",
    "nombre_sain          1546\n",
    "nombre_exposed         34\n",
    "nombre_recovered    18309\n",
    "Name: 72, dtype: int64"
   ]
  },
  {
   "cell_type": "markdown",
   "id": "53e341c5",
   "metadata": {},
   "source": [
    "nombre_infected       108\n",
    "nombre_sain          1588\n",
    "nombre_exposed         41\n",
    "nombre_recovered    18263\n",
    "Name: 73, dtype: int64"
   ]
  },
  {
   "cell_type": "markdown",
   "id": "7314af3d",
   "metadata": {},
   "source": [
    "nombre_infected       100\n",
    "nombre_sain          1639\n",
    "nombre_exposed         52\n",
    "nombre_recovered    18209\n",
    "Name: 74, dtype: int64"
   ]
  },
  {
   "cell_type": "markdown",
   "id": "b5493e4a",
   "metadata": {},
   "source": [
    "nombre_infected       101\n",
    "nombre_sain          1699\n",
    "nombre_exposed         51\n",
    "nombre_recovered    18149\n",
    "Name: 75, dtype: int64"
   ]
  },
  {
   "cell_type": "markdown",
   "id": "90ae1cb6",
   "metadata": {},
   "source": [
    "nombre_infected        95\n",
    "nombre_sain          1756\n",
    "nombre_exposed         61\n",
    "nombre_recovered    18088\n",
    "Name: 76, dtype: int64"
   ]
  },
  {
   "cell_type": "markdown",
   "id": "ce720918",
   "metadata": {},
   "source": [
    "nombre_infected        92\n",
    "nombre_sain          1825\n",
    "nombre_exposed         61\n",
    "nombre_recovered    18022\n",
    "Name: 77, dtype: int64"
   ]
  },
  {
   "cell_type": "markdown",
   "id": "2d124763",
   "metadata": {},
   "source": [
    "nombre_infected        99\n",
    "nombre_sain          1896\n",
    "nombre_exposed         54\n",
    "nombre_recovered    17951\n",
    "Name: 78, dtype: int64"
   ]
  },
  {
   "cell_type": "markdown",
   "id": "9c306559",
   "metadata": {},
   "source": [
    "nombre_infected        94\n",
    "nombre_sain          1961\n",
    "nombre_exposed         54\n",
    "nombre_recovered    17891\n",
    "Name: 79, dtype: int64"
   ]
  },
  {
   "cell_type": "markdown",
   "id": "dacaf601",
   "metadata": {},
   "source": [
    "nombre_infected        98\n",
    "nombre_sain          2026\n",
    "nombre_exposed         47\n",
    "nombre_recovered    17829\n",
    "Name: 80, dtype: int64"
   ]
  },
  {
   "cell_type": "markdown",
   "id": "f96962f0",
   "metadata": {},
   "source": [
    "nombre_infected       104\n",
    "nombre_sain          2085\n",
    "nombre_exposed         42\n",
    "nombre_recovered    17769\n",
    "Name: 81, dtype: int64"
   ]
  },
  {
   "cell_type": "markdown",
   "id": "f4216511",
   "metadata": {},
   "source": [
    "nombre_infected       100\n",
    "nombre_sain          2145\n",
    "nombre_exposed         43\n",
    "nombre_recovered    17712\n",
    "Name: 82, dtype: int64"
   ]
  },
  {
   "cell_type": "markdown",
   "id": "e12e95b9",
   "metadata": {},
   "source": [
    "nombre_infected        93\n",
    "nombre_sain          2193\n",
    "nombre_exposed         49\n",
    "nombre_recovered    17665\n",
    "Name: 83, dtype: int64"
   ]
  },
  {
   "cell_type": "markdown",
   "id": "3a56c988",
   "metadata": {},
   "source": [
    "nombre_infected        90\n",
    "nombre_sain          2247\n",
    "nombre_exposed         55\n",
    "nombre_recovered    17608\n",
    "Name: 84, dtype: int64"
   ]
  },
  {
   "cell_type": "markdown",
   "id": "bd0081cf",
   "metadata": {},
   "source": [
    "nombre_infected        85\n",
    "nombre_sain          2303\n",
    "nombre_exposed         56\n",
    "nombre_recovered    17556\n",
    "Name: 85, dtype: int64"
   ]
  },
  {
   "cell_type": "markdown",
   "id": "7137fb8a",
   "metadata": {},
   "source": [
    "nombre_infected        92\n",
    "nombre_sain          2349\n",
    "nombre_exposed         52\n",
    "nombre_recovered    17507\n",
    "Name: 86, dtype: int64"
   ]
  },
  {
   "cell_type": "markdown",
   "id": "957ec973",
   "metadata": {},
   "source": [
    "nombre_infected        91\n",
    "nombre_sain          2383\n",
    "nombre_exposed         56\n",
    "nombre_recovered    17470\n",
    "Name: 87, dtype: int64"
   ]
  },
  {
   "cell_type": "markdown",
   "id": "7be234f4",
   "metadata": {},
   "source": [
    "nombre_infected        94\n",
    "nombre_sain          2421\n",
    "nombre_exposed         54\n",
    "nombre_recovered    17431\n",
    "Name: 88, dtype: int64"
   ]
  },
  {
   "cell_type": "markdown",
   "id": "b674ce93",
   "metadata": {},
   "source": [
    "nombre_infected        96\n",
    "nombre_sain          2451\n",
    "nombre_exposed         56\n",
    "nombre_recovered    17397\n",
    "Name: 89, dtype: int64"
   ]
  },
  {
   "cell_type": "markdown",
   "id": "f43bc76b",
   "metadata": {},
   "source": [
    "nombre_infected       103\n",
    "nombre_sain          2469\n",
    "nombre_exposed         59\n",
    "nombre_recovered    17369\n",
    "Name: 90, dtype: int64"
   ]
  },
  {
   "cell_type": "markdown",
   "id": "d978597d",
   "metadata": {},
   "source": [
    "nombre_infected       100\n",
    "nombre_sain          2507\n",
    "nombre_exposed         68\n",
    "nombre_recovered    17325\n",
    "Name: 91, dtype: int64"
   ]
  },
  {
   "cell_type": "markdown",
   "id": "ef2c15b3",
   "metadata": {},
   "source": [
    "nombre_infected        97\n",
    "nombre_sain          2533\n",
    "nombre_exposed         70\n",
    "nombre_recovered    17300\n",
    "Name: 92, dtype: int64"
   ]
  },
  {
   "cell_type": "markdown",
   "id": "b2902af5",
   "metadata": {},
   "source": [
    "nombre_infected        98\n",
    "nombre_sain          2560\n",
    "nombre_exposed         71\n",
    "nombre_recovered    17271\n",
    "Name: 93, dtype: int64"
   ]
  },
  {
   "cell_type": "markdown",
   "id": "e58c1e53",
   "metadata": {},
   "source": [
    "nombre_infected       102\n",
    "nombre_sain          2594\n",
    "nombre_exposed         65\n",
    "nombre_recovered    17239\n",
    "Name: 94, dtype: int64"
   ]
  },
  {
   "cell_type": "markdown",
   "id": "c081cb33",
   "metadata": {},
   "source": [
    "nombre_infected        98\n",
    "nombre_sain          2620\n",
    "nombre_exposed         72\n",
    "nombre_recovered    17210\n",
    "Name: 95, dtype: int64"
   ]
  },
  {
   "cell_type": "markdown",
   "id": "0da7c77e",
   "metadata": {},
   "source": [
    "nombre_infected       104\n",
    "nombre_sain          2654\n",
    "nombre_exposed         70\n",
    "nombre_recovered    17172\n",
    "Name: 96, dtype: int64"
   ]
  },
  {
   "cell_type": "markdown",
   "id": "bfa7e571",
   "metadata": {},
   "source": [
    "nombre_infected       113\n",
    "nombre_sain          2685\n",
    "nombre_exposed         71\n",
    "nombre_recovered    17131\n",
    "Name: 97, dtype: int64"
   ]
  },
  {
   "cell_type": "markdown",
   "id": "3c705096",
   "metadata": {},
   "source": [
    "nombre_infected       117\n",
    "nombre_sain          2704\n",
    "nombre_exposed         77\n",
    "nombre_recovered    17102\n",
    "Name: 98, dtype: int64"
   ]
  },
  {
   "cell_type": "markdown",
   "id": "caacd57e",
   "metadata": {},
   "source": [
    "nombre_infected       127\n",
    "nombre_sain          2750\n",
    "nombre_exposed         70\n",
    "nombre_recovered    17053\n",
    "Name: 99, dtype: int64"
   ]
  },
  {
   "cell_type": "markdown",
   "id": "4f6378a2",
   "metadata": {},
   "source": [
    "nombre_infected       126\n",
    "nombre_sain          2782\n",
    "nombre_exposed         76\n",
    "nombre_recovered    17016\n",
    "Name: 100, dtype: int64"
   ]
  },
  {
   "cell_type": "markdown",
   "id": "79a52d71",
   "metadata": {},
   "source": [
    "nombre_infected       121\n",
    "nombre_sain          2826\n",
    "nombre_exposed         74\n",
    "nombre_recovered    16979\n",
    "Name: 101, dtype: int64"
   ]
  },
  {
   "cell_type": "markdown",
   "id": "3b134f0c",
   "metadata": {},
   "source": [
    "nombre_infected       116\n",
    "nombre_sain          2870\n",
    "nombre_exposed         88\n",
    "nombre_recovered    16926\n",
    "Name: 102, dtype: int64"
   ]
  },
  {
   "cell_type": "markdown",
   "id": "3dd0b5b5",
   "metadata": {},
   "source": [
    "nombre_infected       124\n",
    "nombre_sain          2898\n",
    "nombre_exposed         90\n",
    "nombre_recovered    16888\n",
    "Name: 103, dtype: int64"
   ]
  },
  {
   "cell_type": "markdown",
   "id": "9ad7b3fd",
   "metadata": {},
   "source": [
    "nombre_infected       126\n",
    "nombre_sain          2945\n",
    "nombre_exposed         89\n",
    "nombre_recovered    16840\n",
    "Name: 104, dtype: int64"
   ]
  },
  {
   "cell_type": "markdown",
   "id": "8d1f418b",
   "metadata": {},
   "source": [
    "nombre_infected       136\n",
    "nombre_sain          2978\n",
    "nombre_exposed         90\n",
    "nombre_recovered    16796\n",
    "Name: 105, dtype: int64"
   ]
  },
  {
   "cell_type": "markdown",
   "id": "822522ea",
   "metadata": {},
   "source": [
    "nombre_infected       142\n",
    "nombre_sain          3013\n",
    "nombre_exposed        103\n",
    "nombre_recovered    16742\n",
    "Name: 106, dtype: int64"
   ]
  },
  {
   "cell_type": "markdown",
   "id": "77b4eb4d",
   "metadata": {},
   "source": [
    "nombre_infected       145\n",
    "nombre_sain          3042\n",
    "nombre_exposed        104\n",
    "nombre_recovered    16709\n",
    "Name: 107, dtype: int64"
   ]
  },
  {
   "cell_type": "markdown",
   "id": "8ec4a6a7",
   "metadata": {},
   "source": [
    "nombre_infected       153\n",
    "nombre_sain          3060\n",
    "nombre_exposed        116\n",
    "nombre_recovered    16671\n",
    "Name: 108, dtype: int64"
   ]
  },
  {
   "cell_type": "markdown",
   "id": "619d2247",
   "metadata": {},
   "source": [
    "nombre_infected       159\n",
    "nombre_sain          3076\n",
    "nombre_exposed        130\n",
    "nombre_recovered    16635\n",
    "Name: 109, dtype: int64"
   ]
  },
  {
   "cell_type": "markdown",
   "id": "fd571bfa",
   "metadata": {},
   "source": [
    "nombre_infected       169\n",
    "nombre_sain          3098\n",
    "nombre_exposed        137\n",
    "nombre_recovered    16596\n",
    "Name: 110, dtype: int64"
   ]
  },
  {
   "cell_type": "markdown",
   "id": "b3f9f87c",
   "metadata": {},
   "source": [
    "nombre_infected       180\n",
    "nombre_sain          3098\n",
    "nombre_exposed        147\n",
    "nombre_recovered    16575\n",
    "Name: 111, dtype: int64"
   ]
  },
  {
   "cell_type": "markdown",
   "id": "293ff8f5",
   "metadata": {},
   "source": [
    "nombre_infected       194\n",
    "nombre_sain          3128\n",
    "nombre_exposed        140\n",
    "nombre_recovered    16538\n",
    "Name: 112, dtype: int64"
   ]
  },
  {
   "cell_type": "markdown",
   "id": "6490a073",
   "metadata": {},
   "source": [
    "nombre_infected       202\n",
    "nombre_sain          3149\n",
    "nombre_exposed        140\n",
    "nombre_recovered    16509\n",
    "Name: 113, dtype: int64"
   ]
  },
  {
   "cell_type": "markdown",
   "id": "a530cfe9",
   "metadata": {},
   "source": [
    "nombre_infected       193\n",
    "nombre_sain          3152\n",
    "nombre_exposed        161\n",
    "nombre_recovered    16494\n",
    "Name: 114, dtype: int64"
   ]
  },
  {
   "cell_type": "markdown",
   "id": "55c6625a",
   "metadata": {},
   "source": [
    "nombre_infected       184\n",
    "nombre_sain          3160\n",
    "nombre_exposed        169\n",
    "nombre_recovered    16487\n",
    "Name: 115, dtype: int64"
   ]
  },
  {
   "cell_type": "markdown",
   "id": "6dc68440",
   "metadata": {},
   "source": [
    "nombre_infected       200\n",
    "nombre_sain          3160\n",
    "nombre_exposed        173\n",
    "nombre_recovered    16467\n",
    "Name: 116, dtype: int64"
   ]
  },
  {
   "cell_type": "markdown",
   "id": "f9c11414",
   "metadata": {},
   "source": [
    "nombre_infected       232\n",
    "nombre_sain          3164\n",
    "nombre_exposed        162\n",
    "nombre_recovered    16442\n",
    "Name: 117, dtype: int64"
   ]
  },
  {
   "cell_type": "markdown",
   "id": "3005d084",
   "metadata": {},
   "source": [
    "nombre_infected       241\n",
    "nombre_sain          3164\n",
    "nombre_exposed        171\n",
    "nombre_recovered    16424\n",
    "Name: 118, dtype: int64"
   ]
  },
  {
   "cell_type": "markdown",
   "id": "05cc11eb",
   "metadata": {},
   "source": [
    "nombre_infected       238\n",
    "nombre_sain          3161\n",
    "nombre_exposed        188\n",
    "nombre_recovered    16413\n",
    "Name: 119, dtype: int64"
   ]
  },
  {
   "cell_type": "markdown",
   "id": "3129435f",
   "metadata": {},
   "source": [
    "nombre_infected       248\n",
    "nombre_sain          3167\n",
    "nombre_exposed        186\n",
    "nombre_recovered    16399\n",
    "Name: 120, dtype: int64"
   ]
  },
  {
   "cell_type": "markdown",
   "id": "0f27a284",
   "metadata": {},
   "source": [
    "nombre_infected       256\n",
    "nombre_sain          3155\n",
    "nombre_exposed        204\n",
    "nombre_recovered    16385\n",
    "Name: 121, dtype: int64"
   ]
  },
  {
   "cell_type": "markdown",
   "id": "5df6774c",
   "metadata": {},
   "source": [
    "nombre_infected       259\n",
    "nombre_sain          3157\n",
    "nombre_exposed        212\n",
    "nombre_recovered    16372\n",
    "Name: 122, dtype: int64"
   ]
  },
  {
   "cell_type": "markdown",
   "id": "6669ae18",
   "metadata": {},
   "source": [
    "nombre_infected       271\n",
    "nombre_sain          3172\n",
    "nombre_exposed        203\n",
    "nombre_recovered    16354\n",
    "Name: 123, dtype: int64"
   ]
  },
  {
   "cell_type": "markdown",
   "id": "56f29d4a",
   "metadata": {},
   "source": [
    "nombre_infected       278\n",
    "nombre_sain          3172\n",
    "nombre_exposed        217\n",
    "nombre_recovered    16333\n",
    "Name: 124, dtype: int64"
   ]
  },
  {
   "cell_type": "markdown",
   "id": "a188c89e",
   "metadata": {},
   "source": [
    "nombre_infected       283\n",
    "nombre_sain          3166\n",
    "nombre_exposed        227\n",
    "nombre_recovered    16324\n",
    "Name: 125, dtype: int64"
   ]
  },
  {
   "cell_type": "markdown",
   "id": "f8115834",
   "metadata": {},
   "source": [
    "nombre_infected       293\n",
    "nombre_sain          3162\n",
    "nombre_exposed        228\n",
    "nombre_recovered    16317\n",
    "Name: 126, dtype: int64"
   ]
  },
  {
   "cell_type": "markdown",
   "id": "d494c798",
   "metadata": {},
   "source": [
    "nombre_infected       286\n",
    "nombre_sain          3152\n",
    "nombre_exposed        247\n",
    "nombre_recovered    16315\n",
    "Name: 127, dtype: int64"
   ]
  },
  {
   "cell_type": "markdown",
   "id": "3bdf4483",
   "metadata": {},
   "source": [
    "nombre_infected       314\n",
    "nombre_sain          3154\n",
    "nombre_exposed        236\n",
    "nombre_recovered    16296\n",
    "Name: 128, dtype: int64"
   ]
  },
  {
   "cell_type": "markdown",
   "id": "5c4d1522",
   "metadata": {},
   "source": [
    "nombre_infected       331\n",
    "nombre_sain          3156\n",
    "nombre_exposed        244\n",
    "nombre_recovered    16269\n",
    "Name: 129, dtype: int64"
   ]
  },
  {
   "cell_type": "markdown",
   "id": "0fe71c79",
   "metadata": {},
   "source": [
    "nombre_infected       340\n",
    "nombre_sain          3143\n",
    "nombre_exposed        263\n",
    "nombre_recovered    16254\n",
    "Name: 130, dtype: int64"
   ]
  },
  {
   "cell_type": "markdown",
   "id": "54f17182",
   "metadata": {},
   "source": [
    "nombre_infected       356\n",
    "nombre_sain          3135\n",
    "nombre_exposed        278\n",
    "nombre_recovered    16231\n",
    "Name: 131, dtype: int64"
   ]
  },
  {
   "cell_type": "markdown",
   "id": "13ce13c8",
   "metadata": {},
   "source": [
    "nombre_infected       368\n",
    "nombre_sain          3135\n",
    "nombre_exposed        292\n",
    "nombre_recovered    16205\n",
    "Name: 132, dtype: int64"
   ]
  },
  {
   "cell_type": "markdown",
   "id": "6a4054c8",
   "metadata": {},
   "source": [
    "nombre_infected       372\n",
    "nombre_sain          3132\n",
    "nombre_exposed        316\n",
    "nombre_recovered    16180\n",
    "Name: 133, dtype: int64"
   ]
  },
  {
   "cell_type": "markdown",
   "id": "ed6e0b58",
   "metadata": {},
   "source": [
    "nombre_infected       386\n",
    "nombre_sain          3129\n",
    "nombre_exposed        318\n",
    "nombre_recovered    16167\n",
    "Name: 134, dtype: int64"
   ]
  },
  {
   "cell_type": "markdown",
   "id": "dbd5171a",
   "metadata": {},
   "source": [
    "nombre_infected       386\n",
    "nombre_sain          3146\n",
    "nombre_exposed        323\n",
    "nombre_recovered    16145\n",
    "Name: 135, dtype: int64"
   ]
  },
  {
   "cell_type": "markdown",
   "id": "462a4205",
   "metadata": {},
   "source": [
    "nombre_infected       408\n",
    "nombre_sain          3151\n",
    "nombre_exposed        310\n",
    "nombre_recovered    16131\n",
    "Name: 136, dtype: int64"
   ]
  },
  {
   "cell_type": "markdown",
   "id": "1c013249",
   "metadata": {},
   "source": [
    "nombre_infected       425\n",
    "nombre_sain          3123\n",
    "nombre_exposed        330\n",
    "nombre_recovered    16122\n",
    "Name: 137, dtype: int64"
   ]
  },
  {
   "cell_type": "markdown",
   "id": "17087f46",
   "metadata": {},
   "source": [
    "nombre_infected       410\n",
    "nombre_sain          3114\n",
    "nombre_exposed        356\n",
    "nombre_recovered    16120\n",
    "Name: 138, dtype: int64"
   ]
  },
  {
   "cell_type": "markdown",
   "id": "385fdad1",
   "metadata": {},
   "source": [
    "nombre_infected       433\n",
    "nombre_sain          3096\n",
    "nombre_exposed        358\n",
    "nombre_recovered    16113\n",
    "Name: 139, dtype: int64"
   ]
  },
  {
   "cell_type": "markdown",
   "id": "4aeb279e",
   "metadata": {},
   "source": [
    "nombre_infected       442\n",
    "nombre_sain          3090\n",
    "nombre_exposed        350\n",
    "nombre_recovered    16118\n",
    "Name: 140, dtype: int64"
   ]
  },
  {
   "cell_type": "markdown",
   "id": "2ae71ec4",
   "metadata": {},
   "source": [
    "nombre_infected       443\n",
    "nombre_sain          3047\n",
    "nombre_exposed        373\n",
    "nombre_recovered    16137\n",
    "Name: 141, dtype: int64"
   ]
  },
  {
   "cell_type": "markdown",
   "id": "e99cc3e3",
   "metadata": {},
   "source": [
    "nombre_infected       455\n",
    "nombre_sain          3015\n",
    "nombre_exposed        397\n",
    "nombre_recovered    16133\n",
    "Name: 142, dtype: int64"
   ]
  },
  {
   "cell_type": "markdown",
   "id": "b9293dca",
   "metadata": {},
   "source": [
    "nombre_infected       461\n",
    "nombre_sain          2996\n",
    "nombre_exposed        402\n",
    "nombre_recovered    16141\n",
    "Name: 143, dtype: int64"
   ]
  },
  {
   "cell_type": "markdown",
   "id": "3c2fb78c",
   "metadata": {},
   "source": [
    "nombre_infected       481\n",
    "nombre_sain          2975\n",
    "nombre_exposed        393\n",
    "nombre_recovered    16151\n",
    "Name: 144, dtype: int64"
   ]
  },
  {
   "cell_type": "markdown",
   "id": "4e79cdda",
   "metadata": {},
   "source": [
    "nombre_infected       493\n",
    "nombre_sain          2933\n",
    "nombre_exposed        409\n",
    "nombre_recovered    16165\n",
    "Name: 145, dtype: int64"
   ]
  },
  {
   "cell_type": "markdown",
   "id": "472c967f",
   "metadata": {},
   "source": [
    "nombre_infected       495\n",
    "nombre_sain          2911\n",
    "nombre_exposed        415\n",
    "nombre_recovered    16179\n",
    "Name: 146, dtype: int64"
   ]
  },
  {
   "cell_type": "markdown",
   "id": "9b427240",
   "metadata": {},
   "source": [
    "nombre_infected       506\n",
    "nombre_sain          2872\n",
    "nombre_exposed        433\n",
    "nombre_recovered    16189\n",
    "Name: 147, dtype: int64"
   ]
  },
  {
   "cell_type": "markdown",
   "id": "4308a832",
   "metadata": {},
   "source": [
    "nombre_infected       527\n",
    "nombre_sain          2862\n",
    "nombre_exposed        420\n",
    "nombre_recovered    16191\n",
    "Name: 148, dtype: int64"
   ]
  },
  {
   "cell_type": "markdown",
   "id": "c3988bf9",
   "metadata": {},
   "source": [
    "nombre_infected       546\n",
    "nombre_sain          2840\n",
    "nombre_exposed        414\n",
    "nombre_recovered    16200\n",
    "Name: 149, dtype: int64"
   ]
  },
  {
   "cell_type": "markdown",
   "id": "c4d56b09",
   "metadata": {},
   "source": [
    "nombre_infected       555\n",
    "nombre_sain          2816\n",
    "nombre_exposed        421\n",
    "nombre_recovered    16208\n",
    "Name: 150, dtype: int64"
   ]
  },
  {
   "cell_type": "markdown",
   "id": "664f7983",
   "metadata": {},
   "source": [
    "nombre_infected       568\n",
    "nombre_sain          2792\n",
    "nombre_exposed        428\n",
    "nombre_recovered    16212\n",
    "Name: 151, dtype: int64"
   ]
  },
  {
   "cell_type": "markdown",
   "id": "7e646595",
   "metadata": {},
   "source": [
    "nombre_infected       585\n",
    "nombre_sain          2771\n",
    "nombre_exposed        434\n",
    "nombre_recovered    16210\n",
    "Name: 152, dtype: int64"
   ]
  },
  {
   "cell_type": "markdown",
   "id": "8f14cbb5",
   "metadata": {},
   "source": [
    "nombre_infected       594\n",
    "nombre_sain          2744\n",
    "nombre_exposed        444\n",
    "nombre_recovered    16218\n",
    "Name: 153, dtype: int64"
   ]
  },
  {
   "cell_type": "markdown",
   "id": "87ac428e",
   "metadata": {},
   "source": [
    "nombre_infected       620\n",
    "nombre_sain          2711\n",
    "nombre_exposed        431\n",
    "nombre_recovered    16238\n",
    "Name: 154, dtype: int64"
   ]
  },
  {
   "cell_type": "markdown",
   "id": "4cb504ec",
   "metadata": {},
   "source": [
    "nombre_infected       633\n",
    "nombre_sain          2647\n",
    "nombre_exposed        447\n",
    "nombre_recovered    16273\n",
    "Name: 155, dtype: int64"
   ]
  },
  {
   "cell_type": "markdown",
   "id": "1f76f6ea",
   "metadata": {},
   "source": [
    "nombre_infected       635\n",
    "nombre_sain          2610\n",
    "nombre_exposed        467\n",
    "nombre_recovered    16288\n",
    "Name: 156, dtype: int64"
   ]
  },
  {
   "cell_type": "markdown",
   "id": "69ef172e",
   "metadata": {},
   "source": [
    "nombre_infected       670\n",
    "nombre_sain          2592\n",
    "nombre_exposed        446\n",
    "nombre_recovered    16292\n",
    "Name: 157, dtype: int64"
   ]
  },
  {
   "cell_type": "markdown",
   "id": "f17ae8c6",
   "metadata": {},
   "source": [
    "nombre_infected       665\n",
    "nombre_sain          2578\n",
    "nombre_exposed        438\n",
    "nombre_recovered    16319\n",
    "Name: 158, dtype: int64"
   ]
  },
  {
   "cell_type": "markdown",
   "id": "ee804346",
   "metadata": {},
   "source": [
    "nombre_infected       685\n",
    "nombre_sain          2544\n",
    "nombre_exposed        438\n",
    "nombre_recovered    16333\n",
    "Name: 159, dtype: int64"
   ]
  },
  {
   "cell_type": "markdown",
   "id": "4e90e043",
   "metadata": {},
   "source": [
    "nombre_infected       701\n",
    "nombre_sain          2513\n",
    "nombre_exposed        450\n",
    "nombre_recovered    16336\n",
    "Name: 160, dtype: int64"
   ]
  },
  {
   "cell_type": "markdown",
   "id": "bdc8f740",
   "metadata": {},
   "source": [
    "nombre_infected       691\n",
    "nombre_sain          2466\n",
    "nombre_exposed        467\n",
    "nombre_recovered    16376\n",
    "Name: 161, dtype: int64"
   ]
  },
  {
   "cell_type": "markdown",
   "id": "55f63a07",
   "metadata": {},
   "source": [
    "nombre_infected       698\n",
    "nombre_sain          2424\n",
    "nombre_exposed        484\n",
    "nombre_recovered    16394\n",
    "Name: 162, dtype: int64"
   ]
  },
  {
   "cell_type": "markdown",
   "id": "6d042d16",
   "metadata": {},
   "source": [
    "nombre_infected       715\n",
    "nombre_sain          2380\n",
    "nombre_exposed        463\n",
    "nombre_recovered    16442\n",
    "Name: 163, dtype: int64"
   ]
  },
  {
   "cell_type": "markdown",
   "id": "3de1cff6",
   "metadata": {},
   "source": [
    "nombre_infected       717\n",
    "nombre_sain          2365\n",
    "nombre_exposed        463\n",
    "nombre_recovered    16455\n",
    "Name: 164, dtype: int64"
   ]
  },
  {
   "cell_type": "markdown",
   "id": "569e1fff",
   "metadata": {},
   "source": [
    "nombre_infected       703\n",
    "nombre_sain          2323\n",
    "nombre_exposed        484\n",
    "nombre_recovered    16490\n",
    "Name: 165, dtype: int64"
   ]
  },
  {
   "cell_type": "markdown",
   "id": "087e317c",
   "metadata": {},
   "source": [
    "nombre_infected       708\n",
    "nombre_sain          2312\n",
    "nombre_exposed        474\n",
    "nombre_recovered    16506\n",
    "Name: 166, dtype: int64"
   ]
  },
  {
   "cell_type": "markdown",
   "id": "88915b94",
   "metadata": {},
   "source": [
    "nombre_infected       721\n",
    "nombre_sain          2282\n",
    "nombre_exposed        464\n",
    "nombre_recovered    16533\n",
    "Name: 167, dtype: int64"
   ]
  },
  {
   "cell_type": "markdown",
   "id": "fb2d5e24",
   "metadata": {},
   "source": [
    "nombre_infected       723\n",
    "nombre_sain          2244\n",
    "nombre_exposed        477\n",
    "nombre_recovered    16556\n",
    "Name: 168, dtype: int64"
   ]
  },
  {
   "cell_type": "markdown",
   "id": "60ceee28",
   "metadata": {},
   "source": [
    "nombre_infected       737\n",
    "nombre_sain          2207\n",
    "nombre_exposed        479\n",
    "nombre_recovered    16577\n",
    "Name: 169, dtype: int64"
   ]
  },
  {
   "cell_type": "markdown",
   "id": "8690b0f7",
   "metadata": {},
   "source": [
    "nombre_infected       753\n",
    "nombre_sain          2187\n",
    "nombre_exposed        466\n",
    "nombre_recovered    16594\n",
    "Name: 170, dtype: int64"
   ]
  },
  {
   "cell_type": "markdown",
   "id": "8a762ffa",
   "metadata": {},
   "source": [
    "nombre_infected       774\n",
    "nombre_sain          2165\n",
    "nombre_exposed        457\n",
    "nombre_recovered    16604\n",
    "Name: 171, dtype: int64"
   ]
  },
  {
   "cell_type": "markdown",
   "id": "e90a47ae",
   "metadata": {},
   "source": [
    "nombre_infected       776\n",
    "nombre_sain          2141\n",
    "nombre_exposed        458\n",
    "nombre_recovered    16625\n",
    "Name: 172, dtype: int64"
   ]
  },
  {
   "cell_type": "markdown",
   "id": "776a9a11",
   "metadata": {},
   "source": [
    "nombre_infected       780\n",
    "nombre_sain          2142\n",
    "nombre_exposed        445\n",
    "nombre_recovered    16633\n",
    "Name: 173, dtype: int64"
   ]
  },
  {
   "cell_type": "markdown",
   "id": "b12f7a27",
   "metadata": {},
   "source": [
    "nombre_infected       801\n",
    "nombre_sain          2132\n",
    "nombre_exposed        449\n",
    "nombre_recovered    16618\n",
    "Name: 174, dtype: int64"
   ]
  },
  {
   "cell_type": "markdown",
   "id": "c6cdc98a",
   "metadata": {},
   "source": [
    "nombre_infected       808\n",
    "nombre_sain          2102\n",
    "nombre_exposed        446\n",
    "nombre_recovered    16644\n",
    "Name: 175, dtype: int64"
   ]
  },
  {
   "cell_type": "markdown",
   "id": "5869b4ee",
   "metadata": {},
   "source": [
    "nombre_infected       813\n",
    "nombre_sain          2101\n",
    "nombre_exposed        439\n",
    "nombre_recovered    16647\n",
    "Name: 176, dtype: int64"
   ]
  },
  {
   "cell_type": "markdown",
   "id": "ff1736dd",
   "metadata": {},
   "source": [
    "nombre_infected       812\n",
    "nombre_sain          2130\n",
    "nombre_exposed        426\n",
    "nombre_recovered    16632\n",
    "Name: 177, dtype: int64"
   ]
  },
  {
   "cell_type": "markdown",
   "id": "93450c49",
   "metadata": {},
   "source": [
    "nombre_infected       826\n",
    "nombre_sain          2116\n",
    "nombre_exposed        420\n",
    "nombre_recovered    16638\n",
    "Name: 178, dtype: int64"
   ]
  },
  {
   "cell_type": "markdown",
   "id": "43cd9fa4",
   "metadata": {},
   "source": [
    "nombre_infected       800\n",
    "nombre_sain          2105\n",
    "nombre_exposed        417\n",
    "nombre_recovered    16678\n",
    "Name: 179, dtype: int64"
   ]
  },
  {
   "cell_type": "markdown",
   "id": "a443e7ae",
   "metadata": {},
   "source": [
    "nombre_infected       798\n",
    "nombre_sain          2088\n",
    "nombre_exposed        420\n",
    "nombre_recovered    16694\n",
    "Name: 180, dtype: int64"
   ]
  },
  {
   "cell_type": "markdown",
   "id": "e7bdc3d9",
   "metadata": {},
   "source": [
    "nombre_infected       804\n",
    "nombre_sain          2059\n",
    "nombre_exposed        427\n",
    "nombre_recovered    16710\n",
    "Name: 181, dtype: int64"
   ]
  },
  {
   "cell_type": "markdown",
   "id": "959d05ea",
   "metadata": {},
   "source": [
    "nombre_infected       807\n",
    "nombre_sain          2075\n",
    "nombre_exposed        425\n",
    "nombre_recovered    16693\n",
    "Name: 182, dtype: int64"
   ]
  },
  {
   "cell_type": "markdown",
   "id": "9749195a",
   "metadata": {},
   "source": [
    "nombre_infected       790\n",
    "nombre_sain          2053\n",
    "nombre_exposed        440\n",
    "nombre_recovered    16717\n",
    "Name: 183, dtype: int64"
   ]
  },
  {
   "cell_type": "markdown",
   "id": "edfad034",
   "metadata": {},
   "source": [
    "nombre_infected       807\n",
    "nombre_sain          2047\n",
    "nombre_exposed        441\n",
    "nombre_recovered    16705\n",
    "Name: 184, dtype: int64"
   ]
  },
  {
   "cell_type": "markdown",
   "id": "b0b6e38a",
   "metadata": {},
   "source": [
    "nombre_infected       808\n",
    "nombre_sain          2054\n",
    "nombre_exposed        427\n",
    "nombre_recovered    16711\n",
    "Name: 185, dtype: int64"
   ]
  },
  {
   "cell_type": "markdown",
   "id": "57a177ec",
   "metadata": {},
   "source": [
    "nombre_infected       792\n",
    "nombre_sain          2069\n",
    "nombre_exposed        433\n",
    "nombre_recovered    16706\n",
    "Name: 186, dtype: int64"
   ]
  },
  {
   "cell_type": "markdown",
   "id": "694b8c05",
   "metadata": {},
   "source": [
    "nombre_infected       778\n",
    "nombre_sain          2085\n",
    "nombre_exposed        423\n",
    "nombre_recovered    16714\n",
    "Name: 187, dtype: int64"
   ]
  },
  {
   "cell_type": "markdown",
   "id": "ae238955",
   "metadata": {},
   "source": [
    "nombre_infected       766\n",
    "nombre_sain          2082\n",
    "nombre_exposed        443\n",
    "nombre_recovered    16709\n",
    "Name: 188, dtype: int64"
   ]
  },
  {
   "cell_type": "markdown",
   "id": "86fece6c",
   "metadata": {},
   "source": [
    "nombre_infected       743\n",
    "nombre_sain          2105\n",
    "nombre_exposed        459\n",
    "nombre_recovered    16693\n",
    "Name: 189, dtype: int64"
   ]
  },
  {
   "cell_type": "markdown",
   "id": "3e7fa48d",
   "metadata": {},
   "source": [
    "nombre_infected       772\n",
    "nombre_sain          2129\n",
    "nombre_exposed        431\n",
    "nombre_recovered    16668\n",
    "Name: 190, dtype: int64"
   ]
  },
  {
   "cell_type": "markdown",
   "id": "e796fc13",
   "metadata": {},
   "source": [
    "nombre_infected       778\n",
    "nombre_sain          2126\n",
    "nombre_exposed        432\n",
    "nombre_recovered    16664\n",
    "Name: 191, dtype: int64"
   ]
  },
  {
   "cell_type": "markdown",
   "id": "ae3ea91d",
   "metadata": {},
   "source": [
    "nombre_infected       749\n",
    "nombre_sain          2153\n",
    "nombre_exposed        437\n",
    "nombre_recovered    16661\n",
    "Name: 192, dtype: int64"
   ]
  },
  {
   "cell_type": "markdown",
   "id": "70e18876",
   "metadata": {},
   "source": [
    "nombre_infected       724\n",
    "nombre_sain          2146\n",
    "nombre_exposed        452\n",
    "nombre_recovered    16678\n",
    "Name: 193, dtype: int64"
   ]
  },
  {
   "cell_type": "markdown",
   "id": "52cb1055",
   "metadata": {},
   "source": [
    "nombre_infected       732\n",
    "nombre_sain          2135\n",
    "nombre_exposed        450\n",
    "nombre_recovered    16683\n",
    "Name: 194, dtype: int64"
   ]
  },
  {
   "cell_type": "markdown",
   "id": "be83ca81",
   "metadata": {},
   "source": [
    "nombre_infected       736\n",
    "nombre_sain          2134\n",
    "nombre_exposed        432\n",
    "nombre_recovered    16698\n",
    "Name: 195, dtype: int64"
   ]
  },
  {
   "cell_type": "markdown",
   "id": "87ae5961",
   "metadata": {},
   "source": [
    "nombre_infected       742\n",
    "nombre_sain          2136\n",
    "nombre_exposed        429\n",
    "nombre_recovered    16693\n",
    "Name: 196, dtype: int64"
   ]
  },
  {
   "cell_type": "markdown",
   "id": "69d3847d",
   "metadata": {},
   "source": [
    "nombre_infected       716\n",
    "nombre_sain          2159\n",
    "nombre_exposed        430\n",
    "nombre_recovered    16695\n",
    "Name: 197, dtype: int64"
   ]
  },
  {
   "cell_type": "markdown",
   "id": "418624f5",
   "metadata": {},
   "source": [
    "nombre_infected       714\n",
    "nombre_sain          2165\n",
    "nombre_exposed        441\n",
    "nombre_recovered    16680\n",
    "Name: 198, dtype: int64"
   ]
  },
  {
   "cell_type": "markdown",
   "id": "f44db701",
   "metadata": {},
   "source": [
    "nombre_infected       710\n",
    "nombre_sain          2167\n",
    "nombre_exposed        446\n",
    "nombre_recovered    16677\n",
    "Name: 199, dtype: int64"
   ]
  },
  {
   "cell_type": "markdown",
   "id": "5b745d88",
   "metadata": {},
   "source": [
    "nombre_infected       711\n",
    "nombre_sain          2155\n",
    "nombre_exposed        449\n",
    "nombre_recovered    16685\n",
    "Name: 200, dtype: int64"
   ]
  },
  {
   "cell_type": "markdown",
   "id": "5322ad7c",
   "metadata": {},
   "source": [
    "nombre_infected       714\n",
    "nombre_sain          2174\n",
    "nombre_exposed        437\n",
    "nombre_recovered    16675\n",
    "Name: 201, dtype: int64"
   ]
  },
  {
   "cell_type": "markdown",
   "id": "09524560",
   "metadata": {},
   "source": [
    "nombre_infected       731\n",
    "nombre_sain          2163\n",
    "nombre_exposed        449\n",
    "nombre_recovered    16657\n",
    "Name: 202, dtype: int64"
   ]
  },
  {
   "cell_type": "markdown",
   "id": "1fa7904e",
   "metadata": {},
   "source": [
    "nombre_infected       732\n",
    "nombre_sain          2174\n",
    "nombre_exposed        447\n",
    "nombre_recovered    16647\n",
    "Name: 203, dtype: int64"
   ]
  },
  {
   "cell_type": "markdown",
   "id": "7c05db57",
   "metadata": {},
   "source": [
    "nombre_infected       735\n",
    "nombre_sain          2159\n",
    "nombre_exposed        452\n",
    "nombre_recovered    16654\n",
    "Name: 204, dtype: int64"
   ]
  },
  {
   "cell_type": "markdown",
   "id": "8b806dd4",
   "metadata": {},
   "source": [
    "nombre_infected       735\n",
    "nombre_sain          2159\n",
    "nombre_exposed        455\n",
    "nombre_recovered    16651\n",
    "Name: 205, dtype: int64"
   ]
  },
  {
   "cell_type": "markdown",
   "id": "9713593b",
   "metadata": {},
   "source": [
    "nombre_infected       750\n",
    "nombre_sain          2156\n",
    "nombre_exposed        455\n",
    "nombre_recovered    16639\n",
    "Name: 206, dtype: int64"
   ]
  },
  {
   "cell_type": "markdown",
   "id": "0a2d3a17",
   "metadata": {},
   "source": [
    "nombre_infected       746\n",
    "nombre_sain          2169\n",
    "nombre_exposed        464\n",
    "nombre_recovered    16621\n",
    "Name: 207, dtype: int64"
   ]
  },
  {
   "cell_type": "markdown",
   "id": "1830b46c",
   "metadata": {},
   "source": [
    "nombre_infected       739\n",
    "nombre_sain          2173\n",
    "nombre_exposed        473\n",
    "nombre_recovered    16615\n",
    "Name: 208, dtype: int64"
   ]
  },
  {
   "cell_type": "markdown",
   "id": "3fdbe1ce",
   "metadata": {},
   "source": [
    "nombre_infected       752\n",
    "nombre_sain          2206\n",
    "nombre_exposed        452\n",
    "nombre_recovered    16590\n",
    "Name: 209, dtype: int64"
   ]
  },
  {
   "cell_type": "markdown",
   "id": "edd02f58",
   "metadata": {},
   "source": [
    "nombre_infected       744\n",
    "nombre_sain          2221\n",
    "nombre_exposed        457\n",
    "nombre_recovered    16578\n",
    "Name: 210, dtype: int64"
   ]
  },
  {
   "cell_type": "markdown",
   "id": "c35992d7",
   "metadata": {},
   "source": [
    "nombre_infected       753\n",
    "nombre_sain          2241\n",
    "nombre_exposed        448\n",
    "nombre_recovered    16558\n",
    "Name: 211, dtype: int64"
   ]
  },
  {
   "cell_type": "markdown",
   "id": "e0a7ef2b",
   "metadata": {},
   "source": [
    "nombre_infected       762\n",
    "nombre_sain          2225\n",
    "nombre_exposed        441\n",
    "nombre_recovered    16572\n",
    "Name: 212, dtype: int64"
   ]
  },
  {
   "cell_type": "markdown",
   "id": "5329958d",
   "metadata": {},
   "source": [
    "nombre_infected       765\n",
    "nombre_sain          2238\n",
    "nombre_exposed        447\n",
    "nombre_recovered    16550\n",
    "Name: 213, dtype: int64"
   ]
  },
  {
   "cell_type": "markdown",
   "id": "f5da327f",
   "metadata": {},
   "source": [
    "nombre_infected       768\n",
    "nombre_sain          2262\n",
    "nombre_exposed        435\n",
    "nombre_recovered    16535\n",
    "Name: 214, dtype: int64"
   ]
  },
  {
   "cell_type": "markdown",
   "id": "2c669448",
   "metadata": {},
   "source": [
    "nombre_infected       777\n",
    "nombre_sain          2241\n",
    "nombre_exposed        451\n",
    "nombre_recovered    16531\n",
    "Name: 215, dtype: int64"
   ]
  },
  {
   "cell_type": "markdown",
   "id": "4b2f3058",
   "metadata": {},
   "source": [
    "nombre_infected       790\n",
    "nombre_sain          2248\n",
    "nombre_exposed        445\n",
    "nombre_recovered    16517\n",
    "Name: 216, dtype: int64"
   ]
  },
  {
   "cell_type": "markdown",
   "id": "3d962e92",
   "metadata": {},
   "source": [
    "nombre_infected       795\n",
    "nombre_sain          2212\n",
    "nombre_exposed        469\n",
    "nombre_recovered    16524\n",
    "Name: 217, dtype: int64"
   ]
  },
  {
   "cell_type": "markdown",
   "id": "d327bece",
   "metadata": {},
   "source": [
    "nombre_infected       804\n",
    "nombre_sain          2199\n",
    "nombre_exposed        475\n",
    "nombre_recovered    16522\n",
    "Name: 218, dtype: int64"
   ]
  },
  {
   "cell_type": "markdown",
   "id": "1c648221",
   "metadata": {},
   "source": [
    "nombre_infected       801\n",
    "nombre_sain          2204\n",
    "nombre_exposed        468\n",
    "nombre_recovered    16527\n",
    "Name: 219, dtype: int64"
   ]
  },
  {
   "cell_type": "markdown",
   "id": "cc1c0c55",
   "metadata": {},
   "source": [
    "nombre_infected       822\n",
    "nombre_sain          2175\n",
    "nombre_exposed        470\n",
    "nombre_recovered    16533\n",
    "Name: 220, dtype: int64"
   ]
  },
  {
   "cell_type": "markdown",
   "id": "3b5f73e8",
   "metadata": {},
   "source": [
    "nombre_infected       844\n",
    "nombre_sain          2181\n",
    "nombre_exposed        466\n",
    "nombre_recovered    16509\n",
    "Name: 221, dtype: int64"
   ]
  },
  {
   "cell_type": "markdown",
   "id": "531df60e",
   "metadata": {},
   "source": [
    "nombre_infected       843\n",
    "nombre_sain          2137\n",
    "nombre_exposed        470\n",
    "nombre_recovered    16550\n",
    "Name: 222, dtype: int64"
   ]
  },
  {
   "cell_type": "markdown",
   "id": "7c91934d",
   "metadata": {},
   "source": [
    "nombre_infected       859\n",
    "nombre_sain          2082\n",
    "nombre_exposed        496\n",
    "nombre_recovered    16563\n",
    "Name: 223, dtype: int64"
   ]
  },
  {
   "cell_type": "markdown",
   "id": "143aafda",
   "metadata": {},
   "source": [
    "nombre_infected       873\n",
    "nombre_sain          2049\n",
    "nombre_exposed        505\n",
    "nombre_recovered    16573\n",
    "Name: 224, dtype: int64"
   ]
  },
  {
   "cell_type": "markdown",
   "id": "419395d4",
   "metadata": {},
   "source": [
    "nombre_infected       878\n",
    "nombre_sain          2017\n",
    "nombre_exposed        510\n",
    "nombre_recovered    16595\n",
    "Name: 225, dtype: int64"
   ]
  },
  {
   "cell_type": "markdown",
   "id": "10177c24",
   "metadata": {},
   "source": [
    "nombre_infected       889\n",
    "nombre_sain          2000\n",
    "nombre_exposed        497\n",
    "nombre_recovered    16614\n",
    "Name: 226, dtype: int64"
   ]
  },
  {
   "cell_type": "markdown",
   "id": "07623891",
   "metadata": {},
   "source": [
    "nombre_infected       879\n",
    "nombre_sain          1978\n",
    "nombre_exposed        486\n",
    "nombre_recovered    16657\n",
    "Name: 227, dtype: int64"
   ]
  },
  {
   "cell_type": "markdown",
   "id": "d774e433",
   "metadata": {},
   "source": [
    "nombre_infected       883\n",
    "nombre_sain          1957\n",
    "nombre_exposed        494\n",
    "nombre_recovered    16666\n",
    "Name: 228, dtype: int64"
   ]
  },
  {
   "cell_type": "markdown",
   "id": "6c0bf1fc",
   "metadata": {},
   "source": [
    "nombre_infected       890\n",
    "nombre_sain          1958\n",
    "nombre_exposed        492\n",
    "nombre_recovered    16660\n",
    "Name: 229, dtype: int64"
   ]
  },
  {
   "cell_type": "markdown",
   "id": "98d9e3d4",
   "metadata": {},
   "source": [
    "nombre_infected       888\n",
    "nombre_sain          1940\n",
    "nombre_exposed        470\n",
    "nombre_recovered    16702\n",
    "Name: 230, dtype: int64"
   ]
  },
  {
   "cell_type": "markdown",
   "id": "d0cab68c",
   "metadata": {},
   "source": [
    "nombre_infected       909\n",
    "nombre_sain          1931\n",
    "nombre_exposed        455\n",
    "nombre_recovered    16705\n",
    "Name: 231, dtype: int64"
   ]
  },
  {
   "cell_type": "markdown",
   "id": "aa716260",
   "metadata": {},
   "source": [
    "nombre_infected       898\n",
    "nombre_sain          1948\n",
    "nombre_exposed        448\n",
    "nombre_recovered    16706\n",
    "Name: 232, dtype: int64"
   ]
  },
  {
   "cell_type": "markdown",
   "id": "5417ca43",
   "metadata": {},
   "source": [
    "nombre_infected       877\n",
    "nombre_sain          1927\n",
    "nombre_exposed        451\n",
    "nombre_recovered    16745\n",
    "Name: 233, dtype: int64"
   ]
  },
  {
   "cell_type": "markdown",
   "id": "553ddb82",
   "metadata": {},
   "source": [
    "nombre_infected       851\n",
    "nombre_sain          1902\n",
    "nombre_exposed        453\n",
    "nombre_recovered    16794\n",
    "Name: 234, dtype: int64"
   ]
  },
  {
   "cell_type": "markdown",
   "id": "80384e4d",
   "metadata": {},
   "source": [
    "nombre_infected       827\n",
    "nombre_sain          1898\n",
    "nombre_exposed        453\n",
    "nombre_recovered    16822\n",
    "Name: 235, dtype: int64"
   ]
  },
  {
   "cell_type": "markdown",
   "id": "99b405d1",
   "metadata": {},
   "source": [
    "nombre_infected       817\n",
    "nombre_sain          1914\n",
    "nombre_exposed        456\n",
    "nombre_recovered    16813\n",
    "Name: 236, dtype: int64"
   ]
  },
  {
   "cell_type": "markdown",
   "id": "1bdbb460",
   "metadata": {},
   "source": [
    "nombre_infected       798\n",
    "nombre_sain          1925\n",
    "nombre_exposed        465\n",
    "nombre_recovered    16812\n",
    "Name: 237, dtype: int64"
   ]
  },
  {
   "cell_type": "markdown",
   "id": "ba569cdd",
   "metadata": {},
   "source": [
    "nombre_infected       768\n",
    "nombre_sain          1920\n",
    "nombre_exposed        473\n",
    "nombre_recovered    16839\n",
    "Name: 238, dtype: int64"
   ]
  },
  {
   "cell_type": "markdown",
   "id": "042d52d5",
   "metadata": {},
   "source": [
    "nombre_infected       761\n",
    "nombre_sain          1938\n",
    "nombre_exposed        451\n",
    "nombre_recovered    16850\n",
    "Name: 239, dtype: int64"
   ]
  },
  {
   "cell_type": "markdown",
   "id": "7d63033f",
   "metadata": {},
   "source": [
    "nombre_infected       765\n",
    "nombre_sain          1964\n",
    "nombre_exposed        406\n",
    "nombre_recovered    16865\n",
    "Name: 240, dtype: int64"
   ]
  },
  {
   "cell_type": "markdown",
   "id": "69696f3e",
   "metadata": {},
   "source": [
    "nombre_infected       768\n",
    "nombre_sain          1974\n",
    "nombre_exposed        388\n",
    "nombre_recovered    16870\n",
    "Name: 241, dtype: int64"
   ]
  },
  {
   "cell_type": "markdown",
   "id": "9488f503",
   "metadata": {},
   "source": [
    "nombre_infected       752\n",
    "nombre_sain          1979\n",
    "nombre_exposed        393\n",
    "nombre_recovered    16876\n",
    "Name: 242, dtype: int64"
   ]
  },
  {
   "cell_type": "markdown",
   "id": "fbb748a4",
   "metadata": {},
   "source": [
    "nombre_infected       738\n",
    "nombre_sain          2005\n",
    "nombre_exposed        391\n",
    "nombre_recovered    16866\n",
    "Name: 243, dtype: int64"
   ]
  },
  {
   "cell_type": "markdown",
   "id": "73c0a7c4",
   "metadata": {},
   "source": [
    "nombre_infected       734\n",
    "nombre_sain          2037\n",
    "nombre_exposed        374\n",
    "nombre_recovered    16855\n",
    "Name: 244, dtype: int64"
   ]
  },
  {
   "cell_type": "markdown",
   "id": "9605b76f",
   "metadata": {},
   "source": [
    "nombre_infected       724\n",
    "nombre_sain          2059\n",
    "nombre_exposed        368\n",
    "nombre_recovered    16849\n",
    "Name: 245, dtype: int64"
   ]
  },
  {
   "cell_type": "markdown",
   "id": "b06a4116",
   "metadata": {},
   "source": [
    "nombre_infected       711\n",
    "nombre_sain          2045\n",
    "nombre_exposed        371\n",
    "nombre_recovered    16873\n",
    "Name: 246, dtype: int64"
   ]
  },
  {
   "cell_type": "markdown",
   "id": "de7b418e",
   "metadata": {},
   "source": [
    "nombre_infected       677\n",
    "nombre_sain          2077\n",
    "nombre_exposed        375\n",
    "nombre_recovered    16871\n",
    "Name: 247, dtype: int64"
   ]
  },
  {
   "cell_type": "markdown",
   "id": "b2a5673d",
   "metadata": {},
   "source": [
    "nombre_infected       671\n",
    "nombre_sain          2094\n",
    "nombre_exposed        366\n",
    "nombre_recovered    16869\n",
    "Name: 248, dtype: int64"
   ]
  },
  {
   "cell_type": "markdown",
   "id": "92c1027e",
   "metadata": {},
   "source": [
    "nombre_infected       684\n",
    "nombre_sain          2146\n",
    "nombre_exposed        346\n",
    "nombre_recovered    16824\n",
    "Name: 249, dtype: int64"
   ]
  },
  {
   "cell_type": "markdown",
   "id": "f2be066d",
   "metadata": {},
   "source": [
    "nombre_infected       667\n",
    "nombre_sain          2160\n",
    "nombre_exposed        345\n",
    "nombre_recovered    16828\n",
    "Name: 250, dtype: int64"
   ]
  },
  {
   "cell_type": "markdown",
   "id": "ecc6b8b6",
   "metadata": {},
   "source": [
    "nombre_infected       653\n",
    "nombre_sain          2166\n",
    "nombre_exposed        345\n",
    "nombre_recovered    16836\n",
    "Name: 251, dtype: int64"
   ]
  },
  {
   "cell_type": "markdown",
   "id": "dcc37418",
   "metadata": {},
   "source": [
    "nombre_infected       658\n",
    "nombre_sain          2164\n",
    "nombre_exposed        347\n",
    "nombre_recovered    16831\n",
    "Name: 252, dtype: int64"
   ]
  },
  {
   "cell_type": "markdown",
   "id": "5a773797",
   "metadata": {},
   "source": [
    "nombre_infected       650\n",
    "nombre_sain          2195\n",
    "nombre_exposed        335\n",
    "nombre_recovered    16820\n",
    "Name: 253, dtype: int64"
   ]
  },
  {
   "cell_type": "markdown",
   "id": "109bfec8",
   "metadata": {},
   "source": [
    "nombre_infected       643\n",
    "nombre_sain          2188\n",
    "nombre_exposed        351\n",
    "nombre_recovered    16818\n",
    "Name: 254, dtype: int64"
   ]
  },
  {
   "cell_type": "markdown",
   "id": "1540cd89",
   "metadata": {},
   "source": [
    "nombre_infected       644\n",
    "nombre_sain          2220\n",
    "nombre_exposed        348\n",
    "nombre_recovered    16788\n",
    "Name: 255, dtype: int64"
   ]
  },
  {
   "cell_type": "markdown",
   "id": "0e1b6ed1",
   "metadata": {},
   "source": [
    "nombre_infected       618\n",
    "nombre_sain          2230\n",
    "nombre_exposed        363\n",
    "nombre_recovered    16789\n",
    "Name: 256, dtype: int64"
   ]
  },
  {
   "cell_type": "markdown",
   "id": "201776ae",
   "metadata": {},
   "source": [
    "nombre_infected       616\n",
    "nombre_sain          2244\n",
    "nombre_exposed        389\n",
    "nombre_recovered    16751\n",
    "Name: 257, dtype: int64"
   ]
  },
  {
   "cell_type": "markdown",
   "id": "bd78f6aa",
   "metadata": {},
   "source": [
    "nombre_infected       622\n",
    "nombre_sain          2254\n",
    "nombre_exposed        390\n",
    "nombre_recovered    16734\n",
    "Name: 258, dtype: int64"
   ]
  },
  {
   "cell_type": "markdown",
   "id": "f19f4fc7",
   "metadata": {},
   "source": [
    "nombre_infected       627\n",
    "nombre_sain          2287\n",
    "nombre_exposed        391\n",
    "nombre_recovered    16695\n",
    "Name: 259, dtype: int64"
   ]
  },
  {
   "cell_type": "markdown",
   "id": "e0f28883",
   "metadata": {},
   "source": [
    "nombre_infected       621\n",
    "nombre_sain          2295\n",
    "nombre_exposed        383\n",
    "nombre_recovered    16701\n",
    "Name: 260, dtype: int64"
   ]
  },
  {
   "cell_type": "markdown",
   "id": "2b9c93e9",
   "metadata": {},
   "source": [
    "nombre_infected       633\n",
    "nombre_sain          2293\n",
    "nombre_exposed        382\n",
    "nombre_recovered    16692\n",
    "Name: 261, dtype: int64"
   ]
  },
  {
   "cell_type": "markdown",
   "id": "1ec0c8b6",
   "metadata": {},
   "source": [
    "nombre_infected       643\n",
    "nombre_sain          2286\n",
    "nombre_exposed        377\n",
    "nombre_recovered    16694\n",
    "Name: 262, dtype: int64"
   ]
  },
  {
   "cell_type": "markdown",
   "id": "54fc30e3",
   "metadata": {},
   "source": [
    "nombre_infected       652\n",
    "nombre_sain          2301\n",
    "nombre_exposed        363\n",
    "nombre_recovered    16684\n",
    "Name: 263, dtype: int64"
   ]
  },
  {
   "cell_type": "markdown",
   "id": "3fe2a3ad",
   "metadata": {},
   "source": [
    "nombre_infected       641\n",
    "nombre_sain          2318\n",
    "nombre_exposed        353\n",
    "nombre_recovered    16688\n",
    "Name: 264, dtype: int64"
   ]
  },
  {
   "cell_type": "markdown",
   "id": "bec18bcc",
   "metadata": {},
   "source": [
    "nombre_infected       639\n",
    "nombre_sain          2332\n",
    "nombre_exposed        372\n",
    "nombre_recovered    16657\n",
    "Name: 265, dtype: int64"
   ]
  },
  {
   "cell_type": "markdown",
   "id": "69ae9b2b",
   "metadata": {},
   "source": [
    "nombre_infected       655\n",
    "nombre_sain          2315\n",
    "nombre_exposed        385\n",
    "nombre_recovered    16645\n",
    "Name: 266, dtype: int64"
   ]
  },
  {
   "cell_type": "markdown",
   "id": "b8624a68",
   "metadata": {},
   "source": [
    "nombre_infected       642\n",
    "nombre_sain          2316\n",
    "nombre_exposed        397\n",
    "nombre_recovered    16645\n",
    "Name: 267, dtype: int64"
   ]
  },
  {
   "cell_type": "markdown",
   "id": "c0542858",
   "metadata": {},
   "source": [
    "nombre_infected       649\n",
    "nombre_sain          2321\n",
    "nombre_exposed        386\n",
    "nombre_recovered    16644\n",
    "Name: 268, dtype: int64"
   ]
  },
  {
   "cell_type": "markdown",
   "id": "46ab2b5e",
   "metadata": {},
   "source": [
    "nombre_infected       643\n",
    "nombre_sain          2319\n",
    "nombre_exposed        405\n",
    "nombre_recovered    16633\n",
    "Name: 269, dtype: int64"
   ]
  },
  {
   "cell_type": "markdown",
   "id": "402f290a",
   "metadata": {},
   "source": [
    "nombre_infected       668\n",
    "nombre_sain          2337\n",
    "nombre_exposed        384\n",
    "nombre_recovered    16611\n",
    "Name: 270, dtype: int64"
   ]
  },
  {
   "cell_type": "markdown",
   "id": "dec9e487",
   "metadata": {},
   "source": [
    "nombre_infected       651\n",
    "nombre_sain          2305\n",
    "nombre_exposed        419\n",
    "nombre_recovered    16625\n",
    "Name: 271, dtype: int64"
   ]
  },
  {
   "cell_type": "markdown",
   "id": "4bce7937",
   "metadata": {},
   "source": [
    "nombre_infected       659\n",
    "nombre_sain          2321\n",
    "nombre_exposed        406\n",
    "nombre_recovered    16614\n",
    "Name: 272, dtype: int64"
   ]
  },
  {
   "cell_type": "markdown",
   "id": "d23703ff",
   "metadata": {},
   "source": [
    "nombre_infected       674\n",
    "nombre_sain          2353\n",
    "nombre_exposed        401\n",
    "nombre_recovered    16572\n",
    "Name: 273, dtype: int64"
   ]
  },
  {
   "cell_type": "markdown",
   "id": "c5098965",
   "metadata": {},
   "source": [
    "nombre_infected       680\n",
    "nombre_sain          2370\n",
    "nombre_exposed        403\n",
    "nombre_recovered    16547\n",
    "Name: 274, dtype: int64"
   ]
  },
  {
   "cell_type": "markdown",
   "id": "0c9e3d6f",
   "metadata": {},
   "source": [
    "nombre_infected       698\n",
    "nombre_sain          2388\n",
    "nombre_exposed        395\n",
    "nombre_recovered    16519\n",
    "Name: 275, dtype: int64"
   ]
  },
  {
   "cell_type": "markdown",
   "id": "efb20cea",
   "metadata": {},
   "source": [
    "nombre_infected       713\n",
    "nombre_sain          2417\n",
    "nombre_exposed        392\n",
    "nombre_recovered    16478\n",
    "Name: 276, dtype: int64"
   ]
  },
  {
   "cell_type": "markdown",
   "id": "d796294e",
   "metadata": {},
   "source": [
    "nombre_infected       702\n",
    "nombre_sain          2408\n",
    "nombre_exposed        416\n",
    "nombre_recovered    16474\n",
    "Name: 277, dtype: int64"
   ]
  },
  {
   "cell_type": "markdown",
   "id": "6028a586",
   "metadata": {},
   "source": [
    "nombre_infected       699\n",
    "nombre_sain          2414\n",
    "nombre_exposed        418\n",
    "nombre_recovered    16469\n",
    "Name: 278, dtype: int64"
   ]
  },
  {
   "cell_type": "markdown",
   "id": "160d425d",
   "metadata": {},
   "source": [
    "nombre_infected       710\n",
    "nombre_sain          2417\n",
    "nombre_exposed        433\n",
    "nombre_recovered    16440\n",
    "Name: 279, dtype: int64"
   ]
  },
  {
   "cell_type": "markdown",
   "id": "f32281c0",
   "metadata": {},
   "source": [
    "nombre_infected       725\n",
    "nombre_sain          2446\n",
    "nombre_exposed        440\n",
    "nombre_recovered    16389\n",
    "Name: 280, dtype: int64"
   ]
  },
  {
   "cell_type": "markdown",
   "id": "42965cc0",
   "metadata": {},
   "source": [
    "nombre_infected       727\n",
    "nombre_sain          2454\n",
    "nombre_exposed        458\n",
    "nombre_recovered    16361\n",
    "Name: 281, dtype: int64"
   ]
  },
  {
   "cell_type": "markdown",
   "id": "563c3fe4",
   "metadata": {},
   "source": [
    "nombre_infected       724\n",
    "nombre_sain          2490\n",
    "nombre_exposed        454\n",
    "nombre_recovered    16332\n",
    "Name: 282, dtype: int64"
   ]
  },
  {
   "cell_type": "markdown",
   "id": "7ef80185",
   "metadata": {},
   "source": [
    "nombre_infected       737\n",
    "nombre_sain          2502\n",
    "nombre_exposed        462\n",
    "nombre_recovered    16299\n",
    "Name: 283, dtype: int64"
   ]
  },
  {
   "cell_type": "markdown",
   "id": "d8a7c45b",
   "metadata": {},
   "source": [
    "nombre_infected       736\n",
    "nombre_sain          2526\n",
    "nombre_exposed        460\n",
    "nombre_recovered    16278\n",
    "Name: 284, dtype: int64"
   ]
  },
  {
   "cell_type": "markdown",
   "id": "401ac1d4",
   "metadata": {},
   "source": [
    "nombre_infected       764\n",
    "nombre_sain          2547\n",
    "nombre_exposed        449\n",
    "nombre_recovered    16240\n",
    "Name: 285, dtype: int64"
   ]
  },
  {
   "cell_type": "markdown",
   "id": "ccc0771d",
   "metadata": {},
   "source": [
    "nombre_infected       756\n",
    "nombre_sain          2547\n",
    "nombre_exposed        466\n",
    "nombre_recovered    16231\n",
    "Name: 286, dtype: int64"
   ]
  },
  {
   "cell_type": "markdown",
   "id": "d8574ad7",
   "metadata": {},
   "source": [
    "nombre_infected       768\n",
    "nombre_sain          2573\n",
    "nombre_exposed        483\n",
    "nombre_recovered    16176\n",
    "Name: 287, dtype: int64"
   ]
  },
  {
   "cell_type": "markdown",
   "id": "6aad2abc",
   "metadata": {},
   "source": [
    "nombre_infected       775\n",
    "nombre_sain          2575\n",
    "nombre_exposed        489\n",
    "nombre_recovered    16161\n",
    "Name: 288, dtype: int64"
   ]
  },
  {
   "cell_type": "markdown",
   "id": "dd8eed93",
   "metadata": {},
   "source": [
    "nombre_infected       808\n",
    "nombre_sain          2581\n",
    "nombre_exposed        472\n",
    "nombre_recovered    16139\n",
    "Name: 289, dtype: int64"
   ]
  },
  {
   "cell_type": "markdown",
   "id": "7c452c92",
   "metadata": {},
   "source": [
    "nombre_infected       822\n",
    "nombre_sain          2565\n",
    "nombre_exposed        478\n",
    "nombre_recovered    16135\n",
    "Name: 290, dtype: int64"
   ]
  },
  {
   "cell_type": "markdown",
   "id": "9af62c11",
   "metadata": {},
   "source": [
    "nombre_infected       826\n",
    "nombre_sain          2547\n",
    "nombre_exposed        500\n",
    "nombre_recovered    16127\n",
    "Name: 291, dtype: int64"
   ]
  },
  {
   "cell_type": "markdown",
   "id": "258adcb4",
   "metadata": {},
   "source": [
    "nombre_infected       834\n",
    "nombre_sain          2523\n",
    "nombre_exposed        517\n",
    "nombre_recovered    16126\n",
    "Name: 292, dtype: int64"
   ]
  },
  {
   "cell_type": "markdown",
   "id": "7dbb25a5",
   "metadata": {},
   "source": [
    "nombre_infected       844\n",
    "nombre_sain          2512\n",
    "nombre_exposed        523\n",
    "nombre_recovered    16121\n",
    "Name: 293, dtype: int64"
   ]
  },
  {
   "cell_type": "markdown",
   "id": "0edf30e2",
   "metadata": {},
   "source": [
    "nombre_infected       864\n",
    "nombre_sain          2476\n",
    "nombre_exposed        534\n",
    "nombre_recovered    16126\n",
    "Name: 294, dtype: int64"
   ]
  },
  {
   "cell_type": "markdown",
   "id": "5b69fb5f",
   "metadata": {},
   "source": [
    "nombre_infected       862\n",
    "nombre_sain          2462\n",
    "nombre_exposed        564\n",
    "nombre_recovered    16112\n",
    "Name: 295, dtype: int64"
   ]
  },
  {
   "cell_type": "markdown",
   "id": "d05db787",
   "metadata": {},
   "source": [
    "nombre_infected       890\n",
    "nombre_sain          2429\n",
    "nombre_exposed        576\n",
    "nombre_recovered    16105\n",
    "Name: 296, dtype: int64"
   ]
  },
  {
   "cell_type": "markdown",
   "id": "9a7ea25b",
   "metadata": {},
   "source": [
    "nombre_infected       905\n",
    "nombre_sain          2407\n",
    "nombre_exposed        588\n",
    "nombre_recovered    16100\n",
    "Name: 297, dtype: int64"
   ]
  },
  {
   "cell_type": "markdown",
   "id": "90d2c87c",
   "metadata": {},
   "source": [
    "nombre_infected       909\n",
    "nombre_sain          2370\n",
    "nombre_exposed        581\n",
    "nombre_recovered    16140\n",
    "Name: 298, dtype: int64"
   ]
  },
  {
   "cell_type": "markdown",
   "id": "a4de0b1a",
   "metadata": {},
   "source": [
    "nombre_infected       936\n",
    "nombre_sain          2337\n",
    "nombre_exposed        595\n",
    "nombre_recovered    16132\n",
    "Name: 299, dtype: int64"
   ]
  },
  {
   "cell_type": "markdown",
   "id": "69095de5",
   "metadata": {},
   "source": [
    "nombre_infected       973\n",
    "nombre_sain          2332\n",
    "nombre_exposed        584\n",
    "nombre_recovered    16111\n",
    "Name: 300, dtype: int64"
   ]
  },
  {
   "cell_type": "markdown",
   "id": "1b5771cb",
   "metadata": {},
   "source": [
    "nombre_infected      1002\n",
    "nombre_sain          2273\n",
    "nombre_exposed        584\n",
    "nombre_recovered    16141\n",
    "Name: 301, dtype: int64"
   ]
  },
  {
   "cell_type": "markdown",
   "id": "e6911c9d",
   "metadata": {},
   "source": [
    "nombre_infected      1028\n",
    "nombre_sain          2243\n",
    "nombre_exposed        590\n",
    "nombre_recovered    16139\n",
    "Name: 302, dtype: int64"
   ]
  },
  {
   "cell_type": "markdown",
   "id": "8736eed1",
   "metadata": {},
   "source": [
    "nombre_infected      1050\n",
    "nombre_sain          2208\n",
    "nombre_exposed        579\n",
    "nombre_recovered    16163\n",
    "Name: 303, dtype: int64"
   ]
  },
  {
   "cell_type": "markdown",
   "id": "bf2925de",
   "metadata": {},
   "source": [
    "nombre_infected      1070\n",
    "nombre_sain          2168\n",
    "nombre_exposed        577\n",
    "nombre_recovered    16185\n",
    "Name: 304, dtype: int64"
   ]
  },
  {
   "cell_type": "markdown",
   "id": "a74e1aa0",
   "metadata": {},
   "source": [
    "nombre_infected      1091\n",
    "nombre_sain          2137\n",
    "nombre_exposed        577\n",
    "nombre_recovered    16195\n",
    "Name: 305, dtype: int64"
   ]
  },
  {
   "cell_type": "markdown",
   "id": "7eef5cef",
   "metadata": {},
   "source": [
    "nombre_infected      1097\n",
    "nombre_sain          2075\n",
    "nombre_exposed        587\n",
    "nombre_recovered    16241\n",
    "Name: 306, dtype: int64"
   ]
  },
  {
   "cell_type": "markdown",
   "id": "0ff11773",
   "metadata": {},
   "source": [
    "nombre_infected      1102\n",
    "nombre_sain          2011\n",
    "nombre_exposed        607\n",
    "nombre_recovered    16280\n",
    "Name: 307, dtype: int64"
   ]
  },
  {
   "cell_type": "markdown",
   "id": "44a94bc7",
   "metadata": {},
   "source": [
    "nombre_infected      1091\n",
    "nombre_sain          1968\n",
    "nombre_exposed        605\n",
    "nombre_recovered    16336\n",
    "Name: 308, dtype: int64"
   ]
  },
  {
   "cell_type": "markdown",
   "id": "89eca7a0",
   "metadata": {},
   "source": [
    "nombre_infected      1109\n",
    "nombre_sain          1926\n",
    "nombre_exposed        606\n",
    "nombre_recovered    16359\n",
    "Name: 309, dtype: int64"
   ]
  },
  {
   "cell_type": "markdown",
   "id": "9ef72b8c",
   "metadata": {},
   "source": [
    "nombre_infected      1108\n",
    "nombre_sain          1920\n",
    "nombre_exposed        596\n",
    "nombre_recovered    16376\n",
    "Name: 310, dtype: int64"
   ]
  },
  {
   "cell_type": "markdown",
   "id": "5cd99ace",
   "metadata": {},
   "source": [
    "nombre_infected      1130\n",
    "nombre_sain          1896\n",
    "nombre_exposed        593\n",
    "nombre_recovered    16381\n",
    "Name: 311, dtype: int64"
   ]
  },
  {
   "cell_type": "markdown",
   "id": "d2a5919f",
   "metadata": {},
   "source": [
    "nombre_infected      1140\n",
    "nombre_sain          1890\n",
    "nombre_exposed        564\n",
    "nombre_recovered    16406\n",
    "Name: 312, dtype: int64"
   ]
  },
  {
   "cell_type": "markdown",
   "id": "6dbcc416",
   "metadata": {},
   "source": [
    "nombre_infected      1130\n",
    "nombre_sain          1841\n",
    "nombre_exposed        573\n",
    "nombre_recovered    16456\n",
    "Name: 313, dtype: int64"
   ]
  },
  {
   "cell_type": "markdown",
   "id": "8f46a9e4",
   "metadata": {},
   "source": [
    "nombre_infected      1144\n",
    "nombre_sain          1814\n",
    "nombre_exposed        559\n",
    "nombre_recovered    16483\n",
    "Name: 314, dtype: int64"
   ]
  },
  {
   "cell_type": "markdown",
   "id": "e105132f",
   "metadata": {},
   "source": [
    "nombre_infected      1147\n",
    "nombre_sain          1795\n",
    "nombre_exposed        542\n",
    "nombre_recovered    16516\n",
    "Name: 315, dtype: int64"
   ]
  },
  {
   "cell_type": "markdown",
   "id": "8d64a63e",
   "metadata": {},
   "source": [
    "nombre_infected      1131\n",
    "nombre_sain          1787\n",
    "nombre_exposed        530\n",
    "nombre_recovered    16552\n",
    "Name: 316, dtype: int64"
   ]
  },
  {
   "cell_type": "markdown",
   "id": "c65e59c1",
   "metadata": {},
   "source": [
    "nombre_infected      1126\n",
    "nombre_sain          1762\n",
    "nombre_exposed        529\n",
    "nombre_recovered    16583\n",
    "Name: 317, dtype: int64"
   ]
  },
  {
   "cell_type": "markdown",
   "id": "668488f4",
   "metadata": {},
   "source": [
    "nombre_infected      1118\n",
    "nombre_sain          1730\n",
    "nombre_exposed        533\n",
    "nombre_recovered    16619\n",
    "Name: 318, dtype: int64"
   ]
  },
  {
   "cell_type": "markdown",
   "id": "1b527a15",
   "metadata": {},
   "source": [
    "nombre_infected      1069\n",
    "nombre_sain          1713\n",
    "nombre_exposed        560\n",
    "nombre_recovered    16658\n",
    "Name: 319, dtype: int64"
   ]
  },
  {
   "cell_type": "markdown",
   "id": "9cbcf4be",
   "metadata": {},
   "source": [
    "nombre_infected      1056\n",
    "nombre_sain          1690\n",
    "nombre_exposed        559\n",
    "nombre_recovered    16695\n",
    "Name: 320, dtype: int64"
   ]
  },
  {
   "cell_type": "markdown",
   "id": "a8a463af",
   "metadata": {},
   "source": [
    "nombre_infected      1080\n",
    "nombre_sain          1704\n",
    "nombre_exposed        526\n",
    "nombre_recovered    16690\n",
    "Name: 321, dtype: int64"
   ]
  },
  {
   "cell_type": "markdown",
   "id": "7dea4db1",
   "metadata": {},
   "source": [
    "nombre_infected      1103\n",
    "nombre_sain          1686\n",
    "nombre_exposed        501\n",
    "nombre_recovered    16710\n",
    "Name: 322, dtype: int64"
   ]
  },
  {
   "cell_type": "markdown",
   "id": "b3052462",
   "metadata": {},
   "source": [
    "nombre_infected      1119\n",
    "nombre_sain          1682\n",
    "nombre_exposed        495\n",
    "nombre_recovered    16704\n",
    "Name: 323, dtype: int64"
   ]
  },
  {
   "cell_type": "markdown",
   "id": "0b80a5ea",
   "metadata": {},
   "source": [
    "nombre_infected      1077\n",
    "nombre_sain          1661\n",
    "nombre_exposed        510\n",
    "nombre_recovered    16752\n",
    "Name: 324, dtype: int64"
   ]
  },
  {
   "cell_type": "markdown",
   "id": "7c80677d",
   "metadata": {},
   "source": [
    "nombre_infected      1059\n",
    "nombre_sain          1665\n",
    "nombre_exposed        491\n",
    "nombre_recovered    16785\n",
    "Name: 325, dtype: int64"
   ]
  },
  {
   "cell_type": "markdown",
   "id": "01bafa26",
   "metadata": {},
   "source": [
    "nombre_infected      1064\n",
    "nombre_sain          1650\n",
    "nombre_exposed        470\n",
    "nombre_recovered    16816\n",
    "Name: 326, dtype: int64"
   ]
  },
  {
   "cell_type": "markdown",
   "id": "58adec86",
   "metadata": {},
   "source": [
    "nombre_infected      1052\n",
    "nombre_sain          1634\n",
    "nombre_exposed        480\n",
    "nombre_recovered    16834\n",
    "Name: 327, dtype: int64"
   ]
  },
  {
   "cell_type": "markdown",
   "id": "869f7d3a",
   "metadata": {},
   "source": [
    "nombre_infected      1055\n",
    "nombre_sain          1651\n",
    "nombre_exposed        456\n",
    "nombre_recovered    16838\n",
    "Name: 328, dtype: int64"
   ]
  },
  {
   "cell_type": "markdown",
   "id": "985e81ed",
   "metadata": {},
   "source": [
    "nombre_infected      1048\n",
    "nombre_sain          1658\n",
    "nombre_exposed        452\n",
    "nombre_recovered    16842\n",
    "Name: 329, dtype: int64"
   ]
  },
  {
   "cell_type": "markdown",
   "id": "29c08f96",
   "metadata": {},
   "source": [
    "nombre_infected      1042\n",
    "nombre_sain          1637\n",
    "nombre_exposed        464\n",
    "nombre_recovered    16857\n",
    "Name: 330, dtype: int64"
   ]
  },
  {
   "cell_type": "markdown",
   "id": "e851f9db",
   "metadata": {},
   "source": [
    "nombre_infected      1022\n",
    "nombre_sain          1631\n",
    "nombre_exposed        452\n",
    "nombre_recovered    16895\n",
    "Name: 331, dtype: int64"
   ]
  },
  {
   "cell_type": "markdown",
   "id": "2eea902e",
   "metadata": {},
   "source": [
    "nombre_infected       999\n",
    "nombre_sain          1634\n",
    "nombre_exposed        432\n",
    "nombre_recovered    16935\n",
    "Name: 332, dtype: int64"
   ]
  },
  {
   "cell_type": "markdown",
   "id": "166c69e1",
   "metadata": {},
   "source": [
    "nombre_infected       999\n",
    "nombre_sain          1656\n",
    "nombre_exposed        423\n",
    "nombre_recovered    16922\n",
    "Name: 333, dtype: int64"
   ]
  },
  {
   "cell_type": "markdown",
   "id": "2ca1e5ce",
   "metadata": {},
   "source": [
    "nombre_infected       979\n",
    "nombre_sain          1645\n",
    "nombre_exposed        434\n",
    "nombre_recovered    16942\n",
    "Name: 334, dtype: int64"
   ]
  },
  {
   "cell_type": "markdown",
   "id": "aaade7b4",
   "metadata": {},
   "source": [
    "nombre_infected       968\n",
    "nombre_sain          1638\n",
    "nombre_exposed        420\n",
    "nombre_recovered    16974\n",
    "Name: 335, dtype: int64"
   ]
  },
  {
   "cell_type": "markdown",
   "id": "3cc3cdb7",
   "metadata": {},
   "source": [
    "nombre_infected       942\n",
    "nombre_sain          1622\n",
    "nombre_exposed        442\n",
    "nombre_recovered    16994\n",
    "Name: 336, dtype: int64"
   ]
  },
  {
   "cell_type": "markdown",
   "id": "6b794784",
   "metadata": {},
   "source": [
    "nombre_infected       934\n",
    "nombre_sain          1624\n",
    "nombre_exposed        432\n",
    "nombre_recovered    17010\n",
    "Name: 337, dtype: int64"
   ]
  },
  {
   "cell_type": "markdown",
   "id": "c12716d4",
   "metadata": {},
   "source": [
    "nombre_infected       917\n",
    "nombre_sain          1642\n",
    "nombre_exposed        432\n",
    "nombre_recovered    17009\n",
    "Name: 338, dtype: int64"
   ]
  },
  {
   "cell_type": "markdown",
   "id": "4d4d5a48",
   "metadata": {},
   "source": [
    "nombre_infected       898\n",
    "nombre_sain          1661\n",
    "nombre_exposed        441\n",
    "nombre_recovered    17000\n",
    "Name: 339, dtype: int64"
   ]
  },
  {
   "cell_type": "markdown",
   "id": "57d6f3a7",
   "metadata": {},
   "source": [
    "nombre_infected       900\n",
    "nombre_sain          1665\n",
    "nombre_exposed        430\n",
    "nombre_recovered    17005\n",
    "Name: 340, dtype: int64"
   ]
  },
  {
   "cell_type": "markdown",
   "id": "7e56e06c",
   "metadata": {},
   "source": [
    "nombre_infected       890\n",
    "nombre_sain          1683\n",
    "nombre_exposed        415\n",
    "nombre_recovered    17012\n",
    "Name: 341, dtype: int64"
   ]
  },
  {
   "cell_type": "markdown",
   "id": "caea7b50",
   "metadata": {},
   "source": [
    "nombre_infected       879\n",
    "nombre_sain          1678\n",
    "nombre_exposed        416\n",
    "nombre_recovered    17027\n",
    "Name: 342, dtype: int64"
   ]
  },
  {
   "cell_type": "markdown",
   "id": "2a854c9c",
   "metadata": {},
   "source": [
    "nombre_infected       876\n",
    "nombre_sain          1718\n",
    "nombre_exposed        408\n",
    "nombre_recovered    16998\n",
    "Name: 343, dtype: int64"
   ]
  },
  {
   "cell_type": "markdown",
   "id": "450ed90d",
   "metadata": {},
   "source": [
    "nombre_infected       848\n",
    "nombre_sain          1757\n",
    "nombre_exposed        389\n",
    "nombre_recovered    17006\n",
    "Name: 344, dtype: int64"
   ]
  },
  {
   "cell_type": "markdown",
   "id": "ee61c31e",
   "metadata": {},
   "source": [
    "nombre_infected       838\n",
    "nombre_sain          1791\n",
    "nombre_exposed        380\n",
    "nombre_recovered    16991\n",
    "Name: 345, dtype: int64"
   ]
  },
  {
   "cell_type": "markdown",
   "id": "8772d707",
   "metadata": {},
   "source": [
    "nombre_infected       843\n",
    "nombre_sain          1835\n",
    "nombre_exposed        361\n",
    "nombre_recovered    16961\n",
    "Name: 346, dtype: int64"
   ]
  },
  {
   "cell_type": "markdown",
   "id": "4c8f990a",
   "metadata": {},
   "source": [
    "nombre_infected       852\n",
    "nombre_sain          1861\n",
    "nombre_exposed        353\n",
    "nombre_recovered    16934\n",
    "Name: 347, dtype: int64"
   ]
  },
  {
   "cell_type": "markdown",
   "id": "d814f21b",
   "metadata": {},
   "source": [
    "nombre_infected       837\n",
    "nombre_sain          1881\n",
    "nombre_exposed        363\n",
    "nombre_recovered    16919\n",
    "Name: 348, dtype: int64"
   ]
  },
  {
   "cell_type": "markdown",
   "id": "78062c38",
   "metadata": {},
   "source": [
    "nombre_infected       811\n",
    "nombre_sain          1906\n",
    "nombre_exposed        383\n",
    "nombre_recovered    16900\n",
    "Name: 349, dtype: int64"
   ]
  },
  {
   "cell_type": "markdown",
   "id": "a47a9d6e",
   "metadata": {},
   "source": [
    "nombre_infected       779\n",
    "nombre_sain          1928\n",
    "nombre_exposed        381\n",
    "nombre_recovered    16912\n",
    "Name: 350, dtype: int64"
   ]
  },
  {
   "cell_type": "markdown",
   "id": "f635127a",
   "metadata": {},
   "source": [
    "nombre_infected       764\n",
    "nombre_sain          1966\n",
    "nombre_exposed        403\n",
    "nombre_recovered    16867\n",
    "Name: 351, dtype: int64"
   ]
  },
  {
   "cell_type": "markdown",
   "id": "eff5711c",
   "metadata": {},
   "source": [
    "nombre_infected       748\n",
    "nombre_sain          2017\n",
    "nombre_exposed        389\n",
    "nombre_recovered    16846\n",
    "Name: 352, dtype: int64"
   ]
  },
  {
   "cell_type": "markdown",
   "id": "5c2cfaad",
   "metadata": {},
   "source": [
    "nombre_infected       737\n",
    "nombre_sain          2025\n",
    "nombre_exposed        406\n",
    "nombre_recovered    16832\n",
    "Name: 353, dtype: int64"
   ]
  },
  {
   "cell_type": "markdown",
   "id": "98357aa7",
   "metadata": {},
   "source": [
    "nombre_infected       727\n",
    "nombre_sain          2065\n",
    "nombre_exposed        399\n",
    "nombre_recovered    16809\n",
    "Name: 354, dtype: int64"
   ]
  },
  {
   "cell_type": "markdown",
   "id": "b7036bac",
   "metadata": {},
   "source": [
    "nombre_infected       707\n",
    "nombre_sain          2108\n",
    "nombre_exposed        409\n",
    "nombre_recovered    16776\n",
    "Name: 355, dtype: int64"
   ]
  },
  {
   "cell_type": "markdown",
   "id": "123359d8",
   "metadata": {},
   "source": [
    "nombre_infected       728\n",
    "nombre_sain          2160\n",
    "nombre_exposed        387\n",
    "nombre_recovered    16725\n",
    "Name: 356, dtype: int64"
   ]
  },
  {
   "cell_type": "markdown",
   "id": "2d55b61f",
   "metadata": {},
   "source": [
    "nombre_infected       725\n",
    "nombre_sain          2191\n",
    "nombre_exposed        386\n",
    "nombre_recovered    16698\n",
    "Name: 357, dtype: int64"
   ]
  },
  {
   "cell_type": "markdown",
   "id": "966b0a3f",
   "metadata": {},
   "source": [
    "nombre_infected       712\n",
    "nombre_sain          2204\n",
    "nombre_exposed        399\n",
    "nombre_recovered    16685\n",
    "Name: 358, dtype: int64"
   ]
  },
  {
   "cell_type": "markdown",
   "id": "4ca164fc",
   "metadata": {},
   "source": [
    "nombre_infected       708\n",
    "nombre_sain          2234\n",
    "nombre_exposed        400\n",
    "nombre_recovered    16658\n",
    "Name: 359, dtype: int64"
   ]
  },
  {
   "cell_type": "markdown",
   "id": "6ac59a36",
   "metadata": {},
   "source": [
    "nombre_infected       694\n",
    "nombre_sain          2223\n",
    "nombre_exposed        414\n",
    "nombre_recovered    16669\n",
    "Name: 360, dtype: int64"
   ]
  },
  {
   "cell_type": "markdown",
   "id": "4e7e3f9a",
   "metadata": {},
   "source": [
    "nombre_infected       699\n",
    "nombre_sain          2251\n",
    "nombre_exposed        403\n",
    "nombre_recovered    16647\n",
    "Name: 361, dtype: int64"
   ]
  },
  {
   "cell_type": "markdown",
   "id": "8026dfd8",
   "metadata": {},
   "source": [
    "nombre_infected       690\n",
    "nombre_sain          2269\n",
    "nombre_exposed        422\n",
    "nombre_recovered    16619\n",
    "Name: 362, dtype: int64"
   ]
  },
  {
   "cell_type": "markdown",
   "id": "d20f5058",
   "metadata": {},
   "source": [
    "nombre_infected       688\n",
    "nombre_sain          2273\n",
    "nombre_exposed        431\n",
    "nombre_recovered    16608\n",
    "Name: 363, dtype: int64"
   ]
  },
  {
   "cell_type": "markdown",
   "id": "b4ab1d00",
   "metadata": {},
   "source": [
    "nombre_infected       687\n",
    "nombre_sain          2292\n",
    "nombre_exposed        431\n",
    "nombre_recovered    16590\n",
    "Name: 364, dtype: int64"
   ]
  },
  {
   "cell_type": "markdown",
   "id": "f61b8171",
   "metadata": {},
   "source": [
    "nombre_infected       708\n",
    "nombre_sain          2299\n",
    "nombre_exposed        427\n",
    "nombre_recovered    16566\n",
    "Name: 365, dtype: int64"
   ]
  },
  {
   "cell_type": "markdown",
   "id": "44c17de3",
   "metadata": {},
   "source": [
    "nombre_infected       728\n",
    "nombre_sain          2294\n",
    "nombre_exposed        431\n",
    "nombre_recovered    16547\n",
    "Name: 366, dtype: int64"
   ]
  },
  {
   "cell_type": "markdown",
   "id": "cce0a1e9",
   "metadata": {},
   "source": [
    "nombre_infected       724\n",
    "nombre_sain          2287\n",
    "nombre_exposed        445\n",
    "nombre_recovered    16544\n",
    "Name: 367, dtype: int64"
   ]
  },
  {
   "cell_type": "markdown",
   "id": "1fb30712",
   "metadata": {},
   "source": [
    "nombre_infected       705\n",
    "nombre_sain          2340\n",
    "nombre_exposed        452\n",
    "nombre_recovered    16503\n",
    "Name: 368, dtype: int64"
   ]
  },
  {
   "cell_type": "markdown",
   "id": "aa92658a",
   "metadata": {},
   "source": [
    "nombre_infected       698\n",
    "nombre_sain          2373\n",
    "nombre_exposed        430\n",
    "nombre_recovered    16499\n",
    "Name: 369, dtype: int64"
   ]
  },
  {
   "cell_type": "markdown",
   "id": "a82e0815",
   "metadata": {},
   "source": [
    "nombre_infected       725\n",
    "nombre_sain          2370\n",
    "nombre_exposed        437\n",
    "nombre_recovered    16468\n",
    "Name: 370, dtype: int64"
   ]
  },
  {
   "cell_type": "markdown",
   "id": "b6d6a6cc",
   "metadata": {},
   "source": [
    "nombre_infected       718\n",
    "nombre_sain          2388\n",
    "nombre_exposed        434\n",
    "nombre_recovered    16460\n",
    "Name: 371, dtype: int64"
   ]
  },
  {
   "cell_type": "markdown",
   "id": "91a97d12",
   "metadata": {},
   "source": [
    "nombre_infected       731\n",
    "nombre_sain          2377\n",
    "nombre_exposed        453\n",
    "nombre_recovered    16439\n",
    "Name: 372, dtype: int64"
   ]
  },
  {
   "cell_type": "markdown",
   "id": "afa017c3",
   "metadata": {},
   "source": [
    "nombre_infected       722\n",
    "nombre_sain          2373\n",
    "nombre_exposed        487\n",
    "nombre_recovered    16418\n",
    "Name: 373, dtype: int64"
   ]
  },
  {
   "cell_type": "markdown",
   "id": "038800c6",
   "metadata": {},
   "source": [
    "nombre_infected       729\n",
    "nombre_sain          2392\n",
    "nombre_exposed        460\n",
    "nombre_recovered    16419\n",
    "Name: 374, dtype: int64"
   ]
  },
  {
   "cell_type": "markdown",
   "id": "dc8bbac0",
   "metadata": {},
   "source": [
    "nombre_infected       763\n",
    "nombre_sain          2408\n",
    "nombre_exposed        424\n",
    "nombre_recovered    16405\n",
    "Name: 375, dtype: int64"
   ]
  },
  {
   "cell_type": "markdown",
   "id": "4e85f639",
   "metadata": {},
   "source": [
    "nombre_infected       766\n",
    "nombre_sain          2400\n",
    "nombre_exposed        439\n",
    "nombre_recovered    16395\n",
    "Name: 376, dtype: int64"
   ]
  },
  {
   "cell_type": "markdown",
   "id": "df349063",
   "metadata": {},
   "source": [
    "nombre_infected       760\n",
    "nombre_sain          2403\n",
    "nombre_exposed        452\n",
    "nombre_recovered    16385\n",
    "Name: 377, dtype: int64"
   ]
  },
  {
   "cell_type": "markdown",
   "id": "41860d0b",
   "metadata": {},
   "source": [
    "nombre_infected       765\n",
    "nombre_sain          2411\n",
    "nombre_exposed        459\n",
    "nombre_recovered    16365\n",
    "Name: 378, dtype: int64"
   ]
  },
  {
   "cell_type": "markdown",
   "id": "24ac3a65",
   "metadata": {},
   "source": [
    "nombre_infected       786\n",
    "nombre_sain          2425\n",
    "nombre_exposed        443\n",
    "nombre_recovered    16346\n",
    "Name: 379, dtype: int64"
   ]
  },
  {
   "cell_type": "markdown",
   "id": "384e49dc",
   "metadata": {},
   "source": [
    "nombre_infected       771\n",
    "nombre_sain          2432\n",
    "nombre_exposed        463\n",
    "nombre_recovered    16334\n",
    "Name: 380, dtype: int64"
   ]
  },
  {
   "cell_type": "markdown",
   "id": "35cac589",
   "metadata": {},
   "source": [
    "nombre_infected       768\n",
    "nombre_sain          2441\n",
    "nombre_exposed        466\n",
    "nombre_recovered    16325\n",
    "Name: 381, dtype: int64"
   ]
  },
  {
   "cell_type": "markdown",
   "id": "98469a8f",
   "metadata": {},
   "source": [
    "nombre_infected       763\n",
    "nombre_sain          2429\n",
    "nombre_exposed        480\n",
    "nombre_recovered    16328\n",
    "Name: 382, dtype: int64"
   ]
  },
  {
   "cell_type": "markdown",
   "id": "a2b25ac0",
   "metadata": {},
   "source": [
    "nombre_infected       746\n",
    "nombre_sain          2439\n",
    "nombre_exposed        496\n",
    "nombre_recovered    16319\n",
    "Name: 383, dtype: int64"
   ]
  },
  {
   "cell_type": "markdown",
   "id": "4e165949",
   "metadata": {},
   "source": [
    "nombre_infected       765\n",
    "nombre_sain          2434\n",
    "nombre_exposed        483\n",
    "nombre_recovered    16318\n",
    "Name: 384, dtype: int64"
   ]
  },
  {
   "cell_type": "markdown",
   "id": "86a23a79",
   "metadata": {},
   "source": [
    "nombre_infected       782\n",
    "nombre_sain          2419\n",
    "nombre_exposed        490\n",
    "nombre_recovered    16309\n",
    "Name: 385, dtype: int64"
   ]
  },
  {
   "cell_type": "markdown",
   "id": "dcfbcfc2",
   "metadata": {},
   "source": [
    "nombre_infected       778\n",
    "nombre_sain          2431\n",
    "nombre_exposed        495\n",
    "nombre_recovered    16296\n",
    "Name: 386, dtype: int64"
   ]
  },
  {
   "cell_type": "markdown",
   "id": "7e6a24b6",
   "metadata": {},
   "source": [
    "nombre_infected       791\n",
    "nombre_sain          2470\n",
    "nombre_exposed        479\n",
    "nombre_recovered    16260\n",
    "Name: 387, dtype: int64"
   ]
  },
  {
   "cell_type": "markdown",
   "id": "663a061d",
   "metadata": {},
   "source": [
    "nombre_infected       788\n",
    "nombre_sain          2498\n",
    "nombre_exposed        471\n",
    "nombre_recovered    16243\n",
    "Name: 388, dtype: int64"
   ]
  },
  {
   "cell_type": "markdown",
   "id": "3c9e0cbd",
   "metadata": {},
   "source": [
    "nombre_infected       811\n",
    "nombre_sain          2498\n",
    "nombre_exposed        462\n",
    "nombre_recovered    16229\n",
    "Name: 389, dtype: int64"
   ]
  },
  {
   "cell_type": "markdown",
   "id": "b0e1768a",
   "metadata": {},
   "source": [
    "nombre_infected       832\n",
    "nombre_sain          2509\n",
    "nombre_exposed        470\n",
    "nombre_recovered    16189\n",
    "Name: 390, dtype: int64"
   ]
  },
  {
   "cell_type": "markdown",
   "id": "b51744cd",
   "metadata": {},
   "source": [
    "nombre_infected       844\n",
    "nombre_sain          2481\n",
    "nombre_exposed        506\n",
    "nombre_recovered    16169\n",
    "Name: 391, dtype: int64"
   ]
  },
  {
   "cell_type": "markdown",
   "id": "c4e4e1bb",
   "metadata": {},
   "source": [
    "nombre_infected       833\n",
    "nombre_sain          2484\n",
    "nombre_exposed        549\n",
    "nombre_recovered    16134\n",
    "Name: 392, dtype: int64"
   ]
  },
  {
   "cell_type": "markdown",
   "id": "28d06a57",
   "metadata": {},
   "source": [
    "nombre_infected       858\n",
    "nombre_sain          2461\n",
    "nombre_exposed        561\n",
    "nombre_recovered    16120\n",
    "Name: 393, dtype: int64"
   ]
  },
  {
   "cell_type": "markdown",
   "id": "5f868a10",
   "metadata": {},
   "source": [
    "nombre_infected       860\n",
    "nombre_sain          2447\n",
    "nombre_exposed        580\n",
    "nombre_recovered    16113\n",
    "Name: 394, dtype: int64"
   ]
  },
  {
   "cell_type": "markdown",
   "id": "9716f7da",
   "metadata": {},
   "source": [
    "nombre_infected       894\n",
    "nombre_sain          2470\n",
    "nombre_exposed        528\n",
    "nombre_recovered    16108\n",
    "Name: 395, dtype: int64"
   ]
  },
  {
   "cell_type": "markdown",
   "id": "a3917e84",
   "metadata": {},
   "source": [
    "nombre_infected       900\n",
    "nombre_sain          2455\n",
    "nombre_exposed        564\n",
    "nombre_recovered    16081\n",
    "Name: 396, dtype: int64"
   ]
  },
  {
   "cell_type": "markdown",
   "id": "eb171269",
   "metadata": {},
   "source": [
    "nombre_infected       925\n",
    "nombre_sain          2410\n",
    "nombre_exposed        562\n",
    "nombre_recovered    16103\n",
    "Name: 397, dtype: int64"
   ]
  },
  {
   "cell_type": "markdown",
   "id": "c9080289",
   "metadata": {},
   "source": [
    "nombre_infected       926\n",
    "nombre_sain          2430\n",
    "nombre_exposed        548\n",
    "nombre_recovered    16096\n",
    "Name: 398, dtype: int64"
   ]
  },
  {
   "cell_type": "markdown",
   "id": "84465cff",
   "metadata": {},
   "source": [
    "nombre_infected       937\n",
    "nombre_sain          2437\n",
    "nombre_exposed        548\n",
    "nombre_recovered    16078\n",
    "Name: 399, dtype: int64"
   ]
  },
  {
   "cell_type": "markdown",
   "id": "cad134f5",
   "metadata": {},
   "source": [
    "nombre_infected       933\n",
    "nombre_sain          2439\n",
    "nombre_exposed        554\n",
    "nombre_recovered    16074\n",
    "Name: 400, dtype: int64"
   ]
  },
  {
   "cell_type": "markdown",
   "id": "282e3394",
   "metadata": {},
   "source": [
    "nombre_infected       940\n",
    "nombre_sain          2400\n",
    "nombre_exposed        575\n",
    "nombre_recovered    16085\n",
    "Name: 401, dtype: int64"
   ]
  },
  {
   "cell_type": "markdown",
   "id": "33dd4867",
   "metadata": {},
   "source": [
    "nombre_infected       975\n",
    "nombre_sain          2402\n",
    "nombre_exposed        571\n",
    "nombre_recovered    16052\n",
    "Name: 402, dtype: int64"
   ]
  },
  {
   "cell_type": "markdown",
   "id": "343f5536",
   "metadata": {},
   "source": [
    "nombre_infected       988\n",
    "nombre_sain          2360\n",
    "nombre_exposed        580\n",
    "nombre_recovered    16072\n",
    "Name: 403, dtype: int64"
   ]
  },
  {
   "cell_type": "markdown",
   "id": "a37a1a01",
   "metadata": {},
   "source": [
    "nombre_infected       976\n",
    "nombre_sain          2322\n",
    "nombre_exposed        625\n",
    "nombre_recovered    16077\n",
    "Name: 404, dtype: int64"
   ]
  },
  {
   "cell_type": "markdown",
   "id": "45e49a83",
   "metadata": {},
   "source": [
    "nombre_infected       988\n",
    "nombre_sain          2291\n",
    "nombre_exposed        615\n",
    "nombre_recovered    16106\n",
    "Name: 405, dtype: int64"
   ]
  },
  {
   "cell_type": "markdown",
   "id": "ec5ef67e",
   "metadata": {},
   "source": [
    "nombre_infected      1013\n",
    "nombre_sain          2273\n",
    "nombre_exposed        630\n",
    "nombre_recovered    16084\n",
    "Name: 406, dtype: int64"
   ]
  },
  {
   "cell_type": "markdown",
   "id": "7d4fc73a",
   "metadata": {},
   "source": [
    "nombre_infected      1049\n",
    "nombre_sain          2246\n",
    "nombre_exposed        630\n",
    "nombre_recovered    16075\n",
    "Name: 407, dtype: int64"
   ]
  },
  {
   "cell_type": "markdown",
   "id": "abf53975",
   "metadata": {},
   "source": [
    "nombre_infected      1037\n",
    "nombre_sain          2233\n",
    "nombre_exposed        629\n",
    "nombre_recovered    16101\n",
    "Name: 408, dtype: int64"
   ]
  },
  {
   "cell_type": "markdown",
   "id": "d67a83a3",
   "metadata": {},
   "source": [
    "nombre_infected      1055\n",
    "nombre_sain          2222\n",
    "nombre_exposed        612\n",
    "nombre_recovered    16111\n",
    "Name: 409, dtype: int64"
   ]
  },
  {
   "cell_type": "markdown",
   "id": "701fea71",
   "metadata": {},
   "source": [
    "nombre_infected      1060\n",
    "nombre_sain          2223\n",
    "nombre_exposed        593\n",
    "nombre_recovered    16124\n",
    "Name: 410, dtype: int64"
   ]
  },
  {
   "cell_type": "markdown",
   "id": "2762236a",
   "metadata": {},
   "source": [
    "nombre_infected      1065\n",
    "nombre_sain          2205\n",
    "nombre_exposed        588\n",
    "nombre_recovered    16142\n",
    "Name: 411, dtype: int64"
   ]
  },
  {
   "cell_type": "markdown",
   "id": "0218eafc",
   "metadata": {},
   "source": [
    "nombre_infected      1101\n",
    "nombre_sain          2211\n",
    "nombre_exposed        572\n",
    "nombre_recovered    16116\n",
    "Name: 412, dtype: int64"
   ]
  },
  {
   "cell_type": "markdown",
   "id": "059576ab",
   "metadata": {},
   "source": [
    "nombre_infected      1090\n",
    "nombre_sain          2175\n",
    "nombre_exposed        607\n",
    "nombre_recovered    16128\n",
    "Name: 413, dtype: int64"
   ]
  },
  {
   "cell_type": "markdown",
   "id": "c6dc2ce3",
   "metadata": {},
   "source": [
    "nombre_infected      1080\n",
    "nombre_sain          2133\n",
    "nombre_exposed        645\n",
    "nombre_recovered    16142\n",
    "Name: 414, dtype: int64"
   ]
  },
  {
   "cell_type": "markdown",
   "id": "92295a8b",
   "metadata": {},
   "source": [
    "nombre_infected      1074\n",
    "nombre_sain          2108\n",
    "nombre_exposed        649\n",
    "nombre_recovered    16169\n",
    "Name: 415, dtype: int64"
   ]
  },
  {
   "cell_type": "markdown",
   "id": "16fcdfa4",
   "metadata": {},
   "source": [
    "nombre_infected      1084\n",
    "nombre_sain          2075\n",
    "nombre_exposed        641\n",
    "nombre_recovered    16200\n",
    "Name: 416, dtype: int64"
   ]
  },
  {
   "cell_type": "markdown",
   "id": "7166b1a8",
   "metadata": {},
   "source": [
    "nombre_infected      1099\n",
    "nombre_sain          2082\n",
    "nombre_exposed        623\n",
    "nombre_recovered    16196\n",
    "Name: 417, dtype: int64"
   ]
  },
  {
   "cell_type": "markdown",
   "id": "4c5fbc6b",
   "metadata": {},
   "source": [
    "nombre_infected      1107\n",
    "nombre_sain          2053\n",
    "nombre_exposed        609\n",
    "nombre_recovered    16231\n",
    "Name: 418, dtype: int64"
   ]
  },
  {
   "cell_type": "markdown",
   "id": "362ddd85",
   "metadata": {},
   "source": [
    "nombre_infected      1096\n",
    "nombre_sain          2017\n",
    "nombre_exposed        614\n",
    "nombre_recovered    16273\n",
    "Name: 419, dtype: int64"
   ]
  },
  {
   "cell_type": "markdown",
   "id": "c929b918",
   "metadata": {},
   "source": [
    "nombre_infected      1118\n",
    "nombre_sain          1989\n",
    "nombre_exposed        599\n",
    "nombre_recovered    16294\n",
    "Name: 420, dtype: int64"
   ]
  },
  {
   "cell_type": "markdown",
   "id": "966ebc1f",
   "metadata": {},
   "source": [
    "nombre_infected      1119\n",
    "nombre_sain          1944\n",
    "nombre_exposed        618\n",
    "nombre_recovered    16319\n",
    "Name: 421, dtype: int64"
   ]
  },
  {
   "cell_type": "markdown",
   "id": "81ffdb9b",
   "metadata": {},
   "source": [
    "nombre_infected      1113\n",
    "nombre_sain          1940\n",
    "nombre_exposed        609\n",
    "nombre_recovered    16338\n",
    "Name: 422, dtype: int64"
   ]
  },
  {
   "cell_type": "markdown",
   "id": "5ec7d2d7",
   "metadata": {},
   "source": [
    "nombre_infected      1136\n",
    "nombre_sain          1904\n",
    "nombre_exposed        584\n",
    "nombre_recovered    16376\n",
    "Name: 423, dtype: int64"
   ]
  },
  {
   "cell_type": "markdown",
   "id": "7045ae5f",
   "metadata": {},
   "source": [
    "nombre_infected      1123\n",
    "nombre_sain          1870\n",
    "nombre_exposed        582\n",
    "nombre_recovered    16425\n",
    "Name: 424, dtype: int64"
   ]
  },
  {
   "cell_type": "markdown",
   "id": "bca40b6b",
   "metadata": {},
   "source": [
    "nombre_infected      1117\n",
    "nombre_sain          1852\n",
    "nombre_exposed        567\n",
    "nombre_recovered    16464\n",
    "Name: 425, dtype: int64"
   ]
  },
  {
   "cell_type": "markdown",
   "id": "c211d2fe",
   "metadata": {},
   "source": [
    "nombre_infected      1104\n",
    "nombre_sain          1831\n",
    "nombre_exposed        555\n",
    "nombre_recovered    16510\n",
    "Name: 426, dtype: int64"
   ]
  },
  {
   "cell_type": "markdown",
   "id": "92225c4f",
   "metadata": {},
   "source": [
    "nombre_infected      1078\n",
    "nombre_sain          1854\n",
    "nombre_exposed        550\n",
    "nombre_recovered    16518\n",
    "Name: 427, dtype: int64"
   ]
  },
  {
   "cell_type": "markdown",
   "id": "b68bada1",
   "metadata": {},
   "source": [
    "nombre_infected      1024\n",
    "nombre_sain          1834\n",
    "nombre_exposed        549\n",
    "nombre_recovered    16593\n",
    "Name: 428, dtype: int64"
   ]
  },
  {
   "cell_type": "markdown",
   "id": "80981da1",
   "metadata": {},
   "source": [
    "nombre_infected      1018\n",
    "nombre_sain          1831\n",
    "nombre_exposed        514\n",
    "nombre_recovered    16637\n",
    "Name: 429, dtype: int64"
   ]
  },
  {
   "cell_type": "markdown",
   "id": "9fd1ea40",
   "metadata": {},
   "source": [
    "nombre_infected      1020\n",
    "nombre_sain          1811\n",
    "nombre_exposed        494\n",
    "nombre_recovered    16675\n",
    "Name: 430, dtype: int64"
   ]
  },
  {
   "cell_type": "markdown",
   "id": "5e73da97",
   "metadata": {},
   "source": [
    "nombre_infected       993\n",
    "nombre_sain          1809\n",
    "nombre_exposed        498\n",
    "nombre_recovered    16700\n",
    "Name: 431, dtype: int64"
   ]
  },
  {
   "cell_type": "markdown",
   "id": "0455c16c",
   "metadata": {},
   "source": [
    "nombre_infected       961\n",
    "nombre_sain          1812\n",
    "nombre_exposed        488\n",
    "nombre_recovered    16739\n",
    "Name: 432, dtype: int64"
   ]
  },
  {
   "cell_type": "markdown",
   "id": "805e2615",
   "metadata": {},
   "source": [
    "nombre_infected       923\n",
    "nombre_sain          1821\n",
    "nombre_exposed        460\n",
    "nombre_recovered    16796\n",
    "Name: 433, dtype: int64"
   ]
  },
  {
   "cell_type": "markdown",
   "id": "2e109a6f",
   "metadata": {},
   "source": [
    "nombre_infected       910\n",
    "nombre_sain          1837\n",
    "nombre_exposed        442\n",
    "nombre_recovered    16811\n",
    "Name: 434, dtype: int64"
   ]
  },
  {
   "cell_type": "markdown",
   "id": "44cf6216",
   "metadata": {},
   "source": [
    "nombre_infected       887\n",
    "nombre_sain          1825\n",
    "nombre_exposed        456\n",
    "nombre_recovered    16832\n",
    "Name: 435, dtype: int64"
   ]
  },
  {
   "cell_type": "markdown",
   "id": "4c1556dd",
   "metadata": {},
   "source": [
    "nombre_infected       870\n",
    "nombre_sain          1841\n",
    "nombre_exposed        463\n",
    "nombre_recovered    16826\n",
    "Name: 436, dtype: int64"
   ]
  },
  {
   "cell_type": "markdown",
   "id": "c5ddcd7c",
   "metadata": {},
   "source": [
    "nombre_infected       858\n",
    "nombre_sain          1888\n",
    "nombre_exposed        429\n",
    "nombre_recovered    16825\n",
    "Name: 437, dtype: int64"
   ]
  },
  {
   "cell_type": "markdown",
   "id": "91f75d1a",
   "metadata": {},
   "source": [
    "nombre_infected       841\n",
    "nombre_sain          1909\n",
    "nombre_exposed        421\n",
    "nombre_recovered    16829\n",
    "Name: 438, dtype: int64"
   ]
  },
  {
   "cell_type": "markdown",
   "id": "500d57d9",
   "metadata": {},
   "source": [
    "nombre_infected       822\n",
    "nombre_sain          1913\n",
    "nombre_exposed        424\n",
    "nombre_recovered    16841\n",
    "Name: 439, dtype: int64"
   ]
  },
  {
   "cell_type": "markdown",
   "id": "c5966111",
   "metadata": {},
   "source": [
    "nombre_infected       801\n",
    "nombre_sain          1972\n",
    "nombre_exposed        400\n",
    "nombre_recovered    16827\n",
    "Name: 440, dtype: int64"
   ]
  },
  {
   "cell_type": "markdown",
   "id": "4f8b212a",
   "metadata": {},
   "source": [
    "nombre_infected       776\n",
    "nombre_sain          1979\n",
    "nombre_exposed        408\n",
    "nombre_recovered    16837\n",
    "Name: 441, dtype: int64"
   ]
  },
  {
   "cell_type": "markdown",
   "id": "6f85b12a",
   "metadata": {},
   "source": [
    "nombre_infected       761\n",
    "nombre_sain          1991\n",
    "nombre_exposed        413\n",
    "nombre_recovered    16835\n",
    "Name: 442, dtype: int64"
   ]
  },
  {
   "cell_type": "markdown",
   "id": "7914f24f",
   "metadata": {},
   "source": [
    "nombre_infected       763\n",
    "nombre_sain          2019\n",
    "nombre_exposed        401\n",
    "nombre_recovered    16817\n",
    "Name: 443, dtype: int64"
   ]
  },
  {
   "cell_type": "markdown",
   "id": "9619a303",
   "metadata": {},
   "source": [
    "nombre_infected       764\n",
    "nombre_sain          2043\n",
    "nombre_exposed        383\n",
    "nombre_recovered    16810\n",
    "Name: 444, dtype: int64"
   ]
  },
  {
   "cell_type": "markdown",
   "id": "061f49b8",
   "metadata": {},
   "source": [
    "nombre_infected       755\n",
    "nombre_sain          2077\n",
    "nombre_exposed        372\n",
    "nombre_recovered    16796\n",
    "Name: 445, dtype: int64"
   ]
  },
  {
   "cell_type": "markdown",
   "id": "52afc1d1",
   "metadata": {},
   "source": [
    "nombre_infected       732\n",
    "nombre_sain          2106\n",
    "nombre_exposed        377\n",
    "nombre_recovered    16785\n",
    "Name: 446, dtype: int64"
   ]
  },
  {
   "cell_type": "markdown",
   "id": "86824130",
   "metadata": {},
   "source": [
    "nombre_infected       691\n",
    "nombre_sain          2148\n",
    "nombre_exposed        366\n",
    "nombre_recovered    16795\n",
    "Name: 447, dtype: int64"
   ]
  },
  {
   "cell_type": "markdown",
   "id": "82c3543e",
   "metadata": {},
   "source": [
    "nombre_infected       687\n",
    "nombre_sain          2165\n",
    "nombre_exposed        371\n",
    "nombre_recovered    16777\n",
    "Name: 448, dtype: int64"
   ]
  },
  {
   "cell_type": "markdown",
   "id": "4c324322",
   "metadata": {},
   "source": [
    "nombre_infected       674\n",
    "nombre_sain          2194\n",
    "nombre_exposed        379\n",
    "nombre_recovered    16753\n",
    "Name: 449, dtype: int64"
   ]
  },
  {
   "cell_type": "markdown",
   "id": "3a6a7444",
   "metadata": {},
   "source": [
    "nombre_infected       664\n",
    "nombre_sain          2243\n",
    "nombre_exposed        389\n",
    "nombre_recovered    16704\n",
    "Name: 450, dtype: int64"
   ]
  },
  {
   "cell_type": "markdown",
   "id": "be8cd1be",
   "metadata": {},
   "source": [
    "nombre_infected       659\n",
    "nombre_sain          2259\n",
    "nombre_exposed        391\n",
    "nombre_recovered    16691\n",
    "Name: 451, dtype: int64"
   ]
  },
  {
   "cell_type": "markdown",
   "id": "83805562",
   "metadata": {},
   "source": [
    "nombre_infected       665\n",
    "nombre_sain          2305\n",
    "nombre_exposed        386\n",
    "nombre_recovered    16644\n",
    "Name: 452, dtype: int64"
   ]
  },
  {
   "cell_type": "markdown",
   "id": "bc7af2c6",
   "metadata": {},
   "source": [
    "nombre_infected       651\n",
    "nombre_sain          2349\n",
    "nombre_exposed        395\n",
    "nombre_recovered    16605\n",
    "Name: 453, dtype: int64"
   ]
  },
  {
   "cell_type": "markdown",
   "id": "916e1f5a",
   "metadata": {},
   "source": [
    "nombre_infected       658\n",
    "nombre_sain          2376\n",
    "nombre_exposed        387\n",
    "nombre_recovered    16579\n",
    "Name: 454, dtype: int64"
   ]
  },
  {
   "cell_type": "markdown",
   "id": "cfa815c7",
   "metadata": {},
   "source": [
    "nombre_infected       669\n",
    "nombre_sain          2417\n",
    "nombre_exposed        390\n",
    "nombre_recovered    16524\n",
    "Name: 455, dtype: int64"
   ]
  },
  {
   "cell_type": "markdown",
   "id": "c527cfad",
   "metadata": {},
   "source": [
    "nombre_infected       683\n",
    "nombre_sain          2433\n",
    "nombre_exposed        415\n",
    "nombre_recovered    16469\n",
    "Name: 456, dtype: int64"
   ]
  },
  {
   "cell_type": "markdown",
   "id": "e9062a2e",
   "metadata": {},
   "source": [
    "nombre_infected       684\n",
    "nombre_sain          2448\n",
    "nombre_exposed        419\n",
    "nombre_recovered    16449\n",
    "Name: 457, dtype: int64"
   ]
  },
  {
   "cell_type": "markdown",
   "id": "a1c6c585",
   "metadata": {},
   "source": [
    "nombre_infected       660\n",
    "nombre_sain          2451\n",
    "nombre_exposed        437\n",
    "nombre_recovered    16452\n",
    "Name: 458, dtype: int64"
   ]
  },
  {
   "cell_type": "markdown",
   "id": "839495e0",
   "metadata": {},
   "source": [
    "nombre_infected       660\n",
    "nombre_sain          2483\n",
    "nombre_exposed        419\n",
    "nombre_recovered    16438\n",
    "Name: 459, dtype: int64"
   ]
  },
  {
   "cell_type": "markdown",
   "id": "5e4dad2c",
   "metadata": {},
   "source": [
    "nombre_infected       670\n",
    "nombre_sain          2516\n",
    "nombre_exposed        399\n",
    "nombre_recovered    16415\n",
    "Name: 460, dtype: int64"
   ]
  },
  {
   "cell_type": "markdown",
   "id": "042f8297",
   "metadata": {},
   "source": [
    "nombre_infected       688\n",
    "nombre_sain          2514\n",
    "nombre_exposed        418\n",
    "nombre_recovered    16380\n",
    "Name: 461, dtype: int64"
   ]
  },
  {
   "cell_type": "markdown",
   "id": "b3f89283",
   "metadata": {},
   "source": [
    "nombre_infected       676\n",
    "nombre_sain          2527\n",
    "nombre_exposed        415\n",
    "nombre_recovered    16382\n",
    "Name: 462, dtype: int64"
   ]
  },
  {
   "cell_type": "markdown",
   "id": "e1327e55",
   "metadata": {},
   "source": [
    "nombre_infected       708\n",
    "nombre_sain          2537\n",
    "nombre_exposed        409\n",
    "nombre_recovered    16346\n",
    "Name: 463, dtype: int64"
   ]
  },
  {
   "cell_type": "markdown",
   "id": "f5963cc6",
   "metadata": {},
   "source": [
    "nombre_infected       710\n",
    "nombre_sain          2535\n",
    "nombre_exposed        422\n",
    "nombre_recovered    16333\n",
    "Name: 464, dtype: int64"
   ]
  },
  {
   "cell_type": "markdown",
   "id": "ff0e454a",
   "metadata": {},
   "source": [
    "nombre_infected       677\n",
    "nombre_sain          2528\n",
    "nombre_exposed        468\n",
    "nombre_recovered    16327\n",
    "Name: 465, dtype: int64"
   ]
  },
  {
   "cell_type": "markdown",
   "id": "be0b44c3",
   "metadata": {},
   "source": [
    "nombre_infected       681\n",
    "nombre_sain          2547\n",
    "nombre_exposed        465\n",
    "nombre_recovered    16307\n",
    "Name: 466, dtype: int64"
   ]
  },
  {
   "cell_type": "markdown",
   "id": "7a60dd5f",
   "metadata": {},
   "source": [
    "nombre_infected       706\n",
    "nombre_sain          2553\n",
    "nombre_exposed        471\n",
    "nombre_recovered    16270\n",
    "Name: 467, dtype: int64"
   ]
  },
  {
   "cell_type": "markdown",
   "id": "2f85d6b4",
   "metadata": {},
   "source": [
    "nombre_infected       710\n",
    "nombre_sain          2585\n",
    "nombre_exposed        471\n",
    "nombre_recovered    16234\n",
    "Name: 468, dtype: int64"
   ]
  },
  {
   "cell_type": "markdown",
   "id": "d9b5c81d",
   "metadata": {},
   "source": [
    "nombre_infected       726\n",
    "nombre_sain          2621\n",
    "nombre_exposed        450\n",
    "nombre_recovered    16203\n",
    "Name: 469, dtype: int64"
   ]
  },
  {
   "cell_type": "markdown",
   "id": "56114f93",
   "metadata": {},
   "source": [
    "nombre_infected       737\n",
    "nombre_sain          2643\n",
    "nombre_exposed        445\n",
    "nombre_recovered    16175\n",
    "Name: 470, dtype: int64"
   ]
  },
  {
   "cell_type": "markdown",
   "id": "f221bc35",
   "metadata": {},
   "source": [
    "nombre_infected       751\n",
    "nombre_sain          2642\n",
    "nombre_exposed        452\n",
    "nombre_recovered    16155\n",
    "Name: 471, dtype: int64"
   ]
  },
  {
   "cell_type": "markdown",
   "id": "978adfc0",
   "metadata": {},
   "source": [
    "nombre_infected       740\n",
    "nombre_sain          2646\n",
    "nombre_exposed        476\n",
    "nombre_recovered    16138\n",
    "Name: 472, dtype: int64"
   ]
  },
  {
   "cell_type": "markdown",
   "id": "19a9fd60",
   "metadata": {},
   "source": [
    "nombre_infected       737\n",
    "nombre_sain          2651\n",
    "nombre_exposed        477\n",
    "nombre_recovered    16135\n",
    "Name: 473, dtype: int64"
   ]
  },
  {
   "cell_type": "markdown",
   "id": "ad775837",
   "metadata": {},
   "source": [
    "nombre_infected       749\n",
    "nombre_sain          2652\n",
    "nombre_exposed        460\n",
    "nombre_recovered    16139\n",
    "Name: 474, dtype: int64"
   ]
  },
  {
   "cell_type": "markdown",
   "id": "08647a3c",
   "metadata": {},
   "source": [
    "nombre_infected       748\n",
    "nombre_sain          2636\n",
    "nombre_exposed        479\n",
    "nombre_recovered    16137\n",
    "Name: 475, dtype: int64"
   ]
  },
  {
   "cell_type": "markdown",
   "id": "8164c29c",
   "metadata": {},
   "source": [
    "nombre_infected       725\n",
    "nombre_sain          2597\n",
    "nombre_exposed        524\n",
    "nombre_recovered    16154\n",
    "Name: 476, dtype: int64"
   ]
  },
  {
   "cell_type": "markdown",
   "id": "1622b434",
   "metadata": {},
   "source": [
    "nombre_infected       750\n",
    "nombre_sain          2582\n",
    "nombre_exposed        521\n",
    "nombre_recovered    16147\n",
    "Name: 477, dtype: int64"
   ]
  },
  {
   "cell_type": "markdown",
   "id": "45bec0c8",
   "metadata": {},
   "source": [
    "nombre_infected       761\n",
    "nombre_sain          2568\n",
    "nombre_exposed        514\n",
    "nombre_recovered    16157\n",
    "Name: 478, dtype: int64"
   ]
  },
  {
   "cell_type": "markdown",
   "id": "e4c357b7",
   "metadata": {},
   "source": [
    "nombre_infected       788\n",
    "nombre_sain          2557\n",
    "nombre_exposed        503\n",
    "nombre_recovered    16152\n",
    "Name: 479, dtype: int64"
   ]
  },
  {
   "cell_type": "markdown",
   "id": "fd119ff3",
   "metadata": {},
   "source": [
    "nombre_infected       806\n",
    "nombre_sain          2495\n",
    "nombre_exposed        532\n",
    "nombre_recovered    16167\n",
    "Name: 480, dtype: int64"
   ]
  },
  {
   "cell_type": "markdown",
   "id": "7bdafec3",
   "metadata": {},
   "source": [
    "nombre_infected       813\n",
    "nombre_sain          2472\n",
    "nombre_exposed        536\n",
    "nombre_recovered    16179\n",
    "Name: 481, dtype: int64"
   ]
  },
  {
   "cell_type": "markdown",
   "id": "265124cb",
   "metadata": {},
   "source": [
    "nombre_infected       830\n",
    "nombre_sain          2477\n",
    "nombre_exposed        536\n",
    "nombre_recovered    16157\n",
    "Name: 482, dtype: int64"
   ]
  },
  {
   "cell_type": "markdown",
   "id": "bd602184",
   "metadata": {},
   "source": [
    "nombre_infected       862\n",
    "nombre_sain          2439\n",
    "nombre_exposed        508\n",
    "nombre_recovered    16191\n",
    "Name: 483, dtype: int64"
   ]
  },
  {
   "cell_type": "markdown",
   "id": "3f1db785",
   "metadata": {},
   "source": [
    "nombre_infected       885\n",
    "nombre_sain          2420\n",
    "nombre_exposed        511\n",
    "nombre_recovered    16184\n",
    "Name: 484, dtype: int64"
   ]
  },
  {
   "cell_type": "markdown",
   "id": "60c8d205",
   "metadata": {},
   "source": [
    "nombre_infected       914\n",
    "nombre_sain          2406\n",
    "nombre_exposed        510\n",
    "nombre_recovered    16170\n",
    "Name: 485, dtype: int64"
   ]
  },
  {
   "cell_type": "markdown",
   "id": "d8a28b22",
   "metadata": {},
   "source": [
    "nombre_infected       912\n",
    "nombre_sain          2375\n",
    "nombre_exposed        530\n",
    "nombre_recovered    16183\n",
    "Name: 486, dtype: int64"
   ]
  },
  {
   "cell_type": "markdown",
   "id": "0ed1b94c",
   "metadata": {},
   "source": [
    "nombre_infected       933\n",
    "nombre_sain          2353\n",
    "nombre_exposed        530\n",
    "nombre_recovered    16184\n",
    "Name: 487, dtype: int64"
   ]
  },
  {
   "cell_type": "markdown",
   "id": "ccfeec1a",
   "metadata": {},
   "source": [
    "nombre_infected       938\n",
    "nombre_sain          2313\n",
    "nombre_exposed        545\n",
    "nombre_recovered    16204\n",
    "Name: 488, dtype: int64"
   ]
  },
  {
   "cell_type": "markdown",
   "id": "046ec2b0",
   "metadata": {},
   "source": [
    "nombre_infected       954\n",
    "nombre_sain          2273\n",
    "nombre_exposed        546\n",
    "nombre_recovered    16227\n",
    "Name: 489, dtype: int64"
   ]
  },
  {
   "cell_type": "markdown",
   "id": "1bc1e9c6",
   "metadata": {},
   "source": [
    "nombre_infected       953\n",
    "nombre_sain          2250\n",
    "nombre_exposed        547\n",
    "nombre_recovered    16250\n",
    "Name: 490, dtype: int64"
   ]
  },
  {
   "cell_type": "markdown",
   "id": "e2d38efa",
   "metadata": {},
   "source": [
    "nombre_infected       965\n",
    "nombre_sain          2212\n",
    "nombre_exposed        536\n",
    "nombre_recovered    16287\n",
    "Name: 491, dtype: int64"
   ]
  },
  {
   "cell_type": "markdown",
   "id": "2a96b65b",
   "metadata": {},
   "source": [
    "nombre_infected       971\n",
    "nombre_sain          2193\n",
    "nombre_exposed        531\n",
    "nombre_recovered    16305\n",
    "Name: 492, dtype: int64"
   ]
  },
  {
   "cell_type": "markdown",
   "id": "0418e87d",
   "metadata": {},
   "source": [
    "nombre_infected       952\n",
    "nombre_sain          2170\n",
    "nombre_exposed        548\n",
    "nombre_recovered    16330\n",
    "Name: 493, dtype: int64"
   ]
  },
  {
   "cell_type": "markdown",
   "id": "2e14d5a2",
   "metadata": {},
   "source": [
    "nombre_infected       949\n",
    "nombre_sain          2154\n",
    "nombre_exposed        542\n",
    "nombre_recovered    16355\n",
    "Name: 494, dtype: int64"
   ]
  },
  {
   "cell_type": "markdown",
   "id": "5e5f4cfc",
   "metadata": {},
   "source": [
    "nombre_infected       974\n",
    "nombre_sain          2127\n",
    "nombre_exposed        526\n",
    "nombre_recovered    16373\n",
    "Name: 495, dtype: int64"
   ]
  },
  {
   "cell_type": "markdown",
   "id": "aca3e2cd",
   "metadata": {},
   "source": [
    "nombre_infected       970\n",
    "nombre_sain          2098\n",
    "nombre_exposed        515\n",
    "nombre_recovered    16417\n",
    "Name: 496, dtype: int64"
   ]
  },
  {
   "cell_type": "markdown",
   "id": "5bba096c",
   "metadata": {},
   "source": [
    "nombre_infected       969\n",
    "nombre_sain          2087\n",
    "nombre_exposed        503\n",
    "nombre_recovered    16441\n",
    "Name: 497, dtype: int64"
   ]
  },
  {
   "cell_type": "markdown",
   "id": "4f0d8ff7",
   "metadata": {},
   "source": [
    "nombre_infected       981\n",
    "nombre_sain          2092\n",
    "nombre_exposed        498\n",
    "nombre_recovered    16429\n",
    "Name: 498, dtype: int64"
   ]
  },
  {
   "cell_type": "markdown",
   "id": "d36f6a4d",
   "metadata": {},
   "source": [
    "nombre_infected       984\n",
    "nombre_sain          2063\n",
    "nombre_exposed        504\n",
    "nombre_recovered    16449\n",
    "Name: 499, dtype: int64"
   ]
  },
  {
   "cell_type": "markdown",
   "id": "512e4cef",
   "metadata": {},
   "source": [
    "nombre_infected       956\n",
    "nombre_sain          2059\n",
    "nombre_exposed        508\n",
    "nombre_recovered    16477\n",
    "Name: 500, dtype: int64"
   ]
  },
  {
   "cell_type": "markdown",
   "id": "cdc9b1f3",
   "metadata": {},
   "source": [
    "nombre_infected       927\n",
    "nombre_sain          2037\n",
    "nombre_exposed        526\n",
    "nombre_recovered    16510\n",
    "Name: 501, dtype: int64"
   ]
  },
  {
   "cell_type": "markdown",
   "id": "e31056ac",
   "metadata": {},
   "source": [
    "nombre_infected       922\n",
    "nombre_sain          2034\n",
    "nombre_exposed        502\n",
    "nombre_recovered    16542\n",
    "Name: 502, dtype: int64"
   ]
  },
  {
   "cell_type": "markdown",
   "id": "e515ca7a",
   "metadata": {},
   "source": [
    "nombre_infected       925\n",
    "nombre_sain          2054\n",
    "nombre_exposed        470\n",
    "nombre_recovered    16551\n",
    "Name: 503, dtype: int64"
   ]
  },
  {
   "cell_type": "markdown",
   "id": "bb71a7b2",
   "metadata": {},
   "source": [
    "nombre_infected       888\n",
    "nombre_sain          2056\n",
    "nombre_exposed        461\n",
    "nombre_recovered    16595\n",
    "Name: 504, dtype: int64"
   ]
  },
  {
   "cell_type": "markdown",
   "id": "f303b0af",
   "metadata": {},
   "source": [
    "nombre_infected       875\n",
    "nombre_sain          2056\n",
    "nombre_exposed        466\n",
    "nombre_recovered    16603\n",
    "Name: 505, dtype: int64"
   ]
  },
  {
   "cell_type": "markdown",
   "id": "2a17669b",
   "metadata": {},
   "source": [
    "nombre_infected       876\n",
    "nombre_sain          2076\n",
    "nombre_exposed        438\n",
    "nombre_recovered    16610\n",
    "Name: 506, dtype: int64"
   ]
  },
  {
   "cell_type": "markdown",
   "id": "395a50b0",
   "metadata": {},
   "source": [
    "nombre_infected       880\n",
    "nombre_sain          2076\n",
    "nombre_exposed        439\n",
    "nombre_recovered    16605\n",
    "Name: 507, dtype: int64"
   ]
  },
  {
   "cell_type": "markdown",
   "id": "f48e072a",
   "metadata": {},
   "source": [
    "nombre_infected       861\n",
    "nombre_sain          2082\n",
    "nombre_exposed        455\n",
    "nombre_recovered    16602\n",
    "Name: 508, dtype: int64"
   ]
  },
  {
   "cell_type": "markdown",
   "id": "14347594",
   "metadata": {},
   "source": [
    "nombre_infected       867\n",
    "nombre_sain          2097\n",
    "nombre_exposed        461\n",
    "nombre_recovered    16575\n",
    "Name: 509, dtype: int64"
   ]
  },
  {
   "cell_type": "markdown",
   "id": "60cab857",
   "metadata": {},
   "source": [
    "nombre_infected       881\n",
    "nombre_sain          2102\n",
    "nombre_exposed        466\n",
    "nombre_recovered    16551\n",
    "Name: 510, dtype: int64"
   ]
  },
  {
   "cell_type": "markdown",
   "id": "2e41125a",
   "metadata": {},
   "source": [
    "nombre_infected       877\n",
    "nombre_sain          2097\n",
    "nombre_exposed        473\n",
    "nombre_recovered    16553\n",
    "Name: 511, dtype: int64"
   ]
  },
  {
   "cell_type": "markdown",
   "id": "84da660d",
   "metadata": {},
   "source": [
    "nombre_infected       869\n",
    "nombre_sain          2106\n",
    "nombre_exposed        481\n",
    "nombre_recovered    16544\n",
    "Name: 512, dtype: int64"
   ]
  },
  {
   "cell_type": "markdown",
   "id": "66124cdc",
   "metadata": {},
   "source": [
    "nombre_infected       882\n",
    "nombre_sain          2129\n",
    "nombre_exposed        460\n",
    "nombre_recovered    16529\n",
    "Name: 513, dtype: int64"
   ]
  },
  {
   "cell_type": "markdown",
   "id": "07704565",
   "metadata": {},
   "source": [
    "nombre_infected       889\n",
    "nombre_sain          2112\n",
    "nombre_exposed        456\n",
    "nombre_recovered    16543\n",
    "Name: 514, dtype: int64"
   ]
  },
  {
   "cell_type": "markdown",
   "id": "6b915824",
   "metadata": {},
   "source": [
    "nombre_infected       867\n",
    "nombre_sain          2141\n",
    "nombre_exposed        458\n",
    "nombre_recovered    16534\n",
    "Name: 515, dtype: int64"
   ]
  },
  {
   "cell_type": "markdown",
   "id": "82181e89",
   "metadata": {},
   "source": [
    "nombre_infected       839\n",
    "nombre_sain          2156\n",
    "nombre_exposed        472\n",
    "nombre_recovered    16533\n",
    "Name: 516, dtype: int64"
   ]
  },
  {
   "cell_type": "markdown",
   "id": "5c41bd49",
   "metadata": {},
   "source": [
    "nombre_infected       821\n",
    "nombre_sain          2145\n",
    "nombre_exposed        493\n",
    "nombre_recovered    16541\n",
    "Name: 517, dtype: int64"
   ]
  },
  {
   "cell_type": "markdown",
   "id": "81ca81ed",
   "metadata": {},
   "source": [
    "nombre_infected       859\n",
    "nombre_sain          2157\n",
    "nombre_exposed        481\n",
    "nombre_recovered    16503\n",
    "Name: 518, dtype: int64"
   ]
  },
  {
   "cell_type": "markdown",
   "id": "b70228b7",
   "metadata": {},
   "source": [
    "nombre_infected       857\n",
    "nombre_sain          2163\n",
    "nombre_exposed        473\n",
    "nombre_recovered    16507\n",
    "Name: 519, dtype: int64"
   ]
  },
  {
   "cell_type": "markdown",
   "id": "8ea6a5c8",
   "metadata": {},
   "source": [
    "nombre_infected       859\n",
    "nombre_sain          2169\n",
    "nombre_exposed        468\n",
    "nombre_recovered    16504\n",
    "Name: 520, dtype: int64"
   ]
  },
  {
   "cell_type": "markdown",
   "id": "4f741c82",
   "metadata": {},
   "source": [
    "nombre_infected       855\n",
    "nombre_sain          2168\n",
    "nombre_exposed        485\n",
    "nombre_recovered    16492\n",
    "Name: 521, dtype: int64"
   ]
  },
  {
   "cell_type": "markdown",
   "id": "099114f1",
   "metadata": {},
   "source": [
    "nombre_infected       881\n",
    "nombre_sain          2141\n",
    "nombre_exposed        494\n",
    "nombre_recovered    16484\n",
    "Name: 522, dtype: int64"
   ]
  },
  {
   "cell_type": "markdown",
   "id": "5ce9e748",
   "metadata": {},
   "source": [
    "nombre_infected       864\n",
    "nombre_sain          2141\n",
    "nombre_exposed        502\n",
    "nombre_recovered    16493\n",
    "Name: 523, dtype: int64"
   ]
  },
  {
   "cell_type": "markdown",
   "id": "c3ab8a50",
   "metadata": {},
   "source": [
    "nombre_infected       832\n",
    "nombre_sain          2123\n",
    "nombre_exposed        524\n",
    "nombre_recovered    16521\n",
    "Name: 524, dtype: int64"
   ]
  },
  {
   "cell_type": "markdown",
   "id": "653579dd",
   "metadata": {},
   "source": [
    "nombre_infected       835\n",
    "nombre_sain          2092\n",
    "nombre_exposed        515\n",
    "nombre_recovered    16558\n",
    "Name: 525, dtype: int64"
   ]
  },
  {
   "cell_type": "markdown",
   "id": "c266bd18",
   "metadata": {},
   "source": [
    "nombre_infected       883\n",
    "nombre_sain          2097\n",
    "nombre_exposed        480\n",
    "nombre_recovered    16540\n",
    "Name: 526, dtype: int64"
   ]
  },
  {
   "cell_type": "markdown",
   "id": "f0999236",
   "metadata": {},
   "source": [
    "nombre_infected       890\n",
    "nombre_sain          2103\n",
    "nombre_exposed        468\n",
    "nombre_recovered    16539\n",
    "Name: 527, dtype: int64"
   ]
  },
  {
   "cell_type": "markdown",
   "id": "d03a2831",
   "metadata": {},
   "source": [
    "nombre_infected       867\n",
    "nombre_sain          2109\n",
    "nombre_exposed        474\n",
    "nombre_recovered    16550\n",
    "Name: 528, dtype: int64"
   ]
  },
  {
   "cell_type": "markdown",
   "id": "49f23c6e",
   "metadata": {},
   "source": [
    "nombre_infected       866\n",
    "nombre_sain          2106\n",
    "nombre_exposed        482\n",
    "nombre_recovered    16546\n",
    "Name: 529, dtype: int64"
   ]
  },
  {
   "cell_type": "markdown",
   "id": "cc664533",
   "metadata": {},
   "source": [
    "nombre_infected       826\n",
    "nombre_sain          2099\n",
    "nombre_exposed        503\n",
    "nombre_recovered    16572\n",
    "Name: 530, dtype: int64"
   ]
  },
  {
   "cell_type": "markdown",
   "id": "fa145df0",
   "metadata": {},
   "source": [
    "nombre_infected       844\n",
    "nombre_sain          2123\n",
    "nombre_exposed        469\n",
    "nombre_recovered    16564\n",
    "Name: 531, dtype: int64"
   ]
  },
  {
   "cell_type": "markdown",
   "id": "d25ea921",
   "metadata": {},
   "source": [
    "nombre_infected       868\n",
    "nombre_sain          2140\n",
    "nombre_exposed        439\n",
    "nombre_recovered    16553\n",
    "Name: 532, dtype: int64"
   ]
  },
  {
   "cell_type": "markdown",
   "id": "9d0dc50f",
   "metadata": {},
   "source": [
    "nombre_infected       848\n",
    "nombre_sain          2137\n",
    "nombre_exposed        453\n",
    "nombre_recovered    16562\n",
    "Name: 533, dtype: int64"
   ]
  },
  {
   "cell_type": "markdown",
   "id": "e3419bb7",
   "metadata": {},
   "source": [
    "nombre_infected       843\n",
    "nombre_sain          2153\n",
    "nombre_exposed        455\n",
    "nombre_recovered    16549\n",
    "Name: 534, dtype: int64"
   ]
  },
  {
   "cell_type": "markdown",
   "id": "38db7c20",
   "metadata": {},
   "source": [
    "nombre_infected       843\n",
    "nombre_sain          2156\n",
    "nombre_exposed        470\n",
    "nombre_recovered    16531\n",
    "Name: 535, dtype: int64"
   ]
  },
  {
   "cell_type": "markdown",
   "id": "2cc54a55",
   "metadata": {},
   "source": [
    "nombre_infected       834\n",
    "nombre_sain          2153\n",
    "nombre_exposed        496\n",
    "nombre_recovered    16517\n",
    "Name: 536, dtype: int64"
   ]
  },
  {
   "cell_type": "markdown",
   "id": "b0318319",
   "metadata": {},
   "source": [
    "nombre_infected       835\n",
    "nombre_sain          2187\n",
    "nombre_exposed        502\n",
    "nombre_recovered    16476\n",
    "Name: 537, dtype: int64"
   ]
  },
  {
   "cell_type": "markdown",
   "id": "1254efbd",
   "metadata": {},
   "source": [
    "nombre_infected       854\n",
    "nombre_sain          2209\n",
    "nombre_exposed        475\n",
    "nombre_recovered    16462\n",
    "Name: 538, dtype: int64"
   ]
  },
  {
   "cell_type": "markdown",
   "id": "f2fe2339",
   "metadata": {},
   "source": [
    "nombre_infected       856\n",
    "nombre_sain          2216\n",
    "nombre_exposed        486\n",
    "nombre_recovered    16442\n",
    "Name: 539, dtype: int64"
   ]
  },
  {
   "cell_type": "markdown",
   "id": "17627c7e",
   "metadata": {},
   "source": [
    "nombre_infected       848\n",
    "nombre_sain          2227\n",
    "nombre_exposed        485\n",
    "nombre_recovered    16440\n",
    "Name: 540, dtype: int64"
   ]
  },
  {
   "cell_type": "markdown",
   "id": "19586797",
   "metadata": {},
   "source": [
    "nombre_infected       864\n",
    "nombre_sain          2199\n",
    "nombre_exposed        504\n",
    "nombre_recovered    16433\n",
    "Name: 541, dtype: int64"
   ]
  },
  {
   "cell_type": "markdown",
   "id": "987b7b68",
   "metadata": {},
   "source": [
    "nombre_infected       883\n",
    "nombre_sain          2197\n",
    "nombre_exposed        529\n",
    "nombre_recovered    16391\n",
    "Name: 542, dtype: int64"
   ]
  },
  {
   "cell_type": "markdown",
   "id": "b3e36e94",
   "metadata": {},
   "source": [
    "nombre_infected       907\n",
    "nombre_sain          2172\n",
    "nombre_exposed        539\n",
    "nombre_recovered    16382\n",
    "Name: 543, dtype: int64"
   ]
  },
  {
   "cell_type": "markdown",
   "id": "63ae67ef",
   "metadata": {},
   "source": [
    "nombre_infected       920\n",
    "nombre_sain          2184\n",
    "nombre_exposed        536\n",
    "nombre_recovered    16360\n",
    "Name: 544, dtype: int64"
   ]
  },
  {
   "cell_type": "markdown",
   "id": "90301bd4",
   "metadata": {},
   "source": [
    "nombre_infected       938\n",
    "nombre_sain          2186\n",
    "nombre_exposed        537\n",
    "nombre_recovered    16339\n",
    "Name: 545, dtype: int64"
   ]
  },
  {
   "cell_type": "markdown",
   "id": "f465aeac",
   "metadata": {},
   "source": [
    "nombre_infected       938\n",
    "nombre_sain          2183\n",
    "nombre_exposed        531\n",
    "nombre_recovered    16348\n",
    "Name: 546, dtype: int64"
   ]
  },
  {
   "cell_type": "markdown",
   "id": "923a5f03",
   "metadata": {},
   "source": [
    "nombre_infected       938\n",
    "nombre_sain          2208\n",
    "nombre_exposed        535\n",
    "nombre_recovered    16319\n",
    "Name: 547, dtype: int64"
   ]
  },
  {
   "cell_type": "markdown",
   "id": "ea473aec",
   "metadata": {},
   "source": [
    "nombre_infected       931\n",
    "nombre_sain          2206\n",
    "nombre_exposed        547\n",
    "nombre_recovered    16316\n",
    "Name: 548, dtype: int64"
   ]
  },
  {
   "cell_type": "markdown",
   "id": "bda3c601",
   "metadata": {},
   "source": [
    "nombre_infected       918\n",
    "nombre_sain          2234\n",
    "nombre_exposed        543\n",
    "nombre_recovered    16305\n",
    "Name: 549, dtype: int64"
   ]
  },
  {
   "cell_type": "markdown",
   "id": "9a536279",
   "metadata": {},
   "source": [
    "nombre_infected       913\n",
    "nombre_sain          2243\n",
    "nombre_exposed        538\n",
    "nombre_recovered    16306\n",
    "Name: 550, dtype: int64"
   ]
  },
  {
   "cell_type": "markdown",
   "id": "2982e4ce",
   "metadata": {},
   "source": [
    "nombre_infected       908\n",
    "nombre_sain          2249\n",
    "nombre_exposed        550\n",
    "nombre_recovered    16293\n",
    "Name: 551, dtype: int64"
   ]
  },
  {
   "cell_type": "markdown",
   "id": "507c2d38",
   "metadata": {},
   "source": [
    "nombre_infected       917\n",
    "nombre_sain          2246\n",
    "nombre_exposed        548\n",
    "nombre_recovered    16289\n",
    "Name: 552, dtype: int64"
   ]
  },
  {
   "cell_type": "markdown",
   "id": "0f105870",
   "metadata": {},
   "source": [
    "nombre_infected       908\n",
    "nombre_sain          2268\n",
    "nombre_exposed        552\n",
    "nombre_recovered    16272\n",
    "Name: 553, dtype: int64"
   ]
  },
  {
   "cell_type": "markdown",
   "id": "5cd4ad68",
   "metadata": {},
   "source": [
    "nombre_infected       912\n",
    "nombre_sain          2291\n",
    "nombre_exposed        567\n",
    "nombre_recovered    16230\n",
    "Name: 554, dtype: int64"
   ]
  },
  {
   "cell_type": "markdown",
   "id": "248f18bc",
   "metadata": {},
   "source": [
    "nombre_infected       940\n",
    "nombre_sain          2298\n",
    "nombre_exposed        571\n",
    "nombre_recovered    16191\n",
    "Name: 555, dtype: int64"
   ]
  },
  {
   "cell_type": "markdown",
   "id": "25b50593",
   "metadata": {},
   "source": [
    "nombre_infected       945\n",
    "nombre_sain          2304\n",
    "nombre_exposed        585\n",
    "nombre_recovered    16166\n",
    "Name: 556, dtype: int64"
   ]
  },
  {
   "cell_type": "markdown",
   "id": "2cff29d9",
   "metadata": {},
   "source": [
    "nombre_infected       964\n",
    "nombre_sain          2319\n",
    "nombre_exposed        590\n",
    "nombre_recovered    16127\n",
    "Name: 557, dtype: int64"
   ]
  },
  {
   "cell_type": "markdown",
   "id": "2027d531",
   "metadata": {},
   "source": [
    "nombre_infected       983\n",
    "nombre_sain          2301\n",
    "nombre_exposed        606\n",
    "nombre_recovered    16110\n",
    "Name: 558, dtype: int64"
   ]
  },
  {
   "cell_type": "markdown",
   "id": "e0bca93d",
   "metadata": {},
   "source": [
    "nombre_infected      1008\n",
    "nombre_sain          2294\n",
    "nombre_exposed        599\n",
    "nombre_recovered    16099\n",
    "Name: 559, dtype: int64"
   ]
  },
  {
   "cell_type": "markdown",
   "id": "3a04e549",
   "metadata": {},
   "source": [
    "nombre_infected      1020\n",
    "nombre_sain          2279\n",
    "nombre_exposed        603\n",
    "nombre_recovered    16098\n",
    "Name: 560, dtype: int64"
   ]
  },
  {
   "cell_type": "markdown",
   "id": "f9ab1307",
   "metadata": {},
   "source": [
    "nombre_infected      1041\n",
    "nombre_sain          2253\n",
    "nombre_exposed        593\n",
    "nombre_recovered    16113\n",
    "Name: 561, dtype: int64"
   ]
  },
  {
   "cell_type": "markdown",
   "id": "213007a0",
   "metadata": {},
   "source": [
    "nombre_infected      1046\n",
    "nombre_sain          2232\n",
    "nombre_exposed        601\n",
    "nombre_recovered    16121\n",
    "Name: 562, dtype: int64"
   ]
  },
  {
   "cell_type": "markdown",
   "id": "327dae5d",
   "metadata": {},
   "source": [
    "nombre_infected      1020\n",
    "nombre_sain          2193\n",
    "nombre_exposed        637\n",
    "nombre_recovered    16150\n",
    "Name: 563, dtype: int64"
   ]
  },
  {
   "cell_type": "markdown",
   "id": "f8c48d77",
   "metadata": {},
   "source": [
    "nombre_infected      1039\n",
    "nombre_sain          2180\n",
    "nombre_exposed        627\n",
    "nombre_recovered    16154\n",
    "Name: 564, dtype: int64"
   ]
  },
  {
   "cell_type": "markdown",
   "id": "3c5c4ef8",
   "metadata": {},
   "source": [
    "nombre_infected      1036\n",
    "nombre_sain          2209\n",
    "nombre_exposed        596\n",
    "nombre_recovered    16159\n",
    "Name: 565, dtype: int64"
   ]
  },
  {
   "cell_type": "markdown",
   "id": "7b987400",
   "metadata": {},
   "source": [
    "nombre_infected      1002\n",
    "nombre_sain          2191\n",
    "nombre_exposed        599\n",
    "nombre_recovered    16208\n",
    "Name: 566, dtype: int64"
   ]
  },
  {
   "cell_type": "markdown",
   "id": "5336a188",
   "metadata": {},
   "source": [
    "nombre_infected       998\n",
    "nombre_sain          2183\n",
    "nombre_exposed        595\n",
    "nombre_recovered    16224\n",
    "Name: 567, dtype: int64"
   ]
  },
  {
   "cell_type": "markdown",
   "id": "17dba284",
   "metadata": {},
   "source": [
    "nombre_infected      1012\n",
    "nombre_sain          2180\n",
    "nombre_exposed        574\n",
    "nombre_recovered    16234\n",
    "Name: 568, dtype: int64"
   ]
  },
  {
   "cell_type": "markdown",
   "id": "13021c19",
   "metadata": {},
   "source": [
    "nombre_infected      1014\n",
    "nombre_sain          2202\n",
    "nombre_exposed        563\n",
    "nombre_recovered    16221\n",
    "Name: 569, dtype: int64"
   ]
  },
  {
   "cell_type": "markdown",
   "id": "ab35eac5",
   "metadata": {},
   "source": [
    "nombre_infected      1013\n",
    "nombre_sain          2205\n",
    "nombre_exposed        598\n",
    "nombre_recovered    16184\n",
    "Name: 570, dtype: int64"
   ]
  },
  {
   "cell_type": "markdown",
   "id": "f6cc76ce",
   "metadata": {},
   "source": [
    "nombre_infected       999\n",
    "nombre_sain          2199\n",
    "nombre_exposed        601\n",
    "nombre_recovered    16201\n",
    "Name: 571, dtype: int64"
   ]
  },
  {
   "cell_type": "markdown",
   "id": "f52591c4",
   "metadata": {},
   "source": [
    "nombre_infected       996\n",
    "nombre_sain          2187\n",
    "nombre_exposed        619\n",
    "nombre_recovered    16198\n",
    "Name: 572, dtype: int64"
   ]
  },
  {
   "cell_type": "markdown",
   "id": "c16dd41d",
   "metadata": {},
   "source": [
    "nombre_infected       978\n",
    "nombre_sain          2171\n",
    "nombre_exposed        644\n",
    "nombre_recovered    16207\n",
    "Name: 573, dtype: int64"
   ]
  },
  {
   "cell_type": "markdown",
   "id": "babd881a",
   "metadata": {},
   "source": [
    "nombre_infected       984\n",
    "nombre_sain          2148\n",
    "nombre_exposed        637\n",
    "nombre_recovered    16231\n",
    "Name: 574, dtype: int64"
   ]
  },
  {
   "cell_type": "markdown",
   "id": "64a46bd9",
   "metadata": {},
   "source": [
    "nombre_infected       999\n",
    "nombre_sain          2149\n",
    "nombre_exposed        625\n",
    "nombre_recovered    16227\n",
    "Name: 575, dtype: int64"
   ]
  },
  {
   "cell_type": "markdown",
   "id": "34b78642",
   "metadata": {},
   "source": [
    "nombre_infected      1013\n",
    "nombre_sain          2146\n",
    "nombre_exposed        607\n",
    "nombre_recovered    16234\n",
    "Name: 576, dtype: int64"
   ]
  },
  {
   "cell_type": "markdown",
   "id": "4edc3078",
   "metadata": {},
   "source": [
    "nombre_infected      1029\n",
    "nombre_sain          2133\n",
    "nombre_exposed        596\n",
    "nombre_recovered    16242\n",
    "Name: 577, dtype: int64"
   ]
  },
  {
   "cell_type": "markdown",
   "id": "2a976357",
   "metadata": {},
   "source": [
    "nombre_infected      1001\n",
    "nombre_sain          2107\n",
    "nombre_exposed        608\n",
    "nombre_recovered    16284\n",
    "Name: 578, dtype: int64"
   ]
  },
  {
   "cell_type": "markdown",
   "id": "0f019f00",
   "metadata": {},
   "source": [
    "nombre_infected       998\n",
    "nombre_sain          2106\n",
    "nombre_exposed        607\n",
    "nombre_recovered    16289\n",
    "Name: 579, dtype: int64"
   ]
  },
  {
   "cell_type": "markdown",
   "id": "3ba3fc98",
   "metadata": {},
   "source": [
    "nombre_infected      1013\n",
    "nombre_sain          2085\n",
    "nombre_exposed        612\n",
    "nombre_recovered    16290\n",
    "Name: 580, dtype: int64"
   ]
  },
  {
   "cell_type": "markdown",
   "id": "9e014019",
   "metadata": {},
   "source": [
    "nombre_infected      1021\n",
    "nombre_sain          2092\n",
    "nombre_exposed        605\n",
    "nombre_recovered    16282\n",
    "Name: 581, dtype: int64"
   ]
  },
  {
   "cell_type": "markdown",
   "id": "3208f85f",
   "metadata": {},
   "source": [
    "nombre_infected      1041\n",
    "nombre_sain          2065\n",
    "nombre_exposed        617\n",
    "nombre_recovered    16277\n",
    "Name: 582, dtype: int64"
   ]
  },
  {
   "cell_type": "markdown",
   "id": "82fdafd7",
   "metadata": {},
   "source": [
    "nombre_infected      1053\n",
    "nombre_sain          2041\n",
    "nombre_exposed        608\n",
    "nombre_recovered    16298\n",
    "Name: 583, dtype: int64"
   ]
  },
  {
   "cell_type": "markdown",
   "id": "fb1b19a0",
   "metadata": {},
   "source": [
    "nombre_infected      1054\n",
    "nombre_sain          2006\n",
    "nombre_exposed        598\n",
    "nombre_recovered    16342\n",
    "Name: 584, dtype: int64"
   ]
  },
  {
   "cell_type": "markdown",
   "id": "53e9354f",
   "metadata": {},
   "source": [
    "nombre_infected      1072\n",
    "nombre_sain          2007\n",
    "nombre_exposed        571\n",
    "nombre_recovered    16350\n",
    "Name: 585, dtype: int64"
   ]
  },
  {
   "cell_type": "markdown",
   "id": "cfedc50b",
   "metadata": {},
   "source": [
    "nombre_infected      1090\n",
    "nombre_sain          2011\n",
    "nombre_exposed        546\n",
    "nombre_recovered    16353\n",
    "Name: 586, dtype: int64"
   ]
  },
  {
   "cell_type": "markdown",
   "id": "e485d200",
   "metadata": {},
   "source": [
    "nombre_infected      1081\n",
    "nombre_sain          1999\n",
    "nombre_exposed        571\n",
    "nombre_recovered    16349\n",
    "Name: 587, dtype: int64"
   ]
  },
  {
   "cell_type": "markdown",
   "id": "dd91bde3",
   "metadata": {},
   "source": [
    "nombre_infected      1075\n",
    "nombre_sain          1961\n",
    "nombre_exposed        576\n",
    "nombre_recovered    16388\n",
    "Name: 588, dtype: int64"
   ]
  },
  {
   "cell_type": "markdown",
   "id": "4b5da25b",
   "metadata": {},
   "source": [
    "nombre_infected      1074\n",
    "nombre_sain          1975\n",
    "nombre_exposed        578\n",
    "nombre_recovered    16373\n",
    "Name: 589, dtype: int64"
   ]
  },
  {
   "cell_type": "markdown",
   "id": "17c98f57",
   "metadata": {},
   "source": [
    "nombre_infected      1060\n",
    "nombre_sain          1937\n",
    "nombre_exposed        603\n",
    "nombre_recovered    16400\n",
    "Name: 590, dtype: int64"
   ]
  },
  {
   "cell_type": "markdown",
   "id": "e9784f2b",
   "metadata": {},
   "source": [
    "nombre_infected      1083\n",
    "nombre_sain          1929\n",
    "nombre_exposed        590\n",
    "nombre_recovered    16398\n",
    "Name: 591, dtype: int64"
   ]
  },
  {
   "cell_type": "markdown",
   "id": "774013de",
   "metadata": {},
   "source": [
    "nombre_infected      1069\n",
    "nombre_sain          1942\n",
    "nombre_exposed        588\n",
    "nombre_recovered    16401\n",
    "Name: 592, dtype: int64"
   ]
  },
  {
   "cell_type": "markdown",
   "id": "7c10752e",
   "metadata": {},
   "source": [
    "nombre_infected      1064\n",
    "nombre_sain          1966\n",
    "nombre_exposed        575\n",
    "nombre_recovered    16395\n",
    "Name: 593, dtype: int64"
   ]
  },
  {
   "cell_type": "markdown",
   "id": "e1264664",
   "metadata": {},
   "source": [
    "nombre_infected      1074\n",
    "nombre_sain          1942\n",
    "nombre_exposed        574\n",
    "nombre_recovered    16410\n",
    "Name: 594, dtype: int64"
   ]
  },
  {
   "cell_type": "markdown",
   "id": "934485a3",
   "metadata": {},
   "source": [
    "nombre_infected      1070\n",
    "nombre_sain          1946\n",
    "nombre_exposed        556\n",
    "nombre_recovered    16428\n",
    "Name: 595, dtype: int64"
   ]
  },
  {
   "cell_type": "markdown",
   "id": "d3b27fea",
   "metadata": {},
   "source": [
    "nombre_infected      1057\n",
    "nombre_sain          1951\n",
    "nombre_exposed        539\n",
    "nombre_recovered    16453\n",
    "Name: 596, dtype: int64"
   ]
  },
  {
   "cell_type": "markdown",
   "id": "2ffd895b",
   "metadata": {},
   "source": [
    "nombre_infected      1051\n",
    "nombre_sain          1943\n",
    "nombre_exposed        545\n",
    "nombre_recovered    16461\n",
    "Name: 597, dtype: int64"
   ]
  },
  {
   "cell_type": "markdown",
   "id": "9a1180e3",
   "metadata": {},
   "source": [
    "nombre_infected      1050\n",
    "nombre_sain          1953\n",
    "nombre_exposed        517\n",
    "nombre_recovered    16480\n",
    "Name: 598, dtype: int64"
   ]
  },
  {
   "cell_type": "markdown",
   "id": "52f5ac63",
   "metadata": {},
   "source": [
    "nombre_infected      1051\n",
    "nombre_sain          1947\n",
    "nombre_exposed        510\n",
    "nombre_recovered    16492\n",
    "Name: 599, dtype: int64"
   ]
  },
  {
   "cell_type": "markdown",
   "id": "45a1bbee",
   "metadata": {},
   "source": [
    "nombre_infected      1045\n",
    "nombre_sain          1942\n",
    "nombre_exposed        517\n",
    "nombre_recovered    16496\n",
    "Name: 600, dtype: int64"
   ]
  },
  {
   "cell_type": "markdown",
   "id": "49cba447",
   "metadata": {},
   "source": [
    "nombre_infected      1048\n",
    "nombre_sain          1940\n",
    "nombre_exposed        493\n",
    "nombre_recovered    16519\n",
    "Name: 601, dtype: int64"
   ]
  },
  {
   "cell_type": "markdown",
   "id": "c259beee",
   "metadata": {},
   "source": [
    "nombre_infected      1022\n",
    "nombre_sain          1939\n",
    "nombre_exposed        511\n",
    "nombre_recovered    16528\n",
    "Name: 602, dtype: int64"
   ]
  },
  {
   "cell_type": "markdown",
   "id": "762891b5",
   "metadata": {},
   "source": [
    "nombre_infected      1044\n",
    "nombre_sain          1939\n",
    "nombre_exposed        507\n",
    "nombre_recovered    16510\n",
    "Name: 603, dtype: int64"
   ]
  },
  {
   "cell_type": "markdown",
   "id": "6037616c",
   "metadata": {},
   "source": [
    "nombre_infected      1031\n",
    "nombre_sain          1961\n",
    "nombre_exposed        509\n",
    "nombre_recovered    16499\n",
    "Name: 604, dtype: int64"
   ]
  },
  {
   "cell_type": "markdown",
   "id": "5031f491",
   "metadata": {},
   "source": [
    "nombre_infected      1023\n",
    "nombre_sain          1977\n",
    "nombre_exposed        502\n",
    "nombre_recovered    16498\n",
    "Name: 605, dtype: int64"
   ]
  },
  {
   "cell_type": "markdown",
   "id": "2a9975be",
   "metadata": {},
   "source": [
    "nombre_infected      1028\n",
    "nombre_sain          1943\n",
    "nombre_exposed        507\n",
    "nombre_recovered    16522\n",
    "Name: 606, dtype: int64"
   ]
  },
  {
   "cell_type": "markdown",
   "id": "befa7215",
   "metadata": {},
   "source": [
    "nombre_infected      1001\n",
    "nombre_sain          1965\n",
    "nombre_exposed        492\n",
    "nombre_recovered    16542\n",
    "Name: 607, dtype: int64"
   ]
  },
  {
   "cell_type": "markdown",
   "id": "41011da9",
   "metadata": {},
   "source": [
    "nombre_infected       984\n",
    "nombre_sain          1950\n",
    "nombre_exposed        518\n",
    "nombre_recovered    16548\n",
    "Name: 608, dtype: int64"
   ]
  },
  {
   "cell_type": "markdown",
   "id": "50f75e8d",
   "metadata": {},
   "source": [
    "nombre_infected       960\n",
    "nombre_sain          1969\n",
    "nombre_exposed        511\n",
    "nombre_recovered    16560\n",
    "Name: 609, dtype: int64"
   ]
  },
  {
   "cell_type": "markdown",
   "id": "c38c92c3",
   "metadata": {},
   "source": [
    "nombre_infected       954\n",
    "nombre_sain          1952\n",
    "nombre_exposed        508\n",
    "nombre_recovered    16586\n",
    "Name: 610, dtype: int64"
   ]
  },
  {
   "cell_type": "markdown",
   "id": "34fc1e02",
   "metadata": {},
   "source": [
    "nombre_infected       965\n",
    "nombre_sain          1964\n",
    "nombre_exposed        498\n",
    "nombre_recovered    16573\n",
    "Name: 611, dtype: int64"
   ]
  },
  {
   "cell_type": "markdown",
   "id": "60739818",
   "metadata": {},
   "source": [
    "nombre_infected       966\n",
    "nombre_sain          1990\n",
    "nombre_exposed        471\n",
    "nombre_recovered    16573\n",
    "Name: 612, dtype: int64"
   ]
  },
  {
   "cell_type": "markdown",
   "id": "659b6d6a",
   "metadata": {},
   "source": [
    "nombre_infected       975\n",
    "nombre_sain          1992\n",
    "nombre_exposed        466\n",
    "nombre_recovered    16567\n",
    "Name: 613, dtype: int64"
   ]
  },
  {
   "cell_type": "markdown",
   "id": "5cd69e0a",
   "metadata": {},
   "source": [
    "nombre_infected       955\n",
    "nombre_sain          1989\n",
    "nombre_exposed        475\n",
    "nombre_recovered    16581\n",
    "Name: 614, dtype: int64"
   ]
  },
  {
   "cell_type": "markdown",
   "id": "135d6c38",
   "metadata": {},
   "source": [
    "nombre_infected       959\n",
    "nombre_sain          2009\n",
    "nombre_exposed        462\n",
    "nombre_recovered    16570\n",
    "Name: 615, dtype: int64"
   ]
  },
  {
   "cell_type": "markdown",
   "id": "d71c3130",
   "metadata": {},
   "source": [
    "nombre_infected       946\n",
    "nombre_sain          2002\n",
    "nombre_exposed        466\n",
    "nombre_recovered    16586\n",
    "Name: 616, dtype: int64"
   ]
  },
  {
   "cell_type": "markdown",
   "id": "11b891df",
   "metadata": {},
   "source": [
    "nombre_infected       948\n",
    "nombre_sain          1991\n",
    "nombre_exposed        484\n",
    "nombre_recovered    16577\n",
    "Name: 617, dtype: int64"
   ]
  },
  {
   "cell_type": "markdown",
   "id": "ae4d02b6",
   "metadata": {},
   "source": [
    "nombre_infected       964\n",
    "nombre_sain          1982\n",
    "nombre_exposed        482\n",
    "nombre_recovered    16572\n",
    "Name: 618, dtype: int64"
   ]
  },
  {
   "cell_type": "markdown",
   "id": "bf32ae10",
   "metadata": {},
   "source": [
    "nombre_infected       946\n",
    "nombre_sain          1981\n",
    "nombre_exposed        493\n",
    "nombre_recovered    16580\n",
    "Name: 619, dtype: int64"
   ]
  },
  {
   "cell_type": "markdown",
   "id": "1c1e7aca",
   "metadata": {},
   "source": [
    "nombre_infected       938\n",
    "nombre_sain          1977\n",
    "nombre_exposed        504\n",
    "nombre_recovered    16581\n",
    "Name: 620, dtype: int64"
   ]
  },
  {
   "cell_type": "markdown",
   "id": "64c1e105",
   "metadata": {},
   "source": [
    "nombre_infected       976\n",
    "nombre_sain          1951\n",
    "nombre_exposed        493\n",
    "nombre_recovered    16580\n",
    "Name: 621, dtype: int64"
   ]
  },
  {
   "cell_type": "markdown",
   "id": "ad9d4b55",
   "metadata": {},
   "source": [
    "nombre_infected       969\n",
    "nombre_sain          1940\n",
    "nombre_exposed        508\n",
    "nombre_recovered    16583\n",
    "Name: 622, dtype: int64"
   ]
  },
  {
   "cell_type": "markdown",
   "id": "1ce6f87f",
   "metadata": {},
   "source": [
    "nombre_infected       977\n",
    "nombre_sain          1928\n",
    "nombre_exposed        512\n",
    "nombre_recovered    16583\n",
    "Name: 623, dtype: int64"
   ]
  },
  {
   "cell_type": "markdown",
   "id": "ea66550f",
   "metadata": {},
   "source": [
    "nombre_infected       972\n",
    "nombre_sain          1893\n",
    "nombre_exposed        507\n",
    "nombre_recovered    16628\n",
    "Name: 624, dtype: int64"
   ]
  },
  {
   "cell_type": "markdown",
   "id": "57d62841",
   "metadata": {},
   "source": [
    "nombre_infected       979\n",
    "nombre_sain          1896\n",
    "nombre_exposed        489\n",
    "nombre_recovered    16636\n",
    "Name: 625, dtype: int64"
   ]
  },
  {
   "cell_type": "markdown",
   "id": "23232bb1",
   "metadata": {},
   "source": [
    "nombre_infected      1001\n",
    "nombre_sain          1868\n",
    "nombre_exposed        486\n",
    "nombre_recovered    16645\n",
    "Name: 626, dtype: int64"
   ]
  },
  {
   "cell_type": "markdown",
   "id": "ccd1765a",
   "metadata": {},
   "source": [
    "nombre_infected       986\n",
    "nombre_sain          1834\n",
    "nombre_exposed        519\n",
    "nombre_recovered    16661\n",
    "Name: 627, dtype: int64"
   ]
  },
  {
   "cell_type": "markdown",
   "id": "8f1a52a3",
   "metadata": {},
   "source": [
    "nombre_infected       978\n",
    "nombre_sain          1836\n",
    "nombre_exposed        521\n",
    "nombre_recovered    16665\n",
    "Name: 628, dtype: int64"
   ]
  },
  {
   "cell_type": "markdown",
   "id": "1386c867",
   "metadata": {},
   "source": [
    "nombre_infected       975\n",
    "nombre_sain          1852\n",
    "nombre_exposed        505\n",
    "nombre_recovered    16668\n",
    "Name: 629, dtype: int64"
   ]
  },
  {
   "cell_type": "markdown",
   "id": "d564e96f",
   "metadata": {},
   "source": [
    "nombre_infected       973\n",
    "nombre_sain          1847\n",
    "nombre_exposed        489\n",
    "nombre_recovered    16691\n",
    "Name: 630, dtype: int64"
   ]
  },
  {
   "cell_type": "markdown",
   "id": "3b4eadcc",
   "metadata": {},
   "source": [
    "nombre_infected       980\n",
    "nombre_sain          1819\n",
    "nombre_exposed        483\n",
    "nombre_recovered    16718\n",
    "Name: 631, dtype: int64"
   ]
  },
  {
   "cell_type": "markdown",
   "id": "a60f3e39",
   "metadata": {},
   "source": [
    "nombre_infected       974\n",
    "nombre_sain          1827\n",
    "nombre_exposed        463\n",
    "nombre_recovered    16736\n",
    "Name: 632, dtype: int64"
   ]
  },
  {
   "cell_type": "markdown",
   "id": "82274468",
   "metadata": {},
   "source": [
    "nombre_infected       972\n",
    "nombre_sain          1832\n",
    "nombre_exposed        464\n",
    "nombre_recovered    16732\n",
    "Name: 633, dtype: int64"
   ]
  },
  {
   "cell_type": "markdown",
   "id": "12d9e4bd",
   "metadata": {},
   "source": [
    "nombre_infected       940\n",
    "nombre_sain          1868\n",
    "nombre_exposed        444\n",
    "nombre_recovered    16748\n",
    "Name: 634, dtype: int64"
   ]
  },
  {
   "cell_type": "markdown",
   "id": "1aaf6828",
   "metadata": {},
   "source": [
    "nombre_infected       932\n",
    "nombre_sain          1851\n",
    "nombre_exposed        459\n",
    "nombre_recovered    16758\n",
    "Name: 635, dtype: int64"
   ]
  },
  {
   "cell_type": "markdown",
   "id": "db14a6c6",
   "metadata": {},
   "source": [
    "nombre_infected       914\n",
    "nombre_sain          1866\n",
    "nombre_exposed        467\n",
    "nombre_recovered    16753\n",
    "Name: 636, dtype: int64"
   ]
  },
  {
   "cell_type": "markdown",
   "id": "40255e65",
   "metadata": {},
   "source": [
    "nombre_infected       902\n",
    "nombre_sain          1874\n",
    "nombre_exposed        462\n",
    "nombre_recovered    16762\n",
    "Name: 637, dtype: int64"
   ]
  },
  {
   "cell_type": "markdown",
   "id": "54ce9540",
   "metadata": {},
   "source": [
    "nombre_infected       894\n",
    "nombre_sain          1895\n",
    "nombre_exposed        464\n",
    "nombre_recovered    16747\n",
    "Name: 638, dtype: int64"
   ]
  },
  {
   "cell_type": "markdown",
   "id": "75bb5587",
   "metadata": {},
   "source": [
    "nombre_infected       897\n",
    "nombre_sain          1905\n",
    "nombre_exposed        467\n",
    "nombre_recovered    16731\n",
    "Name: 639, dtype: int64"
   ]
  },
  {
   "cell_type": "markdown",
   "id": "f54b1692",
   "metadata": {},
   "source": [
    "nombre_infected       883\n",
    "nombre_sain          1909\n",
    "nombre_exposed        490\n",
    "nombre_recovered    16718\n",
    "Name: 640, dtype: int64"
   ]
  },
  {
   "cell_type": "markdown",
   "id": "84d3b954",
   "metadata": {},
   "source": [
    "nombre_infected       892\n",
    "nombre_sain          1923\n",
    "nombre_exposed        471\n",
    "nombre_recovered    16714\n",
    "Name: 641, dtype: int64"
   ]
  },
  {
   "cell_type": "markdown",
   "id": "cdff38d5",
   "metadata": {},
   "source": [
    "nombre_infected       889\n",
    "nombre_sain          1922\n",
    "nombre_exposed        487\n",
    "nombre_recovered    16702\n",
    "Name: 642, dtype: int64"
   ]
  },
  {
   "cell_type": "markdown",
   "id": "318378bb",
   "metadata": {},
   "source": [
    "nombre_infected       883\n",
    "nombre_sain          1929\n",
    "nombre_exposed        476\n",
    "nombre_recovered    16712\n",
    "Name: 643, dtype: int64"
   ]
  },
  {
   "cell_type": "markdown",
   "id": "68c389b3",
   "metadata": {},
   "source": [
    "nombre_infected       899\n",
    "nombre_sain          1941\n",
    "nombre_exposed        449\n",
    "nombre_recovered    16711\n",
    "Name: 644, dtype: int64"
   ]
  },
  {
   "cell_type": "markdown",
   "id": "36c2a7a2",
   "metadata": {},
   "source": [
    "nombre_infected       897\n",
    "nombre_sain          1929\n",
    "nombre_exposed        449\n",
    "nombre_recovered    16725\n",
    "Name: 645, dtype: int64"
   ]
  },
  {
   "cell_type": "markdown",
   "id": "7a3e774c",
   "metadata": {},
   "source": [
    "nombre_infected       906\n",
    "nombre_sain          1933\n",
    "nombre_exposed        446\n",
    "nombre_recovered    16715\n",
    "Name: 646, dtype: int64"
   ]
  },
  {
   "cell_type": "markdown",
   "id": "e24b28c1",
   "metadata": {},
   "source": [
    "nombre_infected       921\n",
    "nombre_sain          1932\n",
    "nombre_exposed        449\n",
    "nombre_recovered    16698\n",
    "Name: 647, dtype: int64"
   ]
  },
  {
   "cell_type": "markdown",
   "id": "c8f8876d",
   "metadata": {},
   "source": [
    "nombre_infected       910\n",
    "nombre_sain          1948\n",
    "nombre_exposed        471\n",
    "nombre_recovered    16671\n",
    "Name: 648, dtype: int64"
   ]
  },
  {
   "cell_type": "markdown",
   "id": "d01955c2",
   "metadata": {},
   "source": [
    "nombre_infected       933\n",
    "nombre_sain          1949\n",
    "nombre_exposed        457\n",
    "nombre_recovered    16661\n",
    "Name: 649, dtype: int64"
   ]
  },
  {
   "cell_type": "markdown",
   "id": "6f8513be",
   "metadata": {},
   "source": [
    "nombre_infected       917\n",
    "nombre_sain          1942\n",
    "nombre_exposed        470\n",
    "nombre_recovered    16671\n",
    "Name: 650, dtype: int64"
   ]
  },
  {
   "cell_type": "markdown",
   "id": "079d7b08",
   "metadata": {},
   "source": [
    "nombre_infected       922\n",
    "nombre_sain          1940\n",
    "nombre_exposed        477\n",
    "nombre_recovered    16661\n",
    "Name: 651, dtype: int64"
   ]
  },
  {
   "cell_type": "markdown",
   "id": "34b9e28b",
   "metadata": {},
   "source": [
    "nombre_infected       930\n",
    "nombre_sain          1945\n",
    "nombre_exposed        478\n",
    "nombre_recovered    16647\n",
    "Name: 652, dtype: int64"
   ]
  },
  {
   "cell_type": "markdown",
   "id": "e8c40b6c",
   "metadata": {},
   "source": [
    "nombre_infected       932\n",
    "nombre_sain          1960\n",
    "nombre_exposed        467\n",
    "nombre_recovered    16641\n",
    "Name: 653, dtype: int64"
   ]
  },
  {
   "cell_type": "markdown",
   "id": "b550961c",
   "metadata": {},
   "source": [
    "nombre_infected       952\n",
    "nombre_sain          1941\n",
    "nombre_exposed        483\n",
    "nombre_recovered    16624\n",
    "Name: 654, dtype: int64"
   ]
  },
  {
   "cell_type": "markdown",
   "id": "c00823ab",
   "metadata": {},
   "source": [
    "nombre_infected       956\n",
    "nombre_sain          1918\n",
    "nombre_exposed        485\n",
    "nombre_recovered    16641\n",
    "Name: 655, dtype: int64"
   ]
  },
  {
   "cell_type": "markdown",
   "id": "f63efa24",
   "metadata": {},
   "source": [
    "nombre_infected       951\n",
    "nombre_sain          1925\n",
    "nombre_exposed        470\n",
    "nombre_recovered    16654\n",
    "Name: 656, dtype: int64"
   ]
  },
  {
   "cell_type": "markdown",
   "id": "36ea81ba",
   "metadata": {},
   "source": [
    "nombre_infected       930\n",
    "nombre_sain          1907\n",
    "nombre_exposed        474\n",
    "nombre_recovered    16689\n",
    "Name: 657, dtype: int64"
   ]
  },
  {
   "cell_type": "markdown",
   "id": "82fa4598",
   "metadata": {},
   "source": [
    "nombre_infected       952\n",
    "nombre_sain          1915\n",
    "nombre_exposed        471\n",
    "nombre_recovered    16662\n",
    "Name: 658, dtype: int64"
   ]
  },
  {
   "cell_type": "markdown",
   "id": "7e866a48",
   "metadata": {},
   "source": [
    "nombre_infected       948\n",
    "nombre_sain          1907\n",
    "nombre_exposed        479\n",
    "nombre_recovered    16666\n",
    "Name: 659, dtype: int64"
   ]
  },
  {
   "cell_type": "markdown",
   "id": "5021fcd6",
   "metadata": {},
   "source": [
    "nombre_infected       949\n",
    "nombre_sain          1890\n",
    "nombre_exposed        488\n",
    "nombre_recovered    16673\n",
    "Name: 660, dtype: int64"
   ]
  },
  {
   "cell_type": "markdown",
   "id": "1fd0af9d",
   "metadata": {},
   "source": [
    "nombre_infected       946\n",
    "nombre_sain          1882\n",
    "nombre_exposed        497\n",
    "nombre_recovered    16675\n",
    "Name: 661, dtype: int64"
   ]
  },
  {
   "cell_type": "markdown",
   "id": "bab649a9",
   "metadata": {},
   "source": [
    "nombre_infected       940\n",
    "nombre_sain          1889\n",
    "nombre_exposed        506\n",
    "nombre_recovered    16665\n",
    "Name: 662, dtype: int64"
   ]
  },
  {
   "cell_type": "markdown",
   "id": "0bdd3674",
   "metadata": {},
   "source": [
    "nombre_infected       935\n",
    "nombre_sain          1883\n",
    "nombre_exposed        500\n",
    "nombre_recovered    16682\n",
    "Name: 663, dtype: int64"
   ]
  },
  {
   "cell_type": "markdown",
   "id": "eec32a9f",
   "metadata": {},
   "source": [
    "nombre_infected       931\n",
    "nombre_sain          1873\n",
    "nombre_exposed        502\n",
    "nombre_recovered    16694\n",
    "Name: 664, dtype: int64"
   ]
  },
  {
   "cell_type": "markdown",
   "id": "245aed95",
   "metadata": {},
   "source": [
    "nombre_infected       930\n",
    "nombre_sain          1847\n",
    "nombre_exposed        509\n",
    "nombre_recovered    16714\n",
    "Name: 665, dtype: int64"
   ]
  },
  {
   "cell_type": "markdown",
   "id": "8548b4b5",
   "metadata": {},
   "source": [
    "nombre_infected       931\n",
    "nombre_sain          1819\n",
    "nombre_exposed        509\n",
    "nombre_recovered    16741\n",
    "Name: 666, dtype: int64"
   ]
  },
  {
   "cell_type": "markdown",
   "id": "efcc4202",
   "metadata": {},
   "source": [
    "nombre_infected       926\n",
    "nombre_sain          1836\n",
    "nombre_exposed        497\n",
    "nombre_recovered    16741\n",
    "Name: 667, dtype: int64"
   ]
  },
  {
   "cell_type": "markdown",
   "id": "25e94f54",
   "metadata": {},
   "source": [
    "nombre_infected       924\n",
    "nombre_sain          1845\n",
    "nombre_exposed        478\n",
    "nombre_recovered    16753\n",
    "Name: 668, dtype: int64"
   ]
  },
  {
   "cell_type": "markdown",
   "id": "24220faf",
   "metadata": {},
   "source": [
    "nombre_infected       946\n",
    "nombre_sain          1839\n",
    "nombre_exposed        459\n",
    "nombre_recovered    16756\n",
    "Name: 669, dtype: int64"
   ]
  },
  {
   "cell_type": "markdown",
   "id": "99d56a34",
   "metadata": {},
   "source": [
    "nombre_infected       939\n",
    "nombre_sain          1843\n",
    "nombre_exposed        457\n",
    "nombre_recovered    16761\n",
    "Name: 670, dtype: int64"
   ]
  },
  {
   "cell_type": "markdown",
   "id": "cfbfcbb3",
   "metadata": {},
   "source": [
    "nombre_infected       928\n",
    "nombre_sain          1848\n",
    "nombre_exposed        462\n",
    "nombre_recovered    16762\n",
    "Name: 671, dtype: int64"
   ]
  },
  {
   "cell_type": "markdown",
   "id": "1a59b6bc",
   "metadata": {},
   "source": [
    "nombre_infected       909\n",
    "nombre_sain          1852\n",
    "nombre_exposed        466\n",
    "nombre_recovered    16773\n",
    "Name: 672, dtype: int64"
   ]
  },
  {
   "cell_type": "markdown",
   "id": "b1ff0fee",
   "metadata": {},
   "source": [
    "nombre_infected       920\n",
    "nombre_sain          1876\n",
    "nombre_exposed        461\n",
    "nombre_recovered    16743\n",
    "Name: 673, dtype: int64"
   ]
  },
  {
   "cell_type": "markdown",
   "id": "ccd5c92e",
   "metadata": {},
   "source": [
    "nombre_infected       906\n",
    "nombre_sain          1904\n",
    "nombre_exposed        441\n",
    "nombre_recovered    16749\n",
    "Name: 674, dtype: int64"
   ]
  },
  {
   "cell_type": "markdown",
   "id": "16b546a1",
   "metadata": {},
   "source": [
    "nombre_infected       915\n",
    "nombre_sain          1910\n",
    "nombre_exposed        435\n",
    "nombre_recovered    16740\n",
    "Name: 675, dtype: int64"
   ]
  },
  {
   "cell_type": "markdown",
   "id": "b6628282",
   "metadata": {},
   "source": [
    "nombre_infected       918\n",
    "nombre_sain          1902\n",
    "nombre_exposed        427\n",
    "nombre_recovered    16753\n",
    "Name: 676, dtype: int64"
   ]
  },
  {
   "cell_type": "markdown",
   "id": "ef409db5",
   "metadata": {},
   "source": [
    "nombre_infected       898\n",
    "nombre_sain          1921\n",
    "nombre_exposed        412\n",
    "nombre_recovered    16769\n",
    "Name: 677, dtype: int64"
   ]
  },
  {
   "cell_type": "markdown",
   "id": "d3406b91",
   "metadata": {},
   "source": [
    "nombre_infected       908\n",
    "nombre_sain          1905\n",
    "nombre_exposed        414\n",
    "nombre_recovered    16773\n",
    "Name: 678, dtype: int64"
   ]
  },
  {
   "cell_type": "markdown",
   "id": "f3139071",
   "metadata": {},
   "source": [
    "nombre_infected       893\n",
    "nombre_sain          1925\n",
    "nombre_exposed        424\n",
    "nombre_recovered    16758\n",
    "Name: 679, dtype: int64"
   ]
  },
  {
   "cell_type": "markdown",
   "id": "dffce0fb",
   "metadata": {},
   "source": [
    "nombre_infected       871\n",
    "nombre_sain          1916\n",
    "nombre_exposed        433\n",
    "nombre_recovered    16780\n",
    "Name: 680, dtype: int64"
   ]
  },
  {
   "cell_type": "markdown",
   "id": "471f82e6",
   "metadata": {},
   "source": [
    "nombre_infected       839\n",
    "nombre_sain          1949\n",
    "nombre_exposed        423\n",
    "nombre_recovered    16789\n",
    "Name: 681, dtype: int64"
   ]
  },
  {
   "cell_type": "markdown",
   "id": "3fe93a94",
   "metadata": {},
   "source": [
    "nombre_infected       825\n",
    "nombre_sain          1976\n",
    "nombre_exposed        418\n",
    "nombre_recovered    16781\n",
    "Name: 682, dtype: int64"
   ]
  },
  {
   "cell_type": "markdown",
   "id": "a0d21a15",
   "metadata": {},
   "source": [
    "nombre_infected       796\n",
    "nombre_sain          2000\n",
    "nombre_exposed        432\n",
    "nombre_recovered    16772\n",
    "Name: 683, dtype: int64"
   ]
  },
  {
   "cell_type": "markdown",
   "id": "cafeca02",
   "metadata": {},
   "source": [
    "nombre_infected       784\n",
    "nombre_sain          2033\n",
    "nombre_exposed        413\n",
    "nombre_recovered    16770\n",
    "Name: 684, dtype: int64"
   ]
  },
  {
   "cell_type": "markdown",
   "id": "44687dfb",
   "metadata": {},
   "source": [
    "nombre_infected       783\n",
    "nombre_sain          2080\n",
    "nombre_exposed        434\n",
    "nombre_recovered    16703\n",
    "Name: 685, dtype: int64"
   ]
  },
  {
   "cell_type": "markdown",
   "id": "e9b2c923",
   "metadata": {},
   "source": [
    "nombre_infected       798\n",
    "nombre_sain          2121\n",
    "nombre_exposed        420\n",
    "nombre_recovered    16661\n",
    "Name: 686, dtype: int64"
   ]
  },
  {
   "cell_type": "markdown",
   "id": "430f1056",
   "metadata": {},
   "source": [
    "nombre_infected       821\n",
    "nombre_sain          2142\n",
    "nombre_exposed        406\n",
    "nombre_recovered    16631\n",
    "Name: 687, dtype: int64"
   ]
  },
  {
   "cell_type": "markdown",
   "id": "e2030cab",
   "metadata": {},
   "source": [
    "nombre_infected       792\n",
    "nombre_sain          2162\n",
    "nombre_exposed        443\n",
    "nombre_recovered    16603\n",
    "Name: 688, dtype: int64"
   ]
  },
  {
   "cell_type": "markdown",
   "id": "0c22dd55",
   "metadata": {},
   "source": [
    "nombre_infected       768\n",
    "nombre_sain          2181\n",
    "nombre_exposed        461\n",
    "nombre_recovered    16590\n",
    "Name: 689, dtype: int64"
   ]
  },
  {
   "cell_type": "markdown",
   "id": "24882958",
   "metadata": {},
   "source": [
    "nombre_infected       780\n",
    "nombre_sain          2200\n",
    "nombre_exposed        474\n",
    "nombre_recovered    16546\n",
    "Name: 690, dtype: int64"
   ]
  },
  {
   "cell_type": "markdown",
   "id": "6ea7661c",
   "metadata": {},
   "source": [
    "nombre_infected       800\n",
    "nombre_sain          2222\n",
    "nombre_exposed        459\n",
    "nombre_recovered    16519\n",
    "Name: 691, dtype: int64"
   ]
  },
  {
   "cell_type": "markdown",
   "id": "32ed3997",
   "metadata": {},
   "source": [
    "nombre_infected       809\n",
    "nombre_sain          2232\n",
    "nombre_exposed        458\n",
    "nombre_recovered    16501\n",
    "Name: 692, dtype: int64"
   ]
  },
  {
   "cell_type": "markdown",
   "id": "941fda8f",
   "metadata": {},
   "source": [
    "nombre_infected       813\n",
    "nombre_sain          2212\n",
    "nombre_exposed        456\n",
    "nombre_recovered    16519\n",
    "Name: 693, dtype: int64"
   ]
  },
  {
   "cell_type": "markdown",
   "id": "9f019505",
   "metadata": {},
   "source": [
    "nombre_infected       831\n",
    "nombre_sain          2234\n",
    "nombre_exposed        448\n",
    "nombre_recovered    16487\n",
    "Name: 694, dtype: int64"
   ]
  },
  {
   "cell_type": "markdown",
   "id": "7f8bffbe",
   "metadata": {},
   "source": [
    "nombre_infected       839\n",
    "nombre_sain          2213\n",
    "nombre_exposed        490\n",
    "nombre_recovered    16458\n",
    "Name: 695, dtype: int64"
   ]
  },
  {
   "cell_type": "markdown",
   "id": "3984b386",
   "metadata": {},
   "source": [
    "nombre_infected       819\n",
    "nombre_sain          2201\n",
    "nombre_exposed        508\n",
    "nombre_recovered    16472\n",
    "Name: 696, dtype: int64"
   ]
  },
  {
   "cell_type": "markdown",
   "id": "9f385697",
   "metadata": {},
   "source": [
    "nombre_infected       820\n",
    "nombre_sain          2182\n",
    "nombre_exposed        515\n",
    "nombre_recovered    16483\n",
    "Name: 697, dtype: int64"
   ]
  },
  {
   "cell_type": "markdown",
   "id": "d9728f86",
   "metadata": {},
   "source": [
    "nombre_infected       842\n",
    "nombre_sain          2198\n",
    "nombre_exposed        502\n",
    "nombre_recovered    16458\n",
    "Name: 698, dtype: int64"
   ]
  },
  {
   "cell_type": "markdown",
   "id": "2e59c5e3",
   "metadata": {},
   "source": [
    "nombre_infected       842\n",
    "nombre_sain          2210\n",
    "nombre_exposed        497\n",
    "nombre_recovered    16451\n",
    "Name: 699, dtype: int64"
   ]
  },
  {
   "cell_type": "markdown",
   "id": "381dfaf2",
   "metadata": {},
   "source": [
    "nombre_infected       866\n",
    "nombre_sain          2212\n",
    "nombre_exposed        475\n",
    "nombre_recovered    16447\n",
    "Name: 700, dtype: int64"
   ]
  },
  {
   "cell_type": "markdown",
   "id": "6e8326ae",
   "metadata": {},
   "source": [
    "nombre_infected       860\n",
    "nombre_sain          2225\n",
    "nombre_exposed        477\n",
    "nombre_recovered    16438\n",
    "Name: 701, dtype: int64"
   ]
  },
  {
   "cell_type": "markdown",
   "id": "92a472bb",
   "metadata": {},
   "source": [
    "nombre_infected       872\n",
    "nombre_sain          2224\n",
    "nombre_exposed        464\n",
    "nombre_recovered    16440\n",
    "Name: 702, dtype: int64"
   ]
  },
  {
   "cell_type": "markdown",
   "id": "75c4a8a4",
   "metadata": {},
   "source": [
    "nombre_infected       861\n",
    "nombre_sain          2226\n",
    "nombre_exposed        465\n",
    "nombre_recovered    16448\n",
    "Name: 703, dtype: int64"
   ]
  },
  {
   "cell_type": "markdown",
   "id": "3f305eed",
   "metadata": {},
   "source": [
    "nombre_infected       874\n",
    "nombre_sain          2245\n",
    "nombre_exposed        451\n",
    "nombre_recovered    16430\n",
    "Name: 704, dtype: int64"
   ]
  },
  {
   "cell_type": "markdown",
   "id": "639a5597",
   "metadata": {},
   "source": [
    "nombre_infected       866\n",
    "nombre_sain          2226\n",
    "nombre_exposed        470\n",
    "nombre_recovered    16438\n",
    "Name: 705, dtype: int64"
   ]
  },
  {
   "cell_type": "markdown",
   "id": "9a965bba",
   "metadata": {},
   "source": [
    "nombre_infected       848\n",
    "nombre_sain          2232\n",
    "nombre_exposed        466\n",
    "nombre_recovered    16454\n",
    "Name: 706, dtype: int64"
   ]
  },
  {
   "cell_type": "markdown",
   "id": "767c497f",
   "metadata": {},
   "source": [
    "nombre_infected       844\n",
    "nombre_sain          2212\n",
    "nombre_exposed        490\n",
    "nombre_recovered    16454\n",
    "Name: 707, dtype: int64"
   ]
  },
  {
   "cell_type": "markdown",
   "id": "42814619",
   "metadata": {},
   "source": [
    "nombre_infected       858\n",
    "nombre_sain          2200\n",
    "nombre_exposed        480\n",
    "nombre_recovered    16462\n",
    "Name: 708, dtype: int64"
   ]
  },
  {
   "cell_type": "markdown",
   "id": "ba2e3122",
   "metadata": {},
   "source": [
    "nombre_infected       877\n",
    "nombre_sain          2197\n",
    "nombre_exposed        488\n",
    "nombre_recovered    16438\n",
    "Name: 709, dtype: int64"
   ]
  },
  {
   "cell_type": "markdown",
   "id": "78cf2ac6",
   "metadata": {},
   "source": [
    "nombre_infected       867\n",
    "nombre_sain          2211\n",
    "nombre_exposed        482\n",
    "nombre_recovered    16440\n",
    "Name: 710, dtype: int64"
   ]
  },
  {
   "cell_type": "markdown",
   "id": "6cf46c39",
   "metadata": {},
   "source": [
    "nombre_infected       881\n",
    "nombre_sain          2226\n",
    "nombre_exposed        457\n",
    "nombre_recovered    16436\n",
    "Name: 711, dtype: int64"
   ]
  },
  {
   "cell_type": "markdown",
   "id": "5871950d",
   "metadata": {},
   "source": [
    "nombre_infected       877\n",
    "nombre_sain          2236\n",
    "nombre_exposed        465\n",
    "nombre_recovered    16422\n",
    "Name: 712, dtype: int64"
   ]
  },
  {
   "cell_type": "markdown",
   "id": "a9570ae3",
   "metadata": {},
   "source": [
    "nombre_infected       836\n",
    "nombre_sain          2247\n",
    "nombre_exposed        487\n",
    "nombre_recovered    16430\n",
    "Name: 713, dtype: int64"
   ]
  },
  {
   "cell_type": "markdown",
   "id": "f83fbe6c",
   "metadata": {},
   "source": [
    "nombre_infected       843\n",
    "nombre_sain          2249\n",
    "nombre_exposed        480\n",
    "nombre_recovered    16428\n",
    "Name: 714, dtype: int64"
   ]
  },
  {
   "cell_type": "markdown",
   "id": "6fe467b7",
   "metadata": {},
   "source": [
    "nombre_infected       837\n",
    "nombre_sain          2255\n",
    "nombre_exposed        486\n",
    "nombre_recovered    16422\n",
    "Name: 715, dtype: int64"
   ]
  },
  {
   "cell_type": "markdown",
   "id": "068c9e11",
   "metadata": {},
   "source": [
    "nombre_infected       814\n",
    "nombre_sain          2280\n",
    "nombre_exposed        477\n",
    "nombre_recovered    16429\n",
    "Name: 716, dtype: int64"
   ]
  },
  {
   "cell_type": "markdown",
   "id": "19428a56",
   "metadata": {},
   "source": [
    "nombre_infected       834\n",
    "nombre_sain          2268\n",
    "nombre_exposed        459\n",
    "nombre_recovered    16439\n",
    "Name: 717, dtype: int64"
   ]
  },
  {
   "cell_type": "markdown",
   "id": "7572bb38",
   "metadata": {},
   "source": [
    "nombre_infected       826\n",
    "nombre_sain          2266\n",
    "nombre_exposed        460\n",
    "nombre_recovered    16448\n",
    "Name: 718, dtype: int64"
   ]
  },
  {
   "cell_type": "markdown",
   "id": "b044962b",
   "metadata": {},
   "source": [
    "nombre_infected       819\n",
    "nombre_sain          2267\n",
    "nombre_exposed        457\n",
    "nombre_recovered    16457\n",
    "Name: 719, dtype: int64"
   ]
  },
  {
   "cell_type": "markdown",
   "id": "d7244a61",
   "metadata": {},
   "source": [
    "nombre_infected       819\n",
    "nombre_sain          2253\n",
    "nombre_exposed        463\n",
    "nombre_recovered    16465\n",
    "Name: 720, dtype: int64"
   ]
  },
  {
   "cell_type": "markdown",
   "id": "91fc801e",
   "metadata": {},
   "source": [
    "nombre_infected       804\n",
    "nombre_sain          2259\n",
    "nombre_exposed        471\n",
    "nombre_recovered    16466\n",
    "Name: 721, dtype: int64"
   ]
  },
  {
   "cell_type": "markdown",
   "id": "003d81e1",
   "metadata": {},
   "source": [
    "nombre_infected       788\n",
    "nombre_sain          2261\n",
    "nombre_exposed        467\n",
    "nombre_recovered    16484\n",
    "Name: 722, dtype: int64"
   ]
  },
  {
   "cell_type": "markdown",
   "id": "c50511ec",
   "metadata": {},
   "source": [
    "nombre_infected       791\n",
    "nombre_sain          2265\n",
    "nombre_exposed        479\n",
    "nombre_recovered    16465\n",
    "Name: 723, dtype: int64"
   ]
  },
  {
   "cell_type": "markdown",
   "id": "10631ab4",
   "metadata": {},
   "source": [
    "nombre_infected       791\n",
    "nombre_sain          2275\n",
    "nombre_exposed        481\n",
    "nombre_recovered    16453\n",
    "Name: 724, dtype: int64"
   ]
  },
  {
   "cell_type": "markdown",
   "id": "cea054c9",
   "metadata": {},
   "source": [
    "nombre_infected       794\n",
    "nombre_sain          2277\n",
    "nombre_exposed        501\n",
    "nombre_recovered    16428\n",
    "Name: 725, dtype: int64"
   ]
  },
  {
   "cell_type": "markdown",
   "id": "c84e1238",
   "metadata": {},
   "source": [
    "nombre_infected       792\n",
    "nombre_sain          2281\n",
    "nombre_exposed        495\n",
    "nombre_recovered    16432\n",
    "Name: 726, dtype: int64"
   ]
  },
  {
   "cell_type": "markdown",
   "id": "861df2a1",
   "metadata": {},
   "source": [
    "nombre_infected       797\n",
    "nombre_sain          2296\n",
    "nombre_exposed        495\n",
    "nombre_recovered    16412\n",
    "Name: 727, dtype: int64"
   ]
  },
  {
   "cell_type": "markdown",
   "id": "b7ae0c54",
   "metadata": {},
   "source": [
    "nombre_infected       780\n",
    "nombre_sain          2319\n",
    "nombre_exposed        507\n",
    "nombre_recovered    16394\n",
    "Name: 728, dtype: int64"
   ]
  },
  {
   "cell_type": "markdown",
   "id": "f63cf5e7",
   "metadata": {},
   "source": [
    "nombre_infected       800\n",
    "nombre_sain          2347\n",
    "nombre_exposed        493\n",
    "nombre_recovered    16360\n",
    "Name: 729, dtype: int64"
   ]
  },
  {
   "cell_type": "markdown",
   "id": "ec7e3f2a",
   "metadata": {},
   "source": [
    "nombre_infected       799\n",
    "nombre_sain          2378\n",
    "nombre_exposed        504\n",
    "nombre_recovered    16319\n",
    "Name: 730, dtype: int64"
   ]
  }
 ],
 "metadata": {},
 "nbformat": 4,
 "nbformat_minor": 5
}
