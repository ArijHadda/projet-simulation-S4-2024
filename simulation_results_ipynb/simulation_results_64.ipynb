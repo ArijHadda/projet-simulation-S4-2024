{
 "cells": [
  {
   "cell_type": "markdown",
   "id": "e2dd5aaa",
   "metadata": {},
   "source": [
    "nombre_infected        20\n",
    "nombre_sain         19980\n",
    "nombre_exposed          0\n",
    "nombre_recovered        0\n",
    "Name: 0, dtype: int64"
   ]
  },
  {
   "cell_type": "markdown",
   "id": "9323c0a7",
   "metadata": {},
   "source": [
    "nombre_infected        20\n",
    "nombre_sain         19959\n",
    "nombre_exposed         21\n",
    "nombre_recovered        0\n",
    "Name: 1, dtype: int64"
   ]
  },
  {
   "cell_type": "markdown",
   "id": "9b630872",
   "metadata": {},
   "source": [
    "nombre_infected        20\n",
    "nombre_sain         19936\n",
    "nombre_exposed         44\n",
    "nombre_recovered        0\n",
    "Name: 2, dtype: int64"
   ]
  },
  {
   "cell_type": "markdown",
   "id": "9af5d9b2",
   "metadata": {},
   "source": [
    "nombre_infected        27\n",
    "nombre_sain         19916\n",
    "nombre_exposed         57\n",
    "nombre_recovered        0\n",
    "Name: 3, dtype: int64"
   ]
  },
  {
   "cell_type": "markdown",
   "id": "70f0e69c",
   "metadata": {},
   "source": [
    "nombre_infected        37\n",
    "nombre_sain         19882\n",
    "nombre_exposed         81\n",
    "nombre_recovered        0\n",
    "Name: 4, dtype: int64"
   ]
  },
  {
   "cell_type": "markdown",
   "id": "c872a788",
   "metadata": {},
   "source": [
    "nombre_infected        50\n",
    "nombre_sain         19832\n",
    "nombre_exposed        117\n",
    "nombre_recovered        1\n",
    "Name: 5, dtype: int64"
   ]
  },
  {
   "cell_type": "markdown",
   "id": "e683c252",
   "metadata": {},
   "source": [
    "nombre_infected        66\n",
    "nombre_sain         19763\n",
    "nombre_exposed        170\n",
    "nombre_recovered        1\n",
    "Name: 6, dtype: int64"
   ]
  },
  {
   "cell_type": "markdown",
   "id": "17cb2146",
   "metadata": {},
   "source": [
    "nombre_infected        99\n",
    "nombre_sain         19663\n",
    "nombre_exposed        235\n",
    "nombre_recovered        3\n",
    "Name: 7, dtype: int64"
   ]
  },
  {
   "cell_type": "markdown",
   "id": "91732b7e",
   "metadata": {},
   "source": [
    "nombre_infected       133\n",
    "nombre_sain         19513\n",
    "nombre_exposed        345\n",
    "nombre_recovered        9\n",
    "Name: 8, dtype: int64"
   ]
  },
  {
   "cell_type": "markdown",
   "id": "37211774",
   "metadata": {},
   "source": [
    "nombre_infected       167\n",
    "nombre_sain         19357\n",
    "nombre_exposed        457\n",
    "nombre_recovered       19\n",
    "Name: 9, dtype: int64"
   ]
  },
  {
   "cell_type": "markdown",
   "id": "30488cdf",
   "metadata": {},
   "source": [
    "nombre_infected       241\n",
    "nombre_sain         19112\n",
    "nombre_exposed        616\n",
    "nombre_recovered       31\n",
    "Name: 10, dtype: int64"
   ]
  },
  {
   "cell_type": "markdown",
   "id": "797d8efa",
   "metadata": {},
   "source": [
    "nombre_infected       329\n",
    "nombre_sain         18787\n",
    "nombre_exposed        837\n",
    "nombre_recovered       47\n",
    "Name: 11, dtype: int64"
   ]
  },
  {
   "cell_type": "markdown",
   "id": "f31ff6a6",
   "metadata": {},
   "source": [
    "nombre_infected       426\n",
    "nombre_sain         18360\n",
    "nombre_exposed       1132\n",
    "nombre_recovered       82\n",
    "Name: 12, dtype: int64"
   ]
  },
  {
   "cell_type": "markdown",
   "id": "7a4e90f1",
   "metadata": {},
   "source": [
    "nombre_infected       584\n",
    "nombre_sain         17832\n",
    "nombre_exposed       1463\n",
    "nombre_recovered      121\n",
    "Name: 13, dtype: int64"
   ]
  },
  {
   "cell_type": "markdown",
   "id": "e1f03163",
   "metadata": {},
   "source": [
    "nombre_infected       762\n",
    "nombre_sain         17103\n",
    "nombre_exposed       1956\n",
    "nombre_recovered      179\n",
    "Name: 14, dtype: int64"
   ]
  },
  {
   "cell_type": "markdown",
   "id": "e0b52e5e",
   "metadata": {},
   "source": [
    "nombre_infected      1023\n",
    "nombre_sain         16225\n",
    "nombre_exposed       2500\n",
    "nombre_recovered      252\n",
    "Name: 15, dtype: int64"
   ]
  },
  {
   "cell_type": "markdown",
   "id": "9a4361bc",
   "metadata": {},
   "source": [
    "nombre_infected      1387\n",
    "nombre_sain         15039\n",
    "nombre_exposed       3237\n",
    "nombre_recovered      337\n",
    "Name: 16, dtype: int64"
   ]
  },
  {
   "cell_type": "markdown",
   "id": "b08e4cee",
   "metadata": {},
   "source": [
    "nombre_infected      1792\n",
    "nombre_sain         13715\n",
    "nombre_exposed       4017\n",
    "nombre_recovered      476\n",
    "Name: 17, dtype: int64"
   ]
  },
  {
   "cell_type": "markdown",
   "id": "59dd18ff",
   "metadata": {},
   "source": [
    "nombre_infected      2329\n",
    "nombre_sain         12240\n",
    "nombre_exposed       4795\n",
    "nombre_recovered      636\n",
    "Name: 18, dtype: int64"
   ]
  },
  {
   "cell_type": "markdown",
   "id": "d2e24fb8",
   "metadata": {},
   "source": [
    "nombre_infected      3019\n",
    "nombre_sain         10498\n",
    "nombre_exposed       5642\n",
    "nombre_recovered      841\n",
    "Name: 19, dtype: int64"
   ]
  },
  {
   "cell_type": "markdown",
   "id": "8e1031df",
   "metadata": {},
   "source": [
    "nombre_infected     3712\n",
    "nombre_sain         8782\n",
    "nombre_exposed      6361\n",
    "nombre_recovered    1145\n",
    "Name: 20, dtype: int64"
   ]
  },
  {
   "cell_type": "markdown",
   "id": "1ad2e458",
   "metadata": {},
   "source": [
    "nombre_infected     4647\n",
    "nombre_sain         7040\n",
    "nombre_exposed      6812\n",
    "nombre_recovered    1501\n",
    "Name: 21, dtype: int64"
   ]
  },
  {
   "cell_type": "markdown",
   "id": "2f7c1b44",
   "metadata": {},
   "source": [
    "nombre_infected     5526\n",
    "nombre_sain         5511\n",
    "nombre_exposed      6988\n",
    "nombre_recovered    1975\n",
    "Name: 22, dtype: int64"
   ]
  },
  {
   "cell_type": "markdown",
   "id": "59ec71a9",
   "metadata": {},
   "source": [
    "nombre_infected     6399\n",
    "nombre_sain         4125\n",
    "nombre_exposed      6907\n",
    "nombre_recovered    2569\n",
    "Name: 23, dtype: int64"
   ]
  },
  {
   "cell_type": "markdown",
   "id": "36ed42c9",
   "metadata": {},
   "source": [
    "nombre_infected     7240\n",
    "nombre_sain         2992\n",
    "nombre_exposed      6536\n",
    "nombre_recovered    3232\n",
    "Name: 24, dtype: int64"
   ]
  },
  {
   "cell_type": "markdown",
   "id": "19e50a9d",
   "metadata": {},
   "source": [
    "nombre_infected     7892\n",
    "nombre_sain         2099\n",
    "nombre_exposed      5985\n",
    "nombre_recovered    4024\n",
    "Name: 25, dtype: int64"
   ]
  },
  {
   "cell_type": "markdown",
   "id": "6c7d8737",
   "metadata": {},
   "source": [
    "nombre_infected     8486\n",
    "nombre_sain         1447\n",
    "nombre_exposed      5212\n",
    "nombre_recovered    4855\n",
    "Name: 26, dtype: int64"
   ]
  },
  {
   "cell_type": "markdown",
   "id": "92dc845c",
   "metadata": {},
   "source": [
    "nombre_infected     8749\n",
    "nombre_sain          967\n",
    "nombre_exposed      4441\n",
    "nombre_recovered    5843\n",
    "Name: 27, dtype: int64"
   ]
  },
  {
   "cell_type": "markdown",
   "id": "e0670482",
   "metadata": {},
   "source": [
    "nombre_infected     8889\n",
    "nombre_sain          666\n",
    "nombre_exposed      3553\n",
    "nombre_recovered    6892\n",
    "Name: 28, dtype: int64"
   ]
  },
  {
   "cell_type": "markdown",
   "id": "c173d4c3",
   "metadata": {},
   "source": [
    "nombre_infected     8691\n",
    "nombre_sain          468\n",
    "nombre_exposed      2851\n",
    "nombre_recovered    7990\n",
    "Name: 29, dtype: int64"
   ]
  },
  {
   "cell_type": "markdown",
   "id": "e621b80c",
   "metadata": {},
   "source": [
    "nombre_infected     8403\n",
    "nombre_sain          326\n",
    "nombre_exposed      2216\n",
    "nombre_recovered    9055\n",
    "Name: 30, dtype: int64"
   ]
  },
  {
   "cell_type": "markdown",
   "id": "003cbdbd",
   "metadata": {},
   "source": [
    "nombre_infected      7925\n",
    "nombre_sain           243\n",
    "nombre_exposed       1690\n",
    "nombre_recovered    10142\n",
    "Name: 31, dtype: int64"
   ]
  },
  {
   "cell_type": "markdown",
   "id": "14f458e7",
   "metadata": {},
   "source": [
    "nombre_infected      7406\n",
    "nombre_sain           184\n",
    "nombre_exposed       1238\n",
    "nombre_recovered    11172\n",
    "Name: 32, dtype: int64"
   ]
  },
  {
   "cell_type": "markdown",
   "id": "572eb5bd",
   "metadata": {},
   "source": [
    "nombre_infected      6775\n",
    "nombre_sain           154\n",
    "nombre_exposed        943\n",
    "nombre_recovered    12128\n",
    "Name: 33, dtype: int64"
   ]
  },
  {
   "cell_type": "markdown",
   "id": "d6169ddf",
   "metadata": {},
   "source": [
    "nombre_infected      6154\n",
    "nombre_sain           128\n",
    "nombre_exposed        685\n",
    "nombre_recovered    13033\n",
    "Name: 34, dtype: int64"
   ]
  },
  {
   "cell_type": "markdown",
   "id": "48ad4d83",
   "metadata": {},
   "source": [
    "nombre_infected      5511\n",
    "nombre_sain           101\n",
    "nombre_exposed        532\n",
    "nombre_recovered    13856\n",
    "Name: 35, dtype: int64"
   ]
  },
  {
   "cell_type": "markdown",
   "id": "23821379",
   "metadata": {},
   "source": [
    "nombre_infected      4920\n",
    "nombre_sain           104\n",
    "nombre_exposed        392\n",
    "nombre_recovered    14584\n",
    "Name: 36, dtype: int64"
   ]
  },
  {
   "cell_type": "markdown",
   "id": "01b248d1",
   "metadata": {},
   "source": [
    "nombre_infected      4358\n",
    "nombre_sain            83\n",
    "nombre_exposed        296\n",
    "nombre_recovered    15263\n",
    "Name: 37, dtype: int64"
   ]
  },
  {
   "cell_type": "markdown",
   "id": "186ba702",
   "metadata": {},
   "source": [
    "nombre_infected      3832\n",
    "nombre_sain            90\n",
    "nombre_exposed        216\n",
    "nombre_recovered    15862\n",
    "Name: 38, dtype: int64"
   ]
  },
  {
   "cell_type": "markdown",
   "id": "bccd4aba",
   "metadata": {},
   "source": [
    "nombre_infected      3351\n",
    "nombre_sain           111\n",
    "nombre_exposed        160\n",
    "nombre_recovered    16378\n",
    "Name: 39, dtype: int64"
   ]
  },
  {
   "cell_type": "markdown",
   "id": "39c85953",
   "metadata": {},
   "source": [
    "nombre_infected      2911\n",
    "nombre_sain           125\n",
    "nombre_exposed        128\n",
    "nombre_recovered    16836\n",
    "Name: 40, dtype: int64"
   ]
  },
  {
   "cell_type": "markdown",
   "id": "cf0be0c7",
   "metadata": {},
   "source": [
    "nombre_infected      2533\n",
    "nombre_sain           128\n",
    "nombre_exposed        114\n",
    "nombre_recovered    17225\n",
    "Name: 41, dtype: int64"
   ]
  },
  {
   "cell_type": "markdown",
   "id": "79a9ca91",
   "metadata": {},
   "source": [
    "nombre_infected      2203\n",
    "nombre_sain           148\n",
    "nombre_exposed         99\n",
    "nombre_recovered    17550\n",
    "Name: 42, dtype: int64"
   ]
  },
  {
   "cell_type": "markdown",
   "id": "fe837f5b",
   "metadata": {},
   "source": [
    "nombre_infected      1916\n",
    "nombre_sain           173\n",
    "nombre_exposed         92\n",
    "nombre_recovered    17819\n",
    "Name: 43, dtype: int64"
   ]
  },
  {
   "cell_type": "markdown",
   "id": "064116f5",
   "metadata": {},
   "source": [
    "nombre_infected      1662\n",
    "nombre_sain           206\n",
    "nombre_exposed         83\n",
    "nombre_recovered    18049\n",
    "Name: 44, dtype: int64"
   ]
  },
  {
   "cell_type": "markdown",
   "id": "e0cbe217",
   "metadata": {},
   "source": [
    "nombre_infected      1423\n",
    "nombre_sain           231\n",
    "nombre_exposed         97\n",
    "nombre_recovered    18249\n",
    "Name: 45, dtype: int64"
   ]
  },
  {
   "cell_type": "markdown",
   "id": "fc6a605f",
   "metadata": {},
   "source": [
    "nombre_infected      1250\n",
    "nombre_sain           263\n",
    "nombre_exposed         85\n",
    "nombre_recovered    18402\n",
    "Name: 46, dtype: int64"
   ]
  },
  {
   "cell_type": "markdown",
   "id": "204d5950",
   "metadata": {},
   "source": [
    "nombre_infected      1063\n",
    "nombre_sain           311\n",
    "nombre_exposed         81\n",
    "nombre_recovered    18545\n",
    "Name: 47, dtype: int64"
   ]
  },
  {
   "cell_type": "markdown",
   "id": "35e19b21",
   "metadata": {},
   "source": [
    "nombre_infected       930\n",
    "nombre_sain           341\n",
    "nombre_exposed         89\n",
    "nombre_recovered    18640\n",
    "Name: 48, dtype: int64"
   ]
  },
  {
   "cell_type": "markdown",
   "id": "2f7aad88",
   "metadata": {},
   "source": [
    "nombre_infected       808\n",
    "nombre_sain           397\n",
    "nombre_exposed         85\n",
    "nombre_recovered    18710\n",
    "Name: 49, dtype: int64"
   ]
  },
  {
   "cell_type": "markdown",
   "id": "0794dd30",
   "metadata": {},
   "source": [
    "nombre_infected       705\n",
    "nombre_sain           453\n",
    "nombre_exposed         82\n",
    "nombre_recovered    18760\n",
    "Name: 50, dtype: int64"
   ]
  },
  {
   "cell_type": "markdown",
   "id": "71915758",
   "metadata": {},
   "source": [
    "nombre_infected       596\n",
    "nombre_sain           504\n",
    "nombre_exposed         85\n",
    "nombre_recovered    18815\n",
    "Name: 51, dtype: int64"
   ]
  },
  {
   "cell_type": "markdown",
   "id": "f564ddec",
   "metadata": {},
   "source": [
    "nombre_infected       529\n",
    "nombre_sain           568\n",
    "nombre_exposed         84\n",
    "nombre_recovered    18819\n",
    "Name: 52, dtype: int64"
   ]
  },
  {
   "cell_type": "markdown",
   "id": "db0bd6b1",
   "metadata": {},
   "source": [
    "nombre_infected       465\n",
    "nombre_sain           617\n",
    "nombre_exposed         95\n",
    "nombre_recovered    18823\n",
    "Name: 53, dtype: int64"
   ]
  },
  {
   "cell_type": "markdown",
   "id": "d67bf465",
   "metadata": {},
   "source": [
    "nombre_infected       406\n",
    "nombre_sain           667\n",
    "nombre_exposed         92\n",
    "nombre_recovered    18835\n",
    "Name: 54, dtype: int64"
   ]
  },
  {
   "cell_type": "markdown",
   "id": "e7a7ee48",
   "metadata": {},
   "source": [
    "nombre_infected       361\n",
    "nombre_sain           709\n",
    "nombre_exposed         89\n",
    "nombre_recovered    18841\n",
    "Name: 55, dtype: int64"
   ]
  },
  {
   "cell_type": "markdown",
   "id": "272a6a80",
   "metadata": {},
   "source": [
    "nombre_infected       332\n",
    "nombre_sain           758\n",
    "nombre_exposed         91\n",
    "nombre_recovered    18819\n",
    "Name: 56, dtype: int64"
   ]
  },
  {
   "cell_type": "markdown",
   "id": "e2d1aca6",
   "metadata": {},
   "source": [
    "nombre_infected       300\n",
    "nombre_sain           811\n",
    "nombre_exposed         89\n",
    "nombre_recovered    18800\n",
    "Name: 57, dtype: int64"
   ]
  },
  {
   "cell_type": "markdown",
   "id": "a0de4662",
   "metadata": {},
   "source": [
    "nombre_infected       280\n",
    "nombre_sain           860\n",
    "nombre_exposed         81\n",
    "nombre_recovered    18779\n",
    "Name: 58, dtype: int64"
   ]
  },
  {
   "cell_type": "markdown",
   "id": "ed4f68ed",
   "metadata": {},
   "source": [
    "nombre_infected       253\n",
    "nombre_sain           911\n",
    "nombre_exposed         81\n",
    "nombre_recovered    18755\n",
    "Name: 59, dtype: int64"
   ]
  },
  {
   "cell_type": "markdown",
   "id": "9d5e5012",
   "metadata": {},
   "source": [
    "nombre_infected       229\n",
    "nombre_sain           940\n",
    "nombre_exposed         80\n",
    "nombre_recovered    18751\n",
    "Name: 60, dtype: int64"
   ]
  },
  {
   "cell_type": "markdown",
   "id": "27a66fda",
   "metadata": {},
   "source": [
    "nombre_infected       216\n",
    "nombre_sain           974\n",
    "nombre_exposed         83\n",
    "nombre_recovered    18727\n",
    "Name: 61, dtype: int64"
   ]
  },
  {
   "cell_type": "markdown",
   "id": "0dcd93bb",
   "metadata": {},
   "source": [
    "nombre_infected       202\n",
    "nombre_sain          1014\n",
    "nombre_exposed         81\n",
    "nombre_recovered    18703\n",
    "Name: 62, dtype: int64"
   ]
  },
  {
   "cell_type": "markdown",
   "id": "4e4d8256",
   "metadata": {},
   "source": [
    "nombre_infected       194\n",
    "nombre_sain          1046\n",
    "nombre_exposed         77\n",
    "nombre_recovered    18683\n",
    "Name: 63, dtype: int64"
   ]
  },
  {
   "cell_type": "markdown",
   "id": "87543dad",
   "metadata": {},
   "source": [
    "nombre_infected       187\n",
    "nombre_sain          1074\n",
    "nombre_exposed         75\n",
    "nombre_recovered    18664\n",
    "Name: 64, dtype: int64"
   ]
  },
  {
   "cell_type": "markdown",
   "id": "c568ffa4",
   "metadata": {},
   "source": [
    "nombre_infected       183\n",
    "nombre_sain          1108\n",
    "nombre_exposed         73\n",
    "nombre_recovered    18636\n",
    "Name: 65, dtype: int64"
   ]
  },
  {
   "cell_type": "markdown",
   "id": "81b3107d",
   "metadata": {},
   "source": [
    "nombre_infected       173\n",
    "nombre_sain          1117\n",
    "nombre_exposed         75\n",
    "nombre_recovered    18635\n",
    "Name: 66, dtype: int64"
   ]
  },
  {
   "cell_type": "markdown",
   "id": "f7259a94",
   "metadata": {},
   "source": [
    "nombre_infected       177\n",
    "nombre_sain          1151\n",
    "nombre_exposed         67\n",
    "nombre_recovered    18605\n",
    "Name: 67, dtype: int64"
   ]
  },
  {
   "cell_type": "markdown",
   "id": "53833c43",
   "metadata": {},
   "source": [
    "nombre_infected       173\n",
    "nombre_sain          1190\n",
    "nombre_exposed         70\n",
    "nombre_recovered    18567\n",
    "Name: 68, dtype: int64"
   ]
  },
  {
   "cell_type": "markdown",
   "id": "4a853640",
   "metadata": {},
   "source": [
    "nombre_infected       173\n",
    "nombre_sain          1227\n",
    "nombre_exposed         59\n",
    "nombre_recovered    18541\n",
    "Name: 69, dtype: int64"
   ]
  },
  {
   "cell_type": "markdown",
   "id": "46288ac3",
   "metadata": {},
   "source": [
    "nombre_infected       161\n",
    "nombre_sain          1264\n",
    "nombre_exposed         58\n",
    "nombre_recovered    18517\n",
    "Name: 70, dtype: int64"
   ]
  },
  {
   "cell_type": "markdown",
   "id": "5d01b861",
   "metadata": {},
   "source": [
    "nombre_infected       149\n",
    "nombre_sain          1297\n",
    "nombre_exposed         61\n",
    "nombre_recovered    18493\n",
    "Name: 71, dtype: int64"
   ]
  },
  {
   "cell_type": "markdown",
   "id": "9c8a39af",
   "metadata": {},
   "source": [
    "nombre_infected       141\n",
    "nombre_sain          1338\n",
    "nombre_exposed         61\n",
    "nombre_recovered    18460\n",
    "Name: 72, dtype: int64"
   ]
  },
  {
   "cell_type": "markdown",
   "id": "97b97041",
   "metadata": {},
   "source": [
    "nombre_infected       130\n",
    "nombre_sain          1371\n",
    "nombre_exposed         60\n",
    "nombre_recovered    18439\n",
    "Name: 73, dtype: int64"
   ]
  },
  {
   "cell_type": "markdown",
   "id": "a237d4e0",
   "metadata": {},
   "source": [
    "nombre_infected       125\n",
    "nombre_sain          1391\n",
    "nombre_exposed         60\n",
    "nombre_recovered    18424\n",
    "Name: 74, dtype: int64"
   ]
  },
  {
   "cell_type": "markdown",
   "id": "d6f9dc2c",
   "metadata": {},
   "source": [
    "nombre_infected       118\n",
    "nombre_sain          1429\n",
    "nombre_exposed         59\n",
    "nombre_recovered    18394\n",
    "Name: 75, dtype: int64"
   ]
  },
  {
   "cell_type": "markdown",
   "id": "d034cb1c",
   "metadata": {},
   "source": [
    "nombre_infected       112\n",
    "nombre_sain          1467\n",
    "nombre_exposed         59\n",
    "nombre_recovered    18362\n",
    "Name: 76, dtype: int64"
   ]
  },
  {
   "cell_type": "markdown",
   "id": "fe70d51f",
   "metadata": {},
   "source": [
    "nombre_infected       111\n",
    "nombre_sain          1498\n",
    "nombre_exposed         60\n",
    "nombre_recovered    18331\n",
    "Name: 77, dtype: int64"
   ]
  },
  {
   "cell_type": "markdown",
   "id": "b5b91d2c",
   "metadata": {},
   "source": [
    "nombre_infected       109\n",
    "nombre_sain          1531\n",
    "nombre_exposed         66\n",
    "nombre_recovered    18294\n",
    "Name: 78, dtype: int64"
   ]
  },
  {
   "cell_type": "markdown",
   "id": "85fedcf9",
   "metadata": {},
   "source": [
    "nombre_infected       111\n",
    "nombre_sain          1548\n",
    "nombre_exposed         75\n",
    "nombre_recovered    18266\n",
    "Name: 79, dtype: int64"
   ]
  },
  {
   "cell_type": "markdown",
   "id": "9f9af4b3",
   "metadata": {},
   "source": [
    "nombre_infected       113\n",
    "nombre_sain          1601\n",
    "nombre_exposed         67\n",
    "nombre_recovered    18219\n",
    "Name: 80, dtype: int64"
   ]
  },
  {
   "cell_type": "markdown",
   "id": "1e5376f3",
   "metadata": {},
   "source": [
    "nombre_infected       122\n",
    "nombre_sain          1634\n",
    "nombre_exposed         59\n",
    "nombre_recovered    18185\n",
    "Name: 81, dtype: int64"
   ]
  },
  {
   "cell_type": "markdown",
   "id": "2fe99c1c",
   "metadata": {},
   "source": [
    "nombre_infected       124\n",
    "nombre_sain          1683\n",
    "nombre_exposed         55\n",
    "nombre_recovered    18138\n",
    "Name: 82, dtype: int64"
   ]
  },
  {
   "cell_type": "markdown",
   "id": "6e2a6029",
   "metadata": {},
   "source": [
    "nombre_infected       121\n",
    "nombre_sain          1719\n",
    "nombre_exposed         62\n",
    "nombre_recovered    18098\n",
    "Name: 83, dtype: int64"
   ]
  },
  {
   "cell_type": "markdown",
   "id": "c3c97d9f",
   "metadata": {},
   "source": [
    "nombre_infected       114\n",
    "nombre_sain          1782\n",
    "nombre_exposed         56\n",
    "nombre_recovered    18048\n",
    "Name: 84, dtype: int64"
   ]
  },
  {
   "cell_type": "markdown",
   "id": "82a28919",
   "metadata": {},
   "source": [
    "nombre_infected       112\n",
    "nombre_sain          1836\n",
    "nombre_exposed         54\n",
    "nombre_recovered    17998\n",
    "Name: 85, dtype: int64"
   ]
  },
  {
   "cell_type": "markdown",
   "id": "8f8ecf71",
   "metadata": {},
   "source": [
    "nombre_infected       111\n",
    "nombre_sain          1903\n",
    "nombre_exposed         54\n",
    "nombre_recovered    17932\n",
    "Name: 86, dtype: int64"
   ]
  },
  {
   "cell_type": "markdown",
   "id": "dbc779cc",
   "metadata": {},
   "source": [
    "nombre_infected       108\n",
    "nombre_sain          1972\n",
    "nombre_exposed         52\n",
    "nombre_recovered    17868\n",
    "Name: 87, dtype: int64"
   ]
  },
  {
   "cell_type": "markdown",
   "id": "ff4ff2e3",
   "metadata": {},
   "source": [
    "nombre_infected       106\n",
    "nombre_sain          2029\n",
    "nombre_exposed         62\n",
    "nombre_recovered    17803\n",
    "Name: 88, dtype: int64"
   ]
  },
  {
   "cell_type": "markdown",
   "id": "2d3ebfc9",
   "metadata": {},
   "source": [
    "nombre_infected       105\n",
    "nombre_sain          2109\n",
    "nombre_exposed         61\n",
    "nombre_recovered    17725\n",
    "Name: 89, dtype: int64"
   ]
  },
  {
   "cell_type": "markdown",
   "id": "4383cb40",
   "metadata": {},
   "source": [
    "nombre_infected       100\n",
    "nombre_sain          2175\n",
    "nombre_exposed         71\n",
    "nombre_recovered    17654\n",
    "Name: 90, dtype: int64"
   ]
  },
  {
   "cell_type": "markdown",
   "id": "e509373b",
   "metadata": {},
   "source": [
    "nombre_infected       102\n",
    "nombre_sain          2263\n",
    "nombre_exposed         67\n",
    "nombre_recovered    17568\n",
    "Name: 91, dtype: int64"
   ]
  },
  {
   "cell_type": "markdown",
   "id": "9e8cbe32",
   "metadata": {},
   "source": [
    "nombre_infected       107\n",
    "nombre_sain          2322\n",
    "nombre_exposed         68\n",
    "nombre_recovered    17503\n",
    "Name: 92, dtype: int64"
   ]
  },
  {
   "cell_type": "markdown",
   "id": "32f01189",
   "metadata": {},
   "source": [
    "nombre_infected       109\n",
    "nombre_sain          2379\n",
    "nombre_exposed         87\n",
    "nombre_recovered    17425\n",
    "Name: 93, dtype: int64"
   ]
  },
  {
   "cell_type": "markdown",
   "id": "1bbc6d8e",
   "metadata": {},
   "source": [
    "nombre_infected       108\n",
    "nombre_sain          2421\n",
    "nombre_exposed         91\n",
    "nombre_recovered    17380\n",
    "Name: 94, dtype: int64"
   ]
  },
  {
   "cell_type": "markdown",
   "id": "44037861",
   "metadata": {},
   "source": [
    "nombre_infected       113\n",
    "nombre_sain          2470\n",
    "nombre_exposed         90\n",
    "nombre_recovered    17327\n",
    "Name: 95, dtype: int64"
   ]
  },
  {
   "cell_type": "markdown",
   "id": "12bf77b2",
   "metadata": {},
   "source": [
    "nombre_infected       122\n",
    "nombre_sain          2506\n",
    "nombre_exposed         88\n",
    "nombre_recovered    17284\n",
    "Name: 96, dtype: int64"
   ]
  },
  {
   "cell_type": "markdown",
   "id": "2f8caad3",
   "metadata": {},
   "source": [
    "nombre_infected       126\n",
    "nombre_sain          2544\n",
    "nombre_exposed         96\n",
    "nombre_recovered    17234\n",
    "Name: 97, dtype: int64"
   ]
  },
  {
   "cell_type": "markdown",
   "id": "8887b7c6",
   "metadata": {},
   "source": [
    "nombre_infected       122\n",
    "nombre_sain          2569\n",
    "nombre_exposed        101\n",
    "nombre_recovered    17208\n",
    "Name: 98, dtype: int64"
   ]
  },
  {
   "cell_type": "markdown",
   "id": "1c0889b7",
   "metadata": {},
   "source": [
    "nombre_infected       106\n",
    "nombre_sain          2617\n",
    "nombre_exposed        105\n",
    "nombre_recovered    17172\n",
    "Name: 99, dtype: int64"
   ]
  },
  {
   "cell_type": "markdown",
   "id": "a27cbf1e",
   "metadata": {},
   "source": [
    "nombre_infected       125\n",
    "nombre_sain          2650\n",
    "nombre_exposed         97\n",
    "nombre_recovered    17128\n",
    "Name: 100, dtype: int64"
   ]
  },
  {
   "cell_type": "markdown",
   "id": "39756324",
   "metadata": {},
   "source": [
    "nombre_infected       127\n",
    "nombre_sain          2698\n",
    "nombre_exposed         93\n",
    "nombre_recovered    17082\n",
    "Name: 101, dtype: int64"
   ]
  },
  {
   "cell_type": "markdown",
   "id": "3411d9d9",
   "metadata": {},
   "source": [
    "nombre_infected       134\n",
    "nombre_sain          2740\n",
    "nombre_exposed         79\n",
    "nombre_recovered    17047\n",
    "Name: 102, dtype: int64"
   ]
  },
  {
   "cell_type": "markdown",
   "id": "d25bf3b1",
   "metadata": {},
   "source": [
    "nombre_infected       132\n",
    "nombre_sain          2758\n",
    "nombre_exposed         92\n",
    "nombre_recovered    17018\n",
    "Name: 103, dtype: int64"
   ]
  },
  {
   "cell_type": "markdown",
   "id": "9dc3b2e2",
   "metadata": {},
   "source": [
    "nombre_infected       135\n",
    "nombre_sain          2783\n",
    "nombre_exposed        101\n",
    "nombre_recovered    16981\n",
    "Name: 104, dtype: int64"
   ]
  },
  {
   "cell_type": "markdown",
   "id": "c4b65713",
   "metadata": {},
   "source": [
    "nombre_infected       140\n",
    "nombre_sain          2806\n",
    "nombre_exposed        107\n",
    "nombre_recovered    16947\n",
    "Name: 105, dtype: int64"
   ]
  },
  {
   "cell_type": "markdown",
   "id": "5cfaa50d",
   "metadata": {},
   "source": [
    "nombre_infected       147\n",
    "nombre_sain          2824\n",
    "nombre_exposed        114\n",
    "nombre_recovered    16915\n",
    "Name: 106, dtype: int64"
   ]
  },
  {
   "cell_type": "markdown",
   "id": "e6208ea3",
   "metadata": {},
   "source": [
    "nombre_infected       152\n",
    "nombre_sain          2849\n",
    "nombre_exposed        126\n",
    "nombre_recovered    16873\n",
    "Name: 107, dtype: int64"
   ]
  },
  {
   "cell_type": "markdown",
   "id": "b1a22acc",
   "metadata": {},
   "source": [
    "nombre_infected       159\n",
    "nombre_sain          2888\n",
    "nombre_exposed        126\n",
    "nombre_recovered    16827\n",
    "Name: 108, dtype: int64"
   ]
  },
  {
   "cell_type": "markdown",
   "id": "d0101dae",
   "metadata": {},
   "source": [
    "nombre_infected       162\n",
    "nombre_sain          2935\n",
    "nombre_exposed        128\n",
    "nombre_recovered    16775\n",
    "Name: 109, dtype: int64"
   ]
  },
  {
   "cell_type": "markdown",
   "id": "ee9d76b2",
   "metadata": {},
   "source": [
    "nombre_infected       169\n",
    "nombre_sain          2951\n",
    "nombre_exposed        143\n",
    "nombre_recovered    16737\n",
    "Name: 110, dtype: int64"
   ]
  },
  {
   "cell_type": "markdown",
   "id": "e7562dac",
   "metadata": {},
   "source": [
    "nombre_infected       179\n",
    "nombre_sain          2982\n",
    "nombre_exposed        140\n",
    "nombre_recovered    16699\n",
    "Name: 111, dtype: int64"
   ]
  },
  {
   "cell_type": "markdown",
   "id": "883b921d",
   "metadata": {},
   "source": [
    "nombre_infected       192\n",
    "nombre_sain          2994\n",
    "nombre_exposed        145\n",
    "nombre_recovered    16669\n",
    "Name: 112, dtype: int64"
   ]
  },
  {
   "cell_type": "markdown",
   "id": "f9aacbba",
   "metadata": {},
   "source": [
    "nombre_infected       198\n",
    "nombre_sain          3029\n",
    "nombre_exposed        144\n",
    "nombre_recovered    16629\n",
    "Name: 113, dtype: int64"
   ]
  },
  {
   "cell_type": "markdown",
   "id": "8d8c2c55",
   "metadata": {},
   "source": [
    "nombre_infected       203\n",
    "nombre_sain          3058\n",
    "nombre_exposed        151\n",
    "nombre_recovered    16588\n",
    "Name: 114, dtype: int64"
   ]
  },
  {
   "cell_type": "markdown",
   "id": "b676d8c4",
   "metadata": {},
   "source": [
    "nombre_infected       210\n",
    "nombre_sain          3082\n",
    "nombre_exposed        155\n",
    "nombre_recovered    16553\n",
    "Name: 115, dtype: int64"
   ]
  },
  {
   "cell_type": "markdown",
   "id": "cb740959",
   "metadata": {},
   "source": [
    "nombre_infected       214\n",
    "nombre_sain          3090\n",
    "nombre_exposed        181\n",
    "nombre_recovered    16515\n",
    "Name: 116, dtype: int64"
   ]
  },
  {
   "cell_type": "markdown",
   "id": "db9e225d",
   "metadata": {},
   "source": [
    "nombre_infected       219\n",
    "nombre_sain          3105\n",
    "nombre_exposed        193\n",
    "nombre_recovered    16483\n",
    "Name: 117, dtype: int64"
   ]
  },
  {
   "cell_type": "markdown",
   "id": "bd2d9fcb",
   "metadata": {},
   "source": [
    "nombre_infected       225\n",
    "nombre_sain          3120\n",
    "nombre_exposed        197\n",
    "nombre_recovered    16458\n",
    "Name: 118, dtype: int64"
   ]
  },
  {
   "cell_type": "markdown",
   "id": "e5159a8c",
   "metadata": {},
   "source": [
    "nombre_infected       234\n",
    "nombre_sain          3129\n",
    "nombre_exposed        214\n",
    "nombre_recovered    16423\n",
    "Name: 119, dtype: int64"
   ]
  },
  {
   "cell_type": "markdown",
   "id": "7acd4110",
   "metadata": {},
   "source": [
    "nombre_infected       248\n",
    "nombre_sain          3124\n",
    "nombre_exposed        238\n",
    "nombre_recovered    16390\n",
    "Name: 120, dtype: int64"
   ]
  },
  {
   "cell_type": "markdown",
   "id": "03d5e32f",
   "metadata": {},
   "source": [
    "nombre_infected       257\n",
    "nombre_sain          3148\n",
    "nombre_exposed        232\n",
    "nombre_recovered    16363\n",
    "Name: 121, dtype: int64"
   ]
  },
  {
   "cell_type": "markdown",
   "id": "85807293",
   "metadata": {},
   "source": [
    "nombre_infected       268\n",
    "nombre_sain          3164\n",
    "nombre_exposed        222\n",
    "nombre_recovered    16346\n",
    "Name: 122, dtype: int64"
   ]
  },
  {
   "cell_type": "markdown",
   "id": "12c4e003",
   "metadata": {},
   "source": [
    "nombre_infected       281\n",
    "nombre_sain          3182\n",
    "nombre_exposed        232\n",
    "nombre_recovered    16305\n",
    "Name: 123, dtype: int64"
   ]
  },
  {
   "cell_type": "markdown",
   "id": "3a619523",
   "metadata": {},
   "source": [
    "nombre_infected       283\n",
    "nombre_sain          3191\n",
    "nombre_exposed        244\n",
    "nombre_recovered    16282\n",
    "Name: 124, dtype: int64"
   ]
  },
  {
   "cell_type": "markdown",
   "id": "ef4e5e8c",
   "metadata": {},
   "source": [
    "nombre_infected       287\n",
    "nombre_sain          3190\n",
    "nombre_exposed        268\n",
    "nombre_recovered    16255\n",
    "Name: 125, dtype: int64"
   ]
  },
  {
   "cell_type": "markdown",
   "id": "c60f131d",
   "metadata": {},
   "source": [
    "nombre_infected       289\n",
    "nombre_sain          3202\n",
    "nombre_exposed        288\n",
    "nombre_recovered    16221\n",
    "Name: 126, dtype: int64"
   ]
  },
  {
   "cell_type": "markdown",
   "id": "d6e03e51",
   "metadata": {},
   "source": [
    "nombre_infected       314\n",
    "nombre_sain          3189\n",
    "nombre_exposed        299\n",
    "nombre_recovered    16198\n",
    "Name: 127, dtype: int64"
   ]
  },
  {
   "cell_type": "markdown",
   "id": "a8c5ab8e",
   "metadata": {},
   "source": [
    "nombre_infected       337\n",
    "nombre_sain          3188\n",
    "nombre_exposed        304\n",
    "nombre_recovered    16171\n",
    "Name: 128, dtype: int64"
   ]
  },
  {
   "cell_type": "markdown",
   "id": "16860638",
   "metadata": {},
   "source": [
    "nombre_infected       362\n",
    "nombre_sain          3161\n",
    "nombre_exposed        332\n",
    "nombre_recovered    16145\n",
    "Name: 129, dtype: int64"
   ]
  },
  {
   "cell_type": "markdown",
   "id": "e4b840e0",
   "metadata": {},
   "source": [
    "nombre_infected       382\n",
    "nombre_sain          3134\n",
    "nombre_exposed        351\n",
    "nombre_recovered    16133\n",
    "Name: 130, dtype: int64"
   ]
  },
  {
   "cell_type": "markdown",
   "id": "faf6efe0",
   "metadata": {},
   "source": [
    "nombre_infected       411\n",
    "nombre_sain          3126\n",
    "nombre_exposed        356\n",
    "nombre_recovered    16107\n",
    "Name: 131, dtype: int64"
   ]
  },
  {
   "cell_type": "markdown",
   "id": "e40ebd43",
   "metadata": {},
   "source": [
    "nombre_infected       444\n",
    "nombre_sain          3079\n",
    "nombre_exposed        373\n",
    "nombre_recovered    16104\n",
    "Name: 132, dtype: int64"
   ]
  },
  {
   "cell_type": "markdown",
   "id": "8199a8ba",
   "metadata": {},
   "source": [
    "nombre_infected       485\n",
    "nombre_sain          3039\n",
    "nombre_exposed        382\n",
    "nombre_recovered    16094\n",
    "Name: 133, dtype: int64"
   ]
  },
  {
   "cell_type": "markdown",
   "id": "e2c8e436",
   "metadata": {},
   "source": [
    "nombre_infected       508\n",
    "nombre_sain          3008\n",
    "nombre_exposed        387\n",
    "nombre_recovered    16097\n",
    "Name: 134, dtype: int64"
   ]
  },
  {
   "cell_type": "markdown",
   "id": "149069e1",
   "metadata": {},
   "source": [
    "nombre_infected       543\n",
    "nombre_sain          2997\n",
    "nombre_exposed        378\n",
    "nombre_recovered    16082\n",
    "Name: 135, dtype: int64"
   ]
  },
  {
   "cell_type": "markdown",
   "id": "f77b3405",
   "metadata": {},
   "source": [
    "nombre_infected       550\n",
    "nombre_sain          2943\n",
    "nombre_exposed        419\n",
    "nombre_recovered    16088\n",
    "Name: 136, dtype: int64"
   ]
  },
  {
   "cell_type": "markdown",
   "id": "88cce2c4",
   "metadata": {},
   "source": [
    "nombre_infected       566\n",
    "nombre_sain          2901\n",
    "nombre_exposed        431\n",
    "nombre_recovered    16102\n",
    "Name: 137, dtype: int64"
   ]
  },
  {
   "cell_type": "markdown",
   "id": "5ea45d3a",
   "metadata": {},
   "source": [
    "nombre_infected       583\n",
    "nombre_sain          2877\n",
    "nombre_exposed        448\n",
    "nombre_recovered    16092\n",
    "Name: 138, dtype: int64"
   ]
  },
  {
   "cell_type": "markdown",
   "id": "e513ba33",
   "metadata": {},
   "source": [
    "nombre_infected       598\n",
    "nombre_sain          2827\n",
    "nombre_exposed        460\n",
    "nombre_recovered    16115\n",
    "Name: 139, dtype: int64"
   ]
  },
  {
   "cell_type": "markdown",
   "id": "27f57bb4",
   "metadata": {},
   "source": [
    "nombre_infected       607\n",
    "nombre_sain          2790\n",
    "nombre_exposed        470\n",
    "nombre_recovered    16133\n",
    "Name: 140, dtype: int64"
   ]
  },
  {
   "cell_type": "markdown",
   "id": "abb53870",
   "metadata": {},
   "source": [
    "nombre_infected       629\n",
    "nombre_sain          2743\n",
    "nombre_exposed        495\n",
    "nombre_recovered    16133\n",
    "Name: 141, dtype: int64"
   ]
  },
  {
   "cell_type": "markdown",
   "id": "b05ed72a",
   "metadata": {},
   "source": [
    "nombre_infected       667\n",
    "nombre_sain          2699\n",
    "nombre_exposed        488\n",
    "nombre_recovered    16146\n",
    "Name: 142, dtype: int64"
   ]
  },
  {
   "cell_type": "markdown",
   "id": "94488ccd",
   "metadata": {},
   "source": [
    "nombre_infected       678\n",
    "nombre_sain          2644\n",
    "nombre_exposed        499\n",
    "nombre_recovered    16179\n",
    "Name: 143, dtype: int64"
   ]
  },
  {
   "cell_type": "markdown",
   "id": "06c2e3b0",
   "metadata": {},
   "source": [
    "nombre_infected       700\n",
    "nombre_sain          2608\n",
    "nombre_exposed        500\n",
    "nombre_recovered    16192\n",
    "Name: 144, dtype: int64"
   ]
  },
  {
   "cell_type": "markdown",
   "id": "38559397",
   "metadata": {},
   "source": [
    "nombre_infected       720\n",
    "nombre_sain          2561\n",
    "nombre_exposed        504\n",
    "nombre_recovered    16215\n",
    "Name: 145, dtype: int64"
   ]
  },
  {
   "cell_type": "markdown",
   "id": "db1618a5",
   "metadata": {},
   "source": [
    "nombre_infected       726\n",
    "nombre_sain          2500\n",
    "nombre_exposed        518\n",
    "nombre_recovered    16256\n",
    "Name: 146, dtype: int64"
   ]
  },
  {
   "cell_type": "markdown",
   "id": "4d304b50",
   "metadata": {},
   "source": [
    "nombre_infected       744\n",
    "nombre_sain          2466\n",
    "nombre_exposed        500\n",
    "nombre_recovered    16290\n",
    "Name: 147, dtype: int64"
   ]
  },
  {
   "cell_type": "markdown",
   "id": "d5bf1bfb",
   "metadata": {},
   "source": [
    "nombre_infected       756\n",
    "nombre_sain          2399\n",
    "nombre_exposed        520\n",
    "nombre_recovered    16325\n",
    "Name: 148, dtype: int64"
   ]
  },
  {
   "cell_type": "markdown",
   "id": "5bf036eb",
   "metadata": {},
   "source": [
    "nombre_infected       759\n",
    "nombre_sain          2334\n",
    "nombre_exposed        521\n",
    "nombre_recovered    16386\n",
    "Name: 149, dtype: int64"
   ]
  },
  {
   "cell_type": "markdown",
   "id": "bce54420",
   "metadata": {},
   "source": [
    "nombre_infected       770\n",
    "nombre_sain          2278\n",
    "nombre_exposed        538\n",
    "nombre_recovered    16414\n",
    "Name: 150, dtype: int64"
   ]
  },
  {
   "cell_type": "markdown",
   "id": "8f738525",
   "metadata": {},
   "source": [
    "nombre_infected       804\n",
    "nombre_sain          2225\n",
    "nombre_exposed        555\n",
    "nombre_recovered    16416\n",
    "Name: 151, dtype: int64"
   ]
  },
  {
   "cell_type": "markdown",
   "id": "adb7e25f",
   "metadata": {},
   "source": [
    "nombre_infected       849\n",
    "nombre_sain          2201\n",
    "nombre_exposed        534\n",
    "nombre_recovered    16416\n",
    "Name: 152, dtype: int64"
   ]
  },
  {
   "cell_type": "markdown",
   "id": "c5b1b689",
   "metadata": {},
   "source": [
    "nombre_infected       849\n",
    "nombre_sain          2169\n",
    "nombre_exposed        542\n",
    "nombre_recovered    16440\n",
    "Name: 153, dtype: int64"
   ]
  },
  {
   "cell_type": "markdown",
   "id": "e7fd5b60",
   "metadata": {},
   "source": [
    "nombre_infected       873\n",
    "nombre_sain          2140\n",
    "nombre_exposed        545\n",
    "nombre_recovered    16442\n",
    "Name: 154, dtype: int64"
   ]
  },
  {
   "cell_type": "markdown",
   "id": "fc164377",
   "metadata": {},
   "source": [
    "nombre_infected       881\n",
    "nombre_sain          2109\n",
    "nombre_exposed        547\n",
    "nombre_recovered    16463\n",
    "Name: 155, dtype: int64"
   ]
  },
  {
   "cell_type": "markdown",
   "id": "8acca36e",
   "metadata": {},
   "source": [
    "nombre_infected       876\n",
    "nombre_sain          2105\n",
    "nombre_exposed        552\n",
    "nombre_recovered    16467\n",
    "Name: 156, dtype: int64"
   ]
  },
  {
   "cell_type": "markdown",
   "id": "4ddccdde",
   "metadata": {},
   "source": [
    "nombre_infected       894\n",
    "nombre_sain          2116\n",
    "nombre_exposed        541\n",
    "nombre_recovered    16449\n",
    "Name: 157, dtype: int64"
   ]
  },
  {
   "cell_type": "markdown",
   "id": "98aabf5d",
   "metadata": {},
   "source": [
    "nombre_infected       900\n",
    "nombre_sain          2110\n",
    "nombre_exposed        555\n",
    "nombre_recovered    16435\n",
    "Name: 158, dtype: int64"
   ]
  },
  {
   "cell_type": "markdown",
   "id": "5aa75b5a",
   "metadata": {},
   "source": [
    "nombre_infected       919\n",
    "nombre_sain          2114\n",
    "nombre_exposed        553\n",
    "nombre_recovered    16414\n",
    "Name: 159, dtype: int64"
   ]
  },
  {
   "cell_type": "markdown",
   "id": "b4a434f4",
   "metadata": {},
   "source": [
    "nombre_infected       930\n",
    "nombre_sain          2115\n",
    "nombre_exposed        557\n",
    "nombre_recovered    16398\n",
    "Name: 160, dtype: int64"
   ]
  },
  {
   "cell_type": "markdown",
   "id": "4e4dcb02",
   "metadata": {},
   "source": [
    "nombre_infected       954\n",
    "nombre_sain          2106\n",
    "nombre_exposed        549\n",
    "nombre_recovered    16391\n",
    "Name: 161, dtype: int64"
   ]
  },
  {
   "cell_type": "markdown",
   "id": "450532d3",
   "metadata": {},
   "source": [
    "nombre_infected       947\n",
    "nombre_sain          2088\n",
    "nombre_exposed        553\n",
    "nombre_recovered    16412\n",
    "Name: 162, dtype: int64"
   ]
  },
  {
   "cell_type": "markdown",
   "id": "13e69229",
   "metadata": {},
   "source": [
    "nombre_infected       940\n",
    "nombre_sain          2103\n",
    "nombre_exposed        548\n",
    "nombre_recovered    16409\n",
    "Name: 163, dtype: int64"
   ]
  },
  {
   "cell_type": "markdown",
   "id": "03f373bb",
   "metadata": {},
   "source": [
    "nombre_infected       937\n",
    "nombre_sain          2073\n",
    "nombre_exposed        573\n",
    "nombre_recovered    16417\n",
    "Name: 164, dtype: int64"
   ]
  },
  {
   "cell_type": "markdown",
   "id": "ca51f453",
   "metadata": {},
   "source": [
    "nombre_infected       953\n",
    "nombre_sain          2052\n",
    "nombre_exposed        553\n",
    "nombre_recovered    16442\n",
    "Name: 165, dtype: int64"
   ]
  },
  {
   "cell_type": "markdown",
   "id": "2d39a10e",
   "metadata": {},
   "source": [
    "nombre_infected       977\n",
    "nombre_sain          2011\n",
    "nombre_exposed        562\n",
    "nombre_recovered    16450\n",
    "Name: 166, dtype: int64"
   ]
  },
  {
   "cell_type": "markdown",
   "id": "e2c5b47f",
   "metadata": {},
   "source": [
    "nombre_infected       997\n",
    "nombre_sain          1993\n",
    "nombre_exposed        550\n",
    "nombre_recovered    16460\n",
    "Name: 167, dtype: int64"
   ]
  },
  {
   "cell_type": "markdown",
   "id": "49e4dd3e",
   "metadata": {},
   "source": [
    "nombre_infected       995\n",
    "nombre_sain          1982\n",
    "nombre_exposed        541\n",
    "nombre_recovered    16482\n",
    "Name: 168, dtype: int64"
   ]
  },
  {
   "cell_type": "markdown",
   "id": "8e928da0",
   "metadata": {},
   "source": [
    "nombre_infected       993\n",
    "nombre_sain          1946\n",
    "nombre_exposed        540\n",
    "nombre_recovered    16521\n",
    "Name: 169, dtype: int64"
   ]
  },
  {
   "cell_type": "markdown",
   "id": "ac5fc8b4",
   "metadata": {},
   "source": [
    "nombre_infected       990\n",
    "nombre_sain          1911\n",
    "nombre_exposed        541\n",
    "nombre_recovered    16558\n",
    "Name: 170, dtype: int64"
   ]
  },
  {
   "cell_type": "markdown",
   "id": "0f9fa6eb",
   "metadata": {},
   "source": [
    "nombre_infected       971\n",
    "nombre_sain          1867\n",
    "nombre_exposed        557\n",
    "nombre_recovered    16605\n",
    "Name: 171, dtype: int64"
   ]
  },
  {
   "cell_type": "markdown",
   "id": "bb4d3a16",
   "metadata": {},
   "source": [
    "nombre_infected       969\n",
    "nombre_sain          1856\n",
    "nombre_exposed        557\n",
    "nombre_recovered    16618\n",
    "Name: 172, dtype: int64"
   ]
  },
  {
   "cell_type": "markdown",
   "id": "b488161a",
   "metadata": {},
   "source": [
    "nombre_infected       970\n",
    "nombre_sain          1843\n",
    "nombre_exposed        542\n",
    "nombre_recovered    16645\n",
    "Name: 173, dtype: int64"
   ]
  },
  {
   "cell_type": "markdown",
   "id": "6cc5b7dc",
   "metadata": {},
   "source": [
    "nombre_infected       970\n",
    "nombre_sain          1845\n",
    "nombre_exposed        533\n",
    "nombre_recovered    16652\n",
    "Name: 174, dtype: int64"
   ]
  },
  {
   "cell_type": "markdown",
   "id": "a85e755a",
   "metadata": {},
   "source": [
    "nombre_infected       946\n",
    "nombre_sain          1802\n",
    "nombre_exposed        553\n",
    "nombre_recovered    16699\n",
    "Name: 175, dtype: int64"
   ]
  },
  {
   "cell_type": "markdown",
   "id": "8fdadabc",
   "metadata": {},
   "source": [
    "nombre_infected       936\n",
    "nombre_sain          1767\n",
    "nombre_exposed        549\n",
    "nombre_recovered    16748\n",
    "Name: 176, dtype: int64"
   ]
  },
  {
   "cell_type": "markdown",
   "id": "a55a548e",
   "metadata": {},
   "source": [
    "nombre_infected       935\n",
    "nombre_sain          1779\n",
    "nombre_exposed        530\n",
    "nombre_recovered    16756\n",
    "Name: 177, dtype: int64"
   ]
  },
  {
   "cell_type": "markdown",
   "id": "c01290be",
   "metadata": {},
   "source": [
    "nombre_infected       938\n",
    "nombre_sain          1779\n",
    "nombre_exposed        495\n",
    "nombre_recovered    16788\n",
    "Name: 178, dtype: int64"
   ]
  },
  {
   "cell_type": "markdown",
   "id": "3117fa67",
   "metadata": {},
   "source": [
    "nombre_infected       944\n",
    "nombre_sain          1746\n",
    "nombre_exposed        488\n",
    "nombre_recovered    16822\n",
    "Name: 179, dtype: int64"
   ]
  },
  {
   "cell_type": "markdown",
   "id": "06024ac0",
   "metadata": {},
   "source": [
    "nombre_infected       928\n",
    "nombre_sain          1741\n",
    "nombre_exposed        493\n",
    "nombre_recovered    16838\n",
    "Name: 180, dtype: int64"
   ]
  },
  {
   "cell_type": "markdown",
   "id": "de7ce58c",
   "metadata": {},
   "source": [
    "nombre_infected       896\n",
    "nombre_sain          1725\n",
    "nombre_exposed        487\n",
    "nombre_recovered    16892\n",
    "Name: 181, dtype: int64"
   ]
  },
  {
   "cell_type": "markdown",
   "id": "28412f8a",
   "metadata": {},
   "source": [
    "nombre_infected       879\n",
    "nombre_sain          1708\n",
    "nombre_exposed        480\n",
    "nombre_recovered    16933\n",
    "Name: 182, dtype: int64"
   ]
  },
  {
   "cell_type": "markdown",
   "id": "a16f6d43",
   "metadata": {},
   "source": [
    "nombre_infected       857\n",
    "nombre_sain          1702\n",
    "nombre_exposed        465\n",
    "nombre_recovered    16976\n",
    "Name: 183, dtype: int64"
   ]
  },
  {
   "cell_type": "markdown",
   "id": "19e924d1",
   "metadata": {},
   "source": [
    "nombre_infected       824\n",
    "nombre_sain          1705\n",
    "nombre_exposed        454\n",
    "nombre_recovered    17017\n",
    "Name: 184, dtype: int64"
   ]
  },
  {
   "cell_type": "markdown",
   "id": "45bb0b54",
   "metadata": {},
   "source": [
    "nombre_infected       834\n",
    "nombre_sain          1689\n",
    "nombre_exposed        437\n",
    "nombre_recovered    17040\n",
    "Name: 185, dtype: int64"
   ]
  },
  {
   "cell_type": "markdown",
   "id": "b66b6938",
   "metadata": {},
   "source": [
    "nombre_infected       809\n",
    "nombre_sain          1681\n",
    "nombre_exposed        444\n",
    "nombre_recovered    17066\n",
    "Name: 186, dtype: int64"
   ]
  },
  {
   "cell_type": "markdown",
   "id": "63ce0f92",
   "metadata": {},
   "source": [
    "nombre_infected       804\n",
    "nombre_sain          1661\n",
    "nombre_exposed        449\n",
    "nombre_recovered    17086\n",
    "Name: 187, dtype: int64"
   ]
  },
  {
   "cell_type": "markdown",
   "id": "641f6afc",
   "metadata": {},
   "source": [
    "nombre_infected       798\n",
    "nombre_sain          1643\n",
    "nombre_exposed        433\n",
    "nombre_recovered    17126\n",
    "Name: 188, dtype: int64"
   ]
  },
  {
   "cell_type": "markdown",
   "id": "a72d44a4",
   "metadata": {},
   "source": [
    "nombre_infected       797\n",
    "nombre_sain          1630\n",
    "nombre_exposed        424\n",
    "nombre_recovered    17149\n",
    "Name: 189, dtype: int64"
   ]
  },
  {
   "cell_type": "markdown",
   "id": "316eb482",
   "metadata": {},
   "source": [
    "nombre_infected       792\n",
    "nombre_sain          1651\n",
    "nombre_exposed        393\n",
    "nombre_recovered    17164\n",
    "Name: 190, dtype: int64"
   ]
  },
  {
   "cell_type": "markdown",
   "id": "5be8d916",
   "metadata": {},
   "source": [
    "nombre_infected       790\n",
    "nombre_sain          1631\n",
    "nombre_exposed        380\n",
    "nombre_recovered    17199\n",
    "Name: 191, dtype: int64"
   ]
  },
  {
   "cell_type": "markdown",
   "id": "d2603f81",
   "metadata": {},
   "source": [
    "nombre_infected       750\n",
    "nombre_sain          1616\n",
    "nombre_exposed        391\n",
    "nombre_recovered    17243\n",
    "Name: 192, dtype: int64"
   ]
  },
  {
   "cell_type": "markdown",
   "id": "c84c81e5",
   "metadata": {},
   "source": [
    "nombre_infected       730\n",
    "nombre_sain          1625\n",
    "nombre_exposed        392\n",
    "nombre_recovered    17253\n",
    "Name: 193, dtype: int64"
   ]
  },
  {
   "cell_type": "markdown",
   "id": "a541ac27",
   "metadata": {},
   "source": [
    "nombre_infected       724\n",
    "nombre_sain          1627\n",
    "nombre_exposed        371\n",
    "nombre_recovered    17278\n",
    "Name: 194, dtype: int64"
   ]
  },
  {
   "cell_type": "markdown",
   "id": "76b8b213",
   "metadata": {},
   "source": [
    "nombre_infected       705\n",
    "nombre_sain          1623\n",
    "nombre_exposed        358\n",
    "nombre_recovered    17314\n",
    "Name: 195, dtype: int64"
   ]
  },
  {
   "cell_type": "markdown",
   "id": "e57233c8",
   "metadata": {},
   "source": [
    "nombre_infected       701\n",
    "nombre_sain          1619\n",
    "nombre_exposed        352\n",
    "nombre_recovered    17328\n",
    "Name: 196, dtype: int64"
   ]
  },
  {
   "cell_type": "markdown",
   "id": "c46a7b4c",
   "metadata": {},
   "source": [
    "nombre_infected       681\n",
    "nombre_sain          1611\n",
    "nombre_exposed        350\n",
    "nombre_recovered    17358\n",
    "Name: 197, dtype: int64"
   ]
  },
  {
   "cell_type": "markdown",
   "id": "229ce519",
   "metadata": {},
   "source": [
    "nombre_infected       652\n",
    "nombre_sain          1617\n",
    "nombre_exposed        349\n",
    "nombre_recovered    17382\n",
    "Name: 198, dtype: int64"
   ]
  },
  {
   "cell_type": "markdown",
   "id": "b93af8a9",
   "metadata": {},
   "source": [
    "nombre_infected       622\n",
    "nombre_sain          1643\n",
    "nombre_exposed        332\n",
    "nombre_recovered    17403\n",
    "Name: 199, dtype: int64"
   ]
  },
  {
   "cell_type": "markdown",
   "id": "0806a1f9",
   "metadata": {},
   "source": [
    "nombre_infected       622\n",
    "nombre_sain          1647\n",
    "nombre_exposed        311\n",
    "nombre_recovered    17420\n",
    "Name: 200, dtype: int64"
   ]
  },
  {
   "cell_type": "markdown",
   "id": "28df3f2e",
   "metadata": {},
   "source": [
    "nombre_infected       600\n",
    "nombre_sain          1655\n",
    "nombre_exposed        315\n",
    "nombre_recovered    17430\n",
    "Name: 201, dtype: int64"
   ]
  },
  {
   "cell_type": "markdown",
   "id": "ab0daac6",
   "metadata": {},
   "source": [
    "nombre_infected       588\n",
    "nombre_sain          1686\n",
    "nombre_exposed        313\n",
    "nombre_recovered    17413\n",
    "Name: 202, dtype: int64"
   ]
  },
  {
   "cell_type": "markdown",
   "id": "ddcc4b04",
   "metadata": {},
   "source": [
    "nombre_infected       566\n",
    "nombre_sain          1700\n",
    "nombre_exposed        314\n",
    "nombre_recovered    17420\n",
    "Name: 203, dtype: int64"
   ]
  },
  {
   "cell_type": "markdown",
   "id": "623f5175",
   "metadata": {},
   "source": [
    "nombre_infected       573\n",
    "nombre_sain          1725\n",
    "nombre_exposed        303\n",
    "nombre_recovered    17399\n",
    "Name: 204, dtype: int64"
   ]
  },
  {
   "cell_type": "markdown",
   "id": "41fbd1ca",
   "metadata": {},
   "source": [
    "nombre_infected       558\n",
    "nombre_sain          1730\n",
    "nombre_exposed        298\n",
    "nombre_recovered    17414\n",
    "Name: 205, dtype: int64"
   ]
  },
  {
   "cell_type": "markdown",
   "id": "0d93e21f",
   "metadata": {},
   "source": [
    "nombre_infected       555\n",
    "nombre_sain          1769\n",
    "nombre_exposed        279\n",
    "nombre_recovered    17397\n",
    "Name: 206, dtype: int64"
   ]
  },
  {
   "cell_type": "markdown",
   "id": "f6ce4e1e",
   "metadata": {},
   "source": [
    "nombre_infected       545\n",
    "nombre_sain          1791\n",
    "nombre_exposed        268\n",
    "nombre_recovered    17396\n",
    "Name: 207, dtype: int64"
   ]
  },
  {
   "cell_type": "markdown",
   "id": "9ba93ddf",
   "metadata": {},
   "source": [
    "nombre_infected       526\n",
    "nombre_sain          1832\n",
    "nombre_exposed        269\n",
    "nombre_recovered    17373\n",
    "Name: 208, dtype: int64"
   ]
  },
  {
   "cell_type": "markdown",
   "id": "60a22370",
   "metadata": {},
   "source": [
    "nombre_infected       514\n",
    "nombre_sain          1839\n",
    "nombre_exposed        263\n",
    "nombre_recovered    17384\n",
    "Name: 209, dtype: int64"
   ]
  },
  {
   "cell_type": "markdown",
   "id": "8e0fbe0e",
   "metadata": {},
   "source": [
    "nombre_infected       515\n",
    "nombre_sain          1864\n",
    "nombre_exposed        269\n",
    "nombre_recovered    17352\n",
    "Name: 210, dtype: int64"
   ]
  },
  {
   "cell_type": "markdown",
   "id": "ab8c09c0",
   "metadata": {},
   "source": [
    "nombre_infected       498\n",
    "nombre_sain          1886\n",
    "nombre_exposed        275\n",
    "nombre_recovered    17341\n",
    "Name: 211, dtype: int64"
   ]
  },
  {
   "cell_type": "markdown",
   "id": "ab73a196",
   "metadata": {},
   "source": [
    "nombre_infected       489\n",
    "nombre_sain          1893\n",
    "nombre_exposed        289\n",
    "nombre_recovered    17329\n",
    "Name: 212, dtype: int64"
   ]
  },
  {
   "cell_type": "markdown",
   "id": "16193fa4",
   "metadata": {},
   "source": [
    "nombre_infected       483\n",
    "nombre_sain          1924\n",
    "nombre_exposed        288\n",
    "nombre_recovered    17305\n",
    "Name: 213, dtype: int64"
   ]
  },
  {
   "cell_type": "markdown",
   "id": "5e39909a",
   "metadata": {},
   "source": [
    "nombre_infected       481\n",
    "nombre_sain          1961\n",
    "nombre_exposed        283\n",
    "nombre_recovered    17275\n",
    "Name: 214, dtype: int64"
   ]
  },
  {
   "cell_type": "markdown",
   "id": "1c049ce0",
   "metadata": {},
   "source": [
    "nombre_infected       486\n",
    "nombre_sain          1976\n",
    "nombre_exposed        284\n",
    "nombre_recovered    17254\n",
    "Name: 215, dtype: int64"
   ]
  },
  {
   "cell_type": "markdown",
   "id": "0bc9c538",
   "metadata": {},
   "source": [
    "nombre_infected       482\n",
    "nombre_sain          2011\n",
    "nombre_exposed        289\n",
    "nombre_recovered    17218\n",
    "Name: 216, dtype: int64"
   ]
  },
  {
   "cell_type": "markdown",
   "id": "e0d1d53c",
   "metadata": {},
   "source": [
    "nombre_infected       489\n",
    "nombre_sain          2030\n",
    "nombre_exposed        293\n",
    "nombre_recovered    17188\n",
    "Name: 217, dtype: int64"
   ]
  },
  {
   "cell_type": "markdown",
   "id": "075fafa0",
   "metadata": {},
   "source": [
    "nombre_infected       487\n",
    "nombre_sain          2054\n",
    "nombre_exposed        300\n",
    "nombre_recovered    17159\n",
    "Name: 218, dtype: int64"
   ]
  },
  {
   "cell_type": "markdown",
   "id": "1edabd4f",
   "metadata": {},
   "source": [
    "nombre_infected       511\n",
    "nombre_sain          2078\n",
    "nombre_exposed        297\n",
    "nombre_recovered    17114\n",
    "Name: 219, dtype: int64"
   ]
  },
  {
   "cell_type": "markdown",
   "id": "4b05cbd1",
   "metadata": {},
   "source": [
    "nombre_infected       522\n",
    "nombre_sain          2098\n",
    "nombre_exposed        280\n",
    "nombre_recovered    17100\n",
    "Name: 220, dtype: int64"
   ]
  },
  {
   "cell_type": "markdown",
   "id": "5f6f3dbb",
   "metadata": {},
   "source": [
    "nombre_infected       501\n",
    "nombre_sain          2120\n",
    "nombre_exposed        295\n",
    "nombre_recovered    17084\n",
    "Name: 221, dtype: int64"
   ]
  },
  {
   "cell_type": "markdown",
   "id": "515e25af",
   "metadata": {},
   "source": [
    "nombre_infected       510\n",
    "nombre_sain          2152\n",
    "nombre_exposed        286\n",
    "nombre_recovered    17052\n",
    "Name: 222, dtype: int64"
   ]
  },
  {
   "cell_type": "markdown",
   "id": "8424f494",
   "metadata": {},
   "source": [
    "nombre_infected       515\n",
    "nombre_sain          2171\n",
    "nombre_exposed        285\n",
    "nombre_recovered    17029\n",
    "Name: 223, dtype: int64"
   ]
  },
  {
   "cell_type": "markdown",
   "id": "d6b89e29",
   "metadata": {},
   "source": [
    "nombre_infected       501\n",
    "nombre_sain          2185\n",
    "nombre_exposed        286\n",
    "nombre_recovered    17028\n",
    "Name: 224, dtype: int64"
   ]
  },
  {
   "cell_type": "markdown",
   "id": "3c152c3d",
   "metadata": {},
   "source": [
    "nombre_infected       486\n",
    "nombre_sain          2207\n",
    "nombre_exposed        302\n",
    "nombre_recovered    17005\n",
    "Name: 225, dtype: int64"
   ]
  },
  {
   "cell_type": "markdown",
   "id": "d37f973a",
   "metadata": {},
   "source": [
    "nombre_infected       486\n",
    "nombre_sain          2235\n",
    "nombre_exposed        294\n",
    "nombre_recovered    16985\n",
    "Name: 226, dtype: int64"
   ]
  },
  {
   "cell_type": "markdown",
   "id": "e466eb6d",
   "metadata": {},
   "source": [
    "nombre_infected       489\n",
    "nombre_sain          2272\n",
    "nombre_exposed        277\n",
    "nombre_recovered    16962\n",
    "Name: 227, dtype: int64"
   ]
  },
  {
   "cell_type": "markdown",
   "id": "86e34888",
   "metadata": {},
   "source": [
    "nombre_infected       501\n",
    "nombre_sain          2282\n",
    "nombre_exposed        280\n",
    "nombre_recovered    16937\n",
    "Name: 228, dtype: int64"
   ]
  },
  {
   "cell_type": "markdown",
   "id": "a9b41aea",
   "metadata": {},
   "source": [
    "nombre_infected       490\n",
    "nombre_sain          2295\n",
    "nombre_exposed        292\n",
    "nombre_recovered    16923\n",
    "Name: 229, dtype: int64"
   ]
  },
  {
   "cell_type": "markdown",
   "id": "b0aeb6ba",
   "metadata": {},
   "source": [
    "nombre_infected       480\n",
    "nombre_sain          2332\n",
    "nombre_exposed        278\n",
    "nombre_recovered    16910\n",
    "Name: 230, dtype: int64"
   ]
  },
  {
   "cell_type": "markdown",
   "id": "952a7f94",
   "metadata": {},
   "source": [
    "nombre_infected       478\n",
    "nombre_sain          2354\n",
    "nombre_exposed        275\n",
    "nombre_recovered    16893\n",
    "Name: 231, dtype: int64"
   ]
  },
  {
   "cell_type": "markdown",
   "id": "a6122816",
   "metadata": {},
   "source": [
    "nombre_infected       472\n",
    "nombre_sain          2379\n",
    "nombre_exposed        277\n",
    "nombre_recovered    16872\n",
    "Name: 232, dtype: int64"
   ]
  },
  {
   "cell_type": "markdown",
   "id": "ab49d70d",
   "metadata": {},
   "source": [
    "nombre_infected       475\n",
    "nombre_sain          2380\n",
    "nombre_exposed        299\n",
    "nombre_recovered    16846\n",
    "Name: 233, dtype: int64"
   ]
  },
  {
   "cell_type": "markdown",
   "id": "2cb660f9",
   "metadata": {},
   "source": [
    "nombre_infected       490\n",
    "nombre_sain          2366\n",
    "nombre_exposed        320\n",
    "nombre_recovered    16824\n",
    "Name: 234, dtype: int64"
   ]
  },
  {
   "cell_type": "markdown",
   "id": "e8f519c2",
   "metadata": {},
   "source": [
    "nombre_infected       479\n",
    "nombre_sain          2365\n",
    "nombre_exposed        342\n",
    "nombre_recovered    16814\n",
    "Name: 235, dtype: int64"
   ]
  },
  {
   "cell_type": "markdown",
   "id": "7c1dd58c",
   "metadata": {},
   "source": [
    "nombre_infected       515\n",
    "nombre_sain          2380\n",
    "nombre_exposed        314\n",
    "nombre_recovered    16791\n",
    "Name: 236, dtype: int64"
   ]
  },
  {
   "cell_type": "markdown",
   "id": "b28fe8f7",
   "metadata": {},
   "source": [
    "nombre_infected       528\n",
    "nombre_sain          2354\n",
    "nombre_exposed        324\n",
    "nombre_recovered    16794\n",
    "Name: 237, dtype: int64"
   ]
  },
  {
   "cell_type": "markdown",
   "id": "3f612246",
   "metadata": {},
   "source": [
    "nombre_infected       517\n",
    "nombre_sain          2379\n",
    "nombre_exposed        321\n",
    "nombre_recovered    16783\n",
    "Name: 238, dtype: int64"
   ]
  },
  {
   "cell_type": "markdown",
   "id": "3d5958db",
   "metadata": {},
   "source": [
    "nombre_infected       509\n",
    "nombre_sain          2374\n",
    "nombre_exposed        350\n",
    "nombre_recovered    16767\n",
    "Name: 239, dtype: int64"
   ]
  },
  {
   "cell_type": "markdown",
   "id": "f7208290",
   "metadata": {},
   "source": [
    "nombre_infected       510\n",
    "nombre_sain          2380\n",
    "nombre_exposed        361\n",
    "nombre_recovered    16749\n",
    "Name: 240, dtype: int64"
   ]
  },
  {
   "cell_type": "markdown",
   "id": "a3e36496",
   "metadata": {},
   "source": [
    "nombre_infected       532\n",
    "nombre_sain          2405\n",
    "nombre_exposed        359\n",
    "nombre_recovered    16704\n",
    "Name: 241, dtype: int64"
   ]
  },
  {
   "cell_type": "markdown",
   "id": "b2576dd2",
   "metadata": {},
   "source": [
    "nombre_infected       530\n",
    "nombre_sain          2418\n",
    "nombre_exposed        365\n",
    "nombre_recovered    16687\n",
    "Name: 242, dtype: int64"
   ]
  },
  {
   "cell_type": "markdown",
   "id": "0272c496",
   "metadata": {},
   "source": [
    "nombre_infected       538\n",
    "nombre_sain          2436\n",
    "nombre_exposed        347\n",
    "nombre_recovered    16679\n",
    "Name: 243, dtype: int64"
   ]
  },
  {
   "cell_type": "markdown",
   "id": "22882c77",
   "metadata": {},
   "source": [
    "nombre_infected       535\n",
    "nombre_sain          2456\n",
    "nombre_exposed        347\n",
    "nombre_recovered    16662\n",
    "Name: 244, dtype: int64"
   ]
  },
  {
   "cell_type": "markdown",
   "id": "e77b4d09",
   "metadata": {},
   "source": [
    "nombre_infected       538\n",
    "nombre_sain          2465\n",
    "nombre_exposed        345\n",
    "nombre_recovered    16652\n",
    "Name: 245, dtype: int64"
   ]
  },
  {
   "cell_type": "markdown",
   "id": "30deb20c",
   "metadata": {},
   "source": [
    "nombre_infected       538\n",
    "nombre_sain          2498\n",
    "nombre_exposed        337\n",
    "nombre_recovered    16627\n",
    "Name: 246, dtype: int64"
   ]
  },
  {
   "cell_type": "markdown",
   "id": "d03e98af",
   "metadata": {},
   "source": [
    "nombre_infected       545\n",
    "nombre_sain          2525\n",
    "nombre_exposed        338\n",
    "nombre_recovered    16592\n",
    "Name: 247, dtype: int64"
   ]
  },
  {
   "cell_type": "markdown",
   "id": "0a265cd9",
   "metadata": {},
   "source": [
    "nombre_infected       565\n",
    "nombre_sain          2547\n",
    "nombre_exposed        335\n",
    "nombre_recovered    16553\n",
    "Name: 248, dtype: int64"
   ]
  },
  {
   "cell_type": "markdown",
   "id": "3be2ef12",
   "metadata": {},
   "source": [
    "nombre_infected       560\n",
    "nombre_sain          2569\n",
    "nombre_exposed        344\n",
    "nombre_recovered    16527\n",
    "Name: 249, dtype: int64"
   ]
  },
  {
   "cell_type": "markdown",
   "id": "95d56152",
   "metadata": {},
   "source": [
    "nombre_infected       566\n",
    "nombre_sain          2586\n",
    "nombre_exposed        358\n",
    "nombre_recovered    16490\n",
    "Name: 250, dtype: int64"
   ]
  },
  {
   "cell_type": "markdown",
   "id": "1b1608f5",
   "metadata": {},
   "source": [
    "nombre_infected       562\n",
    "nombre_sain          2605\n",
    "nombre_exposed        385\n",
    "nombre_recovered    16448\n",
    "Name: 251, dtype: int64"
   ]
  },
  {
   "cell_type": "markdown",
   "id": "394af0cc",
   "metadata": {},
   "source": [
    "nombre_infected       557\n",
    "nombre_sain          2618\n",
    "nombre_exposed        398\n",
    "nombre_recovered    16427\n",
    "Name: 252, dtype: int64"
   ]
  },
  {
   "cell_type": "markdown",
   "id": "712f282c",
   "metadata": {},
   "source": [
    "nombre_infected       581\n",
    "nombre_sain          2599\n",
    "nombre_exposed        413\n",
    "nombre_recovered    16407\n",
    "Name: 253, dtype: int64"
   ]
  },
  {
   "cell_type": "markdown",
   "id": "b06aed59",
   "metadata": {},
   "source": [
    "nombre_infected       596\n",
    "nombre_sain          2616\n",
    "nombre_exposed        400\n",
    "nombre_recovered    16388\n",
    "Name: 254, dtype: int64"
   ]
  },
  {
   "cell_type": "markdown",
   "id": "a3c6a743",
   "metadata": {},
   "source": [
    "nombre_infected       602\n",
    "nombre_sain          2603\n",
    "nombre_exposed        421\n",
    "nombre_recovered    16374\n",
    "Name: 255, dtype: int64"
   ]
  },
  {
   "cell_type": "markdown",
   "id": "53e485ec",
   "metadata": {},
   "source": [
    "nombre_infected       609\n",
    "nombre_sain          2600\n",
    "nombre_exposed        439\n",
    "nombre_recovered    16352\n",
    "Name: 256, dtype: int64"
   ]
  },
  {
   "cell_type": "markdown",
   "id": "e8a36260",
   "metadata": {},
   "source": [
    "nombre_infected       618\n",
    "nombre_sain          2586\n",
    "nombre_exposed        457\n",
    "nombre_recovered    16339\n",
    "Name: 257, dtype: int64"
   ]
  },
  {
   "cell_type": "markdown",
   "id": "6d2ce792",
   "metadata": {},
   "source": [
    "nombre_infected       645\n",
    "nombre_sain          2568\n",
    "nombre_exposed        484\n",
    "nombre_recovered    16303\n",
    "Name: 258, dtype: int64"
   ]
  },
  {
   "cell_type": "markdown",
   "id": "e43b40a3",
   "metadata": {},
   "source": [
    "nombre_infected       675\n",
    "nombre_sain          2578\n",
    "nombre_exposed        455\n",
    "nombre_recovered    16292\n",
    "Name: 259, dtype: int64"
   ]
  },
  {
   "cell_type": "markdown",
   "id": "3caae073",
   "metadata": {},
   "source": [
    "nombre_infected       681\n",
    "nombre_sain          2562\n",
    "nombre_exposed        470\n",
    "nombre_recovered    16287\n",
    "Name: 260, dtype: int64"
   ]
  },
  {
   "cell_type": "markdown",
   "id": "4b245ff4",
   "metadata": {},
   "source": [
    "nombre_infected       709\n",
    "nombre_sain          2528\n",
    "nombre_exposed        480\n",
    "nombre_recovered    16283\n",
    "Name: 261, dtype: int64"
   ]
  },
  {
   "cell_type": "markdown",
   "id": "6b18247d",
   "metadata": {},
   "source": [
    "nombre_infected       727\n",
    "nombre_sain          2509\n",
    "nombre_exposed        483\n",
    "nombre_recovered    16281\n",
    "Name: 262, dtype: int64"
   ]
  },
  {
   "cell_type": "markdown",
   "id": "1fba1e68",
   "metadata": {},
   "source": [
    "nombre_infected       718\n",
    "nombre_sain          2490\n",
    "nombre_exposed        477\n",
    "nombre_recovered    16315\n",
    "Name: 263, dtype: int64"
   ]
  },
  {
   "cell_type": "markdown",
   "id": "d5c63dc7",
   "metadata": {},
   "source": [
    "nombre_infected       740\n",
    "nombre_sain          2479\n",
    "nombre_exposed        476\n",
    "nombre_recovered    16305\n",
    "Name: 264, dtype: int64"
   ]
  },
  {
   "cell_type": "markdown",
   "id": "6eb9258f",
   "metadata": {},
   "source": [
    "nombre_infected       763\n",
    "nombre_sain          2478\n",
    "nombre_exposed        464\n",
    "nombre_recovered    16295\n",
    "Name: 265, dtype: int64"
   ]
  },
  {
   "cell_type": "markdown",
   "id": "e8456d4d",
   "metadata": {},
   "source": [
    "nombre_infected       781\n",
    "nombre_sain          2439\n",
    "nombre_exposed        476\n",
    "nombre_recovered    16304\n",
    "Name: 266, dtype: int64"
   ]
  },
  {
   "cell_type": "markdown",
   "id": "fe955f0b",
   "metadata": {},
   "source": [
    "nombre_infected       785\n",
    "nombre_sain          2405\n",
    "nombre_exposed        510\n",
    "nombre_recovered    16300\n",
    "Name: 267, dtype: int64"
   ]
  },
  {
   "cell_type": "markdown",
   "id": "5dfcec8e",
   "metadata": {},
   "source": [
    "nombre_infected       781\n",
    "nombre_sain          2406\n",
    "nombre_exposed        508\n",
    "nombre_recovered    16305\n",
    "Name: 268, dtype: int64"
   ]
  },
  {
   "cell_type": "markdown",
   "id": "25c7ddd7",
   "metadata": {},
   "source": [
    "nombre_infected       778\n",
    "nombre_sain          2426\n",
    "nombre_exposed        510\n",
    "nombre_recovered    16286\n",
    "Name: 269, dtype: int64"
   ]
  },
  {
   "cell_type": "markdown",
   "id": "23e13c5d",
   "metadata": {},
   "source": [
    "nombre_infected       785\n",
    "nombre_sain          2420\n",
    "nombre_exposed        524\n",
    "nombre_recovered    16271\n",
    "Name: 270, dtype: int64"
   ]
  },
  {
   "cell_type": "markdown",
   "id": "7a0c1045",
   "metadata": {},
   "source": [
    "nombre_infected       793\n",
    "nombre_sain          2418\n",
    "nombre_exposed        543\n",
    "nombre_recovered    16246\n",
    "Name: 271, dtype: int64"
   ]
  },
  {
   "cell_type": "markdown",
   "id": "fbecb4a9",
   "metadata": {},
   "source": [
    "nombre_infected       801\n",
    "nombre_sain          2400\n",
    "nombre_exposed        538\n",
    "nombre_recovered    16261\n",
    "Name: 272, dtype: int64"
   ]
  },
  {
   "cell_type": "markdown",
   "id": "3edf90e6",
   "metadata": {},
   "source": [
    "nombre_infected       811\n",
    "nombre_sain          2385\n",
    "nombre_exposed        553\n",
    "nombre_recovered    16251\n",
    "Name: 273, dtype: int64"
   ]
  },
  {
   "cell_type": "markdown",
   "id": "a74165bc",
   "metadata": {},
   "source": [
    "nombre_infected       859\n",
    "nombre_sain          2378\n",
    "nombre_exposed        542\n",
    "nombre_recovered    16221\n",
    "Name: 274, dtype: int64"
   ]
  },
  {
   "cell_type": "markdown",
   "id": "ec487567",
   "metadata": {},
   "source": [
    "nombre_infected       885\n",
    "nombre_sain          2353\n",
    "nombre_exposed        551\n",
    "nombre_recovered    16211\n",
    "Name: 275, dtype: int64"
   ]
  },
  {
   "cell_type": "markdown",
   "id": "e57c1c61",
   "metadata": {},
   "source": [
    "nombre_infected       900\n",
    "nombre_sain          2315\n",
    "nombre_exposed        579\n",
    "nombre_recovered    16206\n",
    "Name: 276, dtype: int64"
   ]
  },
  {
   "cell_type": "markdown",
   "id": "4e584681",
   "metadata": {},
   "source": [
    "nombre_infected       893\n",
    "nombre_sain          2302\n",
    "nombre_exposed        591\n",
    "nombre_recovered    16214\n",
    "Name: 277, dtype: int64"
   ]
  },
  {
   "cell_type": "markdown",
   "id": "1d9a8f05",
   "metadata": {},
   "source": [
    "nombre_infected       887\n",
    "nombre_sain          2292\n",
    "nombre_exposed        603\n",
    "nombre_recovered    16218\n",
    "Name: 278, dtype: int64"
   ]
  },
  {
   "cell_type": "markdown",
   "id": "63d1bcdb",
   "metadata": {},
   "source": [
    "nombre_infected       905\n",
    "nombre_sain          2261\n",
    "nombre_exposed        618\n",
    "nombre_recovered    16216\n",
    "Name: 279, dtype: int64"
   ]
  },
  {
   "cell_type": "markdown",
   "id": "7cc2f055",
   "metadata": {},
   "source": [
    "nombre_infected       903\n",
    "nombre_sain          2262\n",
    "nombre_exposed        621\n",
    "nombre_recovered    16214\n",
    "Name: 280, dtype: int64"
   ]
  },
  {
   "cell_type": "markdown",
   "id": "d3401a09",
   "metadata": {},
   "source": [
    "nombre_infected       918\n",
    "nombre_sain          2272\n",
    "nombre_exposed        606\n",
    "nombre_recovered    16204\n",
    "Name: 281, dtype: int64"
   ]
  },
  {
   "cell_type": "markdown",
   "id": "26c822c2",
   "metadata": {},
   "source": [
    "nombre_infected       937\n",
    "nombre_sain          2252\n",
    "nombre_exposed        591\n",
    "nombre_recovered    16220\n",
    "Name: 282, dtype: int64"
   ]
  },
  {
   "cell_type": "markdown",
   "id": "dec0349c",
   "metadata": {},
   "source": [
    "nombre_infected       944\n",
    "nombre_sain          2219\n",
    "nombre_exposed        591\n",
    "nombre_recovered    16246\n",
    "Name: 283, dtype: int64"
   ]
  },
  {
   "cell_type": "markdown",
   "id": "3c69e990",
   "metadata": {},
   "source": [
    "nombre_infected       950\n",
    "nombre_sain          2184\n",
    "nombre_exposed        593\n",
    "nombre_recovered    16273\n",
    "Name: 284, dtype: int64"
   ]
  },
  {
   "cell_type": "markdown",
   "id": "a5cfac23",
   "metadata": {},
   "source": [
    "nombre_infected       948\n",
    "nombre_sain          2145\n",
    "nombre_exposed        612\n",
    "nombre_recovered    16295\n",
    "Name: 285, dtype: int64"
   ]
  },
  {
   "cell_type": "markdown",
   "id": "6829c901",
   "metadata": {},
   "source": [
    "nombre_infected       946\n",
    "nombre_sain          2126\n",
    "nombre_exposed        604\n",
    "nombre_recovered    16324\n",
    "Name: 286, dtype: int64"
   ]
  },
  {
   "cell_type": "markdown",
   "id": "94eef3f2",
   "metadata": {},
   "source": [
    "nombre_infected       951\n",
    "nombre_sain          2091\n",
    "nombre_exposed        594\n",
    "nombre_recovered    16364\n",
    "Name: 287, dtype: int64"
   ]
  },
  {
   "cell_type": "markdown",
   "id": "70f12dfe",
   "metadata": {},
   "source": [
    "nombre_infected       943\n",
    "nombre_sain          2059\n",
    "nombre_exposed        603\n",
    "nombre_recovered    16395\n",
    "Name: 288, dtype: int64"
   ]
  },
  {
   "cell_type": "markdown",
   "id": "f6ccf825",
   "metadata": {},
   "source": [
    "nombre_infected       946\n",
    "nombre_sain          2015\n",
    "nombre_exposed        602\n",
    "nombre_recovered    16437\n",
    "Name: 289, dtype: int64"
   ]
  },
  {
   "cell_type": "markdown",
   "id": "80b5404a",
   "metadata": {},
   "source": [
    "nombre_infected       928\n",
    "nombre_sain          1993\n",
    "nombre_exposed        596\n",
    "nombre_recovered    16483\n",
    "Name: 290, dtype: int64"
   ]
  },
  {
   "cell_type": "markdown",
   "id": "c4c37fbe",
   "metadata": {},
   "source": [
    "nombre_infected       925\n",
    "nombre_sain          1978\n",
    "nombre_exposed        576\n",
    "nombre_recovered    16521\n",
    "Name: 291, dtype: int64"
   ]
  },
  {
   "cell_type": "markdown",
   "id": "5830d2a7",
   "metadata": {},
   "source": [
    "nombre_infected       920\n",
    "nombre_sain          1959\n",
    "nombre_exposed        566\n",
    "nombre_recovered    16555\n",
    "Name: 292, dtype: int64"
   ]
  },
  {
   "cell_type": "markdown",
   "id": "29aa61f2",
   "metadata": {},
   "source": [
    "nombre_infected       888\n",
    "nombre_sain          1993\n",
    "nombre_exposed        549\n",
    "nombre_recovered    16570\n",
    "Name: 293, dtype: int64"
   ]
  },
  {
   "cell_type": "markdown",
   "id": "4eab4683",
   "metadata": {},
   "source": [
    "nombre_infected       875\n",
    "nombre_sain          1997\n",
    "nombre_exposed        519\n",
    "nombre_recovered    16609\n",
    "Name: 294, dtype: int64"
   ]
  },
  {
   "cell_type": "markdown",
   "id": "46085e9c",
   "metadata": {},
   "source": [
    "nombre_infected       851\n",
    "nombre_sain          1989\n",
    "nombre_exposed        512\n",
    "nombre_recovered    16648\n",
    "Name: 295, dtype: int64"
   ]
  },
  {
   "cell_type": "markdown",
   "id": "4f6e40da",
   "metadata": {},
   "source": [
    "nombre_infected       858\n",
    "nombre_sain          2004\n",
    "nombre_exposed        481\n",
    "nombre_recovered    16657\n",
    "Name: 296, dtype: int64"
   ]
  },
  {
   "cell_type": "markdown",
   "id": "dffbdda2",
   "metadata": {},
   "source": [
    "nombre_infected       821\n",
    "nombre_sain          2009\n",
    "nombre_exposed        495\n",
    "nombre_recovered    16675\n",
    "Name: 297, dtype: int64"
   ]
  },
  {
   "cell_type": "markdown",
   "id": "32bb1f11",
   "metadata": {},
   "source": [
    "nombre_infected       828\n",
    "nombre_sain          2016\n",
    "nombre_exposed        477\n",
    "nombre_recovered    16679\n",
    "Name: 298, dtype: int64"
   ]
  },
  {
   "cell_type": "markdown",
   "id": "5c49f09d",
   "metadata": {},
   "source": [
    "nombre_infected       808\n",
    "nombre_sain          2056\n",
    "nombre_exposed        467\n",
    "nombre_recovered    16669\n",
    "Name: 299, dtype: int64"
   ]
  },
  {
   "cell_type": "markdown",
   "id": "0e42edc0",
   "metadata": {},
   "source": [
    "nombre_infected       792\n",
    "nombre_sain          2059\n",
    "nombre_exposed        455\n",
    "nombre_recovered    16694\n",
    "Name: 300, dtype: int64"
   ]
  },
  {
   "cell_type": "markdown",
   "id": "efc02e27",
   "metadata": {},
   "source": [
    "nombre_infected       774\n",
    "nombre_sain          2051\n",
    "nombre_exposed        467\n",
    "nombre_recovered    16708\n",
    "Name: 301, dtype: int64"
   ]
  },
  {
   "cell_type": "markdown",
   "id": "64d19316",
   "metadata": {},
   "source": [
    "nombre_infected       748\n",
    "nombre_sain          2061\n",
    "nombre_exposed        488\n",
    "nombre_recovered    16703\n",
    "Name: 302, dtype: int64"
   ]
  },
  {
   "cell_type": "markdown",
   "id": "bd454ebd",
   "metadata": {},
   "source": [
    "nombre_infected       753\n",
    "nombre_sain          2071\n",
    "nombre_exposed        492\n",
    "nombre_recovered    16684\n",
    "Name: 303, dtype: int64"
   ]
  },
  {
   "cell_type": "markdown",
   "id": "1f67ac9f",
   "metadata": {},
   "source": [
    "nombre_infected       764\n",
    "nombre_sain          2082\n",
    "nombre_exposed        491\n",
    "nombre_recovered    16663\n",
    "Name: 304, dtype: int64"
   ]
  },
  {
   "cell_type": "markdown",
   "id": "1c653a3e",
   "metadata": {},
   "source": [
    "nombre_infected       767\n",
    "nombre_sain          2118\n",
    "nombre_exposed        480\n",
    "nombre_recovered    16635\n",
    "Name: 305, dtype: int64"
   ]
  },
  {
   "cell_type": "markdown",
   "id": "b1024082",
   "metadata": {},
   "source": [
    "nombre_infected       764\n",
    "nombre_sain          2141\n",
    "nombre_exposed        473\n",
    "nombre_recovered    16622\n",
    "Name: 306, dtype: int64"
   ]
  },
  {
   "cell_type": "markdown",
   "id": "6c22f574",
   "metadata": {},
   "source": [
    "nombre_infected       774\n",
    "nombre_sain          2189\n",
    "nombre_exposed        442\n",
    "nombre_recovered    16595\n",
    "Name: 307, dtype: int64"
   ]
  },
  {
   "cell_type": "markdown",
   "id": "00d4eda0",
   "metadata": {},
   "source": [
    "nombre_infected       762\n",
    "nombre_sain          2214\n",
    "nombre_exposed        457\n",
    "nombre_recovered    16567\n",
    "Name: 308, dtype: int64"
   ]
  },
  {
   "cell_type": "markdown",
   "id": "37faad91",
   "metadata": {},
   "source": [
    "nombre_infected       770\n",
    "nombre_sain          2234\n",
    "nombre_exposed        443\n",
    "nombre_recovered    16553\n",
    "Name: 309, dtype: int64"
   ]
  },
  {
   "cell_type": "markdown",
   "id": "bf507396",
   "metadata": {},
   "source": [
    "nombre_infected       757\n",
    "nombre_sain          2246\n",
    "nombre_exposed        439\n",
    "nombre_recovered    16558\n",
    "Name: 310, dtype: int64"
   ]
  },
  {
   "cell_type": "markdown",
   "id": "16934e09",
   "metadata": {},
   "source": [
    "nombre_infected       750\n",
    "nombre_sain          2244\n",
    "nombre_exposed        464\n",
    "nombre_recovered    16542\n",
    "Name: 311, dtype: int64"
   ]
  },
  {
   "cell_type": "markdown",
   "id": "606ca256",
   "metadata": {},
   "source": [
    "nombre_infected       749\n",
    "nombre_sain          2261\n",
    "nombre_exposed        466\n",
    "nombre_recovered    16524\n",
    "Name: 312, dtype: int64"
   ]
  },
  {
   "cell_type": "markdown",
   "id": "a26ad92c",
   "metadata": {},
   "source": [
    "nombre_infected       746\n",
    "nombre_sain          2263\n",
    "nombre_exposed        477\n",
    "nombre_recovered    16514\n",
    "Name: 313, dtype: int64"
   ]
  },
  {
   "cell_type": "markdown",
   "id": "fbba865b",
   "metadata": {},
   "source": [
    "nombre_infected       751\n",
    "nombre_sain          2268\n",
    "nombre_exposed        475\n",
    "nombre_recovered    16506\n",
    "Name: 314, dtype: int64"
   ]
  },
  {
   "cell_type": "markdown",
   "id": "15e6a325",
   "metadata": {},
   "source": [
    "nombre_infected       761\n",
    "nombre_sain          2280\n",
    "nombre_exposed        483\n",
    "nombre_recovered    16476\n",
    "Name: 315, dtype: int64"
   ]
  },
  {
   "cell_type": "markdown",
   "id": "bf7d39ae",
   "metadata": {},
   "source": [
    "nombre_infected       766\n",
    "nombre_sain          2291\n",
    "nombre_exposed        470\n",
    "nombre_recovered    16473\n",
    "Name: 316, dtype: int64"
   ]
  },
  {
   "cell_type": "markdown",
   "id": "5c2e68b9",
   "metadata": {},
   "source": [
    "nombre_infected       773\n",
    "nombre_sain          2306\n",
    "nombre_exposed        471\n",
    "nombre_recovered    16450\n",
    "Name: 317, dtype: int64"
   ]
  },
  {
   "cell_type": "markdown",
   "id": "c1856a7b",
   "metadata": {},
   "source": [
    "nombre_infected       799\n",
    "nombre_sain          2304\n",
    "nombre_exposed        457\n",
    "nombre_recovered    16440\n",
    "Name: 318, dtype: int64"
   ]
  },
  {
   "cell_type": "markdown",
   "id": "8158e355",
   "metadata": {},
   "source": [
    "nombre_infected       817\n",
    "nombre_sain          2301\n",
    "nombre_exposed        464\n",
    "nombre_recovered    16418\n",
    "Name: 319, dtype: int64"
   ]
  },
  {
   "cell_type": "markdown",
   "id": "ea70c4f8",
   "metadata": {},
   "source": [
    "nombre_infected       816\n",
    "nombre_sain          2299\n",
    "nombre_exposed        472\n",
    "nombre_recovered    16413\n",
    "Name: 320, dtype: int64"
   ]
  },
  {
   "cell_type": "markdown",
   "id": "c51bd651",
   "metadata": {},
   "source": [
    "nombre_infected       816\n",
    "nombre_sain          2292\n",
    "nombre_exposed        502\n",
    "nombre_recovered    16390\n",
    "Name: 321, dtype: int64"
   ]
  },
  {
   "cell_type": "markdown",
   "id": "3b33d60a",
   "metadata": {},
   "source": [
    "nombre_infected       799\n",
    "nombre_sain          2285\n",
    "nombre_exposed        525\n",
    "nombre_recovered    16391\n",
    "Name: 322, dtype: int64"
   ]
  },
  {
   "cell_type": "markdown",
   "id": "0d216ceb",
   "metadata": {},
   "source": [
    "nombre_infected       800\n",
    "nombre_sain          2296\n",
    "nombre_exposed        530\n",
    "nombre_recovered    16374\n",
    "Name: 323, dtype: int64"
   ]
  },
  {
   "cell_type": "markdown",
   "id": "f91ff061",
   "metadata": {},
   "source": [
    "nombre_infected       796\n",
    "nombre_sain          2306\n",
    "nombre_exposed        543\n",
    "nombre_recovered    16355\n",
    "Name: 324, dtype: int64"
   ]
  },
  {
   "cell_type": "markdown",
   "id": "d7d1d52d",
   "metadata": {},
   "source": [
    "nombre_infected       832\n",
    "nombre_sain          2288\n",
    "nombre_exposed        561\n",
    "nombre_recovered    16319\n",
    "Name: 325, dtype: int64"
   ]
  },
  {
   "cell_type": "markdown",
   "id": "e067c6ba",
   "metadata": {},
   "source": [
    "nombre_infected       847\n",
    "nombre_sain          2292\n",
    "nombre_exposed        541\n",
    "nombre_recovered    16320\n",
    "Name: 326, dtype: int64"
   ]
  },
  {
   "cell_type": "markdown",
   "id": "035051b0",
   "metadata": {},
   "source": [
    "nombre_infected       868\n",
    "nombre_sain          2293\n",
    "nombre_exposed        520\n",
    "nombre_recovered    16319\n",
    "Name: 327, dtype: int64"
   ]
  },
  {
   "cell_type": "markdown",
   "id": "7c4eba97",
   "metadata": {},
   "source": [
    "nombre_infected       913\n",
    "nombre_sain          2307\n",
    "nombre_exposed        502\n",
    "nombre_recovered    16278\n",
    "Name: 328, dtype: int64"
   ]
  },
  {
   "cell_type": "markdown",
   "id": "2f1b2809",
   "metadata": {},
   "source": [
    "nombre_infected       901\n",
    "nombre_sain          2308\n",
    "nombre_exposed        523\n",
    "nombre_recovered    16268\n",
    "Name: 329, dtype: int64"
   ]
  },
  {
   "cell_type": "markdown",
   "id": "c00a54c0",
   "metadata": {},
   "source": [
    "nombre_infected       905\n",
    "nombre_sain          2293\n",
    "nombre_exposed        544\n",
    "nombre_recovered    16258\n",
    "Name: 330, dtype: int64"
   ]
  },
  {
   "cell_type": "markdown",
   "id": "0fc4c1e6",
   "metadata": {},
   "source": [
    "nombre_infected       923\n",
    "nombre_sain          2262\n",
    "nombre_exposed        571\n",
    "nombre_recovered    16244\n",
    "Name: 331, dtype: int64"
   ]
  },
  {
   "cell_type": "markdown",
   "id": "436dded4",
   "metadata": {},
   "source": [
    "nombre_infected       918\n",
    "nombre_sain          2278\n",
    "nombre_exposed        566\n",
    "nombre_recovered    16238\n",
    "Name: 332, dtype: int64"
   ]
  },
  {
   "cell_type": "markdown",
   "id": "c7f549d1",
   "metadata": {},
   "source": [
    "nombre_infected       924\n",
    "nombre_sain          2235\n",
    "nombre_exposed        583\n",
    "nombre_recovered    16258\n",
    "Name: 333, dtype: int64"
   ]
  },
  {
   "cell_type": "markdown",
   "id": "59ef0ce4",
   "metadata": {},
   "source": [
    "nombre_infected       932\n",
    "nombre_sain          2239\n",
    "nombre_exposed        572\n",
    "nombre_recovered    16257\n",
    "Name: 334, dtype: int64"
   ]
  },
  {
   "cell_type": "markdown",
   "id": "53480041",
   "metadata": {},
   "source": [
    "nombre_infected       955\n",
    "nombre_sain          2214\n",
    "nombre_exposed        563\n",
    "nombre_recovered    16268\n",
    "Name: 335, dtype: int64"
   ]
  },
  {
   "cell_type": "markdown",
   "id": "33c18e04",
   "metadata": {},
   "source": [
    "nombre_infected       945\n",
    "nombre_sain          2174\n",
    "nombre_exposed        580\n",
    "nombre_recovered    16301\n",
    "Name: 336, dtype: int64"
   ]
  },
  {
   "cell_type": "markdown",
   "id": "9ce454e5",
   "metadata": {},
   "source": [
    "nombre_infected       979\n",
    "nombre_sain          2156\n",
    "nombre_exposed        571\n",
    "nombre_recovered    16294\n",
    "Name: 337, dtype: int64"
   ]
  },
  {
   "cell_type": "markdown",
   "id": "82106935",
   "metadata": {},
   "source": [
    "nombre_infected       990\n",
    "nombre_sain          2129\n",
    "nombre_exposed        570\n",
    "nombre_recovered    16311\n",
    "Name: 338, dtype: int64"
   ]
  },
  {
   "cell_type": "markdown",
   "id": "3dfca05d",
   "metadata": {},
   "source": [
    "nombre_infected       998\n",
    "nombre_sain          2103\n",
    "nombre_exposed        565\n",
    "nombre_recovered    16334\n",
    "Name: 339, dtype: int64"
   ]
  },
  {
   "cell_type": "markdown",
   "id": "73214ca9",
   "metadata": {},
   "source": [
    "nombre_infected      1007\n",
    "nombre_sain          2087\n",
    "nombre_exposed        556\n",
    "nombre_recovered    16350\n",
    "Name: 340, dtype: int64"
   ]
  },
  {
   "cell_type": "markdown",
   "id": "9ce4d47a",
   "metadata": {},
   "source": [
    "nombre_infected      1014\n",
    "nombre_sain          2041\n",
    "nombre_exposed        561\n",
    "nombre_recovered    16384\n",
    "Name: 341, dtype: int64"
   ]
  },
  {
   "cell_type": "markdown",
   "id": "b5b65e31",
   "metadata": {},
   "source": [
    "nombre_infected      1009\n",
    "nombre_sain          1989\n",
    "nombre_exposed        579\n",
    "nombre_recovered    16423\n",
    "Name: 342, dtype: int64"
   ]
  },
  {
   "cell_type": "markdown",
   "id": "3b86570e",
   "metadata": {},
   "source": [
    "nombre_infected      1017\n",
    "nombre_sain          1968\n",
    "nombre_exposed        562\n",
    "nombre_recovered    16453\n",
    "Name: 343, dtype: int64"
   ]
  },
  {
   "cell_type": "markdown",
   "id": "9d14bab3",
   "metadata": {},
   "source": [
    "nombre_infected      1019\n",
    "nombre_sain          1945\n",
    "nombre_exposed        573\n",
    "nombre_recovered    16463\n",
    "Name: 344, dtype: int64"
   ]
  },
  {
   "cell_type": "markdown",
   "id": "00aab4eb",
   "metadata": {},
   "source": [
    "nombre_infected      1015\n",
    "nombre_sain          1927\n",
    "nombre_exposed        567\n",
    "nombre_recovered    16491\n",
    "Name: 345, dtype: int64"
   ]
  },
  {
   "cell_type": "markdown",
   "id": "95ea4c83",
   "metadata": {},
   "source": [
    "nombre_infected       989\n",
    "nombre_sain          1928\n",
    "nombre_exposed        566\n",
    "nombre_recovered    16517\n",
    "Name: 346, dtype: int64"
   ]
  },
  {
   "cell_type": "markdown",
   "id": "d40d5408",
   "metadata": {},
   "source": [
    "nombre_infected      1015\n",
    "nombre_sain          1913\n",
    "nombre_exposed        546\n",
    "nombre_recovered    16526\n",
    "Name: 347, dtype: int64"
   ]
  },
  {
   "cell_type": "markdown",
   "id": "0523e030",
   "metadata": {},
   "source": [
    "nombre_infected      1012\n",
    "nombre_sain          1918\n",
    "nombre_exposed        538\n",
    "nombre_recovered    16532\n",
    "Name: 348, dtype: int64"
   ]
  },
  {
   "cell_type": "markdown",
   "id": "dc272b41",
   "metadata": {},
   "source": [
    "nombre_infected       999\n",
    "nombre_sain          1885\n",
    "nombre_exposed        549\n",
    "nombre_recovered    16567\n",
    "Name: 349, dtype: int64"
   ]
  },
  {
   "cell_type": "markdown",
   "id": "73bc6da3",
   "metadata": {},
   "source": [
    "nombre_infected       982\n",
    "nombre_sain          1880\n",
    "nombre_exposed        544\n",
    "nombre_recovered    16594\n",
    "Name: 350, dtype: int64"
   ]
  },
  {
   "cell_type": "markdown",
   "id": "42a72a67",
   "metadata": {},
   "source": [
    "nombre_infected       980\n",
    "nombre_sain          1894\n",
    "nombre_exposed        529\n",
    "nombre_recovered    16597\n",
    "Name: 351, dtype: int64"
   ]
  },
  {
   "cell_type": "markdown",
   "id": "4883b1fe",
   "metadata": {},
   "source": [
    "nombre_infected       986\n",
    "nombre_sain          1886\n",
    "nombre_exposed        506\n",
    "nombre_recovered    16622\n",
    "Name: 352, dtype: int64"
   ]
  },
  {
   "cell_type": "markdown",
   "id": "2c63f2b7",
   "metadata": {},
   "source": [
    "nombre_infected       977\n",
    "nombre_sain          1866\n",
    "nombre_exposed        510\n",
    "nombre_recovered    16647\n",
    "Name: 353, dtype: int64"
   ]
  },
  {
   "cell_type": "markdown",
   "id": "1f3b1743",
   "metadata": {},
   "source": [
    "nombre_infected       969\n",
    "nombre_sain          1847\n",
    "nombre_exposed        508\n",
    "nombre_recovered    16676\n",
    "Name: 354, dtype: int64"
   ]
  },
  {
   "cell_type": "markdown",
   "id": "e6bd125e",
   "metadata": {},
   "source": [
    "nombre_infected       962\n",
    "nombre_sain          1851\n",
    "nombre_exposed        492\n",
    "nombre_recovered    16695\n",
    "Name: 355, dtype: int64"
   ]
  },
  {
   "cell_type": "markdown",
   "id": "e295d05c",
   "metadata": {},
   "source": [
    "nombre_infected       947\n",
    "nombre_sain          1827\n",
    "nombre_exposed        506\n",
    "nombre_recovered    16720\n",
    "Name: 356, dtype: int64"
   ]
  },
  {
   "cell_type": "markdown",
   "id": "13cce787",
   "metadata": {},
   "source": [
    "nombre_infected       929\n",
    "nombre_sain          1805\n",
    "nombre_exposed        519\n",
    "nombre_recovered    16747\n",
    "Name: 357, dtype: int64"
   ]
  },
  {
   "cell_type": "markdown",
   "id": "8d9da777",
   "metadata": {},
   "source": [
    "nombre_infected       912\n",
    "nombre_sain          1792\n",
    "nombre_exposed        527\n",
    "nombre_recovered    16769\n",
    "Name: 358, dtype: int64"
   ]
  },
  {
   "cell_type": "markdown",
   "id": "01652eaa",
   "metadata": {},
   "source": [
    "nombre_infected       917\n",
    "nombre_sain          1780\n",
    "nombre_exposed        533\n",
    "nombre_recovered    16770\n",
    "Name: 359, dtype: int64"
   ]
  },
  {
   "cell_type": "markdown",
   "id": "0c821118",
   "metadata": {},
   "source": [
    "nombre_infected       887\n",
    "nombre_sain          1777\n",
    "nombre_exposed        528\n",
    "nombre_recovered    16808\n",
    "Name: 360, dtype: int64"
   ]
  },
  {
   "cell_type": "markdown",
   "id": "1bb8b600",
   "metadata": {},
   "source": [
    "nombre_infected       903\n",
    "nombre_sain          1793\n",
    "nombre_exposed        498\n",
    "nombre_recovered    16806\n",
    "Name: 361, dtype: int64"
   ]
  },
  {
   "cell_type": "markdown",
   "id": "e3a38174",
   "metadata": {},
   "source": [
    "nombre_infected       891\n",
    "nombre_sain          1797\n",
    "nombre_exposed        487\n",
    "nombre_recovered    16825\n",
    "Name: 362, dtype: int64"
   ]
  },
  {
   "cell_type": "markdown",
   "id": "497b9b77",
   "metadata": {},
   "source": [
    "nombre_infected       886\n",
    "nombre_sain          1812\n",
    "nombre_exposed        473\n",
    "nombre_recovered    16829\n",
    "Name: 363, dtype: int64"
   ]
  },
  {
   "cell_type": "markdown",
   "id": "6a222c92",
   "metadata": {},
   "source": [
    "nombre_infected       884\n",
    "nombre_sain          1796\n",
    "nombre_exposed        483\n",
    "nombre_recovered    16837\n",
    "Name: 364, dtype: int64"
   ]
  },
  {
   "cell_type": "markdown",
   "id": "8540ae1f",
   "metadata": {},
   "source": [
    "nombre_infected       875\n",
    "nombre_sain          1821\n",
    "nombre_exposed        460\n",
    "nombre_recovered    16844\n",
    "Name: 365, dtype: int64"
   ]
  },
  {
   "cell_type": "markdown",
   "id": "96909c79",
   "metadata": {},
   "source": [
    "nombre_infected       859\n",
    "nombre_sain          1835\n",
    "nombre_exposed        449\n",
    "nombre_recovered    16857\n",
    "Name: 366, dtype: int64"
   ]
  },
  {
   "cell_type": "markdown",
   "id": "ef5c3e2f",
   "metadata": {},
   "source": [
    "nombre_infected       839\n",
    "nombre_sain          1850\n",
    "nombre_exposed        425\n",
    "nombre_recovered    16886\n",
    "Name: 367, dtype: int64"
   ]
  },
  {
   "cell_type": "markdown",
   "id": "918a3057",
   "metadata": {},
   "source": [
    "nombre_infected       845\n",
    "nombre_sain          1849\n",
    "nombre_exposed        424\n",
    "nombre_recovered    16882\n",
    "Name: 368, dtype: int64"
   ]
  },
  {
   "cell_type": "markdown",
   "id": "e49f1e05",
   "metadata": {},
   "source": [
    "nombre_infected       835\n",
    "nombre_sain          1875\n",
    "nombre_exposed        421\n",
    "nombre_recovered    16869\n",
    "Name: 369, dtype: int64"
   ]
  },
  {
   "cell_type": "markdown",
   "id": "63f41ab0",
   "metadata": {},
   "source": [
    "nombre_infected       822\n",
    "nombre_sain          1904\n",
    "nombre_exposed        426\n",
    "nombre_recovered    16848\n",
    "Name: 370, dtype: int64"
   ]
  },
  {
   "cell_type": "markdown",
   "id": "aa49c9ab",
   "metadata": {},
   "source": [
    "nombre_infected       811\n",
    "nombre_sain          1917\n",
    "nombre_exposed        408\n",
    "nombre_recovered    16864\n",
    "Name: 371, dtype: int64"
   ]
  },
  {
   "cell_type": "markdown",
   "id": "a6b22232",
   "metadata": {},
   "source": [
    "nombre_infected       793\n",
    "nombre_sain          1901\n",
    "nombre_exposed        428\n",
    "nombre_recovered    16878\n",
    "Name: 372, dtype: int64"
   ]
  },
  {
   "cell_type": "markdown",
   "id": "0fc525a9",
   "metadata": {},
   "source": [
    "nombre_infected       770\n",
    "nombre_sain          1911\n",
    "nombre_exposed        438\n",
    "nombre_recovered    16881\n",
    "Name: 373, dtype: int64"
   ]
  },
  {
   "cell_type": "markdown",
   "id": "e46eb37f",
   "metadata": {},
   "source": [
    "nombre_infected       765\n",
    "nombre_sain          1908\n",
    "nombre_exposed        427\n",
    "nombre_recovered    16900\n",
    "Name: 374, dtype: int64"
   ]
  },
  {
   "cell_type": "markdown",
   "id": "53ab3eac",
   "metadata": {},
   "source": [
    "nombre_infected       750\n",
    "nombre_sain          1921\n",
    "nombre_exposed        436\n",
    "nombre_recovered    16893\n",
    "Name: 375, dtype: int64"
   ]
  },
  {
   "cell_type": "markdown",
   "id": "1a0a5ba1",
   "metadata": {},
   "source": [
    "nombre_infected       744\n",
    "nombre_sain          1924\n",
    "nombre_exposed        441\n",
    "nombre_recovered    16891\n",
    "Name: 376, dtype: int64"
   ]
  },
  {
   "cell_type": "markdown",
   "id": "bf0e5257",
   "metadata": {},
   "source": [
    "nombre_infected       746\n",
    "nombre_sain          1924\n",
    "nombre_exposed        439\n",
    "nombre_recovered    16891\n",
    "Name: 377, dtype: int64"
   ]
  },
  {
   "cell_type": "markdown",
   "id": "78c3b144",
   "metadata": {},
   "source": [
    "nombre_infected       752\n",
    "nombre_sain          1934\n",
    "nombre_exposed        437\n",
    "nombre_recovered    16877\n",
    "Name: 378, dtype: int64"
   ]
  },
  {
   "cell_type": "markdown",
   "id": "ac63c01d",
   "metadata": {},
   "source": [
    "nombre_infected       742\n",
    "nombre_sain          1945\n",
    "nombre_exposed        438\n",
    "nombre_recovered    16875\n",
    "Name: 379, dtype: int64"
   ]
  },
  {
   "cell_type": "markdown",
   "id": "ba32554a",
   "metadata": {},
   "source": [
    "nombre_infected       720\n",
    "nombre_sain          1950\n",
    "nombre_exposed        435\n",
    "nombre_recovered    16895\n",
    "Name: 380, dtype: int64"
   ]
  },
  {
   "cell_type": "markdown",
   "id": "828174ac",
   "metadata": {},
   "source": [
    "nombre_infected       710\n",
    "nombre_sain          1960\n",
    "nombre_exposed        450\n",
    "nombre_recovered    16880\n",
    "Name: 381, dtype: int64"
   ]
  },
  {
   "cell_type": "markdown",
   "id": "9540df6e",
   "metadata": {},
   "source": [
    "nombre_infected       689\n",
    "nombre_sain          1998\n",
    "nombre_exposed        439\n",
    "nombre_recovered    16874\n",
    "Name: 382, dtype: int64"
   ]
  },
  {
   "cell_type": "markdown",
   "id": "889e8e58",
   "metadata": {},
   "source": [
    "nombre_infected       694\n",
    "nombre_sain          2016\n",
    "nombre_exposed        416\n",
    "nombre_recovered    16874\n",
    "Name: 383, dtype: int64"
   ]
  },
  {
   "cell_type": "markdown",
   "id": "a3b101a5",
   "metadata": {},
   "source": [
    "nombre_infected       714\n",
    "nombre_sain          2026\n",
    "nombre_exposed        413\n",
    "nombre_recovered    16847\n",
    "Name: 384, dtype: int64"
   ]
  },
  {
   "cell_type": "markdown",
   "id": "5fb9719d",
   "metadata": {},
   "source": [
    "nombre_infected       720\n",
    "nombre_sain          2017\n",
    "nombre_exposed        425\n",
    "nombre_recovered    16838\n",
    "Name: 385, dtype: int64"
   ]
  },
  {
   "cell_type": "markdown",
   "id": "f92f801d",
   "metadata": {},
   "source": [
    "nombre_infected       698\n",
    "nombre_sain          2046\n",
    "nombre_exposed        403\n",
    "nombre_recovered    16853\n",
    "Name: 386, dtype: int64"
   ]
  },
  {
   "cell_type": "markdown",
   "id": "25a35939",
   "metadata": {},
   "source": [
    "nombre_infected       701\n",
    "nombre_sain          2071\n",
    "nombre_exposed        390\n",
    "nombre_recovered    16838\n",
    "Name: 387, dtype: int64"
   ]
  },
  {
   "cell_type": "markdown",
   "id": "ce625480",
   "metadata": {},
   "source": [
    "nombre_infected       692\n",
    "nombre_sain          2099\n",
    "nombre_exposed        397\n",
    "nombre_recovered    16812\n",
    "Name: 388, dtype: int64"
   ]
  },
  {
   "cell_type": "markdown",
   "id": "48d15ec7",
   "metadata": {},
   "source": [
    "nombre_infected       667\n",
    "nombre_sain          2143\n",
    "nombre_exposed        394\n",
    "nombre_recovered    16796\n",
    "Name: 389, dtype: int64"
   ]
  },
  {
   "cell_type": "markdown",
   "id": "b37e14a9",
   "metadata": {},
   "source": [
    "nombre_infected       661\n",
    "nombre_sain          2162\n",
    "nombre_exposed        417\n",
    "nombre_recovered    16760\n",
    "Name: 390, dtype: int64"
   ]
  },
  {
   "cell_type": "markdown",
   "id": "d86cc414",
   "metadata": {},
   "source": [
    "nombre_infected       647\n",
    "nombre_sain          2188\n",
    "nombre_exposed        425\n",
    "nombre_recovered    16740\n",
    "Name: 391, dtype: int64"
   ]
  },
  {
   "cell_type": "markdown",
   "id": "dd76ace5",
   "metadata": {},
   "source": [
    "nombre_infected       642\n",
    "nombre_sain          2198\n",
    "nombre_exposed        436\n",
    "nombre_recovered    16724\n",
    "Name: 392, dtype: int64"
   ]
  },
  {
   "cell_type": "markdown",
   "id": "aa9f3557",
   "metadata": {},
   "source": [
    "nombre_infected       674\n",
    "nombre_sain          2224\n",
    "nombre_exposed        426\n",
    "nombre_recovered    16676\n",
    "Name: 393, dtype: int64"
   ]
  },
  {
   "cell_type": "markdown",
   "id": "19636612",
   "metadata": {},
   "source": [
    "nombre_infected       687\n",
    "nombre_sain          2244\n",
    "nombre_exposed        421\n",
    "nombre_recovered    16648\n",
    "Name: 394, dtype: int64"
   ]
  },
  {
   "cell_type": "markdown",
   "id": "1b8799a4",
   "metadata": {},
   "source": [
    "nombre_infected       720\n",
    "nombre_sain          2241\n",
    "nombre_exposed        416\n",
    "nombre_recovered    16623\n",
    "Name: 395, dtype: int64"
   ]
  },
  {
   "cell_type": "markdown",
   "id": "7a77505d",
   "metadata": {},
   "source": [
    "nombre_infected       710\n",
    "nombre_sain          2242\n",
    "nombre_exposed        435\n",
    "nombre_recovered    16613\n",
    "Name: 396, dtype: int64"
   ]
  },
  {
   "cell_type": "markdown",
   "id": "1dbf3964",
   "metadata": {},
   "source": [
    "nombre_infected       718\n",
    "nombre_sain          2239\n",
    "nombre_exposed        435\n",
    "nombre_recovered    16608\n",
    "Name: 397, dtype: int64"
   ]
  },
  {
   "cell_type": "markdown",
   "id": "7c4fc640",
   "metadata": {},
   "source": [
    "nombre_infected       738\n",
    "nombre_sain          2238\n",
    "nombre_exposed        440\n",
    "nombre_recovered    16584\n",
    "Name: 398, dtype: int64"
   ]
  },
  {
   "cell_type": "markdown",
   "id": "e9b31be7",
   "metadata": {},
   "source": [
    "nombre_infected       720\n",
    "nombre_sain          2235\n",
    "nombre_exposed        443\n",
    "nombre_recovered    16602\n",
    "Name: 399, dtype: int64"
   ]
  },
  {
   "cell_type": "markdown",
   "id": "a755b57d",
   "metadata": {},
   "source": [
    "nombre_infected       727\n",
    "nombre_sain          2250\n",
    "nombre_exposed        426\n",
    "nombre_recovered    16597\n",
    "Name: 400, dtype: int64"
   ]
  },
  {
   "cell_type": "markdown",
   "id": "0b93fced",
   "metadata": {},
   "source": [
    "nombre_infected       724\n",
    "nombre_sain          2259\n",
    "nombre_exposed        430\n",
    "nombre_recovered    16587\n",
    "Name: 401, dtype: int64"
   ]
  },
  {
   "cell_type": "markdown",
   "id": "e03bd6ca",
   "metadata": {},
   "source": [
    "nombre_infected       714\n",
    "nombre_sain          2267\n",
    "nombre_exposed        446\n",
    "nombre_recovered    16573\n",
    "Name: 402, dtype: int64"
   ]
  },
  {
   "cell_type": "markdown",
   "id": "ddf4a610",
   "metadata": {},
   "source": [
    "nombre_infected       713\n",
    "nombre_sain          2293\n",
    "nombre_exposed        435\n",
    "nombre_recovered    16559\n",
    "Name: 403, dtype: int64"
   ]
  },
  {
   "cell_type": "markdown",
   "id": "ace232b8",
   "metadata": {},
   "source": [
    "nombre_infected       708\n",
    "nombre_sain          2297\n",
    "nombre_exposed        447\n",
    "nombre_recovered    16548\n",
    "Name: 404, dtype: int64"
   ]
  },
  {
   "cell_type": "markdown",
   "id": "572c0bea",
   "metadata": {},
   "source": [
    "nombre_infected       714\n",
    "nombre_sain          2277\n",
    "nombre_exposed        449\n",
    "nombre_recovered    16560\n",
    "Name: 405, dtype: int64"
   ]
  },
  {
   "cell_type": "markdown",
   "id": "46e9a89f",
   "metadata": {},
   "source": [
    "nombre_infected       720\n",
    "nombre_sain          2279\n",
    "nombre_exposed        465\n",
    "nombre_recovered    16536\n",
    "Name: 406, dtype: int64"
   ]
  },
  {
   "cell_type": "markdown",
   "id": "52338da7",
   "metadata": {},
   "source": [
    "nombre_infected       737\n",
    "nombre_sain          2290\n",
    "nombre_exposed        451\n",
    "nombre_recovered    16522\n",
    "Name: 407, dtype: int64"
   ]
  },
  {
   "cell_type": "markdown",
   "id": "fe3f2d7f",
   "metadata": {},
   "source": [
    "nombre_infected       754\n",
    "nombre_sain          2281\n",
    "nombre_exposed        442\n",
    "nombre_recovered    16523\n",
    "Name: 408, dtype: int64"
   ]
  },
  {
   "cell_type": "markdown",
   "id": "3bc25153",
   "metadata": {},
   "source": [
    "nombre_infected       733\n",
    "nombre_sain          2274\n",
    "nombre_exposed        439\n",
    "nombre_recovered    16554\n",
    "Name: 409, dtype: int64"
   ]
  },
  {
   "cell_type": "markdown",
   "id": "f974d914",
   "metadata": {},
   "source": [
    "nombre_infected       722\n",
    "nombre_sain          2238\n",
    "nombre_exposed        453\n",
    "nombre_recovered    16587\n",
    "Name: 410, dtype: int64"
   ]
  },
  {
   "cell_type": "markdown",
   "id": "6c56f765",
   "metadata": {},
   "source": [
    "nombre_infected       717\n",
    "nombre_sain          2233\n",
    "nombre_exposed        458\n",
    "nombre_recovered    16592\n",
    "Name: 411, dtype: int64"
   ]
  },
  {
   "cell_type": "markdown",
   "id": "4ca1a450",
   "metadata": {},
   "source": [
    "nombre_infected       718\n",
    "nombre_sain          2246\n",
    "nombre_exposed        436\n",
    "nombre_recovered    16600\n",
    "Name: 412, dtype: int64"
   ]
  },
  {
   "cell_type": "markdown",
   "id": "cb48974a",
   "metadata": {},
   "source": [
    "nombre_infected       731\n",
    "nombre_sain          2253\n",
    "nombre_exposed        421\n",
    "nombre_recovered    16595\n",
    "Name: 413, dtype: int64"
   ]
  },
  {
   "cell_type": "markdown",
   "id": "6d4024fe",
   "metadata": {},
   "source": [
    "nombre_infected       735\n",
    "nombre_sain          2241\n",
    "nombre_exposed        418\n",
    "nombre_recovered    16606\n",
    "Name: 414, dtype: int64"
   ]
  },
  {
   "cell_type": "markdown",
   "id": "29dd55ba",
   "metadata": {},
   "source": [
    "nombre_infected       757\n",
    "nombre_sain          2218\n",
    "nombre_exposed        422\n",
    "nombre_recovered    16603\n",
    "Name: 415, dtype: int64"
   ]
  },
  {
   "cell_type": "markdown",
   "id": "91a90e53",
   "metadata": {},
   "source": [
    "nombre_infected       737\n",
    "nombre_sain          2222\n",
    "nombre_exposed        454\n",
    "nombre_recovered    16587\n",
    "Name: 416, dtype: int64"
   ]
  },
  {
   "cell_type": "markdown",
   "id": "131e5544",
   "metadata": {},
   "source": [
    "nombre_infected       751\n",
    "nombre_sain          2210\n",
    "nombre_exposed        466\n",
    "nombre_recovered    16573\n",
    "Name: 417, dtype: int64"
   ]
  },
  {
   "cell_type": "markdown",
   "id": "c2f8ba93",
   "metadata": {},
   "source": [
    "nombre_infected       786\n",
    "nombre_sain          2227\n",
    "nombre_exposed        443\n",
    "nombre_recovered    16544\n",
    "Name: 418, dtype: int64"
   ]
  },
  {
   "cell_type": "markdown",
   "id": "35f803b4",
   "metadata": {},
   "source": [
    "nombre_infected       805\n",
    "nombre_sain          2236\n",
    "nombre_exposed        433\n",
    "nombre_recovered    16526\n",
    "Name: 419, dtype: int64"
   ]
  },
  {
   "cell_type": "markdown",
   "id": "761644cc",
   "metadata": {},
   "source": [
    "nombre_infected       805\n",
    "nombre_sain          2230\n",
    "nombre_exposed        440\n",
    "nombre_recovered    16525\n",
    "Name: 420, dtype: int64"
   ]
  },
  {
   "cell_type": "markdown",
   "id": "2f4bd5ec",
   "metadata": {},
   "source": [
    "nombre_infected       810\n",
    "nombre_sain          2220\n",
    "nombre_exposed        451\n",
    "nombre_recovered    16519\n",
    "Name: 421, dtype: int64"
   ]
  },
  {
   "cell_type": "markdown",
   "id": "2fc4c351",
   "metadata": {},
   "source": [
    "nombre_infected       814\n",
    "nombre_sain          2205\n",
    "nombre_exposed        470\n",
    "nombre_recovered    16511\n",
    "Name: 422, dtype: int64"
   ]
  },
  {
   "cell_type": "markdown",
   "id": "9f301fb5",
   "metadata": {},
   "source": [
    "nombre_infected       803\n",
    "nombre_sain          2192\n",
    "nombre_exposed        476\n",
    "nombre_recovered    16529\n",
    "Name: 423, dtype: int64"
   ]
  },
  {
   "cell_type": "markdown",
   "id": "ecf74c12",
   "metadata": {},
   "source": [
    "nombre_infected       796\n",
    "nombre_sain          2182\n",
    "nombre_exposed        484\n",
    "nombre_recovered    16538\n",
    "Name: 424, dtype: int64"
   ]
  },
  {
   "cell_type": "markdown",
   "id": "f854d215",
   "metadata": {},
   "source": [
    "nombre_infected       796\n",
    "nombre_sain          2176\n",
    "nombre_exposed        489\n",
    "nombre_recovered    16539\n",
    "Name: 425, dtype: int64"
   ]
  },
  {
   "cell_type": "markdown",
   "id": "fede8b35",
   "metadata": {},
   "source": [
    "nombre_infected       807\n",
    "nombre_sain          2176\n",
    "nombre_exposed        476\n",
    "nombre_recovered    16541\n",
    "Name: 426, dtype: int64"
   ]
  },
  {
   "cell_type": "markdown",
   "id": "588bf972",
   "metadata": {},
   "source": [
    "nombre_infected       816\n",
    "nombre_sain          2168\n",
    "nombre_exposed        466\n",
    "nombre_recovered    16550\n",
    "Name: 427, dtype: int64"
   ]
  },
  {
   "cell_type": "markdown",
   "id": "2193021b",
   "metadata": {},
   "source": [
    "nombre_infected       808\n",
    "nombre_sain          2130\n",
    "nombre_exposed        495\n",
    "nombre_recovered    16567\n",
    "Name: 428, dtype: int64"
   ]
  },
  {
   "cell_type": "markdown",
   "id": "8a2e9406",
   "metadata": {},
   "source": [
    "nombre_infected       804\n",
    "nombre_sain          2135\n",
    "nombre_exposed        498\n",
    "nombre_recovered    16563\n",
    "Name: 429, dtype: int64"
   ]
  },
  {
   "cell_type": "markdown",
   "id": "5f91c7a3",
   "metadata": {},
   "source": [
    "nombre_infected       825\n",
    "nombre_sain          2112\n",
    "nombre_exposed        495\n",
    "nombre_recovered    16568\n",
    "Name: 430, dtype: int64"
   ]
  },
  {
   "cell_type": "markdown",
   "id": "5b7cc734",
   "metadata": {},
   "source": [
    "nombre_infected       832\n",
    "nombre_sain          2106\n",
    "nombre_exposed        498\n",
    "nombre_recovered    16564\n",
    "Name: 431, dtype: int64"
   ]
  },
  {
   "cell_type": "markdown",
   "id": "502cb0ee",
   "metadata": {},
   "source": [
    "nombre_infected       824\n",
    "nombre_sain          2102\n",
    "nombre_exposed        491\n",
    "nombre_recovered    16583\n",
    "Name: 432, dtype: int64"
   ]
  },
  {
   "cell_type": "markdown",
   "id": "2e6c775e",
   "metadata": {},
   "source": [
    "nombre_infected       822\n",
    "nombre_sain          2111\n",
    "nombre_exposed        504\n",
    "nombre_recovered    16563\n",
    "Name: 433, dtype: int64"
   ]
  },
  {
   "cell_type": "markdown",
   "id": "23176ac2",
   "metadata": {},
   "source": [
    "nombre_infected       800\n",
    "nombre_sain          2130\n",
    "nombre_exposed        519\n",
    "nombre_recovered    16551\n",
    "Name: 434, dtype: int64"
   ]
  },
  {
   "cell_type": "markdown",
   "id": "1d188779",
   "metadata": {},
   "source": [
    "nombre_infected       804\n",
    "nombre_sain          2137\n",
    "nombre_exposed        491\n",
    "nombre_recovered    16568\n",
    "Name: 435, dtype: int64"
   ]
  },
  {
   "cell_type": "markdown",
   "id": "371e3b18",
   "metadata": {},
   "source": [
    "nombre_infected       798\n",
    "nombre_sain          2126\n",
    "nombre_exposed        488\n",
    "nombre_recovered    16588\n",
    "Name: 436, dtype: int64"
   ]
  },
  {
   "cell_type": "markdown",
   "id": "05221475",
   "metadata": {},
   "source": [
    "nombre_infected       796\n",
    "nombre_sain          2137\n",
    "nombre_exposed        483\n",
    "nombre_recovered    16584\n",
    "Name: 437, dtype: int64"
   ]
  },
  {
   "cell_type": "markdown",
   "id": "540536dc",
   "metadata": {},
   "source": [
    "nombre_infected       803\n",
    "nombre_sain          2145\n",
    "nombre_exposed        473\n",
    "nombre_recovered    16579\n",
    "Name: 438, dtype: int64"
   ]
  },
  {
   "cell_type": "markdown",
   "id": "44af3923",
   "metadata": {},
   "source": [
    "nombre_infected       790\n",
    "nombre_sain          2130\n",
    "nombre_exposed        495\n",
    "nombre_recovered    16585\n",
    "Name: 439, dtype: int64"
   ]
  },
  {
   "cell_type": "markdown",
   "id": "ad26c87f",
   "metadata": {},
   "source": [
    "nombre_infected       792\n",
    "nombre_sain          2132\n",
    "nombre_exposed        475\n",
    "nombre_recovered    16601\n",
    "Name: 440, dtype: int64"
   ]
  },
  {
   "cell_type": "markdown",
   "id": "c22a457a",
   "metadata": {},
   "source": [
    "nombre_infected       797\n",
    "nombre_sain          2142\n",
    "nombre_exposed        444\n",
    "nombre_recovered    16617\n",
    "Name: 441, dtype: int64"
   ]
  },
  {
   "cell_type": "markdown",
   "id": "a2fa8225",
   "metadata": {},
   "source": [
    "nombre_infected       775\n",
    "nombre_sain          2131\n",
    "nombre_exposed        465\n",
    "nombre_recovered    16629\n",
    "Name: 442, dtype: int64"
   ]
  },
  {
   "cell_type": "markdown",
   "id": "e979a08c",
   "metadata": {},
   "source": [
    "nombre_infected       773\n",
    "nombre_sain          2118\n",
    "nombre_exposed        481\n",
    "nombre_recovered    16628\n",
    "Name: 443, dtype: int64"
   ]
  },
  {
   "cell_type": "markdown",
   "id": "ba7cd617",
   "metadata": {},
   "source": [
    "nombre_infected       773\n",
    "nombre_sain          2111\n",
    "nombre_exposed        477\n",
    "nombre_recovered    16639\n",
    "Name: 444, dtype: int64"
   ]
  },
  {
   "cell_type": "markdown",
   "id": "a911ff99",
   "metadata": {},
   "source": [
    "nombre_infected       773\n",
    "nombre_sain          2110\n",
    "nombre_exposed        468\n",
    "nombre_recovered    16649\n",
    "Name: 445, dtype: int64"
   ]
  },
  {
   "cell_type": "markdown",
   "id": "db80cae5",
   "metadata": {},
   "source": [
    "nombre_infected       769\n",
    "nombre_sain          2098\n",
    "nombre_exposed        480\n",
    "nombre_recovered    16653\n",
    "Name: 446, dtype: int64"
   ]
  },
  {
   "cell_type": "markdown",
   "id": "8f701056",
   "metadata": {},
   "source": [
    "nombre_infected       767\n",
    "nombre_sain          2103\n",
    "nombre_exposed        493\n",
    "nombre_recovered    16637\n",
    "Name: 447, dtype: int64"
   ]
  },
  {
   "cell_type": "markdown",
   "id": "c8090895",
   "metadata": {},
   "source": [
    "nombre_infected       762\n",
    "nombre_sain          2107\n",
    "nombre_exposed        480\n",
    "nombre_recovered    16651\n",
    "Name: 448, dtype: int64"
   ]
  },
  {
   "cell_type": "markdown",
   "id": "69c2336c",
   "metadata": {},
   "source": [
    "nombre_infected       758\n",
    "nombre_sain          2123\n",
    "nombre_exposed        472\n",
    "nombre_recovered    16647\n",
    "Name: 449, dtype: int64"
   ]
  },
  {
   "cell_type": "markdown",
   "id": "6781a5d4",
   "metadata": {},
   "source": [
    "nombre_infected       754\n",
    "nombre_sain          2133\n",
    "nombre_exposed        457\n",
    "nombre_recovered    16656\n",
    "Name: 450, dtype: int64"
   ]
  },
  {
   "cell_type": "markdown",
   "id": "1f3a2a24",
   "metadata": {},
   "source": [
    "nombre_infected       756\n",
    "nombre_sain          2134\n",
    "nombre_exposed        441\n",
    "nombre_recovered    16669\n",
    "Name: 451, dtype: int64"
   ]
  },
  {
   "cell_type": "markdown",
   "id": "3ebe5469",
   "metadata": {},
   "source": [
    "nombre_infected       745\n",
    "nombre_sain          2168\n",
    "nombre_exposed        430\n",
    "nombre_recovered    16657\n",
    "Name: 452, dtype: int64"
   ]
  },
  {
   "cell_type": "markdown",
   "id": "c46b2f63",
   "metadata": {},
   "source": [
    "nombre_infected       745\n",
    "nombre_sain          2181\n",
    "nombre_exposed        428\n",
    "nombre_recovered    16646\n",
    "Name: 453, dtype: int64"
   ]
  },
  {
   "cell_type": "markdown",
   "id": "44a27154",
   "metadata": {},
   "source": [
    "nombre_infected       724\n",
    "nombre_sain          2198\n",
    "nombre_exposed        453\n",
    "nombre_recovered    16625\n",
    "Name: 454, dtype: int64"
   ]
  },
  {
   "cell_type": "markdown",
   "id": "1034d0fa",
   "metadata": {},
   "source": [
    "nombre_infected       700\n",
    "nombre_sain          2256\n",
    "nombre_exposed        445\n",
    "nombre_recovered    16599\n",
    "Name: 455, dtype: int64"
   ]
  },
  {
   "cell_type": "markdown",
   "id": "aa2df828",
   "metadata": {},
   "source": [
    "nombre_infected       714\n",
    "nombre_sain          2291\n",
    "nombre_exposed        447\n",
    "nombre_recovered    16548\n",
    "Name: 456, dtype: int64"
   ]
  },
  {
   "cell_type": "markdown",
   "id": "edcfc941",
   "metadata": {},
   "source": [
    "nombre_infected       714\n",
    "nombre_sain          2310\n",
    "nombre_exposed        456\n",
    "nombre_recovered    16520\n",
    "Name: 457, dtype: int64"
   ]
  },
  {
   "cell_type": "markdown",
   "id": "229d0180",
   "metadata": {},
   "source": [
    "nombre_infected       716\n",
    "nombre_sain          2369\n",
    "nombre_exposed        435\n",
    "nombre_recovered    16480\n",
    "Name: 458, dtype: int64"
   ]
  },
  {
   "cell_type": "markdown",
   "id": "02c98eb4",
   "metadata": {},
   "source": [
    "nombre_infected       720\n",
    "nombre_sain          2371\n",
    "nombre_exposed        461\n",
    "nombre_recovered    16448\n",
    "Name: 459, dtype: int64"
   ]
  },
  {
   "cell_type": "markdown",
   "id": "6a666282",
   "metadata": {},
   "source": [
    "nombre_infected       724\n",
    "nombre_sain          2394\n",
    "nombre_exposed        471\n",
    "nombre_recovered    16411\n",
    "Name: 460, dtype: int64"
   ]
  },
  {
   "cell_type": "markdown",
   "id": "8c2d7931",
   "metadata": {},
   "source": [
    "nombre_infected       721\n",
    "nombre_sain          2391\n",
    "nombre_exposed        496\n",
    "nombre_recovered    16392\n",
    "Name: 461, dtype: int64"
   ]
  },
  {
   "cell_type": "markdown",
   "id": "e67b4696",
   "metadata": {},
   "source": [
    "nombre_infected       720\n",
    "nombre_sain          2398\n",
    "nombre_exposed        499\n",
    "nombre_recovered    16383\n",
    "Name: 462, dtype: int64"
   ]
  },
  {
   "cell_type": "markdown",
   "id": "680da913",
   "metadata": {},
   "source": [
    "nombre_infected       721\n",
    "nombre_sain          2399\n",
    "nombre_exposed        495\n",
    "nombre_recovered    16385\n",
    "Name: 463, dtype: int64"
   ]
  },
  {
   "cell_type": "markdown",
   "id": "2dd5a928",
   "metadata": {},
   "source": [
    "nombre_infected       741\n",
    "nombre_sain          2394\n",
    "nombre_exposed        489\n",
    "nombre_recovered    16376\n",
    "Name: 464, dtype: int64"
   ]
  },
  {
   "cell_type": "markdown",
   "id": "a30b7332",
   "metadata": {},
   "source": [
    "nombre_infected       768\n",
    "nombre_sain          2405\n",
    "nombre_exposed        476\n",
    "nombre_recovered    16351\n",
    "Name: 465, dtype: int64"
   ]
  },
  {
   "cell_type": "markdown",
   "id": "2c334c0a",
   "metadata": {},
   "source": [
    "nombre_infected       786\n",
    "nombre_sain          2410\n",
    "nombre_exposed        482\n",
    "nombre_recovered    16322\n",
    "Name: 466, dtype: int64"
   ]
  },
  {
   "cell_type": "markdown",
   "id": "d99fe1fa",
   "metadata": {},
   "source": [
    "nombre_infected       783\n",
    "nombre_sain          2416\n",
    "nombre_exposed        477\n",
    "nombre_recovered    16324\n",
    "Name: 467, dtype: int64"
   ]
  },
  {
   "cell_type": "markdown",
   "id": "931035fd",
   "metadata": {},
   "source": [
    "nombre_infected       794\n",
    "nombre_sain          2394\n",
    "nombre_exposed        502\n",
    "nombre_recovered    16310\n",
    "Name: 468, dtype: int64"
   ]
  },
  {
   "cell_type": "markdown",
   "id": "726f4a9a",
   "metadata": {},
   "source": [
    "nombre_infected       805\n",
    "nombre_sain          2396\n",
    "nombre_exposed        501\n",
    "nombre_recovered    16298\n",
    "Name: 469, dtype: int64"
   ]
  },
  {
   "cell_type": "markdown",
   "id": "22e6dca3",
   "metadata": {},
   "source": [
    "nombre_infected       804\n",
    "nombre_sain          2384\n",
    "nombre_exposed        512\n",
    "nombre_recovered    16300\n",
    "Name: 470, dtype: int64"
   ]
  },
  {
   "cell_type": "markdown",
   "id": "fa341544",
   "metadata": {},
   "source": [
    "nombre_infected       798\n",
    "nombre_sain          2368\n",
    "nombre_exposed        528\n",
    "nombre_recovered    16306\n",
    "Name: 471, dtype: int64"
   ]
  },
  {
   "cell_type": "markdown",
   "id": "b1fbd540",
   "metadata": {},
   "source": [
    "nombre_infected       824\n",
    "nombre_sain          2378\n",
    "nombre_exposed        528\n",
    "nombre_recovered    16270\n",
    "Name: 472, dtype: int64"
   ]
  },
  {
   "cell_type": "markdown",
   "id": "a3fc87fd",
   "metadata": {},
   "source": [
    "nombre_infected       826\n",
    "nombre_sain          2381\n",
    "nombre_exposed        535\n",
    "nombre_recovered    16258\n",
    "Name: 473, dtype: int64"
   ]
  },
  {
   "cell_type": "markdown",
   "id": "ee0ce536",
   "metadata": {},
   "source": [
    "nombre_infected       843\n",
    "nombre_sain          2392\n",
    "nombre_exposed        532\n",
    "nombre_recovered    16233\n",
    "Name: 474, dtype: int64"
   ]
  },
  {
   "cell_type": "markdown",
   "id": "4c727269",
   "metadata": {},
   "source": [
    "nombre_infected       824\n",
    "nombre_sain          2385\n",
    "nombre_exposed        550\n",
    "nombre_recovered    16241\n",
    "Name: 475, dtype: int64"
   ]
  },
  {
   "cell_type": "markdown",
   "id": "7cc2b896",
   "metadata": {},
   "source": [
    "nombre_infected       824\n",
    "nombre_sain          2388\n",
    "nombre_exposed        568\n",
    "nombre_recovered    16220\n",
    "Name: 476, dtype: int64"
   ]
  },
  {
   "cell_type": "markdown",
   "id": "abf8bcbf",
   "metadata": {},
   "source": [
    "nombre_infected       823\n",
    "nombre_sain          2413\n",
    "nombre_exposed        569\n",
    "nombre_recovered    16195\n",
    "Name: 477, dtype: int64"
   ]
  },
  {
   "cell_type": "markdown",
   "id": "debfb504",
   "metadata": {},
   "source": [
    "nombre_infected       844\n",
    "nombre_sain          2419\n",
    "nombre_exposed        570\n",
    "nombre_recovered    16167\n",
    "Name: 478, dtype: int64"
   ]
  },
  {
   "cell_type": "markdown",
   "id": "7c64352c",
   "metadata": {},
   "source": [
    "nombre_infected       848\n",
    "nombre_sain          2413\n",
    "nombre_exposed        587\n",
    "nombre_recovered    16152\n",
    "Name: 479, dtype: int64"
   ]
  },
  {
   "cell_type": "markdown",
   "id": "f7c0063c",
   "metadata": {},
   "source": [
    "nombre_infected       857\n",
    "nombre_sain          2402\n",
    "nombre_exposed        606\n",
    "nombre_recovered    16135\n",
    "Name: 480, dtype: int64"
   ]
  },
  {
   "cell_type": "markdown",
   "id": "3bb0b0cb",
   "metadata": {},
   "source": [
    "nombre_infected       896\n",
    "nombre_sain          2409\n",
    "nombre_exposed        567\n",
    "nombre_recovered    16128\n",
    "Name: 481, dtype: int64"
   ]
  },
  {
   "cell_type": "markdown",
   "id": "08890111",
   "metadata": {},
   "source": [
    "nombre_infected       924\n",
    "nombre_sain          2399\n",
    "nombre_exposed        567\n",
    "nombre_recovered    16110\n",
    "Name: 482, dtype: int64"
   ]
  },
  {
   "cell_type": "markdown",
   "id": "30d71758",
   "metadata": {},
   "source": [
    "nombre_infected       905\n",
    "nombre_sain          2377\n",
    "nombre_exposed        603\n",
    "nombre_recovered    16115\n",
    "Name: 483, dtype: int64"
   ]
  },
  {
   "cell_type": "markdown",
   "id": "55d0b7a7",
   "metadata": {},
   "source": [
    "nombre_infected       926\n",
    "nombre_sain          2364\n",
    "nombre_exposed        591\n",
    "nombre_recovered    16119\n",
    "Name: 484, dtype: int64"
   ]
  },
  {
   "cell_type": "markdown",
   "id": "a64dadbd",
   "metadata": {},
   "source": [
    "nombre_infected       955\n",
    "nombre_sain          2337\n",
    "nombre_exposed        586\n",
    "nombre_recovered    16122\n",
    "Name: 485, dtype: int64"
   ]
  },
  {
   "cell_type": "markdown",
   "id": "dae43b93",
   "metadata": {},
   "source": [
    "nombre_infected       986\n",
    "nombre_sain          2299\n",
    "nombre_exposed        606\n",
    "nombre_recovered    16109\n",
    "Name: 486, dtype: int64"
   ]
  },
  {
   "cell_type": "markdown",
   "id": "816d9110",
   "metadata": {},
   "source": [
    "nombre_infected      1021\n",
    "nombre_sain          2284\n",
    "nombre_exposed        590\n",
    "nombre_recovered    16105\n",
    "Name: 487, dtype: int64"
   ]
  },
  {
   "cell_type": "markdown",
   "id": "3764a59c",
   "metadata": {},
   "source": [
    "nombre_infected      1058\n",
    "nombre_sain          2248\n",
    "nombre_exposed        614\n",
    "nombre_recovered    16080\n",
    "Name: 488, dtype: int64"
   ]
  },
  {
   "cell_type": "markdown",
   "id": "ff0a9a40",
   "metadata": {},
   "source": [
    "nombre_infected      1044\n",
    "nombre_sain          2219\n",
    "nombre_exposed        637\n",
    "nombre_recovered    16100\n",
    "Name: 489, dtype: int64"
   ]
  },
  {
   "cell_type": "markdown",
   "id": "2db90fea",
   "metadata": {},
   "source": [
    "nombre_infected      1073\n",
    "nombre_sain          2183\n",
    "nombre_exposed        657\n",
    "nombre_recovered    16087\n",
    "Name: 490, dtype: int64"
   ]
  },
  {
   "cell_type": "markdown",
   "id": "9023cc42",
   "metadata": {},
   "source": [
    "nombre_infected      1085\n",
    "nombre_sain          2136\n",
    "nombre_exposed        666\n",
    "nombre_recovered    16113\n",
    "Name: 491, dtype: int64"
   ]
  },
  {
   "cell_type": "markdown",
   "id": "9c841c1b",
   "metadata": {},
   "source": [
    "nombre_infected      1121\n",
    "nombre_sain          2111\n",
    "nombre_exposed        664\n",
    "nombre_recovered    16104\n",
    "Name: 492, dtype: int64"
   ]
  },
  {
   "cell_type": "markdown",
   "id": "ccbcb9fb",
   "metadata": {},
   "source": [
    "nombre_infected      1130\n",
    "nombre_sain          2129\n",
    "nombre_exposed        656\n",
    "nombre_recovered    16085\n",
    "Name: 493, dtype: int64"
   ]
  },
  {
   "cell_type": "markdown",
   "id": "9e784f1f",
   "metadata": {},
   "source": [
    "nombre_infected      1146\n",
    "nombre_sain          2116\n",
    "nombre_exposed        644\n",
    "nombre_recovered    16094\n",
    "Name: 494, dtype: int64"
   ]
  },
  {
   "cell_type": "markdown",
   "id": "3d00c886",
   "metadata": {},
   "source": [
    "nombre_infected      1148\n",
    "nombre_sain          2076\n",
    "nombre_exposed        647\n",
    "nombre_recovered    16129\n",
    "Name: 495, dtype: int64"
   ]
  },
  {
   "cell_type": "markdown",
   "id": "65aabf77",
   "metadata": {},
   "source": [
    "nombre_infected      1166\n",
    "nombre_sain          2047\n",
    "nombre_exposed        660\n",
    "nombre_recovered    16127\n",
    "Name: 496, dtype: int64"
   ]
  },
  {
   "cell_type": "markdown",
   "id": "67c8b089",
   "metadata": {},
   "source": [
    "nombre_infected      1146\n",
    "nombre_sain          2015\n",
    "nombre_exposed        679\n",
    "nombre_recovered    16160\n",
    "Name: 497, dtype: int64"
   ]
  },
  {
   "cell_type": "markdown",
   "id": "6e653a62",
   "metadata": {},
   "source": [
    "nombre_infected      1160\n",
    "nombre_sain          1995\n",
    "nombre_exposed        689\n",
    "nombre_recovered    16156\n",
    "Name: 498, dtype: int64"
   ]
  },
  {
   "cell_type": "markdown",
   "id": "d41b4dd1",
   "metadata": {},
   "source": [
    "nombre_infected      1138\n",
    "nombre_sain          1979\n",
    "nombre_exposed        688\n",
    "nombre_recovered    16195\n",
    "Name: 499, dtype: int64"
   ]
  },
  {
   "cell_type": "markdown",
   "id": "8f2c39bd",
   "metadata": {},
   "source": [
    "nombre_infected      1158\n",
    "nombre_sain          1948\n",
    "nombre_exposed        675\n",
    "nombre_recovered    16219\n",
    "Name: 500, dtype: int64"
   ]
  },
  {
   "cell_type": "markdown",
   "id": "3f44dbf4",
   "metadata": {},
   "source": [
    "nombre_infected      1174\n",
    "nombre_sain          1937\n",
    "nombre_exposed        662\n",
    "nombre_recovered    16227\n",
    "Name: 501, dtype: int64"
   ]
  },
  {
   "cell_type": "markdown",
   "id": "089e5a07",
   "metadata": {},
   "source": [
    "nombre_infected      1179\n",
    "nombre_sain          1915\n",
    "nombre_exposed        662\n",
    "nombre_recovered    16244\n",
    "Name: 502, dtype: int64"
   ]
  },
  {
   "cell_type": "markdown",
   "id": "cfa7459b",
   "metadata": {},
   "source": [
    "nombre_infected      1200\n",
    "nombre_sain          1885\n",
    "nombre_exposed        645\n",
    "nombre_recovered    16270\n",
    "Name: 503, dtype: int64"
   ]
  },
  {
   "cell_type": "markdown",
   "id": "da69dd39",
   "metadata": {},
   "source": [
    "nombre_infected      1219\n",
    "nombre_sain          1850\n",
    "nombre_exposed        654\n",
    "nombre_recovered    16277\n",
    "Name: 504, dtype: int64"
   ]
  },
  {
   "cell_type": "markdown",
   "id": "582413cc",
   "metadata": {},
   "source": [
    "nombre_infected      1217\n",
    "nombre_sain          1843\n",
    "nombre_exposed        625\n",
    "nombre_recovered    16315\n",
    "Name: 505, dtype: int64"
   ]
  },
  {
   "cell_type": "markdown",
   "id": "04e975e8",
   "metadata": {},
   "source": [
    "nombre_infected      1205\n",
    "nombre_sain          1790\n",
    "nombre_exposed        628\n",
    "nombre_recovered    16377\n",
    "Name: 506, dtype: int64"
   ]
  },
  {
   "cell_type": "markdown",
   "id": "f20e84ec",
   "metadata": {},
   "source": [
    "nombre_infected      1197\n",
    "nombre_sain          1773\n",
    "nombre_exposed        630\n",
    "nombre_recovered    16400\n",
    "Name: 507, dtype: int64"
   ]
  },
  {
   "cell_type": "markdown",
   "id": "1295ca5f",
   "metadata": {},
   "source": [
    "nombre_infected      1191\n",
    "nombre_sain          1764\n",
    "nombre_exposed        613\n",
    "nombre_recovered    16432\n",
    "Name: 508, dtype: int64"
   ]
  },
  {
   "cell_type": "markdown",
   "id": "67df0560",
   "metadata": {},
   "source": [
    "nombre_infected      1190\n",
    "nombre_sain          1728\n",
    "nombre_exposed        608\n",
    "nombre_recovered    16474\n",
    "Name: 509, dtype: int64"
   ]
  },
  {
   "cell_type": "markdown",
   "id": "d457aa9e",
   "metadata": {},
   "source": [
    "nombre_infected      1186\n",
    "nombre_sain          1712\n",
    "nombre_exposed        592\n",
    "nombre_recovered    16510\n",
    "Name: 510, dtype: int64"
   ]
  },
  {
   "cell_type": "markdown",
   "id": "2ae77722",
   "metadata": {},
   "source": [
    "nombre_infected      1165\n",
    "nombre_sain          1707\n",
    "nombre_exposed        577\n",
    "nombre_recovered    16551\n",
    "Name: 511, dtype: int64"
   ]
  },
  {
   "cell_type": "markdown",
   "id": "23d9585d",
   "metadata": {},
   "source": [
    "nombre_infected      1141\n",
    "nombre_sain          1705\n",
    "nombre_exposed        575\n",
    "nombre_recovered    16579\n",
    "Name: 512, dtype: int64"
   ]
  },
  {
   "cell_type": "markdown",
   "id": "41098b49",
   "metadata": {},
   "source": [
    "nombre_infected      1111\n",
    "nombre_sain          1701\n",
    "nombre_exposed        571\n",
    "nombre_recovered    16617\n",
    "Name: 513, dtype: int64"
   ]
  },
  {
   "cell_type": "markdown",
   "id": "491e7312",
   "metadata": {},
   "source": [
    "nombre_infected      1095\n",
    "nombre_sain          1701\n",
    "nombre_exposed        548\n",
    "nombre_recovered    16656\n",
    "Name: 514, dtype: int64"
   ]
  },
  {
   "cell_type": "markdown",
   "id": "3566caf5",
   "metadata": {},
   "source": [
    "nombre_infected      1078\n",
    "nombre_sain          1704\n",
    "nombre_exposed        533\n",
    "nombre_recovered    16685\n",
    "Name: 515, dtype: int64"
   ]
  },
  {
   "cell_type": "markdown",
   "id": "65d019b5",
   "metadata": {},
   "source": [
    "nombre_infected      1061\n",
    "nombre_sain          1703\n",
    "nombre_exposed        524\n",
    "nombre_recovered    16712\n",
    "Name: 516, dtype: int64"
   ]
  },
  {
   "cell_type": "markdown",
   "id": "99daf5e1",
   "metadata": {},
   "source": [
    "nombre_infected      1022\n",
    "nombre_sain          1718\n",
    "nombre_exposed        504\n",
    "nombre_recovered    16756\n",
    "Name: 517, dtype: int64"
   ]
  },
  {
   "cell_type": "markdown",
   "id": "abbc1d15",
   "metadata": {},
   "source": [
    "nombre_infected       989\n",
    "nombre_sain          1745\n",
    "nombre_exposed        486\n",
    "nombre_recovered    16780\n",
    "Name: 518, dtype: int64"
   ]
  },
  {
   "cell_type": "markdown",
   "id": "b5c0fb73",
   "metadata": {},
   "source": [
    "nombre_infected       969\n",
    "nombre_sain          1761\n",
    "nombre_exposed        473\n",
    "nombre_recovered    16797\n",
    "Name: 519, dtype: int64"
   ]
  },
  {
   "cell_type": "markdown",
   "id": "bf329222",
   "metadata": {},
   "source": [
    "nombre_infected       939\n",
    "nombre_sain          1772\n",
    "nombre_exposed        481\n",
    "nombre_recovered    16808\n",
    "Name: 520, dtype: int64"
   ]
  },
  {
   "cell_type": "markdown",
   "id": "311760d0",
   "metadata": {},
   "source": [
    "nombre_infected       900\n",
    "nombre_sain          1808\n",
    "nombre_exposed        478\n",
    "nombre_recovered    16814\n",
    "Name: 521, dtype: int64"
   ]
  },
  {
   "cell_type": "markdown",
   "id": "fb9c6a58",
   "metadata": {},
   "source": [
    "nombre_infected       882\n",
    "nombre_sain          1854\n",
    "nombre_exposed        451\n",
    "nombre_recovered    16813\n",
    "Name: 522, dtype: int64"
   ]
  },
  {
   "cell_type": "markdown",
   "id": "845b085f",
   "metadata": {},
   "source": [
    "nombre_infected       859\n",
    "nombre_sain          1910\n",
    "nombre_exposed        429\n",
    "nombre_recovered    16802\n",
    "Name: 523, dtype: int64"
   ]
  },
  {
   "cell_type": "markdown",
   "id": "2d001e5e",
   "metadata": {},
   "source": [
    "nombre_infected       830\n",
    "nombre_sain          1951\n",
    "nombre_exposed        420\n",
    "nombre_recovered    16799\n",
    "Name: 524, dtype: int64"
   ]
  },
  {
   "cell_type": "markdown",
   "id": "dd5cb857",
   "metadata": {},
   "source": [
    "nombre_infected       829\n",
    "nombre_sain          2007\n",
    "nombre_exposed        426\n",
    "nombre_recovered    16738\n",
    "Name: 525, dtype: int64"
   ]
  },
  {
   "cell_type": "markdown",
   "id": "e4edad5c",
   "metadata": {},
   "source": [
    "nombre_infected       795\n",
    "nombre_sain          2067\n",
    "nombre_exposed        411\n",
    "nombre_recovered    16727\n",
    "Name: 526, dtype: int64"
   ]
  },
  {
   "cell_type": "markdown",
   "id": "719e79c5",
   "metadata": {},
   "source": [
    "nombre_infected       804\n",
    "nombre_sain          2099\n",
    "nombre_exposed        417\n",
    "nombre_recovered    16680\n",
    "Name: 527, dtype: int64"
   ]
  },
  {
   "cell_type": "markdown",
   "id": "09dbb0f6",
   "metadata": {},
   "source": [
    "nombre_infected       782\n",
    "nombre_sain          2116\n",
    "nombre_exposed        436\n",
    "nombre_recovered    16666\n",
    "Name: 528, dtype: int64"
   ]
  },
  {
   "cell_type": "markdown",
   "id": "feabcc2f",
   "metadata": {},
   "source": [
    "nombre_infected       785\n",
    "nombre_sain          2148\n",
    "nombre_exposed        433\n",
    "nombre_recovered    16634\n",
    "Name: 529, dtype: int64"
   ]
  },
  {
   "cell_type": "markdown",
   "id": "cf54090e",
   "metadata": {},
   "source": [
    "nombre_infected       787\n",
    "nombre_sain          2150\n",
    "nombre_exposed        462\n",
    "nombre_recovered    16601\n",
    "Name: 530, dtype: int64"
   ]
  },
  {
   "cell_type": "markdown",
   "id": "1b3d6fa6",
   "metadata": {},
   "source": [
    "nombre_infected       795\n",
    "nombre_sain          2163\n",
    "nombre_exposed        477\n",
    "nombre_recovered    16565\n",
    "Name: 531, dtype: int64"
   ]
  },
  {
   "cell_type": "markdown",
   "id": "46ca746f",
   "metadata": {},
   "source": [
    "nombre_infected       779\n",
    "nombre_sain          2178\n",
    "nombre_exposed        482\n",
    "nombre_recovered    16561\n",
    "Name: 532, dtype: int64"
   ]
  },
  {
   "cell_type": "markdown",
   "id": "9e00b822",
   "metadata": {},
   "source": [
    "nombre_infected       782\n",
    "nombre_sain          2226\n",
    "nombre_exposed        457\n",
    "nombre_recovered    16535\n",
    "Name: 533, dtype: int64"
   ]
  },
  {
   "cell_type": "markdown",
   "id": "b9cfca20",
   "metadata": {},
   "source": [
    "nombre_infected       794\n",
    "nombre_sain          2265\n",
    "nombre_exposed        440\n",
    "nombre_recovered    16501\n",
    "Name: 534, dtype: int64"
   ]
  },
  {
   "cell_type": "markdown",
   "id": "1e76509b",
   "metadata": {},
   "source": [
    "nombre_infected       822\n",
    "nombre_sain          2259\n",
    "nombre_exposed        449\n",
    "nombre_recovered    16470\n",
    "Name: 535, dtype: int64"
   ]
  },
  {
   "cell_type": "markdown",
   "id": "580b7d9f",
   "metadata": {},
   "source": [
    "nombre_infected       823\n",
    "nombre_sain          2287\n",
    "nombre_exposed        456\n",
    "nombre_recovered    16434\n",
    "Name: 536, dtype: int64"
   ]
  },
  {
   "cell_type": "markdown",
   "id": "01e2e960",
   "metadata": {},
   "source": [
    "nombre_infected       829\n",
    "nombre_sain          2293\n",
    "nombre_exposed        474\n",
    "nombre_recovered    16404\n",
    "Name: 537, dtype: int64"
   ]
  },
  {
   "cell_type": "markdown",
   "id": "d6ef045d",
   "metadata": {},
   "source": [
    "nombre_infected       809\n",
    "nombre_sain          2301\n",
    "nombre_exposed        487\n",
    "nombre_recovered    16403\n",
    "Name: 538, dtype: int64"
   ]
  },
  {
   "cell_type": "markdown",
   "id": "9a901448",
   "metadata": {},
   "source": [
    "nombre_infected       816\n",
    "nombre_sain          2327\n",
    "nombre_exposed        494\n",
    "nombre_recovered    16363\n",
    "Name: 539, dtype: int64"
   ]
  },
  {
   "cell_type": "markdown",
   "id": "fa43b804",
   "metadata": {},
   "source": [
    "nombre_infected       833\n",
    "nombre_sain          2334\n",
    "nombre_exposed        499\n",
    "nombre_recovered    16334\n",
    "Name: 540, dtype: int64"
   ]
  },
  {
   "cell_type": "markdown",
   "id": "0dc10fea",
   "metadata": {},
   "source": [
    "nombre_infected       845\n",
    "nombre_sain          2345\n",
    "nombre_exposed        504\n",
    "nombre_recovered    16306\n",
    "Name: 541, dtype: int64"
   ]
  },
  {
   "cell_type": "markdown",
   "id": "c6945f3f",
   "metadata": {},
   "source": [
    "nombre_infected       861\n",
    "nombre_sain          2368\n",
    "nombre_exposed        499\n",
    "nombre_recovered    16272\n",
    "Name: 542, dtype: int64"
   ]
  },
  {
   "cell_type": "markdown",
   "id": "978df4c9",
   "metadata": {},
   "source": [
    "nombre_infected       858\n",
    "nombre_sain          2387\n",
    "nombre_exposed        490\n",
    "nombre_recovered    16265\n",
    "Name: 543, dtype: int64"
   ]
  },
  {
   "cell_type": "markdown",
   "id": "908f5198",
   "metadata": {},
   "source": [
    "nombre_infected       843\n",
    "nombre_sain          2368\n",
    "nombre_exposed        506\n",
    "nombre_recovered    16283\n",
    "Name: 544, dtype: int64"
   ]
  },
  {
   "cell_type": "markdown",
   "id": "ca906a4f",
   "metadata": {},
   "source": [
    "nombre_infected       852\n",
    "nombre_sain          2372\n",
    "nombre_exposed        505\n",
    "nombre_recovered    16271\n",
    "Name: 545, dtype: int64"
   ]
  },
  {
   "cell_type": "markdown",
   "id": "91724c51",
   "metadata": {},
   "source": [
    "nombre_infected       857\n",
    "nombre_sain          2369\n",
    "nombre_exposed        518\n",
    "nombre_recovered    16256\n",
    "Name: 546, dtype: int64"
   ]
  },
  {
   "cell_type": "markdown",
   "id": "32014f69",
   "metadata": {},
   "source": [
    "nombre_infected       890\n",
    "nombre_sain          2383\n",
    "nombre_exposed        509\n",
    "nombre_recovered    16218\n",
    "Name: 547, dtype: int64"
   ]
  },
  {
   "cell_type": "markdown",
   "id": "b3fcab94",
   "metadata": {},
   "source": [
    "nombre_infected       880\n",
    "nombre_sain          2405\n",
    "nombre_exposed        519\n",
    "nombre_recovered    16196\n",
    "Name: 548, dtype: int64"
   ]
  },
  {
   "cell_type": "markdown",
   "id": "45c4f825",
   "metadata": {},
   "source": [
    "nombre_infected       893\n",
    "nombre_sain          2377\n",
    "nombre_exposed        531\n",
    "nombre_recovered    16199\n",
    "Name: 549, dtype: int64"
   ]
  },
  {
   "cell_type": "markdown",
   "id": "56f70284",
   "metadata": {},
   "source": [
    "nombre_infected       887\n",
    "nombre_sain          2355\n",
    "nombre_exposed        550\n",
    "nombre_recovered    16208\n",
    "Name: 550, dtype: int64"
   ]
  },
  {
   "cell_type": "markdown",
   "id": "690e5220",
   "metadata": {},
   "source": [
    "nombre_infected       893\n",
    "nombre_sain          2366\n",
    "nombre_exposed        525\n",
    "nombre_recovered    16216\n",
    "Name: 551, dtype: int64"
   ]
  },
  {
   "cell_type": "markdown",
   "id": "4ec00e62",
   "metadata": {},
   "source": [
    "nombre_infected       905\n",
    "nombre_sain          2337\n",
    "nombre_exposed        547\n",
    "nombre_recovered    16211\n",
    "Name: 552, dtype: int64"
   ]
  },
  {
   "cell_type": "markdown",
   "id": "556d8bd9",
   "metadata": {},
   "source": [
    "nombre_infected       891\n",
    "nombre_sain          2329\n",
    "nombre_exposed        555\n",
    "nombre_recovered    16225\n",
    "Name: 553, dtype: int64"
   ]
  },
  {
   "cell_type": "markdown",
   "id": "598fb9fe",
   "metadata": {},
   "source": [
    "nombre_infected       882\n",
    "nombre_sain          2318\n",
    "nombre_exposed        566\n",
    "nombre_recovered    16234\n",
    "Name: 554, dtype: int64"
   ]
  },
  {
   "cell_type": "markdown",
   "id": "e1b06368",
   "metadata": {},
   "source": [
    "nombre_infected       907\n",
    "nombre_sain          2298\n",
    "nombre_exposed        559\n",
    "nombre_recovered    16236\n",
    "Name: 555, dtype: int64"
   ]
  },
  {
   "cell_type": "markdown",
   "id": "ea621616",
   "metadata": {},
   "source": [
    "nombre_infected       920\n",
    "nombre_sain          2265\n",
    "nombre_exposed        577\n",
    "nombre_recovered    16238\n",
    "Name: 556, dtype: int64"
   ]
  },
  {
   "cell_type": "markdown",
   "id": "f2bfcdaa",
   "metadata": {},
   "source": [
    "nombre_infected       908\n",
    "nombre_sain          2211\n",
    "nombre_exposed        597\n",
    "nombre_recovered    16284\n",
    "Name: 557, dtype: int64"
   ]
  },
  {
   "cell_type": "markdown",
   "id": "1e184f19",
   "metadata": {},
   "source": [
    "nombre_infected       923\n",
    "nombre_sain          2199\n",
    "nombre_exposed        570\n",
    "nombre_recovered    16308\n",
    "Name: 558, dtype: int64"
   ]
  },
  {
   "cell_type": "markdown",
   "id": "d4a0cf6d",
   "metadata": {},
   "source": [
    "nombre_infected       931\n",
    "nombre_sain          2172\n",
    "nombre_exposed        575\n",
    "nombre_recovered    16322\n",
    "Name: 559, dtype: int64"
   ]
  },
  {
   "cell_type": "markdown",
   "id": "cf373686",
   "metadata": {},
   "source": [
    "nombre_infected       931\n",
    "nombre_sain          2136\n",
    "nombre_exposed        573\n",
    "nombre_recovered    16360\n",
    "Name: 560, dtype: int64"
   ]
  },
  {
   "cell_type": "markdown",
   "id": "5b653862",
   "metadata": {},
   "source": [
    "nombre_infected       958\n",
    "nombre_sain          2084\n",
    "nombre_exposed        587\n",
    "nombre_recovered    16371\n",
    "Name: 561, dtype: int64"
   ]
  },
  {
   "cell_type": "markdown",
   "id": "5b974445",
   "metadata": {},
   "source": [
    "nombre_infected       971\n",
    "nombre_sain          2052\n",
    "nombre_exposed        585\n",
    "nombre_recovered    16392\n",
    "Name: 562, dtype: int64"
   ]
  },
  {
   "cell_type": "markdown",
   "id": "95621d72",
   "metadata": {},
   "source": [
    "nombre_infected       959\n",
    "nombre_sain          2046\n",
    "nombre_exposed        593\n",
    "nombre_recovered    16402\n",
    "Name: 563, dtype: int64"
   ]
  },
  {
   "cell_type": "markdown",
   "id": "af2d486f",
   "metadata": {},
   "source": [
    "nombre_infected       974\n",
    "nombre_sain          2010\n",
    "nombre_exposed        578\n",
    "nombre_recovered    16438\n",
    "Name: 564, dtype: int64"
   ]
  },
  {
   "cell_type": "markdown",
   "id": "46e29d4e",
   "metadata": {},
   "source": [
    "nombre_infected       992\n",
    "nombre_sain          1988\n",
    "nombre_exposed        574\n",
    "nombre_recovered    16446\n",
    "Name: 565, dtype: int64"
   ]
  },
  {
   "cell_type": "markdown",
   "id": "7f80d612",
   "metadata": {},
   "source": [
    "nombre_infected       988\n",
    "nombre_sain          1993\n",
    "nombre_exposed        573\n",
    "nombre_recovered    16446\n",
    "Name: 566, dtype: int64"
   ]
  },
  {
   "cell_type": "markdown",
   "id": "5718ac17",
   "metadata": {},
   "source": [
    "nombre_infected       967\n",
    "nombre_sain          1951\n",
    "nombre_exposed        599\n",
    "nombre_recovered    16483\n",
    "Name: 567, dtype: int64"
   ]
  },
  {
   "cell_type": "markdown",
   "id": "6cc6073e",
   "metadata": {},
   "source": [
    "nombre_infected       963\n",
    "nombre_sain          1961\n",
    "nombre_exposed        595\n",
    "nombre_recovered    16481\n",
    "Name: 568, dtype: int64"
   ]
  },
  {
   "cell_type": "markdown",
   "id": "63a0358a",
   "metadata": {},
   "source": [
    "nombre_infected       979\n",
    "nombre_sain          1966\n",
    "nombre_exposed        576\n",
    "nombre_recovered    16479\n",
    "Name: 569, dtype: int64"
   ]
  },
  {
   "cell_type": "markdown",
   "id": "ac0485b6",
   "metadata": {},
   "source": [
    "nombre_infected       978\n",
    "nombre_sain          1959\n",
    "nombre_exposed        588\n",
    "nombre_recovered    16475\n",
    "Name: 570, dtype: int64"
   ]
  },
  {
   "cell_type": "markdown",
   "id": "f281414e",
   "metadata": {},
   "source": [
    "nombre_infected       967\n",
    "nombre_sain          1963\n",
    "nombre_exposed        577\n",
    "nombre_recovered    16493\n",
    "Name: 571, dtype: int64"
   ]
  },
  {
   "cell_type": "markdown",
   "id": "baff6042",
   "metadata": {},
   "source": [
    "nombre_infected       966\n",
    "nombre_sain          1930\n",
    "nombre_exposed        589\n",
    "nombre_recovered    16515\n",
    "Name: 572, dtype: int64"
   ]
  },
  {
   "cell_type": "markdown",
   "id": "a4e649f1",
   "metadata": {},
   "source": [
    "nombre_infected       971\n",
    "nombre_sain          1911\n",
    "nombre_exposed        585\n",
    "nombre_recovered    16533\n",
    "Name: 573, dtype: int64"
   ]
  },
  {
   "cell_type": "markdown",
   "id": "15e6857f",
   "metadata": {},
   "source": [
    "nombre_infected       965\n",
    "nombre_sain          1910\n",
    "nombre_exposed        559\n",
    "nombre_recovered    16566\n",
    "Name: 574, dtype: int64"
   ]
  },
  {
   "cell_type": "markdown",
   "id": "96215c2c",
   "metadata": {},
   "source": [
    "nombre_infected       970\n",
    "nombre_sain          1910\n",
    "nombre_exposed        560\n",
    "nombre_recovered    16560\n",
    "Name: 575, dtype: int64"
   ]
  },
  {
   "cell_type": "markdown",
   "id": "d2757753",
   "metadata": {},
   "source": [
    "nombre_infected       961\n",
    "nombre_sain          1925\n",
    "nombre_exposed        536\n",
    "nombre_recovered    16578\n",
    "Name: 576, dtype: int64"
   ]
  },
  {
   "cell_type": "markdown",
   "id": "50f3e881",
   "metadata": {},
   "source": [
    "nombre_infected       962\n",
    "nombre_sain          1979\n",
    "nombre_exposed        533\n",
    "nombre_recovered    16526\n",
    "Name: 577, dtype: int64"
   ]
  },
  {
   "cell_type": "markdown",
   "id": "f70e40e1",
   "metadata": {},
   "source": [
    "nombre_infected       954\n",
    "nombre_sain          1980\n",
    "nombre_exposed        534\n",
    "nombre_recovered    16532\n",
    "Name: 578, dtype: int64"
   ]
  },
  {
   "cell_type": "markdown",
   "id": "f2aec576",
   "metadata": {},
   "source": [
    "nombre_infected       967\n",
    "nombre_sain          1994\n",
    "nombre_exposed        518\n",
    "nombre_recovered    16521\n",
    "Name: 579, dtype: int64"
   ]
  },
  {
   "cell_type": "markdown",
   "id": "c55fb7eb",
   "metadata": {},
   "source": [
    "nombre_infected       957\n",
    "nombre_sain          2007\n",
    "nombre_exposed        516\n",
    "nombre_recovered    16520\n",
    "Name: 580, dtype: int64"
   ]
  },
  {
   "cell_type": "markdown",
   "id": "ef12eed2",
   "metadata": {},
   "source": [
    "nombre_infected       937\n",
    "nombre_sain          2009\n",
    "nombre_exposed        520\n",
    "nombre_recovered    16534\n",
    "Name: 581, dtype: int64"
   ]
  },
  {
   "cell_type": "markdown",
   "id": "a7eb3b92",
   "metadata": {},
   "source": [
    "nombre_infected       959\n",
    "nombre_sain          1993\n",
    "nombre_exposed        515\n",
    "nombre_recovered    16533\n",
    "Name: 582, dtype: int64"
   ]
  },
  {
   "cell_type": "markdown",
   "id": "b0f81af9",
   "metadata": {},
   "source": [
    "nombre_infected       941\n",
    "nombre_sain          1967\n",
    "nombre_exposed        529\n",
    "nombre_recovered    16563\n",
    "Name: 583, dtype: int64"
   ]
  },
  {
   "cell_type": "markdown",
   "id": "32fe9e06",
   "metadata": {},
   "source": [
    "nombre_infected       937\n",
    "nombre_sain          1935\n",
    "nombre_exposed        541\n",
    "nombre_recovered    16587\n",
    "Name: 584, dtype: int64"
   ]
  },
  {
   "cell_type": "markdown",
   "id": "ba79e2a7",
   "metadata": {},
   "source": [
    "nombre_infected       932\n",
    "nombre_sain          1947\n",
    "nombre_exposed        531\n",
    "nombre_recovered    16590\n",
    "Name: 585, dtype: int64"
   ]
  },
  {
   "cell_type": "markdown",
   "id": "b3f43916",
   "metadata": {},
   "source": [
    "nombre_infected       932\n",
    "nombre_sain          1924\n",
    "nombre_exposed        542\n",
    "nombre_recovered    16602\n",
    "Name: 586, dtype: int64"
   ]
  },
  {
   "cell_type": "markdown",
   "id": "2a584fc6",
   "metadata": {},
   "source": [
    "nombre_infected       955\n",
    "nombre_sain          1922\n",
    "nombre_exposed        502\n",
    "nombre_recovered    16621\n",
    "Name: 587, dtype: int64"
   ]
  },
  {
   "cell_type": "markdown",
   "id": "d8369667",
   "metadata": {},
   "source": [
    "nombre_infected       960\n",
    "nombre_sain          1907\n",
    "nombre_exposed        482\n",
    "nombre_recovered    16651\n",
    "Name: 588, dtype: int64"
   ]
  },
  {
   "cell_type": "markdown",
   "id": "ca6f8ef1",
   "metadata": {},
   "source": [
    "nombre_infected       937\n",
    "nombre_sain          1907\n",
    "nombre_exposed        498\n",
    "nombre_recovered    16658\n",
    "Name: 589, dtype: int64"
   ]
  },
  {
   "cell_type": "markdown",
   "id": "c96ff121",
   "metadata": {},
   "source": [
    "nombre_infected       943\n",
    "nombre_sain          1887\n",
    "nombre_exposed        489\n",
    "nombre_recovered    16681\n",
    "Name: 590, dtype: int64"
   ]
  },
  {
   "cell_type": "markdown",
   "id": "081e49a1",
   "metadata": {},
   "source": [
    "nombre_infected       923\n",
    "nombre_sain          1886\n",
    "nombre_exposed        479\n",
    "nombre_recovered    16712\n",
    "Name: 591, dtype: int64"
   ]
  },
  {
   "cell_type": "markdown",
   "id": "a4570f94",
   "metadata": {},
   "source": [
    "nombre_infected       913\n",
    "nombre_sain          1881\n",
    "nombre_exposed        467\n",
    "nombre_recovered    16739\n",
    "Name: 592, dtype: int64"
   ]
  },
  {
   "cell_type": "markdown",
   "id": "bdfdb61f",
   "metadata": {},
   "source": [
    "nombre_infected       879\n",
    "nombre_sain          1883\n",
    "nombre_exposed        459\n",
    "nombre_recovered    16779\n",
    "Name: 593, dtype: int64"
   ]
  },
  {
   "cell_type": "markdown",
   "id": "69681fe9",
   "metadata": {},
   "source": [
    "nombre_infected       868\n",
    "nombre_sain          1897\n",
    "nombre_exposed        448\n",
    "nombre_recovered    16787\n",
    "Name: 594, dtype: int64"
   ]
  },
  {
   "cell_type": "markdown",
   "id": "768ffefc",
   "metadata": {},
   "source": [
    "nombre_infected       883\n",
    "nombre_sain          1900\n",
    "nombre_exposed        423\n",
    "nombre_recovered    16794\n",
    "Name: 595, dtype: int64"
   ]
  },
  {
   "cell_type": "markdown",
   "id": "29701242",
   "metadata": {},
   "source": [
    "nombre_infected       861\n",
    "nombre_sain          1900\n",
    "nombre_exposed        427\n",
    "nombre_recovered    16812\n",
    "Name: 596, dtype: int64"
   ]
  },
  {
   "cell_type": "markdown",
   "id": "449f23f5",
   "metadata": {},
   "source": [
    "nombre_infected       838\n",
    "nombre_sain          1898\n",
    "nombre_exposed        434\n",
    "nombre_recovered    16830\n",
    "Name: 597, dtype: int64"
   ]
  },
  {
   "cell_type": "markdown",
   "id": "bbc4f4a6",
   "metadata": {},
   "source": [
    "nombre_infected       823\n",
    "nombre_sain          1913\n",
    "nombre_exposed        424\n",
    "nombre_recovered    16840\n",
    "Name: 598, dtype: int64"
   ]
  },
  {
   "cell_type": "markdown",
   "id": "9f40585d",
   "metadata": {},
   "source": [
    "nombre_infected       808\n",
    "nombre_sain          1922\n",
    "nombre_exposed        416\n",
    "nombre_recovered    16854\n",
    "Name: 599, dtype: int64"
   ]
  },
  {
   "cell_type": "markdown",
   "id": "e3f0238d",
   "metadata": {},
   "source": [
    "nombre_infected       809\n",
    "nombre_sain          1929\n",
    "nombre_exposed        423\n",
    "nombre_recovered    16839\n",
    "Name: 600, dtype: int64"
   ]
  },
  {
   "cell_type": "markdown",
   "id": "21e16531",
   "metadata": {},
   "source": [
    "nombre_infected       797\n",
    "nombre_sain          1965\n",
    "nombre_exposed        422\n",
    "nombre_recovered    16816\n",
    "Name: 601, dtype: int64"
   ]
  },
  {
   "cell_type": "markdown",
   "id": "7b65ae17",
   "metadata": {},
   "source": [
    "nombre_infected       777\n",
    "nombre_sain          1973\n",
    "nombre_exposed        416\n",
    "nombre_recovered    16834\n",
    "Name: 602, dtype: int64"
   ]
  },
  {
   "cell_type": "markdown",
   "id": "82e3d02e",
   "metadata": {},
   "source": [
    "nombre_infected       756\n",
    "nombre_sain          1992\n",
    "nombre_exposed        408\n",
    "nombre_recovered    16844\n",
    "Name: 603, dtype: int64"
   ]
  },
  {
   "cell_type": "markdown",
   "id": "47b09f83",
   "metadata": {},
   "source": [
    "nombre_infected       755\n",
    "nombre_sain          2019\n",
    "nombre_exposed        385\n",
    "nombre_recovered    16841\n",
    "Name: 604, dtype: int64"
   ]
  },
  {
   "cell_type": "markdown",
   "id": "67698033",
   "metadata": {},
   "source": [
    "nombre_infected       749\n",
    "nombre_sain          2040\n",
    "nombre_exposed        378\n",
    "nombre_recovered    16833\n",
    "Name: 605, dtype: int64"
   ]
  },
  {
   "cell_type": "markdown",
   "id": "b14b3384",
   "metadata": {},
   "source": [
    "nombre_infected       742\n",
    "nombre_sain          2070\n",
    "nombre_exposed        389\n",
    "nombre_recovered    16799\n",
    "Name: 606, dtype: int64"
   ]
  },
  {
   "cell_type": "markdown",
   "id": "420d29d4",
   "metadata": {},
   "source": [
    "nombre_infected       713\n",
    "nombre_sain          2113\n",
    "nombre_exposed        399\n",
    "nombre_recovered    16775\n",
    "Name: 607, dtype: int64"
   ]
  },
  {
   "cell_type": "markdown",
   "id": "fc68969d",
   "metadata": {},
   "source": [
    "nombre_infected       724\n",
    "nombre_sain          2135\n",
    "nombre_exposed        389\n",
    "nombre_recovered    16752\n",
    "Name: 608, dtype: int64"
   ]
  },
  {
   "cell_type": "markdown",
   "id": "d2a7948b",
   "metadata": {},
   "source": [
    "nombre_infected       721\n",
    "nombre_sain          2144\n",
    "nombre_exposed        386\n",
    "nombre_recovered    16749\n",
    "Name: 609, dtype: int64"
   ]
  },
  {
   "cell_type": "markdown",
   "id": "fd2a1340",
   "metadata": {},
   "source": [
    "nombre_infected       698\n",
    "nombre_sain          2189\n",
    "nombre_exposed        400\n",
    "nombre_recovered    16713\n",
    "Name: 610, dtype: int64"
   ]
  },
  {
   "cell_type": "markdown",
   "id": "885b908b",
   "metadata": {},
   "source": [
    "nombre_infected       712\n",
    "nombre_sain          2211\n",
    "nombre_exposed        397\n",
    "nombre_recovered    16680\n",
    "Name: 611, dtype: int64"
   ]
  },
  {
   "cell_type": "markdown",
   "id": "5319172c",
   "metadata": {},
   "source": [
    "nombre_infected       704\n",
    "nombre_sain          2230\n",
    "nombre_exposed        402\n",
    "nombre_recovered    16664\n",
    "Name: 612, dtype: int64"
   ]
  },
  {
   "cell_type": "markdown",
   "id": "4a2a9376",
   "metadata": {},
   "source": [
    "nombre_infected       692\n",
    "nombre_sain          2257\n",
    "nombre_exposed        413\n",
    "nombre_recovered    16638\n",
    "Name: 613, dtype: int64"
   ]
  },
  {
   "cell_type": "markdown",
   "id": "a5cdad56",
   "metadata": {},
   "source": [
    "nombre_infected       699\n",
    "nombre_sain          2261\n",
    "nombre_exposed        448\n",
    "nombre_recovered    16592\n",
    "Name: 614, dtype: int64"
   ]
  },
  {
   "cell_type": "markdown",
   "id": "86156efd",
   "metadata": {},
   "source": [
    "nombre_infected       710\n",
    "nombre_sain          2278\n",
    "nombre_exposed        433\n",
    "nombre_recovered    16579\n",
    "Name: 615, dtype: int64"
   ]
  },
  {
   "cell_type": "markdown",
   "id": "c3815ec7",
   "metadata": {},
   "source": [
    "nombre_infected       695\n",
    "nombre_sain          2303\n",
    "nombre_exposed        437\n",
    "nombre_recovered    16565\n",
    "Name: 616, dtype: int64"
   ]
  },
  {
   "cell_type": "markdown",
   "id": "87428565",
   "metadata": {},
   "source": [
    "nombre_infected       688\n",
    "nombre_sain          2302\n",
    "nombre_exposed        429\n",
    "nombre_recovered    16581\n",
    "Name: 617, dtype: int64"
   ]
  },
  {
   "cell_type": "markdown",
   "id": "d6ed34d7",
   "metadata": {},
   "source": [
    "nombre_infected       696\n",
    "nombre_sain          2309\n",
    "nombre_exposed        438\n",
    "nombre_recovered    16557\n",
    "Name: 618, dtype: int64"
   ]
  },
  {
   "cell_type": "markdown",
   "id": "ecc42951",
   "metadata": {},
   "source": [
    "nombre_infected       679\n",
    "nombre_sain          2332\n",
    "nombre_exposed        449\n",
    "nombre_recovered    16540\n",
    "Name: 619, dtype: int64"
   ]
  },
  {
   "cell_type": "markdown",
   "id": "a5ee2bff",
   "metadata": {},
   "source": [
    "nombre_infected       682\n",
    "nombre_sain          2348\n",
    "nombre_exposed        448\n",
    "nombre_recovered    16522\n",
    "Name: 620, dtype: int64"
   ]
  },
  {
   "cell_type": "markdown",
   "id": "c8ea214c",
   "metadata": {},
   "source": [
    "nombre_infected       709\n",
    "nombre_sain          2336\n",
    "nombre_exposed        468\n",
    "nombre_recovered    16487\n",
    "Name: 621, dtype: int64"
   ]
  },
  {
   "cell_type": "markdown",
   "id": "f9f8ed5d",
   "metadata": {},
   "source": [
    "nombre_infected       717\n",
    "nombre_sain          2329\n",
    "nombre_exposed        474\n",
    "nombre_recovered    16480\n",
    "Name: 622, dtype: int64"
   ]
  },
  {
   "cell_type": "markdown",
   "id": "36b99fcf",
   "metadata": {},
   "source": [
    "nombre_infected       725\n",
    "nombre_sain          2327\n",
    "nombre_exposed        477\n",
    "nombre_recovered    16471\n",
    "Name: 623, dtype: int64"
   ]
  },
  {
   "cell_type": "markdown",
   "id": "0c5bc14a",
   "metadata": {},
   "source": [
    "nombre_infected       732\n",
    "nombre_sain          2319\n",
    "nombre_exposed        474\n",
    "nombre_recovered    16475\n",
    "Name: 624, dtype: int64"
   ]
  },
  {
   "cell_type": "markdown",
   "id": "e865165e",
   "metadata": {},
   "source": [
    "nombre_infected       749\n",
    "nombre_sain          2308\n",
    "nombre_exposed        471\n",
    "nombre_recovered    16472\n",
    "Name: 625, dtype: int64"
   ]
  },
  {
   "cell_type": "markdown",
   "id": "03555b55",
   "metadata": {},
   "source": [
    "nombre_infected       741\n",
    "nombre_sain          2327\n",
    "nombre_exposed        474\n",
    "nombre_recovered    16458\n",
    "Name: 626, dtype: int64"
   ]
  },
  {
   "cell_type": "markdown",
   "id": "a62ab0b3",
   "metadata": {},
   "source": [
    "nombre_infected       762\n",
    "nombre_sain          2330\n",
    "nombre_exposed        466\n",
    "nombre_recovered    16442\n",
    "Name: 627, dtype: int64"
   ]
  },
  {
   "cell_type": "markdown",
   "id": "84bc392b",
   "metadata": {},
   "source": [
    "nombre_infected       767\n",
    "nombre_sain          2336\n",
    "nombre_exposed        480\n",
    "nombre_recovered    16417\n",
    "Name: 628, dtype: int64"
   ]
  },
  {
   "cell_type": "markdown",
   "id": "d73d26fa",
   "metadata": {},
   "source": [
    "nombre_infected       754\n",
    "nombre_sain          2360\n",
    "nombre_exposed        468\n",
    "nombre_recovered    16418\n",
    "Name: 629, dtype: int64"
   ]
  },
  {
   "cell_type": "markdown",
   "id": "06e9dee7",
   "metadata": {},
   "source": [
    "nombre_infected       760\n",
    "nombre_sain          2364\n",
    "nombre_exposed        466\n",
    "nombre_recovered    16410\n",
    "Name: 630, dtype: int64"
   ]
  },
  {
   "cell_type": "markdown",
   "id": "a00957dd",
   "metadata": {},
   "source": [
    "nombre_infected       762\n",
    "nombre_sain          2369\n",
    "nombre_exposed        460\n",
    "nombre_recovered    16409\n",
    "Name: 631, dtype: int64"
   ]
  },
  {
   "cell_type": "markdown",
   "id": "b15fce04",
   "metadata": {},
   "source": [
    "nombre_infected       774\n",
    "nombre_sain          2350\n",
    "nombre_exposed        483\n",
    "nombre_recovered    16393\n",
    "Name: 632, dtype: int64"
   ]
  },
  {
   "cell_type": "markdown",
   "id": "976470a1",
   "metadata": {},
   "source": [
    "nombre_infected       796\n",
    "nombre_sain          2342\n",
    "nombre_exposed        491\n",
    "nombre_recovered    16371\n",
    "Name: 633, dtype: int64"
   ]
  },
  {
   "cell_type": "markdown",
   "id": "52ea8470",
   "metadata": {},
   "source": [
    "nombre_infected       800\n",
    "nombre_sain          2332\n",
    "nombre_exposed        503\n",
    "nombre_recovered    16365\n",
    "Name: 634, dtype: int64"
   ]
  },
  {
   "cell_type": "markdown",
   "id": "8c796d6d",
   "metadata": {},
   "source": [
    "nombre_infected       796\n",
    "nombre_sain          2325\n",
    "nombre_exposed        530\n",
    "nombre_recovered    16349\n",
    "Name: 635, dtype: int64"
   ]
  },
  {
   "cell_type": "markdown",
   "id": "cc0ed4cc",
   "metadata": {},
   "source": [
    "nombre_infected       825\n",
    "nombre_sain          2314\n",
    "nombre_exposed        530\n",
    "nombre_recovered    16331\n",
    "Name: 636, dtype: int64"
   ]
  },
  {
   "cell_type": "markdown",
   "id": "92e5bd98",
   "metadata": {},
   "source": [
    "nombre_infected       862\n",
    "nombre_sain          2295\n",
    "nombre_exposed        552\n",
    "nombre_recovered    16291\n",
    "Name: 637, dtype: int64"
   ]
  },
  {
   "cell_type": "markdown",
   "id": "a604c9d7",
   "metadata": {},
   "source": [
    "nombre_infected       846\n",
    "nombre_sain          2291\n",
    "nombre_exposed        564\n",
    "nombre_recovered    16299\n",
    "Name: 638, dtype: int64"
   ]
  },
  {
   "cell_type": "markdown",
   "id": "479db59f",
   "metadata": {},
   "source": [
    "nombre_infected       872\n",
    "nombre_sain          2290\n",
    "nombre_exposed        544\n",
    "nombre_recovered    16294\n",
    "Name: 639, dtype: int64"
   ]
  },
  {
   "cell_type": "markdown",
   "id": "53ccf5ca",
   "metadata": {},
   "source": [
    "nombre_infected       907\n",
    "nombre_sain          2326\n",
    "nombre_exposed        521\n",
    "nombre_recovered    16246\n",
    "Name: 640, dtype: int64"
   ]
  },
  {
   "cell_type": "markdown",
   "id": "fc2eae5a",
   "metadata": {},
   "source": [
    "nombre_infected       922\n",
    "nombre_sain          2333\n",
    "nombre_exposed        510\n",
    "nombre_recovered    16235\n",
    "Name: 641, dtype: int64"
   ]
  },
  {
   "cell_type": "markdown",
   "id": "7fc63c3b",
   "metadata": {},
   "source": [
    "nombre_infected       915\n",
    "nombre_sain          2317\n",
    "nombre_exposed        539\n",
    "nombre_recovered    16229\n",
    "Name: 642, dtype: int64"
   ]
  },
  {
   "cell_type": "markdown",
   "id": "cbe8f0e0",
   "metadata": {},
   "source": [
    "nombre_infected       900\n",
    "nombre_sain          2305\n",
    "nombre_exposed        566\n",
    "nombre_recovered    16229\n",
    "Name: 643, dtype: int64"
   ]
  },
  {
   "cell_type": "markdown",
   "id": "007c32d7",
   "metadata": {},
   "source": [
    "nombre_infected       927\n",
    "nombre_sain          2277\n",
    "nombre_exposed        570\n",
    "nombre_recovered    16226\n",
    "Name: 644, dtype: int64"
   ]
  },
  {
   "cell_type": "markdown",
   "id": "7efdf94c",
   "metadata": {},
   "source": [
    "nombre_infected       936\n",
    "nombre_sain          2297\n",
    "nombre_exposed        557\n",
    "nombre_recovered    16210\n",
    "Name: 645, dtype: int64"
   ]
  },
  {
   "cell_type": "markdown",
   "id": "c17953a4",
   "metadata": {},
   "source": [
    "nombre_infected       956\n",
    "nombre_sain          2279\n",
    "nombre_exposed        590\n",
    "nombre_recovered    16175\n",
    "Name: 646, dtype: int64"
   ]
  },
  {
   "cell_type": "markdown",
   "id": "e362d4c0",
   "metadata": {},
   "source": [
    "nombre_infected       981\n",
    "nombre_sain          2271\n",
    "nombre_exposed        587\n",
    "nombre_recovered    16161\n",
    "Name: 647, dtype: int64"
   ]
  },
  {
   "cell_type": "markdown",
   "id": "e5bea653",
   "metadata": {},
   "source": [
    "nombre_infected       977\n",
    "nombre_sain          2272\n",
    "nombre_exposed        591\n",
    "nombre_recovered    16160\n",
    "Name: 648, dtype: int64"
   ]
  },
  {
   "cell_type": "markdown",
   "id": "16c55d29",
   "metadata": {},
   "source": [
    "nombre_infected      1009\n",
    "nombre_sain          2271\n",
    "nombre_exposed        576\n",
    "nombre_recovered    16144\n",
    "Name: 649, dtype: int64"
   ]
  },
  {
   "cell_type": "markdown",
   "id": "87241340",
   "metadata": {},
   "source": [
    "nombre_infected      1029\n",
    "nombre_sain          2243\n",
    "nombre_exposed        569\n",
    "nombre_recovered    16159\n",
    "Name: 650, dtype: int64"
   ]
  },
  {
   "cell_type": "markdown",
   "id": "fd7a5cda",
   "metadata": {},
   "source": [
    "nombre_infected      1043\n",
    "nombre_sain          2184\n",
    "nombre_exposed        582\n",
    "nombre_recovered    16191\n",
    "Name: 651, dtype: int64"
   ]
  },
  {
   "cell_type": "markdown",
   "id": "d121cb97",
   "metadata": {},
   "source": [
    "nombre_infected      1066\n",
    "nombre_sain          2158\n",
    "nombre_exposed        573\n",
    "nombre_recovered    16203\n",
    "Name: 652, dtype: int64"
   ]
  },
  {
   "cell_type": "markdown",
   "id": "53fde789",
   "metadata": {},
   "source": [
    "nombre_infected      1046\n",
    "nombre_sain          2121\n",
    "nombre_exposed        590\n",
    "nombre_recovered    16243\n",
    "Name: 653, dtype: int64"
   ]
  },
  {
   "cell_type": "markdown",
   "id": "085b4a47",
   "metadata": {},
   "source": [
    "nombre_infected      1054\n",
    "nombre_sain          2093\n",
    "nombre_exposed        591\n",
    "nombre_recovered    16262\n",
    "Name: 654, dtype: int64"
   ]
  },
  {
   "cell_type": "markdown",
   "id": "f66f10fa",
   "metadata": {},
   "source": [
    "nombre_infected      1038\n",
    "nombre_sain          2053\n",
    "nombre_exposed        601\n",
    "nombre_recovered    16308\n",
    "Name: 655, dtype: int64"
   ]
  },
  {
   "cell_type": "markdown",
   "id": "48bcc606",
   "metadata": {},
   "source": [
    "nombre_infected      1023\n",
    "nombre_sain          2050\n",
    "nombre_exposed        603\n",
    "nombre_recovered    16324\n",
    "Name: 656, dtype: int64"
   ]
  },
  {
   "cell_type": "markdown",
   "id": "69a2cc89",
   "metadata": {},
   "source": [
    "nombre_infected      1059\n",
    "nombre_sain          2040\n",
    "nombre_exposed        574\n",
    "nombre_recovered    16327\n",
    "Name: 657, dtype: int64"
   ]
  },
  {
   "cell_type": "markdown",
   "id": "7c18737c",
   "metadata": {},
   "source": [
    "nombre_infected      1052\n",
    "nombre_sain          2022\n",
    "nombre_exposed        575\n",
    "nombre_recovered    16351\n",
    "Name: 658, dtype: int64"
   ]
  },
  {
   "cell_type": "markdown",
   "id": "1461d4f2",
   "metadata": {},
   "source": [
    "nombre_infected      1032\n",
    "nombre_sain          2008\n",
    "nombre_exposed        574\n",
    "nombre_recovered    16386\n",
    "Name: 659, dtype: int64"
   ]
  },
  {
   "cell_type": "markdown",
   "id": "20571e34",
   "metadata": {},
   "source": [
    "nombre_infected      1043\n",
    "nombre_sain          2001\n",
    "nombre_exposed        582\n",
    "nombre_recovered    16374\n",
    "Name: 660, dtype: int64"
   ]
  },
  {
   "cell_type": "markdown",
   "id": "db350f5b",
   "metadata": {},
   "source": [
    "nombre_infected      1062\n",
    "nombre_sain          1970\n",
    "nombre_exposed        563\n",
    "nombre_recovered    16405\n",
    "Name: 661, dtype: int64"
   ]
  },
  {
   "cell_type": "markdown",
   "id": "44520744",
   "metadata": {},
   "source": [
    "nombre_infected      1044\n",
    "nombre_sain          1951\n",
    "nombre_exposed        567\n",
    "nombre_recovered    16438\n",
    "Name: 662, dtype: int64"
   ]
  },
  {
   "cell_type": "markdown",
   "id": "5eb0ed9e",
   "metadata": {},
   "source": [
    "nombre_infected      1042\n",
    "nombre_sain          1931\n",
    "nombre_exposed        551\n",
    "nombre_recovered    16476\n",
    "Name: 663, dtype: int64"
   ]
  },
  {
   "cell_type": "markdown",
   "id": "f406218a",
   "metadata": {},
   "source": [
    "nombre_infected      1043\n",
    "nombre_sain          1922\n",
    "nombre_exposed        533\n",
    "nombre_recovered    16502\n",
    "Name: 664, dtype: int64"
   ]
  },
  {
   "cell_type": "markdown",
   "id": "df7d0060",
   "metadata": {},
   "source": [
    "nombre_infected      1021\n",
    "nombre_sain          1893\n",
    "nombre_exposed        537\n",
    "nombre_recovered    16549\n",
    "Name: 665, dtype: int64"
   ]
  },
  {
   "cell_type": "markdown",
   "id": "eca7efb2",
   "metadata": {},
   "source": [
    "nombre_infected       999\n",
    "nombre_sain          1886\n",
    "nombre_exposed        537\n",
    "nombre_recovered    16578\n",
    "Name: 666, dtype: int64"
   ]
  },
  {
   "cell_type": "markdown",
   "id": "86b0c0c8",
   "metadata": {},
   "source": [
    "nombre_infected       989\n",
    "nombre_sain          1856\n",
    "nombre_exposed        552\n",
    "nombre_recovered    16603\n",
    "Name: 667, dtype: int64"
   ]
  },
  {
   "cell_type": "markdown",
   "id": "c0ae060c",
   "metadata": {},
   "source": [
    "nombre_infected       976\n",
    "nombre_sain          1871\n",
    "nombre_exposed        524\n",
    "nombre_recovered    16629\n",
    "Name: 668, dtype: int64"
   ]
  },
  {
   "cell_type": "markdown",
   "id": "1df36d81",
   "metadata": {},
   "source": [
    "nombre_infected       966\n",
    "nombre_sain          1859\n",
    "nombre_exposed        511\n",
    "nombre_recovered    16664\n",
    "Name: 669, dtype: int64"
   ]
  },
  {
   "cell_type": "markdown",
   "id": "0313758a",
   "metadata": {},
   "source": [
    "nombre_infected       959\n",
    "nombre_sain          1869\n",
    "nombre_exposed        490\n",
    "nombre_recovered    16682\n",
    "Name: 670, dtype: int64"
   ]
  },
  {
   "cell_type": "markdown",
   "id": "8e231f60",
   "metadata": {},
   "source": [
    "nombre_infected       953\n",
    "nombre_sain          1874\n",
    "nombre_exposed        480\n",
    "nombre_recovered    16693\n",
    "Name: 671, dtype: int64"
   ]
  },
  {
   "cell_type": "markdown",
   "id": "2f3dd305",
   "metadata": {},
   "source": [
    "nombre_infected       939\n",
    "nombre_sain          1880\n",
    "nombre_exposed        469\n",
    "nombre_recovered    16712\n",
    "Name: 672, dtype: int64"
   ]
  },
  {
   "cell_type": "markdown",
   "id": "8fc6fa9f",
   "metadata": {},
   "source": [
    "nombre_infected       907\n",
    "nombre_sain          1874\n",
    "nombre_exposed        478\n",
    "nombre_recovered    16741\n",
    "Name: 673, dtype: int64"
   ]
  },
  {
   "cell_type": "markdown",
   "id": "145cc576",
   "metadata": {},
   "source": [
    "nombre_infected       876\n",
    "nombre_sain          1863\n",
    "nombre_exposed        494\n",
    "nombre_recovered    16767\n",
    "Name: 674, dtype: int64"
   ]
  },
  {
   "cell_type": "markdown",
   "id": "b100d674",
   "metadata": {},
   "source": [
    "nombre_infected       850\n",
    "nombre_sain          1888\n",
    "nombre_exposed        483\n",
    "nombre_recovered    16779\n",
    "Name: 675, dtype: int64"
   ]
  },
  {
   "cell_type": "markdown",
   "id": "fa4a65eb",
   "metadata": {},
   "source": [
    "nombre_infected       876\n",
    "nombre_sain          1904\n",
    "nombre_exposed        445\n",
    "nombre_recovered    16775\n",
    "Name: 676, dtype: int64"
   ]
  },
  {
   "cell_type": "markdown",
   "id": "56ababdb",
   "metadata": {},
   "source": [
    "nombre_infected       869\n",
    "nombre_sain          1876\n",
    "nombre_exposed        460\n",
    "nombre_recovered    16795\n",
    "Name: 677, dtype: int64"
   ]
  },
  {
   "cell_type": "markdown",
   "id": "25d030be",
   "metadata": {},
   "source": [
    "nombre_infected       869\n",
    "nombre_sain          1932\n",
    "nombre_exposed        435\n",
    "nombre_recovered    16764\n",
    "Name: 678, dtype: int64"
   ]
  },
  {
   "cell_type": "markdown",
   "id": "d623c5ef",
   "metadata": {},
   "source": [
    "nombre_infected       873\n",
    "nombre_sain          1962\n",
    "nombre_exposed        427\n",
    "nombre_recovered    16738\n",
    "Name: 679, dtype: int64"
   ]
  },
  {
   "cell_type": "markdown",
   "id": "953d529a",
   "metadata": {},
   "source": [
    "nombre_infected       858\n",
    "nombre_sain          2001\n",
    "nombre_exposed        430\n",
    "nombre_recovered    16711\n",
    "Name: 680, dtype: int64"
   ]
  },
  {
   "cell_type": "markdown",
   "id": "58d57149",
   "metadata": {},
   "source": [
    "nombre_infected       877\n",
    "nombre_sain          2029\n",
    "nombre_exposed        418\n",
    "nombre_recovered    16676\n",
    "Name: 681, dtype: int64"
   ]
  },
  {
   "cell_type": "markdown",
   "id": "6eb09e7d",
   "metadata": {},
   "source": [
    "nombre_infected       862\n",
    "nombre_sain          2031\n",
    "nombre_exposed        422\n",
    "nombre_recovered    16685\n",
    "Name: 682, dtype: int64"
   ]
  },
  {
   "cell_type": "markdown",
   "id": "f25480cd",
   "metadata": {},
   "source": [
    "nombre_infected       878\n",
    "nombre_sain          2031\n",
    "nombre_exposed        433\n",
    "nombre_recovered    16658\n",
    "Name: 683, dtype: int64"
   ]
  },
  {
   "cell_type": "markdown",
   "id": "35f1ad6c",
   "metadata": {},
   "source": [
    "nombre_infected       857\n",
    "nombre_sain          2029\n",
    "nombre_exposed        452\n",
    "nombre_recovered    16662\n",
    "Name: 684, dtype: int64"
   ]
  },
  {
   "cell_type": "markdown",
   "id": "48cf59ca",
   "metadata": {},
   "source": [
    "nombre_infected       849\n",
    "nombre_sain          2041\n",
    "nombre_exposed        445\n",
    "nombre_recovered    16665\n",
    "Name: 685, dtype: int64"
   ]
  },
  {
   "cell_type": "markdown",
   "id": "a5f4ef07",
   "metadata": {},
   "source": [
    "nombre_infected       849\n",
    "nombre_sain          2024\n",
    "nombre_exposed        454\n",
    "nombre_recovered    16673\n",
    "Name: 686, dtype: int64"
   ]
  },
  {
   "cell_type": "markdown",
   "id": "dca3b648",
   "metadata": {},
   "source": [
    "nombre_infected       857\n",
    "nombre_sain          2024\n",
    "nombre_exposed        446\n",
    "nombre_recovered    16673\n",
    "Name: 687, dtype: int64"
   ]
  },
  {
   "cell_type": "markdown",
   "id": "13db52c0",
   "metadata": {},
   "source": [
    "nombre_infected       838\n",
    "nombre_sain          2004\n",
    "nombre_exposed        468\n",
    "nombre_recovered    16690\n",
    "Name: 688, dtype: int64"
   ]
  },
  {
   "cell_type": "markdown",
   "id": "b7397cae",
   "metadata": {},
   "source": [
    "nombre_infected       842\n",
    "nombre_sain          2020\n",
    "nombre_exposed        442\n",
    "nombre_recovered    16696\n",
    "Name: 689, dtype: int64"
   ]
  },
  {
   "cell_type": "markdown",
   "id": "c5d0596c",
   "metadata": {},
   "source": [
    "nombre_infected       865\n",
    "nombre_sain          2006\n",
    "nombre_exposed        427\n",
    "nombre_recovered    16702\n",
    "Name: 690, dtype: int64"
   ]
  },
  {
   "cell_type": "markdown",
   "id": "0f13d9ef",
   "metadata": {},
   "source": [
    "nombre_infected       842\n",
    "nombre_sain          2011\n",
    "nombre_exposed        430\n",
    "nombre_recovered    16717\n",
    "Name: 691, dtype: int64"
   ]
  },
  {
   "cell_type": "markdown",
   "id": "4d83c2f0",
   "metadata": {},
   "source": [
    "nombre_infected       806\n",
    "nombre_sain          2009\n",
    "nombre_exposed        445\n",
    "nombre_recovered    16740\n",
    "Name: 692, dtype: int64"
   ]
  },
  {
   "cell_type": "markdown",
   "id": "b6637e84",
   "metadata": {},
   "source": [
    "nombre_infected       809\n",
    "nombre_sain          2012\n",
    "nombre_exposed        440\n",
    "nombre_recovered    16739\n",
    "Name: 693, dtype: int64"
   ]
  },
  {
   "cell_type": "markdown",
   "id": "8f5a229e",
   "metadata": {},
   "source": [
    "nombre_infected       797\n",
    "nombre_sain          2031\n",
    "nombre_exposed        436\n",
    "nombre_recovered    16736\n",
    "Name: 694, dtype: int64"
   ]
  },
  {
   "cell_type": "markdown",
   "id": "66c0fad8",
   "metadata": {},
   "source": [
    "nombre_infected       808\n",
    "nombre_sain          2029\n",
    "nombre_exposed        428\n",
    "nombre_recovered    16735\n",
    "Name: 695, dtype: int64"
   ]
  },
  {
   "cell_type": "markdown",
   "id": "28c4b14e",
   "metadata": {},
   "source": [
    "nombre_infected       789\n",
    "nombre_sain          2043\n",
    "nombre_exposed        429\n",
    "nombre_recovered    16739\n",
    "Name: 696, dtype: int64"
   ]
  },
  {
   "cell_type": "markdown",
   "id": "f33427bc",
   "metadata": {},
   "source": [
    "nombre_infected       787\n",
    "nombre_sain          2024\n",
    "nombre_exposed        443\n",
    "nombre_recovered    16746\n",
    "Name: 697, dtype: int64"
   ]
  },
  {
   "cell_type": "markdown",
   "id": "a037f46f",
   "metadata": {},
   "source": [
    "nombre_infected       791\n",
    "nombre_sain          2022\n",
    "nombre_exposed        445\n",
    "nombre_recovered    16742\n",
    "Name: 698, dtype: int64"
   ]
  },
  {
   "cell_type": "markdown",
   "id": "8154f3b8",
   "metadata": {},
   "source": [
    "nombre_infected       788\n",
    "nombre_sain          2002\n",
    "nombre_exposed        451\n",
    "nombre_recovered    16759\n",
    "Name: 699, dtype: int64"
   ]
  },
  {
   "cell_type": "markdown",
   "id": "806ed9e1",
   "metadata": {},
   "source": [
    "nombre_infected       804\n",
    "nombre_sain          1991\n",
    "nombre_exposed        462\n",
    "nombre_recovered    16743\n",
    "Name: 700, dtype: int64"
   ]
  },
  {
   "cell_type": "markdown",
   "id": "c79768f8",
   "metadata": {},
   "source": [
    "nombre_infected       821\n",
    "nombre_sain          1988\n",
    "nombre_exposed        445\n",
    "nombre_recovered    16746\n",
    "Name: 701, dtype: int64"
   ]
  },
  {
   "cell_type": "markdown",
   "id": "0dd16b32",
   "metadata": {},
   "source": [
    "nombre_infected       835\n",
    "nombre_sain          1990\n",
    "nombre_exposed        433\n",
    "nombre_recovered    16742\n",
    "Name: 702, dtype: int64"
   ]
  },
  {
   "cell_type": "markdown",
   "id": "a890fd6f",
   "metadata": {},
   "source": [
    "nombre_infected       832\n",
    "nombre_sain          1993\n",
    "nombre_exposed        435\n",
    "nombre_recovered    16740\n",
    "Name: 703, dtype: int64"
   ]
  },
  {
   "cell_type": "markdown",
   "id": "4ba5bc1e",
   "metadata": {},
   "source": [
    "nombre_infected       834\n",
    "nombre_sain          2012\n",
    "nombre_exposed        425\n",
    "nombre_recovered    16729\n",
    "Name: 704, dtype: int64"
   ]
  },
  {
   "cell_type": "markdown",
   "id": "1a494a99",
   "metadata": {},
   "source": [
    "nombre_infected       837\n",
    "nombre_sain          2008\n",
    "nombre_exposed        427\n",
    "nombre_recovered    16728\n",
    "Name: 705, dtype: int64"
   ]
  },
  {
   "cell_type": "markdown",
   "id": "6d258157",
   "metadata": {},
   "source": [
    "nombre_infected       842\n",
    "nombre_sain          2002\n",
    "nombre_exposed        432\n",
    "nombre_recovered    16724\n",
    "Name: 706, dtype: int64"
   ]
  },
  {
   "cell_type": "markdown",
   "id": "1701fc0c",
   "metadata": {},
   "source": [
    "nombre_infected       849\n",
    "nombre_sain          2001\n",
    "nombre_exposed        432\n",
    "nombre_recovered    16718\n",
    "Name: 707, dtype: int64"
   ]
  },
  {
   "cell_type": "markdown",
   "id": "151658c1",
   "metadata": {},
   "source": [
    "nombre_infected       836\n",
    "nombre_sain          2007\n",
    "nombre_exposed        450\n",
    "nombre_recovered    16707\n",
    "Name: 708, dtype: int64"
   ]
  },
  {
   "cell_type": "markdown",
   "id": "6c1ca92f",
   "metadata": {},
   "source": [
    "nombre_infected       841\n",
    "nombre_sain          2016\n",
    "nombre_exposed        435\n",
    "nombre_recovered    16708\n",
    "Name: 709, dtype: int64"
   ]
  },
  {
   "cell_type": "markdown",
   "id": "ba1e4768",
   "metadata": {},
   "source": [
    "nombre_infected       830\n",
    "nombre_sain          2006\n",
    "nombre_exposed        470\n",
    "nombre_recovered    16694\n",
    "Name: 710, dtype: int64"
   ]
  },
  {
   "cell_type": "markdown",
   "id": "d0661ff5",
   "metadata": {},
   "source": [
    "nombre_infected       834\n",
    "nombre_sain          2028\n",
    "nombre_exposed        462\n",
    "nombre_recovered    16676\n",
    "Name: 711, dtype: int64"
   ]
  },
  {
   "cell_type": "markdown",
   "id": "cd3b44e4",
   "metadata": {},
   "source": [
    "nombre_infected       828\n",
    "nombre_sain          2024\n",
    "nombre_exposed        450\n",
    "nombre_recovered    16698\n",
    "Name: 712, dtype: int64"
   ]
  },
  {
   "cell_type": "markdown",
   "id": "ac8fde49",
   "metadata": {},
   "source": [
    "nombre_infected       833\n",
    "nombre_sain          2019\n",
    "nombre_exposed        458\n",
    "nombre_recovered    16690\n",
    "Name: 713, dtype: int64"
   ]
  },
  {
   "cell_type": "markdown",
   "id": "300220a0",
   "metadata": {},
   "source": [
    "nombre_infected       851\n",
    "nombre_sain          2023\n",
    "nombre_exposed        441\n",
    "nombre_recovered    16685\n",
    "Name: 714, dtype: int64"
   ]
  },
  {
   "cell_type": "markdown",
   "id": "2406b453",
   "metadata": {},
   "source": [
    "nombre_infected       864\n",
    "nombre_sain          2013\n",
    "nombre_exposed        438\n",
    "nombre_recovered    16685\n",
    "Name: 715, dtype: int64"
   ]
  },
  {
   "cell_type": "markdown",
   "id": "e38b14a3",
   "metadata": {},
   "source": [
    "nombre_infected       844\n",
    "nombre_sain          2004\n",
    "nombre_exposed        455\n",
    "nombre_recovered    16697\n",
    "Name: 716, dtype: int64"
   ]
  },
  {
   "cell_type": "markdown",
   "id": "2743455f",
   "metadata": {},
   "source": [
    "nombre_infected       836\n",
    "nombre_sain          2003\n",
    "nombre_exposed        478\n",
    "nombre_recovered    16683\n",
    "Name: 717, dtype: int64"
   ]
  },
  {
   "cell_type": "markdown",
   "id": "ea7b3fb0",
   "metadata": {},
   "source": [
    "nombre_infected       837\n",
    "nombre_sain          1976\n",
    "nombre_exposed        495\n",
    "nombre_recovered    16692\n",
    "Name: 718, dtype: int64"
   ]
  },
  {
   "cell_type": "markdown",
   "id": "de90d4f6",
   "metadata": {},
   "source": [
    "nombre_infected       848\n",
    "nombre_sain          1967\n",
    "nombre_exposed        482\n",
    "nombre_recovered    16703\n",
    "Name: 719, dtype: int64"
   ]
  },
  {
   "cell_type": "markdown",
   "id": "42402bbb",
   "metadata": {},
   "source": [
    "nombre_infected       872\n",
    "nombre_sain          1947\n",
    "nombre_exposed        475\n",
    "nombre_recovered    16706\n",
    "Name: 720, dtype: int64"
   ]
  },
  {
   "cell_type": "markdown",
   "id": "ab723821",
   "metadata": {},
   "source": [
    "nombre_infected       859\n",
    "nombre_sain          1933\n",
    "nombre_exposed        498\n",
    "nombre_recovered    16710\n",
    "Name: 721, dtype: int64"
   ]
  },
  {
   "cell_type": "markdown",
   "id": "c364cf6e",
   "metadata": {},
   "source": [
    "nombre_infected       845\n",
    "nombre_sain          1916\n",
    "nombre_exposed        519\n",
    "nombre_recovered    16720\n",
    "Name: 722, dtype: int64"
   ]
  },
  {
   "cell_type": "markdown",
   "id": "84dd6060",
   "metadata": {},
   "source": [
    "nombre_infected       870\n",
    "nombre_sain          1921\n",
    "nombre_exposed        485\n",
    "nombre_recovered    16724\n",
    "Name: 723, dtype: int64"
   ]
  },
  {
   "cell_type": "markdown",
   "id": "7ba1123f",
   "metadata": {},
   "source": [
    "nombre_infected       897\n",
    "nombre_sain          1903\n",
    "nombre_exposed        467\n",
    "nombre_recovered    16733\n",
    "Name: 724, dtype: int64"
   ]
  },
  {
   "cell_type": "markdown",
   "id": "5613ee9e",
   "metadata": {},
   "source": [
    "nombre_infected       892\n",
    "nombre_sain          1900\n",
    "nombre_exposed        469\n",
    "nombre_recovered    16739\n",
    "Name: 725, dtype: int64"
   ]
  },
  {
   "cell_type": "markdown",
   "id": "e44d1ede",
   "metadata": {},
   "source": [
    "nombre_infected       903\n",
    "nombre_sain          1912\n",
    "nombre_exposed        467\n",
    "nombre_recovered    16718\n",
    "Name: 726, dtype: int64"
   ]
  },
  {
   "cell_type": "markdown",
   "id": "67d4a621",
   "metadata": {},
   "source": [
    "nombre_infected       890\n",
    "nombre_sain          1920\n",
    "nombre_exposed        450\n",
    "nombre_recovered    16740\n",
    "Name: 727, dtype: int64"
   ]
  },
  {
   "cell_type": "markdown",
   "id": "8ea63561",
   "metadata": {},
   "source": [
    "nombre_infected       872\n",
    "nombre_sain          1945\n",
    "nombre_exposed        443\n",
    "nombre_recovered    16740\n",
    "Name: 728, dtype: int64"
   ]
  },
  {
   "cell_type": "markdown",
   "id": "eac38df0",
   "metadata": {},
   "source": [
    "nombre_infected       854\n",
    "nombre_sain          1941\n",
    "nombre_exposed        442\n",
    "nombre_recovered    16763\n",
    "Name: 729, dtype: int64"
   ]
  },
  {
   "cell_type": "markdown",
   "id": "c828c8a3",
   "metadata": {},
   "source": [
    "nombre_infected       863\n",
    "nombre_sain          1933\n",
    "nombre_exposed        426\n",
    "nombre_recovered    16778\n",
    "Name: 730, dtype: int64"
   ]
  }
 ],
 "metadata": {},
 "nbformat": 4,
 "nbformat_minor": 5
}
