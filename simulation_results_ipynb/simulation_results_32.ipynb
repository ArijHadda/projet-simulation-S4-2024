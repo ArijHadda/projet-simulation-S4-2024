{
 "cells": [
  {
   "cell_type": "markdown",
   "id": "385920d4",
   "metadata": {},
   "source": [
    "nombre_infected        20\n",
    "nombre_sain         19980\n",
    "nombre_exposed          0\n",
    "nombre_recovered        0\n",
    "Name: 0, dtype: int64"
   ]
  },
  {
   "cell_type": "markdown",
   "id": "7b04a511",
   "metadata": {},
   "source": [
    "nombre_infected        20\n",
    "nombre_sain         19964\n",
    "nombre_exposed         16\n",
    "nombre_recovered        0\n",
    "Name: 1, dtype: int64"
   ]
  },
  {
   "cell_type": "markdown",
   "id": "2a08a747",
   "metadata": {},
   "source": [
    "nombre_infected         1\n",
    "nombre_sain         19952\n",
    "nombre_exposed         28\n",
    "nombre_recovered       19\n",
    "Name: 2, dtype: int64"
   ]
  },
  {
   "cell_type": "markdown",
   "id": "3e247096",
   "metadata": {},
   "source": [
    "nombre_infected         3\n",
    "nombre_sain         19950\n",
    "nombre_exposed         28\n",
    "nombre_recovered       19\n",
    "Name: 3, dtype: int64"
   ]
  },
  {
   "cell_type": "markdown",
   "id": "bf6eb8dd",
   "metadata": {},
   "source": [
    "nombre_infected        12\n",
    "nombre_sain         19942\n",
    "nombre_exposed         27\n",
    "nombre_recovered       19\n",
    "Name: 4, dtype: int64"
   ]
  },
  {
   "cell_type": "markdown",
   "id": "36cc8257",
   "metadata": {},
   "source": [
    "nombre_infected        18\n",
    "nombre_sain         19922\n",
    "nombre_exposed         41\n",
    "nombre_recovered       19\n",
    "Name: 5, dtype: int64"
   ]
  },
  {
   "cell_type": "markdown",
   "id": "09fa66da",
   "metadata": {},
   "source": [
    "nombre_infected        19\n",
    "nombre_sain         19908\n",
    "nombre_exposed         49\n",
    "nombre_recovered       24\n",
    "Name: 6, dtype: int64"
   ]
  },
  {
   "cell_type": "markdown",
   "id": "425a86a9",
   "metadata": {},
   "source": [
    "nombre_infected        27\n",
    "nombre_sain         19887\n",
    "nombre_exposed         62\n",
    "nombre_recovered       24\n",
    "Name: 7, dtype: int64"
   ]
  },
  {
   "cell_type": "markdown",
   "id": "37e5a979",
   "metadata": {},
   "source": [
    "nombre_infected        40\n",
    "nombre_sain         19842\n",
    "nombre_exposed         91\n",
    "nombre_recovered       27\n",
    "Name: 8, dtype: int64"
   ]
  },
  {
   "cell_type": "markdown",
   "id": "a309ef6e",
   "metadata": {},
   "source": [
    "nombre_infected        55\n",
    "nombre_sain         19794\n",
    "nombre_exposed        121\n",
    "nombre_recovered       30\n",
    "Name: 9, dtype: int64"
   ]
  },
  {
   "cell_type": "markdown",
   "id": "18b14d8e",
   "metadata": {},
   "source": [
    "nombre_infected        70\n",
    "nombre_sain         19721\n",
    "nombre_exposed        174\n",
    "nombre_recovered       35\n",
    "Name: 10, dtype: int64"
   ]
  },
  {
   "cell_type": "markdown",
   "id": "a6f5ae24",
   "metadata": {},
   "source": [
    "nombre_infected        93\n",
    "nombre_sain         19621\n",
    "nombre_exposed        243\n",
    "nombre_recovered       43\n",
    "Name: 11, dtype: int64"
   ]
  },
  {
   "cell_type": "markdown",
   "id": "559d976d",
   "metadata": {},
   "source": [
    "nombre_infected       122\n",
    "nombre_sain         19480\n",
    "nombre_exposed        349\n",
    "nombre_recovered       49\n",
    "Name: 12, dtype: int64"
   ]
  },
  {
   "cell_type": "markdown",
   "id": "b387043b",
   "metadata": {},
   "source": [
    "nombre_infected       177\n",
    "nombre_sain         19273\n",
    "nombre_exposed        493\n",
    "nombre_recovered       57\n",
    "Name: 13, dtype: int64"
   ]
  },
  {
   "cell_type": "markdown",
   "id": "319879e3",
   "metadata": {},
   "source": [
    "nombre_infected       241\n",
    "nombre_sain         19024\n",
    "nombre_exposed        661\n",
    "nombre_recovered       74\n",
    "Name: 14, dtype: int64"
   ]
  },
  {
   "cell_type": "markdown",
   "id": "87627365",
   "metadata": {},
   "source": [
    "nombre_infected       341\n",
    "nombre_sain         18664\n",
    "nombre_exposed        903\n",
    "nombre_recovered       92\n",
    "Name: 15, dtype: int64"
   ]
  },
  {
   "cell_type": "markdown",
   "id": "7512ef25",
   "metadata": {},
   "source": [
    "nombre_infected       459\n",
    "nombre_sain         18220\n",
    "nombre_exposed       1196\n",
    "nombre_recovered      125\n",
    "Name: 16, dtype: int64"
   ]
  },
  {
   "cell_type": "markdown",
   "id": "1662a0c9",
   "metadata": {},
   "source": [
    "nombre_infected       637\n",
    "nombre_sain         17578\n",
    "nombre_exposed       1614\n",
    "nombre_recovered      171\n",
    "Name: 17, dtype: int64"
   ]
  },
  {
   "cell_type": "markdown",
   "id": "0e074784",
   "metadata": {},
   "source": [
    "nombre_infected       864\n",
    "nombre_sain         16825\n",
    "nombre_exposed       2083\n",
    "nombre_recovered      228\n",
    "Name: 18, dtype: int64"
   ]
  },
  {
   "cell_type": "markdown",
   "id": "cdb98f20",
   "metadata": {},
   "source": [
    "nombre_infected      1119\n",
    "nombre_sain         15915\n",
    "nombre_exposed       2648\n",
    "nombre_recovered      318\n",
    "Name: 19, dtype: int64"
   ]
  },
  {
   "cell_type": "markdown",
   "id": "5a73f604",
   "metadata": {},
   "source": [
    "nombre_infected      1571\n",
    "nombre_sain         14730\n",
    "nombre_exposed       3291\n",
    "nombre_recovered      408\n",
    "Name: 20, dtype: int64"
   ]
  },
  {
   "cell_type": "markdown",
   "id": "2ae6aa1f",
   "metadata": {},
   "source": [
    "nombre_infected      2123\n",
    "nombre_sain         13231\n",
    "nombre_exposed       4114\n",
    "nombre_recovered      532\n",
    "Name: 21, dtype: int64"
   ]
  },
  {
   "cell_type": "markdown",
   "id": "945b4a2d",
   "metadata": {},
   "source": [
    "nombre_infected      2670\n",
    "nombre_sain         11493\n",
    "nombre_exposed       5117\n",
    "nombre_recovered      720\n",
    "Name: 22, dtype: int64"
   ]
  },
  {
   "cell_type": "markdown",
   "id": "04cc8ca0",
   "metadata": {},
   "source": [
    "nombre_infected     3429\n",
    "nombre_sain         9700\n",
    "nombre_exposed      5875\n",
    "nombre_recovered     996\n",
    "Name: 23, dtype: int64"
   ]
  },
  {
   "cell_type": "markdown",
   "id": "9cff0f00",
   "metadata": {},
   "source": [
    "nombre_infected     4332\n",
    "nombre_sain         7860\n",
    "nombre_exposed      6500\n",
    "nombre_recovered    1308\n",
    "Name: 24, dtype: int64"
   ]
  },
  {
   "cell_type": "markdown",
   "id": "8249657d",
   "metadata": {},
   "source": [
    "nombre_infected     5332\n",
    "nombre_sain         6140\n",
    "nombre_exposed      6839\n",
    "nombre_recovered    1689\n",
    "Name: 25, dtype: int64"
   ]
  },
  {
   "cell_type": "markdown",
   "id": "936fb9c2",
   "metadata": {},
   "source": [
    "nombre_infected     6384\n",
    "nombre_sain         4588\n",
    "nombre_exposed      6806\n",
    "nombre_recovered    2222\n",
    "Name: 26, dtype: int64"
   ]
  },
  {
   "cell_type": "markdown",
   "id": "e271bd46",
   "metadata": {},
   "source": [
    "nombre_infected     7252\n",
    "nombre_sain         3368\n",
    "nombre_exposed      6535\n",
    "nombre_recovered    2845\n",
    "Name: 27, dtype: int64"
   ]
  },
  {
   "cell_type": "markdown",
   "id": "a9f226db",
   "metadata": {},
   "source": [
    "nombre_infected     8058\n",
    "nombre_sain         2352\n",
    "nombre_exposed      5961\n",
    "nombre_recovered    3629\n",
    "Name: 28, dtype: int64"
   ]
  },
  {
   "cell_type": "markdown",
   "id": "31e1f9f8",
   "metadata": {},
   "source": [
    "nombre_infected     8599\n",
    "nombre_sain         1655\n",
    "nombre_exposed      5273\n",
    "nombre_recovered    4473\n",
    "Name: 29, dtype: int64"
   ]
  },
  {
   "cell_type": "markdown",
   "id": "71525a3c",
   "metadata": {},
   "source": [
    "nombre_infected     8957\n",
    "nombre_sain         1117\n",
    "nombre_exposed      4477\n",
    "nombre_recovered    5449\n",
    "Name: 30, dtype: int64"
   ]
  },
  {
   "cell_type": "markdown",
   "id": "386c734a",
   "metadata": {},
   "source": [
    "nombre_infected     9106\n",
    "nombre_sain          757\n",
    "nombre_exposed      3702\n",
    "nombre_recovered    6435\n",
    "Name: 31, dtype: int64"
   ]
  },
  {
   "cell_type": "markdown",
   "id": "4121b822",
   "metadata": {},
   "source": [
    "nombre_infected     9050\n",
    "nombre_sain          530\n",
    "nombre_exposed      2994\n",
    "nombre_recovered    7426\n",
    "Name: 32, dtype: int64"
   ]
  },
  {
   "cell_type": "markdown",
   "id": "1f3d869e",
   "metadata": {},
   "source": [
    "nombre_infected     8810\n",
    "nombre_sain          391\n",
    "nombre_exposed      2399\n",
    "nombre_recovered    8400\n",
    "Name: 33, dtype: int64"
   ]
  },
  {
   "cell_type": "markdown",
   "id": "5ac32933",
   "metadata": {},
   "source": [
    "nombre_infected     8351\n",
    "nombre_sain          298\n",
    "nombre_exposed      1898\n",
    "nombre_recovered    9453\n",
    "Name: 34, dtype: int64"
   ]
  },
  {
   "cell_type": "markdown",
   "id": "fc08ae21",
   "metadata": {},
   "source": [
    "nombre_infected      7891\n",
    "nombre_sain           236\n",
    "nombre_exposed       1453\n",
    "nombre_recovered    10420\n",
    "Name: 35, dtype: int64"
   ]
  },
  {
   "cell_type": "markdown",
   "id": "b1bac9e3",
   "metadata": {},
   "source": [
    "nombre_infected      7376\n",
    "nombre_sain           204\n",
    "nombre_exposed       1120\n",
    "nombre_recovered    11300\n",
    "Name: 36, dtype: int64"
   ]
  },
  {
   "cell_type": "markdown",
   "id": "47c1071c",
   "metadata": {},
   "source": [
    "nombre_infected      6763\n",
    "nombre_sain           173\n",
    "nombre_exposed        881\n",
    "nombre_recovered    12183\n",
    "Name: 37, dtype: int64"
   ]
  },
  {
   "cell_type": "markdown",
   "id": "c6bced03",
   "metadata": {},
   "source": [
    "nombre_infected      6178\n",
    "nombre_sain           177\n",
    "nombre_exposed        682\n",
    "nombre_recovered    12963\n",
    "Name: 38, dtype: int64"
   ]
  },
  {
   "cell_type": "markdown",
   "id": "01499444",
   "metadata": {},
   "source": [
    "nombre_infected      5623\n",
    "nombre_sain           180\n",
    "nombre_exposed        524\n",
    "nombre_recovered    13673\n",
    "Name: 39, dtype: int64"
   ]
  },
  {
   "cell_type": "markdown",
   "id": "dbbe937e",
   "metadata": {},
   "source": [
    "nombre_infected      5090\n",
    "nombre_sain           183\n",
    "nombre_exposed        414\n",
    "nombre_recovered    14313\n",
    "Name: 40, dtype: int64"
   ]
  },
  {
   "cell_type": "markdown",
   "id": "38d6c8b9",
   "metadata": {},
   "source": [
    "nombre_infected      4576\n",
    "nombre_sain           194\n",
    "nombre_exposed        332\n",
    "nombre_recovered    14898\n",
    "Name: 41, dtype: int64"
   ]
  },
  {
   "cell_type": "markdown",
   "id": "2e1c9c67",
   "metadata": {},
   "source": [
    "nombre_infected      4058\n",
    "nombre_sain           221\n",
    "nombre_exposed        264\n",
    "nombre_recovered    15457\n",
    "Name: 42, dtype: int64"
   ]
  },
  {
   "cell_type": "markdown",
   "id": "cf619fa1",
   "metadata": {},
   "source": [
    "nombre_infected      3643\n",
    "nombre_sain           254\n",
    "nombre_exposed        222\n",
    "nombre_recovered    15881\n",
    "Name: 43, dtype: int64"
   ]
  },
  {
   "cell_type": "markdown",
   "id": "1f227dd6",
   "metadata": {},
   "source": [
    "nombre_infected      3227\n",
    "nombre_sain           282\n",
    "nombre_exposed        208\n",
    "nombre_recovered    16283\n",
    "Name: 44, dtype: int64"
   ]
  },
  {
   "cell_type": "markdown",
   "id": "85eab0ea",
   "metadata": {},
   "source": [
    "nombre_infected      2898\n",
    "nombre_sain           305\n",
    "nombre_exposed        206\n",
    "nombre_recovered    16591\n",
    "Name: 45, dtype: int64"
   ]
  },
  {
   "cell_type": "markdown",
   "id": "21133fba",
   "metadata": {},
   "source": [
    "nombre_infected      2584\n",
    "nombre_sain           324\n",
    "nombre_exposed        201\n",
    "nombre_recovered    16891\n",
    "Name: 46, dtype: int64"
   ]
  },
  {
   "cell_type": "markdown",
   "id": "448bfa94",
   "metadata": {},
   "source": [
    "nombre_infected      2284\n",
    "nombre_sain           371\n",
    "nombre_exposed        177\n",
    "nombre_recovered    17168\n",
    "Name: 47, dtype: int64"
   ]
  },
  {
   "cell_type": "markdown",
   "id": "c8a23481",
   "metadata": {},
   "source": [
    "nombre_infected      2021\n",
    "nombre_sain           403\n",
    "nombre_exposed        183\n",
    "nombre_recovered    17393\n",
    "Name: 48, dtype: int64"
   ]
  },
  {
   "cell_type": "markdown",
   "id": "0537202b",
   "metadata": {},
   "source": [
    "nombre_infected      1821\n",
    "nombre_sain           474\n",
    "nombre_exposed        167\n",
    "nombre_recovered    17538\n",
    "Name: 49, dtype: int64"
   ]
  },
  {
   "cell_type": "markdown",
   "id": "e3c55a96",
   "metadata": {},
   "source": [
    "nombre_infected      1616\n",
    "nombre_sain           527\n",
    "nombre_exposed        167\n",
    "nombre_recovered    17690\n",
    "Name: 50, dtype: int64"
   ]
  },
  {
   "cell_type": "markdown",
   "id": "e3147c7f",
   "metadata": {},
   "source": [
    "nombre_infected      1417\n",
    "nombre_sain           565\n",
    "nombre_exposed        178\n",
    "nombre_recovered    17840\n",
    "Name: 51, dtype: int64"
   ]
  },
  {
   "cell_type": "markdown",
   "id": "708cda5b",
   "metadata": {},
   "source": [
    "nombre_infected      1251\n",
    "nombre_sain           596\n",
    "nombre_exposed        178\n",
    "nombre_recovered    17975\n",
    "Name: 52, dtype: int64"
   ]
  },
  {
   "cell_type": "markdown",
   "id": "1e5fc5e5",
   "metadata": {},
   "source": [
    "nombre_infected      1107\n",
    "nombre_sain           649\n",
    "nombre_exposed        181\n",
    "nombre_recovered    18063\n",
    "Name: 53, dtype: int64"
   ]
  },
  {
   "cell_type": "markdown",
   "id": "f5130571",
   "metadata": {},
   "source": [
    "nombre_infected       987\n",
    "nombre_sain           697\n",
    "nombre_exposed        174\n",
    "nombre_recovered    18142\n",
    "Name: 54, dtype: int64"
   ]
  },
  {
   "cell_type": "markdown",
   "id": "6d8fac6c",
   "metadata": {},
   "source": [
    "nombre_infected       871\n",
    "nombre_sain           745\n",
    "nombre_exposed        168\n",
    "nombre_recovered    18216\n",
    "Name: 55, dtype: int64"
   ]
  },
  {
   "cell_type": "markdown",
   "id": "3ef6200d",
   "metadata": {},
   "source": [
    "nombre_infected       764\n",
    "nombre_sain           780\n",
    "nombre_exposed        175\n",
    "nombre_recovered    18281\n",
    "Name: 56, dtype: int64"
   ]
  },
  {
   "cell_type": "markdown",
   "id": "d452e7ba",
   "metadata": {},
   "source": [
    "nombre_infected       690\n",
    "nombre_sain           843\n",
    "nombre_exposed        160\n",
    "nombre_recovered    18307\n",
    "Name: 57, dtype: int64"
   ]
  },
  {
   "cell_type": "markdown",
   "id": "6e89d266",
   "metadata": {},
   "source": [
    "nombre_infected       613\n",
    "nombre_sain           906\n",
    "nombre_exposed        138\n",
    "nombre_recovered    18343\n",
    "Name: 58, dtype: int64"
   ]
  },
  {
   "cell_type": "markdown",
   "id": "07106b9a",
   "metadata": {},
   "source": [
    "nombre_infected       544\n",
    "nombre_sain           967\n",
    "nombre_exposed        135\n",
    "nombre_recovered    18354\n",
    "Name: 59, dtype: int64"
   ]
  },
  {
   "cell_type": "markdown",
   "id": "bf05628b",
   "metadata": {},
   "source": [
    "nombre_infected       487\n",
    "nombre_sain          1009\n",
    "nombre_exposed        130\n",
    "nombre_recovered    18374\n",
    "Name: 60, dtype: int64"
   ]
  },
  {
   "cell_type": "markdown",
   "id": "6306fe92",
   "metadata": {},
   "source": [
    "nombre_infected       434\n",
    "nombre_sain          1074\n",
    "nombre_exposed        117\n",
    "nombre_recovered    18375\n",
    "Name: 61, dtype: int64"
   ]
  },
  {
   "cell_type": "markdown",
   "id": "14162842",
   "metadata": {},
   "source": [
    "nombre_infected       378\n",
    "nombre_sain          1155\n",
    "nombre_exposed        112\n",
    "nombre_recovered    18355\n",
    "Name: 62, dtype: int64"
   ]
  },
  {
   "cell_type": "markdown",
   "id": "dbb8ce8a",
   "metadata": {},
   "source": [
    "nombre_infected       336\n",
    "nombre_sain          1242\n",
    "nombre_exposed        105\n",
    "nombre_recovered    18317\n",
    "Name: 63, dtype: int64"
   ]
  },
  {
   "cell_type": "markdown",
   "id": "88f61fc9",
   "metadata": {},
   "source": [
    "nombre_infected       310\n",
    "nombre_sain          1314\n",
    "nombre_exposed        101\n",
    "nombre_recovered    18275\n",
    "Name: 64, dtype: int64"
   ]
  },
  {
   "cell_type": "markdown",
   "id": "9e983349",
   "metadata": {},
   "source": [
    "nombre_infected       260\n",
    "nombre_sain          1397\n",
    "nombre_exposed        106\n",
    "nombre_recovered    18237\n",
    "Name: 65, dtype: int64"
   ]
  },
  {
   "cell_type": "markdown",
   "id": "927e45e2",
   "metadata": {},
   "source": [
    "nombre_infected       245\n",
    "nombre_sain          1471\n",
    "nombre_exposed         98\n",
    "nombre_recovered    18186\n",
    "Name: 66, dtype: int64"
   ]
  },
  {
   "cell_type": "markdown",
   "id": "f72202e9",
   "metadata": {},
   "source": [
    "nombre_infected       234\n",
    "nombre_sain          1554\n",
    "nombre_exposed         89\n",
    "nombre_recovered    18123\n",
    "Name: 67, dtype: int64"
   ]
  },
  {
   "cell_type": "markdown",
   "id": "203bb3b2",
   "metadata": {},
   "source": [
    "nombre_infected       217\n",
    "nombre_sain          1621\n",
    "nombre_exposed         83\n",
    "nombre_recovered    18079\n",
    "Name: 68, dtype: int64"
   ]
  },
  {
   "cell_type": "markdown",
   "id": "88a38b3e",
   "metadata": {},
   "source": [
    "nombre_infected       200\n",
    "nombre_sain          1695\n",
    "nombre_exposed         72\n",
    "nombre_recovered    18033\n",
    "Name: 69, dtype: int64"
   ]
  },
  {
   "cell_type": "markdown",
   "id": "b684920c",
   "metadata": {},
   "source": [
    "nombre_infected       197\n",
    "nombre_sain          1751\n",
    "nombre_exposed         79\n",
    "nombre_recovered    17973\n",
    "Name: 70, dtype: int64"
   ]
  },
  {
   "cell_type": "markdown",
   "id": "9207afba",
   "metadata": {},
   "source": [
    "nombre_infected       176\n",
    "nombre_sain          1808\n",
    "nombre_exposed         93\n",
    "nombre_recovered    17923\n",
    "Name: 71, dtype: int64"
   ]
  },
  {
   "cell_type": "markdown",
   "id": "4ee50a1a",
   "metadata": {},
   "source": [
    "nombre_infected       156\n",
    "nombre_sain          1875\n",
    "nombre_exposed         92\n",
    "nombre_recovered    17877\n",
    "Name: 72, dtype: int64"
   ]
  },
  {
   "cell_type": "markdown",
   "id": "3d0cf70d",
   "metadata": {},
   "source": [
    "nombre_infected       147\n",
    "nombre_sain          1937\n",
    "nombre_exposed         88\n",
    "nombre_recovered    17828\n",
    "Name: 73, dtype: int64"
   ]
  },
  {
   "cell_type": "markdown",
   "id": "6280baea",
   "metadata": {},
   "source": [
    "nombre_infected       144\n",
    "nombre_sain          2000\n",
    "nombre_exposed         88\n",
    "nombre_recovered    17768\n",
    "Name: 74, dtype: int64"
   ]
  },
  {
   "cell_type": "markdown",
   "id": "012d1c1f",
   "metadata": {},
   "source": [
    "nombre_infected       150\n",
    "nombre_sain          2066\n",
    "nombre_exposed         80\n",
    "nombre_recovered    17704\n",
    "Name: 75, dtype: int64"
   ]
  },
  {
   "cell_type": "markdown",
   "id": "624f9baa",
   "metadata": {},
   "source": [
    "nombre_infected       146\n",
    "nombre_sain          2128\n",
    "nombre_exposed         78\n",
    "nombre_recovered    17648\n",
    "Name: 76, dtype: int64"
   ]
  },
  {
   "cell_type": "markdown",
   "id": "8d8774c0",
   "metadata": {},
   "source": [
    "nombre_infected       139\n",
    "nombre_sain          2175\n",
    "nombre_exposed         74\n",
    "nombre_recovered    17612\n",
    "Name: 77, dtype: int64"
   ]
  },
  {
   "cell_type": "markdown",
   "id": "83b82a00",
   "metadata": {},
   "source": [
    "nombre_infected       140\n",
    "nombre_sain          2239\n",
    "nombre_exposed         74\n",
    "nombre_recovered    17547\n",
    "Name: 78, dtype: int64"
   ]
  },
  {
   "cell_type": "markdown",
   "id": "0ffd6817",
   "metadata": {},
   "source": [
    "nombre_infected       135\n",
    "nombre_sain          2292\n",
    "nombre_exposed         82\n",
    "nombre_recovered    17491\n",
    "Name: 79, dtype: int64"
   ]
  },
  {
   "cell_type": "markdown",
   "id": "e8fcfdc2",
   "metadata": {},
   "source": [
    "nombre_infected       130\n",
    "nombre_sain          2357\n",
    "nombre_exposed         90\n",
    "nombre_recovered    17423\n",
    "Name: 80, dtype: int64"
   ]
  },
  {
   "cell_type": "markdown",
   "id": "f082e464",
   "metadata": {},
   "source": [
    "nombre_infected       132\n",
    "nombre_sain          2398\n",
    "nombre_exposed         96\n",
    "nombre_recovered    17374\n",
    "Name: 81, dtype: int64"
   ]
  },
  {
   "cell_type": "markdown",
   "id": "704ecadc",
   "metadata": {},
   "source": [
    "nombre_infected       139\n",
    "nombre_sain          2421\n",
    "nombre_exposed        102\n",
    "nombre_recovered    17338\n",
    "Name: 82, dtype: int64"
   ]
  },
  {
   "cell_type": "markdown",
   "id": "e39cdd10",
   "metadata": {},
   "source": [
    "nombre_infected       144\n",
    "nombre_sain          2479\n",
    "nombre_exposed        112\n",
    "nombre_recovered    17265\n",
    "Name: 83, dtype: int64"
   ]
  },
  {
   "cell_type": "markdown",
   "id": "7cb5dd89",
   "metadata": {},
   "source": [
    "nombre_infected       145\n",
    "nombre_sain          2533\n",
    "nombre_exposed        110\n",
    "nombre_recovered    17212\n",
    "Name: 84, dtype: int64"
   ]
  },
  {
   "cell_type": "markdown",
   "id": "a0b44c22",
   "metadata": {},
   "source": [
    "nombre_infected       146\n",
    "nombre_sain          2566\n",
    "nombre_exposed        116\n",
    "nombre_recovered    17172\n",
    "Name: 85, dtype: int64"
   ]
  },
  {
   "cell_type": "markdown",
   "id": "f9f27b21",
   "metadata": {},
   "source": [
    "nombre_infected       157\n",
    "nombre_sain          2605\n",
    "nombre_exposed        111\n",
    "nombre_recovered    17127\n",
    "Name: 86, dtype: int64"
   ]
  },
  {
   "cell_type": "markdown",
   "id": "27200a6c",
   "metadata": {},
   "source": [
    "nombre_infected       162\n",
    "nombre_sain          2639\n",
    "nombre_exposed        111\n",
    "nombre_recovered    17088\n",
    "Name: 87, dtype: int64"
   ]
  },
  {
   "cell_type": "markdown",
   "id": "9c050702",
   "metadata": {},
   "source": [
    "nombre_infected       166\n",
    "nombre_sain          2649\n",
    "nombre_exposed        118\n",
    "nombre_recovered    17067\n",
    "Name: 88, dtype: int64"
   ]
  },
  {
   "cell_type": "markdown",
   "id": "2ba28ad8",
   "metadata": {},
   "source": [
    "nombre_infected       158\n",
    "nombre_sain          2670\n",
    "nombre_exposed        130\n",
    "nombre_recovered    17042\n",
    "Name: 89, dtype: int64"
   ]
  },
  {
   "cell_type": "markdown",
   "id": "2d7b22d6",
   "metadata": {},
   "source": [
    "nombre_infected       169\n",
    "nombre_sain          2683\n",
    "nombre_exposed        133\n",
    "nombre_recovered    17015\n",
    "Name: 90, dtype: int64"
   ]
  },
  {
   "cell_type": "markdown",
   "id": "7bddd726",
   "metadata": {},
   "source": [
    "nombre_infected       172\n",
    "nombre_sain          2700\n",
    "nombre_exposed        131\n",
    "nombre_recovered    16997\n",
    "Name: 91, dtype: int64"
   ]
  },
  {
   "cell_type": "markdown",
   "id": "9b29270d",
   "metadata": {},
   "source": [
    "nombre_infected       170\n",
    "nombre_sain          2724\n",
    "nombre_exposed        129\n",
    "nombre_recovered    16977\n",
    "Name: 92, dtype: int64"
   ]
  },
  {
   "cell_type": "markdown",
   "id": "7caafc8e",
   "metadata": {},
   "source": [
    "nombre_infected       186\n",
    "nombre_sain          2722\n",
    "nombre_exposed        131\n",
    "nombre_recovered    16961\n",
    "Name: 93, dtype: int64"
   ]
  },
  {
   "cell_type": "markdown",
   "id": "3a4a7203",
   "metadata": {},
   "source": [
    "nombre_infected       179\n",
    "nombre_sain          2729\n",
    "nombre_exposed        143\n",
    "nombre_recovered    16949\n",
    "Name: 94, dtype: int64"
   ]
  },
  {
   "cell_type": "markdown",
   "id": "f40d6bc0",
   "metadata": {},
   "source": [
    "nombre_infected       195\n",
    "nombre_sain          2734\n",
    "nombre_exposed        138\n",
    "nombre_recovered    16933\n",
    "Name: 95, dtype: int64"
   ]
  },
  {
   "cell_type": "markdown",
   "id": "ef3cbcea",
   "metadata": {},
   "source": [
    "nombre_infected       209\n",
    "nombre_sain          2749\n",
    "nombre_exposed        135\n",
    "nombre_recovered    16907\n",
    "Name: 96, dtype: int64"
   ]
  },
  {
   "cell_type": "markdown",
   "id": "f36cdfcb",
   "metadata": {},
   "source": [
    "nombre_infected       218\n",
    "nombre_sain          2763\n",
    "nombre_exposed        135\n",
    "nombre_recovered    16884\n",
    "Name: 97, dtype: int64"
   ]
  },
  {
   "cell_type": "markdown",
   "id": "5160e04d",
   "metadata": {},
   "source": [
    "nombre_infected       226\n",
    "nombre_sain          2798\n",
    "nombre_exposed        135\n",
    "nombre_recovered    16841\n",
    "Name: 98, dtype: int64"
   ]
  },
  {
   "cell_type": "markdown",
   "id": "6c5d7269",
   "metadata": {},
   "source": [
    "nombre_infected       225\n",
    "nombre_sain          2810\n",
    "nombre_exposed        147\n",
    "nombre_recovered    16818\n",
    "Name: 99, dtype: int64"
   ]
  },
  {
   "cell_type": "markdown",
   "id": "ee64ff41",
   "metadata": {},
   "source": [
    "nombre_infected       232\n",
    "nombre_sain          2827\n",
    "nombre_exposed        148\n",
    "nombre_recovered    16793\n",
    "Name: 100, dtype: int64"
   ]
  },
  {
   "cell_type": "markdown",
   "id": "8a1ea894",
   "metadata": {},
   "source": [
    "nombre_infected       229\n",
    "nombre_sain          2835\n",
    "nombre_exposed        159\n",
    "nombre_recovered    16777\n",
    "Name: 101, dtype: int64"
   ]
  },
  {
   "cell_type": "markdown",
   "id": "2ca27846",
   "metadata": {},
   "source": [
    "nombre_infected       236\n",
    "nombre_sain          2830\n",
    "nombre_exposed        170\n",
    "nombre_recovered    16764\n",
    "Name: 102, dtype: int64"
   ]
  },
  {
   "cell_type": "markdown",
   "id": "1f0e36d6",
   "metadata": {},
   "source": [
    "nombre_infected       241\n",
    "nombre_sain          2832\n",
    "nombre_exposed        173\n",
    "nombre_recovered    16754\n",
    "Name: 103, dtype: int64"
   ]
  },
  {
   "cell_type": "markdown",
   "id": "1e345834",
   "metadata": {},
   "source": [
    "nombre_infected       243\n",
    "nombre_sain          2825\n",
    "nombre_exposed        179\n",
    "nombre_recovered    16753\n",
    "Name: 104, dtype: int64"
   ]
  },
  {
   "cell_type": "markdown",
   "id": "b1bbf3ef",
   "metadata": {},
   "source": [
    "nombre_infected       261\n",
    "nombre_sain          2827\n",
    "nombre_exposed        175\n",
    "nombre_recovered    16737\n",
    "Name: 105, dtype: int64"
   ]
  },
  {
   "cell_type": "markdown",
   "id": "cdefa864",
   "metadata": {},
   "source": [
    "nombre_infected       253\n",
    "nombre_sain          2833\n",
    "nombre_exposed        169\n",
    "nombre_recovered    16745\n",
    "Name: 106, dtype: int64"
   ]
  },
  {
   "cell_type": "markdown",
   "id": "82db7b2f",
   "metadata": {},
   "source": [
    "nombre_infected       267\n",
    "nombre_sain          2828\n",
    "nombre_exposed        175\n",
    "nombre_recovered    16730\n",
    "Name: 107, dtype: int64"
   ]
  },
  {
   "cell_type": "markdown",
   "id": "f6369632",
   "metadata": {},
   "source": [
    "nombre_infected       277\n",
    "nombre_sain          2830\n",
    "nombre_exposed        176\n",
    "nombre_recovered    16717\n",
    "Name: 108, dtype: int64"
   ]
  },
  {
   "cell_type": "markdown",
   "id": "e87881a2",
   "metadata": {},
   "source": [
    "nombre_infected       287\n",
    "nombre_sain          2837\n",
    "nombre_exposed        177\n",
    "nombre_recovered    16699\n",
    "Name: 109, dtype: int64"
   ]
  },
  {
   "cell_type": "markdown",
   "id": "784a28ea",
   "metadata": {},
   "source": [
    "nombre_infected       285\n",
    "nombre_sain          2851\n",
    "nombre_exposed        183\n",
    "nombre_recovered    16681\n",
    "Name: 110, dtype: int64"
   ]
  },
  {
   "cell_type": "markdown",
   "id": "8a8b0c08",
   "metadata": {},
   "source": [
    "nombre_infected       300\n",
    "nombre_sain          2857\n",
    "nombre_exposed        183\n",
    "nombre_recovered    16660\n",
    "Name: 111, dtype: int64"
   ]
  },
  {
   "cell_type": "markdown",
   "id": "a48a9489",
   "metadata": {},
   "source": [
    "nombre_infected       309\n",
    "nombre_sain          2854\n",
    "nombre_exposed        187\n",
    "nombre_recovered    16650\n",
    "Name: 112, dtype: int64"
   ]
  },
  {
   "cell_type": "markdown",
   "id": "07e1dd0e",
   "metadata": {},
   "source": [
    "nombre_infected       315\n",
    "nombre_sain          2866\n",
    "nombre_exposed        189\n",
    "nombre_recovered    16630\n",
    "Name: 113, dtype: int64"
   ]
  },
  {
   "cell_type": "markdown",
   "id": "e1823cc2",
   "metadata": {},
   "source": [
    "nombre_infected       320\n",
    "nombre_sain          2874\n",
    "nombre_exposed        200\n",
    "nombre_recovered    16606\n",
    "Name: 114, dtype: int64"
   ]
  },
  {
   "cell_type": "markdown",
   "id": "490152b7",
   "metadata": {},
   "source": [
    "nombre_infected       327\n",
    "nombre_sain          2884\n",
    "nombre_exposed        204\n",
    "nombre_recovered    16585\n",
    "Name: 115, dtype: int64"
   ]
  },
  {
   "cell_type": "markdown",
   "id": "4068708f",
   "metadata": {},
   "source": [
    "nombre_infected       329\n",
    "nombre_sain          2893\n",
    "nombre_exposed        217\n",
    "nombre_recovered    16561\n",
    "Name: 116, dtype: int64"
   ]
  },
  {
   "cell_type": "markdown",
   "id": "3a4e5e5b",
   "metadata": {},
   "source": [
    "nombre_infected       359\n",
    "nombre_sain          2883\n",
    "nombre_exposed        216\n",
    "nombre_recovered    16542\n",
    "Name: 117, dtype: int64"
   ]
  },
  {
   "cell_type": "markdown",
   "id": "5559d479",
   "metadata": {},
   "source": [
    "nombre_infected       363\n",
    "nombre_sain          2898\n",
    "nombre_exposed        230\n",
    "nombre_recovered    16509\n",
    "Name: 118, dtype: int64"
   ]
  },
  {
   "cell_type": "markdown",
   "id": "434b8623",
   "metadata": {},
   "source": [
    "nombre_infected       372\n",
    "nombre_sain          2887\n",
    "nombre_exposed        245\n",
    "nombre_recovered    16496\n",
    "Name: 119, dtype: int64"
   ]
  },
  {
   "cell_type": "markdown",
   "id": "8b32f33b",
   "metadata": {},
   "source": [
    "nombre_infected       377\n",
    "nombre_sain          2896\n",
    "nombre_exposed        251\n",
    "nombre_recovered    16476\n",
    "Name: 120, dtype: int64"
   ]
  },
  {
   "cell_type": "markdown",
   "id": "f0fec749",
   "metadata": {},
   "source": [
    "nombre_infected       393\n",
    "nombre_sain          2895\n",
    "nombre_exposed        267\n",
    "nombre_recovered    16445\n",
    "Name: 121, dtype: int64"
   ]
  },
  {
   "cell_type": "markdown",
   "id": "f1b5e444",
   "metadata": {},
   "source": [
    "nombre_infected       396\n",
    "nombre_sain          2902\n",
    "nombre_exposed        267\n",
    "nombre_recovered    16435\n",
    "Name: 122, dtype: int64"
   ]
  },
  {
   "cell_type": "markdown",
   "id": "bd3e51b0",
   "metadata": {},
   "source": [
    "nombre_infected       417\n",
    "nombre_sain          2883\n",
    "nombre_exposed        283\n",
    "nombre_recovered    16417\n",
    "Name: 123, dtype: int64"
   ]
  },
  {
   "cell_type": "markdown",
   "id": "67139d61",
   "metadata": {},
   "source": [
    "nombre_infected       410\n",
    "nombre_sain          2859\n",
    "nombre_exposed        307\n",
    "nombre_recovered    16424\n",
    "Name: 124, dtype: int64"
   ]
  },
  {
   "cell_type": "markdown",
   "id": "b59035f2",
   "metadata": {},
   "source": [
    "nombre_infected       437\n",
    "nombre_sain          2838\n",
    "nombre_exposed        312\n",
    "nombre_recovered    16413\n",
    "Name: 125, dtype: int64"
   ]
  },
  {
   "cell_type": "markdown",
   "id": "cc5bbe1f",
   "metadata": {},
   "source": [
    "nombre_infected       444\n",
    "nombre_sain          2792\n",
    "nombre_exposed        337\n",
    "nombre_recovered    16427\n",
    "Name: 126, dtype: int64"
   ]
  },
  {
   "cell_type": "markdown",
   "id": "e931fbc9",
   "metadata": {},
   "source": [
    "nombre_infected       482\n",
    "nombre_sain          2770\n",
    "nombre_exposed        320\n",
    "nombre_recovered    16428\n",
    "Name: 127, dtype: int64"
   ]
  },
  {
   "cell_type": "markdown",
   "id": "976ba025",
   "metadata": {},
   "source": [
    "nombre_infected       496\n",
    "nombre_sain          2747\n",
    "nombre_exposed        312\n",
    "nombre_recovered    16445\n",
    "Name: 128, dtype: int64"
   ]
  },
  {
   "cell_type": "markdown",
   "id": "64e7a438",
   "metadata": {},
   "source": [
    "nombre_infected       520\n",
    "nombre_sain          2711\n",
    "nombre_exposed        310\n",
    "nombre_recovered    16459\n",
    "Name: 129, dtype: int64"
   ]
  },
  {
   "cell_type": "markdown",
   "id": "9749d447",
   "metadata": {},
   "source": [
    "nombre_infected       525\n",
    "nombre_sain          2693\n",
    "nombre_exposed        329\n",
    "nombre_recovered    16453\n",
    "Name: 130, dtype: int64"
   ]
  },
  {
   "cell_type": "markdown",
   "id": "68786610",
   "metadata": {},
   "source": [
    "nombre_infected       531\n",
    "nombre_sain          2691\n",
    "nombre_exposed        321\n",
    "nombre_recovered    16457\n",
    "Name: 131, dtype: int64"
   ]
  },
  {
   "cell_type": "markdown",
   "id": "20cdd23b",
   "metadata": {},
   "source": [
    "nombre_infected       535\n",
    "nombre_sain          2674\n",
    "nombre_exposed        333\n",
    "nombre_recovered    16458\n",
    "Name: 132, dtype: int64"
   ]
  },
  {
   "cell_type": "markdown",
   "id": "21aa55b4",
   "metadata": {},
   "source": [
    "nombre_infected       561\n",
    "nombre_sain          2651\n",
    "nombre_exposed        337\n",
    "nombre_recovered    16451\n",
    "Name: 133, dtype: int64"
   ]
  },
  {
   "cell_type": "markdown",
   "id": "233c1c95",
   "metadata": {},
   "source": [
    "nombre_infected       560\n",
    "nombre_sain          2650\n",
    "nombre_exposed        350\n",
    "nombre_recovered    16440\n",
    "Name: 134, dtype: int64"
   ]
  },
  {
   "cell_type": "markdown",
   "id": "069b7ec1",
   "metadata": {},
   "source": [
    "nombre_infected       594\n",
    "nombre_sain          2650\n",
    "nombre_exposed        354\n",
    "nombre_recovered    16402\n",
    "Name: 135, dtype: int64"
   ]
  },
  {
   "cell_type": "markdown",
   "id": "be04a7d6",
   "metadata": {},
   "source": [
    "nombre_infected       608\n",
    "nombre_sain          2636\n",
    "nombre_exposed        375\n",
    "nombre_recovered    16381\n",
    "Name: 136, dtype: int64"
   ]
  },
  {
   "cell_type": "markdown",
   "id": "0449ace2",
   "metadata": {},
   "source": [
    "nombre_infected       643\n",
    "nombre_sain          2665\n",
    "nombre_exposed        360\n",
    "nombre_recovered    16332\n",
    "Name: 137, dtype: int64"
   ]
  },
  {
   "cell_type": "markdown",
   "id": "f0463ce8",
   "metadata": {},
   "source": [
    "nombre_infected       628\n",
    "nombre_sain          2663\n",
    "nombre_exposed        388\n",
    "nombre_recovered    16321\n",
    "Name: 138, dtype: int64"
   ]
  },
  {
   "cell_type": "markdown",
   "id": "f85bb042",
   "metadata": {},
   "source": [
    "nombre_infected       654\n",
    "nombre_sain          2689\n",
    "nombre_exposed        383\n",
    "nombre_recovered    16274\n",
    "Name: 139, dtype: int64"
   ]
  },
  {
   "cell_type": "markdown",
   "id": "1f6e32dc",
   "metadata": {},
   "source": [
    "nombre_infected       676\n",
    "nombre_sain          2671\n",
    "nombre_exposed        394\n",
    "nombre_recovered    16259\n",
    "Name: 140, dtype: int64"
   ]
  },
  {
   "cell_type": "markdown",
   "id": "16bcb29e",
   "metadata": {},
   "source": [
    "nombre_infected       688\n",
    "nombre_sain          2673\n",
    "nombre_exposed        415\n",
    "nombre_recovered    16224\n",
    "Name: 141, dtype: int64"
   ]
  },
  {
   "cell_type": "markdown",
   "id": "0dde6e78",
   "metadata": {},
   "source": [
    "nombre_infected       711\n",
    "nombre_sain          2654\n",
    "nombre_exposed        417\n",
    "nombre_recovered    16218\n",
    "Name: 142, dtype: int64"
   ]
  },
  {
   "cell_type": "markdown",
   "id": "9bd4d5e7",
   "metadata": {},
   "source": [
    "nombre_infected       720\n",
    "nombre_sain          2638\n",
    "nombre_exposed        439\n",
    "nombre_recovered    16203\n",
    "Name: 143, dtype: int64"
   ]
  },
  {
   "cell_type": "markdown",
   "id": "f83a724d",
   "metadata": {},
   "source": [
    "nombre_infected       729\n",
    "nombre_sain          2628\n",
    "nombre_exposed        456\n",
    "nombre_recovered    16187\n",
    "Name: 144, dtype: int64"
   ]
  },
  {
   "cell_type": "markdown",
   "id": "f6b8eed6",
   "metadata": {},
   "source": [
    "nombre_infected       766\n",
    "nombre_sain          2598\n",
    "nombre_exposed        460\n",
    "nombre_recovered    16176\n",
    "Name: 145, dtype: int64"
   ]
  },
  {
   "cell_type": "markdown",
   "id": "40e8afc5",
   "metadata": {},
   "source": [
    "nombre_infected       779\n",
    "nombre_sain          2607\n",
    "nombre_exposed        447\n",
    "nombre_recovered    16167\n",
    "Name: 146, dtype: int64"
   ]
  },
  {
   "cell_type": "markdown",
   "id": "9aa781ae",
   "metadata": {},
   "source": [
    "nombre_infected       789\n",
    "nombre_sain          2594\n",
    "nombre_exposed        453\n",
    "nombre_recovered    16164\n",
    "Name: 147, dtype: int64"
   ]
  },
  {
   "cell_type": "markdown",
   "id": "e6560422",
   "metadata": {},
   "source": [
    "nombre_infected       821\n",
    "nombre_sain          2570\n",
    "nombre_exposed        442\n",
    "nombre_recovered    16167\n",
    "Name: 148, dtype: int64"
   ]
  },
  {
   "cell_type": "markdown",
   "id": "854b5011",
   "metadata": {},
   "source": [
    "nombre_infected       843\n",
    "nombre_sain          2541\n",
    "nombre_exposed        452\n",
    "nombre_recovered    16164\n",
    "Name: 149, dtype: int64"
   ]
  },
  {
   "cell_type": "markdown",
   "id": "645d219f",
   "metadata": {},
   "source": [
    "nombre_infected       835\n",
    "nombre_sain          2510\n",
    "nombre_exposed        466\n",
    "nombre_recovered    16189\n",
    "Name: 150, dtype: int64"
   ]
  },
  {
   "cell_type": "markdown",
   "id": "7c49dd76",
   "metadata": {},
   "source": [
    "nombre_infected       846\n",
    "nombre_sain          2487\n",
    "nombre_exposed        496\n",
    "nombre_recovered    16171\n",
    "Name: 151, dtype: int64"
   ]
  },
  {
   "cell_type": "markdown",
   "id": "a49e7afb",
   "metadata": {},
   "source": [
    "nombre_infected       849\n",
    "nombre_sain          2503\n",
    "nombre_exposed        476\n",
    "nombre_recovered    16172\n",
    "Name: 152, dtype: int64"
   ]
  },
  {
   "cell_type": "markdown",
   "id": "cec5b9c3",
   "metadata": {},
   "source": [
    "nombre_infected       864\n",
    "nombre_sain          2453\n",
    "nombre_exposed        484\n",
    "nombre_recovered    16199\n",
    "Name: 153, dtype: int64"
   ]
  },
  {
   "cell_type": "markdown",
   "id": "02ab6f71",
   "metadata": {},
   "source": [
    "nombre_infected       859\n",
    "nombre_sain          2424\n",
    "nombre_exposed        494\n",
    "nombre_recovered    16223\n",
    "Name: 154, dtype: int64"
   ]
  },
  {
   "cell_type": "markdown",
   "id": "c4d37eaa",
   "metadata": {},
   "source": [
    "nombre_infected       846\n",
    "nombre_sain          2423\n",
    "nombre_exposed        492\n",
    "nombre_recovered    16239\n",
    "Name: 155, dtype: int64"
   ]
  },
  {
   "cell_type": "markdown",
   "id": "611dde78",
   "metadata": {},
   "source": [
    "nombre_infected       847\n",
    "nombre_sain          2394\n",
    "nombre_exposed        487\n",
    "nombre_recovered    16272\n",
    "Name: 156, dtype: int64"
   ]
  },
  {
   "cell_type": "markdown",
   "id": "c1970f5e",
   "metadata": {},
   "source": [
    "nombre_infected       865\n",
    "nombre_sain          2371\n",
    "nombre_exposed        488\n",
    "nombre_recovered    16276\n",
    "Name: 157, dtype: int64"
   ]
  },
  {
   "cell_type": "markdown",
   "id": "b4fc4db0",
   "metadata": {},
   "source": [
    "nombre_infected       864\n",
    "nombre_sain          2351\n",
    "nombre_exposed        502\n",
    "nombre_recovered    16283\n",
    "Name: 158, dtype: int64"
   ]
  },
  {
   "cell_type": "markdown",
   "id": "8a32242d",
   "metadata": {},
   "source": [
    "nombre_infected       870\n",
    "nombre_sain          2297\n",
    "nombre_exposed        534\n",
    "nombre_recovered    16299\n",
    "Name: 159, dtype: int64"
   ]
  },
  {
   "cell_type": "markdown",
   "id": "d185e35d",
   "metadata": {},
   "source": [
    "nombre_infected       882\n",
    "nombre_sain          2267\n",
    "nombre_exposed        524\n",
    "nombre_recovered    16327\n",
    "Name: 160, dtype: int64"
   ]
  },
  {
   "cell_type": "markdown",
   "id": "5ed2a122",
   "metadata": {},
   "source": [
    "nombre_infected       909\n",
    "nombre_sain          2256\n",
    "nombre_exposed        499\n",
    "nombre_recovered    16336\n",
    "Name: 161, dtype: int64"
   ]
  },
  {
   "cell_type": "markdown",
   "id": "2d3c72e1",
   "metadata": {},
   "source": [
    "nombre_infected       903\n",
    "nombre_sain          2206\n",
    "nombre_exposed        497\n",
    "nombre_recovered    16394\n",
    "Name: 162, dtype: int64"
   ]
  },
  {
   "cell_type": "markdown",
   "id": "44613f32",
   "metadata": {},
   "source": [
    "nombre_infected       903\n",
    "nombre_sain          2196\n",
    "nombre_exposed        475\n",
    "nombre_recovered    16426\n",
    "Name: 163, dtype: int64"
   ]
  },
  {
   "cell_type": "markdown",
   "id": "7abd277d",
   "metadata": {},
   "source": [
    "nombre_infected       925\n",
    "nombre_sain          2159\n",
    "nombre_exposed        460\n",
    "nombre_recovered    16456\n",
    "Name: 164, dtype: int64"
   ]
  },
  {
   "cell_type": "markdown",
   "id": "ce241b2f",
   "metadata": {},
   "source": [
    "nombre_infected       920\n",
    "nombre_sain          2121\n",
    "nombre_exposed        482\n",
    "nombre_recovered    16477\n",
    "Name: 165, dtype: int64"
   ]
  },
  {
   "cell_type": "markdown",
   "id": "356da058",
   "metadata": {},
   "source": [
    "nombre_infected       918\n",
    "nombre_sain          2108\n",
    "nombre_exposed        480\n",
    "nombre_recovered    16494\n",
    "Name: 166, dtype: int64"
   ]
  },
  {
   "cell_type": "markdown",
   "id": "5a07c0e8",
   "metadata": {},
   "source": [
    "nombre_infected       938\n",
    "nombre_sain          2090\n",
    "nombre_exposed        464\n",
    "nombre_recovered    16508\n",
    "Name: 167, dtype: int64"
   ]
  },
  {
   "cell_type": "markdown",
   "id": "7b935dba",
   "metadata": {},
   "source": [
    "nombre_infected       945\n",
    "nombre_sain          2075\n",
    "nombre_exposed        457\n",
    "nombre_recovered    16523\n",
    "Name: 168, dtype: int64"
   ]
  },
  {
   "cell_type": "markdown",
   "id": "2c27e7e2",
   "metadata": {},
   "source": [
    "nombre_infected       964\n",
    "nombre_sain          2086\n",
    "nombre_exposed        429\n",
    "nombre_recovered    16521\n",
    "Name: 169, dtype: int64"
   ]
  },
  {
   "cell_type": "markdown",
   "id": "f6fd9529",
   "metadata": {},
   "source": [
    "nombre_infected       964\n",
    "nombre_sain          2077\n",
    "nombre_exposed        443\n",
    "nombre_recovered    16516\n",
    "Name: 170, dtype: int64"
   ]
  },
  {
   "cell_type": "markdown",
   "id": "22084b85",
   "metadata": {},
   "source": [
    "nombre_infected       942\n",
    "nombre_sain          2109\n",
    "nombre_exposed        439\n",
    "nombre_recovered    16510\n",
    "Name: 171, dtype: int64"
   ]
  },
  {
   "cell_type": "markdown",
   "id": "9e77ca36",
   "metadata": {},
   "source": [
    "nombre_infected       938\n",
    "nombre_sain          2115\n",
    "nombre_exposed        430\n",
    "nombre_recovered    16517\n",
    "Name: 172, dtype: int64"
   ]
  },
  {
   "cell_type": "markdown",
   "id": "6521baa5",
   "metadata": {},
   "source": [
    "nombre_infected       910\n",
    "nombre_sain          2095\n",
    "nombre_exposed        451\n",
    "nombre_recovered    16544\n",
    "Name: 173, dtype: int64"
   ]
  },
  {
   "cell_type": "markdown",
   "id": "ea2c3141",
   "metadata": {},
   "source": [
    "nombre_infected       900\n",
    "nombre_sain          2102\n",
    "nombre_exposed        451\n",
    "nombre_recovered    16547\n",
    "Name: 174, dtype: int64"
   ]
  },
  {
   "cell_type": "markdown",
   "id": "14baf24b",
   "metadata": {},
   "source": [
    "nombre_infected       881\n",
    "nombre_sain          2083\n",
    "nombre_exposed        476\n",
    "nombre_recovered    16560\n",
    "Name: 175, dtype: int64"
   ]
  },
  {
   "cell_type": "markdown",
   "id": "fa751b97",
   "metadata": {},
   "source": [
    "nombre_infected       873\n",
    "nombre_sain          2089\n",
    "nombre_exposed        483\n",
    "nombre_recovered    16555\n",
    "Name: 176, dtype: int64"
   ]
  },
  {
   "cell_type": "markdown",
   "id": "16609073",
   "metadata": {},
   "source": [
    "nombre_infected       884\n",
    "nombre_sain          2077\n",
    "nombre_exposed        463\n",
    "nombre_recovered    16576\n",
    "Name: 177, dtype: int64"
   ]
  },
  {
   "cell_type": "markdown",
   "id": "5d76adbc",
   "metadata": {},
   "source": [
    "nombre_infected       893\n",
    "nombre_sain          2065\n",
    "nombre_exposed        475\n",
    "nombre_recovered    16567\n",
    "Name: 178, dtype: int64"
   ]
  },
  {
   "cell_type": "markdown",
   "id": "56f7117f",
   "metadata": {},
   "source": [
    "nombre_infected       882\n",
    "nombre_sain          2056\n",
    "nombre_exposed        489\n",
    "nombre_recovered    16573\n",
    "Name: 179, dtype: int64"
   ]
  },
  {
   "cell_type": "markdown",
   "id": "ec88dc6a",
   "metadata": {},
   "source": [
    "nombre_infected       913\n",
    "nombre_sain          2082\n",
    "nombre_exposed        444\n",
    "nombre_recovered    16561\n",
    "Name: 180, dtype: int64"
   ]
  },
  {
   "cell_type": "markdown",
   "id": "e2ca4361",
   "metadata": {},
   "source": [
    "nombre_infected       919\n",
    "nombre_sain          2098\n",
    "nombre_exposed        442\n",
    "nombre_recovered    16541\n",
    "Name: 181, dtype: int64"
   ]
  },
  {
   "cell_type": "markdown",
   "id": "361d2063",
   "metadata": {},
   "source": [
    "nombre_infected       892\n",
    "nombre_sain          2094\n",
    "nombre_exposed        485\n",
    "nombre_recovered    16529\n",
    "Name: 182, dtype: int64"
   ]
  },
  {
   "cell_type": "markdown",
   "id": "82fc7ba7",
   "metadata": {},
   "source": [
    "nombre_infected       884\n",
    "nombre_sain          2125\n",
    "nombre_exposed        485\n",
    "nombre_recovered    16506\n",
    "Name: 183, dtype: int64"
   ]
  },
  {
   "cell_type": "markdown",
   "id": "efa84c2b",
   "metadata": {},
   "source": [
    "nombre_infected       892\n",
    "nombre_sain          2132\n",
    "nombre_exposed        475\n",
    "nombre_recovered    16501\n",
    "Name: 184, dtype: int64"
   ]
  },
  {
   "cell_type": "markdown",
   "id": "0747b62c",
   "metadata": {},
   "source": [
    "nombre_infected       913\n",
    "nombre_sain          2161\n",
    "nombre_exposed        454\n",
    "nombre_recovered    16472\n",
    "Name: 185, dtype: int64"
   ]
  },
  {
   "cell_type": "markdown",
   "id": "432c4e26",
   "metadata": {},
   "source": [
    "nombre_infected       872\n",
    "nombre_sain          2143\n",
    "nombre_exposed        500\n",
    "nombre_recovered    16485\n",
    "Name: 186, dtype: int64"
   ]
  },
  {
   "cell_type": "markdown",
   "id": "4dc5f79a",
   "metadata": {},
   "source": [
    "nombre_infected       894\n",
    "nombre_sain          2164\n",
    "nombre_exposed        478\n",
    "nombre_recovered    16464\n",
    "Name: 187, dtype: int64"
   ]
  },
  {
   "cell_type": "markdown",
   "id": "fd545126",
   "metadata": {},
   "source": [
    "nombre_infected       895\n",
    "nombre_sain          2153\n",
    "nombre_exposed        499\n",
    "nombre_recovered    16453\n",
    "Name: 188, dtype: int64"
   ]
  },
  {
   "cell_type": "markdown",
   "id": "8c9b936d",
   "metadata": {},
   "source": [
    "nombre_infected       889\n",
    "nombre_sain          2160\n",
    "nombre_exposed        493\n",
    "nombre_recovered    16458\n",
    "Name: 189, dtype: int64"
   ]
  },
  {
   "cell_type": "markdown",
   "id": "3abb0fe0",
   "metadata": {},
   "source": [
    "nombre_infected       878\n",
    "nombre_sain          2165\n",
    "nombre_exposed        491\n",
    "nombre_recovered    16466\n",
    "Name: 190, dtype: int64"
   ]
  },
  {
   "cell_type": "markdown",
   "id": "a742d669",
   "metadata": {},
   "source": [
    "nombre_infected       878\n",
    "nombre_sain          2162\n",
    "nombre_exposed        487\n",
    "nombre_recovered    16473\n",
    "Name: 191, dtype: int64"
   ]
  },
  {
   "cell_type": "markdown",
   "id": "d9c97e4a",
   "metadata": {},
   "source": [
    "nombre_infected       875\n",
    "nombre_sain          2177\n",
    "nombre_exposed        476\n",
    "nombre_recovered    16472\n",
    "Name: 192, dtype: int64"
   ]
  },
  {
   "cell_type": "markdown",
   "id": "c22baae0",
   "metadata": {},
   "source": [
    "nombre_infected       866\n",
    "nombre_sain          2157\n",
    "nombre_exposed        492\n",
    "nombre_recovered    16485\n",
    "Name: 193, dtype: int64"
   ]
  },
  {
   "cell_type": "markdown",
   "id": "13b579ca",
   "metadata": {},
   "source": [
    "nombre_infected       861\n",
    "nombre_sain          2174\n",
    "nombre_exposed        486\n",
    "nombre_recovered    16479\n",
    "Name: 194, dtype: int64"
   ]
  },
  {
   "cell_type": "markdown",
   "id": "b8bd1efc",
   "metadata": {},
   "source": [
    "nombre_infected       865\n",
    "nombre_sain          2140\n",
    "nombre_exposed        495\n",
    "nombre_recovered    16500\n",
    "Name: 195, dtype: int64"
   ]
  },
  {
   "cell_type": "markdown",
   "id": "e7867443",
   "metadata": {},
   "source": [
    "nombre_infected       860\n",
    "nombre_sain          2130\n",
    "nombre_exposed        488\n",
    "nombre_recovered    16522\n",
    "Name: 196, dtype: int64"
   ]
  },
  {
   "cell_type": "markdown",
   "id": "8c54fdcf",
   "metadata": {},
   "source": [
    "nombre_infected       863\n",
    "nombre_sain          2143\n",
    "nombre_exposed        453\n",
    "nombre_recovered    16541\n",
    "Name: 197, dtype: int64"
   ]
  },
  {
   "cell_type": "markdown",
   "id": "d94fa07f",
   "metadata": {},
   "source": [
    "nombre_infected       891\n",
    "nombre_sain          2142\n",
    "nombre_exposed        438\n",
    "nombre_recovered    16529\n",
    "Name: 198, dtype: int64"
   ]
  },
  {
   "cell_type": "markdown",
   "id": "12661765",
   "metadata": {},
   "source": [
    "nombre_infected       866\n",
    "nombre_sain          2144\n",
    "nombre_exposed        445\n",
    "nombre_recovered    16545\n",
    "Name: 199, dtype: int64"
   ]
  },
  {
   "cell_type": "markdown",
   "id": "f4022b7d",
   "metadata": {},
   "source": [
    "nombre_infected       850\n",
    "nombre_sain          2103\n",
    "nombre_exposed        472\n",
    "nombre_recovered    16575\n",
    "Name: 200, dtype: int64"
   ]
  },
  {
   "cell_type": "markdown",
   "id": "7bf63000",
   "metadata": {},
   "source": [
    "nombre_infected       837\n",
    "nombre_sain          2076\n",
    "nombre_exposed        494\n",
    "nombre_recovered    16593\n",
    "Name: 201, dtype: int64"
   ]
  },
  {
   "cell_type": "markdown",
   "id": "266b2736",
   "metadata": {},
   "source": [
    "nombre_infected       852\n",
    "nombre_sain          2074\n",
    "nombre_exposed        487\n",
    "nombre_recovered    16587\n",
    "Name: 202, dtype: int64"
   ]
  },
  {
   "cell_type": "markdown",
   "id": "f35f2157",
   "metadata": {},
   "source": [
    "nombre_infected       863\n",
    "nombre_sain          2105\n",
    "nombre_exposed        458\n",
    "nombre_recovered    16574\n",
    "Name: 203, dtype: int64"
   ]
  },
  {
   "cell_type": "markdown",
   "id": "864aeaa1",
   "metadata": {},
   "source": [
    "nombre_infected       866\n",
    "nombre_sain          2103\n",
    "nombre_exposed        463\n",
    "nombre_recovered    16568\n",
    "Name: 204, dtype: int64"
   ]
  },
  {
   "cell_type": "markdown",
   "id": "a35dfb66",
   "metadata": {},
   "source": [
    "nombre_infected       867\n",
    "nombre_sain          2125\n",
    "nombre_exposed        452\n",
    "nombre_recovered    16556\n",
    "Name: 205, dtype: int64"
   ]
  },
  {
   "cell_type": "markdown",
   "id": "bede94ee",
   "metadata": {},
   "source": [
    "nombre_infected       861\n",
    "nombre_sain          2152\n",
    "nombre_exposed        430\n",
    "nombre_recovered    16557\n",
    "Name: 206, dtype: int64"
   ]
  },
  {
   "cell_type": "markdown",
   "id": "88dbfe59",
   "metadata": {},
   "source": [
    "nombre_infected       866\n",
    "nombre_sain          2125\n",
    "nombre_exposed        439\n",
    "nombre_recovered    16570\n",
    "Name: 207, dtype: int64"
   ]
  },
  {
   "cell_type": "markdown",
   "id": "c2533bd5",
   "metadata": {},
   "source": [
    "nombre_infected       862\n",
    "nombre_sain          2133\n",
    "nombre_exposed        430\n",
    "nombre_recovered    16575\n",
    "Name: 208, dtype: int64"
   ]
  },
  {
   "cell_type": "markdown",
   "id": "88869c2c",
   "metadata": {},
   "source": [
    "nombre_infected       862\n",
    "nombre_sain          2135\n",
    "nombre_exposed        452\n",
    "nombre_recovered    16551\n",
    "Name: 209, dtype: int64"
   ]
  },
  {
   "cell_type": "markdown",
   "id": "e5e478d5",
   "metadata": {},
   "source": [
    "nombre_infected       829\n",
    "nombre_sain          2102\n",
    "nombre_exposed        509\n",
    "nombre_recovered    16560\n",
    "Name: 210, dtype: int64"
   ]
  },
  {
   "cell_type": "markdown",
   "id": "d2d97821",
   "metadata": {},
   "source": [
    "nombre_infected       840\n",
    "nombre_sain          2149\n",
    "nombre_exposed        474\n",
    "nombre_recovered    16537\n",
    "Name: 211, dtype: int64"
   ]
  },
  {
   "cell_type": "markdown",
   "id": "d34e6046",
   "metadata": {},
   "source": [
    "nombre_infected       856\n",
    "nombre_sain          2161\n",
    "nombre_exposed        467\n",
    "nombre_recovered    16516\n",
    "Name: 212, dtype: int64"
   ]
  },
  {
   "cell_type": "markdown",
   "id": "db87f8fa",
   "metadata": {},
   "source": [
    "nombre_infected       867\n",
    "nombre_sain          2189\n",
    "nombre_exposed        456\n",
    "nombre_recovered    16488\n",
    "Name: 213, dtype: int64"
   ]
  },
  {
   "cell_type": "markdown",
   "id": "58952d8a",
   "metadata": {},
   "source": [
    "nombre_infected       865\n",
    "nombre_sain          2197\n",
    "nombre_exposed        456\n",
    "nombre_recovered    16482\n",
    "Name: 214, dtype: int64"
   ]
  },
  {
   "cell_type": "markdown",
   "id": "275eda19",
   "metadata": {},
   "source": [
    "nombre_infected       839\n",
    "nombre_sain          2204\n",
    "nombre_exposed        463\n",
    "nombre_recovered    16494\n",
    "Name: 215, dtype: int64"
   ]
  },
  {
   "cell_type": "markdown",
   "id": "f9780664",
   "metadata": {},
   "source": [
    "nombre_infected       859\n",
    "nombre_sain          2230\n",
    "nombre_exposed        439\n",
    "nombre_recovered    16472\n",
    "Name: 216, dtype: int64"
   ]
  },
  {
   "cell_type": "markdown",
   "id": "ba0712ab",
   "metadata": {},
   "source": [
    "nombre_infected       870\n",
    "nombre_sain          2266\n",
    "nombre_exposed        434\n",
    "nombre_recovered    16430\n",
    "Name: 217, dtype: int64"
   ]
  },
  {
   "cell_type": "markdown",
   "id": "1635e7a3",
   "metadata": {},
   "source": [
    "nombre_infected       876\n",
    "nombre_sain          2284\n",
    "nombre_exposed        421\n",
    "nombre_recovered    16419\n",
    "Name: 218, dtype: int64"
   ]
  },
  {
   "cell_type": "markdown",
   "id": "6bd03138",
   "metadata": {},
   "source": [
    "nombre_infected       862\n",
    "nombre_sain          2302\n",
    "nombre_exposed        429\n",
    "nombre_recovered    16407\n",
    "Name: 219, dtype: int64"
   ]
  },
  {
   "cell_type": "markdown",
   "id": "0ddd7a47",
   "metadata": {},
   "source": [
    "nombre_infected       838\n",
    "nombre_sain          2310\n",
    "nombre_exposed        447\n",
    "nombre_recovered    16405\n",
    "Name: 220, dtype: int64"
   ]
  },
  {
   "cell_type": "markdown",
   "id": "6c2c2952",
   "metadata": {},
   "source": [
    "nombre_infected       801\n",
    "nombre_sain          2332\n",
    "nombre_exposed        471\n",
    "nombre_recovered    16396\n",
    "Name: 221, dtype: int64"
   ]
  },
  {
   "cell_type": "markdown",
   "id": "6fb66568",
   "metadata": {},
   "source": [
    "nombre_infected       817\n",
    "nombre_sain          2377\n",
    "nombre_exposed        440\n",
    "nombre_recovered    16366\n",
    "Name: 222, dtype: int64"
   ]
  },
  {
   "cell_type": "markdown",
   "id": "29901da4",
   "metadata": {},
   "source": [
    "nombre_infected       825\n",
    "nombre_sain          2431\n",
    "nombre_exposed        426\n",
    "nombre_recovered    16318\n",
    "Name: 223, dtype: int64"
   ]
  },
  {
   "cell_type": "markdown",
   "id": "c1321369",
   "metadata": {},
   "source": [
    "nombre_infected       813\n",
    "nombre_sain          2413\n",
    "nombre_exposed        447\n",
    "nombre_recovered    16327\n",
    "Name: 224, dtype: int64"
   ]
  },
  {
   "cell_type": "markdown",
   "id": "3ea2bd1f",
   "metadata": {},
   "source": [
    "nombre_infected       794\n",
    "nombre_sain          2414\n",
    "nombre_exposed        474\n",
    "nombre_recovered    16318\n",
    "Name: 225, dtype: int64"
   ]
  },
  {
   "cell_type": "markdown",
   "id": "4f967632",
   "metadata": {},
   "source": [
    "nombre_infected       787\n",
    "nombre_sain          2452\n",
    "nombre_exposed        471\n",
    "nombre_recovered    16290\n",
    "Name: 226, dtype: int64"
   ]
  },
  {
   "cell_type": "markdown",
   "id": "8ae0772f",
   "metadata": {},
   "source": [
    "nombre_infected       803\n",
    "nombre_sain          2469\n",
    "nombre_exposed        462\n",
    "nombre_recovered    16266\n",
    "Name: 227, dtype: int64"
   ]
  },
  {
   "cell_type": "markdown",
   "id": "4862b714",
   "metadata": {},
   "source": [
    "nombre_infected       812\n",
    "nombre_sain          2478\n",
    "nombre_exposed        469\n",
    "nombre_recovered    16241\n",
    "Name: 228, dtype: int64"
   ]
  },
  {
   "cell_type": "markdown",
   "id": "19daa8e5",
   "metadata": {},
   "source": [
    "nombre_infected       793\n",
    "nombre_sain          2491\n",
    "nombre_exposed        501\n",
    "nombre_recovered    16215\n",
    "Name: 229, dtype: int64"
   ]
  },
  {
   "cell_type": "markdown",
   "id": "7a05000e",
   "metadata": {},
   "source": [
    "nombre_infected       785\n",
    "nombre_sain          2488\n",
    "nombre_exposed        504\n",
    "nombre_recovered    16223\n",
    "Name: 230, dtype: int64"
   ]
  },
  {
   "cell_type": "markdown",
   "id": "d7e7cf9c",
   "metadata": {},
   "source": [
    "nombre_infected       792\n",
    "nombre_sain          2490\n",
    "nombre_exposed        515\n",
    "nombre_recovered    16203\n",
    "Name: 231, dtype: int64"
   ]
  },
  {
   "cell_type": "markdown",
   "id": "156145b4",
   "metadata": {},
   "source": [
    "nombre_infected       818\n",
    "nombre_sain          2522\n",
    "nombre_exposed        488\n",
    "nombre_recovered    16172\n",
    "Name: 232, dtype: int64"
   ]
  },
  {
   "cell_type": "markdown",
   "id": "b227a0be",
   "metadata": {},
   "source": [
    "nombre_infected       830\n",
    "nombre_sain          2513\n",
    "nombre_exposed        481\n",
    "nombre_recovered    16176\n",
    "Name: 233, dtype: int64"
   ]
  },
  {
   "cell_type": "markdown",
   "id": "9853e2f9",
   "metadata": {},
   "source": [
    "nombre_infected       843\n",
    "nombre_sain          2510\n",
    "nombre_exposed        489\n",
    "nombre_recovered    16158\n",
    "Name: 234, dtype: int64"
   ]
  },
  {
   "cell_type": "markdown",
   "id": "eb03176e",
   "metadata": {},
   "source": [
    "nombre_infected       820\n",
    "nombre_sain          2498\n",
    "nombre_exposed        511\n",
    "nombre_recovered    16171\n",
    "Name: 235, dtype: int64"
   ]
  },
  {
   "cell_type": "markdown",
   "id": "237b3ff0",
   "metadata": {},
   "source": [
    "nombre_infected       833\n",
    "nombre_sain          2497\n",
    "nombre_exposed        512\n",
    "nombre_recovered    16158\n",
    "Name: 236, dtype: int64"
   ]
  },
  {
   "cell_type": "markdown",
   "id": "0a3533df",
   "metadata": {},
   "source": [
    "nombre_infected       856\n",
    "nombre_sain          2484\n",
    "nombre_exposed        504\n",
    "nombre_recovered    16156\n",
    "Name: 237, dtype: int64"
   ]
  },
  {
   "cell_type": "markdown",
   "id": "4e46c6c2",
   "metadata": {},
   "source": [
    "nombre_infected       868\n",
    "nombre_sain          2496\n",
    "nombre_exposed        500\n",
    "nombre_recovered    16136\n",
    "Name: 238, dtype: int64"
   ]
  },
  {
   "cell_type": "markdown",
   "id": "2d02acd2",
   "metadata": {},
   "source": [
    "nombre_infected       880\n",
    "nombre_sain          2502\n",
    "nombre_exposed        498\n",
    "nombre_recovered    16120\n",
    "Name: 239, dtype: int64"
   ]
  },
  {
   "cell_type": "markdown",
   "id": "edc1a61b",
   "metadata": {},
   "source": [
    "nombre_infected       895\n",
    "nombre_sain          2478\n",
    "nombre_exposed        511\n",
    "nombre_recovered    16116\n",
    "Name: 240, dtype: int64"
   ]
  },
  {
   "cell_type": "markdown",
   "id": "13ae9c59",
   "metadata": {},
   "source": [
    "nombre_infected       869\n",
    "nombre_sain          2463\n",
    "nombre_exposed        550\n",
    "nombre_recovered    16118\n",
    "Name: 241, dtype: int64"
   ]
  },
  {
   "cell_type": "markdown",
   "id": "08528187",
   "metadata": {},
   "source": [
    "nombre_infected       892\n",
    "nombre_sain          2463\n",
    "nombre_exposed        550\n",
    "nombre_recovered    16095\n",
    "Name: 242, dtype: int64"
   ]
  },
  {
   "cell_type": "markdown",
   "id": "118d7869",
   "metadata": {},
   "source": [
    "nombre_infected       921\n",
    "nombre_sain          2433\n",
    "nombre_exposed        551\n",
    "nombre_recovered    16095\n",
    "Name: 243, dtype: int64"
   ]
  },
  {
   "cell_type": "markdown",
   "id": "8c84c272",
   "metadata": {},
   "source": [
    "nombre_infected       937\n",
    "nombre_sain          2441\n",
    "nombre_exposed        533\n",
    "nombre_recovered    16089\n",
    "Name: 244, dtype: int64"
   ]
  },
  {
   "cell_type": "markdown",
   "id": "76bbc43b",
   "metadata": {},
   "source": [
    "nombre_infected       943\n",
    "nombre_sain          2412\n",
    "nombre_exposed        547\n",
    "nombre_recovered    16098\n",
    "Name: 245, dtype: int64"
   ]
  },
  {
   "cell_type": "markdown",
   "id": "7d9342ed",
   "metadata": {},
   "source": [
    "nombre_infected       957\n",
    "nombre_sain          2412\n",
    "nombre_exposed        544\n",
    "nombre_recovered    16087\n",
    "Name: 246, dtype: int64"
   ]
  },
  {
   "cell_type": "markdown",
   "id": "3a4db230",
   "metadata": {},
   "source": [
    "nombre_infected       955\n",
    "nombre_sain          2386\n",
    "nombre_exposed        563\n",
    "nombre_recovered    16096\n",
    "Name: 247, dtype: int64"
   ]
  },
  {
   "cell_type": "markdown",
   "id": "85fb9222",
   "metadata": {},
   "source": [
    "nombre_infected       971\n",
    "nombre_sain          2344\n",
    "nombre_exposed        566\n",
    "nombre_recovered    16119\n",
    "Name: 248, dtype: int64"
   ]
  },
  {
   "cell_type": "markdown",
   "id": "5caaaa07",
   "metadata": {},
   "source": [
    "nombre_infected       953\n",
    "nombre_sain          2312\n",
    "nombre_exposed        580\n",
    "nombre_recovered    16155\n",
    "Name: 249, dtype: int64"
   ]
  },
  {
   "cell_type": "markdown",
   "id": "6eb13211",
   "metadata": {},
   "source": [
    "nombre_infected       976\n",
    "nombre_sain          2291\n",
    "nombre_exposed        572\n",
    "nombre_recovered    16161\n",
    "Name: 250, dtype: int64"
   ]
  },
  {
   "cell_type": "markdown",
   "id": "7ede5acd",
   "metadata": {},
   "source": [
    "nombre_infected       998\n",
    "nombre_sain          2295\n",
    "nombre_exposed        553\n",
    "nombre_recovered    16154\n",
    "Name: 251, dtype: int64"
   ]
  },
  {
   "cell_type": "markdown",
   "id": "db82969c",
   "metadata": {},
   "source": [
    "nombre_infected       993\n",
    "nombre_sain          2283\n",
    "nombre_exposed        548\n",
    "nombre_recovered    16176\n",
    "Name: 252, dtype: int64"
   ]
  },
  {
   "cell_type": "markdown",
   "id": "4aa9c633",
   "metadata": {},
   "source": [
    "nombre_infected       998\n",
    "nombre_sain          2290\n",
    "nombre_exposed        539\n",
    "nombre_recovered    16173\n",
    "Name: 253, dtype: int64"
   ]
  },
  {
   "cell_type": "markdown",
   "id": "a3b204bd",
   "metadata": {},
   "source": [
    "nombre_infected      1017\n",
    "nombre_sain          2282\n",
    "nombre_exposed        531\n",
    "nombre_recovered    16170\n",
    "Name: 254, dtype: int64"
   ]
  },
  {
   "cell_type": "markdown",
   "id": "dcdda636",
   "metadata": {},
   "source": [
    "nombre_infected      1007\n",
    "nombre_sain          2252\n",
    "nombre_exposed        545\n",
    "nombre_recovered    16196\n",
    "Name: 255, dtype: int64"
   ]
  },
  {
   "cell_type": "markdown",
   "id": "54e31a6a",
   "metadata": {},
   "source": [
    "nombre_infected      1005\n",
    "nombre_sain          2204\n",
    "nombre_exposed        572\n",
    "nombre_recovered    16219\n",
    "Name: 256, dtype: int64"
   ]
  },
  {
   "cell_type": "markdown",
   "id": "773b8f9a",
   "metadata": {},
   "source": [
    "nombre_infected       997\n",
    "nombre_sain          2191\n",
    "nombre_exposed        584\n",
    "nombre_recovered    16228\n",
    "Name: 257, dtype: int64"
   ]
  },
  {
   "cell_type": "markdown",
   "id": "1aafa66d",
   "metadata": {},
   "source": [
    "nombre_infected      1002\n",
    "nombre_sain          2168\n",
    "nombre_exposed        578\n",
    "nombre_recovered    16252\n",
    "Name: 258, dtype: int64"
   ]
  },
  {
   "cell_type": "markdown",
   "id": "cb4f3faa",
   "metadata": {},
   "source": [
    "nombre_infected      1012\n",
    "nombre_sain          2162\n",
    "nombre_exposed        563\n",
    "nombre_recovered    16263\n",
    "Name: 259, dtype: int64"
   ]
  },
  {
   "cell_type": "markdown",
   "id": "a4f0de55",
   "metadata": {},
   "source": [
    "nombre_infected      1029\n",
    "nombre_sain          2163\n",
    "nombre_exposed        562\n",
    "nombre_recovered    16246\n",
    "Name: 260, dtype: int64"
   ]
  },
  {
   "cell_type": "markdown",
   "id": "95adcc14",
   "metadata": {},
   "source": [
    "nombre_infected      1022\n",
    "nombre_sain          2161\n",
    "nombre_exposed        575\n",
    "nombre_recovered    16242\n",
    "Name: 261, dtype: int64"
   ]
  },
  {
   "cell_type": "markdown",
   "id": "d037da62",
   "metadata": {},
   "source": [
    "nombre_infected      1022\n",
    "nombre_sain          2145\n",
    "nombre_exposed        578\n",
    "nombre_recovered    16255\n",
    "Name: 262, dtype: int64"
   ]
  },
  {
   "cell_type": "markdown",
   "id": "1bff197a",
   "metadata": {},
   "source": [
    "nombre_infected      1013\n",
    "nombre_sain          2133\n",
    "nombre_exposed        594\n",
    "nombre_recovered    16260\n",
    "Name: 263, dtype: int64"
   ]
  },
  {
   "cell_type": "markdown",
   "id": "0b085757",
   "metadata": {},
   "source": [
    "nombre_infected      1034\n",
    "nombre_sain          2132\n",
    "nombre_exposed        564\n",
    "nombre_recovered    16270\n",
    "Name: 264, dtype: int64"
   ]
  },
  {
   "cell_type": "markdown",
   "id": "cbfa635f",
   "metadata": {},
   "source": [
    "nombre_infected      1039\n",
    "nombre_sain          2132\n",
    "nombre_exposed        569\n",
    "nombre_recovered    16260\n",
    "Name: 265, dtype: int64"
   ]
  },
  {
   "cell_type": "markdown",
   "id": "7e95e01a",
   "metadata": {},
   "source": [
    "nombre_infected      1041\n",
    "nombre_sain          2145\n",
    "nombre_exposed        579\n",
    "nombre_recovered    16235\n",
    "Name: 266, dtype: int64"
   ]
  },
  {
   "cell_type": "markdown",
   "id": "8c4c1d58",
   "metadata": {},
   "source": [
    "nombre_infected      1041\n",
    "nombre_sain          2156\n",
    "nombre_exposed        579\n",
    "nombre_recovered    16224\n",
    "Name: 267, dtype: int64"
   ]
  },
  {
   "cell_type": "markdown",
   "id": "f061980e",
   "metadata": {},
   "source": [
    "nombre_infected      1043\n",
    "nombre_sain          2149\n",
    "nombre_exposed        571\n",
    "nombre_recovered    16237\n",
    "Name: 268, dtype: int64"
   ]
  },
  {
   "cell_type": "markdown",
   "id": "f5be3961",
   "metadata": {},
   "source": [
    "nombre_infected      1039\n",
    "nombre_sain          2167\n",
    "nombre_exposed        570\n",
    "nombre_recovered    16224\n",
    "Name: 269, dtype: int64"
   ]
  },
  {
   "cell_type": "markdown",
   "id": "5e8822e0",
   "metadata": {},
   "source": [
    "nombre_infected      1057\n",
    "nombre_sain          2182\n",
    "nombre_exposed        535\n",
    "nombre_recovered    16226\n",
    "Name: 270, dtype: int64"
   ]
  },
  {
   "cell_type": "markdown",
   "id": "3ff11a89",
   "metadata": {},
   "source": [
    "nombre_infected      1058\n",
    "nombre_sain          2208\n",
    "nombre_exposed        528\n",
    "nombre_recovered    16206\n",
    "Name: 271, dtype: int64"
   ]
  },
  {
   "cell_type": "markdown",
   "id": "419f91a4",
   "metadata": {},
   "source": [
    "nombre_infected      1040\n",
    "nombre_sain          2211\n",
    "nombre_exposed        530\n",
    "nombre_recovered    16219\n",
    "Name: 272, dtype: int64"
   ]
  },
  {
   "cell_type": "markdown",
   "id": "2a90d64a",
   "metadata": {},
   "source": [
    "nombre_infected      1021\n",
    "nombre_sain          2221\n",
    "nombre_exposed        524\n",
    "nombre_recovered    16234\n",
    "Name: 273, dtype: int64"
   ]
  },
  {
   "cell_type": "markdown",
   "id": "e5d61598",
   "metadata": {},
   "source": [
    "nombre_infected      1026\n",
    "nombre_sain          2222\n",
    "nombre_exposed        525\n",
    "nombre_recovered    16227\n",
    "Name: 274, dtype: int64"
   ]
  },
  {
   "cell_type": "markdown",
   "id": "7078e142",
   "metadata": {},
   "source": [
    "nombre_infected      1015\n",
    "nombre_sain          2200\n",
    "nombre_exposed        523\n",
    "nombre_recovered    16262\n",
    "Name: 275, dtype: int64"
   ]
  },
  {
   "cell_type": "markdown",
   "id": "8af77dff",
   "metadata": {},
   "source": [
    "nombre_infected      1018\n",
    "nombre_sain          2202\n",
    "nombre_exposed        515\n",
    "nombre_recovered    16265\n",
    "Name: 276, dtype: int64"
   ]
  },
  {
   "cell_type": "markdown",
   "id": "062339ec",
   "metadata": {},
   "source": [
    "nombre_infected      1017\n",
    "nombre_sain          2240\n",
    "nombre_exposed        478\n",
    "nombre_recovered    16265\n",
    "Name: 277, dtype: int64"
   ]
  },
  {
   "cell_type": "markdown",
   "id": "4853f04a",
   "metadata": {},
   "source": [
    "nombre_infected       993\n",
    "nombre_sain          2195\n",
    "nombre_exposed        531\n",
    "nombre_recovered    16281\n",
    "Name: 278, dtype: int64"
   ]
  },
  {
   "cell_type": "markdown",
   "id": "00d9aa11",
   "metadata": {},
   "source": [
    "nombre_infected       965\n",
    "nombre_sain          2163\n",
    "nombre_exposed        561\n",
    "nombre_recovered    16311\n",
    "Name: 279, dtype: int64"
   ]
  },
  {
   "cell_type": "markdown",
   "id": "da6063c1",
   "metadata": {},
   "source": [
    "nombre_infected       969\n",
    "nombre_sain          2149\n",
    "nombre_exposed        567\n",
    "nombre_recovered    16315\n",
    "Name: 280, dtype: int64"
   ]
  },
  {
   "cell_type": "markdown",
   "id": "fa84ca80",
   "metadata": {},
   "source": [
    "nombre_infected       981\n",
    "nombre_sain          2129\n",
    "nombre_exposed        559\n",
    "nombre_recovered    16331\n",
    "Name: 281, dtype: int64"
   ]
  },
  {
   "cell_type": "markdown",
   "id": "e987cd1d",
   "metadata": {},
   "source": [
    "nombre_infected       966\n",
    "nombre_sain          2122\n",
    "nombre_exposed        536\n",
    "nombre_recovered    16376\n",
    "Name: 282, dtype: int64"
   ]
  },
  {
   "cell_type": "markdown",
   "id": "b35b6238",
   "metadata": {},
   "source": [
    "nombre_infected       965\n",
    "nombre_sain          2108\n",
    "nombre_exposed        538\n",
    "nombre_recovered    16389\n",
    "Name: 283, dtype: int64"
   ]
  },
  {
   "cell_type": "markdown",
   "id": "fe9e009e",
   "metadata": {},
   "source": [
    "nombre_infected       931\n",
    "nombre_sain          2115\n",
    "nombre_exposed        541\n",
    "nombre_recovered    16413\n",
    "Name: 284, dtype: int64"
   ]
  },
  {
   "cell_type": "markdown",
   "id": "8502dbac",
   "metadata": {},
   "source": [
    "nombre_infected       926\n",
    "nombre_sain          2126\n",
    "nombre_exposed        528\n",
    "nombre_recovered    16420\n",
    "Name: 285, dtype: int64"
   ]
  },
  {
   "cell_type": "markdown",
   "id": "5dafa422",
   "metadata": {},
   "source": [
    "nombre_infected       934\n",
    "nombre_sain          2162\n",
    "nombre_exposed        499\n",
    "nombre_recovered    16405\n",
    "Name: 286, dtype: int64"
   ]
  },
  {
   "cell_type": "markdown",
   "id": "3b2f8330",
   "metadata": {},
   "source": [
    "nombre_infected       946\n",
    "nombre_sain          2162\n",
    "nombre_exposed        495\n",
    "nombre_recovered    16397\n",
    "Name: 287, dtype: int64"
   ]
  },
  {
   "cell_type": "markdown",
   "id": "8eeb2e16",
   "metadata": {},
   "source": [
    "nombre_infected       934\n",
    "nombre_sain          2128\n",
    "nombre_exposed        515\n",
    "nombre_recovered    16423\n",
    "Name: 288, dtype: int64"
   ]
  },
  {
   "cell_type": "markdown",
   "id": "e4f41007",
   "metadata": {},
   "source": [
    "nombre_infected       931\n",
    "nombre_sain          2108\n",
    "nombre_exposed        543\n",
    "nombre_recovered    16418\n",
    "Name: 289, dtype: int64"
   ]
  },
  {
   "cell_type": "markdown",
   "id": "6c0cf477",
   "metadata": {},
   "source": [
    "nombre_infected       907\n",
    "nombre_sain          2137\n",
    "nombre_exposed        544\n",
    "nombre_recovered    16412\n",
    "Name: 290, dtype: int64"
   ]
  },
  {
   "cell_type": "markdown",
   "id": "098cb2aa",
   "metadata": {},
   "source": [
    "nombre_infected       926\n",
    "nombre_sain          2150\n",
    "nombre_exposed        531\n",
    "nombre_recovered    16393\n",
    "Name: 291, dtype: int64"
   ]
  },
  {
   "cell_type": "markdown",
   "id": "378e7275",
   "metadata": {},
   "source": [
    "nombre_infected       931\n",
    "nombre_sain          2128\n",
    "nombre_exposed        536\n",
    "nombre_recovered    16405\n",
    "Name: 292, dtype: int64"
   ]
  },
  {
   "cell_type": "markdown",
   "id": "768949c9",
   "metadata": {},
   "source": [
    "nombre_infected       942\n",
    "nombre_sain          2139\n",
    "nombre_exposed        509\n",
    "nombre_recovered    16410\n",
    "Name: 293, dtype: int64"
   ]
  },
  {
   "cell_type": "markdown",
   "id": "84267c60",
   "metadata": {},
   "source": [
    "nombre_infected       942\n",
    "nombre_sain          2127\n",
    "nombre_exposed        509\n",
    "nombre_recovered    16422\n",
    "Name: 294, dtype: int64"
   ]
  },
  {
   "cell_type": "markdown",
   "id": "a126284d",
   "metadata": {},
   "source": [
    "nombre_infected       933\n",
    "nombre_sain          2127\n",
    "nombre_exposed        511\n",
    "nombre_recovered    16429\n",
    "Name: 295, dtype: int64"
   ]
  },
  {
   "cell_type": "markdown",
   "id": "38a6b8ea",
   "metadata": {},
   "source": [
    "nombre_infected       918\n",
    "nombre_sain          2122\n",
    "nombre_exposed        526\n",
    "nombre_recovered    16434\n",
    "Name: 296, dtype: int64"
   ]
  },
  {
   "cell_type": "markdown",
   "id": "f0f80617",
   "metadata": {},
   "source": [
    "nombre_infected       917\n",
    "nombre_sain          2133\n",
    "nombre_exposed        521\n",
    "nombre_recovered    16429\n",
    "Name: 297, dtype: int64"
   ]
  },
  {
   "cell_type": "markdown",
   "id": "9243ed9e",
   "metadata": {},
   "source": [
    "nombre_infected       937\n",
    "nombre_sain          2143\n",
    "nombre_exposed        507\n",
    "nombre_recovered    16413\n",
    "Name: 298, dtype: int64"
   ]
  },
  {
   "cell_type": "markdown",
   "id": "6f20612c",
   "metadata": {},
   "source": [
    "nombre_infected       953\n",
    "nombre_sain          2168\n",
    "nombre_exposed        496\n",
    "nombre_recovered    16383\n",
    "Name: 299, dtype: int64"
   ]
  },
  {
   "cell_type": "markdown",
   "id": "155195dc",
   "metadata": {},
   "source": [
    "nombre_infected       958\n",
    "nombre_sain          2170\n",
    "nombre_exposed        519\n",
    "nombre_recovered    16353\n",
    "Name: 300, dtype: int64"
   ]
  },
  {
   "cell_type": "markdown",
   "id": "a359f711",
   "metadata": {},
   "source": [
    "nombre_infected       971\n",
    "nombre_sain          2187\n",
    "nombre_exposed        518\n",
    "nombre_recovered    16324\n",
    "Name: 301, dtype: int64"
   ]
  },
  {
   "cell_type": "markdown",
   "id": "38b0df2a",
   "metadata": {},
   "source": [
    "nombre_infected       974\n",
    "nombre_sain          2226\n",
    "nombre_exposed        533\n",
    "nombre_recovered    16267\n",
    "Name: 302, dtype: int64"
   ]
  },
  {
   "cell_type": "markdown",
   "id": "83930b82",
   "metadata": {},
   "source": [
    "nombre_infected       975\n",
    "nombre_sain          2221\n",
    "nombre_exposed        561\n",
    "nombre_recovered    16243\n",
    "Name: 303, dtype: int64"
   ]
  },
  {
   "cell_type": "markdown",
   "id": "21b66245",
   "metadata": {},
   "source": [
    "nombre_infected       978\n",
    "nombre_sain          2227\n",
    "nombre_exposed        564\n",
    "nombre_recovered    16231\n",
    "Name: 304, dtype: int64"
   ]
  },
  {
   "cell_type": "markdown",
   "id": "559be092",
   "metadata": {},
   "source": [
    "nombre_infected      1000\n",
    "nombre_sain          2237\n",
    "nombre_exposed        556\n",
    "nombre_recovered    16207\n",
    "Name: 305, dtype: int64"
   ]
  },
  {
   "cell_type": "markdown",
   "id": "e9e08b39",
   "metadata": {},
   "source": [
    "nombre_infected      1004\n",
    "nombre_sain          2235\n",
    "nombre_exposed        563\n",
    "nombre_recovered    16198\n",
    "Name: 306, dtype: int64"
   ]
  },
  {
   "cell_type": "markdown",
   "id": "c9690472",
   "metadata": {},
   "source": [
    "nombre_infected       996\n",
    "nombre_sain          2216\n",
    "nombre_exposed        590\n",
    "nombre_recovered    16198\n",
    "Name: 307, dtype: int64"
   ]
  },
  {
   "cell_type": "markdown",
   "id": "e0011721",
   "metadata": {},
   "source": [
    "nombre_infected      1002\n",
    "nombre_sain          2234\n",
    "nombre_exposed        566\n",
    "nombre_recovered    16198\n",
    "Name: 308, dtype: int64"
   ]
  },
  {
   "cell_type": "markdown",
   "id": "4b4e3f26",
   "metadata": {},
   "source": [
    "nombre_infected       998\n",
    "nombre_sain          2223\n",
    "nombre_exposed        572\n",
    "nombre_recovered    16207\n",
    "Name: 309, dtype: int64"
   ]
  },
  {
   "cell_type": "markdown",
   "id": "9e1ea077",
   "metadata": {},
   "source": [
    "nombre_infected      1008\n",
    "nombre_sain          2207\n",
    "nombre_exposed        563\n",
    "nombre_recovered    16222\n",
    "Name: 310, dtype: int64"
   ]
  },
  {
   "cell_type": "markdown",
   "id": "78eaad6b",
   "metadata": {},
   "source": [
    "nombre_infected      1003\n",
    "nombre_sain          2211\n",
    "nombre_exposed        546\n",
    "nombre_recovered    16240\n",
    "Name: 311, dtype: int64"
   ]
  },
  {
   "cell_type": "markdown",
   "id": "8f8a16ab",
   "metadata": {},
   "source": [
    "nombre_infected       994\n",
    "nombre_sain          2193\n",
    "nombre_exposed        553\n",
    "nombre_recovered    16260\n",
    "Name: 312, dtype: int64"
   ]
  },
  {
   "cell_type": "markdown",
   "id": "298d6eb2",
   "metadata": {},
   "source": [
    "nombre_infected      1023\n",
    "nombre_sain          2178\n",
    "nombre_exposed        551\n",
    "nombre_recovered    16248\n",
    "Name: 313, dtype: int64"
   ]
  },
  {
   "cell_type": "markdown",
   "id": "9799716c",
   "metadata": {},
   "source": [
    "nombre_infected      1039\n",
    "nombre_sain          2222\n",
    "nombre_exposed        522\n",
    "nombre_recovered    16217\n",
    "Name: 314, dtype: int64"
   ]
  },
  {
   "cell_type": "markdown",
   "id": "3ba77632",
   "metadata": {},
   "source": [
    "nombre_infected      1032\n",
    "nombre_sain          2193\n",
    "nombre_exposed        556\n",
    "nombre_recovered    16219\n",
    "Name: 315, dtype: int64"
   ]
  },
  {
   "cell_type": "markdown",
   "id": "b1b5461e",
   "metadata": {},
   "source": [
    "nombre_infected      1036\n",
    "nombre_sain          2220\n",
    "nombre_exposed        577\n",
    "nombre_recovered    16167\n",
    "Name: 316, dtype: int64"
   ]
  },
  {
   "cell_type": "markdown",
   "id": "4b430cd6",
   "metadata": {},
   "source": [
    "nombre_infected      1048\n",
    "nombre_sain          2233\n",
    "nombre_exposed        548\n",
    "nombre_recovered    16171\n",
    "Name: 317, dtype: int64"
   ]
  },
  {
   "cell_type": "markdown",
   "id": "b265de2f",
   "metadata": {},
   "source": [
    "nombre_infected      1054\n",
    "nombre_sain          2264\n",
    "nombre_exposed        547\n",
    "nombre_recovered    16135\n",
    "Name: 318, dtype: int64"
   ]
  },
  {
   "cell_type": "markdown",
   "id": "b174591b",
   "metadata": {},
   "source": [
    "nombre_infected      1071\n",
    "nombre_sain          2254\n",
    "nombre_exposed        558\n",
    "nombre_recovered    16117\n",
    "Name: 319, dtype: int64"
   ]
  },
  {
   "cell_type": "markdown",
   "id": "1cd269f3",
   "metadata": {},
   "source": [
    "nombre_infected      1052\n",
    "nombre_sain          2249\n",
    "nombre_exposed        585\n",
    "nombre_recovered    16114\n",
    "Name: 320, dtype: int64"
   ]
  },
  {
   "cell_type": "markdown",
   "id": "70690f76",
   "metadata": {},
   "source": [
    "nombre_infected      1044\n",
    "nombre_sain          2255\n",
    "nombre_exposed        584\n",
    "nombre_recovered    16117\n",
    "Name: 321, dtype: int64"
   ]
  },
  {
   "cell_type": "markdown",
   "id": "f03f7e9c",
   "metadata": {},
   "source": [
    "nombre_infected      1038\n",
    "nombre_sain          2298\n",
    "nombre_exposed        581\n",
    "nombre_recovered    16083\n",
    "Name: 322, dtype: int64"
   ]
  },
  {
   "cell_type": "markdown",
   "id": "090e982f",
   "metadata": {},
   "source": [
    "nombre_infected      1043\n",
    "nombre_sain          2329\n",
    "nombre_exposed        586\n",
    "nombre_recovered    16042\n",
    "Name: 323, dtype: int64"
   ]
  },
  {
   "cell_type": "markdown",
   "id": "a70873db",
   "metadata": {},
   "source": [
    "nombre_infected      1055\n",
    "nombre_sain          2346\n",
    "nombre_exposed        597\n",
    "nombre_recovered    16002\n",
    "Name: 324, dtype: int64"
   ]
  },
  {
   "cell_type": "markdown",
   "id": "67d7bc77",
   "metadata": {},
   "source": [
    "nombre_infected      1068\n",
    "nombre_sain          2344\n",
    "nombre_exposed        602\n",
    "nombre_recovered    15986\n",
    "Name: 325, dtype: int64"
   ]
  },
  {
   "cell_type": "markdown",
   "id": "fecba9a2",
   "metadata": {},
   "source": [
    "nombre_infected      1092\n",
    "nombre_sain          2329\n",
    "nombre_exposed        628\n",
    "nombre_recovered    15951\n",
    "Name: 326, dtype: int64"
   ]
  },
  {
   "cell_type": "markdown",
   "id": "129b5d7b",
   "metadata": {},
   "source": [
    "nombre_infected      1137\n",
    "nombre_sain          2354\n",
    "nombre_exposed        601\n",
    "nombre_recovered    15908\n",
    "Name: 327, dtype: int64"
   ]
  },
  {
   "cell_type": "markdown",
   "id": "74b9b4e4",
   "metadata": {},
   "source": [
    "nombre_infected      1161\n",
    "nombre_sain          2320\n",
    "nombre_exposed        635\n",
    "nombre_recovered    15884\n",
    "Name: 328, dtype: int64"
   ]
  },
  {
   "cell_type": "markdown",
   "id": "81c5ef1c",
   "metadata": {},
   "source": [
    "nombre_infected      1186\n",
    "nombre_sain          2310\n",
    "nombre_exposed        652\n",
    "nombre_recovered    15852\n",
    "Name: 329, dtype: int64"
   ]
  },
  {
   "cell_type": "markdown",
   "id": "8bdf87c8",
   "metadata": {},
   "source": [
    "nombre_infected      1204\n",
    "nombre_sain          2301\n",
    "nombre_exposed        668\n",
    "nombre_recovered    15827\n",
    "Name: 330, dtype: int64"
   ]
  },
  {
   "cell_type": "markdown",
   "id": "adb68973",
   "metadata": {},
   "source": [
    "nombre_infected      1250\n",
    "nombre_sain          2291\n",
    "nombre_exposed        656\n",
    "nombre_recovered    15803\n",
    "Name: 331, dtype: int64"
   ]
  },
  {
   "cell_type": "markdown",
   "id": "cb1d644b",
   "metadata": {},
   "source": [
    "nombre_infected      1255\n",
    "nombre_sain          2277\n",
    "nombre_exposed        654\n",
    "nombre_recovered    15814\n",
    "Name: 332, dtype: int64"
   ]
  },
  {
   "cell_type": "markdown",
   "id": "05ed2074",
   "metadata": {},
   "source": [
    "nombre_infected      1281\n",
    "nombre_sain          2262\n",
    "nombre_exposed        649\n",
    "nombre_recovered    15808\n",
    "Name: 333, dtype: int64"
   ]
  },
  {
   "cell_type": "markdown",
   "id": "89678000",
   "metadata": {},
   "source": [
    "nombre_infected      1289\n",
    "nombre_sain          2232\n",
    "nombre_exposed        670\n",
    "nombre_recovered    15809\n",
    "Name: 334, dtype: int64"
   ]
  },
  {
   "cell_type": "markdown",
   "id": "492fd866",
   "metadata": {},
   "source": [
    "nombre_infected      1315\n",
    "nombre_sain          2201\n",
    "nombre_exposed        667\n",
    "nombre_recovered    15817\n",
    "Name: 335, dtype: int64"
   ]
  },
  {
   "cell_type": "markdown",
   "id": "34b0f265",
   "metadata": {},
   "source": [
    "nombre_infected      1310\n",
    "nombre_sain          2186\n",
    "nombre_exposed        676\n",
    "nombre_recovered    15828\n",
    "Name: 336, dtype: int64"
   ]
  },
  {
   "cell_type": "markdown",
   "id": "03e0333a",
   "metadata": {},
   "source": [
    "nombre_infected      1310\n",
    "nombre_sain          2130\n",
    "nombre_exposed        710\n",
    "nombre_recovered    15850\n",
    "Name: 337, dtype: int64"
   ]
  },
  {
   "cell_type": "markdown",
   "id": "0e8fc099",
   "metadata": {},
   "source": [
    "nombre_infected      1309\n",
    "nombre_sain          2123\n",
    "nombre_exposed        668\n",
    "nombre_recovered    15900\n",
    "Name: 338, dtype: int64"
   ]
  },
  {
   "cell_type": "markdown",
   "id": "e497d927",
   "metadata": {},
   "source": [
    "nombre_infected      1322\n",
    "nombre_sain          2093\n",
    "nombre_exposed        648\n",
    "nombre_recovered    15937\n",
    "Name: 339, dtype: int64"
   ]
  },
  {
   "cell_type": "markdown",
   "id": "e86cc4df",
   "metadata": {},
   "source": [
    "nombre_infected      1293\n",
    "nombre_sain          2070\n",
    "nombre_exposed        664\n",
    "nombre_recovered    15973\n",
    "Name: 340, dtype: int64"
   ]
  },
  {
   "cell_type": "markdown",
   "id": "394c537a",
   "metadata": {},
   "source": [
    "nombre_infected      1268\n",
    "nombre_sain          2063\n",
    "nombre_exposed        641\n",
    "nombre_recovered    16028\n",
    "Name: 341, dtype: int64"
   ]
  },
  {
   "cell_type": "markdown",
   "id": "e654f6ad",
   "metadata": {},
   "source": [
    "nombre_infected      1276\n",
    "nombre_sain          2053\n",
    "nombre_exposed        631\n",
    "nombre_recovered    16040\n",
    "Name: 342, dtype: int64"
   ]
  },
  {
   "cell_type": "markdown",
   "id": "d5dac650",
   "metadata": {},
   "source": [
    "nombre_infected      1264\n",
    "nombre_sain          2043\n",
    "nombre_exposed        628\n",
    "nombre_recovered    16065\n",
    "Name: 343, dtype: int64"
   ]
  },
  {
   "cell_type": "markdown",
   "id": "8637bdbb",
   "metadata": {},
   "source": [
    "nombre_infected      1266\n",
    "nombre_sain          2030\n",
    "nombre_exposed        625\n",
    "nombre_recovered    16079\n",
    "Name: 344, dtype: int64"
   ]
  },
  {
   "cell_type": "markdown",
   "id": "6122b44f",
   "metadata": {},
   "source": [
    "nombre_infected      1246\n",
    "nombre_sain          1992\n",
    "nombre_exposed        640\n",
    "nombre_recovered    16122\n",
    "Name: 345, dtype: int64"
   ]
  },
  {
   "cell_type": "markdown",
   "id": "3ddfb6f0",
   "metadata": {},
   "source": [
    "nombre_infected      1232\n",
    "nombre_sain          2017\n",
    "nombre_exposed        620\n",
    "nombre_recovered    16131\n",
    "Name: 346, dtype: int64"
   ]
  },
  {
   "cell_type": "markdown",
   "id": "6d96d32a",
   "metadata": {},
   "source": [
    "nombre_infected      1252\n",
    "nombre_sain          1968\n",
    "nombre_exposed        613\n",
    "nombre_recovered    16167\n",
    "Name: 347, dtype: int64"
   ]
  },
  {
   "cell_type": "markdown",
   "id": "c8d53dc8",
   "metadata": {},
   "source": [
    "nombre_infected      1236\n",
    "nombre_sain          1940\n",
    "nombre_exposed        604\n",
    "nombre_recovered    16220\n",
    "Name: 348, dtype: int64"
   ]
  },
  {
   "cell_type": "markdown",
   "id": "dad2f87f",
   "metadata": {},
   "source": [
    "nombre_infected      1236\n",
    "nombre_sain          1905\n",
    "nombre_exposed        607\n",
    "nombre_recovered    16252\n",
    "Name: 349, dtype: int64"
   ]
  },
  {
   "cell_type": "markdown",
   "id": "9bb271ee",
   "metadata": {},
   "source": [
    "nombre_infected      1211\n",
    "nombre_sain          1878\n",
    "nombre_exposed        623\n",
    "nombre_recovered    16288\n",
    "Name: 350, dtype: int64"
   ]
  },
  {
   "cell_type": "markdown",
   "id": "cae7b274",
   "metadata": {},
   "source": [
    "nombre_infected      1199\n",
    "nombre_sain          1875\n",
    "nombre_exposed        608\n",
    "nombre_recovered    16318\n",
    "Name: 351, dtype: int64"
   ]
  },
  {
   "cell_type": "markdown",
   "id": "a66fbd9c",
   "metadata": {},
   "source": [
    "nombre_infected      1206\n",
    "nombre_sain          1850\n",
    "nombre_exposed        594\n",
    "nombre_recovered    16350\n",
    "Name: 352, dtype: int64"
   ]
  },
  {
   "cell_type": "markdown",
   "id": "c1091f6e",
   "metadata": {},
   "source": [
    "nombre_infected      1204\n",
    "nombre_sain          1865\n",
    "nombre_exposed        553\n",
    "nombre_recovered    16378\n",
    "Name: 353, dtype: int64"
   ]
  },
  {
   "cell_type": "markdown",
   "id": "38ab7dd2",
   "metadata": {},
   "source": [
    "nombre_infected      1193\n",
    "nombre_sain          1853\n",
    "nombre_exposed        548\n",
    "nombre_recovered    16406\n",
    "Name: 354, dtype: int64"
   ]
  },
  {
   "cell_type": "markdown",
   "id": "57ea95ea",
   "metadata": {},
   "source": [
    "nombre_infected      1150\n",
    "nombre_sain          1865\n",
    "nombre_exposed        536\n",
    "nombre_recovered    16449\n",
    "Name: 355, dtype: int64"
   ]
  },
  {
   "cell_type": "markdown",
   "id": "2e6814b5",
   "metadata": {},
   "source": [
    "nombre_infected      1142\n",
    "nombre_sain          1842\n",
    "nombre_exposed        534\n",
    "nombre_recovered    16482\n",
    "Name: 356, dtype: int64"
   ]
  },
  {
   "cell_type": "markdown",
   "id": "2cbfb65c",
   "metadata": {},
   "source": [
    "nombre_infected      1115\n",
    "nombre_sain          1809\n",
    "nombre_exposed        547\n",
    "nombre_recovered    16529\n",
    "Name: 357, dtype: int64"
   ]
  },
  {
   "cell_type": "markdown",
   "id": "cbc8d2f6",
   "metadata": {},
   "source": [
    "nombre_infected      1080\n",
    "nombre_sain          1830\n",
    "nombre_exposed        537\n",
    "nombre_recovered    16553\n",
    "Name: 358, dtype: int64"
   ]
  },
  {
   "cell_type": "markdown",
   "id": "90fa3964",
   "metadata": {},
   "source": [
    "nombre_infected      1060\n",
    "nombre_sain          1834\n",
    "nombre_exposed        534\n",
    "nombre_recovered    16572\n",
    "Name: 359, dtype: int64"
   ]
  },
  {
   "cell_type": "markdown",
   "id": "d1690f4c",
   "metadata": {},
   "source": [
    "nombre_infected      1053\n",
    "nombre_sain          1828\n",
    "nombre_exposed        529\n",
    "nombre_recovered    16590\n",
    "Name: 360, dtype: int64"
   ]
  },
  {
   "cell_type": "markdown",
   "id": "6e7a42ea",
   "metadata": {},
   "source": [
    "nombre_infected      1055\n",
    "nombre_sain          1848\n",
    "nombre_exposed        502\n",
    "nombre_recovered    16595\n",
    "Name: 361, dtype: int64"
   ]
  },
  {
   "cell_type": "markdown",
   "id": "601f580f",
   "metadata": {},
   "source": [
    "nombre_infected      1083\n",
    "nombre_sain          1869\n",
    "nombre_exposed        477\n",
    "nombre_recovered    16571\n",
    "Name: 362, dtype: int64"
   ]
  },
  {
   "cell_type": "markdown",
   "id": "3d6d2cf6",
   "metadata": {},
   "source": [
    "nombre_infected      1053\n",
    "nombre_sain          1869\n",
    "nombre_exposed        471\n",
    "nombre_recovered    16607\n",
    "Name: 363, dtype: int64"
   ]
  },
  {
   "cell_type": "markdown",
   "id": "4a26640a",
   "metadata": {},
   "source": [
    "nombre_infected      1003\n",
    "nombre_sain          1899\n",
    "nombre_exposed        481\n",
    "nombre_recovered    16617\n",
    "Name: 364, dtype: int64"
   ]
  },
  {
   "cell_type": "markdown",
   "id": "080ec3b2",
   "metadata": {},
   "source": [
    "nombre_infected       996\n",
    "nombre_sain          1916\n",
    "nombre_exposed        487\n",
    "nombre_recovered    16601\n",
    "Name: 365, dtype: int64"
   ]
  },
  {
   "cell_type": "markdown",
   "id": "142060c4",
   "metadata": {},
   "source": [
    "nombre_infected       964\n",
    "nombre_sain          1940\n",
    "nombre_exposed        485\n",
    "nombre_recovered    16611\n",
    "Name: 366, dtype: int64"
   ]
  },
  {
   "cell_type": "markdown",
   "id": "e3d7443d",
   "metadata": {},
   "source": [
    "nombre_infected       947\n",
    "nombre_sain          1986\n",
    "nombre_exposed        468\n",
    "nombre_recovered    16599\n",
    "Name: 367, dtype: int64"
   ]
  },
  {
   "cell_type": "markdown",
   "id": "9a508d76",
   "metadata": {},
   "source": [
    "nombre_infected       924\n",
    "nombre_sain          2004\n",
    "nombre_exposed        444\n",
    "nombre_recovered    16628\n",
    "Name: 368, dtype: int64"
   ]
  },
  {
   "cell_type": "markdown",
   "id": "e4b7e72d",
   "metadata": {},
   "source": [
    "nombre_infected       920\n",
    "nombre_sain          2014\n",
    "nombre_exposed        445\n",
    "nombre_recovered    16621\n",
    "Name: 369, dtype: int64"
   ]
  },
  {
   "cell_type": "markdown",
   "id": "9bbfa76f",
   "metadata": {},
   "source": [
    "nombre_infected       869\n",
    "nombre_sain          2030\n",
    "nombre_exposed        467\n",
    "nombre_recovered    16634\n",
    "Name: 370, dtype: int64"
   ]
  },
  {
   "cell_type": "markdown",
   "id": "630cb93a",
   "metadata": {},
   "source": [
    "nombre_infected       882\n",
    "nombre_sain          2040\n",
    "nombre_exposed        467\n",
    "nombre_recovered    16611\n",
    "Name: 371, dtype: int64"
   ]
  },
  {
   "cell_type": "markdown",
   "id": "84843582",
   "metadata": {},
   "source": [
    "nombre_infected       884\n",
    "nombre_sain          2053\n",
    "nombre_exposed        463\n",
    "nombre_recovered    16600\n",
    "Name: 372, dtype: int64"
   ]
  },
  {
   "cell_type": "markdown",
   "id": "22e11af5",
   "metadata": {},
   "source": [
    "nombre_infected       862\n",
    "nombre_sain          2054\n",
    "nombre_exposed        471\n",
    "nombre_recovered    16613\n",
    "Name: 373, dtype: int64"
   ]
  },
  {
   "cell_type": "markdown",
   "id": "6720d3fe",
   "metadata": {},
   "source": [
    "nombre_infected       834\n",
    "nombre_sain          2093\n",
    "nombre_exposed        484\n",
    "nombre_recovered    16589\n",
    "Name: 374, dtype: int64"
   ]
  },
  {
   "cell_type": "markdown",
   "id": "34a49b86",
   "metadata": {},
   "source": [
    "nombre_infected       827\n",
    "nombre_sain          2080\n",
    "nombre_exposed        492\n",
    "nombre_recovered    16601\n",
    "Name: 375, dtype: int64"
   ]
  },
  {
   "cell_type": "markdown",
   "id": "47c9d6cf",
   "metadata": {},
   "source": [
    "nombre_infected       814\n",
    "nombre_sain          2084\n",
    "nombre_exposed        505\n",
    "nombre_recovered    16597\n",
    "Name: 376, dtype: int64"
   ]
  },
  {
   "cell_type": "markdown",
   "id": "7fbd8e7d",
   "metadata": {},
   "source": [
    "nombre_infected       828\n",
    "nombre_sain          2113\n",
    "nombre_exposed        485\n",
    "nombre_recovered    16574\n",
    "Name: 377, dtype: int64"
   ]
  },
  {
   "cell_type": "markdown",
   "id": "890d75a0",
   "metadata": {},
   "source": [
    "nombre_infected       844\n",
    "nombre_sain          2137\n",
    "nombre_exposed        463\n",
    "nombre_recovered    16556\n",
    "Name: 378, dtype: int64"
   ]
  },
  {
   "cell_type": "markdown",
   "id": "9cc9789b",
   "metadata": {},
   "source": [
    "nombre_infected       849\n",
    "nombre_sain          2153\n",
    "nombre_exposed        460\n",
    "nombre_recovered    16538\n",
    "Name: 379, dtype: int64"
   ]
  },
  {
   "cell_type": "markdown",
   "id": "a0eb9368",
   "metadata": {},
   "source": [
    "nombre_infected       817\n",
    "nombre_sain          2148\n",
    "nombre_exposed        480\n",
    "nombre_recovered    16555\n",
    "Name: 380, dtype: int64"
   ]
  },
  {
   "cell_type": "markdown",
   "id": "109f7c92",
   "metadata": {},
   "source": [
    "nombre_infected       815\n",
    "nombre_sain          2172\n",
    "nombre_exposed        459\n",
    "nombre_recovered    16554\n",
    "Name: 381, dtype: int64"
   ]
  },
  {
   "cell_type": "markdown",
   "id": "089ea427",
   "metadata": {},
   "source": [
    "nombre_infected       799\n",
    "nombre_sain          2186\n",
    "nombre_exposed        464\n",
    "nombre_recovered    16551\n",
    "Name: 382, dtype: int64"
   ]
  },
  {
   "cell_type": "markdown",
   "id": "e051d432",
   "metadata": {},
   "source": [
    "nombre_infected       785\n",
    "nombre_sain          2192\n",
    "nombre_exposed        463\n",
    "nombre_recovered    16560\n",
    "Name: 383, dtype: int64"
   ]
  },
  {
   "cell_type": "markdown",
   "id": "777fe881",
   "metadata": {},
   "source": [
    "nombre_infected       736\n",
    "nombre_sain          2188\n",
    "nombre_exposed        485\n",
    "nombre_recovered    16591\n",
    "Name: 384, dtype: int64"
   ]
  },
  {
   "cell_type": "markdown",
   "id": "ac745427",
   "metadata": {},
   "source": [
    "nombre_infected       766\n",
    "nombre_sain          2194\n",
    "nombre_exposed        460\n",
    "nombre_recovered    16580\n",
    "Name: 385, dtype: int64"
   ]
  },
  {
   "cell_type": "markdown",
   "id": "da8cdd5d",
   "metadata": {},
   "source": [
    "nombre_infected       775\n",
    "nombre_sain          2197\n",
    "nombre_exposed        461\n",
    "nombre_recovered    16567\n",
    "Name: 386, dtype: int64"
   ]
  },
  {
   "cell_type": "markdown",
   "id": "10a2f5bd",
   "metadata": {},
   "source": [
    "nombre_infected       788\n",
    "nombre_sain          2218\n",
    "nombre_exposed        452\n",
    "nombre_recovered    16542\n",
    "Name: 387, dtype: int64"
   ]
  },
  {
   "cell_type": "markdown",
   "id": "e92d6f41",
   "metadata": {},
   "source": [
    "nombre_infected       770\n",
    "nombre_sain          2217\n",
    "nombre_exposed        475\n",
    "nombre_recovered    16538\n",
    "Name: 388, dtype: int64"
   ]
  },
  {
   "cell_type": "markdown",
   "id": "526bed41",
   "metadata": {},
   "source": [
    "nombre_infected       799\n",
    "nombre_sain          2234\n",
    "nombre_exposed        451\n",
    "nombre_recovered    16516\n",
    "Name: 389, dtype: int64"
   ]
  },
  {
   "cell_type": "markdown",
   "id": "3b51ea82",
   "metadata": {},
   "source": [
    "nombre_infected       817\n",
    "nombre_sain          2268\n",
    "nombre_exposed        428\n",
    "nombre_recovered    16487\n",
    "Name: 390, dtype: int64"
   ]
  },
  {
   "cell_type": "markdown",
   "id": "e60ce048",
   "metadata": {},
   "source": [
    "nombre_infected       823\n",
    "nombre_sain          2268\n",
    "nombre_exposed        421\n",
    "nombre_recovered    16488\n",
    "Name: 391, dtype: int64"
   ]
  },
  {
   "cell_type": "markdown",
   "id": "6e0619e6",
   "metadata": {},
   "source": [
    "nombre_infected       826\n",
    "nombre_sain          2279\n",
    "nombre_exposed        441\n",
    "nombre_recovered    16454\n",
    "Name: 392, dtype: int64"
   ]
  },
  {
   "cell_type": "markdown",
   "id": "3a5db9c2",
   "metadata": {},
   "source": [
    "nombre_infected       833\n",
    "nombre_sain          2278\n",
    "nombre_exposed        460\n",
    "nombre_recovered    16429\n",
    "Name: 393, dtype: int64"
   ]
  },
  {
   "cell_type": "markdown",
   "id": "2defd238",
   "metadata": {},
   "source": [
    "nombre_infected       821\n",
    "nombre_sain          2274\n",
    "nombre_exposed        474\n",
    "nombre_recovered    16431\n",
    "Name: 394, dtype: int64"
   ]
  },
  {
   "cell_type": "markdown",
   "id": "f0d0e1eb",
   "metadata": {},
   "source": [
    "nombre_infected       831\n",
    "nombre_sain          2282\n",
    "nombre_exposed        467\n",
    "nombre_recovered    16420\n",
    "Name: 395, dtype: int64"
   ]
  },
  {
   "cell_type": "markdown",
   "id": "bcdbf1ad",
   "metadata": {},
   "source": [
    "nombre_infected       832\n",
    "nombre_sain          2285\n",
    "nombre_exposed        477\n",
    "nombre_recovered    16406\n",
    "Name: 396, dtype: int64"
   ]
  },
  {
   "cell_type": "markdown",
   "id": "870e8bbc",
   "metadata": {},
   "source": [
    "nombre_infected       832\n",
    "nombre_sain          2308\n",
    "nombre_exposed        472\n",
    "nombre_recovered    16388\n",
    "Name: 397, dtype: int64"
   ]
  },
  {
   "cell_type": "markdown",
   "id": "39085bff",
   "metadata": {},
   "source": [
    "nombre_infected       828\n",
    "nombre_sain          2330\n",
    "nombre_exposed        497\n",
    "nombre_recovered    16345\n",
    "Name: 398, dtype: int64"
   ]
  },
  {
   "cell_type": "markdown",
   "id": "59ed2eac",
   "metadata": {},
   "source": [
    "nombre_infected       842\n",
    "nombre_sain          2345\n",
    "nombre_exposed        500\n",
    "nombre_recovered    16313\n",
    "Name: 399, dtype: int64"
   ]
  },
  {
   "cell_type": "markdown",
   "id": "21003946",
   "metadata": {},
   "source": [
    "nombre_infected       860\n",
    "nombre_sain          2342\n",
    "nombre_exposed        494\n",
    "nombre_recovered    16304\n",
    "Name: 400, dtype: int64"
   ]
  },
  {
   "cell_type": "markdown",
   "id": "043a391b",
   "metadata": {},
   "source": [
    "nombre_infected       881\n",
    "nombre_sain          2336\n",
    "nombre_exposed        502\n",
    "nombre_recovered    16281\n",
    "Name: 401, dtype: int64"
   ]
  },
  {
   "cell_type": "markdown",
   "id": "70a44ccc",
   "metadata": {},
   "source": [
    "nombre_infected       869\n",
    "nombre_sain          2360\n",
    "nombre_exposed        498\n",
    "nombre_recovered    16273\n",
    "Name: 402, dtype: int64"
   ]
  },
  {
   "cell_type": "markdown",
   "id": "e469520b",
   "metadata": {},
   "source": [
    "nombre_infected       882\n",
    "nombre_sain          2345\n",
    "nombre_exposed        509\n",
    "nombre_recovered    16264\n",
    "Name: 403, dtype: int64"
   ]
  },
  {
   "cell_type": "markdown",
   "id": "a9f70bca",
   "metadata": {},
   "source": [
    "nombre_infected       891\n",
    "nombre_sain          2362\n",
    "nombre_exposed        499\n",
    "nombre_recovered    16248\n",
    "Name: 404, dtype: int64"
   ]
  },
  {
   "cell_type": "markdown",
   "id": "09f632d3",
   "metadata": {},
   "source": [
    "nombre_infected       930\n",
    "nombre_sain          2383\n",
    "nombre_exposed        479\n",
    "nombre_recovered    16208\n",
    "Name: 405, dtype: int64"
   ]
  },
  {
   "cell_type": "markdown",
   "id": "1de864e7",
   "metadata": {},
   "source": [
    "nombre_infected       934\n",
    "nombre_sain          2375\n",
    "nombre_exposed        489\n",
    "nombre_recovered    16202\n",
    "Name: 406, dtype: int64"
   ]
  },
  {
   "cell_type": "markdown",
   "id": "66c23a9f",
   "metadata": {},
   "source": [
    "nombre_infected       938\n",
    "nombre_sain          2378\n",
    "nombre_exposed        502\n",
    "nombre_recovered    16182\n",
    "Name: 407, dtype: int64"
   ]
  },
  {
   "cell_type": "markdown",
   "id": "d5385e94",
   "metadata": {},
   "source": [
    "nombre_infected       941\n",
    "nombre_sain          2353\n",
    "nombre_exposed        519\n",
    "nombre_recovered    16187\n",
    "Name: 408, dtype: int64"
   ]
  },
  {
   "cell_type": "markdown",
   "id": "d733e0fd",
   "metadata": {},
   "source": [
    "nombre_infected       954\n",
    "nombre_sain          2342\n",
    "nombre_exposed        527\n",
    "nombre_recovered    16177\n",
    "Name: 409, dtype: int64"
   ]
  },
  {
   "cell_type": "markdown",
   "id": "e2767c7b",
   "metadata": {},
   "source": [
    "nombre_infected       961\n",
    "nombre_sain          2338\n",
    "nombre_exposed        533\n",
    "nombre_recovered    16168\n",
    "Name: 410, dtype: int64"
   ]
  },
  {
   "cell_type": "markdown",
   "id": "a1ca23f7",
   "metadata": {},
   "source": [
    "nombre_infected       958\n",
    "nombre_sain          2322\n",
    "nombre_exposed        545\n",
    "nombre_recovered    16175\n",
    "Name: 411, dtype: int64"
   ]
  },
  {
   "cell_type": "markdown",
   "id": "64acb1fb",
   "metadata": {},
   "source": [
    "nombre_infected       954\n",
    "nombre_sain          2296\n",
    "nombre_exposed        551\n",
    "nombre_recovered    16199\n",
    "Name: 412, dtype: int64"
   ]
  },
  {
   "cell_type": "markdown",
   "id": "627b7d5e",
   "metadata": {},
   "source": [
    "nombre_infected       945\n",
    "nombre_sain          2298\n",
    "nombre_exposed        566\n",
    "nombre_recovered    16191\n",
    "Name: 413, dtype: int64"
   ]
  },
  {
   "cell_type": "markdown",
   "id": "b51ac224",
   "metadata": {},
   "source": [
    "nombre_infected       975\n",
    "nombre_sain          2330\n",
    "nombre_exposed        515\n",
    "nombre_recovered    16180\n",
    "Name: 414, dtype: int64"
   ]
  },
  {
   "cell_type": "markdown",
   "id": "df3643c7",
   "metadata": {},
   "source": [
    "nombre_infected       998\n",
    "nombre_sain          2344\n",
    "nombre_exposed        500\n",
    "nombre_recovered    16158\n",
    "Name: 415, dtype: int64"
   ]
  },
  {
   "cell_type": "markdown",
   "id": "0570f181",
   "metadata": {},
   "source": [
    "nombre_infected       981\n",
    "nombre_sain          2347\n",
    "nombre_exposed        509\n",
    "nombre_recovered    16163\n",
    "Name: 416, dtype: int64"
   ]
  },
  {
   "cell_type": "markdown",
   "id": "fc9a9863",
   "metadata": {},
   "source": [
    "nombre_infected       969\n",
    "nombre_sain          2310\n",
    "nombre_exposed        549\n",
    "nombre_recovered    16172\n",
    "Name: 417, dtype: int64"
   ]
  },
  {
   "cell_type": "markdown",
   "id": "b52ac0ff",
   "metadata": {},
   "source": [
    "nombre_infected       990\n",
    "nombre_sain          2303\n",
    "nombre_exposed        562\n",
    "nombre_recovered    16145\n",
    "Name: 418, dtype: int64"
   ]
  },
  {
   "cell_type": "markdown",
   "id": "7caa9d6b",
   "metadata": {},
   "source": [
    "nombre_infected       994\n",
    "nombre_sain          2289\n",
    "nombre_exposed        590\n",
    "nombre_recovered    16127\n",
    "Name: 419, dtype: int64"
   ]
  },
  {
   "cell_type": "markdown",
   "id": "3741532a",
   "metadata": {},
   "source": [
    "nombre_infected       997\n",
    "nombre_sain          2300\n",
    "nombre_exposed        574\n",
    "nombre_recovered    16129\n",
    "Name: 420, dtype: int64"
   ]
  },
  {
   "cell_type": "markdown",
   "id": "e7b9f2d9",
   "metadata": {},
   "source": [
    "nombre_infected      1007\n",
    "nombre_sain          2329\n",
    "nombre_exposed        561\n",
    "nombre_recovered    16103\n",
    "Name: 421, dtype: int64"
   ]
  },
  {
   "cell_type": "markdown",
   "id": "ab2cd084",
   "metadata": {},
   "source": [
    "nombre_infected      1010\n",
    "nombre_sain          2330\n",
    "nombre_exposed        557\n",
    "nombre_recovered    16103\n",
    "Name: 422, dtype: int64"
   ]
  },
  {
   "cell_type": "markdown",
   "id": "06a3c765",
   "metadata": {},
   "source": [
    "nombre_infected      1012\n",
    "nombre_sain          2325\n",
    "nombre_exposed        553\n",
    "nombre_recovered    16110\n",
    "Name: 423, dtype: int64"
   ]
  },
  {
   "cell_type": "markdown",
   "id": "d17e4ef8",
   "metadata": {},
   "source": [
    "nombre_infected      1018\n",
    "nombre_sain          2307\n",
    "nombre_exposed        574\n",
    "nombre_recovered    16101\n",
    "Name: 424, dtype: int64"
   ]
  },
  {
   "cell_type": "markdown",
   "id": "74209e5a",
   "metadata": {},
   "source": [
    "nombre_infected      1004\n",
    "nombre_sain          2317\n",
    "nombre_exposed        603\n",
    "nombre_recovered    16076\n",
    "Name: 425, dtype: int64"
   ]
  },
  {
   "cell_type": "markdown",
   "id": "6059ed25",
   "metadata": {},
   "source": [
    "nombre_infected      1018\n",
    "nombre_sain          2298\n",
    "nombre_exposed        604\n",
    "nombre_recovered    16080\n",
    "Name: 426, dtype: int64"
   ]
  },
  {
   "cell_type": "markdown",
   "id": "0eafbda5",
   "metadata": {},
   "source": [
    "nombre_infected      1056\n",
    "nombre_sain          2290\n",
    "nombre_exposed        585\n",
    "nombre_recovered    16069\n",
    "Name: 427, dtype: int64"
   ]
  },
  {
   "cell_type": "markdown",
   "id": "92efad43",
   "metadata": {},
   "source": [
    "nombre_infected      1090\n",
    "nombre_sain          2280\n",
    "nombre_exposed        575\n",
    "nombre_recovered    16055\n",
    "Name: 428, dtype: int64"
   ]
  },
  {
   "cell_type": "markdown",
   "id": "c57bda72",
   "metadata": {},
   "source": [
    "nombre_infected      1070\n",
    "nombre_sain          2270\n",
    "nombre_exposed        589\n",
    "nombre_recovered    16071\n",
    "Name: 429, dtype: int64"
   ]
  },
  {
   "cell_type": "markdown",
   "id": "0015b3d3",
   "metadata": {},
   "source": [
    "nombre_infected      1044\n",
    "nombre_sain          2271\n",
    "nombre_exposed        603\n",
    "nombre_recovered    16082\n",
    "Name: 430, dtype: int64"
   ]
  },
  {
   "cell_type": "markdown",
   "id": "3ba910ad",
   "metadata": {},
   "source": [
    "nombre_infected      1071\n",
    "nombre_sain          2276\n",
    "nombre_exposed        568\n",
    "nombre_recovered    16085\n",
    "Name: 431, dtype: int64"
   ]
  },
  {
   "cell_type": "markdown",
   "id": "ada3efb7",
   "metadata": {},
   "source": [
    "nombre_infected      1086\n",
    "nombre_sain          2283\n",
    "nombre_exposed        555\n",
    "nombre_recovered    16076\n",
    "Name: 432, dtype: int64"
   ]
  },
  {
   "cell_type": "markdown",
   "id": "9d46a685",
   "metadata": {},
   "source": [
    "nombre_infected      1094\n",
    "nombre_sain          2307\n",
    "nombre_exposed        557\n",
    "nombre_recovered    16042\n",
    "Name: 433, dtype: int64"
   ]
  },
  {
   "cell_type": "markdown",
   "id": "acf3c1c1",
   "metadata": {},
   "source": [
    "nombre_infected      1064\n",
    "nombre_sain          2310\n",
    "nombre_exposed        575\n",
    "nombre_recovered    16051\n",
    "Name: 434, dtype: int64"
   ]
  },
  {
   "cell_type": "markdown",
   "id": "23563824",
   "metadata": {},
   "source": [
    "nombre_infected      1055\n",
    "nombre_sain          2308\n",
    "nombre_exposed        594\n",
    "nombre_recovered    16043\n",
    "Name: 435, dtype: int64"
   ]
  },
  {
   "cell_type": "markdown",
   "id": "a9347ac7",
   "metadata": {},
   "source": [
    "nombre_infected      1050\n",
    "nombre_sain          2332\n",
    "nombre_exposed        588\n",
    "nombre_recovered    16030\n",
    "Name: 436, dtype: int64"
   ]
  },
  {
   "cell_type": "markdown",
   "id": "54f7384d",
   "metadata": {},
   "source": [
    "nombre_infected      1053\n",
    "nombre_sain          2337\n",
    "nombre_exposed        589\n",
    "nombre_recovered    16021\n",
    "Name: 437, dtype: int64"
   ]
  },
  {
   "cell_type": "markdown",
   "id": "745803c2",
   "metadata": {},
   "source": [
    "nombre_infected      1072\n",
    "nombre_sain          2346\n",
    "nombre_exposed        575\n",
    "nombre_recovered    16007\n",
    "Name: 438, dtype: int64"
   ]
  },
  {
   "cell_type": "markdown",
   "id": "2d93158b",
   "metadata": {},
   "source": [
    "nombre_infected      1072\n",
    "nombre_sain          2338\n",
    "nombre_exposed        580\n",
    "nombre_recovered    16010\n",
    "Name: 439, dtype: int64"
   ]
  },
  {
   "cell_type": "markdown",
   "id": "ffe74256",
   "metadata": {},
   "source": [
    "nombre_infected      1058\n",
    "nombre_sain          2344\n",
    "nombre_exposed        591\n",
    "nombre_recovered    16007\n",
    "Name: 440, dtype: int64"
   ]
  },
  {
   "cell_type": "markdown",
   "id": "1ec78623",
   "metadata": {},
   "source": [
    "nombre_infected      1041\n",
    "nombre_sain          2326\n",
    "nombre_exposed        605\n",
    "nombre_recovered    16028\n",
    "Name: 441, dtype: int64"
   ]
  },
  {
   "cell_type": "markdown",
   "id": "f823f1a7",
   "metadata": {},
   "source": [
    "nombre_infected      1056\n",
    "nombre_sain          2299\n",
    "nombre_exposed        597\n",
    "nombre_recovered    16048\n",
    "Name: 442, dtype: int64"
   ]
  },
  {
   "cell_type": "markdown",
   "id": "e6979682",
   "metadata": {},
   "source": [
    "nombre_infected      1049\n",
    "nombre_sain          2282\n",
    "nombre_exposed        580\n",
    "nombre_recovered    16089\n",
    "Name: 443, dtype: int64"
   ]
  },
  {
   "cell_type": "markdown",
   "id": "fefe7512",
   "metadata": {},
   "source": [
    "nombre_infected      1075\n",
    "nombre_sain          2287\n",
    "nombre_exposed        551\n",
    "nombre_recovered    16087\n",
    "Name: 444, dtype: int64"
   ]
  },
  {
   "cell_type": "markdown",
   "id": "acd9133d",
   "metadata": {},
   "source": [
    "nombre_infected      1097\n",
    "nombre_sain          2285\n",
    "nombre_exposed        542\n",
    "nombre_recovered    16076\n",
    "Name: 445, dtype: int64"
   ]
  },
  {
   "cell_type": "markdown",
   "id": "495f26c3",
   "metadata": {},
   "source": [
    "nombre_infected      1073\n",
    "nombre_sain          2277\n",
    "nombre_exposed        556\n",
    "nombre_recovered    16094\n",
    "Name: 446, dtype: int64"
   ]
  },
  {
   "cell_type": "markdown",
   "id": "c8bb6360",
   "metadata": {},
   "source": [
    "nombre_infected      1072\n",
    "nombre_sain          2286\n",
    "nombre_exposed        528\n",
    "nombre_recovered    16114\n",
    "Name: 447, dtype: int64"
   ]
  },
  {
   "cell_type": "markdown",
   "id": "4fe27519",
   "metadata": {},
   "source": [
    "nombre_infected      1042\n",
    "nombre_sain          2285\n",
    "nombre_exposed        547\n",
    "nombre_recovered    16126\n",
    "Name: 448, dtype: int64"
   ]
  },
  {
   "cell_type": "markdown",
   "id": "018eb41a",
   "metadata": {},
   "source": [
    "nombre_infected      1035\n",
    "nombre_sain          2281\n",
    "nombre_exposed        558\n",
    "nombre_recovered    16126\n",
    "Name: 449, dtype: int64"
   ]
  },
  {
   "cell_type": "markdown",
   "id": "e3ead87f",
   "metadata": {},
   "source": [
    "nombre_infected      1020\n",
    "nombre_sain          2284\n",
    "nombre_exposed        560\n",
    "nombre_recovered    16136\n",
    "Name: 450, dtype: int64"
   ]
  },
  {
   "cell_type": "markdown",
   "id": "f8af5ba9",
   "metadata": {},
   "source": [
    "nombre_infected      1040\n",
    "nombre_sain          2272\n",
    "nombre_exposed        543\n",
    "nombre_recovered    16145\n",
    "Name: 451, dtype: int64"
   ]
  },
  {
   "cell_type": "markdown",
   "id": "740a9c3a",
   "metadata": {},
   "source": [
    "nombre_infected      1022\n",
    "nombre_sain          2287\n",
    "nombre_exposed        533\n",
    "nombre_recovered    16158\n",
    "Name: 452, dtype: int64"
   ]
  },
  {
   "cell_type": "markdown",
   "id": "29c3c665",
   "metadata": {},
   "source": [
    "nombre_infected      1032\n",
    "nombre_sain          2277\n",
    "nombre_exposed        536\n",
    "nombre_recovered    16155\n",
    "Name: 453, dtype: int64"
   ]
  },
  {
   "cell_type": "markdown",
   "id": "fb3742bb",
   "metadata": {},
   "source": [
    "nombre_infected      1036\n",
    "nombre_sain          2252\n",
    "nombre_exposed        555\n",
    "nombre_recovered    16157\n",
    "Name: 454, dtype: int64"
   ]
  },
  {
   "cell_type": "markdown",
   "id": "802d37ba",
   "metadata": {},
   "source": [
    "nombre_infected      1019\n",
    "nombre_sain          2213\n",
    "nombre_exposed        583\n",
    "nombre_recovered    16185\n",
    "Name: 455, dtype: int64"
   ]
  },
  {
   "cell_type": "markdown",
   "id": "6efc7d8b",
   "metadata": {},
   "source": [
    "nombre_infected      1017\n",
    "nombre_sain          2206\n",
    "nombre_exposed        589\n",
    "nombre_recovered    16188\n",
    "Name: 456, dtype: int64"
   ]
  },
  {
   "cell_type": "markdown",
   "id": "01bce745",
   "metadata": {},
   "source": [
    "nombre_infected      1055\n",
    "nombre_sain          2225\n",
    "nombre_exposed        555\n",
    "nombre_recovered    16165\n",
    "Name: 457, dtype: int64"
   ]
  },
  {
   "cell_type": "markdown",
   "id": "cc3f2af8",
   "metadata": {},
   "source": [
    "nombre_infected      1032\n",
    "nombre_sain          2209\n",
    "nombre_exposed        575\n",
    "nombre_recovered    16184\n",
    "Name: 458, dtype: int64"
   ]
  },
  {
   "cell_type": "markdown",
   "id": "6005e832",
   "metadata": {},
   "source": [
    "nombre_infected      1023\n",
    "nombre_sain          2211\n",
    "nombre_exposed        536\n",
    "nombre_recovered    16230\n",
    "Name: 459, dtype: int64"
   ]
  },
  {
   "cell_type": "markdown",
   "id": "4a8d0f6a",
   "metadata": {},
   "source": [
    "nombre_infected      1015\n",
    "nombre_sain          2190\n",
    "nombre_exposed        535\n",
    "nombre_recovered    16260\n",
    "Name: 460, dtype: int64"
   ]
  },
  {
   "cell_type": "markdown",
   "id": "f2f753dd",
   "metadata": {},
   "source": [
    "nombre_infected      1004\n",
    "nombre_sain          2190\n",
    "nombre_exposed        530\n",
    "nombre_recovered    16276\n",
    "Name: 461, dtype: int64"
   ]
  },
  {
   "cell_type": "markdown",
   "id": "52a2661b",
   "metadata": {},
   "source": [
    "nombre_infected       979\n",
    "nombre_sain          2188\n",
    "nombre_exposed        552\n",
    "nombre_recovered    16281\n",
    "Name: 462, dtype: int64"
   ]
  },
  {
   "cell_type": "markdown",
   "id": "129ada85",
   "metadata": {},
   "source": [
    "nombre_infected       992\n",
    "nombre_sain          2160\n",
    "nombre_exposed        549\n",
    "nombre_recovered    16299\n",
    "Name: 463, dtype: int64"
   ]
  },
  {
   "cell_type": "markdown",
   "id": "794c3c6e",
   "metadata": {},
   "source": [
    "nombre_infected      1001\n",
    "nombre_sain          2158\n",
    "nombre_exposed        560\n",
    "nombre_recovered    16281\n",
    "Name: 464, dtype: int64"
   ]
  },
  {
   "cell_type": "markdown",
   "id": "a412bafe",
   "metadata": {},
   "source": [
    "nombre_infected      1025\n",
    "nombre_sain          2161\n",
    "nombre_exposed        544\n",
    "nombre_recovered    16270\n",
    "Name: 465, dtype: int64"
   ]
  },
  {
   "cell_type": "markdown",
   "id": "edda3949",
   "metadata": {},
   "source": [
    "nombre_infected      1039\n",
    "nombre_sain          2144\n",
    "nombre_exposed        546\n",
    "nombre_recovered    16271\n",
    "Name: 466, dtype: int64"
   ]
  },
  {
   "cell_type": "markdown",
   "id": "e4e88e9e",
   "metadata": {},
   "source": [
    "nombre_infected      1022\n",
    "nombre_sain          2123\n",
    "nombre_exposed        559\n",
    "nombre_recovered    16296\n",
    "Name: 467, dtype: int64"
   ]
  },
  {
   "cell_type": "markdown",
   "id": "cac17dcc",
   "metadata": {},
   "source": [
    "nombre_infected      1010\n",
    "nombre_sain          2120\n",
    "nombre_exposed        554\n",
    "nombre_recovered    16316\n",
    "Name: 468, dtype: int64"
   ]
  },
  {
   "cell_type": "markdown",
   "id": "8ffc78ae",
   "metadata": {},
   "source": [
    "nombre_infected      1021\n",
    "nombre_sain          2118\n",
    "nombre_exposed        544\n",
    "nombre_recovered    16317\n",
    "Name: 469, dtype: int64"
   ]
  },
  {
   "cell_type": "markdown",
   "id": "7019a6a0",
   "metadata": {},
   "source": [
    "nombre_infected      1019\n",
    "nombre_sain          2089\n",
    "nombre_exposed        534\n",
    "nombre_recovered    16358\n",
    "Name: 470, dtype: int64"
   ]
  },
  {
   "cell_type": "markdown",
   "id": "5c4ed613",
   "metadata": {},
   "source": [
    "nombre_infected      1024\n",
    "nombre_sain          2095\n",
    "nombre_exposed        514\n",
    "nombre_recovered    16367\n",
    "Name: 471, dtype: int64"
   ]
  },
  {
   "cell_type": "markdown",
   "id": "4f0a95b7",
   "metadata": {},
   "source": [
    "nombre_infected      1011\n",
    "nombre_sain          2106\n",
    "nombre_exposed        503\n",
    "nombre_recovered    16380\n",
    "Name: 472, dtype: int64"
   ]
  },
  {
   "cell_type": "markdown",
   "id": "468ffd16",
   "metadata": {},
   "source": [
    "nombre_infected      1022\n",
    "nombre_sain          2127\n",
    "nombre_exposed        467\n",
    "nombre_recovered    16384\n",
    "Name: 473, dtype: int64"
   ]
  },
  {
   "cell_type": "markdown",
   "id": "7ab77d3e",
   "metadata": {},
   "source": [
    "nombre_infected      1014\n",
    "nombre_sain          2143\n",
    "nombre_exposed        472\n",
    "nombre_recovered    16371\n",
    "Name: 474, dtype: int64"
   ]
  },
  {
   "cell_type": "markdown",
   "id": "6d505618",
   "metadata": {},
   "source": [
    "nombre_infected       991\n",
    "nombre_sain          2154\n",
    "nombre_exposed        477\n",
    "nombre_recovered    16378\n",
    "Name: 475, dtype: int64"
   ]
  },
  {
   "cell_type": "markdown",
   "id": "a1ec2d5d",
   "metadata": {},
   "source": [
    "nombre_infected       968\n",
    "nombre_sain          2158\n",
    "nombre_exposed        485\n",
    "nombre_recovered    16389\n",
    "Name: 476, dtype: int64"
   ]
  },
  {
   "cell_type": "markdown",
   "id": "e117a3f7",
   "metadata": {},
   "source": [
    "nombre_infected       968\n",
    "nombre_sain          2149\n",
    "nombre_exposed        519\n",
    "nombre_recovered    16364\n",
    "Name: 477, dtype: int64"
   ]
  },
  {
   "cell_type": "markdown",
   "id": "2ba67264",
   "metadata": {},
   "source": [
    "nombre_infected       944\n",
    "nombre_sain          2143\n",
    "nombre_exposed        545\n",
    "nombre_recovered    16368\n",
    "Name: 478, dtype: int64"
   ]
  },
  {
   "cell_type": "markdown",
   "id": "9969b57b",
   "metadata": {},
   "source": [
    "nombre_infected       978\n",
    "nombre_sain          2147\n",
    "nombre_exposed        529\n",
    "nombre_recovered    16346\n",
    "Name: 479, dtype: int64"
   ]
  },
  {
   "cell_type": "markdown",
   "id": "40e6d37a",
   "metadata": {},
   "source": [
    "nombre_infected      1000\n",
    "nombre_sain          2152\n",
    "nombre_exposed        517\n",
    "nombre_recovered    16331\n",
    "Name: 480, dtype: int64"
   ]
  },
  {
   "cell_type": "markdown",
   "id": "1391955e",
   "metadata": {},
   "source": [
    "nombre_infected       998\n",
    "nombre_sain          2149\n",
    "nombre_exposed        542\n",
    "nombre_recovered    16311\n",
    "Name: 481, dtype: int64"
   ]
  },
  {
   "cell_type": "markdown",
   "id": "790f4a47",
   "metadata": {},
   "source": [
    "nombre_infected       979\n",
    "nombre_sain          2170\n",
    "nombre_exposed        544\n",
    "nombre_recovered    16307\n",
    "Name: 482, dtype: int64"
   ]
  },
  {
   "cell_type": "markdown",
   "id": "b770b30d",
   "metadata": {},
   "source": [
    "nombre_infected       968\n",
    "nombre_sain          2167\n",
    "nombre_exposed        527\n",
    "nombre_recovered    16338\n",
    "Name: 483, dtype: int64"
   ]
  },
  {
   "cell_type": "markdown",
   "id": "8a2810ac",
   "metadata": {},
   "source": [
    "nombre_infected       970\n",
    "nombre_sain          2191\n",
    "nombre_exposed        503\n",
    "nombre_recovered    16336\n",
    "Name: 484, dtype: int64"
   ]
  },
  {
   "cell_type": "markdown",
   "id": "31cc95f2",
   "metadata": {},
   "source": [
    "nombre_infected       958\n",
    "nombre_sain          2197\n",
    "nombre_exposed        497\n",
    "nombre_recovered    16348\n",
    "Name: 485, dtype: int64"
   ]
  },
  {
   "cell_type": "markdown",
   "id": "0d895899",
   "metadata": {},
   "source": [
    "nombre_infected       930\n",
    "nombre_sain          2224\n",
    "nombre_exposed        492\n",
    "nombre_recovered    16354\n",
    "Name: 486, dtype: int64"
   ]
  },
  {
   "cell_type": "markdown",
   "id": "28e91475",
   "metadata": {},
   "source": [
    "nombre_infected       931\n",
    "nombre_sain          2230\n",
    "nombre_exposed        477\n",
    "nombre_recovered    16362\n",
    "Name: 487, dtype: int64"
   ]
  },
  {
   "cell_type": "markdown",
   "id": "c37d25b4",
   "metadata": {},
   "source": [
    "nombre_infected       925\n",
    "nombre_sain          2229\n",
    "nombre_exposed        476\n",
    "nombre_recovered    16370\n",
    "Name: 488, dtype: int64"
   ]
  },
  {
   "cell_type": "markdown",
   "id": "b09caa45",
   "metadata": {},
   "source": [
    "nombre_infected       916\n",
    "nombre_sain          2198\n",
    "nombre_exposed        502\n",
    "nombre_recovered    16384\n",
    "Name: 489, dtype: int64"
   ]
  },
  {
   "cell_type": "markdown",
   "id": "382f10a2",
   "metadata": {},
   "source": [
    "nombre_infected       936\n",
    "nombre_sain          2198\n",
    "nombre_exposed        490\n",
    "nombre_recovered    16376\n",
    "Name: 490, dtype: int64"
   ]
  },
  {
   "cell_type": "markdown",
   "id": "9963de07",
   "metadata": {},
   "source": [
    "nombre_infected       951\n",
    "nombre_sain          2230\n",
    "nombre_exposed        485\n",
    "nombre_recovered    16334\n",
    "Name: 491, dtype: int64"
   ]
  },
  {
   "cell_type": "markdown",
   "id": "07c827e2",
   "metadata": {},
   "source": [
    "nombre_infected       937\n",
    "nombre_sain          2255\n",
    "nombre_exposed        494\n",
    "nombre_recovered    16314\n",
    "Name: 492, dtype: int64"
   ]
  },
  {
   "cell_type": "markdown",
   "id": "02172ea0",
   "metadata": {},
   "source": [
    "nombre_infected       916\n",
    "nombre_sain          2282\n",
    "nombre_exposed        495\n",
    "nombre_recovered    16307\n",
    "Name: 493, dtype: int64"
   ]
  },
  {
   "cell_type": "markdown",
   "id": "083f9c4f",
   "metadata": {},
   "source": [
    "nombre_infected       927\n",
    "nombre_sain          2276\n",
    "nombre_exposed        492\n",
    "nombre_recovered    16305\n",
    "Name: 494, dtype: int64"
   ]
  },
  {
   "cell_type": "markdown",
   "id": "8db26992",
   "metadata": {},
   "source": [
    "nombre_infected       936\n",
    "nombre_sain          2273\n",
    "nombre_exposed        494\n",
    "nombre_recovered    16297\n",
    "Name: 495, dtype: int64"
   ]
  },
  {
   "cell_type": "markdown",
   "id": "af3182e8",
   "metadata": {},
   "source": [
    "nombre_infected       922\n",
    "nombre_sain          2273\n",
    "nombre_exposed        516\n",
    "nombre_recovered    16289\n",
    "Name: 496, dtype: int64"
   ]
  },
  {
   "cell_type": "markdown",
   "id": "73d90ed4",
   "metadata": {},
   "source": [
    "nombre_infected       901\n",
    "nombre_sain          2275\n",
    "nombre_exposed        529\n",
    "nombre_recovered    16295\n",
    "Name: 497, dtype: int64"
   ]
  },
  {
   "cell_type": "markdown",
   "id": "a7d454c5",
   "metadata": {},
   "source": [
    "nombre_infected       942\n",
    "nombre_sain          2258\n",
    "nombre_exposed        512\n",
    "nombre_recovered    16288\n",
    "Name: 498, dtype: int64"
   ]
  },
  {
   "cell_type": "markdown",
   "id": "a1fc3b0e",
   "metadata": {},
   "source": [
    "nombre_infected       959\n",
    "nombre_sain          2261\n",
    "nombre_exposed        493\n",
    "nombre_recovered    16287\n",
    "Name: 499, dtype: int64"
   ]
  },
  {
   "cell_type": "markdown",
   "id": "da82d51d",
   "metadata": {},
   "source": [
    "nombre_infected       985\n",
    "nombre_sain          2257\n",
    "nombre_exposed        494\n",
    "nombre_recovered    16264\n",
    "Name: 500, dtype: int64"
   ]
  },
  {
   "cell_type": "markdown",
   "id": "64cdbd7f",
   "metadata": {},
   "source": [
    "nombre_infected       962\n",
    "nombre_sain          2243\n",
    "nombre_exposed        508\n",
    "nombre_recovered    16287\n",
    "Name: 501, dtype: int64"
   ]
  },
  {
   "cell_type": "markdown",
   "id": "0f315601",
   "metadata": {},
   "source": [
    "nombre_infected       936\n",
    "nombre_sain          2231\n",
    "nombre_exposed        522\n",
    "nombre_recovered    16311\n",
    "Name: 502, dtype: int64"
   ]
  },
  {
   "cell_type": "markdown",
   "id": "f8662b24",
   "metadata": {},
   "source": [
    "nombre_infected       919\n",
    "nombre_sain          2242\n",
    "nombre_exposed        520\n",
    "nombre_recovered    16319\n",
    "Name: 503, dtype: int64"
   ]
  },
  {
   "cell_type": "markdown",
   "id": "48f24cf4",
   "metadata": {},
   "source": [
    "nombre_infected       932\n",
    "nombre_sain          2229\n",
    "nombre_exposed        526\n",
    "nombre_recovered    16313\n",
    "Name: 504, dtype: int64"
   ]
  },
  {
   "cell_type": "markdown",
   "id": "f5c2b793",
   "metadata": {},
   "source": [
    "nombre_infected       911\n",
    "nombre_sain          2236\n",
    "nombre_exposed        515\n",
    "nombre_recovered    16338\n",
    "Name: 505, dtype: int64"
   ]
  },
  {
   "cell_type": "markdown",
   "id": "37d2827e",
   "metadata": {},
   "source": [
    "nombre_infected       938\n",
    "nombre_sain          2224\n",
    "nombre_exposed        506\n",
    "nombre_recovered    16332\n",
    "Name: 506, dtype: int64"
   ]
  },
  {
   "cell_type": "markdown",
   "id": "25aa5109",
   "metadata": {},
   "source": [
    "nombre_infected       960\n",
    "nombre_sain          2237\n",
    "nombre_exposed        492\n",
    "nombre_recovered    16311\n",
    "Name: 507, dtype: int64"
   ]
  },
  {
   "cell_type": "markdown",
   "id": "844ead55",
   "metadata": {},
   "source": [
    "nombre_infected       966\n",
    "nombre_sain          2255\n",
    "nombre_exposed        469\n",
    "nombre_recovered    16310\n",
    "Name: 508, dtype: int64"
   ]
  },
  {
   "cell_type": "markdown",
   "id": "b47c637e",
   "metadata": {},
   "source": [
    "nombre_infected       946\n",
    "nombre_sain          2231\n",
    "nombre_exposed        507\n",
    "nombre_recovered    16316\n",
    "Name: 509, dtype: int64"
   ]
  },
  {
   "cell_type": "markdown",
   "id": "e1926459",
   "metadata": {},
   "source": [
    "nombre_infected       928\n",
    "nombre_sain          2233\n",
    "nombre_exposed        513\n",
    "nombre_recovered    16326\n",
    "Name: 510, dtype: int64"
   ]
  },
  {
   "cell_type": "markdown",
   "id": "b0fa613e",
   "metadata": {},
   "source": [
    "nombre_infected       912\n",
    "nombre_sain          2249\n",
    "nombre_exposed        513\n",
    "nombre_recovered    16326\n",
    "Name: 511, dtype: int64"
   ]
  },
  {
   "cell_type": "markdown",
   "id": "2cf62110",
   "metadata": {},
   "source": [
    "nombre_infected       922\n",
    "nombre_sain          2247\n",
    "nombre_exposed        511\n",
    "nombre_recovered    16320\n",
    "Name: 512, dtype: int64"
   ]
  },
  {
   "cell_type": "markdown",
   "id": "6a65f905",
   "metadata": {},
   "source": [
    "nombre_infected       901\n",
    "nombre_sain          2237\n",
    "nombre_exposed        524\n",
    "nombre_recovered    16338\n",
    "Name: 513, dtype: int64"
   ]
  },
  {
   "cell_type": "markdown",
   "id": "10a7b763",
   "metadata": {},
   "source": [
    "nombre_infected       913\n",
    "nombre_sain          2230\n",
    "nombre_exposed        520\n",
    "nombre_recovered    16337\n",
    "Name: 514, dtype: int64"
   ]
  },
  {
   "cell_type": "markdown",
   "id": "5b4efe76",
   "metadata": {},
   "source": [
    "nombre_infected       907\n",
    "nombre_sain          2244\n",
    "nombre_exposed        511\n",
    "nombre_recovered    16338\n",
    "Name: 515, dtype: int64"
   ]
  },
  {
   "cell_type": "markdown",
   "id": "d44fc265",
   "metadata": {},
   "source": [
    "nombre_infected       896\n",
    "nombre_sain          2237\n",
    "nombre_exposed        528\n",
    "nombre_recovered    16339\n",
    "Name: 516, dtype: int64"
   ]
  },
  {
   "cell_type": "markdown",
   "id": "8f3b2a9a",
   "metadata": {},
   "source": [
    "nombre_infected       902\n",
    "nombre_sain          2233\n",
    "nombre_exposed        520\n",
    "nombre_recovered    16345\n",
    "Name: 517, dtype: int64"
   ]
  },
  {
   "cell_type": "markdown",
   "id": "f493c11e",
   "metadata": {},
   "source": [
    "nombre_infected       929\n",
    "nombre_sain          2222\n",
    "nombre_exposed        524\n",
    "nombre_recovered    16325\n",
    "Name: 518, dtype: int64"
   ]
  },
  {
   "cell_type": "markdown",
   "id": "f2e5b9a5",
   "metadata": {},
   "source": [
    "nombre_infected       928\n",
    "nombre_sain          2226\n",
    "nombre_exposed        531\n",
    "nombre_recovered    16315\n",
    "Name: 519, dtype: int64"
   ]
  },
  {
   "cell_type": "markdown",
   "id": "780c78c2",
   "metadata": {},
   "source": [
    "nombre_infected       929\n",
    "nombre_sain          2248\n",
    "nombre_exposed        526\n",
    "nombre_recovered    16297\n",
    "Name: 520, dtype: int64"
   ]
  },
  {
   "cell_type": "markdown",
   "id": "4034345c",
   "metadata": {},
   "source": [
    "nombre_infected       939\n",
    "nombre_sain          2228\n",
    "nombre_exposed        528\n",
    "nombre_recovered    16305\n",
    "Name: 521, dtype: int64"
   ]
  },
  {
   "cell_type": "markdown",
   "id": "7cf44e42",
   "metadata": {},
   "source": [
    "nombre_infected       938\n",
    "nombre_sain          2250\n",
    "nombre_exposed        504\n",
    "nombre_recovered    16308\n",
    "Name: 522, dtype: int64"
   ]
  },
  {
   "cell_type": "markdown",
   "id": "092110d2",
   "metadata": {},
   "source": [
    "nombre_infected       952\n",
    "nombre_sain          2269\n",
    "nombre_exposed        482\n",
    "nombre_recovered    16297\n",
    "Name: 523, dtype: int64"
   ]
  },
  {
   "cell_type": "markdown",
   "id": "6b05b5c7",
   "metadata": {},
   "source": [
    "nombre_infected       959\n",
    "nombre_sain          2240\n",
    "nombre_exposed        500\n",
    "nombre_recovered    16301\n",
    "Name: 524, dtype: int64"
   ]
  },
  {
   "cell_type": "markdown",
   "id": "87b248e6",
   "metadata": {},
   "source": [
    "nombre_infected       944\n",
    "nombre_sain          2238\n",
    "nombre_exposed        503\n",
    "nombre_recovered    16315\n",
    "Name: 525, dtype: int64"
   ]
  },
  {
   "cell_type": "markdown",
   "id": "384a1e79",
   "metadata": {},
   "source": [
    "nombre_infected       952\n",
    "nombre_sain          2263\n",
    "nombre_exposed        479\n",
    "nombre_recovered    16306\n",
    "Name: 526, dtype: int64"
   ]
  },
  {
   "cell_type": "markdown",
   "id": "dc603354",
   "metadata": {},
   "source": [
    "nombre_infected       942\n",
    "nombre_sain          2283\n",
    "nombre_exposed        487\n",
    "nombre_recovered    16288\n",
    "Name: 527, dtype: int64"
   ]
  },
  {
   "cell_type": "markdown",
   "id": "f32c5d57",
   "metadata": {},
   "source": [
    "nombre_infected       928\n",
    "nombre_sain          2245\n",
    "nombre_exposed        525\n",
    "nombre_recovered    16302\n",
    "Name: 528, dtype: int64"
   ]
  },
  {
   "cell_type": "markdown",
   "id": "ebc628ba",
   "metadata": {},
   "source": [
    "nombre_infected       930\n",
    "nombre_sain          2256\n",
    "nombre_exposed        532\n",
    "nombre_recovered    16282\n",
    "Name: 529, dtype: int64"
   ]
  },
  {
   "cell_type": "markdown",
   "id": "edd0465f",
   "metadata": {},
   "source": [
    "nombre_infected       941\n",
    "nombre_sain          2268\n",
    "nombre_exposed        529\n",
    "nombre_recovered    16262\n",
    "Name: 530, dtype: int64"
   ]
  },
  {
   "cell_type": "markdown",
   "id": "6dc9e977",
   "metadata": {},
   "source": [
    "nombre_infected       934\n",
    "nombre_sain          2285\n",
    "nombre_exposed        515\n",
    "nombre_recovered    16266\n",
    "Name: 531, dtype: int64"
   ]
  },
  {
   "cell_type": "markdown",
   "id": "3b2b36c2",
   "metadata": {},
   "source": [
    "nombre_infected       925\n",
    "nombre_sain          2295\n",
    "nombre_exposed        506\n",
    "nombre_recovered    16274\n",
    "Name: 532, dtype: int64"
   ]
  },
  {
   "cell_type": "markdown",
   "id": "19d948f4",
   "metadata": {},
   "source": [
    "nombre_infected       920\n",
    "nombre_sain          2304\n",
    "nombre_exposed        521\n",
    "nombre_recovered    16255\n",
    "Name: 533, dtype: int64"
   ]
  },
  {
   "cell_type": "markdown",
   "id": "ed7b34d7",
   "metadata": {},
   "source": [
    "nombre_infected       920\n",
    "nombre_sain          2274\n",
    "nombre_exposed        548\n",
    "nombre_recovered    16258\n",
    "Name: 534, dtype: int64"
   ]
  },
  {
   "cell_type": "markdown",
   "id": "78491e30",
   "metadata": {},
   "source": [
    "nombre_infected       942\n",
    "nombre_sain          2286\n",
    "nombre_exposed        521\n",
    "nombre_recovered    16251\n",
    "Name: 535, dtype: int64"
   ]
  },
  {
   "cell_type": "markdown",
   "id": "beca5338",
   "metadata": {},
   "source": [
    "nombre_infected       962\n",
    "nombre_sain          2299\n",
    "nombre_exposed        525\n",
    "nombre_recovered    16214\n",
    "Name: 536, dtype: int64"
   ]
  },
  {
   "cell_type": "markdown",
   "id": "5141e591",
   "metadata": {},
   "source": [
    "nombre_infected       922\n",
    "nombre_sain          2311\n",
    "nombre_exposed        541\n",
    "nombre_recovered    16226\n",
    "Name: 537, dtype: int64"
   ]
  },
  {
   "cell_type": "markdown",
   "id": "15825bd8",
   "metadata": {},
   "source": [
    "nombre_infected       909\n",
    "nombre_sain          2317\n",
    "nombre_exposed        515\n",
    "nombre_recovered    16259\n",
    "Name: 538, dtype: int64"
   ]
  },
  {
   "cell_type": "markdown",
   "id": "547ebbf0",
   "metadata": {},
   "source": [
    "nombre_infected       918\n",
    "nombre_sain          2284\n",
    "nombre_exposed        524\n",
    "nombre_recovered    16274\n",
    "Name: 539, dtype: int64"
   ]
  },
  {
   "cell_type": "markdown",
   "id": "0c09fe05",
   "metadata": {},
   "source": [
    "nombre_infected       917\n",
    "nombre_sain          2313\n",
    "nombre_exposed        505\n",
    "nombre_recovered    16265\n",
    "Name: 540, dtype: int64"
   ]
  },
  {
   "cell_type": "markdown",
   "id": "224b067c",
   "metadata": {},
   "source": [
    "nombre_infected       892\n",
    "nombre_sain          2293\n",
    "nombre_exposed        524\n",
    "nombre_recovered    16291\n",
    "Name: 541, dtype: int64"
   ]
  },
  {
   "cell_type": "markdown",
   "id": "33ca95d6",
   "metadata": {},
   "source": [
    "nombre_infected       880\n",
    "nombre_sain          2297\n",
    "nombre_exposed        539\n",
    "nombre_recovered    16284\n",
    "Name: 542, dtype: int64"
   ]
  },
  {
   "cell_type": "markdown",
   "id": "f7eb9dd1",
   "metadata": {},
   "source": [
    "nombre_infected       881\n",
    "nombre_sain          2335\n",
    "nombre_exposed        514\n",
    "nombre_recovered    16270\n",
    "Name: 543, dtype: int64"
   ]
  },
  {
   "cell_type": "markdown",
   "id": "164a5ec0",
   "metadata": {},
   "source": [
    "nombre_infected       860\n",
    "nombre_sain          2334\n",
    "nombre_exposed        517\n",
    "nombre_recovered    16289\n",
    "Name: 544, dtype: int64"
   ]
  },
  {
   "cell_type": "markdown",
   "id": "d2fba4ad",
   "metadata": {},
   "source": [
    "nombre_infected       859\n",
    "nombre_sain          2348\n",
    "nombre_exposed        517\n",
    "nombre_recovered    16276\n",
    "Name: 545, dtype: int64"
   ]
  },
  {
   "cell_type": "markdown",
   "id": "534c4393",
   "metadata": {},
   "source": [
    "nombre_infected       877\n",
    "nombre_sain          2328\n",
    "nombre_exposed        501\n",
    "nombre_recovered    16294\n",
    "Name: 546, dtype: int64"
   ]
  },
  {
   "cell_type": "markdown",
   "id": "9c0b7061",
   "metadata": {},
   "source": [
    "nombre_infected       867\n",
    "nombre_sain          2336\n",
    "nombre_exposed        517\n",
    "nombre_recovered    16280\n",
    "Name: 547, dtype: int64"
   ]
  },
  {
   "cell_type": "markdown",
   "id": "2117bd86",
   "metadata": {},
   "source": [
    "nombre_infected       863\n",
    "nombre_sain          2331\n",
    "nombre_exposed        539\n",
    "nombre_recovered    16267\n",
    "Name: 548, dtype: int64"
   ]
  },
  {
   "cell_type": "markdown",
   "id": "fe8f46c8",
   "metadata": {},
   "source": [
    "nombre_infected       900\n",
    "nombre_sain          2338\n",
    "nombre_exposed        543\n",
    "nombre_recovered    16219\n",
    "Name: 549, dtype: int64"
   ]
  },
  {
   "cell_type": "markdown",
   "id": "686bb505",
   "metadata": {},
   "source": [
    "nombre_infected       906\n",
    "nombre_sain          2343\n",
    "nombre_exposed        543\n",
    "nombre_recovered    16208\n",
    "Name: 550, dtype: int64"
   ]
  },
  {
   "cell_type": "markdown",
   "id": "7e419883",
   "metadata": {},
   "source": [
    "nombre_infected       910\n",
    "nombre_sain          2365\n",
    "nombre_exposed        517\n",
    "nombre_recovered    16208\n",
    "Name: 551, dtype: int64"
   ]
  },
  {
   "cell_type": "markdown",
   "id": "30a5bdc5",
   "metadata": {},
   "source": [
    "nombre_infected       917\n",
    "nombre_sain          2347\n",
    "nombre_exposed        534\n",
    "nombre_recovered    16202\n",
    "Name: 552, dtype: int64"
   ]
  },
  {
   "cell_type": "markdown",
   "id": "9968a5b7",
   "metadata": {},
   "source": [
    "nombre_infected       921\n",
    "nombre_sain          2337\n",
    "nombre_exposed        526\n",
    "nombre_recovered    16216\n",
    "Name: 553, dtype: int64"
   ]
  },
  {
   "cell_type": "markdown",
   "id": "89143dcf",
   "metadata": {},
   "source": [
    "nombre_infected       915\n",
    "nombre_sain          2291\n",
    "nombre_exposed        541\n",
    "nombre_recovered    16253\n",
    "Name: 554, dtype: int64"
   ]
  },
  {
   "cell_type": "markdown",
   "id": "04c44945",
   "metadata": {},
   "source": [
    "nombre_infected       908\n",
    "nombre_sain          2288\n",
    "nombre_exposed        537\n",
    "nombre_recovered    16267\n",
    "Name: 555, dtype: int64"
   ]
  },
  {
   "cell_type": "markdown",
   "id": "b241e7c4",
   "metadata": {},
   "source": [
    "nombre_infected       910\n",
    "nombre_sain          2285\n",
    "nombre_exposed        549\n",
    "nombre_recovered    16256\n",
    "Name: 556, dtype: int64"
   ]
  },
  {
   "cell_type": "markdown",
   "id": "617d8157",
   "metadata": {},
   "source": [
    "nombre_infected       929\n",
    "nombre_sain          2265\n",
    "nombre_exposed        531\n",
    "nombre_recovered    16275\n",
    "Name: 557, dtype: int64"
   ]
  },
  {
   "cell_type": "markdown",
   "id": "c997e6de",
   "metadata": {},
   "source": [
    "nombre_infected       936\n",
    "nombre_sain          2259\n",
    "nombre_exposed        532\n",
    "nombre_recovered    16273\n",
    "Name: 558, dtype: int64"
   ]
  },
  {
   "cell_type": "markdown",
   "id": "c29eaa3e",
   "metadata": {},
   "source": [
    "nombre_infected       950\n",
    "nombre_sain          2249\n",
    "nombre_exposed        528\n",
    "nombre_recovered    16273\n",
    "Name: 559, dtype: int64"
   ]
  },
  {
   "cell_type": "markdown",
   "id": "d47c0860",
   "metadata": {},
   "source": [
    "nombre_infected       943\n",
    "nombre_sain          2228\n",
    "nombre_exposed        527\n",
    "nombre_recovered    16302\n",
    "Name: 560, dtype: int64"
   ]
  },
  {
   "cell_type": "markdown",
   "id": "fb94b275",
   "metadata": {},
   "source": [
    "nombre_infected       955\n",
    "nombre_sain          2218\n",
    "nombre_exposed        524\n",
    "nombre_recovered    16303\n",
    "Name: 561, dtype: int64"
   ]
  },
  {
   "cell_type": "markdown",
   "id": "dc8f3141",
   "metadata": {},
   "source": [
    "nombre_infected       961\n",
    "nombre_sain          2226\n",
    "nombre_exposed        521\n",
    "nombre_recovered    16292\n",
    "Name: 562, dtype: int64"
   ]
  },
  {
   "cell_type": "markdown",
   "id": "dab8becc",
   "metadata": {},
   "source": [
    "nombre_infected       962\n",
    "nombre_sain          2239\n",
    "nombre_exposed        502\n",
    "nombre_recovered    16297\n",
    "Name: 563, dtype: int64"
   ]
  },
  {
   "cell_type": "markdown",
   "id": "826ec4cf",
   "metadata": {},
   "source": [
    "nombre_infected       951\n",
    "nombre_sain          2237\n",
    "nombre_exposed        499\n",
    "nombre_recovered    16313\n",
    "Name: 564, dtype: int64"
   ]
  },
  {
   "cell_type": "markdown",
   "id": "7ddc3783",
   "metadata": {},
   "source": [
    "nombre_infected       952\n",
    "nombre_sain          2260\n",
    "nombre_exposed        496\n",
    "nombre_recovered    16292\n",
    "Name: 565, dtype: int64"
   ]
  },
  {
   "cell_type": "markdown",
   "id": "cb2af38a",
   "metadata": {},
   "source": [
    "nombre_infected       940\n",
    "nombre_sain          2272\n",
    "nombre_exposed        490\n",
    "nombre_recovered    16298\n",
    "Name: 566, dtype: int64"
   ]
  },
  {
   "cell_type": "markdown",
   "id": "c15a92f4",
   "metadata": {},
   "source": [
    "nombre_infected       926\n",
    "nombre_sain          2267\n",
    "nombre_exposed        497\n",
    "nombre_recovered    16310\n",
    "Name: 567, dtype: int64"
   ]
  },
  {
   "cell_type": "markdown",
   "id": "39046bf3",
   "metadata": {},
   "source": [
    "nombre_infected       916\n",
    "nombre_sain          2241\n",
    "nombre_exposed        519\n",
    "nombre_recovered    16324\n",
    "Name: 568, dtype: int64"
   ]
  },
  {
   "cell_type": "markdown",
   "id": "677b00ef",
   "metadata": {},
   "source": [
    "nombre_infected       907\n",
    "nombre_sain          2232\n",
    "nombre_exposed        531\n",
    "nombre_recovered    16330\n",
    "Name: 569, dtype: int64"
   ]
  },
  {
   "cell_type": "markdown",
   "id": "edff6af1",
   "metadata": {},
   "source": [
    "nombre_infected       921\n",
    "nombre_sain          2196\n",
    "nombre_exposed        562\n",
    "nombre_recovered    16321\n",
    "Name: 570, dtype: int64"
   ]
  },
  {
   "cell_type": "markdown",
   "id": "89b44837",
   "metadata": {},
   "source": [
    "nombre_infected       924\n",
    "nombre_sain          2197\n",
    "nombre_exposed        564\n",
    "nombre_recovered    16315\n",
    "Name: 571, dtype: int64"
   ]
  },
  {
   "cell_type": "markdown",
   "id": "5a52b891",
   "metadata": {},
   "source": [
    "nombre_infected       932\n",
    "nombre_sain          2183\n",
    "nombre_exposed        571\n",
    "nombre_recovered    16314\n",
    "Name: 572, dtype: int64"
   ]
  },
  {
   "cell_type": "markdown",
   "id": "dc112eda",
   "metadata": {},
   "source": [
    "nombre_infected       959\n",
    "nombre_sain          2184\n",
    "nombre_exposed        556\n",
    "nombre_recovered    16301\n",
    "Name: 573, dtype: int64"
   ]
  },
  {
   "cell_type": "markdown",
   "id": "e2acd8ee",
   "metadata": {},
   "source": [
    "nombre_infected       978\n",
    "nombre_sain          2178\n",
    "nombre_exposed        562\n",
    "nombre_recovered    16282\n",
    "Name: 574, dtype: int64"
   ]
  },
  {
   "cell_type": "markdown",
   "id": "4dc94c64",
   "metadata": {},
   "source": [
    "nombre_infected       986\n",
    "nombre_sain          2162\n",
    "nombre_exposed        565\n",
    "nombre_recovered    16287\n",
    "Name: 575, dtype: int64"
   ]
  },
  {
   "cell_type": "markdown",
   "id": "cefc14e2",
   "metadata": {},
   "source": [
    "nombre_infected       975\n",
    "nombre_sain          2141\n",
    "nombre_exposed        574\n",
    "nombre_recovered    16310\n",
    "Name: 576, dtype: int64"
   ]
  },
  {
   "cell_type": "markdown",
   "id": "8155469f",
   "metadata": {},
   "source": [
    "nombre_infected       980\n",
    "nombre_sain          2118\n",
    "nombre_exposed        568\n",
    "nombre_recovered    16334\n",
    "Name: 577, dtype: int64"
   ]
  },
  {
   "cell_type": "markdown",
   "id": "64132370",
   "metadata": {},
   "source": [
    "nombre_infected       994\n",
    "nombre_sain          2133\n",
    "nombre_exposed        535\n",
    "nombre_recovered    16338\n",
    "Name: 578, dtype: int64"
   ]
  },
  {
   "cell_type": "markdown",
   "id": "2067b2d1",
   "metadata": {},
   "source": [
    "nombre_infected      1013\n",
    "nombre_sain          2130\n",
    "nombre_exposed        518\n",
    "nombre_recovered    16339\n",
    "Name: 579, dtype: int64"
   ]
  },
  {
   "cell_type": "markdown",
   "id": "78f040ca",
   "metadata": {},
   "source": [
    "nombre_infected      1005\n",
    "nombre_sain          2134\n",
    "nombre_exposed        511\n",
    "nombre_recovered    16350\n",
    "Name: 580, dtype: int64"
   ]
  },
  {
   "cell_type": "markdown",
   "id": "47d11ddb",
   "metadata": {},
   "source": [
    "nombre_infected       985\n",
    "nombre_sain          2129\n",
    "nombre_exposed        514\n",
    "nombre_recovered    16372\n",
    "Name: 581, dtype: int64"
   ]
  },
  {
   "cell_type": "markdown",
   "id": "f5e916db",
   "metadata": {},
   "source": [
    "nombre_infected      1009\n",
    "nombre_sain          2116\n",
    "nombre_exposed        512\n",
    "nombre_recovered    16363\n",
    "Name: 582, dtype: int64"
   ]
  },
  {
   "cell_type": "markdown",
   "id": "25dcbfe0",
   "metadata": {},
   "source": [
    "nombre_infected      1011\n",
    "nombre_sain          2129\n",
    "nombre_exposed        509\n",
    "nombre_recovered    16351\n",
    "Name: 583, dtype: int64"
   ]
  },
  {
   "cell_type": "markdown",
   "id": "633585e1",
   "metadata": {},
   "source": [
    "nombre_infected      1014\n",
    "nombre_sain          2146\n",
    "nombre_exposed        500\n",
    "nombre_recovered    16340\n",
    "Name: 584, dtype: int64"
   ]
  },
  {
   "cell_type": "markdown",
   "id": "15179a65",
   "metadata": {},
   "source": [
    "nombre_infected       995\n",
    "nombre_sain          2163\n",
    "nombre_exposed        500\n",
    "nombre_recovered    16342\n",
    "Name: 585, dtype: int64"
   ]
  },
  {
   "cell_type": "markdown",
   "id": "4c27d72b",
   "metadata": {},
   "source": [
    "nombre_infected       976\n",
    "nombre_sain          2156\n",
    "nombre_exposed        518\n",
    "nombre_recovered    16350\n",
    "Name: 586, dtype: int64"
   ]
  },
  {
   "cell_type": "markdown",
   "id": "f0c85930",
   "metadata": {},
   "source": [
    "nombre_infected       985\n",
    "nombre_sain          2136\n",
    "nombre_exposed        534\n",
    "nombre_recovered    16345\n",
    "Name: 587, dtype: int64"
   ]
  },
  {
   "cell_type": "markdown",
   "id": "b950e353",
   "metadata": {},
   "source": [
    "nombre_infected       959\n",
    "nombre_sain          2158\n",
    "nombre_exposed        530\n",
    "nombre_recovered    16353\n",
    "Name: 588, dtype: int64"
   ]
  },
  {
   "cell_type": "markdown",
   "id": "115db555",
   "metadata": {},
   "source": [
    "nombre_infected       963\n",
    "nombre_sain          2168\n",
    "nombre_exposed        530\n",
    "nombre_recovered    16339\n",
    "Name: 589, dtype: int64"
   ]
  },
  {
   "cell_type": "markdown",
   "id": "ee02f644",
   "metadata": {},
   "source": [
    "nombre_infected       979\n",
    "nombre_sain          2195\n",
    "nombre_exposed        510\n",
    "nombre_recovered    16316\n",
    "Name: 590, dtype: int64"
   ]
  },
  {
   "cell_type": "markdown",
   "id": "d59d0575",
   "metadata": {},
   "source": [
    "nombre_infected       985\n",
    "nombre_sain          2212\n",
    "nombre_exposed        508\n",
    "nombre_recovered    16295\n",
    "Name: 591, dtype: int64"
   ]
  },
  {
   "cell_type": "markdown",
   "id": "6dcdd200",
   "metadata": {},
   "source": [
    "nombre_infected       970\n",
    "nombre_sain          2207\n",
    "nombre_exposed        515\n",
    "nombre_recovered    16308\n",
    "Name: 592, dtype: int64"
   ]
  },
  {
   "cell_type": "markdown",
   "id": "c22a125d",
   "metadata": {},
   "source": [
    "nombre_infected       964\n",
    "nombre_sain          2207\n",
    "nombre_exposed        534\n",
    "nombre_recovered    16295\n",
    "Name: 593, dtype: int64"
   ]
  },
  {
   "cell_type": "markdown",
   "id": "188a0bf2",
   "metadata": {},
   "source": [
    "nombre_infected       963\n",
    "nombre_sain          2236\n",
    "nombre_exposed        518\n",
    "nombre_recovered    16283\n",
    "Name: 594, dtype: int64"
   ]
  },
  {
   "cell_type": "markdown",
   "id": "da050b67",
   "metadata": {},
   "source": [
    "nombre_infected       958\n",
    "nombre_sain          2249\n",
    "nombre_exposed        535\n",
    "nombre_recovered    16258\n",
    "Name: 595, dtype: int64"
   ]
  },
  {
   "cell_type": "markdown",
   "id": "8568563d",
   "metadata": {},
   "source": [
    "nombre_infected       948\n",
    "nombre_sain          2229\n",
    "nombre_exposed        564\n",
    "nombre_recovered    16259\n",
    "Name: 596, dtype: int64"
   ]
  },
  {
   "cell_type": "markdown",
   "id": "1c5bf57d",
   "metadata": {},
   "source": [
    "nombre_infected       937\n",
    "nombre_sain          2268\n",
    "nombre_exposed        566\n",
    "nombre_recovered    16229\n",
    "Name: 597, dtype: int64"
   ]
  },
  {
   "cell_type": "markdown",
   "id": "1b3d192b",
   "metadata": {},
   "source": [
    "nombre_infected       956\n",
    "nombre_sain          2272\n",
    "nombre_exposed        577\n",
    "nombre_recovered    16195\n",
    "Name: 598, dtype: int64"
   ]
  },
  {
   "cell_type": "markdown",
   "id": "ed3c66bb",
   "metadata": {},
   "source": [
    "nombre_infected       988\n",
    "nombre_sain          2291\n",
    "nombre_exposed        572\n",
    "nombre_recovered    16149\n",
    "Name: 599, dtype: int64"
   ]
  },
  {
   "cell_type": "markdown",
   "id": "95e5fde3",
   "metadata": {},
   "source": [
    "nombre_infected      1006\n",
    "nombre_sain          2315\n",
    "nombre_exposed        566\n",
    "nombre_recovered    16113\n",
    "Name: 600, dtype: int64"
   ]
  },
  {
   "cell_type": "markdown",
   "id": "a6317d89",
   "metadata": {},
   "source": [
    "nombre_infected      1018\n",
    "nombre_sain          2309\n",
    "nombre_exposed        569\n",
    "nombre_recovered    16104\n",
    "Name: 601, dtype: int64"
   ]
  },
  {
   "cell_type": "markdown",
   "id": "fa80124e",
   "metadata": {},
   "source": [
    "nombre_infected      1029\n",
    "nombre_sain          2272\n",
    "nombre_exposed        600\n",
    "nombre_recovered    16099\n",
    "Name: 602, dtype: int64"
   ]
  },
  {
   "cell_type": "markdown",
   "id": "6f346d90",
   "metadata": {},
   "source": [
    "nombre_infected      1003\n",
    "nombre_sain          2256\n",
    "nombre_exposed        607\n",
    "nombre_recovered    16134\n",
    "Name: 603, dtype: int64"
   ]
  },
  {
   "cell_type": "markdown",
   "id": "ba39aa6a",
   "metadata": {},
   "source": [
    "nombre_infected      1030\n",
    "nombre_sain          2229\n",
    "nombre_exposed        604\n",
    "nombre_recovered    16137\n",
    "Name: 604, dtype: int64"
   ]
  },
  {
   "cell_type": "markdown",
   "id": "c0d9aed5",
   "metadata": {},
   "source": [
    "nombre_infected      1050\n",
    "nombre_sain          2218\n",
    "nombre_exposed        608\n",
    "nombre_recovered    16124\n",
    "Name: 605, dtype: int64"
   ]
  },
  {
   "cell_type": "markdown",
   "id": "16576834",
   "metadata": {},
   "source": [
    "nombre_infected      1045\n",
    "nombre_sain          2212\n",
    "nombre_exposed        598\n",
    "nombre_recovered    16145\n",
    "Name: 606, dtype: int64"
   ]
  },
  {
   "cell_type": "markdown",
   "id": "1ef1712c",
   "metadata": {},
   "source": [
    "nombre_infected      1065\n",
    "nombre_sain          2169\n",
    "nombre_exposed        605\n",
    "nombre_recovered    16161\n",
    "Name: 607, dtype: int64"
   ]
  },
  {
   "cell_type": "markdown",
   "id": "0d614a24",
   "metadata": {},
   "source": [
    "nombre_infected      1054\n",
    "nombre_sain          2130\n",
    "nombre_exposed        632\n",
    "nombre_recovered    16184\n",
    "Name: 608, dtype: int64"
   ]
  },
  {
   "cell_type": "markdown",
   "id": "9ba347e4",
   "metadata": {},
   "source": [
    "nombre_infected      1072\n",
    "nombre_sain          2113\n",
    "nombre_exposed        638\n",
    "nombre_recovered    16177\n",
    "Name: 609, dtype: int64"
   ]
  },
  {
   "cell_type": "markdown",
   "id": "086d6426",
   "metadata": {},
   "source": [
    "nombre_infected      1069\n",
    "nombre_sain          2122\n",
    "nombre_exposed        639\n",
    "nombre_recovered    16170\n",
    "Name: 610, dtype: int64"
   ]
  },
  {
   "cell_type": "markdown",
   "id": "6f646ee3",
   "metadata": {},
   "source": [
    "nombre_infected      1070\n",
    "nombre_sain          2139\n",
    "nombre_exposed        619\n",
    "nombre_recovered    16172\n",
    "Name: 611, dtype: int64"
   ]
  },
  {
   "cell_type": "markdown",
   "id": "a91399f3",
   "metadata": {},
   "source": [
    "nombre_infected      1073\n",
    "nombre_sain          2125\n",
    "nombre_exposed        620\n",
    "nombre_recovered    16182\n",
    "Name: 612, dtype: int64"
   ]
  },
  {
   "cell_type": "markdown",
   "id": "2ffd055d",
   "metadata": {},
   "source": [
    "nombre_infected      1053\n",
    "nombre_sain          2129\n",
    "nombre_exposed        618\n",
    "nombre_recovered    16200\n",
    "Name: 613, dtype: int64"
   ]
  },
  {
   "cell_type": "markdown",
   "id": "84e266fd",
   "metadata": {},
   "source": [
    "nombre_infected      1049\n",
    "nombre_sain          2119\n",
    "nombre_exposed        620\n",
    "nombre_recovered    16212\n",
    "Name: 614, dtype: int64"
   ]
  },
  {
   "cell_type": "markdown",
   "id": "0a8ec5d8",
   "metadata": {},
   "source": [
    "nombre_infected      1057\n",
    "nombre_sain          2139\n",
    "nombre_exposed        607\n",
    "nombre_recovered    16197\n",
    "Name: 615, dtype: int64"
   ]
  },
  {
   "cell_type": "markdown",
   "id": "befd0810",
   "metadata": {},
   "source": [
    "nombre_infected      1074\n",
    "nombre_sain          2123\n",
    "nombre_exposed        595\n",
    "nombre_recovered    16208\n",
    "Name: 616, dtype: int64"
   ]
  },
  {
   "cell_type": "markdown",
   "id": "a83ef7fc",
   "metadata": {},
   "source": [
    "nombre_infected      1063\n",
    "nombre_sain          2136\n",
    "nombre_exposed        594\n",
    "nombre_recovered    16207\n",
    "Name: 617, dtype: int64"
   ]
  },
  {
   "cell_type": "markdown",
   "id": "5d845dba",
   "metadata": {},
   "source": [
    "nombre_infected      1062\n",
    "nombre_sain          2114\n",
    "nombre_exposed        597\n",
    "nombre_recovered    16227\n",
    "Name: 618, dtype: int64"
   ]
  },
  {
   "cell_type": "markdown",
   "id": "b17f5a90",
   "metadata": {},
   "source": [
    "nombre_infected      1060\n",
    "nombre_sain          2125\n",
    "nombre_exposed        586\n",
    "nombre_recovered    16229\n",
    "Name: 619, dtype: int64"
   ]
  },
  {
   "cell_type": "markdown",
   "id": "fb60fd1b",
   "metadata": {},
   "source": [
    "nombre_infected      1052\n",
    "nombre_sain          2139\n",
    "nombre_exposed        584\n",
    "nombre_recovered    16225\n",
    "Name: 620, dtype: int64"
   ]
  },
  {
   "cell_type": "markdown",
   "id": "4c684f8a",
   "metadata": {},
   "source": [
    "nombre_infected      1054\n",
    "nombre_sain          2113\n",
    "nombre_exposed        592\n",
    "nombre_recovered    16241\n",
    "Name: 621, dtype: int64"
   ]
  },
  {
   "cell_type": "markdown",
   "id": "b774b836",
   "metadata": {},
   "source": [
    "nombre_infected      1052\n",
    "nombre_sain          2119\n",
    "nombre_exposed        573\n",
    "nombre_recovered    16256\n",
    "Name: 622, dtype: int64"
   ]
  },
  {
   "cell_type": "markdown",
   "id": "7e6ba92f",
   "metadata": {},
   "source": [
    "nombre_infected      1048\n",
    "nombre_sain          2150\n",
    "nombre_exposed        568\n",
    "nombre_recovered    16234\n",
    "Name: 623, dtype: int64"
   ]
  },
  {
   "cell_type": "markdown",
   "id": "2ff21a2d",
   "metadata": {},
   "source": [
    "nombre_infected      1035\n",
    "nombre_sain          2188\n",
    "nombre_exposed        546\n",
    "nombre_recovered    16231\n",
    "Name: 624, dtype: int64"
   ]
  },
  {
   "cell_type": "markdown",
   "id": "d55a54ae",
   "metadata": {},
   "source": [
    "nombre_infected      1037\n",
    "nombre_sain          2168\n",
    "nombre_exposed        571\n",
    "nombre_recovered    16224\n",
    "Name: 625, dtype: int64"
   ]
  },
  {
   "cell_type": "markdown",
   "id": "0b9491b8",
   "metadata": {},
   "source": [
    "nombre_infected      1041\n",
    "nombre_sain          2202\n",
    "nombre_exposed        567\n",
    "nombre_recovered    16190\n",
    "Name: 626, dtype: int64"
   ]
  },
  {
   "cell_type": "markdown",
   "id": "17d8838e",
   "metadata": {},
   "source": [
    "nombre_infected      1050\n",
    "nombre_sain          2218\n",
    "nombre_exposed        568\n",
    "nombre_recovered    16164\n",
    "Name: 627, dtype: int64"
   ]
  },
  {
   "cell_type": "markdown",
   "id": "6bc34872",
   "metadata": {},
   "source": [
    "nombre_infected      1061\n",
    "nombre_sain          2244\n",
    "nombre_exposed        576\n",
    "nombre_recovered    16119\n",
    "Name: 628, dtype: int64"
   ]
  },
  {
   "cell_type": "markdown",
   "id": "0034cb3d",
   "metadata": {},
   "source": [
    "nombre_infected      1079\n",
    "nombre_sain          2262\n",
    "nombre_exposed        567\n",
    "nombre_recovered    16092\n",
    "Name: 629, dtype: int64"
   ]
  },
  {
   "cell_type": "markdown",
   "id": "558ba87c",
   "metadata": {},
   "source": [
    "nombre_infected      1085\n",
    "nombre_sain          2257\n",
    "nombre_exposed        585\n",
    "nombre_recovered    16073\n",
    "Name: 630, dtype: int64"
   ]
  },
  {
   "cell_type": "markdown",
   "id": "bc70a70e",
   "metadata": {},
   "source": [
    "nombre_infected      1086\n",
    "nombre_sain          2269\n",
    "nombre_exposed        582\n",
    "nombre_recovered    16063\n",
    "Name: 631, dtype: int64"
   ]
  },
  {
   "cell_type": "markdown",
   "id": "10b55708",
   "metadata": {},
   "source": [
    "nombre_infected      1094\n",
    "nombre_sain          2291\n",
    "nombre_exposed        604\n",
    "nombre_recovered    16011\n",
    "Name: 632, dtype: int64"
   ]
  },
  {
   "cell_type": "markdown",
   "id": "94f7856b",
   "metadata": {},
   "source": [
    "nombre_infected      1098\n",
    "nombre_sain          2285\n",
    "nombre_exposed        632\n",
    "nombre_recovered    15985\n",
    "Name: 633, dtype: int64"
   ]
  },
  {
   "cell_type": "markdown",
   "id": "5ad21e01",
   "metadata": {},
   "source": [
    "nombre_infected      1114\n",
    "nombre_sain          2290\n",
    "nombre_exposed        618\n",
    "nombre_recovered    15978\n",
    "Name: 634, dtype: int64"
   ]
  },
  {
   "cell_type": "markdown",
   "id": "13132432",
   "metadata": {},
   "source": [
    "nombre_infected      1111\n",
    "nombre_sain          2313\n",
    "nombre_exposed        614\n",
    "nombre_recovered    15962\n",
    "Name: 635, dtype: int64"
   ]
  },
  {
   "cell_type": "markdown",
   "id": "f1849419",
   "metadata": {},
   "source": [
    "nombre_infected      1123\n",
    "nombre_sain          2288\n",
    "nombre_exposed        627\n",
    "nombre_recovered    15962\n",
    "Name: 636, dtype: int64"
   ]
  },
  {
   "cell_type": "markdown",
   "id": "3d7af302",
   "metadata": {},
   "source": [
    "nombre_infected      1140\n",
    "nombre_sain          2284\n",
    "nombre_exposed        622\n",
    "nombre_recovered    15954\n",
    "Name: 637, dtype: int64"
   ]
  },
  {
   "cell_type": "markdown",
   "id": "97a281bc",
   "metadata": {},
   "source": [
    "nombre_infected      1164\n",
    "nombre_sain          2285\n",
    "nombre_exposed        617\n",
    "nombre_recovered    15934\n",
    "Name: 638, dtype: int64"
   ]
  },
  {
   "cell_type": "markdown",
   "id": "7e361abb",
   "metadata": {},
   "source": [
    "nombre_infected      1174\n",
    "nombre_sain          2274\n",
    "nombre_exposed        632\n",
    "nombre_recovered    15920\n",
    "Name: 639, dtype: int64"
   ]
  },
  {
   "cell_type": "markdown",
   "id": "06a86dd9",
   "metadata": {},
   "source": [
    "nombre_infected      1188\n",
    "nombre_sain          2263\n",
    "nombre_exposed        628\n",
    "nombre_recovered    15921\n",
    "Name: 640, dtype: int64"
   ]
  },
  {
   "cell_type": "markdown",
   "id": "b15ad00d",
   "metadata": {},
   "source": [
    "nombre_infected      1187\n",
    "nombre_sain          2281\n",
    "nombre_exposed        621\n",
    "nombre_recovered    15911\n",
    "Name: 641, dtype: int64"
   ]
  },
  {
   "cell_type": "markdown",
   "id": "70741f09",
   "metadata": {},
   "source": [
    "nombre_infected      1208\n",
    "nombre_sain          2255\n",
    "nombre_exposed        596\n",
    "nombre_recovered    15941\n",
    "Name: 642, dtype: int64"
   ]
  },
  {
   "cell_type": "markdown",
   "id": "3b5a7ab3",
   "metadata": {},
   "source": [
    "nombre_infected      1158\n",
    "nombre_sain          2263\n",
    "nombre_exposed        623\n",
    "nombre_recovered    15956\n",
    "Name: 643, dtype: int64"
   ]
  },
  {
   "cell_type": "markdown",
   "id": "b0e9b67e",
   "metadata": {},
   "source": [
    "nombre_infected      1156\n",
    "nombre_sain          2253\n",
    "nombre_exposed        614\n",
    "nombre_recovered    15977\n",
    "Name: 644, dtype: int64"
   ]
  },
  {
   "cell_type": "markdown",
   "id": "dcc52750",
   "metadata": {},
   "source": [
    "nombre_infected      1180\n",
    "nombre_sain          2243\n",
    "nombre_exposed        639\n",
    "nombre_recovered    15938\n",
    "Name: 645, dtype: int64"
   ]
  },
  {
   "cell_type": "markdown",
   "id": "9562d700",
   "metadata": {},
   "source": [
    "nombre_infected      1184\n",
    "nombre_sain          2232\n",
    "nombre_exposed        656\n",
    "nombre_recovered    15928\n",
    "Name: 646, dtype: int64"
   ]
  },
  {
   "cell_type": "markdown",
   "id": "e2875874",
   "metadata": {},
   "source": [
    "nombre_infected      1197\n",
    "nombre_sain          2196\n",
    "nombre_exposed        658\n",
    "nombre_recovered    15949\n",
    "Name: 647, dtype: int64"
   ]
  },
  {
   "cell_type": "markdown",
   "id": "abdfdd08",
   "metadata": {},
   "source": [
    "nombre_infected      1207\n",
    "nombre_sain          2148\n",
    "nombre_exposed        670\n",
    "nombre_recovered    15975\n",
    "Name: 648, dtype: int64"
   ]
  },
  {
   "cell_type": "markdown",
   "id": "a7f568f8",
   "metadata": {},
   "source": [
    "nombre_infected      1214\n",
    "nombre_sain          2164\n",
    "nombre_exposed        646\n",
    "nombre_recovered    15976\n",
    "Name: 649, dtype: int64"
   ]
  },
  {
   "cell_type": "markdown",
   "id": "b046dcf8",
   "metadata": {},
   "source": [
    "nombre_infected      1236\n",
    "nombre_sain          2158\n",
    "nombre_exposed        614\n",
    "nombre_recovered    15992\n",
    "Name: 650, dtype: int64"
   ]
  },
  {
   "cell_type": "markdown",
   "id": "45991137",
   "metadata": {},
   "source": [
    "nombre_infected      1242\n",
    "nombre_sain          2124\n",
    "nombre_exposed        613\n",
    "nombre_recovered    16021\n",
    "Name: 651, dtype: int64"
   ]
  },
  {
   "cell_type": "markdown",
   "id": "27a3571f",
   "metadata": {},
   "source": [
    "nombre_infected      1251\n",
    "nombre_sain          2122\n",
    "nombre_exposed        603\n",
    "nombre_recovered    16024\n",
    "Name: 652, dtype: int64"
   ]
  },
  {
   "cell_type": "markdown",
   "id": "39b472d0",
   "metadata": {},
   "source": [
    "nombre_infected      1244\n",
    "nombre_sain          2131\n",
    "nombre_exposed        587\n",
    "nombre_recovered    16038\n",
    "Name: 653, dtype: int64"
   ]
  },
  {
   "cell_type": "markdown",
   "id": "ed2f273f",
   "metadata": {},
   "source": [
    "nombre_infected      1227\n",
    "nombre_sain          2131\n",
    "nombre_exposed        604\n",
    "nombre_recovered    16038\n",
    "Name: 654, dtype: int64"
   ]
  },
  {
   "cell_type": "markdown",
   "id": "7df89694",
   "metadata": {},
   "source": [
    "nombre_infected      1217\n",
    "nombre_sain          2145\n",
    "nombre_exposed        616\n",
    "nombre_recovered    16022\n",
    "Name: 655, dtype: int64"
   ]
  },
  {
   "cell_type": "markdown",
   "id": "bbeec6c9",
   "metadata": {},
   "source": [
    "nombre_infected      1224\n",
    "nombre_sain          2167\n",
    "nombre_exposed        618\n",
    "nombre_recovered    15991\n",
    "Name: 656, dtype: int64"
   ]
  },
  {
   "cell_type": "markdown",
   "id": "179cf897",
   "metadata": {},
   "source": [
    "nombre_infected      1188\n",
    "nombre_sain          2172\n",
    "nombre_exposed        617\n",
    "nombre_recovered    16023\n",
    "Name: 657, dtype: int64"
   ]
  },
  {
   "cell_type": "markdown",
   "id": "9d279498",
   "metadata": {},
   "source": [
    "nombre_infected      1181\n",
    "nombre_sain          2164\n",
    "nombre_exposed        589\n",
    "nombre_recovered    16066\n",
    "Name: 658, dtype: int64"
   ]
  },
  {
   "cell_type": "markdown",
   "id": "99e615a1",
   "metadata": {},
   "source": [
    "nombre_infected      1168\n",
    "nombre_sain          2183\n",
    "nombre_exposed        583\n",
    "nombre_recovered    16066\n",
    "Name: 659, dtype: int64"
   ]
  },
  {
   "cell_type": "markdown",
   "id": "802520c0",
   "metadata": {},
   "source": [
    "nombre_infected      1140\n",
    "nombre_sain          2166\n",
    "nombre_exposed        605\n",
    "nombre_recovered    16089\n",
    "Name: 660, dtype: int64"
   ]
  },
  {
   "cell_type": "markdown",
   "id": "62c86240",
   "metadata": {},
   "source": [
    "nombre_infected      1155\n",
    "nombre_sain          2157\n",
    "nombre_exposed        596\n",
    "nombre_recovered    16092\n",
    "Name: 661, dtype: int64"
   ]
  },
  {
   "cell_type": "markdown",
   "id": "29f9f61b",
   "metadata": {},
   "source": [
    "nombre_infected      1134\n",
    "nombre_sain          2141\n",
    "nombre_exposed        613\n",
    "nombre_recovered    16112\n",
    "Name: 662, dtype: int64"
   ]
  },
  {
   "cell_type": "markdown",
   "id": "53387aa7",
   "metadata": {},
   "source": [
    "nombre_infected      1145\n",
    "nombre_sain          2152\n",
    "nombre_exposed        599\n",
    "nombre_recovered    16104\n",
    "Name: 663, dtype: int64"
   ]
  },
  {
   "cell_type": "markdown",
   "id": "59980767",
   "metadata": {},
   "source": [
    "nombre_infected      1124\n",
    "nombre_sain          2126\n",
    "nombre_exposed        619\n",
    "nombre_recovered    16131\n",
    "Name: 664, dtype: int64"
   ]
  },
  {
   "cell_type": "markdown",
   "id": "65dc86cc",
   "metadata": {},
   "source": [
    "nombre_infected      1114\n",
    "nombre_sain          2142\n",
    "nombre_exposed        631\n",
    "nombre_recovered    16113\n",
    "Name: 665, dtype: int64"
   ]
  },
  {
   "cell_type": "markdown",
   "id": "f63c06e7",
   "metadata": {},
   "source": [
    "nombre_infected      1119\n",
    "nombre_sain          2119\n",
    "nombre_exposed        620\n",
    "nombre_recovered    16142\n",
    "Name: 666, dtype: int64"
   ]
  },
  {
   "cell_type": "markdown",
   "id": "e94596c7",
   "metadata": {},
   "source": [
    "nombre_infected      1111\n",
    "nombre_sain          2122\n",
    "nombre_exposed        603\n",
    "nombre_recovered    16164\n",
    "Name: 667, dtype: int64"
   ]
  },
  {
   "cell_type": "markdown",
   "id": "9231cf12",
   "metadata": {},
   "source": [
    "nombre_infected      1102\n",
    "nombre_sain          2146\n",
    "nombre_exposed        577\n",
    "nombre_recovered    16175\n",
    "Name: 668, dtype: int64"
   ]
  },
  {
   "cell_type": "markdown",
   "id": "3f13ac67",
   "metadata": {},
   "source": [
    "nombre_infected      1084\n",
    "nombre_sain          2144\n",
    "nombre_exposed        596\n",
    "nombre_recovered    16176\n",
    "Name: 669, dtype: int64"
   ]
  },
  {
   "cell_type": "markdown",
   "id": "11a01479",
   "metadata": {},
   "source": [
    "nombre_infected      1066\n",
    "nombre_sain          2144\n",
    "nombre_exposed        582\n",
    "nombre_recovered    16208\n",
    "Name: 670, dtype: int64"
   ]
  },
  {
   "cell_type": "markdown",
   "id": "e9bacca2",
   "metadata": {},
   "source": [
    "nombre_infected      1075\n",
    "nombre_sain          2171\n",
    "nombre_exposed        555\n",
    "nombre_recovered    16199\n",
    "Name: 671, dtype: int64"
   ]
  },
  {
   "cell_type": "markdown",
   "id": "02e579fb",
   "metadata": {},
   "source": [
    "nombre_infected      1099\n",
    "nombre_sain          2156\n",
    "nombre_exposed        554\n",
    "nombre_recovered    16191\n",
    "Name: 672, dtype: int64"
   ]
  },
  {
   "cell_type": "markdown",
   "id": "b3eee348",
   "metadata": {},
   "source": [
    "nombre_infected      1099\n",
    "nombre_sain          2164\n",
    "nombre_exposed        562\n",
    "nombre_recovered    16175\n",
    "Name: 673, dtype: int64"
   ]
  },
  {
   "cell_type": "markdown",
   "id": "824a2f8d",
   "metadata": {},
   "source": [
    "nombre_infected      1072\n",
    "nombre_sain          2150\n",
    "nombre_exposed        612\n",
    "nombre_recovered    16166\n",
    "Name: 674, dtype: int64"
   ]
  },
  {
   "cell_type": "markdown",
   "id": "2e5b62e0",
   "metadata": {},
   "source": [
    "nombre_infected      1106\n",
    "nombre_sain          2127\n",
    "nombre_exposed        587\n",
    "nombre_recovered    16180\n",
    "Name: 675, dtype: int64"
   ]
  },
  {
   "cell_type": "markdown",
   "id": "a8b2341c",
   "metadata": {},
   "source": [
    "nombre_infected      1099\n",
    "nombre_sain          2127\n",
    "nombre_exposed        575\n",
    "nombre_recovered    16199\n",
    "Name: 676, dtype: int64"
   ]
  },
  {
   "cell_type": "markdown",
   "id": "8694ed67",
   "metadata": {},
   "source": [
    "nombre_infected      1075\n",
    "nombre_sain          2081\n",
    "nombre_exposed        602\n",
    "nombre_recovered    16242\n",
    "Name: 677, dtype: int64"
   ]
  },
  {
   "cell_type": "markdown",
   "id": "5ac73791",
   "metadata": {},
   "source": [
    "nombre_infected      1073\n",
    "nombre_sain          2052\n",
    "nombre_exposed        613\n",
    "nombre_recovered    16262\n",
    "Name: 678, dtype: int64"
   ]
  },
  {
   "cell_type": "markdown",
   "id": "45234ad8",
   "metadata": {},
   "source": [
    "nombre_infected      1071\n",
    "nombre_sain          2043\n",
    "nombre_exposed        611\n",
    "nombre_recovered    16275\n",
    "Name: 679, dtype: int64"
   ]
  },
  {
   "cell_type": "markdown",
   "id": "cd152464",
   "metadata": {},
   "source": [
    "nombre_infected      1106\n",
    "nombre_sain          2019\n",
    "nombre_exposed        598\n",
    "nombre_recovered    16277\n",
    "Name: 680, dtype: int64"
   ]
  },
  {
   "cell_type": "markdown",
   "id": "b2766a8b",
   "metadata": {},
   "source": [
    "nombre_infected      1090\n",
    "nombre_sain          1994\n",
    "nombre_exposed        610\n",
    "nombre_recovered    16306\n",
    "Name: 681, dtype: int64"
   ]
  },
  {
   "cell_type": "markdown",
   "id": "0207a9e8",
   "metadata": {},
   "source": [
    "nombre_infected      1082\n",
    "nombre_sain          2017\n",
    "nombre_exposed        585\n",
    "nombre_recovered    16316\n",
    "Name: 682, dtype: int64"
   ]
  },
  {
   "cell_type": "markdown",
   "id": "a142d50d",
   "metadata": {},
   "source": [
    "nombre_infected      1090\n",
    "nombre_sain          2021\n",
    "nombre_exposed        568\n",
    "nombre_recovered    16321\n",
    "Name: 683, dtype: int64"
   ]
  },
  {
   "cell_type": "markdown",
   "id": "6c2327a1",
   "metadata": {},
   "source": [
    "nombre_infected      1079\n",
    "nombre_sain          2031\n",
    "nombre_exposed        556\n",
    "nombre_recovered    16334\n",
    "Name: 684, dtype: int64"
   ]
  },
  {
   "cell_type": "markdown",
   "id": "cd984e0e",
   "metadata": {},
   "source": [
    "nombre_infected      1071\n",
    "nombre_sain          2039\n",
    "nombre_exposed        553\n",
    "nombre_recovered    16337\n",
    "Name: 685, dtype: int64"
   ]
  },
  {
   "cell_type": "markdown",
   "id": "9182a27f",
   "metadata": {},
   "source": [
    "nombre_infected      1078\n",
    "nombre_sain          2065\n",
    "nombre_exposed        542\n",
    "nombre_recovered    16315\n",
    "Name: 686, dtype: int64"
   ]
  },
  {
   "cell_type": "markdown",
   "id": "3f8700d4",
   "metadata": {},
   "source": [
    "nombre_infected      1081\n",
    "nombre_sain          2044\n",
    "nombre_exposed        554\n",
    "nombre_recovered    16321\n",
    "Name: 687, dtype: int64"
   ]
  },
  {
   "cell_type": "markdown",
   "id": "488c6c0f",
   "metadata": {},
   "source": [
    "nombre_infected      1069\n",
    "nombre_sain          2017\n",
    "nombre_exposed        581\n",
    "nombre_recovered    16333\n",
    "Name: 688, dtype: int64"
   ]
  },
  {
   "cell_type": "markdown",
   "id": "b6fab471",
   "metadata": {},
   "source": [
    "nombre_infected      1085\n",
    "nombre_sain          2024\n",
    "nombre_exposed        556\n",
    "nombre_recovered    16335\n",
    "Name: 689, dtype: int64"
   ]
  },
  {
   "cell_type": "markdown",
   "id": "275a38b9",
   "metadata": {},
   "source": [
    "nombre_infected      1077\n",
    "nombre_sain          2038\n",
    "nombre_exposed        538\n",
    "nombre_recovered    16347\n",
    "Name: 690, dtype: int64"
   ]
  },
  {
   "cell_type": "markdown",
   "id": "25670602",
   "metadata": {},
   "source": [
    "nombre_infected      1067\n",
    "nombre_sain          2074\n",
    "nombre_exposed        531\n",
    "nombre_recovered    16328\n",
    "Name: 691, dtype: int64"
   ]
  },
  {
   "cell_type": "markdown",
   "id": "efcdf784",
   "metadata": {},
   "source": [
    "nombre_infected      1058\n",
    "nombre_sain          2085\n",
    "nombre_exposed        526\n",
    "nombre_recovered    16331\n",
    "Name: 692, dtype: int64"
   ]
  },
  {
   "cell_type": "markdown",
   "id": "0b1f7db7",
   "metadata": {},
   "source": [
    "nombre_infected      1054\n",
    "nombre_sain          2092\n",
    "nombre_exposed        522\n",
    "nombre_recovered    16332\n",
    "Name: 693, dtype: int64"
   ]
  },
  {
   "cell_type": "markdown",
   "id": "dd31898d",
   "metadata": {},
   "source": [
    "nombre_infected      1042\n",
    "nombre_sain          2107\n",
    "nombre_exposed        497\n",
    "nombre_recovered    16354\n",
    "Name: 694, dtype: int64"
   ]
  },
  {
   "cell_type": "markdown",
   "id": "f533a149",
   "metadata": {},
   "source": [
    "nombre_infected      1043\n",
    "nombre_sain          2098\n",
    "nombre_exposed        515\n",
    "nombre_recovered    16344\n",
    "Name: 695, dtype: int64"
   ]
  },
  {
   "cell_type": "markdown",
   "id": "255b00c6",
   "metadata": {},
   "source": [
    "nombre_infected      1030\n",
    "nombre_sain          2101\n",
    "nombre_exposed        526\n",
    "nombre_recovered    16343\n",
    "Name: 696, dtype: int64"
   ]
  },
  {
   "cell_type": "markdown",
   "id": "bd6c9896",
   "metadata": {},
   "source": [
    "nombre_infected      1016\n",
    "nombre_sain          2131\n",
    "nombre_exposed        508\n",
    "nombre_recovered    16345\n",
    "Name: 697, dtype: int64"
   ]
  },
  {
   "cell_type": "markdown",
   "id": "1617ee36",
   "metadata": {},
   "source": [
    "nombre_infected      1018\n",
    "nombre_sain          2173\n",
    "nombre_exposed        480\n",
    "nombre_recovered    16329\n",
    "Name: 698, dtype: int64"
   ]
  },
  {
   "cell_type": "markdown",
   "id": "cd7fc084",
   "metadata": {},
   "source": [
    "nombre_infected      1023\n",
    "nombre_sain          2200\n",
    "nombre_exposed        463\n",
    "nombre_recovered    16314\n",
    "Name: 699, dtype: int64"
   ]
  },
  {
   "cell_type": "markdown",
   "id": "66f67242",
   "metadata": {},
   "source": [
    "nombre_infected       992\n",
    "nombre_sain          2195\n",
    "nombre_exposed        491\n",
    "nombre_recovered    16322\n",
    "Name: 700, dtype: int64"
   ]
  },
  {
   "cell_type": "markdown",
   "id": "95a24c9b",
   "metadata": {},
   "source": [
    "nombre_infected       962\n",
    "nombre_sain          2194\n",
    "nombre_exposed        513\n",
    "nombre_recovered    16331\n",
    "Name: 701, dtype: int64"
   ]
  },
  {
   "cell_type": "markdown",
   "id": "c408fa65",
   "metadata": {},
   "source": [
    "nombre_infected       946\n",
    "nombre_sain          2244\n",
    "nombre_exposed        508\n",
    "nombre_recovered    16302\n",
    "Name: 702, dtype: int64"
   ]
  },
  {
   "cell_type": "markdown",
   "id": "3ed86528",
   "metadata": {},
   "source": [
    "nombre_infected       954\n",
    "nombre_sain          2210\n",
    "nombre_exposed        523\n",
    "nombre_recovered    16313\n",
    "Name: 703, dtype: int64"
   ]
  },
  {
   "cell_type": "markdown",
   "id": "954a6308",
   "metadata": {},
   "source": [
    "nombre_infected       972\n",
    "nombre_sain          2218\n",
    "nombre_exposed        503\n",
    "nombre_recovered    16307\n",
    "Name: 704, dtype: int64"
   ]
  },
  {
   "cell_type": "markdown",
   "id": "370bfcf6",
   "metadata": {},
   "source": [
    "nombre_infected       988\n",
    "nombre_sain          2210\n",
    "nombre_exposed        509\n",
    "nombre_recovered    16293\n",
    "Name: 705, dtype: int64"
   ]
  },
  {
   "cell_type": "markdown",
   "id": "c1dcf8e2",
   "metadata": {},
   "source": [
    "nombre_infected       958\n",
    "nombre_sain          2240\n",
    "nombre_exposed        523\n",
    "nombre_recovered    16279\n",
    "Name: 706, dtype: int64"
   ]
  },
  {
   "cell_type": "markdown",
   "id": "0c042e4a",
   "metadata": {},
   "source": [
    "nombre_infected       948\n",
    "nombre_sain          2253\n",
    "nombre_exposed        522\n",
    "nombre_recovered    16277\n",
    "Name: 707, dtype: int64"
   ]
  },
  {
   "cell_type": "markdown",
   "id": "9a089186",
   "metadata": {},
   "source": [
    "nombre_infected       956\n",
    "nombre_sain          2234\n",
    "nombre_exposed        549\n",
    "nombre_recovered    16261\n",
    "Name: 708, dtype: int64"
   ]
  },
  {
   "cell_type": "markdown",
   "id": "a03a295d",
   "metadata": {},
   "source": [
    "nombre_infected       926\n",
    "nombre_sain          2239\n",
    "nombre_exposed        559\n",
    "nombre_recovered    16276\n",
    "Name: 709, dtype: int64"
   ]
  },
  {
   "cell_type": "markdown",
   "id": "02886a3d",
   "metadata": {},
   "source": [
    "nombre_infected       956\n",
    "nombre_sain          2250\n",
    "nombre_exposed        533\n",
    "nombre_recovered    16261\n",
    "Name: 710, dtype: int64"
   ]
  },
  {
   "cell_type": "markdown",
   "id": "02c265b5",
   "metadata": {},
   "source": [
    "nombre_infected       967\n",
    "nombre_sain          2237\n",
    "nombre_exposed        523\n",
    "nombre_recovered    16273\n",
    "Name: 711, dtype: int64"
   ]
  },
  {
   "cell_type": "markdown",
   "id": "d238e484",
   "metadata": {},
   "source": [
    "nombre_infected       953\n",
    "nombre_sain          2248\n",
    "nombre_exposed        538\n",
    "nombre_recovered    16261\n",
    "Name: 712, dtype: int64"
   ]
  },
  {
   "cell_type": "markdown",
   "id": "265c8c7d",
   "metadata": {},
   "source": [
    "nombre_infected       958\n",
    "nombre_sain          2210\n",
    "nombre_exposed        544\n",
    "nombre_recovered    16288\n",
    "Name: 713, dtype: int64"
   ]
  },
  {
   "cell_type": "markdown",
   "id": "22df52e2",
   "metadata": {},
   "source": [
    "nombre_infected       962\n",
    "nombre_sain          2243\n",
    "nombre_exposed        538\n",
    "nombre_recovered    16257\n",
    "Name: 714, dtype: int64"
   ]
  },
  {
   "cell_type": "markdown",
   "id": "d97d9033",
   "metadata": {},
   "source": [
    "nombre_infected       962\n",
    "nombre_sain          2245\n",
    "nombre_exposed        542\n",
    "nombre_recovered    16251\n",
    "Name: 715, dtype: int64"
   ]
  },
  {
   "cell_type": "markdown",
   "id": "2983064a",
   "metadata": {},
   "source": [
    "nombre_infected       983\n",
    "nombre_sain          2252\n",
    "nombre_exposed        537\n",
    "nombre_recovered    16228\n",
    "Name: 716, dtype: int64"
   ]
  },
  {
   "cell_type": "markdown",
   "id": "f379dca7",
   "metadata": {},
   "source": [
    "nombre_infected       994\n",
    "nombre_sain          2268\n",
    "nombre_exposed        537\n",
    "nombre_recovered    16201\n",
    "Name: 717, dtype: int64"
   ]
  },
  {
   "cell_type": "markdown",
   "id": "384252e0",
   "metadata": {},
   "source": [
    "nombre_infected       990\n",
    "nombre_sain          2270\n",
    "nombre_exposed        522\n",
    "nombre_recovered    16218\n",
    "Name: 718, dtype: int64"
   ]
  },
  {
   "cell_type": "markdown",
   "id": "e42eddeb",
   "metadata": {},
   "source": [
    "nombre_infected      1010\n",
    "nombre_sain          2287\n",
    "nombre_exposed        529\n",
    "nombre_recovered    16174\n",
    "Name: 719, dtype: int64"
   ]
  },
  {
   "cell_type": "markdown",
   "id": "5407d940",
   "metadata": {},
   "source": [
    "nombre_infected       981\n",
    "nombre_sain          2268\n",
    "nombre_exposed        578\n",
    "nombre_recovered    16173\n",
    "Name: 720, dtype: int64"
   ]
  },
  {
   "cell_type": "markdown",
   "id": "479928ca",
   "metadata": {},
   "source": [
    "nombre_infected      1008\n",
    "nombre_sain          2263\n",
    "nombre_exposed        548\n",
    "nombre_recovered    16181\n",
    "Name: 721, dtype: int64"
   ]
  },
  {
   "cell_type": "markdown",
   "id": "1bb8a4c8",
   "metadata": {},
   "source": [
    "nombre_infected      1025\n",
    "nombre_sain          2262\n",
    "nombre_exposed        564\n",
    "nombre_recovered    16149\n",
    "Name: 722, dtype: int64"
   ]
  },
  {
   "cell_type": "markdown",
   "id": "694a443a",
   "metadata": {},
   "source": [
    "nombre_infected      1018\n",
    "nombre_sain          2229\n",
    "nombre_exposed        578\n",
    "nombre_recovered    16175\n",
    "Name: 723, dtype: int64"
   ]
  },
  {
   "cell_type": "markdown",
   "id": "d7743914",
   "metadata": {},
   "source": [
    "nombre_infected      1008\n",
    "nombre_sain          2197\n",
    "nombre_exposed        566\n",
    "nombre_recovered    16229\n",
    "Name: 724, dtype: int64"
   ]
  },
  {
   "cell_type": "markdown",
   "id": "f9f564e0",
   "metadata": {},
   "source": [
    "nombre_infected      1008\n",
    "nombre_sain          2178\n",
    "nombre_exposed        577\n",
    "nombre_recovered    16237\n",
    "Name: 725, dtype: int64"
   ]
  },
  {
   "cell_type": "markdown",
   "id": "a4edcac6",
   "metadata": {},
   "source": [
    "nombre_infected      1011\n",
    "nombre_sain          2181\n",
    "nombre_exposed        565\n",
    "nombre_recovered    16243\n",
    "Name: 726, dtype: int64"
   ]
  },
  {
   "cell_type": "markdown",
   "id": "c95da89e",
   "metadata": {},
   "source": [
    "nombre_infected      1009\n",
    "nombre_sain          2180\n",
    "nombre_exposed        573\n",
    "nombre_recovered    16238\n",
    "Name: 727, dtype: int64"
   ]
  },
  {
   "cell_type": "markdown",
   "id": "5600d362",
   "metadata": {},
   "source": [
    "nombre_infected      1032\n",
    "nombre_sain          2170\n",
    "nombre_exposed        576\n",
    "nombre_recovered    16222\n",
    "Name: 728, dtype: int64"
   ]
  },
  {
   "cell_type": "markdown",
   "id": "0ef5889c",
   "metadata": {},
   "source": [
    "nombre_infected      1002\n",
    "nombre_sain          2148\n",
    "nombre_exposed        594\n",
    "nombre_recovered    16256\n",
    "Name: 729, dtype: int64"
   ]
  },
  {
   "cell_type": "markdown",
   "id": "31c9e70f",
   "metadata": {},
   "source": [
    "nombre_infected      1007\n",
    "nombre_sain          2152\n",
    "nombre_exposed        573\n",
    "nombre_recovered    16268\n",
    "Name: 730, dtype: int64"
   ]
  }
 ],
 "metadata": {},
 "nbformat": 4,
 "nbformat_minor": 5
}
