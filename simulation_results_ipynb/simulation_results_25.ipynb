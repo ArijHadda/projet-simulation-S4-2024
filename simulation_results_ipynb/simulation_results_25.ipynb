{
 "cells": [
  {
   "cell_type": "markdown",
   "id": "d1af7324",
   "metadata": {},
   "source": [
    "nombre_infected        20\n",
    "nombre_sain         19980\n",
    "nombre_exposed          0\n",
    "nombre_recovered        0\n",
    "Name: 0, dtype: int64"
   ]
  },
  {
   "cell_type": "markdown",
   "id": "e3f45832",
   "metadata": {},
   "source": [
    "nombre_infected        20\n",
    "nombre_sain         19970\n",
    "nombre_exposed         10\n",
    "nombre_recovered        0\n",
    "Name: 1, dtype: int64"
   ]
  },
  {
   "cell_type": "markdown",
   "id": "f4ede70b",
   "metadata": {},
   "source": [
    "nombre_infected        20\n",
    "nombre_sain         19939\n",
    "nombre_exposed         41\n",
    "nombre_recovered        0\n",
    "Name: 2, dtype: int64"
   ]
  },
  {
   "cell_type": "markdown",
   "id": "f3f54d8b",
   "metadata": {},
   "source": [
    "nombre_infected        23\n",
    "nombre_sain         19913\n",
    "nombre_exposed         64\n",
    "nombre_recovered        0\n",
    "Name: 3, dtype: int64"
   ]
  },
  {
   "cell_type": "markdown",
   "id": "182dda30",
   "metadata": {},
   "source": [
    "nombre_infected        37\n",
    "nombre_sain         19871\n",
    "nombre_exposed         92\n",
    "nombre_recovered        0\n",
    "Name: 4, dtype: int64"
   ]
  },
  {
   "cell_type": "markdown",
   "id": "aaa0780d",
   "metadata": {},
   "source": [
    "nombre_infected        52\n",
    "nombre_sain         19815\n",
    "nombre_exposed        133\n",
    "nombre_recovered        0\n",
    "Name: 5, dtype: int64"
   ]
  },
  {
   "cell_type": "markdown",
   "id": "c96576f9",
   "metadata": {},
   "source": [
    "nombre_infected        78\n",
    "nombre_sain         19729\n",
    "nombre_exposed        192\n",
    "nombre_recovered        1\n",
    "Name: 6, dtype: int64"
   ]
  },
  {
   "cell_type": "markdown",
   "id": "660fb96b",
   "metadata": {},
   "source": [
    "nombre_infected        86\n",
    "nombre_sain         19636\n",
    "nombre_exposed        254\n",
    "nombre_recovered       24\n",
    "Name: 7, dtype: int64"
   ]
  },
  {
   "cell_type": "markdown",
   "id": "709fdbbf",
   "metadata": {},
   "source": [
    "nombre_infected       127\n",
    "nombre_sain         19521\n",
    "nombre_exposed        317\n",
    "nombre_recovered       35\n",
    "Name: 8, dtype: int64"
   ]
  },
  {
   "cell_type": "markdown",
   "id": "b5735868",
   "metadata": {},
   "source": [
    "nombre_infected       184\n",
    "nombre_sain         19352\n",
    "nombre_exposed        423\n",
    "nombre_recovered       41\n",
    "Name: 9, dtype: int64"
   ]
  },
  {
   "cell_type": "markdown",
   "id": "6e72efec",
   "metadata": {},
   "source": [
    "nombre_infected       249\n",
    "nombre_sain         19118\n",
    "nombre_exposed        574\n",
    "nombre_recovered       59\n",
    "Name: 10, dtype: int64"
   ]
  },
  {
   "cell_type": "markdown",
   "id": "5cf1b6d0",
   "metadata": {},
   "source": [
    "nombre_infected       321\n",
    "nombre_sain         18769\n",
    "nombre_exposed        827\n",
    "nombre_recovered       83\n",
    "Name: 11, dtype: int64"
   ]
  },
  {
   "cell_type": "markdown",
   "id": "49c91fc9",
   "metadata": {},
   "source": [
    "nombre_infected       438\n",
    "nombre_sain         18323\n",
    "nombre_exposed       1131\n",
    "nombre_recovered      108\n",
    "Name: 12, dtype: int64"
   ]
  },
  {
   "cell_type": "markdown",
   "id": "d54aa677",
   "metadata": {},
   "source": [
    "nombre_infected       612\n",
    "nombre_sain         17736\n",
    "nombre_exposed       1512\n",
    "nombre_recovered      140\n",
    "Name: 13, dtype: int64"
   ]
  },
  {
   "cell_type": "markdown",
   "id": "64ed70c1",
   "metadata": {},
   "source": [
    "nombre_infected       874\n",
    "nombre_sain         16868\n",
    "nombre_exposed       2076\n",
    "nombre_recovered      182\n",
    "Name: 14, dtype: int64"
   ]
  },
  {
   "cell_type": "markdown",
   "id": "33c01789",
   "metadata": {},
   "source": [
    "nombre_infected      1146\n",
    "nombre_sain         15922\n",
    "nombre_exposed       2670\n",
    "nombre_recovered      262\n",
    "Name: 15, dtype: int64"
   ]
  },
  {
   "cell_type": "markdown",
   "id": "0e60e8f6",
   "metadata": {},
   "source": [
    "nombre_infected      1572\n",
    "nombre_sain         14729\n",
    "nombre_exposed       3334\n",
    "nombre_recovered      365\n",
    "Name: 16, dtype: int64"
   ]
  },
  {
   "cell_type": "markdown",
   "id": "8ed7acc4",
   "metadata": {},
   "source": [
    "nombre_infected      2108\n",
    "nombre_sain         13207\n",
    "nombre_exposed       4196\n",
    "nombre_recovered      489\n",
    "Name: 17, dtype: int64"
   ]
  },
  {
   "cell_type": "markdown",
   "id": "58746a43",
   "metadata": {},
   "source": [
    "nombre_infected      2750\n",
    "nombre_sain         11554\n",
    "nombre_exposed       5033\n",
    "nombre_recovered      663\n",
    "Name: 18, dtype: int64"
   ]
  },
  {
   "cell_type": "markdown",
   "id": "22dd79df",
   "metadata": {},
   "source": [
    "nombre_infected     3573\n",
    "nombre_sain         9712\n",
    "nombre_exposed      5821\n",
    "nombre_recovered     894\n",
    "Name: 19, dtype: int64"
   ]
  },
  {
   "cell_type": "markdown",
   "id": "d649e6ef",
   "metadata": {},
   "source": [
    "nombre_infected     4454\n",
    "nombre_sain         7838\n",
    "nombre_exposed      6495\n",
    "nombre_recovered    1213\n",
    "Name: 20, dtype: int64"
   ]
  },
  {
   "cell_type": "markdown",
   "id": "43863f8c",
   "metadata": {},
   "source": [
    "nombre_infected     5394\n",
    "nombre_sain         6070\n",
    "nombre_exposed      6909\n",
    "nombre_recovered    1627\n",
    "Name: 21, dtype: int64"
   ]
  },
  {
   "cell_type": "markdown",
   "id": "4023ff60",
   "metadata": {},
   "source": [
    "nombre_infected     6384\n",
    "nombre_sain         4565\n",
    "nombre_exposed      6888\n",
    "nombre_recovered    2163\n",
    "Name: 22, dtype: int64"
   ]
  },
  {
   "cell_type": "markdown",
   "id": "058c1d41",
   "metadata": {},
   "source": [
    "nombre_infected     7407\n",
    "nombre_sain         3262\n",
    "nombre_exposed      6582\n",
    "nombre_recovered    2749\n",
    "Name: 23, dtype: int64"
   ]
  },
  {
   "cell_type": "markdown",
   "id": "3cabbcaa",
   "metadata": {},
   "source": [
    "nombre_infected     8236\n",
    "nombre_sain         2233\n",
    "nombre_exposed      6047\n",
    "nombre_recovered    3484\n",
    "Name: 24, dtype: int64"
   ]
  },
  {
   "cell_type": "markdown",
   "id": "2ef45c9c",
   "metadata": {},
   "source": [
    "nombre_infected     8926\n",
    "nombre_sain         1510\n",
    "nombre_exposed      5275\n",
    "nombre_recovered    4289\n",
    "Name: 25, dtype: int64"
   ]
  },
  {
   "cell_type": "markdown",
   "id": "f45dcc8b",
   "metadata": {},
   "source": [
    "nombre_infected     9305\n",
    "nombre_sain         1008\n",
    "nombre_exposed      4422\n",
    "nombre_recovered    5265\n",
    "Name: 26, dtype: int64"
   ]
  },
  {
   "cell_type": "markdown",
   "id": "739004d9",
   "metadata": {},
   "source": [
    "nombre_infected     9462\n",
    "nombre_sain          654\n",
    "nombre_exposed      3639\n",
    "nombre_recovered    6245\n",
    "Name: 27, dtype: int64"
   ]
  },
  {
   "cell_type": "markdown",
   "id": "741d8692",
   "metadata": {},
   "source": [
    "nombre_infected     9270\n",
    "nombre_sain          447\n",
    "nombre_exposed      2914\n",
    "nombre_recovered    7369\n",
    "Name: 28, dtype: int64"
   ]
  },
  {
   "cell_type": "markdown",
   "id": "1af82370",
   "metadata": {},
   "source": [
    "nombre_infected     8998\n",
    "nombre_sain          339\n",
    "nombre_exposed      2208\n",
    "nombre_recovered    8455\n",
    "Name: 29, dtype: int64"
   ]
  },
  {
   "cell_type": "markdown",
   "id": "5ca39b35",
   "metadata": {},
   "source": [
    "nombre_infected     8643\n",
    "nombre_sain          268\n",
    "nombre_exposed      1672\n",
    "nombre_recovered    9417\n",
    "Name: 30, dtype: int64"
   ]
  },
  {
   "cell_type": "markdown",
   "id": "2e166fa1",
   "metadata": {},
   "source": [
    "nombre_infected      8048\n",
    "nombre_sain           227\n",
    "nombre_exposed       1256\n",
    "nombre_recovered    10469\n",
    "Name: 31, dtype: int64"
   ]
  },
  {
   "cell_type": "markdown",
   "id": "02895e76",
   "metadata": {},
   "source": [
    "nombre_infected      7412\n",
    "nombre_sain           217\n",
    "nombre_exposed        932\n",
    "nombre_recovered    11439\n",
    "Name: 32, dtype: int64"
   ]
  },
  {
   "cell_type": "markdown",
   "id": "0906132e",
   "metadata": {},
   "source": [
    "nombre_infected      6821\n",
    "nombre_sain           193\n",
    "nombre_exposed        699\n",
    "nombre_recovered    12287\n",
    "Name: 33, dtype: int64"
   ]
  },
  {
   "cell_type": "markdown",
   "id": "9f931af4",
   "metadata": {},
   "source": [
    "nombre_infected      6170\n",
    "nombre_sain           178\n",
    "nombre_exposed        541\n",
    "nombre_recovered    13111\n",
    "Name: 34, dtype: int64"
   ]
  },
  {
   "cell_type": "markdown",
   "id": "9f1c6ddd",
   "metadata": {},
   "source": [
    "nombre_infected      5510\n",
    "nombre_sain           167\n",
    "nombre_exposed        442\n",
    "nombre_recovered    13881\n",
    "Name: 35, dtype: int64"
   ]
  },
  {
   "cell_type": "markdown",
   "id": "1fdc7073",
   "metadata": {},
   "source": [
    "nombre_infected      4921\n",
    "nombre_sain           179\n",
    "nombre_exposed        334\n",
    "nombre_recovered    14566\n",
    "Name: 36, dtype: int64"
   ]
  },
  {
   "cell_type": "markdown",
   "id": "daaf9443",
   "metadata": {},
   "source": [
    "nombre_infected      4356\n",
    "nombre_sain           204\n",
    "nombre_exposed        273\n",
    "nombre_recovered    15167\n",
    "Name: 37, dtype: int64"
   ]
  },
  {
   "cell_type": "markdown",
   "id": "ddb9479b",
   "metadata": {},
   "source": [
    "nombre_infected      3826\n",
    "nombre_sain           215\n",
    "nombre_exposed        256\n",
    "nombre_recovered    15703\n",
    "Name: 38, dtype: int64"
   ]
  },
  {
   "cell_type": "markdown",
   "id": "ebcd9491",
   "metadata": {},
   "source": [
    "nombre_infected      3354\n",
    "nombre_sain           246\n",
    "nombre_exposed        220\n",
    "nombre_recovered    16180\n",
    "Name: 39, dtype: int64"
   ]
  },
  {
   "cell_type": "markdown",
   "id": "de49505b",
   "metadata": {},
   "source": [
    "nombre_infected      2984\n",
    "nombre_sain           275\n",
    "nombre_exposed        191\n",
    "nombre_recovered    16550\n",
    "Name: 40, dtype: int64"
   ]
  },
  {
   "cell_type": "markdown",
   "id": "afb3404f",
   "metadata": {},
   "source": [
    "nombre_infected      2604\n",
    "nombre_sain           294\n",
    "nombre_exposed        182\n",
    "nombre_recovered    16920\n",
    "Name: 41, dtype: int64"
   ]
  },
  {
   "cell_type": "markdown",
   "id": "acde4bf7",
   "metadata": {},
   "source": [
    "nombre_infected      2257\n",
    "nombre_sain           320\n",
    "nombre_exposed        180\n",
    "nombre_recovered    17243\n",
    "Name: 42, dtype: int64"
   ]
  },
  {
   "cell_type": "markdown",
   "id": "c8da4e81",
   "metadata": {},
   "source": [
    "nombre_infected      1944\n",
    "nombre_sain           335\n",
    "nombre_exposed        185\n",
    "nombre_recovered    17536\n",
    "Name: 43, dtype: int64"
   ]
  },
  {
   "cell_type": "markdown",
   "id": "296fac04",
   "metadata": {},
   "source": [
    "nombre_infected      1732\n",
    "nombre_sain           373\n",
    "nombre_exposed        166\n",
    "nombre_recovered    17729\n",
    "Name: 44, dtype: int64"
   ]
  },
  {
   "cell_type": "markdown",
   "id": "5110f010",
   "metadata": {},
   "source": [
    "nombre_infected      1467\n",
    "nombre_sain           432\n",
    "nombre_exposed        156\n",
    "nombre_recovered    17945\n",
    "Name: 45, dtype: int64"
   ]
  },
  {
   "cell_type": "markdown",
   "id": "073e0aa1",
   "metadata": {},
   "source": [
    "nombre_infected      1268\n",
    "nombre_sain           495\n",
    "nombre_exposed        147\n",
    "nombre_recovered    18090\n",
    "Name: 46, dtype: int64"
   ]
  },
  {
   "cell_type": "markdown",
   "id": "c115ab9d",
   "metadata": {},
   "source": [
    "nombre_infected      1098\n",
    "nombre_sain           549\n",
    "nombre_exposed        141\n",
    "nombre_recovered    18212\n",
    "Name: 47, dtype: int64"
   ]
  },
  {
   "cell_type": "markdown",
   "id": "1ad5bfb0",
   "metadata": {},
   "source": [
    "nombre_infected       966\n",
    "nombre_sain           598\n",
    "nombre_exposed        143\n",
    "nombre_recovered    18293\n",
    "Name: 48, dtype: int64"
   ]
  },
  {
   "cell_type": "markdown",
   "id": "46a1f726",
   "metadata": {},
   "source": [
    "nombre_infected       838\n",
    "nombre_sain           630\n",
    "nombre_exposed        150\n",
    "nombre_recovered    18382\n",
    "Name: 49, dtype: int64"
   ]
  },
  {
   "cell_type": "markdown",
   "id": "56e372f4",
   "metadata": {},
   "source": [
    "nombre_infected       763\n",
    "nombre_sain           696\n",
    "nombre_exposed        137\n",
    "nombre_recovered    18404\n",
    "Name: 50, dtype: int64"
   ]
  },
  {
   "cell_type": "markdown",
   "id": "f8d1fb2a",
   "metadata": {},
   "source": [
    "nombre_infected       729\n",
    "nombre_sain           734\n",
    "nombre_exposed        133\n",
    "nombre_recovered    18404\n",
    "Name: 51, dtype: int64"
   ]
  },
  {
   "cell_type": "markdown",
   "id": "b820368a",
   "metadata": {},
   "source": [
    "nombre_infected       663\n",
    "nombre_sain           786\n",
    "nombre_exposed        131\n",
    "nombre_recovered    18420\n",
    "Name: 52, dtype: int64"
   ]
  },
  {
   "cell_type": "markdown",
   "id": "1377ca88",
   "metadata": {},
   "source": [
    "nombre_infected       606\n",
    "nombre_sain           848\n",
    "nombre_exposed        121\n",
    "nombre_recovered    18425\n",
    "Name: 53, dtype: int64"
   ]
  },
  {
   "cell_type": "markdown",
   "id": "2a346035",
   "metadata": {},
   "source": [
    "nombre_infected       565\n",
    "nombre_sain           878\n",
    "nombre_exposed        112\n",
    "nombre_recovered    18445\n",
    "Name: 54, dtype: int64"
   ]
  },
  {
   "cell_type": "markdown",
   "id": "3f19de11",
   "metadata": {},
   "source": [
    "nombre_infected       518\n",
    "nombre_sain           917\n",
    "nombre_exposed        118\n",
    "nombre_recovered    18447\n",
    "Name: 55, dtype: int64"
   ]
  },
  {
   "cell_type": "markdown",
   "id": "90bb92ed",
   "metadata": {},
   "source": [
    "nombre_infected       462\n",
    "nombre_sain           937\n",
    "nombre_exposed        130\n",
    "nombre_recovered    18471\n",
    "Name: 56, dtype: int64"
   ]
  },
  {
   "cell_type": "markdown",
   "id": "22b6696d",
   "metadata": {},
   "source": [
    "nombre_infected       420\n",
    "nombre_sain           993\n",
    "nombre_exposed        122\n",
    "nombre_recovered    18465\n",
    "Name: 57, dtype: int64"
   ]
  },
  {
   "cell_type": "markdown",
   "id": "8156cd52",
   "metadata": {},
   "source": [
    "nombre_infected       384\n",
    "nombre_sain          1020\n",
    "nombre_exposed        126\n",
    "nombre_recovered    18470\n",
    "Name: 58, dtype: int64"
   ]
  },
  {
   "cell_type": "markdown",
   "id": "b30e5e38",
   "metadata": {},
   "source": [
    "nombre_infected       362\n",
    "nombre_sain          1069\n",
    "nombre_exposed        118\n",
    "nombre_recovered    18451\n",
    "Name: 59, dtype: int64"
   ]
  },
  {
   "cell_type": "markdown",
   "id": "b159c153",
   "metadata": {},
   "source": [
    "nombre_infected       332\n",
    "nombre_sain          1106\n",
    "nombre_exposed        109\n",
    "nombre_recovered    18453\n",
    "Name: 60, dtype: int64"
   ]
  },
  {
   "cell_type": "markdown",
   "id": "e4693bc3",
   "metadata": {},
   "source": [
    "nombre_infected       330\n",
    "nombre_sain          1134\n",
    "nombre_exposed         93\n",
    "nombre_recovered    18443\n",
    "Name: 61, dtype: int64"
   ]
  },
  {
   "cell_type": "markdown",
   "id": "485b1c52",
   "metadata": {},
   "source": [
    "nombre_infected       312\n",
    "nombre_sain          1146\n",
    "nombre_exposed         95\n",
    "nombre_recovered    18447\n",
    "Name: 62, dtype: int64"
   ]
  },
  {
   "cell_type": "markdown",
   "id": "c1415e31",
   "metadata": {},
   "source": [
    "nombre_infected       282\n",
    "nombre_sain          1193\n",
    "nombre_exposed         99\n",
    "nombre_recovered    18426\n",
    "Name: 63, dtype: int64"
   ]
  },
  {
   "cell_type": "markdown",
   "id": "cbe2d398",
   "metadata": {},
   "source": [
    "nombre_infected       265\n",
    "nombre_sain          1230\n",
    "nombre_exposed         86\n",
    "nombre_recovered    18419\n",
    "Name: 64, dtype: int64"
   ]
  },
  {
   "cell_type": "markdown",
   "id": "7a8f6b21",
   "metadata": {},
   "source": [
    "nombre_infected       257\n",
    "nombre_sain          1274\n",
    "nombre_exposed         80\n",
    "nombre_recovered    18389\n",
    "Name: 65, dtype: int64"
   ]
  },
  {
   "cell_type": "markdown",
   "id": "123153c7",
   "metadata": {},
   "source": [
    "nombre_infected       240\n",
    "nombre_sain          1329\n",
    "nombre_exposed         78\n",
    "nombre_recovered    18353\n",
    "Name: 66, dtype: int64"
   ]
  },
  {
   "cell_type": "markdown",
   "id": "f4b2d86a",
   "metadata": {},
   "source": [
    "nombre_infected       225\n",
    "nombre_sain          1369\n",
    "nombre_exposed         72\n",
    "nombre_recovered    18334\n",
    "Name: 67, dtype: int64"
   ]
  },
  {
   "cell_type": "markdown",
   "id": "0dc4bf7b",
   "metadata": {},
   "source": [
    "nombre_infected       214\n",
    "nombre_sain          1438\n",
    "nombre_exposed         69\n",
    "nombre_recovered    18279\n",
    "Name: 68, dtype: int64"
   ]
  },
  {
   "cell_type": "markdown",
   "id": "0f8ef84a",
   "metadata": {},
   "source": [
    "nombre_infected       197\n",
    "nombre_sain          1488\n",
    "nombre_exposed         75\n",
    "nombre_recovered    18240\n",
    "Name: 69, dtype: int64"
   ]
  },
  {
   "cell_type": "markdown",
   "id": "aa0cf9a4",
   "metadata": {},
   "source": [
    "nombre_infected       197\n",
    "nombre_sain          1528\n",
    "nombre_exposed         64\n",
    "nombre_recovered    18211\n",
    "Name: 70, dtype: int64"
   ]
  },
  {
   "cell_type": "markdown",
   "id": "891ba450",
   "metadata": {},
   "source": [
    "nombre_infected       185\n",
    "nombre_sain          1570\n",
    "nombre_exposed         66\n",
    "nombre_recovered    18179\n",
    "Name: 71, dtype: int64"
   ]
  },
  {
   "cell_type": "markdown",
   "id": "979cdfc2",
   "metadata": {},
   "source": [
    "nombre_infected       170\n",
    "nombre_sain          1615\n",
    "nombre_exposed         62\n",
    "nombre_recovered    18153\n",
    "Name: 72, dtype: int64"
   ]
  },
  {
   "cell_type": "markdown",
   "id": "1a614f55",
   "metadata": {},
   "source": [
    "nombre_infected       149\n",
    "nombre_sain          1660\n",
    "nombre_exposed         69\n",
    "nombre_recovered    18122\n",
    "Name: 73, dtype: int64"
   ]
  },
  {
   "cell_type": "markdown",
   "id": "566e45ed",
   "metadata": {},
   "source": [
    "nombre_infected       133\n",
    "nombre_sain          1703\n",
    "nombre_exposed         76\n",
    "nombre_recovered    18088\n",
    "Name: 74, dtype: int64"
   ]
  },
  {
   "cell_type": "markdown",
   "id": "3d0e5895",
   "metadata": {},
   "source": [
    "nombre_infected       120\n",
    "nombre_sain          1743\n",
    "nombre_exposed         74\n",
    "nombre_recovered    18063\n",
    "Name: 75, dtype: int64"
   ]
  },
  {
   "cell_type": "markdown",
   "id": "5e69dd9d",
   "metadata": {},
   "source": [
    "nombre_infected       115\n",
    "nombre_sain          1793\n",
    "nombre_exposed         71\n",
    "nombre_recovered    18021\n",
    "Name: 76, dtype: int64"
   ]
  },
  {
   "cell_type": "markdown",
   "id": "0889c920",
   "metadata": {},
   "source": [
    "nombre_infected       112\n",
    "nombre_sain          1839\n",
    "nombre_exposed         67\n",
    "nombre_recovered    17982\n",
    "Name: 77, dtype: int64"
   ]
  },
  {
   "cell_type": "markdown",
   "id": "bca50871",
   "metadata": {},
   "source": [
    "nombre_infected       112\n",
    "nombre_sain          1891\n",
    "nombre_exposed         62\n",
    "nombre_recovered    17935\n",
    "Name: 78, dtype: int64"
   ]
  },
  {
   "cell_type": "markdown",
   "id": "ff81cd39",
   "metadata": {},
   "source": [
    "nombre_infected       103\n",
    "nombre_sain          1940\n",
    "nombre_exposed         65\n",
    "nombre_recovered    17892\n",
    "Name: 79, dtype: int64"
   ]
  },
  {
   "cell_type": "markdown",
   "id": "61563b8a",
   "metadata": {},
   "source": [
    "nombre_infected        94\n",
    "nombre_sain          1987\n",
    "nombre_exposed         68\n",
    "nombre_recovered    17851\n",
    "Name: 80, dtype: int64"
   ]
  },
  {
   "cell_type": "markdown",
   "id": "ca38459e",
   "metadata": {},
   "source": [
    "nombre_infected        93\n",
    "nombre_sain          2044\n",
    "nombre_exposed         65\n",
    "nombre_recovered    17798\n",
    "Name: 81, dtype: int64"
   ]
  },
  {
   "cell_type": "markdown",
   "id": "a98f9f8e",
   "metadata": {},
   "source": [
    "nombre_infected        91\n",
    "nombre_sain          2105\n",
    "nombre_exposed         64\n",
    "nombre_recovered    17740\n",
    "Name: 82, dtype: int64"
   ]
  },
  {
   "cell_type": "markdown",
   "id": "2e9941ab",
   "metadata": {},
   "source": [
    "nombre_infected        94\n",
    "nombre_sain          2162\n",
    "nombre_exposed         64\n",
    "nombre_recovered    17680\n",
    "Name: 83, dtype: int64"
   ]
  },
  {
   "cell_type": "markdown",
   "id": "124ffba4",
   "metadata": {},
   "source": [
    "nombre_infected        97\n",
    "nombre_sain          2221\n",
    "nombre_exposed         61\n",
    "nombre_recovered    17621\n",
    "Name: 84, dtype: int64"
   ]
  },
  {
   "cell_type": "markdown",
   "id": "8b250ffc",
   "metadata": {},
   "source": [
    "nombre_infected        96\n",
    "nombre_sain          2269\n",
    "nombre_exposed         63\n",
    "nombre_recovered    17572\n",
    "Name: 85, dtype: int64"
   ]
  },
  {
   "cell_type": "markdown",
   "id": "64113cec",
   "metadata": {},
   "source": [
    "nombre_infected       101\n",
    "nombre_sain          2309\n",
    "nombre_exposed         60\n",
    "nombre_recovered    17530\n",
    "Name: 86, dtype: int64"
   ]
  },
  {
   "cell_type": "markdown",
   "id": "35c790f4",
   "metadata": {},
   "source": [
    "nombre_infected        97\n",
    "nombre_sain          2350\n",
    "nombre_exposed         64\n",
    "nombre_recovered    17489\n",
    "Name: 87, dtype: int64"
   ]
  },
  {
   "cell_type": "markdown",
   "id": "db766819",
   "metadata": {},
   "source": [
    "nombre_infected        91\n",
    "nombre_sain          2389\n",
    "nombre_exposed         74\n",
    "nombre_recovered    17446\n",
    "Name: 88, dtype: int64"
   ]
  },
  {
   "cell_type": "markdown",
   "id": "1f57b3d5",
   "metadata": {},
   "source": [
    "nombre_infected        94\n",
    "nombre_sain          2425\n",
    "nombre_exposed         76\n",
    "nombre_recovered    17405\n",
    "Name: 89, dtype: int64"
   ]
  },
  {
   "cell_type": "markdown",
   "id": "dd0b78e5",
   "metadata": {},
   "source": [
    "nombre_infected        96\n",
    "nombre_sain          2478\n",
    "nombre_exposed         67\n",
    "nombre_recovered    17359\n",
    "Name: 90, dtype: int64"
   ]
  },
  {
   "cell_type": "markdown",
   "id": "61210fa5",
   "metadata": {},
   "source": [
    "nombre_infected       104\n",
    "nombre_sain          2523\n",
    "nombre_exposed         58\n",
    "nombre_recovered    17315\n",
    "Name: 91, dtype: int64"
   ]
  },
  {
   "cell_type": "markdown",
   "id": "3672018b",
   "metadata": {},
   "source": [
    "nombre_infected        94\n",
    "nombre_sain          2567\n",
    "nombre_exposed         66\n",
    "nombre_recovered    17273\n",
    "Name: 92, dtype: int64"
   ]
  },
  {
   "cell_type": "markdown",
   "id": "f5b71f58",
   "metadata": {},
   "source": [
    "nombre_infected        99\n",
    "nombre_sain          2612\n",
    "nombre_exposed         64\n",
    "nombre_recovered    17225\n",
    "Name: 93, dtype: int64"
   ]
  },
  {
   "cell_type": "markdown",
   "id": "46c1faa1",
   "metadata": {},
   "source": [
    "nombre_infected       102\n",
    "nombre_sain          2650\n",
    "nombre_exposed         76\n",
    "nombre_recovered    17172\n",
    "Name: 94, dtype: int64"
   ]
  },
  {
   "cell_type": "markdown",
   "id": "6036d606",
   "metadata": {},
   "source": [
    "nombre_infected       111\n",
    "nombre_sain          2690\n",
    "nombre_exposed         82\n",
    "nombre_recovered    17117\n",
    "Name: 95, dtype: int64"
   ]
  },
  {
   "cell_type": "markdown",
   "id": "c08358c2",
   "metadata": {},
   "source": [
    "nombre_infected       116\n",
    "nombre_sain          2713\n",
    "nombre_exposed         92\n",
    "nombre_recovered    17079\n",
    "Name: 96, dtype: int64"
   ]
  },
  {
   "cell_type": "markdown",
   "id": "54b05147",
   "metadata": {},
   "source": [
    "nombre_infected       123\n",
    "nombre_sain          2746\n",
    "nombre_exposed         91\n",
    "nombre_recovered    17040\n",
    "Name: 97, dtype: int64"
   ]
  },
  {
   "cell_type": "markdown",
   "id": "3ffc0211",
   "metadata": {},
   "source": [
    "nombre_infected       126\n",
    "nombre_sain          2765\n",
    "nombre_exposed        102\n",
    "nombre_recovered    17007\n",
    "Name: 98, dtype: int64"
   ]
  },
  {
   "cell_type": "markdown",
   "id": "8a661cb2",
   "metadata": {},
   "source": [
    "nombre_infected       120\n",
    "nombre_sain          2779\n",
    "nombre_exposed        108\n",
    "nombre_recovered    16993\n",
    "Name: 99, dtype: int64"
   ]
  },
  {
   "cell_type": "markdown",
   "id": "8b2ebadf",
   "metadata": {},
   "source": [
    "nombre_infected       127\n",
    "nombre_sain          2802\n",
    "nombre_exposed        114\n",
    "nombre_recovered    16957\n",
    "Name: 100, dtype: int64"
   ]
  },
  {
   "cell_type": "markdown",
   "id": "980face8",
   "metadata": {},
   "source": [
    "nombre_infected       131\n",
    "nombre_sain          2824\n",
    "nombre_exposed        114\n",
    "nombre_recovered    16931\n",
    "Name: 101, dtype: int64"
   ]
  },
  {
   "cell_type": "markdown",
   "id": "9e413ef5",
   "metadata": {},
   "source": [
    "nombre_infected       144\n",
    "nombre_sain          2854\n",
    "nombre_exposed        103\n",
    "nombre_recovered    16899\n",
    "Name: 102, dtype: int64"
   ]
  },
  {
   "cell_type": "markdown",
   "id": "4542e2bd",
   "metadata": {},
   "source": [
    "nombre_infected       152\n",
    "nombre_sain          2883\n",
    "nombre_exposed        103\n",
    "nombre_recovered    16862\n",
    "Name: 103, dtype: int64"
   ]
  },
  {
   "cell_type": "markdown",
   "id": "b7ea2fb6",
   "metadata": {},
   "source": [
    "nombre_infected       158\n",
    "nombre_sain          2887\n",
    "nombre_exposed        120\n",
    "nombre_recovered    16835\n",
    "Name: 104, dtype: int64"
   ]
  },
  {
   "cell_type": "markdown",
   "id": "a94709d0",
   "metadata": {},
   "source": [
    "nombre_infected       159\n",
    "nombre_sain          2913\n",
    "nombre_exposed        127\n",
    "nombre_recovered    16801\n",
    "Name: 105, dtype: int64"
   ]
  },
  {
   "cell_type": "markdown",
   "id": "99674704",
   "metadata": {},
   "source": [
    "nombre_infected       176\n",
    "nombre_sain          2934\n",
    "nombre_exposed        119\n",
    "nombre_recovered    16771\n",
    "Name: 106, dtype: int64"
   ]
  },
  {
   "cell_type": "markdown",
   "id": "76c9d260",
   "metadata": {},
   "source": [
    "nombre_infected       189\n",
    "nombre_sain          2961\n",
    "nombre_exposed        115\n",
    "nombre_recovered    16735\n",
    "Name: 107, dtype: int64"
   ]
  },
  {
   "cell_type": "markdown",
   "id": "6f2910f8",
   "metadata": {},
   "source": [
    "nombre_infected       186\n",
    "nombre_sain          2965\n",
    "nombre_exposed        129\n",
    "nombre_recovered    16720\n",
    "Name: 108, dtype: int64"
   ]
  },
  {
   "cell_type": "markdown",
   "id": "8c2b0309",
   "metadata": {},
   "source": [
    "nombre_infected       182\n",
    "nombre_sain          2990\n",
    "nombre_exposed        140\n",
    "nombre_recovered    16688\n",
    "Name: 109, dtype: int64"
   ]
  },
  {
   "cell_type": "markdown",
   "id": "9fbdaf43",
   "metadata": {},
   "source": [
    "nombre_infected       189\n",
    "nombre_sain          3014\n",
    "nombre_exposed        148\n",
    "nombre_recovered    16649\n",
    "Name: 110, dtype: int64"
   ]
  },
  {
   "cell_type": "markdown",
   "id": "4bbea97c",
   "metadata": {},
   "source": [
    "nombre_infected       194\n",
    "nombre_sain          3027\n",
    "nombre_exposed        161\n",
    "nombre_recovered    16618\n",
    "Name: 111, dtype: int64"
   ]
  },
  {
   "cell_type": "markdown",
   "id": "2c3bc080",
   "metadata": {},
   "source": [
    "nombre_infected       197\n",
    "nombre_sain          3075\n",
    "nombre_exposed        171\n",
    "nombre_recovered    16557\n",
    "Name: 112, dtype: int64"
   ]
  },
  {
   "cell_type": "markdown",
   "id": "df4cf9f5",
   "metadata": {},
   "source": [
    "nombre_infected       209\n",
    "nombre_sain          3087\n",
    "nombre_exposed        174\n",
    "nombre_recovered    16530\n",
    "Name: 113, dtype: int64"
   ]
  },
  {
   "cell_type": "markdown",
   "id": "84c44084",
   "metadata": {},
   "source": [
    "nombre_infected       228\n",
    "nombre_sain          3124\n",
    "nombre_exposed        163\n",
    "nombre_recovered    16485\n",
    "Name: 114, dtype: int64"
   ]
  },
  {
   "cell_type": "markdown",
   "id": "37538c40",
   "metadata": {},
   "source": [
    "nombre_infected       247\n",
    "nombre_sain          3132\n",
    "nombre_exposed        172\n",
    "nombre_recovered    16449\n",
    "Name: 115, dtype: int64"
   ]
  },
  {
   "cell_type": "markdown",
   "id": "5addba77",
   "metadata": {},
   "source": [
    "nombre_infected       244\n",
    "nombre_sain          3141\n",
    "nombre_exposed        195\n",
    "nombre_recovered    16420\n",
    "Name: 116, dtype: int64"
   ]
  },
  {
   "cell_type": "markdown",
   "id": "8857d993",
   "metadata": {},
   "source": [
    "nombre_infected       248\n",
    "nombre_sain          3143\n",
    "nombre_exposed        211\n",
    "nombre_recovered    16398\n",
    "Name: 117, dtype: int64"
   ]
  },
  {
   "cell_type": "markdown",
   "id": "7b3bf126",
   "metadata": {},
   "source": [
    "nombre_infected       260\n",
    "nombre_sain          3125\n",
    "nombre_exposed        232\n",
    "nombre_recovered    16383\n",
    "Name: 118, dtype: int64"
   ]
  },
  {
   "cell_type": "markdown",
   "id": "a92f5175",
   "metadata": {},
   "source": [
    "nombre_infected       262\n",
    "nombre_sain          3123\n",
    "nombre_exposed        246\n",
    "nombre_recovered    16369\n",
    "Name: 119, dtype: int64"
   ]
  },
  {
   "cell_type": "markdown",
   "id": "6bb055d3",
   "metadata": {},
   "source": [
    "nombre_infected       268\n",
    "nombre_sain          3121\n",
    "nombre_exposed        245\n",
    "nombre_recovered    16366\n",
    "Name: 120, dtype: int64"
   ]
  },
  {
   "cell_type": "markdown",
   "id": "4d50cfb6",
   "metadata": {},
   "source": [
    "nombre_infected       298\n",
    "nombre_sain          3145\n",
    "nombre_exposed        226\n",
    "nombre_recovered    16331\n",
    "Name: 121, dtype: int64"
   ]
  },
  {
   "cell_type": "markdown",
   "id": "e4cf5e6d",
   "metadata": {},
   "source": [
    "nombre_infected       316\n",
    "nombre_sain          3157\n",
    "nombre_exposed        222\n",
    "nombre_recovered    16305\n",
    "Name: 122, dtype: int64"
   ]
  },
  {
   "cell_type": "markdown",
   "id": "f92d5e79",
   "metadata": {},
   "source": [
    "nombre_infected       341\n",
    "nombre_sain          3141\n",
    "nombre_exposed        229\n",
    "nombre_recovered    16289\n",
    "Name: 123, dtype: int64"
   ]
  },
  {
   "cell_type": "markdown",
   "id": "72a3c08e",
   "metadata": {},
   "source": [
    "nombre_infected       359\n",
    "nombre_sain          3130\n",
    "nombre_exposed        263\n",
    "nombre_recovered    16248\n",
    "Name: 124, dtype: int64"
   ]
  },
  {
   "cell_type": "markdown",
   "id": "d8703cae",
   "metadata": {},
   "source": [
    "nombre_infected       389\n",
    "nombre_sain          3133\n",
    "nombre_exposed        265\n",
    "nombre_recovered    16213\n",
    "Name: 125, dtype: int64"
   ]
  },
  {
   "cell_type": "markdown",
   "id": "5f9dee9d",
   "metadata": {},
   "source": [
    "nombre_infected       400\n",
    "nombre_sain          3113\n",
    "nombre_exposed        280\n",
    "nombre_recovered    16207\n",
    "Name: 126, dtype: int64"
   ]
  },
  {
   "cell_type": "markdown",
   "id": "abe31d81",
   "metadata": {},
   "source": [
    "nombre_infected       403\n",
    "nombre_sain          3105\n",
    "nombre_exposed        293\n",
    "nombre_recovered    16199\n",
    "Name: 127, dtype: int64"
   ]
  },
  {
   "cell_type": "markdown",
   "id": "8ba159b6",
   "metadata": {},
   "source": [
    "nombre_infected       421\n",
    "nombre_sain          3101\n",
    "nombre_exposed        293\n",
    "nombre_recovered    16185\n",
    "Name: 128, dtype: int64"
   ]
  },
  {
   "cell_type": "markdown",
   "id": "47c39211",
   "metadata": {},
   "source": [
    "nombre_infected       446\n",
    "nombre_sain          3084\n",
    "nombre_exposed        293\n",
    "nombre_recovered    16177\n",
    "Name: 129, dtype: int64"
   ]
  },
  {
   "cell_type": "markdown",
   "id": "ff423e84",
   "metadata": {},
   "source": [
    "nombre_infected       459\n",
    "nombre_sain          3053\n",
    "nombre_exposed        331\n",
    "nombre_recovered    16157\n",
    "Name: 130, dtype: int64"
   ]
  },
  {
   "cell_type": "markdown",
   "id": "21866a7c",
   "metadata": {},
   "source": [
    "nombre_infected       483\n",
    "nombre_sain          3024\n",
    "nombre_exposed        346\n",
    "nombre_recovered    16147\n",
    "Name: 131, dtype: int64"
   ]
  },
  {
   "cell_type": "markdown",
   "id": "349f110f",
   "metadata": {},
   "source": [
    "nombre_infected       520\n",
    "nombre_sain          3002\n",
    "nombre_exposed        349\n",
    "nombre_recovered    16129\n",
    "Name: 132, dtype: int64"
   ]
  },
  {
   "cell_type": "markdown",
   "id": "26243d11",
   "metadata": {},
   "source": [
    "nombre_infected       515\n",
    "nombre_sain          2971\n",
    "nombre_exposed        369\n",
    "nombre_recovered    16145\n",
    "Name: 133, dtype: int64"
   ]
  },
  {
   "cell_type": "markdown",
   "id": "a34d29d1",
   "metadata": {},
   "source": [
    "nombre_infected       555\n",
    "nombre_sain          2959\n",
    "nombre_exposed        366\n",
    "nombre_recovered    16120\n",
    "Name: 134, dtype: int64"
   ]
  },
  {
   "cell_type": "markdown",
   "id": "bbee629a",
   "metadata": {},
   "source": [
    "nombre_infected       577\n",
    "nombre_sain          2923\n",
    "nombre_exposed        365\n",
    "nombre_recovered    16135\n",
    "Name: 135, dtype: int64"
   ]
  },
  {
   "cell_type": "markdown",
   "id": "875dcd7c",
   "metadata": {},
   "source": [
    "nombre_infected       581\n",
    "nombre_sain          2865\n",
    "nombre_exposed        401\n",
    "nombre_recovered    16153\n",
    "Name: 136, dtype: int64"
   ]
  },
  {
   "cell_type": "markdown",
   "id": "3c39f7e2",
   "metadata": {},
   "source": [
    "nombre_infected       608\n",
    "nombre_sain          2824\n",
    "nombre_exposed        414\n",
    "nombre_recovered    16154\n",
    "Name: 137, dtype: int64"
   ]
  },
  {
   "cell_type": "markdown",
   "id": "daaf843c",
   "metadata": {},
   "source": [
    "nombre_infected       631\n",
    "nombre_sain          2795\n",
    "nombre_exposed        432\n",
    "nombre_recovered    16142\n",
    "Name: 138, dtype: int64"
   ]
  },
  {
   "cell_type": "markdown",
   "id": "d885d216",
   "metadata": {},
   "source": [
    "nombre_infected       635\n",
    "nombre_sain          2734\n",
    "nombre_exposed        469\n",
    "nombre_recovered    16162\n",
    "Name: 139, dtype: int64"
   ]
  },
  {
   "cell_type": "markdown",
   "id": "c497ce25",
   "metadata": {},
   "source": [
    "nombre_infected       656\n",
    "nombre_sain          2672\n",
    "nombre_exposed        488\n",
    "nombre_recovered    16184\n",
    "Name: 140, dtype: int64"
   ]
  },
  {
   "cell_type": "markdown",
   "id": "dcdb9c52",
   "metadata": {},
   "source": [
    "nombre_infected       686\n",
    "nombre_sain          2621\n",
    "nombre_exposed        500\n",
    "nombre_recovered    16193\n",
    "Name: 141, dtype: int64"
   ]
  },
  {
   "cell_type": "markdown",
   "id": "abca700e",
   "metadata": {},
   "source": [
    "nombre_infected       718\n",
    "nombre_sain          2568\n",
    "nombre_exposed        501\n",
    "nombre_recovered    16213\n",
    "Name: 142, dtype: int64"
   ]
  },
  {
   "cell_type": "markdown",
   "id": "51ce7c53",
   "metadata": {},
   "source": [
    "nombre_infected       744\n",
    "nombre_sain          2526\n",
    "nombre_exposed        495\n",
    "nombre_recovered    16235\n",
    "Name: 143, dtype: int64"
   ]
  },
  {
   "cell_type": "markdown",
   "id": "c21bca68",
   "metadata": {},
   "source": [
    "nombre_infected       780\n",
    "nombre_sain          2480\n",
    "nombre_exposed        482\n",
    "nombre_recovered    16258\n",
    "Name: 144, dtype: int64"
   ]
  },
  {
   "cell_type": "markdown",
   "id": "0cc15f11",
   "metadata": {},
   "source": [
    "nombre_infected       794\n",
    "nombre_sain          2453\n",
    "nombre_exposed        472\n",
    "nombre_recovered    16281\n",
    "Name: 145, dtype: int64"
   ]
  },
  {
   "cell_type": "markdown",
   "id": "f48a2967",
   "metadata": {},
   "source": [
    "nombre_infected       796\n",
    "nombre_sain          2401\n",
    "nombre_exposed        484\n",
    "nombre_recovered    16319\n",
    "Name: 146, dtype: int64"
   ]
  },
  {
   "cell_type": "markdown",
   "id": "822dee23",
   "metadata": {},
   "source": [
    "nombre_infected       789\n",
    "nombre_sain          2358\n",
    "nombre_exposed        495\n",
    "nombre_recovered    16358\n",
    "Name: 147, dtype: int64"
   ]
  },
  {
   "cell_type": "markdown",
   "id": "132ed0ca",
   "metadata": {},
   "source": [
    "nombre_infected       841\n",
    "nombre_sain          2346\n",
    "nombre_exposed        451\n",
    "nombre_recovered    16362\n",
    "Name: 148, dtype: int64"
   ]
  },
  {
   "cell_type": "markdown",
   "id": "35d39da2",
   "metadata": {},
   "source": [
    "nombre_infected       863\n",
    "nombre_sain          2320\n",
    "nombre_exposed        449\n",
    "nombre_recovered    16368\n",
    "Name: 149, dtype: int64"
   ]
  },
  {
   "cell_type": "markdown",
   "id": "8f3bd796",
   "metadata": {},
   "source": [
    "nombre_infected       852\n",
    "nombre_sain          2290\n",
    "nombre_exposed        460\n",
    "nombre_recovered    16398\n",
    "Name: 150, dtype: int64"
   ]
  },
  {
   "cell_type": "markdown",
   "id": "b0288249",
   "metadata": {},
   "source": [
    "nombre_infected       851\n",
    "nombre_sain          2254\n",
    "nombre_exposed        471\n",
    "nombre_recovered    16424\n",
    "Name: 151, dtype: int64"
   ]
  },
  {
   "cell_type": "markdown",
   "id": "86005676",
   "metadata": {},
   "source": [
    "nombre_infected       859\n",
    "nombre_sain          2222\n",
    "nombre_exposed        461\n",
    "nombre_recovered    16458\n",
    "Name: 152, dtype: int64"
   ]
  },
  {
   "cell_type": "markdown",
   "id": "30431ab5",
   "metadata": {},
   "source": [
    "nombre_infected       870\n",
    "nombre_sain          2155\n",
    "nombre_exposed        487\n",
    "nombre_recovered    16488\n",
    "Name: 153, dtype: int64"
   ]
  },
  {
   "cell_type": "markdown",
   "id": "7293a924",
   "metadata": {},
   "source": [
    "nombre_infected       884\n",
    "nombre_sain          2129\n",
    "nombre_exposed        486\n",
    "nombre_recovered    16501\n",
    "Name: 154, dtype: int64"
   ]
  },
  {
   "cell_type": "markdown",
   "id": "880797c6",
   "metadata": {},
   "source": [
    "nombre_infected       886\n",
    "nombre_sain          2090\n",
    "nombre_exposed        494\n",
    "nombre_recovered    16530\n",
    "Name: 155, dtype: int64"
   ]
  },
  {
   "cell_type": "markdown",
   "id": "ba87b7da",
   "metadata": {},
   "source": [
    "nombre_infected       870\n",
    "nombre_sain          2090\n",
    "nombre_exposed        494\n",
    "nombre_recovered    16546\n",
    "Name: 156, dtype: int64"
   ]
  },
  {
   "cell_type": "markdown",
   "id": "7244e301",
   "metadata": {},
   "source": [
    "nombre_infected       886\n",
    "nombre_sain          2069\n",
    "nombre_exposed        478\n",
    "nombre_recovered    16567\n",
    "Name: 157, dtype: int64"
   ]
  },
  {
   "cell_type": "markdown",
   "id": "062b8076",
   "metadata": {},
   "source": [
    "nombre_infected       882\n",
    "nombre_sain          2034\n",
    "nombre_exposed        478\n",
    "nombre_recovered    16606\n",
    "Name: 158, dtype: int64"
   ]
  },
  {
   "cell_type": "markdown",
   "id": "0eb262a3",
   "metadata": {},
   "source": [
    "nombre_infected       862\n",
    "nombre_sain          2017\n",
    "nombre_exposed        486\n",
    "nombre_recovered    16635\n",
    "Name: 159, dtype: int64"
   ]
  },
  {
   "cell_type": "markdown",
   "id": "4f9452b5",
   "metadata": {},
   "source": [
    "nombre_infected       867\n",
    "nombre_sain          2016\n",
    "nombre_exposed        460\n",
    "nombre_recovered    16657\n",
    "Name: 160, dtype: int64"
   ]
  },
  {
   "cell_type": "markdown",
   "id": "dc230716",
   "metadata": {},
   "source": [
    "nombre_infected       857\n",
    "nombre_sain          1981\n",
    "nombre_exposed        462\n",
    "nombre_recovered    16700\n",
    "Name: 161, dtype: int64"
   ]
  },
  {
   "cell_type": "markdown",
   "id": "9ce35619",
   "metadata": {},
   "source": [
    "nombre_infected       838\n",
    "nombre_sain          1968\n",
    "nombre_exposed        451\n",
    "nombre_recovered    16743\n",
    "Name: 162, dtype: int64"
   ]
  },
  {
   "cell_type": "markdown",
   "id": "22159aca",
   "metadata": {},
   "source": [
    "nombre_infected       828\n",
    "nombre_sain          1954\n",
    "nombre_exposed        447\n",
    "nombre_recovered    16771\n",
    "Name: 163, dtype: int64"
   ]
  },
  {
   "cell_type": "markdown",
   "id": "a9f453ca",
   "metadata": {},
   "source": [
    "nombre_infected       828\n",
    "nombre_sain          1943\n",
    "nombre_exposed        439\n",
    "nombre_recovered    16790\n",
    "Name: 164, dtype: int64"
   ]
  },
  {
   "cell_type": "markdown",
   "id": "00f691a8",
   "metadata": {},
   "source": [
    "nombre_infected       806\n",
    "nombre_sain          1931\n",
    "nombre_exposed        423\n",
    "nombre_recovered    16840\n",
    "Name: 165, dtype: int64"
   ]
  },
  {
   "cell_type": "markdown",
   "id": "f5f52d3e",
   "metadata": {},
   "source": [
    "nombre_infected       794\n",
    "nombre_sain          1914\n",
    "nombre_exposed        419\n",
    "nombre_recovered    16873\n",
    "Name: 166, dtype: int64"
   ]
  },
  {
   "cell_type": "markdown",
   "id": "64bee1ab",
   "metadata": {},
   "source": [
    "nombre_infected       763\n",
    "nombre_sain          1892\n",
    "nombre_exposed        427\n",
    "nombre_recovered    16918\n",
    "Name: 167, dtype: int64"
   ]
  },
  {
   "cell_type": "markdown",
   "id": "92db768f",
   "metadata": {},
   "source": [
    "nombre_infected       739\n",
    "nombre_sain          1880\n",
    "nombre_exposed        424\n",
    "nombre_recovered    16957\n",
    "Name: 168, dtype: int64"
   ]
  },
  {
   "cell_type": "markdown",
   "id": "587e5c60",
   "metadata": {},
   "source": [
    "nombre_infected       726\n",
    "nombre_sain          1878\n",
    "nombre_exposed        413\n",
    "nombre_recovered    16983\n",
    "Name: 169, dtype: int64"
   ]
  },
  {
   "cell_type": "markdown",
   "id": "29f7b39b",
   "metadata": {},
   "source": [
    "nombre_infected       699\n",
    "nombre_sain          1861\n",
    "nombre_exposed        391\n",
    "nombre_recovered    17049\n",
    "Name: 170, dtype: int64"
   ]
  },
  {
   "cell_type": "markdown",
   "id": "4bd544d7",
   "metadata": {},
   "source": [
    "nombre_infected       702\n",
    "nombre_sain          1858\n",
    "nombre_exposed        367\n",
    "nombre_recovered    17073\n",
    "Name: 171, dtype: int64"
   ]
  },
  {
   "cell_type": "markdown",
   "id": "942566af",
   "metadata": {},
   "source": [
    "nombre_infected       694\n",
    "nombre_sain          1827\n",
    "nombre_exposed        379\n",
    "nombre_recovered    17100\n",
    "Name: 172, dtype: int64"
   ]
  },
  {
   "cell_type": "markdown",
   "id": "c7dbb4f3",
   "metadata": {},
   "source": [
    "nombre_infected       679\n",
    "nombre_sain          1814\n",
    "nombre_exposed        361\n",
    "nombre_recovered    17146\n",
    "Name: 173, dtype: int64"
   ]
  },
  {
   "cell_type": "markdown",
   "id": "1a390116",
   "metadata": {},
   "source": [
    "nombre_infected       678\n",
    "nombre_sain          1825\n",
    "nombre_exposed        337\n",
    "nombre_recovered    17160\n",
    "Name: 174, dtype: int64"
   ]
  },
  {
   "cell_type": "markdown",
   "id": "b5d0cba5",
   "metadata": {},
   "source": [
    "nombre_infected       645\n",
    "nombre_sain          1831\n",
    "nombre_exposed        332\n",
    "nombre_recovered    17192\n",
    "Name: 175, dtype: int64"
   ]
  },
  {
   "cell_type": "markdown",
   "id": "f5035809",
   "metadata": {},
   "source": [
    "nombre_infected       617\n",
    "nombre_sain          1838\n",
    "nombre_exposed        323\n",
    "nombre_recovered    17222\n",
    "Name: 176, dtype: int64"
   ]
  },
  {
   "cell_type": "markdown",
   "id": "33201eca",
   "metadata": {},
   "source": [
    "nombre_infected       573\n",
    "nombre_sain          1854\n",
    "nombre_exposed        321\n",
    "nombre_recovered    17252\n",
    "Name: 177, dtype: int64"
   ]
  },
  {
   "cell_type": "markdown",
   "id": "bdc7a8b4",
   "metadata": {},
   "source": [
    "nombre_infected       579\n",
    "nombre_sain          1875\n",
    "nombre_exposed        290\n",
    "nombre_recovered    17256\n",
    "Name: 178, dtype: int64"
   ]
  },
  {
   "cell_type": "markdown",
   "id": "d94aae0a",
   "metadata": {},
   "source": [
    "nombre_infected       576\n",
    "nombre_sain          1882\n",
    "nombre_exposed        291\n",
    "nombre_recovered    17251\n",
    "Name: 179, dtype: int64"
   ]
  },
  {
   "cell_type": "markdown",
   "id": "dd0fd9bc",
   "metadata": {},
   "source": [
    "nombre_infected       555\n",
    "nombre_sain          1890\n",
    "nombre_exposed        277\n",
    "nombre_recovered    17278\n",
    "Name: 180, dtype: int64"
   ]
  },
  {
   "cell_type": "markdown",
   "id": "61c11928",
   "metadata": {},
   "source": [
    "nombre_infected       522\n",
    "nombre_sain          1926\n",
    "nombre_exposed        274\n",
    "nombre_recovered    17278\n",
    "Name: 181, dtype: int64"
   ]
  },
  {
   "cell_type": "markdown",
   "id": "53618204",
   "metadata": {},
   "source": [
    "nombre_infected       507\n",
    "nombre_sain          1944\n",
    "nombre_exposed        271\n",
    "nombre_recovered    17278\n",
    "Name: 182, dtype: int64"
   ]
  },
  {
   "cell_type": "markdown",
   "id": "dd611d15",
   "metadata": {},
   "source": [
    "nombre_infected       473\n",
    "nombre_sain          1984\n",
    "nombre_exposed        272\n",
    "nombre_recovered    17271\n",
    "Name: 183, dtype: int64"
   ]
  },
  {
   "cell_type": "markdown",
   "id": "95953d6f",
   "metadata": {},
   "source": [
    "nombre_infected       455\n",
    "nombre_sain          2015\n",
    "nombre_exposed        272\n",
    "nombre_recovered    17258\n",
    "Name: 184, dtype: int64"
   ]
  },
  {
   "cell_type": "markdown",
   "id": "f858ea31",
   "metadata": {},
   "source": [
    "nombre_infected       435\n",
    "nombre_sain          2054\n",
    "nombre_exposed        264\n",
    "nombre_recovered    17247\n",
    "Name: 185, dtype: int64"
   ]
  },
  {
   "cell_type": "markdown",
   "id": "c82a218c",
   "metadata": {},
   "source": [
    "nombre_infected       430\n",
    "nombre_sain          2100\n",
    "nombre_exposed        259\n",
    "nombre_recovered    17211\n",
    "Name: 186, dtype: int64"
   ]
  },
  {
   "cell_type": "markdown",
   "id": "3b82b981",
   "metadata": {},
   "source": [
    "nombre_infected       442\n",
    "nombre_sain          2132\n",
    "nombre_exposed        252\n",
    "nombre_recovered    17174\n",
    "Name: 187, dtype: int64"
   ]
  },
  {
   "cell_type": "markdown",
   "id": "36ff911b",
   "metadata": {},
   "source": [
    "nombre_infected       424\n",
    "nombre_sain          2190\n",
    "nombre_exposed        252\n",
    "nombre_recovered    17134\n",
    "Name: 188, dtype: int64"
   ]
  },
  {
   "cell_type": "markdown",
   "id": "e116bd46",
   "metadata": {},
   "source": [
    "nombre_infected       430\n",
    "nombre_sain          2216\n",
    "nombre_exposed        231\n",
    "nombre_recovered    17123\n",
    "Name: 189, dtype: int64"
   ]
  },
  {
   "cell_type": "markdown",
   "id": "2a16c4cc",
   "metadata": {},
   "source": [
    "nombre_infected       425\n",
    "nombre_sain          2244\n",
    "nombre_exposed        224\n",
    "nombre_recovered    17107\n",
    "Name: 190, dtype: int64"
   ]
  },
  {
   "cell_type": "markdown",
   "id": "c2fd0589",
   "metadata": {},
   "source": [
    "nombre_infected       426\n",
    "nombre_sain          2282\n",
    "nombre_exposed        220\n",
    "nombre_recovered    17072\n",
    "Name: 191, dtype: int64"
   ]
  },
  {
   "cell_type": "markdown",
   "id": "c0cf5b1f",
   "metadata": {},
   "source": [
    "nombre_infected       421\n",
    "nombre_sain          2304\n",
    "nombre_exposed        228\n",
    "nombre_recovered    17047\n",
    "Name: 192, dtype: int64"
   ]
  },
  {
   "cell_type": "markdown",
   "id": "55b48e48",
   "metadata": {},
   "source": [
    "nombre_infected       424\n",
    "nombre_sain          2332\n",
    "nombre_exposed        229\n",
    "nombre_recovered    17015\n",
    "Name: 193, dtype: int64"
   ]
  },
  {
   "cell_type": "markdown",
   "id": "ff58747f",
   "metadata": {},
   "source": [
    "nombre_infected       400\n",
    "nombre_sain          2364\n",
    "nombre_exposed        248\n",
    "nombre_recovered    16988\n",
    "Name: 194, dtype: int64"
   ]
  },
  {
   "cell_type": "markdown",
   "id": "fd653fb3",
   "metadata": {},
   "source": [
    "nombre_infected       391\n",
    "nombre_sain          2376\n",
    "nombre_exposed        256\n",
    "nombre_recovered    16977\n",
    "Name: 195, dtype: int64"
   ]
  },
  {
   "cell_type": "markdown",
   "id": "55f6577f",
   "metadata": {},
   "source": [
    "nombre_infected       393\n",
    "nombre_sain          2393\n",
    "nombre_exposed        263\n",
    "nombre_recovered    16951\n",
    "Name: 196, dtype: int64"
   ]
  },
  {
   "cell_type": "markdown",
   "id": "7691499e",
   "metadata": {},
   "source": [
    "nombre_infected       384\n",
    "nombre_sain          2400\n",
    "nombre_exposed        274\n",
    "nombre_recovered    16942\n",
    "Name: 197, dtype: int64"
   ]
  },
  {
   "cell_type": "markdown",
   "id": "4e57fe36",
   "metadata": {},
   "source": [
    "nombre_infected       390\n",
    "nombre_sain          2410\n",
    "nombre_exposed        263\n",
    "nombre_recovered    16937\n",
    "Name: 198, dtype: int64"
   ]
  },
  {
   "cell_type": "markdown",
   "id": "b5f399fd",
   "metadata": {},
   "source": [
    "nombre_infected       400\n",
    "nombre_sain          2421\n",
    "nombre_exposed        262\n",
    "nombre_recovered    16917\n",
    "Name: 199, dtype: int64"
   ]
  },
  {
   "cell_type": "markdown",
   "id": "0db33d7d",
   "metadata": {},
   "source": [
    "nombre_infected       395\n",
    "nombre_sain          2444\n",
    "nombre_exposed        268\n",
    "nombre_recovered    16893\n",
    "Name: 200, dtype: int64"
   ]
  },
  {
   "cell_type": "markdown",
   "id": "d97bf8de",
   "metadata": {},
   "source": [
    "nombre_infected       399\n",
    "nombre_sain          2455\n",
    "nombre_exposed        277\n",
    "nombre_recovered    16869\n",
    "Name: 201, dtype: int64"
   ]
  },
  {
   "cell_type": "markdown",
   "id": "e29d8731",
   "metadata": {},
   "source": [
    "nombre_infected       405\n",
    "nombre_sain          2481\n",
    "nombre_exposed        272\n",
    "nombre_recovered    16842\n",
    "Name: 202, dtype: int64"
   ]
  },
  {
   "cell_type": "markdown",
   "id": "b24d1a15",
   "metadata": {},
   "source": [
    "nombre_infected       408\n",
    "nombre_sain          2464\n",
    "nombre_exposed        300\n",
    "nombre_recovered    16828\n",
    "Name: 203, dtype: int64"
   ]
  },
  {
   "cell_type": "markdown",
   "id": "443fbe6d",
   "metadata": {},
   "source": [
    "nombre_infected       418\n",
    "nombre_sain          2498\n",
    "nombre_exposed        300\n",
    "nombre_recovered    16784\n",
    "Name: 204, dtype: int64"
   ]
  },
  {
   "cell_type": "markdown",
   "id": "a0229b4c",
   "metadata": {},
   "source": [
    "nombre_infected       428\n",
    "nombre_sain          2522\n",
    "nombre_exposed        296\n",
    "nombre_recovered    16754\n",
    "Name: 205, dtype: int64"
   ]
  },
  {
   "cell_type": "markdown",
   "id": "95b80987",
   "metadata": {},
   "source": [
    "nombre_infected       423\n",
    "nombre_sain          2546\n",
    "nombre_exposed        311\n",
    "nombre_recovered    16720\n",
    "Name: 206, dtype: int64"
   ]
  },
  {
   "cell_type": "markdown",
   "id": "e3d6e9dd",
   "metadata": {},
   "source": [
    "nombre_infected       455\n",
    "nombre_sain          2566\n",
    "nombre_exposed        293\n",
    "nombre_recovered    16686\n",
    "Name: 207, dtype: int64"
   ]
  },
  {
   "cell_type": "markdown",
   "id": "8e5dd000",
   "metadata": {},
   "source": [
    "nombre_infected       461\n",
    "nombre_sain          2579\n",
    "nombre_exposed        293\n",
    "nombre_recovered    16667\n",
    "Name: 208, dtype: int64"
   ]
  },
  {
   "cell_type": "markdown",
   "id": "5e2fd542",
   "metadata": {},
   "source": [
    "nombre_infected       458\n",
    "nombre_sain          2567\n",
    "nombre_exposed        322\n",
    "nombre_recovered    16653\n",
    "Name: 209, dtype: int64"
   ]
  },
  {
   "cell_type": "markdown",
   "id": "184e4c34",
   "metadata": {},
   "source": [
    "nombre_infected       466\n",
    "nombre_sain          2583\n",
    "nombre_exposed        322\n",
    "nombre_recovered    16629\n",
    "Name: 210, dtype: int64"
   ]
  },
  {
   "cell_type": "markdown",
   "id": "39a0284d",
   "metadata": {},
   "source": [
    "nombre_infected       486\n",
    "nombre_sain          2584\n",
    "nombre_exposed        305\n",
    "nombre_recovered    16625\n",
    "Name: 211, dtype: int64"
   ]
  },
  {
   "cell_type": "markdown",
   "id": "d61f242e",
   "metadata": {},
   "source": [
    "nombre_infected       489\n",
    "nombre_sain          2599\n",
    "nombre_exposed        318\n",
    "nombre_recovered    16594\n",
    "Name: 212, dtype: int64"
   ]
  },
  {
   "cell_type": "markdown",
   "id": "124c6d01",
   "metadata": {},
   "source": [
    "nombre_infected       486\n",
    "nombre_sain          2609\n",
    "nombre_exposed        337\n",
    "nombre_recovered    16568\n",
    "Name: 213, dtype: int64"
   ]
  },
  {
   "cell_type": "markdown",
   "id": "7cae921d",
   "metadata": {},
   "source": [
    "nombre_infected       497\n",
    "nombre_sain          2606\n",
    "nombre_exposed        367\n",
    "nombre_recovered    16530\n",
    "Name: 214, dtype: int64"
   ]
  },
  {
   "cell_type": "markdown",
   "id": "45a61a2b",
   "metadata": {},
   "source": [
    "nombre_infected       509\n",
    "nombre_sain          2618\n",
    "nombre_exposed        377\n",
    "nombre_recovered    16496\n",
    "Name: 215, dtype: int64"
   ]
  },
  {
   "cell_type": "markdown",
   "id": "3717cde4",
   "metadata": {},
   "source": [
    "nombre_infected       524\n",
    "nombre_sain          2611\n",
    "nombre_exposed        364\n",
    "nombre_recovered    16501\n",
    "Name: 216, dtype: int64"
   ]
  },
  {
   "cell_type": "markdown",
   "id": "bc7099e7",
   "metadata": {},
   "source": [
    "nombre_infected       544\n",
    "nombre_sain          2594\n",
    "nombre_exposed        384\n",
    "nombre_recovered    16478\n",
    "Name: 217, dtype: int64"
   ]
  },
  {
   "cell_type": "markdown",
   "id": "c8ed2510",
   "metadata": {},
   "source": [
    "nombre_infected       552\n",
    "nombre_sain          2583\n",
    "nombre_exposed        396\n",
    "nombre_recovered    16469\n",
    "Name: 218, dtype: int64"
   ]
  },
  {
   "cell_type": "markdown",
   "id": "246b79d1",
   "metadata": {},
   "source": [
    "nombre_infected       554\n",
    "nombre_sain          2579\n",
    "nombre_exposed        405\n",
    "nombre_recovered    16462\n",
    "Name: 219, dtype: int64"
   ]
  },
  {
   "cell_type": "markdown",
   "id": "17699b21",
   "metadata": {},
   "source": [
    "nombre_infected       561\n",
    "nombre_sain          2581\n",
    "nombre_exposed        405\n",
    "nombre_recovered    16453\n",
    "Name: 220, dtype: int64"
   ]
  },
  {
   "cell_type": "markdown",
   "id": "3d376871",
   "metadata": {},
   "source": [
    "nombre_infected       593\n",
    "nombre_sain          2577\n",
    "nombre_exposed        396\n",
    "nombre_recovered    16434\n",
    "Name: 221, dtype: int64"
   ]
  },
  {
   "cell_type": "markdown",
   "id": "adeaa11f",
   "metadata": {},
   "source": [
    "nombre_infected       594\n",
    "nombre_sain          2586\n",
    "nombre_exposed        391\n",
    "nombre_recovered    16429\n",
    "Name: 222, dtype: int64"
   ]
  },
  {
   "cell_type": "markdown",
   "id": "b1b859d7",
   "metadata": {},
   "source": [
    "nombre_infected       609\n",
    "nombre_sain          2577\n",
    "nombre_exposed        392\n",
    "nombre_recovered    16422\n",
    "Name: 223, dtype: int64"
   ]
  },
  {
   "cell_type": "markdown",
   "id": "7d70014f",
   "metadata": {},
   "source": [
    "nombre_infected       632\n",
    "nombre_sain          2588\n",
    "nombre_exposed        380\n",
    "nombre_recovered    16400\n",
    "Name: 224, dtype: int64"
   ]
  },
  {
   "cell_type": "markdown",
   "id": "db767baa",
   "metadata": {},
   "source": [
    "nombre_infected       639\n",
    "nombre_sain          2565\n",
    "nombre_exposed        389\n",
    "nombre_recovered    16407\n",
    "Name: 225, dtype: int64"
   ]
  },
  {
   "cell_type": "markdown",
   "id": "97a02ad2",
   "metadata": {},
   "source": [
    "nombre_infected       631\n",
    "nombre_sain          2535\n",
    "nombre_exposed        413\n",
    "nombre_recovered    16421\n",
    "Name: 226, dtype: int64"
   ]
  },
  {
   "cell_type": "markdown",
   "id": "ef6ca2c3",
   "metadata": {},
   "source": [
    "nombre_infected       624\n",
    "nombre_sain          2533\n",
    "nombre_exposed        439\n",
    "nombre_recovered    16404\n",
    "Name: 227, dtype: int64"
   ]
  },
  {
   "cell_type": "markdown",
   "id": "1275ccb3",
   "metadata": {},
   "source": [
    "nombre_infected       651\n",
    "nombre_sain          2536\n",
    "nombre_exposed        437\n",
    "nombre_recovered    16376\n",
    "Name: 228, dtype: int64"
   ]
  },
  {
   "cell_type": "markdown",
   "id": "4ea3468c",
   "metadata": {},
   "source": [
    "nombre_infected       683\n",
    "nombre_sain          2528\n",
    "nombre_exposed        427\n",
    "nombre_recovered    16362\n",
    "Name: 229, dtype: int64"
   ]
  },
  {
   "cell_type": "markdown",
   "id": "dc2e71ac",
   "metadata": {},
   "source": [
    "nombre_infected       677\n",
    "nombre_sain          2548\n",
    "nombre_exposed        433\n",
    "nombre_recovered    16342\n",
    "Name: 230, dtype: int64"
   ]
  },
  {
   "cell_type": "markdown",
   "id": "71b4db6e",
   "metadata": {},
   "source": [
    "nombre_infected       701\n",
    "nombre_sain          2559\n",
    "nombre_exposed        419\n",
    "nombre_recovered    16321\n",
    "Name: 231, dtype: int64"
   ]
  },
  {
   "cell_type": "markdown",
   "id": "4c95a3dc",
   "metadata": {},
   "source": [
    "nombre_infected       727\n",
    "nombre_sain          2524\n",
    "nombre_exposed        438\n",
    "nombre_recovered    16311\n",
    "Name: 232, dtype: int64"
   ]
  },
  {
   "cell_type": "markdown",
   "id": "9caee32e",
   "metadata": {},
   "source": [
    "nombre_infected       716\n",
    "nombre_sain          2524\n",
    "nombre_exposed        462\n",
    "nombre_recovered    16298\n",
    "Name: 233, dtype: int64"
   ]
  },
  {
   "cell_type": "markdown",
   "id": "901fcca8",
   "metadata": {},
   "source": [
    "nombre_infected       735\n",
    "nombre_sain          2542\n",
    "nombre_exposed        453\n",
    "nombre_recovered    16270\n",
    "Name: 234, dtype: int64"
   ]
  },
  {
   "cell_type": "markdown",
   "id": "3b0975cf",
   "metadata": {},
   "source": [
    "nombre_infected       753\n",
    "nombre_sain          2556\n",
    "nombre_exposed        470\n",
    "nombre_recovered    16221\n",
    "Name: 235, dtype: int64"
   ]
  },
  {
   "cell_type": "markdown",
   "id": "24c9e25b",
   "metadata": {},
   "source": [
    "nombre_infected       766\n",
    "nombre_sain          2551\n",
    "nombre_exposed        486\n",
    "nombre_recovered    16197\n",
    "Name: 236, dtype: int64"
   ]
  },
  {
   "cell_type": "markdown",
   "id": "0d0ee861",
   "metadata": {},
   "source": [
    "nombre_infected       766\n",
    "nombre_sain          2567\n",
    "nombre_exposed        500\n",
    "nombre_recovered    16167\n",
    "Name: 237, dtype: int64"
   ]
  },
  {
   "cell_type": "markdown",
   "id": "1963ebed",
   "metadata": {},
   "source": [
    "nombre_infected       781\n",
    "nombre_sain          2566\n",
    "nombre_exposed        498\n",
    "nombre_recovered    16155\n",
    "Name: 238, dtype: int64"
   ]
  },
  {
   "cell_type": "markdown",
   "id": "e70bb87d",
   "metadata": {},
   "source": [
    "nombre_infected       793\n",
    "nombre_sain          2549\n",
    "nombre_exposed        523\n",
    "nombre_recovered    16135\n",
    "Name: 239, dtype: int64"
   ]
  },
  {
   "cell_type": "markdown",
   "id": "3c342979",
   "metadata": {},
   "source": [
    "nombre_infected       828\n",
    "nombre_sain          2529\n",
    "nombre_exposed        531\n",
    "nombre_recovered    16112\n",
    "Name: 240, dtype: int64"
   ]
  },
  {
   "cell_type": "markdown",
   "id": "db9fce1a",
   "metadata": {},
   "source": [
    "nombre_infected       867\n",
    "nombre_sain          2520\n",
    "nombre_exposed        536\n",
    "nombre_recovered    16077\n",
    "Name: 241, dtype: int64"
   ]
  },
  {
   "cell_type": "markdown",
   "id": "39f4f77d",
   "metadata": {},
   "source": [
    "nombre_infected       873\n",
    "nombre_sain          2539\n",
    "nombre_exposed        524\n",
    "nombre_recovered    16064\n",
    "Name: 242, dtype: int64"
   ]
  },
  {
   "cell_type": "markdown",
   "id": "f7d1a1e8",
   "metadata": {},
   "source": [
    "nombre_infected       883\n",
    "nombre_sain          2511\n",
    "nombre_exposed        563\n",
    "nombre_recovered    16043\n",
    "Name: 243, dtype: int64"
   ]
  },
  {
   "cell_type": "markdown",
   "id": "1e16a153",
   "metadata": {},
   "source": [
    "nombre_infected       873\n",
    "nombre_sain          2483\n",
    "nombre_exposed        602\n",
    "nombre_recovered    16042\n",
    "Name: 244, dtype: int64"
   ]
  },
  {
   "cell_type": "markdown",
   "id": "f1744711",
   "metadata": {},
   "source": [
    "nombre_infected       891\n",
    "nombre_sain          2465\n",
    "nombre_exposed        603\n",
    "nombre_recovered    16041\n",
    "Name: 245, dtype: int64"
   ]
  },
  {
   "cell_type": "markdown",
   "id": "63e08216",
   "metadata": {},
   "source": [
    "nombre_infected       921\n",
    "nombre_sain          2446\n",
    "nombre_exposed        598\n",
    "nombre_recovered    16035\n",
    "Name: 246, dtype: int64"
   ]
  },
  {
   "cell_type": "markdown",
   "id": "fdcc3f30",
   "metadata": {},
   "source": [
    "nombre_infected       954\n",
    "nombre_sain          2430\n",
    "nombre_exposed        602\n",
    "nombre_recovered    16014\n",
    "Name: 247, dtype: int64"
   ]
  },
  {
   "cell_type": "markdown",
   "id": "c6bf2cf9",
   "metadata": {},
   "source": [
    "nombre_infected       987\n",
    "nombre_sain          2410\n",
    "nombre_exposed        595\n",
    "nombre_recovered    16008\n",
    "Name: 248, dtype: int64"
   ]
  },
  {
   "cell_type": "markdown",
   "id": "c931cc14",
   "metadata": {},
   "source": [
    "nombre_infected      1042\n",
    "nombre_sain          2361\n",
    "nombre_exposed        618\n",
    "nombre_recovered    15979\n",
    "Name: 249, dtype: int64"
   ]
  },
  {
   "cell_type": "markdown",
   "id": "2e1b925e",
   "metadata": {},
   "source": [
    "nombre_infected      1055\n",
    "nombre_sain          2311\n",
    "nombre_exposed        647\n",
    "nombre_recovered    15987\n",
    "Name: 250, dtype: int64"
   ]
  },
  {
   "cell_type": "markdown",
   "id": "985a9a46",
   "metadata": {},
   "source": [
    "nombre_infected      1080\n",
    "nombre_sain          2256\n",
    "nombre_exposed        671\n",
    "nombre_recovered    15993\n",
    "Name: 251, dtype: int64"
   ]
  },
  {
   "cell_type": "markdown",
   "id": "eb896b94",
   "metadata": {},
   "source": [
    "nombre_infected      1084\n",
    "nombre_sain          2214\n",
    "nombre_exposed        685\n",
    "nombre_recovered    16017\n",
    "Name: 252, dtype: int64"
   ]
  },
  {
   "cell_type": "markdown",
   "id": "d87c50a0",
   "metadata": {},
   "source": [
    "nombre_infected      1098\n",
    "nombre_sain          2168\n",
    "nombre_exposed        698\n",
    "nombre_recovered    16036\n",
    "Name: 253, dtype: int64"
   ]
  },
  {
   "cell_type": "markdown",
   "id": "042bf0d1",
   "metadata": {},
   "source": [
    "nombre_infected      1133\n",
    "nombre_sain          2134\n",
    "nombre_exposed        665\n",
    "nombre_recovered    16068\n",
    "Name: 254, dtype: int64"
   ]
  },
  {
   "cell_type": "markdown",
   "id": "4bb9d5ce",
   "metadata": {},
   "source": [
    "nombre_infected      1152\n",
    "nombre_sain          2107\n",
    "nombre_exposed        648\n",
    "nombre_recovered    16093\n",
    "Name: 255, dtype: int64"
   ]
  },
  {
   "cell_type": "markdown",
   "id": "c1d4fc65",
   "metadata": {},
   "source": [
    "nombre_infected      1184\n",
    "nombre_sain          2097\n",
    "nombre_exposed        640\n",
    "nombre_recovered    16079\n",
    "Name: 256, dtype: int64"
   ]
  },
  {
   "cell_type": "markdown",
   "id": "c723825e",
   "metadata": {},
   "source": [
    "nombre_infected      1196\n",
    "nombre_sain          2059\n",
    "nombre_exposed        643\n",
    "nombre_recovered    16102\n",
    "Name: 257, dtype: int64"
   ]
  },
  {
   "cell_type": "markdown",
   "id": "c609a8e0",
   "metadata": {},
   "source": [
    "nombre_infected      1189\n",
    "nombre_sain          2024\n",
    "nombre_exposed        640\n",
    "nombre_recovered    16147\n",
    "Name: 258, dtype: int64"
   ]
  },
  {
   "cell_type": "markdown",
   "id": "c32f26ec",
   "metadata": {},
   "source": [
    "nombre_infected      1185\n",
    "nombre_sain          2014\n",
    "nombre_exposed        634\n",
    "nombre_recovered    16167\n",
    "Name: 259, dtype: int64"
   ]
  },
  {
   "cell_type": "markdown",
   "id": "0d5f92d8",
   "metadata": {},
   "source": [
    "nombre_infected      1193\n",
    "nombre_sain          1998\n",
    "nombre_exposed        636\n",
    "nombre_recovered    16173\n",
    "Name: 260, dtype: int64"
   ]
  },
  {
   "cell_type": "markdown",
   "id": "2b828ad7",
   "metadata": {},
   "source": [
    "nombre_infected      1209\n",
    "nombre_sain          1990\n",
    "nombre_exposed        626\n",
    "nombre_recovered    16175\n",
    "Name: 261, dtype: int64"
   ]
  },
  {
   "cell_type": "markdown",
   "id": "302c838a",
   "metadata": {},
   "source": [
    "nombre_infected      1226\n",
    "nombre_sain          1968\n",
    "nombre_exposed        616\n",
    "nombre_recovered    16190\n",
    "Name: 262, dtype: int64"
   ]
  },
  {
   "cell_type": "markdown",
   "id": "8550c5a3",
   "metadata": {},
   "source": [
    "nombre_infected      1209\n",
    "nombre_sain          1952\n",
    "nombre_exposed        618\n",
    "nombre_recovered    16221\n",
    "Name: 263, dtype: int64"
   ]
  },
  {
   "cell_type": "markdown",
   "id": "ffea29a9",
   "metadata": {},
   "source": [
    "nombre_infected      1198\n",
    "nombre_sain          1962\n",
    "nombre_exposed        611\n",
    "nombre_recovered    16229\n",
    "Name: 264, dtype: int64"
   ]
  },
  {
   "cell_type": "markdown",
   "id": "658cfe70",
   "metadata": {},
   "source": [
    "nombre_infected      1193\n",
    "nombre_sain          1936\n",
    "nombre_exposed        608\n",
    "nombre_recovered    16263\n",
    "Name: 265, dtype: int64"
   ]
  },
  {
   "cell_type": "markdown",
   "id": "c41a1201",
   "metadata": {},
   "source": [
    "nombre_infected      1190\n",
    "nombre_sain          1916\n",
    "nombre_exposed        631\n",
    "nombre_recovered    16263\n",
    "Name: 266, dtype: int64"
   ]
  },
  {
   "cell_type": "markdown",
   "id": "a4f6e77b",
   "metadata": {},
   "source": [
    "nombre_infected      1191\n",
    "nombre_sain          1940\n",
    "nombre_exposed        582\n",
    "nombre_recovered    16287\n",
    "Name: 267, dtype: int64"
   ]
  },
  {
   "cell_type": "markdown",
   "id": "7e99e534",
   "metadata": {},
   "source": [
    "nombre_infected      1191\n",
    "nombre_sain          1953\n",
    "nombre_exposed        539\n",
    "nombre_recovered    16317\n",
    "Name: 268, dtype: int64"
   ]
  },
  {
   "cell_type": "markdown",
   "id": "f43a84b0",
   "metadata": {},
   "source": [
    "nombre_infected      1155\n",
    "nombre_sain          1918\n",
    "nombre_exposed        556\n",
    "nombre_recovered    16371\n",
    "Name: 269, dtype: int64"
   ]
  },
  {
   "cell_type": "markdown",
   "id": "d3871fda",
   "metadata": {},
   "source": [
    "nombre_infected      1125\n",
    "nombre_sain          1898\n",
    "nombre_exposed        554\n",
    "nombre_recovered    16423\n",
    "Name: 270, dtype: int64"
   ]
  },
  {
   "cell_type": "markdown",
   "id": "bc0e62ef",
   "metadata": {},
   "source": [
    "nombre_infected      1087\n",
    "nombre_sain          1885\n",
    "nombre_exposed        564\n",
    "nombre_recovered    16464\n",
    "Name: 271, dtype: int64"
   ]
  },
  {
   "cell_type": "markdown",
   "id": "1c70fcdb",
   "metadata": {},
   "source": [
    "nombre_infected      1075\n",
    "nombre_sain          1874\n",
    "nombre_exposed        552\n",
    "nombre_recovered    16499\n",
    "Name: 272, dtype: int64"
   ]
  },
  {
   "cell_type": "markdown",
   "id": "f113a68d",
   "metadata": {},
   "source": [
    "nombre_infected      1087\n",
    "nombre_sain          1862\n",
    "nombre_exposed        535\n",
    "nombre_recovered    16516\n",
    "Name: 273, dtype: int64"
   ]
  },
  {
   "cell_type": "markdown",
   "id": "16698b39",
   "metadata": {},
   "source": [
    "nombre_infected      1088\n",
    "nombre_sain          1856\n",
    "nombre_exposed        524\n",
    "nombre_recovered    16532\n",
    "Name: 274, dtype: int64"
   ]
  },
  {
   "cell_type": "markdown",
   "id": "9366c581",
   "metadata": {},
   "source": [
    "nombre_infected      1099\n",
    "nombre_sain          1833\n",
    "nombre_exposed        523\n",
    "nombre_recovered    16545\n",
    "Name: 275, dtype: int64"
   ]
  },
  {
   "cell_type": "markdown",
   "id": "fb6142dc",
   "metadata": {},
   "source": [
    "nombre_infected      1082\n",
    "nombre_sain          1810\n",
    "nombre_exposed        520\n",
    "nombre_recovered    16588\n",
    "Name: 276, dtype: int64"
   ]
  },
  {
   "cell_type": "markdown",
   "id": "e8a5489b",
   "metadata": {},
   "source": [
    "nombre_infected      1072\n",
    "nombre_sain          1796\n",
    "nombre_exposed        525\n",
    "nombre_recovered    16607\n",
    "Name: 277, dtype: int64"
   ]
  },
  {
   "cell_type": "markdown",
   "id": "96cf9c4f",
   "metadata": {},
   "source": [
    "nombre_infected      1059\n",
    "nombre_sain          1788\n",
    "nombre_exposed        497\n",
    "nombre_recovered    16656\n",
    "Name: 278, dtype: int64"
   ]
  },
  {
   "cell_type": "markdown",
   "id": "0cb6cd96",
   "metadata": {},
   "source": [
    "nombre_infected      1021\n",
    "nombre_sain          1793\n",
    "nombre_exposed        492\n",
    "nombre_recovered    16694\n",
    "Name: 279, dtype: int64"
   ]
  },
  {
   "cell_type": "markdown",
   "id": "3946210c",
   "metadata": {},
   "source": [
    "nombre_infected       980\n",
    "nombre_sain          1792\n",
    "nombre_exposed        492\n",
    "nombre_recovered    16736\n",
    "Name: 280, dtype: int64"
   ]
  },
  {
   "cell_type": "markdown",
   "id": "7d92b941",
   "metadata": {},
   "source": [
    "nombre_infected       941\n",
    "nombre_sain          1809\n",
    "nombre_exposed        482\n",
    "nombre_recovered    16768\n",
    "Name: 281, dtype: int64"
   ]
  },
  {
   "cell_type": "markdown",
   "id": "7c85b404",
   "metadata": {},
   "source": [
    "nombre_infected       944\n",
    "nombre_sain          1807\n",
    "nombre_exposed        456\n",
    "nombre_recovered    16793\n",
    "Name: 282, dtype: int64"
   ]
  },
  {
   "cell_type": "markdown",
   "id": "938db620",
   "metadata": {},
   "source": [
    "nombre_infected       943\n",
    "nombre_sain          1820\n",
    "nombre_exposed        434\n",
    "nombre_recovered    16803\n",
    "Name: 283, dtype: int64"
   ]
  },
  {
   "cell_type": "markdown",
   "id": "97bcda59",
   "metadata": {},
   "source": [
    "nombre_infected       908\n",
    "nombre_sain          1858\n",
    "nombre_exposed        433\n",
    "nombre_recovered    16801\n",
    "Name: 284, dtype: int64"
   ]
  },
  {
   "cell_type": "markdown",
   "id": "6f7981d9",
   "metadata": {},
   "source": [
    "nombre_infected       883\n",
    "nombre_sain          1871\n",
    "nombre_exposed        420\n",
    "nombre_recovered    16826\n",
    "Name: 285, dtype: int64"
   ]
  },
  {
   "cell_type": "markdown",
   "id": "45343326",
   "metadata": {},
   "source": [
    "nombre_infected       873\n",
    "nombre_sain          1885\n",
    "nombre_exposed        395\n",
    "nombre_recovered    16847\n",
    "Name: 286, dtype: int64"
   ]
  },
  {
   "cell_type": "markdown",
   "id": "cb0a9e03",
   "metadata": {},
   "source": [
    "nombre_infected       874\n",
    "nombre_sain          1894\n",
    "nombre_exposed        394\n",
    "nombre_recovered    16838\n",
    "Name: 287, dtype: int64"
   ]
  },
  {
   "cell_type": "markdown",
   "id": "159a853d",
   "metadata": {},
   "source": [
    "nombre_infected       850\n",
    "nombre_sain          1938\n",
    "nombre_exposed        386\n",
    "nombre_recovered    16826\n",
    "Name: 288, dtype: int64"
   ]
  },
  {
   "cell_type": "markdown",
   "id": "b0218c9a",
   "metadata": {},
   "source": [
    "nombre_infected       829\n",
    "nombre_sain          1965\n",
    "nombre_exposed        372\n",
    "nombre_recovered    16834\n",
    "Name: 289, dtype: int64"
   ]
  },
  {
   "cell_type": "markdown",
   "id": "cd337939",
   "metadata": {},
   "source": [
    "nombre_infected       807\n",
    "nombre_sain          1992\n",
    "nombre_exposed        366\n",
    "nombre_recovered    16835\n",
    "Name: 290, dtype: int64"
   ]
  },
  {
   "cell_type": "markdown",
   "id": "ab5fe9db",
   "metadata": {},
   "source": [
    "nombre_infected       790\n",
    "nombre_sain          2010\n",
    "nombre_exposed        367\n",
    "nombre_recovered    16833\n",
    "Name: 291, dtype: int64"
   ]
  },
  {
   "cell_type": "markdown",
   "id": "434a925c",
   "metadata": {},
   "source": [
    "nombre_infected       761\n",
    "nombre_sain          2011\n",
    "nombre_exposed        393\n",
    "nombre_recovered    16835\n",
    "Name: 292, dtype: int64"
   ]
  },
  {
   "cell_type": "markdown",
   "id": "22ab88e7",
   "metadata": {},
   "source": [
    "nombre_infected       726\n",
    "nombre_sain          2028\n",
    "nombre_exposed        397\n",
    "nombre_recovered    16849\n",
    "Name: 293, dtype: int64"
   ]
  },
  {
   "cell_type": "markdown",
   "id": "3e8defd0",
   "metadata": {},
   "source": [
    "nombre_infected       723\n",
    "nombre_sain          2055\n",
    "nombre_exposed        394\n",
    "nombre_recovered    16828\n",
    "Name: 294, dtype: int64"
   ]
  },
  {
   "cell_type": "markdown",
   "id": "5006162c",
   "metadata": {},
   "source": [
    "nombre_infected       718\n",
    "nombre_sain          2070\n",
    "nombre_exposed        380\n",
    "nombre_recovered    16832\n",
    "Name: 295, dtype: int64"
   ]
  },
  {
   "cell_type": "markdown",
   "id": "d89c46fd",
   "metadata": {},
   "source": [
    "nombre_infected       699\n",
    "nombre_sain          2085\n",
    "nombre_exposed        381\n",
    "nombre_recovered    16835\n",
    "Name: 296, dtype: int64"
   ]
  },
  {
   "cell_type": "markdown",
   "id": "f25b6517",
   "metadata": {},
   "source": [
    "nombre_infected       678\n",
    "nombre_sain          2108\n",
    "nombre_exposed        382\n",
    "nombre_recovered    16832\n",
    "Name: 297, dtype: int64"
   ]
  },
  {
   "cell_type": "markdown",
   "id": "f01caa7b",
   "metadata": {},
   "source": [
    "nombre_infected       651\n",
    "nombre_sain          2129\n",
    "nombre_exposed        386\n",
    "nombre_recovered    16834\n",
    "Name: 298, dtype: int64"
   ]
  },
  {
   "cell_type": "markdown",
   "id": "58c93c10",
   "metadata": {},
   "source": [
    "nombre_infected       660\n",
    "nombre_sain          2149\n",
    "nombre_exposed        366\n",
    "nombre_recovered    16825\n",
    "Name: 299, dtype: int64"
   ]
  },
  {
   "cell_type": "markdown",
   "id": "6aff4c89",
   "metadata": {},
   "source": [
    "nombre_infected       637\n",
    "nombre_sain          2174\n",
    "nombre_exposed        365\n",
    "nombre_recovered    16824\n",
    "Name: 300, dtype: int64"
   ]
  },
  {
   "cell_type": "markdown",
   "id": "f093f720",
   "metadata": {},
   "source": [
    "nombre_infected       627\n",
    "nombre_sain          2187\n",
    "nombre_exposed        358\n",
    "nombre_recovered    16828\n",
    "Name: 301, dtype: int64"
   ]
  },
  {
   "cell_type": "markdown",
   "id": "7a0354f1",
   "metadata": {},
   "source": [
    "nombre_infected       619\n",
    "nombre_sain          2217\n",
    "nombre_exposed        344\n",
    "nombre_recovered    16820\n",
    "Name: 302, dtype: int64"
   ]
  },
  {
   "cell_type": "markdown",
   "id": "b5950a63",
   "metadata": {},
   "source": [
    "nombre_infected       596\n",
    "nombre_sain          2251\n",
    "nombre_exposed        349\n",
    "nombre_recovered    16804\n",
    "Name: 303, dtype: int64"
   ]
  },
  {
   "cell_type": "markdown",
   "id": "3f421935",
   "metadata": {},
   "source": [
    "nombre_infected       600\n",
    "nombre_sain          2273\n",
    "nombre_exposed        337\n",
    "nombre_recovered    16790\n",
    "Name: 304, dtype: int64"
   ]
  },
  {
   "cell_type": "markdown",
   "id": "356c02fc",
   "metadata": {},
   "source": [
    "nombre_infected       593\n",
    "nombre_sain          2292\n",
    "nombre_exposed        362\n",
    "nombre_recovered    16753\n",
    "Name: 305, dtype: int64"
   ]
  },
  {
   "cell_type": "markdown",
   "id": "24d0046b",
   "metadata": {},
   "source": [
    "nombre_infected       585\n",
    "nombre_sain          2314\n",
    "nombre_exposed        355\n",
    "nombre_recovered    16746\n",
    "Name: 306, dtype: int64"
   ]
  },
  {
   "cell_type": "markdown",
   "id": "47c16a6d",
   "metadata": {},
   "source": [
    "nombre_infected       590\n",
    "nombre_sain          2346\n",
    "nombre_exposed        340\n",
    "nombre_recovered    16724\n",
    "Name: 307, dtype: int64"
   ]
  },
  {
   "cell_type": "markdown",
   "id": "3ec9a6df",
   "metadata": {},
   "source": [
    "nombre_infected       576\n",
    "nombre_sain          2384\n",
    "nombre_exposed        343\n",
    "nombre_recovered    16697\n",
    "Name: 308, dtype: int64"
   ]
  },
  {
   "cell_type": "markdown",
   "id": "7619474b",
   "metadata": {},
   "source": [
    "nombre_infected       569\n",
    "nombre_sain          2406\n",
    "nombre_exposed        360\n",
    "nombre_recovered    16665\n",
    "Name: 309, dtype: int64"
   ]
  },
  {
   "cell_type": "markdown",
   "id": "7b0b0f1e",
   "metadata": {},
   "source": [
    "nombre_infected       562\n",
    "nombre_sain          2452\n",
    "nombre_exposed        350\n",
    "nombre_recovered    16636\n",
    "Name: 310, dtype: int64"
   ]
  },
  {
   "cell_type": "markdown",
   "id": "e00403d7",
   "metadata": {},
   "source": [
    "nombre_infected       546\n",
    "nombre_sain          2507\n",
    "nombre_exposed        350\n",
    "nombre_recovered    16597\n",
    "Name: 311, dtype: int64"
   ]
  },
  {
   "cell_type": "markdown",
   "id": "3661aa23",
   "metadata": {},
   "source": [
    "nombre_infected       540\n",
    "nombre_sain          2540\n",
    "nombre_exposed        352\n",
    "nombre_recovered    16568\n",
    "Name: 312, dtype: int64"
   ]
  },
  {
   "cell_type": "markdown",
   "id": "1c156a0a",
   "metadata": {},
   "source": [
    "nombre_infected       560\n",
    "nombre_sain          2562\n",
    "nombre_exposed        339\n",
    "nombre_recovered    16539\n",
    "Name: 313, dtype: int64"
   ]
  },
  {
   "cell_type": "markdown",
   "id": "c423d1f8",
   "metadata": {},
   "source": [
    "nombre_infected       563\n",
    "nombre_sain          2579\n",
    "nombre_exposed        347\n",
    "nombre_recovered    16511\n",
    "Name: 314, dtype: int64"
   ]
  },
  {
   "cell_type": "markdown",
   "id": "1ae4b767",
   "metadata": {},
   "source": [
    "nombre_infected       555\n",
    "nombre_sain          2615\n",
    "nombre_exposed        355\n",
    "nombre_recovered    16475\n",
    "Name: 315, dtype: int64"
   ]
  },
  {
   "cell_type": "markdown",
   "id": "183166eb",
   "metadata": {},
   "source": [
    "nombre_infected       539\n",
    "nombre_sain          2652\n",
    "nombre_exposed        349\n",
    "nombre_recovered    16460\n",
    "Name: 316, dtype: int64"
   ]
  },
  {
   "cell_type": "markdown",
   "id": "364ebbb5",
   "metadata": {},
   "source": [
    "nombre_infected       538\n",
    "nombre_sain          2673\n",
    "nombre_exposed        362\n",
    "nombre_recovered    16427\n",
    "Name: 317, dtype: int64"
   ]
  },
  {
   "cell_type": "markdown",
   "id": "ef9f0d9e",
   "metadata": {},
   "source": [
    "nombre_infected       552\n",
    "nombre_sain          2706\n",
    "nombre_exposed        366\n",
    "nombre_recovered    16376\n",
    "Name: 318, dtype: int64"
   ]
  },
  {
   "cell_type": "markdown",
   "id": "0b61ec62",
   "metadata": {},
   "source": [
    "nombre_infected       546\n",
    "nombre_sain          2725\n",
    "nombre_exposed        358\n",
    "nombre_recovered    16371\n",
    "Name: 319, dtype: int64"
   ]
  },
  {
   "cell_type": "markdown",
   "id": "9fb09287",
   "metadata": {},
   "source": [
    "nombre_infected       564\n",
    "nombre_sain          2751\n",
    "nombre_exposed        355\n",
    "nombre_recovered    16330\n",
    "Name: 320, dtype: int64"
   ]
  },
  {
   "cell_type": "markdown",
   "id": "3fe7380f",
   "metadata": {},
   "source": [
    "nombre_infected       566\n",
    "nombre_sain          2767\n",
    "nombre_exposed        381\n",
    "nombre_recovered    16286\n",
    "Name: 321, dtype: int64"
   ]
  },
  {
   "cell_type": "markdown",
   "id": "54e9ff0e",
   "metadata": {},
   "source": [
    "nombre_infected       559\n",
    "nombre_sain          2765\n",
    "nombre_exposed        415\n",
    "nombre_recovered    16261\n",
    "Name: 322, dtype: int64"
   ]
  },
  {
   "cell_type": "markdown",
   "id": "9673d4ef",
   "metadata": {},
   "source": [
    "nombre_infected       581\n",
    "nombre_sain          2781\n",
    "nombre_exposed        417\n",
    "nombre_recovered    16221\n",
    "Name: 323, dtype: int64"
   ]
  },
  {
   "cell_type": "markdown",
   "id": "9b552813",
   "metadata": {},
   "source": [
    "nombre_infected       584\n",
    "nombre_sain          2794\n",
    "nombre_exposed        424\n",
    "nombre_recovered    16198\n",
    "Name: 324, dtype: int64"
   ]
  },
  {
   "cell_type": "markdown",
   "id": "eec1c425",
   "metadata": {},
   "source": [
    "nombre_infected       604\n",
    "nombre_sain          2789\n",
    "nombre_exposed        433\n",
    "nombre_recovered    16174\n",
    "Name: 325, dtype: int64"
   ]
  },
  {
   "cell_type": "markdown",
   "id": "f4c2b07c",
   "metadata": {},
   "source": [
    "nombre_infected       626\n",
    "nombre_sain          2789\n",
    "nombre_exposed        439\n",
    "nombre_recovered    16146\n",
    "Name: 326, dtype: int64"
   ]
  },
  {
   "cell_type": "markdown",
   "id": "559115d5",
   "metadata": {},
   "source": [
    "nombre_infected       636\n",
    "nombre_sain          2785\n",
    "nombre_exposed        459\n",
    "nombre_recovered    16120\n",
    "Name: 327, dtype: int64"
   ]
  },
  {
   "cell_type": "markdown",
   "id": "62e63724",
   "metadata": {},
   "source": [
    "nombre_infected       632\n",
    "nombre_sain          2775\n",
    "nombre_exposed        480\n",
    "nombre_recovered    16113\n",
    "Name: 328, dtype: int64"
   ]
  },
  {
   "cell_type": "markdown",
   "id": "361e7e8c",
   "metadata": {},
   "source": [
    "nombre_infected       658\n",
    "nombre_sain          2778\n",
    "nombre_exposed        457\n",
    "nombre_recovered    16107\n",
    "Name: 329, dtype: int64"
   ]
  },
  {
   "cell_type": "markdown",
   "id": "9fb480a5",
   "metadata": {},
   "source": [
    "nombre_infected       668\n",
    "nombre_sain          2789\n",
    "nombre_exposed        448\n",
    "nombre_recovered    16095\n",
    "Name: 330, dtype: int64"
   ]
  },
  {
   "cell_type": "markdown",
   "id": "6fa4dcfd",
   "metadata": {},
   "source": [
    "nombre_infected       670\n",
    "nombre_sain          2800\n",
    "nombre_exposed        463\n",
    "nombre_recovered    16067\n",
    "Name: 331, dtype: int64"
   ]
  },
  {
   "cell_type": "markdown",
   "id": "cf3cbe10",
   "metadata": {},
   "source": [
    "nombre_infected       685\n",
    "nombre_sain          2807\n",
    "nombre_exposed        471\n",
    "nombre_recovered    16037\n",
    "Name: 332, dtype: int64"
   ]
  },
  {
   "cell_type": "markdown",
   "id": "b142e80e",
   "metadata": {},
   "source": [
    "nombre_infected       700\n",
    "nombre_sain          2800\n",
    "nombre_exposed        470\n",
    "nombre_recovered    16030\n",
    "Name: 333, dtype: int64"
   ]
  },
  {
   "cell_type": "markdown",
   "id": "d16fd66b",
   "metadata": {},
   "source": [
    "nombre_infected       715\n",
    "nombre_sain          2757\n",
    "nombre_exposed        509\n",
    "nombre_recovered    16019\n",
    "Name: 334, dtype: int64"
   ]
  },
  {
   "cell_type": "markdown",
   "id": "ad79347f",
   "metadata": {},
   "source": [
    "nombre_infected       747\n",
    "nombre_sain          2767\n",
    "nombre_exposed        497\n",
    "nombre_recovered    15989\n",
    "Name: 335, dtype: int64"
   ]
  },
  {
   "cell_type": "markdown",
   "id": "9fdaae05",
   "metadata": {},
   "source": [
    "nombre_infected       717\n",
    "nombre_sain          2745\n",
    "nombre_exposed        518\n",
    "nombre_recovered    16020\n",
    "Name: 336, dtype: int64"
   ]
  },
  {
   "cell_type": "markdown",
   "id": "9271b56f",
   "metadata": {},
   "source": [
    "nombre_infected       744\n",
    "nombre_sain          2745\n",
    "nombre_exposed        500\n",
    "nombre_recovered    16011\n",
    "Name: 337, dtype: int64"
   ]
  },
  {
   "cell_type": "markdown",
   "id": "0b7a7459",
   "metadata": {},
   "source": [
    "nombre_infected       788\n",
    "nombre_sain          2719\n",
    "nombre_exposed        509\n",
    "nombre_recovered    15984\n",
    "Name: 338, dtype: int64"
   ]
  },
  {
   "cell_type": "markdown",
   "id": "a8ea6c12",
   "metadata": {},
   "source": [
    "nombre_infected       797\n",
    "nombre_sain          2699\n",
    "nombre_exposed        525\n",
    "nombre_recovered    15979\n",
    "Name: 339, dtype: int64"
   ]
  },
  {
   "cell_type": "markdown",
   "id": "6d572642",
   "metadata": {},
   "source": [
    "nombre_infected       804\n",
    "nombre_sain          2678\n",
    "nombre_exposed        547\n",
    "nombre_recovered    15971\n",
    "Name: 340, dtype: int64"
   ]
  },
  {
   "cell_type": "markdown",
   "id": "7f847a8b",
   "metadata": {},
   "source": [
    "nombre_infected       819\n",
    "nombre_sain          2649\n",
    "nombre_exposed        549\n",
    "nombre_recovered    15983\n",
    "Name: 341, dtype: int64"
   ]
  },
  {
   "cell_type": "markdown",
   "id": "62d9fd4e",
   "metadata": {},
   "source": [
    "nombre_infected       841\n",
    "nombre_sain          2596\n",
    "nombre_exposed        564\n",
    "nombre_recovered    15999\n",
    "Name: 342, dtype: int64"
   ]
  },
  {
   "cell_type": "markdown",
   "id": "379e26e0",
   "metadata": {},
   "source": [
    "nombre_infected       885\n",
    "nombre_sain          2557\n",
    "nombre_exposed        551\n",
    "nombre_recovered    16007\n",
    "Name: 343, dtype: int64"
   ]
  },
  {
   "cell_type": "markdown",
   "id": "f436ca02",
   "metadata": {},
   "source": [
    "nombre_infected       890\n",
    "nombre_sain          2493\n",
    "nombre_exposed        583\n",
    "nombre_recovered    16034\n",
    "Name: 344, dtype: int64"
   ]
  },
  {
   "cell_type": "markdown",
   "id": "bec90337",
   "metadata": {},
   "source": [
    "nombre_infected       904\n",
    "nombre_sain          2455\n",
    "nombre_exposed        586\n",
    "nombre_recovered    16055\n",
    "Name: 345, dtype: int64"
   ]
  },
  {
   "cell_type": "markdown",
   "id": "aec75197",
   "metadata": {},
   "source": [
    "nombre_infected       943\n",
    "nombre_sain          2418\n",
    "nombre_exposed        565\n",
    "nombre_recovered    16074\n",
    "Name: 346, dtype: int64"
   ]
  },
  {
   "cell_type": "markdown",
   "id": "c6edefc6",
   "metadata": {},
   "source": [
    "nombre_infected       960\n",
    "nombre_sain          2380\n",
    "nombre_exposed        566\n",
    "nombre_recovered    16094\n",
    "Name: 347, dtype: int64"
   ]
  },
  {
   "cell_type": "markdown",
   "id": "69b8cfae",
   "metadata": {},
   "source": [
    "nombre_infected       987\n",
    "nombre_sain          2334\n",
    "nombre_exposed        565\n",
    "nombre_recovered    16114\n",
    "Name: 348, dtype: int64"
   ]
  },
  {
   "cell_type": "markdown",
   "id": "55e50aec",
   "metadata": {},
   "source": [
    "nombre_infected      1005\n",
    "nombre_sain          2264\n",
    "nombre_exposed        577\n",
    "nombre_recovered    16154\n",
    "Name: 349, dtype: int64"
   ]
  },
  {
   "cell_type": "markdown",
   "id": "eeb7e8f6",
   "metadata": {},
   "source": [
    "nombre_infected      1016\n",
    "nombre_sain          2225\n",
    "nombre_exposed        565\n",
    "nombre_recovered    16194\n",
    "Name: 350, dtype: int64"
   ]
  },
  {
   "cell_type": "markdown",
   "id": "932bce4e",
   "metadata": {},
   "source": [
    "nombre_infected      1028\n",
    "nombre_sain          2164\n",
    "nombre_exposed        569\n",
    "nombre_recovered    16239\n",
    "Name: 351, dtype: int64"
   ]
  },
  {
   "cell_type": "markdown",
   "id": "e3cc0cea",
   "metadata": {},
   "source": [
    "nombre_infected      1020\n",
    "nombre_sain          2123\n",
    "nombre_exposed        574\n",
    "nombre_recovered    16283\n",
    "Name: 352, dtype: int64"
   ]
  },
  {
   "cell_type": "markdown",
   "id": "ba680a01",
   "metadata": {},
   "source": [
    "nombre_infected      1020\n",
    "nombre_sain          2082\n",
    "nombre_exposed        571\n",
    "nombre_recovered    16327\n",
    "Name: 353, dtype: int64"
   ]
  },
  {
   "cell_type": "markdown",
   "id": "6430c95b",
   "metadata": {},
   "source": [
    "nombre_infected      1035\n",
    "nombre_sain          2063\n",
    "nombre_exposed        558\n",
    "nombre_recovered    16344\n",
    "Name: 354, dtype: int64"
   ]
  },
  {
   "cell_type": "markdown",
   "id": "b040d71a",
   "metadata": {},
   "source": [
    "nombre_infected       994\n",
    "nombre_sain          2049\n",
    "nombre_exposed        551\n",
    "nombre_recovered    16406\n",
    "Name: 355, dtype: int64"
   ]
  },
  {
   "cell_type": "markdown",
   "id": "33c17249",
   "metadata": {},
   "source": [
    "nombre_infected      1019\n",
    "nombre_sain          2037\n",
    "nombre_exposed        510\n",
    "nombre_recovered    16434\n",
    "Name: 356, dtype: int64"
   ]
  },
  {
   "cell_type": "markdown",
   "id": "3ba1863d",
   "metadata": {},
   "source": [
    "nombre_infected      1028\n",
    "nombre_sain          2023\n",
    "nombre_exposed        492\n",
    "nombre_recovered    16457\n",
    "Name: 357, dtype: int64"
   ]
  },
  {
   "cell_type": "markdown",
   "id": "954fa5af",
   "metadata": {},
   "source": [
    "nombre_infected      1013\n",
    "nombre_sain          1984\n",
    "nombre_exposed        506\n",
    "nombre_recovered    16497\n",
    "Name: 358, dtype: int64"
   ]
  },
  {
   "cell_type": "markdown",
   "id": "ec225ddf",
   "metadata": {},
   "source": [
    "nombre_infected       998\n",
    "nombre_sain          1976\n",
    "nombre_exposed        533\n",
    "nombre_recovered    16493\n",
    "Name: 359, dtype: int64"
   ]
  },
  {
   "cell_type": "markdown",
   "id": "6deb3899",
   "metadata": {},
   "source": [
    "nombre_infected       990\n",
    "nombre_sain          1974\n",
    "nombre_exposed        543\n",
    "nombre_recovered    16493\n",
    "Name: 360, dtype: int64"
   ]
  },
  {
   "cell_type": "markdown",
   "id": "81a790a9",
   "metadata": {},
   "source": [
    "nombre_infected       998\n",
    "nombre_sain          1969\n",
    "nombre_exposed        522\n",
    "nombre_recovered    16511\n",
    "Name: 361, dtype: int64"
   ]
  },
  {
   "cell_type": "markdown",
   "id": "aa457b7f",
   "metadata": {},
   "source": [
    "nombre_infected       997\n",
    "nombre_sain          1952\n",
    "nombre_exposed        522\n",
    "nombre_recovered    16529\n",
    "Name: 362, dtype: int64"
   ]
  },
  {
   "cell_type": "markdown",
   "id": "a9f2eff2",
   "metadata": {},
   "source": [
    "nombre_infected       986\n",
    "nombre_sain          1956\n",
    "nombre_exposed        516\n",
    "nombre_recovered    16542\n",
    "Name: 363, dtype: int64"
   ]
  },
  {
   "cell_type": "markdown",
   "id": "e7360cd6",
   "metadata": {},
   "source": [
    "nombre_infected       977\n",
    "nombre_sain          1950\n",
    "nombre_exposed        543\n",
    "nombre_recovered    16530\n",
    "Name: 364, dtype: int64"
   ]
  },
  {
   "cell_type": "markdown",
   "id": "f703575d",
   "metadata": {},
   "source": [
    "nombre_infected       976\n",
    "nombre_sain          1946\n",
    "nombre_exposed        514\n",
    "nombre_recovered    16564\n",
    "Name: 365, dtype: int64"
   ]
  },
  {
   "cell_type": "markdown",
   "id": "6a2c7a51",
   "metadata": {},
   "source": [
    "nombre_infected       992\n",
    "nombre_sain          1961\n",
    "nombre_exposed        485\n",
    "nombre_recovered    16562\n",
    "Name: 366, dtype: int64"
   ]
  },
  {
   "cell_type": "markdown",
   "id": "20034d66",
   "metadata": {},
   "source": [
    "nombre_infected       970\n",
    "nombre_sain          1948\n",
    "nombre_exposed        489\n",
    "nombre_recovered    16593\n",
    "Name: 367, dtype: int64"
   ]
  },
  {
   "cell_type": "markdown",
   "id": "c35f54aa",
   "metadata": {},
   "source": [
    "nombre_infected       945\n",
    "nombre_sain          1943\n",
    "nombre_exposed        490\n",
    "nombre_recovered    16622\n",
    "Name: 368, dtype: int64"
   ]
  },
  {
   "cell_type": "markdown",
   "id": "1a4164f7",
   "metadata": {},
   "source": [
    "nombre_infected       920\n",
    "nombre_sain          1936\n",
    "nombre_exposed        494\n",
    "nombre_recovered    16650\n",
    "Name: 369, dtype: int64"
   ]
  },
  {
   "cell_type": "markdown",
   "id": "b96413d9",
   "metadata": {},
   "source": [
    "nombre_infected       890\n",
    "nombre_sain          1919\n",
    "nombre_exposed        487\n",
    "nombre_recovered    16704\n",
    "Name: 370, dtype: int64"
   ]
  },
  {
   "cell_type": "markdown",
   "id": "37864792",
   "metadata": {},
   "source": [
    "nombre_infected       879\n",
    "nombre_sain          1923\n",
    "nombre_exposed        489\n",
    "nombre_recovered    16709\n",
    "Name: 371, dtype: int64"
   ]
  },
  {
   "cell_type": "markdown",
   "id": "0a0e190f",
   "metadata": {},
   "source": [
    "nombre_infected       891\n",
    "nombre_sain          1904\n",
    "nombre_exposed        495\n",
    "nombre_recovered    16710\n",
    "Name: 372, dtype: int64"
   ]
  },
  {
   "cell_type": "markdown",
   "id": "2f68638f",
   "metadata": {},
   "source": [
    "nombre_infected       874\n",
    "nombre_sain          1917\n",
    "nombre_exposed        510\n",
    "nombre_recovered    16699\n",
    "Name: 373, dtype: int64"
   ]
  },
  {
   "cell_type": "markdown",
   "id": "2e720f49",
   "metadata": {},
   "source": [
    "nombre_infected       891\n",
    "nombre_sain          1923\n",
    "nombre_exposed        495\n",
    "nombre_recovered    16691\n",
    "Name: 374, dtype: int64"
   ]
  },
  {
   "cell_type": "markdown",
   "id": "aa33d842",
   "metadata": {},
   "source": [
    "nombre_infected       877\n",
    "nombre_sain          1971\n",
    "nombre_exposed        496\n",
    "nombre_recovered    16656\n",
    "Name: 375, dtype: int64"
   ]
  },
  {
   "cell_type": "markdown",
   "id": "a4f5967e",
   "metadata": {},
   "source": [
    "nombre_infected       868\n",
    "nombre_sain          1958\n",
    "nombre_exposed        494\n",
    "nombre_recovered    16680\n",
    "Name: 376, dtype: int64"
   ]
  },
  {
   "cell_type": "markdown",
   "id": "d9f327d2",
   "metadata": {},
   "source": [
    "nombre_infected       864\n",
    "nombre_sain          1987\n",
    "nombre_exposed        499\n",
    "nombre_recovered    16650\n",
    "Name: 377, dtype: int64"
   ]
  },
  {
   "cell_type": "markdown",
   "id": "3179a643",
   "metadata": {},
   "source": [
    "nombre_infected       841\n",
    "nombre_sain          2000\n",
    "nombre_exposed        509\n",
    "nombre_recovered    16650\n",
    "Name: 378, dtype: int64"
   ]
  },
  {
   "cell_type": "markdown",
   "id": "c351d893",
   "metadata": {},
   "source": [
    "nombre_infected       836\n",
    "nombre_sain          2029\n",
    "nombre_exposed        507\n",
    "nombre_recovered    16628\n",
    "Name: 379, dtype: int64"
   ]
  },
  {
   "cell_type": "markdown",
   "id": "2ea8b23c",
   "metadata": {},
   "source": [
    "nombre_infected       836\n",
    "nombre_sain          2062\n",
    "nombre_exposed        483\n",
    "nombre_recovered    16619\n",
    "Name: 380, dtype: int64"
   ]
  },
  {
   "cell_type": "markdown",
   "id": "07c1bfc4",
   "metadata": {},
   "source": [
    "nombre_infected       849\n",
    "nombre_sain          2073\n",
    "nombre_exposed        474\n",
    "nombre_recovered    16604\n",
    "Name: 381, dtype: int64"
   ]
  },
  {
   "cell_type": "markdown",
   "id": "7aa1ef82",
   "metadata": {},
   "source": [
    "nombre_infected       879\n",
    "nombre_sain          2071\n",
    "nombre_exposed        449\n",
    "nombre_recovered    16601\n",
    "Name: 382, dtype: int64"
   ]
  },
  {
   "cell_type": "markdown",
   "id": "73ee7ced",
   "metadata": {},
   "source": [
    "nombre_infected       894\n",
    "nombre_sain          2097\n",
    "nombre_exposed        437\n",
    "nombre_recovered    16572\n",
    "Name: 383, dtype: int64"
   ]
  },
  {
   "cell_type": "markdown",
   "id": "e2fc1fca",
   "metadata": {},
   "source": [
    "nombre_infected       856\n",
    "nombre_sain          2090\n",
    "nombre_exposed        448\n",
    "nombre_recovered    16606\n",
    "Name: 384, dtype: int64"
   ]
  },
  {
   "cell_type": "markdown",
   "id": "8a5981ad",
   "metadata": {},
   "source": [
    "nombre_infected       843\n",
    "nombre_sain          2092\n",
    "nombre_exposed        455\n",
    "nombre_recovered    16610\n",
    "Name: 385, dtype: int64"
   ]
  },
  {
   "cell_type": "markdown",
   "id": "e93b0518",
   "metadata": {},
   "source": [
    "nombre_infected       838\n",
    "nombre_sain          2134\n",
    "nombre_exposed        435\n",
    "nombre_recovered    16593\n",
    "Name: 386, dtype: int64"
   ]
  },
  {
   "cell_type": "markdown",
   "id": "1c0b327e",
   "metadata": {},
   "source": [
    "nombre_infected       836\n",
    "nombre_sain          2120\n",
    "nombre_exposed        432\n",
    "nombre_recovered    16612\n",
    "Name: 387, dtype: int64"
   ]
  },
  {
   "cell_type": "markdown",
   "id": "0f892862",
   "metadata": {},
   "source": [
    "nombre_infected       824\n",
    "nombre_sain          2115\n",
    "nombre_exposed        436\n",
    "nombre_recovered    16625\n",
    "Name: 388, dtype: int64"
   ]
  },
  {
   "cell_type": "markdown",
   "id": "ba236178",
   "metadata": {},
   "source": [
    "nombre_infected       802\n",
    "nombre_sain          2105\n",
    "nombre_exposed        450\n",
    "nombre_recovered    16643\n",
    "Name: 389, dtype: int64"
   ]
  },
  {
   "cell_type": "markdown",
   "id": "db7e7f15",
   "metadata": {},
   "source": [
    "nombre_infected       812\n",
    "nombre_sain          2113\n",
    "nombre_exposed        449\n",
    "nombre_recovered    16626\n",
    "Name: 390, dtype: int64"
   ]
  },
  {
   "cell_type": "markdown",
   "id": "36288276",
   "metadata": {},
   "source": [
    "nombre_infected       807\n",
    "nombre_sain          2085\n",
    "nombre_exposed        452\n",
    "nombre_recovered    16656\n",
    "Name: 391, dtype: int64"
   ]
  },
  {
   "cell_type": "markdown",
   "id": "5379b2eb",
   "metadata": {},
   "source": [
    "nombre_infected       807\n",
    "nombre_sain          2089\n",
    "nombre_exposed        460\n",
    "nombre_recovered    16644\n",
    "Name: 392, dtype: int64"
   ]
  },
  {
   "cell_type": "markdown",
   "id": "4528a9bb",
   "metadata": {},
   "source": [
    "nombre_infected       807\n",
    "nombre_sain          2074\n",
    "nombre_exposed        469\n",
    "nombre_recovered    16650\n",
    "Name: 393, dtype: int64"
   ]
  },
  {
   "cell_type": "markdown",
   "id": "a403e36e",
   "metadata": {},
   "source": [
    "nombre_infected       795\n",
    "nombre_sain          2112\n",
    "nombre_exposed        462\n",
    "nombre_recovered    16631\n",
    "Name: 394, dtype: int64"
   ]
  },
  {
   "cell_type": "markdown",
   "id": "60011238",
   "metadata": {},
   "source": [
    "nombre_infected       794\n",
    "nombre_sain          2101\n",
    "nombre_exposed        462\n",
    "nombre_recovered    16643\n",
    "Name: 395, dtype: int64"
   ]
  },
  {
   "cell_type": "markdown",
   "id": "4a3c2fef",
   "metadata": {},
   "source": [
    "nombre_infected       793\n",
    "nombre_sain          2074\n",
    "nombre_exposed        459\n",
    "nombre_recovered    16674\n",
    "Name: 396, dtype: int64"
   ]
  },
  {
   "cell_type": "markdown",
   "id": "b82ef9c2",
   "metadata": {},
   "source": [
    "nombre_infected       762\n",
    "nombre_sain          2078\n",
    "nombre_exposed        459\n",
    "nombre_recovered    16701\n",
    "Name: 397, dtype: int64"
   ]
  },
  {
   "cell_type": "markdown",
   "id": "b1f37c6a",
   "metadata": {},
   "source": [
    "nombre_infected       781\n",
    "nombre_sain          2093\n",
    "nombre_exposed        447\n",
    "nombre_recovered    16679\n",
    "Name: 398, dtype: int64"
   ]
  },
  {
   "cell_type": "markdown",
   "id": "312d8be9",
   "metadata": {},
   "source": [
    "nombre_infected       795\n",
    "nombre_sain          2125\n",
    "nombre_exposed        436\n",
    "nombre_recovered    16644\n",
    "Name: 399, dtype: int64"
   ]
  },
  {
   "cell_type": "markdown",
   "id": "bce5319e",
   "metadata": {},
   "source": [
    "nombre_infected       817\n",
    "nombre_sain          2121\n",
    "nombre_exposed        431\n",
    "nombre_recovered    16631\n",
    "Name: 400, dtype: int64"
   ]
  },
  {
   "cell_type": "markdown",
   "id": "7cc53057",
   "metadata": {},
   "source": [
    "nombre_infected       830\n",
    "nombre_sain          2138\n",
    "nombre_exposed        433\n",
    "nombre_recovered    16599\n",
    "Name: 401, dtype: int64"
   ]
  },
  {
   "cell_type": "markdown",
   "id": "43f738cd",
   "metadata": {},
   "source": [
    "nombre_infected       826\n",
    "nombre_sain          2151\n",
    "nombre_exposed        438\n",
    "nombre_recovered    16585\n",
    "Name: 402, dtype: int64"
   ]
  },
  {
   "cell_type": "markdown",
   "id": "bae7d858",
   "metadata": {},
   "source": [
    "nombre_infected       832\n",
    "nombre_sain          2169\n",
    "nombre_exposed        429\n",
    "nombre_recovered    16570\n",
    "Name: 403, dtype: int64"
   ]
  },
  {
   "cell_type": "markdown",
   "id": "2f2af205",
   "metadata": {},
   "source": [
    "nombre_infected       812\n",
    "nombre_sain          2163\n",
    "nombre_exposed        463\n",
    "nombre_recovered    16562\n",
    "Name: 404, dtype: int64"
   ]
  },
  {
   "cell_type": "markdown",
   "id": "732da581",
   "metadata": {},
   "source": [
    "nombre_infected       810\n",
    "nombre_sain          2195\n",
    "nombre_exposed        482\n",
    "nombre_recovered    16513\n",
    "Name: 405, dtype: int64"
   ]
  },
  {
   "cell_type": "markdown",
   "id": "63015afa",
   "metadata": {},
   "source": [
    "nombre_infected       802\n",
    "nombre_sain          2194\n",
    "nombre_exposed        489\n",
    "nombre_recovered    16515\n",
    "Name: 406, dtype: int64"
   ]
  },
  {
   "cell_type": "markdown",
   "id": "e34855af",
   "metadata": {},
   "source": [
    "nombre_infected       836\n",
    "nombre_sain          2205\n",
    "nombre_exposed        482\n",
    "nombre_recovered    16477\n",
    "Name: 407, dtype: int64"
   ]
  },
  {
   "cell_type": "markdown",
   "id": "7e4a21c2",
   "metadata": {},
   "source": [
    "nombre_infected       855\n",
    "nombre_sain          2211\n",
    "nombre_exposed        480\n",
    "nombre_recovered    16454\n",
    "Name: 408, dtype: int64"
   ]
  },
  {
   "cell_type": "markdown",
   "id": "287b5224",
   "metadata": {},
   "source": [
    "nombre_infected       848\n",
    "nombre_sain          2212\n",
    "nombre_exposed        489\n",
    "nombre_recovered    16451\n",
    "Name: 409, dtype: int64"
   ]
  },
  {
   "cell_type": "markdown",
   "id": "148e7092",
   "metadata": {},
   "source": [
    "nombre_infected       859\n",
    "nombre_sain          2211\n",
    "nombre_exposed        499\n",
    "nombre_recovered    16431\n",
    "Name: 410, dtype: int64"
   ]
  },
  {
   "cell_type": "markdown",
   "id": "8e975562",
   "metadata": {},
   "source": [
    "nombre_infected       856\n",
    "nombre_sain          2229\n",
    "nombre_exposed        497\n",
    "nombre_recovered    16418\n",
    "Name: 411, dtype: int64"
   ]
  },
  {
   "cell_type": "markdown",
   "id": "92dd4cc2",
   "metadata": {},
   "source": [
    "nombre_infected       889\n",
    "nombre_sain          2222\n",
    "nombre_exposed        482\n",
    "nombre_recovered    16407\n",
    "Name: 412, dtype: int64"
   ]
  },
  {
   "cell_type": "markdown",
   "id": "5989c823",
   "metadata": {},
   "source": [
    "nombre_infected       883\n",
    "nombre_sain          2210\n",
    "nombre_exposed        484\n",
    "nombre_recovered    16423\n",
    "Name: 413, dtype: int64"
   ]
  },
  {
   "cell_type": "markdown",
   "id": "955f6d7f",
   "metadata": {},
   "source": [
    "nombre_infected       882\n",
    "nombre_sain          2208\n",
    "nombre_exposed        498\n",
    "nombre_recovered    16412\n",
    "Name: 414, dtype: int64"
   ]
  },
  {
   "cell_type": "markdown",
   "id": "b20a12bb",
   "metadata": {},
   "source": [
    "nombre_infected       869\n",
    "nombre_sain          2217\n",
    "nombre_exposed        504\n",
    "nombre_recovered    16410\n",
    "Name: 415, dtype: int64"
   ]
  },
  {
   "cell_type": "markdown",
   "id": "80f69505",
   "metadata": {},
   "source": [
    "nombre_infected       872\n",
    "nombre_sain          2213\n",
    "nombre_exposed        501\n",
    "nombre_recovered    16414\n",
    "Name: 416, dtype: int64"
   ]
  },
  {
   "cell_type": "markdown",
   "id": "6942874a",
   "metadata": {},
   "source": [
    "nombre_infected       903\n",
    "nombre_sain          2229\n",
    "nombre_exposed        481\n",
    "nombre_recovered    16387\n",
    "Name: 417, dtype: int64"
   ]
  },
  {
   "cell_type": "markdown",
   "id": "c70e64f8",
   "metadata": {},
   "source": [
    "nombre_infected       898\n",
    "nombre_sain          2231\n",
    "nombre_exposed        495\n",
    "nombre_recovered    16376\n",
    "Name: 418, dtype: int64"
   ]
  },
  {
   "cell_type": "markdown",
   "id": "599fa149",
   "metadata": {},
   "source": [
    "nombre_infected       918\n",
    "nombre_sain          2239\n",
    "nombre_exposed        466\n",
    "nombre_recovered    16377\n",
    "Name: 419, dtype: int64"
   ]
  },
  {
   "cell_type": "markdown",
   "id": "6b31f8d6",
   "metadata": {},
   "source": [
    "nombre_infected       926\n",
    "nombre_sain          2221\n",
    "nombre_exposed        474\n",
    "nombre_recovered    16379\n",
    "Name: 420, dtype: int64"
   ]
  },
  {
   "cell_type": "markdown",
   "id": "0cdf4cb5",
   "metadata": {},
   "source": [
    "nombre_infected       908\n",
    "nombre_sain          2211\n",
    "nombre_exposed        508\n",
    "nombre_recovered    16373\n",
    "Name: 421, dtype: int64"
   ]
  },
  {
   "cell_type": "markdown",
   "id": "41b74580",
   "metadata": {},
   "source": [
    "nombre_infected       898\n",
    "nombre_sain          2212\n",
    "nombre_exposed        518\n",
    "nombre_recovered    16372\n",
    "Name: 422, dtype: int64"
   ]
  },
  {
   "cell_type": "markdown",
   "id": "10692acc",
   "metadata": {},
   "source": [
    "nombre_infected       922\n",
    "nombre_sain          2192\n",
    "nombre_exposed        516\n",
    "nombre_recovered    16370\n",
    "Name: 423, dtype: int64"
   ]
  },
  {
   "cell_type": "markdown",
   "id": "820788a7",
   "metadata": {},
   "source": [
    "nombre_infected       934\n",
    "nombre_sain          2206\n",
    "nombre_exposed        505\n",
    "nombre_recovered    16355\n",
    "Name: 424, dtype: int64"
   ]
  },
  {
   "cell_type": "markdown",
   "id": "fac81593",
   "metadata": {},
   "source": [
    "nombre_infected       925\n",
    "nombre_sain          2211\n",
    "nombre_exposed        510\n",
    "nombre_recovered    16354\n",
    "Name: 425, dtype: int64"
   ]
  },
  {
   "cell_type": "markdown",
   "id": "e91a79eb",
   "metadata": {},
   "source": [
    "nombre_infected       940\n",
    "nombre_sain          2208\n",
    "nombre_exposed        513\n",
    "nombre_recovered    16339\n",
    "Name: 426, dtype: int64"
   ]
  },
  {
   "cell_type": "markdown",
   "id": "04d95ac1",
   "metadata": {},
   "source": [
    "nombre_infected       943\n",
    "nombre_sain          2198\n",
    "nombre_exposed        511\n",
    "nombre_recovered    16348\n",
    "Name: 427, dtype: int64"
   ]
  },
  {
   "cell_type": "markdown",
   "id": "8cb9c72a",
   "metadata": {},
   "source": [
    "nombre_infected       928\n",
    "nombre_sain          2194\n",
    "nombre_exposed        531\n",
    "nombre_recovered    16347\n",
    "Name: 428, dtype: int64"
   ]
  },
  {
   "cell_type": "markdown",
   "id": "ffc7f61c",
   "metadata": {},
   "source": [
    "nombre_infected       948\n",
    "nombre_sain          2181\n",
    "nombre_exposed        518\n",
    "nombre_recovered    16353\n",
    "Name: 429, dtype: int64"
   ]
  },
  {
   "cell_type": "markdown",
   "id": "65f55549",
   "metadata": {},
   "source": [
    "nombre_infected       927\n",
    "nombre_sain          2190\n",
    "nombre_exposed        542\n",
    "nombre_recovered    16341\n",
    "Name: 430, dtype: int64"
   ]
  },
  {
   "cell_type": "markdown",
   "id": "f0b0cd06",
   "metadata": {},
   "source": [
    "nombre_infected       923\n",
    "nombre_sain          2225\n",
    "nombre_exposed        528\n",
    "nombre_recovered    16324\n",
    "Name: 431, dtype: int64"
   ]
  },
  {
   "cell_type": "markdown",
   "id": "5742be5f",
   "metadata": {},
   "source": [
    "nombre_infected       948\n",
    "nombre_sain          2215\n",
    "nombre_exposed        544\n",
    "nombre_recovered    16293\n",
    "Name: 432, dtype: int64"
   ]
  },
  {
   "cell_type": "markdown",
   "id": "858767a9",
   "metadata": {},
   "source": [
    "nombre_infected       972\n",
    "nombre_sain          2245\n",
    "nombre_exposed        529\n",
    "nombre_recovered    16254\n",
    "Name: 433, dtype: int64"
   ]
  },
  {
   "cell_type": "markdown",
   "id": "7dbdedfe",
   "metadata": {},
   "source": [
    "nombre_infected       969\n",
    "nombre_sain          2250\n",
    "nombre_exposed        526\n",
    "nombre_recovered    16255\n",
    "Name: 434, dtype: int64"
   ]
  },
  {
   "cell_type": "markdown",
   "id": "bf0d80e4",
   "metadata": {},
   "source": [
    "nombre_infected       971\n",
    "nombre_sain          2279\n",
    "nombre_exposed        514\n",
    "nombre_recovered    16236\n",
    "Name: 435, dtype: int64"
   ]
  },
  {
   "cell_type": "markdown",
   "id": "9e03bbdf",
   "metadata": {},
   "source": [
    "nombre_infected       984\n",
    "nombre_sain          2278\n",
    "nombre_exposed        504\n",
    "nombre_recovered    16234\n",
    "Name: 436, dtype: int64"
   ]
  },
  {
   "cell_type": "markdown",
   "id": "d19b3911",
   "metadata": {},
   "source": [
    "nombre_infected       982\n",
    "nombre_sain          2275\n",
    "nombre_exposed        490\n",
    "nombre_recovered    16253\n",
    "Name: 437, dtype: int64"
   ]
  },
  {
   "cell_type": "markdown",
   "id": "8507831b",
   "metadata": {},
   "source": [
    "nombre_infected       995\n",
    "nombre_sain          2247\n",
    "nombre_exposed        506\n",
    "nombre_recovered    16252\n",
    "Name: 438, dtype: int64"
   ]
  },
  {
   "cell_type": "markdown",
   "id": "c811ea06",
   "metadata": {},
   "source": [
    "nombre_infected       932\n",
    "nombre_sain          2253\n",
    "nombre_exposed        521\n",
    "nombre_recovered    16294\n",
    "Name: 439, dtype: int64"
   ]
  },
  {
   "cell_type": "markdown",
   "id": "79cbbae6",
   "metadata": {},
   "source": [
    "nombre_infected       914\n",
    "nombre_sain          2235\n",
    "nombre_exposed        537\n",
    "nombre_recovered    16314\n",
    "Name: 440, dtype: int64"
   ]
  },
  {
   "cell_type": "markdown",
   "id": "7337510a",
   "metadata": {},
   "source": [
    "nombre_infected       897\n",
    "nombre_sain          2235\n",
    "nombre_exposed        537\n",
    "nombre_recovered    16331\n",
    "Name: 441, dtype: int64"
   ]
  },
  {
   "cell_type": "markdown",
   "id": "9004022e",
   "metadata": {},
   "source": [
    "nombre_infected       922\n",
    "nombre_sain          2224\n",
    "nombre_exposed        528\n",
    "nombre_recovered    16326\n",
    "Name: 442, dtype: int64"
   ]
  },
  {
   "cell_type": "markdown",
   "id": "61b77a04",
   "metadata": {},
   "source": [
    "nombre_infected       936\n",
    "nombre_sain          2204\n",
    "nombre_exposed        522\n",
    "nombre_recovered    16338\n",
    "Name: 443, dtype: int64"
   ]
  },
  {
   "cell_type": "markdown",
   "id": "823e7490",
   "metadata": {},
   "source": [
    "nombre_infected       947\n",
    "nombre_sain          2178\n",
    "nombre_exposed        528\n",
    "nombre_recovered    16347\n",
    "Name: 444, dtype: int64"
   ]
  },
  {
   "cell_type": "markdown",
   "id": "86355e60",
   "metadata": {},
   "source": [
    "nombre_infected       922\n",
    "nombre_sain          2213\n",
    "nombre_exposed        520\n",
    "nombre_recovered    16345\n",
    "Name: 445, dtype: int64"
   ]
  },
  {
   "cell_type": "markdown",
   "id": "3b6b59de",
   "metadata": {},
   "source": [
    "nombre_infected       934\n",
    "nombre_sain          2202\n",
    "nombre_exposed        519\n",
    "nombre_recovered    16345\n",
    "Name: 446, dtype: int64"
   ]
  },
  {
   "cell_type": "markdown",
   "id": "1bde2978",
   "metadata": {},
   "source": [
    "nombre_infected       946\n",
    "nombre_sain          2230\n",
    "nombre_exposed        497\n",
    "nombre_recovered    16327\n",
    "Name: 447, dtype: int64"
   ]
  },
  {
   "cell_type": "markdown",
   "id": "24f22da0",
   "metadata": {},
   "source": [
    "nombre_infected       917\n",
    "nombre_sain          2239\n",
    "nombre_exposed        515\n",
    "nombre_recovered    16329\n",
    "Name: 448, dtype: int64"
   ]
  },
  {
   "cell_type": "markdown",
   "id": "f52933b3",
   "metadata": {},
   "source": [
    "nombre_infected       919\n",
    "nombre_sain          2214\n",
    "nombre_exposed        533\n",
    "nombre_recovered    16334\n",
    "Name: 449, dtype: int64"
   ]
  },
  {
   "cell_type": "markdown",
   "id": "cdc4b048",
   "metadata": {},
   "source": [
    "nombre_infected       936\n",
    "nombre_sain          2212\n",
    "nombre_exposed        531\n",
    "nombre_recovered    16321\n",
    "Name: 450, dtype: int64"
   ]
  },
  {
   "cell_type": "markdown",
   "id": "cc53c6d9",
   "metadata": {},
   "source": [
    "nombre_infected       950\n",
    "nombre_sain          2194\n",
    "nombre_exposed        537\n",
    "nombre_recovered    16319\n",
    "Name: 451, dtype: int64"
   ]
  },
  {
   "cell_type": "markdown",
   "id": "fd9d5c73",
   "metadata": {},
   "source": [
    "nombre_infected       948\n",
    "nombre_sain          2201\n",
    "nombre_exposed        542\n",
    "nombre_recovered    16309\n",
    "Name: 452, dtype: int64"
   ]
  },
  {
   "cell_type": "markdown",
   "id": "88f9716b",
   "metadata": {},
   "source": [
    "nombre_infected       953\n",
    "nombre_sain          2207\n",
    "nombre_exposed        551\n",
    "nombre_recovered    16289\n",
    "Name: 453, dtype: int64"
   ]
  },
  {
   "cell_type": "markdown",
   "id": "408349dd",
   "metadata": {},
   "source": [
    "nombre_infected       968\n",
    "nombre_sain          2186\n",
    "nombre_exposed        560\n",
    "nombre_recovered    16286\n",
    "Name: 454, dtype: int64"
   ]
  },
  {
   "cell_type": "markdown",
   "id": "c050fbd1",
   "metadata": {},
   "source": [
    "nombre_infected       983\n",
    "nombre_sain          2165\n",
    "nombre_exposed        577\n",
    "nombre_recovered    16275\n",
    "Name: 455, dtype: int64"
   ]
  },
  {
   "cell_type": "markdown",
   "id": "af0107c4",
   "metadata": {},
   "source": [
    "nombre_infected       978\n",
    "nombre_sain          2166\n",
    "nombre_exposed        578\n",
    "nombre_recovered    16278\n",
    "Name: 456, dtype: int64"
   ]
  },
  {
   "cell_type": "markdown",
   "id": "ae5c41fa",
   "metadata": {},
   "source": [
    "nombre_infected       994\n",
    "nombre_sain          2140\n",
    "nombre_exposed        584\n",
    "nombre_recovered    16282\n",
    "Name: 457, dtype: int64"
   ]
  },
  {
   "cell_type": "markdown",
   "id": "15863435",
   "metadata": {},
   "source": [
    "nombre_infected       973\n",
    "nombre_sain          2140\n",
    "nombre_exposed        603\n",
    "nombre_recovered    16284\n",
    "Name: 458, dtype: int64"
   ]
  },
  {
   "cell_type": "markdown",
   "id": "3a6fcbd7",
   "metadata": {},
   "source": [
    "nombre_infected       950\n",
    "nombre_sain          2145\n",
    "nombre_exposed        603\n",
    "nombre_recovered    16302\n",
    "Name: 459, dtype: int64"
   ]
  },
  {
   "cell_type": "markdown",
   "id": "00ad0013",
   "metadata": {},
   "source": [
    "nombre_infected       975\n",
    "nombre_sain          2150\n",
    "nombre_exposed        576\n",
    "nombre_recovered    16299\n",
    "Name: 460, dtype: int64"
   ]
  },
  {
   "cell_type": "markdown",
   "id": "291e350c",
   "metadata": {},
   "source": [
    "nombre_infected      1004\n",
    "nombre_sain          2132\n",
    "nombre_exposed        566\n",
    "nombre_recovered    16298\n",
    "Name: 461, dtype: int64"
   ]
  },
  {
   "cell_type": "markdown",
   "id": "4cfb33af",
   "metadata": {},
   "source": [
    "nombre_infected       991\n",
    "nombre_sain          2115\n",
    "nombre_exposed        574\n",
    "nombre_recovered    16320\n",
    "Name: 462, dtype: int64"
   ]
  },
  {
   "cell_type": "markdown",
   "id": "992240d2",
   "metadata": {},
   "source": [
    "nombre_infected      1025\n",
    "nombre_sain          2114\n",
    "nombre_exposed        569\n",
    "nombre_recovered    16292\n",
    "Name: 463, dtype: int64"
   ]
  },
  {
   "cell_type": "markdown",
   "id": "0a685fb8",
   "metadata": {},
   "source": [
    "nombre_infected      1027\n",
    "nombre_sain          2133\n",
    "nombre_exposed        551\n",
    "nombre_recovered    16289\n",
    "Name: 464, dtype: int64"
   ]
  },
  {
   "cell_type": "markdown",
   "id": "ef3da2e1",
   "metadata": {},
   "source": [
    "nombre_infected      1031\n",
    "nombre_sain          2142\n",
    "nombre_exposed        540\n",
    "nombre_recovered    16287\n",
    "Name: 465, dtype: int64"
   ]
  },
  {
   "cell_type": "markdown",
   "id": "98c42ce3",
   "metadata": {},
   "source": [
    "nombre_infected      1033\n",
    "nombre_sain          2134\n",
    "nombre_exposed        529\n",
    "nombre_recovered    16304\n",
    "Name: 466, dtype: int64"
   ]
  },
  {
   "cell_type": "markdown",
   "id": "71f1dbb2",
   "metadata": {},
   "source": [
    "nombre_infected      1001\n",
    "nombre_sain          2113\n",
    "nombre_exposed        561\n",
    "nombre_recovered    16325\n",
    "Name: 467, dtype: int64"
   ]
  },
  {
   "cell_type": "markdown",
   "id": "53d3f441",
   "metadata": {},
   "source": [
    "nombre_infected      1006\n",
    "nombre_sain          2141\n",
    "nombre_exposed        555\n",
    "nombre_recovered    16298\n",
    "Name: 468, dtype: int64"
   ]
  },
  {
   "cell_type": "markdown",
   "id": "bd28a94d",
   "metadata": {},
   "source": [
    "nombre_infected       991\n",
    "nombre_sain          2137\n",
    "nombre_exposed        570\n",
    "nombre_recovered    16302\n",
    "Name: 469, dtype: int64"
   ]
  },
  {
   "cell_type": "markdown",
   "id": "5f46fadb",
   "metadata": {},
   "source": [
    "nombre_infected       991\n",
    "nombre_sain          2122\n",
    "nombre_exposed        580\n",
    "nombre_recovered    16307\n",
    "Name: 470, dtype: int64"
   ]
  },
  {
   "cell_type": "markdown",
   "id": "101e77ca",
   "metadata": {},
   "source": [
    "nombre_infected      1000\n",
    "nombre_sain          2132\n",
    "nombre_exposed        577\n",
    "nombre_recovered    16291\n",
    "Name: 471, dtype: int64"
   ]
  },
  {
   "cell_type": "markdown",
   "id": "fff37b22",
   "metadata": {},
   "source": [
    "nombre_infected      1008\n",
    "nombre_sain          2144\n",
    "nombre_exposed        566\n",
    "nombre_recovered    16282\n",
    "Name: 472, dtype: int64"
   ]
  },
  {
   "cell_type": "markdown",
   "id": "19c8f4d2",
   "metadata": {},
   "source": [
    "nombre_infected      1009\n",
    "nombre_sain          2138\n",
    "nombre_exposed        593\n",
    "nombre_recovered    16260\n",
    "Name: 473, dtype: int64"
   ]
  },
  {
   "cell_type": "markdown",
   "id": "e272b3c9",
   "metadata": {},
   "source": [
    "nombre_infected      1022\n",
    "nombre_sain          2167\n",
    "nombre_exposed        571\n",
    "nombre_recovered    16240\n",
    "Name: 474, dtype: int64"
   ]
  },
  {
   "cell_type": "markdown",
   "id": "eb07676e",
   "metadata": {},
   "source": [
    "nombre_infected      1015\n",
    "nombre_sain          2185\n",
    "nombre_exposed        582\n",
    "nombre_recovered    16218\n",
    "Name: 475, dtype: int64"
   ]
  },
  {
   "cell_type": "markdown",
   "id": "c607a125",
   "metadata": {},
   "source": [
    "nombre_infected      1035\n",
    "nombre_sain          2190\n",
    "nombre_exposed        561\n",
    "nombre_recovered    16214\n",
    "Name: 476, dtype: int64"
   ]
  },
  {
   "cell_type": "markdown",
   "id": "39dd7c18",
   "metadata": {},
   "source": [
    "nombre_infected      1016\n",
    "nombre_sain          2182\n",
    "nombre_exposed        564\n",
    "nombre_recovered    16238\n",
    "Name: 477, dtype: int64"
   ]
  },
  {
   "cell_type": "markdown",
   "id": "05efe6c1",
   "metadata": {},
   "source": [
    "nombre_infected      1003\n",
    "nombre_sain          2212\n",
    "nombre_exposed        562\n",
    "nombre_recovered    16223\n",
    "Name: 478, dtype: int64"
   ]
  },
  {
   "cell_type": "markdown",
   "id": "40f317d3",
   "metadata": {},
   "source": [
    "nombre_infected      1037\n",
    "nombre_sain          2232\n",
    "nombre_exposed        544\n",
    "nombre_recovered    16187\n",
    "Name: 479, dtype: int64"
   ]
  },
  {
   "cell_type": "markdown",
   "id": "3d20b6a2",
   "metadata": {},
   "source": [
    "nombre_infected      1043\n",
    "nombre_sain          2222\n",
    "nombre_exposed        544\n",
    "nombre_recovered    16191\n",
    "Name: 480, dtype: int64"
   ]
  },
  {
   "cell_type": "markdown",
   "id": "f7725407",
   "metadata": {},
   "source": [
    "nombre_infected      1010\n",
    "nombre_sain          2211\n",
    "nombre_exposed        571\n",
    "nombre_recovered    16208\n",
    "Name: 481, dtype: int64"
   ]
  },
  {
   "cell_type": "markdown",
   "id": "3eeb53ec",
   "metadata": {},
   "source": [
    "nombre_infected      1025\n",
    "nombre_sain          2211\n",
    "nombre_exposed        559\n",
    "nombre_recovered    16205\n",
    "Name: 482, dtype: int64"
   ]
  },
  {
   "cell_type": "markdown",
   "id": "03c6ef93",
   "metadata": {},
   "source": [
    "nombre_infected       995\n",
    "nombre_sain          2230\n",
    "nombre_exposed        558\n",
    "nombre_recovered    16217\n",
    "Name: 483, dtype: int64"
   ]
  },
  {
   "cell_type": "markdown",
   "id": "44ed863e",
   "metadata": {},
   "source": [
    "nombre_infected      1020\n",
    "nombre_sain          2228\n",
    "nombre_exposed        556\n",
    "nombre_recovered    16196\n",
    "Name: 484, dtype: int64"
   ]
  },
  {
   "cell_type": "markdown",
   "id": "228a4be5",
   "metadata": {},
   "source": [
    "nombre_infected      1018\n",
    "nombre_sain          2229\n",
    "nombre_exposed        562\n",
    "nombre_recovered    16191\n",
    "Name: 485, dtype: int64"
   ]
  },
  {
   "cell_type": "markdown",
   "id": "cb9c66e2",
   "metadata": {},
   "source": [
    "nombre_infected      1005\n",
    "nombre_sain          2228\n",
    "nombre_exposed        551\n",
    "nombre_recovered    16216\n",
    "Name: 486, dtype: int64"
   ]
  },
  {
   "cell_type": "markdown",
   "id": "c3b49c4a",
   "metadata": {},
   "source": [
    "nombre_infected      1000\n",
    "nombre_sain          2195\n",
    "nombre_exposed        583\n",
    "nombre_recovered    16222\n",
    "Name: 487, dtype: int64"
   ]
  },
  {
   "cell_type": "markdown",
   "id": "12933465",
   "metadata": {},
   "source": [
    "nombre_infected       985\n",
    "nombre_sain          2188\n",
    "nombre_exposed        606\n",
    "nombre_recovered    16221\n",
    "Name: 488, dtype: int64"
   ]
  },
  {
   "cell_type": "markdown",
   "id": "f9b58465",
   "metadata": {},
   "source": [
    "nombre_infected       970\n",
    "nombre_sain          2185\n",
    "nombre_exposed        618\n",
    "nombre_recovered    16227\n",
    "Name: 489, dtype: int64"
   ]
  },
  {
   "cell_type": "markdown",
   "id": "c4ccddb8",
   "metadata": {},
   "source": [
    "nombre_infected       973\n",
    "nombre_sain          2172\n",
    "nombre_exposed        619\n",
    "nombre_recovered    16236\n",
    "Name: 490, dtype: int64"
   ]
  },
  {
   "cell_type": "markdown",
   "id": "69b25732",
   "metadata": {},
   "source": [
    "nombre_infected       984\n",
    "nombre_sain          2155\n",
    "nombre_exposed        613\n",
    "nombre_recovered    16248\n",
    "Name: 491, dtype: int64"
   ]
  },
  {
   "cell_type": "markdown",
   "id": "8b39ebec",
   "metadata": {},
   "source": [
    "nombre_infected       980\n",
    "nombre_sain          2148\n",
    "nombre_exposed        621\n",
    "nombre_recovered    16251\n",
    "Name: 492, dtype: int64"
   ]
  },
  {
   "cell_type": "markdown",
   "id": "164024e2",
   "metadata": {},
   "source": [
    "nombre_infected      1009\n",
    "nombre_sain          2130\n",
    "nombre_exposed        599\n",
    "nombre_recovered    16262\n",
    "Name: 493, dtype: int64"
   ]
  },
  {
   "cell_type": "markdown",
   "id": "789569f7",
   "metadata": {},
   "source": [
    "nombre_infected      1028\n",
    "nombre_sain          2091\n",
    "nombre_exposed        600\n",
    "nombre_recovered    16281\n",
    "Name: 494, dtype: int64"
   ]
  },
  {
   "cell_type": "markdown",
   "id": "a7dcb2b3",
   "metadata": {},
   "source": [
    "nombre_infected      1039\n",
    "nombre_sain          2097\n",
    "nombre_exposed        575\n",
    "nombre_recovered    16289\n",
    "Name: 495, dtype: int64"
   ]
  },
  {
   "cell_type": "markdown",
   "id": "d1d95f12",
   "metadata": {},
   "source": [
    "nombre_infected      1040\n",
    "nombre_sain          2094\n",
    "nombre_exposed        572\n",
    "nombre_recovered    16294\n",
    "Name: 496, dtype: int64"
   ]
  },
  {
   "cell_type": "markdown",
   "id": "e3c64c6c",
   "metadata": {},
   "source": [
    "nombre_infected      1011\n",
    "nombre_sain          2087\n",
    "nombre_exposed        561\n",
    "nombre_recovered    16341\n",
    "Name: 497, dtype: int64"
   ]
  },
  {
   "cell_type": "markdown",
   "id": "78038e26",
   "metadata": {},
   "source": [
    "nombre_infected      1015\n",
    "nombre_sain          2087\n",
    "nombre_exposed        558\n",
    "nombre_recovered    16340\n",
    "Name: 498, dtype: int64"
   ]
  },
  {
   "cell_type": "markdown",
   "id": "2ff09e5c",
   "metadata": {},
   "source": [
    "nombre_infected      1004\n",
    "nombre_sain          2099\n",
    "nombre_exposed        542\n",
    "nombre_recovered    16355\n",
    "Name: 499, dtype: int64"
   ]
  },
  {
   "cell_type": "markdown",
   "id": "4b249e5b",
   "metadata": {},
   "source": [
    "nombre_infected       979\n",
    "nombre_sain          2113\n",
    "nombre_exposed        554\n",
    "nombre_recovered    16354\n",
    "Name: 500, dtype: int64"
   ]
  },
  {
   "cell_type": "markdown",
   "id": "0e7deda7",
   "metadata": {},
   "source": [
    "nombre_infected       948\n",
    "nombre_sain          2114\n",
    "nombre_exposed        554\n",
    "nombre_recovered    16384\n",
    "Name: 501, dtype: int64"
   ]
  },
  {
   "cell_type": "markdown",
   "id": "588e5b4d",
   "metadata": {},
   "source": [
    "nombre_infected       910\n",
    "nombre_sain          2104\n",
    "nombre_exposed        566\n",
    "nombre_recovered    16420\n",
    "Name: 502, dtype: int64"
   ]
  },
  {
   "cell_type": "markdown",
   "id": "4c27fa8c",
   "metadata": {},
   "source": [
    "nombre_infected       909\n",
    "nombre_sain          2102\n",
    "nombre_exposed        543\n",
    "nombre_recovered    16446\n",
    "Name: 503, dtype: int64"
   ]
  },
  {
   "cell_type": "markdown",
   "id": "21db8247",
   "metadata": {},
   "source": [
    "nombre_infected       909\n",
    "nombre_sain          2105\n",
    "nombre_exposed        519\n",
    "nombre_recovered    16467\n",
    "Name: 504, dtype: int64"
   ]
  },
  {
   "cell_type": "markdown",
   "id": "bd0acf5e",
   "metadata": {},
   "source": [
    "nombre_infected       901\n",
    "nombre_sain          2102\n",
    "nombre_exposed        515\n",
    "nombre_recovered    16482\n",
    "Name: 505, dtype: int64"
   ]
  },
  {
   "cell_type": "markdown",
   "id": "4d11b7c4",
   "metadata": {},
   "source": [
    "nombre_infected       898\n",
    "nombre_sain          2114\n",
    "nombre_exposed        500\n",
    "nombre_recovered    16488\n",
    "Name: 506, dtype: int64"
   ]
  },
  {
   "cell_type": "markdown",
   "id": "12d8c000",
   "metadata": {},
   "source": [
    "nombre_infected       883\n",
    "nombre_sain          2118\n",
    "nombre_exposed        489\n",
    "nombre_recovered    16510\n",
    "Name: 507, dtype: int64"
   ]
  },
  {
   "cell_type": "markdown",
   "id": "56e9b1a4",
   "metadata": {},
   "source": [
    "nombre_infected       864\n",
    "nombre_sain          2136\n",
    "nombre_exposed        465\n",
    "nombre_recovered    16535\n",
    "Name: 508, dtype: int64"
   ]
  },
  {
   "cell_type": "markdown",
   "id": "d2df1109",
   "metadata": {},
   "source": [
    "nombre_infected       863\n",
    "nombre_sain          2128\n",
    "nombre_exposed        458\n",
    "nombre_recovered    16551\n",
    "Name: 509, dtype: int64"
   ]
  },
  {
   "cell_type": "markdown",
   "id": "4f0239a1",
   "metadata": {},
   "source": [
    "nombre_infected       835\n",
    "nombre_sain          2129\n",
    "nombre_exposed        437\n",
    "nombre_recovered    16599\n",
    "Name: 510, dtype: int64"
   ]
  },
  {
   "cell_type": "markdown",
   "id": "5a8725f8",
   "metadata": {},
   "source": [
    "nombre_infected       824\n",
    "nombre_sain          2107\n",
    "nombre_exposed        456\n",
    "nombre_recovered    16613\n",
    "Name: 511, dtype: int64"
   ]
  },
  {
   "cell_type": "markdown",
   "id": "a40cface",
   "metadata": {},
   "source": [
    "nombre_infected       810\n",
    "nombre_sain          2130\n",
    "nombre_exposed        436\n",
    "nombre_recovered    16624\n",
    "Name: 512, dtype: int64"
   ]
  },
  {
   "cell_type": "markdown",
   "id": "c9bb0780",
   "metadata": {},
   "source": [
    "nombre_infected       783\n",
    "nombre_sain          2160\n",
    "nombre_exposed        457\n",
    "nombre_recovered    16600\n",
    "Name: 513, dtype: int64"
   ]
  },
  {
   "cell_type": "markdown",
   "id": "0ffc7ea9",
   "metadata": {},
   "source": [
    "nombre_infected       778\n",
    "nombre_sain          2156\n",
    "nombre_exposed        459\n",
    "nombre_recovered    16607\n",
    "Name: 514, dtype: int64"
   ]
  },
  {
   "cell_type": "markdown",
   "id": "658ea380",
   "metadata": {},
   "source": [
    "nombre_infected       776\n",
    "nombre_sain          2165\n",
    "nombre_exposed        461\n",
    "nombre_recovered    16598\n",
    "Name: 515, dtype: int64"
   ]
  },
  {
   "cell_type": "markdown",
   "id": "d304eb64",
   "metadata": {},
   "source": [
    "nombre_infected       771\n",
    "nombre_sain          2171\n",
    "nombre_exposed        452\n",
    "nombre_recovered    16606\n",
    "Name: 516, dtype: int64"
   ]
  },
  {
   "cell_type": "markdown",
   "id": "acf88797",
   "metadata": {},
   "source": [
    "nombre_infected       776\n",
    "nombre_sain          2160\n",
    "nombre_exposed        457\n",
    "nombre_recovered    16607\n",
    "Name: 517, dtype: int64"
   ]
  },
  {
   "cell_type": "markdown",
   "id": "cf2afd2c",
   "metadata": {},
   "source": [
    "nombre_infected       793\n",
    "nombre_sain          2178\n",
    "nombre_exposed        423\n",
    "nombre_recovered    16606\n",
    "Name: 518, dtype: int64"
   ]
  },
  {
   "cell_type": "markdown",
   "id": "eab80361",
   "metadata": {},
   "source": [
    "nombre_infected       780\n",
    "nombre_sain          2185\n",
    "nombre_exposed        455\n",
    "nombre_recovered    16580\n",
    "Name: 519, dtype: int64"
   ]
  },
  {
   "cell_type": "markdown",
   "id": "fa51c815",
   "metadata": {},
   "source": [
    "nombre_infected       767\n",
    "nombre_sain          2209\n",
    "nombre_exposed        457\n",
    "nombre_recovered    16567\n",
    "Name: 520, dtype: int64"
   ]
  },
  {
   "cell_type": "markdown",
   "id": "41c5ca71",
   "metadata": {},
   "source": [
    "nombre_infected       767\n",
    "nombre_sain          2230\n",
    "nombre_exposed        457\n",
    "nombre_recovered    16546\n",
    "Name: 521, dtype: int64"
   ]
  },
  {
   "cell_type": "markdown",
   "id": "5cf2b998",
   "metadata": {},
   "source": [
    "nombre_infected       763\n",
    "nombre_sain          2229\n",
    "nombre_exposed        469\n",
    "nombre_recovered    16539\n",
    "Name: 522, dtype: int64"
   ]
  },
  {
   "cell_type": "markdown",
   "id": "f780a4fb",
   "metadata": {},
   "source": [
    "nombre_infected       773\n",
    "nombre_sain          2224\n",
    "nombre_exposed        455\n",
    "nombre_recovered    16548\n",
    "Name: 523, dtype: int64"
   ]
  },
  {
   "cell_type": "markdown",
   "id": "4ebd8515",
   "metadata": {},
   "source": [
    "nombre_infected       784\n",
    "nombre_sain          2235\n",
    "nombre_exposed        439\n",
    "nombre_recovered    16542\n",
    "Name: 524, dtype: int64"
   ]
  },
  {
   "cell_type": "markdown",
   "id": "b71ed706",
   "metadata": {},
   "source": [
    "nombre_infected       768\n",
    "nombre_sain          2239\n",
    "nombre_exposed        448\n",
    "nombre_recovered    16545\n",
    "Name: 525, dtype: int64"
   ]
  },
  {
   "cell_type": "markdown",
   "id": "2ce31f64",
   "metadata": {},
   "source": [
    "nombre_infected       757\n",
    "nombre_sain          2260\n",
    "nombre_exposed        456\n",
    "nombre_recovered    16527\n",
    "Name: 526, dtype: int64"
   ]
  },
  {
   "cell_type": "markdown",
   "id": "f5434a42",
   "metadata": {},
   "source": [
    "nombre_infected       732\n",
    "nombre_sain          2293\n",
    "nombre_exposed        427\n",
    "nombre_recovered    16548\n",
    "Name: 527, dtype: int64"
   ]
  },
  {
   "cell_type": "markdown",
   "id": "3d99c875",
   "metadata": {},
   "source": [
    "nombre_infected       717\n",
    "nombre_sain          2313\n",
    "nombre_exposed        446\n",
    "nombre_recovered    16524\n",
    "Name: 528, dtype: int64"
   ]
  },
  {
   "cell_type": "markdown",
   "id": "6fe1102d",
   "metadata": {},
   "source": [
    "nombre_infected       723\n",
    "nombre_sain          2310\n",
    "nombre_exposed        431\n",
    "nombre_recovered    16536\n",
    "Name: 529, dtype: int64"
   ]
  },
  {
   "cell_type": "markdown",
   "id": "457f10d9",
   "metadata": {},
   "source": [
    "nombre_infected       758\n",
    "nombre_sain          2316\n",
    "nombre_exposed        419\n",
    "nombre_recovered    16507\n",
    "Name: 530, dtype: int64"
   ]
  },
  {
   "cell_type": "markdown",
   "id": "6a3913f4",
   "metadata": {},
   "source": [
    "nombre_infected       734\n",
    "nombre_sain          2301\n",
    "nombre_exposed        461\n",
    "nombre_recovered    16504\n",
    "Name: 531, dtype: int64"
   ]
  },
  {
   "cell_type": "markdown",
   "id": "252e00fc",
   "metadata": {},
   "source": [
    "nombre_infected       743\n",
    "nombre_sain          2321\n",
    "nombre_exposed        453\n",
    "nombre_recovered    16483\n",
    "Name: 532, dtype: int64"
   ]
  },
  {
   "cell_type": "markdown",
   "id": "48b1cb8a",
   "metadata": {},
   "source": [
    "nombre_infected       756\n",
    "nombre_sain          2308\n",
    "nombre_exposed        457\n",
    "nombre_recovered    16479\n",
    "Name: 533, dtype: int64"
   ]
  },
  {
   "cell_type": "markdown",
   "id": "1c58147e",
   "metadata": {},
   "source": [
    "nombre_infected       771\n",
    "nombre_sain          2332\n",
    "nombre_exposed        444\n",
    "nombre_recovered    16453\n",
    "Name: 534, dtype: int64"
   ]
  },
  {
   "cell_type": "markdown",
   "id": "3a166323",
   "metadata": {},
   "source": [
    "nombre_infected       767\n",
    "nombre_sain          2368\n",
    "nombre_exposed        455\n",
    "nombre_recovered    16410\n",
    "Name: 535, dtype: int64"
   ]
  },
  {
   "cell_type": "markdown",
   "id": "696de2b0",
   "metadata": {},
   "source": [
    "nombre_infected       757\n",
    "nombre_sain          2386\n",
    "nombre_exposed        461\n",
    "nombre_recovered    16396\n",
    "Name: 536, dtype: int64"
   ]
  },
  {
   "cell_type": "markdown",
   "id": "14b02176",
   "metadata": {},
   "source": [
    "nombre_infected       745\n",
    "nombre_sain          2407\n",
    "nombre_exposed        459\n",
    "nombre_recovered    16389\n",
    "Name: 537, dtype: int64"
   ]
  },
  {
   "cell_type": "markdown",
   "id": "c6b127fa",
   "metadata": {},
   "source": [
    "nombre_infected       765\n",
    "nombre_sain          2416\n",
    "nombre_exposed        471\n",
    "nombre_recovered    16348\n",
    "Name: 538, dtype: int64"
   ]
  },
  {
   "cell_type": "markdown",
   "id": "515d9166",
   "metadata": {},
   "source": [
    "nombre_infected       772\n",
    "nombre_sain          2399\n",
    "nombre_exposed        478\n",
    "nombre_recovered    16351\n",
    "Name: 539, dtype: int64"
   ]
  },
  {
   "cell_type": "markdown",
   "id": "b7ec0ab4",
   "metadata": {},
   "source": [
    "nombre_infected       745\n",
    "nombre_sain          2400\n",
    "nombre_exposed        504\n",
    "nombre_recovered    16351\n",
    "Name: 540, dtype: int64"
   ]
  },
  {
   "cell_type": "markdown",
   "id": "ec0df608",
   "metadata": {},
   "source": [
    "nombre_infected       759\n",
    "nombre_sain          2399\n",
    "nombre_exposed        510\n",
    "nombre_recovered    16332\n",
    "Name: 541, dtype: int64"
   ]
  },
  {
   "cell_type": "markdown",
   "id": "a7a0a28b",
   "metadata": {},
   "source": [
    "nombre_infected       776\n",
    "nombre_sain          2395\n",
    "nombre_exposed        511\n",
    "nombre_recovered    16318\n",
    "Name: 542, dtype: int64"
   ]
  },
  {
   "cell_type": "markdown",
   "id": "a45a26ed",
   "metadata": {},
   "source": [
    "nombre_infected       807\n",
    "nombre_sain          2385\n",
    "nombre_exposed        503\n",
    "nombre_recovered    16305\n",
    "Name: 543, dtype: int64"
   ]
  },
  {
   "cell_type": "markdown",
   "id": "3e8948d3",
   "metadata": {},
   "source": [
    "nombre_infected       835\n",
    "nombre_sain          2387\n",
    "nombre_exposed        488\n",
    "nombre_recovered    16290\n",
    "Name: 544, dtype: int64"
   ]
  },
  {
   "cell_type": "markdown",
   "id": "6f5b2ec2",
   "metadata": {},
   "source": [
    "nombre_infected       846\n",
    "nombre_sain          2378\n",
    "nombre_exposed        496\n",
    "nombre_recovered    16280\n",
    "Name: 545, dtype: int64"
   ]
  },
  {
   "cell_type": "markdown",
   "id": "1f61a368",
   "metadata": {},
   "source": [
    "nombre_infected       854\n",
    "nombre_sain          2357\n",
    "nombre_exposed        506\n",
    "nombre_recovered    16283\n",
    "Name: 546, dtype: int64"
   ]
  },
  {
   "cell_type": "markdown",
   "id": "722f4362",
   "metadata": {},
   "source": [
    "nombre_infected       864\n",
    "nombre_sain          2349\n",
    "nombre_exposed        500\n",
    "nombre_recovered    16287\n",
    "Name: 547, dtype: int64"
   ]
  },
  {
   "cell_type": "markdown",
   "id": "33590377",
   "metadata": {},
   "source": [
    "nombre_infected       873\n",
    "nombre_sain          2334\n",
    "nombre_exposed        534\n",
    "nombre_recovered    16259\n",
    "Name: 548, dtype: int64"
   ]
  },
  {
   "cell_type": "markdown",
   "id": "12ed63c7",
   "metadata": {},
   "source": [
    "nombre_infected       901\n",
    "nombre_sain          2331\n",
    "nombre_exposed        527\n",
    "nombre_recovered    16241\n",
    "Name: 549, dtype: int64"
   ]
  },
  {
   "cell_type": "markdown",
   "id": "f8b3fcbc",
   "metadata": {},
   "source": [
    "nombre_infected       915\n",
    "nombre_sain          2334\n",
    "nombre_exposed        508\n",
    "nombre_recovered    16243\n",
    "Name: 550, dtype: int64"
   ]
  },
  {
   "cell_type": "markdown",
   "id": "1ff7773f",
   "metadata": {},
   "source": [
    "nombre_infected       901\n",
    "nombre_sain          2328\n",
    "nombre_exposed        510\n",
    "nombre_recovered    16261\n",
    "Name: 551, dtype: int64"
   ]
  },
  {
   "cell_type": "markdown",
   "id": "12b6621a",
   "metadata": {},
   "source": [
    "nombre_infected       897\n",
    "nombre_sain          2308\n",
    "nombre_exposed        512\n",
    "nombre_recovered    16283\n",
    "Name: 552, dtype: int64"
   ]
  },
  {
   "cell_type": "markdown",
   "id": "6edd6b2e",
   "metadata": {},
   "source": [
    "nombre_infected       891\n",
    "nombre_sain          2283\n",
    "nombre_exposed        518\n",
    "nombre_recovered    16308\n",
    "Name: 553, dtype: int64"
   ]
  },
  {
   "cell_type": "markdown",
   "id": "eb69ae6a",
   "metadata": {},
   "source": [
    "nombre_infected       892\n",
    "nombre_sain          2275\n",
    "nombre_exposed        521\n",
    "nombre_recovered    16312\n",
    "Name: 554, dtype: int64"
   ]
  },
  {
   "cell_type": "markdown",
   "id": "5b975201",
   "metadata": {},
   "source": [
    "nombre_infected       901\n",
    "nombre_sain          2249\n",
    "nombre_exposed        516\n",
    "nombre_recovered    16334\n",
    "Name: 555, dtype: int64"
   ]
  },
  {
   "cell_type": "markdown",
   "id": "30531efc",
   "metadata": {},
   "source": [
    "nombre_infected       878\n",
    "nombre_sain          2256\n",
    "nombre_exposed        511\n",
    "nombre_recovered    16355\n",
    "Name: 556, dtype: int64"
   ]
  },
  {
   "cell_type": "markdown",
   "id": "13c19371",
   "metadata": {},
   "source": [
    "nombre_infected       893\n",
    "nombre_sain          2251\n",
    "nombre_exposed        505\n",
    "nombre_recovered    16351\n",
    "Name: 557, dtype: int64"
   ]
  },
  {
   "cell_type": "markdown",
   "id": "78e351a0",
   "metadata": {},
   "source": [
    "nombre_infected       893\n",
    "nombre_sain          2234\n",
    "nombre_exposed        508\n",
    "nombre_recovered    16365\n",
    "Name: 558, dtype: int64"
   ]
  },
  {
   "cell_type": "markdown",
   "id": "a70c0fc5",
   "metadata": {},
   "source": [
    "nombre_infected       885\n",
    "nombre_sain          2229\n",
    "nombre_exposed        510\n",
    "nombre_recovered    16376\n",
    "Name: 559, dtype: int64"
   ]
  },
  {
   "cell_type": "markdown",
   "id": "8f7487c8",
   "metadata": {},
   "source": [
    "nombre_infected       887\n",
    "nombre_sain          2230\n",
    "nombre_exposed        499\n",
    "nombre_recovered    16384\n",
    "Name: 560, dtype: int64"
   ]
  },
  {
   "cell_type": "markdown",
   "id": "19bc7656",
   "metadata": {},
   "source": [
    "nombre_infected       907\n",
    "nombre_sain          2227\n",
    "nombre_exposed        485\n",
    "nombre_recovered    16381\n",
    "Name: 561, dtype: int64"
   ]
  },
  {
   "cell_type": "markdown",
   "id": "ac6c9bc6",
   "metadata": {},
   "source": [
    "nombre_infected       907\n",
    "nombre_sain          2210\n",
    "nombre_exposed        501\n",
    "nombre_recovered    16382\n",
    "Name: 562, dtype: int64"
   ]
  },
  {
   "cell_type": "markdown",
   "id": "1e14adb4",
   "metadata": {},
   "source": [
    "nombre_infected       906\n",
    "nombre_sain          2203\n",
    "nombre_exposed        492\n",
    "nombre_recovered    16399\n",
    "Name: 563, dtype: int64"
   ]
  },
  {
   "cell_type": "markdown",
   "id": "4e6d7e38",
   "metadata": {},
   "source": [
    "nombre_infected       902\n",
    "nombre_sain          2194\n",
    "nombre_exposed        501\n",
    "nombre_recovered    16403\n",
    "Name: 564, dtype: int64"
   ]
  },
  {
   "cell_type": "markdown",
   "id": "d52cbd52",
   "metadata": {},
   "source": [
    "nombre_infected       885\n",
    "nombre_sain          2211\n",
    "nombre_exposed        489\n",
    "nombre_recovered    16415\n",
    "Name: 565, dtype: int64"
   ]
  },
  {
   "cell_type": "markdown",
   "id": "97750ca2",
   "metadata": {},
   "source": [
    "nombre_infected       903\n",
    "nombre_sain          2192\n",
    "nombre_exposed        475\n",
    "nombre_recovered    16430\n",
    "Name: 566, dtype: int64"
   ]
  },
  {
   "cell_type": "markdown",
   "id": "8c0509c3",
   "metadata": {},
   "source": [
    "nombre_infected       916\n",
    "nombre_sain          2177\n",
    "nombre_exposed        496\n",
    "nombre_recovered    16411\n",
    "Name: 567, dtype: int64"
   ]
  },
  {
   "cell_type": "markdown",
   "id": "e73ce5aa",
   "metadata": {},
   "source": [
    "nombre_infected       870\n",
    "nombre_sain          2182\n",
    "nombre_exposed        518\n",
    "nombre_recovered    16430\n",
    "Name: 568, dtype: int64"
   ]
  },
  {
   "cell_type": "markdown",
   "id": "45f0a13e",
   "metadata": {},
   "source": [
    "nombre_infected       890\n",
    "nombre_sain          2174\n",
    "nombre_exposed        507\n",
    "nombre_recovered    16429\n",
    "Name: 569, dtype: int64"
   ]
  },
  {
   "cell_type": "markdown",
   "id": "6186fdcc",
   "metadata": {},
   "source": [
    "nombre_infected       899\n",
    "nombre_sain          2162\n",
    "nombre_exposed        504\n",
    "nombre_recovered    16435\n",
    "Name: 570, dtype: int64"
   ]
  },
  {
   "cell_type": "markdown",
   "id": "4cdff8d0",
   "metadata": {},
   "source": [
    "nombre_infected       891\n",
    "nombre_sain          2139\n",
    "nombre_exposed        534\n",
    "nombre_recovered    16436\n",
    "Name: 571, dtype: int64"
   ]
  },
  {
   "cell_type": "markdown",
   "id": "c6b7d5bf",
   "metadata": {},
   "source": [
    "nombre_infected       909\n",
    "nombre_sain          2149\n",
    "nombre_exposed        535\n",
    "nombre_recovered    16407\n",
    "Name: 572, dtype: int64"
   ]
  },
  {
   "cell_type": "markdown",
   "id": "aa014d00",
   "metadata": {},
   "source": [
    "nombre_infected       915\n",
    "nombre_sain          2182\n",
    "nombre_exposed        513\n",
    "nombre_recovered    16390\n",
    "Name: 573, dtype: int64"
   ]
  },
  {
   "cell_type": "markdown",
   "id": "34fbb087",
   "metadata": {},
   "source": [
    "nombre_infected       922\n",
    "nombre_sain          2174\n",
    "nombre_exposed        524\n",
    "nombre_recovered    16380\n",
    "Name: 574, dtype: int64"
   ]
  },
  {
   "cell_type": "markdown",
   "id": "3f53753c",
   "metadata": {},
   "source": [
    "nombre_infected       922\n",
    "nombre_sain          2170\n",
    "nombre_exposed        536\n",
    "nombre_recovered    16372\n",
    "Name: 575, dtype: int64"
   ]
  },
  {
   "cell_type": "markdown",
   "id": "17772513",
   "metadata": {},
   "source": [
    "nombre_infected       926\n",
    "nombre_sain          2148\n",
    "nombre_exposed        546\n",
    "nombre_recovered    16380\n",
    "Name: 576, dtype: int64"
   ]
  },
  {
   "cell_type": "markdown",
   "id": "b1fa1809",
   "metadata": {},
   "source": [
    "nombre_infected       922\n",
    "nombre_sain          2101\n",
    "nombre_exposed        560\n",
    "nombre_recovered    16417\n",
    "Name: 577, dtype: int64"
   ]
  },
  {
   "cell_type": "markdown",
   "id": "06d176f9",
   "metadata": {},
   "source": [
    "nombre_infected       905\n",
    "nombre_sain          2079\n",
    "nombre_exposed        562\n",
    "nombre_recovered    16454\n",
    "Name: 578, dtype: int64"
   ]
  },
  {
   "cell_type": "markdown",
   "id": "1ab5cb3b",
   "metadata": {},
   "source": [
    "nombre_infected       933\n",
    "nombre_sain          2070\n",
    "nombre_exposed        527\n",
    "nombre_recovered    16470\n",
    "Name: 579, dtype: int64"
   ]
  },
  {
   "cell_type": "markdown",
   "id": "7bcd0942",
   "metadata": {},
   "source": [
    "nombre_infected       942\n",
    "nombre_sain          2072\n",
    "nombre_exposed        508\n",
    "nombre_recovered    16478\n",
    "Name: 580, dtype: int64"
   ]
  },
  {
   "cell_type": "markdown",
   "id": "8029eab7",
   "metadata": {},
   "source": [
    "nombre_infected       961\n",
    "nombre_sain          2052\n",
    "nombre_exposed        496\n",
    "nombre_recovered    16491\n",
    "Name: 581, dtype: int64"
   ]
  },
  {
   "cell_type": "markdown",
   "id": "380557ee",
   "metadata": {},
   "source": [
    "nombre_infected       973\n",
    "nombre_sain          2027\n",
    "nombre_exposed        516\n",
    "nombre_recovered    16484\n",
    "Name: 582, dtype: int64"
   ]
  },
  {
   "cell_type": "markdown",
   "id": "026f9c7d",
   "metadata": {},
   "source": [
    "nombre_infected       953\n",
    "nombre_sain          1992\n",
    "nombre_exposed        545\n",
    "nombre_recovered    16510\n",
    "Name: 583, dtype: int64"
   ]
  },
  {
   "cell_type": "markdown",
   "id": "fa4e9159",
   "metadata": {},
   "source": [
    "nombre_infected       950\n",
    "nombre_sain          1984\n",
    "nombre_exposed        543\n",
    "nombre_recovered    16523\n",
    "Name: 584, dtype: int64"
   ]
  },
  {
   "cell_type": "markdown",
   "id": "4ad616fa",
   "metadata": {},
   "source": [
    "nombre_infected       947\n",
    "nombre_sain          1945\n",
    "nombre_exposed        558\n",
    "nombre_recovered    16550\n",
    "Name: 585, dtype: int64"
   ]
  },
  {
   "cell_type": "markdown",
   "id": "de094d8e",
   "metadata": {},
   "source": [
    "nombre_infected       960\n",
    "nombre_sain          1941\n",
    "nombre_exposed        536\n",
    "nombre_recovered    16563\n",
    "Name: 586, dtype: int64"
   ]
  },
  {
   "cell_type": "markdown",
   "id": "8b16c598",
   "metadata": {},
   "source": [
    "nombre_infected       943\n",
    "nombre_sain          1938\n",
    "nombre_exposed        518\n",
    "nombre_recovered    16601\n",
    "Name: 587, dtype: int64"
   ]
  },
  {
   "cell_type": "markdown",
   "id": "a0534e37",
   "metadata": {},
   "source": [
    "nombre_infected       967\n",
    "nombre_sain          1908\n",
    "nombre_exposed        505\n",
    "nombre_recovered    16620\n",
    "Name: 588, dtype: int64"
   ]
  },
  {
   "cell_type": "markdown",
   "id": "d1f7baf5",
   "metadata": {},
   "source": [
    "nombre_infected       981\n",
    "nombre_sain          1881\n",
    "nombre_exposed        493\n",
    "nombre_recovered    16645\n",
    "Name: 589, dtype: int64"
   ]
  },
  {
   "cell_type": "markdown",
   "id": "5d7d7df2",
   "metadata": {},
   "source": [
    "nombre_infected       956\n",
    "nombre_sain          1881\n",
    "nombre_exposed        494\n",
    "nombre_recovered    16669\n",
    "Name: 590, dtype: int64"
   ]
  },
  {
   "cell_type": "markdown",
   "id": "257adb05",
   "metadata": {},
   "source": [
    "nombre_infected       933\n",
    "nombre_sain          1881\n",
    "nombre_exposed        502\n",
    "nombre_recovered    16684\n",
    "Name: 591, dtype: int64"
   ]
  },
  {
   "cell_type": "markdown",
   "id": "719f4ff3",
   "metadata": {},
   "source": [
    "nombre_infected       939\n",
    "nombre_sain          1914\n",
    "nombre_exposed        485\n",
    "nombre_recovered    16662\n",
    "Name: 592, dtype: int64"
   ]
  },
  {
   "cell_type": "markdown",
   "id": "7eb56d7c",
   "metadata": {},
   "source": [
    "nombre_infected       936\n",
    "nombre_sain          1930\n",
    "nombre_exposed        469\n",
    "nombre_recovered    16665\n",
    "Name: 593, dtype: int64"
   ]
  },
  {
   "cell_type": "markdown",
   "id": "535ffca1",
   "metadata": {},
   "source": [
    "nombre_infected       922\n",
    "nombre_sain          1919\n",
    "nombre_exposed        477\n",
    "nombre_recovered    16682\n",
    "Name: 594, dtype: int64"
   ]
  },
  {
   "cell_type": "markdown",
   "id": "e54737dc",
   "metadata": {},
   "source": [
    "nombre_infected       926\n",
    "nombre_sain          1949\n",
    "nombre_exposed        462\n",
    "nombre_recovered    16663\n",
    "Name: 595, dtype: int64"
   ]
  },
  {
   "cell_type": "markdown",
   "id": "129426d9",
   "metadata": {},
   "source": [
    "nombre_infected       926\n",
    "nombre_sain          1955\n",
    "nombre_exposed        454\n",
    "nombre_recovered    16665\n",
    "Name: 596, dtype: int64"
   ]
  },
  {
   "cell_type": "markdown",
   "id": "56d5e826",
   "metadata": {},
   "source": [
    "nombre_infected       902\n",
    "nombre_sain          1964\n",
    "nombre_exposed        463\n",
    "nombre_recovered    16671\n",
    "Name: 597, dtype: int64"
   ]
  },
  {
   "cell_type": "markdown",
   "id": "03275f9c",
   "metadata": {},
   "source": [
    "nombre_infected       883\n",
    "nombre_sain          1941\n",
    "nombre_exposed        494\n",
    "nombre_recovered    16682\n",
    "Name: 598, dtype: int64"
   ]
  },
  {
   "cell_type": "markdown",
   "id": "1fa69185",
   "metadata": {},
   "source": [
    "nombre_infected       882\n",
    "nombre_sain          1964\n",
    "nombre_exposed        463\n",
    "nombre_recovered    16691\n",
    "Name: 599, dtype: int64"
   ]
  },
  {
   "cell_type": "markdown",
   "id": "d2af0d2a",
   "metadata": {},
   "source": [
    "nombre_infected       881\n",
    "nombre_sain          1990\n",
    "nombre_exposed        428\n",
    "nombre_recovered    16701\n",
    "Name: 600, dtype: int64"
   ]
  },
  {
   "cell_type": "markdown",
   "id": "6cd78b06",
   "metadata": {},
   "source": [
    "nombre_infected       854\n",
    "nombre_sain          2000\n",
    "nombre_exposed        437\n",
    "nombre_recovered    16709\n",
    "Name: 601, dtype: int64"
   ]
  },
  {
   "cell_type": "markdown",
   "id": "a8dc5ec1",
   "metadata": {},
   "source": [
    "nombre_infected       849\n",
    "nombre_sain          2025\n",
    "nombre_exposed        417\n",
    "nombre_recovered    16709\n",
    "Name: 602, dtype: int64"
   ]
  },
  {
   "cell_type": "markdown",
   "id": "e8eccf42",
   "metadata": {},
   "source": [
    "nombre_infected       849\n",
    "nombre_sain          2020\n",
    "nombre_exposed        414\n",
    "nombre_recovered    16717\n",
    "Name: 603, dtype: int64"
   ]
  },
  {
   "cell_type": "markdown",
   "id": "b0c92ec4",
   "metadata": {},
   "source": [
    "nombre_infected       825\n",
    "nombre_sain          2048\n",
    "nombre_exposed        402\n",
    "nombre_recovered    16725\n",
    "Name: 604, dtype: int64"
   ]
  },
  {
   "cell_type": "markdown",
   "id": "517affaa",
   "metadata": {},
   "source": [
    "nombre_infected       823\n",
    "nombre_sain          2059\n",
    "nombre_exposed        406\n",
    "nombre_recovered    16712\n",
    "Name: 605, dtype: int64"
   ]
  },
  {
   "cell_type": "markdown",
   "id": "53814efb",
   "metadata": {},
   "source": [
    "nombre_infected       789\n",
    "nombre_sain          2065\n",
    "nombre_exposed        403\n",
    "nombre_recovered    16743\n",
    "Name: 606, dtype: int64"
   ]
  },
  {
   "cell_type": "markdown",
   "id": "7b8158e2",
   "metadata": {},
   "source": [
    "nombre_infected       767\n",
    "nombre_sain          2084\n",
    "nombre_exposed        413\n",
    "nombre_recovered    16736\n",
    "Name: 607, dtype: int64"
   ]
  },
  {
   "cell_type": "markdown",
   "id": "d0be2682",
   "metadata": {},
   "source": [
    "nombre_infected       733\n",
    "nombre_sain          2104\n",
    "nombre_exposed        432\n",
    "nombre_recovered    16731\n",
    "Name: 608, dtype: int64"
   ]
  },
  {
   "cell_type": "markdown",
   "id": "3fbe8610",
   "metadata": {},
   "source": [
    "nombre_infected       722\n",
    "nombre_sain          2119\n",
    "nombre_exposed        446\n",
    "nombre_recovered    16713\n",
    "Name: 609, dtype: int64"
   ]
  },
  {
   "cell_type": "markdown",
   "id": "85767f55",
   "metadata": {},
   "source": [
    "nombre_infected       737\n",
    "nombre_sain          2150\n",
    "nombre_exposed        429\n",
    "nombre_recovered    16684\n",
    "Name: 610, dtype: int64"
   ]
  },
  {
   "cell_type": "markdown",
   "id": "ea13213f",
   "metadata": {},
   "source": [
    "nombre_infected       752\n",
    "nombre_sain          2167\n",
    "nombre_exposed        413\n",
    "nombre_recovered    16668\n",
    "Name: 611, dtype: int64"
   ]
  },
  {
   "cell_type": "markdown",
   "id": "82abb361",
   "metadata": {},
   "source": [
    "nombre_infected       752\n",
    "nombre_sain          2195\n",
    "nombre_exposed        422\n",
    "nombre_recovered    16631\n",
    "Name: 612, dtype: int64"
   ]
  },
  {
   "cell_type": "markdown",
   "id": "30cbab76",
   "metadata": {},
   "source": [
    "nombre_infected       759\n",
    "nombre_sain          2212\n",
    "nombre_exposed        419\n",
    "nombre_recovered    16610\n",
    "Name: 613, dtype: int64"
   ]
  },
  {
   "cell_type": "markdown",
   "id": "e40cb6b4",
   "metadata": {},
   "source": [
    "nombre_infected       732\n",
    "nombre_sain          2214\n",
    "nombre_exposed        422\n",
    "nombre_recovered    16632\n",
    "Name: 614, dtype: int64"
   ]
  },
  {
   "cell_type": "markdown",
   "id": "8db12f3b",
   "metadata": {},
   "source": [
    "nombre_infected       751\n",
    "nombre_sain          2226\n",
    "nombre_exposed        419\n",
    "nombre_recovered    16604\n",
    "Name: 615, dtype: int64"
   ]
  },
  {
   "cell_type": "markdown",
   "id": "a6de14df",
   "metadata": {},
   "source": [
    "nombre_infected       736\n",
    "nombre_sain          2233\n",
    "nombre_exposed        425\n",
    "nombre_recovered    16606\n",
    "Name: 616, dtype: int64"
   ]
  },
  {
   "cell_type": "markdown",
   "id": "27c18db7",
   "metadata": {},
   "source": [
    "nombre_infected       717\n",
    "nombre_sain          2237\n",
    "nombre_exposed        430\n",
    "nombre_recovered    16616\n",
    "Name: 617, dtype: int64"
   ]
  },
  {
   "cell_type": "markdown",
   "id": "bcba583f",
   "metadata": {},
   "source": [
    "nombre_infected       733\n",
    "nombre_sain          2251\n",
    "nombre_exposed        416\n",
    "nombre_recovered    16600\n",
    "Name: 618, dtype: int64"
   ]
  },
  {
   "cell_type": "markdown",
   "id": "ed9fcc62",
   "metadata": {},
   "source": [
    "nombre_infected       719\n",
    "nombre_sain          2289\n",
    "nombre_exposed        429\n",
    "nombre_recovered    16563\n",
    "Name: 619, dtype: int64"
   ]
  },
  {
   "cell_type": "markdown",
   "id": "dcc2f014",
   "metadata": {},
   "source": [
    "nombre_infected       720\n",
    "nombre_sain          2303\n",
    "nombre_exposed        446\n",
    "nombre_recovered    16531\n",
    "Name: 620, dtype: int64"
   ]
  },
  {
   "cell_type": "markdown",
   "id": "cb18fefe",
   "metadata": {},
   "source": [
    "nombre_infected       724\n",
    "nombre_sain          2305\n",
    "nombre_exposed        448\n",
    "nombre_recovered    16523\n",
    "Name: 621, dtype: int64"
   ]
  },
  {
   "cell_type": "markdown",
   "id": "4fdae33e",
   "metadata": {},
   "source": [
    "nombre_infected       723\n",
    "nombre_sain          2314\n",
    "nombre_exposed        450\n",
    "nombre_recovered    16513\n",
    "Name: 622, dtype: int64"
   ]
  },
  {
   "cell_type": "markdown",
   "id": "53783707",
   "metadata": {},
   "source": [
    "nombre_infected       718\n",
    "nombre_sain          2332\n",
    "nombre_exposed        443\n",
    "nombre_recovered    16507\n",
    "Name: 623, dtype: int64"
   ]
  },
  {
   "cell_type": "markdown",
   "id": "3cd09b5c",
   "metadata": {},
   "source": [
    "nombre_infected       728\n",
    "nombre_sain          2330\n",
    "nombre_exposed        428\n",
    "nombre_recovered    16514\n",
    "Name: 624, dtype: int64"
   ]
  },
  {
   "cell_type": "markdown",
   "id": "9ac71f97",
   "metadata": {},
   "source": [
    "nombre_infected       735\n",
    "nombre_sain          2366\n",
    "nombre_exposed        418\n",
    "nombre_recovered    16481\n",
    "Name: 625, dtype: int64"
   ]
  },
  {
   "cell_type": "markdown",
   "id": "4ed08b37",
   "metadata": {},
   "source": [
    "nombre_infected       755\n",
    "nombre_sain          2369\n",
    "nombre_exposed        426\n",
    "nombre_recovered    16450\n",
    "Name: 626, dtype: int64"
   ]
  },
  {
   "cell_type": "markdown",
   "id": "820fbb90",
   "metadata": {},
   "source": [
    "nombre_infected       741\n",
    "nombre_sain          2371\n",
    "nombre_exposed        442\n",
    "nombre_recovered    16446\n",
    "Name: 627, dtype: int64"
   ]
  },
  {
   "cell_type": "markdown",
   "id": "128ba676",
   "metadata": {},
   "source": [
    "nombre_infected       741\n",
    "nombre_sain          2371\n",
    "nombre_exposed        450\n",
    "nombre_recovered    16438\n",
    "Name: 628, dtype: int64"
   ]
  },
  {
   "cell_type": "markdown",
   "id": "df345491",
   "metadata": {},
   "source": [
    "nombre_infected       727\n",
    "nombre_sain          2387\n",
    "nombre_exposed        461\n",
    "nombre_recovered    16425\n",
    "Name: 629, dtype: int64"
   ]
  },
  {
   "cell_type": "markdown",
   "id": "4dda2c23",
   "metadata": {},
   "source": [
    "nombre_infected       727\n",
    "nombre_sain          2412\n",
    "nombre_exposed        445\n",
    "nombre_recovered    16416\n",
    "Name: 630, dtype: int64"
   ]
  },
  {
   "cell_type": "markdown",
   "id": "f4566bb6",
   "metadata": {},
   "source": [
    "nombre_infected       747\n",
    "nombre_sain          2425\n",
    "nombre_exposed        426\n",
    "nombre_recovered    16402\n",
    "Name: 631, dtype: int64"
   ]
  },
  {
   "cell_type": "markdown",
   "id": "57dce27b",
   "metadata": {},
   "source": [
    "nombre_infected       771\n",
    "nombre_sain          2426\n",
    "nombre_exposed        422\n",
    "nombre_recovered    16381\n",
    "Name: 632, dtype: int64"
   ]
  },
  {
   "cell_type": "markdown",
   "id": "5a314120",
   "metadata": {},
   "source": [
    "nombre_infected       772\n",
    "nombre_sain          2415\n",
    "nombre_exposed        447\n",
    "nombre_recovered    16366\n",
    "Name: 633, dtype: int64"
   ]
  },
  {
   "cell_type": "markdown",
   "id": "47bcc4e4",
   "metadata": {},
   "source": [
    "nombre_infected       749\n",
    "nombre_sain          2420\n",
    "nombre_exposed        476\n",
    "nombre_recovered    16355\n",
    "Name: 634, dtype: int64"
   ]
  },
  {
   "cell_type": "markdown",
   "id": "d37ff590",
   "metadata": {},
   "source": [
    "nombre_infected       717\n",
    "nombre_sain          2426\n",
    "nombre_exposed        484\n",
    "nombre_recovered    16373\n",
    "Name: 635, dtype: int64"
   ]
  },
  {
   "cell_type": "markdown",
   "id": "0ac809a1",
   "metadata": {},
   "source": [
    "nombre_infected       738\n",
    "nombre_sain          2441\n",
    "nombre_exposed        462\n",
    "nombre_recovered    16359\n",
    "Name: 636, dtype: int64"
   ]
  },
  {
   "cell_type": "markdown",
   "id": "f59c985d",
   "metadata": {},
   "source": [
    "nombre_infected       770\n",
    "nombre_sain          2440\n",
    "nombre_exposed        452\n",
    "nombre_recovered    16338\n",
    "Name: 637, dtype: int64"
   ]
  },
  {
   "cell_type": "markdown",
   "id": "1c379836",
   "metadata": {},
   "source": [
    "nombre_infected       779\n",
    "nombre_sain          2472\n",
    "nombre_exposed        454\n",
    "nombre_recovered    16295\n",
    "Name: 638, dtype: int64"
   ]
  },
  {
   "cell_type": "markdown",
   "id": "8f816eaa",
   "metadata": {},
   "source": [
    "nombre_infected       802\n",
    "nombre_sain          2485\n",
    "nombre_exposed        443\n",
    "nombre_recovered    16270\n",
    "Name: 639, dtype: int64"
   ]
  },
  {
   "cell_type": "markdown",
   "id": "e7f08b00",
   "metadata": {},
   "source": [
    "nombre_infected       795\n",
    "nombre_sain          2496\n",
    "nombre_exposed        448\n",
    "nombre_recovered    16261\n",
    "Name: 640, dtype: int64"
   ]
  },
  {
   "cell_type": "markdown",
   "id": "c6eb2719",
   "metadata": {},
   "source": [
    "nombre_infected       801\n",
    "nombre_sain          2493\n",
    "nombre_exposed        466\n",
    "nombre_recovered    16240\n",
    "Name: 641, dtype: int64"
   ]
  },
  {
   "cell_type": "markdown",
   "id": "69b9d6a4",
   "metadata": {},
   "source": [
    "nombre_infected       792\n",
    "nombre_sain          2484\n",
    "nombre_exposed        500\n",
    "nombre_recovered    16224\n",
    "Name: 642, dtype: int64"
   ]
  },
  {
   "cell_type": "markdown",
   "id": "aac71f17",
   "metadata": {},
   "source": [
    "nombre_infected       800\n",
    "nombre_sain          2494\n",
    "nombre_exposed        505\n",
    "nombre_recovered    16201\n",
    "Name: 643, dtype: int64"
   ]
  },
  {
   "cell_type": "markdown",
   "id": "17996841",
   "metadata": {},
   "source": [
    "nombre_infected       817\n",
    "nombre_sain          2481\n",
    "nombre_exposed        510\n",
    "nombre_recovered    16192\n",
    "Name: 644, dtype: int64"
   ]
  },
  {
   "cell_type": "markdown",
   "id": "b771d102",
   "metadata": {},
   "source": [
    "nombre_infected       823\n",
    "nombre_sain          2481\n",
    "nombre_exposed        524\n",
    "nombre_recovered    16172\n",
    "Name: 645, dtype: int64"
   ]
  },
  {
   "cell_type": "markdown",
   "id": "65b3b8e0",
   "metadata": {},
   "source": [
    "nombre_infected       844\n",
    "nombre_sain          2456\n",
    "nombre_exposed        516\n",
    "nombre_recovered    16184\n",
    "Name: 646, dtype: int64"
   ]
  },
  {
   "cell_type": "markdown",
   "id": "d1fe8f76",
   "metadata": {},
   "source": [
    "nombre_infected       861\n",
    "nombre_sain          2442\n",
    "nombre_exposed        512\n",
    "nombre_recovered    16185\n",
    "Name: 647, dtype: int64"
   ]
  },
  {
   "cell_type": "markdown",
   "id": "0ba9fa62",
   "metadata": {},
   "source": [
    "nombre_infected       857\n",
    "nombre_sain          2448\n",
    "nombre_exposed        506\n",
    "nombre_recovered    16189\n",
    "Name: 648, dtype: int64"
   ]
  },
  {
   "cell_type": "markdown",
   "id": "174ab740",
   "metadata": {},
   "source": [
    "nombre_infected       862\n",
    "nombre_sain          2431\n",
    "nombre_exposed        512\n",
    "nombre_recovered    16195\n",
    "Name: 649, dtype: int64"
   ]
  },
  {
   "cell_type": "markdown",
   "id": "ff590c71",
   "metadata": {},
   "source": [
    "nombre_infected       843\n",
    "nombre_sain          2412\n",
    "nombre_exposed        531\n",
    "nombre_recovered    16214\n",
    "Name: 650, dtype: int64"
   ]
  },
  {
   "cell_type": "markdown",
   "id": "59d9c081",
   "metadata": {},
   "source": [
    "nombre_infected       876\n",
    "nombre_sain          2393\n",
    "nombre_exposed        509\n",
    "nombre_recovered    16222\n",
    "Name: 651, dtype: int64"
   ]
  },
  {
   "cell_type": "markdown",
   "id": "d946526f",
   "metadata": {},
   "source": [
    "nombre_infected       865\n",
    "nombre_sain          2373\n",
    "nombre_exposed        530\n",
    "nombre_recovered    16232\n",
    "Name: 652, dtype: int64"
   ]
  },
  {
   "cell_type": "markdown",
   "id": "0429a518",
   "metadata": {},
   "source": [
    "nombre_infected       885\n",
    "nombre_sain          2351\n",
    "nombre_exposed        524\n",
    "nombre_recovered    16240\n",
    "Name: 653, dtype: int64"
   ]
  },
  {
   "cell_type": "markdown",
   "id": "3520fcd4",
   "metadata": {},
   "source": [
    "nombre_infected       904\n",
    "nombre_sain          2340\n",
    "nombre_exposed        527\n",
    "nombre_recovered    16229\n",
    "Name: 654, dtype: int64"
   ]
  },
  {
   "cell_type": "markdown",
   "id": "c53bc18f",
   "metadata": {},
   "source": [
    "nombre_infected       896\n",
    "nombre_sain          2309\n",
    "nombre_exposed        546\n",
    "nombre_recovered    16249\n",
    "Name: 655, dtype: int64"
   ]
  },
  {
   "cell_type": "markdown",
   "id": "a58c7f36",
   "metadata": {},
   "source": [
    "nombre_infected       902\n",
    "nombre_sain          2301\n",
    "nombre_exposed        557\n",
    "nombre_recovered    16240\n",
    "Name: 656, dtype: int64"
   ]
  },
  {
   "cell_type": "markdown",
   "id": "054b7d8c",
   "metadata": {},
   "source": [
    "nombre_infected       938\n",
    "nombre_sain          2307\n",
    "nombre_exposed        508\n",
    "nombre_recovered    16247\n",
    "Name: 657, dtype: int64"
   ]
  },
  {
   "cell_type": "markdown",
   "id": "6acbd6f7",
   "metadata": {},
   "source": [
    "nombre_infected       968\n",
    "nombre_sain          2297\n",
    "nombre_exposed        500\n",
    "nombre_recovered    16235\n",
    "Name: 658, dtype: int64"
   ]
  },
  {
   "cell_type": "markdown",
   "id": "03e46f5c",
   "metadata": {},
   "source": [
    "nombre_infected       960\n",
    "nombre_sain          2267\n",
    "nombre_exposed        533\n",
    "nombre_recovered    16240\n",
    "Name: 659, dtype: int64"
   ]
  },
  {
   "cell_type": "markdown",
   "id": "87ab801f",
   "metadata": {},
   "source": [
    "nombre_infected       956\n",
    "nombre_sain          2230\n",
    "nombre_exposed        559\n",
    "nombre_recovered    16255\n",
    "Name: 660, dtype: int64"
   ]
  },
  {
   "cell_type": "markdown",
   "id": "9aea5bad",
   "metadata": {},
   "source": [
    "nombre_infected       953\n",
    "nombre_sain          2217\n",
    "nombre_exposed        567\n",
    "nombre_recovered    16263\n",
    "Name: 661, dtype: int64"
   ]
  },
  {
   "cell_type": "markdown",
   "id": "a78c9d8f",
   "metadata": {},
   "source": [
    "nombre_infected       978\n",
    "nombre_sain          2225\n",
    "nombre_exposed        535\n",
    "nombre_recovered    16262\n",
    "Name: 662, dtype: int64"
   ]
  },
  {
   "cell_type": "markdown",
   "id": "2db6c719",
   "metadata": {},
   "source": [
    "nombre_infected       975\n",
    "nombre_sain          2216\n",
    "nombre_exposed        545\n",
    "nombre_recovered    16264\n",
    "Name: 663, dtype: int64"
   ]
  },
  {
   "cell_type": "markdown",
   "id": "258b7c87",
   "metadata": {},
   "source": [
    "nombre_infected       979\n",
    "nombre_sain          2203\n",
    "nombre_exposed        537\n",
    "nombre_recovered    16281\n",
    "Name: 664, dtype: int64"
   ]
  },
  {
   "cell_type": "markdown",
   "id": "ac40e0a3",
   "metadata": {},
   "source": [
    "nombre_infected      1010\n",
    "nombre_sain          2200\n",
    "nombre_exposed        513\n",
    "nombre_recovered    16277\n",
    "Name: 665, dtype: int64"
   ]
  },
  {
   "cell_type": "markdown",
   "id": "169be307",
   "metadata": {},
   "source": [
    "nombre_infected      1002\n",
    "nombre_sain          2180\n",
    "nombre_exposed        502\n",
    "nombre_recovered    16316\n",
    "Name: 666, dtype: int64"
   ]
  },
  {
   "cell_type": "markdown",
   "id": "b4e37d76",
   "metadata": {},
   "source": [
    "nombre_infected       995\n",
    "nombre_sain          2167\n",
    "nombre_exposed        488\n",
    "nombre_recovered    16350\n",
    "Name: 667, dtype: int64"
   ]
  },
  {
   "cell_type": "markdown",
   "id": "b4d5e6f1",
   "metadata": {},
   "source": [
    "nombre_infected       966\n",
    "nombre_sain          2148\n",
    "nombre_exposed        512\n",
    "nombre_recovered    16374\n",
    "Name: 668, dtype: int64"
   ]
  },
  {
   "cell_type": "markdown",
   "id": "d4fa46f3",
   "metadata": {},
   "source": [
    "nombre_infected       972\n",
    "nombre_sain          2158\n",
    "nombre_exposed        519\n",
    "nombre_recovered    16351\n",
    "Name: 669, dtype: int64"
   ]
  },
  {
   "cell_type": "markdown",
   "id": "f80e3421",
   "metadata": {},
   "source": [
    "nombre_infected       967\n",
    "nombre_sain          2166\n",
    "nombre_exposed        525\n",
    "nombre_recovered    16342\n",
    "Name: 670, dtype: int64"
   ]
  },
  {
   "cell_type": "markdown",
   "id": "09f7612b",
   "metadata": {},
   "source": [
    "nombre_infected       985\n",
    "nombre_sain          2152\n",
    "nombre_exposed        538\n",
    "nombre_recovered    16325\n",
    "Name: 671, dtype: int64"
   ]
  },
  {
   "cell_type": "markdown",
   "id": "bcfb56a8",
   "metadata": {},
   "source": [
    "nombre_infected       998\n",
    "nombre_sain          2135\n",
    "nombre_exposed        525\n",
    "nombre_recovered    16342\n",
    "Name: 672, dtype: int64"
   ]
  },
  {
   "cell_type": "markdown",
   "id": "5b7dd12e",
   "metadata": {},
   "source": [
    "nombre_infected       985\n",
    "nombre_sain          2146\n",
    "nombre_exposed        520\n",
    "nombre_recovered    16349\n",
    "Name: 673, dtype: int64"
   ]
  },
  {
   "cell_type": "markdown",
   "id": "883f5fc0",
   "metadata": {},
   "source": [
    "nombre_infected       966\n",
    "nombre_sain          2140\n",
    "nombre_exposed        530\n",
    "nombre_recovered    16364\n",
    "Name: 674, dtype: int64"
   ]
  },
  {
   "cell_type": "markdown",
   "id": "65e402c0",
   "metadata": {},
   "source": [
    "nombre_infected       970\n",
    "nombre_sain          2116\n",
    "nombre_exposed        538\n",
    "nombre_recovered    16376\n",
    "Name: 675, dtype: int64"
   ]
  },
  {
   "cell_type": "markdown",
   "id": "6b982cf5",
   "metadata": {},
   "source": [
    "nombre_infected       975\n",
    "nombre_sain          2131\n",
    "nombre_exposed        517\n",
    "nombre_recovered    16377\n",
    "Name: 676, dtype: int64"
   ]
  },
  {
   "cell_type": "markdown",
   "id": "b652c5ad",
   "metadata": {},
   "source": [
    "nombre_infected       982\n",
    "nombre_sain          2124\n",
    "nombre_exposed        505\n",
    "nombre_recovered    16389\n",
    "Name: 677, dtype: int64"
   ]
  },
  {
   "cell_type": "markdown",
   "id": "be4a5c08",
   "metadata": {},
   "source": [
    "nombre_infected       991\n",
    "nombre_sain          2142\n",
    "nombre_exposed        514\n",
    "nombre_recovered    16353\n",
    "Name: 678, dtype: int64"
   ]
  },
  {
   "cell_type": "markdown",
   "id": "b9808e7d",
   "metadata": {},
   "source": [
    "nombre_infected       987\n",
    "nombre_sain          2119\n",
    "nombre_exposed        525\n",
    "nombre_recovered    16369\n",
    "Name: 679, dtype: int64"
   ]
  },
  {
   "cell_type": "markdown",
   "id": "ca550860",
   "metadata": {},
   "source": [
    "nombre_infected       986\n",
    "nombre_sain          2136\n",
    "nombre_exposed        524\n",
    "nombre_recovered    16354\n",
    "Name: 680, dtype: int64"
   ]
  },
  {
   "cell_type": "markdown",
   "id": "343f31bb",
   "metadata": {},
   "source": [
    "nombre_infected       988\n",
    "nombre_sain          2113\n",
    "nombre_exposed        539\n",
    "nombre_recovered    16360\n",
    "Name: 681, dtype: int64"
   ]
  },
  {
   "cell_type": "markdown",
   "id": "bce904ef",
   "metadata": {},
   "source": [
    "nombre_infected       992\n",
    "nombre_sain          2099\n",
    "nombre_exposed        544\n",
    "nombre_recovered    16365\n",
    "Name: 682, dtype: int64"
   ]
  },
  {
   "cell_type": "markdown",
   "id": "a6cc9dea",
   "metadata": {},
   "source": [
    "nombre_infected       997\n",
    "nombre_sain          2079\n",
    "nombre_exposed        542\n",
    "nombre_recovered    16382\n",
    "Name: 683, dtype: int64"
   ]
  },
  {
   "cell_type": "markdown",
   "id": "2d650493",
   "metadata": {},
   "source": [
    "nombre_infected      1008\n",
    "nombre_sain          2056\n",
    "nombre_exposed        541\n",
    "nombre_recovered    16395\n",
    "Name: 684, dtype: int64"
   ]
  },
  {
   "cell_type": "markdown",
   "id": "61300d2e",
   "metadata": {},
   "source": [
    "nombre_infected      1002\n",
    "nombre_sain          2068\n",
    "nombre_exposed        529\n",
    "nombre_recovered    16401\n",
    "Name: 685, dtype: int64"
   ]
  },
  {
   "cell_type": "markdown",
   "id": "5fefd0d9",
   "metadata": {},
   "source": [
    "nombre_infected       998\n",
    "nombre_sain          2083\n",
    "nombre_exposed        501\n",
    "nombre_recovered    16418\n",
    "Name: 686, dtype: int64"
   ]
  },
  {
   "cell_type": "markdown",
   "id": "697c3a95",
   "metadata": {},
   "source": [
    "nombre_infected       990\n",
    "nombre_sain          2101\n",
    "nombre_exposed        490\n",
    "nombre_recovered    16419\n",
    "Name: 687, dtype: int64"
   ]
  },
  {
   "cell_type": "markdown",
   "id": "c479050e",
   "metadata": {},
   "source": [
    "nombre_infected      1021\n",
    "nombre_sain          2107\n",
    "nombre_exposed        477\n",
    "nombre_recovered    16395\n",
    "Name: 688, dtype: int64"
   ]
  },
  {
   "cell_type": "markdown",
   "id": "a6a0c869",
   "metadata": {},
   "source": [
    "nombre_infected       978\n",
    "nombre_sain          2128\n",
    "nombre_exposed        511\n",
    "nombre_recovered    16383\n",
    "Name: 689, dtype: int64"
   ]
  },
  {
   "cell_type": "markdown",
   "id": "3b221a51",
   "metadata": {},
   "source": [
    "nombre_infected       976\n",
    "nombre_sain          2147\n",
    "nombre_exposed        522\n",
    "nombre_recovered    16355\n",
    "Name: 690, dtype: int64"
   ]
  },
  {
   "cell_type": "markdown",
   "id": "d25d71ff",
   "metadata": {},
   "source": [
    "nombre_infected       949\n",
    "nombre_sain          2185\n",
    "nombre_exposed        527\n",
    "nombre_recovered    16339\n",
    "Name: 691, dtype: int64"
   ]
  },
  {
   "cell_type": "markdown",
   "id": "d1ecc6fd",
   "metadata": {},
   "source": [
    "nombre_infected       959\n",
    "nombre_sain          2172\n",
    "nombre_exposed        548\n",
    "nombre_recovered    16321\n",
    "Name: 692, dtype: int64"
   ]
  },
  {
   "cell_type": "markdown",
   "id": "5b1034e4",
   "metadata": {},
   "source": [
    "nombre_infected       967\n",
    "nombre_sain          2173\n",
    "nombre_exposed        551\n",
    "nombre_recovered    16309\n",
    "Name: 693, dtype: int64"
   ]
  },
  {
   "cell_type": "markdown",
   "id": "dcaf6878",
   "metadata": {},
   "source": [
    "nombre_infected       987\n",
    "nombre_sain          2185\n",
    "nombre_exposed        547\n",
    "nombre_recovered    16281\n",
    "Name: 694, dtype: int64"
   ]
  },
  {
   "cell_type": "markdown",
   "id": "cea0451e",
   "metadata": {},
   "source": [
    "nombre_infected      1000\n",
    "nombre_sain          2204\n",
    "nombre_exposed        520\n",
    "nombre_recovered    16276\n",
    "Name: 695, dtype: int64"
   ]
  },
  {
   "cell_type": "markdown",
   "id": "0e90d457",
   "metadata": {},
   "source": [
    "nombre_infected      1018\n",
    "nombre_sain          2208\n",
    "nombre_exposed        504\n",
    "nombre_recovered    16270\n",
    "Name: 696, dtype: int64"
   ]
  },
  {
   "cell_type": "markdown",
   "id": "deab6da6",
   "metadata": {},
   "source": [
    "nombre_infected      1010\n",
    "nombre_sain          2206\n",
    "nombre_exposed        542\n",
    "nombre_recovered    16242\n",
    "Name: 697, dtype: int64"
   ]
  },
  {
   "cell_type": "markdown",
   "id": "8c449d05",
   "metadata": {},
   "source": [
    "nombre_infected      1013\n",
    "nombre_sain          2199\n",
    "nombre_exposed        560\n",
    "nombre_recovered    16228\n",
    "Name: 698, dtype: int64"
   ]
  },
  {
   "cell_type": "markdown",
   "id": "a5b55c02",
   "metadata": {},
   "source": [
    "nombre_infected      1017\n",
    "nombre_sain          2217\n",
    "nombre_exposed        559\n",
    "nombre_recovered    16207\n",
    "Name: 699, dtype: int64"
   ]
  },
  {
   "cell_type": "markdown",
   "id": "da050d30",
   "metadata": {},
   "source": [
    "nombre_infected      1038\n",
    "nombre_sain          2202\n",
    "nombre_exposed        562\n",
    "nombre_recovered    16198\n",
    "Name: 700, dtype: int64"
   ]
  },
  {
   "cell_type": "markdown",
   "id": "7c6ad679",
   "metadata": {},
   "source": [
    "nombre_infected      1034\n",
    "nombre_sain          2222\n",
    "nombre_exposed        560\n",
    "nombre_recovered    16184\n",
    "Name: 701, dtype: int64"
   ]
  },
  {
   "cell_type": "markdown",
   "id": "7c55734e",
   "metadata": {},
   "source": [
    "nombre_infected      1047\n",
    "nombre_sain          2236\n",
    "nombre_exposed        564\n",
    "nombre_recovered    16153\n",
    "Name: 702, dtype: int64"
   ]
  },
  {
   "cell_type": "markdown",
   "id": "d62a852a",
   "metadata": {},
   "source": [
    "nombre_infected      1060\n",
    "nombre_sain          2191\n",
    "nombre_exposed        574\n",
    "nombre_recovered    16175\n",
    "Name: 703, dtype: int64"
   ]
  },
  {
   "cell_type": "markdown",
   "id": "0a048ff8",
   "metadata": {},
   "source": [
    "nombre_infected      1064\n",
    "nombre_sain          2165\n",
    "nombre_exposed        570\n",
    "nombre_recovered    16201\n",
    "Name: 704, dtype: int64"
   ]
  },
  {
   "cell_type": "markdown",
   "id": "fbceb69b",
   "metadata": {},
   "source": [
    "nombre_infected      1055\n",
    "nombre_sain          2142\n",
    "nombre_exposed        597\n",
    "nombre_recovered    16206\n",
    "Name: 705, dtype: int64"
   ]
  },
  {
   "cell_type": "markdown",
   "id": "202638d3",
   "metadata": {},
   "source": [
    "nombre_infected      1052\n",
    "nombre_sain          2131\n",
    "nombre_exposed        588\n",
    "nombre_recovered    16229\n",
    "Name: 706, dtype: int64"
   ]
  },
  {
   "cell_type": "markdown",
   "id": "6a411dcf",
   "metadata": {},
   "source": [
    "nombre_infected      1084\n",
    "nombre_sain          2121\n",
    "nombre_exposed        570\n",
    "nombre_recovered    16225\n",
    "Name: 707, dtype: int64"
   ]
  },
  {
   "cell_type": "markdown",
   "id": "9e27fef5",
   "metadata": {},
   "source": [
    "nombre_infected      1086\n",
    "nombre_sain          2092\n",
    "nombre_exposed        586\n",
    "nombre_recovered    16236\n",
    "Name: 708, dtype: int64"
   ]
  },
  {
   "cell_type": "markdown",
   "id": "6bf9f450",
   "metadata": {},
   "source": [
    "nombre_infected      1116\n",
    "nombre_sain          2052\n",
    "nombre_exposed        603\n",
    "nombre_recovered    16229\n",
    "Name: 709, dtype: int64"
   ]
  },
  {
   "cell_type": "markdown",
   "id": "35e34711",
   "metadata": {},
   "source": [
    "nombre_infected      1084\n",
    "nombre_sain          2039\n",
    "nombre_exposed        619\n",
    "nombre_recovered    16258\n",
    "Name: 710, dtype: int64"
   ]
  },
  {
   "cell_type": "markdown",
   "id": "23043cc2",
   "metadata": {},
   "source": [
    "nombre_infected      1100\n",
    "nombre_sain          2019\n",
    "nombre_exposed        595\n",
    "nombre_recovered    16286\n",
    "Name: 711, dtype: int64"
   ]
  },
  {
   "cell_type": "markdown",
   "id": "693cdad3",
   "metadata": {},
   "source": [
    "nombre_infected      1112\n",
    "nombre_sain          2022\n",
    "nombre_exposed        566\n",
    "nombre_recovered    16300\n",
    "Name: 712, dtype: int64"
   ]
  },
  {
   "cell_type": "markdown",
   "id": "8b89fa14",
   "metadata": {},
   "source": [
    "nombre_infected      1099\n",
    "nombre_sain          2009\n",
    "nombre_exposed        550\n",
    "nombre_recovered    16342\n",
    "Name: 713, dtype: int64"
   ]
  },
  {
   "cell_type": "markdown",
   "id": "4594bb24",
   "metadata": {},
   "source": [
    "nombre_infected      1089\n",
    "nombre_sain          2001\n",
    "nombre_exposed        525\n",
    "nombre_recovered    16385\n",
    "Name: 714, dtype: int64"
   ]
  },
  {
   "cell_type": "markdown",
   "id": "63855591",
   "metadata": {},
   "source": [
    "nombre_infected      1096\n",
    "nombre_sain          1988\n",
    "nombre_exposed        524\n",
    "nombre_recovered    16392\n",
    "Name: 715, dtype: int64"
   ]
  },
  {
   "cell_type": "markdown",
   "id": "d7db04db",
   "metadata": {},
   "source": [
    "nombre_infected      1071\n",
    "nombre_sain          2028\n",
    "nombre_exposed        526\n",
    "nombre_recovered    16375\n",
    "Name: 716, dtype: int64"
   ]
  },
  {
   "cell_type": "markdown",
   "id": "77f419b6",
   "metadata": {},
   "source": [
    "nombre_infected      1058\n",
    "nombre_sain          2004\n",
    "nombre_exposed        532\n",
    "nombre_recovered    16406\n",
    "Name: 717, dtype: int64"
   ]
  },
  {
   "cell_type": "markdown",
   "id": "08b0ca62",
   "metadata": {},
   "source": [
    "nombre_infected      1069\n",
    "nombre_sain          1980\n",
    "nombre_exposed        536\n",
    "nombre_recovered    16415\n",
    "Name: 718, dtype: int64"
   ]
  },
  {
   "cell_type": "markdown",
   "id": "15b693a4",
   "metadata": {},
   "source": [
    "nombre_infected      1044\n",
    "nombre_sain          1974\n",
    "nombre_exposed        543\n",
    "nombre_recovered    16439\n",
    "Name: 719, dtype: int64"
   ]
  },
  {
   "cell_type": "markdown",
   "id": "fcea8a72",
   "metadata": {},
   "source": [
    "nombre_infected      1032\n",
    "nombre_sain          1978\n",
    "nombre_exposed        544\n",
    "nombre_recovered    16446\n",
    "Name: 720, dtype: int64"
   ]
  },
  {
   "cell_type": "markdown",
   "id": "58bf7c16",
   "metadata": {},
   "source": [
    "nombre_infected      1019\n",
    "nombre_sain          1963\n",
    "nombre_exposed        539\n",
    "nombre_recovered    16479\n",
    "Name: 721, dtype: int64"
   ]
  },
  {
   "cell_type": "markdown",
   "id": "f707cab8",
   "metadata": {},
   "source": [
    "nombre_infected      1015\n",
    "nombre_sain          1989\n",
    "nombre_exposed        515\n",
    "nombre_recovered    16481\n",
    "Name: 722, dtype: int64"
   ]
  },
  {
   "cell_type": "markdown",
   "id": "80ff8cfd",
   "metadata": {},
   "source": [
    "nombre_infected      1034\n",
    "nombre_sain          2000\n",
    "nombre_exposed        490\n",
    "nombre_recovered    16476\n",
    "Name: 723, dtype: int64"
   ]
  },
  {
   "cell_type": "markdown",
   "id": "9091f828",
   "metadata": {},
   "source": [
    "nombre_infected      1032\n",
    "nombre_sain          2001\n",
    "nombre_exposed        475\n",
    "nombre_recovered    16492\n",
    "Name: 724, dtype: int64"
   ]
  },
  {
   "cell_type": "markdown",
   "id": "86a16f32",
   "metadata": {},
   "source": [
    "nombre_infected      1024\n",
    "nombre_sain          2005\n",
    "nombre_exposed        482\n",
    "nombre_recovered    16489\n",
    "Name: 725, dtype: int64"
   ]
  },
  {
   "cell_type": "markdown",
   "id": "1f232249",
   "metadata": {},
   "source": [
    "nombre_infected       997\n",
    "nombre_sain          1986\n",
    "nombre_exposed        506\n",
    "nombre_recovered    16511\n",
    "Name: 726, dtype: int64"
   ]
  },
  {
   "cell_type": "markdown",
   "id": "0797d745",
   "metadata": {},
   "source": [
    "nombre_infected       980\n",
    "nombre_sain          1973\n",
    "nombre_exposed        515\n",
    "nombre_recovered    16532\n",
    "Name: 727, dtype: int64"
   ]
  },
  {
   "cell_type": "markdown",
   "id": "533758f5",
   "metadata": {},
   "source": [
    "nombre_infected       986\n",
    "nombre_sain          1978\n",
    "nombre_exposed        523\n",
    "nombre_recovered    16513\n",
    "Name: 728, dtype: int64"
   ]
  },
  {
   "cell_type": "markdown",
   "id": "e9722b29",
   "metadata": {},
   "source": [
    "nombre_infected       971\n",
    "nombre_sain          1979\n",
    "nombre_exposed        520\n",
    "nombre_recovered    16530\n",
    "Name: 729, dtype: int64"
   ]
  },
  {
   "cell_type": "markdown",
   "id": "0e4a761d",
   "metadata": {},
   "source": [
    "nombre_infected       996\n",
    "nombre_sain          1958\n",
    "nombre_exposed        524\n",
    "nombre_recovered    16522\n",
    "Name: 730, dtype: int64"
   ]
  }
 ],
 "metadata": {},
 "nbformat": 4,
 "nbformat_minor": 5
}
