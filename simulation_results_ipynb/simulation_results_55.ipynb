{
 "cells": [
  {
   "cell_type": "markdown",
   "id": "c17fd9dc",
   "metadata": {},
   "source": [
    "nombre_infected        20\n",
    "nombre_sain         19980\n",
    "nombre_exposed          0\n",
    "nombre_recovered        0\n",
    "Name: 0, dtype: int64"
   ]
  },
  {
   "cell_type": "markdown",
   "id": "331debd2",
   "metadata": {},
   "source": [
    "nombre_infected        20\n",
    "nombre_sain         19965\n",
    "nombre_exposed         15\n",
    "nombre_recovered        0\n",
    "Name: 1, dtype: int64"
   ]
  },
  {
   "cell_type": "markdown",
   "id": "4995fdba",
   "metadata": {},
   "source": [
    "nombre_infected        20\n",
    "nombre_sain         19949\n",
    "nombre_exposed         31\n",
    "nombre_recovered        0\n",
    "Name: 2, dtype: int64"
   ]
  },
  {
   "cell_type": "markdown",
   "id": "64f96af1",
   "metadata": {},
   "source": [
    "nombre_infected         6\n",
    "nombre_sain         19932\n",
    "nombre_exposed         42\n",
    "nombre_recovered       20\n",
    "Name: 3, dtype: int64"
   ]
  },
  {
   "cell_type": "markdown",
   "id": "ecb68a11",
   "metadata": {},
   "source": [
    "nombre_infected        10\n",
    "nombre_sain         19922\n",
    "nombre_exposed         48\n",
    "nombre_recovered       20\n",
    "Name: 4, dtype: int64"
   ]
  },
  {
   "cell_type": "markdown",
   "id": "0f80dc7f",
   "metadata": {},
   "source": [
    "nombre_infected        22\n",
    "nombre_sain         19897\n",
    "nombre_exposed         61\n",
    "nombre_recovered       20\n",
    "Name: 5, dtype: int64"
   ]
  },
  {
   "cell_type": "markdown",
   "id": "4b1a71a1",
   "metadata": {},
   "source": [
    "nombre_infected        37\n",
    "nombre_sain         19850\n",
    "nombre_exposed         90\n",
    "nombre_recovered       23\n",
    "Name: 6, dtype: int64"
   ]
  },
  {
   "cell_type": "markdown",
   "id": "7e39b01a",
   "metadata": {},
   "source": [
    "nombre_infected        44\n",
    "nombre_sain         19810\n",
    "nombre_exposed        120\n",
    "nombre_recovered       26\n",
    "Name: 7, dtype: int64"
   ]
  },
  {
   "cell_type": "markdown",
   "id": "462affb4",
   "metadata": {},
   "source": [
    "nombre_infected        62\n",
    "nombre_sain         19743\n",
    "nombre_exposed        164\n",
    "nombre_recovered       31\n",
    "Name: 8, dtype: int64"
   ]
  },
  {
   "cell_type": "markdown",
   "id": "25e7d15c",
   "metadata": {},
   "source": [
    "nombre_infected        78\n",
    "nombre_sain         19647\n",
    "nombre_exposed        238\n",
    "nombre_recovered       37\n",
    "Name: 9, dtype: int64"
   ]
  },
  {
   "cell_type": "markdown",
   "id": "12a238da",
   "metadata": {},
   "source": [
    "nombre_infected       113\n",
    "nombre_sain         19536\n",
    "nombre_exposed        305\n",
    "nombre_recovered       46\n",
    "Name: 10, dtype: int64"
   ]
  },
  {
   "cell_type": "markdown",
   "id": "25af1547",
   "metadata": {},
   "source": [
    "nombre_infected       156\n",
    "nombre_sain         19369\n",
    "nombre_exposed        421\n",
    "nombre_recovered       54\n",
    "Name: 11, dtype: int64"
   ]
  },
  {
   "cell_type": "markdown",
   "id": "07fef07a",
   "metadata": {},
   "source": [
    "nombre_infected       226\n",
    "nombre_sain         19127\n",
    "nombre_exposed        585\n",
    "nombre_recovered       62\n",
    "Name: 12, dtype: int64"
   ]
  },
  {
   "cell_type": "markdown",
   "id": "dec78da3",
   "metadata": {},
   "source": [
    "nombre_infected       304\n",
    "nombre_sain         18798\n",
    "nombre_exposed        813\n",
    "nombre_recovered       85\n",
    "Name: 13, dtype: int64"
   ]
  },
  {
   "cell_type": "markdown",
   "id": "525cb298",
   "metadata": {},
   "source": [
    "nombre_infected       409\n",
    "nombre_sain         18375\n",
    "nombre_exposed       1104\n",
    "nombre_recovered      112\n",
    "Name: 14, dtype: int64"
   ]
  },
  {
   "cell_type": "markdown",
   "id": "0a4689d4",
   "metadata": {},
   "source": [
    "nombre_infected       540\n",
    "nombre_sain         17890\n",
    "nombre_exposed       1406\n",
    "nombre_recovered      164\n",
    "Name: 15, dtype: int64"
   ]
  },
  {
   "cell_type": "markdown",
   "id": "d9e29062",
   "metadata": {},
   "source": [
    "nombre_infected       736\n",
    "nombre_sain         17205\n",
    "nombre_exposed       1855\n",
    "nombre_recovered      204\n",
    "Name: 16, dtype: int64"
   ]
  },
  {
   "cell_type": "markdown",
   "id": "d72707fd",
   "metadata": {},
   "source": [
    "nombre_infected       989\n",
    "nombre_sain         16296\n",
    "nombre_exposed       2439\n",
    "nombre_recovered      276\n",
    "Name: 17, dtype: int64"
   ]
  },
  {
   "cell_type": "markdown",
   "id": "3669bf40",
   "metadata": {},
   "source": [
    "nombre_infected      1341\n",
    "nombre_sain         15196\n",
    "nombre_exposed       3099\n",
    "nombre_recovered      364\n",
    "Name: 18, dtype: int64"
   ]
  },
  {
   "cell_type": "markdown",
   "id": "d4817fba",
   "metadata": {},
   "source": [
    "nombre_infected      1756\n",
    "nombre_sain         13786\n",
    "nombre_exposed       3963\n",
    "nombre_recovered      495\n",
    "Name: 19, dtype: int64"
   ]
  },
  {
   "cell_type": "markdown",
   "id": "995044c4",
   "metadata": {},
   "source": [
    "nombre_infected      2308\n",
    "nombre_sain         12280\n",
    "nombre_exposed       4756\n",
    "nombre_recovered      656\n",
    "Name: 20, dtype: int64"
   ]
  },
  {
   "cell_type": "markdown",
   "id": "20e8c2aa",
   "metadata": {},
   "source": [
    "nombre_infected      2990\n",
    "nombre_sain         10589\n",
    "nombre_exposed       5560\n",
    "nombre_recovered      861\n",
    "Name: 21, dtype: int64"
   ]
  },
  {
   "cell_type": "markdown",
   "id": "a11e00fe",
   "metadata": {},
   "source": [
    "nombre_infected     3786\n",
    "nombre_sain         8773\n",
    "nombre_exposed      6304\n",
    "nombre_recovered    1137\n",
    "Name: 22, dtype: int64"
   ]
  },
  {
   "cell_type": "markdown",
   "id": "cedeb060",
   "metadata": {},
   "source": [
    "nombre_infected     4667\n",
    "nombre_sain         6967\n",
    "nombre_exposed      6855\n",
    "nombre_recovered    1511\n",
    "Name: 23, dtype: int64"
   ]
  },
  {
   "cell_type": "markdown",
   "id": "36ed8b22",
   "metadata": {},
   "source": [
    "nombre_infected     5652\n",
    "nombre_sain         5380\n",
    "nombre_exposed      7012\n",
    "nombre_recovered    1956\n",
    "Name: 24, dtype: int64"
   ]
  },
  {
   "cell_type": "markdown",
   "id": "d1e66dc0",
   "metadata": {},
   "source": [
    "nombre_infected     6564\n",
    "nombre_sain         4041\n",
    "nombre_exposed      6850\n",
    "nombre_recovered    2545\n",
    "Name: 25, dtype: int64"
   ]
  },
  {
   "cell_type": "markdown",
   "id": "81583661",
   "metadata": {},
   "source": [
    "nombre_infected     7423\n",
    "nombre_sain         2881\n",
    "nombre_exposed      6475\n",
    "nombre_recovered    3221\n",
    "Name: 26, dtype: int64"
   ]
  },
  {
   "cell_type": "markdown",
   "id": "36c5e95b",
   "metadata": {},
   "source": [
    "nombre_infected     8014\n",
    "nombre_sain         2004\n",
    "nombre_exposed      5906\n",
    "nombre_recovered    4076\n",
    "Name: 27, dtype: int64"
   ]
  },
  {
   "cell_type": "markdown",
   "id": "055f1fdb",
   "metadata": {},
   "source": [
    "nombre_infected     8527\n",
    "nombre_sain         1375\n",
    "nombre_exposed      5122\n",
    "nombre_recovered    4976\n",
    "Name: 28, dtype: int64"
   ]
  },
  {
   "cell_type": "markdown",
   "id": "2786d6e9",
   "metadata": {},
   "source": [
    "nombre_infected     8801\n",
    "nombre_sain          975\n",
    "nombre_exposed      4303\n",
    "nombre_recovered    5921\n",
    "Name: 29, dtype: int64"
   ]
  },
  {
   "cell_type": "markdown",
   "id": "3769714d",
   "metadata": {},
   "source": [
    "nombre_infected     8887\n",
    "nombre_sain          687\n",
    "nombre_exposed      3515\n",
    "nombre_recovered    6911\n",
    "Name: 30, dtype: int64"
   ]
  },
  {
   "cell_type": "markdown",
   "id": "21219eae",
   "metadata": {},
   "source": [
    "nombre_infected     8742\n",
    "nombre_sain          443\n",
    "nombre_exposed      2869\n",
    "nombre_recovered    7946\n",
    "Name: 31, dtype: int64"
   ]
  },
  {
   "cell_type": "markdown",
   "id": "e6a9957b",
   "metadata": {},
   "source": [
    "nombre_infected     8436\n",
    "nombre_sain          334\n",
    "nombre_exposed      2295\n",
    "nombre_recovered    8935\n",
    "Name: 32, dtype: int64"
   ]
  },
  {
   "cell_type": "markdown",
   "id": "84a173bc",
   "metadata": {},
   "source": [
    "nombre_infected     8104\n",
    "nombre_sain          272\n",
    "nombre_exposed      1779\n",
    "nombre_recovered    9845\n",
    "Name: 33, dtype: int64"
   ]
  },
  {
   "cell_type": "markdown",
   "id": "c97af6a5",
   "metadata": {},
   "source": [
    "nombre_infected      7612\n",
    "nombre_sain           225\n",
    "nombre_exposed       1387\n",
    "nombre_recovered    10776\n",
    "Name: 34, dtype: int64"
   ]
  },
  {
   "cell_type": "markdown",
   "id": "7a8393c9",
   "metadata": {},
   "source": [
    "nombre_infected      7061\n",
    "nombre_sain           204\n",
    "nombre_exposed       1076\n",
    "nombre_recovered    11659\n",
    "Name: 35, dtype: int64"
   ]
  },
  {
   "cell_type": "markdown",
   "id": "c1486dea",
   "metadata": {},
   "source": [
    "nombre_infected      6519\n",
    "nombre_sain           183\n",
    "nombre_exposed        860\n",
    "nombre_recovered    12438\n",
    "Name: 36, dtype: int64"
   ]
  },
  {
   "cell_type": "markdown",
   "id": "54249eb0",
   "metadata": {},
   "source": [
    "nombre_infected      5945\n",
    "nombre_sain           180\n",
    "nombre_exposed        698\n",
    "nombre_recovered    13177\n",
    "Name: 37, dtype: int64"
   ]
  },
  {
   "cell_type": "markdown",
   "id": "f5beff05",
   "metadata": {},
   "source": [
    "nombre_infected      5387\n",
    "nombre_sain           186\n",
    "nombre_exposed        552\n",
    "nombre_recovered    13875\n",
    "Name: 38, dtype: int64"
   ]
  },
  {
   "cell_type": "markdown",
   "id": "f145bed7",
   "metadata": {},
   "source": [
    "nombre_infected      4869\n",
    "nombre_sain           200\n",
    "nombre_exposed        451\n",
    "nombre_recovered    14480\n",
    "Name: 39, dtype: int64"
   ]
  },
  {
   "cell_type": "markdown",
   "id": "e4e3b44a",
   "metadata": {},
   "source": [
    "nombre_infected      4421\n",
    "nombre_sain           224\n",
    "nombre_exposed        365\n",
    "nombre_recovered    14990\n",
    "Name: 40, dtype: int64"
   ]
  },
  {
   "cell_type": "markdown",
   "id": "45dd842b",
   "metadata": {},
   "source": [
    "nombre_infected      3957\n",
    "nombre_sain           208\n",
    "nombre_exposed        324\n",
    "nombre_recovered    15511\n",
    "Name: 41, dtype: int64"
   ]
  },
  {
   "cell_type": "markdown",
   "id": "5a4675c3",
   "metadata": {},
   "source": [
    "nombre_infected      3557\n",
    "nombre_sain           204\n",
    "nombre_exposed        285\n",
    "nombre_recovered    15954\n",
    "Name: 42, dtype: int64"
   ]
  },
  {
   "cell_type": "markdown",
   "id": "f2a0911a",
   "metadata": {},
   "source": [
    "nombre_infected      3174\n",
    "nombre_sain           225\n",
    "nombre_exposed        241\n",
    "nombre_recovered    16360\n",
    "Name: 43, dtype: int64"
   ]
  },
  {
   "cell_type": "markdown",
   "id": "4fab27b4",
   "metadata": {},
   "source": [
    "nombre_infected      2816\n",
    "nombre_sain           270\n",
    "nombre_exposed        217\n",
    "nombre_recovered    16697\n",
    "Name: 44, dtype: int64"
   ]
  },
  {
   "cell_type": "markdown",
   "id": "228c322a",
   "metadata": {},
   "source": [
    "nombre_infected      2499\n",
    "nombre_sain           281\n",
    "nombre_exposed        190\n",
    "nombre_recovered    17030\n",
    "Name: 45, dtype: int64"
   ]
  },
  {
   "cell_type": "markdown",
   "id": "73f77bc3",
   "metadata": {},
   "source": [
    "nombre_infected      2238\n",
    "nombre_sain           291\n",
    "nombre_exposed        197\n",
    "nombre_recovered    17274\n",
    "Name: 46, dtype: int64"
   ]
  },
  {
   "cell_type": "markdown",
   "id": "d035bf5f",
   "metadata": {},
   "source": [
    "nombre_infected      2043\n",
    "nombre_sain           318\n",
    "nombre_exposed        177\n",
    "nombre_recovered    17462\n",
    "Name: 47, dtype: int64"
   ]
  },
  {
   "cell_type": "markdown",
   "id": "32bf0901",
   "metadata": {},
   "source": [
    "nombre_infected      1860\n",
    "nombre_sain           341\n",
    "nombre_exposed        145\n",
    "nombre_recovered    17654\n",
    "Name: 48, dtype: int64"
   ]
  },
  {
   "cell_type": "markdown",
   "id": "202a9335",
   "metadata": {},
   "source": [
    "nombre_infected      1662\n",
    "nombre_sain           351\n",
    "nombre_exposed        161\n",
    "nombre_recovered    17826\n",
    "Name: 49, dtype: int64"
   ]
  },
  {
   "cell_type": "markdown",
   "id": "095300c5",
   "metadata": {},
   "source": [
    "nombre_infected      1489\n",
    "nombre_sain           393\n",
    "nombre_exposed        139\n",
    "nombre_recovered    17979\n",
    "Name: 50, dtype: int64"
   ]
  },
  {
   "cell_type": "markdown",
   "id": "c3e05ef7",
   "metadata": {},
   "source": [
    "nombre_infected      1346\n",
    "nombre_sain           411\n",
    "nombre_exposed        132\n",
    "nombre_recovered    18111\n",
    "Name: 51, dtype: int64"
   ]
  },
  {
   "cell_type": "markdown",
   "id": "4d5cf3df",
   "metadata": {},
   "source": [
    "nombre_infected      1237\n",
    "nombre_sain           433\n",
    "nombre_exposed        119\n",
    "nombre_recovered    18211\n",
    "Name: 52, dtype: int64"
   ]
  },
  {
   "cell_type": "markdown",
   "id": "87beb71f",
   "metadata": {},
   "source": [
    "nombre_infected      1115\n",
    "nombre_sain           461\n",
    "nombre_exposed        102\n",
    "nombre_recovered    18322\n",
    "Name: 53, dtype: int64"
   ]
  },
  {
   "cell_type": "markdown",
   "id": "902e6e3c",
   "metadata": {},
   "source": [
    "nombre_infected      1009\n",
    "nombre_sain           472\n",
    "nombre_exposed         98\n",
    "nombre_recovered    18421\n",
    "Name: 54, dtype: int64"
   ]
  },
  {
   "cell_type": "markdown",
   "id": "aee2d8a7",
   "metadata": {},
   "source": [
    "nombre_infected       914\n",
    "nombre_sain           499\n",
    "nombre_exposed        103\n",
    "nombre_recovered    18484\n",
    "Name: 55, dtype: int64"
   ]
  },
  {
   "cell_type": "markdown",
   "id": "48a2d178",
   "metadata": {},
   "source": [
    "nombre_infected       824\n",
    "nombre_sain           524\n",
    "nombre_exposed         97\n",
    "nombre_recovered    18555\n",
    "Name: 56, dtype: int64"
   ]
  },
  {
   "cell_type": "markdown",
   "id": "1d906ecd",
   "metadata": {},
   "source": [
    "nombre_infected       741\n",
    "nombre_sain           559\n",
    "nombre_exposed        102\n",
    "nombre_recovered    18598\n",
    "Name: 57, dtype: int64"
   ]
  },
  {
   "cell_type": "markdown",
   "id": "864b57b8",
   "metadata": {},
   "source": [
    "nombre_infected       671\n",
    "nombre_sain           612\n",
    "nombre_exposed        100\n",
    "nombre_recovered    18617\n",
    "Name: 58, dtype: int64"
   ]
  },
  {
   "cell_type": "markdown",
   "id": "9eef60ec",
   "metadata": {},
   "source": [
    "nombre_infected       593\n",
    "nombre_sain           675\n",
    "nombre_exposed         82\n",
    "nombre_recovered    18650\n",
    "Name: 59, dtype: int64"
   ]
  },
  {
   "cell_type": "markdown",
   "id": "cf077bbb",
   "metadata": {},
   "source": [
    "nombre_infected       544\n",
    "nombre_sain           726\n",
    "nombre_exposed         73\n",
    "nombre_recovered    18657\n",
    "Name: 60, dtype: int64"
   ]
  },
  {
   "cell_type": "markdown",
   "id": "78cf1902",
   "metadata": {},
   "source": [
    "nombre_infected       495\n",
    "nombre_sain           763\n",
    "nombre_exposed         71\n",
    "nombre_recovered    18671\n",
    "Name: 61, dtype: int64"
   ]
  },
  {
   "cell_type": "markdown",
   "id": "6b475efc",
   "metadata": {},
   "source": [
    "nombre_infected       450\n",
    "nombre_sain           801\n",
    "nombre_exposed         80\n",
    "nombre_recovered    18669\n",
    "Name: 62, dtype: int64"
   ]
  },
  {
   "cell_type": "markdown",
   "id": "01410753",
   "metadata": {},
   "source": [
    "nombre_infected       410\n",
    "nombre_sain           838\n",
    "nombre_exposed         77\n",
    "nombre_recovered    18675\n",
    "Name: 63, dtype: int64"
   ]
  },
  {
   "cell_type": "markdown",
   "id": "cac3d385",
   "metadata": {},
   "source": [
    "nombre_infected       370\n",
    "nombre_sain           886\n",
    "nombre_exposed         76\n",
    "nombre_recovered    18668\n",
    "Name: 64, dtype: int64"
   ]
  },
  {
   "cell_type": "markdown",
   "id": "f63b439e",
   "metadata": {},
   "source": [
    "nombre_infected       319\n",
    "nombre_sain           914\n",
    "nombre_exposed         80\n",
    "nombre_recovered    18687\n",
    "Name: 65, dtype: int64"
   ]
  },
  {
   "cell_type": "markdown",
   "id": "50c32ef7",
   "metadata": {},
   "source": [
    "nombre_infected       297\n",
    "nombre_sain           962\n",
    "nombre_exposed         71\n",
    "nombre_recovered    18670\n",
    "Name: 66, dtype: int64"
   ]
  },
  {
   "cell_type": "markdown",
   "id": "541c5f70",
   "metadata": {},
   "source": [
    "nombre_infected       265\n",
    "nombre_sain          1006\n",
    "nombre_exposed         75\n",
    "nombre_recovered    18654\n",
    "Name: 67, dtype: int64"
   ]
  },
  {
   "cell_type": "markdown",
   "id": "1b878b83",
   "metadata": {},
   "source": [
    "nombre_infected       231\n",
    "nombre_sain          1049\n",
    "nombre_exposed         74\n",
    "nombre_recovered    18646\n",
    "Name: 68, dtype: int64"
   ]
  },
  {
   "cell_type": "markdown",
   "id": "4398026e",
   "metadata": {},
   "source": [
    "nombre_infected       210\n",
    "nombre_sain          1098\n",
    "nombre_exposed         70\n",
    "nombre_recovered    18622\n",
    "Name: 69, dtype: int64"
   ]
  },
  {
   "cell_type": "markdown",
   "id": "60db1da9",
   "metadata": {},
   "source": [
    "nombre_infected       186\n",
    "nombre_sain          1146\n",
    "nombre_exposed         66\n",
    "nombre_recovered    18602\n",
    "Name: 70, dtype: int64"
   ]
  },
  {
   "cell_type": "markdown",
   "id": "c2cf8232",
   "metadata": {},
   "source": [
    "nombre_infected       185\n",
    "nombre_sain          1199\n",
    "nombre_exposed         50\n",
    "nombre_recovered    18566\n",
    "Name: 71, dtype: int64"
   ]
  },
  {
   "cell_type": "markdown",
   "id": "4ab69a17",
   "metadata": {},
   "source": [
    "nombre_infected       170\n",
    "nombre_sain          1248\n",
    "nombre_exposed         38\n",
    "nombre_recovered    18544\n",
    "Name: 72, dtype: int64"
   ]
  },
  {
   "cell_type": "markdown",
   "id": "9723f06a",
   "metadata": {},
   "source": [
    "nombre_infected       154\n",
    "nombre_sain          1305\n",
    "nombre_exposed         31\n",
    "nombre_recovered    18510\n",
    "Name: 73, dtype: int64"
   ]
  },
  {
   "cell_type": "markdown",
   "id": "d3d96bce",
   "metadata": {},
   "source": [
    "nombre_infected       135\n",
    "nombre_sain          1360\n",
    "nombre_exposed         35\n",
    "nombre_recovered    18470\n",
    "Name: 74, dtype: int64"
   ]
  },
  {
   "cell_type": "markdown",
   "id": "d368e279",
   "metadata": {},
   "source": [
    "nombre_infected       114\n",
    "nombre_sain          1406\n",
    "nombre_exposed         44\n",
    "nombre_recovered    18436\n",
    "Name: 75, dtype: int64"
   ]
  },
  {
   "cell_type": "markdown",
   "id": "2f2e47ca",
   "metadata": {},
   "source": [
    "nombre_infected        99\n",
    "nombre_sain          1452\n",
    "nombre_exposed         43\n",
    "nombre_recovered    18406\n",
    "Name: 76, dtype: int64"
   ]
  },
  {
   "cell_type": "markdown",
   "id": "026ff296",
   "metadata": {},
   "source": [
    "nombre_infected        80\n",
    "nombre_sain          1502\n",
    "nombre_exposed         41\n",
    "nombre_recovered    18377\n",
    "Name: 77, dtype: int64"
   ]
  },
  {
   "cell_type": "markdown",
   "id": "74a68af4",
   "metadata": {},
   "source": [
    "nombre_infected        82\n",
    "nombre_sain          1553\n",
    "nombre_exposed         35\n",
    "nombre_recovered    18330\n",
    "Name: 78, dtype: int64"
   ]
  },
  {
   "cell_type": "markdown",
   "id": "89b9c2d2",
   "metadata": {},
   "source": [
    "nombre_infected        76\n",
    "nombre_sain          1610\n",
    "nombre_exposed         30\n",
    "nombre_recovered    18284\n",
    "Name: 79, dtype: int64"
   ]
  },
  {
   "cell_type": "markdown",
   "id": "03e43b2b",
   "metadata": {},
   "source": [
    "nombre_infected        77\n",
    "nombre_sain          1640\n",
    "nombre_exposed         27\n",
    "nombre_recovered    18256\n",
    "Name: 80, dtype: int64"
   ]
  },
  {
   "cell_type": "markdown",
   "id": "ed20c349",
   "metadata": {},
   "source": [
    "nombre_infected        80\n",
    "nombre_sain          1673\n",
    "nombre_exposed         27\n",
    "nombre_recovered    18220\n",
    "Name: 81, dtype: int64"
   ]
  },
  {
   "cell_type": "markdown",
   "id": "3fb58a42",
   "metadata": {},
   "source": [
    "nombre_infected        70\n",
    "nombre_sain          1718\n",
    "nombre_exposed         25\n",
    "nombre_recovered    18187\n",
    "Name: 82, dtype: int64"
   ]
  },
  {
   "cell_type": "markdown",
   "id": "23121919",
   "metadata": {},
   "source": [
    "nombre_infected        64\n",
    "nombre_sain          1757\n",
    "nombre_exposed         19\n",
    "nombre_recovered    18160\n",
    "Name: 83, dtype: int64"
   ]
  },
  {
   "cell_type": "markdown",
   "id": "b3348bb6",
   "metadata": {},
   "source": [
    "nombre_infected        55\n",
    "nombre_sain          1807\n",
    "nombre_exposed         19\n",
    "nombre_recovered    18119\n",
    "Name: 84, dtype: int64"
   ]
  },
  {
   "cell_type": "markdown",
   "id": "fbee853c",
   "metadata": {},
   "source": [
    "nombre_infected        54\n",
    "nombre_sain          1839\n",
    "nombre_exposed         19\n",
    "nombre_recovered    18088\n",
    "Name: 85, dtype: int64"
   ]
  },
  {
   "cell_type": "markdown",
   "id": "db3fd18b",
   "metadata": {},
   "source": [
    "nombre_infected        45\n",
    "nombre_sain          1889\n",
    "nombre_exposed         17\n",
    "nombre_recovered    18049\n",
    "Name: 86, dtype: int64"
   ]
  },
  {
   "cell_type": "markdown",
   "id": "a510fb4f",
   "metadata": {},
   "source": [
    "nombre_infected        44\n",
    "nombre_sain          1924\n",
    "nombre_exposed         14\n",
    "nombre_recovered    18018\n",
    "Name: 87, dtype: int64"
   ]
  },
  {
   "cell_type": "markdown",
   "id": "2c69a78b",
   "metadata": {},
   "source": [
    "nombre_infected        40\n",
    "nombre_sain          1975\n",
    "nombre_exposed         14\n",
    "nombre_recovered    17971\n",
    "Name: 88, dtype: int64"
   ]
  },
  {
   "cell_type": "markdown",
   "id": "9d64db31",
   "metadata": {},
   "source": [
    "nombre_infected        35\n",
    "nombre_sain          2020\n",
    "nombre_exposed         15\n",
    "nombre_recovered    17930\n",
    "Name: 89, dtype: int64"
   ]
  },
  {
   "cell_type": "markdown",
   "id": "a6cbdb22",
   "metadata": {},
   "source": [
    "nombre_infected        33\n",
    "nombre_sain          2067\n",
    "nombre_exposed         16\n",
    "nombre_recovered    17884\n",
    "Name: 90, dtype: int64"
   ]
  },
  {
   "cell_type": "markdown",
   "id": "f1f0c178",
   "metadata": {},
   "source": [
    "nombre_infected        33\n",
    "nombre_sain          2100\n",
    "nombre_exposed         17\n",
    "nombre_recovered    17850\n",
    "Name: 91, dtype: int64"
   ]
  },
  {
   "cell_type": "markdown",
   "id": "e8e401e1",
   "metadata": {},
   "source": [
    "nombre_infected        33\n",
    "nombre_sain          2155\n",
    "nombre_exposed         18\n",
    "nombre_recovered    17794\n",
    "Name: 92, dtype: int64"
   ]
  },
  {
   "cell_type": "markdown",
   "id": "120e8681",
   "metadata": {},
   "source": [
    "nombre_infected        36\n",
    "nombre_sain          2202\n",
    "nombre_exposed         17\n",
    "nombre_recovered    17745\n",
    "Name: 93, dtype: int64"
   ]
  },
  {
   "cell_type": "markdown",
   "id": "1d062baa",
   "metadata": {},
   "source": [
    "nombre_infected        41\n",
    "nombre_sain          2245\n",
    "nombre_exposed         17\n",
    "nombre_recovered    17697\n",
    "Name: 94, dtype: int64"
   ]
  },
  {
   "cell_type": "markdown",
   "id": "c03e7241",
   "metadata": {},
   "source": [
    "nombre_infected        39\n",
    "nombre_sain          2297\n",
    "nombre_exposed         17\n",
    "nombre_recovered    17647\n",
    "Name: 95, dtype: int64"
   ]
  },
  {
   "cell_type": "markdown",
   "id": "fe48eadd",
   "metadata": {},
   "source": [
    "nombre_infected        36\n",
    "nombre_sain          2356\n",
    "nombre_exposed         20\n",
    "nombre_recovered    17588\n",
    "Name: 96, dtype: int64"
   ]
  },
  {
   "cell_type": "markdown",
   "id": "7b7fc94a",
   "metadata": {},
   "source": [
    "nombre_infected        38\n",
    "nombre_sain          2402\n",
    "nombre_exposed         19\n",
    "nombre_recovered    17541\n",
    "Name: 97, dtype: int64"
   ]
  },
  {
   "cell_type": "markdown",
   "id": "cde98589",
   "metadata": {},
   "source": [
    "nombre_infected        42\n",
    "nombre_sain          2447\n",
    "nombre_exposed         20\n",
    "nombre_recovered    17491\n",
    "Name: 98, dtype: int64"
   ]
  },
  {
   "cell_type": "markdown",
   "id": "86811d71",
   "metadata": {},
   "source": [
    "nombre_infected        40\n",
    "nombre_sain          2495\n",
    "nombre_exposed         26\n",
    "nombre_recovered    17439\n",
    "Name: 99, dtype: int64"
   ]
  },
  {
   "cell_type": "markdown",
   "id": "b3545d0a",
   "metadata": {},
   "source": [
    "nombre_infected        40\n",
    "nombre_sain          2543\n",
    "nombre_exposed         30\n",
    "nombre_recovered    17387\n",
    "Name: 100, dtype: int64"
   ]
  },
  {
   "cell_type": "markdown",
   "id": "f8c2e5c8",
   "metadata": {},
   "source": [
    "nombre_infected        46\n",
    "nombre_sain          2600\n",
    "nombre_exposed         26\n",
    "nombre_recovered    17328\n",
    "Name: 101, dtype: int64"
   ]
  },
  {
   "cell_type": "markdown",
   "id": "ac38a732",
   "metadata": {},
   "source": [
    "nombre_infected        49\n",
    "nombre_sain          2663\n",
    "nombre_exposed         25\n",
    "nombre_recovered    17263\n",
    "Name: 102, dtype: int64"
   ]
  },
  {
   "cell_type": "markdown",
   "id": "0950711e",
   "metadata": {},
   "source": [
    "nombre_infected        48\n",
    "nombre_sain          2715\n",
    "nombre_exposed         29\n",
    "nombre_recovered    17208\n",
    "Name: 103, dtype: int64"
   ]
  },
  {
   "cell_type": "markdown",
   "id": "5f66d76d",
   "metadata": {},
   "source": [
    "nombre_infected        50\n",
    "nombre_sain          2761\n",
    "nombre_exposed         36\n",
    "nombre_recovered    17153\n",
    "Name: 104, dtype: int64"
   ]
  },
  {
   "cell_type": "markdown",
   "id": "79b7de32",
   "metadata": {},
   "source": [
    "nombre_infected        46\n",
    "nombre_sain          2800\n",
    "nombre_exposed         38\n",
    "nombre_recovered    17116\n",
    "Name: 105, dtype: int64"
   ]
  },
  {
   "cell_type": "markdown",
   "id": "b046f8fa",
   "metadata": {},
   "source": [
    "nombre_infected        56\n",
    "nombre_sain          2846\n",
    "nombre_exposed         27\n",
    "nombre_recovered    17071\n",
    "Name: 106, dtype: int64"
   ]
  },
  {
   "cell_type": "markdown",
   "id": "f9e9c35d",
   "metadata": {},
   "source": [
    "nombre_infected        58\n",
    "nombre_sain          2889\n",
    "nombre_exposed         30\n",
    "nombre_recovered    17023\n",
    "Name: 107, dtype: int64"
   ]
  },
  {
   "cell_type": "markdown",
   "id": "f64dcd07",
   "metadata": {},
   "source": [
    "nombre_infected        65\n",
    "nombre_sain          2934\n",
    "nombre_exposed         31\n",
    "nombre_recovered    16970\n",
    "Name: 108, dtype: int64"
   ]
  },
  {
   "cell_type": "markdown",
   "id": "86cd93be",
   "metadata": {},
   "source": [
    "nombre_infected        62\n",
    "nombre_sain          2967\n",
    "nombre_exposed         33\n",
    "nombre_recovered    16938\n",
    "Name: 109, dtype: int64"
   ]
  },
  {
   "cell_type": "markdown",
   "id": "b921dc09",
   "metadata": {},
   "source": [
    "nombre_infected        62\n",
    "nombre_sain          2999\n",
    "nombre_exposed         40\n",
    "nombre_recovered    16899\n",
    "Name: 110, dtype: int64"
   ]
  },
  {
   "cell_type": "markdown",
   "id": "3c2b06b8",
   "metadata": {},
   "source": [
    "nombre_infected        59\n",
    "nombre_sain          3030\n",
    "nombre_exposed         44\n",
    "nombre_recovered    16867\n",
    "Name: 111, dtype: int64"
   ]
  },
  {
   "cell_type": "markdown",
   "id": "2ffdeaa8",
   "metadata": {},
   "source": [
    "nombre_infected        61\n",
    "nombre_sain          3061\n",
    "nombre_exposed         41\n",
    "nombre_recovered    16837\n",
    "Name: 112, dtype: int64"
   ]
  },
  {
   "cell_type": "markdown",
   "id": "07cec77c",
   "metadata": {},
   "source": [
    "nombre_infected        67\n",
    "nombre_sain          3113\n",
    "nombre_exposed         38\n",
    "nombre_recovered    16782\n",
    "Name: 113, dtype: int64"
   ]
  },
  {
   "cell_type": "markdown",
   "id": "1eb73663",
   "metadata": {},
   "source": [
    "nombre_infected        67\n",
    "nombre_sain          3153\n",
    "nombre_exposed         39\n",
    "nombre_recovered    16741\n",
    "Name: 114, dtype: int64"
   ]
  },
  {
   "cell_type": "markdown",
   "id": "0da8e430",
   "metadata": {},
   "source": [
    "nombre_infected        69\n",
    "nombre_sain          3185\n",
    "nombre_exposed         46\n",
    "nombre_recovered    16700\n",
    "Name: 115, dtype: int64"
   ]
  },
  {
   "cell_type": "markdown",
   "id": "bb1790b3",
   "metadata": {},
   "source": [
    "nombre_infected        72\n",
    "nombre_sain          3212\n",
    "nombre_exposed         55\n",
    "nombre_recovered    16661\n",
    "Name: 116, dtype: int64"
   ]
  },
  {
   "cell_type": "markdown",
   "id": "7af45e49",
   "metadata": {},
   "source": [
    "nombre_infected        82\n",
    "nombre_sain          3253\n",
    "nombre_exposed         53\n",
    "nombre_recovered    16612\n",
    "Name: 117, dtype: int64"
   ]
  },
  {
   "cell_type": "markdown",
   "id": "d272cff3",
   "metadata": {},
   "source": [
    "nombre_infected        88\n",
    "nombre_sain          3284\n",
    "nombre_exposed         54\n",
    "nombre_recovered    16574\n",
    "Name: 118, dtype: int64"
   ]
  },
  {
   "cell_type": "markdown",
   "id": "294414ca",
   "metadata": {},
   "source": [
    "nombre_infected        95\n",
    "nombre_sain          3308\n",
    "nombre_exposed         55\n",
    "nombre_recovered    16542\n",
    "Name: 119, dtype: int64"
   ]
  },
  {
   "cell_type": "markdown",
   "id": "3469b5bf",
   "metadata": {},
   "source": [
    "nombre_infected       100\n",
    "nombre_sain          3325\n",
    "nombre_exposed         61\n",
    "nombre_recovered    16514\n",
    "Name: 120, dtype: int64"
   ]
  },
  {
   "cell_type": "markdown",
   "id": "40819fc7",
   "metadata": {},
   "source": [
    "nombre_infected        95\n",
    "nombre_sain          3350\n",
    "nombre_exposed         63\n",
    "nombre_recovered    16492\n",
    "Name: 121, dtype: int64"
   ]
  },
  {
   "cell_type": "markdown",
   "id": "9bb0e62d",
   "metadata": {},
   "source": [
    "nombre_infected       106\n",
    "nombre_sain          3374\n",
    "nombre_exposed         55\n",
    "nombre_recovered    16465\n",
    "Name: 122, dtype: int64"
   ]
  },
  {
   "cell_type": "markdown",
   "id": "b4eededb",
   "metadata": {},
   "source": [
    "nombre_infected       108\n",
    "nombre_sain          3388\n",
    "nombre_exposed         62\n",
    "nombre_recovered    16442\n",
    "Name: 123, dtype: int64"
   ]
  },
  {
   "cell_type": "markdown",
   "id": "c3f6ec55",
   "metadata": {},
   "source": [
    "nombre_infected       104\n",
    "nombre_sain          3400\n",
    "nombre_exposed         80\n",
    "nombre_recovered    16416\n",
    "Name: 124, dtype: int64"
   ]
  },
  {
   "cell_type": "markdown",
   "id": "6ff61097",
   "metadata": {},
   "source": [
    "nombre_infected       109\n",
    "nombre_sain          3422\n",
    "nombre_exposed         82\n",
    "nombre_recovered    16387\n",
    "Name: 125, dtype: int64"
   ]
  },
  {
   "cell_type": "markdown",
   "id": "d46d7494",
   "metadata": {},
   "source": [
    "nombre_infected       127\n",
    "nombre_sain          3427\n",
    "nombre_exposed         92\n",
    "nombre_recovered    16354\n",
    "Name: 126, dtype: int64"
   ]
  },
  {
   "cell_type": "markdown",
   "id": "3e7ec4b7",
   "metadata": {},
   "source": [
    "nombre_infected       126\n",
    "nombre_sain          3451\n",
    "nombre_exposed         98\n",
    "nombre_recovered    16325\n",
    "Name: 127, dtype: int64"
   ]
  },
  {
   "cell_type": "markdown",
   "id": "866dd648",
   "metadata": {},
   "source": [
    "nombre_infected       140\n",
    "nombre_sain          3482\n",
    "nombre_exposed         94\n",
    "nombre_recovered    16284\n",
    "Name: 128, dtype: int64"
   ]
  },
  {
   "cell_type": "markdown",
   "id": "098b168b",
   "metadata": {},
   "source": [
    "nombre_infected       145\n",
    "nombre_sain          3504\n",
    "nombre_exposed         95\n",
    "nombre_recovered    16256\n",
    "Name: 129, dtype: int64"
   ]
  },
  {
   "cell_type": "markdown",
   "id": "4f1a2a0a",
   "metadata": {},
   "source": [
    "nombre_infected       146\n",
    "nombre_sain          3532\n",
    "nombre_exposed         99\n",
    "nombre_recovered    16223\n",
    "Name: 130, dtype: int64"
   ]
  },
  {
   "cell_type": "markdown",
   "id": "4e709613",
   "metadata": {},
   "source": [
    "nombre_infected       149\n",
    "nombre_sain          3551\n",
    "nombre_exposed        110\n",
    "nombre_recovered    16190\n",
    "Name: 131, dtype: int64"
   ]
  },
  {
   "cell_type": "markdown",
   "id": "ee1bdd0c",
   "metadata": {},
   "source": [
    "nombre_infected       159\n",
    "nombre_sain          3577\n",
    "nombre_exposed        124\n",
    "nombre_recovered    16140\n",
    "Name: 132, dtype: int64"
   ]
  },
  {
   "cell_type": "markdown",
   "id": "ff653e1f",
   "metadata": {},
   "source": [
    "nombre_infected       166\n",
    "nombre_sain          3602\n",
    "nombre_exposed        127\n",
    "nombre_recovered    16105\n",
    "Name: 133, dtype: int64"
   ]
  },
  {
   "cell_type": "markdown",
   "id": "3b1bd025",
   "metadata": {},
   "source": [
    "nombre_infected       177\n",
    "nombre_sain          3627\n",
    "nombre_exposed        133\n",
    "nombre_recovered    16063\n",
    "Name: 134, dtype: int64"
   ]
  },
  {
   "cell_type": "markdown",
   "id": "8ed8aa43",
   "metadata": {},
   "source": [
    "nombre_infected       180\n",
    "nombre_sain          3657\n",
    "nombre_exposed        138\n",
    "nombre_recovered    16025\n",
    "Name: 135, dtype: int64"
   ]
  },
  {
   "cell_type": "markdown",
   "id": "8e26d5e0",
   "metadata": {},
   "source": [
    "nombre_infected       186\n",
    "nombre_sain          3672\n",
    "nombre_exposed        154\n",
    "nombre_recovered    15988\n",
    "Name: 136, dtype: int64"
   ]
  },
  {
   "cell_type": "markdown",
   "id": "dbdb69cb",
   "metadata": {},
   "source": [
    "nombre_infected       190\n",
    "nombre_sain          3686\n",
    "nombre_exposed        166\n",
    "nombre_recovered    15958\n",
    "Name: 137, dtype: int64"
   ]
  },
  {
   "cell_type": "markdown",
   "id": "a91a6930",
   "metadata": {},
   "source": [
    "nombre_infected       207\n",
    "nombre_sain          3682\n",
    "nombre_exposed        177\n",
    "nombre_recovered    15934\n",
    "Name: 138, dtype: int64"
   ]
  },
  {
   "cell_type": "markdown",
   "id": "b8517b30",
   "metadata": {},
   "source": [
    "nombre_infected       225\n",
    "nombre_sain          3676\n",
    "nombre_exposed        187\n",
    "nombre_recovered    15912\n",
    "Name: 139, dtype: int64"
   ]
  },
  {
   "cell_type": "markdown",
   "id": "2d9c2e26",
   "metadata": {},
   "source": [
    "nombre_infected       239\n",
    "nombre_sain          3645\n",
    "nombre_exposed        215\n",
    "nombre_recovered    15901\n",
    "Name: 140, dtype: int64"
   ]
  },
  {
   "cell_type": "markdown",
   "id": "4dcd545a",
   "metadata": {},
   "source": [
    "nombre_infected       255\n",
    "nombre_sain          3639\n",
    "nombre_exposed        218\n",
    "nombre_recovered    15888\n",
    "Name: 141, dtype: int64"
   ]
  },
  {
   "cell_type": "markdown",
   "id": "93df29a1",
   "metadata": {},
   "source": [
    "nombre_infected       289\n",
    "nombre_sain          3623\n",
    "nombre_exposed        226\n",
    "nombre_recovered    15862\n",
    "Name: 142, dtype: int64"
   ]
  },
  {
   "cell_type": "markdown",
   "id": "0b7bb750",
   "metadata": {},
   "source": [
    "nombre_infected       311\n",
    "nombre_sain          3592\n",
    "nombre_exposed        243\n",
    "nombre_recovered    15854\n",
    "Name: 143, dtype: int64"
   ]
  },
  {
   "cell_type": "markdown",
   "id": "a298bee4",
   "metadata": {},
   "source": [
    "nombre_infected       325\n",
    "nombre_sain          3557\n",
    "nombre_exposed        266\n",
    "nombre_recovered    15852\n",
    "Name: 144, dtype: int64"
   ]
  },
  {
   "cell_type": "markdown",
   "id": "dc593975",
   "metadata": {},
   "source": [
    "nombre_infected       357\n",
    "nombre_sain          3529\n",
    "nombre_exposed        262\n",
    "nombre_recovered    15852\n",
    "Name: 145, dtype: int64"
   ]
  },
  {
   "cell_type": "markdown",
   "id": "8fbcd30a",
   "metadata": {},
   "source": [
    "nombre_infected       369\n",
    "nombre_sain          3493\n",
    "nombre_exposed        278\n",
    "nombre_recovered    15860\n",
    "Name: 146, dtype: int64"
   ]
  },
  {
   "cell_type": "markdown",
   "id": "dfcf15a4",
   "metadata": {},
   "source": [
    "nombre_infected       383\n",
    "nombre_sain          3471\n",
    "nombre_exposed        291\n",
    "nombre_recovered    15855\n",
    "Name: 147, dtype: int64"
   ]
  },
  {
   "cell_type": "markdown",
   "id": "d02af896",
   "metadata": {},
   "source": [
    "nombre_infected       403\n",
    "nombre_sain          3427\n",
    "nombre_exposed        306\n",
    "nombre_recovered    15864\n",
    "Name: 148, dtype: int64"
   ]
  },
  {
   "cell_type": "markdown",
   "id": "416821b6",
   "metadata": {},
   "source": [
    "nombre_infected       423\n",
    "nombre_sain          3376\n",
    "nombre_exposed        324\n",
    "nombre_recovered    15877\n",
    "Name: 149, dtype: int64"
   ]
  },
  {
   "cell_type": "markdown",
   "id": "d3f6ca5d",
   "metadata": {},
   "source": [
    "nombre_infected       431\n",
    "nombre_sain          3356\n",
    "nombre_exposed        325\n",
    "nombre_recovered    15888\n",
    "Name: 150, dtype: int64"
   ]
  },
  {
   "cell_type": "markdown",
   "id": "42d72784",
   "metadata": {},
   "source": [
    "nombre_infected       461\n",
    "nombre_sain          3328\n",
    "nombre_exposed        329\n",
    "nombre_recovered    15882\n",
    "Name: 151, dtype: int64"
   ]
  },
  {
   "cell_type": "markdown",
   "id": "aa546a92",
   "metadata": {},
   "source": [
    "nombre_infected       475\n",
    "nombre_sain          3276\n",
    "nombre_exposed        353\n",
    "nombre_recovered    15896\n",
    "Name: 152, dtype: int64"
   ]
  },
  {
   "cell_type": "markdown",
   "id": "eb429b2d",
   "metadata": {},
   "source": [
    "nombre_infected       492\n",
    "nombre_sain          3227\n",
    "nombre_exposed        368\n",
    "nombre_recovered    15913\n",
    "Name: 153, dtype: int64"
   ]
  },
  {
   "cell_type": "markdown",
   "id": "b570ef37",
   "metadata": {},
   "source": [
    "nombre_infected       520\n",
    "nombre_sain          3197\n",
    "nombre_exposed        363\n",
    "nombre_recovered    15920\n",
    "Name: 154, dtype: int64"
   ]
  },
  {
   "cell_type": "markdown",
   "id": "07ade59a",
   "metadata": {},
   "source": [
    "nombre_infected       565\n",
    "nombre_sain          3137\n",
    "nombre_exposed        376\n",
    "nombre_recovered    15922\n",
    "Name: 155, dtype: int64"
   ]
  },
  {
   "cell_type": "markdown",
   "id": "159835b6",
   "metadata": {},
   "source": [
    "nombre_infected       597\n",
    "nombre_sain          3098\n",
    "nombre_exposed        394\n",
    "nombre_recovered    15911\n",
    "Name: 156, dtype: int64"
   ]
  },
  {
   "cell_type": "markdown",
   "id": "1eeabbec",
   "metadata": {},
   "source": [
    "nombre_infected       626\n",
    "nombre_sain          3018\n",
    "nombre_exposed        424\n",
    "nombre_recovered    15932\n",
    "Name: 157, dtype: int64"
   ]
  },
  {
   "cell_type": "markdown",
   "id": "abb7d203",
   "metadata": {},
   "source": [
    "nombre_infected       638\n",
    "nombre_sain          2974\n",
    "nombre_exposed        442\n",
    "nombre_recovered    15946\n",
    "Name: 158, dtype: int64"
   ]
  },
  {
   "cell_type": "markdown",
   "id": "de0cb94a",
   "metadata": {},
   "source": [
    "nombre_infected       683\n",
    "nombre_sain          2930\n",
    "nombre_exposed        434\n",
    "nombre_recovered    15953\n",
    "Name: 159, dtype: int64"
   ]
  },
  {
   "cell_type": "markdown",
   "id": "d94307d1",
   "metadata": {},
   "source": [
    "nombre_infected       701\n",
    "nombre_sain          2857\n",
    "nombre_exposed        454\n",
    "nombre_recovered    15988\n",
    "Name: 160, dtype: int64"
   ]
  },
  {
   "cell_type": "markdown",
   "id": "293b4785",
   "metadata": {},
   "source": [
    "nombre_infected       734\n",
    "nombre_sain          2794\n",
    "nombre_exposed        456\n",
    "nombre_recovered    16016\n",
    "Name: 161, dtype: int64"
   ]
  },
  {
   "cell_type": "markdown",
   "id": "ddd162cf",
   "metadata": {},
   "source": [
    "nombre_infected       744\n",
    "nombre_sain          2703\n",
    "nombre_exposed        486\n",
    "nombre_recovered    16067\n",
    "Name: 162, dtype: int64"
   ]
  },
  {
   "cell_type": "markdown",
   "id": "c0179838",
   "metadata": {},
   "source": [
    "nombre_infected       742\n",
    "nombre_sain          2665\n",
    "nombre_exposed        503\n",
    "nombre_recovered    16090\n",
    "Name: 163, dtype: int64"
   ]
  },
  {
   "cell_type": "markdown",
   "id": "2141c971",
   "metadata": {},
   "source": [
    "nombre_infected       762\n",
    "nombre_sain          2598\n",
    "nombre_exposed        494\n",
    "nombre_recovered    16146\n",
    "Name: 164, dtype: int64"
   ]
  },
  {
   "cell_type": "markdown",
   "id": "0ba7c5f8",
   "metadata": {},
   "source": [
    "nombre_infected       783\n",
    "nombre_sain          2547\n",
    "nombre_exposed        507\n",
    "nombre_recovered    16163\n",
    "Name: 165, dtype: int64"
   ]
  },
  {
   "cell_type": "markdown",
   "id": "7447af45",
   "metadata": {},
   "source": [
    "nombre_infected       798\n",
    "nombre_sain          2477\n",
    "nombre_exposed        523\n",
    "nombre_recovered    16202\n",
    "Name: 166, dtype: int64"
   ]
  },
  {
   "cell_type": "markdown",
   "id": "2dc31ec6",
   "metadata": {},
   "source": [
    "nombre_infected       808\n",
    "nombre_sain          2432\n",
    "nombre_exposed        495\n",
    "nombre_recovered    16265\n",
    "Name: 167, dtype: int64"
   ]
  },
  {
   "cell_type": "markdown",
   "id": "5c663212",
   "metadata": {},
   "source": [
    "nombre_infected       825\n",
    "nombre_sain          2376\n",
    "nombre_exposed        486\n",
    "nombre_recovered    16313\n",
    "Name: 168, dtype: int64"
   ]
  },
  {
   "cell_type": "markdown",
   "id": "ff3b5db9",
   "metadata": {},
   "source": [
    "nombre_infected       813\n",
    "nombre_sain          2327\n",
    "nombre_exposed        508\n",
    "nombre_recovered    16352\n",
    "Name: 169, dtype: int64"
   ]
  },
  {
   "cell_type": "markdown",
   "id": "e6bc3ab8",
   "metadata": {},
   "source": [
    "nombre_infected       798\n",
    "nombre_sain          2278\n",
    "nombre_exposed        543\n",
    "nombre_recovered    16381\n",
    "Name: 170, dtype: int64"
   ]
  },
  {
   "cell_type": "markdown",
   "id": "5e41f08a",
   "metadata": {},
   "source": [
    "nombre_infected       828\n",
    "nombre_sain          2215\n",
    "nombre_exposed        533\n",
    "nombre_recovered    16424\n",
    "Name: 171, dtype: int64"
   ]
  },
  {
   "cell_type": "markdown",
   "id": "48b501d2",
   "metadata": {},
   "source": [
    "nombre_infected       850\n",
    "nombre_sain          2182\n",
    "nombre_exposed        518\n",
    "nombre_recovered    16450\n",
    "Name: 172, dtype: int64"
   ]
  },
  {
   "cell_type": "markdown",
   "id": "cebf61f5",
   "metadata": {},
   "source": [
    "nombre_infected       862\n",
    "nombre_sain          2142\n",
    "nombre_exposed        522\n",
    "nombre_recovered    16474\n",
    "Name: 173, dtype: int64"
   ]
  },
  {
   "cell_type": "markdown",
   "id": "4af35106",
   "metadata": {},
   "source": [
    "nombre_infected       861\n",
    "nombre_sain          2108\n",
    "nombre_exposed        521\n",
    "nombre_recovered    16510\n",
    "Name: 174, dtype: int64"
   ]
  },
  {
   "cell_type": "markdown",
   "id": "8bc161f0",
   "metadata": {},
   "source": [
    "nombre_infected       869\n",
    "nombre_sain          2076\n",
    "nombre_exposed        524\n",
    "nombre_recovered    16531\n",
    "Name: 175, dtype: int64"
   ]
  },
  {
   "cell_type": "markdown",
   "id": "11f0bd01",
   "metadata": {},
   "source": [
    "nombre_infected       870\n",
    "nombre_sain          2047\n",
    "nombre_exposed        506\n",
    "nombre_recovered    16577\n",
    "Name: 176, dtype: int64"
   ]
  },
  {
   "cell_type": "markdown",
   "id": "033efdb3",
   "metadata": {},
   "source": [
    "nombre_infected       858\n",
    "nombre_sain          2030\n",
    "nombre_exposed        500\n",
    "nombre_recovered    16612\n",
    "Name: 177, dtype: int64"
   ]
  },
  {
   "cell_type": "markdown",
   "id": "8cde6ec8",
   "metadata": {},
   "source": [
    "nombre_infected       860\n",
    "nombre_sain          2019\n",
    "nombre_exposed        499\n",
    "nombre_recovered    16622\n",
    "Name: 178, dtype: int64"
   ]
  },
  {
   "cell_type": "markdown",
   "id": "ca6c7655",
   "metadata": {},
   "source": [
    "nombre_infected       842\n",
    "nombre_sain          1966\n",
    "nombre_exposed        505\n",
    "nombre_recovered    16687\n",
    "Name: 179, dtype: int64"
   ]
  },
  {
   "cell_type": "markdown",
   "id": "082741c2",
   "metadata": {},
   "source": [
    "nombre_infected       843\n",
    "nombre_sain          1961\n",
    "nombre_exposed        479\n",
    "nombre_recovered    16717\n",
    "Name: 180, dtype: int64"
   ]
  },
  {
   "cell_type": "markdown",
   "id": "0f0e8236",
   "metadata": {},
   "source": [
    "nombre_infected       839\n",
    "nombre_sain          1977\n",
    "nombre_exposed        441\n",
    "nombre_recovered    16743\n",
    "Name: 181, dtype: int64"
   ]
  },
  {
   "cell_type": "markdown",
   "id": "bbde0d39",
   "metadata": {},
   "source": [
    "nombre_infected       832\n",
    "nombre_sain          1964\n",
    "nombre_exposed        435\n",
    "nombre_recovered    16769\n",
    "Name: 182, dtype: int64"
   ]
  },
  {
   "cell_type": "markdown",
   "id": "1528e205",
   "metadata": {},
   "source": [
    "nombre_infected       845\n",
    "nombre_sain          1936\n",
    "nombre_exposed        443\n",
    "nombre_recovered    16776\n",
    "Name: 183, dtype: int64"
   ]
  },
  {
   "cell_type": "markdown",
   "id": "0f353686",
   "metadata": {},
   "source": [
    "nombre_infected       828\n",
    "nombre_sain          1943\n",
    "nombre_exposed        436\n",
    "nombre_recovered    16793\n",
    "Name: 184, dtype: int64"
   ]
  },
  {
   "cell_type": "markdown",
   "id": "0cb1521a",
   "metadata": {},
   "source": [
    "nombre_infected       813\n",
    "nombre_sain          1939\n",
    "nombre_exposed        436\n",
    "nombre_recovered    16812\n",
    "Name: 185, dtype: int64"
   ]
  },
  {
   "cell_type": "markdown",
   "id": "264a6ac5",
   "metadata": {},
   "source": [
    "nombre_infected       784\n",
    "nombre_sain          1925\n",
    "nombre_exposed        435\n",
    "nombre_recovered    16856\n",
    "Name: 186, dtype: int64"
   ]
  },
  {
   "cell_type": "markdown",
   "id": "105b61c5",
   "metadata": {},
   "source": [
    "nombre_infected       772\n",
    "nombre_sain          1924\n",
    "nombre_exposed        427\n",
    "nombre_recovered    16877\n",
    "Name: 187, dtype: int64"
   ]
  },
  {
   "cell_type": "markdown",
   "id": "e8a08c64",
   "metadata": {},
   "source": [
    "nombre_infected       768\n",
    "nombre_sain          1906\n",
    "nombre_exposed        428\n",
    "nombre_recovered    16898\n",
    "Name: 188, dtype: int64"
   ]
  },
  {
   "cell_type": "markdown",
   "id": "e8b5f77a",
   "metadata": {},
   "source": [
    "nombre_infected       765\n",
    "nombre_sain          1892\n",
    "nombre_exposed        423\n",
    "nombre_recovered    16920\n",
    "Name: 189, dtype: int64"
   ]
  },
  {
   "cell_type": "markdown",
   "id": "6864ad44",
   "metadata": {},
   "source": [
    "nombre_infected       741\n",
    "nombre_sain          1900\n",
    "nombre_exposed        445\n",
    "nombre_recovered    16914\n",
    "Name: 190, dtype: int64"
   ]
  },
  {
   "cell_type": "markdown",
   "id": "ace7ef69",
   "metadata": {},
   "source": [
    "nombre_infected       735\n",
    "nombre_sain          1893\n",
    "nombre_exposed        449\n",
    "nombre_recovered    16923\n",
    "Name: 191, dtype: int64"
   ]
  },
  {
   "cell_type": "markdown",
   "id": "6cc3e8ee",
   "metadata": {},
   "source": [
    "nombre_infected       740\n",
    "nombre_sain          1897\n",
    "nombre_exposed        441\n",
    "nombre_recovered    16922\n",
    "Name: 192, dtype: int64"
   ]
  },
  {
   "cell_type": "markdown",
   "id": "c6c500d4",
   "metadata": {},
   "source": [
    "nombre_infected       721\n",
    "nombre_sain          1882\n",
    "nombre_exposed        428\n",
    "nombre_recovered    16969\n",
    "Name: 193, dtype: int64"
   ]
  },
  {
   "cell_type": "markdown",
   "id": "9ed0e71f",
   "metadata": {},
   "source": [
    "nombre_infected       716\n",
    "nombre_sain          1861\n",
    "nombre_exposed        418\n",
    "nombre_recovered    17005\n",
    "Name: 194, dtype: int64"
   ]
  },
  {
   "cell_type": "markdown",
   "id": "eee91b2a",
   "metadata": {},
   "source": [
    "nombre_infected       715\n",
    "nombre_sain          1880\n",
    "nombre_exposed        416\n",
    "nombre_recovered    16989\n",
    "Name: 195, dtype: int64"
   ]
  },
  {
   "cell_type": "markdown",
   "id": "0d7c9754",
   "metadata": {},
   "source": [
    "nombre_infected       732\n",
    "nombre_sain          1867\n",
    "nombre_exposed        411\n",
    "nombre_recovered    16990\n",
    "Name: 196, dtype: int64"
   ]
  },
  {
   "cell_type": "markdown",
   "id": "233bcebc",
   "metadata": {},
   "source": [
    "nombre_infected       726\n",
    "nombre_sain          1901\n",
    "nombre_exposed        386\n",
    "nombre_recovered    16987\n",
    "Name: 197, dtype: int64"
   ]
  },
  {
   "cell_type": "markdown",
   "id": "ddc14755",
   "metadata": {},
   "source": [
    "nombre_infected       734\n",
    "nombre_sain          1918\n",
    "nombre_exposed        351\n",
    "nombre_recovered    16997\n",
    "Name: 198, dtype: int64"
   ]
  },
  {
   "cell_type": "markdown",
   "id": "01070fb7",
   "metadata": {},
   "source": [
    "nombre_infected       714\n",
    "nombre_sain          1968\n",
    "nombre_exposed        351\n",
    "nombre_recovered    16967\n",
    "Name: 199, dtype: int64"
   ]
  },
  {
   "cell_type": "markdown",
   "id": "9f249cea",
   "metadata": {},
   "source": [
    "nombre_infected       688\n",
    "nombre_sain          1978\n",
    "nombre_exposed        365\n",
    "nombre_recovered    16969\n",
    "Name: 200, dtype: int64"
   ]
  },
  {
   "cell_type": "markdown",
   "id": "9380ce70",
   "metadata": {},
   "source": [
    "nombre_infected       675\n",
    "nombre_sain          2016\n",
    "nombre_exposed        356\n",
    "nombre_recovered    16953\n",
    "Name: 201, dtype: int64"
   ]
  },
  {
   "cell_type": "markdown",
   "id": "dd04ad37",
   "metadata": {},
   "source": [
    "nombre_infected       674\n",
    "nombre_sain          2042\n",
    "nombre_exposed        353\n",
    "nombre_recovered    16931\n",
    "Name: 202, dtype: int64"
   ]
  },
  {
   "cell_type": "markdown",
   "id": "0d7c6f03",
   "metadata": {},
   "source": [
    "nombre_infected       680\n",
    "nombre_sain          2059\n",
    "nombre_exposed        360\n",
    "nombre_recovered    16901\n",
    "Name: 203, dtype: int64"
   ]
  },
  {
   "cell_type": "markdown",
   "id": "9407fe5c",
   "metadata": {},
   "source": [
    "nombre_infected       672\n",
    "nombre_sain          2078\n",
    "nombre_exposed        363\n",
    "nombre_recovered    16887\n",
    "Name: 204, dtype: int64"
   ]
  },
  {
   "cell_type": "markdown",
   "id": "0ae08508",
   "metadata": {},
   "source": [
    "nombre_infected       686\n",
    "nombre_sain          2077\n",
    "nombre_exposed        350\n",
    "nombre_recovered    16887\n",
    "Name: 205, dtype: int64"
   ]
  },
  {
   "cell_type": "markdown",
   "id": "c72241be",
   "metadata": {},
   "source": [
    "nombre_infected       685\n",
    "nombre_sain          2112\n",
    "nombre_exposed        348\n",
    "nombre_recovered    16855\n",
    "Name: 206, dtype: int64"
   ]
  },
  {
   "cell_type": "markdown",
   "id": "0b0269b9",
   "metadata": {},
   "source": [
    "nombre_infected       691\n",
    "nombre_sain          2098\n",
    "nombre_exposed        368\n",
    "nombre_recovered    16843\n",
    "Name: 207, dtype: int64"
   ]
  },
  {
   "cell_type": "markdown",
   "id": "0a07ce64",
   "metadata": {},
   "source": [
    "nombre_infected       689\n",
    "nombre_sain          2122\n",
    "nombre_exposed        357\n",
    "nombre_recovered    16832\n",
    "Name: 208, dtype: int64"
   ]
  },
  {
   "cell_type": "markdown",
   "id": "6b908ead",
   "metadata": {},
   "source": [
    "nombre_infected       687\n",
    "nombre_sain          2121\n",
    "nombre_exposed        364\n",
    "nombre_recovered    16828\n",
    "Name: 209, dtype: int64"
   ]
  },
  {
   "cell_type": "markdown",
   "id": "fd3ea24c",
   "metadata": {},
   "source": [
    "nombre_infected       687\n",
    "nombre_sain          2119\n",
    "nombre_exposed        368\n",
    "nombre_recovered    16826\n",
    "Name: 210, dtype: int64"
   ]
  },
  {
   "cell_type": "markdown",
   "id": "11379957",
   "metadata": {},
   "source": [
    "nombre_infected       699\n",
    "nombre_sain          2128\n",
    "nombre_exposed        379\n",
    "nombre_recovered    16794\n",
    "Name: 211, dtype: int64"
   ]
  },
  {
   "cell_type": "markdown",
   "id": "992820da",
   "metadata": {},
   "source": [
    "nombre_infected       716\n",
    "nombre_sain          2152\n",
    "nombre_exposed        379\n",
    "nombre_recovered    16753\n",
    "Name: 212, dtype: int64"
   ]
  },
  {
   "cell_type": "markdown",
   "id": "bcf411e3",
   "metadata": {},
   "source": [
    "nombre_infected       719\n",
    "nombre_sain          2169\n",
    "nombre_exposed        380\n",
    "nombre_recovered    16732\n",
    "Name: 213, dtype: int64"
   ]
  },
  {
   "cell_type": "markdown",
   "id": "78efa158",
   "metadata": {},
   "source": [
    "nombre_infected       723\n",
    "nombre_sain          2176\n",
    "nombre_exposed        381\n",
    "nombre_recovered    16720\n",
    "Name: 214, dtype: int64"
   ]
  },
  {
   "cell_type": "markdown",
   "id": "30b7e21c",
   "metadata": {},
   "source": [
    "nombre_infected       727\n",
    "nombre_sain          2192\n",
    "nombre_exposed        385\n",
    "nombre_recovered    16696\n",
    "Name: 215, dtype: int64"
   ]
  },
  {
   "cell_type": "markdown",
   "id": "bae98f54",
   "metadata": {},
   "source": [
    "nombre_infected       731\n",
    "nombre_sain          2216\n",
    "nombre_exposed        366\n",
    "nombre_recovered    16687\n",
    "Name: 216, dtype: int64"
   ]
  },
  {
   "cell_type": "markdown",
   "id": "bdd967be",
   "metadata": {},
   "source": [
    "nombre_infected       715\n",
    "nombre_sain          2224\n",
    "nombre_exposed        380\n",
    "nombre_recovered    16681\n",
    "Name: 217, dtype: int64"
   ]
  },
  {
   "cell_type": "markdown",
   "id": "b9bfe220",
   "metadata": {},
   "source": [
    "nombre_infected       703\n",
    "nombre_sain          2267\n",
    "nombre_exposed        388\n",
    "nombre_recovered    16642\n",
    "Name: 218, dtype: int64"
   ]
  },
  {
   "cell_type": "markdown",
   "id": "0c98666b",
   "metadata": {},
   "source": [
    "nombre_infected       701\n",
    "nombre_sain          2260\n",
    "nombre_exposed        409\n",
    "nombre_recovered    16630\n",
    "Name: 219, dtype: int64"
   ]
  },
  {
   "cell_type": "markdown",
   "id": "c8c349ea",
   "metadata": {},
   "source": [
    "nombre_infected       704\n",
    "nombre_sain          2268\n",
    "nombre_exposed        411\n",
    "nombre_recovered    16617\n",
    "Name: 220, dtype: int64"
   ]
  },
  {
   "cell_type": "markdown",
   "id": "0834f51e",
   "metadata": {},
   "source": [
    "nombre_infected       703\n",
    "nombre_sain          2306\n",
    "nombre_exposed        409\n",
    "nombre_recovered    16582\n",
    "Name: 221, dtype: int64"
   ]
  },
  {
   "cell_type": "markdown",
   "id": "5d8cdd2e",
   "metadata": {},
   "source": [
    "nombre_infected       738\n",
    "nombre_sain          2337\n",
    "nombre_exposed        397\n",
    "nombre_recovered    16528\n",
    "Name: 222, dtype: int64"
   ]
  },
  {
   "cell_type": "markdown",
   "id": "737b58df",
   "metadata": {},
   "source": [
    "nombre_infected       738\n",
    "nombre_sain          2357\n",
    "nombre_exposed        393\n",
    "nombre_recovered    16512\n",
    "Name: 223, dtype: int64"
   ]
  },
  {
   "cell_type": "markdown",
   "id": "9926855c",
   "metadata": {},
   "source": [
    "nombre_infected       730\n",
    "nombre_sain          2376\n",
    "nombre_exposed        385\n",
    "nombre_recovered    16509\n",
    "Name: 224, dtype: int64"
   ]
  },
  {
   "cell_type": "markdown",
   "id": "c45c4dd3",
   "metadata": {},
   "source": [
    "nombre_infected       713\n",
    "nombre_sain          2401\n",
    "nombre_exposed        380\n",
    "nombre_recovered    16506\n",
    "Name: 225, dtype: int64"
   ]
  },
  {
   "cell_type": "markdown",
   "id": "7950f6f2",
   "metadata": {},
   "source": [
    "nombre_infected       703\n",
    "nombre_sain          2404\n",
    "nombre_exposed        382\n",
    "nombre_recovered    16511\n",
    "Name: 226, dtype: int64"
   ]
  },
  {
   "cell_type": "markdown",
   "id": "7313923a",
   "metadata": {},
   "source": [
    "nombre_infected       698\n",
    "nombre_sain          2410\n",
    "nombre_exposed        401\n",
    "nombre_recovered    16491\n",
    "Name: 227, dtype: int64"
   ]
  },
  {
   "cell_type": "markdown",
   "id": "6adca208",
   "metadata": {},
   "source": [
    "nombre_infected       712\n",
    "nombre_sain          2437\n",
    "nombre_exposed        402\n",
    "nombre_recovered    16449\n",
    "Name: 228, dtype: int64"
   ]
  },
  {
   "cell_type": "markdown",
   "id": "1baebadf",
   "metadata": {},
   "source": [
    "nombre_infected       700\n",
    "nombre_sain          2438\n",
    "nombre_exposed        417\n",
    "nombre_recovered    16445\n",
    "Name: 229, dtype: int64"
   ]
  },
  {
   "cell_type": "markdown",
   "id": "e8148e32",
   "metadata": {},
   "source": [
    "nombre_infected       699\n",
    "nombre_sain          2429\n",
    "nombre_exposed        429\n",
    "nombre_recovered    16443\n",
    "Name: 230, dtype: int64"
   ]
  },
  {
   "cell_type": "markdown",
   "id": "dc9585ec",
   "metadata": {},
   "source": [
    "nombre_infected       728\n",
    "nombre_sain          2438\n",
    "nombre_exposed        429\n",
    "nombre_recovered    16405\n",
    "Name: 231, dtype: int64"
   ]
  },
  {
   "cell_type": "markdown",
   "id": "bb775dd2",
   "metadata": {},
   "source": [
    "nombre_infected       722\n",
    "nombre_sain          2439\n",
    "nombre_exposed        417\n",
    "nombre_recovered    16422\n",
    "Name: 232, dtype: int64"
   ]
  },
  {
   "cell_type": "markdown",
   "id": "2c6a7e88",
   "metadata": {},
   "source": [
    "nombre_infected       736\n",
    "nombre_sain          2454\n",
    "nombre_exposed        424\n",
    "nombre_recovered    16386\n",
    "Name: 233, dtype: int64"
   ]
  },
  {
   "cell_type": "markdown",
   "id": "7002619e",
   "metadata": {},
   "source": [
    "nombre_infected       736\n",
    "nombre_sain          2447\n",
    "nombre_exposed        444\n",
    "nombre_recovered    16373\n",
    "Name: 234, dtype: int64"
   ]
  },
  {
   "cell_type": "markdown",
   "id": "e46aa4c2",
   "metadata": {},
   "source": [
    "nombre_infected       739\n",
    "nombre_sain          2440\n",
    "nombre_exposed        458\n",
    "nombre_recovered    16363\n",
    "Name: 235, dtype: int64"
   ]
  },
  {
   "cell_type": "markdown",
   "id": "eb6abee2",
   "metadata": {},
   "source": [
    "nombre_infected       753\n",
    "nombre_sain          2435\n",
    "nombre_exposed        428\n",
    "nombre_recovered    16384\n",
    "Name: 236, dtype: int64"
   ]
  },
  {
   "cell_type": "markdown",
   "id": "d23abeb4",
   "metadata": {},
   "source": [
    "nombre_infected       745\n",
    "nombre_sain          2417\n",
    "nombre_exposed        456\n",
    "nombre_recovered    16382\n",
    "Name: 237, dtype: int64"
   ]
  },
  {
   "cell_type": "markdown",
   "id": "f8f78287",
   "metadata": {},
   "source": [
    "nombre_infected       756\n",
    "nombre_sain          2410\n",
    "nombre_exposed        461\n",
    "nombre_recovered    16373\n",
    "Name: 238, dtype: int64"
   ]
  },
  {
   "cell_type": "markdown",
   "id": "0e746efc",
   "metadata": {},
   "source": [
    "nombre_infected       786\n",
    "nombre_sain          2406\n",
    "nombre_exposed        449\n",
    "nombre_recovered    16359\n",
    "Name: 239, dtype: int64"
   ]
  },
  {
   "cell_type": "markdown",
   "id": "3780199d",
   "metadata": {},
   "source": [
    "nombre_infected       808\n",
    "nombre_sain          2385\n",
    "nombre_exposed        458\n",
    "nombre_recovered    16349\n",
    "Name: 240, dtype: int64"
   ]
  },
  {
   "cell_type": "markdown",
   "id": "64013d91",
   "metadata": {},
   "source": [
    "nombre_infected       804\n",
    "nombre_sain          2382\n",
    "nombre_exposed        472\n",
    "nombre_recovered    16342\n",
    "Name: 241, dtype: int64"
   ]
  },
  {
   "cell_type": "markdown",
   "id": "28965534",
   "metadata": {},
   "source": [
    "nombre_infected       816\n",
    "nombre_sain          2371\n",
    "nombre_exposed        473\n",
    "nombre_recovered    16340\n",
    "Name: 242, dtype: int64"
   ]
  },
  {
   "cell_type": "markdown",
   "id": "a500411a",
   "metadata": {},
   "source": [
    "nombre_infected       827\n",
    "nombre_sain          2365\n",
    "nombre_exposed        465\n",
    "nombre_recovered    16343\n",
    "Name: 243, dtype: int64"
   ]
  },
  {
   "cell_type": "markdown",
   "id": "3e9e1219",
   "metadata": {},
   "source": [
    "nombre_infected       828\n",
    "nombre_sain          2362\n",
    "nombre_exposed        479\n",
    "nombre_recovered    16331\n",
    "Name: 244, dtype: int64"
   ]
  },
  {
   "cell_type": "markdown",
   "id": "da0e5854",
   "metadata": {},
   "source": [
    "nombre_infected       819\n",
    "nombre_sain          2359\n",
    "nombre_exposed        488\n",
    "nombre_recovered    16334\n",
    "Name: 245, dtype: int64"
   ]
  },
  {
   "cell_type": "markdown",
   "id": "c7866cb4",
   "metadata": {},
   "source": [
    "nombre_infected       850\n",
    "nombre_sain          2343\n",
    "nombre_exposed        476\n",
    "nombre_recovered    16331\n",
    "Name: 246, dtype: int64"
   ]
  },
  {
   "cell_type": "markdown",
   "id": "726af47a",
   "metadata": {},
   "source": [
    "nombre_infected       878\n",
    "nombre_sain          2340\n",
    "nombre_exposed        466\n",
    "nombre_recovered    16316\n",
    "Name: 247, dtype: int64"
   ]
  },
  {
   "cell_type": "markdown",
   "id": "7057aabf",
   "metadata": {},
   "source": [
    "nombre_infected       873\n",
    "nombre_sain          2331\n",
    "nombre_exposed        470\n",
    "nombre_recovered    16326\n",
    "Name: 248, dtype: int64"
   ]
  },
  {
   "cell_type": "markdown",
   "id": "1c8fcf94",
   "metadata": {},
   "source": [
    "nombre_infected       863\n",
    "nombre_sain          2337\n",
    "nombre_exposed        475\n",
    "nombre_recovered    16325\n",
    "Name: 249, dtype: int64"
   ]
  },
  {
   "cell_type": "markdown",
   "id": "c6ddfa86",
   "metadata": {},
   "source": [
    "nombre_infected       856\n",
    "nombre_sain          2321\n",
    "nombre_exposed        495\n",
    "nombre_recovered    16328\n",
    "Name: 250, dtype: int64"
   ]
  },
  {
   "cell_type": "markdown",
   "id": "655f4fd2",
   "metadata": {},
   "source": [
    "nombre_infected       847\n",
    "nombre_sain          2287\n",
    "nombre_exposed        508\n",
    "nombre_recovered    16358\n",
    "Name: 251, dtype: int64"
   ]
  },
  {
   "cell_type": "markdown",
   "id": "e17856c7",
   "metadata": {},
   "source": [
    "nombre_infected       847\n",
    "nombre_sain          2287\n",
    "nombre_exposed        503\n",
    "nombre_recovered    16363\n",
    "Name: 252, dtype: int64"
   ]
  },
  {
   "cell_type": "markdown",
   "id": "5d9d1d20",
   "metadata": {},
   "source": [
    "nombre_infected       867\n",
    "nombre_sain          2273\n",
    "nombre_exposed        506\n",
    "nombre_recovered    16354\n",
    "Name: 253, dtype: int64"
   ]
  },
  {
   "cell_type": "markdown",
   "id": "8935dcec",
   "metadata": {},
   "source": [
    "nombre_infected       881\n",
    "nombre_sain          2258\n",
    "nombre_exposed        474\n",
    "nombre_recovered    16387\n",
    "Name: 254, dtype: int64"
   ]
  },
  {
   "cell_type": "markdown",
   "id": "0eff28da",
   "metadata": {},
   "source": [
    "nombre_infected       862\n",
    "nombre_sain          2222\n",
    "nombre_exposed        500\n",
    "nombre_recovered    16416\n",
    "Name: 255, dtype: int64"
   ]
  },
  {
   "cell_type": "markdown",
   "id": "c0ee2d70",
   "metadata": {},
   "source": [
    "nombre_infected       849\n",
    "nombre_sain          2240\n",
    "nombre_exposed        487\n",
    "nombre_recovered    16424\n",
    "Name: 256, dtype: int64"
   ]
  },
  {
   "cell_type": "markdown",
   "id": "79f706e8",
   "metadata": {},
   "source": [
    "nombre_infected       854\n",
    "nombre_sain          2228\n",
    "nombre_exposed        478\n",
    "nombre_recovered    16440\n",
    "Name: 257, dtype: int64"
   ]
  },
  {
   "cell_type": "markdown",
   "id": "76835cd4",
   "metadata": {},
   "source": [
    "nombre_infected       859\n",
    "nombre_sain          2214\n",
    "nombre_exposed        487\n",
    "nombre_recovered    16440\n",
    "Name: 258, dtype: int64"
   ]
  },
  {
   "cell_type": "markdown",
   "id": "a0356a34",
   "metadata": {},
   "source": [
    "nombre_infected       869\n",
    "nombre_sain          2213\n",
    "nombre_exposed        475\n",
    "nombre_recovered    16443\n",
    "Name: 259, dtype: int64"
   ]
  },
  {
   "cell_type": "markdown",
   "id": "780aeb4d",
   "metadata": {},
   "source": [
    "nombre_infected       858\n",
    "nombre_sain          2212\n",
    "nombre_exposed        468\n",
    "nombre_recovered    16462\n",
    "Name: 260, dtype: int64"
   ]
  },
  {
   "cell_type": "markdown",
   "id": "165ffdb3",
   "metadata": {},
   "source": [
    "nombre_infected       867\n",
    "nombre_sain          2167\n",
    "nombre_exposed        486\n",
    "nombre_recovered    16480\n",
    "Name: 261, dtype: int64"
   ]
  },
  {
   "cell_type": "markdown",
   "id": "35c0f743",
   "metadata": {},
   "source": [
    "nombre_infected       854\n",
    "nombre_sain          2162\n",
    "nombre_exposed        471\n",
    "nombre_recovered    16513\n",
    "Name: 262, dtype: int64"
   ]
  },
  {
   "cell_type": "markdown",
   "id": "111d1fa3",
   "metadata": {},
   "source": [
    "nombre_infected       865\n",
    "nombre_sain          2168\n",
    "nombre_exposed        459\n",
    "nombre_recovered    16508\n",
    "Name: 263, dtype: int64"
   ]
  },
  {
   "cell_type": "markdown",
   "id": "10cf64c6",
   "metadata": {},
   "source": [
    "nombre_infected       851\n",
    "nombre_sain          2172\n",
    "nombre_exposed        452\n",
    "nombre_recovered    16525\n",
    "Name: 264, dtype: int64"
   ]
  },
  {
   "cell_type": "markdown",
   "id": "0c925c07",
   "metadata": {},
   "source": [
    "nombre_infected       875\n",
    "nombre_sain          2165\n",
    "nombre_exposed        443\n",
    "nombre_recovered    16517\n",
    "Name: 265, dtype: int64"
   ]
  },
  {
   "cell_type": "markdown",
   "id": "492cca47",
   "metadata": {},
   "source": [
    "nombre_infected       910\n",
    "nombre_sain          2145\n",
    "nombre_exposed        445\n",
    "nombre_recovered    16500\n",
    "Name: 266, dtype: int64"
   ]
  },
  {
   "cell_type": "markdown",
   "id": "7289c799",
   "metadata": {},
   "source": [
    "nombre_infected       902\n",
    "nombre_sain          2110\n",
    "nombre_exposed        481\n",
    "nombre_recovered    16507\n",
    "Name: 267, dtype: int64"
   ]
  },
  {
   "cell_type": "markdown",
   "id": "9eeb8eaa",
   "metadata": {},
   "source": [
    "nombre_infected       907\n",
    "nombre_sain          2098\n",
    "nombre_exposed        473\n",
    "nombre_recovered    16522\n",
    "Name: 268, dtype: int64"
   ]
  },
  {
   "cell_type": "markdown",
   "id": "fc75c687",
   "metadata": {},
   "source": [
    "nombre_infected       909\n",
    "nombre_sain          2113\n",
    "nombre_exposed        445\n",
    "nombre_recovered    16533\n",
    "Name: 269, dtype: int64"
   ]
  },
  {
   "cell_type": "markdown",
   "id": "0db7de03",
   "metadata": {},
   "source": [
    "nombre_infected       915\n",
    "nombre_sain          2083\n",
    "nombre_exposed        453\n",
    "nombre_recovered    16549\n",
    "Name: 270, dtype: int64"
   ]
  },
  {
   "cell_type": "markdown",
   "id": "5a34fdf6",
   "metadata": {},
   "source": [
    "nombre_infected       897\n",
    "nombre_sain          2072\n",
    "nombre_exposed        465\n",
    "nombre_recovered    16566\n",
    "Name: 271, dtype: int64"
   ]
  },
  {
   "cell_type": "markdown",
   "id": "47106e98",
   "metadata": {},
   "source": [
    "nombre_infected       913\n",
    "nombre_sain          2045\n",
    "nombre_exposed        470\n",
    "nombre_recovered    16572\n",
    "Name: 272, dtype: int64"
   ]
  },
  {
   "cell_type": "markdown",
   "id": "5173124a",
   "metadata": {},
   "source": [
    "nombre_infected       912\n",
    "nombre_sain          2043\n",
    "nombre_exposed        461\n",
    "nombre_recovered    16584\n",
    "Name: 273, dtype: int64"
   ]
  },
  {
   "cell_type": "markdown",
   "id": "bd87b84f",
   "metadata": {},
   "source": [
    "nombre_infected       902\n",
    "nombre_sain          2012\n",
    "nombre_exposed        467\n",
    "nombre_recovered    16619\n",
    "Name: 274, dtype: int64"
   ]
  },
  {
   "cell_type": "markdown",
   "id": "c84403ef",
   "metadata": {},
   "source": [
    "nombre_infected       908\n",
    "nombre_sain          1995\n",
    "nombre_exposed        464\n",
    "nombre_recovered    16633\n",
    "Name: 275, dtype: int64"
   ]
  },
  {
   "cell_type": "markdown",
   "id": "7cd13ab3",
   "metadata": {},
   "source": [
    "nombre_infected       913\n",
    "nombre_sain          2005\n",
    "nombre_exposed        438\n",
    "nombre_recovered    16644\n",
    "Name: 276, dtype: int64"
   ]
  },
  {
   "cell_type": "markdown",
   "id": "2d382d7e",
   "metadata": {},
   "source": [
    "nombre_infected       908\n",
    "nombre_sain          1990\n",
    "nombre_exposed        438\n",
    "nombre_recovered    16664\n",
    "Name: 277, dtype: int64"
   ]
  },
  {
   "cell_type": "markdown",
   "id": "d03ec75e",
   "metadata": {},
   "source": [
    "nombre_infected       887\n",
    "nombre_sain          1985\n",
    "nombre_exposed        442\n",
    "nombre_recovered    16686\n",
    "Name: 278, dtype: int64"
   ]
  },
  {
   "cell_type": "markdown",
   "id": "df96e8cd",
   "metadata": {},
   "source": [
    "nombre_infected       887\n",
    "nombre_sain          1966\n",
    "nombre_exposed        447\n",
    "nombre_recovered    16700\n",
    "Name: 279, dtype: int64"
   ]
  },
  {
   "cell_type": "markdown",
   "id": "2528093c",
   "metadata": {},
   "source": [
    "nombre_infected       903\n",
    "nombre_sain          1996\n",
    "nombre_exposed        425\n",
    "nombre_recovered    16676\n",
    "Name: 280, dtype: int64"
   ]
  },
  {
   "cell_type": "markdown",
   "id": "41a3521c",
   "metadata": {},
   "source": [
    "nombre_infected       901\n",
    "nombre_sain          1993\n",
    "nombre_exposed        412\n",
    "nombre_recovered    16694\n",
    "Name: 281, dtype: int64"
   ]
  },
  {
   "cell_type": "markdown",
   "id": "3e80264b",
   "metadata": {},
   "source": [
    "nombre_infected       886\n",
    "nombre_sain          2003\n",
    "nombre_exposed        425\n",
    "nombre_recovered    16686\n",
    "Name: 282, dtype: int64"
   ]
  },
  {
   "cell_type": "markdown",
   "id": "f0c7e34b",
   "metadata": {},
   "source": [
    "nombre_infected       869\n",
    "nombre_sain          2016\n",
    "nombre_exposed        429\n",
    "nombre_recovered    16686\n",
    "Name: 283, dtype: int64"
   ]
  },
  {
   "cell_type": "markdown",
   "id": "1ebd338d",
   "metadata": {},
   "source": [
    "nombre_infected       888\n",
    "nombre_sain          2017\n",
    "nombre_exposed        423\n",
    "nombre_recovered    16672\n",
    "Name: 284, dtype: int64"
   ]
  },
  {
   "cell_type": "markdown",
   "id": "393109d5",
   "metadata": {},
   "source": [
    "nombre_infected       886\n",
    "nombre_sain          2020\n",
    "nombre_exposed        448\n",
    "nombre_recovered    16646\n",
    "Name: 285, dtype: int64"
   ]
  },
  {
   "cell_type": "markdown",
   "id": "dbebbeb4",
   "metadata": {},
   "source": [
    "nombre_infected       860\n",
    "nombre_sain          2045\n",
    "nombre_exposed        454\n",
    "nombre_recovered    16641\n",
    "Name: 286, dtype: int64"
   ]
  },
  {
   "cell_type": "markdown",
   "id": "3f4b15bd",
   "metadata": {},
   "source": [
    "nombre_infected       836\n",
    "nombre_sain          2052\n",
    "nombre_exposed        486\n",
    "nombre_recovered    16626\n",
    "Name: 287, dtype: int64"
   ]
  },
  {
   "cell_type": "markdown",
   "id": "28f180ed",
   "metadata": {},
   "source": [
    "nombre_infected       840\n",
    "nombre_sain          2051\n",
    "nombre_exposed        497\n",
    "nombre_recovered    16612\n",
    "Name: 288, dtype: int64"
   ]
  },
  {
   "cell_type": "markdown",
   "id": "e3df8082",
   "metadata": {},
   "source": [
    "nombre_infected       827\n",
    "nombre_sain          2095\n",
    "nombre_exposed        490\n",
    "nombre_recovered    16588\n",
    "Name: 289, dtype: int64"
   ]
  },
  {
   "cell_type": "markdown",
   "id": "a18246c8",
   "metadata": {},
   "source": [
    "nombre_infected       841\n",
    "nombre_sain          2117\n",
    "nombre_exposed        472\n",
    "nombre_recovered    16570\n",
    "Name: 290, dtype: int64"
   ]
  },
  {
   "cell_type": "markdown",
   "id": "9c4cb7fc",
   "metadata": {},
   "source": [
    "nombre_infected       862\n",
    "nombre_sain          2143\n",
    "nombre_exposed        474\n",
    "nombre_recovered    16521\n",
    "Name: 291, dtype: int64"
   ]
  },
  {
   "cell_type": "markdown",
   "id": "4f942492",
   "metadata": {},
   "source": [
    "nombre_infected       846\n",
    "nombre_sain          2149\n",
    "nombre_exposed        493\n",
    "nombre_recovered    16512\n",
    "Name: 292, dtype: int64"
   ]
  },
  {
   "cell_type": "markdown",
   "id": "e6ab6f1f",
   "metadata": {},
   "source": [
    "nombre_infected       857\n",
    "nombre_sain          2197\n",
    "nombre_exposed        467\n",
    "nombre_recovered    16479\n",
    "Name: 293, dtype: int64"
   ]
  },
  {
   "cell_type": "markdown",
   "id": "322630aa",
   "metadata": {},
   "source": [
    "nombre_infected       871\n",
    "nombre_sain          2239\n",
    "nombre_exposed        421\n",
    "nombre_recovered    16469\n",
    "Name: 294, dtype: int64"
   ]
  },
  {
   "cell_type": "markdown",
   "id": "8138f702",
   "metadata": {},
   "source": [
    "nombre_infected       870\n",
    "nombre_sain          2229\n",
    "nombre_exposed        456\n",
    "nombre_recovered    16445\n",
    "Name: 295, dtype: int64"
   ]
  },
  {
   "cell_type": "markdown",
   "id": "5ced4984",
   "metadata": {},
   "source": [
    "nombre_infected       848\n",
    "nombre_sain          2223\n",
    "nombre_exposed        471\n",
    "nombre_recovered    16458\n",
    "Name: 296, dtype: int64"
   ]
  },
  {
   "cell_type": "markdown",
   "id": "759cefe8",
   "metadata": {},
   "source": [
    "nombre_infected       859\n",
    "nombre_sain          2228\n",
    "nombre_exposed        456\n",
    "nombre_recovered    16457\n",
    "Name: 297, dtype: int64"
   ]
  },
  {
   "cell_type": "markdown",
   "id": "ec418c3e",
   "metadata": {},
   "source": [
    "nombre_infected       872\n",
    "nombre_sain          2221\n",
    "nombre_exposed        459\n",
    "nombre_recovered    16448\n",
    "Name: 298, dtype: int64"
   ]
  },
  {
   "cell_type": "markdown",
   "id": "4f46ae24",
   "metadata": {},
   "source": [
    "nombre_infected       871\n",
    "nombre_sain          2201\n",
    "nombre_exposed        477\n",
    "nombre_recovered    16451\n",
    "Name: 299, dtype: int64"
   ]
  },
  {
   "cell_type": "markdown",
   "id": "04764a2e",
   "metadata": {},
   "source": [
    "nombre_infected       824\n",
    "nombre_sain          2183\n",
    "nombre_exposed        488\n",
    "nombre_recovered    16505\n",
    "Name: 300, dtype: int64"
   ]
  },
  {
   "cell_type": "markdown",
   "id": "3aa34749",
   "metadata": {},
   "source": [
    "nombre_infected       820\n",
    "nombre_sain          2166\n",
    "nombre_exposed        494\n",
    "nombre_recovered    16520\n",
    "Name: 301, dtype: int64"
   ]
  },
  {
   "cell_type": "markdown",
   "id": "16fb5bed",
   "metadata": {},
   "source": [
    "nombre_infected       860\n",
    "nombre_sain          2130\n",
    "nombre_exposed        471\n",
    "nombre_recovered    16539\n",
    "Name: 302, dtype: int64"
   ]
  },
  {
   "cell_type": "markdown",
   "id": "54d622c4",
   "metadata": {},
   "source": [
    "nombre_infected       853\n",
    "nombre_sain          2116\n",
    "nombre_exposed        440\n",
    "nombre_recovered    16591\n",
    "Name: 303, dtype: int64"
   ]
  },
  {
   "cell_type": "markdown",
   "id": "a1f1fef5",
   "metadata": {},
   "source": [
    "nombre_infected       847\n",
    "nombre_sain          2099\n",
    "nombre_exposed        445\n",
    "nombre_recovered    16609\n",
    "Name: 304, dtype: int64"
   ]
  },
  {
   "cell_type": "markdown",
   "id": "a78bc22f",
   "metadata": {},
   "source": [
    "nombre_infected       853\n",
    "nombre_sain          2068\n",
    "nombre_exposed        456\n",
    "nombre_recovered    16623\n",
    "Name: 305, dtype: int64"
   ]
  },
  {
   "cell_type": "markdown",
   "id": "3c9c68e7",
   "metadata": {},
   "source": [
    "nombre_infected       837\n",
    "nombre_sain          2031\n",
    "nombre_exposed        450\n",
    "nombre_recovered    16682\n",
    "Name: 306, dtype: int64"
   ]
  },
  {
   "cell_type": "markdown",
   "id": "78a90c7e",
   "metadata": {},
   "source": [
    "nombre_infected       860\n",
    "nombre_sain          2007\n",
    "nombre_exposed        434\n",
    "nombre_recovered    16699\n",
    "Name: 307, dtype: int64"
   ]
  },
  {
   "cell_type": "markdown",
   "id": "4ecd2fa1",
   "metadata": {},
   "source": [
    "nombre_infected       859\n",
    "nombre_sain          2014\n",
    "nombre_exposed        406\n",
    "nombre_recovered    16721\n",
    "Name: 308, dtype: int64"
   ]
  },
  {
   "cell_type": "markdown",
   "id": "4e8c32fd",
   "metadata": {},
   "source": [
    "nombre_infected       832\n",
    "nombre_sain          1987\n",
    "nombre_exposed        424\n",
    "nombre_recovered    16757\n",
    "Name: 309, dtype: int64"
   ]
  },
  {
   "cell_type": "markdown",
   "id": "a9843b0f",
   "metadata": {},
   "source": [
    "nombre_infected       827\n",
    "nombre_sain          2006\n",
    "nombre_exposed        416\n",
    "nombre_recovered    16751\n",
    "Name: 310, dtype: int64"
   ]
  },
  {
   "cell_type": "markdown",
   "id": "cc63ebea",
   "metadata": {},
   "source": [
    "nombre_infected       810\n",
    "nombre_sain          2016\n",
    "nombre_exposed        402\n",
    "nombre_recovered    16772\n",
    "Name: 311, dtype: int64"
   ]
  },
  {
   "cell_type": "markdown",
   "id": "c9dba1aa",
   "metadata": {},
   "source": [
    "nombre_infected       783\n",
    "nombre_sain          2019\n",
    "nombre_exposed        399\n",
    "nombre_recovered    16799\n",
    "Name: 312, dtype: int64"
   ]
  },
  {
   "cell_type": "markdown",
   "id": "6dd5f3cb",
   "metadata": {},
   "source": [
    "nombre_infected       767\n",
    "nombre_sain          2030\n",
    "nombre_exposed        401\n",
    "nombre_recovered    16802\n",
    "Name: 313, dtype: int64"
   ]
  },
  {
   "cell_type": "markdown",
   "id": "463fbd13",
   "metadata": {},
   "source": [
    "nombre_infected       753\n",
    "nombre_sain          2019\n",
    "nombre_exposed        400\n",
    "nombre_recovered    16828\n",
    "Name: 314, dtype: int64"
   ]
  },
  {
   "cell_type": "markdown",
   "id": "3969e565",
   "metadata": {},
   "source": [
    "nombre_infected       771\n",
    "nombre_sain          2034\n",
    "nombre_exposed        377\n",
    "nombre_recovered    16818\n",
    "Name: 315, dtype: int64"
   ]
  },
  {
   "cell_type": "markdown",
   "id": "253fa871",
   "metadata": {},
   "source": [
    "nombre_infected       762\n",
    "nombre_sain          2040\n",
    "nombre_exposed        374\n",
    "nombre_recovered    16824\n",
    "Name: 316, dtype: int64"
   ]
  },
  {
   "cell_type": "markdown",
   "id": "ab8cb759",
   "metadata": {},
   "source": [
    "nombre_infected       769\n",
    "nombre_sain          2044\n",
    "nombre_exposed        370\n",
    "nombre_recovered    16817\n",
    "Name: 317, dtype: int64"
   ]
  },
  {
   "cell_type": "markdown",
   "id": "802725cc",
   "metadata": {},
   "source": [
    "nombre_infected       738\n",
    "nombre_sain          2047\n",
    "nombre_exposed        378\n",
    "nombre_recovered    16837\n",
    "Name: 318, dtype: int64"
   ]
  },
  {
   "cell_type": "markdown",
   "id": "2152daea",
   "metadata": {},
   "source": [
    "nombre_infected       727\n",
    "nombre_sain          2039\n",
    "nombre_exposed        388\n",
    "nombre_recovered    16846\n",
    "Name: 319, dtype: int64"
   ]
  },
  {
   "cell_type": "markdown",
   "id": "ed2d69ff",
   "metadata": {},
   "source": [
    "nombre_infected       727\n",
    "nombre_sain          2052\n",
    "nombre_exposed        359\n",
    "nombre_recovered    16862\n",
    "Name: 320, dtype: int64"
   ]
  },
  {
   "cell_type": "markdown",
   "id": "bb65b7d0",
   "metadata": {},
   "source": [
    "nombre_infected       720\n",
    "nombre_sain          2073\n",
    "nombre_exposed        332\n",
    "nombre_recovered    16875\n",
    "Name: 321, dtype: int64"
   ]
  },
  {
   "cell_type": "markdown",
   "id": "3667442b",
   "metadata": {},
   "source": [
    "nombre_infected       705\n",
    "nombre_sain          2081\n",
    "nombre_exposed        338\n",
    "nombre_recovered    16876\n",
    "Name: 322, dtype: int64"
   ]
  },
  {
   "cell_type": "markdown",
   "id": "c0a461f8",
   "metadata": {},
   "source": [
    "nombre_infected       677\n",
    "nombre_sain          2105\n",
    "nombre_exposed        332\n",
    "nombre_recovered    16886\n",
    "Name: 323, dtype: int64"
   ]
  },
  {
   "cell_type": "markdown",
   "id": "0b2bf5c0",
   "metadata": {},
   "source": [
    "nombre_infected       667\n",
    "nombre_sain          2135\n",
    "nombre_exposed        313\n",
    "nombre_recovered    16885\n",
    "Name: 324, dtype: int64"
   ]
  },
  {
   "cell_type": "markdown",
   "id": "71864ee5",
   "metadata": {},
   "source": [
    "nombre_infected       646\n",
    "nombre_sain          2170\n",
    "nombre_exposed        330\n",
    "nombre_recovered    16854\n",
    "Name: 325, dtype: int64"
   ]
  },
  {
   "cell_type": "markdown",
   "id": "8315371d",
   "metadata": {},
   "source": [
    "nombre_infected       635\n",
    "nombre_sain          2202\n",
    "nombre_exposed        346\n",
    "nombre_recovered    16817\n",
    "Name: 326, dtype: int64"
   ]
  },
  {
   "cell_type": "markdown",
   "id": "8e0ddecc",
   "metadata": {},
   "source": [
    "nombre_infected       645\n",
    "nombre_sain          2208\n",
    "nombre_exposed        356\n",
    "nombre_recovered    16791\n",
    "Name: 327, dtype: int64"
   ]
  },
  {
   "cell_type": "markdown",
   "id": "82898d46",
   "metadata": {},
   "source": [
    "nombre_infected       622\n",
    "nombre_sain          2251\n",
    "nombre_exposed        346\n",
    "nombre_recovered    16781\n",
    "Name: 328, dtype: int64"
   ]
  },
  {
   "cell_type": "markdown",
   "id": "5917086e",
   "metadata": {},
   "source": [
    "nombre_infected       633\n",
    "nombre_sain          2268\n",
    "nombre_exposed        338\n",
    "nombre_recovered    16761\n",
    "Name: 329, dtype: int64"
   ]
  },
  {
   "cell_type": "markdown",
   "id": "daf44877",
   "metadata": {},
   "source": [
    "nombre_infected       629\n",
    "nombre_sain          2310\n",
    "nombre_exposed        346\n",
    "nombre_recovered    16715\n",
    "Name: 330, dtype: int64"
   ]
  },
  {
   "cell_type": "markdown",
   "id": "31b8d3fb",
   "metadata": {},
   "source": [
    "nombre_infected       626\n",
    "nombre_sain          2333\n",
    "nombre_exposed        342\n",
    "nombre_recovered    16699\n",
    "Name: 331, dtype: int64"
   ]
  },
  {
   "cell_type": "markdown",
   "id": "872d65d6",
   "metadata": {},
   "source": [
    "nombre_infected       625\n",
    "nombre_sain          2356\n",
    "nombre_exposed        344\n",
    "nombre_recovered    16675\n",
    "Name: 332, dtype: int64"
   ]
  },
  {
   "cell_type": "markdown",
   "id": "99bc446f",
   "metadata": {},
   "source": [
    "nombre_infected       623\n",
    "nombre_sain          2386\n",
    "nombre_exposed        330\n",
    "nombre_recovered    16661\n",
    "Name: 333, dtype: int64"
   ]
  },
  {
   "cell_type": "markdown",
   "id": "539d05cc",
   "metadata": {},
   "source": [
    "nombre_infected       631\n",
    "nombre_sain          2392\n",
    "nombre_exposed        335\n",
    "nombre_recovered    16642\n",
    "Name: 334, dtype: int64"
   ]
  },
  {
   "cell_type": "markdown",
   "id": "1ac45295",
   "metadata": {},
   "source": [
    "nombre_infected       622\n",
    "nombre_sain          2414\n",
    "nombre_exposed        357\n",
    "nombre_recovered    16607\n",
    "Name: 335, dtype: int64"
   ]
  },
  {
   "cell_type": "markdown",
   "id": "9fe255be",
   "metadata": {},
   "source": [
    "nombre_infected       622\n",
    "nombre_sain          2455\n",
    "nombre_exposed        349\n",
    "nombre_recovered    16574\n",
    "Name: 336, dtype: int64"
   ]
  },
  {
   "cell_type": "markdown",
   "id": "db1796cd",
   "metadata": {},
   "source": [
    "nombre_infected       616\n",
    "nombre_sain          2457\n",
    "nombre_exposed        361\n",
    "nombre_recovered    16566\n",
    "Name: 337, dtype: int64"
   ]
  },
  {
   "cell_type": "markdown",
   "id": "51a57e20",
   "metadata": {},
   "source": [
    "nombre_infected       614\n",
    "nombre_sain          2459\n",
    "nombre_exposed        375\n",
    "nombre_recovered    16552\n",
    "Name: 338, dtype: int64"
   ]
  },
  {
   "cell_type": "markdown",
   "id": "e6d15c2f",
   "metadata": {},
   "source": [
    "nombre_infected       632\n",
    "nombre_sain          2482\n",
    "nombre_exposed        359\n",
    "nombre_recovered    16527\n",
    "Name: 339, dtype: int64"
   ]
  },
  {
   "cell_type": "markdown",
   "id": "cabc4277",
   "metadata": {},
   "source": [
    "nombre_infected       631\n",
    "nombre_sain          2484\n",
    "nombre_exposed        372\n",
    "nombre_recovered    16513\n",
    "Name: 340, dtype: int64"
   ]
  },
  {
   "cell_type": "markdown",
   "id": "18ea7474",
   "metadata": {},
   "source": [
    "nombre_infected       626\n",
    "nombre_sain          2487\n",
    "nombre_exposed        389\n",
    "nombre_recovered    16498\n",
    "Name: 341, dtype: int64"
   ]
  },
  {
   "cell_type": "markdown",
   "id": "0589582c",
   "metadata": {},
   "source": [
    "nombre_infected       637\n",
    "nombre_sain          2469\n",
    "nombre_exposed        382\n",
    "nombre_recovered    16512\n",
    "Name: 342, dtype: int64"
   ]
  },
  {
   "cell_type": "markdown",
   "id": "6517725a",
   "metadata": {},
   "source": [
    "nombre_infected       639\n",
    "nombre_sain          2462\n",
    "nombre_exposed        399\n",
    "nombre_recovered    16500\n",
    "Name: 343, dtype: int64"
   ]
  },
  {
   "cell_type": "markdown",
   "id": "bfb9921d",
   "metadata": {},
   "source": [
    "nombre_infected       637\n",
    "nombre_sain          2451\n",
    "nombre_exposed        413\n",
    "nombre_recovered    16499\n",
    "Name: 344, dtype: int64"
   ]
  },
  {
   "cell_type": "markdown",
   "id": "67e714d7",
   "metadata": {},
   "source": [
    "nombre_infected       643\n",
    "nombre_sain          2449\n",
    "nombre_exposed        396\n",
    "nombre_recovered    16512\n",
    "Name: 345, dtype: int64"
   ]
  },
  {
   "cell_type": "markdown",
   "id": "c9a2f251",
   "metadata": {},
   "source": [
    "nombre_infected       658\n",
    "nombre_sain          2460\n",
    "nombre_exposed        393\n",
    "nombre_recovered    16489\n",
    "Name: 346, dtype: int64"
   ]
  },
  {
   "cell_type": "markdown",
   "id": "8cb326dc",
   "metadata": {},
   "source": [
    "nombre_infected       659\n",
    "nombre_sain          2470\n",
    "nombre_exposed        412\n",
    "nombre_recovered    16459\n",
    "Name: 347, dtype: int64"
   ]
  },
  {
   "cell_type": "markdown",
   "id": "d0e7521b",
   "metadata": {},
   "source": [
    "nombre_infected       678\n",
    "nombre_sain          2454\n",
    "nombre_exposed        402\n",
    "nombre_recovered    16466\n",
    "Name: 348, dtype: int64"
   ]
  },
  {
   "cell_type": "markdown",
   "id": "91fef6be",
   "metadata": {},
   "source": [
    "nombre_infected       692\n",
    "nombre_sain          2449\n",
    "nombre_exposed        401\n",
    "nombre_recovered    16458\n",
    "Name: 349, dtype: int64"
   ]
  },
  {
   "cell_type": "markdown",
   "id": "dc687724",
   "metadata": {},
   "source": [
    "nombre_infected       680\n",
    "nombre_sain          2463\n",
    "nombre_exposed        409\n",
    "nombre_recovered    16448\n",
    "Name: 350, dtype: int64"
   ]
  },
  {
   "cell_type": "markdown",
   "id": "ea0382b1",
   "metadata": {},
   "source": [
    "nombre_infected       695\n",
    "nombre_sain          2494\n",
    "nombre_exposed        410\n",
    "nombre_recovered    16401\n",
    "Name: 351, dtype: int64"
   ]
  },
  {
   "cell_type": "markdown",
   "id": "9bad630c",
   "metadata": {},
   "source": [
    "nombre_infected       716\n",
    "nombre_sain          2486\n",
    "nombre_exposed        412\n",
    "nombre_recovered    16386\n",
    "Name: 352, dtype: int64"
   ]
  },
  {
   "cell_type": "markdown",
   "id": "ddec3dee",
   "metadata": {},
   "source": [
    "nombre_infected       701\n",
    "nombre_sain          2515\n",
    "nombre_exposed        413\n",
    "nombre_recovered    16371\n",
    "Name: 353, dtype: int64"
   ]
  },
  {
   "cell_type": "markdown",
   "id": "e6d56d66",
   "metadata": {},
   "source": [
    "nombre_infected       710\n",
    "nombre_sain          2513\n",
    "nombre_exposed        439\n",
    "nombre_recovered    16338\n",
    "Name: 354, dtype: int64"
   ]
  },
  {
   "cell_type": "markdown",
   "id": "927da89c",
   "metadata": {},
   "source": [
    "nombre_infected       712\n",
    "nombre_sain          2523\n",
    "nombre_exposed        442\n",
    "nombre_recovered    16323\n",
    "Name: 355, dtype: int64"
   ]
  },
  {
   "cell_type": "markdown",
   "id": "0e2022c4",
   "metadata": {},
   "source": [
    "nombre_infected       718\n",
    "nombre_sain          2548\n",
    "nombre_exposed        446\n",
    "nombre_recovered    16288\n",
    "Name: 356, dtype: int64"
   ]
  },
  {
   "cell_type": "markdown",
   "id": "7b1b4279",
   "metadata": {},
   "source": [
    "nombre_infected       729\n",
    "nombre_sain          2542\n",
    "nombre_exposed        441\n",
    "nombre_recovered    16288\n",
    "Name: 357, dtype: int64"
   ]
  },
  {
   "cell_type": "markdown",
   "id": "9f5e1ba8",
   "metadata": {},
   "source": [
    "nombre_infected       739\n",
    "nombre_sain          2570\n",
    "nombre_exposed        439\n",
    "nombre_recovered    16252\n",
    "Name: 358, dtype: int64"
   ]
  },
  {
   "cell_type": "markdown",
   "id": "d5d7134c",
   "metadata": {},
   "source": [
    "nombre_infected       765\n",
    "nombre_sain          2530\n",
    "nombre_exposed        452\n",
    "nombre_recovered    16253\n",
    "Name: 359, dtype: int64"
   ]
  },
  {
   "cell_type": "markdown",
   "id": "3e301c85",
   "metadata": {},
   "source": [
    "nombre_infected       767\n",
    "nombre_sain          2536\n",
    "nombre_exposed        462\n",
    "nombre_recovered    16235\n",
    "Name: 360, dtype: int64"
   ]
  },
  {
   "cell_type": "markdown",
   "id": "d70bd8a4",
   "metadata": {},
   "source": [
    "nombre_infected       777\n",
    "nombre_sain          2497\n",
    "nombre_exposed        502\n",
    "nombre_recovered    16224\n",
    "Name: 361, dtype: int64"
   ]
  },
  {
   "cell_type": "markdown",
   "id": "461aef39",
   "metadata": {},
   "source": [
    "nombre_infected       761\n",
    "nombre_sain          2498\n",
    "nombre_exposed        507\n",
    "nombre_recovered    16234\n",
    "Name: 362, dtype: int64"
   ]
  },
  {
   "cell_type": "markdown",
   "id": "b346433e",
   "metadata": {},
   "source": [
    "nombre_infected       794\n",
    "nombre_sain          2486\n",
    "nombre_exposed        501\n",
    "nombre_recovered    16219\n",
    "Name: 363, dtype: int64"
   ]
  },
  {
   "cell_type": "markdown",
   "id": "310ee040",
   "metadata": {},
   "source": [
    "nombre_infected       800\n",
    "nombre_sain          2479\n",
    "nombre_exposed        505\n",
    "nombre_recovered    16216\n",
    "Name: 364, dtype: int64"
   ]
  },
  {
   "cell_type": "markdown",
   "id": "48eaf7da",
   "metadata": {},
   "source": [
    "nombre_infected       830\n",
    "nombre_sain          2447\n",
    "nombre_exposed        508\n",
    "nombre_recovered    16215\n",
    "Name: 365, dtype: int64"
   ]
  },
  {
   "cell_type": "markdown",
   "id": "8787cd25",
   "metadata": {},
   "source": [
    "nombre_infected       866\n",
    "nombre_sain          2437\n",
    "nombre_exposed        493\n",
    "nombre_recovered    16204\n",
    "Name: 366, dtype: int64"
   ]
  },
  {
   "cell_type": "markdown",
   "id": "f32f4998",
   "metadata": {},
   "source": [
    "nombre_infected       849\n",
    "nombre_sain          2402\n",
    "nombre_exposed        515\n",
    "nombre_recovered    16234\n",
    "Name: 367, dtype: int64"
   ]
  },
  {
   "cell_type": "markdown",
   "id": "8bff83d6",
   "metadata": {},
   "source": [
    "nombre_infected       840\n",
    "nombre_sain          2394\n",
    "nombre_exposed        513\n",
    "nombre_recovered    16253\n",
    "Name: 368, dtype: int64"
   ]
  },
  {
   "cell_type": "markdown",
   "id": "6e5ab3c5",
   "metadata": {},
   "source": [
    "nombre_infected       844\n",
    "nombre_sain          2391\n",
    "nombre_exposed        495\n",
    "nombre_recovered    16270\n",
    "Name: 369, dtype: int64"
   ]
  },
  {
   "cell_type": "markdown",
   "id": "cc490875",
   "metadata": {},
   "source": [
    "nombre_infected       865\n",
    "nombre_sain          2369\n",
    "nombre_exposed        474\n",
    "nombre_recovered    16292\n",
    "Name: 370, dtype: int64"
   ]
  },
  {
   "cell_type": "markdown",
   "id": "30590e69",
   "metadata": {},
   "source": [
    "nombre_infected       911\n",
    "nombre_sain          2335\n",
    "nombre_exposed        482\n",
    "nombre_recovered    16272\n",
    "Name: 371, dtype: int64"
   ]
  },
  {
   "cell_type": "markdown",
   "id": "1ee58928",
   "metadata": {},
   "source": [
    "nombre_infected       908\n",
    "nombre_sain          2335\n",
    "nombre_exposed        493\n",
    "nombre_recovered    16264\n",
    "Name: 372, dtype: int64"
   ]
  },
  {
   "cell_type": "markdown",
   "id": "f30eda97",
   "metadata": {},
   "source": [
    "nombre_infected       905\n",
    "nombre_sain          2331\n",
    "nombre_exposed        506\n",
    "nombre_recovered    16258\n",
    "Name: 373, dtype: int64"
   ]
  },
  {
   "cell_type": "markdown",
   "id": "ff406abe",
   "metadata": {},
   "source": [
    "nombre_infected       911\n",
    "nombre_sain          2317\n",
    "nombre_exposed        523\n",
    "nombre_recovered    16249\n",
    "Name: 374, dtype: int64"
   ]
  },
  {
   "cell_type": "markdown",
   "id": "da5a7fa1",
   "metadata": {},
   "source": [
    "nombre_infected       935\n",
    "nombre_sain          2319\n",
    "nombre_exposed        532\n",
    "nombre_recovered    16214\n",
    "Name: 375, dtype: int64"
   ]
  },
  {
   "cell_type": "markdown",
   "id": "5e5d8107",
   "metadata": {},
   "source": [
    "nombre_infected       956\n",
    "nombre_sain          2294\n",
    "nombre_exposed        527\n",
    "nombre_recovered    16223\n",
    "Name: 376, dtype: int64"
   ]
  },
  {
   "cell_type": "markdown",
   "id": "d8c5519d",
   "metadata": {},
   "source": [
    "nombre_infected       985\n",
    "nombre_sain          2268\n",
    "nombre_exposed        516\n",
    "nombre_recovered    16231\n",
    "Name: 377, dtype: int64"
   ]
  },
  {
   "cell_type": "markdown",
   "id": "4f84ce9d",
   "metadata": {},
   "source": [
    "nombre_infected       991\n",
    "nombre_sain          2251\n",
    "nombre_exposed        535\n",
    "nombre_recovered    16223\n",
    "Name: 378, dtype: int64"
   ]
  },
  {
   "cell_type": "markdown",
   "id": "1d258567",
   "metadata": {},
   "source": [
    "nombre_infected       989\n",
    "nombre_sain          2237\n",
    "nombre_exposed        547\n",
    "nombre_recovered    16227\n",
    "Name: 379, dtype: int64"
   ]
  },
  {
   "cell_type": "markdown",
   "id": "63e8bb8c",
   "metadata": {},
   "source": [
    "nombre_infected       975\n",
    "nombre_sain          2218\n",
    "nombre_exposed        558\n",
    "nombre_recovered    16249\n",
    "Name: 380, dtype: int64"
   ]
  },
  {
   "cell_type": "markdown",
   "id": "c2240459",
   "metadata": {},
   "source": [
    "nombre_infected       988\n",
    "nombre_sain          2195\n",
    "nombre_exposed        558\n",
    "nombre_recovered    16259\n",
    "Name: 381, dtype: int64"
   ]
  },
  {
   "cell_type": "markdown",
   "id": "76aa1c8c",
   "metadata": {},
   "source": [
    "nombre_infected       979\n",
    "nombre_sain          2160\n",
    "nombre_exposed        576\n",
    "nombre_recovered    16285\n",
    "Name: 382, dtype: int64"
   ]
  },
  {
   "cell_type": "markdown",
   "id": "0bca0b4e",
   "metadata": {},
   "source": [
    "nombre_infected       994\n",
    "nombre_sain          2152\n",
    "nombre_exposed        560\n",
    "nombre_recovered    16294\n",
    "Name: 383, dtype: int64"
   ]
  },
  {
   "cell_type": "markdown",
   "id": "63261939",
   "metadata": {},
   "source": [
    "nombre_infected       997\n",
    "nombre_sain          2145\n",
    "nombre_exposed        547\n",
    "nombre_recovered    16311\n",
    "Name: 384, dtype: int64"
   ]
  },
  {
   "cell_type": "markdown",
   "id": "64dbba19",
   "metadata": {},
   "source": [
    "nombre_infected       999\n",
    "nombre_sain          2135\n",
    "nombre_exposed        546\n",
    "nombre_recovered    16320\n",
    "Name: 385, dtype: int64"
   ]
  },
  {
   "cell_type": "markdown",
   "id": "dda5d064",
   "metadata": {},
   "source": [
    "nombre_infected       986\n",
    "nombre_sain          2097\n",
    "nombre_exposed        545\n",
    "nombre_recovered    16372\n",
    "Name: 386, dtype: int64"
   ]
  },
  {
   "cell_type": "markdown",
   "id": "d925b3ae",
   "metadata": {},
   "source": [
    "nombre_infected       994\n",
    "nombre_sain          2079\n",
    "nombre_exposed        536\n",
    "nombre_recovered    16391\n",
    "Name: 387, dtype: int64"
   ]
  },
  {
   "cell_type": "markdown",
   "id": "c3ff013e",
   "metadata": {},
   "source": [
    "nombre_infected       999\n",
    "nombre_sain          2081\n",
    "nombre_exposed        521\n",
    "nombre_recovered    16399\n",
    "Name: 388, dtype: int64"
   ]
  },
  {
   "cell_type": "markdown",
   "id": "62e018fd",
   "metadata": {},
   "source": [
    "nombre_infected      1016\n",
    "nombre_sain          2075\n",
    "nombre_exposed        503\n",
    "nombre_recovered    16406\n",
    "Name: 389, dtype: int64"
   ]
  },
  {
   "cell_type": "markdown",
   "id": "604fb646",
   "metadata": {},
   "source": [
    "nombre_infected      1001\n",
    "nombre_sain          2048\n",
    "nombre_exposed        519\n",
    "nombre_recovered    16432\n",
    "Name: 390, dtype: int64"
   ]
  },
  {
   "cell_type": "markdown",
   "id": "26a6b9b0",
   "metadata": {},
   "source": [
    "nombre_infected       979\n",
    "nombre_sain          2012\n",
    "nombre_exposed        528\n",
    "nombre_recovered    16481\n",
    "Name: 391, dtype: int64"
   ]
  },
  {
   "cell_type": "markdown",
   "id": "c225443a",
   "metadata": {},
   "source": [
    "nombre_infected      1001\n",
    "nombre_sain          2009\n",
    "nombre_exposed        507\n",
    "nombre_recovered    16483\n",
    "Name: 392, dtype: int64"
   ]
  },
  {
   "cell_type": "markdown",
   "id": "60c73fae",
   "metadata": {},
   "source": [
    "nombre_infected       988\n",
    "nombre_sain          2001\n",
    "nombre_exposed        519\n",
    "nombre_recovered    16492\n",
    "Name: 393, dtype: int64"
   ]
  },
  {
   "cell_type": "markdown",
   "id": "418fa229",
   "metadata": {},
   "source": [
    "nombre_infected       965\n",
    "nombre_sain          1979\n",
    "nombre_exposed        545\n",
    "nombre_recovered    16511\n",
    "Name: 394, dtype: int64"
   ]
  },
  {
   "cell_type": "markdown",
   "id": "abb1c1d1",
   "metadata": {},
   "source": [
    "nombre_infected       976\n",
    "nombre_sain          1982\n",
    "nombre_exposed        521\n",
    "nombre_recovered    16521\n",
    "Name: 395, dtype: int64"
   ]
  },
  {
   "cell_type": "markdown",
   "id": "ae92087a",
   "metadata": {},
   "source": [
    "nombre_infected      1002\n",
    "nombre_sain          1980\n",
    "nombre_exposed        501\n",
    "nombre_recovered    16517\n",
    "Name: 396, dtype: int64"
   ]
  },
  {
   "cell_type": "markdown",
   "id": "3031fd3e",
   "metadata": {},
   "source": [
    "nombre_infected      1001\n",
    "nombre_sain          1959\n",
    "nombre_exposed        503\n",
    "nombre_recovered    16537\n",
    "Name: 397, dtype: int64"
   ]
  },
  {
   "cell_type": "markdown",
   "id": "2f202232",
   "metadata": {},
   "source": [
    "nombre_infected      1011\n",
    "nombre_sain          1931\n",
    "nombre_exposed        524\n",
    "nombre_recovered    16534\n",
    "Name: 398, dtype: int64"
   ]
  },
  {
   "cell_type": "markdown",
   "id": "0721bb24",
   "metadata": {},
   "source": [
    "nombre_infected       989\n",
    "nombre_sain          1928\n",
    "nombre_exposed        527\n",
    "nombre_recovered    16556\n",
    "Name: 399, dtype: int64"
   ]
  },
  {
   "cell_type": "markdown",
   "id": "23c7d25e",
   "metadata": {},
   "source": [
    "nombre_infected       983\n",
    "nombre_sain          1918\n",
    "nombre_exposed        517\n",
    "nombre_recovered    16582\n",
    "Name: 400, dtype: int64"
   ]
  },
  {
   "cell_type": "markdown",
   "id": "10dfbed4",
   "metadata": {},
   "source": [
    "nombre_infected       993\n",
    "nombre_sain          1908\n",
    "nombre_exposed        509\n",
    "nombre_recovered    16590\n",
    "Name: 401, dtype: int64"
   ]
  },
  {
   "cell_type": "markdown",
   "id": "afa7b85b",
   "metadata": {},
   "source": [
    "nombre_infected       966\n",
    "nombre_sain          1896\n",
    "nombre_exposed        516\n",
    "nombre_recovered    16622\n",
    "Name: 402, dtype: int64"
   ]
  },
  {
   "cell_type": "markdown",
   "id": "cff8add3",
   "metadata": {},
   "source": [
    "nombre_infected       947\n",
    "nombre_sain          1892\n",
    "nombre_exposed        532\n",
    "nombre_recovered    16629\n",
    "Name: 403, dtype: int64"
   ]
  },
  {
   "cell_type": "markdown",
   "id": "a3310f45",
   "metadata": {},
   "source": [
    "nombre_infected       943\n",
    "nombre_sain          1884\n",
    "nombre_exposed        533\n",
    "nombre_recovered    16640\n",
    "Name: 404, dtype: int64"
   ]
  },
  {
   "cell_type": "markdown",
   "id": "a730856d",
   "metadata": {},
   "source": [
    "nombre_infected       954\n",
    "nombre_sain          1868\n",
    "nombre_exposed        509\n",
    "nombre_recovered    16669\n",
    "Name: 405, dtype: int64"
   ]
  },
  {
   "cell_type": "markdown",
   "id": "94e68fd0",
   "metadata": {},
   "source": [
    "nombre_infected       958\n",
    "nombre_sain          1879\n",
    "nombre_exposed        478\n",
    "nombre_recovered    16685\n",
    "Name: 406, dtype: int64"
   ]
  },
  {
   "cell_type": "markdown",
   "id": "886e905a",
   "metadata": {},
   "source": [
    "nombre_infected       973\n",
    "nombre_sain          1890\n",
    "nombre_exposed        472\n",
    "nombre_recovered    16665\n",
    "Name: 407, dtype: int64"
   ]
  },
  {
   "cell_type": "markdown",
   "id": "d097114e",
   "metadata": {},
   "source": [
    "nombre_infected       951\n",
    "nombre_sain          1875\n",
    "nombre_exposed        471\n",
    "nombre_recovered    16703\n",
    "Name: 408, dtype: int64"
   ]
  },
  {
   "cell_type": "markdown",
   "id": "8695d9b3",
   "metadata": {},
   "source": [
    "nombre_infected       927\n",
    "nombre_sain          1875\n",
    "nombre_exposed        460\n",
    "nombre_recovered    16738\n",
    "Name: 409, dtype: int64"
   ]
  },
  {
   "cell_type": "markdown",
   "id": "d46a5842",
   "metadata": {},
   "source": [
    "nombre_infected       926\n",
    "nombre_sain          1889\n",
    "nombre_exposed        445\n",
    "nombre_recovered    16740\n",
    "Name: 410, dtype: int64"
   ]
  },
  {
   "cell_type": "markdown",
   "id": "776961ab",
   "metadata": {},
   "source": [
    "nombre_infected       914\n",
    "nombre_sain          1900\n",
    "nombre_exposed        448\n",
    "nombre_recovered    16738\n",
    "Name: 411, dtype: int64"
   ]
  },
  {
   "cell_type": "markdown",
   "id": "9c14ca63",
   "metadata": {},
   "source": [
    "nombre_infected       919\n",
    "nombre_sain          1912\n",
    "nombre_exposed        439\n",
    "nombre_recovered    16730\n",
    "Name: 412, dtype: int64"
   ]
  },
  {
   "cell_type": "markdown",
   "id": "31cca535",
   "metadata": {},
   "source": [
    "nombre_infected       900\n",
    "nombre_sain          1908\n",
    "nombre_exposed        448\n",
    "nombre_recovered    16744\n",
    "Name: 413, dtype: int64"
   ]
  },
  {
   "cell_type": "markdown",
   "id": "9b8cc24d",
   "metadata": {},
   "source": [
    "nombre_infected       869\n",
    "nombre_sain          1915\n",
    "nombre_exposed        474\n",
    "nombre_recovered    16742\n",
    "Name: 414, dtype: int64"
   ]
  },
  {
   "cell_type": "markdown",
   "id": "359b995b",
   "metadata": {},
   "source": [
    "nombre_infected       865\n",
    "nombre_sain          1919\n",
    "nombre_exposed        460\n",
    "nombre_recovered    16756\n",
    "Name: 415, dtype: int64"
   ]
  },
  {
   "cell_type": "markdown",
   "id": "fdbde044",
   "metadata": {},
   "source": [
    "nombre_infected       873\n",
    "nombre_sain          1938\n",
    "nombre_exposed        438\n",
    "nombre_recovered    16751\n",
    "Name: 416, dtype: int64"
   ]
  },
  {
   "cell_type": "markdown",
   "id": "c9870878",
   "metadata": {},
   "source": [
    "nombre_infected       890\n",
    "nombre_sain          1949\n",
    "nombre_exposed        415\n",
    "nombre_recovered    16746\n",
    "Name: 417, dtype: int64"
   ]
  },
  {
   "cell_type": "markdown",
   "id": "871e7d1c",
   "metadata": {},
   "source": [
    "nombre_infected       885\n",
    "nombre_sain          1933\n",
    "nombre_exposed        442\n",
    "nombre_recovered    16740\n",
    "Name: 418, dtype: int64"
   ]
  },
  {
   "cell_type": "markdown",
   "id": "04c71bf6",
   "metadata": {},
   "source": [
    "nombre_infected       882\n",
    "nombre_sain          1953\n",
    "nombre_exposed        446\n",
    "nombre_recovered    16719\n",
    "Name: 419, dtype: int64"
   ]
  },
  {
   "cell_type": "markdown",
   "id": "786f7b95",
   "metadata": {},
   "source": [
    "nombre_infected       890\n",
    "nombre_sain          1974\n",
    "nombre_exposed        448\n",
    "nombre_recovered    16688\n",
    "Name: 420, dtype: int64"
   ]
  },
  {
   "cell_type": "markdown",
   "id": "f6b6d560",
   "metadata": {},
   "source": [
    "nombre_infected       869\n",
    "nombre_sain          2000\n",
    "nombre_exposed        455\n",
    "nombre_recovered    16676\n",
    "Name: 421, dtype: int64"
   ]
  },
  {
   "cell_type": "markdown",
   "id": "ca71588e",
   "metadata": {},
   "source": [
    "nombre_infected       869\n",
    "nombre_sain          2021\n",
    "nombre_exposed        458\n",
    "nombre_recovered    16652\n",
    "Name: 422, dtype: int64"
   ]
  },
  {
   "cell_type": "markdown",
   "id": "5dd0c333",
   "metadata": {},
   "source": [
    "nombre_infected       862\n",
    "nombre_sain          2037\n",
    "nombre_exposed        450\n",
    "nombre_recovered    16651\n",
    "Name: 423, dtype: int64"
   ]
  },
  {
   "cell_type": "markdown",
   "id": "410e3743",
   "metadata": {},
   "source": [
    "nombre_infected       877\n",
    "nombre_sain          2071\n",
    "nombre_exposed        439\n",
    "nombre_recovered    16613\n",
    "Name: 424, dtype: int64"
   ]
  },
  {
   "cell_type": "markdown",
   "id": "bce630e8",
   "metadata": {},
   "source": [
    "nombre_infected       869\n",
    "nombre_sain          2108\n",
    "nombre_exposed        431\n",
    "nombre_recovered    16592\n",
    "Name: 425, dtype: int64"
   ]
  },
  {
   "cell_type": "markdown",
   "id": "074ae9af",
   "metadata": {},
   "source": [
    "nombre_infected       877\n",
    "nombre_sain          2127\n",
    "nombre_exposed        426\n",
    "nombre_recovered    16570\n",
    "Name: 426, dtype: int64"
   ]
  },
  {
   "cell_type": "markdown",
   "id": "851058c5",
   "metadata": {},
   "source": [
    "nombre_infected       845\n",
    "nombre_sain          2153\n",
    "nombre_exposed        450\n",
    "nombre_recovered    16552\n",
    "Name: 427, dtype: int64"
   ]
  },
  {
   "cell_type": "markdown",
   "id": "e1b1f4a2",
   "metadata": {},
   "source": [
    "nombre_infected       838\n",
    "nombre_sain          2187\n",
    "nombre_exposed        445\n",
    "nombre_recovered    16530\n",
    "Name: 428, dtype: int64"
   ]
  },
  {
   "cell_type": "markdown",
   "id": "f31ecd68",
   "metadata": {},
   "source": [
    "nombre_infected       838\n",
    "nombre_sain          2177\n",
    "nombre_exposed        448\n",
    "nombre_recovered    16537\n",
    "Name: 429, dtype: int64"
   ]
  },
  {
   "cell_type": "markdown",
   "id": "7a504a6c",
   "metadata": {},
   "source": [
    "nombre_infected       842\n",
    "nombre_sain          2174\n",
    "nombre_exposed        449\n",
    "nombre_recovered    16535\n",
    "Name: 430, dtype: int64"
   ]
  },
  {
   "cell_type": "markdown",
   "id": "2c7f96be",
   "metadata": {},
   "source": [
    "nombre_infected       831\n",
    "nombre_sain          2184\n",
    "nombre_exposed        461\n",
    "nombre_recovered    16524\n",
    "Name: 431, dtype: int64"
   ]
  },
  {
   "cell_type": "markdown",
   "id": "c0138851",
   "metadata": {},
   "source": [
    "nombre_infected       833\n",
    "nombre_sain          2187\n",
    "nombre_exposed        467\n",
    "nombre_recovered    16513\n",
    "Name: 432, dtype: int64"
   ]
  },
  {
   "cell_type": "markdown",
   "id": "638b8ab1",
   "metadata": {},
   "source": [
    "nombre_infected       843\n",
    "nombre_sain          2229\n",
    "nombre_exposed        450\n",
    "nombre_recovered    16478\n",
    "Name: 433, dtype: int64"
   ]
  },
  {
   "cell_type": "markdown",
   "id": "f8bd2e38",
   "metadata": {},
   "source": [
    "nombre_infected       859\n",
    "nombre_sain          2244\n",
    "nombre_exposed        445\n",
    "nombre_recovered    16452\n",
    "Name: 434, dtype: int64"
   ]
  },
  {
   "cell_type": "markdown",
   "id": "df397eb9",
   "metadata": {},
   "source": [
    "nombre_infected       834\n",
    "nombre_sain          2240\n",
    "nombre_exposed        473\n",
    "nombre_recovered    16453\n",
    "Name: 435, dtype: int64"
   ]
  },
  {
   "cell_type": "markdown",
   "id": "e0902b92",
   "metadata": {},
   "source": [
    "nombre_infected       836\n",
    "nombre_sain          2240\n",
    "nombre_exposed        466\n",
    "nombre_recovered    16458\n",
    "Name: 436, dtype: int64"
   ]
  },
  {
   "cell_type": "markdown",
   "id": "12dbbdb1",
   "metadata": {},
   "source": [
    "nombre_infected       820\n",
    "nombre_sain          2257\n",
    "nombre_exposed        484\n",
    "nombre_recovered    16439\n",
    "Name: 437, dtype: int64"
   ]
  },
  {
   "cell_type": "markdown",
   "id": "39dab7ac",
   "metadata": {},
   "source": [
    "nombre_infected       833\n",
    "nombre_sain          2264\n",
    "nombre_exposed        486\n",
    "nombre_recovered    16417\n",
    "Name: 438, dtype: int64"
   ]
  },
  {
   "cell_type": "markdown",
   "id": "4da04d87",
   "metadata": {},
   "source": [
    "nombre_infected       845\n",
    "nombre_sain          2253\n",
    "nombre_exposed        479\n",
    "nombre_recovered    16423\n",
    "Name: 439, dtype: int64"
   ]
  },
  {
   "cell_type": "markdown",
   "id": "da4665bc",
   "metadata": {},
   "source": [
    "nombre_infected       880\n",
    "nombre_sain          2239\n",
    "nombre_exposed        492\n",
    "nombre_recovered    16389\n",
    "Name: 440, dtype: int64"
   ]
  },
  {
   "cell_type": "markdown",
   "id": "aab0cca5",
   "metadata": {},
   "source": [
    "nombre_infected       891\n",
    "nombre_sain          2237\n",
    "nombre_exposed        485\n",
    "nombre_recovered    16387\n",
    "Name: 441, dtype: int64"
   ]
  },
  {
   "cell_type": "markdown",
   "id": "c20259b7",
   "metadata": {},
   "source": [
    "nombre_infected       892\n",
    "nombre_sain          2235\n",
    "nombre_exposed        506\n",
    "nombre_recovered    16367\n",
    "Name: 442, dtype: int64"
   ]
  },
  {
   "cell_type": "markdown",
   "id": "d7ba755d",
   "metadata": {},
   "source": [
    "nombre_infected       904\n",
    "nombre_sain          2244\n",
    "nombre_exposed        516\n",
    "nombre_recovered    16336\n",
    "Name: 443, dtype: int64"
   ]
  },
  {
   "cell_type": "markdown",
   "id": "24c728dc",
   "metadata": {},
   "source": [
    "nombre_infected       919\n",
    "nombre_sain          2252\n",
    "nombre_exposed        492\n",
    "nombre_recovered    16337\n",
    "Name: 444, dtype: int64"
   ]
  },
  {
   "cell_type": "markdown",
   "id": "669d48d8",
   "metadata": {},
   "source": [
    "nombre_infected       942\n",
    "nombre_sain          2255\n",
    "nombre_exposed        479\n",
    "nombre_recovered    16324\n",
    "Name: 445, dtype: int64"
   ]
  },
  {
   "cell_type": "markdown",
   "id": "17fecfde",
   "metadata": {},
   "source": [
    "nombre_infected       936\n",
    "nombre_sain          2234\n",
    "nombre_exposed        511\n",
    "nombre_recovered    16319\n",
    "Name: 446, dtype: int64"
   ]
  },
  {
   "cell_type": "markdown",
   "id": "bf23c8d3",
   "metadata": {},
   "source": [
    "nombre_infected       937\n",
    "nombre_sain          2200\n",
    "nombre_exposed        521\n",
    "nombre_recovered    16342\n",
    "Name: 447, dtype: int64"
   ]
  },
  {
   "cell_type": "markdown",
   "id": "0b377042",
   "metadata": {},
   "source": [
    "nombre_infected       936\n",
    "nombre_sain          2196\n",
    "nombre_exposed        516\n",
    "nombre_recovered    16352\n",
    "Name: 448, dtype: int64"
   ]
  },
  {
   "cell_type": "markdown",
   "id": "9c6b8950",
   "metadata": {},
   "source": [
    "nombre_infected       969\n",
    "nombre_sain          2160\n",
    "nombre_exposed        527\n",
    "nombre_recovered    16344\n",
    "Name: 449, dtype: int64"
   ]
  },
  {
   "cell_type": "markdown",
   "id": "64215b93",
   "metadata": {},
   "source": [
    "nombre_infected       955\n",
    "nombre_sain          2206\n",
    "nombre_exposed        528\n",
    "nombre_recovered    16311\n",
    "Name: 450, dtype: int64"
   ]
  },
  {
   "cell_type": "markdown",
   "id": "5825bdc7",
   "metadata": {},
   "source": [
    "nombre_infected       968\n",
    "nombre_sain          2197\n",
    "nombre_exposed        518\n",
    "nombre_recovered    16317\n",
    "Name: 451, dtype: int64"
   ]
  },
  {
   "cell_type": "markdown",
   "id": "cfd07171",
   "metadata": {},
   "source": [
    "nombre_infected       964\n",
    "nombre_sain          2210\n",
    "nombre_exposed        518\n",
    "nombre_recovered    16308\n",
    "Name: 452, dtype: int64"
   ]
  },
  {
   "cell_type": "markdown",
   "id": "11f2da71",
   "metadata": {},
   "source": [
    "nombre_infected       984\n",
    "nombre_sain          2203\n",
    "nombre_exposed        499\n",
    "nombre_recovered    16314\n",
    "Name: 453, dtype: int64"
   ]
  },
  {
   "cell_type": "markdown",
   "id": "cb49fc9e",
   "metadata": {},
   "source": [
    "nombre_infected       980\n",
    "nombre_sain          2197\n",
    "nombre_exposed        507\n",
    "nombre_recovered    16316\n",
    "Name: 454, dtype: int64"
   ]
  },
  {
   "cell_type": "markdown",
   "id": "f54ca071",
   "metadata": {},
   "source": [
    "nombre_infected       977\n",
    "nombre_sain          2183\n",
    "nombre_exposed        511\n",
    "nombre_recovered    16329\n",
    "Name: 455, dtype: int64"
   ]
  },
  {
   "cell_type": "markdown",
   "id": "0bb9280e",
   "metadata": {},
   "source": [
    "nombre_infected       981\n",
    "nombre_sain          2160\n",
    "nombre_exposed        495\n",
    "nombre_recovered    16364\n",
    "Name: 456, dtype: int64"
   ]
  },
  {
   "cell_type": "markdown",
   "id": "bae55f33",
   "metadata": {},
   "source": [
    "nombre_infected       969\n",
    "nombre_sain          2127\n",
    "nombre_exposed        516\n",
    "nombre_recovered    16388\n",
    "Name: 457, dtype: int64"
   ]
  },
  {
   "cell_type": "markdown",
   "id": "dd1dbf61",
   "metadata": {},
   "source": [
    "nombre_infected       955\n",
    "nombre_sain          2087\n",
    "nombre_exposed        533\n",
    "nombre_recovered    16425\n",
    "Name: 458, dtype: int64"
   ]
  },
  {
   "cell_type": "markdown",
   "id": "3aa3f56f",
   "metadata": {},
   "source": [
    "nombre_infected       939\n",
    "nombre_sain          2090\n",
    "nombre_exposed        513\n",
    "nombre_recovered    16458\n",
    "Name: 459, dtype: int64"
   ]
  },
  {
   "cell_type": "markdown",
   "id": "12a4df22",
   "metadata": {},
   "source": [
    "nombre_infected       957\n",
    "nombre_sain          2100\n",
    "nombre_exposed        482\n",
    "nombre_recovered    16461\n",
    "Name: 460, dtype: int64"
   ]
  },
  {
   "cell_type": "markdown",
   "id": "e582c958",
   "metadata": {},
   "source": [
    "nombre_infected       974\n",
    "nombre_sain          2090\n",
    "nombre_exposed        478\n",
    "nombre_recovered    16458\n",
    "Name: 461, dtype: int64"
   ]
  },
  {
   "cell_type": "markdown",
   "id": "ffd0fdd6",
   "metadata": {},
   "source": [
    "nombre_infected       959\n",
    "nombre_sain          2057\n",
    "nombre_exposed        492\n",
    "nombre_recovered    16492\n",
    "Name: 462, dtype: int64"
   ]
  },
  {
   "cell_type": "markdown",
   "id": "16af98e4",
   "metadata": {},
   "source": [
    "nombre_infected       936\n",
    "nombre_sain          2050\n",
    "nombre_exposed        499\n",
    "nombre_recovered    16515\n",
    "Name: 463, dtype: int64"
   ]
  },
  {
   "cell_type": "markdown",
   "id": "1e059094",
   "metadata": {},
   "source": [
    "nombre_infected       928\n",
    "nombre_sain          1996\n",
    "nombre_exposed        511\n",
    "nombre_recovered    16565\n",
    "Name: 464, dtype: int64"
   ]
  },
  {
   "cell_type": "markdown",
   "id": "49077f44",
   "metadata": {},
   "source": [
    "nombre_infected       904\n",
    "nombre_sain          1988\n",
    "nombre_exposed        511\n",
    "nombre_recovered    16597\n",
    "Name: 465, dtype: int64"
   ]
  },
  {
   "cell_type": "markdown",
   "id": "009be06f",
   "metadata": {},
   "source": [
    "nombre_infected       907\n",
    "nombre_sain          1980\n",
    "nombre_exposed        495\n",
    "nombre_recovered    16618\n",
    "Name: 466, dtype: int64"
   ]
  },
  {
   "cell_type": "markdown",
   "id": "9af6836d",
   "metadata": {},
   "source": [
    "nombre_infected       909\n",
    "nombre_sain          2013\n",
    "nombre_exposed        451\n",
    "nombre_recovered    16627\n",
    "Name: 467, dtype: int64"
   ]
  },
  {
   "cell_type": "markdown",
   "id": "3a728633",
   "metadata": {},
   "source": [
    "nombre_infected       908\n",
    "nombre_sain          2004\n",
    "nombre_exposed        434\n",
    "nombre_recovered    16654\n",
    "Name: 468, dtype: int64"
   ]
  },
  {
   "cell_type": "markdown",
   "id": "ecd56456",
   "metadata": {},
   "source": [
    "nombre_infected       890\n",
    "nombre_sain          2021\n",
    "nombre_exposed        435\n",
    "nombre_recovered    16654\n",
    "Name: 469, dtype: int64"
   ]
  },
  {
   "cell_type": "markdown",
   "id": "16577368",
   "metadata": {},
   "source": [
    "nombre_infected       880\n",
    "nombre_sain          2021\n",
    "nombre_exposed        432\n",
    "nombre_recovered    16667\n",
    "Name: 470, dtype: int64"
   ]
  },
  {
   "cell_type": "markdown",
   "id": "9a7002fd",
   "metadata": {},
   "source": [
    "nombre_infected       900\n",
    "nombre_sain          2048\n",
    "nombre_exposed        410\n",
    "nombre_recovered    16642\n",
    "Name: 471, dtype: int64"
   ]
  },
  {
   "cell_type": "markdown",
   "id": "c17f6c1f",
   "metadata": {},
   "source": [
    "nombre_infected       900\n",
    "nombre_sain          2058\n",
    "nombre_exposed        401\n",
    "nombre_recovered    16641\n",
    "Name: 472, dtype: int64"
   ]
  },
  {
   "cell_type": "markdown",
   "id": "af741ed5",
   "metadata": {},
   "source": [
    "nombre_infected       873\n",
    "nombre_sain          2026\n",
    "nombre_exposed        455\n",
    "nombre_recovered    16646\n",
    "Name: 473, dtype: int64"
   ]
  },
  {
   "cell_type": "markdown",
   "id": "8d813145",
   "metadata": {},
   "source": [
    "nombre_infected       850\n",
    "nombre_sain          2035\n",
    "nombre_exposed        470\n",
    "nombre_recovered    16645\n",
    "Name: 474, dtype: int64"
   ]
  },
  {
   "cell_type": "markdown",
   "id": "e038abac",
   "metadata": {},
   "source": [
    "nombre_infected       842\n",
    "nombre_sain          2048\n",
    "nombre_exposed        474\n",
    "nombre_recovered    16636\n",
    "Name: 475, dtype: int64"
   ]
  },
  {
   "cell_type": "markdown",
   "id": "9bdf800e",
   "metadata": {},
   "source": [
    "nombre_infected       860\n",
    "nombre_sain          2063\n",
    "nombre_exposed        443\n",
    "nombre_recovered    16634\n",
    "Name: 476, dtype: int64"
   ]
  },
  {
   "cell_type": "markdown",
   "id": "73aae668",
   "metadata": {},
   "source": [
    "nombre_infected       843\n",
    "nombre_sain          2079\n",
    "nombre_exposed        454\n",
    "nombre_recovered    16624\n",
    "Name: 477, dtype: int64"
   ]
  },
  {
   "cell_type": "markdown",
   "id": "9074bba0",
   "metadata": {},
   "source": [
    "nombre_infected       847\n",
    "nombre_sain          2117\n",
    "nombre_exposed        438\n",
    "nombre_recovered    16598\n",
    "Name: 478, dtype: int64"
   ]
  },
  {
   "cell_type": "markdown",
   "id": "73fdae84",
   "metadata": {},
   "source": [
    "nombre_infected       836\n",
    "nombre_sain          2132\n",
    "nombre_exposed        426\n",
    "nombre_recovered    16606\n",
    "Name: 479, dtype: int64"
   ]
  },
  {
   "cell_type": "markdown",
   "id": "2b1d2438",
   "metadata": {},
   "source": [
    "nombre_infected       821\n",
    "nombre_sain          2140\n",
    "nombre_exposed        451\n",
    "nombre_recovered    16588\n",
    "Name: 480, dtype: int64"
   ]
  },
  {
   "cell_type": "markdown",
   "id": "a4976bd1",
   "metadata": {},
   "source": [
    "nombre_infected       795\n",
    "nombre_sain          2141\n",
    "nombre_exposed        474\n",
    "nombre_recovered    16590\n",
    "Name: 481, dtype: int64"
   ]
  },
  {
   "cell_type": "markdown",
   "id": "35517824",
   "metadata": {},
   "source": [
    "nombre_infected       781\n",
    "nombre_sain          2148\n",
    "nombre_exposed        476\n",
    "nombre_recovered    16595\n",
    "Name: 482, dtype: int64"
   ]
  },
  {
   "cell_type": "markdown",
   "id": "30014ce5",
   "metadata": {},
   "source": [
    "nombre_infected       770\n",
    "nombre_sain          2171\n",
    "nombre_exposed        467\n",
    "nombre_recovered    16592\n",
    "Name: 483, dtype: int64"
   ]
  },
  {
   "cell_type": "markdown",
   "id": "5d350a4c",
   "metadata": {},
   "source": [
    "nombre_infected       790\n",
    "nombre_sain          2168\n",
    "nombre_exposed        473\n",
    "nombre_recovered    16569\n",
    "Name: 484, dtype: int64"
   ]
  },
  {
   "cell_type": "markdown",
   "id": "ece5f460",
   "metadata": {},
   "source": [
    "nombre_infected       797\n",
    "nombre_sain          2168\n",
    "nombre_exposed        491\n",
    "nombre_recovered    16544\n",
    "Name: 485, dtype: int64"
   ]
  },
  {
   "cell_type": "markdown",
   "id": "9ba334a9",
   "metadata": {},
   "source": [
    "nombre_infected       826\n",
    "nombre_sain          2196\n",
    "nombre_exposed        453\n",
    "nombre_recovered    16525\n",
    "Name: 486, dtype: int64"
   ]
  },
  {
   "cell_type": "markdown",
   "id": "82a079a0",
   "metadata": {},
   "source": [
    "nombre_infected       826\n",
    "nombre_sain          2207\n",
    "nombre_exposed        448\n",
    "nombre_recovered    16519\n",
    "Name: 487, dtype: int64"
   ]
  },
  {
   "cell_type": "markdown",
   "id": "9e6f1036",
   "metadata": {},
   "source": [
    "nombre_infected       828\n",
    "nombre_sain          2205\n",
    "nombre_exposed        446\n",
    "nombre_recovered    16521\n",
    "Name: 488, dtype: int64"
   ]
  },
  {
   "cell_type": "markdown",
   "id": "ddcc43f8",
   "metadata": {},
   "source": [
    "nombre_infected       798\n",
    "nombre_sain          2190\n",
    "nombre_exposed        469\n",
    "nombre_recovered    16543\n",
    "Name: 489, dtype: int64"
   ]
  },
  {
   "cell_type": "markdown",
   "id": "714791dd",
   "metadata": {},
   "source": [
    "nombre_infected       801\n",
    "nombre_sain          2168\n",
    "nombre_exposed        474\n",
    "nombre_recovered    16557\n",
    "Name: 490, dtype: int64"
   ]
  },
  {
   "cell_type": "markdown",
   "id": "83b95ffe",
   "metadata": {},
   "source": [
    "nombre_infected       800\n",
    "nombre_sain          2152\n",
    "nombre_exposed        490\n",
    "nombre_recovered    16558\n",
    "Name: 491, dtype: int64"
   ]
  },
  {
   "cell_type": "markdown",
   "id": "af96bee0",
   "metadata": {},
   "source": [
    "nombre_infected       805\n",
    "nombre_sain          2137\n",
    "nombre_exposed        501\n",
    "nombre_recovered    16557\n",
    "Name: 492, dtype: int64"
   ]
  },
  {
   "cell_type": "markdown",
   "id": "c5b7e52e",
   "metadata": {},
   "source": [
    "nombre_infected       814\n",
    "nombre_sain          2135\n",
    "nombre_exposed        507\n",
    "nombre_recovered    16544\n",
    "Name: 493, dtype: int64"
   ]
  },
  {
   "cell_type": "markdown",
   "id": "0045991e",
   "metadata": {},
   "source": [
    "nombre_infected       824\n",
    "nombre_sain          2137\n",
    "nombre_exposed        505\n",
    "nombre_recovered    16534\n",
    "Name: 494, dtype: int64"
   ]
  },
  {
   "cell_type": "markdown",
   "id": "564828f3",
   "metadata": {},
   "source": [
    "nombre_infected       818\n",
    "nombre_sain          2138\n",
    "nombre_exposed        491\n",
    "nombre_recovered    16553\n",
    "Name: 495, dtype: int64"
   ]
  },
  {
   "cell_type": "markdown",
   "id": "26993bc2",
   "metadata": {},
   "source": [
    "nombre_infected       825\n",
    "nombre_sain          2154\n",
    "nombre_exposed        491\n",
    "nombre_recovered    16530\n",
    "Name: 496, dtype: int64"
   ]
  },
  {
   "cell_type": "markdown",
   "id": "b2600973",
   "metadata": {},
   "source": [
    "nombre_infected       832\n",
    "nombre_sain          2164\n",
    "nombre_exposed        479\n",
    "nombre_recovered    16525\n",
    "Name: 497, dtype: int64"
   ]
  },
  {
   "cell_type": "markdown",
   "id": "ca6237b9",
   "metadata": {},
   "source": [
    "nombre_infected       831\n",
    "nombre_sain          2167\n",
    "nombre_exposed        478\n",
    "nombre_recovered    16524\n",
    "Name: 498, dtype: int64"
   ]
  },
  {
   "cell_type": "markdown",
   "id": "4c93e1c5",
   "metadata": {},
   "source": [
    "nombre_infected       829\n",
    "nombre_sain          2197\n",
    "nombre_exposed        480\n",
    "nombre_recovered    16494\n",
    "Name: 499, dtype: int64"
   ]
  },
  {
   "cell_type": "markdown",
   "id": "460d819e",
   "metadata": {},
   "source": [
    "nombre_infected       835\n",
    "nombre_sain          2224\n",
    "nombre_exposed        481\n",
    "nombre_recovered    16460\n",
    "Name: 500, dtype: int64"
   ]
  },
  {
   "cell_type": "markdown",
   "id": "a4597d68",
   "metadata": {},
   "source": [
    "nombre_infected       822\n",
    "nombre_sain          2227\n",
    "nombre_exposed        496\n",
    "nombre_recovered    16455\n",
    "Name: 501, dtype: int64"
   ]
  },
  {
   "cell_type": "markdown",
   "id": "15eaa0ad",
   "metadata": {},
   "source": [
    "nombre_infected       810\n",
    "nombre_sain          2261\n",
    "nombre_exposed        462\n",
    "nombre_recovered    16467\n",
    "Name: 502, dtype: int64"
   ]
  },
  {
   "cell_type": "markdown",
   "id": "7632cd39",
   "metadata": {},
   "source": [
    "nombre_infected       810\n",
    "nombre_sain          2275\n",
    "nombre_exposed        471\n",
    "nombre_recovered    16444\n",
    "Name: 503, dtype: int64"
   ]
  },
  {
   "cell_type": "markdown",
   "id": "5d3f3fd9",
   "metadata": {},
   "source": [
    "nombre_infected       820\n",
    "nombre_sain          2281\n",
    "nombre_exposed        440\n",
    "nombre_recovered    16459\n",
    "Name: 504, dtype: int64"
   ]
  },
  {
   "cell_type": "markdown",
   "id": "28ba0f27",
   "metadata": {},
   "source": [
    "nombre_infected       833\n",
    "nombre_sain          2304\n",
    "nombre_exposed        431\n",
    "nombre_recovered    16432\n",
    "Name: 505, dtype: int64"
   ]
  },
  {
   "cell_type": "markdown",
   "id": "23a6ff85",
   "metadata": {},
   "source": [
    "nombre_infected       826\n",
    "nombre_sain          2299\n",
    "nombre_exposed        437\n",
    "nombre_recovered    16438\n",
    "Name: 506, dtype: int64"
   ]
  },
  {
   "cell_type": "markdown",
   "id": "34ad54a5",
   "metadata": {},
   "source": [
    "nombre_infected       833\n",
    "nombre_sain          2273\n",
    "nombre_exposed        455\n",
    "nombre_recovered    16439\n",
    "Name: 507, dtype: int64"
   ]
  },
  {
   "cell_type": "markdown",
   "id": "373f31e9",
   "metadata": {},
   "source": [
    "nombre_infected       792\n",
    "nombre_sain          2283\n",
    "nombre_exposed        480\n",
    "nombre_recovered    16445\n",
    "Name: 508, dtype: int64"
   ]
  },
  {
   "cell_type": "markdown",
   "id": "220311f0",
   "metadata": {},
   "source": [
    "nombre_infected       787\n",
    "nombre_sain          2272\n",
    "nombre_exposed        481\n",
    "nombre_recovered    16460\n",
    "Name: 509, dtype: int64"
   ]
  },
  {
   "cell_type": "markdown",
   "id": "21ceca35",
   "metadata": {},
   "source": [
    "nombre_infected       791\n",
    "nombre_sain          2279\n",
    "nombre_exposed        453\n",
    "nombre_recovered    16477\n",
    "Name: 510, dtype: int64"
   ]
  },
  {
   "cell_type": "markdown",
   "id": "9c215364",
   "metadata": {},
   "source": [
    "nombre_infected       807\n",
    "nombre_sain          2261\n",
    "nombre_exposed        446\n",
    "nombre_recovered    16486\n",
    "Name: 511, dtype: int64"
   ]
  },
  {
   "cell_type": "markdown",
   "id": "bfc79120",
   "metadata": {},
   "source": [
    "nombre_infected       802\n",
    "nombre_sain          2246\n",
    "nombre_exposed        459\n",
    "nombre_recovered    16493\n",
    "Name: 512, dtype: int64"
   ]
  },
  {
   "cell_type": "markdown",
   "id": "ed5e7796",
   "metadata": {},
   "source": [
    "nombre_infected       806\n",
    "nombre_sain          2240\n",
    "nombre_exposed        460\n",
    "nombre_recovered    16494\n",
    "Name: 513, dtype: int64"
   ]
  },
  {
   "cell_type": "markdown",
   "id": "7607303f",
   "metadata": {},
   "source": [
    "nombre_infected       811\n",
    "nombre_sain          2237\n",
    "nombre_exposed        465\n",
    "nombre_recovered    16487\n",
    "Name: 514, dtype: int64"
   ]
  },
  {
   "cell_type": "markdown",
   "id": "c79532c0",
   "metadata": {},
   "source": [
    "nombre_infected       820\n",
    "nombre_sain          2263\n",
    "nombre_exposed        458\n",
    "nombre_recovered    16459\n",
    "Name: 515, dtype: int64"
   ]
  },
  {
   "cell_type": "markdown",
   "id": "91e0079e",
   "metadata": {},
   "source": [
    "nombre_infected       818\n",
    "nombre_sain          2247\n",
    "nombre_exposed        460\n",
    "nombre_recovered    16475\n",
    "Name: 516, dtype: int64"
   ]
  },
  {
   "cell_type": "markdown",
   "id": "a4cb266c",
   "metadata": {},
   "source": [
    "nombre_infected       809\n",
    "nombre_sain          2248\n",
    "nombre_exposed        452\n",
    "nombre_recovered    16491\n",
    "Name: 517, dtype: int64"
   ]
  },
  {
   "cell_type": "markdown",
   "id": "78dcd543",
   "metadata": {},
   "source": [
    "nombre_infected       818\n",
    "nombre_sain          2255\n",
    "nombre_exposed        454\n",
    "nombre_recovered    16473\n",
    "Name: 518, dtype: int64"
   ]
  },
  {
   "cell_type": "markdown",
   "id": "8435f521",
   "metadata": {},
   "source": [
    "nombre_infected       815\n",
    "nombre_sain          2267\n",
    "nombre_exposed        463\n",
    "nombre_recovered    16455\n",
    "Name: 519, dtype: int64"
   ]
  },
  {
   "cell_type": "markdown",
   "id": "076a7002",
   "metadata": {},
   "source": [
    "nombre_infected       821\n",
    "nombre_sain          2247\n",
    "nombre_exposed        483\n",
    "nombre_recovered    16449\n",
    "Name: 520, dtype: int64"
   ]
  },
  {
   "cell_type": "markdown",
   "id": "554032bc",
   "metadata": {},
   "source": [
    "nombre_infected       841\n",
    "nombre_sain          2237\n",
    "nombre_exposed        478\n",
    "nombre_recovered    16444\n",
    "Name: 521, dtype: int64"
   ]
  },
  {
   "cell_type": "markdown",
   "id": "2dd24d5b",
   "metadata": {},
   "source": [
    "nombre_infected       865\n",
    "nombre_sain          2245\n",
    "nombre_exposed        472\n",
    "nombre_recovered    16418\n",
    "Name: 522, dtype: int64"
   ]
  },
  {
   "cell_type": "markdown",
   "id": "d7f9029f",
   "metadata": {},
   "source": [
    "nombre_infected       862\n",
    "nombre_sain          2217\n",
    "nombre_exposed        485\n",
    "nombre_recovered    16436\n",
    "Name: 523, dtype: int64"
   ]
  },
  {
   "cell_type": "markdown",
   "id": "29316079",
   "metadata": {},
   "source": [
    "nombre_infected       849\n",
    "nombre_sain          2224\n",
    "nombre_exposed        503\n",
    "nombre_recovered    16424\n",
    "Name: 524, dtype: int64"
   ]
  },
  {
   "cell_type": "markdown",
   "id": "444bbe33",
   "metadata": {},
   "source": [
    "nombre_infected       849\n",
    "nombre_sain          2224\n",
    "nombre_exposed        476\n",
    "nombre_recovered    16451\n",
    "Name: 525, dtype: int64"
   ]
  },
  {
   "cell_type": "markdown",
   "id": "b8f3fffa",
   "metadata": {},
   "source": [
    "nombre_infected       867\n",
    "nombre_sain          2206\n",
    "nombre_exposed        464\n",
    "nombre_recovered    16463\n",
    "Name: 526, dtype: int64"
   ]
  },
  {
   "cell_type": "markdown",
   "id": "ea627095",
   "metadata": {},
   "source": [
    "nombre_infected       877\n",
    "nombre_sain          2186\n",
    "nombre_exposed        487\n",
    "nombre_recovered    16450\n",
    "Name: 527, dtype: int64"
   ]
  },
  {
   "cell_type": "markdown",
   "id": "bfe686c8",
   "metadata": {},
   "source": [
    "nombre_infected       867\n",
    "nombre_sain          2191\n",
    "nombre_exposed        502\n",
    "nombre_recovered    16440\n",
    "Name: 528, dtype: int64"
   ]
  },
  {
   "cell_type": "markdown",
   "id": "1d609344",
   "metadata": {},
   "source": [
    "nombre_infected       873\n",
    "nombre_sain          2172\n",
    "nombre_exposed        494\n",
    "nombre_recovered    16461\n",
    "Name: 529, dtype: int64"
   ]
  },
  {
   "cell_type": "markdown",
   "id": "4509d951",
   "metadata": {},
   "source": [
    "nombre_infected       882\n",
    "nombre_sain          2161\n",
    "nombre_exposed        506\n",
    "nombre_recovered    16451\n",
    "Name: 530, dtype: int64"
   ]
  },
  {
   "cell_type": "markdown",
   "id": "3ba72c98",
   "metadata": {},
   "source": [
    "nombre_infected       916\n",
    "nombre_sain          2142\n",
    "nombre_exposed        479\n",
    "nombre_recovered    16463\n",
    "Name: 531, dtype: int64"
   ]
  },
  {
   "cell_type": "markdown",
   "id": "b5804fe5",
   "metadata": {},
   "source": [
    "nombre_infected       939\n",
    "nombre_sain          2124\n",
    "nombre_exposed        482\n",
    "nombre_recovered    16455\n",
    "Name: 532, dtype: int64"
   ]
  },
  {
   "cell_type": "markdown",
   "id": "05cdb5a0",
   "metadata": {},
   "source": [
    "nombre_infected       949\n",
    "nombre_sain          2092\n",
    "nombre_exposed        487\n",
    "nombre_recovered    16472\n",
    "Name: 533, dtype: int64"
   ]
  },
  {
   "cell_type": "markdown",
   "id": "68725e5b",
   "metadata": {},
   "source": [
    "nombre_infected       959\n",
    "nombre_sain          2051\n",
    "nombre_exposed        494\n",
    "nombre_recovered    16496\n",
    "Name: 534, dtype: int64"
   ]
  },
  {
   "cell_type": "markdown",
   "id": "dadfc8d2",
   "metadata": {},
   "source": [
    "nombre_infected       999\n",
    "nombre_sain          2039\n",
    "nombre_exposed        484\n",
    "nombre_recovered    16478\n",
    "Name: 535, dtype: int64"
   ]
  },
  {
   "cell_type": "markdown",
   "id": "60fa1ccb",
   "metadata": {},
   "source": [
    "nombre_infected      1014\n",
    "nombre_sain          2028\n",
    "nombre_exposed        477\n",
    "nombre_recovered    16481\n",
    "Name: 536, dtype: int64"
   ]
  },
  {
   "cell_type": "markdown",
   "id": "32ad58ef",
   "metadata": {},
   "source": [
    "nombre_infected      1021\n",
    "nombre_sain          2005\n",
    "nombre_exposed        468\n",
    "nombre_recovered    16506\n",
    "Name: 537, dtype: int64"
   ]
  },
  {
   "cell_type": "markdown",
   "id": "8926645f",
   "metadata": {},
   "source": [
    "nombre_infected      1012\n",
    "nombre_sain          1980\n",
    "nombre_exposed        467\n",
    "nombre_recovered    16541\n",
    "Name: 538, dtype: int64"
   ]
  },
  {
   "cell_type": "markdown",
   "id": "4c16b7d2",
   "metadata": {},
   "source": [
    "nombre_infected      1000\n",
    "nombre_sain          1969\n",
    "nombre_exposed        471\n",
    "nombre_recovered    16560\n",
    "Name: 539, dtype: int64"
   ]
  },
  {
   "cell_type": "markdown",
   "id": "3f47145e",
   "metadata": {},
   "source": [
    "nombre_infected       994\n",
    "nombre_sain          1956\n",
    "nombre_exposed        476\n",
    "nombre_recovered    16574\n",
    "Name: 540, dtype: int64"
   ]
  },
  {
   "cell_type": "markdown",
   "id": "da166172",
   "metadata": {},
   "source": [
    "nombre_infected      1002\n",
    "nombre_sain          1925\n",
    "nombre_exposed        463\n",
    "nombre_recovered    16610\n",
    "Name: 541, dtype: int64"
   ]
  },
  {
   "cell_type": "markdown",
   "id": "1d31c157",
   "metadata": {},
   "source": [
    "nombre_infected      1006\n",
    "nombre_sain          1903\n",
    "nombre_exposed        456\n",
    "nombre_recovered    16635\n",
    "Name: 542, dtype: int64"
   ]
  },
  {
   "cell_type": "markdown",
   "id": "0b3cc82f",
   "metadata": {},
   "source": [
    "nombre_infected       995\n",
    "nombre_sain          1902\n",
    "nombre_exposed        460\n",
    "nombre_recovered    16643\n",
    "Name: 543, dtype: int64"
   ]
  },
  {
   "cell_type": "markdown",
   "id": "40358181",
   "metadata": {},
   "source": [
    "nombre_infected      1002\n",
    "nombre_sain          1868\n",
    "nombre_exposed        452\n",
    "nombre_recovered    16678\n",
    "Name: 544, dtype: int64"
   ]
  },
  {
   "cell_type": "markdown",
   "id": "f6b3f66d",
   "metadata": {},
   "source": [
    "nombre_infected       984\n",
    "nombre_sain          1856\n",
    "nombre_exposed        458\n",
    "nombre_recovered    16702\n",
    "Name: 545, dtype: int64"
   ]
  },
  {
   "cell_type": "markdown",
   "id": "873556ed",
   "metadata": {},
   "source": [
    "nombre_infected       989\n",
    "nombre_sain          1829\n",
    "nombre_exposed        473\n",
    "nombre_recovered    16709\n",
    "Name: 546, dtype: int64"
   ]
  },
  {
   "cell_type": "markdown",
   "id": "d992e478",
   "metadata": {},
   "source": [
    "nombre_infected       955\n",
    "nombre_sain          1811\n",
    "nombre_exposed        489\n",
    "nombre_recovered    16745\n",
    "Name: 547, dtype: int64"
   ]
  },
  {
   "cell_type": "markdown",
   "id": "04b02a26",
   "metadata": {},
   "source": [
    "nombre_infected       941\n",
    "nombre_sain          1805\n",
    "nombre_exposed        506\n",
    "nombre_recovered    16748\n",
    "Name: 548, dtype: int64"
   ]
  },
  {
   "cell_type": "markdown",
   "id": "9b80a811",
   "metadata": {},
   "source": [
    "nombre_infected       962\n",
    "nombre_sain          1808\n",
    "nombre_exposed        483\n",
    "nombre_recovered    16747\n",
    "Name: 549, dtype: int64"
   ]
  },
  {
   "cell_type": "markdown",
   "id": "f4eff60b",
   "metadata": {},
   "source": [
    "nombre_infected       974\n",
    "nombre_sain          1810\n",
    "nombre_exposed        466\n",
    "nombre_recovered    16750\n",
    "Name: 550, dtype: int64"
   ]
  },
  {
   "cell_type": "markdown",
   "id": "87ff813d",
   "metadata": {},
   "source": [
    "nombre_infected       963\n",
    "nombre_sain          1799\n",
    "nombre_exposed        488\n",
    "nombre_recovered    16750\n",
    "Name: 551, dtype: int64"
   ]
  },
  {
   "cell_type": "markdown",
   "id": "a0a3aa5c",
   "metadata": {},
   "source": [
    "nombre_infected       947\n",
    "nombre_sain          1805\n",
    "nombre_exposed        468\n",
    "nombre_recovered    16780\n",
    "Name: 552, dtype: int64"
   ]
  },
  {
   "cell_type": "markdown",
   "id": "c34f2ec8",
   "metadata": {},
   "source": [
    "nombre_infected       954\n",
    "nombre_sain          1834\n",
    "nombre_exposed        425\n",
    "nombre_recovered    16787\n",
    "Name: 553, dtype: int64"
   ]
  },
  {
   "cell_type": "markdown",
   "id": "2adc6974",
   "metadata": {},
   "source": [
    "nombre_infected       956\n",
    "nombre_sain          1825\n",
    "nombre_exposed        425\n",
    "nombre_recovered    16794\n",
    "Name: 554, dtype: int64"
   ]
  },
  {
   "cell_type": "markdown",
   "id": "275a1965",
   "metadata": {},
   "source": [
    "nombre_infected       928\n",
    "nombre_sain          1841\n",
    "nombre_exposed        439\n",
    "nombre_recovered    16792\n",
    "Name: 555, dtype: int64"
   ]
  },
  {
   "cell_type": "markdown",
   "id": "57e8816e",
   "metadata": {},
   "source": [
    "nombre_infected       908\n",
    "nombre_sain          1867\n",
    "nombre_exposed        426\n",
    "nombre_recovered    16799\n",
    "Name: 556, dtype: int64"
   ]
  },
  {
   "cell_type": "markdown",
   "id": "15ad535d",
   "metadata": {},
   "source": [
    "nombre_infected       899\n",
    "nombre_sain          1901\n",
    "nombre_exposed        428\n",
    "nombre_recovered    16772\n",
    "Name: 557, dtype: int64"
   ]
  },
  {
   "cell_type": "markdown",
   "id": "0c9712d0",
   "metadata": {},
   "source": [
    "nombre_infected       876\n",
    "nombre_sain          1912\n",
    "nombre_exposed        441\n",
    "nombre_recovered    16771\n",
    "Name: 558, dtype: int64"
   ]
  },
  {
   "cell_type": "markdown",
   "id": "22a54abd",
   "metadata": {},
   "source": [
    "nombre_infected       871\n",
    "nombre_sain          1947\n",
    "nombre_exposed        422\n",
    "nombre_recovered    16760\n",
    "Name: 559, dtype: int64"
   ]
  },
  {
   "cell_type": "markdown",
   "id": "b09cc7ac",
   "metadata": {},
   "source": [
    "nombre_infected       865\n",
    "nombre_sain          1967\n",
    "nombre_exposed        419\n",
    "nombre_recovered    16749\n",
    "Name: 560, dtype: int64"
   ]
  },
  {
   "cell_type": "markdown",
   "id": "b63df896",
   "metadata": {},
   "source": [
    "nombre_infected       856\n",
    "nombre_sain          1962\n",
    "nombre_exposed        422\n",
    "nombre_recovered    16760\n",
    "Name: 561, dtype: int64"
   ]
  },
  {
   "cell_type": "markdown",
   "id": "751ce578",
   "metadata": {},
   "source": [
    "nombre_infected       852\n",
    "nombre_sain          1972\n",
    "nombre_exposed        435\n",
    "nombre_recovered    16741\n",
    "Name: 562, dtype: int64"
   ]
  },
  {
   "cell_type": "markdown",
   "id": "393dd2c6",
   "metadata": {},
   "source": [
    "nombre_infected       841\n",
    "nombre_sain          1978\n",
    "nombre_exposed        430\n",
    "nombre_recovered    16751\n",
    "Name: 563, dtype: int64"
   ]
  },
  {
   "cell_type": "markdown",
   "id": "6fc47516",
   "metadata": {},
   "source": [
    "nombre_infected       830\n",
    "nombre_sain          1979\n",
    "nombre_exposed        433\n",
    "nombre_recovered    16758\n",
    "Name: 564, dtype: int64"
   ]
  },
  {
   "cell_type": "markdown",
   "id": "19475601",
   "metadata": {},
   "source": [
    "nombre_infected       827\n",
    "nombre_sain          2005\n",
    "nombre_exposed        441\n",
    "nombre_recovered    16727\n",
    "Name: 565, dtype: int64"
   ]
  },
  {
   "cell_type": "markdown",
   "id": "84a7c6c7",
   "metadata": {},
   "source": [
    "nombre_infected       842\n",
    "nombre_sain          2018\n",
    "nombre_exposed        440\n",
    "nombre_recovered    16700\n",
    "Name: 566, dtype: int64"
   ]
  },
  {
   "cell_type": "markdown",
   "id": "350314cc",
   "metadata": {},
   "source": [
    "nombre_infected       832\n",
    "nombre_sain          2040\n",
    "nombre_exposed        430\n",
    "nombre_recovered    16698\n",
    "Name: 567, dtype: int64"
   ]
  },
  {
   "cell_type": "markdown",
   "id": "f57fb116",
   "metadata": {},
   "source": [
    "nombre_infected       825\n",
    "nombre_sain          2064\n",
    "nombre_exposed        448\n",
    "nombre_recovered    16663\n",
    "Name: 568, dtype: int64"
   ]
  },
  {
   "cell_type": "markdown",
   "id": "9afce1f4",
   "metadata": {},
   "source": [
    "nombre_infected       810\n",
    "nombre_sain          2074\n",
    "nombre_exposed        483\n",
    "nombre_recovered    16633\n",
    "Name: 569, dtype: int64"
   ]
  },
  {
   "cell_type": "markdown",
   "id": "a1d3a624",
   "metadata": {},
   "source": [
    "nombre_infected       850\n",
    "nombre_sain          2094\n",
    "nombre_exposed        444\n",
    "nombre_recovered    16612\n",
    "Name: 570, dtype: int64"
   ]
  },
  {
   "cell_type": "markdown",
   "id": "d13253e5",
   "metadata": {},
   "source": [
    "nombre_infected       853\n",
    "nombre_sain          2094\n",
    "nombre_exposed        452\n",
    "nombre_recovered    16601\n",
    "Name: 571, dtype: int64"
   ]
  },
  {
   "cell_type": "markdown",
   "id": "6e9b4890",
   "metadata": {},
   "source": [
    "nombre_infected       855\n",
    "nombre_sain          2093\n",
    "nombre_exposed        473\n",
    "nombre_recovered    16579\n",
    "Name: 572, dtype: int64"
   ]
  },
  {
   "cell_type": "markdown",
   "id": "43ce6cca",
   "metadata": {},
   "source": [
    "nombre_infected       882\n",
    "nombre_sain          2099\n",
    "nombre_exposed        465\n",
    "nombre_recovered    16554\n",
    "Name: 573, dtype: int64"
   ]
  },
  {
   "cell_type": "markdown",
   "id": "c22677a0",
   "metadata": {},
   "source": [
    "nombre_infected       871\n",
    "nombre_sain          2089\n",
    "nombre_exposed        482\n",
    "nombre_recovered    16558\n",
    "Name: 574, dtype: int64"
   ]
  },
  {
   "cell_type": "markdown",
   "id": "c546d19b",
   "metadata": {},
   "source": [
    "nombre_infected       872\n",
    "nombre_sain          2103\n",
    "nombre_exposed        477\n",
    "nombre_recovered    16548\n",
    "Name: 575, dtype: int64"
   ]
  },
  {
   "cell_type": "markdown",
   "id": "6db7c0c8",
   "metadata": {},
   "source": [
    "nombre_infected       875\n",
    "nombre_sain          2143\n",
    "nombre_exposed        462\n",
    "nombre_recovered    16520\n",
    "Name: 576, dtype: int64"
   ]
  },
  {
   "cell_type": "markdown",
   "id": "c1cc5e9d",
   "metadata": {},
   "source": [
    "nombre_infected       896\n",
    "nombre_sain          2126\n",
    "nombre_exposed        469\n",
    "nombre_recovered    16509\n",
    "Name: 577, dtype: int64"
   ]
  },
  {
   "cell_type": "markdown",
   "id": "2650c631",
   "metadata": {},
   "source": [
    "nombre_infected       896\n",
    "nombre_sain          2127\n",
    "nombre_exposed        472\n",
    "nombre_recovered    16505\n",
    "Name: 578, dtype: int64"
   ]
  },
  {
   "cell_type": "markdown",
   "id": "d33b3d5e",
   "metadata": {},
   "source": [
    "nombre_infected       883\n",
    "nombre_sain          2114\n",
    "nombre_exposed        487\n",
    "nombre_recovered    16516\n",
    "Name: 579, dtype: int64"
   ]
  },
  {
   "cell_type": "markdown",
   "id": "d65929a0",
   "metadata": {},
   "source": [
    "nombre_infected       891\n",
    "nombre_sain          2130\n",
    "nombre_exposed        473\n",
    "nombre_recovered    16506\n",
    "Name: 580, dtype: int64"
   ]
  },
  {
   "cell_type": "markdown",
   "id": "688d7525",
   "metadata": {},
   "source": [
    "nombre_infected       894\n",
    "nombre_sain          2156\n",
    "nombre_exposed        474\n",
    "nombre_recovered    16476\n",
    "Name: 581, dtype: int64"
   ]
  },
  {
   "cell_type": "markdown",
   "id": "d7ed0cc0",
   "metadata": {},
   "source": [
    "nombre_infected       882\n",
    "nombre_sain          2165\n",
    "nombre_exposed        478\n",
    "nombre_recovered    16475\n",
    "Name: 582, dtype: int64"
   ]
  },
  {
   "cell_type": "markdown",
   "id": "d5fb867e",
   "metadata": {},
   "source": [
    "nombre_infected       900\n",
    "nombre_sain          2153\n",
    "nombre_exposed        460\n",
    "nombre_recovered    16487\n",
    "Name: 583, dtype: int64"
   ]
  },
  {
   "cell_type": "markdown",
   "id": "efcb91b1",
   "metadata": {},
   "source": [
    "nombre_infected       907\n",
    "nombre_sain          2138\n",
    "nombre_exposed        467\n",
    "nombre_recovered    16488\n",
    "Name: 584, dtype: int64"
   ]
  },
  {
   "cell_type": "markdown",
   "id": "f022dd7f",
   "metadata": {},
   "source": [
    "nombre_infected       915\n",
    "nombre_sain          2154\n",
    "nombre_exposed        458\n",
    "nombre_recovered    16473\n",
    "Name: 585, dtype: int64"
   ]
  },
  {
   "cell_type": "markdown",
   "id": "61144987",
   "metadata": {},
   "source": [
    "nombre_infected       910\n",
    "nombre_sain          2145\n",
    "nombre_exposed        450\n",
    "nombre_recovered    16495\n",
    "Name: 586, dtype: int64"
   ]
  },
  {
   "cell_type": "markdown",
   "id": "3a7a1589",
   "metadata": {},
   "source": [
    "nombre_infected       912\n",
    "nombre_sain          2153\n",
    "nombre_exposed        449\n",
    "nombre_recovered    16486\n",
    "Name: 587, dtype: int64"
   ]
  },
  {
   "cell_type": "markdown",
   "id": "10ea7952",
   "metadata": {},
   "source": [
    "nombre_infected       863\n",
    "nombre_sain          2172\n",
    "nombre_exposed        452\n",
    "nombre_recovered    16513\n",
    "Name: 588, dtype: int64"
   ]
  },
  {
   "cell_type": "markdown",
   "id": "dd0fe60a",
   "metadata": {},
   "source": [
    "nombre_infected       870\n",
    "nombre_sain          2188\n",
    "nombre_exposed        444\n",
    "nombre_recovered    16498\n",
    "Name: 589, dtype: int64"
   ]
  },
  {
   "cell_type": "markdown",
   "id": "5d4564d0",
   "metadata": {},
   "source": [
    "nombre_infected       872\n",
    "nombre_sain          2165\n",
    "nombre_exposed        445\n",
    "nombre_recovered    16518\n",
    "Name: 590, dtype: int64"
   ]
  },
  {
   "cell_type": "markdown",
   "id": "88ac6099",
   "metadata": {},
   "source": [
    "nombre_infected       870\n",
    "nombre_sain          2169\n",
    "nombre_exposed        445\n",
    "nombre_recovered    16516\n",
    "Name: 591, dtype: int64"
   ]
  },
  {
   "cell_type": "markdown",
   "id": "d5e40b09",
   "metadata": {},
   "source": [
    "nombre_infected       876\n",
    "nombre_sain          2171\n",
    "nombre_exposed        457\n",
    "nombre_recovered    16496\n",
    "Name: 592, dtype: int64"
   ]
  },
  {
   "cell_type": "markdown",
   "id": "5e6135cd",
   "metadata": {},
   "source": [
    "nombre_infected       857\n",
    "nombre_sain          2181\n",
    "nombre_exposed        457\n",
    "nombre_recovered    16505\n",
    "Name: 593, dtype: int64"
   ]
  },
  {
   "cell_type": "markdown",
   "id": "c7427a98",
   "metadata": {},
   "source": [
    "nombre_infected       874\n",
    "nombre_sain          2149\n",
    "nombre_exposed        460\n",
    "nombre_recovered    16517\n",
    "Name: 594, dtype: int64"
   ]
  },
  {
   "cell_type": "markdown",
   "id": "f2c0ad03",
   "metadata": {},
   "source": [
    "nombre_infected       864\n",
    "nombre_sain          2133\n",
    "nombre_exposed        485\n",
    "nombre_recovered    16518\n",
    "Name: 595, dtype: int64"
   ]
  },
  {
   "cell_type": "markdown",
   "id": "da6ca643",
   "metadata": {},
   "source": [
    "nombre_infected       860\n",
    "nombre_sain          2125\n",
    "nombre_exposed        496\n",
    "nombre_recovered    16519\n",
    "Name: 596, dtype: int64"
   ]
  },
  {
   "cell_type": "markdown",
   "id": "653dc454",
   "metadata": {},
   "source": [
    "nombre_infected       839\n",
    "nombre_sain          2132\n",
    "nombre_exposed        500\n",
    "nombre_recovered    16529\n",
    "Name: 597, dtype: int64"
   ]
  },
  {
   "cell_type": "markdown",
   "id": "09411623",
   "metadata": {},
   "source": [
    "nombre_infected       850\n",
    "nombre_sain          2140\n",
    "nombre_exposed        470\n",
    "nombre_recovered    16540\n",
    "Name: 598, dtype: int64"
   ]
  },
  {
   "cell_type": "markdown",
   "id": "7fe4bea2",
   "metadata": {},
   "source": [
    "nombre_infected       829\n",
    "nombre_sain          2145\n",
    "nombre_exposed        473\n",
    "nombre_recovered    16553\n",
    "Name: 599, dtype: int64"
   ]
  },
  {
   "cell_type": "markdown",
   "id": "3490786e",
   "metadata": {},
   "source": [
    "nombre_infected       813\n",
    "nombre_sain          2166\n",
    "nombre_exposed        459\n",
    "nombre_recovered    16562\n",
    "Name: 600, dtype: int64"
   ]
  },
  {
   "cell_type": "markdown",
   "id": "511f2153",
   "metadata": {},
   "source": [
    "nombre_infected       813\n",
    "nombre_sain          2184\n",
    "nombre_exposed        453\n",
    "nombre_recovered    16550\n",
    "Name: 601, dtype: int64"
   ]
  },
  {
   "cell_type": "markdown",
   "id": "1ad3ad49",
   "metadata": {},
   "source": [
    "nombre_infected       808\n",
    "nombre_sain          2164\n",
    "nombre_exposed        472\n",
    "nombre_recovered    16556\n",
    "Name: 602, dtype: int64"
   ]
  },
  {
   "cell_type": "markdown",
   "id": "fd1cc6e0",
   "metadata": {},
   "source": [
    "nombre_infected       817\n",
    "nombre_sain          2153\n",
    "nombre_exposed        486\n",
    "nombre_recovered    16544\n",
    "Name: 603, dtype: int64"
   ]
  },
  {
   "cell_type": "markdown",
   "id": "cbffffae",
   "metadata": {},
   "source": [
    "nombre_infected       806\n",
    "nombre_sain          2181\n",
    "nombre_exposed        472\n",
    "nombre_recovered    16541\n",
    "Name: 604, dtype: int64"
   ]
  },
  {
   "cell_type": "markdown",
   "id": "096f776d",
   "metadata": {},
   "source": [
    "nombre_infected       827\n",
    "nombre_sain          2174\n",
    "nombre_exposed        461\n",
    "nombre_recovered    16538\n",
    "Name: 605, dtype: int64"
   ]
  },
  {
   "cell_type": "markdown",
   "id": "ab0a8f70",
   "metadata": {},
   "source": [
    "nombre_infected       846\n",
    "nombre_sain          2165\n",
    "nombre_exposed        476\n",
    "nombre_recovered    16513\n",
    "Name: 606, dtype: int64"
   ]
  },
  {
   "cell_type": "markdown",
   "id": "df5d9d4b",
   "metadata": {},
   "source": [
    "nombre_infected       865\n",
    "nombre_sain          2139\n",
    "nombre_exposed        483\n",
    "nombre_recovered    16513\n",
    "Name: 607, dtype: int64"
   ]
  },
  {
   "cell_type": "markdown",
   "id": "ab17f062",
   "metadata": {},
   "source": [
    "nombre_infected       861\n",
    "nombre_sain          2137\n",
    "nombre_exposed        471\n",
    "nombre_recovered    16531\n",
    "Name: 608, dtype: int64"
   ]
  },
  {
   "cell_type": "markdown",
   "id": "3667cac9",
   "metadata": {},
   "source": [
    "nombre_infected       869\n",
    "nombre_sain          2139\n",
    "nombre_exposed        456\n",
    "nombre_recovered    16536\n",
    "Name: 609, dtype: int64"
   ]
  },
  {
   "cell_type": "markdown",
   "id": "210a9474",
   "metadata": {},
   "source": [
    "nombre_infected       882\n",
    "nombre_sain          2136\n",
    "nombre_exposed        421\n",
    "nombre_recovered    16561\n",
    "Name: 610, dtype: int64"
   ]
  },
  {
   "cell_type": "markdown",
   "id": "bbfd7cd5",
   "metadata": {},
   "source": [
    "nombre_infected       856\n",
    "nombre_sain          2138\n",
    "nombre_exposed        446\n",
    "nombre_recovered    16560\n",
    "Name: 611, dtype: int64"
   ]
  },
  {
   "cell_type": "markdown",
   "id": "83ae9fd9",
   "metadata": {},
   "source": [
    "nombre_infected       840\n",
    "nombre_sain          2141\n",
    "nombre_exposed        444\n",
    "nombre_recovered    16575\n",
    "Name: 612, dtype: int64"
   ]
  },
  {
   "cell_type": "markdown",
   "id": "39d7fd05",
   "metadata": {},
   "source": [
    "nombre_infected       838\n",
    "nombre_sain          2149\n",
    "nombre_exposed        444\n",
    "nombre_recovered    16569\n",
    "Name: 613, dtype: int64"
   ]
  },
  {
   "cell_type": "markdown",
   "id": "98dcae5e",
   "metadata": {},
   "source": [
    "nombre_infected       847\n",
    "nombre_sain          2136\n",
    "nombre_exposed        447\n",
    "nombre_recovered    16570\n",
    "Name: 614, dtype: int64"
   ]
  },
  {
   "cell_type": "markdown",
   "id": "733cfce9",
   "metadata": {},
   "source": [
    "nombre_infected       835\n",
    "nombre_sain          2146\n",
    "nombre_exposed        438\n",
    "nombre_recovered    16581\n",
    "Name: 615, dtype: int64"
   ]
  },
  {
   "cell_type": "markdown",
   "id": "00af7920",
   "metadata": {},
   "source": [
    "nombre_infected       841\n",
    "nombre_sain          2131\n",
    "nombre_exposed        439\n",
    "nombre_recovered    16589\n",
    "Name: 616, dtype: int64"
   ]
  },
  {
   "cell_type": "markdown",
   "id": "8e9a517b",
   "metadata": {},
   "source": [
    "nombre_infected       847\n",
    "nombre_sain          2126\n",
    "nombre_exposed        455\n",
    "nombre_recovered    16572\n",
    "Name: 617, dtype: int64"
   ]
  },
  {
   "cell_type": "markdown",
   "id": "38bd2704",
   "metadata": {},
   "source": [
    "nombre_infected       841\n",
    "nombre_sain          2124\n",
    "nombre_exposed        433\n",
    "nombre_recovered    16602\n",
    "Name: 618, dtype: int64"
   ]
  },
  {
   "cell_type": "markdown",
   "id": "34c1c01c",
   "metadata": {},
   "source": [
    "nombre_infected       853\n",
    "nombre_sain          2120\n",
    "nombre_exposed        444\n",
    "nombre_recovered    16583\n",
    "Name: 619, dtype: int64"
   ]
  },
  {
   "cell_type": "markdown",
   "id": "dfa6a65d",
   "metadata": {},
   "source": [
    "nombre_infected       843\n",
    "nombre_sain          2131\n",
    "nombre_exposed        427\n",
    "nombre_recovered    16599\n",
    "Name: 620, dtype: int64"
   ]
  },
  {
   "cell_type": "markdown",
   "id": "dd03296c",
   "metadata": {},
   "source": [
    "nombre_infected       828\n",
    "nombre_sain          2105\n",
    "nombre_exposed        458\n",
    "nombre_recovered    16609\n",
    "Name: 621, dtype: int64"
   ]
  },
  {
   "cell_type": "markdown",
   "id": "c12a97eb",
   "metadata": {},
   "source": [
    "nombre_infected       803\n",
    "nombre_sain          2094\n",
    "nombre_exposed        462\n",
    "nombre_recovered    16641\n",
    "Name: 622, dtype: int64"
   ]
  },
  {
   "cell_type": "markdown",
   "id": "9ed1d8e9",
   "metadata": {},
   "source": [
    "nombre_infected       802\n",
    "nombre_sain          2130\n",
    "nombre_exposed        439\n",
    "nombre_recovered    16629\n",
    "Name: 623, dtype: int64"
   ]
  },
  {
   "cell_type": "markdown",
   "id": "1c713d71",
   "metadata": {},
   "source": [
    "nombre_infected       826\n",
    "nombre_sain          2137\n",
    "nombre_exposed        429\n",
    "nombre_recovered    16608\n",
    "Name: 624, dtype: int64"
   ]
  },
  {
   "cell_type": "markdown",
   "id": "de971c6d",
   "metadata": {},
   "source": [
    "nombre_infected       818\n",
    "nombre_sain          2147\n",
    "nombre_exposed        427\n",
    "nombre_recovered    16608\n",
    "Name: 625, dtype: int64"
   ]
  },
  {
   "cell_type": "markdown",
   "id": "62fa3904",
   "metadata": {},
   "source": [
    "nombre_infected       814\n",
    "nombre_sain          2156\n",
    "nombre_exposed        401\n",
    "nombre_recovered    16629\n",
    "Name: 626, dtype: int64"
   ]
  },
  {
   "cell_type": "markdown",
   "id": "05110a61",
   "metadata": {},
   "source": [
    "nombre_infected       827\n",
    "nombre_sain          2166\n",
    "nombre_exposed        406\n",
    "nombre_recovered    16601\n",
    "Name: 627, dtype: int64"
   ]
  },
  {
   "cell_type": "markdown",
   "id": "3acbcb0f",
   "metadata": {},
   "source": [
    "nombre_infected       823\n",
    "nombre_sain          2177\n",
    "nombre_exposed        408\n",
    "nombre_recovered    16592\n",
    "Name: 628, dtype: int64"
   ]
  },
  {
   "cell_type": "markdown",
   "id": "be0b8a59",
   "metadata": {},
   "source": [
    "nombre_infected       819\n",
    "nombre_sain          2177\n",
    "nombre_exposed        421\n",
    "nombre_recovered    16583\n",
    "Name: 629, dtype: int64"
   ]
  },
  {
   "cell_type": "markdown",
   "id": "197a48b5",
   "metadata": {},
   "source": [
    "nombre_infected       822\n",
    "nombre_sain          2193\n",
    "nombre_exposed        419\n",
    "nombre_recovered    16566\n",
    "Name: 630, dtype: int64"
   ]
  },
  {
   "cell_type": "markdown",
   "id": "cebdf1aa",
   "metadata": {},
   "source": [
    "nombre_infected       833\n",
    "nombre_sain          2187\n",
    "nombre_exposed        403\n",
    "nombre_recovered    16577\n",
    "Name: 631, dtype: int64"
   ]
  },
  {
   "cell_type": "markdown",
   "id": "8151ac2e",
   "metadata": {},
   "source": [
    "nombre_infected       840\n",
    "nombre_sain          2177\n",
    "nombre_exposed        412\n",
    "nombre_recovered    16571\n",
    "Name: 632, dtype: int64"
   ]
  },
  {
   "cell_type": "markdown",
   "id": "17148c3b",
   "metadata": {},
   "source": [
    "nombre_infected       818\n",
    "nombre_sain          2177\n",
    "nombre_exposed        427\n",
    "nombre_recovered    16578\n",
    "Name: 633, dtype: int64"
   ]
  },
  {
   "cell_type": "markdown",
   "id": "ea1d5654",
   "metadata": {},
   "source": [
    "nombre_infected       815\n",
    "nombre_sain          2198\n",
    "nombre_exposed        409\n",
    "nombre_recovered    16578\n",
    "Name: 634, dtype: int64"
   ]
  },
  {
   "cell_type": "markdown",
   "id": "99f3f981",
   "metadata": {},
   "source": [
    "nombre_infected       796\n",
    "nombre_sain          2206\n",
    "nombre_exposed        422\n",
    "nombre_recovered    16576\n",
    "Name: 635, dtype: int64"
   ]
  },
  {
   "cell_type": "markdown",
   "id": "9edd9f05",
   "metadata": {},
   "source": [
    "nombre_infected       793\n",
    "nombre_sain          2215\n",
    "nombre_exposed        424\n",
    "nombre_recovered    16568\n",
    "Name: 636, dtype: int64"
   ]
  },
  {
   "cell_type": "markdown",
   "id": "446f0d83",
   "metadata": {},
   "source": [
    "nombre_infected       796\n",
    "nombre_sain          2220\n",
    "nombre_exposed        425\n",
    "nombre_recovered    16559\n",
    "Name: 637, dtype: int64"
   ]
  },
  {
   "cell_type": "markdown",
   "id": "29f02ea3",
   "metadata": {},
   "source": [
    "nombre_infected       797\n",
    "nombre_sain          2245\n",
    "nombre_exposed        419\n",
    "nombre_recovered    16539\n",
    "Name: 638, dtype: int64"
   ]
  },
  {
   "cell_type": "markdown",
   "id": "af07d6bf",
   "metadata": {},
   "source": [
    "nombre_infected       798\n",
    "nombre_sain          2245\n",
    "nombre_exposed        418\n",
    "nombre_recovered    16539\n",
    "Name: 639, dtype: int64"
   ]
  },
  {
   "cell_type": "markdown",
   "id": "b866d3ca",
   "metadata": {},
   "source": [
    "nombre_infected       797\n",
    "nombre_sain          2228\n",
    "nombre_exposed        435\n",
    "nombre_recovered    16540\n",
    "Name: 640, dtype: int64"
   ]
  },
  {
   "cell_type": "markdown",
   "id": "1639f943",
   "metadata": {},
   "source": [
    "nombre_infected       803\n",
    "nombre_sain          2235\n",
    "nombre_exposed        452\n",
    "nombre_recovered    16510\n",
    "Name: 641, dtype: int64"
   ]
  },
  {
   "cell_type": "markdown",
   "id": "cfe41d83",
   "metadata": {},
   "source": [
    "nombre_infected       794\n",
    "nombre_sain          2250\n",
    "nombre_exposed        450\n",
    "nombre_recovered    16506\n",
    "Name: 642, dtype: int64"
   ]
  },
  {
   "cell_type": "markdown",
   "id": "0ad94684",
   "metadata": {},
   "source": [
    "nombre_infected       790\n",
    "nombre_sain          2285\n",
    "nombre_exposed        439\n",
    "nombre_recovered    16486\n",
    "Name: 643, dtype: int64"
   ]
  },
  {
   "cell_type": "markdown",
   "id": "ac646741",
   "metadata": {},
   "source": [
    "nombre_infected       796\n",
    "nombre_sain          2277\n",
    "nombre_exposed        459\n",
    "nombre_recovered    16468\n",
    "Name: 644, dtype: int64"
   ]
  },
  {
   "cell_type": "markdown",
   "id": "56706309",
   "metadata": {},
   "source": [
    "nombre_infected       800\n",
    "nombre_sain          2272\n",
    "nombre_exposed        475\n",
    "nombre_recovered    16453\n",
    "Name: 645, dtype: int64"
   ]
  },
  {
   "cell_type": "markdown",
   "id": "f3ac1aec",
   "metadata": {},
   "source": [
    "nombre_infected       817\n",
    "nombre_sain          2280\n",
    "nombre_exposed        472\n",
    "nombre_recovered    16431\n",
    "Name: 646, dtype: int64"
   ]
  },
  {
   "cell_type": "markdown",
   "id": "ca3cb99e",
   "metadata": {},
   "source": [
    "nombre_infected       867\n",
    "nombre_sain          2276\n",
    "nombre_exposed        448\n",
    "nombre_recovered    16409\n",
    "Name: 647, dtype: int64"
   ]
  },
  {
   "cell_type": "markdown",
   "id": "e084283f",
   "metadata": {},
   "source": [
    "nombre_infected       872\n",
    "nombre_sain          2303\n",
    "nombre_exposed        439\n",
    "nombre_recovered    16386\n",
    "Name: 648, dtype: int64"
   ]
  },
  {
   "cell_type": "markdown",
   "id": "acb9785a",
   "metadata": {},
   "source": [
    "nombre_infected       863\n",
    "nombre_sain          2300\n",
    "nombre_exposed        442\n",
    "nombre_recovered    16395\n",
    "Name: 649, dtype: int64"
   ]
  },
  {
   "cell_type": "markdown",
   "id": "7f31e1e3",
   "metadata": {},
   "source": [
    "nombre_infected       870\n",
    "nombre_sain          2305\n",
    "nombre_exposed        442\n",
    "nombre_recovered    16383\n",
    "Name: 650, dtype: int64"
   ]
  },
  {
   "cell_type": "markdown",
   "id": "79bdade9",
   "metadata": {},
   "source": [
    "nombre_infected       859\n",
    "nombre_sain          2305\n",
    "nombre_exposed        452\n",
    "nombre_recovered    16384\n",
    "Name: 651, dtype: int64"
   ]
  },
  {
   "cell_type": "markdown",
   "id": "4464d2e2",
   "metadata": {},
   "source": [
    "nombre_infected       858\n",
    "nombre_sain          2291\n",
    "nombre_exposed        473\n",
    "nombre_recovered    16378\n",
    "Name: 652, dtype: int64"
   ]
  },
  {
   "cell_type": "markdown",
   "id": "e9cb1ca9",
   "metadata": {},
   "source": [
    "nombre_infected       859\n",
    "nombre_sain          2286\n",
    "nombre_exposed        471\n",
    "nombre_recovered    16384\n",
    "Name: 653, dtype: int64"
   ]
  },
  {
   "cell_type": "markdown",
   "id": "d37b29ea",
   "metadata": {},
   "source": [
    "nombre_infected       859\n",
    "nombre_sain          2290\n",
    "nombre_exposed        474\n",
    "nombre_recovered    16377\n",
    "Name: 654, dtype: int64"
   ]
  },
  {
   "cell_type": "markdown",
   "id": "6d649214",
   "metadata": {},
   "source": [
    "nombre_infected       849\n",
    "nombre_sain          2306\n",
    "nombre_exposed        469\n",
    "nombre_recovered    16376\n",
    "Name: 655, dtype: int64"
   ]
  },
  {
   "cell_type": "markdown",
   "id": "fc4a552e",
   "metadata": {},
   "source": [
    "nombre_infected       855\n",
    "nombre_sain          2284\n",
    "nombre_exposed        483\n",
    "nombre_recovered    16378\n",
    "Name: 656, dtype: int64"
   ]
  },
  {
   "cell_type": "markdown",
   "id": "b70615ed",
   "metadata": {},
   "source": [
    "nombre_infected       864\n",
    "nombre_sain          2264\n",
    "nombre_exposed        489\n",
    "nombre_recovered    16383\n",
    "Name: 657, dtype: int64"
   ]
  },
  {
   "cell_type": "markdown",
   "id": "7cd4470e",
   "metadata": {},
   "source": [
    "nombre_infected       875\n",
    "nombre_sain          2257\n",
    "nombre_exposed        497\n",
    "nombre_recovered    16371\n",
    "Name: 658, dtype: int64"
   ]
  },
  {
   "cell_type": "markdown",
   "id": "0d856ef9",
   "metadata": {},
   "source": [
    "nombre_infected       875\n",
    "nombre_sain          2262\n",
    "nombre_exposed        499\n",
    "nombre_recovered    16364\n",
    "Name: 659, dtype: int64"
   ]
  },
  {
   "cell_type": "markdown",
   "id": "15faf2fc",
   "metadata": {},
   "source": [
    "nombre_infected       896\n",
    "nombre_sain          2268\n",
    "nombre_exposed        479\n",
    "nombre_recovered    16357\n",
    "Name: 660, dtype: int64"
   ]
  },
  {
   "cell_type": "markdown",
   "id": "179e4781",
   "metadata": {},
   "source": [
    "nombre_infected       892\n",
    "nombre_sain          2275\n",
    "nombre_exposed        477\n",
    "nombre_recovered    16356\n",
    "Name: 661, dtype: int64"
   ]
  },
  {
   "cell_type": "markdown",
   "id": "6d51124c",
   "metadata": {},
   "source": [
    "nombre_infected       898\n",
    "nombre_sain          2289\n",
    "nombre_exposed        473\n",
    "nombre_recovered    16340\n",
    "Name: 662, dtype: int64"
   ]
  },
  {
   "cell_type": "markdown",
   "id": "34de947f",
   "metadata": {},
   "source": [
    "nombre_infected       908\n",
    "nombre_sain          2289\n",
    "nombre_exposed        479\n",
    "nombre_recovered    16324\n",
    "Name: 663, dtype: int64"
   ]
  },
  {
   "cell_type": "markdown",
   "id": "96d2ee05",
   "metadata": {},
   "source": [
    "nombre_infected       904\n",
    "nombre_sain          2294\n",
    "nombre_exposed        489\n",
    "nombre_recovered    16313\n",
    "Name: 664, dtype: int64"
   ]
  },
  {
   "cell_type": "markdown",
   "id": "5e11ca90",
   "metadata": {},
   "source": [
    "nombre_infected       906\n",
    "nombre_sain          2291\n",
    "nombre_exposed        501\n",
    "nombre_recovered    16302\n",
    "Name: 665, dtype: int64"
   ]
  },
  {
   "cell_type": "markdown",
   "id": "a9d54823",
   "metadata": {},
   "source": [
    "nombre_infected       905\n",
    "nombre_sain          2290\n",
    "nombre_exposed        518\n",
    "nombre_recovered    16287\n",
    "Name: 666, dtype: int64"
   ]
  },
  {
   "cell_type": "markdown",
   "id": "998eb7b6",
   "metadata": {},
   "source": [
    "nombre_infected       917\n",
    "nombre_sain          2284\n",
    "nombre_exposed        523\n",
    "nombre_recovered    16276\n",
    "Name: 667, dtype: int64"
   ]
  },
  {
   "cell_type": "markdown",
   "id": "b31fa714",
   "metadata": {},
   "source": [
    "nombre_infected       913\n",
    "nombre_sain          2283\n",
    "nombre_exposed        515\n",
    "nombre_recovered    16289\n",
    "Name: 668, dtype: int64"
   ]
  },
  {
   "cell_type": "markdown",
   "id": "8d336655",
   "metadata": {},
   "source": [
    "nombre_infected       925\n",
    "nombre_sain          2286\n",
    "nombre_exposed        496\n",
    "nombre_recovered    16293\n",
    "Name: 669, dtype: int64"
   ]
  },
  {
   "cell_type": "markdown",
   "id": "4736fa9a",
   "metadata": {},
   "source": [
    "nombre_infected       923\n",
    "nombre_sain          2287\n",
    "nombre_exposed        490\n",
    "nombre_recovered    16300\n",
    "Name: 670, dtype: int64"
   ]
  },
  {
   "cell_type": "markdown",
   "id": "8fce7c6b",
   "metadata": {},
   "source": [
    "nombre_infected       903\n",
    "nombre_sain          2281\n",
    "nombre_exposed        507\n",
    "nombre_recovered    16309\n",
    "Name: 671, dtype: int64"
   ]
  },
  {
   "cell_type": "markdown",
   "id": "f4d7ee30",
   "metadata": {},
   "source": [
    "nombre_infected       881\n",
    "nombre_sain          2278\n",
    "nombre_exposed        528\n",
    "nombre_recovered    16313\n",
    "Name: 672, dtype: int64"
   ]
  },
  {
   "cell_type": "markdown",
   "id": "35052404",
   "metadata": {},
   "source": [
    "nombre_infected       887\n",
    "nombre_sain          2273\n",
    "nombre_exposed        520\n",
    "nombre_recovered    16320\n",
    "Name: 673, dtype: int64"
   ]
  },
  {
   "cell_type": "markdown",
   "id": "87fc5374",
   "metadata": {},
   "source": [
    "nombre_infected       902\n",
    "nombre_sain          2284\n",
    "nombre_exposed        489\n",
    "nombre_recovered    16325\n",
    "Name: 674, dtype: int64"
   ]
  },
  {
   "cell_type": "markdown",
   "id": "190c54f3",
   "metadata": {},
   "source": [
    "nombre_infected       909\n",
    "nombre_sain          2282\n",
    "nombre_exposed        483\n",
    "nombre_recovered    16326\n",
    "Name: 675, dtype: int64"
   ]
  },
  {
   "cell_type": "markdown",
   "id": "8b5760f6",
   "metadata": {},
   "source": [
    "nombre_infected       897\n",
    "nombre_sain          2275\n",
    "nombre_exposed        492\n",
    "nombre_recovered    16336\n",
    "Name: 676, dtype: int64"
   ]
  },
  {
   "cell_type": "markdown",
   "id": "910d6970",
   "metadata": {},
   "source": [
    "nombre_infected       874\n",
    "nombre_sain          2270\n",
    "nombre_exposed        493\n",
    "nombre_recovered    16363\n",
    "Name: 677, dtype: int64"
   ]
  },
  {
   "cell_type": "markdown",
   "id": "60e13725",
   "metadata": {},
   "source": [
    "nombre_infected       862\n",
    "nombre_sain          2283\n",
    "nombre_exposed        485\n",
    "nombre_recovered    16370\n",
    "Name: 678, dtype: int64"
   ]
  },
  {
   "cell_type": "markdown",
   "id": "9821752d",
   "metadata": {},
   "source": [
    "nombre_infected       869\n",
    "nombre_sain          2273\n",
    "nombre_exposed        470\n",
    "nombre_recovered    16388\n",
    "Name: 679, dtype: int64"
   ]
  },
  {
   "cell_type": "markdown",
   "id": "50b7f2c3",
   "metadata": {},
   "source": [
    "nombre_infected       869\n",
    "nombre_sain          2259\n",
    "nombre_exposed        466\n",
    "nombre_recovered    16406\n",
    "Name: 680, dtype: int64"
   ]
  },
  {
   "cell_type": "markdown",
   "id": "d23ea9f8",
   "metadata": {},
   "source": [
    "nombre_infected       865\n",
    "nombre_sain          2252\n",
    "nombre_exposed        462\n",
    "nombre_recovered    16421\n",
    "Name: 681, dtype: int64"
   ]
  },
  {
   "cell_type": "markdown",
   "id": "f3633413",
   "metadata": {},
   "source": [
    "nombre_infected       867\n",
    "nombre_sain          2279\n",
    "nombre_exposed        458\n",
    "nombre_recovered    16396\n",
    "Name: 682, dtype: int64"
   ]
  },
  {
   "cell_type": "markdown",
   "id": "5b5efac2",
   "metadata": {},
   "source": [
    "nombre_infected       847\n",
    "nombre_sain          2286\n",
    "nombre_exposed        451\n",
    "nombre_recovered    16416\n",
    "Name: 683, dtype: int64"
   ]
  },
  {
   "cell_type": "markdown",
   "id": "e62f147c",
   "metadata": {},
   "source": [
    "nombre_infected       842\n",
    "nombre_sain          2300\n",
    "nombre_exposed        451\n",
    "nombre_recovered    16407\n",
    "Name: 684, dtype: int64"
   ]
  },
  {
   "cell_type": "markdown",
   "id": "06fa3c7a",
   "metadata": {},
   "source": [
    "nombre_infected       834\n",
    "nombre_sain          2344\n",
    "nombre_exposed        428\n",
    "nombre_recovered    16394\n",
    "Name: 685, dtype: int64"
   ]
  },
  {
   "cell_type": "markdown",
   "id": "4e520d52",
   "metadata": {},
   "source": [
    "nombre_infected       820\n",
    "nombre_sain          2351\n",
    "nombre_exposed        432\n",
    "nombre_recovered    16397\n",
    "Name: 686, dtype: int64"
   ]
  },
  {
   "cell_type": "markdown",
   "id": "b8fc8783",
   "metadata": {},
   "source": [
    "nombre_infected       786\n",
    "nombre_sain          2363\n",
    "nombre_exposed        465\n",
    "nombre_recovered    16386\n",
    "Name: 687, dtype: int64"
   ]
  },
  {
   "cell_type": "markdown",
   "id": "3925d836",
   "metadata": {},
   "source": [
    "nombre_infected       767\n",
    "nombre_sain          2375\n",
    "nombre_exposed        490\n",
    "nombre_recovered    16368\n",
    "Name: 688, dtype: int64"
   ]
  },
  {
   "cell_type": "markdown",
   "id": "57a84a6c",
   "metadata": {},
   "source": [
    "nombre_infected       771\n",
    "nombre_sain          2371\n",
    "nombre_exposed        496\n",
    "nombre_recovered    16362\n",
    "Name: 689, dtype: int64"
   ]
  },
  {
   "cell_type": "markdown",
   "id": "353eae46",
   "metadata": {},
   "source": [
    "nombre_infected       777\n",
    "nombre_sain          2383\n",
    "nombre_exposed        476\n",
    "nombre_recovered    16364\n",
    "Name: 690, dtype: int64"
   ]
  },
  {
   "cell_type": "markdown",
   "id": "fd8e271c",
   "metadata": {},
   "source": [
    "nombre_infected       809\n",
    "nombre_sain          2373\n",
    "nombre_exposed        470\n",
    "nombre_recovered    16348\n",
    "Name: 691, dtype: int64"
   ]
  },
  {
   "cell_type": "markdown",
   "id": "91b111ad",
   "metadata": {},
   "source": [
    "nombre_infected       801\n",
    "nombre_sain          2373\n",
    "nombre_exposed        477\n",
    "nombre_recovered    16349\n",
    "Name: 692, dtype: int64"
   ]
  },
  {
   "cell_type": "markdown",
   "id": "627c1b06",
   "metadata": {},
   "source": [
    "nombre_infected       806\n",
    "nombre_sain          2407\n",
    "nombre_exposed        461\n",
    "nombre_recovered    16326\n",
    "Name: 693, dtype: int64"
   ]
  },
  {
   "cell_type": "markdown",
   "id": "bf3979f1",
   "metadata": {},
   "source": [
    "nombre_infected       805\n",
    "nombre_sain          2381\n",
    "nombre_exposed        465\n",
    "nombre_recovered    16349\n",
    "Name: 694, dtype: int64"
   ]
  },
  {
   "cell_type": "markdown",
   "id": "cd283d3c",
   "metadata": {},
   "source": [
    "nombre_infected       807\n",
    "nombre_sain          2377\n",
    "nombre_exposed        467\n",
    "nombre_recovered    16349\n",
    "Name: 695, dtype: int64"
   ]
  },
  {
   "cell_type": "markdown",
   "id": "7418eb64",
   "metadata": {},
   "source": [
    "nombre_infected       803\n",
    "nombre_sain          2392\n",
    "nombre_exposed        492\n",
    "nombre_recovered    16313\n",
    "Name: 696, dtype: int64"
   ]
  },
  {
   "cell_type": "markdown",
   "id": "c0d7d4a6",
   "metadata": {},
   "source": [
    "nombre_infected       801\n",
    "nombre_sain          2390\n",
    "nombre_exposed        504\n",
    "nombre_recovered    16305\n",
    "Name: 697, dtype: int64"
   ]
  },
  {
   "cell_type": "markdown",
   "id": "5f3b1823",
   "metadata": {},
   "source": [
    "nombre_infected       813\n",
    "nombre_sain          2385\n",
    "nombre_exposed        485\n",
    "nombre_recovered    16317\n",
    "Name: 698, dtype: int64"
   ]
  },
  {
   "cell_type": "markdown",
   "id": "71ff8027",
   "metadata": {},
   "source": [
    "nombre_infected       828\n",
    "nombre_sain          2410\n",
    "nombre_exposed        473\n",
    "nombre_recovered    16289\n",
    "Name: 699, dtype: int64"
   ]
  },
  {
   "cell_type": "markdown",
   "id": "dc44eddd",
   "metadata": {},
   "source": [
    "nombre_infected       821\n",
    "nombre_sain          2431\n",
    "nombre_exposed        477\n",
    "nombre_recovered    16271\n",
    "Name: 700, dtype: int64"
   ]
  },
  {
   "cell_type": "markdown",
   "id": "9bbd9324",
   "metadata": {},
   "source": [
    "nombre_infected       831\n",
    "nombre_sain          2432\n",
    "nombre_exposed        466\n",
    "nombre_recovered    16271\n",
    "Name: 701, dtype: int64"
   ]
  },
  {
   "cell_type": "markdown",
   "id": "09a3eac4",
   "metadata": {},
   "source": [
    "nombre_infected       819\n",
    "nombre_sain          2410\n",
    "nombre_exposed        497\n",
    "nombre_recovered    16274\n",
    "Name: 702, dtype: int64"
   ]
  },
  {
   "cell_type": "markdown",
   "id": "a67e2a60",
   "metadata": {},
   "source": [
    "nombre_infected       792\n",
    "nombre_sain          2422\n",
    "nombre_exposed        532\n",
    "nombre_recovered    16254\n",
    "Name: 703, dtype: int64"
   ]
  },
  {
   "cell_type": "markdown",
   "id": "ea8c9f0d",
   "metadata": {},
   "source": [
    "nombre_infected       789\n",
    "nombre_sain          2426\n",
    "nombre_exposed        517\n",
    "nombre_recovered    16268\n",
    "Name: 704, dtype: int64"
   ]
  },
  {
   "cell_type": "markdown",
   "id": "d60d20a0",
   "metadata": {},
   "source": [
    "nombre_infected       814\n",
    "nombre_sain          2447\n",
    "nombre_exposed        493\n",
    "nombre_recovered    16246\n",
    "Name: 705, dtype: int64"
   ]
  },
  {
   "cell_type": "markdown",
   "id": "6d4d4dfe",
   "metadata": {},
   "source": [
    "nombre_infected       829\n",
    "nombre_sain          2443\n",
    "nombre_exposed        492\n",
    "nombre_recovered    16236\n",
    "Name: 706, dtype: int64"
   ]
  },
  {
   "cell_type": "markdown",
   "id": "4e32938b",
   "metadata": {},
   "source": [
    "nombre_infected       837\n",
    "nombre_sain          2441\n",
    "nombre_exposed        508\n",
    "nombre_recovered    16214\n",
    "Name: 707, dtype: int64"
   ]
  },
  {
   "cell_type": "markdown",
   "id": "f332d67f",
   "metadata": {},
   "source": [
    "nombre_infected       816\n",
    "nombre_sain          2427\n",
    "nombre_exposed        530\n",
    "nombre_recovered    16227\n",
    "Name: 708, dtype: int64"
   ]
  },
  {
   "cell_type": "markdown",
   "id": "421db53f",
   "metadata": {},
   "source": [
    "nombre_infected       841\n",
    "nombre_sain          2442\n",
    "nombre_exposed        520\n",
    "nombre_recovered    16197\n",
    "Name: 709, dtype: int64"
   ]
  },
  {
   "cell_type": "markdown",
   "id": "c53374c7",
   "metadata": {},
   "source": [
    "nombre_infected       838\n",
    "nombre_sain          2432\n",
    "nombre_exposed        529\n",
    "nombre_recovered    16201\n",
    "Name: 710, dtype: int64"
   ]
  },
  {
   "cell_type": "markdown",
   "id": "7dc0ddac",
   "metadata": {},
   "source": [
    "nombre_infected       844\n",
    "nombre_sain          2425\n",
    "nombre_exposed        532\n",
    "nombre_recovered    16199\n",
    "Name: 711, dtype: int64"
   ]
  },
  {
   "cell_type": "markdown",
   "id": "0c824864",
   "metadata": {},
   "source": [
    "nombre_infected       835\n",
    "nombre_sain          2421\n",
    "nombre_exposed        551\n",
    "nombre_recovered    16193\n",
    "Name: 712, dtype: int64"
   ]
  },
  {
   "cell_type": "markdown",
   "id": "bd9b74ee",
   "metadata": {},
   "source": [
    "nombre_infected       867\n",
    "nombre_sain          2420\n",
    "nombre_exposed        549\n",
    "nombre_recovered    16164\n",
    "Name: 713, dtype: int64"
   ]
  },
  {
   "cell_type": "markdown",
   "id": "732999a7",
   "metadata": {},
   "source": [
    "nombre_infected       859\n",
    "nombre_sain          2442\n",
    "nombre_exposed        543\n",
    "nombre_recovered    16156\n",
    "Name: 714, dtype: int64"
   ]
  },
  {
   "cell_type": "markdown",
   "id": "49471dc2",
   "metadata": {},
   "source": [
    "nombre_infected       876\n",
    "nombre_sain          2426\n",
    "nombre_exposed        532\n",
    "nombre_recovered    16166\n",
    "Name: 715, dtype: int64"
   ]
  },
  {
   "cell_type": "markdown",
   "id": "0a4ef1a5",
   "metadata": {},
   "source": [
    "nombre_infected       868\n",
    "nombre_sain          2419\n",
    "nombre_exposed        548\n",
    "nombre_recovered    16165\n",
    "Name: 716, dtype: int64"
   ]
  },
  {
   "cell_type": "markdown",
   "id": "2c8a7df9",
   "metadata": {},
   "source": [
    "nombre_infected       878\n",
    "nombre_sain          2420\n",
    "nombre_exposed        559\n",
    "nombre_recovered    16143\n",
    "Name: 717, dtype: int64"
   ]
  },
  {
   "cell_type": "markdown",
   "id": "c9ccd508",
   "metadata": {},
   "source": [
    "nombre_infected       893\n",
    "nombre_sain          2418\n",
    "nombre_exposed        549\n",
    "nombre_recovered    16140\n",
    "Name: 718, dtype: int64"
   ]
  },
  {
   "cell_type": "markdown",
   "id": "54502660",
   "metadata": {},
   "source": [
    "nombre_infected       906\n",
    "nombre_sain          2453\n",
    "nombre_exposed        552\n",
    "nombre_recovered    16089\n",
    "Name: 719, dtype: int64"
   ]
  },
  {
   "cell_type": "markdown",
   "id": "bbfd9c25",
   "metadata": {},
   "source": [
    "nombre_infected       904\n",
    "nombre_sain          2445\n",
    "nombre_exposed        557\n",
    "nombre_recovered    16094\n",
    "Name: 720, dtype: int64"
   ]
  },
  {
   "cell_type": "markdown",
   "id": "47c0275e",
   "metadata": {},
   "source": [
    "nombre_infected       900\n",
    "nombre_sain          2420\n",
    "nombre_exposed        565\n",
    "nombre_recovered    16115\n",
    "Name: 721, dtype: int64"
   ]
  },
  {
   "cell_type": "markdown",
   "id": "d6429168",
   "metadata": {},
   "source": [
    "nombre_infected       898\n",
    "nombre_sain          2391\n",
    "nombre_exposed        579\n",
    "nombre_recovered    16132\n",
    "Name: 722, dtype: int64"
   ]
  },
  {
   "cell_type": "markdown",
   "id": "d77fabfd",
   "metadata": {},
   "source": [
    "nombre_infected       936\n",
    "nombre_sain          2377\n",
    "nombre_exposed        574\n",
    "nombre_recovered    16113\n",
    "Name: 723, dtype: int64"
   ]
  },
  {
   "cell_type": "markdown",
   "id": "8e89d545",
   "metadata": {},
   "source": [
    "nombre_infected       952\n",
    "nombre_sain          2373\n",
    "nombre_exposed        573\n",
    "nombre_recovered    16102\n",
    "Name: 724, dtype: int64"
   ]
  },
  {
   "cell_type": "markdown",
   "id": "29e9ef43",
   "metadata": {},
   "source": [
    "nombre_infected       941\n",
    "nombre_sain          2363\n",
    "nombre_exposed        588\n",
    "nombre_recovered    16108\n",
    "Name: 725, dtype: int64"
   ]
  },
  {
   "cell_type": "markdown",
   "id": "4d9cf9f6",
   "metadata": {},
   "source": [
    "nombre_infected       939\n",
    "nombre_sain          2350\n",
    "nombre_exposed        576\n",
    "nombre_recovered    16135\n",
    "Name: 726, dtype: int64"
   ]
  },
  {
   "cell_type": "markdown",
   "id": "b5c29001",
   "metadata": {},
   "source": [
    "nombre_infected       958\n",
    "nombre_sain          2312\n",
    "nombre_exposed        601\n",
    "nombre_recovered    16129\n",
    "Name: 727, dtype: int64"
   ]
  },
  {
   "cell_type": "markdown",
   "id": "68ad23a4",
   "metadata": {},
   "source": [
    "nombre_infected       966\n",
    "nombre_sain          2298\n",
    "nombre_exposed        609\n",
    "nombre_recovered    16127\n",
    "Name: 728, dtype: int64"
   ]
  },
  {
   "cell_type": "markdown",
   "id": "2ceb4270",
   "metadata": {},
   "source": [
    "nombre_infected       970\n",
    "nombre_sain          2286\n",
    "nombre_exposed        603\n",
    "nombre_recovered    16141\n",
    "Name: 729, dtype: int64"
   ]
  },
  {
   "cell_type": "markdown",
   "id": "7d68c98b",
   "metadata": {},
   "source": [
    "nombre_infected       954\n",
    "nombre_sain          2273\n",
    "nombre_exposed        614\n",
    "nombre_recovered    16159\n",
    "Name: 730, dtype: int64"
   ]
  }
 ],
 "metadata": {},
 "nbformat": 4,
 "nbformat_minor": 5
}
