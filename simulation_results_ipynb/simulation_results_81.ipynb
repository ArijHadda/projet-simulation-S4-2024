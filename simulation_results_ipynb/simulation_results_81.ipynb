{
 "cells": [
  {
   "cell_type": "markdown",
   "id": "243d3246",
   "metadata": {},
   "source": [
    "nombre_infected        20\n",
    "nombre_sain         19980\n",
    "nombre_exposed          0\n",
    "nombre_recovered        0\n",
    "Name: 0, dtype: int64"
   ]
  },
  {
   "cell_type": "markdown",
   "id": "e8903094",
   "metadata": {},
   "source": [
    "nombre_infected        20\n",
    "nombre_sain         19967\n",
    "nombre_exposed         13\n",
    "nombre_recovered        0\n",
    "Name: 1, dtype: int64"
   ]
  },
  {
   "cell_type": "markdown",
   "id": "6a0d1ddd",
   "metadata": {},
   "source": [
    "nombre_infected        10\n",
    "nombre_sain         19952\n",
    "nombre_exposed         28\n",
    "nombre_recovered       10\n",
    "Name: 2, dtype: int64"
   ]
  },
  {
   "cell_type": "markdown",
   "id": "bd7b7cf6",
   "metadata": {},
   "source": [
    "nombre_infected        16\n",
    "nombre_sain         19934\n",
    "nombre_exposed         40\n",
    "nombre_recovered       10\n",
    "Name: 3, dtype: int64"
   ]
  },
  {
   "cell_type": "markdown",
   "id": "7fc5d233",
   "metadata": {},
   "source": [
    "nombre_infected        20\n",
    "nombre_sain         19913\n",
    "nombre_exposed         57\n",
    "nombre_recovered       10\n",
    "Name: 4, dtype: int64"
   ]
  },
  {
   "cell_type": "markdown",
   "id": "7ba9e14c",
   "metadata": {},
   "source": [
    "nombre_infected        28\n",
    "nombre_sain         19884\n",
    "nombre_exposed         77\n",
    "nombre_recovered       11\n",
    "Name: 5, dtype: int64"
   ]
  },
  {
   "cell_type": "markdown",
   "id": "9455a29f",
   "metadata": {},
   "source": [
    "nombre_infected        39\n",
    "nombre_sain         19845\n",
    "nombre_exposed        104\n",
    "nombre_recovered       12\n",
    "Name: 6, dtype: int64"
   ]
  },
  {
   "cell_type": "markdown",
   "id": "1185e75d",
   "metadata": {},
   "source": [
    "nombre_infected        59\n",
    "nombre_sain         19788\n",
    "nombre_exposed        139\n",
    "nombre_recovered       14\n",
    "Name: 7, dtype: int64"
   ]
  },
  {
   "cell_type": "markdown",
   "id": "b672aa4f",
   "metadata": {},
   "source": [
    "nombre_infected        85\n",
    "nombre_sain         19698\n",
    "nombre_exposed        202\n",
    "nombre_recovered       15\n",
    "Name: 8, dtype: int64"
   ]
  },
  {
   "cell_type": "markdown",
   "id": "8a613246",
   "metadata": {},
   "source": [
    "nombre_infected       121\n",
    "nombre_sain         19561\n",
    "nombre_exposed        298\n",
    "nombre_recovered       20\n",
    "Name: 9, dtype: int64"
   ]
  },
  {
   "cell_type": "markdown",
   "id": "9ab18212",
   "metadata": {},
   "source": [
    "nombre_infected       159\n",
    "nombre_sain         19385\n",
    "nombre_exposed        424\n",
    "nombre_recovered       32\n",
    "Name: 10, dtype: int64"
   ]
  },
  {
   "cell_type": "markdown",
   "id": "8bba9820",
   "metadata": {},
   "source": [
    "nombre_infected       216\n",
    "nombre_sain         19140\n",
    "nombre_exposed        604\n",
    "nombre_recovered       40\n",
    "Name: 11, dtype: int64"
   ]
  },
  {
   "cell_type": "markdown",
   "id": "6066e673",
   "metadata": {},
   "source": [
    "nombre_infected       296\n",
    "nombre_sain         18841\n",
    "nombre_exposed        802\n",
    "nombre_recovered       61\n",
    "Name: 12, dtype: int64"
   ]
  },
  {
   "cell_type": "markdown",
   "id": "9ca6e4e5",
   "metadata": {},
   "source": [
    "nombre_infected       408\n",
    "nombre_sain         18447\n",
    "nombre_exposed       1064\n",
    "nombre_recovered       81\n",
    "Name: 13, dtype: int64"
   ]
  },
  {
   "cell_type": "markdown",
   "id": "cf2ec7a7",
   "metadata": {},
   "source": [
    "nombre_infected       568\n",
    "nombre_sain         17909\n",
    "nombre_exposed       1417\n",
    "nombre_recovered      106\n",
    "Name: 14, dtype: int64"
   ]
  },
  {
   "cell_type": "markdown",
   "id": "f7962849",
   "metadata": {},
   "source": [
    "nombre_infected       779\n",
    "nombre_sain         17190\n",
    "nombre_exposed       1879\n",
    "nombre_recovered      152\n",
    "Name: 15, dtype: int64"
   ]
  },
  {
   "cell_type": "markdown",
   "id": "644dec4d",
   "metadata": {},
   "source": [
    "nombre_infected      1053\n",
    "nombre_sain         16237\n",
    "nombre_exposed       2486\n",
    "nombre_recovered      224\n",
    "Name: 16, dtype: int64"
   ]
  },
  {
   "cell_type": "markdown",
   "id": "c0d825d5",
   "metadata": {},
   "source": [
    "nombre_infected      1428\n",
    "nombre_sain         15106\n",
    "nombre_exposed       3168\n",
    "nombre_recovered      298\n",
    "Name: 17, dtype: int64"
   ]
  },
  {
   "cell_type": "markdown",
   "id": "414d998e",
   "metadata": {},
   "source": [
    "nombre_infected      1874\n",
    "nombre_sain         13713\n",
    "nombre_exposed       3997\n",
    "nombre_recovered      416\n",
    "Name: 18, dtype: int64"
   ]
  },
  {
   "cell_type": "markdown",
   "id": "a24b8916",
   "metadata": {},
   "source": [
    "nombre_infected      2443\n",
    "nombre_sain         12156\n",
    "nombre_exposed       4826\n",
    "nombre_recovered      575\n",
    "Name: 19, dtype: int64"
   ]
  },
  {
   "cell_type": "markdown",
   "id": "11d080cd",
   "metadata": {},
   "source": [
    "nombre_infected      3182\n",
    "nombre_sain         10365\n",
    "nombre_exposed       5678\n",
    "nombre_recovered      775\n",
    "Name: 20, dtype: int64"
   ]
  },
  {
   "cell_type": "markdown",
   "id": "bf8d1fa2",
   "metadata": {},
   "source": [
    "nombre_infected     3978\n",
    "nombre_sain         8512\n",
    "nombre_exposed      6469\n",
    "nombre_recovered    1041\n",
    "Name: 21, dtype: int64"
   ]
  },
  {
   "cell_type": "markdown",
   "id": "5c3cb422",
   "metadata": {},
   "source": [
    "nombre_infected     4933\n",
    "nombre_sain         6705\n",
    "nombre_exposed      6969\n",
    "nombre_recovered    1393\n",
    "Name: 22, dtype: int64"
   ]
  },
  {
   "cell_type": "markdown",
   "id": "c07be364",
   "metadata": {},
   "source": [
    "nombre_infected     5944\n",
    "nombre_sain         5095\n",
    "nombre_exposed      7129\n",
    "nombre_recovered    1832\n",
    "Name: 23, dtype: int64"
   ]
  },
  {
   "cell_type": "markdown",
   "id": "4ac7fba0",
   "metadata": {},
   "source": [
    "nombre_infected     6947\n",
    "nombre_sain         3736\n",
    "nombre_exposed      6915\n",
    "nombre_recovered    2402\n",
    "Name: 24, dtype: int64"
   ]
  },
  {
   "cell_type": "markdown",
   "id": "d4025139",
   "metadata": {},
   "source": [
    "nombre_infected     7871\n",
    "nombre_sain         2632\n",
    "nombre_exposed      6420\n",
    "nombre_recovered    3077\n",
    "Name: 25, dtype: int64"
   ]
  },
  {
   "cell_type": "markdown",
   "id": "1c5c966c",
   "metadata": {},
   "source": [
    "nombre_infected     8707\n",
    "nombre_sain         1767\n",
    "nombre_exposed      5691\n",
    "nombre_recovered    3835\n",
    "Name: 26, dtype: int64"
   ]
  },
  {
   "cell_type": "markdown",
   "id": "39bb7c34",
   "metadata": {},
   "source": [
    "nombre_infected     9280\n",
    "nombre_sain         1184\n",
    "nombre_exposed      4877\n",
    "nombre_recovered    4659\n",
    "Name: 27, dtype: int64"
   ]
  },
  {
   "cell_type": "markdown",
   "id": "5559186f",
   "metadata": {},
   "source": [
    "nombre_infected     9549\n",
    "nombre_sain          775\n",
    "nombre_exposed      4036\n",
    "nombre_recovered    5640\n",
    "Name: 28, dtype: int64"
   ]
  },
  {
   "cell_type": "markdown",
   "id": "d78528d9",
   "metadata": {},
   "source": [
    "nombre_infected     9470\n",
    "nombre_sain          497\n",
    "nombre_exposed      3284\n",
    "nombre_recovered    6749\n",
    "Name: 29, dtype: int64"
   ]
  },
  {
   "cell_type": "markdown",
   "id": "bd668c99",
   "metadata": {},
   "source": [
    "nombre_infected     9199\n",
    "nombre_sain          345\n",
    "nombre_exposed      2597\n",
    "nombre_recovered    7859\n",
    "Name: 30, dtype: int64"
   ]
  },
  {
   "cell_type": "markdown",
   "id": "e138bb50",
   "metadata": {},
   "source": [
    "nombre_infected     8782\n",
    "nombre_sain          243\n",
    "nombre_exposed      1999\n",
    "nombre_recovered    8976\n",
    "Name: 31, dtype: int64"
   ]
  },
  {
   "cell_type": "markdown",
   "id": "11759203",
   "metadata": {},
   "source": [
    "nombre_infected      8208\n",
    "nombre_sain           205\n",
    "nombre_exposed       1519\n",
    "nombre_recovered    10068\n",
    "Name: 32, dtype: int64"
   ]
  },
  {
   "cell_type": "markdown",
   "id": "303d7260",
   "metadata": {},
   "source": [
    "nombre_infected      7577\n",
    "nombre_sain           182\n",
    "nombre_exposed       1139\n",
    "nombre_recovered    11102\n",
    "Name: 33, dtype: int64"
   ]
  },
  {
   "cell_type": "markdown",
   "id": "fe4b206d",
   "metadata": {},
   "source": [
    "nombre_infected      6863\n",
    "nombre_sain           185\n",
    "nombre_exposed        896\n",
    "nombre_recovered    12056\n",
    "Name: 34, dtype: int64"
   ]
  },
  {
   "cell_type": "markdown",
   "id": "d3cd2162",
   "metadata": {},
   "source": [
    "nombre_infected      6124\n",
    "nombre_sain           187\n",
    "nombre_exposed        716\n",
    "nombre_recovered    12973\n",
    "Name: 35, dtype: int64"
   ]
  },
  {
   "cell_type": "markdown",
   "id": "edc5c054",
   "metadata": {},
   "source": [
    "nombre_infected      5481\n",
    "nombre_sain           182\n",
    "nombre_exposed        562\n",
    "nombre_recovered    13775\n",
    "Name: 36, dtype: int64"
   ]
  },
  {
   "cell_type": "markdown",
   "id": "df3498de",
   "metadata": {},
   "source": [
    "nombre_infected      4834\n",
    "nombre_sain           186\n",
    "nombre_exposed        469\n",
    "nombre_recovered    14511\n",
    "Name: 37, dtype: int64"
   ]
  },
  {
   "cell_type": "markdown",
   "id": "639dba4a",
   "metadata": {},
   "source": [
    "nombre_infected      4303\n",
    "nombre_sain           217\n",
    "nombre_exposed        395\n",
    "nombre_recovered    15085\n",
    "Name: 38, dtype: int64"
   ]
  },
  {
   "cell_type": "markdown",
   "id": "cec971db",
   "metadata": {},
   "source": [
    "nombre_infected      3775\n",
    "nombre_sain           249\n",
    "nombre_exposed        345\n",
    "nombre_recovered    15631\n",
    "Name: 39, dtype: int64"
   ]
  },
  {
   "cell_type": "markdown",
   "id": "b2bd736e",
   "metadata": {},
   "source": [
    "nombre_infected      3300\n",
    "nombre_sain           272\n",
    "nombre_exposed        321\n",
    "nombre_recovered    16107\n",
    "Name: 40, dtype: int64"
   ]
  },
  {
   "cell_type": "markdown",
   "id": "b7f4f66b",
   "metadata": {},
   "source": [
    "nombre_infected      2904\n",
    "nombre_sain           277\n",
    "nombre_exposed        311\n",
    "nombre_recovered    16508\n",
    "Name: 41, dtype: int64"
   ]
  },
  {
   "cell_type": "markdown",
   "id": "8846b259",
   "metadata": {},
   "source": [
    "nombre_infected      2518\n",
    "nombre_sain           285\n",
    "nombre_exposed        298\n",
    "nombre_recovered    16899\n",
    "Name: 42, dtype: int64"
   ]
  },
  {
   "cell_type": "markdown",
   "id": "20e0e097",
   "metadata": {},
   "source": [
    "nombre_infected      2213\n",
    "nombre_sain           298\n",
    "nombre_exposed        269\n",
    "nombre_recovered    17220\n",
    "Name: 43, dtype: int64"
   ]
  },
  {
   "cell_type": "markdown",
   "id": "b8ab0b3d",
   "metadata": {},
   "source": [
    "nombre_infected      1949\n",
    "nombre_sain           335\n",
    "nombre_exposed        253\n",
    "nombre_recovered    17463\n",
    "Name: 44, dtype: int64"
   ]
  },
  {
   "cell_type": "markdown",
   "id": "4c59d6b1",
   "metadata": {},
   "source": [
    "nombre_infected      1705\n",
    "nombre_sain           371\n",
    "nombre_exposed        224\n",
    "nombre_recovered    17700\n",
    "Name: 45, dtype: int64"
   ]
  },
  {
   "cell_type": "markdown",
   "id": "75530eec",
   "metadata": {},
   "source": [
    "nombre_infected      1504\n",
    "nombre_sain           412\n",
    "nombre_exposed        200\n",
    "nombre_recovered    17884\n",
    "Name: 46, dtype: int64"
   ]
  },
  {
   "cell_type": "markdown",
   "id": "97e7ac47",
   "metadata": {},
   "source": [
    "nombre_infected      1333\n",
    "nombre_sain           456\n",
    "nombre_exposed        192\n",
    "nombre_recovered    18019\n",
    "Name: 47, dtype: int64"
   ]
  },
  {
   "cell_type": "markdown",
   "id": "ceeaf053",
   "metadata": {},
   "source": [
    "nombre_infected      1181\n",
    "nombre_sain           474\n",
    "nombre_exposed        202\n",
    "nombre_recovered    18143\n",
    "Name: 48, dtype: int64"
   ]
  },
  {
   "cell_type": "markdown",
   "id": "2618f51b",
   "metadata": {},
   "source": [
    "nombre_infected      1065\n",
    "nombre_sain           512\n",
    "nombre_exposed        189\n",
    "nombre_recovered    18234\n",
    "Name: 49, dtype: int64"
   ]
  },
  {
   "cell_type": "markdown",
   "id": "9bb0b404",
   "metadata": {},
   "source": [
    "nombre_infected       973\n",
    "nombre_sain           531\n",
    "nombre_exposed        185\n",
    "nombre_recovered    18311\n",
    "Name: 50, dtype: int64"
   ]
  },
  {
   "cell_type": "markdown",
   "id": "bf5494f2",
   "metadata": {},
   "source": [
    "nombre_infected       883\n",
    "nombre_sain           549\n",
    "nombre_exposed        199\n",
    "nombre_recovered    18369\n",
    "Name: 51, dtype: int64"
   ]
  },
  {
   "cell_type": "markdown",
   "id": "937e8660",
   "metadata": {},
   "source": [
    "nombre_infected       815\n",
    "nombre_sain           582\n",
    "nombre_exposed        183\n",
    "nombre_recovered    18420\n",
    "Name: 52, dtype: int64"
   ]
  },
  {
   "cell_type": "markdown",
   "id": "72ef107d",
   "metadata": {},
   "source": [
    "nombre_infected       763\n",
    "nombre_sain           611\n",
    "nombre_exposed        172\n",
    "nombre_recovered    18454\n",
    "Name: 53, dtype: int64"
   ]
  },
  {
   "cell_type": "markdown",
   "id": "53a56b15",
   "metadata": {},
   "source": [
    "nombre_infected       709\n",
    "nombre_sain           654\n",
    "nombre_exposed        168\n",
    "nombre_recovered    18469\n",
    "Name: 54, dtype: int64"
   ]
  },
  {
   "cell_type": "markdown",
   "id": "01c28665",
   "metadata": {},
   "source": [
    "nombre_infected       687\n",
    "nombre_sain           693\n",
    "nombre_exposed        159\n",
    "nombre_recovered    18461\n",
    "Name: 55, dtype: int64"
   ]
  },
  {
   "cell_type": "markdown",
   "id": "798b1481",
   "metadata": {},
   "source": [
    "nombre_infected       627\n",
    "nombre_sain           725\n",
    "nombre_exposed        155\n",
    "nombre_recovered    18493\n",
    "Name: 56, dtype: int64"
   ]
  },
  {
   "cell_type": "markdown",
   "id": "14c9e9dc",
   "metadata": {},
   "source": [
    "nombre_infected       584\n",
    "nombre_sain           764\n",
    "nombre_exposed        155\n",
    "nombre_recovered    18497\n",
    "Name: 57, dtype: int64"
   ]
  },
  {
   "cell_type": "markdown",
   "id": "d98099f9",
   "metadata": {},
   "source": [
    "nombre_infected       536\n",
    "nombre_sain           796\n",
    "nombre_exposed        150\n",
    "nombre_recovered    18518\n",
    "Name: 58, dtype: int64"
   ]
  },
  {
   "cell_type": "markdown",
   "id": "f94b7b68",
   "metadata": {},
   "source": [
    "nombre_infected       519\n",
    "nombre_sain           831\n",
    "nombre_exposed        140\n",
    "nombre_recovered    18510\n",
    "Name: 59, dtype: int64"
   ]
  },
  {
   "cell_type": "markdown",
   "id": "86c6c992",
   "metadata": {},
   "source": [
    "nombre_infected       496\n",
    "nombre_sain           854\n",
    "nombre_exposed        136\n",
    "nombre_recovered    18514\n",
    "Name: 60, dtype: int64"
   ]
  },
  {
   "cell_type": "markdown",
   "id": "d07c5a91",
   "metadata": {},
   "source": [
    "nombre_infected       476\n",
    "nombre_sain           890\n",
    "nombre_exposed        131\n",
    "nombre_recovered    18503\n",
    "Name: 61, dtype: int64"
   ]
  },
  {
   "cell_type": "markdown",
   "id": "702d558e",
   "metadata": {},
   "source": [
    "nombre_infected       445\n",
    "nombre_sain           909\n",
    "nombre_exposed        148\n",
    "nombre_recovered    18498\n",
    "Name: 62, dtype: int64"
   ]
  },
  {
   "cell_type": "markdown",
   "id": "1a34b74a",
   "metadata": {},
   "source": [
    "nombre_infected       417\n",
    "nombre_sain           956\n",
    "nombre_exposed        146\n",
    "nombre_recovered    18481\n",
    "Name: 63, dtype: int64"
   ]
  },
  {
   "cell_type": "markdown",
   "id": "67993c00",
   "metadata": {},
   "source": [
    "nombre_infected       402\n",
    "nombre_sain           995\n",
    "nombre_exposed        126\n",
    "nombre_recovered    18477\n",
    "Name: 64, dtype: int64"
   ]
  },
  {
   "cell_type": "markdown",
   "id": "21466176",
   "metadata": {},
   "source": [
    "nombre_infected       388\n",
    "nombre_sain          1052\n",
    "nombre_exposed        115\n",
    "nombre_recovered    18445\n",
    "Name: 65, dtype: int64"
   ]
  },
  {
   "cell_type": "markdown",
   "id": "2a5f504f",
   "metadata": {},
   "source": [
    "nombre_infected       363\n",
    "nombre_sain          1100\n",
    "nombre_exposed        115\n",
    "nombre_recovered    18422\n",
    "Name: 66, dtype: int64"
   ]
  },
  {
   "cell_type": "markdown",
   "id": "eaccda61",
   "metadata": {},
   "source": [
    "nombre_infected       347\n",
    "nombre_sain          1131\n",
    "nombre_exposed        122\n",
    "nombre_recovered    18400\n",
    "Name: 67, dtype: int64"
   ]
  },
  {
   "cell_type": "markdown",
   "id": "0c8544e0",
   "metadata": {},
   "source": [
    "nombre_infected       318\n",
    "nombre_sain          1175\n",
    "nombre_exposed        126\n",
    "nombre_recovered    18381\n",
    "Name: 68, dtype: int64"
   ]
  },
  {
   "cell_type": "markdown",
   "id": "d6f79a04",
   "metadata": {},
   "source": [
    "nombre_infected       310\n",
    "nombre_sain          1201\n",
    "nombre_exposed        115\n",
    "nombre_recovered    18374\n",
    "Name: 69, dtype: int64"
   ]
  },
  {
   "cell_type": "markdown",
   "id": "b22293d4",
   "metadata": {},
   "source": [
    "nombre_infected       304\n",
    "nombre_sain          1233\n",
    "nombre_exposed        102\n",
    "nombre_recovered    18361\n",
    "Name: 70, dtype: int64"
   ]
  },
  {
   "cell_type": "markdown",
   "id": "07b029e3",
   "metadata": {},
   "source": [
    "nombre_infected       292\n",
    "nombre_sain          1272\n",
    "nombre_exposed         94\n",
    "nombre_recovered    18342\n",
    "Name: 71, dtype: int64"
   ]
  },
  {
   "cell_type": "markdown",
   "id": "154a4e29",
   "metadata": {},
   "source": [
    "nombre_infected       265\n",
    "nombre_sain          1302\n",
    "nombre_exposed         90\n",
    "nombre_recovered    18343\n",
    "Name: 72, dtype: int64"
   ]
  },
  {
   "cell_type": "markdown",
   "id": "efd0298a",
   "metadata": {},
   "source": [
    "nombre_infected       246\n",
    "nombre_sain          1327\n",
    "nombre_exposed         84\n",
    "nombre_recovered    18343\n",
    "Name: 73, dtype: int64"
   ]
  },
  {
   "cell_type": "markdown",
   "id": "e30fc8a7",
   "metadata": {},
   "source": [
    "nombre_infected       229\n",
    "nombre_sain          1369\n",
    "nombre_exposed         84\n",
    "nombre_recovered    18318\n",
    "Name: 74, dtype: int64"
   ]
  },
  {
   "cell_type": "markdown",
   "id": "41b797ac",
   "metadata": {},
   "source": [
    "nombre_infected       204\n",
    "nombre_sain          1413\n",
    "nombre_exposed         81\n",
    "nombre_recovered    18302\n",
    "Name: 75, dtype: int64"
   ]
  },
  {
   "cell_type": "markdown",
   "id": "5704a607",
   "metadata": {},
   "source": [
    "nombre_infected       187\n",
    "nombre_sain          1450\n",
    "nombre_exposed         79\n",
    "nombre_recovered    18284\n",
    "Name: 76, dtype: int64"
   ]
  },
  {
   "cell_type": "markdown",
   "id": "f83383ea",
   "metadata": {},
   "source": [
    "nombre_infected       160\n",
    "nombre_sain          1482\n",
    "nombre_exposed         74\n",
    "nombre_recovered    18284\n",
    "Name: 77, dtype: int64"
   ]
  },
  {
   "cell_type": "markdown",
   "id": "1e5b1759",
   "metadata": {},
   "source": [
    "nombre_infected       139\n",
    "nombre_sain          1511\n",
    "nombre_exposed         72\n",
    "nombre_recovered    18278\n",
    "Name: 78, dtype: int64"
   ]
  },
  {
   "cell_type": "markdown",
   "id": "ae4c72f4",
   "metadata": {},
   "source": [
    "nombre_infected       139\n",
    "nombre_sain          1547\n",
    "nombre_exposed         72\n",
    "nombre_recovered    18242\n",
    "Name: 79, dtype: int64"
   ]
  },
  {
   "cell_type": "markdown",
   "id": "c82c2a5b",
   "metadata": {},
   "source": [
    "nombre_infected       122\n",
    "nombre_sain          1583\n",
    "nombre_exposed         78\n",
    "nombre_recovered    18217\n",
    "Name: 80, dtype: int64"
   ]
  },
  {
   "cell_type": "markdown",
   "id": "a78afe98",
   "metadata": {},
   "source": [
    "nombre_infected       118\n",
    "nombre_sain          1623\n",
    "nombre_exposed         79\n",
    "nombre_recovered    18180\n",
    "Name: 81, dtype: int64"
   ]
  },
  {
   "cell_type": "markdown",
   "id": "4c40c920",
   "metadata": {},
   "source": [
    "nombre_infected       118\n",
    "nombre_sain          1646\n",
    "nombre_exposed         77\n",
    "nombre_recovered    18159\n",
    "Name: 82, dtype: int64"
   ]
  },
  {
   "cell_type": "markdown",
   "id": "3a9335e4",
   "metadata": {},
   "source": [
    "nombre_infected       112\n",
    "nombre_sain          1669\n",
    "nombre_exposed         71\n",
    "nombre_recovered    18148\n",
    "Name: 83, dtype: int64"
   ]
  },
  {
   "cell_type": "markdown",
   "id": "6846af40",
   "metadata": {},
   "source": [
    "nombre_infected       108\n",
    "nombre_sain          1718\n",
    "nombre_exposed         58\n",
    "nombre_recovered    18116\n",
    "Name: 84, dtype: int64"
   ]
  },
  {
   "cell_type": "markdown",
   "id": "b9d46e38",
   "metadata": {},
   "source": [
    "nombre_infected       108\n",
    "nombre_sain          1763\n",
    "nombre_exposed         52\n",
    "nombre_recovered    18077\n",
    "Name: 85, dtype: int64"
   ]
  },
  {
   "cell_type": "markdown",
   "id": "66e40eec",
   "metadata": {},
   "source": [
    "nombre_infected        96\n",
    "nombre_sain          1799\n",
    "nombre_exposed         45\n",
    "nombre_recovered    18060\n",
    "Name: 86, dtype: int64"
   ]
  },
  {
   "cell_type": "markdown",
   "id": "87134d44",
   "metadata": {},
   "source": [
    "nombre_infected        89\n",
    "nombre_sain          1846\n",
    "nombre_exposed         50\n",
    "nombre_recovered    18015\n",
    "Name: 87, dtype: int64"
   ]
  },
  {
   "cell_type": "markdown",
   "id": "97f6ddf0",
   "metadata": {},
   "source": [
    "nombre_infected        83\n",
    "nombre_sain          1886\n",
    "nombre_exposed         48\n",
    "nombre_recovered    17983\n",
    "Name: 88, dtype: int64"
   ]
  },
  {
   "cell_type": "markdown",
   "id": "09759aa6",
   "metadata": {},
   "source": [
    "nombre_infected        82\n",
    "nombre_sain          1921\n",
    "nombre_exposed         41\n",
    "nombre_recovered    17956\n",
    "Name: 89, dtype: int64"
   ]
  },
  {
   "cell_type": "markdown",
   "id": "097ae1a0",
   "metadata": {},
   "source": [
    "nombre_infected        81\n",
    "nombre_sain          1963\n",
    "nombre_exposed         33\n",
    "nombre_recovered    17923\n",
    "Name: 90, dtype: int64"
   ]
  },
  {
   "cell_type": "markdown",
   "id": "364bb33a",
   "metadata": {},
   "source": [
    "nombre_infected        76\n",
    "nombre_sain          1988\n",
    "nombre_exposed         36\n",
    "nombre_recovered    17900\n",
    "Name: 91, dtype: int64"
   ]
  },
  {
   "cell_type": "markdown",
   "id": "08dc737e",
   "metadata": {},
   "source": [
    "nombre_infected        69\n",
    "nombre_sain          2022\n",
    "nombre_exposed         41\n",
    "nombre_recovered    17868\n",
    "Name: 92, dtype: int64"
   ]
  },
  {
   "cell_type": "markdown",
   "id": "d8c9a0f6",
   "metadata": {},
   "source": [
    "nombre_infected        66\n",
    "nombre_sain          2072\n",
    "nombre_exposed         37\n",
    "nombre_recovered    17825\n",
    "Name: 93, dtype: int64"
   ]
  },
  {
   "cell_type": "markdown",
   "id": "be278505",
   "metadata": {},
   "source": [
    "nombre_infected        64\n",
    "nombre_sain          2120\n",
    "nombre_exposed         37\n",
    "nombre_recovered    17779\n",
    "Name: 94, dtype: int64"
   ]
  },
  {
   "cell_type": "markdown",
   "id": "737e8471",
   "metadata": {},
   "source": [
    "nombre_infected        61\n",
    "nombre_sain          2166\n",
    "nombre_exposed         39\n",
    "nombre_recovered    17734\n",
    "Name: 95, dtype: int64"
   ]
  },
  {
   "cell_type": "markdown",
   "id": "2a156717",
   "metadata": {},
   "source": [
    "nombre_infected        65\n",
    "nombre_sain          2205\n",
    "nombre_exposed         37\n",
    "nombre_recovered    17693\n",
    "Name: 96, dtype: int64"
   ]
  },
  {
   "cell_type": "markdown",
   "id": "87590de3",
   "metadata": {},
   "source": [
    "nombre_infected        64\n",
    "nombre_sain          2255\n",
    "nombre_exposed         30\n",
    "nombre_recovered    17651\n",
    "Name: 97, dtype: int64"
   ]
  },
  {
   "cell_type": "markdown",
   "id": "6b8c6964",
   "metadata": {},
   "source": [
    "nombre_infected        60\n",
    "nombre_sain          2294\n",
    "nombre_exposed         32\n",
    "nombre_recovered    17614\n",
    "Name: 98, dtype: int64"
   ]
  },
  {
   "cell_type": "markdown",
   "id": "0f5f4d2a",
   "metadata": {},
   "source": [
    "nombre_infected        61\n",
    "nombre_sain          2347\n",
    "nombre_exposed         27\n",
    "nombre_recovered    17565\n",
    "Name: 99, dtype: int64"
   ]
  },
  {
   "cell_type": "markdown",
   "id": "80d8b225",
   "metadata": {},
   "source": [
    "nombre_infected        48\n",
    "nombre_sain          2381\n",
    "nombre_exposed         35\n",
    "nombre_recovered    17536\n",
    "Name: 100, dtype: int64"
   ]
  },
  {
   "cell_type": "markdown",
   "id": "ef69fda1",
   "metadata": {},
   "source": [
    "nombre_infected        45\n",
    "nombre_sain          2450\n",
    "nombre_exposed         38\n",
    "nombre_recovered    17467\n",
    "Name: 101, dtype: int64"
   ]
  },
  {
   "cell_type": "markdown",
   "id": "9cd3c423",
   "metadata": {},
   "source": [
    "nombre_infected        49\n",
    "nombre_sain          2501\n",
    "nombre_exposed         34\n",
    "nombre_recovered    17416\n",
    "Name: 102, dtype: int64"
   ]
  },
  {
   "cell_type": "markdown",
   "id": "fdd4b92d",
   "metadata": {},
   "source": [
    "nombre_infected        58\n",
    "nombre_sain          2562\n",
    "nombre_exposed         31\n",
    "nombre_recovered    17349\n",
    "Name: 103, dtype: int64"
   ]
  },
  {
   "cell_type": "markdown",
   "id": "c6c63b8b",
   "metadata": {},
   "source": [
    "nombre_infected        62\n",
    "nombre_sain          2622\n",
    "nombre_exposed         31\n",
    "nombre_recovered    17285\n",
    "Name: 104, dtype: int64"
   ]
  },
  {
   "cell_type": "markdown",
   "id": "72fe3617",
   "metadata": {},
   "source": [
    "nombre_infected        59\n",
    "nombre_sain          2690\n",
    "nombre_exposed         35\n",
    "nombre_recovered    17216\n",
    "Name: 105, dtype: int64"
   ]
  },
  {
   "cell_type": "markdown",
   "id": "4c1640b1",
   "metadata": {},
   "source": [
    "nombre_infected        59\n",
    "nombre_sain          2753\n",
    "nombre_exposed         39\n",
    "nombre_recovered    17149\n",
    "Name: 106, dtype: int64"
   ]
  },
  {
   "cell_type": "markdown",
   "id": "42dbc2f5",
   "metadata": {},
   "source": [
    "nombre_infected        58\n",
    "nombre_sain          2798\n",
    "nombre_exposed         45\n",
    "nombre_recovered    17099\n",
    "Name: 107, dtype: int64"
   ]
  },
  {
   "cell_type": "markdown",
   "id": "1bbfd526",
   "metadata": {},
   "source": [
    "nombre_infected        62\n",
    "nombre_sain          2877\n",
    "nombre_exposed         43\n",
    "nombre_recovered    17018\n",
    "Name: 108, dtype: int64"
   ]
  },
  {
   "cell_type": "markdown",
   "id": "ff6b0bd3",
   "metadata": {},
   "source": [
    "nombre_infected        74\n",
    "nombre_sain          2925\n",
    "nombre_exposed         38\n",
    "nombre_recovered    16963\n",
    "Name: 109, dtype: int64"
   ]
  },
  {
   "cell_type": "markdown",
   "id": "2225fd04",
   "metadata": {},
   "source": [
    "nombre_infected        70\n",
    "nombre_sain          2974\n",
    "nombre_exposed         42\n",
    "nombre_recovered    16914\n",
    "Name: 110, dtype: int64"
   ]
  },
  {
   "cell_type": "markdown",
   "id": "6361c5e1",
   "metadata": {},
   "source": [
    "nombre_infected        61\n",
    "nombre_sain          3038\n",
    "nombre_exposed         48\n",
    "nombre_recovered    16853\n",
    "Name: 111, dtype: int64"
   ]
  },
  {
   "cell_type": "markdown",
   "id": "81712782",
   "metadata": {},
   "source": [
    "nombre_infected        69\n",
    "nombre_sain          3097\n",
    "nombre_exposed         41\n",
    "nombre_recovered    16793\n",
    "Name: 112, dtype: int64"
   ]
  },
  {
   "cell_type": "markdown",
   "id": "8bb757ca",
   "metadata": {},
   "source": [
    "nombre_infected        69\n",
    "nombre_sain          3139\n",
    "nombre_exposed         51\n",
    "nombre_recovered    16741\n",
    "Name: 113, dtype: int64"
   ]
  },
  {
   "cell_type": "markdown",
   "id": "e6b47f52",
   "metadata": {},
   "source": [
    "nombre_infected        69\n",
    "nombre_sain          3196\n",
    "nombre_exposed         53\n",
    "nombre_recovered    16682\n",
    "Name: 114, dtype: int64"
   ]
  },
  {
   "cell_type": "markdown",
   "id": "9c47ad6a",
   "metadata": {},
   "source": [
    "nombre_infected        73\n",
    "nombre_sain          3229\n",
    "nombre_exposed         53\n",
    "nombre_recovered    16645\n",
    "Name: 115, dtype: int64"
   ]
  },
  {
   "cell_type": "markdown",
   "id": "3277f5bb",
   "metadata": {},
   "source": [
    "nombre_infected        69\n",
    "nombre_sain          3275\n",
    "nombre_exposed         55\n",
    "nombre_recovered    16601\n",
    "Name: 116, dtype: int64"
   ]
  },
  {
   "cell_type": "markdown",
   "id": "5a861e6e",
   "metadata": {},
   "source": [
    "nombre_infected        78\n",
    "nombre_sain          3326\n",
    "nombre_exposed         59\n",
    "nombre_recovered    16537\n",
    "Name: 117, dtype: int64"
   ]
  },
  {
   "cell_type": "markdown",
   "id": "327ff868",
   "metadata": {},
   "source": [
    "nombre_infected        80\n",
    "nombre_sain          3374\n",
    "nombre_exposed         61\n",
    "nombre_recovered    16485\n",
    "Name: 118, dtype: int64"
   ]
  },
  {
   "cell_type": "markdown",
   "id": "b7dfa8b8",
   "metadata": {},
   "source": [
    "nombre_infected        82\n",
    "nombre_sain          3412\n",
    "nombre_exposed         62\n",
    "nombre_recovered    16444\n",
    "Name: 119, dtype: int64"
   ]
  },
  {
   "cell_type": "markdown",
   "id": "d50761d1",
   "metadata": {},
   "source": [
    "nombre_infected        91\n",
    "nombre_sain          3463\n",
    "nombre_exposed         61\n",
    "nombre_recovered    16385\n",
    "Name: 120, dtype: int64"
   ]
  },
  {
   "cell_type": "markdown",
   "id": "978c014f",
   "metadata": {},
   "source": [
    "nombre_infected        97\n",
    "nombre_sain          3504\n",
    "nombre_exposed         62\n",
    "nombre_recovered    16337\n",
    "Name: 121, dtype: int64"
   ]
  },
  {
   "cell_type": "markdown",
   "id": "1af9885d",
   "metadata": {},
   "source": [
    "nombre_infected       103\n",
    "nombre_sain          3541\n",
    "nombre_exposed         69\n",
    "nombre_recovered    16287\n",
    "Name: 122, dtype: int64"
   ]
  },
  {
   "cell_type": "markdown",
   "id": "adffcff5",
   "metadata": {},
   "source": [
    "nombre_infected       103\n",
    "nombre_sain          3588\n",
    "nombre_exposed         78\n",
    "nombre_recovered    16231\n",
    "Name: 123, dtype: int64"
   ]
  },
  {
   "cell_type": "markdown",
   "id": "38379b82",
   "metadata": {},
   "source": [
    "nombre_infected       112\n",
    "nombre_sain          3610\n",
    "nombre_exposed         81\n",
    "nombre_recovered    16197\n",
    "Name: 124, dtype: int64"
   ]
  },
  {
   "cell_type": "markdown",
   "id": "1ef3289a",
   "metadata": {},
   "source": [
    "nombre_infected       115\n",
    "nombre_sain          3628\n",
    "nombre_exposed         88\n",
    "nombre_recovered    16169\n",
    "Name: 125, dtype: int64"
   ]
  },
  {
   "cell_type": "markdown",
   "id": "3920f3cc",
   "metadata": {},
   "source": [
    "nombre_infected       110\n",
    "nombre_sain          3657\n",
    "nombre_exposed         96\n",
    "nombre_recovered    16137\n",
    "Name: 126, dtype: int64"
   ]
  },
  {
   "cell_type": "markdown",
   "id": "484ee16e",
   "metadata": {},
   "source": [
    "nombre_infected       112\n",
    "nombre_sain          3679\n",
    "nombre_exposed        106\n",
    "nombre_recovered    16103\n",
    "Name: 127, dtype: int64"
   ]
  },
  {
   "cell_type": "markdown",
   "id": "233b0477",
   "metadata": {},
   "source": [
    "nombre_infected       116\n",
    "nombre_sain          3705\n",
    "nombre_exposed        109\n",
    "nombre_recovered    16070\n",
    "Name: 128, dtype: int64"
   ]
  },
  {
   "cell_type": "markdown",
   "id": "4d76ebc9",
   "metadata": {},
   "source": [
    "nombre_infected       126\n",
    "nombre_sain          3732\n",
    "nombre_exposed        113\n",
    "nombre_recovered    16029\n",
    "Name: 129, dtype: int64"
   ]
  },
  {
   "cell_type": "markdown",
   "id": "9f5e20cb",
   "metadata": {},
   "source": [
    "nombre_infected       134\n",
    "nombre_sain          3765\n",
    "nombre_exposed        114\n",
    "nombre_recovered    15987\n",
    "Name: 130, dtype: int64"
   ]
  },
  {
   "cell_type": "markdown",
   "id": "6cd633d3",
   "metadata": {},
   "source": [
    "nombre_infected       146\n",
    "nombre_sain          3797\n",
    "nombre_exposed        109\n",
    "nombre_recovered    15948\n",
    "Name: 131, dtype: int64"
   ]
  },
  {
   "cell_type": "markdown",
   "id": "f201c9ab",
   "metadata": {},
   "source": [
    "nombre_infected       149\n",
    "nombre_sain          3806\n",
    "nombre_exposed        125\n",
    "nombre_recovered    15920\n",
    "Name: 132, dtype: int64"
   ]
  },
  {
   "cell_type": "markdown",
   "id": "0fa43f3d",
   "metadata": {},
   "source": [
    "nombre_infected       148\n",
    "nombre_sain          3826\n",
    "nombre_exposed        138\n",
    "nombre_recovered    15888\n",
    "Name: 133, dtype: int64"
   ]
  },
  {
   "cell_type": "markdown",
   "id": "204b05f6",
   "metadata": {},
   "source": [
    "nombre_infected       174\n",
    "nombre_sain          3846\n",
    "nombre_exposed        132\n",
    "nombre_recovered    15848\n",
    "Name: 134, dtype: int64"
   ]
  },
  {
   "cell_type": "markdown",
   "id": "2f62a52d",
   "metadata": {},
   "source": [
    "nombre_infected       170\n",
    "nombre_sain          3874\n",
    "nombre_exposed        139\n",
    "nombre_recovered    15817\n",
    "Name: 135, dtype: int64"
   ]
  },
  {
   "cell_type": "markdown",
   "id": "6413734c",
   "metadata": {},
   "source": [
    "nombre_infected       180\n",
    "nombre_sain          3891\n",
    "nombre_exposed        148\n",
    "nombre_recovered    15781\n",
    "Name: 136, dtype: int64"
   ]
  },
  {
   "cell_type": "markdown",
   "id": "6bd688e0",
   "metadata": {},
   "source": [
    "nombre_infected       173\n",
    "nombre_sain          3900\n",
    "nombre_exposed        166\n",
    "nombre_recovered    15761\n",
    "Name: 137, dtype: int64"
   ]
  },
  {
   "cell_type": "markdown",
   "id": "de9c5781",
   "metadata": {},
   "source": [
    "nombre_infected       179\n",
    "nombre_sain          3905\n",
    "nombre_exposed        174\n",
    "nombre_recovered    15742\n",
    "Name: 138, dtype: int64"
   ]
  },
  {
   "cell_type": "markdown",
   "id": "2b7f3786",
   "metadata": {},
   "source": [
    "nombre_infected       195\n",
    "nombre_sain          3921\n",
    "nombre_exposed        171\n",
    "nombre_recovered    15713\n",
    "Name: 139, dtype: int64"
   ]
  },
  {
   "cell_type": "markdown",
   "id": "5f102ddb",
   "metadata": {},
   "source": [
    "nombre_infected       212\n",
    "nombre_sain          3924\n",
    "nombre_exposed        179\n",
    "nombre_recovered    15685\n",
    "Name: 140, dtype: int64"
   ]
  },
  {
   "cell_type": "markdown",
   "id": "5ec10a5e",
   "metadata": {},
   "source": [
    "nombre_infected       240\n",
    "nombre_sain          3911\n",
    "nombre_exposed        195\n",
    "nombre_recovered    15654\n",
    "Name: 141, dtype: int64"
   ]
  },
  {
   "cell_type": "markdown",
   "id": "467a3a4d",
   "metadata": {},
   "source": [
    "nombre_infected       255\n",
    "nombre_sain          3887\n",
    "nombre_exposed        198\n",
    "nombre_recovered    15660\n",
    "Name: 142, dtype: int64"
   ]
  },
  {
   "cell_type": "markdown",
   "id": "df50ca98",
   "metadata": {},
   "source": [
    "nombre_infected       258\n",
    "nombre_sain          3869\n",
    "nombre_exposed        220\n",
    "nombre_recovered    15653\n",
    "Name: 143, dtype: int64"
   ]
  },
  {
   "cell_type": "markdown",
   "id": "1f274be8",
   "metadata": {},
   "source": [
    "nombre_infected       275\n",
    "nombre_sain          3842\n",
    "nombre_exposed        238\n",
    "nombre_recovered    15645\n",
    "Name: 144, dtype: int64"
   ]
  },
  {
   "cell_type": "markdown",
   "id": "26cb5f0b",
   "metadata": {},
   "source": [
    "nombre_infected       287\n",
    "nombre_sain          3840\n",
    "nombre_exposed        242\n",
    "nombre_recovered    15631\n",
    "Name: 145, dtype: int64"
   ]
  },
  {
   "cell_type": "markdown",
   "id": "7fa8a40f",
   "metadata": {},
   "source": [
    "nombre_infected       311\n",
    "nombre_sain          3831\n",
    "nombre_exposed        238\n",
    "nombre_recovered    15620\n",
    "Name: 146, dtype: int64"
   ]
  },
  {
   "cell_type": "markdown",
   "id": "41a63ec1",
   "metadata": {},
   "source": [
    "nombre_infected       333\n",
    "nombre_sain          3793\n",
    "nombre_exposed        264\n",
    "nombre_recovered    15610\n",
    "Name: 147, dtype: int64"
   ]
  },
  {
   "cell_type": "markdown",
   "id": "0681e533",
   "metadata": {},
   "source": [
    "nombre_infected       352\n",
    "nombre_sain          3765\n",
    "nombre_exposed        278\n",
    "nombre_recovered    15605\n",
    "Name: 148, dtype: int64"
   ]
  },
  {
   "cell_type": "markdown",
   "id": "bbc06616",
   "metadata": {},
   "source": [
    "nombre_infected       374\n",
    "nombre_sain          3716\n",
    "nombre_exposed        302\n",
    "nombre_recovered    15608\n",
    "Name: 149, dtype: int64"
   ]
  },
  {
   "cell_type": "markdown",
   "id": "0dbd9207",
   "metadata": {},
   "source": [
    "nombre_infected       394\n",
    "nombre_sain          3672\n",
    "nombre_exposed        316\n",
    "nombre_recovered    15618\n",
    "Name: 150, dtype: int64"
   ]
  },
  {
   "cell_type": "markdown",
   "id": "cd8c6e3e",
   "metadata": {},
   "source": [
    "nombre_infected       415\n",
    "nombre_sain          3618\n",
    "nombre_exposed        333\n",
    "nombre_recovered    15634\n",
    "Name: 151, dtype: int64"
   ]
  },
  {
   "cell_type": "markdown",
   "id": "8a5e89a9",
   "metadata": {},
   "source": [
    "nombre_infected       428\n",
    "nombre_sain          3585\n",
    "nombre_exposed        346\n",
    "nombre_recovered    15641\n",
    "Name: 152, dtype: int64"
   ]
  },
  {
   "cell_type": "markdown",
   "id": "5f442acf",
   "metadata": {},
   "source": [
    "nombre_infected       440\n",
    "nombre_sain          3542\n",
    "nombre_exposed        374\n",
    "nombre_recovered    15644\n",
    "Name: 153, dtype: int64"
   ]
  },
  {
   "cell_type": "markdown",
   "id": "6286da59",
   "metadata": {},
   "source": [
    "nombre_infected       460\n",
    "nombre_sain          3492\n",
    "nombre_exposed        385\n",
    "nombre_recovered    15663\n",
    "Name: 154, dtype: int64"
   ]
  },
  {
   "cell_type": "markdown",
   "id": "2b950bf2",
   "metadata": {},
   "source": [
    "nombre_infected       492\n",
    "nombre_sain          3440\n",
    "nombre_exposed        388\n",
    "nombre_recovered    15680\n",
    "Name: 155, dtype: int64"
   ]
  },
  {
   "cell_type": "markdown",
   "id": "6fffcfd7",
   "metadata": {},
   "source": [
    "nombre_infected       515\n",
    "nombre_sain          3390\n",
    "nombre_exposed        396\n",
    "nombre_recovered    15699\n",
    "Name: 156, dtype: int64"
   ]
  },
  {
   "cell_type": "markdown",
   "id": "ff5f1fd3",
   "metadata": {},
   "source": [
    "nombre_infected       566\n",
    "nombre_sain          3341\n",
    "nombre_exposed        410\n",
    "nombre_recovered    15683\n",
    "Name: 157, dtype: int64"
   ]
  },
  {
   "cell_type": "markdown",
   "id": "3906f2c1",
   "metadata": {},
   "source": [
    "nombre_infected       584\n",
    "nombre_sain          3275\n",
    "nombre_exposed        437\n",
    "nombre_recovered    15704\n",
    "Name: 158, dtype: int64"
   ]
  },
  {
   "cell_type": "markdown",
   "id": "84abce3a",
   "metadata": {},
   "source": [
    "nombre_infected       593\n",
    "nombre_sain          3239\n",
    "nombre_exposed        449\n",
    "nombre_recovered    15719\n",
    "Name: 159, dtype: int64"
   ]
  },
  {
   "cell_type": "markdown",
   "id": "0cf768d4",
   "metadata": {},
   "source": [
    "nombre_infected       630\n",
    "nombre_sain          3187\n",
    "nombre_exposed        469\n",
    "nombre_recovered    15714\n",
    "Name: 160, dtype: int64"
   ]
  },
  {
   "cell_type": "markdown",
   "id": "163f9a0d",
   "metadata": {},
   "source": [
    "nombre_infected       662\n",
    "nombre_sain          3144\n",
    "nombre_exposed        481\n",
    "nombre_recovered    15713\n",
    "Name: 161, dtype: int64"
   ]
  },
  {
   "cell_type": "markdown",
   "id": "454a0c50",
   "metadata": {},
   "source": [
    "nombre_infected       683\n",
    "nombre_sain          3104\n",
    "nombre_exposed        499\n",
    "nombre_recovered    15714\n",
    "Name: 162, dtype: int64"
   ]
  },
  {
   "cell_type": "markdown",
   "id": "f4d2c963",
   "metadata": {},
   "source": [
    "nombre_infected       712\n",
    "nombre_sain          3034\n",
    "nombre_exposed        545\n",
    "nombre_recovered    15709\n",
    "Name: 163, dtype: int64"
   ]
  },
  {
   "cell_type": "markdown",
   "id": "d4016b15",
   "metadata": {},
   "source": [
    "nombre_infected       719\n",
    "nombre_sain          2987\n",
    "nombre_exposed        559\n",
    "nombre_recovered    15735\n",
    "Name: 164, dtype: int64"
   ]
  },
  {
   "cell_type": "markdown",
   "id": "039c9337",
   "metadata": {},
   "source": [
    "nombre_infected       752\n",
    "nombre_sain          2939\n",
    "nombre_exposed        571\n",
    "nombre_recovered    15738\n",
    "Name: 165, dtype: int64"
   ]
  },
  {
   "cell_type": "markdown",
   "id": "1db45f29",
   "metadata": {},
   "source": [
    "nombre_infected       782\n",
    "nombre_sain          2878\n",
    "nombre_exposed        588\n",
    "nombre_recovered    15752\n",
    "Name: 166, dtype: int64"
   ]
  },
  {
   "cell_type": "markdown",
   "id": "6ed860ea",
   "metadata": {},
   "source": [
    "nombre_infected       815\n",
    "nombre_sain          2845\n",
    "nombre_exposed        584\n",
    "nombre_recovered    15756\n",
    "Name: 167, dtype: int64"
   ]
  },
  {
   "cell_type": "markdown",
   "id": "01ccd7ce",
   "metadata": {},
   "source": [
    "nombre_infected       827\n",
    "nombre_sain          2790\n",
    "nombre_exposed        612\n",
    "nombre_recovered    15771\n",
    "Name: 168, dtype: int64"
   ]
  },
  {
   "cell_type": "markdown",
   "id": "a7d36a65",
   "metadata": {},
   "source": [
    "nombre_infected       838\n",
    "nombre_sain          2723\n",
    "nombre_exposed        627\n",
    "nombre_recovered    15812\n",
    "Name: 169, dtype: int64"
   ]
  },
  {
   "cell_type": "markdown",
   "id": "f6ac9a6d",
   "metadata": {},
   "source": [
    "nombre_infected       859\n",
    "nombre_sain          2649\n",
    "nombre_exposed        631\n",
    "nombre_recovered    15861\n",
    "Name: 170, dtype: int64"
   ]
  },
  {
   "cell_type": "markdown",
   "id": "6890780a",
   "metadata": {},
   "source": [
    "nombre_infected       904\n",
    "nombre_sain          2607\n",
    "nombre_exposed        604\n",
    "nombre_recovered    15885\n",
    "Name: 171, dtype: int64"
   ]
  },
  {
   "cell_type": "markdown",
   "id": "2bb23a58",
   "metadata": {},
   "source": [
    "nombre_infected       967\n",
    "nombre_sain          2542\n",
    "nombre_exposed        593\n",
    "nombre_recovered    15898\n",
    "Name: 172, dtype: int64"
   ]
  },
  {
   "cell_type": "markdown",
   "id": "941f1054",
   "metadata": {},
   "source": [
    "nombre_infected       983\n",
    "nombre_sain          2489\n",
    "nombre_exposed        602\n",
    "nombre_recovered    15926\n",
    "Name: 173, dtype: int64"
   ]
  },
  {
   "cell_type": "markdown",
   "id": "6c376442",
   "metadata": {},
   "source": [
    "nombre_infected       996\n",
    "nombre_sain          2439\n",
    "nombre_exposed        594\n",
    "nombre_recovered    15971\n",
    "Name: 174, dtype: int64"
   ]
  },
  {
   "cell_type": "markdown",
   "id": "cc83a3b5",
   "metadata": {},
   "source": [
    "nombre_infected      1001\n",
    "nombre_sain          2354\n",
    "nombre_exposed        626\n",
    "nombre_recovered    16019\n",
    "Name: 175, dtype: int64"
   ]
  },
  {
   "cell_type": "markdown",
   "id": "beabe245",
   "metadata": {},
   "source": [
    "nombre_infected      1010\n",
    "nombre_sain          2279\n",
    "nombre_exposed        639\n",
    "nombre_recovered    16072\n",
    "Name: 176, dtype: int64"
   ]
  },
  {
   "cell_type": "markdown",
   "id": "3e0eea86",
   "metadata": {},
   "source": [
    "nombre_infected      1025\n",
    "nombre_sain          2201\n",
    "nombre_exposed        662\n",
    "nombre_recovered    16112\n",
    "Name: 177, dtype: int64"
   ]
  },
  {
   "cell_type": "markdown",
   "id": "9df110b5",
   "metadata": {},
   "source": [
    "nombre_infected      1046\n",
    "nombre_sain          2149\n",
    "nombre_exposed        646\n",
    "nombre_recovered    16159\n",
    "Name: 178, dtype: int64"
   ]
  },
  {
   "cell_type": "markdown",
   "id": "11f6b7f8",
   "metadata": {},
   "source": [
    "nombre_infected      1061\n",
    "nombre_sain          2109\n",
    "nombre_exposed        618\n",
    "nombre_recovered    16212\n",
    "Name: 179, dtype: int64"
   ]
  },
  {
   "cell_type": "markdown",
   "id": "444cddbc",
   "metadata": {},
   "source": [
    "nombre_infected      1071\n",
    "nombre_sain          2049\n",
    "nombre_exposed        578\n",
    "nombre_recovered    16302\n",
    "Name: 180, dtype: int64"
   ]
  },
  {
   "cell_type": "markdown",
   "id": "b188423d",
   "metadata": {},
   "source": [
    "nombre_infected      1060\n",
    "nombre_sain          1993\n",
    "nombre_exposed        566\n",
    "nombre_recovered    16381\n",
    "Name: 181, dtype: int64"
   ]
  },
  {
   "cell_type": "markdown",
   "id": "ffdb873e",
   "metadata": {},
   "source": [
    "nombre_infected      1031\n",
    "nombre_sain          1928\n",
    "nombre_exposed        565\n",
    "nombre_recovered    16476\n",
    "Name: 182, dtype: int64"
   ]
  },
  {
   "cell_type": "markdown",
   "id": "8a6665b9",
   "metadata": {},
   "source": [
    "nombre_infected      1017\n",
    "nombre_sain          1906\n",
    "nombre_exposed        538\n",
    "nombre_recovered    16539\n",
    "Name: 183, dtype: int64"
   ]
  },
  {
   "cell_type": "markdown",
   "id": "9f924a2c",
   "metadata": {},
   "source": [
    "nombre_infected      1000\n",
    "nombre_sain          1853\n",
    "nombre_exposed        566\n",
    "nombre_recovered    16581\n",
    "Name: 184, dtype: int64"
   ]
  },
  {
   "cell_type": "markdown",
   "id": "6dee6459",
   "metadata": {},
   "source": [
    "nombre_infected       986\n",
    "nombre_sain          1807\n",
    "nombre_exposed        570\n",
    "nombre_recovered    16637\n",
    "Name: 185, dtype: int64"
   ]
  },
  {
   "cell_type": "markdown",
   "id": "4816c529",
   "metadata": {},
   "source": [
    "nombre_infected       980\n",
    "nombre_sain          1778\n",
    "nombre_exposed        537\n",
    "nombre_recovered    16705\n",
    "Name: 186, dtype: int64"
   ]
  },
  {
   "cell_type": "markdown",
   "id": "224235d2",
   "metadata": {},
   "source": [
    "nombre_infected       952\n",
    "nombre_sain          1755\n",
    "nombre_exposed        530\n",
    "nombre_recovered    16763\n",
    "Name: 187, dtype: int64"
   ]
  },
  {
   "cell_type": "markdown",
   "id": "fbf1a961",
   "metadata": {},
   "source": [
    "nombre_infected       931\n",
    "nombre_sain          1749\n",
    "nombre_exposed        508\n",
    "nombre_recovered    16812\n",
    "Name: 188, dtype: int64"
   ]
  },
  {
   "cell_type": "markdown",
   "id": "6fafb5dd",
   "metadata": {},
   "source": [
    "nombre_infected       917\n",
    "nombre_sain          1721\n",
    "nombre_exposed        500\n",
    "nombre_recovered    16862\n",
    "Name: 189, dtype: int64"
   ]
  },
  {
   "cell_type": "markdown",
   "id": "ad63e266",
   "metadata": {},
   "source": [
    "nombre_infected       895\n",
    "nombre_sain          1703\n",
    "nombre_exposed        484\n",
    "nombre_recovered    16918\n",
    "Name: 190, dtype: int64"
   ]
  },
  {
   "cell_type": "markdown",
   "id": "aa4c16b8",
   "metadata": {},
   "source": [
    "nombre_infected       903\n",
    "nombre_sain          1720\n",
    "nombre_exposed        423\n",
    "nombre_recovered    16954\n",
    "Name: 191, dtype: int64"
   ]
  },
  {
   "cell_type": "markdown",
   "id": "12e6f017",
   "metadata": {},
   "source": [
    "nombre_infected       879\n",
    "nombre_sain          1701\n",
    "nombre_exposed        422\n",
    "nombre_recovered    16998\n",
    "Name: 192, dtype: int64"
   ]
  },
  {
   "cell_type": "markdown",
   "id": "bb0dba27",
   "metadata": {},
   "source": [
    "nombre_infected       822\n",
    "nombre_sain          1694\n",
    "nombre_exposed        414\n",
    "nombre_recovered    17070\n",
    "Name: 193, dtype: int64"
   ]
  },
  {
   "cell_type": "markdown",
   "id": "f64904ab",
   "metadata": {},
   "source": [
    "nombre_infected       795\n",
    "nombre_sain          1691\n",
    "nombre_exposed        401\n",
    "nombre_recovered    17113\n",
    "Name: 194, dtype: int64"
   ]
  },
  {
   "cell_type": "markdown",
   "id": "ed9f5a84",
   "metadata": {},
   "source": [
    "nombre_infected       761\n",
    "nombre_sain          1701\n",
    "nombre_exposed        396\n",
    "nombre_recovered    17142\n",
    "Name: 195, dtype: int64"
   ]
  },
  {
   "cell_type": "markdown",
   "id": "3038609d",
   "metadata": {},
   "source": [
    "nombre_infected       748\n",
    "nombre_sain          1698\n",
    "nombre_exposed        397\n",
    "nombre_recovered    17157\n",
    "Name: 196, dtype: int64"
   ]
  },
  {
   "cell_type": "markdown",
   "id": "f473c8d7",
   "metadata": {},
   "source": [
    "nombre_infected       706\n",
    "nombre_sain          1724\n",
    "nombre_exposed        402\n",
    "nombre_recovered    17168\n",
    "Name: 197, dtype: int64"
   ]
  },
  {
   "cell_type": "markdown",
   "id": "67341e9c",
   "metadata": {},
   "source": [
    "nombre_infected       706\n",
    "nombre_sain          1759\n",
    "nombre_exposed        373\n",
    "nombre_recovered    17162\n",
    "Name: 198, dtype: int64"
   ]
  },
  {
   "cell_type": "markdown",
   "id": "3b952ec3",
   "metadata": {},
   "source": [
    "nombre_infected       698\n",
    "nombre_sain          1779\n",
    "nombre_exposed        359\n",
    "nombre_recovered    17164\n",
    "Name: 199, dtype: int64"
   ]
  },
  {
   "cell_type": "markdown",
   "id": "a5f4388c",
   "metadata": {},
   "source": [
    "nombre_infected       668\n",
    "nombre_sain          1790\n",
    "nombre_exposed        355\n",
    "nombre_recovered    17187\n",
    "Name: 200, dtype: int64"
   ]
  },
  {
   "cell_type": "markdown",
   "id": "020ef5b5",
   "metadata": {},
   "source": [
    "nombre_infected       649\n",
    "nombre_sain          1803\n",
    "nombre_exposed        355\n",
    "nombre_recovered    17193\n",
    "Name: 201, dtype: int64"
   ]
  },
  {
   "cell_type": "markdown",
   "id": "89a9e999",
   "metadata": {},
   "source": [
    "nombre_infected       643\n",
    "nombre_sain          1840\n",
    "nombre_exposed        332\n",
    "nombre_recovered    17185\n",
    "Name: 202, dtype: int64"
   ]
  },
  {
   "cell_type": "markdown",
   "id": "46c12145",
   "metadata": {},
   "source": [
    "nombre_infected       621\n",
    "nombre_sain          1864\n",
    "nombre_exposed        330\n",
    "nombre_recovered    17185\n",
    "Name: 203, dtype: int64"
   ]
  },
  {
   "cell_type": "markdown",
   "id": "aa43be0c",
   "metadata": {},
   "source": [
    "nombre_infected       590\n",
    "nombre_sain          1918\n",
    "nombre_exposed        325\n",
    "nombre_recovered    17167\n",
    "Name: 204, dtype: int64"
   ]
  },
  {
   "cell_type": "markdown",
   "id": "4f7fcc33",
   "metadata": {},
   "source": [
    "nombre_infected       577\n",
    "nombre_sain          1957\n",
    "nombre_exposed        318\n",
    "nombre_recovered    17148\n",
    "Name: 205, dtype: int64"
   ]
  },
  {
   "cell_type": "markdown",
   "id": "15058533",
   "metadata": {},
   "source": [
    "nombre_infected       559\n",
    "nombre_sain          2008\n",
    "nombre_exposed        316\n",
    "nombre_recovered    17117\n",
    "Name: 206, dtype: int64"
   ]
  },
  {
   "cell_type": "markdown",
   "id": "b4c96d97",
   "metadata": {},
   "source": [
    "nombre_infected       545\n",
    "nombre_sain          2028\n",
    "nombre_exposed        332\n",
    "nombre_recovered    17095\n",
    "Name: 207, dtype: int64"
   ]
  },
  {
   "cell_type": "markdown",
   "id": "d4b42133",
   "metadata": {},
   "source": [
    "nombre_infected       544\n",
    "nombre_sain          2076\n",
    "nombre_exposed        314\n",
    "nombre_recovered    17066\n",
    "Name: 208, dtype: int64"
   ]
  },
  {
   "cell_type": "markdown",
   "id": "9b1c0ea0",
   "metadata": {},
   "source": [
    "nombre_infected       532\n",
    "nombre_sain          2118\n",
    "nombre_exposed        318\n",
    "nombre_recovered    17032\n",
    "Name: 209, dtype: int64"
   ]
  },
  {
   "cell_type": "markdown",
   "id": "14eccf2b",
   "metadata": {},
   "source": [
    "nombre_infected       517\n",
    "nombre_sain          2162\n",
    "nombre_exposed        314\n",
    "nombre_recovered    17007\n",
    "Name: 210, dtype: int64"
   ]
  },
  {
   "cell_type": "markdown",
   "id": "8c178903",
   "metadata": {},
   "source": [
    "nombre_infected       507\n",
    "nombre_sain          2177\n",
    "nombre_exposed        325\n",
    "nombre_recovered    16991\n",
    "Name: 211, dtype: int64"
   ]
  },
  {
   "cell_type": "markdown",
   "id": "471974f2",
   "metadata": {},
   "source": [
    "nombre_infected       519\n",
    "nombre_sain          2204\n",
    "nombre_exposed        306\n",
    "nombre_recovered    16971\n",
    "Name: 212, dtype: int64"
   ]
  },
  {
   "cell_type": "markdown",
   "id": "b43f66ed",
   "metadata": {},
   "source": [
    "nombre_infected       507\n",
    "nombre_sain          2228\n",
    "nombre_exposed        310\n",
    "nombre_recovered    16955\n",
    "Name: 213, dtype: int64"
   ]
  },
  {
   "cell_type": "markdown",
   "id": "4e6524f4",
   "metadata": {},
   "source": [
    "nombre_infected       508\n",
    "nombre_sain          2255\n",
    "nombre_exposed        321\n",
    "nombre_recovered    16916\n",
    "Name: 214, dtype: int64"
   ]
  },
  {
   "cell_type": "markdown",
   "id": "be4cbb60",
   "metadata": {},
   "source": [
    "nombre_infected       505\n",
    "nombre_sain          2266\n",
    "nombre_exposed        320\n",
    "nombre_recovered    16909\n",
    "Name: 215, dtype: int64"
   ]
  },
  {
   "cell_type": "markdown",
   "id": "015d3015",
   "metadata": {},
   "source": [
    "nombre_infected       510\n",
    "nombre_sain          2323\n",
    "nombre_exposed        296\n",
    "nombre_recovered    16871\n",
    "Name: 216, dtype: int64"
   ]
  },
  {
   "cell_type": "markdown",
   "id": "47ee3f7f",
   "metadata": {},
   "source": [
    "nombre_infected       512\n",
    "nombre_sain          2318\n",
    "nombre_exposed        320\n",
    "nombre_recovered    16850\n",
    "Name: 217, dtype: int64"
   ]
  },
  {
   "cell_type": "markdown",
   "id": "ddf89b4b",
   "metadata": {},
   "source": [
    "nombre_infected       499\n",
    "nombre_sain          2342\n",
    "nombre_exposed        330\n",
    "nombre_recovered    16829\n",
    "Name: 218, dtype: int64"
   ]
  },
  {
   "cell_type": "markdown",
   "id": "53d4abda",
   "metadata": {},
   "source": [
    "nombre_infected       495\n",
    "nombre_sain          2363\n",
    "nombre_exposed        330\n",
    "nombre_recovered    16812\n",
    "Name: 219, dtype: int64"
   ]
  },
  {
   "cell_type": "markdown",
   "id": "2f330a6a",
   "metadata": {},
   "source": [
    "nombre_infected       487\n",
    "nombre_sain          2355\n",
    "nombre_exposed        348\n",
    "nombre_recovered    16810\n",
    "Name: 220, dtype: int64"
   ]
  },
  {
   "cell_type": "markdown",
   "id": "109dbb8f",
   "metadata": {},
   "source": [
    "nombre_infected       505\n",
    "nombre_sain          2381\n",
    "nombre_exposed        325\n",
    "nombre_recovered    16789\n",
    "Name: 221, dtype: int64"
   ]
  },
  {
   "cell_type": "markdown",
   "id": "fb10a4b2",
   "metadata": {},
   "source": [
    "nombre_infected       517\n",
    "nombre_sain          2406\n",
    "nombre_exposed        334\n",
    "nombre_recovered    16743\n",
    "Name: 222, dtype: int64"
   ]
  },
  {
   "cell_type": "markdown",
   "id": "21a4c37b",
   "metadata": {},
   "source": [
    "nombre_infected       519\n",
    "nombre_sain          2419\n",
    "nombre_exposed        348\n",
    "nombre_recovered    16714\n",
    "Name: 223, dtype: int64"
   ]
  },
  {
   "cell_type": "markdown",
   "id": "7a777634",
   "metadata": {},
   "source": [
    "nombre_infected       516\n",
    "nombre_sain          2425\n",
    "nombre_exposed        349\n",
    "nombre_recovered    16710\n",
    "Name: 224, dtype: int64"
   ]
  },
  {
   "cell_type": "markdown",
   "id": "c8f07ebe",
   "metadata": {},
   "source": [
    "nombre_infected       521\n",
    "nombre_sain          2433\n",
    "nombre_exposed        341\n",
    "nombre_recovered    16705\n",
    "Name: 225, dtype: int64"
   ]
  },
  {
   "cell_type": "markdown",
   "id": "c00e08aa",
   "metadata": {},
   "source": [
    "nombre_infected       545\n",
    "nombre_sain          2458\n",
    "nombre_exposed        333\n",
    "nombre_recovered    16664\n",
    "Name: 226, dtype: int64"
   ]
  },
  {
   "cell_type": "markdown",
   "id": "6ef0de68",
   "metadata": {},
   "source": [
    "nombre_infected       566\n",
    "nombre_sain          2478\n",
    "nombre_exposed        328\n",
    "nombre_recovered    16628\n",
    "Name: 227, dtype: int64"
   ]
  },
  {
   "cell_type": "markdown",
   "id": "6332114e",
   "metadata": {},
   "source": [
    "nombre_infected       586\n",
    "nombre_sain          2472\n",
    "nombre_exposed        350\n",
    "nombre_recovered    16592\n",
    "Name: 228, dtype: int64"
   ]
  },
  {
   "cell_type": "markdown",
   "id": "0a96ea92",
   "metadata": {},
   "source": [
    "nombre_infected       575\n",
    "nombre_sain          2473\n",
    "nombre_exposed        372\n",
    "nombre_recovered    16580\n",
    "Name: 229, dtype: int64"
   ]
  },
  {
   "cell_type": "markdown",
   "id": "d2c10b8c",
   "metadata": {},
   "source": [
    "nombre_infected       577\n",
    "nombre_sain          2496\n",
    "nombre_exposed        372\n",
    "nombre_recovered    16555\n",
    "Name: 230, dtype: int64"
   ]
  },
  {
   "cell_type": "markdown",
   "id": "9962274a",
   "metadata": {},
   "source": [
    "nombre_infected       585\n",
    "nombre_sain          2501\n",
    "nombre_exposed        396\n",
    "nombre_recovered    16518\n",
    "Name: 231, dtype: int64"
   ]
  },
  {
   "cell_type": "markdown",
   "id": "0f57c9ba",
   "metadata": {},
   "source": [
    "nombre_infected       596\n",
    "nombre_sain          2523\n",
    "nombre_exposed        400\n",
    "nombre_recovered    16481\n",
    "Name: 232, dtype: int64"
   ]
  },
  {
   "cell_type": "markdown",
   "id": "b45936c0",
   "metadata": {},
   "source": [
    "nombre_infected       615\n",
    "nombre_sain          2541\n",
    "nombre_exposed        388\n",
    "nombre_recovered    16456\n",
    "Name: 233, dtype: int64"
   ]
  },
  {
   "cell_type": "markdown",
   "id": "2e82f51a",
   "metadata": {},
   "source": [
    "nombre_infected       635\n",
    "nombre_sain          2578\n",
    "nombre_exposed        377\n",
    "nombre_recovered    16410\n",
    "Name: 234, dtype: int64"
   ]
  },
  {
   "cell_type": "markdown",
   "id": "abce9360",
   "metadata": {},
   "source": [
    "nombre_infected       633\n",
    "nombre_sain          2586\n",
    "nombre_exposed        394\n",
    "nombre_recovered    16387\n",
    "Name: 235, dtype: int64"
   ]
  },
  {
   "cell_type": "markdown",
   "id": "1f734585",
   "metadata": {},
   "source": [
    "nombre_infected       615\n",
    "nombre_sain          2574\n",
    "nombre_exposed        417\n",
    "nombre_recovered    16394\n",
    "Name: 236, dtype: int64"
   ]
  },
  {
   "cell_type": "markdown",
   "id": "b0e76fec",
   "metadata": {},
   "source": [
    "nombre_infected       617\n",
    "nombre_sain          2592\n",
    "nombre_exposed        415\n",
    "nombre_recovered    16376\n",
    "Name: 237, dtype: int64"
   ]
  },
  {
   "cell_type": "markdown",
   "id": "b342bff0",
   "metadata": {},
   "source": [
    "nombre_infected       631\n",
    "nombre_sain          2641\n",
    "nombre_exposed        394\n",
    "nombre_recovered    16334\n",
    "Name: 238, dtype: int64"
   ]
  },
  {
   "cell_type": "markdown",
   "id": "e004c354",
   "metadata": {},
   "source": [
    "nombre_infected       662\n",
    "nombre_sain          2653\n",
    "nombre_exposed        390\n",
    "nombre_recovered    16295\n",
    "Name: 239, dtype: int64"
   ]
  },
  {
   "cell_type": "markdown",
   "id": "09fd9fd5",
   "metadata": {},
   "source": [
    "nombre_infected       667\n",
    "nombre_sain          2647\n",
    "nombre_exposed        407\n",
    "nombre_recovered    16279\n",
    "Name: 240, dtype: int64"
   ]
  },
  {
   "cell_type": "markdown",
   "id": "733cb81f",
   "metadata": {},
   "source": [
    "nombre_infected       657\n",
    "nombre_sain          2642\n",
    "nombre_exposed        434\n",
    "nombre_recovered    16267\n",
    "Name: 241, dtype: int64"
   ]
  },
  {
   "cell_type": "markdown",
   "id": "a13e7abd",
   "metadata": {},
   "source": [
    "nombre_infected       645\n",
    "nombre_sain          2610\n",
    "nombre_exposed        449\n",
    "nombre_recovered    16296\n",
    "Name: 242, dtype: int64"
   ]
  },
  {
   "cell_type": "markdown",
   "id": "e401f432",
   "metadata": {},
   "source": [
    "nombre_infected       665\n",
    "nombre_sain          2625\n",
    "nombre_exposed        433\n",
    "nombre_recovered    16277\n",
    "Name: 243, dtype: int64"
   ]
  },
  {
   "cell_type": "markdown",
   "id": "3c7a6416",
   "metadata": {},
   "source": [
    "nombre_infected       684\n",
    "nombre_sain          2625\n",
    "nombre_exposed        441\n",
    "nombre_recovered    16250\n",
    "Name: 244, dtype: int64"
   ]
  },
  {
   "cell_type": "markdown",
   "id": "8b2af9e8",
   "metadata": {},
   "source": [
    "nombre_infected       699\n",
    "nombre_sain          2621\n",
    "nombre_exposed        450\n",
    "nombre_recovered    16230\n",
    "Name: 245, dtype: int64"
   ]
  },
  {
   "cell_type": "markdown",
   "id": "40bdfd62",
   "metadata": {},
   "source": [
    "nombre_infected       708\n",
    "nombre_sain          2596\n",
    "nombre_exposed        459\n",
    "nombre_recovered    16237\n",
    "Name: 246, dtype: int64"
   ]
  },
  {
   "cell_type": "markdown",
   "id": "a8b03db2",
   "metadata": {},
   "source": [
    "nombre_infected       705\n",
    "nombre_sain          2587\n",
    "nombre_exposed        481\n",
    "nombre_recovered    16227\n",
    "Name: 247, dtype: int64"
   ]
  },
  {
   "cell_type": "markdown",
   "id": "14dabef1",
   "metadata": {},
   "source": [
    "nombre_infected       727\n",
    "nombre_sain          2575\n",
    "nombre_exposed        476\n",
    "nombre_recovered    16222\n",
    "Name: 248, dtype: int64"
   ]
  },
  {
   "cell_type": "markdown",
   "id": "65eb58ec",
   "metadata": {},
   "source": [
    "nombre_infected       769\n",
    "nombre_sain          2570\n",
    "nombre_exposed        464\n",
    "nombre_recovered    16197\n",
    "Name: 249, dtype: int64"
   ]
  },
  {
   "cell_type": "markdown",
   "id": "9fa32e5f",
   "metadata": {},
   "source": [
    "nombre_infected       765\n",
    "nombre_sain          2554\n",
    "nombre_exposed        485\n",
    "nombre_recovered    16196\n",
    "Name: 250, dtype: int64"
   ]
  },
  {
   "cell_type": "markdown",
   "id": "7da359a0",
   "metadata": {},
   "source": [
    "nombre_infected       777\n",
    "nombre_sain          2516\n",
    "nombre_exposed        485\n",
    "nombre_recovered    16222\n",
    "Name: 251, dtype: int64"
   ]
  },
  {
   "cell_type": "markdown",
   "id": "b10687dc",
   "metadata": {},
   "source": [
    "nombre_infected       763\n",
    "nombre_sain          2505\n",
    "nombre_exposed        508\n",
    "nombre_recovered    16224\n",
    "Name: 252, dtype: int64"
   ]
  },
  {
   "cell_type": "markdown",
   "id": "3177e7d0",
   "metadata": {},
   "source": [
    "nombre_infected       774\n",
    "nombre_sain          2492\n",
    "nombre_exposed        508\n",
    "nombre_recovered    16226\n",
    "Name: 253, dtype: int64"
   ]
  },
  {
   "cell_type": "markdown",
   "id": "b3d70bd3",
   "metadata": {},
   "source": [
    "nombre_infected       807\n",
    "nombre_sain          2460\n",
    "nombre_exposed        498\n",
    "nombre_recovered    16235\n",
    "Name: 254, dtype: int64"
   ]
  },
  {
   "cell_type": "markdown",
   "id": "5669c837",
   "metadata": {},
   "source": [
    "nombre_infected       819\n",
    "nombre_sain          2446\n",
    "nombre_exposed        486\n",
    "nombre_recovered    16249\n",
    "Name: 255, dtype: int64"
   ]
  },
  {
   "cell_type": "markdown",
   "id": "7d9ec65e",
   "metadata": {},
   "source": [
    "nombre_infected       828\n",
    "nombre_sain          2419\n",
    "nombre_exposed        494\n",
    "nombre_recovered    16259\n",
    "Name: 256, dtype: int64"
   ]
  },
  {
   "cell_type": "markdown",
   "id": "3dcabb10",
   "metadata": {},
   "source": [
    "nombre_infected       855\n",
    "nombre_sain          2386\n",
    "nombre_exposed        488\n",
    "nombre_recovered    16271\n",
    "Name: 257, dtype: int64"
   ]
  },
  {
   "cell_type": "markdown",
   "id": "3c095ccc",
   "metadata": {},
   "source": [
    "nombre_infected       853\n",
    "nombre_sain          2363\n",
    "nombre_exposed        503\n",
    "nombre_recovered    16281\n",
    "Name: 258, dtype: int64"
   ]
  },
  {
   "cell_type": "markdown",
   "id": "329ba755",
   "metadata": {},
   "source": [
    "nombre_infected       852\n",
    "nombre_sain          2325\n",
    "nombre_exposed        512\n",
    "nombre_recovered    16311\n",
    "Name: 259, dtype: int64"
   ]
  },
  {
   "cell_type": "markdown",
   "id": "b9168040",
   "metadata": {},
   "source": [
    "nombre_infected       849\n",
    "nombre_sain          2305\n",
    "nombre_exposed        504\n",
    "nombre_recovered    16342\n",
    "Name: 260, dtype: int64"
   ]
  },
  {
   "cell_type": "markdown",
   "id": "08026676",
   "metadata": {},
   "source": [
    "nombre_infected       858\n",
    "nombre_sain          2282\n",
    "nombre_exposed        509\n",
    "nombre_recovered    16351\n",
    "Name: 261, dtype: int64"
   ]
  },
  {
   "cell_type": "markdown",
   "id": "f97492cb",
   "metadata": {},
   "source": [
    "nombre_infected       857\n",
    "nombre_sain          2283\n",
    "nombre_exposed        508\n",
    "nombre_recovered    16352\n",
    "Name: 262, dtype: int64"
   ]
  },
  {
   "cell_type": "markdown",
   "id": "d555b5b1",
   "metadata": {},
   "source": [
    "nombre_infected       870\n",
    "nombre_sain          2247\n",
    "nombre_exposed        515\n",
    "nombre_recovered    16368\n",
    "Name: 263, dtype: int64"
   ]
  },
  {
   "cell_type": "markdown",
   "id": "ec7b43cb",
   "metadata": {},
   "source": [
    "nombre_infected       867\n",
    "nombre_sain          2248\n",
    "nombre_exposed        498\n",
    "nombre_recovered    16387\n",
    "Name: 264, dtype: int64"
   ]
  },
  {
   "cell_type": "markdown",
   "id": "c5bd62f7",
   "metadata": {},
   "source": [
    "nombre_infected       861\n",
    "nombre_sain          2250\n",
    "nombre_exposed        495\n",
    "nombre_recovered    16394\n",
    "Name: 265, dtype: int64"
   ]
  },
  {
   "cell_type": "markdown",
   "id": "604b331d",
   "metadata": {},
   "source": [
    "nombre_infected       853\n",
    "nombre_sain          2221\n",
    "nombre_exposed        518\n",
    "nombre_recovered    16408\n",
    "Name: 266, dtype: int64"
   ]
  },
  {
   "cell_type": "markdown",
   "id": "7c0359d1",
   "metadata": {},
   "source": [
    "nombre_infected       871\n",
    "nombre_sain          2220\n",
    "nombre_exposed        510\n",
    "nombre_recovered    16399\n",
    "Name: 267, dtype: int64"
   ]
  },
  {
   "cell_type": "markdown",
   "id": "8523d813",
   "metadata": {},
   "source": [
    "nombre_infected       833\n",
    "nombre_sain          2215\n",
    "nombre_exposed        517\n",
    "nombre_recovered    16435\n",
    "Name: 268, dtype: int64"
   ]
  },
  {
   "cell_type": "markdown",
   "id": "cc20acc7",
   "metadata": {},
   "source": [
    "nombre_infected       836\n",
    "nombre_sain          2232\n",
    "nombre_exposed        490\n",
    "nombre_recovered    16442\n",
    "Name: 269, dtype: int64"
   ]
  },
  {
   "cell_type": "markdown",
   "id": "4e8b818c",
   "metadata": {},
   "source": [
    "nombre_infected       825\n",
    "nombre_sain          2258\n",
    "nombre_exposed        485\n",
    "nombre_recovered    16432\n",
    "Name: 270, dtype: int64"
   ]
  },
  {
   "cell_type": "markdown",
   "id": "0abc25db",
   "metadata": {},
   "source": [
    "nombre_infected       823\n",
    "nombre_sain          2264\n",
    "nombre_exposed        481\n",
    "nombre_recovered    16432\n",
    "Name: 271, dtype: int64"
   ]
  },
  {
   "cell_type": "markdown",
   "id": "5d50655b",
   "metadata": {},
   "source": [
    "nombre_infected       815\n",
    "nombre_sain          2264\n",
    "nombre_exposed        488\n",
    "nombre_recovered    16433\n",
    "Name: 272, dtype: int64"
   ]
  },
  {
   "cell_type": "markdown",
   "id": "2f60083c",
   "metadata": {},
   "source": [
    "nombre_infected       803\n",
    "nombre_sain          2261\n",
    "nombre_exposed        510\n",
    "nombre_recovered    16426\n",
    "Name: 273, dtype: int64"
   ]
  },
  {
   "cell_type": "markdown",
   "id": "0f1a99f7",
   "metadata": {},
   "source": [
    "nombre_infected       799\n",
    "nombre_sain          2276\n",
    "nombre_exposed        507\n",
    "nombre_recovered    16418\n",
    "Name: 274, dtype: int64"
   ]
  },
  {
   "cell_type": "markdown",
   "id": "d5664e6b",
   "metadata": {},
   "source": [
    "nombre_infected       790\n",
    "nombre_sain          2279\n",
    "nombre_exposed        504\n",
    "nombre_recovered    16427\n",
    "Name: 275, dtype: int64"
   ]
  },
  {
   "cell_type": "markdown",
   "id": "09031234",
   "metadata": {},
   "source": [
    "nombre_infected       815\n",
    "nombre_sain          2289\n",
    "nombre_exposed        498\n",
    "nombre_recovered    16398\n",
    "Name: 276, dtype: int64"
   ]
  },
  {
   "cell_type": "markdown",
   "id": "9f9bb970",
   "metadata": {},
   "source": [
    "nombre_infected       828\n",
    "nombre_sain          2298\n",
    "nombre_exposed        487\n",
    "nombre_recovered    16387\n",
    "Name: 277, dtype: int64"
   ]
  },
  {
   "cell_type": "markdown",
   "id": "e00500ad",
   "metadata": {},
   "source": [
    "nombre_infected       824\n",
    "nombre_sain          2288\n",
    "nombre_exposed        506\n",
    "nombre_recovered    16382\n",
    "Name: 278, dtype: int64"
   ]
  },
  {
   "cell_type": "markdown",
   "id": "c58f83ed",
   "metadata": {},
   "source": [
    "nombre_infected       841\n",
    "nombre_sain          2281\n",
    "nombre_exposed        516\n",
    "nombre_recovered    16362\n",
    "Name: 279, dtype: int64"
   ]
  },
  {
   "cell_type": "markdown",
   "id": "9cc94bfa",
   "metadata": {},
   "source": [
    "nombre_infected       845\n",
    "nombre_sain          2308\n",
    "nombre_exposed        511\n",
    "nombre_recovered    16336\n",
    "Name: 280, dtype: int64"
   ]
  },
  {
   "cell_type": "markdown",
   "id": "b30ef8ec",
   "metadata": {},
   "source": [
    "nombre_infected       855\n",
    "nombre_sain          2299\n",
    "nombre_exposed        523\n",
    "nombre_recovered    16323\n",
    "Name: 281, dtype: int64"
   ]
  },
  {
   "cell_type": "markdown",
   "id": "e60a2ee7",
   "metadata": {},
   "source": [
    "nombre_infected       857\n",
    "nombre_sain          2265\n",
    "nombre_exposed        524\n",
    "nombre_recovered    16354\n",
    "Name: 282, dtype: int64"
   ]
  },
  {
   "cell_type": "markdown",
   "id": "79271957",
   "metadata": {},
   "source": [
    "nombre_infected       868\n",
    "nombre_sain          2265\n",
    "nombre_exposed        528\n",
    "nombre_recovered    16339\n",
    "Name: 283, dtype: int64"
   ]
  },
  {
   "cell_type": "markdown",
   "id": "fafba78a",
   "metadata": {},
   "source": [
    "nombre_infected       860\n",
    "nombre_sain          2259\n",
    "nombre_exposed        556\n",
    "nombre_recovered    16325\n",
    "Name: 284, dtype: int64"
   ]
  },
  {
   "cell_type": "markdown",
   "id": "a196a1ec",
   "metadata": {},
   "source": [
    "nombre_infected       832\n",
    "nombre_sain          2271\n",
    "nombre_exposed        566\n",
    "nombre_recovered    16331\n",
    "Name: 285, dtype: int64"
   ]
  },
  {
   "cell_type": "markdown",
   "id": "347e921b",
   "metadata": {},
   "source": [
    "nombre_infected       843\n",
    "nombre_sain          2300\n",
    "nombre_exposed        537\n",
    "nombre_recovered    16320\n",
    "Name: 286, dtype: int64"
   ]
  },
  {
   "cell_type": "markdown",
   "id": "da5e1820",
   "metadata": {},
   "source": [
    "nombre_infected       878\n",
    "nombre_sain          2295\n",
    "nombre_exposed        517\n",
    "nombre_recovered    16310\n",
    "Name: 287, dtype: int64"
   ]
  },
  {
   "cell_type": "markdown",
   "id": "77819421",
   "metadata": {},
   "source": [
    "nombre_infected       898\n",
    "nombre_sain          2299\n",
    "nombre_exposed        508\n",
    "nombre_recovered    16295\n",
    "Name: 288, dtype: int64"
   ]
  },
  {
   "cell_type": "markdown",
   "id": "6fa03550",
   "metadata": {},
   "source": [
    "nombre_infected       903\n",
    "nombre_sain          2297\n",
    "nombre_exposed        507\n",
    "nombre_recovered    16293\n",
    "Name: 289, dtype: int64"
   ]
  },
  {
   "cell_type": "markdown",
   "id": "8411a280",
   "metadata": {},
   "source": [
    "nombre_infected       900\n",
    "nombre_sain          2310\n",
    "nombre_exposed        505\n",
    "nombre_recovered    16285\n",
    "Name: 290, dtype: int64"
   ]
  },
  {
   "cell_type": "markdown",
   "id": "c620fcc7",
   "metadata": {},
   "source": [
    "nombre_infected       892\n",
    "nombre_sain          2306\n",
    "nombre_exposed        517\n",
    "nombre_recovered    16285\n",
    "Name: 291, dtype: int64"
   ]
  },
  {
   "cell_type": "markdown",
   "id": "1e01d6a6",
   "metadata": {},
   "source": [
    "nombre_infected       885\n",
    "nombre_sain          2307\n",
    "nombre_exposed        529\n",
    "nombre_recovered    16279\n",
    "Name: 292, dtype: int64"
   ]
  },
  {
   "cell_type": "markdown",
   "id": "547b095e",
   "metadata": {},
   "source": [
    "nombre_infected       878\n",
    "nombre_sain          2307\n",
    "nombre_exposed        538\n",
    "nombre_recovered    16277\n",
    "Name: 293, dtype: int64"
   ]
  },
  {
   "cell_type": "markdown",
   "id": "6f17428c",
   "metadata": {},
   "source": [
    "nombre_infected       899\n",
    "nombre_sain          2307\n",
    "nombre_exposed        538\n",
    "nombre_recovered    16256\n",
    "Name: 294, dtype: int64"
   ]
  },
  {
   "cell_type": "markdown",
   "id": "7f9b5088",
   "metadata": {},
   "source": [
    "nombre_infected       901\n",
    "nombre_sain          2281\n",
    "nombre_exposed        551\n",
    "nombre_recovered    16267\n",
    "Name: 295, dtype: int64"
   ]
  },
  {
   "cell_type": "markdown",
   "id": "b8564300",
   "metadata": {},
   "source": [
    "nombre_infected       891\n",
    "nombre_sain          2265\n",
    "nombre_exposed        547\n",
    "nombre_recovered    16297\n",
    "Name: 296, dtype: int64"
   ]
  },
  {
   "cell_type": "markdown",
   "id": "2ac074d4",
   "metadata": {},
   "source": [
    "nombre_infected       903\n",
    "nombre_sain          2238\n",
    "nombre_exposed        549\n",
    "nombre_recovered    16310\n",
    "Name: 297, dtype: int64"
   ]
  },
  {
   "cell_type": "markdown",
   "id": "62d4820b",
   "metadata": {},
   "source": [
    "nombre_infected       910\n",
    "nombre_sain          2238\n",
    "nombre_exposed        537\n",
    "nombre_recovered    16315\n",
    "Name: 298, dtype: int64"
   ]
  },
  {
   "cell_type": "markdown",
   "id": "bdad729d",
   "metadata": {},
   "source": [
    "nombre_infected       933\n",
    "nombre_sain          2234\n",
    "nombre_exposed        511\n",
    "nombre_recovered    16322\n",
    "Name: 299, dtype: int64"
   ]
  },
  {
   "cell_type": "markdown",
   "id": "62905750",
   "metadata": {},
   "source": [
    "nombre_infected       932\n",
    "nombre_sain          2206\n",
    "nombre_exposed        509\n",
    "nombre_recovered    16353\n",
    "Name: 300, dtype: int64"
   ]
  },
  {
   "cell_type": "markdown",
   "id": "e8a60b0f",
   "metadata": {},
   "source": [
    "nombre_infected       939\n",
    "nombre_sain          2175\n",
    "nombre_exposed        522\n",
    "nombre_recovered    16364\n",
    "Name: 301, dtype: int64"
   ]
  },
  {
   "cell_type": "markdown",
   "id": "f2ab7894",
   "metadata": {},
   "source": [
    "nombre_infected       921\n",
    "nombre_sain          2144\n",
    "nombre_exposed        554\n",
    "nombre_recovered    16381\n",
    "Name: 302, dtype: int64"
   ]
  },
  {
   "cell_type": "markdown",
   "id": "0af6aea9",
   "metadata": {},
   "source": [
    "nombre_infected       887\n",
    "nombre_sain          2122\n",
    "nombre_exposed        549\n",
    "nombre_recovered    16442\n",
    "Name: 303, dtype: int64"
   ]
  },
  {
   "cell_type": "markdown",
   "id": "f74eef92",
   "metadata": {},
   "source": [
    "nombre_infected       897\n",
    "nombre_sain          2088\n",
    "nombre_exposed        548\n",
    "nombre_recovered    16467\n",
    "Name: 304, dtype: int64"
   ]
  },
  {
   "cell_type": "markdown",
   "id": "3db36b57",
   "metadata": {},
   "source": [
    "nombre_infected       907\n",
    "nombre_sain          2074\n",
    "nombre_exposed        522\n",
    "nombre_recovered    16497\n",
    "Name: 305, dtype: int64"
   ]
  },
  {
   "cell_type": "markdown",
   "id": "fc5f4476",
   "metadata": {},
   "source": [
    "nombre_infected       915\n",
    "nombre_sain          2040\n",
    "nombre_exposed        504\n",
    "nombre_recovered    16541\n",
    "Name: 306, dtype: int64"
   ]
  },
  {
   "cell_type": "markdown",
   "id": "9b5f5010",
   "metadata": {},
   "source": [
    "nombre_infected       894\n",
    "nombre_sain          2033\n",
    "nombre_exposed        504\n",
    "nombre_recovered    16569\n",
    "Name: 307, dtype: int64"
   ]
  },
  {
   "cell_type": "markdown",
   "id": "9604d378",
   "metadata": {},
   "source": [
    "nombre_infected       913\n",
    "nombre_sain          2023\n",
    "nombre_exposed        480\n",
    "nombre_recovered    16584\n",
    "Name: 308, dtype: int64"
   ]
  },
  {
   "cell_type": "markdown",
   "id": "8c3e0ab9",
   "metadata": {},
   "source": [
    "nombre_infected       916\n",
    "nombre_sain          2003\n",
    "nombre_exposed        489\n",
    "nombre_recovered    16592\n",
    "Name: 309, dtype: int64"
   ]
  },
  {
   "cell_type": "markdown",
   "id": "a5d88ad6",
   "metadata": {},
   "source": [
    "nombre_infected       921\n",
    "nombre_sain          1975\n",
    "nombre_exposed        490\n",
    "nombre_recovered    16614\n",
    "Name: 310, dtype: int64"
   ]
  },
  {
   "cell_type": "markdown",
   "id": "273d2a18",
   "metadata": {},
   "source": [
    "nombre_infected       904\n",
    "nombre_sain          1986\n",
    "nombre_exposed        479\n",
    "nombre_recovered    16631\n",
    "Name: 311, dtype: int64"
   ]
  },
  {
   "cell_type": "markdown",
   "id": "64d79493",
   "metadata": {},
   "source": [
    "nombre_infected       895\n",
    "nombre_sain          1991\n",
    "nombre_exposed        478\n",
    "nombre_recovered    16636\n",
    "Name: 312, dtype: int64"
   ]
  },
  {
   "cell_type": "markdown",
   "id": "d5d5968f",
   "metadata": {},
   "source": [
    "nombre_infected       899\n",
    "nombre_sain          1994\n",
    "nombre_exposed        474\n",
    "nombre_recovered    16633\n",
    "Name: 313, dtype: int64"
   ]
  },
  {
   "cell_type": "markdown",
   "id": "29ea52ad",
   "metadata": {},
   "source": [
    "nombre_infected       878\n",
    "nombre_sain          2007\n",
    "nombre_exposed        499\n",
    "nombre_recovered    16616\n",
    "Name: 314, dtype: int64"
   ]
  },
  {
   "cell_type": "markdown",
   "id": "94090580",
   "metadata": {},
   "source": [
    "nombre_infected       880\n",
    "nombre_sain          2030\n",
    "nombre_exposed        488\n",
    "nombre_recovered    16602\n",
    "Name: 315, dtype: int64"
   ]
  },
  {
   "cell_type": "markdown",
   "id": "75c88839",
   "metadata": {},
   "source": [
    "nombre_infected       875\n",
    "nombre_sain          2044\n",
    "nombre_exposed        483\n",
    "nombre_recovered    16598\n",
    "Name: 316, dtype: int64"
   ]
  },
  {
   "cell_type": "markdown",
   "id": "a7cd89d9",
   "metadata": {},
   "source": [
    "nombre_infected       878\n",
    "nombre_sain          2071\n",
    "nombre_exposed        472\n",
    "nombre_recovered    16579\n",
    "Name: 317, dtype: int64"
   ]
  },
  {
   "cell_type": "markdown",
   "id": "f507191e",
   "metadata": {},
   "source": [
    "nombre_infected       881\n",
    "nombre_sain          2072\n",
    "nombre_exposed        480\n",
    "nombre_recovered    16567\n",
    "Name: 318, dtype: int64"
   ]
  },
  {
   "cell_type": "markdown",
   "id": "5a306530",
   "metadata": {},
   "source": [
    "nombre_infected       869\n",
    "nombre_sain          2078\n",
    "nombre_exposed        480\n",
    "nombre_recovered    16573\n",
    "Name: 319, dtype: int64"
   ]
  },
  {
   "cell_type": "markdown",
   "id": "c3eb5318",
   "metadata": {},
   "source": [
    "nombre_infected       860\n",
    "nombre_sain          2110\n",
    "nombre_exposed        470\n",
    "nombre_recovered    16560\n",
    "Name: 320, dtype: int64"
   ]
  },
  {
   "cell_type": "markdown",
   "id": "338d94e7",
   "metadata": {},
   "source": [
    "nombre_infected       845\n",
    "nombre_sain          2126\n",
    "nombre_exposed        470\n",
    "nombre_recovered    16559\n",
    "Name: 321, dtype: int64"
   ]
  },
  {
   "cell_type": "markdown",
   "id": "0c7e0615",
   "metadata": {},
   "source": [
    "nombre_infected       839\n",
    "nombre_sain          2143\n",
    "nombre_exposed        486\n",
    "nombre_recovered    16532\n",
    "Name: 322, dtype: int64"
   ]
  },
  {
   "cell_type": "markdown",
   "id": "95f6c4ef",
   "metadata": {},
   "source": [
    "nombre_infected       841\n",
    "nombre_sain          2154\n",
    "nombre_exposed        486\n",
    "nombre_recovered    16519\n",
    "Name: 323, dtype: int64"
   ]
  },
  {
   "cell_type": "markdown",
   "id": "45f3a3e0",
   "metadata": {},
   "source": [
    "nombre_infected       854\n",
    "nombre_sain          2148\n",
    "nombre_exposed        506\n",
    "nombre_recovered    16492\n",
    "Name: 324, dtype: int64"
   ]
  },
  {
   "cell_type": "markdown",
   "id": "66eff022",
   "metadata": {},
   "source": [
    "nombre_infected       859\n",
    "nombre_sain          2171\n",
    "nombre_exposed        497\n",
    "nombre_recovered    16473\n",
    "Name: 325, dtype: int64"
   ]
  },
  {
   "cell_type": "markdown",
   "id": "8d803098",
   "metadata": {},
   "source": [
    "nombre_infected       867\n",
    "nombre_sain          2193\n",
    "nombre_exposed        477\n",
    "nombre_recovered    16463\n",
    "Name: 326, dtype: int64"
   ]
  },
  {
   "cell_type": "markdown",
   "id": "c49413ef",
   "metadata": {},
   "source": [
    "nombre_infected       858\n",
    "nombre_sain          2173\n",
    "nombre_exposed        490\n",
    "nombre_recovered    16479\n",
    "Name: 327, dtype: int64"
   ]
  },
  {
   "cell_type": "markdown",
   "id": "387955ff",
   "metadata": {},
   "source": [
    "nombre_infected       878\n",
    "nombre_sain          2190\n",
    "nombre_exposed        478\n",
    "nombre_recovered    16454\n",
    "Name: 328, dtype: int64"
   ]
  },
  {
   "cell_type": "markdown",
   "id": "51c70ddd",
   "metadata": {},
   "source": [
    "nombre_infected       876\n",
    "nombre_sain          2169\n",
    "nombre_exposed        490\n",
    "nombre_recovered    16465\n",
    "Name: 329, dtype: int64"
   ]
  },
  {
   "cell_type": "markdown",
   "id": "ca22817c",
   "metadata": {},
   "source": [
    "nombre_infected       868\n",
    "nombre_sain          2176\n",
    "nombre_exposed        491\n",
    "nombre_recovered    16465\n",
    "Name: 330, dtype: int64"
   ]
  },
  {
   "cell_type": "markdown",
   "id": "c0d6d1c3",
   "metadata": {},
   "source": [
    "nombre_infected       873\n",
    "nombre_sain          2185\n",
    "nombre_exposed        481\n",
    "nombre_recovered    16461\n",
    "Name: 331, dtype: int64"
   ]
  },
  {
   "cell_type": "markdown",
   "id": "012cef64",
   "metadata": {},
   "source": [
    "nombre_infected       853\n",
    "nombre_sain          2193\n",
    "nombre_exposed        484\n",
    "nombre_recovered    16470\n",
    "Name: 332, dtype: int64"
   ]
  },
  {
   "cell_type": "markdown",
   "id": "fc8b4a57",
   "metadata": {},
   "source": [
    "nombre_infected       876\n",
    "nombre_sain          2200\n",
    "nombre_exposed        456\n",
    "nombre_recovered    16468\n",
    "Name: 333, dtype: int64"
   ]
  },
  {
   "cell_type": "markdown",
   "id": "eb02893e",
   "metadata": {},
   "source": [
    "nombre_infected       864\n",
    "nombre_sain          2207\n",
    "nombre_exposed        469\n",
    "nombre_recovered    16460\n",
    "Name: 334, dtype: int64"
   ]
  },
  {
   "cell_type": "markdown",
   "id": "85e51cd9",
   "metadata": {},
   "source": [
    "nombre_infected       870\n",
    "nombre_sain          2220\n",
    "nombre_exposed        458\n",
    "nombre_recovered    16452\n",
    "Name: 335, dtype: int64"
   ]
  },
  {
   "cell_type": "markdown",
   "id": "36bf113e",
   "metadata": {},
   "source": [
    "nombre_infected       872\n",
    "nombre_sain          2210\n",
    "nombre_exposed        487\n",
    "nombre_recovered    16431\n",
    "Name: 336, dtype: int64"
   ]
  },
  {
   "cell_type": "markdown",
   "id": "4ab7bd5d",
   "metadata": {},
   "source": [
    "nombre_infected       863\n",
    "nombre_sain          2226\n",
    "nombre_exposed        485\n",
    "nombre_recovered    16426\n",
    "Name: 337, dtype: int64"
   ]
  },
  {
   "cell_type": "markdown",
   "id": "1dd98bea",
   "metadata": {},
   "source": [
    "nombre_infected       864\n",
    "nombre_sain          2240\n",
    "nombre_exposed        486\n",
    "nombre_recovered    16410\n",
    "Name: 338, dtype: int64"
   ]
  },
  {
   "cell_type": "markdown",
   "id": "d5d8ed79",
   "metadata": {},
   "source": [
    "nombre_infected       860\n",
    "nombre_sain          2236\n",
    "nombre_exposed        503\n",
    "nombre_recovered    16401\n",
    "Name: 339, dtype: int64"
   ]
  },
  {
   "cell_type": "markdown",
   "id": "6ea084a3",
   "metadata": {},
   "source": [
    "nombre_infected       848\n",
    "nombre_sain          2242\n",
    "nombre_exposed        496\n",
    "nombre_recovered    16414\n",
    "Name: 340, dtype: int64"
   ]
  },
  {
   "cell_type": "markdown",
   "id": "6262397a",
   "metadata": {},
   "source": [
    "nombre_infected       868\n",
    "nombre_sain          2255\n",
    "nombre_exposed        481\n",
    "nombre_recovered    16396\n",
    "Name: 341, dtype: int64"
   ]
  },
  {
   "cell_type": "markdown",
   "id": "ea221c81",
   "metadata": {},
   "source": [
    "nombre_infected       866\n",
    "nombre_sain          2262\n",
    "nombre_exposed        492\n",
    "nombre_recovered    16380\n",
    "Name: 342, dtype: int64"
   ]
  },
  {
   "cell_type": "markdown",
   "id": "84ad0add",
   "metadata": {},
   "source": [
    "nombre_infected       847\n",
    "nombre_sain          2256\n",
    "nombre_exposed        514\n",
    "nombre_recovered    16383\n",
    "Name: 343, dtype: int64"
   ]
  },
  {
   "cell_type": "markdown",
   "id": "d0c730b4",
   "metadata": {},
   "source": [
    "nombre_infected       822\n",
    "nombre_sain          2254\n",
    "nombre_exposed        516\n",
    "nombre_recovered    16408\n",
    "Name: 344, dtype: int64"
   ]
  },
  {
   "cell_type": "markdown",
   "id": "f5b253a3",
   "metadata": {},
   "source": [
    "nombre_infected       835\n",
    "nombre_sain          2270\n",
    "nombre_exposed        496\n",
    "nombre_recovered    16399\n",
    "Name: 345, dtype: int64"
   ]
  },
  {
   "cell_type": "markdown",
   "id": "9d6d65b2",
   "metadata": {},
   "source": [
    "nombre_infected       862\n",
    "nombre_sain          2257\n",
    "nombre_exposed        492\n",
    "nombre_recovered    16389\n",
    "Name: 346, dtype: int64"
   ]
  },
  {
   "cell_type": "markdown",
   "id": "b1ea2f68",
   "metadata": {},
   "source": [
    "nombre_infected       875\n",
    "nombre_sain          2255\n",
    "nombre_exposed        493\n",
    "nombre_recovered    16377\n",
    "Name: 347, dtype: int64"
   ]
  },
  {
   "cell_type": "markdown",
   "id": "04d16cbe",
   "metadata": {},
   "source": [
    "nombre_infected       878\n",
    "nombre_sain          2240\n",
    "nombre_exposed        513\n",
    "nombre_recovered    16369\n",
    "Name: 348, dtype: int64"
   ]
  },
  {
   "cell_type": "markdown",
   "id": "bb753273",
   "metadata": {},
   "source": [
    "nombre_infected       877\n",
    "nombre_sain          2231\n",
    "nombre_exposed        524\n",
    "nombre_recovered    16368\n",
    "Name: 349, dtype: int64"
   ]
  },
  {
   "cell_type": "markdown",
   "id": "029855cb",
   "metadata": {},
   "source": [
    "nombre_infected       863\n",
    "nombre_sain          2249\n",
    "nombre_exposed        497\n",
    "nombre_recovered    16391\n",
    "Name: 350, dtype: int64"
   ]
  },
  {
   "cell_type": "markdown",
   "id": "4f8e1341",
   "metadata": {},
   "source": [
    "nombre_infected       881\n",
    "nombre_sain          2228\n",
    "nombre_exposed        509\n",
    "nombre_recovered    16382\n",
    "Name: 351, dtype: int64"
   ]
  },
  {
   "cell_type": "markdown",
   "id": "24aedc9b",
   "metadata": {},
   "source": [
    "nombre_infected       876\n",
    "nombre_sain          2210\n",
    "nombre_exposed        513\n",
    "nombre_recovered    16401\n",
    "Name: 352, dtype: int64"
   ]
  },
  {
   "cell_type": "markdown",
   "id": "ca820dea",
   "metadata": {},
   "source": [
    "nombre_infected       867\n",
    "nombre_sain          2201\n",
    "nombre_exposed        508\n",
    "nombre_recovered    16424\n",
    "Name: 353, dtype: int64"
   ]
  },
  {
   "cell_type": "markdown",
   "id": "7607b304",
   "metadata": {},
   "source": [
    "nombre_infected       869\n",
    "nombre_sain          2171\n",
    "nombre_exposed        524\n",
    "nombre_recovered    16436\n",
    "Name: 354, dtype: int64"
   ]
  },
  {
   "cell_type": "markdown",
   "id": "5880b0ed",
   "metadata": {},
   "source": [
    "nombre_infected       855\n",
    "nombre_sain          2132\n",
    "nombre_exposed        527\n",
    "nombre_recovered    16486\n",
    "Name: 355, dtype: int64"
   ]
  },
  {
   "cell_type": "markdown",
   "id": "f12f2533",
   "metadata": {},
   "source": [
    "nombre_infected       881\n",
    "nombre_sain          2129\n",
    "nombre_exposed        498\n",
    "nombre_recovered    16492\n",
    "Name: 356, dtype: int64"
   ]
  },
  {
   "cell_type": "markdown",
   "id": "067d9b06",
   "metadata": {},
   "source": [
    "nombre_infected       894\n",
    "nombre_sain          2108\n",
    "nombre_exposed        517\n",
    "nombre_recovered    16481\n",
    "Name: 357, dtype: int64"
   ]
  },
  {
   "cell_type": "markdown",
   "id": "d00c2f56",
   "metadata": {},
   "source": [
    "nombre_infected       888\n",
    "nombre_sain          2093\n",
    "nombre_exposed        524\n",
    "nombre_recovered    16495\n",
    "Name: 358, dtype: int64"
   ]
  },
  {
   "cell_type": "markdown",
   "id": "337cd62a",
   "metadata": {},
   "source": [
    "nombre_infected       877\n",
    "nombre_sain          2101\n",
    "nombre_exposed        502\n",
    "nombre_recovered    16520\n",
    "Name: 359, dtype: int64"
   ]
  },
  {
   "cell_type": "markdown",
   "id": "615b2ae4",
   "metadata": {},
   "source": [
    "nombre_infected       870\n",
    "nombre_sain          2116\n",
    "nombre_exposed        480\n",
    "nombre_recovered    16534\n",
    "Name: 360, dtype: int64"
   ]
  },
  {
   "cell_type": "markdown",
   "id": "530defa4",
   "metadata": {},
   "source": [
    "nombre_infected       881\n",
    "nombre_sain          2124\n",
    "nombre_exposed        461\n",
    "nombre_recovered    16534\n",
    "Name: 361, dtype: int64"
   ]
  },
  {
   "cell_type": "markdown",
   "id": "ce3c4455",
   "metadata": {},
   "source": [
    "nombre_infected       862\n",
    "nombre_sain          2104\n",
    "nombre_exposed        461\n",
    "nombre_recovered    16573\n",
    "Name: 362, dtype: int64"
   ]
  },
  {
   "cell_type": "markdown",
   "id": "118e6c90",
   "metadata": {},
   "source": [
    "nombre_infected       859\n",
    "nombre_sain          2099\n",
    "nombre_exposed        452\n",
    "nombre_recovered    16590\n",
    "Name: 363, dtype: int64"
   ]
  },
  {
   "cell_type": "markdown",
   "id": "15a407e4",
   "metadata": {},
   "source": [
    "nombre_infected       855\n",
    "nombre_sain          2090\n",
    "nombre_exposed        453\n",
    "nombre_recovered    16602\n",
    "Name: 364, dtype: int64"
   ]
  },
  {
   "cell_type": "markdown",
   "id": "5020725d",
   "metadata": {},
   "source": [
    "nombre_infected       848\n",
    "nombre_sain          2086\n",
    "nombre_exposed        455\n",
    "nombre_recovered    16611\n",
    "Name: 365, dtype: int64"
   ]
  },
  {
   "cell_type": "markdown",
   "id": "f23c0b98",
   "metadata": {},
   "source": [
    "nombre_infected       849\n",
    "nombre_sain          2069\n",
    "nombre_exposed        459\n",
    "nombre_recovered    16623\n",
    "Name: 366, dtype: int64"
   ]
  },
  {
   "cell_type": "markdown",
   "id": "64fbb62e",
   "metadata": {},
   "source": [
    "nombre_infected       846\n",
    "nombre_sain          2059\n",
    "nombre_exposed        443\n",
    "nombre_recovered    16652\n",
    "Name: 367, dtype: int64"
   ]
  },
  {
   "cell_type": "markdown",
   "id": "f457e805",
   "metadata": {},
   "source": [
    "nombre_infected       837\n",
    "nombre_sain          2050\n",
    "nombre_exposed        440\n",
    "nombre_recovered    16673\n",
    "Name: 368, dtype: int64"
   ]
  },
  {
   "cell_type": "markdown",
   "id": "80a1a825",
   "metadata": {},
   "source": [
    "nombre_infected       841\n",
    "nombre_sain          2064\n",
    "nombre_exposed        425\n",
    "nombre_recovered    16670\n",
    "Name: 369, dtype: int64"
   ]
  },
  {
   "cell_type": "markdown",
   "id": "584a14d2",
   "metadata": {},
   "source": [
    "nombre_infected       811\n",
    "nombre_sain          2070\n",
    "nombre_exposed        436\n",
    "nombre_recovered    16683\n",
    "Name: 370, dtype: int64"
   ]
  },
  {
   "cell_type": "markdown",
   "id": "eacffe01",
   "metadata": {},
   "source": [
    "nombre_infected       799\n",
    "nombre_sain          2054\n",
    "nombre_exposed        454\n",
    "nombre_recovered    16693\n",
    "Name: 371, dtype: int64"
   ]
  },
  {
   "cell_type": "markdown",
   "id": "4eece19c",
   "metadata": {},
   "source": [
    "nombre_infected       777\n",
    "nombre_sain          2050\n",
    "nombre_exposed        456\n",
    "nombre_recovered    16717\n",
    "Name: 372, dtype: int64"
   ]
  },
  {
   "cell_type": "markdown",
   "id": "235dd3fa",
   "metadata": {},
   "source": [
    "nombre_infected       785\n",
    "nombre_sain          2046\n",
    "nombre_exposed        442\n",
    "nombre_recovered    16727\n",
    "Name: 373, dtype: int64"
   ]
  },
  {
   "cell_type": "markdown",
   "id": "d6f5a4fb",
   "metadata": {},
   "source": [
    "nombre_infected       785\n",
    "nombre_sain          2040\n",
    "nombre_exposed        437\n",
    "nombre_recovered    16738\n",
    "Name: 374, dtype: int64"
   ]
  },
  {
   "cell_type": "markdown",
   "id": "ddfb37c7",
   "metadata": {},
   "source": [
    "nombre_infected       784\n",
    "nombre_sain          2044\n",
    "nombre_exposed        443\n",
    "nombre_recovered    16729\n",
    "Name: 375, dtype: int64"
   ]
  },
  {
   "cell_type": "markdown",
   "id": "c456a88c",
   "metadata": {},
   "source": [
    "nombre_infected       763\n",
    "nombre_sain          2062\n",
    "nombre_exposed        438\n",
    "nombre_recovered    16737\n",
    "Name: 376, dtype: int64"
   ]
  },
  {
   "cell_type": "markdown",
   "id": "0a37ff11",
   "metadata": {},
   "source": [
    "nombre_infected       758\n",
    "nombre_sain          2075\n",
    "nombre_exposed        421\n",
    "nombre_recovered    16746\n",
    "Name: 377, dtype: int64"
   ]
  },
  {
   "cell_type": "markdown",
   "id": "90c8b7b1",
   "metadata": {},
   "source": [
    "nombre_infected       742\n",
    "nombre_sain          2090\n",
    "nombre_exposed        429\n",
    "nombre_recovered    16739\n",
    "Name: 378, dtype: int64"
   ]
  },
  {
   "cell_type": "markdown",
   "id": "ff1faee1",
   "metadata": {},
   "source": [
    "nombre_infected       737\n",
    "nombre_sain          2104\n",
    "nombre_exposed        445\n",
    "nombre_recovered    16714\n",
    "Name: 379, dtype: int64"
   ]
  },
  {
   "cell_type": "markdown",
   "id": "f6468780",
   "metadata": {},
   "source": [
    "nombre_infected       744\n",
    "nombre_sain          2135\n",
    "nombre_exposed        435\n",
    "nombre_recovered    16686\n",
    "Name: 380, dtype: int64"
   ]
  },
  {
   "cell_type": "markdown",
   "id": "827b2c29",
   "metadata": {},
   "source": [
    "nombre_infected       735\n",
    "nombre_sain          2163\n",
    "nombre_exposed        430\n",
    "nombre_recovered    16672\n",
    "Name: 381, dtype: int64"
   ]
  },
  {
   "cell_type": "markdown",
   "id": "bf0c56a4",
   "metadata": {},
   "source": [
    "nombre_infected       714\n",
    "nombre_sain          2182\n",
    "nombre_exposed        428\n",
    "nombre_recovered    16676\n",
    "Name: 382, dtype: int64"
   ]
  },
  {
   "cell_type": "markdown",
   "id": "1e772daf",
   "metadata": {},
   "source": [
    "nombre_infected       714\n",
    "nombre_sain          2233\n",
    "nombre_exposed        403\n",
    "nombre_recovered    16650\n",
    "Name: 383, dtype: int64"
   ]
  },
  {
   "cell_type": "markdown",
   "id": "0f9b3bb1",
   "metadata": {},
   "source": [
    "nombre_infected       686\n",
    "nombre_sain          2260\n",
    "nombre_exposed        417\n",
    "nombre_recovered    16637\n",
    "Name: 384, dtype: int64"
   ]
  },
  {
   "cell_type": "markdown",
   "id": "b1a4980e",
   "metadata": {},
   "source": [
    "nombre_infected       669\n",
    "nombre_sain          2268\n",
    "nombre_exposed        422\n",
    "nombre_recovered    16641\n",
    "Name: 385, dtype: int64"
   ]
  },
  {
   "cell_type": "markdown",
   "id": "dac1e750",
   "metadata": {},
   "source": [
    "nombre_infected       670\n",
    "nombre_sain          2269\n",
    "nombre_exposed        415\n",
    "nombre_recovered    16646\n",
    "Name: 386, dtype: int64"
   ]
  },
  {
   "cell_type": "markdown",
   "id": "86111c2f",
   "metadata": {},
   "source": [
    "nombre_infected       680\n",
    "nombre_sain          2290\n",
    "nombre_exposed        412\n",
    "nombre_recovered    16618\n",
    "Name: 387, dtype: int64"
   ]
  },
  {
   "cell_type": "markdown",
   "id": "7897e710",
   "metadata": {},
   "source": [
    "nombre_infected       667\n",
    "nombre_sain          2287\n",
    "nombre_exposed        424\n",
    "nombre_recovered    16622\n",
    "Name: 388, dtype: int64"
   ]
  },
  {
   "cell_type": "markdown",
   "id": "24058ace",
   "metadata": {},
   "source": [
    "nombre_infected       673\n",
    "nombre_sain          2306\n",
    "nombre_exposed        418\n",
    "nombre_recovered    16603\n",
    "Name: 389, dtype: int64"
   ]
  },
  {
   "cell_type": "markdown",
   "id": "8b7913ef",
   "metadata": {},
   "source": [
    "nombre_infected       662\n",
    "nombre_sain          2305\n",
    "nombre_exposed        432\n",
    "nombre_recovered    16601\n",
    "Name: 390, dtype: int64"
   ]
  },
  {
   "cell_type": "markdown",
   "id": "c5884aeb",
   "metadata": {},
   "source": [
    "nombre_infected       674\n",
    "nombre_sain          2286\n",
    "nombre_exposed        440\n",
    "nombre_recovered    16600\n",
    "Name: 391, dtype: int64"
   ]
  },
  {
   "cell_type": "markdown",
   "id": "1cb614bd",
   "metadata": {},
   "source": [
    "nombre_infected       670\n",
    "nombre_sain          2321\n",
    "nombre_exposed        434\n",
    "nombre_recovered    16575\n",
    "Name: 392, dtype: int64"
   ]
  },
  {
   "cell_type": "markdown",
   "id": "341cde03",
   "metadata": {},
   "source": [
    "nombre_infected       668\n",
    "nombre_sain          2331\n",
    "nombre_exposed        447\n",
    "nombre_recovered    16554\n",
    "Name: 393, dtype: int64"
   ]
  },
  {
   "cell_type": "markdown",
   "id": "60f332ac",
   "metadata": {},
   "source": [
    "nombre_infected       678\n",
    "nombre_sain          2342\n",
    "nombre_exposed        441\n",
    "nombre_recovered    16539\n",
    "Name: 394, dtype: int64"
   ]
  },
  {
   "cell_type": "markdown",
   "id": "f997065a",
   "metadata": {},
   "source": [
    "nombre_infected       689\n",
    "nombre_sain          2341\n",
    "nombre_exposed        437\n",
    "nombre_recovered    16533\n",
    "Name: 395, dtype: int64"
   ]
  },
  {
   "cell_type": "markdown",
   "id": "bfe98e02",
   "metadata": {},
   "source": [
    "nombre_infected       687\n",
    "nombre_sain          2372\n",
    "nombre_exposed        429\n",
    "nombre_recovered    16512\n",
    "Name: 396, dtype: int64"
   ]
  },
  {
   "cell_type": "markdown",
   "id": "dc093f48",
   "metadata": {},
   "source": [
    "nombre_infected       679\n",
    "nombre_sain          2397\n",
    "nombre_exposed        435\n",
    "nombre_recovered    16489\n",
    "Name: 397, dtype: int64"
   ]
  },
  {
   "cell_type": "markdown",
   "id": "bd9dc7d7",
   "metadata": {},
   "source": [
    "nombre_infected       674\n",
    "nombre_sain          2400\n",
    "nombre_exposed        447\n",
    "nombre_recovered    16479\n",
    "Name: 398, dtype: int64"
   ]
  },
  {
   "cell_type": "markdown",
   "id": "fd221e85",
   "metadata": {},
   "source": [
    "nombre_infected       686\n",
    "nombre_sain          2425\n",
    "nombre_exposed        422\n",
    "nombre_recovered    16467\n",
    "Name: 399, dtype: int64"
   ]
  },
  {
   "cell_type": "markdown",
   "id": "3a59efad",
   "metadata": {},
   "source": [
    "nombre_infected       701\n",
    "nombre_sain          2444\n",
    "nombre_exposed        413\n",
    "nombre_recovered    16442\n",
    "Name: 400, dtype: int64"
   ]
  },
  {
   "cell_type": "markdown",
   "id": "745cb609",
   "metadata": {},
   "source": [
    "nombre_infected       713\n",
    "nombre_sain          2447\n",
    "nombre_exposed        425\n",
    "nombre_recovered    16415\n",
    "Name: 401, dtype: int64"
   ]
  },
  {
   "cell_type": "markdown",
   "id": "ec567644",
   "metadata": {},
   "source": [
    "nombre_infected       728\n",
    "nombre_sain          2440\n",
    "nombre_exposed        422\n",
    "nombre_recovered    16410\n",
    "Name: 402, dtype: int64"
   ]
  },
  {
   "cell_type": "markdown",
   "id": "a56eb142",
   "metadata": {},
   "source": [
    "nombre_infected       709\n",
    "nombre_sain          2438\n",
    "nombre_exposed        443\n",
    "nombre_recovered    16410\n",
    "Name: 403, dtype: int64"
   ]
  },
  {
   "cell_type": "markdown",
   "id": "4c0714a8",
   "metadata": {},
   "source": [
    "nombre_infected       708\n",
    "nombre_sain          2435\n",
    "nombre_exposed        459\n",
    "nombre_recovered    16398\n",
    "Name: 404, dtype: int64"
   ]
  },
  {
   "cell_type": "markdown",
   "id": "fa8715fe",
   "metadata": {},
   "source": [
    "nombre_infected       701\n",
    "nombre_sain          2435\n",
    "nombre_exposed        486\n",
    "nombre_recovered    16378\n",
    "Name: 405, dtype: int64"
   ]
  },
  {
   "cell_type": "markdown",
   "id": "0a00355f",
   "metadata": {},
   "source": [
    "nombre_infected       706\n",
    "nombre_sain          2440\n",
    "nombre_exposed        485\n",
    "nombre_recovered    16369\n",
    "Name: 406, dtype: int64"
   ]
  },
  {
   "cell_type": "markdown",
   "id": "c8e17ad7",
   "metadata": {},
   "source": [
    "nombre_infected       708\n",
    "nombre_sain          2455\n",
    "nombre_exposed        485\n",
    "nombre_recovered    16352\n",
    "Name: 407, dtype: int64"
   ]
  },
  {
   "cell_type": "markdown",
   "id": "87d15b5f",
   "metadata": {},
   "source": [
    "nombre_infected       705\n",
    "nombre_sain          2473\n",
    "nombre_exposed        488\n",
    "nombre_recovered    16334\n",
    "Name: 408, dtype: int64"
   ]
  },
  {
   "cell_type": "markdown",
   "id": "fa0542e2",
   "metadata": {},
   "source": [
    "nombre_infected       719\n",
    "nombre_sain          2490\n",
    "nombre_exposed        487\n",
    "nombre_recovered    16304\n",
    "Name: 409, dtype: int64"
   ]
  },
  {
   "cell_type": "markdown",
   "id": "08a16ed1",
   "metadata": {},
   "source": [
    "nombre_infected       717\n",
    "nombre_sain          2506\n",
    "nombre_exposed        499\n",
    "nombre_recovered    16278\n",
    "Name: 410, dtype: int64"
   ]
  },
  {
   "cell_type": "markdown",
   "id": "fa7900ac",
   "metadata": {},
   "source": [
    "nombre_infected       730\n",
    "nombre_sain          2505\n",
    "nombre_exposed        500\n",
    "nombre_recovered    16265\n",
    "Name: 411, dtype: int64"
   ]
  },
  {
   "cell_type": "markdown",
   "id": "e55d23ae",
   "metadata": {},
   "source": [
    "nombre_infected       748\n",
    "nombre_sain          2522\n",
    "nombre_exposed        518\n",
    "nombre_recovered    16212\n",
    "Name: 412, dtype: int64"
   ]
  },
  {
   "cell_type": "markdown",
   "id": "17725903",
   "metadata": {},
   "source": [
    "nombre_infected       768\n",
    "nombre_sain          2499\n",
    "nombre_exposed        501\n",
    "nombre_recovered    16232\n",
    "Name: 413, dtype: int64"
   ]
  },
  {
   "cell_type": "markdown",
   "id": "72a4f66a",
   "metadata": {},
   "source": [
    "nombre_infected       791\n",
    "nombre_sain          2490\n",
    "nombre_exposed        506\n",
    "nombre_recovered    16213\n",
    "Name: 414, dtype: int64"
   ]
  },
  {
   "cell_type": "markdown",
   "id": "8bf05ca3",
   "metadata": {},
   "source": [
    "nombre_infected       783\n",
    "nombre_sain          2487\n",
    "nombre_exposed        522\n",
    "nombre_recovered    16208\n",
    "Name: 415, dtype: int64"
   ]
  },
  {
   "cell_type": "markdown",
   "id": "649c4df5",
   "metadata": {},
   "source": [
    "nombre_infected       789\n",
    "nombre_sain          2500\n",
    "nombre_exposed        511\n",
    "nombre_recovered    16200\n",
    "Name: 416, dtype: int64"
   ]
  },
  {
   "cell_type": "markdown",
   "id": "c05254c7",
   "metadata": {},
   "source": [
    "nombre_infected       799\n",
    "nombre_sain          2511\n",
    "nombre_exposed        529\n",
    "nombre_recovered    16161\n",
    "Name: 417, dtype: int64"
   ]
  },
  {
   "cell_type": "markdown",
   "id": "553b1b44",
   "metadata": {},
   "source": [
    "nombre_infected       830\n",
    "nombre_sain          2504\n",
    "nombre_exposed        524\n",
    "nombre_recovered    16142\n",
    "Name: 418, dtype: int64"
   ]
  },
  {
   "cell_type": "markdown",
   "id": "edd095f4",
   "metadata": {},
   "source": [
    "nombre_infected       834\n",
    "nombre_sain          2490\n",
    "nombre_exposed        533\n",
    "nombre_recovered    16143\n",
    "Name: 419, dtype: int64"
   ]
  },
  {
   "cell_type": "markdown",
   "id": "f3a3b712",
   "metadata": {},
   "source": [
    "nombre_infected       855\n",
    "nombre_sain          2462\n",
    "nombre_exposed        540\n",
    "nombre_recovered    16143\n",
    "Name: 420, dtype: int64"
   ]
  },
  {
   "cell_type": "markdown",
   "id": "1394fd54",
   "metadata": {},
   "source": [
    "nombre_infected       866\n",
    "nombre_sain          2452\n",
    "nombre_exposed        536\n",
    "nombre_recovered    16146\n",
    "Name: 421, dtype: int64"
   ]
  },
  {
   "cell_type": "markdown",
   "id": "d07a7e07",
   "metadata": {},
   "source": [
    "nombre_infected       894\n",
    "nombre_sain          2414\n",
    "nombre_exposed        541\n",
    "nombre_recovered    16151\n",
    "Name: 422, dtype: int64"
   ]
  },
  {
   "cell_type": "markdown",
   "id": "d904d259",
   "metadata": {},
   "source": [
    "nombre_infected       932\n",
    "nombre_sain          2387\n",
    "nombre_exposed        523\n",
    "nombre_recovered    16158\n",
    "Name: 423, dtype: int64"
   ]
  },
  {
   "cell_type": "markdown",
   "id": "6013b98f",
   "metadata": {},
   "source": [
    "nombre_infected       961\n",
    "nombre_sain          2384\n",
    "nombre_exposed        507\n",
    "nombre_recovered    16148\n",
    "Name: 424, dtype: int64"
   ]
  },
  {
   "cell_type": "markdown",
   "id": "576bd084",
   "metadata": {},
   "source": [
    "nombre_infected       969\n",
    "nombre_sain          2369\n",
    "nombre_exposed        518\n",
    "nombre_recovered    16144\n",
    "Name: 425, dtype: int64"
   ]
  },
  {
   "cell_type": "markdown",
   "id": "43ea6900",
   "metadata": {},
   "source": [
    "nombre_infected       952\n",
    "nombre_sain          2339\n",
    "nombre_exposed        544\n",
    "nombre_recovered    16165\n",
    "Name: 426, dtype: int64"
   ]
  },
  {
   "cell_type": "markdown",
   "id": "9652d23c",
   "metadata": {},
   "source": [
    "nombre_infected       950\n",
    "nombre_sain          2323\n",
    "nombre_exposed        552\n",
    "nombre_recovered    16175\n",
    "Name: 427, dtype: int64"
   ]
  },
  {
   "cell_type": "markdown",
   "id": "b9777c68",
   "metadata": {},
   "source": [
    "nombre_infected       968\n",
    "nombre_sain          2272\n",
    "nombre_exposed        566\n",
    "nombre_recovered    16194\n",
    "Name: 428, dtype: int64"
   ]
  },
  {
   "cell_type": "markdown",
   "id": "d7ee0abe",
   "metadata": {},
   "source": [
    "nombre_infected       950\n",
    "nombre_sain          2228\n",
    "nombre_exposed        602\n",
    "nombre_recovered    16220\n",
    "Name: 429, dtype: int64"
   ]
  },
  {
   "cell_type": "markdown",
   "id": "e2a0bcc1",
   "metadata": {},
   "source": [
    "nombre_infected       954\n",
    "nombre_sain          2217\n",
    "nombre_exposed        592\n",
    "nombre_recovered    16237\n",
    "Name: 430, dtype: int64"
   ]
  },
  {
   "cell_type": "markdown",
   "id": "0fc3cae2",
   "metadata": {},
   "source": [
    "nombre_infected       986\n",
    "nombre_sain          2210\n",
    "nombre_exposed        563\n",
    "nombre_recovered    16241\n",
    "Name: 431, dtype: int64"
   ]
  },
  {
   "cell_type": "markdown",
   "id": "8a72878b",
   "metadata": {},
   "source": [
    "nombre_infected      1001\n",
    "nombre_sain          2187\n",
    "nombre_exposed        574\n",
    "nombre_recovered    16238\n",
    "Name: 432, dtype: int64"
   ]
  },
  {
   "cell_type": "markdown",
   "id": "2dcae698",
   "metadata": {},
   "source": [
    "nombre_infected      1026\n",
    "nombre_sain          2174\n",
    "nombre_exposed        570\n",
    "nombre_recovered    16230\n",
    "Name: 433, dtype: int64"
   ]
  },
  {
   "cell_type": "markdown",
   "id": "85ec41b4",
   "metadata": {},
   "source": [
    "nombre_infected      1014\n",
    "nombre_sain          2173\n",
    "nombre_exposed        562\n",
    "nombre_recovered    16251\n",
    "Name: 434, dtype: int64"
   ]
  },
  {
   "cell_type": "markdown",
   "id": "c1323f3c",
   "metadata": {},
   "source": [
    "nombre_infected      1016\n",
    "nombre_sain          2176\n",
    "nombre_exposed        562\n",
    "nombre_recovered    16246\n",
    "Name: 435, dtype: int64"
   ]
  },
  {
   "cell_type": "markdown",
   "id": "d2d0698f",
   "metadata": {},
   "source": [
    "nombre_infected      1014\n",
    "nombre_sain          2154\n",
    "nombre_exposed        585\n",
    "nombre_recovered    16247\n",
    "Name: 436, dtype: int64"
   ]
  },
  {
   "cell_type": "markdown",
   "id": "91b56c11",
   "metadata": {},
   "source": [
    "nombre_infected      1004\n",
    "nombre_sain          2145\n",
    "nombre_exposed        570\n",
    "nombre_recovered    16281\n",
    "Name: 437, dtype: int64"
   ]
  },
  {
   "cell_type": "markdown",
   "id": "6991b1d1",
   "metadata": {},
   "source": [
    "nombre_infected      1017\n",
    "nombre_sain          2104\n",
    "nombre_exposed        588\n",
    "nombre_recovered    16291\n",
    "Name: 438, dtype: int64"
   ]
  },
  {
   "cell_type": "markdown",
   "id": "22c7b770",
   "metadata": {},
   "source": [
    "nombre_infected      1012\n",
    "nombre_sain          2102\n",
    "nombre_exposed        582\n",
    "nombre_recovered    16304\n",
    "Name: 439, dtype: int64"
   ]
  },
  {
   "cell_type": "markdown",
   "id": "563029b8",
   "metadata": {},
   "source": [
    "nombre_infected      1011\n",
    "nombre_sain          2090\n",
    "nombre_exposed        583\n",
    "nombre_recovered    16316\n",
    "Name: 440, dtype: int64"
   ]
  },
  {
   "cell_type": "markdown",
   "id": "2989514d",
   "metadata": {},
   "source": [
    "nombre_infected      1010\n",
    "nombre_sain          2069\n",
    "nombre_exposed        576\n",
    "nombre_recovered    16345\n",
    "Name: 441, dtype: int64"
   ]
  },
  {
   "cell_type": "markdown",
   "id": "41561a85",
   "metadata": {},
   "source": [
    "nombre_infected      1019\n",
    "nombre_sain          2063\n",
    "nombre_exposed        559\n",
    "nombre_recovered    16359\n",
    "Name: 442, dtype: int64"
   ]
  },
  {
   "cell_type": "markdown",
   "id": "92e01ea5",
   "metadata": {},
   "source": [
    "nombre_infected      1043\n",
    "nombre_sain          2078\n",
    "nombre_exposed        545\n",
    "nombre_recovered    16334\n",
    "Name: 443, dtype: int64"
   ]
  },
  {
   "cell_type": "markdown",
   "id": "5e4f0cb2",
   "metadata": {},
   "source": [
    "nombre_infected      1058\n",
    "nombre_sain          2084\n",
    "nombre_exposed        525\n",
    "nombre_recovered    16333\n",
    "Name: 444, dtype: int64"
   ]
  },
  {
   "cell_type": "markdown",
   "id": "89d6b8de",
   "metadata": {},
   "source": [
    "nombre_infected      1038\n",
    "nombre_sain          2058\n",
    "nombre_exposed        534\n",
    "nombre_recovered    16370\n",
    "Name: 445, dtype: int64"
   ]
  },
  {
   "cell_type": "markdown",
   "id": "09f61fd8",
   "metadata": {},
   "source": [
    "nombre_infected      1018\n",
    "nombre_sain          2036\n",
    "nombre_exposed        573\n",
    "nombre_recovered    16373\n",
    "Name: 446, dtype: int64"
   ]
  },
  {
   "cell_type": "markdown",
   "id": "8cd67d6f",
   "metadata": {},
   "source": [
    "nombre_infected      1033\n",
    "nombre_sain          2025\n",
    "nombre_exposed        579\n",
    "nombre_recovered    16363\n",
    "Name: 447, dtype: int64"
   ]
  },
  {
   "cell_type": "markdown",
   "id": "7cc521a8",
   "metadata": {},
   "source": [
    "nombre_infected      1041\n",
    "nombre_sain          2045\n",
    "nombre_exposed        567\n",
    "nombre_recovered    16347\n",
    "Name: 448, dtype: int64"
   ]
  },
  {
   "cell_type": "markdown",
   "id": "85ecbd83",
   "metadata": {},
   "source": [
    "nombre_infected      1056\n",
    "nombre_sain          2049\n",
    "nombre_exposed        543\n",
    "nombre_recovered    16352\n",
    "Name: 449, dtype: int64"
   ]
  },
  {
   "cell_type": "markdown",
   "id": "e502945f",
   "metadata": {},
   "source": [
    "nombre_infected      1037\n",
    "nombre_sain          2028\n",
    "nombre_exposed        573\n",
    "nombre_recovered    16362\n",
    "Name: 450, dtype: int64"
   ]
  },
  {
   "cell_type": "markdown",
   "id": "7c90fce2",
   "metadata": {},
   "source": [
    "nombre_infected      1039\n",
    "nombre_sain          2062\n",
    "nombre_exposed        544\n",
    "nombre_recovered    16355\n",
    "Name: 451, dtype: int64"
   ]
  },
  {
   "cell_type": "markdown",
   "id": "d2b996e9",
   "metadata": {},
   "source": [
    "nombre_infected      1037\n",
    "nombre_sain          2051\n",
    "nombre_exposed        552\n",
    "nombre_recovered    16360\n",
    "Name: 452, dtype: int64"
   ]
  },
  {
   "cell_type": "markdown",
   "id": "4d2b727c",
   "metadata": {},
   "source": [
    "nombre_infected      1044\n",
    "nombre_sain          2024\n",
    "nombre_exposed        577\n",
    "nombre_recovered    16355\n",
    "Name: 453, dtype: int64"
   ]
  },
  {
   "cell_type": "markdown",
   "id": "73e8ede2",
   "metadata": {},
   "source": [
    "nombre_infected      1043\n",
    "nombre_sain          2017\n",
    "nombre_exposed        584\n",
    "nombre_recovered    16356\n",
    "Name: 454, dtype: int64"
   ]
  },
  {
   "cell_type": "markdown",
   "id": "38934e87",
   "metadata": {},
   "source": [
    "nombre_infected      1041\n",
    "nombre_sain          2056\n",
    "nombre_exposed        550\n",
    "nombre_recovered    16353\n",
    "Name: 455, dtype: int64"
   ]
  },
  {
   "cell_type": "markdown",
   "id": "473f7529",
   "metadata": {},
   "source": [
    "nombre_infected      1037\n",
    "nombre_sain          2055\n",
    "nombre_exposed        547\n",
    "nombre_recovered    16361\n",
    "Name: 456, dtype: int64"
   ]
  },
  {
   "cell_type": "markdown",
   "id": "61815bb6",
   "metadata": {},
   "source": [
    "nombre_infected      1044\n",
    "nombre_sain          2043\n",
    "nombre_exposed        552\n",
    "nombre_recovered    16361\n",
    "Name: 457, dtype: int64"
   ]
  },
  {
   "cell_type": "markdown",
   "id": "622e5afc",
   "metadata": {},
   "source": [
    "nombre_infected      1034\n",
    "nombre_sain          2048\n",
    "nombre_exposed        548\n",
    "nombre_recovered    16370\n",
    "Name: 458, dtype: int64"
   ]
  },
  {
   "cell_type": "markdown",
   "id": "6a61979a",
   "metadata": {},
   "source": [
    "nombre_infected      1046\n",
    "nombre_sain          2073\n",
    "nombre_exposed        495\n",
    "nombre_recovered    16386\n",
    "Name: 459, dtype: int64"
   ]
  },
  {
   "cell_type": "markdown",
   "id": "9454899b",
   "metadata": {},
   "source": [
    "nombre_infected      1040\n",
    "nombre_sain          2103\n",
    "nombre_exposed        479\n",
    "nombre_recovered    16378\n",
    "Name: 460, dtype: int64"
   ]
  },
  {
   "cell_type": "markdown",
   "id": "295baaac",
   "metadata": {},
   "source": [
    "nombre_infected      1027\n",
    "nombre_sain          2070\n",
    "nombre_exposed        517\n",
    "nombre_recovered    16386\n",
    "Name: 461, dtype: int64"
   ]
  },
  {
   "cell_type": "markdown",
   "id": "52c88f0a",
   "metadata": {},
   "source": [
    "nombre_infected      1010\n",
    "nombre_sain          2070\n",
    "nombre_exposed        516\n",
    "nombre_recovered    16404\n",
    "Name: 462, dtype: int64"
   ]
  },
  {
   "cell_type": "markdown",
   "id": "6571419f",
   "metadata": {},
   "source": [
    "nombre_infected      1007\n",
    "nombre_sain          2068\n",
    "nombre_exposed        516\n",
    "nombre_recovered    16409\n",
    "Name: 463, dtype: int64"
   ]
  },
  {
   "cell_type": "markdown",
   "id": "498f362f",
   "metadata": {},
   "source": [
    "nombre_infected      1022\n",
    "nombre_sain          2053\n",
    "nombre_exposed        505\n",
    "nombre_recovered    16420\n",
    "Name: 464, dtype: int64"
   ]
  },
  {
   "cell_type": "markdown",
   "id": "ad2bc3a0",
   "metadata": {},
   "source": [
    "nombre_infected      1001\n",
    "nombre_sain          2053\n",
    "nombre_exposed        508\n",
    "nombre_recovered    16438\n",
    "Name: 465, dtype: int64"
   ]
  },
  {
   "cell_type": "markdown",
   "id": "3426c11b",
   "metadata": {},
   "source": [
    "nombre_infected      1003\n",
    "nombre_sain          2051\n",
    "nombre_exposed        510\n",
    "nombre_recovered    16436\n",
    "Name: 466, dtype: int64"
   ]
  },
  {
   "cell_type": "markdown",
   "id": "68448a12",
   "metadata": {},
   "source": [
    "nombre_infected       995\n",
    "nombre_sain          2076\n",
    "nombre_exposed        503\n",
    "nombre_recovered    16426\n",
    "Name: 467, dtype: int64"
   ]
  },
  {
   "cell_type": "markdown",
   "id": "a978ef44",
   "metadata": {},
   "source": [
    "nombre_infected       997\n",
    "nombre_sain          2086\n",
    "nombre_exposed        494\n",
    "nombre_recovered    16423\n",
    "Name: 468, dtype: int64"
   ]
  },
  {
   "cell_type": "markdown",
   "id": "a9781721",
   "metadata": {},
   "source": [
    "nombre_infected       977\n",
    "nombre_sain          2088\n",
    "nombre_exposed        506\n",
    "nombre_recovered    16429\n",
    "Name: 469, dtype: int64"
   ]
  },
  {
   "cell_type": "markdown",
   "id": "71f5a309",
   "metadata": {},
   "source": [
    "nombre_infected       951\n",
    "nombre_sain          2081\n",
    "nombre_exposed        537\n",
    "nombre_recovered    16431\n",
    "Name: 470, dtype: int64"
   ]
  },
  {
   "cell_type": "markdown",
   "id": "4f35613f",
   "metadata": {},
   "source": [
    "nombre_infected       943\n",
    "nombre_sain          2071\n",
    "nombre_exposed        550\n",
    "nombre_recovered    16436\n",
    "Name: 471, dtype: int64"
   ]
  },
  {
   "cell_type": "markdown",
   "id": "231181d4",
   "metadata": {},
   "source": [
    "nombre_infected       942\n",
    "nombre_sain          2066\n",
    "nombre_exposed        550\n",
    "nombre_recovered    16442\n",
    "Name: 472, dtype: int64"
   ]
  },
  {
   "cell_type": "markdown",
   "id": "1823045d",
   "metadata": {},
   "source": [
    "nombre_infected       921\n",
    "nombre_sain          2079\n",
    "nombre_exposed        554\n",
    "nombre_recovered    16446\n",
    "Name: 473, dtype: int64"
   ]
  },
  {
   "cell_type": "markdown",
   "id": "2ca7484c",
   "metadata": {},
   "source": [
    "nombre_infected       931\n",
    "nombre_sain          2070\n",
    "nombre_exposed        550\n",
    "nombre_recovered    16449\n",
    "Name: 474, dtype: int64"
   ]
  },
  {
   "cell_type": "markdown",
   "id": "d26cfaf9",
   "metadata": {},
   "source": [
    "nombre_infected       953\n",
    "nombre_sain          2068\n",
    "nombre_exposed        532\n",
    "nombre_recovered    16447\n",
    "Name: 475, dtype: int64"
   ]
  },
  {
   "cell_type": "markdown",
   "id": "58f86f59",
   "metadata": {},
   "source": [
    "nombre_infected       947\n",
    "nombre_sain          2080\n",
    "nombre_exposed        516\n",
    "nombre_recovered    16457\n",
    "Name: 476, dtype: int64"
   ]
  },
  {
   "cell_type": "markdown",
   "id": "c66e70e4",
   "metadata": {},
   "source": [
    "nombre_infected       945\n",
    "nombre_sain          2082\n",
    "nombre_exposed        514\n",
    "nombre_recovered    16459\n",
    "Name: 477, dtype: int64"
   ]
  },
  {
   "cell_type": "markdown",
   "id": "147dbfe2",
   "metadata": {},
   "source": [
    "nombre_infected       902\n",
    "nombre_sain          2081\n",
    "nombre_exposed        523\n",
    "nombre_recovered    16494\n",
    "Name: 478, dtype: int64"
   ]
  },
  {
   "cell_type": "markdown",
   "id": "bb9c8b98",
   "metadata": {},
   "source": [
    "nombre_infected       895\n",
    "nombre_sain          2076\n",
    "nombre_exposed        509\n",
    "nombre_recovered    16520\n",
    "Name: 479, dtype: int64"
   ]
  },
  {
   "cell_type": "markdown",
   "id": "2a137d2f",
   "metadata": {},
   "source": [
    "nombre_infected       880\n",
    "nombre_sain          2075\n",
    "nombre_exposed        508\n",
    "nombre_recovered    16537\n",
    "Name: 480, dtype: int64"
   ]
  },
  {
   "cell_type": "markdown",
   "id": "656d8508",
   "metadata": {},
   "source": [
    "nombre_infected       880\n",
    "nombre_sain          2085\n",
    "nombre_exposed        500\n",
    "nombre_recovered    16535\n",
    "Name: 481, dtype: int64"
   ]
  },
  {
   "cell_type": "markdown",
   "id": "e81d88a7",
   "metadata": {},
   "source": [
    "nombre_infected       894\n",
    "nombre_sain          2113\n",
    "nombre_exposed        462\n",
    "nombre_recovered    16531\n",
    "Name: 482, dtype: int64"
   ]
  },
  {
   "cell_type": "markdown",
   "id": "30580ef2",
   "metadata": {},
   "source": [
    "nombre_infected       900\n",
    "nombre_sain          2141\n",
    "nombre_exposed        450\n",
    "nombre_recovered    16509\n",
    "Name: 483, dtype: int64"
   ]
  },
  {
   "cell_type": "markdown",
   "id": "16bcc9bc",
   "metadata": {},
   "source": [
    "nombre_infected       902\n",
    "nombre_sain          2162\n",
    "nombre_exposed        445\n",
    "nombre_recovered    16491\n",
    "Name: 484, dtype: int64"
   ]
  },
  {
   "cell_type": "markdown",
   "id": "71e91dfc",
   "metadata": {},
   "source": [
    "nombre_infected       907\n",
    "nombre_sain          2209\n",
    "nombre_exposed        429\n",
    "nombre_recovered    16455\n",
    "Name: 485, dtype: int64"
   ]
  },
  {
   "cell_type": "markdown",
   "id": "7c5fc3e9",
   "metadata": {},
   "source": [
    "nombre_infected       867\n",
    "nombre_sain          2220\n",
    "nombre_exposed        452\n",
    "nombre_recovered    16461\n",
    "Name: 486, dtype: int64"
   ]
  },
  {
   "cell_type": "markdown",
   "id": "ddf07415",
   "metadata": {},
   "source": [
    "nombre_infected       838\n",
    "nombre_sain          2269\n",
    "nombre_exposed        457\n",
    "nombre_recovered    16436\n",
    "Name: 487, dtype: int64"
   ]
  },
  {
   "cell_type": "markdown",
   "id": "1ad95483",
   "metadata": {},
   "source": [
    "nombre_infected       830\n",
    "nombre_sain          2284\n",
    "nombre_exposed        460\n",
    "nombre_recovered    16426\n",
    "Name: 488, dtype: int64"
   ]
  },
  {
   "cell_type": "markdown",
   "id": "0638cab3",
   "metadata": {},
   "source": [
    "nombre_infected       809\n",
    "nombre_sain          2300\n",
    "nombre_exposed        468\n",
    "nombre_recovered    16423\n",
    "Name: 489, dtype: int64"
   ]
  },
  {
   "cell_type": "markdown",
   "id": "2c3d6368",
   "metadata": {},
   "source": [
    "nombre_infected       817\n",
    "nombre_sain          2316\n",
    "nombre_exposed        457\n",
    "nombre_recovered    16410\n",
    "Name: 490, dtype: int64"
   ]
  },
  {
   "cell_type": "markdown",
   "id": "647dfb27",
   "metadata": {},
   "source": [
    "nombre_infected       812\n",
    "nombre_sain          2307\n",
    "nombre_exposed        463\n",
    "nombre_recovered    16418\n",
    "Name: 491, dtype: int64"
   ]
  },
  {
   "cell_type": "markdown",
   "id": "9b37f067",
   "metadata": {},
   "source": [
    "nombre_infected       832\n",
    "nombre_sain          2300\n",
    "nombre_exposed        469\n",
    "nombre_recovered    16399\n",
    "Name: 492, dtype: int64"
   ]
  },
  {
   "cell_type": "markdown",
   "id": "7fd390ce",
   "metadata": {},
   "source": [
    "nombre_infected       827\n",
    "nombre_sain          2338\n",
    "nombre_exposed        457\n",
    "nombre_recovered    16378\n",
    "Name: 493, dtype: int64"
   ]
  },
  {
   "cell_type": "markdown",
   "id": "cc0266a7",
   "metadata": {},
   "source": [
    "nombre_infected       820\n",
    "nombre_sain          2355\n",
    "nombre_exposed        460\n",
    "nombre_recovered    16365\n",
    "Name: 494, dtype: int64"
   ]
  },
  {
   "cell_type": "markdown",
   "id": "25cb021d",
   "metadata": {},
   "source": [
    "nombre_infected       801\n",
    "nombre_sain          2357\n",
    "nombre_exposed        471\n",
    "nombre_recovered    16371\n",
    "Name: 495, dtype: int64"
   ]
  },
  {
   "cell_type": "markdown",
   "id": "25050987",
   "metadata": {},
   "source": [
    "nombre_infected       816\n",
    "nombre_sain          2354\n",
    "nombre_exposed        473\n",
    "nombre_recovered    16357\n",
    "Name: 496, dtype: int64"
   ]
  },
  {
   "cell_type": "markdown",
   "id": "9851aac7",
   "metadata": {},
   "source": [
    "nombre_infected       802\n",
    "nombre_sain          2354\n",
    "nombre_exposed        486\n",
    "nombre_recovered    16358\n",
    "Name: 497, dtype: int64"
   ]
  },
  {
   "cell_type": "markdown",
   "id": "f06ac71e",
   "metadata": {},
   "source": [
    "nombre_infected       810\n",
    "nombre_sain          2351\n",
    "nombre_exposed        489\n",
    "nombre_recovered    16350\n",
    "Name: 498, dtype: int64"
   ]
  },
  {
   "cell_type": "markdown",
   "id": "c1dad920",
   "metadata": {},
   "source": [
    "nombre_infected       793\n",
    "nombre_sain          2375\n",
    "nombre_exposed        471\n",
    "nombre_recovered    16361\n",
    "Name: 499, dtype: int64"
   ]
  },
  {
   "cell_type": "markdown",
   "id": "bdd49d32",
   "metadata": {},
   "source": [
    "nombre_infected       798\n",
    "nombre_sain          2372\n",
    "nombre_exposed        473\n",
    "nombre_recovered    16357\n",
    "Name: 500, dtype: int64"
   ]
  },
  {
   "cell_type": "markdown",
   "id": "f95740b9",
   "metadata": {},
   "source": [
    "nombre_infected       781\n",
    "nombre_sain          2367\n",
    "nombre_exposed        471\n",
    "nombre_recovered    16381\n",
    "Name: 501, dtype: int64"
   ]
  },
  {
   "cell_type": "markdown",
   "id": "179f8c83",
   "metadata": {},
   "source": [
    "nombre_infected       776\n",
    "nombre_sain          2408\n",
    "nombre_exposed        462\n",
    "nombre_recovered    16354\n",
    "Name: 502, dtype: int64"
   ]
  },
  {
   "cell_type": "markdown",
   "id": "66240cdd",
   "metadata": {},
   "source": [
    "nombre_infected       781\n",
    "nombre_sain          2376\n",
    "nombre_exposed        478\n",
    "nombre_recovered    16365\n",
    "Name: 503, dtype: int64"
   ]
  },
  {
   "cell_type": "markdown",
   "id": "602d4006",
   "metadata": {},
   "source": [
    "nombre_infected       791\n",
    "nombre_sain          2377\n",
    "nombre_exposed        468\n",
    "nombre_recovered    16364\n",
    "Name: 504, dtype: int64"
   ]
  },
  {
   "cell_type": "markdown",
   "id": "62ec0d45",
   "metadata": {},
   "source": [
    "nombre_infected       786\n",
    "nombre_sain          2380\n",
    "nombre_exposed        459\n",
    "nombre_recovered    16375\n",
    "Name: 505, dtype: int64"
   ]
  },
  {
   "cell_type": "markdown",
   "id": "c4296eba",
   "metadata": {},
   "source": [
    "nombre_infected       767\n",
    "nombre_sain          2398\n",
    "nombre_exposed        437\n",
    "nombre_recovered    16398\n",
    "Name: 506, dtype: int64"
   ]
  },
  {
   "cell_type": "markdown",
   "id": "5f2246c2",
   "metadata": {},
   "source": [
    "nombre_infected       756\n",
    "nombre_sain          2391\n",
    "nombre_exposed        450\n",
    "nombre_recovered    16403\n",
    "Name: 507, dtype: int64"
   ]
  },
  {
   "cell_type": "markdown",
   "id": "388d6d36",
   "metadata": {},
   "source": [
    "nombre_infected       771\n",
    "nombre_sain          2413\n",
    "nombre_exposed        435\n",
    "nombre_recovered    16381\n",
    "Name: 508, dtype: int64"
   ]
  },
  {
   "cell_type": "markdown",
   "id": "089c222a",
   "metadata": {},
   "source": [
    "nombre_infected       760\n",
    "nombre_sain          2406\n",
    "nombre_exposed        432\n",
    "nombre_recovered    16402\n",
    "Name: 509, dtype: int64"
   ]
  },
  {
   "cell_type": "markdown",
   "id": "6ddf6df9",
   "metadata": {},
   "source": [
    "nombre_infected       721\n",
    "nombre_sain          2393\n",
    "nombre_exposed        464\n",
    "nombre_recovered    16422\n",
    "Name: 510, dtype: int64"
   ]
  },
  {
   "cell_type": "markdown",
   "id": "ee395b02",
   "metadata": {},
   "source": [
    "nombre_infected       722\n",
    "nombre_sain          2407\n",
    "nombre_exposed        455\n",
    "nombre_recovered    16416\n",
    "Name: 511, dtype: int64"
   ]
  },
  {
   "cell_type": "markdown",
   "id": "133b9b50",
   "metadata": {},
   "source": [
    "nombre_infected       741\n",
    "nombre_sain          2404\n",
    "nombre_exposed        449\n",
    "nombre_recovered    16406\n",
    "Name: 512, dtype: int64"
   ]
  },
  {
   "cell_type": "markdown",
   "id": "f77a9a6b",
   "metadata": {},
   "source": [
    "nombre_infected       764\n",
    "nombre_sain          2415\n",
    "nombre_exposed        427\n",
    "nombre_recovered    16394\n",
    "Name: 513, dtype: int64"
   ]
  },
  {
   "cell_type": "markdown",
   "id": "04d00117",
   "metadata": {},
   "source": [
    "nombre_infected       755\n",
    "nombre_sain          2406\n",
    "nombre_exposed        434\n",
    "nombre_recovered    16405\n",
    "Name: 514, dtype: int64"
   ]
  },
  {
   "cell_type": "markdown",
   "id": "cb7a6227",
   "metadata": {},
   "source": [
    "nombre_infected       743\n",
    "nombre_sain          2402\n",
    "nombre_exposed        436\n",
    "nombre_recovered    16419\n",
    "Name: 515, dtype: int64"
   ]
  },
  {
   "cell_type": "markdown",
   "id": "de33df9c",
   "metadata": {},
   "source": [
    "nombre_infected       724\n",
    "nombre_sain          2400\n",
    "nombre_exposed        429\n",
    "nombre_recovered    16447\n",
    "Name: 516, dtype: int64"
   ]
  },
  {
   "cell_type": "markdown",
   "id": "6b3a1e0b",
   "metadata": {},
   "source": [
    "nombre_infected       716\n",
    "nombre_sain          2399\n",
    "nombre_exposed        439\n",
    "nombre_recovered    16446\n",
    "Name: 517, dtype: int64"
   ]
  },
  {
   "cell_type": "markdown",
   "id": "020e86d3",
   "metadata": {},
   "source": [
    "nombre_infected       703\n",
    "nombre_sain          2401\n",
    "nombre_exposed        433\n",
    "nombre_recovered    16463\n",
    "Name: 518, dtype: int64"
   ]
  },
  {
   "cell_type": "markdown",
   "id": "71fbdd35",
   "metadata": {},
   "source": [
    "nombre_infected       714\n",
    "nombre_sain          2406\n",
    "nombre_exposed        437\n",
    "nombre_recovered    16443\n",
    "Name: 519, dtype: int64"
   ]
  },
  {
   "cell_type": "markdown",
   "id": "a4bc726b",
   "metadata": {},
   "source": [
    "nombre_infected       737\n",
    "nombre_sain          2394\n",
    "nombre_exposed        431\n",
    "nombre_recovered    16438\n",
    "Name: 520, dtype: int64"
   ]
  },
  {
   "cell_type": "markdown",
   "id": "c6f8a2df",
   "metadata": {},
   "source": [
    "nombre_infected       730\n",
    "nombre_sain          2393\n",
    "nombre_exposed        425\n",
    "nombre_recovered    16452\n",
    "Name: 521, dtype: int64"
   ]
  },
  {
   "cell_type": "markdown",
   "id": "4c193830",
   "metadata": {},
   "source": [
    "nombre_infected       742\n",
    "nombre_sain          2383\n",
    "nombre_exposed        441\n",
    "nombre_recovered    16434\n",
    "Name: 522, dtype: int64"
   ]
  },
  {
   "cell_type": "markdown",
   "id": "49328c11",
   "metadata": {},
   "source": [
    "nombre_infected       748\n",
    "nombre_sain          2375\n",
    "nombre_exposed        436\n",
    "nombre_recovered    16441\n",
    "Name: 523, dtype: int64"
   ]
  },
  {
   "cell_type": "markdown",
   "id": "0341e9ec",
   "metadata": {},
   "source": [
    "nombre_infected       755\n",
    "nombre_sain          2383\n",
    "nombre_exposed        425\n",
    "nombre_recovered    16437\n",
    "Name: 524, dtype: int64"
   ]
  },
  {
   "cell_type": "markdown",
   "id": "af45af4a",
   "metadata": {},
   "source": [
    "nombre_infected       736\n",
    "nombre_sain          2381\n",
    "nombre_exposed        446\n",
    "nombre_recovered    16437\n",
    "Name: 525, dtype: int64"
   ]
  },
  {
   "cell_type": "markdown",
   "id": "9e4d4ea9",
   "metadata": {},
   "source": [
    "nombre_infected       747\n",
    "nombre_sain          2375\n",
    "nombre_exposed        442\n",
    "nombre_recovered    16436\n",
    "Name: 526, dtype: int64"
   ]
  },
  {
   "cell_type": "markdown",
   "id": "9da14306",
   "metadata": {},
   "source": [
    "nombre_infected       736\n",
    "nombre_sain          2369\n",
    "nombre_exposed        445\n",
    "nombre_recovered    16450\n",
    "Name: 527, dtype: int64"
   ]
  },
  {
   "cell_type": "markdown",
   "id": "93adb718",
   "metadata": {},
   "source": [
    "nombre_infected       742\n",
    "nombre_sain          2366\n",
    "nombre_exposed        451\n",
    "nombre_recovered    16441\n",
    "Name: 528, dtype: int64"
   ]
  },
  {
   "cell_type": "markdown",
   "id": "2067734a",
   "metadata": {},
   "source": [
    "nombre_infected       775\n",
    "nombre_sain          2404\n",
    "nombre_exposed        425\n",
    "nombre_recovered    16396\n",
    "Name: 529, dtype: int64"
   ]
  },
  {
   "cell_type": "markdown",
   "id": "d7e29927",
   "metadata": {},
   "source": [
    "nombre_infected       741\n",
    "nombre_sain          2415\n",
    "nombre_exposed        439\n",
    "nombre_recovered    16405\n",
    "Name: 530, dtype: int64"
   ]
  },
  {
   "cell_type": "markdown",
   "id": "023c50f8",
   "metadata": {},
   "source": [
    "nombre_infected       719\n",
    "nombre_sain          2447\n",
    "nombre_exposed        450\n",
    "nombre_recovered    16384\n",
    "Name: 531, dtype: int64"
   ]
  },
  {
   "cell_type": "markdown",
   "id": "cd9d68da",
   "metadata": {},
   "source": [
    "nombre_infected       720\n",
    "nombre_sain          2453\n",
    "nombre_exposed        478\n",
    "nombre_recovered    16349\n",
    "Name: 532, dtype: int64"
   ]
  },
  {
   "cell_type": "markdown",
   "id": "460d7fde",
   "metadata": {},
   "source": [
    "nombre_infected       746\n",
    "nombre_sain          2474\n",
    "nombre_exposed        475\n",
    "nombre_recovered    16305\n",
    "Name: 533, dtype: int64"
   ]
  },
  {
   "cell_type": "markdown",
   "id": "fb5f95c2",
   "metadata": {},
   "source": [
    "nombre_infected       746\n",
    "nombre_sain          2479\n",
    "nombre_exposed        482\n",
    "nombre_recovered    16293\n",
    "Name: 534, dtype: int64"
   ]
  },
  {
   "cell_type": "markdown",
   "id": "a5b359f3",
   "metadata": {},
   "source": [
    "nombre_infected       771\n",
    "nombre_sain          2477\n",
    "nombre_exposed        495\n",
    "nombre_recovered    16257\n",
    "Name: 535, dtype: int64"
   ]
  },
  {
   "cell_type": "markdown",
   "id": "43965631",
   "metadata": {},
   "source": [
    "nombre_infected       754\n",
    "nombre_sain          2462\n",
    "nombre_exposed        536\n",
    "nombre_recovered    16248\n",
    "Name: 536, dtype: int64"
   ]
  },
  {
   "cell_type": "markdown",
   "id": "a0e0e27d",
   "metadata": {},
   "source": [
    "nombre_infected       763\n",
    "nombre_sain          2440\n",
    "nombre_exposed        548\n",
    "nombre_recovered    16249\n",
    "Name: 537, dtype: int64"
   ]
  },
  {
   "cell_type": "markdown",
   "id": "054afaf8",
   "metadata": {},
   "source": [
    "nombre_infected       802\n",
    "nombre_sain          2462\n",
    "nombre_exposed        521\n",
    "nombre_recovered    16215\n",
    "Name: 538, dtype: int64"
   ]
  },
  {
   "cell_type": "markdown",
   "id": "32a5f8cc",
   "metadata": {},
   "source": [
    "nombre_infected       833\n",
    "nombre_sain          2483\n",
    "nombre_exposed        505\n",
    "nombre_recovered    16179\n",
    "Name: 539, dtype: int64"
   ]
  },
  {
   "cell_type": "markdown",
   "id": "663956e0",
   "metadata": {},
   "source": [
    "nombre_infected       833\n",
    "nombre_sain          2498\n",
    "nombre_exposed        501\n",
    "nombre_recovered    16168\n",
    "Name: 540, dtype: int64"
   ]
  },
  {
   "cell_type": "markdown",
   "id": "8f561981",
   "metadata": {},
   "source": [
    "nombre_infected       844\n",
    "nombre_sain          2494\n",
    "nombre_exposed        500\n",
    "nombre_recovered    16162\n",
    "Name: 541, dtype: int64"
   ]
  },
  {
   "cell_type": "markdown",
   "id": "1d667777",
   "metadata": {},
   "source": [
    "nombre_infected       848\n",
    "nombre_sain          2469\n",
    "nombre_exposed        524\n",
    "nombre_recovered    16159\n",
    "Name: 542, dtype: int64"
   ]
  },
  {
   "cell_type": "markdown",
   "id": "382ebc7e",
   "metadata": {},
   "source": [
    "nombre_infected       859\n",
    "nombre_sain          2483\n",
    "nombre_exposed        522\n",
    "nombre_recovered    16136\n",
    "Name: 543, dtype: int64"
   ]
  },
  {
   "cell_type": "markdown",
   "id": "d01932b2",
   "metadata": {},
   "source": [
    "nombre_infected       854\n",
    "nombre_sain          2487\n",
    "nombre_exposed        532\n",
    "nombre_recovered    16127\n",
    "Name: 544, dtype: int64"
   ]
  },
  {
   "cell_type": "markdown",
   "id": "811b5d16",
   "metadata": {},
   "source": [
    "nombre_infected       864\n",
    "nombre_sain          2487\n",
    "nombre_exposed        540\n",
    "nombre_recovered    16109\n",
    "Name: 545, dtype: int64"
   ]
  },
  {
   "cell_type": "markdown",
   "id": "1faf5596",
   "metadata": {},
   "source": [
    "nombre_infected       870\n",
    "nombre_sain          2530\n",
    "nombre_exposed        518\n",
    "nombre_recovered    16082\n",
    "Name: 546, dtype: int64"
   ]
  },
  {
   "cell_type": "markdown",
   "id": "0a6ce3d1",
   "metadata": {},
   "source": [
    "nombre_infected       889\n",
    "nombre_sain          2526\n",
    "nombre_exposed        522\n",
    "nombre_recovered    16063\n",
    "Name: 547, dtype: int64"
   ]
  },
  {
   "cell_type": "markdown",
   "id": "57382369",
   "metadata": {},
   "source": [
    "nombre_infected       883\n",
    "nombre_sain          2523\n",
    "nombre_exposed        541\n",
    "nombre_recovered    16053\n",
    "Name: 548, dtype: int64"
   ]
  },
  {
   "cell_type": "markdown",
   "id": "e51cf1ab",
   "metadata": {},
   "source": [
    "nombre_infected       936\n",
    "nombre_sain          2495\n",
    "nombre_exposed        525\n",
    "nombre_recovered    16044\n",
    "Name: 549, dtype: int64"
   ]
  },
  {
   "cell_type": "markdown",
   "id": "fe17a88c",
   "metadata": {},
   "source": [
    "nombre_infected       931\n",
    "nombre_sain          2473\n",
    "nombre_exposed        572\n",
    "nombre_recovered    16024\n",
    "Name: 550, dtype: int64"
   ]
  },
  {
   "cell_type": "markdown",
   "id": "a000b885",
   "metadata": {},
   "source": [
    "nombre_infected       947\n",
    "nombre_sain          2471\n",
    "nombre_exposed        572\n",
    "nombre_recovered    16010\n",
    "Name: 551, dtype: int64"
   ]
  },
  {
   "cell_type": "markdown",
   "id": "55dd524a",
   "metadata": {},
   "source": [
    "nombre_infected       952\n",
    "nombre_sain          2426\n",
    "nombre_exposed        604\n",
    "nombre_recovered    16018\n",
    "Name: 552, dtype: int64"
   ]
  },
  {
   "cell_type": "markdown",
   "id": "d94000f2",
   "metadata": {},
   "source": [
    "nombre_infected       970\n",
    "nombre_sain          2395\n",
    "nombre_exposed        612\n",
    "nombre_recovered    16023\n",
    "Name: 553, dtype: int64"
   ]
  },
  {
   "cell_type": "markdown",
   "id": "66a33466",
   "metadata": {},
   "source": [
    "nombre_infected      1007\n",
    "nombre_sain          2372\n",
    "nombre_exposed        610\n",
    "nombre_recovered    16011\n",
    "Name: 554, dtype: int64"
   ]
  },
  {
   "cell_type": "markdown",
   "id": "41d0bc7a",
   "metadata": {},
   "source": [
    "nombre_infected      1000\n",
    "nombre_sain          2365\n",
    "nombre_exposed        596\n",
    "nombre_recovered    16039\n",
    "Name: 555, dtype: int64"
   ]
  },
  {
   "cell_type": "markdown",
   "id": "8b97f045",
   "metadata": {},
   "source": [
    "nombre_infected      1007\n",
    "nombre_sain          2337\n",
    "nombre_exposed        596\n",
    "nombre_recovered    16060\n",
    "Name: 556, dtype: int64"
   ]
  },
  {
   "cell_type": "markdown",
   "id": "aa1c8667",
   "metadata": {},
   "source": [
    "nombre_infected      1042\n",
    "nombre_sain          2307\n",
    "nombre_exposed        586\n",
    "nombre_recovered    16065\n",
    "Name: 557, dtype: int64"
   ]
  },
  {
   "cell_type": "markdown",
   "id": "a4af3a82",
   "metadata": {},
   "source": [
    "nombre_infected      1033\n",
    "nombre_sain          2277\n",
    "nombre_exposed        603\n",
    "nombre_recovered    16087\n",
    "Name: 558, dtype: int64"
   ]
  },
  {
   "cell_type": "markdown",
   "id": "e770d977",
   "metadata": {},
   "source": [
    "nombre_infected      1017\n",
    "nombre_sain          2251\n",
    "nombre_exposed        610\n",
    "nombre_recovered    16122\n",
    "Name: 559, dtype: int64"
   ]
  },
  {
   "cell_type": "markdown",
   "id": "63603798",
   "metadata": {},
   "source": [
    "nombre_infected      1040\n",
    "nombre_sain          2217\n",
    "nombre_exposed        600\n",
    "nombre_recovered    16143\n",
    "Name: 560, dtype: int64"
   ]
  },
  {
   "cell_type": "markdown",
   "id": "04b31232",
   "metadata": {},
   "source": [
    "nombre_infected      1043\n",
    "nombre_sain          2215\n",
    "nombre_exposed        588\n",
    "nombre_recovered    16154\n",
    "Name: 561, dtype: int64"
   ]
  },
  {
   "cell_type": "markdown",
   "id": "c56b29f7",
   "metadata": {},
   "source": [
    "nombre_infected      1046\n",
    "nombre_sain          2189\n",
    "nombre_exposed        605\n",
    "nombre_recovered    16160\n",
    "Name: 562, dtype: int64"
   ]
  },
  {
   "cell_type": "markdown",
   "id": "5c90ba72",
   "metadata": {},
   "source": [
    "nombre_infected      1065\n",
    "nombre_sain          2163\n",
    "nombre_exposed        583\n",
    "nombre_recovered    16189\n",
    "Name: 563, dtype: int64"
   ]
  },
  {
   "cell_type": "markdown",
   "id": "703689e3",
   "metadata": {},
   "source": [
    "nombre_infected      1067\n",
    "nombre_sain          2128\n",
    "nombre_exposed        587\n",
    "nombre_recovered    16218\n",
    "Name: 564, dtype: int64"
   ]
  },
  {
   "cell_type": "markdown",
   "id": "ca8b37c6",
   "metadata": {},
   "source": [
    "nombre_infected      1047\n",
    "nombre_sain          2124\n",
    "nombre_exposed        577\n",
    "nombre_recovered    16252\n",
    "Name: 565, dtype: int64"
   ]
  },
  {
   "cell_type": "markdown",
   "id": "bc6daf6a",
   "metadata": {},
   "source": [
    "nombre_infected      1055\n",
    "nombre_sain          2111\n",
    "nombre_exposed        564\n",
    "nombre_recovered    16270\n",
    "Name: 566, dtype: int64"
   ]
  },
  {
   "cell_type": "markdown",
   "id": "e259d3d8",
   "metadata": {},
   "source": [
    "nombre_infected      1068\n",
    "nombre_sain          2111\n",
    "nombre_exposed        545\n",
    "nombre_recovered    16276\n",
    "Name: 567, dtype: int64"
   ]
  },
  {
   "cell_type": "markdown",
   "id": "173c58ca",
   "metadata": {},
   "source": [
    "nombre_infected      1040\n",
    "nombre_sain          2126\n",
    "nombre_exposed        552\n",
    "nombre_recovered    16282\n",
    "Name: 568, dtype: int64"
   ]
  },
  {
   "cell_type": "markdown",
   "id": "4fbf9b19",
   "metadata": {},
   "source": [
    "nombre_infected      1040\n",
    "nombre_sain          2110\n",
    "nombre_exposed        553\n",
    "nombre_recovered    16297\n",
    "Name: 569, dtype: int64"
   ]
  },
  {
   "cell_type": "markdown",
   "id": "ea689b07",
   "metadata": {},
   "source": [
    "nombre_infected      1043\n",
    "nombre_sain          2106\n",
    "nombre_exposed        540\n",
    "nombre_recovered    16311\n",
    "Name: 570, dtype: int64"
   ]
  },
  {
   "cell_type": "markdown",
   "id": "a136cea1",
   "metadata": {},
   "source": [
    "nombre_infected      1044\n",
    "nombre_sain          2135\n",
    "nombre_exposed        500\n",
    "nombre_recovered    16321\n",
    "Name: 571, dtype: int64"
   ]
  },
  {
   "cell_type": "markdown",
   "id": "ad014d92",
   "metadata": {},
   "source": [
    "nombre_infected      1027\n",
    "nombre_sain          2128\n",
    "nombre_exposed        511\n",
    "nombre_recovered    16334\n",
    "Name: 572, dtype: int64"
   ]
  },
  {
   "cell_type": "markdown",
   "id": "55a92450",
   "metadata": {},
   "source": [
    "nombre_infected      1011\n",
    "nombre_sain          2141\n",
    "nombre_exposed        488\n",
    "nombre_recovered    16360\n",
    "Name: 573, dtype: int64"
   ]
  },
  {
   "cell_type": "markdown",
   "id": "80f8b215",
   "metadata": {},
   "source": [
    "nombre_infected       985\n",
    "nombre_sain          2127\n",
    "nombre_exposed        490\n",
    "nombre_recovered    16398\n",
    "Name: 574, dtype: int64"
   ]
  },
  {
   "cell_type": "markdown",
   "id": "fccf9f54",
   "metadata": {},
   "source": [
    "nombre_infected       972\n",
    "nombre_sain          2113\n",
    "nombre_exposed        506\n",
    "nombre_recovered    16409\n",
    "Name: 575, dtype: int64"
   ]
  },
  {
   "cell_type": "markdown",
   "id": "38a28113",
   "metadata": {},
   "source": [
    "nombre_infected       954\n",
    "nombre_sain          2121\n",
    "nombre_exposed        512\n",
    "nombre_recovered    16413\n",
    "Name: 576, dtype: int64"
   ]
  },
  {
   "cell_type": "markdown",
   "id": "7a20b4b4",
   "metadata": {},
   "source": [
    "nombre_infected       940\n",
    "nombre_sain          2114\n",
    "nombre_exposed        493\n",
    "nombre_recovered    16453\n",
    "Name: 577, dtype: int64"
   ]
  },
  {
   "cell_type": "markdown",
   "id": "4c5f10aa",
   "metadata": {},
   "source": [
    "nombre_infected       934\n",
    "nombre_sain          2112\n",
    "nombre_exposed        505\n",
    "nombre_recovered    16449\n",
    "Name: 578, dtype: int64"
   ]
  },
  {
   "cell_type": "markdown",
   "id": "aa9ca5ec",
   "metadata": {},
   "source": [
    "nombre_infected       887\n",
    "nombre_sain          2121\n",
    "nombre_exposed        518\n",
    "nombre_recovered    16474\n",
    "Name: 579, dtype: int64"
   ]
  },
  {
   "cell_type": "markdown",
   "id": "bb58a9bd",
   "metadata": {},
   "source": [
    "nombre_infected       915\n",
    "nombre_sain          2100\n",
    "nombre_exposed        489\n",
    "nombre_recovered    16496\n",
    "Name: 580, dtype: int64"
   ]
  },
  {
   "cell_type": "markdown",
   "id": "2e1686d8",
   "metadata": {},
   "source": [
    "nombre_infected       922\n",
    "nombre_sain          2099\n",
    "nombre_exposed        486\n",
    "nombre_recovered    16493\n",
    "Name: 581, dtype: int64"
   ]
  },
  {
   "cell_type": "markdown",
   "id": "ff165aec",
   "metadata": {},
   "source": [
    "nombre_infected       918\n",
    "nombre_sain          2105\n",
    "nombre_exposed        471\n",
    "nombre_recovered    16506\n",
    "Name: 582, dtype: int64"
   ]
  },
  {
   "cell_type": "markdown",
   "id": "546ad0dd",
   "metadata": {},
   "source": [
    "nombre_infected       904\n",
    "nombre_sain          2118\n",
    "nombre_exposed        458\n",
    "nombre_recovered    16520\n",
    "Name: 583, dtype: int64"
   ]
  },
  {
   "cell_type": "markdown",
   "id": "d7182191",
   "metadata": {},
   "source": [
    "nombre_infected       899\n",
    "nombre_sain          2136\n",
    "nombre_exposed        456\n",
    "nombre_recovered    16509\n",
    "Name: 584, dtype: int64"
   ]
  },
  {
   "cell_type": "markdown",
   "id": "055c4746",
   "metadata": {},
   "source": [
    "nombre_infected       899\n",
    "nombre_sain          2134\n",
    "nombre_exposed        457\n",
    "nombre_recovered    16510\n",
    "Name: 585, dtype: int64"
   ]
  },
  {
   "cell_type": "markdown",
   "id": "30b37d0e",
   "metadata": {},
   "source": [
    "nombre_infected       885\n",
    "nombre_sain          2133\n",
    "nombre_exposed        464\n",
    "nombre_recovered    16518\n",
    "Name: 586, dtype: int64"
   ]
  },
  {
   "cell_type": "markdown",
   "id": "18600c8a",
   "metadata": {},
   "source": [
    "nombre_infected       863\n",
    "nombre_sain          2145\n",
    "nombre_exposed        462\n",
    "nombre_recovered    16530\n",
    "Name: 587, dtype: int64"
   ]
  },
  {
   "cell_type": "markdown",
   "id": "4a534f22",
   "metadata": {},
   "source": [
    "nombre_infected       838\n",
    "nombre_sain          2126\n",
    "nombre_exposed        476\n",
    "nombre_recovered    16560\n",
    "Name: 588, dtype: int64"
   ]
  },
  {
   "cell_type": "markdown",
   "id": "c1696856",
   "metadata": {},
   "source": [
    "nombre_infected       809\n",
    "nombre_sain          2151\n",
    "nombre_exposed        463\n",
    "nombre_recovered    16577\n",
    "Name: 589, dtype: int64"
   ]
  },
  {
   "cell_type": "markdown",
   "id": "ce9aaa5f",
   "metadata": {},
   "source": [
    "nombre_infected       802\n",
    "nombre_sain          2175\n",
    "nombre_exposed        458\n",
    "nombre_recovered    16565\n",
    "Name: 590, dtype: int64"
   ]
  },
  {
   "cell_type": "markdown",
   "id": "79cf8577",
   "metadata": {},
   "source": [
    "nombre_infected       793\n",
    "nombre_sain          2186\n",
    "nombre_exposed        457\n",
    "nombre_recovered    16564\n",
    "Name: 591, dtype: int64"
   ]
  },
  {
   "cell_type": "markdown",
   "id": "18398a42",
   "metadata": {},
   "source": [
    "nombre_infected       802\n",
    "nombre_sain          2198\n",
    "nombre_exposed        452\n",
    "nombre_recovered    16548\n",
    "Name: 592, dtype: int64"
   ]
  },
  {
   "cell_type": "markdown",
   "id": "2a5247d3",
   "metadata": {},
   "source": [
    "nombre_infected       762\n",
    "nombre_sain          2205\n",
    "nombre_exposed        467\n",
    "nombre_recovered    16566\n",
    "Name: 593, dtype: int64"
   ]
  },
  {
   "cell_type": "markdown",
   "id": "c4782665",
   "metadata": {},
   "source": [
    "nombre_infected       733\n",
    "nombre_sain          2223\n",
    "nombre_exposed        470\n",
    "nombre_recovered    16574\n",
    "Name: 594, dtype: int64"
   ]
  },
  {
   "cell_type": "markdown",
   "id": "fe469082",
   "metadata": {},
   "source": [
    "nombre_infected       747\n",
    "nombre_sain          2226\n",
    "nombre_exposed        475\n",
    "nombre_recovered    16552\n",
    "Name: 595, dtype: int64"
   ]
  },
  {
   "cell_type": "markdown",
   "id": "360fb2ab",
   "metadata": {},
   "source": [
    "nombre_infected       771\n",
    "nombre_sain          2253\n",
    "nombre_exposed        450\n",
    "nombre_recovered    16526\n",
    "Name: 596, dtype: int64"
   ]
  },
  {
   "cell_type": "markdown",
   "id": "f3c00e1c",
   "metadata": {},
   "source": [
    "nombre_infected       782\n",
    "nombre_sain          2258\n",
    "nombre_exposed        451\n",
    "nombre_recovered    16509\n",
    "Name: 597, dtype: int64"
   ]
  },
  {
   "cell_type": "markdown",
   "id": "15e78136",
   "metadata": {},
   "source": [
    "nombre_infected       753\n",
    "nombre_sain          2289\n",
    "nombre_exposed        451\n",
    "nombre_recovered    16507\n",
    "Name: 598, dtype: int64"
   ]
  },
  {
   "cell_type": "markdown",
   "id": "c4b49e59",
   "metadata": {},
   "source": [
    "nombre_infected       768\n",
    "nombre_sain          2267\n",
    "nombre_exposed        476\n",
    "nombre_recovered    16489\n",
    "Name: 599, dtype: int64"
   ]
  },
  {
   "cell_type": "markdown",
   "id": "668150e5",
   "metadata": {},
   "source": [
    "nombre_infected       780\n",
    "nombre_sain          2277\n",
    "nombre_exposed        472\n",
    "nombre_recovered    16471\n",
    "Name: 600, dtype: int64"
   ]
  },
  {
   "cell_type": "markdown",
   "id": "86eea740",
   "metadata": {},
   "source": [
    "nombre_infected       764\n",
    "nombre_sain          2261\n",
    "nombre_exposed        485\n",
    "nombre_recovered    16490\n",
    "Name: 601, dtype: int64"
   ]
  },
  {
   "cell_type": "markdown",
   "id": "d6e44571",
   "metadata": {},
   "source": [
    "nombre_infected       764\n",
    "nombre_sain          2257\n",
    "nombre_exposed        483\n",
    "nombre_recovered    16496\n",
    "Name: 602, dtype: int64"
   ]
  },
  {
   "cell_type": "markdown",
   "id": "9e2a4d45",
   "metadata": {},
   "source": [
    "nombre_infected       774\n",
    "nombre_sain          2264\n",
    "nombre_exposed        474\n",
    "nombre_recovered    16488\n",
    "Name: 603, dtype: int64"
   ]
  },
  {
   "cell_type": "markdown",
   "id": "d603f1f8",
   "metadata": {},
   "source": [
    "nombre_infected       796\n",
    "nombre_sain          2259\n",
    "nombre_exposed        451\n",
    "nombre_recovered    16494\n",
    "Name: 604, dtype: int64"
   ]
  },
  {
   "cell_type": "markdown",
   "id": "dd272f84",
   "metadata": {},
   "source": [
    "nombre_infected       794\n",
    "nombre_sain          2254\n",
    "nombre_exposed        462\n",
    "nombre_recovered    16490\n",
    "Name: 605, dtype: int64"
   ]
  },
  {
   "cell_type": "markdown",
   "id": "165ab0a8",
   "metadata": {},
   "source": [
    "nombre_infected       772\n",
    "nombre_sain          2236\n",
    "nombre_exposed        473\n",
    "nombre_recovered    16519\n",
    "Name: 606, dtype: int64"
   ]
  },
  {
   "cell_type": "markdown",
   "id": "47c18aa0",
   "metadata": {},
   "source": [
    "nombre_infected       777\n",
    "nombre_sain          2239\n",
    "nombre_exposed        458\n",
    "nombre_recovered    16526\n",
    "Name: 607, dtype: int64"
   ]
  },
  {
   "cell_type": "markdown",
   "id": "eac1667f",
   "metadata": {},
   "source": [
    "nombre_infected       778\n",
    "nombre_sain          2233\n",
    "nombre_exposed        470\n",
    "nombre_recovered    16519\n",
    "Name: 608, dtype: int64"
   ]
  },
  {
   "cell_type": "markdown",
   "id": "361692d2",
   "metadata": {},
   "source": [
    "nombre_infected       778\n",
    "nombre_sain          2234\n",
    "nombre_exposed        453\n",
    "nombre_recovered    16535\n",
    "Name: 609, dtype: int64"
   ]
  },
  {
   "cell_type": "markdown",
   "id": "91f0a298",
   "metadata": {},
   "source": [
    "nombre_infected       799\n",
    "nombre_sain          2226\n",
    "nombre_exposed        456\n",
    "nombre_recovered    16519\n",
    "Name: 610, dtype: int64"
   ]
  },
  {
   "cell_type": "markdown",
   "id": "b4bba11f",
   "metadata": {},
   "source": [
    "nombre_infected       813\n",
    "nombre_sain          2217\n",
    "nombre_exposed        455\n",
    "nombre_recovered    16515\n",
    "Name: 611, dtype: int64"
   ]
  },
  {
   "cell_type": "markdown",
   "id": "7d422390",
   "metadata": {},
   "source": [
    "nombre_infected       798\n",
    "nombre_sain          2206\n",
    "nombre_exposed        470\n",
    "nombre_recovered    16526\n",
    "Name: 612, dtype: int64"
   ]
  },
  {
   "cell_type": "markdown",
   "id": "8119efef",
   "metadata": {},
   "source": [
    "nombre_infected       763\n",
    "nombre_sain          2226\n",
    "nombre_exposed        473\n",
    "nombre_recovered    16538\n",
    "Name: 613, dtype: int64"
   ]
  },
  {
   "cell_type": "markdown",
   "id": "64d30b12",
   "metadata": {},
   "source": [
    "nombre_infected       778\n",
    "nombre_sain          2218\n",
    "nombre_exposed        470\n",
    "nombre_recovered    16534\n",
    "Name: 614, dtype: int64"
   ]
  },
  {
   "cell_type": "markdown",
   "id": "70bbf285",
   "metadata": {},
   "source": [
    "nombre_infected       782\n",
    "nombre_sain          2236\n",
    "nombre_exposed        463\n",
    "nombre_recovered    16519\n",
    "Name: 615, dtype: int64"
   ]
  },
  {
   "cell_type": "markdown",
   "id": "86d3f488",
   "metadata": {},
   "source": [
    "nombre_infected       789\n",
    "nombre_sain          2242\n",
    "nombre_exposed        461\n",
    "nombre_recovered    16508\n",
    "Name: 616, dtype: int64"
   ]
  },
  {
   "cell_type": "markdown",
   "id": "89ee99f6",
   "metadata": {},
   "source": [
    "nombre_infected       802\n",
    "nombre_sain          2221\n",
    "nombre_exposed        462\n",
    "nombre_recovered    16515\n",
    "Name: 617, dtype: int64"
   ]
  },
  {
   "cell_type": "markdown",
   "id": "63563749",
   "metadata": {},
   "source": [
    "nombre_infected       789\n",
    "nombre_sain          2231\n",
    "nombre_exposed        464\n",
    "nombre_recovered    16516\n",
    "Name: 618, dtype: int64"
   ]
  },
  {
   "cell_type": "markdown",
   "id": "e49d46a2",
   "metadata": {},
   "source": [
    "nombre_infected       774\n",
    "nombre_sain          2241\n",
    "nombre_exposed        470\n",
    "nombre_recovered    16515\n",
    "Name: 619, dtype: int64"
   ]
  },
  {
   "cell_type": "markdown",
   "id": "f2f383aa",
   "metadata": {},
   "source": [
    "nombre_infected       793\n",
    "nombre_sain          2232\n",
    "nombre_exposed        460\n",
    "nombre_recovered    16515\n",
    "Name: 620, dtype: int64"
   ]
  },
  {
   "cell_type": "markdown",
   "id": "2704ee19",
   "metadata": {},
   "source": [
    "nombre_infected       786\n",
    "nombre_sain          2246\n",
    "nombre_exposed        465\n",
    "nombre_recovered    16503\n",
    "Name: 621, dtype: int64"
   ]
  },
  {
   "cell_type": "markdown",
   "id": "b938ba43",
   "metadata": {},
   "source": [
    "nombre_infected       771\n",
    "nombre_sain          2278\n",
    "nombre_exposed        460\n",
    "nombre_recovered    16491\n",
    "Name: 622, dtype: int64"
   ]
  },
  {
   "cell_type": "markdown",
   "id": "83fc5a54",
   "metadata": {},
   "source": [
    "nombre_infected       760\n",
    "nombre_sain          2300\n",
    "nombre_exposed        467\n",
    "nombre_recovered    16473\n",
    "Name: 623, dtype: int64"
   ]
  },
  {
   "cell_type": "markdown",
   "id": "579ca4bb",
   "metadata": {},
   "source": [
    "nombre_infected       755\n",
    "nombre_sain          2304\n",
    "nombre_exposed        471\n",
    "nombre_recovered    16470\n",
    "Name: 624, dtype: int64"
   ]
  },
  {
   "cell_type": "markdown",
   "id": "a892348b",
   "metadata": {},
   "source": [
    "nombre_infected       772\n",
    "nombre_sain          2345\n",
    "nombre_exposed        454\n",
    "nombre_recovered    16429\n",
    "Name: 625, dtype: int64"
   ]
  },
  {
   "cell_type": "markdown",
   "id": "0343d276",
   "metadata": {},
   "source": [
    "nombre_infected       783\n",
    "nombre_sain          2361\n",
    "nombre_exposed        468\n",
    "nombre_recovered    16388\n",
    "Name: 626, dtype: int64"
   ]
  },
  {
   "cell_type": "markdown",
   "id": "10f73be0",
   "metadata": {},
   "source": [
    "nombre_infected       783\n",
    "nombre_sain          2370\n",
    "nombre_exposed        459\n",
    "nombre_recovered    16388\n",
    "Name: 627, dtype: int64"
   ]
  },
  {
   "cell_type": "markdown",
   "id": "540e19f3",
   "metadata": {},
   "source": [
    "nombre_infected       794\n",
    "nombre_sain          2358\n",
    "nombre_exposed        476\n",
    "nombre_recovered    16372\n",
    "Name: 628, dtype: int64"
   ]
  },
  {
   "cell_type": "markdown",
   "id": "a15df116",
   "metadata": {},
   "source": [
    "nombre_infected       773\n",
    "nombre_sain          2381\n",
    "nombre_exposed        488\n",
    "nombre_recovered    16358\n",
    "Name: 629, dtype: int64"
   ]
  },
  {
   "cell_type": "markdown",
   "id": "29ee59f5",
   "metadata": {},
   "source": [
    "nombre_infected       792\n",
    "nombre_sain          2397\n",
    "nombre_exposed        494\n",
    "nombre_recovered    16317\n",
    "Name: 630, dtype: int64"
   ]
  },
  {
   "cell_type": "markdown",
   "id": "0414e71f",
   "metadata": {},
   "source": [
    "nombre_infected       784\n",
    "nombre_sain          2398\n",
    "nombre_exposed        512\n",
    "nombre_recovered    16306\n",
    "Name: 631, dtype: int64"
   ]
  },
  {
   "cell_type": "markdown",
   "id": "61cf4393",
   "metadata": {},
   "source": [
    "nombre_infected       805\n",
    "nombre_sain          2408\n",
    "nombre_exposed        483\n",
    "nombre_recovered    16304\n",
    "Name: 632, dtype: int64"
   ]
  },
  {
   "cell_type": "markdown",
   "id": "a8910905",
   "metadata": {},
   "source": [
    "nombre_infected       809\n",
    "nombre_sain          2405\n",
    "nombre_exposed        487\n",
    "nombre_recovered    16299\n",
    "Name: 633, dtype: int64"
   ]
  },
  {
   "cell_type": "markdown",
   "id": "9a7912ca",
   "metadata": {},
   "source": [
    "nombre_infected       803\n",
    "nombre_sain          2416\n",
    "nombre_exposed        502\n",
    "nombre_recovered    16279\n",
    "Name: 634, dtype: int64"
   ]
  },
  {
   "cell_type": "markdown",
   "id": "5a3dc6ad",
   "metadata": {},
   "source": [
    "nombre_infected       815\n",
    "nombre_sain          2415\n",
    "nombre_exposed        510\n",
    "nombre_recovered    16260\n",
    "Name: 635, dtype: int64"
   ]
  },
  {
   "cell_type": "markdown",
   "id": "7509b181",
   "metadata": {},
   "source": [
    "nombre_infected       822\n",
    "nombre_sain          2411\n",
    "nombre_exposed        521\n",
    "nombre_recovered    16246\n",
    "Name: 636, dtype: int64"
   ]
  },
  {
   "cell_type": "markdown",
   "id": "97ca0f30",
   "metadata": {},
   "source": [
    "nombre_infected       846\n",
    "nombre_sain          2422\n",
    "nombre_exposed        511\n",
    "nombre_recovered    16221\n",
    "Name: 637, dtype: int64"
   ]
  },
  {
   "cell_type": "markdown",
   "id": "85f936ac",
   "metadata": {},
   "source": [
    "nombre_infected       841\n",
    "nombre_sain          2414\n",
    "nombre_exposed        526\n",
    "nombre_recovered    16219\n",
    "Name: 638, dtype: int64"
   ]
  },
  {
   "cell_type": "markdown",
   "id": "3f5622b4",
   "metadata": {},
   "source": [
    "nombre_infected       839\n",
    "nombre_sain          2430\n",
    "nombre_exposed        523\n",
    "nombre_recovered    16208\n",
    "Name: 639, dtype: int64"
   ]
  },
  {
   "cell_type": "markdown",
   "id": "32d6fa6f",
   "metadata": {},
   "source": [
    "nombre_infected       867\n",
    "nombre_sain          2441\n",
    "nombre_exposed        506\n",
    "nombre_recovered    16186\n",
    "Name: 640, dtype: int64"
   ]
  },
  {
   "cell_type": "markdown",
   "id": "4f3191a5",
   "metadata": {},
   "source": [
    "nombre_infected       867\n",
    "nombre_sain          2461\n",
    "nombre_exposed        523\n",
    "nombre_recovered    16149\n",
    "Name: 641, dtype: int64"
   ]
  },
  {
   "cell_type": "markdown",
   "id": "00f94106",
   "metadata": {},
   "source": [
    "nombre_infected       858\n",
    "nombre_sain          2458\n",
    "nombre_exposed        531\n",
    "nombre_recovered    16153\n",
    "Name: 642, dtype: int64"
   ]
  },
  {
   "cell_type": "markdown",
   "id": "e75ad087",
   "metadata": {},
   "source": [
    "nombre_infected       876\n",
    "nombre_sain          2469\n",
    "nombre_exposed        533\n",
    "nombre_recovered    16122\n",
    "Name: 643, dtype: int64"
   ]
  },
  {
   "cell_type": "markdown",
   "id": "152dbf16",
   "metadata": {},
   "source": [
    "nombre_infected       889\n",
    "nombre_sain          2424\n",
    "nombre_exposed        560\n",
    "nombre_recovered    16127\n",
    "Name: 644, dtype: int64"
   ]
  },
  {
   "cell_type": "markdown",
   "id": "ed1a27d4",
   "metadata": {},
   "source": [
    "nombre_infected       908\n",
    "nombre_sain          2419\n",
    "nombre_exposed        564\n",
    "nombre_recovered    16109\n",
    "Name: 645, dtype: int64"
   ]
  },
  {
   "cell_type": "markdown",
   "id": "e438e8db",
   "metadata": {},
   "source": [
    "nombre_infected       912\n",
    "nombre_sain          2397\n",
    "nombre_exposed        581\n",
    "nombre_recovered    16110\n",
    "Name: 646, dtype: int64"
   ]
  },
  {
   "cell_type": "markdown",
   "id": "7219b12d",
   "metadata": {},
   "source": [
    "nombre_infected       918\n",
    "nombre_sain          2383\n",
    "nombre_exposed        574\n",
    "nombre_recovered    16125\n",
    "Name: 647, dtype: int64"
   ]
  },
  {
   "cell_type": "markdown",
   "id": "d2b9d366",
   "metadata": {},
   "source": [
    "nombre_infected       945\n",
    "nombre_sain          2353\n",
    "nombre_exposed        582\n",
    "nombre_recovered    16120\n",
    "Name: 648, dtype: int64"
   ]
  },
  {
   "cell_type": "markdown",
   "id": "8e1c525a",
   "metadata": {},
   "source": [
    "nombre_infected       979\n",
    "nombre_sain          2323\n",
    "nombre_exposed        569\n",
    "nombre_recovered    16129\n",
    "Name: 649, dtype: int64"
   ]
  },
  {
   "cell_type": "markdown",
   "id": "7654df5a",
   "metadata": {},
   "source": [
    "nombre_infected       982\n",
    "nombre_sain          2301\n",
    "nombre_exposed        596\n",
    "nombre_recovered    16121\n",
    "Name: 650, dtype: int64"
   ]
  },
  {
   "cell_type": "markdown",
   "id": "22dcd000",
   "metadata": {},
   "source": [
    "nombre_infected       985\n",
    "nombre_sain          2265\n",
    "nombre_exposed        590\n",
    "nombre_recovered    16160\n",
    "Name: 651, dtype: int64"
   ]
  },
  {
   "cell_type": "markdown",
   "id": "ea2fed15",
   "metadata": {},
   "source": [
    "nombre_infected      1023\n",
    "nombre_sain          2241\n",
    "nombre_exposed        579\n",
    "nombre_recovered    16157\n",
    "Name: 652, dtype: int64"
   ]
  },
  {
   "cell_type": "markdown",
   "id": "4650be31",
   "metadata": {},
   "source": [
    "nombre_infected      1031\n",
    "nombre_sain          2255\n",
    "nombre_exposed        542\n",
    "nombre_recovered    16172\n",
    "Name: 653, dtype: int64"
   ]
  },
  {
   "cell_type": "markdown",
   "id": "a0cc9562",
   "metadata": {},
   "source": [
    "nombre_infected      1051\n",
    "nombre_sain          2217\n",
    "nombre_exposed        554\n",
    "nombre_recovered    16178\n",
    "Name: 654, dtype: int64"
   ]
  },
  {
   "cell_type": "markdown",
   "id": "15260f64",
   "metadata": {},
   "source": [
    "nombre_infected      1053\n",
    "nombre_sain          2188\n",
    "nombre_exposed        582\n",
    "nombre_recovered    16177\n",
    "Name: 655, dtype: int64"
   ]
  },
  {
   "cell_type": "markdown",
   "id": "754a60f8",
   "metadata": {},
   "source": [
    "nombre_infected      1040\n",
    "nombre_sain          2179\n",
    "nombre_exposed        581\n",
    "nombre_recovered    16200\n",
    "Name: 656, dtype: int64"
   ]
  },
  {
   "cell_type": "markdown",
   "id": "730876e0",
   "metadata": {},
   "source": [
    "nombre_infected      1054\n",
    "nombre_sain          2166\n",
    "nombre_exposed        569\n",
    "nombre_recovered    16211\n",
    "Name: 657, dtype: int64"
   ]
  },
  {
   "cell_type": "markdown",
   "id": "bd835e3b",
   "metadata": {},
   "source": [
    "nombre_infected      1032\n",
    "nombre_sain          2129\n",
    "nombre_exposed        583\n",
    "nombre_recovered    16256\n",
    "Name: 658, dtype: int64"
   ]
  },
  {
   "cell_type": "markdown",
   "id": "0f006784",
   "metadata": {},
   "source": [
    "nombre_infected      1052\n",
    "nombre_sain          2115\n",
    "nombre_exposed        574\n",
    "nombre_recovered    16259\n",
    "Name: 659, dtype: int64"
   ]
  },
  {
   "cell_type": "markdown",
   "id": "95a5690e",
   "metadata": {},
   "source": [
    "nombre_infected      1028\n",
    "nombre_sain          2111\n",
    "nombre_exposed        566\n",
    "nombre_recovered    16295\n",
    "Name: 660, dtype: int64"
   ]
  },
  {
   "cell_type": "markdown",
   "id": "417838a4",
   "metadata": {},
   "source": [
    "nombre_infected      1028\n",
    "nombre_sain          2089\n",
    "nombre_exposed        559\n",
    "nombre_recovered    16324\n",
    "Name: 661, dtype: int64"
   ]
  },
  {
   "cell_type": "markdown",
   "id": "177fbfb1",
   "metadata": {},
   "source": [
    "nombre_infected      1025\n",
    "nombre_sain          2082\n",
    "nombre_exposed        547\n",
    "nombre_recovered    16346\n",
    "Name: 662, dtype: int64"
   ]
  },
  {
   "cell_type": "markdown",
   "id": "9b3d2dcf",
   "metadata": {},
   "source": [
    "nombre_infected      1014\n",
    "nombre_sain          2081\n",
    "nombre_exposed        537\n",
    "nombre_recovered    16368\n",
    "Name: 663, dtype: int64"
   ]
  },
  {
   "cell_type": "markdown",
   "id": "cbcffd56",
   "metadata": {},
   "source": [
    "nombre_infected       987\n",
    "nombre_sain          2091\n",
    "nombre_exposed        546\n",
    "nombre_recovered    16376\n",
    "Name: 664, dtype: int64"
   ]
  },
  {
   "cell_type": "markdown",
   "id": "5b437fea",
   "metadata": {},
   "source": [
    "nombre_infected      1008\n",
    "nombre_sain          2091\n",
    "nombre_exposed        526\n",
    "nombre_recovered    16375\n",
    "Name: 665, dtype: int64"
   ]
  },
  {
   "cell_type": "markdown",
   "id": "f27dea19",
   "metadata": {},
   "source": [
    "nombre_infected      1012\n",
    "nombre_sain          2115\n",
    "nombre_exposed        504\n",
    "nombre_recovered    16369\n",
    "Name: 666, dtype: int64"
   ]
  },
  {
   "cell_type": "markdown",
   "id": "8dc2a870",
   "metadata": {},
   "source": [
    "nombre_infected       995\n",
    "nombre_sain          2101\n",
    "nombre_exposed        514\n",
    "nombre_recovered    16390\n",
    "Name: 667, dtype: int64"
   ]
  },
  {
   "cell_type": "markdown",
   "id": "7e6a09dc",
   "metadata": {},
   "source": [
    "nombre_infected       979\n",
    "nombre_sain          2104\n",
    "nombre_exposed        512\n",
    "nombre_recovered    16405\n",
    "Name: 668, dtype: int64"
   ]
  },
  {
   "cell_type": "markdown",
   "id": "305fbd0f",
   "metadata": {},
   "source": [
    "nombre_infected       944\n",
    "nombre_sain          2101\n",
    "nombre_exposed        530\n",
    "nombre_recovered    16425\n",
    "Name: 669, dtype: int64"
   ]
  },
  {
   "cell_type": "markdown",
   "id": "348db4f5",
   "metadata": {},
   "source": [
    "nombre_infected       939\n",
    "nombre_sain          2118\n",
    "nombre_exposed        511\n",
    "nombre_recovered    16432\n",
    "Name: 670, dtype: int64"
   ]
  },
  {
   "cell_type": "markdown",
   "id": "6112a16e",
   "metadata": {},
   "source": [
    "nombre_infected       944\n",
    "nombre_sain          2115\n",
    "nombre_exposed        504\n",
    "nombre_recovered    16437\n",
    "Name: 671, dtype: int64"
   ]
  },
  {
   "cell_type": "markdown",
   "id": "6a4bec20",
   "metadata": {},
   "source": [
    "nombre_infected       940\n",
    "nombre_sain          2100\n",
    "nombre_exposed        515\n",
    "nombre_recovered    16445\n",
    "Name: 672, dtype: int64"
   ]
  },
  {
   "cell_type": "markdown",
   "id": "73511bbc",
   "metadata": {},
   "source": [
    "nombre_infected       937\n",
    "nombre_sain          2116\n",
    "nombre_exposed        497\n",
    "nombre_recovered    16450\n",
    "Name: 673, dtype: int64"
   ]
  },
  {
   "cell_type": "markdown",
   "id": "f6e7f40c",
   "metadata": {},
   "source": [
    "nombre_infected       929\n",
    "nombre_sain          2089\n",
    "nombre_exposed        551\n",
    "nombre_recovered    16431\n",
    "Name: 674, dtype: int64"
   ]
  },
  {
   "cell_type": "markdown",
   "id": "a58f9ebd",
   "metadata": {},
   "source": [
    "nombre_infected       921\n",
    "nombre_sain          2097\n",
    "nombre_exposed        569\n",
    "nombre_recovered    16413\n",
    "Name: 675, dtype: int64"
   ]
  },
  {
   "cell_type": "markdown",
   "id": "4483851f",
   "metadata": {},
   "source": [
    "nombre_infected       940\n",
    "nombre_sain          2102\n",
    "nombre_exposed        551\n",
    "nombre_recovered    16407\n",
    "Name: 676, dtype: int64"
   ]
  },
  {
   "cell_type": "markdown",
   "id": "327b8c3b",
   "metadata": {},
   "source": [
    "nombre_infected       952\n",
    "nombre_sain          2089\n",
    "nombre_exposed        554\n",
    "nombre_recovered    16405\n",
    "Name: 677, dtype: int64"
   ]
  },
  {
   "cell_type": "markdown",
   "id": "fec193dd",
   "metadata": {},
   "source": [
    "nombre_infected       948\n",
    "nombre_sain          2077\n",
    "nombre_exposed        564\n",
    "nombre_recovered    16411\n",
    "Name: 678, dtype: int64"
   ]
  },
  {
   "cell_type": "markdown",
   "id": "c77fcc4a",
   "metadata": {},
   "source": [
    "nombre_infected       965\n",
    "nombre_sain          2078\n",
    "nombre_exposed        528\n",
    "nombre_recovered    16429\n",
    "Name: 679, dtype: int64"
   ]
  },
  {
   "cell_type": "markdown",
   "id": "b233dae2",
   "metadata": {},
   "source": [
    "nombre_infected       970\n",
    "nombre_sain          2074\n",
    "nombre_exposed        520\n",
    "nombre_recovered    16436\n",
    "Name: 680, dtype: int64"
   ]
  },
  {
   "cell_type": "markdown",
   "id": "1fbb5a61",
   "metadata": {},
   "source": [
    "nombre_infected       976\n",
    "nombre_sain          2058\n",
    "nombre_exposed        520\n",
    "nombre_recovered    16446\n",
    "Name: 681, dtype: int64"
   ]
  },
  {
   "cell_type": "markdown",
   "id": "017e4aea",
   "metadata": {},
   "source": [
    "nombre_infected       959\n",
    "nombre_sain          2038\n",
    "nombre_exposed        535\n",
    "nombre_recovered    16468\n",
    "Name: 682, dtype: int64"
   ]
  },
  {
   "cell_type": "markdown",
   "id": "7aa9fddc",
   "metadata": {},
   "source": [
    "nombre_infected       963\n",
    "nombre_sain          2013\n",
    "nombre_exposed        548\n",
    "nombre_recovered    16476\n",
    "Name: 683, dtype: int64"
   ]
  },
  {
   "cell_type": "markdown",
   "id": "45ef0998",
   "metadata": {},
   "source": [
    "nombre_infected       969\n",
    "nombre_sain          2004\n",
    "nombre_exposed        544\n",
    "nombre_recovered    16483\n",
    "Name: 684, dtype: int64"
   ]
  },
  {
   "cell_type": "markdown",
   "id": "81a3edf2",
   "metadata": {},
   "source": [
    "nombre_infected       976\n",
    "nombre_sain          2005\n",
    "nombre_exposed        524\n",
    "nombre_recovered    16495\n",
    "Name: 685, dtype: int64"
   ]
  },
  {
   "cell_type": "markdown",
   "id": "3f07b591",
   "metadata": {},
   "source": [
    "nombre_infected       984\n",
    "nombre_sain          2017\n",
    "nombre_exposed        504\n",
    "nombre_recovered    16495\n",
    "Name: 686, dtype: int64"
   ]
  },
  {
   "cell_type": "markdown",
   "id": "76d987d8",
   "metadata": {},
   "source": [
    "nombre_infected       980\n",
    "nombre_sain          1998\n",
    "nombre_exposed        506\n",
    "nombre_recovered    16516\n",
    "Name: 687, dtype: int64"
   ]
  },
  {
   "cell_type": "markdown",
   "id": "06021abc",
   "metadata": {},
   "source": [
    "nombre_infected       979\n",
    "nombre_sain          1967\n",
    "nombre_exposed        520\n",
    "nombre_recovered    16534\n",
    "Name: 688, dtype: int64"
   ]
  },
  {
   "cell_type": "markdown",
   "id": "6884d75f",
   "metadata": {},
   "source": [
    "nombre_infected       975\n",
    "nombre_sain          1974\n",
    "nombre_exposed        500\n",
    "nombre_recovered    16551\n",
    "Name: 689, dtype: int64"
   ]
  },
  {
   "cell_type": "markdown",
   "id": "e7f053bc",
   "metadata": {},
   "source": [
    "nombre_infected       960\n",
    "nombre_sain          2007\n",
    "nombre_exposed        489\n",
    "nombre_recovered    16544\n",
    "Name: 690, dtype: int64"
   ]
  },
  {
   "cell_type": "markdown",
   "id": "641fd4f2",
   "metadata": {},
   "source": [
    "nombre_infected       945\n",
    "nombre_sain          1991\n",
    "nombre_exposed        493\n",
    "nombre_recovered    16571\n",
    "Name: 691, dtype: int64"
   ]
  },
  {
   "cell_type": "markdown",
   "id": "b692b4cc",
   "metadata": {},
   "source": [
    "nombre_infected       915\n",
    "nombre_sain          1997\n",
    "nombre_exposed        490\n",
    "nombre_recovered    16598\n",
    "Name: 692, dtype: int64"
   ]
  },
  {
   "cell_type": "markdown",
   "id": "9dc5b8c3",
   "metadata": {},
   "source": [
    "nombre_infected       913\n",
    "nombre_sain          2015\n",
    "nombre_exposed        491\n",
    "nombre_recovered    16581\n",
    "Name: 693, dtype: int64"
   ]
  },
  {
   "cell_type": "markdown",
   "id": "77d23020",
   "metadata": {},
   "source": [
    "nombre_infected       909\n",
    "nombre_sain          2017\n",
    "nombre_exposed        484\n",
    "nombre_recovered    16590\n",
    "Name: 694, dtype: int64"
   ]
  },
  {
   "cell_type": "markdown",
   "id": "281ac9fa",
   "metadata": {},
   "source": [
    "nombre_infected       924\n",
    "nombre_sain          2042\n",
    "nombre_exposed        465\n",
    "nombre_recovered    16569\n",
    "Name: 695, dtype: int64"
   ]
  },
  {
   "cell_type": "markdown",
   "id": "17496b86",
   "metadata": {},
   "source": [
    "nombre_infected       922\n",
    "nombre_sain          2025\n",
    "nombre_exposed        472\n",
    "nombre_recovered    16581\n",
    "Name: 696, dtype: int64"
   ]
  },
  {
   "cell_type": "markdown",
   "id": "1b23dfa1",
   "metadata": {},
   "source": [
    "nombre_infected       898\n",
    "nombre_sain          2008\n",
    "nombre_exposed        507\n",
    "nombre_recovered    16587\n",
    "Name: 697, dtype: int64"
   ]
  },
  {
   "cell_type": "markdown",
   "id": "df59c529",
   "metadata": {},
   "source": [
    "nombre_infected       871\n",
    "nombre_sain          2026\n",
    "nombre_exposed        495\n",
    "nombre_recovered    16608\n",
    "Name: 698, dtype: int64"
   ]
  },
  {
   "cell_type": "markdown",
   "id": "7ebc904e",
   "metadata": {},
   "source": [
    "nombre_infected       877\n",
    "nombre_sain          2049\n",
    "nombre_exposed        476\n",
    "nombre_recovered    16598\n",
    "Name: 699, dtype: int64"
   ]
  },
  {
   "cell_type": "markdown",
   "id": "8e66cbd0",
   "metadata": {},
   "source": [
    "nombre_infected       889\n",
    "nombre_sain          2085\n",
    "nombre_exposed        453\n",
    "nombre_recovered    16573\n",
    "Name: 700, dtype: int64"
   ]
  },
  {
   "cell_type": "markdown",
   "id": "89baf0c8",
   "metadata": {},
   "source": [
    "nombre_infected       873\n",
    "nombre_sain          2073\n",
    "nombre_exposed        456\n",
    "nombre_recovered    16598\n",
    "Name: 701, dtype: int64"
   ]
  },
  {
   "cell_type": "markdown",
   "id": "8321c21a",
   "metadata": {},
   "source": [
    "nombre_infected       866\n",
    "nombre_sain          2085\n",
    "nombre_exposed        447\n",
    "nombre_recovered    16602\n",
    "Name: 702, dtype: int64"
   ]
  },
  {
   "cell_type": "markdown",
   "id": "85a47ceb",
   "metadata": {},
   "source": [
    "nombre_infected       866\n",
    "nombre_sain          2106\n",
    "nombre_exposed        436\n",
    "nombre_recovered    16592\n",
    "Name: 703, dtype: int64"
   ]
  },
  {
   "cell_type": "markdown",
   "id": "fbac0872",
   "metadata": {},
   "source": [
    "nombre_infected       871\n",
    "nombre_sain          2104\n",
    "nombre_exposed        447\n",
    "nombre_recovered    16578\n",
    "Name: 704, dtype: int64"
   ]
  },
  {
   "cell_type": "markdown",
   "id": "b04673bc",
   "metadata": {},
   "source": [
    "nombre_infected       844\n",
    "nombre_sain          2133\n",
    "nombre_exposed        441\n",
    "nombre_recovered    16582\n",
    "Name: 705, dtype: int64"
   ]
  },
  {
   "cell_type": "markdown",
   "id": "567d5d3d",
   "metadata": {},
   "source": [
    "nombre_infected       840\n",
    "nombre_sain          2136\n",
    "nombre_exposed        429\n",
    "nombre_recovered    16595\n",
    "Name: 706, dtype: int64"
   ]
  },
  {
   "cell_type": "markdown",
   "id": "add9d59f",
   "metadata": {},
   "source": [
    "nombre_infected       835\n",
    "nombre_sain          2126\n",
    "nombre_exposed        435\n",
    "nombre_recovered    16604\n",
    "Name: 707, dtype: int64"
   ]
  },
  {
   "cell_type": "markdown",
   "id": "a19f530e",
   "metadata": {},
   "source": [
    "nombre_infected       841\n",
    "nombre_sain          2132\n",
    "nombre_exposed        424\n",
    "nombre_recovered    16603\n",
    "Name: 708, dtype: int64"
   ]
  },
  {
   "cell_type": "markdown",
   "id": "e25c045f",
   "metadata": {},
   "source": [
    "nombre_infected       809\n",
    "nombre_sain          2140\n",
    "nombre_exposed        435\n",
    "nombre_recovered    16616\n",
    "Name: 709, dtype: int64"
   ]
  },
  {
   "cell_type": "markdown",
   "id": "2eaf6817",
   "metadata": {},
   "source": [
    "nombre_infected       786\n",
    "nombre_sain          2166\n",
    "nombre_exposed        445\n",
    "nombre_recovered    16603\n",
    "Name: 710, dtype: int64"
   ]
  },
  {
   "cell_type": "markdown",
   "id": "e49136f2",
   "metadata": {},
   "source": [
    "nombre_infected       783\n",
    "nombre_sain          2215\n",
    "nombre_exposed        428\n",
    "nombre_recovered    16574\n",
    "Name: 711, dtype: int64"
   ]
  },
  {
   "cell_type": "markdown",
   "id": "d1d78226",
   "metadata": {},
   "source": [
    "nombre_infected       745\n",
    "nombre_sain          2217\n",
    "nombre_exposed        452\n",
    "nombre_recovered    16586\n",
    "Name: 712, dtype: int64"
   ]
  },
  {
   "cell_type": "markdown",
   "id": "2665caf2",
   "metadata": {},
   "source": [
    "nombre_infected       752\n",
    "nombre_sain          2204\n",
    "nombre_exposed        459\n",
    "nombre_recovered    16585\n",
    "Name: 713, dtype: int64"
   ]
  },
  {
   "cell_type": "markdown",
   "id": "ef93a44f",
   "metadata": {},
   "source": [
    "nombre_infected       743\n",
    "nombre_sain          2231\n",
    "nombre_exposed        450\n",
    "nombre_recovered    16576\n",
    "Name: 714, dtype: int64"
   ]
  },
  {
   "cell_type": "markdown",
   "id": "0d7899fd",
   "metadata": {},
   "source": [
    "nombre_infected       756\n",
    "nombre_sain          2274\n",
    "nombre_exposed        433\n",
    "nombre_recovered    16537\n",
    "Name: 715, dtype: int64"
   ]
  },
  {
   "cell_type": "markdown",
   "id": "df33dac5",
   "metadata": {},
   "source": [
    "nombre_infected       745\n",
    "nombre_sain          2289\n",
    "nombre_exposed        437\n",
    "nombre_recovered    16529\n",
    "Name: 716, dtype: int64"
   ]
  },
  {
   "cell_type": "markdown",
   "id": "bf99481b",
   "metadata": {},
   "source": [
    "nombre_infected       748\n",
    "nombre_sain          2319\n",
    "nombre_exposed        437\n",
    "nombre_recovered    16496\n",
    "Name: 717, dtype: int64"
   ]
  },
  {
   "cell_type": "markdown",
   "id": "692e906e",
   "metadata": {},
   "source": [
    "nombre_infected       735\n",
    "nombre_sain          2353\n",
    "nombre_exposed        441\n",
    "nombre_recovered    16471\n",
    "Name: 718, dtype: int64"
   ]
  },
  {
   "cell_type": "markdown",
   "id": "5f35f3ec",
   "metadata": {},
   "source": [
    "nombre_infected       743\n",
    "nombre_sain          2371\n",
    "nombre_exposed        444\n",
    "nombre_recovered    16442\n",
    "Name: 719, dtype: int64"
   ]
  },
  {
   "cell_type": "markdown",
   "id": "0fc00558",
   "metadata": {},
   "source": [
    "nombre_infected       765\n",
    "nombre_sain          2392\n",
    "nombre_exposed        445\n",
    "nombre_recovered    16398\n",
    "Name: 720, dtype: int64"
   ]
  },
  {
   "cell_type": "markdown",
   "id": "6652454f",
   "metadata": {},
   "source": [
    "nombre_infected       764\n",
    "nombre_sain          2408\n",
    "nombre_exposed        448\n",
    "nombre_recovered    16380\n",
    "Name: 721, dtype: int64"
   ]
  },
  {
   "cell_type": "markdown",
   "id": "efdb3c2a",
   "metadata": {},
   "source": [
    "nombre_infected       734\n",
    "nombre_sain          2425\n",
    "nombre_exposed        461\n",
    "nombre_recovered    16380\n",
    "Name: 722, dtype: int64"
   ]
  },
  {
   "cell_type": "markdown",
   "id": "dd03371f",
   "metadata": {},
   "source": [
    "nombre_infected       737\n",
    "nombre_sain          2442\n",
    "nombre_exposed        466\n",
    "nombre_recovered    16355\n",
    "Name: 723, dtype: int64"
   ]
  },
  {
   "cell_type": "markdown",
   "id": "e1467661",
   "metadata": {},
   "source": [
    "nombre_infected       729\n",
    "nombre_sain          2465\n",
    "nombre_exposed        455\n",
    "nombre_recovered    16351\n",
    "Name: 724, dtype: int64"
   ]
  },
  {
   "cell_type": "markdown",
   "id": "0f3094bb",
   "metadata": {},
   "source": [
    "nombre_infected       739\n",
    "nombre_sain          2453\n",
    "nombre_exposed        465\n",
    "nombre_recovered    16343\n",
    "Name: 725, dtype: int64"
   ]
  },
  {
   "cell_type": "markdown",
   "id": "cfa31c2b",
   "metadata": {},
   "source": [
    "nombre_infected       763\n",
    "nombre_sain          2453\n",
    "nombre_exposed        479\n",
    "nombre_recovered    16305\n",
    "Name: 726, dtype: int64"
   ]
  },
  {
   "cell_type": "markdown",
   "id": "1be697ac",
   "metadata": {},
   "source": [
    "nombre_infected       776\n",
    "nombre_sain          2440\n",
    "nombre_exposed        495\n",
    "nombre_recovered    16289\n",
    "Name: 727, dtype: int64"
   ]
  },
  {
   "cell_type": "markdown",
   "id": "ca1b2853",
   "metadata": {},
   "source": [
    "nombre_infected       780\n",
    "nombre_sain          2440\n",
    "nombre_exposed        508\n",
    "nombre_recovered    16272\n",
    "Name: 728, dtype: int64"
   ]
  },
  {
   "cell_type": "markdown",
   "id": "5676a171",
   "metadata": {},
   "source": [
    "nombre_infected       790\n",
    "nombre_sain          2394\n",
    "nombre_exposed        520\n",
    "nombre_recovered    16296\n",
    "Name: 729, dtype: int64"
   ]
  },
  {
   "cell_type": "markdown",
   "id": "5d77782e",
   "metadata": {},
   "source": [
    "nombre_infected       811\n",
    "nombre_sain          2402\n",
    "nombre_exposed        515\n",
    "nombre_recovered    16272\n",
    "Name: 730, dtype: int64"
   ]
  }
 ],
 "metadata": {},
 "nbformat": 4,
 "nbformat_minor": 5
}
