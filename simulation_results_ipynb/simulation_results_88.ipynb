{
 "cells": [
  {
   "cell_type": "markdown",
   "id": "f844f38d",
   "metadata": {},
   "source": [
    "nombre_infected        20\n",
    "nombre_sain         19980\n",
    "nombre_exposed          0\n",
    "nombre_recovered        0\n",
    "Name: 0, dtype: int64"
   ]
  },
  {
   "cell_type": "markdown",
   "id": "61e74c95",
   "metadata": {},
   "source": [
    "nombre_infected        20\n",
    "nombre_sain         19967\n",
    "nombre_exposed         13\n",
    "nombre_recovered        0\n",
    "Name: 1, dtype: int64"
   ]
  },
  {
   "cell_type": "markdown",
   "id": "448776e8",
   "metadata": {},
   "source": [
    "nombre_infected        11\n",
    "nombre_sain         19953\n",
    "nombre_exposed         27\n",
    "nombre_recovered        9\n",
    "Name: 2, dtype: int64"
   ]
  },
  {
   "cell_type": "markdown",
   "id": "fc57208d",
   "metadata": {},
   "source": [
    "nombre_infected        14\n",
    "nombre_sain         19936\n",
    "nombre_exposed         41\n",
    "nombre_recovered        9\n",
    "Name: 3, dtype: int64"
   ]
  },
  {
   "cell_type": "markdown",
   "id": "7ca4bcf7",
   "metadata": {},
   "source": [
    "nombre_infected        20\n",
    "nombre_sain         19917\n",
    "nombre_exposed         54\n",
    "nombre_recovered        9\n",
    "Name: 4, dtype: int64"
   ]
  },
  {
   "cell_type": "markdown",
   "id": "e79c8b8e",
   "metadata": {},
   "source": [
    "nombre_infected        25\n",
    "nombre_sain         19884\n",
    "nombre_exposed         82\n",
    "nombre_recovered        9\n",
    "Name: 5, dtype: int64"
   ]
  },
  {
   "cell_type": "markdown",
   "id": "77f9e9f1",
   "metadata": {},
   "source": [
    "nombre_infected        33\n",
    "nombre_sain         19850\n",
    "nombre_exposed         95\n",
    "nombre_recovered       22\n",
    "Name: 6, dtype: int64"
   ]
  },
  {
   "cell_type": "markdown",
   "id": "4bd692cb",
   "metadata": {},
   "source": [
    "nombre_infected        45\n",
    "nombre_sain         19808\n",
    "nombre_exposed        121\n",
    "nombre_recovered       26\n",
    "Name: 7, dtype: int64"
   ]
  },
  {
   "cell_type": "markdown",
   "id": "81a5f4eb",
   "metadata": {},
   "source": [
    "nombre_infected        64\n",
    "nombre_sain         19740\n",
    "nombre_exposed        167\n",
    "nombre_recovered       29\n",
    "Name: 8, dtype: int64"
   ]
  },
  {
   "cell_type": "markdown",
   "id": "4cb9f237",
   "metadata": {},
   "source": [
    "nombre_infected        83\n",
    "nombre_sain         19653\n",
    "nombre_exposed        225\n",
    "nombre_recovered       39\n",
    "Name: 9, dtype: int64"
   ]
  },
  {
   "cell_type": "markdown",
   "id": "5a7b52ba",
   "metadata": {},
   "source": [
    "nombre_infected       114\n",
    "nombre_sain         19546\n",
    "nombre_exposed        291\n",
    "nombre_recovered       49\n",
    "Name: 10, dtype: int64"
   ]
  },
  {
   "cell_type": "markdown",
   "id": "0cf1b561",
   "metadata": {},
   "source": [
    "nombre_infected       152\n",
    "nombre_sain         19395\n",
    "nombre_exposed        392\n",
    "nombre_recovered       61\n",
    "Name: 11, dtype: int64"
   ]
  },
  {
   "cell_type": "markdown",
   "id": "a22e729f",
   "metadata": {},
   "source": [
    "nombre_infected       221\n",
    "nombre_sain         19170\n",
    "nombre_exposed        540\n",
    "nombre_recovered       69\n",
    "Name: 12, dtype: int64"
   ]
  },
  {
   "cell_type": "markdown",
   "id": "e84861bc",
   "metadata": {},
   "source": [
    "nombre_infected       286\n",
    "nombre_sain         18866\n",
    "nombre_exposed        757\n",
    "nombre_recovered       91\n",
    "Name: 13, dtype: int64"
   ]
  },
  {
   "cell_type": "markdown",
   "id": "a61fc081",
   "metadata": {},
   "source": [
    "nombre_infected       386\n",
    "nombre_sain         18503\n",
    "nombre_exposed        999\n",
    "nombre_recovered      112\n",
    "Name: 14, dtype: int64"
   ]
  },
  {
   "cell_type": "markdown",
   "id": "150c689f",
   "metadata": {},
   "source": [
    "nombre_infected       506\n",
    "nombre_sain         17972\n",
    "nombre_exposed       1366\n",
    "nombre_recovered      156\n",
    "Name: 15, dtype: int64"
   ]
  },
  {
   "cell_type": "markdown",
   "id": "c3b5aef6",
   "metadata": {},
   "source": [
    "nombre_infected       682\n",
    "nombre_sain         17344\n",
    "nombre_exposed       1768\n",
    "nombre_recovered      206\n",
    "Name: 16, dtype: int64"
   ]
  },
  {
   "cell_type": "markdown",
   "id": "80ad9a6d",
   "metadata": {},
   "source": [
    "nombre_infected       924\n",
    "nombre_sain         16490\n",
    "nombre_exposed       2315\n",
    "nombre_recovered      271\n",
    "Name: 17, dtype: int64"
   ]
  },
  {
   "cell_type": "markdown",
   "id": "92a2f50e",
   "metadata": {},
   "source": [
    "nombre_infected      1205\n",
    "nombre_sain         15506\n",
    "nombre_exposed       2904\n",
    "nombre_recovered      385\n",
    "Name: 18, dtype: int64"
   ]
  },
  {
   "cell_type": "markdown",
   "id": "64c6de96",
   "metadata": {},
   "source": [
    "nombre_infected      1597\n",
    "nombre_sain         14214\n",
    "nombre_exposed       3676\n",
    "nombre_recovered      513\n",
    "Name: 19, dtype: int64"
   ]
  },
  {
   "cell_type": "markdown",
   "id": "4a9e875d",
   "metadata": {},
   "source": [
    "nombre_infected      2093\n",
    "nombre_sain         12746\n",
    "nombre_exposed       4488\n",
    "nombre_recovered      673\n",
    "Name: 20, dtype: int64"
   ]
  },
  {
   "cell_type": "markdown",
   "id": "20b92d20",
   "metadata": {},
   "source": [
    "nombre_infected      2732\n",
    "nombre_sain         11178\n",
    "nombre_exposed       5204\n",
    "nombre_recovered      886\n",
    "Name: 21, dtype: int64"
   ]
  },
  {
   "cell_type": "markdown",
   "id": "07157bf5",
   "metadata": {},
   "source": [
    "nombre_infected     3453\n",
    "nombre_sain         9404\n",
    "nombre_exposed      5990\n",
    "nombre_recovered    1153\n",
    "Name: 22, dtype: int64"
   ]
  },
  {
   "cell_type": "markdown",
   "id": "22131c84",
   "metadata": {},
   "source": [
    "nombre_infected     4288\n",
    "nombre_sain         7686\n",
    "nombre_exposed      6518\n",
    "nombre_recovered    1508\n",
    "Name: 23, dtype: int64"
   ]
  },
  {
   "cell_type": "markdown",
   "id": "668498e9",
   "metadata": {},
   "source": [
    "nombre_infected     5190\n",
    "nombre_sain         5979\n",
    "nombre_exposed      6885\n",
    "nombre_recovered    1946\n",
    "Name: 24, dtype: int64"
   ]
  },
  {
   "cell_type": "markdown",
   "id": "e2a7bd3c",
   "metadata": {},
   "source": [
    "nombre_infected     6005\n",
    "nombre_sain         4515\n",
    "nombre_exposed      6956\n",
    "nombre_recovered    2524\n",
    "Name: 25, dtype: int64"
   ]
  },
  {
   "cell_type": "markdown",
   "id": "8cf18f78",
   "metadata": {},
   "source": [
    "nombre_infected     6816\n",
    "nombre_sain         3336\n",
    "nombre_exposed      6602\n",
    "nombre_recovered    3246\n",
    "Name: 26, dtype: int64"
   ]
  },
  {
   "cell_type": "markdown",
   "id": "0034ee7c",
   "metadata": {},
   "source": [
    "nombre_infected     7564\n",
    "nombre_sain         2353\n",
    "nombre_exposed      6042\n",
    "nombre_recovered    4041\n",
    "Name: 27, dtype: int64"
   ]
  },
  {
   "cell_type": "markdown",
   "id": "c5915a9e",
   "metadata": {},
   "source": [
    "nombre_infected     8142\n",
    "nombre_sain         1636\n",
    "nombre_exposed      5309\n",
    "nombre_recovered    4913\n",
    "Name: 28, dtype: int64"
   ]
  },
  {
   "cell_type": "markdown",
   "id": "8b4e532c",
   "metadata": {},
   "source": [
    "nombre_infected     8419\n",
    "nombre_sain         1125\n",
    "nombre_exposed      4496\n",
    "nombre_recovered    5960\n",
    "Name: 29, dtype: int64"
   ]
  },
  {
   "cell_type": "markdown",
   "id": "316c48c6",
   "metadata": {},
   "source": [
    "nombre_infected     8516\n",
    "nombre_sain          773\n",
    "nombre_exposed      3705\n",
    "nombre_recovered    7006\n",
    "Name: 30, dtype: int64"
   ]
  },
  {
   "cell_type": "markdown",
   "id": "a06aacca",
   "metadata": {},
   "source": [
    "nombre_infected     8393\n",
    "nombre_sain          526\n",
    "nombre_exposed      3009\n",
    "nombre_recovered    8072\n",
    "Name: 31, dtype: int64"
   ]
  },
  {
   "cell_type": "markdown",
   "id": "7fc462d9",
   "metadata": {},
   "source": [
    "nombre_infected     8075\n",
    "nombre_sain          386\n",
    "nombre_exposed      2385\n",
    "nombre_recovered    9154\n",
    "Name: 32, dtype: int64"
   ]
  },
  {
   "cell_type": "markdown",
   "id": "4737938c",
   "metadata": {},
   "source": [
    "nombre_infected      7703\n",
    "nombre_sain           272\n",
    "nombre_exposed       1853\n",
    "nombre_recovered    10172\n",
    "Name: 33, dtype: int64"
   ]
  },
  {
   "cell_type": "markdown",
   "id": "f42a82f2",
   "metadata": {},
   "source": [
    "nombre_infected      7155\n",
    "nombre_sain           213\n",
    "nombre_exposed       1454\n",
    "nombre_recovered    11178\n",
    "Name: 34, dtype: int64"
   ]
  },
  {
   "cell_type": "markdown",
   "id": "7dd46f4a",
   "metadata": {},
   "source": [
    "nombre_infected      6603\n",
    "nombre_sain           163\n",
    "nombre_exposed       1099\n",
    "nombre_recovered    12135\n",
    "Name: 35, dtype: int64"
   ]
  },
  {
   "cell_type": "markdown",
   "id": "9f6d96af",
   "metadata": {},
   "source": [
    "nombre_infected      6080\n",
    "nombre_sain           131\n",
    "nombre_exposed        820\n",
    "nombre_recovered    12969\n",
    "Name: 36, dtype: int64"
   ]
  },
  {
   "cell_type": "markdown",
   "id": "597c819b",
   "metadata": {},
   "source": [
    "nombre_infected      5577\n",
    "nombre_sain           124\n",
    "nombre_exposed        605\n",
    "nombre_recovered    13694\n",
    "Name: 37, dtype: int64"
   ]
  },
  {
   "cell_type": "markdown",
   "id": "5742c7c0",
   "metadata": {},
   "source": [
    "nombre_infected      4968\n",
    "nombre_sain           126\n",
    "nombre_exposed        445\n",
    "nombre_recovered    14461\n",
    "Name: 38, dtype: int64"
   ]
  },
  {
   "cell_type": "markdown",
   "id": "304d8c6d",
   "metadata": {},
   "source": [
    "nombre_infected      4426\n",
    "nombre_sain           133\n",
    "nombre_exposed        340\n",
    "nombre_recovered    15101\n",
    "Name: 39, dtype: int64"
   ]
  },
  {
   "cell_type": "markdown",
   "id": "d5d1cc01",
   "metadata": {},
   "source": [
    "nombre_infected      3930\n",
    "nombre_sain           141\n",
    "nombre_exposed        270\n",
    "nombre_recovered    15659\n",
    "Name: 40, dtype: int64"
   ]
  },
  {
   "cell_type": "markdown",
   "id": "5f8ae9ef",
   "metadata": {},
   "source": [
    "nombre_infected      3464\n",
    "nombre_sain           165\n",
    "nombre_exposed        229\n",
    "nombre_recovered    16142\n",
    "Name: 41, dtype: int64"
   ]
  },
  {
   "cell_type": "markdown",
   "id": "5488e65a",
   "metadata": {},
   "source": [
    "nombre_infected      3051\n",
    "nombre_sain           182\n",
    "nombre_exposed        193\n",
    "nombre_recovered    16574\n",
    "Name: 42, dtype: int64"
   ]
  },
  {
   "cell_type": "markdown",
   "id": "4333aed4",
   "metadata": {},
   "source": [
    "nombre_infected      2715\n",
    "nombre_sain           193\n",
    "nombre_exposed        166\n",
    "nombre_recovered    16926\n",
    "Name: 43, dtype: int64"
   ]
  },
  {
   "cell_type": "markdown",
   "id": "e8c63b1a",
   "metadata": {},
   "source": [
    "nombre_infected      2425\n",
    "nombre_sain           226\n",
    "nombre_exposed        139\n",
    "nombre_recovered    17210\n",
    "Name: 44, dtype: int64"
   ]
  },
  {
   "cell_type": "markdown",
   "id": "da39d779",
   "metadata": {},
   "source": [
    "nombre_infected      2132\n",
    "nombre_sain           251\n",
    "nombre_exposed        130\n",
    "nombre_recovered    17487\n",
    "Name: 45, dtype: int64"
   ]
  },
  {
   "cell_type": "markdown",
   "id": "2c210cb4",
   "metadata": {},
   "source": [
    "nombre_infected      1881\n",
    "nombre_sain           281\n",
    "nombre_exposed        134\n",
    "nombre_recovered    17704\n",
    "Name: 46, dtype: int64"
   ]
  },
  {
   "cell_type": "markdown",
   "id": "bbc5d619",
   "metadata": {},
   "source": [
    "nombre_infected      1644\n",
    "nombre_sain           343\n",
    "nombre_exposed        128\n",
    "nombre_recovered    17885\n",
    "Name: 47, dtype: int64"
   ]
  },
  {
   "cell_type": "markdown",
   "id": "883c09ab",
   "metadata": {},
   "source": [
    "nombre_infected      1439\n",
    "nombre_sain           382\n",
    "nombre_exposed        124\n",
    "nombre_recovered    18055\n",
    "Name: 48, dtype: int64"
   ]
  },
  {
   "cell_type": "markdown",
   "id": "5f149037",
   "metadata": {},
   "source": [
    "nombre_infected      1258\n",
    "nombre_sain           426\n",
    "nombre_exposed        121\n",
    "nombre_recovered    18195\n",
    "Name: 49, dtype: int64"
   ]
  },
  {
   "cell_type": "markdown",
   "id": "d81339d1",
   "metadata": {},
   "source": [
    "nombre_infected      1085\n",
    "nombre_sain           475\n",
    "nombre_exposed        123\n",
    "nombre_recovered    18317\n",
    "Name: 50, dtype: int64"
   ]
  },
  {
   "cell_type": "markdown",
   "id": "1c835e02",
   "metadata": {},
   "source": [
    "nombre_infected       930\n",
    "nombre_sain           545\n",
    "nombre_exposed        108\n",
    "nombre_recovered    18417\n",
    "Name: 51, dtype: int64"
   ]
  },
  {
   "cell_type": "markdown",
   "id": "5ff52a3f",
   "metadata": {},
   "source": [
    "nombre_infected       811\n",
    "nombre_sain           585\n",
    "nombre_exposed        103\n",
    "nombre_recovered    18501\n",
    "Name: 52, dtype: int64"
   ]
  },
  {
   "cell_type": "markdown",
   "id": "10f7d9d2",
   "metadata": {},
   "source": [
    "nombre_infected       721\n",
    "nombre_sain           633\n",
    "nombre_exposed        109\n",
    "nombre_recovered    18537\n",
    "Name: 53, dtype: int64"
   ]
  },
  {
   "cell_type": "markdown",
   "id": "d012e825",
   "metadata": {},
   "source": [
    "nombre_infected       630\n",
    "nombre_sain           678\n",
    "nombre_exposed        108\n",
    "nombre_recovered    18584\n",
    "Name: 54, dtype: int64"
   ]
  },
  {
   "cell_type": "markdown",
   "id": "e7008e70",
   "metadata": {},
   "source": [
    "nombre_infected       566\n",
    "nombre_sain           722\n",
    "nombre_exposed        104\n",
    "nombre_recovered    18608\n",
    "Name: 55, dtype: int64"
   ]
  },
  {
   "cell_type": "markdown",
   "id": "08579378",
   "metadata": {},
   "source": [
    "nombre_infected       519\n",
    "nombre_sain           753\n",
    "nombre_exposed         98\n",
    "nombre_recovered    18630\n",
    "Name: 56, dtype: int64"
   ]
  },
  {
   "cell_type": "markdown",
   "id": "e24248d3",
   "metadata": {},
   "source": [
    "nombre_infected       479\n",
    "nombre_sain           782\n",
    "nombre_exposed        101\n",
    "nombre_recovered    18638\n",
    "Name: 57, dtype: int64"
   ]
  },
  {
   "cell_type": "markdown",
   "id": "6a331972",
   "metadata": {},
   "source": [
    "nombre_infected       456\n",
    "nombre_sain           799\n",
    "nombre_exposed        108\n",
    "nombre_recovered    18637\n",
    "Name: 58, dtype: int64"
   ]
  },
  {
   "cell_type": "markdown",
   "id": "50160226",
   "metadata": {},
   "source": [
    "nombre_infected       433\n",
    "nombre_sain           840\n",
    "nombre_exposed        101\n",
    "nombre_recovered    18626\n",
    "Name: 59, dtype: int64"
   ]
  },
  {
   "cell_type": "markdown",
   "id": "628b2737",
   "metadata": {},
   "source": [
    "nombre_infected       398\n",
    "nombre_sain           893\n",
    "nombre_exposed        102\n",
    "nombre_recovered    18607\n",
    "Name: 60, dtype: int64"
   ]
  },
  {
   "cell_type": "markdown",
   "id": "96b99e1e",
   "metadata": {},
   "source": [
    "nombre_infected       383\n",
    "nombre_sain           946\n",
    "nombre_exposed         86\n",
    "nombre_recovered    18585\n",
    "Name: 61, dtype: int64"
   ]
  },
  {
   "cell_type": "markdown",
   "id": "e24624d8",
   "metadata": {},
   "source": [
    "nombre_infected       351\n",
    "nombre_sain           982\n",
    "nombre_exposed         97\n",
    "nombre_recovered    18570\n",
    "Name: 62, dtype: int64"
   ]
  },
  {
   "cell_type": "markdown",
   "id": "feac5ae6",
   "metadata": {},
   "source": [
    "nombre_infected       324\n",
    "nombre_sain          1035\n",
    "nombre_exposed        100\n",
    "nombre_recovered    18541\n",
    "Name: 63, dtype: int64"
   ]
  },
  {
   "cell_type": "markdown",
   "id": "668f6a50",
   "metadata": {},
   "source": [
    "nombre_infected       315\n",
    "nombre_sain          1085\n",
    "nombre_exposed         95\n",
    "nombre_recovered    18505\n",
    "Name: 64, dtype: int64"
   ]
  },
  {
   "cell_type": "markdown",
   "id": "fd31a57f",
   "metadata": {},
   "source": [
    "nombre_infected       293\n",
    "nombre_sain          1137\n",
    "nombre_exposed        103\n",
    "nombre_recovered    18467\n",
    "Name: 65, dtype: int64"
   ]
  },
  {
   "cell_type": "markdown",
   "id": "e09699d6",
   "metadata": {},
   "source": [
    "nombre_infected       294\n",
    "nombre_sain          1199\n",
    "nombre_exposed         94\n",
    "nombre_recovered    18413\n",
    "Name: 66, dtype: int64"
   ]
  },
  {
   "cell_type": "markdown",
   "id": "fdbcb797",
   "metadata": {},
   "source": [
    "nombre_infected       290\n",
    "nombre_sain          1251\n",
    "nombre_exposed         92\n",
    "nombre_recovered    18367\n",
    "Name: 67, dtype: int64"
   ]
  },
  {
   "cell_type": "markdown",
   "id": "6f6a2294",
   "metadata": {},
   "source": [
    "nombre_infected       267\n",
    "nombre_sain          1292\n",
    "nombre_exposed        103\n",
    "nombre_recovered    18338\n",
    "Name: 68, dtype: int64"
   ]
  },
  {
   "cell_type": "markdown",
   "id": "4369e6a8",
   "metadata": {},
   "source": [
    "nombre_infected       251\n",
    "nombre_sain          1354\n",
    "nombre_exposed        109\n",
    "nombre_recovered    18286\n",
    "Name: 69, dtype: int64"
   ]
  },
  {
   "cell_type": "markdown",
   "id": "64b41fd7",
   "metadata": {},
   "source": [
    "nombre_infected       251\n",
    "nombre_sain          1420\n",
    "nombre_exposed        108\n",
    "nombre_recovered    18221\n",
    "Name: 70, dtype: int64"
   ]
  },
  {
   "cell_type": "markdown",
   "id": "c767fdd2",
   "metadata": {},
   "source": [
    "nombre_infected       235\n",
    "nombre_sain          1478\n",
    "nombre_exposed        110\n",
    "nombre_recovered    18177\n",
    "Name: 71, dtype: int64"
   ]
  },
  {
   "cell_type": "markdown",
   "id": "faccc6da",
   "metadata": {},
   "source": [
    "nombre_infected       223\n",
    "nombre_sain          1535\n",
    "nombre_exposed        105\n",
    "nombre_recovered    18137\n",
    "Name: 72, dtype: int64"
   ]
  },
  {
   "cell_type": "markdown",
   "id": "3e26c878",
   "metadata": {},
   "source": [
    "nombre_infected       214\n",
    "nombre_sain          1607\n",
    "nombre_exposed        100\n",
    "nombre_recovered    18079\n",
    "Name: 73, dtype: int64"
   ]
  },
  {
   "cell_type": "markdown",
   "id": "a424d890",
   "metadata": {},
   "source": [
    "nombre_infected       197\n",
    "nombre_sain          1660\n",
    "nombre_exposed        103\n",
    "nombre_recovered    18040\n",
    "Name: 74, dtype: int64"
   ]
  },
  {
   "cell_type": "markdown",
   "id": "eebecd86",
   "metadata": {},
   "source": [
    "nombre_infected       184\n",
    "nombre_sain          1728\n",
    "nombre_exposed         96\n",
    "nombre_recovered    17992\n",
    "Name: 75, dtype: int64"
   ]
  },
  {
   "cell_type": "markdown",
   "id": "1010f9fa",
   "metadata": {},
   "source": [
    "nombre_infected       178\n",
    "nombre_sain          1792\n",
    "nombre_exposed         89\n",
    "nombre_recovered    17941\n",
    "Name: 76, dtype: int64"
   ]
  },
  {
   "cell_type": "markdown",
   "id": "78faded2",
   "metadata": {},
   "source": [
    "nombre_infected       176\n",
    "nombre_sain          1864\n",
    "nombre_exposed         78\n",
    "nombre_recovered    17882\n",
    "Name: 77, dtype: int64"
   ]
  },
  {
   "cell_type": "markdown",
   "id": "67a0ffe3",
   "metadata": {},
   "source": [
    "nombre_infected       163\n",
    "nombre_sain          1925\n",
    "nombre_exposed         81\n",
    "nombre_recovered    17831\n",
    "Name: 78, dtype: int64"
   ]
  },
  {
   "cell_type": "markdown",
   "id": "59925e36",
   "metadata": {},
   "source": [
    "nombre_infected       163\n",
    "nombre_sain          1987\n",
    "nombre_exposed         84\n",
    "nombre_recovered    17766\n",
    "Name: 79, dtype: int64"
   ]
  },
  {
   "cell_type": "markdown",
   "id": "505e2706",
   "metadata": {},
   "source": [
    "nombre_infected       160\n",
    "nombre_sain          2070\n",
    "nombre_exposed         80\n",
    "nombre_recovered    17690\n",
    "Name: 80, dtype: int64"
   ]
  },
  {
   "cell_type": "markdown",
   "id": "972e7900",
   "metadata": {},
   "source": [
    "nombre_infected       153\n",
    "nombre_sain          2135\n",
    "nombre_exposed         83\n",
    "nombre_recovered    17629\n",
    "Name: 81, dtype: int64"
   ]
  },
  {
   "cell_type": "markdown",
   "id": "2afa96dc",
   "metadata": {},
   "source": [
    "nombre_infected       148\n",
    "nombre_sain          2192\n",
    "nombre_exposed         86\n",
    "nombre_recovered    17574\n",
    "Name: 82, dtype: int64"
   ]
  },
  {
   "cell_type": "markdown",
   "id": "052c942e",
   "metadata": {},
   "source": [
    "nombre_infected       159\n",
    "nombre_sain          2255\n",
    "nombre_exposed         78\n",
    "nombre_recovered    17508\n",
    "Name: 83, dtype: int64"
   ]
  },
  {
   "cell_type": "markdown",
   "id": "821f6670",
   "metadata": {},
   "source": [
    "nombre_infected       141\n",
    "nombre_sain          2306\n",
    "nombre_exposed         88\n",
    "nombre_recovered    17465\n",
    "Name: 84, dtype: int64"
   ]
  },
  {
   "cell_type": "markdown",
   "id": "b7cdc565",
   "metadata": {},
   "source": [
    "nombre_infected       141\n",
    "nombre_sain          2353\n",
    "nombre_exposed         91\n",
    "nombre_recovered    17415\n",
    "Name: 85, dtype: int64"
   ]
  },
  {
   "cell_type": "markdown",
   "id": "ef600055",
   "metadata": {},
   "source": [
    "nombre_infected       141\n",
    "nombre_sain          2392\n",
    "nombre_exposed         93\n",
    "nombre_recovered    17374\n",
    "Name: 86, dtype: int64"
   ]
  },
  {
   "cell_type": "markdown",
   "id": "557ec102",
   "metadata": {},
   "source": [
    "nombre_infected       141\n",
    "nombre_sain          2462\n",
    "nombre_exposed        100\n",
    "nombre_recovered    17297\n",
    "Name: 87, dtype: int64"
   ]
  },
  {
   "cell_type": "markdown",
   "id": "a4260938",
   "metadata": {},
   "source": [
    "nombre_infected       136\n",
    "nombre_sain          2516\n",
    "nombre_exposed        109\n",
    "nombre_recovered    17239\n",
    "Name: 88, dtype: int64"
   ]
  },
  {
   "cell_type": "markdown",
   "id": "73d33b3c",
   "metadata": {},
   "source": [
    "nombre_infected       142\n",
    "nombre_sain          2571\n",
    "nombre_exposed        102\n",
    "nombre_recovered    17185\n",
    "Name: 89, dtype: int64"
   ]
  },
  {
   "cell_type": "markdown",
   "id": "75b2ce93",
   "metadata": {},
   "source": [
    "nombre_infected       144\n",
    "nombre_sain          2613\n",
    "nombre_exposed        104\n",
    "nombre_recovered    17139\n",
    "Name: 90, dtype: int64"
   ]
  },
  {
   "cell_type": "markdown",
   "id": "ce322b44",
   "metadata": {},
   "source": [
    "nombre_infected       143\n",
    "nombre_sain          2644\n",
    "nombre_exposed        104\n",
    "nombre_recovered    17109\n",
    "Name: 91, dtype: int64"
   ]
  },
  {
   "cell_type": "markdown",
   "id": "21d96b7b",
   "metadata": {},
   "source": [
    "nombre_infected       148\n",
    "nombre_sain          2675\n",
    "nombre_exposed         99\n",
    "nombre_recovered    17078\n",
    "Name: 92, dtype: int64"
   ]
  },
  {
   "cell_type": "markdown",
   "id": "c69e1f95",
   "metadata": {},
   "source": [
    "nombre_infected       144\n",
    "nombre_sain          2733\n",
    "nombre_exposed        101\n",
    "nombre_recovered    17022\n",
    "Name: 93, dtype: int64"
   ]
  },
  {
   "cell_type": "markdown",
   "id": "2279d782",
   "metadata": {},
   "source": [
    "nombre_infected       144\n",
    "nombre_sain          2754\n",
    "nombre_exposed        104\n",
    "nombre_recovered    16998\n",
    "Name: 94, dtype: int64"
   ]
  },
  {
   "cell_type": "markdown",
   "id": "00da5673",
   "metadata": {},
   "source": [
    "nombre_infected       149\n",
    "nombre_sain          2767\n",
    "nombre_exposed        114\n",
    "nombre_recovered    16970\n",
    "Name: 95, dtype: int64"
   ]
  },
  {
   "cell_type": "markdown",
   "id": "93e46c91",
   "metadata": {},
   "source": [
    "nombre_infected       161\n",
    "nombre_sain          2775\n",
    "nombre_exposed        121\n",
    "nombre_recovered    16943\n",
    "Name: 96, dtype: int64"
   ]
  },
  {
   "cell_type": "markdown",
   "id": "8e20ef52",
   "metadata": {},
   "source": [
    "nombre_infected       156\n",
    "nombre_sain          2783\n",
    "nombre_exposed        136\n",
    "nombre_recovered    16925\n",
    "Name: 97, dtype: int64"
   ]
  },
  {
   "cell_type": "markdown",
   "id": "d6df4e85",
   "metadata": {},
   "source": [
    "nombre_infected       171\n",
    "nombre_sain          2799\n",
    "nombre_exposed        133\n",
    "nombre_recovered    16897\n",
    "Name: 98, dtype: int64"
   ]
  },
  {
   "cell_type": "markdown",
   "id": "57df171f",
   "metadata": {},
   "source": [
    "nombre_infected       172\n",
    "nombre_sain          2819\n",
    "nombre_exposed        129\n",
    "nombre_recovered    16880\n",
    "Name: 99, dtype: int64"
   ]
  },
  {
   "cell_type": "markdown",
   "id": "591da9d2",
   "metadata": {},
   "source": [
    "nombre_infected       172\n",
    "nombre_sain          2821\n",
    "nombre_exposed        135\n",
    "nombre_recovered    16872\n",
    "Name: 100, dtype: int64"
   ]
  },
  {
   "cell_type": "markdown",
   "id": "e57bc6f9",
   "metadata": {},
   "source": [
    "nombre_infected       176\n",
    "nombre_sain          2807\n",
    "nombre_exposed        143\n",
    "nombre_recovered    16874\n",
    "Name: 101, dtype: int64"
   ]
  },
  {
   "cell_type": "markdown",
   "id": "12632e65",
   "metadata": {},
   "source": [
    "nombre_infected       178\n",
    "nombre_sain          2784\n",
    "nombre_exposed        162\n",
    "nombre_recovered    16876\n",
    "Name: 102, dtype: int64"
   ]
  },
  {
   "cell_type": "markdown",
   "id": "9ef7fd8a",
   "metadata": {},
   "source": [
    "nombre_infected       195\n",
    "nombre_sain          2789\n",
    "nombre_exposed        160\n",
    "nombre_recovered    16856\n",
    "Name: 103, dtype: int64"
   ]
  },
  {
   "cell_type": "markdown",
   "id": "c00fe928",
   "metadata": {},
   "source": [
    "nombre_infected       211\n",
    "nombre_sain          2784\n",
    "nombre_exposed        160\n",
    "nombre_recovered    16845\n",
    "Name: 104, dtype: int64"
   ]
  },
  {
   "cell_type": "markdown",
   "id": "35638307",
   "metadata": {},
   "source": [
    "nombre_infected       225\n",
    "nombre_sain          2779\n",
    "nombre_exposed        162\n",
    "nombre_recovered    16834\n",
    "Name: 105, dtype: int64"
   ]
  },
  {
   "cell_type": "markdown",
   "id": "69a847f0",
   "metadata": {},
   "source": [
    "nombre_infected       233\n",
    "nombre_sain          2771\n",
    "nombre_exposed        165\n",
    "nombre_recovered    16831\n",
    "Name: 106, dtype: int64"
   ]
  },
  {
   "cell_type": "markdown",
   "id": "8d95243a",
   "metadata": {},
   "source": [
    "nombre_infected       240\n",
    "nombre_sain          2756\n",
    "nombre_exposed        176\n",
    "nombre_recovered    16828\n",
    "Name: 107, dtype: int64"
   ]
  },
  {
   "cell_type": "markdown",
   "id": "e293015c",
   "metadata": {},
   "source": [
    "nombre_infected       247\n",
    "nombre_sain          2746\n",
    "nombre_exposed        187\n",
    "nombre_recovered    16820\n",
    "Name: 108, dtype: int64"
   ]
  },
  {
   "cell_type": "markdown",
   "id": "f27a8947",
   "metadata": {},
   "source": [
    "nombre_infected       254\n",
    "nombre_sain          2740\n",
    "nombre_exposed        191\n",
    "nombre_recovered    16815\n",
    "Name: 109, dtype: int64"
   ]
  },
  {
   "cell_type": "markdown",
   "id": "8ef59d9e",
   "metadata": {},
   "source": [
    "nombre_infected       256\n",
    "nombre_sain          2756\n",
    "nombre_exposed        191\n",
    "nombre_recovered    16797\n",
    "Name: 110, dtype: int64"
   ]
  },
  {
   "cell_type": "markdown",
   "id": "3ce19387",
   "metadata": {},
   "source": [
    "nombre_infected       277\n",
    "nombre_sain          2784\n",
    "nombre_exposed        188\n",
    "nombre_recovered    16751\n",
    "Name: 111, dtype: int64"
   ]
  },
  {
   "cell_type": "markdown",
   "id": "28193de1",
   "metadata": {},
   "source": [
    "nombre_infected       281\n",
    "nombre_sain          2794\n",
    "nombre_exposed        208\n",
    "nombre_recovered    16717\n",
    "Name: 112, dtype: int64"
   ]
  },
  {
   "cell_type": "markdown",
   "id": "fd5cb360",
   "metadata": {},
   "source": [
    "nombre_infected       297\n",
    "nombre_sain          2804\n",
    "nombre_exposed        215\n",
    "nombre_recovered    16684\n",
    "Name: 113, dtype: int64"
   ]
  },
  {
   "cell_type": "markdown",
   "id": "d339a6be",
   "metadata": {},
   "source": [
    "nombre_infected       313\n",
    "nombre_sain          2803\n",
    "nombre_exposed        211\n",
    "nombre_recovered    16673\n",
    "Name: 114, dtype: int64"
   ]
  },
  {
   "cell_type": "markdown",
   "id": "c9be1f73",
   "metadata": {},
   "source": [
    "nombre_infected       333\n",
    "nombre_sain          2815\n",
    "nombre_exposed        208\n",
    "nombre_recovered    16644\n",
    "Name: 115, dtype: int64"
   ]
  },
  {
   "cell_type": "markdown",
   "id": "e92309ae",
   "metadata": {},
   "source": [
    "nombre_infected       335\n",
    "nombre_sain          2835\n",
    "nombre_exposed        222\n",
    "nombre_recovered    16608\n",
    "Name: 116, dtype: int64"
   ]
  },
  {
   "cell_type": "markdown",
   "id": "3d3b4812",
   "metadata": {},
   "source": [
    "nombre_infected       341\n",
    "nombre_sain          2860\n",
    "nombre_exposed        227\n",
    "nombre_recovered    16572\n",
    "Name: 117, dtype: int64"
   ]
  },
  {
   "cell_type": "markdown",
   "id": "9dce683f",
   "metadata": {},
   "source": [
    "nombre_infected       339\n",
    "nombre_sain          2866\n",
    "nombre_exposed        238\n",
    "nombre_recovered    16557\n",
    "Name: 118, dtype: int64"
   ]
  },
  {
   "cell_type": "markdown",
   "id": "16a8bedf",
   "metadata": {},
   "source": [
    "nombre_infected       349\n",
    "nombre_sain          2869\n",
    "nombre_exposed        242\n",
    "nombre_recovered    16540\n",
    "Name: 119, dtype: int64"
   ]
  },
  {
   "cell_type": "markdown",
   "id": "10fb547c",
   "metadata": {},
   "source": [
    "nombre_infected       369\n",
    "nombre_sain          2864\n",
    "nombre_exposed        241\n",
    "nombre_recovered    16526\n",
    "Name: 120, dtype: int64"
   ]
  },
  {
   "cell_type": "markdown",
   "id": "429f8dbb",
   "metadata": {},
   "source": [
    "nombre_infected       384\n",
    "nombre_sain          2851\n",
    "nombre_exposed        242\n",
    "nombre_recovered    16523\n",
    "Name: 121, dtype: int64"
   ]
  },
  {
   "cell_type": "markdown",
   "id": "08df8932",
   "metadata": {},
   "source": [
    "nombre_infected       394\n",
    "nombre_sain          2850\n",
    "nombre_exposed        240\n",
    "nombre_recovered    16516\n",
    "Name: 122, dtype: int64"
   ]
  },
  {
   "cell_type": "markdown",
   "id": "302afb87",
   "metadata": {},
   "source": [
    "nombre_infected       389\n",
    "nombre_sain          2835\n",
    "nombre_exposed        247\n",
    "nombre_recovered    16529\n",
    "Name: 123, dtype: int64"
   ]
  },
  {
   "cell_type": "markdown",
   "id": "5dd73871",
   "metadata": {},
   "source": [
    "nombre_infected       391\n",
    "nombre_sain          2792\n",
    "nombre_exposed        272\n",
    "nombre_recovered    16545\n",
    "Name: 124, dtype: int64"
   ]
  },
  {
   "cell_type": "markdown",
   "id": "fcf93924",
   "metadata": {},
   "source": [
    "nombre_infected       408\n",
    "nombre_sain          2765\n",
    "nombre_exposed        273\n",
    "nombre_recovered    16554\n",
    "Name: 125, dtype: int64"
   ]
  },
  {
   "cell_type": "markdown",
   "id": "ddb5e697",
   "metadata": {},
   "source": [
    "nombre_infected       430\n",
    "nombre_sain          2741\n",
    "nombre_exposed        271\n",
    "nombre_recovered    16558\n",
    "Name: 126, dtype: int64"
   ]
  },
  {
   "cell_type": "markdown",
   "id": "bf5bf91d",
   "metadata": {},
   "source": [
    "nombre_infected       433\n",
    "nombre_sain          2709\n",
    "nombre_exposed        281\n",
    "nombre_recovered    16577\n",
    "Name: 127, dtype: int64"
   ]
  },
  {
   "cell_type": "markdown",
   "id": "845ba1bf",
   "metadata": {},
   "source": [
    "nombre_infected       441\n",
    "nombre_sain          2679\n",
    "nombre_exposed        294\n",
    "nombre_recovered    16586\n",
    "Name: 128, dtype: int64"
   ]
  },
  {
   "cell_type": "markdown",
   "id": "a829185c",
   "metadata": {},
   "source": [
    "nombre_infected       453\n",
    "nombre_sain          2639\n",
    "nombre_exposed        307\n",
    "nombre_recovered    16601\n",
    "Name: 129, dtype: int64"
   ]
  },
  {
   "cell_type": "markdown",
   "id": "f4a98161",
   "metadata": {},
   "source": [
    "nombre_infected       453\n",
    "nombre_sain          2598\n",
    "nombre_exposed        316\n",
    "nombre_recovered    16633\n",
    "Name: 130, dtype: int64"
   ]
  },
  {
   "cell_type": "markdown",
   "id": "60ddf44c",
   "metadata": {},
   "source": [
    "nombre_infected       482\n",
    "nombre_sain          2551\n",
    "nombre_exposed        324\n",
    "nombre_recovered    16643\n",
    "Name: 131, dtype: int64"
   ]
  },
  {
   "cell_type": "markdown",
   "id": "e9778861",
   "metadata": {},
   "source": [
    "nombre_infected       496\n",
    "nombre_sain          2503\n",
    "nombre_exposed        346\n",
    "nombre_recovered    16655\n",
    "Name: 132, dtype: int64"
   ]
  },
  {
   "cell_type": "markdown",
   "id": "e7448dcc",
   "metadata": {},
   "source": [
    "nombre_infected       504\n",
    "nombre_sain          2469\n",
    "nombre_exposed        336\n",
    "nombre_recovered    16691\n",
    "Name: 133, dtype: int64"
   ]
  },
  {
   "cell_type": "markdown",
   "id": "fd914f3b",
   "metadata": {},
   "source": [
    "nombre_infected       506\n",
    "nombre_sain          2462\n",
    "nombre_exposed        328\n",
    "nombre_recovered    16704\n",
    "Name: 134, dtype: int64"
   ]
  },
  {
   "cell_type": "markdown",
   "id": "80ab04a9",
   "metadata": {},
   "source": [
    "nombre_infected       509\n",
    "nombre_sain          2431\n",
    "nombre_exposed        337\n",
    "nombre_recovered    16723\n",
    "Name: 135, dtype: int64"
   ]
  },
  {
   "cell_type": "markdown",
   "id": "e59981b4",
   "metadata": {},
   "source": [
    "nombre_infected       515\n",
    "nombre_sain          2412\n",
    "nombre_exposed        328\n",
    "nombre_recovered    16745\n",
    "Name: 136, dtype: int64"
   ]
  },
  {
   "cell_type": "markdown",
   "id": "2c800467",
   "metadata": {},
   "source": [
    "nombre_infected       533\n",
    "nombre_sain          2410\n",
    "nombre_exposed        310\n",
    "nombre_recovered    16747\n",
    "Name: 137, dtype: int64"
   ]
  },
  {
   "cell_type": "markdown",
   "id": "15484070",
   "metadata": {},
   "source": [
    "nombre_infected       577\n",
    "nombre_sain          2359\n",
    "nombre_exposed        311\n",
    "nombre_recovered    16753\n",
    "Name: 138, dtype: int64"
   ]
  },
  {
   "cell_type": "markdown",
   "id": "b2e9dd14",
   "metadata": {},
   "source": [
    "nombre_infected       563\n",
    "nombre_sain          2306\n",
    "nombre_exposed        353\n",
    "nombre_recovered    16778\n",
    "Name: 139, dtype: int64"
   ]
  },
  {
   "cell_type": "markdown",
   "id": "b5f7218e",
   "metadata": {},
   "source": [
    "nombre_infected       583\n",
    "nombre_sain          2294\n",
    "nombre_exposed        322\n",
    "nombre_recovered    16801\n",
    "Name: 140, dtype: int64"
   ]
  },
  {
   "cell_type": "markdown",
   "id": "5a6b441c",
   "metadata": {},
   "source": [
    "nombre_infected       578\n",
    "nombre_sain          2284\n",
    "nombre_exposed        312\n",
    "nombre_recovered    16826\n",
    "Name: 141, dtype: int64"
   ]
  },
  {
   "cell_type": "markdown",
   "id": "bc82abfe",
   "metadata": {},
   "source": [
    "nombre_infected       584\n",
    "nombre_sain          2273\n",
    "nombre_exposed        308\n",
    "nombre_recovered    16835\n",
    "Name: 142, dtype: int64"
   ]
  },
  {
   "cell_type": "markdown",
   "id": "47a05a9c",
   "metadata": {},
   "source": [
    "nombre_infected       576\n",
    "nombre_sain          2239\n",
    "nombre_exposed        324\n",
    "nombre_recovered    16861\n",
    "Name: 143, dtype: int64"
   ]
  },
  {
   "cell_type": "markdown",
   "id": "5eee51fe",
   "metadata": {},
   "source": [
    "nombre_infected       569\n",
    "nombre_sain          2208\n",
    "nombre_exposed        341\n",
    "nombre_recovered    16882\n",
    "Name: 144, dtype: int64"
   ]
  },
  {
   "cell_type": "markdown",
   "id": "7e3064cc",
   "metadata": {},
   "source": [
    "nombre_infected       575\n",
    "nombre_sain          2198\n",
    "nombre_exposed        333\n",
    "nombre_recovered    16894\n",
    "Name: 145, dtype: int64"
   ]
  },
  {
   "cell_type": "markdown",
   "id": "d3f2827f",
   "metadata": {},
   "source": [
    "nombre_infected       582\n",
    "nombre_sain          2185\n",
    "nombre_exposed        336\n",
    "nombre_recovered    16897\n",
    "Name: 146, dtype: int64"
   ]
  },
  {
   "cell_type": "markdown",
   "id": "fc0498f8",
   "metadata": {},
   "source": [
    "nombre_infected       596\n",
    "nombre_sain          2148\n",
    "nombre_exposed        329\n",
    "nombre_recovered    16927\n",
    "Name: 147, dtype: int64"
   ]
  },
  {
   "cell_type": "markdown",
   "id": "6747de26",
   "metadata": {},
   "source": [
    "nombre_infected       599\n",
    "nombre_sain          2135\n",
    "nombre_exposed        322\n",
    "nombre_recovered    16944\n",
    "Name: 148, dtype: int64"
   ]
  },
  {
   "cell_type": "markdown",
   "id": "bfadabc4",
   "metadata": {},
   "source": [
    "nombre_infected       595\n",
    "nombre_sain          2111\n",
    "nombre_exposed        326\n",
    "nombre_recovered    16968\n",
    "Name: 149, dtype: int64"
   ]
  },
  {
   "cell_type": "markdown",
   "id": "e52fcb05",
   "metadata": {},
   "source": [
    "nombre_infected       573\n",
    "nombre_sain          2109\n",
    "nombre_exposed        325\n",
    "nombre_recovered    16993\n",
    "Name: 150, dtype: int64"
   ]
  },
  {
   "cell_type": "markdown",
   "id": "768aca57",
   "metadata": {},
   "source": [
    "nombre_infected       575\n",
    "nombre_sain          2077\n",
    "nombre_exposed        331\n",
    "nombre_recovered    17017\n",
    "Name: 151, dtype: int64"
   ]
  },
  {
   "cell_type": "markdown",
   "id": "176f1a08",
   "metadata": {},
   "source": [
    "nombre_infected       551\n",
    "nombre_sain          2054\n",
    "nombre_exposed        355\n",
    "nombre_recovered    17040\n",
    "Name: 152, dtype: int64"
   ]
  },
  {
   "cell_type": "markdown",
   "id": "dec6bd15",
   "metadata": {},
   "source": [
    "nombre_infected       560\n",
    "nombre_sain          2051\n",
    "nombre_exposed        332\n",
    "nombre_recovered    17057\n",
    "Name: 153, dtype: int64"
   ]
  },
  {
   "cell_type": "markdown",
   "id": "e49c8572",
   "metadata": {},
   "source": [
    "nombre_infected       564\n",
    "nombre_sain          2034\n",
    "nombre_exposed        321\n",
    "nombre_recovered    17081\n",
    "Name: 154, dtype: int64"
   ]
  },
  {
   "cell_type": "markdown",
   "id": "1ea7664a",
   "metadata": {},
   "source": [
    "nombre_infected       549\n",
    "nombre_sain          2043\n",
    "nombre_exposed        322\n",
    "nombre_recovered    17086\n",
    "Name: 155, dtype: int64"
   ]
  },
  {
   "cell_type": "markdown",
   "id": "23b07f38",
   "metadata": {},
   "source": [
    "nombre_infected       557\n",
    "nombre_sain          2042\n",
    "nombre_exposed        316\n",
    "nombre_recovered    17085\n",
    "Name: 156, dtype: int64"
   ]
  },
  {
   "cell_type": "markdown",
   "id": "cb5d03bf",
   "metadata": {},
   "source": [
    "nombre_infected       560\n",
    "nombre_sain          2024\n",
    "nombre_exposed        310\n",
    "nombre_recovered    17106\n",
    "Name: 157, dtype: int64"
   ]
  },
  {
   "cell_type": "markdown",
   "id": "08718276",
   "metadata": {},
   "source": [
    "nombre_infected       546\n",
    "nombre_sain          2018\n",
    "nombre_exposed        329\n",
    "nombre_recovered    17107\n",
    "Name: 158, dtype: int64"
   ]
  },
  {
   "cell_type": "markdown",
   "id": "e46e460f",
   "metadata": {},
   "source": [
    "nombre_infected       537\n",
    "nombre_sain          2020\n",
    "nombre_exposed        325\n",
    "nombre_recovered    17118\n",
    "Name: 159, dtype: int64"
   ]
  },
  {
   "cell_type": "markdown",
   "id": "19721b0b",
   "metadata": {},
   "source": [
    "nombre_infected       553\n",
    "nombre_sain          2024\n",
    "nombre_exposed        311\n",
    "nombre_recovered    17112\n",
    "Name: 160, dtype: int64"
   ]
  },
  {
   "cell_type": "markdown",
   "id": "65cf641c",
   "metadata": {},
   "source": [
    "nombre_infected       548\n",
    "nombre_sain          2022\n",
    "nombre_exposed        322\n",
    "nombre_recovered    17108\n",
    "Name: 161, dtype: int64"
   ]
  },
  {
   "cell_type": "markdown",
   "id": "64739ef6",
   "metadata": {},
   "source": [
    "nombre_infected       559\n",
    "nombre_sain          2037\n",
    "nombre_exposed        337\n",
    "nombre_recovered    17067\n",
    "Name: 162, dtype: int64"
   ]
  },
  {
   "cell_type": "markdown",
   "id": "9c507215",
   "metadata": {},
   "source": [
    "nombre_infected       556\n",
    "nombre_sain          2064\n",
    "nombre_exposed        341\n",
    "nombre_recovered    17039\n",
    "Name: 163, dtype: int64"
   ]
  },
  {
   "cell_type": "markdown",
   "id": "6fa6783b",
   "metadata": {},
   "source": [
    "nombre_infected       565\n",
    "nombre_sain          2104\n",
    "nombre_exposed        338\n",
    "nombre_recovered    16993\n",
    "Name: 164, dtype: int64"
   ]
  },
  {
   "cell_type": "markdown",
   "id": "bf7d7622",
   "metadata": {},
   "source": [
    "nombre_infected       552\n",
    "nombre_sain          2158\n",
    "nombre_exposed        328\n",
    "nombre_recovered    16962\n",
    "Name: 165, dtype: int64"
   ]
  },
  {
   "cell_type": "markdown",
   "id": "d4c0f551",
   "metadata": {},
   "source": [
    "nombre_infected       558\n",
    "nombre_sain          2181\n",
    "nombre_exposed        331\n",
    "nombre_recovered    16930\n",
    "Name: 166, dtype: int64"
   ]
  },
  {
   "cell_type": "markdown",
   "id": "50c4bdaf",
   "metadata": {},
   "source": [
    "nombre_infected       538\n",
    "nombre_sain          2221\n",
    "nombre_exposed        335\n",
    "nombre_recovered    16906\n",
    "Name: 167, dtype: int64"
   ]
  },
  {
   "cell_type": "markdown",
   "id": "64c31abf",
   "metadata": {},
   "source": [
    "nombre_infected       533\n",
    "nombre_sain          2274\n",
    "nombre_exposed        326\n",
    "nombre_recovered    16867\n",
    "Name: 168, dtype: int64"
   ]
  },
  {
   "cell_type": "markdown",
   "id": "1340f86d",
   "metadata": {},
   "source": [
    "nombre_infected       554\n",
    "nombre_sain          2307\n",
    "nombre_exposed        313\n",
    "nombre_recovered    16826\n",
    "Name: 169, dtype: int64"
   ]
  },
  {
   "cell_type": "markdown",
   "id": "8b8b2f32",
   "metadata": {},
   "source": [
    "nombre_infected       556\n",
    "nombre_sain          2325\n",
    "nombre_exposed        329\n",
    "nombre_recovered    16790\n",
    "Name: 170, dtype: int64"
   ]
  },
  {
   "cell_type": "markdown",
   "id": "c0783124",
   "metadata": {},
   "source": [
    "nombre_infected       551\n",
    "nombre_sain          2341\n",
    "nombre_exposed        342\n",
    "nombre_recovered    16766\n",
    "Name: 171, dtype: int64"
   ]
  },
  {
   "cell_type": "markdown",
   "id": "a99fedea",
   "metadata": {},
   "source": [
    "nombre_infected       546\n",
    "nombre_sain          2350\n",
    "nombre_exposed        346\n",
    "nombre_recovered    16758\n",
    "Name: 172, dtype: int64"
   ]
  },
  {
   "cell_type": "markdown",
   "id": "2d447050",
   "metadata": {},
   "source": [
    "nombre_infected       541\n",
    "nombre_sain          2371\n",
    "nombre_exposed        356\n",
    "nombre_recovered    16732\n",
    "Name: 173, dtype: int64"
   ]
  },
  {
   "cell_type": "markdown",
   "id": "f2a9daab",
   "metadata": {},
   "source": [
    "nombre_infected       536\n",
    "nombre_sain          2381\n",
    "nombre_exposed        369\n",
    "nombre_recovered    16714\n",
    "Name: 174, dtype: int64"
   ]
  },
  {
   "cell_type": "markdown",
   "id": "5450cbff",
   "metadata": {},
   "source": [
    "nombre_infected       526\n",
    "nombre_sain          2382\n",
    "nombre_exposed        391\n",
    "nombre_recovered    16701\n",
    "Name: 175, dtype: int64"
   ]
  },
  {
   "cell_type": "markdown",
   "id": "114430bf",
   "metadata": {},
   "source": [
    "nombre_infected       536\n",
    "nombre_sain          2403\n",
    "nombre_exposed        384\n",
    "nombre_recovered    16677\n",
    "Name: 176, dtype: int64"
   ]
  },
  {
   "cell_type": "markdown",
   "id": "39afa010",
   "metadata": {},
   "source": [
    "nombre_infected       554\n",
    "nombre_sain          2416\n",
    "nombre_exposed        371\n",
    "nombre_recovered    16659\n",
    "Name: 177, dtype: int64"
   ]
  },
  {
   "cell_type": "markdown",
   "id": "86a65b11",
   "metadata": {},
   "source": [
    "nombre_infected       554\n",
    "nombre_sain          2447\n",
    "nombre_exposed        378\n",
    "nombre_recovered    16621\n",
    "Name: 178, dtype: int64"
   ]
  },
  {
   "cell_type": "markdown",
   "id": "c4a92e2e",
   "metadata": {},
   "source": [
    "nombre_infected       571\n",
    "nombre_sain          2470\n",
    "nombre_exposed        392\n",
    "nombre_recovered    16567\n",
    "Name: 179, dtype: int64"
   ]
  },
  {
   "cell_type": "markdown",
   "id": "c9605257",
   "metadata": {},
   "source": [
    "nombre_infected       593\n",
    "nombre_sain          2501\n",
    "nombre_exposed        373\n",
    "nombre_recovered    16533\n",
    "Name: 180, dtype: int64"
   ]
  },
  {
   "cell_type": "markdown",
   "id": "ffbafea3",
   "metadata": {},
   "source": [
    "nombre_infected       603\n",
    "nombre_sain          2511\n",
    "nombre_exposed        383\n",
    "nombre_recovered    16503\n",
    "Name: 181, dtype: int64"
   ]
  },
  {
   "cell_type": "markdown",
   "id": "42483e01",
   "metadata": {},
   "source": [
    "nombre_infected       606\n",
    "nombre_sain          2516\n",
    "nombre_exposed        394\n",
    "nombre_recovered    16484\n",
    "Name: 182, dtype: int64"
   ]
  },
  {
   "cell_type": "markdown",
   "id": "d5ce2e85",
   "metadata": {},
   "source": [
    "nombre_infected       606\n",
    "nombre_sain          2508\n",
    "nombre_exposed        422\n",
    "nombre_recovered    16464\n",
    "Name: 183, dtype: int64"
   ]
  },
  {
   "cell_type": "markdown",
   "id": "45eab06d",
   "metadata": {},
   "source": [
    "nombre_infected       613\n",
    "nombre_sain          2541\n",
    "nombre_exposed        419\n",
    "nombre_recovered    16427\n",
    "Name: 184, dtype: int64"
   ]
  },
  {
   "cell_type": "markdown",
   "id": "6a8cfb5f",
   "metadata": {},
   "source": [
    "nombre_infected       621\n",
    "nombre_sain          2542\n",
    "nombre_exposed        429\n",
    "nombre_recovered    16408\n",
    "Name: 185, dtype: int64"
   ]
  },
  {
   "cell_type": "markdown",
   "id": "f7561f81",
   "metadata": {},
   "source": [
    "nombre_infected       648\n",
    "nombre_sain          2530\n",
    "nombre_exposed        433\n",
    "nombre_recovered    16389\n",
    "Name: 186, dtype: int64"
   ]
  },
  {
   "cell_type": "markdown",
   "id": "9ac0c7ca",
   "metadata": {},
   "source": [
    "nombre_infected       661\n",
    "nombre_sain          2534\n",
    "nombre_exposed        427\n",
    "nombre_recovered    16378\n",
    "Name: 187, dtype: int64"
   ]
  },
  {
   "cell_type": "markdown",
   "id": "9d10cee9",
   "metadata": {},
   "source": [
    "nombre_infected       667\n",
    "nombre_sain          2533\n",
    "nombre_exposed        437\n",
    "nombre_recovered    16363\n",
    "Name: 188, dtype: int64"
   ]
  },
  {
   "cell_type": "markdown",
   "id": "63436a9c",
   "metadata": {},
   "source": [
    "nombre_infected       680\n",
    "nombre_sain          2516\n",
    "nombre_exposed        449\n",
    "nombre_recovered    16355\n",
    "Name: 189, dtype: int64"
   ]
  },
  {
   "cell_type": "markdown",
   "id": "ae869737",
   "metadata": {},
   "source": [
    "nombre_infected       686\n",
    "nombre_sain          2501\n",
    "nombre_exposed        473\n",
    "nombre_recovered    16340\n",
    "Name: 190, dtype: int64"
   ]
  },
  {
   "cell_type": "markdown",
   "id": "2cedbaf0",
   "metadata": {},
   "source": [
    "nombre_infected       713\n",
    "nombre_sain          2467\n",
    "nombre_exposed        483\n",
    "nombre_recovered    16337\n",
    "Name: 191, dtype: int64"
   ]
  },
  {
   "cell_type": "markdown",
   "id": "51f44127",
   "metadata": {},
   "source": [
    "nombre_infected       749\n",
    "nombre_sain          2415\n",
    "nombre_exposed        478\n",
    "nombre_recovered    16358\n",
    "Name: 192, dtype: int64"
   ]
  },
  {
   "cell_type": "markdown",
   "id": "1dbe8bf3",
   "metadata": {},
   "source": [
    "nombre_infected       759\n",
    "nombre_sain          2412\n",
    "nombre_exposed        484\n",
    "nombre_recovered    16345\n",
    "Name: 193, dtype: int64"
   ]
  },
  {
   "cell_type": "markdown",
   "id": "e88cdde6",
   "metadata": {},
   "source": [
    "nombre_infected       783\n",
    "nombre_sain          2404\n",
    "nombre_exposed        476\n",
    "nombre_recovered    16337\n",
    "Name: 194, dtype: int64"
   ]
  },
  {
   "cell_type": "markdown",
   "id": "00c90b6a",
   "metadata": {},
   "source": [
    "nombre_infected       777\n",
    "nombre_sain          2384\n",
    "nombre_exposed        510\n",
    "nombre_recovered    16329\n",
    "Name: 195, dtype: int64"
   ]
  },
  {
   "cell_type": "markdown",
   "id": "c211fef6",
   "metadata": {},
   "source": [
    "nombre_infected       770\n",
    "nombre_sain          2366\n",
    "nombre_exposed        529\n",
    "nombre_recovered    16335\n",
    "Name: 196, dtype: int64"
   ]
  },
  {
   "cell_type": "markdown",
   "id": "e44758da",
   "metadata": {},
   "source": [
    "nombre_infected       770\n",
    "nombre_sain          2320\n",
    "nombre_exposed        534\n",
    "nombre_recovered    16376\n",
    "Name: 197, dtype: int64"
   ]
  },
  {
   "cell_type": "markdown",
   "id": "86735852",
   "metadata": {},
   "source": [
    "nombre_infected       790\n",
    "nombre_sain          2305\n",
    "nombre_exposed        532\n",
    "nombre_recovered    16373\n",
    "Name: 198, dtype: int64"
   ]
  },
  {
   "cell_type": "markdown",
   "id": "7f12895e",
   "metadata": {},
   "source": [
    "nombre_infected       815\n",
    "nombre_sain          2263\n",
    "nombre_exposed        530\n",
    "nombre_recovered    16392\n",
    "Name: 199, dtype: int64"
   ]
  },
  {
   "cell_type": "markdown",
   "id": "43984dc5",
   "metadata": {},
   "source": [
    "nombre_infected       843\n",
    "nombre_sain          2239\n",
    "nombre_exposed        511\n",
    "nombre_recovered    16407\n",
    "Name: 200, dtype: int64"
   ]
  },
  {
   "cell_type": "markdown",
   "id": "7d35b181",
   "metadata": {},
   "source": [
    "nombre_infected       848\n",
    "nombre_sain          2215\n",
    "nombre_exposed        512\n",
    "nombre_recovered    16425\n",
    "Name: 201, dtype: int64"
   ]
  },
  {
   "cell_type": "markdown",
   "id": "689f0b04",
   "metadata": {},
   "source": [
    "nombre_infected       846\n",
    "nombre_sain          2193\n",
    "nombre_exposed        512\n",
    "nombre_recovered    16449\n",
    "Name: 202, dtype: int64"
   ]
  },
  {
   "cell_type": "markdown",
   "id": "21bf63a2",
   "metadata": {},
   "source": [
    "nombre_infected       838\n",
    "nombre_sain          2178\n",
    "nombre_exposed        527\n",
    "nombre_recovered    16457\n",
    "Name: 203, dtype: int64"
   ]
  },
  {
   "cell_type": "markdown",
   "id": "5127198c",
   "metadata": {},
   "source": [
    "nombre_infected       830\n",
    "nombre_sain          2169\n",
    "nombre_exposed        517\n",
    "nombre_recovered    16484\n",
    "Name: 204, dtype: int64"
   ]
  },
  {
   "cell_type": "markdown",
   "id": "f0101698",
   "metadata": {},
   "source": [
    "nombre_infected       825\n",
    "nombre_sain          2148\n",
    "nombre_exposed        520\n",
    "nombre_recovered    16507\n",
    "Name: 205, dtype: int64"
   ]
  },
  {
   "cell_type": "markdown",
   "id": "0a1a2212",
   "metadata": {},
   "source": [
    "nombre_infected       842\n",
    "nombre_sain          2117\n",
    "nombre_exposed        522\n",
    "nombre_recovered    16519\n",
    "Name: 206, dtype: int64"
   ]
  },
  {
   "cell_type": "markdown",
   "id": "026aff7f",
   "metadata": {},
   "source": [
    "nombre_infected       840\n",
    "nombre_sain          2125\n",
    "nombre_exposed        517\n",
    "nombre_recovered    16518\n",
    "Name: 207, dtype: int64"
   ]
  },
  {
   "cell_type": "markdown",
   "id": "4748a581",
   "metadata": {},
   "source": [
    "nombre_infected       848\n",
    "nombre_sain          2121\n",
    "nombre_exposed        508\n",
    "nombre_recovered    16523\n",
    "Name: 208, dtype: int64"
   ]
  },
  {
   "cell_type": "markdown",
   "id": "2fc80562",
   "metadata": {},
   "source": [
    "nombre_infected       839\n",
    "nombre_sain          2083\n",
    "nombre_exposed        525\n",
    "nombre_recovered    16553\n",
    "Name: 209, dtype: int64"
   ]
  },
  {
   "cell_type": "markdown",
   "id": "49a05e0e",
   "metadata": {},
   "source": [
    "nombre_infected       847\n",
    "nombre_sain          2048\n",
    "nombre_exposed        514\n",
    "nombre_recovered    16591\n",
    "Name: 210, dtype: int64"
   ]
  },
  {
   "cell_type": "markdown",
   "id": "3e8f7420",
   "metadata": {},
   "source": [
    "nombre_infected       865\n",
    "nombre_sain          2012\n",
    "nombre_exposed        503\n",
    "nombre_recovered    16620\n",
    "Name: 211, dtype: int64"
   ]
  },
  {
   "cell_type": "markdown",
   "id": "9967ee47",
   "metadata": {},
   "source": [
    "nombre_infected       843\n",
    "nombre_sain          2018\n",
    "nombre_exposed        520\n",
    "nombre_recovered    16619\n",
    "Name: 212, dtype: int64"
   ]
  },
  {
   "cell_type": "markdown",
   "id": "2c8dd4de",
   "metadata": {},
   "source": [
    "nombre_infected       848\n",
    "nombre_sain          2028\n",
    "nombre_exposed        483\n",
    "nombre_recovered    16641\n",
    "Name: 213, dtype: int64"
   ]
  },
  {
   "cell_type": "markdown",
   "id": "a687d662",
   "metadata": {},
   "source": [
    "nombre_infected       840\n",
    "nombre_sain          2010\n",
    "nombre_exposed        479\n",
    "nombre_recovered    16671\n",
    "Name: 214, dtype: int64"
   ]
  },
  {
   "cell_type": "markdown",
   "id": "5112f1bd",
   "metadata": {},
   "source": [
    "nombre_infected       862\n",
    "nombre_sain          2012\n",
    "nombre_exposed        464\n",
    "nombre_recovered    16662\n",
    "Name: 215, dtype: int64"
   ]
  },
  {
   "cell_type": "markdown",
   "id": "31c511aa",
   "metadata": {},
   "source": [
    "nombre_infected       865\n",
    "nombre_sain          2011\n",
    "nombre_exposed        447\n",
    "nombre_recovered    16677\n",
    "Name: 216, dtype: int64"
   ]
  },
  {
   "cell_type": "markdown",
   "id": "86baffc7",
   "metadata": {},
   "source": [
    "nombre_infected       864\n",
    "nombre_sain          1987\n",
    "nombre_exposed        442\n",
    "nombre_recovered    16707\n",
    "Name: 217, dtype: int64"
   ]
  },
  {
   "cell_type": "markdown",
   "id": "27ec75e9",
   "metadata": {},
   "source": [
    "nombre_infected       836\n",
    "nombre_sain          1991\n",
    "nombre_exposed        445\n",
    "nombre_recovered    16728\n",
    "Name: 218, dtype: int64"
   ]
  },
  {
   "cell_type": "markdown",
   "id": "081f8d84",
   "metadata": {},
   "source": [
    "nombre_infected       820\n",
    "nombre_sain          1994\n",
    "nombre_exposed        459\n",
    "nombre_recovered    16727\n",
    "Name: 219, dtype: int64"
   ]
  },
  {
   "cell_type": "markdown",
   "id": "14feaf6f",
   "metadata": {},
   "source": [
    "nombre_infected       816\n",
    "nombre_sain          1976\n",
    "nombre_exposed        458\n",
    "nombre_recovered    16750\n",
    "Name: 220, dtype: int64"
   ]
  },
  {
   "cell_type": "markdown",
   "id": "20575fd9",
   "metadata": {},
   "source": [
    "nombre_infected       827\n",
    "nombre_sain          1982\n",
    "nombre_exposed        444\n",
    "nombre_recovered    16747\n",
    "Name: 221, dtype: int64"
   ]
  },
  {
   "cell_type": "markdown",
   "id": "3babf660",
   "metadata": {},
   "source": [
    "nombre_infected       818\n",
    "nombre_sain          1991\n",
    "nombre_exposed        427\n",
    "nombre_recovered    16764\n",
    "Name: 222, dtype: int64"
   ]
  },
  {
   "cell_type": "markdown",
   "id": "85ebe237",
   "metadata": {},
   "source": [
    "nombre_infected       829\n",
    "nombre_sain          2010\n",
    "nombre_exposed        409\n",
    "nombre_recovered    16752\n",
    "Name: 223, dtype: int64"
   ]
  },
  {
   "cell_type": "markdown",
   "id": "e8cfbf01",
   "metadata": {},
   "source": [
    "nombre_infected       844\n",
    "nombre_sain          2005\n",
    "nombre_exposed        401\n",
    "nombre_recovered    16750\n",
    "Name: 224, dtype: int64"
   ]
  },
  {
   "cell_type": "markdown",
   "id": "0c08a096",
   "metadata": {},
   "source": [
    "nombre_infected       858\n",
    "nombre_sain          2029\n",
    "nombre_exposed        413\n",
    "nombre_recovered    16700\n",
    "Name: 225, dtype: int64"
   ]
  },
  {
   "cell_type": "markdown",
   "id": "68e46c03",
   "metadata": {},
   "source": [
    "nombre_infected       847\n",
    "nombre_sain          2054\n",
    "nombre_exposed        411\n",
    "nombre_recovered    16688\n",
    "Name: 226, dtype: int64"
   ]
  },
  {
   "cell_type": "markdown",
   "id": "14fa4b48",
   "metadata": {},
   "source": [
    "nombre_infected       822\n",
    "nombre_sain          2038\n",
    "nombre_exposed        430\n",
    "nombre_recovered    16710\n",
    "Name: 227, dtype: int64"
   ]
  },
  {
   "cell_type": "markdown",
   "id": "14ff4f35",
   "metadata": {},
   "source": [
    "nombre_infected       834\n",
    "nombre_sain          2017\n",
    "nombre_exposed        432\n",
    "nombre_recovered    16717\n",
    "Name: 228, dtype: int64"
   ]
  },
  {
   "cell_type": "markdown",
   "id": "cceec635",
   "metadata": {},
   "source": [
    "nombre_infected       832\n",
    "nombre_sain          2008\n",
    "nombre_exposed        439\n",
    "nombre_recovered    16721\n",
    "Name: 229, dtype: int64"
   ]
  },
  {
   "cell_type": "markdown",
   "id": "0fc80698",
   "metadata": {},
   "source": [
    "nombre_infected       845\n",
    "nombre_sain          2007\n",
    "nombre_exposed        451\n",
    "nombre_recovered    16697\n",
    "Name: 230, dtype: int64"
   ]
  },
  {
   "cell_type": "markdown",
   "id": "f8cd7cef",
   "metadata": {},
   "source": [
    "nombre_infected       862\n",
    "nombre_sain          2023\n",
    "nombre_exposed        436\n",
    "nombre_recovered    16679\n",
    "Name: 231, dtype: int64"
   ]
  },
  {
   "cell_type": "markdown",
   "id": "e7cdbddb",
   "metadata": {},
   "source": [
    "nombre_infected       873\n",
    "nombre_sain          2009\n",
    "nombre_exposed        425\n",
    "nombre_recovered    16693\n",
    "Name: 232, dtype: int64"
   ]
  },
  {
   "cell_type": "markdown",
   "id": "1a043e2a",
   "metadata": {},
   "source": [
    "nombre_infected       870\n",
    "nombre_sain          2007\n",
    "nombre_exposed        442\n",
    "nombre_recovered    16681\n",
    "Name: 233, dtype: int64"
   ]
  },
  {
   "cell_type": "markdown",
   "id": "71a416a5",
   "metadata": {},
   "source": [
    "nombre_infected       868\n",
    "nombre_sain          2008\n",
    "nombre_exposed        450\n",
    "nombre_recovered    16674\n",
    "Name: 234, dtype: int64"
   ]
  },
  {
   "cell_type": "markdown",
   "id": "04e1c2c3",
   "metadata": {},
   "source": [
    "nombre_infected       872\n",
    "nombre_sain          2006\n",
    "nombre_exposed        446\n",
    "nombre_recovered    16676\n",
    "Name: 235, dtype: int64"
   ]
  },
  {
   "cell_type": "markdown",
   "id": "6d077057",
   "metadata": {},
   "source": [
    "nombre_infected       877\n",
    "nombre_sain          1976\n",
    "nombre_exposed        459\n",
    "nombre_recovered    16688\n",
    "Name: 236, dtype: int64"
   ]
  },
  {
   "cell_type": "markdown",
   "id": "c7fe51ee",
   "metadata": {},
   "source": [
    "nombre_infected       882\n",
    "nombre_sain          1983\n",
    "nombre_exposed        449\n",
    "nombre_recovered    16686\n",
    "Name: 237, dtype: int64"
   ]
  },
  {
   "cell_type": "markdown",
   "id": "638629d4",
   "metadata": {},
   "source": [
    "nombre_infected       867\n",
    "nombre_sain          1997\n",
    "nombre_exposed        459\n",
    "nombre_recovered    16677\n",
    "Name: 238, dtype: int64"
   ]
  },
  {
   "cell_type": "markdown",
   "id": "71c9d3aa",
   "metadata": {},
   "source": [
    "nombre_infected       866\n",
    "nombre_sain          2020\n",
    "nombre_exposed        429\n",
    "nombre_recovered    16685\n",
    "Name: 239, dtype: int64"
   ]
  },
  {
   "cell_type": "markdown",
   "id": "d528b5b0",
   "metadata": {},
   "source": [
    "nombre_infected       864\n",
    "nombre_sain          2058\n",
    "nombre_exposed        400\n",
    "nombre_recovered    16678\n",
    "Name: 240, dtype: int64"
   ]
  },
  {
   "cell_type": "markdown",
   "id": "5a4e0787",
   "metadata": {},
   "source": [
    "nombre_infected       864\n",
    "nombre_sain          2080\n",
    "nombre_exposed        397\n",
    "nombre_recovered    16659\n",
    "Name: 241, dtype: int64"
   ]
  },
  {
   "cell_type": "markdown",
   "id": "7f5e3a15",
   "metadata": {},
   "source": [
    "nombre_infected       838\n",
    "nombre_sain          2084\n",
    "nombre_exposed        423\n",
    "nombre_recovered    16655\n",
    "Name: 242, dtype: int64"
   ]
  },
  {
   "cell_type": "markdown",
   "id": "0c6c593f",
   "metadata": {},
   "source": [
    "nombre_infected       832\n",
    "nombre_sain          2126\n",
    "nombre_exposed        411\n",
    "nombre_recovered    16631\n",
    "Name: 243, dtype: int64"
   ]
  },
  {
   "cell_type": "markdown",
   "id": "baf13219",
   "metadata": {},
   "source": [
    "nombre_infected       838\n",
    "nombre_sain          2127\n",
    "nombre_exposed        430\n",
    "nombre_recovered    16605\n",
    "Name: 244, dtype: int64"
   ]
  },
  {
   "cell_type": "markdown",
   "id": "edc5c21d",
   "metadata": {},
   "source": [
    "nombre_infected       848\n",
    "nombre_sain          2148\n",
    "nombre_exposed        428\n",
    "nombre_recovered    16576\n",
    "Name: 245, dtype: int64"
   ]
  },
  {
   "cell_type": "markdown",
   "id": "81b25b88",
   "metadata": {},
   "source": [
    "nombre_infected       837\n",
    "nombre_sain          2174\n",
    "nombre_exposed        437\n",
    "nombre_recovered    16552\n",
    "Name: 246, dtype: int64"
   ]
  },
  {
   "cell_type": "markdown",
   "id": "341b4bfa",
   "metadata": {},
   "source": [
    "nombre_infected       840\n",
    "nombre_sain          2175\n",
    "nombre_exposed        445\n",
    "nombre_recovered    16540\n",
    "Name: 247, dtype: int64"
   ]
  },
  {
   "cell_type": "markdown",
   "id": "8563133f",
   "metadata": {},
   "source": [
    "nombre_infected       836\n",
    "nombre_sain          2206\n",
    "nombre_exposed        440\n",
    "nombre_recovered    16518\n",
    "Name: 248, dtype: int64"
   ]
  },
  {
   "cell_type": "markdown",
   "id": "ccff3ba5",
   "metadata": {},
   "source": [
    "nombre_infected       824\n",
    "nombre_sain          2217\n",
    "nombre_exposed        442\n",
    "nombre_recovered    16517\n",
    "Name: 249, dtype: int64"
   ]
  },
  {
   "cell_type": "markdown",
   "id": "9af22401",
   "metadata": {},
   "source": [
    "nombre_infected       803\n",
    "nombre_sain          2214\n",
    "nombre_exposed        457\n",
    "nombre_recovered    16526\n",
    "Name: 250, dtype: int64"
   ]
  },
  {
   "cell_type": "markdown",
   "id": "40440e9c",
   "metadata": {},
   "source": [
    "nombre_infected       826\n",
    "nombre_sain          2198\n",
    "nombre_exposed        443\n",
    "nombre_recovered    16533\n",
    "Name: 251, dtype: int64"
   ]
  },
  {
   "cell_type": "markdown",
   "id": "42f8f8ff",
   "metadata": {},
   "source": [
    "nombre_infected       842\n",
    "nombre_sain          2218\n",
    "nombre_exposed        447\n",
    "nombre_recovered    16493\n",
    "Name: 252, dtype: int64"
   ]
  },
  {
   "cell_type": "markdown",
   "id": "5c4cb684",
   "metadata": {},
   "source": [
    "nombre_infected       839\n",
    "nombre_sain          2199\n",
    "nombre_exposed        450\n",
    "nombre_recovered    16512\n",
    "Name: 253, dtype: int64"
   ]
  },
  {
   "cell_type": "markdown",
   "id": "436fdaf8",
   "metadata": {},
   "source": [
    "nombre_infected       851\n",
    "nombre_sain          2187\n",
    "nombre_exposed        457\n",
    "nombre_recovered    16505\n",
    "Name: 254, dtype: int64"
   ]
  },
  {
   "cell_type": "markdown",
   "id": "435342c9",
   "metadata": {},
   "source": [
    "nombre_infected       862\n",
    "nombre_sain          2178\n",
    "nombre_exposed        461\n",
    "nombre_recovered    16499\n",
    "Name: 255, dtype: int64"
   ]
  },
  {
   "cell_type": "markdown",
   "id": "31620135",
   "metadata": {},
   "source": [
    "nombre_infected       841\n",
    "nombre_sain          2173\n",
    "nombre_exposed        470\n",
    "nombre_recovered    16516\n",
    "Name: 256, dtype: int64"
   ]
  },
  {
   "cell_type": "markdown",
   "id": "77c09988",
   "metadata": {},
   "source": [
    "nombre_infected       845\n",
    "nombre_sain          2193\n",
    "nombre_exposed        447\n",
    "nombre_recovered    16515\n",
    "Name: 257, dtype: int64"
   ]
  },
  {
   "cell_type": "markdown",
   "id": "0fb6f111",
   "metadata": {},
   "source": [
    "nombre_infected       836\n",
    "nombre_sain          2174\n",
    "nombre_exposed        453\n",
    "nombre_recovered    16537\n",
    "Name: 258, dtype: int64"
   ]
  },
  {
   "cell_type": "markdown",
   "id": "c2fff0bc",
   "metadata": {},
   "source": [
    "nombre_infected       841\n",
    "nombre_sain          2142\n",
    "nombre_exposed        479\n",
    "nombre_recovered    16538\n",
    "Name: 259, dtype: int64"
   ]
  },
  {
   "cell_type": "markdown",
   "id": "7076f789",
   "metadata": {},
   "source": [
    "nombre_infected       836\n",
    "nombre_sain          2130\n",
    "nombre_exposed        490\n",
    "nombre_recovered    16544\n",
    "Name: 260, dtype: int64"
   ]
  },
  {
   "cell_type": "markdown",
   "id": "02864197",
   "metadata": {},
   "source": [
    "nombre_infected       808\n",
    "nombre_sain          2114\n",
    "nombre_exposed        493\n",
    "nombre_recovered    16585\n",
    "Name: 261, dtype: int64"
   ]
  },
  {
   "cell_type": "markdown",
   "id": "95f75123",
   "metadata": {},
   "source": [
    "nombre_infected       820\n",
    "nombre_sain          2091\n",
    "nombre_exposed        484\n",
    "nombre_recovered    16605\n",
    "Name: 262, dtype: int64"
   ]
  },
  {
   "cell_type": "markdown",
   "id": "97cc1e48",
   "metadata": {},
   "source": [
    "nombre_infected       834\n",
    "nombre_sain          2071\n",
    "nombre_exposed        483\n",
    "nombre_recovered    16612\n",
    "Name: 263, dtype: int64"
   ]
  },
  {
   "cell_type": "markdown",
   "id": "0fd5c467",
   "metadata": {},
   "source": [
    "nombre_infected       841\n",
    "nombre_sain          2091\n",
    "nombre_exposed        454\n",
    "nombre_recovered    16614\n",
    "Name: 264, dtype: int64"
   ]
  },
  {
   "cell_type": "markdown",
   "id": "53211507",
   "metadata": {},
   "source": [
    "nombre_infected       839\n",
    "nombre_sain          2071\n",
    "nombre_exposed        473\n",
    "nombre_recovered    16617\n",
    "Name: 265, dtype: int64"
   ]
  },
  {
   "cell_type": "markdown",
   "id": "b0c69a0d",
   "metadata": {},
   "source": [
    "nombre_infected       824\n",
    "nombre_sain          2081\n",
    "nombre_exposed        461\n",
    "nombre_recovered    16634\n",
    "Name: 266, dtype: int64"
   ]
  },
  {
   "cell_type": "markdown",
   "id": "6912e77f",
   "metadata": {},
   "source": [
    "nombre_infected       815\n",
    "nombre_sain          2075\n",
    "nombre_exposed        457\n",
    "nombre_recovered    16653\n",
    "Name: 267, dtype: int64"
   ]
  },
  {
   "cell_type": "markdown",
   "id": "e4761346",
   "metadata": {},
   "source": [
    "nombre_infected       830\n",
    "nombre_sain          2062\n",
    "nombre_exposed        454\n",
    "nombre_recovered    16654\n",
    "Name: 268, dtype: int64"
   ]
  },
  {
   "cell_type": "markdown",
   "id": "5b7c7ddf",
   "metadata": {},
   "source": [
    "nombre_infected       818\n",
    "nombre_sain          2063\n",
    "nombre_exposed        448\n",
    "nombre_recovered    16671\n",
    "Name: 269, dtype: int64"
   ]
  },
  {
   "cell_type": "markdown",
   "id": "5aa60e50",
   "metadata": {},
   "source": [
    "nombre_infected       809\n",
    "nombre_sain          2084\n",
    "nombre_exposed        435\n",
    "nombre_recovered    16672\n",
    "Name: 270, dtype: int64"
   ]
  },
  {
   "cell_type": "markdown",
   "id": "683d4b67",
   "metadata": {},
   "source": [
    "nombre_infected       795\n",
    "nombre_sain          2069\n",
    "nombre_exposed        445\n",
    "nombre_recovered    16691\n",
    "Name: 271, dtype: int64"
   ]
  },
  {
   "cell_type": "markdown",
   "id": "6c72930d",
   "metadata": {},
   "source": [
    "nombre_infected       790\n",
    "nombre_sain          2092\n",
    "nombre_exposed        446\n",
    "nombre_recovered    16672\n",
    "Name: 272, dtype: int64"
   ]
  },
  {
   "cell_type": "markdown",
   "id": "da20987b",
   "metadata": {},
   "source": [
    "nombre_infected       772\n",
    "nombre_sain          2086\n",
    "nombre_exposed        455\n",
    "nombre_recovered    16687\n",
    "Name: 273, dtype: int64"
   ]
  },
  {
   "cell_type": "markdown",
   "id": "317ed6ca",
   "metadata": {},
   "source": [
    "nombre_infected       770\n",
    "nombre_sain          2103\n",
    "nombre_exposed        446\n",
    "nombre_recovered    16681\n",
    "Name: 274, dtype: int64"
   ]
  },
  {
   "cell_type": "markdown",
   "id": "10ebab8d",
   "metadata": {},
   "source": [
    "nombre_infected       797\n",
    "nombre_sain          2134\n",
    "nombre_exposed        430\n",
    "nombre_recovered    16639\n",
    "Name: 275, dtype: int64"
   ]
  },
  {
   "cell_type": "markdown",
   "id": "8d1a8bed",
   "metadata": {},
   "source": [
    "nombre_infected       794\n",
    "nombre_sain          2162\n",
    "nombre_exposed        406\n",
    "nombre_recovered    16638\n",
    "Name: 276, dtype: int64"
   ]
  },
  {
   "cell_type": "markdown",
   "id": "45601046",
   "metadata": {},
   "source": [
    "nombre_infected       776\n",
    "nombre_sain          2154\n",
    "nombre_exposed        430\n",
    "nombre_recovered    16640\n",
    "Name: 277, dtype: int64"
   ]
  },
  {
   "cell_type": "markdown",
   "id": "bfce4eca",
   "metadata": {},
   "source": [
    "nombre_infected       793\n",
    "nombre_sain          2166\n",
    "nombre_exposed        410\n",
    "nombre_recovered    16631\n",
    "Name: 278, dtype: int64"
   ]
  },
  {
   "cell_type": "markdown",
   "id": "7cd1fafc",
   "metadata": {},
   "source": [
    "nombre_infected       788\n",
    "nombre_sain          2164\n",
    "nombre_exposed        418\n",
    "nombre_recovered    16630\n",
    "Name: 279, dtype: int64"
   ]
  },
  {
   "cell_type": "markdown",
   "id": "ee11d262",
   "metadata": {},
   "source": [
    "nombre_infected       770\n",
    "nombre_sain          2197\n",
    "nombre_exposed        407\n",
    "nombre_recovered    16626\n",
    "Name: 280, dtype: int64"
   ]
  },
  {
   "cell_type": "markdown",
   "id": "675e8ca3",
   "metadata": {},
   "source": [
    "nombre_infected       777\n",
    "nombre_sain          2189\n",
    "nombre_exposed        417\n",
    "nombre_recovered    16617\n",
    "Name: 281, dtype: int64"
   ]
  },
  {
   "cell_type": "markdown",
   "id": "8ac0ae05",
   "metadata": {},
   "source": [
    "nombre_infected       755\n",
    "nombre_sain          2198\n",
    "nombre_exposed        427\n",
    "nombre_recovered    16620\n",
    "Name: 282, dtype: int64"
   ]
  },
  {
   "cell_type": "markdown",
   "id": "54624132",
   "metadata": {},
   "source": [
    "nombre_infected       743\n",
    "nombre_sain          2218\n",
    "nombre_exposed        416\n",
    "nombre_recovered    16623\n",
    "Name: 283, dtype: int64"
   ]
  },
  {
   "cell_type": "markdown",
   "id": "e39cc547",
   "metadata": {},
   "source": [
    "nombre_infected       770\n",
    "nombre_sain          2224\n",
    "nombre_exposed        401\n",
    "nombre_recovered    16605\n",
    "Name: 284, dtype: int64"
   ]
  },
  {
   "cell_type": "markdown",
   "id": "16b3cecd",
   "metadata": {},
   "source": [
    "nombre_infected       768\n",
    "nombre_sain          2217\n",
    "nombre_exposed        411\n",
    "nombre_recovered    16604\n",
    "Name: 285, dtype: int64"
   ]
  },
  {
   "cell_type": "markdown",
   "id": "a735143e",
   "metadata": {},
   "source": [
    "nombre_infected       777\n",
    "nombre_sain          2219\n",
    "nombre_exposed        397\n",
    "nombre_recovered    16607\n",
    "Name: 286, dtype: int64"
   ]
  },
  {
   "cell_type": "markdown",
   "id": "d25335a0",
   "metadata": {},
   "source": [
    "nombre_infected       747\n",
    "nombre_sain          2216\n",
    "nombre_exposed        417\n",
    "nombre_recovered    16620\n",
    "Name: 287, dtype: int64"
   ]
  },
  {
   "cell_type": "markdown",
   "id": "023a4747",
   "metadata": {},
   "source": [
    "nombre_infected       735\n",
    "nombre_sain          2207\n",
    "nombre_exposed        432\n",
    "nombre_recovered    16626\n",
    "Name: 288, dtype: int64"
   ]
  },
  {
   "cell_type": "markdown",
   "id": "e2f8967f",
   "metadata": {},
   "source": [
    "nombre_infected       734\n",
    "nombre_sain          2197\n",
    "nombre_exposed        427\n",
    "nombre_recovered    16642\n",
    "Name: 289, dtype: int64"
   ]
  },
  {
   "cell_type": "markdown",
   "id": "9a798946",
   "metadata": {},
   "source": [
    "nombre_infected       709\n",
    "nombre_sain          2180\n",
    "nombre_exposed        460\n",
    "nombre_recovered    16651\n",
    "Name: 290, dtype: int64"
   ]
  },
  {
   "cell_type": "markdown",
   "id": "278988f7",
   "metadata": {},
   "source": [
    "nombre_infected       721\n",
    "nombre_sain          2195\n",
    "nombre_exposed        446\n",
    "nombre_recovered    16638\n",
    "Name: 291, dtype: int64"
   ]
  },
  {
   "cell_type": "markdown",
   "id": "cee3a8ee",
   "metadata": {},
   "source": [
    "nombre_infected       749\n",
    "nombre_sain          2194\n",
    "nombre_exposed        428\n",
    "nombre_recovered    16629\n",
    "Name: 292, dtype: int64"
   ]
  },
  {
   "cell_type": "markdown",
   "id": "bea00f38",
   "metadata": {},
   "source": [
    "nombre_infected       751\n",
    "nombre_sain          2181\n",
    "nombre_exposed        435\n",
    "nombre_recovered    16633\n",
    "Name: 293, dtype: int64"
   ]
  },
  {
   "cell_type": "markdown",
   "id": "4467192e",
   "metadata": {},
   "source": [
    "nombre_infected       722\n",
    "nombre_sain          2179\n",
    "nombre_exposed        456\n",
    "nombre_recovered    16643\n",
    "Name: 294, dtype: int64"
   ]
  },
  {
   "cell_type": "markdown",
   "id": "a5b39c63",
   "metadata": {},
   "source": [
    "nombre_infected       730\n",
    "nombre_sain          2174\n",
    "nombre_exposed        441\n",
    "nombre_recovered    16655\n",
    "Name: 295, dtype: int64"
   ]
  },
  {
   "cell_type": "markdown",
   "id": "4b3bb469",
   "metadata": {},
   "source": [
    "nombre_infected       733\n",
    "nombre_sain          2204\n",
    "nombre_exposed        418\n",
    "nombre_recovered    16645\n",
    "Name: 296, dtype: int64"
   ]
  },
  {
   "cell_type": "markdown",
   "id": "23c1d08f",
   "metadata": {},
   "source": [
    "nombre_infected       752\n",
    "nombre_sain          2237\n",
    "nombre_exposed        400\n",
    "nombre_recovered    16611\n",
    "Name: 297, dtype: int64"
   ]
  },
  {
   "cell_type": "markdown",
   "id": "d51fc25c",
   "metadata": {},
   "source": [
    "nombre_infected       742\n",
    "nombre_sain          2230\n",
    "nombre_exposed        423\n",
    "nombre_recovered    16605\n",
    "Name: 298, dtype: int64"
   ]
  },
  {
   "cell_type": "markdown",
   "id": "0af1ba83",
   "metadata": {},
   "source": [
    "nombre_infected       726\n",
    "nombre_sain          2228\n",
    "nombre_exposed        430\n",
    "nombre_recovered    16616\n",
    "Name: 299, dtype: int64"
   ]
  },
  {
   "cell_type": "markdown",
   "id": "99b76440",
   "metadata": {},
   "source": [
    "nombre_infected       720\n",
    "nombre_sain          2241\n",
    "nombre_exposed        431\n",
    "nombre_recovered    16608\n",
    "Name: 300, dtype: int64"
   ]
  },
  {
   "cell_type": "markdown",
   "id": "a5d78530",
   "metadata": {},
   "source": [
    "nombre_infected       723\n",
    "nombre_sain          2254\n",
    "nombre_exposed        435\n",
    "nombre_recovered    16588\n",
    "Name: 301, dtype: int64"
   ]
  },
  {
   "cell_type": "markdown",
   "id": "b3caaff7",
   "metadata": {},
   "source": [
    "nombre_infected       707\n",
    "nombre_sain          2288\n",
    "nombre_exposed        429\n",
    "nombre_recovered    16576\n",
    "Name: 302, dtype: int64"
   ]
  },
  {
   "cell_type": "markdown",
   "id": "e61986b2",
   "metadata": {},
   "source": [
    "nombre_infected       708\n",
    "nombre_sain          2255\n",
    "nombre_exposed        462\n",
    "nombre_recovered    16575\n",
    "Name: 303, dtype: int64"
   ]
  },
  {
   "cell_type": "markdown",
   "id": "6b2bdc67",
   "metadata": {},
   "source": [
    "nombre_infected       700\n",
    "nombre_sain          2258\n",
    "nombre_exposed        457\n",
    "nombre_recovered    16585\n",
    "Name: 304, dtype: int64"
   ]
  },
  {
   "cell_type": "markdown",
   "id": "8def4cfc",
   "metadata": {},
   "source": [
    "nombre_infected       709\n",
    "nombre_sain          2250\n",
    "nombre_exposed        447\n",
    "nombre_recovered    16594\n",
    "Name: 305, dtype: int64"
   ]
  },
  {
   "cell_type": "markdown",
   "id": "4e5ff538",
   "metadata": {},
   "source": [
    "nombre_infected       736\n",
    "nombre_sain          2269\n",
    "nombre_exposed        432\n",
    "nombre_recovered    16563\n",
    "Name: 306, dtype: int64"
   ]
  },
  {
   "cell_type": "markdown",
   "id": "3b33832d",
   "metadata": {},
   "source": [
    "nombre_infected       735\n",
    "nombre_sain          2258\n",
    "nombre_exposed        441\n",
    "nombre_recovered    16566\n",
    "Name: 307, dtype: int64"
   ]
  },
  {
   "cell_type": "markdown",
   "id": "a9c49357",
   "metadata": {},
   "source": [
    "nombre_infected       716\n",
    "nombre_sain          2270\n",
    "nombre_exposed        455\n",
    "nombre_recovered    16559\n",
    "Name: 308, dtype: int64"
   ]
  },
  {
   "cell_type": "markdown",
   "id": "f9156127",
   "metadata": {},
   "source": [
    "nombre_infected       730\n",
    "nombre_sain          2314\n",
    "nombre_exposed        431\n",
    "nombre_recovered    16525\n",
    "Name: 309, dtype: int64"
   ]
  },
  {
   "cell_type": "markdown",
   "id": "6459830c",
   "metadata": {},
   "source": [
    "nombre_infected       739\n",
    "nombre_sain          2277\n",
    "nombre_exposed        450\n",
    "nombre_recovered    16534\n",
    "Name: 310, dtype: int64"
   ]
  },
  {
   "cell_type": "markdown",
   "id": "c2633375",
   "metadata": {},
   "source": [
    "nombre_infected       729\n",
    "nombre_sain          2290\n",
    "nombre_exposed        454\n",
    "nombre_recovered    16527\n",
    "Name: 311, dtype: int64"
   ]
  },
  {
   "cell_type": "markdown",
   "id": "6ae34017",
   "metadata": {},
   "source": [
    "nombre_infected       742\n",
    "nombre_sain          2267\n",
    "nombre_exposed        474\n",
    "nombre_recovered    16517\n",
    "Name: 312, dtype: int64"
   ]
  },
  {
   "cell_type": "markdown",
   "id": "7ea6f077",
   "metadata": {},
   "source": [
    "nombre_infected       739\n",
    "nombre_sain          2256\n",
    "nombre_exposed        477\n",
    "nombre_recovered    16528\n",
    "Name: 313, dtype: int64"
   ]
  },
  {
   "cell_type": "markdown",
   "id": "f49ac6d9",
   "metadata": {},
   "source": [
    "nombre_infected       746\n",
    "nombre_sain          2257\n",
    "nombre_exposed        468\n",
    "nombre_recovered    16529\n",
    "Name: 314, dtype: int64"
   ]
  },
  {
   "cell_type": "markdown",
   "id": "d6412b26",
   "metadata": {},
   "source": [
    "nombre_infected       749\n",
    "nombre_sain          2259\n",
    "nombre_exposed        471\n",
    "nombre_recovered    16521\n",
    "Name: 315, dtype: int64"
   ]
  },
  {
   "cell_type": "markdown",
   "id": "d84246d6",
   "metadata": {},
   "source": [
    "nombre_infected       755\n",
    "nombre_sain          2262\n",
    "nombre_exposed        477\n",
    "nombre_recovered    16506\n",
    "Name: 316, dtype: int64"
   ]
  },
  {
   "cell_type": "markdown",
   "id": "c49618fd",
   "metadata": {},
   "source": [
    "nombre_infected       763\n",
    "nombre_sain          2240\n",
    "nombre_exposed        496\n",
    "nombre_recovered    16501\n",
    "Name: 317, dtype: int64"
   ]
  },
  {
   "cell_type": "markdown",
   "id": "c8e3cef3",
   "metadata": {},
   "source": [
    "nombre_infected       768\n",
    "nombre_sain          2241\n",
    "nombre_exposed        495\n",
    "nombre_recovered    16496\n",
    "Name: 318, dtype: int64"
   ]
  },
  {
   "cell_type": "markdown",
   "id": "3d5d1d8f",
   "metadata": {},
   "source": [
    "nombre_infected       778\n",
    "nombre_sain          2230\n",
    "nombre_exposed        489\n",
    "nombre_recovered    16503\n",
    "Name: 319, dtype: int64"
   ]
  },
  {
   "cell_type": "markdown",
   "id": "525760f6",
   "metadata": {},
   "source": [
    "nombre_infected       794\n",
    "nombre_sain          2212\n",
    "nombre_exposed        500\n",
    "nombre_recovered    16494\n",
    "Name: 320, dtype: int64"
   ]
  },
  {
   "cell_type": "markdown",
   "id": "b979fb38",
   "metadata": {},
   "source": [
    "nombre_infected       801\n",
    "nombre_sain          2186\n",
    "nombre_exposed        503\n",
    "nombre_recovered    16510\n",
    "Name: 321, dtype: int64"
   ]
  },
  {
   "cell_type": "markdown",
   "id": "0d4a1951",
   "metadata": {},
   "source": [
    "nombre_infected       821\n",
    "nombre_sain          2168\n",
    "nombre_exposed        523\n",
    "nombre_recovered    16488\n",
    "Name: 322, dtype: int64"
   ]
  },
  {
   "cell_type": "markdown",
   "id": "4ff80bc2",
   "metadata": {},
   "source": [
    "nombre_infected       848\n",
    "nombre_sain          2177\n",
    "nombre_exposed        500\n",
    "nombre_recovered    16475\n",
    "Name: 323, dtype: int64"
   ]
  },
  {
   "cell_type": "markdown",
   "id": "9e6c5ae9",
   "metadata": {},
   "source": [
    "nombre_infected       842\n",
    "nombre_sain          2168\n",
    "nombre_exposed        518\n",
    "nombre_recovered    16472\n",
    "Name: 324, dtype: int64"
   ]
  },
  {
   "cell_type": "markdown",
   "id": "e9d6830e",
   "metadata": {},
   "source": [
    "nombre_infected       854\n",
    "nombre_sain          2194\n",
    "nombre_exposed        506\n",
    "nombre_recovered    16446\n",
    "Name: 325, dtype: int64"
   ]
  },
  {
   "cell_type": "markdown",
   "id": "14da5d1d",
   "metadata": {},
   "source": [
    "nombre_infected       884\n",
    "nombre_sain          2164\n",
    "nombre_exposed        489\n",
    "nombre_recovered    16463\n",
    "Name: 326, dtype: int64"
   ]
  },
  {
   "cell_type": "markdown",
   "id": "5e775c6e",
   "metadata": {},
   "source": [
    "nombre_infected       871\n",
    "nombre_sain          2191\n",
    "nombre_exposed        487\n",
    "nombre_recovered    16451\n",
    "Name: 327, dtype: int64"
   ]
  },
  {
   "cell_type": "markdown",
   "id": "6ed84f02",
   "metadata": {},
   "source": [
    "nombre_infected       853\n",
    "nombre_sain          2196\n",
    "nombre_exposed        495\n",
    "nombre_recovered    16456\n",
    "Name: 328, dtype: int64"
   ]
  },
  {
   "cell_type": "markdown",
   "id": "24112ed9",
   "metadata": {},
   "source": [
    "nombre_infected       851\n",
    "nombre_sain          2204\n",
    "nombre_exposed        490\n",
    "nombre_recovered    16455\n",
    "Name: 329, dtype: int64"
   ]
  },
  {
   "cell_type": "markdown",
   "id": "9c81c960",
   "metadata": {},
   "source": [
    "nombre_infected       847\n",
    "nombre_sain          2203\n",
    "nombre_exposed        511\n",
    "nombre_recovered    16439\n",
    "Name: 330, dtype: int64"
   ]
  },
  {
   "cell_type": "markdown",
   "id": "a0faecbb",
   "metadata": {},
   "source": [
    "nombre_infected       855\n",
    "nombre_sain          2222\n",
    "nombre_exposed        498\n",
    "nombre_recovered    16425\n",
    "Name: 331, dtype: int64"
   ]
  },
  {
   "cell_type": "markdown",
   "id": "b9b54e96",
   "metadata": {},
   "source": [
    "nombre_infected       841\n",
    "nombre_sain          2259\n",
    "nombre_exposed        492\n",
    "nombre_recovered    16408\n",
    "Name: 332, dtype: int64"
   ]
  },
  {
   "cell_type": "markdown",
   "id": "b003b71e",
   "metadata": {},
   "source": [
    "nombre_infected       872\n",
    "nombre_sain          2274\n",
    "nombre_exposed        477\n",
    "nombre_recovered    16377\n",
    "Name: 333, dtype: int64"
   ]
  },
  {
   "cell_type": "markdown",
   "id": "1adaa467",
   "metadata": {},
   "source": [
    "nombre_infected       903\n",
    "nombre_sain          2291\n",
    "nombre_exposed        490\n",
    "nombre_recovered    16316\n",
    "Name: 334, dtype: int64"
   ]
  },
  {
   "cell_type": "markdown",
   "id": "3fc1c282",
   "metadata": {},
   "source": [
    "nombre_infected       872\n",
    "nombre_sain          2261\n",
    "nombre_exposed        521\n",
    "nombre_recovered    16346\n",
    "Name: 335, dtype: int64"
   ]
  },
  {
   "cell_type": "markdown",
   "id": "6a2b89aa",
   "metadata": {},
   "source": [
    "nombre_infected       908\n",
    "nombre_sain          2281\n",
    "nombre_exposed        509\n",
    "nombre_recovered    16302\n",
    "Name: 336, dtype: int64"
   ]
  },
  {
   "cell_type": "markdown",
   "id": "eba40991",
   "metadata": {},
   "source": [
    "nombre_infected       923\n",
    "nombre_sain          2244\n",
    "nombre_exposed        528\n",
    "nombre_recovered    16305\n",
    "Name: 337, dtype: int64"
   ]
  },
  {
   "cell_type": "markdown",
   "id": "1ba84e57",
   "metadata": {},
   "source": [
    "nombre_infected       924\n",
    "nombre_sain          2262\n",
    "nombre_exposed        523\n",
    "nombre_recovered    16291\n",
    "Name: 338, dtype: int64"
   ]
  },
  {
   "cell_type": "markdown",
   "id": "7070a0d3",
   "metadata": {},
   "source": [
    "nombre_infected       961\n",
    "nombre_sain          2267\n",
    "nombre_exposed        511\n",
    "nombre_recovered    16261\n",
    "Name: 339, dtype: int64"
   ]
  },
  {
   "cell_type": "markdown",
   "id": "d6ed1934",
   "metadata": {},
   "source": [
    "nombre_infected       953\n",
    "nombre_sain          2261\n",
    "nombre_exposed        516\n",
    "nombre_recovered    16270\n",
    "Name: 340, dtype: int64"
   ]
  },
  {
   "cell_type": "markdown",
   "id": "d5089b05",
   "metadata": {},
   "source": [
    "nombre_infected       941\n",
    "nombre_sain          2285\n",
    "nombre_exposed        527\n",
    "nombre_recovered    16247\n",
    "Name: 341, dtype: int64"
   ]
  },
  {
   "cell_type": "markdown",
   "id": "a0dd27dc",
   "metadata": {},
   "source": [
    "nombre_infected       964\n",
    "nombre_sain          2288\n",
    "nombre_exposed        517\n",
    "nombre_recovered    16231\n",
    "Name: 342, dtype: int64"
   ]
  },
  {
   "cell_type": "markdown",
   "id": "480d24ad",
   "metadata": {},
   "source": [
    "nombre_infected       949\n",
    "nombre_sain          2315\n",
    "nombre_exposed        542\n",
    "nombre_recovered    16194\n",
    "Name: 343, dtype: int64"
   ]
  },
  {
   "cell_type": "markdown",
   "id": "b17976a3",
   "metadata": {},
   "source": [
    "nombre_infected       948\n",
    "nombre_sain          2334\n",
    "nombre_exposed        556\n",
    "nombre_recovered    16162\n",
    "Name: 344, dtype: int64"
   ]
  },
  {
   "cell_type": "markdown",
   "id": "436f82e2",
   "metadata": {},
   "source": [
    "nombre_infected       969\n",
    "nombre_sain          2338\n",
    "nombre_exposed        573\n",
    "nombre_recovered    16120\n",
    "Name: 345, dtype: int64"
   ]
  },
  {
   "cell_type": "markdown",
   "id": "73bd6cdd",
   "metadata": {},
   "source": [
    "nombre_infected       975\n",
    "nombre_sain          2357\n",
    "nombre_exposed        590\n",
    "nombre_recovered    16078\n",
    "Name: 346, dtype: int64"
   ]
  },
  {
   "cell_type": "markdown",
   "id": "9a6905f1",
   "metadata": {},
   "source": [
    "nombre_infected       990\n",
    "nombre_sain          2369\n",
    "nombre_exposed        579\n",
    "nombre_recovered    16062\n",
    "Name: 347, dtype: int64"
   ]
  },
  {
   "cell_type": "markdown",
   "id": "f90d11ca",
   "metadata": {},
   "source": [
    "nombre_infected      1030\n",
    "nombre_sain          2366\n",
    "nombre_exposed        555\n",
    "nombre_recovered    16049\n",
    "Name: 348, dtype: int64"
   ]
  },
  {
   "cell_type": "markdown",
   "id": "ac6d9285",
   "metadata": {},
   "source": [
    "nombre_infected      1017\n",
    "nombre_sain          2341\n",
    "nombre_exposed        587\n",
    "nombre_recovered    16055\n",
    "Name: 349, dtype: int64"
   ]
  },
  {
   "cell_type": "markdown",
   "id": "cd62d57a",
   "metadata": {},
   "source": [
    "nombre_infected       991\n",
    "nombre_sain          2308\n",
    "nombre_exposed        629\n",
    "nombre_recovered    16072\n",
    "Name: 350, dtype: int64"
   ]
  },
  {
   "cell_type": "markdown",
   "id": "8afca6cc",
   "metadata": {},
   "source": [
    "nombre_infected       993\n",
    "nombre_sain          2329\n",
    "nombre_exposed        605\n",
    "nombre_recovered    16073\n",
    "Name: 351, dtype: int64"
   ]
  },
  {
   "cell_type": "markdown",
   "id": "8292aa32",
   "metadata": {},
   "source": [
    "nombre_infected      1030\n",
    "nombre_sain          2348\n",
    "nombre_exposed        579\n",
    "nombre_recovered    16043\n",
    "Name: 352, dtype: int64"
   ]
  },
  {
   "cell_type": "markdown",
   "id": "5bb5addf",
   "metadata": {},
   "source": [
    "nombre_infected      1042\n",
    "nombre_sain          2345\n",
    "nombre_exposed        597\n",
    "nombre_recovered    16016\n",
    "Name: 353, dtype: int64"
   ]
  },
  {
   "cell_type": "markdown",
   "id": "779a2a70",
   "metadata": {},
   "source": [
    "nombre_infected      1038\n",
    "nombre_sain          2337\n",
    "nombre_exposed        600\n",
    "nombre_recovered    16025\n",
    "Name: 354, dtype: int64"
   ]
  },
  {
   "cell_type": "markdown",
   "id": "e62e556e",
   "metadata": {},
   "source": [
    "nombre_infected      1044\n",
    "nombre_sain          2335\n",
    "nombre_exposed        616\n",
    "nombre_recovered    16005\n",
    "Name: 355, dtype: int64"
   ]
  },
  {
   "cell_type": "markdown",
   "id": "7036a28e",
   "metadata": {},
   "source": [
    "nombre_infected      1070\n",
    "nombre_sain          2327\n",
    "nombre_exposed        627\n",
    "nombre_recovered    15976\n",
    "Name: 356, dtype: int64"
   ]
  },
  {
   "cell_type": "markdown",
   "id": "0989e3c9",
   "metadata": {},
   "source": [
    "nombre_infected      1077\n",
    "nombre_sain          2306\n",
    "nombre_exposed        629\n",
    "nombre_recovered    15988\n",
    "Name: 357, dtype: int64"
   ]
  },
  {
   "cell_type": "markdown",
   "id": "b76f76b0",
   "metadata": {},
   "source": [
    "nombre_infected      1077\n",
    "nombre_sain          2313\n",
    "nombre_exposed        618\n",
    "nombre_recovered    15992\n",
    "Name: 358, dtype: int64"
   ]
  },
  {
   "cell_type": "markdown",
   "id": "0e930f56",
   "metadata": {},
   "source": [
    "nombre_infected      1082\n",
    "nombre_sain          2292\n",
    "nombre_exposed        613\n",
    "nombre_recovered    16013\n",
    "Name: 359, dtype: int64"
   ]
  },
  {
   "cell_type": "markdown",
   "id": "687b782f",
   "metadata": {},
   "source": [
    "nombre_infected      1077\n",
    "nombre_sain          2276\n",
    "nombre_exposed        615\n",
    "nombre_recovered    16032\n",
    "Name: 360, dtype: int64"
   ]
  },
  {
   "cell_type": "markdown",
   "id": "b6259985",
   "metadata": {},
   "source": [
    "nombre_infected      1088\n",
    "nombre_sain          2261\n",
    "nombre_exposed        628\n",
    "nombre_recovered    16023\n",
    "Name: 361, dtype: int64"
   ]
  },
  {
   "cell_type": "markdown",
   "id": "f474bb27",
   "metadata": {},
   "source": [
    "nombre_infected      1076\n",
    "nombre_sain          2242\n",
    "nombre_exposed        646\n",
    "nombre_recovered    16036\n",
    "Name: 362, dtype: int64"
   ]
  },
  {
   "cell_type": "markdown",
   "id": "2b7efc43",
   "metadata": {},
   "source": [
    "nombre_infected      1083\n",
    "nombre_sain          2245\n",
    "nombre_exposed        616\n",
    "nombre_recovered    16056\n",
    "Name: 363, dtype: int64"
   ]
  },
  {
   "cell_type": "markdown",
   "id": "083b3eb3",
   "metadata": {},
   "source": [
    "nombre_infected      1098\n",
    "nombre_sain          2222\n",
    "nombre_exposed        625\n",
    "nombre_recovered    16055\n",
    "Name: 364, dtype: int64"
   ]
  },
  {
   "cell_type": "markdown",
   "id": "11fcee7b",
   "metadata": {},
   "source": [
    "nombre_infected      1114\n",
    "nombre_sain          2199\n",
    "nombre_exposed        628\n",
    "nombre_recovered    16059\n",
    "Name: 365, dtype: int64"
   ]
  },
  {
   "cell_type": "markdown",
   "id": "bf44f8ad",
   "metadata": {},
   "source": [
    "nombre_infected      1093\n",
    "nombre_sain          2179\n",
    "nombre_exposed        633\n",
    "nombre_recovered    16095\n",
    "Name: 366, dtype: int64"
   ]
  },
  {
   "cell_type": "markdown",
   "id": "0f0c4b7f",
   "metadata": {},
   "source": [
    "nombre_infected      1091\n",
    "nombre_sain          2160\n",
    "nombre_exposed        644\n",
    "nombre_recovered    16105\n",
    "Name: 367, dtype: int64"
   ]
  },
  {
   "cell_type": "markdown",
   "id": "3410c264",
   "metadata": {},
   "source": [
    "nombre_infected      1082\n",
    "nombre_sain          2157\n",
    "nombre_exposed        635\n",
    "nombre_recovered    16126\n",
    "Name: 368, dtype: int64"
   ]
  },
  {
   "cell_type": "markdown",
   "id": "12bcaff9",
   "metadata": {},
   "source": [
    "nombre_infected      1120\n",
    "nombre_sain          2138\n",
    "nombre_exposed        609\n",
    "nombre_recovered    16133\n",
    "Name: 369, dtype: int64"
   ]
  },
  {
   "cell_type": "markdown",
   "id": "e662a52d",
   "metadata": {},
   "source": [
    "nombre_infected      1103\n",
    "nombre_sain          2126\n",
    "nombre_exposed        591\n",
    "nombre_recovered    16180\n",
    "Name: 370, dtype: int64"
   ]
  },
  {
   "cell_type": "markdown",
   "id": "1bbef89a",
   "metadata": {},
   "source": [
    "nombre_infected      1080\n",
    "nombre_sain          2110\n",
    "nombre_exposed        597\n",
    "nombre_recovered    16213\n",
    "Name: 371, dtype: int64"
   ]
  },
  {
   "cell_type": "markdown",
   "id": "9b9e3021",
   "metadata": {},
   "source": [
    "nombre_infected      1057\n",
    "nombre_sain          2055\n",
    "nombre_exposed        638\n",
    "nombre_recovered    16250\n",
    "Name: 372, dtype: int64"
   ]
  },
  {
   "cell_type": "markdown",
   "id": "1a36430c",
   "metadata": {},
   "source": [
    "nombre_infected      1043\n",
    "nombre_sain          2033\n",
    "nombre_exposed        637\n",
    "nombre_recovered    16287\n",
    "Name: 373, dtype: int64"
   ]
  },
  {
   "cell_type": "markdown",
   "id": "c9434566",
   "metadata": {},
   "source": [
    "nombre_infected      1062\n",
    "nombre_sain          2013\n",
    "nombre_exposed        627\n",
    "nombre_recovered    16298\n",
    "Name: 374, dtype: int64"
   ]
  },
  {
   "cell_type": "markdown",
   "id": "185dcc0e",
   "metadata": {},
   "source": [
    "nombre_infected      1066\n",
    "nombre_sain          1990\n",
    "nombre_exposed        616\n",
    "nombre_recovered    16328\n",
    "Name: 375, dtype: int64"
   ]
  },
  {
   "cell_type": "markdown",
   "id": "a9ef384d",
   "metadata": {},
   "source": [
    "nombre_infected      1049\n",
    "nombre_sain          1968\n",
    "nombre_exposed        631\n",
    "nombre_recovered    16352\n",
    "Name: 376, dtype: int64"
   ]
  },
  {
   "cell_type": "markdown",
   "id": "c227254e",
   "metadata": {},
   "source": [
    "nombre_infected      1063\n",
    "nombre_sain          1948\n",
    "nombre_exposed        617\n",
    "nombre_recovered    16372\n",
    "Name: 377, dtype: int64"
   ]
  },
  {
   "cell_type": "markdown",
   "id": "e9ff5a57",
   "metadata": {},
   "source": [
    "nombre_infected      1040\n",
    "nombre_sain          1923\n",
    "nombre_exposed        616\n",
    "nombre_recovered    16421\n",
    "Name: 378, dtype: int64"
   ]
  },
  {
   "cell_type": "markdown",
   "id": "42b02820",
   "metadata": {},
   "source": [
    "nombre_infected      1042\n",
    "nombre_sain          1948\n",
    "nombre_exposed        586\n",
    "nombre_recovered    16424\n",
    "Name: 379, dtype: int64"
   ]
  },
  {
   "cell_type": "markdown",
   "id": "d751eec5",
   "metadata": {},
   "source": [
    "nombre_infected      1036\n",
    "nombre_sain          1943\n",
    "nombre_exposed        589\n",
    "nombre_recovered    16432\n",
    "Name: 380, dtype: int64"
   ]
  },
  {
   "cell_type": "markdown",
   "id": "b3b206ee",
   "metadata": {},
   "source": [
    "nombre_infected      1024\n",
    "nombre_sain          1929\n",
    "nombre_exposed        604\n",
    "nombre_recovered    16443\n",
    "Name: 381, dtype: int64"
   ]
  },
  {
   "cell_type": "markdown",
   "id": "7003ecb3",
   "metadata": {},
   "source": [
    "nombre_infected      1001\n",
    "nombre_sain          1926\n",
    "nombre_exposed        604\n",
    "nombre_recovered    16469\n",
    "Name: 382, dtype: int64"
   ]
  },
  {
   "cell_type": "markdown",
   "id": "e043398d",
   "metadata": {},
   "source": [
    "nombre_infected       984\n",
    "nombre_sain          1928\n",
    "nombre_exposed        600\n",
    "nombre_recovered    16488\n",
    "Name: 383, dtype: int64"
   ]
  },
  {
   "cell_type": "markdown",
   "id": "d50089be",
   "metadata": {},
   "source": [
    "nombre_infected       994\n",
    "nombre_sain          1930\n",
    "nombre_exposed        579\n",
    "nombre_recovered    16497\n",
    "Name: 384, dtype: int64"
   ]
  },
  {
   "cell_type": "markdown",
   "id": "2e7e86af",
   "metadata": {},
   "source": [
    "nombre_infected       989\n",
    "nombre_sain          1905\n",
    "nombre_exposed        578\n",
    "nombre_recovered    16528\n",
    "Name: 385, dtype: int64"
   ]
  },
  {
   "cell_type": "markdown",
   "id": "99d6ac71",
   "metadata": {},
   "source": [
    "nombre_infected       983\n",
    "nombre_sain          1909\n",
    "nombre_exposed        580\n",
    "nombre_recovered    16528\n",
    "Name: 386, dtype: int64"
   ]
  },
  {
   "cell_type": "markdown",
   "id": "f589edb2",
   "metadata": {},
   "source": [
    "nombre_infected       972\n",
    "nombre_sain          1898\n",
    "nombre_exposed        575\n",
    "nombre_recovered    16555\n",
    "Name: 387, dtype: int64"
   ]
  },
  {
   "cell_type": "markdown",
   "id": "f36bf94b",
   "metadata": {},
   "source": [
    "nombre_infected       975\n",
    "nombre_sain          1911\n",
    "nombre_exposed        576\n",
    "nombre_recovered    16538\n",
    "Name: 388, dtype: int64"
   ]
  },
  {
   "cell_type": "markdown",
   "id": "67f8e0de",
   "metadata": {},
   "source": [
    "nombre_infected       998\n",
    "nombre_sain          1943\n",
    "nombre_exposed        543\n",
    "nombre_recovered    16516\n",
    "Name: 389, dtype: int64"
   ]
  },
  {
   "cell_type": "markdown",
   "id": "2d8e4619",
   "metadata": {},
   "source": [
    "nombre_infected       991\n",
    "nombre_sain          1922\n",
    "nombre_exposed        552\n",
    "nombre_recovered    16535\n",
    "Name: 390, dtype: int64"
   ]
  },
  {
   "cell_type": "markdown",
   "id": "f3aeec9f",
   "metadata": {},
   "source": [
    "nombre_infected       976\n",
    "nombre_sain          1917\n",
    "nombre_exposed        563\n",
    "nombre_recovered    16544\n",
    "Name: 391, dtype: int64"
   ]
  },
  {
   "cell_type": "markdown",
   "id": "c211147c",
   "metadata": {},
   "source": [
    "nombre_infected       985\n",
    "nombre_sain          1963\n",
    "nombre_exposed        515\n",
    "nombre_recovered    16537\n",
    "Name: 392, dtype: int64"
   ]
  },
  {
   "cell_type": "markdown",
   "id": "9a47b4a1",
   "metadata": {},
   "source": [
    "nombre_infected       984\n",
    "nombre_sain          2006\n",
    "nombre_exposed        500\n",
    "nombre_recovered    16510\n",
    "Name: 393, dtype: int64"
   ]
  },
  {
   "cell_type": "markdown",
   "id": "ad54a10d",
   "metadata": {},
   "source": [
    "nombre_infected       972\n",
    "nombre_sain          1991\n",
    "nombre_exposed        510\n",
    "nombre_recovered    16527\n",
    "Name: 394, dtype: int64"
   ]
  },
  {
   "cell_type": "markdown",
   "id": "26ae72b9",
   "metadata": {},
   "source": [
    "nombre_infected       956\n",
    "nombre_sain          2000\n",
    "nombre_exposed        539\n",
    "nombre_recovered    16505\n",
    "Name: 395, dtype: int64"
   ]
  },
  {
   "cell_type": "markdown",
   "id": "472994be",
   "metadata": {},
   "source": [
    "nombre_infected       951\n",
    "nombre_sain          2001\n",
    "nombre_exposed        535\n",
    "nombre_recovered    16513\n",
    "Name: 396, dtype: int64"
   ]
  },
  {
   "cell_type": "markdown",
   "id": "750f22bf",
   "metadata": {},
   "source": [
    "nombre_infected       946\n",
    "nombre_sain          2000\n",
    "nombre_exposed        540\n",
    "nombre_recovered    16514\n",
    "Name: 397, dtype: int64"
   ]
  },
  {
   "cell_type": "markdown",
   "id": "73bdc898",
   "metadata": {},
   "source": [
    "nombre_infected       958\n",
    "nombre_sain          2019\n",
    "nombre_exposed        545\n",
    "nombre_recovered    16478\n",
    "Name: 398, dtype: int64"
   ]
  },
  {
   "cell_type": "markdown",
   "id": "08285bbe",
   "metadata": {},
   "source": [
    "nombre_infected       978\n",
    "nombre_sain          2027\n",
    "nombre_exposed        528\n",
    "nombre_recovered    16467\n",
    "Name: 399, dtype: int64"
   ]
  },
  {
   "cell_type": "markdown",
   "id": "85a8c925",
   "metadata": {},
   "source": [
    "nombre_infected       972\n",
    "nombre_sain          2000\n",
    "nombre_exposed        544\n",
    "nombre_recovered    16484\n",
    "Name: 400, dtype: int64"
   ]
  },
  {
   "cell_type": "markdown",
   "id": "192b9d2d",
   "metadata": {},
   "source": [
    "nombre_infected       982\n",
    "nombre_sain          2014\n",
    "nombre_exposed        517\n",
    "nombre_recovered    16487\n",
    "Name: 401, dtype: int64"
   ]
  },
  {
   "cell_type": "markdown",
   "id": "69a98fc2",
   "metadata": {},
   "source": [
    "nombre_infected       975\n",
    "nombre_sain          1998\n",
    "nombre_exposed        512\n",
    "nombre_recovered    16515\n",
    "Name: 402, dtype: int64"
   ]
  },
  {
   "cell_type": "markdown",
   "id": "57ad7247",
   "metadata": {},
   "source": [
    "nombre_infected       948\n",
    "nombre_sain          2004\n",
    "nombre_exposed        526\n",
    "nombre_recovered    16522\n",
    "Name: 403, dtype: int64"
   ]
  },
  {
   "cell_type": "markdown",
   "id": "285a1730",
   "metadata": {},
   "source": [
    "nombre_infected       936\n",
    "nombre_sain          2004\n",
    "nombre_exposed        492\n",
    "nombre_recovered    16568\n",
    "Name: 404, dtype: int64"
   ]
  },
  {
   "cell_type": "markdown",
   "id": "f39a63a0",
   "metadata": {},
   "source": [
    "nombre_infected       936\n",
    "nombre_sain          1991\n",
    "nombre_exposed        488\n",
    "nombre_recovered    16585\n",
    "Name: 405, dtype: int64"
   ]
  },
  {
   "cell_type": "markdown",
   "id": "c42b0c9c",
   "metadata": {},
   "source": [
    "nombre_infected       914\n",
    "nombre_sain          2008\n",
    "nombre_exposed        467\n",
    "nombre_recovered    16611\n",
    "Name: 406, dtype: int64"
   ]
  },
  {
   "cell_type": "markdown",
   "id": "c8b84859",
   "metadata": {},
   "source": [
    "nombre_infected       899\n",
    "nombre_sain          1983\n",
    "nombre_exposed        479\n",
    "nombre_recovered    16639\n",
    "Name: 407, dtype: int64"
   ]
  },
  {
   "cell_type": "markdown",
   "id": "4fed1628",
   "metadata": {},
   "source": [
    "nombre_infected       880\n",
    "nombre_sain          1955\n",
    "nombre_exposed        494\n",
    "nombre_recovered    16671\n",
    "Name: 408, dtype: int64"
   ]
  },
  {
   "cell_type": "markdown",
   "id": "97289458",
   "metadata": {},
   "source": [
    "nombre_infected       869\n",
    "nombre_sain          1947\n",
    "nombre_exposed        486\n",
    "nombre_recovered    16698\n",
    "Name: 409, dtype: int64"
   ]
  },
  {
   "cell_type": "markdown",
   "id": "2d5302eb",
   "metadata": {},
   "source": [
    "nombre_infected       871\n",
    "nombre_sain          1947\n",
    "nombre_exposed        481\n",
    "nombre_recovered    16701\n",
    "Name: 410, dtype: int64"
   ]
  },
  {
   "cell_type": "markdown",
   "id": "42019b58",
   "metadata": {},
   "source": [
    "nombre_infected       873\n",
    "nombre_sain          1953\n",
    "nombre_exposed        446\n",
    "nombre_recovered    16728\n",
    "Name: 411, dtype: int64"
   ]
  },
  {
   "cell_type": "markdown",
   "id": "c1463317",
   "metadata": {},
   "source": [
    "nombre_infected       864\n",
    "nombre_sain          1961\n",
    "nombre_exposed        428\n",
    "nombre_recovered    16747\n",
    "Name: 412, dtype: int64"
   ]
  },
  {
   "cell_type": "markdown",
   "id": "2bfc8c90",
   "metadata": {},
   "source": [
    "nombre_infected       836\n",
    "nombre_sain          1957\n",
    "nombre_exposed        442\n",
    "nombre_recovered    16765\n",
    "Name: 413, dtype: int64"
   ]
  },
  {
   "cell_type": "markdown",
   "id": "927a15c9",
   "metadata": {},
   "source": [
    "nombre_infected       829\n",
    "nombre_sain          1968\n",
    "nombre_exposed        435\n",
    "nombre_recovered    16768\n",
    "Name: 414, dtype: int64"
   ]
  },
  {
   "cell_type": "markdown",
   "id": "8e44c639",
   "metadata": {},
   "source": [
    "nombre_infected       812\n",
    "nombre_sain          1998\n",
    "nombre_exposed        417\n",
    "nombre_recovered    16773\n",
    "Name: 415, dtype: int64"
   ]
  },
  {
   "cell_type": "markdown",
   "id": "50b1b416",
   "metadata": {},
   "source": [
    "nombre_infected       769\n",
    "nombre_sain          2011\n",
    "nombre_exposed        424\n",
    "nombre_recovered    16796\n",
    "Name: 416, dtype: int64"
   ]
  },
  {
   "cell_type": "markdown",
   "id": "806033e9",
   "metadata": {},
   "source": [
    "nombre_infected       775\n",
    "nombre_sain          2032\n",
    "nombre_exposed        399\n",
    "nombre_recovered    16794\n",
    "Name: 417, dtype: int64"
   ]
  },
  {
   "cell_type": "markdown",
   "id": "ce5943bb",
   "metadata": {},
   "source": [
    "nombre_infected       775\n",
    "nombre_sain          2072\n",
    "nombre_exposed        394\n",
    "nombre_recovered    16759\n",
    "Name: 418, dtype: int64"
   ]
  },
  {
   "cell_type": "markdown",
   "id": "cecbbdc9",
   "metadata": {},
   "source": [
    "nombre_infected       768\n",
    "nombre_sain          2108\n",
    "nombre_exposed        400\n",
    "nombre_recovered    16724\n",
    "Name: 419, dtype: int64"
   ]
  },
  {
   "cell_type": "markdown",
   "id": "776b7705",
   "metadata": {},
   "source": [
    "nombre_infected       766\n",
    "nombre_sain          2124\n",
    "nombre_exposed        395\n",
    "nombre_recovered    16715\n",
    "Name: 420, dtype: int64"
   ]
  },
  {
   "cell_type": "markdown",
   "id": "6c546a27",
   "metadata": {},
   "source": [
    "nombre_infected       762\n",
    "nombre_sain          2138\n",
    "nombre_exposed        397\n",
    "nombre_recovered    16703\n",
    "Name: 421, dtype: int64"
   ]
  },
  {
   "cell_type": "markdown",
   "id": "60d579de",
   "metadata": {},
   "source": [
    "nombre_infected       750\n",
    "nombre_sain          2171\n",
    "nombre_exposed        411\n",
    "nombre_recovered    16668\n",
    "Name: 422, dtype: int64"
   ]
  },
  {
   "cell_type": "markdown",
   "id": "87c6088e",
   "metadata": {},
   "source": [
    "nombre_infected       741\n",
    "nombre_sain          2172\n",
    "nombre_exposed        405\n",
    "nombre_recovered    16682\n",
    "Name: 423, dtype: int64"
   ]
  },
  {
   "cell_type": "markdown",
   "id": "612dcc08",
   "metadata": {},
   "source": [
    "nombre_infected       723\n",
    "nombre_sain          2191\n",
    "nombre_exposed        426\n",
    "nombre_recovered    16660\n",
    "Name: 424, dtype: int64"
   ]
  },
  {
   "cell_type": "markdown",
   "id": "585ce4c3",
   "metadata": {},
   "source": [
    "nombre_infected       716\n",
    "nombre_sain          2206\n",
    "nombre_exposed        429\n",
    "nombre_recovered    16649\n",
    "Name: 425, dtype: int64"
   ]
  },
  {
   "cell_type": "markdown",
   "id": "c3fe8f61",
   "metadata": {},
   "source": [
    "nombre_infected       717\n",
    "nombre_sain          2195\n",
    "nombre_exposed        428\n",
    "nombre_recovered    16660\n",
    "Name: 426, dtype: int64"
   ]
  },
  {
   "cell_type": "markdown",
   "id": "b8fd8848",
   "metadata": {},
   "source": [
    "nombre_infected       695\n",
    "nombre_sain          2190\n",
    "nombre_exposed        427\n",
    "nombre_recovered    16688\n",
    "Name: 427, dtype: int64"
   ]
  },
  {
   "cell_type": "markdown",
   "id": "cb42c309",
   "metadata": {},
   "source": [
    "nombre_infected       697\n",
    "nombre_sain          2203\n",
    "nombre_exposed        426\n",
    "nombre_recovered    16674\n",
    "Name: 428, dtype: int64"
   ]
  },
  {
   "cell_type": "markdown",
   "id": "0d861a80",
   "metadata": {},
   "source": [
    "nombre_infected       700\n",
    "nombre_sain          2228\n",
    "nombre_exposed        400\n",
    "nombre_recovered    16672\n",
    "Name: 429, dtype: int64"
   ]
  },
  {
   "cell_type": "markdown",
   "id": "756499e9",
   "metadata": {},
   "source": [
    "nombre_infected       704\n",
    "nombre_sain          2232\n",
    "nombre_exposed        396\n",
    "nombre_recovered    16668\n",
    "Name: 430, dtype: int64"
   ]
  },
  {
   "cell_type": "markdown",
   "id": "65a478a1",
   "metadata": {},
   "source": [
    "nombre_infected       716\n",
    "nombre_sain          2226\n",
    "nombre_exposed        411\n",
    "nombre_recovered    16647\n",
    "Name: 431, dtype: int64"
   ]
  },
  {
   "cell_type": "markdown",
   "id": "9b1bfb56",
   "metadata": {},
   "source": [
    "nombre_infected       699\n",
    "nombre_sain          2223\n",
    "nombre_exposed        418\n",
    "nombre_recovered    16660\n",
    "Name: 432, dtype: int64"
   ]
  },
  {
   "cell_type": "markdown",
   "id": "b8236b7c",
   "metadata": {},
   "source": [
    "nombre_infected       708\n",
    "nombre_sain          2224\n",
    "nombre_exposed        405\n",
    "nombre_recovered    16663\n",
    "Name: 433, dtype: int64"
   ]
  },
  {
   "cell_type": "markdown",
   "id": "0941ec6f",
   "metadata": {},
   "source": [
    "nombre_infected       717\n",
    "nombre_sain          2230\n",
    "nombre_exposed        394\n",
    "nombre_recovered    16659\n",
    "Name: 434, dtype: int64"
   ]
  },
  {
   "cell_type": "markdown",
   "id": "de0fbc84",
   "metadata": {},
   "source": [
    "nombre_infected       707\n",
    "nombre_sain          2245\n",
    "nombre_exposed        394\n",
    "nombre_recovered    16654\n",
    "Name: 435, dtype: int64"
   ]
  },
  {
   "cell_type": "markdown",
   "id": "ae92a485",
   "metadata": {},
   "source": [
    "nombre_infected       692\n",
    "nombre_sain          2269\n",
    "nombre_exposed        409\n",
    "nombre_recovered    16630\n",
    "Name: 436, dtype: int64"
   ]
  },
  {
   "cell_type": "markdown",
   "id": "d9ec2912",
   "metadata": {},
   "source": [
    "nombre_infected       711\n",
    "nombre_sain          2272\n",
    "nombre_exposed        405\n",
    "nombre_recovered    16612\n",
    "Name: 437, dtype: int64"
   ]
  },
  {
   "cell_type": "markdown",
   "id": "0c86e6d3",
   "metadata": {},
   "source": [
    "nombre_infected       700\n",
    "nombre_sain          2280\n",
    "nombre_exposed        404\n",
    "nombre_recovered    16616\n",
    "Name: 438, dtype: int64"
   ]
  },
  {
   "cell_type": "markdown",
   "id": "d12f9165",
   "metadata": {},
   "source": [
    "nombre_infected       719\n",
    "nombre_sain          2255\n",
    "nombre_exposed        402\n",
    "nombre_recovered    16624\n",
    "Name: 439, dtype: int64"
   ]
  },
  {
   "cell_type": "markdown",
   "id": "11899862",
   "metadata": {},
   "source": [
    "nombre_infected       712\n",
    "nombre_sain          2264\n",
    "nombre_exposed        424\n",
    "nombre_recovered    16600\n",
    "Name: 440, dtype: int64"
   ]
  },
  {
   "cell_type": "markdown",
   "id": "c900c3e3",
   "metadata": {},
   "source": [
    "nombre_infected       728\n",
    "nombre_sain          2269\n",
    "nombre_exposed        419\n",
    "nombre_recovered    16584\n",
    "Name: 441, dtype: int64"
   ]
  },
  {
   "cell_type": "markdown",
   "id": "0da1a58a",
   "metadata": {},
   "source": [
    "nombre_infected       724\n",
    "nombre_sain          2310\n",
    "nombre_exposed        421\n",
    "nombre_recovered    16545\n",
    "Name: 442, dtype: int64"
   ]
  },
  {
   "cell_type": "markdown",
   "id": "4eb603fb",
   "metadata": {},
   "source": [
    "nombre_infected       704\n",
    "nombre_sain          2352\n",
    "nombre_exposed        425\n",
    "nombre_recovered    16519\n",
    "Name: 443, dtype: int64"
   ]
  },
  {
   "cell_type": "markdown",
   "id": "e1be6194",
   "metadata": {},
   "source": [
    "nombre_infected       716\n",
    "nombre_sain          2380\n",
    "nombre_exposed        415\n",
    "nombre_recovered    16489\n",
    "Name: 444, dtype: int64"
   ]
  },
  {
   "cell_type": "markdown",
   "id": "c3a9200d",
   "metadata": {},
   "source": [
    "nombre_infected       740\n",
    "nombre_sain          2420\n",
    "nombre_exposed        390\n",
    "nombre_recovered    16450\n",
    "Name: 445, dtype: int64"
   ]
  },
  {
   "cell_type": "markdown",
   "id": "3ced00c1",
   "metadata": {},
   "source": [
    "nombre_infected       721\n",
    "nombre_sain          2440\n",
    "nombre_exposed        412\n",
    "nombre_recovered    16427\n",
    "Name: 446, dtype: int64"
   ]
  },
  {
   "cell_type": "markdown",
   "id": "cdab70a3",
   "metadata": {},
   "source": [
    "nombre_infected       721\n",
    "nombre_sain          2467\n",
    "nombre_exposed        430\n",
    "nombre_recovered    16382\n",
    "Name: 447, dtype: int64"
   ]
  },
  {
   "cell_type": "markdown",
   "id": "81a23285",
   "metadata": {},
   "source": [
    "nombre_infected       719\n",
    "nombre_sain          2497\n",
    "nombre_exposed        442\n",
    "nombre_recovered    16342\n",
    "Name: 448, dtype: int64"
   ]
  },
  {
   "cell_type": "markdown",
   "id": "9e10a56e",
   "metadata": {},
   "source": [
    "nombre_infected       710\n",
    "nombre_sain          2540\n",
    "nombre_exposed        423\n",
    "nombre_recovered    16327\n",
    "Name: 449, dtype: int64"
   ]
  },
  {
   "cell_type": "markdown",
   "id": "2c18dcb2",
   "metadata": {},
   "source": [
    "nombre_infected       717\n",
    "nombre_sain          2561\n",
    "nombre_exposed        414\n",
    "nombre_recovered    16308\n",
    "Name: 450, dtype: int64"
   ]
  },
  {
   "cell_type": "markdown",
   "id": "82b62713",
   "metadata": {},
   "source": [
    "nombre_infected       704\n",
    "nombre_sain          2607\n",
    "nombre_exposed        415\n",
    "nombre_recovered    16274\n",
    "Name: 451, dtype: int64"
   ]
  },
  {
   "cell_type": "markdown",
   "id": "970f4fc2",
   "metadata": {},
   "source": [
    "nombre_infected       732\n",
    "nombre_sain          2617\n",
    "nombre_exposed        420\n",
    "nombre_recovered    16231\n",
    "Name: 452, dtype: int64"
   ]
  },
  {
   "cell_type": "markdown",
   "id": "6e258106",
   "metadata": {},
   "source": [
    "nombre_infected       718\n",
    "nombre_sain          2605\n",
    "nombre_exposed        456\n",
    "nombre_recovered    16221\n",
    "Name: 453, dtype: int64"
   ]
  },
  {
   "cell_type": "markdown",
   "id": "b20a03fc",
   "metadata": {},
   "source": [
    "nombre_infected       726\n",
    "nombre_sain          2616\n",
    "nombre_exposed        470\n",
    "nombre_recovered    16188\n",
    "Name: 454, dtype: int64"
   ]
  },
  {
   "cell_type": "markdown",
   "id": "50946ff5",
   "metadata": {},
   "source": [
    "nombre_infected       742\n",
    "nombre_sain          2594\n",
    "nombre_exposed        501\n",
    "nombre_recovered    16163\n",
    "Name: 455, dtype: int64"
   ]
  },
  {
   "cell_type": "markdown",
   "id": "82a71da2",
   "metadata": {},
   "source": [
    "nombre_infected       747\n",
    "nombre_sain          2588\n",
    "nombre_exposed        512\n",
    "nombre_recovered    16153\n",
    "Name: 456, dtype: int64"
   ]
  },
  {
   "cell_type": "markdown",
   "id": "68022188",
   "metadata": {},
   "source": [
    "nombre_infected       772\n",
    "nombre_sain          2585\n",
    "nombre_exposed        495\n",
    "nombre_recovered    16148\n",
    "Name: 457, dtype: int64"
   ]
  },
  {
   "cell_type": "markdown",
   "id": "1e7ae076",
   "metadata": {},
   "source": [
    "nombre_infected       811\n",
    "nombre_sain          2579\n",
    "nombre_exposed        495\n",
    "nombre_recovered    16115\n",
    "Name: 458, dtype: int64"
   ]
  },
  {
   "cell_type": "markdown",
   "id": "83c92417",
   "metadata": {},
   "source": [
    "nombre_infected       815\n",
    "nombre_sain          2530\n",
    "nombre_exposed        519\n",
    "nombre_recovered    16136\n",
    "Name: 459, dtype: int64"
   ]
  },
  {
   "cell_type": "markdown",
   "id": "5e2ada2c",
   "metadata": {},
   "source": [
    "nombre_infected       823\n",
    "nombre_sain          2494\n",
    "nombre_exposed        544\n",
    "nombre_recovered    16139\n",
    "Name: 460, dtype: int64"
   ]
  },
  {
   "cell_type": "markdown",
   "id": "0c30d5f3",
   "metadata": {},
   "source": [
    "nombre_infected       839\n",
    "nombre_sain          2478\n",
    "nombre_exposed        546\n",
    "nombre_recovered    16137\n",
    "Name: 461, dtype: int64"
   ]
  },
  {
   "cell_type": "markdown",
   "id": "9c90ea31",
   "metadata": {},
   "source": [
    "nombre_infected       865\n",
    "nombre_sain          2443\n",
    "nombre_exposed        560\n",
    "nombre_recovered    16132\n",
    "Name: 462, dtype: int64"
   ]
  },
  {
   "cell_type": "markdown",
   "id": "ca4bf439",
   "metadata": {},
   "source": [
    "nombre_infected       878\n",
    "nombre_sain          2422\n",
    "nombre_exposed        549\n",
    "nombre_recovered    16151\n",
    "Name: 463, dtype: int64"
   ]
  },
  {
   "cell_type": "markdown",
   "id": "fda3f8c7",
   "metadata": {},
   "source": [
    "nombre_infected       883\n",
    "nombre_sain          2417\n",
    "nombre_exposed        542\n",
    "nombre_recovered    16158\n",
    "Name: 464, dtype: int64"
   ]
  },
  {
   "cell_type": "markdown",
   "id": "03a089d3",
   "metadata": {},
   "source": [
    "nombre_infected       900\n",
    "nombre_sain          2414\n",
    "nombre_exposed        541\n",
    "nombre_recovered    16145\n",
    "Name: 465, dtype: int64"
   ]
  },
  {
   "cell_type": "markdown",
   "id": "b7ba1e8f",
   "metadata": {},
   "source": [
    "nombre_infected       904\n",
    "nombre_sain          2414\n",
    "nombre_exposed        543\n",
    "nombre_recovered    16139\n",
    "Name: 466, dtype: int64"
   ]
  },
  {
   "cell_type": "markdown",
   "id": "7c80c379",
   "metadata": {},
   "source": [
    "nombre_infected       916\n",
    "nombre_sain          2385\n",
    "nombre_exposed        553\n",
    "nombre_recovered    16146\n",
    "Name: 467, dtype: int64"
   ]
  },
  {
   "cell_type": "markdown",
   "id": "12c6d5bd",
   "metadata": {},
   "source": [
    "nombre_infected       924\n",
    "nombre_sain          2379\n",
    "nombre_exposed        586\n",
    "nombre_recovered    16111\n",
    "Name: 468, dtype: int64"
   ]
  },
  {
   "cell_type": "markdown",
   "id": "0780af86",
   "metadata": {},
   "source": [
    "nombre_infected       944\n",
    "nombre_sain          2375\n",
    "nombre_exposed        588\n",
    "nombre_recovered    16093\n",
    "Name: 469, dtype: int64"
   ]
  },
  {
   "cell_type": "markdown",
   "id": "b3055d9c",
   "metadata": {},
   "source": [
    "nombre_infected       944\n",
    "nombre_sain          2366\n",
    "nombre_exposed        600\n",
    "nombre_recovered    16090\n",
    "Name: 470, dtype: int64"
   ]
  },
  {
   "cell_type": "markdown",
   "id": "74e20190",
   "metadata": {},
   "source": [
    "nombre_infected       977\n",
    "nombre_sain          2349\n",
    "nombre_exposed        585\n",
    "nombre_recovered    16089\n",
    "Name: 471, dtype: int64"
   ]
  },
  {
   "cell_type": "markdown",
   "id": "98fef9fc",
   "metadata": {},
   "source": [
    "nombre_infected       983\n",
    "nombre_sain          2332\n",
    "nombre_exposed        598\n",
    "nombre_recovered    16087\n",
    "Name: 472, dtype: int64"
   ]
  },
  {
   "cell_type": "markdown",
   "id": "3ba45490",
   "metadata": {},
   "source": [
    "nombre_infected       972\n",
    "nombre_sain          2307\n",
    "nombre_exposed        633\n",
    "nombre_recovered    16088\n",
    "Name: 473, dtype: int64"
   ]
  },
  {
   "cell_type": "markdown",
   "id": "191dd028",
   "metadata": {},
   "source": [
    "nombre_infected       994\n",
    "nombre_sain          2290\n",
    "nombre_exposed        640\n",
    "nombre_recovered    16076\n",
    "Name: 474, dtype: int64"
   ]
  },
  {
   "cell_type": "markdown",
   "id": "90a2c3cf",
   "metadata": {},
   "source": [
    "nombre_infected      1020\n",
    "nombre_sain          2291\n",
    "nombre_exposed        612\n",
    "nombre_recovered    16077\n",
    "Name: 475, dtype: int64"
   ]
  },
  {
   "cell_type": "markdown",
   "id": "af7819e7",
   "metadata": {},
   "source": [
    "nombre_infected      1036\n",
    "nombre_sain          2278\n",
    "nombre_exposed        617\n",
    "nombre_recovered    16069\n",
    "Name: 476, dtype: int64"
   ]
  },
  {
   "cell_type": "markdown",
   "id": "ad6b3027",
   "metadata": {},
   "source": [
    "nombre_infected      1040\n",
    "nombre_sain          2257\n",
    "nombre_exposed        630\n",
    "nombre_recovered    16073\n",
    "Name: 477, dtype: int64"
   ]
  },
  {
   "cell_type": "markdown",
   "id": "8995b09b",
   "metadata": {},
   "source": [
    "nombre_infected      1051\n",
    "nombre_sain          2234\n",
    "nombre_exposed        628\n",
    "nombre_recovered    16087\n",
    "Name: 478, dtype: int64"
   ]
  },
  {
   "cell_type": "markdown",
   "id": "9008178a",
   "metadata": {},
   "source": [
    "nombre_infected      1064\n",
    "nombre_sain          2211\n",
    "nombre_exposed        640\n",
    "nombre_recovered    16085\n",
    "Name: 479, dtype: int64"
   ]
  },
  {
   "cell_type": "markdown",
   "id": "673d93db",
   "metadata": {},
   "source": [
    "nombre_infected      1068\n",
    "nombre_sain          2180\n",
    "nombre_exposed        633\n",
    "nombre_recovered    16119\n",
    "Name: 480, dtype: int64"
   ]
  },
  {
   "cell_type": "markdown",
   "id": "e2443a3a",
   "metadata": {},
   "source": [
    "nombre_infected      1086\n",
    "nombre_sain          2164\n",
    "nombre_exposed        630\n",
    "nombre_recovered    16120\n",
    "Name: 481, dtype: int64"
   ]
  },
  {
   "cell_type": "markdown",
   "id": "5113fd4d",
   "metadata": {},
   "source": [
    "nombre_infected      1097\n",
    "nombre_sain          2142\n",
    "nombre_exposed        609\n",
    "nombre_recovered    16152\n",
    "Name: 482, dtype: int64"
   ]
  },
  {
   "cell_type": "markdown",
   "id": "092149a5",
   "metadata": {},
   "source": [
    "nombre_infected      1116\n",
    "nombre_sain          2130\n",
    "nombre_exposed        600\n",
    "nombre_recovered    16154\n",
    "Name: 483, dtype: int64"
   ]
  },
  {
   "cell_type": "markdown",
   "id": "6cbc0dc1",
   "metadata": {},
   "source": [
    "nombre_infected      1124\n",
    "nombre_sain          2098\n",
    "nombre_exposed        599\n",
    "nombre_recovered    16179\n",
    "Name: 484, dtype: int64"
   ]
  },
  {
   "cell_type": "markdown",
   "id": "7311e993",
   "metadata": {},
   "source": [
    "nombre_infected      1112\n",
    "nombre_sain          2057\n",
    "nombre_exposed        632\n",
    "nombre_recovered    16199\n",
    "Name: 485, dtype: int64"
   ]
  },
  {
   "cell_type": "markdown",
   "id": "fee16663",
   "metadata": {},
   "source": [
    "nombre_infected      1118\n",
    "nombre_sain          2017\n",
    "nombre_exposed        656\n",
    "nombre_recovered    16209\n",
    "Name: 486, dtype: int64"
   ]
  },
  {
   "cell_type": "markdown",
   "id": "2a0e3562",
   "metadata": {},
   "source": [
    "nombre_infected      1126\n",
    "nombre_sain          2004\n",
    "nombre_exposed        640\n",
    "nombre_recovered    16230\n",
    "Name: 487, dtype: int64"
   ]
  },
  {
   "cell_type": "markdown",
   "id": "e4e51f32",
   "metadata": {},
   "source": [
    "nombre_infected      1133\n",
    "nombre_sain          1984\n",
    "nombre_exposed        635\n",
    "nombre_recovered    16248\n",
    "Name: 488, dtype: int64"
   ]
  },
  {
   "cell_type": "markdown",
   "id": "7bb646ed",
   "metadata": {},
   "source": [
    "nombre_infected      1110\n",
    "nombre_sain          1965\n",
    "nombre_exposed        634\n",
    "nombre_recovered    16291\n",
    "Name: 489, dtype: int64"
   ]
  },
  {
   "cell_type": "markdown",
   "id": "4493b6ed",
   "metadata": {},
   "source": [
    "nombre_infected      1116\n",
    "nombre_sain          1947\n",
    "nombre_exposed        629\n",
    "nombre_recovered    16308\n",
    "Name: 490, dtype: int64"
   ]
  },
  {
   "cell_type": "markdown",
   "id": "fbfcc959",
   "metadata": {},
   "source": [
    "nombre_infected      1132\n",
    "nombre_sain          1916\n",
    "nombre_exposed        602\n",
    "nombre_recovered    16350\n",
    "Name: 491, dtype: int64"
   ]
  },
  {
   "cell_type": "markdown",
   "id": "76f34d00",
   "metadata": {},
   "source": [
    "nombre_infected      1128\n",
    "nombre_sain          1903\n",
    "nombre_exposed        592\n",
    "nombre_recovered    16377\n",
    "Name: 492, dtype: int64"
   ]
  },
  {
   "cell_type": "markdown",
   "id": "78a73888",
   "metadata": {},
   "source": [
    "nombre_infected      1116\n",
    "nombre_sain          1894\n",
    "nombre_exposed        565\n",
    "nombre_recovered    16425\n",
    "Name: 493, dtype: int64"
   ]
  },
  {
   "cell_type": "markdown",
   "id": "d80ee986",
   "metadata": {},
   "source": [
    "nombre_infected      1119\n",
    "nombre_sain          1871\n",
    "nombre_exposed        566\n",
    "nombre_recovered    16444\n",
    "Name: 494, dtype: int64"
   ]
  },
  {
   "cell_type": "markdown",
   "id": "d595a4ff",
   "metadata": {},
   "source": [
    "nombre_infected      1110\n",
    "nombre_sain          1864\n",
    "nombre_exposed        540\n",
    "nombre_recovered    16486\n",
    "Name: 495, dtype: int64"
   ]
  },
  {
   "cell_type": "markdown",
   "id": "942a4ba5",
   "metadata": {},
   "source": [
    "nombre_infected      1094\n",
    "nombre_sain          1847\n",
    "nombre_exposed        530\n",
    "nombre_recovered    16529\n",
    "Name: 496, dtype: int64"
   ]
  },
  {
   "cell_type": "markdown",
   "id": "01287e0a",
   "metadata": {},
   "source": [
    "nombre_infected      1077\n",
    "nombre_sain          1848\n",
    "nombre_exposed        522\n",
    "nombre_recovered    16553\n",
    "Name: 497, dtype: int64"
   ]
  },
  {
   "cell_type": "markdown",
   "id": "020c0a34",
   "metadata": {},
   "source": [
    "nombre_infected      1053\n",
    "nombre_sain          1859\n",
    "nombre_exposed        511\n",
    "nombre_recovered    16577\n",
    "Name: 498, dtype: int64"
   ]
  },
  {
   "cell_type": "markdown",
   "id": "7b2bd0c7",
   "metadata": {},
   "source": [
    "nombre_infected      1023\n",
    "nombre_sain          1845\n",
    "nombre_exposed        529\n",
    "nombre_recovered    16603\n",
    "Name: 499, dtype: int64"
   ]
  },
  {
   "cell_type": "markdown",
   "id": "3de188f6",
   "metadata": {},
   "source": [
    "nombre_infected      1010\n",
    "nombre_sain          1852\n",
    "nombre_exposed        523\n",
    "nombre_recovered    16615\n",
    "Name: 500, dtype: int64"
   ]
  },
  {
   "cell_type": "markdown",
   "id": "25101686",
   "metadata": {},
   "source": [
    "nombre_infected       996\n",
    "nombre_sain          1844\n",
    "nombre_exposed        521\n",
    "nombre_recovered    16639\n",
    "Name: 501, dtype: int64"
   ]
  },
  {
   "cell_type": "markdown",
   "id": "0f4070fd",
   "metadata": {},
   "source": [
    "nombre_infected       988\n",
    "nombre_sain          1860\n",
    "nombre_exposed        506\n",
    "nombre_recovered    16646\n",
    "Name: 502, dtype: int64"
   ]
  },
  {
   "cell_type": "markdown",
   "id": "2dee6e45",
   "metadata": {},
   "source": [
    "nombre_infected       969\n",
    "nombre_sain          1864\n",
    "nombre_exposed        508\n",
    "nombre_recovered    16659\n",
    "Name: 503, dtype: int64"
   ]
  },
  {
   "cell_type": "markdown",
   "id": "7137ca79",
   "metadata": {},
   "source": [
    "nombre_infected       970\n",
    "nombre_sain          1854\n",
    "nombre_exposed        511\n",
    "nombre_recovered    16665\n",
    "Name: 504, dtype: int64"
   ]
  },
  {
   "cell_type": "markdown",
   "id": "c63bb3cf",
   "metadata": {},
   "source": [
    "nombre_infected       985\n",
    "nombre_sain          1873\n",
    "nombre_exposed        483\n",
    "nombre_recovered    16659\n",
    "Name: 505, dtype: int64"
   ]
  },
  {
   "cell_type": "markdown",
   "id": "0619450d",
   "metadata": {},
   "source": [
    "nombre_infected       960\n",
    "nombre_sain          1866\n",
    "nombre_exposed        490\n",
    "nombre_recovered    16684\n",
    "Name: 506, dtype: int64"
   ]
  },
  {
   "cell_type": "markdown",
   "id": "5e2e2804",
   "metadata": {},
   "source": [
    "nombre_infected       953\n",
    "nombre_sain          1885\n",
    "nombre_exposed        465\n",
    "nombre_recovered    16697\n",
    "Name: 507, dtype: int64"
   ]
  },
  {
   "cell_type": "markdown",
   "id": "da19f564",
   "metadata": {},
   "source": [
    "nombre_infected       935\n",
    "nombre_sain          1912\n",
    "nombre_exposed        457\n",
    "nombre_recovered    16696\n",
    "Name: 508, dtype: int64"
   ]
  },
  {
   "cell_type": "markdown",
   "id": "1d7a54d1",
   "metadata": {},
   "source": [
    "nombre_infected       917\n",
    "nombre_sain          1920\n",
    "nombre_exposed        452\n",
    "nombre_recovered    16711\n",
    "Name: 509, dtype: int64"
   ]
  },
  {
   "cell_type": "markdown",
   "id": "650c4730",
   "metadata": {},
   "source": [
    "nombre_infected       904\n",
    "nombre_sain          1933\n",
    "nombre_exposed        444\n",
    "nombre_recovered    16719\n",
    "Name: 510, dtype: int64"
   ]
  },
  {
   "cell_type": "markdown",
   "id": "018f2446",
   "metadata": {},
   "source": [
    "nombre_infected       898\n",
    "nombre_sain          1962\n",
    "nombre_exposed        452\n",
    "nombre_recovered    16688\n",
    "Name: 511, dtype: int64"
   ]
  },
  {
   "cell_type": "markdown",
   "id": "c9d72c62",
   "metadata": {},
   "source": [
    "nombre_infected       854\n",
    "nombre_sain          1968\n",
    "nombre_exposed        461\n",
    "nombre_recovered    16717\n",
    "Name: 512, dtype: int64"
   ]
  },
  {
   "cell_type": "markdown",
   "id": "9934e105",
   "metadata": {},
   "source": [
    "nombre_infected       821\n",
    "nombre_sain          1980\n",
    "nombre_exposed        458\n",
    "nombre_recovered    16741\n",
    "Name: 513, dtype: int64"
   ]
  },
  {
   "cell_type": "markdown",
   "id": "e770841b",
   "metadata": {},
   "source": [
    "nombre_infected       826\n",
    "nombre_sain          1942\n",
    "nombre_exposed        483\n",
    "nombre_recovered    16749\n",
    "Name: 514, dtype: int64"
   ]
  },
  {
   "cell_type": "markdown",
   "id": "7ac8e2a9",
   "metadata": {},
   "source": [
    "nombre_infected       822\n",
    "nombre_sain          1942\n",
    "nombre_exposed        478\n",
    "nombre_recovered    16758\n",
    "Name: 515, dtype: int64"
   ]
  },
  {
   "cell_type": "markdown",
   "id": "253c9349",
   "metadata": {},
   "source": [
    "nombre_infected       824\n",
    "nombre_sain          1965\n",
    "nombre_exposed        451\n",
    "nombre_recovered    16760\n",
    "Name: 516, dtype: int64"
   ]
  },
  {
   "cell_type": "markdown",
   "id": "98586e9a",
   "metadata": {},
   "source": [
    "nombre_infected       817\n",
    "nombre_sain          1988\n",
    "nombre_exposed        444\n",
    "nombre_recovered    16751\n",
    "Name: 517, dtype: int64"
   ]
  },
  {
   "cell_type": "markdown",
   "id": "a37ae9d2",
   "metadata": {},
   "source": [
    "nombre_infected       817\n",
    "nombre_sain          1998\n",
    "nombre_exposed        444\n",
    "nombre_recovered    16741\n",
    "Name: 518, dtype: int64"
   ]
  },
  {
   "cell_type": "markdown",
   "id": "2780c22d",
   "metadata": {},
   "source": [
    "nombre_infected       817\n",
    "nombre_sain          2013\n",
    "nombre_exposed        433\n",
    "nombre_recovered    16737\n",
    "Name: 519, dtype: int64"
   ]
  },
  {
   "cell_type": "markdown",
   "id": "c2dca01d",
   "metadata": {},
   "source": [
    "nombre_infected       837\n",
    "nombre_sain          2024\n",
    "nombre_exposed        415\n",
    "nombre_recovered    16724\n",
    "Name: 520, dtype: int64"
   ]
  },
  {
   "cell_type": "markdown",
   "id": "cece8e7a",
   "metadata": {},
   "source": [
    "nombre_infected       835\n",
    "nombre_sain          2029\n",
    "nombre_exposed        401\n",
    "nombre_recovered    16735\n",
    "Name: 521, dtype: int64"
   ]
  },
  {
   "cell_type": "markdown",
   "id": "5722834c",
   "metadata": {},
   "source": [
    "nombre_infected       803\n",
    "nombre_sain          2031\n",
    "nombre_exposed        435\n",
    "nombre_recovered    16731\n",
    "Name: 522, dtype: int64"
   ]
  },
  {
   "cell_type": "markdown",
   "id": "94d1deb2",
   "metadata": {},
   "source": [
    "nombre_infected       795\n",
    "nombre_sain          2089\n",
    "nombre_exposed        419\n",
    "nombre_recovered    16697\n",
    "Name: 523, dtype: int64"
   ]
  },
  {
   "cell_type": "markdown",
   "id": "e79d5187",
   "metadata": {},
   "source": [
    "nombre_infected       779\n",
    "nombre_sain          2108\n",
    "nombre_exposed        422\n",
    "nombre_recovered    16691\n",
    "Name: 524, dtype: int64"
   ]
  },
  {
   "cell_type": "markdown",
   "id": "e155c415",
   "metadata": {},
   "source": [
    "nombre_infected       749\n",
    "nombre_sain          2123\n",
    "nombre_exposed        427\n",
    "nombre_recovered    16701\n",
    "Name: 525, dtype: int64"
   ]
  },
  {
   "cell_type": "markdown",
   "id": "2966831e",
   "metadata": {},
   "source": [
    "nombre_infected       747\n",
    "nombre_sain          2149\n",
    "nombre_exposed        428\n",
    "nombre_recovered    16676\n",
    "Name: 526, dtype: int64"
   ]
  },
  {
   "cell_type": "markdown",
   "id": "a0f6c102",
   "metadata": {},
   "source": [
    "nombre_infected       741\n",
    "nombre_sain          2166\n",
    "nombre_exposed        447\n",
    "nombre_recovered    16646\n",
    "Name: 527, dtype: int64"
   ]
  },
  {
   "cell_type": "markdown",
   "id": "5a85704f",
   "metadata": {},
   "source": [
    "nombre_infected       742\n",
    "nombre_sain          2198\n",
    "nombre_exposed        443\n",
    "nombre_recovered    16617\n",
    "Name: 528, dtype: int64"
   ]
  },
  {
   "cell_type": "markdown",
   "id": "9b234ead",
   "metadata": {},
   "source": [
    "nombre_infected       738\n",
    "nombre_sain          2204\n",
    "nombre_exposed        457\n",
    "nombre_recovered    16601\n",
    "Name: 529, dtype: int64"
   ]
  },
  {
   "cell_type": "markdown",
   "id": "18716dbc",
   "metadata": {},
   "source": [
    "nombre_infected       746\n",
    "nombre_sain          2236\n",
    "nombre_exposed        442\n",
    "nombre_recovered    16576\n",
    "Name: 530, dtype: int64"
   ]
  },
  {
   "cell_type": "markdown",
   "id": "dc2c5ded",
   "metadata": {},
   "source": [
    "nombre_infected       751\n",
    "nombre_sain          2252\n",
    "nombre_exposed        451\n",
    "nombre_recovered    16546\n",
    "Name: 531, dtype: int64"
   ]
  },
  {
   "cell_type": "markdown",
   "id": "9d353a93",
   "metadata": {},
   "source": [
    "nombre_infected       751\n",
    "nombre_sain          2257\n",
    "nombre_exposed        451\n",
    "nombre_recovered    16541\n",
    "Name: 532, dtype: int64"
   ]
  },
  {
   "cell_type": "markdown",
   "id": "a2ee6760",
   "metadata": {},
   "source": [
    "nombre_infected       754\n",
    "nombre_sain          2248\n",
    "nombre_exposed        468\n",
    "nombre_recovered    16530\n",
    "Name: 533, dtype: int64"
   ]
  },
  {
   "cell_type": "markdown",
   "id": "24f465d6",
   "metadata": {},
   "source": [
    "nombre_infected       764\n",
    "nombre_sain          2262\n",
    "nombre_exposed        469\n",
    "nombre_recovered    16505\n",
    "Name: 534, dtype: int64"
   ]
  },
  {
   "cell_type": "markdown",
   "id": "d3d630b4",
   "metadata": {},
   "source": [
    "nombre_infected       779\n",
    "nombre_sain          2278\n",
    "nombre_exposed        474\n",
    "nombre_recovered    16469\n",
    "Name: 535, dtype: int64"
   ]
  },
  {
   "cell_type": "markdown",
   "id": "df699bd5",
   "metadata": {},
   "source": [
    "nombre_infected       778\n",
    "nombre_sain          2287\n",
    "nombre_exposed        477\n",
    "nombre_recovered    16458\n",
    "Name: 536, dtype: int64"
   ]
  },
  {
   "cell_type": "markdown",
   "id": "e15217df",
   "metadata": {},
   "source": [
    "nombre_infected       745\n",
    "nombre_sain          2305\n",
    "nombre_exposed        494\n",
    "nombre_recovered    16456\n",
    "Name: 537, dtype: int64"
   ]
  },
  {
   "cell_type": "markdown",
   "id": "65eab593",
   "metadata": {},
   "source": [
    "nombre_infected       791\n",
    "nombre_sain          2303\n",
    "nombre_exposed        477\n",
    "nombre_recovered    16429\n",
    "Name: 538, dtype: int64"
   ]
  },
  {
   "cell_type": "markdown",
   "id": "c1dee39a",
   "metadata": {},
   "source": [
    "nombre_infected       776\n",
    "nombre_sain          2314\n",
    "nombre_exposed        483\n",
    "nombre_recovered    16427\n",
    "Name: 539, dtype: int64"
   ]
  },
  {
   "cell_type": "markdown",
   "id": "0577727d",
   "metadata": {},
   "source": [
    "nombre_infected       781\n",
    "nombre_sain          2321\n",
    "nombre_exposed        492\n",
    "nombre_recovered    16406\n",
    "Name: 540, dtype: int64"
   ]
  },
  {
   "cell_type": "markdown",
   "id": "64d00587",
   "metadata": {},
   "source": [
    "nombre_infected       795\n",
    "nombre_sain          2318\n",
    "nombre_exposed        491\n",
    "nombre_recovered    16396\n",
    "Name: 541, dtype: int64"
   ]
  },
  {
   "cell_type": "markdown",
   "id": "188fa45f",
   "metadata": {},
   "source": [
    "nombre_infected       810\n",
    "nombre_sain          2299\n",
    "nombre_exposed        498\n",
    "nombre_recovered    16393\n",
    "Name: 542, dtype: int64"
   ]
  },
  {
   "cell_type": "markdown",
   "id": "18637339",
   "metadata": {},
   "source": [
    "nombre_infected       766\n",
    "nombre_sain          2300\n",
    "nombre_exposed        521\n",
    "nombre_recovered    16413\n",
    "Name: 543, dtype: int64"
   ]
  },
  {
   "cell_type": "markdown",
   "id": "e75ea1f3",
   "metadata": {},
   "source": [
    "nombre_infected       818\n",
    "nombre_sain          2298\n",
    "nombre_exposed        495\n",
    "nombre_recovered    16389\n",
    "Name: 544, dtype: int64"
   ]
  },
  {
   "cell_type": "markdown",
   "id": "33d79a76",
   "metadata": {},
   "source": [
    "nombre_infected       829\n",
    "nombre_sain          2281\n",
    "nombre_exposed        501\n",
    "nombre_recovered    16389\n",
    "Name: 545, dtype: int64"
   ]
  },
  {
   "cell_type": "markdown",
   "id": "1c099e76",
   "metadata": {},
   "source": [
    "nombre_infected       849\n",
    "nombre_sain          2288\n",
    "nombre_exposed        496\n",
    "nombre_recovered    16367\n",
    "Name: 546, dtype: int64"
   ]
  },
  {
   "cell_type": "markdown",
   "id": "358d264a",
   "metadata": {},
   "source": [
    "nombre_infected       832\n",
    "nombre_sain          2300\n",
    "nombre_exposed        500\n",
    "nombre_recovered    16368\n",
    "Name: 547, dtype: int64"
   ]
  },
  {
   "cell_type": "markdown",
   "id": "1eccbe3a",
   "metadata": {},
   "source": [
    "nombre_infected       855\n",
    "nombre_sain          2269\n",
    "nombre_exposed        517\n",
    "nombre_recovered    16359\n",
    "Name: 548, dtype: int64"
   ]
  },
  {
   "cell_type": "markdown",
   "id": "43f5595a",
   "metadata": {},
   "source": [
    "nombre_infected       868\n",
    "nombre_sain          2284\n",
    "nombre_exposed        498\n",
    "nombre_recovered    16350\n",
    "Name: 549, dtype: int64"
   ]
  },
  {
   "cell_type": "markdown",
   "id": "935cd8e5",
   "metadata": {},
   "source": [
    "nombre_infected       876\n",
    "nombre_sain          2293\n",
    "nombre_exposed        504\n",
    "nombre_recovered    16327\n",
    "Name: 550, dtype: int64"
   ]
  },
  {
   "cell_type": "markdown",
   "id": "36305f41",
   "metadata": {},
   "source": [
    "nombre_infected       882\n",
    "nombre_sain          2272\n",
    "nombre_exposed        523\n",
    "nombre_recovered    16323\n",
    "Name: 551, dtype: int64"
   ]
  },
  {
   "cell_type": "markdown",
   "id": "42c121ba",
   "metadata": {},
   "source": [
    "nombre_infected       875\n",
    "nombre_sain          2291\n",
    "nombre_exposed        506\n",
    "nombre_recovered    16328\n",
    "Name: 552, dtype: int64"
   ]
  },
  {
   "cell_type": "markdown",
   "id": "996b0efc",
   "metadata": {},
   "source": [
    "nombre_infected       881\n",
    "nombre_sain          2257\n",
    "nombre_exposed        509\n",
    "nombre_recovered    16353\n",
    "Name: 553, dtype: int64"
   ]
  },
  {
   "cell_type": "markdown",
   "id": "fdeb6265",
   "metadata": {},
   "source": [
    "nombre_infected       878\n",
    "nombre_sain          2253\n",
    "nombre_exposed        492\n",
    "nombre_recovered    16377\n",
    "Name: 554, dtype: int64"
   ]
  },
  {
   "cell_type": "markdown",
   "id": "a3098976",
   "metadata": {},
   "source": [
    "nombre_infected       853\n",
    "nombre_sain          2265\n",
    "nombre_exposed        486\n",
    "nombre_recovered    16396\n",
    "Name: 555, dtype: int64"
   ]
  },
  {
   "cell_type": "markdown",
   "id": "329d91bb",
   "metadata": {},
   "source": [
    "nombre_infected       826\n",
    "nombre_sain          2276\n",
    "nombre_exposed        494\n",
    "nombre_recovered    16404\n",
    "Name: 556, dtype: int64"
   ]
  },
  {
   "cell_type": "markdown",
   "id": "835872c2",
   "metadata": {},
   "source": [
    "nombre_infected       837\n",
    "nombre_sain          2262\n",
    "nombre_exposed        494\n",
    "nombre_recovered    16407\n",
    "Name: 557, dtype: int64"
   ]
  },
  {
   "cell_type": "markdown",
   "id": "911ea350",
   "metadata": {},
   "source": [
    "nombre_infected       854\n",
    "nombre_sain          2267\n",
    "nombre_exposed        488\n",
    "nombre_recovered    16391\n",
    "Name: 558, dtype: int64"
   ]
  },
  {
   "cell_type": "markdown",
   "id": "72b4eaf9",
   "metadata": {},
   "source": [
    "nombre_infected       842\n",
    "nombre_sain          2254\n",
    "nombre_exposed        484\n",
    "nombre_recovered    16420\n",
    "Name: 559, dtype: int64"
   ]
  },
  {
   "cell_type": "markdown",
   "id": "ba7c0954",
   "metadata": {},
   "source": [
    "nombre_infected       869\n",
    "nombre_sain          2276\n",
    "nombre_exposed        455\n",
    "nombre_recovered    16400\n",
    "Name: 560, dtype: int64"
   ]
  },
  {
   "cell_type": "markdown",
   "id": "2152d7a7",
   "metadata": {},
   "source": [
    "nombre_infected       852\n",
    "nombre_sain          2266\n",
    "nombre_exposed        473\n",
    "nombre_recovered    16409\n",
    "Name: 561, dtype: int64"
   ]
  },
  {
   "cell_type": "markdown",
   "id": "31090704",
   "metadata": {},
   "source": [
    "nombre_infected       828\n",
    "nombre_sain          2266\n",
    "nombre_exposed        482\n",
    "nombre_recovered    16424\n",
    "Name: 562, dtype: int64"
   ]
  },
  {
   "cell_type": "markdown",
   "id": "9cab6606",
   "metadata": {},
   "source": [
    "nombre_infected       847\n",
    "nombre_sain          2244\n",
    "nombre_exposed        493\n",
    "nombre_recovered    16416\n",
    "Name: 563, dtype: int64"
   ]
  },
  {
   "cell_type": "markdown",
   "id": "50660122",
   "metadata": {},
   "source": [
    "nombre_infected       850\n",
    "nombre_sain          2284\n",
    "nombre_exposed        471\n",
    "nombre_recovered    16395\n",
    "Name: 564, dtype: int64"
   ]
  },
  {
   "cell_type": "markdown",
   "id": "aaa301a8",
   "metadata": {},
   "source": [
    "nombre_infected       856\n",
    "nombre_sain          2272\n",
    "nombre_exposed        473\n",
    "nombre_recovered    16399\n",
    "Name: 565, dtype: int64"
   ]
  },
  {
   "cell_type": "markdown",
   "id": "46e6b197",
   "metadata": {},
   "source": [
    "nombre_infected       871\n",
    "nombre_sain          2288\n",
    "nombre_exposed        476\n",
    "nombre_recovered    16365\n",
    "Name: 566, dtype: int64"
   ]
  },
  {
   "cell_type": "markdown",
   "id": "00ca0c52",
   "metadata": {},
   "source": [
    "nombre_infected       867\n",
    "nombre_sain          2291\n",
    "nombre_exposed        475\n",
    "nombre_recovered    16367\n",
    "Name: 567, dtype: int64"
   ]
  },
  {
   "cell_type": "markdown",
   "id": "677bc7cd",
   "metadata": {},
   "source": [
    "nombre_infected       842\n",
    "nombre_sain          2284\n",
    "nombre_exposed        489\n",
    "nombre_recovered    16385\n",
    "Name: 568, dtype: int64"
   ]
  },
  {
   "cell_type": "markdown",
   "id": "00b2ae08",
   "metadata": {},
   "source": [
    "nombre_infected       833\n",
    "nombre_sain          2290\n",
    "nombre_exposed        504\n",
    "nombre_recovered    16373\n",
    "Name: 569, dtype: int64"
   ]
  },
  {
   "cell_type": "markdown",
   "id": "91edec1f",
   "metadata": {},
   "source": [
    "nombre_infected       841\n",
    "nombre_sain          2309\n",
    "nombre_exposed        490\n",
    "nombre_recovered    16360\n",
    "Name: 570, dtype: int64"
   ]
  },
  {
   "cell_type": "markdown",
   "id": "79266c7d",
   "metadata": {},
   "source": [
    "nombre_infected       822\n",
    "nombre_sain          2315\n",
    "nombre_exposed        503\n",
    "nombre_recovered    16360\n",
    "Name: 571, dtype: int64"
   ]
  },
  {
   "cell_type": "markdown",
   "id": "f937a3b0",
   "metadata": {},
   "source": [
    "nombre_infected       839\n",
    "nombre_sain          2316\n",
    "nombre_exposed        493\n",
    "nombre_recovered    16352\n",
    "Name: 572, dtype: int64"
   ]
  },
  {
   "cell_type": "markdown",
   "id": "cc9991aa",
   "metadata": {},
   "source": [
    "nombre_infected       856\n",
    "nombre_sain          2302\n",
    "nombre_exposed        502\n",
    "nombre_recovered    16340\n",
    "Name: 573, dtype: int64"
   ]
  },
  {
   "cell_type": "markdown",
   "id": "cf817d7e",
   "metadata": {},
   "source": [
    "nombre_infected       849\n",
    "nombre_sain          2293\n",
    "nombre_exposed        505\n",
    "nombre_recovered    16353\n",
    "Name: 574, dtype: int64"
   ]
  },
  {
   "cell_type": "markdown",
   "id": "66cd058f",
   "metadata": {},
   "source": [
    "nombre_infected       840\n",
    "nombre_sain          2279\n",
    "nombre_exposed        494\n",
    "nombre_recovered    16387\n",
    "Name: 575, dtype: int64"
   ]
  },
  {
   "cell_type": "markdown",
   "id": "bcbb7b62",
   "metadata": {},
   "source": [
    "nombre_infected       845\n",
    "nombre_sain          2272\n",
    "nombre_exposed        507\n",
    "nombre_recovered    16376\n",
    "Name: 576, dtype: int64"
   ]
  },
  {
   "cell_type": "markdown",
   "id": "a6456055",
   "metadata": {},
   "source": [
    "nombre_infected       837\n",
    "nombre_sain          2249\n",
    "nombre_exposed        536\n",
    "nombre_recovered    16378\n",
    "Name: 577, dtype: int64"
   ]
  },
  {
   "cell_type": "markdown",
   "id": "95fb7976",
   "metadata": {},
   "source": [
    "nombre_infected       853\n",
    "nombre_sain          2202\n",
    "nombre_exposed        539\n",
    "nombre_recovered    16406\n",
    "Name: 578, dtype: int64"
   ]
  },
  {
   "cell_type": "markdown",
   "id": "ee258378",
   "metadata": {},
   "source": [
    "nombre_infected       878\n",
    "nombre_sain          2191\n",
    "nombre_exposed        522\n",
    "nombre_recovered    16409\n",
    "Name: 579, dtype: int64"
   ]
  },
  {
   "cell_type": "markdown",
   "id": "3e1bd3a6",
   "metadata": {},
   "source": [
    "nombre_infected       880\n",
    "nombre_sain          2180\n",
    "nombre_exposed        514\n",
    "nombre_recovered    16426\n",
    "Name: 580, dtype: int64"
   ]
  },
  {
   "cell_type": "markdown",
   "id": "36e741b3",
   "metadata": {},
   "source": [
    "nombre_infected       903\n",
    "nombre_sain          2143\n",
    "nombre_exposed        524\n",
    "nombre_recovered    16430\n",
    "Name: 581, dtype: int64"
   ]
  },
  {
   "cell_type": "markdown",
   "id": "25618d7c",
   "metadata": {},
   "source": [
    "nombre_infected       877\n",
    "nombre_sain          2123\n",
    "nombre_exposed        529\n",
    "nombre_recovered    16471\n",
    "Name: 582, dtype: int64"
   ]
  },
  {
   "cell_type": "markdown",
   "id": "ad7f3bbd",
   "metadata": {},
   "source": [
    "nombre_infected       905\n",
    "nombre_sain          2137\n",
    "nombre_exposed        478\n",
    "nombre_recovered    16480\n",
    "Name: 583, dtype: int64"
   ]
  },
  {
   "cell_type": "markdown",
   "id": "b674f4c4",
   "metadata": {},
   "source": [
    "nombre_infected       917\n",
    "nombre_sain          2136\n",
    "nombre_exposed        458\n",
    "nombre_recovered    16489\n",
    "Name: 584, dtype: int64"
   ]
  },
  {
   "cell_type": "markdown",
   "id": "8c3b8dbc",
   "metadata": {},
   "source": [
    "nombre_infected       880\n",
    "nombre_sain          2116\n",
    "nombre_exposed        485\n",
    "nombre_recovered    16519\n",
    "Name: 585, dtype: int64"
   ]
  },
  {
   "cell_type": "markdown",
   "id": "66a46ac3",
   "metadata": {},
   "source": [
    "nombre_infected       848\n",
    "nombre_sain          2113\n",
    "nombre_exposed        482\n",
    "nombre_recovered    16557\n",
    "Name: 586, dtype: int64"
   ]
  },
  {
   "cell_type": "markdown",
   "id": "c8d8deab",
   "metadata": {},
   "source": [
    "nombre_infected       850\n",
    "nombre_sain          2126\n",
    "nombre_exposed        475\n",
    "nombre_recovered    16549\n",
    "Name: 587, dtype: int64"
   ]
  },
  {
   "cell_type": "markdown",
   "id": "de99dcad",
   "metadata": {},
   "source": [
    "nombre_infected       849\n",
    "nombre_sain          2104\n",
    "nombre_exposed        478\n",
    "nombre_recovered    16569\n",
    "Name: 588, dtype: int64"
   ]
  },
  {
   "cell_type": "markdown",
   "id": "0a71e313",
   "metadata": {},
   "source": [
    "nombre_infected       843\n",
    "nombre_sain          2090\n",
    "nombre_exposed        487\n",
    "nombre_recovered    16580\n",
    "Name: 589, dtype: int64"
   ]
  },
  {
   "cell_type": "markdown",
   "id": "5cb8c85a",
   "metadata": {},
   "source": [
    "nombre_infected       839\n",
    "nombre_sain          2084\n",
    "nombre_exposed        467\n",
    "nombre_recovered    16610\n",
    "Name: 590, dtype: int64"
   ]
  },
  {
   "cell_type": "markdown",
   "id": "eb372061",
   "metadata": {},
   "source": [
    "nombre_infected       839\n",
    "nombre_sain          2076\n",
    "nombre_exposed        465\n",
    "nombre_recovered    16620\n",
    "Name: 591, dtype: int64"
   ]
  },
  {
   "cell_type": "markdown",
   "id": "4821ca28",
   "metadata": {},
   "source": [
    "nombre_infected       830\n",
    "nombre_sain          2090\n",
    "nombre_exposed        458\n",
    "nombre_recovered    16622\n",
    "Name: 592, dtype: int64"
   ]
  },
  {
   "cell_type": "markdown",
   "id": "38392451",
   "metadata": {},
   "source": [
    "nombre_infected       831\n",
    "nombre_sain          2105\n",
    "nombre_exposed        463\n",
    "nombre_recovered    16601\n",
    "Name: 593, dtype: int64"
   ]
  },
  {
   "cell_type": "markdown",
   "id": "988cbe20",
   "metadata": {},
   "source": [
    "nombre_infected       814\n",
    "nombre_sain          2111\n",
    "nombre_exposed        469\n",
    "nombre_recovered    16606\n",
    "Name: 594, dtype: int64"
   ]
  },
  {
   "cell_type": "markdown",
   "id": "5280f67b",
   "metadata": {},
   "source": [
    "nombre_infected       825\n",
    "nombre_sain          2130\n",
    "nombre_exposed        426\n",
    "nombre_recovered    16619\n",
    "Name: 595, dtype: int64"
   ]
  },
  {
   "cell_type": "markdown",
   "id": "b83bdc65",
   "metadata": {},
   "source": [
    "nombre_infected       832\n",
    "nombre_sain          2142\n",
    "nombre_exposed        410\n",
    "nombre_recovered    16616\n",
    "Name: 596, dtype: int64"
   ]
  },
  {
   "cell_type": "markdown",
   "id": "7f4075d9",
   "metadata": {},
   "source": [
    "nombre_infected       848\n",
    "nombre_sain          2166\n",
    "nombre_exposed        394\n",
    "nombre_recovered    16592\n",
    "Name: 597, dtype: int64"
   ]
  },
  {
   "cell_type": "markdown",
   "id": "62fa88b4",
   "metadata": {},
   "source": [
    "nombre_infected       810\n",
    "nombre_sain          2181\n",
    "nombre_exposed        425\n",
    "nombre_recovered    16584\n",
    "Name: 598, dtype: int64"
   ]
  },
  {
   "cell_type": "markdown",
   "id": "fc51d3be",
   "metadata": {},
   "source": [
    "nombre_infected       789\n",
    "nombre_sain          2182\n",
    "nombre_exposed        433\n",
    "nombre_recovered    16596\n",
    "Name: 599, dtype: int64"
   ]
  },
  {
   "cell_type": "markdown",
   "id": "15b3eaf5",
   "metadata": {},
   "source": [
    "nombre_infected       786\n",
    "nombre_sain          2180\n",
    "nombre_exposed        433\n",
    "nombre_recovered    16601\n",
    "Name: 600, dtype: int64"
   ]
  },
  {
   "cell_type": "markdown",
   "id": "45129793",
   "metadata": {},
   "source": [
    "nombre_infected       793\n",
    "nombre_sain          2194\n",
    "nombre_exposed        406\n",
    "nombre_recovered    16607\n",
    "Name: 601, dtype: int64"
   ]
  },
  {
   "cell_type": "markdown",
   "id": "1ae75ca8",
   "metadata": {},
   "source": [
    "nombre_infected       782\n",
    "nombre_sain          2198\n",
    "nombre_exposed        404\n",
    "nombre_recovered    16616\n",
    "Name: 602, dtype: int64"
   ]
  },
  {
   "cell_type": "markdown",
   "id": "6be4d41a",
   "metadata": {},
   "source": [
    "nombre_infected       783\n",
    "nombre_sain          2208\n",
    "nombre_exposed        415\n",
    "nombre_recovered    16594\n",
    "Name: 603, dtype: int64"
   ]
  },
  {
   "cell_type": "markdown",
   "id": "24d30209",
   "metadata": {},
   "source": [
    "nombre_infected       782\n",
    "nombre_sain          2205\n",
    "nombre_exposed        417\n",
    "nombre_recovered    16596\n",
    "Name: 604, dtype: int64"
   ]
  },
  {
   "cell_type": "markdown",
   "id": "068ef466",
   "metadata": {},
   "source": [
    "nombre_infected       789\n",
    "nombre_sain          2240\n",
    "nombre_exposed        407\n",
    "nombre_recovered    16564\n",
    "Name: 605, dtype: int64"
   ]
  },
  {
   "cell_type": "markdown",
   "id": "9eec5446",
   "metadata": {},
   "source": [
    "nombre_infected       777\n",
    "nombre_sain          2234\n",
    "nombre_exposed        424\n",
    "nombre_recovered    16565\n",
    "Name: 606, dtype: int64"
   ]
  },
  {
   "cell_type": "markdown",
   "id": "5cd5e202",
   "metadata": {},
   "source": [
    "nombre_infected       764\n",
    "nombre_sain          2226\n",
    "nombre_exposed        446\n",
    "nombre_recovered    16564\n",
    "Name: 607, dtype: int64"
   ]
  },
  {
   "cell_type": "markdown",
   "id": "b146d93d",
   "metadata": {},
   "source": [
    "nombre_infected       779\n",
    "nombre_sain          2245\n",
    "nombre_exposed        445\n",
    "nombre_recovered    16531\n",
    "Name: 608, dtype: int64"
   ]
  },
  {
   "cell_type": "markdown",
   "id": "c899d6d7",
   "metadata": {},
   "source": [
    "nombre_infected       784\n",
    "nombre_sain          2277\n",
    "nombre_exposed        435\n",
    "nombre_recovered    16504\n",
    "Name: 609, dtype: int64"
   ]
  },
  {
   "cell_type": "markdown",
   "id": "08874cd8",
   "metadata": {},
   "source": [
    "nombre_infected       813\n",
    "nombre_sain          2277\n",
    "nombre_exposed        418\n",
    "nombre_recovered    16492\n",
    "Name: 610, dtype: int64"
   ]
  },
  {
   "cell_type": "markdown",
   "id": "87c76f57",
   "metadata": {},
   "source": [
    "nombre_infected       812\n",
    "nombre_sain          2274\n",
    "nombre_exposed        421\n",
    "nombre_recovered    16493\n",
    "Name: 611, dtype: int64"
   ]
  },
  {
   "cell_type": "markdown",
   "id": "3def8912",
   "metadata": {},
   "source": [
    "nombre_infected       789\n",
    "nombre_sain          2267\n",
    "nombre_exposed        460\n",
    "nombre_recovered    16484\n",
    "Name: 612, dtype: int64"
   ]
  },
  {
   "cell_type": "markdown",
   "id": "552f4dc7",
   "metadata": {},
   "source": [
    "nombre_infected       782\n",
    "nombre_sain          2275\n",
    "nombre_exposed        475\n",
    "nombre_recovered    16468\n",
    "Name: 613, dtype: int64"
   ]
  },
  {
   "cell_type": "markdown",
   "id": "ae94d657",
   "metadata": {},
   "source": [
    "nombre_infected       785\n",
    "nombre_sain          2277\n",
    "nombre_exposed        480\n",
    "nombre_recovered    16458\n",
    "Name: 614, dtype: int64"
   ]
  },
  {
   "cell_type": "markdown",
   "id": "96f4ad14",
   "metadata": {},
   "source": [
    "nombre_infected       808\n",
    "nombre_sain          2268\n",
    "nombre_exposed        482\n",
    "nombre_recovered    16442\n",
    "Name: 615, dtype: int64"
   ]
  },
  {
   "cell_type": "markdown",
   "id": "60286ed6",
   "metadata": {},
   "source": [
    "nombre_infected       807\n",
    "nombre_sain          2273\n",
    "nombre_exposed        471\n",
    "nombre_recovered    16449\n",
    "Name: 616, dtype: int64"
   ]
  },
  {
   "cell_type": "markdown",
   "id": "158a03b0",
   "metadata": {},
   "source": [
    "nombre_infected       819\n",
    "nombre_sain          2290\n",
    "nombre_exposed        460\n",
    "nombre_recovered    16431\n",
    "Name: 617, dtype: int64"
   ]
  },
  {
   "cell_type": "markdown",
   "id": "a6dff1e9",
   "metadata": {},
   "source": [
    "nombre_infected       831\n",
    "nombre_sain          2324\n",
    "nombre_exposed        428\n",
    "nombre_recovered    16417\n",
    "Name: 618, dtype: int64"
   ]
  },
  {
   "cell_type": "markdown",
   "id": "259b3f6d",
   "metadata": {},
   "source": [
    "nombre_infected       844\n",
    "nombre_sain          2309\n",
    "nombre_exposed        441\n",
    "nombre_recovered    16406\n",
    "Name: 619, dtype: int64"
   ]
  },
  {
   "cell_type": "markdown",
   "id": "012cef26",
   "metadata": {},
   "source": [
    "nombre_infected       822\n",
    "nombre_sain          2307\n",
    "nombre_exposed        460\n",
    "nombre_recovered    16411\n",
    "Name: 620, dtype: int64"
   ]
  },
  {
   "cell_type": "markdown",
   "id": "4df54299",
   "metadata": {},
   "source": [
    "nombre_infected       826\n",
    "nombre_sain          2255\n",
    "nombre_exposed        479\n",
    "nombre_recovered    16440\n",
    "Name: 621, dtype: int64"
   ]
  },
  {
   "cell_type": "markdown",
   "id": "42abf8cc",
   "metadata": {},
   "source": [
    "nombre_infected       824\n",
    "nombre_sain          2249\n",
    "nombre_exposed        496\n",
    "nombre_recovered    16431\n",
    "Name: 622, dtype: int64"
   ]
  },
  {
   "cell_type": "markdown",
   "id": "490868c0",
   "metadata": {},
   "source": [
    "nombre_infected       833\n",
    "nombre_sain          2268\n",
    "nombre_exposed        467\n",
    "nombre_recovered    16432\n",
    "Name: 623, dtype: int64"
   ]
  },
  {
   "cell_type": "markdown",
   "id": "c7fa0a03",
   "metadata": {},
   "source": [
    "nombre_infected       834\n",
    "nombre_sain          2252\n",
    "nombre_exposed        460\n",
    "nombre_recovered    16454\n",
    "Name: 624, dtype: int64"
   ]
  },
  {
   "cell_type": "markdown",
   "id": "dca58677",
   "metadata": {},
   "source": [
    "nombre_infected       876\n",
    "nombre_sain          2232\n",
    "nombre_exposed        442\n",
    "nombre_recovered    16450\n",
    "Name: 625, dtype: int64"
   ]
  },
  {
   "cell_type": "markdown",
   "id": "2ec08cdc",
   "metadata": {},
   "source": [
    "nombre_infected       863\n",
    "nombre_sain          2212\n",
    "nombre_exposed        467\n",
    "nombre_recovered    16458\n",
    "Name: 626, dtype: int64"
   ]
  },
  {
   "cell_type": "markdown",
   "id": "63f08a26",
   "metadata": {},
   "source": [
    "nombre_infected       821\n",
    "nombre_sain          2226\n",
    "nombre_exposed        479\n",
    "nombre_recovered    16474\n",
    "Name: 627, dtype: int64"
   ]
  },
  {
   "cell_type": "markdown",
   "id": "3e5ac2b9",
   "metadata": {},
   "source": [
    "nombre_infected       841\n",
    "nombre_sain          2204\n",
    "nombre_exposed        479\n",
    "nombre_recovered    16476\n",
    "Name: 628, dtype: int64"
   ]
  },
  {
   "cell_type": "markdown",
   "id": "dcc2cd26",
   "metadata": {},
   "source": [
    "nombre_infected       843\n",
    "nombre_sain          2205\n",
    "nombre_exposed        488\n",
    "nombre_recovered    16464\n",
    "Name: 629, dtype: int64"
   ]
  },
  {
   "cell_type": "markdown",
   "id": "8c001189",
   "metadata": {},
   "source": [
    "nombre_infected       841\n",
    "nombre_sain          2209\n",
    "nombre_exposed        479\n",
    "nombre_recovered    16471\n",
    "Name: 630, dtype: int64"
   ]
  },
  {
   "cell_type": "markdown",
   "id": "67aa52f5",
   "metadata": {},
   "source": [
    "nombre_infected       814\n",
    "nombre_sain          2205\n",
    "nombre_exposed        482\n",
    "nombre_recovered    16499\n",
    "Name: 631, dtype: int64"
   ]
  },
  {
   "cell_type": "markdown",
   "id": "ed63ba1a",
   "metadata": {},
   "source": [
    "nombre_infected       827\n",
    "nombre_sain          2218\n",
    "nombre_exposed        466\n",
    "nombre_recovered    16489\n",
    "Name: 632, dtype: int64"
   ]
  },
  {
   "cell_type": "markdown",
   "id": "d66c8a4b",
   "metadata": {},
   "source": [
    "nombre_infected       825\n",
    "nombre_sain          2210\n",
    "nombre_exposed        475\n",
    "nombre_recovered    16490\n",
    "Name: 633, dtype: int64"
   ]
  },
  {
   "cell_type": "markdown",
   "id": "1b7a8fae",
   "metadata": {},
   "source": [
    "nombre_infected       856\n",
    "nombre_sain          2192\n",
    "nombre_exposed        474\n",
    "nombre_recovered    16478\n",
    "Name: 634, dtype: int64"
   ]
  },
  {
   "cell_type": "markdown",
   "id": "b9aa0a6d",
   "metadata": {},
   "source": [
    "nombre_infected       844\n",
    "nombre_sain          2183\n",
    "nombre_exposed        485\n",
    "nombre_recovered    16488\n",
    "Name: 635, dtype: int64"
   ]
  },
  {
   "cell_type": "markdown",
   "id": "d0337f6e",
   "metadata": {},
   "source": [
    "nombre_infected       834\n",
    "nombre_sain          2190\n",
    "nombre_exposed        480\n",
    "nombre_recovered    16496\n",
    "Name: 636, dtype: int64"
   ]
  },
  {
   "cell_type": "markdown",
   "id": "cb5d63c7",
   "metadata": {},
   "source": [
    "nombre_infected       832\n",
    "nombre_sain          2196\n",
    "nombre_exposed        496\n",
    "nombre_recovered    16476\n",
    "Name: 637, dtype: int64"
   ]
  },
  {
   "cell_type": "markdown",
   "id": "3cbd0c61",
   "metadata": {},
   "source": [
    "nombre_infected       810\n",
    "nombre_sain          2221\n",
    "nombre_exposed        499\n",
    "nombre_recovered    16470\n",
    "Name: 638, dtype: int64"
   ]
  },
  {
   "cell_type": "markdown",
   "id": "baa89e59",
   "metadata": {},
   "source": [
    "nombre_infected       817\n",
    "nombre_sain          2223\n",
    "nombre_exposed        488\n",
    "nombre_recovered    16472\n",
    "Name: 639, dtype: int64"
   ]
  },
  {
   "cell_type": "markdown",
   "id": "782a635a",
   "metadata": {},
   "source": [
    "nombre_infected       816\n",
    "nombre_sain          2212\n",
    "nombre_exposed        493\n",
    "nombre_recovered    16479\n",
    "Name: 640, dtype: int64"
   ]
  },
  {
   "cell_type": "markdown",
   "id": "b318669c",
   "metadata": {},
   "source": [
    "nombre_infected       809\n",
    "nombre_sain          2216\n",
    "nombre_exposed        499\n",
    "nombre_recovered    16476\n",
    "Name: 641, dtype: int64"
   ]
  },
  {
   "cell_type": "markdown",
   "id": "968f0357",
   "metadata": {},
   "source": [
    "nombre_infected       818\n",
    "nombre_sain          2243\n",
    "nombre_exposed        470\n",
    "nombre_recovered    16469\n",
    "Name: 642, dtype: int64"
   ]
  },
  {
   "cell_type": "markdown",
   "id": "c41821e4",
   "metadata": {},
   "source": [
    "nombre_infected       841\n",
    "nombre_sain          2252\n",
    "nombre_exposed        452\n",
    "nombre_recovered    16455\n",
    "Name: 643, dtype: int64"
   ]
  },
  {
   "cell_type": "markdown",
   "id": "1917e4ee",
   "metadata": {},
   "source": [
    "nombre_infected       862\n",
    "nombre_sain          2276\n",
    "nombre_exposed        437\n",
    "nombre_recovered    16425\n",
    "Name: 644, dtype: int64"
   ]
  },
  {
   "cell_type": "markdown",
   "id": "530ac5c9",
   "metadata": {},
   "source": [
    "nombre_infected       844\n",
    "nombre_sain          2262\n",
    "nombre_exposed        460\n",
    "nombre_recovered    16434\n",
    "Name: 645, dtype: int64"
   ]
  },
  {
   "cell_type": "markdown",
   "id": "fa6babd1",
   "metadata": {},
   "source": [
    "nombre_infected       825\n",
    "nombre_sain          2241\n",
    "nombre_exposed        481\n",
    "nombre_recovered    16453\n",
    "Name: 646, dtype: int64"
   ]
  },
  {
   "cell_type": "markdown",
   "id": "7f4d504d",
   "metadata": {},
   "source": [
    "nombre_infected       853\n",
    "nombre_sain          2223\n",
    "nombre_exposed        488\n",
    "nombre_recovered    16436\n",
    "Name: 647, dtype: int64"
   ]
  },
  {
   "cell_type": "markdown",
   "id": "ff11c968",
   "metadata": {},
   "source": [
    "nombre_infected       856\n",
    "nombre_sain          2240\n",
    "nombre_exposed        469\n",
    "nombre_recovered    16435\n",
    "Name: 648, dtype: int64"
   ]
  },
  {
   "cell_type": "markdown",
   "id": "5e469317",
   "metadata": {},
   "source": [
    "nombre_infected       869\n",
    "nombre_sain          2238\n",
    "nombre_exposed        466\n",
    "nombre_recovered    16427\n",
    "Name: 649, dtype: int64"
   ]
  },
  {
   "cell_type": "markdown",
   "id": "992f8dfa",
   "metadata": {},
   "source": [
    "nombre_infected       875\n",
    "nombre_sain          2234\n",
    "nombre_exposed        474\n",
    "nombre_recovered    16417\n",
    "Name: 650, dtype: int64"
   ]
  },
  {
   "cell_type": "markdown",
   "id": "8bbb2b9b",
   "metadata": {},
   "source": [
    "nombre_infected       856\n",
    "nombre_sain          2231\n",
    "nombre_exposed        477\n",
    "nombre_recovered    16436\n",
    "Name: 651, dtype: int64"
   ]
  },
  {
   "cell_type": "markdown",
   "id": "c207519d",
   "metadata": {},
   "source": [
    "nombre_infected       853\n",
    "nombre_sain          2243\n",
    "nombre_exposed        486\n",
    "nombre_recovered    16418\n",
    "Name: 652, dtype: int64"
   ]
  },
  {
   "cell_type": "markdown",
   "id": "60cdd205",
   "metadata": {},
   "source": [
    "nombre_infected       878\n",
    "nombre_sain          2225\n",
    "nombre_exposed        482\n",
    "nombre_recovered    16415\n",
    "Name: 653, dtype: int64"
   ]
  },
  {
   "cell_type": "markdown",
   "id": "dc614705",
   "metadata": {},
   "source": [
    "nombre_infected       891\n",
    "nombre_sain          2230\n",
    "nombre_exposed        478\n",
    "nombre_recovered    16401\n",
    "Name: 654, dtype: int64"
   ]
  },
  {
   "cell_type": "markdown",
   "id": "f6095b45",
   "metadata": {},
   "source": [
    "nombre_infected       884\n",
    "nombre_sain          2279\n",
    "nombre_exposed        457\n",
    "nombre_recovered    16380\n",
    "Name: 655, dtype: int64"
   ]
  },
  {
   "cell_type": "markdown",
   "id": "ef65e097",
   "metadata": {},
   "source": [
    "nombre_infected       890\n",
    "nombre_sain          2300\n",
    "nombre_exposed        452\n",
    "nombre_recovered    16358\n",
    "Name: 656, dtype: int64"
   ]
  },
  {
   "cell_type": "markdown",
   "id": "b0720dd0",
   "metadata": {},
   "source": [
    "nombre_infected       869\n",
    "nombre_sain          2283\n",
    "nombre_exposed        479\n",
    "nombre_recovered    16369\n",
    "Name: 657, dtype: int64"
   ]
  },
  {
   "cell_type": "markdown",
   "id": "82b0731f",
   "metadata": {},
   "source": [
    "nombre_infected       862\n",
    "nombre_sain          2287\n",
    "nombre_exposed        480\n",
    "nombre_recovered    16371\n",
    "Name: 658, dtype: int64"
   ]
  },
  {
   "cell_type": "markdown",
   "id": "1cc24237",
   "metadata": {},
   "source": [
    "nombre_infected       877\n",
    "nombre_sain          2270\n",
    "nombre_exposed        482\n",
    "nombre_recovered    16371\n",
    "Name: 659, dtype: int64"
   ]
  },
  {
   "cell_type": "markdown",
   "id": "3cd6728d",
   "metadata": {},
   "source": [
    "nombre_infected       886\n",
    "nombre_sain          2304\n",
    "nombre_exposed        480\n",
    "nombre_recovered    16330\n",
    "Name: 660, dtype: int64"
   ]
  },
  {
   "cell_type": "markdown",
   "id": "0050be3d",
   "metadata": {},
   "source": [
    "nombre_infected       884\n",
    "nombre_sain          2293\n",
    "nombre_exposed        493\n",
    "nombre_recovered    16330\n",
    "Name: 661, dtype: int64"
   ]
  },
  {
   "cell_type": "markdown",
   "id": "25c647a6",
   "metadata": {},
   "source": [
    "nombre_infected       879\n",
    "nombre_sain          2287\n",
    "nombre_exposed        510\n",
    "nombre_recovered    16324\n",
    "Name: 662, dtype: int64"
   ]
  },
  {
   "cell_type": "markdown",
   "id": "92243a87",
   "metadata": {},
   "source": [
    "nombre_infected       890\n",
    "nombre_sain          2286\n",
    "nombre_exposed        513\n",
    "nombre_recovered    16311\n",
    "Name: 663, dtype: int64"
   ]
  },
  {
   "cell_type": "markdown",
   "id": "2bce82c6",
   "metadata": {},
   "source": [
    "nombre_infected       893\n",
    "nombre_sain          2294\n",
    "nombre_exposed        496\n",
    "nombre_recovered    16317\n",
    "Name: 664, dtype: int64"
   ]
  },
  {
   "cell_type": "markdown",
   "id": "e073ca58",
   "metadata": {},
   "source": [
    "nombre_infected       895\n",
    "nombre_sain          2277\n",
    "nombre_exposed        517\n",
    "nombre_recovered    16311\n",
    "Name: 665, dtype: int64"
   ]
  },
  {
   "cell_type": "markdown",
   "id": "d38f816c",
   "metadata": {},
   "source": [
    "nombre_infected       889\n",
    "nombre_sain          2291\n",
    "nombre_exposed        508\n",
    "nombre_recovered    16312\n",
    "Name: 666, dtype: int64"
   ]
  },
  {
   "cell_type": "markdown",
   "id": "981166ff",
   "metadata": {},
   "source": [
    "nombre_infected       907\n",
    "nombre_sain          2309\n",
    "nombre_exposed        490\n",
    "nombre_recovered    16294\n",
    "Name: 667, dtype: int64"
   ]
  },
  {
   "cell_type": "markdown",
   "id": "6635793d",
   "metadata": {},
   "source": [
    "nombre_infected       915\n",
    "nombre_sain          2303\n",
    "nombre_exposed        490\n",
    "nombre_recovered    16292\n",
    "Name: 668, dtype: int64"
   ]
  },
  {
   "cell_type": "markdown",
   "id": "9eff1b05",
   "metadata": {},
   "source": [
    "nombre_infected       924\n",
    "nombre_sain          2283\n",
    "nombre_exposed        503\n",
    "nombre_recovered    16290\n",
    "Name: 669, dtype: int64"
   ]
  },
  {
   "cell_type": "markdown",
   "id": "626f0514",
   "metadata": {},
   "source": [
    "nombre_infected       930\n",
    "nombre_sain          2283\n",
    "nombre_exposed        521\n",
    "nombre_recovered    16266\n",
    "Name: 670, dtype: int64"
   ]
  },
  {
   "cell_type": "markdown",
   "id": "eb152d4a",
   "metadata": {},
   "source": [
    "nombre_infected       928\n",
    "nombre_sain          2279\n",
    "nombre_exposed        531\n",
    "nombre_recovered    16262\n",
    "Name: 671, dtype: int64"
   ]
  },
  {
   "cell_type": "markdown",
   "id": "4f7c505c",
   "metadata": {},
   "source": [
    "nombre_infected       918\n",
    "nombre_sain          2258\n",
    "nombre_exposed        536\n",
    "nombre_recovered    16288\n",
    "Name: 672, dtype: int64"
   ]
  },
  {
   "cell_type": "markdown",
   "id": "24c993df",
   "metadata": {},
   "source": [
    "nombre_infected       937\n",
    "nombre_sain          2264\n",
    "nombre_exposed        539\n",
    "nombre_recovered    16260\n",
    "Name: 673, dtype: int64"
   ]
  },
  {
   "cell_type": "markdown",
   "id": "e1a9ae17",
   "metadata": {},
   "source": [
    "nombre_infected       933\n",
    "nombre_sain          2245\n",
    "nombre_exposed        536\n",
    "nombre_recovered    16286\n",
    "Name: 674, dtype: int64"
   ]
  },
  {
   "cell_type": "markdown",
   "id": "35bec195",
   "metadata": {},
   "source": [
    "nombre_infected       921\n",
    "nombre_sain          2247\n",
    "nombre_exposed        547\n",
    "nombre_recovered    16285\n",
    "Name: 675, dtype: int64"
   ]
  },
  {
   "cell_type": "markdown",
   "id": "11c80fdc",
   "metadata": {},
   "source": [
    "nombre_infected       932\n",
    "nombre_sain          2264\n",
    "nombre_exposed        519\n",
    "nombre_recovered    16285\n",
    "Name: 676, dtype: int64"
   ]
  },
  {
   "cell_type": "markdown",
   "id": "5819f16c",
   "metadata": {},
   "source": [
    "nombre_infected       964\n",
    "nombre_sain          2237\n",
    "nombre_exposed        506\n",
    "nombre_recovered    16293\n",
    "Name: 677, dtype: int64"
   ]
  },
  {
   "cell_type": "markdown",
   "id": "e20d1b78",
   "metadata": {},
   "source": [
    "nombre_infected       974\n",
    "nombre_sain          2193\n",
    "nombre_exposed        528\n",
    "nombre_recovered    16305\n",
    "Name: 678, dtype: int64"
   ]
  },
  {
   "cell_type": "markdown",
   "id": "c9ee6a67",
   "metadata": {},
   "source": [
    "nombre_infected       956\n",
    "nombre_sain          2175\n",
    "nombre_exposed        547\n",
    "nombre_recovered    16322\n",
    "Name: 679, dtype: int64"
   ]
  },
  {
   "cell_type": "markdown",
   "id": "9775933f",
   "metadata": {},
   "source": [
    "nombre_infected       972\n",
    "nombre_sain          2176\n",
    "nombre_exposed        559\n",
    "nombre_recovered    16293\n",
    "Name: 680, dtype: int64"
   ]
  },
  {
   "cell_type": "markdown",
   "id": "46861fa2",
   "metadata": {},
   "source": [
    "nombre_infected       978\n",
    "nombre_sain          2153\n",
    "nombre_exposed        561\n",
    "nombre_recovered    16308\n",
    "Name: 681, dtype: int64"
   ]
  },
  {
   "cell_type": "markdown",
   "id": "a9878a72",
   "metadata": {},
   "source": [
    "nombre_infected       993\n",
    "nombre_sain          2158\n",
    "nombre_exposed        518\n",
    "nombre_recovered    16331\n",
    "Name: 682, dtype: int64"
   ]
  },
  {
   "cell_type": "markdown",
   "id": "9e569037",
   "metadata": {},
   "source": [
    "nombre_infected       997\n",
    "nombre_sain          2119\n",
    "nombre_exposed        542\n",
    "nombre_recovered    16342\n",
    "Name: 683, dtype: int64"
   ]
  },
  {
   "cell_type": "markdown",
   "id": "b2cca2e6",
   "metadata": {},
   "source": [
    "nombre_infected      1000\n",
    "nombre_sain          2105\n",
    "nombre_exposed        550\n",
    "nombre_recovered    16345\n",
    "Name: 684, dtype: int64"
   ]
  },
  {
   "cell_type": "markdown",
   "id": "e366d6d3",
   "metadata": {},
   "source": [
    "nombre_infected      1014\n",
    "nombre_sain          2107\n",
    "nombre_exposed        533\n",
    "nombre_recovered    16346\n",
    "Name: 685, dtype: int64"
   ]
  },
  {
   "cell_type": "markdown",
   "id": "7210eff8",
   "metadata": {},
   "source": [
    "nombre_infected      1011\n",
    "nombre_sain          2109\n",
    "nombre_exposed        540\n",
    "nombre_recovered    16340\n",
    "Name: 686, dtype: int64"
   ]
  },
  {
   "cell_type": "markdown",
   "id": "3d11b398",
   "metadata": {},
   "source": [
    "nombre_infected      1021\n",
    "nombre_sain          2109\n",
    "nombre_exposed        540\n",
    "nombre_recovered    16330\n",
    "Name: 687, dtype: int64"
   ]
  },
  {
   "cell_type": "markdown",
   "id": "a1ef6a84",
   "metadata": {},
   "source": [
    "nombre_infected       985\n",
    "nombre_sain          2103\n",
    "nombre_exposed        564\n",
    "nombre_recovered    16348\n",
    "Name: 688, dtype: int64"
   ]
  },
  {
   "cell_type": "markdown",
   "id": "a402cefb",
   "metadata": {},
   "source": [
    "nombre_infected      1002\n",
    "nombre_sain          2086\n",
    "nombre_exposed        562\n",
    "nombre_recovered    16350\n",
    "Name: 689, dtype: int64"
   ]
  },
  {
   "cell_type": "markdown",
   "id": "b0ef65ae",
   "metadata": {},
   "source": [
    "nombre_infected      1009\n",
    "nombre_sain          2089\n",
    "nombre_exposed        531\n",
    "nombre_recovered    16371\n",
    "Name: 690, dtype: int64"
   ]
  },
  {
   "cell_type": "markdown",
   "id": "ef89c63d",
   "metadata": {},
   "source": [
    "nombre_infected      1013\n",
    "nombre_sain          2091\n",
    "nombre_exposed        508\n",
    "nombre_recovered    16388\n",
    "Name: 691, dtype: int64"
   ]
  },
  {
   "cell_type": "markdown",
   "id": "809e1b46",
   "metadata": {},
   "source": [
    "nombre_infected      1009\n",
    "nombre_sain          2080\n",
    "nombre_exposed        508\n",
    "nombre_recovered    16403\n",
    "Name: 692, dtype: int64"
   ]
  },
  {
   "cell_type": "markdown",
   "id": "7b6ab709",
   "metadata": {},
   "source": [
    "nombre_infected       989\n",
    "nombre_sain          2090\n",
    "nombre_exposed        504\n",
    "nombre_recovered    16417\n",
    "Name: 693, dtype: int64"
   ]
  },
  {
   "cell_type": "markdown",
   "id": "40a8f204",
   "metadata": {},
   "source": [
    "nombre_infected       959\n",
    "nombre_sain          2100\n",
    "nombre_exposed        542\n",
    "nombre_recovered    16399\n",
    "Name: 694, dtype: int64"
   ]
  },
  {
   "cell_type": "markdown",
   "id": "8ace7207",
   "metadata": {},
   "source": [
    "nombre_infected       956\n",
    "nombre_sain          2120\n",
    "nombre_exposed        517\n",
    "nombre_recovered    16407\n",
    "Name: 695, dtype: int64"
   ]
  },
  {
   "cell_type": "markdown",
   "id": "213b8226",
   "metadata": {},
   "source": [
    "nombre_infected       950\n",
    "nombre_sain          2127\n",
    "nombre_exposed        505\n",
    "nombre_recovered    16418\n",
    "Name: 696, dtype: int64"
   ]
  },
  {
   "cell_type": "markdown",
   "id": "46d749b9",
   "metadata": {},
   "source": [
    "nombre_infected       941\n",
    "nombre_sain          2152\n",
    "nombre_exposed        520\n",
    "nombre_recovered    16387\n",
    "Name: 697, dtype: int64"
   ]
  },
  {
   "cell_type": "markdown",
   "id": "dbf32d63",
   "metadata": {},
   "source": [
    "nombre_infected       938\n",
    "nombre_sain          2173\n",
    "nombre_exposed        527\n",
    "nombre_recovered    16362\n",
    "Name: 698, dtype: int64"
   ]
  },
  {
   "cell_type": "markdown",
   "id": "6763a5d4",
   "metadata": {},
   "source": [
    "nombre_infected       951\n",
    "nombre_sain          2184\n",
    "nombre_exposed        532\n",
    "nombre_recovered    16333\n",
    "Name: 699, dtype: int64"
   ]
  },
  {
   "cell_type": "markdown",
   "id": "aca9d696",
   "metadata": {},
   "source": [
    "nombre_infected       975\n",
    "nombre_sain          2207\n",
    "nombre_exposed        519\n",
    "nombre_recovered    16299\n",
    "Name: 700, dtype: int64"
   ]
  },
  {
   "cell_type": "markdown",
   "id": "fb5d3a7f",
   "metadata": {},
   "source": [
    "nombre_infected       970\n",
    "nombre_sain          2223\n",
    "nombre_exposed        521\n",
    "nombre_recovered    16286\n",
    "Name: 701, dtype: int64"
   ]
  },
  {
   "cell_type": "markdown",
   "id": "559401c9",
   "metadata": {},
   "source": [
    "nombre_infected       989\n",
    "nombre_sain          2237\n",
    "nombre_exposed        488\n",
    "nombre_recovered    16286\n",
    "Name: 702, dtype: int64"
   ]
  },
  {
   "cell_type": "markdown",
   "id": "3028934a",
   "metadata": {},
   "source": [
    "nombre_infected       986\n",
    "nombre_sain          2215\n",
    "nombre_exposed        499\n",
    "nombre_recovered    16300\n",
    "Name: 703, dtype: int64"
   ]
  },
  {
   "cell_type": "markdown",
   "id": "e0c5fab0",
   "metadata": {},
   "source": [
    "nombre_infected       980\n",
    "nombre_sain          2194\n",
    "nombre_exposed        544\n",
    "nombre_recovered    16282\n",
    "Name: 704, dtype: int64"
   ]
  },
  {
   "cell_type": "markdown",
   "id": "b0642809",
   "metadata": {},
   "source": [
    "nombre_infected       949\n",
    "nombre_sain          2196\n",
    "nombre_exposed        539\n",
    "nombre_recovered    16316\n",
    "Name: 705, dtype: int64"
   ]
  },
  {
   "cell_type": "markdown",
   "id": "91e8dc5f",
   "metadata": {},
   "source": [
    "nombre_infected       956\n",
    "nombre_sain          2200\n",
    "nombre_exposed        544\n",
    "nombre_recovered    16300\n",
    "Name: 706, dtype: int64"
   ]
  },
  {
   "cell_type": "markdown",
   "id": "dbaefe0b",
   "metadata": {},
   "source": [
    "nombre_infected       963\n",
    "nombre_sain          2199\n",
    "nombre_exposed        549\n",
    "nombre_recovered    16289\n",
    "Name: 707, dtype: int64"
   ]
  },
  {
   "cell_type": "markdown",
   "id": "bffb0f45",
   "metadata": {},
   "source": [
    "nombre_infected       969\n",
    "nombre_sain          2225\n",
    "nombre_exposed        530\n",
    "nombre_recovered    16276\n",
    "Name: 708, dtype: int64"
   ]
  },
  {
   "cell_type": "markdown",
   "id": "da36555f",
   "metadata": {},
   "source": [
    "nombre_infected       971\n",
    "nombre_sain          2227\n",
    "nombre_exposed        524\n",
    "nombre_recovered    16278\n",
    "Name: 709, dtype: int64"
   ]
  },
  {
   "cell_type": "markdown",
   "id": "89b068b1",
   "metadata": {},
   "source": [
    "nombre_infected       993\n",
    "nombre_sain          2249\n",
    "nombre_exposed        510\n",
    "nombre_recovered    16248\n",
    "Name: 710, dtype: int64"
   ]
  },
  {
   "cell_type": "markdown",
   "id": "a2981a8f",
   "metadata": {},
   "source": [
    "nombre_infected       978\n",
    "nombre_sain          2245\n",
    "nombre_exposed        547\n",
    "nombre_recovered    16230\n",
    "Name: 711, dtype: int64"
   ]
  },
  {
   "cell_type": "markdown",
   "id": "77993980",
   "metadata": {},
   "source": [
    "nombre_infected       978\n",
    "nombre_sain          2237\n",
    "nombre_exposed        575\n",
    "nombre_recovered    16210\n",
    "Name: 712, dtype: int64"
   ]
  },
  {
   "cell_type": "markdown",
   "id": "7592c985",
   "metadata": {},
   "source": [
    "nombre_infected       983\n",
    "nombre_sain          2233\n",
    "nombre_exposed        573\n",
    "nombre_recovered    16211\n",
    "Name: 713, dtype: int64"
   ]
  },
  {
   "cell_type": "markdown",
   "id": "80c04c58",
   "metadata": {},
   "source": [
    "nombre_infected       995\n",
    "nombre_sain          2236\n",
    "nombre_exposed        581\n",
    "nombre_recovered    16188\n",
    "Name: 714, dtype: int64"
   ]
  },
  {
   "cell_type": "markdown",
   "id": "4de2c13d",
   "metadata": {},
   "source": [
    "nombre_infected      1004\n",
    "nombre_sain          2249\n",
    "nombre_exposed        565\n",
    "nombre_recovered    16182\n",
    "Name: 715, dtype: int64"
   ]
  },
  {
   "cell_type": "markdown",
   "id": "cf116f99",
   "metadata": {},
   "source": [
    "nombre_infected       998\n",
    "nombre_sain          2243\n",
    "nombre_exposed        587\n",
    "nombre_recovered    16172\n",
    "Name: 716, dtype: int64"
   ]
  },
  {
   "cell_type": "markdown",
   "id": "0c8e145c",
   "metadata": {},
   "source": [
    "nombre_infected      1021\n",
    "nombre_sain          2284\n",
    "nombre_exposed        562\n",
    "nombre_recovered    16133\n",
    "Name: 717, dtype: int64"
   ]
  },
  {
   "cell_type": "markdown",
   "id": "0dbee5ed",
   "metadata": {},
   "source": [
    "nombre_infected       984\n",
    "nombre_sain          2273\n",
    "nombre_exposed        576\n",
    "nombre_recovered    16167\n",
    "Name: 718, dtype: int64"
   ]
  },
  {
   "cell_type": "markdown",
   "id": "4605d4b0",
   "metadata": {},
   "source": [
    "nombre_infected       984\n",
    "nombre_sain          2283\n",
    "nombre_exposed        568\n",
    "nombre_recovered    16165\n",
    "Name: 719, dtype: int64"
   ]
  },
  {
   "cell_type": "markdown",
   "id": "a940ea63",
   "metadata": {},
   "source": [
    "nombre_infected       989\n",
    "nombre_sain          2295\n",
    "nombre_exposed        560\n",
    "nombre_recovered    16156\n",
    "Name: 720, dtype: int64"
   ]
  },
  {
   "cell_type": "markdown",
   "id": "a7952261",
   "metadata": {},
   "source": [
    "nombre_infected       984\n",
    "nombre_sain          2264\n",
    "nombre_exposed        582\n",
    "nombre_recovered    16170\n",
    "Name: 721, dtype: int64"
   ]
  },
  {
   "cell_type": "markdown",
   "id": "85a71d86",
   "metadata": {},
   "source": [
    "nombre_infected       976\n",
    "nombre_sain          2263\n",
    "nombre_exposed        595\n",
    "nombre_recovered    16166\n",
    "Name: 722, dtype: int64"
   ]
  },
  {
   "cell_type": "markdown",
   "id": "294c5c32",
   "metadata": {},
   "source": [
    "nombre_infected       960\n",
    "nombre_sain          2261\n",
    "nombre_exposed        615\n",
    "nombre_recovered    16164\n",
    "Name: 723, dtype: int64"
   ]
  },
  {
   "cell_type": "markdown",
   "id": "aaeb3b2e",
   "metadata": {},
   "source": [
    "nombre_infected       943\n",
    "nombre_sain          2265\n",
    "nombre_exposed        609\n",
    "nombre_recovered    16183\n",
    "Name: 724, dtype: int64"
   ]
  },
  {
   "cell_type": "markdown",
   "id": "8f6b715b",
   "metadata": {},
   "source": [
    "nombre_infected       976\n",
    "nombre_sain          2244\n",
    "nombre_exposed        592\n",
    "nombre_recovered    16188\n",
    "Name: 725, dtype: int64"
   ]
  },
  {
   "cell_type": "markdown",
   "id": "130ab34c",
   "metadata": {},
   "source": [
    "nombre_infected       983\n",
    "nombre_sain          2183\n",
    "nombre_exposed        620\n",
    "nombre_recovered    16214\n",
    "Name: 726, dtype: int64"
   ]
  },
  {
   "cell_type": "markdown",
   "id": "20601dc6",
   "metadata": {},
   "source": [
    "nombre_infected       979\n",
    "nombre_sain          2164\n",
    "nombre_exposed        625\n",
    "nombre_recovered    16232\n",
    "Name: 727, dtype: int64"
   ]
  },
  {
   "cell_type": "markdown",
   "id": "e8f5d7c2",
   "metadata": {},
   "source": [
    "nombre_infected       983\n",
    "nombre_sain          2164\n",
    "nombre_exposed        613\n",
    "nombre_recovered    16240\n",
    "Name: 728, dtype: int64"
   ]
  },
  {
   "cell_type": "markdown",
   "id": "3fa7d38b",
   "metadata": {},
   "source": [
    "nombre_infected      1002\n",
    "nombre_sain          2144\n",
    "nombre_exposed        612\n",
    "nombre_recovered    16242\n",
    "Name: 729, dtype: int64"
   ]
  },
  {
   "cell_type": "markdown",
   "id": "4e5babdc",
   "metadata": {},
   "source": [
    "nombre_infected       993\n",
    "nombre_sain          2122\n",
    "nombre_exposed        615\n",
    "nombre_recovered    16270\n",
    "Name: 730, dtype: int64"
   ]
  }
 ],
 "metadata": {},
 "nbformat": 4,
 "nbformat_minor": 5
}
