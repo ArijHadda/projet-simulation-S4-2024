{
 "cells": [
  {
   "cell_type": "markdown",
   "id": "9dd24ffe",
   "metadata": {},
   "source": [
    "nombre_infected        20\n",
    "nombre_sain         19980\n",
    "nombre_exposed          0\n",
    "nombre_recovered        0\n",
    "Name: 0, dtype: int64"
   ]
  },
  {
   "cell_type": "markdown",
   "id": "f4e37219",
   "metadata": {},
   "source": [
    "nombre_infected        20\n",
    "nombre_sain         19962\n",
    "nombre_exposed         18\n",
    "nombre_recovered        0\n",
    "Name: 1, dtype: int64"
   ]
  },
  {
   "cell_type": "markdown",
   "id": "3e4e4f03",
   "metadata": {},
   "source": [
    "nombre_infected        20\n",
    "nombre_sain         19936\n",
    "nombre_exposed         44\n",
    "nombre_recovered        0\n",
    "Name: 2, dtype: int64"
   ]
  },
  {
   "cell_type": "markdown",
   "id": "328535c3",
   "metadata": {},
   "source": [
    "nombre_infected        23\n",
    "nombre_sain         19913\n",
    "nombre_exposed         64\n",
    "nombre_recovered        0\n",
    "Name: 3, dtype: int64"
   ]
  },
  {
   "cell_type": "markdown",
   "id": "35777896",
   "metadata": {},
   "source": [
    "nombre_infected        31\n",
    "nombre_sain         19885\n",
    "nombre_exposed         84\n",
    "nombre_recovered        0\n",
    "Name: 4, dtype: int64"
   ]
  },
  {
   "cell_type": "markdown",
   "id": "e6ca236a",
   "metadata": {},
   "source": [
    "nombre_infected        45\n",
    "nombre_sain         19826\n",
    "nombre_exposed        129\n",
    "nombre_recovered        0\n",
    "Name: 5, dtype: int64"
   ]
  },
  {
   "cell_type": "markdown",
   "id": "7eff64af",
   "metadata": {},
   "source": [
    "nombre_infected        64\n",
    "nombre_sain         19768\n",
    "nombre_exposed        167\n",
    "nombre_recovered        1\n",
    "Name: 6, dtype: int64"
   ]
  },
  {
   "cell_type": "markdown",
   "id": "11f08d0f",
   "metadata": {},
   "source": [
    "nombre_infected        87\n",
    "nombre_sain         19676\n",
    "nombre_exposed        235\n",
    "nombre_recovered        2\n",
    "Name: 7, dtype: int64"
   ]
  },
  {
   "cell_type": "markdown",
   "id": "67b899ec",
   "metadata": {},
   "source": [
    "nombre_infected       118\n",
    "nombre_sain         19527\n",
    "nombre_exposed        352\n",
    "nombre_recovered        3\n",
    "Name: 8, dtype: int64"
   ]
  },
  {
   "cell_type": "markdown",
   "id": "0206ba38",
   "metadata": {},
   "source": [
    "nombre_infected       162\n",
    "nombre_sain         19367\n",
    "nombre_exposed        463\n",
    "nombre_recovered        8\n",
    "Name: 9, dtype: int64"
   ]
  },
  {
   "cell_type": "markdown",
   "id": "a5b0f984",
   "metadata": {},
   "source": [
    "nombre_infected       236\n",
    "nombre_sain         19148\n",
    "nombre_exposed        605\n",
    "nombre_recovered       11\n",
    "Name: 10, dtype: int64"
   ]
  },
  {
   "cell_type": "markdown",
   "id": "d93ccf03",
   "metadata": {},
   "source": [
    "nombre_infected       307\n",
    "nombre_sain         18836\n",
    "nombre_exposed        812\n",
    "nombre_recovered       45\n",
    "Name: 11, dtype: int64"
   ]
  },
  {
   "cell_type": "markdown",
   "id": "4e1ddaae",
   "metadata": {},
   "source": [
    "nombre_infected       404\n",
    "nombre_sain         18402\n",
    "nombre_exposed       1119\n",
    "nombre_recovered       75\n",
    "Name: 12, dtype: int64"
   ]
  },
  {
   "cell_type": "markdown",
   "id": "bfbd4763",
   "metadata": {},
   "source": [
    "nombre_infected       548\n",
    "nombre_sain         17886\n",
    "nombre_exposed       1451\n",
    "nombre_recovered      115\n",
    "Name: 13, dtype: int64"
   ]
  },
  {
   "cell_type": "markdown",
   "id": "50800357",
   "metadata": {},
   "source": [
    "nombre_infected       775\n",
    "nombre_sain         17227\n",
    "nombre_exposed       1851\n",
    "nombre_recovered      147\n",
    "Name: 14, dtype: int64"
   ]
  },
  {
   "cell_type": "markdown",
   "id": "2dd3395a",
   "metadata": {},
   "source": [
    "nombre_infected       996\n",
    "nombre_sain         16283\n",
    "nombre_exposed       2497\n",
    "nombre_recovered      224\n",
    "Name: 15, dtype: int64"
   ]
  },
  {
   "cell_type": "markdown",
   "id": "01819ebe",
   "metadata": {},
   "source": [
    "nombre_infected      1346\n",
    "nombre_sain         15134\n",
    "nombre_exposed       3229\n",
    "nombre_recovered      291\n",
    "Name: 16, dtype: int64"
   ]
  },
  {
   "cell_type": "markdown",
   "id": "f021b71c",
   "metadata": {},
   "source": [
    "nombre_infected      1736\n",
    "nombre_sain         13882\n",
    "nombre_exposed       3974\n",
    "nombre_recovered      408\n",
    "Name: 17, dtype: int64"
   ]
  },
  {
   "cell_type": "markdown",
   "id": "794a1876",
   "metadata": {},
   "source": [
    "nombre_infected      2294\n",
    "nombre_sain         12366\n",
    "nombre_exposed       4771\n",
    "nombre_recovered      569\n",
    "Name: 18, dtype: int64"
   ]
  },
  {
   "cell_type": "markdown",
   "id": "1bc286ba",
   "metadata": {},
   "source": [
    "nombre_infected      2973\n",
    "nombre_sain         10598\n",
    "nombre_exposed       5653\n",
    "nombre_recovered      776\n",
    "Name: 19, dtype: int64"
   ]
  },
  {
   "cell_type": "markdown",
   "id": "45d7a28a",
   "metadata": {},
   "source": [
    "nombre_infected     3747\n",
    "nombre_sain         8848\n",
    "nombre_exposed      6366\n",
    "nombre_recovered    1039\n",
    "Name: 20, dtype: int64"
   ]
  },
  {
   "cell_type": "markdown",
   "id": "86b5d380",
   "metadata": {},
   "source": [
    "nombre_infected     4585\n",
    "nombre_sain         7113\n",
    "nombre_exposed      6916\n",
    "nombre_recovered    1386\n",
    "Name: 21, dtype: int64"
   ]
  },
  {
   "cell_type": "markdown",
   "id": "bd109168",
   "metadata": {},
   "source": [
    "nombre_infected     5490\n",
    "nombre_sain         5488\n",
    "nombre_exposed      7200\n",
    "nombre_recovered    1822\n",
    "Name: 22, dtype: int64"
   ]
  },
  {
   "cell_type": "markdown",
   "id": "90adeb0d",
   "metadata": {},
   "source": [
    "nombre_infected     6491\n",
    "nombre_sain         4105\n",
    "nombre_exposed      7042\n",
    "nombre_recovered    2362\n",
    "Name: 23, dtype: int64"
   ]
  },
  {
   "cell_type": "markdown",
   "id": "5519e6e3",
   "metadata": {},
   "source": [
    "nombre_infected     7392\n",
    "nombre_sain         2992\n",
    "nombre_exposed      6618\n",
    "nombre_recovered    2998\n",
    "Name: 24, dtype: int64"
   ]
  },
  {
   "cell_type": "markdown",
   "id": "0da0c4da",
   "metadata": {},
   "source": [
    "nombre_infected     8063\n",
    "nombre_sain         2052\n",
    "nombre_exposed      6138\n",
    "nombre_recovered    3747\n",
    "Name: 25, dtype: int64"
   ]
  },
  {
   "cell_type": "markdown",
   "id": "672f0b24",
   "metadata": {},
   "source": [
    "nombre_infected     8549\n",
    "nombre_sain         1423\n",
    "nombre_exposed      5393\n",
    "nombre_recovered    4635\n",
    "Name: 26, dtype: int64"
   ]
  },
  {
   "cell_type": "markdown",
   "id": "9d6148d5",
   "metadata": {},
   "source": [
    "nombre_infected     8847\n",
    "nombre_sain          969\n",
    "nombre_exposed      4623\n",
    "nombre_recovered    5561\n",
    "Name: 27, dtype: int64"
   ]
  },
  {
   "cell_type": "markdown",
   "id": "a5c2e72c",
   "metadata": {},
   "source": [
    "nombre_infected     8961\n",
    "nombre_sain          659\n",
    "nombre_exposed      3866\n",
    "nombre_recovered    6514\n",
    "Name: 28, dtype: int64"
   ]
  },
  {
   "cell_type": "markdown",
   "id": "2e5bfbb6",
   "metadata": {},
   "source": [
    "nombre_infected     8839\n",
    "nombre_sain          445\n",
    "nombre_exposed      3181\n",
    "nombre_recovered    7535\n",
    "Name: 29, dtype: int64"
   ]
  },
  {
   "cell_type": "markdown",
   "id": "edf166c6",
   "metadata": {},
   "source": [
    "nombre_infected     8604\n",
    "nombre_sain          325\n",
    "nombre_exposed      2516\n",
    "nombre_recovered    8555\n",
    "Name: 30, dtype: int64"
   ]
  },
  {
   "cell_type": "markdown",
   "id": "dcd6404c",
   "metadata": {},
   "source": [
    "nombre_infected     8154\n",
    "nombre_sain          219\n",
    "nombre_exposed      2058\n",
    "nombre_recovered    9569\n",
    "Name: 31, dtype: int64"
   ]
  },
  {
   "cell_type": "markdown",
   "id": "c5c047a0",
   "metadata": {},
   "source": [
    "nombre_infected      7695\n",
    "nombre_sain           174\n",
    "nombre_exposed       1590\n",
    "nombre_recovered    10541\n",
    "Name: 32, dtype: int64"
   ]
  },
  {
   "cell_type": "markdown",
   "id": "9a902602",
   "metadata": {},
   "source": [
    "nombre_infected      7114\n",
    "nombre_sain           135\n",
    "nombre_exposed       1252\n",
    "nombre_recovered    11499\n",
    "Name: 33, dtype: int64"
   ]
  },
  {
   "cell_type": "markdown",
   "id": "a4281afe",
   "metadata": {},
   "source": [
    "nombre_infected      6589\n",
    "nombre_sain           123\n",
    "nombre_exposed        976\n",
    "nombre_recovered    12312\n",
    "Name: 34, dtype: int64"
   ]
  },
  {
   "cell_type": "markdown",
   "id": "e4cc964c",
   "metadata": {},
   "source": [
    "nombre_infected      5998\n",
    "nombre_sain           108\n",
    "nombre_exposed        790\n",
    "nombre_recovered    13104\n",
    "Name: 35, dtype: int64"
   ]
  },
  {
   "cell_type": "markdown",
   "id": "31cc569a",
   "metadata": {},
   "source": [
    "nombre_infected      5448\n",
    "nombre_sain           123\n",
    "nombre_exposed        605\n",
    "nombre_recovered    13824\n",
    "Name: 36, dtype: int64"
   ]
  },
  {
   "cell_type": "markdown",
   "id": "91abc75d",
   "metadata": {},
   "source": [
    "nombre_infected      4918\n",
    "nombre_sain           130\n",
    "nombre_exposed        490\n",
    "nombre_recovered    14462\n",
    "Name: 37, dtype: int64"
   ]
  },
  {
   "cell_type": "markdown",
   "id": "d5dfb095",
   "metadata": {},
   "source": [
    "nombre_infected      4451\n",
    "nombre_sain           144\n",
    "nombre_exposed        404\n",
    "nombre_recovered    15001\n",
    "Name: 38, dtype: int64"
   ]
  },
  {
   "cell_type": "markdown",
   "id": "ce1271f3",
   "metadata": {},
   "source": [
    "nombre_infected      3971\n",
    "nombre_sain           156\n",
    "nombre_exposed        355\n",
    "nombre_recovered    15518\n",
    "Name: 39, dtype: int64"
   ]
  },
  {
   "cell_type": "markdown",
   "id": "2dc6df22",
   "metadata": {},
   "source": [
    "nombre_infected      3562\n",
    "nombre_sain           185\n",
    "nombre_exposed        289\n",
    "nombre_recovered    15964\n",
    "Name: 40, dtype: int64"
   ]
  },
  {
   "cell_type": "markdown",
   "id": "326ac938",
   "metadata": {},
   "source": [
    "nombre_infected      3184\n",
    "nombre_sain           196\n",
    "nombre_exposed        258\n",
    "nombre_recovered    16362\n",
    "Name: 41, dtype: int64"
   ]
  },
  {
   "cell_type": "markdown",
   "id": "ba220499",
   "metadata": {},
   "source": [
    "nombre_infected      2873\n",
    "nombre_sain           226\n",
    "nombre_exposed        233\n",
    "nombre_recovered    16668\n",
    "Name: 42, dtype: int64"
   ]
  },
  {
   "cell_type": "markdown",
   "id": "102185c3",
   "metadata": {},
   "source": [
    "nombre_infected      2549\n",
    "nombre_sain           255\n",
    "nombre_exposed        214\n",
    "nombre_recovered    16982\n",
    "Name: 43, dtype: int64"
   ]
  },
  {
   "cell_type": "markdown",
   "id": "19badcb9",
   "metadata": {},
   "source": [
    "nombre_infected      2261\n",
    "nombre_sain           282\n",
    "nombre_exposed        209\n",
    "nombre_recovered    17248\n",
    "Name: 44, dtype: int64"
   ]
  },
  {
   "cell_type": "markdown",
   "id": "cc8097cd",
   "metadata": {},
   "source": [
    "nombre_infected      1982\n",
    "nombre_sain           303\n",
    "nombre_exposed        192\n",
    "nombre_recovered    17523\n",
    "Name: 45, dtype: int64"
   ]
  },
  {
   "cell_type": "markdown",
   "id": "c73b392d",
   "metadata": {},
   "source": [
    "nombre_infected      1747\n",
    "nombre_sain           330\n",
    "nombre_exposed        173\n",
    "nombre_recovered    17750\n",
    "Name: 46, dtype: int64"
   ]
  },
  {
   "cell_type": "markdown",
   "id": "9ad25f7e",
   "metadata": {},
   "source": [
    "nombre_infected      1540\n",
    "nombre_sain           372\n",
    "nombre_exposed        156\n",
    "nombre_recovered    17932\n",
    "Name: 47, dtype: int64"
   ]
  },
  {
   "cell_type": "markdown",
   "id": "1519ec7e",
   "metadata": {},
   "source": [
    "nombre_infected      1334\n",
    "nombre_sain           373\n",
    "nombre_exposed        153\n",
    "nombre_recovered    18140\n",
    "Name: 48, dtype: int64"
   ]
  },
  {
   "cell_type": "markdown",
   "id": "f0a7b5aa",
   "metadata": {},
   "source": [
    "nombre_infected      1152\n",
    "nombre_sain           410\n",
    "nombre_exposed        145\n",
    "nombre_recovered    18293\n",
    "Name: 49, dtype: int64"
   ]
  },
  {
   "cell_type": "markdown",
   "id": "f5c38b33",
   "metadata": {},
   "source": [
    "nombre_infected      1016\n",
    "nombre_sain           454\n",
    "nombre_exposed        135\n",
    "nombre_recovered    18395\n",
    "Name: 50, dtype: int64"
   ]
  },
  {
   "cell_type": "markdown",
   "id": "89c543b2",
   "metadata": {},
   "source": [
    "nombre_infected       877\n",
    "nombre_sain           483\n",
    "nombre_exposed        121\n",
    "nombre_recovered    18519\n",
    "Name: 51, dtype: int64"
   ]
  },
  {
   "cell_type": "markdown",
   "id": "d426e74b",
   "metadata": {},
   "source": [
    "nombre_infected       765\n",
    "nombre_sain           516\n",
    "nombre_exposed        113\n",
    "nombre_recovered    18606\n",
    "Name: 52, dtype: int64"
   ]
  },
  {
   "cell_type": "markdown",
   "id": "af9c8a9e",
   "metadata": {},
   "source": [
    "nombre_infected       672\n",
    "nombre_sain           553\n",
    "nombre_exposed        106\n",
    "nombre_recovered    18669\n",
    "Name: 53, dtype: int64"
   ]
  },
  {
   "cell_type": "markdown",
   "id": "cb9e60af",
   "metadata": {},
   "source": [
    "nombre_infected       566\n",
    "nombre_sain           602\n",
    "nombre_exposed         92\n",
    "nombre_recovered    18740\n",
    "Name: 54, dtype: int64"
   ]
  },
  {
   "cell_type": "markdown",
   "id": "0cf14d48",
   "metadata": {},
   "source": [
    "nombre_infected       509\n",
    "nombre_sain           667\n",
    "nombre_exposed         71\n",
    "nombre_recovered    18753\n",
    "Name: 55, dtype: int64"
   ]
  },
  {
   "cell_type": "markdown",
   "id": "a3035fd0",
   "metadata": {},
   "source": [
    "nombre_infected       429\n",
    "nombre_sain           734\n",
    "nombre_exposed         71\n",
    "nombre_recovered    18766\n",
    "Name: 56, dtype: int64"
   ]
  },
  {
   "cell_type": "markdown",
   "id": "3e97f6d4",
   "metadata": {},
   "source": [
    "nombre_infected       381\n",
    "nombre_sain           780\n",
    "nombre_exposed         75\n",
    "nombre_recovered    18764\n",
    "Name: 57, dtype: int64"
   ]
  },
  {
   "cell_type": "markdown",
   "id": "a0a425f3",
   "metadata": {},
   "source": [
    "nombre_infected       322\n",
    "nombre_sain           832\n",
    "nombre_exposed         72\n",
    "nombre_recovered    18774\n",
    "Name: 58, dtype: int64"
   ]
  },
  {
   "cell_type": "markdown",
   "id": "a9e82ce1",
   "metadata": {},
   "source": [
    "nombre_infected       288\n",
    "nombre_sain           870\n",
    "nombre_exposed         73\n",
    "nombre_recovered    18769\n",
    "Name: 59, dtype: int64"
   ]
  },
  {
   "cell_type": "markdown",
   "id": "525a7f80",
   "metadata": {},
   "source": [
    "nombre_infected       245\n",
    "nombre_sain           921\n",
    "nombre_exposed         69\n",
    "nombre_recovered    18765\n",
    "Name: 60, dtype: int64"
   ]
  },
  {
   "cell_type": "markdown",
   "id": "35235367",
   "metadata": {},
   "source": [
    "nombre_infected       227\n",
    "nombre_sain           998\n",
    "nombre_exposed         59\n",
    "nombre_recovered    18716\n",
    "Name: 61, dtype: int64"
   ]
  },
  {
   "cell_type": "markdown",
   "id": "80c17025",
   "metadata": {},
   "source": [
    "nombre_infected       205\n",
    "nombre_sain          1052\n",
    "nombre_exposed         57\n",
    "nombre_recovered    18686\n",
    "Name: 62, dtype: int64"
   ]
  },
  {
   "cell_type": "markdown",
   "id": "8e4472f8",
   "metadata": {},
   "source": [
    "nombre_infected       176\n",
    "nombre_sain          1114\n",
    "nombre_exposed         55\n",
    "nombre_recovered    18655\n",
    "Name: 63, dtype: int64"
   ]
  },
  {
   "cell_type": "markdown",
   "id": "3accbb27",
   "metadata": {},
   "source": [
    "nombre_infected       176\n",
    "nombre_sain          1177\n",
    "nombre_exposed         46\n",
    "nombre_recovered    18601\n",
    "Name: 64, dtype: int64"
   ]
  },
  {
   "cell_type": "markdown",
   "id": "c8034002",
   "metadata": {},
   "source": [
    "nombre_infected       157\n",
    "nombre_sain          1247\n",
    "nombre_exposed         42\n",
    "nombre_recovered    18554\n",
    "Name: 65, dtype: int64"
   ]
  },
  {
   "cell_type": "markdown",
   "id": "3a4ed55a",
   "metadata": {},
   "source": [
    "nombre_infected       146\n",
    "nombre_sain          1306\n",
    "nombre_exposed         40\n",
    "nombre_recovered    18508\n",
    "Name: 66, dtype: int64"
   ]
  },
  {
   "cell_type": "markdown",
   "id": "45c8d950",
   "metadata": {},
   "source": [
    "nombre_infected       134\n",
    "nombre_sain          1349\n",
    "nombre_exposed         43\n",
    "nombre_recovered    18474\n",
    "Name: 67, dtype: int64"
   ]
  },
  {
   "cell_type": "markdown",
   "id": "c609a3e1",
   "metadata": {},
   "source": [
    "nombre_infected       124\n",
    "nombre_sain          1402\n",
    "nombre_exposed         36\n",
    "nombre_recovered    18438\n",
    "Name: 68, dtype: int64"
   ]
  },
  {
   "cell_type": "markdown",
   "id": "6aa20379",
   "metadata": {},
   "source": [
    "nombre_infected       116\n",
    "nombre_sain          1452\n",
    "nombre_exposed         32\n",
    "nombre_recovered    18400\n",
    "Name: 69, dtype: int64"
   ]
  },
  {
   "cell_type": "markdown",
   "id": "9215eeca",
   "metadata": {},
   "source": [
    "nombre_infected       106\n",
    "nombre_sain          1515\n",
    "nombre_exposed         29\n",
    "nombre_recovered    18350\n",
    "Name: 70, dtype: int64"
   ]
  },
  {
   "cell_type": "markdown",
   "id": "ca298b9d",
   "metadata": {},
   "source": [
    "nombre_infected        99\n",
    "nombre_sain          1560\n",
    "nombre_exposed         29\n",
    "nombre_recovered    18312\n",
    "Name: 71, dtype: int64"
   ]
  },
  {
   "cell_type": "markdown",
   "id": "a01e571f",
   "metadata": {},
   "source": [
    "nombre_infected        89\n",
    "nombre_sain          1598\n",
    "nombre_exposed         36\n",
    "nombre_recovered    18277\n",
    "Name: 72, dtype: int64"
   ]
  },
  {
   "cell_type": "markdown",
   "id": "cc451640",
   "metadata": {},
   "source": [
    "nombre_infected        73\n",
    "nombre_sain          1625\n",
    "nombre_exposed         40\n",
    "nombre_recovered    18262\n",
    "Name: 73, dtype: int64"
   ]
  },
  {
   "cell_type": "markdown",
   "id": "c07302e1",
   "metadata": {},
   "source": [
    "nombre_infected        63\n",
    "nombre_sain          1676\n",
    "nombre_exposed         36\n",
    "nombre_recovered    18225\n",
    "Name: 74, dtype: int64"
   ]
  },
  {
   "cell_type": "markdown",
   "id": "b01a8a5c",
   "metadata": {},
   "source": [
    "nombre_infected        58\n",
    "nombre_sain          1729\n",
    "nombre_exposed         33\n",
    "nombre_recovered    18180\n",
    "Name: 75, dtype: int64"
   ]
  },
  {
   "cell_type": "markdown",
   "id": "4017b621",
   "metadata": {},
   "source": [
    "nombre_infected        60\n",
    "nombre_sain          1780\n",
    "nombre_exposed         25\n",
    "nombre_recovered    18135\n",
    "Name: 76, dtype: int64"
   ]
  },
  {
   "cell_type": "markdown",
   "id": "2fbda121",
   "metadata": {},
   "source": [
    "nombre_infected        63\n",
    "nombre_sain          1843\n",
    "nombre_exposed         22\n",
    "nombre_recovered    18072\n",
    "Name: 77, dtype: int64"
   ]
  },
  {
   "cell_type": "markdown",
   "id": "cdfe2fe0",
   "metadata": {},
   "source": [
    "nombre_infected        61\n",
    "nombre_sain          1903\n",
    "nombre_exposed         21\n",
    "nombre_recovered    18015\n",
    "Name: 78, dtype: int64"
   ]
  },
  {
   "cell_type": "markdown",
   "id": "223ba350",
   "metadata": {},
   "source": [
    "nombre_infected        59\n",
    "nombre_sain          1964\n",
    "nombre_exposed         28\n",
    "nombre_recovered    17949\n",
    "Name: 79, dtype: int64"
   ]
  },
  {
   "cell_type": "markdown",
   "id": "549fee55",
   "metadata": {},
   "source": [
    "nombre_infected        56\n",
    "nombre_sain          2021\n",
    "nombre_exposed         30\n",
    "nombre_recovered    17893\n",
    "Name: 80, dtype: int64"
   ]
  },
  {
   "cell_type": "markdown",
   "id": "b747c022",
   "metadata": {},
   "source": [
    "nombre_infected        53\n",
    "nombre_sain          2068\n",
    "nombre_exposed         35\n",
    "nombre_recovered    17844\n",
    "Name: 81, dtype: int64"
   ]
  },
  {
   "cell_type": "markdown",
   "id": "fa863d1b",
   "metadata": {},
   "source": [
    "nombre_infected        49\n",
    "nombre_sain          2135\n",
    "nombre_exposed         37\n",
    "nombre_recovered    17779\n",
    "Name: 82, dtype: int64"
   ]
  },
  {
   "cell_type": "markdown",
   "id": "ddd37ff4",
   "metadata": {},
   "source": [
    "nombre_infected        46\n",
    "nombre_sain          2207\n",
    "nombre_exposed         36\n",
    "nombre_recovered    17711\n",
    "Name: 83, dtype: int64"
   ]
  },
  {
   "cell_type": "markdown",
   "id": "1861b0b1",
   "metadata": {},
   "source": [
    "nombre_infected        50\n",
    "nombre_sain          2248\n",
    "nombre_exposed         30\n",
    "nombre_recovered    17672\n",
    "Name: 84, dtype: int64"
   ]
  },
  {
   "cell_type": "markdown",
   "id": "c680087a",
   "metadata": {},
   "source": [
    "nombre_infected        52\n",
    "nombre_sain          2285\n",
    "nombre_exposed         34\n",
    "nombre_recovered    17629\n",
    "Name: 85, dtype: int64"
   ]
  },
  {
   "cell_type": "markdown",
   "id": "29f14db6",
   "metadata": {},
   "source": [
    "nombre_infected        56\n",
    "nombre_sain          2329\n",
    "nombre_exposed         34\n",
    "nombre_recovered    17581\n",
    "Name: 86, dtype: int64"
   ]
  },
  {
   "cell_type": "markdown",
   "id": "7c5de489",
   "metadata": {},
   "source": [
    "nombre_infected        62\n",
    "nombre_sain          2373\n",
    "nombre_exposed         32\n",
    "nombre_recovered    17533\n",
    "Name: 87, dtype: int64"
   ]
  },
  {
   "cell_type": "markdown",
   "id": "60b536db",
   "metadata": {},
   "source": [
    "nombre_infected        59\n",
    "nombre_sain          2398\n",
    "nombre_exposed         29\n",
    "nombre_recovered    17514\n",
    "Name: 88, dtype: int64"
   ]
  },
  {
   "cell_type": "markdown",
   "id": "84bdfef3",
   "metadata": {},
   "source": [
    "nombre_infected        64\n",
    "nombre_sain          2422\n",
    "nombre_exposed         29\n",
    "nombre_recovered    17485\n",
    "Name: 89, dtype: int64"
   ]
  },
  {
   "cell_type": "markdown",
   "id": "5c93f767",
   "metadata": {},
   "source": [
    "nombre_infected        58\n",
    "nombre_sain          2462\n",
    "nombre_exposed         31\n",
    "nombre_recovered    17449\n",
    "Name: 90, dtype: int64"
   ]
  },
  {
   "cell_type": "markdown",
   "id": "4df25b87",
   "metadata": {},
   "source": [
    "nombre_infected        53\n",
    "nombre_sain          2491\n",
    "nombre_exposed         36\n",
    "nombre_recovered    17420\n",
    "Name: 91, dtype: int64"
   ]
  },
  {
   "cell_type": "markdown",
   "id": "867f8735",
   "metadata": {},
   "source": [
    "nombre_infected        59\n",
    "nombre_sain          2526\n",
    "nombre_exposed         36\n",
    "nombre_recovered    17379\n",
    "Name: 92, dtype: int64"
   ]
  },
  {
   "cell_type": "markdown",
   "id": "a6c3d0cd",
   "metadata": {},
   "source": [
    "nombre_infected        64\n",
    "nombre_sain          2564\n",
    "nombre_exposed         31\n",
    "nombre_recovered    17341\n",
    "Name: 93, dtype: int64"
   ]
  },
  {
   "cell_type": "markdown",
   "id": "b8c40485",
   "metadata": {},
   "source": [
    "nombre_infected        63\n",
    "nombre_sain          2598\n",
    "nombre_exposed         33\n",
    "nombre_recovered    17306\n",
    "Name: 94, dtype: int64"
   ]
  },
  {
   "cell_type": "markdown",
   "id": "e64f0542",
   "metadata": {},
   "source": [
    "nombre_infected        65\n",
    "nombre_sain          2634\n",
    "nombre_exposed         37\n",
    "nombre_recovered    17264\n",
    "Name: 95, dtype: int64"
   ]
  },
  {
   "cell_type": "markdown",
   "id": "fb867ff8",
   "metadata": {},
   "source": [
    "nombre_infected        65\n",
    "nombre_sain          2682\n",
    "nombre_exposed         47\n",
    "nombre_recovered    17206\n",
    "Name: 96, dtype: int64"
   ]
  },
  {
   "cell_type": "markdown",
   "id": "5ec450bf",
   "metadata": {},
   "source": [
    "nombre_infected        65\n",
    "nombre_sain          2748\n",
    "nombre_exposed         49\n",
    "nombre_recovered    17138\n",
    "Name: 97, dtype: int64"
   ]
  },
  {
   "cell_type": "markdown",
   "id": "30c6a61d",
   "metadata": {},
   "source": [
    "nombre_infected        64\n",
    "nombre_sain          2798\n",
    "nombre_exposed         52\n",
    "nombre_recovered    17086\n",
    "Name: 98, dtype: int64"
   ]
  },
  {
   "cell_type": "markdown",
   "id": "dafd8f24",
   "metadata": {},
   "source": [
    "nombre_infected        68\n",
    "nombre_sain          2867\n",
    "nombre_exposed         55\n",
    "nombre_recovered    17010\n",
    "Name: 99, dtype: int64"
   ]
  },
  {
   "cell_type": "markdown",
   "id": "a4ff3b5d",
   "metadata": {},
   "source": [
    "nombre_infected        72\n",
    "nombre_sain          2923\n",
    "nombre_exposed         52\n",
    "nombre_recovered    16953\n",
    "Name: 100, dtype: int64"
   ]
  },
  {
   "cell_type": "markdown",
   "id": "456170e6",
   "metadata": {},
   "source": [
    "nombre_infected        83\n",
    "nombre_sain          2985\n",
    "nombre_exposed         39\n",
    "nombre_recovered    16893\n",
    "Name: 101, dtype: int64"
   ]
  },
  {
   "cell_type": "markdown",
   "id": "b6f89be3",
   "metadata": {},
   "source": [
    "nombre_infected        86\n",
    "nombre_sain          3026\n",
    "nombre_exposed         51\n",
    "nombre_recovered    16837\n",
    "Name: 102, dtype: int64"
   ]
  },
  {
   "cell_type": "markdown",
   "id": "4efe8bd2",
   "metadata": {},
   "source": [
    "nombre_infected        86\n",
    "nombre_sain          3075\n",
    "nombre_exposed         68\n",
    "nombre_recovered    16771\n",
    "Name: 103, dtype: int64"
   ]
  },
  {
   "cell_type": "markdown",
   "id": "6ad0f8e7",
   "metadata": {},
   "source": [
    "nombre_infected        85\n",
    "nombre_sain          3113\n",
    "nombre_exposed         76\n",
    "nombre_recovered    16726\n",
    "Name: 104, dtype: int64"
   ]
  },
  {
   "cell_type": "markdown",
   "id": "da404f04",
   "metadata": {},
   "source": [
    "nombre_infected        96\n",
    "nombre_sain          3154\n",
    "nombre_exposed         75\n",
    "nombre_recovered    16675\n",
    "Name: 105, dtype: int64"
   ]
  },
  {
   "cell_type": "markdown",
   "id": "fe6a12ad",
   "metadata": {},
   "source": [
    "nombre_infected       101\n",
    "nombre_sain          3209\n",
    "nombre_exposed         70\n",
    "nombre_recovered    16620\n",
    "Name: 106, dtype: int64"
   ]
  },
  {
   "cell_type": "markdown",
   "id": "9f0b1ebe",
   "metadata": {},
   "source": [
    "nombre_infected       103\n",
    "nombre_sain          3231\n",
    "nombre_exposed         74\n",
    "nombre_recovered    16592\n",
    "Name: 107, dtype: int64"
   ]
  },
  {
   "cell_type": "markdown",
   "id": "45495fef",
   "metadata": {},
   "source": [
    "nombre_infected        99\n",
    "nombre_sain          3261\n",
    "nombre_exposed         81\n",
    "nombre_recovered    16559\n",
    "Name: 108, dtype: int64"
   ]
  },
  {
   "cell_type": "markdown",
   "id": "25b86aea",
   "metadata": {},
   "source": [
    "nombre_infected        98\n",
    "nombre_sain          3281\n",
    "nombre_exposed         90\n",
    "nombre_recovered    16531\n",
    "Name: 109, dtype: int64"
   ]
  },
  {
   "cell_type": "markdown",
   "id": "39023df6",
   "metadata": {},
   "source": [
    "nombre_infected       100\n",
    "nombre_sain          3308\n",
    "nombre_exposed         90\n",
    "nombre_recovered    16502\n",
    "Name: 110, dtype: int64"
   ]
  },
  {
   "cell_type": "markdown",
   "id": "d9f39fe7",
   "metadata": {},
   "source": [
    "nombre_infected       110\n",
    "nombre_sain          3333\n",
    "nombre_exposed         83\n",
    "nombre_recovered    16474\n",
    "Name: 111, dtype: int64"
   ]
  },
  {
   "cell_type": "markdown",
   "id": "648ed2ba",
   "metadata": {},
   "source": [
    "nombre_infected       117\n",
    "nombre_sain          3353\n",
    "nombre_exposed         89\n",
    "nombre_recovered    16441\n",
    "Name: 112, dtype: int64"
   ]
  },
  {
   "cell_type": "markdown",
   "id": "6c4d5358",
   "metadata": {},
   "source": [
    "nombre_infected       119\n",
    "nombre_sain          3372\n",
    "nombre_exposed         92\n",
    "nombre_recovered    16417\n",
    "Name: 113, dtype: int64"
   ]
  },
  {
   "cell_type": "markdown",
   "id": "f8a9809b",
   "metadata": {},
   "source": [
    "nombre_infected       131\n",
    "nombre_sain          3380\n",
    "nombre_exposed        104\n",
    "nombre_recovered    16385\n",
    "Name: 114, dtype: int64"
   ]
  },
  {
   "cell_type": "markdown",
   "id": "11267f3b",
   "metadata": {},
   "source": [
    "nombre_infected       139\n",
    "nombre_sain          3397\n",
    "nombre_exposed        108\n",
    "nombre_recovered    16356\n",
    "Name: 115, dtype: int64"
   ]
  },
  {
   "cell_type": "markdown",
   "id": "c604852e",
   "metadata": {},
   "source": [
    "nombre_infected       147\n",
    "nombre_sain          3425\n",
    "nombre_exposed        113\n",
    "nombre_recovered    16315\n",
    "Name: 116, dtype: int64"
   ]
  },
  {
   "cell_type": "markdown",
   "id": "c6cc882d",
   "metadata": {},
   "source": [
    "nombre_infected       146\n",
    "nombre_sain          3449\n",
    "nombre_exposed        120\n",
    "nombre_recovered    16285\n",
    "Name: 117, dtype: int64"
   ]
  },
  {
   "cell_type": "markdown",
   "id": "4b7d3cab",
   "metadata": {},
   "source": [
    "nombre_infected       152\n",
    "nombre_sain          3468\n",
    "nombre_exposed        122\n",
    "nombre_recovered    16258\n",
    "Name: 118, dtype: int64"
   ]
  },
  {
   "cell_type": "markdown",
   "id": "bf8dacf7",
   "metadata": {},
   "source": [
    "nombre_infected       166\n",
    "nombre_sain          3479\n",
    "nombre_exposed        121\n",
    "nombre_recovered    16234\n",
    "Name: 119, dtype: int64"
   ]
  },
  {
   "cell_type": "markdown",
   "id": "d5bdbe76",
   "metadata": {},
   "source": [
    "nombre_infected       163\n",
    "nombre_sain          3517\n",
    "nombre_exposed        117\n",
    "nombre_recovered    16203\n",
    "Name: 120, dtype: int64"
   ]
  },
  {
   "cell_type": "markdown",
   "id": "9dfe82e7",
   "metadata": {},
   "source": [
    "nombre_infected       170\n",
    "nombre_sain          3541\n",
    "nombre_exposed        129\n",
    "nombre_recovered    16160\n",
    "Name: 121, dtype: int64"
   ]
  },
  {
   "cell_type": "markdown",
   "id": "a4651b69",
   "metadata": {},
   "source": [
    "nombre_infected       171\n",
    "nombre_sain          3567\n",
    "nombre_exposed        144\n",
    "nombre_recovered    16118\n",
    "Name: 122, dtype: int64"
   ]
  },
  {
   "cell_type": "markdown",
   "id": "17b02bb6",
   "metadata": {},
   "source": [
    "nombre_infected       178\n",
    "nombre_sain          3576\n",
    "nombre_exposed        146\n",
    "nombre_recovered    16100\n",
    "Name: 123, dtype: int64"
   ]
  },
  {
   "cell_type": "markdown",
   "id": "2c0ae02a",
   "metadata": {},
   "source": [
    "nombre_infected       185\n",
    "nombre_sain          3567\n",
    "nombre_exposed        169\n",
    "nombre_recovered    16079\n",
    "Name: 124, dtype: int64"
   ]
  },
  {
   "cell_type": "markdown",
   "id": "5b2c8b8a",
   "metadata": {},
   "source": [
    "nombre_infected       185\n",
    "nombre_sain          3578\n",
    "nombre_exposed        174\n",
    "nombre_recovered    16063\n",
    "Name: 125, dtype: int64"
   ]
  },
  {
   "cell_type": "markdown",
   "id": "11413071",
   "metadata": {},
   "source": [
    "nombre_infected       195\n",
    "nombre_sain          3580\n",
    "nombre_exposed        181\n",
    "nombre_recovered    16044\n",
    "Name: 126, dtype: int64"
   ]
  },
  {
   "cell_type": "markdown",
   "id": "007e54eb",
   "metadata": {},
   "source": [
    "nombre_infected       202\n",
    "nombre_sain          3580\n",
    "nombre_exposed        189\n",
    "nombre_recovered    16029\n",
    "Name: 127, dtype: int64"
   ]
  },
  {
   "cell_type": "markdown",
   "id": "a48a0d45",
   "metadata": {},
   "source": [
    "nombre_infected       213\n",
    "nombre_sain          3584\n",
    "nombre_exposed        181\n",
    "nombre_recovered    16022\n",
    "Name: 128, dtype: int64"
   ]
  },
  {
   "cell_type": "markdown",
   "id": "f17699b9",
   "metadata": {},
   "source": [
    "nombre_infected       230\n",
    "nombre_sain          3575\n",
    "nombre_exposed        189\n",
    "nombre_recovered    16006\n",
    "Name: 129, dtype: int64"
   ]
  },
  {
   "cell_type": "markdown",
   "id": "cbfaeab5",
   "metadata": {},
   "source": [
    "nombre_infected       237\n",
    "nombre_sain          3560\n",
    "nombre_exposed        204\n",
    "nombre_recovered    15999\n",
    "Name: 130, dtype: int64"
   ]
  },
  {
   "cell_type": "markdown",
   "id": "6e0bad55",
   "metadata": {},
   "source": [
    "nombre_infected       255\n",
    "nombre_sain          3544\n",
    "nombre_exposed        197\n",
    "nombre_recovered    16004\n",
    "Name: 131, dtype: int64"
   ]
  },
  {
   "cell_type": "markdown",
   "id": "5c1e928f",
   "metadata": {},
   "source": [
    "nombre_infected       268\n",
    "nombre_sain          3517\n",
    "nombre_exposed        211\n",
    "nombre_recovered    16004\n",
    "Name: 132, dtype: int64"
   ]
  },
  {
   "cell_type": "markdown",
   "id": "0a214749",
   "metadata": {},
   "source": [
    "nombre_infected       274\n",
    "nombre_sain          3494\n",
    "nombre_exposed        221\n",
    "nombre_recovered    16011\n",
    "Name: 133, dtype: int64"
   ]
  },
  {
   "cell_type": "markdown",
   "id": "d4e9ba7a",
   "metadata": {},
   "source": [
    "nombre_infected       290\n",
    "nombre_sain          3488\n",
    "nombre_exposed        228\n",
    "nombre_recovered    15994\n",
    "Name: 134, dtype: int64"
   ]
  },
  {
   "cell_type": "markdown",
   "id": "eae862f7",
   "metadata": {},
   "source": [
    "nombre_infected       287\n",
    "nombre_sain          3460\n",
    "nombre_exposed        246\n",
    "nombre_recovered    16007\n",
    "Name: 135, dtype: int64"
   ]
  },
  {
   "cell_type": "markdown",
   "id": "7f07e9f4",
   "metadata": {},
   "source": [
    "nombre_infected       301\n",
    "nombre_sain          3451\n",
    "nombre_exposed        253\n",
    "nombre_recovered    15995\n",
    "Name: 136, dtype: int64"
   ]
  },
  {
   "cell_type": "markdown",
   "id": "97f4d6ab",
   "metadata": {},
   "source": [
    "nombre_infected       301\n",
    "nombre_sain          3453\n",
    "nombre_exposed        266\n",
    "nombre_recovered    15980\n",
    "Name: 137, dtype: int64"
   ]
  },
  {
   "cell_type": "markdown",
   "id": "3a5ed125",
   "metadata": {},
   "source": [
    "nombre_infected       311\n",
    "nombre_sain          3439\n",
    "nombre_exposed        281\n",
    "nombre_recovered    15969\n",
    "Name: 138, dtype: int64"
   ]
  },
  {
   "cell_type": "markdown",
   "id": "19e4a5f2",
   "metadata": {},
   "source": [
    "nombre_infected       336\n",
    "nombre_sain          3423\n",
    "nombre_exposed        289\n",
    "nombre_recovered    15952\n",
    "Name: 139, dtype: int64"
   ]
  },
  {
   "cell_type": "markdown",
   "id": "59a274f8",
   "metadata": {},
   "source": [
    "nombre_infected       362\n",
    "nombre_sain          3430\n",
    "nombre_exposed        282\n",
    "nombre_recovered    15926\n",
    "Name: 140, dtype: int64"
   ]
  },
  {
   "cell_type": "markdown",
   "id": "6e42c377",
   "metadata": {},
   "source": [
    "nombre_infected       375\n",
    "nombre_sain          3402\n",
    "nombre_exposed        295\n",
    "nombre_recovered    15928\n",
    "Name: 141, dtype: int64"
   ]
  },
  {
   "cell_type": "markdown",
   "id": "8068bbda",
   "metadata": {},
   "source": [
    "nombre_infected       399\n",
    "nombre_sain          3386\n",
    "nombre_exposed        293\n",
    "nombre_recovered    15922\n",
    "Name: 142, dtype: int64"
   ]
  },
  {
   "cell_type": "markdown",
   "id": "a835d17c",
   "metadata": {},
   "source": [
    "nombre_infected       408\n",
    "nombre_sain          3345\n",
    "nombre_exposed        326\n",
    "nombre_recovered    15921\n",
    "Name: 143, dtype: int64"
   ]
  },
  {
   "cell_type": "markdown",
   "id": "e5967b23",
   "metadata": {},
   "source": [
    "nombre_infected       429\n",
    "nombre_sain          3301\n",
    "nombre_exposed        353\n",
    "nombre_recovered    15917\n",
    "Name: 144, dtype: int64"
   ]
  },
  {
   "cell_type": "markdown",
   "id": "82493fac",
   "metadata": {},
   "source": [
    "nombre_infected       450\n",
    "nombre_sain          3269\n",
    "nombre_exposed        358\n",
    "nombre_recovered    15923\n",
    "Name: 145, dtype: int64"
   ]
  },
  {
   "cell_type": "markdown",
   "id": "95d4416f",
   "metadata": {},
   "source": [
    "nombre_infected       463\n",
    "nombre_sain          3223\n",
    "nombre_exposed        372\n",
    "nombre_recovered    15942\n",
    "Name: 146, dtype: int64"
   ]
  },
  {
   "cell_type": "markdown",
   "id": "dc4b7775",
   "metadata": {},
   "source": [
    "nombre_infected       483\n",
    "nombre_sain          3162\n",
    "nombre_exposed        398\n",
    "nombre_recovered    15957\n",
    "Name: 147, dtype: int64"
   ]
  },
  {
   "cell_type": "markdown",
   "id": "925a562f",
   "metadata": {},
   "source": [
    "nombre_infected       494\n",
    "nombre_sain          3116\n",
    "nombre_exposed        425\n",
    "nombre_recovered    15965\n",
    "Name: 148, dtype: int64"
   ]
  },
  {
   "cell_type": "markdown",
   "id": "c2f55e6e",
   "metadata": {},
   "source": [
    "nombre_infected       540\n",
    "nombre_sain          3063\n",
    "nombre_exposed        416\n",
    "nombre_recovered    15981\n",
    "Name: 149, dtype: int64"
   ]
  },
  {
   "cell_type": "markdown",
   "id": "0d921649",
   "metadata": {},
   "source": [
    "nombre_infected       554\n",
    "nombre_sain          3002\n",
    "nombre_exposed        430\n",
    "nombre_recovered    16014\n",
    "Name: 150, dtype: int64"
   ]
  },
  {
   "cell_type": "markdown",
   "id": "bfc95603",
   "metadata": {},
   "source": [
    "nombre_infected       600\n",
    "nombre_sain          2938\n",
    "nombre_exposed        420\n",
    "nombre_recovered    16042\n",
    "Name: 151, dtype: int64"
   ]
  },
  {
   "cell_type": "markdown",
   "id": "9e23c7ec",
   "metadata": {},
   "source": [
    "nombre_infected       626\n",
    "nombre_sain          2883\n",
    "nombre_exposed        423\n",
    "nombre_recovered    16068\n",
    "Name: 152, dtype: int64"
   ]
  },
  {
   "cell_type": "markdown",
   "id": "057680c4",
   "metadata": {},
   "source": [
    "nombre_infected       638\n",
    "nombre_sain          2830\n",
    "nombre_exposed        429\n",
    "nombre_recovered    16103\n",
    "Name: 153, dtype: int64"
   ]
  },
  {
   "cell_type": "markdown",
   "id": "b1d135a4",
   "metadata": {},
   "source": [
    "nombre_infected       663\n",
    "nombre_sain          2754\n",
    "nombre_exposed        449\n",
    "nombre_recovered    16134\n",
    "Name: 154, dtype: int64"
   ]
  },
  {
   "cell_type": "markdown",
   "id": "f19c0bc4",
   "metadata": {},
   "source": [
    "nombre_infected       660\n",
    "nombre_sain          2694\n",
    "nombre_exposed        474\n",
    "nombre_recovered    16172\n",
    "Name: 155, dtype: int64"
   ]
  },
  {
   "cell_type": "markdown",
   "id": "02a294c1",
   "metadata": {},
   "source": [
    "nombre_infected       682\n",
    "nombre_sain          2671\n",
    "nombre_exposed        443\n",
    "nombre_recovered    16204\n",
    "Name: 156, dtype: int64"
   ]
  },
  {
   "cell_type": "markdown",
   "id": "599fc754",
   "metadata": {},
   "source": [
    "nombre_infected       697\n",
    "nombre_sain          2644\n",
    "nombre_exposed        425\n",
    "nombre_recovered    16234\n",
    "Name: 157, dtype: int64"
   ]
  },
  {
   "cell_type": "markdown",
   "id": "1d273893",
   "metadata": {},
   "source": [
    "nombre_infected       702\n",
    "nombre_sain          2572\n",
    "nombre_exposed        450\n",
    "nombre_recovered    16276\n",
    "Name: 158, dtype: int64"
   ]
  },
  {
   "cell_type": "markdown",
   "id": "b08ba0b0",
   "metadata": {},
   "source": [
    "nombre_infected       714\n",
    "nombre_sain          2518\n",
    "nombre_exposed        476\n",
    "nombre_recovered    16292\n",
    "Name: 159, dtype: int64"
   ]
  },
  {
   "cell_type": "markdown",
   "id": "e60ae407",
   "metadata": {},
   "source": [
    "nombre_infected       717\n",
    "nombre_sain          2494\n",
    "nombre_exposed        465\n",
    "nombre_recovered    16324\n",
    "Name: 160, dtype: int64"
   ]
  },
  {
   "cell_type": "markdown",
   "id": "2fbe020e",
   "metadata": {},
   "source": [
    "nombre_infected       730\n",
    "nombre_sain          2455\n",
    "nombre_exposed        464\n",
    "nombre_recovered    16351\n",
    "Name: 161, dtype: int64"
   ]
  },
  {
   "cell_type": "markdown",
   "id": "f259f673",
   "metadata": {},
   "source": [
    "nombre_infected       757\n",
    "nombre_sain          2411\n",
    "nombre_exposed        464\n",
    "nombre_recovered    16368\n",
    "Name: 162, dtype: int64"
   ]
  },
  {
   "cell_type": "markdown",
   "id": "7f5c6c60",
   "metadata": {},
   "source": [
    "nombre_infected       764\n",
    "nombre_sain          2375\n",
    "nombre_exposed        465\n",
    "nombre_recovered    16396\n",
    "Name: 163, dtype: int64"
   ]
  },
  {
   "cell_type": "markdown",
   "id": "cbb44bf9",
   "metadata": {},
   "source": [
    "nombre_infected       787\n",
    "nombre_sain          2356\n",
    "nombre_exposed        436\n",
    "nombre_recovered    16421\n",
    "Name: 164, dtype: int64"
   ]
  },
  {
   "cell_type": "markdown",
   "id": "3f27635c",
   "metadata": {},
   "source": [
    "nombre_infected       787\n",
    "nombre_sain          2317\n",
    "nombre_exposed        443\n",
    "nombre_recovered    16453\n",
    "Name: 165, dtype: int64"
   ]
  },
  {
   "cell_type": "markdown",
   "id": "3557d3e4",
   "metadata": {},
   "source": [
    "nombre_infected       801\n",
    "nombre_sain          2307\n",
    "nombre_exposed        426\n",
    "nombre_recovered    16466\n",
    "Name: 166, dtype: int64"
   ]
  },
  {
   "cell_type": "markdown",
   "id": "634b6804",
   "metadata": {},
   "source": [
    "nombre_infected       794\n",
    "nombre_sain          2294\n",
    "nombre_exposed        415\n",
    "nombre_recovered    16497\n",
    "Name: 167, dtype: int64"
   ]
  },
  {
   "cell_type": "markdown",
   "id": "d60a6fb3",
   "metadata": {},
   "source": [
    "nombre_infected       780\n",
    "nombre_sain          2223\n",
    "nombre_exposed        445\n",
    "nombre_recovered    16552\n",
    "Name: 168, dtype: int64"
   ]
  },
  {
   "cell_type": "markdown",
   "id": "a57acb9a",
   "metadata": {},
   "source": [
    "nombre_infected       779\n",
    "nombre_sain          2195\n",
    "nombre_exposed        446\n",
    "nombre_recovered    16580\n",
    "Name: 169, dtype: int64"
   ]
  },
  {
   "cell_type": "markdown",
   "id": "1c9f8933",
   "metadata": {},
   "source": [
    "nombre_infected       775\n",
    "nombre_sain          2147\n",
    "nombre_exposed        451\n",
    "nombre_recovered    16627\n",
    "Name: 170, dtype: int64"
   ]
  },
  {
   "cell_type": "markdown",
   "id": "5835ec0b",
   "metadata": {},
   "source": [
    "nombre_infected       791\n",
    "nombre_sain          2132\n",
    "nombre_exposed        409\n",
    "nombre_recovered    16668\n",
    "Name: 171, dtype: int64"
   ]
  },
  {
   "cell_type": "markdown",
   "id": "21284b56",
   "metadata": {},
   "source": [
    "nombre_infected       796\n",
    "nombre_sain          2100\n",
    "nombre_exposed        391\n",
    "nombre_recovered    16713\n",
    "Name: 172, dtype: int64"
   ]
  },
  {
   "cell_type": "markdown",
   "id": "df5b6090",
   "metadata": {},
   "source": [
    "nombre_infected       793\n",
    "nombre_sain          2064\n",
    "nombre_exposed        402\n",
    "nombre_recovered    16741\n",
    "Name: 173, dtype: int64"
   ]
  },
  {
   "cell_type": "markdown",
   "id": "22057825",
   "metadata": {},
   "source": [
    "nombre_infected       783\n",
    "nombre_sain          2043\n",
    "nombre_exposed        390\n",
    "nombre_recovered    16784\n",
    "Name: 174, dtype: int64"
   ]
  },
  {
   "cell_type": "markdown",
   "id": "7b3d2475",
   "metadata": {},
   "source": [
    "nombre_infected       762\n",
    "nombre_sain          1984\n",
    "nombre_exposed        411\n",
    "nombre_recovered    16843\n",
    "Name: 175, dtype: int64"
   ]
  },
  {
   "cell_type": "markdown",
   "id": "5107da32",
   "metadata": {},
   "source": [
    "nombre_infected       763\n",
    "nombre_sain          1949\n",
    "nombre_exposed        404\n",
    "nombre_recovered    16884\n",
    "Name: 176, dtype: int64"
   ]
  },
  {
   "cell_type": "markdown",
   "id": "bd61fce8",
   "metadata": {},
   "source": [
    "nombre_infected       747\n",
    "nombre_sain          1933\n",
    "nombre_exposed        409\n",
    "nombre_recovered    16911\n",
    "Name: 177, dtype: int64"
   ]
  },
  {
   "cell_type": "markdown",
   "id": "bc583d45",
   "metadata": {},
   "source": [
    "nombre_infected       758\n",
    "nombre_sain          1913\n",
    "nombre_exposed        384\n",
    "nombre_recovered    16945\n",
    "Name: 178, dtype: int64"
   ]
  },
  {
   "cell_type": "markdown",
   "id": "e0772a96",
   "metadata": {},
   "source": [
    "nombre_infected       757\n",
    "nombre_sain          1900\n",
    "nombre_exposed        354\n",
    "nombre_recovered    16989\n",
    "Name: 179, dtype: int64"
   ]
  },
  {
   "cell_type": "markdown",
   "id": "b64a6b82",
   "metadata": {},
   "source": [
    "nombre_infected       765\n",
    "nombre_sain          1902\n",
    "nombre_exposed        338\n",
    "nombre_recovered    16995\n",
    "Name: 180, dtype: int64"
   ]
  },
  {
   "cell_type": "markdown",
   "id": "f021ad1f",
   "metadata": {},
   "source": [
    "nombre_infected       746\n",
    "nombre_sain          1911\n",
    "nombre_exposed        337\n",
    "nombre_recovered    17006\n",
    "Name: 181, dtype: int64"
   ]
  },
  {
   "cell_type": "markdown",
   "id": "ccb1716c",
   "metadata": {},
   "source": [
    "nombre_infected       724\n",
    "nombre_sain          1914\n",
    "nombre_exposed        327\n",
    "nombre_recovered    17035\n",
    "Name: 182, dtype: int64"
   ]
  },
  {
   "cell_type": "markdown",
   "id": "f0cec646",
   "metadata": {},
   "source": [
    "nombre_infected       724\n",
    "nombre_sain          1898\n",
    "nombre_exposed        333\n",
    "nombre_recovered    17045\n",
    "Name: 183, dtype: int64"
   ]
  },
  {
   "cell_type": "markdown",
   "id": "37e46971",
   "metadata": {},
   "source": [
    "nombre_infected       687\n",
    "nombre_sain          1894\n",
    "nombre_exposed        351\n",
    "nombre_recovered    17068\n",
    "Name: 184, dtype: int64"
   ]
  },
  {
   "cell_type": "markdown",
   "id": "055ef160",
   "metadata": {},
   "source": [
    "nombre_infected       662\n",
    "nombre_sain          1919\n",
    "nombre_exposed        355\n",
    "nombre_recovered    17064\n",
    "Name: 185, dtype: int64"
   ]
  },
  {
   "cell_type": "markdown",
   "id": "eb785021",
   "metadata": {},
   "source": [
    "nombre_infected       659\n",
    "nombre_sain          1954\n",
    "nombre_exposed        347\n",
    "nombre_recovered    17040\n",
    "Name: 186, dtype: int64"
   ]
  },
  {
   "cell_type": "markdown",
   "id": "d1d26351",
   "metadata": {},
   "source": [
    "nombre_infected       665\n",
    "nombre_sain          1982\n",
    "nombre_exposed        314\n",
    "nombre_recovered    17039\n",
    "Name: 187, dtype: int64"
   ]
  },
  {
   "cell_type": "markdown",
   "id": "491baa7d",
   "metadata": {},
   "source": [
    "nombre_infected       658\n",
    "nombre_sain          2014\n",
    "nombre_exposed        307\n",
    "nombre_recovered    17021\n",
    "Name: 188, dtype: int64"
   ]
  },
  {
   "cell_type": "markdown",
   "id": "e19bcbb1",
   "metadata": {},
   "source": [
    "nombre_infected       633\n",
    "nombre_sain          2027\n",
    "nombre_exposed        310\n",
    "nombre_recovered    17030\n",
    "Name: 189, dtype: int64"
   ]
  },
  {
   "cell_type": "markdown",
   "id": "46146e7a",
   "metadata": {},
   "source": [
    "nombre_infected       622\n",
    "nombre_sain          2059\n",
    "nombre_exposed        317\n",
    "nombre_recovered    17002\n",
    "Name: 190, dtype: int64"
   ]
  },
  {
   "cell_type": "markdown",
   "id": "14e2a0f6",
   "metadata": {},
   "source": [
    "nombre_infected       595\n",
    "nombre_sain          2095\n",
    "nombre_exposed        317\n",
    "nombre_recovered    16993\n",
    "Name: 191, dtype: int64"
   ]
  },
  {
   "cell_type": "markdown",
   "id": "470aa483",
   "metadata": {},
   "source": [
    "nombre_infected       599\n",
    "nombre_sain          2097\n",
    "nombre_exposed        329\n",
    "nombre_recovered    16975\n",
    "Name: 192, dtype: int64"
   ]
  },
  {
   "cell_type": "markdown",
   "id": "6df503e1",
   "metadata": {},
   "source": [
    "nombre_infected       596\n",
    "nombre_sain          2096\n",
    "nombre_exposed        338\n",
    "nombre_recovered    16970\n",
    "Name: 193, dtype: int64"
   ]
  },
  {
   "cell_type": "markdown",
   "id": "5922da7a",
   "metadata": {},
   "source": [
    "nombre_infected       585\n",
    "nombre_sain          2111\n",
    "nombre_exposed        338\n",
    "nombre_recovered    16966\n",
    "Name: 194, dtype: int64"
   ]
  },
  {
   "cell_type": "markdown",
   "id": "14d73f24",
   "metadata": {},
   "source": [
    "nombre_infected       598\n",
    "nombre_sain          2115\n",
    "nombre_exposed        328\n",
    "nombre_recovered    16959\n",
    "Name: 195, dtype: int64"
   ]
  },
  {
   "cell_type": "markdown",
   "id": "6f80d1ab",
   "metadata": {},
   "source": [
    "nombre_infected       604\n",
    "nombre_sain          2143\n",
    "nombre_exposed        329\n",
    "nombre_recovered    16924\n",
    "Name: 196, dtype: int64"
   ]
  },
  {
   "cell_type": "markdown",
   "id": "91311604",
   "metadata": {},
   "source": [
    "nombre_infected       608\n",
    "nombre_sain          2160\n",
    "nombre_exposed        315\n",
    "nombre_recovered    16917\n",
    "Name: 197, dtype: int64"
   ]
  },
  {
   "cell_type": "markdown",
   "id": "966d45fe",
   "metadata": {},
   "source": [
    "nombre_infected       592\n",
    "nombre_sain          2176\n",
    "nombre_exposed        314\n",
    "nombre_recovered    16918\n",
    "Name: 198, dtype: int64"
   ]
  },
  {
   "cell_type": "markdown",
   "id": "711bc55a",
   "metadata": {},
   "source": [
    "nombre_infected       593\n",
    "nombre_sain          2173\n",
    "nombre_exposed        317\n",
    "nombre_recovered    16917\n",
    "Name: 199, dtype: int64"
   ]
  },
  {
   "cell_type": "markdown",
   "id": "9d74e6c5",
   "metadata": {},
   "source": [
    "nombre_infected       596\n",
    "nombre_sain          2184\n",
    "nombre_exposed        313\n",
    "nombre_recovered    16907\n",
    "Name: 200, dtype: int64"
   ]
  },
  {
   "cell_type": "markdown",
   "id": "7663f523",
   "metadata": {},
   "source": [
    "nombre_infected       604\n",
    "nombre_sain          2186\n",
    "nombre_exposed        311\n",
    "nombre_recovered    16899\n",
    "Name: 201, dtype: int64"
   ]
  },
  {
   "cell_type": "markdown",
   "id": "dc3f1a03",
   "metadata": {},
   "source": [
    "nombre_infected       577\n",
    "nombre_sain          2196\n",
    "nombre_exposed        336\n",
    "nombre_recovered    16891\n",
    "Name: 202, dtype: int64"
   ]
  },
  {
   "cell_type": "markdown",
   "id": "b0526ca4",
   "metadata": {},
   "source": [
    "nombre_infected       584\n",
    "nombre_sain          2207\n",
    "nombre_exposed        333\n",
    "nombre_recovered    16876\n",
    "Name: 203, dtype: int64"
   ]
  },
  {
   "cell_type": "markdown",
   "id": "fe772b09",
   "metadata": {},
   "source": [
    "nombre_infected       589\n",
    "nombre_sain          2208\n",
    "nombre_exposed        354\n",
    "nombre_recovered    16849\n",
    "Name: 204, dtype: int64"
   ]
  },
  {
   "cell_type": "markdown",
   "id": "77b91309",
   "metadata": {},
   "source": [
    "nombre_infected       602\n",
    "nombre_sain          2225\n",
    "nombre_exposed        340\n",
    "nombre_recovered    16833\n",
    "Name: 205, dtype: int64"
   ]
  },
  {
   "cell_type": "markdown",
   "id": "1219c0af",
   "metadata": {},
   "source": [
    "nombre_infected       609\n",
    "nombre_sain          2233\n",
    "nombre_exposed        336\n",
    "nombre_recovered    16822\n",
    "Name: 206, dtype: int64"
   ]
  },
  {
   "cell_type": "markdown",
   "id": "1d323dea",
   "metadata": {},
   "source": [
    "nombre_infected       592\n",
    "nombre_sain          2241\n",
    "nombre_exposed        351\n",
    "nombre_recovered    16816\n",
    "Name: 207, dtype: int64"
   ]
  },
  {
   "cell_type": "markdown",
   "id": "64a5bc1e",
   "metadata": {},
   "source": [
    "nombre_infected       600\n",
    "nombre_sain          2244\n",
    "nombre_exposed        362\n",
    "nombre_recovered    16794\n",
    "Name: 208, dtype: int64"
   ]
  },
  {
   "cell_type": "markdown",
   "id": "bb132219",
   "metadata": {},
   "source": [
    "nombre_infected       620\n",
    "nombre_sain          2244\n",
    "nombre_exposed        369\n",
    "nombre_recovered    16767\n",
    "Name: 209, dtype: int64"
   ]
  },
  {
   "cell_type": "markdown",
   "id": "201a6a5b",
   "metadata": {},
   "source": [
    "nombre_infected       638\n",
    "nombre_sain          2247\n",
    "nombre_exposed        370\n",
    "nombre_recovered    16745\n",
    "Name: 210, dtype: int64"
   ]
  },
  {
   "cell_type": "markdown",
   "id": "de5a2c38",
   "metadata": {},
   "source": [
    "nombre_infected       629\n",
    "nombre_sain          2243\n",
    "nombre_exposed        395\n",
    "nombre_recovered    16733\n",
    "Name: 211, dtype: int64"
   ]
  },
  {
   "cell_type": "markdown",
   "id": "84b55625",
   "metadata": {},
   "source": [
    "nombre_infected       646\n",
    "nombre_sain          2244\n",
    "nombre_exposed        395\n",
    "nombre_recovered    16715\n",
    "Name: 212, dtype: int64"
   ]
  },
  {
   "cell_type": "markdown",
   "id": "1e711072",
   "metadata": {},
   "source": [
    "nombre_infected       671\n",
    "nombre_sain          2234\n",
    "nombre_exposed        398\n",
    "nombre_recovered    16697\n",
    "Name: 213, dtype: int64"
   ]
  },
  {
   "cell_type": "markdown",
   "id": "21549a90",
   "metadata": {},
   "source": [
    "nombre_infected       665\n",
    "nombre_sain          2221\n",
    "nombre_exposed        418\n",
    "nombre_recovered    16696\n",
    "Name: 214, dtype: int64"
   ]
  },
  {
   "cell_type": "markdown",
   "id": "b73adf62",
   "metadata": {},
   "source": [
    "nombre_infected       696\n",
    "nombre_sain          2215\n",
    "nombre_exposed        432\n",
    "nombre_recovered    16657\n",
    "Name: 215, dtype: int64"
   ]
  },
  {
   "cell_type": "markdown",
   "id": "dcf386ca",
   "metadata": {},
   "source": [
    "nombre_infected       718\n",
    "nombre_sain          2191\n",
    "nombre_exposed        434\n",
    "nombre_recovered    16657\n",
    "Name: 216, dtype: int64"
   ]
  },
  {
   "cell_type": "markdown",
   "id": "3148bfa1",
   "metadata": {},
   "source": [
    "nombre_infected       730\n",
    "nombre_sain          2181\n",
    "nombre_exposed        439\n",
    "nombre_recovered    16650\n",
    "Name: 217, dtype: int64"
   ]
  },
  {
   "cell_type": "markdown",
   "id": "ebc84f81",
   "metadata": {},
   "source": [
    "nombre_infected       747\n",
    "nombre_sain          2189\n",
    "nombre_exposed        419\n",
    "nombre_recovered    16645\n",
    "Name: 218, dtype: int64"
   ]
  },
  {
   "cell_type": "markdown",
   "id": "36f69304",
   "metadata": {},
   "source": [
    "nombre_infected       736\n",
    "nombre_sain          2186\n",
    "nombre_exposed        430\n",
    "nombre_recovered    16648\n",
    "Name: 219, dtype: int64"
   ]
  },
  {
   "cell_type": "markdown",
   "id": "a44988b9",
   "metadata": {},
   "source": [
    "nombre_infected       730\n",
    "nombre_sain          2179\n",
    "nombre_exposed        436\n",
    "nombre_recovered    16655\n",
    "Name: 220, dtype: int64"
   ]
  },
  {
   "cell_type": "markdown",
   "id": "4046e41c",
   "metadata": {},
   "source": [
    "nombre_infected       770\n",
    "nombre_sain          2165\n",
    "nombre_exposed        434\n",
    "nombre_recovered    16631\n",
    "Name: 221, dtype: int64"
   ]
  },
  {
   "cell_type": "markdown",
   "id": "9e656447",
   "metadata": {},
   "source": [
    "nombre_infected       763\n",
    "nombre_sain          2156\n",
    "nombre_exposed        442\n",
    "nombre_recovered    16639\n",
    "Name: 222, dtype: int64"
   ]
  },
  {
   "cell_type": "markdown",
   "id": "b25946e9",
   "metadata": {},
   "source": [
    "nombre_infected       750\n",
    "nombre_sain          2151\n",
    "nombre_exposed        446\n",
    "nombre_recovered    16653\n",
    "Name: 223, dtype: int64"
   ]
  },
  {
   "cell_type": "markdown",
   "id": "2ddc7065",
   "metadata": {},
   "source": [
    "nombre_infected       752\n",
    "nombre_sain          2134\n",
    "nombre_exposed        439\n",
    "nombre_recovered    16675\n",
    "Name: 224, dtype: int64"
   ]
  },
  {
   "cell_type": "markdown",
   "id": "1c5b614b",
   "metadata": {},
   "source": [
    "nombre_infected       765\n",
    "nombre_sain          2108\n",
    "nombre_exposed        431\n",
    "nombre_recovered    16696\n",
    "Name: 225, dtype: int64"
   ]
  },
  {
   "cell_type": "markdown",
   "id": "1fb6e526",
   "metadata": {},
   "source": [
    "nombre_infected       782\n",
    "nombre_sain          2099\n",
    "nombre_exposed        409\n",
    "nombre_recovered    16710\n",
    "Name: 226, dtype: int64"
   ]
  },
  {
   "cell_type": "markdown",
   "id": "9f9e0163",
   "metadata": {},
   "source": [
    "nombre_infected       779\n",
    "nombre_sain          2093\n",
    "nombre_exposed        403\n",
    "nombre_recovered    16725\n",
    "Name: 227, dtype: int64"
   ]
  },
  {
   "cell_type": "markdown",
   "id": "38b66a5e",
   "metadata": {},
   "source": [
    "nombre_infected       776\n",
    "nombre_sain          2054\n",
    "nombre_exposed        423\n",
    "nombre_recovered    16747\n",
    "Name: 228, dtype: int64"
   ]
  },
  {
   "cell_type": "markdown",
   "id": "1ccf1912",
   "metadata": {},
   "source": [
    "nombre_infected       781\n",
    "nombre_sain          2049\n",
    "nombre_exposed        424\n",
    "nombre_recovered    16746\n",
    "Name: 229, dtype: int64"
   ]
  },
  {
   "cell_type": "markdown",
   "id": "02d13289",
   "metadata": {},
   "source": [
    "nombre_infected       773\n",
    "nombre_sain          2041\n",
    "nombre_exposed        431\n",
    "nombre_recovered    16755\n",
    "Name: 230, dtype: int64"
   ]
  },
  {
   "cell_type": "markdown",
   "id": "cb4cd36f",
   "metadata": {},
   "source": [
    "nombre_infected       784\n",
    "nombre_sain          2031\n",
    "nombre_exposed        433\n",
    "nombre_recovered    16752\n",
    "Name: 231, dtype: int64"
   ]
  },
  {
   "cell_type": "markdown",
   "id": "6904beac",
   "metadata": {},
   "source": [
    "nombre_infected       794\n",
    "nombre_sain          2016\n",
    "nombre_exposed        434\n",
    "nombre_recovered    16756\n",
    "Name: 232, dtype: int64"
   ]
  },
  {
   "cell_type": "markdown",
   "id": "17ff5525",
   "metadata": {},
   "source": [
    "nombre_infected       768\n",
    "nombre_sain          2043\n",
    "nombre_exposed        444\n",
    "nombre_recovered    16745\n",
    "Name: 233, dtype: int64"
   ]
  },
  {
   "cell_type": "markdown",
   "id": "ef17e2b9",
   "metadata": {},
   "source": [
    "nombre_infected       781\n",
    "nombre_sain          2051\n",
    "nombre_exposed        434\n",
    "nombre_recovered    16734\n",
    "Name: 234, dtype: int64"
   ]
  },
  {
   "cell_type": "markdown",
   "id": "dec1ce8c",
   "metadata": {},
   "source": [
    "nombre_infected       786\n",
    "nombre_sain          2058\n",
    "nombre_exposed        410\n",
    "nombre_recovered    16746\n",
    "Name: 235, dtype: int64"
   ]
  },
  {
   "cell_type": "markdown",
   "id": "dd7b224e",
   "metadata": {},
   "source": [
    "nombre_infected       788\n",
    "nombre_sain          2044\n",
    "nombre_exposed        424\n",
    "nombre_recovered    16744\n",
    "Name: 236, dtype: int64"
   ]
  },
  {
   "cell_type": "markdown",
   "id": "c99a063d",
   "metadata": {},
   "source": [
    "nombre_infected       779\n",
    "nombre_sain          2042\n",
    "nombre_exposed        436\n",
    "nombre_recovered    16743\n",
    "Name: 237, dtype: int64"
   ]
  },
  {
   "cell_type": "markdown",
   "id": "eaada6f0",
   "metadata": {},
   "source": [
    "nombre_infected       785\n",
    "nombre_sain          2036\n",
    "nombre_exposed        440\n",
    "nombre_recovered    16739\n",
    "Name: 238, dtype: int64"
   ]
  },
  {
   "cell_type": "markdown",
   "id": "2e3b6345",
   "metadata": {},
   "source": [
    "nombre_infected       771\n",
    "nombre_sain          2044\n",
    "nombre_exposed        421\n",
    "nombre_recovered    16764\n",
    "Name: 239, dtype: int64"
   ]
  },
  {
   "cell_type": "markdown",
   "id": "33879b3f",
   "metadata": {},
   "source": [
    "nombre_infected       767\n",
    "nombre_sain          2041\n",
    "nombre_exposed        426\n",
    "nombre_recovered    16766\n",
    "Name: 240, dtype: int64"
   ]
  },
  {
   "cell_type": "markdown",
   "id": "a537a4f7",
   "metadata": {},
   "source": [
    "nombre_infected       753\n",
    "nombre_sain          2062\n",
    "nombre_exposed        405\n",
    "nombre_recovered    16780\n",
    "Name: 241, dtype: int64"
   ]
  },
  {
   "cell_type": "markdown",
   "id": "a405a460",
   "metadata": {},
   "source": [
    "nombre_infected       767\n",
    "nombre_sain          2068\n",
    "nombre_exposed        395\n",
    "nombre_recovered    16770\n",
    "Name: 242, dtype: int64"
   ]
  },
  {
   "cell_type": "markdown",
   "id": "3cfe37c1",
   "metadata": {},
   "source": [
    "nombre_infected       750\n",
    "nombre_sain          2075\n",
    "nombre_exposed        380\n",
    "nombre_recovered    16795\n",
    "Name: 243, dtype: int64"
   ]
  },
  {
   "cell_type": "markdown",
   "id": "84a5aaf6",
   "metadata": {},
   "source": [
    "nombre_infected       750\n",
    "nombre_sain          2086\n",
    "nombre_exposed        371\n",
    "nombre_recovered    16793\n",
    "Name: 244, dtype: int64"
   ]
  },
  {
   "cell_type": "markdown",
   "id": "2cdd3aa5",
   "metadata": {},
   "source": [
    "nombre_infected       739\n",
    "nombre_sain          2055\n",
    "nombre_exposed        373\n",
    "nombre_recovered    16833\n",
    "Name: 245, dtype: int64"
   ]
  },
  {
   "cell_type": "markdown",
   "id": "e581547a",
   "metadata": {},
   "source": [
    "nombre_infected       738\n",
    "nombre_sain          2079\n",
    "nombre_exposed        356\n",
    "nombre_recovered    16827\n",
    "Name: 246, dtype: int64"
   ]
  },
  {
   "cell_type": "markdown",
   "id": "3bf31cbd",
   "metadata": {},
   "source": [
    "nombre_infected       718\n",
    "nombre_sain          2105\n",
    "nombre_exposed        354\n",
    "nombre_recovered    16823\n",
    "Name: 247, dtype: int64"
   ]
  },
  {
   "cell_type": "markdown",
   "id": "54446179",
   "metadata": {},
   "source": [
    "nombre_infected       717\n",
    "nombre_sain          2090\n",
    "nombre_exposed        368\n",
    "nombre_recovered    16825\n",
    "Name: 248, dtype: int64"
   ]
  },
  {
   "cell_type": "markdown",
   "id": "24813dcf",
   "metadata": {},
   "source": [
    "nombre_infected       700\n",
    "nombre_sain          2097\n",
    "nombre_exposed        370\n",
    "nombre_recovered    16833\n",
    "Name: 249, dtype: int64"
   ]
  },
  {
   "cell_type": "markdown",
   "id": "8da1bade",
   "metadata": {},
   "source": [
    "nombre_infected       676\n",
    "nombre_sain          2107\n",
    "nombre_exposed        370\n",
    "nombre_recovered    16847\n",
    "Name: 250, dtype: int64"
   ]
  },
  {
   "cell_type": "markdown",
   "id": "7916ebd6",
   "metadata": {},
   "source": [
    "nombre_infected       660\n",
    "nombre_sain          2110\n",
    "nombre_exposed        374\n",
    "nombre_recovered    16856\n",
    "Name: 251, dtype: int64"
   ]
  },
  {
   "cell_type": "markdown",
   "id": "618c9c86",
   "metadata": {},
   "source": [
    "nombre_infected       657\n",
    "nombre_sain          2161\n",
    "nombre_exposed        359\n",
    "nombre_recovered    16823\n",
    "Name: 252, dtype: int64"
   ]
  },
  {
   "cell_type": "markdown",
   "id": "19528080",
   "metadata": {},
   "source": [
    "nombre_infected       647\n",
    "nombre_sain          2172\n",
    "nombre_exposed        369\n",
    "nombre_recovered    16812\n",
    "Name: 253, dtype: int64"
   ]
  },
  {
   "cell_type": "markdown",
   "id": "76f8f7b7",
   "metadata": {},
   "source": [
    "nombre_infected       644\n",
    "nombre_sain          2195\n",
    "nombre_exposed        374\n",
    "nombre_recovered    16787\n",
    "Name: 254, dtype: int64"
   ]
  },
  {
   "cell_type": "markdown",
   "id": "25ea1089",
   "metadata": {},
   "source": [
    "nombre_infected       660\n",
    "nombre_sain          2211\n",
    "nombre_exposed        359\n",
    "nombre_recovered    16770\n",
    "Name: 255, dtype: int64"
   ]
  },
  {
   "cell_type": "markdown",
   "id": "1347746c",
   "metadata": {},
   "source": [
    "nombre_infected       642\n",
    "nombre_sain          2230\n",
    "nombre_exposed        363\n",
    "nombre_recovered    16765\n",
    "Name: 256, dtype: int64"
   ]
  },
  {
   "cell_type": "markdown",
   "id": "af950834",
   "metadata": {},
   "source": [
    "nombre_infected       630\n",
    "nombre_sain          2249\n",
    "nombre_exposed        357\n",
    "nombre_recovered    16764\n",
    "Name: 257, dtype: int64"
   ]
  },
  {
   "cell_type": "markdown",
   "id": "7e9683af",
   "metadata": {},
   "source": [
    "nombre_infected       620\n",
    "nombre_sain          2278\n",
    "nombre_exposed        349\n",
    "nombre_recovered    16753\n",
    "Name: 258, dtype: int64"
   ]
  },
  {
   "cell_type": "markdown",
   "id": "70dcdbc8",
   "metadata": {},
   "source": [
    "nombre_infected       621\n",
    "nombre_sain          2323\n",
    "nombre_exposed        338\n",
    "nombre_recovered    16718\n",
    "Name: 259, dtype: int64"
   ]
  },
  {
   "cell_type": "markdown",
   "id": "bafc0546",
   "metadata": {},
   "source": [
    "nombre_infected       608\n",
    "nombre_sain          2340\n",
    "nombre_exposed        330\n",
    "nombre_recovered    16722\n",
    "Name: 260, dtype: int64"
   ]
  },
  {
   "cell_type": "markdown",
   "id": "4094736b",
   "metadata": {},
   "source": [
    "nombre_infected       585\n",
    "nombre_sain          2374\n",
    "nombre_exposed        343\n",
    "nombre_recovered    16698\n",
    "Name: 261, dtype: int64"
   ]
  },
  {
   "cell_type": "markdown",
   "id": "7fb281ee",
   "metadata": {},
   "source": [
    "nombre_infected       600\n",
    "nombre_sain          2402\n",
    "nombre_exposed        347\n",
    "nombre_recovered    16651\n",
    "Name: 262, dtype: int64"
   ]
  },
  {
   "cell_type": "markdown",
   "id": "58668729",
   "metadata": {},
   "source": [
    "nombre_infected       585\n",
    "nombre_sain          2411\n",
    "nombre_exposed        361\n",
    "nombre_recovered    16643\n",
    "Name: 263, dtype: int64"
   ]
  },
  {
   "cell_type": "markdown",
   "id": "3ed2c356",
   "metadata": {},
   "source": [
    "nombre_infected       579\n",
    "nombre_sain          2439\n",
    "nombre_exposed        362\n",
    "nombre_recovered    16620\n",
    "Name: 264, dtype: int64"
   ]
  },
  {
   "cell_type": "markdown",
   "id": "52b0d302",
   "metadata": {},
   "source": [
    "nombre_infected       580\n",
    "nombre_sain          2466\n",
    "nombre_exposed        352\n",
    "nombre_recovered    16602\n",
    "Name: 265, dtype: int64"
   ]
  },
  {
   "cell_type": "markdown",
   "id": "f69a9c6c",
   "metadata": {},
   "source": [
    "nombre_infected       577\n",
    "nombre_sain          2492\n",
    "nombre_exposed        364\n",
    "nombre_recovered    16567\n",
    "Name: 266, dtype: int64"
   ]
  },
  {
   "cell_type": "markdown",
   "id": "38f4367e",
   "metadata": {},
   "source": [
    "nombre_infected       573\n",
    "nombre_sain          2516\n",
    "nombre_exposed        366\n",
    "nombre_recovered    16545\n",
    "Name: 267, dtype: int64"
   ]
  },
  {
   "cell_type": "markdown",
   "id": "5cf1ac1b",
   "metadata": {},
   "source": [
    "nombre_infected       576\n",
    "nombre_sain          2536\n",
    "nombre_exposed        365\n",
    "nombre_recovered    16523\n",
    "Name: 268, dtype: int64"
   ]
  },
  {
   "cell_type": "markdown",
   "id": "ab18cc0b",
   "metadata": {},
   "source": [
    "nombre_infected       586\n",
    "nombre_sain          2566\n",
    "nombre_exposed        359\n",
    "nombre_recovered    16489\n",
    "Name: 269, dtype: int64"
   ]
  },
  {
   "cell_type": "markdown",
   "id": "573ed69b",
   "metadata": {},
   "source": [
    "nombre_infected       591\n",
    "nombre_sain          2552\n",
    "nombre_exposed        387\n",
    "nombre_recovered    16470\n",
    "Name: 270, dtype: int64"
   ]
  },
  {
   "cell_type": "markdown",
   "id": "0bdf49e7",
   "metadata": {},
   "source": [
    "nombre_infected       597\n",
    "nombre_sain          2562\n",
    "nombre_exposed        398\n",
    "nombre_recovered    16443\n",
    "Name: 271, dtype: int64"
   ]
  },
  {
   "cell_type": "markdown",
   "id": "b407338c",
   "metadata": {},
   "source": [
    "nombre_infected       598\n",
    "nombre_sain          2572\n",
    "nombre_exposed        408\n",
    "nombre_recovered    16422\n",
    "Name: 272, dtype: int64"
   ]
  },
  {
   "cell_type": "markdown",
   "id": "a7941b70",
   "metadata": {},
   "source": [
    "nombre_infected       599\n",
    "nombre_sain          2574\n",
    "nombre_exposed        408\n",
    "nombre_recovered    16419\n",
    "Name: 273, dtype: int64"
   ]
  },
  {
   "cell_type": "markdown",
   "id": "9f80d048",
   "metadata": {},
   "source": [
    "nombre_infected       608\n",
    "nombre_sain          2536\n",
    "nombre_exposed        430\n",
    "nombre_recovered    16426\n",
    "Name: 274, dtype: int64"
   ]
  },
  {
   "cell_type": "markdown",
   "id": "329f7749",
   "metadata": {},
   "source": [
    "nombre_infected       623\n",
    "nombre_sain          2569\n",
    "nombre_exposed        412\n",
    "nombre_recovered    16396\n",
    "Name: 275, dtype: int64"
   ]
  },
  {
   "cell_type": "markdown",
   "id": "22ef5049",
   "metadata": {},
   "source": [
    "nombre_infected       665\n",
    "nombre_sain          2552\n",
    "nombre_exposed        401\n",
    "nombre_recovered    16382\n",
    "Name: 276, dtype: int64"
   ]
  },
  {
   "cell_type": "markdown",
   "id": "c3658810",
   "metadata": {},
   "source": [
    "nombre_infected       666\n",
    "nombre_sain          2529\n",
    "nombre_exposed        421\n",
    "nombre_recovered    16384\n",
    "Name: 277, dtype: int64"
   ]
  },
  {
   "cell_type": "markdown",
   "id": "6b9d00d5",
   "metadata": {},
   "source": [
    "nombre_infected       660\n",
    "nombre_sain          2512\n",
    "nombre_exposed        449\n",
    "nombre_recovered    16379\n",
    "Name: 278, dtype: int64"
   ]
  },
  {
   "cell_type": "markdown",
   "id": "58bf1355",
   "metadata": {},
   "source": [
    "nombre_infected       675\n",
    "nombre_sain          2514\n",
    "nombre_exposed        448\n",
    "nombre_recovered    16363\n",
    "Name: 279, dtype: int64"
   ]
  },
  {
   "cell_type": "markdown",
   "id": "7065bb72",
   "metadata": {},
   "source": [
    "nombre_infected       699\n",
    "nombre_sain          2510\n",
    "nombre_exposed        442\n",
    "nombre_recovered    16349\n",
    "Name: 280, dtype: int64"
   ]
  },
  {
   "cell_type": "markdown",
   "id": "b0e544fb",
   "metadata": {},
   "source": [
    "nombre_infected       719\n",
    "nombre_sain          2525\n",
    "nombre_exposed        451\n",
    "nombre_recovered    16305\n",
    "Name: 281, dtype: int64"
   ]
  },
  {
   "cell_type": "markdown",
   "id": "fe171347",
   "metadata": {},
   "source": [
    "nombre_infected       717\n",
    "nombre_sain          2502\n",
    "nombre_exposed        482\n",
    "nombre_recovered    16299\n",
    "Name: 282, dtype: int64"
   ]
  },
  {
   "cell_type": "markdown",
   "id": "ba2be220",
   "metadata": {},
   "source": [
    "nombre_infected       727\n",
    "nombre_sain          2518\n",
    "nombre_exposed        461\n",
    "nombre_recovered    16294\n",
    "Name: 283, dtype: int64"
   ]
  },
  {
   "cell_type": "markdown",
   "id": "01044646",
   "metadata": {},
   "source": [
    "nombre_infected       750\n",
    "nombre_sain          2520\n",
    "nombre_exposed        447\n",
    "nombre_recovered    16283\n",
    "Name: 284, dtype: int64"
   ]
  },
  {
   "cell_type": "markdown",
   "id": "b5a9c82c",
   "metadata": {},
   "source": [
    "nombre_infected       760\n",
    "nombre_sain          2519\n",
    "nombre_exposed        439\n",
    "nombre_recovered    16282\n",
    "Name: 285, dtype: int64"
   ]
  },
  {
   "cell_type": "markdown",
   "id": "7c2c538d",
   "metadata": {},
   "source": [
    "nombre_infected       755\n",
    "nombre_sain          2483\n",
    "nombre_exposed        468\n",
    "nombre_recovered    16294\n",
    "Name: 286, dtype: int64"
   ]
  },
  {
   "cell_type": "markdown",
   "id": "d2e5139c",
   "metadata": {},
   "source": [
    "nombre_infected       729\n",
    "nombre_sain          2456\n",
    "nombre_exposed        502\n",
    "nombre_recovered    16313\n",
    "Name: 287, dtype: int64"
   ]
  },
  {
   "cell_type": "markdown",
   "id": "cd510d41",
   "metadata": {},
   "source": [
    "nombre_infected       726\n",
    "nombre_sain          2465\n",
    "nombre_exposed        494\n",
    "nombre_recovered    16315\n",
    "Name: 288, dtype: int64"
   ]
  },
  {
   "cell_type": "markdown",
   "id": "278b2d7b",
   "metadata": {},
   "source": [
    "nombre_infected       720\n",
    "nombre_sain          2439\n",
    "nombre_exposed        524\n",
    "nombre_recovered    16317\n",
    "Name: 289, dtype: int64"
   ]
  },
  {
   "cell_type": "markdown",
   "id": "44209496",
   "metadata": {},
   "source": [
    "nombre_infected       734\n",
    "nombre_sain          2431\n",
    "nombre_exposed        507\n",
    "nombre_recovered    16328\n",
    "Name: 290, dtype: int64"
   ]
  },
  {
   "cell_type": "markdown",
   "id": "ecb1f592",
   "metadata": {},
   "source": [
    "nombre_infected       763\n",
    "nombre_sain          2397\n",
    "nombre_exposed        501\n",
    "nombre_recovered    16339\n",
    "Name: 291, dtype: int64"
   ]
  },
  {
   "cell_type": "markdown",
   "id": "579ff818",
   "metadata": {},
   "source": [
    "nombre_infected       760\n",
    "nombre_sain          2402\n",
    "nombre_exposed        514\n",
    "nombre_recovered    16324\n",
    "Name: 292, dtype: int64"
   ]
  },
  {
   "cell_type": "markdown",
   "id": "d6a6d258",
   "metadata": {},
   "source": [
    "nombre_infected       765\n",
    "nombre_sain          2394\n",
    "nombre_exposed        521\n",
    "nombre_recovered    16320\n",
    "Name: 293, dtype: int64"
   ]
  },
  {
   "cell_type": "markdown",
   "id": "e6caf0b1",
   "metadata": {},
   "source": [
    "nombre_infected       789\n",
    "nombre_sain          2372\n",
    "nombre_exposed        527\n",
    "nombre_recovered    16312\n",
    "Name: 294, dtype: int64"
   ]
  },
  {
   "cell_type": "markdown",
   "id": "73a4a497",
   "metadata": {},
   "source": [
    "nombre_infected       805\n",
    "nombre_sain          2351\n",
    "nombre_exposed        520\n",
    "nombre_recovered    16324\n",
    "Name: 295, dtype: int64"
   ]
  },
  {
   "cell_type": "markdown",
   "id": "ad6f41ef",
   "metadata": {},
   "source": [
    "nombre_infected       808\n",
    "nombre_sain          2341\n",
    "nombre_exposed        516\n",
    "nombre_recovered    16335\n",
    "Name: 296, dtype: int64"
   ]
  },
  {
   "cell_type": "markdown",
   "id": "f10f53a3",
   "metadata": {},
   "source": [
    "nombre_infected       821\n",
    "nombre_sain          2313\n",
    "nombre_exposed        519\n",
    "nombre_recovered    16347\n",
    "Name: 297, dtype: int64"
   ]
  },
  {
   "cell_type": "markdown",
   "id": "0d120866",
   "metadata": {},
   "source": [
    "nombre_infected       813\n",
    "nombre_sain          2297\n",
    "nombre_exposed        530\n",
    "nombre_recovered    16360\n",
    "Name: 298, dtype: int64"
   ]
  },
  {
   "cell_type": "markdown",
   "id": "a755a182",
   "metadata": {},
   "source": [
    "nombre_infected       812\n",
    "nombre_sain          2282\n",
    "nombre_exposed        522\n",
    "nombre_recovered    16384\n",
    "Name: 299, dtype: int64"
   ]
  },
  {
   "cell_type": "markdown",
   "id": "00cb4de1",
   "metadata": {},
   "source": [
    "nombre_infected       834\n",
    "nombre_sain          2273\n",
    "nombre_exposed        509\n",
    "nombre_recovered    16384\n",
    "Name: 300, dtype: int64"
   ]
  },
  {
   "cell_type": "markdown",
   "id": "4004a1bd",
   "metadata": {},
   "source": [
    "nombre_infected       830\n",
    "nombre_sain          2249\n",
    "nombre_exposed        517\n",
    "nombre_recovered    16404\n",
    "Name: 301, dtype: int64"
   ]
  },
  {
   "cell_type": "markdown",
   "id": "001dfefa",
   "metadata": {},
   "source": [
    "nombre_infected       813\n",
    "nombre_sain          2223\n",
    "nombre_exposed        523\n",
    "nombre_recovered    16441\n",
    "Name: 302, dtype: int64"
   ]
  },
  {
   "cell_type": "markdown",
   "id": "b09c99d5",
   "metadata": {},
   "source": [
    "nombre_infected       818\n",
    "nombre_sain          2197\n",
    "nombre_exposed        534\n",
    "nombre_recovered    16451\n",
    "Name: 303, dtype: int64"
   ]
  },
  {
   "cell_type": "markdown",
   "id": "5e7fc505",
   "metadata": {},
   "source": [
    "nombre_infected       836\n",
    "nombre_sain          2185\n",
    "nombre_exposed        506\n",
    "nombre_recovered    16473\n",
    "Name: 304, dtype: int64"
   ]
  },
  {
   "cell_type": "markdown",
   "id": "0ce9ae06",
   "metadata": {},
   "source": [
    "nombre_infected       826\n",
    "nombre_sain          2155\n",
    "nombre_exposed        509\n",
    "nombre_recovered    16510\n",
    "Name: 305, dtype: int64"
   ]
  },
  {
   "cell_type": "markdown",
   "id": "3830b306",
   "metadata": {},
   "source": [
    "nombre_infected       826\n",
    "nombre_sain          2141\n",
    "nombre_exposed        491\n",
    "nombre_recovered    16542\n",
    "Name: 306, dtype: int64"
   ]
  },
  {
   "cell_type": "markdown",
   "id": "6c7ddc3a",
   "metadata": {},
   "source": [
    "nombre_infected       831\n",
    "nombre_sain          2135\n",
    "nombre_exposed        482\n",
    "nombre_recovered    16552\n",
    "Name: 307, dtype: int64"
   ]
  },
  {
   "cell_type": "markdown",
   "id": "fed2aa29",
   "metadata": {},
   "source": [
    "nombre_infected       835\n",
    "nombre_sain          2135\n",
    "nombre_exposed        486\n",
    "nombre_recovered    16544\n",
    "Name: 308, dtype: int64"
   ]
  },
  {
   "cell_type": "markdown",
   "id": "665fff96",
   "metadata": {},
   "source": [
    "nombre_infected       821\n",
    "nombre_sain          2140\n",
    "nombre_exposed        487\n",
    "nombre_recovered    16552\n",
    "Name: 309, dtype: int64"
   ]
  },
  {
   "cell_type": "markdown",
   "id": "a3099454",
   "metadata": {},
   "source": [
    "nombre_infected       807\n",
    "nombre_sain          2133\n",
    "nombre_exposed        502\n",
    "nombre_recovered    16558\n",
    "Name: 310, dtype: int64"
   ]
  },
  {
   "cell_type": "markdown",
   "id": "84b61893",
   "metadata": {},
   "source": [
    "nombre_infected       810\n",
    "nombre_sain          2151\n",
    "nombre_exposed        478\n",
    "nombre_recovered    16561\n",
    "Name: 311, dtype: int64"
   ]
  },
  {
   "cell_type": "markdown",
   "id": "e2bb0136",
   "metadata": {},
   "source": [
    "nombre_infected       824\n",
    "nombre_sain          2132\n",
    "nombre_exposed        448\n",
    "nombre_recovered    16596\n",
    "Name: 312, dtype: int64"
   ]
  },
  {
   "cell_type": "markdown",
   "id": "5af2f5e5",
   "metadata": {},
   "source": [
    "nombre_infected       826\n",
    "nombre_sain          2119\n",
    "nombre_exposed        443\n",
    "nombre_recovered    16612\n",
    "Name: 313, dtype: int64"
   ]
  },
  {
   "cell_type": "markdown",
   "id": "c8779544",
   "metadata": {},
   "source": [
    "nombre_infected       824\n",
    "nombre_sain          2139\n",
    "nombre_exposed        432\n",
    "nombre_recovered    16605\n",
    "Name: 314, dtype: int64"
   ]
  },
  {
   "cell_type": "markdown",
   "id": "6df4906c",
   "metadata": {},
   "source": [
    "nombre_infected       784\n",
    "nombre_sain          2167\n",
    "nombre_exposed        442\n",
    "nombre_recovered    16607\n",
    "Name: 315, dtype: int64"
   ]
  },
  {
   "cell_type": "markdown",
   "id": "c772a3fc",
   "metadata": {},
   "source": [
    "nombre_infected       782\n",
    "nombre_sain          2183\n",
    "nombre_exposed        446\n",
    "nombre_recovered    16589\n",
    "Name: 316, dtype: int64"
   ]
  },
  {
   "cell_type": "markdown",
   "id": "e761d306",
   "metadata": {},
   "source": [
    "nombre_infected       796\n",
    "nombre_sain          2196\n",
    "nombre_exposed        444\n",
    "nombre_recovered    16564\n",
    "Name: 317, dtype: int64"
   ]
  },
  {
   "cell_type": "markdown",
   "id": "0ef81ebf",
   "metadata": {},
   "source": [
    "nombre_infected       764\n",
    "nombre_sain          2194\n",
    "nombre_exposed        462\n",
    "nombre_recovered    16580\n",
    "Name: 318, dtype: int64"
   ]
  },
  {
   "cell_type": "markdown",
   "id": "39925936",
   "metadata": {},
   "source": [
    "nombre_infected       773\n",
    "nombre_sain          2211\n",
    "nombre_exposed        449\n",
    "nombre_recovered    16567\n",
    "Name: 319, dtype: int64"
   ]
  },
  {
   "cell_type": "markdown",
   "id": "50f45c44",
   "metadata": {},
   "source": [
    "nombre_infected       783\n",
    "nombre_sain          2224\n",
    "nombre_exposed        455\n",
    "nombre_recovered    16538\n",
    "Name: 320, dtype: int64"
   ]
  },
  {
   "cell_type": "markdown",
   "id": "46a9ce61",
   "metadata": {},
   "source": [
    "nombre_infected       780\n",
    "nombre_sain          2237\n",
    "nombre_exposed        463\n",
    "nombre_recovered    16520\n",
    "Name: 321, dtype: int64"
   ]
  },
  {
   "cell_type": "markdown",
   "id": "8b1e2035",
   "metadata": {},
   "source": [
    "nombre_infected       781\n",
    "nombre_sain          2242\n",
    "nombre_exposed        460\n",
    "nombre_recovered    16517\n",
    "Name: 322, dtype: int64"
   ]
  },
  {
   "cell_type": "markdown",
   "id": "62cbde1e",
   "metadata": {},
   "source": [
    "nombre_infected       764\n",
    "nombre_sain          2251\n",
    "nombre_exposed        476\n",
    "nombre_recovered    16509\n",
    "Name: 323, dtype: int64"
   ]
  },
  {
   "cell_type": "markdown",
   "id": "41e1f575",
   "metadata": {},
   "source": [
    "nombre_infected       778\n",
    "nombre_sain          2261\n",
    "nombre_exposed        475\n",
    "nombre_recovered    16486\n",
    "Name: 324, dtype: int64"
   ]
  },
  {
   "cell_type": "markdown",
   "id": "db5f9579",
   "metadata": {},
   "source": [
    "nombre_infected       769\n",
    "nombre_sain          2258\n",
    "nombre_exposed        490\n",
    "nombre_recovered    16483\n",
    "Name: 325, dtype: int64"
   ]
  },
  {
   "cell_type": "markdown",
   "id": "1839af18",
   "metadata": {},
   "source": [
    "nombre_infected       783\n",
    "nombre_sain          2240\n",
    "nombre_exposed        494\n",
    "nombre_recovered    16483\n",
    "Name: 326, dtype: int64"
   ]
  },
  {
   "cell_type": "markdown",
   "id": "fcde132e",
   "metadata": {},
   "source": [
    "nombre_infected       770\n",
    "nombre_sain          2248\n",
    "nombre_exposed        514\n",
    "nombre_recovered    16468\n",
    "Name: 327, dtype: int64"
   ]
  },
  {
   "cell_type": "markdown",
   "id": "790ab814",
   "metadata": {},
   "source": [
    "nombre_infected       773\n",
    "nombre_sain          2242\n",
    "nombre_exposed        512\n",
    "nombre_recovered    16473\n",
    "Name: 328, dtype: int64"
   ]
  },
  {
   "cell_type": "markdown",
   "id": "cab2d136",
   "metadata": {},
   "source": [
    "nombre_infected       779\n",
    "nombre_sain          2239\n",
    "nombre_exposed        511\n",
    "nombre_recovered    16471\n",
    "Name: 329, dtype: int64"
   ]
  },
  {
   "cell_type": "markdown",
   "id": "16d7e586",
   "metadata": {},
   "source": [
    "nombre_infected       801\n",
    "nombre_sain          2241\n",
    "nombre_exposed        496\n",
    "nombre_recovered    16462\n",
    "Name: 330, dtype: int64"
   ]
  },
  {
   "cell_type": "markdown",
   "id": "62e9239d",
   "metadata": {},
   "source": [
    "nombre_infected       807\n",
    "nombre_sain          2242\n",
    "nombre_exposed        501\n",
    "nombre_recovered    16450\n",
    "Name: 331, dtype: int64"
   ]
  },
  {
   "cell_type": "markdown",
   "id": "206d5ae0",
   "metadata": {},
   "source": [
    "nombre_infected       814\n",
    "nombre_sain          2240\n",
    "nombre_exposed        504\n",
    "nombre_recovered    16442\n",
    "Name: 332, dtype: int64"
   ]
  },
  {
   "cell_type": "markdown",
   "id": "7f0169ba",
   "metadata": {},
   "source": [
    "nombre_infected       821\n",
    "nombre_sain          2251\n",
    "nombre_exposed        499\n",
    "nombre_recovered    16429\n",
    "Name: 333, dtype: int64"
   ]
  },
  {
   "cell_type": "markdown",
   "id": "97ef3fa4",
   "metadata": {},
   "source": [
    "nombre_infected       830\n",
    "nombre_sain          2258\n",
    "nombre_exposed        499\n",
    "nombre_recovered    16413\n",
    "Name: 334, dtype: int64"
   ]
  },
  {
   "cell_type": "markdown",
   "id": "d43f713f",
   "metadata": {},
   "source": [
    "nombre_infected       820\n",
    "nombre_sain          2257\n",
    "nombre_exposed        502\n",
    "nombre_recovered    16421\n",
    "Name: 335, dtype: int64"
   ]
  },
  {
   "cell_type": "markdown",
   "id": "e8d955e3",
   "metadata": {},
   "source": [
    "nombre_infected       824\n",
    "nombre_sain          2240\n",
    "nombre_exposed        500\n",
    "nombre_recovered    16436\n",
    "Name: 336, dtype: int64"
   ]
  },
  {
   "cell_type": "markdown",
   "id": "ad321f5d",
   "metadata": {},
   "source": [
    "nombre_infected       827\n",
    "nombre_sain          2242\n",
    "nombre_exposed        505\n",
    "nombre_recovered    16426\n",
    "Name: 337, dtype: int64"
   ]
  },
  {
   "cell_type": "markdown",
   "id": "6cb2845c",
   "metadata": {},
   "source": [
    "nombre_infected       796\n",
    "nombre_sain          2249\n",
    "nombre_exposed        501\n",
    "nombre_recovered    16454\n",
    "Name: 338, dtype: int64"
   ]
  },
  {
   "cell_type": "markdown",
   "id": "f9079e85",
   "metadata": {},
   "source": [
    "nombre_infected       794\n",
    "nombre_sain          2239\n",
    "nombre_exposed        495\n",
    "nombre_recovered    16472\n",
    "Name: 339, dtype: int64"
   ]
  },
  {
   "cell_type": "markdown",
   "id": "83fc43f8",
   "metadata": {},
   "source": [
    "nombre_infected       821\n",
    "nombre_sain          2250\n",
    "nombre_exposed        478\n",
    "nombre_recovered    16451\n",
    "Name: 340, dtype: int64"
   ]
  },
  {
   "cell_type": "markdown",
   "id": "15b2e0ad",
   "metadata": {},
   "source": [
    "nombre_infected       823\n",
    "nombre_sain          2255\n",
    "nombre_exposed        466\n",
    "nombre_recovered    16456\n",
    "Name: 341, dtype: int64"
   ]
  },
  {
   "cell_type": "markdown",
   "id": "ee496592",
   "metadata": {},
   "source": [
    "nombre_infected       826\n",
    "nombre_sain          2223\n",
    "nombre_exposed        491\n",
    "nombre_recovered    16460\n",
    "Name: 342, dtype: int64"
   ]
  },
  {
   "cell_type": "markdown",
   "id": "46ed7cf2",
   "metadata": {},
   "source": [
    "nombre_infected       825\n",
    "nombre_sain          2217\n",
    "nombre_exposed        500\n",
    "nombre_recovered    16458\n",
    "Name: 343, dtype: int64"
   ]
  },
  {
   "cell_type": "markdown",
   "id": "ae7e8ae3",
   "metadata": {},
   "source": [
    "nombre_infected       847\n",
    "nombre_sain          2206\n",
    "nombre_exposed        516\n",
    "nombre_recovered    16431\n",
    "Name: 344, dtype: int64"
   ]
  },
  {
   "cell_type": "markdown",
   "id": "f2861e6a",
   "metadata": {},
   "source": [
    "nombre_infected       834\n",
    "nombre_sain          2180\n",
    "nombre_exposed        500\n",
    "nombre_recovered    16486\n",
    "Name: 345, dtype: int64"
   ]
  },
  {
   "cell_type": "markdown",
   "id": "efee9d7e",
   "metadata": {},
   "source": [
    "nombre_infected       821\n",
    "nombre_sain          2173\n",
    "nombre_exposed        501\n",
    "nombre_recovered    16505\n",
    "Name: 346, dtype: int64"
   ]
  },
  {
   "cell_type": "markdown",
   "id": "77e483ae",
   "metadata": {},
   "source": [
    "nombre_infected       792\n",
    "nombre_sain          2170\n",
    "nombre_exposed        500\n",
    "nombre_recovered    16538\n",
    "Name: 347, dtype: int64"
   ]
  },
  {
   "cell_type": "markdown",
   "id": "5c3f2f27",
   "metadata": {},
   "source": [
    "nombre_infected       802\n",
    "nombre_sain          2188\n",
    "nombre_exposed        464\n",
    "nombre_recovered    16546\n",
    "Name: 348, dtype: int64"
   ]
  },
  {
   "cell_type": "markdown",
   "id": "b4b6eddc",
   "metadata": {},
   "source": [
    "nombre_infected       810\n",
    "nombre_sain          2194\n",
    "nombre_exposed        446\n",
    "nombre_recovered    16550\n",
    "Name: 349, dtype: int64"
   ]
  },
  {
   "cell_type": "markdown",
   "id": "c799f62e",
   "metadata": {},
   "source": [
    "nombre_infected       828\n",
    "nombre_sain          2180\n",
    "nombre_exposed        446\n",
    "nombre_recovered    16546\n",
    "Name: 350, dtype: int64"
   ]
  },
  {
   "cell_type": "markdown",
   "id": "18db478c",
   "metadata": {},
   "source": [
    "nombre_infected       807\n",
    "nombre_sain          2173\n",
    "nombre_exposed        482\n",
    "nombre_recovered    16538\n",
    "Name: 351, dtype: int64"
   ]
  },
  {
   "cell_type": "markdown",
   "id": "c2bc121d",
   "metadata": {},
   "source": [
    "nombre_infected       786\n",
    "nombre_sain          2186\n",
    "nombre_exposed        489\n",
    "nombre_recovered    16539\n",
    "Name: 352, dtype: int64"
   ]
  },
  {
   "cell_type": "markdown",
   "id": "f8160a9a",
   "metadata": {},
   "source": [
    "nombre_infected       771\n",
    "nombre_sain          2194\n",
    "nombre_exposed        493\n",
    "nombre_recovered    16542\n",
    "Name: 353, dtype: int64"
   ]
  },
  {
   "cell_type": "markdown",
   "id": "36184f81",
   "metadata": {},
   "source": [
    "nombre_infected       777\n",
    "nombre_sain          2208\n",
    "nombre_exposed        493\n",
    "nombre_recovered    16522\n",
    "Name: 354, dtype: int64"
   ]
  },
  {
   "cell_type": "markdown",
   "id": "d53aa9db",
   "metadata": {},
   "source": [
    "nombre_infected       777\n",
    "nombre_sain          2203\n",
    "nombre_exposed        506\n",
    "nombre_recovered    16514\n",
    "Name: 355, dtype: int64"
   ]
  },
  {
   "cell_type": "markdown",
   "id": "c5d292f4",
   "metadata": {},
   "source": [
    "nombre_infected       794\n",
    "nombre_sain          2206\n",
    "nombre_exposed        498\n",
    "nombre_recovered    16502\n",
    "Name: 356, dtype: int64"
   ]
  },
  {
   "cell_type": "markdown",
   "id": "b6113fe9",
   "metadata": {},
   "source": [
    "nombre_infected       809\n",
    "nombre_sain          2219\n",
    "nombre_exposed        492\n",
    "nombre_recovered    16480\n",
    "Name: 357, dtype: int64"
   ]
  },
  {
   "cell_type": "markdown",
   "id": "0591b885",
   "metadata": {},
   "source": [
    "nombre_infected       789\n",
    "nombre_sain          2231\n",
    "nombre_exposed        516\n",
    "nombre_recovered    16464\n",
    "Name: 358, dtype: int64"
   ]
  },
  {
   "cell_type": "markdown",
   "id": "590aca79",
   "metadata": {},
   "source": [
    "nombre_infected       808\n",
    "nombre_sain          2220\n",
    "nombre_exposed        510\n",
    "nombre_recovered    16462\n",
    "Name: 359, dtype: int64"
   ]
  },
  {
   "cell_type": "markdown",
   "id": "468d326a",
   "metadata": {},
   "source": [
    "nombre_infected       811\n",
    "nombre_sain          2213\n",
    "nombre_exposed        514\n",
    "nombre_recovered    16462\n",
    "Name: 360, dtype: int64"
   ]
  },
  {
   "cell_type": "markdown",
   "id": "997ed186",
   "metadata": {},
   "source": [
    "nombre_infected       803\n",
    "nombre_sain          2205\n",
    "nombre_exposed        533\n",
    "nombre_recovered    16459\n",
    "Name: 361, dtype: int64"
   ]
  },
  {
   "cell_type": "markdown",
   "id": "a3c1e384",
   "metadata": {},
   "source": [
    "nombre_infected       791\n",
    "nombre_sain          2194\n",
    "nombre_exposed        557\n",
    "nombre_recovered    16458\n",
    "Name: 362, dtype: int64"
   ]
  },
  {
   "cell_type": "markdown",
   "id": "fb8727dd",
   "metadata": {},
   "source": [
    "nombre_infected       796\n",
    "nombre_sain          2225\n",
    "nombre_exposed        530\n",
    "nombre_recovered    16449\n",
    "Name: 363, dtype: int64"
   ]
  },
  {
   "cell_type": "markdown",
   "id": "9ee65ad6",
   "metadata": {},
   "source": [
    "nombre_infected       816\n",
    "nombre_sain          2235\n",
    "nombre_exposed        512\n",
    "nombre_recovered    16437\n",
    "Name: 364, dtype: int64"
   ]
  },
  {
   "cell_type": "markdown",
   "id": "b2bec03f",
   "metadata": {},
   "source": [
    "nombre_infected       857\n",
    "nombre_sain          2255\n",
    "nombre_exposed        490\n",
    "nombre_recovered    16398\n",
    "Name: 365, dtype: int64"
   ]
  },
  {
   "cell_type": "markdown",
   "id": "4ddbbe3f",
   "metadata": {},
   "source": [
    "nombre_infected       873\n",
    "nombre_sain          2268\n",
    "nombre_exposed        468\n",
    "nombre_recovered    16391\n",
    "Name: 366, dtype: int64"
   ]
  },
  {
   "cell_type": "markdown",
   "id": "7fcb1c8d",
   "metadata": {},
   "source": [
    "nombre_infected       852\n",
    "nombre_sain          2275\n",
    "nombre_exposed        487\n",
    "nombre_recovered    16386\n",
    "Name: 367, dtype: int64"
   ]
  },
  {
   "cell_type": "markdown",
   "id": "66e7ad19",
   "metadata": {},
   "source": [
    "nombre_infected       834\n",
    "nombre_sain          2283\n",
    "nombre_exposed        490\n",
    "nombre_recovered    16393\n",
    "Name: 368, dtype: int64"
   ]
  },
  {
   "cell_type": "markdown",
   "id": "5675d396",
   "metadata": {},
   "source": [
    "nombre_infected       810\n",
    "nombre_sain          2259\n",
    "nombre_exposed        527\n",
    "nombre_recovered    16404\n",
    "Name: 369, dtype: int64"
   ]
  },
  {
   "cell_type": "markdown",
   "id": "b386a8dd",
   "metadata": {},
   "source": [
    "nombre_infected       806\n",
    "nombre_sain          2262\n",
    "nombre_exposed        523\n",
    "nombre_recovered    16409\n",
    "Name: 370, dtype: int64"
   ]
  },
  {
   "cell_type": "markdown",
   "id": "6faf92d7",
   "metadata": {},
   "source": [
    "nombre_infected       812\n",
    "nombre_sain          2255\n",
    "nombre_exposed        537\n",
    "nombre_recovered    16396\n",
    "Name: 371, dtype: int64"
   ]
  },
  {
   "cell_type": "markdown",
   "id": "d8858d81",
   "metadata": {},
   "source": [
    "nombre_infected       828\n",
    "nombre_sain          2246\n",
    "nombre_exposed        531\n",
    "nombre_recovered    16395\n",
    "Name: 372, dtype: int64"
   ]
  },
  {
   "cell_type": "markdown",
   "id": "100867dc",
   "metadata": {},
   "source": [
    "nombre_infected       813\n",
    "nombre_sain          2247\n",
    "nombre_exposed        537\n",
    "nombre_recovered    16403\n",
    "Name: 373, dtype: int64"
   ]
  },
  {
   "cell_type": "markdown",
   "id": "fad2a82e",
   "metadata": {},
   "source": [
    "nombre_infected       849\n",
    "nombre_sain          2226\n",
    "nombre_exposed        519\n",
    "nombre_recovered    16406\n",
    "Name: 374, dtype: int64"
   ]
  },
  {
   "cell_type": "markdown",
   "id": "9e12f84f",
   "metadata": {},
   "source": [
    "nombre_infected       855\n",
    "nombre_sain          2234\n",
    "nombre_exposed        514\n",
    "nombre_recovered    16397\n",
    "Name: 375, dtype: int64"
   ]
  },
  {
   "cell_type": "markdown",
   "id": "4e9d2d1f",
   "metadata": {},
   "source": [
    "nombre_infected       877\n",
    "nombre_sain          2234\n",
    "nombre_exposed        502\n",
    "nombre_recovered    16387\n",
    "Name: 376, dtype: int64"
   ]
  },
  {
   "cell_type": "markdown",
   "id": "47a229c6",
   "metadata": {},
   "source": [
    "nombre_infected       897\n",
    "nombre_sain          2231\n",
    "nombre_exposed        513\n",
    "nombre_recovered    16359\n",
    "Name: 377, dtype: int64"
   ]
  },
  {
   "cell_type": "markdown",
   "id": "607ecffa",
   "metadata": {},
   "source": [
    "nombre_infected       882\n",
    "nombre_sain          2219\n",
    "nombre_exposed        521\n",
    "nombre_recovered    16378\n",
    "Name: 378, dtype: int64"
   ]
  },
  {
   "cell_type": "markdown",
   "id": "12b67c97",
   "metadata": {},
   "source": [
    "nombre_infected       870\n",
    "nombre_sain          2226\n",
    "nombre_exposed        526\n",
    "nombre_recovered    16378\n",
    "Name: 379, dtype: int64"
   ]
  },
  {
   "cell_type": "markdown",
   "id": "a9583a05",
   "metadata": {},
   "source": [
    "nombre_infected       861\n",
    "nombre_sain          2208\n",
    "nombre_exposed        525\n",
    "nombre_recovered    16406\n",
    "Name: 380, dtype: int64"
   ]
  },
  {
   "cell_type": "markdown",
   "id": "603386bb",
   "metadata": {},
   "source": [
    "nombre_infected       867\n",
    "nombre_sain          2207\n",
    "nombre_exposed        515\n",
    "nombre_recovered    16411\n",
    "Name: 381, dtype: int64"
   ]
  },
  {
   "cell_type": "markdown",
   "id": "710a7ff3",
   "metadata": {},
   "source": [
    "nombre_infected       856\n",
    "nombre_sain          2203\n",
    "nombre_exposed        502\n",
    "nombre_recovered    16439\n",
    "Name: 382, dtype: int64"
   ]
  },
  {
   "cell_type": "markdown",
   "id": "40f0d43d",
   "metadata": {},
   "source": [
    "nombre_infected       842\n",
    "nombre_sain          2191\n",
    "nombre_exposed        522\n",
    "nombre_recovered    16445\n",
    "Name: 383, dtype: int64"
   ]
  },
  {
   "cell_type": "markdown",
   "id": "e70927b4",
   "metadata": {},
   "source": [
    "nombre_infected       867\n",
    "nombre_sain          2168\n",
    "nombre_exposed        514\n",
    "nombre_recovered    16451\n",
    "Name: 384, dtype: int64"
   ]
  },
  {
   "cell_type": "markdown",
   "id": "eb77d8d3",
   "metadata": {},
   "source": [
    "nombre_infected       891\n",
    "nombre_sain          2158\n",
    "nombre_exposed        531\n",
    "nombre_recovered    16420\n",
    "Name: 385, dtype: int64"
   ]
  },
  {
   "cell_type": "markdown",
   "id": "2bf57766",
   "metadata": {},
   "source": [
    "nombre_infected       909\n",
    "nombre_sain          2169\n",
    "nombre_exposed        509\n",
    "nombre_recovered    16413\n",
    "Name: 386, dtype: int64"
   ]
  },
  {
   "cell_type": "markdown",
   "id": "aec591db",
   "metadata": {},
   "source": [
    "nombre_infected       921\n",
    "nombre_sain          2152\n",
    "nombre_exposed        492\n",
    "nombre_recovered    16435\n",
    "Name: 387, dtype: int64"
   ]
  },
  {
   "cell_type": "markdown",
   "id": "6e5af332",
   "metadata": {},
   "source": [
    "nombre_infected       931\n",
    "nombre_sain          2144\n",
    "nombre_exposed        506\n",
    "nombre_recovered    16419\n",
    "Name: 388, dtype: int64"
   ]
  },
  {
   "cell_type": "markdown",
   "id": "9c2a6db6",
   "metadata": {},
   "source": [
    "nombre_infected       950\n",
    "nombre_sain          2133\n",
    "nombre_exposed        501\n",
    "nombre_recovered    16416\n",
    "Name: 389, dtype: int64"
   ]
  },
  {
   "cell_type": "markdown",
   "id": "2ed19ea2",
   "metadata": {},
   "source": [
    "nombre_infected       941\n",
    "nombre_sain          2122\n",
    "nombre_exposed        509\n",
    "nombre_recovered    16428\n",
    "Name: 390, dtype: int64"
   ]
  },
  {
   "cell_type": "markdown",
   "id": "7caadcbb",
   "metadata": {},
   "source": [
    "nombre_infected       946\n",
    "nombre_sain          2104\n",
    "nombre_exposed        519\n",
    "nombre_recovered    16431\n",
    "Name: 391, dtype: int64"
   ]
  },
  {
   "cell_type": "markdown",
   "id": "a28f749b",
   "metadata": {},
   "source": [
    "nombre_infected       933\n",
    "nombre_sain          2085\n",
    "nombre_exposed        524\n",
    "nombre_recovered    16458\n",
    "Name: 392, dtype: int64"
   ]
  },
  {
   "cell_type": "markdown",
   "id": "97bdfd9d",
   "metadata": {},
   "source": [
    "nombre_infected       940\n",
    "nombre_sain          2079\n",
    "nombre_exposed        524\n",
    "nombre_recovered    16457\n",
    "Name: 393, dtype: int64"
   ]
  },
  {
   "cell_type": "markdown",
   "id": "c4cce19f",
   "metadata": {},
   "source": [
    "nombre_infected       946\n",
    "nombre_sain          2070\n",
    "nombre_exposed        524\n",
    "nombre_recovered    16460\n",
    "Name: 394, dtype: int64"
   ]
  },
  {
   "cell_type": "markdown",
   "id": "59855715",
   "metadata": {},
   "source": [
    "nombre_infected       947\n",
    "nombre_sain          2053\n",
    "nombre_exposed        520\n",
    "nombre_recovered    16480\n",
    "Name: 395, dtype: int64"
   ]
  },
  {
   "cell_type": "markdown",
   "id": "4887e898",
   "metadata": {},
   "source": [
    "nombre_infected       957\n",
    "nombre_sain          2063\n",
    "nombre_exposed        488\n",
    "nombre_recovered    16492\n",
    "Name: 396, dtype: int64"
   ]
  },
  {
   "cell_type": "markdown",
   "id": "af638c62",
   "metadata": {},
   "source": [
    "nombre_infected       940\n",
    "nombre_sain          2038\n",
    "nombre_exposed        508\n",
    "nombre_recovered    16514\n",
    "Name: 397, dtype: int64"
   ]
  },
  {
   "cell_type": "markdown",
   "id": "bb81821a",
   "metadata": {},
   "source": [
    "nombre_infected       944\n",
    "nombre_sain          2040\n",
    "nombre_exposed        490\n",
    "nombre_recovered    16526\n",
    "Name: 398, dtype: int64"
   ]
  },
  {
   "cell_type": "markdown",
   "id": "5be1e222",
   "metadata": {},
   "source": [
    "nombre_infected       962\n",
    "nombre_sain          2026\n",
    "nombre_exposed        487\n",
    "nombre_recovered    16525\n",
    "Name: 399, dtype: int64"
   ]
  },
  {
   "cell_type": "markdown",
   "id": "8cb135fb",
   "metadata": {},
   "source": [
    "nombre_infected       934\n",
    "nombre_sain          2025\n",
    "nombre_exposed        492\n",
    "nombre_recovered    16549\n",
    "Name: 400, dtype: int64"
   ]
  },
  {
   "cell_type": "markdown",
   "id": "36f3ad9a",
   "metadata": {},
   "source": [
    "nombre_infected       926\n",
    "nombre_sain          2032\n",
    "nombre_exposed        495\n",
    "nombre_recovered    16547\n",
    "Name: 401, dtype: int64"
   ]
  },
  {
   "cell_type": "markdown",
   "id": "5deb895f",
   "metadata": {},
   "source": [
    "nombre_infected       911\n",
    "nombre_sain          2050\n",
    "nombre_exposed        495\n",
    "nombre_recovered    16544\n",
    "Name: 402, dtype: int64"
   ]
  },
  {
   "cell_type": "markdown",
   "id": "00dac79c",
   "metadata": {},
   "source": [
    "nombre_infected       940\n",
    "nombre_sain          2070\n",
    "nombre_exposed        456\n",
    "nombre_recovered    16534\n",
    "Name: 403, dtype: int64"
   ]
  },
  {
   "cell_type": "markdown",
   "id": "3b7ef14c",
   "metadata": {},
   "source": [
    "nombre_infected       939\n",
    "nombre_sain          2051\n",
    "nombre_exposed        471\n",
    "nombre_recovered    16539\n",
    "Name: 404, dtype: int64"
   ]
  },
  {
   "cell_type": "markdown",
   "id": "dd1bc318",
   "metadata": {},
   "source": [
    "nombre_infected       920\n",
    "nombre_sain          2067\n",
    "nombre_exposed        474\n",
    "nombre_recovered    16539\n",
    "Name: 405, dtype: int64"
   ]
  },
  {
   "cell_type": "markdown",
   "id": "641c2207",
   "metadata": {},
   "source": [
    "nombre_infected       922\n",
    "nombre_sain          2083\n",
    "nombre_exposed        462\n",
    "nombre_recovered    16533\n",
    "Name: 406, dtype: int64"
   ]
  },
  {
   "cell_type": "markdown",
   "id": "34d1820c",
   "metadata": {},
   "source": [
    "nombre_infected       910\n",
    "nombre_sain          2088\n",
    "nombre_exposed        467\n",
    "nombre_recovered    16535\n",
    "Name: 407, dtype: int64"
   ]
  },
  {
   "cell_type": "markdown",
   "id": "ad3b39a1",
   "metadata": {},
   "source": [
    "nombre_infected       906\n",
    "nombre_sain          2092\n",
    "nombre_exposed        452\n",
    "nombre_recovered    16550\n",
    "Name: 408, dtype: int64"
   ]
  },
  {
   "cell_type": "markdown",
   "id": "f13fb6e7",
   "metadata": {},
   "source": [
    "nombre_infected       893\n",
    "nombre_sain          2065\n",
    "nombre_exposed        474\n",
    "nombre_recovered    16568\n",
    "Name: 409, dtype: int64"
   ]
  },
  {
   "cell_type": "markdown",
   "id": "6e484ee1",
   "metadata": {},
   "source": [
    "nombre_infected       900\n",
    "nombre_sain          2063\n",
    "nombre_exposed        477\n",
    "nombre_recovered    16560\n",
    "Name: 410, dtype: int64"
   ]
  },
  {
   "cell_type": "markdown",
   "id": "043e1232",
   "metadata": {},
   "source": [
    "nombre_infected       905\n",
    "nombre_sain          2066\n",
    "nombre_exposed        480\n",
    "nombre_recovered    16549\n",
    "Name: 411, dtype: int64"
   ]
  },
  {
   "cell_type": "markdown",
   "id": "a3b22ee2",
   "metadata": {},
   "source": [
    "nombre_infected       888\n",
    "nombre_sain          2041\n",
    "nombre_exposed        495\n",
    "nombre_recovered    16576\n",
    "Name: 412, dtype: int64"
   ]
  },
  {
   "cell_type": "markdown",
   "id": "f30c3eb1",
   "metadata": {},
   "source": [
    "nombre_infected       896\n",
    "nombre_sain          2053\n",
    "nombre_exposed        487\n",
    "nombre_recovered    16564\n",
    "Name: 413, dtype: int64"
   ]
  },
  {
   "cell_type": "markdown",
   "id": "48e28e7d",
   "metadata": {},
   "source": [
    "nombre_infected       884\n",
    "nombre_sain          2047\n",
    "nombre_exposed        487\n",
    "nombre_recovered    16582\n",
    "Name: 414, dtype: int64"
   ]
  },
  {
   "cell_type": "markdown",
   "id": "f2bbb470",
   "metadata": {},
   "source": [
    "nombre_infected       869\n",
    "nombre_sain          2049\n",
    "nombre_exposed        498\n",
    "nombre_recovered    16584\n",
    "Name: 415, dtype: int64"
   ]
  },
  {
   "cell_type": "markdown",
   "id": "9b39f45d",
   "metadata": {},
   "source": [
    "nombre_infected       883\n",
    "nombre_sain          2074\n",
    "nombre_exposed        491\n",
    "nombre_recovered    16552\n",
    "Name: 416, dtype: int64"
   ]
  },
  {
   "cell_type": "markdown",
   "id": "03d166c2",
   "metadata": {},
   "source": [
    "nombre_infected       883\n",
    "nombre_sain          2087\n",
    "nombre_exposed        471\n",
    "nombre_recovered    16559\n",
    "Name: 417, dtype: int64"
   ]
  },
  {
   "cell_type": "markdown",
   "id": "48fdcf38",
   "metadata": {},
   "source": [
    "nombre_infected       883\n",
    "nombre_sain          2081\n",
    "nombre_exposed        482\n",
    "nombre_recovered    16554\n",
    "Name: 418, dtype: int64"
   ]
  },
  {
   "cell_type": "markdown",
   "id": "0940b18f",
   "metadata": {},
   "source": [
    "nombre_infected       877\n",
    "nombre_sain          2072\n",
    "nombre_exposed        499\n",
    "nombre_recovered    16552\n",
    "Name: 419, dtype: int64"
   ]
  },
  {
   "cell_type": "markdown",
   "id": "7f8f2f01",
   "metadata": {},
   "source": [
    "nombre_infected       885\n",
    "nombre_sain          2076\n",
    "nombre_exposed        489\n",
    "nombre_recovered    16550\n",
    "Name: 420, dtype: int64"
   ]
  },
  {
   "cell_type": "markdown",
   "id": "b7e9afc0",
   "metadata": {},
   "source": [
    "nombre_infected       875\n",
    "nombre_sain          2081\n",
    "nombre_exposed        495\n",
    "nombre_recovered    16549\n",
    "Name: 421, dtype: int64"
   ]
  },
  {
   "cell_type": "markdown",
   "id": "53074d39",
   "metadata": {},
   "source": [
    "nombre_infected       887\n",
    "nombre_sain          2103\n",
    "nombre_exposed        485\n",
    "nombre_recovered    16525\n",
    "Name: 422, dtype: int64"
   ]
  },
  {
   "cell_type": "markdown",
   "id": "b09a9b50",
   "metadata": {},
   "source": [
    "nombre_infected       890\n",
    "nombre_sain          2096\n",
    "nombre_exposed        492\n",
    "nombre_recovered    16522\n",
    "Name: 423, dtype: int64"
   ]
  },
  {
   "cell_type": "markdown",
   "id": "737653ba",
   "metadata": {},
   "source": [
    "nombre_infected       894\n",
    "nombre_sain          2107\n",
    "nombre_exposed        502\n",
    "nombre_recovered    16497\n",
    "Name: 424, dtype: int64"
   ]
  },
  {
   "cell_type": "markdown",
   "id": "7e903278",
   "metadata": {},
   "source": [
    "nombre_infected       905\n",
    "nombre_sain          2087\n",
    "nombre_exposed        506\n",
    "nombre_recovered    16502\n",
    "Name: 425, dtype: int64"
   ]
  },
  {
   "cell_type": "markdown",
   "id": "13e92eeb",
   "metadata": {},
   "source": [
    "nombre_infected       887\n",
    "nombre_sain          2083\n",
    "nombre_exposed        510\n",
    "nombre_recovered    16520\n",
    "Name: 426, dtype: int64"
   ]
  },
  {
   "cell_type": "markdown",
   "id": "d8f0f5ac",
   "metadata": {},
   "source": [
    "nombre_infected       888\n",
    "nombre_sain          2094\n",
    "nombre_exposed        516\n",
    "nombre_recovered    16502\n",
    "Name: 427, dtype: int64"
   ]
  },
  {
   "cell_type": "markdown",
   "id": "214d8195",
   "metadata": {},
   "source": [
    "nombre_infected       890\n",
    "nombre_sain          2086\n",
    "nombre_exposed        518\n",
    "nombre_recovered    16506\n",
    "Name: 428, dtype: int64"
   ]
  },
  {
   "cell_type": "markdown",
   "id": "dc065cf2",
   "metadata": {},
   "source": [
    "nombre_infected       887\n",
    "nombre_sain          2077\n",
    "nombre_exposed        528\n",
    "nombre_recovered    16508\n",
    "Name: 429, dtype: int64"
   ]
  },
  {
   "cell_type": "markdown",
   "id": "28e94691",
   "metadata": {},
   "source": [
    "nombre_infected       891\n",
    "nombre_sain          2079\n",
    "nombre_exposed        507\n",
    "nombre_recovered    16523\n",
    "Name: 430, dtype: int64"
   ]
  },
  {
   "cell_type": "markdown",
   "id": "4ca88371",
   "metadata": {},
   "source": [
    "nombre_infected       907\n",
    "nombre_sain          2058\n",
    "nombre_exposed        521\n",
    "nombre_recovered    16514\n",
    "Name: 431, dtype: int64"
   ]
  },
  {
   "cell_type": "markdown",
   "id": "7ff26bef",
   "metadata": {},
   "source": [
    "nombre_infected       909\n",
    "nombre_sain          2088\n",
    "nombre_exposed        519\n",
    "nombre_recovered    16484\n",
    "Name: 432, dtype: int64"
   ]
  },
  {
   "cell_type": "markdown",
   "id": "b9e61436",
   "metadata": {},
   "source": [
    "nombre_infected       892\n",
    "nombre_sain          2092\n",
    "nombre_exposed        506\n",
    "nombre_recovered    16510\n",
    "Name: 433, dtype: int64"
   ]
  },
  {
   "cell_type": "markdown",
   "id": "ae7a812d",
   "metadata": {},
   "source": [
    "nombre_infected       893\n",
    "nombre_sain          2106\n",
    "nombre_exposed        499\n",
    "nombre_recovered    16502\n",
    "Name: 434, dtype: int64"
   ]
  },
  {
   "cell_type": "markdown",
   "id": "f9363839",
   "metadata": {},
   "source": [
    "nombre_infected       882\n",
    "nombre_sain          2120\n",
    "nombre_exposed        496\n",
    "nombre_recovered    16502\n",
    "Name: 435, dtype: int64"
   ]
  },
  {
   "cell_type": "markdown",
   "id": "8f335301",
   "metadata": {},
   "source": [
    "nombre_infected       884\n",
    "nombre_sain          2130\n",
    "nombre_exposed        495\n",
    "nombre_recovered    16491\n",
    "Name: 436, dtype: int64"
   ]
  },
  {
   "cell_type": "markdown",
   "id": "91cd5106",
   "metadata": {},
   "source": [
    "nombre_infected       875\n",
    "nombre_sain          2147\n",
    "nombre_exposed        493\n",
    "nombre_recovered    16485\n",
    "Name: 437, dtype: int64"
   ]
  },
  {
   "cell_type": "markdown",
   "id": "2c94e0b0",
   "metadata": {},
   "source": [
    "nombre_infected       845\n",
    "nombre_sain          2107\n",
    "nombre_exposed        507\n",
    "nombre_recovered    16541\n",
    "Name: 438, dtype: int64"
   ]
  },
  {
   "cell_type": "markdown",
   "id": "d64c0591",
   "metadata": {},
   "source": [
    "nombre_infected       868\n",
    "nombre_sain          2087\n",
    "nombre_exposed        505\n",
    "nombre_recovered    16540\n",
    "Name: 439, dtype: int64"
   ]
  },
  {
   "cell_type": "markdown",
   "id": "a1e47a18",
   "metadata": {},
   "source": [
    "nombre_infected       858\n",
    "nombre_sain          2109\n",
    "nombre_exposed        517\n",
    "nombre_recovered    16516\n",
    "Name: 440, dtype: int64"
   ]
  },
  {
   "cell_type": "markdown",
   "id": "02f3a023",
   "metadata": {},
   "source": [
    "nombre_infected       848\n",
    "nombre_sain          2102\n",
    "nombre_exposed        514\n",
    "nombre_recovered    16536\n",
    "Name: 441, dtype: int64"
   ]
  },
  {
   "cell_type": "markdown",
   "id": "823911c2",
   "metadata": {},
   "source": [
    "nombre_infected       847\n",
    "nombre_sain          2107\n",
    "nombre_exposed        510\n",
    "nombre_recovered    16536\n",
    "Name: 442, dtype: int64"
   ]
  },
  {
   "cell_type": "markdown",
   "id": "a84d005d",
   "metadata": {},
   "source": [
    "nombre_infected       858\n",
    "nombre_sain          2110\n",
    "nombre_exposed        498\n",
    "nombre_recovered    16534\n",
    "Name: 443, dtype: int64"
   ]
  },
  {
   "cell_type": "markdown",
   "id": "b8c34cc1",
   "metadata": {},
   "source": [
    "nombre_infected       871\n",
    "nombre_sain          2104\n",
    "nombre_exposed        480\n",
    "nombre_recovered    16545\n",
    "Name: 444, dtype: int64"
   ]
  },
  {
   "cell_type": "markdown",
   "id": "60a48d98",
   "metadata": {},
   "source": [
    "nombre_infected       874\n",
    "nombre_sain          2109\n",
    "nombre_exposed        477\n",
    "nombre_recovered    16540\n",
    "Name: 445, dtype: int64"
   ]
  },
  {
   "cell_type": "markdown",
   "id": "d0382bdf",
   "metadata": {},
   "source": [
    "nombre_infected       863\n",
    "nombre_sain          2129\n",
    "nombre_exposed        476\n",
    "nombre_recovered    16532\n",
    "Name: 446, dtype: int64"
   ]
  },
  {
   "cell_type": "markdown",
   "id": "52abcc3e",
   "metadata": {},
   "source": [
    "nombre_infected       838\n",
    "nombre_sain          2118\n",
    "nombre_exposed        498\n",
    "nombre_recovered    16546\n",
    "Name: 447, dtype: int64"
   ]
  },
  {
   "cell_type": "markdown",
   "id": "55ead64a",
   "metadata": {},
   "source": [
    "nombre_infected       861\n",
    "nombre_sain          2131\n",
    "nombre_exposed        479\n",
    "nombre_recovered    16529\n",
    "Name: 448, dtype: int64"
   ]
  },
  {
   "cell_type": "markdown",
   "id": "72b7a9d0",
   "metadata": {},
   "source": [
    "nombre_infected       848\n",
    "nombre_sain          2141\n",
    "nombre_exposed        487\n",
    "nombre_recovered    16524\n",
    "Name: 449, dtype: int64"
   ]
  },
  {
   "cell_type": "markdown",
   "id": "d89a4d91",
   "metadata": {},
   "source": [
    "nombre_infected       836\n",
    "nombre_sain          2113\n",
    "nombre_exposed        510\n",
    "nombre_recovered    16541\n",
    "Name: 450, dtype: int64"
   ]
  },
  {
   "cell_type": "markdown",
   "id": "9b684d20",
   "metadata": {},
   "source": [
    "nombre_infected       848\n",
    "nombre_sain          2150\n",
    "nombre_exposed        476\n",
    "nombre_recovered    16526\n",
    "Name: 451, dtype: int64"
   ]
  },
  {
   "cell_type": "markdown",
   "id": "06c322c4",
   "metadata": {},
   "source": [
    "nombre_infected       842\n",
    "nombre_sain          2157\n",
    "nombre_exposed        487\n",
    "nombre_recovered    16514\n",
    "Name: 452, dtype: int64"
   ]
  },
  {
   "cell_type": "markdown",
   "id": "1f6fa976",
   "metadata": {},
   "source": [
    "nombre_infected       873\n",
    "nombre_sain          2166\n",
    "nombre_exposed        467\n",
    "nombre_recovered    16494\n",
    "Name: 453, dtype: int64"
   ]
  },
  {
   "cell_type": "markdown",
   "id": "12ef5a09",
   "metadata": {},
   "source": [
    "nombre_infected       887\n",
    "nombre_sain          2151\n",
    "nombre_exposed        456\n",
    "nombre_recovered    16506\n",
    "Name: 454, dtype: int64"
   ]
  },
  {
   "cell_type": "markdown",
   "id": "b841d36c",
   "metadata": {},
   "source": [
    "nombre_infected       863\n",
    "nombre_sain          2151\n",
    "nombre_exposed        494\n",
    "nombre_recovered    16492\n",
    "Name: 455, dtype: int64"
   ]
  },
  {
   "cell_type": "markdown",
   "id": "261823b6",
   "metadata": {},
   "source": [
    "nombre_infected       874\n",
    "nombre_sain          2144\n",
    "nombre_exposed        492\n",
    "nombre_recovered    16490\n",
    "Name: 456, dtype: int64"
   ]
  },
  {
   "cell_type": "markdown",
   "id": "b87bb090",
   "metadata": {},
   "source": [
    "nombre_infected       882\n",
    "nombre_sain          2131\n",
    "nombre_exposed        477\n",
    "nombre_recovered    16510\n",
    "Name: 457, dtype: int64"
   ]
  },
  {
   "cell_type": "markdown",
   "id": "f1a4a282",
   "metadata": {},
   "source": [
    "nombre_infected       874\n",
    "nombre_sain          2113\n",
    "nombre_exposed        476\n",
    "nombre_recovered    16537\n",
    "Name: 458, dtype: int64"
   ]
  },
  {
   "cell_type": "markdown",
   "id": "5cf3d6f5",
   "metadata": {},
   "source": [
    "nombre_infected       863\n",
    "nombre_sain          2101\n",
    "nombre_exposed        496\n",
    "nombre_recovered    16540\n",
    "Name: 459, dtype: int64"
   ]
  },
  {
   "cell_type": "markdown",
   "id": "a7071950",
   "metadata": {},
   "source": [
    "nombre_infected       881\n",
    "nombre_sain          2090\n",
    "nombre_exposed        492\n",
    "nombre_recovered    16537\n",
    "Name: 460, dtype: int64"
   ]
  },
  {
   "cell_type": "markdown",
   "id": "5c8bf0c3",
   "metadata": {},
   "source": [
    "nombre_infected       883\n",
    "nombre_sain          2093\n",
    "nombre_exposed        501\n",
    "nombre_recovered    16523\n",
    "Name: 461, dtype: int64"
   ]
  },
  {
   "cell_type": "markdown",
   "id": "3685461e",
   "metadata": {},
   "source": [
    "nombre_infected       869\n",
    "nombre_sain          2095\n",
    "nombre_exposed        492\n",
    "nombre_recovered    16544\n",
    "Name: 462, dtype: int64"
   ]
  },
  {
   "cell_type": "markdown",
   "id": "7e6e11c4",
   "metadata": {},
   "source": [
    "nombre_infected       863\n",
    "nombre_sain          2099\n",
    "nombre_exposed        490\n",
    "nombre_recovered    16548\n",
    "Name: 463, dtype: int64"
   ]
  },
  {
   "cell_type": "markdown",
   "id": "61290276",
   "metadata": {},
   "source": [
    "nombre_infected       886\n",
    "nombre_sain          2117\n",
    "nombre_exposed        453\n",
    "nombre_recovered    16544\n",
    "Name: 464, dtype: int64"
   ]
  },
  {
   "cell_type": "markdown",
   "id": "cec37915",
   "metadata": {},
   "source": [
    "nombre_infected       901\n",
    "nombre_sain          2111\n",
    "nombre_exposed        459\n",
    "nombre_recovered    16529\n",
    "Name: 465, dtype: int64"
   ]
  },
  {
   "cell_type": "markdown",
   "id": "3d3b4f30",
   "metadata": {},
   "source": [
    "nombre_infected       886\n",
    "nombre_sain          2114\n",
    "nombre_exposed        465\n",
    "nombre_recovered    16535\n",
    "Name: 466, dtype: int64"
   ]
  },
  {
   "cell_type": "markdown",
   "id": "7d55864f",
   "metadata": {},
   "source": [
    "nombre_infected       876\n",
    "nombre_sain          2107\n",
    "nombre_exposed        477\n",
    "nombre_recovered    16540\n",
    "Name: 467, dtype: int64"
   ]
  },
  {
   "cell_type": "markdown",
   "id": "091b41c8",
   "metadata": {},
   "source": [
    "nombre_infected       879\n",
    "nombre_sain          2106\n",
    "nombre_exposed        465\n",
    "nombre_recovered    16550\n",
    "Name: 468, dtype: int64"
   ]
  },
  {
   "cell_type": "markdown",
   "id": "f2a4fdce",
   "metadata": {},
   "source": [
    "nombre_infected       876\n",
    "nombre_sain          2105\n",
    "nombre_exposed        461\n",
    "nombre_recovered    16558\n",
    "Name: 469, dtype: int64"
   ]
  },
  {
   "cell_type": "markdown",
   "id": "9635426c",
   "metadata": {},
   "source": [
    "nombre_infected       890\n",
    "nombre_sain          2095\n",
    "nombre_exposed        452\n",
    "nombre_recovered    16563\n",
    "Name: 470, dtype: int64"
   ]
  },
  {
   "cell_type": "markdown",
   "id": "41ce2814",
   "metadata": {},
   "source": [
    "nombre_infected       862\n",
    "nombre_sain          2094\n",
    "nombre_exposed        461\n",
    "nombre_recovered    16583\n",
    "Name: 471, dtype: int64"
   ]
  },
  {
   "cell_type": "markdown",
   "id": "87fdff6a",
   "metadata": {},
   "source": [
    "nombre_infected       889\n",
    "nombre_sain          2075\n",
    "nombre_exposed        464\n",
    "nombre_recovered    16572\n",
    "Name: 472, dtype: int64"
   ]
  },
  {
   "cell_type": "markdown",
   "id": "9e562872",
   "metadata": {},
   "source": [
    "nombre_infected       896\n",
    "nombre_sain          2049\n",
    "nombre_exposed        468\n",
    "nombre_recovered    16587\n",
    "Name: 473, dtype: int64"
   ]
  },
  {
   "cell_type": "markdown",
   "id": "1af42b56",
   "metadata": {},
   "source": [
    "nombre_infected       917\n",
    "nombre_sain          2057\n",
    "nombre_exposed        468\n",
    "nombre_recovered    16558\n",
    "Name: 474, dtype: int64"
   ]
  },
  {
   "cell_type": "markdown",
   "id": "5adf35e8",
   "metadata": {},
   "source": [
    "nombre_infected       904\n",
    "nombre_sain          2038\n",
    "nombre_exposed        492\n",
    "nombre_recovered    16566\n",
    "Name: 475, dtype: int64"
   ]
  },
  {
   "cell_type": "markdown",
   "id": "517977cf",
   "metadata": {},
   "source": [
    "nombre_infected       904\n",
    "nombre_sain          2021\n",
    "nombre_exposed        488\n",
    "nombre_recovered    16587\n",
    "Name: 476, dtype: int64"
   ]
  },
  {
   "cell_type": "markdown",
   "id": "45ea55e4",
   "metadata": {},
   "source": [
    "nombre_infected       904\n",
    "nombre_sain          2013\n",
    "nombre_exposed        480\n",
    "nombre_recovered    16603\n",
    "Name: 477, dtype: int64"
   ]
  },
  {
   "cell_type": "markdown",
   "id": "73b212bd",
   "metadata": {},
   "source": [
    "nombre_infected       908\n",
    "nombre_sain          2005\n",
    "nombre_exposed        460\n",
    "nombre_recovered    16627\n",
    "Name: 478, dtype: int64"
   ]
  },
  {
   "cell_type": "markdown",
   "id": "2d433d31",
   "metadata": {},
   "source": [
    "nombre_infected       920\n",
    "nombre_sain          1993\n",
    "nombre_exposed        452\n",
    "nombre_recovered    16635\n",
    "Name: 479, dtype: int64"
   ]
  },
  {
   "cell_type": "markdown",
   "id": "5de01f1a",
   "metadata": {},
   "source": [
    "nombre_infected       906\n",
    "nombre_sain          1974\n",
    "nombre_exposed        462\n",
    "nombre_recovered    16658\n",
    "Name: 480, dtype: int64"
   ]
  },
  {
   "cell_type": "markdown",
   "id": "6365946c",
   "metadata": {},
   "source": [
    "nombre_infected       901\n",
    "nombre_sain          1977\n",
    "nombre_exposed        458\n",
    "nombre_recovered    16664\n",
    "Name: 481, dtype: int64"
   ]
  },
  {
   "cell_type": "markdown",
   "id": "22b44382",
   "metadata": {},
   "source": [
    "nombre_infected       927\n",
    "nombre_sain          1955\n",
    "nombre_exposed        461\n",
    "nombre_recovered    16657\n",
    "Name: 482, dtype: int64"
   ]
  },
  {
   "cell_type": "markdown",
   "id": "3b6a13c3",
   "metadata": {},
   "source": [
    "nombre_infected       923\n",
    "nombre_sain          1967\n",
    "nombre_exposed        458\n",
    "nombre_recovered    16652\n",
    "Name: 483, dtype: int64"
   ]
  },
  {
   "cell_type": "markdown",
   "id": "9d3cfee0",
   "metadata": {},
   "source": [
    "nombre_infected       912\n",
    "nombre_sain          1972\n",
    "nombre_exposed        464\n",
    "nombre_recovered    16652\n",
    "Name: 484, dtype: int64"
   ]
  },
  {
   "cell_type": "markdown",
   "id": "51588b79",
   "metadata": {},
   "source": [
    "nombre_infected       918\n",
    "nombre_sain          1950\n",
    "nombre_exposed        444\n",
    "nombre_recovered    16688\n",
    "Name: 485, dtype: int64"
   ]
  },
  {
   "cell_type": "markdown",
   "id": "4675891a",
   "metadata": {},
   "source": [
    "nombre_infected       910\n",
    "nombre_sain          1953\n",
    "nombre_exposed        418\n",
    "nombre_recovered    16719\n",
    "Name: 486, dtype: int64"
   ]
  },
  {
   "cell_type": "markdown",
   "id": "6b642716",
   "metadata": {},
   "source": [
    "nombre_infected       909\n",
    "nombre_sain          1964\n",
    "nombre_exposed        423\n",
    "nombre_recovered    16704\n",
    "Name: 487, dtype: int64"
   ]
  },
  {
   "cell_type": "markdown",
   "id": "77d51ed1",
   "metadata": {},
   "source": [
    "nombre_infected       876\n",
    "nombre_sain          1968\n",
    "nombre_exposed        430\n",
    "nombre_recovered    16726\n",
    "Name: 488, dtype: int64"
   ]
  },
  {
   "cell_type": "markdown",
   "id": "c86e8cbf",
   "metadata": {},
   "source": [
    "nombre_infected       869\n",
    "nombre_sain          1977\n",
    "nombre_exposed        445\n",
    "nombre_recovered    16709\n",
    "Name: 489, dtype: int64"
   ]
  },
  {
   "cell_type": "markdown",
   "id": "d427930b",
   "metadata": {},
   "source": [
    "nombre_infected       838\n",
    "nombre_sain          1998\n",
    "nombre_exposed        425\n",
    "nombre_recovered    16739\n",
    "Name: 490, dtype: int64"
   ]
  },
  {
   "cell_type": "markdown",
   "id": "64bd5916",
   "metadata": {},
   "source": [
    "nombre_infected       817\n",
    "nombre_sain          2030\n",
    "nombre_exposed        415\n",
    "nombre_recovered    16738\n",
    "Name: 491, dtype: int64"
   ]
  },
  {
   "cell_type": "markdown",
   "id": "29aedca9",
   "metadata": {},
   "source": [
    "nombre_infected       812\n",
    "nombre_sain          2027\n",
    "nombre_exposed        422\n",
    "nombre_recovered    16739\n",
    "Name: 492, dtype: int64"
   ]
  },
  {
   "cell_type": "markdown",
   "id": "d1937ce4",
   "metadata": {},
   "source": [
    "nombre_infected       793\n",
    "nombre_sain          2014\n",
    "nombre_exposed        432\n",
    "nombre_recovered    16761\n",
    "Name: 493, dtype: int64"
   ]
  },
  {
   "cell_type": "markdown",
   "id": "81442893",
   "metadata": {},
   "source": [
    "nombre_infected       779\n",
    "nombre_sain          2027\n",
    "nombre_exposed        436\n",
    "nombre_recovered    16758\n",
    "Name: 494, dtype: int64"
   ]
  },
  {
   "cell_type": "markdown",
   "id": "c031d77b",
   "metadata": {},
   "source": [
    "nombre_infected       775\n",
    "nombre_sain          2059\n",
    "nombre_exposed        402\n",
    "nombre_recovered    16764\n",
    "Name: 495, dtype: int64"
   ]
  },
  {
   "cell_type": "markdown",
   "id": "a698beab",
   "metadata": {},
   "source": [
    "nombre_infected       797\n",
    "nombre_sain          2074\n",
    "nombre_exposed        412\n",
    "nombre_recovered    16717\n",
    "Name: 496, dtype: int64"
   ]
  },
  {
   "cell_type": "markdown",
   "id": "0e941677",
   "metadata": {},
   "source": [
    "nombre_infected       774\n",
    "nombre_sain          2085\n",
    "nombre_exposed        399\n",
    "nombre_recovered    16742\n",
    "Name: 497, dtype: int64"
   ]
  },
  {
   "cell_type": "markdown",
   "id": "e002d56f",
   "metadata": {},
   "source": [
    "nombre_infected       780\n",
    "nombre_sain          2086\n",
    "nombre_exposed        403\n",
    "nombre_recovered    16731\n",
    "Name: 498, dtype: int64"
   ]
  },
  {
   "cell_type": "markdown",
   "id": "248df089",
   "metadata": {},
   "source": [
    "nombre_infected       763\n",
    "nombre_sain          2093\n",
    "nombre_exposed        420\n",
    "nombre_recovered    16724\n",
    "Name: 499, dtype: int64"
   ]
  },
  {
   "cell_type": "markdown",
   "id": "b2e7c6a9",
   "metadata": {},
   "source": [
    "nombre_infected       732\n",
    "nombre_sain          2133\n",
    "nombre_exposed        407\n",
    "nombre_recovered    16728\n",
    "Name: 500, dtype: int64"
   ]
  },
  {
   "cell_type": "markdown",
   "id": "3289e3b2",
   "metadata": {},
   "source": [
    "nombre_infected       747\n",
    "nombre_sain          2162\n",
    "nombre_exposed        381\n",
    "nombre_recovered    16710\n",
    "Name: 501, dtype: int64"
   ]
  },
  {
   "cell_type": "markdown",
   "id": "665fd564",
   "metadata": {},
   "source": [
    "nombre_infected       725\n",
    "nombre_sain          2172\n",
    "nombre_exposed        385\n",
    "nombre_recovered    16718\n",
    "Name: 502, dtype: int64"
   ]
  },
  {
   "cell_type": "markdown",
   "id": "4f5c1d5a",
   "metadata": {},
   "source": [
    "nombre_infected       692\n",
    "nombre_sain          2185\n",
    "nombre_exposed        400\n",
    "nombre_recovered    16723\n",
    "Name: 503, dtype: int64"
   ]
  },
  {
   "cell_type": "markdown",
   "id": "a7df7c43",
   "metadata": {},
   "source": [
    "nombre_infected       678\n",
    "nombre_sain          2214\n",
    "nombre_exposed        394\n",
    "nombre_recovered    16714\n",
    "Name: 504, dtype: int64"
   ]
  },
  {
   "cell_type": "markdown",
   "id": "db9428a6",
   "metadata": {},
   "source": [
    "nombre_infected       652\n",
    "nombre_sain          2236\n",
    "nombre_exposed        399\n",
    "nombre_recovered    16713\n",
    "Name: 505, dtype: int64"
   ]
  },
  {
   "cell_type": "markdown",
   "id": "da8257a4",
   "metadata": {},
   "source": [
    "nombre_infected       635\n",
    "nombre_sain          2253\n",
    "nombre_exposed        384\n",
    "nombre_recovered    16728\n",
    "Name: 506, dtype: int64"
   ]
  },
  {
   "cell_type": "markdown",
   "id": "e3b68340",
   "metadata": {},
   "source": [
    "nombre_infected       642\n",
    "nombre_sain          2291\n",
    "nombre_exposed        348\n",
    "nombre_recovered    16719\n",
    "Name: 507, dtype: int64"
   ]
  },
  {
   "cell_type": "markdown",
   "id": "19de861e",
   "metadata": {},
   "source": [
    "nombre_infected       648\n",
    "nombre_sain          2333\n",
    "nombre_exposed        342\n",
    "nombre_recovered    16677\n",
    "Name: 508, dtype: int64"
   ]
  },
  {
   "cell_type": "markdown",
   "id": "31cdc52b",
   "metadata": {},
   "source": [
    "nombre_infected       623\n",
    "nombre_sain          2344\n",
    "nombre_exposed        360\n",
    "nombre_recovered    16673\n",
    "Name: 509, dtype: int64"
   ]
  },
  {
   "cell_type": "markdown",
   "id": "0a369f3c",
   "metadata": {},
   "source": [
    "nombre_infected       632\n",
    "nombre_sain          2346\n",
    "nombre_exposed        372\n",
    "nombre_recovered    16650\n",
    "Name: 510, dtype: int64"
   ]
  },
  {
   "cell_type": "markdown",
   "id": "b9b731a5",
   "metadata": {},
   "source": [
    "nombre_infected       621\n",
    "nombre_sain          2360\n",
    "nombre_exposed        373\n",
    "nombre_recovered    16646\n",
    "Name: 511, dtype: int64"
   ]
  },
  {
   "cell_type": "markdown",
   "id": "248bcf15",
   "metadata": {},
   "source": [
    "nombre_infected       606\n",
    "nombre_sain          2385\n",
    "nombre_exposed        391\n",
    "nombre_recovered    16618\n",
    "Name: 512, dtype: int64"
   ]
  },
  {
   "cell_type": "markdown",
   "id": "d7c99806",
   "metadata": {},
   "source": [
    "nombre_infected       627\n",
    "nombre_sain          2411\n",
    "nombre_exposed        379\n",
    "nombre_recovered    16583\n",
    "Name: 513, dtype: int64"
   ]
  },
  {
   "cell_type": "markdown",
   "id": "3d1d7e25",
   "metadata": {},
   "source": [
    "nombre_infected       623\n",
    "nombre_sain          2423\n",
    "nombre_exposed        386\n",
    "nombre_recovered    16568\n",
    "Name: 514, dtype: int64"
   ]
  },
  {
   "cell_type": "markdown",
   "id": "6159c74a",
   "metadata": {},
   "source": [
    "nombre_infected       618\n",
    "nombre_sain          2448\n",
    "nombre_exposed        386\n",
    "nombre_recovered    16548\n",
    "Name: 515, dtype: int64"
   ]
  },
  {
   "cell_type": "markdown",
   "id": "a57c01f7",
   "metadata": {},
   "source": [
    "nombre_infected       621\n",
    "nombre_sain          2480\n",
    "nombre_exposed        404\n",
    "nombre_recovered    16495\n",
    "Name: 516, dtype: int64"
   ]
  },
  {
   "cell_type": "markdown",
   "id": "cd1c43a0",
   "metadata": {},
   "source": [
    "nombre_infected       624\n",
    "nombre_sain          2492\n",
    "nombre_exposed        412\n",
    "nombre_recovered    16472\n",
    "Name: 517, dtype: int64"
   ]
  },
  {
   "cell_type": "markdown",
   "id": "1f8a61a9",
   "metadata": {},
   "source": [
    "nombre_infected       630\n",
    "nombre_sain          2539\n",
    "nombre_exposed        407\n",
    "nombre_recovered    16424\n",
    "Name: 518, dtype: int64"
   ]
  },
  {
   "cell_type": "markdown",
   "id": "07e58427",
   "metadata": {},
   "source": [
    "nombre_infected       643\n",
    "nombre_sain          2561\n",
    "nombre_exposed        409\n",
    "nombre_recovered    16387\n",
    "Name: 519, dtype: int64"
   ]
  },
  {
   "cell_type": "markdown",
   "id": "da1ee3c6",
   "metadata": {},
   "source": [
    "nombre_infected       641\n",
    "nombre_sain          2591\n",
    "nombre_exposed        415\n",
    "nombre_recovered    16353\n",
    "Name: 520, dtype: int64"
   ]
  },
  {
   "cell_type": "markdown",
   "id": "1cd8ee20",
   "metadata": {},
   "source": [
    "nombre_infected       666\n",
    "nombre_sain          2589\n",
    "nombre_exposed        433\n",
    "nombre_recovered    16312\n",
    "Name: 521, dtype: int64"
   ]
  },
  {
   "cell_type": "markdown",
   "id": "f486a77b",
   "metadata": {},
   "source": [
    "nombre_infected       676\n",
    "nombre_sain          2580\n",
    "nombre_exposed        466\n",
    "nombre_recovered    16278\n",
    "Name: 522, dtype: int64"
   ]
  },
  {
   "cell_type": "markdown",
   "id": "c60da534",
   "metadata": {},
   "source": [
    "nombre_infected       719\n",
    "nombre_sain          2581\n",
    "nombre_exposed        467\n",
    "nombre_recovered    16233\n",
    "Name: 523, dtype: int64"
   ]
  },
  {
   "cell_type": "markdown",
   "id": "90c7814d",
   "metadata": {},
   "source": [
    "nombre_infected       705\n",
    "nombre_sain          2564\n",
    "nombre_exposed        487\n",
    "nombre_recovered    16244\n",
    "Name: 524, dtype: int64"
   ]
  },
  {
   "cell_type": "markdown",
   "id": "3687829e",
   "metadata": {},
   "source": [
    "nombre_infected       715\n",
    "nombre_sain          2582\n",
    "nombre_exposed        495\n",
    "nombre_recovered    16208\n",
    "Name: 525, dtype: int64"
   ]
  },
  {
   "cell_type": "markdown",
   "id": "194ecd2a",
   "metadata": {},
   "source": [
    "nombre_infected       751\n",
    "nombre_sain          2612\n",
    "nombre_exposed        479\n",
    "nombre_recovered    16158\n",
    "Name: 526, dtype: int64"
   ]
  },
  {
   "cell_type": "markdown",
   "id": "d3f2304e",
   "metadata": {},
   "source": [
    "nombre_infected       769\n",
    "nombre_sain          2618\n",
    "nombre_exposed        471\n",
    "nombre_recovered    16142\n",
    "Name: 527, dtype: int64"
   ]
  },
  {
   "cell_type": "markdown",
   "id": "5e4ab38e",
   "metadata": {},
   "source": [
    "nombre_infected       775\n",
    "nombre_sain          2602\n",
    "nombre_exposed        489\n",
    "nombre_recovered    16134\n",
    "Name: 528, dtype: int64"
   ]
  },
  {
   "cell_type": "markdown",
   "id": "ab7220db",
   "metadata": {},
   "source": [
    "nombre_infected       766\n",
    "nombre_sain          2590\n",
    "nombre_exposed        497\n",
    "nombre_recovered    16147\n",
    "Name: 529, dtype: int64"
   ]
  },
  {
   "cell_type": "markdown",
   "id": "eb857fb6",
   "metadata": {},
   "source": [
    "nombre_infected       794\n",
    "nombre_sain          2565\n",
    "nombre_exposed        511\n",
    "nombre_recovered    16130\n",
    "Name: 530, dtype: int64"
   ]
  },
  {
   "cell_type": "markdown",
   "id": "d42c1515",
   "metadata": {},
   "source": [
    "nombre_infected       792\n",
    "nombre_sain          2576\n",
    "nombre_exposed        529\n",
    "nombre_recovered    16103\n",
    "Name: 531, dtype: int64"
   ]
  },
  {
   "cell_type": "markdown",
   "id": "b86a7cf2",
   "metadata": {},
   "source": [
    "nombre_infected       784\n",
    "nombre_sain          2556\n",
    "nombre_exposed        539\n",
    "nombre_recovered    16121\n",
    "Name: 532, dtype: int64"
   ]
  },
  {
   "cell_type": "markdown",
   "id": "95b1a6f3",
   "metadata": {},
   "source": [
    "nombre_infected       805\n",
    "nombre_sain          2541\n",
    "nombre_exposed        526\n",
    "nombre_recovered    16128\n",
    "Name: 533, dtype: int64"
   ]
  },
  {
   "cell_type": "markdown",
   "id": "cc09b60c",
   "metadata": {},
   "source": [
    "nombre_infected       800\n",
    "nombre_sain          2535\n",
    "nombre_exposed        523\n",
    "nombre_recovered    16142\n",
    "Name: 534, dtype: int64"
   ]
  },
  {
   "cell_type": "markdown",
   "id": "3d3e082a",
   "metadata": {},
   "source": [
    "nombre_infected       839\n",
    "nombre_sain          2525\n",
    "nombre_exposed        511\n",
    "nombre_recovered    16125\n",
    "Name: 535, dtype: int64"
   ]
  },
  {
   "cell_type": "markdown",
   "id": "0463771c",
   "metadata": {},
   "source": [
    "nombre_infected       871\n",
    "nombre_sain          2512\n",
    "nombre_exposed        514\n",
    "nombre_recovered    16103\n",
    "Name: 536, dtype: int64"
   ]
  },
  {
   "cell_type": "markdown",
   "id": "276416a9",
   "metadata": {},
   "source": [
    "nombre_infected       890\n",
    "nombre_sain          2497\n",
    "nombre_exposed        517\n",
    "nombre_recovered    16096\n",
    "Name: 537, dtype: int64"
   ]
  },
  {
   "cell_type": "markdown",
   "id": "63f95bc3",
   "metadata": {},
   "source": [
    "nombre_infected       897\n",
    "nombre_sain          2460\n",
    "nombre_exposed        538\n",
    "nombre_recovered    16105\n",
    "Name: 538, dtype: int64"
   ]
  },
  {
   "cell_type": "markdown",
   "id": "36b2e006",
   "metadata": {},
   "source": [
    "nombre_infected       898\n",
    "nombre_sain          2429\n",
    "nombre_exposed        539\n",
    "nombre_recovered    16134\n",
    "Name: 539, dtype: int64"
   ]
  },
  {
   "cell_type": "markdown",
   "id": "11ae0ebf",
   "metadata": {},
   "source": [
    "nombre_infected       868\n",
    "nombre_sain          2410\n",
    "nombre_exposed        571\n",
    "nombre_recovered    16151\n",
    "Name: 540, dtype: int64"
   ]
  },
  {
   "cell_type": "markdown",
   "id": "f0dea793",
   "metadata": {},
   "source": [
    "nombre_infected       888\n",
    "nombre_sain          2386\n",
    "nombre_exposed        569\n",
    "nombre_recovered    16157\n",
    "Name: 541, dtype: int64"
   ]
  },
  {
   "cell_type": "markdown",
   "id": "069cfa39",
   "metadata": {},
   "source": [
    "nombre_infected       888\n",
    "nombre_sain          2368\n",
    "nombre_exposed        586\n",
    "nombre_recovered    16158\n",
    "Name: 542, dtype: int64"
   ]
  },
  {
   "cell_type": "markdown",
   "id": "a2f719f3",
   "metadata": {},
   "source": [
    "nombre_infected       914\n",
    "nombre_sain          2363\n",
    "nombre_exposed        577\n",
    "nombre_recovered    16146\n",
    "Name: 543, dtype: int64"
   ]
  },
  {
   "cell_type": "markdown",
   "id": "17e04ac7",
   "metadata": {},
   "source": [
    "nombre_infected       944\n",
    "nombre_sain          2339\n",
    "nombre_exposed        571\n",
    "nombre_recovered    16146\n",
    "Name: 544, dtype: int64"
   ]
  },
  {
   "cell_type": "markdown",
   "id": "00152ce2",
   "metadata": {},
   "source": [
    "nombre_infected       963\n",
    "nombre_sain          2320\n",
    "nombre_exposed        549\n",
    "nombre_recovered    16168\n",
    "Name: 545, dtype: int64"
   ]
  },
  {
   "cell_type": "markdown",
   "id": "6878036b",
   "metadata": {},
   "source": [
    "nombre_infected       979\n",
    "nombre_sain          2299\n",
    "nombre_exposed        552\n",
    "nombre_recovered    16170\n",
    "Name: 546, dtype: int64"
   ]
  },
  {
   "cell_type": "markdown",
   "id": "8da25e9f",
   "metadata": {},
   "source": [
    "nombre_infected       981\n",
    "nombre_sain          2271\n",
    "nombre_exposed        563\n",
    "nombre_recovered    16185\n",
    "Name: 547, dtype: int64"
   ]
  },
  {
   "cell_type": "markdown",
   "id": "e5e80a9b",
   "metadata": {},
   "source": [
    "nombre_infected       957\n",
    "nombre_sain          2250\n",
    "nombre_exposed        562\n",
    "nombre_recovered    16231\n",
    "Name: 548, dtype: int64"
   ]
  },
  {
   "cell_type": "markdown",
   "id": "a166e092",
   "metadata": {},
   "source": [
    "nombre_infected       953\n",
    "nombre_sain          2256\n",
    "nombre_exposed        542\n",
    "nombre_recovered    16249\n",
    "Name: 549, dtype: int64"
   ]
  },
  {
   "cell_type": "markdown",
   "id": "8ec69ce2",
   "metadata": {},
   "source": [
    "nombre_infected       986\n",
    "nombre_sain          2219\n",
    "nombre_exposed        541\n",
    "nombre_recovered    16254\n",
    "Name: 550, dtype: int64"
   ]
  },
  {
   "cell_type": "markdown",
   "id": "a46c5986",
   "metadata": {},
   "source": [
    "nombre_infected       978\n",
    "nombre_sain          2191\n",
    "nombre_exposed        557\n",
    "nombre_recovered    16274\n",
    "Name: 551, dtype: int64"
   ]
  },
  {
   "cell_type": "markdown",
   "id": "45d13e16",
   "metadata": {},
   "source": [
    "nombre_infected       976\n",
    "nombre_sain          2160\n",
    "nombre_exposed        565\n",
    "nombre_recovered    16299\n",
    "Name: 552, dtype: int64"
   ]
  },
  {
   "cell_type": "markdown",
   "id": "42912dac",
   "metadata": {},
   "source": [
    "nombre_infected       988\n",
    "nombre_sain          2146\n",
    "nombre_exposed        543\n",
    "nombre_recovered    16323\n",
    "Name: 553, dtype: int64"
   ]
  },
  {
   "cell_type": "markdown",
   "id": "b9bd5dee",
   "metadata": {},
   "source": [
    "nombre_infected       996\n",
    "nombre_sain          2146\n",
    "nombre_exposed        533\n",
    "nombre_recovered    16325\n",
    "Name: 554, dtype: int64"
   ]
  },
  {
   "cell_type": "markdown",
   "id": "94b1c46d",
   "metadata": {},
   "source": [
    "nombre_infected      1009\n",
    "nombre_sain          2170\n",
    "nombre_exposed        502\n",
    "nombre_recovered    16319\n",
    "Name: 555, dtype: int64"
   ]
  },
  {
   "cell_type": "markdown",
   "id": "ba2e96e1",
   "metadata": {},
   "source": [
    "nombre_infected      1013\n",
    "nombre_sain          2148\n",
    "nombre_exposed        517\n",
    "nombre_recovered    16322\n",
    "Name: 556, dtype: int64"
   ]
  },
  {
   "cell_type": "markdown",
   "id": "f5422976",
   "metadata": {},
   "source": [
    "nombre_infected      1012\n",
    "nombre_sain          2119\n",
    "nombre_exposed        537\n",
    "nombre_recovered    16332\n",
    "Name: 557, dtype: int64"
   ]
  },
  {
   "cell_type": "markdown",
   "id": "0f21fb37",
   "metadata": {},
   "source": [
    "nombre_infected       998\n",
    "nombre_sain          2096\n",
    "nombre_exposed        540\n",
    "nombre_recovered    16366\n",
    "Name: 558, dtype: int64"
   ]
  },
  {
   "cell_type": "markdown",
   "id": "f4961aa0",
   "metadata": {},
   "source": [
    "nombre_infected       990\n",
    "nombre_sain          2084\n",
    "nombre_exposed        544\n",
    "nombre_recovered    16382\n",
    "Name: 559, dtype: int64"
   ]
  },
  {
   "cell_type": "markdown",
   "id": "2faaff27",
   "metadata": {},
   "source": [
    "nombre_infected      1007\n",
    "nombre_sain          2091\n",
    "nombre_exposed        510\n",
    "nombre_recovered    16392\n",
    "Name: 560, dtype: int64"
   ]
  },
  {
   "cell_type": "markdown",
   "id": "a3005f65",
   "metadata": {},
   "source": [
    "nombre_infected       990\n",
    "nombre_sain          2086\n",
    "nombre_exposed        536\n",
    "nombre_recovered    16388\n",
    "Name: 561, dtype: int64"
   ]
  },
  {
   "cell_type": "markdown",
   "id": "278ac5c3",
   "metadata": {},
   "source": [
    "nombre_infected       982\n",
    "nombre_sain          2104\n",
    "nombre_exposed        518\n",
    "nombre_recovered    16396\n",
    "Name: 562, dtype: int64"
   ]
  },
  {
   "cell_type": "markdown",
   "id": "e580a085",
   "metadata": {},
   "source": [
    "nombre_infected       987\n",
    "nombre_sain          2081\n",
    "nombre_exposed        520\n",
    "nombre_recovered    16412\n",
    "Name: 563, dtype: int64"
   ]
  },
  {
   "cell_type": "markdown",
   "id": "c66b4b85",
   "metadata": {},
   "source": [
    "nombre_infected       985\n",
    "nombre_sain          2072\n",
    "nombre_exposed        521\n",
    "nombre_recovered    16422\n",
    "Name: 564, dtype: int64"
   ]
  },
  {
   "cell_type": "markdown",
   "id": "29c681a0",
   "metadata": {},
   "source": [
    "nombre_infected       980\n",
    "nombre_sain          2059\n",
    "nombre_exposed        526\n",
    "nombre_recovered    16435\n",
    "Name: 565, dtype: int64"
   ]
  },
  {
   "cell_type": "markdown",
   "id": "dab44b1a",
   "metadata": {},
   "source": [
    "nombre_infected       970\n",
    "nombre_sain          2056\n",
    "nombre_exposed        527\n",
    "nombre_recovered    16447\n",
    "Name: 566, dtype: int64"
   ]
  },
  {
   "cell_type": "markdown",
   "id": "78709e18",
   "metadata": {},
   "source": [
    "nombre_infected       976\n",
    "nombre_sain          2048\n",
    "nombre_exposed        511\n",
    "nombre_recovered    16465\n",
    "Name: 567, dtype: int64"
   ]
  },
  {
   "cell_type": "markdown",
   "id": "c26ad2e0",
   "metadata": {},
   "source": [
    "nombre_infected       973\n",
    "nombre_sain          2008\n",
    "nombre_exposed        524\n",
    "nombre_recovered    16495\n",
    "Name: 568, dtype: int64"
   ]
  },
  {
   "cell_type": "markdown",
   "id": "8ce05402",
   "metadata": {},
   "source": [
    "nombre_infected       953\n",
    "nombre_sain          1998\n",
    "nombre_exposed        527\n",
    "nombre_recovered    16522\n",
    "Name: 569, dtype: int64"
   ]
  },
  {
   "cell_type": "markdown",
   "id": "8e5f4d03",
   "metadata": {},
   "source": [
    "nombre_infected       933\n",
    "nombre_sain          1993\n",
    "nombre_exposed        529\n",
    "nombre_recovered    16545\n",
    "Name: 570, dtype: int64"
   ]
  },
  {
   "cell_type": "markdown",
   "id": "cf11b770",
   "metadata": {},
   "source": [
    "nombre_infected       910\n",
    "nombre_sain          1997\n",
    "nombre_exposed        541\n",
    "nombre_recovered    16552\n",
    "Name: 571, dtype: int64"
   ]
  },
  {
   "cell_type": "markdown",
   "id": "15351163",
   "metadata": {},
   "source": [
    "nombre_infected       895\n",
    "nombre_sain          1997\n",
    "nombre_exposed        534\n",
    "nombre_recovered    16574\n",
    "Name: 572, dtype: int64"
   ]
  },
  {
   "cell_type": "markdown",
   "id": "3bbfdc78",
   "metadata": {},
   "source": [
    "nombre_infected       881\n",
    "nombre_sain          1992\n",
    "nombre_exposed        528\n",
    "nombre_recovered    16599\n",
    "Name: 573, dtype: int64"
   ]
  },
  {
   "cell_type": "markdown",
   "id": "964e2159",
   "metadata": {},
   "source": [
    "nombre_infected       888\n",
    "nombre_sain          1984\n",
    "nombre_exposed        520\n",
    "nombre_recovered    16608\n",
    "Name: 574, dtype: int64"
   ]
  },
  {
   "cell_type": "markdown",
   "id": "538e8054",
   "metadata": {},
   "source": [
    "nombre_infected       889\n",
    "nombre_sain          1979\n",
    "nombre_exposed        488\n",
    "nombre_recovered    16644\n",
    "Name: 575, dtype: int64"
   ]
  },
  {
   "cell_type": "markdown",
   "id": "59c5fdd5",
   "metadata": {},
   "source": [
    "nombre_infected       891\n",
    "nombre_sain          1958\n",
    "nombre_exposed        475\n",
    "nombre_recovered    16676\n",
    "Name: 576, dtype: int64"
   ]
  },
  {
   "cell_type": "markdown",
   "id": "4f2acdf3",
   "metadata": {},
   "source": [
    "nombre_infected       873\n",
    "nombre_sain          1951\n",
    "nombre_exposed        486\n",
    "nombre_recovered    16690\n",
    "Name: 577, dtype: int64"
   ]
  },
  {
   "cell_type": "markdown",
   "id": "4e0ec152",
   "metadata": {},
   "source": [
    "nombre_infected       874\n",
    "nombre_sain          1949\n",
    "nombre_exposed        467\n",
    "nombre_recovered    16710\n",
    "Name: 578, dtype: int64"
   ]
  },
  {
   "cell_type": "markdown",
   "id": "6547a478",
   "metadata": {},
   "source": [
    "nombre_infected       862\n",
    "nombre_sain          1948\n",
    "nombre_exposed        467\n",
    "nombre_recovered    16723\n",
    "Name: 579, dtype: int64"
   ]
  },
  {
   "cell_type": "markdown",
   "id": "f90c0ab0",
   "metadata": {},
   "source": [
    "nombre_infected       857\n",
    "nombre_sain          1958\n",
    "nombre_exposed        476\n",
    "nombre_recovered    16709\n",
    "Name: 580, dtype: int64"
   ]
  },
  {
   "cell_type": "markdown",
   "id": "4832e133",
   "metadata": {},
   "source": [
    "nombre_infected       816\n",
    "nombre_sain          1967\n",
    "nombre_exposed        458\n",
    "nombre_recovered    16759\n",
    "Name: 581, dtype: int64"
   ]
  },
  {
   "cell_type": "markdown",
   "id": "fc3264a3",
   "metadata": {},
   "source": [
    "nombre_infected       782\n",
    "nombre_sain          1991\n",
    "nombre_exposed        442\n",
    "nombre_recovered    16785\n",
    "Name: 582, dtype: int64"
   ]
  },
  {
   "cell_type": "markdown",
   "id": "75f0ef73",
   "metadata": {},
   "source": [
    "nombre_infected       797\n",
    "nombre_sain          2016\n",
    "nombre_exposed        422\n",
    "nombre_recovered    16765\n",
    "Name: 583, dtype: int64"
   ]
  },
  {
   "cell_type": "markdown",
   "id": "16956023",
   "metadata": {},
   "source": [
    "nombre_infected       786\n",
    "nombre_sain          2033\n",
    "nombre_exposed        423\n",
    "nombre_recovered    16758\n",
    "Name: 584, dtype: int64"
   ]
  },
  {
   "cell_type": "markdown",
   "id": "a34fbae8",
   "metadata": {},
   "source": [
    "nombre_infected       765\n",
    "nombre_sain          2069\n",
    "nombre_exposed        426\n",
    "nombre_recovered    16740\n",
    "Name: 585, dtype: int64"
   ]
  },
  {
   "cell_type": "markdown",
   "id": "aec17ca6",
   "metadata": {},
   "source": [
    "nombre_infected       748\n",
    "nombre_sain          2108\n",
    "nombre_exposed        408\n",
    "nombre_recovered    16736\n",
    "Name: 586, dtype: int64"
   ]
  },
  {
   "cell_type": "markdown",
   "id": "8be27b68",
   "metadata": {},
   "source": [
    "nombre_infected       734\n",
    "nombre_sain          2091\n",
    "nombre_exposed        445\n",
    "nombre_recovered    16730\n",
    "Name: 587, dtype: int64"
   ]
  },
  {
   "cell_type": "markdown",
   "id": "3ac303aa",
   "metadata": {},
   "source": [
    "nombre_infected       725\n",
    "nombre_sain          2115\n",
    "nombre_exposed        447\n",
    "nombre_recovered    16713\n",
    "Name: 588, dtype: int64"
   ]
  },
  {
   "cell_type": "markdown",
   "id": "9303a315",
   "metadata": {},
   "source": [
    "nombre_infected       735\n",
    "nombre_sain          2118\n",
    "nombre_exposed        441\n",
    "nombre_recovered    16706\n",
    "Name: 589, dtype: int64"
   ]
  },
  {
   "cell_type": "markdown",
   "id": "f25186cd",
   "metadata": {},
   "source": [
    "nombre_infected       727\n",
    "nombre_sain          2145\n",
    "nombre_exposed        451\n",
    "nombre_recovered    16677\n",
    "Name: 590, dtype: int64"
   ]
  },
  {
   "cell_type": "markdown",
   "id": "a1ccde1a",
   "metadata": {},
   "source": [
    "nombre_infected       734\n",
    "nombre_sain          2147\n",
    "nombre_exposed        479\n",
    "nombre_recovered    16640\n",
    "Name: 591, dtype: int64"
   ]
  },
  {
   "cell_type": "markdown",
   "id": "5d4be554",
   "metadata": {},
   "source": [
    "nombre_infected       756\n",
    "nombre_sain          2185\n",
    "nombre_exposed        466\n",
    "nombre_recovered    16593\n",
    "Name: 592, dtype: int64"
   ]
  },
  {
   "cell_type": "markdown",
   "id": "c4ae374e",
   "metadata": {},
   "source": [
    "nombre_infected       776\n",
    "nombre_sain          2186\n",
    "nombre_exposed        463\n",
    "nombre_recovered    16575\n",
    "Name: 593, dtype: int64"
   ]
  },
  {
   "cell_type": "markdown",
   "id": "0ce872b2",
   "metadata": {},
   "source": [
    "nombre_infected       796\n",
    "nombre_sain          2213\n",
    "nombre_exposed        471\n",
    "nombre_recovered    16520\n",
    "Name: 594, dtype: int64"
   ]
  },
  {
   "cell_type": "markdown",
   "id": "6d6d9c2c",
   "metadata": {},
   "source": [
    "nombre_infected       771\n",
    "nombre_sain          2232\n",
    "nombre_exposed        481\n",
    "nombre_recovered    16516\n",
    "Name: 595, dtype: int64"
   ]
  },
  {
   "cell_type": "markdown",
   "id": "608bb301",
   "metadata": {},
   "source": [
    "nombre_infected       778\n",
    "nombre_sain          2208\n",
    "nombre_exposed        502\n",
    "nombre_recovered    16512\n",
    "Name: 596, dtype: int64"
   ]
  },
  {
   "cell_type": "markdown",
   "id": "a10e1283",
   "metadata": {},
   "source": [
    "nombre_infected       772\n",
    "nombre_sain          2209\n",
    "nombre_exposed        515\n",
    "nombre_recovered    16504\n",
    "Name: 597, dtype: int64"
   ]
  },
  {
   "cell_type": "markdown",
   "id": "0221ca09",
   "metadata": {},
   "source": [
    "nombre_infected       786\n",
    "nombre_sain          2217\n",
    "nombre_exposed        520\n",
    "nombre_recovered    16477\n",
    "Name: 598, dtype: int64"
   ]
  },
  {
   "cell_type": "markdown",
   "id": "da4a09ec",
   "metadata": {},
   "source": [
    "nombre_infected       792\n",
    "nombre_sain          2220\n",
    "nombre_exposed        525\n",
    "nombre_recovered    16463\n",
    "Name: 599, dtype: int64"
   ]
  },
  {
   "cell_type": "markdown",
   "id": "7f052a2d",
   "metadata": {},
   "source": [
    "nombre_infected       783\n",
    "nombre_sain          2217\n",
    "nombre_exposed        518\n",
    "nombre_recovered    16482\n",
    "Name: 600, dtype: int64"
   ]
  },
  {
   "cell_type": "markdown",
   "id": "70ca54e9",
   "metadata": {},
   "source": [
    "nombre_infected       784\n",
    "nombre_sain          2220\n",
    "nombre_exposed        511\n",
    "nombre_recovered    16485\n",
    "Name: 601, dtype: int64"
   ]
  },
  {
   "cell_type": "markdown",
   "id": "b3186e8a",
   "metadata": {},
   "source": [
    "nombre_infected       802\n",
    "nombre_sain          2223\n",
    "nombre_exposed        495\n",
    "nombre_recovered    16480\n",
    "Name: 602, dtype: int64"
   ]
  },
  {
   "cell_type": "markdown",
   "id": "9f447a8b",
   "metadata": {},
   "source": [
    "nombre_infected       798\n",
    "nombre_sain          2217\n",
    "nombre_exposed        508\n",
    "nombre_recovered    16477\n",
    "Name: 603, dtype: int64"
   ]
  },
  {
   "cell_type": "markdown",
   "id": "617c3e65",
   "metadata": {},
   "source": [
    "nombre_infected       799\n",
    "nombre_sain          2207\n",
    "nombre_exposed        522\n",
    "nombre_recovered    16472\n",
    "Name: 604, dtype: int64"
   ]
  },
  {
   "cell_type": "markdown",
   "id": "9820c29d",
   "metadata": {},
   "source": [
    "nombre_infected       777\n",
    "nombre_sain          2211\n",
    "nombre_exposed        538\n",
    "nombre_recovered    16474\n",
    "Name: 605, dtype: int64"
   ]
  },
  {
   "cell_type": "markdown",
   "id": "e4311710",
   "metadata": {},
   "source": [
    "nombre_infected       790\n",
    "nombre_sain          2208\n",
    "nombre_exposed        528\n",
    "nombre_recovered    16474\n",
    "Name: 606, dtype: int64"
   ]
  },
  {
   "cell_type": "markdown",
   "id": "3049eca8",
   "metadata": {},
   "source": [
    "nombre_infected       805\n",
    "nombre_sain          2188\n",
    "nombre_exposed        533\n",
    "nombre_recovered    16474\n",
    "Name: 607, dtype: int64"
   ]
  },
  {
   "cell_type": "markdown",
   "id": "e80fba90",
   "metadata": {},
   "source": [
    "nombre_infected       812\n",
    "nombre_sain          2188\n",
    "nombre_exposed        526\n",
    "nombre_recovered    16474\n",
    "Name: 608, dtype: int64"
   ]
  },
  {
   "cell_type": "markdown",
   "id": "708b101f",
   "metadata": {},
   "source": [
    "nombre_infected       806\n",
    "nombre_sain          2168\n",
    "nombre_exposed        537\n",
    "nombre_recovered    16489\n",
    "Name: 609, dtype: int64"
   ]
  },
  {
   "cell_type": "markdown",
   "id": "a73e61af",
   "metadata": {},
   "source": [
    "nombre_infected       841\n",
    "nombre_sain          2191\n",
    "nombre_exposed        514\n",
    "nombre_recovered    16454\n",
    "Name: 610, dtype: int64"
   ]
  },
  {
   "cell_type": "markdown",
   "id": "638e5fb3",
   "metadata": {},
   "source": [
    "nombre_infected       829\n",
    "nombre_sain          2163\n",
    "nombre_exposed        542\n",
    "nombre_recovered    16466\n",
    "Name: 611, dtype: int64"
   ]
  },
  {
   "cell_type": "markdown",
   "id": "3248a965",
   "metadata": {},
   "source": [
    "nombre_infected       822\n",
    "nombre_sain          2143\n",
    "nombre_exposed        552\n",
    "nombre_recovered    16483\n",
    "Name: 612, dtype: int64"
   ]
  },
  {
   "cell_type": "markdown",
   "id": "a379a739",
   "metadata": {},
   "source": [
    "nombre_infected       840\n",
    "nombre_sain          2136\n",
    "nombre_exposed        548\n",
    "nombre_recovered    16476\n",
    "Name: 613, dtype: int64"
   ]
  },
  {
   "cell_type": "markdown",
   "id": "9a41186f",
   "metadata": {},
   "source": [
    "nombre_infected       855\n",
    "nombre_sain          2098\n",
    "nombre_exposed        560\n",
    "nombre_recovered    16487\n",
    "Name: 614, dtype: int64"
   ]
  },
  {
   "cell_type": "markdown",
   "id": "20fed317",
   "metadata": {},
   "source": [
    "nombre_infected       852\n",
    "nombre_sain          2084\n",
    "nombre_exposed        559\n",
    "nombre_recovered    16505\n",
    "Name: 615, dtype: int64"
   ]
  },
  {
   "cell_type": "markdown",
   "id": "557ebc33",
   "metadata": {},
   "source": [
    "nombre_infected       864\n",
    "nombre_sain          2089\n",
    "nombre_exposed        535\n",
    "nombre_recovered    16512\n",
    "Name: 616, dtype: int64"
   ]
  },
  {
   "cell_type": "markdown",
   "id": "139e5d0c",
   "metadata": {},
   "source": [
    "nombre_infected       863\n",
    "nombre_sain          2082\n",
    "nombre_exposed        528\n",
    "nombre_recovered    16527\n",
    "Name: 617, dtype: int64"
   ]
  },
  {
   "cell_type": "markdown",
   "id": "f3e5452e",
   "metadata": {},
   "source": [
    "nombre_infected       871\n",
    "nombre_sain          2050\n",
    "nombre_exposed        527\n",
    "nombre_recovered    16552\n",
    "Name: 618, dtype: int64"
   ]
  },
  {
   "cell_type": "markdown",
   "id": "7c91aaea",
   "metadata": {},
   "source": [
    "nombre_infected       882\n",
    "nombre_sain          2032\n",
    "nombre_exposed        522\n",
    "nombre_recovered    16564\n",
    "Name: 619, dtype: int64"
   ]
  },
  {
   "cell_type": "markdown",
   "id": "8908994f",
   "metadata": {},
   "source": [
    "nombre_infected       884\n",
    "nombre_sain          2009\n",
    "nombre_exposed        535\n",
    "nombre_recovered    16572\n",
    "Name: 620, dtype: int64"
   ]
  },
  {
   "cell_type": "markdown",
   "id": "fed84fd8",
   "metadata": {},
   "source": [
    "nombre_infected       887\n",
    "nombre_sain          2001\n",
    "nombre_exposed        533\n",
    "nombre_recovered    16579\n",
    "Name: 621, dtype: int64"
   ]
  },
  {
   "cell_type": "markdown",
   "id": "50e577db",
   "metadata": {},
   "source": [
    "nombre_infected       898\n",
    "nombre_sain          1987\n",
    "nombre_exposed        532\n",
    "nombre_recovered    16583\n",
    "Name: 622, dtype: int64"
   ]
  },
  {
   "cell_type": "markdown",
   "id": "1380b568",
   "metadata": {},
   "source": [
    "nombre_infected       911\n",
    "nombre_sain          2006\n",
    "nombre_exposed        511\n",
    "nombre_recovered    16572\n",
    "Name: 623, dtype: int64"
   ]
  },
  {
   "cell_type": "markdown",
   "id": "0d86865e",
   "metadata": {},
   "source": [
    "nombre_infected       873\n",
    "nombre_sain          2012\n",
    "nombre_exposed        510\n",
    "nombre_recovered    16605\n",
    "Name: 624, dtype: int64"
   ]
  },
  {
   "cell_type": "markdown",
   "id": "de432013",
   "metadata": {},
   "source": [
    "nombre_infected       872\n",
    "nombre_sain          2017\n",
    "nombre_exposed        509\n",
    "nombre_recovered    16602\n",
    "Name: 625, dtype: int64"
   ]
  },
  {
   "cell_type": "markdown",
   "id": "9d25b0ae",
   "metadata": {},
   "source": [
    "nombre_infected       854\n",
    "nombre_sain          2000\n",
    "nombre_exposed        512\n",
    "nombre_recovered    16634\n",
    "Name: 626, dtype: int64"
   ]
  },
  {
   "cell_type": "markdown",
   "id": "06d7c3d5",
   "metadata": {},
   "source": [
    "nombre_infected       859\n",
    "nombre_sain          2006\n",
    "nombre_exposed        493\n",
    "nombre_recovered    16642\n",
    "Name: 627, dtype: int64"
   ]
  },
  {
   "cell_type": "markdown",
   "id": "0ccb15ca",
   "metadata": {},
   "source": [
    "nombre_infected       844\n",
    "nombre_sain          2038\n",
    "nombre_exposed        475\n",
    "nombre_recovered    16643\n",
    "Name: 628, dtype: int64"
   ]
  },
  {
   "cell_type": "markdown",
   "id": "ef3fd0a1",
   "metadata": {},
   "source": [
    "nombre_infected       838\n",
    "nombre_sain          2052\n",
    "nombre_exposed        459\n",
    "nombre_recovered    16651\n",
    "Name: 629, dtype: int64"
   ]
  },
  {
   "cell_type": "markdown",
   "id": "9377b6cd",
   "metadata": {},
   "source": [
    "nombre_infected       826\n",
    "nombre_sain          2068\n",
    "nombre_exposed        451\n",
    "nombre_recovered    16655\n",
    "Name: 630, dtype: int64"
   ]
  },
  {
   "cell_type": "markdown",
   "id": "b0a95a3d",
   "metadata": {},
   "source": [
    "nombre_infected       820\n",
    "nombre_sain          2084\n",
    "nombre_exposed        452\n",
    "nombre_recovered    16644\n",
    "Name: 631, dtype: int64"
   ]
  },
  {
   "cell_type": "markdown",
   "id": "6afeea04",
   "metadata": {},
   "source": [
    "nombre_infected       797\n",
    "nombre_sain          2095\n",
    "nombre_exposed        468\n",
    "nombre_recovered    16640\n",
    "Name: 632, dtype: int64"
   ]
  },
  {
   "cell_type": "markdown",
   "id": "0a5a8bf2",
   "metadata": {},
   "source": [
    "nombre_infected       773\n",
    "nombre_sain          2076\n",
    "nombre_exposed        498\n",
    "nombre_recovered    16653\n",
    "Name: 633, dtype: int64"
   ]
  },
  {
   "cell_type": "markdown",
   "id": "6c2b9f4d",
   "metadata": {},
   "source": [
    "nombre_infected       761\n",
    "nombre_sain          2109\n",
    "nombre_exposed        485\n",
    "nombre_recovered    16645\n",
    "Name: 634, dtype: int64"
   ]
  },
  {
   "cell_type": "markdown",
   "id": "f9f8f2ae",
   "metadata": {},
   "source": [
    "nombre_infected       756\n",
    "nombre_sain          2116\n",
    "nombre_exposed        482\n",
    "nombre_recovered    16646\n",
    "Name: 635, dtype: int64"
   ]
  },
  {
   "cell_type": "markdown",
   "id": "be5a158b",
   "metadata": {},
   "source": [
    "nombre_infected       770\n",
    "nombre_sain          2136\n",
    "nombre_exposed        474\n",
    "nombre_recovered    16620\n",
    "Name: 636, dtype: int64"
   ]
  },
  {
   "cell_type": "markdown",
   "id": "1b7b47cc",
   "metadata": {},
   "source": [
    "nombre_infected       766\n",
    "nombre_sain          2131\n",
    "nombre_exposed        489\n",
    "nombre_recovered    16614\n",
    "Name: 637, dtype: int64"
   ]
  },
  {
   "cell_type": "markdown",
   "id": "199b7631",
   "metadata": {},
   "source": [
    "nombre_infected       749\n",
    "nombre_sain          2139\n",
    "nombre_exposed        511\n",
    "nombre_recovered    16601\n",
    "Name: 638, dtype: int64"
   ]
  },
  {
   "cell_type": "markdown",
   "id": "75514253",
   "metadata": {},
   "source": [
    "nombre_infected       777\n",
    "nombre_sain          2167\n",
    "nombre_exposed        480\n",
    "nombre_recovered    16576\n",
    "Name: 639, dtype: int64"
   ]
  },
  {
   "cell_type": "markdown",
   "id": "01a643ff",
   "metadata": {},
   "source": [
    "nombre_infected       785\n",
    "nombre_sain          2198\n",
    "nombre_exposed        482\n",
    "nombre_recovered    16535\n",
    "Name: 640, dtype: int64"
   ]
  },
  {
   "cell_type": "markdown",
   "id": "fbf97fbb",
   "metadata": {},
   "source": [
    "nombre_infected       787\n",
    "nombre_sain          2219\n",
    "nombre_exposed        484\n",
    "nombre_recovered    16510\n",
    "Name: 641, dtype: int64"
   ]
  },
  {
   "cell_type": "markdown",
   "id": "6fb0f791",
   "metadata": {},
   "source": [
    "nombre_infected       789\n",
    "nombre_sain          2255\n",
    "nombre_exposed        468\n",
    "nombre_recovered    16488\n",
    "Name: 642, dtype: int64"
   ]
  },
  {
   "cell_type": "markdown",
   "id": "bb8009f5",
   "metadata": {},
   "source": [
    "nombre_infected       784\n",
    "nombre_sain          2244\n",
    "nombre_exposed        489\n",
    "nombre_recovered    16483\n",
    "Name: 643, dtype: int64"
   ]
  },
  {
   "cell_type": "markdown",
   "id": "fe85de9a",
   "metadata": {},
   "source": [
    "nombre_infected       764\n",
    "nombre_sain          2245\n",
    "nombre_exposed        516\n",
    "nombre_recovered    16475\n",
    "Name: 644, dtype: int64"
   ]
  },
  {
   "cell_type": "markdown",
   "id": "f5b93bf7",
   "metadata": {},
   "source": [
    "nombre_infected       784\n",
    "nombre_sain          2274\n",
    "nombre_exposed        499\n",
    "nombre_recovered    16443\n",
    "Name: 645, dtype: int64"
   ]
  },
  {
   "cell_type": "markdown",
   "id": "bbe9dbd5",
   "metadata": {},
   "source": [
    "nombre_infected       788\n",
    "nombre_sain          2306\n",
    "nombre_exposed        470\n",
    "nombre_recovered    16436\n",
    "Name: 646, dtype: int64"
   ]
  },
  {
   "cell_type": "markdown",
   "id": "cdd4b75b",
   "metadata": {},
   "source": [
    "nombre_infected       787\n",
    "nombre_sain          2293\n",
    "nombre_exposed        482\n",
    "nombre_recovered    16438\n",
    "Name: 647, dtype: int64"
   ]
  },
  {
   "cell_type": "markdown",
   "id": "fdc57d26",
   "metadata": {},
   "source": [
    "nombre_infected       774\n",
    "nombre_sain          2299\n",
    "nombre_exposed        492\n",
    "nombre_recovered    16435\n",
    "Name: 648, dtype: int64"
   ]
  },
  {
   "cell_type": "markdown",
   "id": "c540c631",
   "metadata": {},
   "source": [
    "nombre_infected       773\n",
    "nombre_sain          2309\n",
    "nombre_exposed        489\n",
    "nombre_recovered    16429\n",
    "Name: 649, dtype: int64"
   ]
  },
  {
   "cell_type": "markdown",
   "id": "4642c6f4",
   "metadata": {},
   "source": [
    "nombre_infected       790\n",
    "nombre_sain          2319\n",
    "nombre_exposed        485\n",
    "nombre_recovered    16406\n",
    "Name: 650, dtype: int64"
   ]
  },
  {
   "cell_type": "markdown",
   "id": "efde7c02",
   "metadata": {},
   "source": [
    "nombre_infected       801\n",
    "nombre_sain          2334\n",
    "nombre_exposed        484\n",
    "nombre_recovered    16381\n",
    "Name: 651, dtype: int64"
   ]
  },
  {
   "cell_type": "markdown",
   "id": "99d3ebda",
   "metadata": {},
   "source": [
    "nombre_infected       785\n",
    "nombre_sain          2324\n",
    "nombre_exposed        480\n",
    "nombre_recovered    16411\n",
    "Name: 652, dtype: int64"
   ]
  },
  {
   "cell_type": "markdown",
   "id": "2b10ee19",
   "metadata": {},
   "source": [
    "nombre_infected       793\n",
    "nombre_sain          2326\n",
    "nombre_exposed        476\n",
    "nombre_recovered    16405\n",
    "Name: 653, dtype: int64"
   ]
  },
  {
   "cell_type": "markdown",
   "id": "966c58bd",
   "metadata": {},
   "source": [
    "nombre_infected       788\n",
    "nombre_sain          2336\n",
    "nombre_exposed        484\n",
    "nombre_recovered    16392\n",
    "Name: 654, dtype: int64"
   ]
  },
  {
   "cell_type": "markdown",
   "id": "21ff7125",
   "metadata": {},
   "source": [
    "nombre_infected       762\n",
    "nombre_sain          2347\n",
    "nombre_exposed        498\n",
    "nombre_recovered    16393\n",
    "Name: 655, dtype: int64"
   ]
  },
  {
   "cell_type": "markdown",
   "id": "679b09dc",
   "metadata": {},
   "source": [
    "nombre_infected       776\n",
    "nombre_sain          2347\n",
    "nombre_exposed        504\n",
    "nombre_recovered    16373\n",
    "Name: 656, dtype: int64"
   ]
  },
  {
   "cell_type": "markdown",
   "id": "02cbd5ee",
   "metadata": {},
   "source": [
    "nombre_infected       788\n",
    "nombre_sain          2364\n",
    "nombre_exposed        509\n",
    "nombre_recovered    16339\n",
    "Name: 657, dtype: int64"
   ]
  },
  {
   "cell_type": "markdown",
   "id": "319674cf",
   "metadata": {},
   "source": [
    "nombre_infected       790\n",
    "nombre_sain          2368\n",
    "nombre_exposed        514\n",
    "nombre_recovered    16328\n",
    "Name: 658, dtype: int64"
   ]
  },
  {
   "cell_type": "markdown",
   "id": "c2933fc1",
   "metadata": {},
   "source": [
    "nombre_infected       795\n",
    "nombre_sain          2396\n",
    "nombre_exposed        494\n",
    "nombre_recovered    16315\n",
    "Name: 659, dtype: int64"
   ]
  },
  {
   "cell_type": "markdown",
   "id": "6c245a78",
   "metadata": {},
   "source": [
    "nombre_infected       820\n",
    "nombre_sain          2410\n",
    "nombre_exposed        493\n",
    "nombre_recovered    16277\n",
    "Name: 660, dtype: int64"
   ]
  },
  {
   "cell_type": "markdown",
   "id": "66fb13c2",
   "metadata": {},
   "source": [
    "nombre_infected       829\n",
    "nombre_sain          2397\n",
    "nombre_exposed        519\n",
    "nombre_recovered    16255\n",
    "Name: 661, dtype: int64"
   ]
  },
  {
   "cell_type": "markdown",
   "id": "bcb00690",
   "metadata": {},
   "source": [
    "nombre_infected       849\n",
    "nombre_sain          2386\n",
    "nombre_exposed        533\n",
    "nombre_recovered    16232\n",
    "Name: 662, dtype: int64"
   ]
  },
  {
   "cell_type": "markdown",
   "id": "c536099f",
   "metadata": {},
   "source": [
    "nombre_infected       859\n",
    "nombre_sain          2380\n",
    "nombre_exposed        538\n",
    "nombre_recovered    16223\n",
    "Name: 663, dtype: int64"
   ]
  },
  {
   "cell_type": "markdown",
   "id": "5f2439fc",
   "metadata": {},
   "source": [
    "nombre_infected       890\n",
    "nombre_sain          2381\n",
    "nombre_exposed        532\n",
    "nombre_recovered    16197\n",
    "Name: 664, dtype: int64"
   ]
  },
  {
   "cell_type": "markdown",
   "id": "c28547d9",
   "metadata": {},
   "source": [
    "nombre_infected       893\n",
    "nombre_sain          2375\n",
    "nombre_exposed        561\n",
    "nombre_recovered    16171\n",
    "Name: 665, dtype: int64"
   ]
  },
  {
   "cell_type": "markdown",
   "id": "bdcb7e84",
   "metadata": {},
   "source": [
    "nombre_infected       881\n",
    "nombre_sain          2369\n",
    "nombre_exposed        569\n",
    "nombre_recovered    16181\n",
    "Name: 666, dtype: int64"
   ]
  },
  {
   "cell_type": "markdown",
   "id": "5216c718",
   "metadata": {},
   "source": [
    "nombre_infected       921\n",
    "nombre_sain          2358\n",
    "nombre_exposed        549\n",
    "nombre_recovered    16172\n",
    "Name: 667, dtype: int64"
   ]
  },
  {
   "cell_type": "markdown",
   "id": "50021aa3",
   "metadata": {},
   "source": [
    "nombre_infected       915\n",
    "nombre_sain          2329\n",
    "nombre_exposed        567\n",
    "nombre_recovered    16189\n",
    "Name: 668, dtype: int64"
   ]
  },
  {
   "cell_type": "markdown",
   "id": "d0a9ce0d",
   "metadata": {},
   "source": [
    "nombre_infected       937\n",
    "nombre_sain          2308\n",
    "nombre_exposed        575\n",
    "nombre_recovered    16180\n",
    "Name: 669, dtype: int64"
   ]
  },
  {
   "cell_type": "markdown",
   "id": "dd21c6d9",
   "metadata": {},
   "source": [
    "nombre_infected       938\n",
    "nombre_sain          2284\n",
    "nombre_exposed        596\n",
    "nombre_recovered    16182\n",
    "Name: 670, dtype: int64"
   ]
  },
  {
   "cell_type": "markdown",
   "id": "f418f47f",
   "metadata": {},
   "source": [
    "nombre_infected       935\n",
    "nombre_sain          2280\n",
    "nombre_exposed        617\n",
    "nombre_recovered    16168\n",
    "Name: 671, dtype: int64"
   ]
  },
  {
   "cell_type": "markdown",
   "id": "221e4843",
   "metadata": {},
   "source": [
    "nombre_infected       945\n",
    "nombre_sain          2250\n",
    "nombre_exposed        610\n",
    "nombre_recovered    16195\n",
    "Name: 672, dtype: int64"
   ]
  },
  {
   "cell_type": "markdown",
   "id": "d4194deb",
   "metadata": {},
   "source": [
    "nombre_infected       959\n",
    "nombre_sain          2240\n",
    "nombre_exposed        581\n",
    "nombre_recovered    16220\n",
    "Name: 673, dtype: int64"
   ]
  },
  {
   "cell_type": "markdown",
   "id": "b9af925f",
   "metadata": {},
   "source": [
    "nombre_infected       976\n",
    "nombre_sain          2233\n",
    "nombre_exposed        577\n",
    "nombre_recovered    16214\n",
    "Name: 674, dtype: int64"
   ]
  },
  {
   "cell_type": "markdown",
   "id": "7778d800",
   "metadata": {},
   "source": [
    "nombre_infected       995\n",
    "nombre_sain          2223\n",
    "nombre_exposed        561\n",
    "nombre_recovered    16221\n",
    "Name: 675, dtype: int64"
   ]
  },
  {
   "cell_type": "markdown",
   "id": "8971aee5",
   "metadata": {},
   "source": [
    "nombre_infected       989\n",
    "nombre_sain          2199\n",
    "nombre_exposed        568\n",
    "nombre_recovered    16244\n",
    "Name: 676, dtype: int64"
   ]
  },
  {
   "cell_type": "markdown",
   "id": "13b9c201",
   "metadata": {},
   "source": [
    "nombre_infected       968\n",
    "nombre_sain          2185\n",
    "nombre_exposed        572\n",
    "nombre_recovered    16275\n",
    "Name: 677, dtype: int64"
   ]
  },
  {
   "cell_type": "markdown",
   "id": "2ec71850",
   "metadata": {},
   "source": [
    "nombre_infected       977\n",
    "nombre_sain          2178\n",
    "nombre_exposed        569\n",
    "nombre_recovered    16276\n",
    "Name: 678, dtype: int64"
   ]
  },
  {
   "cell_type": "markdown",
   "id": "5c4efd8e",
   "metadata": {},
   "source": [
    "nombre_infected       972\n",
    "nombre_sain          2153\n",
    "nombre_exposed        583\n",
    "nombre_recovered    16292\n",
    "Name: 679, dtype: int64"
   ]
  },
  {
   "cell_type": "markdown",
   "id": "39dd44ca",
   "metadata": {},
   "source": [
    "nombre_infected       992\n",
    "nombre_sain          2136\n",
    "nombre_exposed        576\n",
    "nombre_recovered    16296\n",
    "Name: 680, dtype: int64"
   ]
  },
  {
   "cell_type": "markdown",
   "id": "81f3cefa",
   "metadata": {},
   "source": [
    "nombre_infected       997\n",
    "nombre_sain          2122\n",
    "nombre_exposed        573\n",
    "nombre_recovered    16308\n",
    "Name: 681, dtype: int64"
   ]
  },
  {
   "cell_type": "markdown",
   "id": "f69367bd",
   "metadata": {},
   "source": [
    "nombre_infected      1001\n",
    "nombre_sain          2106\n",
    "nombre_exposed        571\n",
    "nombre_recovered    16322\n",
    "Name: 682, dtype: int64"
   ]
  },
  {
   "cell_type": "markdown",
   "id": "7d920926",
   "metadata": {},
   "source": [
    "nombre_infected      1004\n",
    "nombre_sain          2051\n",
    "nombre_exposed        593\n",
    "nombre_recovered    16352\n",
    "Name: 683, dtype: int64"
   ]
  },
  {
   "cell_type": "markdown",
   "id": "78637658",
   "metadata": {},
   "source": [
    "nombre_infected      1012\n",
    "nombre_sain          2051\n",
    "nombre_exposed        589\n",
    "nombre_recovered    16348\n",
    "Name: 684, dtype: int64"
   ]
  },
  {
   "cell_type": "markdown",
   "id": "70484b5f",
   "metadata": {},
   "source": [
    "nombre_infected       999\n",
    "nombre_sain          2035\n",
    "nombre_exposed        596\n",
    "nombre_recovered    16370\n",
    "Name: 685, dtype: int64"
   ]
  },
  {
   "cell_type": "markdown",
   "id": "72b236d1",
   "metadata": {},
   "source": [
    "nombre_infected       994\n",
    "nombre_sain          2030\n",
    "nombre_exposed        593\n",
    "nombre_recovered    16383\n",
    "Name: 686, dtype: int64"
   ]
  },
  {
   "cell_type": "markdown",
   "id": "c50d1389",
   "metadata": {},
   "source": [
    "nombre_infected      1010\n",
    "nombre_sain          2029\n",
    "nombre_exposed        562\n",
    "nombre_recovered    16399\n",
    "Name: 687, dtype: int64"
   ]
  },
  {
   "cell_type": "markdown",
   "id": "b275a193",
   "metadata": {},
   "source": [
    "nombre_infected      1000\n",
    "nombre_sain          2043\n",
    "nombre_exposed        567\n",
    "nombre_recovered    16390\n",
    "Name: 688, dtype: int64"
   ]
  },
  {
   "cell_type": "markdown",
   "id": "07b3a2a1",
   "metadata": {},
   "source": [
    "nombre_infected       984\n",
    "nombre_sain          2059\n",
    "nombre_exposed        552\n",
    "nombre_recovered    16405\n",
    "Name: 689, dtype: int64"
   ]
  },
  {
   "cell_type": "markdown",
   "id": "bbb87e1e",
   "metadata": {},
   "source": [
    "nombre_infected       972\n",
    "nombre_sain          2070\n",
    "nombre_exposed        542\n",
    "nombre_recovered    16416\n",
    "Name: 690, dtype: int64"
   ]
  },
  {
   "cell_type": "markdown",
   "id": "d0dee2b4",
   "metadata": {},
   "source": [
    "nombre_infected       964\n",
    "nombre_sain          2087\n",
    "nombre_exposed        507\n",
    "nombre_recovered    16442\n",
    "Name: 691, dtype: int64"
   ]
  },
  {
   "cell_type": "markdown",
   "id": "e7db5029",
   "metadata": {},
   "source": [
    "nombre_infected       956\n",
    "nombre_sain          2081\n",
    "nombre_exposed        501\n",
    "nombre_recovered    16462\n",
    "Name: 692, dtype: int64"
   ]
  },
  {
   "cell_type": "markdown",
   "id": "dcc7e01f",
   "metadata": {},
   "source": [
    "nombre_infected       935\n",
    "nombre_sain          2071\n",
    "nombre_exposed        528\n",
    "nombre_recovered    16466\n",
    "Name: 693, dtype: int64"
   ]
  },
  {
   "cell_type": "markdown",
   "id": "cc3131eb",
   "metadata": {},
   "source": [
    "nombre_infected       910\n",
    "nombre_sain          2064\n",
    "nombre_exposed        530\n",
    "nombre_recovered    16496\n",
    "Name: 694, dtype: int64"
   ]
  },
  {
   "cell_type": "markdown",
   "id": "2ae4f551",
   "metadata": {},
   "source": [
    "nombre_infected       915\n",
    "nombre_sain          2077\n",
    "nombre_exposed        522\n",
    "nombre_recovered    16486\n",
    "Name: 695, dtype: int64"
   ]
  },
  {
   "cell_type": "markdown",
   "id": "33dea014",
   "metadata": {},
   "source": [
    "nombre_infected       892\n",
    "nombre_sain          2090\n",
    "nombre_exposed        513\n",
    "nombre_recovered    16505\n",
    "Name: 696, dtype: int64"
   ]
  },
  {
   "cell_type": "markdown",
   "id": "bad4200c",
   "metadata": {},
   "source": [
    "nombre_infected       888\n",
    "nombre_sain          2109\n",
    "nombre_exposed        509\n",
    "nombre_recovered    16494\n",
    "Name: 697, dtype: int64"
   ]
  },
  {
   "cell_type": "markdown",
   "id": "eaacdf99",
   "metadata": {},
   "source": [
    "nombre_infected       871\n",
    "nombre_sain          2109\n",
    "nombre_exposed        509\n",
    "nombre_recovered    16511\n",
    "Name: 698, dtype: int64"
   ]
  },
  {
   "cell_type": "markdown",
   "id": "191f4a3c",
   "metadata": {},
   "source": [
    "nombre_infected       855\n",
    "nombre_sain          2087\n",
    "nombre_exposed        513\n",
    "nombre_recovered    16545\n",
    "Name: 699, dtype: int64"
   ]
  },
  {
   "cell_type": "markdown",
   "id": "94bb7120",
   "metadata": {},
   "source": [
    "nombre_infected       842\n",
    "nombre_sain          2094\n",
    "nombre_exposed        513\n",
    "nombre_recovered    16551\n",
    "Name: 700, dtype: int64"
   ]
  },
  {
   "cell_type": "markdown",
   "id": "73c81aca",
   "metadata": {},
   "source": [
    "nombre_infected       825\n",
    "nombre_sain          2117\n",
    "nombre_exposed        500\n",
    "nombre_recovered    16558\n",
    "Name: 701, dtype: int64"
   ]
  },
  {
   "cell_type": "markdown",
   "id": "c68149ee",
   "metadata": {},
   "source": [
    "nombre_infected       834\n",
    "nombre_sain          2090\n",
    "nombre_exposed        493\n",
    "nombre_recovered    16583\n",
    "Name: 702, dtype: int64"
   ]
  },
  {
   "cell_type": "markdown",
   "id": "5b8b9155",
   "metadata": {},
   "source": [
    "nombre_infected       846\n",
    "nombre_sain          2117\n",
    "nombre_exposed        479\n",
    "nombre_recovered    16558\n",
    "Name: 703, dtype: int64"
   ]
  },
  {
   "cell_type": "markdown",
   "id": "81ea8c0b",
   "metadata": {},
   "source": [
    "nombre_infected       813\n",
    "nombre_sain          2140\n",
    "nombre_exposed        489\n",
    "nombre_recovered    16558\n",
    "Name: 704, dtype: int64"
   ]
  },
  {
   "cell_type": "markdown",
   "id": "b1ee78c3",
   "metadata": {},
   "source": [
    "nombre_infected       809\n",
    "nombre_sain          2167\n",
    "nombre_exposed        461\n",
    "nombre_recovered    16563\n",
    "Name: 705, dtype: int64"
   ]
  },
  {
   "cell_type": "markdown",
   "id": "46e8fef2",
   "metadata": {},
   "source": [
    "nombre_infected       811\n",
    "nombre_sain          2196\n",
    "nombre_exposed        436\n",
    "nombre_recovered    16557\n",
    "Name: 706, dtype: int64"
   ]
  },
  {
   "cell_type": "markdown",
   "id": "569978d6",
   "metadata": {},
   "source": [
    "nombre_infected       789\n",
    "nombre_sain          2207\n",
    "nombre_exposed        442\n",
    "nombre_recovered    16562\n",
    "Name: 707, dtype: int64"
   ]
  },
  {
   "cell_type": "markdown",
   "id": "13f12d74",
   "metadata": {},
   "source": [
    "nombre_infected       764\n",
    "nombre_sain          2218\n",
    "nombre_exposed        447\n",
    "nombre_recovered    16571\n",
    "Name: 708, dtype: int64"
   ]
  },
  {
   "cell_type": "markdown",
   "id": "50368fef",
   "metadata": {},
   "source": [
    "nombre_infected       763\n",
    "nombre_sain          2222\n",
    "nombre_exposed        455\n",
    "nombre_recovered    16560\n",
    "Name: 709, dtype: int64"
   ]
  },
  {
   "cell_type": "markdown",
   "id": "4c65a432",
   "metadata": {},
   "source": [
    "nombre_infected       754\n",
    "nombre_sain          2233\n",
    "nombre_exposed        452\n",
    "nombre_recovered    16561\n",
    "Name: 710, dtype: int64"
   ]
  },
  {
   "cell_type": "markdown",
   "id": "72031f04",
   "metadata": {},
   "source": [
    "nombre_infected       749\n",
    "nombre_sain          2226\n",
    "nombre_exposed        461\n",
    "nombre_recovered    16564\n",
    "Name: 711, dtype: int64"
   ]
  },
  {
   "cell_type": "markdown",
   "id": "ad6611ba",
   "metadata": {},
   "source": [
    "nombre_infected       726\n",
    "nombre_sain          2252\n",
    "nombre_exposed        468\n",
    "nombre_recovered    16554\n",
    "Name: 712, dtype: int64"
   ]
  },
  {
   "cell_type": "markdown",
   "id": "2c1a7e77",
   "metadata": {},
   "source": [
    "nombre_infected       725\n",
    "nombre_sain          2253\n",
    "nombre_exposed        460\n",
    "nombre_recovered    16562\n",
    "Name: 713, dtype: int64"
   ]
  },
  {
   "cell_type": "markdown",
   "id": "d3cfa2f9",
   "metadata": {},
   "source": [
    "nombre_infected       718\n",
    "nombre_sain          2269\n",
    "nombre_exposed        446\n",
    "nombre_recovered    16567\n",
    "Name: 714, dtype: int64"
   ]
  },
  {
   "cell_type": "markdown",
   "id": "2bcdb265",
   "metadata": {},
   "source": [
    "nombre_infected       730\n",
    "nombre_sain          2271\n",
    "nombre_exposed        449\n",
    "nombre_recovered    16550\n",
    "Name: 715, dtype: int64"
   ]
  },
  {
   "cell_type": "markdown",
   "id": "431532ce",
   "metadata": {},
   "source": [
    "nombre_infected       737\n",
    "nombre_sain          2263\n",
    "nombre_exposed        445\n",
    "nombre_recovered    16555\n",
    "Name: 716, dtype: int64"
   ]
  },
  {
   "cell_type": "markdown",
   "id": "5b8cf7e5",
   "metadata": {},
   "source": [
    "nombre_infected       704\n",
    "nombre_sain          2294\n",
    "nombre_exposed        444\n",
    "nombre_recovered    16558\n",
    "Name: 717, dtype: int64"
   ]
  },
  {
   "cell_type": "markdown",
   "id": "134ae510",
   "metadata": {},
   "source": [
    "nombre_infected       703\n",
    "nombre_sain          2313\n",
    "nombre_exposed        441\n",
    "nombre_recovered    16543\n",
    "Name: 718, dtype: int64"
   ]
  },
  {
   "cell_type": "markdown",
   "id": "752950f4",
   "metadata": {},
   "source": [
    "nombre_infected       714\n",
    "nombre_sain          2331\n",
    "nombre_exposed        431\n",
    "nombre_recovered    16524\n",
    "Name: 719, dtype: int64"
   ]
  },
  {
   "cell_type": "markdown",
   "id": "856bfc59",
   "metadata": {},
   "source": [
    "nombre_infected       709\n",
    "nombre_sain          2336\n",
    "nombre_exposed        435\n",
    "nombre_recovered    16520\n",
    "Name: 720, dtype: int64"
   ]
  },
  {
   "cell_type": "markdown",
   "id": "b2aa794f",
   "metadata": {},
   "source": [
    "nombre_infected       714\n",
    "nombre_sain          2350\n",
    "nombre_exposed        441\n",
    "nombre_recovered    16495\n",
    "Name: 721, dtype: int64"
   ]
  },
  {
   "cell_type": "markdown",
   "id": "9ae269c4",
   "metadata": {},
   "source": [
    "nombre_infected       715\n",
    "nombre_sain          2356\n",
    "nombre_exposed        455\n",
    "nombre_recovered    16474\n",
    "Name: 722, dtype: int64"
   ]
  },
  {
   "cell_type": "markdown",
   "id": "f0e2c48b",
   "metadata": {},
   "source": [
    "nombre_infected       711\n",
    "nombre_sain          2401\n",
    "nombre_exposed        458\n",
    "nombre_recovered    16430\n",
    "Name: 723, dtype: int64"
   ]
  },
  {
   "cell_type": "markdown",
   "id": "369c267c",
   "metadata": {},
   "source": [
    "nombre_infected       700\n",
    "nombre_sain          2415\n",
    "nombre_exposed        454\n",
    "nombre_recovered    16431\n",
    "Name: 724, dtype: int64"
   ]
  },
  {
   "cell_type": "markdown",
   "id": "4644250c",
   "metadata": {},
   "source": [
    "nombre_infected       686\n",
    "nombre_sain          2431\n",
    "nombre_exposed        461\n",
    "nombre_recovered    16422\n",
    "Name: 725, dtype: int64"
   ]
  },
  {
   "cell_type": "markdown",
   "id": "83c9e4b5",
   "metadata": {},
   "source": [
    "nombre_infected       710\n",
    "nombre_sain          2446\n",
    "nombre_exposed        458\n",
    "nombre_recovered    16386\n",
    "Name: 726, dtype: int64"
   ]
  },
  {
   "cell_type": "markdown",
   "id": "ee1dd0fb",
   "metadata": {},
   "source": [
    "nombre_infected       697\n",
    "nombre_sain          2455\n",
    "nombre_exposed        463\n",
    "nombre_recovered    16385\n",
    "Name: 727, dtype: int64"
   ]
  },
  {
   "cell_type": "markdown",
   "id": "18298ab3",
   "metadata": {},
   "source": [
    "nombre_infected       694\n",
    "nombre_sain          2425\n",
    "nombre_exposed        479\n",
    "nombre_recovered    16402\n",
    "Name: 728, dtype: int64"
   ]
  },
  {
   "cell_type": "markdown",
   "id": "4b0e83e3",
   "metadata": {},
   "source": [
    "nombre_infected       699\n",
    "nombre_sain          2411\n",
    "nombre_exposed        512\n",
    "nombre_recovered    16378\n",
    "Name: 729, dtype: int64"
   ]
  },
  {
   "cell_type": "markdown",
   "id": "8b35589b",
   "metadata": {},
   "source": [
    "nombre_infected       708\n",
    "nombre_sain          2399\n",
    "nombre_exposed        513\n",
    "nombre_recovered    16380\n",
    "Name: 730, dtype: int64"
   ]
  }
 ],
 "metadata": {},
 "nbformat": 4,
 "nbformat_minor": 5
}
