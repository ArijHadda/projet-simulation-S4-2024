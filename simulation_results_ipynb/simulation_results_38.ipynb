{
 "cells": [
  {
   "cell_type": "markdown",
   "id": "52aafd96",
   "metadata": {},
   "source": [
    "nombre_infected        20\n",
    "nombre_sain         19980\n",
    "nombre_exposed          0\n",
    "nombre_recovered        0\n",
    "Name: 0, dtype: int64"
   ]
  },
  {
   "cell_type": "markdown",
   "id": "9300a6d5",
   "metadata": {},
   "source": [
    "nombre_infected        20\n",
    "nombre_sain         19962\n",
    "nombre_exposed         18\n",
    "nombre_recovered        0\n",
    "Name: 1, dtype: int64"
   ]
  },
  {
   "cell_type": "markdown",
   "id": "b1ebd5b3",
   "metadata": {},
   "source": [
    "nombre_infected        20\n",
    "nombre_sain         19936\n",
    "nombre_exposed         44\n",
    "nombre_recovered        0\n",
    "Name: 2, dtype: int64"
   ]
  },
  {
   "cell_type": "markdown",
   "id": "0b5f4da1",
   "metadata": {},
   "source": [
    "nombre_infected        23\n",
    "nombre_sain         19918\n",
    "nombre_exposed         59\n",
    "nombre_recovered        0\n",
    "Name: 3, dtype: int64"
   ]
  },
  {
   "cell_type": "markdown",
   "id": "65ffb8e4",
   "metadata": {},
   "source": [
    "nombre_infected        39\n",
    "nombre_sain         19889\n",
    "nombre_exposed         72\n",
    "nombre_recovered        0\n",
    "Name: 4, dtype: int64"
   ]
  },
  {
   "cell_type": "markdown",
   "id": "c86f56bf",
   "metadata": {},
   "source": [
    "nombre_infected        48\n",
    "nombre_sain         19818\n",
    "nombre_exposed        133\n",
    "nombre_recovered        1\n",
    "Name: 5, dtype: int64"
   ]
  },
  {
   "cell_type": "markdown",
   "id": "8e98c93e",
   "metadata": {},
   "source": [
    "nombre_infected        68\n",
    "nombre_sain         19744\n",
    "nombre_exposed        184\n",
    "nombre_recovered        4\n",
    "Name: 6, dtype: int64"
   ]
  },
  {
   "cell_type": "markdown",
   "id": "48a4e468",
   "metadata": {},
   "source": [
    "nombre_infected        89\n",
    "nombre_sain         19638\n",
    "nombre_exposed        264\n",
    "nombre_recovered        9\n",
    "Name: 7, dtype: int64"
   ]
  },
  {
   "cell_type": "markdown",
   "id": "2fbe2c68",
   "metadata": {},
   "source": [
    "nombre_infected       114\n",
    "nombre_sain         19512\n",
    "nombre_exposed        354\n",
    "nombre_recovered       20\n",
    "Name: 8, dtype: int64"
   ]
  },
  {
   "cell_type": "markdown",
   "id": "01ac4503",
   "metadata": {},
   "source": [
    "nombre_infected       172\n",
    "nombre_sain         19336\n",
    "nombre_exposed        463\n",
    "nombre_recovered       29\n",
    "Name: 9, dtype: int64"
   ]
  },
  {
   "cell_type": "markdown",
   "id": "84c635ae",
   "metadata": {},
   "source": [
    "nombre_infected       242\n",
    "nombre_sain         19084\n",
    "nombre_exposed        629\n",
    "nombre_recovered       45\n",
    "Name: 10, dtype: int64"
   ]
  },
  {
   "cell_type": "markdown",
   "id": "7d15a8c3",
   "metadata": {},
   "source": [
    "nombre_infected       343\n",
    "nombre_sain         18756\n",
    "nombre_exposed        836\n",
    "nombre_recovered       65\n",
    "Name: 11, dtype: int64"
   ]
  },
  {
   "cell_type": "markdown",
   "id": "a6152e28",
   "metadata": {},
   "source": [
    "nombre_infected       469\n",
    "nombre_sain         18286\n",
    "nombre_exposed       1155\n",
    "nombre_recovered       90\n",
    "Name: 12, dtype: int64"
   ]
  },
  {
   "cell_type": "markdown",
   "id": "b74e98e8",
   "metadata": {},
   "source": [
    "nombre_infected       634\n",
    "nombre_sain         17695\n",
    "nombre_exposed       1542\n",
    "nombre_recovered      129\n",
    "Name: 13, dtype: int64"
   ]
  },
  {
   "cell_type": "markdown",
   "id": "caf88ced",
   "metadata": {},
   "source": [
    "nombre_infected       857\n",
    "nombre_sain         16932\n",
    "nombre_exposed       2012\n",
    "nombre_recovered      199\n",
    "Name: 14, dtype: int64"
   ]
  },
  {
   "cell_type": "markdown",
   "id": "10160737",
   "metadata": {},
   "source": [
    "nombre_infected      1118\n",
    "nombre_sain         15911\n",
    "nombre_exposed       2661\n",
    "nombre_recovered      310\n",
    "Name: 15, dtype: int64"
   ]
  },
  {
   "cell_type": "markdown",
   "id": "b948e476",
   "metadata": {},
   "source": [
    "nombre_infected      1489\n",
    "nombre_sain         14712\n",
    "nombre_exposed       3396\n",
    "nombre_recovered      403\n",
    "Name: 16, dtype: int64"
   ]
  },
  {
   "cell_type": "markdown",
   "id": "0329486c",
   "metadata": {},
   "source": [
    "nombre_infected      1954\n",
    "nombre_sain         13322\n",
    "nombre_exposed       4163\n",
    "nombre_recovered      561\n",
    "Name: 17, dtype: int64"
   ]
  },
  {
   "cell_type": "markdown",
   "id": "ca0413a6",
   "metadata": {},
   "source": [
    "nombre_infected      2569\n",
    "nombre_sain         11698\n",
    "nombre_exposed       4986\n",
    "nombre_recovered      747\n",
    "Name: 18, dtype: int64"
   ]
  },
  {
   "cell_type": "markdown",
   "id": "8489871a",
   "metadata": {},
   "source": [
    "nombre_infected     3288\n",
    "nombre_sain         9956\n",
    "nombre_exposed      5760\n",
    "nombre_recovered     996\n",
    "Name: 19, dtype: int64"
   ]
  },
  {
   "cell_type": "markdown",
   "id": "3be97380",
   "metadata": {},
   "source": [
    "nombre_infected     4091\n",
    "nombre_sain         8175\n",
    "nombre_exposed      6409\n",
    "nombre_recovered    1325\n",
    "Name: 20, dtype: int64"
   ]
  },
  {
   "cell_type": "markdown",
   "id": "e5c570a0",
   "metadata": {},
   "source": [
    "nombre_infected     4968\n",
    "nombre_sain         6496\n",
    "nombre_exposed      6772\n",
    "nombre_recovered    1764\n",
    "Name: 21, dtype: int64"
   ]
  },
  {
   "cell_type": "markdown",
   "id": "9590d4a0",
   "metadata": {},
   "source": [
    "nombre_infected     5951\n",
    "nombre_sain         4889\n",
    "nombre_exposed      6893\n",
    "nombre_recovered    2267\n",
    "Name: 22, dtype: int64"
   ]
  },
  {
   "cell_type": "markdown",
   "id": "d3ba633e",
   "metadata": {},
   "source": [
    "nombre_infected     6891\n",
    "nombre_sain         3593\n",
    "nombre_exposed      6648\n",
    "nombre_recovered    2868\n",
    "Name: 23, dtype: int64"
   ]
  },
  {
   "cell_type": "markdown",
   "id": "fc987b48",
   "metadata": {},
   "source": [
    "nombre_infected     7641\n",
    "nombre_sain         2596\n",
    "nombre_exposed      6116\n",
    "nombre_recovered    3647\n",
    "Name: 24, dtype: int64"
   ]
  },
  {
   "cell_type": "markdown",
   "id": "4037d779",
   "metadata": {},
   "source": [
    "nombre_infected     8256\n",
    "nombre_sain         1776\n",
    "nombre_exposed      5473\n",
    "nombre_recovered    4495\n",
    "Name: 25, dtype: int64"
   ]
  },
  {
   "cell_type": "markdown",
   "id": "c057605e",
   "metadata": {},
   "source": [
    "nombre_infected     8643\n",
    "nombre_sain         1203\n",
    "nombre_exposed      4713\n",
    "nombre_recovered    5441\n",
    "Name: 26, dtype: int64"
   ]
  },
  {
   "cell_type": "markdown",
   "id": "4de675a2",
   "metadata": {},
   "source": [
    "nombre_infected     8739\n",
    "nombre_sain          793\n",
    "nombre_exposed      4014\n",
    "nombre_recovered    6454\n",
    "Name: 27, dtype: int64"
   ]
  },
  {
   "cell_type": "markdown",
   "id": "049e35f3",
   "metadata": {},
   "source": [
    "nombre_infected     8795\n",
    "nombre_sain          557\n",
    "nombre_exposed      3147\n",
    "nombre_recovered    7501\n",
    "Name: 28, dtype: int64"
   ]
  },
  {
   "cell_type": "markdown",
   "id": "3eb58297",
   "metadata": {},
   "source": [
    "nombre_infected     8531\n",
    "nombre_sain          377\n",
    "nombre_exposed      2526\n",
    "nombre_recovered    8566\n",
    "Name: 29, dtype: int64"
   ]
  },
  {
   "cell_type": "markdown",
   "id": "60ebebe6",
   "metadata": {},
   "source": [
    "nombre_infected     8111\n",
    "nombre_sain          257\n",
    "nombre_exposed      1982\n",
    "nombre_recovered    9650\n",
    "Name: 30, dtype: int64"
   ]
  },
  {
   "cell_type": "markdown",
   "id": "9ac60f13",
   "metadata": {},
   "source": [
    "nombre_infected      7527\n",
    "nombre_sain           182\n",
    "nombre_exposed       1566\n",
    "nombre_recovered    10725\n",
    "Name: 31, dtype: int64"
   ]
  },
  {
   "cell_type": "markdown",
   "id": "add63a0c",
   "metadata": {},
   "source": [
    "nombre_infected      6945\n",
    "nombre_sain           127\n",
    "nombre_exposed       1204\n",
    "nombre_recovered    11724\n",
    "Name: 32, dtype: int64"
   ]
  },
  {
   "cell_type": "markdown",
   "id": "8935ef1f",
   "metadata": {},
   "source": [
    "nombre_infected      6327\n",
    "nombre_sain            97\n",
    "nombre_exposed        927\n",
    "nombre_recovered    12649\n",
    "Name: 33, dtype: int64"
   ]
  },
  {
   "cell_type": "markdown",
   "id": "44aeb780",
   "metadata": {},
   "source": [
    "nombre_infected      5798\n",
    "nombre_sain            76\n",
    "nombre_exposed        706\n",
    "nombre_recovered    13420\n",
    "Name: 34, dtype: int64"
   ]
  },
  {
   "cell_type": "markdown",
   "id": "8e894bd6",
   "metadata": {},
   "source": [
    "nombre_infected      5199\n",
    "nombre_sain            76\n",
    "nombre_exposed        550\n",
    "nombre_recovered    14175\n",
    "Name: 35, dtype: int64"
   ]
  },
  {
   "cell_type": "markdown",
   "id": "5dfaaf8b",
   "metadata": {},
   "source": [
    "nombre_infected      4629\n",
    "nombre_sain            86\n",
    "nombre_exposed        436\n",
    "nombre_recovered    14849\n",
    "Name: 36, dtype: int64"
   ]
  },
  {
   "cell_type": "markdown",
   "id": "e7844012",
   "metadata": {},
   "source": [
    "nombre_infected      4194\n",
    "nombre_sain            91\n",
    "nombre_exposed        333\n",
    "nombre_recovered    15382\n",
    "Name: 37, dtype: int64"
   ]
  },
  {
   "cell_type": "markdown",
   "id": "bde9a3a0",
   "metadata": {},
   "source": [
    "nombre_infected      3764\n",
    "nombre_sain            91\n",
    "nombre_exposed        274\n",
    "nombre_recovered    15871\n",
    "Name: 38, dtype: int64"
   ]
  },
  {
   "cell_type": "markdown",
   "id": "4a990742",
   "metadata": {},
   "source": [
    "nombre_infected      3375\n",
    "nombre_sain            95\n",
    "nombre_exposed        227\n",
    "nombre_recovered    16303\n",
    "Name: 39, dtype: int64"
   ]
  },
  {
   "cell_type": "markdown",
   "id": "013e266b",
   "metadata": {},
   "source": [
    "nombre_infected      3034\n",
    "nombre_sain           111\n",
    "nombre_exposed        182\n",
    "nombre_recovered    16673\n",
    "Name: 40, dtype: int64"
   ]
  },
  {
   "cell_type": "markdown",
   "id": "dd1b9ce7",
   "metadata": {},
   "source": [
    "nombre_infected      2718\n",
    "nombre_sain           136\n",
    "nombre_exposed        161\n",
    "nombre_recovered    16985\n",
    "Name: 41, dtype: int64"
   ]
  },
  {
   "cell_type": "markdown",
   "id": "20dc9816",
   "metadata": {},
   "source": [
    "nombre_infected      2437\n",
    "nombre_sain           151\n",
    "nombre_exposed        145\n",
    "nombre_recovered    17267\n",
    "Name: 42, dtype: int64"
   ]
  },
  {
   "cell_type": "markdown",
   "id": "9982b131",
   "metadata": {},
   "source": [
    "nombre_infected      2177\n",
    "nombre_sain           183\n",
    "nombre_exposed        117\n",
    "nombre_recovered    17523\n",
    "Name: 43, dtype: int64"
   ]
  },
  {
   "cell_type": "markdown",
   "id": "e1f401d9",
   "metadata": {},
   "source": [
    "nombre_infected      1948\n",
    "nombre_sain           189\n",
    "nombre_exposed        120\n",
    "nombre_recovered    17743\n",
    "Name: 44, dtype: int64"
   ]
  },
  {
   "cell_type": "markdown",
   "id": "30dfb090",
   "metadata": {},
   "source": [
    "nombre_infected      1760\n",
    "nombre_sain           229\n",
    "nombre_exposed        117\n",
    "nombre_recovered    17894\n",
    "Name: 45, dtype: int64"
   ]
  },
  {
   "cell_type": "markdown",
   "id": "803dd146",
   "metadata": {},
   "source": [
    "nombre_infected      1578\n",
    "nombre_sain           262\n",
    "nombre_exposed        112\n",
    "nombre_recovered    18048\n",
    "Name: 46, dtype: int64"
   ]
  },
  {
   "cell_type": "markdown",
   "id": "4d3c71a3",
   "metadata": {},
   "source": [
    "nombre_infected      1432\n",
    "nombre_sain           289\n",
    "nombre_exposed        106\n",
    "nombre_recovered    18173\n",
    "Name: 47, dtype: int64"
   ]
  },
  {
   "cell_type": "markdown",
   "id": "c93d6712",
   "metadata": {},
   "source": [
    "nombre_infected      1321\n",
    "nombre_sain           332\n",
    "nombre_exposed        100\n",
    "nombre_recovered    18247\n",
    "Name: 48, dtype: int64"
   ]
  },
  {
   "cell_type": "markdown",
   "id": "5de97fd6",
   "metadata": {},
   "source": [
    "nombre_infected      1202\n",
    "nombre_sain           364\n",
    "nombre_exposed        104\n",
    "nombre_recovered    18330\n",
    "Name: 49, dtype: int64"
   ]
  },
  {
   "cell_type": "markdown",
   "id": "9f8306a7",
   "metadata": {},
   "source": [
    "nombre_infected      1085\n",
    "nombre_sain           424\n",
    "nombre_exposed        102\n",
    "nombre_recovered    18389\n",
    "Name: 50, dtype: int64"
   ]
  },
  {
   "cell_type": "markdown",
   "id": "e5701cfc",
   "metadata": {},
   "source": [
    "nombre_infected       997\n",
    "nombre_sain           460\n",
    "nombre_exposed        101\n",
    "nombre_recovered    18442\n",
    "Name: 51, dtype: int64"
   ]
  },
  {
   "cell_type": "markdown",
   "id": "d7d3c9a9",
   "metadata": {},
   "source": [
    "nombre_infected       940\n",
    "nombre_sain           481\n",
    "nombre_exposed        104\n",
    "nombre_recovered    18475\n",
    "Name: 52, dtype: int64"
   ]
  },
  {
   "cell_type": "markdown",
   "id": "7325dae1",
   "metadata": {},
   "source": [
    "nombre_infected       843\n",
    "nombre_sain           526\n",
    "nombre_exposed        105\n",
    "nombre_recovered    18526\n",
    "Name: 53, dtype: int64"
   ]
  },
  {
   "cell_type": "markdown",
   "id": "bb0ab59e",
   "metadata": {},
   "source": [
    "nombre_infected       768\n",
    "nombre_sain           553\n",
    "nombre_exposed         99\n",
    "nombre_recovered    18580\n",
    "Name: 54, dtype: int64"
   ]
  },
  {
   "cell_type": "markdown",
   "id": "a151b6f8",
   "metadata": {},
   "source": [
    "nombre_infected       709\n",
    "nombre_sain           594\n",
    "nombre_exposed         98\n",
    "nombre_recovered    18599\n",
    "Name: 55, dtype: int64"
   ]
  },
  {
   "cell_type": "markdown",
   "id": "31de7687",
   "metadata": {},
   "source": [
    "nombre_infected       639\n",
    "nombre_sain           624\n",
    "nombre_exposed         92\n",
    "nombre_recovered    18645\n",
    "Name: 56, dtype: int64"
   ]
  },
  {
   "cell_type": "markdown",
   "id": "5f37f824",
   "metadata": {},
   "source": [
    "nombre_infected       578\n",
    "nombre_sain           632\n",
    "nombre_exposed        101\n",
    "nombre_recovered    18689\n",
    "Name: 57, dtype: int64"
   ]
  },
  {
   "cell_type": "markdown",
   "id": "7050bb0a",
   "metadata": {},
   "source": [
    "nombre_infected       526\n",
    "nombre_sain           654\n",
    "nombre_exposed         98\n",
    "nombre_recovered    18722\n",
    "Name: 58, dtype: int64"
   ]
  },
  {
   "cell_type": "markdown",
   "id": "9600b12b",
   "metadata": {},
   "source": [
    "nombre_infected       471\n",
    "nombre_sain           653\n",
    "nombre_exposed        100\n",
    "nombre_recovered    18776\n",
    "Name: 59, dtype: int64"
   ]
  },
  {
   "cell_type": "markdown",
   "id": "47d87a2d",
   "metadata": {},
   "source": [
    "nombre_infected       415\n",
    "nombre_sain           657\n",
    "nombre_exposed         99\n",
    "nombre_recovered    18829\n",
    "Name: 60, dtype: int64"
   ]
  },
  {
   "cell_type": "markdown",
   "id": "a92cfebe",
   "metadata": {},
   "source": [
    "nombre_infected       378\n",
    "nombre_sain           677\n",
    "nombre_exposed         93\n",
    "nombre_recovered    18852\n",
    "Name: 61, dtype: int64"
   ]
  },
  {
   "cell_type": "markdown",
   "id": "0cfbc3e7",
   "metadata": {},
   "source": [
    "nombre_infected       355\n",
    "nombre_sain           694\n",
    "nombre_exposed         81\n",
    "nombre_recovered    18870\n",
    "Name: 62, dtype: int64"
   ]
  },
  {
   "cell_type": "markdown",
   "id": "6f9cd523",
   "metadata": {},
   "source": [
    "nombre_infected       328\n",
    "nombre_sain           696\n",
    "nombre_exposed         81\n",
    "nombre_recovered    18895\n",
    "Name: 63, dtype: int64"
   ]
  },
  {
   "cell_type": "markdown",
   "id": "55c7d570",
   "metadata": {},
   "source": [
    "nombre_infected       298\n",
    "nombre_sain           697\n",
    "nombre_exposed         84\n",
    "nombre_recovered    18921\n",
    "Name: 64, dtype: int64"
   ]
  },
  {
   "cell_type": "markdown",
   "id": "be29146b",
   "metadata": {},
   "source": [
    "nombre_infected       288\n",
    "nombre_sain           714\n",
    "nombre_exposed         75\n",
    "nombre_recovered    18923\n",
    "Name: 65, dtype: int64"
   ]
  },
  {
   "cell_type": "markdown",
   "id": "96170ec0",
   "metadata": {},
   "source": [
    "nombre_infected       283\n",
    "nombre_sain           730\n",
    "nombre_exposed         56\n",
    "nombre_recovered    18931\n",
    "Name: 66, dtype: int64"
   ]
  },
  {
   "cell_type": "markdown",
   "id": "ee8c9ce8",
   "metadata": {},
   "source": [
    "nombre_infected       257\n",
    "nombre_sain           744\n",
    "nombre_exposed         57\n",
    "nombre_recovered    18942\n",
    "Name: 67, dtype: int64"
   ]
  },
  {
   "cell_type": "markdown",
   "id": "babb9a2d",
   "metadata": {},
   "source": [
    "nombre_infected       236\n",
    "nombre_sain           761\n",
    "nombre_exposed         56\n",
    "nombre_recovered    18947\n",
    "Name: 68, dtype: int64"
   ]
  },
  {
   "cell_type": "markdown",
   "id": "c7a53011",
   "metadata": {},
   "source": [
    "nombre_infected       215\n",
    "nombre_sain           779\n",
    "nombre_exposed         61\n",
    "nombre_recovered    18945\n",
    "Name: 69, dtype: int64"
   ]
  },
  {
   "cell_type": "markdown",
   "id": "879e7bba",
   "metadata": {},
   "source": [
    "nombre_infected       210\n",
    "nombre_sain           804\n",
    "nombre_exposed         49\n",
    "nombre_recovered    18937\n",
    "Name: 70, dtype: int64"
   ]
  },
  {
   "cell_type": "markdown",
   "id": "55ae6c55",
   "metadata": {},
   "source": [
    "nombre_infected       193\n",
    "nombre_sain           828\n",
    "nombre_exposed         57\n",
    "nombre_recovered    18922\n",
    "Name: 71, dtype: int64"
   ]
  },
  {
   "cell_type": "markdown",
   "id": "9878b683",
   "metadata": {},
   "source": [
    "nombre_infected       187\n",
    "nombre_sain           852\n",
    "nombre_exposed         51\n",
    "nombre_recovered    18910\n",
    "Name: 72, dtype: int64"
   ]
  },
  {
   "cell_type": "markdown",
   "id": "37a69000",
   "metadata": {},
   "source": [
    "nombre_infected       174\n",
    "nombre_sain           883\n",
    "nombre_exposed         43\n",
    "nombre_recovered    18900\n",
    "Name: 73, dtype: int64"
   ]
  },
  {
   "cell_type": "markdown",
   "id": "47282f57",
   "metadata": {},
   "source": [
    "nombre_infected       172\n",
    "nombre_sain           916\n",
    "nombre_exposed         33\n",
    "nombre_recovered    18879\n",
    "Name: 74, dtype: int64"
   ]
  },
  {
   "cell_type": "markdown",
   "id": "0966d4e3",
   "metadata": {},
   "source": [
    "nombre_infected       156\n",
    "nombre_sain           956\n",
    "nombre_exposed         39\n",
    "nombre_recovered    18849\n",
    "Name: 75, dtype: int64"
   ]
  },
  {
   "cell_type": "markdown",
   "id": "0f7d6ead",
   "metadata": {},
   "source": [
    "nombre_infected       150\n",
    "nombre_sain           991\n",
    "nombre_exposed         40\n",
    "nombre_recovered    18819\n",
    "Name: 76, dtype: int64"
   ]
  },
  {
   "cell_type": "markdown",
   "id": "34905c09",
   "metadata": {},
   "source": [
    "nombre_infected       138\n",
    "nombre_sain          1042\n",
    "nombre_exposed         31\n",
    "nombre_recovered    18789\n",
    "Name: 77, dtype: int64"
   ]
  },
  {
   "cell_type": "markdown",
   "id": "ee541c2b",
   "metadata": {},
   "source": [
    "nombre_infected       136\n",
    "nombre_sain          1106\n",
    "nombre_exposed         29\n",
    "nombre_recovered    18729\n",
    "Name: 78, dtype: int64"
   ]
  },
  {
   "cell_type": "markdown",
   "id": "55588483",
   "metadata": {},
   "source": [
    "nombre_infected       112\n",
    "nombre_sain          1178\n",
    "nombre_exposed         29\n",
    "nombre_recovered    18681\n",
    "Name: 79, dtype: int64"
   ]
  },
  {
   "cell_type": "markdown",
   "id": "57d37dc3",
   "metadata": {},
   "source": [
    "nombre_infected       107\n",
    "nombre_sain          1234\n",
    "nombre_exposed         34\n",
    "nombre_recovered    18625\n",
    "Name: 80, dtype: int64"
   ]
  },
  {
   "cell_type": "markdown",
   "id": "f178a47c",
   "metadata": {},
   "source": [
    "nombre_infected       107\n",
    "nombre_sain          1317\n",
    "nombre_exposed         33\n",
    "nombre_recovered    18543\n",
    "Name: 81, dtype: int64"
   ]
  },
  {
   "cell_type": "markdown",
   "id": "900a1a60",
   "metadata": {},
   "source": [
    "nombre_infected       102\n",
    "nombre_sain          1389\n",
    "nombre_exposed         28\n",
    "nombre_recovered    18481\n",
    "Name: 82, dtype: int64"
   ]
  },
  {
   "cell_type": "markdown",
   "id": "9d7c54d8",
   "metadata": {},
   "source": [
    "nombre_infected        94\n",
    "nombre_sain          1463\n",
    "nombre_exposed         31\n",
    "nombre_recovered    18412\n",
    "Name: 83, dtype: int64"
   ]
  },
  {
   "cell_type": "markdown",
   "id": "23582437",
   "metadata": {},
   "source": [
    "nombre_infected        89\n",
    "nombre_sain          1520\n",
    "nombre_exposed         33\n",
    "nombre_recovered    18358\n",
    "Name: 84, dtype: int64"
   ]
  },
  {
   "cell_type": "markdown",
   "id": "d0f3f44b",
   "metadata": {},
   "source": [
    "nombre_infected        87\n",
    "nombre_sain          1576\n",
    "nombre_exposed         34\n",
    "nombre_recovered    18303\n",
    "Name: 85, dtype: int64"
   ]
  },
  {
   "cell_type": "markdown",
   "id": "03cf96ab",
   "metadata": {},
   "source": [
    "nombre_infected        74\n",
    "nombre_sain          1615\n",
    "nombre_exposed         38\n",
    "nombre_recovered    18273\n",
    "Name: 86, dtype: int64"
   ]
  },
  {
   "cell_type": "markdown",
   "id": "828a8a75",
   "metadata": {},
   "source": [
    "nombre_infected        61\n",
    "nombre_sain          1679\n",
    "nombre_exposed         35\n",
    "nombre_recovered    18225\n",
    "Name: 87, dtype: int64"
   ]
  },
  {
   "cell_type": "markdown",
   "id": "212c6915",
   "metadata": {},
   "source": [
    "nombre_infected        58\n",
    "nombre_sain          1722\n",
    "nombre_exposed         28\n",
    "nombre_recovered    18192\n",
    "Name: 88, dtype: int64"
   ]
  },
  {
   "cell_type": "markdown",
   "id": "3b3507af",
   "metadata": {},
   "source": [
    "nombre_infected        53\n",
    "nombre_sain          1774\n",
    "nombre_exposed         28\n",
    "nombre_recovered    18145\n",
    "Name: 89, dtype: int64"
   ]
  },
  {
   "cell_type": "markdown",
   "id": "bdd0da83",
   "metadata": {},
   "source": [
    "nombre_infected        46\n",
    "nombre_sain          1822\n",
    "nombre_exposed         24\n",
    "nombre_recovered    18108\n",
    "Name: 90, dtype: int64"
   ]
  },
  {
   "cell_type": "markdown",
   "id": "51c28df7",
   "metadata": {},
   "source": [
    "nombre_infected        49\n",
    "nombre_sain          1856\n",
    "nombre_exposed         22\n",
    "nombre_recovered    18073\n",
    "Name: 91, dtype: int64"
   ]
  },
  {
   "cell_type": "markdown",
   "id": "35ca69e3",
   "metadata": {},
   "source": [
    "nombre_infected        51\n",
    "nombre_sain          1897\n",
    "nombre_exposed         17\n",
    "nombre_recovered    18035\n",
    "Name: 92, dtype: int64"
   ]
  },
  {
   "cell_type": "markdown",
   "id": "790ef6e4",
   "metadata": {},
   "source": [
    "nombre_infected        45\n",
    "nombre_sain          1931\n",
    "nombre_exposed         20\n",
    "nombre_recovered    18004\n",
    "Name: 93, dtype: int64"
   ]
  },
  {
   "cell_type": "markdown",
   "id": "0058f69b",
   "metadata": {},
   "source": [
    "nombre_infected        45\n",
    "nombre_sain          1959\n",
    "nombre_exposed         20\n",
    "nombre_recovered    17976\n",
    "Name: 94, dtype: int64"
   ]
  },
  {
   "cell_type": "markdown",
   "id": "22916b24",
   "metadata": {},
   "source": [
    "nombre_infected        41\n",
    "nombre_sain          1981\n",
    "nombre_exposed         18\n",
    "nombre_recovered    17960\n",
    "Name: 95, dtype: int64"
   ]
  },
  {
   "cell_type": "markdown",
   "id": "bfa59de1",
   "metadata": {},
   "source": [
    "nombre_infected        39\n",
    "nombre_sain          2009\n",
    "nombre_exposed         19\n",
    "nombre_recovered    17933\n",
    "Name: 96, dtype: int64"
   ]
  },
  {
   "cell_type": "markdown",
   "id": "eb21d894",
   "metadata": {},
   "source": [
    "nombre_infected        37\n",
    "nombre_sain          2043\n",
    "nombre_exposed         21\n",
    "nombre_recovered    17899\n",
    "Name: 97, dtype: int64"
   ]
  },
  {
   "cell_type": "markdown",
   "id": "f3c06e0c",
   "metadata": {},
   "source": [
    "nombre_infected        32\n",
    "nombre_sain          2068\n",
    "nombre_exposed         18\n",
    "nombre_recovered    17882\n",
    "Name: 98, dtype: int64"
   ]
  },
  {
   "cell_type": "markdown",
   "id": "a5da678b",
   "metadata": {},
   "source": [
    "nombre_infected        37\n",
    "nombre_sain          2108\n",
    "nombre_exposed         15\n",
    "nombre_recovered    17840\n",
    "Name: 99, dtype: int64"
   ]
  },
  {
   "cell_type": "markdown",
   "id": "e56acf87",
   "metadata": {},
   "source": [
    "nombre_infected        34\n",
    "nombre_sain          2140\n",
    "nombre_exposed         17\n",
    "nombre_recovered    17809\n",
    "Name: 100, dtype: int64"
   ]
  },
  {
   "cell_type": "markdown",
   "id": "ffcb4782",
   "metadata": {},
   "source": [
    "nombre_infected        33\n",
    "nombre_sain          2166\n",
    "nombre_exposed         15\n",
    "nombre_recovered    17786\n",
    "Name: 101, dtype: int64"
   ]
  },
  {
   "cell_type": "markdown",
   "id": "96ca5234",
   "metadata": {},
   "source": [
    "nombre_infected        30\n",
    "nombre_sain          2191\n",
    "nombre_exposed         16\n",
    "nombre_recovered    17763\n",
    "Name: 102, dtype: int64"
   ]
  },
  {
   "cell_type": "markdown",
   "id": "711c11b3",
   "metadata": {},
   "source": [
    "nombre_infected        27\n",
    "nombre_sain          2230\n",
    "nombre_exposed         20\n",
    "nombre_recovered    17723\n",
    "Name: 103, dtype: int64"
   ]
  },
  {
   "cell_type": "markdown",
   "id": "a98c1a49",
   "metadata": {},
   "source": [
    "nombre_infected        28\n",
    "nombre_sain          2260\n",
    "nombre_exposed         19\n",
    "nombre_recovered    17693\n",
    "Name: 104, dtype: int64"
   ]
  },
  {
   "cell_type": "markdown",
   "id": "16158aaf",
   "metadata": {},
   "source": [
    "nombre_infected        26\n",
    "nombre_sain          2289\n",
    "nombre_exposed         18\n",
    "nombre_recovered    17667\n",
    "Name: 105, dtype: int64"
   ]
  },
  {
   "cell_type": "markdown",
   "id": "f1938ae4",
   "metadata": {},
   "source": [
    "nombre_infected        32\n",
    "nombre_sain          2333\n",
    "nombre_exposed         17\n",
    "nombre_recovered    17618\n",
    "Name: 106, dtype: int64"
   ]
  },
  {
   "cell_type": "markdown",
   "id": "16667710",
   "metadata": {},
   "source": [
    "nombre_infected        32\n",
    "nombre_sain          2365\n",
    "nombre_exposed         21\n",
    "nombre_recovered    17582\n",
    "Name: 107, dtype: int64"
   ]
  },
  {
   "cell_type": "markdown",
   "id": "42991d59",
   "metadata": {},
   "source": [
    "nombre_infected        33\n",
    "nombre_sain          2391\n",
    "nombre_exposed         21\n",
    "nombre_recovered    17555\n",
    "Name: 108, dtype: int64"
   ]
  },
  {
   "cell_type": "markdown",
   "id": "baa23322",
   "metadata": {},
   "source": [
    "nombre_infected        33\n",
    "nombre_sain          2429\n",
    "nombre_exposed         23\n",
    "nombre_recovered    17515\n",
    "Name: 109, dtype: int64"
   ]
  },
  {
   "cell_type": "markdown",
   "id": "4e155577",
   "metadata": {},
   "source": [
    "nombre_infected        35\n",
    "nombre_sain          2474\n",
    "nombre_exposed         21\n",
    "nombre_recovered    17470\n",
    "Name: 110, dtype: int64"
   ]
  },
  {
   "cell_type": "markdown",
   "id": "49d1c328",
   "metadata": {},
   "source": [
    "nombre_infected        37\n",
    "nombre_sain          2507\n",
    "nombre_exposed         17\n",
    "nombre_recovered    17439\n",
    "Name: 111, dtype: int64"
   ]
  },
  {
   "cell_type": "markdown",
   "id": "0149eae9",
   "metadata": {},
   "source": [
    "nombre_infected        40\n",
    "nombre_sain          2538\n",
    "nombre_exposed         18\n",
    "nombre_recovered    17404\n",
    "Name: 112, dtype: int64"
   ]
  },
  {
   "cell_type": "markdown",
   "id": "e0498abf",
   "metadata": {},
   "source": [
    "nombre_infected        37\n",
    "nombre_sain          2569\n",
    "nombre_exposed         22\n",
    "nombre_recovered    17372\n",
    "Name: 113, dtype: int64"
   ]
  },
  {
   "cell_type": "markdown",
   "id": "77a9feba",
   "metadata": {},
   "source": [
    "nombre_infected        33\n",
    "nombre_sain          2600\n",
    "nombre_exposed         23\n",
    "nombre_recovered    17344\n",
    "Name: 114, dtype: int64"
   ]
  },
  {
   "cell_type": "markdown",
   "id": "df8fc653",
   "metadata": {},
   "source": [
    "nombre_infected        35\n",
    "nombre_sain          2649\n",
    "nombre_exposed         19\n",
    "nombre_recovered    17297\n",
    "Name: 115, dtype: int64"
   ]
  },
  {
   "cell_type": "markdown",
   "id": "0734593b",
   "metadata": {},
   "source": [
    "nombre_infected        33\n",
    "nombre_sain          2688\n",
    "nombre_exposed         20\n",
    "nombre_recovered    17259\n",
    "Name: 116, dtype: int64"
   ]
  },
  {
   "cell_type": "markdown",
   "id": "5a6fd689",
   "metadata": {},
   "source": [
    "nombre_infected        35\n",
    "nombre_sain          2718\n",
    "nombre_exposed         21\n",
    "nombre_recovered    17226\n",
    "Name: 117, dtype: int64"
   ]
  },
  {
   "cell_type": "markdown",
   "id": "21b1fd24",
   "metadata": {},
   "source": [
    "nombre_infected        35\n",
    "nombre_sain          2755\n",
    "nombre_exposed         21\n",
    "nombre_recovered    17189\n",
    "Name: 118, dtype: int64"
   ]
  },
  {
   "cell_type": "markdown",
   "id": "53d31f67",
   "metadata": {},
   "source": [
    "nombre_infected        36\n",
    "nombre_sain          2785\n",
    "nombre_exposed         21\n",
    "nombre_recovered    17158\n",
    "Name: 119, dtype: int64"
   ]
  },
  {
   "cell_type": "markdown",
   "id": "0b7cce95",
   "metadata": {},
   "source": [
    "nombre_infected        37\n",
    "nombre_sain          2821\n",
    "nombre_exposed         20\n",
    "nombre_recovered    17122\n",
    "Name: 120, dtype: int64"
   ]
  },
  {
   "cell_type": "markdown",
   "id": "7538fd49",
   "metadata": {},
   "source": [
    "nombre_infected        34\n",
    "nombre_sain          2853\n",
    "nombre_exposed         25\n",
    "nombre_recovered    17088\n",
    "Name: 121, dtype: int64"
   ]
  },
  {
   "cell_type": "markdown",
   "id": "887e9ac2",
   "metadata": {},
   "source": [
    "nombre_infected        34\n",
    "nombre_sain          2887\n",
    "nombre_exposed         25\n",
    "nombre_recovered    17054\n",
    "Name: 122, dtype: int64"
   ]
  },
  {
   "cell_type": "markdown",
   "id": "d71b9547",
   "metadata": {},
   "source": [
    "nombre_infected        38\n",
    "nombre_sain          2919\n",
    "nombre_exposed         23\n",
    "nombre_recovered    17020\n",
    "Name: 123, dtype: int64"
   ]
  },
  {
   "cell_type": "markdown",
   "id": "ba28a8a9",
   "metadata": {},
   "source": [
    "nombre_infected        39\n",
    "nombre_sain          2951\n",
    "nombre_exposed         23\n",
    "nombre_recovered    16987\n",
    "Name: 124, dtype: int64"
   ]
  },
  {
   "cell_type": "markdown",
   "id": "7a7327ba",
   "metadata": {},
   "source": [
    "nombre_infected        36\n",
    "nombre_sain          2981\n",
    "nombre_exposed         20\n",
    "nombre_recovered    16963\n",
    "Name: 125, dtype: int64"
   ]
  },
  {
   "cell_type": "markdown",
   "id": "57ff5072",
   "metadata": {},
   "source": [
    "nombre_infected        37\n",
    "nombre_sain          3014\n",
    "nombre_exposed         18\n",
    "nombre_recovered    16931\n",
    "Name: 126, dtype: int64"
   ]
  },
  {
   "cell_type": "markdown",
   "id": "d8f55a1b",
   "metadata": {},
   "source": [
    "nombre_infected        38\n",
    "nombre_sain          3067\n",
    "nombre_exposed         16\n",
    "nombre_recovered    16879\n",
    "Name: 127, dtype: int64"
   ]
  },
  {
   "cell_type": "markdown",
   "id": "b7d535e0",
   "metadata": {},
   "source": [
    "nombre_infected        37\n",
    "nombre_sain          3104\n",
    "nombre_exposed         13\n",
    "nombre_recovered    16846\n",
    "Name: 128, dtype: int64"
   ]
  },
  {
   "cell_type": "markdown",
   "id": "ebcac9d6",
   "metadata": {},
   "source": [
    "nombre_infected        35\n",
    "nombre_sain          3138\n",
    "nombre_exposed         18\n",
    "nombre_recovered    16809\n",
    "Name: 129, dtype: int64"
   ]
  },
  {
   "cell_type": "markdown",
   "id": "b2deebfa",
   "metadata": {},
   "source": [
    "nombre_infected        26\n",
    "nombre_sain          3163\n",
    "nombre_exposed         25\n",
    "nombre_recovered    16786\n",
    "Name: 130, dtype: int64"
   ]
  },
  {
   "cell_type": "markdown",
   "id": "46f4d4b8",
   "metadata": {},
   "source": [
    "nombre_infected        31\n",
    "nombre_sain          3196\n",
    "nombre_exposed         22\n",
    "nombre_recovered    16751\n",
    "Name: 131, dtype: int64"
   ]
  },
  {
   "cell_type": "markdown",
   "id": "1043a989",
   "metadata": {},
   "source": [
    "nombre_infected        36\n",
    "nombre_sain          3242\n",
    "nombre_exposed         24\n",
    "nombre_recovered    16698\n",
    "Name: 132, dtype: int64"
   ]
  },
  {
   "cell_type": "markdown",
   "id": "235edc2b",
   "metadata": {},
   "source": [
    "nombre_infected        37\n",
    "nombre_sain          3283\n",
    "nombre_exposed         33\n",
    "nombre_recovered    16647\n",
    "Name: 133, dtype: int64"
   ]
  },
  {
   "cell_type": "markdown",
   "id": "c2287f5d",
   "metadata": {},
   "source": [
    "nombre_infected        33\n",
    "nombre_sain          3321\n",
    "nombre_exposed         37\n",
    "nombre_recovered    16609\n",
    "Name: 134, dtype: int64"
   ]
  },
  {
   "cell_type": "markdown",
   "id": "2d4d0d9c",
   "metadata": {},
   "source": [
    "nombre_infected        40\n",
    "nombre_sain          3368\n",
    "nombre_exposed         35\n",
    "nombre_recovered    16557\n",
    "Name: 135, dtype: int64"
   ]
  },
  {
   "cell_type": "markdown",
   "id": "1a81715a",
   "metadata": {},
   "source": [
    "nombre_infected        49\n",
    "nombre_sain          3415\n",
    "nombre_exposed         30\n",
    "nombre_recovered    16506\n",
    "Name: 136, dtype: int64"
   ]
  },
  {
   "cell_type": "markdown",
   "id": "ed8aae22",
   "metadata": {},
   "source": [
    "nombre_infected        48\n",
    "nombre_sain          3457\n",
    "nombre_exposed         33\n",
    "nombre_recovered    16462\n",
    "Name: 137, dtype: int64"
   ]
  },
  {
   "cell_type": "markdown",
   "id": "3aca5b9b",
   "metadata": {},
   "source": [
    "nombre_infected        49\n",
    "nombre_sain          3504\n",
    "nombre_exposed         33\n",
    "nombre_recovered    16414\n",
    "Name: 138, dtype: int64"
   ]
  },
  {
   "cell_type": "markdown",
   "id": "0625f433",
   "metadata": {},
   "source": [
    "nombre_infected        54\n",
    "nombre_sain          3551\n",
    "nombre_exposed         26\n",
    "nombre_recovered    16369\n",
    "Name: 139, dtype: int64"
   ]
  },
  {
   "cell_type": "markdown",
   "id": "93f814df",
   "metadata": {},
   "source": [
    "nombre_infected        53\n",
    "nombre_sain          3584\n",
    "nombre_exposed         34\n",
    "nombre_recovered    16329\n",
    "Name: 140, dtype: int64"
   ]
  },
  {
   "cell_type": "markdown",
   "id": "d0cc621c",
   "metadata": {},
   "source": [
    "nombre_infected        54\n",
    "nombre_sain          3616\n",
    "nombre_exposed         39\n",
    "nombre_recovered    16291\n",
    "Name: 141, dtype: int64"
   ]
  },
  {
   "cell_type": "markdown",
   "id": "0686ce4a",
   "metadata": {},
   "source": [
    "nombre_infected        60\n",
    "nombre_sain          3647\n",
    "nombre_exposed         41\n",
    "nombre_recovered    16252\n",
    "Name: 142, dtype: int64"
   ]
  },
  {
   "cell_type": "markdown",
   "id": "39c9d264",
   "metadata": {},
   "source": [
    "nombre_infected        64\n",
    "nombre_sain          3671\n",
    "nombre_exposed         41\n",
    "nombre_recovered    16224\n",
    "Name: 143, dtype: int64"
   ]
  },
  {
   "cell_type": "markdown",
   "id": "7bb64f55",
   "metadata": {},
   "source": [
    "nombre_infected        69\n",
    "nombre_sain          3698\n",
    "nombre_exposed         43\n",
    "nombre_recovered    16190\n",
    "Name: 144, dtype: int64"
   ]
  },
  {
   "cell_type": "markdown",
   "id": "610d96a4",
   "metadata": {},
   "source": [
    "nombre_infected        67\n",
    "nombre_sain          3726\n",
    "nombre_exposed         53\n",
    "nombre_recovered    16154\n",
    "Name: 145, dtype: int64"
   ]
  },
  {
   "cell_type": "markdown",
   "id": "9f8cfb3b",
   "metadata": {},
   "source": [
    "nombre_infected        71\n",
    "nombre_sain          3744\n",
    "nombre_exposed         55\n",
    "nombre_recovered    16130\n",
    "Name: 146, dtype: int64"
   ]
  },
  {
   "cell_type": "markdown",
   "id": "33a99a90",
   "metadata": {},
   "source": [
    "nombre_infected        70\n",
    "nombre_sain          3753\n",
    "nombre_exposed         64\n",
    "nombre_recovered    16113\n",
    "Name: 147, dtype: int64"
   ]
  },
  {
   "cell_type": "markdown",
   "id": "8088d288",
   "metadata": {},
   "source": [
    "nombre_infected        83\n",
    "nombre_sain          3786\n",
    "nombre_exposed         60\n",
    "nombre_recovered    16071\n",
    "Name: 148, dtype: int64"
   ]
  },
  {
   "cell_type": "markdown",
   "id": "acc819b6",
   "metadata": {},
   "source": [
    "nombre_infected        95\n",
    "nombre_sain          3818\n",
    "nombre_exposed         62\n",
    "nombre_recovered    16025\n",
    "Name: 149, dtype: int64"
   ]
  },
  {
   "cell_type": "markdown",
   "id": "31953aa8",
   "metadata": {},
   "source": [
    "nombre_infected        99\n",
    "nombre_sain          3843\n",
    "nombre_exposed         63\n",
    "nombre_recovered    15995\n",
    "Name: 150, dtype: int64"
   ]
  },
  {
   "cell_type": "markdown",
   "id": "e0995912",
   "metadata": {},
   "source": [
    "nombre_infected        97\n",
    "nombre_sain          3876\n",
    "nombre_exposed         70\n",
    "nombre_recovered    15957\n",
    "Name: 151, dtype: int64"
   ]
  },
  {
   "cell_type": "markdown",
   "id": "fa874fbc",
   "metadata": {},
   "source": [
    "nombre_infected       103\n",
    "nombre_sain          3889\n",
    "nombre_exposed         79\n",
    "nombre_recovered    15929\n",
    "Name: 152, dtype: int64"
   ]
  },
  {
   "cell_type": "markdown",
   "id": "ce58c307",
   "metadata": {},
   "source": [
    "nombre_infected       112\n",
    "nombre_sain          3912\n",
    "nombre_exposed         81\n",
    "nombre_recovered    15895\n",
    "Name: 153, dtype: int64"
   ]
  },
  {
   "cell_type": "markdown",
   "id": "f62acd21",
   "metadata": {},
   "source": [
    "nombre_infected       114\n",
    "nombre_sain          3949\n",
    "nombre_exposed         85\n",
    "nombre_recovered    15852\n",
    "Name: 154, dtype: int64"
   ]
  },
  {
   "cell_type": "markdown",
   "id": "e606ac0f",
   "metadata": {},
   "source": [
    "nombre_infected       124\n",
    "nombre_sain          3980\n",
    "nombre_exposed         86\n",
    "nombre_recovered    15810\n",
    "Name: 155, dtype: int64"
   ]
  },
  {
   "cell_type": "markdown",
   "id": "b9991d9c",
   "metadata": {},
   "source": [
    "nombre_infected       121\n",
    "nombre_sain          4014\n",
    "nombre_exposed         98\n",
    "nombre_recovered    15767\n",
    "Name: 156, dtype: int64"
   ]
  },
  {
   "cell_type": "markdown",
   "id": "a56fcbbe",
   "metadata": {},
   "source": [
    "nombre_infected       124\n",
    "nombre_sain          4047\n",
    "nombre_exposed        106\n",
    "nombre_recovered    15723\n",
    "Name: 157, dtype: int64"
   ]
  },
  {
   "cell_type": "markdown",
   "id": "56c99c40",
   "metadata": {},
   "source": [
    "nombre_infected       137\n",
    "nombre_sain          4082\n",
    "nombre_exposed        109\n",
    "nombre_recovered    15672\n",
    "Name: 158, dtype: int64"
   ]
  },
  {
   "cell_type": "markdown",
   "id": "6bbb8f2b",
   "metadata": {},
   "source": [
    "nombre_infected       159\n",
    "nombre_sain          4098\n",
    "nombre_exposed        117\n",
    "nombre_recovered    15626\n",
    "Name: 159, dtype: int64"
   ]
  },
  {
   "cell_type": "markdown",
   "id": "5a34ecd1",
   "metadata": {},
   "source": [
    "nombre_infected       165\n",
    "nombre_sain          4113\n",
    "nombre_exposed        123\n",
    "nombre_recovered    15599\n",
    "Name: 160, dtype: int64"
   ]
  },
  {
   "cell_type": "markdown",
   "id": "0efcbc09",
   "metadata": {},
   "source": [
    "nombre_infected       172\n",
    "nombre_sain          4121\n",
    "nombre_exposed        137\n",
    "nombre_recovered    15570\n",
    "Name: 161, dtype: int64"
   ]
  },
  {
   "cell_type": "markdown",
   "id": "363e6624",
   "metadata": {},
   "source": [
    "nombre_infected       188\n",
    "nombre_sain          4132\n",
    "nombre_exposed        153\n",
    "nombre_recovered    15527\n",
    "Name: 162, dtype: int64"
   ]
  },
  {
   "cell_type": "markdown",
   "id": "4c571295",
   "metadata": {},
   "source": [
    "nombre_infected       198\n",
    "nombre_sain          4128\n",
    "nombre_exposed        178\n",
    "nombre_recovered    15496\n",
    "Name: 163, dtype: int64"
   ]
  },
  {
   "cell_type": "markdown",
   "id": "7e5dbc90",
   "metadata": {},
   "source": [
    "nombre_infected       205\n",
    "nombre_sain          4152\n",
    "nombre_exposed        187\n",
    "nombre_recovered    15456\n",
    "Name: 164, dtype: int64"
   ]
  },
  {
   "cell_type": "markdown",
   "id": "37404f55",
   "metadata": {},
   "source": [
    "nombre_infected       224\n",
    "nombre_sain          4152\n",
    "nombre_exposed        193\n",
    "nombre_recovered    15431\n",
    "Name: 165, dtype: int64"
   ]
  },
  {
   "cell_type": "markdown",
   "id": "c38a108e",
   "metadata": {},
   "source": [
    "nombre_infected       248\n",
    "nombre_sain          4142\n",
    "nombre_exposed        207\n",
    "nombre_recovered    15403\n",
    "Name: 166, dtype: int64"
   ]
  },
  {
   "cell_type": "markdown",
   "id": "fd25a968",
   "metadata": {},
   "source": [
    "nombre_infected       258\n",
    "nombre_sain          4116\n",
    "nombre_exposed        220\n",
    "nombre_recovered    15406\n",
    "Name: 167, dtype: int64"
   ]
  },
  {
   "cell_type": "markdown",
   "id": "85c61bda",
   "metadata": {},
   "source": [
    "nombre_infected       283\n",
    "nombre_sain          4090\n",
    "nombre_exposed        241\n",
    "nombre_recovered    15386\n",
    "Name: 168, dtype: int64"
   ]
  },
  {
   "cell_type": "markdown",
   "id": "b5980037",
   "metadata": {},
   "source": [
    "nombre_infected       302\n",
    "nombre_sain          4088\n",
    "nombre_exposed        245\n",
    "nombre_recovered    15365\n",
    "Name: 169, dtype: int64"
   ]
  },
  {
   "cell_type": "markdown",
   "id": "7c3e3a5e",
   "metadata": {},
   "source": [
    "nombre_infected       319\n",
    "nombre_sain          4047\n",
    "nombre_exposed        274\n",
    "nombre_recovered    15360\n",
    "Name: 170, dtype: int64"
   ]
  },
  {
   "cell_type": "markdown",
   "id": "489d35cd",
   "metadata": {},
   "source": [
    "nombre_infected       344\n",
    "nombre_sain          4026\n",
    "nombre_exposed        281\n",
    "nombre_recovered    15349\n",
    "Name: 171, dtype: int64"
   ]
  },
  {
   "cell_type": "markdown",
   "id": "0ac2e74c",
   "metadata": {},
   "source": [
    "nombre_infected       376\n",
    "nombre_sain          3990\n",
    "nombre_exposed        289\n",
    "nombre_recovered    15345\n",
    "Name: 172, dtype: int64"
   ]
  },
  {
   "cell_type": "markdown",
   "id": "60c58bb9",
   "metadata": {},
   "source": [
    "nombre_infected       390\n",
    "nombre_sain          3952\n",
    "nombre_exposed        317\n",
    "nombre_recovered    15341\n",
    "Name: 173, dtype: int64"
   ]
  },
  {
   "cell_type": "markdown",
   "id": "f7739bec",
   "metadata": {},
   "source": [
    "nombre_infected       414\n",
    "nombre_sain          3905\n",
    "nombre_exposed        344\n",
    "nombre_recovered    15337\n",
    "Name: 174, dtype: int64"
   ]
  },
  {
   "cell_type": "markdown",
   "id": "88f2f123",
   "metadata": {},
   "source": [
    "nombre_infected       428\n",
    "nombre_sain          3849\n",
    "nombre_exposed        354\n",
    "nombre_recovered    15369\n",
    "Name: 175, dtype: int64"
   ]
  },
  {
   "cell_type": "markdown",
   "id": "f3c73956",
   "metadata": {},
   "source": [
    "nombre_infected       454\n",
    "nombre_sain          3776\n",
    "nombre_exposed        383\n",
    "nombre_recovered    15387\n",
    "Name: 176, dtype: int64"
   ]
  },
  {
   "cell_type": "markdown",
   "id": "f2e66a56",
   "metadata": {},
   "source": [
    "nombre_infected       482\n",
    "nombre_sain          3722\n",
    "nombre_exposed        390\n",
    "nombre_recovered    15406\n",
    "Name: 177, dtype: int64"
   ]
  },
  {
   "cell_type": "markdown",
   "id": "dff99e99",
   "metadata": {},
   "source": [
    "nombre_infected       527\n",
    "nombre_sain          3644\n",
    "nombre_exposed        415\n",
    "nombre_recovered    15414\n",
    "Name: 178, dtype: int64"
   ]
  },
  {
   "cell_type": "markdown",
   "id": "1a96a4a0",
   "metadata": {},
   "source": [
    "nombre_infected       567\n",
    "nombre_sain          3563\n",
    "nombre_exposed        444\n",
    "nombre_recovered    15426\n",
    "Name: 179, dtype: int64"
   ]
  },
  {
   "cell_type": "markdown",
   "id": "717995bc",
   "metadata": {},
   "source": [
    "nombre_infected       588\n",
    "nombre_sain          3487\n",
    "nombre_exposed        463\n",
    "nombre_recovered    15462\n",
    "Name: 180, dtype: int64"
   ]
  },
  {
   "cell_type": "markdown",
   "id": "a0bc2ca7",
   "metadata": {},
   "source": [
    "nombre_infected       622\n",
    "nombre_sain          3434\n",
    "nombre_exposed        475\n",
    "nombre_recovered    15469\n",
    "Name: 181, dtype: int64"
   ]
  },
  {
   "cell_type": "markdown",
   "id": "3e756954",
   "metadata": {},
   "source": [
    "nombre_infected       658\n",
    "nombre_sain          3374\n",
    "nombre_exposed        464\n",
    "nombre_recovered    15504\n",
    "Name: 182, dtype: int64"
   ]
  },
  {
   "cell_type": "markdown",
   "id": "a898a869",
   "metadata": {},
   "source": [
    "nombre_infected       690\n",
    "nombre_sain          3295\n",
    "nombre_exposed        481\n",
    "nombre_recovered    15534\n",
    "Name: 183, dtype: int64"
   ]
  },
  {
   "cell_type": "markdown",
   "id": "5fd682fe",
   "metadata": {},
   "source": [
    "nombre_infected       727\n",
    "nombre_sain          3224\n",
    "nombre_exposed        509\n",
    "nombre_recovered    15540\n",
    "Name: 184, dtype: int64"
   ]
  },
  {
   "cell_type": "markdown",
   "id": "4eb14b02",
   "metadata": {},
   "source": [
    "nombre_infected       745\n",
    "nombre_sain          3120\n",
    "nombre_exposed        525\n",
    "nombre_recovered    15610\n",
    "Name: 185, dtype: int64"
   ]
  },
  {
   "cell_type": "markdown",
   "id": "58e7eeda",
   "metadata": {},
   "source": [
    "nombre_infected       769\n",
    "nombre_sain          3031\n",
    "nombre_exposed        529\n",
    "nombre_recovered    15671\n",
    "Name: 186, dtype: int64"
   ]
  },
  {
   "cell_type": "markdown",
   "id": "5ffd3647",
   "metadata": {},
   "source": [
    "nombre_infected       785\n",
    "nombre_sain          2941\n",
    "nombre_exposed        547\n",
    "nombre_recovered    15727\n",
    "Name: 187, dtype: int64"
   ]
  },
  {
   "cell_type": "markdown",
   "id": "ef6bd4a4",
   "metadata": {},
   "source": [
    "nombre_infected       854\n",
    "nombre_sain          2859\n",
    "nombre_exposed        522\n",
    "nombre_recovered    15765\n",
    "Name: 188, dtype: int64"
   ]
  },
  {
   "cell_type": "markdown",
   "id": "1f4e851a",
   "metadata": {},
   "source": [
    "nombre_infected       882\n",
    "nombre_sain          2755\n",
    "nombre_exposed        536\n",
    "nombre_recovered    15827\n",
    "Name: 189, dtype: int64"
   ]
  },
  {
   "cell_type": "markdown",
   "id": "3d27614f",
   "metadata": {},
   "source": [
    "nombre_infected       904\n",
    "nombre_sain          2678\n",
    "nombre_exposed        538\n",
    "nombre_recovered    15880\n",
    "Name: 190, dtype: int64"
   ]
  },
  {
   "cell_type": "markdown",
   "id": "44550f80",
   "metadata": {},
   "source": [
    "nombre_infected       901\n",
    "nombre_sain          2597\n",
    "nombre_exposed        533\n",
    "nombre_recovered    15969\n",
    "Name: 191, dtype: int64"
   ]
  },
  {
   "cell_type": "markdown",
   "id": "748dd0c0",
   "metadata": {},
   "source": [
    "nombre_infected       929\n",
    "nombre_sain          2517\n",
    "nombre_exposed        534\n",
    "nombre_recovered    16020\n",
    "Name: 192, dtype: int64"
   ]
  },
  {
   "cell_type": "markdown",
   "id": "c532c83d",
   "metadata": {},
   "source": [
    "nombre_infected       927\n",
    "nombre_sain          2442\n",
    "nombre_exposed        542\n",
    "nombre_recovered    16089\n",
    "Name: 193, dtype: int64"
   ]
  },
  {
   "cell_type": "markdown",
   "id": "a407461f",
   "metadata": {},
   "source": [
    "nombre_infected       907\n",
    "nombre_sain          2362\n",
    "nombre_exposed        555\n",
    "nombre_recovered    16176\n",
    "Name: 194, dtype: int64"
   ]
  },
  {
   "cell_type": "markdown",
   "id": "ccca7145",
   "metadata": {},
   "source": [
    "nombre_infected       893\n",
    "nombre_sain          2311\n",
    "nombre_exposed        545\n",
    "nombre_recovered    16251\n",
    "Name: 195, dtype: int64"
   ]
  },
  {
   "cell_type": "markdown",
   "id": "2ab0a5ae",
   "metadata": {},
   "source": [
    "nombre_infected       903\n",
    "nombre_sain          2241\n",
    "nombre_exposed        536\n",
    "nombre_recovered    16320\n",
    "Name: 196, dtype: int64"
   ]
  },
  {
   "cell_type": "markdown",
   "id": "b667aa7d",
   "metadata": {},
   "source": [
    "nombre_infected       935\n",
    "nombre_sain          2188\n",
    "nombre_exposed        500\n",
    "nombre_recovered    16377\n",
    "Name: 197, dtype: int64"
   ]
  },
  {
   "cell_type": "markdown",
   "id": "afe05f1c",
   "metadata": {},
   "source": [
    "nombre_infected       937\n",
    "nombre_sain          2147\n",
    "nombre_exposed        485\n",
    "nombre_recovered    16431\n",
    "Name: 198, dtype: int64"
   ]
  },
  {
   "cell_type": "markdown",
   "id": "7ebfe860",
   "metadata": {},
   "source": [
    "nombre_infected       937\n",
    "nombre_sain          2108\n",
    "nombre_exposed        482\n",
    "nombre_recovered    16473\n",
    "Name: 199, dtype: int64"
   ]
  },
  {
   "cell_type": "markdown",
   "id": "76daa68e",
   "metadata": {},
   "source": [
    "nombre_infected       950\n",
    "nombre_sain          2070\n",
    "nombre_exposed        456\n",
    "nombre_recovered    16524\n",
    "Name: 200, dtype: int64"
   ]
  },
  {
   "cell_type": "markdown",
   "id": "c7500636",
   "metadata": {},
   "source": [
    "nombre_infected       954\n",
    "nombre_sain          2012\n",
    "nombre_exposed        456\n",
    "nombre_recovered    16578\n",
    "Name: 201, dtype: int64"
   ]
  },
  {
   "cell_type": "markdown",
   "id": "906fe224",
   "metadata": {},
   "source": [
    "nombre_infected       926\n",
    "nombre_sain          1974\n",
    "nombre_exposed        474\n",
    "nombre_recovered    16626\n",
    "Name: 202, dtype: int64"
   ]
  },
  {
   "cell_type": "markdown",
   "id": "5f33ffd7",
   "metadata": {},
   "source": [
    "nombre_infected       930\n",
    "nombre_sain          1954\n",
    "nombre_exposed        469\n",
    "nombre_recovered    16647\n",
    "Name: 203, dtype: int64"
   ]
  },
  {
   "cell_type": "markdown",
   "id": "4c2708b7",
   "metadata": {},
   "source": [
    "nombre_infected       901\n",
    "nombre_sain          1903\n",
    "nombre_exposed        464\n",
    "nombre_recovered    16732\n",
    "Name: 204, dtype: int64"
   ]
  },
  {
   "cell_type": "markdown",
   "id": "6c4efad3",
   "metadata": {},
   "source": [
    "nombre_infected       880\n",
    "nombre_sain          1881\n",
    "nombre_exposed        472\n",
    "nombre_recovered    16767\n",
    "Name: 205, dtype: int64"
   ]
  },
  {
   "cell_type": "markdown",
   "id": "942cb50a",
   "metadata": {},
   "source": [
    "nombre_infected       879\n",
    "nombre_sain          1833\n",
    "nombre_exposed        460\n",
    "nombre_recovered    16828\n",
    "Name: 206, dtype: int64"
   ]
  },
  {
   "cell_type": "markdown",
   "id": "c8815cc9",
   "metadata": {},
   "source": [
    "nombre_infected       857\n",
    "nombre_sain          1821\n",
    "nombre_exposed        439\n",
    "nombre_recovered    16883\n",
    "Name: 207, dtype: int64"
   ]
  },
  {
   "cell_type": "markdown",
   "id": "8e48e9ab",
   "metadata": {},
   "source": [
    "nombre_infected       856\n",
    "nombre_sain          1811\n",
    "nombre_exposed        419\n",
    "nombre_recovered    16914\n",
    "Name: 208, dtype: int64"
   ]
  },
  {
   "cell_type": "markdown",
   "id": "53a9e630",
   "metadata": {},
   "source": [
    "nombre_infected       854\n",
    "nombre_sain          1770\n",
    "nombre_exposed        414\n",
    "nombre_recovered    16962\n",
    "Name: 209, dtype: int64"
   ]
  },
  {
   "cell_type": "markdown",
   "id": "16e722d5",
   "metadata": {},
   "source": [
    "nombre_infected       834\n",
    "nombre_sain          1734\n",
    "nombre_exposed        406\n",
    "nombre_recovered    17026\n",
    "Name: 210, dtype: int64"
   ]
  },
  {
   "cell_type": "markdown",
   "id": "a93429d3",
   "metadata": {},
   "source": [
    "nombre_infected       821\n",
    "nombre_sain          1720\n",
    "nombre_exposed        413\n",
    "nombre_recovered    17046\n",
    "Name: 211, dtype: int64"
   ]
  },
  {
   "cell_type": "markdown",
   "id": "9fa6fc5e",
   "metadata": {},
   "source": [
    "nombre_infected       804\n",
    "nombre_sain          1709\n",
    "nombre_exposed        404\n",
    "nombre_recovered    17083\n",
    "Name: 212, dtype: int64"
   ]
  },
  {
   "cell_type": "markdown",
   "id": "d2d0a90c",
   "metadata": {},
   "source": [
    "nombre_infected       781\n",
    "nombre_sain          1705\n",
    "nombre_exposed        398\n",
    "nombre_recovered    17116\n",
    "Name: 213, dtype: int64"
   ]
  },
  {
   "cell_type": "markdown",
   "id": "7a7aa8ce",
   "metadata": {},
   "source": [
    "nombre_infected       756\n",
    "nombre_sain          1723\n",
    "nombre_exposed        374\n",
    "nombre_recovered    17147\n",
    "Name: 214, dtype: int64"
   ]
  },
  {
   "cell_type": "markdown",
   "id": "42ab7f01",
   "metadata": {},
   "source": [
    "nombre_infected       754\n",
    "nombre_sain          1722\n",
    "nombre_exposed        352\n",
    "nombre_recovered    17172\n",
    "Name: 215, dtype: int64"
   ]
  },
  {
   "cell_type": "markdown",
   "id": "d9264a5e",
   "metadata": {},
   "source": [
    "nombre_infected       728\n",
    "nombre_sain          1722\n",
    "nombre_exposed        344\n",
    "nombre_recovered    17206\n",
    "Name: 216, dtype: int64"
   ]
  },
  {
   "cell_type": "markdown",
   "id": "7f2da841",
   "metadata": {},
   "source": [
    "nombre_infected       720\n",
    "nombre_sain          1705\n",
    "nombre_exposed        338\n",
    "nombre_recovered    17237\n",
    "Name: 217, dtype: int64"
   ]
  },
  {
   "cell_type": "markdown",
   "id": "87913d43",
   "metadata": {},
   "source": [
    "nombre_infected       708\n",
    "nombre_sain          1683\n",
    "nombre_exposed        353\n",
    "nombre_recovered    17256\n",
    "Name: 218, dtype: int64"
   ]
  },
  {
   "cell_type": "markdown",
   "id": "7026a828",
   "metadata": {},
   "source": [
    "nombre_infected       674\n",
    "nombre_sain          1656\n",
    "nombre_exposed        372\n",
    "nombre_recovered    17298\n",
    "Name: 219, dtype: int64"
   ]
  },
  {
   "cell_type": "markdown",
   "id": "694e9ee6",
   "metadata": {},
   "source": [
    "nombre_infected       679\n",
    "nombre_sain          1648\n",
    "nombre_exposed        346\n",
    "nombre_recovered    17327\n",
    "Name: 220, dtype: int64"
   ]
  },
  {
   "cell_type": "markdown",
   "id": "f2af4009",
   "metadata": {},
   "source": [
    "nombre_infected       676\n",
    "nombre_sain          1638\n",
    "nombre_exposed        339\n",
    "nombre_recovered    17347\n",
    "Name: 221, dtype: int64"
   ]
  },
  {
   "cell_type": "markdown",
   "id": "0353c4e3",
   "metadata": {},
   "source": [
    "nombre_infected       640\n",
    "nombre_sain          1626\n",
    "nombre_exposed        343\n",
    "nombre_recovered    17391\n",
    "Name: 222, dtype: int64"
   ]
  },
  {
   "cell_type": "markdown",
   "id": "e41716f6",
   "metadata": {},
   "source": [
    "nombre_infected       622\n",
    "nombre_sain          1611\n",
    "nombre_exposed        337\n",
    "nombre_recovered    17430\n",
    "Name: 223, dtype: int64"
   ]
  },
  {
   "cell_type": "markdown",
   "id": "a1c03c40",
   "metadata": {},
   "source": [
    "nombre_infected       623\n",
    "nombre_sain          1616\n",
    "nombre_exposed        303\n",
    "nombre_recovered    17458\n",
    "Name: 224, dtype: int64"
   ]
  },
  {
   "cell_type": "markdown",
   "id": "973333d7",
   "metadata": {},
   "source": [
    "nombre_infected       617\n",
    "nombre_sain          1602\n",
    "nombre_exposed        293\n",
    "nombre_recovered    17488\n",
    "Name: 225, dtype: int64"
   ]
  },
  {
   "cell_type": "markdown",
   "id": "c3e7e4da",
   "metadata": {},
   "source": [
    "nombre_infected       596\n",
    "nombre_sain          1616\n",
    "nombre_exposed        295\n",
    "nombre_recovered    17493\n",
    "Name: 226, dtype: int64"
   ]
  },
  {
   "cell_type": "markdown",
   "id": "4f7fd3d1",
   "metadata": {},
   "source": [
    "nombre_infected       577\n",
    "nombre_sain          1636\n",
    "nombre_exposed        296\n",
    "nombre_recovered    17491\n",
    "Name: 227, dtype: int64"
   ]
  },
  {
   "cell_type": "markdown",
   "id": "a2299c7e",
   "metadata": {},
   "source": [
    "nombre_infected       568\n",
    "nombre_sain          1637\n",
    "nombre_exposed        299\n",
    "nombre_recovered    17496\n",
    "Name: 228, dtype: int64"
   ]
  },
  {
   "cell_type": "markdown",
   "id": "8a9d75b2",
   "metadata": {},
   "source": [
    "nombre_infected       541\n",
    "nombre_sain          1662\n",
    "nombre_exposed        280\n",
    "nombre_recovered    17517\n",
    "Name: 229, dtype: int64"
   ]
  },
  {
   "cell_type": "markdown",
   "id": "b2829b36",
   "metadata": {},
   "source": [
    "nombre_infected       534\n",
    "nombre_sain          1696\n",
    "nombre_exposed        262\n",
    "nombre_recovered    17508\n",
    "Name: 230, dtype: int64"
   ]
  },
  {
   "cell_type": "markdown",
   "id": "fdc7bb49",
   "metadata": {},
   "source": [
    "nombre_infected       537\n",
    "nombre_sain          1727\n",
    "nombre_exposed        246\n",
    "nombre_recovered    17490\n",
    "Name: 231, dtype: int64"
   ]
  },
  {
   "cell_type": "markdown",
   "id": "828bb204",
   "metadata": {},
   "source": [
    "nombre_infected       536\n",
    "nombre_sain          1763\n",
    "nombre_exposed        228\n",
    "nombre_recovered    17473\n",
    "Name: 232, dtype: int64"
   ]
  },
  {
   "cell_type": "markdown",
   "id": "60bc5140",
   "metadata": {},
   "source": [
    "nombre_infected       510\n",
    "nombre_sain          1784\n",
    "nombre_exposed        236\n",
    "nombre_recovered    17470\n",
    "Name: 233, dtype: int64"
   ]
  },
  {
   "cell_type": "markdown",
   "id": "5b3b2973",
   "metadata": {},
   "source": [
    "nombre_infected       478\n",
    "nombre_sain          1828\n",
    "nombre_exposed        242\n",
    "nombre_recovered    17452\n",
    "Name: 234, dtype: int64"
   ]
  },
  {
   "cell_type": "markdown",
   "id": "5180cefa",
   "metadata": {},
   "source": [
    "nombre_infected       483\n",
    "nombre_sain          1839\n",
    "nombre_exposed        236\n",
    "nombre_recovered    17442\n",
    "Name: 235, dtype: int64"
   ]
  },
  {
   "cell_type": "markdown",
   "id": "1c917215",
   "metadata": {},
   "source": [
    "nombre_infected       468\n",
    "nombre_sain          1864\n",
    "nombre_exposed        224\n",
    "nombre_recovered    17444\n",
    "Name: 236, dtype: int64"
   ]
  },
  {
   "cell_type": "markdown",
   "id": "2595da17",
   "metadata": {},
   "source": [
    "nombre_infected       444\n",
    "nombre_sain          1891\n",
    "nombre_exposed        223\n",
    "nombre_recovered    17442\n",
    "Name: 237, dtype: int64"
   ]
  },
  {
   "cell_type": "markdown",
   "id": "9006d92f",
   "metadata": {},
   "source": [
    "nombre_infected       424\n",
    "nombre_sain          1915\n",
    "nombre_exposed        227\n",
    "nombre_recovered    17434\n",
    "Name: 238, dtype: int64"
   ]
  },
  {
   "cell_type": "markdown",
   "id": "8a873797",
   "metadata": {},
   "source": [
    "nombre_infected       415\n",
    "nombre_sain          1944\n",
    "nombre_exposed        222\n",
    "nombre_recovered    17419\n",
    "Name: 239, dtype: int64"
   ]
  },
  {
   "cell_type": "markdown",
   "id": "2415da57",
   "metadata": {},
   "source": [
    "nombre_infected       416\n",
    "nombre_sain          1983\n",
    "nombre_exposed        215\n",
    "nombre_recovered    17386\n",
    "Name: 240, dtype: int64"
   ]
  },
  {
   "cell_type": "markdown",
   "id": "02b7f667",
   "metadata": {},
   "source": [
    "nombre_infected       401\n",
    "nombre_sain          2022\n",
    "nombre_exposed        212\n",
    "nombre_recovered    17365\n",
    "Name: 241, dtype: int64"
   ]
  },
  {
   "cell_type": "markdown",
   "id": "a2ec584c",
   "metadata": {},
   "source": [
    "nombre_infected       393\n",
    "nombre_sain          2031\n",
    "nombre_exposed        221\n",
    "nombre_recovered    17355\n",
    "Name: 242, dtype: int64"
   ]
  },
  {
   "cell_type": "markdown",
   "id": "10764000",
   "metadata": {},
   "source": [
    "nombre_infected       388\n",
    "nombre_sain          2063\n",
    "nombre_exposed        212\n",
    "nombre_recovered    17337\n",
    "Name: 243, dtype: int64"
   ]
  },
  {
   "cell_type": "markdown",
   "id": "ba11be28",
   "metadata": {},
   "source": [
    "nombre_infected       373\n",
    "nombre_sain          2075\n",
    "nombre_exposed        210\n",
    "nombre_recovered    17342\n",
    "Name: 244, dtype: int64"
   ]
  },
  {
   "cell_type": "markdown",
   "id": "9fbb639b",
   "metadata": {},
   "source": [
    "nombre_infected       386\n",
    "nombre_sain          2129\n",
    "nombre_exposed        194\n",
    "nombre_recovered    17291\n",
    "Name: 245, dtype: int64"
   ]
  },
  {
   "cell_type": "markdown",
   "id": "c81ea690",
   "metadata": {},
   "source": [
    "nombre_infected       389\n",
    "nombre_sain          2170\n",
    "nombre_exposed        181\n",
    "nombre_recovered    17260\n",
    "Name: 246, dtype: int64"
   ]
  },
  {
   "cell_type": "markdown",
   "id": "a50b40db",
   "metadata": {},
   "source": [
    "nombre_infected       358\n",
    "nombre_sain          2179\n",
    "nombre_exposed        218\n",
    "nombre_recovered    17245\n",
    "Name: 247, dtype: int64"
   ]
  },
  {
   "cell_type": "markdown",
   "id": "1e007f13",
   "metadata": {},
   "source": [
    "nombre_infected       343\n",
    "nombre_sain          2208\n",
    "nombre_exposed        240\n",
    "nombre_recovered    17209\n",
    "Name: 248, dtype: int64"
   ]
  },
  {
   "cell_type": "markdown",
   "id": "201df3ba",
   "metadata": {},
   "source": [
    "nombre_infected       343\n",
    "nombre_sain          2253\n",
    "nombre_exposed        249\n",
    "nombre_recovered    17155\n",
    "Name: 249, dtype: int64"
   ]
  },
  {
   "cell_type": "markdown",
   "id": "fac0e5d1",
   "metadata": {},
   "source": [
    "nombre_infected       332\n",
    "nombre_sain          2295\n",
    "nombre_exposed        240\n",
    "nombre_recovered    17133\n",
    "Name: 250, dtype: int64"
   ]
  },
  {
   "cell_type": "markdown",
   "id": "8ab3ae3e",
   "metadata": {},
   "source": [
    "nombre_infected       354\n",
    "nombre_sain          2352\n",
    "nombre_exposed        230\n",
    "nombre_recovered    17064\n",
    "Name: 251, dtype: int64"
   ]
  },
  {
   "cell_type": "markdown",
   "id": "de160ef2",
   "metadata": {},
   "source": [
    "nombre_infected       362\n",
    "nombre_sain          2418\n",
    "nombre_exposed        228\n",
    "nombre_recovered    16992\n",
    "Name: 252, dtype: int64"
   ]
  },
  {
   "cell_type": "markdown",
   "id": "d15de511",
   "metadata": {},
   "source": [
    "nombre_infected       387\n",
    "nombre_sain          2461\n",
    "nombre_exposed        210\n",
    "nombre_recovered    16942\n",
    "Name: 253, dtype: int64"
   ]
  },
  {
   "cell_type": "markdown",
   "id": "045b9a5e",
   "metadata": {},
   "source": [
    "nombre_infected       390\n",
    "nombre_sain          2516\n",
    "nombre_exposed        225\n",
    "nombre_recovered    16869\n",
    "Name: 254, dtype: int64"
   ]
  },
  {
   "cell_type": "markdown",
   "id": "c0844b2c",
   "metadata": {},
   "source": [
    "nombre_infected       395\n",
    "nombre_sain          2550\n",
    "nombre_exposed        228\n",
    "nombre_recovered    16827\n",
    "Name: 255, dtype: int64"
   ]
  },
  {
   "cell_type": "markdown",
   "id": "347e2b6c",
   "metadata": {},
   "source": [
    "nombre_infected       406\n",
    "nombre_sain          2565\n",
    "nombre_exposed        244\n",
    "nombre_recovered    16785\n",
    "Name: 256, dtype: int64"
   ]
  },
  {
   "cell_type": "markdown",
   "id": "f58bacba",
   "metadata": {},
   "source": [
    "nombre_infected       409\n",
    "nombre_sain          2587\n",
    "nombre_exposed        253\n",
    "nombre_recovered    16751\n",
    "Name: 257, dtype: int64"
   ]
  },
  {
   "cell_type": "markdown",
   "id": "c2cb85c6",
   "metadata": {},
   "source": [
    "nombre_infected       407\n",
    "nombre_sain          2644\n",
    "nombre_exposed        252\n",
    "nombre_recovered    16697\n",
    "Name: 258, dtype: int64"
   ]
  },
  {
   "cell_type": "markdown",
   "id": "1f9c1d6c",
   "metadata": {},
   "source": [
    "nombre_infected       410\n",
    "nombre_sain          2663\n",
    "nombre_exposed        282\n",
    "nombre_recovered    16645\n",
    "Name: 259, dtype: int64"
   ]
  },
  {
   "cell_type": "markdown",
   "id": "1d2559a9",
   "metadata": {},
   "source": [
    "nombre_infected       420\n",
    "nombre_sain          2692\n",
    "nombre_exposed        276\n",
    "nombre_recovered    16612\n",
    "Name: 260, dtype: int64"
   ]
  },
  {
   "cell_type": "markdown",
   "id": "44b0de19",
   "metadata": {},
   "source": [
    "nombre_infected       436\n",
    "nombre_sain          2731\n",
    "nombre_exposed        266\n",
    "nombre_recovered    16567\n",
    "Name: 261, dtype: int64"
   ]
  },
  {
   "cell_type": "markdown",
   "id": "f614b86d",
   "metadata": {},
   "source": [
    "nombre_infected       445\n",
    "nombre_sain          2749\n",
    "nombre_exposed        273\n",
    "nombre_recovered    16533\n",
    "Name: 262, dtype: int64"
   ]
  },
  {
   "cell_type": "markdown",
   "id": "0a97dd52",
   "metadata": {},
   "source": [
    "nombre_infected       453\n",
    "nombre_sain          2766\n",
    "nombre_exposed        281\n",
    "nombre_recovered    16500\n",
    "Name: 263, dtype: int64"
   ]
  },
  {
   "cell_type": "markdown",
   "id": "f964805c",
   "metadata": {},
   "source": [
    "nombre_infected       463\n",
    "nombre_sain          2772\n",
    "nombre_exposed        280\n",
    "nombre_recovered    16485\n",
    "Name: 264, dtype: int64"
   ]
  },
  {
   "cell_type": "markdown",
   "id": "7f60bd59",
   "metadata": {},
   "source": [
    "nombre_infected       472\n",
    "nombre_sain          2772\n",
    "nombre_exposed        286\n",
    "nombre_recovered    16470\n",
    "Name: 265, dtype: int64"
   ]
  },
  {
   "cell_type": "markdown",
   "id": "901ba600",
   "metadata": {},
   "source": [
    "nombre_infected       485\n",
    "nombre_sain          2782\n",
    "nombre_exposed        284\n",
    "nombre_recovered    16449\n",
    "Name: 266, dtype: int64"
   ]
  },
  {
   "cell_type": "markdown",
   "id": "d756d7b3",
   "metadata": {},
   "source": [
    "nombre_infected       502\n",
    "nombre_sain          2803\n",
    "nombre_exposed        279\n",
    "nombre_recovered    16416\n",
    "Name: 267, dtype: int64"
   ]
  },
  {
   "cell_type": "markdown",
   "id": "89513f20",
   "metadata": {},
   "source": [
    "nombre_infected       511\n",
    "nombre_sain          2781\n",
    "nombre_exposed        309\n",
    "nombre_recovered    16399\n",
    "Name: 268, dtype: int64"
   ]
  },
  {
   "cell_type": "markdown",
   "id": "674ea737",
   "metadata": {},
   "source": [
    "nombre_infected       527\n",
    "nombre_sain          2768\n",
    "nombre_exposed        317\n",
    "nombre_recovered    16388\n",
    "Name: 269, dtype: int64"
   ]
  },
  {
   "cell_type": "markdown",
   "id": "492880aa",
   "metadata": {},
   "source": [
    "nombre_infected       538\n",
    "nombre_sain          2765\n",
    "nombre_exposed        314\n",
    "nombre_recovered    16383\n",
    "Name: 270, dtype: int64"
   ]
  },
  {
   "cell_type": "markdown",
   "id": "bfcc4d2a",
   "metadata": {},
   "source": [
    "nombre_infected       555\n",
    "nombre_sain          2767\n",
    "nombre_exposed        303\n",
    "nombre_recovered    16375\n",
    "Name: 271, dtype: int64"
   ]
  },
  {
   "cell_type": "markdown",
   "id": "84ee54cb",
   "metadata": {},
   "source": [
    "nombre_infected       547\n",
    "nombre_sain          2754\n",
    "nombre_exposed        333\n",
    "nombre_recovered    16366\n",
    "Name: 272, dtype: int64"
   ]
  },
  {
   "cell_type": "markdown",
   "id": "63ca63e8",
   "metadata": {},
   "source": [
    "nombre_infected       548\n",
    "nombre_sain          2757\n",
    "nombre_exposed        329\n",
    "nombre_recovered    16366\n",
    "Name: 273, dtype: int64"
   ]
  },
  {
   "cell_type": "markdown",
   "id": "ca78ae04",
   "metadata": {},
   "source": [
    "nombre_infected       550\n",
    "nombre_sain          2762\n",
    "nombre_exposed        344\n",
    "nombre_recovered    16344\n",
    "Name: 274, dtype: int64"
   ]
  },
  {
   "cell_type": "markdown",
   "id": "8a0dec1c",
   "metadata": {},
   "source": [
    "nombre_infected       563\n",
    "nombre_sain          2775\n",
    "nombre_exposed        345\n",
    "nombre_recovered    16317\n",
    "Name: 275, dtype: int64"
   ]
  },
  {
   "cell_type": "markdown",
   "id": "4cb5ad2a",
   "metadata": {},
   "source": [
    "nombre_infected       582\n",
    "nombre_sain          2759\n",
    "nombre_exposed        355\n",
    "nombre_recovered    16304\n",
    "Name: 276, dtype: int64"
   ]
  },
  {
   "cell_type": "markdown",
   "id": "063bdac8",
   "metadata": {},
   "source": [
    "nombre_infected       598\n",
    "nombre_sain          2762\n",
    "nombre_exposed        345\n",
    "nombre_recovered    16295\n",
    "Name: 277, dtype: int64"
   ]
  },
  {
   "cell_type": "markdown",
   "id": "e84e835f",
   "metadata": {},
   "source": [
    "nombre_infected       608\n",
    "nombre_sain          2782\n",
    "nombre_exposed        347\n",
    "nombre_recovered    16263\n",
    "Name: 278, dtype: int64"
   ]
  },
  {
   "cell_type": "markdown",
   "id": "29a0433a",
   "metadata": {},
   "source": [
    "nombre_infected       613\n",
    "nombre_sain          2770\n",
    "nombre_exposed        367\n",
    "nombre_recovered    16250\n",
    "Name: 279, dtype: int64"
   ]
  },
  {
   "cell_type": "markdown",
   "id": "08575750",
   "metadata": {},
   "source": [
    "nombre_infected       620\n",
    "nombre_sain          2755\n",
    "nombre_exposed        376\n",
    "nombre_recovered    16249\n",
    "Name: 280, dtype: int64"
   ]
  },
  {
   "cell_type": "markdown",
   "id": "d6b238b0",
   "metadata": {},
   "source": [
    "nombre_infected       607\n",
    "nombre_sain          2760\n",
    "nombre_exposed        382\n",
    "nombre_recovered    16251\n",
    "Name: 281, dtype: int64"
   ]
  },
  {
   "cell_type": "markdown",
   "id": "9b5e5cab",
   "metadata": {},
   "source": [
    "nombre_infected       614\n",
    "nombre_sain          2736\n",
    "nombre_exposed        394\n",
    "nombre_recovered    16256\n",
    "Name: 282, dtype: int64"
   ]
  },
  {
   "cell_type": "markdown",
   "id": "0003984f",
   "metadata": {},
   "source": [
    "nombre_infected       642\n",
    "nombre_sain          2707\n",
    "nombre_exposed        406\n",
    "nombre_recovered    16245\n",
    "Name: 283, dtype: int64"
   ]
  },
  {
   "cell_type": "markdown",
   "id": "4dec063f",
   "metadata": {},
   "source": [
    "nombre_infected       651\n",
    "nombre_sain          2713\n",
    "nombre_exposed        407\n",
    "nombre_recovered    16229\n",
    "Name: 284, dtype: int64"
   ]
  },
  {
   "cell_type": "markdown",
   "id": "ec988946",
   "metadata": {},
   "source": [
    "nombre_infected       680\n",
    "nombre_sain          2707\n",
    "nombre_exposed        391\n",
    "nombre_recovered    16222\n",
    "Name: 285, dtype: int64"
   ]
  },
  {
   "cell_type": "markdown",
   "id": "184512b2",
   "metadata": {},
   "source": [
    "nombre_infected       688\n",
    "nombre_sain          2665\n",
    "nombre_exposed        413\n",
    "nombre_recovered    16234\n",
    "Name: 286, dtype: int64"
   ]
  },
  {
   "cell_type": "markdown",
   "id": "cef07db8",
   "metadata": {},
   "source": [
    "nombre_infected       691\n",
    "nombre_sain          2652\n",
    "nombre_exposed        415\n",
    "nombre_recovered    16242\n",
    "Name: 287, dtype: int64"
   ]
  },
  {
   "cell_type": "markdown",
   "id": "3685ace9",
   "metadata": {},
   "source": [
    "nombre_infected       704\n",
    "nombre_sain          2620\n",
    "nombre_exposed        425\n",
    "nombre_recovered    16251\n",
    "Name: 288, dtype: int64"
   ]
  },
  {
   "cell_type": "markdown",
   "id": "f4641530",
   "metadata": {},
   "source": [
    "nombre_infected       699\n",
    "nombre_sain          2576\n",
    "nombre_exposed        450\n",
    "nombre_recovered    16275\n",
    "Name: 289, dtype: int64"
   ]
  },
  {
   "cell_type": "markdown",
   "id": "3fe9658f",
   "metadata": {},
   "source": [
    "nombre_infected       698\n",
    "nombre_sain          2569\n",
    "nombre_exposed        456\n",
    "nombre_recovered    16277\n",
    "Name: 290, dtype: int64"
   ]
  },
  {
   "cell_type": "markdown",
   "id": "991e5e0c",
   "metadata": {},
   "source": [
    "nombre_infected       702\n",
    "nombre_sain          2531\n",
    "nombre_exposed        464\n",
    "nombre_recovered    16303\n",
    "Name: 291, dtype: int64"
   ]
  },
  {
   "cell_type": "markdown",
   "id": "437889f7",
   "metadata": {},
   "source": [
    "nombre_infected       699\n",
    "nombre_sain          2503\n",
    "nombre_exposed        453\n",
    "nombre_recovered    16345\n",
    "Name: 292, dtype: int64"
   ]
  },
  {
   "cell_type": "markdown",
   "id": "fa8b859a",
   "metadata": {},
   "source": [
    "nombre_infected       720\n",
    "nombre_sain          2464\n",
    "nombre_exposed        440\n",
    "nombre_recovered    16376\n",
    "Name: 293, dtype: int64"
   ]
  },
  {
   "cell_type": "markdown",
   "id": "7a72ac5a",
   "metadata": {},
   "source": [
    "nombre_infected       732\n",
    "nombre_sain          2444\n",
    "nombre_exposed        423\n",
    "nombre_recovered    16401\n",
    "Name: 294, dtype: int64"
   ]
  },
  {
   "cell_type": "markdown",
   "id": "8bc72ef2",
   "metadata": {},
   "source": [
    "nombre_infected       721\n",
    "nombre_sain          2404\n",
    "nombre_exposed        444\n",
    "nombre_recovered    16431\n",
    "Name: 295, dtype: int64"
   ]
  },
  {
   "cell_type": "markdown",
   "id": "14e9a275",
   "metadata": {},
   "source": [
    "nombre_infected       746\n",
    "nombre_sain          2394\n",
    "nombre_exposed        430\n",
    "nombre_recovered    16430\n",
    "Name: 296, dtype: int64"
   ]
  },
  {
   "cell_type": "markdown",
   "id": "de2c5f73",
   "metadata": {},
   "source": [
    "nombre_infected       759\n",
    "nombre_sain          2360\n",
    "nombre_exposed        430\n",
    "nombre_recovered    16451\n",
    "Name: 297, dtype: int64"
   ]
  },
  {
   "cell_type": "markdown",
   "id": "61e48810",
   "metadata": {},
   "source": [
    "nombre_infected       743\n",
    "nombre_sain          2318\n",
    "nombre_exposed        444\n",
    "nombre_recovered    16495\n",
    "Name: 298, dtype: int64"
   ]
  },
  {
   "cell_type": "markdown",
   "id": "63d35914",
   "metadata": {},
   "source": [
    "nombre_infected       752\n",
    "nombre_sain          2301\n",
    "nombre_exposed        440\n",
    "nombre_recovered    16507\n",
    "Name: 299, dtype: int64"
   ]
  },
  {
   "cell_type": "markdown",
   "id": "f8d20875",
   "metadata": {},
   "source": [
    "nombre_infected       778\n",
    "nombre_sain          2274\n",
    "nombre_exposed        422\n",
    "nombre_recovered    16526\n",
    "Name: 300, dtype: int64"
   ]
  },
  {
   "cell_type": "markdown",
   "id": "99df930b",
   "metadata": {},
   "source": [
    "nombre_infected       754\n",
    "nombre_sain          2237\n",
    "nombre_exposed        444\n",
    "nombre_recovered    16565\n",
    "Name: 301, dtype: int64"
   ]
  },
  {
   "cell_type": "markdown",
   "id": "223cea05",
   "metadata": {},
   "source": [
    "nombre_infected       750\n",
    "nombre_sain          2227\n",
    "nombre_exposed        450\n",
    "nombre_recovered    16573\n",
    "Name: 302, dtype: int64"
   ]
  },
  {
   "cell_type": "markdown",
   "id": "7a75203b",
   "metadata": {},
   "source": [
    "nombre_infected       753\n",
    "nombre_sain          2241\n",
    "nombre_exposed        435\n",
    "nombre_recovered    16571\n",
    "Name: 303, dtype: int64"
   ]
  },
  {
   "cell_type": "markdown",
   "id": "c9a84f0d",
   "metadata": {},
   "source": [
    "nombre_infected       767\n",
    "nombre_sain          2252\n",
    "nombre_exposed        414\n",
    "nombre_recovered    16567\n",
    "Name: 304, dtype: int64"
   ]
  },
  {
   "cell_type": "markdown",
   "id": "42acb1fd",
   "metadata": {},
   "source": [
    "nombre_infected       759\n",
    "nombre_sain          2214\n",
    "nombre_exposed        440\n",
    "nombre_recovered    16587\n",
    "Name: 305, dtype: int64"
   ]
  },
  {
   "cell_type": "markdown",
   "id": "0c519d8a",
   "metadata": {},
   "source": [
    "nombre_infected       748\n",
    "nombre_sain          2219\n",
    "nombre_exposed        428\n",
    "nombre_recovered    16605\n",
    "Name: 306, dtype: int64"
   ]
  },
  {
   "cell_type": "markdown",
   "id": "f5f9cf6c",
   "metadata": {},
   "source": [
    "nombre_infected       759\n",
    "nombre_sain          2203\n",
    "nombre_exposed        434\n",
    "nombre_recovered    16604\n",
    "Name: 307, dtype: int64"
   ]
  },
  {
   "cell_type": "markdown",
   "id": "72dce72b",
   "metadata": {},
   "source": [
    "nombre_infected       768\n",
    "nombre_sain          2180\n",
    "nombre_exposed        433\n",
    "nombre_recovered    16619\n",
    "Name: 308, dtype: int64"
   ]
  },
  {
   "cell_type": "markdown",
   "id": "dfa0cb04",
   "metadata": {},
   "source": [
    "nombre_infected       758\n",
    "nombre_sain          2194\n",
    "nombre_exposed        442\n",
    "nombre_recovered    16606\n",
    "Name: 309, dtype: int64"
   ]
  },
  {
   "cell_type": "markdown",
   "id": "3d0fc3ea",
   "metadata": {},
   "source": [
    "nombre_infected       769\n",
    "nombre_sain          2182\n",
    "nombre_exposed        440\n",
    "nombre_recovered    16609\n",
    "Name: 310, dtype: int64"
   ]
  },
  {
   "cell_type": "markdown",
   "id": "542d6e8f",
   "metadata": {},
   "source": [
    "nombre_infected       794\n",
    "nombre_sain          2165\n",
    "nombre_exposed        438\n",
    "nombre_recovered    16603\n",
    "Name: 311, dtype: int64"
   ]
  },
  {
   "cell_type": "markdown",
   "id": "c957467a",
   "metadata": {},
   "source": [
    "nombre_infected       770\n",
    "nombre_sain          2138\n",
    "nombre_exposed        461\n",
    "nombre_recovered    16631\n",
    "Name: 312, dtype: int64"
   ]
  },
  {
   "cell_type": "markdown",
   "id": "fbcd2691",
   "metadata": {},
   "source": [
    "nombre_infected       782\n",
    "nombre_sain          2124\n",
    "nombre_exposed        451\n",
    "nombre_recovered    16643\n",
    "Name: 313, dtype: int64"
   ]
  },
  {
   "cell_type": "markdown",
   "id": "64dfb5d4",
   "metadata": {},
   "source": [
    "nombre_infected       817\n",
    "nombre_sain          2091\n",
    "nombre_exposed        424\n",
    "nombre_recovered    16668\n",
    "Name: 314, dtype: int64"
   ]
  },
  {
   "cell_type": "markdown",
   "id": "5f2e85d4",
   "metadata": {},
   "source": [
    "nombre_infected       810\n",
    "nombre_sain          2101\n",
    "nombre_exposed        425\n",
    "nombre_recovered    16664\n",
    "Name: 315, dtype: int64"
   ]
  },
  {
   "cell_type": "markdown",
   "id": "20ef5879",
   "metadata": {},
   "source": [
    "nombre_infected       810\n",
    "nombre_sain          2100\n",
    "nombre_exposed        410\n",
    "nombre_recovered    16680\n",
    "Name: 316, dtype: int64"
   ]
  },
  {
   "cell_type": "markdown",
   "id": "303bdb24",
   "metadata": {},
   "source": [
    "nombre_infected       804\n",
    "nombre_sain          2096\n",
    "nombre_exposed        404\n",
    "nombre_recovered    16696\n",
    "Name: 317, dtype: int64"
   ]
  },
  {
   "cell_type": "markdown",
   "id": "69fd9596",
   "metadata": {},
   "source": [
    "nombre_infected       818\n",
    "nombre_sain          2094\n",
    "nombre_exposed        419\n",
    "nombre_recovered    16669\n",
    "Name: 318, dtype: int64"
   ]
  },
  {
   "cell_type": "markdown",
   "id": "6123e945",
   "metadata": {},
   "source": [
    "nombre_infected       807\n",
    "nombre_sain          2072\n",
    "nombre_exposed        434\n",
    "nombre_recovered    16687\n",
    "Name: 319, dtype: int64"
   ]
  },
  {
   "cell_type": "markdown",
   "id": "c4568575",
   "metadata": {},
   "source": [
    "nombre_infected       806\n",
    "nombre_sain          2064\n",
    "nombre_exposed        443\n",
    "nombre_recovered    16687\n",
    "Name: 320, dtype: int64"
   ]
  },
  {
   "cell_type": "markdown",
   "id": "a6c13fb7",
   "metadata": {},
   "source": [
    "nombre_infected       836\n",
    "nombre_sain          2099\n",
    "nombre_exposed        401\n",
    "nombre_recovered    16664\n",
    "Name: 321, dtype: int64"
   ]
  },
  {
   "cell_type": "markdown",
   "id": "2d14731c",
   "metadata": {},
   "source": [
    "nombre_infected       833\n",
    "nombre_sain          2086\n",
    "nombre_exposed        403\n",
    "nombre_recovered    16678\n",
    "Name: 322, dtype: int64"
   ]
  },
  {
   "cell_type": "markdown",
   "id": "0f42168c",
   "metadata": {},
   "source": [
    "nombre_infected       845\n",
    "nombre_sain          2077\n",
    "nombre_exposed        401\n",
    "nombre_recovered    16677\n",
    "Name: 323, dtype: int64"
   ]
  },
  {
   "cell_type": "markdown",
   "id": "58ace034",
   "metadata": {},
   "source": [
    "nombre_infected       814\n",
    "nombre_sain          2088\n",
    "nombre_exposed        437\n",
    "nombre_recovered    16661\n",
    "Name: 324, dtype: int64"
   ]
  },
  {
   "cell_type": "markdown",
   "id": "a437b78f",
   "metadata": {},
   "source": [
    "nombre_infected       815\n",
    "nombre_sain          2081\n",
    "nombre_exposed        437\n",
    "nombre_recovered    16667\n",
    "Name: 325, dtype: int64"
   ]
  },
  {
   "cell_type": "markdown",
   "id": "74dc61ed",
   "metadata": {},
   "source": [
    "nombre_infected       822\n",
    "nombre_sain          2080\n",
    "nombre_exposed        439\n",
    "nombre_recovered    16659\n",
    "Name: 326, dtype: int64"
   ]
  },
  {
   "cell_type": "markdown",
   "id": "4e0d548a",
   "metadata": {},
   "source": [
    "nombre_infected       809\n",
    "nombre_sain          2100\n",
    "nombre_exposed        436\n",
    "nombre_recovered    16655\n",
    "Name: 327, dtype: int64"
   ]
  },
  {
   "cell_type": "markdown",
   "id": "0c7b75fa",
   "metadata": {},
   "source": [
    "nombre_infected       818\n",
    "nombre_sain          2082\n",
    "nombre_exposed        446\n",
    "nombre_recovered    16654\n",
    "Name: 328, dtype: int64"
   ]
  },
  {
   "cell_type": "markdown",
   "id": "396c3b4e",
   "metadata": {},
   "source": [
    "nombre_infected       809\n",
    "nombre_sain          2084\n",
    "nombre_exposed        446\n",
    "nombre_recovered    16661\n",
    "Name: 329, dtype: int64"
   ]
  },
  {
   "cell_type": "markdown",
   "id": "941279e4",
   "metadata": {},
   "source": [
    "nombre_infected       821\n",
    "nombre_sain          2080\n",
    "nombre_exposed        450\n",
    "nombre_recovered    16649\n",
    "Name: 330, dtype: int64"
   ]
  },
  {
   "cell_type": "markdown",
   "id": "fa37525f",
   "metadata": {},
   "source": [
    "nombre_infected       836\n",
    "nombre_sain          2074\n",
    "nombre_exposed        463\n",
    "nombre_recovered    16627\n",
    "Name: 331, dtype: int64"
   ]
  },
  {
   "cell_type": "markdown",
   "id": "964cc4cf",
   "metadata": {},
   "source": [
    "nombre_infected       834\n",
    "nombre_sain          2086\n",
    "nombre_exposed        468\n",
    "nombre_recovered    16612\n",
    "Name: 332, dtype: int64"
   ]
  },
  {
   "cell_type": "markdown",
   "id": "b6cacd0a",
   "metadata": {},
   "source": [
    "nombre_infected       863\n",
    "nombre_sain          2104\n",
    "nombre_exposed        455\n",
    "nombre_recovered    16578\n",
    "Name: 333, dtype: int64"
   ]
  },
  {
   "cell_type": "markdown",
   "id": "811bb48a",
   "metadata": {},
   "source": [
    "nombre_infected       860\n",
    "nombre_sain          2100\n",
    "nombre_exposed        475\n",
    "nombre_recovered    16565\n",
    "Name: 334, dtype: int64"
   ]
  },
  {
   "cell_type": "markdown",
   "id": "4a37f1b7",
   "metadata": {},
   "source": [
    "nombre_infected       869\n",
    "nombre_sain          2089\n",
    "nombre_exposed        457\n",
    "nombre_recovered    16585\n",
    "Name: 335, dtype: int64"
   ]
  },
  {
   "cell_type": "markdown",
   "id": "b3864203",
   "metadata": {},
   "source": [
    "nombre_infected       890\n",
    "nombre_sain          2111\n",
    "nombre_exposed        445\n",
    "nombre_recovered    16554\n",
    "Name: 336, dtype: int64"
   ]
  },
  {
   "cell_type": "markdown",
   "id": "aadc53ba",
   "metadata": {},
   "source": [
    "nombre_infected       862\n",
    "nombre_sain          2113\n",
    "nombre_exposed        467\n",
    "nombre_recovered    16558\n",
    "Name: 337, dtype: int64"
   ]
  },
  {
   "cell_type": "markdown",
   "id": "d1fa721a",
   "metadata": {},
   "source": [
    "nombre_infected       850\n",
    "nombre_sain          2091\n",
    "nombre_exposed        473\n",
    "nombre_recovered    16586\n",
    "Name: 338, dtype: int64"
   ]
  },
  {
   "cell_type": "markdown",
   "id": "5191bd32",
   "metadata": {},
   "source": [
    "nombre_infected       860\n",
    "nombre_sain          2101\n",
    "nombre_exposed        462\n",
    "nombre_recovered    16577\n",
    "Name: 339, dtype: int64"
   ]
  },
  {
   "cell_type": "markdown",
   "id": "b0d37368",
   "metadata": {},
   "source": [
    "nombre_infected       889\n",
    "nombre_sain          2110\n",
    "nombre_exposed        437\n",
    "nombre_recovered    16564\n",
    "Name: 340, dtype: int64"
   ]
  },
  {
   "cell_type": "markdown",
   "id": "56fe5cd4",
   "metadata": {},
   "source": [
    "nombre_infected       871\n",
    "nombre_sain          2123\n",
    "nombre_exposed        435\n",
    "nombre_recovered    16571\n",
    "Name: 341, dtype: int64"
   ]
  },
  {
   "cell_type": "markdown",
   "id": "230b0025",
   "metadata": {},
   "source": [
    "nombre_infected       887\n",
    "nombre_sain          2112\n",
    "nombre_exposed        443\n",
    "nombre_recovered    16558\n",
    "Name: 342, dtype: int64"
   ]
  },
  {
   "cell_type": "markdown",
   "id": "19276737",
   "metadata": {},
   "source": [
    "nombre_infected       846\n",
    "nombre_sain          2106\n",
    "nombre_exposed        472\n",
    "nombre_recovered    16576\n",
    "Name: 343, dtype: int64"
   ]
  },
  {
   "cell_type": "markdown",
   "id": "62ef99d1",
   "metadata": {},
   "source": [
    "nombre_infected       837\n",
    "nombre_sain          2123\n",
    "nombre_exposed        451\n",
    "nombre_recovered    16589\n",
    "Name: 344, dtype: int64"
   ]
  },
  {
   "cell_type": "markdown",
   "id": "770fea8f",
   "metadata": {},
   "source": [
    "nombre_infected       826\n",
    "nombre_sain          2129\n",
    "nombre_exposed        449\n",
    "nombre_recovered    16596\n",
    "Name: 345, dtype: int64"
   ]
  },
  {
   "cell_type": "markdown",
   "id": "5dd93a57",
   "metadata": {},
   "source": [
    "nombre_infected       819\n",
    "nombre_sain          2147\n",
    "nombre_exposed        464\n",
    "nombre_recovered    16570\n",
    "Name: 346, dtype: int64"
   ]
  },
  {
   "cell_type": "markdown",
   "id": "2b8ed905",
   "metadata": {},
   "source": [
    "nombre_infected       817\n",
    "nombre_sain          2141\n",
    "nombre_exposed        464\n",
    "nombre_recovered    16578\n",
    "Name: 347, dtype: int64"
   ]
  },
  {
   "cell_type": "markdown",
   "id": "d029bb33",
   "metadata": {},
   "source": [
    "nombre_infected       813\n",
    "nombre_sain          2125\n",
    "nombre_exposed        485\n",
    "nombre_recovered    16577\n",
    "Name: 348, dtype: int64"
   ]
  },
  {
   "cell_type": "markdown",
   "id": "d3f2f525",
   "metadata": {},
   "source": [
    "nombre_infected       829\n",
    "nombre_sain          2113\n",
    "nombre_exposed        475\n",
    "nombre_recovered    16583\n",
    "Name: 349, dtype: int64"
   ]
  },
  {
   "cell_type": "markdown",
   "id": "a63285ce",
   "metadata": {},
   "source": [
    "nombre_infected       813\n",
    "nombre_sain          2098\n",
    "nombre_exposed        500\n",
    "nombre_recovered    16589\n",
    "Name: 350, dtype: int64"
   ]
  },
  {
   "cell_type": "markdown",
   "id": "41ee3da4",
   "metadata": {},
   "source": [
    "nombre_infected       827\n",
    "nombre_sain          2088\n",
    "nombre_exposed        494\n",
    "nombre_recovered    16591\n",
    "Name: 351, dtype: int64"
   ]
  },
  {
   "cell_type": "markdown",
   "id": "c2a151fb",
   "metadata": {},
   "source": [
    "nombre_infected       831\n",
    "nombre_sain          2103\n",
    "nombre_exposed        473\n",
    "nombre_recovered    16593\n",
    "Name: 352, dtype: int64"
   ]
  },
  {
   "cell_type": "markdown",
   "id": "fcc805d2",
   "metadata": {},
   "source": [
    "nombre_infected       856\n",
    "nombre_sain          2102\n",
    "nombre_exposed        456\n",
    "nombre_recovered    16586\n",
    "Name: 353, dtype: int64"
   ]
  },
  {
   "cell_type": "markdown",
   "id": "873838c2",
   "metadata": {},
   "source": [
    "nombre_infected       843\n",
    "nombre_sain          2112\n",
    "nombre_exposed        469\n",
    "nombre_recovered    16576\n",
    "Name: 354, dtype: int64"
   ]
  },
  {
   "cell_type": "markdown",
   "id": "494f4dd5",
   "metadata": {},
   "source": [
    "nombre_infected       852\n",
    "nombre_sain          2132\n",
    "nombre_exposed        449\n",
    "nombre_recovered    16567\n",
    "Name: 355, dtype: int64"
   ]
  },
  {
   "cell_type": "markdown",
   "id": "e81de077",
   "metadata": {},
   "source": [
    "nombre_infected       829\n",
    "nombre_sain          2141\n",
    "nombre_exposed        460\n",
    "nombre_recovered    16570\n",
    "Name: 356, dtype: int64"
   ]
  },
  {
   "cell_type": "markdown",
   "id": "54fceef7",
   "metadata": {},
   "source": [
    "nombre_infected       786\n",
    "nombre_sain          2142\n",
    "nombre_exposed        474\n",
    "nombre_recovered    16598\n",
    "Name: 357, dtype: int64"
   ]
  },
  {
   "cell_type": "markdown",
   "id": "608551e9",
   "metadata": {},
   "source": [
    "nombre_infected       784\n",
    "nombre_sain          2153\n",
    "nombre_exposed        461\n",
    "nombre_recovered    16602\n",
    "Name: 358, dtype: int64"
   ]
  },
  {
   "cell_type": "markdown",
   "id": "1cd4bf98",
   "metadata": {},
   "source": [
    "nombre_infected       789\n",
    "nombre_sain          2167\n",
    "nombre_exposed        454\n",
    "nombre_recovered    16590\n",
    "Name: 359, dtype: int64"
   ]
  },
  {
   "cell_type": "markdown",
   "id": "7a83b8b7",
   "metadata": {},
   "source": [
    "nombre_infected       792\n",
    "nombre_sain          2168\n",
    "nombre_exposed        454\n",
    "nombre_recovered    16586\n",
    "Name: 360, dtype: int64"
   ]
  },
  {
   "cell_type": "markdown",
   "id": "7de5df5f",
   "metadata": {},
   "source": [
    "nombre_infected       789\n",
    "nombre_sain          2173\n",
    "nombre_exposed        448\n",
    "nombre_recovered    16590\n",
    "Name: 361, dtype: int64"
   ]
  },
  {
   "cell_type": "markdown",
   "id": "7cda3e88",
   "metadata": {},
   "source": [
    "nombre_infected       774\n",
    "nombre_sain          2181\n",
    "nombre_exposed        446\n",
    "nombre_recovered    16599\n",
    "Name: 362, dtype: int64"
   ]
  },
  {
   "cell_type": "markdown",
   "id": "58e0d29f",
   "metadata": {},
   "source": [
    "nombre_infected       767\n",
    "nombre_sain          2144\n",
    "nombre_exposed        459\n",
    "nombre_recovered    16630\n",
    "Name: 363, dtype: int64"
   ]
  },
  {
   "cell_type": "markdown",
   "id": "c62880fd",
   "metadata": {},
   "source": [
    "nombre_infected       772\n",
    "nombre_sain          2129\n",
    "nombre_exposed        452\n",
    "nombre_recovered    16647\n",
    "Name: 364, dtype: int64"
   ]
  },
  {
   "cell_type": "markdown",
   "id": "e5e999ab",
   "metadata": {},
   "source": [
    "nombre_infected       757\n",
    "nombre_sain          2106\n",
    "nombre_exposed        461\n",
    "nombre_recovered    16676\n",
    "Name: 365, dtype: int64"
   ]
  },
  {
   "cell_type": "markdown",
   "id": "96b12ac8",
   "metadata": {},
   "source": [
    "nombre_infected       777\n",
    "nombre_sain          2100\n",
    "nombre_exposed        433\n",
    "nombre_recovered    16690\n",
    "Name: 366, dtype: int64"
   ]
  },
  {
   "cell_type": "markdown",
   "id": "b5aa8532",
   "metadata": {},
   "source": [
    "nombre_infected       812\n",
    "nombre_sain          2072\n",
    "nombre_exposed        395\n",
    "nombre_recovered    16721\n",
    "Name: 367, dtype: int64"
   ]
  },
  {
   "cell_type": "markdown",
   "id": "cbeb476e",
   "metadata": {},
   "source": [
    "nombre_infected       797\n",
    "nombre_sain          2049\n",
    "nombre_exposed        401\n",
    "nombre_recovered    16753\n",
    "Name: 368, dtype: int64"
   ]
  },
  {
   "cell_type": "markdown",
   "id": "cb79e2c3",
   "metadata": {},
   "source": [
    "nombre_infected       774\n",
    "nombre_sain          2032\n",
    "nombre_exposed        422\n",
    "nombre_recovered    16772\n",
    "Name: 369, dtype: int64"
   ]
  },
  {
   "cell_type": "markdown",
   "id": "4c67c821",
   "metadata": {},
   "source": [
    "nombre_infected       743\n",
    "nombre_sain          2028\n",
    "nombre_exposed        421\n",
    "nombre_recovered    16808\n",
    "Name: 370, dtype: int64"
   ]
  },
  {
   "cell_type": "markdown",
   "id": "3b980e72",
   "metadata": {},
   "source": [
    "nombre_infected       748\n",
    "nombre_sain          1976\n",
    "nombre_exposed        435\n",
    "nombre_recovered    16841\n",
    "Name: 371, dtype: int64"
   ]
  },
  {
   "cell_type": "markdown",
   "id": "11217b36",
   "metadata": {},
   "source": [
    "nombre_infected       750\n",
    "nombre_sain          1978\n",
    "nombre_exposed        439\n",
    "nombre_recovered    16833\n",
    "Name: 372, dtype: int64"
   ]
  },
  {
   "cell_type": "markdown",
   "id": "a1441aaa",
   "metadata": {},
   "source": [
    "nombre_infected       746\n",
    "nombre_sain          1954\n",
    "nombre_exposed        422\n",
    "nombre_recovered    16878\n",
    "Name: 373, dtype: int64"
   ]
  },
  {
   "cell_type": "markdown",
   "id": "2b7f0ade",
   "metadata": {},
   "source": [
    "nombre_infected       763\n",
    "nombre_sain          1961\n",
    "nombre_exposed        383\n",
    "nombre_recovered    16893\n",
    "Name: 374, dtype: int64"
   ]
  },
  {
   "cell_type": "markdown",
   "id": "24d9463e",
   "metadata": {},
   "source": [
    "nombre_infected       768\n",
    "nombre_sain          1955\n",
    "nombre_exposed        363\n",
    "nombre_recovered    16914\n",
    "Name: 375, dtype: int64"
   ]
  },
  {
   "cell_type": "markdown",
   "id": "c057b28a",
   "metadata": {},
   "source": [
    "nombre_infected       779\n",
    "nombre_sain          1961\n",
    "nombre_exposed        330\n",
    "nombre_recovered    16930\n",
    "Name: 376, dtype: int64"
   ]
  },
  {
   "cell_type": "markdown",
   "id": "c5f9f7ab",
   "metadata": {},
   "source": [
    "nombre_infected       757\n",
    "nombre_sain          1956\n",
    "nombre_exposed        331\n",
    "nombre_recovered    16956\n",
    "Name: 377, dtype: int64"
   ]
  },
  {
   "cell_type": "markdown",
   "id": "af9901ad",
   "metadata": {},
   "source": [
    "nombre_infected       721\n",
    "nombre_sain          1952\n",
    "nombre_exposed        336\n",
    "nombre_recovered    16991\n",
    "Name: 378, dtype: int64"
   ]
  },
  {
   "cell_type": "markdown",
   "id": "09696493",
   "metadata": {},
   "source": [
    "nombre_infected       707\n",
    "nombre_sain          1954\n",
    "nombre_exposed        334\n",
    "nombre_recovered    17005\n",
    "Name: 379, dtype: int64"
   ]
  },
  {
   "cell_type": "markdown",
   "id": "2cb4e69e",
   "metadata": {},
   "source": [
    "nombre_infected       670\n",
    "nombre_sain          1982\n",
    "nombre_exposed        333\n",
    "nombre_recovered    17015\n",
    "Name: 380, dtype: int64"
   ]
  },
  {
   "cell_type": "markdown",
   "id": "ca3d55c4",
   "metadata": {},
   "source": [
    "nombre_infected       670\n",
    "nombre_sain          1983\n",
    "nombre_exposed        337\n",
    "nombre_recovered    17010\n",
    "Name: 381, dtype: int64"
   ]
  },
  {
   "cell_type": "markdown",
   "id": "736a62e0",
   "metadata": {},
   "source": [
    "nombre_infected       674\n",
    "nombre_sain          2003\n",
    "nombre_exposed        321\n",
    "nombre_recovered    17002\n",
    "Name: 382, dtype: int64"
   ]
  },
  {
   "cell_type": "markdown",
   "id": "b971dec0",
   "metadata": {},
   "source": [
    "nombre_infected       683\n",
    "nombre_sain          2026\n",
    "nombre_exposed        307\n",
    "nombre_recovered    16984\n",
    "Name: 383, dtype: int64"
   ]
  },
  {
   "cell_type": "markdown",
   "id": "6e5bb30c",
   "metadata": {},
   "source": [
    "nombre_infected       670\n",
    "nombre_sain          2038\n",
    "nombre_exposed        308\n",
    "nombre_recovered    16984\n",
    "Name: 384, dtype: int64"
   ]
  },
  {
   "cell_type": "markdown",
   "id": "294ea0d7",
   "metadata": {},
   "source": [
    "nombre_infected       650\n",
    "nombre_sain          2067\n",
    "nombre_exposed        304\n",
    "nombre_recovered    16979\n",
    "Name: 385, dtype: int64"
   ]
  },
  {
   "cell_type": "markdown",
   "id": "fd8e6961",
   "metadata": {},
   "source": [
    "nombre_infected       646\n",
    "nombre_sain          2099\n",
    "nombre_exposed        303\n",
    "nombre_recovered    16952\n",
    "Name: 386, dtype: int64"
   ]
  },
  {
   "cell_type": "markdown",
   "id": "f188f00e",
   "metadata": {},
   "source": [
    "nombre_infected       613\n",
    "nombre_sain          2131\n",
    "nombre_exposed        317\n",
    "nombre_recovered    16939\n",
    "Name: 387, dtype: int64"
   ]
  },
  {
   "cell_type": "markdown",
   "id": "eb5dc717",
   "metadata": {},
   "source": [
    "nombre_infected       610\n",
    "nombre_sain          2186\n",
    "nombre_exposed        306\n",
    "nombre_recovered    16898\n",
    "Name: 388, dtype: int64"
   ]
  },
  {
   "cell_type": "markdown",
   "id": "8ab23dd3",
   "metadata": {},
   "source": [
    "nombre_infected       602\n",
    "nombre_sain          2214\n",
    "nombre_exposed        321\n",
    "nombre_recovered    16863\n",
    "Name: 389, dtype: int64"
   ]
  },
  {
   "cell_type": "markdown",
   "id": "c173e183",
   "metadata": {},
   "source": [
    "nombre_infected       594\n",
    "nombre_sain          2275\n",
    "nombre_exposed        322\n",
    "nombre_recovered    16809\n",
    "Name: 390, dtype: int64"
   ]
  },
  {
   "cell_type": "markdown",
   "id": "796108c0",
   "metadata": {},
   "source": [
    "nombre_infected       587\n",
    "nombre_sain          2288\n",
    "nombre_exposed        359\n",
    "nombre_recovered    16766\n",
    "Name: 391, dtype: int64"
   ]
  },
  {
   "cell_type": "markdown",
   "id": "0ed61ac4",
   "metadata": {},
   "source": [
    "nombre_infected       620\n",
    "nombre_sain          2321\n",
    "nombre_exposed        351\n",
    "nombre_recovered    16708\n",
    "Name: 392, dtype: int64"
   ]
  },
  {
   "cell_type": "markdown",
   "id": "35e9f9a3",
   "metadata": {},
   "source": [
    "nombre_infected       626\n",
    "nombre_sain          2353\n",
    "nombre_exposed        348\n",
    "nombre_recovered    16673\n",
    "Name: 393, dtype: int64"
   ]
  },
  {
   "cell_type": "markdown",
   "id": "cacb7cbb",
   "metadata": {},
   "source": [
    "nombre_infected       634\n",
    "nombre_sain          2380\n",
    "nombre_exposed        334\n",
    "nombre_recovered    16652\n",
    "Name: 394, dtype: int64"
   ]
  },
  {
   "cell_type": "markdown",
   "id": "37df8295",
   "metadata": {},
   "source": [
    "nombre_infected       628\n",
    "nombre_sain          2394\n",
    "nombre_exposed        353\n",
    "nombre_recovered    16625\n",
    "Name: 395, dtype: int64"
   ]
  },
  {
   "cell_type": "markdown",
   "id": "91681b80",
   "metadata": {},
   "source": [
    "nombre_infected       639\n",
    "nombre_sain          2404\n",
    "nombre_exposed        344\n",
    "nombre_recovered    16613\n",
    "Name: 396, dtype: int64"
   ]
  },
  {
   "cell_type": "markdown",
   "id": "a99e49f7",
   "metadata": {},
   "source": [
    "nombre_infected       638\n",
    "nombre_sain          2410\n",
    "nombre_exposed        362\n",
    "nombre_recovered    16590\n",
    "Name: 397, dtype: int64"
   ]
  },
  {
   "cell_type": "markdown",
   "id": "31be144b",
   "metadata": {},
   "source": [
    "nombre_infected       634\n",
    "nombre_sain          2435\n",
    "nombre_exposed        367\n",
    "nombre_recovered    16564\n",
    "Name: 398, dtype: int64"
   ]
  },
  {
   "cell_type": "markdown",
   "id": "dfee3093",
   "metadata": {},
   "source": [
    "nombre_infected       635\n",
    "nombre_sain          2443\n",
    "nombre_exposed        378\n",
    "nombre_recovered    16544\n",
    "Name: 399, dtype: int64"
   ]
  },
  {
   "cell_type": "markdown",
   "id": "ee980ac9",
   "metadata": {},
   "source": [
    "nombre_infected       632\n",
    "nombre_sain          2480\n",
    "nombre_exposed        367\n",
    "nombre_recovered    16521\n",
    "Name: 400, dtype: int64"
   ]
  },
  {
   "cell_type": "markdown",
   "id": "92710a92",
   "metadata": {},
   "source": [
    "nombre_infected       621\n",
    "nombre_sain          2468\n",
    "nombre_exposed        384\n",
    "nombre_recovered    16527\n",
    "Name: 401, dtype: int64"
   ]
  },
  {
   "cell_type": "markdown",
   "id": "c4b64681",
   "metadata": {},
   "source": [
    "nombre_infected       630\n",
    "nombre_sain          2449\n",
    "nombre_exposed        410\n",
    "nombre_recovered    16511\n",
    "Name: 402, dtype: int64"
   ]
  },
  {
   "cell_type": "markdown",
   "id": "e593fd3f",
   "metadata": {},
   "source": [
    "nombre_infected       654\n",
    "nombre_sain          2452\n",
    "nombre_exposed        403\n",
    "nombre_recovered    16491\n",
    "Name: 403, dtype: int64"
   ]
  },
  {
   "cell_type": "markdown",
   "id": "3c182cfd",
   "metadata": {},
   "source": [
    "nombre_infected       681\n",
    "nombre_sain          2445\n",
    "nombre_exposed        415\n",
    "nombre_recovered    16459\n",
    "Name: 404, dtype: int64"
   ]
  },
  {
   "cell_type": "markdown",
   "id": "49d9a3c3",
   "metadata": {},
   "source": [
    "nombre_infected       669\n",
    "nombre_sain          2453\n",
    "nombre_exposed        413\n",
    "nombre_recovered    16465\n",
    "Name: 405, dtype: int64"
   ]
  },
  {
   "cell_type": "markdown",
   "id": "711d6581",
   "metadata": {},
   "source": [
    "nombre_infected       676\n",
    "nombre_sain          2442\n",
    "nombre_exposed        405\n",
    "nombre_recovered    16477\n",
    "Name: 406, dtype: int64"
   ]
  },
  {
   "cell_type": "markdown",
   "id": "551e6309",
   "metadata": {},
   "source": [
    "nombre_infected       689\n",
    "nombre_sain          2459\n",
    "nombre_exposed        407\n",
    "nombre_recovered    16445\n",
    "Name: 407, dtype: int64"
   ]
  },
  {
   "cell_type": "markdown",
   "id": "8220fae4",
   "metadata": {},
   "source": [
    "nombre_infected       722\n",
    "nombre_sain          2458\n",
    "nombre_exposed        402\n",
    "nombre_recovered    16418\n",
    "Name: 408, dtype: int64"
   ]
  },
  {
   "cell_type": "markdown",
   "id": "a1b23366",
   "metadata": {},
   "source": [
    "nombre_infected       722\n",
    "nombre_sain          2433\n",
    "nombre_exposed        434\n",
    "nombre_recovered    16411\n",
    "Name: 409, dtype: int64"
   ]
  },
  {
   "cell_type": "markdown",
   "id": "e25038b2",
   "metadata": {},
   "source": [
    "nombre_infected       734\n",
    "nombre_sain          2430\n",
    "nombre_exposed        428\n",
    "nombre_recovered    16408\n",
    "Name: 410, dtype: int64"
   ]
  },
  {
   "cell_type": "markdown",
   "id": "ac25e7e9",
   "metadata": {},
   "source": [
    "nombre_infected       743\n",
    "nombre_sain          2386\n",
    "nombre_exposed        453\n",
    "nombre_recovered    16418\n",
    "Name: 411, dtype: int64"
   ]
  },
  {
   "cell_type": "markdown",
   "id": "ce5afe3a",
   "metadata": {},
   "source": [
    "nombre_infected       726\n",
    "nombre_sain          2358\n",
    "nombre_exposed        467\n",
    "nombre_recovered    16449\n",
    "Name: 412, dtype: int64"
   ]
  },
  {
   "cell_type": "markdown",
   "id": "ef3630bc",
   "metadata": {},
   "source": [
    "nombre_infected       760\n",
    "nombre_sain          2345\n",
    "nombre_exposed        432\n",
    "nombre_recovered    16463\n",
    "Name: 413, dtype: int64"
   ]
  },
  {
   "cell_type": "markdown",
   "id": "a59ff97c",
   "metadata": {},
   "source": [
    "nombre_infected       779\n",
    "nombre_sain          2307\n",
    "nombre_exposed        443\n",
    "nombre_recovered    16471\n",
    "Name: 414, dtype: int64"
   ]
  },
  {
   "cell_type": "markdown",
   "id": "550c7cf2",
   "metadata": {},
   "source": [
    "nombre_infected       774\n",
    "nombre_sain          2273\n",
    "nombre_exposed        461\n",
    "nombre_recovered    16492\n",
    "Name: 415, dtype: int64"
   ]
  },
  {
   "cell_type": "markdown",
   "id": "be267abb",
   "metadata": {},
   "source": [
    "nombre_infected       778\n",
    "nombre_sain          2240\n",
    "nombre_exposed        472\n",
    "nombre_recovered    16510\n",
    "Name: 416, dtype: int64"
   ]
  },
  {
   "cell_type": "markdown",
   "id": "03f6b8a2",
   "metadata": {},
   "source": [
    "nombre_infected       771\n",
    "nombre_sain          2238\n",
    "nombre_exposed        463\n",
    "nombre_recovered    16528\n",
    "Name: 417, dtype: int64"
   ]
  },
  {
   "cell_type": "markdown",
   "id": "7797fb5e",
   "metadata": {},
   "source": [
    "nombre_infected       788\n",
    "nombre_sain          2233\n",
    "nombre_exposed        438\n",
    "nombre_recovered    16541\n",
    "Name: 418, dtype: int64"
   ]
  },
  {
   "cell_type": "markdown",
   "id": "ec80ab59",
   "metadata": {},
   "source": [
    "nombre_infected       789\n",
    "nombre_sain          2184\n",
    "nombre_exposed        466\n",
    "nombre_recovered    16561\n",
    "Name: 419, dtype: int64"
   ]
  },
  {
   "cell_type": "markdown",
   "id": "ebb0cd4b",
   "metadata": {},
   "source": [
    "nombre_infected       773\n",
    "nombre_sain          2165\n",
    "nombre_exposed        467\n",
    "nombre_recovered    16595\n",
    "Name: 420, dtype: int64"
   ]
  },
  {
   "cell_type": "markdown",
   "id": "23aeab0b",
   "metadata": {},
   "source": [
    "nombre_infected       768\n",
    "nombre_sain          2132\n",
    "nombre_exposed        474\n",
    "nombre_recovered    16626\n",
    "Name: 421, dtype: int64"
   ]
  },
  {
   "cell_type": "markdown",
   "id": "acec0205",
   "metadata": {},
   "source": [
    "nombre_infected       788\n",
    "nombre_sain          2123\n",
    "nombre_exposed        454\n",
    "nombre_recovered    16635\n",
    "Name: 422, dtype: int64"
   ]
  },
  {
   "cell_type": "markdown",
   "id": "d4311245",
   "metadata": {},
   "source": [
    "nombre_infected       792\n",
    "nombre_sain          2095\n",
    "nombre_exposed        456\n",
    "nombre_recovered    16657\n",
    "Name: 423, dtype: int64"
   ]
  },
  {
   "cell_type": "markdown",
   "id": "3d56ca50",
   "metadata": {},
   "source": [
    "nombre_infected       780\n",
    "nombre_sain          2095\n",
    "nombre_exposed        435\n",
    "nombre_recovered    16690\n",
    "Name: 424, dtype: int64"
   ]
  },
  {
   "cell_type": "markdown",
   "id": "1d66da10",
   "metadata": {},
   "source": [
    "nombre_infected       735\n",
    "nombre_sain          2093\n",
    "nombre_exposed        461\n",
    "nombre_recovered    16711\n",
    "Name: 425, dtype: int64"
   ]
  },
  {
   "cell_type": "markdown",
   "id": "d11e2558",
   "metadata": {},
   "source": [
    "nombre_infected       731\n",
    "nombre_sain          2094\n",
    "nombre_exposed        458\n",
    "nombre_recovered    16717\n",
    "Name: 426, dtype: int64"
   ]
  },
  {
   "cell_type": "markdown",
   "id": "fd12cfc2",
   "metadata": {},
   "source": [
    "nombre_infected       732\n",
    "nombre_sain          2077\n",
    "nombre_exposed        457\n",
    "nombre_recovered    16734\n",
    "Name: 427, dtype: int64"
   ]
  },
  {
   "cell_type": "markdown",
   "id": "3fdc9e42",
   "metadata": {},
   "source": [
    "nombre_infected       735\n",
    "nombre_sain          2081\n",
    "nombre_exposed        458\n",
    "nombre_recovered    16726\n",
    "Name: 428, dtype: int64"
   ]
  },
  {
   "cell_type": "markdown",
   "id": "3527b9ad",
   "metadata": {},
   "source": [
    "nombre_infected       743\n",
    "nombre_sain          2094\n",
    "nombre_exposed        416\n",
    "nombre_recovered    16747\n",
    "Name: 429, dtype: int64"
   ]
  },
  {
   "cell_type": "markdown",
   "id": "bce20f80",
   "metadata": {},
   "source": [
    "nombre_infected       743\n",
    "nombre_sain          2088\n",
    "nombre_exposed        419\n",
    "nombre_recovered    16750\n",
    "Name: 430, dtype: int64"
   ]
  },
  {
   "cell_type": "markdown",
   "id": "70d82c93",
   "metadata": {},
   "source": [
    "nombre_infected       737\n",
    "nombre_sain          2099\n",
    "nombre_exposed        423\n",
    "nombre_recovered    16741\n",
    "Name: 431, dtype: int64"
   ]
  },
  {
   "cell_type": "markdown",
   "id": "c72c63dd",
   "metadata": {},
   "source": [
    "nombre_infected       730\n",
    "nombre_sain          2096\n",
    "nombre_exposed        420\n",
    "nombre_recovered    16754\n",
    "Name: 432, dtype: int64"
   ]
  },
  {
   "cell_type": "markdown",
   "id": "26076c12",
   "metadata": {},
   "source": [
    "nombre_infected       718\n",
    "nombre_sain          2096\n",
    "nombre_exposed        416\n",
    "nombre_recovered    16770\n",
    "Name: 433, dtype: int64"
   ]
  },
  {
   "cell_type": "markdown",
   "id": "8afe2cc0",
   "metadata": {},
   "source": [
    "nombre_infected       715\n",
    "nombre_sain          2104\n",
    "nombre_exposed        404\n",
    "nombre_recovered    16777\n",
    "Name: 434, dtype: int64"
   ]
  },
  {
   "cell_type": "markdown",
   "id": "ea62c451",
   "metadata": {},
   "source": [
    "nombre_infected       698\n",
    "nombre_sain          2105\n",
    "nombre_exposed        419\n",
    "nombre_recovered    16778\n",
    "Name: 435, dtype: int64"
   ]
  },
  {
   "cell_type": "markdown",
   "id": "71315c51",
   "metadata": {},
   "source": [
    "nombre_infected       684\n",
    "nombre_sain          2116\n",
    "nombre_exposed        408\n",
    "nombre_recovered    16792\n",
    "Name: 436, dtype: int64"
   ]
  },
  {
   "cell_type": "markdown",
   "id": "c86d6908",
   "metadata": {},
   "source": [
    "nombre_infected       672\n",
    "nombre_sain          2131\n",
    "nombre_exposed        388\n",
    "nombre_recovered    16809\n",
    "Name: 437, dtype: int64"
   ]
  },
  {
   "cell_type": "markdown",
   "id": "1c806bef",
   "metadata": {},
   "source": [
    "nombre_infected       683\n",
    "nombre_sain          2128\n",
    "nombre_exposed        382\n",
    "nombre_recovered    16807\n",
    "Name: 438, dtype: int64"
   ]
  },
  {
   "cell_type": "markdown",
   "id": "4ea0e8ab",
   "metadata": {},
   "source": [
    "nombre_infected       675\n",
    "nombre_sain          2132\n",
    "nombre_exposed        408\n",
    "nombre_recovered    16785\n",
    "Name: 439, dtype: int64"
   ]
  },
  {
   "cell_type": "markdown",
   "id": "7e14cb27",
   "metadata": {},
   "source": [
    "nombre_infected       665\n",
    "nombre_sain          2141\n",
    "nombre_exposed        403\n",
    "nombre_recovered    16791\n",
    "Name: 440, dtype: int64"
   ]
  },
  {
   "cell_type": "markdown",
   "id": "5fac0b54",
   "metadata": {},
   "source": [
    "nombre_infected       660\n",
    "nombre_sain          2148\n",
    "nombre_exposed        401\n",
    "nombre_recovered    16791\n",
    "Name: 441, dtype: int64"
   ]
  },
  {
   "cell_type": "markdown",
   "id": "f51cc6a2",
   "metadata": {},
   "source": [
    "nombre_infected       676\n",
    "nombre_sain          2174\n",
    "nombre_exposed        374\n",
    "nombre_recovered    16776\n",
    "Name: 442, dtype: int64"
   ]
  },
  {
   "cell_type": "markdown",
   "id": "16e21a3c",
   "metadata": {},
   "source": [
    "nombre_infected       658\n",
    "nombre_sain          2162\n",
    "nombre_exposed        396\n",
    "nombre_recovered    16784\n",
    "Name: 443, dtype: int64"
   ]
  },
  {
   "cell_type": "markdown",
   "id": "032068ef",
   "metadata": {},
   "source": [
    "nombre_infected       624\n",
    "nombre_sain          2175\n",
    "nombre_exposed        403\n",
    "nombre_recovered    16798\n",
    "Name: 444, dtype: int64"
   ]
  },
  {
   "cell_type": "markdown",
   "id": "7dec4072",
   "metadata": {},
   "source": [
    "nombre_infected       646\n",
    "nombre_sain          2185\n",
    "nombre_exposed        374\n",
    "nombre_recovered    16795\n",
    "Name: 445, dtype: int64"
   ]
  },
  {
   "cell_type": "markdown",
   "id": "a3565f17",
   "metadata": {},
   "source": [
    "nombre_infected       650\n",
    "nombre_sain          2170\n",
    "nombre_exposed        396\n",
    "nombre_recovered    16784\n",
    "Name: 446, dtype: int64"
   ]
  },
  {
   "cell_type": "markdown",
   "id": "eee343e5",
   "metadata": {},
   "source": [
    "nombre_infected       644\n",
    "nombre_sain          2197\n",
    "nombre_exposed        377\n",
    "nombre_recovered    16782\n",
    "Name: 447, dtype: int64"
   ]
  },
  {
   "cell_type": "markdown",
   "id": "111f837c",
   "metadata": {},
   "source": [
    "nombre_infected       656\n",
    "nombre_sain          2213\n",
    "nombre_exposed        378\n",
    "nombre_recovered    16753\n",
    "Name: 448, dtype: int64"
   ]
  },
  {
   "cell_type": "markdown",
   "id": "5dbe3055",
   "metadata": {},
   "source": [
    "nombre_infected       652\n",
    "nombre_sain          2228\n",
    "nombre_exposed        380\n",
    "nombre_recovered    16740\n",
    "Name: 449, dtype: int64"
   ]
  },
  {
   "cell_type": "markdown",
   "id": "aeaf388a",
   "metadata": {},
   "source": [
    "nombre_infected       639\n",
    "nombre_sain          2259\n",
    "nombre_exposed        375\n",
    "nombre_recovered    16727\n",
    "Name: 450, dtype: int64"
   ]
  },
  {
   "cell_type": "markdown",
   "id": "fc99e73d",
   "metadata": {},
   "source": [
    "nombre_infected       642\n",
    "nombre_sain          2308\n",
    "nombre_exposed        383\n",
    "nombre_recovered    16667\n",
    "Name: 451, dtype: int64"
   ]
  },
  {
   "cell_type": "markdown",
   "id": "6fbccb42",
   "metadata": {},
   "source": [
    "nombre_infected       646\n",
    "nombre_sain          2334\n",
    "nombre_exposed        383\n",
    "nombre_recovered    16637\n",
    "Name: 452, dtype: int64"
   ]
  },
  {
   "cell_type": "markdown",
   "id": "ffc262bd",
   "metadata": {},
   "source": [
    "nombre_infected       652\n",
    "nombre_sain          2336\n",
    "nombre_exposed        392\n",
    "nombre_recovered    16620\n",
    "Name: 453, dtype: int64"
   ]
  },
  {
   "cell_type": "markdown",
   "id": "ea364041",
   "metadata": {},
   "source": [
    "nombre_infected       650\n",
    "nombre_sain          2350\n",
    "nombre_exposed        393\n",
    "nombre_recovered    16607\n",
    "Name: 454, dtype: int64"
   ]
  },
  {
   "cell_type": "markdown",
   "id": "d0c79ea3",
   "metadata": {},
   "source": [
    "nombre_infected       666\n",
    "nombre_sain          2371\n",
    "nombre_exposed        387\n",
    "nombre_recovered    16576\n",
    "Name: 455, dtype: int64"
   ]
  },
  {
   "cell_type": "markdown",
   "id": "7bcca39a",
   "metadata": {},
   "source": [
    "nombre_infected       675\n",
    "nombre_sain          2376\n",
    "nombre_exposed        399\n",
    "nombre_recovered    16550\n",
    "Name: 456, dtype: int64"
   ]
  },
  {
   "cell_type": "markdown",
   "id": "7a486ce3",
   "metadata": {},
   "source": [
    "nombre_infected       663\n",
    "nombre_sain          2386\n",
    "nombre_exposed        413\n",
    "nombre_recovered    16538\n",
    "Name: 457, dtype: int64"
   ]
  },
  {
   "cell_type": "markdown",
   "id": "2a2a59dd",
   "metadata": {},
   "source": [
    "nombre_infected       672\n",
    "nombre_sain          2387\n",
    "nombre_exposed        410\n",
    "nombre_recovered    16531\n",
    "Name: 458, dtype: int64"
   ]
  },
  {
   "cell_type": "markdown",
   "id": "0de9d426",
   "metadata": {},
   "source": [
    "nombre_infected       673\n",
    "nombre_sain          2399\n",
    "nombre_exposed        423\n",
    "nombre_recovered    16505\n",
    "Name: 459, dtype: int64"
   ]
  },
  {
   "cell_type": "markdown",
   "id": "151e7106",
   "metadata": {},
   "source": [
    "nombre_infected       672\n",
    "nombre_sain          2399\n",
    "nombre_exposed        444\n",
    "nombre_recovered    16485\n",
    "Name: 460, dtype: int64"
   ]
  },
  {
   "cell_type": "markdown",
   "id": "a217cf8b",
   "metadata": {},
   "source": [
    "nombre_infected       689\n",
    "nombre_sain          2417\n",
    "nombre_exposed        441\n",
    "nombre_recovered    16453\n",
    "Name: 461, dtype: int64"
   ]
  },
  {
   "cell_type": "markdown",
   "id": "34b50727",
   "metadata": {},
   "source": [
    "nombre_infected       699\n",
    "nombre_sain          2440\n",
    "nombre_exposed        433\n",
    "nombre_recovered    16428\n",
    "Name: 462, dtype: int64"
   ]
  },
  {
   "cell_type": "markdown",
   "id": "1b74b692",
   "metadata": {},
   "source": [
    "nombre_infected       714\n",
    "nombre_sain          2460\n",
    "nombre_exposed        434\n",
    "nombre_recovered    16392\n",
    "Name: 463, dtype: int64"
   ]
  },
  {
   "cell_type": "markdown",
   "id": "073545b5",
   "metadata": {},
   "source": [
    "nombre_infected       724\n",
    "nombre_sain          2464\n",
    "nombre_exposed        420\n",
    "nombre_recovered    16392\n",
    "Name: 464, dtype: int64"
   ]
  },
  {
   "cell_type": "markdown",
   "id": "d0173fbc",
   "metadata": {},
   "source": [
    "nombre_infected       713\n",
    "nombre_sain          2435\n",
    "nombre_exposed        459\n",
    "nombre_recovered    16393\n",
    "Name: 465, dtype: int64"
   ]
  },
  {
   "cell_type": "markdown",
   "id": "4346ed9b",
   "metadata": {},
   "source": [
    "nombre_infected       723\n",
    "nombre_sain          2437\n",
    "nombre_exposed        462\n",
    "nombre_recovered    16378\n",
    "Name: 466, dtype: int64"
   ]
  },
  {
   "cell_type": "markdown",
   "id": "29aafe56",
   "metadata": {},
   "source": [
    "nombre_infected       748\n",
    "nombre_sain          2438\n",
    "nombre_exposed        441\n",
    "nombre_recovered    16373\n",
    "Name: 467, dtype: int64"
   ]
  },
  {
   "cell_type": "markdown",
   "id": "b1fc3c1c",
   "metadata": {},
   "source": [
    "nombre_infected       724\n",
    "nombre_sain          2402\n",
    "nombre_exposed        473\n",
    "nombre_recovered    16401\n",
    "Name: 468, dtype: int64"
   ]
  },
  {
   "cell_type": "markdown",
   "id": "e65b3708",
   "metadata": {},
   "source": [
    "nombre_infected       741\n",
    "nombre_sain          2386\n",
    "nombre_exposed        469\n",
    "nombre_recovered    16404\n",
    "Name: 469, dtype: int64"
   ]
  },
  {
   "cell_type": "markdown",
   "id": "dcba5e25",
   "metadata": {},
   "source": [
    "nombre_infected       771\n",
    "nombre_sain          2368\n",
    "nombre_exposed        466\n",
    "nombre_recovered    16395\n",
    "Name: 470, dtype: int64"
   ]
  },
  {
   "cell_type": "markdown",
   "id": "254a1f11",
   "metadata": {},
   "source": [
    "nombre_infected       776\n",
    "nombre_sain          2355\n",
    "nombre_exposed        475\n",
    "nombre_recovered    16394\n",
    "Name: 471, dtype: int64"
   ]
  },
  {
   "cell_type": "markdown",
   "id": "051b7771",
   "metadata": {},
   "source": [
    "nombre_infected       796\n",
    "nombre_sain          2349\n",
    "nombre_exposed        461\n",
    "nombre_recovered    16394\n",
    "Name: 472, dtype: int64"
   ]
  },
  {
   "cell_type": "markdown",
   "id": "ad782fcb",
   "metadata": {},
   "source": [
    "nombre_infected       800\n",
    "nombre_sain          2315\n",
    "nombre_exposed        474\n",
    "nombre_recovered    16411\n",
    "Name: 473, dtype: int64"
   ]
  },
  {
   "cell_type": "markdown",
   "id": "82c36347",
   "metadata": {},
   "source": [
    "nombre_infected       805\n",
    "nombre_sain          2286\n",
    "nombre_exposed        488\n",
    "nombre_recovered    16421\n",
    "Name: 474, dtype: int64"
   ]
  },
  {
   "cell_type": "markdown",
   "id": "3839c639",
   "metadata": {},
   "source": [
    "nombre_infected       818\n",
    "nombre_sain          2282\n",
    "nombre_exposed        472\n",
    "nombre_recovered    16428\n",
    "Name: 475, dtype: int64"
   ]
  },
  {
   "cell_type": "markdown",
   "id": "050cddeb",
   "metadata": {},
   "source": [
    "nombre_infected       828\n",
    "nombre_sain          2244\n",
    "nombre_exposed        499\n",
    "nombre_recovered    16429\n",
    "Name: 476, dtype: int64"
   ]
  },
  {
   "cell_type": "markdown",
   "id": "3c4385cc",
   "metadata": {},
   "source": [
    "nombre_infected       821\n",
    "nombre_sain          2224\n",
    "nombre_exposed        502\n",
    "nombre_recovered    16453\n",
    "Name: 477, dtype: int64"
   ]
  },
  {
   "cell_type": "markdown",
   "id": "53c2a05c",
   "metadata": {},
   "source": [
    "nombre_infected       843\n",
    "nombre_sain          2210\n",
    "nombre_exposed        482\n",
    "nombre_recovered    16465\n",
    "Name: 478, dtype: int64"
   ]
  },
  {
   "cell_type": "markdown",
   "id": "c23a961e",
   "metadata": {},
   "source": [
    "nombre_infected       847\n",
    "nombre_sain          2190\n",
    "nombre_exposed        490\n",
    "nombre_recovered    16473\n",
    "Name: 479, dtype: int64"
   ]
  },
  {
   "cell_type": "markdown",
   "id": "068573ad",
   "metadata": {},
   "source": [
    "nombre_infected       864\n",
    "nombre_sain          2172\n",
    "nombre_exposed        486\n",
    "nombre_recovered    16478\n",
    "Name: 480, dtype: int64"
   ]
  },
  {
   "cell_type": "markdown",
   "id": "99172e73",
   "metadata": {},
   "source": [
    "nombre_infected       858\n",
    "nombre_sain          2148\n",
    "nombre_exposed        493\n",
    "nombre_recovered    16501\n",
    "Name: 481, dtype: int64"
   ]
  },
  {
   "cell_type": "markdown",
   "id": "d5cd3d80",
   "metadata": {},
   "source": [
    "nombre_infected       850\n",
    "nombre_sain          2139\n",
    "nombre_exposed        465\n",
    "nombre_recovered    16546\n",
    "Name: 482, dtype: int64"
   ]
  },
  {
   "cell_type": "markdown",
   "id": "d095c423",
   "metadata": {},
   "source": [
    "nombre_infected       868\n",
    "nombre_sain          2119\n",
    "nombre_exposed        446\n",
    "nombre_recovered    16567\n",
    "Name: 483, dtype: int64"
   ]
  },
  {
   "cell_type": "markdown",
   "id": "a50b3548",
   "metadata": {},
   "source": [
    "nombre_infected       863\n",
    "nombre_sain          2091\n",
    "nombre_exposed        459\n",
    "nombre_recovered    16587\n",
    "Name: 484, dtype: int64"
   ]
  },
  {
   "cell_type": "markdown",
   "id": "73678d3b",
   "metadata": {},
   "source": [
    "nombre_infected       848\n",
    "nombre_sain          2096\n",
    "nombre_exposed        455\n",
    "nombre_recovered    16601\n",
    "Name: 485, dtype: int64"
   ]
  },
  {
   "cell_type": "markdown",
   "id": "aa79b3df",
   "metadata": {},
   "source": [
    "nombre_infected       850\n",
    "nombre_sain          2085\n",
    "nombre_exposed        461\n",
    "nombre_recovered    16604\n",
    "Name: 486, dtype: int64"
   ]
  },
  {
   "cell_type": "markdown",
   "id": "5ebba664",
   "metadata": {},
   "source": [
    "nombre_infected       853\n",
    "nombre_sain          2075\n",
    "nombre_exposed        458\n",
    "nombre_recovered    16614\n",
    "Name: 487, dtype: int64"
   ]
  },
  {
   "cell_type": "markdown",
   "id": "4fad6d5f",
   "metadata": {},
   "source": [
    "nombre_infected       844\n",
    "nombre_sain          2064\n",
    "nombre_exposed        462\n",
    "nombre_recovered    16630\n",
    "Name: 488, dtype: int64"
   ]
  },
  {
   "cell_type": "markdown",
   "id": "8810d5c6",
   "metadata": {},
   "source": [
    "nombre_infected       811\n",
    "nombre_sain          2032\n",
    "nombre_exposed        493\n",
    "nombre_recovered    16664\n",
    "Name: 489, dtype: int64"
   ]
  },
  {
   "cell_type": "markdown",
   "id": "f823f692",
   "metadata": {},
   "source": [
    "nombre_infected       797\n",
    "nombre_sain          2037\n",
    "nombre_exposed        500\n",
    "nombre_recovered    16666\n",
    "Name: 490, dtype: int64"
   ]
  },
  {
   "cell_type": "markdown",
   "id": "7191caff",
   "metadata": {},
   "source": [
    "nombre_infected       811\n",
    "nombre_sain          2033\n",
    "nombre_exposed        493\n",
    "nombre_recovered    16663\n",
    "Name: 491, dtype: int64"
   ]
  },
  {
   "cell_type": "markdown",
   "id": "592f51d0",
   "metadata": {},
   "source": [
    "nombre_infected       804\n",
    "nombre_sain          2041\n",
    "nombre_exposed        484\n",
    "nombre_recovered    16671\n",
    "Name: 492, dtype: int64"
   ]
  },
  {
   "cell_type": "markdown",
   "id": "11cec121",
   "metadata": {},
   "source": [
    "nombre_infected       806\n",
    "nombre_sain          2056\n",
    "nombre_exposed        471\n",
    "nombre_recovered    16667\n",
    "Name: 493, dtype: int64"
   ]
  },
  {
   "cell_type": "markdown",
   "id": "a38d2d1e",
   "metadata": {},
   "source": [
    "nombre_infected       806\n",
    "nombre_sain          2056\n",
    "nombre_exposed        467\n",
    "nombre_recovered    16671\n",
    "Name: 494, dtype: int64"
   ]
  },
  {
   "cell_type": "markdown",
   "id": "7cafc9d7",
   "metadata": {},
   "source": [
    "nombre_infected       805\n",
    "nombre_sain          2068\n",
    "nombre_exposed        471\n",
    "nombre_recovered    16656\n",
    "Name: 495, dtype: int64"
   ]
  },
  {
   "cell_type": "markdown",
   "id": "f5b45dbb",
   "metadata": {},
   "source": [
    "nombre_infected       821\n",
    "nombre_sain          2081\n",
    "nombre_exposed        456\n",
    "nombre_recovered    16642\n",
    "Name: 496, dtype: int64"
   ]
  },
  {
   "cell_type": "markdown",
   "id": "4eb316a6",
   "metadata": {},
   "source": [
    "nombre_infected       821\n",
    "nombre_sain          2057\n",
    "nombre_exposed        466\n",
    "nombre_recovered    16656\n",
    "Name: 497, dtype: int64"
   ]
  },
  {
   "cell_type": "markdown",
   "id": "2cd88e26",
   "metadata": {},
   "source": [
    "nombre_infected       787\n",
    "nombre_sain          2070\n",
    "nombre_exposed        482\n",
    "nombre_recovered    16661\n",
    "Name: 498, dtype: int64"
   ]
  },
  {
   "cell_type": "markdown",
   "id": "8ba57b71",
   "metadata": {},
   "source": [
    "nombre_infected       800\n",
    "nombre_sain          2093\n",
    "nombre_exposed        453\n",
    "nombre_recovered    16654\n",
    "Name: 499, dtype: int64"
   ]
  },
  {
   "cell_type": "markdown",
   "id": "b15cf202",
   "metadata": {},
   "source": [
    "nombre_infected       798\n",
    "nombre_sain          2104\n",
    "nombre_exposed        458\n",
    "nombre_recovered    16640\n",
    "Name: 500, dtype: int64"
   ]
  },
  {
   "cell_type": "markdown",
   "id": "75c79a88",
   "metadata": {},
   "source": [
    "nombre_infected       789\n",
    "nombre_sain          2113\n",
    "nombre_exposed        456\n",
    "nombre_recovered    16642\n",
    "Name: 501, dtype: int64"
   ]
  },
  {
   "cell_type": "markdown",
   "id": "d4dc0617",
   "metadata": {},
   "source": [
    "nombre_infected       796\n",
    "nombre_sain          2146\n",
    "nombre_exposed        433\n",
    "nombre_recovered    16625\n",
    "Name: 502, dtype: int64"
   ]
  },
  {
   "cell_type": "markdown",
   "id": "53856adf",
   "metadata": {},
   "source": [
    "nombre_infected       797\n",
    "nombre_sain          2181\n",
    "nombre_exposed        410\n",
    "nombre_recovered    16612\n",
    "Name: 503, dtype: int64"
   ]
  },
  {
   "cell_type": "markdown",
   "id": "7c215ee7",
   "metadata": {},
   "source": [
    "nombre_infected       785\n",
    "nombre_sain          2185\n",
    "nombre_exposed        440\n",
    "nombre_recovered    16590\n",
    "Name: 504, dtype: int64"
   ]
  },
  {
   "cell_type": "markdown",
   "id": "8f066033",
   "metadata": {},
   "source": [
    "nombre_infected       758\n",
    "nombre_sain          2180\n",
    "nombre_exposed        471\n",
    "nombre_recovered    16591\n",
    "Name: 505, dtype: int64"
   ]
  },
  {
   "cell_type": "markdown",
   "id": "0db7a08a",
   "metadata": {},
   "source": [
    "nombre_infected       761\n",
    "nombre_sain          2155\n",
    "nombre_exposed        483\n",
    "nombre_recovered    16601\n",
    "Name: 506, dtype: int64"
   ]
  },
  {
   "cell_type": "markdown",
   "id": "e2780622",
   "metadata": {},
   "source": [
    "nombre_infected       753\n",
    "nombre_sain          2150\n",
    "nombre_exposed        499\n",
    "nombre_recovered    16598\n",
    "Name: 507, dtype: int64"
   ]
  },
  {
   "cell_type": "markdown",
   "id": "47033ceb",
   "metadata": {},
   "source": [
    "nombre_infected       777\n",
    "nombre_sain          2154\n",
    "nombre_exposed        497\n",
    "nombre_recovered    16572\n",
    "Name: 508, dtype: int64"
   ]
  },
  {
   "cell_type": "markdown",
   "id": "b572c524",
   "metadata": {},
   "source": [
    "nombre_infected       791\n",
    "nombre_sain          2151\n",
    "nombre_exposed        496\n",
    "nombre_recovered    16562\n",
    "Name: 509, dtype: int64"
   ]
  },
  {
   "cell_type": "markdown",
   "id": "c4068953",
   "metadata": {},
   "source": [
    "nombre_infected       800\n",
    "nombre_sain          2161\n",
    "nombre_exposed        492\n",
    "nombre_recovered    16547\n",
    "Name: 510, dtype: int64"
   ]
  },
  {
   "cell_type": "markdown",
   "id": "3e88f8b2",
   "metadata": {},
   "source": [
    "nombre_infected       816\n",
    "nombre_sain          2165\n",
    "nombre_exposed        489\n",
    "nombre_recovered    16530\n",
    "Name: 511, dtype: int64"
   ]
  },
  {
   "cell_type": "markdown",
   "id": "d209c404",
   "metadata": {},
   "source": [
    "nombre_infected       811\n",
    "nombre_sain          2161\n",
    "nombre_exposed        504\n",
    "nombre_recovered    16524\n",
    "Name: 512, dtype: int64"
   ]
  },
  {
   "cell_type": "markdown",
   "id": "bde77888",
   "metadata": {},
   "source": [
    "nombre_infected       840\n",
    "nombre_sain          2164\n",
    "nombre_exposed        480\n",
    "nombre_recovered    16516\n",
    "Name: 513, dtype: int64"
   ]
  },
  {
   "cell_type": "markdown",
   "id": "9add0b7a",
   "metadata": {},
   "source": [
    "nombre_infected       837\n",
    "nombre_sain          2155\n",
    "nombre_exposed        480\n",
    "nombre_recovered    16528\n",
    "Name: 514, dtype: int64"
   ]
  },
  {
   "cell_type": "markdown",
   "id": "f89a38c3",
   "metadata": {},
   "source": [
    "nombre_infected       830\n",
    "nombre_sain          2163\n",
    "nombre_exposed        477\n",
    "nombre_recovered    16530\n",
    "Name: 515, dtype: int64"
   ]
  },
  {
   "cell_type": "markdown",
   "id": "d7da31df",
   "metadata": {},
   "source": [
    "nombre_infected       833\n",
    "nombre_sain          2145\n",
    "nombre_exposed        487\n",
    "nombre_recovered    16535\n",
    "Name: 516, dtype: int64"
   ]
  },
  {
   "cell_type": "markdown",
   "id": "a09d9b21",
   "metadata": {},
   "source": [
    "nombre_infected       829\n",
    "nombre_sain          2157\n",
    "nombre_exposed        468\n",
    "nombre_recovered    16546\n",
    "Name: 517, dtype: int64"
   ]
  },
  {
   "cell_type": "markdown",
   "id": "05195f7c",
   "metadata": {},
   "source": [
    "nombre_infected       829\n",
    "nombre_sain          2173\n",
    "nombre_exposed        441\n",
    "nombre_recovered    16557\n",
    "Name: 518, dtype: int64"
   ]
  },
  {
   "cell_type": "markdown",
   "id": "a68a5936",
   "metadata": {},
   "source": [
    "nombre_infected       808\n",
    "nombre_sain          2176\n",
    "nombre_exposed        431\n",
    "nombre_recovered    16585\n",
    "Name: 519, dtype: int64"
   ]
  },
  {
   "cell_type": "markdown",
   "id": "c260b2a2",
   "metadata": {},
   "source": [
    "nombre_infected       791\n",
    "nombre_sain          2156\n",
    "nombre_exposed        452\n",
    "nombre_recovered    16601\n",
    "Name: 520, dtype: int64"
   ]
  },
  {
   "cell_type": "markdown",
   "id": "518e5b80",
   "metadata": {},
   "source": [
    "nombre_infected       781\n",
    "nombre_sain          2153\n",
    "nombre_exposed        457\n",
    "nombre_recovered    16609\n",
    "Name: 521, dtype: int64"
   ]
  },
  {
   "cell_type": "markdown",
   "id": "f3b3c6b9",
   "metadata": {},
   "source": [
    "nombre_infected       790\n",
    "nombre_sain          2158\n",
    "nombre_exposed        463\n",
    "nombre_recovered    16589\n",
    "Name: 522, dtype: int64"
   ]
  },
  {
   "cell_type": "markdown",
   "id": "c5034635",
   "metadata": {},
   "source": [
    "nombre_infected       770\n",
    "nombre_sain          2141\n",
    "nombre_exposed        461\n",
    "nombre_recovered    16628\n",
    "Name: 523, dtype: int64"
   ]
  },
  {
   "cell_type": "markdown",
   "id": "7f81cc4b",
   "metadata": {},
   "source": [
    "nombre_infected       776\n",
    "nombre_sain          2139\n",
    "nombre_exposed        442\n",
    "nombre_recovered    16643\n",
    "Name: 524, dtype: int64"
   ]
  },
  {
   "cell_type": "markdown",
   "id": "be57ca50",
   "metadata": {},
   "source": [
    "nombre_infected       780\n",
    "nombre_sain          2141\n",
    "nombre_exposed        437\n",
    "nombre_recovered    16642\n",
    "Name: 525, dtype: int64"
   ]
  },
  {
   "cell_type": "markdown",
   "id": "5851a9b8",
   "metadata": {},
   "source": [
    "nombre_infected       757\n",
    "nombre_sain          2149\n",
    "nombre_exposed        447\n",
    "nombre_recovered    16647\n",
    "Name: 526, dtype: int64"
   ]
  },
  {
   "cell_type": "markdown",
   "id": "480b1433",
   "metadata": {},
   "source": [
    "nombre_infected       782\n",
    "nombre_sain          2162\n",
    "nombre_exposed        423\n",
    "nombre_recovered    16633\n",
    "Name: 527, dtype: int64"
   ]
  },
  {
   "cell_type": "markdown",
   "id": "c6ce5406",
   "metadata": {},
   "source": [
    "nombre_infected       788\n",
    "nombre_sain          2153\n",
    "nombre_exposed        436\n",
    "nombre_recovered    16623\n",
    "Name: 528, dtype: int64"
   ]
  },
  {
   "cell_type": "markdown",
   "id": "11a898b2",
   "metadata": {},
   "source": [
    "nombre_infected       744\n",
    "nombre_sain          2150\n",
    "nombre_exposed        450\n",
    "nombre_recovered    16656\n",
    "Name: 529, dtype: int64"
   ]
  },
  {
   "cell_type": "markdown",
   "id": "25838ce3",
   "metadata": {},
   "source": [
    "nombre_infected       724\n",
    "nombre_sain          2172\n",
    "nombre_exposed        434\n",
    "nombre_recovered    16670\n",
    "Name: 530, dtype: int64"
   ]
  },
  {
   "cell_type": "markdown",
   "id": "138d27a5",
   "metadata": {},
   "source": [
    "nombre_infected       725\n",
    "nombre_sain          2172\n",
    "nombre_exposed        416\n",
    "nombre_recovered    16687\n",
    "Name: 531, dtype: int64"
   ]
  },
  {
   "cell_type": "markdown",
   "id": "a0dfaaed",
   "metadata": {},
   "source": [
    "nombre_infected       741\n",
    "nombre_sain          2183\n",
    "nombre_exposed        389\n",
    "nombre_recovered    16687\n",
    "Name: 532, dtype: int64"
   ]
  },
  {
   "cell_type": "markdown",
   "id": "1b34c135",
   "metadata": {},
   "source": [
    "nombre_infected       734\n",
    "nombre_sain          2185\n",
    "nombre_exposed        392\n",
    "nombre_recovered    16689\n",
    "Name: 533, dtype: int64"
   ]
  },
  {
   "cell_type": "markdown",
   "id": "74123b1b",
   "metadata": {},
   "source": [
    "nombre_infected       716\n",
    "nombre_sain          2180\n",
    "nombre_exposed        410\n",
    "nombre_recovered    16694\n",
    "Name: 534, dtype: int64"
   ]
  },
  {
   "cell_type": "markdown",
   "id": "ce68cc10",
   "metadata": {},
   "source": [
    "nombre_infected       697\n",
    "nombre_sain          2188\n",
    "nombre_exposed        416\n",
    "nombre_recovered    16699\n",
    "Name: 535, dtype: int64"
   ]
  },
  {
   "cell_type": "markdown",
   "id": "b63f65d1",
   "metadata": {},
   "source": [
    "nombre_infected       699\n",
    "nombre_sain          2201\n",
    "nombre_exposed        397\n",
    "nombre_recovered    16703\n",
    "Name: 536, dtype: int64"
   ]
  },
  {
   "cell_type": "markdown",
   "id": "a6984e83",
   "metadata": {},
   "source": [
    "nombre_infected       704\n",
    "nombre_sain          2181\n",
    "nombre_exposed        410\n",
    "nombre_recovered    16705\n",
    "Name: 537, dtype: int64"
   ]
  },
  {
   "cell_type": "markdown",
   "id": "21d6d54e",
   "metadata": {},
   "source": [
    "nombre_infected       690\n",
    "nombre_sain          2190\n",
    "nombre_exposed        424\n",
    "nombre_recovered    16696\n",
    "Name: 538, dtype: int64"
   ]
  },
  {
   "cell_type": "markdown",
   "id": "6d437e1c",
   "metadata": {},
   "source": [
    "nombre_infected       687\n",
    "nombre_sain          2193\n",
    "nombre_exposed        419\n",
    "nombre_recovered    16701\n",
    "Name: 539, dtype: int64"
   ]
  },
  {
   "cell_type": "markdown",
   "id": "4843efb6",
   "metadata": {},
   "source": [
    "nombre_infected       695\n",
    "nombre_sain          2200\n",
    "nombre_exposed        412\n",
    "nombre_recovered    16693\n",
    "Name: 540, dtype: int64"
   ]
  },
  {
   "cell_type": "markdown",
   "id": "b13088e6",
   "metadata": {},
   "source": [
    "nombre_infected       703\n",
    "nombre_sain          2214\n",
    "nombre_exposed        395\n",
    "nombre_recovered    16688\n",
    "Name: 541, dtype: int64"
   ]
  },
  {
   "cell_type": "markdown",
   "id": "eb70c3ca",
   "metadata": {},
   "source": [
    "nombre_infected       698\n",
    "nombre_sain          2237\n",
    "nombre_exposed        376\n",
    "nombre_recovered    16689\n",
    "Name: 542, dtype: int64"
   ]
  },
  {
   "cell_type": "markdown",
   "id": "4dbf3703",
   "metadata": {},
   "source": [
    "nombre_infected       675\n",
    "nombre_sain          2229\n",
    "nombre_exposed        414\n",
    "nombre_recovered    16682\n",
    "Name: 543, dtype: int64"
   ]
  },
  {
   "cell_type": "markdown",
   "id": "bd9deb2b",
   "metadata": {},
   "source": [
    "nombre_infected       660\n",
    "nombre_sain          2242\n",
    "nombre_exposed        405\n",
    "nombre_recovered    16693\n",
    "Name: 544, dtype: int64"
   ]
  },
  {
   "cell_type": "markdown",
   "id": "b5e7393b",
   "metadata": {},
   "source": [
    "nombre_infected       679\n",
    "nombre_sain          2266\n",
    "nombre_exposed        393\n",
    "nombre_recovered    16662\n",
    "Name: 545, dtype: int64"
   ]
  },
  {
   "cell_type": "markdown",
   "id": "705fef25",
   "metadata": {},
   "source": [
    "nombre_infected       678\n",
    "nombre_sain          2291\n",
    "nombre_exposed        382\n",
    "nombre_recovered    16649\n",
    "Name: 546, dtype: int64"
   ]
  },
  {
   "cell_type": "markdown",
   "id": "4a87ef7c",
   "metadata": {},
   "source": [
    "nombre_infected       684\n",
    "nombre_sain          2303\n",
    "nombre_exposed        376\n",
    "nombre_recovered    16637\n",
    "Name: 547, dtype: int64"
   ]
  },
  {
   "cell_type": "markdown",
   "id": "e7e40832",
   "metadata": {},
   "source": [
    "nombre_infected       673\n",
    "nombre_sain          2300\n",
    "nombre_exposed        394\n",
    "nombre_recovered    16633\n",
    "Name: 548, dtype: int64"
   ]
  },
  {
   "cell_type": "markdown",
   "id": "ad6b4e24",
   "metadata": {},
   "source": [
    "nombre_infected       669\n",
    "nombre_sain          2301\n",
    "nombre_exposed        396\n",
    "nombre_recovered    16634\n",
    "Name: 549, dtype: int64"
   ]
  },
  {
   "cell_type": "markdown",
   "id": "6e3bd8d5",
   "metadata": {},
   "source": [
    "nombre_infected       668\n",
    "nombre_sain          2296\n",
    "nombre_exposed        404\n",
    "nombre_recovered    16632\n",
    "Name: 550, dtype: int64"
   ]
  },
  {
   "cell_type": "markdown",
   "id": "a5b58155",
   "metadata": {},
   "source": [
    "nombre_infected       684\n",
    "nombre_sain          2310\n",
    "nombre_exposed        385\n",
    "nombre_recovered    16621\n",
    "Name: 551, dtype: int64"
   ]
  },
  {
   "cell_type": "markdown",
   "id": "fcd566b9",
   "metadata": {},
   "source": [
    "nombre_infected       685\n",
    "nombre_sain          2301\n",
    "nombre_exposed        387\n",
    "nombre_recovered    16627\n",
    "Name: 552, dtype: int64"
   ]
  },
  {
   "cell_type": "markdown",
   "id": "ee4c1d9e",
   "metadata": {},
   "source": [
    "nombre_infected       670\n",
    "nombre_sain          2303\n",
    "nombre_exposed        385\n",
    "nombre_recovered    16642\n",
    "Name: 553, dtype: int64"
   ]
  },
  {
   "cell_type": "markdown",
   "id": "5a9e09ea",
   "metadata": {},
   "source": [
    "nombre_infected       678\n",
    "nombre_sain          2303\n",
    "nombre_exposed        379\n",
    "nombre_recovered    16640\n",
    "Name: 554, dtype: int64"
   ]
  },
  {
   "cell_type": "markdown",
   "id": "2f686293",
   "metadata": {},
   "source": [
    "nombre_infected       677\n",
    "nombre_sain          2308\n",
    "nombre_exposed        383\n",
    "nombre_recovered    16632\n",
    "Name: 555, dtype: int64"
   ]
  },
  {
   "cell_type": "markdown",
   "id": "6de73a60",
   "metadata": {},
   "source": [
    "nombre_infected       672\n",
    "nombre_sain          2291\n",
    "nombre_exposed        369\n",
    "nombre_recovered    16668\n",
    "Name: 556, dtype: int64"
   ]
  },
  {
   "cell_type": "markdown",
   "id": "805137a9",
   "metadata": {},
   "source": [
    "nombre_infected       666\n",
    "nombre_sain          2278\n",
    "nombre_exposed        390\n",
    "nombre_recovered    16666\n",
    "Name: 557, dtype: int64"
   ]
  },
  {
   "cell_type": "markdown",
   "id": "b5262e10",
   "metadata": {},
   "source": [
    "nombre_infected       667\n",
    "nombre_sain          2301\n",
    "nombre_exposed        375\n",
    "nombre_recovered    16657\n",
    "Name: 558, dtype: int64"
   ]
  },
  {
   "cell_type": "markdown",
   "id": "45435cb1",
   "metadata": {},
   "source": [
    "nombre_infected       671\n",
    "nombre_sain          2304\n",
    "nombre_exposed        389\n",
    "nombre_recovered    16636\n",
    "Name: 559, dtype: int64"
   ]
  },
  {
   "cell_type": "markdown",
   "id": "999c5f83",
   "metadata": {},
   "source": [
    "nombre_infected       659\n",
    "nombre_sain          2296\n",
    "nombre_exposed        373\n",
    "nombre_recovered    16672\n",
    "Name: 560, dtype: int64"
   ]
  },
  {
   "cell_type": "markdown",
   "id": "44a1f6e6",
   "metadata": {},
   "source": [
    "nombre_infected       685\n",
    "nombre_sain          2269\n",
    "nombre_exposed        366\n",
    "nombre_recovered    16680\n",
    "Name: 561, dtype: int64"
   ]
  },
  {
   "cell_type": "markdown",
   "id": "0019f0b0",
   "metadata": {},
   "source": [
    "nombre_infected       661\n",
    "nombre_sain          2262\n",
    "nombre_exposed        383\n",
    "nombre_recovered    16694\n",
    "Name: 562, dtype: int64"
   ]
  },
  {
   "cell_type": "markdown",
   "id": "f6d13e07",
   "metadata": {},
   "source": [
    "nombre_infected       673\n",
    "nombre_sain          2243\n",
    "nombre_exposed        373\n",
    "nombre_recovered    16711\n",
    "Name: 563, dtype: int64"
   ]
  },
  {
   "cell_type": "markdown",
   "id": "a1018897",
   "metadata": {},
   "source": [
    "nombre_infected       665\n",
    "nombre_sain          2242\n",
    "nombre_exposed        377\n",
    "nombre_recovered    16716\n",
    "Name: 564, dtype: int64"
   ]
  },
  {
   "cell_type": "markdown",
   "id": "6b63b101",
   "metadata": {},
   "source": [
    "nombre_infected       669\n",
    "nombre_sain          2259\n",
    "nombre_exposed        369\n",
    "nombre_recovered    16703\n",
    "Name: 565, dtype: int64"
   ]
  },
  {
   "cell_type": "markdown",
   "id": "e039d530",
   "metadata": {},
   "source": [
    "nombre_infected       677\n",
    "nombre_sain          2255\n",
    "nombre_exposed        368\n",
    "nombre_recovered    16700\n",
    "Name: 566, dtype: int64"
   ]
  },
  {
   "cell_type": "markdown",
   "id": "fb5fb547",
   "metadata": {},
   "source": [
    "nombre_infected       681\n",
    "nombre_sain          2260\n",
    "nombre_exposed        367\n",
    "nombre_recovered    16692\n",
    "Name: 567, dtype: int64"
   ]
  },
  {
   "cell_type": "markdown",
   "id": "940b5999",
   "metadata": {},
   "source": [
    "nombre_infected       682\n",
    "nombre_sain          2245\n",
    "nombre_exposed        394\n",
    "nombre_recovered    16679\n",
    "Name: 568, dtype: int64"
   ]
  },
  {
   "cell_type": "markdown",
   "id": "e20185ae",
   "metadata": {},
   "source": [
    "nombre_infected       666\n",
    "nombre_sain          2241\n",
    "nombre_exposed        399\n",
    "nombre_recovered    16694\n",
    "Name: 569, dtype: int64"
   ]
  },
  {
   "cell_type": "markdown",
   "id": "d17cfd09",
   "metadata": {},
   "source": [
    "nombre_infected       691\n",
    "nombre_sain          2253\n",
    "nombre_exposed        369\n",
    "nombre_recovered    16687\n",
    "Name: 570, dtype: int64"
   ]
  },
  {
   "cell_type": "markdown",
   "id": "753cb7c1",
   "metadata": {},
   "source": [
    "nombre_infected       710\n",
    "nombre_sain          2276\n",
    "nombre_exposed        344\n",
    "nombre_recovered    16670\n",
    "Name: 571, dtype: int64"
   ]
  },
  {
   "cell_type": "markdown",
   "id": "e697fb2f",
   "metadata": {},
   "source": [
    "nombre_infected       692\n",
    "nombre_sain          2274\n",
    "nombre_exposed        372\n",
    "nombre_recovered    16662\n",
    "Name: 572, dtype: int64"
   ]
  },
  {
   "cell_type": "markdown",
   "id": "94e74891",
   "metadata": {},
   "source": [
    "nombre_infected       690\n",
    "nombre_sain          2292\n",
    "nombre_exposed        372\n",
    "nombre_recovered    16646\n",
    "Name: 573, dtype: int64"
   ]
  },
  {
   "cell_type": "markdown",
   "id": "59c9fa29",
   "metadata": {},
   "source": [
    "nombre_infected       698\n",
    "nombre_sain          2316\n",
    "nombre_exposed        356\n",
    "nombre_recovered    16630\n",
    "Name: 574, dtype: int64"
   ]
  },
  {
   "cell_type": "markdown",
   "id": "a52b3796",
   "metadata": {},
   "source": [
    "nombre_infected       691\n",
    "nombre_sain          2312\n",
    "nombre_exposed        387\n",
    "nombre_recovered    16610\n",
    "Name: 575, dtype: int64"
   ]
  },
  {
   "cell_type": "markdown",
   "id": "aeb92502",
   "metadata": {},
   "source": [
    "nombre_infected       678\n",
    "nombre_sain          2321\n",
    "nombre_exposed        397\n",
    "nombre_recovered    16604\n",
    "Name: 576, dtype: int64"
   ]
  },
  {
   "cell_type": "markdown",
   "id": "7f201232",
   "metadata": {},
   "source": [
    "nombre_infected       696\n",
    "nombre_sain          2326\n",
    "nombre_exposed        387\n",
    "nombre_recovered    16591\n",
    "Name: 577, dtype: int64"
   ]
  },
  {
   "cell_type": "markdown",
   "id": "13b30289",
   "metadata": {},
   "source": [
    "nombre_infected       700\n",
    "nombre_sain          2330\n",
    "nombre_exposed        384\n",
    "nombre_recovered    16586\n",
    "Name: 578, dtype: int64"
   ]
  },
  {
   "cell_type": "markdown",
   "id": "6f1b5079",
   "metadata": {},
   "source": [
    "nombre_infected       703\n",
    "nombre_sain          2351\n",
    "nombre_exposed        378\n",
    "nombre_recovered    16568\n",
    "Name: 579, dtype: int64"
   ]
  },
  {
   "cell_type": "markdown",
   "id": "fad8cd25",
   "metadata": {},
   "source": [
    "nombre_infected       714\n",
    "nombre_sain          2338\n",
    "nombre_exposed        398\n",
    "nombre_recovered    16550\n",
    "Name: 580, dtype: int64"
   ]
  },
  {
   "cell_type": "markdown",
   "id": "55aaeb3f",
   "metadata": {},
   "source": [
    "nombre_infected       709\n",
    "nombre_sain          2358\n",
    "nombre_exposed        405\n",
    "nombre_recovered    16528\n",
    "Name: 581, dtype: int64"
   ]
  },
  {
   "cell_type": "markdown",
   "id": "ee02a9de",
   "metadata": {},
   "source": [
    "nombre_infected       716\n",
    "nombre_sain          2352\n",
    "nombre_exposed        386\n",
    "nombre_recovered    16546\n",
    "Name: 582, dtype: int64"
   ]
  },
  {
   "cell_type": "markdown",
   "id": "97617236",
   "metadata": {},
   "source": [
    "nombre_infected       751\n",
    "nombre_sain          2344\n",
    "nombre_exposed        384\n",
    "nombre_recovered    16521\n",
    "Name: 583, dtype: int64"
   ]
  },
  {
   "cell_type": "markdown",
   "id": "d084e8b1",
   "metadata": {},
   "source": [
    "nombre_infected       739\n",
    "nombre_sain          2325\n",
    "nombre_exposed        418\n",
    "nombre_recovered    16518\n",
    "Name: 584, dtype: int64"
   ]
  },
  {
   "cell_type": "markdown",
   "id": "06f48b00",
   "metadata": {},
   "source": [
    "nombre_infected       743\n",
    "nombre_sain          2322\n",
    "nombre_exposed        426\n",
    "nombre_recovered    16509\n",
    "Name: 585, dtype: int64"
   ]
  },
  {
   "cell_type": "markdown",
   "id": "4e5e4e87",
   "metadata": {},
   "source": [
    "nombre_infected       765\n",
    "nombre_sain          2323\n",
    "nombre_exposed        430\n",
    "nombre_recovered    16482\n",
    "Name: 586, dtype: int64"
   ]
  },
  {
   "cell_type": "markdown",
   "id": "d9e9270a",
   "metadata": {},
   "source": [
    "nombre_infected       786\n",
    "nombre_sain          2296\n",
    "nombre_exposed        436\n",
    "nombre_recovered    16482\n",
    "Name: 587, dtype: int64"
   ]
  },
  {
   "cell_type": "markdown",
   "id": "fe658d3c",
   "metadata": {},
   "source": [
    "nombre_infected       798\n",
    "nombre_sain          2285\n",
    "nombre_exposed        447\n",
    "nombre_recovered    16470\n",
    "Name: 588, dtype: int64"
   ]
  },
  {
   "cell_type": "markdown",
   "id": "48ddaef5",
   "metadata": {},
   "source": [
    "nombre_infected       791\n",
    "nombre_sain          2262\n",
    "nombre_exposed        452\n",
    "nombre_recovered    16495\n",
    "Name: 589, dtype: int64"
   ]
  },
  {
   "cell_type": "markdown",
   "id": "9026260c",
   "metadata": {},
   "source": [
    "nombre_infected       810\n",
    "nombre_sain          2222\n",
    "nombre_exposed        468\n",
    "nombre_recovered    16500\n",
    "Name: 590, dtype: int64"
   ]
  },
  {
   "cell_type": "markdown",
   "id": "61affafc",
   "metadata": {},
   "source": [
    "nombre_infected       818\n",
    "nombre_sain          2210\n",
    "nombre_exposed        449\n",
    "nombre_recovered    16523\n",
    "Name: 591, dtype: int64"
   ]
  },
  {
   "cell_type": "markdown",
   "id": "556e1a3f",
   "metadata": {},
   "source": [
    "nombre_infected       824\n",
    "nombre_sain          2193\n",
    "nombre_exposed        430\n",
    "nombre_recovered    16553\n",
    "Name: 592, dtype: int64"
   ]
  },
  {
   "cell_type": "markdown",
   "id": "fb3c5b50",
   "metadata": {},
   "source": [
    "nombre_infected       833\n",
    "nombre_sain          2180\n",
    "nombre_exposed        416\n",
    "nombre_recovered    16571\n",
    "Name: 593, dtype: int64"
   ]
  },
  {
   "cell_type": "markdown",
   "id": "ac39c69b",
   "metadata": {},
   "source": [
    "nombre_infected       823\n",
    "nombre_sain          2142\n",
    "nombre_exposed        445\n",
    "nombre_recovered    16590\n",
    "Name: 594, dtype: int64"
   ]
  },
  {
   "cell_type": "markdown",
   "id": "8ecb6872",
   "metadata": {},
   "source": [
    "nombre_infected       831\n",
    "nombre_sain          2114\n",
    "nombre_exposed        437\n",
    "nombre_recovered    16618\n",
    "Name: 595, dtype: int64"
   ]
  },
  {
   "cell_type": "markdown",
   "id": "def959a9",
   "metadata": {},
   "source": [
    "nombre_infected       818\n",
    "nombre_sain          2102\n",
    "nombre_exposed        448\n",
    "nombre_recovered    16632\n",
    "Name: 596, dtype: int64"
   ]
  },
  {
   "cell_type": "markdown",
   "id": "e8ba190e",
   "metadata": {},
   "source": [
    "nombre_infected       813\n",
    "nombre_sain          2078\n",
    "nombre_exposed        434\n",
    "nombre_recovered    16675\n",
    "Name: 597, dtype: int64"
   ]
  },
  {
   "cell_type": "markdown",
   "id": "adb03021",
   "metadata": {},
   "source": [
    "nombre_infected       838\n",
    "nombre_sain          2097\n",
    "nombre_exposed        400\n",
    "nombre_recovered    16665\n",
    "Name: 598, dtype: int64"
   ]
  },
  {
   "cell_type": "markdown",
   "id": "95c2e0cd",
   "metadata": {},
   "source": [
    "nombre_infected       849\n",
    "nombre_sain          2081\n",
    "nombre_exposed        393\n",
    "nombre_recovered    16677\n",
    "Name: 599, dtype: int64"
   ]
  },
  {
   "cell_type": "markdown",
   "id": "03adceb3",
   "metadata": {},
   "source": [
    "nombre_infected       854\n",
    "nombre_sain          2068\n",
    "nombre_exposed        408\n",
    "nombre_recovered    16670\n",
    "Name: 600, dtype: int64"
   ]
  },
  {
   "cell_type": "markdown",
   "id": "2fcdf8ea",
   "metadata": {},
   "source": [
    "nombre_infected       840\n",
    "nombre_sain          2076\n",
    "nombre_exposed        397\n",
    "nombre_recovered    16687\n",
    "Name: 601, dtype: int64"
   ]
  },
  {
   "cell_type": "markdown",
   "id": "480900c3",
   "metadata": {},
   "source": [
    "nombre_infected       823\n",
    "nombre_sain          2082\n",
    "nombre_exposed        395\n",
    "nombre_recovered    16700\n",
    "Name: 602, dtype: int64"
   ]
  },
  {
   "cell_type": "markdown",
   "id": "1f0a3df3",
   "metadata": {},
   "source": [
    "nombre_infected       814\n",
    "nombre_sain          2055\n",
    "nombre_exposed        407\n",
    "nombre_recovered    16724\n",
    "Name: 603, dtype: int64"
   ]
  },
  {
   "cell_type": "markdown",
   "id": "6b4c07fb",
   "metadata": {},
   "source": [
    "nombre_infected       806\n",
    "nombre_sain          2057\n",
    "nombre_exposed        404\n",
    "nombre_recovered    16733\n",
    "Name: 604, dtype: int64"
   ]
  },
  {
   "cell_type": "markdown",
   "id": "8e9359e6",
   "metadata": {},
   "source": [
    "nombre_infected       785\n",
    "nombre_sain          2051\n",
    "nombre_exposed        412\n",
    "nombre_recovered    16752\n",
    "Name: 605, dtype: int64"
   ]
  },
  {
   "cell_type": "markdown",
   "id": "651a43ca",
   "metadata": {},
   "source": [
    "nombre_infected       796\n",
    "nombre_sain          2052\n",
    "nombre_exposed        391\n",
    "nombre_recovered    16761\n",
    "Name: 606, dtype: int64"
   ]
  },
  {
   "cell_type": "markdown",
   "id": "fc8f2e19",
   "metadata": {},
   "source": [
    "nombre_infected       803\n",
    "nombre_sain          2051\n",
    "nombre_exposed        393\n",
    "nombre_recovered    16753\n",
    "Name: 607, dtype: int64"
   ]
  },
  {
   "cell_type": "markdown",
   "id": "608833a9",
   "metadata": {},
   "source": [
    "nombre_infected       792\n",
    "nombre_sain          2057\n",
    "nombre_exposed        400\n",
    "nombre_recovered    16751\n",
    "Name: 608, dtype: int64"
   ]
  },
  {
   "cell_type": "markdown",
   "id": "11f5aadd",
   "metadata": {},
   "source": [
    "nombre_infected       810\n",
    "nombre_sain          2058\n",
    "nombre_exposed        394\n",
    "nombre_recovered    16738\n",
    "Name: 609, dtype: int64"
   ]
  },
  {
   "cell_type": "markdown",
   "id": "44c41048",
   "metadata": {},
   "source": [
    "nombre_infected       814\n",
    "nombre_sain          2051\n",
    "nombre_exposed        409\n",
    "nombre_recovered    16726\n",
    "Name: 610, dtype: int64"
   ]
  },
  {
   "cell_type": "markdown",
   "id": "2de3cd88",
   "metadata": {},
   "source": [
    "nombre_infected       821\n",
    "nombre_sain          2043\n",
    "nombre_exposed        412\n",
    "nombre_recovered    16724\n",
    "Name: 611, dtype: int64"
   ]
  },
  {
   "cell_type": "markdown",
   "id": "41e774f7",
   "metadata": {},
   "source": [
    "nombre_infected       800\n",
    "nombre_sain          2032\n",
    "nombre_exposed        426\n",
    "nombre_recovered    16742\n",
    "Name: 612, dtype: int64"
   ]
  },
  {
   "cell_type": "markdown",
   "id": "8a8dcfba",
   "metadata": {},
   "source": [
    "nombre_infected       801\n",
    "nombre_sain          2022\n",
    "nombre_exposed        437\n",
    "nombre_recovered    16740\n",
    "Name: 613, dtype: int64"
   ]
  },
  {
   "cell_type": "markdown",
   "id": "83d4caba",
   "metadata": {},
   "source": [
    "nombre_infected       812\n",
    "nombre_sain          2011\n",
    "nombre_exposed        434\n",
    "nombre_recovered    16743\n",
    "Name: 614, dtype: int64"
   ]
  },
  {
   "cell_type": "markdown",
   "id": "b761502b",
   "metadata": {},
   "source": [
    "nombre_infected       831\n",
    "nombre_sain          2023\n",
    "nombre_exposed        438\n",
    "nombre_recovered    16708\n",
    "Name: 615, dtype: int64"
   ]
  },
  {
   "cell_type": "markdown",
   "id": "eb8520ea",
   "metadata": {},
   "source": [
    "nombre_infected       831\n",
    "nombre_sain          1994\n",
    "nombre_exposed        452\n",
    "nombre_recovered    16723\n",
    "Name: 616, dtype: int64"
   ]
  },
  {
   "cell_type": "markdown",
   "id": "a62f1583",
   "metadata": {},
   "source": [
    "nombre_infected       855\n",
    "nombre_sain          1979\n",
    "nombre_exposed        440\n",
    "nombre_recovered    16726\n",
    "Name: 617, dtype: int64"
   ]
  },
  {
   "cell_type": "markdown",
   "id": "ded7f810",
   "metadata": {},
   "source": [
    "nombre_infected       848\n",
    "nombre_sain          1957\n",
    "nombre_exposed        434\n",
    "nombre_recovered    16761\n",
    "Name: 618, dtype: int64"
   ]
  },
  {
   "cell_type": "markdown",
   "id": "31cc5fee",
   "metadata": {},
   "source": [
    "nombre_infected       830\n",
    "nombre_sain          1958\n",
    "nombre_exposed        435\n",
    "nombre_recovered    16777\n",
    "Name: 619, dtype: int64"
   ]
  },
  {
   "cell_type": "markdown",
   "id": "351ec6d3",
   "metadata": {},
   "source": [
    "nombre_infected       827\n",
    "nombre_sain          1952\n",
    "nombre_exposed        428\n",
    "nombre_recovered    16793\n",
    "Name: 620, dtype: int64"
   ]
  },
  {
   "cell_type": "markdown",
   "id": "b93aebfb",
   "metadata": {},
   "source": [
    "nombre_infected       845\n",
    "nombre_sain          1954\n",
    "nombre_exposed        428\n",
    "nombre_recovered    16773\n",
    "Name: 621, dtype: int64"
   ]
  },
  {
   "cell_type": "markdown",
   "id": "eba4d0d4",
   "metadata": {},
   "source": [
    "nombre_infected       849\n",
    "nombre_sain          1955\n",
    "nombre_exposed        413\n",
    "nombre_recovered    16783\n",
    "Name: 622, dtype: int64"
   ]
  },
  {
   "cell_type": "markdown",
   "id": "4dfde7ac",
   "metadata": {},
   "source": [
    "nombre_infected       856\n",
    "nombre_sain          1941\n",
    "nombre_exposed        408\n",
    "nombre_recovered    16795\n",
    "Name: 623, dtype: int64"
   ]
  },
  {
   "cell_type": "markdown",
   "id": "2c064bee",
   "metadata": {},
   "source": [
    "nombre_infected       862\n",
    "nombre_sain          1925\n",
    "nombre_exposed        410\n",
    "nombre_recovered    16803\n",
    "Name: 624, dtype: int64"
   ]
  },
  {
   "cell_type": "markdown",
   "id": "69aa97d0",
   "metadata": {},
   "source": [
    "nombre_infected       845\n",
    "nombre_sain          1933\n",
    "nombre_exposed        415\n",
    "nombre_recovered    16807\n",
    "Name: 625, dtype: int64"
   ]
  },
  {
   "cell_type": "markdown",
   "id": "d81defae",
   "metadata": {},
   "source": [
    "nombre_infected       850\n",
    "nombre_sain          1962\n",
    "nombre_exposed        392\n",
    "nombre_recovered    16796\n",
    "Name: 626, dtype: int64"
   ]
  },
  {
   "cell_type": "markdown",
   "id": "75dca313",
   "metadata": {},
   "source": [
    "nombre_infected       831\n",
    "nombre_sain          1963\n",
    "nombre_exposed        402\n",
    "nombre_recovered    16804\n",
    "Name: 627, dtype: int64"
   ]
  },
  {
   "cell_type": "markdown",
   "id": "f1c54c03",
   "metadata": {},
   "source": [
    "nombre_infected       810\n",
    "nombre_sain          1975\n",
    "nombre_exposed        423\n",
    "nombre_recovered    16792\n",
    "Name: 628, dtype: int64"
   ]
  },
  {
   "cell_type": "markdown",
   "id": "749d617e",
   "metadata": {},
   "source": [
    "nombre_infected       824\n",
    "nombre_sain          1964\n",
    "nombre_exposed        427\n",
    "nombre_recovered    16785\n",
    "Name: 629, dtype: int64"
   ]
  },
  {
   "cell_type": "markdown",
   "id": "3b0c6b47",
   "metadata": {},
   "source": [
    "nombre_infected       814\n",
    "nombre_sain          1969\n",
    "nombre_exposed        436\n",
    "nombre_recovered    16781\n",
    "Name: 630, dtype: int64"
   ]
  },
  {
   "cell_type": "markdown",
   "id": "cc41a093",
   "metadata": {},
   "source": [
    "nombre_infected       804\n",
    "nombre_sain          1985\n",
    "nombre_exposed        422\n",
    "nombre_recovered    16789\n",
    "Name: 631, dtype: int64"
   ]
  },
  {
   "cell_type": "markdown",
   "id": "bcf96c43",
   "metadata": {},
   "source": [
    "nombre_infected       805\n",
    "nombre_sain          1995\n",
    "nombre_exposed        394\n",
    "nombre_recovered    16806\n",
    "Name: 632, dtype: int64"
   ]
  },
  {
   "cell_type": "markdown",
   "id": "5256475a",
   "metadata": {},
   "source": [
    "nombre_infected       806\n",
    "nombre_sain          2034\n",
    "nombre_exposed        363\n",
    "nombre_recovered    16797\n",
    "Name: 633, dtype: int64"
   ]
  },
  {
   "cell_type": "markdown",
   "id": "d86fbdab",
   "metadata": {},
   "source": [
    "nombre_infected       802\n",
    "nombre_sain          2025\n",
    "nombre_exposed        363\n",
    "nombre_recovered    16810\n",
    "Name: 634, dtype: int64"
   ]
  },
  {
   "cell_type": "markdown",
   "id": "cf71ad2d",
   "metadata": {},
   "source": [
    "nombre_infected       783\n",
    "nombre_sain          2032\n",
    "nombre_exposed        382\n",
    "nombre_recovered    16803\n",
    "Name: 635, dtype: int64"
   ]
  },
  {
   "cell_type": "markdown",
   "id": "0cf9c560",
   "metadata": {},
   "source": [
    "nombre_infected       755\n",
    "nombre_sain          2039\n",
    "nombre_exposed        385\n",
    "nombre_recovered    16821\n",
    "Name: 636, dtype: int64"
   ]
  },
  {
   "cell_type": "markdown",
   "id": "8811960e",
   "metadata": {},
   "source": [
    "nombre_infected       750\n",
    "nombre_sain          2027\n",
    "nombre_exposed        390\n",
    "nombre_recovered    16833\n",
    "Name: 637, dtype: int64"
   ]
  },
  {
   "cell_type": "markdown",
   "id": "582f8925",
   "metadata": {},
   "source": [
    "nombre_infected       748\n",
    "nombre_sain          2015\n",
    "nombre_exposed        397\n",
    "nombre_recovered    16840\n",
    "Name: 638, dtype: int64"
   ]
  },
  {
   "cell_type": "markdown",
   "id": "006cf1fa",
   "metadata": {},
   "source": [
    "nombre_infected       748\n",
    "nombre_sain          2006\n",
    "nombre_exposed        398\n",
    "nombre_recovered    16848\n",
    "Name: 639, dtype: int64"
   ]
  },
  {
   "cell_type": "markdown",
   "id": "1756fbbf",
   "metadata": {},
   "source": [
    "nombre_infected       755\n",
    "nombre_sain          1992\n",
    "nombre_exposed        402\n",
    "nombre_recovered    16851\n",
    "Name: 640, dtype: int64"
   ]
  },
  {
   "cell_type": "markdown",
   "id": "c6d851e2",
   "metadata": {},
   "source": [
    "nombre_infected       770\n",
    "nombre_sain          1987\n",
    "nombre_exposed        386\n",
    "nombre_recovered    16857\n",
    "Name: 641, dtype: int64"
   ]
  },
  {
   "cell_type": "markdown",
   "id": "9be2e0a4",
   "metadata": {},
   "source": [
    "nombre_infected       755\n",
    "nombre_sain          1986\n",
    "nombre_exposed        398\n",
    "nombre_recovered    16861\n",
    "Name: 642, dtype: int64"
   ]
  },
  {
   "cell_type": "markdown",
   "id": "366410db",
   "metadata": {},
   "source": [
    "nombre_infected       758\n",
    "nombre_sain          1981\n",
    "nombre_exposed        408\n",
    "nombre_recovered    16853\n",
    "Name: 643, dtype: int64"
   ]
  },
  {
   "cell_type": "markdown",
   "id": "91c1bb28",
   "metadata": {},
   "source": [
    "nombre_infected       767\n",
    "nombre_sain          1979\n",
    "nombre_exposed        397\n",
    "nombre_recovered    16857\n",
    "Name: 644, dtype: int64"
   ]
  },
  {
   "cell_type": "markdown",
   "id": "10534fe7",
   "metadata": {},
   "source": [
    "nombre_infected       758\n",
    "nombre_sain          1975\n",
    "nombre_exposed        402\n",
    "nombre_recovered    16865\n",
    "Name: 645, dtype: int64"
   ]
  },
  {
   "cell_type": "markdown",
   "id": "a615d4a8",
   "metadata": {},
   "source": [
    "nombre_infected       775\n",
    "nombre_sain          1980\n",
    "nombre_exposed        374\n",
    "nombre_recovered    16871\n",
    "Name: 646, dtype: int64"
   ]
  },
  {
   "cell_type": "markdown",
   "id": "d89286ca",
   "metadata": {},
   "source": [
    "nombre_infected       790\n",
    "nombre_sain          2003\n",
    "nombre_exposed        364\n",
    "nombre_recovered    16843\n",
    "Name: 647, dtype: int64"
   ]
  },
  {
   "cell_type": "markdown",
   "id": "b578cfab",
   "metadata": {},
   "source": [
    "nombre_infected       763\n",
    "nombre_sain          1975\n",
    "nombre_exposed        399\n",
    "nombre_recovered    16863\n",
    "Name: 648, dtype: int64"
   ]
  },
  {
   "cell_type": "markdown",
   "id": "b4d9163e",
   "metadata": {},
   "source": [
    "nombre_infected       753\n",
    "nombre_sain          1971\n",
    "nombre_exposed        384\n",
    "nombre_recovered    16892\n",
    "Name: 649, dtype: int64"
   ]
  },
  {
   "cell_type": "markdown",
   "id": "da1cd93e",
   "metadata": {},
   "source": [
    "nombre_infected       758\n",
    "nombre_sain          1990\n",
    "nombre_exposed        399\n",
    "nombre_recovered    16853\n",
    "Name: 650, dtype: int64"
   ]
  },
  {
   "cell_type": "markdown",
   "id": "c61692bc",
   "metadata": {},
   "source": [
    "nombre_infected       732\n",
    "nombre_sain          2007\n",
    "nombre_exposed        403\n",
    "nombre_recovered    16858\n",
    "Name: 651, dtype: int64"
   ]
  },
  {
   "cell_type": "markdown",
   "id": "c8a09cc6",
   "metadata": {},
   "source": [
    "nombre_infected       717\n",
    "nombre_sain          2022\n",
    "nombre_exposed        389\n",
    "nombre_recovered    16872\n",
    "Name: 652, dtype: int64"
   ]
  },
  {
   "cell_type": "markdown",
   "id": "17298d42",
   "metadata": {},
   "source": [
    "nombre_infected       704\n",
    "nombre_sain          2037\n",
    "nombre_exposed        397\n",
    "nombre_recovered    16862\n",
    "Name: 653, dtype: int64"
   ]
  },
  {
   "cell_type": "markdown",
   "id": "100dd509",
   "metadata": {},
   "source": [
    "nombre_infected       707\n",
    "nombre_sain          2072\n",
    "nombre_exposed        382\n",
    "nombre_recovered    16839\n",
    "Name: 654, dtype: int64"
   ]
  },
  {
   "cell_type": "markdown",
   "id": "d44a0834",
   "metadata": {},
   "source": [
    "nombre_infected       701\n",
    "nombre_sain          2072\n",
    "nombre_exposed        394\n",
    "nombre_recovered    16833\n",
    "Name: 655, dtype: int64"
   ]
  },
  {
   "cell_type": "markdown",
   "id": "5b8930f7",
   "metadata": {},
   "source": [
    "nombre_infected       691\n",
    "nombre_sain          2094\n",
    "nombre_exposed        391\n",
    "nombre_recovered    16824\n",
    "Name: 656, dtype: int64"
   ]
  },
  {
   "cell_type": "markdown",
   "id": "9d0cebbb",
   "metadata": {},
   "source": [
    "nombre_infected       706\n",
    "nombre_sain          2122\n",
    "nombre_exposed        375\n",
    "nombre_recovered    16797\n",
    "Name: 657, dtype: int64"
   ]
  },
  {
   "cell_type": "markdown",
   "id": "f97b47cf",
   "metadata": {},
   "source": [
    "nombre_infected       681\n",
    "nombre_sain          2158\n",
    "nombre_exposed        383\n",
    "nombre_recovered    16778\n",
    "Name: 658, dtype: int64"
   ]
  },
  {
   "cell_type": "markdown",
   "id": "45b0dad0",
   "metadata": {},
   "source": [
    "nombre_infected       666\n",
    "nombre_sain          2192\n",
    "nombre_exposed        380\n",
    "nombre_recovered    16762\n",
    "Name: 659, dtype: int64"
   ]
  },
  {
   "cell_type": "markdown",
   "id": "905a333a",
   "metadata": {},
   "source": [
    "nombre_infected       696\n",
    "nombre_sain          2176\n",
    "nombre_exposed        371\n",
    "nombre_recovered    16757\n",
    "Name: 660, dtype: int64"
   ]
  },
  {
   "cell_type": "markdown",
   "id": "21be49a4",
   "metadata": {},
   "source": [
    "nombre_infected       685\n",
    "nombre_sain          2206\n",
    "nombre_exposed        367\n",
    "nombre_recovered    16742\n",
    "Name: 661, dtype: int64"
   ]
  },
  {
   "cell_type": "markdown",
   "id": "61987199",
   "metadata": {},
   "source": [
    "nombre_infected       679\n",
    "nombre_sain          2187\n",
    "nombre_exposed        399\n",
    "nombre_recovered    16735\n",
    "Name: 662, dtype: int64"
   ]
  },
  {
   "cell_type": "markdown",
   "id": "a00965d6",
   "metadata": {},
   "source": [
    "nombre_infected       662\n",
    "nombre_sain          2186\n",
    "nombre_exposed        421\n",
    "nombre_recovered    16731\n",
    "Name: 663, dtype: int64"
   ]
  },
  {
   "cell_type": "markdown",
   "id": "dab95666",
   "metadata": {},
   "source": [
    "nombre_infected       653\n",
    "nombre_sain          2190\n",
    "nombre_exposed        420\n",
    "nombre_recovered    16737\n",
    "Name: 664, dtype: int64"
   ]
  },
  {
   "cell_type": "markdown",
   "id": "8309ca90",
   "metadata": {},
   "source": [
    "nombre_infected       653\n",
    "nombre_sain          2198\n",
    "nombre_exposed        414\n",
    "nombre_recovered    16735\n",
    "Name: 665, dtype: int64"
   ]
  },
  {
   "cell_type": "markdown",
   "id": "116405ca",
   "metadata": {},
   "source": [
    "nombre_infected       665\n",
    "nombre_sain          2200\n",
    "nombre_exposed        415\n",
    "nombre_recovered    16720\n",
    "Name: 666, dtype: int64"
   ]
  },
  {
   "cell_type": "markdown",
   "id": "6289fbdb",
   "metadata": {},
   "source": [
    "nombre_infected       681\n",
    "nombre_sain          2231\n",
    "nombre_exposed        393\n",
    "nombre_recovered    16695\n",
    "Name: 667, dtype: int64"
   ]
  },
  {
   "cell_type": "markdown",
   "id": "6cf04ae7",
   "metadata": {},
   "source": [
    "nombre_infected       695\n",
    "nombre_sain          2241\n",
    "nombre_exposed        386\n",
    "nombre_recovered    16678\n",
    "Name: 668, dtype: int64"
   ]
  },
  {
   "cell_type": "markdown",
   "id": "f58c7a2f",
   "metadata": {},
   "source": [
    "nombre_infected       731\n",
    "nombre_sain          2217\n",
    "nombre_exposed        377\n",
    "nombre_recovered    16675\n",
    "Name: 669, dtype: int64"
   ]
  },
  {
   "cell_type": "markdown",
   "id": "15ad3783",
   "metadata": {},
   "source": [
    "nombre_infected       720\n",
    "nombre_sain          2181\n",
    "nombre_exposed        402\n",
    "nombre_recovered    16697\n",
    "Name: 670, dtype: int64"
   ]
  },
  {
   "cell_type": "markdown",
   "id": "c562697c",
   "metadata": {},
   "source": [
    "nombre_infected       692\n",
    "nombre_sain          2185\n",
    "nombre_exposed        405\n",
    "nombre_recovered    16718\n",
    "Name: 671, dtype: int64"
   ]
  },
  {
   "cell_type": "markdown",
   "id": "f8cb5f15",
   "metadata": {},
   "source": [
    "nombre_infected       672\n",
    "nombre_sain          2191\n",
    "nombre_exposed        415\n",
    "nombre_recovered    16722\n",
    "Name: 672, dtype: int64"
   ]
  },
  {
   "cell_type": "markdown",
   "id": "78fda65e",
   "metadata": {},
   "source": [
    "nombre_infected       682\n",
    "nombre_sain          2200\n",
    "nombre_exposed        426\n",
    "nombre_recovered    16692\n",
    "Name: 673, dtype: int64"
   ]
  },
  {
   "cell_type": "markdown",
   "id": "186ca88d",
   "metadata": {},
   "source": [
    "nombre_infected       677\n",
    "nombre_sain          2201\n",
    "nombre_exposed        419\n",
    "nombre_recovered    16703\n",
    "Name: 674, dtype: int64"
   ]
  },
  {
   "cell_type": "markdown",
   "id": "f9a5bde3",
   "metadata": {},
   "source": [
    "nombre_infected       676\n",
    "nombre_sain          2220\n",
    "nombre_exposed        414\n",
    "nombre_recovered    16690\n",
    "Name: 675, dtype: int64"
   ]
  },
  {
   "cell_type": "markdown",
   "id": "55a71ee1",
   "metadata": {},
   "source": [
    "nombre_infected       683\n",
    "nombre_sain          2205\n",
    "nombre_exposed        429\n",
    "nombre_recovered    16683\n",
    "Name: 676, dtype: int64"
   ]
  },
  {
   "cell_type": "markdown",
   "id": "23e42d22",
   "metadata": {},
   "source": [
    "nombre_infected       672\n",
    "nombre_sain          2217\n",
    "nombre_exposed        438\n",
    "nombre_recovered    16673\n",
    "Name: 677, dtype: int64"
   ]
  },
  {
   "cell_type": "markdown",
   "id": "5a9432cc",
   "metadata": {},
   "source": [
    "nombre_infected       690\n",
    "nombre_sain          2247\n",
    "nombre_exposed        422\n",
    "nombre_recovered    16641\n",
    "Name: 678, dtype: int64"
   ]
  },
  {
   "cell_type": "markdown",
   "id": "88e46392",
   "metadata": {},
   "source": [
    "nombre_infected       698\n",
    "nombre_sain          2263\n",
    "nombre_exposed        403\n",
    "nombre_recovered    16636\n",
    "Name: 679, dtype: int64"
   ]
  },
  {
   "cell_type": "markdown",
   "id": "f8e773c0",
   "metadata": {},
   "source": [
    "nombre_infected       690\n",
    "nombre_sain          2282\n",
    "nombre_exposed        402\n",
    "nombre_recovered    16626\n",
    "Name: 680, dtype: int64"
   ]
  },
  {
   "cell_type": "markdown",
   "id": "e534e918",
   "metadata": {},
   "source": [
    "nombre_infected       698\n",
    "nombre_sain          2286\n",
    "nombre_exposed        401\n",
    "nombre_recovered    16615\n",
    "Name: 681, dtype: int64"
   ]
  },
  {
   "cell_type": "markdown",
   "id": "9390e5a8",
   "metadata": {},
   "source": [
    "nombre_infected       667\n",
    "nombre_sain          2295\n",
    "nombre_exposed        418\n",
    "nombre_recovered    16620\n",
    "Name: 682, dtype: int64"
   ]
  },
  {
   "cell_type": "markdown",
   "id": "2764a49b",
   "metadata": {},
   "source": [
    "nombre_infected       674\n",
    "nombre_sain          2320\n",
    "nombre_exposed        411\n",
    "nombre_recovered    16595\n",
    "Name: 683, dtype: int64"
   ]
  },
  {
   "cell_type": "markdown",
   "id": "05727ae2",
   "metadata": {},
   "source": [
    "nombre_infected       690\n",
    "nombre_sain          2292\n",
    "nombre_exposed        410\n",
    "nombre_recovered    16608\n",
    "Name: 684, dtype: int64"
   ]
  },
  {
   "cell_type": "markdown",
   "id": "25560339",
   "metadata": {},
   "source": [
    "nombre_infected       708\n",
    "nombre_sain          2304\n",
    "nombre_exposed        397\n",
    "nombre_recovered    16591\n",
    "Name: 685, dtype: int64"
   ]
  },
  {
   "cell_type": "markdown",
   "id": "899d5250",
   "metadata": {},
   "source": [
    "nombre_infected       702\n",
    "nombre_sain          2280\n",
    "nombre_exposed        419\n",
    "nombre_recovered    16599\n",
    "Name: 686, dtype: int64"
   ]
  },
  {
   "cell_type": "markdown",
   "id": "922e4e5e",
   "metadata": {},
   "source": [
    "nombre_infected       698\n",
    "nombre_sain          2266\n",
    "nombre_exposed        426\n",
    "nombre_recovered    16610\n",
    "Name: 687, dtype: int64"
   ]
  },
  {
   "cell_type": "markdown",
   "id": "b387c95d",
   "metadata": {},
   "source": [
    "nombre_infected       706\n",
    "nombre_sain          2272\n",
    "nombre_exposed        427\n",
    "nombre_recovered    16595\n",
    "Name: 688, dtype: int64"
   ]
  },
  {
   "cell_type": "markdown",
   "id": "8554bd19",
   "metadata": {},
   "source": [
    "nombre_infected       687\n",
    "nombre_sain          2274\n",
    "nombre_exposed        423\n",
    "nombre_recovered    16616\n",
    "Name: 689, dtype: int64"
   ]
  },
  {
   "cell_type": "markdown",
   "id": "b499709c",
   "metadata": {},
   "source": [
    "nombre_infected       688\n",
    "nombre_sain          2264\n",
    "nombre_exposed        414\n",
    "nombre_recovered    16634\n",
    "Name: 690, dtype: int64"
   ]
  },
  {
   "cell_type": "markdown",
   "id": "ec718197",
   "metadata": {},
   "source": [
    "nombre_infected       702\n",
    "nombre_sain          2255\n",
    "nombre_exposed        408\n",
    "nombre_recovered    16635\n",
    "Name: 691, dtype: int64"
   ]
  },
  {
   "cell_type": "markdown",
   "id": "3de1d0a2",
   "metadata": {},
   "source": [
    "nombre_infected       699\n",
    "nombre_sain          2272\n",
    "nombre_exposed        418\n",
    "nombre_recovered    16611\n",
    "Name: 692, dtype: int64"
   ]
  },
  {
   "cell_type": "markdown",
   "id": "a7cca883",
   "metadata": {},
   "source": [
    "nombre_infected       702\n",
    "nombre_sain          2266\n",
    "nombre_exposed        430\n",
    "nombre_recovered    16602\n",
    "Name: 693, dtype: int64"
   ]
  },
  {
   "cell_type": "markdown",
   "id": "a43b577a",
   "metadata": {},
   "source": [
    "nombre_infected       696\n",
    "nombre_sain          2267\n",
    "nombre_exposed        431\n",
    "nombre_recovered    16606\n",
    "Name: 694, dtype: int64"
   ]
  },
  {
   "cell_type": "markdown",
   "id": "be65616b",
   "metadata": {},
   "source": [
    "nombre_infected       701\n",
    "nombre_sain          2251\n",
    "nombre_exposed        430\n",
    "nombre_recovered    16618\n",
    "Name: 695, dtype: int64"
   ]
  },
  {
   "cell_type": "markdown",
   "id": "32aee47f",
   "metadata": {},
   "source": [
    "nombre_infected       708\n",
    "nombre_sain          2267\n",
    "nombre_exposed        411\n",
    "nombre_recovered    16614\n",
    "Name: 696, dtype: int64"
   ]
  },
  {
   "cell_type": "markdown",
   "id": "b737d387",
   "metadata": {},
   "source": [
    "nombre_infected       711\n",
    "nombre_sain          2256\n",
    "nombre_exposed        415\n",
    "nombre_recovered    16618\n",
    "Name: 697, dtype: int64"
   ]
  },
  {
   "cell_type": "markdown",
   "id": "b43853e6",
   "metadata": {},
   "source": [
    "nombre_infected       706\n",
    "nombre_sain          2235\n",
    "nombre_exposed        447\n",
    "nombre_recovered    16612\n",
    "Name: 698, dtype: int64"
   ]
  },
  {
   "cell_type": "markdown",
   "id": "b9608a8b",
   "metadata": {},
   "source": [
    "nombre_infected       693\n",
    "nombre_sain          2264\n",
    "nombre_exposed        443\n",
    "nombre_recovered    16600\n",
    "Name: 699, dtype: int64"
   ]
  },
  {
   "cell_type": "markdown",
   "id": "eb62ebe3",
   "metadata": {},
   "source": [
    "nombre_infected       717\n",
    "nombre_sain          2268\n",
    "nombre_exposed        436\n",
    "nombre_recovered    16579\n",
    "Name: 700, dtype: int64"
   ]
  },
  {
   "cell_type": "markdown",
   "id": "b9c3a9fe",
   "metadata": {},
   "source": [
    "nombre_infected       727\n",
    "nombre_sain          2262\n",
    "nombre_exposed        418\n",
    "nombre_recovered    16593\n",
    "Name: 701, dtype: int64"
   ]
  },
  {
   "cell_type": "markdown",
   "id": "769d88f9",
   "metadata": {},
   "source": [
    "nombre_infected       723\n",
    "nombre_sain          2236\n",
    "nombre_exposed        444\n",
    "nombre_recovered    16597\n",
    "Name: 702, dtype: int64"
   ]
  },
  {
   "cell_type": "markdown",
   "id": "b73825cd",
   "metadata": {},
   "source": [
    "nombre_infected       731\n",
    "nombre_sain          2213\n",
    "nombre_exposed        443\n",
    "nombre_recovered    16613\n",
    "Name: 703, dtype: int64"
   ]
  },
  {
   "cell_type": "markdown",
   "id": "84a63c27",
   "metadata": {},
   "source": [
    "nombre_infected       753\n",
    "nombre_sain          2206\n",
    "nombre_exposed        439\n",
    "nombre_recovered    16602\n",
    "Name: 704, dtype: int64"
   ]
  },
  {
   "cell_type": "markdown",
   "id": "8fe34d0a",
   "metadata": {},
   "source": [
    "nombre_infected       738\n",
    "nombre_sain          2214\n",
    "nombre_exposed        428\n",
    "nombre_recovered    16620\n",
    "Name: 705, dtype: int64"
   ]
  },
  {
   "cell_type": "markdown",
   "id": "705e39f2",
   "metadata": {},
   "source": [
    "nombre_infected       740\n",
    "nombre_sain          2229\n",
    "nombre_exposed        408\n",
    "nombre_recovered    16623\n",
    "Name: 706, dtype: int64"
   ]
  },
  {
   "cell_type": "markdown",
   "id": "be2568ce",
   "metadata": {},
   "source": [
    "nombre_infected       750\n",
    "nombre_sain          2235\n",
    "nombre_exposed        407\n",
    "nombre_recovered    16608\n",
    "Name: 707, dtype: int64"
   ]
  },
  {
   "cell_type": "markdown",
   "id": "181c51d6",
   "metadata": {},
   "source": [
    "nombre_infected       732\n",
    "nombre_sain          2238\n",
    "nombre_exposed        436\n",
    "nombre_recovered    16594\n",
    "Name: 708, dtype: int64"
   ]
  },
  {
   "cell_type": "markdown",
   "id": "a79a9612",
   "metadata": {},
   "source": [
    "nombre_infected       743\n",
    "nombre_sain          2249\n",
    "nombre_exposed        439\n",
    "nombre_recovered    16569\n",
    "Name: 709, dtype: int64"
   ]
  },
  {
   "cell_type": "markdown",
   "id": "02184cf4",
   "metadata": {},
   "source": [
    "nombre_infected       744\n",
    "nombre_sain          2234\n",
    "nombre_exposed        443\n",
    "nombre_recovered    16579\n",
    "Name: 710, dtype: int64"
   ]
  },
  {
   "cell_type": "markdown",
   "id": "52c51a74",
   "metadata": {},
   "source": [
    "nombre_infected       740\n",
    "nombre_sain          2215\n",
    "nombre_exposed        462\n",
    "nombre_recovered    16583\n",
    "Name: 711, dtype: int64"
   ]
  },
  {
   "cell_type": "markdown",
   "id": "6bf2f06f",
   "metadata": {},
   "source": [
    "nombre_infected       747\n",
    "nombre_sain          2203\n",
    "nombre_exposed        453\n",
    "nombre_recovered    16597\n",
    "Name: 712, dtype: int64"
   ]
  },
  {
   "cell_type": "markdown",
   "id": "cf466dde",
   "metadata": {},
   "source": [
    "nombre_infected       735\n",
    "nombre_sain          2204\n",
    "nombre_exposed        466\n",
    "nombre_recovered    16595\n",
    "Name: 713, dtype: int64"
   ]
  },
  {
   "cell_type": "markdown",
   "id": "b3e9a7ba",
   "metadata": {},
   "source": [
    "nombre_infected       747\n",
    "nombre_sain          2195\n",
    "nombre_exposed        441\n",
    "nombre_recovered    16617\n",
    "Name: 714, dtype: int64"
   ]
  },
  {
   "cell_type": "markdown",
   "id": "c6311434",
   "metadata": {},
   "source": [
    "nombre_infected       751\n",
    "nombre_sain          2202\n",
    "nombre_exposed        433\n",
    "nombre_recovered    16614\n",
    "Name: 715, dtype: int64"
   ]
  },
  {
   "cell_type": "markdown",
   "id": "5847aa34",
   "metadata": {},
   "source": [
    "nombre_infected       753\n",
    "nombre_sain          2174\n",
    "nombre_exposed        452\n",
    "nombre_recovered    16621\n",
    "Name: 716, dtype: int64"
   ]
  },
  {
   "cell_type": "markdown",
   "id": "db5f41e3",
   "metadata": {},
   "source": [
    "nombre_infected       757\n",
    "nombre_sain          2177\n",
    "nombre_exposed        436\n",
    "nombre_recovered    16630\n",
    "Name: 717, dtype: int64"
   ]
  },
  {
   "cell_type": "markdown",
   "id": "3e8b682a",
   "metadata": {},
   "source": [
    "nombre_infected       774\n",
    "nombre_sain          2164\n",
    "nombre_exposed        438\n",
    "nombre_recovered    16624\n",
    "Name: 718, dtype: int64"
   ]
  },
  {
   "cell_type": "markdown",
   "id": "ed740a07",
   "metadata": {},
   "source": [
    "nombre_infected       776\n",
    "nombre_sain          2133\n",
    "nombre_exposed        445\n",
    "nombre_recovered    16646\n",
    "Name: 719, dtype: int64"
   ]
  },
  {
   "cell_type": "markdown",
   "id": "afc02e86",
   "metadata": {},
   "source": [
    "nombre_infected       780\n",
    "nombre_sain          2110\n",
    "nombre_exposed        445\n",
    "nombre_recovered    16665\n",
    "Name: 720, dtype: int64"
   ]
  },
  {
   "cell_type": "markdown",
   "id": "c7b017a3",
   "metadata": {},
   "source": [
    "nombre_infected       778\n",
    "nombre_sain          2097\n",
    "nombre_exposed        427\n",
    "nombre_recovered    16698\n",
    "Name: 721, dtype: int64"
   ]
  },
  {
   "cell_type": "markdown",
   "id": "aa8afba8",
   "metadata": {},
   "source": [
    "nombre_infected       790\n",
    "nombre_sain          2100\n",
    "nombre_exposed        415\n",
    "nombre_recovered    16695\n",
    "Name: 722, dtype: int64"
   ]
  },
  {
   "cell_type": "markdown",
   "id": "8e6e78de",
   "metadata": {},
   "source": [
    "nombre_infected       762\n",
    "nombre_sain          2077\n",
    "nombre_exposed        421\n",
    "nombre_recovered    16740\n",
    "Name: 723, dtype: int64"
   ]
  },
  {
   "cell_type": "markdown",
   "id": "b8a5e52d",
   "metadata": {},
   "source": [
    "nombre_infected       755\n",
    "nombre_sain          2077\n",
    "nombre_exposed        403\n",
    "nombre_recovered    16765\n",
    "Name: 724, dtype: int64"
   ]
  },
  {
   "cell_type": "markdown",
   "id": "0dad87b2",
   "metadata": {},
   "source": [
    "nombre_infected       766\n",
    "nombre_sain          2093\n",
    "nombre_exposed        384\n",
    "nombre_recovered    16757\n",
    "Name: 725, dtype: int64"
   ]
  },
  {
   "cell_type": "markdown",
   "id": "5cf78298",
   "metadata": {},
   "source": [
    "nombre_infected       738\n",
    "nombre_sain          2077\n",
    "nombre_exposed        399\n",
    "nombre_recovered    16786\n",
    "Name: 726, dtype: int64"
   ]
  },
  {
   "cell_type": "markdown",
   "id": "7797d536",
   "metadata": {},
   "source": [
    "nombre_infected       717\n",
    "nombre_sain          2079\n",
    "nombre_exposed        408\n",
    "nombre_recovered    16796\n",
    "Name: 727, dtype: int64"
   ]
  },
  {
   "cell_type": "markdown",
   "id": "bc083b19",
   "metadata": {},
   "source": [
    "nombre_infected       714\n",
    "nombre_sain          2061\n",
    "nombre_exposed        408\n",
    "nombre_recovered    16817\n",
    "Name: 728, dtype: int64"
   ]
  },
  {
   "cell_type": "markdown",
   "id": "e18f6dd2",
   "metadata": {},
   "source": [
    "nombre_infected       727\n",
    "nombre_sain          2067\n",
    "nombre_exposed        392\n",
    "nombre_recovered    16814\n",
    "Name: 729, dtype: int64"
   ]
  },
  {
   "cell_type": "markdown",
   "id": "49b5d634",
   "metadata": {},
   "source": [
    "nombre_infected       710\n",
    "nombre_sain          2093\n",
    "nombre_exposed        395\n",
    "nombre_recovered    16802\n",
    "Name: 730, dtype: int64"
   ]
  }
 ],
 "metadata": {},
 "nbformat": 4,
 "nbformat_minor": 5
}
