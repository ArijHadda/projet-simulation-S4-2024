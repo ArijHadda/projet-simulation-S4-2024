{
 "cells": [
  {
   "cell_type": "markdown",
   "id": "8af2e7e1",
   "metadata": {},
   "source": [
    "nombre_infected        20\n",
    "nombre_sain         19980\n",
    "nombre_exposed          0\n",
    "nombre_recovered        0\n",
    "Name: 0, dtype: int64"
   ]
  },
  {
   "cell_type": "markdown",
   "id": "32dfc0fb",
   "metadata": {},
   "source": [
    "nombre_infected        20\n",
    "nombre_sain         19967\n",
    "nombre_exposed         13\n",
    "nombre_recovered        0\n",
    "Name: 1, dtype: int64"
   ]
  },
  {
   "cell_type": "markdown",
   "id": "a35de6c0",
   "metadata": {},
   "source": [
    "nombre_infected        20\n",
    "nombre_sain         19935\n",
    "nombre_exposed         45\n",
    "nombre_recovered        0\n",
    "Name: 2, dtype: int64"
   ]
  },
  {
   "cell_type": "markdown",
   "id": "2e8aff99",
   "metadata": {},
   "source": [
    "nombre_infected        23\n",
    "nombre_sain         19901\n",
    "nombre_exposed         76\n",
    "nombre_recovered        0\n",
    "Name: 3, dtype: int64"
   ]
  },
  {
   "cell_type": "markdown",
   "id": "3f892cf4",
   "metadata": {},
   "source": [
    "nombre_infected        37\n",
    "nombre_sain         19836\n",
    "nombre_exposed        127\n",
    "nombre_recovered        0\n",
    "Name: 4, dtype: int64"
   ]
  },
  {
   "cell_type": "markdown",
   "id": "552351d7",
   "metadata": {},
   "source": [
    "nombre_infected        55\n",
    "nombre_sain         19803\n",
    "nombre_exposed        142\n",
    "nombre_recovered        0\n",
    "Name: 5, dtype: int64"
   ]
  },
  {
   "cell_type": "markdown",
   "id": "99016a97",
   "metadata": {},
   "source": [
    "nombre_infected        84\n",
    "nombre_sain         19704\n",
    "nombre_exposed        204\n",
    "nombre_recovered        8\n",
    "Name: 6, dtype: int64"
   ]
  },
  {
   "cell_type": "markdown",
   "id": "2d1d114d",
   "metadata": {},
   "source": [
    "nombre_infected       111\n",
    "nombre_sain         19588\n",
    "nombre_exposed        289\n",
    "nombre_recovered       12\n",
    "Name: 7, dtype: int64"
   ]
  },
  {
   "cell_type": "markdown",
   "id": "53858a87",
   "metadata": {},
   "source": [
    "nombre_infected       134\n",
    "nombre_sain         19448\n",
    "nombre_exposed        391\n",
    "nombre_recovered       27\n",
    "Name: 8, dtype: int64"
   ]
  },
  {
   "cell_type": "markdown",
   "id": "24de78ae",
   "metadata": {},
   "source": [
    "nombre_infected       173\n",
    "nombre_sain         19285\n",
    "nombre_exposed        484\n",
    "nombre_recovered       58\n",
    "Name: 9, dtype: int64"
   ]
  },
  {
   "cell_type": "markdown",
   "id": "91e164d7",
   "metadata": {},
   "source": [
    "nombre_infected       257\n",
    "nombre_sain         19011\n",
    "nombre_exposed        662\n",
    "nombre_recovered       70\n",
    "Name: 10, dtype: int64"
   ]
  },
  {
   "cell_type": "markdown",
   "id": "ee85f69d",
   "metadata": {},
   "source": [
    "nombre_infected       359\n",
    "nombre_sain         18661\n",
    "nombre_exposed        894\n",
    "nombre_recovered       86\n",
    "Name: 11, dtype: int64"
   ]
  },
  {
   "cell_type": "markdown",
   "id": "eb08200b",
   "metadata": {},
   "source": [
    "nombre_infected       469\n",
    "nombre_sain         18194\n",
    "nombre_exposed       1220\n",
    "nombre_recovered      117\n",
    "Name: 12, dtype: int64"
   ]
  },
  {
   "cell_type": "markdown",
   "id": "a6e671b3",
   "metadata": {},
   "source": [
    "nombre_infected       665\n",
    "nombre_sain         17572\n",
    "nombre_exposed       1600\n",
    "nombre_recovered      163\n",
    "Name: 13, dtype: int64"
   ]
  },
  {
   "cell_type": "markdown",
   "id": "04e5eb2b",
   "metadata": {},
   "source": [
    "nombre_infected       911\n",
    "nombre_sain         16679\n",
    "nombre_exposed       2204\n",
    "nombre_recovered      206\n",
    "Name: 14, dtype: int64"
   ]
  },
  {
   "cell_type": "markdown",
   "id": "12822e2b",
   "metadata": {},
   "source": [
    "nombre_infected      1214\n",
    "nombre_sain         15656\n",
    "nombre_exposed       2835\n",
    "nombre_recovered      295\n",
    "Name: 15, dtype: int64"
   ]
  },
  {
   "cell_type": "markdown",
   "id": "73e5acbc",
   "metadata": {},
   "source": [
    "nombre_infected      1643\n",
    "nombre_sain         14374\n",
    "nombre_exposed       3586\n",
    "nombre_recovered      397\n",
    "Name: 16, dtype: int64"
   ]
  },
  {
   "cell_type": "markdown",
   "id": "2238bf8e",
   "metadata": {},
   "source": [
    "nombre_infected      2209\n",
    "nombre_sain         12912\n",
    "nombre_exposed       4360\n",
    "nombre_recovered      519\n",
    "Name: 17, dtype: int64"
   ]
  },
  {
   "cell_type": "markdown",
   "id": "b273de66",
   "metadata": {},
   "source": [
    "nombre_infected      2889\n",
    "nombre_sain         11141\n",
    "nombre_exposed       5275\n",
    "nombre_recovered      695\n",
    "Name: 18, dtype: int64"
   ]
  },
  {
   "cell_type": "markdown",
   "id": "5baa58dc",
   "metadata": {},
   "source": [
    "nombre_infected     3587\n",
    "nombre_sain         9363\n",
    "nombre_exposed      6069\n",
    "nombre_recovered     981\n",
    "Name: 19, dtype: int64"
   ]
  },
  {
   "cell_type": "markdown",
   "id": "7b2538e7",
   "metadata": {},
   "source": [
    "nombre_infected     4445\n",
    "nombre_sain         7510\n",
    "nombre_exposed      6713\n",
    "nombre_recovered    1332\n",
    "Name: 20, dtype: int64"
   ]
  },
  {
   "cell_type": "markdown",
   "id": "8129e4d3",
   "metadata": {},
   "source": [
    "nombre_infected     5406\n",
    "nombre_sain         5825\n",
    "nombre_exposed      7042\n",
    "nombre_recovered    1727\n",
    "Name: 21, dtype: int64"
   ]
  },
  {
   "cell_type": "markdown",
   "id": "5bf51796",
   "metadata": {},
   "source": [
    "nombre_infected     6419\n",
    "nombre_sain         4323\n",
    "nombre_exposed      7028\n",
    "nombre_recovered    2230\n",
    "Name: 22, dtype: int64"
   ]
  },
  {
   "cell_type": "markdown",
   "id": "3d0626a3",
   "metadata": {},
   "source": [
    "nombre_infected     7359\n",
    "nombre_sain         3112\n",
    "nombre_exposed      6660\n",
    "nombre_recovered    2869\n",
    "Name: 23, dtype: int64"
   ]
  },
  {
   "cell_type": "markdown",
   "id": "1ae513c0",
   "metadata": {},
   "source": [
    "nombre_infected     8133\n",
    "nombre_sain         2135\n",
    "nombre_exposed      6096\n",
    "nombre_recovered    3636\n",
    "Name: 24, dtype: int64"
   ]
  },
  {
   "cell_type": "markdown",
   "id": "0285db64",
   "metadata": {},
   "source": [
    "nombre_infected     8782\n",
    "nombre_sain         1450\n",
    "nombre_exposed      5271\n",
    "nombre_recovered    4497\n",
    "Name: 25, dtype: int64"
   ]
  },
  {
   "cell_type": "markdown",
   "id": "1bb6692b",
   "metadata": {},
   "source": [
    "nombre_infected     9142\n",
    "nombre_sain          954\n",
    "nombre_exposed      4488\n",
    "nombre_recovered    5416\n",
    "Name: 26, dtype: int64"
   ]
  },
  {
   "cell_type": "markdown",
   "id": "70999436",
   "metadata": {},
   "source": [
    "nombre_infected     9265\n",
    "nombre_sain          607\n",
    "nombre_exposed      3705\n",
    "nombre_recovered    6423\n",
    "Name: 27, dtype: int64"
   ]
  },
  {
   "cell_type": "markdown",
   "id": "0c34f3d2",
   "metadata": {},
   "source": [
    "nombre_infected     9182\n",
    "nombre_sain          411\n",
    "nombre_exposed      2972\n",
    "nombre_recovered    7435\n",
    "Name: 28, dtype: int64"
   ]
  },
  {
   "cell_type": "markdown",
   "id": "7f092b78",
   "metadata": {},
   "source": [
    "nombre_infected     8890\n",
    "nombre_sain          301\n",
    "nombre_exposed      2293\n",
    "nombre_recovered    8516\n",
    "Name: 29, dtype: int64"
   ]
  },
  {
   "cell_type": "markdown",
   "id": "ce219df6",
   "metadata": {},
   "source": [
    "nombre_infected     8500\n",
    "nombre_sain          233\n",
    "nombre_exposed      1771\n",
    "nombre_recovered    9496\n",
    "Name: 30, dtype: int64"
   ]
  },
  {
   "cell_type": "markdown",
   "id": "2ed4efff",
   "metadata": {},
   "source": [
    "nombre_infected      8011\n",
    "nombre_sain           180\n",
    "nombre_exposed       1358\n",
    "nombre_recovered    10451\n",
    "Name: 31, dtype: int64"
   ]
  },
  {
   "cell_type": "markdown",
   "id": "be8f7af7",
   "metadata": {},
   "source": [
    "nombre_infected      7417\n",
    "nombre_sain           151\n",
    "nombre_exposed       1037\n",
    "nombre_recovered    11395\n",
    "Name: 32, dtype: int64"
   ]
  },
  {
   "cell_type": "markdown",
   "id": "0f965894",
   "metadata": {},
   "source": [
    "nombre_infected      6879\n",
    "nombre_sain           129\n",
    "nombre_exposed        772\n",
    "nombre_recovered    12220\n",
    "Name: 33, dtype: int64"
   ]
  },
  {
   "cell_type": "markdown",
   "id": "5ac12d01",
   "metadata": {},
   "source": [
    "nombre_infected      6353\n",
    "nombre_sain           122\n",
    "nombre_exposed        578\n",
    "nombre_recovered    12947\n",
    "Name: 34, dtype: int64"
   ]
  },
  {
   "cell_type": "markdown",
   "id": "16c78205",
   "metadata": {},
   "source": [
    "nombre_infected      5805\n",
    "nombre_sain           127\n",
    "nombre_exposed        448\n",
    "nombre_recovered    13620\n",
    "Name: 35, dtype: int64"
   ]
  },
  {
   "cell_type": "markdown",
   "id": "e6d81432",
   "metadata": {},
   "source": [
    "nombre_infected      5268\n",
    "nombre_sain           131\n",
    "nombre_exposed        339\n",
    "nombre_recovered    14262\n",
    "Name: 36, dtype: int64"
   ]
  },
  {
   "cell_type": "markdown",
   "id": "9f92a931",
   "metadata": {},
   "source": [
    "nombre_infected      4783\n",
    "nombre_sain           145\n",
    "nombre_exposed        261\n",
    "nombre_recovered    14811\n",
    "Name: 37, dtype: int64"
   ]
  },
  {
   "cell_type": "markdown",
   "id": "fbb798d2",
   "metadata": {},
   "source": [
    "nombre_infected      4300\n",
    "nombre_sain           164\n",
    "nombre_exposed        201\n",
    "nombre_recovered    15335\n",
    "Name: 38, dtype: int64"
   ]
  },
  {
   "cell_type": "markdown",
   "id": "f6d51ad6",
   "metadata": {},
   "source": [
    "nombre_infected      3861\n",
    "nombre_sain           182\n",
    "nombre_exposed        159\n",
    "nombre_recovered    15798\n",
    "Name: 39, dtype: int64"
   ]
  },
  {
   "cell_type": "markdown",
   "id": "e3288264",
   "metadata": {},
   "source": [
    "nombre_infected      3431\n",
    "nombre_sain           194\n",
    "nombre_exposed        155\n",
    "nombre_recovered    16220\n",
    "Name: 40, dtype: int64"
   ]
  },
  {
   "cell_type": "markdown",
   "id": "bd0a0ba2",
   "metadata": {},
   "source": [
    "nombre_infected      3045\n",
    "nombre_sain           218\n",
    "nombre_exposed        129\n",
    "nombre_recovered    16608\n",
    "Name: 41, dtype: int64"
   ]
  },
  {
   "cell_type": "markdown",
   "id": "b05f98aa",
   "metadata": {},
   "source": [
    "nombre_infected      2684\n",
    "nombre_sain           227\n",
    "nombre_exposed        115\n",
    "nombre_recovered    16974\n",
    "Name: 42, dtype: int64"
   ]
  },
  {
   "cell_type": "markdown",
   "id": "cca6b6bc",
   "metadata": {},
   "source": [
    "nombre_infected      2360\n",
    "nombre_sain           238\n",
    "nombre_exposed        119\n",
    "nombre_recovered    17283\n",
    "Name: 43, dtype: int64"
   ]
  },
  {
   "cell_type": "markdown",
   "id": "89c75421",
   "metadata": {},
   "source": [
    "nombre_infected      2098\n",
    "nombre_sain           266\n",
    "nombre_exposed        112\n",
    "nombre_recovered    17524\n",
    "Name: 44, dtype: int64"
   ]
  },
  {
   "cell_type": "markdown",
   "id": "b18662b6",
   "metadata": {},
   "source": [
    "nombre_infected      1835\n",
    "nombre_sain           291\n",
    "nombre_exposed        104\n",
    "nombre_recovered    17770\n",
    "Name: 45, dtype: int64"
   ]
  },
  {
   "cell_type": "markdown",
   "id": "5a50a61d",
   "metadata": {},
   "source": [
    "nombre_infected      1631\n",
    "nombre_sain           339\n",
    "nombre_exposed         90\n",
    "nombre_recovered    17940\n",
    "Name: 46, dtype: int64"
   ]
  },
  {
   "cell_type": "markdown",
   "id": "98c6f207",
   "metadata": {},
   "source": [
    "nombre_infected      1403\n",
    "nombre_sain           372\n",
    "nombre_exposed         92\n",
    "nombre_recovered    18133\n",
    "Name: 47, dtype: int64"
   ]
  },
  {
   "cell_type": "markdown",
   "id": "e0f50e42",
   "metadata": {},
   "source": [
    "nombre_infected      1231\n",
    "nombre_sain           419\n",
    "nombre_exposed         99\n",
    "nombre_recovered    18251\n",
    "Name: 48, dtype: int64"
   ]
  },
  {
   "cell_type": "markdown",
   "id": "bec981d9",
   "metadata": {},
   "source": [
    "nombre_infected      1078\n",
    "nombre_sain           472\n",
    "nombre_exposed        101\n",
    "nombre_recovered    18349\n",
    "Name: 49, dtype: int64"
   ]
  },
  {
   "cell_type": "markdown",
   "id": "d1e9a693",
   "metadata": {},
   "source": [
    "nombre_infected       962\n",
    "nombre_sain           507\n",
    "nombre_exposed        100\n",
    "nombre_recovered    18431\n",
    "Name: 50, dtype: int64"
   ]
  },
  {
   "cell_type": "markdown",
   "id": "d18162d1",
   "metadata": {},
   "source": [
    "nombre_infected       853\n",
    "nombre_sain           555\n",
    "nombre_exposed        105\n",
    "nombre_recovered    18487\n",
    "Name: 51, dtype: int64"
   ]
  },
  {
   "cell_type": "markdown",
   "id": "3857ae55",
   "metadata": {},
   "source": [
    "nombre_infected       746\n",
    "nombre_sain           599\n",
    "nombre_exposed        113\n",
    "nombre_recovered    18542\n",
    "Name: 52, dtype: int64"
   ]
  },
  {
   "cell_type": "markdown",
   "id": "ed6ea5fd",
   "metadata": {},
   "source": [
    "nombre_infected       671\n",
    "nombre_sain           638\n",
    "nombre_exposed        123\n",
    "nombre_recovered    18568\n",
    "Name: 53, dtype: int64"
   ]
  },
  {
   "cell_type": "markdown",
   "id": "2afb8dfc",
   "metadata": {},
   "source": [
    "nombre_infected       593\n",
    "nombre_sain           677\n",
    "nombre_exposed        119\n",
    "nombre_recovered    18611\n",
    "Name: 54, dtype: int64"
   ]
  },
  {
   "cell_type": "markdown",
   "id": "9e89709e",
   "metadata": {},
   "source": [
    "nombre_infected       528\n",
    "nombre_sain           738\n",
    "nombre_exposed        111\n",
    "nombre_recovered    18623\n",
    "Name: 55, dtype: int64"
   ]
  },
  {
   "cell_type": "markdown",
   "id": "734f9ecb",
   "metadata": {},
   "source": [
    "nombre_infected       490\n",
    "nombre_sain           792\n",
    "nombre_exposed        110\n",
    "nombre_recovered    18608\n",
    "Name: 56, dtype: int64"
   ]
  },
  {
   "cell_type": "markdown",
   "id": "e1eb776c",
   "metadata": {},
   "source": [
    "nombre_infected       419\n",
    "nombre_sain           831\n",
    "nombre_exposed        106\n",
    "nombre_recovered    18644\n",
    "Name: 57, dtype: int64"
   ]
  },
  {
   "cell_type": "markdown",
   "id": "a97edba1",
   "metadata": {},
   "source": [
    "nombre_infected       377\n",
    "nombre_sain           882\n",
    "nombre_exposed         99\n",
    "nombre_recovered    18642\n",
    "Name: 58, dtype: int64"
   ]
  },
  {
   "cell_type": "markdown",
   "id": "1de29512",
   "metadata": {},
   "source": [
    "nombre_infected       341\n",
    "nombre_sain           924\n",
    "nombre_exposed         98\n",
    "nombre_recovered    18637\n",
    "Name: 59, dtype: int64"
   ]
  },
  {
   "cell_type": "markdown",
   "id": "43ac04ae",
   "metadata": {},
   "source": [
    "nombre_infected       305\n",
    "nombre_sain           967\n",
    "nombre_exposed         89\n",
    "nombre_recovered    18639\n",
    "Name: 60, dtype: int64"
   ]
  },
  {
   "cell_type": "markdown",
   "id": "da0a0528",
   "metadata": {},
   "source": [
    "nombre_infected       274\n",
    "nombre_sain           999\n",
    "nombre_exposed         84\n",
    "nombre_recovered    18643\n",
    "Name: 61, dtype: int64"
   ]
  },
  {
   "cell_type": "markdown",
   "id": "bf7908bd",
   "metadata": {},
   "source": [
    "nombre_infected       251\n",
    "nombre_sain          1031\n",
    "nombre_exposed         76\n",
    "nombre_recovered    18642\n",
    "Name: 62, dtype: int64"
   ]
  },
  {
   "cell_type": "markdown",
   "id": "3d1cfddd",
   "metadata": {},
   "source": [
    "nombre_infected       211\n",
    "nombre_sain          1083\n",
    "nombre_exposed         68\n",
    "nombre_recovered    18638\n",
    "Name: 63, dtype: int64"
   ]
  },
  {
   "cell_type": "markdown",
   "id": "6f6d25ec",
   "metadata": {},
   "source": [
    "nombre_infected       195\n",
    "nombre_sain          1116\n",
    "nombre_exposed         63\n",
    "nombre_recovered    18626\n",
    "Name: 64, dtype: int64"
   ]
  },
  {
   "cell_type": "markdown",
   "id": "6bc867b7",
   "metadata": {},
   "source": [
    "nombre_infected       174\n",
    "nombre_sain          1158\n",
    "nombre_exposed         63\n",
    "nombre_recovered    18605\n",
    "Name: 65, dtype: int64"
   ]
  },
  {
   "cell_type": "markdown",
   "id": "445a4dfb",
   "metadata": {},
   "source": [
    "nombre_infected       159\n",
    "nombre_sain          1189\n",
    "nombre_exposed         63\n",
    "nombre_recovered    18589\n",
    "Name: 66, dtype: int64"
   ]
  },
  {
   "cell_type": "markdown",
   "id": "a4766c51",
   "metadata": {},
   "source": [
    "nombre_infected       146\n",
    "nombre_sain          1221\n",
    "nombre_exposed         59\n",
    "nombre_recovered    18574\n",
    "Name: 67, dtype: int64"
   ]
  },
  {
   "cell_type": "markdown",
   "id": "e4304f82",
   "metadata": {},
   "source": [
    "nombre_infected       125\n",
    "nombre_sain          1262\n",
    "nombre_exposed         55\n",
    "nombre_recovered    18558\n",
    "Name: 68, dtype: int64"
   ]
  },
  {
   "cell_type": "markdown",
   "id": "3a770688",
   "metadata": {},
   "source": [
    "nombre_infected       115\n",
    "nombre_sain          1297\n",
    "nombre_exposed         54\n",
    "nombre_recovered    18534\n",
    "Name: 69, dtype: int64"
   ]
  },
  {
   "cell_type": "markdown",
   "id": "92e1d333",
   "metadata": {},
   "source": [
    "nombre_infected        91\n",
    "nombre_sain          1331\n",
    "nombre_exposed         48\n",
    "nombre_recovered    18530\n",
    "Name: 70, dtype: int64"
   ]
  },
  {
   "cell_type": "markdown",
   "id": "c89c6bab",
   "metadata": {},
   "source": [
    "nombre_infected        81\n",
    "nombre_sain          1383\n",
    "nombre_exposed         41\n",
    "nombre_recovered    18495\n",
    "Name: 71, dtype: int64"
   ]
  },
  {
   "cell_type": "markdown",
   "id": "2f4d3928",
   "metadata": {},
   "source": [
    "nombre_infected        72\n",
    "nombre_sain          1429\n",
    "nombre_exposed         45\n",
    "nombre_recovered    18454\n",
    "Name: 72, dtype: int64"
   ]
  },
  {
   "cell_type": "markdown",
   "id": "a38c7a23",
   "metadata": {},
   "source": [
    "nombre_infected        71\n",
    "nombre_sain          1482\n",
    "nombre_exposed         42\n",
    "nombre_recovered    18405\n",
    "Name: 73, dtype: int64"
   ]
  },
  {
   "cell_type": "markdown",
   "id": "190c4ad8",
   "metadata": {},
   "source": [
    "nombre_infected        70\n",
    "nombre_sain          1528\n",
    "nombre_exposed         39\n",
    "nombre_recovered    18363\n",
    "Name: 74, dtype: int64"
   ]
  },
  {
   "cell_type": "markdown",
   "id": "7b2ed906",
   "metadata": {},
   "source": [
    "nombre_infected        73\n",
    "nombre_sain          1565\n",
    "nombre_exposed         32\n",
    "nombre_recovered    18330\n",
    "Name: 75, dtype: int64"
   ]
  },
  {
   "cell_type": "markdown",
   "id": "32423baf",
   "metadata": {},
   "source": [
    "nombre_infected        66\n",
    "nombre_sain          1600\n",
    "nombre_exposed         37\n",
    "nombre_recovered    18297\n",
    "Name: 76, dtype: int64"
   ]
  },
  {
   "cell_type": "markdown",
   "id": "84ea64fa",
   "metadata": {},
   "source": [
    "nombre_infected        60\n",
    "nombre_sain          1643\n",
    "nombre_exposed         31\n",
    "nombre_recovered    18266\n",
    "Name: 77, dtype: int64"
   ]
  },
  {
   "cell_type": "markdown",
   "id": "90c8fe74",
   "metadata": {},
   "source": [
    "nombre_infected        52\n",
    "nombre_sain          1684\n",
    "nombre_exposed         28\n",
    "nombre_recovered    18236\n",
    "Name: 78, dtype: int64"
   ]
  },
  {
   "cell_type": "markdown",
   "id": "0e0cbb77",
   "metadata": {},
   "source": [
    "nombre_infected        50\n",
    "nombre_sain          1732\n",
    "nombre_exposed         25\n",
    "nombre_recovered    18193\n",
    "Name: 79, dtype: int64"
   ]
  },
  {
   "cell_type": "markdown",
   "id": "07f23da4",
   "metadata": {},
   "source": [
    "nombre_infected        53\n",
    "nombre_sain          1768\n",
    "nombre_exposed         17\n",
    "nombre_recovered    18162\n",
    "Name: 80, dtype: int64"
   ]
  },
  {
   "cell_type": "markdown",
   "id": "cb086250",
   "metadata": {},
   "source": [
    "nombre_infected        50\n",
    "nombre_sain          1819\n",
    "nombre_exposed         15\n",
    "nombre_recovered    18116\n",
    "Name: 81, dtype: int64"
   ]
  },
  {
   "cell_type": "markdown",
   "id": "49b191c5",
   "metadata": {},
   "source": [
    "nombre_infected        52\n",
    "nombre_sain          1850\n",
    "nombre_exposed         15\n",
    "nombre_recovered    18083\n",
    "Name: 82, dtype: int64"
   ]
  },
  {
   "cell_type": "markdown",
   "id": "24b3a83a",
   "metadata": {},
   "source": [
    "nombre_infected        41\n",
    "nombre_sain          1886\n",
    "nombre_exposed         20\n",
    "nombre_recovered    18053\n",
    "Name: 83, dtype: int64"
   ]
  },
  {
   "cell_type": "markdown",
   "id": "efc97ff4",
   "metadata": {},
   "source": [
    "nombre_infected        40\n",
    "nombre_sain          1931\n",
    "nombre_exposed         22\n",
    "nombre_recovered    18007\n",
    "Name: 84, dtype: int64"
   ]
  },
  {
   "cell_type": "markdown",
   "id": "cf24e42e",
   "metadata": {},
   "source": [
    "nombre_infected        40\n",
    "nombre_sain          1978\n",
    "nombre_exposed         25\n",
    "nombre_recovered    17957\n",
    "Name: 85, dtype: int64"
   ]
  },
  {
   "cell_type": "markdown",
   "id": "70415725",
   "metadata": {},
   "source": [
    "nombre_infected        39\n",
    "nombre_sain          2035\n",
    "nombre_exposed         23\n",
    "nombre_recovered    17903\n",
    "Name: 86, dtype: int64"
   ]
  },
  {
   "cell_type": "markdown",
   "id": "89826e9d",
   "metadata": {},
   "source": [
    "nombre_infected        36\n",
    "nombre_sain          2072\n",
    "nombre_exposed         23\n",
    "nombre_recovered    17869\n",
    "Name: 87, dtype: int64"
   ]
  },
  {
   "cell_type": "markdown",
   "id": "f26d2793",
   "metadata": {},
   "source": [
    "nombre_infected        39\n",
    "nombre_sain          2113\n",
    "nombre_exposed         24\n",
    "nombre_recovered    17824\n",
    "Name: 88, dtype: int64"
   ]
  },
  {
   "cell_type": "markdown",
   "id": "eabc4a48",
   "metadata": {},
   "source": [
    "nombre_infected        38\n",
    "nombre_sain          2154\n",
    "nombre_exposed         26\n",
    "nombre_recovered    17782\n",
    "Name: 89, dtype: int64"
   ]
  },
  {
   "cell_type": "markdown",
   "id": "f4a37e6b",
   "metadata": {},
   "source": [
    "nombre_infected        42\n",
    "nombre_sain          2205\n",
    "nombre_exposed         23\n",
    "nombre_recovered    17730\n",
    "Name: 90, dtype: int64"
   ]
  },
  {
   "cell_type": "markdown",
   "id": "f879aeab",
   "metadata": {},
   "source": [
    "nombre_infected        41\n",
    "nombre_sain          2259\n",
    "nombre_exposed         19\n",
    "nombre_recovered    17681\n",
    "Name: 91, dtype: int64"
   ]
  },
  {
   "cell_type": "markdown",
   "id": "42e1c330",
   "metadata": {},
   "source": [
    "nombre_infected        39\n",
    "nombre_sain          2292\n",
    "nombre_exposed         27\n",
    "nombre_recovered    17642\n",
    "Name: 92, dtype: int64"
   ]
  },
  {
   "cell_type": "markdown",
   "id": "6306bc30",
   "metadata": {},
   "source": [
    "nombre_infected        39\n",
    "nombre_sain          2348\n",
    "nombre_exposed         26\n",
    "nombre_recovered    17587\n",
    "Name: 93, dtype: int64"
   ]
  },
  {
   "cell_type": "markdown",
   "id": "c9f77269",
   "metadata": {},
   "source": [
    "nombre_infected        44\n",
    "nombre_sain          2390\n",
    "nombre_exposed         20\n",
    "nombre_recovered    17546\n",
    "Name: 94, dtype: int64"
   ]
  },
  {
   "cell_type": "markdown",
   "id": "63f5f0e7",
   "metadata": {},
   "source": [
    "nombre_infected        46\n",
    "nombre_sain          2431\n",
    "nombre_exposed         24\n",
    "nombre_recovered    17499\n",
    "Name: 95, dtype: int64"
   ]
  },
  {
   "cell_type": "markdown",
   "id": "2860b3e7",
   "metadata": {},
   "source": [
    "nombre_infected        46\n",
    "nombre_sain          2479\n",
    "nombre_exposed         32\n",
    "nombre_recovered    17443\n",
    "Name: 96, dtype: int64"
   ]
  },
  {
   "cell_type": "markdown",
   "id": "8c59131a",
   "metadata": {},
   "source": [
    "nombre_infected        51\n",
    "nombre_sain          2531\n",
    "nombre_exposed         26\n",
    "nombre_recovered    17392\n",
    "Name: 97, dtype: int64"
   ]
  },
  {
   "cell_type": "markdown",
   "id": "2a9d2d35",
   "metadata": {},
   "source": [
    "nombre_infected        51\n",
    "nombre_sain          2571\n",
    "nombre_exposed         30\n",
    "nombre_recovered    17348\n",
    "Name: 98, dtype: int64"
   ]
  },
  {
   "cell_type": "markdown",
   "id": "c393df22",
   "metadata": {},
   "source": [
    "nombre_infected        53\n",
    "nombre_sain          2623\n",
    "nombre_exposed         32\n",
    "nombre_recovered    17292\n",
    "Name: 99, dtype: int64"
   ]
  },
  {
   "cell_type": "markdown",
   "id": "5d66bb84",
   "metadata": {},
   "source": [
    "nombre_infected        49\n",
    "nombre_sain          2693\n",
    "nombre_exposed         31\n",
    "nombre_recovered    17227\n",
    "Name: 100, dtype: int64"
   ]
  },
  {
   "cell_type": "markdown",
   "id": "fe653dee",
   "metadata": {},
   "source": [
    "nombre_infected        53\n",
    "nombre_sain          2745\n",
    "nombre_exposed         30\n",
    "nombre_recovered    17172\n",
    "Name: 101, dtype: int64"
   ]
  },
  {
   "cell_type": "markdown",
   "id": "461ec6d3",
   "metadata": {},
   "source": [
    "nombre_infected        52\n",
    "nombre_sain          2808\n",
    "nombre_exposed         34\n",
    "nombre_recovered    17106\n",
    "Name: 102, dtype: int64"
   ]
  },
  {
   "cell_type": "markdown",
   "id": "b610bd8c",
   "metadata": {},
   "source": [
    "nombre_infected        53\n",
    "nombre_sain          2860\n",
    "nombre_exposed         38\n",
    "nombre_recovered    17049\n",
    "Name: 103, dtype: int64"
   ]
  },
  {
   "cell_type": "markdown",
   "id": "85e6e2e9",
   "metadata": {},
   "source": [
    "nombre_infected        50\n",
    "nombre_sain          2921\n",
    "nombre_exposed         46\n",
    "nombre_recovered    16983\n",
    "Name: 104, dtype: int64"
   ]
  },
  {
   "cell_type": "markdown",
   "id": "ac56edeb",
   "metadata": {},
   "source": [
    "nombre_infected        54\n",
    "nombre_sain          2962\n",
    "nombre_exposed         49\n",
    "nombre_recovered    16935\n",
    "Name: 105, dtype: int64"
   ]
  },
  {
   "cell_type": "markdown",
   "id": "068a126c",
   "metadata": {},
   "source": [
    "nombre_infected        61\n",
    "nombre_sain          3006\n",
    "nombre_exposed         47\n",
    "nombre_recovered    16886\n",
    "Name: 106, dtype: int64"
   ]
  },
  {
   "cell_type": "markdown",
   "id": "897eaf43",
   "metadata": {},
   "source": [
    "nombre_infected        59\n",
    "nombre_sain          3052\n",
    "nombre_exposed         51\n",
    "nombre_recovered    16838\n",
    "Name: 107, dtype: int64"
   ]
  },
  {
   "cell_type": "markdown",
   "id": "38876840",
   "metadata": {},
   "source": [
    "nombre_infected        57\n",
    "nombre_sain          3091\n",
    "nombre_exposed         53\n",
    "nombre_recovered    16799\n",
    "Name: 108, dtype: int64"
   ]
  },
  {
   "cell_type": "markdown",
   "id": "a7c1ef92",
   "metadata": {},
   "source": [
    "nombre_infected        59\n",
    "nombre_sain          3139\n",
    "nombre_exposed         58\n",
    "nombre_recovered    16744\n",
    "Name: 109, dtype: int64"
   ]
  },
  {
   "cell_type": "markdown",
   "id": "bb89f209",
   "metadata": {},
   "source": [
    "nombre_infected        63\n",
    "nombre_sain          3178\n",
    "nombre_exposed         54\n",
    "nombre_recovered    16705\n",
    "Name: 110, dtype: int64"
   ]
  },
  {
   "cell_type": "markdown",
   "id": "febbaf4d",
   "metadata": {},
   "source": [
    "nombre_infected        67\n",
    "nombre_sain          3227\n",
    "nombre_exposed         53\n",
    "nombre_recovered    16653\n",
    "Name: 111, dtype: int64"
   ]
  },
  {
   "cell_type": "markdown",
   "id": "cffc1462",
   "metadata": {},
   "source": [
    "nombre_infected        75\n",
    "nombre_sain          3269\n",
    "nombre_exposed         54\n",
    "nombre_recovered    16602\n",
    "Name: 112, dtype: int64"
   ]
  },
  {
   "cell_type": "markdown",
   "id": "14e2ffc4",
   "metadata": {},
   "source": [
    "nombre_infected        82\n",
    "nombre_sain          3322\n",
    "nombre_exposed         56\n",
    "nombre_recovered    16540\n",
    "Name: 113, dtype: int64"
   ]
  },
  {
   "cell_type": "markdown",
   "id": "965e7fd0",
   "metadata": {},
   "source": [
    "nombre_infected        74\n",
    "nombre_sain          3368\n",
    "nombre_exposed         71\n",
    "nombre_recovered    16487\n",
    "Name: 114, dtype: int64"
   ]
  },
  {
   "cell_type": "markdown",
   "id": "0886e693",
   "metadata": {},
   "source": [
    "nombre_infected        80\n",
    "nombre_sain          3428\n",
    "nombre_exposed         75\n",
    "nombre_recovered    16417\n",
    "Name: 115, dtype: int64"
   ]
  },
  {
   "cell_type": "markdown",
   "id": "1e47a612",
   "metadata": {},
   "source": [
    "nombre_infected        88\n",
    "nombre_sain          3470\n",
    "nombre_exposed         73\n",
    "nombre_recovered    16369\n",
    "Name: 116, dtype: int64"
   ]
  },
  {
   "cell_type": "markdown",
   "id": "5f1718a2",
   "metadata": {},
   "source": [
    "nombre_infected        99\n",
    "nombre_sain          3510\n",
    "nombre_exposed         81\n",
    "nombre_recovered    16310\n",
    "Name: 117, dtype: int64"
   ]
  },
  {
   "cell_type": "markdown",
   "id": "e14899ef",
   "metadata": {},
   "source": [
    "nombre_infected       105\n",
    "nombre_sain          3540\n",
    "nombre_exposed         89\n",
    "nombre_recovered    16266\n",
    "Name: 118, dtype: int64"
   ]
  },
  {
   "cell_type": "markdown",
   "id": "cb67959b",
   "metadata": {},
   "source": [
    "nombre_infected       111\n",
    "nombre_sain          3571\n",
    "nombre_exposed         91\n",
    "nombre_recovered    16227\n",
    "Name: 119, dtype: int64"
   ]
  },
  {
   "cell_type": "markdown",
   "id": "41a72a79",
   "metadata": {},
   "source": [
    "nombre_infected       120\n",
    "nombre_sain          3616\n",
    "nombre_exposed         84\n",
    "nombre_recovered    16180\n",
    "Name: 120, dtype: int64"
   ]
  },
  {
   "cell_type": "markdown",
   "id": "123c42e4",
   "metadata": {},
   "source": [
    "nombre_infected       125\n",
    "nombre_sain          3640\n",
    "nombre_exposed         87\n",
    "nombre_recovered    16148\n",
    "Name: 121, dtype: int64"
   ]
  },
  {
   "cell_type": "markdown",
   "id": "631d04fa",
   "metadata": {},
   "source": [
    "nombre_infected       120\n",
    "nombre_sain          3659\n",
    "nombre_exposed        109\n",
    "nombre_recovered    16112\n",
    "Name: 122, dtype: int64"
   ]
  },
  {
   "cell_type": "markdown",
   "id": "d2b9c228",
   "metadata": {},
   "source": [
    "nombre_infected       131\n",
    "nombre_sain          3685\n",
    "nombre_exposed        101\n",
    "nombre_recovered    16083\n",
    "Name: 123, dtype: int64"
   ]
  },
  {
   "cell_type": "markdown",
   "id": "4c962126",
   "metadata": {},
   "source": [
    "nombre_infected       146\n",
    "nombre_sain          3688\n",
    "nombre_exposed        101\n",
    "nombre_recovered    16065\n",
    "Name: 124, dtype: int64"
   ]
  },
  {
   "cell_type": "markdown",
   "id": "b094c58c",
   "metadata": {},
   "source": [
    "nombre_infected       144\n",
    "nombre_sain          3684\n",
    "nombre_exposed        114\n",
    "nombre_recovered    16058\n",
    "Name: 125, dtype: int64"
   ]
  },
  {
   "cell_type": "markdown",
   "id": "657a1467",
   "metadata": {},
   "source": [
    "nombre_infected       150\n",
    "nombre_sain          3688\n",
    "nombre_exposed        121\n",
    "nombre_recovered    16041\n",
    "Name: 126, dtype: int64"
   ]
  },
  {
   "cell_type": "markdown",
   "id": "d07535e0",
   "metadata": {},
   "source": [
    "nombre_infected       152\n",
    "nombre_sain          3681\n",
    "nombre_exposed        136\n",
    "nombre_recovered    16031\n",
    "Name: 127, dtype: int64"
   ]
  },
  {
   "cell_type": "markdown",
   "id": "bafd9e76",
   "metadata": {},
   "source": [
    "nombre_infected       160\n",
    "nombre_sain          3670\n",
    "nombre_exposed        147\n",
    "nombre_recovered    16023\n",
    "Name: 128, dtype: int64"
   ]
  },
  {
   "cell_type": "markdown",
   "id": "0217393f",
   "metadata": {},
   "source": [
    "nombre_infected       178\n",
    "nombre_sain          3662\n",
    "nombre_exposed        148\n",
    "nombre_recovered    16012\n",
    "Name: 129, dtype: int64"
   ]
  },
  {
   "cell_type": "markdown",
   "id": "1ec17a12",
   "metadata": {},
   "source": [
    "nombre_infected       196\n",
    "nombre_sain          3655\n",
    "nombre_exposed        157\n",
    "nombre_recovered    15992\n",
    "Name: 130, dtype: int64"
   ]
  },
  {
   "cell_type": "markdown",
   "id": "a1e71fb4",
   "metadata": {},
   "source": [
    "nombre_infected       212\n",
    "nombre_sain          3658\n",
    "nombre_exposed        162\n",
    "nombre_recovered    15968\n",
    "Name: 131, dtype: int64"
   ]
  },
  {
   "cell_type": "markdown",
   "id": "538f6256",
   "metadata": {},
   "source": [
    "nombre_infected       233\n",
    "nombre_sain          3650\n",
    "nombre_exposed        165\n",
    "nombre_recovered    15952\n",
    "Name: 132, dtype: int64"
   ]
  },
  {
   "cell_type": "markdown",
   "id": "d9058c8f",
   "metadata": {},
   "source": [
    "nombre_infected       244\n",
    "nombre_sain          3626\n",
    "nombre_exposed        192\n",
    "nombre_recovered    15938\n",
    "Name: 133, dtype: int64"
   ]
  },
  {
   "cell_type": "markdown",
   "id": "787b940b",
   "metadata": {},
   "source": [
    "nombre_infected       254\n",
    "nombre_sain          3600\n",
    "nombre_exposed        219\n",
    "nombre_recovered    15927\n",
    "Name: 134, dtype: int64"
   ]
  },
  {
   "cell_type": "markdown",
   "id": "57019d70",
   "metadata": {},
   "source": [
    "nombre_infected       259\n",
    "nombre_sain          3588\n",
    "nombre_exposed        235\n",
    "nombre_recovered    15918\n",
    "Name: 135, dtype: int64"
   ]
  },
  {
   "cell_type": "markdown",
   "id": "cf4ec2cc",
   "metadata": {},
   "source": [
    "nombre_infected       285\n",
    "nombre_sain          3592\n",
    "nombre_exposed        240\n",
    "nombre_recovered    15883\n",
    "Name: 136, dtype: int64"
   ]
  },
  {
   "cell_type": "markdown",
   "id": "89a3a5e4",
   "metadata": {},
   "source": [
    "nombre_infected       316\n",
    "nombre_sain          3590\n",
    "nombre_exposed        242\n",
    "nombre_recovered    15852\n",
    "Name: 137, dtype: int64"
   ]
  },
  {
   "cell_type": "markdown",
   "id": "93ea66b8",
   "metadata": {},
   "source": [
    "nombre_infected       321\n",
    "nombre_sain          3589\n",
    "nombre_exposed        260\n",
    "nombre_recovered    15830\n",
    "Name: 138, dtype: int64"
   ]
  },
  {
   "cell_type": "markdown",
   "id": "7739ab08",
   "metadata": {},
   "source": [
    "nombre_infected       333\n",
    "nombre_sain          3568\n",
    "nombre_exposed        279\n",
    "nombre_recovered    15820\n",
    "Name: 139, dtype: int64"
   ]
  },
  {
   "cell_type": "markdown",
   "id": "0d7e9bd9",
   "metadata": {},
   "source": [
    "nombre_infected       335\n",
    "nombre_sain          3523\n",
    "nombre_exposed        323\n",
    "nombre_recovered    15819\n",
    "Name: 140, dtype: int64"
   ]
  },
  {
   "cell_type": "markdown",
   "id": "53367494",
   "metadata": {},
   "source": [
    "nombre_infected       362\n",
    "nombre_sain          3506\n",
    "nombre_exposed        327\n",
    "nombre_recovered    15805\n",
    "Name: 141, dtype: int64"
   ]
  },
  {
   "cell_type": "markdown",
   "id": "a3339f66",
   "metadata": {},
   "source": [
    "nombre_infected       405\n",
    "nombre_sain          3479\n",
    "nombre_exposed        337\n",
    "nombre_recovered    15779\n",
    "Name: 142, dtype: int64"
   ]
  },
  {
   "cell_type": "markdown",
   "id": "99a23cb0",
   "metadata": {},
   "source": [
    "nombre_infected       431\n",
    "nombre_sain          3443\n",
    "nombre_exposed        364\n",
    "nombre_recovered    15762\n",
    "Name: 143, dtype: int64"
   ]
  },
  {
   "cell_type": "markdown",
   "id": "0f9c539c",
   "metadata": {},
   "source": [
    "nombre_infected       463\n",
    "nombre_sain          3399\n",
    "nombre_exposed        376\n",
    "nombre_recovered    15762\n",
    "Name: 144, dtype: int64"
   ]
  },
  {
   "cell_type": "markdown",
   "id": "b17f22bd",
   "metadata": {},
   "source": [
    "nombre_infected       480\n",
    "nombre_sain          3347\n",
    "nombre_exposed        395\n",
    "nombre_recovered    15778\n",
    "Name: 145, dtype: int64"
   ]
  },
  {
   "cell_type": "markdown",
   "id": "d037559d",
   "metadata": {},
   "source": [
    "nombre_infected       516\n",
    "nombre_sain          3324\n",
    "nombre_exposed        394\n",
    "nombre_recovered    15766\n",
    "Name: 146, dtype: int64"
   ]
  },
  {
   "cell_type": "markdown",
   "id": "ebdfa5ea",
   "metadata": {},
   "source": [
    "nombre_infected       549\n",
    "nombre_sain          3292\n",
    "nombre_exposed        396\n",
    "nombre_recovered    15763\n",
    "Name: 147, dtype: int64"
   ]
  },
  {
   "cell_type": "markdown",
   "id": "22c3f4bd",
   "metadata": {},
   "source": [
    "nombre_infected       549\n",
    "nombre_sain          3267\n",
    "nombre_exposed        424\n",
    "nombre_recovered    15760\n",
    "Name: 148, dtype: int64"
   ]
  },
  {
   "cell_type": "markdown",
   "id": "1343828f",
   "metadata": {},
   "source": [
    "nombre_infected       575\n",
    "nombre_sain          3231\n",
    "nombre_exposed        449\n",
    "nombre_recovered    15745\n",
    "Name: 149, dtype: int64"
   ]
  },
  {
   "cell_type": "markdown",
   "id": "dec2dd0a",
   "metadata": {},
   "source": [
    "nombre_infected       598\n",
    "nombre_sain          3182\n",
    "nombre_exposed        459\n",
    "nombre_recovered    15761\n",
    "Name: 150, dtype: int64"
   ]
  },
  {
   "cell_type": "markdown",
   "id": "ceac39aa",
   "metadata": {},
   "source": [
    "nombre_infected       618\n",
    "nombre_sain          3131\n",
    "nombre_exposed        463\n",
    "nombre_recovered    15788\n",
    "Name: 151, dtype: int64"
   ]
  },
  {
   "cell_type": "markdown",
   "id": "27a4d33a",
   "metadata": {},
   "source": [
    "nombre_infected       626\n",
    "nombre_sain          3083\n",
    "nombre_exposed        474\n",
    "nombre_recovered    15817\n",
    "Name: 152, dtype: int64"
   ]
  },
  {
   "cell_type": "markdown",
   "id": "948ef6f1",
   "metadata": {},
   "source": [
    "nombre_infected       664\n",
    "nombre_sain          3005\n",
    "nombre_exposed        487\n",
    "nombre_recovered    15844\n",
    "Name: 153, dtype: int64"
   ]
  },
  {
   "cell_type": "markdown",
   "id": "d46cc524",
   "metadata": {},
   "source": [
    "nombre_infected       703\n",
    "nombre_sain          2924\n",
    "nombre_exposed        497\n",
    "nombre_recovered    15876\n",
    "Name: 154, dtype: int64"
   ]
  },
  {
   "cell_type": "markdown",
   "id": "42b5264f",
   "metadata": {},
   "source": [
    "nombre_infected       723\n",
    "nombre_sain          2855\n",
    "nombre_exposed        505\n",
    "nombre_recovered    15917\n",
    "Name: 155, dtype: int64"
   ]
  },
  {
   "cell_type": "markdown",
   "id": "ba2ff483",
   "metadata": {},
   "source": [
    "nombre_infected       748\n",
    "nombre_sain          2769\n",
    "nombre_exposed        534\n",
    "nombre_recovered    15949\n",
    "Name: 156, dtype: int64"
   ]
  },
  {
   "cell_type": "markdown",
   "id": "377aa057",
   "metadata": {},
   "source": [
    "nombre_infected       783\n",
    "nombre_sain          2695\n",
    "nombre_exposed        536\n",
    "nombre_recovered    15986\n",
    "Name: 157, dtype: int64"
   ]
  },
  {
   "cell_type": "markdown",
   "id": "a00eb9ba",
   "metadata": {},
   "source": [
    "nombre_infected       813\n",
    "nombre_sain          2598\n",
    "nombre_exposed        566\n",
    "nombre_recovered    16023\n",
    "Name: 158, dtype: int64"
   ]
  },
  {
   "cell_type": "markdown",
   "id": "77356efb",
   "metadata": {},
   "source": [
    "nombre_infected       831\n",
    "nombre_sain          2536\n",
    "nombre_exposed        562\n",
    "nombre_recovered    16071\n",
    "Name: 159, dtype: int64"
   ]
  },
  {
   "cell_type": "markdown",
   "id": "f9f5040f",
   "metadata": {},
   "source": [
    "nombre_infected       854\n",
    "nombre_sain          2466\n",
    "nombre_exposed        546\n",
    "nombre_recovered    16134\n",
    "Name: 160, dtype: int64"
   ]
  },
  {
   "cell_type": "markdown",
   "id": "de2f9383",
   "metadata": {},
   "source": [
    "nombre_infected       864\n",
    "nombre_sain          2412\n",
    "nombre_exposed        536\n",
    "nombre_recovered    16188\n",
    "Name: 161, dtype: int64"
   ]
  },
  {
   "cell_type": "markdown",
   "id": "298a31e3",
   "metadata": {},
   "source": [
    "nombre_infected       839\n",
    "nombre_sain          2347\n",
    "nombre_exposed        545\n",
    "nombre_recovered    16269\n",
    "Name: 162, dtype: int64"
   ]
  },
  {
   "cell_type": "markdown",
   "id": "0a5b84ae",
   "metadata": {},
   "source": [
    "nombre_infected       863\n",
    "nombre_sain          2272\n",
    "nombre_exposed        544\n",
    "nombre_recovered    16321\n",
    "Name: 163, dtype: int64"
   ]
  },
  {
   "cell_type": "markdown",
   "id": "5b5e0a64",
   "metadata": {},
   "source": [
    "nombre_infected       866\n",
    "nombre_sain          2221\n",
    "nombre_exposed        525\n",
    "nombre_recovered    16388\n",
    "Name: 164, dtype: int64"
   ]
  },
  {
   "cell_type": "markdown",
   "id": "27b2348f",
   "metadata": {},
   "source": [
    "nombre_infected       890\n",
    "nombre_sain          2170\n",
    "nombre_exposed        519\n",
    "nombre_recovered    16421\n",
    "Name: 165, dtype: int64"
   ]
  },
  {
   "cell_type": "markdown",
   "id": "fc34e02e",
   "metadata": {},
   "source": [
    "nombre_infected       906\n",
    "nombre_sain          2119\n",
    "nombre_exposed        512\n",
    "nombre_recovered    16463\n",
    "Name: 166, dtype: int64"
   ]
  },
  {
   "cell_type": "markdown",
   "id": "317831fc",
   "metadata": {},
   "source": [
    "nombre_infected       896\n",
    "nombre_sain          2066\n",
    "nombre_exposed        497\n",
    "nombre_recovered    16541\n",
    "Name: 167, dtype: int64"
   ]
  },
  {
   "cell_type": "markdown",
   "id": "73656632",
   "metadata": {},
   "source": [
    "nombre_infected       875\n",
    "nombre_sain          2032\n",
    "nombre_exposed        506\n",
    "nombre_recovered    16587\n",
    "Name: 168, dtype: int64"
   ]
  },
  {
   "cell_type": "markdown",
   "id": "fb71ef5b",
   "metadata": {},
   "source": [
    "nombre_infected       884\n",
    "nombre_sain          2008\n",
    "nombre_exposed        477\n",
    "nombre_recovered    16631\n",
    "Name: 169, dtype: int64"
   ]
  },
  {
   "cell_type": "markdown",
   "id": "fe00d00d",
   "metadata": {},
   "source": [
    "nombre_infected       884\n",
    "nombre_sain          1972\n",
    "nombre_exposed        463\n",
    "nombre_recovered    16681\n",
    "Name: 170, dtype: int64"
   ]
  },
  {
   "cell_type": "markdown",
   "id": "207e5c5b",
   "metadata": {},
   "source": [
    "nombre_infected       888\n",
    "nombre_sain          1935\n",
    "nombre_exposed        464\n",
    "nombre_recovered    16713\n",
    "Name: 171, dtype: int64"
   ]
  },
  {
   "cell_type": "markdown",
   "id": "cfa9283f",
   "metadata": {},
   "source": [
    "nombre_infected       868\n",
    "nombre_sain          1901\n",
    "nombre_exposed        457\n",
    "nombre_recovered    16774\n",
    "Name: 172, dtype: int64"
   ]
  },
  {
   "cell_type": "markdown",
   "id": "461612b2",
   "metadata": {},
   "source": [
    "nombre_infected       869\n",
    "nombre_sain          1858\n",
    "nombre_exposed        460\n",
    "nombre_recovered    16813\n",
    "Name: 173, dtype: int64"
   ]
  },
  {
   "cell_type": "markdown",
   "id": "cd6e66a3",
   "metadata": {},
   "source": [
    "nombre_infected       838\n",
    "nombre_sain          1835\n",
    "nombre_exposed        464\n",
    "nombre_recovered    16863\n",
    "Name: 174, dtype: int64"
   ]
  },
  {
   "cell_type": "markdown",
   "id": "4146595e",
   "metadata": {},
   "source": [
    "nombre_infected       829\n",
    "nombre_sain          1836\n",
    "nombre_exposed        444\n",
    "nombre_recovered    16891\n",
    "Name: 175, dtype: int64"
   ]
  },
  {
   "cell_type": "markdown",
   "id": "6980240f",
   "metadata": {},
   "source": [
    "nombre_infected       816\n",
    "nombre_sain          1819\n",
    "nombre_exposed        441\n",
    "nombre_recovered    16924\n",
    "Name: 176, dtype: int64"
   ]
  },
  {
   "cell_type": "markdown",
   "id": "842de0ae",
   "metadata": {},
   "source": [
    "nombre_infected       807\n",
    "nombre_sain          1814\n",
    "nombre_exposed        439\n",
    "nombre_recovered    16940\n",
    "Name: 177, dtype: int64"
   ]
  },
  {
   "cell_type": "markdown",
   "id": "6f6ecc73",
   "metadata": {},
   "source": [
    "nombre_infected       820\n",
    "nombre_sain          1811\n",
    "nombre_exposed        414\n",
    "nombre_recovered    16955\n",
    "Name: 178, dtype: int64"
   ]
  },
  {
   "cell_type": "markdown",
   "id": "59b032c6",
   "metadata": {},
   "source": [
    "nombre_infected       816\n",
    "nombre_sain          1811\n",
    "nombre_exposed        414\n",
    "nombre_recovered    16959\n",
    "Name: 179, dtype: int64"
   ]
  },
  {
   "cell_type": "markdown",
   "id": "adbab23a",
   "metadata": {},
   "source": [
    "nombre_infected       818\n",
    "nombre_sain          1798\n",
    "nombre_exposed        402\n",
    "nombre_recovered    16982\n",
    "Name: 180, dtype: int64"
   ]
  },
  {
   "cell_type": "markdown",
   "id": "1eaca7f4",
   "metadata": {},
   "source": [
    "nombre_infected       814\n",
    "nombre_sain          1795\n",
    "nombre_exposed        393\n",
    "nombre_recovered    16998\n",
    "Name: 181, dtype: int64"
   ]
  },
  {
   "cell_type": "markdown",
   "id": "c5148e3c",
   "metadata": {},
   "source": [
    "nombre_infected       793\n",
    "nombre_sain          1794\n",
    "nombre_exposed        391\n",
    "nombre_recovered    17022\n",
    "Name: 182, dtype: int64"
   ]
  },
  {
   "cell_type": "markdown",
   "id": "581b114c",
   "metadata": {},
   "source": [
    "nombre_infected       769\n",
    "nombre_sain          1803\n",
    "nombre_exposed        372\n",
    "nombre_recovered    17056\n",
    "Name: 183, dtype: int64"
   ]
  },
  {
   "cell_type": "markdown",
   "id": "f51c91e4",
   "metadata": {},
   "source": [
    "nombre_infected       761\n",
    "nombre_sain          1800\n",
    "nombre_exposed        362\n",
    "nombre_recovered    17077\n",
    "Name: 184, dtype: int64"
   ]
  },
  {
   "cell_type": "markdown",
   "id": "c915d38b",
   "metadata": {},
   "source": [
    "nombre_infected       772\n",
    "nombre_sain          1790\n",
    "nombre_exposed        365\n",
    "nombre_recovered    17073\n",
    "Name: 185, dtype: int64"
   ]
  },
  {
   "cell_type": "markdown",
   "id": "f1af7f04",
   "metadata": {},
   "source": [
    "nombre_infected       754\n",
    "nombre_sain          1764\n",
    "nombre_exposed        381\n",
    "nombre_recovered    17101\n",
    "Name: 186, dtype: int64"
   ]
  },
  {
   "cell_type": "markdown",
   "id": "e6774e7a",
   "metadata": {},
   "source": [
    "nombre_infected       757\n",
    "nombre_sain          1755\n",
    "nombre_exposed        369\n",
    "nombre_recovered    17119\n",
    "Name: 187, dtype: int64"
   ]
  },
  {
   "cell_type": "markdown",
   "id": "21e54ca5",
   "metadata": {},
   "source": [
    "nombre_infected       731\n",
    "nombre_sain          1747\n",
    "nombre_exposed        380\n",
    "nombre_recovered    17142\n",
    "Name: 188, dtype: int64"
   ]
  },
  {
   "cell_type": "markdown",
   "id": "60171066",
   "metadata": {},
   "source": [
    "nombre_infected       745\n",
    "nombre_sain          1737\n",
    "nombre_exposed        354\n",
    "nombre_recovered    17164\n",
    "Name: 189, dtype: int64"
   ]
  },
  {
   "cell_type": "markdown",
   "id": "c6a2f602",
   "metadata": {},
   "source": [
    "nombre_infected       742\n",
    "nombre_sain          1734\n",
    "nombre_exposed        354\n",
    "nombre_recovered    17170\n",
    "Name: 190, dtype: int64"
   ]
  },
  {
   "cell_type": "markdown",
   "id": "892bf410",
   "metadata": {},
   "source": [
    "nombre_infected       731\n",
    "nombre_sain          1720\n",
    "nombre_exposed        351\n",
    "nombre_recovered    17198\n",
    "Name: 191, dtype: int64"
   ]
  },
  {
   "cell_type": "markdown",
   "id": "ad2e3c15",
   "metadata": {},
   "source": [
    "nombre_infected       707\n",
    "nombre_sain          1718\n",
    "nombre_exposed        352\n",
    "nombre_recovered    17223\n",
    "Name: 192, dtype: int64"
   ]
  },
  {
   "cell_type": "markdown",
   "id": "a3b16e67",
   "metadata": {},
   "source": [
    "nombre_infected       707\n",
    "nombre_sain          1711\n",
    "nombre_exposed        345\n",
    "nombre_recovered    17237\n",
    "Name: 193, dtype: int64"
   ]
  },
  {
   "cell_type": "markdown",
   "id": "435916e7",
   "metadata": {},
   "source": [
    "nombre_infected       702\n",
    "nombre_sain          1715\n",
    "nombre_exposed        340\n",
    "nombre_recovered    17243\n",
    "Name: 194, dtype: int64"
   ]
  },
  {
   "cell_type": "markdown",
   "id": "3a6abdfb",
   "metadata": {},
   "source": [
    "nombre_infected       683\n",
    "nombre_sain          1716\n",
    "nombre_exposed        331\n",
    "nombre_recovered    17270\n",
    "Name: 195, dtype: int64"
   ]
  },
  {
   "cell_type": "markdown",
   "id": "b7d2c6f9",
   "metadata": {},
   "source": [
    "nombre_infected       684\n",
    "nombre_sain          1728\n",
    "nombre_exposed        318\n",
    "nombre_recovered    17270\n",
    "Name: 196, dtype: int64"
   ]
  },
  {
   "cell_type": "markdown",
   "id": "d4feb270",
   "metadata": {},
   "source": [
    "nombre_infected       680\n",
    "nombre_sain          1752\n",
    "nombre_exposed        313\n",
    "nombre_recovered    17255\n",
    "Name: 197, dtype: int64"
   ]
  },
  {
   "cell_type": "markdown",
   "id": "c675ecaa",
   "metadata": {},
   "source": [
    "nombre_infected       666\n",
    "nombre_sain          1749\n",
    "nombre_exposed        317\n",
    "nombre_recovered    17268\n",
    "Name: 198, dtype: int64"
   ]
  },
  {
   "cell_type": "markdown",
   "id": "4468df92",
   "metadata": {},
   "source": [
    "nombre_infected       642\n",
    "nombre_sain          1743\n",
    "nombre_exposed        319\n",
    "nombre_recovered    17296\n",
    "Name: 199, dtype: int64"
   ]
  },
  {
   "cell_type": "markdown",
   "id": "7f44e0d5",
   "metadata": {},
   "source": [
    "nombre_infected       617\n",
    "nombre_sain          1758\n",
    "nombre_exposed        305\n",
    "nombre_recovered    17320\n",
    "Name: 200, dtype: int64"
   ]
  },
  {
   "cell_type": "markdown",
   "id": "68cce64c",
   "metadata": {},
   "source": [
    "nombre_infected       596\n",
    "nombre_sain          1771\n",
    "nombre_exposed        299\n",
    "nombre_recovered    17334\n",
    "Name: 201, dtype: int64"
   ]
  },
  {
   "cell_type": "markdown",
   "id": "bedf25e5",
   "metadata": {},
   "source": [
    "nombre_infected       581\n",
    "nombre_sain          1796\n",
    "nombre_exposed        301\n",
    "nombre_recovered    17322\n",
    "Name: 202, dtype: int64"
   ]
  },
  {
   "cell_type": "markdown",
   "id": "dfaa5f18",
   "metadata": {},
   "source": [
    "nombre_infected       552\n",
    "nombre_sain          1826\n",
    "nombre_exposed        298\n",
    "nombre_recovered    17324\n",
    "Name: 203, dtype: int64"
   ]
  },
  {
   "cell_type": "markdown",
   "id": "16689d4a",
   "metadata": {},
   "source": [
    "nombre_infected       558\n",
    "nombre_sain          1863\n",
    "nombre_exposed        271\n",
    "nombre_recovered    17308\n",
    "Name: 204, dtype: int64"
   ]
  },
  {
   "cell_type": "markdown",
   "id": "26746079",
   "metadata": {},
   "source": [
    "nombre_infected       544\n",
    "nombre_sain          1904\n",
    "nombre_exposed        266\n",
    "nombre_recovered    17286\n",
    "Name: 205, dtype: int64"
   ]
  },
  {
   "cell_type": "markdown",
   "id": "8f0f34ef",
   "metadata": {},
   "source": [
    "nombre_infected       546\n",
    "nombre_sain          1941\n",
    "nombre_exposed        270\n",
    "nombre_recovered    17243\n",
    "Name: 206, dtype: int64"
   ]
  },
  {
   "cell_type": "markdown",
   "id": "f7922067",
   "metadata": {},
   "source": [
    "nombre_infected       540\n",
    "nombre_sain          1975\n",
    "nombre_exposed        267\n",
    "nombre_recovered    17218\n",
    "Name: 207, dtype: int64"
   ]
  },
  {
   "cell_type": "markdown",
   "id": "21bb0b02",
   "metadata": {},
   "source": [
    "nombre_infected       523\n",
    "nombre_sain          1971\n",
    "nombre_exposed        288\n",
    "nombre_recovered    17218\n",
    "Name: 208, dtype: int64"
   ]
  },
  {
   "cell_type": "markdown",
   "id": "2b6097e4",
   "metadata": {},
   "source": [
    "nombre_infected       531\n",
    "nombre_sain          2000\n",
    "nombre_exposed        281\n",
    "nombre_recovered    17188\n",
    "Name: 209, dtype: int64"
   ]
  },
  {
   "cell_type": "markdown",
   "id": "6709d517",
   "metadata": {},
   "source": [
    "nombre_infected       528\n",
    "nombre_sain          2046\n",
    "nombre_exposed        287\n",
    "nombre_recovered    17139\n",
    "Name: 210, dtype: int64"
   ]
  },
  {
   "cell_type": "markdown",
   "id": "c60480bc",
   "metadata": {},
   "source": [
    "nombre_infected       531\n",
    "nombre_sain          2065\n",
    "nombre_exposed        279\n",
    "nombre_recovered    17125\n",
    "Name: 211, dtype: int64"
   ]
  },
  {
   "cell_type": "markdown",
   "id": "9fd43253",
   "metadata": {},
   "source": [
    "nombre_infected       520\n",
    "nombre_sain          2118\n",
    "nombre_exposed        272\n",
    "nombre_recovered    17090\n",
    "Name: 212, dtype: int64"
   ]
  },
  {
   "cell_type": "markdown",
   "id": "06f68cf1",
   "metadata": {},
   "source": [
    "nombre_infected       510\n",
    "nombre_sain          2163\n",
    "nombre_exposed        271\n",
    "nombre_recovered    17056\n",
    "Name: 213, dtype: int64"
   ]
  },
  {
   "cell_type": "markdown",
   "id": "74ac9dc1",
   "metadata": {},
   "source": [
    "nombre_infected       502\n",
    "nombre_sain          2210\n",
    "nombre_exposed        274\n",
    "nombre_recovered    17014\n",
    "Name: 214, dtype: int64"
   ]
  },
  {
   "cell_type": "markdown",
   "id": "976c86ad",
   "metadata": {},
   "source": [
    "nombre_infected       516\n",
    "nombre_sain          2235\n",
    "nombre_exposed        270\n",
    "nombre_recovered    16979\n",
    "Name: 215, dtype: int64"
   ]
  },
  {
   "cell_type": "markdown",
   "id": "e1ba9dcb",
   "metadata": {},
   "source": [
    "nombre_infected       496\n",
    "nombre_sain          2269\n",
    "nombre_exposed        283\n",
    "nombre_recovered    16952\n",
    "Name: 216, dtype: int64"
   ]
  },
  {
   "cell_type": "markdown",
   "id": "8698d257",
   "metadata": {},
   "source": [
    "nombre_infected       490\n",
    "nombre_sain          2291\n",
    "nombre_exposed        293\n",
    "nombre_recovered    16926\n",
    "Name: 217, dtype: int64"
   ]
  },
  {
   "cell_type": "markdown",
   "id": "805bec71",
   "metadata": {},
   "source": [
    "nombre_infected       510\n",
    "nombre_sain          2316\n",
    "nombre_exposed        274\n",
    "nombre_recovered    16900\n",
    "Name: 218, dtype: int64"
   ]
  },
  {
   "cell_type": "markdown",
   "id": "29d8eb78",
   "metadata": {},
   "source": [
    "nombre_infected       515\n",
    "nombre_sain          2336\n",
    "nombre_exposed        288\n",
    "nombre_recovered    16861\n",
    "Name: 219, dtype: int64"
   ]
  },
  {
   "cell_type": "markdown",
   "id": "21ebfdbe",
   "metadata": {},
   "source": [
    "nombre_infected       532\n",
    "nombre_sain          2370\n",
    "nombre_exposed        288\n",
    "nombre_recovered    16810\n",
    "Name: 220, dtype: int64"
   ]
  },
  {
   "cell_type": "markdown",
   "id": "428eb8c7",
   "metadata": {},
   "source": [
    "nombre_infected       537\n",
    "nombre_sain          2418\n",
    "nombre_exposed        278\n",
    "nombre_recovered    16767\n",
    "Name: 221, dtype: int64"
   ]
  },
  {
   "cell_type": "markdown",
   "id": "909dbbb9",
   "metadata": {},
   "source": [
    "nombre_infected       527\n",
    "nombre_sain          2434\n",
    "nombre_exposed        298\n",
    "nombre_recovered    16741\n",
    "Name: 222, dtype: int64"
   ]
  },
  {
   "cell_type": "markdown",
   "id": "014fcd87",
   "metadata": {},
   "source": [
    "nombre_infected       526\n",
    "nombre_sain          2454\n",
    "nombre_exposed        309\n",
    "nombre_recovered    16711\n",
    "Name: 223, dtype: int64"
   ]
  },
  {
   "cell_type": "markdown",
   "id": "8362e688",
   "metadata": {},
   "source": [
    "nombre_infected       530\n",
    "nombre_sain          2484\n",
    "nombre_exposed        316\n",
    "nombre_recovered    16670\n",
    "Name: 224, dtype: int64"
   ]
  },
  {
   "cell_type": "markdown",
   "id": "65c19ab0",
   "metadata": {},
   "source": [
    "nombre_infected       543\n",
    "nombre_sain          2503\n",
    "nombre_exposed        311\n",
    "nombre_recovered    16643\n",
    "Name: 225, dtype: int64"
   ]
  },
  {
   "cell_type": "markdown",
   "id": "a702341a",
   "metadata": {},
   "source": [
    "nombre_infected       546\n",
    "nombre_sain          2530\n",
    "nombre_exposed        322\n",
    "nombre_recovered    16602\n",
    "Name: 226, dtype: int64"
   ]
  },
  {
   "cell_type": "markdown",
   "id": "c8bf9ad1",
   "metadata": {},
   "source": [
    "nombre_infected       547\n",
    "nombre_sain          2545\n",
    "nombre_exposed        338\n",
    "nombre_recovered    16570\n",
    "Name: 227, dtype: int64"
   ]
  },
  {
   "cell_type": "markdown",
   "id": "53785709",
   "metadata": {},
   "source": [
    "nombre_infected       556\n",
    "nombre_sain          2549\n",
    "nombre_exposed        345\n",
    "nombre_recovered    16550\n",
    "Name: 228, dtype: int64"
   ]
  },
  {
   "cell_type": "markdown",
   "id": "ad3b957b",
   "metadata": {},
   "source": [
    "nombre_infected       568\n",
    "nombre_sain          2566\n",
    "nombre_exposed        366\n",
    "nombre_recovered    16500\n",
    "Name: 229, dtype: int64"
   ]
  },
  {
   "cell_type": "markdown",
   "id": "ccff43d4",
   "metadata": {},
   "source": [
    "nombre_infected       585\n",
    "nombre_sain          2590\n",
    "nombre_exposed        367\n",
    "nombre_recovered    16458\n",
    "Name: 230, dtype: int64"
   ]
  },
  {
   "cell_type": "markdown",
   "id": "ba166237",
   "metadata": {},
   "source": [
    "nombre_infected       605\n",
    "nombre_sain          2604\n",
    "nombre_exposed        397\n",
    "nombre_recovered    16394\n",
    "Name: 231, dtype: int64"
   ]
  },
  {
   "cell_type": "markdown",
   "id": "1f7aacfb",
   "metadata": {},
   "source": [
    "nombre_infected       621\n",
    "nombre_sain          2616\n",
    "nombre_exposed        423\n",
    "nombre_recovered    16340\n",
    "Name: 232, dtype: int64"
   ]
  },
  {
   "cell_type": "markdown",
   "id": "359ac932",
   "metadata": {},
   "source": [
    "nombre_infected       639\n",
    "nombre_sain          2621\n",
    "nombre_exposed        430\n",
    "nombre_recovered    16310\n",
    "Name: 233, dtype: int64"
   ]
  },
  {
   "cell_type": "markdown",
   "id": "e5aca6f7",
   "metadata": {},
   "source": [
    "nombre_infected       670\n",
    "nombre_sain          2647\n",
    "nombre_exposed        422\n",
    "nombre_recovered    16261\n",
    "Name: 234, dtype: int64"
   ]
  },
  {
   "cell_type": "markdown",
   "id": "09815dc2",
   "metadata": {},
   "source": [
    "nombre_infected       661\n",
    "nombre_sain          2673\n",
    "nombre_exposed        444\n",
    "nombre_recovered    16222\n",
    "Name: 235, dtype: int64"
   ]
  },
  {
   "cell_type": "markdown",
   "id": "4ec46994",
   "metadata": {},
   "source": [
    "nombre_infected       679\n",
    "nombre_sain          2684\n",
    "nombre_exposed        461\n",
    "nombre_recovered    16176\n",
    "Name: 236, dtype: int64"
   ]
  },
  {
   "cell_type": "markdown",
   "id": "6369c406",
   "metadata": {},
   "source": [
    "nombre_infected       703\n",
    "nombre_sain          2689\n",
    "nombre_exposed        466\n",
    "nombre_recovered    16142\n",
    "Name: 237, dtype: int64"
   ]
  },
  {
   "cell_type": "markdown",
   "id": "a1e639ec",
   "metadata": {},
   "source": [
    "nombre_infected       733\n",
    "nombre_sain          2715\n",
    "nombre_exposed        462\n",
    "nombre_recovered    16090\n",
    "Name: 238, dtype: int64"
   ]
  },
  {
   "cell_type": "markdown",
   "id": "f9b2b97f",
   "metadata": {},
   "source": [
    "nombre_infected       775\n",
    "nombre_sain          2700\n",
    "nombre_exposed        459\n",
    "nombre_recovered    16066\n",
    "Name: 239, dtype: int64"
   ]
  },
  {
   "cell_type": "markdown",
   "id": "82d08c08",
   "metadata": {},
   "source": [
    "nombre_infected       780\n",
    "nombre_sain          2702\n",
    "nombre_exposed        488\n",
    "nombre_recovered    16030\n",
    "Name: 240, dtype: int64"
   ]
  },
  {
   "cell_type": "markdown",
   "id": "d3018506",
   "metadata": {},
   "source": [
    "nombre_infected       785\n",
    "nombre_sain          2658\n",
    "nombre_exposed        523\n",
    "nombre_recovered    16034\n",
    "Name: 241, dtype: int64"
   ]
  },
  {
   "cell_type": "markdown",
   "id": "56cecad2",
   "metadata": {},
   "source": [
    "nombre_infected       806\n",
    "nombre_sain          2648\n",
    "nombre_exposed        521\n",
    "nombre_recovered    16025\n",
    "Name: 242, dtype: int64"
   ]
  },
  {
   "cell_type": "markdown",
   "id": "5b53212a",
   "metadata": {},
   "source": [
    "nombre_infected       852\n",
    "nombre_sain          2647\n",
    "nombre_exposed        499\n",
    "nombre_recovered    16002\n",
    "Name: 243, dtype: int64"
   ]
  },
  {
   "cell_type": "markdown",
   "id": "eff9fa64",
   "metadata": {},
   "source": [
    "nombre_infected       869\n",
    "nombre_sain          2618\n",
    "nombre_exposed        505\n",
    "nombre_recovered    16008\n",
    "Name: 244, dtype: int64"
   ]
  },
  {
   "cell_type": "markdown",
   "id": "2d9408f4",
   "metadata": {},
   "source": [
    "nombre_infected       878\n",
    "nombre_sain          2578\n",
    "nombre_exposed        540\n",
    "nombre_recovered    16004\n",
    "Name: 245, dtype: int64"
   ]
  },
  {
   "cell_type": "markdown",
   "id": "2bfb58d6",
   "metadata": {},
   "source": [
    "nombre_infected       865\n",
    "nombre_sain          2532\n",
    "nombre_exposed        550\n",
    "nombre_recovered    16053\n",
    "Name: 246, dtype: int64"
   ]
  },
  {
   "cell_type": "markdown",
   "id": "59738c95",
   "metadata": {},
   "source": [
    "nombre_infected       891\n",
    "nombre_sain          2528\n",
    "nombre_exposed        528\n",
    "nombre_recovered    16053\n",
    "Name: 247, dtype: int64"
   ]
  },
  {
   "cell_type": "markdown",
   "id": "08874544",
   "metadata": {},
   "source": [
    "nombre_infected       918\n",
    "nombre_sain          2482\n",
    "nombre_exposed        541\n",
    "nombre_recovered    16059\n",
    "Name: 248, dtype: int64"
   ]
  },
  {
   "cell_type": "markdown",
   "id": "1ed719b0",
   "metadata": {},
   "source": [
    "nombre_infected       943\n",
    "nombre_sain          2454\n",
    "nombre_exposed        529\n",
    "nombre_recovered    16074\n",
    "Name: 249, dtype: int64"
   ]
  },
  {
   "cell_type": "markdown",
   "id": "e4ce3a1d",
   "metadata": {},
   "source": [
    "nombre_infected       974\n",
    "nombre_sain          2413\n",
    "nombre_exposed        546\n",
    "nombre_recovered    16067\n",
    "Name: 250, dtype: int64"
   ]
  },
  {
   "cell_type": "markdown",
   "id": "7768a557",
   "metadata": {},
   "source": [
    "nombre_infected       991\n",
    "nombre_sain          2365\n",
    "nombre_exposed        564\n",
    "nombre_recovered    16080\n",
    "Name: 251, dtype: int64"
   ]
  },
  {
   "cell_type": "markdown",
   "id": "4d21efca",
   "metadata": {},
   "source": [
    "nombre_infected      1003\n",
    "nombre_sain          2324\n",
    "nombre_exposed        548\n",
    "nombre_recovered    16125\n",
    "Name: 252, dtype: int64"
   ]
  },
  {
   "cell_type": "markdown",
   "id": "6201eaa0",
   "metadata": {},
   "source": [
    "nombre_infected      1041\n",
    "nombre_sain          2288\n",
    "nombre_exposed        533\n",
    "nombre_recovered    16138\n",
    "Name: 253, dtype: int64"
   ]
  },
  {
   "cell_type": "markdown",
   "id": "bdb67632",
   "metadata": {},
   "source": [
    "nombre_infected      1067\n",
    "nombre_sain          2253\n",
    "nombre_exposed        508\n",
    "nombre_recovered    16172\n",
    "Name: 254, dtype: int64"
   ]
  },
  {
   "cell_type": "markdown",
   "id": "84804092",
   "metadata": {},
   "source": [
    "nombre_infected      1052\n",
    "nombre_sain          2188\n",
    "nombre_exposed        557\n",
    "nombre_recovered    16203\n",
    "Name: 255, dtype: int64"
   ]
  },
  {
   "cell_type": "markdown",
   "id": "38a67614",
   "metadata": {},
   "source": [
    "nombre_infected      1040\n",
    "nombre_sain          2145\n",
    "nombre_exposed        586\n",
    "nombre_recovered    16229\n",
    "Name: 256, dtype: int64"
   ]
  },
  {
   "cell_type": "markdown",
   "id": "4f0a6e84",
   "metadata": {},
   "source": [
    "nombre_infected      1064\n",
    "nombre_sain          2120\n",
    "nombre_exposed        576\n",
    "nombre_recovered    16240\n",
    "Name: 257, dtype: int64"
   ]
  },
  {
   "cell_type": "markdown",
   "id": "2cc2dd44",
   "metadata": {},
   "source": [
    "nombre_infected      1099\n",
    "nombre_sain          2077\n",
    "nombre_exposed        571\n",
    "nombre_recovered    16253\n",
    "Name: 258, dtype: int64"
   ]
  },
  {
   "cell_type": "markdown",
   "id": "8e0adf6e",
   "metadata": {},
   "source": [
    "nombre_infected      1123\n",
    "nombre_sain          2046\n",
    "nombre_exposed        550\n",
    "nombre_recovered    16281\n",
    "Name: 259, dtype: int64"
   ]
  },
  {
   "cell_type": "markdown",
   "id": "6489015c",
   "metadata": {},
   "source": [
    "nombre_infected      1164\n",
    "nombre_sain          2010\n",
    "nombre_exposed        522\n",
    "nombre_recovered    16304\n",
    "Name: 260, dtype: int64"
   ]
  },
  {
   "cell_type": "markdown",
   "id": "84cfc46c",
   "metadata": {},
   "source": [
    "nombre_infected      1180\n",
    "nombre_sain          1975\n",
    "nombre_exposed        521\n",
    "nombre_recovered    16324\n",
    "Name: 261, dtype: int64"
   ]
  },
  {
   "cell_type": "markdown",
   "id": "635883dc",
   "metadata": {},
   "source": [
    "nombre_infected      1180\n",
    "nombre_sain          1954\n",
    "nombre_exposed        518\n",
    "nombre_recovered    16348\n",
    "Name: 262, dtype: int64"
   ]
  },
  {
   "cell_type": "markdown",
   "id": "9ea6cb6e",
   "metadata": {},
   "source": [
    "nombre_infected      1158\n",
    "nombre_sain          1947\n",
    "nombre_exposed        501\n",
    "nombre_recovered    16394\n",
    "Name: 263, dtype: int64"
   ]
  },
  {
   "cell_type": "markdown",
   "id": "083e53c9",
   "metadata": {},
   "source": [
    "nombre_infected      1142\n",
    "nombre_sain          1907\n",
    "nombre_exposed        505\n",
    "nombre_recovered    16446\n",
    "Name: 264, dtype: int64"
   ]
  },
  {
   "cell_type": "markdown",
   "id": "2b02d8d6",
   "metadata": {},
   "source": [
    "nombre_infected      1138\n",
    "nombre_sain          1872\n",
    "nombre_exposed        522\n",
    "nombre_recovered    16468\n",
    "Name: 265, dtype: int64"
   ]
  },
  {
   "cell_type": "markdown",
   "id": "3fd5dbbc",
   "metadata": {},
   "source": [
    "nombre_infected      1130\n",
    "nombre_sain          1849\n",
    "nombre_exposed        516\n",
    "nombre_recovered    16505\n",
    "Name: 266, dtype: int64"
   ]
  },
  {
   "cell_type": "markdown",
   "id": "c932dcad",
   "metadata": {},
   "source": [
    "nombre_infected      1127\n",
    "nombre_sain          1803\n",
    "nombre_exposed        516\n",
    "nombre_recovered    16554\n",
    "Name: 267, dtype: int64"
   ]
  },
  {
   "cell_type": "markdown",
   "id": "4803c3e8",
   "metadata": {},
   "source": [
    "nombre_infected      1123\n",
    "nombre_sain          1774\n",
    "nombre_exposed        524\n",
    "nombre_recovered    16579\n",
    "Name: 268, dtype: int64"
   ]
  },
  {
   "cell_type": "markdown",
   "id": "9ce1fa16",
   "metadata": {},
   "source": [
    "nombre_infected      1124\n",
    "nombre_sain          1735\n",
    "nombre_exposed        525\n",
    "nombre_recovered    16616\n",
    "Name: 269, dtype: int64"
   ]
  },
  {
   "cell_type": "markdown",
   "id": "ecd16e3f",
   "metadata": {},
   "source": [
    "nombre_infected      1099\n",
    "nombre_sain          1714\n",
    "nombre_exposed        525\n",
    "nombre_recovered    16662\n",
    "Name: 270, dtype: int64"
   ]
  },
  {
   "cell_type": "markdown",
   "id": "af527c85",
   "metadata": {},
   "source": [
    "nombre_infected      1084\n",
    "nombre_sain          1681\n",
    "nombre_exposed        525\n",
    "nombre_recovered    16710\n",
    "Name: 271, dtype: int64"
   ]
  },
  {
   "cell_type": "markdown",
   "id": "0888ef10",
   "metadata": {},
   "source": [
    "nombre_infected      1076\n",
    "nombre_sain          1682\n",
    "nombre_exposed        493\n",
    "nombre_recovered    16749\n",
    "Name: 272, dtype: int64"
   ]
  },
  {
   "cell_type": "markdown",
   "id": "5fedf006",
   "metadata": {},
   "source": [
    "nombre_infected      1087\n",
    "nombre_sain          1662\n",
    "nombre_exposed        470\n",
    "nombre_recovered    16781\n",
    "Name: 273, dtype: int64"
   ]
  },
  {
   "cell_type": "markdown",
   "id": "8943d897",
   "metadata": {},
   "source": [
    "nombre_infected      1051\n",
    "nombre_sain          1655\n",
    "nombre_exposed        472\n",
    "nombre_recovered    16822\n",
    "Name: 274, dtype: int64"
   ]
  },
  {
   "cell_type": "markdown",
   "id": "f469712e",
   "metadata": {},
   "source": [
    "nombre_infected      1028\n",
    "nombre_sain          1638\n",
    "nombre_exposed        490\n",
    "nombre_recovered    16844\n",
    "Name: 275, dtype: int64"
   ]
  },
  {
   "cell_type": "markdown",
   "id": "2d1768b6",
   "metadata": {},
   "source": [
    "nombre_infected      1015\n",
    "nombre_sain          1648\n",
    "nombre_exposed        473\n",
    "nombre_recovered    16864\n",
    "Name: 276, dtype: int64"
   ]
  },
  {
   "cell_type": "markdown",
   "id": "e977051d",
   "metadata": {},
   "source": [
    "nombre_infected      1009\n",
    "nombre_sain          1656\n",
    "nombre_exposed        466\n",
    "nombre_recovered    16869\n",
    "Name: 277, dtype: int64"
   ]
  },
  {
   "cell_type": "markdown",
   "id": "edbaed3e",
   "metadata": {},
   "source": [
    "nombre_infected       964\n",
    "nombre_sain          1699\n",
    "nombre_exposed        448\n",
    "nombre_recovered    16889\n",
    "Name: 278, dtype: int64"
   ]
  },
  {
   "cell_type": "markdown",
   "id": "5515c71e",
   "metadata": {},
   "source": [
    "nombre_infected       946\n",
    "nombre_sain          1716\n",
    "nombre_exposed        443\n",
    "nombre_recovered    16895\n",
    "Name: 279, dtype: int64"
   ]
  },
  {
   "cell_type": "markdown",
   "id": "1b1ad229",
   "metadata": {},
   "source": [
    "nombre_infected       915\n",
    "nombre_sain          1732\n",
    "nombre_exposed        452\n",
    "nombre_recovered    16901\n",
    "Name: 280, dtype: int64"
   ]
  },
  {
   "cell_type": "markdown",
   "id": "bbc7c026",
   "metadata": {},
   "source": [
    "nombre_infected       906\n",
    "nombre_sain          1763\n",
    "nombre_exposed        437\n",
    "nombre_recovered    16894\n",
    "Name: 281, dtype: int64"
   ]
  },
  {
   "cell_type": "markdown",
   "id": "4a27dbf1",
   "metadata": {},
   "source": [
    "nombre_infected       889\n",
    "nombre_sain          1780\n",
    "nombre_exposed        458\n",
    "nombre_recovered    16873\n",
    "Name: 282, dtype: int64"
   ]
  },
  {
   "cell_type": "markdown",
   "id": "92504f41",
   "metadata": {},
   "source": [
    "nombre_infected       883\n",
    "nombre_sain          1815\n",
    "nombre_exposed        436\n",
    "nombre_recovered    16866\n",
    "Name: 283, dtype: int64"
   ]
  },
  {
   "cell_type": "markdown",
   "id": "12486301",
   "metadata": {},
   "source": [
    "nombre_infected       858\n",
    "nombre_sain          1821\n",
    "nombre_exposed        445\n",
    "nombre_recovered    16876\n",
    "Name: 284, dtype: int64"
   ]
  },
  {
   "cell_type": "markdown",
   "id": "51bdaaad",
   "metadata": {},
   "source": [
    "nombre_infected       850\n",
    "nombre_sain          1837\n",
    "nombre_exposed        456\n",
    "nombre_recovered    16857\n",
    "Name: 285, dtype: int64"
   ]
  },
  {
   "cell_type": "markdown",
   "id": "1e291f0c",
   "metadata": {},
   "source": [
    "nombre_infected       835\n",
    "nombre_sain          1892\n",
    "nombre_exposed        452\n",
    "nombre_recovered    16821\n",
    "Name: 286, dtype: int64"
   ]
  },
  {
   "cell_type": "markdown",
   "id": "b33d7f61",
   "metadata": {},
   "source": [
    "nombre_infected       840\n",
    "nombre_sain          1917\n",
    "nombre_exposed        464\n",
    "nombre_recovered    16779\n",
    "Name: 287, dtype: int64"
   ]
  },
  {
   "cell_type": "markdown",
   "id": "be5b6a61",
   "metadata": {},
   "source": [
    "nombre_infected       821\n",
    "nombre_sain          1928\n",
    "nombre_exposed        470\n",
    "nombre_recovered    16781\n",
    "Name: 288, dtype: int64"
   ]
  },
  {
   "cell_type": "markdown",
   "id": "1597a789",
   "metadata": {},
   "source": [
    "nombre_infected       817\n",
    "nombre_sain          1963\n",
    "nombre_exposed        470\n",
    "nombre_recovered    16750\n",
    "Name: 289, dtype: int64"
   ]
  },
  {
   "cell_type": "markdown",
   "id": "84b8b798",
   "metadata": {},
   "source": [
    "nombre_infected       833\n",
    "nombre_sain          1996\n",
    "nombre_exposed        458\n",
    "nombre_recovered    16713\n",
    "Name: 290, dtype: int64"
   ]
  },
  {
   "cell_type": "markdown",
   "id": "dcf7f86e",
   "metadata": {},
   "source": [
    "nombre_infected       833\n",
    "nombre_sain          2024\n",
    "nombre_exposed        464\n",
    "nombre_recovered    16679\n",
    "Name: 291, dtype: int64"
   ]
  },
  {
   "cell_type": "markdown",
   "id": "17862988",
   "metadata": {},
   "source": [
    "nombre_infected       834\n",
    "nombre_sain          2060\n",
    "nombre_exposed        440\n",
    "nombre_recovered    16666\n",
    "Name: 292, dtype: int64"
   ]
  },
  {
   "cell_type": "markdown",
   "id": "fd4bd30e",
   "metadata": {},
   "source": [
    "nombre_infected       833\n",
    "nombre_sain          2077\n",
    "nombre_exposed        439\n",
    "nombre_recovered    16651\n",
    "Name: 293, dtype: int64"
   ]
  },
  {
   "cell_type": "markdown",
   "id": "04783b7e",
   "metadata": {},
   "source": [
    "nombre_infected       817\n",
    "nombre_sain          2058\n",
    "nombre_exposed        450\n",
    "nombre_recovered    16675\n",
    "Name: 294, dtype: int64"
   ]
  },
  {
   "cell_type": "markdown",
   "id": "6b124693",
   "metadata": {},
   "source": [
    "nombre_infected       806\n",
    "nombre_sain          2080\n",
    "nombre_exposed        449\n",
    "nombre_recovered    16665\n",
    "Name: 295, dtype: int64"
   ]
  },
  {
   "cell_type": "markdown",
   "id": "ceb2b5ce",
   "metadata": {},
   "source": [
    "nombre_infected       800\n",
    "nombre_sain          2107\n",
    "nombre_exposed        444\n",
    "nombre_recovered    16649\n",
    "Name: 296, dtype: int64"
   ]
  },
  {
   "cell_type": "markdown",
   "id": "b725d4e0",
   "metadata": {},
   "source": [
    "nombre_infected       779\n",
    "nombre_sain          2148\n",
    "nombre_exposed        448\n",
    "nombre_recovered    16625\n",
    "Name: 297, dtype: int64"
   ]
  },
  {
   "cell_type": "markdown",
   "id": "b3e37f2a",
   "metadata": {},
   "source": [
    "nombre_infected       782\n",
    "nombre_sain          2158\n",
    "nombre_exposed        431\n",
    "nombre_recovered    16629\n",
    "Name: 298, dtype: int64"
   ]
  },
  {
   "cell_type": "markdown",
   "id": "fb65e095",
   "metadata": {},
   "source": [
    "nombre_infected       762\n",
    "nombre_sain          2174\n",
    "nombre_exposed        441\n",
    "nombre_recovered    16623\n",
    "Name: 299, dtype: int64"
   ]
  },
  {
   "cell_type": "markdown",
   "id": "ac13e02a",
   "metadata": {},
   "source": [
    "nombre_infected       763\n",
    "nombre_sain          2180\n",
    "nombre_exposed        461\n",
    "nombre_recovered    16596\n",
    "Name: 300, dtype: int64"
   ]
  },
  {
   "cell_type": "markdown",
   "id": "a4a554be",
   "metadata": {},
   "source": [
    "nombre_infected       729\n",
    "nombre_sain          2187\n",
    "nombre_exposed        467\n",
    "nombre_recovered    16617\n",
    "Name: 301, dtype: int64"
   ]
  },
  {
   "cell_type": "markdown",
   "id": "09836218",
   "metadata": {},
   "source": [
    "nombre_infected       734\n",
    "nombre_sain          2213\n",
    "nombre_exposed        457\n",
    "nombre_recovered    16596\n",
    "Name: 302, dtype: int64"
   ]
  },
  {
   "cell_type": "markdown",
   "id": "d5286481",
   "metadata": {},
   "source": [
    "nombre_infected       707\n",
    "nombre_sain          2265\n",
    "nombre_exposed        453\n",
    "nombre_recovered    16575\n",
    "Name: 303, dtype: int64"
   ]
  },
  {
   "cell_type": "markdown",
   "id": "f7058c22",
   "metadata": {},
   "source": [
    "nombre_infected       700\n",
    "nombre_sain          2280\n",
    "nombre_exposed        438\n",
    "nombre_recovered    16582\n",
    "Name: 304, dtype: int64"
   ]
  },
  {
   "cell_type": "markdown",
   "id": "bed62b0f",
   "metadata": {},
   "source": [
    "nombre_infected       715\n",
    "nombre_sain          2273\n",
    "nombre_exposed        433\n",
    "nombre_recovered    16579\n",
    "Name: 305, dtype: int64"
   ]
  },
  {
   "cell_type": "markdown",
   "id": "1a706e73",
   "metadata": {},
   "source": [
    "nombre_infected       698\n",
    "nombre_sain          2278\n",
    "nombre_exposed        438\n",
    "nombre_recovered    16586\n",
    "Name: 306, dtype: int64"
   ]
  },
  {
   "cell_type": "markdown",
   "id": "cb0cede2",
   "metadata": {},
   "source": [
    "nombre_infected       698\n",
    "nombre_sain          2284\n",
    "nombre_exposed        429\n",
    "nombre_recovered    16589\n",
    "Name: 307, dtype: int64"
   ]
  },
  {
   "cell_type": "markdown",
   "id": "a1121611",
   "metadata": {},
   "source": [
    "nombre_infected       713\n",
    "nombre_sain          2316\n",
    "nombre_exposed        423\n",
    "nombre_recovered    16548\n",
    "Name: 308, dtype: int64"
   ]
  },
  {
   "cell_type": "markdown",
   "id": "454b8b28",
   "metadata": {},
   "source": [
    "nombre_infected       727\n",
    "nombre_sain          2330\n",
    "nombre_exposed        424\n",
    "nombre_recovered    16519\n",
    "Name: 309, dtype: int64"
   ]
  },
  {
   "cell_type": "markdown",
   "id": "618a3171",
   "metadata": {},
   "source": [
    "nombre_infected       719\n",
    "nombre_sain          2329\n",
    "nombre_exposed        422\n",
    "nombre_recovered    16530\n",
    "Name: 310, dtype: int64"
   ]
  },
  {
   "cell_type": "markdown",
   "id": "17669dfe",
   "metadata": {},
   "source": [
    "nombre_infected       721\n",
    "nombre_sain          2350\n",
    "nombre_exposed        413\n",
    "nombre_recovered    16516\n",
    "Name: 311, dtype: int64"
   ]
  },
  {
   "cell_type": "markdown",
   "id": "a97fa8d5",
   "metadata": {},
   "source": [
    "nombre_infected       701\n",
    "nombre_sain          2358\n",
    "nombre_exposed        440\n",
    "nombre_recovered    16501\n",
    "Name: 312, dtype: int64"
   ]
  },
  {
   "cell_type": "markdown",
   "id": "d0daa44c",
   "metadata": {},
   "source": [
    "nombre_infected       685\n",
    "nombre_sain          2387\n",
    "nombre_exposed        442\n",
    "nombre_recovered    16486\n",
    "Name: 313, dtype: int64"
   ]
  },
  {
   "cell_type": "markdown",
   "id": "00bc694f",
   "metadata": {},
   "source": [
    "nombre_infected       692\n",
    "nombre_sain          2417\n",
    "nombre_exposed        419\n",
    "nombre_recovered    16472\n",
    "Name: 314, dtype: int64"
   ]
  },
  {
   "cell_type": "markdown",
   "id": "27581482",
   "metadata": {},
   "source": [
    "nombre_infected       697\n",
    "nombre_sain          2421\n",
    "nombre_exposed        436\n",
    "nombre_recovered    16446\n",
    "Name: 315, dtype: int64"
   ]
  },
  {
   "cell_type": "markdown",
   "id": "ceae47c9",
   "metadata": {},
   "source": [
    "nombre_infected       690\n",
    "nombre_sain          2427\n",
    "nombre_exposed        459\n",
    "nombre_recovered    16424\n",
    "Name: 316, dtype: int64"
   ]
  },
  {
   "cell_type": "markdown",
   "id": "b1261f9c",
   "metadata": {},
   "source": [
    "nombre_infected       685\n",
    "nombre_sain          2398\n",
    "nombre_exposed        473\n",
    "nombre_recovered    16444\n",
    "Name: 317, dtype: int64"
   ]
  },
  {
   "cell_type": "markdown",
   "id": "b583b579",
   "metadata": {},
   "source": [
    "nombre_infected       695\n",
    "nombre_sain          2388\n",
    "nombre_exposed        469\n",
    "nombre_recovered    16448\n",
    "Name: 318, dtype: int64"
   ]
  },
  {
   "cell_type": "markdown",
   "id": "63c3ed29",
   "metadata": {},
   "source": [
    "nombre_infected       699\n",
    "nombre_sain          2376\n",
    "nombre_exposed        475\n",
    "nombre_recovered    16450\n",
    "Name: 319, dtype: int64"
   ]
  },
  {
   "cell_type": "markdown",
   "id": "379b887e",
   "metadata": {},
   "source": [
    "nombre_infected       701\n",
    "nombre_sain          2375\n",
    "nombre_exposed        468\n",
    "nombre_recovered    16456\n",
    "Name: 320, dtype: int64"
   ]
  },
  {
   "cell_type": "markdown",
   "id": "31df05da",
   "metadata": {},
   "source": [
    "nombre_infected       716\n",
    "nombre_sain          2372\n",
    "nombre_exposed        449\n",
    "nombre_recovered    16463\n",
    "Name: 321, dtype: int64"
   ]
  },
  {
   "cell_type": "markdown",
   "id": "cad471f5",
   "metadata": {},
   "source": [
    "nombre_infected       715\n",
    "nombre_sain          2376\n",
    "nombre_exposed        428\n",
    "nombre_recovered    16481\n",
    "Name: 322, dtype: int64"
   ]
  },
  {
   "cell_type": "markdown",
   "id": "c65158d3",
   "metadata": {},
   "source": [
    "nombre_infected       736\n",
    "nombre_sain          2364\n",
    "nombre_exposed        417\n",
    "nombre_recovered    16483\n",
    "Name: 323, dtype: int64"
   ]
  },
  {
   "cell_type": "markdown",
   "id": "65fb8ce0",
   "metadata": {},
   "source": [
    "nombre_infected       742\n",
    "nombre_sain          2344\n",
    "nombre_exposed        428\n",
    "nombre_recovered    16486\n",
    "Name: 324, dtype: int64"
   ]
  },
  {
   "cell_type": "markdown",
   "id": "174130d4",
   "metadata": {},
   "source": [
    "nombre_infected       730\n",
    "nombre_sain          2337\n",
    "nombre_exposed        448\n",
    "nombre_recovered    16485\n",
    "Name: 325, dtype: int64"
   ]
  },
  {
   "cell_type": "markdown",
   "id": "8351e638",
   "metadata": {},
   "source": [
    "nombre_infected       735\n",
    "nombre_sain          2303\n",
    "nombre_exposed        455\n",
    "nombre_recovered    16507\n",
    "Name: 326, dtype: int64"
   ]
  },
  {
   "cell_type": "markdown",
   "id": "a662bc8e",
   "metadata": {},
   "source": [
    "nombre_infected       735\n",
    "nombre_sain          2282\n",
    "nombre_exposed        477\n",
    "nombre_recovered    16506\n",
    "Name: 327, dtype: int64"
   ]
  },
  {
   "cell_type": "markdown",
   "id": "9c8bf284",
   "metadata": {},
   "source": [
    "nombre_infected       749\n",
    "nombre_sain          2271\n",
    "nombre_exposed        475\n",
    "nombre_recovered    16505\n",
    "Name: 328, dtype: int64"
   ]
  },
  {
   "cell_type": "markdown",
   "id": "adfecb47",
   "metadata": {},
   "source": [
    "nombre_infected       766\n",
    "nombre_sain          2271\n",
    "nombre_exposed        463\n",
    "nombre_recovered    16500\n",
    "Name: 329, dtype: int64"
   ]
  },
  {
   "cell_type": "markdown",
   "id": "97ec5113",
   "metadata": {},
   "source": [
    "nombre_infected       763\n",
    "nombre_sain          2271\n",
    "nombre_exposed        458\n",
    "nombre_recovered    16508\n",
    "Name: 330, dtype: int64"
   ]
  },
  {
   "cell_type": "markdown",
   "id": "d8f22f82",
   "metadata": {},
   "source": [
    "nombre_infected       780\n",
    "nombre_sain          2263\n",
    "nombre_exposed        429\n",
    "nombre_recovered    16528\n",
    "Name: 331, dtype: int64"
   ]
  },
  {
   "cell_type": "markdown",
   "id": "3f5ed6a1",
   "metadata": {},
   "source": [
    "nombre_infected       763\n",
    "nombre_sain          2275\n",
    "nombre_exposed        429\n",
    "nombre_recovered    16533\n",
    "Name: 332, dtype: int64"
   ]
  },
  {
   "cell_type": "markdown",
   "id": "dc81a1a1",
   "metadata": {},
   "source": [
    "nombre_infected       766\n",
    "nombre_sain          2301\n",
    "nombre_exposed        442\n",
    "nombre_recovered    16491\n",
    "Name: 333, dtype: int64"
   ]
  },
  {
   "cell_type": "markdown",
   "id": "d9357771",
   "metadata": {},
   "source": [
    "nombre_infected       750\n",
    "nombre_sain          2295\n",
    "nombre_exposed        457\n",
    "nombre_recovered    16498\n",
    "Name: 334, dtype: int64"
   ]
  },
  {
   "cell_type": "markdown",
   "id": "c2c96876",
   "metadata": {},
   "source": [
    "nombre_infected       768\n",
    "nombre_sain          2303\n",
    "nombre_exposed        449\n",
    "nombre_recovered    16480\n",
    "Name: 335, dtype: int64"
   ]
  },
  {
   "cell_type": "markdown",
   "id": "e8c05f87",
   "metadata": {},
   "source": [
    "nombre_infected       779\n",
    "nombre_sain          2310\n",
    "nombre_exposed        433\n",
    "nombre_recovered    16478\n",
    "Name: 336, dtype: int64"
   ]
  },
  {
   "cell_type": "markdown",
   "id": "94665d84",
   "metadata": {},
   "source": [
    "nombre_infected       775\n",
    "nombre_sain          2324\n",
    "nombre_exposed        425\n",
    "nombre_recovered    16476\n",
    "Name: 337, dtype: int64"
   ]
  },
  {
   "cell_type": "markdown",
   "id": "2bbece69",
   "metadata": {},
   "source": [
    "nombre_infected       785\n",
    "nombre_sain          2324\n",
    "nombre_exposed        436\n",
    "nombre_recovered    16455\n",
    "Name: 338, dtype: int64"
   ]
  },
  {
   "cell_type": "markdown",
   "id": "bb780f1a",
   "metadata": {},
   "source": [
    "nombre_infected       795\n",
    "nombre_sain          2335\n",
    "nombre_exposed        438\n",
    "nombre_recovered    16432\n",
    "Name: 339, dtype: int64"
   ]
  },
  {
   "cell_type": "markdown",
   "id": "bb670d59",
   "metadata": {},
   "source": [
    "nombre_infected       804\n",
    "nombre_sain          2323\n",
    "nombre_exposed        453\n",
    "nombre_recovered    16420\n",
    "Name: 340, dtype: int64"
   ]
  },
  {
   "cell_type": "markdown",
   "id": "3397d393",
   "metadata": {},
   "source": [
    "nombre_infected       810\n",
    "nombre_sain          2308\n",
    "nombre_exposed        457\n",
    "nombre_recovered    16425\n",
    "Name: 341, dtype: int64"
   ]
  },
  {
   "cell_type": "markdown",
   "id": "33daef6b",
   "metadata": {},
   "source": [
    "nombre_infected       808\n",
    "nombre_sain          2285\n",
    "nombre_exposed        483\n",
    "nombre_recovered    16424\n",
    "Name: 342, dtype: int64"
   ]
  },
  {
   "cell_type": "markdown",
   "id": "b83ec3ba",
   "metadata": {},
   "source": [
    "nombre_infected       832\n",
    "nombre_sain          2273\n",
    "nombre_exposed        473\n",
    "nombre_recovered    16422\n",
    "Name: 343, dtype: int64"
   ]
  },
  {
   "cell_type": "markdown",
   "id": "10d34408",
   "metadata": {},
   "source": [
    "nombre_infected       854\n",
    "nombre_sain          2266\n",
    "nombre_exposed        466\n",
    "nombre_recovered    16414\n",
    "Name: 344, dtype: int64"
   ]
  },
  {
   "cell_type": "markdown",
   "id": "d0c4624c",
   "metadata": {},
   "source": [
    "nombre_infected       874\n",
    "nombre_sain          2248\n",
    "nombre_exposed        454\n",
    "nombre_recovered    16424\n",
    "Name: 345, dtype: int64"
   ]
  },
  {
   "cell_type": "markdown",
   "id": "ed4f5f7d",
   "metadata": {},
   "source": [
    "nombre_infected       874\n",
    "nombre_sain          2223\n",
    "nombre_exposed        458\n",
    "nombre_recovered    16445\n",
    "Name: 346, dtype: int64"
   ]
  },
  {
   "cell_type": "markdown",
   "id": "97905235",
   "metadata": {},
   "source": [
    "nombre_infected       854\n",
    "nombre_sain          2219\n",
    "nombre_exposed        469\n",
    "nombre_recovered    16458\n",
    "Name: 347, dtype: int64"
   ]
  },
  {
   "cell_type": "markdown",
   "id": "c4634061",
   "metadata": {},
   "source": [
    "nombre_infected       846\n",
    "nombre_sain          2218\n",
    "nombre_exposed        470\n",
    "nombre_recovered    16466\n",
    "Name: 348, dtype: int64"
   ]
  },
  {
   "cell_type": "markdown",
   "id": "b9e5b342",
   "metadata": {},
   "source": [
    "nombre_infected       852\n",
    "nombre_sain          2190\n",
    "nombre_exposed        484\n",
    "nombre_recovered    16474\n",
    "Name: 349, dtype: int64"
   ]
  },
  {
   "cell_type": "markdown",
   "id": "157946bd",
   "metadata": {},
   "source": [
    "nombre_infected       821\n",
    "nombre_sain          2153\n",
    "nombre_exposed        525\n",
    "nombre_recovered    16501\n",
    "Name: 350, dtype: int64"
   ]
  },
  {
   "cell_type": "markdown",
   "id": "a0d7a111",
   "metadata": {},
   "source": [
    "nombre_infected       834\n",
    "nombre_sain          2159\n",
    "nombre_exposed        500\n",
    "nombre_recovered    16507\n",
    "Name: 351, dtype: int64"
   ]
  },
  {
   "cell_type": "markdown",
   "id": "dc8411b8",
   "metadata": {},
   "source": [
    "nombre_infected       864\n",
    "nombre_sain          2154\n",
    "nombre_exposed        475\n",
    "nombre_recovered    16507\n",
    "Name: 352, dtype: int64"
   ]
  },
  {
   "cell_type": "markdown",
   "id": "2bfc6ece",
   "metadata": {},
   "source": [
    "nombre_infected       886\n",
    "nombre_sain          2133\n",
    "nombre_exposed        463\n",
    "nombre_recovered    16518\n",
    "Name: 353, dtype: int64"
   ]
  },
  {
   "cell_type": "markdown",
   "id": "f3df9f11",
   "metadata": {},
   "source": [
    "nombre_infected       890\n",
    "nombre_sain          2104\n",
    "nombre_exposed        479\n",
    "nombre_recovered    16527\n",
    "Name: 354, dtype: int64"
   ]
  },
  {
   "cell_type": "markdown",
   "id": "cf883a7f",
   "metadata": {},
   "source": [
    "nombre_infected       896\n",
    "nombre_sain          2110\n",
    "nombre_exposed        452\n",
    "nombre_recovered    16542\n",
    "Name: 355, dtype: int64"
   ]
  },
  {
   "cell_type": "markdown",
   "id": "c516438d",
   "metadata": {},
   "source": [
    "nombre_infected       890\n",
    "nombre_sain          2091\n",
    "nombre_exposed        459\n",
    "nombre_recovered    16560\n",
    "Name: 356, dtype: int64"
   ]
  },
  {
   "cell_type": "markdown",
   "id": "59a9f3f1",
   "metadata": {},
   "source": [
    "nombre_infected       884\n",
    "nombre_sain          2064\n",
    "nombre_exposed        477\n",
    "nombre_recovered    16575\n",
    "Name: 357, dtype: int64"
   ]
  },
  {
   "cell_type": "markdown",
   "id": "8fd171a3",
   "metadata": {},
   "source": [
    "nombre_infected       871\n",
    "nombre_sain          2051\n",
    "nombre_exposed        467\n",
    "nombre_recovered    16611\n",
    "Name: 358, dtype: int64"
   ]
  },
  {
   "cell_type": "markdown",
   "id": "93b4613a",
   "metadata": {},
   "source": [
    "nombre_infected       867\n",
    "nombre_sain          2065\n",
    "nombre_exposed        457\n",
    "nombre_recovered    16611\n",
    "Name: 359, dtype: int64"
   ]
  },
  {
   "cell_type": "markdown",
   "id": "f522e87e",
   "metadata": {},
   "source": [
    "nombre_infected       858\n",
    "nombre_sain          2064\n",
    "nombre_exposed        451\n",
    "nombre_recovered    16627\n",
    "Name: 360, dtype: int64"
   ]
  },
  {
   "cell_type": "markdown",
   "id": "3cd3da18",
   "metadata": {},
   "source": [
    "nombre_infected       827\n",
    "nombre_sain          2057\n",
    "nombre_exposed        456\n",
    "nombre_recovered    16660\n",
    "Name: 361, dtype: int64"
   ]
  },
  {
   "cell_type": "markdown",
   "id": "b46ce8c9",
   "metadata": {},
   "source": [
    "nombre_infected       842\n",
    "nombre_sain          2047\n",
    "nombre_exposed        458\n",
    "nombre_recovered    16653\n",
    "Name: 362, dtype: int64"
   ]
  },
  {
   "cell_type": "markdown",
   "id": "be19a103",
   "metadata": {},
   "source": [
    "nombre_infected       824\n",
    "nombre_sain          2040\n",
    "nombre_exposed        454\n",
    "nombre_recovered    16682\n",
    "Name: 363, dtype: int64"
   ]
  },
  {
   "cell_type": "markdown",
   "id": "43610670",
   "metadata": {},
   "source": [
    "nombre_infected       818\n",
    "nombre_sain          2032\n",
    "nombre_exposed        456\n",
    "nombre_recovered    16694\n",
    "Name: 364, dtype: int64"
   ]
  },
  {
   "cell_type": "markdown",
   "id": "49b85d62",
   "metadata": {},
   "source": [
    "nombre_infected       829\n",
    "nombre_sain          2054\n",
    "nombre_exposed        441\n",
    "nombre_recovered    16676\n",
    "Name: 365, dtype: int64"
   ]
  },
  {
   "cell_type": "markdown",
   "id": "b8cdafd1",
   "metadata": {},
   "source": [
    "nombre_infected       822\n",
    "nombre_sain          2028\n",
    "nombre_exposed        450\n",
    "nombre_recovered    16700\n",
    "Name: 366, dtype: int64"
   ]
  },
  {
   "cell_type": "markdown",
   "id": "9f7a42ae",
   "metadata": {},
   "source": [
    "nombre_infected       833\n",
    "nombre_sain          2038\n",
    "nombre_exposed        438\n",
    "nombre_recovered    16691\n",
    "Name: 367, dtype: int64"
   ]
  },
  {
   "cell_type": "markdown",
   "id": "2e44d402",
   "metadata": {},
   "source": [
    "nombre_infected       832\n",
    "nombre_sain          2042\n",
    "nombre_exposed        423\n",
    "nombre_recovered    16703\n",
    "Name: 368, dtype: int64"
   ]
  },
  {
   "cell_type": "markdown",
   "id": "f2788443",
   "metadata": {},
   "source": [
    "nombre_infected       804\n",
    "nombre_sain          2053\n",
    "nombre_exposed        424\n",
    "nombre_recovered    16719\n",
    "Name: 369, dtype: int64"
   ]
  },
  {
   "cell_type": "markdown",
   "id": "ef581503",
   "metadata": {},
   "source": [
    "nombre_infected       775\n",
    "nombre_sain          2094\n",
    "nombre_exposed        413\n",
    "nombre_recovered    16718\n",
    "Name: 370, dtype: int64"
   ]
  },
  {
   "cell_type": "markdown",
   "id": "0377eb8c",
   "metadata": {},
   "source": [
    "nombre_infected       772\n",
    "nombre_sain          2091\n",
    "nombre_exposed        423\n",
    "nombre_recovered    16714\n",
    "Name: 371, dtype: int64"
   ]
  },
  {
   "cell_type": "markdown",
   "id": "98f6e9dc",
   "metadata": {},
   "source": [
    "nombre_infected       763\n",
    "nombre_sain          2094\n",
    "nombre_exposed        426\n",
    "nombre_recovered    16717\n",
    "Name: 372, dtype: int64"
   ]
  },
  {
   "cell_type": "markdown",
   "id": "a4706323",
   "metadata": {},
   "source": [
    "nombre_infected       766\n",
    "nombre_sain          2096\n",
    "nombre_exposed        409\n",
    "nombre_recovered    16729\n",
    "Name: 373, dtype: int64"
   ]
  },
  {
   "cell_type": "markdown",
   "id": "99f6ab11",
   "metadata": {},
   "source": [
    "nombre_infected       772\n",
    "nombre_sain          2097\n",
    "nombre_exposed        384\n",
    "nombre_recovered    16747\n",
    "Name: 374, dtype: int64"
   ]
  },
  {
   "cell_type": "markdown",
   "id": "06bb016e",
   "metadata": {},
   "source": [
    "nombre_infected       746\n",
    "nombre_sain          2131\n",
    "nombre_exposed        397\n",
    "nombre_recovered    16726\n",
    "Name: 375, dtype: int64"
   ]
  },
  {
   "cell_type": "markdown",
   "id": "e1a9c824",
   "metadata": {},
   "source": [
    "nombre_infected       739\n",
    "nombre_sain          2139\n",
    "nombre_exposed        409\n",
    "nombre_recovered    16713\n",
    "Name: 376, dtype: int64"
   ]
  },
  {
   "cell_type": "markdown",
   "id": "d895b528",
   "metadata": {},
   "source": [
    "nombre_infected       741\n",
    "nombre_sain          2132\n",
    "nombre_exposed        402\n",
    "nombre_recovered    16725\n",
    "Name: 377, dtype: int64"
   ]
  },
  {
   "cell_type": "markdown",
   "id": "b8b95604",
   "metadata": {},
   "source": [
    "nombre_infected       727\n",
    "nombre_sain          2134\n",
    "nombre_exposed        405\n",
    "nombre_recovered    16734\n",
    "Name: 378, dtype: int64"
   ]
  },
  {
   "cell_type": "markdown",
   "id": "79854039",
   "metadata": {},
   "source": [
    "nombre_infected       713\n",
    "nombre_sain          2143\n",
    "nombre_exposed        413\n",
    "nombre_recovered    16731\n",
    "Name: 379, dtype: int64"
   ]
  },
  {
   "cell_type": "markdown",
   "id": "6c0be914",
   "metadata": {},
   "source": [
    "nombre_infected       720\n",
    "nombre_sain          2129\n",
    "nombre_exposed        413\n",
    "nombre_recovered    16738\n",
    "Name: 380, dtype: int64"
   ]
  },
  {
   "cell_type": "markdown",
   "id": "327792f3",
   "metadata": {},
   "source": [
    "nombre_infected       719\n",
    "nombre_sain          2143\n",
    "nombre_exposed        421\n",
    "nombre_recovered    16717\n",
    "Name: 381, dtype: int64"
   ]
  },
  {
   "cell_type": "markdown",
   "id": "be8b6748",
   "metadata": {},
   "source": [
    "nombre_infected       726\n",
    "nombre_sain          2146\n",
    "nombre_exposed        420\n",
    "nombre_recovered    16708\n",
    "Name: 382, dtype: int64"
   ]
  },
  {
   "cell_type": "markdown",
   "id": "5995f240",
   "metadata": {},
   "source": [
    "nombre_infected       730\n",
    "nombre_sain          2162\n",
    "nombre_exposed        421\n",
    "nombre_recovered    16687\n",
    "Name: 383, dtype: int64"
   ]
  },
  {
   "cell_type": "markdown",
   "id": "149d6c5a",
   "metadata": {},
   "source": [
    "nombre_infected       746\n",
    "nombre_sain          2175\n",
    "nombre_exposed        414\n",
    "nombre_recovered    16665\n",
    "Name: 384, dtype: int64"
   ]
  },
  {
   "cell_type": "markdown",
   "id": "f86af60b",
   "metadata": {},
   "source": [
    "nombre_infected       751\n",
    "nombre_sain          2182\n",
    "nombre_exposed        410\n",
    "nombre_recovered    16657\n",
    "Name: 385, dtype: int64"
   ]
  },
  {
   "cell_type": "markdown",
   "id": "4397057b",
   "metadata": {},
   "source": [
    "nombre_infected       745\n",
    "nombre_sain          2221\n",
    "nombre_exposed        404\n",
    "nombre_recovered    16630\n",
    "Name: 386, dtype: int64"
   ]
  },
  {
   "cell_type": "markdown",
   "id": "3fbeacbc",
   "metadata": {},
   "source": [
    "nombre_infected       745\n",
    "nombre_sain          2209\n",
    "nombre_exposed        417\n",
    "nombre_recovered    16629\n",
    "Name: 387, dtype: int64"
   ]
  },
  {
   "cell_type": "markdown",
   "id": "3c2a21c0",
   "metadata": {},
   "source": [
    "nombre_infected       727\n",
    "nombre_sain          2231\n",
    "nombre_exposed        423\n",
    "nombre_recovered    16619\n",
    "Name: 388, dtype: int64"
   ]
  },
  {
   "cell_type": "markdown",
   "id": "8a74f5d6",
   "metadata": {},
   "source": [
    "nombre_infected       731\n",
    "nombre_sain          2245\n",
    "nombre_exposed        418\n",
    "nombre_recovered    16606\n",
    "Name: 389, dtype: int64"
   ]
  },
  {
   "cell_type": "markdown",
   "id": "4d9b5be4",
   "metadata": {},
   "source": [
    "nombre_infected       735\n",
    "nombre_sain          2256\n",
    "nombre_exposed        431\n",
    "nombre_recovered    16578\n",
    "Name: 390, dtype: int64"
   ]
  },
  {
   "cell_type": "markdown",
   "id": "671d62f5",
   "metadata": {},
   "source": [
    "nombre_infected       743\n",
    "nombre_sain          2241\n",
    "nombre_exposed        441\n",
    "nombre_recovered    16575\n",
    "Name: 391, dtype: int64"
   ]
  },
  {
   "cell_type": "markdown",
   "id": "5ef4668d",
   "metadata": {},
   "source": [
    "nombre_infected       750\n",
    "nombre_sain          2255\n",
    "nombre_exposed        444\n",
    "nombre_recovered    16551\n",
    "Name: 392, dtype: int64"
   ]
  },
  {
   "cell_type": "markdown",
   "id": "eb89be66",
   "metadata": {},
   "source": [
    "nombre_infected       752\n",
    "nombre_sain          2284\n",
    "nombre_exposed        424\n",
    "nombre_recovered    16540\n",
    "Name: 393, dtype: int64"
   ]
  },
  {
   "cell_type": "markdown",
   "id": "be0dcc6f",
   "metadata": {},
   "source": [
    "nombre_infected       769\n",
    "nombre_sain          2259\n",
    "nombre_exposed        441\n",
    "nombre_recovered    16531\n",
    "Name: 394, dtype: int64"
   ]
  },
  {
   "cell_type": "markdown",
   "id": "c932ac88",
   "metadata": {},
   "source": [
    "nombre_infected       756\n",
    "nombre_sain          2264\n",
    "nombre_exposed        464\n",
    "nombre_recovered    16516\n",
    "Name: 395, dtype: int64"
   ]
  },
  {
   "cell_type": "markdown",
   "id": "47a607d2",
   "metadata": {},
   "source": [
    "nombre_infected       769\n",
    "nombre_sain          2271\n",
    "nombre_exposed        451\n",
    "nombre_recovered    16509\n",
    "Name: 396, dtype: int64"
   ]
  },
  {
   "cell_type": "markdown",
   "id": "9cea70e4",
   "metadata": {},
   "source": [
    "nombre_infected       779\n",
    "nombre_sain          2237\n",
    "nombre_exposed        481\n",
    "nombre_recovered    16503\n",
    "Name: 397, dtype: int64"
   ]
  },
  {
   "cell_type": "markdown",
   "id": "2637720a",
   "metadata": {},
   "source": [
    "nombre_infected       764\n",
    "nombre_sain          2243\n",
    "nombre_exposed        491\n",
    "nombre_recovered    16502\n",
    "Name: 398, dtype: int64"
   ]
  },
  {
   "cell_type": "markdown",
   "id": "723f6bd5",
   "metadata": {},
   "source": [
    "nombre_infected       794\n",
    "nombre_sain          2237\n",
    "nombre_exposed        478\n",
    "nombre_recovered    16491\n",
    "Name: 399, dtype: int64"
   ]
  },
  {
   "cell_type": "markdown",
   "id": "f45081fd",
   "metadata": {},
   "source": [
    "nombre_infected       829\n",
    "nombre_sain          2232\n",
    "nombre_exposed        484\n",
    "nombre_recovered    16455\n",
    "Name: 400, dtype: int64"
   ]
  },
  {
   "cell_type": "markdown",
   "id": "f46a0b27",
   "metadata": {},
   "source": [
    "nombre_infected       826\n",
    "nombre_sain          2225\n",
    "nombre_exposed        491\n",
    "nombre_recovered    16458\n",
    "Name: 401, dtype: int64"
   ]
  },
  {
   "cell_type": "markdown",
   "id": "c064ba36",
   "metadata": {},
   "source": [
    "nombre_infected       807\n",
    "nombre_sain          2231\n",
    "nombre_exposed        505\n",
    "nombre_recovered    16457\n",
    "Name: 402, dtype: int64"
   ]
  },
  {
   "cell_type": "markdown",
   "id": "dc75ed6b",
   "metadata": {},
   "source": [
    "nombre_infected       816\n",
    "nombre_sain          2238\n",
    "nombre_exposed        508\n",
    "nombre_recovered    16438\n",
    "Name: 403, dtype: int64"
   ]
  },
  {
   "cell_type": "markdown",
   "id": "919aa7a0",
   "metadata": {},
   "source": [
    "nombre_infected       816\n",
    "nombre_sain          2228\n",
    "nombre_exposed        520\n",
    "nombre_recovered    16436\n",
    "Name: 404, dtype: int64"
   ]
  },
  {
   "cell_type": "markdown",
   "id": "65ad2f32",
   "metadata": {},
   "source": [
    "nombre_infected       852\n",
    "nombre_sain          2211\n",
    "nombre_exposed        505\n",
    "nombre_recovered    16432\n",
    "Name: 405, dtype: int64"
   ]
  },
  {
   "cell_type": "markdown",
   "id": "63ea57e1",
   "metadata": {},
   "source": [
    "nombre_infected       861\n",
    "nombre_sain          2232\n",
    "nombre_exposed        499\n",
    "nombre_recovered    16408\n",
    "Name: 406, dtype: int64"
   ]
  },
  {
   "cell_type": "markdown",
   "id": "6fd5de1f",
   "metadata": {},
   "source": [
    "nombre_infected       896\n",
    "nombre_sain          2215\n",
    "nombre_exposed        487\n",
    "nombre_recovered    16402\n",
    "Name: 407, dtype: int64"
   ]
  },
  {
   "cell_type": "markdown",
   "id": "875b5a17",
   "metadata": {},
   "source": [
    "nombre_infected       905\n",
    "nombre_sain          2202\n",
    "nombre_exposed        498\n",
    "nombre_recovered    16395\n",
    "Name: 408, dtype: int64"
   ]
  },
  {
   "cell_type": "markdown",
   "id": "06c616dd",
   "metadata": {},
   "source": [
    "nombre_infected       906\n",
    "nombre_sain          2188\n",
    "nombre_exposed        516\n",
    "nombre_recovered    16390\n",
    "Name: 409, dtype: int64"
   ]
  },
  {
   "cell_type": "markdown",
   "id": "5f40d576",
   "metadata": {},
   "source": [
    "nombre_infected       908\n",
    "nombre_sain          2164\n",
    "nombre_exposed        535\n",
    "nombre_recovered    16393\n",
    "Name: 410, dtype: int64"
   ]
  },
  {
   "cell_type": "markdown",
   "id": "0478d390",
   "metadata": {},
   "source": [
    "nombre_infected       900\n",
    "nombre_sain          2142\n",
    "nombre_exposed        563\n",
    "nombre_recovered    16395\n",
    "Name: 411, dtype: int64"
   ]
  },
  {
   "cell_type": "markdown",
   "id": "b0c86276",
   "metadata": {},
   "source": [
    "nombre_infected       918\n",
    "nombre_sain          2138\n",
    "nombre_exposed        552\n",
    "nombre_recovered    16392\n",
    "Name: 412, dtype: int64"
   ]
  },
  {
   "cell_type": "markdown",
   "id": "4fcf2699",
   "metadata": {},
   "source": [
    "nombre_infected       923\n",
    "nombre_sain          2152\n",
    "nombre_exposed        535\n",
    "nombre_recovered    16390\n",
    "Name: 413, dtype: int64"
   ]
  },
  {
   "cell_type": "markdown",
   "id": "99640014",
   "metadata": {},
   "source": [
    "nombre_infected       926\n",
    "nombre_sain          2121\n",
    "nombre_exposed        528\n",
    "nombre_recovered    16425\n",
    "Name: 414, dtype: int64"
   ]
  },
  {
   "cell_type": "markdown",
   "id": "0f99e048",
   "metadata": {},
   "source": [
    "nombre_infected       945\n",
    "nombre_sain          2103\n",
    "nombre_exposed        523\n",
    "nombre_recovered    16429\n",
    "Name: 415, dtype: int64"
   ]
  },
  {
   "cell_type": "markdown",
   "id": "34e4a46f",
   "metadata": {},
   "source": [
    "nombre_infected       944\n",
    "nombre_sain          2092\n",
    "nombre_exposed        532\n",
    "nombre_recovered    16432\n",
    "Name: 416, dtype: int64"
   ]
  },
  {
   "cell_type": "markdown",
   "id": "c19fd2f5",
   "metadata": {},
   "source": [
    "nombre_infected       937\n",
    "nombre_sain          2086\n",
    "nombre_exposed        543\n",
    "nombre_recovered    16434\n",
    "Name: 417, dtype: int64"
   ]
  },
  {
   "cell_type": "markdown",
   "id": "be02e925",
   "metadata": {},
   "source": [
    "nombre_infected       958\n",
    "nombre_sain          2094\n",
    "nombre_exposed        511\n",
    "nombre_recovered    16437\n",
    "Name: 418, dtype: int64"
   ]
  },
  {
   "cell_type": "markdown",
   "id": "7fc97d5d",
   "metadata": {},
   "source": [
    "nombre_infected       963\n",
    "nombre_sain          2082\n",
    "nombre_exposed        497\n",
    "nombre_recovered    16458\n",
    "Name: 419, dtype: int64"
   ]
  },
  {
   "cell_type": "markdown",
   "id": "1349fbab",
   "metadata": {},
   "source": [
    "nombre_infected       976\n",
    "nombre_sain          2067\n",
    "nombre_exposed        475\n",
    "nombre_recovered    16482\n",
    "Name: 420, dtype: int64"
   ]
  },
  {
   "cell_type": "markdown",
   "id": "42507db8",
   "metadata": {},
   "source": [
    "nombre_infected       959\n",
    "nombre_sain          2050\n",
    "nombre_exposed        488\n",
    "nombre_recovered    16503\n",
    "Name: 421, dtype: int64"
   ]
  },
  {
   "cell_type": "markdown",
   "id": "00f4d4e7",
   "metadata": {},
   "source": [
    "nombre_infected       978\n",
    "nombre_sain          2023\n",
    "nombre_exposed        473\n",
    "nombre_recovered    16526\n",
    "Name: 422, dtype: int64"
   ]
  },
  {
   "cell_type": "markdown",
   "id": "0674a107",
   "metadata": {},
   "source": [
    "nombre_infected       969\n",
    "nombre_sain          2000\n",
    "nombre_exposed        500\n",
    "nombre_recovered    16531\n",
    "Name: 423, dtype: int64"
   ]
  },
  {
   "cell_type": "markdown",
   "id": "4f8029b6",
   "metadata": {},
   "source": [
    "nombre_infected       952\n",
    "nombre_sain          2003\n",
    "nombre_exposed        500\n",
    "nombre_recovered    16545\n",
    "Name: 424, dtype: int64"
   ]
  },
  {
   "cell_type": "markdown",
   "id": "dffe7c57",
   "metadata": {},
   "source": [
    "nombre_infected       948\n",
    "nombre_sain          1996\n",
    "nombre_exposed        483\n",
    "nombre_recovered    16573\n",
    "Name: 425, dtype: int64"
   ]
  },
  {
   "cell_type": "markdown",
   "id": "5d06cd5f",
   "metadata": {},
   "source": [
    "nombre_infected       934\n",
    "nombre_sain          2023\n",
    "nombre_exposed        478\n",
    "nombre_recovered    16565\n",
    "Name: 426, dtype: int64"
   ]
  },
  {
   "cell_type": "markdown",
   "id": "47fce20d",
   "metadata": {},
   "source": [
    "nombre_infected       920\n",
    "nombre_sain          2032\n",
    "nombre_exposed        472\n",
    "nombre_recovered    16576\n",
    "Name: 427, dtype: int64"
   ]
  },
  {
   "cell_type": "markdown",
   "id": "4c6fb43e",
   "metadata": {},
   "source": [
    "nombre_infected       921\n",
    "nombre_sain          2044\n",
    "nombre_exposed        443\n",
    "nombre_recovered    16592\n",
    "Name: 428, dtype: int64"
   ]
  },
  {
   "cell_type": "markdown",
   "id": "0cb24385",
   "metadata": {},
   "source": [
    "nombre_infected       922\n",
    "nombre_sain          2048\n",
    "nombre_exposed        449\n",
    "nombre_recovered    16581\n",
    "Name: 429, dtype: int64"
   ]
  },
  {
   "cell_type": "markdown",
   "id": "e2304c8e",
   "metadata": {},
   "source": [
    "nombre_infected       910\n",
    "nombre_sain          2070\n",
    "nombre_exposed        443\n",
    "nombre_recovered    16577\n",
    "Name: 430, dtype: int64"
   ]
  },
  {
   "cell_type": "markdown",
   "id": "3bbe6712",
   "metadata": {},
   "source": [
    "nombre_infected       895\n",
    "nombre_sain          2056\n",
    "nombre_exposed        480\n",
    "nombre_recovered    16569\n",
    "Name: 431, dtype: int64"
   ]
  },
  {
   "cell_type": "markdown",
   "id": "4d160254",
   "metadata": {},
   "source": [
    "nombre_infected       863\n",
    "nombre_sain          2060\n",
    "nombre_exposed        482\n",
    "nombre_recovered    16595\n",
    "Name: 432, dtype: int64"
   ]
  },
  {
   "cell_type": "markdown",
   "id": "f70b34b2",
   "metadata": {},
   "source": [
    "nombre_infected       848\n",
    "nombre_sain          2060\n",
    "nombre_exposed        483\n",
    "nombre_recovered    16609\n",
    "Name: 433, dtype: int64"
   ]
  },
  {
   "cell_type": "markdown",
   "id": "5c4ad8e2",
   "metadata": {},
   "source": [
    "nombre_infected       840\n",
    "nombre_sain          2070\n",
    "nombre_exposed        475\n",
    "nombre_recovered    16615\n",
    "Name: 434, dtype: int64"
   ]
  },
  {
   "cell_type": "markdown",
   "id": "d548f71b",
   "metadata": {},
   "source": [
    "nombre_infected       843\n",
    "nombre_sain          2091\n",
    "nombre_exposed        463\n",
    "nombre_recovered    16603\n",
    "Name: 435, dtype: int64"
   ]
  },
  {
   "cell_type": "markdown",
   "id": "697f3b86",
   "metadata": {},
   "source": [
    "nombre_infected       846\n",
    "nombre_sain          2103\n",
    "nombre_exposed        455\n",
    "nombre_recovered    16596\n",
    "Name: 436, dtype: int64"
   ]
  },
  {
   "cell_type": "markdown",
   "id": "b6e59979",
   "metadata": {},
   "source": [
    "nombre_infected       849\n",
    "nombre_sain          2113\n",
    "nombre_exposed        463\n",
    "nombre_recovered    16575\n",
    "Name: 437, dtype: int64"
   ]
  },
  {
   "cell_type": "markdown",
   "id": "ce9b024a",
   "metadata": {},
   "source": [
    "nombre_infected       848\n",
    "nombre_sain          2124\n",
    "nombre_exposed        465\n",
    "nombre_recovered    16563\n",
    "Name: 438, dtype: int64"
   ]
  },
  {
   "cell_type": "markdown",
   "id": "a7351367",
   "metadata": {},
   "source": [
    "nombre_infected       853\n",
    "nombre_sain          2110\n",
    "nombre_exposed        482\n",
    "nombre_recovered    16555\n",
    "Name: 439, dtype: int64"
   ]
  },
  {
   "cell_type": "markdown",
   "id": "3e422926",
   "metadata": {},
   "source": [
    "nombre_infected       857\n",
    "nombre_sain          2117\n",
    "nombre_exposed        470\n",
    "nombre_recovered    16556\n",
    "Name: 440, dtype: int64"
   ]
  },
  {
   "cell_type": "markdown",
   "id": "7ebfd89d",
   "metadata": {},
   "source": [
    "nombre_infected       860\n",
    "nombre_sain          2115\n",
    "nombre_exposed        464\n",
    "nombre_recovered    16561\n",
    "Name: 441, dtype: int64"
   ]
  },
  {
   "cell_type": "markdown",
   "id": "3eb4678b",
   "metadata": {},
   "source": [
    "nombre_infected       859\n",
    "nombre_sain          2104\n",
    "nombre_exposed        461\n",
    "nombre_recovered    16576\n",
    "Name: 442, dtype: int64"
   ]
  },
  {
   "cell_type": "markdown",
   "id": "ab3b02cb",
   "metadata": {},
   "source": [
    "nombre_infected       852\n",
    "nombre_sain          2122\n",
    "nombre_exposed        464\n",
    "nombre_recovered    16562\n",
    "Name: 443, dtype: int64"
   ]
  },
  {
   "cell_type": "markdown",
   "id": "253205b8",
   "metadata": {},
   "source": [
    "nombre_infected       861\n",
    "nombre_sain          2165\n",
    "nombre_exposed        454\n",
    "nombre_recovered    16520\n",
    "Name: 444, dtype: int64"
   ]
  },
  {
   "cell_type": "markdown",
   "id": "c3a3cc46",
   "metadata": {},
   "source": [
    "nombre_infected       848\n",
    "nombre_sain          2197\n",
    "nombre_exposed        454\n",
    "nombre_recovered    16501\n",
    "Name: 445, dtype: int64"
   ]
  },
  {
   "cell_type": "markdown",
   "id": "f63c1166",
   "metadata": {},
   "source": [
    "nombre_infected       843\n",
    "nombre_sain          2220\n",
    "nombre_exposed        490\n",
    "nombre_recovered    16447\n",
    "Name: 446, dtype: int64"
   ]
  },
  {
   "cell_type": "markdown",
   "id": "8eb5ee39",
   "metadata": {},
   "source": [
    "nombre_infected       858\n",
    "nombre_sain          2220\n",
    "nombre_exposed        501\n",
    "nombre_recovered    16421\n",
    "Name: 447, dtype: int64"
   ]
  },
  {
   "cell_type": "markdown",
   "id": "1e302144",
   "metadata": {},
   "source": [
    "nombre_infected       866\n",
    "nombre_sain          2224\n",
    "nombre_exposed        485\n",
    "nombre_recovered    16425\n",
    "Name: 448, dtype: int64"
   ]
  },
  {
   "cell_type": "markdown",
   "id": "83efadb3",
   "metadata": {},
   "source": [
    "nombre_infected       870\n",
    "nombre_sain          2222\n",
    "nombre_exposed        496\n",
    "nombre_recovered    16412\n",
    "Name: 449, dtype: int64"
   ]
  },
  {
   "cell_type": "markdown",
   "id": "2858b335",
   "metadata": {},
   "source": [
    "nombre_infected       863\n",
    "nombre_sain          2230\n",
    "nombre_exposed        495\n",
    "nombre_recovered    16412\n",
    "Name: 450, dtype: int64"
   ]
  },
  {
   "cell_type": "markdown",
   "id": "3aa49caf",
   "metadata": {},
   "source": [
    "nombre_infected       893\n",
    "nombre_sain          2247\n",
    "nombre_exposed        477\n",
    "nombre_recovered    16383\n",
    "Name: 451, dtype: int64"
   ]
  },
  {
   "cell_type": "markdown",
   "id": "73c722d8",
   "metadata": {},
   "source": [
    "nombre_infected       895\n",
    "nombre_sain          2219\n",
    "nombre_exposed        512\n",
    "nombre_recovered    16374\n",
    "Name: 452, dtype: int64"
   ]
  },
  {
   "cell_type": "markdown",
   "id": "2086028b",
   "metadata": {},
   "source": [
    "nombre_infected       918\n",
    "nombre_sain          2228\n",
    "nombre_exposed        505\n",
    "nombre_recovered    16349\n",
    "Name: 453, dtype: int64"
   ]
  },
  {
   "cell_type": "markdown",
   "id": "24042e68",
   "metadata": {},
   "source": [
    "nombre_infected       949\n",
    "nombre_sain          2213\n",
    "nombre_exposed        502\n",
    "nombre_recovered    16336\n",
    "Name: 454, dtype: int64"
   ]
  },
  {
   "cell_type": "markdown",
   "id": "39bacf1c",
   "metadata": {},
   "source": [
    "nombre_infected       937\n",
    "nombre_sain          2202\n",
    "nombre_exposed        520\n",
    "nombre_recovered    16341\n",
    "Name: 455, dtype: int64"
   ]
  },
  {
   "cell_type": "markdown",
   "id": "6ae79649",
   "metadata": {},
   "source": [
    "nombre_infected       912\n",
    "nombre_sain          2202\n",
    "nombre_exposed        535\n",
    "nombre_recovered    16351\n",
    "Name: 456, dtype: int64"
   ]
  },
  {
   "cell_type": "markdown",
   "id": "8410a142",
   "metadata": {},
   "source": [
    "nombre_infected       905\n",
    "nombre_sain          2221\n",
    "nombre_exposed        533\n",
    "nombre_recovered    16341\n",
    "Name: 457, dtype: int64"
   ]
  },
  {
   "cell_type": "markdown",
   "id": "5a67c445",
   "metadata": {},
   "source": [
    "nombre_infected       918\n",
    "nombre_sain          2258\n",
    "nombre_exposed        505\n",
    "nombre_recovered    16319\n",
    "Name: 458, dtype: int64"
   ]
  },
  {
   "cell_type": "markdown",
   "id": "abd3da19",
   "metadata": {},
   "source": [
    "nombre_infected       911\n",
    "nombre_sain          2289\n",
    "nombre_exposed        515\n",
    "nombre_recovered    16285\n",
    "Name: 459, dtype: int64"
   ]
  },
  {
   "cell_type": "markdown",
   "id": "b7e3cccb",
   "metadata": {},
   "source": [
    "nombre_infected       890\n",
    "nombre_sain          2323\n",
    "nombre_exposed        500\n",
    "nombre_recovered    16287\n",
    "Name: 460, dtype: int64"
   ]
  },
  {
   "cell_type": "markdown",
   "id": "50ce1ba2",
   "metadata": {},
   "source": [
    "nombre_infected       903\n",
    "nombre_sain          2320\n",
    "nombre_exposed        498\n",
    "nombre_recovered    16279\n",
    "Name: 461, dtype: int64"
   ]
  },
  {
   "cell_type": "markdown",
   "id": "15dcba8a",
   "metadata": {},
   "source": [
    "nombre_infected       898\n",
    "nombre_sain          2347\n",
    "nombre_exposed        509\n",
    "nombre_recovered    16246\n",
    "Name: 462, dtype: int64"
   ]
  },
  {
   "cell_type": "markdown",
   "id": "e03ac2b5",
   "metadata": {},
   "source": [
    "nombre_infected       904\n",
    "nombre_sain          2363\n",
    "nombre_exposed        518\n",
    "nombre_recovered    16215\n",
    "Name: 463, dtype: int64"
   ]
  },
  {
   "cell_type": "markdown",
   "id": "216e8934",
   "metadata": {},
   "source": [
    "nombre_infected       908\n",
    "nombre_sain          2360\n",
    "nombre_exposed        521\n",
    "nombre_recovered    16211\n",
    "Name: 464, dtype: int64"
   ]
  },
  {
   "cell_type": "markdown",
   "id": "e1bc4cf2",
   "metadata": {},
   "source": [
    "nombre_infected       881\n",
    "nombre_sain          2378\n",
    "nombre_exposed        546\n",
    "nombre_recovered    16195\n",
    "Name: 465, dtype: int64"
   ]
  },
  {
   "cell_type": "markdown",
   "id": "9895997e",
   "metadata": {},
   "source": [
    "nombre_infected       890\n",
    "nombre_sain          2408\n",
    "nombre_exposed        510\n",
    "nombre_recovered    16192\n",
    "Name: 466, dtype: int64"
   ]
  },
  {
   "cell_type": "markdown",
   "id": "cedfafed",
   "metadata": {},
   "source": [
    "nombre_infected       920\n",
    "nombre_sain          2402\n",
    "nombre_exposed        520\n",
    "nombre_recovered    16158\n",
    "Name: 467, dtype: int64"
   ]
  },
  {
   "cell_type": "markdown",
   "id": "84232eb5",
   "metadata": {},
   "source": [
    "nombre_infected       931\n",
    "nombre_sain          2382\n",
    "nombre_exposed        524\n",
    "nombre_recovered    16163\n",
    "Name: 468, dtype: int64"
   ]
  },
  {
   "cell_type": "markdown",
   "id": "b201ff87",
   "metadata": {},
   "source": [
    "nombre_infected       945\n",
    "nombre_sain          2373\n",
    "nombre_exposed        537\n",
    "nombre_recovered    16145\n",
    "Name: 469, dtype: int64"
   ]
  },
  {
   "cell_type": "markdown",
   "id": "e6af9c0a",
   "metadata": {},
   "source": [
    "nombre_infected       941\n",
    "nombre_sain          2336\n",
    "nombre_exposed        564\n",
    "nombre_recovered    16159\n",
    "Name: 470, dtype: int64"
   ]
  },
  {
   "cell_type": "markdown",
   "id": "c5b0bf44",
   "metadata": {},
   "source": [
    "nombre_infected       969\n",
    "nombre_sain          2320\n",
    "nombre_exposed        563\n",
    "nombre_recovered    16148\n",
    "Name: 471, dtype: int64"
   ]
  },
  {
   "cell_type": "markdown",
   "id": "0fc2a018",
   "metadata": {},
   "source": [
    "nombre_infected       987\n",
    "nombre_sain          2278\n",
    "nombre_exposed        567\n",
    "nombre_recovered    16168\n",
    "Name: 472, dtype: int64"
   ]
  },
  {
   "cell_type": "markdown",
   "id": "381c9833",
   "metadata": {},
   "source": [
    "nombre_infected      1010\n",
    "nombre_sain          2252\n",
    "nombre_exposed        569\n",
    "nombre_recovered    16169\n",
    "Name: 473, dtype: int64"
   ]
  },
  {
   "cell_type": "markdown",
   "id": "a485a918",
   "metadata": {},
   "source": [
    "nombre_infected      1027\n",
    "nombre_sain          2232\n",
    "nombre_exposed        572\n",
    "nombre_recovered    16169\n",
    "Name: 474, dtype: int64"
   ]
  },
  {
   "cell_type": "markdown",
   "id": "0f93b421",
   "metadata": {},
   "source": [
    "nombre_infected      1027\n",
    "nombre_sain          2231\n",
    "nombre_exposed        566\n",
    "nombre_recovered    16176\n",
    "Name: 475, dtype: int64"
   ]
  },
  {
   "cell_type": "markdown",
   "id": "d9e2a986",
   "metadata": {},
   "source": [
    "nombre_infected      1052\n",
    "nombre_sain          2234\n",
    "nombre_exposed        571\n",
    "nombre_recovered    16143\n",
    "Name: 476, dtype: int64"
   ]
  },
  {
   "cell_type": "markdown",
   "id": "7359bf1d",
   "metadata": {},
   "source": [
    "nombre_infected      1058\n",
    "nombre_sain          2247\n",
    "nombre_exposed        560\n",
    "nombre_recovered    16135\n",
    "Name: 477, dtype: int64"
   ]
  },
  {
   "cell_type": "markdown",
   "id": "5beb45d9",
   "metadata": {},
   "source": [
    "nombre_infected      1088\n",
    "nombre_sain          2239\n",
    "nombre_exposed        550\n",
    "nombre_recovered    16123\n",
    "Name: 478, dtype: int64"
   ]
  },
  {
   "cell_type": "markdown",
   "id": "387d126b",
   "metadata": {},
   "source": [
    "nombre_infected      1096\n",
    "nombre_sain          2204\n",
    "nombre_exposed        565\n",
    "nombre_recovered    16135\n",
    "Name: 479, dtype: int64"
   ]
  },
  {
   "cell_type": "markdown",
   "id": "b6d6689c",
   "metadata": {},
   "source": [
    "nombre_infected      1103\n",
    "nombre_sain          2157\n",
    "nombre_exposed        584\n",
    "nombre_recovered    16156\n",
    "Name: 480, dtype: int64"
   ]
  },
  {
   "cell_type": "markdown",
   "id": "162363b6",
   "metadata": {},
   "source": [
    "nombre_infected      1084\n",
    "nombre_sain          2120\n",
    "nombre_exposed        619\n",
    "nombre_recovered    16177\n",
    "Name: 481, dtype: int64"
   ]
  },
  {
   "cell_type": "markdown",
   "id": "e5b995b2",
   "metadata": {},
   "source": [
    "nombre_infected      1134\n",
    "nombre_sain          2082\n",
    "nombre_exposed        594\n",
    "nombre_recovered    16190\n",
    "Name: 482, dtype: int64"
   ]
  },
  {
   "cell_type": "markdown",
   "id": "aa022cfd",
   "metadata": {},
   "source": [
    "nombre_infected      1181\n",
    "nombre_sain          2089\n",
    "nombre_exposed        563\n",
    "nombre_recovered    16167\n",
    "Name: 483, dtype: int64"
   ]
  },
  {
   "cell_type": "markdown",
   "id": "19464e27",
   "metadata": {},
   "source": [
    "nombre_infected      1190\n",
    "nombre_sain          2078\n",
    "nombre_exposed        552\n",
    "nombre_recovered    16180\n",
    "Name: 484, dtype: int64"
   ]
  },
  {
   "cell_type": "markdown",
   "id": "e6d35c46",
   "metadata": {},
   "source": [
    "nombre_infected      1197\n",
    "nombre_sain          2059\n",
    "nombre_exposed        576\n",
    "nombre_recovered    16168\n",
    "Name: 485, dtype: int64"
   ]
  },
  {
   "cell_type": "markdown",
   "id": "94b1dfe6",
   "metadata": {},
   "source": [
    "nombre_infected      1221\n",
    "nombre_sain          2030\n",
    "nombre_exposed        580\n",
    "nombre_recovered    16169\n",
    "Name: 486, dtype: int64"
   ]
  },
  {
   "cell_type": "markdown",
   "id": "283f6287",
   "metadata": {},
   "source": [
    "nombre_infected      1229\n",
    "nombre_sain          2037\n",
    "nombre_exposed        576\n",
    "nombre_recovered    16158\n",
    "Name: 487, dtype: int64"
   ]
  },
  {
   "cell_type": "markdown",
   "id": "8e4e8a1a",
   "metadata": {},
   "source": [
    "nombre_infected      1260\n",
    "nombre_sain          2017\n",
    "nombre_exposed        580\n",
    "nombre_recovered    16143\n",
    "Name: 488, dtype: int64"
   ]
  },
  {
   "cell_type": "markdown",
   "id": "ef527dd5",
   "metadata": {},
   "source": [
    "nombre_infected      1272\n",
    "nombre_sain          1994\n",
    "nombre_exposed        600\n",
    "nombre_recovered    16134\n",
    "Name: 489, dtype: int64"
   ]
  },
  {
   "cell_type": "markdown",
   "id": "965eb686",
   "metadata": {},
   "source": [
    "nombre_infected      1280\n",
    "nombre_sain          1960\n",
    "nombre_exposed        603\n",
    "nombre_recovered    16157\n",
    "Name: 490, dtype: int64"
   ]
  },
  {
   "cell_type": "markdown",
   "id": "e311ddfb",
   "metadata": {},
   "source": [
    "nombre_infected      1280\n",
    "nombre_sain          1938\n",
    "nombre_exposed        584\n",
    "nombre_recovered    16198\n",
    "Name: 491, dtype: int64"
   ]
  },
  {
   "cell_type": "markdown",
   "id": "ecb684eb",
   "metadata": {},
   "source": [
    "nombre_infected      1312\n",
    "nombre_sain          1924\n",
    "nombre_exposed        573\n",
    "nombre_recovered    16191\n",
    "Name: 492, dtype: int64"
   ]
  },
  {
   "cell_type": "markdown",
   "id": "aa987587",
   "metadata": {},
   "source": [
    "nombre_infected      1296\n",
    "nombre_sain          1895\n",
    "nombre_exposed        599\n",
    "nombre_recovered    16210\n",
    "Name: 493, dtype: int64"
   ]
  },
  {
   "cell_type": "markdown",
   "id": "0b9726ea",
   "metadata": {},
   "source": [
    "nombre_infected      1310\n",
    "nombre_sain          1858\n",
    "nombre_exposed        598\n",
    "nombre_recovered    16234\n",
    "Name: 494, dtype: int64"
   ]
  },
  {
   "cell_type": "markdown",
   "id": "c211566b",
   "metadata": {},
   "source": [
    "nombre_infected      1317\n",
    "nombre_sain          1853\n",
    "nombre_exposed        586\n",
    "nombre_recovered    16244\n",
    "Name: 495, dtype: int64"
   ]
  },
  {
   "cell_type": "markdown",
   "id": "b4134462",
   "metadata": {},
   "source": [
    "nombre_infected      1339\n",
    "nombre_sain          1840\n",
    "nombre_exposed        539\n",
    "nombre_recovered    16282\n",
    "Name: 496, dtype: int64"
   ]
  },
  {
   "cell_type": "markdown",
   "id": "d934d81b",
   "metadata": {},
   "source": [
    "nombre_infected      1328\n",
    "nombre_sain          1797\n",
    "nombre_exposed        548\n",
    "nombre_recovered    16327\n",
    "Name: 497, dtype: int64"
   ]
  },
  {
   "cell_type": "markdown",
   "id": "76b00f48",
   "metadata": {},
   "source": [
    "nombre_infected      1323\n",
    "nombre_sain          1757\n",
    "nombre_exposed        548\n",
    "nombre_recovered    16372\n",
    "Name: 498, dtype: int64"
   ]
  },
  {
   "cell_type": "markdown",
   "id": "66b759ef",
   "metadata": {},
   "source": [
    "nombre_infected      1331\n",
    "nombre_sain          1735\n",
    "nombre_exposed        520\n",
    "nombre_recovered    16414\n",
    "Name: 499, dtype: int64"
   ]
  },
  {
   "cell_type": "markdown",
   "id": "6474a6e0",
   "metadata": {},
   "source": [
    "nombre_infected      1303\n",
    "nombre_sain          1706\n",
    "nombre_exposed        524\n",
    "nombre_recovered    16467\n",
    "Name: 500, dtype: int64"
   ]
  },
  {
   "cell_type": "markdown",
   "id": "59aee3b0",
   "metadata": {},
   "source": [
    "nombre_infected      1294\n",
    "nombre_sain          1683\n",
    "nombre_exposed        507\n",
    "nombre_recovered    16516\n",
    "Name: 501, dtype: int64"
   ]
  },
  {
   "cell_type": "markdown",
   "id": "3fdc6b06",
   "metadata": {},
   "source": [
    "nombre_infected      1289\n",
    "nombre_sain          1641\n",
    "nombre_exposed        513\n",
    "nombre_recovered    16557\n",
    "Name: 502, dtype: int64"
   ]
  },
  {
   "cell_type": "markdown",
   "id": "7211f423",
   "metadata": {},
   "source": [
    "nombre_infected      1295\n",
    "nombre_sain          1625\n",
    "nombre_exposed        508\n",
    "nombre_recovered    16572\n",
    "Name: 503, dtype: int64"
   ]
  },
  {
   "cell_type": "markdown",
   "id": "2a41da3c",
   "metadata": {},
   "source": [
    "nombre_infected      1258\n",
    "nombre_sain          1617\n",
    "nombre_exposed        505\n",
    "nombre_recovered    16620\n",
    "Name: 504, dtype: int64"
   ]
  },
  {
   "cell_type": "markdown",
   "id": "6d6ebee6",
   "metadata": {},
   "source": [
    "nombre_infected      1231\n",
    "nombre_sain          1622\n",
    "nombre_exposed        481\n",
    "nombre_recovered    16666\n",
    "Name: 505, dtype: int64"
   ]
  },
  {
   "cell_type": "markdown",
   "id": "462e2546",
   "metadata": {},
   "source": [
    "nombre_infected      1217\n",
    "nombre_sain          1593\n",
    "nombre_exposed        483\n",
    "nombre_recovered    16707\n",
    "Name: 506, dtype: int64"
   ]
  },
  {
   "cell_type": "markdown",
   "id": "a38dd0d5",
   "metadata": {},
   "source": [
    "nombre_infected      1197\n",
    "nombre_sain          1570\n",
    "nombre_exposed        455\n",
    "nombre_recovered    16778\n",
    "Name: 507, dtype: int64"
   ]
  },
  {
   "cell_type": "markdown",
   "id": "476a67ec",
   "metadata": {},
   "source": [
    "nombre_infected      1162\n",
    "nombre_sain          1560\n",
    "nombre_exposed        476\n",
    "nombre_recovered    16802\n",
    "Name: 508, dtype: int64"
   ]
  },
  {
   "cell_type": "markdown",
   "id": "a9a71309",
   "metadata": {},
   "source": [
    "nombre_infected      1162\n",
    "nombre_sain          1556\n",
    "nombre_exposed        458\n",
    "nombre_recovered    16824\n",
    "Name: 509, dtype: int64"
   ]
  },
  {
   "cell_type": "markdown",
   "id": "081ec42a",
   "metadata": {},
   "source": [
    "nombre_infected      1109\n",
    "nombre_sain          1546\n",
    "nombre_exposed        476\n",
    "nombre_recovered    16869\n",
    "Name: 510, dtype: int64"
   ]
  },
  {
   "cell_type": "markdown",
   "id": "17616e02",
   "metadata": {},
   "source": [
    "nombre_infected      1074\n",
    "nombre_sain          1544\n",
    "nombre_exposed        456\n",
    "nombre_recovered    16926\n",
    "Name: 511, dtype: int64"
   ]
  },
  {
   "cell_type": "markdown",
   "id": "e35981ca",
   "metadata": {},
   "source": [
    "nombre_infected      1059\n",
    "nombre_sain          1546\n",
    "nombre_exposed        443\n",
    "nombre_recovered    16952\n",
    "Name: 512, dtype: int64"
   ]
  },
  {
   "cell_type": "markdown",
   "id": "6d266391",
   "metadata": {},
   "source": [
    "nombre_infected      1036\n",
    "nombre_sain          1552\n",
    "nombre_exposed        431\n",
    "nombre_recovered    16981\n",
    "Name: 513, dtype: int64"
   ]
  },
  {
   "cell_type": "markdown",
   "id": "797b5a8d",
   "metadata": {},
   "source": [
    "nombre_infected      1028\n",
    "nombre_sain          1553\n",
    "nombre_exposed        436\n",
    "nombre_recovered    16983\n",
    "Name: 514, dtype: int64"
   ]
  },
  {
   "cell_type": "markdown",
   "id": "16e86ea1",
   "metadata": {},
   "source": [
    "nombre_infected      1026\n",
    "nombre_sain          1556\n",
    "nombre_exposed        412\n",
    "nombre_recovered    17006\n",
    "Name: 515, dtype: int64"
   ]
  },
  {
   "cell_type": "markdown",
   "id": "9bbaa1a5",
   "metadata": {},
   "source": [
    "nombre_infected       981\n",
    "nombre_sain          1542\n",
    "nombre_exposed        412\n",
    "nombre_recovered    17065\n",
    "Name: 516, dtype: int64"
   ]
  },
  {
   "cell_type": "markdown",
   "id": "5d5e7f22",
   "metadata": {},
   "source": [
    "nombre_infected       963\n",
    "nombre_sain          1536\n",
    "nombre_exposed        406\n",
    "nombre_recovered    17095\n",
    "Name: 517, dtype: int64"
   ]
  },
  {
   "cell_type": "markdown",
   "id": "8865f8f9",
   "metadata": {},
   "source": [
    "nombre_infected       934\n",
    "nombre_sain          1581\n",
    "nombre_exposed        386\n",
    "nombre_recovered    17099\n",
    "Name: 518, dtype: int64"
   ]
  },
  {
   "cell_type": "markdown",
   "id": "63150d3b",
   "metadata": {},
   "source": [
    "nombre_infected       887\n",
    "nombre_sain          1623\n",
    "nombre_exposed        359\n",
    "nombre_recovered    17131\n",
    "Name: 519, dtype: int64"
   ]
  },
  {
   "cell_type": "markdown",
   "id": "5bfb72d4",
   "metadata": {},
   "source": [
    "nombre_infected       885\n",
    "nombre_sain          1639\n",
    "nombre_exposed        360\n",
    "nombre_recovered    17116\n",
    "Name: 520, dtype: int64"
   ]
  },
  {
   "cell_type": "markdown",
   "id": "c4913ff1",
   "metadata": {},
   "source": [
    "nombre_infected       865\n",
    "nombre_sain          1662\n",
    "nombre_exposed        355\n",
    "nombre_recovered    17118\n",
    "Name: 521, dtype: int64"
   ]
  },
  {
   "cell_type": "markdown",
   "id": "48be0aac",
   "metadata": {},
   "source": [
    "nombre_infected       853\n",
    "nombre_sain          1704\n",
    "nombre_exposed        344\n",
    "nombre_recovered    17099\n",
    "Name: 522, dtype: int64"
   ]
  },
  {
   "cell_type": "markdown",
   "id": "b0905b5d",
   "metadata": {},
   "source": [
    "nombre_infected       827\n",
    "nombre_sain          1734\n",
    "nombre_exposed        343\n",
    "nombre_recovered    17096\n",
    "Name: 523, dtype: int64"
   ]
  },
  {
   "cell_type": "markdown",
   "id": "74aca992",
   "metadata": {},
   "source": [
    "nombre_infected       791\n",
    "nombre_sain          1757\n",
    "nombre_exposed        348\n",
    "nombre_recovered    17104\n",
    "Name: 524, dtype: int64"
   ]
  },
  {
   "cell_type": "markdown",
   "id": "abcabc4f",
   "metadata": {},
   "source": [
    "nombre_infected       775\n",
    "nombre_sain          1780\n",
    "nombre_exposed        346\n",
    "nombre_recovered    17099\n",
    "Name: 525, dtype: int64"
   ]
  },
  {
   "cell_type": "markdown",
   "id": "4f500a08",
   "metadata": {},
   "source": [
    "nombre_infected       762\n",
    "nombre_sain          1796\n",
    "nombre_exposed        350\n",
    "nombre_recovered    17092\n",
    "Name: 526, dtype: int64"
   ]
  },
  {
   "cell_type": "markdown",
   "id": "ae25ab08",
   "metadata": {},
   "source": [
    "nombre_infected       734\n",
    "nombre_sain          1814\n",
    "nombre_exposed        359\n",
    "nombre_recovered    17093\n",
    "Name: 527, dtype: int64"
   ]
  },
  {
   "cell_type": "markdown",
   "id": "3968c2b4",
   "metadata": {},
   "source": [
    "nombre_infected       740\n",
    "nombre_sain          1845\n",
    "nombre_exposed        356\n",
    "nombre_recovered    17059\n",
    "Name: 528, dtype: int64"
   ]
  },
  {
   "cell_type": "markdown",
   "id": "33c7f376",
   "metadata": {},
   "source": [
    "nombre_infected       730\n",
    "nombre_sain          1868\n",
    "nombre_exposed        349\n",
    "nombre_recovered    17053\n",
    "Name: 529, dtype: int64"
   ]
  },
  {
   "cell_type": "markdown",
   "id": "06e503d4",
   "metadata": {},
   "source": [
    "nombre_infected       744\n",
    "nombre_sain          1890\n",
    "nombre_exposed        342\n",
    "nombre_recovered    17024\n",
    "Name: 530, dtype: int64"
   ]
  },
  {
   "cell_type": "markdown",
   "id": "223e2e3f",
   "metadata": {},
   "source": [
    "nombre_infected       731\n",
    "nombre_sain          1899\n",
    "nombre_exposed        350\n",
    "nombre_recovered    17020\n",
    "Name: 531, dtype: int64"
   ]
  },
  {
   "cell_type": "markdown",
   "id": "341918b2",
   "metadata": {},
   "source": [
    "nombre_infected       737\n",
    "nombre_sain          1923\n",
    "nombre_exposed        342\n",
    "nombre_recovered    16998\n",
    "Name: 532, dtype: int64"
   ]
  },
  {
   "cell_type": "markdown",
   "id": "75231529",
   "metadata": {},
   "source": [
    "nombre_infected       735\n",
    "nombre_sain          1926\n",
    "nombre_exposed        334\n",
    "nombre_recovered    17005\n",
    "Name: 533, dtype: int64"
   ]
  },
  {
   "cell_type": "markdown",
   "id": "e0a8063e",
   "metadata": {},
   "source": [
    "nombre_infected       735\n",
    "nombre_sain          1971\n",
    "nombre_exposed        337\n",
    "nombre_recovered    16957\n",
    "Name: 534, dtype: int64"
   ]
  },
  {
   "cell_type": "markdown",
   "id": "ccbb2db8",
   "metadata": {},
   "source": [
    "nombre_infected       723\n",
    "nombre_sain          1999\n",
    "nombre_exposed        342\n",
    "nombre_recovered    16936\n",
    "Name: 535, dtype: int64"
   ]
  },
  {
   "cell_type": "markdown",
   "id": "54370334",
   "metadata": {},
   "source": [
    "nombre_infected       728\n",
    "nombre_sain          2014\n",
    "nombre_exposed        337\n",
    "nombre_recovered    16921\n",
    "Name: 536, dtype: int64"
   ]
  },
  {
   "cell_type": "markdown",
   "id": "874047a7",
   "metadata": {},
   "source": [
    "nombre_infected       689\n",
    "nombre_sain          2062\n",
    "nombre_exposed        366\n",
    "nombre_recovered    16883\n",
    "Name: 537, dtype: int64"
   ]
  },
  {
   "cell_type": "markdown",
   "id": "42f05d09",
   "metadata": {},
   "source": [
    "nombre_infected       688\n",
    "nombre_sain          2106\n",
    "nombre_exposed        348\n",
    "nombre_recovered    16858\n",
    "Name: 538, dtype: int64"
   ]
  },
  {
   "cell_type": "markdown",
   "id": "e4d903f8",
   "metadata": {},
   "source": [
    "nombre_infected       685\n",
    "nombre_sain          2107\n",
    "nombre_exposed        376\n",
    "nombre_recovered    16832\n",
    "Name: 539, dtype: int64"
   ]
  },
  {
   "cell_type": "markdown",
   "id": "dc218f1e",
   "metadata": {},
   "source": [
    "nombre_infected       691\n",
    "nombre_sain          2154\n",
    "nombre_exposed        375\n",
    "nombre_recovered    16780\n",
    "Name: 540, dtype: int64"
   ]
  },
  {
   "cell_type": "markdown",
   "id": "4ef8a254",
   "metadata": {},
   "source": [
    "nombre_infected       680\n",
    "nombre_sain          2182\n",
    "nombre_exposed        376\n",
    "nombre_recovered    16762\n",
    "Name: 541, dtype: int64"
   ]
  },
  {
   "cell_type": "markdown",
   "id": "198dec0f",
   "metadata": {},
   "source": [
    "nombre_infected       664\n",
    "nombre_sain          2229\n",
    "nombre_exposed        354\n",
    "nombre_recovered    16753\n",
    "Name: 542, dtype: int64"
   ]
  },
  {
   "cell_type": "markdown",
   "id": "9f5d30ea",
   "metadata": {},
   "source": [
    "nombre_infected       656\n",
    "nombre_sain          2233\n",
    "nombre_exposed        365\n",
    "nombre_recovered    16746\n",
    "Name: 543, dtype: int64"
   ]
  },
  {
   "cell_type": "markdown",
   "id": "91c86d29",
   "metadata": {},
   "source": [
    "nombre_infected       652\n",
    "nombre_sain          2237\n",
    "nombre_exposed        376\n",
    "nombre_recovered    16735\n",
    "Name: 544, dtype: int64"
   ]
  },
  {
   "cell_type": "markdown",
   "id": "023a255b",
   "metadata": {},
   "source": [
    "nombre_infected       642\n",
    "nombre_sain          2271\n",
    "nombre_exposed        379\n",
    "nombre_recovered    16708\n",
    "Name: 545, dtype: int64"
   ]
  },
  {
   "cell_type": "markdown",
   "id": "67f621c4",
   "metadata": {},
   "source": [
    "nombre_infected       647\n",
    "nombre_sain          2311\n",
    "nombre_exposed        383\n",
    "nombre_recovered    16659\n",
    "Name: 546, dtype: int64"
   ]
  },
  {
   "cell_type": "markdown",
   "id": "04534936",
   "metadata": {},
   "source": [
    "nombre_infected       641\n",
    "nombre_sain          2343\n",
    "nombre_exposed        380\n",
    "nombre_recovered    16636\n",
    "Name: 547, dtype: int64"
   ]
  },
  {
   "cell_type": "markdown",
   "id": "a9a29f3b",
   "metadata": {},
   "source": [
    "nombre_infected       652\n",
    "nombre_sain          2374\n",
    "nombre_exposed        368\n",
    "nombre_recovered    16606\n",
    "Name: 548, dtype: int64"
   ]
  },
  {
   "cell_type": "markdown",
   "id": "fcba8e07",
   "metadata": {},
   "source": [
    "nombre_infected       651\n",
    "nombre_sain          2378\n",
    "nombre_exposed        374\n",
    "nombre_recovered    16597\n",
    "Name: 549, dtype: int64"
   ]
  },
  {
   "cell_type": "markdown",
   "id": "071cc24e",
   "metadata": {},
   "source": [
    "nombre_infected       663\n",
    "nombre_sain          2373\n",
    "nombre_exposed        387\n",
    "nombre_recovered    16577\n",
    "Name: 550, dtype: int64"
   ]
  },
  {
   "cell_type": "markdown",
   "id": "d5fdd8e7",
   "metadata": {},
   "source": [
    "nombre_infected       671\n",
    "nombre_sain          2397\n",
    "nombre_exposed        407\n",
    "nombre_recovered    16525\n",
    "Name: 551, dtype: int64"
   ]
  },
  {
   "cell_type": "markdown",
   "id": "ce6de160",
   "metadata": {},
   "source": [
    "nombre_infected       678\n",
    "nombre_sain          2390\n",
    "nombre_exposed        415\n",
    "nombre_recovered    16517\n",
    "Name: 552, dtype: int64"
   ]
  },
  {
   "cell_type": "markdown",
   "id": "90d93f90",
   "metadata": {},
   "source": [
    "nombre_infected       670\n",
    "nombre_sain          2380\n",
    "nombre_exposed        425\n",
    "nombre_recovered    16525\n",
    "Name: 553, dtype: int64"
   ]
  },
  {
   "cell_type": "markdown",
   "id": "1f0bba61",
   "metadata": {},
   "source": [
    "nombre_infected       656\n",
    "nombre_sain          2387\n",
    "nombre_exposed        435\n",
    "nombre_recovered    16522\n",
    "Name: 554, dtype: int64"
   ]
  },
  {
   "cell_type": "markdown",
   "id": "f4d68e5c",
   "metadata": {},
   "source": [
    "nombre_infected       662\n",
    "nombre_sain          2372\n",
    "nombre_exposed        445\n",
    "nombre_recovered    16521\n",
    "Name: 555, dtype: int64"
   ]
  },
  {
   "cell_type": "markdown",
   "id": "c98f644d",
   "metadata": {},
   "source": [
    "nombre_infected       660\n",
    "nombre_sain          2393\n",
    "nombre_exposed        436\n",
    "nombre_recovered    16511\n",
    "Name: 556, dtype: int64"
   ]
  },
  {
   "cell_type": "markdown",
   "id": "d2bb8e83",
   "metadata": {},
   "source": [
    "nombre_infected       679\n",
    "nombre_sain          2407\n",
    "nombre_exposed        436\n",
    "nombre_recovered    16478\n",
    "Name: 557, dtype: int64"
   ]
  },
  {
   "cell_type": "markdown",
   "id": "1f21a361",
   "metadata": {},
   "source": [
    "nombre_infected       685\n",
    "nombre_sain          2403\n",
    "nombre_exposed        446\n",
    "nombre_recovered    16466\n",
    "Name: 558, dtype: int64"
   ]
  },
  {
   "cell_type": "markdown",
   "id": "67c0dce5",
   "metadata": {},
   "source": [
    "nombre_infected       703\n",
    "nombre_sain          2419\n",
    "nombre_exposed        439\n",
    "nombre_recovered    16439\n",
    "Name: 559, dtype: int64"
   ]
  },
  {
   "cell_type": "markdown",
   "id": "22676795",
   "metadata": {},
   "source": [
    "nombre_infected       716\n",
    "nombre_sain          2445\n",
    "nombre_exposed        410\n",
    "nombre_recovered    16429\n",
    "Name: 560, dtype: int64"
   ]
  },
  {
   "cell_type": "markdown",
   "id": "db99545b",
   "metadata": {},
   "source": [
    "nombre_infected       738\n",
    "nombre_sain          2465\n",
    "nombre_exposed        395\n",
    "nombre_recovered    16402\n",
    "Name: 561, dtype: int64"
   ]
  },
  {
   "cell_type": "markdown",
   "id": "f0df85ae",
   "metadata": {},
   "source": [
    "nombre_infected       733\n",
    "nombre_sain          2435\n",
    "nombre_exposed        433\n",
    "nombre_recovered    16399\n",
    "Name: 562, dtype: int64"
   ]
  },
  {
   "cell_type": "markdown",
   "id": "d63d798f",
   "metadata": {},
   "source": [
    "nombre_infected       714\n",
    "nombre_sain          2437\n",
    "nombre_exposed        440\n",
    "nombre_recovered    16409\n",
    "Name: 563, dtype: int64"
   ]
  },
  {
   "cell_type": "markdown",
   "id": "ecd61156",
   "metadata": {},
   "source": [
    "nombre_infected       698\n",
    "nombre_sain          2454\n",
    "nombre_exposed        453\n",
    "nombre_recovered    16395\n",
    "Name: 564, dtype: int64"
   ]
  },
  {
   "cell_type": "markdown",
   "id": "58001d0e",
   "metadata": {},
   "source": [
    "nombre_infected       701\n",
    "nombre_sain          2449\n",
    "nombre_exposed        461\n",
    "nombre_recovered    16389\n",
    "Name: 565, dtype: int64"
   ]
  },
  {
   "cell_type": "markdown",
   "id": "6fdb26fc",
   "metadata": {},
   "source": [
    "nombre_infected       694\n",
    "nombre_sain          2445\n",
    "nombre_exposed        464\n",
    "nombre_recovered    16397\n",
    "Name: 566, dtype: int64"
   ]
  },
  {
   "cell_type": "markdown",
   "id": "106f63eb",
   "metadata": {},
   "source": [
    "nombre_infected       740\n",
    "nombre_sain          2449\n",
    "nombre_exposed        460\n",
    "nombre_recovered    16351\n",
    "Name: 567, dtype: int64"
   ]
  },
  {
   "cell_type": "markdown",
   "id": "22f17195",
   "metadata": {},
   "source": [
    "nombre_infected       754\n",
    "nombre_sain          2450\n",
    "nombre_exposed        473\n",
    "nombre_recovered    16323\n",
    "Name: 568, dtype: int64"
   ]
  },
  {
   "cell_type": "markdown",
   "id": "60785ebf",
   "metadata": {},
   "source": [
    "nombre_infected       759\n",
    "nombre_sain          2452\n",
    "nombre_exposed        480\n",
    "nombre_recovered    16309\n",
    "Name: 569, dtype: int64"
   ]
  },
  {
   "cell_type": "markdown",
   "id": "ae51941f",
   "metadata": {},
   "source": [
    "nombre_infected       767\n",
    "nombre_sain          2454\n",
    "nombre_exposed        479\n",
    "nombre_recovered    16300\n",
    "Name: 570, dtype: int64"
   ]
  },
  {
   "cell_type": "markdown",
   "id": "b5b5d830",
   "metadata": {},
   "source": [
    "nombre_infected       756\n",
    "nombre_sain          2460\n",
    "nombre_exposed        482\n",
    "nombre_recovered    16302\n",
    "Name: 571, dtype: int64"
   ]
  },
  {
   "cell_type": "markdown",
   "id": "e94a745a",
   "metadata": {},
   "source": [
    "nombre_infected       775\n",
    "nombre_sain          2440\n",
    "nombre_exposed        482\n",
    "nombre_recovered    16303\n",
    "Name: 572, dtype: int64"
   ]
  },
  {
   "cell_type": "markdown",
   "id": "dc3d8821",
   "metadata": {},
   "source": [
    "nombre_infected       782\n",
    "nombre_sain          2440\n",
    "nombre_exposed        485\n",
    "nombre_recovered    16293\n",
    "Name: 573, dtype: int64"
   ]
  },
  {
   "cell_type": "markdown",
   "id": "9431cdfa",
   "metadata": {},
   "source": [
    "nombre_infected       781\n",
    "nombre_sain          2410\n",
    "nombre_exposed        529\n",
    "nombre_recovered    16280\n",
    "Name: 574, dtype: int64"
   ]
  },
  {
   "cell_type": "markdown",
   "id": "42729893",
   "metadata": {},
   "source": [
    "nombre_infected       781\n",
    "nombre_sain          2380\n",
    "nombre_exposed        552\n",
    "nombre_recovered    16287\n",
    "Name: 575, dtype: int64"
   ]
  },
  {
   "cell_type": "markdown",
   "id": "90408429",
   "metadata": {},
   "source": [
    "nombre_infected       793\n",
    "nombre_sain          2388\n",
    "nombre_exposed        537\n",
    "nombre_recovered    16282\n",
    "Name: 576, dtype: int64"
   ]
  },
  {
   "cell_type": "markdown",
   "id": "762dc69a",
   "metadata": {},
   "source": [
    "nombre_infected       795\n",
    "nombre_sain          2404\n",
    "nombre_exposed        551\n",
    "nombre_recovered    16250\n",
    "Name: 577, dtype: int64"
   ]
  },
  {
   "cell_type": "markdown",
   "id": "443e4aa0",
   "metadata": {},
   "source": [
    "nombre_infected       820\n",
    "nombre_sain          2411\n",
    "nombre_exposed        533\n",
    "nombre_recovered    16236\n",
    "Name: 578, dtype: int64"
   ]
  },
  {
   "cell_type": "markdown",
   "id": "89553283",
   "metadata": {},
   "source": [
    "nombre_infected       849\n",
    "nombre_sain          2375\n",
    "nombre_exposed        532\n",
    "nombre_recovered    16244\n",
    "Name: 579, dtype: int64"
   ]
  },
  {
   "cell_type": "markdown",
   "id": "69850b3a",
   "metadata": {},
   "source": [
    "nombre_infected       845\n",
    "nombre_sain          2357\n",
    "nombre_exposed        555\n",
    "nombre_recovered    16243\n",
    "Name: 580, dtype: int64"
   ]
  },
  {
   "cell_type": "markdown",
   "id": "47b74173",
   "metadata": {},
   "source": [
    "nombre_infected       840\n",
    "nombre_sain          2349\n",
    "nombre_exposed        550\n",
    "nombre_recovered    16261\n",
    "Name: 581, dtype: int64"
   ]
  },
  {
   "cell_type": "markdown",
   "id": "bd637af3",
   "metadata": {},
   "source": [
    "nombre_infected       843\n",
    "nombre_sain          2341\n",
    "nombre_exposed        537\n",
    "nombre_recovered    16279\n",
    "Name: 582, dtype: int64"
   ]
  },
  {
   "cell_type": "markdown",
   "id": "35993bf8",
   "metadata": {},
   "source": [
    "nombre_infected       873\n",
    "nombre_sain          2317\n",
    "nombre_exposed        542\n",
    "nombre_recovered    16268\n",
    "Name: 583, dtype: int64"
   ]
  },
  {
   "cell_type": "markdown",
   "id": "f715b627",
   "metadata": {},
   "source": [
    "nombre_infected       871\n",
    "nombre_sain          2309\n",
    "nombre_exposed        560\n",
    "nombre_recovered    16260\n",
    "Name: 584, dtype: int64"
   ]
  },
  {
   "cell_type": "markdown",
   "id": "e8ca5220",
   "metadata": {},
   "source": [
    "nombre_infected       886\n",
    "nombre_sain          2326\n",
    "nombre_exposed        544\n",
    "nombre_recovered    16244\n",
    "Name: 585, dtype: int64"
   ]
  },
  {
   "cell_type": "markdown",
   "id": "5a2a6896",
   "metadata": {},
   "source": [
    "nombre_infected       876\n",
    "nombre_sain          2346\n",
    "nombre_exposed        525\n",
    "nombre_recovered    16253\n",
    "Name: 586, dtype: int64"
   ]
  },
  {
   "cell_type": "markdown",
   "id": "ce85e2cd",
   "metadata": {},
   "source": [
    "nombre_infected       900\n",
    "nombre_sain          2337\n",
    "nombre_exposed        516\n",
    "nombre_recovered    16247\n",
    "Name: 587, dtype: int64"
   ]
  },
  {
   "cell_type": "markdown",
   "id": "75e2f6ad",
   "metadata": {},
   "source": [
    "nombre_infected       877\n",
    "nombre_sain          2327\n",
    "nombre_exposed        522\n",
    "nombre_recovered    16274\n",
    "Name: 588, dtype: int64"
   ]
  },
  {
   "cell_type": "markdown",
   "id": "2b5c00a0",
   "metadata": {},
   "source": [
    "nombre_infected       859\n",
    "nombre_sain          2294\n",
    "nombre_exposed        535\n",
    "nombre_recovered    16312\n",
    "Name: 589, dtype: int64"
   ]
  },
  {
   "cell_type": "markdown",
   "id": "42981905",
   "metadata": {},
   "source": [
    "nombre_infected       856\n",
    "nombre_sain          2261\n",
    "nombre_exposed        543\n",
    "nombre_recovered    16340\n",
    "Name: 590, dtype: int64"
   ]
  },
  {
   "cell_type": "markdown",
   "id": "b8fd53fa",
   "metadata": {},
   "source": [
    "nombre_infected       858\n",
    "nombre_sain          2239\n",
    "nombre_exposed        543\n",
    "nombre_recovered    16360\n",
    "Name: 591, dtype: int64"
   ]
  },
  {
   "cell_type": "markdown",
   "id": "72168120",
   "metadata": {},
   "source": [
    "nombre_infected       854\n",
    "nombre_sain          2227\n",
    "nombre_exposed        533\n",
    "nombre_recovered    16386\n",
    "Name: 592, dtype: int64"
   ]
  },
  {
   "cell_type": "markdown",
   "id": "3b151d22",
   "metadata": {},
   "source": [
    "nombre_infected       847\n",
    "nombre_sain          2249\n",
    "nombre_exposed        516\n",
    "nombre_recovered    16388\n",
    "Name: 593, dtype: int64"
   ]
  },
  {
   "cell_type": "markdown",
   "id": "14f06a1d",
   "metadata": {},
   "source": [
    "nombre_infected       828\n",
    "nombre_sain          2248\n",
    "nombre_exposed        508\n",
    "nombre_recovered    16416\n",
    "Name: 594, dtype: int64"
   ]
  },
  {
   "cell_type": "markdown",
   "id": "a8afe380",
   "metadata": {},
   "source": [
    "nombre_infected       823\n",
    "nombre_sain          2254\n",
    "nombre_exposed        499\n",
    "nombre_recovered    16424\n",
    "Name: 595, dtype: int64"
   ]
  },
  {
   "cell_type": "markdown",
   "id": "e77a066f",
   "metadata": {},
   "source": [
    "nombre_infected       827\n",
    "nombre_sain          2247\n",
    "nombre_exposed        491\n",
    "nombre_recovered    16435\n",
    "Name: 596, dtype: int64"
   ]
  },
  {
   "cell_type": "markdown",
   "id": "7f2c5db5",
   "metadata": {},
   "source": [
    "nombre_infected       800\n",
    "nombre_sain          2237\n",
    "nombre_exposed        506\n",
    "nombre_recovered    16457\n",
    "Name: 597, dtype: int64"
   ]
  },
  {
   "cell_type": "markdown",
   "id": "4578a496",
   "metadata": {},
   "source": [
    "nombre_infected       802\n",
    "nombre_sain          2240\n",
    "nombre_exposed        504\n",
    "nombre_recovered    16454\n",
    "Name: 598, dtype: int64"
   ]
  },
  {
   "cell_type": "markdown",
   "id": "7e0cfcaa",
   "metadata": {},
   "source": [
    "nombre_infected       825\n",
    "nombre_sain          2224\n",
    "nombre_exposed        489\n",
    "nombre_recovered    16462\n",
    "Name: 599, dtype: int64"
   ]
  },
  {
   "cell_type": "markdown",
   "id": "0fcb1fe3",
   "metadata": {},
   "source": [
    "nombre_infected       839\n",
    "nombre_sain          2205\n",
    "nombre_exposed        485\n",
    "nombre_recovered    16471\n",
    "Name: 600, dtype: int64"
   ]
  },
  {
   "cell_type": "markdown",
   "id": "338e8664",
   "metadata": {},
   "source": [
    "nombre_infected       841\n",
    "nombre_sain          2192\n",
    "nombre_exposed        494\n",
    "nombre_recovered    16473\n",
    "Name: 601, dtype: int64"
   ]
  },
  {
   "cell_type": "markdown",
   "id": "700176b8",
   "metadata": {},
   "source": [
    "nombre_infected       867\n",
    "nombre_sain          2166\n",
    "nombre_exposed        493\n",
    "nombre_recovered    16474\n",
    "Name: 602, dtype: int64"
   ]
  },
  {
   "cell_type": "markdown",
   "id": "dce6edd3",
   "metadata": {},
   "source": [
    "nombre_infected       861\n",
    "nombre_sain          2175\n",
    "nombre_exposed        483\n",
    "nombre_recovered    16481\n",
    "Name: 603, dtype: int64"
   ]
  },
  {
   "cell_type": "markdown",
   "id": "517f1bfe",
   "metadata": {},
   "source": [
    "nombre_infected       841\n",
    "nombre_sain          2161\n",
    "nombre_exposed        497\n",
    "nombre_recovered    16501\n",
    "Name: 604, dtype: int64"
   ]
  },
  {
   "cell_type": "markdown",
   "id": "5be5a18f",
   "metadata": {},
   "source": [
    "nombre_infected       816\n",
    "nombre_sain          2173\n",
    "nombre_exposed        496\n",
    "nombre_recovered    16515\n",
    "Name: 605, dtype: int64"
   ]
  },
  {
   "cell_type": "markdown",
   "id": "c6cedf2d",
   "metadata": {},
   "source": [
    "nombre_infected       826\n",
    "nombre_sain          2183\n",
    "nombre_exposed        495\n",
    "nombre_recovered    16496\n",
    "Name: 606, dtype: int64"
   ]
  },
  {
   "cell_type": "markdown",
   "id": "b08411af",
   "metadata": {},
   "source": [
    "nombre_infected       836\n",
    "nombre_sain          2189\n",
    "nombre_exposed        481\n",
    "nombre_recovered    16494\n",
    "Name: 607, dtype: int64"
   ]
  },
  {
   "cell_type": "markdown",
   "id": "b3cd6e26",
   "metadata": {},
   "source": [
    "nombre_infected       828\n",
    "nombre_sain          2201\n",
    "nombre_exposed        471\n",
    "nombre_recovered    16500\n",
    "Name: 608, dtype: int64"
   ]
  },
  {
   "cell_type": "markdown",
   "id": "2ac8848d",
   "metadata": {},
   "source": [
    "nombre_infected       817\n",
    "nombre_sain          2193\n",
    "nombre_exposed        484\n",
    "nombre_recovered    16506\n",
    "Name: 609, dtype: int64"
   ]
  },
  {
   "cell_type": "markdown",
   "id": "4c46d282",
   "metadata": {},
   "source": [
    "nombre_infected       805\n",
    "nombre_sain          2216\n",
    "nombre_exposed        464\n",
    "nombre_recovered    16515\n",
    "Name: 610, dtype: int64"
   ]
  },
  {
   "cell_type": "markdown",
   "id": "5fefd497",
   "metadata": {},
   "source": [
    "nombre_infected       793\n",
    "nombre_sain          2208\n",
    "nombre_exposed        468\n",
    "nombre_recovered    16531\n",
    "Name: 611, dtype: int64"
   ]
  },
  {
   "cell_type": "markdown",
   "id": "468caa6e",
   "metadata": {},
   "source": [
    "nombre_infected       787\n",
    "nombre_sain          2223\n",
    "nombre_exposed        465\n",
    "nombre_recovered    16525\n",
    "Name: 612, dtype: int64"
   ]
  },
  {
   "cell_type": "markdown",
   "id": "942053d9",
   "metadata": {},
   "source": [
    "nombre_infected       769\n",
    "nombre_sain          2275\n",
    "nombre_exposed        459\n",
    "nombre_recovered    16497\n",
    "Name: 613, dtype: int64"
   ]
  },
  {
   "cell_type": "markdown",
   "id": "2b999496",
   "metadata": {},
   "source": [
    "nombre_infected       760\n",
    "nombre_sain          2250\n",
    "nombre_exposed        477\n",
    "nombre_recovered    16513\n",
    "Name: 614, dtype: int64"
   ]
  },
  {
   "cell_type": "markdown",
   "id": "eb07c531",
   "metadata": {},
   "source": [
    "nombre_infected       762\n",
    "nombre_sain          2236\n",
    "nombre_exposed        479\n",
    "nombre_recovered    16523\n",
    "Name: 615, dtype: int64"
   ]
  },
  {
   "cell_type": "markdown",
   "id": "698b343a",
   "metadata": {},
   "source": [
    "nombre_infected       762\n",
    "nombre_sain          2219\n",
    "nombre_exposed        490\n",
    "nombre_recovered    16529\n",
    "Name: 616, dtype: int64"
   ]
  },
  {
   "cell_type": "markdown",
   "id": "7fa22edf",
   "metadata": {},
   "source": [
    "nombre_infected       771\n",
    "nombre_sain          2228\n",
    "nombre_exposed        471\n",
    "nombre_recovered    16530\n",
    "Name: 617, dtype: int64"
   ]
  },
  {
   "cell_type": "markdown",
   "id": "0094d4e2",
   "metadata": {},
   "source": [
    "nombre_infected       772\n",
    "nombre_sain          2220\n",
    "nombre_exposed        471\n",
    "nombre_recovered    16537\n",
    "Name: 618, dtype: int64"
   ]
  },
  {
   "cell_type": "markdown",
   "id": "d575a86b",
   "metadata": {},
   "source": [
    "nombre_infected       756\n",
    "nombre_sain          2223\n",
    "nombre_exposed        474\n",
    "nombre_recovered    16547\n",
    "Name: 619, dtype: int64"
   ]
  },
  {
   "cell_type": "markdown",
   "id": "489213e0",
   "metadata": {},
   "source": [
    "nombre_infected       739\n",
    "nombre_sain          2224\n",
    "nombre_exposed        481\n",
    "nombre_recovered    16556\n",
    "Name: 620, dtype: int64"
   ]
  },
  {
   "cell_type": "markdown",
   "id": "05d5f22a",
   "metadata": {},
   "source": [
    "nombre_infected       741\n",
    "nombre_sain          2207\n",
    "nombre_exposed        485\n",
    "nombre_recovered    16567\n",
    "Name: 621, dtype: int64"
   ]
  },
  {
   "cell_type": "markdown",
   "id": "d89fa973",
   "metadata": {},
   "source": [
    "nombre_infected       755\n",
    "nombre_sain          2226\n",
    "nombre_exposed        452\n",
    "nombre_recovered    16567\n",
    "Name: 622, dtype: int64"
   ]
  },
  {
   "cell_type": "markdown",
   "id": "948df5c4",
   "metadata": {},
   "source": [
    "nombre_infected       766\n",
    "nombre_sain          2238\n",
    "nombre_exposed        428\n",
    "nombre_recovered    16568\n",
    "Name: 623, dtype: int64"
   ]
  },
  {
   "cell_type": "markdown",
   "id": "c49a78a7",
   "metadata": {},
   "source": [
    "nombre_infected       770\n",
    "nombre_sain          2267\n",
    "nombre_exposed        419\n",
    "nombre_recovered    16544\n",
    "Name: 624, dtype: int64"
   ]
  },
  {
   "cell_type": "markdown",
   "id": "f5376d4d",
   "metadata": {},
   "source": [
    "nombre_infected       777\n",
    "nombre_sain          2291\n",
    "nombre_exposed        417\n",
    "nombre_recovered    16515\n",
    "Name: 625, dtype: int64"
   ]
  },
  {
   "cell_type": "markdown",
   "id": "5153f60b",
   "metadata": {},
   "source": [
    "nombre_infected       765\n",
    "nombre_sain          2305\n",
    "nombre_exposed        426\n",
    "nombre_recovered    16504\n",
    "Name: 626, dtype: int64"
   ]
  },
  {
   "cell_type": "markdown",
   "id": "b10e9799",
   "metadata": {},
   "source": [
    "nombre_infected       759\n",
    "nombre_sain          2318\n",
    "nombre_exposed        410\n",
    "nombre_recovered    16513\n",
    "Name: 627, dtype: int64"
   ]
  },
  {
   "cell_type": "markdown",
   "id": "627192bf",
   "metadata": {},
   "source": [
    "nombre_infected       752\n",
    "nombre_sain          2342\n",
    "nombre_exposed        429\n",
    "nombre_recovered    16477\n",
    "Name: 628, dtype: int64"
   ]
  },
  {
   "cell_type": "markdown",
   "id": "75f65e85",
   "metadata": {},
   "source": [
    "nombre_infected       749\n",
    "nombre_sain          2347\n",
    "nombre_exposed        449\n",
    "nombre_recovered    16455\n",
    "Name: 629, dtype: int64"
   ]
  },
  {
   "cell_type": "markdown",
   "id": "670574ce",
   "metadata": {},
   "source": [
    "nombre_infected       756\n",
    "nombre_sain          2352\n",
    "nombre_exposed        443\n",
    "nombre_recovered    16449\n",
    "Name: 630, dtype: int64"
   ]
  },
  {
   "cell_type": "markdown",
   "id": "cbf626b9",
   "metadata": {},
   "source": [
    "nombre_infected       762\n",
    "nombre_sain          2351\n",
    "nombre_exposed        457\n",
    "nombre_recovered    16430\n",
    "Name: 631, dtype: int64"
   ]
  },
  {
   "cell_type": "markdown",
   "id": "52d07959",
   "metadata": {},
   "source": [
    "nombre_infected       763\n",
    "nombre_sain          2333\n",
    "nombre_exposed        464\n",
    "nombre_recovered    16440\n",
    "Name: 632, dtype: int64"
   ]
  },
  {
   "cell_type": "markdown",
   "id": "191f97d7",
   "metadata": {},
   "source": [
    "nombre_infected       763\n",
    "nombre_sain          2347\n",
    "nombre_exposed        451\n",
    "nombre_recovered    16439\n",
    "Name: 633, dtype: int64"
   ]
  },
  {
   "cell_type": "markdown",
   "id": "b6ba3148",
   "metadata": {},
   "source": [
    "nombre_infected       761\n",
    "nombre_sain          2339\n",
    "nombre_exposed        462\n",
    "nombre_recovered    16438\n",
    "Name: 634, dtype: int64"
   ]
  },
  {
   "cell_type": "markdown",
   "id": "136d434a",
   "metadata": {},
   "source": [
    "nombre_infected       780\n",
    "nombre_sain          2347\n",
    "nombre_exposed        447\n",
    "nombre_recovered    16426\n",
    "Name: 635, dtype: int64"
   ]
  },
  {
   "cell_type": "markdown",
   "id": "6de1b0b7",
   "metadata": {},
   "source": [
    "nombre_infected       780\n",
    "nombre_sain          2377\n",
    "nombre_exposed        442\n",
    "nombre_recovered    16401\n",
    "Name: 636, dtype: int64"
   ]
  },
  {
   "cell_type": "markdown",
   "id": "7e56b468",
   "metadata": {},
   "source": [
    "nombre_infected       785\n",
    "nombre_sain          2358\n",
    "nombre_exposed        459\n",
    "nombre_recovered    16398\n",
    "Name: 637, dtype: int64"
   ]
  },
  {
   "cell_type": "markdown",
   "id": "c5d25821",
   "metadata": {},
   "source": [
    "nombre_infected       778\n",
    "nombre_sain          2346\n",
    "nombre_exposed        471\n",
    "nombre_recovered    16405\n",
    "Name: 638, dtype: int64"
   ]
  },
  {
   "cell_type": "markdown",
   "id": "e82c0608",
   "metadata": {},
   "source": [
    "nombre_infected       800\n",
    "nombre_sain          2318\n",
    "nombre_exposed        453\n",
    "nombre_recovered    16429\n",
    "Name: 639, dtype: int64"
   ]
  },
  {
   "cell_type": "markdown",
   "id": "79396de0",
   "metadata": {},
   "source": [
    "nombre_infected       806\n",
    "nombre_sain          2319\n",
    "nombre_exposed        455\n",
    "nombre_recovered    16420\n",
    "Name: 640, dtype: int64"
   ]
  },
  {
   "cell_type": "markdown",
   "id": "19266b14",
   "metadata": {},
   "source": [
    "nombre_infected       815\n",
    "nombre_sain          2309\n",
    "nombre_exposed        467\n",
    "nombre_recovered    16409\n",
    "Name: 641, dtype: int64"
   ]
  },
  {
   "cell_type": "markdown",
   "id": "8500fbff",
   "metadata": {},
   "source": [
    "nombre_infected       803\n",
    "nombre_sain          2317\n",
    "nombre_exposed        462\n",
    "nombre_recovered    16418\n",
    "Name: 642, dtype: int64"
   ]
  },
  {
   "cell_type": "markdown",
   "id": "9c291278",
   "metadata": {},
   "source": [
    "nombre_infected       792\n",
    "nombre_sain          2319\n",
    "nombre_exposed        469\n",
    "nombre_recovered    16420\n",
    "Name: 643, dtype: int64"
   ]
  },
  {
   "cell_type": "markdown",
   "id": "c7cd88a5",
   "metadata": {},
   "source": [
    "nombre_infected       815\n",
    "nombre_sain          2341\n",
    "nombre_exposed        444\n",
    "nombre_recovered    16400\n",
    "Name: 644, dtype: int64"
   ]
  },
  {
   "cell_type": "markdown",
   "id": "eae83007",
   "metadata": {},
   "source": [
    "nombre_infected       827\n",
    "nombre_sain          2329\n",
    "nombre_exposed        455\n",
    "nombre_recovered    16389\n",
    "Name: 645, dtype: int64"
   ]
  },
  {
   "cell_type": "markdown",
   "id": "141866cc",
   "metadata": {},
   "source": [
    "nombre_infected       837\n",
    "nombre_sain          2309\n",
    "nombre_exposed        452\n",
    "nombre_recovered    16402\n",
    "Name: 646, dtype: int64"
   ]
  },
  {
   "cell_type": "markdown",
   "id": "06730b70",
   "metadata": {},
   "source": [
    "nombre_infected       834\n",
    "nombre_sain          2282\n",
    "nombre_exposed        478\n",
    "nombre_recovered    16406\n",
    "Name: 647, dtype: int64"
   ]
  },
  {
   "cell_type": "markdown",
   "id": "e24da695",
   "metadata": {},
   "source": [
    "nombre_infected       834\n",
    "nombre_sain          2269\n",
    "nombre_exposed        493\n",
    "nombre_recovered    16404\n",
    "Name: 648, dtype: int64"
   ]
  },
  {
   "cell_type": "markdown",
   "id": "b1abd505",
   "metadata": {},
   "source": [
    "nombre_infected       862\n",
    "nombre_sain          2251\n",
    "nombre_exposed        489\n",
    "nombre_recovered    16398\n",
    "Name: 649, dtype: int64"
   ]
  },
  {
   "cell_type": "markdown",
   "id": "850457b5",
   "metadata": {},
   "source": [
    "nombre_infected       872\n",
    "nombre_sain          2266\n",
    "nombre_exposed        475\n",
    "nombre_recovered    16387\n",
    "Name: 650, dtype: int64"
   ]
  },
  {
   "cell_type": "markdown",
   "id": "95d8e5f8",
   "metadata": {},
   "source": [
    "nombre_infected       878\n",
    "nombre_sain          2263\n",
    "nombre_exposed        466\n",
    "nombre_recovered    16393\n",
    "Name: 651, dtype: int64"
   ]
  },
  {
   "cell_type": "markdown",
   "id": "e9bc52d6",
   "metadata": {},
   "source": [
    "nombre_infected       896\n",
    "nombre_sain          2247\n",
    "nombre_exposed        478\n",
    "nombre_recovered    16379\n",
    "Name: 652, dtype: int64"
   ]
  },
  {
   "cell_type": "markdown",
   "id": "cc3b8d5f",
   "metadata": {},
   "source": [
    "nombre_infected       905\n",
    "nombre_sain          2225\n",
    "nombre_exposed        501\n",
    "nombre_recovered    16369\n",
    "Name: 653, dtype: int64"
   ]
  },
  {
   "cell_type": "markdown",
   "id": "4a305f3f",
   "metadata": {},
   "source": [
    "nombre_infected       898\n",
    "nombre_sain          2235\n",
    "nombre_exposed        488\n",
    "nombre_recovered    16379\n",
    "Name: 654, dtype: int64"
   ]
  },
  {
   "cell_type": "markdown",
   "id": "a80498e0",
   "metadata": {},
   "source": [
    "nombre_infected       898\n",
    "nombre_sain          2264\n",
    "nombre_exposed        485\n",
    "nombre_recovered    16353\n",
    "Name: 655, dtype: int64"
   ]
  },
  {
   "cell_type": "markdown",
   "id": "8b400784",
   "metadata": {},
   "source": [
    "nombre_infected       897\n",
    "nombre_sain          2290\n",
    "nombre_exposed        474\n",
    "nombre_recovered    16339\n",
    "Name: 656, dtype: int64"
   ]
  },
  {
   "cell_type": "markdown",
   "id": "8a263cfa",
   "metadata": {},
   "source": [
    "nombre_infected       914\n",
    "nombre_sain          2304\n",
    "nombre_exposed        470\n",
    "nombre_recovered    16312\n",
    "Name: 657, dtype: int64"
   ]
  },
  {
   "cell_type": "markdown",
   "id": "3ea81838",
   "metadata": {},
   "source": [
    "nombre_infected       927\n",
    "nombre_sain          2335\n",
    "nombre_exposed        469\n",
    "nombre_recovered    16269\n",
    "Name: 658, dtype: int64"
   ]
  },
  {
   "cell_type": "markdown",
   "id": "9f1ec58c",
   "metadata": {},
   "source": [
    "nombre_infected       928\n",
    "nombre_sain          2354\n",
    "nombre_exposed        476\n",
    "nombre_recovered    16242\n",
    "Name: 659, dtype: int64"
   ]
  },
  {
   "cell_type": "markdown",
   "id": "e69f77fd",
   "metadata": {},
   "source": [
    "nombre_infected       934\n",
    "nombre_sain          2331\n",
    "nombre_exposed        493\n",
    "nombre_recovered    16242\n",
    "Name: 660, dtype: int64"
   ]
  },
  {
   "cell_type": "markdown",
   "id": "159f7c78",
   "metadata": {},
   "source": [
    "nombre_infected       952\n",
    "nombre_sain          2285\n",
    "nombre_exposed        512\n",
    "nombre_recovered    16251\n",
    "Name: 661, dtype: int64"
   ]
  },
  {
   "cell_type": "markdown",
   "id": "028fed09",
   "metadata": {},
   "source": [
    "nombre_infected       937\n",
    "nombre_sain          2274\n",
    "nombre_exposed        526\n",
    "nombre_recovered    16263\n",
    "Name: 662, dtype: int64"
   ]
  },
  {
   "cell_type": "markdown",
   "id": "c054afdb",
   "metadata": {},
   "source": [
    "nombre_infected       962\n",
    "nombre_sain          2255\n",
    "nombre_exposed        522\n",
    "nombre_recovered    16261\n",
    "Name: 663, dtype: int64"
   ]
  },
  {
   "cell_type": "markdown",
   "id": "62642171",
   "metadata": {},
   "source": [
    "nombre_infected       987\n",
    "nombre_sain          2229\n",
    "nombre_exposed        530\n",
    "nombre_recovered    16254\n",
    "Name: 664, dtype: int64"
   ]
  },
  {
   "cell_type": "markdown",
   "id": "a4fb355a",
   "metadata": {},
   "source": [
    "nombre_infected       988\n",
    "nombre_sain          2227\n",
    "nombre_exposed        525\n",
    "nombre_recovered    16260\n",
    "Name: 665, dtype: int64"
   ]
  },
  {
   "cell_type": "markdown",
   "id": "e9f65536",
   "metadata": {},
   "source": [
    "nombre_infected       984\n",
    "nombre_sain          2222\n",
    "nombre_exposed        517\n",
    "nombre_recovered    16277\n",
    "Name: 666, dtype: int64"
   ]
  },
  {
   "cell_type": "markdown",
   "id": "54892471",
   "metadata": {},
   "source": [
    "nombre_infected       986\n",
    "nombre_sain          2183\n",
    "nombre_exposed        538\n",
    "nombre_recovered    16293\n",
    "Name: 667, dtype: int64"
   ]
  },
  {
   "cell_type": "markdown",
   "id": "b5db359a",
   "metadata": {},
   "source": [
    "nombre_infected       972\n",
    "nombre_sain          2154\n",
    "nombre_exposed        547\n",
    "nombre_recovered    16327\n",
    "Name: 668, dtype: int64"
   ]
  },
  {
   "cell_type": "markdown",
   "id": "f43c9d4f",
   "metadata": {},
   "source": [
    "nombre_infected       990\n",
    "nombre_sain          2150\n",
    "nombre_exposed        531\n",
    "nombre_recovered    16329\n",
    "Name: 669, dtype: int64"
   ]
  },
  {
   "cell_type": "markdown",
   "id": "6c841090",
   "metadata": {},
   "source": [
    "nombre_infected       974\n",
    "nombre_sain          2140\n",
    "nombre_exposed        517\n",
    "nombre_recovered    16369\n",
    "Name: 670, dtype: int64"
   ]
  },
  {
   "cell_type": "markdown",
   "id": "8fc2e99f",
   "metadata": {},
   "source": [
    "nombre_infected       965\n",
    "nombre_sain          2116\n",
    "nombre_exposed        533\n",
    "nombre_recovered    16386\n",
    "Name: 671, dtype: int64"
   ]
  },
  {
   "cell_type": "markdown",
   "id": "9b361ac5",
   "metadata": {},
   "source": [
    "nombre_infected       965\n",
    "nombre_sain          2107\n",
    "nombre_exposed        536\n",
    "nombre_recovered    16392\n",
    "Name: 672, dtype: int64"
   ]
  },
  {
   "cell_type": "markdown",
   "id": "077038ae",
   "metadata": {},
   "source": [
    "nombre_infected       952\n",
    "nombre_sain          2098\n",
    "nombre_exposed        527\n",
    "nombre_recovered    16423\n",
    "Name: 673, dtype: int64"
   ]
  },
  {
   "cell_type": "markdown",
   "id": "e280eef6",
   "metadata": {},
   "source": [
    "nombre_infected       969\n",
    "nombre_sain          2065\n",
    "nombre_exposed        531\n",
    "nombre_recovered    16435\n",
    "Name: 674, dtype: int64"
   ]
  },
  {
   "cell_type": "markdown",
   "id": "7b32a53d",
   "metadata": {},
   "source": [
    "nombre_infected       945\n",
    "nombre_sain          2079\n",
    "nombre_exposed        525\n",
    "nombre_recovered    16451\n",
    "Name: 675, dtype: int64"
   ]
  },
  {
   "cell_type": "markdown",
   "id": "a3075c11",
   "metadata": {},
   "source": [
    "nombre_infected       960\n",
    "nombre_sain          2070\n",
    "nombre_exposed        516\n",
    "nombre_recovered    16454\n",
    "Name: 676, dtype: int64"
   ]
  },
  {
   "cell_type": "markdown",
   "id": "f1e7b49a",
   "metadata": {},
   "source": [
    "nombre_infected       976\n",
    "nombre_sain          2050\n",
    "nombre_exposed        507\n",
    "nombre_recovered    16467\n",
    "Name: 677, dtype: int64"
   ]
  },
  {
   "cell_type": "markdown",
   "id": "0f5ef64a",
   "metadata": {},
   "source": [
    "nombre_infected       978\n",
    "nombre_sain          2065\n",
    "nombre_exposed        495\n",
    "nombre_recovered    16462\n",
    "Name: 678, dtype: int64"
   ]
  },
  {
   "cell_type": "markdown",
   "id": "54d0cced",
   "metadata": {},
   "source": [
    "nombre_infected       992\n",
    "nombre_sain          2067\n",
    "nombre_exposed        484\n",
    "nombre_recovered    16457\n",
    "Name: 679, dtype: int64"
   ]
  },
  {
   "cell_type": "markdown",
   "id": "1bc613f5",
   "metadata": {},
   "source": [
    "nombre_infected       969\n",
    "nombre_sain          2038\n",
    "nombre_exposed        506\n",
    "nombre_recovered    16487\n",
    "Name: 680, dtype: int64"
   ]
  },
  {
   "cell_type": "markdown",
   "id": "bbc679f6",
   "metadata": {},
   "source": [
    "nombre_infected       942\n",
    "nombre_sain          2052\n",
    "nombre_exposed        497\n",
    "nombre_recovered    16509\n",
    "Name: 681, dtype: int64"
   ]
  },
  {
   "cell_type": "markdown",
   "id": "18254fce",
   "metadata": {},
   "source": [
    "nombre_infected       933\n",
    "nombre_sain          2058\n",
    "nombre_exposed        485\n",
    "nombre_recovered    16524\n",
    "Name: 682, dtype: int64"
   ]
  },
  {
   "cell_type": "markdown",
   "id": "0a93ad37",
   "metadata": {},
   "source": [
    "nombre_infected       926\n",
    "nombre_sain          2065\n",
    "nombre_exposed        469\n",
    "nombre_recovered    16540\n",
    "Name: 683, dtype: int64"
   ]
  },
  {
   "cell_type": "markdown",
   "id": "656589d6",
   "metadata": {},
   "source": [
    "nombre_infected       939\n",
    "nombre_sain          2051\n",
    "nombre_exposed        476\n",
    "nombre_recovered    16534\n",
    "Name: 684, dtype: int64"
   ]
  },
  {
   "cell_type": "markdown",
   "id": "b699e69c",
   "metadata": {},
   "source": [
    "nombre_infected       954\n",
    "nombre_sain          2049\n",
    "nombre_exposed        470\n",
    "nombre_recovered    16527\n",
    "Name: 685, dtype: int64"
   ]
  },
  {
   "cell_type": "markdown",
   "id": "e7d05762",
   "metadata": {},
   "source": [
    "nombre_infected       942\n",
    "nombre_sain          2064\n",
    "nombre_exposed        473\n",
    "nombre_recovered    16521\n",
    "Name: 686, dtype: int64"
   ]
  },
  {
   "cell_type": "markdown",
   "id": "8dccebb3",
   "metadata": {},
   "source": [
    "nombre_infected       953\n",
    "nombre_sain          2057\n",
    "nombre_exposed        466\n",
    "nombre_recovered    16524\n",
    "Name: 687, dtype: int64"
   ]
  },
  {
   "cell_type": "markdown",
   "id": "5856a5f7",
   "metadata": {},
   "source": [
    "nombre_infected       948\n",
    "nombre_sain          2059\n",
    "nombre_exposed        470\n",
    "nombre_recovered    16523\n",
    "Name: 688, dtype: int64"
   ]
  },
  {
   "cell_type": "markdown",
   "id": "a63853ff",
   "metadata": {},
   "source": [
    "nombre_infected       951\n",
    "nombre_sain          2040\n",
    "nombre_exposed        467\n",
    "nombre_recovered    16542\n",
    "Name: 689, dtype: int64"
   ]
  },
  {
   "cell_type": "markdown",
   "id": "b51fba60",
   "metadata": {},
   "source": [
    "nombre_infected       953\n",
    "nombre_sain          2036\n",
    "nombre_exposed        476\n",
    "nombre_recovered    16535\n",
    "Name: 690, dtype: int64"
   ]
  },
  {
   "cell_type": "markdown",
   "id": "682ba9fa",
   "metadata": {},
   "source": [
    "nombre_infected       924\n",
    "nombre_sain          2020\n",
    "nombre_exposed        490\n",
    "nombre_recovered    16566\n",
    "Name: 691, dtype: int64"
   ]
  },
  {
   "cell_type": "markdown",
   "id": "ec70ec19",
   "metadata": {},
   "source": [
    "nombre_infected       883\n",
    "nombre_sain          2036\n",
    "nombre_exposed        490\n",
    "nombre_recovered    16591\n",
    "Name: 692, dtype: int64"
   ]
  },
  {
   "cell_type": "markdown",
   "id": "eea4aaf6",
   "metadata": {},
   "source": [
    "nombre_infected       879\n",
    "nombre_sain          2037\n",
    "nombre_exposed        473\n",
    "nombre_recovered    16611\n",
    "Name: 693, dtype: int64"
   ]
  },
  {
   "cell_type": "markdown",
   "id": "4f9f3041",
   "metadata": {},
   "source": [
    "nombre_infected       869\n",
    "nombre_sain          2034\n",
    "nombre_exposed        478\n",
    "nombre_recovered    16619\n",
    "Name: 694, dtype: int64"
   ]
  },
  {
   "cell_type": "markdown",
   "id": "66b6067b",
   "metadata": {},
   "source": [
    "nombre_infected       859\n",
    "nombre_sain          2051\n",
    "nombre_exposed        474\n",
    "nombre_recovered    16616\n",
    "Name: 695, dtype: int64"
   ]
  },
  {
   "cell_type": "markdown",
   "id": "9c2f29b2",
   "metadata": {},
   "source": [
    "nombre_infected       857\n",
    "nombre_sain          2077\n",
    "nombre_exposed        457\n",
    "nombre_recovered    16609\n",
    "Name: 696, dtype: int64"
   ]
  },
  {
   "cell_type": "markdown",
   "id": "e93a0d2f",
   "metadata": {},
   "source": [
    "nombre_infected       862\n",
    "nombre_sain          2061\n",
    "nombre_exposed        454\n",
    "nombre_recovered    16623\n",
    "Name: 697, dtype: int64"
   ]
  },
  {
   "cell_type": "markdown",
   "id": "dfcc58ea",
   "metadata": {},
   "source": [
    "nombre_infected       837\n",
    "nombre_sain          2085\n",
    "nombre_exposed        470\n",
    "nombre_recovered    16608\n",
    "Name: 698, dtype: int64"
   ]
  },
  {
   "cell_type": "markdown",
   "id": "d2771889",
   "metadata": {},
   "source": [
    "nombre_infected       843\n",
    "nombre_sain          2095\n",
    "nombre_exposed        460\n",
    "nombre_recovered    16602\n",
    "Name: 699, dtype: int64"
   ]
  },
  {
   "cell_type": "markdown",
   "id": "01a8e476",
   "metadata": {},
   "source": [
    "nombre_infected       831\n",
    "nombre_sain          2087\n",
    "nombre_exposed        473\n",
    "nombre_recovered    16609\n",
    "Name: 700, dtype: int64"
   ]
  },
  {
   "cell_type": "markdown",
   "id": "f2278635",
   "metadata": {},
   "source": [
    "nombre_infected       865\n",
    "nombre_sain          2113\n",
    "nombre_exposed        451\n",
    "nombre_recovered    16571\n",
    "Name: 701, dtype: int64"
   ]
  },
  {
   "cell_type": "markdown",
   "id": "5e303f45",
   "metadata": {},
   "source": [
    "nombre_infected       857\n",
    "nombre_sain          2130\n",
    "nombre_exposed        456\n",
    "nombre_recovered    16557\n",
    "Name: 702, dtype: int64"
   ]
  },
  {
   "cell_type": "markdown",
   "id": "e67578e3",
   "metadata": {},
   "source": [
    "nombre_infected       872\n",
    "nombre_sain          2128\n",
    "nombre_exposed        464\n",
    "nombre_recovered    16536\n",
    "Name: 703, dtype: int64"
   ]
  },
  {
   "cell_type": "markdown",
   "id": "63a75866",
   "metadata": {},
   "source": [
    "nombre_infected       886\n",
    "nombre_sain          2129\n",
    "nombre_exposed        463\n",
    "nombre_recovered    16522\n",
    "Name: 704, dtype: int64"
   ]
  },
  {
   "cell_type": "markdown",
   "id": "d1b1f050",
   "metadata": {},
   "source": [
    "nombre_infected       885\n",
    "nombre_sain          2131\n",
    "nombre_exposed        465\n",
    "nombre_recovered    16519\n",
    "Name: 705, dtype: int64"
   ]
  },
  {
   "cell_type": "markdown",
   "id": "58fb57db",
   "metadata": {},
   "source": [
    "nombre_infected       859\n",
    "nombre_sain          2109\n",
    "nombre_exposed        469\n",
    "nombre_recovered    16563\n",
    "Name: 706, dtype: int64"
   ]
  },
  {
   "cell_type": "markdown",
   "id": "d7dc0e83",
   "metadata": {},
   "source": [
    "nombre_infected       843\n",
    "nombre_sain          2114\n",
    "nombre_exposed        476\n",
    "nombre_recovered    16567\n",
    "Name: 707, dtype: int64"
   ]
  },
  {
   "cell_type": "markdown",
   "id": "176fcadd",
   "metadata": {},
   "source": [
    "nombre_infected       813\n",
    "nombre_sain          2111\n",
    "nombre_exposed        494\n",
    "nombre_recovered    16582\n",
    "Name: 708, dtype: int64"
   ]
  },
  {
   "cell_type": "markdown",
   "id": "06c9f6e3",
   "metadata": {},
   "source": [
    "nombre_infected       834\n",
    "nombre_sain          2100\n",
    "nombre_exposed        506\n",
    "nombre_recovered    16560\n",
    "Name: 709, dtype: int64"
   ]
  },
  {
   "cell_type": "markdown",
   "id": "150c7abc",
   "metadata": {},
   "source": [
    "nombre_infected       847\n",
    "nombre_sain          2131\n",
    "nombre_exposed        486\n",
    "nombre_recovered    16536\n",
    "Name: 710, dtype: int64"
   ]
  },
  {
   "cell_type": "markdown",
   "id": "b7b24499",
   "metadata": {},
   "source": [
    "nombre_infected       863\n",
    "nombre_sain          2154\n",
    "nombre_exposed        455\n",
    "nombre_recovered    16528\n",
    "Name: 711, dtype: int64"
   ]
  },
  {
   "cell_type": "markdown",
   "id": "c1a8777c",
   "metadata": {},
   "source": [
    "nombre_infected       857\n",
    "nombre_sain          2167\n",
    "nombre_exposed        452\n",
    "nombre_recovered    16524\n",
    "Name: 712, dtype: int64"
   ]
  },
  {
   "cell_type": "markdown",
   "id": "c18d01b2",
   "metadata": {},
   "source": [
    "nombre_infected       877\n",
    "nombre_sain          2166\n",
    "nombre_exposed        427\n",
    "nombre_recovered    16530\n",
    "Name: 713, dtype: int64"
   ]
  },
  {
   "cell_type": "markdown",
   "id": "ae093c75",
   "metadata": {},
   "source": [
    "nombre_infected       857\n",
    "nombre_sain          2156\n",
    "nombre_exposed        458\n",
    "nombre_recovered    16529\n",
    "Name: 714, dtype: int64"
   ]
  },
  {
   "cell_type": "markdown",
   "id": "3f0b225e",
   "metadata": {},
   "source": [
    "nombre_infected       843\n",
    "nombre_sain          2141\n",
    "nombre_exposed        478\n",
    "nombre_recovered    16538\n",
    "Name: 715, dtype: int64"
   ]
  },
  {
   "cell_type": "markdown",
   "id": "749ff0a6",
   "metadata": {},
   "source": [
    "nombre_infected       824\n",
    "nombre_sain          2136\n",
    "nombre_exposed        479\n",
    "nombre_recovered    16561\n",
    "Name: 716, dtype: int64"
   ]
  },
  {
   "cell_type": "markdown",
   "id": "b9218eba",
   "metadata": {},
   "source": [
    "nombre_infected       828\n",
    "nombre_sain          2131\n",
    "nombre_exposed        472\n",
    "nombre_recovered    16569\n",
    "Name: 717, dtype: int64"
   ]
  },
  {
   "cell_type": "markdown",
   "id": "ab30047f",
   "metadata": {},
   "source": [
    "nombre_infected       807\n",
    "nombre_sain          2146\n",
    "nombre_exposed        477\n",
    "nombre_recovered    16570\n",
    "Name: 718, dtype: int64"
   ]
  },
  {
   "cell_type": "markdown",
   "id": "479cdc5a",
   "metadata": {},
   "source": [
    "nombre_infected       820\n",
    "nombre_sain          2172\n",
    "nombre_exposed        470\n",
    "nombre_recovered    16538\n",
    "Name: 719, dtype: int64"
   ]
  },
  {
   "cell_type": "markdown",
   "id": "d5b90b04",
   "metadata": {},
   "source": [
    "nombre_infected       809\n",
    "nombre_sain          2171\n",
    "nombre_exposed        470\n",
    "nombre_recovered    16550\n",
    "Name: 720, dtype: int64"
   ]
  },
  {
   "cell_type": "markdown",
   "id": "6bbf1c7c",
   "metadata": {},
   "source": [
    "nombre_infected       811\n",
    "nombre_sain          2163\n",
    "nombre_exposed        472\n",
    "nombre_recovered    16554\n",
    "Name: 721, dtype: int64"
   ]
  },
  {
   "cell_type": "markdown",
   "id": "6ba504f9",
   "metadata": {},
   "source": [
    "nombre_infected       826\n",
    "nombre_sain          2146\n",
    "nombre_exposed        481\n",
    "nombre_recovered    16547\n",
    "Name: 722, dtype: int64"
   ]
  },
  {
   "cell_type": "markdown",
   "id": "d43ad3b1",
   "metadata": {},
   "source": [
    "nombre_infected       830\n",
    "nombre_sain          2134\n",
    "nombre_exposed        475\n",
    "nombre_recovered    16561\n",
    "Name: 723, dtype: int64"
   ]
  },
  {
   "cell_type": "markdown",
   "id": "47b12c99",
   "metadata": {},
   "source": [
    "nombre_infected       851\n",
    "nombre_sain          2150\n",
    "nombre_exposed        451\n",
    "nombre_recovered    16548\n",
    "Name: 724, dtype: int64"
   ]
  },
  {
   "cell_type": "markdown",
   "id": "6b7fdd4c",
   "metadata": {},
   "source": [
    "nombre_infected       837\n",
    "nombre_sain          2164\n",
    "nombre_exposed        463\n",
    "nombre_recovered    16536\n",
    "Name: 725, dtype: int64"
   ]
  },
  {
   "cell_type": "markdown",
   "id": "37864b9c",
   "metadata": {},
   "source": [
    "nombre_infected       858\n",
    "nombre_sain          2158\n",
    "nombre_exposed        473\n",
    "nombre_recovered    16511\n",
    "Name: 726, dtype: int64"
   ]
  },
  {
   "cell_type": "markdown",
   "id": "62c0873f",
   "metadata": {},
   "source": [
    "nombre_infected       871\n",
    "nombre_sain          2161\n",
    "nombre_exposed        469\n",
    "nombre_recovered    16499\n",
    "Name: 727, dtype: int64"
   ]
  },
  {
   "cell_type": "markdown",
   "id": "ef92b810",
   "metadata": {},
   "source": [
    "nombre_infected       874\n",
    "nombre_sain          2153\n",
    "nombre_exposed        484\n",
    "nombre_recovered    16489\n",
    "Name: 728, dtype: int64"
   ]
  },
  {
   "cell_type": "markdown",
   "id": "d7669609",
   "metadata": {},
   "source": [
    "nombre_infected       866\n",
    "nombre_sain          2163\n",
    "nombre_exposed        467\n",
    "nombre_recovered    16504\n",
    "Name: 729, dtype: int64"
   ]
  },
  {
   "cell_type": "markdown",
   "id": "833a3277",
   "metadata": {},
   "source": [
    "nombre_infected       853\n",
    "nombre_sain          2162\n",
    "nombre_exposed        454\n",
    "nombre_recovered    16531\n",
    "Name: 730, dtype: int64"
   ]
  }
 ],
 "metadata": {},
 "nbformat": 4,
 "nbformat_minor": 5
}
