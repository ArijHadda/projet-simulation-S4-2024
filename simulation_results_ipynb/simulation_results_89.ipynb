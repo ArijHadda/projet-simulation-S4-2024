{
 "cells": [
  {
   "cell_type": "markdown",
   "id": "2a304c7c",
   "metadata": {},
   "source": [
    "nombre_infected        20\n",
    "nombre_sain         19980\n",
    "nombre_exposed          0\n",
    "nombre_recovered        0\n",
    "Name: 0, dtype: int64"
   ]
  },
  {
   "cell_type": "markdown",
   "id": "4cb5ac5b",
   "metadata": {},
   "source": [
    "nombre_infected        20\n",
    "nombre_sain         19966\n",
    "nombre_exposed         14\n",
    "nombre_recovered        0\n",
    "Name: 1, dtype: int64"
   ]
  },
  {
   "cell_type": "markdown",
   "id": "9a1519d1",
   "metadata": {},
   "source": [
    "nombre_infected        20\n",
    "nombre_sain         19942\n",
    "nombre_exposed         38\n",
    "nombre_recovered        0\n",
    "Name: 2, dtype: int64"
   ]
  },
  {
   "cell_type": "markdown",
   "id": "50e9dbdd",
   "metadata": {},
   "source": [
    "nombre_infected        13\n",
    "nombre_sain         19921\n",
    "nombre_exposed         54\n",
    "nombre_recovered       12\n",
    "Name: 3, dtype: int64"
   ]
  },
  {
   "cell_type": "markdown",
   "id": "c32016ca",
   "metadata": {},
   "source": [
    "nombre_infected        16\n",
    "nombre_sain         19900\n",
    "nombre_exposed         64\n",
    "nombre_recovered       20\n",
    "Name: 4, dtype: int64"
   ]
  },
  {
   "cell_type": "markdown",
   "id": "3695d75d",
   "metadata": {},
   "source": [
    "nombre_infected        28\n",
    "nombre_sain         19868\n",
    "nombre_exposed         83\n",
    "nombre_recovered       21\n",
    "Name: 5, dtype: int64"
   ]
  },
  {
   "cell_type": "markdown",
   "id": "3b09574c",
   "metadata": {},
   "source": [
    "nombre_infected        32\n",
    "nombre_sain         19829\n",
    "nombre_exposed        116\n",
    "nombre_recovered       23\n",
    "Name: 6, dtype: int64"
   ]
  },
  {
   "cell_type": "markdown",
   "id": "aa896408",
   "metadata": {},
   "source": [
    "nombre_infected        52\n",
    "nombre_sain         19782\n",
    "nombre_exposed        142\n",
    "nombre_recovered       24\n",
    "Name: 7, dtype: int64"
   ]
  },
  {
   "cell_type": "markdown",
   "id": "a188d8f3",
   "metadata": {},
   "source": [
    "nombre_infected        78\n",
    "nombre_sain         19697\n",
    "nombre_exposed        198\n",
    "nombre_recovered       27\n",
    "Name: 8, dtype: int64"
   ]
  },
  {
   "cell_type": "markdown",
   "id": "25fa91dc",
   "metadata": {},
   "source": [
    "nombre_infected       102\n",
    "nombre_sain         19560\n",
    "nombre_exposed        304\n",
    "nombre_recovered       34\n",
    "Name: 9, dtype: int64"
   ]
  },
  {
   "cell_type": "markdown",
   "id": "14b6e08b",
   "metadata": {},
   "source": [
    "nombre_infected       138\n",
    "nombre_sain         19427\n",
    "nombre_exposed        391\n",
    "nombre_recovered       44\n",
    "Name: 10, dtype: int64"
   ]
  },
  {
   "cell_type": "markdown",
   "id": "d534aa23",
   "metadata": {},
   "source": [
    "nombre_infected       203\n",
    "nombre_sain         19220\n",
    "nombre_exposed        523\n",
    "nombre_recovered       54\n",
    "Name: 11, dtype: int64"
   ]
  },
  {
   "cell_type": "markdown",
   "id": "97b1fe02",
   "metadata": {},
   "source": [
    "nombre_infected       269\n",
    "nombre_sain         18923\n",
    "nombre_exposed        739\n",
    "nombre_recovered       69\n",
    "Name: 12, dtype: int64"
   ]
  },
  {
   "cell_type": "markdown",
   "id": "cf706ef9",
   "metadata": {},
   "source": [
    "nombre_infected       352\n",
    "nombre_sain         18564\n",
    "nombre_exposed        984\n",
    "nombre_recovered      100\n",
    "Name: 13, dtype: int64"
   ]
  },
  {
   "cell_type": "markdown",
   "id": "201134cd",
   "metadata": {},
   "source": [
    "nombre_infected       494\n",
    "nombre_sain         18129\n",
    "nombre_exposed       1244\n",
    "nombre_recovered      133\n",
    "Name: 14, dtype: int64"
   ]
  },
  {
   "cell_type": "markdown",
   "id": "a8e67fa5",
   "metadata": {},
   "source": [
    "nombre_infected       635\n",
    "nombre_sain         17534\n",
    "nombre_exposed       1655\n",
    "nombre_recovered      176\n",
    "Name: 15, dtype: int64"
   ]
  },
  {
   "cell_type": "markdown",
   "id": "cd15eeb8",
   "metadata": {},
   "source": [
    "nombre_infected       885\n",
    "nombre_sain         16740\n",
    "nombre_exposed       2143\n",
    "nombre_recovered      232\n",
    "Name: 16, dtype: int64"
   ]
  },
  {
   "cell_type": "markdown",
   "id": "effb4ebf",
   "metadata": {},
   "source": [
    "nombre_infected      1188\n",
    "nombre_sain         15677\n",
    "nombre_exposed       2825\n",
    "nombre_recovered      310\n",
    "Name: 17, dtype: int64"
   ]
  },
  {
   "cell_type": "markdown",
   "id": "07589cba",
   "metadata": {},
   "source": [
    "nombre_infected      1584\n",
    "nombre_sain         14446\n",
    "nombre_exposed       3544\n",
    "nombre_recovered      426\n",
    "Name: 18, dtype: int64"
   ]
  },
  {
   "cell_type": "markdown",
   "id": "5d871162",
   "metadata": {},
   "source": [
    "nombre_infected      2067\n",
    "nombre_sain         13011\n",
    "nombre_exposed       4362\n",
    "nombre_recovered      560\n",
    "Name: 19, dtype: int64"
   ]
  },
  {
   "cell_type": "markdown",
   "id": "67f9d85b",
   "metadata": {},
   "source": [
    "nombre_infected      2640\n",
    "nombre_sain         11343\n",
    "nombre_exposed       5241\n",
    "nombre_recovered      776\n",
    "Name: 20, dtype: int64"
   ]
  },
  {
   "cell_type": "markdown",
   "id": "730e7248",
   "metadata": {},
   "source": [
    "nombre_infected     3310\n",
    "nombre_sain         9731\n",
    "nombre_exposed      5908\n",
    "nombre_recovered    1051\n",
    "Name: 21, dtype: int64"
   ]
  },
  {
   "cell_type": "markdown",
   "id": "a941911e",
   "metadata": {},
   "source": [
    "nombre_infected     4161\n",
    "nombre_sain         8007\n",
    "nombre_exposed      6448\n",
    "nombre_recovered    1384\n",
    "Name: 22, dtype: int64"
   ]
  },
  {
   "cell_type": "markdown",
   "id": "339a608d",
   "metadata": {},
   "source": [
    "nombre_infected     4965\n",
    "nombre_sain         6269\n",
    "nombre_exposed      6932\n",
    "nombre_recovered    1834\n",
    "Name: 23, dtype: int64"
   ]
  },
  {
   "cell_type": "markdown",
   "id": "7b15e5a7",
   "metadata": {},
   "source": [
    "nombre_infected     5833\n",
    "nombre_sain         4780\n",
    "nombre_exposed      7008\n",
    "nombre_recovered    2379\n",
    "Name: 24, dtype: int64"
   ]
  },
  {
   "cell_type": "markdown",
   "id": "ca3e5319",
   "metadata": {},
   "source": [
    "nombre_infected     6720\n",
    "nombre_sain         3482\n",
    "nombre_exposed      6769\n",
    "nombre_recovered    3029\n",
    "Name: 25, dtype: int64"
   ]
  },
  {
   "cell_type": "markdown",
   "id": "36d9fb34",
   "metadata": {},
   "source": [
    "nombre_infected     7479\n",
    "nombre_sain         2484\n",
    "nombre_exposed      6299\n",
    "nombre_recovered    3738\n",
    "Name: 26, dtype: int64"
   ]
  },
  {
   "cell_type": "markdown",
   "id": "fce03a62",
   "metadata": {},
   "source": [
    "nombre_infected     8097\n",
    "nombre_sain         1741\n",
    "nombre_exposed      5636\n",
    "nombre_recovered    4526\n",
    "Name: 27, dtype: int64"
   ]
  },
  {
   "cell_type": "markdown",
   "id": "cdc71616",
   "metadata": {},
   "source": [
    "nombre_infected     8474\n",
    "nombre_sain         1201\n",
    "nombre_exposed      4818\n",
    "nombre_recovered    5507\n",
    "Name: 28, dtype: int64"
   ]
  },
  {
   "cell_type": "markdown",
   "id": "9a3071e6",
   "metadata": {},
   "source": [
    "nombre_infected     8706\n",
    "nombre_sain          828\n",
    "nombre_exposed      3973\n",
    "nombre_recovered    6493\n",
    "Name: 29, dtype: int64"
   ]
  },
  {
   "cell_type": "markdown",
   "id": "13134ba2",
   "metadata": {},
   "source": [
    "nombre_infected     8697\n",
    "nombre_sain          560\n",
    "nombre_exposed      3222\n",
    "nombre_recovered    7521\n",
    "Name: 30, dtype: int64"
   ]
  },
  {
   "cell_type": "markdown",
   "id": "fde7a72e",
   "metadata": {},
   "source": [
    "nombre_infected     8513\n",
    "nombre_sain          374\n",
    "nombre_exposed      2577\n",
    "nombre_recovered    8536\n",
    "Name: 31, dtype: int64"
   ]
  },
  {
   "cell_type": "markdown",
   "id": "0fe54ccc",
   "metadata": {},
   "source": [
    "nombre_infected     8264\n",
    "nombre_sain          247\n",
    "nombre_exposed      1964\n",
    "nombre_recovered    9525\n",
    "Name: 32, dtype: int64"
   ]
  },
  {
   "cell_type": "markdown",
   "id": "fc093219",
   "metadata": {},
   "source": [
    "nombre_infected      7767\n",
    "nombre_sain           179\n",
    "nombre_exposed       1517\n",
    "nombre_recovered    10537\n",
    "Name: 33, dtype: int64"
   ]
  },
  {
   "cell_type": "markdown",
   "id": "f2325193",
   "metadata": {},
   "source": [
    "nombre_infected      7325\n",
    "nombre_sain           132\n",
    "nombre_exposed       1111\n",
    "nombre_recovered    11432\n",
    "Name: 34, dtype: int64"
   ]
  },
  {
   "cell_type": "markdown",
   "id": "25cf9c9a",
   "metadata": {},
   "source": [
    "nombre_infected      6712\n",
    "nombre_sain           124\n",
    "nombre_exposed        825\n",
    "nombre_recovered    12339\n",
    "Name: 35, dtype: int64"
   ]
  },
  {
   "cell_type": "markdown",
   "id": "b299a86c",
   "metadata": {},
   "source": [
    "nombre_infected      6128\n",
    "nombre_sain           110\n",
    "nombre_exposed        594\n",
    "nombre_recovered    13168\n",
    "Name: 36, dtype: int64"
   ]
  },
  {
   "cell_type": "markdown",
   "id": "56607456",
   "metadata": {},
   "source": [
    "nombre_infected      5548\n",
    "nombre_sain           112\n",
    "nombre_exposed        421\n",
    "nombre_recovered    13919\n",
    "Name: 37, dtype: int64"
   ]
  },
  {
   "cell_type": "markdown",
   "id": "2bd7aa13",
   "metadata": {},
   "source": [
    "nombre_infected      4950\n",
    "nombre_sain           123\n",
    "nombre_exposed        319\n",
    "nombre_recovered    14608\n",
    "Name: 38, dtype: int64"
   ]
  },
  {
   "cell_type": "markdown",
   "id": "75284e23",
   "metadata": {},
   "source": [
    "nombre_infected      4419\n",
    "nombre_sain           122\n",
    "nombre_exposed        259\n",
    "nombre_recovered    15200\n",
    "Name: 39, dtype: int64"
   ]
  },
  {
   "cell_type": "markdown",
   "id": "918ab60a",
   "metadata": {},
   "source": [
    "nombre_infected      3916\n",
    "nombre_sain           138\n",
    "nombre_exposed        201\n",
    "nombre_recovered    15745\n",
    "Name: 40, dtype: int64"
   ]
  },
  {
   "cell_type": "markdown",
   "id": "d42901c7",
   "metadata": {},
   "source": [
    "nombre_infected      3477\n",
    "nombre_sain           166\n",
    "nombre_exposed        151\n",
    "nombre_recovered    16206\n",
    "Name: 41, dtype: int64"
   ]
  },
  {
   "cell_type": "markdown",
   "id": "fe4e6427",
   "metadata": {},
   "source": [
    "nombre_infected      3057\n",
    "nombre_sain           191\n",
    "nombre_exposed        131\n",
    "nombre_recovered    16621\n",
    "Name: 42, dtype: int64"
   ]
  },
  {
   "cell_type": "markdown",
   "id": "662488f0",
   "metadata": {},
   "source": [
    "nombre_infected      2674\n",
    "nombre_sain           213\n",
    "nombre_exposed        128\n",
    "nombre_recovered    16985\n",
    "Name: 43, dtype: int64"
   ]
  },
  {
   "cell_type": "markdown",
   "id": "a5a50bd7",
   "metadata": {},
   "source": [
    "nombre_infected      2345\n",
    "nombre_sain           243\n",
    "nombre_exposed        116\n",
    "nombre_recovered    17296\n",
    "Name: 44, dtype: int64"
   ]
  },
  {
   "cell_type": "markdown",
   "id": "da839686",
   "metadata": {},
   "source": [
    "nombre_infected      2088\n",
    "nombre_sain           284\n",
    "nombre_exposed        102\n",
    "nombre_recovered    17526\n",
    "Name: 45, dtype: int64"
   ]
  },
  {
   "cell_type": "markdown",
   "id": "a2c08825",
   "metadata": {},
   "source": [
    "nombre_infected      1831\n",
    "nombre_sain           314\n",
    "nombre_exposed        106\n",
    "nombre_recovered    17749\n",
    "Name: 46, dtype: int64"
   ]
  },
  {
   "cell_type": "markdown",
   "id": "20f6cc22",
   "metadata": {},
   "source": [
    "nombre_infected      1627\n",
    "nombre_sain           327\n",
    "nombre_exposed        116\n",
    "nombre_recovered    17930\n",
    "Name: 47, dtype: int64"
   ]
  },
  {
   "cell_type": "markdown",
   "id": "fecb77e8",
   "metadata": {},
   "source": [
    "nombre_infected      1428\n",
    "nombre_sain           367\n",
    "nombre_exposed        127\n",
    "nombre_recovered    18078\n",
    "Name: 48, dtype: int64"
   ]
  },
  {
   "cell_type": "markdown",
   "id": "96411490",
   "metadata": {},
   "source": [
    "nombre_infected      1250\n",
    "nombre_sain           389\n",
    "nombre_exposed        137\n",
    "nombre_recovered    18224\n",
    "Name: 49, dtype: int64"
   ]
  },
  {
   "cell_type": "markdown",
   "id": "99c217b5",
   "metadata": {},
   "source": [
    "nombre_infected      1114\n",
    "nombre_sain           415\n",
    "nombre_exposed        134\n",
    "nombre_recovered    18337\n",
    "Name: 50, dtype: int64"
   ]
  },
  {
   "cell_type": "markdown",
   "id": "939e5fd2",
   "metadata": {},
   "source": [
    "nombre_infected       987\n",
    "nombre_sain           465\n",
    "nombre_exposed        127\n",
    "nombre_recovered    18421\n",
    "Name: 51, dtype: int64"
   ]
  },
  {
   "cell_type": "markdown",
   "id": "f609f657",
   "metadata": {},
   "source": [
    "nombre_infected       914\n",
    "nombre_sain           505\n",
    "nombre_exposed        120\n",
    "nombre_recovered    18461\n",
    "Name: 52, dtype: int64"
   ]
  },
  {
   "cell_type": "markdown",
   "id": "87d27a20",
   "metadata": {},
   "source": [
    "nombre_infected       791\n",
    "nombre_sain           540\n",
    "nombre_exposed        130\n",
    "nombre_recovered    18539\n",
    "Name: 53, dtype: int64"
   ]
  },
  {
   "cell_type": "markdown",
   "id": "8c5e4f2c",
   "metadata": {},
   "source": [
    "nombre_infected       692\n",
    "nombre_sain           578\n",
    "nombre_exposed        133\n",
    "nombre_recovered    18597\n",
    "Name: 54, dtype: int64"
   ]
  },
  {
   "cell_type": "markdown",
   "id": "4d476444",
   "metadata": {},
   "source": [
    "nombre_infected       632\n",
    "nombre_sain           601\n",
    "nombre_exposed        135\n",
    "nombre_recovered    18632\n",
    "Name: 55, dtype: int64"
   ]
  },
  {
   "cell_type": "markdown",
   "id": "68a6dbd6",
   "metadata": {},
   "source": [
    "nombre_infected       563\n",
    "nombre_sain           660\n",
    "nombre_exposed        131\n",
    "nombre_recovered    18646\n",
    "Name: 56, dtype: int64"
   ]
  },
  {
   "cell_type": "markdown",
   "id": "ea4cf170",
   "metadata": {},
   "source": [
    "nombre_infected       516\n",
    "nombre_sain           713\n",
    "nombre_exposed        129\n",
    "nombre_recovered    18642\n",
    "Name: 57, dtype: int64"
   ]
  },
  {
   "cell_type": "markdown",
   "id": "31dc1a7a",
   "metadata": {},
   "source": [
    "nombre_infected       482\n",
    "nombre_sain           748\n",
    "nombre_exposed        111\n",
    "nombre_recovered    18659\n",
    "Name: 58, dtype: int64"
   ]
  },
  {
   "cell_type": "markdown",
   "id": "2a5f5dd3",
   "metadata": {},
   "source": [
    "nombre_infected       434\n",
    "nombre_sain           795\n",
    "nombre_exposed        113\n",
    "nombre_recovered    18658\n",
    "Name: 59, dtype: int64"
   ]
  },
  {
   "cell_type": "markdown",
   "id": "8d853b8e",
   "metadata": {},
   "source": [
    "nombre_infected       391\n",
    "nombre_sain           849\n",
    "nombre_exposed        104\n",
    "nombre_recovered    18656\n",
    "Name: 60, dtype: int64"
   ]
  },
  {
   "cell_type": "markdown",
   "id": "79de944f",
   "metadata": {},
   "source": [
    "nombre_infected       347\n",
    "nombre_sain           877\n",
    "nombre_exposed        110\n",
    "nombre_recovered    18666\n",
    "Name: 61, dtype: int64"
   ]
  },
  {
   "cell_type": "markdown",
   "id": "b5aea0b2",
   "metadata": {},
   "source": [
    "nombre_infected       311\n",
    "nombre_sain           921\n",
    "nombre_exposed        102\n",
    "nombre_recovered    18666\n",
    "Name: 62, dtype: int64"
   ]
  },
  {
   "cell_type": "markdown",
   "id": "767ec6a9",
   "metadata": {},
   "source": [
    "nombre_infected       276\n",
    "nombre_sain           959\n",
    "nombre_exposed        101\n",
    "nombre_recovered    18664\n",
    "Name: 63, dtype: int64"
   ]
  },
  {
   "cell_type": "markdown",
   "id": "04af0422",
   "metadata": {},
   "source": [
    "nombre_infected       258\n",
    "nombre_sain          1010\n",
    "nombre_exposed         91\n",
    "nombre_recovered    18641\n",
    "Name: 64, dtype: int64"
   ]
  },
  {
   "cell_type": "markdown",
   "id": "ec03744e",
   "metadata": {},
   "source": [
    "nombre_infected       239\n",
    "nombre_sain          1045\n",
    "nombre_exposed         94\n",
    "nombre_recovered    18622\n",
    "Name: 65, dtype: int64"
   ]
  },
  {
   "cell_type": "markdown",
   "id": "3df77339",
   "metadata": {},
   "source": [
    "nombre_infected       220\n",
    "nombre_sain          1090\n",
    "nombre_exposed         89\n",
    "nombre_recovered    18601\n",
    "Name: 66, dtype: int64"
   ]
  },
  {
   "cell_type": "markdown",
   "id": "0f166337",
   "metadata": {},
   "source": [
    "nombre_infected       201\n",
    "nombre_sain          1147\n",
    "nombre_exposed         83\n",
    "nombre_recovered    18569\n",
    "Name: 67, dtype: int64"
   ]
  },
  {
   "cell_type": "markdown",
   "id": "ec285c90",
   "metadata": {},
   "source": [
    "nombre_infected       204\n",
    "nombre_sain          1188\n",
    "nombre_exposed         76\n",
    "nombre_recovered    18532\n",
    "Name: 68, dtype: int64"
   ]
  },
  {
   "cell_type": "markdown",
   "id": "7c744195",
   "metadata": {},
   "source": [
    "nombre_infected       195\n",
    "nombre_sain          1217\n",
    "nombre_exposed         81\n",
    "nombre_recovered    18507\n",
    "Name: 69, dtype: int64"
   ]
  },
  {
   "cell_type": "markdown",
   "id": "2b6a8747",
   "metadata": {},
   "source": [
    "nombre_infected       177\n",
    "nombre_sain          1284\n",
    "nombre_exposed         85\n",
    "nombre_recovered    18454\n",
    "Name: 70, dtype: int64"
   ]
  },
  {
   "cell_type": "markdown",
   "id": "01fa51d6",
   "metadata": {},
   "source": [
    "nombre_infected       165\n",
    "nombre_sain          1331\n",
    "nombre_exposed         84\n",
    "nombre_recovered    18420\n",
    "Name: 71, dtype: int64"
   ]
  },
  {
   "cell_type": "markdown",
   "id": "ff29babd",
   "metadata": {},
   "source": [
    "nombre_infected       154\n",
    "nombre_sain          1367\n",
    "nombre_exposed         84\n",
    "nombre_recovered    18395\n",
    "Name: 72, dtype: int64"
   ]
  },
  {
   "cell_type": "markdown",
   "id": "2b705fe8",
   "metadata": {},
   "source": [
    "nombre_infected       150\n",
    "nombre_sain          1416\n",
    "nombre_exposed         76\n",
    "nombre_recovered    18358\n",
    "Name: 73, dtype: int64"
   ]
  },
  {
   "cell_type": "markdown",
   "id": "9baedd6f",
   "metadata": {},
   "source": [
    "nombre_infected       149\n",
    "nombre_sain          1474\n",
    "nombre_exposed         79\n",
    "nombre_recovered    18298\n",
    "Name: 74, dtype: int64"
   ]
  },
  {
   "cell_type": "markdown",
   "id": "e97ea805",
   "metadata": {},
   "source": [
    "nombre_infected       146\n",
    "nombre_sain          1515\n",
    "nombre_exposed         85\n",
    "nombre_recovered    18254\n",
    "Name: 75, dtype: int64"
   ]
  },
  {
   "cell_type": "markdown",
   "id": "dc96277a",
   "metadata": {},
   "source": [
    "nombre_infected       144\n",
    "nombre_sain          1551\n",
    "nombre_exposed         87\n",
    "nombre_recovered    18218\n",
    "Name: 76, dtype: int64"
   ]
  },
  {
   "cell_type": "markdown",
   "id": "93eb2efc",
   "metadata": {},
   "source": [
    "nombre_infected       145\n",
    "nombre_sain          1579\n",
    "nombre_exposed         92\n",
    "nombre_recovered    18184\n",
    "Name: 77, dtype: int64"
   ]
  },
  {
   "cell_type": "markdown",
   "id": "4dba3cc1",
   "metadata": {},
   "source": [
    "nombre_infected       146\n",
    "nombre_sain          1624\n",
    "nombre_exposed         98\n",
    "nombre_recovered    18132\n",
    "Name: 78, dtype: int64"
   ]
  },
  {
   "cell_type": "markdown",
   "id": "0aa3c723",
   "metadata": {},
   "source": [
    "nombre_infected       143\n",
    "nombre_sain          1676\n",
    "nombre_exposed        101\n",
    "nombre_recovered    18080\n",
    "Name: 79, dtype: int64"
   ]
  },
  {
   "cell_type": "markdown",
   "id": "5997c82b",
   "metadata": {},
   "source": [
    "nombre_infected       142\n",
    "nombre_sain          1720\n",
    "nombre_exposed        100\n",
    "nombre_recovered    18038\n",
    "Name: 80, dtype: int64"
   ]
  },
  {
   "cell_type": "markdown",
   "id": "be172b2d",
   "metadata": {},
   "source": [
    "nombre_infected       150\n",
    "nombre_sain          1767\n",
    "nombre_exposed        100\n",
    "nombre_recovered    17983\n",
    "Name: 81, dtype: int64"
   ]
  },
  {
   "cell_type": "markdown",
   "id": "2875bcaa",
   "metadata": {},
   "source": [
    "nombre_infected       156\n",
    "nombre_sain          1820\n",
    "nombre_exposed         85\n",
    "nombre_recovered    17939\n",
    "Name: 82, dtype: int64"
   ]
  },
  {
   "cell_type": "markdown",
   "id": "266c4f56",
   "metadata": {},
   "source": [
    "nombre_infected       159\n",
    "nombre_sain          1859\n",
    "nombre_exposed         77\n",
    "nombre_recovered    17905\n",
    "Name: 83, dtype: int64"
   ]
  },
  {
   "cell_type": "markdown",
   "id": "a2c97151",
   "metadata": {},
   "source": [
    "nombre_infected       156\n",
    "nombre_sain          1910\n",
    "nombre_exposed         72\n",
    "nombre_recovered    17862\n",
    "Name: 84, dtype: int64"
   ]
  },
  {
   "cell_type": "markdown",
   "id": "7dc1b82d",
   "metadata": {},
   "source": [
    "nombre_infected       152\n",
    "nombre_sain          1950\n",
    "nombre_exposed         79\n",
    "nombre_recovered    17819\n",
    "Name: 85, dtype: int64"
   ]
  },
  {
   "cell_type": "markdown",
   "id": "b034cbb6",
   "metadata": {},
   "source": [
    "nombre_infected       152\n",
    "nombre_sain          1984\n",
    "nombre_exposed         81\n",
    "nombre_recovered    17783\n",
    "Name: 86, dtype: int64"
   ]
  },
  {
   "cell_type": "markdown",
   "id": "7cda675e",
   "metadata": {},
   "source": [
    "nombre_infected       146\n",
    "nombre_sain          2011\n",
    "nombre_exposed         99\n",
    "nombre_recovered    17744\n",
    "Name: 87, dtype: int64"
   ]
  },
  {
   "cell_type": "markdown",
   "id": "787b8353",
   "metadata": {},
   "source": [
    "nombre_infected       145\n",
    "nombre_sain          2038\n",
    "nombre_exposed         98\n",
    "nombre_recovered    17719\n",
    "Name: 88, dtype: int64"
   ]
  },
  {
   "cell_type": "markdown",
   "id": "925ee1ca",
   "metadata": {},
   "source": [
    "nombre_infected       153\n",
    "nombre_sain          2067\n",
    "nombre_exposed         94\n",
    "nombre_recovered    17686\n",
    "Name: 89, dtype: int64"
   ]
  },
  {
   "cell_type": "markdown",
   "id": "ca405438",
   "metadata": {},
   "source": [
    "nombre_infected       148\n",
    "nombre_sain          2094\n",
    "nombre_exposed         97\n",
    "nombre_recovered    17661\n",
    "Name: 90, dtype: int64"
   ]
  },
  {
   "cell_type": "markdown",
   "id": "e9484ada",
   "metadata": {},
   "source": [
    "nombre_infected       140\n",
    "nombre_sain          2119\n",
    "nombre_exposed        114\n",
    "nombre_recovered    17627\n",
    "Name: 91, dtype: int64"
   ]
  },
  {
   "cell_type": "markdown",
   "id": "916c7f61",
   "metadata": {},
   "source": [
    "nombre_infected       133\n",
    "nombre_sain          2157\n",
    "nombre_exposed        110\n",
    "nombre_recovered    17600\n",
    "Name: 92, dtype: int64"
   ]
  },
  {
   "cell_type": "markdown",
   "id": "2ca0c92f",
   "metadata": {},
   "source": [
    "nombre_infected       139\n",
    "nombre_sain          2196\n",
    "nombre_exposed        107\n",
    "nombre_recovered    17558\n",
    "Name: 93, dtype: int64"
   ]
  },
  {
   "cell_type": "markdown",
   "id": "1fb11e2b",
   "metadata": {},
   "source": [
    "nombre_infected       136\n",
    "nombre_sain          2219\n",
    "nombre_exposed        101\n",
    "nombre_recovered    17544\n",
    "Name: 94, dtype: int64"
   ]
  },
  {
   "cell_type": "markdown",
   "id": "646a8ebd",
   "metadata": {},
   "source": [
    "nombre_infected       130\n",
    "nombre_sain          2237\n",
    "nombre_exposed        105\n",
    "nombre_recovered    17528\n",
    "Name: 95, dtype: int64"
   ]
  },
  {
   "cell_type": "markdown",
   "id": "6fcc820f",
   "metadata": {},
   "source": [
    "nombre_infected       129\n",
    "nombre_sain          2264\n",
    "nombre_exposed        111\n",
    "nombre_recovered    17496\n",
    "Name: 96, dtype: int64"
   ]
  },
  {
   "cell_type": "markdown",
   "id": "8c0fca9e",
   "metadata": {},
   "source": [
    "nombre_infected       126\n",
    "nombre_sain          2296\n",
    "nombre_exposed        106\n",
    "nombre_recovered    17472\n",
    "Name: 97, dtype: int64"
   ]
  },
  {
   "cell_type": "markdown",
   "id": "d39be192",
   "metadata": {},
   "source": [
    "nombre_infected       141\n",
    "nombre_sain          2317\n",
    "nombre_exposed        100\n",
    "nombre_recovered    17442\n",
    "Name: 98, dtype: int64"
   ]
  },
  {
   "cell_type": "markdown",
   "id": "c3835eb3",
   "metadata": {},
   "source": [
    "nombre_infected       135\n",
    "nombre_sain          2340\n",
    "nombre_exposed        104\n",
    "nombre_recovered    17421\n",
    "Name: 99, dtype: int64"
   ]
  },
  {
   "cell_type": "markdown",
   "id": "28b5510b",
   "metadata": {},
   "source": [
    "nombre_infected       135\n",
    "nombre_sain          2367\n",
    "nombre_exposed        104\n",
    "nombre_recovered    17394\n",
    "Name: 100, dtype: int64"
   ]
  },
  {
   "cell_type": "markdown",
   "id": "f75ea9fa",
   "metadata": {},
   "source": [
    "nombre_infected       140\n",
    "nombre_sain          2406\n",
    "nombre_exposed         91\n",
    "nombre_recovered    17363\n",
    "Name: 101, dtype: int64"
   ]
  },
  {
   "cell_type": "markdown",
   "id": "6191ffb6",
   "metadata": {},
   "source": [
    "nombre_infected       128\n",
    "nombre_sain          2412\n",
    "nombre_exposed        102\n",
    "nombre_recovered    17358\n",
    "Name: 102, dtype: int64"
   ]
  },
  {
   "cell_type": "markdown",
   "id": "e95c6473",
   "metadata": {},
   "source": [
    "nombre_infected       136\n",
    "nombre_sain          2434\n",
    "nombre_exposed         91\n",
    "nombre_recovered    17339\n",
    "Name: 103, dtype: int64"
   ]
  },
  {
   "cell_type": "markdown",
   "id": "fc9174a7",
   "metadata": {},
   "source": [
    "nombre_infected       137\n",
    "nombre_sain          2485\n",
    "nombre_exposed         91\n",
    "nombre_recovered    17287\n",
    "Name: 104, dtype: int64"
   ]
  },
  {
   "cell_type": "markdown",
   "id": "2da9a81c",
   "metadata": {},
   "source": [
    "nombre_infected       147\n",
    "nombre_sain          2510\n",
    "nombre_exposed         86\n",
    "nombre_recovered    17257\n",
    "Name: 105, dtype: int64"
   ]
  },
  {
   "cell_type": "markdown",
   "id": "9d9a9ffe",
   "metadata": {},
   "source": [
    "nombre_infected       155\n",
    "nombre_sain          2537\n",
    "nombre_exposed         75\n",
    "nombre_recovered    17233\n",
    "Name: 106, dtype: int64"
   ]
  },
  {
   "cell_type": "markdown",
   "id": "17c38d76",
   "metadata": {},
   "source": [
    "nombre_infected       151\n",
    "nombre_sain          2562\n",
    "nombre_exposed         80\n",
    "nombre_recovered    17207\n",
    "Name: 107, dtype: int64"
   ]
  },
  {
   "cell_type": "markdown",
   "id": "a22dfd17",
   "metadata": {},
   "source": [
    "nombre_infected       143\n",
    "nombre_sain          2590\n",
    "nombre_exposed         90\n",
    "nombre_recovered    17177\n",
    "Name: 108, dtype: int64"
   ]
  },
  {
   "cell_type": "markdown",
   "id": "2e868201",
   "metadata": {},
   "source": [
    "nombre_infected       137\n",
    "nombre_sain          2618\n",
    "nombre_exposed         92\n",
    "nombre_recovered    17153\n",
    "Name: 109, dtype: int64"
   ]
  },
  {
   "cell_type": "markdown",
   "id": "0bd62508",
   "metadata": {},
   "source": [
    "nombre_infected       122\n",
    "nombre_sain          2646\n",
    "nombre_exposed        101\n",
    "nombre_recovered    17131\n",
    "Name: 110, dtype: int64"
   ]
  },
  {
   "cell_type": "markdown",
   "id": "5ce69663",
   "metadata": {},
   "source": [
    "nombre_infected       123\n",
    "nombre_sain          2686\n",
    "nombre_exposed        107\n",
    "nombre_recovered    17084\n",
    "Name: 111, dtype: int64"
   ]
  },
  {
   "cell_type": "markdown",
   "id": "9a0e5c78",
   "metadata": {},
   "source": [
    "nombre_infected       128\n",
    "nombre_sain          2720\n",
    "nombre_exposed        106\n",
    "nombre_recovered    17046\n",
    "Name: 112, dtype: int64"
   ]
  },
  {
   "cell_type": "markdown",
   "id": "26d7da23",
   "metadata": {},
   "source": [
    "nombre_infected       138\n",
    "nombre_sain          2758\n",
    "nombre_exposed        104\n",
    "nombre_recovered    17000\n",
    "Name: 113, dtype: int64"
   ]
  },
  {
   "cell_type": "markdown",
   "id": "67c5ba85",
   "metadata": {},
   "source": [
    "nombre_infected       131\n",
    "nombre_sain          2775\n",
    "nombre_exposed        113\n",
    "nombre_recovered    16981\n",
    "Name: 114, dtype: int64"
   ]
  },
  {
   "cell_type": "markdown",
   "id": "e183766b",
   "metadata": {},
   "source": [
    "nombre_infected       132\n",
    "nombre_sain          2812\n",
    "nombre_exposed        102\n",
    "nombre_recovered    16954\n",
    "Name: 115, dtype: int64"
   ]
  },
  {
   "cell_type": "markdown",
   "id": "9f11964b",
   "metadata": {},
   "source": [
    "nombre_infected       124\n",
    "nombre_sain          2854\n",
    "nombre_exposed        112\n",
    "nombre_recovered    16910\n",
    "Name: 116, dtype: int64"
   ]
  },
  {
   "cell_type": "markdown",
   "id": "a1d6f875",
   "metadata": {},
   "source": [
    "nombre_infected       129\n",
    "nombre_sain          2875\n",
    "nombre_exposed        120\n",
    "nombre_recovered    16876\n",
    "Name: 117, dtype: int64"
   ]
  },
  {
   "cell_type": "markdown",
   "id": "f8b1ec7f",
   "metadata": {},
   "source": [
    "nombre_infected       137\n",
    "nombre_sain          2912\n",
    "nombre_exposed        126\n",
    "nombre_recovered    16825\n",
    "Name: 118, dtype: int64"
   ]
  },
  {
   "cell_type": "markdown",
   "id": "622498d8",
   "metadata": {},
   "source": [
    "nombre_infected       140\n",
    "nombre_sain          2950\n",
    "nombre_exposed        134\n",
    "nombre_recovered    16776\n",
    "Name: 119, dtype: int64"
   ]
  },
  {
   "cell_type": "markdown",
   "id": "0cd75cdc",
   "metadata": {},
   "source": [
    "nombre_infected       147\n",
    "nombre_sain          2976\n",
    "nombre_exposed        135\n",
    "nombre_recovered    16742\n",
    "Name: 120, dtype: int64"
   ]
  },
  {
   "cell_type": "markdown",
   "id": "3d2f3930",
   "metadata": {},
   "source": [
    "nombre_infected       158\n",
    "nombre_sain          2998\n",
    "nombre_exposed        140\n",
    "nombre_recovered    16704\n",
    "Name: 121, dtype: int64"
   ]
  },
  {
   "cell_type": "markdown",
   "id": "e7069c32",
   "metadata": {},
   "source": [
    "nombre_infected       158\n",
    "nombre_sain          3024\n",
    "nombre_exposed        148\n",
    "nombre_recovered    16670\n",
    "Name: 122, dtype: int64"
   ]
  },
  {
   "cell_type": "markdown",
   "id": "608708c8",
   "metadata": {},
   "source": [
    "nombre_infected       158\n",
    "nombre_sain          3046\n",
    "nombre_exposed        148\n",
    "nombre_recovered    16648\n",
    "Name: 123, dtype: int64"
   ]
  },
  {
   "cell_type": "markdown",
   "id": "e8536f62",
   "metadata": {},
   "source": [
    "nombre_infected       166\n",
    "nombre_sain          3041\n",
    "nombre_exposed        166\n",
    "nombre_recovered    16627\n",
    "Name: 124, dtype: int64"
   ]
  },
  {
   "cell_type": "markdown",
   "id": "eb9a10c4",
   "metadata": {},
   "source": [
    "nombre_infected       167\n",
    "nombre_sain          3060\n",
    "nombre_exposed        175\n",
    "nombre_recovered    16598\n",
    "Name: 125, dtype: int64"
   ]
  },
  {
   "cell_type": "markdown",
   "id": "9987a31c",
   "metadata": {},
   "source": [
    "nombre_infected       172\n",
    "nombre_sain          3074\n",
    "nombre_exposed        189\n",
    "nombre_recovered    16565\n",
    "Name: 126, dtype: int64"
   ]
  },
  {
   "cell_type": "markdown",
   "id": "112a089c",
   "metadata": {},
   "source": [
    "nombre_infected       196\n",
    "nombre_sain          3092\n",
    "nombre_exposed        180\n",
    "nombre_recovered    16532\n",
    "Name: 127, dtype: int64"
   ]
  },
  {
   "cell_type": "markdown",
   "id": "6cf4124f",
   "metadata": {},
   "source": [
    "nombre_infected       202\n",
    "nombre_sain          3090\n",
    "nombre_exposed        184\n",
    "nombre_recovered    16524\n",
    "Name: 128, dtype: int64"
   ]
  },
  {
   "cell_type": "markdown",
   "id": "e1e9b8cc",
   "metadata": {},
   "source": [
    "nombre_infected       217\n",
    "nombre_sain          3092\n",
    "nombre_exposed        193\n",
    "nombre_recovered    16498\n",
    "Name: 129, dtype: int64"
   ]
  },
  {
   "cell_type": "markdown",
   "id": "77fe7486",
   "metadata": {},
   "source": [
    "nombre_infected       211\n",
    "nombre_sain          3119\n",
    "nombre_exposed        192\n",
    "nombre_recovered    16478\n",
    "Name: 130, dtype: int64"
   ]
  },
  {
   "cell_type": "markdown",
   "id": "b0e05511",
   "metadata": {},
   "source": [
    "nombre_infected       208\n",
    "nombre_sain          3128\n",
    "nombre_exposed        208\n",
    "nombre_recovered    16456\n",
    "Name: 131, dtype: int64"
   ]
  },
  {
   "cell_type": "markdown",
   "id": "f4255662",
   "metadata": {},
   "source": [
    "nombre_infected       229\n",
    "nombre_sain          3145\n",
    "nombre_exposed        188\n",
    "nombre_recovered    16438\n",
    "Name: 132, dtype: int64"
   ]
  },
  {
   "cell_type": "markdown",
   "id": "21ca8d1b",
   "metadata": {},
   "source": [
    "nombre_infected       233\n",
    "nombre_sain          3149\n",
    "nombre_exposed        194\n",
    "nombre_recovered    16424\n",
    "Name: 133, dtype: int64"
   ]
  },
  {
   "cell_type": "markdown",
   "id": "4d6f89c4",
   "metadata": {},
   "source": [
    "nombre_infected       238\n",
    "nombre_sain          3164\n",
    "nombre_exposed        195\n",
    "nombre_recovered    16403\n",
    "Name: 134, dtype: int64"
   ]
  },
  {
   "cell_type": "markdown",
   "id": "ea773809",
   "metadata": {},
   "source": [
    "nombre_infected       239\n",
    "nombre_sain          3150\n",
    "nombre_exposed        207\n",
    "nombre_recovered    16404\n",
    "Name: 135, dtype: int64"
   ]
  },
  {
   "cell_type": "markdown",
   "id": "0b816885",
   "metadata": {},
   "source": [
    "nombre_infected       236\n",
    "nombre_sain          3136\n",
    "nombre_exposed        223\n",
    "nombre_recovered    16405\n",
    "Name: 136, dtype: int64"
   ]
  },
  {
   "cell_type": "markdown",
   "id": "8abc9ced",
   "metadata": {},
   "source": [
    "nombre_infected       252\n",
    "nombre_sain          3162\n",
    "nombre_exposed        219\n",
    "nombre_recovered    16367\n",
    "Name: 137, dtype: int64"
   ]
  },
  {
   "cell_type": "markdown",
   "id": "5f864b35",
   "metadata": {},
   "source": [
    "nombre_infected       246\n",
    "nombre_sain          3159\n",
    "nombre_exposed        231\n",
    "nombre_recovered    16364\n",
    "Name: 138, dtype: int64"
   ]
  },
  {
   "cell_type": "markdown",
   "id": "d87cdbac",
   "metadata": {},
   "source": [
    "nombre_infected       243\n",
    "nombre_sain          3173\n",
    "nombre_exposed        245\n",
    "nombre_recovered    16339\n",
    "Name: 139, dtype: int64"
   ]
  },
  {
   "cell_type": "markdown",
   "id": "db193902",
   "metadata": {},
   "source": [
    "nombre_infected       243\n",
    "nombre_sain          3181\n",
    "nombre_exposed        239\n",
    "nombre_recovered    16337\n",
    "Name: 140, dtype: int64"
   ]
  },
  {
   "cell_type": "markdown",
   "id": "5c7940be",
   "metadata": {},
   "source": [
    "nombre_infected       260\n",
    "nombre_sain          3204\n",
    "nombre_exposed        232\n",
    "nombre_recovered    16304\n",
    "Name: 141, dtype: int64"
   ]
  },
  {
   "cell_type": "markdown",
   "id": "e9cbb80a",
   "metadata": {},
   "source": [
    "nombre_infected       276\n",
    "nombre_sain          3218\n",
    "nombre_exposed        227\n",
    "nombre_recovered    16279\n",
    "Name: 142, dtype: int64"
   ]
  },
  {
   "cell_type": "markdown",
   "id": "13afb8ec",
   "metadata": {},
   "source": [
    "nombre_infected       276\n",
    "nombre_sain          3220\n",
    "nombre_exposed        252\n",
    "nombre_recovered    16252\n",
    "Name: 143, dtype: int64"
   ]
  },
  {
   "cell_type": "markdown",
   "id": "5de8d09e",
   "metadata": {},
   "source": [
    "nombre_infected       287\n",
    "nombre_sain          3237\n",
    "nombre_exposed        259\n",
    "nombre_recovered    16217\n",
    "Name: 144, dtype: int64"
   ]
  },
  {
   "cell_type": "markdown",
   "id": "45a24cff",
   "metadata": {},
   "source": [
    "nombre_infected       293\n",
    "nombre_sain          3247\n",
    "nombre_exposed        276\n",
    "nombre_recovered    16184\n",
    "Name: 145, dtype: int64"
   ]
  },
  {
   "cell_type": "markdown",
   "id": "f0055a35",
   "metadata": {},
   "source": [
    "nombre_infected       302\n",
    "nombre_sain          3254\n",
    "nombre_exposed        290\n",
    "nombre_recovered    16154\n",
    "Name: 146, dtype: int64"
   ]
  },
  {
   "cell_type": "markdown",
   "id": "925e7f22",
   "metadata": {},
   "source": [
    "nombre_infected       319\n",
    "nombre_sain          3261\n",
    "nombre_exposed        307\n",
    "nombre_recovered    16113\n",
    "Name: 147, dtype: int64"
   ]
  },
  {
   "cell_type": "markdown",
   "id": "53c4a035",
   "metadata": {},
   "source": [
    "nombre_infected       326\n",
    "nombre_sain          3246\n",
    "nombre_exposed        330\n",
    "nombre_recovered    16098\n",
    "Name: 148, dtype: int64"
   ]
  },
  {
   "cell_type": "markdown",
   "id": "7635de32",
   "metadata": {},
   "source": [
    "nombre_infected       343\n",
    "nombre_sain          3234\n",
    "nombre_exposed        359\n",
    "nombre_recovered    16064\n",
    "Name: 149, dtype: int64"
   ]
  },
  {
   "cell_type": "markdown",
   "id": "e4a66002",
   "metadata": {},
   "source": [
    "nombre_infected       365\n",
    "nombre_sain          3234\n",
    "nombre_exposed        368\n",
    "nombre_recovered    16033\n",
    "Name: 150, dtype: int64"
   ]
  },
  {
   "cell_type": "markdown",
   "id": "ae9549a5",
   "metadata": {},
   "source": [
    "nombre_infected       393\n",
    "nombre_sain          3249\n",
    "nombre_exposed        349\n",
    "nombre_recovered    16009\n",
    "Name: 151, dtype: int64"
   ]
  },
  {
   "cell_type": "markdown",
   "id": "a3c3e5ad",
   "metadata": {},
   "source": [
    "nombre_infected       424\n",
    "nombre_sain          3249\n",
    "nombre_exposed        345\n",
    "nombre_recovered    15982\n",
    "Name: 152, dtype: int64"
   ]
  },
  {
   "cell_type": "markdown",
   "id": "7aaaf126",
   "metadata": {},
   "source": [
    "nombre_infected       439\n",
    "nombre_sain          3250\n",
    "nombre_exposed        362\n",
    "nombre_recovered    15949\n",
    "Name: 153, dtype: int64"
   ]
  },
  {
   "cell_type": "markdown",
   "id": "fee910aa",
   "metadata": {},
   "source": [
    "nombre_infected       457\n",
    "nombre_sain          3255\n",
    "nombre_exposed        390\n",
    "nombre_recovered    15898\n",
    "Name: 154, dtype: int64"
   ]
  },
  {
   "cell_type": "markdown",
   "id": "949260cc",
   "metadata": {},
   "source": [
    "nombre_infected       467\n",
    "nombre_sain          3249\n",
    "nombre_exposed        401\n",
    "nombre_recovered    15883\n",
    "Name: 155, dtype: int64"
   ]
  },
  {
   "cell_type": "markdown",
   "id": "98c2d77a",
   "metadata": {},
   "source": [
    "nombre_infected       464\n",
    "nombre_sain          3244\n",
    "nombre_exposed        407\n",
    "nombre_recovered    15885\n",
    "Name: 156, dtype: int64"
   ]
  },
  {
   "cell_type": "markdown",
   "id": "3c6fb597",
   "metadata": {},
   "source": [
    "nombre_infected       473\n",
    "nombre_sain          3193\n",
    "nombre_exposed        435\n",
    "nombre_recovered    15899\n",
    "Name: 157, dtype: int64"
   ]
  },
  {
   "cell_type": "markdown",
   "id": "31e5baa7",
   "metadata": {},
   "source": [
    "nombre_infected       488\n",
    "nombre_sain          3152\n",
    "nombre_exposed        462\n",
    "nombre_recovered    15898\n",
    "Name: 158, dtype: int64"
   ]
  },
  {
   "cell_type": "markdown",
   "id": "4c66eb76",
   "metadata": {},
   "source": [
    "nombre_infected       525\n",
    "nombre_sain          3148\n",
    "nombre_exposed        449\n",
    "nombre_recovered    15878\n",
    "Name: 159, dtype: int64"
   ]
  },
  {
   "cell_type": "markdown",
   "id": "12a2f176",
   "metadata": {},
   "source": [
    "nombre_infected       542\n",
    "nombre_sain          3117\n",
    "nombre_exposed        453\n",
    "nombre_recovered    15888\n",
    "Name: 160, dtype: int64"
   ]
  },
  {
   "cell_type": "markdown",
   "id": "e078fc2f",
   "metadata": {},
   "source": [
    "nombre_infected       573\n",
    "nombre_sain          3088\n",
    "nombre_exposed        463\n",
    "nombre_recovered    15876\n",
    "Name: 161, dtype: int64"
   ]
  },
  {
   "cell_type": "markdown",
   "id": "e13ae70f",
   "metadata": {},
   "source": [
    "nombre_infected       583\n",
    "nombre_sain          3038\n",
    "nombre_exposed        485\n",
    "nombre_recovered    15894\n",
    "Name: 162, dtype: int64"
   ]
  },
  {
   "cell_type": "markdown",
   "id": "08e792be",
   "metadata": {},
   "source": [
    "nombre_infected       587\n",
    "nombre_sain          2981\n",
    "nombre_exposed        503\n",
    "nombre_recovered    15929\n",
    "Name: 163, dtype: int64"
   ]
  },
  {
   "cell_type": "markdown",
   "id": "5f44f0ba",
   "metadata": {},
   "source": [
    "nombre_infected       577\n",
    "nombre_sain          2936\n",
    "nombre_exposed        532\n",
    "nombre_recovered    15955\n",
    "Name: 164, dtype: int64"
   ]
  },
  {
   "cell_type": "markdown",
   "id": "550a0407",
   "metadata": {},
   "source": [
    "nombre_infected       586\n",
    "nombre_sain          2907\n",
    "nombre_exposed        536\n",
    "nombre_recovered    15971\n",
    "Name: 165, dtype: int64"
   ]
  },
  {
   "cell_type": "markdown",
   "id": "387b4310",
   "metadata": {},
   "source": [
    "nombre_infected       617\n",
    "nombre_sain          2877\n",
    "nombre_exposed        522\n",
    "nombre_recovered    15984\n",
    "Name: 166, dtype: int64"
   ]
  },
  {
   "cell_type": "markdown",
   "id": "efedf32c",
   "metadata": {},
   "source": [
    "nombre_infected       627\n",
    "nombre_sain          2823\n",
    "nombre_exposed        536\n",
    "nombre_recovered    16014\n",
    "Name: 167, dtype: int64"
   ]
  },
  {
   "cell_type": "markdown",
   "id": "fc845932",
   "metadata": {},
   "source": [
    "nombre_infected       659\n",
    "nombre_sain          2782\n",
    "nombre_exposed        537\n",
    "nombre_recovered    16022\n",
    "Name: 168, dtype: int64"
   ]
  },
  {
   "cell_type": "markdown",
   "id": "0a9a3202",
   "metadata": {},
   "source": [
    "nombre_infected       665\n",
    "nombre_sain          2726\n",
    "nombre_exposed        532\n",
    "nombre_recovered    16077\n",
    "Name: 169, dtype: int64"
   ]
  },
  {
   "cell_type": "markdown",
   "id": "401439eb",
   "metadata": {},
   "source": [
    "nombre_infected       660\n",
    "nombre_sain          2660\n",
    "nombre_exposed        540\n",
    "nombre_recovered    16140\n",
    "Name: 170, dtype: int64"
   ]
  },
  {
   "cell_type": "markdown",
   "id": "259831ca",
   "metadata": {},
   "source": [
    "nombre_infected       654\n",
    "nombre_sain          2617\n",
    "nombre_exposed        547\n",
    "nombre_recovered    16182\n",
    "Name: 171, dtype: int64"
   ]
  },
  {
   "cell_type": "markdown",
   "id": "2d915f90",
   "metadata": {},
   "source": [
    "nombre_infected       630\n",
    "nombre_sain          2563\n",
    "nombre_exposed        550\n",
    "nombre_recovered    16257\n",
    "Name: 172, dtype: int64"
   ]
  },
  {
   "cell_type": "markdown",
   "id": "701ce93c",
   "metadata": {},
   "source": [
    "nombre_infected       646\n",
    "nombre_sain          2512\n",
    "nombre_exposed        551\n",
    "nombre_recovered    16291\n",
    "Name: 173, dtype: int64"
   ]
  },
  {
   "cell_type": "markdown",
   "id": "07b9d4c8",
   "metadata": {},
   "source": [
    "nombre_infected       666\n",
    "nombre_sain          2453\n",
    "nombre_exposed        544\n",
    "nombre_recovered    16337\n",
    "Name: 174, dtype: int64"
   ]
  },
  {
   "cell_type": "markdown",
   "id": "194dda62",
   "metadata": {},
   "source": [
    "nombre_infected       664\n",
    "nombre_sain          2422\n",
    "nombre_exposed        539\n",
    "nombre_recovered    16375\n",
    "Name: 175, dtype: int64"
   ]
  },
  {
   "cell_type": "markdown",
   "id": "9fcacdc3",
   "metadata": {},
   "source": [
    "nombre_infected       673\n",
    "nombre_sain          2410\n",
    "nombre_exposed        507\n",
    "nombre_recovered    16410\n",
    "Name: 176, dtype: int64"
   ]
  },
  {
   "cell_type": "markdown",
   "id": "4bcbbf60",
   "metadata": {},
   "source": [
    "nombre_infected       676\n",
    "nombre_sain          2374\n",
    "nombre_exposed        508\n",
    "nombre_recovered    16442\n",
    "Name: 177, dtype: int64"
   ]
  },
  {
   "cell_type": "markdown",
   "id": "84ab3cc3",
   "metadata": {},
   "source": [
    "nombre_infected       665\n",
    "nombre_sain          2375\n",
    "nombre_exposed        505\n",
    "nombre_recovered    16455\n",
    "Name: 178, dtype: int64"
   ]
  },
  {
   "cell_type": "markdown",
   "id": "8da47e79",
   "metadata": {},
   "source": [
    "nombre_infected       673\n",
    "nombre_sain          2372\n",
    "nombre_exposed        496\n",
    "nombre_recovered    16459\n",
    "Name: 179, dtype: int64"
   ]
  },
  {
   "cell_type": "markdown",
   "id": "36617774",
   "metadata": {},
   "source": [
    "nombre_infected       694\n",
    "nombre_sain          2356\n",
    "nombre_exposed        499\n",
    "nombre_recovered    16451\n",
    "Name: 180, dtype: int64"
   ]
  },
  {
   "cell_type": "markdown",
   "id": "03dad721",
   "metadata": {},
   "source": [
    "nombre_infected       698\n",
    "nombre_sain          2340\n",
    "nombre_exposed        486\n",
    "nombre_recovered    16476\n",
    "Name: 181, dtype: int64"
   ]
  },
  {
   "cell_type": "markdown",
   "id": "3223397e",
   "metadata": {},
   "source": [
    "nombre_infected       722\n",
    "nombre_sain          2316\n",
    "nombre_exposed        474\n",
    "nombre_recovered    16488\n",
    "Name: 182, dtype: int64"
   ]
  },
  {
   "cell_type": "markdown",
   "id": "29d0485c",
   "metadata": {},
   "source": [
    "nombre_infected       699\n",
    "nombre_sain          2283\n",
    "nombre_exposed        481\n",
    "nombre_recovered    16537\n",
    "Name: 183, dtype: int64"
   ]
  },
  {
   "cell_type": "markdown",
   "id": "789bf975",
   "metadata": {},
   "source": [
    "nombre_infected       685\n",
    "nombre_sain          2273\n",
    "nombre_exposed        490\n",
    "nombre_recovered    16552\n",
    "Name: 184, dtype: int64"
   ]
  },
  {
   "cell_type": "markdown",
   "id": "4fc095c8",
   "metadata": {},
   "source": [
    "nombre_infected       694\n",
    "nombre_sain          2259\n",
    "nombre_exposed        483\n",
    "nombre_recovered    16564\n",
    "Name: 185, dtype: int64"
   ]
  },
  {
   "cell_type": "markdown",
   "id": "b69c6a60",
   "metadata": {},
   "source": [
    "nombre_infected       704\n",
    "nombre_sain          2242\n",
    "nombre_exposed        482\n",
    "nombre_recovered    16572\n",
    "Name: 186, dtype: int64"
   ]
  },
  {
   "cell_type": "markdown",
   "id": "e68e4223",
   "metadata": {},
   "source": [
    "nombre_infected       697\n",
    "nombre_sain          2243\n",
    "nombre_exposed        468\n",
    "nombre_recovered    16592\n",
    "Name: 187, dtype: int64"
   ]
  },
  {
   "cell_type": "markdown",
   "id": "62e5bc58",
   "metadata": {},
   "source": [
    "nombre_infected       700\n",
    "nombre_sain          2226\n",
    "nombre_exposed        474\n",
    "nombre_recovered    16600\n",
    "Name: 188, dtype: int64"
   ]
  },
  {
   "cell_type": "markdown",
   "id": "7e362a6e",
   "metadata": {},
   "source": [
    "nombre_infected       688\n",
    "nombre_sain          2208\n",
    "nombre_exposed        475\n",
    "nombre_recovered    16629\n",
    "Name: 189, dtype: int64"
   ]
  },
  {
   "cell_type": "markdown",
   "id": "a89eaa05",
   "metadata": {},
   "source": [
    "nombre_infected       681\n",
    "nombre_sain          2202\n",
    "nombre_exposed        458\n",
    "nombre_recovered    16659\n",
    "Name: 190, dtype: int64"
   ]
  },
  {
   "cell_type": "markdown",
   "id": "75cbc028",
   "metadata": {},
   "source": [
    "nombre_infected       679\n",
    "nombre_sain          2171\n",
    "nombre_exposed        461\n",
    "nombre_recovered    16689\n",
    "Name: 191, dtype: int64"
   ]
  },
  {
   "cell_type": "markdown",
   "id": "736b064d",
   "metadata": {},
   "source": [
    "nombre_infected       676\n",
    "nombre_sain          2171\n",
    "nombre_exposed        443\n",
    "nombre_recovered    16710\n",
    "Name: 192, dtype: int64"
   ]
  },
  {
   "cell_type": "markdown",
   "id": "bb89245e",
   "metadata": {},
   "source": [
    "nombre_infected       647\n",
    "nombre_sain          2146\n",
    "nombre_exposed        455\n",
    "nombre_recovered    16752\n",
    "Name: 193, dtype: int64"
   ]
  },
  {
   "cell_type": "markdown",
   "id": "442a12da",
   "metadata": {},
   "source": [
    "nombre_infected       650\n",
    "nombre_sain          2136\n",
    "nombre_exposed        432\n",
    "nombre_recovered    16782\n",
    "Name: 194, dtype: int64"
   ]
  },
  {
   "cell_type": "markdown",
   "id": "a4770c50",
   "metadata": {},
   "source": [
    "nombre_infected       632\n",
    "nombre_sain          2120\n",
    "nombre_exposed        425\n",
    "nombre_recovered    16823\n",
    "Name: 195, dtype: int64"
   ]
  },
  {
   "cell_type": "markdown",
   "id": "d24d0fce",
   "metadata": {},
   "source": [
    "nombre_infected       626\n",
    "nombre_sain          2104\n",
    "nombre_exposed        425\n",
    "nombre_recovered    16845\n",
    "Name: 196, dtype: int64"
   ]
  },
  {
   "cell_type": "markdown",
   "id": "0a4581b6",
   "metadata": {},
   "source": [
    "nombre_infected       623\n",
    "nombre_sain          2108\n",
    "nombre_exposed        414\n",
    "nombre_recovered    16855\n",
    "Name: 197, dtype: int64"
   ]
  },
  {
   "cell_type": "markdown",
   "id": "ddeedafc",
   "metadata": {},
   "source": [
    "nombre_infected       632\n",
    "nombre_sain          2104\n",
    "nombre_exposed        381\n",
    "nombre_recovered    16883\n",
    "Name: 198, dtype: int64"
   ]
  },
  {
   "cell_type": "markdown",
   "id": "6a144d07",
   "metadata": {},
   "source": [
    "nombre_infected       643\n",
    "nombre_sain          2126\n",
    "nombre_exposed        356\n",
    "nombre_recovered    16875\n",
    "Name: 199, dtype: int64"
   ]
  },
  {
   "cell_type": "markdown",
   "id": "1598429a",
   "metadata": {},
   "source": [
    "nombre_infected       640\n",
    "nombre_sain          2126\n",
    "nombre_exposed        350\n",
    "nombre_recovered    16884\n",
    "Name: 200, dtype: int64"
   ]
  },
  {
   "cell_type": "markdown",
   "id": "57521e26",
   "metadata": {},
   "source": [
    "nombre_infected       618\n",
    "nombre_sain          2129\n",
    "nombre_exposed        361\n",
    "nombre_recovered    16892\n",
    "Name: 201, dtype: int64"
   ]
  },
  {
   "cell_type": "markdown",
   "id": "23633cc7",
   "metadata": {},
   "source": [
    "nombre_infected       597\n",
    "nombre_sain          2126\n",
    "nombre_exposed        371\n",
    "nombre_recovered    16906\n",
    "Name: 202, dtype: int64"
   ]
  },
  {
   "cell_type": "markdown",
   "id": "9480474e",
   "metadata": {},
   "source": [
    "nombre_infected       564\n",
    "nombre_sain          2134\n",
    "nombre_exposed        370\n",
    "nombre_recovered    16932\n",
    "Name: 203, dtype: int64"
   ]
  },
  {
   "cell_type": "markdown",
   "id": "3e169fbb",
   "metadata": {},
   "source": [
    "nombre_infected       560\n",
    "nombre_sain          2149\n",
    "nombre_exposed        369\n",
    "nombre_recovered    16922\n",
    "Name: 204, dtype: int64"
   ]
  },
  {
   "cell_type": "markdown",
   "id": "16b48a95",
   "metadata": {},
   "source": [
    "nombre_infected       557\n",
    "nombre_sain          2132\n",
    "nombre_exposed        369\n",
    "nombre_recovered    16942\n",
    "Name: 205, dtype: int64"
   ]
  },
  {
   "cell_type": "markdown",
   "id": "f48c0ffc",
   "metadata": {},
   "source": [
    "nombre_infected       562\n",
    "nombre_sain          2159\n",
    "nombre_exposed        340\n",
    "nombre_recovered    16939\n",
    "Name: 206, dtype: int64"
   ]
  },
  {
   "cell_type": "markdown",
   "id": "62375740",
   "metadata": {},
   "source": [
    "nombre_infected       559\n",
    "nombre_sain          2158\n",
    "nombre_exposed        333\n",
    "nombre_recovered    16950\n",
    "Name: 207, dtype: int64"
   ]
  },
  {
   "cell_type": "markdown",
   "id": "d18f0c0c",
   "metadata": {},
   "source": [
    "nombre_infected       521\n",
    "nombre_sain          2165\n",
    "nombre_exposed        344\n",
    "nombre_recovered    16970\n",
    "Name: 208, dtype: int64"
   ]
  },
  {
   "cell_type": "markdown",
   "id": "d2c241b7",
   "metadata": {},
   "source": [
    "nombre_infected       515\n",
    "nombre_sain          2189\n",
    "nombre_exposed        335\n",
    "nombre_recovered    16961\n",
    "Name: 209, dtype: int64"
   ]
  },
  {
   "cell_type": "markdown",
   "id": "2e856594",
   "metadata": {},
   "source": [
    "nombre_infected       516\n",
    "nombre_sain          2193\n",
    "nombre_exposed        327\n",
    "nombre_recovered    16964\n",
    "Name: 210, dtype: int64"
   ]
  },
  {
   "cell_type": "markdown",
   "id": "3cd36bbe",
   "metadata": {},
   "source": [
    "nombre_infected       529\n",
    "nombre_sain          2212\n",
    "nombre_exposed        311\n",
    "nombre_recovered    16948\n",
    "Name: 211, dtype: int64"
   ]
  },
  {
   "cell_type": "markdown",
   "id": "08640574",
   "metadata": {},
   "source": [
    "nombre_infected       536\n",
    "nombre_sain          2231\n",
    "nombre_exposed        313\n",
    "nombre_recovered    16920\n",
    "Name: 212, dtype: int64"
   ]
  },
  {
   "cell_type": "markdown",
   "id": "7e167729",
   "metadata": {},
   "source": [
    "nombre_infected       551\n",
    "nombre_sain          2258\n",
    "nombre_exposed        301\n",
    "nombre_recovered    16890\n",
    "Name: 213, dtype: int64"
   ]
  },
  {
   "cell_type": "markdown",
   "id": "9b38cf7e",
   "metadata": {},
   "source": [
    "nombre_infected       537\n",
    "nombre_sain          2249\n",
    "nombre_exposed        321\n",
    "nombre_recovered    16893\n",
    "Name: 214, dtype: int64"
   ]
  },
  {
   "cell_type": "markdown",
   "id": "511d22fe",
   "metadata": {},
   "source": [
    "nombre_infected       536\n",
    "nombre_sain          2265\n",
    "nombre_exposed        320\n",
    "nombre_recovered    16879\n",
    "Name: 215, dtype: int64"
   ]
  },
  {
   "cell_type": "markdown",
   "id": "2a009d2f",
   "metadata": {},
   "source": [
    "nombre_infected       509\n",
    "nombre_sain          2274\n",
    "nombre_exposed        337\n",
    "nombre_recovered    16880\n",
    "Name: 216, dtype: int64"
   ]
  },
  {
   "cell_type": "markdown",
   "id": "7f6be069",
   "metadata": {},
   "source": [
    "nombre_infected       488\n",
    "nombre_sain          2276\n",
    "nombre_exposed        351\n",
    "nombre_recovered    16885\n",
    "Name: 217, dtype: int64"
   ]
  },
  {
   "cell_type": "markdown",
   "id": "63961400",
   "metadata": {},
   "source": [
    "nombre_infected       507\n",
    "nombre_sain          2313\n",
    "nombre_exposed        346\n",
    "nombre_recovered    16834\n",
    "Name: 218, dtype: int64"
   ]
  },
  {
   "cell_type": "markdown",
   "id": "665118be",
   "metadata": {},
   "source": [
    "nombre_infected       511\n",
    "nombre_sain          2364\n",
    "nombre_exposed        333\n",
    "nombre_recovered    16792\n",
    "Name: 219, dtype: int64"
   ]
  },
  {
   "cell_type": "markdown",
   "id": "e24664d9",
   "metadata": {},
   "source": [
    "nombre_infected       524\n",
    "nombre_sain          2380\n",
    "nombre_exposed        334\n",
    "nombre_recovered    16762\n",
    "Name: 220, dtype: int64"
   ]
  },
  {
   "cell_type": "markdown",
   "id": "6b3cf1c1",
   "metadata": {},
   "source": [
    "nombre_infected       520\n",
    "nombre_sain          2410\n",
    "nombre_exposed        327\n",
    "nombre_recovered    16743\n",
    "Name: 221, dtype: int64"
   ]
  },
  {
   "cell_type": "markdown",
   "id": "1dace8d7",
   "metadata": {},
   "source": [
    "nombre_infected       518\n",
    "nombre_sain          2434\n",
    "nombre_exposed        319\n",
    "nombre_recovered    16729\n",
    "Name: 222, dtype: int64"
   ]
  },
  {
   "cell_type": "markdown",
   "id": "21f30d95",
   "metadata": {},
   "source": [
    "nombre_infected       529\n",
    "nombre_sain          2474\n",
    "nombre_exposed        303\n",
    "nombre_recovered    16694\n",
    "Name: 223, dtype: int64"
   ]
  },
  {
   "cell_type": "markdown",
   "id": "db89da9c",
   "metadata": {},
   "source": [
    "nombre_infected       528\n",
    "nombre_sain          2495\n",
    "nombre_exposed        317\n",
    "nombre_recovered    16660\n",
    "Name: 224, dtype: int64"
   ]
  },
  {
   "cell_type": "markdown",
   "id": "cdb3e7b7",
   "metadata": {},
   "source": [
    "nombre_infected       536\n",
    "nombre_sain          2530\n",
    "nombre_exposed        317\n",
    "nombre_recovered    16617\n",
    "Name: 225, dtype: int64"
   ]
  },
  {
   "cell_type": "markdown",
   "id": "bbd17f2b",
   "metadata": {},
   "source": [
    "nombre_infected       535\n",
    "nombre_sain          2566\n",
    "nombre_exposed        337\n",
    "nombre_recovered    16562\n",
    "Name: 226, dtype: int64"
   ]
  },
  {
   "cell_type": "markdown",
   "id": "19968577",
   "metadata": {},
   "source": [
    "nombre_infected       521\n",
    "nombre_sain          2595\n",
    "nombre_exposed        351\n",
    "nombre_recovered    16533\n",
    "Name: 227, dtype: int64"
   ]
  },
  {
   "cell_type": "markdown",
   "id": "b843a41b",
   "metadata": {},
   "source": [
    "nombre_infected       510\n",
    "nombre_sain          2630\n",
    "nombre_exposed        357\n",
    "nombre_recovered    16503\n",
    "Name: 228, dtype: int64"
   ]
  },
  {
   "cell_type": "markdown",
   "id": "c02a8c01",
   "metadata": {},
   "source": [
    "nombre_infected       518\n",
    "nombre_sain          2654\n",
    "nombre_exposed        373\n",
    "nombre_recovered    16455\n",
    "Name: 229, dtype: int64"
   ]
  },
  {
   "cell_type": "markdown",
   "id": "9acc0af7",
   "metadata": {},
   "source": [
    "nombre_infected       516\n",
    "nombre_sain          2675\n",
    "nombre_exposed        379\n",
    "nombre_recovered    16430\n",
    "Name: 230, dtype: int64"
   ]
  },
  {
   "cell_type": "markdown",
   "id": "d6fec023",
   "metadata": {},
   "source": [
    "nombre_infected       527\n",
    "nombre_sain          2674\n",
    "nombre_exposed        381\n",
    "nombre_recovered    16418\n",
    "Name: 231, dtype: int64"
   ]
  },
  {
   "cell_type": "markdown",
   "id": "4f86bcf9",
   "metadata": {},
   "source": [
    "nombre_infected       533\n",
    "nombre_sain          2666\n",
    "nombre_exposed        404\n",
    "nombre_recovered    16397\n",
    "Name: 232, dtype: int64"
   ]
  },
  {
   "cell_type": "markdown",
   "id": "32de2948",
   "metadata": {},
   "source": [
    "nombre_infected       541\n",
    "nombre_sain          2673\n",
    "nombre_exposed        407\n",
    "nombre_recovered    16379\n",
    "Name: 233, dtype: int64"
   ]
  },
  {
   "cell_type": "markdown",
   "id": "f3812ad0",
   "metadata": {},
   "source": [
    "nombre_infected       554\n",
    "nombre_sain          2682\n",
    "nombre_exposed        399\n",
    "nombre_recovered    16365\n",
    "Name: 234, dtype: int64"
   ]
  },
  {
   "cell_type": "markdown",
   "id": "d970a906",
   "metadata": {},
   "source": [
    "nombre_infected       550\n",
    "nombre_sain          2696\n",
    "nombre_exposed        423\n",
    "nombre_recovered    16331\n",
    "Name: 235, dtype: int64"
   ]
  },
  {
   "cell_type": "markdown",
   "id": "df95e1bc",
   "metadata": {},
   "source": [
    "nombre_infected       588\n",
    "nombre_sain          2704\n",
    "nombre_exposed        418\n",
    "nombre_recovered    16290\n",
    "Name: 236, dtype: int64"
   ]
  },
  {
   "cell_type": "markdown",
   "id": "972b4f05",
   "metadata": {},
   "source": [
    "nombre_infected       610\n",
    "nombre_sain          2698\n",
    "nombre_exposed        416\n",
    "nombre_recovered    16276\n",
    "Name: 237, dtype: int64"
   ]
  },
  {
   "cell_type": "markdown",
   "id": "75e1aa8b",
   "metadata": {},
   "source": [
    "nombre_infected       619\n",
    "nombre_sain          2698\n",
    "nombre_exposed        419\n",
    "nombre_recovered    16264\n",
    "Name: 238, dtype: int64"
   ]
  },
  {
   "cell_type": "markdown",
   "id": "90f59691",
   "metadata": {},
   "source": [
    "nombre_infected       614\n",
    "nombre_sain          2680\n",
    "nombre_exposed        434\n",
    "nombre_recovered    16272\n",
    "Name: 239, dtype: int64"
   ]
  },
  {
   "cell_type": "markdown",
   "id": "83db1fa5",
   "metadata": {},
   "source": [
    "nombre_infected       627\n",
    "nombre_sain          2670\n",
    "nombre_exposed        440\n",
    "nombre_recovered    16263\n",
    "Name: 240, dtype: int64"
   ]
  },
  {
   "cell_type": "markdown",
   "id": "65c3a7eb",
   "metadata": {},
   "source": [
    "nombre_infected       632\n",
    "nombre_sain          2636\n",
    "nombre_exposed        459\n",
    "nombre_recovered    16273\n",
    "Name: 241, dtype: int64"
   ]
  },
  {
   "cell_type": "markdown",
   "id": "a16db09b",
   "metadata": {},
   "source": [
    "nombre_infected       628\n",
    "nombre_sain          2606\n",
    "nombre_exposed        488\n",
    "nombre_recovered    16278\n",
    "Name: 242, dtype: int64"
   ]
  },
  {
   "cell_type": "markdown",
   "id": "4c2148bd",
   "metadata": {},
   "source": [
    "nombre_infected       641\n",
    "nombre_sain          2594\n",
    "nombre_exposed        486\n",
    "nombre_recovered    16279\n",
    "Name: 243, dtype: int64"
   ]
  },
  {
   "cell_type": "markdown",
   "id": "9a152ea3",
   "metadata": {},
   "source": [
    "nombre_infected       663\n",
    "nombre_sain          2582\n",
    "nombre_exposed        482\n",
    "nombre_recovered    16273\n",
    "Name: 244, dtype: int64"
   ]
  },
  {
   "cell_type": "markdown",
   "id": "454c6898",
   "metadata": {},
   "source": [
    "nombre_infected       674\n",
    "nombre_sain          2542\n",
    "nombre_exposed        505\n",
    "nombre_recovered    16279\n",
    "Name: 245, dtype: int64"
   ]
  },
  {
   "cell_type": "markdown",
   "id": "5cbcfae3",
   "metadata": {},
   "source": [
    "nombre_infected       687\n",
    "nombre_sain          2514\n",
    "nombre_exposed        512\n",
    "nombre_recovered    16287\n",
    "Name: 246, dtype: int64"
   ]
  },
  {
   "cell_type": "markdown",
   "id": "d3a346e0",
   "metadata": {},
   "source": [
    "nombre_infected       690\n",
    "nombre_sain          2484\n",
    "nombre_exposed        516\n",
    "nombre_recovered    16310\n",
    "Name: 247, dtype: int64"
   ]
  },
  {
   "cell_type": "markdown",
   "id": "44008cd2",
   "metadata": {},
   "source": [
    "nombre_infected       691\n",
    "nombre_sain          2453\n",
    "nombre_exposed        535\n",
    "nombre_recovered    16321\n",
    "Name: 248, dtype: int64"
   ]
  },
  {
   "cell_type": "markdown",
   "id": "acb744bb",
   "metadata": {},
   "source": [
    "nombre_infected       712\n",
    "nombre_sain          2437\n",
    "nombre_exposed        533\n",
    "nombre_recovered    16318\n",
    "Name: 249, dtype: int64"
   ]
  },
  {
   "cell_type": "markdown",
   "id": "18a33886",
   "metadata": {},
   "source": [
    "nombre_infected       746\n",
    "nombre_sain          2428\n",
    "nombre_exposed        510\n",
    "nombre_recovered    16316\n",
    "Name: 250, dtype: int64"
   ]
  },
  {
   "cell_type": "markdown",
   "id": "1cb0951b",
   "metadata": {},
   "source": [
    "nombre_infected       754\n",
    "nombre_sain          2430\n",
    "nombre_exposed        497\n",
    "nombre_recovered    16319\n",
    "Name: 251, dtype: int64"
   ]
  },
  {
   "cell_type": "markdown",
   "id": "2ed9cac8",
   "metadata": {},
   "source": [
    "nombre_infected       771\n",
    "nombre_sain          2433\n",
    "nombre_exposed        482\n",
    "nombre_recovered    16314\n",
    "Name: 252, dtype: int64"
   ]
  },
  {
   "cell_type": "markdown",
   "id": "b67c3c75",
   "metadata": {},
   "source": [
    "nombre_infected       772\n",
    "nombre_sain          2381\n",
    "nombre_exposed        494\n",
    "nombre_recovered    16353\n",
    "Name: 253, dtype: int64"
   ]
  },
  {
   "cell_type": "markdown",
   "id": "c5024d52",
   "metadata": {},
   "source": [
    "nombre_infected       785\n",
    "nombre_sain          2356\n",
    "nombre_exposed        492\n",
    "nombre_recovered    16367\n",
    "Name: 254, dtype: int64"
   ]
  },
  {
   "cell_type": "markdown",
   "id": "95fac9aa",
   "metadata": {},
   "source": [
    "nombre_infected       746\n",
    "nombre_sain          2323\n",
    "nombre_exposed        524\n",
    "nombre_recovered    16407\n",
    "Name: 255, dtype: int64"
   ]
  },
  {
   "cell_type": "markdown",
   "id": "4d9049e5",
   "metadata": {},
   "source": [
    "nombre_infected       730\n",
    "nombre_sain          2298\n",
    "nombre_exposed        526\n",
    "nombre_recovered    16446\n",
    "Name: 256, dtype: int64"
   ]
  },
  {
   "cell_type": "markdown",
   "id": "a92ddd08",
   "metadata": {},
   "source": [
    "nombre_infected       711\n",
    "nombre_sain          2285\n",
    "nombre_exposed        529\n",
    "nombre_recovered    16475\n",
    "Name: 257, dtype: int64"
   ]
  },
  {
   "cell_type": "markdown",
   "id": "2b385cdc",
   "metadata": {},
   "source": [
    "nombre_infected       733\n",
    "nombre_sain          2266\n",
    "nombre_exposed        517\n",
    "nombre_recovered    16484\n",
    "Name: 258, dtype: int64"
   ]
  },
  {
   "cell_type": "markdown",
   "id": "9580b1fa",
   "metadata": {},
   "source": [
    "nombre_infected       750\n",
    "nombre_sain          2250\n",
    "nombre_exposed        521\n",
    "nombre_recovered    16479\n",
    "Name: 259, dtype: int64"
   ]
  },
  {
   "cell_type": "markdown",
   "id": "c2a2ac1e",
   "metadata": {},
   "source": [
    "nombre_infected       751\n",
    "nombre_sain          2240\n",
    "nombre_exposed        506\n",
    "nombre_recovered    16503\n",
    "Name: 260, dtype: int64"
   ]
  },
  {
   "cell_type": "markdown",
   "id": "a0a2b184",
   "metadata": {},
   "source": [
    "nombre_infected       765\n",
    "nombre_sain          2207\n",
    "nombre_exposed        506\n",
    "nombre_recovered    16522\n",
    "Name: 261, dtype: int64"
   ]
  },
  {
   "cell_type": "markdown",
   "id": "e3eda61f",
   "metadata": {},
   "source": [
    "nombre_infected       727\n",
    "nombre_sain          2195\n",
    "nombre_exposed        519\n",
    "nombre_recovered    16559\n",
    "Name: 262, dtype: int64"
   ]
  },
  {
   "cell_type": "markdown",
   "id": "fec81747",
   "metadata": {},
   "source": [
    "nombre_infected       715\n",
    "nombre_sain          2182\n",
    "nombre_exposed        515\n",
    "nombre_recovered    16588\n",
    "Name: 263, dtype: int64"
   ]
  },
  {
   "cell_type": "markdown",
   "id": "f07be0f3",
   "metadata": {},
   "source": [
    "nombre_infected       719\n",
    "nombre_sain          2187\n",
    "nombre_exposed        490\n",
    "nombre_recovered    16604\n",
    "Name: 264, dtype: int64"
   ]
  },
  {
   "cell_type": "markdown",
   "id": "d6c2a2ea",
   "metadata": {},
   "source": [
    "nombre_infected       724\n",
    "nombre_sain          2192\n",
    "nombre_exposed        474\n",
    "nombre_recovered    16610\n",
    "Name: 265, dtype: int64"
   ]
  },
  {
   "cell_type": "markdown",
   "id": "c63b5e1c",
   "metadata": {},
   "source": [
    "nombre_infected       722\n",
    "nombre_sain          2193\n",
    "nombre_exposed        481\n",
    "nombre_recovered    16604\n",
    "Name: 266, dtype: int64"
   ]
  },
  {
   "cell_type": "markdown",
   "id": "d9ebc436",
   "metadata": {},
   "source": [
    "nombre_infected       728\n",
    "nombre_sain          2199\n",
    "nombre_exposed        475\n",
    "nombre_recovered    16598\n",
    "Name: 267, dtype: int64"
   ]
  },
  {
   "cell_type": "markdown",
   "id": "3a2e0b46",
   "metadata": {},
   "source": [
    "nombre_infected       715\n",
    "nombre_sain          2198\n",
    "nombre_exposed        477\n",
    "nombre_recovered    16610\n",
    "Name: 268, dtype: int64"
   ]
  },
  {
   "cell_type": "markdown",
   "id": "3c092ca4",
   "metadata": {},
   "source": [
    "nombre_infected       719\n",
    "nombre_sain          2214\n",
    "nombre_exposed        467\n",
    "nombre_recovered    16600\n",
    "Name: 269, dtype: int64"
   ]
  },
  {
   "cell_type": "markdown",
   "id": "5ea0fb48",
   "metadata": {},
   "source": [
    "nombre_infected       718\n",
    "nombre_sain          2208\n",
    "nombre_exposed        479\n",
    "nombre_recovered    16595\n",
    "Name: 270, dtype: int64"
   ]
  },
  {
   "cell_type": "markdown",
   "id": "69ca023d",
   "metadata": {},
   "source": [
    "nombre_infected       719\n",
    "nombre_sain          2202\n",
    "nombre_exposed        499\n",
    "nombre_recovered    16580\n",
    "Name: 271, dtype: int64"
   ]
  },
  {
   "cell_type": "markdown",
   "id": "f1706a37",
   "metadata": {},
   "source": [
    "nombre_infected       734\n",
    "nombre_sain          2234\n",
    "nombre_exposed        467\n",
    "nombre_recovered    16565\n",
    "Name: 272, dtype: int64"
   ]
  },
  {
   "cell_type": "markdown",
   "id": "0b77271e",
   "metadata": {},
   "source": [
    "nombre_infected       732\n",
    "nombre_sain          2229\n",
    "nombre_exposed        464\n",
    "nombre_recovered    16575\n",
    "Name: 273, dtype: int64"
   ]
  },
  {
   "cell_type": "markdown",
   "id": "9ecff394",
   "metadata": {},
   "source": [
    "nombre_infected       731\n",
    "nombre_sain          2246\n",
    "nombre_exposed        460\n",
    "nombre_recovered    16563\n",
    "Name: 274, dtype: int64"
   ]
  },
  {
   "cell_type": "markdown",
   "id": "6ca7c3a6",
   "metadata": {},
   "source": [
    "nombre_infected       746\n",
    "nombre_sain          2238\n",
    "nombre_exposed        465\n",
    "nombre_recovered    16551\n",
    "Name: 275, dtype: int64"
   ]
  },
  {
   "cell_type": "markdown",
   "id": "c885442c",
   "metadata": {},
   "source": [
    "nombre_infected       745\n",
    "nombre_sain          2262\n",
    "nombre_exposed        470\n",
    "nombre_recovered    16523\n",
    "Name: 276, dtype: int64"
   ]
  },
  {
   "cell_type": "markdown",
   "id": "b73b350b",
   "metadata": {},
   "source": [
    "nombre_infected       729\n",
    "nombre_sain          2247\n",
    "nombre_exposed        495\n",
    "nombre_recovered    16529\n",
    "Name: 277, dtype: int64"
   ]
  },
  {
   "cell_type": "markdown",
   "id": "0bca46a9",
   "metadata": {},
   "source": [
    "nombre_infected       744\n",
    "nombre_sain          2270\n",
    "nombre_exposed        478\n",
    "nombre_recovered    16508\n",
    "Name: 278, dtype: int64"
   ]
  },
  {
   "cell_type": "markdown",
   "id": "b13e4a0b",
   "metadata": {},
   "source": [
    "nombre_infected       759\n",
    "nombre_sain          2257\n",
    "nombre_exposed        474\n",
    "nombre_recovered    16510\n",
    "Name: 279, dtype: int64"
   ]
  },
  {
   "cell_type": "markdown",
   "id": "64a8c8ce",
   "metadata": {},
   "source": [
    "nombre_infected       753\n",
    "nombre_sain          2245\n",
    "nombre_exposed        497\n",
    "nombre_recovered    16505\n",
    "Name: 280, dtype: int64"
   ]
  },
  {
   "cell_type": "markdown",
   "id": "55d1433b",
   "metadata": {},
   "source": [
    "nombre_infected       756\n",
    "nombre_sain          2226\n",
    "nombre_exposed        501\n",
    "nombre_recovered    16517\n",
    "Name: 281, dtype: int64"
   ]
  },
  {
   "cell_type": "markdown",
   "id": "fca1bbf3",
   "metadata": {},
   "source": [
    "nombre_infected       761\n",
    "nombre_sain          2235\n",
    "nombre_exposed        493\n",
    "nombre_recovered    16511\n",
    "Name: 282, dtype: int64"
   ]
  },
  {
   "cell_type": "markdown",
   "id": "eb72efd0",
   "metadata": {},
   "source": [
    "nombre_infected       757\n",
    "nombre_sain          2241\n",
    "nombre_exposed        496\n",
    "nombre_recovered    16506\n",
    "Name: 283, dtype: int64"
   ]
  },
  {
   "cell_type": "markdown",
   "id": "afda0204",
   "metadata": {},
   "source": [
    "nombre_infected       732\n",
    "nombre_sain          2238\n",
    "nombre_exposed        512\n",
    "nombre_recovered    16518\n",
    "Name: 284, dtype: int64"
   ]
  },
  {
   "cell_type": "markdown",
   "id": "f0cd6b5a",
   "metadata": {},
   "source": [
    "nombre_infected       739\n",
    "nombre_sain          2238\n",
    "nombre_exposed        506\n",
    "nombre_recovered    16517\n",
    "Name: 285, dtype: int64"
   ]
  },
  {
   "cell_type": "markdown",
   "id": "56333d83",
   "metadata": {},
   "source": [
    "nombre_infected       745\n",
    "nombre_sain          2254\n",
    "nombre_exposed        510\n",
    "nombre_recovered    16491\n",
    "Name: 286, dtype: int64"
   ]
  },
  {
   "cell_type": "markdown",
   "id": "6d94fe2e",
   "metadata": {},
   "source": [
    "nombre_infected       729\n",
    "nombre_sain          2242\n",
    "nombre_exposed        523\n",
    "nombre_recovered    16506\n",
    "Name: 287, dtype: int64"
   ]
  },
  {
   "cell_type": "markdown",
   "id": "11d0d676",
   "metadata": {},
   "source": [
    "nombre_infected       724\n",
    "nombre_sain          2275\n",
    "nombre_exposed        514\n",
    "nombre_recovered    16487\n",
    "Name: 288, dtype: int64"
   ]
  },
  {
   "cell_type": "markdown",
   "id": "459017ae",
   "metadata": {},
   "source": [
    "nombre_infected       757\n",
    "nombre_sain          2276\n",
    "nombre_exposed        502\n",
    "nombre_recovered    16465\n",
    "Name: 289, dtype: int64"
   ]
  },
  {
   "cell_type": "markdown",
   "id": "303d14b1",
   "metadata": {},
   "source": [
    "nombre_infected       750\n",
    "nombre_sain          2256\n",
    "nombre_exposed        519\n",
    "nombre_recovered    16475\n",
    "Name: 290, dtype: int64"
   ]
  },
  {
   "cell_type": "markdown",
   "id": "930cb905",
   "metadata": {},
   "source": [
    "nombre_infected       761\n",
    "nombre_sain          2260\n",
    "nombre_exposed        502\n",
    "nombre_recovered    16477\n",
    "Name: 291, dtype: int64"
   ]
  },
  {
   "cell_type": "markdown",
   "id": "491a619a",
   "metadata": {},
   "source": [
    "nombre_infected       759\n",
    "nombre_sain          2284\n",
    "nombre_exposed        495\n",
    "nombre_recovered    16462\n",
    "Name: 292, dtype: int64"
   ]
  },
  {
   "cell_type": "markdown",
   "id": "c2bbc4ee",
   "metadata": {},
   "source": [
    "nombre_infected       776\n",
    "nombre_sain          2282\n",
    "nombre_exposed        494\n",
    "nombre_recovered    16448\n",
    "Name: 293, dtype: int64"
   ]
  },
  {
   "cell_type": "markdown",
   "id": "7651a4a0",
   "metadata": {},
   "source": [
    "nombre_infected       767\n",
    "nombre_sain          2278\n",
    "nombre_exposed        511\n",
    "nombre_recovered    16444\n",
    "Name: 294, dtype: int64"
   ]
  },
  {
   "cell_type": "markdown",
   "id": "9e879234",
   "metadata": {},
   "source": [
    "nombre_infected       778\n",
    "nombre_sain          2250\n",
    "nombre_exposed        518\n",
    "nombre_recovered    16454\n",
    "Name: 295, dtype: int64"
   ]
  },
  {
   "cell_type": "markdown",
   "id": "b0d4823a",
   "metadata": {},
   "source": [
    "nombre_infected       774\n",
    "nombre_sain          2259\n",
    "nombre_exposed        520\n",
    "nombre_recovered    16447\n",
    "Name: 296, dtype: int64"
   ]
  },
  {
   "cell_type": "markdown",
   "id": "b9b73c6a",
   "metadata": {},
   "source": [
    "nombre_infected       779\n",
    "nombre_sain          2278\n",
    "nombre_exposed        488\n",
    "nombre_recovered    16455\n",
    "Name: 297, dtype: int64"
   ]
  },
  {
   "cell_type": "markdown",
   "id": "4b2220c9",
   "metadata": {},
   "source": [
    "nombre_infected       794\n",
    "nombre_sain          2264\n",
    "nombre_exposed        496\n",
    "nombre_recovered    16446\n",
    "Name: 298, dtype: int64"
   ]
  },
  {
   "cell_type": "markdown",
   "id": "e5ea99f1",
   "metadata": {},
   "source": [
    "nombre_infected       804\n",
    "nombre_sain          2229\n",
    "nombre_exposed        501\n",
    "nombre_recovered    16466\n",
    "Name: 299, dtype: int64"
   ]
  },
  {
   "cell_type": "markdown",
   "id": "b636e65a",
   "metadata": {},
   "source": [
    "nombre_infected       793\n",
    "nombre_sain          2232\n",
    "nombre_exposed        502\n",
    "nombre_recovered    16473\n",
    "Name: 300, dtype: int64"
   ]
  },
  {
   "cell_type": "markdown",
   "id": "4bac88f1",
   "metadata": {},
   "source": [
    "nombre_infected       790\n",
    "nombre_sain          2240\n",
    "nombre_exposed        489\n",
    "nombre_recovered    16481\n",
    "Name: 301, dtype: int64"
   ]
  },
  {
   "cell_type": "markdown",
   "id": "8d7c4493",
   "metadata": {},
   "source": [
    "nombre_infected       799\n",
    "nombre_sain          2245\n",
    "nombre_exposed        480\n",
    "nombre_recovered    16476\n",
    "Name: 302, dtype: int64"
   ]
  },
  {
   "cell_type": "markdown",
   "id": "826d188b",
   "metadata": {},
   "source": [
    "nombre_infected       801\n",
    "nombre_sain          2243\n",
    "nombre_exposed        476\n",
    "nombre_recovered    16480\n",
    "Name: 303, dtype: int64"
   ]
  },
  {
   "cell_type": "markdown",
   "id": "f1ffbbf3",
   "metadata": {},
   "source": [
    "nombre_infected       817\n",
    "nombre_sain          2246\n",
    "nombre_exposed        475\n",
    "nombre_recovered    16462\n",
    "Name: 304, dtype: int64"
   ]
  },
  {
   "cell_type": "markdown",
   "id": "2e83786c",
   "metadata": {},
   "source": [
    "nombre_infected       792\n",
    "nombre_sain          2248\n",
    "nombre_exposed        495\n",
    "nombre_recovered    16465\n",
    "Name: 305, dtype: int64"
   ]
  },
  {
   "cell_type": "markdown",
   "id": "fec1e302",
   "metadata": {},
   "source": [
    "nombre_infected       792\n",
    "nombre_sain          2238\n",
    "nombre_exposed        510\n",
    "nombre_recovered    16460\n",
    "Name: 306, dtype: int64"
   ]
  },
  {
   "cell_type": "markdown",
   "id": "dae30e9f",
   "metadata": {},
   "source": [
    "nombre_infected       786\n",
    "nombre_sain          2257\n",
    "nombre_exposed        503\n",
    "nombre_recovered    16454\n",
    "Name: 307, dtype: int64"
   ]
  },
  {
   "cell_type": "markdown",
   "id": "d5e95cf5",
   "metadata": {},
   "source": [
    "nombre_infected       797\n",
    "nombre_sain          2262\n",
    "nombre_exposed        505\n",
    "nombre_recovered    16436\n",
    "Name: 308, dtype: int64"
   ]
  },
  {
   "cell_type": "markdown",
   "id": "ce1748e8",
   "metadata": {},
   "source": [
    "nombre_infected       794\n",
    "nombre_sain          2258\n",
    "nombre_exposed        507\n",
    "nombre_recovered    16441\n",
    "Name: 309, dtype: int64"
   ]
  },
  {
   "cell_type": "markdown",
   "id": "736a1b7b",
   "metadata": {},
   "source": [
    "nombre_infected       780\n",
    "nombre_sain          2232\n",
    "nombre_exposed        514\n",
    "nombre_recovered    16474\n",
    "Name: 310, dtype: int64"
   ]
  },
  {
   "cell_type": "markdown",
   "id": "132625fd",
   "metadata": {},
   "source": [
    "nombre_infected       787\n",
    "nombre_sain          2187\n",
    "nombre_exposed        526\n",
    "nombre_recovered    16500\n",
    "Name: 311, dtype: int64"
   ]
  },
  {
   "cell_type": "markdown",
   "id": "dd86e388",
   "metadata": {},
   "source": [
    "nombre_infected       800\n",
    "nombre_sain          2213\n",
    "nombre_exposed        495\n",
    "nombre_recovered    16492\n",
    "Name: 312, dtype: int64"
   ]
  },
  {
   "cell_type": "markdown",
   "id": "e547b043",
   "metadata": {},
   "source": [
    "nombre_infected       807\n",
    "nombre_sain          2220\n",
    "nombre_exposed        485\n",
    "nombre_recovered    16488\n",
    "Name: 313, dtype: int64"
   ]
  },
  {
   "cell_type": "markdown",
   "id": "c231a4e7",
   "metadata": {},
   "source": [
    "nombre_infected       808\n",
    "nombre_sain          2236\n",
    "nombre_exposed        465\n",
    "nombre_recovered    16491\n",
    "Name: 314, dtype: int64"
   ]
  },
  {
   "cell_type": "markdown",
   "id": "6ec0a1d7",
   "metadata": {},
   "source": [
    "nombre_infected       817\n",
    "nombre_sain          2231\n",
    "nombre_exposed        482\n",
    "nombre_recovered    16470\n",
    "Name: 315, dtype: int64"
   ]
  },
  {
   "cell_type": "markdown",
   "id": "2bad7324",
   "metadata": {},
   "source": [
    "nombre_infected       816\n",
    "nombre_sain          2238\n",
    "nombre_exposed        486\n",
    "nombre_recovered    16460\n",
    "Name: 316, dtype: int64"
   ]
  },
  {
   "cell_type": "markdown",
   "id": "1acee45a",
   "metadata": {},
   "source": [
    "nombre_infected       807\n",
    "nombre_sain          2224\n",
    "nombre_exposed        513\n",
    "nombre_recovered    16456\n",
    "Name: 317, dtype: int64"
   ]
  },
  {
   "cell_type": "markdown",
   "id": "788c6480",
   "metadata": {},
   "source": [
    "nombre_infected       816\n",
    "nombre_sain          2221\n",
    "nombre_exposed        512\n",
    "nombre_recovered    16451\n",
    "Name: 318, dtype: int64"
   ]
  },
  {
   "cell_type": "markdown",
   "id": "e296e942",
   "metadata": {},
   "source": [
    "nombre_infected       811\n",
    "nombre_sain          2207\n",
    "nombre_exposed        536\n",
    "nombre_recovered    16446\n",
    "Name: 319, dtype: int64"
   ]
  },
  {
   "cell_type": "markdown",
   "id": "85b4353d",
   "metadata": {},
   "source": [
    "nombre_infected       805\n",
    "nombre_sain          2202\n",
    "nombre_exposed        535\n",
    "nombre_recovered    16458\n",
    "Name: 320, dtype: int64"
   ]
  },
  {
   "cell_type": "markdown",
   "id": "ce3a9bea",
   "metadata": {},
   "source": [
    "nombre_infected       823\n",
    "nombre_sain          2177\n",
    "nombre_exposed        543\n",
    "nombre_recovered    16457\n",
    "Name: 321, dtype: int64"
   ]
  },
  {
   "cell_type": "markdown",
   "id": "5d29338c",
   "metadata": {},
   "source": [
    "nombre_infected       847\n",
    "nombre_sain          2175\n",
    "nombre_exposed        511\n",
    "nombre_recovered    16467\n",
    "Name: 322, dtype: int64"
   ]
  },
  {
   "cell_type": "markdown",
   "id": "6670bf69",
   "metadata": {},
   "source": [
    "nombre_infected       844\n",
    "nombre_sain          2156\n",
    "nombre_exposed        508\n",
    "nombre_recovered    16492\n",
    "Name: 323, dtype: int64"
   ]
  },
  {
   "cell_type": "markdown",
   "id": "643dba26",
   "metadata": {},
   "source": [
    "nombre_infected       839\n",
    "nombre_sain          2137\n",
    "nombre_exposed        527\n",
    "nombre_recovered    16497\n",
    "Name: 324, dtype: int64"
   ]
  },
  {
   "cell_type": "markdown",
   "id": "a94f9f5e",
   "metadata": {},
   "source": [
    "nombre_infected       841\n",
    "nombre_sain          2151\n",
    "nombre_exposed        518\n",
    "nombre_recovered    16490\n",
    "Name: 325, dtype: int64"
   ]
  },
  {
   "cell_type": "markdown",
   "id": "9ed92e70",
   "metadata": {},
   "source": [
    "nombre_infected       832\n",
    "nombre_sain          2138\n",
    "nombre_exposed        539\n",
    "nombre_recovered    16491\n",
    "Name: 326, dtype: int64"
   ]
  },
  {
   "cell_type": "markdown",
   "id": "50e82389",
   "metadata": {},
   "source": [
    "nombre_infected       819\n",
    "nombre_sain          2133\n",
    "nombre_exposed        552\n",
    "nombre_recovered    16496\n",
    "Name: 327, dtype: int64"
   ]
  },
  {
   "cell_type": "markdown",
   "id": "c51330aa",
   "metadata": {},
   "source": [
    "nombre_infected       795\n",
    "nombre_sain          2114\n",
    "nombre_exposed        571\n",
    "nombre_recovered    16520\n",
    "Name: 328, dtype: int64"
   ]
  },
  {
   "cell_type": "markdown",
   "id": "d59d341e",
   "metadata": {},
   "source": [
    "nombre_infected       791\n",
    "nombre_sain          2090\n",
    "nombre_exposed        568\n",
    "nombre_recovered    16551\n",
    "Name: 329, dtype: int64"
   ]
  },
  {
   "cell_type": "markdown",
   "id": "5d990c4e",
   "metadata": {},
   "source": [
    "nombre_infected       807\n",
    "nombre_sain          2090\n",
    "nombre_exposed        558\n",
    "nombre_recovered    16545\n",
    "Name: 330, dtype: int64"
   ]
  },
  {
   "cell_type": "markdown",
   "id": "a88e0ef4",
   "metadata": {},
   "source": [
    "nombre_infected       807\n",
    "nombre_sain          2082\n",
    "nombre_exposed        550\n",
    "nombre_recovered    16561\n",
    "Name: 331, dtype: int64"
   ]
  },
  {
   "cell_type": "markdown",
   "id": "744dd703",
   "metadata": {},
   "source": [
    "nombre_infected       817\n",
    "nombre_sain          2076\n",
    "nombre_exposed        547\n",
    "nombre_recovered    16560\n",
    "Name: 332, dtype: int64"
   ]
  },
  {
   "cell_type": "markdown",
   "id": "fc2bc123",
   "metadata": {},
   "source": [
    "nombre_infected       818\n",
    "nombre_sain          2086\n",
    "nombre_exposed        524\n",
    "nombre_recovered    16572\n",
    "Name: 333, dtype: int64"
   ]
  },
  {
   "cell_type": "markdown",
   "id": "8f914b3c",
   "metadata": {},
   "source": [
    "nombre_infected       823\n",
    "nombre_sain          2072\n",
    "nombre_exposed        512\n",
    "nombre_recovered    16593\n",
    "Name: 334, dtype: int64"
   ]
  },
  {
   "cell_type": "markdown",
   "id": "6cf03f77",
   "metadata": {},
   "source": [
    "nombre_infected       805\n",
    "nombre_sain          2067\n",
    "nombre_exposed        515\n",
    "nombre_recovered    16613\n",
    "Name: 335, dtype: int64"
   ]
  },
  {
   "cell_type": "markdown",
   "id": "b98050f0",
   "metadata": {},
   "source": [
    "nombre_infected       812\n",
    "nombre_sain          2061\n",
    "nombre_exposed        496\n",
    "nombre_recovered    16631\n",
    "Name: 336, dtype: int64"
   ]
  },
  {
   "cell_type": "markdown",
   "id": "8026c3cf",
   "metadata": {},
   "source": [
    "nombre_infected       807\n",
    "nombre_sain          2088\n",
    "nombre_exposed        475\n",
    "nombre_recovered    16630\n",
    "Name: 337, dtype: int64"
   ]
  },
  {
   "cell_type": "markdown",
   "id": "3e8b91ac",
   "metadata": {},
   "source": [
    "nombre_infected       794\n",
    "nombre_sain          2087\n",
    "nombre_exposed        479\n",
    "nombre_recovered    16640\n",
    "Name: 338, dtype: int64"
   ]
  },
  {
   "cell_type": "markdown",
   "id": "ccdf580c",
   "metadata": {},
   "source": [
    "nombre_infected       800\n",
    "nombre_sain          2115\n",
    "nombre_exposed        470\n",
    "nombre_recovered    16615\n",
    "Name: 339, dtype: int64"
   ]
  },
  {
   "cell_type": "markdown",
   "id": "3c4f3f07",
   "metadata": {},
   "source": [
    "nombre_infected       781\n",
    "nombre_sain          2134\n",
    "nombre_exposed        495\n",
    "nombre_recovered    16590\n",
    "Name: 340, dtype: int64"
   ]
  },
  {
   "cell_type": "markdown",
   "id": "bc29b0f7",
   "metadata": {},
   "source": [
    "nombre_infected       771\n",
    "nombre_sain          2154\n",
    "nombre_exposed        481\n",
    "nombre_recovered    16594\n",
    "Name: 341, dtype: int64"
   ]
  },
  {
   "cell_type": "markdown",
   "id": "0258f3c5",
   "metadata": {},
   "source": [
    "nombre_infected       730\n",
    "nombre_sain          2145\n",
    "nombre_exposed        505\n",
    "nombre_recovered    16620\n",
    "Name: 342, dtype: int64"
   ]
  },
  {
   "cell_type": "markdown",
   "id": "7d97aea4",
   "metadata": {},
   "source": [
    "nombre_infected       749\n",
    "nombre_sain          2163\n",
    "nombre_exposed        492\n",
    "nombre_recovered    16596\n",
    "Name: 343, dtype: int64"
   ]
  },
  {
   "cell_type": "markdown",
   "id": "2064cd31",
   "metadata": {},
   "source": [
    "nombre_infected       740\n",
    "nombre_sain          2188\n",
    "nombre_exposed        470\n",
    "nombre_recovered    16602\n",
    "Name: 344, dtype: int64"
   ]
  },
  {
   "cell_type": "markdown",
   "id": "36207e8c",
   "metadata": {},
   "source": [
    "nombre_infected       739\n",
    "nombre_sain          2175\n",
    "nombre_exposed        482\n",
    "nombre_recovered    16604\n",
    "Name: 345, dtype: int64"
   ]
  },
  {
   "cell_type": "markdown",
   "id": "b3a0c783",
   "metadata": {},
   "source": [
    "nombre_infected       729\n",
    "nombre_sain          2178\n",
    "nombre_exposed        471\n",
    "nombre_recovered    16622\n",
    "Name: 346, dtype: int64"
   ]
  },
  {
   "cell_type": "markdown",
   "id": "c5631409",
   "metadata": {},
   "source": [
    "nombre_infected       730\n",
    "nombre_sain          2184\n",
    "nombre_exposed        471\n",
    "nombre_recovered    16615\n",
    "Name: 347, dtype: int64"
   ]
  },
  {
   "cell_type": "markdown",
   "id": "4b5d55dd",
   "metadata": {},
   "source": [
    "nombre_infected       717\n",
    "nombre_sain          2151\n",
    "nombre_exposed        493\n",
    "nombre_recovered    16639\n",
    "Name: 348, dtype: int64"
   ]
  },
  {
   "cell_type": "markdown",
   "id": "109b8284",
   "metadata": {},
   "source": [
    "nombre_infected       721\n",
    "nombre_sain          2149\n",
    "nombre_exposed        485\n",
    "nombre_recovered    16645\n",
    "Name: 349, dtype: int64"
   ]
  },
  {
   "cell_type": "markdown",
   "id": "aa7a86e3",
   "metadata": {},
   "source": [
    "nombre_infected       731\n",
    "nombre_sain          2163\n",
    "nombre_exposed        464\n",
    "nombre_recovered    16642\n",
    "Name: 350, dtype: int64"
   ]
  },
  {
   "cell_type": "markdown",
   "id": "c97e5b16",
   "metadata": {},
   "source": [
    "nombre_infected       719\n",
    "nombre_sain          2143\n",
    "nombre_exposed        460\n",
    "nombre_recovered    16678\n",
    "Name: 351, dtype: int64"
   ]
  },
  {
   "cell_type": "markdown",
   "id": "11c9a0df",
   "metadata": {},
   "source": [
    "nombre_infected       721\n",
    "nombre_sain          2140\n",
    "nombre_exposed        457\n",
    "nombre_recovered    16682\n",
    "Name: 352, dtype: int64"
   ]
  },
  {
   "cell_type": "markdown",
   "id": "563783a2",
   "metadata": {},
   "source": [
    "nombre_infected       701\n",
    "nombre_sain          2161\n",
    "nombre_exposed        424\n",
    "nombre_recovered    16714\n",
    "Name: 353, dtype: int64"
   ]
  },
  {
   "cell_type": "markdown",
   "id": "0682dad7",
   "metadata": {},
   "source": [
    "nombre_infected       677\n",
    "nombre_sain          2191\n",
    "nombre_exposed        417\n",
    "nombre_recovered    16715\n",
    "Name: 354, dtype: int64"
   ]
  },
  {
   "cell_type": "markdown",
   "id": "1025ce56",
   "metadata": {},
   "source": [
    "nombre_infected       671\n",
    "nombre_sain          2221\n",
    "nombre_exposed        399\n",
    "nombre_recovered    16709\n",
    "Name: 355, dtype: int64"
   ]
  },
  {
   "cell_type": "markdown",
   "id": "10c3657b",
   "metadata": {},
   "source": [
    "nombre_infected       646\n",
    "nombre_sain          2225\n",
    "nombre_exposed        419\n",
    "nombre_recovered    16710\n",
    "Name: 356, dtype: int64"
   ]
  },
  {
   "cell_type": "markdown",
   "id": "d31c894e",
   "metadata": {},
   "source": [
    "nombre_infected       624\n",
    "nombre_sain          2255\n",
    "nombre_exposed        413\n",
    "nombre_recovered    16708\n",
    "Name: 357, dtype: int64"
   ]
  },
  {
   "cell_type": "markdown",
   "id": "4c82a23f",
   "metadata": {},
   "source": [
    "nombre_infected       612\n",
    "nombre_sain          2281\n",
    "nombre_exposed        417\n",
    "nombre_recovered    16690\n",
    "Name: 358, dtype: int64"
   ]
  },
  {
   "cell_type": "markdown",
   "id": "4d519272",
   "metadata": {},
   "source": [
    "nombre_infected       616\n",
    "nombre_sain          2288\n",
    "nombre_exposed        418\n",
    "nombre_recovered    16678\n",
    "Name: 359, dtype: int64"
   ]
  },
  {
   "cell_type": "markdown",
   "id": "257d2aab",
   "metadata": {},
   "source": [
    "nombre_infected       618\n",
    "nombre_sain          2309\n",
    "nombre_exposed        406\n",
    "nombre_recovered    16667\n",
    "Name: 360, dtype: int64"
   ]
  },
  {
   "cell_type": "markdown",
   "id": "b3154f9d",
   "metadata": {},
   "source": [
    "nombre_infected       615\n",
    "nombre_sain          2323\n",
    "nombre_exposed        409\n",
    "nombre_recovered    16653\n",
    "Name: 361, dtype: int64"
   ]
  },
  {
   "cell_type": "markdown",
   "id": "c382ca5b",
   "metadata": {},
   "source": [
    "nombre_infected       605\n",
    "nombre_sain          2341\n",
    "nombre_exposed        438\n",
    "nombre_recovered    16616\n",
    "Name: 362, dtype: int64"
   ]
  },
  {
   "cell_type": "markdown",
   "id": "e2df5a2c",
   "metadata": {},
   "source": [
    "nombre_infected       601\n",
    "nombre_sain          2363\n",
    "nombre_exposed        433\n",
    "nombre_recovered    16603\n",
    "Name: 363, dtype: int64"
   ]
  },
  {
   "cell_type": "markdown",
   "id": "4aefda49",
   "metadata": {},
   "source": [
    "nombre_infected       606\n",
    "nombre_sain          2401\n",
    "nombre_exposed        430\n",
    "nombre_recovered    16563\n",
    "Name: 364, dtype: int64"
   ]
  },
  {
   "cell_type": "markdown",
   "id": "a50c60fe",
   "metadata": {},
   "source": [
    "nombre_infected       615\n",
    "nombre_sain          2417\n",
    "nombre_exposed        408\n",
    "nombre_recovered    16560\n",
    "Name: 365, dtype: int64"
   ]
  },
  {
   "cell_type": "markdown",
   "id": "bf61be96",
   "metadata": {},
   "source": [
    "nombre_infected       625\n",
    "nombre_sain          2442\n",
    "nombre_exposed        389\n",
    "nombre_recovered    16544\n",
    "Name: 366, dtype: int64"
   ]
  },
  {
   "cell_type": "markdown",
   "id": "328100f5",
   "metadata": {},
   "source": [
    "nombre_infected       621\n",
    "nombre_sain          2451\n",
    "nombre_exposed        398\n",
    "nombre_recovered    16530\n",
    "Name: 367, dtype: int64"
   ]
  },
  {
   "cell_type": "markdown",
   "id": "5d3452a8",
   "metadata": {},
   "source": [
    "nombre_infected       594\n",
    "nombre_sain          2463\n",
    "nombre_exposed        415\n",
    "nombre_recovered    16528\n",
    "Name: 368, dtype: int64"
   ]
  },
  {
   "cell_type": "markdown",
   "id": "9a454a32",
   "metadata": {},
   "source": [
    "nombre_infected       603\n",
    "nombre_sain          2453\n",
    "nombre_exposed        418\n",
    "nombre_recovered    16526\n",
    "Name: 369, dtype: int64"
   ]
  },
  {
   "cell_type": "markdown",
   "id": "db94d5ed",
   "metadata": {},
   "source": [
    "nombre_infected       609\n",
    "nombre_sain          2480\n",
    "nombre_exposed        403\n",
    "nombre_recovered    16508\n",
    "Name: 370, dtype: int64"
   ]
  },
  {
   "cell_type": "markdown",
   "id": "2da9e75c",
   "metadata": {},
   "source": [
    "nombre_infected       618\n",
    "nombre_sain          2486\n",
    "nombre_exposed        390\n",
    "nombre_recovered    16506\n",
    "Name: 371, dtype: int64"
   ]
  },
  {
   "cell_type": "markdown",
   "id": "ef9e4d38",
   "metadata": {},
   "source": [
    "nombre_infected       596\n",
    "nombre_sain          2503\n",
    "nombre_exposed        386\n",
    "nombre_recovered    16515\n",
    "Name: 372, dtype: int64"
   ]
  },
  {
   "cell_type": "markdown",
   "id": "8ac61e54",
   "metadata": {},
   "source": [
    "nombre_infected       602\n",
    "nombre_sain          2518\n",
    "nombre_exposed        399\n",
    "nombre_recovered    16481\n",
    "Name: 373, dtype: int64"
   ]
  },
  {
   "cell_type": "markdown",
   "id": "0767037a",
   "metadata": {},
   "source": [
    "nombre_infected       619\n",
    "nombre_sain          2521\n",
    "nombre_exposed        390\n",
    "nombre_recovered    16470\n",
    "Name: 374, dtype: int64"
   ]
  },
  {
   "cell_type": "markdown",
   "id": "a1003bc2",
   "metadata": {},
   "source": [
    "nombre_infected       612\n",
    "nombre_sain          2543\n",
    "nombre_exposed        427\n",
    "nombre_recovered    16418\n",
    "Name: 375, dtype: int64"
   ]
  },
  {
   "cell_type": "markdown",
   "id": "2de44b2b",
   "metadata": {},
   "source": [
    "nombre_infected       599\n",
    "nombre_sain          2568\n",
    "nombre_exposed        419\n",
    "nombre_recovered    16414\n",
    "Name: 376, dtype: int64"
   ]
  },
  {
   "cell_type": "markdown",
   "id": "62c3a231",
   "metadata": {},
   "source": [
    "nombre_infected       588\n",
    "nombre_sain          2589\n",
    "nombre_exposed        409\n",
    "nombre_recovered    16414\n",
    "Name: 377, dtype: int64"
   ]
  },
  {
   "cell_type": "markdown",
   "id": "92d6c9c6",
   "metadata": {},
   "source": [
    "nombre_infected       588\n",
    "nombre_sain          2605\n",
    "nombre_exposed        408\n",
    "nombre_recovered    16399\n",
    "Name: 378, dtype: int64"
   ]
  },
  {
   "cell_type": "markdown",
   "id": "b0e3396f",
   "metadata": {},
   "source": [
    "nombre_infected       560\n",
    "nombre_sain          2618\n",
    "nombre_exposed        434\n",
    "nombre_recovered    16388\n",
    "Name: 379, dtype: int64"
   ]
  },
  {
   "cell_type": "markdown",
   "id": "07a7bd8d",
   "metadata": {},
   "source": [
    "nombre_infected       587\n",
    "nombre_sain          2636\n",
    "nombre_exposed        439\n",
    "nombre_recovered    16338\n",
    "Name: 380, dtype: int64"
   ]
  },
  {
   "cell_type": "markdown",
   "id": "cb19c354",
   "metadata": {},
   "source": [
    "nombre_infected       571\n",
    "nombre_sain          2646\n",
    "nombre_exposed        460\n",
    "nombre_recovered    16323\n",
    "Name: 381, dtype: int64"
   ]
  },
  {
   "cell_type": "markdown",
   "id": "e2d25787",
   "metadata": {},
   "source": [
    "nombre_infected       590\n",
    "nombre_sain          2655\n",
    "nombre_exposed        457\n",
    "nombre_recovered    16298\n",
    "Name: 382, dtype: int64"
   ]
  },
  {
   "cell_type": "markdown",
   "id": "13c1e40c",
   "metadata": {},
   "source": [
    "nombre_infected       596\n",
    "nombre_sain          2683\n",
    "nombre_exposed        444\n",
    "nombre_recovered    16277\n",
    "Name: 383, dtype: int64"
   ]
  },
  {
   "cell_type": "markdown",
   "id": "fbcc9e2e",
   "metadata": {},
   "source": [
    "nombre_infected       619\n",
    "nombre_sain          2674\n",
    "nombre_exposed        437\n",
    "nombre_recovered    16270\n",
    "Name: 384, dtype: int64"
   ]
  },
  {
   "cell_type": "markdown",
   "id": "5c611253",
   "metadata": {},
   "source": [
    "nombre_infected       613\n",
    "nombre_sain          2701\n",
    "nombre_exposed        436\n",
    "nombre_recovered    16250\n",
    "Name: 385, dtype: int64"
   ]
  },
  {
   "cell_type": "markdown",
   "id": "2407090e",
   "metadata": {},
   "source": [
    "nombre_infected       635\n",
    "nombre_sain          2696\n",
    "nombre_exposed        440\n",
    "nombre_recovered    16229\n",
    "Name: 386, dtype: int64"
   ]
  },
  {
   "cell_type": "markdown",
   "id": "ca5ad3c4",
   "metadata": {},
   "source": [
    "nombre_infected       626\n",
    "nombre_sain          2721\n",
    "nombre_exposed        441\n",
    "nombre_recovered    16212\n",
    "Name: 387, dtype: int64"
   ]
  },
  {
   "cell_type": "markdown",
   "id": "af19e630",
   "metadata": {},
   "source": [
    "nombre_infected       635\n",
    "nombre_sain          2740\n",
    "nombre_exposed        422\n",
    "nombre_recovered    16203\n",
    "Name: 388, dtype: int64"
   ]
  },
  {
   "cell_type": "markdown",
   "id": "a5ed36c5",
   "metadata": {},
   "source": [
    "nombre_infected       648\n",
    "nombre_sain          2747\n",
    "nombre_exposed        424\n",
    "nombre_recovered    16181\n",
    "Name: 389, dtype: int64"
   ]
  },
  {
   "cell_type": "markdown",
   "id": "e1b752b0",
   "metadata": {},
   "source": [
    "nombre_infected       646\n",
    "nombre_sain          2735\n",
    "nombre_exposed        437\n",
    "nombre_recovered    16182\n",
    "Name: 390, dtype: int64"
   ]
  },
  {
   "cell_type": "markdown",
   "id": "b12a670b",
   "metadata": {},
   "source": [
    "nombre_infected       626\n",
    "nombre_sain          2724\n",
    "nombre_exposed        463\n",
    "nombre_recovered    16187\n",
    "Name: 391, dtype: int64"
   ]
  },
  {
   "cell_type": "markdown",
   "id": "50b1101b",
   "metadata": {},
   "source": [
    "nombre_infected       645\n",
    "nombre_sain          2735\n",
    "nombre_exposed        443\n",
    "nombre_recovered    16177\n",
    "Name: 392, dtype: int64"
   ]
  },
  {
   "cell_type": "markdown",
   "id": "171df37c",
   "metadata": {},
   "source": [
    "nombre_infected       669\n",
    "nombre_sain          2699\n",
    "nombre_exposed        477\n",
    "nombre_recovered    16155\n",
    "Name: 393, dtype: int64"
   ]
  },
  {
   "cell_type": "markdown",
   "id": "9f184e3d",
   "metadata": {},
   "source": [
    "nombre_infected       676\n",
    "nombre_sain          2700\n",
    "nombre_exposed        481\n",
    "nombre_recovered    16143\n",
    "Name: 394, dtype: int64"
   ]
  },
  {
   "cell_type": "markdown",
   "id": "f15076ae",
   "metadata": {},
   "source": [
    "nombre_infected       680\n",
    "nombre_sain          2698\n",
    "nombre_exposed        483\n",
    "nombre_recovered    16139\n",
    "Name: 395, dtype: int64"
   ]
  },
  {
   "cell_type": "markdown",
   "id": "75e85cf9",
   "metadata": {},
   "source": [
    "nombre_infected       679\n",
    "nombre_sain          2671\n",
    "nombre_exposed        492\n",
    "nombre_recovered    16158\n",
    "Name: 396, dtype: int64"
   ]
  },
  {
   "cell_type": "markdown",
   "id": "156fa2d9",
   "metadata": {},
   "source": [
    "nombre_infected       694\n",
    "nombre_sain          2651\n",
    "nombre_exposed        510\n",
    "nombre_recovered    16145\n",
    "Name: 397, dtype: int64"
   ]
  },
  {
   "cell_type": "markdown",
   "id": "312a3b7d",
   "metadata": {},
   "source": [
    "nombre_infected       715\n",
    "nombre_sain          2620\n",
    "nombre_exposed        518\n",
    "nombre_recovered    16147\n",
    "Name: 398, dtype: int64"
   ]
  },
  {
   "cell_type": "markdown",
   "id": "59b6164d",
   "metadata": {},
   "source": [
    "nombre_infected       725\n",
    "nombre_sain          2572\n",
    "nombre_exposed        542\n",
    "nombre_recovered    16161\n",
    "Name: 399, dtype: int64"
   ]
  },
  {
   "cell_type": "markdown",
   "id": "cef09077",
   "metadata": {},
   "source": [
    "nombre_infected       721\n",
    "nombre_sain          2566\n",
    "nombre_exposed        558\n",
    "nombre_recovered    16155\n",
    "Name: 400, dtype: int64"
   ]
  },
  {
   "cell_type": "markdown",
   "id": "e2dc4fab",
   "metadata": {},
   "source": [
    "nombre_infected       724\n",
    "nombre_sain          2541\n",
    "nombre_exposed        554\n",
    "nombre_recovered    16181\n",
    "Name: 401, dtype: int64"
   ]
  },
  {
   "cell_type": "markdown",
   "id": "300beeff",
   "metadata": {},
   "source": [
    "nombre_infected       762\n",
    "nombre_sain          2528\n",
    "nombre_exposed        544\n",
    "nombre_recovered    16166\n",
    "Name: 402, dtype: int64"
   ]
  },
  {
   "cell_type": "markdown",
   "id": "8a5e7d96",
   "metadata": {},
   "source": [
    "nombre_infected       779\n",
    "nombre_sain          2486\n",
    "nombre_exposed        550\n",
    "nombre_recovered    16185\n",
    "Name: 403, dtype: int64"
   ]
  },
  {
   "cell_type": "markdown",
   "id": "68f7bad6",
   "metadata": {},
   "source": [
    "nombre_infected       753\n",
    "nombre_sain          2469\n",
    "nombre_exposed        560\n",
    "nombre_recovered    16218\n",
    "Name: 404, dtype: int64"
   ]
  },
  {
   "cell_type": "markdown",
   "id": "2dde10a3",
   "metadata": {},
   "source": [
    "nombre_infected       777\n",
    "nombre_sain          2435\n",
    "nombre_exposed        557\n",
    "nombre_recovered    16231\n",
    "Name: 405, dtype: int64"
   ]
  },
  {
   "cell_type": "markdown",
   "id": "a67212d0",
   "metadata": {},
   "source": [
    "nombre_infected       785\n",
    "nombre_sain          2406\n",
    "nombre_exposed        550\n",
    "nombre_recovered    16259\n",
    "Name: 406, dtype: int64"
   ]
  },
  {
   "cell_type": "markdown",
   "id": "6fa1b222",
   "metadata": {},
   "source": [
    "nombre_infected       805\n",
    "nombre_sain          2364\n",
    "nombre_exposed        557\n",
    "nombre_recovered    16274\n",
    "Name: 407, dtype: int64"
   ]
  },
  {
   "cell_type": "markdown",
   "id": "f3a179ad",
   "metadata": {},
   "source": [
    "nombre_infected       813\n",
    "nombre_sain          2328\n",
    "nombre_exposed        566\n",
    "nombre_recovered    16293\n",
    "Name: 408, dtype: int64"
   ]
  },
  {
   "cell_type": "markdown",
   "id": "40170efc",
   "metadata": {},
   "source": [
    "nombre_infected       799\n",
    "nombre_sain          2286\n",
    "nombre_exposed        582\n",
    "nombre_recovered    16333\n",
    "Name: 409, dtype: int64"
   ]
  },
  {
   "cell_type": "markdown",
   "id": "7c98654a",
   "metadata": {},
   "source": [
    "nombre_infected       809\n",
    "nombre_sain          2259\n",
    "nombre_exposed        599\n",
    "nombre_recovered    16333\n",
    "Name: 410, dtype: int64"
   ]
  },
  {
   "cell_type": "markdown",
   "id": "fe8d603c",
   "metadata": {},
   "source": [
    "nombre_infected       827\n",
    "nombre_sain          2241\n",
    "nombre_exposed        604\n",
    "nombre_recovered    16328\n",
    "Name: 411, dtype: int64"
   ]
  },
  {
   "cell_type": "markdown",
   "id": "e1d5ba06",
   "metadata": {},
   "source": [
    "nombre_infected       829\n",
    "nombre_sain          2229\n",
    "nombre_exposed        592\n",
    "nombre_recovered    16350\n",
    "Name: 412, dtype: int64"
   ]
  },
  {
   "cell_type": "markdown",
   "id": "d5bfcee7",
   "metadata": {},
   "source": [
    "nombre_infected       827\n",
    "nombre_sain          2204\n",
    "nombre_exposed        593\n",
    "nombre_recovered    16376\n",
    "Name: 413, dtype: int64"
   ]
  },
  {
   "cell_type": "markdown",
   "id": "0d15402d",
   "metadata": {},
   "source": [
    "nombre_infected       851\n",
    "nombre_sain          2186\n",
    "nombre_exposed        585\n",
    "nombre_recovered    16378\n",
    "Name: 414, dtype: int64"
   ]
  },
  {
   "cell_type": "markdown",
   "id": "2b62b33c",
   "metadata": {},
   "source": [
    "nombre_infected       858\n",
    "nombre_sain          2179\n",
    "nombre_exposed        561\n",
    "nombre_recovered    16402\n",
    "Name: 415, dtype: int64"
   ]
  },
  {
   "cell_type": "markdown",
   "id": "e3826df9",
   "metadata": {},
   "source": [
    "nombre_infected       854\n",
    "nombre_sain          2186\n",
    "nombre_exposed        555\n",
    "nombre_recovered    16405\n",
    "Name: 416, dtype: int64"
   ]
  },
  {
   "cell_type": "markdown",
   "id": "895d60d9",
   "metadata": {},
   "source": [
    "nombre_infected       867\n",
    "nombre_sain          2179\n",
    "nombre_exposed        546\n",
    "nombre_recovered    16408\n",
    "Name: 417, dtype: int64"
   ]
  },
  {
   "cell_type": "markdown",
   "id": "57133284",
   "metadata": {},
   "source": [
    "nombre_infected       869\n",
    "nombre_sain          2181\n",
    "nombre_exposed        565\n",
    "nombre_recovered    16385\n",
    "Name: 418, dtype: int64"
   ]
  },
  {
   "cell_type": "markdown",
   "id": "1baa7d8d",
   "metadata": {},
   "source": [
    "nombre_infected       861\n",
    "nombre_sain          2190\n",
    "nombre_exposed        560\n",
    "nombre_recovered    16389\n",
    "Name: 419, dtype: int64"
   ]
  },
  {
   "cell_type": "markdown",
   "id": "0df9a0b0",
   "metadata": {},
   "source": [
    "nombre_infected       850\n",
    "nombre_sain          2206\n",
    "nombre_exposed        563\n",
    "nombre_recovered    16381\n",
    "Name: 420, dtype: int64"
   ]
  },
  {
   "cell_type": "markdown",
   "id": "b7500c3a",
   "metadata": {},
   "source": [
    "nombre_infected       861\n",
    "nombre_sain          2223\n",
    "nombre_exposed        538\n",
    "nombre_recovered    16378\n",
    "Name: 421, dtype: int64"
   ]
  },
  {
   "cell_type": "markdown",
   "id": "97e17fa8",
   "metadata": {},
   "source": [
    "nombre_infected       859\n",
    "nombre_sain          2220\n",
    "nombre_exposed        548\n",
    "nombre_recovered    16373\n",
    "Name: 422, dtype: int64"
   ]
  },
  {
   "cell_type": "markdown",
   "id": "349e7469",
   "metadata": {},
   "source": [
    "nombre_infected       869\n",
    "nombre_sain          2233\n",
    "nombre_exposed        533\n",
    "nombre_recovered    16365\n",
    "Name: 423, dtype: int64"
   ]
  },
  {
   "cell_type": "markdown",
   "id": "f92b82d1",
   "metadata": {},
   "source": [
    "nombre_infected       878\n",
    "nombre_sain          2229\n",
    "nombre_exposed        536\n",
    "nombre_recovered    16357\n",
    "Name: 424, dtype: int64"
   ]
  },
  {
   "cell_type": "markdown",
   "id": "288db2d4",
   "metadata": {},
   "source": [
    "nombre_infected       863\n",
    "nombre_sain          2225\n",
    "nombre_exposed        525\n",
    "nombre_recovered    16387\n",
    "Name: 425, dtype: int64"
   ]
  },
  {
   "cell_type": "markdown",
   "id": "3754117a",
   "metadata": {},
   "source": [
    "nombre_infected       888\n",
    "nombre_sain          2251\n",
    "nombre_exposed        500\n",
    "nombre_recovered    16361\n",
    "Name: 426, dtype: int64"
   ]
  },
  {
   "cell_type": "markdown",
   "id": "2b1dbe48",
   "metadata": {},
   "source": [
    "nombre_infected       872\n",
    "nombre_sain          2270\n",
    "nombre_exposed        513\n",
    "nombre_recovered    16345\n",
    "Name: 427, dtype: int64"
   ]
  },
  {
   "cell_type": "markdown",
   "id": "b1fdd0be",
   "metadata": {},
   "source": [
    "nombre_infected       843\n",
    "nombre_sain          2254\n",
    "nombre_exposed        557\n",
    "nombre_recovered    16346\n",
    "Name: 428, dtype: int64"
   ]
  },
  {
   "cell_type": "markdown",
   "id": "435d2b14",
   "metadata": {},
   "source": [
    "nombre_infected       853\n",
    "nombre_sain          2257\n",
    "nombre_exposed        565\n",
    "nombre_recovered    16325\n",
    "Name: 429, dtype: int64"
   ]
  },
  {
   "cell_type": "markdown",
   "id": "9555620b",
   "metadata": {},
   "source": [
    "nombre_infected       859\n",
    "nombre_sain          2268\n",
    "nombre_exposed        542\n",
    "nombre_recovered    16331\n",
    "Name: 430, dtype: int64"
   ]
  },
  {
   "cell_type": "markdown",
   "id": "e60865a9",
   "metadata": {},
   "source": [
    "nombre_infected       861\n",
    "nombre_sain          2263\n",
    "nombre_exposed        555\n",
    "nombre_recovered    16321\n",
    "Name: 431, dtype: int64"
   ]
  },
  {
   "cell_type": "markdown",
   "id": "1de9b5b5",
   "metadata": {},
   "source": [
    "nombre_infected       876\n",
    "nombre_sain          2290\n",
    "nombre_exposed        534\n",
    "nombre_recovered    16300\n",
    "Name: 432, dtype: int64"
   ]
  },
  {
   "cell_type": "markdown",
   "id": "9f2a2cbd",
   "metadata": {},
   "source": [
    "nombre_infected       883\n",
    "nombre_sain          2249\n",
    "nombre_exposed        551\n",
    "nombre_recovered    16317\n",
    "Name: 433, dtype: int64"
   ]
  },
  {
   "cell_type": "markdown",
   "id": "4e1ceb32",
   "metadata": {},
   "source": [
    "nombre_infected       883\n",
    "nombre_sain          2256\n",
    "nombre_exposed        546\n",
    "nombre_recovered    16315\n",
    "Name: 434, dtype: int64"
   ]
  },
  {
   "cell_type": "markdown",
   "id": "5db7a7a8",
   "metadata": {},
   "source": [
    "nombre_infected       889\n",
    "nombre_sain          2276\n",
    "nombre_exposed        515\n",
    "nombre_recovered    16320\n",
    "Name: 435, dtype: int64"
   ]
  },
  {
   "cell_type": "markdown",
   "id": "caababb8",
   "metadata": {},
   "source": [
    "nombre_infected       879\n",
    "nombre_sain          2270\n",
    "nombre_exposed        518\n",
    "nombre_recovered    16333\n",
    "Name: 436, dtype: int64"
   ]
  },
  {
   "cell_type": "markdown",
   "id": "2f481859",
   "metadata": {},
   "source": [
    "nombre_infected       853\n",
    "nombre_sain          2296\n",
    "nombre_exposed        513\n",
    "nombre_recovered    16338\n",
    "Name: 437, dtype: int64"
   ]
  },
  {
   "cell_type": "markdown",
   "id": "d6722598",
   "metadata": {},
   "source": [
    "nombre_infected       870\n",
    "nombre_sain          2276\n",
    "nombre_exposed        518\n",
    "nombre_recovered    16336\n",
    "Name: 438, dtype: int64"
   ]
  },
  {
   "cell_type": "markdown",
   "id": "00e00c2f",
   "metadata": {},
   "source": [
    "nombre_infected       851\n",
    "nombre_sain          2260\n",
    "nombre_exposed        532\n",
    "nombre_recovered    16357\n",
    "Name: 439, dtype: int64"
   ]
  },
  {
   "cell_type": "markdown",
   "id": "623368af",
   "metadata": {},
   "source": [
    "nombre_infected       851\n",
    "nombre_sain          2276\n",
    "nombre_exposed        518\n",
    "nombre_recovered    16355\n",
    "Name: 440, dtype: int64"
   ]
  },
  {
   "cell_type": "markdown",
   "id": "4971f70e",
   "metadata": {},
   "source": [
    "nombre_infected       838\n",
    "nombre_sain          2258\n",
    "nombre_exposed        533\n",
    "nombre_recovered    16371\n",
    "Name: 441, dtype: int64"
   ]
  },
  {
   "cell_type": "markdown",
   "id": "62df846e",
   "metadata": {},
   "source": [
    "nombre_infected       832\n",
    "nombre_sain          2250\n",
    "nombre_exposed        532\n",
    "nombre_recovered    16386\n",
    "Name: 442, dtype: int64"
   ]
  },
  {
   "cell_type": "markdown",
   "id": "0b3a4011",
   "metadata": {},
   "source": [
    "nombre_infected       845\n",
    "nombre_sain          2275\n",
    "nombre_exposed        497\n",
    "nombre_recovered    16383\n",
    "Name: 443, dtype: int64"
   ]
  },
  {
   "cell_type": "markdown",
   "id": "540fc16b",
   "metadata": {},
   "source": [
    "nombre_infected       863\n",
    "nombre_sain          2268\n",
    "nombre_exposed        478\n",
    "nombre_recovered    16391\n",
    "Name: 444, dtype: int64"
   ]
  },
  {
   "cell_type": "markdown",
   "id": "7ff9ada0",
   "metadata": {},
   "source": [
    "nombre_infected       851\n",
    "nombre_sain          2267\n",
    "nombre_exposed        507\n",
    "nombre_recovered    16375\n",
    "Name: 445, dtype: int64"
   ]
  },
  {
   "cell_type": "markdown",
   "id": "b033089e",
   "metadata": {},
   "source": [
    "nombre_infected       856\n",
    "nombre_sain          2295\n",
    "nombre_exposed        498\n",
    "nombre_recovered    16351\n",
    "Name: 446, dtype: int64"
   ]
  },
  {
   "cell_type": "markdown",
   "id": "93ebb6e0",
   "metadata": {},
   "source": [
    "nombre_infected       857\n",
    "nombre_sain          2309\n",
    "nombre_exposed        487\n",
    "nombre_recovered    16347\n",
    "Name: 447, dtype: int64"
   ]
  },
  {
   "cell_type": "markdown",
   "id": "711ac621",
   "metadata": {},
   "source": [
    "nombre_infected       853\n",
    "nombre_sain          2312\n",
    "nombre_exposed        502\n",
    "nombre_recovered    16333\n",
    "Name: 448, dtype: int64"
   ]
  },
  {
   "cell_type": "markdown",
   "id": "8e3eb674",
   "metadata": {},
   "source": [
    "nombre_infected       845\n",
    "nombre_sain          2309\n",
    "nombre_exposed        495\n",
    "nombre_recovered    16351\n",
    "Name: 449, dtype: int64"
   ]
  },
  {
   "cell_type": "markdown",
   "id": "c1ad0fad",
   "metadata": {},
   "source": [
    "nombre_infected       858\n",
    "nombre_sain          2327\n",
    "nombre_exposed        492\n",
    "nombre_recovered    16323\n",
    "Name: 450, dtype: int64"
   ]
  },
  {
   "cell_type": "markdown",
   "id": "cd455bf2",
   "metadata": {},
   "source": [
    "nombre_infected       865\n",
    "nombre_sain          2341\n",
    "nombre_exposed        492\n",
    "nombre_recovered    16302\n",
    "Name: 451, dtype: int64"
   ]
  },
  {
   "cell_type": "markdown",
   "id": "06974090",
   "metadata": {},
   "source": [
    "nombre_infected       832\n",
    "nombre_sain          2344\n",
    "nombre_exposed        497\n",
    "nombre_recovered    16327\n",
    "Name: 452, dtype: int64"
   ]
  },
  {
   "cell_type": "markdown",
   "id": "b6d86ef6",
   "metadata": {},
   "source": [
    "nombre_infected       801\n",
    "nombre_sain          2347\n",
    "nombre_exposed        494\n",
    "nombre_recovered    16358\n",
    "Name: 453, dtype: int64"
   ]
  },
  {
   "cell_type": "markdown",
   "id": "8423f10a",
   "metadata": {},
   "source": [
    "nombre_infected       829\n",
    "nombre_sain          2324\n",
    "nombre_exposed        497\n",
    "nombre_recovered    16350\n",
    "Name: 454, dtype: int64"
   ]
  },
  {
   "cell_type": "markdown",
   "id": "b293c3ec",
   "metadata": {},
   "source": [
    "nombre_infected       827\n",
    "nombre_sain          2334\n",
    "nombre_exposed        513\n",
    "nombre_recovered    16326\n",
    "Name: 455, dtype: int64"
   ]
  },
  {
   "cell_type": "markdown",
   "id": "d5ebd379",
   "metadata": {},
   "source": [
    "nombre_infected       826\n",
    "nombre_sain          2336\n",
    "nombre_exposed        521\n",
    "nombre_recovered    16317\n",
    "Name: 456, dtype: int64"
   ]
  },
  {
   "cell_type": "markdown",
   "id": "dede6cc5",
   "metadata": {},
   "source": [
    "nombre_infected       809\n",
    "nombre_sain          2321\n",
    "nombre_exposed        533\n",
    "nombre_recovered    16337\n",
    "Name: 457, dtype: int64"
   ]
  },
  {
   "cell_type": "markdown",
   "id": "9d052421",
   "metadata": {},
   "source": [
    "nombre_infected       812\n",
    "nombre_sain          2323\n",
    "nombre_exposed        536\n",
    "nombre_recovered    16329\n",
    "Name: 458, dtype: int64"
   ]
  },
  {
   "cell_type": "markdown",
   "id": "4a4e9a41",
   "metadata": {},
   "source": [
    "nombre_infected       821\n",
    "nombre_sain          2333\n",
    "nombre_exposed        535\n",
    "nombre_recovered    16311\n",
    "Name: 459, dtype: int64"
   ]
  },
  {
   "cell_type": "markdown",
   "id": "2e6b7289",
   "metadata": {},
   "source": [
    "nombre_infected       821\n",
    "nombre_sain          2354\n",
    "nombre_exposed        536\n",
    "nombre_recovered    16289\n",
    "Name: 460, dtype: int64"
   ]
  },
  {
   "cell_type": "markdown",
   "id": "5242d731",
   "metadata": {},
   "source": [
    "nombre_infected       835\n",
    "nombre_sain          2320\n",
    "nombre_exposed        550\n",
    "nombre_recovered    16295\n",
    "Name: 461, dtype: int64"
   ]
  },
  {
   "cell_type": "markdown",
   "id": "5f645804",
   "metadata": {},
   "source": [
    "nombre_infected       828\n",
    "nombre_sain          2303\n",
    "nombre_exposed        570\n",
    "nombre_recovered    16299\n",
    "Name: 462, dtype: int64"
   ]
  },
  {
   "cell_type": "markdown",
   "id": "f77d9bcf",
   "metadata": {},
   "source": [
    "nombre_infected       862\n",
    "nombre_sain          2297\n",
    "nombre_exposed        547\n",
    "nombre_recovered    16294\n",
    "Name: 463, dtype: int64"
   ]
  },
  {
   "cell_type": "markdown",
   "id": "5a18125e",
   "metadata": {},
   "source": [
    "nombre_infected       859\n",
    "nombre_sain          2308\n",
    "nombre_exposed        554\n",
    "nombre_recovered    16279\n",
    "Name: 464, dtype: int64"
   ]
  },
  {
   "cell_type": "markdown",
   "id": "6e222b1b",
   "metadata": {},
   "source": [
    "nombre_infected       880\n",
    "nombre_sain          2295\n",
    "nombre_exposed        560\n",
    "nombre_recovered    16265\n",
    "Name: 465, dtype: int64"
   ]
  },
  {
   "cell_type": "markdown",
   "id": "db772590",
   "metadata": {},
   "source": [
    "nombre_infected       879\n",
    "nombre_sain          2281\n",
    "nombre_exposed        560\n",
    "nombre_recovered    16280\n",
    "Name: 466, dtype: int64"
   ]
  },
  {
   "cell_type": "markdown",
   "id": "f8de5b63",
   "metadata": {},
   "source": [
    "nombre_infected       894\n",
    "nombre_sain          2286\n",
    "nombre_exposed        534\n",
    "nombre_recovered    16286\n",
    "Name: 467, dtype: int64"
   ]
  },
  {
   "cell_type": "markdown",
   "id": "7cfc35ac",
   "metadata": {},
   "source": [
    "nombre_infected       914\n",
    "nombre_sain          2277\n",
    "nombre_exposed        530\n",
    "nombre_recovered    16279\n",
    "Name: 468, dtype: int64"
   ]
  },
  {
   "cell_type": "markdown",
   "id": "304704a2",
   "metadata": {},
   "source": [
    "nombre_infected       918\n",
    "nombre_sain          2287\n",
    "nombre_exposed        542\n",
    "nombre_recovered    16253\n",
    "Name: 469, dtype: int64"
   ]
  },
  {
   "cell_type": "markdown",
   "id": "17f57dfc",
   "metadata": {},
   "source": [
    "nombre_infected       902\n",
    "nombre_sain          2313\n",
    "nombre_exposed        549\n",
    "nombre_recovered    16236\n",
    "Name: 470, dtype: int64"
   ]
  },
  {
   "cell_type": "markdown",
   "id": "f4515a32",
   "metadata": {},
   "source": [
    "nombre_infected       898\n",
    "nombre_sain          2305\n",
    "nombre_exposed        550\n",
    "nombre_recovered    16247\n",
    "Name: 471, dtype: int64"
   ]
  },
  {
   "cell_type": "markdown",
   "id": "0c1570ae",
   "metadata": {},
   "source": [
    "nombre_infected       901\n",
    "nombre_sain          2306\n",
    "nombre_exposed        557\n",
    "nombre_recovered    16236\n",
    "Name: 472, dtype: int64"
   ]
  },
  {
   "cell_type": "markdown",
   "id": "77e5e6af",
   "metadata": {},
   "source": [
    "nombre_infected       898\n",
    "nombre_sain          2314\n",
    "nombre_exposed        572\n",
    "nombre_recovered    16216\n",
    "Name: 473, dtype: int64"
   ]
  },
  {
   "cell_type": "markdown",
   "id": "a401db7b",
   "metadata": {},
   "source": [
    "nombre_infected       889\n",
    "nombre_sain          2318\n",
    "nombre_exposed        559\n",
    "nombre_recovered    16234\n",
    "Name: 474, dtype: int64"
   ]
  },
  {
   "cell_type": "markdown",
   "id": "81327bb5",
   "metadata": {},
   "source": [
    "nombre_infected       894\n",
    "nombre_sain          2319\n",
    "nombre_exposed        561\n",
    "nombre_recovered    16226\n",
    "Name: 475, dtype: int64"
   ]
  },
  {
   "cell_type": "markdown",
   "id": "427b84b3",
   "metadata": {},
   "source": [
    "nombre_infected       912\n",
    "nombre_sain          2326\n",
    "nombre_exposed        545\n",
    "nombre_recovered    16217\n",
    "Name: 476, dtype: int64"
   ]
  },
  {
   "cell_type": "markdown",
   "id": "24eea6d1",
   "metadata": {},
   "source": [
    "nombre_infected       914\n",
    "nombre_sain          2316\n",
    "nombre_exposed        544\n",
    "nombre_recovered    16226\n",
    "Name: 477, dtype: int64"
   ]
  },
  {
   "cell_type": "markdown",
   "id": "470a2048",
   "metadata": {},
   "source": [
    "nombre_infected       890\n",
    "nombre_sain          2314\n",
    "nombre_exposed        550\n",
    "nombre_recovered    16246\n",
    "Name: 478, dtype: int64"
   ]
  },
  {
   "cell_type": "markdown",
   "id": "7eb9b17e",
   "metadata": {},
   "source": [
    "nombre_infected       866\n",
    "nombre_sain          2300\n",
    "nombre_exposed        565\n",
    "nombre_recovered    16269\n",
    "Name: 479, dtype: int64"
   ]
  },
  {
   "cell_type": "markdown",
   "id": "f57f1a02",
   "metadata": {},
   "source": [
    "nombre_infected       866\n",
    "nombre_sain          2274\n",
    "nombre_exposed        579\n",
    "nombre_recovered    16281\n",
    "Name: 480, dtype: int64"
   ]
  },
  {
   "cell_type": "markdown",
   "id": "9bf5f8ce",
   "metadata": {},
   "source": [
    "nombre_infected       863\n",
    "nombre_sain          2280\n",
    "nombre_exposed        560\n",
    "nombre_recovered    16297\n",
    "Name: 481, dtype: int64"
   ]
  },
  {
   "cell_type": "markdown",
   "id": "be6a6995",
   "metadata": {},
   "source": [
    "nombre_infected       850\n",
    "nombre_sain          2288\n",
    "nombre_exposed        545\n",
    "nombre_recovered    16317\n",
    "Name: 482, dtype: int64"
   ]
  },
  {
   "cell_type": "markdown",
   "id": "639358c9",
   "metadata": {},
   "source": [
    "nombre_infected       855\n",
    "nombre_sain          2271\n",
    "nombre_exposed        548\n",
    "nombre_recovered    16326\n",
    "Name: 483, dtype: int64"
   ]
  },
  {
   "cell_type": "markdown",
   "id": "3066a768",
   "metadata": {},
   "source": [
    "nombre_infected       846\n",
    "nombre_sain          2284\n",
    "nombre_exposed        547\n",
    "nombre_recovered    16323\n",
    "Name: 484, dtype: int64"
   ]
  },
  {
   "cell_type": "markdown",
   "id": "15f1e5b6",
   "metadata": {},
   "source": [
    "nombre_infected       864\n",
    "nombre_sain          2289\n",
    "nombre_exposed        533\n",
    "nombre_recovered    16314\n",
    "Name: 485, dtype: int64"
   ]
  },
  {
   "cell_type": "markdown",
   "id": "2f2d8db0",
   "metadata": {},
   "source": [
    "nombre_infected       866\n",
    "nombre_sain          2279\n",
    "nombre_exposed        541\n",
    "nombre_recovered    16314\n",
    "Name: 486, dtype: int64"
   ]
  },
  {
   "cell_type": "markdown",
   "id": "0803038c",
   "metadata": {},
   "source": [
    "nombre_infected       862\n",
    "nombre_sain          2270\n",
    "nombre_exposed        543\n",
    "nombre_recovered    16325\n",
    "Name: 487, dtype: int64"
   ]
  },
  {
   "cell_type": "markdown",
   "id": "1ea4d4fe",
   "metadata": {},
   "source": [
    "nombre_infected       862\n",
    "nombre_sain          2262\n",
    "nombre_exposed        532\n",
    "nombre_recovered    16344\n",
    "Name: 488, dtype: int64"
   ]
  },
  {
   "cell_type": "markdown",
   "id": "a0cd7804",
   "metadata": {},
   "source": [
    "nombre_infected       869\n",
    "nombre_sain          2272\n",
    "nombre_exposed        519\n",
    "nombre_recovered    16340\n",
    "Name: 489, dtype: int64"
   ]
  },
  {
   "cell_type": "markdown",
   "id": "0b999ce6",
   "metadata": {},
   "source": [
    "nombre_infected       855\n",
    "nombre_sain          2258\n",
    "nombre_exposed        535\n",
    "nombre_recovered    16352\n",
    "Name: 490, dtype: int64"
   ]
  },
  {
   "cell_type": "markdown",
   "id": "f3c29035",
   "metadata": {},
   "source": [
    "nombre_infected       853\n",
    "nombre_sain          2240\n",
    "nombre_exposed        529\n",
    "nombre_recovered    16378\n",
    "Name: 491, dtype: int64"
   ]
  },
  {
   "cell_type": "markdown",
   "id": "0fd75027",
   "metadata": {},
   "source": [
    "nombre_infected       852\n",
    "nombre_sain          2215\n",
    "nombre_exposed        532\n",
    "nombre_recovered    16401\n",
    "Name: 492, dtype: int64"
   ]
  },
  {
   "cell_type": "markdown",
   "id": "29c64484",
   "metadata": {},
   "source": [
    "nombre_infected       826\n",
    "nombre_sain          2191\n",
    "nombre_exposed        556\n",
    "nombre_recovered    16427\n",
    "Name: 493, dtype: int64"
   ]
  },
  {
   "cell_type": "markdown",
   "id": "b361cd67",
   "metadata": {},
   "source": [
    "nombre_infected       851\n",
    "nombre_sain          2155\n",
    "nombre_exposed        548\n",
    "nombre_recovered    16446\n",
    "Name: 494, dtype: int64"
   ]
  },
  {
   "cell_type": "markdown",
   "id": "f17863a9",
   "metadata": {},
   "source": [
    "nombre_infected       852\n",
    "nombre_sain          2154\n",
    "nombre_exposed        546\n",
    "nombre_recovered    16448\n",
    "Name: 495, dtype: int64"
   ]
  },
  {
   "cell_type": "markdown",
   "id": "63b75a74",
   "metadata": {},
   "source": [
    "nombre_infected       866\n",
    "nombre_sain          2162\n",
    "nombre_exposed        538\n",
    "nombre_recovered    16434\n",
    "Name: 496, dtype: int64"
   ]
  },
  {
   "cell_type": "markdown",
   "id": "8d55a92c",
   "metadata": {},
   "source": [
    "nombre_infected       867\n",
    "nombre_sain          2139\n",
    "nombre_exposed        526\n",
    "nombre_recovered    16468\n",
    "Name: 497, dtype: int64"
   ]
  },
  {
   "cell_type": "markdown",
   "id": "cacd5496",
   "metadata": {},
   "source": [
    "nombre_infected       857\n",
    "nombre_sain          2120\n",
    "nombre_exposed        538\n",
    "nombre_recovered    16485\n",
    "Name: 498, dtype: int64"
   ]
  },
  {
   "cell_type": "markdown",
   "id": "8f7b862d",
   "metadata": {},
   "source": [
    "nombre_infected       834\n",
    "nombre_sain          2112\n",
    "nombre_exposed        517\n",
    "nombre_recovered    16537\n",
    "Name: 499, dtype: int64"
   ]
  },
  {
   "cell_type": "markdown",
   "id": "10c96e37",
   "metadata": {},
   "source": [
    "nombre_infected       812\n",
    "nombre_sain          2089\n",
    "nombre_exposed        505\n",
    "nombre_recovered    16594\n",
    "Name: 500, dtype: int64"
   ]
  },
  {
   "cell_type": "markdown",
   "id": "fd40d66a",
   "metadata": {},
   "source": [
    "nombre_infected       784\n",
    "nombre_sain          2091\n",
    "nombre_exposed        529\n",
    "nombre_recovered    16596\n",
    "Name: 501, dtype: int64"
   ]
  },
  {
   "cell_type": "markdown",
   "id": "626ebda8",
   "metadata": {},
   "source": [
    "nombre_infected       759\n",
    "nombre_sain          2112\n",
    "nombre_exposed        518\n",
    "nombre_recovered    16611\n",
    "Name: 502, dtype: int64"
   ]
  },
  {
   "cell_type": "markdown",
   "id": "0dd1801e",
   "metadata": {},
   "source": [
    "nombre_infected       768\n",
    "nombre_sain          2111\n",
    "nombre_exposed        505\n",
    "nombre_recovered    16616\n",
    "Name: 503, dtype: int64"
   ]
  },
  {
   "cell_type": "markdown",
   "id": "c8117e67",
   "metadata": {},
   "source": [
    "nombre_infected       802\n",
    "nombre_sain          2088\n",
    "nombre_exposed        487\n",
    "nombre_recovered    16623\n",
    "Name: 504, dtype: int64"
   ]
  },
  {
   "cell_type": "markdown",
   "id": "af033178",
   "metadata": {},
   "source": [
    "nombre_infected       776\n",
    "nombre_sain          2101\n",
    "nombre_exposed        485\n",
    "nombre_recovered    16638\n",
    "Name: 505, dtype: int64"
   ]
  },
  {
   "cell_type": "markdown",
   "id": "f2fe77e5",
   "metadata": {},
   "source": [
    "nombre_infected       778\n",
    "nombre_sain          2104\n",
    "nombre_exposed        477\n",
    "nombre_recovered    16641\n",
    "Name: 506, dtype: int64"
   ]
  },
  {
   "cell_type": "markdown",
   "id": "5d75b66a",
   "metadata": {},
   "source": [
    "nombre_infected       789\n",
    "nombre_sain          2126\n",
    "nombre_exposed        468\n",
    "nombre_recovered    16617\n",
    "Name: 507, dtype: int64"
   ]
  },
  {
   "cell_type": "markdown",
   "id": "6d582992",
   "metadata": {},
   "source": [
    "nombre_infected       775\n",
    "nombre_sain          2115\n",
    "nombre_exposed        463\n",
    "nombre_recovered    16647\n",
    "Name: 508, dtype: int64"
   ]
  },
  {
   "cell_type": "markdown",
   "id": "8c421fe0",
   "metadata": {},
   "source": [
    "nombre_infected       758\n",
    "nombre_sain          2119\n",
    "nombre_exposed        471\n",
    "nombre_recovered    16652\n",
    "Name: 509, dtype: int64"
   ]
  },
  {
   "cell_type": "markdown",
   "id": "3f890f8e",
   "metadata": {},
   "source": [
    "nombre_infected       733\n",
    "nombre_sain          2122\n",
    "nombre_exposed        482\n",
    "nombre_recovered    16663\n",
    "Name: 510, dtype: int64"
   ]
  },
  {
   "cell_type": "markdown",
   "id": "58ab27dc",
   "metadata": {},
   "source": [
    "nombre_infected       726\n",
    "nombre_sain          2134\n",
    "nombre_exposed        485\n",
    "nombre_recovered    16655\n",
    "Name: 511, dtype: int64"
   ]
  },
  {
   "cell_type": "markdown",
   "id": "eef3a176",
   "metadata": {},
   "source": [
    "nombre_infected       737\n",
    "nombre_sain          2163\n",
    "nombre_exposed        458\n",
    "nombre_recovered    16642\n",
    "Name: 512, dtype: int64"
   ]
  },
  {
   "cell_type": "markdown",
   "id": "0018c967",
   "metadata": {},
   "source": [
    "nombre_infected       723\n",
    "nombre_sain          2156\n",
    "nombre_exposed        479\n",
    "nombre_recovered    16642\n",
    "Name: 513, dtype: int64"
   ]
  },
  {
   "cell_type": "markdown",
   "id": "85ed7958",
   "metadata": {},
   "source": [
    "nombre_infected       728\n",
    "nombre_sain          2165\n",
    "nombre_exposed        468\n",
    "nombre_recovered    16639\n",
    "Name: 514, dtype: int64"
   ]
  },
  {
   "cell_type": "markdown",
   "id": "d34ccfe1",
   "metadata": {},
   "source": [
    "nombre_infected       677\n",
    "nombre_sain          2165\n",
    "nombre_exposed        487\n",
    "nombre_recovered    16671\n",
    "Name: 515, dtype: int64"
   ]
  },
  {
   "cell_type": "markdown",
   "id": "60e1220a",
   "metadata": {},
   "source": [
    "nombre_infected       671\n",
    "nombre_sain          2185\n",
    "nombre_exposed        498\n",
    "nombre_recovered    16646\n",
    "Name: 516, dtype: int64"
   ]
  },
  {
   "cell_type": "markdown",
   "id": "99fb4314",
   "metadata": {},
   "source": [
    "nombre_infected       679\n",
    "nombre_sain          2219\n",
    "nombre_exposed        471\n",
    "nombre_recovered    16631\n",
    "Name: 517, dtype: int64"
   ]
  },
  {
   "cell_type": "markdown",
   "id": "04974f03",
   "metadata": {},
   "source": [
    "nombre_infected       674\n",
    "nombre_sain          2203\n",
    "nombre_exposed        490\n",
    "nombre_recovered    16633\n",
    "Name: 518, dtype: int64"
   ]
  },
  {
   "cell_type": "markdown",
   "id": "493d6ddd",
   "metadata": {},
   "source": [
    "nombre_infected       677\n",
    "nombre_sain          2209\n",
    "nombre_exposed        489\n",
    "nombre_recovered    16625\n",
    "Name: 519, dtype: int64"
   ]
  },
  {
   "cell_type": "markdown",
   "id": "d85d4856",
   "metadata": {},
   "source": [
    "nombre_infected       667\n",
    "nombre_sain          2219\n",
    "nombre_exposed        469\n",
    "nombre_recovered    16645\n",
    "Name: 520, dtype: int64"
   ]
  },
  {
   "cell_type": "markdown",
   "id": "125709df",
   "metadata": {},
   "source": [
    "nombre_infected       656\n",
    "nombre_sain          2240\n",
    "nombre_exposed        457\n",
    "nombre_recovered    16647\n",
    "Name: 521, dtype: int64"
   ]
  },
  {
   "cell_type": "markdown",
   "id": "5dbb38dc",
   "metadata": {},
   "source": [
    "nombre_infected       653\n",
    "nombre_sain          2268\n",
    "nombre_exposed        455\n",
    "nombre_recovered    16624\n",
    "Name: 522, dtype: int64"
   ]
  },
  {
   "cell_type": "markdown",
   "id": "2ceed2d3",
   "metadata": {},
   "source": [
    "nombre_infected       657\n",
    "nombre_sain          2302\n",
    "nombre_exposed        441\n",
    "nombre_recovered    16600\n",
    "Name: 523, dtype: int64"
   ]
  },
  {
   "cell_type": "markdown",
   "id": "bc529b5b",
   "metadata": {},
   "source": [
    "nombre_infected       649\n",
    "nombre_sain          2316\n",
    "nombre_exposed        453\n",
    "nombre_recovered    16582\n",
    "Name: 524, dtype: int64"
   ]
  },
  {
   "cell_type": "markdown",
   "id": "61c581e5",
   "metadata": {},
   "source": [
    "nombre_infected       649\n",
    "nombre_sain          2337\n",
    "nombre_exposed        453\n",
    "nombre_recovered    16561\n",
    "Name: 525, dtype: int64"
   ]
  },
  {
   "cell_type": "markdown",
   "id": "7b1e33cd",
   "metadata": {},
   "source": [
    "nombre_infected       627\n",
    "nombre_sain          2311\n",
    "nombre_exposed        501\n",
    "nombre_recovered    16561\n",
    "Name: 526, dtype: int64"
   ]
  },
  {
   "cell_type": "markdown",
   "id": "a2d06732",
   "metadata": {},
   "source": [
    "nombre_infected       612\n",
    "nombre_sain          2320\n",
    "nombre_exposed        499\n",
    "nombre_recovered    16569\n",
    "Name: 527, dtype: int64"
   ]
  },
  {
   "cell_type": "markdown",
   "id": "74e31e56",
   "metadata": {},
   "source": [
    "nombre_infected       613\n",
    "nombre_sain          2332\n",
    "nombre_exposed        503\n",
    "nombre_recovered    16552\n",
    "Name: 528, dtype: int64"
   ]
  },
  {
   "cell_type": "markdown",
   "id": "8f30d11c",
   "metadata": {},
   "source": [
    "nombre_infected       613\n",
    "nombre_sain          2338\n",
    "nombre_exposed        501\n",
    "nombre_recovered    16548\n",
    "Name: 529, dtype: int64"
   ]
  },
  {
   "cell_type": "markdown",
   "id": "cbc98511",
   "metadata": {},
   "source": [
    "nombre_infected       619\n",
    "nombre_sain          2346\n",
    "nombre_exposed        502\n",
    "nombre_recovered    16533\n",
    "Name: 530, dtype: int64"
   ]
  },
  {
   "cell_type": "markdown",
   "id": "e890f999",
   "metadata": {},
   "source": [
    "nombre_infected       622\n",
    "nombre_sain          2344\n",
    "nombre_exposed        516\n",
    "nombre_recovered    16518\n",
    "Name: 531, dtype: int64"
   ]
  },
  {
   "cell_type": "markdown",
   "id": "cc218e08",
   "metadata": {},
   "source": [
    "nombre_infected       641\n",
    "nombre_sain          2349\n",
    "nombre_exposed        495\n",
    "nombre_recovered    16515\n",
    "Name: 532, dtype: int64"
   ]
  },
  {
   "cell_type": "markdown",
   "id": "65028b38",
   "metadata": {},
   "source": [
    "nombre_infected       657\n",
    "nombre_sain          2345\n",
    "nombre_exposed        496\n",
    "nombre_recovered    16502\n",
    "Name: 533, dtype: int64"
   ]
  },
  {
   "cell_type": "markdown",
   "id": "f6e51a9e",
   "metadata": {},
   "source": [
    "nombre_infected       668\n",
    "nombre_sain          2364\n",
    "nombre_exposed        488\n",
    "nombre_recovered    16480\n",
    "Name: 534, dtype: int64"
   ]
  },
  {
   "cell_type": "markdown",
   "id": "360764a9",
   "metadata": {},
   "source": [
    "nombre_infected       676\n",
    "nombre_sain          2355\n",
    "nombre_exposed        486\n",
    "nombre_recovered    16483\n",
    "Name: 535, dtype: int64"
   ]
  },
  {
   "cell_type": "markdown",
   "id": "2590aba4",
   "metadata": {},
   "source": [
    "nombre_infected       689\n",
    "nombre_sain          2357\n",
    "nombre_exposed        463\n",
    "nombre_recovered    16491\n",
    "Name: 536, dtype: int64"
   ]
  },
  {
   "cell_type": "markdown",
   "id": "5854cfbc",
   "metadata": {},
   "source": [
    "nombre_infected       664\n",
    "nombre_sain          2352\n",
    "nombre_exposed        475\n",
    "nombre_recovered    16509\n",
    "Name: 537, dtype: int64"
   ]
  },
  {
   "cell_type": "markdown",
   "id": "207a5ae5",
   "metadata": {},
   "source": [
    "nombre_infected       681\n",
    "nombre_sain          2305\n",
    "nombre_exposed        483\n",
    "nombre_recovered    16531\n",
    "Name: 538, dtype: int64"
   ]
  },
  {
   "cell_type": "markdown",
   "id": "b16241b0",
   "metadata": {},
   "source": [
    "nombre_infected       678\n",
    "nombre_sain          2281\n",
    "nombre_exposed        492\n",
    "nombre_recovered    16549\n",
    "Name: 539, dtype: int64"
   ]
  },
  {
   "cell_type": "markdown",
   "id": "ba6c7ae5",
   "metadata": {},
   "source": [
    "nombre_infected       668\n",
    "nombre_sain          2310\n",
    "nombre_exposed        487\n",
    "nombre_recovered    16535\n",
    "Name: 540, dtype: int64"
   ]
  },
  {
   "cell_type": "markdown",
   "id": "ee2dfa7e",
   "metadata": {},
   "source": [
    "nombre_infected       669\n",
    "nombre_sain          2273\n",
    "nombre_exposed        486\n",
    "nombre_recovered    16572\n",
    "Name: 541, dtype: int64"
   ]
  },
  {
   "cell_type": "markdown",
   "id": "b74920d6",
   "metadata": {},
   "source": [
    "nombre_infected       693\n",
    "nombre_sain          2280\n",
    "nombre_exposed        463\n",
    "nombre_recovered    16564\n",
    "Name: 542, dtype: int64"
   ]
  },
  {
   "cell_type": "markdown",
   "id": "5d870807",
   "metadata": {},
   "source": [
    "nombre_infected       703\n",
    "nombre_sain          2282\n",
    "nombre_exposed        459\n",
    "nombre_recovered    16556\n",
    "Name: 543, dtype: int64"
   ]
  },
  {
   "cell_type": "markdown",
   "id": "e3038b6b",
   "metadata": {},
   "source": [
    "nombre_infected       673\n",
    "nombre_sain          2269\n",
    "nombre_exposed        490\n",
    "nombre_recovered    16568\n",
    "Name: 544, dtype: int64"
   ]
  },
  {
   "cell_type": "markdown",
   "id": "e0640717",
   "metadata": {},
   "source": [
    "nombre_infected       681\n",
    "nombre_sain          2279\n",
    "nombre_exposed        484\n",
    "nombre_recovered    16556\n",
    "Name: 545, dtype: int64"
   ]
  },
  {
   "cell_type": "markdown",
   "id": "88115060",
   "metadata": {},
   "source": [
    "nombre_infected       705\n",
    "nombre_sain          2288\n",
    "nombre_exposed        485\n",
    "nombre_recovered    16522\n",
    "Name: 546, dtype: int64"
   ]
  },
  {
   "cell_type": "markdown",
   "id": "06ad3dc3",
   "metadata": {},
   "source": [
    "nombre_infected       704\n",
    "nombre_sain          2289\n",
    "nombre_exposed        468\n",
    "nombre_recovered    16539\n",
    "Name: 547, dtype: int64"
   ]
  },
  {
   "cell_type": "markdown",
   "id": "05973f79",
   "metadata": {},
   "source": [
    "nombre_infected       713\n",
    "nombre_sain          2289\n",
    "nombre_exposed        459\n",
    "nombre_recovered    16539\n",
    "Name: 548, dtype: int64"
   ]
  },
  {
   "cell_type": "markdown",
   "id": "95ab6200",
   "metadata": {},
   "source": [
    "nombre_infected       714\n",
    "nombre_sain          2300\n",
    "nombre_exposed        445\n",
    "nombre_recovered    16541\n",
    "Name: 549, dtype: int64"
   ]
  },
  {
   "cell_type": "markdown",
   "id": "0407d648",
   "metadata": {},
   "source": [
    "nombre_infected       709\n",
    "nombre_sain          2297\n",
    "nombre_exposed        439\n",
    "nombre_recovered    16555\n",
    "Name: 550, dtype: int64"
   ]
  },
  {
   "cell_type": "markdown",
   "id": "7ffc0872",
   "metadata": {},
   "source": [
    "nombre_infected       693\n",
    "nombre_sain          2322\n",
    "nombre_exposed        451\n",
    "nombre_recovered    16534\n",
    "Name: 551, dtype: int64"
   ]
  },
  {
   "cell_type": "markdown",
   "id": "a08d2db0",
   "metadata": {},
   "source": [
    "nombre_infected       701\n",
    "nombre_sain          2334\n",
    "nombre_exposed        444\n",
    "nombre_recovered    16521\n",
    "Name: 552, dtype: int64"
   ]
  },
  {
   "cell_type": "markdown",
   "id": "7902f71f",
   "metadata": {},
   "source": [
    "nombre_infected       703\n",
    "nombre_sain          2325\n",
    "nombre_exposed        445\n",
    "nombre_recovered    16527\n",
    "Name: 553, dtype: int64"
   ]
  },
  {
   "cell_type": "markdown",
   "id": "add45248",
   "metadata": {},
   "source": [
    "nombre_infected       684\n",
    "nombre_sain          2301\n",
    "nombre_exposed        481\n",
    "nombre_recovered    16534\n",
    "Name: 554, dtype: int64"
   ]
  },
  {
   "cell_type": "markdown",
   "id": "2d0a1694",
   "metadata": {},
   "source": [
    "nombre_infected       700\n",
    "nombre_sain          2330\n",
    "nombre_exposed        470\n",
    "nombre_recovered    16500\n",
    "Name: 555, dtype: int64"
   ]
  },
  {
   "cell_type": "markdown",
   "id": "850e8928",
   "metadata": {},
   "source": [
    "nombre_infected       696\n",
    "nombre_sain          2355\n",
    "nombre_exposed        457\n",
    "nombre_recovered    16492\n",
    "Name: 556, dtype: int64"
   ]
  },
  {
   "cell_type": "markdown",
   "id": "66bb0c32",
   "metadata": {},
   "source": [
    "nombre_infected       709\n",
    "nombre_sain          2359\n",
    "nombre_exposed        465\n",
    "nombre_recovered    16467\n",
    "Name: 557, dtype: int64"
   ]
  },
  {
   "cell_type": "markdown",
   "id": "5aa47f5a",
   "metadata": {},
   "source": [
    "nombre_infected       712\n",
    "nombre_sain          2361\n",
    "nombre_exposed        470\n",
    "nombre_recovered    16457\n",
    "Name: 558, dtype: int64"
   ]
  },
  {
   "cell_type": "markdown",
   "id": "51eef07a",
   "metadata": {},
   "source": [
    "nombre_infected       677\n",
    "nombre_sain          2359\n",
    "nombre_exposed        480\n",
    "nombre_recovered    16484\n",
    "Name: 559, dtype: int64"
   ]
  },
  {
   "cell_type": "markdown",
   "id": "e8583e2c",
   "metadata": {},
   "source": [
    "nombre_infected       663\n",
    "nombre_sain          2367\n",
    "nombre_exposed        475\n",
    "nombre_recovered    16495\n",
    "Name: 560, dtype: int64"
   ]
  },
  {
   "cell_type": "markdown",
   "id": "8a485d54",
   "metadata": {},
   "source": [
    "nombre_infected       686\n",
    "nombre_sain          2370\n",
    "nombre_exposed        473\n",
    "nombre_recovered    16471\n",
    "Name: 561, dtype: int64"
   ]
  },
  {
   "cell_type": "markdown",
   "id": "7b47a2e8",
   "metadata": {},
   "source": [
    "nombre_infected       669\n",
    "nombre_sain          2370\n",
    "nombre_exposed        497\n",
    "nombre_recovered    16464\n",
    "Name: 562, dtype: int64"
   ]
  },
  {
   "cell_type": "markdown",
   "id": "1c09148a",
   "metadata": {},
   "source": [
    "nombre_infected       695\n",
    "nombre_sain          2362\n",
    "nombre_exposed        501\n",
    "nombre_recovered    16442\n",
    "Name: 563, dtype: int64"
   ]
  },
  {
   "cell_type": "markdown",
   "id": "4d863e29",
   "metadata": {},
   "source": [
    "nombre_infected       697\n",
    "nombre_sain          2370\n",
    "nombre_exposed        516\n",
    "nombre_recovered    16417\n",
    "Name: 564, dtype: int64"
   ]
  },
  {
   "cell_type": "markdown",
   "id": "f235e763",
   "metadata": {},
   "source": [
    "nombre_infected       710\n",
    "nombre_sain          2346\n",
    "nombre_exposed        531\n",
    "nombre_recovered    16413\n",
    "Name: 565, dtype: int64"
   ]
  },
  {
   "cell_type": "markdown",
   "id": "1846473e",
   "metadata": {},
   "source": [
    "nombre_infected       740\n",
    "nombre_sain          2328\n",
    "nombre_exposed        518\n",
    "nombre_recovered    16414\n",
    "Name: 566, dtype: int64"
   ]
  },
  {
   "cell_type": "markdown",
   "id": "22090a48",
   "metadata": {},
   "source": [
    "nombre_infected       746\n",
    "nombre_sain          2324\n",
    "nombre_exposed        527\n",
    "nombre_recovered    16403\n",
    "Name: 567, dtype: int64"
   ]
  },
  {
   "cell_type": "markdown",
   "id": "ca3f0ab7",
   "metadata": {},
   "source": [
    "nombre_infected       779\n",
    "nombre_sain          2345\n",
    "nombre_exposed        484\n",
    "nombre_recovered    16392\n",
    "Name: 568, dtype: int64"
   ]
  },
  {
   "cell_type": "markdown",
   "id": "8a9f98be",
   "metadata": {},
   "source": [
    "nombre_infected       803\n",
    "nombre_sain          2336\n",
    "nombre_exposed        469\n",
    "nombre_recovered    16392\n",
    "Name: 569, dtype: int64"
   ]
  },
  {
   "cell_type": "markdown",
   "id": "5108cec9",
   "metadata": {},
   "source": [
    "nombre_infected       793\n",
    "nombre_sain          2319\n",
    "nombre_exposed        494\n",
    "nombre_recovered    16394\n",
    "Name: 570, dtype: int64"
   ]
  },
  {
   "cell_type": "markdown",
   "id": "18f4129c",
   "metadata": {},
   "source": [
    "nombre_infected       777\n",
    "nombre_sain          2347\n",
    "nombre_exposed        491\n",
    "nombre_recovered    16385\n",
    "Name: 571, dtype: int64"
   ]
  },
  {
   "cell_type": "markdown",
   "id": "6d315d36",
   "metadata": {},
   "source": [
    "nombre_infected       776\n",
    "nombre_sain          2290\n",
    "nombre_exposed        533\n",
    "nombre_recovered    16401\n",
    "Name: 572, dtype: int64"
   ]
  },
  {
   "cell_type": "markdown",
   "id": "b74635f6",
   "metadata": {},
   "source": [
    "nombre_infected       759\n",
    "nombre_sain          2268\n",
    "nombre_exposed        536\n",
    "nombre_recovered    16437\n",
    "Name: 573, dtype: int64"
   ]
  },
  {
   "cell_type": "markdown",
   "id": "1398acf1",
   "metadata": {},
   "source": [
    "nombre_infected       759\n",
    "nombre_sain          2256\n",
    "nombre_exposed        531\n",
    "nombre_recovered    16454\n",
    "Name: 574, dtype: int64"
   ]
  },
  {
   "cell_type": "markdown",
   "id": "5c8a62b2",
   "metadata": {},
   "source": [
    "nombre_infected       742\n",
    "nombre_sain          2262\n",
    "nombre_exposed        511\n",
    "nombre_recovered    16485\n",
    "Name: 575, dtype: int64"
   ]
  },
  {
   "cell_type": "markdown",
   "id": "693c809e",
   "metadata": {},
   "source": [
    "nombre_infected       741\n",
    "nombre_sain          2248\n",
    "nombre_exposed        515\n",
    "nombre_recovered    16496\n",
    "Name: 576, dtype: int64"
   ]
  },
  {
   "cell_type": "markdown",
   "id": "c547a9dd",
   "metadata": {},
   "source": [
    "nombre_infected       754\n",
    "nombre_sain          2240\n",
    "nombre_exposed        507\n",
    "nombre_recovered    16499\n",
    "Name: 577, dtype: int64"
   ]
  },
  {
   "cell_type": "markdown",
   "id": "19217648",
   "metadata": {},
   "source": [
    "nombre_infected       773\n",
    "nombre_sain          2223\n",
    "nombre_exposed        501\n",
    "nombre_recovered    16503\n",
    "Name: 578, dtype: int64"
   ]
  },
  {
   "cell_type": "markdown",
   "id": "91ac3bbd",
   "metadata": {},
   "source": [
    "nombre_infected       778\n",
    "nombre_sain          2188\n",
    "nombre_exposed        509\n",
    "nombre_recovered    16525\n",
    "Name: 579, dtype: int64"
   ]
  },
  {
   "cell_type": "markdown",
   "id": "21a96bfc",
   "metadata": {},
   "source": [
    "nombre_infected       790\n",
    "nombre_sain          2181\n",
    "nombre_exposed        514\n",
    "nombre_recovered    16515\n",
    "Name: 580, dtype: int64"
   ]
  },
  {
   "cell_type": "markdown",
   "id": "4fdf02a8",
   "metadata": {},
   "source": [
    "nombre_infected       781\n",
    "nombre_sain          2163\n",
    "nombre_exposed        511\n",
    "nombre_recovered    16545\n",
    "Name: 581, dtype: int64"
   ]
  },
  {
   "cell_type": "markdown",
   "id": "dd3bccda",
   "metadata": {},
   "source": [
    "nombre_infected       778\n",
    "nombre_sain          2142\n",
    "nombre_exposed        525\n",
    "nombre_recovered    16555\n",
    "Name: 582, dtype: int64"
   ]
  },
  {
   "cell_type": "markdown",
   "id": "45d6f6c3",
   "metadata": {},
   "source": [
    "nombre_infected       782\n",
    "nombre_sain          2144\n",
    "nombre_exposed        503\n",
    "nombre_recovered    16571\n",
    "Name: 583, dtype: int64"
   ]
  },
  {
   "cell_type": "markdown",
   "id": "6e2508a8",
   "metadata": {},
   "source": [
    "nombre_infected       801\n",
    "nombre_sain          2141\n",
    "nombre_exposed        473\n",
    "nombre_recovered    16585\n",
    "Name: 584, dtype: int64"
   ]
  },
  {
   "cell_type": "markdown",
   "id": "1516ead9",
   "metadata": {},
   "source": [
    "nombre_infected       800\n",
    "nombre_sain          2122\n",
    "nombre_exposed        486\n",
    "nombre_recovered    16592\n",
    "Name: 585, dtype: int64"
   ]
  },
  {
   "cell_type": "markdown",
   "id": "01df0fad",
   "metadata": {},
   "source": [
    "nombre_infected       801\n",
    "nombre_sain          2131\n",
    "nombre_exposed        486\n",
    "nombre_recovered    16582\n",
    "Name: 586, dtype: int64"
   ]
  },
  {
   "cell_type": "markdown",
   "id": "b4b1bb8c",
   "metadata": {},
   "source": [
    "nombre_infected       814\n",
    "nombre_sain          2132\n",
    "nombre_exposed        466\n",
    "nombre_recovered    16588\n",
    "Name: 587, dtype: int64"
   ]
  },
  {
   "cell_type": "markdown",
   "id": "678e2e8f",
   "metadata": {},
   "source": [
    "nombre_infected       815\n",
    "nombre_sain          2137\n",
    "nombre_exposed        457\n",
    "nombre_recovered    16591\n",
    "Name: 588, dtype: int64"
   ]
  },
  {
   "cell_type": "markdown",
   "id": "71b85514",
   "metadata": {},
   "source": [
    "nombre_infected       816\n",
    "nombre_sain          2118\n",
    "nombre_exposed        469\n",
    "nombre_recovered    16597\n",
    "Name: 589, dtype: int64"
   ]
  },
  {
   "cell_type": "markdown",
   "id": "bcb5eb84",
   "metadata": {},
   "source": [
    "nombre_infected       824\n",
    "nombre_sain          2118\n",
    "nombre_exposed        473\n",
    "nombre_recovered    16585\n",
    "Name: 590, dtype: int64"
   ]
  },
  {
   "cell_type": "markdown",
   "id": "50f7ed0a",
   "metadata": {},
   "source": [
    "nombre_infected       818\n",
    "nombre_sain          2112\n",
    "nombre_exposed        491\n",
    "nombre_recovered    16579\n",
    "Name: 591, dtype: int64"
   ]
  },
  {
   "cell_type": "markdown",
   "id": "a2b57a0a",
   "metadata": {},
   "source": [
    "nombre_infected       841\n",
    "nombre_sain          2129\n",
    "nombre_exposed        470\n",
    "nombre_recovered    16560\n",
    "Name: 592, dtype: int64"
   ]
  },
  {
   "cell_type": "markdown",
   "id": "38b6bbbb",
   "metadata": {},
   "source": [
    "nombre_infected       823\n",
    "nombre_sain          2132\n",
    "nombre_exposed        454\n",
    "nombre_recovered    16591\n",
    "Name: 593, dtype: int64"
   ]
  },
  {
   "cell_type": "markdown",
   "id": "15e75213",
   "metadata": {},
   "source": [
    "nombre_infected       787\n",
    "nombre_sain          2133\n",
    "nombre_exposed        477\n",
    "nombre_recovered    16603\n",
    "Name: 594, dtype: int64"
   ]
  },
  {
   "cell_type": "markdown",
   "id": "f64bbd41",
   "metadata": {},
   "source": [
    "nombre_infected       795\n",
    "nombre_sain          2149\n",
    "nombre_exposed        456\n",
    "nombre_recovered    16600\n",
    "Name: 595, dtype: int64"
   ]
  },
  {
   "cell_type": "markdown",
   "id": "e8a97234",
   "metadata": {},
   "source": [
    "nombre_infected       793\n",
    "nombre_sain          2138\n",
    "nombre_exposed        462\n",
    "nombre_recovered    16607\n",
    "Name: 596, dtype: int64"
   ]
  },
  {
   "cell_type": "markdown",
   "id": "29220501",
   "metadata": {},
   "source": [
    "nombre_infected       769\n",
    "nombre_sain          2154\n",
    "nombre_exposed        478\n",
    "nombre_recovered    16599\n",
    "Name: 597, dtype: int64"
   ]
  },
  {
   "cell_type": "markdown",
   "id": "a1fc7dbf",
   "metadata": {},
   "source": [
    "nombre_infected       761\n",
    "nombre_sain          2194\n",
    "nombre_exposed        464\n",
    "nombre_recovered    16581\n",
    "Name: 598, dtype: int64"
   ]
  },
  {
   "cell_type": "markdown",
   "id": "dfd214e5",
   "metadata": {},
   "source": [
    "nombre_infected       788\n",
    "nombre_sain          2182\n",
    "nombre_exposed        456\n",
    "nombre_recovered    16574\n",
    "Name: 599, dtype: int64"
   ]
  },
  {
   "cell_type": "markdown",
   "id": "2b680208",
   "metadata": {},
   "source": [
    "nombre_infected       791\n",
    "nombre_sain          2154\n",
    "nombre_exposed        451\n",
    "nombre_recovered    16604\n",
    "Name: 600, dtype: int64"
   ]
  },
  {
   "cell_type": "markdown",
   "id": "e6350a80",
   "metadata": {},
   "source": [
    "nombre_infected       782\n",
    "nombre_sain          2147\n",
    "nombre_exposed        453\n",
    "nombre_recovered    16618\n",
    "Name: 601, dtype: int64"
   ]
  },
  {
   "cell_type": "markdown",
   "id": "c1ebffe6",
   "metadata": {},
   "source": [
    "nombre_infected       781\n",
    "nombre_sain          2129\n",
    "nombre_exposed        475\n",
    "nombre_recovered    16615\n",
    "Name: 602, dtype: int64"
   ]
  },
  {
   "cell_type": "markdown",
   "id": "dcf2cb24",
   "metadata": {},
   "source": [
    "nombre_infected       790\n",
    "nombre_sain          2126\n",
    "nombre_exposed        464\n",
    "nombre_recovered    16620\n",
    "Name: 603, dtype: int64"
   ]
  },
  {
   "cell_type": "markdown",
   "id": "4f8aae19",
   "metadata": {},
   "source": [
    "nombre_infected       777\n",
    "nombre_sain          2125\n",
    "nombre_exposed        480\n",
    "nombre_recovered    16618\n",
    "Name: 604, dtype: int64"
   ]
  },
  {
   "cell_type": "markdown",
   "id": "44ffd232",
   "metadata": {},
   "source": [
    "nombre_infected       798\n",
    "nombre_sain          2137\n",
    "nombre_exposed        465\n",
    "nombre_recovered    16600\n",
    "Name: 605, dtype: int64"
   ]
  },
  {
   "cell_type": "markdown",
   "id": "7c3e1cf5",
   "metadata": {},
   "source": [
    "nombre_infected       786\n",
    "nombre_sain          2144\n",
    "nombre_exposed        481\n",
    "nombre_recovered    16589\n",
    "Name: 606, dtype: int64"
   ]
  },
  {
   "cell_type": "markdown",
   "id": "addc664d",
   "metadata": {},
   "source": [
    "nombre_infected       783\n",
    "nombre_sain          2139\n",
    "nombre_exposed        472\n",
    "nombre_recovered    16606\n",
    "Name: 607, dtype: int64"
   ]
  },
  {
   "cell_type": "markdown",
   "id": "981670ae",
   "metadata": {},
   "source": [
    "nombre_infected       821\n",
    "nombre_sain          2149\n",
    "nombre_exposed        463\n",
    "nombre_recovered    16567\n",
    "Name: 608, dtype: int64"
   ]
  },
  {
   "cell_type": "markdown",
   "id": "c7becb4c",
   "metadata": {},
   "source": [
    "nombre_infected       829\n",
    "nombre_sain          2139\n",
    "nombre_exposed        470\n",
    "nombre_recovered    16562\n",
    "Name: 609, dtype: int64"
   ]
  },
  {
   "cell_type": "markdown",
   "id": "399d9d8a",
   "metadata": {},
   "source": [
    "nombre_infected       825\n",
    "nombre_sain          2153\n",
    "nombre_exposed        501\n",
    "nombre_recovered    16521\n",
    "Name: 610, dtype: int64"
   ]
  },
  {
   "cell_type": "markdown",
   "id": "94deef21",
   "metadata": {},
   "source": [
    "nombre_infected       827\n",
    "nombre_sain          2140\n",
    "nombre_exposed        512\n",
    "nombre_recovered    16521\n",
    "Name: 611, dtype: int64"
   ]
  },
  {
   "cell_type": "markdown",
   "id": "9ee5b4ff",
   "metadata": {},
   "source": [
    "nombre_infected       822\n",
    "nombre_sain          2139\n",
    "nombre_exposed        510\n",
    "nombre_recovered    16529\n",
    "Name: 612, dtype: int64"
   ]
  },
  {
   "cell_type": "markdown",
   "id": "e99e3880",
   "metadata": {},
   "source": [
    "nombre_infected       824\n",
    "nombre_sain          2117\n",
    "nombre_exposed        519\n",
    "nombre_recovered    16540\n",
    "Name: 613, dtype: int64"
   ]
  },
  {
   "cell_type": "markdown",
   "id": "d4142554",
   "metadata": {},
   "source": [
    "nombre_infected       836\n",
    "nombre_sain          2125\n",
    "nombre_exposed        499\n",
    "nombre_recovered    16540\n",
    "Name: 614, dtype: int64"
   ]
  },
  {
   "cell_type": "markdown",
   "id": "87671114",
   "metadata": {},
   "source": [
    "nombre_infected       837\n",
    "nombre_sain          2108\n",
    "nombre_exposed        503\n",
    "nombre_recovered    16552\n",
    "Name: 615, dtype: int64"
   ]
  },
  {
   "cell_type": "markdown",
   "id": "1e0c604d",
   "metadata": {},
   "source": [
    "nombre_infected       824\n",
    "nombre_sain          2120\n",
    "nombre_exposed        499\n",
    "nombre_recovered    16557\n",
    "Name: 616, dtype: int64"
   ]
  },
  {
   "cell_type": "markdown",
   "id": "0872fea0",
   "metadata": {},
   "source": [
    "nombre_infected       823\n",
    "nombre_sain          2119\n",
    "nombre_exposed        509\n",
    "nombre_recovered    16549\n",
    "Name: 617, dtype: int64"
   ]
  },
  {
   "cell_type": "markdown",
   "id": "ee06d7ad",
   "metadata": {},
   "source": [
    "nombre_infected       818\n",
    "nombre_sain          2128\n",
    "nombre_exposed        509\n",
    "nombre_recovered    16545\n",
    "Name: 618, dtype: int64"
   ]
  },
  {
   "cell_type": "markdown",
   "id": "3c5f4837",
   "metadata": {},
   "source": [
    "nombre_infected       810\n",
    "nombre_sain          2130\n",
    "nombre_exposed        498\n",
    "nombre_recovered    16562\n",
    "Name: 619, dtype: int64"
   ]
  },
  {
   "cell_type": "markdown",
   "id": "de9df65d",
   "metadata": {},
   "source": [
    "nombre_infected       836\n",
    "nombre_sain          2127\n",
    "nombre_exposed        473\n",
    "nombre_recovered    16564\n",
    "Name: 620, dtype: int64"
   ]
  },
  {
   "cell_type": "markdown",
   "id": "cc64fc13",
   "metadata": {},
   "source": [
    "nombre_infected       818\n",
    "nombre_sain          2137\n",
    "nombre_exposed        478\n",
    "nombre_recovered    16567\n",
    "Name: 621, dtype: int64"
   ]
  },
  {
   "cell_type": "markdown",
   "id": "a2e2504f",
   "metadata": {},
   "source": [
    "nombre_infected       815\n",
    "nombre_sain          2129\n",
    "nombre_exposed        486\n",
    "nombre_recovered    16570\n",
    "Name: 622, dtype: int64"
   ]
  },
  {
   "cell_type": "markdown",
   "id": "1b3a53f1",
   "metadata": {},
   "source": [
    "nombre_infected       795\n",
    "nombre_sain          2127\n",
    "nombre_exposed        488\n",
    "nombre_recovered    16590\n",
    "Name: 623, dtype: int64"
   ]
  },
  {
   "cell_type": "markdown",
   "id": "87235871",
   "metadata": {},
   "source": [
    "nombre_infected       800\n",
    "nombre_sain          2136\n",
    "nombre_exposed        492\n",
    "nombre_recovered    16572\n",
    "Name: 624, dtype: int64"
   ]
  },
  {
   "cell_type": "markdown",
   "id": "040df244",
   "metadata": {},
   "source": [
    "nombre_infected       791\n",
    "nombre_sain          2138\n",
    "nombre_exposed        506\n",
    "nombre_recovered    16565\n",
    "Name: 625, dtype: int64"
   ]
  },
  {
   "cell_type": "markdown",
   "id": "4e0ac6c2",
   "metadata": {},
   "source": [
    "nombre_infected       801\n",
    "nombre_sain          2130\n",
    "nombre_exposed        493\n",
    "nombre_recovered    16576\n",
    "Name: 626, dtype: int64"
   ]
  },
  {
   "cell_type": "markdown",
   "id": "0d038a93",
   "metadata": {},
   "source": [
    "nombre_infected       822\n",
    "nombre_sain          2119\n",
    "nombre_exposed        501\n",
    "nombre_recovered    16558\n",
    "Name: 627, dtype: int64"
   ]
  },
  {
   "cell_type": "markdown",
   "id": "3a30fd01",
   "metadata": {},
   "source": [
    "nombre_infected       811\n",
    "nombre_sain          2118\n",
    "nombre_exposed        484\n",
    "nombre_recovered    16587\n",
    "Name: 628, dtype: int64"
   ]
  },
  {
   "cell_type": "markdown",
   "id": "fd63e7d7",
   "metadata": {},
   "source": [
    "nombre_infected       807\n",
    "nombre_sain          2106\n",
    "nombre_exposed        478\n",
    "nombre_recovered    16609\n",
    "Name: 629, dtype: int64"
   ]
  },
  {
   "cell_type": "markdown",
   "id": "20e72e6c",
   "metadata": {},
   "source": [
    "nombre_infected       817\n",
    "nombre_sain          2080\n",
    "nombre_exposed        495\n",
    "nombre_recovered    16608\n",
    "Name: 630, dtype: int64"
   ]
  },
  {
   "cell_type": "markdown",
   "id": "79946524",
   "metadata": {},
   "source": [
    "nombre_infected       817\n",
    "nombre_sain          2122\n",
    "nombre_exposed        479\n",
    "nombre_recovered    16582\n",
    "Name: 631, dtype: int64"
   ]
  },
  {
   "cell_type": "markdown",
   "id": "78f8e26d",
   "metadata": {},
   "source": [
    "nombre_infected       821\n",
    "nombre_sain          2143\n",
    "nombre_exposed        458\n",
    "nombre_recovered    16578\n",
    "Name: 632, dtype: int64"
   ]
  },
  {
   "cell_type": "markdown",
   "id": "202de6a5",
   "metadata": {},
   "source": [
    "nombre_infected       801\n",
    "nombre_sain          2136\n",
    "nombre_exposed        465\n",
    "nombre_recovered    16598\n",
    "Name: 633, dtype: int64"
   ]
  },
  {
   "cell_type": "markdown",
   "id": "02b1684b",
   "metadata": {},
   "source": [
    "nombre_infected       767\n",
    "nombre_sain          2145\n",
    "nombre_exposed        491\n",
    "nombre_recovered    16597\n",
    "Name: 634, dtype: int64"
   ]
  },
  {
   "cell_type": "markdown",
   "id": "4f80cadb",
   "metadata": {},
   "source": [
    "nombre_infected       766\n",
    "nombre_sain          2143\n",
    "nombre_exposed        484\n",
    "nombre_recovered    16607\n",
    "Name: 635, dtype: int64"
   ]
  },
  {
   "cell_type": "markdown",
   "id": "7465371e",
   "metadata": {},
   "source": [
    "nombre_infected       800\n",
    "nombre_sain          2145\n",
    "nombre_exposed        472\n",
    "nombre_recovered    16583\n",
    "Name: 636, dtype: int64"
   ]
  },
  {
   "cell_type": "markdown",
   "id": "7fac8dda",
   "metadata": {},
   "source": [
    "nombre_infected       796\n",
    "nombre_sain          2140\n",
    "nombre_exposed        487\n",
    "nombre_recovered    16577\n",
    "Name: 637, dtype: int64"
   ]
  },
  {
   "cell_type": "markdown",
   "id": "526505ce",
   "metadata": {},
   "source": [
    "nombre_infected       784\n",
    "nombre_sain          2140\n",
    "nombre_exposed        495\n",
    "nombre_recovered    16581\n",
    "Name: 638, dtype: int64"
   ]
  },
  {
   "cell_type": "markdown",
   "id": "2fce0d30",
   "metadata": {},
   "source": [
    "nombre_infected       776\n",
    "nombre_sain          2144\n",
    "nombre_exposed        509\n",
    "nombre_recovered    16571\n",
    "Name: 639, dtype: int64"
   ]
  },
  {
   "cell_type": "markdown",
   "id": "dbe8c1fd",
   "metadata": {},
   "source": [
    "nombre_infected       777\n",
    "nombre_sain          2168\n",
    "nombre_exposed        494\n",
    "nombre_recovered    16561\n",
    "Name: 640, dtype: int64"
   ]
  },
  {
   "cell_type": "markdown",
   "id": "50a3896a",
   "metadata": {},
   "source": [
    "nombre_infected       795\n",
    "nombre_sain          2180\n",
    "nombre_exposed        476\n",
    "nombre_recovered    16549\n",
    "Name: 641, dtype: int64"
   ]
  },
  {
   "cell_type": "markdown",
   "id": "4037b15e",
   "metadata": {},
   "source": [
    "nombre_infected       798\n",
    "nombre_sain          2192\n",
    "nombre_exposed        478\n",
    "nombre_recovered    16532\n",
    "Name: 642, dtype: int64"
   ]
  },
  {
   "cell_type": "markdown",
   "id": "f04a20e4",
   "metadata": {},
   "source": [
    "nombre_infected       781\n",
    "nombre_sain          2194\n",
    "nombre_exposed        490\n",
    "nombre_recovered    16535\n",
    "Name: 643, dtype: int64"
   ]
  },
  {
   "cell_type": "markdown",
   "id": "e7f466fb",
   "metadata": {},
   "source": [
    "nombre_infected       805\n",
    "nombre_sain          2210\n",
    "nombre_exposed        475\n",
    "nombre_recovered    16510\n",
    "Name: 644, dtype: int64"
   ]
  },
  {
   "cell_type": "markdown",
   "id": "614c9f31",
   "metadata": {},
   "source": [
    "nombre_infected       803\n",
    "nombre_sain          2231\n",
    "nombre_exposed        474\n",
    "nombre_recovered    16492\n",
    "Name: 645, dtype: int64"
   ]
  },
  {
   "cell_type": "markdown",
   "id": "96f19c63",
   "metadata": {},
   "source": [
    "nombre_infected       780\n",
    "nombre_sain          2227\n",
    "nombre_exposed        499\n",
    "nombre_recovered    16494\n",
    "Name: 646, dtype: int64"
   ]
  },
  {
   "cell_type": "markdown",
   "id": "0511663c",
   "metadata": {},
   "source": [
    "nombre_infected       813\n",
    "nombre_sain          2243\n",
    "nombre_exposed        488\n",
    "nombre_recovered    16456\n",
    "Name: 647, dtype: int64"
   ]
  },
  {
   "cell_type": "markdown",
   "id": "6638f5d5",
   "metadata": {},
   "source": [
    "nombre_infected       793\n",
    "nombre_sain          2244\n",
    "nombre_exposed        502\n",
    "nombre_recovered    16461\n",
    "Name: 648, dtype: int64"
   ]
  },
  {
   "cell_type": "markdown",
   "id": "33993908",
   "metadata": {},
   "source": [
    "nombre_infected       788\n",
    "nombre_sain          2244\n",
    "nombre_exposed        509\n",
    "nombre_recovered    16459\n",
    "Name: 649, dtype: int64"
   ]
  },
  {
   "cell_type": "markdown",
   "id": "e75ef8f0",
   "metadata": {},
   "source": [
    "nombre_infected       790\n",
    "nombre_sain          2233\n",
    "nombre_exposed        518\n",
    "nombre_recovered    16459\n",
    "Name: 650, dtype: int64"
   ]
  },
  {
   "cell_type": "markdown",
   "id": "406061fa",
   "metadata": {},
   "source": [
    "nombre_infected       790\n",
    "nombre_sain          2256\n",
    "nombre_exposed        515\n",
    "nombre_recovered    16439\n",
    "Name: 651, dtype: int64"
   ]
  },
  {
   "cell_type": "markdown",
   "id": "fa7e7d26",
   "metadata": {},
   "source": [
    "nombre_infected       813\n",
    "nombre_sain          2270\n",
    "nombre_exposed        513\n",
    "nombre_recovered    16404\n",
    "Name: 652, dtype: int64"
   ]
  },
  {
   "cell_type": "markdown",
   "id": "1bdcffcb",
   "metadata": {},
   "source": [
    "nombre_infected       836\n",
    "nombre_sain          2253\n",
    "nombre_exposed        520\n",
    "nombre_recovered    16391\n",
    "Name: 653, dtype: int64"
   ]
  },
  {
   "cell_type": "markdown",
   "id": "ba094ef2",
   "metadata": {},
   "source": [
    "nombre_infected       852\n",
    "nombre_sain          2222\n",
    "nombre_exposed        546\n",
    "nombre_recovered    16380\n",
    "Name: 654, dtype: int64"
   ]
  },
  {
   "cell_type": "markdown",
   "id": "6e23527d",
   "metadata": {},
   "source": [
    "nombre_infected       858\n",
    "nombre_sain          2219\n",
    "nombre_exposed        534\n",
    "nombre_recovered    16389\n",
    "Name: 655, dtype: int64"
   ]
  },
  {
   "cell_type": "markdown",
   "id": "c726c43b",
   "metadata": {},
   "source": [
    "nombre_infected       838\n",
    "nombre_sain          2235\n",
    "nombre_exposed        541\n",
    "nombre_recovered    16386\n",
    "Name: 656, dtype: int64"
   ]
  },
  {
   "cell_type": "markdown",
   "id": "4b194073",
   "metadata": {},
   "source": [
    "nombre_infected       839\n",
    "nombre_sain          2239\n",
    "nombre_exposed        521\n",
    "nombre_recovered    16401\n",
    "Name: 657, dtype: int64"
   ]
  },
  {
   "cell_type": "markdown",
   "id": "536570d0",
   "metadata": {},
   "source": [
    "nombre_infected       844\n",
    "nombre_sain          2212\n",
    "nombre_exposed        530\n",
    "nombre_recovered    16414\n",
    "Name: 658, dtype: int64"
   ]
  },
  {
   "cell_type": "markdown",
   "id": "f6646aa8",
   "metadata": {},
   "source": [
    "nombre_infected       843\n",
    "nombre_sain          2205\n",
    "nombre_exposed        544\n",
    "nombre_recovered    16408\n",
    "Name: 659, dtype: int64"
   ]
  },
  {
   "cell_type": "markdown",
   "id": "82530c26",
   "metadata": {},
   "source": [
    "nombre_infected       846\n",
    "nombre_sain          2201\n",
    "nombre_exposed        550\n",
    "nombre_recovered    16403\n",
    "Name: 660, dtype: int64"
   ]
  },
  {
   "cell_type": "markdown",
   "id": "1a7d2a6b",
   "metadata": {},
   "source": [
    "nombre_infected       853\n",
    "nombre_sain          2189\n",
    "nombre_exposed        556\n",
    "nombre_recovered    16402\n",
    "Name: 661, dtype: int64"
   ]
  },
  {
   "cell_type": "markdown",
   "id": "7d242fc8",
   "metadata": {},
   "source": [
    "nombre_infected       839\n",
    "nombre_sain          2199\n",
    "nombre_exposed        552\n",
    "nombre_recovered    16410\n",
    "Name: 662, dtype: int64"
   ]
  },
  {
   "cell_type": "markdown",
   "id": "06dea78c",
   "metadata": {},
   "source": [
    "nombre_infected       817\n",
    "nombre_sain          2212\n",
    "nombre_exposed        542\n",
    "nombre_recovered    16429\n",
    "Name: 663, dtype: int64"
   ]
  },
  {
   "cell_type": "markdown",
   "id": "9b931161",
   "metadata": {},
   "source": [
    "nombre_infected       817\n",
    "nombre_sain          2211\n",
    "nombre_exposed        554\n",
    "nombre_recovered    16418\n",
    "Name: 664, dtype: int64"
   ]
  },
  {
   "cell_type": "markdown",
   "id": "07bf7d16",
   "metadata": {},
   "source": [
    "nombre_infected       813\n",
    "nombre_sain          2215\n",
    "nombre_exposed        538\n",
    "nombre_recovered    16434\n",
    "Name: 665, dtype: int64"
   ]
  },
  {
   "cell_type": "markdown",
   "id": "dfc96d8b",
   "metadata": {},
   "source": [
    "nombre_infected       824\n",
    "nombre_sain          2209\n",
    "nombre_exposed        527\n",
    "nombre_recovered    16440\n",
    "Name: 666, dtype: int64"
   ]
  },
  {
   "cell_type": "markdown",
   "id": "3341db16",
   "metadata": {},
   "source": [
    "nombre_infected       824\n",
    "nombre_sain          2195\n",
    "nombre_exposed        539\n",
    "nombre_recovered    16442\n",
    "Name: 667, dtype: int64"
   ]
  },
  {
   "cell_type": "markdown",
   "id": "31d23bf1",
   "metadata": {},
   "source": [
    "nombre_infected       838\n",
    "nombre_sain          2199\n",
    "nombre_exposed        519\n",
    "nombre_recovered    16444\n",
    "Name: 668, dtype: int64"
   ]
  },
  {
   "cell_type": "markdown",
   "id": "17e39b2c",
   "metadata": {},
   "source": [
    "nombre_infected       850\n",
    "nombre_sain          2193\n",
    "nombre_exposed        495\n",
    "nombre_recovered    16462\n",
    "Name: 669, dtype: int64"
   ]
  },
  {
   "cell_type": "markdown",
   "id": "392813bb",
   "metadata": {},
   "source": [
    "nombre_infected       860\n",
    "nombre_sain          2209\n",
    "nombre_exposed        503\n",
    "nombre_recovered    16428\n",
    "Name: 670, dtype: int64"
   ]
  },
  {
   "cell_type": "markdown",
   "id": "1c8c850f",
   "metadata": {},
   "source": [
    "nombre_infected       847\n",
    "nombre_sain          2191\n",
    "nombre_exposed        505\n",
    "nombre_recovered    16457\n",
    "Name: 671, dtype: int64"
   ]
  },
  {
   "cell_type": "markdown",
   "id": "a63a12ff",
   "metadata": {},
   "source": [
    "nombre_infected       821\n",
    "nombre_sain          2190\n",
    "nombre_exposed        486\n",
    "nombre_recovered    16503\n",
    "Name: 672, dtype: int64"
   ]
  },
  {
   "cell_type": "markdown",
   "id": "50048614",
   "metadata": {},
   "source": [
    "nombre_infected       837\n",
    "nombre_sain          2211\n",
    "nombre_exposed        467\n",
    "nombre_recovered    16485\n",
    "Name: 673, dtype: int64"
   ]
  },
  {
   "cell_type": "markdown",
   "id": "d6e28ca0",
   "metadata": {},
   "source": [
    "nombre_infected       832\n",
    "nombre_sain          2212\n",
    "nombre_exposed        463\n",
    "nombre_recovered    16493\n",
    "Name: 674, dtype: int64"
   ]
  },
  {
   "cell_type": "markdown",
   "id": "f5ad16fc",
   "metadata": {},
   "source": [
    "nombre_infected       782\n",
    "nombre_sain          2204\n",
    "nombre_exposed        509\n",
    "nombre_recovered    16505\n",
    "Name: 675, dtype: int64"
   ]
  },
  {
   "cell_type": "markdown",
   "id": "f9985d25",
   "metadata": {},
   "source": [
    "nombre_infected       747\n",
    "nombre_sain          2209\n",
    "nombre_exposed        530\n",
    "nombre_recovered    16514\n",
    "Name: 676, dtype: int64"
   ]
  },
  {
   "cell_type": "markdown",
   "id": "45d4eed4",
   "metadata": {},
   "source": [
    "nombre_infected       753\n",
    "nombre_sain          2232\n",
    "nombre_exposed        532\n",
    "nombre_recovered    16483\n",
    "Name: 677, dtype: int64"
   ]
  },
  {
   "cell_type": "markdown",
   "id": "500c928c",
   "metadata": {},
   "source": [
    "nombre_infected       767\n",
    "nombre_sain          2261\n",
    "nombre_exposed        508\n",
    "nombre_recovered    16464\n",
    "Name: 678, dtype: int64"
   ]
  },
  {
   "cell_type": "markdown",
   "id": "9189a3e0",
   "metadata": {},
   "source": [
    "nombre_infected       776\n",
    "nombre_sain          2229\n",
    "nombre_exposed        524\n",
    "nombre_recovered    16471\n",
    "Name: 679, dtype: int64"
   ]
  },
  {
   "cell_type": "markdown",
   "id": "e2f87a96",
   "metadata": {},
   "source": [
    "nombre_infected       807\n",
    "nombre_sain          2214\n",
    "nombre_exposed        505\n",
    "nombre_recovered    16474\n",
    "Name: 680, dtype: int64"
   ]
  },
  {
   "cell_type": "markdown",
   "id": "8ef35381",
   "metadata": {},
   "source": [
    "nombre_infected       810\n",
    "nombre_sain          2192\n",
    "nombre_exposed        520\n",
    "nombre_recovered    16478\n",
    "Name: 681, dtype: int64"
   ]
  },
  {
   "cell_type": "markdown",
   "id": "1a89f18d",
   "metadata": {},
   "source": [
    "nombre_infected       793\n",
    "nombre_sain          2212\n",
    "nombre_exposed        503\n",
    "nombre_recovered    16492\n",
    "Name: 682, dtype: int64"
   ]
  },
  {
   "cell_type": "markdown",
   "id": "dcbad5aa",
   "metadata": {},
   "source": [
    "nombre_infected       789\n",
    "nombre_sain          2210\n",
    "nombre_exposed        489\n",
    "nombre_recovered    16512\n",
    "Name: 683, dtype: int64"
   ]
  },
  {
   "cell_type": "markdown",
   "id": "7adeb7b2",
   "metadata": {},
   "source": [
    "nombre_infected       761\n",
    "nombre_sain          2220\n",
    "nombre_exposed        488\n",
    "nombre_recovered    16531\n",
    "Name: 684, dtype: int64"
   ]
  },
  {
   "cell_type": "markdown",
   "id": "4fc6c13a",
   "metadata": {},
   "source": [
    "nombre_infected       752\n",
    "nombre_sain          2219\n",
    "nombre_exposed        471\n",
    "nombre_recovered    16558\n",
    "Name: 685, dtype: int64"
   ]
  },
  {
   "cell_type": "markdown",
   "id": "e8a4d227",
   "metadata": {},
   "source": [
    "nombre_infected       742\n",
    "nombre_sain          2236\n",
    "nombre_exposed        486\n",
    "nombre_recovered    16536\n",
    "Name: 686, dtype: int64"
   ]
  },
  {
   "cell_type": "markdown",
   "id": "4b153b21",
   "metadata": {},
   "source": [
    "nombre_infected       751\n",
    "nombre_sain          2238\n",
    "nombre_exposed        477\n",
    "nombre_recovered    16534\n",
    "Name: 687, dtype: int64"
   ]
  },
  {
   "cell_type": "markdown",
   "id": "9c7d5f61",
   "metadata": {},
   "source": [
    "nombre_infected       750\n",
    "nombre_sain          2278\n",
    "nombre_exposed        458\n",
    "nombre_recovered    16514\n",
    "Name: 688, dtype: int64"
   ]
  },
  {
   "cell_type": "markdown",
   "id": "b1106679",
   "metadata": {},
   "source": [
    "nombre_infected       723\n",
    "nombre_sain          2285\n",
    "nombre_exposed        486\n",
    "nombre_recovered    16506\n",
    "Name: 689, dtype: int64"
   ]
  },
  {
   "cell_type": "markdown",
   "id": "492b1cfb",
   "metadata": {},
   "source": [
    "nombre_infected       723\n",
    "nombre_sain          2270\n",
    "nombre_exposed        497\n",
    "nombre_recovered    16510\n",
    "Name: 690, dtype: int64"
   ]
  },
  {
   "cell_type": "markdown",
   "id": "fd7f27a0",
   "metadata": {},
   "source": [
    "nombre_infected       743\n",
    "nombre_sain          2252\n",
    "nombre_exposed        505\n",
    "nombre_recovered    16500\n",
    "Name: 691, dtype: int64"
   ]
  },
  {
   "cell_type": "markdown",
   "id": "88d3e9c4",
   "metadata": {},
   "source": [
    "nombre_infected       753\n",
    "nombre_sain          2248\n",
    "nombre_exposed        509\n",
    "nombre_recovered    16490\n",
    "Name: 692, dtype: int64"
   ]
  },
  {
   "cell_type": "markdown",
   "id": "c6848970",
   "metadata": {},
   "source": [
    "nombre_infected       731\n",
    "nombre_sain          2284\n",
    "nombre_exposed        520\n",
    "nombre_recovered    16465\n",
    "Name: 693, dtype: int64"
   ]
  },
  {
   "cell_type": "markdown",
   "id": "f90bbcaa",
   "metadata": {},
   "source": [
    "nombre_infected       734\n",
    "nombre_sain          2294\n",
    "nombre_exposed        505\n",
    "nombre_recovered    16467\n",
    "Name: 694, dtype: int64"
   ]
  },
  {
   "cell_type": "markdown",
   "id": "6414ed3b",
   "metadata": {},
   "source": [
    "nombre_infected       750\n",
    "nombre_sain          2323\n",
    "nombre_exposed        499\n",
    "nombre_recovered    16428\n",
    "Name: 695, dtype: int64"
   ]
  },
  {
   "cell_type": "markdown",
   "id": "b72c1e65",
   "metadata": {},
   "source": [
    "nombre_infected       756\n",
    "nombre_sain          2347\n",
    "nombre_exposed        493\n",
    "nombre_recovered    16404\n",
    "Name: 696, dtype: int64"
   ]
  },
  {
   "cell_type": "markdown",
   "id": "f66278f1",
   "metadata": {},
   "source": [
    "nombre_infected       740\n",
    "nombre_sain          2351\n",
    "nombre_exposed        510\n",
    "nombre_recovered    16399\n",
    "Name: 697, dtype: int64"
   ]
  },
  {
   "cell_type": "markdown",
   "id": "2b292621",
   "metadata": {},
   "source": [
    "nombre_infected       716\n",
    "nombre_sain          2343\n",
    "nombre_exposed        516\n",
    "nombre_recovered    16425\n",
    "Name: 698, dtype: int64"
   ]
  },
  {
   "cell_type": "markdown",
   "id": "512f7e12",
   "metadata": {},
   "source": [
    "nombre_infected       722\n",
    "nombre_sain          2363\n",
    "nombre_exposed        501\n",
    "nombre_recovered    16414\n",
    "Name: 699, dtype: int64"
   ]
  },
  {
   "cell_type": "markdown",
   "id": "e135f63d",
   "metadata": {},
   "source": [
    "nombre_infected       744\n",
    "nombre_sain          2385\n",
    "nombre_exposed        492\n",
    "nombre_recovered    16379\n",
    "Name: 700, dtype: int64"
   ]
  },
  {
   "cell_type": "markdown",
   "id": "985c04fb",
   "metadata": {},
   "source": [
    "nombre_infected       767\n",
    "nombre_sain          2389\n",
    "nombre_exposed        493\n",
    "nombre_recovered    16351\n",
    "Name: 701, dtype: int64"
   ]
  },
  {
   "cell_type": "markdown",
   "id": "e8b07d89",
   "metadata": {},
   "source": [
    "nombre_infected       769\n",
    "nombre_sain          2398\n",
    "nombre_exposed        489\n",
    "nombre_recovered    16344\n",
    "Name: 702, dtype: int64"
   ]
  },
  {
   "cell_type": "markdown",
   "id": "2e08eb90",
   "metadata": {},
   "source": [
    "nombre_infected       775\n",
    "nombre_sain          2407\n",
    "nombre_exposed        488\n",
    "nombre_recovered    16330\n",
    "Name: 703, dtype: int64"
   ]
  },
  {
   "cell_type": "markdown",
   "id": "3a6180f8",
   "metadata": {},
   "source": [
    "nombre_infected       767\n",
    "nombre_sain          2383\n",
    "nombre_exposed        503\n",
    "nombre_recovered    16347\n",
    "Name: 704, dtype: int64"
   ]
  },
  {
   "cell_type": "markdown",
   "id": "337eb716",
   "metadata": {},
   "source": [
    "nombre_infected       778\n",
    "nombre_sain          2376\n",
    "nombre_exposed        505\n",
    "nombre_recovered    16341\n",
    "Name: 705, dtype: int64"
   ]
  },
  {
   "cell_type": "markdown",
   "id": "5b8839d5",
   "metadata": {},
   "source": [
    "nombre_infected       791\n",
    "nombre_sain          2374\n",
    "nombre_exposed        494\n",
    "nombre_recovered    16341\n",
    "Name: 706, dtype: int64"
   ]
  },
  {
   "cell_type": "markdown",
   "id": "175e5a01",
   "metadata": {},
   "source": [
    "nombre_infected       780\n",
    "nombre_sain          2370\n",
    "nombre_exposed        508\n",
    "nombre_recovered    16342\n",
    "Name: 707, dtype: int64"
   ]
  },
  {
   "cell_type": "markdown",
   "id": "c0f707a5",
   "metadata": {},
   "source": [
    "nombre_infected       765\n",
    "nombre_sain          2395\n",
    "nombre_exposed        511\n",
    "nombre_recovered    16329\n",
    "Name: 708, dtype: int64"
   ]
  },
  {
   "cell_type": "markdown",
   "id": "b799ace6",
   "metadata": {},
   "source": [
    "nombre_infected       779\n",
    "nombre_sain          2408\n",
    "nombre_exposed        498\n",
    "nombre_recovered    16315\n",
    "Name: 709, dtype: int64"
   ]
  },
  {
   "cell_type": "markdown",
   "id": "8f158363",
   "metadata": {},
   "source": [
    "nombre_infected       764\n",
    "nombre_sain          2413\n",
    "nombre_exposed        502\n",
    "nombre_recovered    16321\n",
    "Name: 710, dtype: int64"
   ]
  },
  {
   "cell_type": "markdown",
   "id": "d7eb818c",
   "metadata": {},
   "source": [
    "nombre_infected       765\n",
    "nombre_sain          2426\n",
    "nombre_exposed        505\n",
    "nombre_recovered    16304\n",
    "Name: 711, dtype: int64"
   ]
  },
  {
   "cell_type": "markdown",
   "id": "47784594",
   "metadata": {},
   "source": [
    "nombre_infected       775\n",
    "nombre_sain          2427\n",
    "nombre_exposed        497\n",
    "nombre_recovered    16301\n",
    "Name: 712, dtype: int64"
   ]
  },
  {
   "cell_type": "markdown",
   "id": "e95360b2",
   "metadata": {},
   "source": [
    "nombre_infected       764\n",
    "nombre_sain          2431\n",
    "nombre_exposed        513\n",
    "nombre_recovered    16292\n",
    "Name: 713, dtype: int64"
   ]
  },
  {
   "cell_type": "markdown",
   "id": "991d792a",
   "metadata": {},
   "source": [
    "nombre_infected       764\n",
    "nombre_sain          2430\n",
    "nombre_exposed        519\n",
    "nombre_recovered    16287\n",
    "Name: 714, dtype: int64"
   ]
  },
  {
   "cell_type": "markdown",
   "id": "e8bb8f25",
   "metadata": {},
   "source": [
    "nombre_infected       772\n",
    "nombre_sain          2419\n",
    "nombre_exposed        522\n",
    "nombre_recovered    16287\n",
    "Name: 715, dtype: int64"
   ]
  },
  {
   "cell_type": "markdown",
   "id": "fbbd43fa",
   "metadata": {},
   "source": [
    "nombre_infected       764\n",
    "nombre_sain          2424\n",
    "nombre_exposed        538\n",
    "nombre_recovered    16274\n",
    "Name: 716, dtype: int64"
   ]
  },
  {
   "cell_type": "markdown",
   "id": "6469b7c8",
   "metadata": {},
   "source": [
    "nombre_infected       754\n",
    "nombre_sain          2413\n",
    "nombre_exposed        526\n",
    "nombre_recovered    16307\n",
    "Name: 717, dtype: int64"
   ]
  },
  {
   "cell_type": "markdown",
   "id": "114aa577",
   "metadata": {},
   "source": [
    "nombre_infected       764\n",
    "nombre_sain          2410\n",
    "nombre_exposed        533\n",
    "nombre_recovered    16293\n",
    "Name: 718, dtype: int64"
   ]
  },
  {
   "cell_type": "markdown",
   "id": "33cb6e37",
   "metadata": {},
   "source": [
    "nombre_infected       758\n",
    "nombre_sain          2403\n",
    "nombre_exposed        528\n",
    "nombre_recovered    16311\n",
    "Name: 719, dtype: int64"
   ]
  },
  {
   "cell_type": "markdown",
   "id": "a9c38e17",
   "metadata": {},
   "source": [
    "nombre_infected       765\n",
    "nombre_sain          2375\n",
    "nombre_exposed        538\n",
    "nombre_recovered    16322\n",
    "Name: 720, dtype: int64"
   ]
  },
  {
   "cell_type": "markdown",
   "id": "33ac9f44",
   "metadata": {},
   "source": [
    "nombre_infected       753\n",
    "nombre_sain          2353\n",
    "nombre_exposed        559\n",
    "nombre_recovered    16335\n",
    "Name: 721, dtype: int64"
   ]
  },
  {
   "cell_type": "markdown",
   "id": "ff7268b3",
   "metadata": {},
   "source": [
    "nombre_infected       732\n",
    "nombre_sain          2343\n",
    "nombre_exposed        573\n",
    "nombre_recovered    16352\n",
    "Name: 722, dtype: int64"
   ]
  },
  {
   "cell_type": "markdown",
   "id": "7312dcb2",
   "metadata": {},
   "source": [
    "nombre_infected       740\n",
    "nombre_sain          2347\n",
    "nombre_exposed        553\n",
    "nombre_recovered    16360\n",
    "Name: 723, dtype: int64"
   ]
  },
  {
   "cell_type": "markdown",
   "id": "81178655",
   "metadata": {},
   "source": [
    "nombre_infected       760\n",
    "nombre_sain          2343\n",
    "nombre_exposed        554\n",
    "nombre_recovered    16343\n",
    "Name: 724, dtype: int64"
   ]
  },
  {
   "cell_type": "markdown",
   "id": "281cdb59",
   "metadata": {},
   "source": [
    "nombre_infected       780\n",
    "nombre_sain          2332\n",
    "nombre_exposed        545\n",
    "nombre_recovered    16343\n",
    "Name: 725, dtype: int64"
   ]
  },
  {
   "cell_type": "markdown",
   "id": "e6f1df19",
   "metadata": {},
   "source": [
    "nombre_infected       802\n",
    "nombre_sain          2330\n",
    "nombre_exposed        517\n",
    "nombre_recovered    16351\n",
    "Name: 726, dtype: int64"
   ]
  },
  {
   "cell_type": "markdown",
   "id": "38453af8",
   "metadata": {},
   "source": [
    "nombre_infected       803\n",
    "nombre_sain          2330\n",
    "nombre_exposed        516\n",
    "nombre_recovered    16351\n",
    "Name: 727, dtype: int64"
   ]
  },
  {
   "cell_type": "markdown",
   "id": "e68d6086",
   "metadata": {},
   "source": [
    "nombre_infected       771\n",
    "nombre_sain          2304\n",
    "nombre_exposed        543\n",
    "nombre_recovered    16382\n",
    "Name: 728, dtype: int64"
   ]
  },
  {
   "cell_type": "markdown",
   "id": "f9af0c54",
   "metadata": {},
   "source": [
    "nombre_infected       763\n",
    "nombre_sain          2294\n",
    "nombre_exposed        551\n",
    "nombre_recovered    16392\n",
    "Name: 729, dtype: int64"
   ]
  },
  {
   "cell_type": "markdown",
   "id": "890bbf99",
   "metadata": {},
   "source": [
    "nombre_infected       755\n",
    "nombre_sain          2311\n",
    "nombre_exposed        546\n",
    "nombre_recovered    16388\n",
    "Name: 730, dtype: int64"
   ]
  }
 ],
 "metadata": {},
 "nbformat": 4,
 "nbformat_minor": 5
}
