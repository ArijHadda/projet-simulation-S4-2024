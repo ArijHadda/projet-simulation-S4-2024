{
 "cells": [
  {
   "cell_type": "markdown",
   "id": "25a961df",
   "metadata": {},
   "source": [
    "nombre_infected        20\n",
    "nombre_sain         19980\n",
    "nombre_exposed          0\n",
    "nombre_recovered        0\n",
    "Name: 0, dtype: int64"
   ]
  },
  {
   "cell_type": "markdown",
   "id": "d3125d0d",
   "metadata": {},
   "source": [
    "nombre_infected        20\n",
    "nombre_sain         19963\n",
    "nombre_exposed         17\n",
    "nombre_recovered        0\n",
    "Name: 1, dtype: int64"
   ]
  },
  {
   "cell_type": "markdown",
   "id": "2f4f0419",
   "metadata": {},
   "source": [
    "nombre_infected        20\n",
    "nombre_sain         19931\n",
    "nombre_exposed         49\n",
    "nombre_recovered        0\n",
    "Name: 2, dtype: int64"
   ]
  },
  {
   "cell_type": "markdown",
   "id": "6f189385",
   "metadata": {},
   "source": [
    "nombre_infected         1\n",
    "nombre_sain         19924\n",
    "nombre_exposed         55\n",
    "nombre_recovered       20\n",
    "Name: 3, dtype: int64"
   ]
  },
  {
   "cell_type": "markdown",
   "id": "3eb8addc",
   "metadata": {},
   "source": [
    "nombre_infected        15\n",
    "nombre_sain         19914\n",
    "nombre_exposed         51\n",
    "nombre_recovered       20\n",
    "Name: 4, dtype: int64"
   ]
  },
  {
   "cell_type": "markdown",
   "id": "cd00dbe5",
   "metadata": {},
   "source": [
    "nombre_infected        28\n",
    "nombre_sain         19888\n",
    "nombre_exposed         64\n",
    "nombre_recovered       20\n",
    "Name: 5, dtype: int64"
   ]
  },
  {
   "cell_type": "markdown",
   "id": "5997e600",
   "metadata": {},
   "source": [
    "nombre_infected        37\n",
    "nombre_sain         19856\n",
    "nombre_exposed         85\n",
    "nombre_recovered       22\n",
    "Name: 6, dtype: int64"
   ]
  },
  {
   "cell_type": "markdown",
   "id": "0e6fd2f5",
   "metadata": {},
   "source": [
    "nombre_infected        51\n",
    "nombre_sain         19810\n",
    "nombre_exposed        115\n",
    "nombre_recovered       24\n",
    "Name: 7, dtype: int64"
   ]
  },
  {
   "cell_type": "markdown",
   "id": "0e2eb16a",
   "metadata": {},
   "source": [
    "nombre_infected        68\n",
    "nombre_sain         19734\n",
    "nombre_exposed        167\n",
    "nombre_recovered       31\n",
    "Name: 8, dtype: int64"
   ]
  },
  {
   "cell_type": "markdown",
   "id": "4310062b",
   "metadata": {},
   "source": [
    "nombre_infected        96\n",
    "nombre_sain         19637\n",
    "nombre_exposed        231\n",
    "nombre_recovered       36\n",
    "Name: 9, dtype: int64"
   ]
  },
  {
   "cell_type": "markdown",
   "id": "460398a5",
   "metadata": {},
   "source": [
    "nombre_infected       108\n",
    "nombre_sain         19518\n",
    "nombre_exposed        327\n",
    "nombre_recovered       47\n",
    "Name: 10, dtype: int64"
   ]
  },
  {
   "cell_type": "markdown",
   "id": "a440e31d",
   "metadata": {},
   "source": [
    "nombre_infected       150\n",
    "nombre_sain         19358\n",
    "nombre_exposed        438\n",
    "nombre_recovered       54\n",
    "Name: 11, dtype: int64"
   ]
  },
  {
   "cell_type": "markdown",
   "id": "835dafdf",
   "metadata": {},
   "source": [
    "nombre_infected       213\n",
    "nombre_sain         19140\n",
    "nombre_exposed        575\n",
    "nombre_recovered       72\n",
    "Name: 12, dtype: int64"
   ]
  },
  {
   "cell_type": "markdown",
   "id": "aa589562",
   "metadata": {},
   "source": [
    "nombre_infected       305\n",
    "nombre_sain         18842\n",
    "nombre_exposed        768\n",
    "nombre_recovered       85\n",
    "Name: 13, dtype: int64"
   ]
  },
  {
   "cell_type": "markdown",
   "id": "c8ca6300",
   "metadata": {},
   "source": [
    "nombre_infected       420\n",
    "nombre_sain         18411\n",
    "nombre_exposed       1065\n",
    "nombre_recovered      104\n",
    "Name: 14, dtype: int64"
   ]
  },
  {
   "cell_type": "markdown",
   "id": "4ea6f05b",
   "metadata": {},
   "source": [
    "nombre_infected       565\n",
    "nombre_sain         17845\n",
    "nombre_exposed       1448\n",
    "nombre_recovered      142\n",
    "Name: 15, dtype: int64"
   ]
  },
  {
   "cell_type": "markdown",
   "id": "47f38461",
   "metadata": {},
   "source": [
    "nombre_infected       768\n",
    "nombre_sain         17119\n",
    "nombre_exposed       1926\n",
    "nombre_recovered      187\n",
    "Name: 16, dtype: int64"
   ]
  },
  {
   "cell_type": "markdown",
   "id": "482b0ac8",
   "metadata": {},
   "source": [
    "nombre_infected      1031\n",
    "nombre_sain         16244\n",
    "nombre_exposed       2470\n",
    "nombre_recovered      255\n",
    "Name: 17, dtype: int64"
   ]
  },
  {
   "cell_type": "markdown",
   "id": "2424ec8d",
   "metadata": {},
   "source": [
    "nombre_infected      1400\n",
    "nombre_sain         15163\n",
    "nombre_exposed       3112\n",
    "nombre_recovered      325\n",
    "Name: 18, dtype: int64"
   ]
  },
  {
   "cell_type": "markdown",
   "id": "d9727e7e",
   "metadata": {},
   "source": [
    "nombre_infected      1870\n",
    "nombre_sain         13767\n",
    "nombre_exposed       3922\n",
    "nombre_recovered      441\n",
    "Name: 19, dtype: int64"
   ]
  },
  {
   "cell_type": "markdown",
   "id": "0304a76e",
   "metadata": {},
   "source": [
    "nombre_infected      2443\n",
    "nombre_sain         12166\n",
    "nombre_exposed       4793\n",
    "nombre_recovered      598\n",
    "Name: 20, dtype: int64"
   ]
  },
  {
   "cell_type": "markdown",
   "id": "5aeebffc",
   "metadata": {},
   "source": [
    "nombre_infected      3215\n",
    "nombre_sain         10334\n",
    "nombre_exposed       5650\n",
    "nombre_recovered      801\n",
    "Name: 21, dtype: int64"
   ]
  },
  {
   "cell_type": "markdown",
   "id": "4296d00b",
   "metadata": {},
   "source": [
    "nombre_infected     4043\n",
    "nombre_sain         8453\n",
    "nombre_exposed      6418\n",
    "nombre_recovered    1086\n",
    "Name: 22, dtype: int64"
   ]
  },
  {
   "cell_type": "markdown",
   "id": "2b60d2ae",
   "metadata": {},
   "source": [
    "nombre_infected     4951\n",
    "nombre_sain         6663\n",
    "nombre_exposed      6928\n",
    "nombre_recovered    1458\n",
    "Name: 23, dtype: int64"
   ]
  },
  {
   "cell_type": "markdown",
   "id": "2b89adb9",
   "metadata": {},
   "source": [
    "nombre_infected     5971\n",
    "nombre_sain         5118\n",
    "nombre_exposed      7005\n",
    "nombre_recovered    1906\n",
    "Name: 24, dtype: int64"
   ]
  },
  {
   "cell_type": "markdown",
   "id": "ae60001b",
   "metadata": {},
   "source": [
    "nombre_infected     7025\n",
    "nombre_sain         3682\n",
    "nombre_exposed      6852\n",
    "nombre_recovered    2441\n",
    "Name: 25, dtype: int64"
   ]
  },
  {
   "cell_type": "markdown",
   "id": "31b7eae2",
   "metadata": {},
   "source": [
    "nombre_infected     7913\n",
    "nombre_sain         2628\n",
    "nombre_exposed      6349\n",
    "nombre_recovered    3110\n",
    "Name: 26, dtype: int64"
   ]
  },
  {
   "cell_type": "markdown",
   "id": "f62b84ec",
   "metadata": {},
   "source": [
    "nombre_infected     8697\n",
    "nombre_sain         1836\n",
    "nombre_exposed      5611\n",
    "nombre_recovered    3856\n",
    "Name: 27, dtype: int64"
   ]
  },
  {
   "cell_type": "markdown",
   "id": "a515ce25",
   "metadata": {},
   "source": [
    "nombre_infected     9182\n",
    "nombre_sain         1213\n",
    "nombre_exposed      4804\n",
    "nombre_recovered    4801\n",
    "Name: 28, dtype: int64"
   ]
  },
  {
   "cell_type": "markdown",
   "id": "7cf01612",
   "metadata": {},
   "source": [
    "nombre_infected     9481\n",
    "nombre_sain          839\n",
    "nombre_exposed      3981\n",
    "nombre_recovered    5699\n",
    "Name: 29, dtype: int64"
   ]
  },
  {
   "cell_type": "markdown",
   "id": "69ff4180",
   "metadata": {},
   "source": [
    "nombre_infected     9511\n",
    "nombre_sain          551\n",
    "nombre_exposed      3212\n",
    "nombre_recovered    6726\n",
    "Name: 30, dtype: int64"
   ]
  },
  {
   "cell_type": "markdown",
   "id": "bfbb436d",
   "metadata": {},
   "source": [
    "nombre_infected     9379\n",
    "nombre_sain          361\n",
    "nombre_exposed      2569\n",
    "nombre_recovered    7691\n",
    "Name: 31, dtype: int64"
   ]
  },
  {
   "cell_type": "markdown",
   "id": "f742559c",
   "metadata": {},
   "source": [
    "nombre_infected     8985\n",
    "nombre_sain          251\n",
    "nombre_exposed      2010\n",
    "nombre_recovered    8754\n",
    "Name: 32, dtype: int64"
   ]
  },
  {
   "cell_type": "markdown",
   "id": "50c0815f",
   "metadata": {},
   "source": [
    "nombre_infected     8452\n",
    "nombre_sain          181\n",
    "nombre_exposed      1558\n",
    "nombre_recovered    9809\n",
    "Name: 33, dtype: int64"
   ]
  },
  {
   "cell_type": "markdown",
   "id": "1ebc9003",
   "metadata": {},
   "source": [
    "nombre_infected      7884\n",
    "nombre_sain           139\n",
    "nombre_exposed       1207\n",
    "nombre_recovered    10770\n",
    "Name: 34, dtype: int64"
   ]
  },
  {
   "cell_type": "markdown",
   "id": "d4b7b574",
   "metadata": {},
   "source": [
    "nombre_infected      7310\n",
    "nombre_sain           122\n",
    "nombre_exposed        907\n",
    "nombre_recovered    11661\n",
    "Name: 35, dtype: int64"
   ]
  },
  {
   "cell_type": "markdown",
   "id": "e3ec25d5",
   "metadata": {},
   "source": [
    "nombre_infected      6675\n",
    "nombre_sain           113\n",
    "nombre_exposed        678\n",
    "nombre_recovered    12534\n",
    "Name: 36, dtype: int64"
   ]
  },
  {
   "cell_type": "markdown",
   "id": "aefe858d",
   "metadata": {},
   "source": [
    "nombre_infected      6074\n",
    "nombre_sain           117\n",
    "nombre_exposed        506\n",
    "nombre_recovered    13303\n",
    "Name: 37, dtype: int64"
   ]
  },
  {
   "cell_type": "markdown",
   "id": "4ef3566e",
   "metadata": {},
   "source": [
    "nombre_infected      5497\n",
    "nombre_sain           119\n",
    "nombre_exposed        398\n",
    "nombre_recovered    13986\n",
    "Name: 38, dtype: int64"
   ]
  },
  {
   "cell_type": "markdown",
   "id": "17495e56",
   "metadata": {},
   "source": [
    "nombre_infected      4899\n",
    "nombre_sain           124\n",
    "nombre_exposed        311\n",
    "nombre_recovered    14666\n",
    "Name: 39, dtype: int64"
   ]
  },
  {
   "cell_type": "markdown",
   "id": "d00d2a09",
   "metadata": {},
   "source": [
    "nombre_infected      4362\n",
    "nombre_sain           127\n",
    "nombre_exposed        247\n",
    "nombre_recovered    15264\n",
    "Name: 40, dtype: int64"
   ]
  },
  {
   "cell_type": "markdown",
   "id": "bf2c1390",
   "metadata": {},
   "source": [
    "nombre_infected      3863\n",
    "nombre_sain           145\n",
    "nombre_exposed        209\n",
    "nombre_recovered    15783\n",
    "Name: 41, dtype: int64"
   ]
  },
  {
   "cell_type": "markdown",
   "id": "bf8a8562",
   "metadata": {},
   "source": [
    "nombre_infected      3431\n",
    "nombre_sain           146\n",
    "nombre_exposed        184\n",
    "nombre_recovered    16239\n",
    "Name: 42, dtype: int64"
   ]
  },
  {
   "cell_type": "markdown",
   "id": "55332642",
   "metadata": {},
   "source": [
    "nombre_infected      3077\n",
    "nombre_sain           151\n",
    "nombre_exposed        152\n",
    "nombre_recovered    16620\n",
    "Name: 43, dtype: int64"
   ]
  },
  {
   "cell_type": "markdown",
   "id": "dc679c09",
   "metadata": {},
   "source": [
    "nombre_infected      2685\n",
    "nombre_sain           170\n",
    "nombre_exposed        145\n",
    "nombre_recovered    17000\n",
    "Name: 44, dtype: int64"
   ]
  },
  {
   "cell_type": "markdown",
   "id": "f1d6298f",
   "metadata": {},
   "source": [
    "nombre_infected      2387\n",
    "nombre_sain           176\n",
    "nombre_exposed        122\n",
    "nombre_recovered    17315\n",
    "Name: 45, dtype: int64"
   ]
  },
  {
   "cell_type": "markdown",
   "id": "d4fa9a2b",
   "metadata": {},
   "source": [
    "nombre_infected      2062\n",
    "nombre_sain           191\n",
    "nombre_exposed        117\n",
    "nombre_recovered    17630\n",
    "Name: 46, dtype: int64"
   ]
  },
  {
   "cell_type": "markdown",
   "id": "231c209e",
   "metadata": {},
   "source": [
    "nombre_infected      1836\n",
    "nombre_sain           226\n",
    "nombre_exposed         94\n",
    "nombre_recovered    17844\n",
    "Name: 47, dtype: int64"
   ]
  },
  {
   "cell_type": "markdown",
   "id": "e270cb18",
   "metadata": {},
   "source": [
    "nombre_infected      1613\n",
    "nombre_sain           260\n",
    "nombre_exposed         80\n",
    "nombre_recovered    18047\n",
    "Name: 48, dtype: int64"
   ]
  },
  {
   "cell_type": "markdown",
   "id": "cf133f37",
   "metadata": {},
   "source": [
    "nombre_infected      1401\n",
    "nombre_sain           292\n",
    "nombre_exposed         84\n",
    "nombre_recovered    18223\n",
    "Name: 49, dtype: int64"
   ]
  },
  {
   "cell_type": "markdown",
   "id": "54e0ec82",
   "metadata": {},
   "source": [
    "nombre_infected      1230\n",
    "nombre_sain           336\n",
    "nombre_exposed         90\n",
    "nombre_recovered    18344\n",
    "Name: 50, dtype: int64"
   ]
  },
  {
   "cell_type": "markdown",
   "id": "ff146615",
   "metadata": {},
   "source": [
    "nombre_infected      1062\n",
    "nombre_sain           389\n",
    "nombre_exposed         77\n",
    "nombre_recovered    18472\n",
    "Name: 51, dtype: int64"
   ]
  },
  {
   "cell_type": "markdown",
   "id": "454a095f",
   "metadata": {},
   "source": [
    "nombre_infected       912\n",
    "nombre_sain           427\n",
    "nombre_exposed         81\n",
    "nombre_recovered    18580\n",
    "Name: 52, dtype: int64"
   ]
  },
  {
   "cell_type": "markdown",
   "id": "551ec07c",
   "metadata": {},
   "source": [
    "nombre_infected       766\n",
    "nombre_sain           476\n",
    "nombre_exposed         88\n",
    "nombre_recovered    18670\n",
    "Name: 53, dtype: int64"
   ]
  },
  {
   "cell_type": "markdown",
   "id": "c3895914",
   "metadata": {},
   "source": [
    "nombre_infected       645\n",
    "nombre_sain           531\n",
    "nombre_exposed         93\n",
    "nombre_recovered    18731\n",
    "Name: 54, dtype: int64"
   ]
  },
  {
   "cell_type": "markdown",
   "id": "7dcb2987",
   "metadata": {},
   "source": [
    "nombre_infected       560\n",
    "nombre_sain           582\n",
    "nombre_exposed         88\n",
    "nombre_recovered    18770\n",
    "Name: 55, dtype: int64"
   ]
  },
  {
   "cell_type": "markdown",
   "id": "df71870e",
   "metadata": {},
   "source": [
    "nombre_infected       472\n",
    "nombre_sain           650\n",
    "nombre_exposed         83\n",
    "nombre_recovered    18795\n",
    "Name: 56, dtype: int64"
   ]
  },
  {
   "cell_type": "markdown",
   "id": "de5b1b1b",
   "metadata": {},
   "source": [
    "nombre_infected       394\n",
    "nombre_sain           690\n",
    "nombre_exposed         90\n",
    "nombre_recovered    18826\n",
    "Name: 57, dtype: int64"
   ]
  },
  {
   "cell_type": "markdown",
   "id": "216c546b",
   "metadata": {},
   "source": [
    "nombre_infected       328\n",
    "nombre_sain           727\n",
    "nombre_exposed         87\n",
    "nombre_recovered    18858\n",
    "Name: 58, dtype: int64"
   ]
  },
  {
   "cell_type": "markdown",
   "id": "6059fabd",
   "metadata": {},
   "source": [
    "nombre_infected       269\n",
    "nombre_sain           783\n",
    "nombre_exposed         81\n",
    "nombre_recovered    18867\n",
    "Name: 59, dtype: int64"
   ]
  },
  {
   "cell_type": "markdown",
   "id": "4ff58b5a",
   "metadata": {},
   "source": [
    "nombre_infected       232\n",
    "nombre_sain           832\n",
    "nombre_exposed         77\n",
    "nombre_recovered    18859\n",
    "Name: 60, dtype: int64"
   ]
  },
  {
   "cell_type": "markdown",
   "id": "107ef3bc",
   "metadata": {},
   "source": [
    "nombre_infected       202\n",
    "nombre_sain           885\n",
    "nombre_exposed         69\n",
    "nombre_recovered    18844\n",
    "Name: 61, dtype: int64"
   ]
  },
  {
   "cell_type": "markdown",
   "id": "8333dc6f",
   "metadata": {},
   "source": [
    "nombre_infected       187\n",
    "nombre_sain           921\n",
    "nombre_exposed         62\n",
    "nombre_recovered    18830\n",
    "Name: 62, dtype: int64"
   ]
  },
  {
   "cell_type": "markdown",
   "id": "f57b5933",
   "metadata": {},
   "source": [
    "nombre_infected       163\n",
    "nombre_sain           959\n",
    "nombre_exposed         59\n",
    "nombre_recovered    18819\n",
    "Name: 63, dtype: int64"
   ]
  },
  {
   "cell_type": "markdown",
   "id": "565fa10a",
   "metadata": {},
   "source": [
    "nombre_infected       141\n",
    "nombre_sain           993\n",
    "nombre_exposed         53\n",
    "nombre_recovered    18813\n",
    "Name: 64, dtype: int64"
   ]
  },
  {
   "cell_type": "markdown",
   "id": "762e14bc",
   "metadata": {},
   "source": [
    "nombre_infected       127\n",
    "nombre_sain          1041\n",
    "nombre_exposed         50\n",
    "nombre_recovered    18782\n",
    "Name: 65, dtype: int64"
   ]
  },
  {
   "cell_type": "markdown",
   "id": "5a9b2e81",
   "metadata": {},
   "source": [
    "nombre_infected       121\n",
    "nombre_sain          1074\n",
    "nombre_exposed         46\n",
    "nombre_recovered    18759\n",
    "Name: 66, dtype: int64"
   ]
  },
  {
   "cell_type": "markdown",
   "id": "acd1cf0d",
   "metadata": {},
   "source": [
    "nombre_infected       100\n",
    "nombre_sain          1104\n",
    "nombre_exposed         38\n",
    "nombre_recovered    18758\n",
    "Name: 67, dtype: int64"
   ]
  },
  {
   "cell_type": "markdown",
   "id": "4f9afaa8",
   "metadata": {},
   "source": [
    "nombre_infected        90\n",
    "nombre_sain          1128\n",
    "nombre_exposed         36\n",
    "nombre_recovered    18746\n",
    "Name: 68, dtype: int64"
   ]
  },
  {
   "cell_type": "markdown",
   "id": "7678b336",
   "metadata": {},
   "source": [
    "nombre_infected        79\n",
    "nombre_sain          1172\n",
    "nombre_exposed         38\n",
    "nombre_recovered    18711\n",
    "Name: 69, dtype: int64"
   ]
  },
  {
   "cell_type": "markdown",
   "id": "a28402b6",
   "metadata": {},
   "source": [
    "nombre_infected        70\n",
    "nombre_sain          1216\n",
    "nombre_exposed         32\n",
    "nombre_recovered    18682\n",
    "Name: 70, dtype: int64"
   ]
  },
  {
   "cell_type": "markdown",
   "id": "93808534",
   "metadata": {},
   "source": [
    "nombre_infected        68\n",
    "nombre_sain          1263\n",
    "nombre_exposed         27\n",
    "nombre_recovered    18642\n",
    "Name: 71, dtype: int64"
   ]
  },
  {
   "cell_type": "markdown",
   "id": "51200d70",
   "metadata": {},
   "source": [
    "nombre_infected        58\n",
    "nombre_sain          1318\n",
    "nombre_exposed         23\n",
    "nombre_recovered    18601\n",
    "Name: 72, dtype: int64"
   ]
  },
  {
   "cell_type": "markdown",
   "id": "6c981e13",
   "metadata": {},
   "source": [
    "nombre_infected        57\n",
    "nombre_sain          1369\n",
    "nombre_exposed         24\n",
    "nombre_recovered    18550\n",
    "Name: 73, dtype: int64"
   ]
  },
  {
   "cell_type": "markdown",
   "id": "f59396de",
   "metadata": {},
   "source": [
    "nombre_infected        52\n",
    "nombre_sain          1441\n",
    "nombre_exposed         25\n",
    "nombre_recovered    18482\n",
    "Name: 74, dtype: int64"
   ]
  },
  {
   "cell_type": "markdown",
   "id": "6d31eed8",
   "metadata": {},
   "source": [
    "nombre_infected        50\n",
    "nombre_sain          1515\n",
    "nombre_exposed         25\n",
    "nombre_recovered    18410\n",
    "Name: 75, dtype: int64"
   ]
  },
  {
   "cell_type": "markdown",
   "id": "dbd05efc",
   "metadata": {},
   "source": [
    "nombre_infected        50\n",
    "nombre_sain          1586\n",
    "nombre_exposed         27\n",
    "nombre_recovered    18337\n",
    "Name: 76, dtype: int64"
   ]
  },
  {
   "cell_type": "markdown",
   "id": "e5f99ea5",
   "metadata": {},
   "source": [
    "nombre_infected        44\n",
    "nombre_sain          1640\n",
    "nombre_exposed         26\n",
    "nombre_recovered    18290\n",
    "Name: 77, dtype: int64"
   ]
  },
  {
   "cell_type": "markdown",
   "id": "ff977b25",
   "metadata": {},
   "source": [
    "nombre_infected        45\n",
    "nombre_sain          1712\n",
    "nombre_exposed         22\n",
    "nombre_recovered    18221\n",
    "Name: 78, dtype: int64"
   ]
  },
  {
   "cell_type": "markdown",
   "id": "58900886",
   "metadata": {},
   "source": [
    "nombre_infected        42\n",
    "nombre_sain          1767\n",
    "nombre_exposed         22\n",
    "nombre_recovered    18169\n",
    "Name: 79, dtype: int64"
   ]
  },
  {
   "cell_type": "markdown",
   "id": "d0b75dc2",
   "metadata": {},
   "source": [
    "nombre_infected        39\n",
    "nombre_sain          1828\n",
    "nombre_exposed         19\n",
    "nombre_recovered    18114\n",
    "Name: 80, dtype: int64"
   ]
  },
  {
   "cell_type": "markdown",
   "id": "76606b7b",
   "metadata": {},
   "source": [
    "nombre_infected        33\n",
    "nombre_sain          1906\n",
    "nombre_exposed         18\n",
    "nombre_recovered    18043\n",
    "Name: 81, dtype: int64"
   ]
  },
  {
   "cell_type": "markdown",
   "id": "955d646f",
   "metadata": {},
   "source": [
    "nombre_infected        27\n",
    "nombre_sain          1973\n",
    "nombre_exposed         16\n",
    "nombre_recovered    17984\n",
    "Name: 82, dtype: int64"
   ]
  },
  {
   "cell_type": "markdown",
   "id": "39737a5f",
   "metadata": {},
   "source": [
    "nombre_infected        29\n",
    "nombre_sain          2040\n",
    "nombre_exposed         17\n",
    "nombre_recovered    17914\n",
    "Name: 83, dtype: int64"
   ]
  },
  {
   "cell_type": "markdown",
   "id": "72c3f918",
   "metadata": {},
   "source": [
    "nombre_infected        28\n",
    "nombre_sain          2101\n",
    "nombre_exposed         15\n",
    "nombre_recovered    17856\n",
    "Name: 84, dtype: int64"
   ]
  },
  {
   "cell_type": "markdown",
   "id": "6d549b28",
   "metadata": {},
   "source": [
    "nombre_infected        25\n",
    "nombre_sain          2170\n",
    "nombre_exposed         15\n",
    "nombre_recovered    17790\n",
    "Name: 85, dtype: int64"
   ]
  },
  {
   "cell_type": "markdown",
   "id": "da69606b",
   "metadata": {},
   "source": [
    "nombre_infected        26\n",
    "nombre_sain          2223\n",
    "nombre_exposed         16\n",
    "nombre_recovered    17735\n",
    "Name: 86, dtype: int64"
   ]
  },
  {
   "cell_type": "markdown",
   "id": "6be539d5",
   "metadata": {},
   "source": [
    "nombre_infected        23\n",
    "nombre_sain          2277\n",
    "nombre_exposed         15\n",
    "nombre_recovered    17685\n",
    "Name: 87, dtype: int64"
   ]
  },
  {
   "cell_type": "markdown",
   "id": "bd4bd9b9",
   "metadata": {},
   "source": [
    "nombre_infected        24\n",
    "nombre_sain          2328\n",
    "nombre_exposed         14\n",
    "nombre_recovered    17634\n",
    "Name: 88, dtype: int64"
   ]
  },
  {
   "cell_type": "markdown",
   "id": "c3197dae",
   "metadata": {},
   "source": [
    "nombre_infected        23\n",
    "nombre_sain          2368\n",
    "nombre_exposed         16\n",
    "nombre_recovered    17593\n",
    "Name: 89, dtype: int64"
   ]
  },
  {
   "cell_type": "markdown",
   "id": "d83e9a32",
   "metadata": {},
   "source": [
    "nombre_infected        21\n",
    "nombre_sain          2404\n",
    "nombre_exposed         18\n",
    "nombre_recovered    17557\n",
    "Name: 90, dtype: int64"
   ]
  },
  {
   "cell_type": "markdown",
   "id": "9c86cf37",
   "metadata": {},
   "source": [
    "nombre_infected        24\n",
    "nombre_sain          2443\n",
    "nombre_exposed         17\n",
    "nombre_recovered    17516\n",
    "Name: 91, dtype: int64"
   ]
  },
  {
   "cell_type": "markdown",
   "id": "b9f549d9",
   "metadata": {},
   "source": [
    "nombre_infected        23\n",
    "nombre_sain          2491\n",
    "nombre_exposed         18\n",
    "nombre_recovered    17468\n",
    "Name: 92, dtype: int64"
   ]
  },
  {
   "cell_type": "markdown",
   "id": "4ad11982",
   "metadata": {},
   "source": [
    "nombre_infected        28\n",
    "nombre_sain          2535\n",
    "nombre_exposed         16\n",
    "nombre_recovered    17421\n",
    "Name: 93, dtype: int64"
   ]
  },
  {
   "cell_type": "markdown",
   "id": "3f68a3e1",
   "metadata": {},
   "source": [
    "nombre_infected        30\n",
    "nombre_sain          2575\n",
    "nombre_exposed         15\n",
    "nombre_recovered    17380\n",
    "Name: 94, dtype: int64"
   ]
  },
  {
   "cell_type": "markdown",
   "id": "56a603b0",
   "metadata": {},
   "source": [
    "nombre_infected        26\n",
    "nombre_sain          2623\n",
    "nombre_exposed         17\n",
    "nombre_recovered    17334\n",
    "Name: 95, dtype: int64"
   ]
  },
  {
   "cell_type": "markdown",
   "id": "98562645",
   "metadata": {},
   "source": [
    "nombre_infected        27\n",
    "nombre_sain          2663\n",
    "nombre_exposed         18\n",
    "nombre_recovered    17292\n",
    "Name: 96, dtype: int64"
   ]
  },
  {
   "cell_type": "markdown",
   "id": "3cec6751",
   "metadata": {},
   "source": [
    "nombre_infected        27\n",
    "nombre_sain          2714\n",
    "nombre_exposed         17\n",
    "nombre_recovered    17242\n",
    "Name: 97, dtype: int64"
   ]
  },
  {
   "cell_type": "markdown",
   "id": "8180eea2",
   "metadata": {},
   "source": [
    "nombre_infected        27\n",
    "nombre_sain          2754\n",
    "nombre_exposed         14\n",
    "nombre_recovered    17205\n",
    "Name: 98, dtype: int64"
   ]
  },
  {
   "cell_type": "markdown",
   "id": "abbe09f7",
   "metadata": {},
   "source": [
    "nombre_infected        26\n",
    "nombre_sain          2798\n",
    "nombre_exposed         12\n",
    "nombre_recovered    17164\n",
    "Name: 99, dtype: int64"
   ]
  },
  {
   "cell_type": "markdown",
   "id": "c47264f0",
   "metadata": {},
   "source": [
    "nombre_infected        23\n",
    "nombre_sain          2853\n",
    "nombre_exposed         12\n",
    "nombre_recovered    17112\n",
    "Name: 100, dtype: int64"
   ]
  },
  {
   "cell_type": "markdown",
   "id": "025ba718",
   "metadata": {},
   "source": [
    "nombre_infected        19\n",
    "nombre_sain          2894\n",
    "nombre_exposed         11\n",
    "nombre_recovered    17076\n",
    "Name: 101, dtype: int64"
   ]
  },
  {
   "cell_type": "markdown",
   "id": "79fcfc86",
   "metadata": {},
   "source": [
    "nombre_infected        19\n",
    "nombre_sain          2935\n",
    "nombre_exposed         10\n",
    "nombre_recovered    17036\n",
    "Name: 102, dtype: int64"
   ]
  },
  {
   "cell_type": "markdown",
   "id": "a16f3447",
   "metadata": {},
   "source": [
    "nombre_infected        15\n",
    "nombre_sain          2983\n",
    "nombre_exposed         15\n",
    "nombre_recovered    16987\n",
    "Name: 103, dtype: int64"
   ]
  },
  {
   "cell_type": "markdown",
   "id": "626e6617",
   "metadata": {},
   "source": [
    "nombre_infected        20\n",
    "nombre_sain          3028\n",
    "nombre_exposed         14\n",
    "nombre_recovered    16938\n",
    "Name: 104, dtype: int64"
   ]
  },
  {
   "cell_type": "markdown",
   "id": "c752ab23",
   "metadata": {},
   "source": [
    "nombre_infected        21\n",
    "nombre_sain          3078\n",
    "nombre_exposed         13\n",
    "nombre_recovered    16888\n",
    "Name: 105, dtype: int64"
   ]
  },
  {
   "cell_type": "markdown",
   "id": "e95ea63f",
   "metadata": {},
   "source": [
    "nombre_infected        20\n",
    "nombre_sain          3105\n",
    "nombre_exposed         14\n",
    "nombre_recovered    16861\n",
    "Name: 106, dtype: int64"
   ]
  },
  {
   "cell_type": "markdown",
   "id": "ce988f33",
   "metadata": {},
   "source": [
    "nombre_infected        21\n",
    "nombre_sain          3141\n",
    "nombre_exposed         16\n",
    "nombre_recovered    16822\n",
    "Name: 107, dtype: int64"
   ]
  },
  {
   "cell_type": "markdown",
   "id": "94e76d52",
   "metadata": {},
   "source": [
    "nombre_infected        17\n",
    "nombre_sain          3190\n",
    "nombre_exposed         17\n",
    "nombre_recovered    16776\n",
    "Name: 108, dtype: int64"
   ]
  },
  {
   "cell_type": "markdown",
   "id": "dfcbf538",
   "metadata": {},
   "source": [
    "nombre_infected        20\n",
    "nombre_sain          3240\n",
    "nombre_exposed         17\n",
    "nombre_recovered    16723\n",
    "Name: 109, dtype: int64"
   ]
  },
  {
   "cell_type": "markdown",
   "id": "232bbd30",
   "metadata": {},
   "source": [
    "nombre_infected        21\n",
    "nombre_sain          3274\n",
    "nombre_exposed         19\n",
    "nombre_recovered    16686\n",
    "Name: 110, dtype: int64"
   ]
  },
  {
   "cell_type": "markdown",
   "id": "1828c0e6",
   "metadata": {},
   "source": [
    "nombre_infected        22\n",
    "nombre_sain          3318\n",
    "nombre_exposed         22\n",
    "nombre_recovered    16638\n",
    "Name: 111, dtype: int64"
   ]
  },
  {
   "cell_type": "markdown",
   "id": "5186df0d",
   "metadata": {},
   "source": [
    "nombre_infected        24\n",
    "nombre_sain          3358\n",
    "nombre_exposed         19\n",
    "nombre_recovered    16599\n",
    "Name: 112, dtype: int64"
   ]
  },
  {
   "cell_type": "markdown",
   "id": "a9de580e",
   "metadata": {},
   "source": [
    "nombre_infected        23\n",
    "nombre_sain          3407\n",
    "nombre_exposed         21\n",
    "nombre_recovered    16549\n",
    "Name: 113, dtype: int64"
   ]
  },
  {
   "cell_type": "markdown",
   "id": "e64a8139",
   "metadata": {},
   "source": [
    "nombre_infected        18\n",
    "nombre_sain          3448\n",
    "nombre_exposed         22\n",
    "nombre_recovered    16512\n",
    "Name: 114, dtype: int64"
   ]
  },
  {
   "cell_type": "markdown",
   "id": "32bed189",
   "metadata": {},
   "source": [
    "nombre_infected        19\n",
    "nombre_sain          3486\n",
    "nombre_exposed         22\n",
    "nombre_recovered    16473\n",
    "Name: 115, dtype: int64"
   ]
  },
  {
   "cell_type": "markdown",
   "id": "fa2c1884",
   "metadata": {},
   "source": [
    "nombre_infected        24\n",
    "nombre_sain          3511\n",
    "nombre_exposed         20\n",
    "nombre_recovered    16445\n",
    "Name: 116, dtype: int64"
   ]
  },
  {
   "cell_type": "markdown",
   "id": "f08cf164",
   "metadata": {},
   "source": [
    "nombre_infected        24\n",
    "nombre_sain          3550\n",
    "nombre_exposed         23\n",
    "nombre_recovered    16403\n",
    "Name: 117, dtype: int64"
   ]
  },
  {
   "cell_type": "markdown",
   "id": "b79acc55",
   "metadata": {},
   "source": [
    "nombre_infected        26\n",
    "nombre_sain          3582\n",
    "nombre_exposed         23\n",
    "nombre_recovered    16369\n",
    "Name: 118, dtype: int64"
   ]
  },
  {
   "cell_type": "markdown",
   "id": "8a8d22fd",
   "metadata": {},
   "source": [
    "nombre_infected        29\n",
    "nombre_sain          3605\n",
    "nombre_exposed         25\n",
    "nombre_recovered    16341\n",
    "Name: 119, dtype: int64"
   ]
  },
  {
   "cell_type": "markdown",
   "id": "a135030e",
   "metadata": {},
   "source": [
    "nombre_infected        27\n",
    "nombre_sain          3642\n",
    "nombre_exposed         31\n",
    "nombre_recovered    16300\n",
    "Name: 120, dtype: int64"
   ]
  },
  {
   "cell_type": "markdown",
   "id": "941aace3",
   "metadata": {},
   "source": [
    "nombre_infected        30\n",
    "nombre_sain          3661\n",
    "nombre_exposed         31\n",
    "nombre_recovered    16278\n",
    "Name: 121, dtype: int64"
   ]
  },
  {
   "cell_type": "markdown",
   "id": "81dbaacb",
   "metadata": {},
   "source": [
    "nombre_infected        30\n",
    "nombre_sain          3684\n",
    "nombre_exposed         35\n",
    "nombre_recovered    16251\n",
    "Name: 122, dtype: int64"
   ]
  },
  {
   "cell_type": "markdown",
   "id": "231ea23a",
   "metadata": {},
   "source": [
    "nombre_infected        34\n",
    "nombre_sain          3728\n",
    "nombre_exposed         37\n",
    "nombre_recovered    16201\n",
    "Name: 123, dtype: int64"
   ]
  },
  {
   "cell_type": "markdown",
   "id": "362e2bd1",
   "metadata": {},
   "source": [
    "nombre_infected        31\n",
    "nombre_sain          3763\n",
    "nombre_exposed         40\n",
    "nombre_recovered    16166\n",
    "Name: 124, dtype: int64"
   ]
  },
  {
   "cell_type": "markdown",
   "id": "2d00fde0",
   "metadata": {},
   "source": [
    "nombre_infected        33\n",
    "nombre_sain          3794\n",
    "nombre_exposed         42\n",
    "nombre_recovered    16131\n",
    "Name: 125, dtype: int64"
   ]
  },
  {
   "cell_type": "markdown",
   "id": "8d6ee217",
   "metadata": {},
   "source": [
    "nombre_infected        39\n",
    "nombre_sain          3840\n",
    "nombre_exposed         41\n",
    "nombre_recovered    16080\n",
    "Name: 126, dtype: int64"
   ]
  },
  {
   "cell_type": "markdown",
   "id": "cc85fa2f",
   "metadata": {},
   "source": [
    "nombre_infected        43\n",
    "nombre_sain          3898\n",
    "nombre_exposed         42\n",
    "nombre_recovered    16017\n",
    "Name: 127, dtype: int64"
   ]
  },
  {
   "cell_type": "markdown",
   "id": "61c51682",
   "metadata": {},
   "source": [
    "nombre_infected        43\n",
    "nombre_sain          3941\n",
    "nombre_exposed         42\n",
    "nombre_recovered    15974\n",
    "Name: 128, dtype: int64"
   ]
  },
  {
   "cell_type": "markdown",
   "id": "aebd9de8",
   "metadata": {},
   "source": [
    "nombre_infected        49\n",
    "nombre_sain          3999\n",
    "nombre_exposed         37\n",
    "nombre_recovered    15915\n",
    "Name: 129, dtype: int64"
   ]
  },
  {
   "cell_type": "markdown",
   "id": "68f90edb",
   "metadata": {},
   "source": [
    "nombre_infected        58\n",
    "nombre_sain          4049\n",
    "nombre_exposed         32\n",
    "nombre_recovered    15861\n",
    "Name: 130, dtype: int64"
   ]
  },
  {
   "cell_type": "markdown",
   "id": "78c57ba6",
   "metadata": {},
   "source": [
    "nombre_infected        57\n",
    "nombre_sain          4090\n",
    "nombre_exposed         42\n",
    "nombre_recovered    15811\n",
    "Name: 131, dtype: int64"
   ]
  },
  {
   "cell_type": "markdown",
   "id": "03d9d6e1",
   "metadata": {},
   "source": [
    "nombre_infected        59\n",
    "nombre_sain          4124\n",
    "nombre_exposed         51\n",
    "nombre_recovered    15766\n",
    "Name: 132, dtype: int64"
   ]
  },
  {
   "cell_type": "markdown",
   "id": "b0f0f32e",
   "metadata": {},
   "source": [
    "nombre_infected        59\n",
    "nombre_sain          4157\n",
    "nombre_exposed         65\n",
    "nombre_recovered    15719\n",
    "Name: 133, dtype: int64"
   ]
  },
  {
   "cell_type": "markdown",
   "id": "257b8dfa",
   "metadata": {},
   "source": [
    "nombre_infected        66\n",
    "nombre_sain          4177\n",
    "nombre_exposed         70\n",
    "nombre_recovered    15687\n",
    "Name: 134, dtype: int64"
   ]
  },
  {
   "cell_type": "markdown",
   "id": "f5186e2e",
   "metadata": {},
   "source": [
    "nombre_infected        73\n",
    "nombre_sain          4201\n",
    "nombre_exposed         70\n",
    "nombre_recovered    15656\n",
    "Name: 135, dtype: int64"
   ]
  },
  {
   "cell_type": "markdown",
   "id": "42fa4e54",
   "metadata": {},
   "source": [
    "nombre_infected        78\n",
    "nombre_sain          4223\n",
    "nombre_exposed         68\n",
    "nombre_recovered    15631\n",
    "Name: 136, dtype: int64"
   ]
  },
  {
   "cell_type": "markdown",
   "id": "58619cec",
   "metadata": {},
   "source": [
    "nombre_infected        86\n",
    "nombre_sain          4231\n",
    "nombre_exposed         75\n",
    "nombre_recovered    15608\n",
    "Name: 137, dtype: int64"
   ]
  },
  {
   "cell_type": "markdown",
   "id": "0cf7b6bf",
   "metadata": {},
   "source": [
    "nombre_infected        94\n",
    "nombre_sain          4243\n",
    "nombre_exposed         79\n",
    "nombre_recovered    15584\n",
    "Name: 138, dtype: int64"
   ]
  },
  {
   "cell_type": "markdown",
   "id": "6f52f48e",
   "metadata": {},
   "source": [
    "nombre_infected       100\n",
    "nombre_sain          4244\n",
    "nombre_exposed         91\n",
    "nombre_recovered    15565\n",
    "Name: 139, dtype: int64"
   ]
  },
  {
   "cell_type": "markdown",
   "id": "a3414e57",
   "metadata": {},
   "source": [
    "nombre_infected        99\n",
    "nombre_sain          4233\n",
    "nombre_exposed        114\n",
    "nombre_recovered    15554\n",
    "Name: 140, dtype: int64"
   ]
  },
  {
   "cell_type": "markdown",
   "id": "299c6754",
   "metadata": {},
   "source": [
    "nombre_infected       105\n",
    "nombre_sain          4250\n",
    "nombre_exposed        113\n",
    "nombre_recovered    15532\n",
    "Name: 141, dtype: int64"
   ]
  },
  {
   "cell_type": "markdown",
   "id": "cd21006c",
   "metadata": {},
   "source": [
    "nombre_infected       112\n",
    "nombre_sain          4253\n",
    "nombre_exposed        115\n",
    "nombre_recovered    15520\n",
    "Name: 142, dtype: int64"
   ]
  },
  {
   "cell_type": "markdown",
   "id": "8c063be8",
   "metadata": {},
   "source": [
    "nombre_infected       122\n",
    "nombre_sain          4255\n",
    "nombre_exposed        114\n",
    "nombre_recovered    15509\n",
    "Name: 143, dtype: int64"
   ]
  },
  {
   "cell_type": "markdown",
   "id": "7b002fd2",
   "metadata": {},
   "source": [
    "nombre_infected       143\n",
    "nombre_sain          4260\n",
    "nombre_exposed        116\n",
    "nombre_recovered    15481\n",
    "Name: 144, dtype: int64"
   ]
  },
  {
   "cell_type": "markdown",
   "id": "11bb2dad",
   "metadata": {},
   "source": [
    "nombre_infected       143\n",
    "nombre_sain          4282\n",
    "nombre_exposed        131\n",
    "nombre_recovered    15444\n",
    "Name: 145, dtype: int64"
   ]
  },
  {
   "cell_type": "markdown",
   "id": "fe21ca00",
   "metadata": {},
   "source": [
    "nombre_infected       146\n",
    "nombre_sain          4273\n",
    "nombre_exposed        145\n",
    "nombre_recovered    15436\n",
    "Name: 146, dtype: int64"
   ]
  },
  {
   "cell_type": "markdown",
   "id": "b3b9667d",
   "metadata": {},
   "source": [
    "nombre_infected       162\n",
    "nombre_sain          4284\n",
    "nombre_exposed        154\n",
    "nombre_recovered    15400\n",
    "Name: 147, dtype: int64"
   ]
  },
  {
   "cell_type": "markdown",
   "id": "b1cf0ddc",
   "metadata": {},
   "source": [
    "nombre_infected       168\n",
    "nombre_sain          4284\n",
    "nombre_exposed        177\n",
    "nombre_recovered    15371\n",
    "Name: 148, dtype: int64"
   ]
  },
  {
   "cell_type": "markdown",
   "id": "ecd52784",
   "metadata": {},
   "source": [
    "nombre_infected       182\n",
    "nombre_sain          4289\n",
    "nombre_exposed        193\n",
    "nombre_recovered    15336\n",
    "Name: 149, dtype: int64"
   ]
  },
  {
   "cell_type": "markdown",
   "id": "1f778610",
   "metadata": {},
   "source": [
    "nombre_infected       193\n",
    "nombre_sain          4288\n",
    "nombre_exposed        207\n",
    "nombre_recovered    15312\n",
    "Name: 150, dtype: int64"
   ]
  },
  {
   "cell_type": "markdown",
   "id": "698b06bd",
   "metadata": {},
   "source": [
    "nombre_infected       214\n",
    "nombre_sain          4285\n",
    "nombre_exposed        221\n",
    "nombre_recovered    15280\n",
    "Name: 151, dtype: int64"
   ]
  },
  {
   "cell_type": "markdown",
   "id": "d5217dbe",
   "metadata": {},
   "source": [
    "nombre_infected       235\n",
    "nombre_sain          4282\n",
    "nombre_exposed        230\n",
    "nombre_recovered    15253\n",
    "Name: 152, dtype: int64"
   ]
  },
  {
   "cell_type": "markdown",
   "id": "fa2b1f5d",
   "metadata": {},
   "source": [
    "nombre_infected       256\n",
    "nombre_sain          4260\n",
    "nombre_exposed        247\n",
    "nombre_recovered    15237\n",
    "Name: 153, dtype: int64"
   ]
  },
  {
   "cell_type": "markdown",
   "id": "2e93daaa",
   "metadata": {},
   "source": [
    "nombre_infected       270\n",
    "nombre_sain          4248\n",
    "nombre_exposed        271\n",
    "nombre_recovered    15211\n",
    "Name: 154, dtype: int64"
   ]
  },
  {
   "cell_type": "markdown",
   "id": "04a0c830",
   "metadata": {},
   "source": [
    "nombre_infected       304\n",
    "nombre_sain          4238\n",
    "nombre_exposed        291\n",
    "nombre_recovered    15167\n",
    "Name: 155, dtype: int64"
   ]
  },
  {
   "cell_type": "markdown",
   "id": "ea34acac",
   "metadata": {},
   "source": [
    "nombre_infected       327\n",
    "nombre_sain          4200\n",
    "nombre_exposed        324\n",
    "nombre_recovered    15149\n",
    "Name: 156, dtype: int64"
   ]
  },
  {
   "cell_type": "markdown",
   "id": "5d3a6c6c",
   "metadata": {},
   "source": [
    "nombre_infected       353\n",
    "nombre_sain          4188\n",
    "nombre_exposed        339\n",
    "nombre_recovered    15120\n",
    "Name: 157, dtype: int64"
   ]
  },
  {
   "cell_type": "markdown",
   "id": "439b6c17",
   "metadata": {},
   "source": [
    "nombre_infected       399\n",
    "nombre_sain          4174\n",
    "nombre_exposed        335\n",
    "nombre_recovered    15092\n",
    "Name: 158, dtype: int64"
   ]
  },
  {
   "cell_type": "markdown",
   "id": "4dc35508",
   "metadata": {},
   "source": [
    "nombre_infected       423\n",
    "nombre_sain          4142\n",
    "nombre_exposed        355\n",
    "nombre_recovered    15080\n",
    "Name: 159, dtype: int64"
   ]
  },
  {
   "cell_type": "markdown",
   "id": "d7ef4ca4",
   "metadata": {},
   "source": [
    "nombre_infected       446\n",
    "nombre_sain          4091\n",
    "nombre_exposed        401\n",
    "nombre_recovered    15062\n",
    "Name: 160, dtype: int64"
   ]
  },
  {
   "cell_type": "markdown",
   "id": "697c84e5",
   "metadata": {},
   "source": [
    "nombre_infected       478\n",
    "nombre_sain          4028\n",
    "nombre_exposed        459\n",
    "nombre_recovered    15035\n",
    "Name: 161, dtype: int64"
   ]
  },
  {
   "cell_type": "markdown",
   "id": "3a130d97",
   "metadata": {},
   "source": [
    "nombre_infected       505\n",
    "nombre_sain          3960\n",
    "nombre_exposed        488\n",
    "nombre_recovered    15047\n",
    "Name: 162, dtype: int64"
   ]
  },
  {
   "cell_type": "markdown",
   "id": "5d9388ba",
   "metadata": {},
   "source": [
    "nombre_infected       565\n",
    "nombre_sain          3867\n",
    "nombre_exposed        528\n",
    "nombre_recovered    15040\n",
    "Name: 163, dtype: int64"
   ]
  },
  {
   "cell_type": "markdown",
   "id": "93b2d94b",
   "metadata": {},
   "source": [
    "nombre_infected       606\n",
    "nombre_sain          3798\n",
    "nombre_exposed        550\n",
    "nombre_recovered    15046\n",
    "Name: 164, dtype: int64"
   ]
  },
  {
   "cell_type": "markdown",
   "id": "70ace4ac",
   "metadata": {},
   "source": [
    "nombre_infected       649\n",
    "nombre_sain          3721\n",
    "nombre_exposed        565\n",
    "nombre_recovered    15065\n",
    "Name: 165, dtype: int64"
   ]
  },
  {
   "cell_type": "markdown",
   "id": "c3bf7d36",
   "metadata": {},
   "source": [
    "nombre_infected       688\n",
    "nombre_sain          3625\n",
    "nombre_exposed        593\n",
    "nombre_recovered    15094\n",
    "Name: 166, dtype: int64"
   ]
  },
  {
   "cell_type": "markdown",
   "id": "92f397bd",
   "metadata": {},
   "source": [
    "nombre_infected       737\n",
    "nombre_sain          3496\n",
    "nombre_exposed        629\n",
    "nombre_recovered    15138\n",
    "Name: 167, dtype: int64"
   ]
  },
  {
   "cell_type": "markdown",
   "id": "ae526c03",
   "metadata": {},
   "source": [
    "nombre_infected       789\n",
    "nombre_sain          3414\n",
    "nombre_exposed        647\n",
    "nombre_recovered    15150\n",
    "Name: 168, dtype: int64"
   ]
  },
  {
   "cell_type": "markdown",
   "id": "c6539153",
   "metadata": {},
   "source": [
    "nombre_infected       833\n",
    "nombre_sain          3300\n",
    "nombre_exposed        661\n",
    "nombre_recovered    15206\n",
    "Name: 169, dtype: int64"
   ]
  },
  {
   "cell_type": "markdown",
   "id": "558f3ad2",
   "metadata": {},
   "source": [
    "nombre_infected       895\n",
    "nombre_sain          3181\n",
    "nombre_exposed        676\n",
    "nombre_recovered    15248\n",
    "Name: 170, dtype: int64"
   ]
  },
  {
   "cell_type": "markdown",
   "id": "b3a54bb7",
   "metadata": {},
   "source": [
    "nombre_infected       931\n",
    "nombre_sain          3072\n",
    "nombre_exposed        709\n",
    "nombre_recovered    15288\n",
    "Name: 171, dtype: int64"
   ]
  },
  {
   "cell_type": "markdown",
   "id": "32b4843d",
   "metadata": {},
   "source": [
    "nombre_infected       971\n",
    "nombre_sain          2967\n",
    "nombre_exposed        737\n",
    "nombre_recovered    15325\n",
    "Name: 172, dtype: int64"
   ]
  },
  {
   "cell_type": "markdown",
   "id": "db93ab06",
   "metadata": {},
   "source": [
    "nombre_infected      1032\n",
    "nombre_sain          2904\n",
    "nombre_exposed        711\n",
    "nombre_recovered    15353\n",
    "Name: 173, dtype: int64"
   ]
  },
  {
   "cell_type": "markdown",
   "id": "fd667e7e",
   "metadata": {},
   "source": [
    "nombre_infected      1077\n",
    "nombre_sain          2791\n",
    "nombre_exposed        746\n",
    "nombre_recovered    15386\n",
    "Name: 174, dtype: int64"
   ]
  },
  {
   "cell_type": "markdown",
   "id": "cb00ddb1",
   "metadata": {},
   "source": [
    "nombre_infected      1124\n",
    "nombre_sain          2677\n",
    "nombre_exposed        783\n",
    "nombre_recovered    15416\n",
    "Name: 175, dtype: int64"
   ]
  },
  {
   "cell_type": "markdown",
   "id": "55c89244",
   "metadata": {},
   "source": [
    "nombre_infected      1152\n",
    "nombre_sain          2594\n",
    "nombre_exposed        771\n",
    "nombre_recovered    15483\n",
    "Name: 176, dtype: int64"
   ]
  },
  {
   "cell_type": "markdown",
   "id": "d706223a",
   "metadata": {},
   "source": [
    "nombre_infected      1220\n",
    "nombre_sain          2491\n",
    "nombre_exposed        767\n",
    "nombre_recovered    15522\n",
    "Name: 177, dtype: int64"
   ]
  },
  {
   "cell_type": "markdown",
   "id": "2647e072",
   "metadata": {},
   "source": [
    "nombre_infected      1262\n",
    "nombre_sain          2365\n",
    "nombre_exposed        767\n",
    "nombre_recovered    15606\n",
    "Name: 178, dtype: int64"
   ]
  },
  {
   "cell_type": "markdown",
   "id": "a5fc5333",
   "metadata": {},
   "source": [
    "nombre_infected      1281\n",
    "nombre_sain          2269\n",
    "nombre_exposed        766\n",
    "nombre_recovered    15684\n",
    "Name: 179, dtype: int64"
   ]
  },
  {
   "cell_type": "markdown",
   "id": "27c2ee77",
   "metadata": {},
   "source": [
    "nombre_infected      1311\n",
    "nombre_sain          2166\n",
    "nombre_exposed        779\n",
    "nombre_recovered    15744\n",
    "Name: 180, dtype: int64"
   ]
  },
  {
   "cell_type": "markdown",
   "id": "d3cab763",
   "metadata": {},
   "source": [
    "nombre_infected      1330\n",
    "nombre_sain          2058\n",
    "nombre_exposed        792\n",
    "nombre_recovered    15820\n",
    "Name: 181, dtype: int64"
   ]
  },
  {
   "cell_type": "markdown",
   "id": "be4bea77",
   "metadata": {},
   "source": [
    "nombre_infected      1336\n",
    "nombre_sain          1964\n",
    "nombre_exposed        777\n",
    "nombre_recovered    15923\n",
    "Name: 182, dtype: int64"
   ]
  },
  {
   "cell_type": "markdown",
   "id": "de936209",
   "metadata": {},
   "source": [
    "nombre_infected      1370\n",
    "nombre_sain          1872\n",
    "nombre_exposed        738\n",
    "nombre_recovered    16020\n",
    "Name: 183, dtype: int64"
   ]
  },
  {
   "cell_type": "markdown",
   "id": "77880a94",
   "metadata": {},
   "source": [
    "nombre_infected      1367\n",
    "nombre_sain          1793\n",
    "nombre_exposed        699\n",
    "nombre_recovered    16141\n",
    "Name: 184, dtype: int64"
   ]
  },
  {
   "cell_type": "markdown",
   "id": "cb6881e2",
   "metadata": {},
   "source": [
    "nombre_infected      1383\n",
    "nombre_sain          1727\n",
    "nombre_exposed        683\n",
    "nombre_recovered    16207\n",
    "Name: 185, dtype: int64"
   ]
  },
  {
   "cell_type": "markdown",
   "id": "32d04fba",
   "metadata": {},
   "source": [
    "nombre_infected      1369\n",
    "nombre_sain          1657\n",
    "nombre_exposed        673\n",
    "nombre_recovered    16301\n",
    "Name: 186, dtype: int64"
   ]
  },
  {
   "cell_type": "markdown",
   "id": "e094ea93",
   "metadata": {},
   "source": [
    "nombre_infected      1352\n",
    "nombre_sain          1607\n",
    "nombre_exposed        632\n",
    "nombre_recovered    16409\n",
    "Name: 187, dtype: int64"
   ]
  },
  {
   "cell_type": "markdown",
   "id": "3fb15ea5",
   "metadata": {},
   "source": [
    "nombre_infected      1352\n",
    "nombre_sain          1560\n",
    "nombre_exposed        603\n",
    "nombre_recovered    16485\n",
    "Name: 188, dtype: int64"
   ]
  },
  {
   "cell_type": "markdown",
   "id": "097c804e",
   "metadata": {},
   "source": [
    "nombre_infected      1324\n",
    "nombre_sain          1516\n",
    "nombre_exposed        581\n",
    "nombre_recovered    16579\n",
    "Name: 189, dtype: int64"
   ]
  },
  {
   "cell_type": "markdown",
   "id": "488d069f",
   "metadata": {},
   "source": [
    "nombre_infected      1302\n",
    "nombre_sain          1494\n",
    "nombre_exposed        537\n",
    "nombre_recovered    16667\n",
    "Name: 190, dtype: int64"
   ]
  },
  {
   "cell_type": "markdown",
   "id": "490ad6e8",
   "metadata": {},
   "source": [
    "nombre_infected      1265\n",
    "nombre_sain          1439\n",
    "nombre_exposed        526\n",
    "nombre_recovered    16770\n",
    "Name: 191, dtype: int64"
   ]
  },
  {
   "cell_type": "markdown",
   "id": "8e1a8c9a",
   "metadata": {},
   "source": [
    "nombre_infected      1221\n",
    "nombre_sain          1401\n",
    "nombre_exposed        521\n",
    "nombre_recovered    16857\n",
    "Name: 192, dtype: int64"
   ]
  },
  {
   "cell_type": "markdown",
   "id": "f107dc80",
   "metadata": {},
   "source": [
    "nombre_infected      1190\n",
    "nombre_sain          1368\n",
    "nombre_exposed        503\n",
    "nombre_recovered    16939\n",
    "Name: 193, dtype: int64"
   ]
  },
  {
   "cell_type": "markdown",
   "id": "e03d1de8",
   "metadata": {},
   "source": [
    "nombre_infected      1174\n",
    "nombre_sain          1354\n",
    "nombre_exposed        489\n",
    "nombre_recovered    16983\n",
    "Name: 194, dtype: int64"
   ]
  },
  {
   "cell_type": "markdown",
   "id": "fdbe05c0",
   "metadata": {},
   "source": [
    "nombre_infected      1119\n",
    "nombre_sain          1315\n",
    "nombre_exposed        496\n",
    "nombre_recovered    17070\n",
    "Name: 195, dtype: int64"
   ]
  },
  {
   "cell_type": "markdown",
   "id": "7f21bec8",
   "metadata": {},
   "source": [
    "nombre_infected      1084\n",
    "nombre_sain          1314\n",
    "nombre_exposed        474\n",
    "nombre_recovered    17128\n",
    "Name: 196, dtype: int64"
   ]
  },
  {
   "cell_type": "markdown",
   "id": "830e23b0",
   "metadata": {},
   "source": [
    "nombre_infected      1046\n",
    "nombre_sain          1327\n",
    "nombre_exposed        456\n",
    "nombre_recovered    17171\n",
    "Name: 197, dtype: int64"
   ]
  },
  {
   "cell_type": "markdown",
   "id": "d957531c",
   "metadata": {},
   "source": [
    "nombre_infected      1018\n",
    "nombre_sain          1321\n",
    "nombre_exposed        444\n",
    "nombre_recovered    17217\n",
    "Name: 198, dtype: int64"
   ]
  },
  {
   "cell_type": "markdown",
   "id": "1e36f28b",
   "metadata": {},
   "source": [
    "nombre_infected      1005\n",
    "nombre_sain          1334\n",
    "nombre_exposed        405\n",
    "nombre_recovered    17256\n",
    "Name: 199, dtype: int64"
   ]
  },
  {
   "cell_type": "markdown",
   "id": "16cc07cd",
   "metadata": {},
   "source": [
    "nombre_infected       963\n",
    "nombre_sain          1358\n",
    "nombre_exposed        389\n",
    "nombre_recovered    17290\n",
    "Name: 200, dtype: int64"
   ]
  },
  {
   "cell_type": "markdown",
   "id": "b9b7ffae",
   "metadata": {},
   "source": [
    "nombre_infected       928\n",
    "nombre_sain          1358\n",
    "nombre_exposed        366\n",
    "nombre_recovered    17348\n",
    "Name: 201, dtype: int64"
   ]
  },
  {
   "cell_type": "markdown",
   "id": "d2014c42",
   "metadata": {},
   "source": [
    "nombre_infected       894\n",
    "nombre_sain          1378\n",
    "nombre_exposed        351\n",
    "nombre_recovered    17377\n",
    "Name: 202, dtype: int64"
   ]
  },
  {
   "cell_type": "markdown",
   "id": "c5ca57dd",
   "metadata": {},
   "source": [
    "nombre_infected       865\n",
    "nombre_sain          1413\n",
    "nombre_exposed        325\n",
    "nombre_recovered    17397\n",
    "Name: 203, dtype: int64"
   ]
  },
  {
   "cell_type": "markdown",
   "id": "622d5b70",
   "metadata": {},
   "source": [
    "nombre_infected       814\n",
    "nombre_sain          1440\n",
    "nombre_exposed        321\n",
    "nombre_recovered    17425\n",
    "Name: 204, dtype: int64"
   ]
  },
  {
   "cell_type": "markdown",
   "id": "808e54f0",
   "metadata": {},
   "source": [
    "nombre_infected       784\n",
    "nombre_sain          1475\n",
    "nombre_exposed        322\n",
    "nombre_recovered    17419\n",
    "Name: 205, dtype: int64"
   ]
  },
  {
   "cell_type": "markdown",
   "id": "1a7dbcdc",
   "metadata": {},
   "source": [
    "nombre_infected       772\n",
    "nombre_sain          1494\n",
    "nombre_exposed        313\n",
    "nombre_recovered    17421\n",
    "Name: 206, dtype: int64"
   ]
  },
  {
   "cell_type": "markdown",
   "id": "22e11ca2",
   "metadata": {},
   "source": [
    "nombre_infected       717\n",
    "nombre_sain          1534\n",
    "nombre_exposed        315\n",
    "nombre_recovered    17434\n",
    "Name: 207, dtype: int64"
   ]
  },
  {
   "cell_type": "markdown",
   "id": "864df710",
   "metadata": {},
   "source": [
    "nombre_infected       690\n",
    "nombre_sain          1565\n",
    "nombre_exposed        296\n",
    "nombre_recovered    17449\n",
    "Name: 208, dtype: int64"
   ]
  },
  {
   "cell_type": "markdown",
   "id": "69c7b5f0",
   "metadata": {},
   "source": [
    "nombre_infected       670\n",
    "nombre_sain          1597\n",
    "nombre_exposed        296\n",
    "nombre_recovered    17437\n",
    "Name: 209, dtype: int64"
   ]
  },
  {
   "cell_type": "markdown",
   "id": "8b828c15",
   "metadata": {},
   "source": [
    "nombre_infected       675\n",
    "nombre_sain          1606\n",
    "nombre_exposed        270\n",
    "nombre_recovered    17449\n",
    "Name: 210, dtype: int64"
   ]
  },
  {
   "cell_type": "markdown",
   "id": "1424a839",
   "metadata": {},
   "source": [
    "nombre_infected       637\n",
    "nombre_sain          1620\n",
    "nombre_exposed        275\n",
    "nombre_recovered    17468\n",
    "Name: 211, dtype: int64"
   ]
  },
  {
   "cell_type": "markdown",
   "id": "3c41b857",
   "metadata": {},
   "source": [
    "nombre_infected       621\n",
    "nombre_sain          1646\n",
    "nombre_exposed        256\n",
    "nombre_recovered    17477\n",
    "Name: 212, dtype: int64"
   ]
  },
  {
   "cell_type": "markdown",
   "id": "ed97b818",
   "metadata": {},
   "source": [
    "nombre_infected       575\n",
    "nombre_sain          1657\n",
    "nombre_exposed        247\n",
    "nombre_recovered    17521\n",
    "Name: 213, dtype: int64"
   ]
  },
  {
   "cell_type": "markdown",
   "id": "3bb1e762",
   "metadata": {},
   "source": [
    "nombre_infected       551\n",
    "nombre_sain          1665\n",
    "nombre_exposed        243\n",
    "nombre_recovered    17541\n",
    "Name: 214, dtype: int64"
   ]
  },
  {
   "cell_type": "markdown",
   "id": "20d43e66",
   "metadata": {},
   "source": [
    "nombre_infected       542\n",
    "nombre_sain          1691\n",
    "nombre_exposed        230\n",
    "nombre_recovered    17537\n",
    "Name: 215, dtype: int64"
   ]
  },
  {
   "cell_type": "markdown",
   "id": "89f20f2b",
   "metadata": {},
   "source": [
    "nombre_infected       511\n",
    "nombre_sain          1681\n",
    "nombre_exposed        251\n",
    "nombre_recovered    17557\n",
    "Name: 216, dtype: int64"
   ]
  },
  {
   "cell_type": "markdown",
   "id": "3d595436",
   "metadata": {},
   "source": [
    "nombre_infected       494\n",
    "nombre_sain          1747\n",
    "nombre_exposed        235\n",
    "nombre_recovered    17524\n",
    "Name: 217, dtype: int64"
   ]
  },
  {
   "cell_type": "markdown",
   "id": "88f3a2e3",
   "metadata": {},
   "source": [
    "nombre_infected       491\n",
    "nombre_sain          1813\n",
    "nombre_exposed        203\n",
    "nombre_recovered    17493\n",
    "Name: 218, dtype: int64"
   ]
  },
  {
   "cell_type": "markdown",
   "id": "ff26e063",
   "metadata": {},
   "source": [
    "nombre_infected       488\n",
    "nombre_sain          1860\n",
    "nombre_exposed        193\n",
    "nombre_recovered    17459\n",
    "Name: 219, dtype: int64"
   ]
  },
  {
   "cell_type": "markdown",
   "id": "af02f2b7",
   "metadata": {},
   "source": [
    "nombre_infected       475\n",
    "nombre_sain          1885\n",
    "nombre_exposed        191\n",
    "nombre_recovered    17449\n",
    "Name: 220, dtype: int64"
   ]
  },
  {
   "cell_type": "markdown",
   "id": "336555df",
   "metadata": {},
   "source": [
    "nombre_infected       457\n",
    "nombre_sain          1923\n",
    "nombre_exposed        199\n",
    "nombre_recovered    17421\n",
    "Name: 221, dtype: int64"
   ]
  },
  {
   "cell_type": "markdown",
   "id": "f2812d2e",
   "metadata": {},
   "source": [
    "nombre_infected       448\n",
    "nombre_sain          1956\n",
    "nombre_exposed        216\n",
    "nombre_recovered    17380\n",
    "Name: 222, dtype: int64"
   ]
  },
  {
   "cell_type": "markdown",
   "id": "5c5f98e9",
   "metadata": {},
   "source": [
    "nombre_infected       429\n",
    "nombre_sain          2003\n",
    "nombre_exposed        213\n",
    "nombre_recovered    17355\n",
    "Name: 223, dtype: int64"
   ]
  },
  {
   "cell_type": "markdown",
   "id": "3b16d6a4",
   "metadata": {},
   "source": [
    "nombre_infected       421\n",
    "nombre_sain          2026\n",
    "nombre_exposed        213\n",
    "nombre_recovered    17340\n",
    "Name: 224, dtype: int64"
   ]
  },
  {
   "cell_type": "markdown",
   "id": "9326c7fe",
   "metadata": {},
   "source": [
    "nombre_infected       429\n",
    "nombre_sain          2095\n",
    "nombre_exposed        206\n",
    "nombre_recovered    17270\n",
    "Name: 225, dtype: int64"
   ]
  },
  {
   "cell_type": "markdown",
   "id": "c81f43d4",
   "metadata": {},
   "source": [
    "nombre_infected       431\n",
    "nombre_sain          2149\n",
    "nombre_exposed        203\n",
    "nombre_recovered    17217\n",
    "Name: 226, dtype: int64"
   ]
  },
  {
   "cell_type": "markdown",
   "id": "ae82de49",
   "metadata": {},
   "source": [
    "nombre_infected       408\n",
    "nombre_sain          2202\n",
    "nombre_exposed        212\n",
    "nombre_recovered    17178\n",
    "Name: 227, dtype: int64"
   ]
  },
  {
   "cell_type": "markdown",
   "id": "96f3c4fb",
   "metadata": {},
   "source": [
    "nombre_infected       408\n",
    "nombre_sain          2230\n",
    "nombre_exposed        223\n",
    "nombre_recovered    17139\n",
    "Name: 228, dtype: int64"
   ]
  },
  {
   "cell_type": "markdown",
   "id": "bfc7cd3b",
   "metadata": {},
   "source": [
    "nombre_infected       403\n",
    "nombre_sain          2248\n",
    "nombre_exposed        233\n",
    "nombre_recovered    17116\n",
    "Name: 229, dtype: int64"
   ]
  },
  {
   "cell_type": "markdown",
   "id": "ad1dbd45",
   "metadata": {},
   "source": [
    "nombre_infected       415\n",
    "nombre_sain          2299\n",
    "nombre_exposed        224\n",
    "nombre_recovered    17062\n",
    "Name: 230, dtype: int64"
   ]
  },
  {
   "cell_type": "markdown",
   "id": "599af385",
   "metadata": {},
   "source": [
    "nombre_infected       416\n",
    "nombre_sain          2310\n",
    "nombre_exposed        232\n",
    "nombre_recovered    17042\n",
    "Name: 231, dtype: int64"
   ]
  },
  {
   "cell_type": "markdown",
   "id": "8fd05165",
   "metadata": {},
   "source": [
    "nombre_infected       408\n",
    "nombre_sain          2323\n",
    "nombre_exposed        248\n",
    "nombre_recovered    17021\n",
    "Name: 232, dtype: int64"
   ]
  },
  {
   "cell_type": "markdown",
   "id": "6c9cdb47",
   "metadata": {},
   "source": [
    "nombre_infected       421\n",
    "nombre_sain          2343\n",
    "nombre_exposed        253\n",
    "nombre_recovered    16983\n",
    "Name: 233, dtype: int64"
   ]
  },
  {
   "cell_type": "markdown",
   "id": "b07d8d50",
   "metadata": {},
   "source": [
    "nombre_infected       410\n",
    "nombre_sain          2363\n",
    "nombre_exposed        261\n",
    "nombre_recovered    16966\n",
    "Name: 234, dtype: int64"
   ]
  },
  {
   "cell_type": "markdown",
   "id": "5b65aa1a",
   "metadata": {},
   "source": [
    "nombre_infected       411\n",
    "nombre_sain          2370\n",
    "nombre_exposed        271\n",
    "nombre_recovered    16948\n",
    "Name: 235, dtype: int64"
   ]
  },
  {
   "cell_type": "markdown",
   "id": "b93724ef",
   "metadata": {},
   "source": [
    "nombre_infected       409\n",
    "nombre_sain          2391\n",
    "nombre_exposed        257\n",
    "nombre_recovered    16943\n",
    "Name: 236, dtype: int64"
   ]
  },
  {
   "cell_type": "markdown",
   "id": "b11aeb83",
   "metadata": {},
   "source": [
    "nombre_infected       415\n",
    "nombre_sain          2393\n",
    "nombre_exposed        267\n",
    "nombre_recovered    16925\n",
    "Name: 237, dtype: int64"
   ]
  },
  {
   "cell_type": "markdown",
   "id": "1bfe9f57",
   "metadata": {},
   "source": [
    "nombre_infected       413\n",
    "nombre_sain          2415\n",
    "nombre_exposed        271\n",
    "nombre_recovered    16901\n",
    "Name: 238, dtype: int64"
   ]
  },
  {
   "cell_type": "markdown",
   "id": "f4cd6c35",
   "metadata": {},
   "source": [
    "nombre_infected       405\n",
    "nombre_sain          2440\n",
    "nombre_exposed        271\n",
    "nombre_recovered    16884\n",
    "Name: 239, dtype: int64"
   ]
  },
  {
   "cell_type": "markdown",
   "id": "d8a8e9e6",
   "metadata": {},
   "source": [
    "nombre_infected       403\n",
    "nombre_sain          2470\n",
    "nombre_exposed        278\n",
    "nombre_recovered    16849\n",
    "Name: 240, dtype: int64"
   ]
  },
  {
   "cell_type": "markdown",
   "id": "2c538288",
   "metadata": {},
   "source": [
    "nombre_infected       404\n",
    "nombre_sain          2480\n",
    "nombre_exposed        295\n",
    "nombre_recovered    16821\n",
    "Name: 241, dtype: int64"
   ]
  },
  {
   "cell_type": "markdown",
   "id": "5e0d2352",
   "metadata": {},
   "source": [
    "nombre_infected       429\n",
    "nombre_sain          2505\n",
    "nombre_exposed        288\n",
    "nombre_recovered    16778\n",
    "Name: 242, dtype: int64"
   ]
  },
  {
   "cell_type": "markdown",
   "id": "13d82dfb",
   "metadata": {},
   "source": [
    "nombre_infected       428\n",
    "nombre_sain          2534\n",
    "nombre_exposed        307\n",
    "nombre_recovered    16731\n",
    "Name: 243, dtype: int64"
   ]
  },
  {
   "cell_type": "markdown",
   "id": "11833656",
   "metadata": {},
   "source": [
    "nombre_infected       439\n",
    "nombre_sain          2581\n",
    "nombre_exposed        298\n",
    "nombre_recovered    16682\n",
    "Name: 244, dtype: int64"
   ]
  },
  {
   "cell_type": "markdown",
   "id": "6a04a8e6",
   "metadata": {},
   "source": [
    "nombre_infected       447\n",
    "nombre_sain          2608\n",
    "nombre_exposed        306\n",
    "nombre_recovered    16639\n",
    "Name: 245, dtype: int64"
   ]
  },
  {
   "cell_type": "markdown",
   "id": "30590b2c",
   "metadata": {},
   "source": [
    "nombre_infected       456\n",
    "nombre_sain          2645\n",
    "nombre_exposed        299\n",
    "nombre_recovered    16600\n",
    "Name: 246, dtype: int64"
   ]
  },
  {
   "cell_type": "markdown",
   "id": "3a343706",
   "metadata": {},
   "source": [
    "nombre_infected       461\n",
    "nombre_sain          2676\n",
    "nombre_exposed        302\n",
    "nombre_recovered    16561\n",
    "Name: 247, dtype: int64"
   ]
  },
  {
   "cell_type": "markdown",
   "id": "11bf4b26",
   "metadata": {},
   "source": [
    "nombre_infected       467\n",
    "nombre_sain          2693\n",
    "nombre_exposed        332\n",
    "nombre_recovered    16508\n",
    "Name: 248, dtype: int64"
   ]
  },
  {
   "cell_type": "markdown",
   "id": "899c727a",
   "metadata": {},
   "source": [
    "nombre_infected       467\n",
    "nombre_sain          2721\n",
    "nombre_exposed        341\n",
    "nombre_recovered    16471\n",
    "Name: 249, dtype: int64"
   ]
  },
  {
   "cell_type": "markdown",
   "id": "852cca63",
   "metadata": {},
   "source": [
    "nombre_infected       480\n",
    "nombre_sain          2741\n",
    "nombre_exposed        350\n",
    "nombre_recovered    16429\n",
    "Name: 250, dtype: int64"
   ]
  },
  {
   "cell_type": "markdown",
   "id": "e9268b44",
   "metadata": {},
   "source": [
    "nombre_infected       523\n",
    "nombre_sain          2748\n",
    "nombre_exposed        363\n",
    "nombre_recovered    16366\n",
    "Name: 251, dtype: int64"
   ]
  },
  {
   "cell_type": "markdown",
   "id": "8631a449",
   "metadata": {},
   "source": [
    "nombre_infected       516\n",
    "nombre_sain          2747\n",
    "nombre_exposed        386\n",
    "nombre_recovered    16351\n",
    "Name: 252, dtype: int64"
   ]
  },
  {
   "cell_type": "markdown",
   "id": "c0a4c3e6",
   "metadata": {},
   "source": [
    "nombre_infected       534\n",
    "nombre_sain          2753\n",
    "nombre_exposed        395\n",
    "nombre_recovered    16318\n",
    "Name: 253, dtype: int64"
   ]
  },
  {
   "cell_type": "markdown",
   "id": "fc206a67",
   "metadata": {},
   "source": [
    "nombre_infected       552\n",
    "nombre_sain          2757\n",
    "nombre_exposed        409\n",
    "nombre_recovered    16282\n",
    "Name: 254, dtype: int64"
   ]
  },
  {
   "cell_type": "markdown",
   "id": "8039e216",
   "metadata": {},
   "source": [
    "nombre_infected       571\n",
    "nombre_sain          2767\n",
    "nombre_exposed        398\n",
    "nombre_recovered    16264\n",
    "Name: 255, dtype: int64"
   ]
  },
  {
   "cell_type": "markdown",
   "id": "f19b6eb3",
   "metadata": {},
   "source": [
    "nombre_infected       587\n",
    "nombre_sain          2779\n",
    "nombre_exposed        405\n",
    "nombre_recovered    16229\n",
    "Name: 256, dtype: int64"
   ]
  },
  {
   "cell_type": "markdown",
   "id": "b9887a4f",
   "metadata": {},
   "source": [
    "nombre_infected       607\n",
    "nombre_sain          2755\n",
    "nombre_exposed        411\n",
    "nombre_recovered    16227\n",
    "Name: 257, dtype: int64"
   ]
  },
  {
   "cell_type": "markdown",
   "id": "43015460",
   "metadata": {},
   "source": [
    "nombre_infected       620\n",
    "nombre_sain          2753\n",
    "nombre_exposed        425\n",
    "nombre_recovered    16202\n",
    "Name: 258, dtype: int64"
   ]
  },
  {
   "cell_type": "markdown",
   "id": "a4ec01ba",
   "metadata": {},
   "source": [
    "nombre_infected       650\n",
    "nombre_sain          2737\n",
    "nombre_exposed        425\n",
    "nombre_recovered    16188\n",
    "Name: 259, dtype: int64"
   ]
  },
  {
   "cell_type": "markdown",
   "id": "a281d4a7",
   "metadata": {},
   "source": [
    "nombre_infected       628\n",
    "nombre_sain          2721\n",
    "nombre_exposed        453\n",
    "nombre_recovered    16198\n",
    "Name: 260, dtype: int64"
   ]
  },
  {
   "cell_type": "markdown",
   "id": "a0e18e72",
   "metadata": {},
   "source": [
    "nombre_infected       664\n",
    "nombre_sain          2691\n",
    "nombre_exposed        446\n",
    "nombre_recovered    16199\n",
    "Name: 261, dtype: int64"
   ]
  },
  {
   "cell_type": "markdown",
   "id": "bc0a611f",
   "metadata": {},
   "source": [
    "nombre_infected       683\n",
    "nombre_sain          2652\n",
    "nombre_exposed        472\n",
    "nombre_recovered    16193\n",
    "Name: 262, dtype: int64"
   ]
  },
  {
   "cell_type": "markdown",
   "id": "807061dd",
   "metadata": {},
   "source": [
    "nombre_infected       685\n",
    "nombre_sain          2651\n",
    "nombre_exposed        471\n",
    "nombre_recovered    16193\n",
    "Name: 263, dtype: int64"
   ]
  },
  {
   "cell_type": "markdown",
   "id": "b84ced86",
   "metadata": {},
   "source": [
    "nombre_infected       748\n",
    "nombre_sain          2625\n",
    "nombre_exposed        463\n",
    "nombre_recovered    16164\n",
    "Name: 264, dtype: int64"
   ]
  },
  {
   "cell_type": "markdown",
   "id": "7b9ae353",
   "metadata": {},
   "source": [
    "nombre_infected       757\n",
    "nombre_sain          2598\n",
    "nombre_exposed        480\n",
    "nombre_recovered    16165\n",
    "Name: 265, dtype: int64"
   ]
  },
  {
   "cell_type": "markdown",
   "id": "ea00d63d",
   "metadata": {},
   "source": [
    "nombre_infected       742\n",
    "nombre_sain          2591\n",
    "nombre_exposed        490\n",
    "nombre_recovered    16177\n",
    "Name: 266, dtype: int64"
   ]
  },
  {
   "cell_type": "markdown",
   "id": "c40907f5",
   "metadata": {},
   "source": [
    "nombre_infected       793\n",
    "nombre_sain          2568\n",
    "nombre_exposed        469\n",
    "nombre_recovered    16170\n",
    "Name: 267, dtype: int64"
   ]
  },
  {
   "cell_type": "markdown",
   "id": "9f0ccefe",
   "metadata": {},
   "source": [
    "nombre_infected       795\n",
    "nombre_sain          2536\n",
    "nombre_exposed        487\n",
    "nombre_recovered    16182\n",
    "Name: 268, dtype: int64"
   ]
  },
  {
   "cell_type": "markdown",
   "id": "3635d9a7",
   "metadata": {},
   "source": [
    "nombre_infected       812\n",
    "nombre_sain          2508\n",
    "nombre_exposed        498\n",
    "nombre_recovered    16182\n",
    "Name: 269, dtype: int64"
   ]
  },
  {
   "cell_type": "markdown",
   "id": "97ae77f8",
   "metadata": {},
   "source": [
    "nombre_infected       806\n",
    "nombre_sain          2498\n",
    "nombre_exposed        498\n",
    "nombre_recovered    16198\n",
    "Name: 270, dtype: int64"
   ]
  },
  {
   "cell_type": "markdown",
   "id": "c0163583",
   "metadata": {},
   "source": [
    "nombre_infected       822\n",
    "nombre_sain          2462\n",
    "nombre_exposed        497\n",
    "nombre_recovered    16219\n",
    "Name: 271, dtype: int64"
   ]
  },
  {
   "cell_type": "markdown",
   "id": "2c8cc9ed",
   "metadata": {},
   "source": [
    "nombre_infected       828\n",
    "nombre_sain          2440\n",
    "nombre_exposed        508\n",
    "nombre_recovered    16224\n",
    "Name: 272, dtype: int64"
   ]
  },
  {
   "cell_type": "markdown",
   "id": "282ab49a",
   "metadata": {},
   "source": [
    "nombre_infected       821\n",
    "nombre_sain          2412\n",
    "nombre_exposed        508\n",
    "nombre_recovered    16259\n",
    "Name: 273, dtype: int64"
   ]
  },
  {
   "cell_type": "markdown",
   "id": "c018195e",
   "metadata": {},
   "source": [
    "nombre_infected       808\n",
    "nombre_sain          2381\n",
    "nombre_exposed        522\n",
    "nombre_recovered    16289\n",
    "Name: 274, dtype: int64"
   ]
  },
  {
   "cell_type": "markdown",
   "id": "4ca3c6fa",
   "metadata": {},
   "source": [
    "nombre_infected       811\n",
    "nombre_sain          2341\n",
    "nombre_exposed        534\n",
    "nombre_recovered    16314\n",
    "Name: 275, dtype: int64"
   ]
  },
  {
   "cell_type": "markdown",
   "id": "5414fc2c",
   "metadata": {},
   "source": [
    "nombre_infected       801\n",
    "nombre_sain          2346\n",
    "nombre_exposed        539\n",
    "nombre_recovered    16314\n",
    "Name: 276, dtype: int64"
   ]
  },
  {
   "cell_type": "markdown",
   "id": "73e07e9b",
   "metadata": {},
   "source": [
    "nombre_infected       811\n",
    "nombre_sain          2322\n",
    "nombre_exposed        548\n",
    "nombre_recovered    16319\n",
    "Name: 277, dtype: int64"
   ]
  },
  {
   "cell_type": "markdown",
   "id": "63b89e15",
   "metadata": {},
   "source": [
    "nombre_infected       829\n",
    "nombre_sain          2294\n",
    "nombre_exposed        555\n",
    "nombre_recovered    16322\n",
    "Name: 278, dtype: int64"
   ]
  },
  {
   "cell_type": "markdown",
   "id": "b5fd4b15",
   "metadata": {},
   "source": [
    "nombre_infected       820\n",
    "nombre_sain          2252\n",
    "nombre_exposed        588\n",
    "nombre_recovered    16340\n",
    "Name: 279, dtype: int64"
   ]
  },
  {
   "cell_type": "markdown",
   "id": "ca70f257",
   "metadata": {},
   "source": [
    "nombre_infected       824\n",
    "nombre_sain          2244\n",
    "nombre_exposed        577\n",
    "nombre_recovered    16355\n",
    "Name: 280, dtype: int64"
   ]
  },
  {
   "cell_type": "markdown",
   "id": "d935762d",
   "metadata": {},
   "source": [
    "nombre_infected       847\n",
    "nombre_sain          2236\n",
    "nombre_exposed        569\n",
    "nombre_recovered    16348\n",
    "Name: 281, dtype: int64"
   ]
  },
  {
   "cell_type": "markdown",
   "id": "0c412f91",
   "metadata": {},
   "source": [
    "nombre_infected       876\n",
    "nombre_sain          2223\n",
    "nombre_exposed        560\n",
    "nombre_recovered    16341\n",
    "Name: 282, dtype: int64"
   ]
  },
  {
   "cell_type": "markdown",
   "id": "d0cc41b3",
   "metadata": {},
   "source": [
    "nombre_infected       900\n",
    "nombre_sain          2234\n",
    "nombre_exposed        543\n",
    "nombre_recovered    16323\n",
    "Name: 283, dtype: int64"
   ]
  },
  {
   "cell_type": "markdown",
   "id": "f625d8ef",
   "metadata": {},
   "source": [
    "nombre_infected       917\n",
    "nombre_sain          2191\n",
    "nombre_exposed        565\n",
    "nombre_recovered    16327\n",
    "Name: 284, dtype: int64"
   ]
  },
  {
   "cell_type": "markdown",
   "id": "479eb851",
   "metadata": {},
   "source": [
    "nombre_infected       900\n",
    "nombre_sain          2212\n",
    "nombre_exposed        574\n",
    "nombre_recovered    16314\n",
    "Name: 285, dtype: int64"
   ]
  },
  {
   "cell_type": "markdown",
   "id": "fed80cfa",
   "metadata": {},
   "source": [
    "nombre_infected       896\n",
    "nombre_sain          2220\n",
    "nombre_exposed        556\n",
    "nombre_recovered    16328\n",
    "Name: 286, dtype: int64"
   ]
  },
  {
   "cell_type": "markdown",
   "id": "35b5ee0a",
   "metadata": {},
   "source": [
    "nombre_infected       904\n",
    "nombre_sain          2224\n",
    "nombre_exposed        559\n",
    "nombre_recovered    16313\n",
    "Name: 287, dtype: int64"
   ]
  },
  {
   "cell_type": "markdown",
   "id": "104ec4ab",
   "metadata": {},
   "source": [
    "nombre_infected       908\n",
    "nombre_sain          2226\n",
    "nombre_exposed        568\n",
    "nombre_recovered    16298\n",
    "Name: 288, dtype: int64"
   ]
  },
  {
   "cell_type": "markdown",
   "id": "8b6b2310",
   "metadata": {},
   "source": [
    "nombre_infected       909\n",
    "nombre_sain          2241\n",
    "nombre_exposed        570\n",
    "nombre_recovered    16280\n",
    "Name: 289, dtype: int64"
   ]
  },
  {
   "cell_type": "markdown",
   "id": "11a93fa3",
   "metadata": {},
   "source": [
    "nombre_infected       902\n",
    "nombre_sain          2216\n",
    "nombre_exposed        590\n",
    "nombre_recovered    16292\n",
    "Name: 290, dtype: int64"
   ]
  },
  {
   "cell_type": "markdown",
   "id": "6947f7c1",
   "metadata": {},
   "source": [
    "nombre_infected       932\n",
    "nombre_sain          2206\n",
    "nombre_exposed        562\n",
    "nombre_recovered    16300\n",
    "Name: 291, dtype: int64"
   ]
  },
  {
   "cell_type": "markdown",
   "id": "e88e31ce",
   "metadata": {},
   "source": [
    "nombre_infected       922\n",
    "nombre_sain          2181\n",
    "nombre_exposed        584\n",
    "nombre_recovered    16313\n",
    "Name: 292, dtype: int64"
   ]
  },
  {
   "cell_type": "markdown",
   "id": "1c0fadb2",
   "metadata": {},
   "source": [
    "nombre_infected       936\n",
    "nombre_sain          2159\n",
    "nombre_exposed        587\n",
    "nombre_recovered    16318\n",
    "Name: 293, dtype: int64"
   ]
  },
  {
   "cell_type": "markdown",
   "id": "78f402b4",
   "metadata": {},
   "source": [
    "nombre_infected       931\n",
    "nombre_sain          2143\n",
    "nombre_exposed        588\n",
    "nombre_recovered    16338\n",
    "Name: 294, dtype: int64"
   ]
  },
  {
   "cell_type": "markdown",
   "id": "4ed57aaa",
   "metadata": {},
   "source": [
    "nombre_infected       947\n",
    "nombre_sain          2120\n",
    "nombre_exposed        594\n",
    "nombre_recovered    16339\n",
    "Name: 295, dtype: int64"
   ]
  },
  {
   "cell_type": "markdown",
   "id": "265587ee",
   "metadata": {},
   "source": [
    "nombre_infected       964\n",
    "nombre_sain          2096\n",
    "nombre_exposed        579\n",
    "nombre_recovered    16361\n",
    "Name: 296, dtype: int64"
   ]
  },
  {
   "cell_type": "markdown",
   "id": "88c654a9",
   "metadata": {},
   "source": [
    "nombre_infected       980\n",
    "nombre_sain          2054\n",
    "nombre_exposed        563\n",
    "nombre_recovered    16403\n",
    "Name: 297, dtype: int64"
   ]
  },
  {
   "cell_type": "markdown",
   "id": "9fee797c",
   "metadata": {},
   "source": [
    "nombre_infected       975\n",
    "nombre_sain          2043\n",
    "nombre_exposed        548\n",
    "nombre_recovered    16434\n",
    "Name: 298, dtype: int64"
   ]
  },
  {
   "cell_type": "markdown",
   "id": "e67d502c",
   "metadata": {},
   "source": [
    "nombre_infected       977\n",
    "nombre_sain          1999\n",
    "nombre_exposed        552\n",
    "nombre_recovered    16472\n",
    "Name: 299, dtype: int64"
   ]
  },
  {
   "cell_type": "markdown",
   "id": "9f0b94e7",
   "metadata": {},
   "source": [
    "nombre_infected       970\n",
    "nombre_sain          1986\n",
    "nombre_exposed        553\n",
    "nombre_recovered    16491\n",
    "Name: 300, dtype: int64"
   ]
  },
  {
   "cell_type": "markdown",
   "id": "577d660e",
   "metadata": {},
   "source": [
    "nombre_infected       980\n",
    "nombre_sain          1957\n",
    "nombre_exposed        540\n",
    "nombre_recovered    16523\n",
    "Name: 301, dtype: int64"
   ]
  },
  {
   "cell_type": "markdown",
   "id": "b94e33e9",
   "metadata": {},
   "source": [
    "nombre_infected       992\n",
    "nombre_sain          1923\n",
    "nombre_exposed        551\n",
    "nombre_recovered    16534\n",
    "Name: 302, dtype: int64"
   ]
  },
  {
   "cell_type": "markdown",
   "id": "04fd07b8",
   "metadata": {},
   "source": [
    "nombre_infected      1016\n",
    "nombre_sain          1900\n",
    "nombre_exposed        533\n",
    "nombre_recovered    16551\n",
    "Name: 303, dtype: int64"
   ]
  },
  {
   "cell_type": "markdown",
   "id": "3e507ff9",
   "metadata": {},
   "source": [
    "nombre_infected      1016\n",
    "nombre_sain          1889\n",
    "nombre_exposed        529\n",
    "nombre_recovered    16566\n",
    "Name: 304, dtype: int64"
   ]
  },
  {
   "cell_type": "markdown",
   "id": "a8cdab23",
   "metadata": {},
   "source": [
    "nombre_infected       974\n",
    "nombre_sain          1891\n",
    "nombre_exposed        547\n",
    "nombre_recovered    16588\n",
    "Name: 305, dtype: int64"
   ]
  },
  {
   "cell_type": "markdown",
   "id": "b9608ddd",
   "metadata": {},
   "source": [
    "nombre_infected       968\n",
    "nombre_sain          1885\n",
    "nombre_exposed        548\n",
    "nombre_recovered    16599\n",
    "Name: 306, dtype: int64"
   ]
  },
  {
   "cell_type": "markdown",
   "id": "648bf3e3",
   "metadata": {},
   "source": [
    "nombre_infected       951\n",
    "nombre_sain          1872\n",
    "nombre_exposed        553\n",
    "nombre_recovered    16624\n",
    "Name: 307, dtype: int64"
   ]
  },
  {
   "cell_type": "markdown",
   "id": "1c46580b",
   "metadata": {},
   "source": [
    "nombre_infected       972\n",
    "nombre_sain          1856\n",
    "nombre_exposed        534\n",
    "nombre_recovered    16638\n",
    "Name: 308, dtype: int64"
   ]
  },
  {
   "cell_type": "markdown",
   "id": "8787e7db",
   "metadata": {},
   "source": [
    "nombre_infected       977\n",
    "nombre_sain          1882\n",
    "nombre_exposed        520\n",
    "nombre_recovered    16621\n",
    "Name: 309, dtype: int64"
   ]
  },
  {
   "cell_type": "markdown",
   "id": "48287cfa",
   "metadata": {},
   "source": [
    "nombre_infected       976\n",
    "nombre_sain          1897\n",
    "nombre_exposed        515\n",
    "nombre_recovered    16612\n",
    "Name: 310, dtype: int64"
   ]
  },
  {
   "cell_type": "markdown",
   "id": "6f60aa51",
   "metadata": {},
   "source": [
    "nombre_infected       964\n",
    "nombre_sain          1899\n",
    "nombre_exposed        521\n",
    "nombre_recovered    16616\n",
    "Name: 311, dtype: int64"
   ]
  },
  {
   "cell_type": "markdown",
   "id": "65dbb252",
   "metadata": {},
   "source": [
    "nombre_infected       963\n",
    "nombre_sain          1898\n",
    "nombre_exposed        517\n",
    "nombre_recovered    16622\n",
    "Name: 312, dtype: int64"
   ]
  },
  {
   "cell_type": "markdown",
   "id": "843264a4",
   "metadata": {},
   "source": [
    "nombre_infected       948\n",
    "nombre_sain          1890\n",
    "nombre_exposed        527\n",
    "nombre_recovered    16635\n",
    "Name: 313, dtype: int64"
   ]
  },
  {
   "cell_type": "markdown",
   "id": "871697c6",
   "metadata": {},
   "source": [
    "nombre_infected       928\n",
    "nombre_sain          1916\n",
    "nombre_exposed        514\n",
    "nombre_recovered    16642\n",
    "Name: 314, dtype: int64"
   ]
  },
  {
   "cell_type": "markdown",
   "id": "d054ba15",
   "metadata": {},
   "source": [
    "nombre_infected       929\n",
    "nombre_sain          1922\n",
    "nombre_exposed        513\n",
    "nombre_recovered    16636\n",
    "Name: 315, dtype: int64"
   ]
  },
  {
   "cell_type": "markdown",
   "id": "5f7e657a",
   "metadata": {},
   "source": [
    "nombre_infected       944\n",
    "nombre_sain          1930\n",
    "nombre_exposed        496\n",
    "nombre_recovered    16630\n",
    "Name: 316, dtype: int64"
   ]
  },
  {
   "cell_type": "markdown",
   "id": "d6a39389",
   "metadata": {},
   "source": [
    "nombre_infected       945\n",
    "nombre_sain          1928\n",
    "nombre_exposed        469\n",
    "nombre_recovered    16658\n",
    "Name: 317, dtype: int64"
   ]
  },
  {
   "cell_type": "markdown",
   "id": "a45e0417",
   "metadata": {},
   "source": [
    "nombre_infected       939\n",
    "nombre_sain          1923\n",
    "nombre_exposed        465\n",
    "nombre_recovered    16673\n",
    "Name: 318, dtype: int64"
   ]
  },
  {
   "cell_type": "markdown",
   "id": "dcc0e854",
   "metadata": {},
   "source": [
    "nombre_infected       946\n",
    "nombre_sain          1943\n",
    "nombre_exposed        449\n",
    "nombre_recovered    16662\n",
    "Name: 319, dtype: int64"
   ]
  },
  {
   "cell_type": "markdown",
   "id": "4503bfbe",
   "metadata": {},
   "source": [
    "nombre_infected       942\n",
    "nombre_sain          1962\n",
    "nombre_exposed        443\n",
    "nombre_recovered    16653\n",
    "Name: 320, dtype: int64"
   ]
  },
  {
   "cell_type": "markdown",
   "id": "c6063d29",
   "metadata": {},
   "source": [
    "nombre_infected       935\n",
    "nombre_sain          1953\n",
    "nombre_exposed        463\n",
    "nombre_recovered    16649\n",
    "Name: 321, dtype: int64"
   ]
  },
  {
   "cell_type": "markdown",
   "id": "54b18246",
   "metadata": {},
   "source": [
    "nombre_infected       905\n",
    "nombre_sain          1981\n",
    "nombre_exposed        470\n",
    "nombre_recovered    16644\n",
    "Name: 322, dtype: int64"
   ]
  },
  {
   "cell_type": "markdown",
   "id": "b2629895",
   "metadata": {},
   "source": [
    "nombre_infected       885\n",
    "nombre_sain          2014\n",
    "nombre_exposed        470\n",
    "nombre_recovered    16631\n",
    "Name: 323, dtype: int64"
   ]
  },
  {
   "cell_type": "markdown",
   "id": "1597520e",
   "metadata": {},
   "source": [
    "nombre_infected       888\n",
    "nombre_sain          2000\n",
    "nombre_exposed        471\n",
    "nombre_recovered    16641\n",
    "Name: 324, dtype: int64"
   ]
  },
  {
   "cell_type": "markdown",
   "id": "620e33ef",
   "metadata": {},
   "source": [
    "nombre_infected       913\n",
    "nombre_sain          1983\n",
    "nombre_exposed        458\n",
    "nombre_recovered    16646\n",
    "Name: 325, dtype: int64"
   ]
  },
  {
   "cell_type": "markdown",
   "id": "d2336c96",
   "metadata": {},
   "source": [
    "nombre_infected       903\n",
    "nombre_sain          1971\n",
    "nombre_exposed        470\n",
    "nombre_recovered    16656\n",
    "Name: 326, dtype: int64"
   ]
  },
  {
   "cell_type": "markdown",
   "id": "ed46c939",
   "metadata": {},
   "source": [
    "nombre_infected       895\n",
    "nombre_sain          1981\n",
    "nombre_exposed        467\n",
    "nombre_recovered    16657\n",
    "Name: 327, dtype: int64"
   ]
  },
  {
   "cell_type": "markdown",
   "id": "35694404",
   "metadata": {},
   "source": [
    "nombre_infected       879\n",
    "nombre_sain          2010\n",
    "nombre_exposed        475\n",
    "nombre_recovered    16636\n",
    "Name: 328, dtype: int64"
   ]
  },
  {
   "cell_type": "markdown",
   "id": "4f6a76ff",
   "metadata": {},
   "source": [
    "nombre_infected       886\n",
    "nombre_sain          2004\n",
    "nombre_exposed        465\n",
    "nombre_recovered    16645\n",
    "Name: 329, dtype: int64"
   ]
  },
  {
   "cell_type": "markdown",
   "id": "1165ff87",
   "metadata": {},
   "source": [
    "nombre_infected       915\n",
    "nombre_sain          2039\n",
    "nombre_exposed        444\n",
    "nombre_recovered    16602\n",
    "Name: 330, dtype: int64"
   ]
  },
  {
   "cell_type": "markdown",
   "id": "f1cbabf9",
   "metadata": {},
   "source": [
    "nombre_infected       894\n",
    "nombre_sain          2049\n",
    "nombre_exposed        445\n",
    "nombre_recovered    16612\n",
    "Name: 331, dtype: int64"
   ]
  },
  {
   "cell_type": "markdown",
   "id": "5a7ab63a",
   "metadata": {},
   "source": [
    "nombre_infected       863\n",
    "nombre_sain          2052\n",
    "nombre_exposed        470\n",
    "nombre_recovered    16615\n",
    "Name: 332, dtype: int64"
   ]
  },
  {
   "cell_type": "markdown",
   "id": "d68acacd",
   "metadata": {},
   "source": [
    "nombre_infected       870\n",
    "nombre_sain          2012\n",
    "nombre_exposed        485\n",
    "nombre_recovered    16633\n",
    "Name: 333, dtype: int64"
   ]
  },
  {
   "cell_type": "markdown",
   "id": "3eb78972",
   "metadata": {},
   "source": [
    "nombre_infected       876\n",
    "nombre_sain          2013\n",
    "nombre_exposed        481\n",
    "nombre_recovered    16630\n",
    "Name: 334, dtype: int64"
   ]
  },
  {
   "cell_type": "markdown",
   "id": "a4d5a979",
   "metadata": {},
   "source": [
    "nombre_infected       871\n",
    "nombre_sain          2010\n",
    "nombre_exposed        474\n",
    "nombre_recovered    16645\n",
    "Name: 335, dtype: int64"
   ]
  },
  {
   "cell_type": "markdown",
   "id": "533d193e",
   "metadata": {},
   "source": [
    "nombre_infected       880\n",
    "nombre_sain          2021\n",
    "nombre_exposed        443\n",
    "nombre_recovered    16656\n",
    "Name: 336, dtype: int64"
   ]
  },
  {
   "cell_type": "markdown",
   "id": "2b85e392",
   "metadata": {},
   "source": [
    "nombre_infected       880\n",
    "nombre_sain          2025\n",
    "nombre_exposed        426\n",
    "nombre_recovered    16669\n",
    "Name: 337, dtype: int64"
   ]
  },
  {
   "cell_type": "markdown",
   "id": "18493398",
   "metadata": {},
   "source": [
    "nombre_infected       864\n",
    "nombre_sain          2030\n",
    "nombre_exposed        433\n",
    "nombre_recovered    16673\n",
    "Name: 338, dtype: int64"
   ]
  },
  {
   "cell_type": "markdown",
   "id": "539d3254",
   "metadata": {},
   "source": [
    "nombre_infected       841\n",
    "nombre_sain          2051\n",
    "nombre_exposed        433\n",
    "nombre_recovered    16675\n",
    "Name: 339, dtype: int64"
   ]
  },
  {
   "cell_type": "markdown",
   "id": "a4901840",
   "metadata": {},
   "source": [
    "nombre_infected       842\n",
    "nombre_sain          2067\n",
    "nombre_exposed        427\n",
    "nombre_recovered    16664\n",
    "Name: 340, dtype: int64"
   ]
  },
  {
   "cell_type": "markdown",
   "id": "0037a26b",
   "metadata": {},
   "source": [
    "nombre_infected       852\n",
    "nombre_sain          2078\n",
    "nombre_exposed        413\n",
    "nombre_recovered    16657\n",
    "Name: 341, dtype: int64"
   ]
  },
  {
   "cell_type": "markdown",
   "id": "41582211",
   "metadata": {},
   "source": [
    "nombre_infected       838\n",
    "nombre_sain          2066\n",
    "nombre_exposed        441\n",
    "nombre_recovered    16655\n",
    "Name: 342, dtype: int64"
   ]
  },
  {
   "cell_type": "markdown",
   "id": "2c1cd40a",
   "metadata": {},
   "source": [
    "nombre_infected       839\n",
    "nombre_sain          2072\n",
    "nombre_exposed        456\n",
    "nombre_recovered    16633\n",
    "Name: 343, dtype: int64"
   ]
  },
  {
   "cell_type": "markdown",
   "id": "f09f2213",
   "metadata": {},
   "source": [
    "nombre_infected       835\n",
    "nombre_sain          2075\n",
    "nombre_exposed        458\n",
    "nombre_recovered    16632\n",
    "Name: 344, dtype: int64"
   ]
  },
  {
   "cell_type": "markdown",
   "id": "30ae1750",
   "metadata": {},
   "source": [
    "nombre_infected       847\n",
    "nombre_sain          2046\n",
    "nombre_exposed        465\n",
    "nombre_recovered    16642\n",
    "Name: 345, dtype: int64"
   ]
  },
  {
   "cell_type": "markdown",
   "id": "2e395450",
   "metadata": {},
   "source": [
    "nombre_infected       863\n",
    "nombre_sain          2064\n",
    "nombre_exposed        455\n",
    "nombre_recovered    16618\n",
    "Name: 346, dtype: int64"
   ]
  },
  {
   "cell_type": "markdown",
   "id": "d6dcc473",
   "metadata": {},
   "source": [
    "nombre_infected       865\n",
    "nombre_sain          2076\n",
    "nombre_exposed        437\n",
    "nombre_recovered    16622\n",
    "Name: 347, dtype: int64"
   ]
  },
  {
   "cell_type": "markdown",
   "id": "f60290b9",
   "metadata": {},
   "source": [
    "nombre_infected       869\n",
    "nombre_sain          2049\n",
    "nombre_exposed        440\n",
    "nombre_recovered    16642\n",
    "Name: 348, dtype: int64"
   ]
  },
  {
   "cell_type": "markdown",
   "id": "45a3b6ae",
   "metadata": {},
   "source": [
    "nombre_infected       842\n",
    "nombre_sain          2042\n",
    "nombre_exposed        443\n",
    "nombre_recovered    16673\n",
    "Name: 349, dtype: int64"
   ]
  },
  {
   "cell_type": "markdown",
   "id": "f58411cd",
   "metadata": {},
   "source": [
    "nombre_infected       837\n",
    "nombre_sain          2038\n",
    "nombre_exposed        455\n",
    "nombre_recovered    16670\n",
    "Name: 350, dtype: int64"
   ]
  },
  {
   "cell_type": "markdown",
   "id": "5778dfe1",
   "metadata": {},
   "source": [
    "nombre_infected       847\n",
    "nombre_sain          2041\n",
    "nombre_exposed        450\n",
    "nombre_recovered    16662\n",
    "Name: 351, dtype: int64"
   ]
  },
  {
   "cell_type": "markdown",
   "id": "24961029",
   "metadata": {},
   "source": [
    "nombre_infected       859\n",
    "nombre_sain          2049\n",
    "nombre_exposed        439\n",
    "nombre_recovered    16653\n",
    "Name: 352, dtype: int64"
   ]
  },
  {
   "cell_type": "markdown",
   "id": "44d8a88f",
   "metadata": {},
   "source": [
    "nombre_infected       866\n",
    "nombre_sain          2050\n",
    "nombre_exposed        427\n",
    "nombre_recovered    16657\n",
    "Name: 353, dtype: int64"
   ]
  },
  {
   "cell_type": "markdown",
   "id": "a4e973d3",
   "metadata": {},
   "source": [
    "nombre_infected       856\n",
    "nombre_sain          2057\n",
    "nombre_exposed        428\n",
    "nombre_recovered    16659\n",
    "Name: 354, dtype: int64"
   ]
  },
  {
   "cell_type": "markdown",
   "id": "c715787b",
   "metadata": {},
   "source": [
    "nombre_infected       850\n",
    "nombre_sain          2044\n",
    "nombre_exposed        448\n",
    "nombre_recovered    16658\n",
    "Name: 355, dtype: int64"
   ]
  },
  {
   "cell_type": "markdown",
   "id": "9bb82f93",
   "metadata": {},
   "source": [
    "nombre_infected       841\n",
    "nombre_sain          2035\n",
    "nombre_exposed        459\n",
    "nombre_recovered    16665\n",
    "Name: 356, dtype: int64"
   ]
  },
  {
   "cell_type": "markdown",
   "id": "1001b5b4",
   "metadata": {},
   "source": [
    "nombre_infected       833\n",
    "nombre_sain          2007\n",
    "nombre_exposed        483\n",
    "nombre_recovered    16677\n",
    "Name: 357, dtype: int64"
   ]
  },
  {
   "cell_type": "markdown",
   "id": "463a06d5",
   "metadata": {},
   "source": [
    "nombre_infected       847\n",
    "nombre_sain          2010\n",
    "nombre_exposed        455\n",
    "nombre_recovered    16688\n",
    "Name: 358, dtype: int64"
   ]
  },
  {
   "cell_type": "markdown",
   "id": "921f60d0",
   "metadata": {},
   "source": [
    "nombre_infected       858\n",
    "nombre_sain          1994\n",
    "nombre_exposed        449\n",
    "nombre_recovered    16699\n",
    "Name: 359, dtype: int64"
   ]
  },
  {
   "cell_type": "markdown",
   "id": "2e280a86",
   "metadata": {},
   "source": [
    "nombre_infected       850\n",
    "nombre_sain          2002\n",
    "nombre_exposed        442\n",
    "nombre_recovered    16706\n",
    "Name: 360, dtype: int64"
   ]
  },
  {
   "cell_type": "markdown",
   "id": "db9210da",
   "metadata": {},
   "source": [
    "nombre_infected       847\n",
    "nombre_sain          1989\n",
    "nombre_exposed        455\n",
    "nombre_recovered    16709\n",
    "Name: 361, dtype: int64"
   ]
  },
  {
   "cell_type": "markdown",
   "id": "88d952ab",
   "metadata": {},
   "source": [
    "nombre_infected       845\n",
    "nombre_sain          1965\n",
    "nombre_exposed        452\n",
    "nombre_recovered    16738\n",
    "Name: 362, dtype: int64"
   ]
  },
  {
   "cell_type": "markdown",
   "id": "d65c2da7",
   "metadata": {},
   "source": [
    "nombre_infected       847\n",
    "nombre_sain          1967\n",
    "nombre_exposed        442\n",
    "nombre_recovered    16744\n",
    "Name: 363, dtype: int64"
   ]
  },
  {
   "cell_type": "markdown",
   "id": "888a03b4",
   "metadata": {},
   "source": [
    "nombre_infected       832\n",
    "nombre_sain          1941\n",
    "nombre_exposed        459\n",
    "nombre_recovered    16768\n",
    "Name: 364, dtype: int64"
   ]
  },
  {
   "cell_type": "markdown",
   "id": "abc34556",
   "metadata": {},
   "source": [
    "nombre_infected       842\n",
    "nombre_sain          1943\n",
    "nombre_exposed        438\n",
    "nombre_recovered    16777\n",
    "Name: 365, dtype: int64"
   ]
  },
  {
   "cell_type": "markdown",
   "id": "5a1c5eed",
   "metadata": {},
   "source": [
    "nombre_infected       854\n",
    "nombre_sain          1938\n",
    "nombre_exposed        445\n",
    "nombre_recovered    16763\n",
    "Name: 366, dtype: int64"
   ]
  },
  {
   "cell_type": "markdown",
   "id": "47460cbc",
   "metadata": {},
   "source": [
    "nombre_infected       809\n",
    "nombre_sain          1929\n",
    "nombre_exposed        469\n",
    "nombre_recovered    16793\n",
    "Name: 367, dtype: int64"
   ]
  },
  {
   "cell_type": "markdown",
   "id": "64acefb3",
   "metadata": {},
   "source": [
    "nombre_infected       801\n",
    "nombre_sain          1935\n",
    "nombre_exposed        467\n",
    "nombre_recovered    16797\n",
    "Name: 368, dtype: int64"
   ]
  },
  {
   "cell_type": "markdown",
   "id": "e52e0836",
   "metadata": {},
   "source": [
    "nombre_infected       790\n",
    "nombre_sain          1961\n",
    "nombre_exposed        454\n",
    "nombre_recovered    16795\n",
    "Name: 369, dtype: int64"
   ]
  },
  {
   "cell_type": "markdown",
   "id": "1df03726",
   "metadata": {},
   "source": [
    "nombre_infected       818\n",
    "nombre_sain          1981\n",
    "nombre_exposed        411\n",
    "nombre_recovered    16790\n",
    "Name: 370, dtype: int64"
   ]
  },
  {
   "cell_type": "markdown",
   "id": "0618bd3b",
   "metadata": {},
   "source": [
    "nombre_infected       826\n",
    "nombre_sain          1948\n",
    "nombre_exposed        431\n",
    "nombre_recovered    16795\n",
    "Name: 371, dtype: int64"
   ]
  },
  {
   "cell_type": "markdown",
   "id": "b71e9e87",
   "metadata": {},
   "source": [
    "nombre_infected       825\n",
    "nombre_sain          1974\n",
    "nombre_exposed        403\n",
    "nombre_recovered    16798\n",
    "Name: 372, dtype: int64"
   ]
  },
  {
   "cell_type": "markdown",
   "id": "800131bf",
   "metadata": {},
   "source": [
    "nombre_infected       820\n",
    "nombre_sain          1971\n",
    "nombre_exposed        408\n",
    "nombre_recovered    16801\n",
    "Name: 373, dtype: int64"
   ]
  },
  {
   "cell_type": "markdown",
   "id": "ffa1758d",
   "metadata": {},
   "source": [
    "nombre_infected       802\n",
    "nombre_sain          1992\n",
    "nombre_exposed        419\n",
    "nombre_recovered    16787\n",
    "Name: 374, dtype: int64"
   ]
  },
  {
   "cell_type": "markdown",
   "id": "88584b75",
   "metadata": {},
   "source": [
    "nombre_infected       787\n",
    "nombre_sain          1998\n",
    "nombre_exposed        418\n",
    "nombre_recovered    16797\n",
    "Name: 375, dtype: int64"
   ]
  },
  {
   "cell_type": "markdown",
   "id": "8a60a5ed",
   "metadata": {},
   "source": [
    "nombre_infected       762\n",
    "nombre_sain          2003\n",
    "nombre_exposed        434\n",
    "nombre_recovered    16801\n",
    "Name: 376, dtype: int64"
   ]
  },
  {
   "cell_type": "markdown",
   "id": "07fc905d",
   "metadata": {},
   "source": [
    "nombre_infected       750\n",
    "nombre_sain          2024\n",
    "nombre_exposed        433\n",
    "nombre_recovered    16793\n",
    "Name: 377, dtype: int64"
   ]
  },
  {
   "cell_type": "markdown",
   "id": "b5dfe1a9",
   "metadata": {},
   "source": [
    "nombre_infected       766\n",
    "nombre_sain          2034\n",
    "nombre_exposed        439\n",
    "nombre_recovered    16761\n",
    "Name: 378, dtype: int64"
   ]
  },
  {
   "cell_type": "markdown",
   "id": "9778a2d8",
   "metadata": {},
   "source": [
    "nombre_infected       763\n",
    "nombre_sain          2027\n",
    "nombre_exposed        450\n",
    "nombre_recovered    16760\n",
    "Name: 379, dtype: int64"
   ]
  },
  {
   "cell_type": "markdown",
   "id": "220298f6",
   "metadata": {},
   "source": [
    "nombre_infected       761\n",
    "nombre_sain          2037\n",
    "nombre_exposed        440\n",
    "nombre_recovered    16762\n",
    "Name: 380, dtype: int64"
   ]
  },
  {
   "cell_type": "markdown",
   "id": "78e9729a",
   "metadata": {},
   "source": [
    "nombre_infected       778\n",
    "nombre_sain          2022\n",
    "nombre_exposed        439\n",
    "nombre_recovered    16761\n",
    "Name: 381, dtype: int64"
   ]
  },
  {
   "cell_type": "markdown",
   "id": "cdf22f76",
   "metadata": {},
   "source": [
    "nombre_infected       778\n",
    "nombre_sain          2021\n",
    "nombre_exposed        445\n",
    "nombre_recovered    16756\n",
    "Name: 382, dtype: int64"
   ]
  },
  {
   "cell_type": "markdown",
   "id": "f768de83",
   "metadata": {},
   "source": [
    "nombre_infected       769\n",
    "nombre_sain          2020\n",
    "nombre_exposed        450\n",
    "nombre_recovered    16761\n",
    "Name: 383, dtype: int64"
   ]
  },
  {
   "cell_type": "markdown",
   "id": "fbf63aa5",
   "metadata": {},
   "source": [
    "nombre_infected       758\n",
    "nombre_sain          2040\n",
    "nombre_exposed        442\n",
    "nombre_recovered    16760\n",
    "Name: 384, dtype: int64"
   ]
  },
  {
   "cell_type": "markdown",
   "id": "5ccfe67c",
   "metadata": {},
   "source": [
    "nombre_infected       763\n",
    "nombre_sain          2047\n",
    "nombre_exposed        436\n",
    "nombre_recovered    16754\n",
    "Name: 385, dtype: int64"
   ]
  },
  {
   "cell_type": "markdown",
   "id": "fcbb41e3",
   "metadata": {},
   "source": [
    "nombre_infected       763\n",
    "nombre_sain          2069\n",
    "nombre_exposed        435\n",
    "nombre_recovered    16733\n",
    "Name: 386, dtype: int64"
   ]
  },
  {
   "cell_type": "markdown",
   "id": "40e47c6d",
   "metadata": {},
   "source": [
    "nombre_infected       784\n",
    "nombre_sain          2096\n",
    "nombre_exposed        424\n",
    "nombre_recovered    16696\n",
    "Name: 387, dtype: int64"
   ]
  },
  {
   "cell_type": "markdown",
   "id": "ece3ec03",
   "metadata": {},
   "source": [
    "nombre_infected       753\n",
    "nombre_sain          2109\n",
    "nombre_exposed        448\n",
    "nombre_recovered    16690\n",
    "Name: 388, dtype: int64"
   ]
  },
  {
   "cell_type": "markdown",
   "id": "6db1be3e",
   "metadata": {},
   "source": [
    "nombre_infected       750\n",
    "nombre_sain          2144\n",
    "nombre_exposed        426\n",
    "nombre_recovered    16680\n",
    "Name: 389, dtype: int64"
   ]
  },
  {
   "cell_type": "markdown",
   "id": "c5f4eabd",
   "metadata": {},
   "source": [
    "nombre_infected       740\n",
    "nombre_sain          2159\n",
    "nombre_exposed        455\n",
    "nombre_recovered    16646\n",
    "Name: 390, dtype: int64"
   ]
  },
  {
   "cell_type": "markdown",
   "id": "3e3f557e",
   "metadata": {},
   "source": [
    "nombre_infected       747\n",
    "nombre_sain          2166\n",
    "nombre_exposed        472\n",
    "nombre_recovered    16615\n",
    "Name: 391, dtype: int64"
   ]
  },
  {
   "cell_type": "markdown",
   "id": "5614b4ef",
   "metadata": {},
   "source": [
    "nombre_infected       749\n",
    "nombre_sain          2182\n",
    "nombre_exposed        476\n",
    "nombre_recovered    16593\n",
    "Name: 392, dtype: int64"
   ]
  },
  {
   "cell_type": "markdown",
   "id": "bebe701a",
   "metadata": {},
   "source": [
    "nombre_infected       770\n",
    "nombre_sain          2177\n",
    "nombre_exposed        468\n",
    "nombre_recovered    16585\n",
    "Name: 393, dtype: int64"
   ]
  },
  {
   "cell_type": "markdown",
   "id": "c18dc9a7",
   "metadata": {},
   "source": [
    "nombre_infected       797\n",
    "nombre_sain          2213\n",
    "nombre_exposed        454\n",
    "nombre_recovered    16536\n",
    "Name: 394, dtype: int64"
   ]
  },
  {
   "cell_type": "markdown",
   "id": "b0606c4c",
   "metadata": {},
   "source": [
    "nombre_infected       798\n",
    "nombre_sain          2205\n",
    "nombre_exposed        469\n",
    "nombre_recovered    16528\n",
    "Name: 395, dtype: int64"
   ]
  },
  {
   "cell_type": "markdown",
   "id": "9e4444b4",
   "metadata": {},
   "source": [
    "nombre_infected       827\n",
    "nombre_sain          2223\n",
    "nombre_exposed        444\n",
    "nombre_recovered    16506\n",
    "Name: 396, dtype: int64"
   ]
  },
  {
   "cell_type": "markdown",
   "id": "3ce1d957",
   "metadata": {},
   "source": [
    "nombre_infected       843\n",
    "nombre_sain          2213\n",
    "nombre_exposed        467\n",
    "nombre_recovered    16477\n",
    "Name: 397, dtype: int64"
   ]
  },
  {
   "cell_type": "markdown",
   "id": "b91c53d5",
   "metadata": {},
   "source": [
    "nombre_infected       838\n",
    "nombre_sain          2197\n",
    "nombre_exposed        478\n",
    "nombre_recovered    16487\n",
    "Name: 398, dtype: int64"
   ]
  },
  {
   "cell_type": "markdown",
   "id": "a498025d",
   "metadata": {},
   "source": [
    "nombre_infected       841\n",
    "nombre_sain          2196\n",
    "nombre_exposed        491\n",
    "nombre_recovered    16472\n",
    "Name: 399, dtype: int64"
   ]
  },
  {
   "cell_type": "markdown",
   "id": "0d66591a",
   "metadata": {},
   "source": [
    "nombre_infected       840\n",
    "nombre_sain          2190\n",
    "nombre_exposed        504\n",
    "nombre_recovered    16466\n",
    "Name: 400, dtype: int64"
   ]
  },
  {
   "cell_type": "markdown",
   "id": "c5a867bf",
   "metadata": {},
   "source": [
    "nombre_infected       847\n",
    "nombre_sain          2177\n",
    "nombre_exposed        503\n",
    "nombre_recovered    16473\n",
    "Name: 401, dtype: int64"
   ]
  },
  {
   "cell_type": "markdown",
   "id": "acb4901d",
   "metadata": {},
   "source": [
    "nombre_infected       825\n",
    "nombre_sain          2165\n",
    "nombre_exposed        531\n",
    "nombre_recovered    16479\n",
    "Name: 402, dtype: int64"
   ]
  },
  {
   "cell_type": "markdown",
   "id": "9b73c5ea",
   "metadata": {},
   "source": [
    "nombre_infected       859\n",
    "nombre_sain          2150\n",
    "nombre_exposed        517\n",
    "nombre_recovered    16474\n",
    "Name: 403, dtype: int64"
   ]
  },
  {
   "cell_type": "markdown",
   "id": "03fd2061",
   "metadata": {},
   "source": [
    "nombre_infected       859\n",
    "nombre_sain          2149\n",
    "nombre_exposed        507\n",
    "nombre_recovered    16485\n",
    "Name: 404, dtype: int64"
   ]
  },
  {
   "cell_type": "markdown",
   "id": "cd640f16",
   "metadata": {},
   "source": [
    "nombre_infected       879\n",
    "nombre_sain          2149\n",
    "nombre_exposed        492\n",
    "nombre_recovered    16480\n",
    "Name: 405, dtype: int64"
   ]
  },
  {
   "cell_type": "markdown",
   "id": "5f5ca6f6",
   "metadata": {},
   "source": [
    "nombre_infected       883\n",
    "nombre_sain          2145\n",
    "nombre_exposed        487\n",
    "nombre_recovered    16485\n",
    "Name: 406, dtype: int64"
   ]
  },
  {
   "cell_type": "markdown",
   "id": "2e7e2cd8",
   "metadata": {},
   "source": [
    "nombre_infected       880\n",
    "nombre_sain          2149\n",
    "nombre_exposed        499\n",
    "nombre_recovered    16472\n",
    "Name: 407, dtype: int64"
   ]
  },
  {
   "cell_type": "markdown",
   "id": "99e487ee",
   "metadata": {},
   "source": [
    "nombre_infected       889\n",
    "nombre_sain          2147\n",
    "nombre_exposed        500\n",
    "nombre_recovered    16464\n",
    "Name: 408, dtype: int64"
   ]
  },
  {
   "cell_type": "markdown",
   "id": "0fc5b137",
   "metadata": {},
   "source": [
    "nombre_infected       879\n",
    "nombre_sain          2164\n",
    "nombre_exposed        494\n",
    "nombre_recovered    16463\n",
    "Name: 409, dtype: int64"
   ]
  },
  {
   "cell_type": "markdown",
   "id": "a7bb29c0",
   "metadata": {},
   "source": [
    "nombre_infected       903\n",
    "nombre_sain          2170\n",
    "nombre_exposed        484\n",
    "nombre_recovered    16443\n",
    "Name: 410, dtype: int64"
   ]
  },
  {
   "cell_type": "markdown",
   "id": "782e2e19",
   "metadata": {},
   "source": [
    "nombre_infected       903\n",
    "nombre_sain          2180\n",
    "nombre_exposed        485\n",
    "nombre_recovered    16432\n",
    "Name: 411, dtype: int64"
   ]
  },
  {
   "cell_type": "markdown",
   "id": "dd1ae4d5",
   "metadata": {},
   "source": [
    "nombre_infected       911\n",
    "nombre_sain          2146\n",
    "nombre_exposed        522\n",
    "nombre_recovered    16421\n",
    "Name: 412, dtype: int64"
   ]
  },
  {
   "cell_type": "markdown",
   "id": "ed20610e",
   "metadata": {},
   "source": [
    "nombre_infected       917\n",
    "nombre_sain          2138\n",
    "nombre_exposed        511\n",
    "nombre_recovered    16434\n",
    "Name: 413, dtype: int64"
   ]
  },
  {
   "cell_type": "markdown",
   "id": "a966f9c1",
   "metadata": {},
   "source": [
    "nombre_infected       924\n",
    "nombre_sain          2126\n",
    "nombre_exposed        514\n",
    "nombre_recovered    16436\n",
    "Name: 414, dtype: int64"
   ]
  },
  {
   "cell_type": "markdown",
   "id": "9244f6f7",
   "metadata": {},
   "source": [
    "nombre_infected       905\n",
    "nombre_sain          2156\n",
    "nombre_exposed        496\n",
    "nombre_recovered    16443\n",
    "Name: 415, dtype: int64"
   ]
  },
  {
   "cell_type": "markdown",
   "id": "d3a64c02",
   "metadata": {},
   "source": [
    "nombre_infected       909\n",
    "nombre_sain          2132\n",
    "nombre_exposed        498\n",
    "nombre_recovered    16461\n",
    "Name: 416, dtype: int64"
   ]
  },
  {
   "cell_type": "markdown",
   "id": "dd99064e",
   "metadata": {},
   "source": [
    "nombre_infected       881\n",
    "nombre_sain          2106\n",
    "nombre_exposed        513\n",
    "nombre_recovered    16500\n",
    "Name: 417, dtype: int64"
   ]
  },
  {
   "cell_type": "markdown",
   "id": "a4762e13",
   "metadata": {},
   "source": [
    "nombre_infected       910\n",
    "nombre_sain          2095\n",
    "nombre_exposed        492\n",
    "nombre_recovered    16503\n",
    "Name: 418, dtype: int64"
   ]
  },
  {
   "cell_type": "markdown",
   "id": "7f0b428c",
   "metadata": {},
   "source": [
    "nombre_infected       904\n",
    "nombre_sain          2105\n",
    "nombre_exposed        484\n",
    "nombre_recovered    16507\n",
    "Name: 419, dtype: int64"
   ]
  },
  {
   "cell_type": "markdown",
   "id": "3d265e3d",
   "metadata": {},
   "source": [
    "nombre_infected       896\n",
    "nombre_sain          2085\n",
    "nombre_exposed        484\n",
    "nombre_recovered    16535\n",
    "Name: 420, dtype: int64"
   ]
  },
  {
   "cell_type": "markdown",
   "id": "92295ee4",
   "metadata": {},
   "source": [
    "nombre_infected       922\n",
    "nombre_sain          2074\n",
    "nombre_exposed        476\n",
    "nombre_recovered    16528\n",
    "Name: 421, dtype: int64"
   ]
  },
  {
   "cell_type": "markdown",
   "id": "c67d79f3",
   "metadata": {},
   "source": [
    "nombre_infected       919\n",
    "nombre_sain          2061\n",
    "nombre_exposed        482\n",
    "nombre_recovered    16538\n",
    "Name: 422, dtype: int64"
   ]
  },
  {
   "cell_type": "markdown",
   "id": "a78f8bf0",
   "metadata": {},
   "source": [
    "nombre_infected       917\n",
    "nombre_sain          2055\n",
    "nombre_exposed        461\n",
    "nombre_recovered    16567\n",
    "Name: 423, dtype: int64"
   ]
  },
  {
   "cell_type": "markdown",
   "id": "6e323246",
   "metadata": {},
   "source": [
    "nombre_infected       925\n",
    "nombre_sain          2014\n",
    "nombre_exposed        457\n",
    "nombre_recovered    16604\n",
    "Name: 424, dtype: int64"
   ]
  },
  {
   "cell_type": "markdown",
   "id": "69226220",
   "metadata": {},
   "source": [
    "nombre_infected       917\n",
    "nombre_sain          1992\n",
    "nombre_exposed        467\n",
    "nombre_recovered    16624\n",
    "Name: 425, dtype: int64"
   ]
  },
  {
   "cell_type": "markdown",
   "id": "ab792a43",
   "metadata": {},
   "source": [
    "nombre_infected       917\n",
    "nombre_sain          1983\n",
    "nombre_exposed        455\n",
    "nombre_recovered    16645\n",
    "Name: 426, dtype: int64"
   ]
  },
  {
   "cell_type": "markdown",
   "id": "0142f9e7",
   "metadata": {},
   "source": [
    "nombre_infected       916\n",
    "nombre_sain          1971\n",
    "nombre_exposed        458\n",
    "nombre_recovered    16655\n",
    "Name: 427, dtype: int64"
   ]
  },
  {
   "cell_type": "markdown",
   "id": "a5403f97",
   "metadata": {},
   "source": [
    "nombre_infected       914\n",
    "nombre_sain          1955\n",
    "nombre_exposed        435\n",
    "nombre_recovered    16696\n",
    "Name: 428, dtype: int64"
   ]
  },
  {
   "cell_type": "markdown",
   "id": "1e058ba6",
   "metadata": {},
   "source": [
    "nombre_infected       908\n",
    "nombre_sain          1940\n",
    "nombre_exposed        444\n",
    "nombre_recovered    16708\n",
    "Name: 429, dtype: int64"
   ]
  },
  {
   "cell_type": "markdown",
   "id": "e63dc490",
   "metadata": {},
   "source": [
    "nombre_infected       872\n",
    "nombre_sain          1928\n",
    "nombre_exposed        461\n",
    "nombre_recovered    16739\n",
    "Name: 430, dtype: int64"
   ]
  },
  {
   "cell_type": "markdown",
   "id": "8f2b4e9f",
   "metadata": {},
   "source": [
    "nombre_infected       856\n",
    "nombre_sain          1926\n",
    "nombre_exposed        461\n",
    "nombre_recovered    16757\n",
    "Name: 431, dtype: int64"
   ]
  },
  {
   "cell_type": "markdown",
   "id": "6794a7d0",
   "metadata": {},
   "source": [
    "nombre_infected       858\n",
    "nombre_sain          1899\n",
    "nombre_exposed        462\n",
    "nombre_recovered    16781\n",
    "Name: 432, dtype: int64"
   ]
  },
  {
   "cell_type": "markdown",
   "id": "7e119694",
   "metadata": {},
   "source": [
    "nombre_infected       862\n",
    "nombre_sain          1905\n",
    "nombre_exposed        458\n",
    "nombre_recovered    16775\n",
    "Name: 433, dtype: int64"
   ]
  },
  {
   "cell_type": "markdown",
   "id": "558bf436",
   "metadata": {},
   "source": [
    "nombre_infected       843\n",
    "nombre_sain          1896\n",
    "nombre_exposed        465\n",
    "nombre_recovered    16796\n",
    "Name: 434, dtype: int64"
   ]
  },
  {
   "cell_type": "markdown",
   "id": "ba8dcf1e",
   "metadata": {},
   "source": [
    "nombre_infected       841\n",
    "nombre_sain          1888\n",
    "nombre_exposed        472\n",
    "nombre_recovered    16799\n",
    "Name: 435, dtype: int64"
   ]
  },
  {
   "cell_type": "markdown",
   "id": "e622e3b9",
   "metadata": {},
   "source": [
    "nombre_infected       852\n",
    "nombre_sain          1911\n",
    "nombre_exposed        453\n",
    "nombre_recovered    16784\n",
    "Name: 436, dtype: int64"
   ]
  },
  {
   "cell_type": "markdown",
   "id": "dea1dc98",
   "metadata": {},
   "source": [
    "nombre_infected       837\n",
    "nombre_sain          1950\n",
    "nombre_exposed        432\n",
    "nombre_recovered    16781\n",
    "Name: 437, dtype: int64"
   ]
  },
  {
   "cell_type": "markdown",
   "id": "b0badaa0",
   "metadata": {},
   "source": [
    "nombre_infected       848\n",
    "nombre_sain          1969\n",
    "nombre_exposed        405\n",
    "nombre_recovered    16778\n",
    "Name: 438, dtype: int64"
   ]
  },
  {
   "cell_type": "markdown",
   "id": "c58fe4be",
   "metadata": {},
   "source": [
    "nombre_infected       830\n",
    "nombre_sain          1989\n",
    "nombre_exposed        423\n",
    "nombre_recovered    16758\n",
    "Name: 439, dtype: int64"
   ]
  },
  {
   "cell_type": "markdown",
   "id": "ffdcbe1f",
   "metadata": {},
   "source": [
    "nombre_infected       799\n",
    "nombre_sain          2020\n",
    "nombre_exposed        415\n",
    "nombre_recovered    16766\n",
    "Name: 440, dtype: int64"
   ]
  },
  {
   "cell_type": "markdown",
   "id": "6e6cb0d8",
   "metadata": {},
   "source": [
    "nombre_infected       793\n",
    "nombre_sain          2036\n",
    "nombre_exposed        434\n",
    "nombre_recovered    16737\n",
    "Name: 441, dtype: int64"
   ]
  },
  {
   "cell_type": "markdown",
   "id": "64458555",
   "metadata": {},
   "source": [
    "nombre_infected       802\n",
    "nombre_sain          2052\n",
    "nombre_exposed        426\n",
    "nombre_recovered    16720\n",
    "Name: 442, dtype: int64"
   ]
  },
  {
   "cell_type": "markdown",
   "id": "f2d410cf",
   "metadata": {},
   "source": [
    "nombre_infected       810\n",
    "nombre_sain          2037\n",
    "nombre_exposed        421\n",
    "nombre_recovered    16732\n",
    "Name: 443, dtype: int64"
   ]
  },
  {
   "cell_type": "markdown",
   "id": "7b058e7d",
   "metadata": {},
   "source": [
    "nombre_infected       806\n",
    "nombre_sain          2044\n",
    "nombre_exposed        413\n",
    "nombre_recovered    16737\n",
    "Name: 444, dtype: int64"
   ]
  },
  {
   "cell_type": "markdown",
   "id": "0ed67d2e",
   "metadata": {},
   "source": [
    "nombre_infected       803\n",
    "nombre_sain          2068\n",
    "nombre_exposed        435\n",
    "nombre_recovered    16694\n",
    "Name: 445, dtype: int64"
   ]
  },
  {
   "cell_type": "markdown",
   "id": "715cb8be",
   "metadata": {},
   "source": [
    "nombre_infected       799\n",
    "nombre_sain          2100\n",
    "nombre_exposed        414\n",
    "nombre_recovered    16687\n",
    "Name: 446, dtype: int64"
   ]
  },
  {
   "cell_type": "markdown",
   "id": "c029bab0",
   "metadata": {},
   "source": [
    "nombre_infected       787\n",
    "nombre_sain          2124\n",
    "nombre_exposed        411\n",
    "nombre_recovered    16678\n",
    "Name: 447, dtype: int64"
   ]
  },
  {
   "cell_type": "markdown",
   "id": "03f529b4",
   "metadata": {},
   "source": [
    "nombre_infected       789\n",
    "nombre_sain          2150\n",
    "nombre_exposed        408\n",
    "nombre_recovered    16653\n",
    "Name: 448, dtype: int64"
   ]
  },
  {
   "cell_type": "markdown",
   "id": "9616cbd2",
   "metadata": {},
   "source": [
    "nombre_infected       782\n",
    "nombre_sain          2164\n",
    "nombre_exposed        406\n",
    "nombre_recovered    16648\n",
    "Name: 449, dtype: int64"
   ]
  },
  {
   "cell_type": "markdown",
   "id": "1db5dcf0",
   "metadata": {},
   "source": [
    "nombre_infected       764\n",
    "nombre_sain          2182\n",
    "nombre_exposed        419\n",
    "nombre_recovered    16635\n",
    "Name: 450, dtype: int64"
   ]
  },
  {
   "cell_type": "markdown",
   "id": "ea393a5f",
   "metadata": {},
   "source": [
    "nombre_infected       757\n",
    "nombre_sain          2208\n",
    "nombre_exposed        409\n",
    "nombre_recovered    16626\n",
    "Name: 451, dtype: int64"
   ]
  },
  {
   "cell_type": "markdown",
   "id": "7d2961b6",
   "metadata": {},
   "source": [
    "nombre_infected       740\n",
    "nombre_sain          2232\n",
    "nombre_exposed        413\n",
    "nombre_recovered    16615\n",
    "Name: 452, dtype: int64"
   ]
  },
  {
   "cell_type": "markdown",
   "id": "b8922f6c",
   "metadata": {},
   "source": [
    "nombre_infected       732\n",
    "nombre_sain          2233\n",
    "nombre_exposed        395\n",
    "nombre_recovered    16640\n",
    "Name: 453, dtype: int64"
   ]
  },
  {
   "cell_type": "markdown",
   "id": "9f4f5f8e",
   "metadata": {},
   "source": [
    "nombre_infected       736\n",
    "nombre_sain          2247\n",
    "nombre_exposed        378\n",
    "nombre_recovered    16639\n",
    "Name: 454, dtype: int64"
   ]
  },
  {
   "cell_type": "markdown",
   "id": "17d1f45f",
   "metadata": {},
   "source": [
    "nombre_infected       740\n",
    "nombre_sain          2268\n",
    "nombre_exposed        374\n",
    "nombre_recovered    16618\n",
    "Name: 455, dtype: int64"
   ]
  },
  {
   "cell_type": "markdown",
   "id": "8ca832f3",
   "metadata": {},
   "source": [
    "nombre_infected       736\n",
    "nombre_sain          2282\n",
    "nombre_exposed        391\n",
    "nombre_recovered    16591\n",
    "Name: 456, dtype: int64"
   ]
  },
  {
   "cell_type": "markdown",
   "id": "d1699d32",
   "metadata": {},
   "source": [
    "nombre_infected       729\n",
    "nombre_sain          2314\n",
    "nombre_exposed        386\n",
    "nombre_recovered    16571\n",
    "Name: 457, dtype: int64"
   ]
  },
  {
   "cell_type": "markdown",
   "id": "a3c6e2f2",
   "metadata": {},
   "source": [
    "nombre_infected       727\n",
    "nombre_sain          2334\n",
    "nombre_exposed        388\n",
    "nombre_recovered    16551\n",
    "Name: 458, dtype: int64"
   ]
  },
  {
   "cell_type": "markdown",
   "id": "e3423d53",
   "metadata": {},
   "source": [
    "nombre_infected       731\n",
    "nombre_sain          2348\n",
    "nombre_exposed        402\n",
    "nombre_recovered    16519\n",
    "Name: 459, dtype: int64"
   ]
  },
  {
   "cell_type": "markdown",
   "id": "fc50713c",
   "metadata": {},
   "source": [
    "nombre_infected       740\n",
    "nombre_sain          2347\n",
    "nombre_exposed        417\n",
    "nombre_recovered    16496\n",
    "Name: 460, dtype: int64"
   ]
  },
  {
   "cell_type": "markdown",
   "id": "c65c7781",
   "metadata": {},
   "source": [
    "nombre_infected       745\n",
    "nombre_sain          2363\n",
    "nombre_exposed        424\n",
    "nombre_recovered    16468\n",
    "Name: 461, dtype: int64"
   ]
  },
  {
   "cell_type": "markdown",
   "id": "f2d6bc16",
   "metadata": {},
   "source": [
    "nombre_infected       758\n",
    "nombre_sain          2383\n",
    "nombre_exposed        422\n",
    "nombre_recovered    16437\n",
    "Name: 462, dtype: int64"
   ]
  },
  {
   "cell_type": "markdown",
   "id": "84744935",
   "metadata": {},
   "source": [
    "nombre_infected       732\n",
    "nombre_sain          2388\n",
    "nombre_exposed        450\n",
    "nombre_recovered    16430\n",
    "Name: 463, dtype: int64"
   ]
  },
  {
   "cell_type": "markdown",
   "id": "fa83032d",
   "metadata": {},
   "source": [
    "nombre_infected       725\n",
    "nombre_sain          2409\n",
    "nombre_exposed        464\n",
    "nombre_recovered    16402\n",
    "Name: 464, dtype: int64"
   ]
  },
  {
   "cell_type": "markdown",
   "id": "30194c74",
   "metadata": {},
   "source": [
    "nombre_infected       718\n",
    "nombre_sain          2401\n",
    "nombre_exposed        485\n",
    "nombre_recovered    16396\n",
    "Name: 465, dtype: int64"
   ]
  },
  {
   "cell_type": "markdown",
   "id": "855efb66",
   "metadata": {},
   "source": [
    "nombre_infected       720\n",
    "nombre_sain          2404\n",
    "nombre_exposed        485\n",
    "nombre_recovered    16391\n",
    "Name: 466, dtype: int64"
   ]
  },
  {
   "cell_type": "markdown",
   "id": "aecc7173",
   "metadata": {},
   "source": [
    "nombre_infected       739\n",
    "nombre_sain          2391\n",
    "nombre_exposed        488\n",
    "nombre_recovered    16382\n",
    "Name: 467, dtype: int64"
   ]
  },
  {
   "cell_type": "markdown",
   "id": "5088cbf0",
   "metadata": {},
   "source": [
    "nombre_infected       762\n",
    "nombre_sain          2383\n",
    "nombre_exposed        479\n",
    "nombre_recovered    16376\n",
    "Name: 468, dtype: int64"
   ]
  },
  {
   "cell_type": "markdown",
   "id": "3fca9225",
   "metadata": {},
   "source": [
    "nombre_infected       777\n",
    "nombre_sain          2386\n",
    "nombre_exposed        485\n",
    "nombre_recovered    16352\n",
    "Name: 469, dtype: int64"
   ]
  },
  {
   "cell_type": "markdown",
   "id": "96c120c4",
   "metadata": {},
   "source": [
    "nombre_infected       780\n",
    "nombre_sain          2368\n",
    "nombre_exposed        508\n",
    "nombre_recovered    16344\n",
    "Name: 470, dtype: int64"
   ]
  },
  {
   "cell_type": "markdown",
   "id": "d6ca4969",
   "metadata": {},
   "source": [
    "nombre_infected       777\n",
    "nombre_sain          2354\n",
    "nombre_exposed        519\n",
    "nombre_recovered    16350\n",
    "Name: 471, dtype: int64"
   ]
  },
  {
   "cell_type": "markdown",
   "id": "f282d22e",
   "metadata": {},
   "source": [
    "nombre_infected       805\n",
    "nombre_sain          2348\n",
    "nombre_exposed        511\n",
    "nombre_recovered    16336\n",
    "Name: 472, dtype: int64"
   ]
  },
  {
   "cell_type": "markdown",
   "id": "e24c5e34",
   "metadata": {},
   "source": [
    "nombre_infected       836\n",
    "nombre_sain          2355\n",
    "nombre_exposed        498\n",
    "nombre_recovered    16311\n",
    "Name: 473, dtype: int64"
   ]
  },
  {
   "cell_type": "markdown",
   "id": "c33aed11",
   "metadata": {},
   "source": [
    "nombre_infected       851\n",
    "nombre_sain          2366\n",
    "nombre_exposed        479\n",
    "nombre_recovered    16304\n",
    "Name: 474, dtype: int64"
   ]
  },
  {
   "cell_type": "markdown",
   "id": "abd67d80",
   "metadata": {},
   "source": [
    "nombre_infected       835\n",
    "nombre_sain          2336\n",
    "nombre_exposed        518\n",
    "nombre_recovered    16311\n",
    "Name: 475, dtype: int64"
   ]
  },
  {
   "cell_type": "markdown",
   "id": "bbe731f0",
   "metadata": {},
   "source": [
    "nombre_infected       843\n",
    "nombre_sain          2329\n",
    "nombre_exposed        524\n",
    "nombre_recovered    16304\n",
    "Name: 476, dtype: int64"
   ]
  },
  {
   "cell_type": "markdown",
   "id": "831ddbba",
   "metadata": {},
   "source": [
    "nombre_infected       859\n",
    "nombre_sain          2300\n",
    "nombre_exposed        523\n",
    "nombre_recovered    16318\n",
    "Name: 477, dtype: int64"
   ]
  },
  {
   "cell_type": "markdown",
   "id": "f2931a6f",
   "metadata": {},
   "source": [
    "nombre_infected       883\n",
    "nombre_sain          2294\n",
    "nombre_exposed        518\n",
    "nombre_recovered    16305\n",
    "Name: 478, dtype: int64"
   ]
  },
  {
   "cell_type": "markdown",
   "id": "ee40df59",
   "metadata": {},
   "source": [
    "nombre_infected       875\n",
    "nombre_sain          2272\n",
    "nombre_exposed        530\n",
    "nombre_recovered    16323\n",
    "Name: 479, dtype: int64"
   ]
  },
  {
   "cell_type": "markdown",
   "id": "d832d35c",
   "metadata": {},
   "source": [
    "nombre_infected       887\n",
    "nombre_sain          2249\n",
    "nombre_exposed        539\n",
    "nombre_recovered    16325\n",
    "Name: 480, dtype: int64"
   ]
  },
  {
   "cell_type": "markdown",
   "id": "724c2f53",
   "metadata": {},
   "source": [
    "nombre_infected       874\n",
    "nombre_sain          2223\n",
    "nombre_exposed        570\n",
    "nombre_recovered    16333\n",
    "Name: 481, dtype: int64"
   ]
  },
  {
   "cell_type": "markdown",
   "id": "5cbe6a8b",
   "metadata": {},
   "source": [
    "nombre_infected       896\n",
    "nombre_sain          2228\n",
    "nombre_exposed        542\n",
    "nombre_recovered    16334\n",
    "Name: 482, dtype: int64"
   ]
  },
  {
   "cell_type": "markdown",
   "id": "7d9cc586",
   "metadata": {},
   "source": [
    "nombre_infected       920\n",
    "nombre_sain          2241\n",
    "nombre_exposed        515\n",
    "nombre_recovered    16324\n",
    "Name: 483, dtype: int64"
   ]
  },
  {
   "cell_type": "markdown",
   "id": "87519150",
   "metadata": {},
   "source": [
    "nombre_infected       913\n",
    "nombre_sain          2229\n",
    "nombre_exposed        534\n",
    "nombre_recovered    16324\n",
    "Name: 484, dtype: int64"
   ]
  },
  {
   "cell_type": "markdown",
   "id": "108ff6bc",
   "metadata": {},
   "source": [
    "nombre_infected       907\n",
    "nombre_sain          2240\n",
    "nombre_exposed        522\n",
    "nombre_recovered    16331\n",
    "Name: 485, dtype: int64"
   ]
  },
  {
   "cell_type": "markdown",
   "id": "41e2928e",
   "metadata": {},
   "source": [
    "nombre_infected       906\n",
    "nombre_sain          2243\n",
    "nombre_exposed        532\n",
    "nombre_recovered    16319\n",
    "Name: 486, dtype: int64"
   ]
  },
  {
   "cell_type": "markdown",
   "id": "ece154c5",
   "metadata": {},
   "source": [
    "nombre_infected       898\n",
    "nombre_sain          2262\n",
    "nombre_exposed        551\n",
    "nombre_recovered    16289\n",
    "Name: 487, dtype: int64"
   ]
  },
  {
   "cell_type": "markdown",
   "id": "8a2d448b",
   "metadata": {},
   "source": [
    "nombre_infected       910\n",
    "nombre_sain          2248\n",
    "nombre_exposed        554\n",
    "nombre_recovered    16288\n",
    "Name: 488, dtype: int64"
   ]
  },
  {
   "cell_type": "markdown",
   "id": "9d0bda00",
   "metadata": {},
   "source": [
    "nombre_infected       933\n",
    "nombre_sain          2233\n",
    "nombre_exposed        560\n",
    "nombre_recovered    16274\n",
    "Name: 489, dtype: int64"
   ]
  },
  {
   "cell_type": "markdown",
   "id": "ea5034a4",
   "metadata": {},
   "source": [
    "nombre_infected       957\n",
    "nombre_sain          2230\n",
    "nombre_exposed        560\n",
    "nombre_recovered    16253\n",
    "Name: 490, dtype: int64"
   ]
  },
  {
   "cell_type": "markdown",
   "id": "13f712c0",
   "metadata": {},
   "source": [
    "nombre_infected       987\n",
    "nombre_sain          2224\n",
    "nombre_exposed        534\n",
    "nombre_recovered    16255\n",
    "Name: 491, dtype: int64"
   ]
  },
  {
   "cell_type": "markdown",
   "id": "e837ab3a",
   "metadata": {},
   "source": [
    "nombre_infected       991\n",
    "nombre_sain          2200\n",
    "nombre_exposed        540\n",
    "nombre_recovered    16269\n",
    "Name: 492, dtype: int64"
   ]
  },
  {
   "cell_type": "markdown",
   "id": "24b26f67",
   "metadata": {},
   "source": [
    "nombre_infected       982\n",
    "nombre_sain          2155\n",
    "nombre_exposed        573\n",
    "nombre_recovered    16290\n",
    "Name: 493, dtype: int64"
   ]
  },
  {
   "cell_type": "markdown",
   "id": "66498a54",
   "metadata": {},
   "source": [
    "nombre_infected      1007\n",
    "nombre_sain          2129\n",
    "nombre_exposed        563\n",
    "nombre_recovered    16301\n",
    "Name: 494, dtype: int64"
   ]
  },
  {
   "cell_type": "markdown",
   "id": "2ca534f6",
   "metadata": {},
   "source": [
    "nombre_infected      1013\n",
    "nombre_sain          2116\n",
    "nombre_exposed        550\n",
    "nombre_recovered    16321\n",
    "Name: 495, dtype: int64"
   ]
  },
  {
   "cell_type": "markdown",
   "id": "604e94a8",
   "metadata": {},
   "source": [
    "nombre_infected      1018\n",
    "nombre_sain          2119\n",
    "nombre_exposed        545\n",
    "nombre_recovered    16318\n",
    "Name: 496, dtype: int64"
   ]
  },
  {
   "cell_type": "markdown",
   "id": "0ac44b86",
   "metadata": {},
   "source": [
    "nombre_infected      1030\n",
    "nombre_sain          2092\n",
    "nombre_exposed        550\n",
    "nombre_recovered    16328\n",
    "Name: 497, dtype: int64"
   ]
  },
  {
   "cell_type": "markdown",
   "id": "710f3d1b",
   "metadata": {},
   "source": [
    "nombre_infected      1036\n",
    "nombre_sain          2087\n",
    "nombre_exposed        556\n",
    "nombre_recovered    16321\n",
    "Name: 498, dtype: int64"
   ]
  },
  {
   "cell_type": "markdown",
   "id": "26c8c7a7",
   "metadata": {},
   "source": [
    "nombre_infected      1051\n",
    "nombre_sain          2078\n",
    "nombre_exposed        545\n",
    "nombre_recovered    16326\n",
    "Name: 499, dtype: int64"
   ]
  },
  {
   "cell_type": "markdown",
   "id": "554d1d17",
   "metadata": {},
   "source": [
    "nombre_infected      1052\n",
    "nombre_sain          2072\n",
    "nombre_exposed        543\n",
    "nombre_recovered    16333\n",
    "Name: 500, dtype: int64"
   ]
  },
  {
   "cell_type": "markdown",
   "id": "e0495fd6",
   "metadata": {},
   "source": [
    "nombre_infected      1048\n",
    "nombre_sain          2052\n",
    "nombre_exposed        544\n",
    "nombre_recovered    16356\n",
    "Name: 501, dtype: int64"
   ]
  },
  {
   "cell_type": "markdown",
   "id": "5b8b0710",
   "metadata": {},
   "source": [
    "nombre_infected      1042\n",
    "nombre_sain          2079\n",
    "nombre_exposed        540\n",
    "nombre_recovered    16339\n",
    "Name: 502, dtype: int64"
   ]
  },
  {
   "cell_type": "markdown",
   "id": "02ac31ff",
   "metadata": {},
   "source": [
    "nombre_infected      1027\n",
    "nombre_sain          2072\n",
    "nombre_exposed        541\n",
    "nombre_recovered    16360\n",
    "Name: 503, dtype: int64"
   ]
  },
  {
   "cell_type": "markdown",
   "id": "a9d1d270",
   "metadata": {},
   "source": [
    "nombre_infected      1017\n",
    "nombre_sain          2065\n",
    "nombre_exposed        551\n",
    "nombre_recovered    16367\n",
    "Name: 504, dtype: int64"
   ]
  },
  {
   "cell_type": "markdown",
   "id": "3e0cae52",
   "metadata": {},
   "source": [
    "nombre_infected       984\n",
    "nombre_sain          2049\n",
    "nombre_exposed        585\n",
    "nombre_recovered    16382\n",
    "Name: 505, dtype: int64"
   ]
  },
  {
   "cell_type": "markdown",
   "id": "7359c63e",
   "metadata": {},
   "source": [
    "nombre_infected       999\n",
    "nombre_sain          2054\n",
    "nombre_exposed        573\n",
    "nombre_recovered    16374\n",
    "Name: 506, dtype: int64"
   ]
  },
  {
   "cell_type": "markdown",
   "id": "6e5446f1",
   "metadata": {},
   "source": [
    "nombre_infected      1034\n",
    "nombre_sain          2068\n",
    "nombre_exposed        561\n",
    "nombre_recovered    16337\n",
    "Name: 507, dtype: int64"
   ]
  },
  {
   "cell_type": "markdown",
   "id": "a6bc0bd1",
   "metadata": {},
   "source": [
    "nombre_infected      1051\n",
    "nombre_sain          2033\n",
    "nombre_exposed        585\n",
    "nombre_recovered    16331\n",
    "Name: 508, dtype: int64"
   ]
  },
  {
   "cell_type": "markdown",
   "id": "441a5bf0",
   "metadata": {},
   "source": [
    "nombre_infected      1034\n",
    "nombre_sain          2046\n",
    "nombre_exposed        567\n",
    "nombre_recovered    16353\n",
    "Name: 509, dtype: int64"
   ]
  },
  {
   "cell_type": "markdown",
   "id": "4e7f5a97",
   "metadata": {},
   "source": [
    "nombre_infected      1054\n",
    "nombre_sain          2051\n",
    "nombre_exposed        567\n",
    "nombre_recovered    16328\n",
    "Name: 510, dtype: int64"
   ]
  },
  {
   "cell_type": "markdown",
   "id": "fc172fc2",
   "metadata": {},
   "source": [
    "nombre_infected      1073\n",
    "nombre_sain          2054\n",
    "nombre_exposed        560\n",
    "nombre_recovered    16313\n",
    "Name: 511, dtype: int64"
   ]
  },
  {
   "cell_type": "markdown",
   "id": "fbafc369",
   "metadata": {},
   "source": [
    "nombre_infected      1067\n",
    "nombre_sain          2047\n",
    "nombre_exposed        560\n",
    "nombre_recovered    16326\n",
    "Name: 512, dtype: int64"
   ]
  },
  {
   "cell_type": "markdown",
   "id": "92d409ff",
   "metadata": {},
   "source": [
    "nombre_infected      1059\n",
    "nombre_sain          2030\n",
    "nombre_exposed        577\n",
    "nombre_recovered    16334\n",
    "Name: 513, dtype: int64"
   ]
  },
  {
   "cell_type": "markdown",
   "id": "323514f7",
   "metadata": {},
   "source": [
    "nombre_infected      1052\n",
    "nombre_sain          2019\n",
    "nombre_exposed        582\n",
    "nombre_recovered    16347\n",
    "Name: 514, dtype: int64"
   ]
  },
  {
   "cell_type": "markdown",
   "id": "9f1bff86",
   "metadata": {},
   "source": [
    "nombre_infected      1074\n",
    "nombre_sain          2003\n",
    "nombre_exposed        609\n",
    "nombre_recovered    16314\n",
    "Name: 515, dtype: int64"
   ]
  },
  {
   "cell_type": "markdown",
   "id": "0441ce93",
   "metadata": {},
   "source": [
    "nombre_infected      1072\n",
    "nombre_sain          2012\n",
    "nombre_exposed        606\n",
    "nombre_recovered    16310\n",
    "Name: 516, dtype: int64"
   ]
  },
  {
   "cell_type": "markdown",
   "id": "efc0253c",
   "metadata": {},
   "source": [
    "nombre_infected      1094\n",
    "nombre_sain          1997\n",
    "nombre_exposed        596\n",
    "nombre_recovered    16313\n",
    "Name: 517, dtype: int64"
   ]
  },
  {
   "cell_type": "markdown",
   "id": "e966818e",
   "metadata": {},
   "source": [
    "nombre_infected      1094\n",
    "nombre_sain          2001\n",
    "nombre_exposed        580\n",
    "nombre_recovered    16325\n",
    "Name: 518, dtype: int64"
   ]
  },
  {
   "cell_type": "markdown",
   "id": "a45f7462",
   "metadata": {},
   "source": [
    "nombre_infected      1125\n",
    "nombre_sain          2000\n",
    "nombre_exposed        551\n",
    "nombre_recovered    16324\n",
    "Name: 519, dtype: int64"
   ]
  },
  {
   "cell_type": "markdown",
   "id": "2ae68caa",
   "metadata": {},
   "source": [
    "nombre_infected      1136\n",
    "nombre_sain          1971\n",
    "nombre_exposed        560\n",
    "nombre_recovered    16333\n",
    "Name: 520, dtype: int64"
   ]
  },
  {
   "cell_type": "markdown",
   "id": "d9f2e41f",
   "metadata": {},
   "source": [
    "nombre_infected      1139\n",
    "nombre_sain          2000\n",
    "nombre_exposed        552\n",
    "nombre_recovered    16309\n",
    "Name: 521, dtype: int64"
   ]
  },
  {
   "cell_type": "markdown",
   "id": "7fa64668",
   "metadata": {},
   "source": [
    "nombre_infected      1143\n",
    "nombre_sain          1975\n",
    "nombre_exposed        558\n",
    "nombre_recovered    16324\n",
    "Name: 522, dtype: int64"
   ]
  },
  {
   "cell_type": "markdown",
   "id": "93ceabaa",
   "metadata": {},
   "source": [
    "nombre_infected      1118\n",
    "nombre_sain          1962\n",
    "nombre_exposed        583\n",
    "nombre_recovered    16337\n",
    "Name: 523, dtype: int64"
   ]
  },
  {
   "cell_type": "markdown",
   "id": "34e9a1fa",
   "metadata": {},
   "source": [
    "nombre_infected      1115\n",
    "nombre_sain          1957\n",
    "nombre_exposed        595\n",
    "nombre_recovered    16333\n",
    "Name: 524, dtype: int64"
   ]
  },
  {
   "cell_type": "markdown",
   "id": "304a5589",
   "metadata": {},
   "source": [
    "nombre_infected      1085\n",
    "nombre_sain          1952\n",
    "nombre_exposed        599\n",
    "nombre_recovered    16364\n",
    "Name: 525, dtype: int64"
   ]
  },
  {
   "cell_type": "markdown",
   "id": "53a41692",
   "metadata": {},
   "source": [
    "nombre_infected      1089\n",
    "nombre_sain          1955\n",
    "nombre_exposed        557\n",
    "nombre_recovered    16399\n",
    "Name: 526, dtype: int64"
   ]
  },
  {
   "cell_type": "markdown",
   "id": "c241490a",
   "metadata": {},
   "source": [
    "nombre_infected      1089\n",
    "nombre_sain          1946\n",
    "nombre_exposed        561\n",
    "nombre_recovered    16404\n",
    "Name: 527, dtype: int64"
   ]
  },
  {
   "cell_type": "markdown",
   "id": "054ee712",
   "metadata": {},
   "source": [
    "nombre_infected      1085\n",
    "nombre_sain          1920\n",
    "nombre_exposed        571\n",
    "nombre_recovered    16424\n",
    "Name: 528, dtype: int64"
   ]
  },
  {
   "cell_type": "markdown",
   "id": "054fe410",
   "metadata": {},
   "source": [
    "nombre_infected      1086\n",
    "nombre_sain          1922\n",
    "nombre_exposed        555\n",
    "nombre_recovered    16437\n",
    "Name: 529, dtype: int64"
   ]
  },
  {
   "cell_type": "markdown",
   "id": "5fadcb8a",
   "metadata": {},
   "source": [
    "nombre_infected      1062\n",
    "nombre_sain          1922\n",
    "nombre_exposed        550\n",
    "nombre_recovered    16466\n",
    "Name: 530, dtype: int64"
   ]
  },
  {
   "cell_type": "markdown",
   "id": "61d578e5",
   "metadata": {},
   "source": [
    "nombre_infected      1080\n",
    "nombre_sain          1924\n",
    "nombre_exposed        543\n",
    "nombre_recovered    16453\n",
    "Name: 531, dtype: int64"
   ]
  },
  {
   "cell_type": "markdown",
   "id": "c3c04b77",
   "metadata": {},
   "source": [
    "nombre_infected      1048\n",
    "nombre_sain          1921\n",
    "nombre_exposed        557\n",
    "nombre_recovered    16474\n",
    "Name: 532, dtype: int64"
   ]
  },
  {
   "cell_type": "markdown",
   "id": "c766b240",
   "metadata": {},
   "source": [
    "nombre_infected      1023\n",
    "nombre_sain          1901\n",
    "nombre_exposed        591\n",
    "nombre_recovered    16485\n",
    "Name: 533, dtype: int64"
   ]
  },
  {
   "cell_type": "markdown",
   "id": "371d9705",
   "metadata": {},
   "source": [
    "nombre_infected      1038\n",
    "nombre_sain          1868\n",
    "nombre_exposed        591\n",
    "nombre_recovered    16503\n",
    "Name: 534, dtype: int64"
   ]
  },
  {
   "cell_type": "markdown",
   "id": "3316b1fd",
   "metadata": {},
   "source": [
    "nombre_infected      1048\n",
    "nombre_sain          1868\n",
    "nombre_exposed        575\n",
    "nombre_recovered    16509\n",
    "Name: 535, dtype: int64"
   ]
  },
  {
   "cell_type": "markdown",
   "id": "9499d259",
   "metadata": {},
   "source": [
    "nombre_infected      1036\n",
    "nombre_sain          1847\n",
    "nombre_exposed        565\n",
    "nombre_recovered    16552\n",
    "Name: 536, dtype: int64"
   ]
  },
  {
   "cell_type": "markdown",
   "id": "b02381be",
   "metadata": {},
   "source": [
    "nombre_infected      1049\n",
    "nombre_sain          1835\n",
    "nombre_exposed        566\n",
    "nombre_recovered    16550\n",
    "Name: 537, dtype: int64"
   ]
  },
  {
   "cell_type": "markdown",
   "id": "fb819790",
   "metadata": {},
   "source": [
    "nombre_infected      1062\n",
    "nombre_sain          1846\n",
    "nombre_exposed        520\n",
    "nombre_recovered    16572\n",
    "Name: 538, dtype: int64"
   ]
  },
  {
   "cell_type": "markdown",
   "id": "0b400ca8",
   "metadata": {},
   "source": [
    "nombre_infected      1029\n",
    "nombre_sain          1826\n",
    "nombre_exposed        538\n",
    "nombre_recovered    16607\n",
    "Name: 539, dtype: int64"
   ]
  },
  {
   "cell_type": "markdown",
   "id": "9dd04aec",
   "metadata": {},
   "source": [
    "nombre_infected      1018\n",
    "nombre_sain          1819\n",
    "nombre_exposed        528\n",
    "nombre_recovered    16635\n",
    "Name: 540, dtype: int64"
   ]
  },
  {
   "cell_type": "markdown",
   "id": "6672e739",
   "metadata": {},
   "source": [
    "nombre_infected      1019\n",
    "nombre_sain          1814\n",
    "nombre_exposed        514\n",
    "nombre_recovered    16653\n",
    "Name: 541, dtype: int64"
   ]
  },
  {
   "cell_type": "markdown",
   "id": "5c46c746",
   "metadata": {},
   "source": [
    "nombre_infected      1011\n",
    "nombre_sain          1791\n",
    "nombre_exposed        518\n",
    "nombre_recovered    16680\n",
    "Name: 542, dtype: int64"
   ]
  },
  {
   "cell_type": "markdown",
   "id": "6cde246f",
   "metadata": {},
   "source": [
    "nombre_infected      1002\n",
    "nombre_sain          1798\n",
    "nombre_exposed        513\n",
    "nombre_recovered    16687\n",
    "Name: 543, dtype: int64"
   ]
  },
  {
   "cell_type": "markdown",
   "id": "29aeb734",
   "metadata": {},
   "source": [
    "nombre_infected      1003\n",
    "nombre_sain          1811\n",
    "nombre_exposed        494\n",
    "nombre_recovered    16692\n",
    "Name: 544, dtype: int64"
   ]
  },
  {
   "cell_type": "markdown",
   "id": "7daa9bbf",
   "metadata": {},
   "source": [
    "nombre_infected      1003\n",
    "nombre_sain          1826\n",
    "nombre_exposed        483\n",
    "nombre_recovered    16688\n",
    "Name: 545, dtype: int64"
   ]
  },
  {
   "cell_type": "markdown",
   "id": "e7ed197f",
   "metadata": {},
   "source": [
    "nombre_infected       968\n",
    "nombre_sain          1850\n",
    "nombre_exposed        472\n",
    "nombre_recovered    16710\n",
    "Name: 546, dtype: int64"
   ]
  },
  {
   "cell_type": "markdown",
   "id": "49ebdd6f",
   "metadata": {},
   "source": [
    "nombre_infected       959\n",
    "nombre_sain          1856\n",
    "nombre_exposed        485\n",
    "nombre_recovered    16700\n",
    "Name: 547, dtype: int64"
   ]
  },
  {
   "cell_type": "markdown",
   "id": "b223b02f",
   "metadata": {},
   "source": [
    "nombre_infected       946\n",
    "nombre_sain          1887\n",
    "nombre_exposed        477\n",
    "nombre_recovered    16690\n",
    "Name: 548, dtype: int64"
   ]
  },
  {
   "cell_type": "markdown",
   "id": "954ee253",
   "metadata": {},
   "source": [
    "nombre_infected       940\n",
    "nombre_sain          1893\n",
    "nombre_exposed        475\n",
    "nombre_recovered    16692\n",
    "Name: 549, dtype: int64"
   ]
  },
  {
   "cell_type": "markdown",
   "id": "09ae968d",
   "metadata": {},
   "source": [
    "nombre_infected       915\n",
    "nombre_sain          1902\n",
    "nombre_exposed        479\n",
    "nombre_recovered    16704\n",
    "Name: 550, dtype: int64"
   ]
  },
  {
   "cell_type": "markdown",
   "id": "a7a92ba9",
   "metadata": {},
   "source": [
    "nombre_infected       892\n",
    "nombre_sain          1912\n",
    "nombre_exposed        489\n",
    "nombre_recovered    16707\n",
    "Name: 551, dtype: int64"
   ]
  },
  {
   "cell_type": "markdown",
   "id": "02ccd018",
   "metadata": {},
   "source": [
    "nombre_infected       873\n",
    "nombre_sain          1945\n",
    "nombre_exposed        481\n",
    "nombre_recovered    16701\n",
    "Name: 552, dtype: int64"
   ]
  },
  {
   "cell_type": "markdown",
   "id": "72be6a80",
   "metadata": {},
   "source": [
    "nombre_infected       880\n",
    "nombre_sain          1962\n",
    "nombre_exposed        481\n",
    "nombre_recovered    16677\n",
    "Name: 553, dtype: int64"
   ]
  },
  {
   "cell_type": "markdown",
   "id": "06c94d40",
   "metadata": {},
   "source": [
    "nombre_infected       871\n",
    "nombre_sain          1979\n",
    "nombre_exposed        504\n",
    "nombre_recovered    16646\n",
    "Name: 554, dtype: int64"
   ]
  },
  {
   "cell_type": "markdown",
   "id": "6e44ce27",
   "metadata": {},
   "source": [
    "nombre_infected       876\n",
    "nombre_sain          1994\n",
    "nombre_exposed        513\n",
    "nombre_recovered    16617\n",
    "Name: 555, dtype: int64"
   ]
  },
  {
   "cell_type": "markdown",
   "id": "41366574",
   "metadata": {},
   "source": [
    "nombre_infected       899\n",
    "nombre_sain          2013\n",
    "nombre_exposed        496\n",
    "nombre_recovered    16592\n",
    "Name: 556, dtype: int64"
   ]
  },
  {
   "cell_type": "markdown",
   "id": "7ade8c8d",
   "metadata": {},
   "source": [
    "nombre_infected       905\n",
    "nombre_sain          2008\n",
    "nombre_exposed        497\n",
    "nombre_recovered    16590\n",
    "Name: 557, dtype: int64"
   ]
  },
  {
   "cell_type": "markdown",
   "id": "d1f4c7cb",
   "metadata": {},
   "source": [
    "nombre_infected       888\n",
    "nombre_sain          2031\n",
    "nombre_exposed        491\n",
    "nombre_recovered    16590\n",
    "Name: 558, dtype: int64"
   ]
  },
  {
   "cell_type": "markdown",
   "id": "029febe6",
   "metadata": {},
   "source": [
    "nombre_infected       871\n",
    "nombre_sain          2044\n",
    "nombre_exposed        493\n",
    "nombre_recovered    16592\n",
    "Name: 559, dtype: int64"
   ]
  },
  {
   "cell_type": "markdown",
   "id": "604e696d",
   "metadata": {},
   "source": [
    "nombre_infected       848\n",
    "nombre_sain          2041\n",
    "nombre_exposed        515\n",
    "nombre_recovered    16596\n",
    "Name: 560, dtype: int64"
   ]
  },
  {
   "cell_type": "markdown",
   "id": "c4a8cd72",
   "metadata": {},
   "source": [
    "nombre_infected       838\n",
    "nombre_sain          2039\n",
    "nombre_exposed        528\n",
    "nombre_recovered    16595\n",
    "Name: 561, dtype: int64"
   ]
  },
  {
   "cell_type": "markdown",
   "id": "c37e36a1",
   "metadata": {},
   "source": [
    "nombre_infected       853\n",
    "nombre_sain          2037\n",
    "nombre_exposed        523\n",
    "nombre_recovered    16587\n",
    "Name: 562, dtype: int64"
   ]
  },
  {
   "cell_type": "markdown",
   "id": "3ceb52f9",
   "metadata": {},
   "source": [
    "nombre_infected       842\n",
    "nombre_sain          2014\n",
    "nombre_exposed        548\n",
    "nombre_recovered    16596\n",
    "Name: 563, dtype: int64"
   ]
  },
  {
   "cell_type": "markdown",
   "id": "e38db3ed",
   "metadata": {},
   "source": [
    "nombre_infected       849\n",
    "nombre_sain          2039\n",
    "nombre_exposed        546\n",
    "nombre_recovered    16566\n",
    "Name: 564, dtype: int64"
   ]
  },
  {
   "cell_type": "markdown",
   "id": "9d3f5a21",
   "metadata": {},
   "source": [
    "nombre_infected       864\n",
    "nombre_sain          2044\n",
    "nombre_exposed        521\n",
    "nombre_recovered    16571\n",
    "Name: 565, dtype: int64"
   ]
  },
  {
   "cell_type": "markdown",
   "id": "17740028",
   "metadata": {},
   "source": [
    "nombre_infected       871\n",
    "nombre_sain          2030\n",
    "nombre_exposed        525\n",
    "nombre_recovered    16574\n",
    "Name: 566, dtype: int64"
   ]
  },
  {
   "cell_type": "markdown",
   "id": "ba11af50",
   "metadata": {},
   "source": [
    "nombre_infected       870\n",
    "nombre_sain          2047\n",
    "nombre_exposed        498\n",
    "nombre_recovered    16585\n",
    "Name: 567, dtype: int64"
   ]
  },
  {
   "cell_type": "markdown",
   "id": "690363bc",
   "metadata": {},
   "source": [
    "nombre_infected       868\n",
    "nombre_sain          2052\n",
    "nombre_exposed        505\n",
    "nombre_recovered    16575\n",
    "Name: 568, dtype: int64"
   ]
  },
  {
   "cell_type": "markdown",
   "id": "808e5f92",
   "metadata": {},
   "source": [
    "nombre_infected       897\n",
    "nombre_sain          2045\n",
    "nombre_exposed        502\n",
    "nombre_recovered    16556\n",
    "Name: 569, dtype: int64"
   ]
  },
  {
   "cell_type": "markdown",
   "id": "4cbcafa1",
   "metadata": {},
   "source": [
    "nombre_infected       883\n",
    "nombre_sain          2025\n",
    "nombre_exposed        522\n",
    "nombre_recovered    16570\n",
    "Name: 570, dtype: int64"
   ]
  },
  {
   "cell_type": "markdown",
   "id": "162a9dbe",
   "metadata": {},
   "source": [
    "nombre_infected       873\n",
    "nombre_sain          2044\n",
    "nombre_exposed        516\n",
    "nombre_recovered    16567\n",
    "Name: 571, dtype: int64"
   ]
  },
  {
   "cell_type": "markdown",
   "id": "29f1741d",
   "metadata": {},
   "source": [
    "nombre_infected       891\n",
    "nombre_sain          2020\n",
    "nombre_exposed        519\n",
    "nombre_recovered    16570\n",
    "Name: 572, dtype: int64"
   ]
  },
  {
   "cell_type": "markdown",
   "id": "8212af7c",
   "metadata": {},
   "source": [
    "nombre_infected       917\n",
    "nombre_sain          2006\n",
    "nombre_exposed        507\n",
    "nombre_recovered    16570\n",
    "Name: 573, dtype: int64"
   ]
  },
  {
   "cell_type": "markdown",
   "id": "310a7325",
   "metadata": {},
   "source": [
    "nombre_infected       905\n",
    "nombre_sain          2028\n",
    "nombre_exposed        504\n",
    "nombre_recovered    16563\n",
    "Name: 574, dtype: int64"
   ]
  },
  {
   "cell_type": "markdown",
   "id": "f22a55ea",
   "metadata": {},
   "source": [
    "nombre_infected       902\n",
    "nombre_sain          2020\n",
    "nombre_exposed        508\n",
    "nombre_recovered    16570\n",
    "Name: 575, dtype: int64"
   ]
  },
  {
   "cell_type": "markdown",
   "id": "1e3b4527",
   "metadata": {},
   "source": [
    "nombre_infected       897\n",
    "nombre_sain          2022\n",
    "nombre_exposed        508\n",
    "nombre_recovered    16573\n",
    "Name: 576, dtype: int64"
   ]
  },
  {
   "cell_type": "markdown",
   "id": "6c37de8d",
   "metadata": {},
   "source": [
    "nombre_infected       891\n",
    "nombre_sain          2083\n",
    "nombre_exposed        500\n",
    "nombre_recovered    16526\n",
    "Name: 577, dtype: int64"
   ]
  },
  {
   "cell_type": "markdown",
   "id": "4fca1d83",
   "metadata": {},
   "source": [
    "nombre_infected       908\n",
    "nombre_sain          2080\n",
    "nombre_exposed        508\n",
    "nombre_recovered    16504\n",
    "Name: 578, dtype: int64"
   ]
  },
  {
   "cell_type": "markdown",
   "id": "b57ea4e7",
   "metadata": {},
   "source": [
    "nombre_infected       882\n",
    "nombre_sain          2081\n",
    "nombre_exposed        522\n",
    "nombre_recovered    16515\n",
    "Name: 579, dtype: int64"
   ]
  },
  {
   "cell_type": "markdown",
   "id": "3228cb53",
   "metadata": {},
   "source": [
    "nombre_infected       913\n",
    "nombre_sain          2070\n",
    "nombre_exposed        505\n",
    "nombre_recovered    16512\n",
    "Name: 580, dtype: int64"
   ]
  },
  {
   "cell_type": "markdown",
   "id": "35eebe8a",
   "metadata": {},
   "source": [
    "nombre_infected       915\n",
    "nombre_sain          2079\n",
    "nombre_exposed        504\n",
    "nombre_recovered    16502\n",
    "Name: 581, dtype: int64"
   ]
  },
  {
   "cell_type": "markdown",
   "id": "9f08d05a",
   "metadata": {},
   "source": [
    "nombre_infected       931\n",
    "nombre_sain          2080\n",
    "nombre_exposed        492\n",
    "nombre_recovered    16497\n",
    "Name: 582, dtype: int64"
   ]
  },
  {
   "cell_type": "markdown",
   "id": "5dd2ecbf",
   "metadata": {},
   "source": [
    "nombre_infected       933\n",
    "nombre_sain          2081\n",
    "nombre_exposed        494\n",
    "nombre_recovered    16492\n",
    "Name: 583, dtype: int64"
   ]
  },
  {
   "cell_type": "markdown",
   "id": "7d3ef341",
   "metadata": {},
   "source": [
    "nombre_infected       914\n",
    "nombre_sain          2089\n",
    "nombre_exposed        501\n",
    "nombre_recovered    16496\n",
    "Name: 584, dtype: int64"
   ]
  },
  {
   "cell_type": "markdown",
   "id": "39ccf238",
   "metadata": {},
   "source": [
    "nombre_infected       911\n",
    "nombre_sain          2067\n",
    "nombre_exposed        524\n",
    "nombre_recovered    16498\n",
    "Name: 585, dtype: int64"
   ]
  },
  {
   "cell_type": "markdown",
   "id": "ef4339e6",
   "metadata": {},
   "source": [
    "nombre_infected       899\n",
    "nombre_sain          2063\n",
    "nombre_exposed        516\n",
    "nombre_recovered    16522\n",
    "Name: 586, dtype: int64"
   ]
  },
  {
   "cell_type": "markdown",
   "id": "6f3fda79",
   "metadata": {},
   "source": [
    "nombre_infected       920\n",
    "nombre_sain          2072\n",
    "nombre_exposed        494\n",
    "nombre_recovered    16514\n",
    "Name: 587, dtype: int64"
   ]
  },
  {
   "cell_type": "markdown",
   "id": "e338637d",
   "metadata": {},
   "source": [
    "nombre_infected       947\n",
    "nombre_sain          2054\n",
    "nombre_exposed        492\n",
    "nombre_recovered    16507\n",
    "Name: 588, dtype: int64"
   ]
  },
  {
   "cell_type": "markdown",
   "id": "66257134",
   "metadata": {},
   "source": [
    "nombre_infected       928\n",
    "nombre_sain          2079\n",
    "nombre_exposed        509\n",
    "nombre_recovered    16484\n",
    "Name: 589, dtype: int64"
   ]
  },
  {
   "cell_type": "markdown",
   "id": "dc5002e5",
   "metadata": {},
   "source": [
    "nombre_infected       942\n",
    "nombre_sain          2075\n",
    "nombre_exposed        503\n",
    "nombre_recovered    16480\n",
    "Name: 590, dtype: int64"
   ]
  },
  {
   "cell_type": "markdown",
   "id": "cbcbab7f",
   "metadata": {},
   "source": [
    "nombre_infected       939\n",
    "nombre_sain          2048\n",
    "nombre_exposed        521\n",
    "nombre_recovered    16492\n",
    "Name: 591, dtype: int64"
   ]
  },
  {
   "cell_type": "markdown",
   "id": "e41a75ce",
   "metadata": {},
   "source": [
    "nombre_infected       928\n",
    "nombre_sain          2052\n",
    "nombre_exposed        530\n",
    "nombre_recovered    16490\n",
    "Name: 592, dtype: int64"
   ]
  },
  {
   "cell_type": "markdown",
   "id": "d2056bfc",
   "metadata": {},
   "source": [
    "nombre_infected       925\n",
    "nombre_sain          2052\n",
    "nombre_exposed        524\n",
    "nombre_recovered    16499\n",
    "Name: 593, dtype: int64"
   ]
  },
  {
   "cell_type": "markdown",
   "id": "f6a71092",
   "metadata": {},
   "source": [
    "nombre_infected       907\n",
    "nombre_sain          2054\n",
    "nombre_exposed        513\n",
    "nombre_recovered    16526\n",
    "Name: 594, dtype: int64"
   ]
  },
  {
   "cell_type": "markdown",
   "id": "8150f403",
   "metadata": {},
   "source": [
    "nombre_infected       924\n",
    "nombre_sain          2052\n",
    "nombre_exposed        511\n",
    "nombre_recovered    16513\n",
    "Name: 595, dtype: int64"
   ]
  },
  {
   "cell_type": "markdown",
   "id": "478d51b7",
   "metadata": {},
   "source": [
    "nombre_infected       921\n",
    "nombre_sain          2052\n",
    "nombre_exposed        501\n",
    "nombre_recovered    16526\n",
    "Name: 596, dtype: int64"
   ]
  },
  {
   "cell_type": "markdown",
   "id": "1877ab61",
   "metadata": {},
   "source": [
    "nombre_infected       923\n",
    "nombre_sain          2037\n",
    "nombre_exposed        515\n",
    "nombre_recovered    16525\n",
    "Name: 597, dtype: int64"
   ]
  },
  {
   "cell_type": "markdown",
   "id": "0ab4a555",
   "metadata": {},
   "source": [
    "nombre_infected       941\n",
    "nombre_sain          2024\n",
    "nombre_exposed        505\n",
    "nombre_recovered    16530\n",
    "Name: 598, dtype: int64"
   ]
  },
  {
   "cell_type": "markdown",
   "id": "5cdf8922",
   "metadata": {},
   "source": [
    "nombre_infected       936\n",
    "nombre_sain          2035\n",
    "nombre_exposed        479\n",
    "nombre_recovered    16550\n",
    "Name: 599, dtype: int64"
   ]
  },
  {
   "cell_type": "markdown",
   "id": "919ce8f7",
   "metadata": {},
   "source": [
    "nombre_infected       916\n",
    "nombre_sain          2034\n",
    "nombre_exposed        496\n",
    "nombre_recovered    16554\n",
    "Name: 600, dtype: int64"
   ]
  },
  {
   "cell_type": "markdown",
   "id": "efe68d97",
   "metadata": {},
   "source": [
    "nombre_infected       893\n",
    "nombre_sain          2058\n",
    "nombre_exposed        483\n",
    "nombre_recovered    16566\n",
    "Name: 601, dtype: int64"
   ]
  },
  {
   "cell_type": "markdown",
   "id": "2e9341ab",
   "metadata": {},
   "source": [
    "nombre_infected       914\n",
    "nombre_sain          2074\n",
    "nombre_exposed        464\n",
    "nombre_recovered    16548\n",
    "Name: 602, dtype: int64"
   ]
  },
  {
   "cell_type": "markdown",
   "id": "8429bec6",
   "metadata": {},
   "source": [
    "nombre_infected       921\n",
    "nombre_sain          2079\n",
    "nombre_exposed        477\n",
    "nombre_recovered    16523\n",
    "Name: 603, dtype: int64"
   ]
  },
  {
   "cell_type": "markdown",
   "id": "fe6cd6e2",
   "metadata": {},
   "source": [
    "nombre_infected       898\n",
    "nombre_sain          2089\n",
    "nombre_exposed        485\n",
    "nombre_recovered    16528\n",
    "Name: 604, dtype: int64"
   ]
  },
  {
   "cell_type": "markdown",
   "id": "9bd30981",
   "metadata": {},
   "source": [
    "nombre_infected       881\n",
    "nombre_sain          2077\n",
    "nombre_exposed        504\n",
    "nombre_recovered    16538\n",
    "Name: 605, dtype: int64"
   ]
  },
  {
   "cell_type": "markdown",
   "id": "f4e9026a",
   "metadata": {},
   "source": [
    "nombre_infected       870\n",
    "nombre_sain          2065\n",
    "nombre_exposed        514\n",
    "nombre_recovered    16551\n",
    "Name: 606, dtype: int64"
   ]
  },
  {
   "cell_type": "markdown",
   "id": "f19439b7",
   "metadata": {},
   "source": [
    "nombre_infected       867\n",
    "nombre_sain          2092\n",
    "nombre_exposed        496\n",
    "nombre_recovered    16545\n",
    "Name: 607, dtype: int64"
   ]
  },
  {
   "cell_type": "markdown",
   "id": "9d8436f5",
   "metadata": {},
   "source": [
    "nombre_infected       876\n",
    "nombre_sain          2107\n",
    "nombre_exposed        475\n",
    "nombre_recovered    16542\n",
    "Name: 608, dtype: int64"
   ]
  },
  {
   "cell_type": "markdown",
   "id": "f7df4722",
   "metadata": {},
   "source": [
    "nombre_infected       863\n",
    "nombre_sain          2100\n",
    "nombre_exposed        485\n",
    "nombre_recovered    16552\n",
    "Name: 609, dtype: int64"
   ]
  },
  {
   "cell_type": "markdown",
   "id": "a1e1ae05",
   "metadata": {},
   "source": [
    "nombre_infected       867\n",
    "nombre_sain          2095\n",
    "nombre_exposed        499\n",
    "nombre_recovered    16539\n",
    "Name: 610, dtype: int64"
   ]
  },
  {
   "cell_type": "markdown",
   "id": "02a50db1",
   "metadata": {},
   "source": [
    "nombre_infected       846\n",
    "nombre_sain          2087\n",
    "nombre_exposed        524\n",
    "nombre_recovered    16543\n",
    "Name: 611, dtype: int64"
   ]
  },
  {
   "cell_type": "markdown",
   "id": "b77226ca",
   "metadata": {},
   "source": [
    "nombre_infected       848\n",
    "nombre_sain          2113\n",
    "nombre_exposed        515\n",
    "nombre_recovered    16524\n",
    "Name: 612, dtype: int64"
   ]
  },
  {
   "cell_type": "markdown",
   "id": "631a5d03",
   "metadata": {},
   "source": [
    "nombre_infected       855\n",
    "nombre_sain          2117\n",
    "nombre_exposed        489\n",
    "nombre_recovered    16539\n",
    "Name: 613, dtype: int64"
   ]
  },
  {
   "cell_type": "markdown",
   "id": "d25fd121",
   "metadata": {},
   "source": [
    "nombre_infected       861\n",
    "nombre_sain          2099\n",
    "nombre_exposed        491\n",
    "nombre_recovered    16549\n",
    "Name: 614, dtype: int64"
   ]
  },
  {
   "cell_type": "markdown",
   "id": "7c89f144",
   "metadata": {},
   "source": [
    "nombre_infected       854\n",
    "nombre_sain          2117\n",
    "nombre_exposed        485\n",
    "nombre_recovered    16544\n",
    "Name: 615, dtype: int64"
   ]
  },
  {
   "cell_type": "markdown",
   "id": "e4c038f2",
   "metadata": {},
   "source": [
    "nombre_infected       864\n",
    "nombre_sain          2124\n",
    "nombre_exposed        489\n",
    "nombre_recovered    16523\n",
    "Name: 616, dtype: int64"
   ]
  },
  {
   "cell_type": "markdown",
   "id": "0f51f133",
   "metadata": {},
   "source": [
    "nombre_infected       850\n",
    "nombre_sain          2094\n",
    "nombre_exposed        491\n",
    "nombre_recovered    16565\n",
    "Name: 617, dtype: int64"
   ]
  },
  {
   "cell_type": "markdown",
   "id": "72870319",
   "metadata": {},
   "source": [
    "nombre_infected       866\n",
    "nombre_sain          2071\n",
    "nombre_exposed        498\n",
    "nombre_recovered    16565\n",
    "Name: 618, dtype: int64"
   ]
  },
  {
   "cell_type": "markdown",
   "id": "5828360e",
   "metadata": {},
   "source": [
    "nombre_infected       874\n",
    "nombre_sain          2042\n",
    "nombre_exposed        485\n",
    "nombre_recovered    16599\n",
    "Name: 619, dtype: int64"
   ]
  },
  {
   "cell_type": "markdown",
   "id": "8223cfae",
   "metadata": {},
   "source": [
    "nombre_infected       900\n",
    "nombre_sain          2059\n",
    "nombre_exposed        448\n",
    "nombre_recovered    16593\n",
    "Name: 620, dtype: int64"
   ]
  },
  {
   "cell_type": "markdown",
   "id": "5d5d0413",
   "metadata": {},
   "source": [
    "nombre_infected       890\n",
    "nombre_sain          2067\n",
    "nombre_exposed        445\n",
    "nombre_recovered    16598\n",
    "Name: 621, dtype: int64"
   ]
  },
  {
   "cell_type": "markdown",
   "id": "42790956",
   "metadata": {},
   "source": [
    "nombre_infected       873\n",
    "nombre_sain          2047\n",
    "nombre_exposed        462\n",
    "nombre_recovered    16618\n",
    "Name: 622, dtype: int64"
   ]
  },
  {
   "cell_type": "markdown",
   "id": "042d8ad0",
   "metadata": {},
   "source": [
    "nombre_infected       879\n",
    "nombre_sain          2043\n",
    "nombre_exposed        470\n",
    "nombre_recovered    16608\n",
    "Name: 623, dtype: int64"
   ]
  },
  {
   "cell_type": "markdown",
   "id": "3a63ed4c",
   "metadata": {},
   "source": [
    "nombre_infected       869\n",
    "nombre_sain          2033\n",
    "nombre_exposed        475\n",
    "nombre_recovered    16623\n",
    "Name: 624, dtype: int64"
   ]
  },
  {
   "cell_type": "markdown",
   "id": "4641ccbd",
   "metadata": {},
   "source": [
    "nombre_infected       874\n",
    "nombre_sain          2023\n",
    "nombre_exposed        479\n",
    "nombre_recovered    16624\n",
    "Name: 625, dtype: int64"
   ]
  },
  {
   "cell_type": "markdown",
   "id": "720a6245",
   "metadata": {},
   "source": [
    "nombre_infected       849\n",
    "nombre_sain          2026\n",
    "nombre_exposed        489\n",
    "nombre_recovered    16636\n",
    "Name: 626, dtype: int64"
   ]
  },
  {
   "cell_type": "markdown",
   "id": "b45b35ed",
   "metadata": {},
   "source": [
    "nombre_infected       871\n",
    "nombre_sain          1996\n",
    "nombre_exposed        489\n",
    "nombre_recovered    16644\n",
    "Name: 627, dtype: int64"
   ]
  },
  {
   "cell_type": "markdown",
   "id": "0d89ed0e",
   "metadata": {},
   "source": [
    "nombre_infected       886\n",
    "nombre_sain          1998\n",
    "nombre_exposed        484\n",
    "nombre_recovered    16632\n",
    "Name: 628, dtype: int64"
   ]
  },
  {
   "cell_type": "markdown",
   "id": "ed8ac149",
   "metadata": {},
   "source": [
    "nombre_infected       861\n",
    "nombre_sain          1971\n",
    "nombre_exposed        484\n",
    "nombre_recovered    16684\n",
    "Name: 629, dtype: int64"
   ]
  },
  {
   "cell_type": "markdown",
   "id": "79e48337",
   "metadata": {},
   "source": [
    "nombre_infected       869\n",
    "nombre_sain          1958\n",
    "nombre_exposed        464\n",
    "nombre_recovered    16709\n",
    "Name: 630, dtype: int64"
   ]
  },
  {
   "cell_type": "markdown",
   "id": "a2b59aed",
   "metadata": {},
   "source": [
    "nombre_infected       855\n",
    "nombre_sain          1974\n",
    "nombre_exposed        459\n",
    "nombre_recovered    16712\n",
    "Name: 631, dtype: int64"
   ]
  },
  {
   "cell_type": "markdown",
   "id": "4d4de470",
   "metadata": {},
   "source": [
    "nombre_infected       855\n",
    "nombre_sain          1981\n",
    "nombre_exposed        442\n",
    "nombre_recovered    16722\n",
    "Name: 632, dtype: int64"
   ]
  },
  {
   "cell_type": "markdown",
   "id": "30abe4ee",
   "metadata": {},
   "source": [
    "nombre_infected       821\n",
    "nombre_sain          1986\n",
    "nombre_exposed        432\n",
    "nombre_recovered    16761\n",
    "Name: 633, dtype: int64"
   ]
  },
  {
   "cell_type": "markdown",
   "id": "d386fce7",
   "metadata": {},
   "source": [
    "nombre_infected       832\n",
    "nombre_sain          2024\n",
    "nombre_exposed        411\n",
    "nombre_recovered    16733\n",
    "Name: 634, dtype: int64"
   ]
  },
  {
   "cell_type": "markdown",
   "id": "3a583883",
   "metadata": {},
   "source": [
    "nombre_infected       820\n",
    "nombre_sain          2028\n",
    "nombre_exposed        406\n",
    "nombre_recovered    16746\n",
    "Name: 635, dtype: int64"
   ]
  },
  {
   "cell_type": "markdown",
   "id": "be4ad130",
   "metadata": {},
   "source": [
    "nombre_infected       801\n",
    "nombre_sain          2024\n",
    "nombre_exposed        433\n",
    "nombre_recovered    16742\n",
    "Name: 636, dtype: int64"
   ]
  },
  {
   "cell_type": "markdown",
   "id": "aef84580",
   "metadata": {},
   "source": [
    "nombre_infected       779\n",
    "nombre_sain          2059\n",
    "nombre_exposed        434\n",
    "nombre_recovered    16728\n",
    "Name: 637, dtype: int64"
   ]
  },
  {
   "cell_type": "markdown",
   "id": "ee936669",
   "metadata": {},
   "source": [
    "nombre_infected       784\n",
    "nombre_sain          2081\n",
    "nombre_exposed        419\n",
    "nombre_recovered    16716\n",
    "Name: 638, dtype: int64"
   ]
  },
  {
   "cell_type": "markdown",
   "id": "debb7948",
   "metadata": {},
   "source": [
    "nombre_infected       774\n",
    "nombre_sain          2110\n",
    "nombre_exposed        420\n",
    "nombre_recovered    16696\n",
    "Name: 639, dtype: int64"
   ]
  },
  {
   "cell_type": "markdown",
   "id": "97da489b",
   "metadata": {},
   "source": [
    "nombre_infected       766\n",
    "nombre_sain          2133\n",
    "nombre_exposed        437\n",
    "nombre_recovered    16664\n",
    "Name: 640, dtype: int64"
   ]
  },
  {
   "cell_type": "markdown",
   "id": "bde24112",
   "metadata": {},
   "source": [
    "nombre_infected       769\n",
    "nombre_sain          2141\n",
    "nombre_exposed        434\n",
    "nombre_recovered    16656\n",
    "Name: 641, dtype: int64"
   ]
  },
  {
   "cell_type": "markdown",
   "id": "5d307825",
   "metadata": {},
   "source": [
    "nombre_infected       763\n",
    "nombre_sain          2152\n",
    "nombre_exposed        423\n",
    "nombre_recovered    16662\n",
    "Name: 642, dtype: int64"
   ]
  },
  {
   "cell_type": "markdown",
   "id": "185d171a",
   "metadata": {},
   "source": [
    "nombre_infected       748\n",
    "nombre_sain          2169\n",
    "nombre_exposed        435\n",
    "nombre_recovered    16648\n",
    "Name: 643, dtype: int64"
   ]
  },
  {
   "cell_type": "markdown",
   "id": "b3e7c69a",
   "metadata": {},
   "source": [
    "nombre_infected       749\n",
    "nombre_sain          2173\n",
    "nombre_exposed        443\n",
    "nombre_recovered    16635\n",
    "Name: 644, dtype: int64"
   ]
  },
  {
   "cell_type": "markdown",
   "id": "3021834f",
   "metadata": {},
   "source": [
    "nombre_infected       773\n",
    "nombre_sain          2171\n",
    "nombre_exposed        446\n",
    "nombre_recovered    16610\n",
    "Name: 645, dtype: int64"
   ]
  },
  {
   "cell_type": "markdown",
   "id": "7e223b75",
   "metadata": {},
   "source": [
    "nombre_infected       798\n",
    "nombre_sain          2184\n",
    "nombre_exposed        439\n",
    "nombre_recovered    16579\n",
    "Name: 646, dtype: int64"
   ]
  },
  {
   "cell_type": "markdown",
   "id": "c3649659",
   "metadata": {},
   "source": [
    "nombre_infected       796\n",
    "nombre_sain          2181\n",
    "nombre_exposed        447\n",
    "nombre_recovered    16576\n",
    "Name: 647, dtype: int64"
   ]
  },
  {
   "cell_type": "markdown",
   "id": "f1c93403",
   "metadata": {},
   "source": [
    "nombre_infected       807\n",
    "nombre_sain          2195\n",
    "nombre_exposed        435\n",
    "nombre_recovered    16563\n",
    "Name: 648, dtype: int64"
   ]
  },
  {
   "cell_type": "markdown",
   "id": "46794f21",
   "metadata": {},
   "source": [
    "nombre_infected       797\n",
    "nombre_sain          2211\n",
    "nombre_exposed        427\n",
    "nombre_recovered    16565\n",
    "Name: 649, dtype: int64"
   ]
  },
  {
   "cell_type": "markdown",
   "id": "338ca6a8",
   "metadata": {},
   "source": [
    "nombre_infected       762\n",
    "nombre_sain          2207\n",
    "nombre_exposed        447\n",
    "nombre_recovered    16584\n",
    "Name: 650, dtype: int64"
   ]
  },
  {
   "cell_type": "markdown",
   "id": "b5582860",
   "metadata": {},
   "source": [
    "nombre_infected       765\n",
    "nombre_sain          2232\n",
    "nombre_exposed        454\n",
    "nombre_recovered    16549\n",
    "Name: 651, dtype: int64"
   ]
  },
  {
   "cell_type": "markdown",
   "id": "3e1a62a1",
   "metadata": {},
   "source": [
    "nombre_infected       777\n",
    "nombre_sain          2240\n",
    "nombre_exposed        458\n",
    "nombre_recovered    16525\n",
    "Name: 652, dtype: int64"
   ]
  },
  {
   "cell_type": "markdown",
   "id": "8012abe9",
   "metadata": {},
   "source": [
    "nombre_infected       791\n",
    "nombre_sain          2230\n",
    "nombre_exposed        468\n",
    "nombre_recovered    16511\n",
    "Name: 653, dtype: int64"
   ]
  },
  {
   "cell_type": "markdown",
   "id": "f0ffd031",
   "metadata": {},
   "source": [
    "nombre_infected       779\n",
    "nombre_sain          2240\n",
    "nombre_exposed        451\n",
    "nombre_recovered    16530\n",
    "Name: 654, dtype: int64"
   ]
  },
  {
   "cell_type": "markdown",
   "id": "0bec31c6",
   "metadata": {},
   "source": [
    "nombre_infected       791\n",
    "nombre_sain          2261\n",
    "nombre_exposed        439\n",
    "nombre_recovered    16509\n",
    "Name: 655, dtype: int64"
   ]
  },
  {
   "cell_type": "markdown",
   "id": "66c4bdea",
   "metadata": {},
   "source": [
    "nombre_infected       813\n",
    "nombre_sain          2271\n",
    "nombre_exposed        433\n",
    "nombre_recovered    16483\n",
    "Name: 656, dtype: int64"
   ]
  },
  {
   "cell_type": "markdown",
   "id": "f3a42701",
   "metadata": {},
   "source": [
    "nombre_infected       821\n",
    "nombre_sain          2268\n",
    "nombre_exposed        436\n",
    "nombre_recovered    16475\n",
    "Name: 657, dtype: int64"
   ]
  },
  {
   "cell_type": "markdown",
   "id": "ad24361f",
   "metadata": {},
   "source": [
    "nombre_infected       808\n",
    "nombre_sain          2277\n",
    "nombre_exposed        426\n",
    "nombre_recovered    16489\n",
    "Name: 658, dtype: int64"
   ]
  },
  {
   "cell_type": "markdown",
   "id": "f9e5a59a",
   "metadata": {},
   "source": [
    "nombre_infected       788\n",
    "nombre_sain          2269\n",
    "nombre_exposed        447\n",
    "nombre_recovered    16496\n",
    "Name: 659, dtype: int64"
   ]
  },
  {
   "cell_type": "markdown",
   "id": "b1bc1abe",
   "metadata": {},
   "source": [
    "nombre_infected       783\n",
    "nombre_sain          2241\n",
    "nombre_exposed        468\n",
    "nombre_recovered    16508\n",
    "Name: 660, dtype: int64"
   ]
  },
  {
   "cell_type": "markdown",
   "id": "5ec66ac7",
   "metadata": {},
   "source": [
    "nombre_infected       804\n",
    "nombre_sain          2240\n",
    "nombre_exposed        465\n",
    "nombre_recovered    16491\n",
    "Name: 661, dtype: int64"
   ]
  },
  {
   "cell_type": "markdown",
   "id": "f69068a5",
   "metadata": {},
   "source": [
    "nombre_infected       826\n",
    "nombre_sain          2236\n",
    "nombre_exposed        456\n",
    "nombre_recovered    16482\n",
    "Name: 662, dtype: int64"
   ]
  },
  {
   "cell_type": "markdown",
   "id": "01d97b3d",
   "metadata": {},
   "source": [
    "nombre_infected       836\n",
    "nombre_sain          2240\n",
    "nombre_exposed        449\n",
    "nombre_recovered    16475\n",
    "Name: 663, dtype: int64"
   ]
  },
  {
   "cell_type": "markdown",
   "id": "8c8a7a00",
   "metadata": {},
   "source": [
    "nombre_infected       816\n",
    "nombre_sain          2232\n",
    "nombre_exposed        460\n",
    "nombre_recovered    16492\n",
    "Name: 664, dtype: int64"
   ]
  },
  {
   "cell_type": "markdown",
   "id": "a7966ddb",
   "metadata": {},
   "source": [
    "nombre_infected       832\n",
    "nombre_sain          2239\n",
    "nombre_exposed        435\n",
    "nombre_recovered    16494\n",
    "Name: 665, dtype: int64"
   ]
  },
  {
   "cell_type": "markdown",
   "id": "232d1c9f",
   "metadata": {},
   "source": [
    "nombre_infected       847\n",
    "nombre_sain          2246\n",
    "nombre_exposed        430\n",
    "nombre_recovered    16477\n",
    "Name: 666, dtype: int64"
   ]
  },
  {
   "cell_type": "markdown",
   "id": "f0afeae5",
   "metadata": {},
   "source": [
    "nombre_infected       846\n",
    "nombre_sain          2226\n",
    "nombre_exposed        441\n",
    "nombre_recovered    16487\n",
    "Name: 667, dtype: int64"
   ]
  },
  {
   "cell_type": "markdown",
   "id": "23127d03",
   "metadata": {},
   "source": [
    "nombre_infected       839\n",
    "nombre_sain          2202\n",
    "nombre_exposed        458\n",
    "nombre_recovered    16501\n",
    "Name: 668, dtype: int64"
   ]
  },
  {
   "cell_type": "markdown",
   "id": "81ffac84",
   "metadata": {},
   "source": [
    "nombre_infected       838\n",
    "nombre_sain          2169\n",
    "nombre_exposed        492\n",
    "nombre_recovered    16501\n",
    "Name: 669, dtype: int64"
   ]
  },
  {
   "cell_type": "markdown",
   "id": "ba015bcd",
   "metadata": {},
   "source": [
    "nombre_infected       831\n",
    "nombre_sain          2144\n",
    "nombre_exposed        506\n",
    "nombre_recovered    16519\n",
    "Name: 670, dtype: int64"
   ]
  },
  {
   "cell_type": "markdown",
   "id": "9b0feff4",
   "metadata": {},
   "source": [
    "nombre_infected       870\n",
    "nombre_sain          2122\n",
    "nombre_exposed        480\n",
    "nombre_recovered    16528\n",
    "Name: 671, dtype: int64"
   ]
  },
  {
   "cell_type": "markdown",
   "id": "0d974109",
   "metadata": {},
   "source": [
    "nombre_infected       894\n",
    "nombre_sain          2108\n",
    "nombre_exposed        483\n",
    "nombre_recovered    16515\n",
    "Name: 672, dtype: int64"
   ]
  },
  {
   "cell_type": "markdown",
   "id": "deac7baa",
   "metadata": {},
   "source": [
    "nombre_infected       895\n",
    "nombre_sain          2116\n",
    "nombre_exposed        472\n",
    "nombre_recovered    16517\n",
    "Name: 673, dtype: int64"
   ]
  },
  {
   "cell_type": "markdown",
   "id": "3a80484a",
   "metadata": {},
   "source": [
    "nombre_infected       926\n",
    "nombre_sain          2093\n",
    "nombre_exposed        474\n",
    "nombre_recovered    16507\n",
    "Name: 674, dtype: int64"
   ]
  },
  {
   "cell_type": "markdown",
   "id": "fb44d96e",
   "metadata": {},
   "source": [
    "nombre_infected       925\n",
    "nombre_sain          2088\n",
    "nombre_exposed        474\n",
    "nombre_recovered    16513\n",
    "Name: 675, dtype: int64"
   ]
  },
  {
   "cell_type": "markdown",
   "id": "b9a05193",
   "metadata": {},
   "source": [
    "nombre_infected       907\n",
    "nombre_sain          2071\n",
    "nombre_exposed        508\n",
    "nombre_recovered    16514\n",
    "Name: 676, dtype: int64"
   ]
  },
  {
   "cell_type": "markdown",
   "id": "d4fe658b",
   "metadata": {},
   "source": [
    "nombre_infected       894\n",
    "nombre_sain          2069\n",
    "nombre_exposed        505\n",
    "nombre_recovered    16532\n",
    "Name: 677, dtype: int64"
   ]
  },
  {
   "cell_type": "markdown",
   "id": "110a0d3c",
   "metadata": {},
   "source": [
    "nombre_infected       918\n",
    "nombre_sain          2081\n",
    "nombre_exposed        484\n",
    "nombre_recovered    16517\n",
    "Name: 678, dtype: int64"
   ]
  },
  {
   "cell_type": "markdown",
   "id": "6acffd70",
   "metadata": {},
   "source": [
    "nombre_infected       927\n",
    "nombre_sain          2083\n",
    "nombre_exposed        475\n",
    "nombre_recovered    16515\n",
    "Name: 679, dtype: int64"
   ]
  },
  {
   "cell_type": "markdown",
   "id": "ca661a40",
   "metadata": {},
   "source": [
    "nombre_infected       922\n",
    "nombre_sain          2062\n",
    "nombre_exposed        484\n",
    "nombre_recovered    16532\n",
    "Name: 680, dtype: int64"
   ]
  },
  {
   "cell_type": "markdown",
   "id": "59c941ec",
   "metadata": {},
   "source": [
    "nombre_infected       929\n",
    "nombre_sain          2042\n",
    "nombre_exposed        511\n",
    "nombre_recovered    16518\n",
    "Name: 681, dtype: int64"
   ]
  },
  {
   "cell_type": "markdown",
   "id": "754d77c2",
   "metadata": {},
   "source": [
    "nombre_infected       934\n",
    "nombre_sain          2054\n",
    "nombre_exposed        504\n",
    "nombre_recovered    16508\n",
    "Name: 682, dtype: int64"
   ]
  },
  {
   "cell_type": "markdown",
   "id": "0584abbb",
   "metadata": {},
   "source": [
    "nombre_infected       915\n",
    "nombre_sain          2085\n",
    "nombre_exposed        491\n",
    "nombre_recovered    16509\n",
    "Name: 683, dtype: int64"
   ]
  },
  {
   "cell_type": "markdown",
   "id": "c044a175",
   "metadata": {},
   "source": [
    "nombre_infected       920\n",
    "nombre_sain          2079\n",
    "nombre_exposed        480\n",
    "nombre_recovered    16521\n",
    "Name: 684, dtype: int64"
   ]
  },
  {
   "cell_type": "markdown",
   "id": "d380c399",
   "metadata": {},
   "source": [
    "nombre_infected       936\n",
    "nombre_sain          2098\n",
    "nombre_exposed        470\n",
    "nombre_recovered    16496\n",
    "Name: 685, dtype: int64"
   ]
  },
  {
   "cell_type": "markdown",
   "id": "daefa3ec",
   "metadata": {},
   "source": [
    "nombre_infected       919\n",
    "nombre_sain          2087\n",
    "nombre_exposed        484\n",
    "nombre_recovered    16510\n",
    "Name: 686, dtype: int64"
   ]
  },
  {
   "cell_type": "markdown",
   "id": "f5142bf4",
   "metadata": {},
   "source": [
    "nombre_infected       911\n",
    "nombre_sain          2119\n",
    "nombre_exposed        462\n",
    "nombre_recovered    16508\n",
    "Name: 687, dtype: int64"
   ]
  },
  {
   "cell_type": "markdown",
   "id": "6cb533ad",
   "metadata": {},
   "source": [
    "nombre_infected       895\n",
    "nombre_sain          2140\n",
    "nombre_exposed        469\n",
    "nombre_recovered    16496\n",
    "Name: 688, dtype: int64"
   ]
  },
  {
   "cell_type": "markdown",
   "id": "561a11c8",
   "metadata": {},
   "source": [
    "nombre_infected       870\n",
    "nombre_sain          2157\n",
    "nombre_exposed        486\n",
    "nombre_recovered    16487\n",
    "Name: 689, dtype: int64"
   ]
  },
  {
   "cell_type": "markdown",
   "id": "b6402e89",
   "metadata": {},
   "source": [
    "nombre_infected       888\n",
    "nombre_sain          2165\n",
    "nombre_exposed        474\n",
    "nombre_recovered    16473\n",
    "Name: 690, dtype: int64"
   ]
  },
  {
   "cell_type": "markdown",
   "id": "0e01028c",
   "metadata": {},
   "source": [
    "nombre_infected       881\n",
    "nombre_sain          2139\n",
    "nombre_exposed        506\n",
    "nombre_recovered    16474\n",
    "Name: 691, dtype: int64"
   ]
  },
  {
   "cell_type": "markdown",
   "id": "b3a08c6e",
   "metadata": {},
   "source": [
    "nombre_infected       881\n",
    "nombre_sain          2144\n",
    "nombre_exposed        516\n",
    "nombre_recovered    16459\n",
    "Name: 692, dtype: int64"
   ]
  },
  {
   "cell_type": "markdown",
   "id": "ec554b2a",
   "metadata": {},
   "source": [
    "nombre_infected       894\n",
    "nombre_sain          2136\n",
    "nombre_exposed        527\n",
    "nombre_recovered    16443\n",
    "Name: 693, dtype: int64"
   ]
  },
  {
   "cell_type": "markdown",
   "id": "0b1f527a",
   "metadata": {},
   "source": [
    "nombre_infected       899\n",
    "nombre_sain          2136\n",
    "nombre_exposed        513\n",
    "nombre_recovered    16452\n",
    "Name: 694, dtype: int64"
   ]
  },
  {
   "cell_type": "markdown",
   "id": "03408f30",
   "metadata": {},
   "source": [
    "nombre_infected       897\n",
    "nombre_sain          2119\n",
    "nombre_exposed        509\n",
    "nombre_recovered    16475\n",
    "Name: 695, dtype: int64"
   ]
  },
  {
   "cell_type": "markdown",
   "id": "d655531c",
   "metadata": {},
   "source": [
    "nombre_infected       883\n",
    "nombre_sain          2141\n",
    "nombre_exposed        486\n",
    "nombre_recovered    16490\n",
    "Name: 696, dtype: int64"
   ]
  },
  {
   "cell_type": "markdown",
   "id": "af902df6",
   "metadata": {},
   "source": [
    "nombre_infected       901\n",
    "nombre_sain          2138\n",
    "nombre_exposed        475\n",
    "nombre_recovered    16486\n",
    "Name: 697, dtype: int64"
   ]
  },
  {
   "cell_type": "markdown",
   "id": "b3d3110f",
   "metadata": {},
   "source": [
    "nombre_infected       883\n",
    "nombre_sain          2127\n",
    "nombre_exposed        493\n",
    "nombre_recovered    16497\n",
    "Name: 698, dtype: int64"
   ]
  },
  {
   "cell_type": "markdown",
   "id": "926e4754",
   "metadata": {},
   "source": [
    "nombre_infected       870\n",
    "nombre_sain          2122\n",
    "nombre_exposed        506\n",
    "nombre_recovered    16502\n",
    "Name: 699, dtype: int64"
   ]
  },
  {
   "cell_type": "markdown",
   "id": "3b133489",
   "metadata": {},
   "source": [
    "nombre_infected       855\n",
    "nombre_sain          2122\n",
    "nombre_exposed        502\n",
    "nombre_recovered    16521\n",
    "Name: 700, dtype: int64"
   ]
  },
  {
   "cell_type": "markdown",
   "id": "b71d5299",
   "metadata": {},
   "source": [
    "nombre_infected       845\n",
    "nombre_sain          2118\n",
    "nombre_exposed        498\n",
    "nombre_recovered    16539\n",
    "Name: 701, dtype: int64"
   ]
  },
  {
   "cell_type": "markdown",
   "id": "69aac220",
   "metadata": {},
   "source": [
    "nombre_infected       848\n",
    "nombre_sain          2100\n",
    "nombre_exposed        502\n",
    "nombre_recovered    16550\n",
    "Name: 702, dtype: int64"
   ]
  },
  {
   "cell_type": "markdown",
   "id": "53ebf01c",
   "metadata": {},
   "source": [
    "nombre_infected       833\n",
    "nombre_sain          2075\n",
    "nombre_exposed        527\n",
    "nombre_recovered    16565\n",
    "Name: 703, dtype: int64"
   ]
  },
  {
   "cell_type": "markdown",
   "id": "784a8049",
   "metadata": {},
   "source": [
    "nombre_infected       827\n",
    "nombre_sain          2068\n",
    "nombre_exposed        533\n",
    "nombre_recovered    16572\n",
    "Name: 704, dtype: int64"
   ]
  },
  {
   "cell_type": "markdown",
   "id": "cb3188e7",
   "metadata": {},
   "source": [
    "nombre_infected       845\n",
    "nombre_sain          2064\n",
    "nombre_exposed        501\n",
    "nombre_recovered    16590\n",
    "Name: 705, dtype: int64"
   ]
  },
  {
   "cell_type": "markdown",
   "id": "63e2a4f1",
   "metadata": {},
   "source": [
    "nombre_infected       863\n",
    "nombre_sain          2043\n",
    "nombre_exposed        499\n",
    "nombre_recovered    16595\n",
    "Name: 706, dtype: int64"
   ]
  },
  {
   "cell_type": "markdown",
   "id": "d637a75f",
   "metadata": {},
   "source": [
    "nombre_infected       866\n",
    "nombre_sain          2048\n",
    "nombre_exposed        493\n",
    "nombre_recovered    16593\n",
    "Name: 707, dtype: int64"
   ]
  },
  {
   "cell_type": "markdown",
   "id": "d27e648b",
   "metadata": {},
   "source": [
    "nombre_infected       869\n",
    "nombre_sain          2055\n",
    "nombre_exposed        487\n",
    "nombre_recovered    16589\n",
    "Name: 708, dtype: int64"
   ]
  },
  {
   "cell_type": "markdown",
   "id": "47d03e6b",
   "metadata": {},
   "source": [
    "nombre_infected       867\n",
    "nombre_sain          2052\n",
    "nombre_exposed        492\n",
    "nombre_recovered    16589\n",
    "Name: 709, dtype: int64"
   ]
  },
  {
   "cell_type": "markdown",
   "id": "02b8a788",
   "metadata": {},
   "source": [
    "nombre_infected       849\n",
    "nombre_sain          2065\n",
    "nombre_exposed        488\n",
    "nombre_recovered    16598\n",
    "Name: 710, dtype: int64"
   ]
  },
  {
   "cell_type": "markdown",
   "id": "272c218f",
   "metadata": {},
   "source": [
    "nombre_infected       871\n",
    "nombre_sain          2057\n",
    "nombre_exposed        474\n",
    "nombre_recovered    16598\n",
    "Name: 711, dtype: int64"
   ]
  },
  {
   "cell_type": "markdown",
   "id": "23c6db35",
   "metadata": {},
   "source": [
    "nombre_infected       868\n",
    "nombre_sain          2063\n",
    "nombre_exposed        482\n",
    "nombre_recovered    16587\n",
    "Name: 712, dtype: int64"
   ]
  },
  {
   "cell_type": "markdown",
   "id": "c9075d55",
   "metadata": {},
   "source": [
    "nombre_infected       894\n",
    "nombre_sain          2077\n",
    "nombre_exposed        453\n",
    "nombre_recovered    16576\n",
    "Name: 713, dtype: int64"
   ]
  },
  {
   "cell_type": "markdown",
   "id": "788dce7c",
   "metadata": {},
   "source": [
    "nombre_infected       881\n",
    "nombre_sain          2088\n",
    "nombre_exposed        468\n",
    "nombre_recovered    16563\n",
    "Name: 714, dtype: int64"
   ]
  },
  {
   "cell_type": "markdown",
   "id": "a7bbcdf8",
   "metadata": {},
   "source": [
    "nombre_infected       874\n",
    "nombre_sain          2097\n",
    "nombre_exposed        460\n",
    "nombre_recovered    16569\n",
    "Name: 715, dtype: int64"
   ]
  },
  {
   "cell_type": "markdown",
   "id": "64140e8b",
   "metadata": {},
   "source": [
    "nombre_infected       870\n",
    "nombre_sain          2110\n",
    "nombre_exposed        456\n",
    "nombre_recovered    16564\n",
    "Name: 716, dtype: int64"
   ]
  },
  {
   "cell_type": "markdown",
   "id": "789a3ddc",
   "metadata": {},
   "source": [
    "nombre_infected       865\n",
    "nombre_sain          2105\n",
    "nombre_exposed        474\n",
    "nombre_recovered    16556\n",
    "Name: 717, dtype: int64"
   ]
  },
  {
   "cell_type": "markdown",
   "id": "f5de3765",
   "metadata": {},
   "source": [
    "nombre_infected       859\n",
    "nombre_sain          2120\n",
    "nombre_exposed        464\n",
    "nombre_recovered    16557\n",
    "Name: 718, dtype: int64"
   ]
  },
  {
   "cell_type": "markdown",
   "id": "765d0bf7",
   "metadata": {},
   "source": [
    "nombre_infected       862\n",
    "nombre_sain          2155\n",
    "nombre_exposed        459\n",
    "nombre_recovered    16524\n",
    "Name: 719, dtype: int64"
   ]
  },
  {
   "cell_type": "markdown",
   "id": "0e4fab9a",
   "metadata": {},
   "source": [
    "nombre_infected       859\n",
    "nombre_sain          2136\n",
    "nombre_exposed        473\n",
    "nombre_recovered    16532\n",
    "Name: 720, dtype: int64"
   ]
  },
  {
   "cell_type": "markdown",
   "id": "03a25d13",
   "metadata": {},
   "source": [
    "nombre_infected       833\n",
    "nombre_sain          2145\n",
    "nombre_exposed        483\n",
    "nombre_recovered    16539\n",
    "Name: 721, dtype: int64"
   ]
  },
  {
   "cell_type": "markdown",
   "id": "17402287",
   "metadata": {},
   "source": [
    "nombre_infected       824\n",
    "nombre_sain          2133\n",
    "nombre_exposed        497\n",
    "nombre_recovered    16546\n",
    "Name: 722, dtype: int64"
   ]
  },
  {
   "cell_type": "markdown",
   "id": "c51db209",
   "metadata": {},
   "source": [
    "nombre_infected       849\n",
    "nombre_sain          2130\n",
    "nombre_exposed        497\n",
    "nombre_recovered    16524\n",
    "Name: 723, dtype: int64"
   ]
  },
  {
   "cell_type": "markdown",
   "id": "c87c8671",
   "metadata": {},
   "source": [
    "nombre_infected       864\n",
    "nombre_sain          2148\n",
    "nombre_exposed        480\n",
    "nombre_recovered    16508\n",
    "Name: 724, dtype: int64"
   ]
  },
  {
   "cell_type": "markdown",
   "id": "f0a1afe5",
   "metadata": {},
   "source": [
    "nombre_infected       875\n",
    "nombre_sain          2161\n",
    "nombre_exposed        464\n",
    "nombre_recovered    16500\n",
    "Name: 725, dtype: int64"
   ]
  },
  {
   "cell_type": "markdown",
   "id": "d472c2fb",
   "metadata": {},
   "source": [
    "nombre_infected       874\n",
    "nombre_sain          2145\n",
    "nombre_exposed        473\n",
    "nombre_recovered    16508\n",
    "Name: 726, dtype: int64"
   ]
  },
  {
   "cell_type": "markdown",
   "id": "fe347340",
   "metadata": {},
   "source": [
    "nombre_infected       863\n",
    "nombre_sain          2141\n",
    "nombre_exposed        493\n",
    "nombre_recovered    16503\n",
    "Name: 727, dtype: int64"
   ]
  },
  {
   "cell_type": "markdown",
   "id": "dc2ac5f8",
   "metadata": {},
   "source": [
    "nombre_infected       839\n",
    "nombre_sain          2142\n",
    "nombre_exposed        504\n",
    "nombre_recovered    16515\n",
    "Name: 728, dtype: int64"
   ]
  },
  {
   "cell_type": "markdown",
   "id": "2f320821",
   "metadata": {},
   "source": [
    "nombre_infected       863\n",
    "nombre_sain          2134\n",
    "nombre_exposed        514\n",
    "nombre_recovered    16489\n",
    "Name: 729, dtype: int64"
   ]
  },
  {
   "cell_type": "markdown",
   "id": "49f3ff79",
   "metadata": {},
   "source": [
    "nombre_infected       881\n",
    "nombre_sain          2122\n",
    "nombre_exposed        508\n",
    "nombre_recovered    16489\n",
    "Name: 730, dtype: int64"
   ]
  }
 ],
 "metadata": {},
 "nbformat": 4,
 "nbformat_minor": 5
}
