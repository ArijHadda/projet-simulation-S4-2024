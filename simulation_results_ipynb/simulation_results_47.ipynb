{
 "cells": [
  {
   "cell_type": "markdown",
   "id": "fb10fc67",
   "metadata": {},
   "source": [
    "nombre_infected        20\n",
    "nombre_sain         19980\n",
    "nombre_exposed          0\n",
    "nombre_recovered        0\n",
    "Name: 0, dtype: int64"
   ]
  },
  {
   "cell_type": "markdown",
   "id": "bad37506",
   "metadata": {},
   "source": [
    "nombre_infected        20\n",
    "nombre_sain         19972\n",
    "nombre_exposed          8\n",
    "nombre_recovered        0\n",
    "Name: 1, dtype: int64"
   ]
  },
  {
   "cell_type": "markdown",
   "id": "65ec3668",
   "metadata": {},
   "source": [
    "nombre_infected        20\n",
    "nombre_sain         19949\n",
    "nombre_exposed         31\n",
    "nombre_recovered        0\n",
    "Name: 2, dtype: int64"
   ]
  },
  {
   "cell_type": "markdown",
   "id": "1ba22811",
   "metadata": {},
   "source": [
    "nombre_infected        23\n",
    "nombre_sain         19924\n",
    "nombre_exposed         53\n",
    "nombre_recovered        0\n",
    "Name: 3, dtype: int64"
   ]
  },
  {
   "cell_type": "markdown",
   "id": "075f6e4f",
   "metadata": {},
   "source": [
    "nombre_infected        34\n",
    "nombre_sain         19889\n",
    "nombre_exposed         77\n",
    "nombre_recovered        0\n",
    "Name: 4, dtype: int64"
   ]
  },
  {
   "cell_type": "markdown",
   "id": "4af509b0",
   "metadata": {},
   "source": [
    "nombre_infected        41\n",
    "nombre_sain         19833\n",
    "nombre_exposed        125\n",
    "nombre_recovered        1\n",
    "Name: 5, dtype: int64"
   ]
  },
  {
   "cell_type": "markdown",
   "id": "9e8a5625",
   "metadata": {},
   "source": [
    "nombre_infected        60\n",
    "nombre_sain         19767\n",
    "nombre_exposed        170\n",
    "nombre_recovered        3\n",
    "Name: 6, dtype: int64"
   ]
  },
  {
   "cell_type": "markdown",
   "id": "e90565f6",
   "metadata": {},
   "source": [
    "nombre_infected        86\n",
    "nombre_sain         19665\n",
    "nombre_exposed        243\n",
    "nombre_recovered        6\n",
    "Name: 7, dtype: int64"
   ]
  },
  {
   "cell_type": "markdown",
   "id": "69ebe623",
   "metadata": {},
   "source": [
    "nombre_infected       136\n",
    "nombre_sain         19529\n",
    "nombre_exposed        327\n",
    "nombre_recovered        8\n",
    "Name: 8, dtype: int64"
   ]
  },
  {
   "cell_type": "markdown",
   "id": "8ab7090b",
   "metadata": {},
   "source": [
    "nombre_infected       192\n",
    "nombre_sain         19343\n",
    "nombre_exposed        455\n",
    "nombre_recovered       10\n",
    "Name: 9, dtype: int64"
   ]
  },
  {
   "cell_type": "markdown",
   "id": "05e92357",
   "metadata": {},
   "source": [
    "nombre_infected       250\n",
    "nombre_sain         19061\n",
    "nombre_exposed        671\n",
    "nombre_recovered       18\n",
    "Name: 10, dtype: int64"
   ]
  },
  {
   "cell_type": "markdown",
   "id": "b4335bd4",
   "metadata": {},
   "source": [
    "nombre_infected       316\n",
    "nombre_sain         18744\n",
    "nombre_exposed        889\n",
    "nombre_recovered       51\n",
    "Name: 11, dtype: int64"
   ]
  },
  {
   "cell_type": "markdown",
   "id": "572fa78f",
   "metadata": {},
   "source": [
    "nombre_infected       454\n",
    "nombre_sain         18321\n",
    "nombre_exposed       1158\n",
    "nombre_recovered       67\n",
    "Name: 12, dtype: int64"
   ]
  },
  {
   "cell_type": "markdown",
   "id": "a793d922",
   "metadata": {},
   "source": [
    "nombre_infected       629\n",
    "nombre_sain         17726\n",
    "nombre_exposed       1548\n",
    "nombre_recovered       97\n",
    "Name: 13, dtype: int64"
   ]
  },
  {
   "cell_type": "markdown",
   "id": "d74f5791",
   "metadata": {},
   "source": [
    "nombre_infected       828\n",
    "nombre_sain         16931\n",
    "nombre_exposed       2094\n",
    "nombre_recovered      147\n",
    "Name: 14, dtype: int64"
   ]
  },
  {
   "cell_type": "markdown",
   "id": "485e05d1",
   "metadata": {},
   "source": [
    "nombre_infected      1126\n",
    "nombre_sain         15978\n",
    "nombre_exposed       2686\n",
    "nombre_recovered      210\n",
    "Name: 15, dtype: int64"
   ]
  },
  {
   "cell_type": "markdown",
   "id": "ad911dab",
   "metadata": {},
   "source": [
    "nombre_infected      1520\n",
    "nombre_sain         14759\n",
    "nombre_exposed       3425\n",
    "nombre_recovered      296\n",
    "Name: 16, dtype: int64"
   ]
  },
  {
   "cell_type": "markdown",
   "id": "3fe48f03",
   "metadata": {},
   "source": [
    "nombre_infected      2047\n",
    "nombre_sain         13331\n",
    "nombre_exposed       4217\n",
    "nombre_recovered      405\n",
    "Name: 17, dtype: int64"
   ]
  },
  {
   "cell_type": "markdown",
   "id": "a53b9c86",
   "metadata": {},
   "source": [
    "nombre_infected      2708\n",
    "nombre_sain         11700\n",
    "nombre_exposed       5042\n",
    "nombre_recovered      550\n",
    "Name: 18, dtype: int64"
   ]
  },
  {
   "cell_type": "markdown",
   "id": "32d25189",
   "metadata": {},
   "source": [
    "nombre_infected     3470\n",
    "nombre_sain         9841\n",
    "nombre_exposed      5935\n",
    "nombre_recovered     754\n",
    "Name: 19, dtype: int64"
   ]
  },
  {
   "cell_type": "markdown",
   "id": "3756b051",
   "metadata": {},
   "source": [
    "nombre_infected     4332\n",
    "nombre_sain         7957\n",
    "nombre_exposed      6719\n",
    "nombre_recovered     992\n",
    "Name: 20, dtype: int64"
   ]
  },
  {
   "cell_type": "markdown",
   "id": "c2cf3b9b",
   "metadata": {},
   "source": [
    "nombre_infected     5287\n",
    "nombre_sain         6242\n",
    "nombre_exposed      7088\n",
    "nombre_recovered    1383\n",
    "Name: 21, dtype: int64"
   ]
  },
  {
   "cell_type": "markdown",
   "id": "5b05446b",
   "metadata": {},
   "source": [
    "nombre_infected     6340\n",
    "nombre_sain         4719\n",
    "nombre_exposed      7118\n",
    "nombre_recovered    1823\n",
    "Name: 22, dtype: int64"
   ]
  },
  {
   "cell_type": "markdown",
   "id": "acc85a0a",
   "metadata": {},
   "source": [
    "nombre_infected     7417\n",
    "nombre_sain         3372\n",
    "nombre_exposed      6852\n",
    "nombre_recovered    2359\n",
    "Name: 23, dtype: int64"
   ]
  },
  {
   "cell_type": "markdown",
   "id": "e90ab70e",
   "metadata": {},
   "source": [
    "nombre_infected     8278\n",
    "nombre_sain         2384\n",
    "nombre_exposed      6312\n",
    "nombre_recovered    3026\n",
    "Name: 24, dtype: int64"
   ]
  },
  {
   "cell_type": "markdown",
   "id": "4f1ba70b",
   "metadata": {},
   "source": [
    "nombre_infected     9039\n",
    "nombre_sain         1621\n",
    "nombre_exposed      5523\n",
    "nombre_recovered    3817\n",
    "Name: 25, dtype: int64"
   ]
  },
  {
   "cell_type": "markdown",
   "id": "3fb4fcb4",
   "metadata": {},
   "source": [
    "nombre_infected     9426\n",
    "nombre_sain         1090\n",
    "nombre_exposed      4765\n",
    "nombre_recovered    4719\n",
    "Name: 26, dtype: int64"
   ]
  },
  {
   "cell_type": "markdown",
   "id": "03b01b53",
   "metadata": {},
   "source": [
    "nombre_infected     9603\n",
    "nombre_sain          748\n",
    "nombre_exposed      3959\n",
    "nombre_recovered    5690\n",
    "Name: 27, dtype: int64"
   ]
  },
  {
   "cell_type": "markdown",
   "id": "85eb8e0d",
   "metadata": {},
   "source": [
    "nombre_infected     9598\n",
    "nombre_sain          503\n",
    "nombre_exposed      3180\n",
    "nombre_recovered    6719\n",
    "Name: 28, dtype: int64"
   ]
  },
  {
   "cell_type": "markdown",
   "id": "2040a321",
   "metadata": {},
   "source": [
    "nombre_infected     9328\n",
    "nombre_sain          356\n",
    "nombre_exposed      2504\n",
    "nombre_recovered    7812\n",
    "Name: 29, dtype: int64"
   ]
  },
  {
   "cell_type": "markdown",
   "id": "df30ca73",
   "metadata": {},
   "source": [
    "nombre_infected     8903\n",
    "nombre_sain          232\n",
    "nombre_exposed      1996\n",
    "nombre_recovered    8869\n",
    "Name: 30, dtype: int64"
   ]
  },
  {
   "cell_type": "markdown",
   "id": "b2e916ad",
   "metadata": {},
   "source": [
    "nombre_infected     8351\n",
    "nombre_sain          204\n",
    "nombre_exposed      1510\n",
    "nombre_recovered    9935\n",
    "Name: 31, dtype: int64"
   ]
  },
  {
   "cell_type": "markdown",
   "id": "dfa402f3",
   "metadata": {},
   "source": [
    "nombre_infected      7761\n",
    "nombre_sain           182\n",
    "nombre_exposed       1116\n",
    "nombre_recovered    10941\n",
    "Name: 32, dtype: int64"
   ]
  },
  {
   "cell_type": "markdown",
   "id": "557f1d90",
   "metadata": {},
   "source": [
    "nombre_infected      7091\n",
    "nombre_sain           163\n",
    "nombre_exposed        856\n",
    "nombre_recovered    11890\n",
    "Name: 33, dtype: int64"
   ]
  },
  {
   "cell_type": "markdown",
   "id": "c7e1d4da",
   "metadata": {},
   "source": [
    "nombre_infected      6415\n",
    "nombre_sain           158\n",
    "nombre_exposed        655\n",
    "nombre_recovered    12772\n",
    "Name: 34, dtype: int64"
   ]
  },
  {
   "cell_type": "markdown",
   "id": "49af9376",
   "metadata": {},
   "source": [
    "nombre_infected      5769\n",
    "nombre_sain           165\n",
    "nombre_exposed        487\n",
    "nombre_recovered    13579\n",
    "Name: 35, dtype: int64"
   ]
  },
  {
   "cell_type": "markdown",
   "id": "607a0c22",
   "metadata": {},
   "source": [
    "nombre_infected      5166\n",
    "nombre_sain           163\n",
    "nombre_exposed        396\n",
    "nombre_recovered    14275\n",
    "Name: 36, dtype: int64"
   ]
  },
  {
   "cell_type": "markdown",
   "id": "c56a2c99",
   "metadata": {},
   "source": [
    "nombre_infected      4625\n",
    "nombre_sain           166\n",
    "nombre_exposed        320\n",
    "nombre_recovered    14889\n",
    "Name: 37, dtype: int64"
   ]
  },
  {
   "cell_type": "markdown",
   "id": "56677161",
   "metadata": {},
   "source": [
    "nombre_infected      4147\n",
    "nombre_sain           177\n",
    "nombre_exposed        252\n",
    "nombre_recovered    15424\n",
    "Name: 38, dtype: int64"
   ]
  },
  {
   "cell_type": "markdown",
   "id": "3a8f55e4",
   "metadata": {},
   "source": [
    "nombre_infected      3677\n",
    "nombre_sain           190\n",
    "nombre_exposed        198\n",
    "nombre_recovered    15935\n",
    "Name: 39, dtype: int64"
   ]
  },
  {
   "cell_type": "markdown",
   "id": "7dbe10bf",
   "metadata": {},
   "source": [
    "nombre_infected      3266\n",
    "nombre_sain           213\n",
    "nombre_exposed        164\n",
    "nombre_recovered    16357\n",
    "Name: 40, dtype: int64"
   ]
  },
  {
   "cell_type": "markdown",
   "id": "c6a8b69c",
   "metadata": {},
   "source": [
    "nombre_infected      2940\n",
    "nombre_sain           221\n",
    "nombre_exposed        130\n",
    "nombre_recovered    16709\n",
    "Name: 41, dtype: int64"
   ]
  },
  {
   "cell_type": "markdown",
   "id": "35230536",
   "metadata": {},
   "source": [
    "nombre_infected      2643\n",
    "nombre_sain           246\n",
    "nombre_exposed        118\n",
    "nombre_recovered    16993\n",
    "Name: 42, dtype: int64"
   ]
  },
  {
   "cell_type": "markdown",
   "id": "75c63ea7",
   "metadata": {},
   "source": [
    "nombre_infected      2337\n",
    "nombre_sain           273\n",
    "nombre_exposed        105\n",
    "nombre_recovered    17285\n",
    "Name: 43, dtype: int64"
   ]
  },
  {
   "cell_type": "markdown",
   "id": "88b6217a",
   "metadata": {},
   "source": [
    "nombre_infected      2053\n",
    "nombre_sain           277\n",
    "nombre_exposed        114\n",
    "nombre_recovered    17556\n",
    "Name: 44, dtype: int64"
   ]
  },
  {
   "cell_type": "markdown",
   "id": "99005a31",
   "metadata": {},
   "source": [
    "nombre_infected      1799\n",
    "nombre_sain           291\n",
    "nombre_exposed        112\n",
    "nombre_recovered    17798\n",
    "Name: 45, dtype: int64"
   ]
  },
  {
   "cell_type": "markdown",
   "id": "bfcde723",
   "metadata": {},
   "source": [
    "nombre_infected      1555\n",
    "nombre_sain           321\n",
    "nombre_exposed        105\n",
    "nombre_recovered    18019\n",
    "Name: 46, dtype: int64"
   ]
  },
  {
   "cell_type": "markdown",
   "id": "5c0b702e",
   "metadata": {},
   "source": [
    "nombre_infected      1362\n",
    "nombre_sain           351\n",
    "nombre_exposed        100\n",
    "nombre_recovered    18187\n",
    "Name: 47, dtype: int64"
   ]
  },
  {
   "cell_type": "markdown",
   "id": "19a8ba98",
   "metadata": {},
   "source": [
    "nombre_infected      1164\n",
    "nombre_sain           358\n",
    "nombre_exposed        116\n",
    "nombre_recovered    18362\n",
    "Name: 48, dtype: int64"
   ]
  },
  {
   "cell_type": "markdown",
   "id": "a706e9d3",
   "metadata": {},
   "source": [
    "nombre_infected      1005\n",
    "nombre_sain           389\n",
    "nombre_exposed        110\n",
    "nombre_recovered    18496\n",
    "Name: 49, dtype: int64"
   ]
  },
  {
   "cell_type": "markdown",
   "id": "92d7faf9",
   "metadata": {},
   "source": [
    "nombre_infected       862\n",
    "nombre_sain           420\n",
    "nombre_exposed        102\n",
    "nombre_recovered    18616\n",
    "Name: 50, dtype: int64"
   ]
  },
  {
   "cell_type": "markdown",
   "id": "c26f215a",
   "metadata": {},
   "source": [
    "nombre_infected       747\n",
    "nombre_sain           458\n",
    "nombre_exposed         90\n",
    "nombre_recovered    18705\n",
    "Name: 51, dtype: int64"
   ]
  },
  {
   "cell_type": "markdown",
   "id": "d580dd90",
   "metadata": {},
   "source": [
    "nombre_infected       653\n",
    "nombre_sain           509\n",
    "nombre_exposed         74\n",
    "nombre_recovered    18764\n",
    "Name: 52, dtype: int64"
   ]
  },
  {
   "cell_type": "markdown",
   "id": "5824fa85",
   "metadata": {},
   "source": [
    "nombre_infected       583\n",
    "nombre_sain           560\n",
    "nombre_exposed         74\n",
    "nombre_recovered    18783\n",
    "Name: 53, dtype: int64"
   ]
  },
  {
   "cell_type": "markdown",
   "id": "bdb2ee7a",
   "metadata": {},
   "source": [
    "nombre_infected       514\n",
    "nombre_sain           610\n",
    "nombre_exposed         74\n",
    "nombre_recovered    18802\n",
    "Name: 54, dtype: int64"
   ]
  },
  {
   "cell_type": "markdown",
   "id": "3fafd9b4",
   "metadata": {},
   "source": [
    "nombre_infected       452\n",
    "nombre_sain           652\n",
    "nombre_exposed         65\n",
    "nombre_recovered    18831\n",
    "Name: 55, dtype: int64"
   ]
  },
  {
   "cell_type": "markdown",
   "id": "0badd99d",
   "metadata": {},
   "source": [
    "nombre_infected       406\n",
    "nombre_sain           708\n",
    "nombre_exposed         64\n",
    "nombre_recovered    18822\n",
    "Name: 56, dtype: int64"
   ]
  },
  {
   "cell_type": "markdown",
   "id": "fc1b67ce",
   "metadata": {},
   "source": [
    "nombre_infected       358\n",
    "nombre_sain           754\n",
    "nombre_exposed         62\n",
    "nombre_recovered    18826\n",
    "Name: 57, dtype: int64"
   ]
  },
  {
   "cell_type": "markdown",
   "id": "5179d894",
   "metadata": {},
   "source": [
    "nombre_infected       320\n",
    "nombre_sain           808\n",
    "nombre_exposed         60\n",
    "nombre_recovered    18812\n",
    "Name: 58, dtype: int64"
   ]
  },
  {
   "cell_type": "markdown",
   "id": "69bc5cc9",
   "metadata": {},
   "source": [
    "nombre_infected       279\n",
    "nombre_sain           873\n",
    "nombre_exposed         58\n",
    "nombre_recovered    18790\n",
    "Name: 59, dtype: int64"
   ]
  },
  {
   "cell_type": "markdown",
   "id": "51d6b79d",
   "metadata": {},
   "source": [
    "nombre_infected       242\n",
    "nombre_sain           927\n",
    "nombre_exposed         56\n",
    "nombre_recovered    18775\n",
    "Name: 60, dtype: int64"
   ]
  },
  {
   "cell_type": "markdown",
   "id": "5c163a33",
   "metadata": {},
   "source": [
    "nombre_infected       203\n",
    "nombre_sain           992\n",
    "nombre_exposed         52\n",
    "nombre_recovered    18753\n",
    "Name: 61, dtype: int64"
   ]
  },
  {
   "cell_type": "markdown",
   "id": "2bbd037e",
   "metadata": {},
   "source": [
    "nombre_infected       176\n",
    "nombre_sain          1045\n",
    "nombre_exposed         51\n",
    "nombre_recovered    18728\n",
    "Name: 62, dtype: int64"
   ]
  },
  {
   "cell_type": "markdown",
   "id": "c575a198",
   "metadata": {},
   "source": [
    "nombre_infected       156\n",
    "nombre_sain          1090\n",
    "nombre_exposed         49\n",
    "nombre_recovered    18705\n",
    "Name: 63, dtype: int64"
   ]
  },
  {
   "cell_type": "markdown",
   "id": "79776159",
   "metadata": {},
   "source": [
    "nombre_infected       137\n",
    "nombre_sain          1154\n",
    "nombre_exposed         42\n",
    "nombre_recovered    18667\n",
    "Name: 64, dtype: int64"
   ]
  },
  {
   "cell_type": "markdown",
   "id": "8d105f14",
   "metadata": {},
   "source": [
    "nombre_infected       127\n",
    "nombre_sain          1212\n",
    "nombre_exposed         37\n",
    "nombre_recovered    18624\n",
    "Name: 65, dtype: int64"
   ]
  },
  {
   "cell_type": "markdown",
   "id": "423bb0a6",
   "metadata": {},
   "source": [
    "nombre_infected       108\n",
    "nombre_sain          1265\n",
    "nombre_exposed         37\n",
    "nombre_recovered    18590\n",
    "Name: 66, dtype: int64"
   ]
  },
  {
   "cell_type": "markdown",
   "id": "28eb0cc8",
   "metadata": {},
   "source": [
    "nombre_infected        88\n",
    "nombre_sain          1341\n",
    "nombre_exposed         34\n",
    "nombre_recovered    18537\n",
    "Name: 67, dtype: int64"
   ]
  },
  {
   "cell_type": "markdown",
   "id": "257b0ec6",
   "metadata": {},
   "source": [
    "nombre_infected        84\n",
    "nombre_sain          1401\n",
    "nombre_exposed         32\n",
    "nombre_recovered    18483\n",
    "Name: 68, dtype: int64"
   ]
  },
  {
   "cell_type": "markdown",
   "id": "353bd2db",
   "metadata": {},
   "source": [
    "nombre_infected        81\n",
    "nombre_sain          1465\n",
    "nombre_exposed         33\n",
    "nombre_recovered    18421\n",
    "Name: 69, dtype: int64"
   ]
  },
  {
   "cell_type": "markdown",
   "id": "65cd1f63",
   "metadata": {},
   "source": [
    "nombre_infected        81\n",
    "nombre_sain          1514\n",
    "nombre_exposed         29\n",
    "nombre_recovered    18376\n",
    "Name: 70, dtype: int64"
   ]
  },
  {
   "cell_type": "markdown",
   "id": "423b6a86",
   "metadata": {},
   "source": [
    "nombre_infected        73\n",
    "nombre_sain          1564\n",
    "nombre_exposed         25\n",
    "nombre_recovered    18338\n",
    "Name: 71, dtype: int64"
   ]
  },
  {
   "cell_type": "markdown",
   "id": "12c87c6b",
   "metadata": {},
   "source": [
    "nombre_infected        69\n",
    "nombre_sain          1605\n",
    "nombre_exposed         24\n",
    "nombre_recovered    18302\n",
    "Name: 72, dtype: int64"
   ]
  },
  {
   "cell_type": "markdown",
   "id": "9660fad7",
   "metadata": {},
   "source": [
    "nombre_infected        60\n",
    "nombre_sain          1652\n",
    "nombre_exposed         25\n",
    "nombre_recovered    18263\n",
    "Name: 73, dtype: int64"
   ]
  },
  {
   "cell_type": "markdown",
   "id": "9fdd2e72",
   "metadata": {},
   "source": [
    "nombre_infected        59\n",
    "nombre_sain          1694\n",
    "nombre_exposed         28\n",
    "nombre_recovered    18219\n",
    "Name: 74, dtype: int64"
   ]
  },
  {
   "cell_type": "markdown",
   "id": "a12c16ee",
   "metadata": {},
   "source": [
    "nombre_infected        59\n",
    "nombre_sain          1727\n",
    "nombre_exposed         28\n",
    "nombre_recovered    18186\n",
    "Name: 75, dtype: int64"
   ]
  },
  {
   "cell_type": "markdown",
   "id": "6329e519",
   "metadata": {},
   "source": [
    "nombre_infected        60\n",
    "nombre_sain          1771\n",
    "nombre_exposed         24\n",
    "nombre_recovered    18145\n",
    "Name: 76, dtype: int64"
   ]
  },
  {
   "cell_type": "markdown",
   "id": "08ad78c4",
   "metadata": {},
   "source": [
    "nombre_infected        51\n",
    "nombre_sain          1813\n",
    "nombre_exposed         26\n",
    "nombre_recovered    18110\n",
    "Name: 77, dtype: int64"
   ]
  },
  {
   "cell_type": "markdown",
   "id": "b2429a13",
   "metadata": {},
   "source": [
    "nombre_infected        53\n",
    "nombre_sain          1855\n",
    "nombre_exposed         22\n",
    "nombre_recovered    18070\n",
    "Name: 78, dtype: int64"
   ]
  },
  {
   "cell_type": "markdown",
   "id": "ebed01c5",
   "metadata": {},
   "source": [
    "nombre_infected        49\n",
    "nombre_sain          1898\n",
    "nombre_exposed         24\n",
    "nombre_recovered    18029\n",
    "Name: 79, dtype: int64"
   ]
  },
  {
   "cell_type": "markdown",
   "id": "01408b39",
   "metadata": {},
   "source": [
    "nombre_infected        48\n",
    "nombre_sain          1932\n",
    "nombre_exposed         24\n",
    "nombre_recovered    17996\n",
    "Name: 80, dtype: int64"
   ]
  },
  {
   "cell_type": "markdown",
   "id": "cef9627f",
   "metadata": {},
   "source": [
    "nombre_infected        49\n",
    "nombre_sain          1967\n",
    "nombre_exposed         26\n",
    "nombre_recovered    17958\n",
    "Name: 81, dtype: int64"
   ]
  },
  {
   "cell_type": "markdown",
   "id": "9fba0307",
   "metadata": {},
   "source": [
    "nombre_infected        45\n",
    "nombre_sain          1993\n",
    "nombre_exposed         26\n",
    "nombre_recovered    17936\n",
    "Name: 82, dtype: int64"
   ]
  },
  {
   "cell_type": "markdown",
   "id": "bb7f57a2",
   "metadata": {},
   "source": [
    "nombre_infected        49\n",
    "nombre_sain          2026\n",
    "nombre_exposed         25\n",
    "nombre_recovered    17900\n",
    "Name: 83, dtype: int64"
   ]
  },
  {
   "cell_type": "markdown",
   "id": "1b500394",
   "metadata": {},
   "source": [
    "nombre_infected        49\n",
    "nombre_sain          2062\n",
    "nombre_exposed         29\n",
    "nombre_recovered    17860\n",
    "Name: 84, dtype: int64"
   ]
  },
  {
   "cell_type": "markdown",
   "id": "a2aba6a6",
   "metadata": {},
   "source": [
    "nombre_infected        54\n",
    "nombre_sain          2091\n",
    "nombre_exposed         26\n",
    "nombre_recovered    17829\n",
    "Name: 85, dtype: int64"
   ]
  },
  {
   "cell_type": "markdown",
   "id": "f2b62e35",
   "metadata": {},
   "source": [
    "nombre_infected        59\n",
    "nombre_sain          2114\n",
    "nombre_exposed         23\n",
    "nombre_recovered    17804\n",
    "Name: 86, dtype: int64"
   ]
  },
  {
   "cell_type": "markdown",
   "id": "2c0658f1",
   "metadata": {},
   "source": [
    "nombre_infected        57\n",
    "nombre_sain          2137\n",
    "nombre_exposed         30\n",
    "nombre_recovered    17776\n",
    "Name: 87, dtype: int64"
   ]
  },
  {
   "cell_type": "markdown",
   "id": "36ed70e8",
   "metadata": {},
   "source": [
    "nombre_infected        59\n",
    "nombre_sain          2162\n",
    "nombre_exposed         29\n",
    "nombre_recovered    17750\n",
    "Name: 88, dtype: int64"
   ]
  },
  {
   "cell_type": "markdown",
   "id": "5870c56a",
   "metadata": {},
   "source": [
    "nombre_infected        55\n",
    "nombre_sain          2190\n",
    "nombre_exposed         28\n",
    "nombre_recovered    17727\n",
    "Name: 89, dtype: int64"
   ]
  },
  {
   "cell_type": "markdown",
   "id": "6129f86c",
   "metadata": {},
   "source": [
    "nombre_infected        54\n",
    "nombre_sain          2223\n",
    "nombre_exposed         32\n",
    "nombre_recovered    17691\n",
    "Name: 90, dtype: int64"
   ]
  },
  {
   "cell_type": "markdown",
   "id": "60df0337",
   "metadata": {},
   "source": [
    "nombre_infected        51\n",
    "nombre_sain          2262\n",
    "nombre_exposed         32\n",
    "nombre_recovered    17655\n",
    "Name: 91, dtype: int64"
   ]
  },
  {
   "cell_type": "markdown",
   "id": "021673e4",
   "metadata": {},
   "source": [
    "nombre_infected        50\n",
    "nombre_sain          2309\n",
    "nombre_exposed         30\n",
    "nombre_recovered    17611\n",
    "Name: 92, dtype: int64"
   ]
  },
  {
   "cell_type": "markdown",
   "id": "7a97bd92",
   "metadata": {},
   "source": [
    "nombre_infected        52\n",
    "nombre_sain          2371\n",
    "nombre_exposed         28\n",
    "nombre_recovered    17549\n",
    "Name: 93, dtype: int64"
   ]
  },
  {
   "cell_type": "markdown",
   "id": "7ad39d18",
   "metadata": {},
   "source": [
    "nombre_infected        52\n",
    "nombre_sain          2446\n",
    "nombre_exposed         31\n",
    "nombre_recovered    17471\n",
    "Name: 94, dtype: int64"
   ]
  },
  {
   "cell_type": "markdown",
   "id": "e89b8ca6",
   "metadata": {},
   "source": [
    "nombre_infected        48\n",
    "nombre_sain          2503\n",
    "nombre_exposed         33\n",
    "nombre_recovered    17416\n",
    "Name: 95, dtype: int64"
   ]
  },
  {
   "cell_type": "markdown",
   "id": "16baefe3",
   "metadata": {},
   "source": [
    "nombre_infected        50\n",
    "nombre_sain          2560\n",
    "nombre_exposed         34\n",
    "nombre_recovered    17356\n",
    "Name: 96, dtype: int64"
   ]
  },
  {
   "cell_type": "markdown",
   "id": "cdc8f37f",
   "metadata": {},
   "source": [
    "nombre_infected        52\n",
    "nombre_sain          2643\n",
    "nombre_exposed         33\n",
    "nombre_recovered    17272\n",
    "Name: 97, dtype: int64"
   ]
  },
  {
   "cell_type": "markdown",
   "id": "fe4257d3",
   "metadata": {},
   "source": [
    "nombre_infected        51\n",
    "nombre_sain          2722\n",
    "nombre_exposed         33\n",
    "nombre_recovered    17194\n",
    "Name: 98, dtype: int64"
   ]
  },
  {
   "cell_type": "markdown",
   "id": "ca9818b3",
   "metadata": {},
   "source": [
    "nombre_infected        51\n",
    "nombre_sain          2774\n",
    "nombre_exposed         41\n",
    "nombre_recovered    17134\n",
    "Name: 99, dtype: int64"
   ]
  },
  {
   "cell_type": "markdown",
   "id": "1c10108a",
   "metadata": {},
   "source": [
    "nombre_infected        58\n",
    "nombre_sain          2822\n",
    "nombre_exposed         39\n",
    "nombre_recovered    17081\n",
    "Name: 100, dtype: int64"
   ]
  },
  {
   "cell_type": "markdown",
   "id": "e40e7620",
   "metadata": {},
   "source": [
    "nombre_infected        60\n",
    "nombre_sain          2874\n",
    "nombre_exposed         37\n",
    "nombre_recovered    17029\n",
    "Name: 101, dtype: int64"
   ]
  },
  {
   "cell_type": "markdown",
   "id": "da05c080",
   "metadata": {},
   "source": [
    "nombre_infected        63\n",
    "nombre_sain          2940\n",
    "nombre_exposed         34\n",
    "nombre_recovered    16963\n",
    "Name: 102, dtype: int64"
   ]
  },
  {
   "cell_type": "markdown",
   "id": "f0618c39",
   "metadata": {},
   "source": [
    "nombre_infected        64\n",
    "nombre_sain          2990\n",
    "nombre_exposed         38\n",
    "nombre_recovered    16908\n",
    "Name: 103, dtype: int64"
   ]
  },
  {
   "cell_type": "markdown",
   "id": "d870d450",
   "metadata": {},
   "source": [
    "nombre_infected        67\n",
    "nombre_sain          3050\n",
    "nombre_exposed         42\n",
    "nombre_recovered    16841\n",
    "Name: 104, dtype: int64"
   ]
  },
  {
   "cell_type": "markdown",
   "id": "e697cead",
   "metadata": {},
   "source": [
    "nombre_infected        66\n",
    "nombre_sain          3102\n",
    "nombre_exposed         48\n",
    "nombre_recovered    16784\n",
    "Name: 105, dtype: int64"
   ]
  },
  {
   "cell_type": "markdown",
   "id": "8efc176e",
   "metadata": {},
   "source": [
    "nombre_infected        66\n",
    "nombre_sain          3151\n",
    "nombre_exposed         52\n",
    "nombre_recovered    16731\n",
    "Name: 106, dtype: int64"
   ]
  },
  {
   "cell_type": "markdown",
   "id": "59144b96",
   "metadata": {},
   "source": [
    "nombre_infected        71\n",
    "nombre_sain          3189\n",
    "nombre_exposed         59\n",
    "nombre_recovered    16681\n",
    "Name: 107, dtype: int64"
   ]
  },
  {
   "cell_type": "markdown",
   "id": "3f2af6fd",
   "metadata": {},
   "source": [
    "nombre_infected        79\n",
    "nombre_sain          3220\n",
    "nombre_exposed         61\n",
    "nombre_recovered    16640\n",
    "Name: 108, dtype: int64"
   ]
  },
  {
   "cell_type": "markdown",
   "id": "15480094",
   "metadata": {},
   "source": [
    "nombre_infected        91\n",
    "nombre_sain          3263\n",
    "nombre_exposed         58\n",
    "nombre_recovered    16588\n",
    "Name: 109, dtype: int64"
   ]
  },
  {
   "cell_type": "markdown",
   "id": "52f365cf",
   "metadata": {},
   "source": [
    "nombre_infected        93\n",
    "nombre_sain          3301\n",
    "nombre_exposed         66\n",
    "nombre_recovered    16540\n",
    "Name: 110, dtype: int64"
   ]
  },
  {
   "cell_type": "markdown",
   "id": "4c8f9379",
   "metadata": {},
   "source": [
    "nombre_infected       104\n",
    "nombre_sain          3333\n",
    "nombre_exposed         65\n",
    "nombre_recovered    16498\n",
    "Name: 111, dtype: int64"
   ]
  },
  {
   "cell_type": "markdown",
   "id": "c4399665",
   "metadata": {},
   "source": [
    "nombre_infected       103\n",
    "nombre_sain          3352\n",
    "nombre_exposed         82\n",
    "nombre_recovered    16463\n",
    "Name: 112, dtype: int64"
   ]
  },
  {
   "cell_type": "markdown",
   "id": "357242e4",
   "metadata": {},
   "source": [
    "nombre_infected       106\n",
    "nombre_sain          3379\n",
    "nombre_exposed        103\n",
    "nombre_recovered    16412\n",
    "Name: 113, dtype: int64"
   ]
  },
  {
   "cell_type": "markdown",
   "id": "a4258f00",
   "metadata": {},
   "source": [
    "nombre_infected       115\n",
    "nombre_sain          3409\n",
    "nombre_exposed        106\n",
    "nombre_recovered    16370\n",
    "Name: 114, dtype: int64"
   ]
  },
  {
   "cell_type": "markdown",
   "id": "26347f58",
   "metadata": {},
   "source": [
    "nombre_infected       133\n",
    "nombre_sain          3453\n",
    "nombre_exposed         91\n",
    "nombre_recovered    16323\n",
    "Name: 115, dtype: int64"
   ]
  },
  {
   "cell_type": "markdown",
   "id": "a152b531",
   "metadata": {},
   "source": [
    "nombre_infected       147\n",
    "nombre_sain          3474\n",
    "nombre_exposed         90\n",
    "nombre_recovered    16289\n",
    "Name: 116, dtype: int64"
   ]
  },
  {
   "cell_type": "markdown",
   "id": "c99b111f",
   "metadata": {},
   "source": [
    "nombre_infected       154\n",
    "nombre_sain          3504\n",
    "nombre_exposed         97\n",
    "nombre_recovered    16245\n",
    "Name: 117, dtype: int64"
   ]
  },
  {
   "cell_type": "markdown",
   "id": "07e44031",
   "metadata": {},
   "source": [
    "nombre_infected       163\n",
    "nombre_sain          3541\n",
    "nombre_exposed        111\n",
    "nombre_recovered    16185\n",
    "Name: 118, dtype: int64"
   ]
  },
  {
   "cell_type": "markdown",
   "id": "d58e0514",
   "metadata": {},
   "source": [
    "nombre_infected       188\n",
    "nombre_sain          3574\n",
    "nombre_exposed        113\n",
    "nombre_recovered    16125\n",
    "Name: 119, dtype: int64"
   ]
  },
  {
   "cell_type": "markdown",
   "id": "d4b1a4f1",
   "metadata": {},
   "source": [
    "nombre_infected       195\n",
    "nombre_sain          3592\n",
    "nombre_exposed        125\n",
    "nombre_recovered    16088\n",
    "Name: 120, dtype: int64"
   ]
  },
  {
   "cell_type": "markdown",
   "id": "de476c3f",
   "metadata": {},
   "source": [
    "nombre_infected       205\n",
    "nombre_sain          3597\n",
    "nombre_exposed        147\n",
    "nombre_recovered    16051\n",
    "Name: 121, dtype: int64"
   ]
  },
  {
   "cell_type": "markdown",
   "id": "a071082b",
   "metadata": {},
   "source": [
    "nombre_infected       227\n",
    "nombre_sain          3603\n",
    "nombre_exposed        155\n",
    "nombre_recovered    16015\n",
    "Name: 122, dtype: int64"
   ]
  },
  {
   "cell_type": "markdown",
   "id": "fffe7f12",
   "metadata": {},
   "source": [
    "nombre_infected       238\n",
    "nombre_sain          3601\n",
    "nombre_exposed        161\n",
    "nombre_recovered    16000\n",
    "Name: 123, dtype: int64"
   ]
  },
  {
   "cell_type": "markdown",
   "id": "457a28ff",
   "metadata": {},
   "source": [
    "nombre_infected       246\n",
    "nombre_sain          3599\n",
    "nombre_exposed        183\n",
    "nombre_recovered    15972\n",
    "Name: 124, dtype: int64"
   ]
  },
  {
   "cell_type": "markdown",
   "id": "92cf68dd",
   "metadata": {},
   "source": [
    "nombre_infected       250\n",
    "nombre_sain          3602\n",
    "nombre_exposed        193\n",
    "nombre_recovered    15955\n",
    "Name: 125, dtype: int64"
   ]
  },
  {
   "cell_type": "markdown",
   "id": "1bbe3a0f",
   "metadata": {},
   "source": [
    "nombre_infected       272\n",
    "nombre_sain          3597\n",
    "nombre_exposed        203\n",
    "nombre_recovered    15928\n",
    "Name: 126, dtype: int64"
   ]
  },
  {
   "cell_type": "markdown",
   "id": "d78d1bb9",
   "metadata": {},
   "source": [
    "nombre_infected       280\n",
    "nombre_sain          3565\n",
    "nombre_exposed        247\n",
    "nombre_recovered    15908\n",
    "Name: 127, dtype: int64"
   ]
  },
  {
   "cell_type": "markdown",
   "id": "dbbcef17",
   "metadata": {},
   "source": [
    "nombre_infected       294\n",
    "nombre_sain          3550\n",
    "nombre_exposed        264\n",
    "nombre_recovered    15892\n",
    "Name: 128, dtype: int64"
   ]
  },
  {
   "cell_type": "markdown",
   "id": "1ec54b8b",
   "metadata": {},
   "source": [
    "nombre_infected       333\n",
    "nombre_sain          3537\n",
    "nombre_exposed        252\n",
    "nombre_recovered    15878\n",
    "Name: 129, dtype: int64"
   ]
  },
  {
   "cell_type": "markdown",
   "id": "a8b61a30",
   "metadata": {},
   "source": [
    "nombre_infected       352\n",
    "nombre_sain          3508\n",
    "nombre_exposed        277\n",
    "nombre_recovered    15863\n",
    "Name: 130, dtype: int64"
   ]
  },
  {
   "cell_type": "markdown",
   "id": "a62c910d",
   "metadata": {},
   "source": [
    "nombre_infected       385\n",
    "nombre_sain          3486\n",
    "nombre_exposed        289\n",
    "nombre_recovered    15840\n",
    "Name: 131, dtype: int64"
   ]
  },
  {
   "cell_type": "markdown",
   "id": "e4e90db4",
   "metadata": {},
   "source": [
    "nombre_infected       408\n",
    "nombre_sain          3442\n",
    "nombre_exposed        327\n",
    "nombre_recovered    15823\n",
    "Name: 132, dtype: int64"
   ]
  },
  {
   "cell_type": "markdown",
   "id": "c70541d8",
   "metadata": {},
   "source": [
    "nombre_infected       446\n",
    "nombre_sain          3396\n",
    "nombre_exposed        347\n",
    "nombre_recovered    15811\n",
    "Name: 133, dtype: int64"
   ]
  },
  {
   "cell_type": "markdown",
   "id": "3de6afde",
   "metadata": {},
   "source": [
    "nombre_infected       490\n",
    "nombre_sain          3355\n",
    "nombre_exposed        349\n",
    "nombre_recovered    15806\n",
    "Name: 134, dtype: int64"
   ]
  },
  {
   "cell_type": "markdown",
   "id": "9fc112a4",
   "metadata": {},
   "source": [
    "nombre_infected       522\n",
    "nombre_sain          3288\n",
    "nombre_exposed        359\n",
    "nombre_recovered    15831\n",
    "Name: 135, dtype: int64"
   ]
  },
  {
   "cell_type": "markdown",
   "id": "cb869d54",
   "metadata": {},
   "source": [
    "nombre_infected       546\n",
    "nombre_sain          3211\n",
    "nombre_exposed        386\n",
    "nombre_recovered    15857\n",
    "Name: 136, dtype: int64"
   ]
  },
  {
   "cell_type": "markdown",
   "id": "13e56778",
   "metadata": {},
   "source": [
    "nombre_infected       591\n",
    "nombre_sain          3156\n",
    "nombre_exposed        384\n",
    "nombre_recovered    15869\n",
    "Name: 137, dtype: int64"
   ]
  },
  {
   "cell_type": "markdown",
   "id": "14214fa2",
   "metadata": {},
   "source": [
    "nombre_infected       622\n",
    "nombre_sain          3088\n",
    "nombre_exposed        376\n",
    "nombre_recovered    15914\n",
    "Name: 138, dtype: int64"
   ]
  },
  {
   "cell_type": "markdown",
   "id": "b1c10031",
   "metadata": {},
   "source": [
    "nombre_infected       652\n",
    "nombre_sain          3010\n",
    "nombre_exposed        406\n",
    "nombre_recovered    15932\n",
    "Name: 139, dtype: int64"
   ]
  },
  {
   "cell_type": "markdown",
   "id": "3eed32c0",
   "metadata": {},
   "source": [
    "nombre_infected       664\n",
    "nombre_sain          2929\n",
    "nombre_exposed        429\n",
    "nombre_recovered    15978\n",
    "Name: 140, dtype: int64"
   ]
  },
  {
   "cell_type": "markdown",
   "id": "f4304657",
   "metadata": {},
   "source": [
    "nombre_infected       681\n",
    "nombre_sain          2862\n",
    "nombre_exposed        427\n",
    "nombre_recovered    16030\n",
    "Name: 141, dtype: int64"
   ]
  },
  {
   "cell_type": "markdown",
   "id": "86356c97",
   "metadata": {},
   "source": [
    "nombre_infected       712\n",
    "nombre_sain          2787\n",
    "nombre_exposed        419\n",
    "nombre_recovered    16082\n",
    "Name: 142, dtype: int64"
   ]
  },
  {
   "cell_type": "markdown",
   "id": "7a20aded",
   "metadata": {},
   "source": [
    "nombre_infected       736\n",
    "nombre_sain          2674\n",
    "nombre_exposed        467\n",
    "nombre_recovered    16123\n",
    "Name: 143, dtype: int64"
   ]
  },
  {
   "cell_type": "markdown",
   "id": "032e6c74",
   "metadata": {},
   "source": [
    "nombre_infected       781\n",
    "nombre_sain          2592\n",
    "nombre_exposed        461\n",
    "nombre_recovered    16166\n",
    "Name: 144, dtype: int64"
   ]
  },
  {
   "cell_type": "markdown",
   "id": "c386b5a4",
   "metadata": {},
   "source": [
    "nombre_infected       816\n",
    "nombre_sain          2528\n",
    "nombre_exposed        466\n",
    "nombre_recovered    16190\n",
    "Name: 145, dtype: int64"
   ]
  },
  {
   "cell_type": "markdown",
   "id": "c4fcc7ed",
   "metadata": {},
   "source": [
    "nombre_infected       844\n",
    "nombre_sain          2456\n",
    "nombre_exposed        483\n",
    "nombre_recovered    16217\n",
    "Name: 146, dtype: int64"
   ]
  },
  {
   "cell_type": "markdown",
   "id": "0c71a917",
   "metadata": {},
   "source": [
    "nombre_infected       893\n",
    "nombre_sain          2380\n",
    "nombre_exposed        471\n",
    "nombre_recovered    16256\n",
    "Name: 147, dtype: int64"
   ]
  },
  {
   "cell_type": "markdown",
   "id": "bc336dfd",
   "metadata": {},
   "source": [
    "nombre_infected       895\n",
    "nombre_sain          2305\n",
    "nombre_exposed        497\n",
    "nombre_recovered    16303\n",
    "Name: 148, dtype: int64"
   ]
  },
  {
   "cell_type": "markdown",
   "id": "1851d48a",
   "metadata": {},
   "source": [
    "nombre_infected       919\n",
    "nombre_sain          2272\n",
    "nombre_exposed        490\n",
    "nombre_recovered    16319\n",
    "Name: 149, dtype: int64"
   ]
  },
  {
   "cell_type": "markdown",
   "id": "75139232",
   "metadata": {},
   "source": [
    "nombre_infected       959\n",
    "nombre_sain          2216\n",
    "nombre_exposed        492\n",
    "nombre_recovered    16333\n",
    "Name: 150, dtype: int64"
   ]
  },
  {
   "cell_type": "markdown",
   "id": "3cae2930",
   "metadata": {},
   "source": [
    "nombre_infected       951\n",
    "nombre_sain          2168\n",
    "nombre_exposed        510\n",
    "nombre_recovered    16371\n",
    "Name: 151, dtype: int64"
   ]
  },
  {
   "cell_type": "markdown",
   "id": "08a2c931",
   "metadata": {},
   "source": [
    "nombre_infected       973\n",
    "nombre_sain          2117\n",
    "nombre_exposed        512\n",
    "nombre_recovered    16398\n",
    "Name: 152, dtype: int64"
   ]
  },
  {
   "cell_type": "markdown",
   "id": "aaf77cc5",
   "metadata": {},
   "source": [
    "nombre_infected       999\n",
    "nombre_sain          2069\n",
    "nombre_exposed        503\n",
    "nombre_recovered    16429\n",
    "Name: 153, dtype: int64"
   ]
  },
  {
   "cell_type": "markdown",
   "id": "f913c0dc",
   "metadata": {},
   "source": [
    "nombre_infected      1009\n",
    "nombre_sain          2020\n",
    "nombre_exposed        508\n",
    "nombre_recovered    16463\n",
    "Name: 154, dtype: int64"
   ]
  },
  {
   "cell_type": "markdown",
   "id": "611b8313",
   "metadata": {},
   "source": [
    "nombre_infected      1040\n",
    "nombre_sain          1950\n",
    "nombre_exposed        508\n",
    "nombre_recovered    16502\n",
    "Name: 155, dtype: int64"
   ]
  },
  {
   "cell_type": "markdown",
   "id": "4e45bf1a",
   "metadata": {},
   "source": [
    "nombre_infected      1021\n",
    "nombre_sain          1882\n",
    "nombre_exposed        519\n",
    "nombre_recovered    16578\n",
    "Name: 156, dtype: int64"
   ]
  },
  {
   "cell_type": "markdown",
   "id": "d6a0b2dc",
   "metadata": {},
   "source": [
    "nombre_infected      1035\n",
    "nombre_sain          1849\n",
    "nombre_exposed        492\n",
    "nombre_recovered    16624\n",
    "Name: 157, dtype: int64"
   ]
  },
  {
   "cell_type": "markdown",
   "id": "90b430dc",
   "metadata": {},
   "source": [
    "nombre_infected      1032\n",
    "nombre_sain          1782\n",
    "nombre_exposed        503\n",
    "nombre_recovered    16683\n",
    "Name: 158, dtype: int64"
   ]
  },
  {
   "cell_type": "markdown",
   "id": "ee8c3816",
   "metadata": {},
   "source": [
    "nombre_infected      1033\n",
    "nombre_sain          1734\n",
    "nombre_exposed        495\n",
    "nombre_recovered    16738\n",
    "Name: 159, dtype: int64"
   ]
  },
  {
   "cell_type": "markdown",
   "id": "ff07b77e",
   "metadata": {},
   "source": [
    "nombre_infected      1018\n",
    "nombre_sain          1693\n",
    "nombre_exposed        496\n",
    "nombre_recovered    16793\n",
    "Name: 160, dtype: int64"
   ]
  },
  {
   "cell_type": "markdown",
   "id": "67581530",
   "metadata": {},
   "source": [
    "nombre_infected       992\n",
    "nombre_sain          1650\n",
    "nombre_exposed        498\n",
    "nombre_recovered    16860\n",
    "Name: 161, dtype: int64"
   ]
  },
  {
   "cell_type": "markdown",
   "id": "34524527",
   "metadata": {},
   "source": [
    "nombre_infected       949\n",
    "nombre_sain          1613\n",
    "nombre_exposed        499\n",
    "nombre_recovered    16939\n",
    "Name: 162, dtype: int64"
   ]
  },
  {
   "cell_type": "markdown",
   "id": "5cbce2cd",
   "metadata": {},
   "source": [
    "nombre_infected       942\n",
    "nombre_sain          1583\n",
    "nombre_exposed        466\n",
    "nombre_recovered    17009\n",
    "Name: 163, dtype: int64"
   ]
  },
  {
   "cell_type": "markdown",
   "id": "6d547f72",
   "metadata": {},
   "source": [
    "nombre_infected       951\n",
    "nombre_sain          1556\n",
    "nombre_exposed        439\n",
    "nombre_recovered    17054\n",
    "Name: 164, dtype: int64"
   ]
  },
  {
   "cell_type": "markdown",
   "id": "c784e5f7",
   "metadata": {},
   "source": [
    "nombre_infected       959\n",
    "nombre_sain          1534\n",
    "nombre_exposed        415\n",
    "nombre_recovered    17092\n",
    "Name: 165, dtype: int64"
   ]
  },
  {
   "cell_type": "markdown",
   "id": "546b921f",
   "metadata": {},
   "source": [
    "nombre_infected       940\n",
    "nombre_sain          1516\n",
    "nombre_exposed        408\n",
    "nombre_recovered    17136\n",
    "Name: 166, dtype: int64"
   ]
  },
  {
   "cell_type": "markdown",
   "id": "91be6bc4",
   "metadata": {},
   "source": [
    "nombre_infected       904\n",
    "nombre_sain          1497\n",
    "nombre_exposed        391\n",
    "nombre_recovered    17208\n",
    "Name: 167, dtype: int64"
   ]
  },
  {
   "cell_type": "markdown",
   "id": "23b58f05",
   "metadata": {},
   "source": [
    "nombre_infected       888\n",
    "nombre_sain          1485\n",
    "nombre_exposed        393\n",
    "nombre_recovered    17234\n",
    "Name: 168, dtype: int64"
   ]
  },
  {
   "cell_type": "markdown",
   "id": "3b4434f1",
   "metadata": {},
   "source": [
    "nombre_infected       861\n",
    "nombre_sain          1468\n",
    "nombre_exposed        390\n",
    "nombre_recovered    17281\n",
    "Name: 169, dtype: int64"
   ]
  },
  {
   "cell_type": "markdown",
   "id": "97bf4073",
   "metadata": {},
   "source": [
    "nombre_infected       842\n",
    "nombre_sain          1465\n",
    "nombre_exposed        379\n",
    "nombre_recovered    17314\n",
    "Name: 170, dtype: int64"
   ]
  },
  {
   "cell_type": "markdown",
   "id": "bbfc4a76",
   "metadata": {},
   "source": [
    "nombre_infected       815\n",
    "nombre_sain          1462\n",
    "nombre_exposed        377\n",
    "nombre_recovered    17346\n",
    "Name: 171, dtype: int64"
   ]
  },
  {
   "cell_type": "markdown",
   "id": "3efc71fe",
   "metadata": {},
   "source": [
    "nombre_infected       803\n",
    "nombre_sain          1490\n",
    "nombre_exposed        360\n",
    "nombre_recovered    17347\n",
    "Name: 172, dtype: int64"
   ]
  },
  {
   "cell_type": "markdown",
   "id": "4ab24c87",
   "metadata": {},
   "source": [
    "nombre_infected       789\n",
    "nombre_sain          1468\n",
    "nombre_exposed        367\n",
    "nombre_recovered    17376\n",
    "Name: 173, dtype: int64"
   ]
  },
  {
   "cell_type": "markdown",
   "id": "e4861bd5",
   "metadata": {},
   "source": [
    "nombre_infected       754\n",
    "nombre_sain          1512\n",
    "nombre_exposed        373\n",
    "nombre_recovered    17361\n",
    "Name: 174, dtype: int64"
   ]
  },
  {
   "cell_type": "markdown",
   "id": "19298cfb",
   "metadata": {},
   "source": [
    "nombre_infected       727\n",
    "nombre_sain          1543\n",
    "nombre_exposed        355\n",
    "nombre_recovered    17375\n",
    "Name: 175, dtype: int64"
   ]
  },
  {
   "cell_type": "markdown",
   "id": "07d8e2be",
   "metadata": {},
   "source": [
    "nombre_infected       713\n",
    "nombre_sain          1566\n",
    "nombre_exposed        350\n",
    "nombre_recovered    17371\n",
    "Name: 176, dtype: int64"
   ]
  },
  {
   "cell_type": "markdown",
   "id": "4b7e213b",
   "metadata": {},
   "source": [
    "nombre_infected       686\n",
    "nombre_sain          1591\n",
    "nombre_exposed        355\n",
    "nombre_recovered    17368\n",
    "Name: 177, dtype: int64"
   ]
  },
  {
   "cell_type": "markdown",
   "id": "755df3f0",
   "metadata": {},
   "source": [
    "nombre_infected       680\n",
    "nombre_sain          1627\n",
    "nombre_exposed        344\n",
    "nombre_recovered    17349\n",
    "Name: 178, dtype: int64"
   ]
  },
  {
   "cell_type": "markdown",
   "id": "0124bede",
   "metadata": {},
   "source": [
    "nombre_infected       681\n",
    "nombre_sain          1663\n",
    "nombre_exposed        329\n",
    "nombre_recovered    17327\n",
    "Name: 179, dtype: int64"
   ]
  },
  {
   "cell_type": "markdown",
   "id": "7aafea7f",
   "metadata": {},
   "source": [
    "nombre_infected       651\n",
    "nombre_sain          1680\n",
    "nombre_exposed        332\n",
    "nombre_recovered    17337\n",
    "Name: 180, dtype: int64"
   ]
  },
  {
   "cell_type": "markdown",
   "id": "ca836c4a",
   "metadata": {},
   "source": [
    "nombre_infected       655\n",
    "nombre_sain          1723\n",
    "nombre_exposed        319\n",
    "nombre_recovered    17303\n",
    "Name: 181, dtype: int64"
   ]
  },
  {
   "cell_type": "markdown",
   "id": "e0de9148",
   "metadata": {},
   "source": [
    "nombre_infected       652\n",
    "nombre_sain          1769\n",
    "nombre_exposed        328\n",
    "nombre_recovered    17251\n",
    "Name: 182, dtype: int64"
   ]
  },
  {
   "cell_type": "markdown",
   "id": "0c0ab558",
   "metadata": {},
   "source": [
    "nombre_infected       640\n",
    "nombre_sain          1799\n",
    "nombre_exposed        335\n",
    "nombre_recovered    17226\n",
    "Name: 183, dtype: int64"
   ]
  },
  {
   "cell_type": "markdown",
   "id": "e0b6a3bb",
   "metadata": {},
   "source": [
    "nombre_infected       665\n",
    "nombre_sain          1842\n",
    "nombre_exposed        312\n",
    "nombre_recovered    17181\n",
    "Name: 184, dtype: int64"
   ]
  },
  {
   "cell_type": "markdown",
   "id": "10e240d8",
   "metadata": {},
   "source": [
    "nombre_infected       658\n",
    "nombre_sain          1885\n",
    "nombre_exposed        310\n",
    "nombre_recovered    17147\n",
    "Name: 185, dtype: int64"
   ]
  },
  {
   "cell_type": "markdown",
   "id": "9210e229",
   "metadata": {},
   "source": [
    "nombre_infected       670\n",
    "nombre_sain          1941\n",
    "nombre_exposed        305\n",
    "nombre_recovered    17084\n",
    "Name: 186, dtype: int64"
   ]
  },
  {
   "cell_type": "markdown",
   "id": "ab7831cb",
   "metadata": {},
   "source": [
    "nombre_infected       675\n",
    "nombre_sain          1971\n",
    "nombre_exposed        318\n",
    "nombre_recovered    17036\n",
    "Name: 187, dtype: int64"
   ]
  },
  {
   "cell_type": "markdown",
   "id": "8e648eda",
   "metadata": {},
   "source": [
    "nombre_infected       671\n",
    "nombre_sain          2009\n",
    "nombre_exposed        316\n",
    "nombre_recovered    17004\n",
    "Name: 188, dtype: int64"
   ]
  },
  {
   "cell_type": "markdown",
   "id": "2522c162",
   "metadata": {},
   "source": [
    "nombre_infected       675\n",
    "nombre_sain          2038\n",
    "nombre_exposed        317\n",
    "nombre_recovered    16970\n",
    "Name: 189, dtype: int64"
   ]
  },
  {
   "cell_type": "markdown",
   "id": "9b2d30c6",
   "metadata": {},
   "source": [
    "nombre_infected       671\n",
    "nombre_sain          2072\n",
    "nombre_exposed        313\n",
    "nombre_recovered    16944\n",
    "Name: 190, dtype: int64"
   ]
  },
  {
   "cell_type": "markdown",
   "id": "9d54b730",
   "metadata": {},
   "source": [
    "nombre_infected       669\n",
    "nombre_sain          2103\n",
    "nombre_exposed        304\n",
    "nombre_recovered    16924\n",
    "Name: 191, dtype: int64"
   ]
  },
  {
   "cell_type": "markdown",
   "id": "3777144d",
   "metadata": {},
   "source": [
    "nombre_infected       664\n",
    "nombre_sain          2146\n",
    "nombre_exposed        311\n",
    "nombre_recovered    16879\n",
    "Name: 192, dtype: int64"
   ]
  },
  {
   "cell_type": "markdown",
   "id": "3650cec4",
   "metadata": {},
   "source": [
    "nombre_infected       679\n",
    "nombre_sain          2163\n",
    "nombre_exposed        309\n",
    "nombre_recovered    16849\n",
    "Name: 193, dtype: int64"
   ]
  },
  {
   "cell_type": "markdown",
   "id": "4735e488",
   "metadata": {},
   "source": [
    "nombre_infected       650\n",
    "nombre_sain          2206\n",
    "nombre_exposed        327\n",
    "nombre_recovered    16817\n",
    "Name: 194, dtype: int64"
   ]
  },
  {
   "cell_type": "markdown",
   "id": "ba7e5756",
   "metadata": {},
   "source": [
    "nombre_infected       649\n",
    "nombre_sain          2235\n",
    "nombre_exposed        327\n",
    "nombre_recovered    16789\n",
    "Name: 195, dtype: int64"
   ]
  },
  {
   "cell_type": "markdown",
   "id": "5f82f122",
   "metadata": {},
   "source": [
    "nombre_infected       662\n",
    "nombre_sain          2225\n",
    "nombre_exposed        358\n",
    "nombre_recovered    16755\n",
    "Name: 196, dtype: int64"
   ]
  },
  {
   "cell_type": "markdown",
   "id": "d5ac2d6b",
   "metadata": {},
   "source": [
    "nombre_infected       654\n",
    "nombre_sain          2226\n",
    "nombre_exposed        373\n",
    "nombre_recovered    16747\n",
    "Name: 197, dtype: int64"
   ]
  },
  {
   "cell_type": "markdown",
   "id": "1bb2af5d",
   "metadata": {},
   "source": [
    "nombre_infected       672\n",
    "nombre_sain          2218\n",
    "nombre_exposed        385\n",
    "nombre_recovered    16725\n",
    "Name: 198, dtype: int64"
   ]
  },
  {
   "cell_type": "markdown",
   "id": "8055e015",
   "metadata": {},
   "source": [
    "nombre_infected       689\n",
    "nombre_sain          2229\n",
    "nombre_exposed        382\n",
    "nombre_recovered    16700\n",
    "Name: 199, dtype: int64"
   ]
  },
  {
   "cell_type": "markdown",
   "id": "264a6db7",
   "metadata": {},
   "source": [
    "nombre_infected       708\n",
    "nombre_sain          2230\n",
    "nombre_exposed        400\n",
    "nombre_recovered    16662\n",
    "Name: 200, dtype: int64"
   ]
  },
  {
   "cell_type": "markdown",
   "id": "5ea90a39",
   "metadata": {},
   "source": [
    "nombre_infected       722\n",
    "nombre_sain          2210\n",
    "nombre_exposed        395\n",
    "nombre_recovered    16673\n",
    "Name: 201, dtype: int64"
   ]
  },
  {
   "cell_type": "markdown",
   "id": "b9d0348f",
   "metadata": {},
   "source": [
    "nombre_infected       740\n",
    "nombre_sain          2195\n",
    "nombre_exposed        397\n",
    "nombre_recovered    16668\n",
    "Name: 202, dtype: int64"
   ]
  },
  {
   "cell_type": "markdown",
   "id": "99157044",
   "metadata": {},
   "source": [
    "nombre_infected       766\n",
    "nombre_sain          2194\n",
    "nombre_exposed        411\n",
    "nombre_recovered    16629\n",
    "Name: 203, dtype: int64"
   ]
  },
  {
   "cell_type": "markdown",
   "id": "64ea8ac2",
   "metadata": {},
   "source": [
    "nombre_infected       786\n",
    "nombre_sain          2219\n",
    "nombre_exposed        401\n",
    "nombre_recovered    16594\n",
    "Name: 204, dtype: int64"
   ]
  },
  {
   "cell_type": "markdown",
   "id": "c78ec424",
   "metadata": {},
   "source": [
    "nombre_infected       810\n",
    "nombre_sain          2232\n",
    "nombre_exposed        397\n",
    "nombre_recovered    16561\n",
    "Name: 205, dtype: int64"
   ]
  },
  {
   "cell_type": "markdown",
   "id": "01f9576b",
   "metadata": {},
   "source": [
    "nombre_infected       819\n",
    "nombre_sain          2258\n",
    "nombre_exposed        393\n",
    "nombre_recovered    16530\n",
    "Name: 206, dtype: int64"
   ]
  },
  {
   "cell_type": "markdown",
   "id": "21e9d76d",
   "metadata": {},
   "source": [
    "nombre_infected       827\n",
    "nombre_sain          2255\n",
    "nombre_exposed        422\n",
    "nombre_recovered    16496\n",
    "Name: 207, dtype: int64"
   ]
  },
  {
   "cell_type": "markdown",
   "id": "8b982305",
   "metadata": {},
   "source": [
    "nombre_infected       825\n",
    "nombre_sain          2248\n",
    "nombre_exposed        437\n",
    "nombre_recovered    16490\n",
    "Name: 208, dtype: int64"
   ]
  },
  {
   "cell_type": "markdown",
   "id": "a455781c",
   "metadata": {},
   "source": [
    "nombre_infected       816\n",
    "nombre_sain          2222\n",
    "nombre_exposed        481\n",
    "nombre_recovered    16481\n",
    "Name: 209, dtype: int64"
   ]
  },
  {
   "cell_type": "markdown",
   "id": "48f6bb62",
   "metadata": {},
   "source": [
    "nombre_infected       818\n",
    "nombre_sain          2241\n",
    "nombre_exposed        473\n",
    "nombre_recovered    16468\n",
    "Name: 210, dtype: int64"
   ]
  },
  {
   "cell_type": "markdown",
   "id": "d9ecd597",
   "metadata": {},
   "source": [
    "nombre_infected       874\n",
    "nombre_sain          2238\n",
    "nombre_exposed        451\n",
    "nombre_recovered    16437\n",
    "Name: 211, dtype: int64"
   ]
  },
  {
   "cell_type": "markdown",
   "id": "9a586afb",
   "metadata": {},
   "source": [
    "nombre_infected       900\n",
    "nombre_sain          2261\n",
    "nombre_exposed        454\n",
    "nombre_recovered    16385\n",
    "Name: 212, dtype: int64"
   ]
  },
  {
   "cell_type": "markdown",
   "id": "960d75a5",
   "metadata": {},
   "source": [
    "nombre_infected       897\n",
    "nombre_sain          2232\n",
    "nombre_exposed        480\n",
    "nombre_recovered    16391\n",
    "Name: 213, dtype: int64"
   ]
  },
  {
   "cell_type": "markdown",
   "id": "9fdc978a",
   "metadata": {},
   "source": [
    "nombre_infected       902\n",
    "nombre_sain          2220\n",
    "nombre_exposed        484\n",
    "nombre_recovered    16394\n",
    "Name: 214, dtype: int64"
   ]
  },
  {
   "cell_type": "markdown",
   "id": "12c39b35",
   "metadata": {},
   "source": [
    "nombre_infected       937\n",
    "nombre_sain          2217\n",
    "nombre_exposed        471\n",
    "nombre_recovered    16375\n",
    "Name: 215, dtype: int64"
   ]
  },
  {
   "cell_type": "markdown",
   "id": "e5afee07",
   "metadata": {},
   "source": [
    "nombre_infected       941\n",
    "nombre_sain          2207\n",
    "nombre_exposed        478\n",
    "nombre_recovered    16374\n",
    "Name: 216, dtype: int64"
   ]
  },
  {
   "cell_type": "markdown",
   "id": "29c36c6d",
   "metadata": {},
   "source": [
    "nombre_infected       946\n",
    "nombre_sain          2180\n",
    "nombre_exposed        480\n",
    "nombre_recovered    16394\n",
    "Name: 217, dtype: int64"
   ]
  },
  {
   "cell_type": "markdown",
   "id": "4668aff2",
   "metadata": {},
   "source": [
    "nombre_infected       940\n",
    "nombre_sain          2172\n",
    "nombre_exposed        480\n",
    "nombre_recovered    16408\n",
    "Name: 218, dtype: int64"
   ]
  },
  {
   "cell_type": "markdown",
   "id": "5b0ed401",
   "metadata": {},
   "source": [
    "nombre_infected       954\n",
    "nombre_sain          2162\n",
    "nombre_exposed        484\n",
    "nombre_recovered    16400\n",
    "Name: 219, dtype: int64"
   ]
  },
  {
   "cell_type": "markdown",
   "id": "0b9d6b90",
   "metadata": {},
   "source": [
    "nombre_infected       968\n",
    "nombre_sain          2155\n",
    "nombre_exposed        492\n",
    "nombre_recovered    16385\n",
    "Name: 220, dtype: int64"
   ]
  },
  {
   "cell_type": "markdown",
   "id": "f55b76e3",
   "metadata": {},
   "source": [
    "nombre_infected       948\n",
    "nombre_sain          2147\n",
    "nombre_exposed        506\n",
    "nombre_recovered    16399\n",
    "Name: 221, dtype: int64"
   ]
  },
  {
   "cell_type": "markdown",
   "id": "ebc53c92",
   "metadata": {},
   "source": [
    "nombre_infected       965\n",
    "nombre_sain          2142\n",
    "nombre_exposed        507\n",
    "nombre_recovered    16386\n",
    "Name: 222, dtype: int64"
   ]
  },
  {
   "cell_type": "markdown",
   "id": "6386befa",
   "metadata": {},
   "source": [
    "nombre_infected       977\n",
    "nombre_sain          2103\n",
    "nombre_exposed        522\n",
    "nombre_recovered    16398\n",
    "Name: 223, dtype: int64"
   ]
  },
  {
   "cell_type": "markdown",
   "id": "7d595b66",
   "metadata": {},
   "source": [
    "nombre_infected       995\n",
    "nombre_sain          2067\n",
    "nombre_exposed        540\n",
    "nombre_recovered    16398\n",
    "Name: 224, dtype: int64"
   ]
  },
  {
   "cell_type": "markdown",
   "id": "f14d336c",
   "metadata": {},
   "source": [
    "nombre_infected       995\n",
    "nombre_sain          2066\n",
    "nombre_exposed        557\n",
    "nombre_recovered    16382\n",
    "Name: 225, dtype: int64"
   ]
  },
  {
   "cell_type": "markdown",
   "id": "ef38e908",
   "metadata": {},
   "source": [
    "nombre_infected      1029\n",
    "nombre_sain          2036\n",
    "nombre_exposed        539\n",
    "nombre_recovered    16396\n",
    "Name: 226, dtype: int64"
   ]
  },
  {
   "cell_type": "markdown",
   "id": "17d3fd8c",
   "metadata": {},
   "source": [
    "nombre_infected      1042\n",
    "nombre_sain          2021\n",
    "nombre_exposed        530\n",
    "nombre_recovered    16407\n",
    "Name: 227, dtype: int64"
   ]
  },
  {
   "cell_type": "markdown",
   "id": "ad5919a2",
   "metadata": {},
   "source": [
    "nombre_infected      1047\n",
    "nombre_sain          2021\n",
    "nombre_exposed        537\n",
    "nombre_recovered    16395\n",
    "Name: 228, dtype: int64"
   ]
  },
  {
   "cell_type": "markdown",
   "id": "2c4782a4",
   "metadata": {},
   "source": [
    "nombre_infected      1055\n",
    "nombre_sain          2012\n",
    "nombre_exposed        534\n",
    "nombre_recovered    16399\n",
    "Name: 229, dtype: int64"
   ]
  },
  {
   "cell_type": "markdown",
   "id": "379727c8",
   "metadata": {},
   "source": [
    "nombre_infected      1081\n",
    "nombre_sain          1987\n",
    "nombre_exposed        522\n",
    "nombre_recovered    16410\n",
    "Name: 230, dtype: int64"
   ]
  },
  {
   "cell_type": "markdown",
   "id": "49e5c45b",
   "metadata": {},
   "source": [
    "nombre_infected      1090\n",
    "nombre_sain          1970\n",
    "nombre_exposed        512\n",
    "nombre_recovered    16428\n",
    "Name: 231, dtype: int64"
   ]
  },
  {
   "cell_type": "markdown",
   "id": "1677ff72",
   "metadata": {},
   "source": [
    "nombre_infected      1101\n",
    "nombre_sain          1953\n",
    "nombre_exposed        498\n",
    "nombre_recovered    16448\n",
    "Name: 232, dtype: int64"
   ]
  },
  {
   "cell_type": "markdown",
   "id": "61c9435c",
   "metadata": {},
   "source": [
    "nombre_infected      1125\n",
    "nombre_sain          1920\n",
    "nombre_exposed        487\n",
    "nombre_recovered    16468\n",
    "Name: 233, dtype: int64"
   ]
  },
  {
   "cell_type": "markdown",
   "id": "ec381d62",
   "metadata": {},
   "source": [
    "nombre_infected      1106\n",
    "nombre_sain          1880\n",
    "nombre_exposed        519\n",
    "nombre_recovered    16495\n",
    "Name: 234, dtype: int64"
   ]
  },
  {
   "cell_type": "markdown",
   "id": "8ba851c6",
   "metadata": {},
   "source": [
    "nombre_infected      1106\n",
    "nombre_sain          1867\n",
    "nombre_exposed        511\n",
    "nombre_recovered    16516\n",
    "Name: 235, dtype: int64"
   ]
  },
  {
   "cell_type": "markdown",
   "id": "48ac142d",
   "metadata": {},
   "source": [
    "nombre_infected      1108\n",
    "nombre_sain          1839\n",
    "nombre_exposed        507\n",
    "nombre_recovered    16546\n",
    "Name: 236, dtype: int64"
   ]
  },
  {
   "cell_type": "markdown",
   "id": "770f60ae",
   "metadata": {},
   "source": [
    "nombre_infected      1076\n",
    "nombre_sain          1819\n",
    "nombre_exposed        524\n",
    "nombre_recovered    16581\n",
    "Name: 237, dtype: int64"
   ]
  },
  {
   "cell_type": "markdown",
   "id": "d80139b6",
   "metadata": {},
   "source": [
    "nombre_infected      1062\n",
    "nombre_sain          1787\n",
    "nombre_exposed        518\n",
    "nombre_recovered    16633\n",
    "Name: 238, dtype: int64"
   ]
  },
  {
   "cell_type": "markdown",
   "id": "69aa753f",
   "metadata": {},
   "source": [
    "nombre_infected      1033\n",
    "nombre_sain          1757\n",
    "nombre_exposed        525\n",
    "nombre_recovered    16685\n",
    "Name: 239, dtype: int64"
   ]
  },
  {
   "cell_type": "markdown",
   "id": "f9cbee87",
   "metadata": {},
   "source": [
    "nombre_infected      1049\n",
    "nombre_sain          1735\n",
    "nombre_exposed        499\n",
    "nombre_recovered    16717\n",
    "Name: 240, dtype: int64"
   ]
  },
  {
   "cell_type": "markdown",
   "id": "8f5a5f74",
   "metadata": {},
   "source": [
    "nombre_infected      1032\n",
    "nombre_sain          1709\n",
    "nombre_exposed        507\n",
    "nombre_recovered    16752\n",
    "Name: 241, dtype: int64"
   ]
  },
  {
   "cell_type": "markdown",
   "id": "6835765c",
   "metadata": {},
   "source": [
    "nombre_infected      1023\n",
    "nombre_sain          1718\n",
    "nombre_exposed        496\n",
    "nombre_recovered    16763\n",
    "Name: 242, dtype: int64"
   ]
  },
  {
   "cell_type": "markdown",
   "id": "122508f6",
   "metadata": {},
   "source": [
    "nombre_infected      1032\n",
    "nombre_sain          1724\n",
    "nombre_exposed        466\n",
    "nombre_recovered    16778\n",
    "Name: 243, dtype: int64"
   ]
  },
  {
   "cell_type": "markdown",
   "id": "af17a483",
   "metadata": {},
   "source": [
    "nombre_infected      1038\n",
    "nombre_sain          1729\n",
    "nombre_exposed        447\n",
    "nombre_recovered    16786\n",
    "Name: 244, dtype: int64"
   ]
  },
  {
   "cell_type": "markdown",
   "id": "30096302",
   "metadata": {},
   "source": [
    "nombre_infected      1051\n",
    "nombre_sain          1740\n",
    "nombre_exposed        442\n",
    "nombre_recovered    16767\n",
    "Name: 245, dtype: int64"
   ]
  },
  {
   "cell_type": "markdown",
   "id": "1c077dc4",
   "metadata": {},
   "source": [
    "nombre_infected      1063\n",
    "nombre_sain          1754\n",
    "nombre_exposed        437\n",
    "nombre_recovered    16746\n",
    "Name: 246, dtype: int64"
   ]
  },
  {
   "cell_type": "markdown",
   "id": "c9bd4def",
   "metadata": {},
   "source": [
    "nombre_infected      1042\n",
    "nombre_sain          1777\n",
    "nombre_exposed        432\n",
    "nombre_recovered    16749\n",
    "Name: 247, dtype: int64"
   ]
  },
  {
   "cell_type": "markdown",
   "id": "9a01520c",
   "metadata": {},
   "source": [
    "nombre_infected      1025\n",
    "nombre_sain          1827\n",
    "nombre_exposed        426\n",
    "nombre_recovered    16722\n",
    "Name: 248, dtype: int64"
   ]
  },
  {
   "cell_type": "markdown",
   "id": "ba6dad62",
   "metadata": {},
   "source": [
    "nombre_infected      1015\n",
    "nombre_sain          1827\n",
    "nombre_exposed        417\n",
    "nombre_recovered    16741\n",
    "Name: 249, dtype: int64"
   ]
  },
  {
   "cell_type": "markdown",
   "id": "9a8945b3",
   "metadata": {},
   "source": [
    "nombre_infected      1008\n",
    "nombre_sain          1822\n",
    "nombre_exposed        423\n",
    "nombre_recovered    16747\n",
    "Name: 250, dtype: int64"
   ]
  },
  {
   "cell_type": "markdown",
   "id": "29a6733c",
   "metadata": {},
   "source": [
    "nombre_infected       975\n",
    "nombre_sain          1795\n",
    "nombre_exposed        469\n",
    "nombre_recovered    16761\n",
    "Name: 251, dtype: int64"
   ]
  },
  {
   "cell_type": "markdown",
   "id": "9b5ae758",
   "metadata": {},
   "source": [
    "nombre_infected       966\n",
    "nombre_sain          1804\n",
    "nombre_exposed        453\n",
    "nombre_recovered    16777\n",
    "Name: 252, dtype: int64"
   ]
  },
  {
   "cell_type": "markdown",
   "id": "ff19db14",
   "metadata": {},
   "source": [
    "nombre_infected       973\n",
    "nombre_sain          1815\n",
    "nombre_exposed        417\n",
    "nombre_recovered    16795\n",
    "Name: 253, dtype: int64"
   ]
  },
  {
   "cell_type": "markdown",
   "id": "4a64546e",
   "metadata": {},
   "source": [
    "nombre_infected       961\n",
    "nombre_sain          1801\n",
    "nombre_exposed        439\n",
    "nombre_recovered    16799\n",
    "Name: 254, dtype: int64"
   ]
  },
  {
   "cell_type": "markdown",
   "id": "0bbaa856",
   "metadata": {},
   "source": [
    "nombre_infected       949\n",
    "nombre_sain          1814\n",
    "nombre_exposed        435\n",
    "nombre_recovered    16802\n",
    "Name: 255, dtype: int64"
   ]
  },
  {
   "cell_type": "markdown",
   "id": "3a319fe5",
   "metadata": {},
   "source": [
    "nombre_infected       921\n",
    "nombre_sain          1823\n",
    "nombre_exposed        433\n",
    "nombre_recovered    16823\n",
    "Name: 256, dtype: int64"
   ]
  },
  {
   "cell_type": "markdown",
   "id": "214effea",
   "metadata": {},
   "source": [
    "nombre_infected       897\n",
    "nombre_sain          1819\n",
    "nombre_exposed        420\n",
    "nombre_recovered    16864\n",
    "Name: 257, dtype: int64"
   ]
  },
  {
   "cell_type": "markdown",
   "id": "4b4b8bf3",
   "metadata": {},
   "source": [
    "nombre_infected       869\n",
    "nombre_sain          1818\n",
    "nombre_exposed        449\n",
    "nombre_recovered    16864\n",
    "Name: 258, dtype: int64"
   ]
  },
  {
   "cell_type": "markdown",
   "id": "2b92b4a3",
   "metadata": {},
   "source": [
    "nombre_infected       870\n",
    "nombre_sain          1853\n",
    "nombre_exposed        429\n",
    "nombre_recovered    16848\n",
    "Name: 259, dtype: int64"
   ]
  },
  {
   "cell_type": "markdown",
   "id": "549e3e9c",
   "metadata": {},
   "source": [
    "nombre_infected       867\n",
    "nombre_sain          1862\n",
    "nombre_exposed        419\n",
    "nombre_recovered    16852\n",
    "Name: 260, dtype: int64"
   ]
  },
  {
   "cell_type": "markdown",
   "id": "d33c8c15",
   "metadata": {},
   "source": [
    "nombre_infected       858\n",
    "nombre_sain          1881\n",
    "nombre_exposed        388\n",
    "nombre_recovered    16873\n",
    "Name: 261, dtype: int64"
   ]
  },
  {
   "cell_type": "markdown",
   "id": "85fe9396",
   "metadata": {},
   "source": [
    "nombre_infected       852\n",
    "nombre_sain          1912\n",
    "nombre_exposed        373\n",
    "nombre_recovered    16863\n",
    "Name: 262, dtype: int64"
   ]
  },
  {
   "cell_type": "markdown",
   "id": "79d26f2d",
   "metadata": {},
   "source": [
    "nombre_infected       827\n",
    "nombre_sain          1912\n",
    "nombre_exposed        408\n",
    "nombre_recovered    16853\n",
    "Name: 263, dtype: int64"
   ]
  },
  {
   "cell_type": "markdown",
   "id": "86ad0e51",
   "metadata": {},
   "source": [
    "nombre_infected       814\n",
    "nombre_sain          1939\n",
    "nombre_exposed        399\n",
    "nombre_recovered    16848\n",
    "Name: 264, dtype: int64"
   ]
  },
  {
   "cell_type": "markdown",
   "id": "52208c90",
   "metadata": {},
   "source": [
    "nombre_infected       823\n",
    "nombre_sain          1980\n",
    "nombre_exposed        374\n",
    "nombre_recovered    16823\n",
    "Name: 265, dtype: int64"
   ]
  },
  {
   "cell_type": "markdown",
   "id": "9ff563a9",
   "metadata": {},
   "source": [
    "nombre_infected       826\n",
    "nombre_sain          2004\n",
    "nombre_exposed        358\n",
    "nombre_recovered    16812\n",
    "Name: 266, dtype: int64"
   ]
  },
  {
   "cell_type": "markdown",
   "id": "97a2b0c5",
   "metadata": {},
   "source": [
    "nombre_infected       794\n",
    "nombre_sain          2003\n",
    "nombre_exposed        387\n",
    "nombre_recovered    16816\n",
    "Name: 267, dtype: int64"
   ]
  },
  {
   "cell_type": "markdown",
   "id": "bda5387b",
   "metadata": {},
   "source": [
    "nombre_infected       806\n",
    "nombre_sain          2023\n",
    "nombre_exposed        365\n",
    "nombre_recovered    16806\n",
    "Name: 268, dtype: int64"
   ]
  },
  {
   "cell_type": "markdown",
   "id": "b19bfd50",
   "metadata": {},
   "source": [
    "nombre_infected       792\n",
    "nombre_sain          2050\n",
    "nombre_exposed        368\n",
    "nombre_recovered    16790\n",
    "Name: 269, dtype: int64"
   ]
  },
  {
   "cell_type": "markdown",
   "id": "a57077a1",
   "metadata": {},
   "source": [
    "nombre_infected       780\n",
    "nombre_sain          2093\n",
    "nombre_exposed        380\n",
    "nombre_recovered    16747\n",
    "Name: 270, dtype: int64"
   ]
  },
  {
   "cell_type": "markdown",
   "id": "6840452a",
   "metadata": {},
   "source": [
    "nombre_infected       759\n",
    "nombre_sain          2116\n",
    "nombre_exposed        393\n",
    "nombre_recovered    16732\n",
    "Name: 271, dtype: int64"
   ]
  },
  {
   "cell_type": "markdown",
   "id": "6f2998a7",
   "metadata": {},
   "source": [
    "nombre_infected       754\n",
    "nombre_sain          2147\n",
    "nombre_exposed        400\n",
    "nombre_recovered    16699\n",
    "Name: 272, dtype: int64"
   ]
  },
  {
   "cell_type": "markdown",
   "id": "531592d4",
   "metadata": {},
   "source": [
    "nombre_infected       760\n",
    "nombre_sain          2181\n",
    "nombre_exposed        394\n",
    "nombre_recovered    16665\n",
    "Name: 273, dtype: int64"
   ]
  },
  {
   "cell_type": "markdown",
   "id": "d607615d",
   "metadata": {},
   "source": [
    "nombre_infected       758\n",
    "nombre_sain          2212\n",
    "nombre_exposed        384\n",
    "nombre_recovered    16646\n",
    "Name: 274, dtype: int64"
   ]
  },
  {
   "cell_type": "markdown",
   "id": "23c61c52",
   "metadata": {},
   "source": [
    "nombre_infected       763\n",
    "nombre_sain          2255\n",
    "nombre_exposed        374\n",
    "nombre_recovered    16608\n",
    "Name: 275, dtype: int64"
   ]
  },
  {
   "cell_type": "markdown",
   "id": "1cca99e0",
   "metadata": {},
   "source": [
    "nombre_infected       770\n",
    "nombre_sain          2278\n",
    "nombre_exposed        378\n",
    "nombre_recovered    16574\n",
    "Name: 276, dtype: int64"
   ]
  },
  {
   "cell_type": "markdown",
   "id": "cc10cb59",
   "metadata": {},
   "source": [
    "nombre_infected       754\n",
    "nombre_sain          2306\n",
    "nombre_exposed        376\n",
    "nombre_recovered    16564\n",
    "Name: 277, dtype: int64"
   ]
  },
  {
   "cell_type": "markdown",
   "id": "c9303791",
   "metadata": {},
   "source": [
    "nombre_infected       754\n",
    "nombre_sain          2329\n",
    "nombre_exposed        365\n",
    "nombre_recovered    16552\n",
    "Name: 278, dtype: int64"
   ]
  },
  {
   "cell_type": "markdown",
   "id": "59e2ad8a",
   "metadata": {},
   "source": [
    "nombre_infected       727\n",
    "nombre_sain          2315\n",
    "nombre_exposed        405\n",
    "nombre_recovered    16553\n",
    "Name: 279, dtype: int64"
   ]
  },
  {
   "cell_type": "markdown",
   "id": "01ffff47",
   "metadata": {},
   "source": [
    "nombre_infected       727\n",
    "nombre_sain          2312\n",
    "nombre_exposed        423\n",
    "nombre_recovered    16538\n",
    "Name: 280, dtype: int64"
   ]
  },
  {
   "cell_type": "markdown",
   "id": "78ebb7c9",
   "metadata": {},
   "source": [
    "nombre_infected       725\n",
    "nombre_sain          2336\n",
    "nombre_exposed        410\n",
    "nombre_recovered    16529\n",
    "Name: 281, dtype: int64"
   ]
  },
  {
   "cell_type": "markdown",
   "id": "344fd364",
   "metadata": {},
   "source": [
    "nombre_infected       727\n",
    "nombre_sain          2362\n",
    "nombre_exposed        426\n",
    "nombre_recovered    16485\n",
    "Name: 282, dtype: int64"
   ]
  },
  {
   "cell_type": "markdown",
   "id": "1883e2d4",
   "metadata": {},
   "source": [
    "nombre_infected       743\n",
    "nombre_sain          2375\n",
    "nombre_exposed        418\n",
    "nombre_recovered    16464\n",
    "Name: 283, dtype: int64"
   ]
  },
  {
   "cell_type": "markdown",
   "id": "cbc5d098",
   "metadata": {},
   "source": [
    "nombre_infected       730\n",
    "nombre_sain          2371\n",
    "nombre_exposed        435\n",
    "nombre_recovered    16464\n",
    "Name: 284, dtype: int64"
   ]
  },
  {
   "cell_type": "markdown",
   "id": "f11cbafc",
   "metadata": {},
   "source": [
    "nombre_infected       736\n",
    "nombre_sain          2391\n",
    "nombre_exposed        425\n",
    "nombre_recovered    16448\n",
    "Name: 285, dtype: int64"
   ]
  },
  {
   "cell_type": "markdown",
   "id": "834d9f04",
   "metadata": {},
   "source": [
    "nombre_infected       743\n",
    "nombre_sain          2413\n",
    "nombre_exposed        399\n",
    "nombre_recovered    16445\n",
    "Name: 286, dtype: int64"
   ]
  },
  {
   "cell_type": "markdown",
   "id": "b8b8bd4f",
   "metadata": {},
   "source": [
    "nombre_infected       741\n",
    "nombre_sain          2456\n",
    "nombre_exposed        371\n",
    "nombre_recovered    16432\n",
    "Name: 287, dtype: int64"
   ]
  },
  {
   "cell_type": "markdown",
   "id": "2777da66",
   "metadata": {},
   "source": [
    "nombre_infected       743\n",
    "nombre_sain          2451\n",
    "nombre_exposed        386\n",
    "nombre_recovered    16420\n",
    "Name: 288, dtype: int64"
   ]
  },
  {
   "cell_type": "markdown",
   "id": "2e7ac707",
   "metadata": {},
   "source": [
    "nombre_infected       734\n",
    "nombre_sain          2449\n",
    "nombre_exposed        404\n",
    "nombre_recovered    16413\n",
    "Name: 289, dtype: int64"
   ]
  },
  {
   "cell_type": "markdown",
   "id": "eaca0344",
   "metadata": {},
   "source": [
    "nombre_infected       741\n",
    "nombre_sain          2466\n",
    "nombre_exposed        385\n",
    "nombre_recovered    16408\n",
    "Name: 290, dtype: int64"
   ]
  },
  {
   "cell_type": "markdown",
   "id": "7f411b93",
   "metadata": {},
   "source": [
    "nombre_infected       737\n",
    "nombre_sain          2418\n",
    "nombre_exposed        421\n",
    "nombre_recovered    16424\n",
    "Name: 291, dtype: int64"
   ]
  },
  {
   "cell_type": "markdown",
   "id": "1d3e938c",
   "metadata": {},
   "source": [
    "nombre_infected       725\n",
    "nombre_sain          2404\n",
    "nombre_exposed        455\n",
    "nombre_recovered    16416\n",
    "Name: 292, dtype: int64"
   ]
  },
  {
   "cell_type": "markdown",
   "id": "e04898b3",
   "metadata": {},
   "source": [
    "nombre_infected       731\n",
    "nombre_sain          2383\n",
    "nombre_exposed        475\n",
    "nombre_recovered    16411\n",
    "Name: 293, dtype: int64"
   ]
  },
  {
   "cell_type": "markdown",
   "id": "03ad465a",
   "metadata": {},
   "source": [
    "nombre_infected       729\n",
    "nombre_sain          2396\n",
    "nombre_exposed        466\n",
    "nombre_recovered    16409\n",
    "Name: 294, dtype: int64"
   ]
  },
  {
   "cell_type": "markdown",
   "id": "1a340c46",
   "metadata": {},
   "source": [
    "nombre_infected       732\n",
    "nombre_sain          2383\n",
    "nombre_exposed        479\n",
    "nombre_recovered    16406\n",
    "Name: 295, dtype: int64"
   ]
  },
  {
   "cell_type": "markdown",
   "id": "6f135b26",
   "metadata": {},
   "source": [
    "nombre_infected       746\n",
    "nombre_sain          2374\n",
    "nombre_exposed        481\n",
    "nombre_recovered    16399\n",
    "Name: 296, dtype: int64"
   ]
  },
  {
   "cell_type": "markdown",
   "id": "bc810842",
   "metadata": {},
   "source": [
    "nombre_infected       761\n",
    "nombre_sain          2368\n",
    "nombre_exposed        473\n",
    "nombre_recovered    16398\n",
    "Name: 297, dtype: int64"
   ]
  },
  {
   "cell_type": "markdown",
   "id": "526aa2ad",
   "metadata": {},
   "source": [
    "nombre_infected       775\n",
    "nombre_sain          2382\n",
    "nombre_exposed        453\n",
    "nombre_recovered    16390\n",
    "Name: 298, dtype: int64"
   ]
  },
  {
   "cell_type": "markdown",
   "id": "d91d0806",
   "metadata": {},
   "source": [
    "nombre_infected       778\n",
    "nombre_sain          2394\n",
    "nombre_exposed        455\n",
    "nombre_recovered    16373\n",
    "Name: 299, dtype: int64"
   ]
  },
  {
   "cell_type": "markdown",
   "id": "00e27749",
   "metadata": {},
   "source": [
    "nombre_infected       782\n",
    "nombre_sain          2387\n",
    "nombre_exposed        458\n",
    "nombre_recovered    16373\n",
    "Name: 300, dtype: int64"
   ]
  },
  {
   "cell_type": "markdown",
   "id": "c6bb63bb",
   "metadata": {},
   "source": [
    "nombre_infected       771\n",
    "nombre_sain          2380\n",
    "nombre_exposed        478\n",
    "nombre_recovered    16371\n",
    "Name: 301, dtype: int64"
   ]
  },
  {
   "cell_type": "markdown",
   "id": "0cce28ab",
   "metadata": {},
   "source": [
    "nombre_infected       778\n",
    "nombre_sain          2364\n",
    "nombre_exposed        477\n",
    "nombre_recovered    16381\n",
    "Name: 302, dtype: int64"
   ]
  },
  {
   "cell_type": "markdown",
   "id": "25781296",
   "metadata": {},
   "source": [
    "nombre_infected       773\n",
    "nombre_sain          2375\n",
    "nombre_exposed        483\n",
    "nombre_recovered    16369\n",
    "Name: 303, dtype: int64"
   ]
  },
  {
   "cell_type": "markdown",
   "id": "c2032f38",
   "metadata": {},
   "source": [
    "nombre_infected       781\n",
    "nombre_sain          2341\n",
    "nombre_exposed        516\n",
    "nombre_recovered    16362\n",
    "Name: 304, dtype: int64"
   ]
  },
  {
   "cell_type": "markdown",
   "id": "f2cae7d5",
   "metadata": {},
   "source": [
    "nombre_infected       775\n",
    "nombre_sain          2317\n",
    "nombre_exposed        517\n",
    "nombre_recovered    16391\n",
    "Name: 305, dtype: int64"
   ]
  },
  {
   "cell_type": "markdown",
   "id": "bce3ae11",
   "metadata": {},
   "source": [
    "nombre_infected       793\n",
    "nombre_sain          2292\n",
    "nombre_exposed        532\n",
    "nombre_recovered    16383\n",
    "Name: 306, dtype: int64"
   ]
  },
  {
   "cell_type": "markdown",
   "id": "41b6de6c",
   "metadata": {},
   "source": [
    "nombre_infected       796\n",
    "nombre_sain          2273\n",
    "nombre_exposed        519\n",
    "nombre_recovered    16412\n",
    "Name: 307, dtype: int64"
   ]
  },
  {
   "cell_type": "markdown",
   "id": "27da5bee",
   "metadata": {},
   "source": [
    "nombre_infected       809\n",
    "nombre_sain          2288\n",
    "nombre_exposed        499\n",
    "nombre_recovered    16404\n",
    "Name: 308, dtype: int64"
   ]
  },
  {
   "cell_type": "markdown",
   "id": "1167c49d",
   "metadata": {},
   "source": [
    "nombre_infected       817\n",
    "nombre_sain          2280\n",
    "nombre_exposed        500\n",
    "nombre_recovered    16403\n",
    "Name: 309, dtype: int64"
   ]
  },
  {
   "cell_type": "markdown",
   "id": "d8f8d986",
   "metadata": {},
   "source": [
    "nombre_infected       831\n",
    "nombre_sain          2256\n",
    "nombre_exposed        503\n",
    "nombre_recovered    16410\n",
    "Name: 310, dtype: int64"
   ]
  },
  {
   "cell_type": "markdown",
   "id": "93e613e0",
   "metadata": {},
   "source": [
    "nombre_infected       867\n",
    "nombre_sain          2217\n",
    "nombre_exposed        507\n",
    "nombre_recovered    16409\n",
    "Name: 311, dtype: int64"
   ]
  },
  {
   "cell_type": "markdown",
   "id": "fdb7e909",
   "metadata": {},
   "source": [
    "nombre_infected       866\n",
    "nombre_sain          2179\n",
    "nombre_exposed        539\n",
    "nombre_recovered    16416\n",
    "Name: 312, dtype: int64"
   ]
  },
  {
   "cell_type": "markdown",
   "id": "befba301",
   "metadata": {},
   "source": [
    "nombre_infected       887\n",
    "nombre_sain          2152\n",
    "nombre_exposed        531\n",
    "nombre_recovered    16430\n",
    "Name: 313, dtype: int64"
   ]
  },
  {
   "cell_type": "markdown",
   "id": "3f440e4e",
   "metadata": {},
   "source": [
    "nombre_infected       925\n",
    "nombre_sain          2120\n",
    "nombre_exposed        527\n",
    "nombre_recovered    16428\n",
    "Name: 314, dtype: int64"
   ]
  },
  {
   "cell_type": "markdown",
   "id": "df94a514",
   "metadata": {},
   "source": [
    "nombre_infected       923\n",
    "nombre_sain          2079\n",
    "nombre_exposed        546\n",
    "nombre_recovered    16452\n",
    "Name: 315, dtype: int64"
   ]
  },
  {
   "cell_type": "markdown",
   "id": "53929f06",
   "metadata": {},
   "source": [
    "nombre_infected       949\n",
    "nombre_sain          2085\n",
    "nombre_exposed        506\n",
    "nombre_recovered    16460\n",
    "Name: 316, dtype: int64"
   ]
  },
  {
   "cell_type": "markdown",
   "id": "773ca3ec",
   "metadata": {},
   "source": [
    "nombre_infected       955\n",
    "nombre_sain          2070\n",
    "nombre_exposed        495\n",
    "nombre_recovered    16480\n",
    "Name: 317, dtype: int64"
   ]
  },
  {
   "cell_type": "markdown",
   "id": "0c3b94cf",
   "metadata": {},
   "source": [
    "nombre_infected       939\n",
    "nombre_sain          2053\n",
    "nombre_exposed        510\n",
    "nombre_recovered    16498\n",
    "Name: 318, dtype: int64"
   ]
  },
  {
   "cell_type": "markdown",
   "id": "0d84aa5d",
   "metadata": {},
   "source": [
    "nombre_infected       935\n",
    "nombre_sain          2046\n",
    "nombre_exposed        506\n",
    "nombre_recovered    16513\n",
    "Name: 319, dtype: int64"
   ]
  },
  {
   "cell_type": "markdown",
   "id": "b1e133cd",
   "metadata": {},
   "source": [
    "nombre_infected       952\n",
    "nombre_sain          2046\n",
    "nombre_exposed        486\n",
    "nombre_recovered    16516\n",
    "Name: 320, dtype: int64"
   ]
  },
  {
   "cell_type": "markdown",
   "id": "ba585056",
   "metadata": {},
   "source": [
    "nombre_infected       950\n",
    "nombre_sain          2045\n",
    "nombre_exposed        476\n",
    "nombre_recovered    16529\n",
    "Name: 321, dtype: int64"
   ]
  },
  {
   "cell_type": "markdown",
   "id": "ba56c995",
   "metadata": {},
   "source": [
    "nombre_infected       932\n",
    "nombre_sain          2047\n",
    "nombre_exposed        477\n",
    "nombre_recovered    16544\n",
    "Name: 322, dtype: int64"
   ]
  },
  {
   "cell_type": "markdown",
   "id": "9e23fbce",
   "metadata": {},
   "source": [
    "nombre_infected       944\n",
    "nombre_sain          2028\n",
    "nombre_exposed        475\n",
    "nombre_recovered    16553\n",
    "Name: 323, dtype: int64"
   ]
  },
  {
   "cell_type": "markdown",
   "id": "e8520e49",
   "metadata": {},
   "source": [
    "nombre_infected       940\n",
    "nombre_sain          2019\n",
    "nombre_exposed        475\n",
    "nombre_recovered    16566\n",
    "Name: 324, dtype: int64"
   ]
  },
  {
   "cell_type": "markdown",
   "id": "855ae506",
   "metadata": {},
   "source": [
    "nombre_infected       939\n",
    "nombre_sain          2041\n",
    "nombre_exposed        486\n",
    "nombre_recovered    16534\n",
    "Name: 325, dtype: int64"
   ]
  },
  {
   "cell_type": "markdown",
   "id": "a7174880",
   "metadata": {},
   "source": [
    "nombre_infected       922\n",
    "nombre_sain          2053\n",
    "nombre_exposed        483\n",
    "nombre_recovered    16542\n",
    "Name: 326, dtype: int64"
   ]
  },
  {
   "cell_type": "markdown",
   "id": "3c9b3fb7",
   "metadata": {},
   "source": [
    "nombre_infected       937\n",
    "nombre_sain          2035\n",
    "nombre_exposed        485\n",
    "nombre_recovered    16543\n",
    "Name: 327, dtype: int64"
   ]
  },
  {
   "cell_type": "markdown",
   "id": "55eef57e",
   "metadata": {},
   "source": [
    "nombre_infected       933\n",
    "nombre_sain          2070\n",
    "nombre_exposed        470\n",
    "nombre_recovered    16527\n",
    "Name: 328, dtype: int64"
   ]
  },
  {
   "cell_type": "markdown",
   "id": "37f96eb2",
   "metadata": {},
   "source": [
    "nombre_infected       908\n",
    "nombre_sain          2058\n",
    "nombre_exposed        495\n",
    "nombre_recovered    16539\n",
    "Name: 329, dtype: int64"
   ]
  },
  {
   "cell_type": "markdown",
   "id": "7b09a378",
   "metadata": {},
   "source": [
    "nombre_infected       920\n",
    "nombre_sain          2069\n",
    "nombre_exposed        501\n",
    "nombre_recovered    16510\n",
    "Name: 330, dtype: int64"
   ]
  },
  {
   "cell_type": "markdown",
   "id": "6a71a70b",
   "metadata": {},
   "source": [
    "nombre_infected       948\n",
    "nombre_sain          2067\n",
    "nombre_exposed        499\n",
    "nombre_recovered    16486\n",
    "Name: 331, dtype: int64"
   ]
  },
  {
   "cell_type": "markdown",
   "id": "9c9cd83e",
   "metadata": {},
   "source": [
    "nombre_infected       940\n",
    "nombre_sain          2061\n",
    "nombre_exposed        499\n",
    "nombre_recovered    16500\n",
    "Name: 332, dtype: int64"
   ]
  },
  {
   "cell_type": "markdown",
   "id": "65d96f35",
   "metadata": {},
   "source": [
    "nombre_infected       963\n",
    "nombre_sain          2066\n",
    "nombre_exposed        472\n",
    "nombre_recovered    16499\n",
    "Name: 333, dtype: int64"
   ]
  },
  {
   "cell_type": "markdown",
   "id": "1b962f4a",
   "metadata": {},
   "source": [
    "nombre_infected       947\n",
    "nombre_sain          2041\n",
    "nombre_exposed        496\n",
    "nombre_recovered    16516\n",
    "Name: 334, dtype: int64"
   ]
  },
  {
   "cell_type": "markdown",
   "id": "a3dce841",
   "metadata": {},
   "source": [
    "nombre_infected       947\n",
    "nombre_sain          2028\n",
    "nombre_exposed        499\n",
    "nombre_recovered    16526\n",
    "Name: 335, dtype: int64"
   ]
  },
  {
   "cell_type": "markdown",
   "id": "7ef70616",
   "metadata": {},
   "source": [
    "nombre_infected       934\n",
    "nombre_sain          2000\n",
    "nombre_exposed        519\n",
    "nombre_recovered    16547\n",
    "Name: 336, dtype: int64"
   ]
  },
  {
   "cell_type": "markdown",
   "id": "0efc059e",
   "metadata": {},
   "source": [
    "nombre_infected       961\n",
    "nombre_sain          1993\n",
    "nombre_exposed        517\n",
    "nombre_recovered    16529\n",
    "Name: 337, dtype: int64"
   ]
  },
  {
   "cell_type": "markdown",
   "id": "e04fbd71",
   "metadata": {},
   "source": [
    "nombre_infected       956\n",
    "nombre_sain          1992\n",
    "nombre_exposed        516\n",
    "nombre_recovered    16536\n",
    "Name: 338, dtype: int64"
   ]
  },
  {
   "cell_type": "markdown",
   "id": "c85abc28",
   "metadata": {},
   "source": [
    "nombre_infected       944\n",
    "nombre_sain          2003\n",
    "nombre_exposed        524\n",
    "nombre_recovered    16529\n",
    "Name: 339, dtype: int64"
   ]
  },
  {
   "cell_type": "markdown",
   "id": "4858b0b4",
   "metadata": {},
   "source": [
    "nombre_infected       921\n",
    "nombre_sain          1985\n",
    "nombre_exposed        545\n",
    "nombre_recovered    16549\n",
    "Name: 340, dtype: int64"
   ]
  },
  {
   "cell_type": "markdown",
   "id": "274ce869",
   "metadata": {},
   "source": [
    "nombre_infected       914\n",
    "nombre_sain          1988\n",
    "nombre_exposed        533\n",
    "nombre_recovered    16565\n",
    "Name: 341, dtype: int64"
   ]
  },
  {
   "cell_type": "markdown",
   "id": "64a4306f",
   "metadata": {},
   "source": [
    "nombre_infected       932\n",
    "nombre_sain          1984\n",
    "nombre_exposed        537\n",
    "nombre_recovered    16547\n",
    "Name: 342, dtype: int64"
   ]
  },
  {
   "cell_type": "markdown",
   "id": "5781f590",
   "metadata": {},
   "source": [
    "nombre_infected       943\n",
    "nombre_sain          1997\n",
    "nombre_exposed        531\n",
    "nombre_recovered    16529\n",
    "Name: 343, dtype: int64"
   ]
  },
  {
   "cell_type": "markdown",
   "id": "24695bfa",
   "metadata": {},
   "source": [
    "nombre_infected       952\n",
    "nombre_sain          1989\n",
    "nombre_exposed        538\n",
    "nombre_recovered    16521\n",
    "Name: 344, dtype: int64"
   ]
  },
  {
   "cell_type": "markdown",
   "id": "a86f9090",
   "metadata": {},
   "source": [
    "nombre_infected       964\n",
    "nombre_sain          1975\n",
    "nombre_exposed        561\n",
    "nombre_recovered    16500\n",
    "Name: 345, dtype: int64"
   ]
  },
  {
   "cell_type": "markdown",
   "id": "ff51ccc7",
   "metadata": {},
   "source": [
    "nombre_infected       985\n",
    "nombre_sain          1979\n",
    "nombre_exposed        532\n",
    "nombre_recovered    16504\n",
    "Name: 346, dtype: int64"
   ]
  },
  {
   "cell_type": "markdown",
   "id": "0977a527",
   "metadata": {},
   "source": [
    "nombre_infected      1008\n",
    "nombre_sain          1948\n",
    "nombre_exposed        534\n",
    "nombre_recovered    16510\n",
    "Name: 347, dtype: int64"
   ]
  },
  {
   "cell_type": "markdown",
   "id": "557ff277",
   "metadata": {},
   "source": [
    "nombre_infected      1013\n",
    "nombre_sain          1909\n",
    "nombre_exposed        550\n",
    "nombre_recovered    16528\n",
    "Name: 348, dtype: int64"
   ]
  },
  {
   "cell_type": "markdown",
   "id": "12bcd030",
   "metadata": {},
   "source": [
    "nombre_infected      1028\n",
    "nombre_sain          1914\n",
    "nombre_exposed        538\n",
    "nombre_recovered    16520\n",
    "Name: 349, dtype: int64"
   ]
  },
  {
   "cell_type": "markdown",
   "id": "663eaa84",
   "metadata": {},
   "source": [
    "nombre_infected      1029\n",
    "nombre_sain          1911\n",
    "nombre_exposed        524\n",
    "nombre_recovered    16536\n",
    "Name: 350, dtype: int64"
   ]
  },
  {
   "cell_type": "markdown",
   "id": "b0962176",
   "metadata": {},
   "source": [
    "nombre_infected      1013\n",
    "nombre_sain          1889\n",
    "nombre_exposed        520\n",
    "nombre_recovered    16578\n",
    "Name: 351, dtype: int64"
   ]
  },
  {
   "cell_type": "markdown",
   "id": "1410d632",
   "metadata": {},
   "source": [
    "nombre_infected      1012\n",
    "nombre_sain          1899\n",
    "nombre_exposed        507\n",
    "nombre_recovered    16582\n",
    "Name: 352, dtype: int64"
   ]
  },
  {
   "cell_type": "markdown",
   "id": "6e290818",
   "metadata": {},
   "source": [
    "nombre_infected      1005\n",
    "nombre_sain          1901\n",
    "nombre_exposed        501\n",
    "nombre_recovered    16593\n",
    "Name: 353, dtype: int64"
   ]
  },
  {
   "cell_type": "markdown",
   "id": "4fa39091",
   "metadata": {},
   "source": [
    "nombre_infected       983\n",
    "nombre_sain          1877\n",
    "nombre_exposed        527\n",
    "nombre_recovered    16613\n",
    "Name: 354, dtype: int64"
   ]
  },
  {
   "cell_type": "markdown",
   "id": "4758d4ed",
   "metadata": {},
   "source": [
    "nombre_infected       995\n",
    "nombre_sain          1862\n",
    "nombre_exposed        516\n",
    "nombre_recovered    16627\n",
    "Name: 355, dtype: int64"
   ]
  },
  {
   "cell_type": "markdown",
   "id": "4284ac0b",
   "metadata": {},
   "source": [
    "nombre_infected      1012\n",
    "nombre_sain          1841\n",
    "nombre_exposed        519\n",
    "nombre_recovered    16628\n",
    "Name: 356, dtype: int64"
   ]
  },
  {
   "cell_type": "markdown",
   "id": "39f95fc4",
   "metadata": {},
   "source": [
    "nombre_infected       986\n",
    "nombre_sain          1835\n",
    "nombre_exposed        509\n",
    "nombre_recovered    16670\n",
    "Name: 357, dtype: int64"
   ]
  },
  {
   "cell_type": "markdown",
   "id": "22cb41ea",
   "metadata": {},
   "source": [
    "nombre_infected       982\n",
    "nombre_sain          1830\n",
    "nombre_exposed        494\n",
    "nombre_recovered    16694\n",
    "Name: 358, dtype: int64"
   ]
  },
  {
   "cell_type": "markdown",
   "id": "12fae8af",
   "metadata": {},
   "source": [
    "nombre_infected       977\n",
    "nombre_sain          1834\n",
    "nombre_exposed        491\n",
    "nombre_recovered    16698\n",
    "Name: 359, dtype: int64"
   ]
  },
  {
   "cell_type": "markdown",
   "id": "b935a993",
   "metadata": {},
   "source": [
    "nombre_infected       951\n",
    "nombre_sain          1860\n",
    "nombre_exposed        482\n",
    "nombre_recovered    16707\n",
    "Name: 360, dtype: int64"
   ]
  },
  {
   "cell_type": "markdown",
   "id": "e0ef1aa3",
   "metadata": {},
   "source": [
    "nombre_infected       945\n",
    "nombre_sain          1866\n",
    "nombre_exposed        470\n",
    "nombre_recovered    16719\n",
    "Name: 361, dtype: int64"
   ]
  },
  {
   "cell_type": "markdown",
   "id": "c13bfd46",
   "metadata": {},
   "source": [
    "nombre_infected       925\n",
    "nombre_sain          1868\n",
    "nombre_exposed        490\n",
    "nombre_recovered    16717\n",
    "Name: 362, dtype: int64"
   ]
  },
  {
   "cell_type": "markdown",
   "id": "b5db0606",
   "metadata": {},
   "source": [
    "nombre_infected       926\n",
    "nombre_sain          1892\n",
    "nombre_exposed        483\n",
    "nombre_recovered    16699\n",
    "Name: 363, dtype: int64"
   ]
  },
  {
   "cell_type": "markdown",
   "id": "f6fc7c81",
   "metadata": {},
   "source": [
    "nombre_infected       921\n",
    "nombre_sain          1927\n",
    "nombre_exposed        480\n",
    "nombre_recovered    16672\n",
    "Name: 364, dtype: int64"
   ]
  },
  {
   "cell_type": "markdown",
   "id": "d7fac139",
   "metadata": {},
   "source": [
    "nombre_infected       925\n",
    "nombre_sain          1948\n",
    "nombre_exposed        484\n",
    "nombre_recovered    16643\n",
    "Name: 365, dtype: int64"
   ]
  },
  {
   "cell_type": "markdown",
   "id": "050866f9",
   "metadata": {},
   "source": [
    "nombre_infected       923\n",
    "nombre_sain          1943\n",
    "nombre_exposed        495\n",
    "nombre_recovered    16639\n",
    "Name: 366, dtype: int64"
   ]
  },
  {
   "cell_type": "markdown",
   "id": "e1cd799b",
   "metadata": {},
   "source": [
    "nombre_infected       943\n",
    "nombre_sain          1947\n",
    "nombre_exposed        491\n",
    "nombre_recovered    16619\n",
    "Name: 367, dtype: int64"
   ]
  },
  {
   "cell_type": "markdown",
   "id": "c4fca3d4",
   "metadata": {},
   "source": [
    "nombre_infected       952\n",
    "nombre_sain          1937\n",
    "nombre_exposed        509\n",
    "nombre_recovered    16602\n",
    "Name: 368, dtype: int64"
   ]
  },
  {
   "cell_type": "markdown",
   "id": "f8abe02c",
   "metadata": {},
   "source": [
    "nombre_infected       942\n",
    "nombre_sain          1955\n",
    "nombre_exposed        501\n",
    "nombre_recovered    16602\n",
    "Name: 369, dtype: int64"
   ]
  },
  {
   "cell_type": "markdown",
   "id": "ea51a97a",
   "metadata": {},
   "source": [
    "nombre_infected       965\n",
    "nombre_sain          1960\n",
    "nombre_exposed        486\n",
    "nombre_recovered    16589\n",
    "Name: 370, dtype: int64"
   ]
  },
  {
   "cell_type": "markdown",
   "id": "54562c49",
   "metadata": {},
   "source": [
    "nombre_infected       970\n",
    "nombre_sain          1954\n",
    "nombre_exposed        493\n",
    "nombre_recovered    16583\n",
    "Name: 371, dtype: int64"
   ]
  },
  {
   "cell_type": "markdown",
   "id": "02c5285e",
   "metadata": {},
   "source": [
    "nombre_infected       958\n",
    "nombre_sain          1945\n",
    "nombre_exposed        501\n",
    "nombre_recovered    16596\n",
    "Name: 372, dtype: int64"
   ]
  },
  {
   "cell_type": "markdown",
   "id": "700e4d1f",
   "metadata": {},
   "source": [
    "nombre_infected       966\n",
    "nombre_sain          1970\n",
    "nombre_exposed        487\n",
    "nombre_recovered    16577\n",
    "Name: 373, dtype: int64"
   ]
  },
  {
   "cell_type": "markdown",
   "id": "abf9dd8e",
   "metadata": {},
   "source": [
    "nombre_infected       972\n",
    "nombre_sain          1981\n",
    "nombre_exposed        475\n",
    "nombre_recovered    16572\n",
    "Name: 374, dtype: int64"
   ]
  },
  {
   "cell_type": "markdown",
   "id": "4bde35fe",
   "metadata": {},
   "source": [
    "nombre_infected       946\n",
    "nombre_sain          2000\n",
    "nombre_exposed        489\n",
    "nombre_recovered    16565\n",
    "Name: 375, dtype: int64"
   ]
  },
  {
   "cell_type": "markdown",
   "id": "32116a7d",
   "metadata": {},
   "source": [
    "nombre_infected       962\n",
    "nombre_sain          2014\n",
    "nombre_exposed        473\n",
    "nombre_recovered    16551\n",
    "Name: 376, dtype: int64"
   ]
  },
  {
   "cell_type": "markdown",
   "id": "99e046d4",
   "metadata": {},
   "source": [
    "nombre_infected       938\n",
    "nombre_sain          2017\n",
    "nombre_exposed        469\n",
    "nombre_recovered    16576\n",
    "Name: 377, dtype: int64"
   ]
  },
  {
   "cell_type": "markdown",
   "id": "6d89e7a3",
   "metadata": {},
   "source": [
    "nombre_infected       959\n",
    "nombre_sain          1999\n",
    "nombre_exposed        451\n",
    "nombre_recovered    16591\n",
    "Name: 378, dtype: int64"
   ]
  },
  {
   "cell_type": "markdown",
   "id": "17c394d3",
   "metadata": {},
   "source": [
    "nombre_infected       951\n",
    "nombre_sain          2013\n",
    "nombre_exposed        469\n",
    "nombre_recovered    16567\n",
    "Name: 379, dtype: int64"
   ]
  },
  {
   "cell_type": "markdown",
   "id": "dd8cf9ac",
   "metadata": {},
   "source": [
    "nombre_infected       941\n",
    "nombre_sain          2031\n",
    "nombre_exposed        473\n",
    "nombre_recovered    16555\n",
    "Name: 380, dtype: int64"
   ]
  },
  {
   "cell_type": "markdown",
   "id": "6481718b",
   "metadata": {},
   "source": [
    "nombre_infected       935\n",
    "nombre_sain          2023\n",
    "nombre_exposed        486\n",
    "nombre_recovered    16556\n",
    "Name: 381, dtype: int64"
   ]
  },
  {
   "cell_type": "markdown",
   "id": "a0bf3054",
   "metadata": {},
   "source": [
    "nombre_infected       941\n",
    "nombre_sain          2018\n",
    "nombre_exposed        485\n",
    "nombre_recovered    16556\n",
    "Name: 382, dtype: int64"
   ]
  },
  {
   "cell_type": "markdown",
   "id": "c895fa4e",
   "metadata": {},
   "source": [
    "nombre_infected       949\n",
    "nombre_sain          2013\n",
    "nombre_exposed        505\n",
    "nombre_recovered    16533\n",
    "Name: 383, dtype: int64"
   ]
  },
  {
   "cell_type": "markdown",
   "id": "0e717701",
   "metadata": {},
   "source": [
    "nombre_infected       962\n",
    "nombre_sain          1983\n",
    "nombre_exposed        506\n",
    "nombre_recovered    16549\n",
    "Name: 384, dtype: int64"
   ]
  },
  {
   "cell_type": "markdown",
   "id": "41e94ba7",
   "metadata": {},
   "source": [
    "nombre_infected       975\n",
    "nombre_sain          1991\n",
    "nombre_exposed        498\n",
    "nombre_recovered    16536\n",
    "Name: 385, dtype: int64"
   ]
  },
  {
   "cell_type": "markdown",
   "id": "ab232607",
   "metadata": {},
   "source": [
    "nombre_infected       968\n",
    "nombre_sain          1977\n",
    "nombre_exposed        493\n",
    "nombre_recovered    16562\n",
    "Name: 386, dtype: int64"
   ]
  },
  {
   "cell_type": "markdown",
   "id": "1c4b8d16",
   "metadata": {},
   "source": [
    "nombre_infected       981\n",
    "nombre_sain          1976\n",
    "nombre_exposed        470\n",
    "nombre_recovered    16573\n",
    "Name: 387, dtype: int64"
   ]
  },
  {
   "cell_type": "markdown",
   "id": "e6b59f2b",
   "metadata": {},
   "source": [
    "nombre_infected       974\n",
    "nombre_sain          1951\n",
    "nombre_exposed        474\n",
    "nombre_recovered    16601\n",
    "Name: 388, dtype: int64"
   ]
  },
  {
   "cell_type": "markdown",
   "id": "7ffa2838",
   "metadata": {},
   "source": [
    "nombre_infected       977\n",
    "nombre_sain          1935\n",
    "nombre_exposed        481\n",
    "nombre_recovered    16607\n",
    "Name: 389, dtype: int64"
   ]
  },
  {
   "cell_type": "markdown",
   "id": "4ef4fce0",
   "metadata": {},
   "source": [
    "nombre_infected       971\n",
    "nombre_sain          1946\n",
    "nombre_exposed        467\n",
    "nombre_recovered    16616\n",
    "Name: 390, dtype: int64"
   ]
  },
  {
   "cell_type": "markdown",
   "id": "f1271822",
   "metadata": {},
   "source": [
    "nombre_infected       990\n",
    "nombre_sain          1958\n",
    "nombre_exposed        441\n",
    "nombre_recovered    16611\n",
    "Name: 391, dtype: int64"
   ]
  },
  {
   "cell_type": "markdown",
   "id": "305754a1",
   "metadata": {},
   "source": [
    "nombre_infected       989\n",
    "nombre_sain          1957\n",
    "nombre_exposed        455\n",
    "nombre_recovered    16599\n",
    "Name: 392, dtype: int64"
   ]
  },
  {
   "cell_type": "markdown",
   "id": "1666f8dd",
   "metadata": {},
   "source": [
    "nombre_infected       997\n",
    "nombre_sain          1973\n",
    "nombre_exposed        445\n",
    "nombre_recovered    16585\n",
    "Name: 393, dtype: int64"
   ]
  },
  {
   "cell_type": "markdown",
   "id": "389e8dde",
   "metadata": {},
   "source": [
    "nombre_infected       994\n",
    "nombre_sain          1971\n",
    "nombre_exposed        459\n",
    "nombre_recovered    16576\n",
    "Name: 394, dtype: int64"
   ]
  },
  {
   "cell_type": "markdown",
   "id": "1889a097",
   "metadata": {},
   "source": [
    "nombre_infected       955\n",
    "nombre_sain          1954\n",
    "nombre_exposed        495\n",
    "nombre_recovered    16596\n",
    "Name: 395, dtype: int64"
   ]
  },
  {
   "cell_type": "markdown",
   "id": "4b90adb9",
   "metadata": {},
   "source": [
    "nombre_infected       935\n",
    "nombre_sain          1959\n",
    "nombre_exposed        492\n",
    "nombre_recovered    16614\n",
    "Name: 396, dtype: int64"
   ]
  },
  {
   "cell_type": "markdown",
   "id": "5e9889cb",
   "metadata": {},
   "source": [
    "nombre_infected       948\n",
    "nombre_sain          1969\n",
    "nombre_exposed        475\n",
    "nombre_recovered    16608\n",
    "Name: 397, dtype: int64"
   ]
  },
  {
   "cell_type": "markdown",
   "id": "29f49419",
   "metadata": {},
   "source": [
    "nombre_infected       964\n",
    "nombre_sain          1997\n",
    "nombre_exposed        464\n",
    "nombre_recovered    16575\n",
    "Name: 398, dtype: int64"
   ]
  },
  {
   "cell_type": "markdown",
   "id": "b71e13d8",
   "metadata": {},
   "source": [
    "nombre_infected       984\n",
    "nombre_sain          2020\n",
    "nombre_exposed        446\n",
    "nombre_recovered    16550\n",
    "Name: 399, dtype: int64"
   ]
  },
  {
   "cell_type": "markdown",
   "id": "bd9c286c",
   "metadata": {},
   "source": [
    "nombre_infected       949\n",
    "nombre_sain          2053\n",
    "nombre_exposed        470\n",
    "nombre_recovered    16528\n",
    "Name: 400, dtype: int64"
   ]
  },
  {
   "cell_type": "markdown",
   "id": "3eb7d6c6",
   "metadata": {},
   "source": [
    "nombre_infected       977\n",
    "nombre_sain          2060\n",
    "nombre_exposed        479\n",
    "nombre_recovered    16484\n",
    "Name: 401, dtype: int64"
   ]
  },
  {
   "cell_type": "markdown",
   "id": "3648c01d",
   "metadata": {},
   "source": [
    "nombre_infected       975\n",
    "nombre_sain          2088\n",
    "nombre_exposed        471\n",
    "nombre_recovered    16466\n",
    "Name: 402, dtype: int64"
   ]
  },
  {
   "cell_type": "markdown",
   "id": "2daf3596",
   "metadata": {},
   "source": [
    "nombre_infected       987\n",
    "nombre_sain          2107\n",
    "nombre_exposed        493\n",
    "nombre_recovered    16413\n",
    "Name: 403, dtype: int64"
   ]
  },
  {
   "cell_type": "markdown",
   "id": "6368df80",
   "metadata": {},
   "source": [
    "nombre_infected       976\n",
    "nombre_sain          2109\n",
    "nombre_exposed        503\n",
    "nombre_recovered    16412\n",
    "Name: 404, dtype: int64"
   ]
  },
  {
   "cell_type": "markdown",
   "id": "ae9d0583",
   "metadata": {},
   "source": [
    "nombre_infected       992\n",
    "nombre_sain          2122\n",
    "nombre_exposed        495\n",
    "nombre_recovered    16391\n",
    "Name: 405, dtype: int64"
   ]
  },
  {
   "cell_type": "markdown",
   "id": "ce561cd9",
   "metadata": {},
   "source": [
    "nombre_infected      1010\n",
    "nombre_sain          2119\n",
    "nombre_exposed        490\n",
    "nombre_recovered    16381\n",
    "Name: 406, dtype: int64"
   ]
  },
  {
   "cell_type": "markdown",
   "id": "8e7a2b4d",
   "metadata": {},
   "source": [
    "nombre_infected      1037\n",
    "nombre_sain          2128\n",
    "nombre_exposed        502\n",
    "nombre_recovered    16333\n",
    "Name: 407, dtype: int64"
   ]
  },
  {
   "cell_type": "markdown",
   "id": "10cc857e",
   "metadata": {},
   "source": [
    "nombre_infected      1061\n",
    "nombre_sain          2158\n",
    "nombre_exposed        486\n",
    "nombre_recovered    16295\n",
    "Name: 408, dtype: int64"
   ]
  },
  {
   "cell_type": "markdown",
   "id": "3b64f29a",
   "metadata": {},
   "source": [
    "nombre_infected      1071\n",
    "nombre_sain          2162\n",
    "nombre_exposed        485\n",
    "nombre_recovered    16282\n",
    "Name: 409, dtype: int64"
   ]
  },
  {
   "cell_type": "markdown",
   "id": "e7bb193d",
   "metadata": {},
   "source": [
    "nombre_infected      1060\n",
    "nombre_sain          2159\n",
    "nombre_exposed        500\n",
    "nombre_recovered    16281\n",
    "Name: 410, dtype: int64"
   ]
  },
  {
   "cell_type": "markdown",
   "id": "09270d09",
   "metadata": {},
   "source": [
    "nombre_infected      1075\n",
    "nombre_sain          2134\n",
    "nombre_exposed        524\n",
    "nombre_recovered    16267\n",
    "Name: 411, dtype: int64"
   ]
  },
  {
   "cell_type": "markdown",
   "id": "37400e1c",
   "metadata": {},
   "source": [
    "nombre_infected      1088\n",
    "nombre_sain          2135\n",
    "nombre_exposed        510\n",
    "nombre_recovered    16267\n",
    "Name: 412, dtype: int64"
   ]
  },
  {
   "cell_type": "markdown",
   "id": "e7563f37",
   "metadata": {},
   "source": [
    "nombre_infected      1108\n",
    "nombre_sain          2125\n",
    "nombre_exposed        516\n",
    "nombre_recovered    16251\n",
    "Name: 413, dtype: int64"
   ]
  },
  {
   "cell_type": "markdown",
   "id": "785e9490",
   "metadata": {},
   "source": [
    "nombre_infected      1109\n",
    "nombre_sain          2093\n",
    "nombre_exposed        517\n",
    "nombre_recovered    16281\n",
    "Name: 414, dtype: int64"
   ]
  },
  {
   "cell_type": "markdown",
   "id": "f0f8613a",
   "metadata": {},
   "source": [
    "nombre_infected      1103\n",
    "nombre_sain          2093\n",
    "nombre_exposed        507\n",
    "nombre_recovered    16297\n",
    "Name: 415, dtype: int64"
   ]
  },
  {
   "cell_type": "markdown",
   "id": "4b58dd78",
   "metadata": {},
   "source": [
    "nombre_infected      1133\n",
    "nombre_sain          2060\n",
    "nombre_exposed        518\n",
    "nombre_recovered    16289\n",
    "Name: 416, dtype: int64"
   ]
  },
  {
   "cell_type": "markdown",
   "id": "d9794359",
   "metadata": {},
   "source": [
    "nombre_infected      1130\n",
    "nombre_sain          2036\n",
    "nombre_exposed        514\n",
    "nombre_recovered    16320\n",
    "Name: 417, dtype: int64"
   ]
  },
  {
   "cell_type": "markdown",
   "id": "001f83b4",
   "metadata": {},
   "source": [
    "nombre_infected      1126\n",
    "nombre_sain          2054\n",
    "nombre_exposed        507\n",
    "nombre_recovered    16313\n",
    "Name: 418, dtype: int64"
   ]
  },
  {
   "cell_type": "markdown",
   "id": "0e656442",
   "metadata": {},
   "source": [
    "nombre_infected      1140\n",
    "nombre_sain          2025\n",
    "nombre_exposed        510\n",
    "nombre_recovered    16325\n",
    "Name: 419, dtype: int64"
   ]
  },
  {
   "cell_type": "markdown",
   "id": "740187e3",
   "metadata": {},
   "source": [
    "nombre_infected      1115\n",
    "nombre_sain          1962\n",
    "nombre_exposed        548\n",
    "nombre_recovered    16375\n",
    "Name: 420, dtype: int64"
   ]
  },
  {
   "cell_type": "markdown",
   "id": "31f930b2",
   "metadata": {},
   "source": [
    "nombre_infected      1132\n",
    "nombre_sain          1936\n",
    "nombre_exposed        548\n",
    "nombre_recovered    16384\n",
    "Name: 421, dtype: int64"
   ]
  },
  {
   "cell_type": "markdown",
   "id": "bc01faf2",
   "metadata": {},
   "source": [
    "nombre_infected      1110\n",
    "nombre_sain          1958\n",
    "nombre_exposed        537\n",
    "nombre_recovered    16395\n",
    "Name: 422, dtype: int64"
   ]
  },
  {
   "cell_type": "markdown",
   "id": "390df286",
   "metadata": {},
   "source": [
    "nombre_infected      1105\n",
    "nombre_sain          1949\n",
    "nombre_exposed        526\n",
    "nombre_recovered    16420\n",
    "Name: 423, dtype: int64"
   ]
  },
  {
   "cell_type": "markdown",
   "id": "3fb102d2",
   "metadata": {},
   "source": [
    "nombre_infected      1121\n",
    "nombre_sain          1947\n",
    "nombre_exposed        499\n",
    "nombre_recovered    16433\n",
    "Name: 424, dtype: int64"
   ]
  },
  {
   "cell_type": "markdown",
   "id": "ca0346e1",
   "metadata": {},
   "source": [
    "nombre_infected      1103\n",
    "nombre_sain          1943\n",
    "nombre_exposed        506\n",
    "nombre_recovered    16448\n",
    "Name: 425, dtype: int64"
   ]
  },
  {
   "cell_type": "markdown",
   "id": "4035b4da",
   "metadata": {},
   "source": [
    "nombre_infected      1124\n",
    "nombre_sain          1949\n",
    "nombre_exposed        482\n",
    "nombre_recovered    16445\n",
    "Name: 426, dtype: int64"
   ]
  },
  {
   "cell_type": "markdown",
   "id": "059d6ef4",
   "metadata": {},
   "source": [
    "nombre_infected      1139\n",
    "nombre_sain          1906\n",
    "nombre_exposed        502\n",
    "nombre_recovered    16453\n",
    "Name: 427, dtype: int64"
   ]
  },
  {
   "cell_type": "markdown",
   "id": "d95fc757",
   "metadata": {},
   "source": [
    "nombre_infected      1133\n",
    "nombre_sain          1890\n",
    "nombre_exposed        500\n",
    "nombre_recovered    16477\n",
    "Name: 428, dtype: int64"
   ]
  },
  {
   "cell_type": "markdown",
   "id": "77ed8e68",
   "metadata": {},
   "source": [
    "nombre_infected      1103\n",
    "nombre_sain          1883\n",
    "nombre_exposed        507\n",
    "nombre_recovered    16507\n",
    "Name: 429, dtype: int64"
   ]
  },
  {
   "cell_type": "markdown",
   "id": "db9fcfd7",
   "metadata": {},
   "source": [
    "nombre_infected      1108\n",
    "nombre_sain          1893\n",
    "nombre_exposed        487\n",
    "nombre_recovered    16512\n",
    "Name: 430, dtype: int64"
   ]
  },
  {
   "cell_type": "markdown",
   "id": "51f0c51d",
   "metadata": {},
   "source": [
    "nombre_infected      1109\n",
    "nombre_sain          1857\n",
    "nombre_exposed        490\n",
    "nombre_recovered    16544\n",
    "Name: 431, dtype: int64"
   ]
  },
  {
   "cell_type": "markdown",
   "id": "8b36452d",
   "metadata": {},
   "source": [
    "nombre_infected      1100\n",
    "nombre_sain          1840\n",
    "nombre_exposed        507\n",
    "nombre_recovered    16553\n",
    "Name: 432, dtype: int64"
   ]
  },
  {
   "cell_type": "markdown",
   "id": "148a9b47",
   "metadata": {},
   "source": [
    "nombre_infected      1104\n",
    "nombre_sain          1846\n",
    "nombre_exposed        487\n",
    "nombre_recovered    16563\n",
    "Name: 433, dtype: int64"
   ]
  },
  {
   "cell_type": "markdown",
   "id": "5ff1a05f",
   "metadata": {},
   "source": [
    "nombre_infected      1086\n",
    "nombre_sain          1827\n",
    "nombre_exposed        497\n",
    "nombre_recovered    16590\n",
    "Name: 434, dtype: int64"
   ]
  },
  {
   "cell_type": "markdown",
   "id": "cbee3aa7",
   "metadata": {},
   "source": [
    "nombre_infected      1079\n",
    "nombre_sain          1857\n",
    "nombre_exposed        478\n",
    "nombre_recovered    16586\n",
    "Name: 435, dtype: int64"
   ]
  },
  {
   "cell_type": "markdown",
   "id": "ae465eec",
   "metadata": {},
   "source": [
    "nombre_infected      1048\n",
    "nombre_sain          1885\n",
    "nombre_exposed        475\n",
    "nombre_recovered    16592\n",
    "Name: 436, dtype: int64"
   ]
  },
  {
   "cell_type": "markdown",
   "id": "5a509652",
   "metadata": {},
   "source": [
    "nombre_infected      1041\n",
    "nombre_sain          1912\n",
    "nombre_exposed        450\n",
    "nombre_recovered    16597\n",
    "Name: 437, dtype: int64"
   ]
  },
  {
   "cell_type": "markdown",
   "id": "d13aff79",
   "metadata": {},
   "source": [
    "nombre_infected      1022\n",
    "nombre_sain          1946\n",
    "nombre_exposed        444\n",
    "nombre_recovered    16588\n",
    "Name: 438, dtype: int64"
   ]
  },
  {
   "cell_type": "markdown",
   "id": "c5802dca",
   "metadata": {},
   "source": [
    "nombre_infected      1012\n",
    "nombre_sain          1963\n",
    "nombre_exposed        450\n",
    "nombre_recovered    16575\n",
    "Name: 439, dtype: int64"
   ]
  },
  {
   "cell_type": "markdown",
   "id": "fb0cc2d0",
   "metadata": {},
   "source": [
    "nombre_infected       997\n",
    "nombre_sain          1986\n",
    "nombre_exposed        468\n",
    "nombre_recovered    16549\n",
    "Name: 440, dtype: int64"
   ]
  },
  {
   "cell_type": "markdown",
   "id": "4e41d303",
   "metadata": {},
   "source": [
    "nombre_infected       986\n",
    "nombre_sain          1973\n",
    "nombre_exposed        503\n",
    "nombre_recovered    16538\n",
    "Name: 441, dtype: int64"
   ]
  },
  {
   "cell_type": "markdown",
   "id": "8dd2e98d",
   "metadata": {},
   "source": [
    "nombre_infected       962\n",
    "nombre_sain          2001\n",
    "nombre_exposed        495\n",
    "nombre_recovered    16542\n",
    "Name: 442, dtype: int64"
   ]
  },
  {
   "cell_type": "markdown",
   "id": "3b714bc3",
   "metadata": {},
   "source": [
    "nombre_infected       968\n",
    "nombre_sain          1985\n",
    "nombre_exposed        486\n",
    "nombre_recovered    16561\n",
    "Name: 443, dtype: int64"
   ]
  },
  {
   "cell_type": "markdown",
   "id": "0d5e1a6b",
   "metadata": {},
   "source": [
    "nombre_infected       975\n",
    "nombre_sain          1979\n",
    "nombre_exposed        502\n",
    "nombre_recovered    16544\n",
    "Name: 444, dtype: int64"
   ]
  },
  {
   "cell_type": "markdown",
   "id": "df672b44",
   "metadata": {},
   "source": [
    "nombre_infected       975\n",
    "nombre_sain          1992\n",
    "nombre_exposed        482\n",
    "nombre_recovered    16551\n",
    "Name: 445, dtype: int64"
   ]
  },
  {
   "cell_type": "markdown",
   "id": "b5a19c12",
   "metadata": {},
   "source": [
    "nombre_infected       977\n",
    "nombre_sain          1991\n",
    "nombre_exposed        479\n",
    "nombre_recovered    16553\n",
    "Name: 446, dtype: int64"
   ]
  },
  {
   "cell_type": "markdown",
   "id": "58a42630",
   "metadata": {},
   "source": [
    "nombre_infected       954\n",
    "nombre_sain          1972\n",
    "nombre_exposed        517\n",
    "nombre_recovered    16557\n",
    "Name: 447, dtype: int64"
   ]
  },
  {
   "cell_type": "markdown",
   "id": "0025ae96",
   "metadata": {},
   "source": [
    "nombre_infected       987\n",
    "nombre_sain          1954\n",
    "nombre_exposed        496\n",
    "nombre_recovered    16563\n",
    "Name: 448, dtype: int64"
   ]
  },
  {
   "cell_type": "markdown",
   "id": "93a3b016",
   "metadata": {},
   "source": [
    "nombre_infected      1008\n",
    "nombre_sain          1954\n",
    "nombre_exposed        478\n",
    "nombre_recovered    16560\n",
    "Name: 449, dtype: int64"
   ]
  },
  {
   "cell_type": "markdown",
   "id": "1077b694",
   "metadata": {},
   "source": [
    "nombre_infected      1014\n",
    "nombre_sain          1959\n",
    "nombre_exposed        462\n",
    "nombre_recovered    16565\n",
    "Name: 450, dtype: int64"
   ]
  },
  {
   "cell_type": "markdown",
   "id": "3423852d",
   "metadata": {},
   "source": [
    "nombre_infected      1006\n",
    "nombre_sain          1933\n",
    "nombre_exposed        479\n",
    "nombre_recovered    16582\n",
    "Name: 451, dtype: int64"
   ]
  },
  {
   "cell_type": "markdown",
   "id": "54eda25b",
   "metadata": {},
   "source": [
    "nombre_infected      1002\n",
    "nombre_sain          1928\n",
    "nombre_exposed        481\n",
    "nombre_recovered    16589\n",
    "Name: 452, dtype: int64"
   ]
  },
  {
   "cell_type": "markdown",
   "id": "0da1fada",
   "metadata": {},
   "source": [
    "nombre_infected      1021\n",
    "nombre_sain          1918\n",
    "nombre_exposed        463\n",
    "nombre_recovered    16598\n",
    "Name: 453, dtype: int64"
   ]
  },
  {
   "cell_type": "markdown",
   "id": "708ded09",
   "metadata": {},
   "source": [
    "nombre_infected      1005\n",
    "nombre_sain          1885\n",
    "nombre_exposed        487\n",
    "nombre_recovered    16623\n",
    "Name: 454, dtype: int64"
   ]
  },
  {
   "cell_type": "markdown",
   "id": "d483f5bf",
   "metadata": {},
   "source": [
    "nombre_infected       982\n",
    "nombre_sain          1880\n",
    "nombre_exposed        503\n",
    "nombre_recovered    16635\n",
    "Name: 455, dtype: int64"
   ]
  },
  {
   "cell_type": "markdown",
   "id": "2587bc71",
   "metadata": {},
   "source": [
    "nombre_infected       994\n",
    "nombre_sain          1833\n",
    "nombre_exposed        502\n",
    "nombre_recovered    16671\n",
    "Name: 456, dtype: int64"
   ]
  },
  {
   "cell_type": "markdown",
   "id": "ced6ae2e",
   "metadata": {},
   "source": [
    "nombre_infected       994\n",
    "nombre_sain          1828\n",
    "nombre_exposed        501\n",
    "nombre_recovered    16677\n",
    "Name: 457, dtype: int64"
   ]
  },
  {
   "cell_type": "markdown",
   "id": "a208d7a0",
   "metadata": {},
   "source": [
    "nombre_infected       982\n",
    "nombre_sain          1848\n",
    "nombre_exposed        511\n",
    "nombre_recovered    16659\n",
    "Name: 458, dtype: int64"
   ]
  },
  {
   "cell_type": "markdown",
   "id": "a4dcbf6b",
   "metadata": {},
   "source": [
    "nombre_infected       972\n",
    "nombre_sain          1843\n",
    "nombre_exposed        517\n",
    "nombre_recovered    16668\n",
    "Name: 459, dtype: int64"
   ]
  },
  {
   "cell_type": "markdown",
   "id": "6df63648",
   "metadata": {},
   "source": [
    "nombre_infected       978\n",
    "nombre_sain          1832\n",
    "nombre_exposed        488\n",
    "nombre_recovered    16702\n",
    "Name: 460, dtype: int64"
   ]
  },
  {
   "cell_type": "markdown",
   "id": "8a52b64e",
   "metadata": {},
   "source": [
    "nombre_infected       981\n",
    "nombre_sain          1830\n",
    "nombre_exposed        490\n",
    "nombre_recovered    16699\n",
    "Name: 461, dtype: int64"
   ]
  },
  {
   "cell_type": "markdown",
   "id": "e75971e8",
   "metadata": {},
   "source": [
    "nombre_infected       970\n",
    "nombre_sain          1852\n",
    "nombre_exposed        464\n",
    "nombre_recovered    16714\n",
    "Name: 462, dtype: int64"
   ]
  },
  {
   "cell_type": "markdown",
   "id": "6c562680",
   "metadata": {},
   "source": [
    "nombre_infected       964\n",
    "nombre_sain          1840\n",
    "nombre_exposed        468\n",
    "nombre_recovered    16728\n",
    "Name: 463, dtype: int64"
   ]
  },
  {
   "cell_type": "markdown",
   "id": "061251d9",
   "metadata": {},
   "source": [
    "nombre_infected       975\n",
    "nombre_sain          1827\n",
    "nombre_exposed        461\n",
    "nombre_recovered    16737\n",
    "Name: 464, dtype: int64"
   ]
  },
  {
   "cell_type": "markdown",
   "id": "1a9f30c5",
   "metadata": {},
   "source": [
    "nombre_infected       973\n",
    "nombre_sain          1795\n",
    "nombre_exposed        474\n",
    "nombre_recovered    16758\n",
    "Name: 465, dtype: int64"
   ]
  },
  {
   "cell_type": "markdown",
   "id": "bf8f7f47",
   "metadata": {},
   "source": [
    "nombre_infected       951\n",
    "nombre_sain          1799\n",
    "nombre_exposed        481\n",
    "nombre_recovered    16769\n",
    "Name: 466, dtype: int64"
   ]
  },
  {
   "cell_type": "markdown",
   "id": "584df27c",
   "metadata": {},
   "source": [
    "nombre_infected       957\n",
    "nombre_sain          1813\n",
    "nombre_exposed        454\n",
    "nombre_recovered    16776\n",
    "Name: 467, dtype: int64"
   ]
  },
  {
   "cell_type": "markdown",
   "id": "488fa379",
   "metadata": {},
   "source": [
    "nombre_infected       972\n",
    "nombre_sain          1812\n",
    "nombre_exposed        428\n",
    "nombre_recovered    16788\n",
    "Name: 468, dtype: int64"
   ]
  },
  {
   "cell_type": "markdown",
   "id": "8e1d3c46",
   "metadata": {},
   "source": [
    "nombre_infected       950\n",
    "nombre_sain          1815\n",
    "nombre_exposed        433\n",
    "nombre_recovered    16802\n",
    "Name: 469, dtype: int64"
   ]
  },
  {
   "cell_type": "markdown",
   "id": "1bb793fb",
   "metadata": {},
   "source": [
    "nombre_infected       956\n",
    "nombre_sain          1801\n",
    "nombre_exposed        423\n",
    "nombre_recovered    16820\n",
    "Name: 470, dtype: int64"
   ]
  },
  {
   "cell_type": "markdown",
   "id": "e340918f",
   "metadata": {},
   "source": [
    "nombre_infected       930\n",
    "nombre_sain          1825\n",
    "nombre_exposed        430\n",
    "nombre_recovered    16815\n",
    "Name: 471, dtype: int64"
   ]
  },
  {
   "cell_type": "markdown",
   "id": "b86c720b",
   "metadata": {},
   "source": [
    "nombre_infected       946\n",
    "nombre_sain          1821\n",
    "nombre_exposed        442\n",
    "nombre_recovered    16791\n",
    "Name: 472, dtype: int64"
   ]
  },
  {
   "cell_type": "markdown",
   "id": "89134ec1",
   "metadata": {},
   "source": [
    "nombre_infected       922\n",
    "nombre_sain          1828\n",
    "nombre_exposed        460\n",
    "nombre_recovered    16790\n",
    "Name: 473, dtype: int64"
   ]
  },
  {
   "cell_type": "markdown",
   "id": "ea10e7e5",
   "metadata": {},
   "source": [
    "nombre_infected       901\n",
    "nombre_sain          1856\n",
    "nombre_exposed        439\n",
    "nombre_recovered    16804\n",
    "Name: 474, dtype: int64"
   ]
  },
  {
   "cell_type": "markdown",
   "id": "b1356b94",
   "metadata": {},
   "source": [
    "nombre_infected       911\n",
    "nombre_sain          1866\n",
    "nombre_exposed        446\n",
    "nombre_recovered    16777\n",
    "Name: 475, dtype: int64"
   ]
  },
  {
   "cell_type": "markdown",
   "id": "58236118",
   "metadata": {},
   "source": [
    "nombre_infected       889\n",
    "nombre_sain          1880\n",
    "nombre_exposed        445\n",
    "nombre_recovered    16786\n",
    "Name: 476, dtype: int64"
   ]
  },
  {
   "cell_type": "markdown",
   "id": "907e1a91",
   "metadata": {},
   "source": [
    "nombre_infected       886\n",
    "nombre_sain          1885\n",
    "nombre_exposed        461\n",
    "nombre_recovered    16768\n",
    "Name: 477, dtype: int64"
   ]
  },
  {
   "cell_type": "markdown",
   "id": "3d25847f",
   "metadata": {},
   "source": [
    "nombre_infected       878\n",
    "nombre_sain          1898\n",
    "nombre_exposed        457\n",
    "nombre_recovered    16767\n",
    "Name: 478, dtype: int64"
   ]
  },
  {
   "cell_type": "markdown",
   "id": "be7237cb",
   "metadata": {},
   "source": [
    "nombre_infected       876\n",
    "nombre_sain          1947\n",
    "nombre_exposed        464\n",
    "nombre_recovered    16713\n",
    "Name: 479, dtype: int64"
   ]
  },
  {
   "cell_type": "markdown",
   "id": "6ab84d32",
   "metadata": {},
   "source": [
    "nombre_infected       857\n",
    "nombre_sain          1959\n",
    "nombre_exposed        480\n",
    "nombre_recovered    16704\n",
    "Name: 480, dtype: int64"
   ]
  },
  {
   "cell_type": "markdown",
   "id": "d33fbe22",
   "metadata": {},
   "source": [
    "nombre_infected       866\n",
    "nombre_sain          1993\n",
    "nombre_exposed        466\n",
    "nombre_recovered    16675\n",
    "Name: 481, dtype: int64"
   ]
  },
  {
   "cell_type": "markdown",
   "id": "5ee9b056",
   "metadata": {},
   "source": [
    "nombre_infected       878\n",
    "nombre_sain          1992\n",
    "nombre_exposed        470\n",
    "nombre_recovered    16660\n",
    "Name: 482, dtype: int64"
   ]
  },
  {
   "cell_type": "markdown",
   "id": "02c9a4d9",
   "metadata": {},
   "source": [
    "nombre_infected       870\n",
    "nombre_sain          2009\n",
    "nombre_exposed        463\n",
    "nombre_recovered    16658\n",
    "Name: 483, dtype: int64"
   ]
  },
  {
   "cell_type": "markdown",
   "id": "ae9825e5",
   "metadata": {},
   "source": [
    "nombre_infected       878\n",
    "nombre_sain          2012\n",
    "nombre_exposed        466\n",
    "nombre_recovered    16644\n",
    "Name: 484, dtype: int64"
   ]
  },
  {
   "cell_type": "markdown",
   "id": "4693ee80",
   "metadata": {},
   "source": [
    "nombre_infected       878\n",
    "nombre_sain          2008\n",
    "nombre_exposed        475\n",
    "nombre_recovered    16639\n",
    "Name: 485, dtype: int64"
   ]
  },
  {
   "cell_type": "markdown",
   "id": "44c21bef",
   "metadata": {},
   "source": [
    "nombre_infected       870\n",
    "nombre_sain          2020\n",
    "nombre_exposed        482\n",
    "nombre_recovered    16628\n",
    "Name: 486, dtype: int64"
   ]
  },
  {
   "cell_type": "markdown",
   "id": "ddc9cfa7",
   "metadata": {},
   "source": [
    "nombre_infected       878\n",
    "nombre_sain          2034\n",
    "nombre_exposed        481\n",
    "nombre_recovered    16607\n",
    "Name: 487, dtype: int64"
   ]
  },
  {
   "cell_type": "markdown",
   "id": "8ad5411e",
   "metadata": {},
   "source": [
    "nombre_infected       861\n",
    "nombre_sain          2018\n",
    "nombre_exposed        507\n",
    "nombre_recovered    16614\n",
    "Name: 488, dtype: int64"
   ]
  },
  {
   "cell_type": "markdown",
   "id": "e1ec368e",
   "metadata": {},
   "source": [
    "nombre_infected       854\n",
    "nombre_sain          2002\n",
    "nombre_exposed        520\n",
    "nombre_recovered    16624\n",
    "Name: 489, dtype: int64"
   ]
  },
  {
   "cell_type": "markdown",
   "id": "2f269ecd",
   "metadata": {},
   "source": [
    "nombre_infected       859\n",
    "nombre_sain          1995\n",
    "nombre_exposed        513\n",
    "nombre_recovered    16633\n",
    "Name: 490, dtype: int64"
   ]
  },
  {
   "cell_type": "markdown",
   "id": "83b76ffc",
   "metadata": {},
   "source": [
    "nombre_infected       874\n",
    "nombre_sain          1983\n",
    "nombre_exposed        506\n",
    "nombre_recovered    16637\n",
    "Name: 491, dtype: int64"
   ]
  },
  {
   "cell_type": "markdown",
   "id": "c892b752",
   "metadata": {},
   "source": [
    "nombre_infected       913\n",
    "nombre_sain          1974\n",
    "nombre_exposed        493\n",
    "nombre_recovered    16620\n",
    "Name: 492, dtype: int64"
   ]
  },
  {
   "cell_type": "markdown",
   "id": "0ff78606",
   "metadata": {},
   "source": [
    "nombre_infected       935\n",
    "nombre_sain          1951\n",
    "nombre_exposed        496\n",
    "nombre_recovered    16618\n",
    "Name: 493, dtype: int64"
   ]
  },
  {
   "cell_type": "markdown",
   "id": "0d5cbe73",
   "metadata": {},
   "source": [
    "nombre_infected       934\n",
    "nombre_sain          1943\n",
    "nombre_exposed        512\n",
    "nombre_recovered    16611\n",
    "Name: 494, dtype: int64"
   ]
  },
  {
   "cell_type": "markdown",
   "id": "6ce3a8fd",
   "metadata": {},
   "source": [
    "nombre_infected       947\n",
    "nombre_sain          1944\n",
    "nombre_exposed        486\n",
    "nombre_recovered    16623\n",
    "Name: 495, dtype: int64"
   ]
  },
  {
   "cell_type": "markdown",
   "id": "108359a2",
   "metadata": {},
   "source": [
    "nombre_infected       953\n",
    "nombre_sain          1922\n",
    "nombre_exposed        468\n",
    "nombre_recovered    16657\n",
    "Name: 496, dtype: int64"
   ]
  },
  {
   "cell_type": "markdown",
   "id": "a9cc2c89",
   "metadata": {},
   "source": [
    "nombre_infected       928\n",
    "nombre_sain          1894\n",
    "nombre_exposed        505\n",
    "nombre_recovered    16673\n",
    "Name: 497, dtype: int64"
   ]
  },
  {
   "cell_type": "markdown",
   "id": "8876e506",
   "metadata": {},
   "source": [
    "nombre_infected       950\n",
    "nombre_sain          1865\n",
    "nombre_exposed        524\n",
    "nombre_recovered    16661\n",
    "Name: 498, dtype: int64"
   ]
  },
  {
   "cell_type": "markdown",
   "id": "8dc952af",
   "metadata": {},
   "source": [
    "nombre_infected       968\n",
    "nombre_sain          1856\n",
    "nombre_exposed        507\n",
    "nombre_recovered    16669\n",
    "Name: 499, dtype: int64"
   ]
  },
  {
   "cell_type": "markdown",
   "id": "392863fb",
   "metadata": {},
   "source": [
    "nombre_infected       982\n",
    "nombre_sain          1853\n",
    "nombre_exposed        498\n",
    "nombre_recovered    16667\n",
    "Name: 500, dtype: int64"
   ]
  },
  {
   "cell_type": "markdown",
   "id": "0e44d172",
   "metadata": {},
   "source": [
    "nombre_infected       988\n",
    "nombre_sain          1857\n",
    "nombre_exposed        503\n",
    "nombre_recovered    16652\n",
    "Name: 501, dtype: int64"
   ]
  },
  {
   "cell_type": "markdown",
   "id": "212ffccb",
   "metadata": {},
   "source": [
    "nombre_infected       985\n",
    "nombre_sain          1853\n",
    "nombre_exposed        514\n",
    "nombre_recovered    16648\n",
    "Name: 502, dtype: int64"
   ]
  },
  {
   "cell_type": "markdown",
   "id": "55a9084c",
   "metadata": {},
   "source": [
    "nombre_infected       964\n",
    "nombre_sain          1895\n",
    "nombre_exposed        512\n",
    "nombre_recovered    16629\n",
    "Name: 503, dtype: int64"
   ]
  },
  {
   "cell_type": "markdown",
   "id": "18eba41f",
   "metadata": {},
   "source": [
    "nombre_infected       968\n",
    "nombre_sain          1894\n",
    "nombre_exposed        507\n",
    "nombre_recovered    16631\n",
    "Name: 504, dtype: int64"
   ]
  },
  {
   "cell_type": "markdown",
   "id": "101f4cee",
   "metadata": {},
   "source": [
    "nombre_infected       971\n",
    "nombre_sain          1881\n",
    "nombre_exposed        503\n",
    "nombre_recovered    16645\n",
    "Name: 505, dtype: int64"
   ]
  },
  {
   "cell_type": "markdown",
   "id": "ef3d83ce",
   "metadata": {},
   "source": [
    "nombre_infected       976\n",
    "nombre_sain          1874\n",
    "nombre_exposed        516\n",
    "nombre_recovered    16634\n",
    "Name: 506, dtype: int64"
   ]
  },
  {
   "cell_type": "markdown",
   "id": "c52029b0",
   "metadata": {},
   "source": [
    "nombre_infected      1000\n",
    "nombre_sain          1886\n",
    "nombre_exposed        490\n",
    "nombre_recovered    16624\n",
    "Name: 507, dtype: int64"
   ]
  },
  {
   "cell_type": "markdown",
   "id": "14f0e1e2",
   "metadata": {},
   "source": [
    "nombre_infected       977\n",
    "nombre_sain          1885\n",
    "nombre_exposed        506\n",
    "nombre_recovered    16632\n",
    "Name: 508, dtype: int64"
   ]
  },
  {
   "cell_type": "markdown",
   "id": "b785785b",
   "metadata": {},
   "source": [
    "nombre_infected       981\n",
    "nombre_sain          1896\n",
    "nombre_exposed        502\n",
    "nombre_recovered    16621\n",
    "Name: 509, dtype: int64"
   ]
  },
  {
   "cell_type": "markdown",
   "id": "853c500f",
   "metadata": {},
   "source": [
    "nombre_infected       987\n",
    "nombre_sain          1891\n",
    "nombre_exposed        483\n",
    "nombre_recovered    16639\n",
    "Name: 510, dtype: int64"
   ]
  },
  {
   "cell_type": "markdown",
   "id": "85e22f59",
   "metadata": {},
   "source": [
    "nombre_infected       985\n",
    "nombre_sain          1902\n",
    "nombre_exposed        472\n",
    "nombre_recovered    16641\n",
    "Name: 511, dtype: int64"
   ]
  },
  {
   "cell_type": "markdown",
   "id": "c3f215fc",
   "metadata": {},
   "source": [
    "nombre_infected       989\n",
    "nombre_sain          1918\n",
    "nombre_exposed        458\n",
    "nombre_recovered    16635\n",
    "Name: 512, dtype: int64"
   ]
  },
  {
   "cell_type": "markdown",
   "id": "01eaf3ee",
   "metadata": {},
   "source": [
    "nombre_infected       988\n",
    "nombre_sain          1912\n",
    "nombre_exposed        466\n",
    "nombre_recovered    16634\n",
    "Name: 513, dtype: int64"
   ]
  },
  {
   "cell_type": "markdown",
   "id": "3b370aaa",
   "metadata": {},
   "source": [
    "nombre_infected       988\n",
    "nombre_sain          1932\n",
    "nombre_exposed        445\n",
    "nombre_recovered    16635\n",
    "Name: 514, dtype: int64"
   ]
  },
  {
   "cell_type": "markdown",
   "id": "8fd8583b",
   "metadata": {},
   "source": [
    "nombre_infected       974\n",
    "nombre_sain          1889\n",
    "nombre_exposed        474\n",
    "nombre_recovered    16663\n",
    "Name: 515, dtype: int64"
   ]
  },
  {
   "cell_type": "markdown",
   "id": "fc5c3405",
   "metadata": {},
   "source": [
    "nombre_infected       967\n",
    "nombre_sain          1903\n",
    "nombre_exposed        456\n",
    "nombre_recovered    16674\n",
    "Name: 516, dtype: int64"
   ]
  },
  {
   "cell_type": "markdown",
   "id": "6df97604",
   "metadata": {},
   "source": [
    "nombre_infected       969\n",
    "nombre_sain          1893\n",
    "nombre_exposed        467\n",
    "nombre_recovered    16671\n",
    "Name: 517, dtype: int64"
   ]
  },
  {
   "cell_type": "markdown",
   "id": "fef49db2",
   "metadata": {},
   "source": [
    "nombre_infected       931\n",
    "nombre_sain          1894\n",
    "nombre_exposed        470\n",
    "nombre_recovered    16705\n",
    "Name: 518, dtype: int64"
   ]
  },
  {
   "cell_type": "markdown",
   "id": "718fa7a9",
   "metadata": {},
   "source": [
    "nombre_infected       929\n",
    "nombre_sain          1895\n",
    "nombre_exposed        451\n",
    "nombre_recovered    16725\n",
    "Name: 519, dtype: int64"
   ]
  },
  {
   "cell_type": "markdown",
   "id": "a4f5563d",
   "metadata": {},
   "source": [
    "nombre_infected       935\n",
    "nombre_sain          1905\n",
    "nombre_exposed        435\n",
    "nombre_recovered    16725\n",
    "Name: 520, dtype: int64"
   ]
  },
  {
   "cell_type": "markdown",
   "id": "0345b59f",
   "metadata": {},
   "source": [
    "nombre_infected       907\n",
    "nombre_sain          1880\n",
    "nombre_exposed        453\n",
    "nombre_recovered    16760\n",
    "Name: 521, dtype: int64"
   ]
  },
  {
   "cell_type": "markdown",
   "id": "09114f27",
   "metadata": {},
   "source": [
    "nombre_infected       871\n",
    "nombre_sain          1886\n",
    "nombre_exposed        459\n",
    "nombre_recovered    16784\n",
    "Name: 522, dtype: int64"
   ]
  },
  {
   "cell_type": "markdown",
   "id": "f37e00e9",
   "metadata": {},
   "source": [
    "nombre_infected       890\n",
    "nombre_sain          1886\n",
    "nombre_exposed        437\n",
    "nombre_recovered    16787\n",
    "Name: 523, dtype: int64"
   ]
  },
  {
   "cell_type": "markdown",
   "id": "fb5cd0e9",
   "metadata": {},
   "source": [
    "nombre_infected       880\n",
    "nombre_sain          1898\n",
    "nombre_exposed        440\n",
    "nombre_recovered    16782\n",
    "Name: 524, dtype: int64"
   ]
  },
  {
   "cell_type": "markdown",
   "id": "1e1192a0",
   "metadata": {},
   "source": [
    "nombre_infected       877\n",
    "nombre_sain          1952\n",
    "nombre_exposed        428\n",
    "nombre_recovered    16743\n",
    "Name: 525, dtype: int64"
   ]
  },
  {
   "cell_type": "markdown",
   "id": "9bf790ee",
   "metadata": {},
   "source": [
    "nombre_infected       877\n",
    "nombre_sain          1972\n",
    "nombre_exposed        421\n",
    "nombre_recovered    16730\n",
    "Name: 526, dtype: int64"
   ]
  },
  {
   "cell_type": "markdown",
   "id": "c21e327f",
   "metadata": {},
   "source": [
    "nombre_infected       867\n",
    "nombre_sain          1983\n",
    "nombre_exposed        424\n",
    "nombre_recovered    16726\n",
    "Name: 527, dtype: int64"
   ]
  },
  {
   "cell_type": "markdown",
   "id": "cf1791ed",
   "metadata": {},
   "source": [
    "nombre_infected       876\n",
    "nombre_sain          2026\n",
    "nombre_exposed        418\n",
    "nombre_recovered    16680\n",
    "Name: 528, dtype: int64"
   ]
  },
  {
   "cell_type": "markdown",
   "id": "b1c21e3c",
   "metadata": {},
   "source": [
    "nombre_infected       897\n",
    "nombre_sain          2055\n",
    "nombre_exposed        391\n",
    "nombre_recovered    16657\n",
    "Name: 529, dtype: int64"
   ]
  },
  {
   "cell_type": "markdown",
   "id": "326d90b4",
   "metadata": {},
   "source": [
    "nombre_infected       889\n",
    "nombre_sain          2070\n",
    "nombre_exposed        422\n",
    "nombre_recovered    16619\n",
    "Name: 530, dtype: int64"
   ]
  },
  {
   "cell_type": "markdown",
   "id": "2cc7d3a9",
   "metadata": {},
   "source": [
    "nombre_infected       878\n",
    "nombre_sain          2101\n",
    "nombre_exposed        428\n",
    "nombre_recovered    16593\n",
    "Name: 531, dtype: int64"
   ]
  },
  {
   "cell_type": "markdown",
   "id": "fcd103aa",
   "metadata": {},
   "source": [
    "nombre_infected       845\n",
    "nombre_sain          2149\n",
    "nombre_exposed        434\n",
    "nombre_recovered    16572\n",
    "Name: 532, dtype: int64"
   ]
  },
  {
   "cell_type": "markdown",
   "id": "7f1e0c42",
   "metadata": {},
   "source": [
    "nombre_infected       846\n",
    "nombre_sain          2169\n",
    "nombre_exposed        442\n",
    "nombre_recovered    16543\n",
    "Name: 533, dtype: int64"
   ]
  },
  {
   "cell_type": "markdown",
   "id": "b370bb76",
   "metadata": {},
   "source": [
    "nombre_infected       836\n",
    "nombre_sain          2211\n",
    "nombre_exposed        454\n",
    "nombre_recovered    16499\n",
    "Name: 534, dtype: int64"
   ]
  },
  {
   "cell_type": "markdown",
   "id": "b9f47fca",
   "metadata": {},
   "source": [
    "nombre_infected       839\n",
    "nombre_sain          2240\n",
    "nombre_exposed        459\n",
    "nombre_recovered    16462\n",
    "Name: 535, dtype: int64"
   ]
  },
  {
   "cell_type": "markdown",
   "id": "07463290",
   "metadata": {},
   "source": [
    "nombre_infected       871\n",
    "nombre_sain          2270\n",
    "nombre_exposed        442\n",
    "nombre_recovered    16417\n",
    "Name: 536, dtype: int64"
   ]
  },
  {
   "cell_type": "markdown",
   "id": "fc668826",
   "metadata": {},
   "source": [
    "nombre_infected       898\n",
    "nombre_sain          2293\n",
    "nombre_exposed        429\n",
    "nombre_recovered    16380\n",
    "Name: 537, dtype: int64"
   ]
  },
  {
   "cell_type": "markdown",
   "id": "e9b0c761",
   "metadata": {},
   "source": [
    "nombre_infected       890\n",
    "nombre_sain          2302\n",
    "nombre_exposed        450\n",
    "nombre_recovered    16358\n",
    "Name: 538, dtype: int64"
   ]
  },
  {
   "cell_type": "markdown",
   "id": "0bc59132",
   "metadata": {},
   "source": [
    "nombre_infected       900\n",
    "nombre_sain          2300\n",
    "nombre_exposed        464\n",
    "nombre_recovered    16336\n",
    "Name: 539, dtype: int64"
   ]
  },
  {
   "cell_type": "markdown",
   "id": "f0df6a54",
   "metadata": {},
   "source": [
    "nombre_infected       886\n",
    "nombre_sain          2307\n",
    "nombre_exposed        465\n",
    "nombre_recovered    16342\n",
    "Name: 540, dtype: int64"
   ]
  },
  {
   "cell_type": "markdown",
   "id": "42be0f5d",
   "metadata": {},
   "source": [
    "nombre_infected       896\n",
    "nombre_sain          2312\n",
    "nombre_exposed        449\n",
    "nombre_recovered    16343\n",
    "Name: 541, dtype: int64"
   ]
  },
  {
   "cell_type": "markdown",
   "id": "1da77a96",
   "metadata": {},
   "source": [
    "nombre_infected       918\n",
    "nombre_sain          2300\n",
    "nombre_exposed        441\n",
    "nombre_recovered    16341\n",
    "Name: 542, dtype: int64"
   ]
  },
  {
   "cell_type": "markdown",
   "id": "37d9084a",
   "metadata": {},
   "source": [
    "nombre_infected       941\n",
    "nombre_sain          2298\n",
    "nombre_exposed        460\n",
    "nombre_recovered    16301\n",
    "Name: 543, dtype: int64"
   ]
  },
  {
   "cell_type": "markdown",
   "id": "8a685145",
   "metadata": {},
   "source": [
    "nombre_infected       933\n",
    "nombre_sain          2306\n",
    "nombre_exposed        471\n",
    "nombre_recovered    16290\n",
    "Name: 544, dtype: int64"
   ]
  },
  {
   "cell_type": "markdown",
   "id": "2ad8cdfd",
   "metadata": {},
   "source": [
    "nombre_infected       935\n",
    "nombre_sain          2287\n",
    "nombre_exposed        480\n",
    "nombre_recovered    16298\n",
    "Name: 545, dtype: int64"
   ]
  },
  {
   "cell_type": "markdown",
   "id": "2b12df98",
   "metadata": {},
   "source": [
    "nombre_infected       964\n",
    "nombre_sain          2270\n",
    "nombre_exposed        488\n",
    "nombre_recovered    16278\n",
    "Name: 546, dtype: int64"
   ]
  },
  {
   "cell_type": "markdown",
   "id": "be9ebbb0",
   "metadata": {},
   "source": [
    "nombre_infected       967\n",
    "nombre_sain          2244\n",
    "nombre_exposed        496\n",
    "nombre_recovered    16293\n",
    "Name: 547, dtype: int64"
   ]
  },
  {
   "cell_type": "markdown",
   "id": "e9926549",
   "metadata": {},
   "source": [
    "nombre_infected       977\n",
    "nombre_sain          2240\n",
    "nombre_exposed        504\n",
    "nombre_recovered    16279\n",
    "Name: 548, dtype: int64"
   ]
  },
  {
   "cell_type": "markdown",
   "id": "732ae1b4",
   "metadata": {},
   "source": [
    "nombre_infected       980\n",
    "nombre_sain          2201\n",
    "nombre_exposed        499\n",
    "nombre_recovered    16320\n",
    "Name: 549, dtype: int64"
   ]
  },
  {
   "cell_type": "markdown",
   "id": "6a663aea",
   "metadata": {},
   "source": [
    "nombre_infected      1008\n",
    "nombre_sain          2177\n",
    "nombre_exposed        530\n",
    "nombre_recovered    16285\n",
    "Name: 550, dtype: int64"
   ]
  },
  {
   "cell_type": "markdown",
   "id": "443dc89d",
   "metadata": {},
   "source": [
    "nombre_infected      1027\n",
    "nombre_sain          2169\n",
    "nombre_exposed        515\n",
    "nombre_recovered    16289\n",
    "Name: 551, dtype: int64"
   ]
  },
  {
   "cell_type": "markdown",
   "id": "257e64e6",
   "metadata": {},
   "source": [
    "nombre_infected      1029\n",
    "nombre_sain          2172\n",
    "nombre_exposed        491\n",
    "nombre_recovered    16308\n",
    "Name: 552, dtype: int64"
   ]
  },
  {
   "cell_type": "markdown",
   "id": "dbf413f7",
   "metadata": {},
   "source": [
    "nombre_infected      1040\n",
    "nombre_sain          2171\n",
    "nombre_exposed        488\n",
    "nombre_recovered    16301\n",
    "Name: 553, dtype: int64"
   ]
  },
  {
   "cell_type": "markdown",
   "id": "4be1116b",
   "metadata": {},
   "source": [
    "nombre_infected      1077\n",
    "nombre_sain          2133\n",
    "nombre_exposed        501\n",
    "nombre_recovered    16289\n",
    "Name: 554, dtype: int64"
   ]
  },
  {
   "cell_type": "markdown",
   "id": "b34d1ae7",
   "metadata": {},
   "source": [
    "nombre_infected      1079\n",
    "nombre_sain          2114\n",
    "nombre_exposed        504\n",
    "nombre_recovered    16303\n",
    "Name: 555, dtype: int64"
   ]
  },
  {
   "cell_type": "markdown",
   "id": "a2402473",
   "metadata": {},
   "source": [
    "nombre_infected      1063\n",
    "nombre_sain          2089\n",
    "nombre_exposed        540\n",
    "nombre_recovered    16308\n",
    "Name: 556, dtype: int64"
   ]
  },
  {
   "cell_type": "markdown",
   "id": "1310a304",
   "metadata": {},
   "source": [
    "nombre_infected      1077\n",
    "nombre_sain          2086\n",
    "nombre_exposed        522\n",
    "nombre_recovered    16315\n",
    "Name: 557, dtype: int64"
   ]
  },
  {
   "cell_type": "markdown",
   "id": "8bb26be8",
   "metadata": {},
   "source": [
    "nombre_infected      1095\n",
    "nombre_sain          2079\n",
    "nombre_exposed        507\n",
    "nombre_recovered    16319\n",
    "Name: 558, dtype: int64"
   ]
  },
  {
   "cell_type": "markdown",
   "id": "85b42991",
   "metadata": {},
   "source": [
    "nombre_infected      1094\n",
    "nombre_sain          2083\n",
    "nombre_exposed        500\n",
    "nombre_recovered    16323\n",
    "Name: 559, dtype: int64"
   ]
  },
  {
   "cell_type": "markdown",
   "id": "1745c8d1",
   "metadata": {},
   "source": [
    "nombre_infected      1074\n",
    "nombre_sain          2064\n",
    "nombre_exposed        510\n",
    "nombre_recovered    16352\n",
    "Name: 560, dtype: int64"
   ]
  },
  {
   "cell_type": "markdown",
   "id": "7664dcb2",
   "metadata": {},
   "source": [
    "nombre_infected      1071\n",
    "nombre_sain          2071\n",
    "nombre_exposed        503\n",
    "nombre_recovered    16355\n",
    "Name: 561, dtype: int64"
   ]
  },
  {
   "cell_type": "markdown",
   "id": "a84fe40f",
   "metadata": {},
   "source": [
    "nombre_infected      1089\n",
    "nombre_sain          2064\n",
    "nombre_exposed        478\n",
    "nombre_recovered    16369\n",
    "Name: 562, dtype: int64"
   ]
  },
  {
   "cell_type": "markdown",
   "id": "58d2d570",
   "metadata": {},
   "source": [
    "nombre_infected      1056\n",
    "nombre_sain          2025\n",
    "nombre_exposed        533\n",
    "nombre_recovered    16386\n",
    "Name: 563, dtype: int64"
   ]
  },
  {
   "cell_type": "markdown",
   "id": "36e5a1a8",
   "metadata": {},
   "source": [
    "nombre_infected      1060\n",
    "nombre_sain          2002\n",
    "nombre_exposed        542\n",
    "nombre_recovered    16396\n",
    "Name: 564, dtype: int64"
   ]
  },
  {
   "cell_type": "markdown",
   "id": "90d5e172",
   "metadata": {},
   "source": [
    "nombre_infected      1070\n",
    "nombre_sain          1997\n",
    "nombre_exposed        528\n",
    "nombre_recovered    16405\n",
    "Name: 565, dtype: int64"
   ]
  },
  {
   "cell_type": "markdown",
   "id": "6e5e0e5d",
   "metadata": {},
   "source": [
    "nombre_infected      1082\n",
    "nombre_sain          1973\n",
    "nombre_exposed        532\n",
    "nombre_recovered    16413\n",
    "Name: 566, dtype: int64"
   ]
  },
  {
   "cell_type": "markdown",
   "id": "2034bcb8",
   "metadata": {},
   "source": [
    "nombre_infected      1088\n",
    "nombre_sain          1951\n",
    "nombre_exposed        525\n",
    "nombre_recovered    16436\n",
    "Name: 567, dtype: int64"
   ]
  },
  {
   "cell_type": "markdown",
   "id": "6207531f",
   "metadata": {},
   "source": [
    "nombre_infected      1098\n",
    "nombre_sain          1928\n",
    "nombre_exposed        510\n",
    "nombre_recovered    16464\n",
    "Name: 568, dtype: int64"
   ]
  },
  {
   "cell_type": "markdown",
   "id": "87cf7d2c",
   "metadata": {},
   "source": [
    "nombre_infected      1107\n",
    "nombre_sain          1924\n",
    "nombre_exposed        479\n",
    "nombre_recovered    16490\n",
    "Name: 569, dtype: int64"
   ]
  },
  {
   "cell_type": "markdown",
   "id": "c4a9025a",
   "metadata": {},
   "source": [
    "nombre_infected      1143\n",
    "nombre_sain          1896\n",
    "nombre_exposed        474\n",
    "nombre_recovered    16487\n",
    "Name: 570, dtype: int64"
   ]
  },
  {
   "cell_type": "markdown",
   "id": "de7f6456",
   "metadata": {},
   "source": [
    "nombre_infected      1117\n",
    "nombre_sain          1884\n",
    "nombre_exposed        499\n",
    "nombre_recovered    16500\n",
    "Name: 571, dtype: int64"
   ]
  },
  {
   "cell_type": "markdown",
   "id": "6067d0c1",
   "metadata": {},
   "source": [
    "nombre_infected      1117\n",
    "nombre_sain          1875\n",
    "nombre_exposed        488\n",
    "nombre_recovered    16520\n",
    "Name: 572, dtype: int64"
   ]
  },
  {
   "cell_type": "markdown",
   "id": "37037558",
   "metadata": {},
   "source": [
    "nombre_infected      1101\n",
    "nombre_sain          1866\n",
    "nombre_exposed        481\n",
    "nombre_recovered    16552\n",
    "Name: 573, dtype: int64"
   ]
  },
  {
   "cell_type": "markdown",
   "id": "ae99cedb",
   "metadata": {},
   "source": [
    "nombre_infected      1059\n",
    "nombre_sain          1872\n",
    "nombre_exposed        483\n",
    "nombre_recovered    16586\n",
    "Name: 574, dtype: int64"
   ]
  },
  {
   "cell_type": "markdown",
   "id": "fa1b98eb",
   "metadata": {},
   "source": [
    "nombre_infected      1063\n",
    "nombre_sain          1875\n",
    "nombre_exposed        469\n",
    "nombre_recovered    16593\n",
    "Name: 575, dtype: int64"
   ]
  },
  {
   "cell_type": "markdown",
   "id": "10608d07",
   "metadata": {},
   "source": [
    "nombre_infected      1058\n",
    "nombre_sain          1868\n",
    "nombre_exposed        468\n",
    "nombre_recovered    16606\n",
    "Name: 576, dtype: int64"
   ]
  },
  {
   "cell_type": "markdown",
   "id": "2ea3606c",
   "metadata": {},
   "source": [
    "nombre_infected      1047\n",
    "nombre_sain          1903\n",
    "nombre_exposed        461\n",
    "nombre_recovered    16589\n",
    "Name: 577, dtype: int64"
   ]
  },
  {
   "cell_type": "markdown",
   "id": "091d1bf3",
   "metadata": {},
   "source": [
    "nombre_infected      1031\n",
    "nombre_sain          1936\n",
    "nombre_exposed        464\n",
    "nombre_recovered    16569\n",
    "Name: 578, dtype: int64"
   ]
  },
  {
   "cell_type": "markdown",
   "id": "44510549",
   "metadata": {},
   "source": [
    "nombre_infected      1018\n",
    "nombre_sain          1933\n",
    "nombre_exposed        484\n",
    "nombre_recovered    16565\n",
    "Name: 579, dtype: int64"
   ]
  },
  {
   "cell_type": "markdown",
   "id": "b49980e7",
   "metadata": {},
   "source": [
    "nombre_infected      1012\n",
    "nombre_sain          1956\n",
    "nombre_exposed        488\n",
    "nombre_recovered    16544\n",
    "Name: 580, dtype: int64"
   ]
  },
  {
   "cell_type": "markdown",
   "id": "b555f50d",
   "metadata": {},
   "source": [
    "nombre_infected      1012\n",
    "nombre_sain          1983\n",
    "nombre_exposed        483\n",
    "nombre_recovered    16522\n",
    "Name: 581, dtype: int64"
   ]
  },
  {
   "cell_type": "markdown",
   "id": "58425c99",
   "metadata": {},
   "source": [
    "nombre_infected       991\n",
    "nombre_sain          1993\n",
    "nombre_exposed        496\n",
    "nombre_recovered    16520\n",
    "Name: 582, dtype: int64"
   ]
  },
  {
   "cell_type": "markdown",
   "id": "d6238c0b",
   "metadata": {},
   "source": [
    "nombre_infected       980\n",
    "nombre_sain          1995\n",
    "nombre_exposed        506\n",
    "nombre_recovered    16519\n",
    "Name: 583, dtype: int64"
   ]
  },
  {
   "cell_type": "markdown",
   "id": "4ef29c77",
   "metadata": {},
   "source": [
    "nombre_infected       976\n",
    "nombre_sain          2036\n",
    "nombre_exposed        495\n",
    "nombre_recovered    16493\n",
    "Name: 584, dtype: int64"
   ]
  },
  {
   "cell_type": "markdown",
   "id": "1129762d",
   "metadata": {},
   "source": [
    "nombre_infected       966\n",
    "nombre_sain          2058\n",
    "nombre_exposed        481\n",
    "nombre_recovered    16495\n",
    "Name: 585, dtype: int64"
   ]
  },
  {
   "cell_type": "markdown",
   "id": "567496c9",
   "metadata": {},
   "source": [
    "nombre_infected       983\n",
    "nombre_sain          2101\n",
    "nombre_exposed        440\n",
    "nombre_recovered    16476\n",
    "Name: 586, dtype: int64"
   ]
  },
  {
   "cell_type": "markdown",
   "id": "b08a5ece",
   "metadata": {},
   "source": [
    "nombre_infected       991\n",
    "nombre_sain          2088\n",
    "nombre_exposed        481\n",
    "nombre_recovered    16440\n",
    "Name: 587, dtype: int64"
   ]
  },
  {
   "cell_type": "markdown",
   "id": "603ee2d0",
   "metadata": {},
   "source": [
    "nombre_infected       976\n",
    "nombre_sain          2128\n",
    "nombre_exposed        495\n",
    "nombre_recovered    16401\n",
    "Name: 588, dtype: int64"
   ]
  },
  {
   "cell_type": "markdown",
   "id": "a1525785",
   "metadata": {},
   "source": [
    "nombre_infected       971\n",
    "nombre_sain          2120\n",
    "nombre_exposed        484\n",
    "nombre_recovered    16425\n",
    "Name: 589, dtype: int64"
   ]
  },
  {
   "cell_type": "markdown",
   "id": "99c75c9f",
   "metadata": {},
   "source": [
    "nombre_infected       969\n",
    "nombre_sain          2160\n",
    "nombre_exposed        482\n",
    "nombre_recovered    16389\n",
    "Name: 590, dtype: int64"
   ]
  },
  {
   "cell_type": "markdown",
   "id": "3edaa309",
   "metadata": {},
   "source": [
    "nombre_infected       963\n",
    "nombre_sain          2191\n",
    "nombre_exposed        474\n",
    "nombre_recovered    16372\n",
    "Name: 591, dtype: int64"
   ]
  },
  {
   "cell_type": "markdown",
   "id": "d16a85c4",
   "metadata": {},
   "source": [
    "nombre_infected       965\n",
    "nombre_sain          2215\n",
    "nombre_exposed        472\n",
    "nombre_recovered    16348\n",
    "Name: 592, dtype: int64"
   ]
  },
  {
   "cell_type": "markdown",
   "id": "674ceb75",
   "metadata": {},
   "source": [
    "nombre_infected       977\n",
    "nombre_sain          2226\n",
    "nombre_exposed        469\n",
    "nombre_recovered    16328\n",
    "Name: 593, dtype: int64"
   ]
  },
  {
   "cell_type": "markdown",
   "id": "2ea94caf",
   "metadata": {},
   "source": [
    "nombre_infected       971\n",
    "nombre_sain          2234\n",
    "nombre_exposed        495\n",
    "nombre_recovered    16300\n",
    "Name: 594, dtype: int64"
   ]
  },
  {
   "cell_type": "markdown",
   "id": "345beccf",
   "metadata": {},
   "source": [
    "nombre_infected       958\n",
    "nombre_sain          2243\n",
    "nombre_exposed        515\n",
    "nombre_recovered    16284\n",
    "Name: 595, dtype: int64"
   ]
  },
  {
   "cell_type": "markdown",
   "id": "cb17a012",
   "metadata": {},
   "source": [
    "nombre_infected       960\n",
    "nombre_sain          2236\n",
    "nombre_exposed        553\n",
    "nombre_recovered    16251\n",
    "Name: 596, dtype: int64"
   ]
  },
  {
   "cell_type": "markdown",
   "id": "5e3be373",
   "metadata": {},
   "source": [
    "nombre_infected       968\n",
    "nombre_sain          2238\n",
    "nombre_exposed        556\n",
    "nombre_recovered    16238\n",
    "Name: 597, dtype: int64"
   ]
  },
  {
   "cell_type": "markdown",
   "id": "4a0a043a",
   "metadata": {},
   "source": [
    "nombre_infected       989\n",
    "nombre_sain          2259\n",
    "nombre_exposed        543\n",
    "nombre_recovered    16209\n",
    "Name: 598, dtype: int64"
   ]
  },
  {
   "cell_type": "markdown",
   "id": "c45434e6",
   "metadata": {},
   "source": [
    "nombre_infected      1017\n",
    "nombre_sain          2240\n",
    "nombre_exposed        557\n",
    "nombre_recovered    16186\n",
    "Name: 599, dtype: int64"
   ]
  },
  {
   "cell_type": "markdown",
   "id": "01fc28e4",
   "metadata": {},
   "source": [
    "nombre_infected      1058\n",
    "nombre_sain          2228\n",
    "nombre_exposed        554\n",
    "nombre_recovered    16160\n",
    "Name: 600, dtype: int64"
   ]
  },
  {
   "cell_type": "markdown",
   "id": "30f81be0",
   "metadata": {},
   "source": [
    "nombre_infected      1084\n",
    "nombre_sain          2216\n",
    "nombre_exposed        563\n",
    "nombre_recovered    16137\n",
    "Name: 601, dtype: int64"
   ]
  },
  {
   "cell_type": "markdown",
   "id": "5febc0bb",
   "metadata": {},
   "source": [
    "nombre_infected      1083\n",
    "nombre_sain          2196\n",
    "nombre_exposed        580\n",
    "nombre_recovered    16141\n",
    "Name: 602, dtype: int64"
   ]
  },
  {
   "cell_type": "markdown",
   "id": "bffb10ad",
   "metadata": {},
   "source": [
    "nombre_infected      1100\n",
    "nombre_sain          2194\n",
    "nombre_exposed        576\n",
    "nombre_recovered    16130\n",
    "Name: 603, dtype: int64"
   ]
  },
  {
   "cell_type": "markdown",
   "id": "c376a074",
   "metadata": {},
   "source": [
    "nombre_infected      1124\n",
    "nombre_sain          2167\n",
    "nombre_exposed        574\n",
    "nombre_recovered    16135\n",
    "Name: 604, dtype: int64"
   ]
  },
  {
   "cell_type": "markdown",
   "id": "e217a1cb",
   "metadata": {},
   "source": [
    "nombre_infected      1163\n",
    "nombre_sain          2136\n",
    "nombre_exposed        598\n",
    "nombre_recovered    16103\n",
    "Name: 605, dtype: int64"
   ]
  },
  {
   "cell_type": "markdown",
   "id": "64d94206",
   "metadata": {},
   "source": [
    "nombre_infected      1166\n",
    "nombre_sain          2125\n",
    "nombre_exposed        601\n",
    "nombre_recovered    16108\n",
    "Name: 606, dtype: int64"
   ]
  },
  {
   "cell_type": "markdown",
   "id": "afc37c81",
   "metadata": {},
   "source": [
    "nombre_infected      1172\n",
    "nombre_sain          2150\n",
    "nombre_exposed        592\n",
    "nombre_recovered    16086\n",
    "Name: 607, dtype: int64"
   ]
  },
  {
   "cell_type": "markdown",
   "id": "df686917",
   "metadata": {},
   "source": [
    "nombre_infected      1203\n",
    "nombre_sain          2123\n",
    "nombre_exposed        600\n",
    "nombre_recovered    16074\n",
    "Name: 608, dtype: int64"
   ]
  },
  {
   "cell_type": "markdown",
   "id": "d89a03e5",
   "metadata": {},
   "source": [
    "nombre_infected      1196\n",
    "nombre_sain          2072\n",
    "nombre_exposed        631\n",
    "nombre_recovered    16101\n",
    "Name: 609, dtype: int64"
   ]
  },
  {
   "cell_type": "markdown",
   "id": "547e9d91",
   "metadata": {},
   "source": [
    "nombre_infected      1219\n",
    "nombre_sain          2044\n",
    "nombre_exposed        610\n",
    "nombre_recovered    16127\n",
    "Name: 610, dtype: int64"
   ]
  },
  {
   "cell_type": "markdown",
   "id": "697d25f5",
   "metadata": {},
   "source": [
    "nombre_infected      1235\n",
    "nombre_sain          2032\n",
    "nombre_exposed        600\n",
    "nombre_recovered    16133\n",
    "Name: 611, dtype: int64"
   ]
  },
  {
   "cell_type": "markdown",
   "id": "131eab56",
   "metadata": {},
   "source": [
    "nombre_infected      1260\n",
    "nombre_sain          1986\n",
    "nombre_exposed        616\n",
    "nombre_recovered    16138\n",
    "Name: 612, dtype: int64"
   ]
  },
  {
   "cell_type": "markdown",
   "id": "3b61a05f",
   "metadata": {},
   "source": [
    "nombre_infected      1253\n",
    "nombre_sain          1952\n",
    "nombre_exposed        614\n",
    "nombre_recovered    16181\n",
    "Name: 613, dtype: int64"
   ]
  },
  {
   "cell_type": "markdown",
   "id": "e2f4cdb2",
   "metadata": {},
   "source": [
    "nombre_infected      1273\n",
    "nombre_sain          1948\n",
    "nombre_exposed        600\n",
    "nombre_recovered    16179\n",
    "Name: 614, dtype: int64"
   ]
  },
  {
   "cell_type": "markdown",
   "id": "035ac3f8",
   "metadata": {},
   "source": [
    "nombre_infected      1280\n",
    "nombre_sain          1943\n",
    "nombre_exposed        590\n",
    "nombre_recovered    16187\n",
    "Name: 615, dtype: int64"
   ]
  },
  {
   "cell_type": "markdown",
   "id": "a6c3624a",
   "metadata": {},
   "source": [
    "nombre_infected      1254\n",
    "nombre_sain          1915\n",
    "nombre_exposed        623\n",
    "nombre_recovered    16208\n",
    "Name: 616, dtype: int64"
   ]
  },
  {
   "cell_type": "markdown",
   "id": "da73099b",
   "metadata": {},
   "source": [
    "nombre_infected      1249\n",
    "nombre_sain          1922\n",
    "nombre_exposed        604\n",
    "nombre_recovered    16225\n",
    "Name: 617, dtype: int64"
   ]
  },
  {
   "cell_type": "markdown",
   "id": "b583c8bb",
   "metadata": {},
   "source": [
    "nombre_infected      1242\n",
    "nombre_sain          1898\n",
    "nombre_exposed        603\n",
    "nombre_recovered    16257\n",
    "Name: 618, dtype: int64"
   ]
  },
  {
   "cell_type": "markdown",
   "id": "d91995c4",
   "metadata": {},
   "source": [
    "nombre_infected      1241\n",
    "nombre_sain          1870\n",
    "nombre_exposed        592\n",
    "nombre_recovered    16297\n",
    "Name: 619, dtype: int64"
   ]
  },
  {
   "cell_type": "markdown",
   "id": "b6908072",
   "metadata": {},
   "source": [
    "nombre_infected      1218\n",
    "nombre_sain          1854\n",
    "nombre_exposed        588\n",
    "nombre_recovered    16340\n",
    "Name: 620, dtype: int64"
   ]
  },
  {
   "cell_type": "markdown",
   "id": "2d3e5c44",
   "metadata": {},
   "source": [
    "nombre_infected      1225\n",
    "nombre_sain          1826\n",
    "nombre_exposed        598\n",
    "nombre_recovered    16351\n",
    "Name: 621, dtype: int64"
   ]
  },
  {
   "cell_type": "markdown",
   "id": "8e8260af",
   "metadata": {},
   "source": [
    "nombre_infected      1216\n",
    "nombre_sain          1809\n",
    "nombre_exposed        612\n",
    "nombre_recovered    16363\n",
    "Name: 622, dtype: int64"
   ]
  },
  {
   "cell_type": "markdown",
   "id": "9f4373d0",
   "metadata": {},
   "source": [
    "nombre_infected      1261\n",
    "nombre_sain          1783\n",
    "nombre_exposed        586\n",
    "nombre_recovered    16370\n",
    "Name: 623, dtype: int64"
   ]
  },
  {
   "cell_type": "markdown",
   "id": "ca664631",
   "metadata": {},
   "source": [
    "nombre_infected      1246\n",
    "nombre_sain          1751\n",
    "nombre_exposed        595\n",
    "nombre_recovered    16408\n",
    "Name: 624, dtype: int64"
   ]
  },
  {
   "cell_type": "markdown",
   "id": "2193dfaa",
   "metadata": {},
   "source": [
    "nombre_infected      1238\n",
    "nombre_sain          1756\n",
    "nombre_exposed        572\n",
    "nombre_recovered    16434\n",
    "Name: 625, dtype: int64"
   ]
  },
  {
   "cell_type": "markdown",
   "id": "f61f7cdf",
   "metadata": {},
   "source": [
    "nombre_infected      1263\n",
    "nombre_sain          1747\n",
    "nombre_exposed        547\n",
    "nombre_recovered    16443\n",
    "Name: 626, dtype: int64"
   ]
  },
  {
   "cell_type": "markdown",
   "id": "355015ab",
   "metadata": {},
   "source": [
    "nombre_infected      1255\n",
    "nombre_sain          1751\n",
    "nombre_exposed        543\n",
    "nombre_recovered    16451\n",
    "Name: 627, dtype: int64"
   ]
  },
  {
   "cell_type": "markdown",
   "id": "7eddc8b2",
   "metadata": {},
   "source": [
    "nombre_infected      1256\n",
    "nombre_sain          1746\n",
    "nombre_exposed        519\n",
    "nombre_recovered    16479\n",
    "Name: 628, dtype: int64"
   ]
  },
  {
   "cell_type": "markdown",
   "id": "25c26c5c",
   "metadata": {},
   "source": [
    "nombre_infected      1247\n",
    "nombre_sain          1720\n",
    "nombre_exposed        534\n",
    "nombre_recovered    16499\n",
    "Name: 629, dtype: int64"
   ]
  },
  {
   "cell_type": "markdown",
   "id": "4dd12c2f",
   "metadata": {},
   "source": [
    "nombre_infected      1214\n",
    "nombre_sain          1693\n",
    "nombre_exposed        543\n",
    "nombre_recovered    16550\n",
    "Name: 630, dtype: int64"
   ]
  },
  {
   "cell_type": "markdown",
   "id": "b3f1b4b1",
   "metadata": {},
   "source": [
    "nombre_infected      1207\n",
    "nombre_sain          1695\n",
    "nombre_exposed        518\n",
    "nombre_recovered    16580\n",
    "Name: 631, dtype: int64"
   ]
  },
  {
   "cell_type": "markdown",
   "id": "e6411f9e",
   "metadata": {},
   "source": [
    "nombre_infected      1165\n",
    "nombre_sain          1724\n",
    "nombre_exposed        507\n",
    "nombre_recovered    16604\n",
    "Name: 632, dtype: int64"
   ]
  },
  {
   "cell_type": "markdown",
   "id": "ade3240f",
   "metadata": {},
   "source": [
    "nombre_infected      1163\n",
    "nombre_sain          1741\n",
    "nombre_exposed        495\n",
    "nombre_recovered    16601\n",
    "Name: 633, dtype: int64"
   ]
  },
  {
   "cell_type": "markdown",
   "id": "79399b4b",
   "metadata": {},
   "source": [
    "nombre_infected      1161\n",
    "nombre_sain          1752\n",
    "nombre_exposed        486\n",
    "nombre_recovered    16601\n",
    "Name: 634, dtype: int64"
   ]
  },
  {
   "cell_type": "markdown",
   "id": "f9fa81ea",
   "metadata": {},
   "source": [
    "nombre_infected      1140\n",
    "nombre_sain          1751\n",
    "nombre_exposed        498\n",
    "nombre_recovered    16611\n",
    "Name: 635, dtype: int64"
   ]
  },
  {
   "cell_type": "markdown",
   "id": "c54b8f42",
   "metadata": {},
   "source": [
    "nombre_infected      1124\n",
    "nombre_sain          1776\n",
    "nombre_exposed        498\n",
    "nombre_recovered    16602\n",
    "Name: 636, dtype: int64"
   ]
  },
  {
   "cell_type": "markdown",
   "id": "b5081b88",
   "metadata": {},
   "source": [
    "nombre_infected      1100\n",
    "nombre_sain          1769\n",
    "nombre_exposed        520\n",
    "nombre_recovered    16611\n",
    "Name: 637, dtype: int64"
   ]
  },
  {
   "cell_type": "markdown",
   "id": "df3faaa2",
   "metadata": {},
   "source": [
    "nombre_infected      1099\n",
    "nombre_sain          1811\n",
    "nombre_exposed        505\n",
    "nombre_recovered    16585\n",
    "Name: 638, dtype: int64"
   ]
  },
  {
   "cell_type": "markdown",
   "id": "acf57ded",
   "metadata": {},
   "source": [
    "nombre_infected      1071\n",
    "nombre_sain          1808\n",
    "nombre_exposed        514\n",
    "nombre_recovered    16607\n",
    "Name: 639, dtype: int64"
   ]
  },
  {
   "cell_type": "markdown",
   "id": "89beedd1",
   "metadata": {},
   "source": [
    "nombre_infected      1030\n",
    "nombre_sain          1800\n",
    "nombre_exposed        535\n",
    "nombre_recovered    16635\n",
    "Name: 640, dtype: int64"
   ]
  },
  {
   "cell_type": "markdown",
   "id": "2da2d432",
   "metadata": {},
   "source": [
    "nombre_infected      1008\n",
    "nombre_sain          1828\n",
    "nombre_exposed        525\n",
    "nombre_recovered    16639\n",
    "Name: 641, dtype: int64"
   ]
  },
  {
   "cell_type": "markdown",
   "id": "11189d80",
   "metadata": {},
   "source": [
    "nombre_infected      1005\n",
    "nombre_sain          1878\n",
    "nombre_exposed        473\n",
    "nombre_recovered    16644\n",
    "Name: 642, dtype: int64"
   ]
  },
  {
   "cell_type": "markdown",
   "id": "d273cb25",
   "metadata": {},
   "source": [
    "nombre_infected      1002\n",
    "nombre_sain          1887\n",
    "nombre_exposed        472\n",
    "nombre_recovered    16639\n",
    "Name: 643, dtype: int64"
   ]
  },
  {
   "cell_type": "markdown",
   "id": "eb7c5dec",
   "metadata": {},
   "source": [
    "nombre_infected       981\n",
    "nombre_sain          1912\n",
    "nombre_exposed        471\n",
    "nombre_recovered    16636\n",
    "Name: 644, dtype: int64"
   ]
  },
  {
   "cell_type": "markdown",
   "id": "e921f3c8",
   "metadata": {},
   "source": [
    "nombre_infected       977\n",
    "nombre_sain          1906\n",
    "nombre_exposed        474\n",
    "nombre_recovered    16643\n",
    "Name: 645, dtype: int64"
   ]
  },
  {
   "cell_type": "markdown",
   "id": "4f213bfe",
   "metadata": {},
   "source": [
    "nombre_infected       938\n",
    "nombre_sain          1924\n",
    "nombre_exposed        489\n",
    "nombre_recovered    16649\n",
    "Name: 646, dtype: int64"
   ]
  },
  {
   "cell_type": "markdown",
   "id": "00eaef6f",
   "metadata": {},
   "source": [
    "nombre_infected       945\n",
    "nombre_sain          1913\n",
    "nombre_exposed        480\n",
    "nombre_recovered    16662\n",
    "Name: 647, dtype: int64"
   ]
  },
  {
   "cell_type": "markdown",
   "id": "2053f9f7",
   "metadata": {},
   "source": [
    "nombre_infected       937\n",
    "nombre_sain          1943\n",
    "nombre_exposed        470\n",
    "nombre_recovered    16650\n",
    "Name: 648, dtype: int64"
   ]
  },
  {
   "cell_type": "markdown",
   "id": "2eb65ee2",
   "metadata": {},
   "source": [
    "nombre_infected       948\n",
    "nombre_sain          1935\n",
    "nombre_exposed        463\n",
    "nombre_recovered    16654\n",
    "Name: 649, dtype: int64"
   ]
  },
  {
   "cell_type": "markdown",
   "id": "135fd414",
   "metadata": {},
   "source": [
    "nombre_infected       927\n",
    "nombre_sain          1930\n",
    "nombre_exposed        463\n",
    "nombre_recovered    16680\n",
    "Name: 650, dtype: int64"
   ]
  },
  {
   "cell_type": "markdown",
   "id": "0c5bc642",
   "metadata": {},
   "source": [
    "nombre_infected       911\n",
    "nombre_sain          1957\n",
    "nombre_exposed        467\n",
    "nombre_recovered    16665\n",
    "Name: 651, dtype: int64"
   ]
  },
  {
   "cell_type": "markdown",
   "id": "f88575fb",
   "metadata": {},
   "source": [
    "nombre_infected       902\n",
    "nombre_sain          1966\n",
    "nombre_exposed        466\n",
    "nombre_recovered    16666\n",
    "Name: 652, dtype: int64"
   ]
  },
  {
   "cell_type": "markdown",
   "id": "207f119e",
   "metadata": {},
   "source": [
    "nombre_infected       905\n",
    "nombre_sain          1978\n",
    "nombre_exposed        456\n",
    "nombre_recovered    16661\n",
    "Name: 653, dtype: int64"
   ]
  },
  {
   "cell_type": "markdown",
   "id": "7b147382",
   "metadata": {},
   "source": [
    "nombre_infected       920\n",
    "nombre_sain          1984\n",
    "nombre_exposed        447\n",
    "nombre_recovered    16649\n",
    "Name: 654, dtype: int64"
   ]
  },
  {
   "cell_type": "markdown",
   "id": "1e655846",
   "metadata": {},
   "source": [
    "nombre_infected       904\n",
    "nombre_sain          1969\n",
    "nombre_exposed        460\n",
    "nombre_recovered    16667\n",
    "Name: 655, dtype: int64"
   ]
  },
  {
   "cell_type": "markdown",
   "id": "6658bf10",
   "metadata": {},
   "source": [
    "nombre_infected       894\n",
    "nombre_sain          2000\n",
    "nombre_exposed        455\n",
    "nombre_recovered    16651\n",
    "Name: 656, dtype: int64"
   ]
  },
  {
   "cell_type": "markdown",
   "id": "869a6d17",
   "metadata": {},
   "source": [
    "nombre_infected       901\n",
    "nombre_sain          2023\n",
    "nombre_exposed        456\n",
    "nombre_recovered    16620\n",
    "Name: 657, dtype: int64"
   ]
  },
  {
   "cell_type": "markdown",
   "id": "51de2b21",
   "metadata": {},
   "source": [
    "nombre_infected       894\n",
    "nombre_sain          2017\n",
    "nombre_exposed        472\n",
    "nombre_recovered    16617\n",
    "Name: 658, dtype: int64"
   ]
  },
  {
   "cell_type": "markdown",
   "id": "b0f69799",
   "metadata": {},
   "source": [
    "nombre_infected       885\n",
    "nombre_sain          2024\n",
    "nombre_exposed        481\n",
    "nombre_recovered    16610\n",
    "Name: 659, dtype: int64"
   ]
  },
  {
   "cell_type": "markdown",
   "id": "8091a632",
   "metadata": {},
   "source": [
    "nombre_infected       905\n",
    "nombre_sain          2031\n",
    "nombre_exposed        467\n",
    "nombre_recovered    16597\n",
    "Name: 660, dtype: int64"
   ]
  },
  {
   "cell_type": "markdown",
   "id": "d1fc8cb9",
   "metadata": {},
   "source": [
    "nombre_infected       898\n",
    "nombre_sain          2034\n",
    "nombre_exposed        474\n",
    "nombre_recovered    16594\n",
    "Name: 661, dtype: int64"
   ]
  },
  {
   "cell_type": "markdown",
   "id": "2265adf0",
   "metadata": {},
   "source": [
    "nombre_infected       906\n",
    "nombre_sain          2037\n",
    "nombre_exposed        471\n",
    "nombre_recovered    16586\n",
    "Name: 662, dtype: int64"
   ]
  },
  {
   "cell_type": "markdown",
   "id": "7a978cfb",
   "metadata": {},
   "source": [
    "nombre_infected       932\n",
    "nombre_sain          2054\n",
    "nombre_exposed        465\n",
    "nombre_recovered    16549\n",
    "Name: 663, dtype: int64"
   ]
  },
  {
   "cell_type": "markdown",
   "id": "aff3de26",
   "metadata": {},
   "source": [
    "nombre_infected       941\n",
    "nombre_sain          2024\n",
    "nombre_exposed        461\n",
    "nombre_recovered    16574\n",
    "Name: 664, dtype: int64"
   ]
  },
  {
   "cell_type": "markdown",
   "id": "510490b0",
   "metadata": {},
   "source": [
    "nombre_infected       952\n",
    "nombre_sain          2038\n",
    "nombre_exposed        446\n",
    "nombre_recovered    16564\n",
    "Name: 665, dtype: int64"
   ]
  },
  {
   "cell_type": "markdown",
   "id": "31c6d0b8",
   "metadata": {},
   "source": [
    "nombre_infected       956\n",
    "nombre_sain          2043\n",
    "nombre_exposed        440\n",
    "nombre_recovered    16561\n",
    "Name: 666, dtype: int64"
   ]
  },
  {
   "cell_type": "markdown",
   "id": "6d6635bb",
   "metadata": {},
   "source": [
    "nombre_infected       932\n",
    "nombre_sain          2048\n",
    "nombre_exposed        459\n",
    "nombre_recovered    16561\n",
    "Name: 667, dtype: int64"
   ]
  },
  {
   "cell_type": "markdown",
   "id": "c233c734",
   "metadata": {},
   "source": [
    "nombre_infected       921\n",
    "nombre_sain          2018\n",
    "nombre_exposed        477\n",
    "nombre_recovered    16584\n",
    "Name: 668, dtype: int64"
   ]
  },
  {
   "cell_type": "markdown",
   "id": "a05041b3",
   "metadata": {},
   "source": [
    "nombre_infected       898\n",
    "nombre_sain          2017\n",
    "nombre_exposed        498\n",
    "nombre_recovered    16587\n",
    "Name: 669, dtype: int64"
   ]
  },
  {
   "cell_type": "markdown",
   "id": "3db327cd",
   "metadata": {},
   "source": [
    "nombre_infected       907\n",
    "nombre_sain          2032\n",
    "nombre_exposed        485\n",
    "nombre_recovered    16576\n",
    "Name: 670, dtype: int64"
   ]
  },
  {
   "cell_type": "markdown",
   "id": "8c4e3ef7",
   "metadata": {},
   "source": [
    "nombre_infected       918\n",
    "nombre_sain          2025\n",
    "nombre_exposed        489\n",
    "nombre_recovered    16568\n",
    "Name: 671, dtype: int64"
   ]
  },
  {
   "cell_type": "markdown",
   "id": "9ca2c0e1",
   "metadata": {},
   "source": [
    "nombre_infected       879\n",
    "nombre_sain          2031\n",
    "nombre_exposed        514\n",
    "nombre_recovered    16576\n",
    "Name: 672, dtype: int64"
   ]
  },
  {
   "cell_type": "markdown",
   "id": "058ceedc",
   "metadata": {},
   "source": [
    "nombre_infected       878\n",
    "nombre_sain          2035\n",
    "nombre_exposed        508\n",
    "nombre_recovered    16579\n",
    "Name: 673, dtype: int64"
   ]
  },
  {
   "cell_type": "markdown",
   "id": "aea3c442",
   "metadata": {},
   "source": [
    "nombre_infected       883\n",
    "nombre_sain          2025\n",
    "nombre_exposed        504\n",
    "nombre_recovered    16588\n",
    "Name: 674, dtype: int64"
   ]
  },
  {
   "cell_type": "markdown",
   "id": "fa698d85",
   "metadata": {},
   "source": [
    "nombre_infected       880\n",
    "nombre_sain          2037\n",
    "nombre_exposed        491\n",
    "nombre_recovered    16592\n",
    "Name: 675, dtype: int64"
   ]
  },
  {
   "cell_type": "markdown",
   "id": "8d8867a0",
   "metadata": {},
   "source": [
    "nombre_infected       887\n",
    "nombre_sain          2058\n",
    "nombre_exposed        481\n",
    "nombre_recovered    16574\n",
    "Name: 676, dtype: int64"
   ]
  },
  {
   "cell_type": "markdown",
   "id": "783e25c6",
   "metadata": {},
   "source": [
    "nombre_infected       900\n",
    "nombre_sain          2075\n",
    "nombre_exposed        468\n",
    "nombre_recovered    16557\n",
    "Name: 677, dtype: int64"
   ]
  },
  {
   "cell_type": "markdown",
   "id": "9385b231",
   "metadata": {},
   "source": [
    "nombre_infected       894\n",
    "nombre_sain          2080\n",
    "nombre_exposed        481\n",
    "nombre_recovered    16545\n",
    "Name: 678, dtype: int64"
   ]
  },
  {
   "cell_type": "markdown",
   "id": "4a32e844",
   "metadata": {},
   "source": [
    "nombre_infected       882\n",
    "nombre_sain          2090\n",
    "nombre_exposed        494\n",
    "nombre_recovered    16534\n",
    "Name: 679, dtype: int64"
   ]
  },
  {
   "cell_type": "markdown",
   "id": "ae941834",
   "metadata": {},
   "source": [
    "nombre_infected       858\n",
    "nombre_sain          2106\n",
    "nombre_exposed        511\n",
    "nombre_recovered    16525\n",
    "Name: 680, dtype: int64"
   ]
  },
  {
   "cell_type": "markdown",
   "id": "aee77d05",
   "metadata": {},
   "source": [
    "nombre_infected       864\n",
    "nombre_sain          2078\n",
    "nombre_exposed        526\n",
    "nombre_recovered    16532\n",
    "Name: 681, dtype: int64"
   ]
  },
  {
   "cell_type": "markdown",
   "id": "f60304b0",
   "metadata": {},
   "source": [
    "nombre_infected       875\n",
    "nombre_sain          2084\n",
    "nombre_exposed        499\n",
    "nombre_recovered    16542\n",
    "Name: 682, dtype: int64"
   ]
  },
  {
   "cell_type": "markdown",
   "id": "a6cb4ae3",
   "metadata": {},
   "source": [
    "nombre_infected       897\n",
    "nombre_sain          2091\n",
    "nombre_exposed        489\n",
    "nombre_recovered    16523\n",
    "Name: 683, dtype: int64"
   ]
  },
  {
   "cell_type": "markdown",
   "id": "2c030338",
   "metadata": {},
   "source": [
    "nombre_infected       907\n",
    "nombre_sain          2091\n",
    "nombre_exposed        481\n",
    "nombre_recovered    16521\n",
    "Name: 684, dtype: int64"
   ]
  },
  {
   "cell_type": "markdown",
   "id": "838f5543",
   "metadata": {},
   "source": [
    "nombre_infected       901\n",
    "nombre_sain          2109\n",
    "nombre_exposed        474\n",
    "nombre_recovered    16516\n",
    "Name: 685, dtype: int64"
   ]
  },
  {
   "cell_type": "markdown",
   "id": "2a7d731b",
   "metadata": {},
   "source": [
    "nombre_infected       910\n",
    "nombre_sain          2122\n",
    "nombre_exposed        451\n",
    "nombre_recovered    16517\n",
    "Name: 686, dtype: int64"
   ]
  },
  {
   "cell_type": "markdown",
   "id": "65e6f5f7",
   "metadata": {},
   "source": [
    "nombre_infected       890\n",
    "nombre_sain          2130\n",
    "nombre_exposed        448\n",
    "nombre_recovered    16532\n",
    "Name: 687, dtype: int64"
   ]
  },
  {
   "cell_type": "markdown",
   "id": "b9d4d9fe",
   "metadata": {},
   "source": [
    "nombre_infected       890\n",
    "nombre_sain          2160\n",
    "nombre_exposed        449\n",
    "nombre_recovered    16501\n",
    "Name: 688, dtype: int64"
   ]
  },
  {
   "cell_type": "markdown",
   "id": "e6ab80a2",
   "metadata": {},
   "source": [
    "nombre_infected       874\n",
    "nombre_sain          2166\n",
    "nombre_exposed        463\n",
    "nombre_recovered    16497\n",
    "Name: 689, dtype: int64"
   ]
  },
  {
   "cell_type": "markdown",
   "id": "555370fc",
   "metadata": {},
   "source": [
    "nombre_infected       881\n",
    "nombre_sain          2156\n",
    "nombre_exposed        467\n",
    "nombre_recovered    16496\n",
    "Name: 690, dtype: int64"
   ]
  },
  {
   "cell_type": "markdown",
   "id": "6ef47f10",
   "metadata": {},
   "source": [
    "nombre_infected       870\n",
    "nombre_sain          2129\n",
    "nombre_exposed        495\n",
    "nombre_recovered    16506\n",
    "Name: 691, dtype: int64"
   ]
  },
  {
   "cell_type": "markdown",
   "id": "9e38cc42",
   "metadata": {},
   "source": [
    "nombre_infected       846\n",
    "nombre_sain          2142\n",
    "nombre_exposed        491\n",
    "nombre_recovered    16521\n",
    "Name: 692, dtype: int64"
   ]
  },
  {
   "cell_type": "markdown",
   "id": "b18b7ac8",
   "metadata": {},
   "source": [
    "nombre_infected       842\n",
    "nombre_sain          2109\n",
    "nombre_exposed        503\n",
    "nombre_recovered    16546\n",
    "Name: 693, dtype: int64"
   ]
  },
  {
   "cell_type": "markdown",
   "id": "d4af0cda",
   "metadata": {},
   "source": [
    "nombre_infected       845\n",
    "nombre_sain          2114\n",
    "nombre_exposed        513\n",
    "nombre_recovered    16528\n",
    "Name: 694, dtype: int64"
   ]
  },
  {
   "cell_type": "markdown",
   "id": "dfef3ed1",
   "metadata": {},
   "source": [
    "nombre_infected       876\n",
    "nombre_sain          2078\n",
    "nombre_exposed        492\n",
    "nombre_recovered    16554\n",
    "Name: 695, dtype: int64"
   ]
  },
  {
   "cell_type": "markdown",
   "id": "23a716cc",
   "metadata": {},
   "source": [
    "nombre_infected       886\n",
    "nombre_sain          2053\n",
    "nombre_exposed        482\n",
    "nombre_recovered    16579\n",
    "Name: 696, dtype: int64"
   ]
  },
  {
   "cell_type": "markdown",
   "id": "9725ea2e",
   "metadata": {},
   "source": [
    "nombre_infected       897\n",
    "nombre_sain          2030\n",
    "nombre_exposed        475\n",
    "nombre_recovered    16598\n",
    "Name: 697, dtype: int64"
   ]
  },
  {
   "cell_type": "markdown",
   "id": "32f93bd0",
   "metadata": {},
   "source": [
    "nombre_infected       889\n",
    "nombre_sain          2056\n",
    "nombre_exposed        459\n",
    "nombre_recovered    16596\n",
    "Name: 698, dtype: int64"
   ]
  },
  {
   "cell_type": "markdown",
   "id": "a1988662",
   "metadata": {},
   "source": [
    "nombre_infected       873\n",
    "nombre_sain          2069\n",
    "nombre_exposed        448\n",
    "nombre_recovered    16610\n",
    "Name: 699, dtype: int64"
   ]
  },
  {
   "cell_type": "markdown",
   "id": "0e8cdc2a",
   "metadata": {},
   "source": [
    "nombre_infected       863\n",
    "nombre_sain          2046\n",
    "nombre_exposed        464\n",
    "nombre_recovered    16627\n",
    "Name: 700, dtype: int64"
   ]
  },
  {
   "cell_type": "markdown",
   "id": "a4a8a690",
   "metadata": {},
   "source": [
    "nombre_infected       852\n",
    "nombre_sain          2047\n",
    "nombre_exposed        466\n",
    "nombre_recovered    16635\n",
    "Name: 701, dtype: int64"
   ]
  },
  {
   "cell_type": "markdown",
   "id": "818ee1e4",
   "metadata": {},
   "source": [
    "nombre_infected       857\n",
    "nombre_sain          2042\n",
    "nombre_exposed        476\n",
    "nombre_recovered    16625\n",
    "Name: 702, dtype: int64"
   ]
  },
  {
   "cell_type": "markdown",
   "id": "23fff7b5",
   "metadata": {},
   "source": [
    "nombre_infected       831\n",
    "nombre_sain          2060\n",
    "nombre_exposed        456\n",
    "nombre_recovered    16653\n",
    "Name: 703, dtype: int64"
   ]
  },
  {
   "cell_type": "markdown",
   "id": "d3056359",
   "metadata": {},
   "source": [
    "nombre_infected       859\n",
    "nombre_sain          2050\n",
    "nombre_exposed        440\n",
    "nombre_recovered    16651\n",
    "Name: 704, dtype: int64"
   ]
  },
  {
   "cell_type": "markdown",
   "id": "cfcdbc4c",
   "metadata": {},
   "source": [
    "nombre_infected       835\n",
    "nombre_sain          2023\n",
    "nombre_exposed        463\n",
    "nombre_recovered    16679\n",
    "Name: 705, dtype: int64"
   ]
  },
  {
   "cell_type": "markdown",
   "id": "62c9c901",
   "metadata": {},
   "source": [
    "nombre_infected       840\n",
    "nombre_sain          2016\n",
    "nombre_exposed        447\n",
    "nombre_recovered    16697\n",
    "Name: 706, dtype: int64"
   ]
  },
  {
   "cell_type": "markdown",
   "id": "bbd5f152",
   "metadata": {},
   "source": [
    "nombre_infected       847\n",
    "nombre_sain          2016\n",
    "nombre_exposed        424\n",
    "nombre_recovered    16713\n",
    "Name: 707, dtype: int64"
   ]
  },
  {
   "cell_type": "markdown",
   "id": "179f1041",
   "metadata": {},
   "source": [
    "nombre_infected       838\n",
    "nombre_sain          2005\n",
    "nombre_exposed        433\n",
    "nombre_recovered    16724\n",
    "Name: 708, dtype: int64"
   ]
  },
  {
   "cell_type": "markdown",
   "id": "eda2ce6d",
   "metadata": {},
   "source": [
    "nombre_infected       840\n",
    "nombre_sain          1990\n",
    "nombre_exposed        439\n",
    "nombre_recovered    16731\n",
    "Name: 709, dtype: int64"
   ]
  },
  {
   "cell_type": "markdown",
   "id": "9514a01f",
   "metadata": {},
   "source": [
    "nombre_infected       821\n",
    "nombre_sain          2014\n",
    "nombre_exposed        437\n",
    "nombre_recovered    16728\n",
    "Name: 710, dtype: int64"
   ]
  },
  {
   "cell_type": "markdown",
   "id": "fec48e37",
   "metadata": {},
   "source": [
    "nombre_infected       811\n",
    "nombre_sain          2033\n",
    "nombre_exposed        445\n",
    "nombre_recovered    16711\n",
    "Name: 711, dtype: int64"
   ]
  },
  {
   "cell_type": "markdown",
   "id": "3c2b3eca",
   "metadata": {},
   "source": [
    "nombre_infected       821\n",
    "nombre_sain          2035\n",
    "nombre_exposed        445\n",
    "nombre_recovered    16699\n",
    "Name: 712, dtype: int64"
   ]
  },
  {
   "cell_type": "markdown",
   "id": "650de3a0",
   "metadata": {},
   "source": [
    "nombre_infected       790\n",
    "nombre_sain          2025\n",
    "nombre_exposed        454\n",
    "nombre_recovered    16731\n",
    "Name: 713, dtype: int64"
   ]
  },
  {
   "cell_type": "markdown",
   "id": "752d76fc",
   "metadata": {},
   "source": [
    "nombre_infected       795\n",
    "nombre_sain          2026\n",
    "nombre_exposed        450\n",
    "nombre_recovered    16729\n",
    "Name: 714, dtype: int64"
   ]
  },
  {
   "cell_type": "markdown",
   "id": "38fc9603",
   "metadata": {},
   "source": [
    "nombre_infected       804\n",
    "nombre_sain          2036\n",
    "nombre_exposed        446\n",
    "nombre_recovered    16714\n",
    "Name: 715, dtype: int64"
   ]
  },
  {
   "cell_type": "markdown",
   "id": "9f876b08",
   "metadata": {},
   "source": [
    "nombre_infected       808\n",
    "nombre_sain          2032\n",
    "nombre_exposed        440\n",
    "nombre_recovered    16720\n",
    "Name: 716, dtype: int64"
   ]
  },
  {
   "cell_type": "markdown",
   "id": "e233cea8",
   "metadata": {},
   "source": [
    "nombre_infected       819\n",
    "nombre_sain          2027\n",
    "nombre_exposed        416\n",
    "nombre_recovered    16738\n",
    "Name: 717, dtype: int64"
   ]
  },
  {
   "cell_type": "markdown",
   "id": "b400dc4a",
   "metadata": {},
   "source": [
    "nombre_infected       826\n",
    "nombre_sain          2044\n",
    "nombre_exposed        405\n",
    "nombre_recovered    16725\n",
    "Name: 718, dtype: int64"
   ]
  },
  {
   "cell_type": "markdown",
   "id": "836fcec3",
   "metadata": {},
   "source": [
    "nombre_infected       797\n",
    "nombre_sain          2040\n",
    "nombre_exposed        436\n",
    "nombre_recovered    16727\n",
    "Name: 719, dtype: int64"
   ]
  },
  {
   "cell_type": "markdown",
   "id": "53f21ef3",
   "metadata": {},
   "source": [
    "nombre_infected       781\n",
    "nombre_sain          2047\n",
    "nombre_exposed        427\n",
    "nombre_recovered    16745\n",
    "Name: 720, dtype: int64"
   ]
  },
  {
   "cell_type": "markdown",
   "id": "496c104e",
   "metadata": {},
   "source": [
    "nombre_infected       797\n",
    "nombre_sain          2067\n",
    "nombre_exposed        420\n",
    "nombre_recovered    16716\n",
    "Name: 721, dtype: int64"
   ]
  },
  {
   "cell_type": "markdown",
   "id": "fbd695b7",
   "metadata": {},
   "source": [
    "nombre_infected       792\n",
    "nombre_sain          2087\n",
    "nombre_exposed        410\n",
    "nombre_recovered    16711\n",
    "Name: 722, dtype: int64"
   ]
  },
  {
   "cell_type": "markdown",
   "id": "02d88975",
   "metadata": {},
   "source": [
    "nombre_infected       800\n",
    "nombre_sain          2094\n",
    "nombre_exposed        411\n",
    "nombre_recovered    16695\n",
    "Name: 723, dtype: int64"
   ]
  },
  {
   "cell_type": "markdown",
   "id": "57d6b9be",
   "metadata": {},
   "source": [
    "nombre_infected       781\n",
    "nombre_sain          2120\n",
    "nombre_exposed        416\n",
    "nombre_recovered    16683\n",
    "Name: 724, dtype: int64"
   ]
  },
  {
   "cell_type": "markdown",
   "id": "47156a98",
   "metadata": {},
   "source": [
    "nombre_infected       774\n",
    "nombre_sain          2161\n",
    "nombre_exposed        413\n",
    "nombre_recovered    16652\n",
    "Name: 725, dtype: int64"
   ]
  },
  {
   "cell_type": "markdown",
   "id": "12467bb4",
   "metadata": {},
   "source": [
    "nombre_infected       769\n",
    "nombre_sain          2168\n",
    "nombre_exposed        425\n",
    "nombre_recovered    16638\n",
    "Name: 726, dtype: int64"
   ]
  },
  {
   "cell_type": "markdown",
   "id": "72303e42",
   "metadata": {},
   "source": [
    "nombre_infected       762\n",
    "nombre_sain          2165\n",
    "nombre_exposed        450\n",
    "nombre_recovered    16623\n",
    "Name: 727, dtype: int64"
   ]
  },
  {
   "cell_type": "markdown",
   "id": "7f7bc0c4",
   "metadata": {},
   "source": [
    "nombre_infected       781\n",
    "nombre_sain          2197\n",
    "nombre_exposed        444\n",
    "nombre_recovered    16578\n",
    "Name: 728, dtype: int64"
   ]
  },
  {
   "cell_type": "markdown",
   "id": "7356c348",
   "metadata": {},
   "source": [
    "nombre_infected       804\n",
    "nombre_sain          2225\n",
    "nombre_exposed        437\n",
    "nombre_recovered    16534\n",
    "Name: 729, dtype: int64"
   ]
  },
  {
   "cell_type": "markdown",
   "id": "99eccd47",
   "metadata": {},
   "source": [
    "nombre_infected       803\n",
    "nombre_sain          2255\n",
    "nombre_exposed        427\n",
    "nombre_recovered    16515\n",
    "Name: 730, dtype: int64"
   ]
  }
 ],
 "metadata": {},
 "nbformat": 4,
 "nbformat_minor": 5
}
