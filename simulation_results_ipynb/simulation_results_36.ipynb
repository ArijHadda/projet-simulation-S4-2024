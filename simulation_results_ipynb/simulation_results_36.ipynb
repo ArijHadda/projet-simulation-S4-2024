{
 "cells": [
  {
   "cell_type": "markdown",
   "id": "6f1338b5",
   "metadata": {},
   "source": [
    "nombre_infected        20\n",
    "nombre_sain         19980\n",
    "nombre_exposed          0\n",
    "nombre_recovered        0\n",
    "Name: 0, dtype: int64"
   ]
  },
  {
   "cell_type": "markdown",
   "id": "6d3b06b7",
   "metadata": {},
   "source": [
    "nombre_infected        20\n",
    "nombre_sain         19966\n",
    "nombre_exposed         14\n",
    "nombre_recovered        0\n",
    "Name: 1, dtype: int64"
   ]
  },
  {
   "cell_type": "markdown",
   "id": "e7f56d85",
   "metadata": {},
   "source": [
    "nombre_infected        20\n",
    "nombre_sain         19948\n",
    "nombre_exposed         32\n",
    "nombre_recovered        0\n",
    "Name: 2, dtype: int64"
   ]
  },
  {
   "cell_type": "markdown",
   "id": "a06c20eb",
   "metadata": {},
   "source": [
    "nombre_infected        21\n",
    "nombre_sain         19924\n",
    "nombre_exposed         51\n",
    "nombre_recovered        4\n",
    "Name: 3, dtype: int64"
   ]
  },
  {
   "cell_type": "markdown",
   "id": "44c16e33",
   "metadata": {},
   "source": [
    "nombre_infected        27\n",
    "nombre_sain         19900\n",
    "nombre_exposed         69\n",
    "nombre_recovered        4\n",
    "Name: 4, dtype: int64"
   ]
  },
  {
   "cell_type": "markdown",
   "id": "2bbc7d30",
   "metadata": {},
   "source": [
    "nombre_infected        39\n",
    "nombre_sain         19859\n",
    "nombre_exposed         95\n",
    "nombre_recovered        7\n",
    "Name: 5, dtype: int64"
   ]
  },
  {
   "cell_type": "markdown",
   "id": "42d411d1",
   "metadata": {},
   "source": [
    "nombre_infected        50\n",
    "nombre_sain         19809\n",
    "nombre_exposed        133\n",
    "nombre_recovered        8\n",
    "Name: 6, dtype: int64"
   ]
  },
  {
   "cell_type": "markdown",
   "id": "c3860b97",
   "metadata": {},
   "source": [
    "nombre_infected        50\n",
    "nombre_sain         19748\n",
    "nombre_exposed        169\n",
    "nombre_recovered       33\n",
    "Name: 7, dtype: int64"
   ]
  },
  {
   "cell_type": "markdown",
   "id": "b164136b",
   "metadata": {},
   "source": [
    "nombre_infected        79\n",
    "nombre_sain         19664\n",
    "nombre_exposed        221\n",
    "nombre_recovered       36\n",
    "Name: 8, dtype: int64"
   ]
  },
  {
   "cell_type": "markdown",
   "id": "7227e430",
   "metadata": {},
   "source": [
    "nombre_infected       120\n",
    "nombre_sain         19551\n",
    "nombre_exposed        288\n",
    "nombre_recovered       41\n",
    "Name: 9, dtype: int64"
   ]
  },
  {
   "cell_type": "markdown",
   "id": "1469d6ce",
   "metadata": {},
   "source": [
    "nombre_infected       154\n",
    "nombre_sain         19394\n",
    "nombre_exposed        406\n",
    "nombre_recovered       46\n",
    "Name: 10, dtype: int64"
   ]
  },
  {
   "cell_type": "markdown",
   "id": "106fa270",
   "metadata": {},
   "source": [
    "nombre_infected       227\n",
    "nombre_sain         19140\n",
    "nombre_exposed        577\n",
    "nombre_recovered       56\n",
    "Name: 11, dtype: int64"
   ]
  },
  {
   "cell_type": "markdown",
   "id": "d75b2a5a",
   "metadata": {},
   "source": [
    "nombre_infected       329\n",
    "nombre_sain         18818\n",
    "nombre_exposed        780\n",
    "nombre_recovered       73\n",
    "Name: 12, dtype: int64"
   ]
  },
  {
   "cell_type": "markdown",
   "id": "72928bf7",
   "metadata": {},
   "source": [
    "nombre_infected       426\n",
    "nombre_sain         18356\n",
    "nombre_exposed       1104\n",
    "nombre_recovered      114\n",
    "Name: 13, dtype: int64"
   ]
  },
  {
   "cell_type": "markdown",
   "id": "7144d7bb",
   "metadata": {},
   "source": [
    "nombre_infected       553\n",
    "nombre_sain         17837\n",
    "nombre_exposed       1443\n",
    "nombre_recovered      167\n",
    "Name: 14, dtype: int64"
   ]
  },
  {
   "cell_type": "markdown",
   "id": "e72c4ab1",
   "metadata": {},
   "source": [
    "nombre_infected       777\n",
    "nombre_sain         17175\n",
    "nombre_exposed       1813\n",
    "nombre_recovered      235\n",
    "Name: 15, dtype: int64"
   ]
  },
  {
   "cell_type": "markdown",
   "id": "636a47db",
   "metadata": {},
   "source": [
    "nombre_infected       999\n",
    "nombre_sain         16317\n",
    "nombre_exposed       2363\n",
    "nombre_recovered      321\n",
    "Name: 16, dtype: int64"
   ]
  },
  {
   "cell_type": "markdown",
   "id": "0e20ee12",
   "metadata": {},
   "source": [
    "nombre_infected      1349\n",
    "nombre_sain         15235\n",
    "nombre_exposed       2995\n",
    "nombre_recovered      421\n",
    "Name: 17, dtype: int64"
   ]
  },
  {
   "cell_type": "markdown",
   "id": "6ab5ef6b",
   "metadata": {},
   "source": [
    "nombre_infected      1760\n",
    "nombre_sain         13895\n",
    "nombre_exposed       3773\n",
    "nombre_recovered      572\n",
    "Name: 18, dtype: int64"
   ]
  },
  {
   "cell_type": "markdown",
   "id": "ae3fc987",
   "metadata": {},
   "source": [
    "nombre_infected      2285\n",
    "nombre_sain         12331\n",
    "nombre_exposed       4650\n",
    "nombre_recovered      734\n",
    "Name: 19, dtype: int64"
   ]
  },
  {
   "cell_type": "markdown",
   "id": "6d0427b5",
   "metadata": {},
   "source": [
    "nombre_infected      2923\n",
    "nombre_sain         10692\n",
    "nombre_exposed       5405\n",
    "nombre_recovered      980\n",
    "Name: 20, dtype: int64"
   ]
  },
  {
   "cell_type": "markdown",
   "id": "0a606d3d",
   "metadata": {},
   "source": [
    "nombre_infected     3705\n",
    "nombre_sain         8922\n",
    "nombre_exposed      6067\n",
    "nombre_recovered    1306\n",
    "Name: 21, dtype: int64"
   ]
  },
  {
   "cell_type": "markdown",
   "id": "51b725ba",
   "metadata": {},
   "source": [
    "nombre_infected     4579\n",
    "nombre_sain         7187\n",
    "nombre_exposed      6541\n",
    "nombre_recovered    1693\n",
    "Name: 22, dtype: int64"
   ]
  },
  {
   "cell_type": "markdown",
   "id": "4c7a5c5b",
   "metadata": {},
   "source": [
    "nombre_infected     5504\n",
    "nombre_sain         5586\n",
    "nombre_exposed      6716\n",
    "nombre_recovered    2194\n",
    "Name: 23, dtype: int64"
   ]
  },
  {
   "cell_type": "markdown",
   "id": "c905ecc3",
   "metadata": {},
   "source": [
    "nombre_infected     6378\n",
    "nombre_sain         4129\n",
    "nombre_exposed      6681\n",
    "nombre_recovered    2812\n",
    "Name: 24, dtype: int64"
   ]
  },
  {
   "cell_type": "markdown",
   "id": "8602bfba",
   "metadata": {},
   "source": [
    "nombre_infected     7245\n",
    "nombre_sain         2968\n",
    "nombre_exposed      6276\n",
    "nombre_recovered    3511\n",
    "Name: 25, dtype: int64"
   ]
  },
  {
   "cell_type": "markdown",
   "id": "a80d6624",
   "metadata": {},
   "source": [
    "nombre_infected     7821\n",
    "nombre_sain         2093\n",
    "nombre_exposed      5714\n",
    "nombre_recovered    4372\n",
    "Name: 26, dtype: int64"
   ]
  },
  {
   "cell_type": "markdown",
   "id": "c5612941",
   "metadata": {},
   "source": [
    "nombre_infected     8232\n",
    "nombre_sain         1398\n",
    "nombre_exposed      5041\n",
    "nombre_recovered    5329\n",
    "Name: 27, dtype: int64"
   ]
  },
  {
   "cell_type": "markdown",
   "id": "33e40e32",
   "metadata": {},
   "source": [
    "nombre_infected     8465\n",
    "nombre_sain          986\n",
    "nombre_exposed      4189\n",
    "nombre_recovered    6360\n",
    "Name: 28, dtype: int64"
   ]
  },
  {
   "cell_type": "markdown",
   "id": "d943c1a3",
   "metadata": {},
   "source": [
    "nombre_infected     8464\n",
    "nombre_sain          665\n",
    "nombre_exposed      3462\n",
    "nombre_recovered    7409\n",
    "Name: 29, dtype: int64"
   ]
  },
  {
   "cell_type": "markdown",
   "id": "d6bb141c",
   "metadata": {},
   "source": [
    "nombre_infected     8265\n",
    "nombre_sain          485\n",
    "nombre_exposed      2758\n",
    "nombre_recovered    8492\n",
    "Name: 30, dtype: int64"
   ]
  },
  {
   "cell_type": "markdown",
   "id": "83f27519",
   "metadata": {},
   "source": [
    "nombre_infected     7869\n",
    "nombre_sain          364\n",
    "nombre_exposed      2215\n",
    "nombre_recovered    9552\n",
    "Name: 31, dtype: int64"
   ]
  },
  {
   "cell_type": "markdown",
   "id": "1fe874e8",
   "metadata": {},
   "source": [
    "nombre_infected      7360\n",
    "nombre_sain           275\n",
    "nombre_exposed       1751\n",
    "nombre_recovered    10614\n",
    "Name: 32, dtype: int64"
   ]
  },
  {
   "cell_type": "markdown",
   "id": "ef388712",
   "metadata": {},
   "source": [
    "nombre_infected      6786\n",
    "nombre_sain           232\n",
    "nombre_exposed       1394\n",
    "nombre_recovered    11588\n",
    "Name: 33, dtype: int64"
   ]
  },
  {
   "cell_type": "markdown",
   "id": "1ee3998c",
   "metadata": {},
   "source": [
    "nombre_infected      6213\n",
    "nombre_sain           202\n",
    "nombre_exposed       1090\n",
    "nombre_recovered    12495\n",
    "Name: 34, dtype: int64"
   ]
  },
  {
   "cell_type": "markdown",
   "id": "3b386883",
   "metadata": {},
   "source": [
    "nombre_infected      5642\n",
    "nombre_sain           178\n",
    "nombre_exposed        871\n",
    "nombre_recovered    13309\n",
    "Name: 35, dtype: int64"
   ]
  },
  {
   "cell_type": "markdown",
   "id": "5b2e6215",
   "metadata": {},
   "source": [
    "nombre_infected      5110\n",
    "nombre_sain           191\n",
    "nombre_exposed        663\n",
    "nombre_recovered    14036\n",
    "Name: 36, dtype: int64"
   ]
  },
  {
   "cell_type": "markdown",
   "id": "07212978",
   "metadata": {},
   "source": [
    "nombre_infected      4599\n",
    "nombre_sain           189\n",
    "nombre_exposed        522\n",
    "nombre_recovered    14690\n",
    "Name: 37, dtype: int64"
   ]
  },
  {
   "cell_type": "markdown",
   "id": "d2bd826b",
   "metadata": {},
   "source": [
    "nombre_infected      4099\n",
    "nombre_sain           218\n",
    "nombre_exposed        408\n",
    "nombre_recovered    15275\n",
    "Name: 38, dtype: int64"
   ]
  },
  {
   "cell_type": "markdown",
   "id": "ad5fe7b9",
   "metadata": {},
   "source": [
    "nombre_infected      3619\n",
    "nombre_sain           211\n",
    "nombre_exposed        349\n",
    "nombre_recovered    15821\n",
    "Name: 39, dtype: int64"
   ]
  },
  {
   "cell_type": "markdown",
   "id": "66bbe693",
   "metadata": {},
   "source": [
    "nombre_infected      3232\n",
    "nombre_sain           231\n",
    "nombre_exposed        279\n",
    "nombre_recovered    16258\n",
    "Name: 40, dtype: int64"
   ]
  },
  {
   "cell_type": "markdown",
   "id": "879b921e",
   "metadata": {},
   "source": [
    "nombre_infected      2868\n",
    "nombre_sain           246\n",
    "nombre_exposed        235\n",
    "nombre_recovered    16651\n",
    "Name: 41, dtype: int64"
   ]
  },
  {
   "cell_type": "markdown",
   "id": "32333434",
   "metadata": {},
   "source": [
    "nombre_infected      2561\n",
    "nombre_sain           265\n",
    "nombre_exposed        198\n",
    "nombre_recovered    16976\n",
    "Name: 42, dtype: int64"
   ]
  },
  {
   "cell_type": "markdown",
   "id": "055d86ec",
   "metadata": {},
   "source": [
    "nombre_infected      2268\n",
    "nombre_sain           292\n",
    "nombre_exposed        175\n",
    "nombre_recovered    17265\n",
    "Name: 43, dtype: int64"
   ]
  },
  {
   "cell_type": "markdown",
   "id": "fbc5dbb9",
   "metadata": {},
   "source": [
    "nombre_infected      2035\n",
    "nombre_sain           310\n",
    "nombre_exposed        154\n",
    "nombre_recovered    17501\n",
    "Name: 44, dtype: int64"
   ]
  },
  {
   "cell_type": "markdown",
   "id": "d3864ff3",
   "metadata": {},
   "source": [
    "nombre_infected      1808\n",
    "nombre_sain           321\n",
    "nombre_exposed        127\n",
    "nombre_recovered    17744\n",
    "Name: 45, dtype: int64"
   ]
  },
  {
   "cell_type": "markdown",
   "id": "3a4161dc",
   "metadata": {},
   "source": [
    "nombre_infected      1596\n",
    "nombre_sain           355\n",
    "nombre_exposed        127\n",
    "nombre_recovered    17922\n",
    "Name: 46, dtype: int64"
   ]
  },
  {
   "cell_type": "markdown",
   "id": "072fce17",
   "metadata": {},
   "source": [
    "nombre_infected      1431\n",
    "nombre_sain           383\n",
    "nombre_exposed        120\n",
    "nombre_recovered    18066\n",
    "Name: 47, dtype: int64"
   ]
  },
  {
   "cell_type": "markdown",
   "id": "f5af6185",
   "metadata": {},
   "source": [
    "nombre_infected      1295\n",
    "nombre_sain           435\n",
    "nombre_exposed        117\n",
    "nombre_recovered    18153\n",
    "Name: 48, dtype: int64"
   ]
  },
  {
   "cell_type": "markdown",
   "id": "08106eab",
   "metadata": {},
   "source": [
    "nombre_infected      1160\n",
    "nombre_sain           477\n",
    "nombre_exposed        111\n",
    "nombre_recovered    18252\n",
    "Name: 49, dtype: int64"
   ]
  },
  {
   "cell_type": "markdown",
   "id": "1b057d79",
   "metadata": {},
   "source": [
    "nombre_infected      1069\n",
    "nombre_sain           515\n",
    "nombre_exposed        111\n",
    "nombre_recovered    18305\n",
    "Name: 50, dtype: int64"
   ]
  },
  {
   "cell_type": "markdown",
   "id": "9ec3142e",
   "metadata": {},
   "source": [
    "nombre_infected       976\n",
    "nombre_sain           572\n",
    "nombre_exposed        117\n",
    "nombre_recovered    18335\n",
    "Name: 51, dtype: int64"
   ]
  },
  {
   "cell_type": "markdown",
   "id": "a8abc8c5",
   "metadata": {},
   "source": [
    "nombre_infected       914\n",
    "nombre_sain           615\n",
    "nombre_exposed        106\n",
    "nombre_recovered    18365\n",
    "Name: 52, dtype: int64"
   ]
  },
  {
   "cell_type": "markdown",
   "id": "d7af48dd",
   "metadata": {},
   "source": [
    "nombre_infected       837\n",
    "nombre_sain           673\n",
    "nombre_exposed        107\n",
    "nombre_recovered    18383\n",
    "Name: 53, dtype: int64"
   ]
  },
  {
   "cell_type": "markdown",
   "id": "8db0b415",
   "metadata": {},
   "source": [
    "nombre_infected       766\n",
    "nombre_sain           734\n",
    "nombre_exposed        102\n",
    "nombre_recovered    18398\n",
    "Name: 54, dtype: int64"
   ]
  },
  {
   "cell_type": "markdown",
   "id": "1499fb42",
   "metadata": {},
   "source": [
    "nombre_infected       722\n",
    "nombre_sain           793\n",
    "nombre_exposed        102\n",
    "nombre_recovered    18383\n",
    "Name: 55, dtype: int64"
   ]
  },
  {
   "cell_type": "markdown",
   "id": "f6720d42",
   "metadata": {},
   "source": [
    "nombre_infected       670\n",
    "nombre_sain           853\n",
    "nombre_exposed         94\n",
    "nombre_recovered    18383\n",
    "Name: 56, dtype: int64"
   ]
  },
  {
   "cell_type": "markdown",
   "id": "5dc7d623",
   "metadata": {},
   "source": [
    "nombre_infected       606\n",
    "nombre_sain           914\n",
    "nombre_exposed         96\n",
    "nombre_recovered    18384\n",
    "Name: 57, dtype: int64"
   ]
  },
  {
   "cell_type": "markdown",
   "id": "450598ea",
   "metadata": {},
   "source": [
    "nombre_infected       536\n",
    "nombre_sain          1000\n",
    "nombre_exposed        101\n",
    "nombre_recovered    18363\n",
    "Name: 58, dtype: int64"
   ]
  },
  {
   "cell_type": "markdown",
   "id": "4edaf31f",
   "metadata": {},
   "source": [
    "nombre_infected       489\n",
    "nombre_sain          1055\n",
    "nombre_exposed        108\n",
    "nombre_recovered    18348\n",
    "Name: 59, dtype: int64"
   ]
  },
  {
   "cell_type": "markdown",
   "id": "80681735",
   "metadata": {},
   "source": [
    "nombre_infected       434\n",
    "nombre_sain          1107\n",
    "nombre_exposed        113\n",
    "nombre_recovered    18346\n",
    "Name: 60, dtype: int64"
   ]
  },
  {
   "cell_type": "markdown",
   "id": "addf7c1f",
   "metadata": {},
   "source": [
    "nombre_infected       397\n",
    "nombre_sain          1152\n",
    "nombre_exposed        106\n",
    "nombre_recovered    18345\n",
    "Name: 61, dtype: int64"
   ]
  },
  {
   "cell_type": "markdown",
   "id": "00749e6a",
   "metadata": {},
   "source": [
    "nombre_infected       359\n",
    "nombre_sain          1209\n",
    "nombre_exposed        101\n",
    "nombre_recovered    18331\n",
    "Name: 62, dtype: int64"
   ]
  },
  {
   "cell_type": "markdown",
   "id": "6cf8b305",
   "metadata": {},
   "source": [
    "nombre_infected       332\n",
    "nombre_sain          1270\n",
    "nombre_exposed         91\n",
    "nombre_recovered    18307\n",
    "Name: 63, dtype: int64"
   ]
  },
  {
   "cell_type": "markdown",
   "id": "b0662e6a",
   "metadata": {},
   "source": [
    "nombre_infected       292\n",
    "nombre_sain          1320\n",
    "nombre_exposed         95\n",
    "nombre_recovered    18293\n",
    "Name: 64, dtype: int64"
   ]
  },
  {
   "cell_type": "markdown",
   "id": "9db0cd5d",
   "metadata": {},
   "source": [
    "nombre_infected       271\n",
    "nombre_sain          1383\n",
    "nombre_exposed         97\n",
    "nombre_recovered    18249\n",
    "Name: 65, dtype: int64"
   ]
  },
  {
   "cell_type": "markdown",
   "id": "9d911174",
   "metadata": {},
   "source": [
    "nombre_infected       242\n",
    "nombre_sain          1429\n",
    "nombre_exposed        102\n",
    "nombre_recovered    18227\n",
    "Name: 66, dtype: int64"
   ]
  },
  {
   "cell_type": "markdown",
   "id": "4360bfaa",
   "metadata": {},
   "source": [
    "nombre_infected       227\n",
    "nombre_sain          1484\n",
    "nombre_exposed         96\n",
    "nombre_recovered    18193\n",
    "Name: 67, dtype: int64"
   ]
  },
  {
   "cell_type": "markdown",
   "id": "2181017d",
   "metadata": {},
   "source": [
    "nombre_infected       215\n",
    "nombre_sain          1521\n",
    "nombre_exposed         95\n",
    "nombre_recovered    18169\n",
    "Name: 68, dtype: int64"
   ]
  },
  {
   "cell_type": "markdown",
   "id": "479215a9",
   "metadata": {},
   "source": [
    "nombre_infected       209\n",
    "nombre_sain          1568\n",
    "nombre_exposed         85\n",
    "nombre_recovered    18138\n",
    "Name: 69, dtype: int64"
   ]
  },
  {
   "cell_type": "markdown",
   "id": "9629e955",
   "metadata": {},
   "source": [
    "nombre_infected       210\n",
    "nombre_sain          1613\n",
    "nombre_exposed         71\n",
    "nombre_recovered    18106\n",
    "Name: 70, dtype: int64"
   ]
  },
  {
   "cell_type": "markdown",
   "id": "e6fd7fde",
   "metadata": {},
   "source": [
    "nombre_infected       199\n",
    "nombre_sain          1667\n",
    "nombre_exposed         77\n",
    "nombre_recovered    18057\n",
    "Name: 71, dtype: int64"
   ]
  },
  {
   "cell_type": "markdown",
   "id": "ad94a21d",
   "metadata": {},
   "source": [
    "nombre_infected       175\n",
    "nombre_sain          1720\n",
    "nombre_exposed         80\n",
    "nombre_recovered    18025\n",
    "Name: 72, dtype: int64"
   ]
  },
  {
   "cell_type": "markdown",
   "id": "25d5ff54",
   "metadata": {},
   "source": [
    "nombre_infected       162\n",
    "nombre_sain          1764\n",
    "nombre_exposed         71\n",
    "nombre_recovered    18003\n",
    "Name: 73, dtype: int64"
   ]
  },
  {
   "cell_type": "markdown",
   "id": "6e49bbee",
   "metadata": {},
   "source": [
    "nombre_infected       157\n",
    "nombre_sain          1810\n",
    "nombre_exposed         67\n",
    "nombre_recovered    17966\n",
    "Name: 74, dtype: int64"
   ]
  },
  {
   "cell_type": "markdown",
   "id": "7c5d8371",
   "metadata": {},
   "source": [
    "nombre_infected       168\n",
    "nombre_sain          1844\n",
    "nombre_exposed         60\n",
    "nombre_recovered    17928\n",
    "Name: 75, dtype: int64"
   ]
  },
  {
   "cell_type": "markdown",
   "id": "d94a8062",
   "metadata": {},
   "source": [
    "nombre_infected       154\n",
    "nombre_sain          1880\n",
    "nombre_exposed         61\n",
    "nombre_recovered    17905\n",
    "Name: 76, dtype: int64"
   ]
  },
  {
   "cell_type": "markdown",
   "id": "d87e04f0",
   "metadata": {},
   "source": [
    "nombre_infected       130\n",
    "nombre_sain          1919\n",
    "nombre_exposed         68\n",
    "nombre_recovered    17883\n",
    "Name: 77, dtype: int64"
   ]
  },
  {
   "cell_type": "markdown",
   "id": "74c93171",
   "metadata": {},
   "source": [
    "nombre_infected       116\n",
    "nombre_sain          1943\n",
    "nombre_exposed         74\n",
    "nombre_recovered    17867\n",
    "Name: 78, dtype: int64"
   ]
  },
  {
   "cell_type": "markdown",
   "id": "3cc510b3",
   "metadata": {},
   "source": [
    "nombre_infected       110\n",
    "nombre_sain          1976\n",
    "nombre_exposed         68\n",
    "nombre_recovered    17846\n",
    "Name: 79, dtype: int64"
   ]
  },
  {
   "cell_type": "markdown",
   "id": "7722bdd3",
   "metadata": {},
   "source": [
    "nombre_infected       120\n",
    "nombre_sain          2029\n",
    "nombre_exposed         50\n",
    "nombre_recovered    17801\n",
    "Name: 80, dtype: int64"
   ]
  },
  {
   "cell_type": "markdown",
   "id": "bec16a15",
   "metadata": {},
   "source": [
    "nombre_infected       116\n",
    "nombre_sain          2070\n",
    "nombre_exposed         46\n",
    "nombre_recovered    17768\n",
    "Name: 81, dtype: int64"
   ]
  },
  {
   "cell_type": "markdown",
   "id": "a5a6bb12",
   "metadata": {},
   "source": [
    "nombre_infected       106\n",
    "nombre_sain          2090\n",
    "nombre_exposed         49\n",
    "nombre_recovered    17755\n",
    "Name: 82, dtype: int64"
   ]
  },
  {
   "cell_type": "markdown",
   "id": "56b2beca",
   "metadata": {},
   "source": [
    "nombre_infected       107\n",
    "nombre_sain          2112\n",
    "nombre_exposed         47\n",
    "nombre_recovered    17734\n",
    "Name: 83, dtype: int64"
   ]
  },
  {
   "cell_type": "markdown",
   "id": "744fa73e",
   "metadata": {},
   "source": [
    "nombre_infected       101\n",
    "nombre_sain          2132\n",
    "nombre_exposed         60\n",
    "nombre_recovered    17707\n",
    "Name: 84, dtype: int64"
   ]
  },
  {
   "cell_type": "markdown",
   "id": "8b11ce0d",
   "metadata": {},
   "source": [
    "nombre_infected        95\n",
    "nombre_sain          2164\n",
    "nombre_exposed         61\n",
    "nombre_recovered    17680\n",
    "Name: 85, dtype: int64"
   ]
  },
  {
   "cell_type": "markdown",
   "id": "5b5270ce",
   "metadata": {},
   "source": [
    "nombre_infected        95\n",
    "nombre_sain          2211\n",
    "nombre_exposed         64\n",
    "nombre_recovered    17630\n",
    "Name: 86, dtype: int64"
   ]
  },
  {
   "cell_type": "markdown",
   "id": "1a640316",
   "metadata": {},
   "source": [
    "nombre_infected        93\n",
    "nombre_sain          2240\n",
    "nombre_exposed         62\n",
    "nombre_recovered    17605\n",
    "Name: 87, dtype: int64"
   ]
  },
  {
   "cell_type": "markdown",
   "id": "84a9a5b0",
   "metadata": {},
   "source": [
    "nombre_infected        94\n",
    "nombre_sain          2283\n",
    "nombre_exposed         60\n",
    "nombre_recovered    17563\n",
    "Name: 88, dtype: int64"
   ]
  },
  {
   "cell_type": "markdown",
   "id": "722c02e5",
   "metadata": {},
   "source": [
    "nombre_infected        94\n",
    "nombre_sain          2331\n",
    "nombre_exposed         58\n",
    "nombre_recovered    17517\n",
    "Name: 89, dtype: int64"
   ]
  },
  {
   "cell_type": "markdown",
   "id": "72bc81d1",
   "metadata": {},
   "source": [
    "nombre_infected        92\n",
    "nombre_sain          2365\n",
    "nombre_exposed         57\n",
    "nombre_recovered    17486\n",
    "Name: 90, dtype: int64"
   ]
  },
  {
   "cell_type": "markdown",
   "id": "782a44b6",
   "metadata": {},
   "source": [
    "nombre_infected        85\n",
    "nombre_sain          2410\n",
    "nombre_exposed         59\n",
    "nombre_recovered    17446\n",
    "Name: 91, dtype: int64"
   ]
  },
  {
   "cell_type": "markdown",
   "id": "b0244f7e",
   "metadata": {},
   "source": [
    "nombre_infected        84\n",
    "nombre_sain          2469\n",
    "nombre_exposed         51\n",
    "nombre_recovered    17396\n",
    "Name: 92, dtype: int64"
   ]
  },
  {
   "cell_type": "markdown",
   "id": "d235b678",
   "metadata": {},
   "source": [
    "nombre_infected        91\n",
    "nombre_sain          2517\n",
    "nombre_exposed         52\n",
    "nombre_recovered    17340\n",
    "Name: 93, dtype: int64"
   ]
  },
  {
   "cell_type": "markdown",
   "id": "438b0ee2",
   "metadata": {},
   "source": [
    "nombre_infected        92\n",
    "nombre_sain          2569\n",
    "nombre_exposed         54\n",
    "nombre_recovered    17285\n",
    "Name: 94, dtype: int64"
   ]
  },
  {
   "cell_type": "markdown",
   "id": "09bdf495",
   "metadata": {},
   "source": [
    "nombre_infected        95\n",
    "nombre_sain          2623\n",
    "nombre_exposed         49\n",
    "nombre_recovered    17233\n",
    "Name: 95, dtype: int64"
   ]
  },
  {
   "cell_type": "markdown",
   "id": "255cbcc9",
   "metadata": {},
   "source": [
    "nombre_infected        92\n",
    "nombre_sain          2684\n",
    "nombre_exposed         44\n",
    "nombre_recovered    17180\n",
    "Name: 96, dtype: int64"
   ]
  },
  {
   "cell_type": "markdown",
   "id": "0e5ea880",
   "metadata": {},
   "source": [
    "nombre_infected        94\n",
    "nombre_sain          2741\n",
    "nombre_exposed         45\n",
    "nombre_recovered    17120\n",
    "Name: 97, dtype: int64"
   ]
  },
  {
   "cell_type": "markdown",
   "id": "7f76f2f9",
   "metadata": {},
   "source": [
    "nombre_infected        93\n",
    "nombre_sain          2823\n",
    "nombre_exposed         45\n",
    "nombre_recovered    17039\n",
    "Name: 98, dtype: int64"
   ]
  },
  {
   "cell_type": "markdown",
   "id": "84be4bd2",
   "metadata": {},
   "source": [
    "nombre_infected        90\n",
    "nombre_sain          2911\n",
    "nombre_exposed         52\n",
    "nombre_recovered    16947\n",
    "Name: 99, dtype: int64"
   ]
  },
  {
   "cell_type": "markdown",
   "id": "e7b58b7d",
   "metadata": {},
   "source": [
    "nombre_infected        86\n",
    "nombre_sain          2968\n",
    "nombre_exposed         64\n",
    "nombre_recovered    16882\n",
    "Name: 100, dtype: int64"
   ]
  },
  {
   "cell_type": "markdown",
   "id": "480e7425",
   "metadata": {},
   "source": [
    "nombre_infected        94\n",
    "nombre_sain          3034\n",
    "nombre_exposed         57\n",
    "nombre_recovered    16815\n",
    "Name: 101, dtype: int64"
   ]
  },
  {
   "cell_type": "markdown",
   "id": "fc8e3cc6",
   "metadata": {},
   "source": [
    "nombre_infected       101\n",
    "nombre_sain          3090\n",
    "nombre_exposed         64\n",
    "nombre_recovered    16745\n",
    "Name: 102, dtype: int64"
   ]
  },
  {
   "cell_type": "markdown",
   "id": "791f73a9",
   "metadata": {},
   "source": [
    "nombre_infected        99\n",
    "nombre_sain          3138\n",
    "nombre_exposed         73\n",
    "nombre_recovered    16690\n",
    "Name: 103, dtype: int64"
   ]
  },
  {
   "cell_type": "markdown",
   "id": "ec27953b",
   "metadata": {},
   "source": [
    "nombre_infected        98\n",
    "nombre_sain          3200\n",
    "nombre_exposed         71\n",
    "nombre_recovered    16631\n",
    "Name: 104, dtype: int64"
   ]
  },
  {
   "cell_type": "markdown",
   "id": "02da70f4",
   "metadata": {},
   "source": [
    "nombre_infected       104\n",
    "nombre_sain          3238\n",
    "nombre_exposed         81\n",
    "nombre_recovered    16577\n",
    "Name: 105, dtype: int64"
   ]
  },
  {
   "cell_type": "markdown",
   "id": "da87c86d",
   "metadata": {},
   "source": [
    "nombre_infected       113\n",
    "nombre_sain          3271\n",
    "nombre_exposed         88\n",
    "nombre_recovered    16528\n",
    "Name: 106, dtype: int64"
   ]
  },
  {
   "cell_type": "markdown",
   "id": "a7a39a21",
   "metadata": {},
   "source": [
    "nombre_infected       111\n",
    "nombre_sain          3302\n",
    "nombre_exposed         98\n",
    "nombre_recovered    16489\n",
    "Name: 107, dtype: int64"
   ]
  },
  {
   "cell_type": "markdown",
   "id": "127be5c5",
   "metadata": {},
   "source": [
    "nombre_infected       111\n",
    "nombre_sain          3319\n",
    "nombre_exposed        117\n",
    "nombre_recovered    16453\n",
    "Name: 108, dtype: int64"
   ]
  },
  {
   "cell_type": "markdown",
   "id": "ded233ac",
   "metadata": {},
   "source": [
    "nombre_infected       114\n",
    "nombre_sain          3358\n",
    "nombre_exposed        120\n",
    "nombre_recovered    16408\n",
    "Name: 109, dtype: int64"
   ]
  },
  {
   "cell_type": "markdown",
   "id": "eb67f1cc",
   "metadata": {},
   "source": [
    "nombre_infected       120\n",
    "nombre_sain          3380\n",
    "nombre_exposed        119\n",
    "nombre_recovered    16381\n",
    "Name: 110, dtype: int64"
   ]
  },
  {
   "cell_type": "markdown",
   "id": "96b4f0fe",
   "metadata": {},
   "source": [
    "nombre_infected       137\n",
    "nombre_sain          3394\n",
    "nombre_exposed        122\n",
    "nombre_recovered    16347\n",
    "Name: 111, dtype: int64"
   ]
  },
  {
   "cell_type": "markdown",
   "id": "4186a187",
   "metadata": {},
   "source": [
    "nombre_infected       144\n",
    "nombre_sain          3412\n",
    "nombre_exposed        135\n",
    "nombre_recovered    16309\n",
    "Name: 112, dtype: int64"
   ]
  },
  {
   "cell_type": "markdown",
   "id": "f3ae83f4",
   "metadata": {},
   "source": [
    "nombre_infected       156\n",
    "nombre_sain          3438\n",
    "nombre_exposed        130\n",
    "nombre_recovered    16276\n",
    "Name: 113, dtype: int64"
   ]
  },
  {
   "cell_type": "markdown",
   "id": "d78b6c39",
   "metadata": {},
   "source": [
    "nombre_infected       172\n",
    "nombre_sain          3452\n",
    "nombre_exposed        123\n",
    "nombre_recovered    16253\n",
    "Name: 114, dtype: int64"
   ]
  },
  {
   "cell_type": "markdown",
   "id": "0d9fb8d6",
   "metadata": {},
   "source": [
    "nombre_infected       173\n",
    "nombre_sain          3448\n",
    "nombre_exposed        143\n",
    "nombre_recovered    16236\n",
    "Name: 115, dtype: int64"
   ]
  },
  {
   "cell_type": "markdown",
   "id": "916c34c6",
   "metadata": {},
   "source": [
    "nombre_infected       195\n",
    "nombre_sain          3454\n",
    "nombre_exposed        137\n",
    "nombre_recovered    16214\n",
    "Name: 116, dtype: int64"
   ]
  },
  {
   "cell_type": "markdown",
   "id": "83bfdcc6",
   "metadata": {},
   "source": [
    "nombre_infected       206\n",
    "nombre_sain          3452\n",
    "nombre_exposed        154\n",
    "nombre_recovered    16188\n",
    "Name: 117, dtype: int64"
   ]
  },
  {
   "cell_type": "markdown",
   "id": "5876d535",
   "metadata": {},
   "source": [
    "nombre_infected       214\n",
    "nombre_sain          3433\n",
    "nombre_exposed        177\n",
    "nombre_recovered    16176\n",
    "Name: 118, dtype: int64"
   ]
  },
  {
   "cell_type": "markdown",
   "id": "ac539c5d",
   "metadata": {},
   "source": [
    "nombre_infected       228\n",
    "nombre_sain          3399\n",
    "nombre_exposed        189\n",
    "nombre_recovered    16184\n",
    "Name: 119, dtype: int64"
   ]
  },
  {
   "cell_type": "markdown",
   "id": "564d7821",
   "metadata": {},
   "source": [
    "nombre_infected       242\n",
    "nombre_sain          3388\n",
    "nombre_exposed        198\n",
    "nombre_recovered    16172\n",
    "Name: 120, dtype: int64"
   ]
  },
  {
   "cell_type": "markdown",
   "id": "c0642b83",
   "metadata": {},
   "source": [
    "nombre_infected       243\n",
    "nombre_sain          3390\n",
    "nombre_exposed        205\n",
    "nombre_recovered    16162\n",
    "Name: 121, dtype: int64"
   ]
  },
  {
   "cell_type": "markdown",
   "id": "c57c7c42",
   "metadata": {},
   "source": [
    "nombre_infected       264\n",
    "nombre_sain          3381\n",
    "nombre_exposed        205\n",
    "nombre_recovered    16150\n",
    "Name: 122, dtype: int64"
   ]
  },
  {
   "cell_type": "markdown",
   "id": "acf11a5c",
   "metadata": {},
   "source": [
    "nombre_infected       285\n",
    "nombre_sain          3360\n",
    "nombre_exposed        214\n",
    "nombre_recovered    16141\n",
    "Name: 123, dtype: int64"
   ]
  },
  {
   "cell_type": "markdown",
   "id": "d5c8d966",
   "metadata": {},
   "source": [
    "nombre_infected       281\n",
    "nombre_sain          3323\n",
    "nombre_exposed        240\n",
    "nombre_recovered    16156\n",
    "Name: 124, dtype: int64"
   ]
  },
  {
   "cell_type": "markdown",
   "id": "bc42689a",
   "metadata": {},
   "source": [
    "nombre_infected       286\n",
    "nombre_sain          3292\n",
    "nombre_exposed        259\n",
    "nombre_recovered    16163\n",
    "Name: 125, dtype: int64"
   ]
  },
  {
   "cell_type": "markdown",
   "id": "ea63dfa7",
   "metadata": {},
   "source": [
    "nombre_infected       307\n",
    "nombre_sain          3272\n",
    "nombre_exposed        264\n",
    "nombre_recovered    16157\n",
    "Name: 126, dtype: int64"
   ]
  },
  {
   "cell_type": "markdown",
   "id": "1cf97b5f",
   "metadata": {},
   "source": [
    "nombre_infected       322\n",
    "nombre_sain          3258\n",
    "nombre_exposed        273\n",
    "nombre_recovered    16147\n",
    "Name: 127, dtype: int64"
   ]
  },
  {
   "cell_type": "markdown",
   "id": "2466ef40",
   "metadata": {},
   "source": [
    "nombre_infected       358\n",
    "nombre_sain          3226\n",
    "nombre_exposed        265\n",
    "nombre_recovered    16151\n",
    "Name: 128, dtype: int64"
   ]
  },
  {
   "cell_type": "markdown",
   "id": "43b7675e",
   "metadata": {},
   "source": [
    "nombre_infected       376\n",
    "nombre_sain          3197\n",
    "nombre_exposed        278\n",
    "nombre_recovered    16149\n",
    "Name: 129, dtype: int64"
   ]
  },
  {
   "cell_type": "markdown",
   "id": "8568bf57",
   "metadata": {},
   "source": [
    "nombre_infected       399\n",
    "nombre_sain          3197\n",
    "nombre_exposed        288\n",
    "nombre_recovered    16116\n",
    "Name: 130, dtype: int64"
   ]
  },
  {
   "cell_type": "markdown",
   "id": "3429e603",
   "metadata": {},
   "source": [
    "nombre_infected       413\n",
    "nombre_sain          3192\n",
    "nombre_exposed        284\n",
    "nombre_recovered    16111\n",
    "Name: 131, dtype: int64"
   ]
  },
  {
   "cell_type": "markdown",
   "id": "57f5867a",
   "metadata": {},
   "source": [
    "nombre_infected       432\n",
    "nombre_sain          3181\n",
    "nombre_exposed        301\n",
    "nombre_recovered    16086\n",
    "Name: 132, dtype: int64"
   ]
  },
  {
   "cell_type": "markdown",
   "id": "194fe2ec",
   "metadata": {},
   "source": [
    "nombre_infected       451\n",
    "nombre_sain          3162\n",
    "nombre_exposed        313\n",
    "nombre_recovered    16074\n",
    "Name: 133, dtype: int64"
   ]
  },
  {
   "cell_type": "markdown",
   "id": "7eb3b023",
   "metadata": {},
   "source": [
    "nombre_infected       479\n",
    "nombre_sain          3139\n",
    "nombre_exposed        327\n",
    "nombre_recovered    16055\n",
    "Name: 134, dtype: int64"
   ]
  },
  {
   "cell_type": "markdown",
   "id": "37a029e0",
   "metadata": {},
   "source": [
    "nombre_infected       493\n",
    "nombre_sain          3131\n",
    "nombre_exposed        344\n",
    "nombre_recovered    16032\n",
    "Name: 135, dtype: int64"
   ]
  },
  {
   "cell_type": "markdown",
   "id": "019d053e",
   "metadata": {},
   "source": [
    "nombre_infected       510\n",
    "nombre_sain          3119\n",
    "nombre_exposed        346\n",
    "nombre_recovered    16025\n",
    "Name: 136, dtype: int64"
   ]
  },
  {
   "cell_type": "markdown",
   "id": "4e333c7e",
   "metadata": {},
   "source": [
    "nombre_infected       509\n",
    "nombre_sain          3088\n",
    "nombre_exposed        377\n",
    "nombre_recovered    16026\n",
    "Name: 137, dtype: int64"
   ]
  },
  {
   "cell_type": "markdown",
   "id": "7bbb28b3",
   "metadata": {},
   "source": [
    "nombre_infected       540\n",
    "nombre_sain          3070\n",
    "nombre_exposed        389\n",
    "nombre_recovered    16001\n",
    "Name: 138, dtype: int64"
   ]
  },
  {
   "cell_type": "markdown",
   "id": "c3dd8960",
   "metadata": {},
   "source": [
    "nombre_infected       554\n",
    "nombre_sain          3043\n",
    "nombre_exposed        388\n",
    "nombre_recovered    16015\n",
    "Name: 139, dtype: int64"
   ]
  },
  {
   "cell_type": "markdown",
   "id": "0e29aa4b",
   "metadata": {},
   "source": [
    "nombre_infected       569\n",
    "nombre_sain          3001\n",
    "nombre_exposed        401\n",
    "nombre_recovered    16029\n",
    "Name: 140, dtype: int64"
   ]
  },
  {
   "cell_type": "markdown",
   "id": "1381d3aa",
   "metadata": {},
   "source": [
    "nombre_infected       597\n",
    "nombre_sain          2968\n",
    "nombre_exposed        412\n",
    "nombre_recovered    16023\n",
    "Name: 141, dtype: int64"
   ]
  },
  {
   "cell_type": "markdown",
   "id": "2383e256",
   "metadata": {},
   "source": [
    "nombre_infected       624\n",
    "nombre_sain          2923\n",
    "nombre_exposed        422\n",
    "nombre_recovered    16031\n",
    "Name: 142, dtype: int64"
   ]
  },
  {
   "cell_type": "markdown",
   "id": "85a74a54",
   "metadata": {},
   "source": [
    "nombre_infected       635\n",
    "nombre_sain          2884\n",
    "nombre_exposed        431\n",
    "nombre_recovered    16050\n",
    "Name: 143, dtype: int64"
   ]
  },
  {
   "cell_type": "markdown",
   "id": "10372e68",
   "metadata": {},
   "source": [
    "nombre_infected       675\n",
    "nombre_sain          2855\n",
    "nombre_exposed        429\n",
    "nombre_recovered    16041\n",
    "Name: 144, dtype: int64"
   ]
  },
  {
   "cell_type": "markdown",
   "id": "bd7ab99a",
   "metadata": {},
   "source": [
    "nombre_infected       681\n",
    "nombre_sain          2800\n",
    "nombre_exposed        448\n",
    "nombre_recovered    16071\n",
    "Name: 145, dtype: int64"
   ]
  },
  {
   "cell_type": "markdown",
   "id": "d7855ea2",
   "metadata": {},
   "source": [
    "nombre_infected       682\n",
    "nombre_sain          2757\n",
    "nombre_exposed        453\n",
    "nombre_recovered    16108\n",
    "Name: 146, dtype: int64"
   ]
  },
  {
   "cell_type": "markdown",
   "id": "c856ea40",
   "metadata": {},
   "source": [
    "nombre_infected       684\n",
    "nombre_sain          2715\n",
    "nombre_exposed        459\n",
    "nombre_recovered    16142\n",
    "Name: 147, dtype: int64"
   ]
  },
  {
   "cell_type": "markdown",
   "id": "75833d15",
   "metadata": {},
   "source": [
    "nombre_infected       723\n",
    "nombre_sain          2676\n",
    "nombre_exposed        440\n",
    "nombre_recovered    16161\n",
    "Name: 148, dtype: int64"
   ]
  },
  {
   "cell_type": "markdown",
   "id": "8051419a",
   "metadata": {},
   "source": [
    "nombre_infected       736\n",
    "nombre_sain          2635\n",
    "nombre_exposed        450\n",
    "nombre_recovered    16179\n",
    "Name: 149, dtype: int64"
   ]
  },
  {
   "cell_type": "markdown",
   "id": "0cc95411",
   "metadata": {},
   "source": [
    "nombre_infected       740\n",
    "nombre_sain          2569\n",
    "nombre_exposed        478\n",
    "nombre_recovered    16213\n",
    "Name: 150, dtype: int64"
   ]
  },
  {
   "cell_type": "markdown",
   "id": "41415724",
   "metadata": {},
   "source": [
    "nombre_infected       734\n",
    "nombre_sain          2527\n",
    "nombre_exposed        489\n",
    "nombre_recovered    16250\n",
    "Name: 151, dtype: int64"
   ]
  },
  {
   "cell_type": "markdown",
   "id": "48200263",
   "metadata": {},
   "source": [
    "nombre_infected       776\n",
    "nombre_sain          2481\n",
    "nombre_exposed        476\n",
    "nombre_recovered    16267\n",
    "Name: 152, dtype: int64"
   ]
  },
  {
   "cell_type": "markdown",
   "id": "923cb3a2",
   "metadata": {},
   "source": [
    "nombre_infected       802\n",
    "nombre_sain          2442\n",
    "nombre_exposed        452\n",
    "nombre_recovered    16304\n",
    "Name: 153, dtype: int64"
   ]
  },
  {
   "cell_type": "markdown",
   "id": "de68d853",
   "metadata": {},
   "source": [
    "nombre_infected       799\n",
    "nombre_sain          2376\n",
    "nombre_exposed        471\n",
    "nombre_recovered    16354\n",
    "Name: 154, dtype: int64"
   ]
  },
  {
   "cell_type": "markdown",
   "id": "2c49b73d",
   "metadata": {},
   "source": [
    "nombre_infected       785\n",
    "nombre_sain          2334\n",
    "nombre_exposed        472\n",
    "nombre_recovered    16409\n",
    "Name: 155, dtype: int64"
   ]
  },
  {
   "cell_type": "markdown",
   "id": "374d75aa",
   "metadata": {},
   "source": [
    "nombre_infected       808\n",
    "nombre_sain          2311\n",
    "nombre_exposed        441\n",
    "nombre_recovered    16440\n",
    "Name: 156, dtype: int64"
   ]
  },
  {
   "cell_type": "markdown",
   "id": "cda87725",
   "metadata": {},
   "source": [
    "nombre_infected       816\n",
    "nombre_sain          2290\n",
    "nombre_exposed        430\n",
    "nombre_recovered    16464\n",
    "Name: 157, dtype: int64"
   ]
  },
  {
   "cell_type": "markdown",
   "id": "cea48846",
   "metadata": {},
   "source": [
    "nombre_infected       796\n",
    "nombre_sain          2258\n",
    "nombre_exposed        435\n",
    "nombre_recovered    16511\n",
    "Name: 158, dtype: int64"
   ]
  },
  {
   "cell_type": "markdown",
   "id": "74531fd3",
   "metadata": {},
   "source": [
    "nombre_infected       792\n",
    "nombre_sain          2244\n",
    "nombre_exposed        416\n",
    "nombre_recovered    16548\n",
    "Name: 159, dtype: int64"
   ]
  },
  {
   "cell_type": "markdown",
   "id": "95da857b",
   "metadata": {},
   "source": [
    "nombre_infected       768\n",
    "nombre_sain          2217\n",
    "nombre_exposed        417\n",
    "nombre_recovered    16598\n",
    "Name: 160, dtype: int64"
   ]
  },
  {
   "cell_type": "markdown",
   "id": "e3cf0dda",
   "metadata": {},
   "source": [
    "nombre_infected       750\n",
    "nombre_sain          2170\n",
    "nombre_exposed        422\n",
    "nombre_recovered    16658\n",
    "Name: 161, dtype: int64"
   ]
  },
  {
   "cell_type": "markdown",
   "id": "dc069945",
   "metadata": {},
   "source": [
    "nombre_infected       721\n",
    "nombre_sain          2148\n",
    "nombre_exposed        415\n",
    "nombre_recovered    16716\n",
    "Name: 162, dtype: int64"
   ]
  },
  {
   "cell_type": "markdown",
   "id": "51a813f1",
   "metadata": {},
   "source": [
    "nombre_infected       721\n",
    "nombre_sain          2108\n",
    "nombre_exposed        408\n",
    "nombre_recovered    16763\n",
    "Name: 163, dtype: int64"
   ]
  },
  {
   "cell_type": "markdown",
   "id": "b5d31577",
   "metadata": {},
   "source": [
    "nombre_infected       708\n",
    "nombre_sain          2099\n",
    "nombre_exposed        388\n",
    "nombre_recovered    16805\n",
    "Name: 164, dtype: int64"
   ]
  },
  {
   "cell_type": "markdown",
   "id": "a210f013",
   "metadata": {},
   "source": [
    "nombre_infected       709\n",
    "nombre_sain          2067\n",
    "nombre_exposed        387\n",
    "nombre_recovered    16837\n",
    "Name: 165, dtype: int64"
   ]
  },
  {
   "cell_type": "markdown",
   "id": "00a1ec03",
   "metadata": {},
   "source": [
    "nombre_infected       686\n",
    "nombre_sain          2071\n",
    "nombre_exposed        371\n",
    "nombre_recovered    16872\n",
    "Name: 166, dtype: int64"
   ]
  },
  {
   "cell_type": "markdown",
   "id": "b014be59",
   "metadata": {},
   "source": [
    "nombre_infected       670\n",
    "nombre_sain          2070\n",
    "nombre_exposed        350\n",
    "nombre_recovered    16910\n",
    "Name: 167, dtype: int64"
   ]
  },
  {
   "cell_type": "markdown",
   "id": "29125d71",
   "metadata": {},
   "source": [
    "nombre_infected       678\n",
    "nombre_sain          2056\n",
    "nombre_exposed        340\n",
    "nombre_recovered    16926\n",
    "Name: 168, dtype: int64"
   ]
  },
  {
   "cell_type": "markdown",
   "id": "83606b30",
   "metadata": {},
   "source": [
    "nombre_infected       672\n",
    "nombre_sain          2064\n",
    "nombre_exposed        321\n",
    "nombre_recovered    16943\n",
    "Name: 169, dtype: int64"
   ]
  },
  {
   "cell_type": "markdown",
   "id": "76ada54b",
   "metadata": {},
   "source": [
    "nombre_infected       687\n",
    "nombre_sain          2033\n",
    "nombre_exposed        331\n",
    "nombre_recovered    16949\n",
    "Name: 170, dtype: int64"
   ]
  },
  {
   "cell_type": "markdown",
   "id": "e6920e35",
   "metadata": {},
   "source": [
    "nombre_infected       677\n",
    "nombre_sain          2001\n",
    "nombre_exposed        359\n",
    "nombre_recovered    16963\n",
    "Name: 171, dtype: int64"
   ]
  },
  {
   "cell_type": "markdown",
   "id": "be2ab349",
   "metadata": {},
   "source": [
    "nombre_infected       660\n",
    "nombre_sain          2010\n",
    "nombre_exposed        339\n",
    "nombre_recovered    16991\n",
    "Name: 172, dtype: int64"
   ]
  },
  {
   "cell_type": "markdown",
   "id": "e936ce0c",
   "metadata": {},
   "source": [
    "nombre_infected       666\n",
    "nombre_sain          2021\n",
    "nombre_exposed        334\n",
    "nombre_recovered    16979\n",
    "Name: 173, dtype: int64"
   ]
  },
  {
   "cell_type": "markdown",
   "id": "65aa3c9c",
   "metadata": {},
   "source": [
    "nombre_infected       660\n",
    "nombre_sain          2034\n",
    "nombre_exposed        321\n",
    "nombre_recovered    16985\n",
    "Name: 174, dtype: int64"
   ]
  },
  {
   "cell_type": "markdown",
   "id": "0a59f1a8",
   "metadata": {},
   "source": [
    "nombre_infected       657\n",
    "nombre_sain          2031\n",
    "nombre_exposed        311\n",
    "nombre_recovered    17001\n",
    "Name: 175, dtype: int64"
   ]
  },
  {
   "cell_type": "markdown",
   "id": "d84adecc",
   "metadata": {},
   "source": [
    "nombre_infected       651\n",
    "nombre_sain          2007\n",
    "nombre_exposed        323\n",
    "nombre_recovered    17019\n",
    "Name: 176, dtype: int64"
   ]
  },
  {
   "cell_type": "markdown",
   "id": "0c022117",
   "metadata": {},
   "source": [
    "nombre_infected       646\n",
    "nombre_sain          2032\n",
    "nombre_exposed        310\n",
    "nombre_recovered    17012\n",
    "Name: 177, dtype: int64"
   ]
  },
  {
   "cell_type": "markdown",
   "id": "0d4af57c",
   "metadata": {},
   "source": [
    "nombre_infected       642\n",
    "nombre_sain          2021\n",
    "nombre_exposed        331\n",
    "nombre_recovered    17006\n",
    "Name: 178, dtype: int64"
   ]
  },
  {
   "cell_type": "markdown",
   "id": "7b34785d",
   "metadata": {},
   "source": [
    "nombre_infected       641\n",
    "nombre_sain          2033\n",
    "nombre_exposed        314\n",
    "nombre_recovered    17012\n",
    "Name: 179, dtype: int64"
   ]
  },
  {
   "cell_type": "markdown",
   "id": "f79f938f",
   "metadata": {},
   "source": [
    "nombre_infected       637\n",
    "nombre_sain          2037\n",
    "nombre_exposed        309\n",
    "nombre_recovered    17017\n",
    "Name: 180, dtype: int64"
   ]
  },
  {
   "cell_type": "markdown",
   "id": "001d19dc",
   "metadata": {},
   "source": [
    "nombre_infected       632\n",
    "nombre_sain          2056\n",
    "nombre_exposed        296\n",
    "nombre_recovered    17016\n",
    "Name: 181, dtype: int64"
   ]
  },
  {
   "cell_type": "markdown",
   "id": "2dde81bc",
   "metadata": {},
   "source": [
    "nombre_infected       634\n",
    "nombre_sain          2075\n",
    "nombre_exposed        290\n",
    "nombre_recovered    17001\n",
    "Name: 182, dtype: int64"
   ]
  },
  {
   "cell_type": "markdown",
   "id": "752085e4",
   "metadata": {},
   "source": [
    "nombre_infected       600\n",
    "nombre_sain          2092\n",
    "nombre_exposed        300\n",
    "nombre_recovered    17008\n",
    "Name: 183, dtype: int64"
   ]
  },
  {
   "cell_type": "markdown",
   "id": "cc691e35",
   "metadata": {},
   "source": [
    "nombre_infected       604\n",
    "nombre_sain          2081\n",
    "nombre_exposed        306\n",
    "nombre_recovered    17009\n",
    "Name: 184, dtype: int64"
   ]
  },
  {
   "cell_type": "markdown",
   "id": "8f27145a",
   "metadata": {},
   "source": [
    "nombre_infected       591\n",
    "nombre_sain          2097\n",
    "nombre_exposed        302\n",
    "nombre_recovered    17010\n",
    "Name: 185, dtype: int64"
   ]
  },
  {
   "cell_type": "markdown",
   "id": "1f145c35",
   "metadata": {},
   "source": [
    "nombre_infected       581\n",
    "nombre_sain          2103\n",
    "nombre_exposed        300\n",
    "nombre_recovered    17016\n",
    "Name: 186, dtype: int64"
   ]
  },
  {
   "cell_type": "markdown",
   "id": "ec69af64",
   "metadata": {},
   "source": [
    "nombre_infected       567\n",
    "nombre_sain          2125\n",
    "nombre_exposed        286\n",
    "nombre_recovered    17022\n",
    "Name: 187, dtype: int64"
   ]
  },
  {
   "cell_type": "markdown",
   "id": "b6529437",
   "metadata": {},
   "source": [
    "nombre_infected       560\n",
    "nombre_sain          2133\n",
    "nombre_exposed        280\n",
    "nombre_recovered    17027\n",
    "Name: 188, dtype: int64"
   ]
  },
  {
   "cell_type": "markdown",
   "id": "7499316c",
   "metadata": {},
   "source": [
    "nombre_infected       537\n",
    "nombre_sain          2133\n",
    "nombre_exposed        310\n",
    "nombre_recovered    17020\n",
    "Name: 189, dtype: int64"
   ]
  },
  {
   "cell_type": "markdown",
   "id": "bcc23748",
   "metadata": {},
   "source": [
    "nombre_infected       533\n",
    "nombre_sain          2154\n",
    "nombre_exposed        298\n",
    "nombre_recovered    17015\n",
    "Name: 190, dtype: int64"
   ]
  },
  {
   "cell_type": "markdown",
   "id": "73d6c169",
   "metadata": {},
   "source": [
    "nombre_infected       541\n",
    "nombre_sain          2176\n",
    "nombre_exposed        294\n",
    "nombre_recovered    16989\n",
    "Name: 191, dtype: int64"
   ]
  },
  {
   "cell_type": "markdown",
   "id": "71286ec1",
   "metadata": {},
   "source": [
    "nombre_infected       541\n",
    "nombre_sain          2207\n",
    "nombre_exposed        281\n",
    "nombre_recovered    16971\n",
    "Name: 192, dtype: int64"
   ]
  },
  {
   "cell_type": "markdown",
   "id": "40491cca",
   "metadata": {},
   "source": [
    "nombre_infected       552\n",
    "nombre_sain          2229\n",
    "nombre_exposed        271\n",
    "nombre_recovered    16948\n",
    "Name: 193, dtype: int64"
   ]
  },
  {
   "cell_type": "markdown",
   "id": "933f2c9b",
   "metadata": {},
   "source": [
    "nombre_infected       548\n",
    "nombre_sain          2247\n",
    "nombre_exposed        268\n",
    "nombre_recovered    16937\n",
    "Name: 194, dtype: int64"
   ]
  },
  {
   "cell_type": "markdown",
   "id": "3c0bc6d6",
   "metadata": {},
   "source": [
    "nombre_infected       546\n",
    "nombre_sain          2280\n",
    "nombre_exposed        265\n",
    "nombre_recovered    16909\n",
    "Name: 195, dtype: int64"
   ]
  },
  {
   "cell_type": "markdown",
   "id": "65b60985",
   "metadata": {},
   "source": [
    "nombre_infected       535\n",
    "nombre_sain          2284\n",
    "nombre_exposed        280\n",
    "nombre_recovered    16901\n",
    "Name: 196, dtype: int64"
   ]
  },
  {
   "cell_type": "markdown",
   "id": "1c35255e",
   "metadata": {},
   "source": [
    "nombre_infected       513\n",
    "nombre_sain          2292\n",
    "nombre_exposed        285\n",
    "nombre_recovered    16910\n",
    "Name: 197, dtype: int64"
   ]
  },
  {
   "cell_type": "markdown",
   "id": "952c7475",
   "metadata": {},
   "source": [
    "nombre_infected       515\n",
    "nombre_sain          2322\n",
    "nombre_exposed        280\n",
    "nombre_recovered    16883\n",
    "Name: 198, dtype: int64"
   ]
  },
  {
   "cell_type": "markdown",
   "id": "f4b21696",
   "metadata": {},
   "source": [
    "nombre_infected       503\n",
    "nombre_sain          2340\n",
    "nombre_exposed        303\n",
    "nombre_recovered    16854\n",
    "Name: 199, dtype: int64"
   ]
  },
  {
   "cell_type": "markdown",
   "id": "1f53088b",
   "metadata": {},
   "source": [
    "nombre_infected       511\n",
    "nombre_sain          2370\n",
    "nombre_exposed        292\n",
    "nombre_recovered    16827\n",
    "Name: 200, dtype: int64"
   ]
  },
  {
   "cell_type": "markdown",
   "id": "636c6637",
   "metadata": {},
   "source": [
    "nombre_infected       518\n",
    "nombre_sain          2416\n",
    "nombre_exposed        282\n",
    "nombre_recovered    16784\n",
    "Name: 201, dtype: int64"
   ]
  },
  {
   "cell_type": "markdown",
   "id": "3d55adcc",
   "metadata": {},
   "source": [
    "nombre_infected       533\n",
    "nombre_sain          2457\n",
    "nombre_exposed        267\n",
    "nombre_recovered    16743\n",
    "Name: 202, dtype: int64"
   ]
  },
  {
   "cell_type": "markdown",
   "id": "0da630b0",
   "metadata": {},
   "source": [
    "nombre_infected       533\n",
    "nombre_sain          2474\n",
    "nombre_exposed        265\n",
    "nombre_recovered    16728\n",
    "Name: 203, dtype: int64"
   ]
  },
  {
   "cell_type": "markdown",
   "id": "602d6462",
   "metadata": {},
   "source": [
    "nombre_infected       530\n",
    "nombre_sain          2486\n",
    "nombre_exposed        278\n",
    "nombre_recovered    16706\n",
    "Name: 204, dtype: int64"
   ]
  },
  {
   "cell_type": "markdown",
   "id": "1dbe6c32",
   "metadata": {},
   "source": [
    "nombre_infected       527\n",
    "nombre_sain          2527\n",
    "nombre_exposed        284\n",
    "nombre_recovered    16662\n",
    "Name: 205, dtype: int64"
   ]
  },
  {
   "cell_type": "markdown",
   "id": "9fbf4de9",
   "metadata": {},
   "source": [
    "nombre_infected       514\n",
    "nombre_sain          2545\n",
    "nombre_exposed        296\n",
    "nombre_recovered    16645\n",
    "Name: 206, dtype: int64"
   ]
  },
  {
   "cell_type": "markdown",
   "id": "052fa367",
   "metadata": {},
   "source": [
    "nombre_infected       503\n",
    "nombre_sain          2585\n",
    "nombre_exposed        292\n",
    "nombre_recovered    16620\n",
    "Name: 207, dtype: int64"
   ]
  },
  {
   "cell_type": "markdown",
   "id": "b84b8f62",
   "metadata": {},
   "source": [
    "nombre_infected       500\n",
    "nombre_sain          2612\n",
    "nombre_exposed        303\n",
    "nombre_recovered    16585\n",
    "Name: 208, dtype: int64"
   ]
  },
  {
   "cell_type": "markdown",
   "id": "1e45ab81",
   "metadata": {},
   "source": [
    "nombre_infected       480\n",
    "nombre_sain          2649\n",
    "nombre_exposed        325\n",
    "nombre_recovered    16546\n",
    "Name: 209, dtype: int64"
   ]
  },
  {
   "cell_type": "markdown",
   "id": "d31a3493",
   "metadata": {},
   "source": [
    "nombre_infected       478\n",
    "nombre_sain          2672\n",
    "nombre_exposed        342\n",
    "nombre_recovered    16508\n",
    "Name: 210, dtype: int64"
   ]
  },
  {
   "cell_type": "markdown",
   "id": "e2963eef",
   "metadata": {},
   "source": [
    "nombre_infected       495\n",
    "nombre_sain          2701\n",
    "nombre_exposed        338\n",
    "nombre_recovered    16466\n",
    "Name: 211, dtype: int64"
   ]
  },
  {
   "cell_type": "markdown",
   "id": "601043a5",
   "metadata": {},
   "source": [
    "nombre_infected       500\n",
    "nombre_sain          2729\n",
    "nombre_exposed        351\n",
    "nombre_recovered    16420\n",
    "Name: 212, dtype: int64"
   ]
  },
  {
   "cell_type": "markdown",
   "id": "f734e859",
   "metadata": {},
   "source": [
    "nombre_infected       527\n",
    "nombre_sain          2742\n",
    "nombre_exposed        352\n",
    "nombre_recovered    16379\n",
    "Name: 213, dtype: int64"
   ]
  },
  {
   "cell_type": "markdown",
   "id": "e9e19064",
   "metadata": {},
   "source": [
    "nombre_infected       540\n",
    "nombre_sain          2775\n",
    "nombre_exposed        347\n",
    "nombre_recovered    16338\n",
    "Name: 214, dtype: int64"
   ]
  },
  {
   "cell_type": "markdown",
   "id": "eb6cf3f2",
   "metadata": {},
   "source": [
    "nombre_infected       555\n",
    "nombre_sain          2775\n",
    "nombre_exposed        367\n",
    "nombre_recovered    16303\n",
    "Name: 215, dtype: int64"
   ]
  },
  {
   "cell_type": "markdown",
   "id": "73a895b8",
   "metadata": {},
   "source": [
    "nombre_infected       571\n",
    "nombre_sain          2779\n",
    "nombre_exposed        373\n",
    "nombre_recovered    16277\n",
    "Name: 216, dtype: int64"
   ]
  },
  {
   "cell_type": "markdown",
   "id": "333c8ba8",
   "metadata": {},
   "source": [
    "nombre_infected       592\n",
    "nombre_sain          2783\n",
    "nombre_exposed        399\n",
    "nombre_recovered    16226\n",
    "Name: 217, dtype: int64"
   ]
  },
  {
   "cell_type": "markdown",
   "id": "dcc86114",
   "metadata": {},
   "source": [
    "nombre_infected       619\n",
    "nombre_sain          2825\n",
    "nombre_exposed        385\n",
    "nombre_recovered    16171\n",
    "Name: 218, dtype: int64"
   ]
  },
  {
   "cell_type": "markdown",
   "id": "74d1f166",
   "metadata": {},
   "source": [
    "nombre_infected       620\n",
    "nombre_sain          2829\n",
    "nombre_exposed        405\n",
    "nombre_recovered    16146\n",
    "Name: 219, dtype: int64"
   ]
  },
  {
   "cell_type": "markdown",
   "id": "ba1c7121",
   "metadata": {},
   "source": [
    "nombre_infected       621\n",
    "nombre_sain          2838\n",
    "nombre_exposed        418\n",
    "nombre_recovered    16123\n",
    "Name: 220, dtype: int64"
   ]
  },
  {
   "cell_type": "markdown",
   "id": "f69a2c78",
   "metadata": {},
   "source": [
    "nombre_infected       646\n",
    "nombre_sain          2855\n",
    "nombre_exposed        423\n",
    "nombre_recovered    16076\n",
    "Name: 221, dtype: int64"
   ]
  },
  {
   "cell_type": "markdown",
   "id": "f5fc937a",
   "metadata": {},
   "source": [
    "nombre_infected       662\n",
    "nombre_sain          2868\n",
    "nombre_exposed        441\n",
    "nombre_recovered    16029\n",
    "Name: 222, dtype: int64"
   ]
  },
  {
   "cell_type": "markdown",
   "id": "21c493ad",
   "metadata": {},
   "source": [
    "nombre_infected       693\n",
    "nombre_sain          2833\n",
    "nombre_exposed        463\n",
    "nombre_recovered    16011\n",
    "Name: 223, dtype: int64"
   ]
  },
  {
   "cell_type": "markdown",
   "id": "ee0960ed",
   "metadata": {},
   "source": [
    "nombre_infected       700\n",
    "nombre_sain          2840\n",
    "nombre_exposed        476\n",
    "nombre_recovered    15984\n",
    "Name: 224, dtype: int64"
   ]
  },
  {
   "cell_type": "markdown",
   "id": "a32843f7",
   "metadata": {},
   "source": [
    "nombre_infected       726\n",
    "nombre_sain          2845\n",
    "nombre_exposed        493\n",
    "nombre_recovered    15936\n",
    "Name: 225, dtype: int64"
   ]
  },
  {
   "cell_type": "markdown",
   "id": "288e6deb",
   "metadata": {},
   "source": [
    "nombre_infected       746\n",
    "nombre_sain          2850\n",
    "nombre_exposed        490\n",
    "nombre_recovered    15914\n",
    "Name: 226, dtype: int64"
   ]
  },
  {
   "cell_type": "markdown",
   "id": "6e710bc3",
   "metadata": {},
   "source": [
    "nombre_infected       734\n",
    "nombre_sain          2852\n",
    "nombre_exposed        506\n",
    "nombre_recovered    15908\n",
    "Name: 227, dtype: int64"
   ]
  },
  {
   "cell_type": "markdown",
   "id": "4e39ca97",
   "metadata": {},
   "source": [
    "nombre_infected       748\n",
    "nombre_sain          2805\n",
    "nombre_exposed        530\n",
    "nombre_recovered    15917\n",
    "Name: 228, dtype: int64"
   ]
  },
  {
   "cell_type": "markdown",
   "id": "b90c84c8",
   "metadata": {},
   "source": [
    "nombre_infected       789\n",
    "nombre_sain          2792\n",
    "nombre_exposed        509\n",
    "nombre_recovered    15910\n",
    "Name: 229, dtype: int64"
   ]
  },
  {
   "cell_type": "markdown",
   "id": "b67eafef",
   "metadata": {},
   "source": [
    "nombre_infected       818\n",
    "nombre_sain          2769\n",
    "nombre_exposed        505\n",
    "nombre_recovered    15908\n",
    "Name: 230, dtype: int64"
   ]
  },
  {
   "cell_type": "markdown",
   "id": "0a79f532",
   "metadata": {},
   "source": [
    "nombre_infected       817\n",
    "nombre_sain          2734\n",
    "nombre_exposed        540\n",
    "nombre_recovered    15909\n",
    "Name: 231, dtype: int64"
   ]
  },
  {
   "cell_type": "markdown",
   "id": "7ed313f0",
   "metadata": {},
   "source": [
    "nombre_infected       837\n",
    "nombre_sain          2690\n",
    "nombre_exposed        562\n",
    "nombre_recovered    15911\n",
    "Name: 232, dtype: int64"
   ]
  },
  {
   "cell_type": "markdown",
   "id": "fa027864",
   "metadata": {},
   "source": [
    "nombre_infected       872\n",
    "nombre_sain          2659\n",
    "nombre_exposed        559\n",
    "nombre_recovered    15910\n",
    "Name: 233, dtype: int64"
   ]
  },
  {
   "cell_type": "markdown",
   "id": "55cfb65d",
   "metadata": {},
   "source": [
    "nombre_infected       888\n",
    "nombre_sain          2617\n",
    "nombre_exposed        589\n",
    "nombre_recovered    15906\n",
    "Name: 234, dtype: int64"
   ]
  },
  {
   "cell_type": "markdown",
   "id": "5ad3fa1c",
   "metadata": {},
   "source": [
    "nombre_infected       905\n",
    "nombre_sain          2586\n",
    "nombre_exposed        584\n",
    "nombre_recovered    15925\n",
    "Name: 235, dtype: int64"
   ]
  },
  {
   "cell_type": "markdown",
   "id": "3a2bb7a8",
   "metadata": {},
   "source": [
    "nombre_infected       923\n",
    "nombre_sain          2551\n",
    "nombre_exposed        582\n",
    "nombre_recovered    15944\n",
    "Name: 236, dtype: int64"
   ]
  },
  {
   "cell_type": "markdown",
   "id": "d4a9273d",
   "metadata": {},
   "source": [
    "nombre_infected       962\n",
    "nombre_sain          2499\n",
    "nombre_exposed        582\n",
    "nombre_recovered    15957\n",
    "Name: 237, dtype: int64"
   ]
  },
  {
   "cell_type": "markdown",
   "id": "a3136790",
   "metadata": {},
   "source": [
    "nombre_infected       988\n",
    "nombre_sain          2455\n",
    "nombre_exposed        605\n",
    "nombre_recovered    15952\n",
    "Name: 238, dtype: int64"
   ]
  },
  {
   "cell_type": "markdown",
   "id": "fa78a8b3",
   "metadata": {},
   "source": [
    "nombre_infected       979\n",
    "nombre_sain          2405\n",
    "nombre_exposed        633\n",
    "nombre_recovered    15983\n",
    "Name: 239, dtype: int64"
   ]
  },
  {
   "cell_type": "markdown",
   "id": "721d3620",
   "metadata": {},
   "source": [
    "nombre_infected       972\n",
    "nombre_sain          2372\n",
    "nombre_exposed        646\n",
    "nombre_recovered    16010\n",
    "Name: 240, dtype: int64"
   ]
  },
  {
   "cell_type": "markdown",
   "id": "becaa824",
   "metadata": {},
   "source": [
    "nombre_infected      1009\n",
    "nombre_sain          2340\n",
    "nombre_exposed        628\n",
    "nombre_recovered    16023\n",
    "Name: 241, dtype: int64"
   ]
  },
  {
   "cell_type": "markdown",
   "id": "6111c2e2",
   "metadata": {},
   "source": [
    "nombre_infected      1054\n",
    "nombre_sain          2320\n",
    "nombre_exposed        618\n",
    "nombre_recovered    16008\n",
    "Name: 242, dtype: int64"
   ]
  },
  {
   "cell_type": "markdown",
   "id": "ef8f571e",
   "metadata": {},
   "source": [
    "nombre_infected      1076\n",
    "nombre_sain          2272\n",
    "nombre_exposed        623\n",
    "nombre_recovered    16029\n",
    "Name: 243, dtype: int64"
   ]
  },
  {
   "cell_type": "markdown",
   "id": "07ae8262",
   "metadata": {},
   "source": [
    "nombre_infected      1120\n",
    "nombre_sain          2195\n",
    "nombre_exposed        634\n",
    "nombre_recovered    16051\n",
    "Name: 244, dtype: int64"
   ]
  },
  {
   "cell_type": "markdown",
   "id": "14694722",
   "metadata": {},
   "source": [
    "nombre_infected      1157\n",
    "nombre_sain          2149\n",
    "nombre_exposed        652\n",
    "nombre_recovered    16042\n",
    "Name: 245, dtype: int64"
   ]
  },
  {
   "cell_type": "markdown",
   "id": "a3a57c0b",
   "metadata": {},
   "source": [
    "nombre_infected      1157\n",
    "nombre_sain          2135\n",
    "nombre_exposed        628\n",
    "nombre_recovered    16080\n",
    "Name: 246, dtype: int64"
   ]
  },
  {
   "cell_type": "markdown",
   "id": "2d9ce224",
   "metadata": {},
   "source": [
    "nombre_infected      1169\n",
    "nombre_sain          2120\n",
    "nombre_exposed        624\n",
    "nombre_recovered    16087\n",
    "Name: 247, dtype: int64"
   ]
  },
  {
   "cell_type": "markdown",
   "id": "ea0a5c79",
   "metadata": {},
   "source": [
    "nombre_infected      1185\n",
    "nombre_sain          2074\n",
    "nombre_exposed        622\n",
    "nombre_recovered    16119\n",
    "Name: 248, dtype: int64"
   ]
  },
  {
   "cell_type": "markdown",
   "id": "63585348",
   "metadata": {},
   "source": [
    "nombre_infected      1176\n",
    "nombre_sain          2032\n",
    "nombre_exposed        624\n",
    "nombre_recovered    16168\n",
    "Name: 249, dtype: int64"
   ]
  },
  {
   "cell_type": "markdown",
   "id": "b9369bba",
   "metadata": {},
   "source": [
    "nombre_infected      1174\n",
    "nombre_sain          1980\n",
    "nombre_exposed        634\n",
    "nombre_recovered    16212\n",
    "Name: 250, dtype: int64"
   ]
  },
  {
   "cell_type": "markdown",
   "id": "19c0d0b7",
   "metadata": {},
   "source": [
    "nombre_infected      1178\n",
    "nombre_sain          1976\n",
    "nombre_exposed        614\n",
    "nombre_recovered    16232\n",
    "Name: 251, dtype: int64"
   ]
  },
  {
   "cell_type": "markdown",
   "id": "5c0e7db6",
   "metadata": {},
   "source": [
    "nombre_infected      1170\n",
    "nombre_sain          1962\n",
    "nombre_exposed        612\n",
    "nombre_recovered    16256\n",
    "Name: 252, dtype: int64"
   ]
  },
  {
   "cell_type": "markdown",
   "id": "919a5fae",
   "metadata": {},
   "source": [
    "nombre_infected      1190\n",
    "nombre_sain          1944\n",
    "nombre_exposed        605\n",
    "nombre_recovered    16261\n",
    "Name: 253, dtype: int64"
   ]
  },
  {
   "cell_type": "markdown",
   "id": "068b0aae",
   "metadata": {},
   "source": [
    "nombre_infected      1156\n",
    "nombre_sain          1924\n",
    "nombre_exposed        599\n",
    "nombre_recovered    16321\n",
    "Name: 254, dtype: int64"
   ]
  },
  {
   "cell_type": "markdown",
   "id": "332125d3",
   "metadata": {},
   "source": [
    "nombre_infected      1149\n",
    "nombre_sain          1905\n",
    "nombre_exposed        601\n",
    "nombre_recovered    16345\n",
    "Name: 255, dtype: int64"
   ]
  },
  {
   "cell_type": "markdown",
   "id": "05ef354a",
   "metadata": {},
   "source": [
    "nombre_infected      1172\n",
    "nombre_sain          1858\n",
    "nombre_exposed        600\n",
    "nombre_recovered    16370\n",
    "Name: 256, dtype: int64"
   ]
  },
  {
   "cell_type": "markdown",
   "id": "dc17753e",
   "metadata": {},
   "source": [
    "nombre_infected      1181\n",
    "nombre_sain          1837\n",
    "nombre_exposed        572\n",
    "nombre_recovered    16410\n",
    "Name: 257, dtype: int64"
   ]
  },
  {
   "cell_type": "markdown",
   "id": "f68326bf",
   "metadata": {},
   "source": [
    "nombre_infected      1173\n",
    "nombre_sain          1819\n",
    "nombre_exposed        554\n",
    "nombre_recovered    16454\n",
    "Name: 258, dtype: int64"
   ]
  },
  {
   "cell_type": "markdown",
   "id": "8cb8e8a1",
   "metadata": {},
   "source": [
    "nombre_infected      1151\n",
    "nombre_sain          1831\n",
    "nombre_exposed        542\n",
    "nombre_recovered    16476\n",
    "Name: 259, dtype: int64"
   ]
  },
  {
   "cell_type": "markdown",
   "id": "3a07236c",
   "metadata": {},
   "source": [
    "nombre_infected      1137\n",
    "nombre_sain          1828\n",
    "nombre_exposed        511\n",
    "nombre_recovered    16524\n",
    "Name: 260, dtype: int64"
   ]
  },
  {
   "cell_type": "markdown",
   "id": "df4a8bce",
   "metadata": {},
   "source": [
    "nombre_infected      1142\n",
    "nombre_sain          1810\n",
    "nombre_exposed        484\n",
    "nombre_recovered    16564\n",
    "Name: 261, dtype: int64"
   ]
  },
  {
   "cell_type": "markdown",
   "id": "6bb5f13c",
   "metadata": {},
   "source": [
    "nombre_infected      1114\n",
    "nombre_sain          1801\n",
    "nombre_exposed        462\n",
    "nombre_recovered    16623\n",
    "Name: 262, dtype: int64"
   ]
  },
  {
   "cell_type": "markdown",
   "id": "0cdd4b05",
   "metadata": {},
   "source": [
    "nombre_infected      1096\n",
    "nombre_sain          1785\n",
    "nombre_exposed        487\n",
    "nombre_recovered    16632\n",
    "Name: 263, dtype: int64"
   ]
  },
  {
   "cell_type": "markdown",
   "id": "e36acdbe",
   "metadata": {},
   "source": [
    "nombre_infected      1050\n",
    "nombre_sain          1777\n",
    "nombre_exposed        487\n",
    "nombre_recovered    16686\n",
    "Name: 264, dtype: int64"
   ]
  },
  {
   "cell_type": "markdown",
   "id": "989ab701",
   "metadata": {},
   "source": [
    "nombre_infected      1031\n",
    "nombre_sain          1754\n",
    "nombre_exposed        498\n",
    "nombre_recovered    16717\n",
    "Name: 265, dtype: int64"
   ]
  },
  {
   "cell_type": "markdown",
   "id": "b540f6d2",
   "metadata": {},
   "source": [
    "nombre_infected      1026\n",
    "nombre_sain          1779\n",
    "nombre_exposed        465\n",
    "nombre_recovered    16730\n",
    "Name: 266, dtype: int64"
   ]
  },
  {
   "cell_type": "markdown",
   "id": "ea8b3901",
   "metadata": {},
   "source": [
    "nombre_infected      1034\n",
    "nombre_sain          1771\n",
    "nombre_exposed        447\n",
    "nombre_recovered    16748\n",
    "Name: 267, dtype: int64"
   ]
  },
  {
   "cell_type": "markdown",
   "id": "45970f4a",
   "metadata": {},
   "source": [
    "nombre_infected      1006\n",
    "nombre_sain          1779\n",
    "nombre_exposed        454\n",
    "nombre_recovered    16761\n",
    "Name: 268, dtype: int64"
   ]
  },
  {
   "cell_type": "markdown",
   "id": "8667aac9",
   "metadata": {},
   "source": [
    "nombre_infected      1015\n",
    "nombre_sain          1793\n",
    "nombre_exposed        431\n",
    "nombre_recovered    16761\n",
    "Name: 269, dtype: int64"
   ]
  },
  {
   "cell_type": "markdown",
   "id": "86327752",
   "metadata": {},
   "source": [
    "nombre_infected      1005\n",
    "nombre_sain          1798\n",
    "nombre_exposed        435\n",
    "nombre_recovered    16762\n",
    "Name: 270, dtype: int64"
   ]
  },
  {
   "cell_type": "markdown",
   "id": "2ceb3641",
   "metadata": {},
   "source": [
    "nombre_infected       960\n",
    "nombre_sain          1813\n",
    "nombre_exposed        450\n",
    "nombre_recovered    16777\n",
    "Name: 271, dtype: int64"
   ]
  },
  {
   "cell_type": "markdown",
   "id": "7eb293f6",
   "metadata": {},
   "source": [
    "nombre_infected       944\n",
    "nombre_sain          1856\n",
    "nombre_exposed        459\n",
    "nombre_recovered    16741\n",
    "Name: 272, dtype: int64"
   ]
  },
  {
   "cell_type": "markdown",
   "id": "1651a95e",
   "metadata": {},
   "source": [
    "nombre_infected       945\n",
    "nombre_sain          1908\n",
    "nombre_exposed        450\n",
    "nombre_recovered    16697\n",
    "Name: 273, dtype: int64"
   ]
  },
  {
   "cell_type": "markdown",
   "id": "303256d1",
   "metadata": {},
   "source": [
    "nombre_infected       945\n",
    "nombre_sain          1916\n",
    "nombre_exposed        453\n",
    "nombre_recovered    16686\n",
    "Name: 274, dtype: int64"
   ]
  },
  {
   "cell_type": "markdown",
   "id": "a7f15224",
   "metadata": {},
   "source": [
    "nombre_infected       917\n",
    "nombre_sain          1970\n",
    "nombre_exposed        443\n",
    "nombre_recovered    16670\n",
    "Name: 275, dtype: int64"
   ]
  },
  {
   "cell_type": "markdown",
   "id": "f5cee473",
   "metadata": {},
   "source": [
    "nombre_infected       904\n",
    "nombre_sain          1993\n",
    "nombre_exposed        457\n",
    "nombre_recovered    16646\n",
    "Name: 276, dtype: int64"
   ]
  },
  {
   "cell_type": "markdown",
   "id": "c6ca1488",
   "metadata": {},
   "source": [
    "nombre_infected       900\n",
    "nombre_sain          2027\n",
    "nombre_exposed        445\n",
    "nombre_recovered    16628\n",
    "Name: 277, dtype: int64"
   ]
  },
  {
   "cell_type": "markdown",
   "id": "9ba8133b",
   "metadata": {},
   "source": [
    "nombre_infected       917\n",
    "nombre_sain          2086\n",
    "nombre_exposed        431\n",
    "nombre_recovered    16566\n",
    "Name: 278, dtype: int64"
   ]
  },
  {
   "cell_type": "markdown",
   "id": "de71ce5b",
   "metadata": {},
   "source": [
    "nombre_infected       916\n",
    "nombre_sain          2119\n",
    "nombre_exposed        457\n",
    "nombre_recovered    16508\n",
    "Name: 279, dtype: int64"
   ]
  },
  {
   "cell_type": "markdown",
   "id": "cbd8f133",
   "metadata": {},
   "source": [
    "nombre_infected       904\n",
    "nombre_sain          2116\n",
    "nombre_exposed        498\n",
    "nombre_recovered    16482\n",
    "Name: 280, dtype: int64"
   ]
  },
  {
   "cell_type": "markdown",
   "id": "5141d4b0",
   "metadata": {},
   "source": [
    "nombre_infected       916\n",
    "nombre_sain          2156\n",
    "nombre_exposed        488\n",
    "nombre_recovered    16440\n",
    "Name: 281, dtype: int64"
   ]
  },
  {
   "cell_type": "markdown",
   "id": "3876115f",
   "metadata": {},
   "source": [
    "nombre_infected       923\n",
    "nombre_sain          2184\n",
    "nombre_exposed        464\n",
    "nombre_recovered    16429\n",
    "Name: 282, dtype: int64"
   ]
  },
  {
   "cell_type": "markdown",
   "id": "833bb5e1",
   "metadata": {},
   "source": [
    "nombre_infected       950\n",
    "nombre_sain          2186\n",
    "nombre_exposed        461\n",
    "nombre_recovered    16403\n",
    "Name: 283, dtype: int64"
   ]
  },
  {
   "cell_type": "markdown",
   "id": "2be8c643",
   "metadata": {},
   "source": [
    "nombre_infected       950\n",
    "nombre_sain          2196\n",
    "nombre_exposed        451\n",
    "nombre_recovered    16403\n",
    "Name: 284, dtype: int64"
   ]
  },
  {
   "cell_type": "markdown",
   "id": "b6e38e8d",
   "metadata": {},
   "source": [
    "nombre_infected       925\n",
    "nombre_sain          2186\n",
    "nombre_exposed        457\n",
    "nombre_recovered    16432\n",
    "Name: 285, dtype: int64"
   ]
  },
  {
   "cell_type": "markdown",
   "id": "40310239",
   "metadata": {},
   "source": [
    "nombre_infected       921\n",
    "nombre_sain          2176\n",
    "nombre_exposed        472\n",
    "nombre_recovered    16431\n",
    "Name: 286, dtype: int64"
   ]
  },
  {
   "cell_type": "markdown",
   "id": "5efcd70f",
   "metadata": {},
   "source": [
    "nombre_infected       900\n",
    "nombre_sain          2166\n",
    "nombre_exposed        483\n",
    "nombre_recovered    16451\n",
    "Name: 287, dtype: int64"
   ]
  },
  {
   "cell_type": "markdown",
   "id": "dddf70de",
   "metadata": {},
   "source": [
    "nombre_infected       890\n",
    "nombre_sain          2162\n",
    "nombre_exposed        510\n",
    "nombre_recovered    16438\n",
    "Name: 288, dtype: int64"
   ]
  },
  {
   "cell_type": "markdown",
   "id": "ce78d2d0",
   "metadata": {},
   "source": [
    "nombre_infected       886\n",
    "nombre_sain          2145\n",
    "nombre_exposed        515\n",
    "nombre_recovered    16454\n",
    "Name: 289, dtype: int64"
   ]
  },
  {
   "cell_type": "markdown",
   "id": "496917ac",
   "metadata": {},
   "source": [
    "nombre_infected       891\n",
    "nombre_sain          2151\n",
    "nombre_exposed        482\n",
    "nombre_recovered    16476\n",
    "Name: 290, dtype: int64"
   ]
  },
  {
   "cell_type": "markdown",
   "id": "9fe85d4d",
   "metadata": {},
   "source": [
    "nombre_infected       897\n",
    "nombre_sain          2119\n",
    "nombre_exposed        490\n",
    "nombre_recovered    16494\n",
    "Name: 291, dtype: int64"
   ]
  },
  {
   "cell_type": "markdown",
   "id": "651fa3d7",
   "metadata": {},
   "source": [
    "nombre_infected       889\n",
    "nombre_sain          2115\n",
    "nombre_exposed        485\n",
    "nombre_recovered    16511\n",
    "Name: 292, dtype: int64"
   ]
  },
  {
   "cell_type": "markdown",
   "id": "de7c7189",
   "metadata": {},
   "source": [
    "nombre_infected       877\n",
    "nombre_sain          2072\n",
    "nombre_exposed        520\n",
    "nombre_recovered    16531\n",
    "Name: 293, dtype: int64"
   ]
  },
  {
   "cell_type": "markdown",
   "id": "30845fc6",
   "metadata": {},
   "source": [
    "nombre_infected       883\n",
    "nombre_sain          2077\n",
    "nombre_exposed        497\n",
    "nombre_recovered    16543\n",
    "Name: 294, dtype: int64"
   ]
  },
  {
   "cell_type": "markdown",
   "id": "eedd4a37",
   "metadata": {},
   "source": [
    "nombre_infected       913\n",
    "nombre_sain          2069\n",
    "nombre_exposed        464\n",
    "nombre_recovered    16554\n",
    "Name: 295, dtype: int64"
   ]
  },
  {
   "cell_type": "markdown",
   "id": "43faebeb",
   "metadata": {},
   "source": [
    "nombre_infected       921\n",
    "nombre_sain          2079\n",
    "nombre_exposed        435\n",
    "nombre_recovered    16565\n",
    "Name: 296, dtype: int64"
   ]
  },
  {
   "cell_type": "markdown",
   "id": "02995fb0",
   "metadata": {},
   "source": [
    "nombre_infected       873\n",
    "nombre_sain          2083\n",
    "nombre_exposed        448\n",
    "nombre_recovered    16596\n",
    "Name: 297, dtype: int64"
   ]
  },
  {
   "cell_type": "markdown",
   "id": "9bf8415c",
   "metadata": {},
   "source": [
    "nombre_infected       849\n",
    "nombre_sain          2087\n",
    "nombre_exposed        434\n",
    "nombre_recovered    16630\n",
    "Name: 298, dtype: int64"
   ]
  },
  {
   "cell_type": "markdown",
   "id": "c6898631",
   "metadata": {},
   "source": [
    "nombre_infected       831\n",
    "nombre_sain          2113\n",
    "nombre_exposed        434\n",
    "nombre_recovered    16622\n",
    "Name: 299, dtype: int64"
   ]
  },
  {
   "cell_type": "markdown",
   "id": "1a9d112b",
   "metadata": {},
   "source": [
    "nombre_infected       814\n",
    "nombre_sain          2116\n",
    "nombre_exposed        434\n",
    "nombre_recovered    16636\n",
    "Name: 300, dtype: int64"
   ]
  },
  {
   "cell_type": "markdown",
   "id": "3e6f71c3",
   "metadata": {},
   "source": [
    "nombre_infected       812\n",
    "nombre_sain          2119\n",
    "nombre_exposed        416\n",
    "nombre_recovered    16653\n",
    "Name: 301, dtype: int64"
   ]
  },
  {
   "cell_type": "markdown",
   "id": "42f7f479",
   "metadata": {},
   "source": [
    "nombre_infected       792\n",
    "nombre_sain          2164\n",
    "nombre_exposed        405\n",
    "nombre_recovered    16639\n",
    "Name: 302, dtype: int64"
   ]
  },
  {
   "cell_type": "markdown",
   "id": "4449d1c1",
   "metadata": {},
   "source": [
    "nombre_infected       774\n",
    "nombre_sain          2176\n",
    "nombre_exposed        402\n",
    "nombre_recovered    16648\n",
    "Name: 303, dtype: int64"
   ]
  },
  {
   "cell_type": "markdown",
   "id": "c72042a4",
   "metadata": {},
   "source": [
    "nombre_infected       746\n",
    "nombre_sain          2208\n",
    "nombre_exposed        404\n",
    "nombre_recovered    16642\n",
    "Name: 304, dtype: int64"
   ]
  },
  {
   "cell_type": "markdown",
   "id": "bbad3fde",
   "metadata": {},
   "source": [
    "nombre_infected       749\n",
    "nombre_sain          2244\n",
    "nombre_exposed        388\n",
    "nombre_recovered    16619\n",
    "Name: 305, dtype: int64"
   ]
  },
  {
   "cell_type": "markdown",
   "id": "7fca8b2a",
   "metadata": {},
   "source": [
    "nombre_infected       761\n",
    "nombre_sain          2269\n",
    "nombre_exposed        367\n",
    "nombre_recovered    16603\n",
    "Name: 306, dtype: int64"
   ]
  },
  {
   "cell_type": "markdown",
   "id": "7ebacc24",
   "metadata": {},
   "source": [
    "nombre_infected       765\n",
    "nombre_sain          2269\n",
    "nombre_exposed        378\n",
    "nombre_recovered    16588\n",
    "Name: 307, dtype: int64"
   ]
  },
  {
   "cell_type": "markdown",
   "id": "0a0124a8",
   "metadata": {},
   "source": [
    "nombre_infected       761\n",
    "nombre_sain          2295\n",
    "nombre_exposed        380\n",
    "nombre_recovered    16564\n",
    "Name: 308, dtype: int64"
   ]
  },
  {
   "cell_type": "markdown",
   "id": "6b8d9b56",
   "metadata": {},
   "source": [
    "nombre_infected       744\n",
    "nombre_sain          2328\n",
    "nombre_exposed        374\n",
    "nombre_recovered    16554\n",
    "Name: 309, dtype: int64"
   ]
  },
  {
   "cell_type": "markdown",
   "id": "e42ae501",
   "metadata": {},
   "source": [
    "nombre_infected       745\n",
    "nombre_sain          2339\n",
    "nombre_exposed        362\n",
    "nombre_recovered    16554\n",
    "Name: 310, dtype: int64"
   ]
  },
  {
   "cell_type": "markdown",
   "id": "cfe4ab0f",
   "metadata": {},
   "source": [
    "nombre_infected       746\n",
    "nombre_sain          2346\n",
    "nombre_exposed        345\n",
    "nombre_recovered    16563\n",
    "Name: 311, dtype: int64"
   ]
  },
  {
   "cell_type": "markdown",
   "id": "6809888f",
   "metadata": {},
   "source": [
    "nombre_infected       711\n",
    "nombre_sain          2341\n",
    "nombre_exposed        375\n",
    "nombre_recovered    16573\n",
    "Name: 312, dtype: int64"
   ]
  },
  {
   "cell_type": "markdown",
   "id": "55355e1a",
   "metadata": {},
   "source": [
    "nombre_infected       719\n",
    "nombre_sain          2323\n",
    "nombre_exposed        392\n",
    "nombre_recovered    16566\n",
    "Name: 313, dtype: int64"
   ]
  },
  {
   "cell_type": "markdown",
   "id": "46def5b6",
   "metadata": {},
   "source": [
    "nombre_infected       721\n",
    "nombre_sain          2336\n",
    "nombre_exposed        388\n",
    "nombre_recovered    16555\n",
    "Name: 314, dtype: int64"
   ]
  },
  {
   "cell_type": "markdown",
   "id": "9f816e86",
   "metadata": {},
   "source": [
    "nombre_infected       743\n",
    "nombre_sain          2327\n",
    "nombre_exposed        376\n",
    "nombre_recovered    16554\n",
    "Name: 315, dtype: int64"
   ]
  },
  {
   "cell_type": "markdown",
   "id": "63741102",
   "metadata": {},
   "source": [
    "nombre_infected       733\n",
    "nombre_sain          2330\n",
    "nombre_exposed        384\n",
    "nombre_recovered    16553\n",
    "Name: 316, dtype: int64"
   ]
  },
  {
   "cell_type": "markdown",
   "id": "6fd17c99",
   "metadata": {},
   "source": [
    "nombre_infected       723\n",
    "nombre_sain          2356\n",
    "nombre_exposed        389\n",
    "nombre_recovered    16532\n",
    "Name: 317, dtype: int64"
   ]
  },
  {
   "cell_type": "markdown",
   "id": "85beb807",
   "metadata": {},
   "source": [
    "nombre_infected       693\n",
    "nombre_sain          2381\n",
    "nombre_exposed        397\n",
    "nombre_recovered    16529\n",
    "Name: 318, dtype: int64"
   ]
  },
  {
   "cell_type": "markdown",
   "id": "bf5703be",
   "metadata": {},
   "source": [
    "nombre_infected       706\n",
    "nombre_sain          2389\n",
    "nombre_exposed        385\n",
    "nombre_recovered    16520\n",
    "Name: 319, dtype: int64"
   ]
  },
  {
   "cell_type": "markdown",
   "id": "e67bd95e",
   "metadata": {},
   "source": [
    "nombre_infected       701\n",
    "nombre_sain          2415\n",
    "nombre_exposed        397\n",
    "nombre_recovered    16487\n",
    "Name: 320, dtype: int64"
   ]
  },
  {
   "cell_type": "markdown",
   "id": "e603346d",
   "metadata": {},
   "source": [
    "nombre_infected       692\n",
    "nombre_sain          2423\n",
    "nombre_exposed        411\n",
    "nombre_recovered    16474\n",
    "Name: 321, dtype: int64"
   ]
  },
  {
   "cell_type": "markdown",
   "id": "61673fd1",
   "metadata": {},
   "source": [
    "nombre_infected       714\n",
    "nombre_sain          2441\n",
    "nombre_exposed        396\n",
    "nombre_recovered    16449\n",
    "Name: 322, dtype: int64"
   ]
  },
  {
   "cell_type": "markdown",
   "id": "04e3270a",
   "metadata": {},
   "source": [
    "nombre_infected       727\n",
    "nombre_sain          2456\n",
    "nombre_exposed        373\n",
    "nombre_recovered    16444\n",
    "Name: 323, dtype: int64"
   ]
  },
  {
   "cell_type": "markdown",
   "id": "a93d0c83",
   "metadata": {},
   "source": [
    "nombre_infected       730\n",
    "nombre_sain          2463\n",
    "nombre_exposed        373\n",
    "nombre_recovered    16434\n",
    "Name: 324, dtype: int64"
   ]
  },
  {
   "cell_type": "markdown",
   "id": "20a56d92",
   "metadata": {},
   "source": [
    "nombre_infected       716\n",
    "nombre_sain          2467\n",
    "nombre_exposed        393\n",
    "nombre_recovered    16424\n",
    "Name: 325, dtype: int64"
   ]
  },
  {
   "cell_type": "markdown",
   "id": "c662f778",
   "metadata": {},
   "source": [
    "nombre_infected       732\n",
    "nombre_sain          2481\n",
    "nombre_exposed        399\n",
    "nombre_recovered    16388\n",
    "Name: 326, dtype: int64"
   ]
  },
  {
   "cell_type": "markdown",
   "id": "cb4cded7",
   "metadata": {},
   "source": [
    "nombre_infected       719\n",
    "nombre_sain          2490\n",
    "nombre_exposed        422\n",
    "nombre_recovered    16369\n",
    "Name: 327, dtype: int64"
   ]
  },
  {
   "cell_type": "markdown",
   "id": "d50738ea",
   "metadata": {},
   "source": [
    "nombre_infected       724\n",
    "nombre_sain          2533\n",
    "nombre_exposed        422\n",
    "nombre_recovered    16321\n",
    "Name: 328, dtype: int64"
   ]
  },
  {
   "cell_type": "markdown",
   "id": "bc24d558",
   "metadata": {},
   "source": [
    "nombre_infected       740\n",
    "nombre_sain          2534\n",
    "nombre_exposed        428\n",
    "nombre_recovered    16298\n",
    "Name: 329, dtype: int64"
   ]
  },
  {
   "cell_type": "markdown",
   "id": "93fb21ca",
   "metadata": {},
   "source": [
    "nombre_infected       741\n",
    "nombre_sain          2574\n",
    "nombre_exposed        422\n",
    "nombre_recovered    16263\n",
    "Name: 330, dtype: int64"
   ]
  },
  {
   "cell_type": "markdown",
   "id": "4dd660c8",
   "metadata": {},
   "source": [
    "nombre_infected       758\n",
    "nombre_sain          2590\n",
    "nombre_exposed        423\n",
    "nombre_recovered    16229\n",
    "Name: 331, dtype: int64"
   ]
  },
  {
   "cell_type": "markdown",
   "id": "75af3326",
   "metadata": {},
   "source": [
    "nombre_infected       779\n",
    "nombre_sain          2564\n",
    "nombre_exposed        422\n",
    "nombre_recovered    16235\n",
    "Name: 332, dtype: int64"
   ]
  },
  {
   "cell_type": "markdown",
   "id": "087ab136",
   "metadata": {},
   "source": [
    "nombre_infected       779\n",
    "nombre_sain          2584\n",
    "nombre_exposed        435\n",
    "nombre_recovered    16202\n",
    "Name: 333, dtype: int64"
   ]
  },
  {
   "cell_type": "markdown",
   "id": "8e722419",
   "metadata": {},
   "source": [
    "nombre_infected       766\n",
    "nombre_sain          2592\n",
    "nombre_exposed        449\n",
    "nombre_recovered    16193\n",
    "Name: 334, dtype: int64"
   ]
  },
  {
   "cell_type": "markdown",
   "id": "74650854",
   "metadata": {},
   "source": [
    "nombre_infected       775\n",
    "nombre_sain          2553\n",
    "nombre_exposed        495\n",
    "nombre_recovered    16177\n",
    "Name: 335, dtype: int64"
   ]
  },
  {
   "cell_type": "markdown",
   "id": "7f092aee",
   "metadata": {},
   "source": [
    "nombre_infected       797\n",
    "nombre_sain          2566\n",
    "nombre_exposed        487\n",
    "nombre_recovered    16150\n",
    "Name: 336, dtype: int64"
   ]
  },
  {
   "cell_type": "markdown",
   "id": "0aee8a9e",
   "metadata": {},
   "source": [
    "nombre_infected       815\n",
    "nombre_sain          2566\n",
    "nombre_exposed        466\n",
    "nombre_recovered    16153\n",
    "Name: 337, dtype: int64"
   ]
  },
  {
   "cell_type": "markdown",
   "id": "25f4ffdd",
   "metadata": {},
   "source": [
    "nombre_infected       813\n",
    "nombre_sain          2586\n",
    "nombre_exposed        445\n",
    "nombre_recovered    16156\n",
    "Name: 338, dtype: int64"
   ]
  },
  {
   "cell_type": "markdown",
   "id": "957c614e",
   "metadata": {},
   "source": [
    "nombre_infected       829\n",
    "nombre_sain          2561\n",
    "nombre_exposed        448\n",
    "nombre_recovered    16162\n",
    "Name: 339, dtype: int64"
   ]
  },
  {
   "cell_type": "markdown",
   "id": "26d69e62",
   "metadata": {},
   "source": [
    "nombre_infected       800\n",
    "nombre_sain          2576\n",
    "nombre_exposed        446\n",
    "nombre_recovered    16178\n",
    "Name: 340, dtype: int64"
   ]
  },
  {
   "cell_type": "markdown",
   "id": "2d016af3",
   "metadata": {},
   "source": [
    "nombre_infected       796\n",
    "nombre_sain          2568\n",
    "nombre_exposed        437\n",
    "nombre_recovered    16199\n",
    "Name: 341, dtype: int64"
   ]
  },
  {
   "cell_type": "markdown",
   "id": "4c408f93",
   "metadata": {},
   "source": [
    "nombre_infected       802\n",
    "nombre_sain          2560\n",
    "nombre_exposed        426\n",
    "nombre_recovered    16212\n",
    "Name: 342, dtype: int64"
   ]
  },
  {
   "cell_type": "markdown",
   "id": "e417100f",
   "metadata": {},
   "source": [
    "nombre_infected       780\n",
    "nombre_sain          2538\n",
    "nombre_exposed        438\n",
    "nombre_recovered    16244\n",
    "Name: 343, dtype: int64"
   ]
  },
  {
   "cell_type": "markdown",
   "id": "fdb45c30",
   "metadata": {},
   "source": [
    "nombre_infected       766\n",
    "nombre_sain          2526\n",
    "nombre_exposed        453\n",
    "nombre_recovered    16255\n",
    "Name: 344, dtype: int64"
   ]
  },
  {
   "cell_type": "markdown",
   "id": "2b27c178",
   "metadata": {},
   "source": [
    "nombre_infected       789\n",
    "nombre_sain          2518\n",
    "nombre_exposed        436\n",
    "nombre_recovered    16257\n",
    "Name: 345, dtype: int64"
   ]
  },
  {
   "cell_type": "markdown",
   "id": "6467f5be",
   "metadata": {},
   "source": [
    "nombre_infected       801\n",
    "nombre_sain          2522\n",
    "nombre_exposed        412\n",
    "nombre_recovered    16265\n",
    "Name: 346, dtype: int64"
   ]
  },
  {
   "cell_type": "markdown",
   "id": "f99502ad",
   "metadata": {},
   "source": [
    "nombre_infected       808\n",
    "nombre_sain          2541\n",
    "nombre_exposed        400\n",
    "nombre_recovered    16251\n",
    "Name: 347, dtype: int64"
   ]
  },
  {
   "cell_type": "markdown",
   "id": "49734f47",
   "metadata": {},
   "source": [
    "nombre_infected       793\n",
    "nombre_sain          2557\n",
    "nombre_exposed        391\n",
    "nombre_recovered    16259\n",
    "Name: 348, dtype: int64"
   ]
  },
  {
   "cell_type": "markdown",
   "id": "5afb18d7",
   "metadata": {},
   "source": [
    "nombre_infected       772\n",
    "nombre_sain          2540\n",
    "nombre_exposed        404\n",
    "nombre_recovered    16284\n",
    "Name: 349, dtype: int64"
   ]
  },
  {
   "cell_type": "markdown",
   "id": "bfd2aa97",
   "metadata": {},
   "source": [
    "nombre_infected       756\n",
    "nombre_sain          2521\n",
    "nombre_exposed        427\n",
    "nombre_recovered    16296\n",
    "Name: 350, dtype: int64"
   ]
  },
  {
   "cell_type": "markdown",
   "id": "ae0ac660",
   "metadata": {},
   "source": [
    "nombre_infected       756\n",
    "nombre_sain          2517\n",
    "nombre_exposed        444\n",
    "nombre_recovered    16283\n",
    "Name: 351, dtype: int64"
   ]
  },
  {
   "cell_type": "markdown",
   "id": "49a4d301",
   "metadata": {},
   "source": [
    "nombre_infected       724\n",
    "nombre_sain          2549\n",
    "nombre_exposed        422\n",
    "nombre_recovered    16305\n",
    "Name: 352, dtype: int64"
   ]
  },
  {
   "cell_type": "markdown",
   "id": "bc325c7d",
   "metadata": {},
   "source": [
    "nombre_infected       736\n",
    "nombre_sain          2572\n",
    "nombre_exposed        402\n",
    "nombre_recovered    16290\n",
    "Name: 353, dtype: int64"
   ]
  },
  {
   "cell_type": "markdown",
   "id": "6ff13cb2",
   "metadata": {},
   "source": [
    "nombre_infected       722\n",
    "nombre_sain          2577\n",
    "nombre_exposed        414\n",
    "nombre_recovered    16287\n",
    "Name: 354, dtype: int64"
   ]
  },
  {
   "cell_type": "markdown",
   "id": "0f35aaae",
   "metadata": {},
   "source": [
    "nombre_infected       716\n",
    "nombre_sain          2559\n",
    "nombre_exposed        427\n",
    "nombre_recovered    16298\n",
    "Name: 355, dtype: int64"
   ]
  },
  {
   "cell_type": "markdown",
   "id": "b6144d33",
   "metadata": {},
   "source": [
    "nombre_infected       732\n",
    "nombre_sain          2551\n",
    "nombre_exposed        439\n",
    "nombre_recovered    16278\n",
    "Name: 356, dtype: int64"
   ]
  },
  {
   "cell_type": "markdown",
   "id": "c956d4b0",
   "metadata": {},
   "source": [
    "nombre_infected       738\n",
    "nombre_sain          2532\n",
    "nombre_exposed        441\n",
    "nombre_recovered    16289\n",
    "Name: 357, dtype: int64"
   ]
  },
  {
   "cell_type": "markdown",
   "id": "aa5fc022",
   "metadata": {},
   "source": [
    "nombre_infected       754\n",
    "nombre_sain          2543\n",
    "nombre_exposed        435\n",
    "nombre_recovered    16268\n",
    "Name: 358, dtype: int64"
   ]
  },
  {
   "cell_type": "markdown",
   "id": "f1731814",
   "metadata": {},
   "source": [
    "nombre_infected       763\n",
    "nombre_sain          2518\n",
    "nombre_exposed        436\n",
    "nombre_recovered    16283\n",
    "Name: 359, dtype: int64"
   ]
  },
  {
   "cell_type": "markdown",
   "id": "089a0ad4",
   "metadata": {},
   "source": [
    "nombre_infected       769\n",
    "nombre_sain          2515\n",
    "nombre_exposed        452\n",
    "nombre_recovered    16264\n",
    "Name: 360, dtype: int64"
   ]
  },
  {
   "cell_type": "markdown",
   "id": "64fd4437",
   "metadata": {},
   "source": [
    "nombre_infected       752\n",
    "nombre_sain          2477\n",
    "nombre_exposed        474\n",
    "nombre_recovered    16297\n",
    "Name: 361, dtype: int64"
   ]
  },
  {
   "cell_type": "markdown",
   "id": "6b957283",
   "metadata": {},
   "source": [
    "nombre_infected       752\n",
    "nombre_sain          2457\n",
    "nombre_exposed        474\n",
    "nombre_recovered    16317\n",
    "Name: 362, dtype: int64"
   ]
  },
  {
   "cell_type": "markdown",
   "id": "112950a9",
   "metadata": {},
   "source": [
    "nombre_infected       755\n",
    "nombre_sain          2452\n",
    "nombre_exposed        464\n",
    "nombre_recovered    16329\n",
    "Name: 363, dtype: int64"
   ]
  },
  {
   "cell_type": "markdown",
   "id": "d7ab1415",
   "metadata": {},
   "source": [
    "nombre_infected       749\n",
    "nombre_sain          2480\n",
    "nombre_exposed        466\n",
    "nombre_recovered    16305\n",
    "Name: 364, dtype: int64"
   ]
  },
  {
   "cell_type": "markdown",
   "id": "a07aeeec",
   "metadata": {},
   "source": [
    "nombre_infected       744\n",
    "nombre_sain          2470\n",
    "nombre_exposed        468\n",
    "nombre_recovered    16318\n",
    "Name: 365, dtype: int64"
   ]
  },
  {
   "cell_type": "markdown",
   "id": "91ed6c19",
   "metadata": {},
   "source": [
    "nombre_infected       737\n",
    "nombre_sain          2455\n",
    "nombre_exposed        471\n",
    "nombre_recovered    16337\n",
    "Name: 366, dtype: int64"
   ]
  },
  {
   "cell_type": "markdown",
   "id": "ba8ffd20",
   "metadata": {},
   "source": [
    "nombre_infected       738\n",
    "nombre_sain          2471\n",
    "nombre_exposed        459\n",
    "nombre_recovered    16332\n",
    "Name: 367, dtype: int64"
   ]
  },
  {
   "cell_type": "markdown",
   "id": "9bc884c7",
   "metadata": {},
   "source": [
    "nombre_infected       743\n",
    "nombre_sain          2481\n",
    "nombre_exposed        434\n",
    "nombre_recovered    16342\n",
    "Name: 368, dtype: int64"
   ]
  },
  {
   "cell_type": "markdown",
   "id": "16b2ab03",
   "metadata": {},
   "source": [
    "nombre_infected       742\n",
    "nombre_sain          2471\n",
    "nombre_exposed        434\n",
    "nombre_recovered    16353\n",
    "Name: 369, dtype: int64"
   ]
  },
  {
   "cell_type": "markdown",
   "id": "28ff9ac8",
   "metadata": {},
   "source": [
    "nombre_infected       727\n",
    "nombre_sain          2467\n",
    "nombre_exposed        445\n",
    "nombre_recovered    16361\n",
    "Name: 370, dtype: int64"
   ]
  },
  {
   "cell_type": "markdown",
   "id": "c49703ef",
   "metadata": {},
   "source": [
    "nombre_infected       746\n",
    "nombre_sain          2444\n",
    "nombre_exposed        446\n",
    "nombre_recovered    16364\n",
    "Name: 371, dtype: int64"
   ]
  },
  {
   "cell_type": "markdown",
   "id": "fb396235",
   "metadata": {},
   "source": [
    "nombre_infected       744\n",
    "nombre_sain          2451\n",
    "nombre_exposed        433\n",
    "nombre_recovered    16372\n",
    "Name: 372, dtype: int64"
   ]
  },
  {
   "cell_type": "markdown",
   "id": "c86bbf60",
   "metadata": {},
   "source": [
    "nombre_infected       748\n",
    "nombre_sain          2467\n",
    "nombre_exposed        418\n",
    "nombre_recovered    16367\n",
    "Name: 373, dtype: int64"
   ]
  },
  {
   "cell_type": "markdown",
   "id": "41b4bc62",
   "metadata": {},
   "source": [
    "nombre_infected       721\n",
    "nombre_sain          2459\n",
    "nombre_exposed        438\n",
    "nombre_recovered    16382\n",
    "Name: 374, dtype: int64"
   ]
  },
  {
   "cell_type": "markdown",
   "id": "87d229f3",
   "metadata": {},
   "source": [
    "nombre_infected       729\n",
    "nombre_sain          2471\n",
    "nombre_exposed        423\n",
    "nombre_recovered    16377\n",
    "Name: 375, dtype: int64"
   ]
  },
  {
   "cell_type": "markdown",
   "id": "67fb3eec",
   "metadata": {},
   "source": [
    "nombre_infected       735\n",
    "nombre_sain          2417\n",
    "nombre_exposed        460\n",
    "nombre_recovered    16388\n",
    "Name: 376, dtype: int64"
   ]
  },
  {
   "cell_type": "markdown",
   "id": "79c4f882",
   "metadata": {},
   "source": [
    "nombre_infected       735\n",
    "nombre_sain          2419\n",
    "nombre_exposed        478\n",
    "nombre_recovered    16368\n",
    "Name: 377, dtype: int64"
   ]
  },
  {
   "cell_type": "markdown",
   "id": "e6ac9f9b",
   "metadata": {},
   "source": [
    "nombre_infected       731\n",
    "nombre_sain          2441\n",
    "nombre_exposed        474\n",
    "nombre_recovered    16354\n",
    "Name: 378, dtype: int64"
   ]
  },
  {
   "cell_type": "markdown",
   "id": "22b6ca80",
   "metadata": {},
   "source": [
    "nombre_infected       744\n",
    "nombre_sain          2424\n",
    "nombre_exposed        474\n",
    "nombre_recovered    16358\n",
    "Name: 379, dtype: int64"
   ]
  },
  {
   "cell_type": "markdown",
   "id": "a105fb97",
   "metadata": {},
   "source": [
    "nombre_infected       763\n",
    "nombre_sain          2413\n",
    "nombre_exposed        476\n",
    "nombre_recovered    16348\n",
    "Name: 380, dtype: int64"
   ]
  },
  {
   "cell_type": "markdown",
   "id": "ebe642aa",
   "metadata": {},
   "source": [
    "nombre_infected       777\n",
    "nombre_sain          2417\n",
    "nombre_exposed        458\n",
    "nombre_recovered    16348\n",
    "Name: 381, dtype: int64"
   ]
  },
  {
   "cell_type": "markdown",
   "id": "0ebc9672",
   "metadata": {},
   "source": [
    "nombre_infected       772\n",
    "nombre_sain          2419\n",
    "nombre_exposed        466\n",
    "nombre_recovered    16343\n",
    "Name: 382, dtype: int64"
   ]
  },
  {
   "cell_type": "markdown",
   "id": "c042fbac",
   "metadata": {},
   "source": [
    "nombre_infected       761\n",
    "nombre_sain          2385\n",
    "nombre_exposed        503\n",
    "nombre_recovered    16351\n",
    "Name: 383, dtype: int64"
   ]
  },
  {
   "cell_type": "markdown",
   "id": "92bbe967",
   "metadata": {},
   "source": [
    "nombre_infected       776\n",
    "nombre_sain          2392\n",
    "nombre_exposed        497\n",
    "nombre_recovered    16335\n",
    "Name: 384, dtype: int64"
   ]
  },
  {
   "cell_type": "markdown",
   "id": "db1d9184",
   "metadata": {},
   "source": [
    "nombre_infected       791\n",
    "nombre_sain          2376\n",
    "nombre_exposed        507\n",
    "nombre_recovered    16326\n",
    "Name: 385, dtype: int64"
   ]
  },
  {
   "cell_type": "markdown",
   "id": "1df2f716",
   "metadata": {},
   "source": [
    "nombre_infected       817\n",
    "nombre_sain          2377\n",
    "nombre_exposed        506\n",
    "nombre_recovered    16300\n",
    "Name: 386, dtype: int64"
   ]
  },
  {
   "cell_type": "markdown",
   "id": "a50e3a73",
   "metadata": {},
   "source": [
    "nombre_infected       842\n",
    "nombre_sain          2364\n",
    "nombre_exposed        487\n",
    "nombre_recovered    16307\n",
    "Name: 387, dtype: int64"
   ]
  },
  {
   "cell_type": "markdown",
   "id": "5bb89eb1",
   "metadata": {},
   "source": [
    "nombre_infected       848\n",
    "nombre_sain          2364\n",
    "nombre_exposed        492\n",
    "nombre_recovered    16296\n",
    "Name: 388, dtype: int64"
   ]
  },
  {
   "cell_type": "markdown",
   "id": "41752d95",
   "metadata": {},
   "source": [
    "nombre_infected       866\n",
    "nombre_sain          2385\n",
    "nombre_exposed        478\n",
    "nombre_recovered    16271\n",
    "Name: 389, dtype: int64"
   ]
  },
  {
   "cell_type": "markdown",
   "id": "957f8002",
   "metadata": {},
   "source": [
    "nombre_infected       853\n",
    "nombre_sain          2359\n",
    "nombre_exposed        509\n",
    "nombre_recovered    16279\n",
    "Name: 390, dtype: int64"
   ]
  },
  {
   "cell_type": "markdown",
   "id": "55261565",
   "metadata": {},
   "source": [
    "nombre_infected       883\n",
    "nombre_sain          2344\n",
    "nombre_exposed        509\n",
    "nombre_recovered    16264\n",
    "Name: 391, dtype: int64"
   ]
  },
  {
   "cell_type": "markdown",
   "id": "67d41698",
   "metadata": {},
   "source": [
    "nombre_infected       884\n",
    "nombre_sain          2321\n",
    "nombre_exposed        512\n",
    "nombre_recovered    16283\n",
    "Name: 392, dtype: int64"
   ]
  },
  {
   "cell_type": "markdown",
   "id": "824b826a",
   "metadata": {},
   "source": [
    "nombre_infected       875\n",
    "nombre_sain          2317\n",
    "nombre_exposed        495\n",
    "nombre_recovered    16313\n",
    "Name: 393, dtype: int64"
   ]
  },
  {
   "cell_type": "markdown",
   "id": "e07e9d42",
   "metadata": {},
   "source": [
    "nombre_infected       865\n",
    "nombre_sain          2332\n",
    "nombre_exposed        472\n",
    "nombre_recovered    16331\n",
    "Name: 394, dtype: int64"
   ]
  },
  {
   "cell_type": "markdown",
   "id": "7b6d066e",
   "metadata": {},
   "source": [
    "nombre_infected       877\n",
    "nombre_sain          2320\n",
    "nombre_exposed        470\n",
    "nombre_recovered    16333\n",
    "Name: 395, dtype: int64"
   ]
  },
  {
   "cell_type": "markdown",
   "id": "6b41d3d5",
   "metadata": {},
   "source": [
    "nombre_infected       888\n",
    "nombre_sain          2305\n",
    "nombre_exposed        479\n",
    "nombre_recovered    16328\n",
    "Name: 396, dtype: int64"
   ]
  },
  {
   "cell_type": "markdown",
   "id": "ca55420a",
   "metadata": {},
   "source": [
    "nombre_infected       877\n",
    "nombre_sain          2280\n",
    "nombre_exposed        480\n",
    "nombre_recovered    16363\n",
    "Name: 397, dtype: int64"
   ]
  },
  {
   "cell_type": "markdown",
   "id": "2f098766",
   "metadata": {},
   "source": [
    "nombre_infected       872\n",
    "nombre_sain          2246\n",
    "nombre_exposed        508\n",
    "nombre_recovered    16374\n",
    "Name: 398, dtype: int64"
   ]
  },
  {
   "cell_type": "markdown",
   "id": "849a218d",
   "metadata": {},
   "source": [
    "nombre_infected       887\n",
    "nombre_sain          2257\n",
    "nombre_exposed        507\n",
    "nombre_recovered    16349\n",
    "Name: 399, dtype: int64"
   ]
  },
  {
   "cell_type": "markdown",
   "id": "792bab21",
   "metadata": {},
   "source": [
    "nombre_infected       877\n",
    "nombre_sain          2254\n",
    "nombre_exposed        498\n",
    "nombre_recovered    16371\n",
    "Name: 400, dtype: int64"
   ]
  },
  {
   "cell_type": "markdown",
   "id": "ee271810",
   "metadata": {},
   "source": [
    "nombre_infected       877\n",
    "nombre_sain          2262\n",
    "nombre_exposed        492\n",
    "nombre_recovered    16369\n",
    "Name: 401, dtype: int64"
   ]
  },
  {
   "cell_type": "markdown",
   "id": "a222a41c",
   "metadata": {},
   "source": [
    "nombre_infected       890\n",
    "nombre_sain          2264\n",
    "nombre_exposed        497\n",
    "nombre_recovered    16349\n",
    "Name: 402, dtype: int64"
   ]
  },
  {
   "cell_type": "markdown",
   "id": "376048ec",
   "metadata": {},
   "source": [
    "nombre_infected       858\n",
    "nombre_sain          2305\n",
    "nombre_exposed        473\n",
    "nombre_recovered    16364\n",
    "Name: 403, dtype: int64"
   ]
  },
  {
   "cell_type": "markdown",
   "id": "f57c83c3",
   "metadata": {},
   "source": [
    "nombre_infected       880\n",
    "nombre_sain          2325\n",
    "nombre_exposed        458\n",
    "nombre_recovered    16337\n",
    "Name: 404, dtype: int64"
   ]
  },
  {
   "cell_type": "markdown",
   "id": "157ca0d6",
   "metadata": {},
   "source": [
    "nombre_infected       867\n",
    "nombre_sain          2316\n",
    "nombre_exposed        462\n",
    "nombre_recovered    16355\n",
    "Name: 405, dtype: int64"
   ]
  },
  {
   "cell_type": "markdown",
   "id": "c443a068",
   "metadata": {},
   "source": [
    "nombre_infected       838\n",
    "nombre_sain          2310\n",
    "nombre_exposed        455\n",
    "nombre_recovered    16397\n",
    "Name: 406, dtype: int64"
   ]
  },
  {
   "cell_type": "markdown",
   "id": "dd34b64a",
   "metadata": {},
   "source": [
    "nombre_infected       833\n",
    "nombre_sain          2322\n",
    "nombre_exposed        461\n",
    "nombre_recovered    16384\n",
    "Name: 407, dtype: int64"
   ]
  },
  {
   "cell_type": "markdown",
   "id": "30312c8a",
   "metadata": {},
   "source": [
    "nombre_infected       841\n",
    "nombre_sain          2339\n",
    "nombre_exposed        457\n",
    "nombre_recovered    16363\n",
    "Name: 408, dtype: int64"
   ]
  },
  {
   "cell_type": "markdown",
   "id": "705870a4",
   "metadata": {},
   "source": [
    "nombre_infected       849\n",
    "nombre_sain          2335\n",
    "nombre_exposed        462\n",
    "nombre_recovered    16354\n",
    "Name: 409, dtype: int64"
   ]
  },
  {
   "cell_type": "markdown",
   "id": "ab5976ec",
   "metadata": {},
   "source": [
    "nombre_infected       849\n",
    "nombre_sain          2305\n",
    "nombre_exposed        483\n",
    "nombre_recovered    16363\n",
    "Name: 410, dtype: int64"
   ]
  },
  {
   "cell_type": "markdown",
   "id": "17fbe3ca",
   "metadata": {},
   "source": [
    "nombre_infected       846\n",
    "nombre_sain          2335\n",
    "nombre_exposed        483\n",
    "nombre_recovered    16336\n",
    "Name: 411, dtype: int64"
   ]
  },
  {
   "cell_type": "markdown",
   "id": "a297147f",
   "metadata": {},
   "source": [
    "nombre_infected       857\n",
    "nombre_sain          2334\n",
    "nombre_exposed        477\n",
    "nombre_recovered    16332\n",
    "Name: 412, dtype: int64"
   ]
  },
  {
   "cell_type": "markdown",
   "id": "0b196662",
   "metadata": {},
   "source": [
    "nombre_infected       855\n",
    "nombre_sain          2337\n",
    "nombre_exposed        492\n",
    "nombre_recovered    16316\n",
    "Name: 413, dtype: int64"
   ]
  },
  {
   "cell_type": "markdown",
   "id": "4d75f9ce",
   "metadata": {},
   "source": [
    "nombre_infected       856\n",
    "nombre_sain          2344\n",
    "nombre_exposed        481\n",
    "nombre_recovered    16319\n",
    "Name: 414, dtype: int64"
   ]
  },
  {
   "cell_type": "markdown",
   "id": "1f4a184d",
   "metadata": {},
   "source": [
    "nombre_infected       856\n",
    "nombre_sain          2332\n",
    "nombre_exposed        490\n",
    "nombre_recovered    16322\n",
    "Name: 415, dtype: int64"
   ]
  },
  {
   "cell_type": "markdown",
   "id": "ae19a521",
   "metadata": {},
   "source": [
    "nombre_infected       852\n",
    "nombre_sain          2317\n",
    "nombre_exposed        514\n",
    "nombre_recovered    16317\n",
    "Name: 416, dtype: int64"
   ]
  },
  {
   "cell_type": "markdown",
   "id": "af613ed2",
   "metadata": {},
   "source": [
    "nombre_infected       880\n",
    "nombre_sain          2294\n",
    "nombre_exposed        517\n",
    "nombre_recovered    16309\n",
    "Name: 417, dtype: int64"
   ]
  },
  {
   "cell_type": "markdown",
   "id": "c602e31b",
   "metadata": {},
   "source": [
    "nombre_infected       894\n",
    "nombre_sain          2278\n",
    "nombre_exposed        518\n",
    "nombre_recovered    16310\n",
    "Name: 418, dtype: int64"
   ]
  },
  {
   "cell_type": "markdown",
   "id": "52ebf0f4",
   "metadata": {},
   "source": [
    "nombre_infected       867\n",
    "nombre_sain          2264\n",
    "nombre_exposed        528\n",
    "nombre_recovered    16341\n",
    "Name: 419, dtype: int64"
   ]
  },
  {
   "cell_type": "markdown",
   "id": "905c94f5",
   "metadata": {},
   "source": [
    "nombre_infected       875\n",
    "nombre_sain          2281\n",
    "nombre_exposed        495\n",
    "nombre_recovered    16349\n",
    "Name: 420, dtype: int64"
   ]
  },
  {
   "cell_type": "markdown",
   "id": "3bd20777",
   "metadata": {},
   "source": [
    "nombre_infected       904\n",
    "nombre_sain          2293\n",
    "nombre_exposed        478\n",
    "nombre_recovered    16325\n",
    "Name: 421, dtype: int64"
   ]
  },
  {
   "cell_type": "markdown",
   "id": "db0272d7",
   "metadata": {},
   "source": [
    "nombre_infected       913\n",
    "nombre_sain          2294\n",
    "nombre_exposed        469\n",
    "nombre_recovered    16324\n",
    "Name: 422, dtype: int64"
   ]
  },
  {
   "cell_type": "markdown",
   "id": "a95c0121",
   "metadata": {},
   "source": [
    "nombre_infected       939\n",
    "nombre_sain          2285\n",
    "nombre_exposed        476\n",
    "nombre_recovered    16300\n",
    "Name: 423, dtype: int64"
   ]
  },
  {
   "cell_type": "markdown",
   "id": "391e91f3",
   "metadata": {},
   "source": [
    "nombre_infected       910\n",
    "nombre_sain          2274\n",
    "nombre_exposed        500\n",
    "nombre_recovered    16316\n",
    "Name: 424, dtype: int64"
   ]
  },
  {
   "cell_type": "markdown",
   "id": "8f71ba45",
   "metadata": {},
   "source": [
    "nombre_infected       889\n",
    "nombre_sain          2263\n",
    "nombre_exposed        502\n",
    "nombre_recovered    16346\n",
    "Name: 425, dtype: int64"
   ]
  },
  {
   "cell_type": "markdown",
   "id": "6acb39fc",
   "metadata": {},
   "source": [
    "nombre_infected       902\n",
    "nombre_sain          2263\n",
    "nombre_exposed        504\n",
    "nombre_recovered    16331\n",
    "Name: 426, dtype: int64"
   ]
  },
  {
   "cell_type": "markdown",
   "id": "c374ff13",
   "metadata": {},
   "source": [
    "nombre_infected       913\n",
    "nombre_sain          2256\n",
    "nombre_exposed        500\n",
    "nombre_recovered    16331\n",
    "Name: 427, dtype: int64"
   ]
  },
  {
   "cell_type": "markdown",
   "id": "a058ffa9",
   "metadata": {},
   "source": [
    "nombre_infected       922\n",
    "nombre_sain          2244\n",
    "nombre_exposed        516\n",
    "nombre_recovered    16318\n",
    "Name: 428, dtype: int64"
   ]
  },
  {
   "cell_type": "markdown",
   "id": "d5317220",
   "metadata": {},
   "source": [
    "nombre_infected       926\n",
    "nombre_sain          2243\n",
    "nombre_exposed        526\n",
    "nombre_recovered    16305\n",
    "Name: 429, dtype: int64"
   ]
  },
  {
   "cell_type": "markdown",
   "id": "01c3b890",
   "metadata": {},
   "source": [
    "nombre_infected       960\n",
    "nombre_sain          2278\n",
    "nombre_exposed        498\n",
    "nombre_recovered    16264\n",
    "Name: 430, dtype: int64"
   ]
  },
  {
   "cell_type": "markdown",
   "id": "3940babb",
   "metadata": {},
   "source": [
    "nombre_infected       962\n",
    "nombre_sain          2262\n",
    "nombre_exposed        536\n",
    "nombre_recovered    16240\n",
    "Name: 431, dtype: int64"
   ]
  },
  {
   "cell_type": "markdown",
   "id": "2e7241c5",
   "metadata": {},
   "source": [
    "nombre_infected       929\n",
    "nombre_sain          2278\n",
    "nombre_exposed        556\n",
    "nombre_recovered    16237\n",
    "Name: 432, dtype: int64"
   ]
  },
  {
   "cell_type": "markdown",
   "id": "68610e8d",
   "metadata": {},
   "source": [
    "nombre_infected       950\n",
    "nombre_sain          2307\n",
    "nombre_exposed        535\n",
    "nombre_recovered    16208\n",
    "Name: 433, dtype: int64"
   ]
  },
  {
   "cell_type": "markdown",
   "id": "b70f898a",
   "metadata": {},
   "source": [
    "nombre_infected       972\n",
    "nombre_sain          2321\n",
    "nombre_exposed        511\n",
    "nombre_recovered    16196\n",
    "Name: 434, dtype: int64"
   ]
  },
  {
   "cell_type": "markdown",
   "id": "a7b2a683",
   "metadata": {},
   "source": [
    "nombre_infected       976\n",
    "nombre_sain          2311\n",
    "nombre_exposed        517\n",
    "nombre_recovered    16196\n",
    "Name: 435, dtype: int64"
   ]
  },
  {
   "cell_type": "markdown",
   "id": "7ed5b7fd",
   "metadata": {},
   "source": [
    "nombre_infected       985\n",
    "nombre_sain          2324\n",
    "nombre_exposed        510\n",
    "nombre_recovered    16181\n",
    "Name: 436, dtype: int64"
   ]
  },
  {
   "cell_type": "markdown",
   "id": "0d4f785f",
   "metadata": {},
   "source": [
    "nombre_infected       983\n",
    "nombre_sain          2325\n",
    "nombre_exposed        523\n",
    "nombre_recovered    16169\n",
    "Name: 437, dtype: int64"
   ]
  },
  {
   "cell_type": "markdown",
   "id": "8286dcc7",
   "metadata": {},
   "source": [
    "nombre_infected       990\n",
    "nombre_sain          2317\n",
    "nombre_exposed        546\n",
    "nombre_recovered    16147\n",
    "Name: 438, dtype: int64"
   ]
  },
  {
   "cell_type": "markdown",
   "id": "7fb978ff",
   "metadata": {},
   "source": [
    "nombre_infected      1009\n",
    "nombre_sain          2310\n",
    "nombre_exposed        545\n",
    "nombre_recovered    16136\n",
    "Name: 439, dtype: int64"
   ]
  },
  {
   "cell_type": "markdown",
   "id": "a9bd6520",
   "metadata": {},
   "source": [
    "nombre_infected      1005\n",
    "nombre_sain          2309\n",
    "nombre_exposed        568\n",
    "nombre_recovered    16118\n",
    "Name: 440, dtype: int64"
   ]
  },
  {
   "cell_type": "markdown",
   "id": "855c952e",
   "metadata": {},
   "source": [
    "nombre_infected      1016\n",
    "nombre_sain          2305\n",
    "nombre_exposed        566\n",
    "nombre_recovered    16113\n",
    "Name: 441, dtype: int64"
   ]
  },
  {
   "cell_type": "markdown",
   "id": "1c710792",
   "metadata": {},
   "source": [
    "nombre_infected      1043\n",
    "nombre_sain          2299\n",
    "nombre_exposed        575\n",
    "nombre_recovered    16083\n",
    "Name: 442, dtype: int64"
   ]
  },
  {
   "cell_type": "markdown",
   "id": "ebf2a658",
   "metadata": {},
   "source": [
    "nombre_infected      1031\n",
    "nombre_sain          2277\n",
    "nombre_exposed        606\n",
    "nombre_recovered    16086\n",
    "Name: 443, dtype: int64"
   ]
  },
  {
   "cell_type": "markdown",
   "id": "12efd641",
   "metadata": {},
   "source": [
    "nombre_infected      1049\n",
    "nombre_sain          2243\n",
    "nombre_exposed        599\n",
    "nombre_recovered    16109\n",
    "Name: 444, dtype: int64"
   ]
  },
  {
   "cell_type": "markdown",
   "id": "04edad9e",
   "metadata": {},
   "source": [
    "nombre_infected      1064\n",
    "nombre_sain          2253\n",
    "nombre_exposed        568\n",
    "nombre_recovered    16115\n",
    "Name: 445, dtype: int64"
   ]
  },
  {
   "cell_type": "markdown",
   "id": "81922e34",
   "metadata": {},
   "source": [
    "nombre_infected      1031\n",
    "nombre_sain          2240\n",
    "nombre_exposed        578\n",
    "nombre_recovered    16151\n",
    "Name: 446, dtype: int64"
   ]
  },
  {
   "cell_type": "markdown",
   "id": "7aca1a73",
   "metadata": {},
   "source": [
    "nombre_infected      1015\n",
    "nombre_sain          2256\n",
    "nombre_exposed        576\n",
    "nombre_recovered    16153\n",
    "Name: 447, dtype: int64"
   ]
  },
  {
   "cell_type": "markdown",
   "id": "683374e6",
   "metadata": {},
   "source": [
    "nombre_infected      1039\n",
    "nombre_sain          2258\n",
    "nombre_exposed        564\n",
    "nombre_recovered    16139\n",
    "Name: 448, dtype: int64"
   ]
  },
  {
   "cell_type": "markdown",
   "id": "141be00d",
   "metadata": {},
   "source": [
    "nombre_infected      1024\n",
    "nombre_sain          2208\n",
    "nombre_exposed        594\n",
    "nombre_recovered    16174\n",
    "Name: 449, dtype: int64"
   ]
  },
  {
   "cell_type": "markdown",
   "id": "7f650605",
   "metadata": {},
   "source": [
    "nombre_infected      1031\n",
    "nombre_sain          2203\n",
    "nombre_exposed        580\n",
    "nombre_recovered    16186\n",
    "Name: 450, dtype: int64"
   ]
  },
  {
   "cell_type": "markdown",
   "id": "544eb30a",
   "metadata": {},
   "source": [
    "nombre_infected      1018\n",
    "nombre_sain          2206\n",
    "nombre_exposed        580\n",
    "nombre_recovered    16196\n",
    "Name: 451, dtype: int64"
   ]
  },
  {
   "cell_type": "markdown",
   "id": "57e51004",
   "metadata": {},
   "source": [
    "nombre_infected      1036\n",
    "nombre_sain          2201\n",
    "nombre_exposed        572\n",
    "nombre_recovered    16191\n",
    "Name: 452, dtype: int64"
   ]
  },
  {
   "cell_type": "markdown",
   "id": "1daefa47",
   "metadata": {},
   "source": [
    "nombre_infected      1061\n",
    "nombre_sain          2167\n",
    "nombre_exposed        565\n",
    "nombre_recovered    16207\n",
    "Name: 453, dtype: int64"
   ]
  },
  {
   "cell_type": "markdown",
   "id": "d61cf0c6",
   "metadata": {},
   "source": [
    "nombre_infected      1047\n",
    "nombre_sain          2157\n",
    "nombre_exposed        588\n",
    "nombre_recovered    16208\n",
    "Name: 454, dtype: int64"
   ]
  },
  {
   "cell_type": "markdown",
   "id": "f50c5c7f",
   "metadata": {},
   "source": [
    "nombre_infected      1048\n",
    "nombre_sain          2158\n",
    "nombre_exposed        563\n",
    "nombre_recovered    16231\n",
    "Name: 455, dtype: int64"
   ]
  },
  {
   "cell_type": "markdown",
   "id": "996cd656",
   "metadata": {},
   "source": [
    "nombre_infected      1058\n",
    "nombre_sain          2128\n",
    "nombre_exposed        570\n",
    "nombre_recovered    16244\n",
    "Name: 456, dtype: int64"
   ]
  },
  {
   "cell_type": "markdown",
   "id": "17ab6ca0",
   "metadata": {},
   "source": [
    "nombre_infected      1058\n",
    "nombre_sain          2136\n",
    "nombre_exposed        551\n",
    "nombre_recovered    16255\n",
    "Name: 457, dtype: int64"
   ]
  },
  {
   "cell_type": "markdown",
   "id": "0e8f9a72",
   "metadata": {},
   "source": [
    "nombre_infected      1076\n",
    "nombre_sain          2113\n",
    "nombre_exposed        547\n",
    "nombre_recovered    16264\n",
    "Name: 458, dtype: int64"
   ]
  },
  {
   "cell_type": "markdown",
   "id": "394482a4",
   "metadata": {},
   "source": [
    "nombre_infected      1059\n",
    "nombre_sain          2111\n",
    "nombre_exposed        560\n",
    "nombre_recovered    16270\n",
    "Name: 459, dtype: int64"
   ]
  },
  {
   "cell_type": "markdown",
   "id": "bb36a3c1",
   "metadata": {},
   "source": [
    "nombre_infected      1070\n",
    "nombre_sain          2063\n",
    "nombre_exposed        562\n",
    "nombre_recovered    16305\n",
    "Name: 460, dtype: int64"
   ]
  },
  {
   "cell_type": "markdown",
   "id": "f30ce381",
   "metadata": {},
   "source": [
    "nombre_infected      1033\n",
    "nombre_sain          2072\n",
    "nombre_exposed        570\n",
    "nombre_recovered    16325\n",
    "Name: 461, dtype: int64"
   ]
  },
  {
   "cell_type": "markdown",
   "id": "ae3025f7",
   "metadata": {},
   "source": [
    "nombre_infected      1020\n",
    "nombre_sain          2061\n",
    "nombre_exposed        554\n",
    "nombre_recovered    16365\n",
    "Name: 462, dtype: int64"
   ]
  },
  {
   "cell_type": "markdown",
   "id": "c9a35193",
   "metadata": {},
   "source": [
    "nombre_infected      1000\n",
    "nombre_sain          2065\n",
    "nombre_exposed        535\n",
    "nombre_recovered    16400\n",
    "Name: 463, dtype: int64"
   ]
  },
  {
   "cell_type": "markdown",
   "id": "ea2e454e",
   "metadata": {},
   "source": [
    "nombre_infected      1005\n",
    "nombre_sain          2049\n",
    "nombre_exposed        525\n",
    "nombre_recovered    16421\n",
    "Name: 464, dtype: int64"
   ]
  },
  {
   "cell_type": "markdown",
   "id": "7af5e52b",
   "metadata": {},
   "source": [
    "nombre_infected      1012\n",
    "nombre_sain          2031\n",
    "nombre_exposed        519\n",
    "nombre_recovered    16438\n",
    "Name: 465, dtype: int64"
   ]
  },
  {
   "cell_type": "markdown",
   "id": "4315219d",
   "metadata": {},
   "source": [
    "nombre_infected       992\n",
    "nombre_sain          2043\n",
    "nombre_exposed        513\n",
    "nombre_recovered    16452\n",
    "Name: 466, dtype: int64"
   ]
  },
  {
   "cell_type": "markdown",
   "id": "5d0b2659",
   "metadata": {},
   "source": [
    "nombre_infected       989\n",
    "nombre_sain          2028\n",
    "nombre_exposed        504\n",
    "nombre_recovered    16479\n",
    "Name: 467, dtype: int64"
   ]
  },
  {
   "cell_type": "markdown",
   "id": "f8360435",
   "metadata": {},
   "source": [
    "nombre_infected       974\n",
    "nombre_sain          2005\n",
    "nombre_exposed        525\n",
    "nombre_recovered    16496\n",
    "Name: 468, dtype: int64"
   ]
  },
  {
   "cell_type": "markdown",
   "id": "110adcf2",
   "metadata": {},
   "source": [
    "nombre_infected       976\n",
    "nombre_sain          1992\n",
    "nombre_exposed        520\n",
    "nombre_recovered    16512\n",
    "Name: 469, dtype: int64"
   ]
  },
  {
   "cell_type": "markdown",
   "id": "b2158218",
   "metadata": {},
   "source": [
    "nombre_infected       953\n",
    "nombre_sain          2001\n",
    "nombre_exposed        531\n",
    "nombre_recovered    16515\n",
    "Name: 470, dtype: int64"
   ]
  },
  {
   "cell_type": "markdown",
   "id": "3c5b2412",
   "metadata": {},
   "source": [
    "nombre_infected       973\n",
    "nombre_sain          1995\n",
    "nombre_exposed        506\n",
    "nombre_recovered    16526\n",
    "Name: 471, dtype: int64"
   ]
  },
  {
   "cell_type": "markdown",
   "id": "449cb7f6",
   "metadata": {},
   "source": [
    "nombre_infected       979\n",
    "nombre_sain          2001\n",
    "nombre_exposed        483\n",
    "nombre_recovered    16537\n",
    "Name: 472, dtype: int64"
   ]
  },
  {
   "cell_type": "markdown",
   "id": "59cefefa",
   "metadata": {},
   "source": [
    "nombre_infected       972\n",
    "nombre_sain          2029\n",
    "nombre_exposed        438\n",
    "nombre_recovered    16561\n",
    "Name: 473, dtype: int64"
   ]
  },
  {
   "cell_type": "markdown",
   "id": "9bb9bec4",
   "metadata": {},
   "source": [
    "nombre_infected       958\n",
    "nombre_sain          2019\n",
    "nombre_exposed        439\n",
    "nombre_recovered    16584\n",
    "Name: 474, dtype: int64"
   ]
  },
  {
   "cell_type": "markdown",
   "id": "6c26f873",
   "metadata": {},
   "source": [
    "nombre_infected       939\n",
    "nombre_sain          2026\n",
    "nombre_exposed        431\n",
    "nombre_recovered    16604\n",
    "Name: 475, dtype: int64"
   ]
  },
  {
   "cell_type": "markdown",
   "id": "9bb9e93e",
   "metadata": {},
   "source": [
    "nombre_infected       946\n",
    "nombre_sain          2018\n",
    "nombre_exposed        439\n",
    "nombre_recovered    16597\n",
    "Name: 476, dtype: int64"
   ]
  },
  {
   "cell_type": "markdown",
   "id": "71d88ee2",
   "metadata": {},
   "source": [
    "nombre_infected       939\n",
    "nombre_sain          2011\n",
    "nombre_exposed        432\n",
    "nombre_recovered    16618\n",
    "Name: 477, dtype: int64"
   ]
  },
  {
   "cell_type": "markdown",
   "id": "dd0832d6",
   "metadata": {},
   "source": [
    "nombre_infected       903\n",
    "nombre_sain          2011\n",
    "nombre_exposed        433\n",
    "nombre_recovered    16653\n",
    "Name: 478, dtype: int64"
   ]
  },
  {
   "cell_type": "markdown",
   "id": "0741df1e",
   "metadata": {},
   "source": [
    "nombre_infected       902\n",
    "nombre_sain          2030\n",
    "nombre_exposed        428\n",
    "nombre_recovered    16640\n",
    "Name: 479, dtype: int64"
   ]
  },
  {
   "cell_type": "markdown",
   "id": "eede8dee",
   "metadata": {},
   "source": [
    "nombre_infected       854\n",
    "nombre_sain          2019\n",
    "nombre_exposed        451\n",
    "nombre_recovered    16676\n",
    "Name: 480, dtype: int64"
   ]
  },
  {
   "cell_type": "markdown",
   "id": "fbe7e127",
   "metadata": {},
   "source": [
    "nombre_infected       850\n",
    "nombre_sain          2040\n",
    "nombre_exposed        438\n",
    "nombre_recovered    16672\n",
    "Name: 481, dtype: int64"
   ]
  },
  {
   "cell_type": "markdown",
   "id": "0b952552",
   "metadata": {},
   "source": [
    "nombre_infected       855\n",
    "nombre_sain          2070\n",
    "nombre_exposed        415\n",
    "nombre_recovered    16660\n",
    "Name: 482, dtype: int64"
   ]
  },
  {
   "cell_type": "markdown",
   "id": "63f06c10",
   "metadata": {},
   "source": [
    "nombre_infected       862\n",
    "nombre_sain          2080\n",
    "nombre_exposed        424\n",
    "nombre_recovered    16634\n",
    "Name: 483, dtype: int64"
   ]
  },
  {
   "cell_type": "markdown",
   "id": "7cd6181b",
   "metadata": {},
   "source": [
    "nombre_infected       846\n",
    "nombre_sain          2098\n",
    "nombre_exposed        419\n",
    "nombre_recovered    16637\n",
    "Name: 484, dtype: int64"
   ]
  },
  {
   "cell_type": "markdown",
   "id": "3d7ad98f",
   "metadata": {},
   "source": [
    "nombre_infected       834\n",
    "nombre_sain          2103\n",
    "nombre_exposed        433\n",
    "nombre_recovered    16630\n",
    "Name: 485, dtype: int64"
   ]
  },
  {
   "cell_type": "markdown",
   "id": "f776bdd3",
   "metadata": {},
   "source": [
    "nombre_infected       822\n",
    "nombre_sain          2108\n",
    "nombre_exposed        433\n",
    "nombre_recovered    16637\n",
    "Name: 486, dtype: int64"
   ]
  },
  {
   "cell_type": "markdown",
   "id": "b6b1c47a",
   "metadata": {},
   "source": [
    "nombre_infected       826\n",
    "nombre_sain          2102\n",
    "nombre_exposed        448\n",
    "nombre_recovered    16624\n",
    "Name: 487, dtype: int64"
   ]
  },
  {
   "cell_type": "markdown",
   "id": "4ef0ce2d",
   "metadata": {},
   "source": [
    "nombre_infected       824\n",
    "nombre_sain          2133\n",
    "nombre_exposed        428\n",
    "nombre_recovered    16615\n",
    "Name: 488, dtype: int64"
   ]
  },
  {
   "cell_type": "markdown",
   "id": "61f669f5",
   "metadata": {},
   "source": [
    "nombre_infected       819\n",
    "nombre_sain          2159\n",
    "nombre_exposed        422\n",
    "nombre_recovered    16600\n",
    "Name: 489, dtype: int64"
   ]
  },
  {
   "cell_type": "markdown",
   "id": "99c07a32",
   "metadata": {},
   "source": [
    "nombre_infected       824\n",
    "nombre_sain          2184\n",
    "nombre_exposed        411\n",
    "nombre_recovered    16581\n",
    "Name: 490, dtype: int64"
   ]
  },
  {
   "cell_type": "markdown",
   "id": "e153c668",
   "metadata": {},
   "source": [
    "nombre_infected       810\n",
    "nombre_sain          2196\n",
    "nombre_exposed        415\n",
    "nombre_recovered    16579\n",
    "Name: 491, dtype: int64"
   ]
  },
  {
   "cell_type": "markdown",
   "id": "ffb05b09",
   "metadata": {},
   "source": [
    "nombre_infected       805\n",
    "nombre_sain          2229\n",
    "nombre_exposed        409\n",
    "nombre_recovered    16557\n",
    "Name: 492, dtype: int64"
   ]
  },
  {
   "cell_type": "markdown",
   "id": "d3da4f61",
   "metadata": {},
   "source": [
    "nombre_infected       787\n",
    "nombre_sain          2247\n",
    "nombre_exposed        413\n",
    "nombre_recovered    16553\n",
    "Name: 493, dtype: int64"
   ]
  },
  {
   "cell_type": "markdown",
   "id": "f88788c2",
   "metadata": {},
   "source": [
    "nombre_infected       799\n",
    "nombre_sain          2263\n",
    "nombre_exposed        431\n",
    "nombre_recovered    16507\n",
    "Name: 494, dtype: int64"
   ]
  },
  {
   "cell_type": "markdown",
   "id": "9c2ed946",
   "metadata": {},
   "source": [
    "nombre_infected       790\n",
    "nombre_sain          2263\n",
    "nombre_exposed        432\n",
    "nombre_recovered    16515\n",
    "Name: 495, dtype: int64"
   ]
  },
  {
   "cell_type": "markdown",
   "id": "a62c1f8e",
   "metadata": {},
   "source": [
    "nombre_infected       801\n",
    "nombre_sain          2294\n",
    "nombre_exposed        416\n",
    "nombre_recovered    16489\n",
    "Name: 496, dtype: int64"
   ]
  },
  {
   "cell_type": "markdown",
   "id": "f0e770c6",
   "metadata": {},
   "source": [
    "nombre_infected       802\n",
    "nombre_sain          2311\n",
    "nombre_exposed        412\n",
    "nombre_recovered    16475\n",
    "Name: 497, dtype: int64"
   ]
  },
  {
   "cell_type": "markdown",
   "id": "cfac651f",
   "metadata": {},
   "source": [
    "nombre_infected       817\n",
    "nombre_sain          2319\n",
    "nombre_exposed        418\n",
    "nombre_recovered    16446\n",
    "Name: 498, dtype: int64"
   ]
  },
  {
   "cell_type": "markdown",
   "id": "d58e1b1e",
   "metadata": {},
   "source": [
    "nombre_infected       823\n",
    "nombre_sain          2329\n",
    "nombre_exposed        421\n",
    "nombre_recovered    16427\n",
    "Name: 499, dtype: int64"
   ]
  },
  {
   "cell_type": "markdown",
   "id": "8cf0e254",
   "metadata": {},
   "source": [
    "nombre_infected       821\n",
    "nombre_sain          2347\n",
    "nombre_exposed        425\n",
    "nombre_recovered    16407\n",
    "Name: 500, dtype: int64"
   ]
  },
  {
   "cell_type": "markdown",
   "id": "d72f342f",
   "metadata": {},
   "source": [
    "nombre_infected       827\n",
    "nombre_sain          2344\n",
    "nombre_exposed        445\n",
    "nombre_recovered    16384\n",
    "Name: 501, dtype: int64"
   ]
  },
  {
   "cell_type": "markdown",
   "id": "f47a5747",
   "metadata": {},
   "source": [
    "nombre_infected       830\n",
    "nombre_sain          2366\n",
    "nombre_exposed        448\n",
    "nombre_recovered    16356\n",
    "Name: 502, dtype: int64"
   ]
  },
  {
   "cell_type": "markdown",
   "id": "6eea0bfd",
   "metadata": {},
   "source": [
    "nombre_infected       835\n",
    "nombre_sain          2378\n",
    "nombre_exposed        465\n",
    "nombre_recovered    16322\n",
    "Name: 503, dtype: int64"
   ]
  },
  {
   "cell_type": "markdown",
   "id": "46deadea",
   "metadata": {},
   "source": [
    "nombre_infected       814\n",
    "nombre_sain          2386\n",
    "nombre_exposed        495\n",
    "nombre_recovered    16305\n",
    "Name: 504, dtype: int64"
   ]
  },
  {
   "cell_type": "markdown",
   "id": "148fb620",
   "metadata": {},
   "source": [
    "nombre_infected       846\n",
    "nombre_sain          2386\n",
    "nombre_exposed        475\n",
    "nombre_recovered    16293\n",
    "Name: 505, dtype: int64"
   ]
  },
  {
   "cell_type": "markdown",
   "id": "83570254",
   "metadata": {},
   "source": [
    "nombre_infected       850\n",
    "nombre_sain          2375\n",
    "nombre_exposed        508\n",
    "nombre_recovered    16267\n",
    "Name: 506, dtype: int64"
   ]
  },
  {
   "cell_type": "markdown",
   "id": "f78efa42",
   "metadata": {},
   "source": [
    "nombre_infected       861\n",
    "nombre_sain          2368\n",
    "nombre_exposed        524\n",
    "nombre_recovered    16247\n",
    "Name: 507, dtype: int64"
   ]
  },
  {
   "cell_type": "markdown",
   "id": "cc35bd88",
   "metadata": {},
   "source": [
    "nombre_infected       870\n",
    "nombre_sain          2360\n",
    "nombre_exposed        527\n",
    "nombre_recovered    16243\n",
    "Name: 508, dtype: int64"
   ]
  },
  {
   "cell_type": "markdown",
   "id": "b76a225c",
   "metadata": {},
   "source": [
    "nombre_infected       876\n",
    "nombre_sain          2384\n",
    "nombre_exposed        528\n",
    "nombre_recovered    16212\n",
    "Name: 509, dtype: int64"
   ]
  },
  {
   "cell_type": "markdown",
   "id": "4489c3ae",
   "metadata": {},
   "source": [
    "nombre_infected       878\n",
    "nombre_sain          2398\n",
    "nombre_exposed        516\n",
    "nombre_recovered    16208\n",
    "Name: 510, dtype: int64"
   ]
  },
  {
   "cell_type": "markdown",
   "id": "b9895217",
   "metadata": {},
   "source": [
    "nombre_infected       904\n",
    "nombre_sain          2390\n",
    "nombre_exposed        493\n",
    "nombre_recovered    16213\n",
    "Name: 511, dtype: int64"
   ]
  },
  {
   "cell_type": "markdown",
   "id": "87b1f9b5",
   "metadata": {},
   "source": [
    "nombre_infected       898\n",
    "nombre_sain          2411\n",
    "nombre_exposed        510\n",
    "nombre_recovered    16181\n",
    "Name: 512, dtype: int64"
   ]
  },
  {
   "cell_type": "markdown",
   "id": "eb8fcf9b",
   "metadata": {},
   "source": [
    "nombre_infected       884\n",
    "nombre_sain          2414\n",
    "nombre_exposed        505\n",
    "nombre_recovered    16197\n",
    "Name: 513, dtype: int64"
   ]
  },
  {
   "cell_type": "markdown",
   "id": "8c367de9",
   "metadata": {},
   "source": [
    "nombre_infected       870\n",
    "nombre_sain          2419\n",
    "nombre_exposed        505\n",
    "nombre_recovered    16206\n",
    "Name: 514, dtype: int64"
   ]
  },
  {
   "cell_type": "markdown",
   "id": "915b734c",
   "metadata": {},
   "source": [
    "nombre_infected       850\n",
    "nombre_sain          2431\n",
    "nombre_exposed        524\n",
    "nombre_recovered    16195\n",
    "Name: 515, dtype: int64"
   ]
  },
  {
   "cell_type": "markdown",
   "id": "ee1818d2",
   "metadata": {},
   "source": [
    "nombre_infected       856\n",
    "nombre_sain          2433\n",
    "nombre_exposed        508\n",
    "nombre_recovered    16203\n",
    "Name: 516, dtype: int64"
   ]
  },
  {
   "cell_type": "markdown",
   "id": "958c112a",
   "metadata": {},
   "source": [
    "nombre_infected       858\n",
    "nombre_sain          2421\n",
    "nombre_exposed        533\n",
    "nombre_recovered    16188\n",
    "Name: 517, dtype: int64"
   ]
  },
  {
   "cell_type": "markdown",
   "id": "fd954e3c",
   "metadata": {},
   "source": [
    "nombre_infected       867\n",
    "nombre_sain          2418\n",
    "nombre_exposed        522\n",
    "nombre_recovered    16193\n",
    "Name: 518, dtype: int64"
   ]
  },
  {
   "cell_type": "markdown",
   "id": "ae231a42",
   "metadata": {},
   "source": [
    "nombre_infected       852\n",
    "nombre_sain          2420\n",
    "nombre_exposed        518\n",
    "nombre_recovered    16210\n",
    "Name: 519, dtype: int64"
   ]
  },
  {
   "cell_type": "markdown",
   "id": "3664d7c2",
   "metadata": {},
   "source": [
    "nombre_infected       876\n",
    "nombre_sain          2396\n",
    "nombre_exposed        530\n",
    "nombre_recovered    16198\n",
    "Name: 520, dtype: int64"
   ]
  },
  {
   "cell_type": "markdown",
   "id": "1db965f5",
   "metadata": {},
   "source": [
    "nombre_infected       877\n",
    "nombre_sain          2369\n",
    "nombre_exposed        552\n",
    "nombre_recovered    16202\n",
    "Name: 521, dtype: int64"
   ]
  },
  {
   "cell_type": "markdown",
   "id": "80f786e9",
   "metadata": {},
   "source": [
    "nombre_infected       881\n",
    "nombre_sain          2370\n",
    "nombre_exposed        557\n",
    "nombre_recovered    16192\n",
    "Name: 522, dtype: int64"
   ]
  },
  {
   "cell_type": "markdown",
   "id": "784adb5c",
   "metadata": {},
   "source": [
    "nombre_infected       874\n",
    "nombre_sain          2367\n",
    "nombre_exposed        563\n",
    "nombre_recovered    16196\n",
    "Name: 523, dtype: int64"
   ]
  },
  {
   "cell_type": "markdown",
   "id": "c14013c6",
   "metadata": {},
   "source": [
    "nombre_infected       864\n",
    "nombre_sain          2354\n",
    "nombre_exposed        574\n",
    "nombre_recovered    16208\n",
    "Name: 524, dtype: int64"
   ]
  },
  {
   "cell_type": "markdown",
   "id": "70ef9c19",
   "metadata": {},
   "source": [
    "nombre_infected       834\n",
    "nombre_sain          2343\n",
    "nombre_exposed        586\n",
    "nombre_recovered    16237\n",
    "Name: 525, dtype: int64"
   ]
  },
  {
   "cell_type": "markdown",
   "id": "53b18bde",
   "metadata": {},
   "source": [
    "nombre_infected       829\n",
    "nombre_sain          2332\n",
    "nombre_exposed        582\n",
    "nombre_recovered    16257\n",
    "Name: 526, dtype: int64"
   ]
  },
  {
   "cell_type": "markdown",
   "id": "55d5f824",
   "metadata": {},
   "source": [
    "nombre_infected       855\n",
    "nombre_sain          2331\n",
    "nombre_exposed        557\n",
    "nombre_recovered    16257\n",
    "Name: 527, dtype: int64"
   ]
  },
  {
   "cell_type": "markdown",
   "id": "11458847",
   "metadata": {},
   "source": [
    "nombre_infected       851\n",
    "nombre_sain          2338\n",
    "nombre_exposed        559\n",
    "nombre_recovered    16252\n",
    "Name: 528, dtype: int64"
   ]
  },
  {
   "cell_type": "markdown",
   "id": "2eea8f80",
   "metadata": {},
   "source": [
    "nombre_infected       861\n",
    "nombre_sain          2327\n",
    "nombre_exposed        556\n",
    "nombre_recovered    16256\n",
    "Name: 529, dtype: int64"
   ]
  },
  {
   "cell_type": "markdown",
   "id": "45247442",
   "metadata": {},
   "source": [
    "nombre_infected       870\n",
    "nombre_sain          2316\n",
    "nombre_exposed        567\n",
    "nombre_recovered    16247\n",
    "Name: 530, dtype: int64"
   ]
  },
  {
   "cell_type": "markdown",
   "id": "96c95c45",
   "metadata": {},
   "source": [
    "nombre_infected       881\n",
    "nombre_sain          2327\n",
    "nombre_exposed        556\n",
    "nombre_recovered    16236\n",
    "Name: 531, dtype: int64"
   ]
  },
  {
   "cell_type": "markdown",
   "id": "5b165a02",
   "metadata": {},
   "source": [
    "nombre_infected       905\n",
    "nombre_sain          2331\n",
    "nombre_exposed        538\n",
    "nombre_recovered    16226\n",
    "Name: 532, dtype: int64"
   ]
  },
  {
   "cell_type": "markdown",
   "id": "ddcf9a18",
   "metadata": {},
   "source": [
    "nombre_infected       922\n",
    "nombre_sain          2332\n",
    "nombre_exposed        550\n",
    "nombre_recovered    16196\n",
    "Name: 533, dtype: int64"
   ]
  },
  {
   "cell_type": "markdown",
   "id": "650a4bae",
   "metadata": {},
   "source": [
    "nombre_infected       910\n",
    "nombre_sain          2333\n",
    "nombre_exposed        547\n",
    "nombre_recovered    16210\n",
    "Name: 534, dtype: int64"
   ]
  },
  {
   "cell_type": "markdown",
   "id": "9a2b294a",
   "metadata": {},
   "source": [
    "nombre_infected       934\n",
    "nombre_sain          2285\n",
    "nombre_exposed        558\n",
    "nombre_recovered    16223\n",
    "Name: 535, dtype: int64"
   ]
  },
  {
   "cell_type": "markdown",
   "id": "52ba0e18",
   "metadata": {},
   "source": [
    "nombre_infected       930\n",
    "nombre_sain          2269\n",
    "nombre_exposed        575\n",
    "nombre_recovered    16226\n",
    "Name: 536, dtype: int64"
   ]
  },
  {
   "cell_type": "markdown",
   "id": "c07d5d06",
   "metadata": {},
   "source": [
    "nombre_infected       927\n",
    "nombre_sain          2264\n",
    "nombre_exposed        570\n",
    "nombre_recovered    16239\n",
    "Name: 537, dtype: int64"
   ]
  },
  {
   "cell_type": "markdown",
   "id": "ae6105f0",
   "metadata": {},
   "source": [
    "nombre_infected       936\n",
    "nombre_sain          2260\n",
    "nombre_exposed        562\n",
    "nombre_recovered    16242\n",
    "Name: 538, dtype: int64"
   ]
  },
  {
   "cell_type": "markdown",
   "id": "f79f3851",
   "metadata": {},
   "source": [
    "nombre_infected       956\n",
    "nombre_sain          2263\n",
    "nombre_exposed        585\n",
    "nombre_recovered    16196\n",
    "Name: 539, dtype: int64"
   ]
  },
  {
   "cell_type": "markdown",
   "id": "0876edf3",
   "metadata": {},
   "source": [
    "nombre_infected       962\n",
    "nombre_sain          2283\n",
    "nombre_exposed        576\n",
    "nombre_recovered    16179\n",
    "Name: 540, dtype: int64"
   ]
  },
  {
   "cell_type": "markdown",
   "id": "1b694a68",
   "metadata": {},
   "source": [
    "nombre_infected       972\n",
    "nombre_sain          2250\n",
    "nombre_exposed        601\n",
    "nombre_recovered    16177\n",
    "Name: 541, dtype: int64"
   ]
  },
  {
   "cell_type": "markdown",
   "id": "146e6084",
   "metadata": {},
   "source": [
    "nombre_infected       981\n",
    "nombre_sain          2258\n",
    "nombre_exposed        595\n",
    "nombre_recovered    16166\n",
    "Name: 542, dtype: int64"
   ]
  },
  {
   "cell_type": "markdown",
   "id": "0b984434",
   "metadata": {},
   "source": [
    "nombre_infected       999\n",
    "nombre_sain          2259\n",
    "nombre_exposed        585\n",
    "nombre_recovered    16157\n",
    "Name: 543, dtype: int64"
   ]
  },
  {
   "cell_type": "markdown",
   "id": "a4fc4bfa",
   "metadata": {},
   "source": [
    "nombre_infected       988\n",
    "nombre_sain          2266\n",
    "nombre_exposed        579\n",
    "nombre_recovered    16167\n",
    "Name: 544, dtype: int64"
   ]
  },
  {
   "cell_type": "markdown",
   "id": "110efea1",
   "metadata": {},
   "source": [
    "nombre_infected       997\n",
    "nombre_sain          2250\n",
    "nombre_exposed        583\n",
    "nombre_recovered    16170\n",
    "Name: 545, dtype: int64"
   ]
  },
  {
   "cell_type": "markdown",
   "id": "82cad060",
   "metadata": {},
   "source": [
    "nombre_infected      1010\n",
    "nombre_sain          2226\n",
    "nombre_exposed        592\n",
    "nombre_recovered    16172\n",
    "Name: 546, dtype: int64"
   ]
  },
  {
   "cell_type": "markdown",
   "id": "a880cab9",
   "metadata": {},
   "source": [
    "nombre_infected      1011\n",
    "nombre_sain          2211\n",
    "nombre_exposed        576\n",
    "nombre_recovered    16202\n",
    "Name: 547, dtype: int64"
   ]
  },
  {
   "cell_type": "markdown",
   "id": "85662762",
   "metadata": {},
   "source": [
    "nombre_infected      1030\n",
    "nombre_sain          2179\n",
    "nombre_exposed        576\n",
    "nombre_recovered    16215\n",
    "Name: 548, dtype: int64"
   ]
  },
  {
   "cell_type": "markdown",
   "id": "5ec7ffdd",
   "metadata": {},
   "source": [
    "nombre_infected      1001\n",
    "nombre_sain          2168\n",
    "nombre_exposed        602\n",
    "nombre_recovered    16229\n",
    "Name: 549, dtype: int64"
   ]
  },
  {
   "cell_type": "markdown",
   "id": "b5d01a0e",
   "metadata": {},
   "source": [
    "nombre_infected       978\n",
    "nombre_sain          2158\n",
    "nombre_exposed        604\n",
    "nombre_recovered    16260\n",
    "Name: 550, dtype: int64"
   ]
  },
  {
   "cell_type": "markdown",
   "id": "d48ed607",
   "metadata": {},
   "source": [
    "nombre_infected      1003\n",
    "nombre_sain          2137\n",
    "nombre_exposed        592\n",
    "nombre_recovered    16268\n",
    "Name: 551, dtype: int64"
   ]
  },
  {
   "cell_type": "markdown",
   "id": "d177e043",
   "metadata": {},
   "source": [
    "nombre_infected      1010\n",
    "nombre_sain          2149\n",
    "nombre_exposed        552\n",
    "nombre_recovered    16289\n",
    "Name: 552, dtype: int64"
   ]
  },
  {
   "cell_type": "markdown",
   "id": "8a46ae19",
   "metadata": {},
   "source": [
    "nombre_infected      1023\n",
    "nombre_sain          2157\n",
    "nombre_exposed        570\n",
    "nombre_recovered    16250\n",
    "Name: 553, dtype: int64"
   ]
  },
  {
   "cell_type": "markdown",
   "id": "f1df3c99",
   "metadata": {},
   "source": [
    "nombre_infected      1023\n",
    "nombre_sain          2153\n",
    "nombre_exposed        574\n",
    "nombre_recovered    16250\n",
    "Name: 554, dtype: int64"
   ]
  },
  {
   "cell_type": "markdown",
   "id": "3a8f3dc4",
   "metadata": {},
   "source": [
    "nombre_infected      1015\n",
    "nombre_sain          2154\n",
    "nombre_exposed        583\n",
    "nombre_recovered    16248\n",
    "Name: 555, dtype: int64"
   ]
  },
  {
   "cell_type": "markdown",
   "id": "fefd73cc",
   "metadata": {},
   "source": [
    "nombre_infected      1020\n",
    "nombre_sain          2139\n",
    "nombre_exposed        585\n",
    "nombre_recovered    16256\n",
    "Name: 556, dtype: int64"
   ]
  },
  {
   "cell_type": "markdown",
   "id": "341865e7",
   "metadata": {},
   "source": [
    "nombre_infected      1010\n",
    "nombre_sain          2113\n",
    "nombre_exposed        610\n",
    "nombre_recovered    16267\n",
    "Name: 557, dtype: int64"
   ]
  },
  {
   "cell_type": "markdown",
   "id": "1cd8bb42",
   "metadata": {},
   "source": [
    "nombre_infected      1011\n",
    "nombre_sain          2115\n",
    "nombre_exposed        582\n",
    "nombre_recovered    16292\n",
    "Name: 558, dtype: int64"
   ]
  },
  {
   "cell_type": "markdown",
   "id": "3809b6aa",
   "metadata": {},
   "source": [
    "nombre_infected      1023\n",
    "nombre_sain          2104\n",
    "nombre_exposed        557\n",
    "nombre_recovered    16316\n",
    "Name: 559, dtype: int64"
   ]
  },
  {
   "cell_type": "markdown",
   "id": "06f3707a",
   "metadata": {},
   "source": [
    "nombre_infected      1005\n",
    "nombre_sain          2088\n",
    "nombre_exposed        555\n",
    "nombre_recovered    16352\n",
    "Name: 560, dtype: int64"
   ]
  },
  {
   "cell_type": "markdown",
   "id": "68e41bb7",
   "metadata": {},
   "source": [
    "nombre_infected       989\n",
    "nombre_sain          2081\n",
    "nombre_exposed        558\n",
    "nombre_recovered    16372\n",
    "Name: 561, dtype: int64"
   ]
  },
  {
   "cell_type": "markdown",
   "id": "72000994",
   "metadata": {},
   "source": [
    "nombre_infected       967\n",
    "nombre_sain          2063\n",
    "nombre_exposed        548\n",
    "nombre_recovered    16422\n",
    "Name: 562, dtype: int64"
   ]
  },
  {
   "cell_type": "markdown",
   "id": "06b354b1",
   "metadata": {},
   "source": [
    "nombre_infected       952\n",
    "nombre_sain          2076\n",
    "nombre_exposed        527\n",
    "nombre_recovered    16445\n",
    "Name: 563, dtype: int64"
   ]
  },
  {
   "cell_type": "markdown",
   "id": "d3f58dd4",
   "metadata": {},
   "source": [
    "nombre_infected       949\n",
    "nombre_sain          2069\n",
    "nombre_exposed        519\n",
    "nombre_recovered    16463\n",
    "Name: 564, dtype: int64"
   ]
  },
  {
   "cell_type": "markdown",
   "id": "4f4fb057",
   "metadata": {},
   "source": [
    "nombre_infected       932\n",
    "nombre_sain          2052\n",
    "nombre_exposed        525\n",
    "nombre_recovered    16491\n",
    "Name: 565, dtype: int64"
   ]
  },
  {
   "cell_type": "markdown",
   "id": "ff9a9f75",
   "metadata": {},
   "source": [
    "nombre_infected       950\n",
    "nombre_sain          2085\n",
    "nombre_exposed        495\n",
    "nombre_recovered    16470\n",
    "Name: 566, dtype: int64"
   ]
  },
  {
   "cell_type": "markdown",
   "id": "752e7f76",
   "metadata": {},
   "source": [
    "nombre_infected       940\n",
    "nombre_sain          2086\n",
    "nombre_exposed        507\n",
    "nombre_recovered    16467\n",
    "Name: 567, dtype: int64"
   ]
  },
  {
   "cell_type": "markdown",
   "id": "6452a229",
   "metadata": {},
   "source": [
    "nombre_infected       932\n",
    "nombre_sain          2068\n",
    "nombre_exposed        504\n",
    "nombre_recovered    16496\n",
    "Name: 568, dtype: int64"
   ]
  },
  {
   "cell_type": "markdown",
   "id": "d104ce86",
   "metadata": {},
   "source": [
    "nombre_infected       926\n",
    "nombre_sain          2060\n",
    "nombre_exposed        492\n",
    "nombre_recovered    16522\n",
    "Name: 569, dtype: int64"
   ]
  },
  {
   "cell_type": "markdown",
   "id": "b5c0e828",
   "metadata": {},
   "source": [
    "nombre_infected       930\n",
    "nombre_sain          2035\n",
    "nombre_exposed        492\n",
    "nombre_recovered    16543\n",
    "Name: 570, dtype: int64"
   ]
  },
  {
   "cell_type": "markdown",
   "id": "725ba945",
   "metadata": {},
   "source": [
    "nombre_infected       923\n",
    "nombre_sain          2027\n",
    "nombre_exposed        470\n",
    "nombre_recovered    16580\n",
    "Name: 571, dtype: int64"
   ]
  },
  {
   "cell_type": "markdown",
   "id": "c9ffc06e",
   "metadata": {},
   "source": [
    "nombre_infected       912\n",
    "nombre_sain          2034\n",
    "nombre_exposed        462\n",
    "nombre_recovered    16592\n",
    "Name: 572, dtype: int64"
   ]
  },
  {
   "cell_type": "markdown",
   "id": "a15671a4",
   "metadata": {},
   "source": [
    "nombre_infected       926\n",
    "nombre_sain          2021\n",
    "nombre_exposed        487\n",
    "nombre_recovered    16566\n",
    "Name: 573, dtype: int64"
   ]
  },
  {
   "cell_type": "markdown",
   "id": "8f0af655",
   "metadata": {},
   "source": [
    "nombre_infected       908\n",
    "nombre_sain          2030\n",
    "nombre_exposed        496\n",
    "nombre_recovered    16566\n",
    "Name: 574, dtype: int64"
   ]
  },
  {
   "cell_type": "markdown",
   "id": "1a68dd59",
   "metadata": {},
   "source": [
    "nombre_infected       896\n",
    "nombre_sain          2046\n",
    "nombre_exposed        473\n",
    "nombre_recovered    16585\n",
    "Name: 575, dtype: int64"
   ]
  },
  {
   "cell_type": "markdown",
   "id": "e1f2fbed",
   "metadata": {},
   "source": [
    "nombre_infected       894\n",
    "nombre_sain          2044\n",
    "nombre_exposed        461\n",
    "nombre_recovered    16601\n",
    "Name: 576, dtype: int64"
   ]
  },
  {
   "cell_type": "markdown",
   "id": "0270fde4",
   "metadata": {},
   "source": [
    "nombre_infected       910\n",
    "nombre_sain          2033\n",
    "nombre_exposed        445\n",
    "nombre_recovered    16612\n",
    "Name: 577, dtype: int64"
   ]
  },
  {
   "cell_type": "markdown",
   "id": "f743af78",
   "metadata": {},
   "source": [
    "nombre_infected       927\n",
    "nombre_sain          2034\n",
    "nombre_exposed        465\n",
    "nombre_recovered    16574\n",
    "Name: 578, dtype: int64"
   ]
  },
  {
   "cell_type": "markdown",
   "id": "160a7f8d",
   "metadata": {},
   "source": [
    "nombre_infected       892\n",
    "nombre_sain          2037\n",
    "nombre_exposed        472\n",
    "nombre_recovered    16599\n",
    "Name: 579, dtype: int64"
   ]
  },
  {
   "cell_type": "markdown",
   "id": "51cbebc3",
   "metadata": {},
   "source": [
    "nombre_infected       885\n",
    "nombre_sain          2039\n",
    "nombre_exposed        459\n",
    "nombre_recovered    16617\n",
    "Name: 580, dtype: int64"
   ]
  },
  {
   "cell_type": "markdown",
   "id": "e1501e8e",
   "metadata": {},
   "source": [
    "nombre_infected       861\n",
    "nombre_sain          2049\n",
    "nombre_exposed        456\n",
    "nombre_recovered    16634\n",
    "Name: 581, dtype: int64"
   ]
  },
  {
   "cell_type": "markdown",
   "id": "8aa5bd6e",
   "metadata": {},
   "source": [
    "nombre_infected       857\n",
    "nombre_sain          2039\n",
    "nombre_exposed        451\n",
    "nombre_recovered    16653\n",
    "Name: 582, dtype: int64"
   ]
  },
  {
   "cell_type": "markdown",
   "id": "97bd6598",
   "metadata": {},
   "source": [
    "nombre_infected       849\n",
    "nombre_sain          2048\n",
    "nombre_exposed        469\n",
    "nombre_recovered    16634\n",
    "Name: 583, dtype: int64"
   ]
  },
  {
   "cell_type": "markdown",
   "id": "1a555924",
   "metadata": {},
   "source": [
    "nombre_infected       826\n",
    "nombre_sain          2070\n",
    "nombre_exposed        460\n",
    "nombre_recovered    16644\n",
    "Name: 584, dtype: int64"
   ]
  },
  {
   "cell_type": "markdown",
   "id": "45eb435e",
   "metadata": {},
   "source": [
    "nombre_infected       835\n",
    "nombre_sain          2095\n",
    "nombre_exposed        425\n",
    "nombre_recovered    16645\n",
    "Name: 585, dtype: int64"
   ]
  },
  {
   "cell_type": "markdown",
   "id": "954f01d5",
   "metadata": {},
   "source": [
    "nombre_infected       859\n",
    "nombre_sain          2102\n",
    "nombre_exposed        427\n",
    "nombre_recovered    16612\n",
    "Name: 586, dtype: int64"
   ]
  },
  {
   "cell_type": "markdown",
   "id": "2c79835f",
   "metadata": {},
   "source": [
    "nombre_infected       834\n",
    "nombre_sain          2103\n",
    "nombre_exposed        453\n",
    "nombre_recovered    16610\n",
    "Name: 587, dtype: int64"
   ]
  },
  {
   "cell_type": "markdown",
   "id": "62035ded",
   "metadata": {},
   "source": [
    "nombre_infected       851\n",
    "nombre_sain          2107\n",
    "nombre_exposed        438\n",
    "nombre_recovered    16604\n",
    "Name: 588, dtype: int64"
   ]
  },
  {
   "cell_type": "markdown",
   "id": "0181d97b",
   "metadata": {},
   "source": [
    "nombre_infected       853\n",
    "nombre_sain          2114\n",
    "nombre_exposed        419\n",
    "nombre_recovered    16614\n",
    "Name: 589, dtype: int64"
   ]
  },
  {
   "cell_type": "markdown",
   "id": "b8314daa",
   "metadata": {},
   "source": [
    "nombre_infected       839\n",
    "nombre_sain          2114\n",
    "nombre_exposed        433\n",
    "nombre_recovered    16614\n",
    "Name: 590, dtype: int64"
   ]
  },
  {
   "cell_type": "markdown",
   "id": "2df736cc",
   "metadata": {},
   "source": [
    "nombre_infected       851\n",
    "nombre_sain          2114\n",
    "nombre_exposed        417\n",
    "nombre_recovered    16618\n",
    "Name: 591, dtype: int64"
   ]
  },
  {
   "cell_type": "markdown",
   "id": "735f5e07",
   "metadata": {},
   "source": [
    "nombre_infected       843\n",
    "nombre_sain          2148\n",
    "nombre_exposed        422\n",
    "nombre_recovered    16587\n",
    "Name: 592, dtype: int64"
   ]
  },
  {
   "cell_type": "markdown",
   "id": "a832f50a",
   "metadata": {},
   "source": [
    "nombre_infected       845\n",
    "nombre_sain          2167\n",
    "nombre_exposed        416\n",
    "nombre_recovered    16572\n",
    "Name: 593, dtype: int64"
   ]
  },
  {
   "cell_type": "markdown",
   "id": "5b26f0d4",
   "metadata": {},
   "source": [
    "nombre_infected       840\n",
    "nombre_sain          2182\n",
    "nombre_exposed        403\n",
    "nombre_recovered    16575\n",
    "Name: 594, dtype: int64"
   ]
  },
  {
   "cell_type": "markdown",
   "id": "ebd79991",
   "metadata": {},
   "source": [
    "nombre_infected       837\n",
    "nombre_sain          2210\n",
    "nombre_exposed        401\n",
    "nombre_recovered    16552\n",
    "Name: 595, dtype: int64"
   ]
  },
  {
   "cell_type": "markdown",
   "id": "a911f05f",
   "metadata": {},
   "source": [
    "nombre_infected       826\n",
    "nombre_sain          2224\n",
    "nombre_exposed        398\n",
    "nombre_recovered    16552\n",
    "Name: 596, dtype: int64"
   ]
  },
  {
   "cell_type": "markdown",
   "id": "16f0c47d",
   "metadata": {},
   "source": [
    "nombre_infected       784\n",
    "nombre_sain          2242\n",
    "nombre_exposed        424\n",
    "nombre_recovered    16550\n",
    "Name: 597, dtype: int64"
   ]
  },
  {
   "cell_type": "markdown",
   "id": "8ffb2d5c",
   "metadata": {},
   "source": [
    "nombre_infected       785\n",
    "nombre_sain          2260\n",
    "nombre_exposed        413\n",
    "nombre_recovered    16542\n",
    "Name: 598, dtype: int64"
   ]
  },
  {
   "cell_type": "markdown",
   "id": "0ef38664",
   "metadata": {},
   "source": [
    "nombre_infected       779\n",
    "nombre_sain          2292\n",
    "nombre_exposed        408\n",
    "nombre_recovered    16521\n",
    "Name: 599, dtype: int64"
   ]
  },
  {
   "cell_type": "markdown",
   "id": "6e5ceceb",
   "metadata": {},
   "source": [
    "nombre_infected       762\n",
    "nombre_sain          2316\n",
    "nombre_exposed        433\n",
    "nombre_recovered    16489\n",
    "Name: 600, dtype: int64"
   ]
  },
  {
   "cell_type": "markdown",
   "id": "97fafeca",
   "metadata": {},
   "source": [
    "nombre_infected       768\n",
    "nombre_sain          2349\n",
    "nombre_exposed        412\n",
    "nombre_recovered    16471\n",
    "Name: 601, dtype: int64"
   ]
  },
  {
   "cell_type": "markdown",
   "id": "9a785434",
   "metadata": {},
   "source": [
    "nombre_infected       755\n",
    "nombre_sain          2335\n",
    "nombre_exposed        436\n",
    "nombre_recovered    16474\n",
    "Name: 602, dtype: int64"
   ]
  },
  {
   "cell_type": "markdown",
   "id": "7ea9a795",
   "metadata": {},
   "source": [
    "nombre_infected       755\n",
    "nombre_sain          2346\n",
    "nombre_exposed        448\n",
    "nombre_recovered    16451\n",
    "Name: 603, dtype: int64"
   ]
  },
  {
   "cell_type": "markdown",
   "id": "c9db217d",
   "metadata": {},
   "source": [
    "nombre_infected       778\n",
    "nombre_sain          2362\n",
    "nombre_exposed        413\n",
    "nombre_recovered    16447\n",
    "Name: 604, dtype: int64"
   ]
  },
  {
   "cell_type": "markdown",
   "id": "04770e61",
   "metadata": {},
   "source": [
    "nombre_infected       774\n",
    "nombre_sain          2361\n",
    "nombre_exposed        429\n",
    "nombre_recovered    16436\n",
    "Name: 605, dtype: int64"
   ]
  },
  {
   "cell_type": "markdown",
   "id": "cde7d1a5",
   "metadata": {},
   "source": [
    "nombre_infected       777\n",
    "nombre_sain          2379\n",
    "nombre_exposed        437\n",
    "nombre_recovered    16407\n",
    "Name: 606, dtype: int64"
   ]
  },
  {
   "cell_type": "markdown",
   "id": "917d5c0b",
   "metadata": {},
   "source": [
    "nombre_infected       772\n",
    "nombre_sain          2405\n",
    "nombre_exposed        432\n",
    "nombre_recovered    16391\n",
    "Name: 607, dtype: int64"
   ]
  },
  {
   "cell_type": "markdown",
   "id": "8093a130",
   "metadata": {},
   "source": [
    "nombre_infected       776\n",
    "nombre_sain          2424\n",
    "nombre_exposed        441\n",
    "nombre_recovered    16359\n",
    "Name: 608, dtype: int64"
   ]
  },
  {
   "cell_type": "markdown",
   "id": "a822f5f3",
   "metadata": {},
   "source": [
    "nombre_infected       756\n",
    "nombre_sain          2438\n",
    "nombre_exposed        448\n",
    "nombre_recovered    16358\n",
    "Name: 609, dtype: int64"
   ]
  },
  {
   "cell_type": "markdown",
   "id": "d9645261",
   "metadata": {},
   "source": [
    "nombre_infected       777\n",
    "nombre_sain          2463\n",
    "nombre_exposed        436\n",
    "nombre_recovered    16324\n",
    "Name: 610, dtype: int64"
   ]
  },
  {
   "cell_type": "markdown",
   "id": "ff22783f",
   "metadata": {},
   "source": [
    "nombre_infected       793\n",
    "nombre_sain          2485\n",
    "nombre_exposed        407\n",
    "nombre_recovered    16315\n",
    "Name: 611, dtype: int64"
   ]
  },
  {
   "cell_type": "markdown",
   "id": "7289c85a",
   "metadata": {},
   "source": [
    "nombre_infected       791\n",
    "nombre_sain          2489\n",
    "nombre_exposed        413\n",
    "nombre_recovered    16307\n",
    "Name: 612, dtype: int64"
   ]
  },
  {
   "cell_type": "markdown",
   "id": "d53fa1be",
   "metadata": {},
   "source": [
    "nombre_infected       802\n",
    "nombre_sain          2485\n",
    "nombre_exposed        424\n",
    "nombre_recovered    16289\n",
    "Name: 613, dtype: int64"
   ]
  },
  {
   "cell_type": "markdown",
   "id": "c0515fdf",
   "metadata": {},
   "source": [
    "nombre_infected       776\n",
    "nombre_sain          2469\n",
    "nombre_exposed        461\n",
    "nombre_recovered    16294\n",
    "Name: 614, dtype: int64"
   ]
  },
  {
   "cell_type": "markdown",
   "id": "6c5c6809",
   "metadata": {},
   "source": [
    "nombre_infected       769\n",
    "nombre_sain          2480\n",
    "nombre_exposed        464\n",
    "nombre_recovered    16287\n",
    "Name: 615, dtype: int64"
   ]
  },
  {
   "cell_type": "markdown",
   "id": "df55f814",
   "metadata": {},
   "source": [
    "nombre_infected       781\n",
    "nombre_sain          2485\n",
    "nombre_exposed        453\n",
    "nombre_recovered    16281\n",
    "Name: 616, dtype: int64"
   ]
  },
  {
   "cell_type": "markdown",
   "id": "44bd4ef5",
   "metadata": {},
   "source": [
    "nombre_infected       799\n",
    "nombre_sain          2480\n",
    "nombre_exposed        456\n",
    "nombre_recovered    16265\n",
    "Name: 617, dtype: int64"
   ]
  },
  {
   "cell_type": "markdown",
   "id": "355f8671",
   "metadata": {},
   "source": [
    "nombre_infected       789\n",
    "nombre_sain          2503\n",
    "nombre_exposed        456\n",
    "nombre_recovered    16252\n",
    "Name: 618, dtype: int64"
   ]
  },
  {
   "cell_type": "markdown",
   "id": "be2250d5",
   "metadata": {},
   "source": [
    "nombre_infected       791\n",
    "nombre_sain          2480\n",
    "nombre_exposed        497\n",
    "nombre_recovered    16232\n",
    "Name: 619, dtype: int64"
   ]
  },
  {
   "cell_type": "markdown",
   "id": "138a8512",
   "metadata": {},
   "source": [
    "nombre_infected       810\n",
    "nombre_sain          2465\n",
    "nombre_exposed        496\n",
    "nombre_recovered    16229\n",
    "Name: 620, dtype: int64"
   ]
  },
  {
   "cell_type": "markdown",
   "id": "f693d4c8",
   "metadata": {},
   "source": [
    "nombre_infected       815\n",
    "nombre_sain          2449\n",
    "nombre_exposed        493\n",
    "nombre_recovered    16243\n",
    "Name: 621, dtype: int64"
   ]
  },
  {
   "cell_type": "markdown",
   "id": "eb0d09d2",
   "metadata": {},
   "source": [
    "nombre_infected       829\n",
    "nombre_sain          2429\n",
    "nombre_exposed        499\n",
    "nombre_recovered    16243\n",
    "Name: 622, dtype: int64"
   ]
  },
  {
   "cell_type": "markdown",
   "id": "f50d5a3e",
   "metadata": {},
   "source": [
    "nombre_infected       862\n",
    "nombre_sain          2423\n",
    "nombre_exposed        496\n",
    "nombre_recovered    16219\n",
    "Name: 623, dtype: int64"
   ]
  },
  {
   "cell_type": "markdown",
   "id": "1b2e2c44",
   "metadata": {},
   "source": [
    "nombre_infected       883\n",
    "nombre_sain          2425\n",
    "nombre_exposed        507\n",
    "nombre_recovered    16185\n",
    "Name: 624, dtype: int64"
   ]
  },
  {
   "cell_type": "markdown",
   "id": "c2af2af2",
   "metadata": {},
   "source": [
    "nombre_infected       885\n",
    "nombre_sain          2438\n",
    "nombre_exposed        509\n",
    "nombre_recovered    16168\n",
    "Name: 625, dtype: int64"
   ]
  },
  {
   "cell_type": "markdown",
   "id": "09041247",
   "metadata": {},
   "source": [
    "nombre_infected       898\n",
    "nombre_sain          2410\n",
    "nombre_exposed        510\n",
    "nombre_recovered    16182\n",
    "Name: 626, dtype: int64"
   ]
  },
  {
   "cell_type": "markdown",
   "id": "1c9cceed",
   "metadata": {},
   "source": [
    "nombre_infected       924\n",
    "nombre_sain          2421\n",
    "nombre_exposed        494\n",
    "nombre_recovered    16161\n",
    "Name: 627, dtype: int64"
   ]
  },
  {
   "cell_type": "markdown",
   "id": "d0d56de0",
   "metadata": {},
   "source": [
    "nombre_infected       932\n",
    "nombre_sain          2391\n",
    "nombre_exposed        523\n",
    "nombre_recovered    16154\n",
    "Name: 628, dtype: int64"
   ]
  },
  {
   "cell_type": "markdown",
   "id": "8917b5a0",
   "metadata": {},
   "source": [
    "nombre_infected       949\n",
    "nombre_sain          2374\n",
    "nombre_exposed        527\n",
    "nombre_recovered    16150\n",
    "Name: 629, dtype: int64"
   ]
  },
  {
   "cell_type": "markdown",
   "id": "087a5e47",
   "metadata": {},
   "source": [
    "nombre_infected       963\n",
    "nombre_sain          2337\n",
    "nombre_exposed        551\n",
    "nombre_recovered    16149\n",
    "Name: 630, dtype: int64"
   ]
  },
  {
   "cell_type": "markdown",
   "id": "d2f52b7b",
   "metadata": {},
   "source": [
    "nombre_infected       943\n",
    "nombre_sain          2318\n",
    "nombre_exposed        571\n",
    "nombre_recovered    16168\n",
    "Name: 631, dtype: int64"
   ]
  },
  {
   "cell_type": "markdown",
   "id": "c0897d71",
   "metadata": {},
   "source": [
    "nombre_infected       980\n",
    "nombre_sain          2298\n",
    "nombre_exposed        553\n",
    "nombre_recovered    16169\n",
    "Name: 632, dtype: int64"
   ]
  },
  {
   "cell_type": "markdown",
   "id": "782c5d23",
   "metadata": {},
   "source": [
    "nombre_infected       983\n",
    "nombre_sain          2269\n",
    "nombre_exposed        545\n",
    "nombre_recovered    16203\n",
    "Name: 633, dtype: int64"
   ]
  },
  {
   "cell_type": "markdown",
   "id": "859d54d1",
   "metadata": {},
   "source": [
    "nombre_infected       990\n",
    "nombre_sain          2262\n",
    "nombre_exposed        532\n",
    "nombre_recovered    16216\n",
    "Name: 634, dtype: int64"
   ]
  },
  {
   "cell_type": "markdown",
   "id": "f87c625d",
   "metadata": {},
   "source": [
    "nombre_infected      1001\n",
    "nombre_sain          2263\n",
    "nombre_exposed        524\n",
    "nombre_recovered    16212\n",
    "Name: 635, dtype: int64"
   ]
  },
  {
   "cell_type": "markdown",
   "id": "2d8995ed",
   "metadata": {},
   "source": [
    "nombre_infected      1007\n",
    "nombre_sain          2245\n",
    "nombre_exposed        546\n",
    "nombre_recovered    16202\n",
    "Name: 636, dtype: int64"
   ]
  },
  {
   "cell_type": "markdown",
   "id": "b5a91b6a",
   "metadata": {},
   "source": [
    "nombre_infected      1001\n",
    "nombre_sain          2209\n",
    "nombre_exposed        553\n",
    "nombre_recovered    16237\n",
    "Name: 637, dtype: int64"
   ]
  },
  {
   "cell_type": "markdown",
   "id": "d3e98d45",
   "metadata": {},
   "source": [
    "nombre_infected       998\n",
    "nombre_sain          2213\n",
    "nombre_exposed        551\n",
    "nombre_recovered    16238\n",
    "Name: 638, dtype: int64"
   ]
  },
  {
   "cell_type": "markdown",
   "id": "12ff445a",
   "metadata": {},
   "source": [
    "nombre_infected       999\n",
    "nombre_sain          2222\n",
    "nombre_exposed        526\n",
    "nombre_recovered    16253\n",
    "Name: 639, dtype: int64"
   ]
  },
  {
   "cell_type": "markdown",
   "id": "dfb21734",
   "metadata": {},
   "source": [
    "nombre_infected      1010\n",
    "nombre_sain          2224\n",
    "nombre_exposed        506\n",
    "nombre_recovered    16260\n",
    "Name: 640, dtype: int64"
   ]
  },
  {
   "cell_type": "markdown",
   "id": "ca1d949b",
   "metadata": {},
   "source": [
    "nombre_infected      1008\n",
    "nombre_sain          2235\n",
    "nombre_exposed        507\n",
    "nombre_recovered    16250\n",
    "Name: 641, dtype: int64"
   ]
  },
  {
   "cell_type": "markdown",
   "id": "ee73d681",
   "metadata": {},
   "source": [
    "nombre_infected       991\n",
    "nombre_sain          2221\n",
    "nombre_exposed        530\n",
    "nombre_recovered    16258\n",
    "Name: 642, dtype: int64"
   ]
  },
  {
   "cell_type": "markdown",
   "id": "40ee77a4",
   "metadata": {},
   "source": [
    "nombre_infected       983\n",
    "nombre_sain          2197\n",
    "nombre_exposed        535\n",
    "nombre_recovered    16285\n",
    "Name: 643, dtype: int64"
   ]
  },
  {
   "cell_type": "markdown",
   "id": "72bec9fb",
   "metadata": {},
   "source": [
    "nombre_infected       973\n",
    "nombre_sain          2183\n",
    "nombre_exposed        537\n",
    "nombre_recovered    16307\n",
    "Name: 644, dtype: int64"
   ]
  },
  {
   "cell_type": "markdown",
   "id": "93af2571",
   "metadata": {},
   "source": [
    "nombre_infected       998\n",
    "nombre_sain          2192\n",
    "nombre_exposed        514\n",
    "nombre_recovered    16296\n",
    "Name: 645, dtype: int64"
   ]
  },
  {
   "cell_type": "markdown",
   "id": "e7ccd504",
   "metadata": {},
   "source": [
    "nombre_infected       985\n",
    "nombre_sain          2193\n",
    "nombre_exposed        525\n",
    "nombre_recovered    16297\n",
    "Name: 646, dtype: int64"
   ]
  },
  {
   "cell_type": "markdown",
   "id": "b3723ef2",
   "metadata": {},
   "source": [
    "nombre_infected       972\n",
    "nombre_sain          2169\n",
    "nombre_exposed        542\n",
    "nombre_recovered    16317\n",
    "Name: 647, dtype: int64"
   ]
  },
  {
   "cell_type": "markdown",
   "id": "805e6730",
   "metadata": {},
   "source": [
    "nombre_infected       984\n",
    "nombre_sain          2176\n",
    "nombre_exposed        516\n",
    "nombre_recovered    16324\n",
    "Name: 648, dtype: int64"
   ]
  },
  {
   "cell_type": "markdown",
   "id": "dc442867",
   "metadata": {},
   "source": [
    "nombre_infected       981\n",
    "nombre_sain          2193\n",
    "nombre_exposed        494\n",
    "nombre_recovered    16332\n",
    "Name: 649, dtype: int64"
   ]
  },
  {
   "cell_type": "markdown",
   "id": "45d7cf54",
   "metadata": {},
   "source": [
    "nombre_infected       965\n",
    "nombre_sain          2196\n",
    "nombre_exposed        514\n",
    "nombre_recovered    16325\n",
    "Name: 650, dtype: int64"
   ]
  },
  {
   "cell_type": "markdown",
   "id": "b22fc5e1",
   "metadata": {},
   "source": [
    "nombre_infected       966\n",
    "nombre_sain          2191\n",
    "nombre_exposed        528\n",
    "nombre_recovered    16315\n",
    "Name: 651, dtype: int64"
   ]
  },
  {
   "cell_type": "markdown",
   "id": "3712c28f",
   "metadata": {},
   "source": [
    "nombre_infected       951\n",
    "nombre_sain          2211\n",
    "nombre_exposed        515\n",
    "nombre_recovered    16323\n",
    "Name: 652, dtype: int64"
   ]
  },
  {
   "cell_type": "markdown",
   "id": "3e66f74e",
   "metadata": {},
   "source": [
    "nombre_infected       940\n",
    "nombre_sain          2234\n",
    "nombre_exposed        517\n",
    "nombre_recovered    16309\n",
    "Name: 653, dtype: int64"
   ]
  },
  {
   "cell_type": "markdown",
   "id": "179bce45",
   "metadata": {},
   "source": [
    "nombre_infected       940\n",
    "nombre_sain          2219\n",
    "nombre_exposed        525\n",
    "nombre_recovered    16316\n",
    "Name: 654, dtype: int64"
   ]
  },
  {
   "cell_type": "markdown",
   "id": "f352bc31",
   "metadata": {},
   "source": [
    "nombre_infected       946\n",
    "nombre_sain          2217\n",
    "nombre_exposed        523\n",
    "nombre_recovered    16314\n",
    "Name: 655, dtype: int64"
   ]
  },
  {
   "cell_type": "markdown",
   "id": "b5b59483",
   "metadata": {},
   "source": [
    "nombre_infected       943\n",
    "nombre_sain          2217\n",
    "nombre_exposed        538\n",
    "nombre_recovered    16302\n",
    "Name: 656, dtype: int64"
   ]
  },
  {
   "cell_type": "markdown",
   "id": "87b365a8",
   "metadata": {},
   "source": [
    "nombre_infected       941\n",
    "nombre_sain          2221\n",
    "nombre_exposed        554\n",
    "nombre_recovered    16284\n",
    "Name: 657, dtype: int64"
   ]
  },
  {
   "cell_type": "markdown",
   "id": "b5ff3188",
   "metadata": {},
   "source": [
    "nombre_infected       962\n",
    "nombre_sain          2236\n",
    "nombre_exposed        544\n",
    "nombre_recovered    16258\n",
    "Name: 658, dtype: int64"
   ]
  },
  {
   "cell_type": "markdown",
   "id": "bde2d398",
   "metadata": {},
   "source": [
    "nombre_infected       983\n",
    "nombre_sain          2238\n",
    "nombre_exposed        509\n",
    "nombre_recovered    16270\n",
    "Name: 659, dtype: int64"
   ]
  },
  {
   "cell_type": "markdown",
   "id": "ccb020c0",
   "metadata": {},
   "source": [
    "nombre_infected      1009\n",
    "nombre_sain          2221\n",
    "nombre_exposed        504\n",
    "nombre_recovered    16266\n",
    "Name: 660, dtype: int64"
   ]
  },
  {
   "cell_type": "markdown",
   "id": "7dd689cb",
   "metadata": {},
   "source": [
    "nombre_infected      1013\n",
    "nombre_sain          2228\n",
    "nombre_exposed        501\n",
    "nombre_recovered    16258\n",
    "Name: 661, dtype: int64"
   ]
  },
  {
   "cell_type": "markdown",
   "id": "b90e0fd8",
   "metadata": {},
   "source": [
    "nombre_infected       999\n",
    "nombre_sain          2204\n",
    "nombre_exposed        490\n",
    "nombre_recovered    16307\n",
    "Name: 662, dtype: int64"
   ]
  },
  {
   "cell_type": "markdown",
   "id": "bf769647",
   "metadata": {},
   "source": [
    "nombre_infected       970\n",
    "nombre_sain          2212\n",
    "nombre_exposed        495\n",
    "nombre_recovered    16323\n",
    "Name: 663, dtype: int64"
   ]
  },
  {
   "cell_type": "markdown",
   "id": "c864ea46",
   "metadata": {},
   "source": [
    "nombre_infected       916\n",
    "nombre_sain          2219\n",
    "nombre_exposed        511\n",
    "nombre_recovered    16354\n",
    "Name: 664, dtype: int64"
   ]
  },
  {
   "cell_type": "markdown",
   "id": "be06e0a2",
   "metadata": {},
   "source": [
    "nombre_infected       911\n",
    "nombre_sain          2228\n",
    "nombre_exposed        504\n",
    "nombre_recovered    16357\n",
    "Name: 665, dtype: int64"
   ]
  },
  {
   "cell_type": "markdown",
   "id": "baf04e45",
   "metadata": {},
   "source": [
    "nombre_infected       915\n",
    "nombre_sain          2218\n",
    "nombre_exposed        500\n",
    "nombre_recovered    16367\n",
    "Name: 666, dtype: int64"
   ]
  },
  {
   "cell_type": "markdown",
   "id": "17cd5e5c",
   "metadata": {},
   "source": [
    "nombre_infected       893\n",
    "nombre_sain          2222\n",
    "nombre_exposed        498\n",
    "nombre_recovered    16387\n",
    "Name: 667, dtype: int64"
   ]
  },
  {
   "cell_type": "markdown",
   "id": "17b38939",
   "metadata": {},
   "source": [
    "nombre_infected       905\n",
    "nombre_sain          2223\n",
    "nombre_exposed        490\n",
    "nombre_recovered    16382\n",
    "Name: 668, dtype: int64"
   ]
  },
  {
   "cell_type": "markdown",
   "id": "a7a23a99",
   "metadata": {},
   "source": [
    "nombre_infected       908\n",
    "nombre_sain          2236\n",
    "nombre_exposed        490\n",
    "nombre_recovered    16366\n",
    "Name: 669, dtype: int64"
   ]
  },
  {
   "cell_type": "markdown",
   "id": "eadfa758",
   "metadata": {},
   "source": [
    "nombre_infected       880\n",
    "nombre_sain          2253\n",
    "nombre_exposed        506\n",
    "nombre_recovered    16361\n",
    "Name: 670, dtype: int64"
   ]
  },
  {
   "cell_type": "markdown",
   "id": "686f13e4",
   "metadata": {},
   "source": [
    "nombre_infected       873\n",
    "nombre_sain          2257\n",
    "nombre_exposed        492\n",
    "nombre_recovered    16378\n",
    "Name: 671, dtype: int64"
   ]
  },
  {
   "cell_type": "markdown",
   "id": "4ea802fe",
   "metadata": {},
   "source": [
    "nombre_infected       876\n",
    "nombre_sain          2225\n",
    "nombre_exposed        522\n",
    "nombre_recovered    16377\n",
    "Name: 672, dtype: int64"
   ]
  },
  {
   "cell_type": "markdown",
   "id": "39bcfd90",
   "metadata": {},
   "source": [
    "nombre_infected       870\n",
    "nombre_sain          2228\n",
    "nombre_exposed        516\n",
    "nombre_recovered    16386\n",
    "Name: 673, dtype: int64"
   ]
  },
  {
   "cell_type": "markdown",
   "id": "745d0bfc",
   "metadata": {},
   "source": [
    "nombre_infected       872\n",
    "nombre_sain          2262\n",
    "nombre_exposed        505\n",
    "nombre_recovered    16361\n",
    "Name: 674, dtype: int64"
   ]
  },
  {
   "cell_type": "markdown",
   "id": "233f02db",
   "metadata": {},
   "source": [
    "nombre_infected       859\n",
    "nombre_sain          2277\n",
    "nombre_exposed        515\n",
    "nombre_recovered    16349\n",
    "Name: 675, dtype: int64"
   ]
  },
  {
   "cell_type": "markdown",
   "id": "949f7877",
   "metadata": {},
   "source": [
    "nombre_infected       870\n",
    "nombre_sain          2290\n",
    "nombre_exposed        498\n",
    "nombre_recovered    16342\n",
    "Name: 676, dtype: int64"
   ]
  },
  {
   "cell_type": "markdown",
   "id": "0861d61a",
   "metadata": {},
   "source": [
    "nombre_infected       825\n",
    "nombre_sain          2309\n",
    "nombre_exposed        495\n",
    "nombre_recovered    16371\n",
    "Name: 677, dtype: int64"
   ]
  },
  {
   "cell_type": "markdown",
   "id": "f171e721",
   "metadata": {},
   "source": [
    "nombre_infected       833\n",
    "nombre_sain          2331\n",
    "nombre_exposed        488\n",
    "nombre_recovered    16348\n",
    "Name: 678, dtype: int64"
   ]
  },
  {
   "cell_type": "markdown",
   "id": "3ff8b89e",
   "metadata": {},
   "source": [
    "nombre_infected       831\n",
    "nombre_sain          2338\n",
    "nombre_exposed        480\n",
    "nombre_recovered    16351\n",
    "Name: 679, dtype: int64"
   ]
  },
  {
   "cell_type": "markdown",
   "id": "8300cc14",
   "metadata": {},
   "source": [
    "nombre_infected       836\n",
    "nombre_sain          2364\n",
    "nombre_exposed        466\n",
    "nombre_recovered    16334\n",
    "Name: 680, dtype: int64"
   ]
  },
  {
   "cell_type": "markdown",
   "id": "aca8b781",
   "metadata": {},
   "source": [
    "nombre_infected       815\n",
    "nombre_sain          2359\n",
    "nombre_exposed        491\n",
    "nombre_recovered    16335\n",
    "Name: 681, dtype: int64"
   ]
  },
  {
   "cell_type": "markdown",
   "id": "f229db5d",
   "metadata": {},
   "source": [
    "nombre_infected       788\n",
    "nombre_sain          2373\n",
    "nombre_exposed        488\n",
    "nombre_recovered    16351\n",
    "Name: 682, dtype: int64"
   ]
  },
  {
   "cell_type": "markdown",
   "id": "1cea3468",
   "metadata": {},
   "source": [
    "nombre_infected       806\n",
    "nombre_sain          2381\n",
    "nombre_exposed        478\n",
    "nombre_recovered    16335\n",
    "Name: 683, dtype: int64"
   ]
  },
  {
   "cell_type": "markdown",
   "id": "0673095c",
   "metadata": {},
   "source": [
    "nombre_infected       800\n",
    "nombre_sain          2376\n",
    "nombre_exposed        492\n",
    "nombre_recovered    16332\n",
    "Name: 684, dtype: int64"
   ]
  },
  {
   "cell_type": "markdown",
   "id": "5e6dcaf8",
   "metadata": {},
   "source": [
    "nombre_infected       826\n",
    "nombre_sain          2431\n",
    "nombre_exposed        452\n",
    "nombre_recovered    16291\n",
    "Name: 685, dtype: int64"
   ]
  },
  {
   "cell_type": "markdown",
   "id": "2424d6fe",
   "metadata": {},
   "source": [
    "nombre_infected       815\n",
    "nombre_sain          2463\n",
    "nombre_exposed        446\n",
    "nombre_recovered    16276\n",
    "Name: 686, dtype: int64"
   ]
  },
  {
   "cell_type": "markdown",
   "id": "cfed6b57",
   "metadata": {},
   "source": [
    "nombre_infected       810\n",
    "nombre_sain          2461\n",
    "nombre_exposed        459\n",
    "nombre_recovered    16270\n",
    "Name: 687, dtype: int64"
   ]
  },
  {
   "cell_type": "markdown",
   "id": "418165a7",
   "metadata": {},
   "source": [
    "nombre_infected       808\n",
    "nombre_sain          2478\n",
    "nombre_exposed        461\n",
    "nombre_recovered    16253\n",
    "Name: 688, dtype: int64"
   ]
  },
  {
   "cell_type": "markdown",
   "id": "c7d0b057",
   "metadata": {},
   "source": [
    "nombre_infected       809\n",
    "nombre_sain          2461\n",
    "nombre_exposed        490\n",
    "nombre_recovered    16240\n",
    "Name: 689, dtype: int64"
   ]
  },
  {
   "cell_type": "markdown",
   "id": "f1672b97",
   "metadata": {},
   "source": [
    "nombre_infected       803\n",
    "nombre_sain          2479\n",
    "nombre_exposed        500\n",
    "nombre_recovered    16218\n",
    "Name: 690, dtype: int64"
   ]
  },
  {
   "cell_type": "markdown",
   "id": "8f72fce2",
   "metadata": {},
   "source": [
    "nombre_infected       817\n",
    "nombre_sain          2479\n",
    "nombre_exposed        508\n",
    "nombre_recovered    16196\n",
    "Name: 691, dtype: int64"
   ]
  },
  {
   "cell_type": "markdown",
   "id": "8aa8bc0c",
   "metadata": {},
   "source": [
    "nombre_infected       839\n",
    "nombre_sain          2473\n",
    "nombre_exposed        507\n",
    "nombre_recovered    16181\n",
    "Name: 692, dtype: int64"
   ]
  },
  {
   "cell_type": "markdown",
   "id": "279b8c2c",
   "metadata": {},
   "source": [
    "nombre_infected       850\n",
    "nombre_sain          2467\n",
    "nombre_exposed        506\n",
    "nombre_recovered    16177\n",
    "Name: 693, dtype: int64"
   ]
  },
  {
   "cell_type": "markdown",
   "id": "9f0c8e5c",
   "metadata": {},
   "source": [
    "nombre_infected       859\n",
    "nombre_sain          2458\n",
    "nombre_exposed        530\n",
    "nombre_recovered    16153\n",
    "Name: 694, dtype: int64"
   ]
  },
  {
   "cell_type": "markdown",
   "id": "6691882b",
   "metadata": {},
   "source": [
    "nombre_infected       820\n",
    "nombre_sain          2468\n",
    "nombre_exposed        549\n",
    "nombre_recovered    16163\n",
    "Name: 695, dtype: int64"
   ]
  },
  {
   "cell_type": "markdown",
   "id": "5c186a26",
   "metadata": {},
   "source": [
    "nombre_infected       836\n",
    "nombre_sain          2469\n",
    "nombre_exposed        552\n",
    "nombre_recovered    16143\n",
    "Name: 696, dtype: int64"
   ]
  },
  {
   "cell_type": "markdown",
   "id": "2823f43f",
   "metadata": {},
   "source": [
    "nombre_infected       863\n",
    "nombre_sain          2478\n",
    "nombre_exposed        524\n",
    "nombre_recovered    16135\n",
    "Name: 697, dtype: int64"
   ]
  },
  {
   "cell_type": "markdown",
   "id": "80df8fd5",
   "metadata": {},
   "source": [
    "nombre_infected       878\n",
    "nombre_sain          2480\n",
    "nombre_exposed        533\n",
    "nombre_recovered    16109\n",
    "Name: 698, dtype: int64"
   ]
  },
  {
   "cell_type": "markdown",
   "id": "91fb0740",
   "metadata": {},
   "source": [
    "nombre_infected       864\n",
    "nombre_sain          2455\n",
    "nombre_exposed        551\n",
    "nombre_recovered    16130\n",
    "Name: 699, dtype: int64"
   ]
  },
  {
   "cell_type": "markdown",
   "id": "45edfad7",
   "metadata": {},
   "source": [
    "nombre_infected       861\n",
    "nombre_sain          2470\n",
    "nombre_exposed        545\n",
    "nombre_recovered    16124\n",
    "Name: 700, dtype: int64"
   ]
  },
  {
   "cell_type": "markdown",
   "id": "f9f844c7",
   "metadata": {},
   "source": [
    "nombre_infected       854\n",
    "nombre_sain          2481\n",
    "nombre_exposed        531\n",
    "nombre_recovered    16134\n",
    "Name: 701, dtype: int64"
   ]
  },
  {
   "cell_type": "markdown",
   "id": "aded19ac",
   "metadata": {},
   "source": [
    "nombre_infected       864\n",
    "nombre_sain          2482\n",
    "nombre_exposed        521\n",
    "nombre_recovered    16133\n",
    "Name: 702, dtype: int64"
   ]
  },
  {
   "cell_type": "markdown",
   "id": "8ce5d936",
   "metadata": {},
   "source": [
    "nombre_infected       870\n",
    "nombre_sain          2480\n",
    "nombre_exposed        526\n",
    "nombre_recovered    16124\n",
    "Name: 703, dtype: int64"
   ]
  },
  {
   "cell_type": "markdown",
   "id": "d02a1f33",
   "metadata": {},
   "source": [
    "nombre_infected       874\n",
    "nombre_sain          2449\n",
    "nombre_exposed        559\n",
    "nombre_recovered    16118\n",
    "Name: 704, dtype: int64"
   ]
  },
  {
   "cell_type": "markdown",
   "id": "1e7bf016",
   "metadata": {},
   "source": [
    "nombre_infected       887\n",
    "nombre_sain          2430\n",
    "nombre_exposed        571\n",
    "nombre_recovered    16112\n",
    "Name: 705, dtype: int64"
   ]
  },
  {
   "cell_type": "markdown",
   "id": "a067e2d6",
   "metadata": {},
   "source": [
    "nombre_infected       884\n",
    "nombre_sain          2433\n",
    "nombre_exposed        575\n",
    "nombre_recovered    16108\n",
    "Name: 706, dtype: int64"
   ]
  },
  {
   "cell_type": "markdown",
   "id": "64055c62",
   "metadata": {},
   "source": [
    "nombre_infected       908\n",
    "nombre_sain          2403\n",
    "nombre_exposed        557\n",
    "nombre_recovered    16132\n",
    "Name: 707, dtype: int64"
   ]
  },
  {
   "cell_type": "markdown",
   "id": "579e8b02",
   "metadata": {},
   "source": [
    "nombre_infected       916\n",
    "nombre_sain          2370\n",
    "nombre_exposed        565\n",
    "nombre_recovered    16149\n",
    "Name: 708, dtype: int64"
   ]
  },
  {
   "cell_type": "markdown",
   "id": "d37fdfa8",
   "metadata": {},
   "source": [
    "nombre_infected       934\n",
    "nombre_sain          2364\n",
    "nombre_exposed        539\n",
    "nombre_recovered    16163\n",
    "Name: 709, dtype: int64"
   ]
  },
  {
   "cell_type": "markdown",
   "id": "0c7a3a01",
   "metadata": {},
   "source": [
    "nombre_infected       948\n",
    "nombre_sain          2356\n",
    "nombre_exposed        527\n",
    "nombre_recovered    16169\n",
    "Name: 710, dtype: int64"
   ]
  },
  {
   "cell_type": "markdown",
   "id": "ae4f1a8a",
   "metadata": {},
   "source": [
    "nombre_infected       956\n",
    "nombre_sain          2343\n",
    "nombre_exposed        534\n",
    "nombre_recovered    16167\n",
    "Name: 711, dtype: int64"
   ]
  },
  {
   "cell_type": "markdown",
   "id": "fe5a535e",
   "metadata": {},
   "source": [
    "nombre_infected       952\n",
    "nombre_sain          2322\n",
    "nombre_exposed        568\n",
    "nombre_recovered    16158\n",
    "Name: 712, dtype: int64"
   ]
  },
  {
   "cell_type": "markdown",
   "id": "1920ef86",
   "metadata": {},
   "source": [
    "nombre_infected       950\n",
    "nombre_sain          2308\n",
    "nombre_exposed        547\n",
    "nombre_recovered    16195\n",
    "Name: 713, dtype: int64"
   ]
  },
  {
   "cell_type": "markdown",
   "id": "e72020d4",
   "metadata": {},
   "source": [
    "nombre_infected       960\n",
    "nombre_sain          2273\n",
    "nombre_exposed        562\n",
    "nombre_recovered    16205\n",
    "Name: 714, dtype: int64"
   ]
  },
  {
   "cell_type": "markdown",
   "id": "c2b60a00",
   "metadata": {},
   "source": [
    "nombre_infected       942\n",
    "nombre_sain          2263\n",
    "nombre_exposed        561\n",
    "nombre_recovered    16234\n",
    "Name: 715, dtype: int64"
   ]
  },
  {
   "cell_type": "markdown",
   "id": "6e178059",
   "metadata": {},
   "source": [
    "nombre_infected       942\n",
    "nombre_sain          2256\n",
    "nombre_exposed        553\n",
    "nombre_recovered    16249\n",
    "Name: 716, dtype: int64"
   ]
  },
  {
   "cell_type": "markdown",
   "id": "9a5dff69",
   "metadata": {},
   "source": [
    "nombre_infected       934\n",
    "nombre_sain          2233\n",
    "nombre_exposed        557\n",
    "nombre_recovered    16276\n",
    "Name: 717, dtype: int64"
   ]
  },
  {
   "cell_type": "markdown",
   "id": "dbe402a6",
   "metadata": {},
   "source": [
    "nombre_infected       932\n",
    "nombre_sain          2218\n",
    "nombre_exposed        546\n",
    "nombre_recovered    16304\n",
    "Name: 718, dtype: int64"
   ]
  },
  {
   "cell_type": "markdown",
   "id": "10e8c3a8",
   "metadata": {},
   "source": [
    "nombre_infected       955\n",
    "nombre_sain          2199\n",
    "nombre_exposed        528\n",
    "nombre_recovered    16318\n",
    "Name: 719, dtype: int64"
   ]
  },
  {
   "cell_type": "markdown",
   "id": "d3ec9848",
   "metadata": {},
   "source": [
    "nombre_infected       950\n",
    "nombre_sain          2194\n",
    "nombre_exposed        523\n",
    "nombre_recovered    16333\n",
    "Name: 720, dtype: int64"
   ]
  },
  {
   "cell_type": "markdown",
   "id": "0c3efe3b",
   "metadata": {},
   "source": [
    "nombre_infected       958\n",
    "nombre_sain          2169\n",
    "nombre_exposed        520\n",
    "nombre_recovered    16353\n",
    "Name: 721, dtype: int64"
   ]
  },
  {
   "cell_type": "markdown",
   "id": "07afbac7",
   "metadata": {},
   "source": [
    "nombre_infected       942\n",
    "nombre_sain          2147\n",
    "nombre_exposed        545\n",
    "nombre_recovered    16366\n",
    "Name: 722, dtype: int64"
   ]
  },
  {
   "cell_type": "markdown",
   "id": "05a69fc0",
   "metadata": {},
   "source": [
    "nombre_infected       945\n",
    "nombre_sain          2153\n",
    "nombre_exposed        536\n",
    "nombre_recovered    16366\n",
    "Name: 723, dtype: int64"
   ]
  },
  {
   "cell_type": "markdown",
   "id": "473bddcd",
   "metadata": {},
   "source": [
    "nombre_infected       917\n",
    "nombre_sain          2150\n",
    "nombre_exposed        536\n",
    "nombre_recovered    16397\n",
    "Name: 724, dtype: int64"
   ]
  },
  {
   "cell_type": "markdown",
   "id": "8cd28ee0",
   "metadata": {},
   "source": [
    "nombre_infected       918\n",
    "nombre_sain          2134\n",
    "nombre_exposed        526\n",
    "nombre_recovered    16422\n",
    "Name: 725, dtype: int64"
   ]
  },
  {
   "cell_type": "markdown",
   "id": "0bf50048",
   "metadata": {},
   "source": [
    "nombre_infected       930\n",
    "nombre_sain          2134\n",
    "nombre_exposed        528\n",
    "nombre_recovered    16408\n",
    "Name: 726, dtype: int64"
   ]
  },
  {
   "cell_type": "markdown",
   "id": "47a51438",
   "metadata": {},
   "source": [
    "nombre_infected       936\n",
    "nombre_sain          2125\n",
    "nombre_exposed        527\n",
    "nombre_recovered    16412\n",
    "Name: 727, dtype: int64"
   ]
  },
  {
   "cell_type": "markdown",
   "id": "64aba823",
   "metadata": {},
   "source": [
    "nombre_infected       924\n",
    "nombre_sain          2139\n",
    "nombre_exposed        513\n",
    "nombre_recovered    16424\n",
    "Name: 728, dtype: int64"
   ]
  },
  {
   "cell_type": "markdown",
   "id": "87a49325",
   "metadata": {},
   "source": [
    "nombre_infected       941\n",
    "nombre_sain          2162\n",
    "nombre_exposed        497\n",
    "nombre_recovered    16400\n",
    "Name: 729, dtype: int64"
   ]
  },
  {
   "cell_type": "markdown",
   "id": "f97b9d15",
   "metadata": {},
   "source": [
    "nombre_infected       937\n",
    "nombre_sain          2176\n",
    "nombre_exposed        488\n",
    "nombre_recovered    16399\n",
    "Name: 730, dtype: int64"
   ]
  }
 ],
 "metadata": {},
 "nbformat": 4,
 "nbformat_minor": 5
}
