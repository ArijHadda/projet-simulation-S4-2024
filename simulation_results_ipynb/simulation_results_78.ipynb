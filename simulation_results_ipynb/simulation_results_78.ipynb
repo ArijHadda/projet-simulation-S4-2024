{
 "cells": [
  {
   "cell_type": "markdown",
   "id": "bf294302",
   "metadata": {},
   "source": [
    "nombre_infected        20\n",
    "nombre_sain         19980\n",
    "nombre_exposed          0\n",
    "nombre_recovered        0\n",
    "Name: 0, dtype: int64"
   ]
  },
  {
   "cell_type": "markdown",
   "id": "b9e26a1d",
   "metadata": {},
   "source": [
    "nombre_infected        20\n",
    "nombre_sain         19969\n",
    "nombre_exposed         11\n",
    "nombre_recovered        0\n",
    "Name: 1, dtype: int64"
   ]
  },
  {
   "cell_type": "markdown",
   "id": "8cc01a7b",
   "metadata": {},
   "source": [
    "nombre_infected        20\n",
    "nombre_sain         19942\n",
    "nombre_exposed         38\n",
    "nombre_recovered        0\n",
    "Name: 2, dtype: int64"
   ]
  },
  {
   "cell_type": "markdown",
   "id": "a10b7ad2",
   "metadata": {},
   "source": [
    "nombre_infected        23\n",
    "nombre_sain         19908\n",
    "nombre_exposed         69\n",
    "nombre_recovered        0\n",
    "Name: 3, dtype: int64"
   ]
  },
  {
   "cell_type": "markdown",
   "id": "25d9c19d",
   "metadata": {},
   "source": [
    "nombre_infected        35\n",
    "nombre_sain         19876\n",
    "nombre_exposed         89\n",
    "nombre_recovered        0\n",
    "Name: 4, dtype: int64"
   ]
  },
  {
   "cell_type": "markdown",
   "id": "47f89ac0",
   "metadata": {},
   "source": [
    "nombre_infected        50\n",
    "nombre_sain         19825\n",
    "nombre_exposed        125\n",
    "nombre_recovered        0\n",
    "Name: 5, dtype: int64"
   ]
  },
  {
   "cell_type": "markdown",
   "id": "c11edae4",
   "metadata": {},
   "source": [
    "nombre_infected        74\n",
    "nombre_sain         19740\n",
    "nombre_exposed        184\n",
    "nombre_recovered        2\n",
    "Name: 6, dtype: int64"
   ]
  },
  {
   "cell_type": "markdown",
   "id": "eb011222",
   "metadata": {},
   "source": [
    "nombre_infected       109\n",
    "nombre_sain         19629\n",
    "nombre_exposed        256\n",
    "nombre_recovered        6\n",
    "Name: 7, dtype: int64"
   ]
  },
  {
   "cell_type": "markdown",
   "id": "01c65584",
   "metadata": {},
   "source": [
    "nombre_infected       138\n",
    "nombre_sain         19490\n",
    "nombre_exposed        355\n",
    "nombre_recovered       17\n",
    "Name: 8, dtype: int64"
   ]
  },
  {
   "cell_type": "markdown",
   "id": "5cb62df6",
   "metadata": {},
   "source": [
    "nombre_infected       195\n",
    "nombre_sain         19295\n",
    "nombre_exposed        484\n",
    "nombre_recovered       26\n",
    "Name: 9, dtype: int64"
   ]
  },
  {
   "cell_type": "markdown",
   "id": "a8f5fca1",
   "metadata": {},
   "source": [
    "nombre_infected       277\n",
    "nombre_sain         19011\n",
    "nombre_exposed        673\n",
    "nombre_recovered       39\n",
    "Name: 10, dtype: int64"
   ]
  },
  {
   "cell_type": "markdown",
   "id": "ee7c7bef",
   "metadata": {},
   "source": [
    "nombre_infected       372\n",
    "nombre_sain         18677\n",
    "nombre_exposed        890\n",
    "nombre_recovered       61\n",
    "Name: 11, dtype: int64"
   ]
  },
  {
   "cell_type": "markdown",
   "id": "be88de69",
   "metadata": {},
   "source": [
    "nombre_infected       519\n",
    "nombre_sain         18161\n",
    "nombre_exposed       1230\n",
    "nombre_recovered       90\n",
    "Name: 12, dtype: int64"
   ]
  },
  {
   "cell_type": "markdown",
   "id": "ca06291d",
   "metadata": {},
   "source": [
    "nombre_infected       718\n",
    "nombre_sain         17507\n",
    "nombre_exposed       1653\n",
    "nombre_recovered      122\n",
    "Name: 13, dtype: int64"
   ]
  },
  {
   "cell_type": "markdown",
   "id": "c3714700",
   "metadata": {},
   "source": [
    "nombre_infected       974\n",
    "nombre_sain         16666\n",
    "nombre_exposed       2169\n",
    "nombre_recovered      191\n",
    "Name: 14, dtype: int64"
   ]
  },
  {
   "cell_type": "markdown",
   "id": "2109b3ac",
   "metadata": {},
   "source": [
    "nombre_infected      1310\n",
    "nombre_sain         15607\n",
    "nombre_exposed       2827\n",
    "nombre_recovered      256\n",
    "Name: 15, dtype: int64"
   ]
  },
  {
   "cell_type": "markdown",
   "id": "1ed5a350",
   "metadata": {},
   "source": [
    "nombre_infected      1733\n",
    "nombre_sain         14288\n",
    "nombre_exposed       3587\n",
    "nombre_recovered      392\n",
    "Name: 16, dtype: int64"
   ]
  },
  {
   "cell_type": "markdown",
   "id": "d8ce7038",
   "metadata": {},
   "source": [
    "nombre_infected      2273\n",
    "nombre_sain         12791\n",
    "nombre_exposed       4375\n",
    "nombre_recovered      561\n",
    "Name: 17, dtype: int64"
   ]
  },
  {
   "cell_type": "markdown",
   "id": "6472a95b",
   "metadata": {},
   "source": [
    "nombre_infected      3016\n",
    "nombre_sain         10961\n",
    "nombre_exposed       5278\n",
    "nombre_recovered      745\n",
    "Name: 18, dtype: int64"
   ]
  },
  {
   "cell_type": "markdown",
   "id": "a2ad82d7",
   "metadata": {},
   "source": [
    "nombre_infected     3872\n",
    "nombre_sain         9160\n",
    "nombre_exposed      5979\n",
    "nombre_recovered     989\n",
    "Name: 19, dtype: int64"
   ]
  },
  {
   "cell_type": "markdown",
   "id": "a1292a93",
   "metadata": {},
   "source": [
    "nombre_infected     4841\n",
    "nombre_sain         7224\n",
    "nombre_exposed      6564\n",
    "nombre_recovered    1371\n",
    "Name: 20, dtype: int64"
   ]
  },
  {
   "cell_type": "markdown",
   "id": "b1fe2b44",
   "metadata": {},
   "source": [
    "nombre_infected     5909\n",
    "nombre_sain         5485\n",
    "nombre_exposed      6764\n",
    "nombre_recovered    1842\n",
    "Name: 21, dtype: int64"
   ]
  },
  {
   "cell_type": "markdown",
   "id": "ad199548",
   "metadata": {},
   "source": [
    "nombre_infected     7004\n",
    "nombre_sain         3965\n",
    "nombre_exposed      6657\n",
    "nombre_recovered    2374\n",
    "Name: 22, dtype: int64"
   ]
  },
  {
   "cell_type": "markdown",
   "id": "8235bf6a",
   "metadata": {},
   "source": [
    "nombre_infected     8001\n",
    "nombre_sain         2790\n",
    "nombre_exposed      6155\n",
    "nombre_recovered    3054\n",
    "Name: 23, dtype: int64"
   ]
  },
  {
   "cell_type": "markdown",
   "id": "112a6a01",
   "metadata": {},
   "source": [
    "nombre_infected     8839\n",
    "nombre_sain         1919\n",
    "nombre_exposed      5373\n",
    "nombre_recovered    3869\n",
    "Name: 24, dtype: int64"
   ]
  },
  {
   "cell_type": "markdown",
   "id": "138a43ea",
   "metadata": {},
   "source": [
    "nombre_infected     9380\n",
    "nombre_sain         1292\n",
    "nombre_exposed      4544\n",
    "nombre_recovered    4784\n",
    "Name: 25, dtype: int64"
   ]
  },
  {
   "cell_type": "markdown",
   "id": "85fb38e3",
   "metadata": {},
   "source": [
    "nombre_infected     9729\n",
    "nombre_sain          881\n",
    "nombre_exposed      3692\n",
    "nombre_recovered    5698\n",
    "Name: 26, dtype: int64"
   ]
  },
  {
   "cell_type": "markdown",
   "id": "ee4e2ca1",
   "metadata": {},
   "source": [
    "nombre_infected     9736\n",
    "nombre_sain          572\n",
    "nombre_exposed      2997\n",
    "nombre_recovered    6695\n",
    "Name: 27, dtype: int64"
   ]
  },
  {
   "cell_type": "markdown",
   "id": "48813181",
   "metadata": {},
   "source": [
    "nombre_infected     9533\n",
    "nombre_sain          400\n",
    "nombre_exposed      2315\n",
    "nombre_recovered    7752\n",
    "Name: 28, dtype: int64"
   ]
  },
  {
   "cell_type": "markdown",
   "id": "39c095d7",
   "metadata": {},
   "source": [
    "nombre_infected     9188\n",
    "nombre_sain          331\n",
    "nombre_exposed      1728\n",
    "nombre_recovered    8753\n",
    "Name: 29, dtype: int64"
   ]
  },
  {
   "cell_type": "markdown",
   "id": "6a288851",
   "metadata": {},
   "source": [
    "nombre_infected     8700\n",
    "nombre_sain          260\n",
    "nombre_exposed      1329\n",
    "nombre_recovered    9711\n",
    "Name: 30, dtype: int64"
   ]
  },
  {
   "cell_type": "markdown",
   "id": "273b8552",
   "metadata": {},
   "source": [
    "nombre_infected      8063\n",
    "nombre_sain           207\n",
    "nombre_exposed       1032\n",
    "nombre_recovered    10698\n",
    "Name: 31, dtype: int64"
   ]
  },
  {
   "cell_type": "markdown",
   "id": "f3652704",
   "metadata": {},
   "source": [
    "nombre_infected      7485\n",
    "nombre_sain           180\n",
    "nombre_exposed        781\n",
    "nombre_recovered    11554\n",
    "Name: 32, dtype: int64"
   ]
  },
  {
   "cell_type": "markdown",
   "id": "c4254b70",
   "metadata": {},
   "source": [
    "nombre_infected      6835\n",
    "nombre_sain           163\n",
    "nombre_exposed        628\n",
    "nombre_recovered    12374\n",
    "Name: 33, dtype: int64"
   ]
  },
  {
   "cell_type": "markdown",
   "id": "2b2331e5",
   "metadata": {},
   "source": [
    "nombre_infected      6185\n",
    "nombre_sain           171\n",
    "nombre_exposed        488\n",
    "nombre_recovered    13156\n",
    "Name: 34, dtype: int64"
   ]
  },
  {
   "cell_type": "markdown",
   "id": "6b62ebbd",
   "metadata": {},
   "source": [
    "nombre_infected      5580\n",
    "nombre_sain           184\n",
    "nombre_exposed        391\n",
    "nombre_recovered    13845\n",
    "Name: 35, dtype: int64"
   ]
  },
  {
   "cell_type": "markdown",
   "id": "215d6d0d",
   "metadata": {},
   "source": [
    "nombre_infected      5013\n",
    "nombre_sain           182\n",
    "nombre_exposed        320\n",
    "nombre_recovered    14485\n",
    "Name: 36, dtype: int64"
   ]
  },
  {
   "cell_type": "markdown",
   "id": "4a0ce5df",
   "metadata": {},
   "source": [
    "nombre_infected      4473\n",
    "nombre_sain           191\n",
    "nombre_exposed        275\n",
    "nombre_recovered    15061\n",
    "Name: 37, dtype: int64"
   ]
  },
  {
   "cell_type": "markdown",
   "id": "4c46bdf0",
   "metadata": {},
   "source": [
    "nombre_infected      3928\n",
    "nombre_sain           215\n",
    "nombre_exposed        238\n",
    "nombre_recovered    15619\n",
    "Name: 38, dtype: int64"
   ]
  },
  {
   "cell_type": "markdown",
   "id": "9ace7932",
   "metadata": {},
   "source": [
    "nombre_infected      3515\n",
    "nombre_sain           215\n",
    "nombre_exposed        212\n",
    "nombre_recovered    16058\n",
    "Name: 39, dtype: int64"
   ]
  },
  {
   "cell_type": "markdown",
   "id": "10da2d6a",
   "metadata": {},
   "source": [
    "nombre_infected      3109\n",
    "nombre_sain           254\n",
    "nombre_exposed        193\n",
    "nombre_recovered    16444\n",
    "Name: 40, dtype: int64"
   ]
  },
  {
   "cell_type": "markdown",
   "id": "783b1f33",
   "metadata": {},
   "source": [
    "nombre_infected      2719\n",
    "nombre_sain           282\n",
    "nombre_exposed        186\n",
    "nombre_recovered    16813\n",
    "Name: 41, dtype: int64"
   ]
  },
  {
   "cell_type": "markdown",
   "id": "83a31304",
   "metadata": {},
   "source": [
    "nombre_infected      2423\n",
    "nombre_sain           327\n",
    "nombre_exposed        161\n",
    "nombre_recovered    17089\n",
    "Name: 42, dtype: int64"
   ]
  },
  {
   "cell_type": "markdown",
   "id": "4d19192a",
   "metadata": {},
   "source": [
    "nombre_infected      2170\n",
    "nombre_sain           371\n",
    "nombre_exposed        145\n",
    "nombre_recovered    17314\n",
    "Name: 43, dtype: int64"
   ]
  },
  {
   "cell_type": "markdown",
   "id": "a1c9ea10",
   "metadata": {},
   "source": [
    "nombre_infected      1923\n",
    "nombre_sain           420\n",
    "nombre_exposed        150\n",
    "nombre_recovered    17507\n",
    "Name: 44, dtype: int64"
   ]
  },
  {
   "cell_type": "markdown",
   "id": "e1981d41",
   "metadata": {},
   "source": [
    "nombre_infected      1692\n",
    "nombre_sain           474\n",
    "nombre_exposed        144\n",
    "nombre_recovered    17690\n",
    "Name: 45, dtype: int64"
   ]
  },
  {
   "cell_type": "markdown",
   "id": "264be814",
   "metadata": {},
   "source": [
    "nombre_infected      1530\n",
    "nombre_sain           494\n",
    "nombre_exposed        133\n",
    "nombre_recovered    17843\n",
    "Name: 46, dtype: int64"
   ]
  },
  {
   "cell_type": "markdown",
   "id": "4c8f6252",
   "metadata": {},
   "source": [
    "nombre_infected      1372\n",
    "nombre_sain           533\n",
    "nombre_exposed        130\n",
    "nombre_recovered    17965\n",
    "Name: 47, dtype: int64"
   ]
  },
  {
   "cell_type": "markdown",
   "id": "157ecab2",
   "metadata": {},
   "source": [
    "nombre_infected      1237\n",
    "nombre_sain           546\n",
    "nombre_exposed        130\n",
    "nombre_recovered    18087\n",
    "Name: 48, dtype: int64"
   ]
  },
  {
   "cell_type": "markdown",
   "id": "91b840dd",
   "metadata": {},
   "source": [
    "nombre_infected      1131\n",
    "nombre_sain           568\n",
    "nombre_exposed        138\n",
    "nombre_recovered    18163\n",
    "Name: 49, dtype: int64"
   ]
  },
  {
   "cell_type": "markdown",
   "id": "fe3e047b",
   "metadata": {},
   "source": [
    "nombre_infected      1017\n",
    "nombre_sain           585\n",
    "nombre_exposed        145\n",
    "nombre_recovered    18253\n",
    "Name: 50, dtype: int64"
   ]
  },
  {
   "cell_type": "markdown",
   "id": "16a7557b",
   "metadata": {},
   "source": [
    "nombre_infected       934\n",
    "nombre_sain           618\n",
    "nombre_exposed        134\n",
    "nombre_recovered    18314\n",
    "Name: 51, dtype: int64"
   ]
  },
  {
   "cell_type": "markdown",
   "id": "45309278",
   "metadata": {},
   "source": [
    "nombre_infected       871\n",
    "nombre_sain           643\n",
    "nombre_exposed        112\n",
    "nombre_recovered    18374\n",
    "Name: 52, dtype: int64"
   ]
  },
  {
   "cell_type": "markdown",
   "id": "dc61f215",
   "metadata": {},
   "source": [
    "nombre_infected       798\n",
    "nombre_sain           680\n",
    "nombre_exposed        107\n",
    "nombre_recovered    18415\n",
    "Name: 53, dtype: int64"
   ]
  },
  {
   "cell_type": "markdown",
   "id": "25ff650c",
   "metadata": {},
   "source": [
    "nombre_infected       718\n",
    "nombre_sain           706\n",
    "nombre_exposed        105\n",
    "nombre_recovered    18471\n",
    "Name: 54, dtype: int64"
   ]
  },
  {
   "cell_type": "markdown",
   "id": "5e312c86",
   "metadata": {},
   "source": [
    "nombre_infected       678\n",
    "nombre_sain           718\n",
    "nombre_exposed        110\n",
    "nombre_recovered    18494\n",
    "Name: 55, dtype: int64"
   ]
  },
  {
   "cell_type": "markdown",
   "id": "5e48d81b",
   "metadata": {},
   "source": [
    "nombre_infected       620\n",
    "nombre_sain           754\n",
    "nombre_exposed        102\n",
    "nombre_recovered    18524\n",
    "Name: 56, dtype: int64"
   ]
  },
  {
   "cell_type": "markdown",
   "id": "fca10fa0",
   "metadata": {},
   "source": [
    "nombre_infected       569\n",
    "nombre_sain           786\n",
    "nombre_exposed         98\n",
    "nombre_recovered    18547\n",
    "Name: 57, dtype: int64"
   ]
  },
  {
   "cell_type": "markdown",
   "id": "ec47a5aa",
   "metadata": {},
   "source": [
    "nombre_infected       521\n",
    "nombre_sain           807\n",
    "nombre_exposed        112\n",
    "nombre_recovered    18560\n",
    "Name: 58, dtype: int64"
   ]
  },
  {
   "cell_type": "markdown",
   "id": "ca3fc60e",
   "metadata": {},
   "source": [
    "nombre_infected       487\n",
    "nombre_sain           853\n",
    "nombre_exposed         96\n",
    "nombre_recovered    18564\n",
    "Name: 59, dtype: int64"
   ]
  },
  {
   "cell_type": "markdown",
   "id": "3ed91d8b",
   "metadata": {},
   "source": [
    "nombre_infected       471\n",
    "nombre_sain           897\n",
    "nombre_exposed         88\n",
    "nombre_recovered    18544\n",
    "Name: 60, dtype: int64"
   ]
  },
  {
   "cell_type": "markdown",
   "id": "e7d9ab14",
   "metadata": {},
   "source": [
    "nombre_infected       429\n",
    "nombre_sain           939\n",
    "nombre_exposed         90\n",
    "nombre_recovered    18542\n",
    "Name: 61, dtype: int64"
   ]
  },
  {
   "cell_type": "markdown",
   "id": "56932859",
   "metadata": {},
   "source": [
    "nombre_infected       398\n",
    "nombre_sain           997\n",
    "nombre_exposed         82\n",
    "nombre_recovered    18523\n",
    "Name: 62, dtype: int64"
   ]
  },
  {
   "cell_type": "markdown",
   "id": "6772801f",
   "metadata": {},
   "source": [
    "nombre_infected       368\n",
    "nombre_sain          1036\n",
    "nombre_exposed         83\n",
    "nombre_recovered    18513\n",
    "Name: 63, dtype: int64"
   ]
  },
  {
   "cell_type": "markdown",
   "id": "86fdb5c2",
   "metadata": {},
   "source": [
    "nombre_infected       341\n",
    "nombre_sain          1078\n",
    "nombre_exposed         75\n",
    "nombre_recovered    18506\n",
    "Name: 64, dtype: int64"
   ]
  },
  {
   "cell_type": "markdown",
   "id": "410d0a03",
   "metadata": {},
   "source": [
    "nombre_infected       334\n",
    "nombre_sain          1116\n",
    "nombre_exposed         68\n",
    "nombre_recovered    18482\n",
    "Name: 65, dtype: int64"
   ]
  },
  {
   "cell_type": "markdown",
   "id": "4014becb",
   "metadata": {},
   "source": [
    "nombre_infected       315\n",
    "nombre_sain          1144\n",
    "nombre_exposed         68\n",
    "nombre_recovered    18473\n",
    "Name: 66, dtype: int64"
   ]
  },
  {
   "cell_type": "markdown",
   "id": "6f3e8934",
   "metadata": {},
   "source": [
    "nombre_infected       262\n",
    "nombre_sain          1178\n",
    "nombre_exposed         73\n",
    "nombre_recovered    18487\n",
    "Name: 67, dtype: int64"
   ]
  },
  {
   "cell_type": "markdown",
   "id": "a4626243",
   "metadata": {},
   "source": [
    "nombre_infected       235\n",
    "nombre_sain          1212\n",
    "nombre_exposed         60\n",
    "nombre_recovered    18493\n",
    "Name: 68, dtype: int64"
   ]
  },
  {
   "cell_type": "markdown",
   "id": "a3d5457f",
   "metadata": {},
   "source": [
    "nombre_infected       214\n",
    "nombre_sain          1245\n",
    "nombre_exposed         59\n",
    "nombre_recovered    18482\n",
    "Name: 69, dtype: int64"
   ]
  },
  {
   "cell_type": "markdown",
   "id": "0e72a830",
   "metadata": {},
   "source": [
    "nombre_infected       189\n",
    "nombre_sain          1278\n",
    "nombre_exposed         48\n",
    "nombre_recovered    18485\n",
    "Name: 70, dtype: int64"
   ]
  },
  {
   "cell_type": "markdown",
   "id": "4206e8c6",
   "metadata": {},
   "source": [
    "nombre_infected       165\n",
    "nombre_sain          1344\n",
    "nombre_exposed         43\n",
    "nombre_recovered    18448\n",
    "Name: 71, dtype: int64"
   ]
  },
  {
   "cell_type": "markdown",
   "id": "509d855c",
   "metadata": {},
   "source": [
    "nombre_infected       153\n",
    "nombre_sain          1385\n",
    "nombre_exposed         42\n",
    "nombre_recovered    18420\n",
    "Name: 72, dtype: int64"
   ]
  },
  {
   "cell_type": "markdown",
   "id": "7cbcabea",
   "metadata": {},
   "source": [
    "nombre_infected       140\n",
    "nombre_sain          1431\n",
    "nombre_exposed         36\n",
    "nombre_recovered    18393\n",
    "Name: 73, dtype: int64"
   ]
  },
  {
   "cell_type": "markdown",
   "id": "406a44ee",
   "metadata": {},
   "source": [
    "nombre_infected       133\n",
    "nombre_sain          1470\n",
    "nombre_exposed         37\n",
    "nombre_recovered    18360\n",
    "Name: 74, dtype: int64"
   ]
  },
  {
   "cell_type": "markdown",
   "id": "c7d42788",
   "metadata": {},
   "source": [
    "nombre_infected       115\n",
    "nombre_sain          1521\n",
    "nombre_exposed         43\n",
    "nombre_recovered    18321\n",
    "Name: 75, dtype: int64"
   ]
  },
  {
   "cell_type": "markdown",
   "id": "04738e40",
   "metadata": {},
   "source": [
    "nombre_infected       106\n",
    "nombre_sain          1576\n",
    "nombre_exposed         43\n",
    "nombre_recovered    18275\n",
    "Name: 76, dtype: int64"
   ]
  },
  {
   "cell_type": "markdown",
   "id": "2bbeacc5",
   "metadata": {},
   "source": [
    "nombre_infected       102\n",
    "nombre_sain          1627\n",
    "nombre_exposed         47\n",
    "nombre_recovered    18224\n",
    "Name: 77, dtype: int64"
   ]
  },
  {
   "cell_type": "markdown",
   "id": "869c5077",
   "metadata": {},
   "source": [
    "nombre_infected       109\n",
    "nombre_sain          1684\n",
    "nombre_exposed         35\n",
    "nombre_recovered    18172\n",
    "Name: 78, dtype: int64"
   ]
  },
  {
   "cell_type": "markdown",
   "id": "475fc76a",
   "metadata": {},
   "source": [
    "nombre_infected       102\n",
    "nombre_sain          1735\n",
    "nombre_exposed         33\n",
    "nombre_recovered    18130\n",
    "Name: 79, dtype: int64"
   ]
  },
  {
   "cell_type": "markdown",
   "id": "aaf843a7",
   "metadata": {},
   "source": [
    "nombre_infected        95\n",
    "nombre_sain          1788\n",
    "nombre_exposed         32\n",
    "nombre_recovered    18085\n",
    "Name: 80, dtype: int64"
   ]
  },
  {
   "cell_type": "markdown",
   "id": "5060b6af",
   "metadata": {},
   "source": [
    "nombre_infected        88\n",
    "nombre_sain          1845\n",
    "nombre_exposed         33\n",
    "nombre_recovered    18034\n",
    "Name: 81, dtype: int64"
   ]
  },
  {
   "cell_type": "markdown",
   "id": "e1815156",
   "metadata": {},
   "source": [
    "nombre_infected        88\n",
    "nombre_sain          1905\n",
    "nombre_exposed         34\n",
    "nombre_recovered    17973\n",
    "Name: 82, dtype: int64"
   ]
  },
  {
   "cell_type": "markdown",
   "id": "67725f28",
   "metadata": {},
   "source": [
    "nombre_infected        79\n",
    "nombre_sain          1970\n",
    "nombre_exposed         36\n",
    "nombre_recovered    17915\n",
    "Name: 83, dtype: int64"
   ]
  },
  {
   "cell_type": "markdown",
   "id": "7563c1a2",
   "metadata": {},
   "source": [
    "nombre_infected        73\n",
    "nombre_sain          2023\n",
    "nombre_exposed         35\n",
    "nombre_recovered    17869\n",
    "Name: 84, dtype: int64"
   ]
  },
  {
   "cell_type": "markdown",
   "id": "dc873edf",
   "metadata": {},
   "source": [
    "nombre_infected        69\n",
    "nombre_sain          2089\n",
    "nombre_exposed         32\n",
    "nombre_recovered    17810\n",
    "Name: 85, dtype: int64"
   ]
  },
  {
   "cell_type": "markdown",
   "id": "782cd6e0",
   "metadata": {},
   "source": [
    "nombre_infected        67\n",
    "nombre_sain          2152\n",
    "nombre_exposed         31\n",
    "nombre_recovered    17750\n",
    "Name: 86, dtype: int64"
   ]
  },
  {
   "cell_type": "markdown",
   "id": "b17b00ee",
   "metadata": {},
   "source": [
    "nombre_infected        70\n",
    "nombre_sain          2208\n",
    "nombre_exposed         30\n",
    "nombre_recovered    17692\n",
    "Name: 87, dtype: int64"
   ]
  },
  {
   "cell_type": "markdown",
   "id": "e1e8d115",
   "metadata": {},
   "source": [
    "nombre_infected        69\n",
    "nombre_sain          2250\n",
    "nombre_exposed         36\n",
    "nombre_recovered    17645\n",
    "Name: 88, dtype: int64"
   ]
  },
  {
   "cell_type": "markdown",
   "id": "17c89d75",
   "metadata": {},
   "source": [
    "nombre_infected        71\n",
    "nombre_sain          2301\n",
    "nombre_exposed         42\n",
    "nombre_recovered    17586\n",
    "Name: 89, dtype: int64"
   ]
  },
  {
   "cell_type": "markdown",
   "id": "687c274b",
   "metadata": {},
   "source": [
    "nombre_infected        69\n",
    "nombre_sain          2362\n",
    "nombre_exposed         40\n",
    "nombre_recovered    17529\n",
    "Name: 90, dtype: int64"
   ]
  },
  {
   "cell_type": "markdown",
   "id": "3371fdc6",
   "metadata": {},
   "source": [
    "nombre_infected        73\n",
    "nombre_sain          2421\n",
    "nombre_exposed         40\n",
    "nombre_recovered    17466\n",
    "Name: 91, dtype: int64"
   ]
  },
  {
   "cell_type": "markdown",
   "id": "bb772a36",
   "metadata": {},
   "source": [
    "nombre_infected        71\n",
    "nombre_sain          2467\n",
    "nombre_exposed         40\n",
    "nombre_recovered    17422\n",
    "Name: 92, dtype: int64"
   ]
  },
  {
   "cell_type": "markdown",
   "id": "8d154566",
   "metadata": {},
   "source": [
    "nombre_infected        68\n",
    "nombre_sain          2522\n",
    "nombre_exposed         41\n",
    "nombre_recovered    17369\n",
    "Name: 93, dtype: int64"
   ]
  },
  {
   "cell_type": "markdown",
   "id": "1ded0857",
   "metadata": {},
   "source": [
    "nombre_infected        66\n",
    "nombre_sain          2575\n",
    "nombre_exposed         42\n",
    "nombre_recovered    17317\n",
    "Name: 94, dtype: int64"
   ]
  },
  {
   "cell_type": "markdown",
   "id": "96441353",
   "metadata": {},
   "source": [
    "nombre_infected        61\n",
    "nombre_sain          2652\n",
    "nombre_exposed         25\n",
    "nombre_recovered    17262\n",
    "Name: 95, dtype: int64"
   ]
  },
  {
   "cell_type": "markdown",
   "id": "9e47d4ef",
   "metadata": {},
   "source": [
    "nombre_infected        59\n",
    "nombre_sain          2717\n",
    "nombre_exposed         26\n",
    "nombre_recovered    17198\n",
    "Name: 96, dtype: int64"
   ]
  },
  {
   "cell_type": "markdown",
   "id": "381f3dbc",
   "metadata": {},
   "source": [
    "nombre_infected        52\n",
    "nombre_sain          2775\n",
    "nombre_exposed         33\n",
    "nombre_recovered    17140\n",
    "Name: 97, dtype: int64"
   ]
  },
  {
   "cell_type": "markdown",
   "id": "4dfbce5f",
   "metadata": {},
   "source": [
    "nombre_infected        52\n",
    "nombre_sain          2838\n",
    "nombre_exposed         37\n",
    "nombre_recovered    17073\n",
    "Name: 98, dtype: int64"
   ]
  },
  {
   "cell_type": "markdown",
   "id": "adab5b39",
   "metadata": {},
   "source": [
    "nombre_infected        55\n",
    "nombre_sain          2875\n",
    "nombre_exposed         46\n",
    "nombre_recovered    17024\n",
    "Name: 99, dtype: int64"
   ]
  },
  {
   "cell_type": "markdown",
   "id": "2fdf1b34",
   "metadata": {},
   "source": [
    "nombre_infected        53\n",
    "nombre_sain          2941\n",
    "nombre_exposed         48\n",
    "nombre_recovered    16958\n",
    "Name: 100, dtype: int64"
   ]
  },
  {
   "cell_type": "markdown",
   "id": "c66f2abd",
   "metadata": {},
   "source": [
    "nombre_infected        59\n",
    "nombre_sain          3014\n",
    "nombre_exposed         48\n",
    "nombre_recovered    16879\n",
    "Name: 101, dtype: int64"
   ]
  },
  {
   "cell_type": "markdown",
   "id": "77554b5b",
   "metadata": {},
   "source": [
    "nombre_infected        68\n",
    "nombre_sain          3068\n",
    "nombre_exposed         49\n",
    "nombre_recovered    16815\n",
    "Name: 102, dtype: int64"
   ]
  },
  {
   "cell_type": "markdown",
   "id": "3c0a1ddd",
   "metadata": {},
   "source": [
    "nombre_infected        70\n",
    "nombre_sain          3118\n",
    "nombre_exposed         44\n",
    "nombre_recovered    16768\n",
    "Name: 103, dtype: int64"
   ]
  },
  {
   "cell_type": "markdown",
   "id": "15687917",
   "metadata": {},
   "source": [
    "nombre_infected        71\n",
    "nombre_sain          3194\n",
    "nombre_exposed         46\n",
    "nombre_recovered    16689\n",
    "Name: 104, dtype: int64"
   ]
  },
  {
   "cell_type": "markdown",
   "id": "034eeb67",
   "metadata": {},
   "source": [
    "nombre_infected        71\n",
    "nombre_sain          3256\n",
    "nombre_exposed         52\n",
    "nombre_recovered    16621\n",
    "Name: 105, dtype: int64"
   ]
  },
  {
   "cell_type": "markdown",
   "id": "193fc3d9",
   "metadata": {},
   "source": [
    "nombre_infected        71\n",
    "nombre_sain          3296\n",
    "nombre_exposed         60\n",
    "nombre_recovered    16573\n",
    "Name: 106, dtype: int64"
   ]
  },
  {
   "cell_type": "markdown",
   "id": "f892d40d",
   "metadata": {},
   "source": [
    "nombre_infected        70\n",
    "nombre_sain          3358\n",
    "nombre_exposed         59\n",
    "nombre_recovered    16513\n",
    "Name: 107, dtype: int64"
   ]
  },
  {
   "cell_type": "markdown",
   "id": "5ae3eb4d",
   "metadata": {},
   "source": [
    "nombre_infected        85\n",
    "nombre_sain          3410\n",
    "nombre_exposed         55\n",
    "nombre_recovered    16450\n",
    "Name: 108, dtype: int64"
   ]
  },
  {
   "cell_type": "markdown",
   "id": "b57bdd14",
   "metadata": {},
   "source": [
    "nombre_infected        88\n",
    "nombre_sain          3444\n",
    "nombre_exposed         59\n",
    "nombre_recovered    16409\n",
    "Name: 109, dtype: int64"
   ]
  },
  {
   "cell_type": "markdown",
   "id": "e8588c10",
   "metadata": {},
   "source": [
    "nombre_infected        89\n",
    "nombre_sain          3489\n",
    "nombre_exposed         66\n",
    "nombre_recovered    16356\n",
    "Name: 110, dtype: int64"
   ]
  },
  {
   "cell_type": "markdown",
   "id": "b87b1e61",
   "metadata": {},
   "source": [
    "nombre_infected        89\n",
    "nombre_sain          3535\n",
    "nombre_exposed         72\n",
    "nombre_recovered    16304\n",
    "Name: 111, dtype: int64"
   ]
  },
  {
   "cell_type": "markdown",
   "id": "18bb8faa",
   "metadata": {},
   "source": [
    "nombre_infected        96\n",
    "nombre_sain          3577\n",
    "nombre_exposed         67\n",
    "nombre_recovered    16260\n",
    "Name: 112, dtype: int64"
   ]
  },
  {
   "cell_type": "markdown",
   "id": "173803d4",
   "metadata": {},
   "source": [
    "nombre_infected       111\n",
    "nombre_sain          3610\n",
    "nombre_exposed         73\n",
    "nombre_recovered    16206\n",
    "Name: 113, dtype: int64"
   ]
  },
  {
   "cell_type": "markdown",
   "id": "a3f0ba29",
   "metadata": {},
   "source": [
    "nombre_infected       119\n",
    "nombre_sain          3653\n",
    "nombre_exposed         86\n",
    "nombre_recovered    16142\n",
    "Name: 114, dtype: int64"
   ]
  },
  {
   "cell_type": "markdown",
   "id": "c5d6fb3c",
   "metadata": {},
   "source": [
    "nombre_infected       116\n",
    "nombre_sain          3687\n",
    "nombre_exposed         94\n",
    "nombre_recovered    16103\n",
    "Name: 115, dtype: int64"
   ]
  },
  {
   "cell_type": "markdown",
   "id": "5464addd",
   "metadata": {},
   "source": [
    "nombre_infected       118\n",
    "nombre_sain          3736\n",
    "nombre_exposed         80\n",
    "nombre_recovered    16066\n",
    "Name: 116, dtype: int64"
   ]
  },
  {
   "cell_type": "markdown",
   "id": "4a0a4846",
   "metadata": {},
   "source": [
    "nombre_infected       133\n",
    "nombre_sain          3763\n",
    "nombre_exposed         91\n",
    "nombre_recovered    16013\n",
    "Name: 117, dtype: int64"
   ]
  },
  {
   "cell_type": "markdown",
   "id": "572e543e",
   "metadata": {},
   "source": [
    "nombre_infected       146\n",
    "nombre_sain          3786\n",
    "nombre_exposed         96\n",
    "nombre_recovered    15972\n",
    "Name: 118, dtype: int64"
   ]
  },
  {
   "cell_type": "markdown",
   "id": "96edb871",
   "metadata": {},
   "source": [
    "nombre_infected       152\n",
    "nombre_sain          3810\n",
    "nombre_exposed        111\n",
    "nombre_recovered    15927\n",
    "Name: 119, dtype: int64"
   ]
  },
  {
   "cell_type": "markdown",
   "id": "16835a5f",
   "metadata": {},
   "source": [
    "nombre_infected       163\n",
    "nombre_sain          3836\n",
    "nombre_exposed        123\n",
    "nombre_recovered    15878\n",
    "Name: 120, dtype: int64"
   ]
  },
  {
   "cell_type": "markdown",
   "id": "cb2c51a5",
   "metadata": {},
   "source": [
    "nombre_infected       163\n",
    "nombre_sain          3863\n",
    "nombre_exposed        135\n",
    "nombre_recovered    15839\n",
    "Name: 121, dtype: int64"
   ]
  },
  {
   "cell_type": "markdown",
   "id": "1b579412",
   "metadata": {},
   "source": [
    "nombre_infected       186\n",
    "nombre_sain          3870\n",
    "nombre_exposed        133\n",
    "nombre_recovered    15811\n",
    "Name: 122, dtype: int64"
   ]
  },
  {
   "cell_type": "markdown",
   "id": "54002e93",
   "metadata": {},
   "source": [
    "nombre_infected       206\n",
    "nombre_sain          3870\n",
    "nombre_exposed        149\n",
    "nombre_recovered    15775\n",
    "Name: 123, dtype: int64"
   ]
  },
  {
   "cell_type": "markdown",
   "id": "d69e927b",
   "metadata": {},
   "source": [
    "nombre_infected       216\n",
    "nombre_sain          3865\n",
    "nombre_exposed        170\n",
    "nombre_recovered    15749\n",
    "Name: 124, dtype: int64"
   ]
  },
  {
   "cell_type": "markdown",
   "id": "e9526824",
   "metadata": {},
   "source": [
    "nombre_infected       230\n",
    "nombre_sain          3868\n",
    "nombre_exposed        178\n",
    "nombre_recovered    15724\n",
    "Name: 125, dtype: int64"
   ]
  },
  {
   "cell_type": "markdown",
   "id": "0b5e72e9",
   "metadata": {},
   "source": [
    "nombre_infected       253\n",
    "nombre_sain          3843\n",
    "nombre_exposed        193\n",
    "nombre_recovered    15711\n",
    "Name: 126, dtype: int64"
   ]
  },
  {
   "cell_type": "markdown",
   "id": "44b40aaa",
   "metadata": {},
   "source": [
    "nombre_infected       295\n",
    "nombre_sain          3827\n",
    "nombre_exposed        197\n",
    "nombre_recovered    15681\n",
    "Name: 127, dtype: int64"
   ]
  },
  {
   "cell_type": "markdown",
   "id": "b4f569cc",
   "metadata": {},
   "source": [
    "nombre_infected       314\n",
    "nombre_sain          3797\n",
    "nombre_exposed        230\n",
    "nombre_recovered    15659\n",
    "Name: 128, dtype: int64"
   ]
  },
  {
   "cell_type": "markdown",
   "id": "fcc250af",
   "metadata": {},
   "source": [
    "nombre_infected       328\n",
    "nombre_sain          3770\n",
    "nombre_exposed        243\n",
    "nombre_recovered    15659\n",
    "Name: 129, dtype: int64"
   ]
  },
  {
   "cell_type": "markdown",
   "id": "559884c0",
   "metadata": {},
   "source": [
    "nombre_infected       363\n",
    "nombre_sain          3741\n",
    "nombre_exposed        251\n",
    "nombre_recovered    15645\n",
    "Name: 130, dtype: int64"
   ]
  },
  {
   "cell_type": "markdown",
   "id": "4f01528e",
   "metadata": {},
   "source": [
    "nombre_infected       343\n",
    "nombre_sain          3703\n",
    "nombre_exposed        288\n",
    "nombre_recovered    15666\n",
    "Name: 131, dtype: int64"
   ]
  },
  {
   "cell_type": "markdown",
   "id": "1f98015f",
   "metadata": {},
   "source": [
    "nombre_infected       389\n",
    "nombre_sain          3682\n",
    "nombre_exposed        283\n",
    "nombre_recovered    15646\n",
    "Name: 132, dtype: int64"
   ]
  },
  {
   "cell_type": "markdown",
   "id": "5bd06ffa",
   "metadata": {},
   "source": [
    "nombre_infected       414\n",
    "nombre_sain          3639\n",
    "nombre_exposed        303\n",
    "nombre_recovered    15644\n",
    "Name: 133, dtype: int64"
   ]
  },
  {
   "cell_type": "markdown",
   "id": "28fa8074",
   "metadata": {},
   "source": [
    "nombre_infected       438\n",
    "nombre_sain          3591\n",
    "nombre_exposed        305\n",
    "nombre_recovered    15666\n",
    "Name: 134, dtype: int64"
   ]
  },
  {
   "cell_type": "markdown",
   "id": "c2210145",
   "metadata": {},
   "source": [
    "nombre_infected       479\n",
    "nombre_sain          3534\n",
    "nombre_exposed        308\n",
    "nombre_recovered    15679\n",
    "Name: 135, dtype: int64"
   ]
  },
  {
   "cell_type": "markdown",
   "id": "67fa7eaf",
   "metadata": {},
   "source": [
    "nombre_infected       493\n",
    "nombre_sain          3448\n",
    "nombre_exposed        372\n",
    "nombre_recovered    15687\n",
    "Name: 136, dtype: int64"
   ]
  },
  {
   "cell_type": "markdown",
   "id": "9b5f6f7e",
   "metadata": {},
   "source": [
    "nombre_infected       531\n",
    "nombre_sain          3390\n",
    "nombre_exposed        365\n",
    "nombre_recovered    15714\n",
    "Name: 137, dtype: int64"
   ]
  },
  {
   "cell_type": "markdown",
   "id": "c48ad67e",
   "metadata": {},
   "source": [
    "nombre_infected       579\n",
    "nombre_sain          3318\n",
    "nombre_exposed        369\n",
    "nombre_recovered    15734\n",
    "Name: 138, dtype: int64"
   ]
  },
  {
   "cell_type": "markdown",
   "id": "8af8c5fe",
   "metadata": {},
   "source": [
    "nombre_infected       619\n",
    "nombre_sain          3228\n",
    "nombre_exposed        400\n",
    "nombre_recovered    15753\n",
    "Name: 139, dtype: int64"
   ]
  },
  {
   "cell_type": "markdown",
   "id": "8368c652",
   "metadata": {},
   "source": [
    "nombre_infected       659\n",
    "nombre_sain          3131\n",
    "nombre_exposed        421\n",
    "nombre_recovered    15789\n",
    "Name: 140, dtype: int64"
   ]
  },
  {
   "cell_type": "markdown",
   "id": "5a5ec51f",
   "metadata": {},
   "source": [
    "nombre_infected       688\n",
    "nombre_sain          3029\n",
    "nombre_exposed        466\n",
    "nombre_recovered    15817\n",
    "Name: 141, dtype: int64"
   ]
  },
  {
   "cell_type": "markdown",
   "id": "71f6ecae",
   "metadata": {},
   "source": [
    "nombre_infected       722\n",
    "nombre_sain          2933\n",
    "nombre_exposed        485\n",
    "nombre_recovered    15860\n",
    "Name: 142, dtype: int64"
   ]
  },
  {
   "cell_type": "markdown",
   "id": "84ea9f2f",
   "metadata": {},
   "source": [
    "nombre_infected       778\n",
    "nombre_sain          2845\n",
    "nombre_exposed        470\n",
    "nombre_recovered    15907\n",
    "Name: 143, dtype: int64"
   ]
  },
  {
   "cell_type": "markdown",
   "id": "31718c39",
   "metadata": {},
   "source": [
    "nombre_infected       803\n",
    "nombre_sain          2758\n",
    "nombre_exposed        492\n",
    "nombre_recovered    15947\n",
    "Name: 144, dtype: int64"
   ]
  },
  {
   "cell_type": "markdown",
   "id": "a97f6b51",
   "metadata": {},
   "source": [
    "nombre_infected       837\n",
    "nombre_sain          2701\n",
    "nombre_exposed        474\n",
    "nombre_recovered    15988\n",
    "Name: 145, dtype: int64"
   ]
  },
  {
   "cell_type": "markdown",
   "id": "f31043fb",
   "metadata": {},
   "source": [
    "nombre_infected       878\n",
    "nombre_sain          2610\n",
    "nombre_exposed        468\n",
    "nombre_recovered    16044\n",
    "Name: 146, dtype: int64"
   ]
  },
  {
   "cell_type": "markdown",
   "id": "6cb477cc",
   "metadata": {},
   "source": [
    "nombre_infected       903\n",
    "nombre_sain          2532\n",
    "nombre_exposed        472\n",
    "nombre_recovered    16093\n",
    "Name: 147, dtype: int64"
   ]
  },
  {
   "cell_type": "markdown",
   "id": "7a3830e1",
   "metadata": {},
   "source": [
    "nombre_infected       929\n",
    "nombre_sain          2448\n",
    "nombre_exposed        481\n",
    "nombre_recovered    16142\n",
    "Name: 148, dtype: int64"
   ]
  },
  {
   "cell_type": "markdown",
   "id": "7ddb243b",
   "metadata": {},
   "source": [
    "nombre_infected       938\n",
    "nombre_sain          2391\n",
    "nombre_exposed        477\n",
    "nombre_recovered    16194\n",
    "Name: 149, dtype: int64"
   ]
  },
  {
   "cell_type": "markdown",
   "id": "2d84c5bb",
   "metadata": {},
   "source": [
    "nombre_infected       972\n",
    "nombre_sain          2317\n",
    "nombre_exposed        473\n",
    "nombre_recovered    16238\n",
    "Name: 150, dtype: int64"
   ]
  },
  {
   "cell_type": "markdown",
   "id": "cd7be937",
   "metadata": {},
   "source": [
    "nombre_infected       986\n",
    "nombre_sain          2230\n",
    "nombre_exposed        502\n",
    "nombre_recovered    16282\n",
    "Name: 151, dtype: int64"
   ]
  },
  {
   "cell_type": "markdown",
   "id": "212364c4",
   "metadata": {},
   "source": [
    "nombre_infected       993\n",
    "nombre_sain          2145\n",
    "nombre_exposed        521\n",
    "nombre_recovered    16341\n",
    "Name: 152, dtype: int64"
   ]
  },
  {
   "cell_type": "markdown",
   "id": "bb89864d",
   "metadata": {},
   "source": [
    "nombre_infected      1011\n",
    "nombre_sain          2078\n",
    "nombre_exposed        522\n",
    "nombre_recovered    16389\n",
    "Name: 153, dtype: int64"
   ]
  },
  {
   "cell_type": "markdown",
   "id": "aaadef8c",
   "metadata": {},
   "source": [
    "nombre_infected      1031\n",
    "nombre_sain          2029\n",
    "nombre_exposed        515\n",
    "nombre_recovered    16425\n",
    "Name: 154, dtype: int64"
   ]
  },
  {
   "cell_type": "markdown",
   "id": "c3238e18",
   "metadata": {},
   "source": [
    "nombre_infected      1048\n",
    "nombre_sain          1987\n",
    "nombre_exposed        499\n",
    "nombre_recovered    16466\n",
    "Name: 155, dtype: int64"
   ]
  },
  {
   "cell_type": "markdown",
   "id": "6a66a55a",
   "metadata": {},
   "source": [
    "nombre_infected      1077\n",
    "nombre_sain          1927\n",
    "nombre_exposed        483\n",
    "nombre_recovered    16513\n",
    "Name: 156, dtype: int64"
   ]
  },
  {
   "cell_type": "markdown",
   "id": "56c230b3",
   "metadata": {},
   "source": [
    "nombre_infected      1097\n",
    "nombre_sain          1891\n",
    "nombre_exposed        436\n",
    "nombre_recovered    16576\n",
    "Name: 157, dtype: int64"
   ]
  },
  {
   "cell_type": "markdown",
   "id": "ac9ffbc5",
   "metadata": {},
   "source": [
    "nombre_infected      1122\n",
    "nombre_sain          1822\n",
    "nombre_exposed        431\n",
    "nombre_recovered    16625\n",
    "Name: 158, dtype: int64"
   ]
  },
  {
   "cell_type": "markdown",
   "id": "3fb7c2ca",
   "metadata": {},
   "source": [
    "nombre_infected      1092\n",
    "nombre_sain          1787\n",
    "nombre_exposed        435\n",
    "nombre_recovered    16686\n",
    "Name: 159, dtype: int64"
   ]
  },
  {
   "cell_type": "markdown",
   "id": "104b648d",
   "metadata": {},
   "source": [
    "nombre_infected      1086\n",
    "nombre_sain          1758\n",
    "nombre_exposed        396\n",
    "nombre_recovered    16760\n",
    "Name: 160, dtype: int64"
   ]
  },
  {
   "cell_type": "markdown",
   "id": "5a9f69e4",
   "metadata": {},
   "source": [
    "nombre_infected      1060\n",
    "nombre_sain          1710\n",
    "nombre_exposed        414\n",
    "nombre_recovered    16816\n",
    "Name: 161, dtype: int64"
   ]
  },
  {
   "cell_type": "markdown",
   "id": "9fe96fab",
   "metadata": {},
   "source": [
    "nombre_infected      1039\n",
    "nombre_sain          1678\n",
    "nombre_exposed        413\n",
    "nombre_recovered    16870\n",
    "Name: 162, dtype: int64"
   ]
  },
  {
   "cell_type": "markdown",
   "id": "191eae0b",
   "metadata": {},
   "source": [
    "nombre_infected      1029\n",
    "nombre_sain          1651\n",
    "nombre_exposed        399\n",
    "nombre_recovered    16921\n",
    "Name: 163, dtype: int64"
   ]
  },
  {
   "cell_type": "markdown",
   "id": "41ae8ce2",
   "metadata": {},
   "source": [
    "nombre_infected      1019\n",
    "nombre_sain          1648\n",
    "nombre_exposed        359\n",
    "nombre_recovered    16974\n",
    "Name: 164, dtype: int64"
   ]
  },
  {
   "cell_type": "markdown",
   "id": "1559a3ae",
   "metadata": {},
   "source": [
    "nombre_infected      1000\n",
    "nombre_sain          1628\n",
    "nombre_exposed        361\n",
    "nombre_recovered    17011\n",
    "Name: 165, dtype: int64"
   ]
  },
  {
   "cell_type": "markdown",
   "id": "768f69f4",
   "metadata": {},
   "source": [
    "nombre_infected       986\n",
    "nombre_sain          1622\n",
    "nombre_exposed        344\n",
    "nombre_recovered    17048\n",
    "Name: 166, dtype: int64"
   ]
  },
  {
   "cell_type": "markdown",
   "id": "2ee418ae",
   "metadata": {},
   "source": [
    "nombre_infected       974\n",
    "nombre_sain          1621\n",
    "nombre_exposed        339\n",
    "nombre_recovered    17066\n",
    "Name: 167, dtype: int64"
   ]
  },
  {
   "cell_type": "markdown",
   "id": "bf54ad30",
   "metadata": {},
   "source": [
    "nombre_infected       931\n",
    "nombre_sain          1645\n",
    "nombre_exposed        339\n",
    "nombre_recovered    17085\n",
    "Name: 168, dtype: int64"
   ]
  },
  {
   "cell_type": "markdown",
   "id": "147f1c9d",
   "metadata": {},
   "source": [
    "nombre_infected       930\n",
    "nombre_sain          1665\n",
    "nombre_exposed        333\n",
    "nombre_recovered    17072\n",
    "Name: 169, dtype: int64"
   ]
  },
  {
   "cell_type": "markdown",
   "id": "cdd298af",
   "metadata": {},
   "source": [
    "nombre_infected       912\n",
    "nombre_sain          1704\n",
    "nombre_exposed        327\n",
    "nombre_recovered    17057\n",
    "Name: 170, dtype: int64"
   ]
  },
  {
   "cell_type": "markdown",
   "id": "c5d89239",
   "metadata": {},
   "source": [
    "nombre_infected       871\n",
    "nombre_sain          1729\n",
    "nombre_exposed        334\n",
    "nombre_recovered    17066\n",
    "Name: 171, dtype: int64"
   ]
  },
  {
   "cell_type": "markdown",
   "id": "601fb2e0",
   "metadata": {},
   "source": [
    "nombre_infected       841\n",
    "nombre_sain          1750\n",
    "nombre_exposed        330\n",
    "nombre_recovered    17079\n",
    "Name: 172, dtype: int64"
   ]
  },
  {
   "cell_type": "markdown",
   "id": "6deaa865",
   "metadata": {},
   "source": [
    "nombre_infected       828\n",
    "nombre_sain          1788\n",
    "nombre_exposed        316\n",
    "nombre_recovered    17068\n",
    "Name: 173, dtype: int64"
   ]
  },
  {
   "cell_type": "markdown",
   "id": "9efd8b06",
   "metadata": {},
   "source": [
    "nombre_infected       800\n",
    "nombre_sain          1823\n",
    "nombre_exposed        321\n",
    "nombre_recovered    17056\n",
    "Name: 174, dtype: int64"
   ]
  },
  {
   "cell_type": "markdown",
   "id": "535fb620",
   "metadata": {},
   "source": [
    "nombre_infected       763\n",
    "nombre_sain          1833\n",
    "nombre_exposed        341\n",
    "nombre_recovered    17063\n",
    "Name: 175, dtype: int64"
   ]
  },
  {
   "cell_type": "markdown",
   "id": "748cb4f4",
   "metadata": {},
   "source": [
    "nombre_infected       769\n",
    "nombre_sain          1858\n",
    "nombre_exposed        317\n",
    "nombre_recovered    17056\n",
    "Name: 176, dtype: int64"
   ]
  },
  {
   "cell_type": "markdown",
   "id": "95eecb9c",
   "metadata": {},
   "source": [
    "nombre_infected       779\n",
    "nombre_sain          1880\n",
    "nombre_exposed        315\n",
    "nombre_recovered    17026\n",
    "Name: 177, dtype: int64"
   ]
  },
  {
   "cell_type": "markdown",
   "id": "69843e73",
   "metadata": {},
   "source": [
    "nombre_infected       737\n",
    "nombre_sain          1912\n",
    "nombre_exposed        327\n",
    "nombre_recovered    17024\n",
    "Name: 178, dtype: int64"
   ]
  },
  {
   "cell_type": "markdown",
   "id": "f7e7c97e",
   "metadata": {},
   "source": [
    "nombre_infected       733\n",
    "nombre_sain          1946\n",
    "nombre_exposed        302\n",
    "nombre_recovered    17019\n",
    "Name: 179, dtype: int64"
   ]
  },
  {
   "cell_type": "markdown",
   "id": "032149c2",
   "metadata": {},
   "source": [
    "nombre_infected       740\n",
    "nombre_sain          1956\n",
    "nombre_exposed        301\n",
    "nombre_recovered    17003\n",
    "Name: 180, dtype: int64"
   ]
  },
  {
   "cell_type": "markdown",
   "id": "3c950d9b",
   "metadata": {},
   "source": [
    "nombre_infected       726\n",
    "nombre_sain          1992\n",
    "nombre_exposed        311\n",
    "nombre_recovered    16971\n",
    "Name: 181, dtype: int64"
   ]
  },
  {
   "cell_type": "markdown",
   "id": "7bc2894b",
   "metadata": {},
   "source": [
    "nombre_infected       709\n",
    "nombre_sain          2010\n",
    "nombre_exposed        329\n",
    "nombre_recovered    16952\n",
    "Name: 182, dtype: int64"
   ]
  },
  {
   "cell_type": "markdown",
   "id": "8df90989",
   "metadata": {},
   "source": [
    "nombre_infected       716\n",
    "nombre_sain          2026\n",
    "nombre_exposed        322\n",
    "nombre_recovered    16936\n",
    "Name: 183, dtype: int64"
   ]
  },
  {
   "cell_type": "markdown",
   "id": "e973dbaa",
   "metadata": {},
   "source": [
    "nombre_infected       710\n",
    "nombre_sain          2023\n",
    "nombre_exposed        334\n",
    "nombre_recovered    16933\n",
    "Name: 184, dtype: int64"
   ]
  },
  {
   "cell_type": "markdown",
   "id": "aa633758",
   "metadata": {},
   "source": [
    "nombre_infected       720\n",
    "nombre_sain          2054\n",
    "nombre_exposed        330\n",
    "nombre_recovered    16896\n",
    "Name: 185, dtype: int64"
   ]
  },
  {
   "cell_type": "markdown",
   "id": "b27715ba",
   "metadata": {},
   "source": [
    "nombre_infected       712\n",
    "nombre_sain          2055\n",
    "nombre_exposed        332\n",
    "nombre_recovered    16901\n",
    "Name: 186, dtype: int64"
   ]
  },
  {
   "cell_type": "markdown",
   "id": "f51cb5b8",
   "metadata": {},
   "source": [
    "nombre_infected       683\n",
    "nombre_sain          2074\n",
    "nombre_exposed        340\n",
    "nombre_recovered    16903\n",
    "Name: 187, dtype: int64"
   ]
  },
  {
   "cell_type": "markdown",
   "id": "ee23a7f8",
   "metadata": {},
   "source": [
    "nombre_infected       674\n",
    "nombre_sain          2110\n",
    "nombre_exposed        326\n",
    "nombre_recovered    16890\n",
    "Name: 188, dtype: int64"
   ]
  },
  {
   "cell_type": "markdown",
   "id": "15efbc56",
   "metadata": {},
   "source": [
    "nombre_infected       690\n",
    "nombre_sain          2129\n",
    "nombre_exposed        313\n",
    "nombre_recovered    16868\n",
    "Name: 189, dtype: int64"
   ]
  },
  {
   "cell_type": "markdown",
   "id": "c0b3fea2",
   "metadata": {},
   "source": [
    "nombre_infected       686\n",
    "nombre_sain          2154\n",
    "nombre_exposed        297\n",
    "nombre_recovered    16863\n",
    "Name: 190, dtype: int64"
   ]
  },
  {
   "cell_type": "markdown",
   "id": "3e6106ed",
   "metadata": {},
   "source": [
    "nombre_infected       672\n",
    "nombre_sain          2134\n",
    "nombre_exposed        326\n",
    "nombre_recovered    16868\n",
    "Name: 191, dtype: int64"
   ]
  },
  {
   "cell_type": "markdown",
   "id": "71882ec7",
   "metadata": {},
   "source": [
    "nombre_infected       653\n",
    "nombre_sain          2149\n",
    "nombre_exposed        331\n",
    "nombre_recovered    16867\n",
    "Name: 192, dtype: int64"
   ]
  },
  {
   "cell_type": "markdown",
   "id": "4e1b6cf4",
   "metadata": {},
   "source": [
    "nombre_infected       648\n",
    "nombre_sain          2176\n",
    "nombre_exposed        321\n",
    "nombre_recovered    16855\n",
    "Name: 193, dtype: int64"
   ]
  },
  {
   "cell_type": "markdown",
   "id": "691aae48",
   "metadata": {},
   "source": [
    "nombre_infected       643\n",
    "nombre_sain          2177\n",
    "nombre_exposed        353\n",
    "nombre_recovered    16827\n",
    "Name: 194, dtype: int64"
   ]
  },
  {
   "cell_type": "markdown",
   "id": "6c2ad59c",
   "metadata": {},
   "source": [
    "nombre_infected       654\n",
    "nombre_sain          2167\n",
    "nombre_exposed        372\n",
    "nombre_recovered    16807\n",
    "Name: 195, dtype: int64"
   ]
  },
  {
   "cell_type": "markdown",
   "id": "a85c57e1",
   "metadata": {},
   "source": [
    "nombre_infected       657\n",
    "nombre_sain          2176\n",
    "nombre_exposed        364\n",
    "nombre_recovered    16803\n",
    "Name: 196, dtype: int64"
   ]
  },
  {
   "cell_type": "markdown",
   "id": "74af6f64",
   "metadata": {},
   "source": [
    "nombre_infected       666\n",
    "nombre_sain          2160\n",
    "nombre_exposed        361\n",
    "nombre_recovered    16813\n",
    "Name: 197, dtype: int64"
   ]
  },
  {
   "cell_type": "markdown",
   "id": "e6c1a740",
   "metadata": {},
   "source": [
    "nombre_infected       664\n",
    "nombre_sain          2154\n",
    "nombre_exposed        363\n",
    "nombre_recovered    16819\n",
    "Name: 198, dtype: int64"
   ]
  },
  {
   "cell_type": "markdown",
   "id": "f7b74731",
   "metadata": {},
   "source": [
    "nombre_infected       681\n",
    "nombre_sain          2131\n",
    "nombre_exposed        369\n",
    "nombre_recovered    16819\n",
    "Name: 199, dtype: int64"
   ]
  },
  {
   "cell_type": "markdown",
   "id": "b670fa00",
   "metadata": {},
   "source": [
    "nombre_infected       707\n",
    "nombre_sain          2135\n",
    "nombre_exposed        356\n",
    "nombre_recovered    16802\n",
    "Name: 200, dtype: int64"
   ]
  },
  {
   "cell_type": "markdown",
   "id": "ed042666",
   "metadata": {},
   "source": [
    "nombre_infected       728\n",
    "nombre_sain          2133\n",
    "nombre_exposed        368\n",
    "nombre_recovered    16771\n",
    "Name: 201, dtype: int64"
   ]
  },
  {
   "cell_type": "markdown",
   "id": "99e801e3",
   "metadata": {},
   "source": [
    "nombre_infected       751\n",
    "nombre_sain          2144\n",
    "nombre_exposed        345\n",
    "nombre_recovered    16760\n",
    "Name: 202, dtype: int64"
   ]
  },
  {
   "cell_type": "markdown",
   "id": "be46a446",
   "metadata": {},
   "source": [
    "nombre_infected       752\n",
    "nombre_sain          2146\n",
    "nombre_exposed        333\n",
    "nombre_recovered    16769\n",
    "Name: 203, dtype: int64"
   ]
  },
  {
   "cell_type": "markdown",
   "id": "b7ba17c1",
   "metadata": {},
   "source": [
    "nombre_infected       759\n",
    "nombre_sain          2139\n",
    "nombre_exposed        343\n",
    "nombre_recovered    16759\n",
    "Name: 204, dtype: int64"
   ]
  },
  {
   "cell_type": "markdown",
   "id": "38554760",
   "metadata": {},
   "source": [
    "nombre_infected       762\n",
    "nombre_sain          2124\n",
    "nombre_exposed        356\n",
    "nombre_recovered    16758\n",
    "Name: 205, dtype: int64"
   ]
  },
  {
   "cell_type": "markdown",
   "id": "0c63ec68",
   "metadata": {},
   "source": [
    "nombre_infected       755\n",
    "nombre_sain          2149\n",
    "nombre_exposed        349\n",
    "nombre_recovered    16747\n",
    "Name: 206, dtype: int64"
   ]
  },
  {
   "cell_type": "markdown",
   "id": "4576a5b0",
   "metadata": {},
   "source": [
    "nombre_infected       771\n",
    "nombre_sain          2146\n",
    "nombre_exposed        361\n",
    "nombre_recovered    16722\n",
    "Name: 207, dtype: int64"
   ]
  },
  {
   "cell_type": "markdown",
   "id": "73ba04bc",
   "metadata": {},
   "source": [
    "nombre_infected       769\n",
    "nombre_sain          2142\n",
    "nombre_exposed        379\n",
    "nombre_recovered    16710\n",
    "Name: 208, dtype: int64"
   ]
  },
  {
   "cell_type": "markdown",
   "id": "f2b16a4f",
   "metadata": {},
   "source": [
    "nombre_infected       794\n",
    "nombre_sain          2156\n",
    "nombre_exposed        361\n",
    "nombre_recovered    16689\n",
    "Name: 209, dtype: int64"
   ]
  },
  {
   "cell_type": "markdown",
   "id": "4ab009fd",
   "metadata": {},
   "source": [
    "nombre_infected       786\n",
    "nombre_sain          2175\n",
    "nombre_exposed        365\n",
    "nombre_recovered    16674\n",
    "Name: 210, dtype: int64"
   ]
  },
  {
   "cell_type": "markdown",
   "id": "e3424dbb",
   "metadata": {},
   "source": [
    "nombre_infected       768\n",
    "nombre_sain          2174\n",
    "nombre_exposed        381\n",
    "nombre_recovered    16677\n",
    "Name: 211, dtype: int64"
   ]
  },
  {
   "cell_type": "markdown",
   "id": "f3314e63",
   "metadata": {},
   "source": [
    "nombre_infected       746\n",
    "nombre_sain          2187\n",
    "nombre_exposed        382\n",
    "nombre_recovered    16685\n",
    "Name: 212, dtype: int64"
   ]
  },
  {
   "cell_type": "markdown",
   "id": "b3764652",
   "metadata": {},
   "source": [
    "nombre_infected       764\n",
    "nombre_sain          2177\n",
    "nombre_exposed        381\n",
    "nombre_recovered    16678\n",
    "Name: 213, dtype: int64"
   ]
  },
  {
   "cell_type": "markdown",
   "id": "4334dd33",
   "metadata": {},
   "source": [
    "nombre_infected       764\n",
    "nombre_sain          2158\n",
    "nombre_exposed        400\n",
    "nombre_recovered    16678\n",
    "Name: 214, dtype: int64"
   ]
  },
  {
   "cell_type": "markdown",
   "id": "e11fdf34",
   "metadata": {},
   "source": [
    "nombre_infected       795\n",
    "nombre_sain          2160\n",
    "nombre_exposed        381\n",
    "nombre_recovered    16664\n",
    "Name: 215, dtype: int64"
   ]
  },
  {
   "cell_type": "markdown",
   "id": "520a3f08",
   "metadata": {},
   "source": [
    "nombre_infected       801\n",
    "nombre_sain          2154\n",
    "nombre_exposed        388\n",
    "nombre_recovered    16657\n",
    "Name: 216, dtype: int64"
   ]
  },
  {
   "cell_type": "markdown",
   "id": "89e2d9e4",
   "metadata": {},
   "source": [
    "nombre_infected       784\n",
    "nombre_sain          2156\n",
    "nombre_exposed        404\n",
    "nombre_recovered    16656\n",
    "Name: 217, dtype: int64"
   ]
  },
  {
   "cell_type": "markdown",
   "id": "dc6a39dc",
   "metadata": {},
   "source": [
    "nombre_infected       786\n",
    "nombre_sain          2150\n",
    "nombre_exposed        406\n",
    "nombre_recovered    16658\n",
    "Name: 218, dtype: int64"
   ]
  },
  {
   "cell_type": "markdown",
   "id": "02f40aa8",
   "metadata": {},
   "source": [
    "nombre_infected       769\n",
    "nombre_sain          2128\n",
    "nombre_exposed        409\n",
    "nombre_recovered    16694\n",
    "Name: 219, dtype: int64"
   ]
  },
  {
   "cell_type": "markdown",
   "id": "f8710051",
   "metadata": {},
   "source": [
    "nombre_infected       768\n",
    "nombre_sain          2140\n",
    "nombre_exposed        393\n",
    "nombre_recovered    16699\n",
    "Name: 220, dtype: int64"
   ]
  },
  {
   "cell_type": "markdown",
   "id": "6e38108e",
   "metadata": {},
   "source": [
    "nombre_infected       781\n",
    "nombre_sain          2143\n",
    "nombre_exposed        372\n",
    "nombre_recovered    16704\n",
    "Name: 221, dtype: int64"
   ]
  },
  {
   "cell_type": "markdown",
   "id": "0c876c5b",
   "metadata": {},
   "source": [
    "nombre_infected       776\n",
    "nombre_sain          2145\n",
    "nombre_exposed        372\n",
    "nombre_recovered    16707\n",
    "Name: 222, dtype: int64"
   ]
  },
  {
   "cell_type": "markdown",
   "id": "0cd86b5c",
   "metadata": {},
   "source": [
    "nombre_infected       779\n",
    "nombre_sain          2139\n",
    "nombre_exposed        382\n",
    "nombre_recovered    16700\n",
    "Name: 223, dtype: int64"
   ]
  },
  {
   "cell_type": "markdown",
   "id": "50acbc40",
   "metadata": {},
   "source": [
    "nombre_infected       792\n",
    "nombre_sain          2161\n",
    "nombre_exposed        358\n",
    "nombre_recovered    16689\n",
    "Name: 224, dtype: int64"
   ]
  },
  {
   "cell_type": "markdown",
   "id": "78a175db",
   "metadata": {},
   "source": [
    "nombre_infected       800\n",
    "nombre_sain          2182\n",
    "nombre_exposed        357\n",
    "nombre_recovered    16661\n",
    "Name: 225, dtype: int64"
   ]
  },
  {
   "cell_type": "markdown",
   "id": "3300ad1c",
   "metadata": {},
   "source": [
    "nombre_infected       803\n",
    "nombre_sain          2195\n",
    "nombre_exposed        360\n",
    "nombre_recovered    16642\n",
    "Name: 226, dtype: int64"
   ]
  },
  {
   "cell_type": "markdown",
   "id": "2ee4f6e5",
   "metadata": {},
   "source": [
    "nombre_infected       790\n",
    "nombre_sain          2235\n",
    "nombre_exposed        361\n",
    "nombre_recovered    16614\n",
    "Name: 227, dtype: int64"
   ]
  },
  {
   "cell_type": "markdown",
   "id": "88996da6",
   "metadata": {},
   "source": [
    "nombre_infected       770\n",
    "nombre_sain          2250\n",
    "nombre_exposed        381\n",
    "nombre_recovered    16599\n",
    "Name: 228, dtype: int64"
   ]
  },
  {
   "cell_type": "markdown",
   "id": "581a76df",
   "metadata": {},
   "source": [
    "nombre_infected       747\n",
    "nombre_sain          2244\n",
    "nombre_exposed        415\n",
    "nombre_recovered    16594\n",
    "Name: 229, dtype: int64"
   ]
  },
  {
   "cell_type": "markdown",
   "id": "422c3e78",
   "metadata": {},
   "source": [
    "nombre_infected       770\n",
    "nombre_sain          2255\n",
    "nombre_exposed        399\n",
    "nombre_recovered    16576\n",
    "Name: 230, dtype: int64"
   ]
  },
  {
   "cell_type": "markdown",
   "id": "978b7ff9",
   "metadata": {},
   "source": [
    "nombre_infected       800\n",
    "nombre_sain          2291\n",
    "nombre_exposed        386\n",
    "nombre_recovered    16523\n",
    "Name: 231, dtype: int64"
   ]
  },
  {
   "cell_type": "markdown",
   "id": "9929f5e4",
   "metadata": {},
   "source": [
    "nombre_infected       813\n",
    "nombre_sain          2316\n",
    "nombre_exposed        392\n",
    "nombre_recovered    16479\n",
    "Name: 232, dtype: int64"
   ]
  },
  {
   "cell_type": "markdown",
   "id": "6c091ad3",
   "metadata": {},
   "source": [
    "nombre_infected       833\n",
    "nombre_sain          2319\n",
    "nombre_exposed        379\n",
    "nombre_recovered    16469\n",
    "Name: 233, dtype: int64"
   ]
  },
  {
   "cell_type": "markdown",
   "id": "38545144",
   "metadata": {},
   "source": [
    "nombre_infected       837\n",
    "nombre_sain          2308\n",
    "nombre_exposed        426\n",
    "nombre_recovered    16429\n",
    "Name: 234, dtype: int64"
   ]
  },
  {
   "cell_type": "markdown",
   "id": "f8ee4d9c",
   "metadata": {},
   "source": [
    "nombre_infected       843\n",
    "nombre_sain          2280\n",
    "nombre_exposed        458\n",
    "nombre_recovered    16419\n",
    "Name: 235, dtype: int64"
   ]
  },
  {
   "cell_type": "markdown",
   "id": "f551f82f",
   "metadata": {},
   "source": [
    "nombre_infected       854\n",
    "nombre_sain          2280\n",
    "nombre_exposed        471\n",
    "nombre_recovered    16395\n",
    "Name: 236, dtype: int64"
   ]
  },
  {
   "cell_type": "markdown",
   "id": "05b05676",
   "metadata": {},
   "source": [
    "nombre_infected       870\n",
    "nombre_sain          2276\n",
    "nombre_exposed        470\n",
    "nombre_recovered    16384\n",
    "Name: 237, dtype: int64"
   ]
  },
  {
   "cell_type": "markdown",
   "id": "325fda2a",
   "metadata": {},
   "source": [
    "nombre_infected       880\n",
    "nombre_sain          2283\n",
    "nombre_exposed        486\n",
    "nombre_recovered    16351\n",
    "Name: 238, dtype: int64"
   ]
  },
  {
   "cell_type": "markdown",
   "id": "56634e5b",
   "metadata": {},
   "source": [
    "nombre_infected       893\n",
    "nombre_sain          2257\n",
    "nombre_exposed        498\n",
    "nombre_recovered    16352\n",
    "Name: 239, dtype: int64"
   ]
  },
  {
   "cell_type": "markdown",
   "id": "d1b11147",
   "metadata": {},
   "source": [
    "nombre_infected       914\n",
    "nombre_sain          2233\n",
    "nombre_exposed        515\n",
    "nombre_recovered    16338\n",
    "Name: 240, dtype: int64"
   ]
  },
  {
   "cell_type": "markdown",
   "id": "dd0c2d5c",
   "metadata": {},
   "source": [
    "nombre_infected       933\n",
    "nombre_sain          2227\n",
    "nombre_exposed        511\n",
    "nombre_recovered    16329\n",
    "Name: 241, dtype: int64"
   ]
  },
  {
   "cell_type": "markdown",
   "id": "82337be6",
   "metadata": {},
   "source": [
    "nombre_infected       958\n",
    "nombre_sain          2209\n",
    "nombre_exposed        494\n",
    "nombre_recovered    16339\n",
    "Name: 242, dtype: int64"
   ]
  },
  {
   "cell_type": "markdown",
   "id": "dabe5940",
   "metadata": {},
   "source": [
    "nombre_infected       987\n",
    "nombre_sain          2202\n",
    "nombre_exposed        485\n",
    "nombre_recovered    16326\n",
    "Name: 243, dtype: int64"
   ]
  },
  {
   "cell_type": "markdown",
   "id": "b6d2e76e",
   "metadata": {},
   "source": [
    "nombre_infected      1010\n",
    "nombre_sain          2170\n",
    "nombre_exposed        502\n",
    "nombre_recovered    16318\n",
    "Name: 244, dtype: int64"
   ]
  },
  {
   "cell_type": "markdown",
   "id": "b4347dda",
   "metadata": {},
   "source": [
    "nombre_infected      1017\n",
    "nombre_sain          2151\n",
    "nombre_exposed        510\n",
    "nombre_recovered    16322\n",
    "Name: 245, dtype: int64"
   ]
  },
  {
   "cell_type": "markdown",
   "id": "9f4809d7",
   "metadata": {},
   "source": [
    "nombre_infected      1048\n",
    "nombre_sain          2139\n",
    "nombre_exposed        509\n",
    "nombre_recovered    16304\n",
    "Name: 246, dtype: int64"
   ]
  },
  {
   "cell_type": "markdown",
   "id": "c1a50138",
   "metadata": {},
   "source": [
    "nombre_infected      1070\n",
    "nombre_sain          2177\n",
    "nombre_exposed        487\n",
    "nombre_recovered    16266\n",
    "Name: 247, dtype: int64"
   ]
  },
  {
   "cell_type": "markdown",
   "id": "6f176e8a",
   "metadata": {},
   "source": [
    "nombre_infected      1084\n",
    "nombre_sain          2166\n",
    "nombre_exposed        487\n",
    "nombre_recovered    16263\n",
    "Name: 248, dtype: int64"
   ]
  },
  {
   "cell_type": "markdown",
   "id": "53827672",
   "metadata": {},
   "source": [
    "nombre_infected      1055\n",
    "nombre_sain          2175\n",
    "nombre_exposed        515\n",
    "nombre_recovered    16255\n",
    "Name: 249, dtype: int64"
   ]
  },
  {
   "cell_type": "markdown",
   "id": "c49909f1",
   "metadata": {},
   "source": [
    "nombre_infected      1061\n",
    "nombre_sain          2187\n",
    "nombre_exposed        524\n",
    "nombre_recovered    16228\n",
    "Name: 250, dtype: int64"
   ]
  },
  {
   "cell_type": "markdown",
   "id": "dbe428a7",
   "metadata": {},
   "source": [
    "nombre_infected      1063\n",
    "nombre_sain          2183\n",
    "nombre_exposed        530\n",
    "nombre_recovered    16224\n",
    "Name: 251, dtype: int64"
   ]
  },
  {
   "cell_type": "markdown",
   "id": "4afc4af7",
   "metadata": {},
   "source": [
    "nombre_infected      1071\n",
    "nombre_sain          2187\n",
    "nombre_exposed        524\n",
    "nombre_recovered    16218\n",
    "Name: 252, dtype: int64"
   ]
  },
  {
   "cell_type": "markdown",
   "id": "fbab50d6",
   "metadata": {},
   "source": [
    "nombre_infected      1067\n",
    "nombre_sain          2165\n",
    "nombre_exposed        565\n",
    "nombre_recovered    16203\n",
    "Name: 253, dtype: int64"
   ]
  },
  {
   "cell_type": "markdown",
   "id": "f2e4586c",
   "metadata": {},
   "source": [
    "nombre_infected      1087\n",
    "nombre_sain          2179\n",
    "nombre_exposed        569\n",
    "nombre_recovered    16165\n",
    "Name: 254, dtype: int64"
   ]
  },
  {
   "cell_type": "markdown",
   "id": "53674fc6",
   "metadata": {},
   "source": [
    "nombre_infected      1090\n",
    "nombre_sain          2172\n",
    "nombre_exposed        559\n",
    "nombre_recovered    16179\n",
    "Name: 255, dtype: int64"
   ]
  },
  {
   "cell_type": "markdown",
   "id": "f018b42d",
   "metadata": {},
   "source": [
    "nombre_infected      1064\n",
    "nombre_sain          2159\n",
    "nombre_exposed        576\n",
    "nombre_recovered    16201\n",
    "Name: 256, dtype: int64"
   ]
  },
  {
   "cell_type": "markdown",
   "id": "42eb0c2b",
   "metadata": {},
   "source": [
    "nombre_infected      1082\n",
    "nombre_sain          2130\n",
    "nombre_exposed        577\n",
    "nombre_recovered    16211\n",
    "Name: 257, dtype: int64"
   ]
  },
  {
   "cell_type": "markdown",
   "id": "8fff0608",
   "metadata": {},
   "source": [
    "nombre_infected      1075\n",
    "nombre_sain          2119\n",
    "nombre_exposed        563\n",
    "nombre_recovered    16243\n",
    "Name: 258, dtype: int64"
   ]
  },
  {
   "cell_type": "markdown",
   "id": "97a257b9",
   "metadata": {},
   "source": [
    "nombre_infected      1083\n",
    "nombre_sain          2116\n",
    "nombre_exposed        546\n",
    "nombre_recovered    16255\n",
    "Name: 259, dtype: int64"
   ]
  },
  {
   "cell_type": "markdown",
   "id": "789b568c",
   "metadata": {},
   "source": [
    "nombre_infected      1070\n",
    "nombre_sain          2089\n",
    "nombre_exposed        566\n",
    "nombre_recovered    16275\n",
    "Name: 260, dtype: int64"
   ]
  },
  {
   "cell_type": "markdown",
   "id": "baa3bec2",
   "metadata": {},
   "source": [
    "nombre_infected      1064\n",
    "nombre_sain          2070\n",
    "nombre_exposed        569\n",
    "nombre_recovered    16297\n",
    "Name: 261, dtype: int64"
   ]
  },
  {
   "cell_type": "markdown",
   "id": "72d87eed",
   "metadata": {},
   "source": [
    "nombre_infected      1063\n",
    "nombre_sain          2076\n",
    "nombre_exposed        536\n",
    "nombre_recovered    16325\n",
    "Name: 262, dtype: int64"
   ]
  },
  {
   "cell_type": "markdown",
   "id": "deb0661c",
   "metadata": {},
   "source": [
    "nombre_infected      1060\n",
    "nombre_sain          2042\n",
    "nombre_exposed        541\n",
    "nombre_recovered    16357\n",
    "Name: 263, dtype: int64"
   ]
  },
  {
   "cell_type": "markdown",
   "id": "f08b46dd",
   "metadata": {},
   "source": [
    "nombre_infected      1061\n",
    "nombre_sain          2037\n",
    "nombre_exposed        524\n",
    "nombre_recovered    16378\n",
    "Name: 264, dtype: int64"
   ]
  },
  {
   "cell_type": "markdown",
   "id": "b975f42d",
   "metadata": {},
   "source": [
    "nombre_infected      1043\n",
    "nombre_sain          2023\n",
    "nombre_exposed        526\n",
    "nombre_recovered    16408\n",
    "Name: 265, dtype: int64"
   ]
  },
  {
   "cell_type": "markdown",
   "id": "b5e4e546",
   "metadata": {},
   "source": [
    "nombre_infected      1042\n",
    "nombre_sain          2011\n",
    "nombre_exposed        512\n",
    "nombre_recovered    16435\n",
    "Name: 266, dtype: int64"
   ]
  },
  {
   "cell_type": "markdown",
   "id": "b1f01c60",
   "metadata": {},
   "source": [
    "nombre_infected      1041\n",
    "nombre_sain          1990\n",
    "nombre_exposed        505\n",
    "nombre_recovered    16464\n",
    "Name: 267, dtype: int64"
   ]
  },
  {
   "cell_type": "markdown",
   "id": "1c6ef482",
   "metadata": {},
   "source": [
    "nombre_infected      1041\n",
    "nombre_sain          1991\n",
    "nombre_exposed        474\n",
    "nombre_recovered    16494\n",
    "Name: 268, dtype: int64"
   ]
  },
  {
   "cell_type": "markdown",
   "id": "cb3e7a7f",
   "metadata": {},
   "source": [
    "nombre_infected      1040\n",
    "nombre_sain          1984\n",
    "nombre_exposed        461\n",
    "nombre_recovered    16515\n",
    "Name: 269, dtype: int64"
   ]
  },
  {
   "cell_type": "markdown",
   "id": "1c1a921d",
   "metadata": {},
   "source": [
    "nombre_infected      1027\n",
    "nombre_sain          1978\n",
    "nombre_exposed        456\n",
    "nombre_recovered    16539\n",
    "Name: 270, dtype: int64"
   ]
  },
  {
   "cell_type": "markdown",
   "id": "5282486d",
   "metadata": {},
   "source": [
    "nombre_infected      1012\n",
    "nombre_sain          1971\n",
    "nombre_exposed        453\n",
    "nombre_recovered    16564\n",
    "Name: 271, dtype: int64"
   ]
  },
  {
   "cell_type": "markdown",
   "id": "1146d1f9",
   "metadata": {},
   "source": [
    "nombre_infected       982\n",
    "nombre_sain          1955\n",
    "nombre_exposed        445\n",
    "nombre_recovered    16618\n",
    "Name: 272, dtype: int64"
   ]
  },
  {
   "cell_type": "markdown",
   "id": "c55b09aa",
   "metadata": {},
   "source": [
    "nombre_infected       982\n",
    "nombre_sain          1944\n",
    "nombre_exposed        434\n",
    "nombre_recovered    16640\n",
    "Name: 273, dtype: int64"
   ]
  },
  {
   "cell_type": "markdown",
   "id": "4b15984d",
   "metadata": {},
   "source": [
    "nombre_infected       968\n",
    "nombre_sain          1929\n",
    "nombre_exposed        431\n",
    "nombre_recovered    16672\n",
    "Name: 274, dtype: int64"
   ]
  },
  {
   "cell_type": "markdown",
   "id": "c04299bd",
   "metadata": {},
   "source": [
    "nombre_infected       979\n",
    "nombre_sain          1908\n",
    "nombre_exposed        414\n",
    "nombre_recovered    16699\n",
    "Name: 275, dtype: int64"
   ]
  },
  {
   "cell_type": "markdown",
   "id": "9712e932",
   "metadata": {},
   "source": [
    "nombre_infected       975\n",
    "nombre_sain          1908\n",
    "nombre_exposed        420\n",
    "nombre_recovered    16697\n",
    "Name: 276, dtype: int64"
   ]
  },
  {
   "cell_type": "markdown",
   "id": "74705722",
   "metadata": {},
   "source": [
    "nombre_infected       941\n",
    "nombre_sain          1872\n",
    "nombre_exposed        451\n",
    "nombre_recovered    16736\n",
    "Name: 277, dtype: int64"
   ]
  },
  {
   "cell_type": "markdown",
   "id": "53d3e2e8",
   "metadata": {},
   "source": [
    "nombre_infected       942\n",
    "nombre_sain          1892\n",
    "nombre_exposed        414\n",
    "nombre_recovered    16752\n",
    "Name: 278, dtype: int64"
   ]
  },
  {
   "cell_type": "markdown",
   "id": "01c7f598",
   "metadata": {},
   "source": [
    "nombre_infected       936\n",
    "nombre_sain          1876\n",
    "nombre_exposed        427\n",
    "nombre_recovered    16761\n",
    "Name: 279, dtype: int64"
   ]
  },
  {
   "cell_type": "markdown",
   "id": "1ff4f351",
   "metadata": {},
   "source": [
    "nombre_infected       906\n",
    "nombre_sain          1895\n",
    "nombre_exposed        416\n",
    "nombre_recovered    16783\n",
    "Name: 280, dtype: int64"
   ]
  },
  {
   "cell_type": "markdown",
   "id": "cc439e38",
   "metadata": {},
   "source": [
    "nombre_infected       907\n",
    "nombre_sain          1894\n",
    "nombre_exposed        404\n",
    "nombre_recovered    16795\n",
    "Name: 281, dtype: int64"
   ]
  },
  {
   "cell_type": "markdown",
   "id": "83106d1d",
   "metadata": {},
   "source": [
    "nombre_infected       905\n",
    "nombre_sain          1898\n",
    "nombre_exposed        406\n",
    "nombre_recovered    16791\n",
    "Name: 282, dtype: int64"
   ]
  },
  {
   "cell_type": "markdown",
   "id": "b0608c1a",
   "metadata": {},
   "source": [
    "nombre_infected       887\n",
    "nombre_sain          1918\n",
    "nombre_exposed        383\n",
    "nombre_recovered    16812\n",
    "Name: 283, dtype: int64"
   ]
  },
  {
   "cell_type": "markdown",
   "id": "eb580b99",
   "metadata": {},
   "source": [
    "nombre_infected       867\n",
    "nombre_sain          1930\n",
    "nombre_exposed        369\n",
    "nombre_recovered    16834\n",
    "Name: 284, dtype: int64"
   ]
  },
  {
   "cell_type": "markdown",
   "id": "2dc97b1a",
   "metadata": {},
   "source": [
    "nombre_infected       844\n",
    "nombre_sain          1937\n",
    "nombre_exposed        376\n",
    "nombre_recovered    16843\n",
    "Name: 285, dtype: int64"
   ]
  },
  {
   "cell_type": "markdown",
   "id": "a36091f1",
   "metadata": {},
   "source": [
    "nombre_infected       845\n",
    "nombre_sain          1946\n",
    "nombre_exposed        380\n",
    "nombre_recovered    16829\n",
    "Name: 286, dtype: int64"
   ]
  },
  {
   "cell_type": "markdown",
   "id": "09355007",
   "metadata": {},
   "source": [
    "nombre_infected       837\n",
    "nombre_sain          1957\n",
    "nombre_exposed        380\n",
    "nombre_recovered    16826\n",
    "Name: 287, dtype: int64"
   ]
  },
  {
   "cell_type": "markdown",
   "id": "7f14e2ab",
   "metadata": {},
   "source": [
    "nombre_infected       811\n",
    "nombre_sain          1949\n",
    "nombre_exposed        391\n",
    "nombre_recovered    16849\n",
    "Name: 288, dtype: int64"
   ]
  },
  {
   "cell_type": "markdown",
   "id": "a6cbbdd2",
   "metadata": {},
   "source": [
    "nombre_infected       806\n",
    "nombre_sain          1975\n",
    "nombre_exposed        380\n",
    "nombre_recovered    16839\n",
    "Name: 289, dtype: int64"
   ]
  },
  {
   "cell_type": "markdown",
   "id": "18d467c2",
   "metadata": {},
   "source": [
    "nombre_infected       816\n",
    "nombre_sain          1996\n",
    "nombre_exposed        353\n",
    "nombre_recovered    16835\n",
    "Name: 290, dtype: int64"
   ]
  },
  {
   "cell_type": "markdown",
   "id": "0ded6ca8",
   "metadata": {},
   "source": [
    "nombre_infected       809\n",
    "nombre_sain          2012\n",
    "nombre_exposed        352\n",
    "nombre_recovered    16827\n",
    "Name: 291, dtype: int64"
   ]
  },
  {
   "cell_type": "markdown",
   "id": "65e1a420",
   "metadata": {},
   "source": [
    "nombre_infected       793\n",
    "nombre_sain          2011\n",
    "nombre_exposed        373\n",
    "nombre_recovered    16823\n",
    "Name: 292, dtype: int64"
   ]
  },
  {
   "cell_type": "markdown",
   "id": "b3a131c5",
   "metadata": {},
   "source": [
    "nombre_infected       774\n",
    "nombre_sain          2029\n",
    "nombre_exposed        379\n",
    "nombre_recovered    16818\n",
    "Name: 293, dtype: int64"
   ]
  },
  {
   "cell_type": "markdown",
   "id": "246767c2",
   "metadata": {},
   "source": [
    "nombre_infected       785\n",
    "nombre_sain          2054\n",
    "nombre_exposed        362\n",
    "nombre_recovered    16799\n",
    "Name: 294, dtype: int64"
   ]
  },
  {
   "cell_type": "markdown",
   "id": "a89bc8e6",
   "metadata": {},
   "source": [
    "nombre_infected       812\n",
    "nombre_sain          2047\n",
    "nombre_exposed        357\n",
    "nombre_recovered    16784\n",
    "Name: 295, dtype: int64"
   ]
  },
  {
   "cell_type": "markdown",
   "id": "2cd04df4",
   "metadata": {},
   "source": [
    "nombre_infected       818\n",
    "nombre_sain          2056\n",
    "nombre_exposed        345\n",
    "nombre_recovered    16781\n",
    "Name: 296, dtype: int64"
   ]
  },
  {
   "cell_type": "markdown",
   "id": "51989c9d",
   "metadata": {},
   "source": [
    "nombre_infected       809\n",
    "nombre_sain          2062\n",
    "nombre_exposed        340\n",
    "nombre_recovered    16789\n",
    "Name: 297, dtype: int64"
   ]
  },
  {
   "cell_type": "markdown",
   "id": "4da01ee5",
   "metadata": {},
   "source": [
    "nombre_infected       790\n",
    "nombre_sain          2050\n",
    "nombre_exposed        370\n",
    "nombre_recovered    16790\n",
    "Name: 298, dtype: int64"
   ]
  },
  {
   "cell_type": "markdown",
   "id": "81d9e445",
   "metadata": {},
   "source": [
    "nombre_infected       793\n",
    "nombre_sain          2049\n",
    "nombre_exposed        392\n",
    "nombre_recovered    16766\n",
    "Name: 299, dtype: int64"
   ]
  },
  {
   "cell_type": "markdown",
   "id": "8bbe1d65",
   "metadata": {},
   "source": [
    "nombre_infected       781\n",
    "nombre_sain          2069\n",
    "nombre_exposed        392\n",
    "nombre_recovered    16758\n",
    "Name: 300, dtype: int64"
   ]
  },
  {
   "cell_type": "markdown",
   "id": "bcee8052",
   "metadata": {},
   "source": [
    "nombre_infected       791\n",
    "nombre_sain          2078\n",
    "nombre_exposed        391\n",
    "nombre_recovered    16740\n",
    "Name: 301, dtype: int64"
   ]
  },
  {
   "cell_type": "markdown",
   "id": "8e63d23b",
   "metadata": {},
   "source": [
    "nombre_infected       789\n",
    "nombre_sain          2097\n",
    "nombre_exposed        380\n",
    "nombre_recovered    16734\n",
    "Name: 302, dtype: int64"
   ]
  },
  {
   "cell_type": "markdown",
   "id": "63834477",
   "metadata": {},
   "source": [
    "nombre_infected       810\n",
    "nombre_sain          2104\n",
    "nombre_exposed        370\n",
    "nombre_recovered    16716\n",
    "Name: 303, dtype: int64"
   ]
  },
  {
   "cell_type": "markdown",
   "id": "495f25e9",
   "metadata": {},
   "source": [
    "nombre_infected       807\n",
    "nombre_sain          2137\n",
    "nombre_exposed        353\n",
    "nombre_recovered    16703\n",
    "Name: 304, dtype: int64"
   ]
  },
  {
   "cell_type": "markdown",
   "id": "d19cfe6b",
   "metadata": {},
   "source": [
    "nombre_infected       801\n",
    "nombre_sain          2164\n",
    "nombre_exposed        355\n",
    "nombre_recovered    16680\n",
    "Name: 305, dtype: int64"
   ]
  },
  {
   "cell_type": "markdown",
   "id": "5ea4fb01",
   "metadata": {},
   "source": [
    "nombre_infected       773\n",
    "nombre_sain          2191\n",
    "nombre_exposed        379\n",
    "nombre_recovered    16657\n",
    "Name: 306, dtype: int64"
   ]
  },
  {
   "cell_type": "markdown",
   "id": "7170345c",
   "metadata": {},
   "source": [
    "nombre_infected       780\n",
    "nombre_sain          2210\n",
    "nombre_exposed        381\n",
    "nombre_recovered    16629\n",
    "Name: 307, dtype: int64"
   ]
  },
  {
   "cell_type": "markdown",
   "id": "5f9756a7",
   "metadata": {},
   "source": [
    "nombre_infected       779\n",
    "nombre_sain          2208\n",
    "nombre_exposed        405\n",
    "nombre_recovered    16608\n",
    "Name: 308, dtype: int64"
   ]
  },
  {
   "cell_type": "markdown",
   "id": "3f7552df",
   "metadata": {},
   "source": [
    "nombre_infected       811\n",
    "nombre_sain          2225\n",
    "nombre_exposed        399\n",
    "nombre_recovered    16565\n",
    "Name: 309, dtype: int64"
   ]
  },
  {
   "cell_type": "markdown",
   "id": "c7f20f72",
   "metadata": {},
   "source": [
    "nombre_infected       835\n",
    "nombre_sain          2244\n",
    "nombre_exposed        384\n",
    "nombre_recovered    16537\n",
    "Name: 310, dtype: int64"
   ]
  },
  {
   "cell_type": "markdown",
   "id": "04d87bc7",
   "metadata": {},
   "source": [
    "nombre_infected       840\n",
    "nombre_sain          2278\n",
    "nombre_exposed        380\n",
    "nombre_recovered    16502\n",
    "Name: 311, dtype: int64"
   ]
  },
  {
   "cell_type": "markdown",
   "id": "cfe2bbfa",
   "metadata": {},
   "source": [
    "nombre_infected       837\n",
    "nombre_sain          2292\n",
    "nombre_exposed        397\n",
    "nombre_recovered    16474\n",
    "Name: 312, dtype: int64"
   ]
  },
  {
   "cell_type": "markdown",
   "id": "420d6fb1",
   "metadata": {},
   "source": [
    "nombre_infected       832\n",
    "nombre_sain          2312\n",
    "nombre_exposed        399\n",
    "nombre_recovered    16457\n",
    "Name: 313, dtype: int64"
   ]
  },
  {
   "cell_type": "markdown",
   "id": "47f85696",
   "metadata": {},
   "source": [
    "nombre_infected       825\n",
    "nombre_sain          2344\n",
    "nombre_exposed        402\n",
    "nombre_recovered    16429\n",
    "Name: 314, dtype: int64"
   ]
  },
  {
   "cell_type": "markdown",
   "id": "f95fd36b",
   "metadata": {},
   "source": [
    "nombre_infected       826\n",
    "nombre_sain          2349\n",
    "nombre_exposed        401\n",
    "nombre_recovered    16424\n",
    "Name: 315, dtype: int64"
   ]
  },
  {
   "cell_type": "markdown",
   "id": "8aabba50",
   "metadata": {},
   "source": [
    "nombre_infected       807\n",
    "nombre_sain          2357\n",
    "nombre_exposed        409\n",
    "nombre_recovered    16427\n",
    "Name: 316, dtype: int64"
   ]
  },
  {
   "cell_type": "markdown",
   "id": "bd772205",
   "metadata": {},
   "source": [
    "nombre_infected       818\n",
    "nombre_sain          2363\n",
    "nombre_exposed        411\n",
    "nombre_recovered    16408\n",
    "Name: 317, dtype: int64"
   ]
  },
  {
   "cell_type": "markdown",
   "id": "d26d4225",
   "metadata": {},
   "source": [
    "nombre_infected       832\n",
    "nombre_sain          2356\n",
    "nombre_exposed        424\n",
    "nombre_recovered    16388\n",
    "Name: 318, dtype: int64"
   ]
  },
  {
   "cell_type": "markdown",
   "id": "dbb42ac1",
   "metadata": {},
   "source": [
    "nombre_infected       831\n",
    "nombre_sain          2377\n",
    "nombre_exposed        419\n",
    "nombre_recovered    16373\n",
    "Name: 319, dtype: int64"
   ]
  },
  {
   "cell_type": "markdown",
   "id": "49da0cc0",
   "metadata": {},
   "source": [
    "nombre_infected       841\n",
    "nombre_sain          2365\n",
    "nombre_exposed        447\n",
    "nombre_recovered    16347\n",
    "Name: 320, dtype: int64"
   ]
  },
  {
   "cell_type": "markdown",
   "id": "391affeb",
   "metadata": {},
   "source": [
    "nombre_infected       831\n",
    "nombre_sain          2364\n",
    "nombre_exposed        478\n",
    "nombre_recovered    16327\n",
    "Name: 321, dtype: int64"
   ]
  },
  {
   "cell_type": "markdown",
   "id": "5806dbf9",
   "metadata": {},
   "source": [
    "nombre_infected       848\n",
    "nombre_sain          2375\n",
    "nombre_exposed        463\n",
    "nombre_recovered    16314\n",
    "Name: 322, dtype: int64"
   ]
  },
  {
   "cell_type": "markdown",
   "id": "f7bd8750",
   "metadata": {},
   "source": [
    "nombre_infected       889\n",
    "nombre_sain          2380\n",
    "nombre_exposed        448\n",
    "nombre_recovered    16283\n",
    "Name: 323, dtype: int64"
   ]
  },
  {
   "cell_type": "markdown",
   "id": "d6026806",
   "metadata": {},
   "source": [
    "nombre_infected       907\n",
    "nombre_sain          2382\n",
    "nombre_exposed        433\n",
    "nombre_recovered    16278\n",
    "Name: 324, dtype: int64"
   ]
  },
  {
   "cell_type": "markdown",
   "id": "d0ba02e2",
   "metadata": {},
   "source": [
    "nombre_infected       908\n",
    "nombre_sain          2356\n",
    "nombre_exposed        442\n",
    "nombre_recovered    16294\n",
    "Name: 325, dtype: int64"
   ]
  },
  {
   "cell_type": "markdown",
   "id": "294774c3",
   "metadata": {},
   "source": [
    "nombre_infected       905\n",
    "nombre_sain          2329\n",
    "nombre_exposed        480\n",
    "nombre_recovered    16286\n",
    "Name: 326, dtype: int64"
   ]
  },
  {
   "cell_type": "markdown",
   "id": "5ae05a23",
   "metadata": {},
   "source": [
    "nombre_infected       897\n",
    "nombre_sain          2294\n",
    "nombre_exposed        517\n",
    "nombre_recovered    16292\n",
    "Name: 327, dtype: int64"
   ]
  },
  {
   "cell_type": "markdown",
   "id": "01ce4f64",
   "metadata": {},
   "source": [
    "nombre_infected       912\n",
    "nombre_sain          2275\n",
    "nombre_exposed        514\n",
    "nombre_recovered    16299\n",
    "Name: 328, dtype: int64"
   ]
  },
  {
   "cell_type": "markdown",
   "id": "ba3e3509",
   "metadata": {},
   "source": [
    "nombre_infected       935\n",
    "nombre_sain          2256\n",
    "nombre_exposed        495\n",
    "nombre_recovered    16314\n",
    "Name: 329, dtype: int64"
   ]
  },
  {
   "cell_type": "markdown",
   "id": "6c7a9fd0",
   "metadata": {},
   "source": [
    "nombre_infected       961\n",
    "nombre_sain          2248\n",
    "nombre_exposed        486\n",
    "nombre_recovered    16305\n",
    "Name: 330, dtype: int64"
   ]
  },
  {
   "cell_type": "markdown",
   "id": "85b9fd41",
   "metadata": {},
   "source": [
    "nombre_infected       960\n",
    "nombre_sain          2226\n",
    "nombre_exposed        491\n",
    "nombre_recovered    16323\n",
    "Name: 331, dtype: int64"
   ]
  },
  {
   "cell_type": "markdown",
   "id": "5668412a",
   "metadata": {},
   "source": [
    "nombre_infected       990\n",
    "nombre_sain          2219\n",
    "nombre_exposed        473\n",
    "nombre_recovered    16318\n",
    "Name: 332, dtype: int64"
   ]
  },
  {
   "cell_type": "markdown",
   "id": "b18f25b9",
   "metadata": {},
   "source": [
    "nombre_infected      1012\n",
    "nombre_sain          2201\n",
    "nombre_exposed        470\n",
    "nombre_recovered    16317\n",
    "Name: 333, dtype: int64"
   ]
  },
  {
   "cell_type": "markdown",
   "id": "be266a2d",
   "metadata": {},
   "source": [
    "nombre_infected       995\n",
    "nombre_sain          2188\n",
    "nombre_exposed        479\n",
    "nombre_recovered    16338\n",
    "Name: 334, dtype: int64"
   ]
  },
  {
   "cell_type": "markdown",
   "id": "f9543b00",
   "metadata": {},
   "source": [
    "nombre_infected       987\n",
    "nombre_sain          2159\n",
    "nombre_exposed        489\n",
    "nombre_recovered    16365\n",
    "Name: 335, dtype: int64"
   ]
  },
  {
   "cell_type": "markdown",
   "id": "50811786",
   "metadata": {},
   "source": [
    "nombre_infected       987\n",
    "nombre_sain          2153\n",
    "nombre_exposed        494\n",
    "nombre_recovered    16366\n",
    "Name: 336, dtype: int64"
   ]
  },
  {
   "cell_type": "markdown",
   "id": "98838d8c",
   "metadata": {},
   "source": [
    "nombre_infected       996\n",
    "nombre_sain          2153\n",
    "nombre_exposed        481\n",
    "nombre_recovered    16370\n",
    "Name: 337, dtype: int64"
   ]
  },
  {
   "cell_type": "markdown",
   "id": "8dcab7db",
   "metadata": {},
   "source": [
    "nombre_infected      1000\n",
    "nombre_sain          2147\n",
    "nombre_exposed        467\n",
    "nombre_recovered    16386\n",
    "Name: 338, dtype: int64"
   ]
  },
  {
   "cell_type": "markdown",
   "id": "68561666",
   "metadata": {},
   "source": [
    "nombre_infected       956\n",
    "nombre_sain          2116\n",
    "nombre_exposed        482\n",
    "nombre_recovered    16446\n",
    "Name: 339, dtype: int64"
   ]
  },
  {
   "cell_type": "markdown",
   "id": "64973290",
   "metadata": {},
   "source": [
    "nombre_infected       954\n",
    "nombre_sain          2105\n",
    "nombre_exposed        483\n",
    "nombre_recovered    16458\n",
    "Name: 340, dtype: int64"
   ]
  },
  {
   "cell_type": "markdown",
   "id": "d26e727f",
   "metadata": {},
   "source": [
    "nombre_infected       948\n",
    "nombre_sain          2103\n",
    "nombre_exposed        491\n",
    "nombre_recovered    16458\n",
    "Name: 341, dtype: int64"
   ]
  },
  {
   "cell_type": "markdown",
   "id": "d4c34298",
   "metadata": {},
   "source": [
    "nombre_infected       980\n",
    "nombre_sain          2088\n",
    "nombre_exposed        491\n",
    "nombre_recovered    16441\n",
    "Name: 342, dtype: int64"
   ]
  },
  {
   "cell_type": "markdown",
   "id": "7e9e6dae",
   "metadata": {},
   "source": [
    "nombre_infected       993\n",
    "nombre_sain          2106\n",
    "nombre_exposed        480\n",
    "nombre_recovered    16421\n",
    "Name: 343, dtype: int64"
   ]
  },
  {
   "cell_type": "markdown",
   "id": "2ae61198",
   "metadata": {},
   "source": [
    "nombre_infected       993\n",
    "nombre_sain          2116\n",
    "nombre_exposed        467\n",
    "nombre_recovered    16424\n",
    "Name: 344, dtype: int64"
   ]
  },
  {
   "cell_type": "markdown",
   "id": "76364db3",
   "metadata": {},
   "source": [
    "nombre_infected       997\n",
    "nombre_sain          2143\n",
    "nombre_exposed        448\n",
    "nombre_recovered    16412\n",
    "Name: 345, dtype: int64"
   ]
  },
  {
   "cell_type": "markdown",
   "id": "7bd2aa44",
   "metadata": {},
   "source": [
    "nombre_infected       965\n",
    "nombre_sain          2162\n",
    "nombre_exposed        451\n",
    "nombre_recovered    16422\n",
    "Name: 346, dtype: int64"
   ]
  },
  {
   "cell_type": "markdown",
   "id": "82bbc6ef",
   "metadata": {},
   "source": [
    "nombre_infected       956\n",
    "nombre_sain          2162\n",
    "nombre_exposed        468\n",
    "nombre_recovered    16414\n",
    "Name: 347, dtype: int64"
   ]
  },
  {
   "cell_type": "markdown",
   "id": "c71a75cf",
   "metadata": {},
   "source": [
    "nombre_infected       945\n",
    "nombre_sain          2173\n",
    "nombre_exposed        487\n",
    "nombre_recovered    16395\n",
    "Name: 348, dtype: int64"
   ]
  },
  {
   "cell_type": "markdown",
   "id": "704d3e48",
   "metadata": {},
   "source": [
    "nombre_infected       958\n",
    "nombre_sain          2203\n",
    "nombre_exposed        483\n",
    "nombre_recovered    16356\n",
    "Name: 349, dtype: int64"
   ]
  },
  {
   "cell_type": "markdown",
   "id": "2bf063d1",
   "metadata": {},
   "source": [
    "nombre_infected       964\n",
    "nombre_sain          2230\n",
    "nombre_exposed        471\n",
    "nombre_recovered    16335\n",
    "Name: 350, dtype: int64"
   ]
  },
  {
   "cell_type": "markdown",
   "id": "ee19bbd2",
   "metadata": {},
   "source": [
    "nombre_infected       976\n",
    "nombre_sain          2198\n",
    "nombre_exposed        506\n",
    "nombre_recovered    16320\n",
    "Name: 351, dtype: int64"
   ]
  },
  {
   "cell_type": "markdown",
   "id": "f1edb89d",
   "metadata": {},
   "source": [
    "nombre_infected       981\n",
    "nombre_sain          2207\n",
    "nombre_exposed        490\n",
    "nombre_recovered    16322\n",
    "Name: 352, dtype: int64"
   ]
  },
  {
   "cell_type": "markdown",
   "id": "ed9bd03c",
   "metadata": {},
   "source": [
    "nombre_infected       984\n",
    "nombre_sain          2228\n",
    "nombre_exposed        464\n",
    "nombre_recovered    16324\n",
    "Name: 353, dtype: int64"
   ]
  },
  {
   "cell_type": "markdown",
   "id": "f50ea3f7",
   "metadata": {},
   "source": [
    "nombre_infected      1004\n",
    "nombre_sain          2258\n",
    "nombre_exposed        455\n",
    "nombre_recovered    16283\n",
    "Name: 354, dtype: int64"
   ]
  },
  {
   "cell_type": "markdown",
   "id": "ccd1a189",
   "metadata": {},
   "source": [
    "nombre_infected       990\n",
    "nombre_sain          2259\n",
    "nombre_exposed        477\n",
    "nombre_recovered    16274\n",
    "Name: 355, dtype: int64"
   ]
  },
  {
   "cell_type": "markdown",
   "id": "2fb4c829",
   "metadata": {},
   "source": [
    "nombre_infected       988\n",
    "nombre_sain          2246\n",
    "nombre_exposed        478\n",
    "nombre_recovered    16288\n",
    "Name: 356, dtype: int64"
   ]
  },
  {
   "cell_type": "markdown",
   "id": "0479d665",
   "metadata": {},
   "source": [
    "nombre_infected       998\n",
    "nombre_sain          2237\n",
    "nombre_exposed        495\n",
    "nombre_recovered    16270\n",
    "Name: 357, dtype: int64"
   ]
  },
  {
   "cell_type": "markdown",
   "id": "4b454003",
   "metadata": {},
   "source": [
    "nombre_infected       996\n",
    "nombre_sain          2252\n",
    "nombre_exposed        484\n",
    "nombre_recovered    16268\n",
    "Name: 358, dtype: int64"
   ]
  },
  {
   "cell_type": "markdown",
   "id": "06209899",
   "metadata": {},
   "source": [
    "nombre_infected       997\n",
    "nombre_sain          2267\n",
    "nombre_exposed        477\n",
    "nombre_recovered    16259\n",
    "Name: 359, dtype: int64"
   ]
  },
  {
   "cell_type": "markdown",
   "id": "d3cef6f6",
   "metadata": {},
   "source": [
    "nombre_infected      1005\n",
    "nombre_sain          2282\n",
    "nombre_exposed        440\n",
    "nombre_recovered    16273\n",
    "Name: 360, dtype: int64"
   ]
  },
  {
   "cell_type": "markdown",
   "id": "6007d711",
   "metadata": {},
   "source": [
    "nombre_infected      1004\n",
    "nombre_sain          2293\n",
    "nombre_exposed        458\n",
    "nombre_recovered    16245\n",
    "Name: 361, dtype: int64"
   ]
  },
  {
   "cell_type": "markdown",
   "id": "55c5e1c7",
   "metadata": {},
   "source": [
    "nombre_infected       993\n",
    "nombre_sain          2304\n",
    "nombre_exposed        466\n",
    "nombre_recovered    16237\n",
    "Name: 362, dtype: int64"
   ]
  },
  {
   "cell_type": "markdown",
   "id": "151f0612",
   "metadata": {},
   "source": [
    "nombre_infected      1004\n",
    "nombre_sain          2290\n",
    "nombre_exposed        472\n",
    "nombre_recovered    16234\n",
    "Name: 363, dtype: int64"
   ]
  },
  {
   "cell_type": "markdown",
   "id": "7c6e4c15",
   "metadata": {},
   "source": [
    "nombre_infected      1003\n",
    "nombre_sain          2301\n",
    "nombre_exposed        467\n",
    "nombre_recovered    16229\n",
    "Name: 364, dtype: int64"
   ]
  },
  {
   "cell_type": "markdown",
   "id": "a1a6b207",
   "metadata": {},
   "source": [
    "nombre_infected      1020\n",
    "nombre_sain          2293\n",
    "nombre_exposed        470\n",
    "nombre_recovered    16217\n",
    "Name: 365, dtype: int64"
   ]
  },
  {
   "cell_type": "markdown",
   "id": "e9597924",
   "metadata": {},
   "source": [
    "nombre_infected      1022\n",
    "nombre_sain          2294\n",
    "nombre_exposed        469\n",
    "nombre_recovered    16215\n",
    "Name: 366, dtype: int64"
   ]
  },
  {
   "cell_type": "markdown",
   "id": "13fd28d9",
   "metadata": {},
   "source": [
    "nombre_infected      1012\n",
    "nombre_sain          2281\n",
    "nombre_exposed        489\n",
    "nombre_recovered    16218\n",
    "Name: 367, dtype: int64"
   ]
  },
  {
   "cell_type": "markdown",
   "id": "555d4c4a",
   "metadata": {},
   "source": [
    "nombre_infected      1027\n",
    "nombre_sain          2221\n",
    "nombre_exposed        511\n",
    "nombre_recovered    16241\n",
    "Name: 368, dtype: int64"
   ]
  },
  {
   "cell_type": "markdown",
   "id": "70cdf3a8",
   "metadata": {},
   "source": [
    "nombre_infected      1029\n",
    "nombre_sain          2209\n",
    "nombre_exposed        505\n",
    "nombre_recovered    16257\n",
    "Name: 369, dtype: int64"
   ]
  },
  {
   "cell_type": "markdown",
   "id": "810f6946",
   "metadata": {},
   "source": [
    "nombre_infected      1073\n",
    "nombre_sain          2206\n",
    "nombre_exposed        475\n",
    "nombre_recovered    16246\n",
    "Name: 370, dtype: int64"
   ]
  },
  {
   "cell_type": "markdown",
   "id": "2d2fdd16",
   "metadata": {},
   "source": [
    "nombre_infected      1080\n",
    "nombre_sain          2215\n",
    "nombre_exposed        484\n",
    "nombre_recovered    16221\n",
    "Name: 371, dtype: int64"
   ]
  },
  {
   "cell_type": "markdown",
   "id": "6811ba21",
   "metadata": {},
   "source": [
    "nombre_infected      1070\n",
    "nombre_sain          2198\n",
    "nombre_exposed        514\n",
    "nombre_recovered    16218\n",
    "Name: 372, dtype: int64"
   ]
  },
  {
   "cell_type": "markdown",
   "id": "c71c1bcb",
   "metadata": {},
   "source": [
    "nombre_infected      1074\n",
    "nombre_sain          2170\n",
    "nombre_exposed        523\n",
    "nombre_recovered    16233\n",
    "Name: 373, dtype: int64"
   ]
  },
  {
   "cell_type": "markdown",
   "id": "40a0a605",
   "metadata": {},
   "source": [
    "nombre_infected      1068\n",
    "nombre_sain          2151\n",
    "nombre_exposed        538\n",
    "nombre_recovered    16243\n",
    "Name: 374, dtype: int64"
   ]
  },
  {
   "cell_type": "markdown",
   "id": "c6f94c27",
   "metadata": {},
   "source": [
    "nombre_infected      1076\n",
    "nombre_sain          2110\n",
    "nombre_exposed        545\n",
    "nombre_recovered    16269\n",
    "Name: 375, dtype: int64"
   ]
  },
  {
   "cell_type": "markdown",
   "id": "8d9874c6",
   "metadata": {},
   "source": [
    "nombre_infected      1100\n",
    "nombre_sain          2118\n",
    "nombre_exposed        539\n",
    "nombre_recovered    16243\n",
    "Name: 376, dtype: int64"
   ]
  },
  {
   "cell_type": "markdown",
   "id": "e4b46c79",
   "metadata": {},
   "source": [
    "nombre_infected      1111\n",
    "nombre_sain          2113\n",
    "nombre_exposed        520\n",
    "nombre_recovered    16256\n",
    "Name: 377, dtype: int64"
   ]
  },
  {
   "cell_type": "markdown",
   "id": "7e46cf06",
   "metadata": {},
   "source": [
    "nombre_infected      1125\n",
    "nombre_sain          2099\n",
    "nombre_exposed        517\n",
    "nombre_recovered    16259\n",
    "Name: 378, dtype: int64"
   ]
  },
  {
   "cell_type": "markdown",
   "id": "fca8907a",
   "metadata": {},
   "source": [
    "nombre_infected      1140\n",
    "nombre_sain          2076\n",
    "nombre_exposed        511\n",
    "nombre_recovered    16273\n",
    "Name: 379, dtype: int64"
   ]
  },
  {
   "cell_type": "markdown",
   "id": "504834bd",
   "metadata": {},
   "source": [
    "nombre_infected      1159\n",
    "nombre_sain          2049\n",
    "nombre_exposed        511\n",
    "nombre_recovered    16281\n",
    "Name: 380, dtype: int64"
   ]
  },
  {
   "cell_type": "markdown",
   "id": "a7cd36b0",
   "metadata": {},
   "source": [
    "nombre_infected      1167\n",
    "nombre_sain          2006\n",
    "nombre_exposed        532\n",
    "nombre_recovered    16295\n",
    "Name: 381, dtype: int64"
   ]
  },
  {
   "cell_type": "markdown",
   "id": "e25ce9a5",
   "metadata": {},
   "source": [
    "nombre_infected      1165\n",
    "nombre_sain          1984\n",
    "nombre_exposed        518\n",
    "nombre_recovered    16333\n",
    "Name: 382, dtype: int64"
   ]
  },
  {
   "cell_type": "markdown",
   "id": "f6d750d1",
   "metadata": {},
   "source": [
    "nombre_infected      1185\n",
    "nombre_sain          1970\n",
    "nombre_exposed        515\n",
    "nombre_recovered    16330\n",
    "Name: 383, dtype: int64"
   ]
  },
  {
   "cell_type": "markdown",
   "id": "1d40a9cb",
   "metadata": {},
   "source": [
    "nombre_infected      1171\n",
    "nombre_sain          1960\n",
    "nombre_exposed        506\n",
    "nombre_recovered    16363\n",
    "Name: 384, dtype: int64"
   ]
  },
  {
   "cell_type": "markdown",
   "id": "92e0427e",
   "metadata": {},
   "source": [
    "nombre_infected      1175\n",
    "nombre_sain          1952\n",
    "nombre_exposed        496\n",
    "nombre_recovered    16377\n",
    "Name: 385, dtype: int64"
   ]
  },
  {
   "cell_type": "markdown",
   "id": "f1793bd2",
   "metadata": {},
   "source": [
    "nombre_infected      1179\n",
    "nombre_sain          1926\n",
    "nombre_exposed        519\n",
    "nombre_recovered    16376\n",
    "Name: 386, dtype: int64"
   ]
  },
  {
   "cell_type": "markdown",
   "id": "5384cfdd",
   "metadata": {},
   "source": [
    "nombre_infected      1156\n",
    "nombre_sain          1909\n",
    "nombre_exposed        519\n",
    "nombre_recovered    16416\n",
    "Name: 387, dtype: int64"
   ]
  },
  {
   "cell_type": "markdown",
   "id": "c649b851",
   "metadata": {},
   "source": [
    "nombre_infected      1176\n",
    "nombre_sain          1902\n",
    "nombre_exposed        490\n",
    "nombre_recovered    16432\n",
    "Name: 388, dtype: int64"
   ]
  },
  {
   "cell_type": "markdown",
   "id": "2d0aeea2",
   "metadata": {},
   "source": [
    "nombre_infected      1167\n",
    "nombre_sain          1864\n",
    "nombre_exposed        507\n",
    "nombre_recovered    16462\n",
    "Name: 389, dtype: int64"
   ]
  },
  {
   "cell_type": "markdown",
   "id": "d62f5eab",
   "metadata": {},
   "source": [
    "nombre_infected      1185\n",
    "nombre_sain          1879\n",
    "nombre_exposed        484\n",
    "nombre_recovered    16452\n",
    "Name: 390, dtype: int64"
   ]
  },
  {
   "cell_type": "markdown",
   "id": "b610477f",
   "metadata": {},
   "source": [
    "nombre_infected      1194\n",
    "nombre_sain          1826\n",
    "nombre_exposed        505\n",
    "nombre_recovered    16475\n",
    "Name: 391, dtype: int64"
   ]
  },
  {
   "cell_type": "markdown",
   "id": "39d3b0d9",
   "metadata": {},
   "source": [
    "nombre_infected      1193\n",
    "nombre_sain          1804\n",
    "nombre_exposed        505\n",
    "nombre_recovered    16498\n",
    "Name: 392, dtype: int64"
   ]
  },
  {
   "cell_type": "markdown",
   "id": "26f1abbd",
   "metadata": {},
   "source": [
    "nombre_infected      1182\n",
    "nombre_sain          1779\n",
    "nombre_exposed        496\n",
    "nombre_recovered    16543\n",
    "Name: 393, dtype: int64"
   ]
  },
  {
   "cell_type": "markdown",
   "id": "1924afa0",
   "metadata": {},
   "source": [
    "nombre_infected      1183\n",
    "nombre_sain          1770\n",
    "nombre_exposed        489\n",
    "nombre_recovered    16558\n",
    "Name: 394, dtype: int64"
   ]
  },
  {
   "cell_type": "markdown",
   "id": "42c5fca3",
   "metadata": {},
   "source": [
    "nombre_infected      1169\n",
    "nombre_sain          1750\n",
    "nombre_exposed        485\n",
    "nombre_recovered    16596\n",
    "Name: 395, dtype: int64"
   ]
  },
  {
   "cell_type": "markdown",
   "id": "516b5046",
   "metadata": {},
   "source": [
    "nombre_infected      1163\n",
    "nombre_sain          1775\n",
    "nombre_exposed        456\n",
    "nombre_recovered    16606\n",
    "Name: 396, dtype: int64"
   ]
  },
  {
   "cell_type": "markdown",
   "id": "6cff84d2",
   "metadata": {},
   "source": [
    "nombre_infected      1166\n",
    "nombre_sain          1762\n",
    "nombre_exposed        459\n",
    "nombre_recovered    16613\n",
    "Name: 397, dtype: int64"
   ]
  },
  {
   "cell_type": "markdown",
   "id": "d17d0d30",
   "metadata": {},
   "source": [
    "nombre_infected      1165\n",
    "nombre_sain          1744\n",
    "nombre_exposed        457\n",
    "nombre_recovered    16634\n",
    "Name: 398, dtype: int64"
   ]
  },
  {
   "cell_type": "markdown",
   "id": "6c45eb3d",
   "metadata": {},
   "source": [
    "nombre_infected      1179\n",
    "nombre_sain          1736\n",
    "nombre_exposed        459\n",
    "nombre_recovered    16626\n",
    "Name: 399, dtype: int64"
   ]
  },
  {
   "cell_type": "markdown",
   "id": "e314a1e8",
   "metadata": {},
   "source": [
    "nombre_infected      1154\n",
    "nombre_sain          1751\n",
    "nombre_exposed        441\n",
    "nombre_recovered    16654\n",
    "Name: 400, dtype: int64"
   ]
  },
  {
   "cell_type": "markdown",
   "id": "ea17547d",
   "metadata": {},
   "source": [
    "nombre_infected      1148\n",
    "nombre_sain          1715\n",
    "nombre_exposed        452\n",
    "nombre_recovered    16685\n",
    "Name: 401, dtype: int64"
   ]
  },
  {
   "cell_type": "markdown",
   "id": "9b03b872",
   "metadata": {},
   "source": [
    "nombre_infected      1145\n",
    "nombre_sain          1707\n",
    "nombre_exposed        448\n",
    "nombre_recovered    16700\n",
    "Name: 402, dtype: int64"
   ]
  },
  {
   "cell_type": "markdown",
   "id": "8f63afbb",
   "metadata": {},
   "source": [
    "nombre_infected      1141\n",
    "nombre_sain          1678\n",
    "nombre_exposed        464\n",
    "nombre_recovered    16717\n",
    "Name: 403, dtype: int64"
   ]
  },
  {
   "cell_type": "markdown",
   "id": "34e51e28",
   "metadata": {},
   "source": [
    "nombre_infected      1127\n",
    "nombre_sain          1716\n",
    "nombre_exposed        419\n",
    "nombre_recovered    16738\n",
    "Name: 404, dtype: int64"
   ]
  },
  {
   "cell_type": "markdown",
   "id": "d4cc91d1",
   "metadata": {},
   "source": [
    "nombre_infected      1120\n",
    "nombre_sain          1730\n",
    "nombre_exposed        402\n",
    "nombre_recovered    16748\n",
    "Name: 405, dtype: int64"
   ]
  },
  {
   "cell_type": "markdown",
   "id": "cdf8353c",
   "metadata": {},
   "source": [
    "nombre_infected      1116\n",
    "nombre_sain          1724\n",
    "nombre_exposed        387\n",
    "nombre_recovered    16773\n",
    "Name: 406, dtype: int64"
   ]
  },
  {
   "cell_type": "markdown",
   "id": "e9886ea2",
   "metadata": {},
   "source": [
    "nombre_infected      1092\n",
    "nombre_sain          1708\n",
    "nombre_exposed        404\n",
    "nombre_recovered    16796\n",
    "Name: 407, dtype: int64"
   ]
  },
  {
   "cell_type": "markdown",
   "id": "841bd835",
   "metadata": {},
   "source": [
    "nombre_infected      1044\n",
    "nombre_sain          1697\n",
    "nombre_exposed        431\n",
    "nombre_recovered    16828\n",
    "Name: 408, dtype: int64"
   ]
  },
  {
   "cell_type": "markdown",
   "id": "e850d9b0",
   "metadata": {},
   "source": [
    "nombre_infected      1017\n",
    "nombre_sain          1701\n",
    "nombre_exposed        412\n",
    "nombre_recovered    16870\n",
    "Name: 409, dtype: int64"
   ]
  },
  {
   "cell_type": "markdown",
   "id": "16344f3f",
   "metadata": {},
   "source": [
    "nombre_infected      1007\n",
    "nombre_sain          1750\n",
    "nombre_exposed        379\n",
    "nombre_recovered    16864\n",
    "Name: 410, dtype: int64"
   ]
  },
  {
   "cell_type": "markdown",
   "id": "e7c1748f",
   "metadata": {},
   "source": [
    "nombre_infected      1006\n",
    "nombre_sain          1773\n",
    "nombre_exposed        362\n",
    "nombre_recovered    16859\n",
    "Name: 411, dtype: int64"
   ]
  },
  {
   "cell_type": "markdown",
   "id": "f5d97e3f",
   "metadata": {},
   "source": [
    "nombre_infected       973\n",
    "nombre_sain          1776\n",
    "nombre_exposed        380\n",
    "nombre_recovered    16871\n",
    "Name: 412, dtype: int64"
   ]
  },
  {
   "cell_type": "markdown",
   "id": "7336f189",
   "metadata": {},
   "source": [
    "nombre_infected       973\n",
    "nombre_sain          1819\n",
    "nombre_exposed        367\n",
    "nombre_recovered    16841\n",
    "Name: 413, dtype: int64"
   ]
  },
  {
   "cell_type": "markdown",
   "id": "fec53c4c",
   "metadata": {},
   "source": [
    "nombre_infected       963\n",
    "nombre_sain          1825\n",
    "nombre_exposed        363\n",
    "nombre_recovered    16849\n",
    "Name: 414, dtype: int64"
   ]
  },
  {
   "cell_type": "markdown",
   "id": "92813024",
   "metadata": {},
   "source": [
    "nombre_infected       949\n",
    "nombre_sain          1837\n",
    "nombre_exposed        372\n",
    "nombre_recovered    16842\n",
    "Name: 415, dtype: int64"
   ]
  },
  {
   "cell_type": "markdown",
   "id": "ef1f8e61",
   "metadata": {},
   "source": [
    "nombre_infected       932\n",
    "nombre_sain          1874\n",
    "nombre_exposed        369\n",
    "nombre_recovered    16825\n",
    "Name: 416, dtype: int64"
   ]
  },
  {
   "cell_type": "markdown",
   "id": "4addb153",
   "metadata": {},
   "source": [
    "nombre_infected       919\n",
    "nombre_sain          1890\n",
    "nombre_exposed        368\n",
    "nombre_recovered    16823\n",
    "Name: 417, dtype: int64"
   ]
  },
  {
   "cell_type": "markdown",
   "id": "057a4250",
   "metadata": {},
   "source": [
    "nombre_infected       885\n",
    "nombre_sain          1924\n",
    "nombre_exposed        374\n",
    "nombre_recovered    16817\n",
    "Name: 418, dtype: int64"
   ]
  },
  {
   "cell_type": "markdown",
   "id": "abdcf586",
   "metadata": {},
   "source": [
    "nombre_infected       886\n",
    "nombre_sain          1940\n",
    "nombre_exposed        357\n",
    "nombre_recovered    16817\n",
    "Name: 419, dtype: int64"
   ]
  },
  {
   "cell_type": "markdown",
   "id": "e815d50d",
   "metadata": {},
   "source": [
    "nombre_infected       878\n",
    "nombre_sain          1979\n",
    "nombre_exposed        346\n",
    "nombre_recovered    16797\n",
    "Name: 420, dtype: int64"
   ]
  },
  {
   "cell_type": "markdown",
   "id": "05dd5789",
   "metadata": {},
   "source": [
    "nombre_infected       859\n",
    "nombre_sain          2001\n",
    "nombre_exposed        330\n",
    "nombre_recovered    16810\n",
    "Name: 421, dtype: int64"
   ]
  },
  {
   "cell_type": "markdown",
   "id": "528fe483",
   "metadata": {},
   "source": [
    "nombre_infected       834\n",
    "nombre_sain          2024\n",
    "nombre_exposed        336\n",
    "nombre_recovered    16806\n",
    "Name: 422, dtype: int64"
   ]
  },
  {
   "cell_type": "markdown",
   "id": "e560734a",
   "metadata": {},
   "source": [
    "nombre_infected       811\n",
    "nombre_sain          2048\n",
    "nombre_exposed        327\n",
    "nombre_recovered    16814\n",
    "Name: 423, dtype: int64"
   ]
  },
  {
   "cell_type": "markdown",
   "id": "27cce0e7",
   "metadata": {},
   "source": [
    "nombre_infected       806\n",
    "nombre_sain          2074\n",
    "nombre_exposed        339\n",
    "nombre_recovered    16781\n",
    "Name: 424, dtype: int64"
   ]
  },
  {
   "cell_type": "markdown",
   "id": "d0693789",
   "metadata": {},
   "source": [
    "nombre_infected       783\n",
    "nombre_sain          2098\n",
    "nombre_exposed        359\n",
    "nombre_recovered    16760\n",
    "Name: 425, dtype: int64"
   ]
  },
  {
   "cell_type": "markdown",
   "id": "91708bfe",
   "metadata": {},
   "source": [
    "nombre_infected       801\n",
    "nombre_sain          2125\n",
    "nombre_exposed        330\n",
    "nombre_recovered    16744\n",
    "Name: 426, dtype: int64"
   ]
  },
  {
   "cell_type": "markdown",
   "id": "c127d77b",
   "metadata": {},
   "source": [
    "nombre_infected       803\n",
    "nombre_sain          2133\n",
    "nombre_exposed        342\n",
    "nombre_recovered    16722\n",
    "Name: 427, dtype: int64"
   ]
  },
  {
   "cell_type": "markdown",
   "id": "3a4fbc2a",
   "metadata": {},
   "source": [
    "nombre_infected       775\n",
    "nombre_sain          2131\n",
    "nombre_exposed        381\n",
    "nombre_recovered    16713\n",
    "Name: 428, dtype: int64"
   ]
  },
  {
   "cell_type": "markdown",
   "id": "b3a7ceee",
   "metadata": {},
   "source": [
    "nombre_infected       789\n",
    "nombre_sain          2162\n",
    "nombre_exposed        358\n",
    "nombre_recovered    16691\n",
    "Name: 429, dtype: int64"
   ]
  },
  {
   "cell_type": "markdown",
   "id": "9a903602",
   "metadata": {},
   "source": [
    "nombre_infected       788\n",
    "nombre_sain          2179\n",
    "nombre_exposed        363\n",
    "nombre_recovered    16670\n",
    "Name: 430, dtype: int64"
   ]
  },
  {
   "cell_type": "markdown",
   "id": "4fe25952",
   "metadata": {},
   "source": [
    "nombre_infected       795\n",
    "nombre_sain          2207\n",
    "nombre_exposed        365\n",
    "nombre_recovered    16633\n",
    "Name: 431, dtype: int64"
   ]
  },
  {
   "cell_type": "markdown",
   "id": "5d328ca2",
   "metadata": {},
   "source": [
    "nombre_infected       779\n",
    "nombre_sain          2229\n",
    "nombre_exposed        380\n",
    "nombre_recovered    16612\n",
    "Name: 432, dtype: int64"
   ]
  },
  {
   "cell_type": "markdown",
   "id": "489d9a20",
   "metadata": {},
   "source": [
    "nombre_infected       769\n",
    "nombre_sain          2243\n",
    "nombre_exposed        392\n",
    "nombre_recovered    16596\n",
    "Name: 433, dtype: int64"
   ]
  },
  {
   "cell_type": "markdown",
   "id": "d8c4ff12",
   "metadata": {},
   "source": [
    "nombre_infected       761\n",
    "nombre_sain          2236\n",
    "nombre_exposed        391\n",
    "nombre_recovered    16612\n",
    "Name: 434, dtype: int64"
   ]
  },
  {
   "cell_type": "markdown",
   "id": "bd082558",
   "metadata": {},
   "source": [
    "nombre_infected       765\n",
    "nombre_sain          2253\n",
    "nombre_exposed        388\n",
    "nombre_recovered    16594\n",
    "Name: 435, dtype: int64"
   ]
  },
  {
   "cell_type": "markdown",
   "id": "bfbce632",
   "metadata": {},
   "source": [
    "nombre_infected       795\n",
    "nombre_sain          2279\n",
    "nombre_exposed        376\n",
    "nombre_recovered    16550\n",
    "Name: 436, dtype: int64"
   ]
  },
  {
   "cell_type": "markdown",
   "id": "01c902aa",
   "metadata": {},
   "source": [
    "nombre_infected       792\n",
    "nombre_sain          2290\n",
    "nombre_exposed        385\n",
    "nombre_recovered    16533\n",
    "Name: 437, dtype: int64"
   ]
  },
  {
   "cell_type": "markdown",
   "id": "44ae0320",
   "metadata": {},
   "source": [
    "nombre_infected       796\n",
    "nombre_sain          2285\n",
    "nombre_exposed        393\n",
    "nombre_recovered    16526\n",
    "Name: 438, dtype: int64"
   ]
  },
  {
   "cell_type": "markdown",
   "id": "61b0e4db",
   "metadata": {},
   "source": [
    "nombre_infected       790\n",
    "nombre_sain          2278\n",
    "nombre_exposed        408\n",
    "nombre_recovered    16524\n",
    "Name: 439, dtype: int64"
   ]
  },
  {
   "cell_type": "markdown",
   "id": "9aec3933",
   "metadata": {},
   "source": [
    "nombre_infected       800\n",
    "nombre_sain          2283\n",
    "nombre_exposed        407\n",
    "nombre_recovered    16510\n",
    "Name: 440, dtype: int64"
   ]
  },
  {
   "cell_type": "markdown",
   "id": "153741b2",
   "metadata": {},
   "source": [
    "nombre_infected       811\n",
    "nombre_sain          2285\n",
    "nombre_exposed        398\n",
    "nombre_recovered    16506\n",
    "Name: 441, dtype: int64"
   ]
  },
  {
   "cell_type": "markdown",
   "id": "d6ec0fa8",
   "metadata": {},
   "source": [
    "nombre_infected       801\n",
    "nombre_sain          2288\n",
    "nombre_exposed        393\n",
    "nombre_recovered    16518\n",
    "Name: 442, dtype: int64"
   ]
  },
  {
   "cell_type": "markdown",
   "id": "4d74f454",
   "metadata": {},
   "source": [
    "nombre_infected       830\n",
    "nombre_sain          2281\n",
    "nombre_exposed        382\n",
    "nombre_recovered    16507\n",
    "Name: 443, dtype: int64"
   ]
  },
  {
   "cell_type": "markdown",
   "id": "a60011a5",
   "metadata": {},
   "source": [
    "nombre_infected       826\n",
    "nombre_sain          2281\n",
    "nombre_exposed        395\n",
    "nombre_recovered    16498\n",
    "Name: 444, dtype: int64"
   ]
  },
  {
   "cell_type": "markdown",
   "id": "bab6a758",
   "metadata": {},
   "source": [
    "nombre_infected       842\n",
    "nombre_sain          2262\n",
    "nombre_exposed        418\n",
    "nombre_recovered    16478\n",
    "Name: 445, dtype: int64"
   ]
  },
  {
   "cell_type": "markdown",
   "id": "f7462cdc",
   "metadata": {},
   "source": [
    "nombre_infected       857\n",
    "nombre_sain          2265\n",
    "nombre_exposed        421\n",
    "nombre_recovered    16457\n",
    "Name: 446, dtype: int64"
   ]
  },
  {
   "cell_type": "markdown",
   "id": "92c5c5ea",
   "metadata": {},
   "source": [
    "nombre_infected       860\n",
    "nombre_sain          2253\n",
    "nombre_exposed        427\n",
    "nombre_recovered    16460\n",
    "Name: 447, dtype: int64"
   ]
  },
  {
   "cell_type": "markdown",
   "id": "f6820c01",
   "metadata": {},
   "source": [
    "nombre_infected       886\n",
    "nombre_sain          2225\n",
    "nombre_exposed        422\n",
    "nombre_recovered    16467\n",
    "Name: 448, dtype: int64"
   ]
  },
  {
   "cell_type": "markdown",
   "id": "f88757e6",
   "metadata": {},
   "source": [
    "nombre_infected       857\n",
    "nombre_sain          2226\n",
    "nombre_exposed        432\n",
    "nombre_recovered    16485\n",
    "Name: 449, dtype: int64"
   ]
  },
  {
   "cell_type": "markdown",
   "id": "5f8d0db5",
   "metadata": {},
   "source": [
    "nombre_infected       845\n",
    "nombre_sain          2221\n",
    "nombre_exposed        427\n",
    "nombre_recovered    16507\n",
    "Name: 450, dtype: int64"
   ]
  },
  {
   "cell_type": "markdown",
   "id": "117d70e2",
   "metadata": {},
   "source": [
    "nombre_infected       840\n",
    "nombre_sain          2229\n",
    "nombre_exposed        422\n",
    "nombre_recovered    16509\n",
    "Name: 451, dtype: int64"
   ]
  },
  {
   "cell_type": "markdown",
   "id": "daaca7e0",
   "metadata": {},
   "source": [
    "nombre_infected       867\n",
    "nombre_sain          2224\n",
    "nombre_exposed        412\n",
    "nombre_recovered    16497\n",
    "Name: 452, dtype: int64"
   ]
  },
  {
   "cell_type": "markdown",
   "id": "fc657a0a",
   "metadata": {},
   "source": [
    "nombre_infected       886\n",
    "nombre_sain          2207\n",
    "nombre_exposed        413\n",
    "nombre_recovered    16494\n",
    "Name: 453, dtype: int64"
   ]
  },
  {
   "cell_type": "markdown",
   "id": "269cca8c",
   "metadata": {},
   "source": [
    "nombre_infected       882\n",
    "nombre_sain          2206\n",
    "nombre_exposed        409\n",
    "nombre_recovered    16503\n",
    "Name: 454, dtype: int64"
   ]
  },
  {
   "cell_type": "markdown",
   "id": "5355afb0",
   "metadata": {},
   "source": [
    "nombre_infected       893\n",
    "nombre_sain          2204\n",
    "nombre_exposed        411\n",
    "nombre_recovered    16492\n",
    "Name: 455, dtype: int64"
   ]
  },
  {
   "cell_type": "markdown",
   "id": "431ed16a",
   "metadata": {},
   "source": [
    "nombre_infected       889\n",
    "nombre_sain          2207\n",
    "nombre_exposed        412\n",
    "nombre_recovered    16492\n",
    "Name: 456, dtype: int64"
   ]
  },
  {
   "cell_type": "markdown",
   "id": "b2ed3eeb",
   "metadata": {},
   "source": [
    "nombre_infected       875\n",
    "nombre_sain          2233\n",
    "nombre_exposed        416\n",
    "nombre_recovered    16476\n",
    "Name: 457, dtype: int64"
   ]
  },
  {
   "cell_type": "markdown",
   "id": "d8da1b66",
   "metadata": {},
   "source": [
    "nombre_infected       894\n",
    "nombre_sain          2237\n",
    "nombre_exposed        411\n",
    "nombre_recovered    16458\n",
    "Name: 458, dtype: int64"
   ]
  },
  {
   "cell_type": "markdown",
   "id": "c406c3fd",
   "metadata": {},
   "source": [
    "nombre_infected       905\n",
    "nombre_sain          2262\n",
    "nombre_exposed        395\n",
    "nombre_recovered    16438\n",
    "Name: 459, dtype: int64"
   ]
  },
  {
   "cell_type": "markdown",
   "id": "a9d6447e",
   "metadata": {},
   "source": [
    "nombre_infected       924\n",
    "nombre_sain          2234\n",
    "nombre_exposed        416\n",
    "nombre_recovered    16426\n",
    "Name: 460, dtype: int64"
   ]
  },
  {
   "cell_type": "markdown",
   "id": "769d700c",
   "metadata": {},
   "source": [
    "nombre_infected       920\n",
    "nombre_sain          2221\n",
    "nombre_exposed        423\n",
    "nombre_recovered    16436\n",
    "Name: 461, dtype: int64"
   ]
  },
  {
   "cell_type": "markdown",
   "id": "fb84cef3",
   "metadata": {},
   "source": [
    "nombre_infected       922\n",
    "nombre_sain          2207\n",
    "nombre_exposed        433\n",
    "nombre_recovered    16438\n",
    "Name: 462, dtype: int64"
   ]
  },
  {
   "cell_type": "markdown",
   "id": "f095a9cb",
   "metadata": {},
   "source": [
    "nombre_infected       927\n",
    "nombre_sain          2230\n",
    "nombre_exposed        433\n",
    "nombre_recovered    16410\n",
    "Name: 463, dtype: int64"
   ]
  },
  {
   "cell_type": "markdown",
   "id": "fcae94ac",
   "metadata": {},
   "source": [
    "nombre_infected       919\n",
    "nombre_sain          2227\n",
    "nombre_exposed        439\n",
    "nombre_recovered    16415\n",
    "Name: 464, dtype: int64"
   ]
  },
  {
   "cell_type": "markdown",
   "id": "bad0edd9",
   "metadata": {},
   "source": [
    "nombre_infected       941\n",
    "nombre_sain          2207\n",
    "nombre_exposed        445\n",
    "nombre_recovered    16407\n",
    "Name: 465, dtype: int64"
   ]
  },
  {
   "cell_type": "markdown",
   "id": "2f5955a0",
   "metadata": {},
   "source": [
    "nombre_infected       936\n",
    "nombre_sain          2200\n",
    "nombre_exposed        460\n",
    "nombre_recovered    16404\n",
    "Name: 466, dtype: int64"
   ]
  },
  {
   "cell_type": "markdown",
   "id": "b95bc935",
   "metadata": {},
   "source": [
    "nombre_infected       934\n",
    "nombre_sain          2219\n",
    "nombre_exposed        456\n",
    "nombre_recovered    16391\n",
    "Name: 467, dtype: int64"
   ]
  },
  {
   "cell_type": "markdown",
   "id": "f7757532",
   "metadata": {},
   "source": [
    "nombre_infected       921\n",
    "nombre_sain          2226\n",
    "nombre_exposed        443\n",
    "nombre_recovered    16410\n",
    "Name: 468, dtype: int64"
   ]
  },
  {
   "cell_type": "markdown",
   "id": "c6f04bef",
   "metadata": {},
   "source": [
    "nombre_infected       961\n",
    "nombre_sain          2231\n",
    "nombre_exposed        412\n",
    "nombre_recovered    16396\n",
    "Name: 469, dtype: int64"
   ]
  },
  {
   "cell_type": "markdown",
   "id": "a79503a3",
   "metadata": {},
   "source": [
    "nombre_infected       947\n",
    "nombre_sain          2226\n",
    "nombre_exposed        442\n",
    "nombre_recovered    16385\n",
    "Name: 470, dtype: int64"
   ]
  },
  {
   "cell_type": "markdown",
   "id": "7c5a7f36",
   "metadata": {},
   "source": [
    "nombre_infected       957\n",
    "nombre_sain          2219\n",
    "nombre_exposed        458\n",
    "nombre_recovered    16366\n",
    "Name: 471, dtype: int64"
   ]
  },
  {
   "cell_type": "markdown",
   "id": "4e79e0fb",
   "metadata": {},
   "source": [
    "nombre_infected       949\n",
    "nombre_sain          2179\n",
    "nombre_exposed        486\n",
    "nombre_recovered    16386\n",
    "Name: 472, dtype: int64"
   ]
  },
  {
   "cell_type": "markdown",
   "id": "1d5caf5e",
   "metadata": {},
   "source": [
    "nombre_infected       982\n",
    "nombre_sain          2163\n",
    "nombre_exposed        476\n",
    "nombre_recovered    16379\n",
    "Name: 473, dtype: int64"
   ]
  },
  {
   "cell_type": "markdown",
   "id": "16bd6b20",
   "metadata": {},
   "source": [
    "nombre_infected      1007\n",
    "nombre_sain          2153\n",
    "nombre_exposed        478\n",
    "nombre_recovered    16362\n",
    "Name: 474, dtype: int64"
   ]
  },
  {
   "cell_type": "markdown",
   "id": "1ad9d02b",
   "metadata": {},
   "source": [
    "nombre_infected      1023\n",
    "nombre_sain          2123\n",
    "nombre_exposed        484\n",
    "nombre_recovered    16370\n",
    "Name: 475, dtype: int64"
   ]
  },
  {
   "cell_type": "markdown",
   "id": "0180809c",
   "metadata": {},
   "source": [
    "nombre_infected      1055\n",
    "nombre_sain          2109\n",
    "nombre_exposed        481\n",
    "nombre_recovered    16355\n",
    "Name: 476, dtype: int64"
   ]
  },
  {
   "cell_type": "markdown",
   "id": "440a8ffe",
   "metadata": {},
   "source": [
    "nombre_infected      1049\n",
    "nombre_sain          2109\n",
    "nombre_exposed        487\n",
    "nombre_recovered    16355\n",
    "Name: 477, dtype: int64"
   ]
  },
  {
   "cell_type": "markdown",
   "id": "43740638",
   "metadata": {},
   "source": [
    "nombre_infected      1045\n",
    "nombre_sain          2098\n",
    "nombre_exposed        484\n",
    "nombre_recovered    16373\n",
    "Name: 478, dtype: int64"
   ]
  },
  {
   "cell_type": "markdown",
   "id": "a2324570",
   "metadata": {},
   "source": [
    "nombre_infected      1026\n",
    "nombre_sain          2088\n",
    "nombre_exposed        486\n",
    "nombre_recovered    16400\n",
    "Name: 479, dtype: int64"
   ]
  },
  {
   "cell_type": "markdown",
   "id": "775e22d8",
   "metadata": {},
   "source": [
    "nombre_infected      1015\n",
    "nombre_sain          2115\n",
    "nombre_exposed        480\n",
    "nombre_recovered    16390\n",
    "Name: 480, dtype: int64"
   ]
  },
  {
   "cell_type": "markdown",
   "id": "09f2ef57",
   "metadata": {},
   "source": [
    "nombre_infected      1033\n",
    "nombre_sain          2137\n",
    "nombre_exposed        454\n",
    "nombre_recovered    16376\n",
    "Name: 481, dtype: int64"
   ]
  },
  {
   "cell_type": "markdown",
   "id": "10a43b83",
   "metadata": {},
   "source": [
    "nombre_infected      1024\n",
    "nombre_sain          2156\n",
    "nombre_exposed        456\n",
    "nombre_recovered    16364\n",
    "Name: 482, dtype: int64"
   ]
  },
  {
   "cell_type": "markdown",
   "id": "d3eb4fac",
   "metadata": {},
   "source": [
    "nombre_infected      1021\n",
    "nombre_sain          2155\n",
    "nombre_exposed        464\n",
    "nombre_recovered    16360\n",
    "Name: 483, dtype: int64"
   ]
  },
  {
   "cell_type": "markdown",
   "id": "1f659124",
   "metadata": {},
   "source": [
    "nombre_infected      1014\n",
    "nombre_sain          2139\n",
    "nombre_exposed        499\n",
    "nombre_recovered    16348\n",
    "Name: 484, dtype: int64"
   ]
  },
  {
   "cell_type": "markdown",
   "id": "0b1c2e33",
   "metadata": {},
   "source": [
    "nombre_infected      1021\n",
    "nombre_sain          2148\n",
    "nombre_exposed        488\n",
    "nombre_recovered    16343\n",
    "Name: 485, dtype: int64"
   ]
  },
  {
   "cell_type": "markdown",
   "id": "e6f655ce",
   "metadata": {},
   "source": [
    "nombre_infected      1063\n",
    "nombre_sain          2171\n",
    "nombre_exposed        463\n",
    "nombre_recovered    16303\n",
    "Name: 486, dtype: int64"
   ]
  },
  {
   "cell_type": "markdown",
   "id": "3fbc25c6",
   "metadata": {},
   "source": [
    "nombre_infected      1067\n",
    "nombre_sain          2144\n",
    "nombre_exposed        494\n",
    "nombre_recovered    16295\n",
    "Name: 487, dtype: int64"
   ]
  },
  {
   "cell_type": "markdown",
   "id": "0e27032f",
   "metadata": {},
   "source": [
    "nombre_infected      1065\n",
    "nombre_sain          2156\n",
    "nombre_exposed        506\n",
    "nombre_recovered    16273\n",
    "Name: 488, dtype: int64"
   ]
  },
  {
   "cell_type": "markdown",
   "id": "acb282f8",
   "metadata": {},
   "source": [
    "nombre_infected      1074\n",
    "nombre_sain          2130\n",
    "nombre_exposed        530\n",
    "nombre_recovered    16266\n",
    "Name: 489, dtype: int64"
   ]
  },
  {
   "cell_type": "markdown",
   "id": "6567541d",
   "metadata": {},
   "source": [
    "nombre_infected      1102\n",
    "nombre_sain          2152\n",
    "nombre_exposed        517\n",
    "nombre_recovered    16229\n",
    "Name: 490, dtype: int64"
   ]
  },
  {
   "cell_type": "markdown",
   "id": "587058e5",
   "metadata": {},
   "source": [
    "nombre_infected      1094\n",
    "nombre_sain          2139\n",
    "nombre_exposed        531\n",
    "nombre_recovered    16236\n",
    "Name: 491, dtype: int64"
   ]
  },
  {
   "cell_type": "markdown",
   "id": "27772a06",
   "metadata": {},
   "source": [
    "nombre_infected      1114\n",
    "nombre_sain          2149\n",
    "nombre_exposed        494\n",
    "nombre_recovered    16243\n",
    "Name: 492, dtype: int64"
   ]
  },
  {
   "cell_type": "markdown",
   "id": "f1362085",
   "metadata": {},
   "source": [
    "nombre_infected      1128\n",
    "nombre_sain          2128\n",
    "nombre_exposed        514\n",
    "nombre_recovered    16230\n",
    "Name: 493, dtype: int64"
   ]
  },
  {
   "cell_type": "markdown",
   "id": "c00bf252",
   "metadata": {},
   "source": [
    "nombre_infected      1131\n",
    "nombre_sain          2133\n",
    "nombre_exposed        511\n",
    "nombre_recovered    16225\n",
    "Name: 494, dtype: int64"
   ]
  },
  {
   "cell_type": "markdown",
   "id": "c1659105",
   "metadata": {},
   "source": [
    "nombre_infected      1128\n",
    "nombre_sain          2105\n",
    "nombre_exposed        537\n",
    "nombre_recovered    16230\n",
    "Name: 495, dtype: int64"
   ]
  },
  {
   "cell_type": "markdown",
   "id": "10efdfe1",
   "metadata": {},
   "source": [
    "nombre_infected      1101\n",
    "nombre_sain          2109\n",
    "nombre_exposed        546\n",
    "nombre_recovered    16244\n",
    "Name: 496, dtype: int64"
   ]
  },
  {
   "cell_type": "markdown",
   "id": "31873968",
   "metadata": {},
   "source": [
    "nombre_infected      1117\n",
    "nombre_sain          2105\n",
    "nombre_exposed        542\n",
    "nombre_recovered    16236\n",
    "Name: 497, dtype: int64"
   ]
  },
  {
   "cell_type": "markdown",
   "id": "ad13506a",
   "metadata": {},
   "source": [
    "nombre_infected      1141\n",
    "nombre_sain          2104\n",
    "nombre_exposed        523\n",
    "nombre_recovered    16232\n",
    "Name: 498, dtype: int64"
   ]
  },
  {
   "cell_type": "markdown",
   "id": "1d1c578d",
   "metadata": {},
   "source": [
    "nombre_infected      1150\n",
    "nombre_sain          2089\n",
    "nombre_exposed        531\n",
    "nombre_recovered    16230\n",
    "Name: 499, dtype: int64"
   ]
  },
  {
   "cell_type": "markdown",
   "id": "ff5da907",
   "metadata": {},
   "source": [
    "nombre_infected      1141\n",
    "nombre_sain          2040\n",
    "nombre_exposed        550\n",
    "nombre_recovered    16269\n",
    "Name: 500, dtype: int64"
   ]
  },
  {
   "cell_type": "markdown",
   "id": "285ef04e",
   "metadata": {},
   "source": [
    "nombre_infected      1152\n",
    "nombre_sain          2042\n",
    "nombre_exposed        539\n",
    "nombre_recovered    16267\n",
    "Name: 501, dtype: int64"
   ]
  },
  {
   "cell_type": "markdown",
   "id": "e96a6dc6",
   "metadata": {},
   "source": [
    "nombre_infected      1148\n",
    "nombre_sain          2005\n",
    "nombre_exposed        541\n",
    "nombre_recovered    16306\n",
    "Name: 502, dtype: int64"
   ]
  },
  {
   "cell_type": "markdown",
   "id": "230f1355",
   "metadata": {},
   "source": [
    "nombre_infected      1129\n",
    "nombre_sain          2009\n",
    "nombre_exposed        534\n",
    "nombre_recovered    16328\n",
    "Name: 503, dtype: int64"
   ]
  },
  {
   "cell_type": "markdown",
   "id": "dab2e1d8",
   "metadata": {},
   "source": [
    "nombre_infected      1132\n",
    "nombre_sain          1979\n",
    "nombre_exposed        546\n",
    "nombre_recovered    16343\n",
    "Name: 504, dtype: int64"
   ]
  },
  {
   "cell_type": "markdown",
   "id": "12b5e8ea",
   "metadata": {},
   "source": [
    "nombre_infected      1130\n",
    "nombre_sain          1981\n",
    "nombre_exposed        542\n",
    "nombre_recovered    16347\n",
    "Name: 505, dtype: int64"
   ]
  },
  {
   "cell_type": "markdown",
   "id": "37b7fd10",
   "metadata": {},
   "source": [
    "nombre_infected      1126\n",
    "nombre_sain          1966\n",
    "nombre_exposed        531\n",
    "nombre_recovered    16377\n",
    "Name: 506, dtype: int64"
   ]
  },
  {
   "cell_type": "markdown",
   "id": "b1631313",
   "metadata": {},
   "source": [
    "nombre_infected      1138\n",
    "nombre_sain          1957\n",
    "nombre_exposed        524\n",
    "nombre_recovered    16381\n",
    "Name: 507, dtype: int64"
   ]
  },
  {
   "cell_type": "markdown",
   "id": "3d031c66",
   "metadata": {},
   "source": [
    "nombre_infected      1112\n",
    "nombre_sain          1945\n",
    "nombre_exposed        554\n",
    "nombre_recovered    16389\n",
    "Name: 508, dtype: int64"
   ]
  },
  {
   "cell_type": "markdown",
   "id": "fd11daa3",
   "metadata": {},
   "source": [
    "nombre_infected      1091\n",
    "nombre_sain          1986\n",
    "nombre_exposed        521\n",
    "nombre_recovered    16402\n",
    "Name: 509, dtype: int64"
   ]
  },
  {
   "cell_type": "markdown",
   "id": "d9f7d334",
   "metadata": {},
   "source": [
    "nombre_infected      1096\n",
    "nombre_sain          1997\n",
    "nombre_exposed        520\n",
    "nombre_recovered    16387\n",
    "Name: 510, dtype: int64"
   ]
  },
  {
   "cell_type": "markdown",
   "id": "73de4cab",
   "metadata": {},
   "source": [
    "nombre_infected      1081\n",
    "nombre_sain          2017\n",
    "nombre_exposed        522\n",
    "nombre_recovered    16380\n",
    "Name: 511, dtype: int64"
   ]
  },
  {
   "cell_type": "markdown",
   "id": "182211eb",
   "metadata": {},
   "source": [
    "nombre_infected      1073\n",
    "nombre_sain          2034\n",
    "nombre_exposed        515\n",
    "nombre_recovered    16378\n",
    "Name: 512, dtype: int64"
   ]
  },
  {
   "cell_type": "markdown",
   "id": "189a4f85",
   "metadata": {},
   "source": [
    "nombre_infected      1074\n",
    "nombre_sain          2037\n",
    "nombre_exposed        498\n",
    "nombre_recovered    16391\n",
    "Name: 513, dtype: int64"
   ]
  },
  {
   "cell_type": "markdown",
   "id": "9bab3f14",
   "metadata": {},
   "source": [
    "nombre_infected      1079\n",
    "nombre_sain          2035\n",
    "nombre_exposed        503\n",
    "nombre_recovered    16383\n",
    "Name: 514, dtype: int64"
   ]
  },
  {
   "cell_type": "markdown",
   "id": "2f9acc43",
   "metadata": {},
   "source": [
    "nombre_infected      1067\n",
    "nombre_sain          2019\n",
    "nombre_exposed        512\n",
    "nombre_recovered    16402\n",
    "Name: 515, dtype: int64"
   ]
  },
  {
   "cell_type": "markdown",
   "id": "108584cb",
   "metadata": {},
   "source": [
    "nombre_infected      1080\n",
    "nombre_sain          2016\n",
    "nombre_exposed        511\n",
    "nombre_recovered    16393\n",
    "Name: 516, dtype: int64"
   ]
  },
  {
   "cell_type": "markdown",
   "id": "d0455700",
   "metadata": {},
   "source": [
    "nombre_infected      1088\n",
    "nombre_sain          1999\n",
    "nombre_exposed        518\n",
    "nombre_recovered    16395\n",
    "Name: 517, dtype: int64"
   ]
  },
  {
   "cell_type": "markdown",
   "id": "033b29e0",
   "metadata": {},
   "source": [
    "nombre_infected      1069\n",
    "nombre_sain          2039\n",
    "nombre_exposed        488\n",
    "nombre_recovered    16404\n",
    "Name: 518, dtype: int64"
   ]
  },
  {
   "cell_type": "markdown",
   "id": "a41cde3d",
   "metadata": {},
   "source": [
    "nombre_infected      1068\n",
    "nombre_sain          2018\n",
    "nombre_exposed        466\n",
    "nombre_recovered    16448\n",
    "Name: 519, dtype: int64"
   ]
  },
  {
   "cell_type": "markdown",
   "id": "c883c7ea",
   "metadata": {},
   "source": [
    "nombre_infected      1028\n",
    "nombre_sain          2021\n",
    "nombre_exposed        484\n",
    "nombre_recovered    16467\n",
    "Name: 520, dtype: int64"
   ]
  },
  {
   "cell_type": "markdown",
   "id": "e123ab2a",
   "metadata": {},
   "source": [
    "nombre_infected      1015\n",
    "nombre_sain          2044\n",
    "nombre_exposed        473\n",
    "nombre_recovered    16468\n",
    "Name: 521, dtype: int64"
   ]
  },
  {
   "cell_type": "markdown",
   "id": "58ea4c42",
   "metadata": {},
   "source": [
    "nombre_infected      1014\n",
    "nombre_sain          2045\n",
    "nombre_exposed        467\n",
    "nombre_recovered    16474\n",
    "Name: 522, dtype: int64"
   ]
  },
  {
   "cell_type": "markdown",
   "id": "b104398f",
   "metadata": {},
   "source": [
    "nombre_infected      1011\n",
    "nombre_sain          2065\n",
    "nombre_exposed        458\n",
    "nombre_recovered    16466\n",
    "Name: 523, dtype: int64"
   ]
  },
  {
   "cell_type": "markdown",
   "id": "a400440c",
   "metadata": {},
   "source": [
    "nombre_infected       989\n",
    "nombre_sain          2058\n",
    "nombre_exposed        449\n",
    "nombre_recovered    16504\n",
    "Name: 524, dtype: int64"
   ]
  },
  {
   "cell_type": "markdown",
   "id": "44453cb3",
   "metadata": {},
   "source": [
    "nombre_infected       999\n",
    "nombre_sain          2062\n",
    "nombre_exposed        420\n",
    "nombre_recovered    16519\n",
    "Name: 525, dtype: int64"
   ]
  },
  {
   "cell_type": "markdown",
   "id": "de9eb966",
   "metadata": {},
   "source": [
    "nombre_infected      1011\n",
    "nombre_sain          2049\n",
    "nombre_exposed        426\n",
    "nombre_recovered    16514\n",
    "Name: 526, dtype: int64"
   ]
  },
  {
   "cell_type": "markdown",
   "id": "aaaf94de",
   "metadata": {},
   "source": [
    "nombre_infected       973\n",
    "nombre_sain          2059\n",
    "nombre_exposed        437\n",
    "nombre_recovered    16531\n",
    "Name: 527, dtype: int64"
   ]
  },
  {
   "cell_type": "markdown",
   "id": "47e0b4e2",
   "metadata": {},
   "source": [
    "nombre_infected       954\n",
    "nombre_sain          2095\n",
    "nombre_exposed        438\n",
    "nombre_recovered    16513\n",
    "Name: 528, dtype: int64"
   ]
  },
  {
   "cell_type": "markdown",
   "id": "4b3d7bd6",
   "metadata": {},
   "source": [
    "nombre_infected       973\n",
    "nombre_sain          2099\n",
    "nombre_exposed        409\n",
    "nombre_recovered    16519\n",
    "Name: 529, dtype: int64"
   ]
  },
  {
   "cell_type": "markdown",
   "id": "cb6dbe44",
   "metadata": {},
   "source": [
    "nombre_infected       952\n",
    "nombre_sain          2102\n",
    "nombre_exposed        416\n",
    "nombre_recovered    16530\n",
    "Name: 530, dtype: int64"
   ]
  },
  {
   "cell_type": "markdown",
   "id": "23c7fee7",
   "metadata": {},
   "source": [
    "nombre_infected       928\n",
    "nombre_sain          2119\n",
    "nombre_exposed        444\n",
    "nombre_recovered    16509\n",
    "Name: 531, dtype: int64"
   ]
  },
  {
   "cell_type": "markdown",
   "id": "bee5d85a",
   "metadata": {},
   "source": [
    "nombre_infected       930\n",
    "nombre_sain          2117\n",
    "nombre_exposed        461\n",
    "nombre_recovered    16492\n",
    "Name: 532, dtype: int64"
   ]
  },
  {
   "cell_type": "markdown",
   "id": "9ee7c3bb",
   "metadata": {},
   "source": [
    "nombre_infected       939\n",
    "nombre_sain          2111\n",
    "nombre_exposed        463\n",
    "nombre_recovered    16487\n",
    "Name: 533, dtype: int64"
   ]
  },
  {
   "cell_type": "markdown",
   "id": "d0a034d4",
   "metadata": {},
   "source": [
    "nombre_infected       932\n",
    "nombre_sain          2152\n",
    "nombre_exposed        458\n",
    "nombre_recovered    16458\n",
    "Name: 534, dtype: int64"
   ]
  },
  {
   "cell_type": "markdown",
   "id": "08b5b465",
   "metadata": {},
   "source": [
    "nombre_infected       944\n",
    "nombre_sain          2177\n",
    "nombre_exposed        413\n",
    "nombre_recovered    16466\n",
    "Name: 535, dtype: int64"
   ]
  },
  {
   "cell_type": "markdown",
   "id": "8c8bf9fe",
   "metadata": {},
   "source": [
    "nombre_infected       946\n",
    "nombre_sain          2208\n",
    "nombre_exposed        406\n",
    "nombre_recovered    16440\n",
    "Name: 536, dtype: int64"
   ]
  },
  {
   "cell_type": "markdown",
   "id": "cd7edae6",
   "metadata": {},
   "source": [
    "nombre_infected       941\n",
    "nombre_sain          2202\n",
    "nombre_exposed        418\n",
    "nombre_recovered    16439\n",
    "Name: 537, dtype: int64"
   ]
  },
  {
   "cell_type": "markdown",
   "id": "bb7134b3",
   "metadata": {},
   "source": [
    "nombre_infected       938\n",
    "nombre_sain          2240\n",
    "nombre_exposed        424\n",
    "nombre_recovered    16398\n",
    "Name: 538, dtype: int64"
   ]
  },
  {
   "cell_type": "markdown",
   "id": "2f5fd9f7",
   "metadata": {},
   "source": [
    "nombre_infected       941\n",
    "nombre_sain          2264\n",
    "nombre_exposed        440\n",
    "nombre_recovered    16355\n",
    "Name: 539, dtype: int64"
   ]
  },
  {
   "cell_type": "markdown",
   "id": "5ab2c074",
   "metadata": {},
   "source": [
    "nombre_infected       957\n",
    "nombre_sain          2275\n",
    "nombre_exposed        434\n",
    "nombre_recovered    16334\n",
    "Name: 540, dtype: int64"
   ]
  },
  {
   "cell_type": "markdown",
   "id": "7f880292",
   "metadata": {},
   "source": [
    "nombre_infected       986\n",
    "nombre_sain          2286\n",
    "nombre_exposed        431\n",
    "nombre_recovered    16297\n",
    "Name: 541, dtype: int64"
   ]
  },
  {
   "cell_type": "markdown",
   "id": "804a3dd9",
   "metadata": {},
   "source": [
    "nombre_infected       994\n",
    "nombre_sain          2278\n",
    "nombre_exposed        450\n",
    "nombre_recovered    16278\n",
    "Name: 542, dtype: int64"
   ]
  },
  {
   "cell_type": "markdown",
   "id": "be9fe5e6",
   "metadata": {},
   "source": [
    "nombre_infected       961\n",
    "nombre_sain          2267\n",
    "nombre_exposed        504\n",
    "nombre_recovered    16268\n",
    "Name: 543, dtype: int64"
   ]
  },
  {
   "cell_type": "markdown",
   "id": "d0f8c9da",
   "metadata": {},
   "source": [
    "nombre_infected       961\n",
    "nombre_sain          2270\n",
    "nombre_exposed        505\n",
    "nombre_recovered    16264\n",
    "Name: 544, dtype: int64"
   ]
  },
  {
   "cell_type": "markdown",
   "id": "ad49834c",
   "metadata": {},
   "source": [
    "nombre_infected       968\n",
    "nombre_sain          2249\n",
    "nombre_exposed        534\n",
    "nombre_recovered    16249\n",
    "Name: 545, dtype: int64"
   ]
  },
  {
   "cell_type": "markdown",
   "id": "eddd7ece",
   "metadata": {},
   "source": [
    "nombre_infected       993\n",
    "nombre_sain          2247\n",
    "nombre_exposed        529\n",
    "nombre_recovered    16231\n",
    "Name: 546, dtype: int64"
   ]
  },
  {
   "cell_type": "markdown",
   "id": "bedbcd45",
   "metadata": {},
   "source": [
    "nombre_infected      1024\n",
    "nombre_sain          2237\n",
    "nombre_exposed        517\n",
    "nombre_recovered    16222\n",
    "Name: 547, dtype: int64"
   ]
  },
  {
   "cell_type": "markdown",
   "id": "aa3f236f",
   "metadata": {},
   "source": [
    "nombre_infected      1059\n",
    "nombre_sain          2214\n",
    "nombre_exposed        509\n",
    "nombre_recovered    16218\n",
    "Name: 548, dtype: int64"
   ]
  },
  {
   "cell_type": "markdown",
   "id": "de11a3ff",
   "metadata": {},
   "source": [
    "nombre_infected      1080\n",
    "nombre_sain          2180\n",
    "nombre_exposed        513\n",
    "nombre_recovered    16227\n",
    "Name: 549, dtype: int64"
   ]
  },
  {
   "cell_type": "markdown",
   "id": "07d8fd99",
   "metadata": {},
   "source": [
    "nombre_infected      1114\n",
    "nombre_sain          2181\n",
    "nombre_exposed        501\n",
    "nombre_recovered    16204\n",
    "Name: 550, dtype: int64"
   ]
  },
  {
   "cell_type": "markdown",
   "id": "eced5faf",
   "metadata": {},
   "source": [
    "nombre_infected      1105\n",
    "nombre_sain          2156\n",
    "nombre_exposed        528\n",
    "nombre_recovered    16211\n",
    "Name: 551, dtype: int64"
   ]
  },
  {
   "cell_type": "markdown",
   "id": "c43477d7",
   "metadata": {},
   "source": [
    "nombre_infected      1110\n",
    "nombre_sain          2133\n",
    "nombre_exposed        532\n",
    "nombre_recovered    16225\n",
    "Name: 552, dtype: int64"
   ]
  },
  {
   "cell_type": "markdown",
   "id": "a3985f0f",
   "metadata": {},
   "source": [
    "nombre_infected      1115\n",
    "nombre_sain          2110\n",
    "nombre_exposed        538\n",
    "nombre_recovered    16237\n",
    "Name: 553, dtype: int64"
   ]
  },
  {
   "cell_type": "markdown",
   "id": "c12afb21",
   "metadata": {},
   "source": [
    "nombre_infected      1127\n",
    "nombre_sain          2099\n",
    "nombre_exposed        545\n",
    "nombre_recovered    16229\n",
    "Name: 554, dtype: int64"
   ]
  },
  {
   "cell_type": "markdown",
   "id": "e20408c9",
   "metadata": {},
   "source": [
    "nombre_infected      1175\n",
    "nombre_sain          2107\n",
    "nombre_exposed        501\n",
    "nombre_recovered    16217\n",
    "Name: 555, dtype: int64"
   ]
  },
  {
   "cell_type": "markdown",
   "id": "29d53b82",
   "metadata": {},
   "source": [
    "nombre_infected      1216\n",
    "nombre_sain          2062\n",
    "nombre_exposed        503\n",
    "nombre_recovered    16219\n",
    "Name: 556, dtype: int64"
   ]
  },
  {
   "cell_type": "markdown",
   "id": "35cb6691",
   "metadata": {},
   "source": [
    "nombre_infected      1203\n",
    "nombre_sain          2059\n",
    "nombre_exposed        520\n",
    "nombre_recovered    16218\n",
    "Name: 557, dtype: int64"
   ]
  },
  {
   "cell_type": "markdown",
   "id": "a050d03f",
   "metadata": {},
   "source": [
    "nombre_infected      1205\n",
    "nombre_sain          2020\n",
    "nombre_exposed        543\n",
    "nombre_recovered    16232\n",
    "Name: 558, dtype: int64"
   ]
  },
  {
   "cell_type": "markdown",
   "id": "a6a97864",
   "metadata": {},
   "source": [
    "nombre_infected      1219\n",
    "nombre_sain          1997\n",
    "nombre_exposed        530\n",
    "nombre_recovered    16254\n",
    "Name: 559, dtype: int64"
   ]
  },
  {
   "cell_type": "markdown",
   "id": "53518b99",
   "metadata": {},
   "source": [
    "nombre_infected      1233\n",
    "nombre_sain          1976\n",
    "nombre_exposed        522\n",
    "nombre_recovered    16269\n",
    "Name: 560, dtype: int64"
   ]
  },
  {
   "cell_type": "markdown",
   "id": "7e9db5a8",
   "metadata": {},
   "source": [
    "nombre_infected      1227\n",
    "nombre_sain          1978\n",
    "nombre_exposed        518\n",
    "nombre_recovered    16277\n",
    "Name: 561, dtype: int64"
   ]
  },
  {
   "cell_type": "markdown",
   "id": "4be1c06b",
   "metadata": {},
   "source": [
    "nombre_infected      1213\n",
    "nombre_sain          1973\n",
    "nombre_exposed        533\n",
    "nombre_recovered    16281\n",
    "Name: 562, dtype: int64"
   ]
  },
  {
   "cell_type": "markdown",
   "id": "461d1970",
   "metadata": {},
   "source": [
    "nombre_infected      1203\n",
    "nombre_sain          1950\n",
    "nombre_exposed        536\n",
    "nombre_recovered    16311\n",
    "Name: 563, dtype: int64"
   ]
  },
  {
   "cell_type": "markdown",
   "id": "8bf94632",
   "metadata": {},
   "source": [
    "nombre_infected      1218\n",
    "nombre_sain          1913\n",
    "nombre_exposed        557\n",
    "nombre_recovered    16312\n",
    "Name: 564, dtype: int64"
   ]
  },
  {
   "cell_type": "markdown",
   "id": "d4a502bd",
   "metadata": {},
   "source": [
    "nombre_infected      1228\n",
    "nombre_sain          1920\n",
    "nombre_exposed        556\n",
    "nombre_recovered    16296\n",
    "Name: 565, dtype: int64"
   ]
  },
  {
   "cell_type": "markdown",
   "id": "304cadbf",
   "metadata": {},
   "source": [
    "nombre_infected      1253\n",
    "nombre_sain          1889\n",
    "nombre_exposed        543\n",
    "nombre_recovered    16315\n",
    "Name: 566, dtype: int64"
   ]
  },
  {
   "cell_type": "markdown",
   "id": "a290dc64",
   "metadata": {},
   "source": [
    "nombre_infected      1270\n",
    "nombre_sain          1903\n",
    "nombre_exposed        540\n",
    "nombre_recovered    16287\n",
    "Name: 567, dtype: int64"
   ]
  },
  {
   "cell_type": "markdown",
   "id": "eed7e51c",
   "metadata": {},
   "source": [
    "nombre_infected      1273\n",
    "nombre_sain          1888\n",
    "nombre_exposed        521\n",
    "nombre_recovered    16318\n",
    "Name: 568, dtype: int64"
   ]
  },
  {
   "cell_type": "markdown",
   "id": "3ff7119a",
   "metadata": {},
   "source": [
    "nombre_infected      1262\n",
    "nombre_sain          1874\n",
    "nombre_exposed        540\n",
    "nombre_recovered    16324\n",
    "Name: 569, dtype: int64"
   ]
  },
  {
   "cell_type": "markdown",
   "id": "469f1703",
   "metadata": {},
   "source": [
    "nombre_infected      1243\n",
    "nombre_sain          1899\n",
    "nombre_exposed        530\n",
    "nombre_recovered    16328\n",
    "Name: 570, dtype: int64"
   ]
  },
  {
   "cell_type": "markdown",
   "id": "459ae63b",
   "metadata": {},
   "source": [
    "nombre_infected      1220\n",
    "nombre_sain          1895\n",
    "nombre_exposed        529\n",
    "nombre_recovered    16356\n",
    "Name: 571, dtype: int64"
   ]
  },
  {
   "cell_type": "markdown",
   "id": "f0f6028c",
   "metadata": {},
   "source": [
    "nombre_infected      1196\n",
    "nombre_sain          1881\n",
    "nombre_exposed        526\n",
    "nombre_recovered    16397\n",
    "Name: 572, dtype: int64"
   ]
  },
  {
   "cell_type": "markdown",
   "id": "93a26620",
   "metadata": {},
   "source": [
    "nombre_infected      1222\n",
    "nombre_sain          1857\n",
    "nombre_exposed        513\n",
    "nombre_recovered    16408\n",
    "Name: 573, dtype: int64"
   ]
  },
  {
   "cell_type": "markdown",
   "id": "572bfd2c",
   "metadata": {},
   "source": [
    "nombre_infected      1229\n",
    "nombre_sain          1860\n",
    "nombre_exposed        519\n",
    "nombre_recovered    16392\n",
    "Name: 574, dtype: int64"
   ]
  },
  {
   "cell_type": "markdown",
   "id": "f4f2e15c",
   "metadata": {},
   "source": [
    "nombre_infected      1210\n",
    "nombre_sain          1843\n",
    "nombre_exposed        512\n",
    "nombre_recovered    16435\n",
    "Name: 575, dtype: int64"
   ]
  },
  {
   "cell_type": "markdown",
   "id": "9a8430c4",
   "metadata": {},
   "source": [
    "nombre_infected      1228\n",
    "nombre_sain          1836\n",
    "nombre_exposed        496\n",
    "nombre_recovered    16440\n",
    "Name: 576, dtype: int64"
   ]
  },
  {
   "cell_type": "markdown",
   "id": "80adece8",
   "metadata": {},
   "source": [
    "nombre_infected      1231\n",
    "nombre_sain          1820\n",
    "nombre_exposed        478\n",
    "nombre_recovered    16471\n",
    "Name: 577, dtype: int64"
   ]
  },
  {
   "cell_type": "markdown",
   "id": "414fcbc5",
   "metadata": {},
   "source": [
    "nombre_infected      1209\n",
    "nombre_sain          1811\n",
    "nombre_exposed        475\n",
    "nombre_recovered    16505\n",
    "Name: 578, dtype: int64"
   ]
  },
  {
   "cell_type": "markdown",
   "id": "85d28054",
   "metadata": {},
   "source": [
    "nombre_infected      1170\n",
    "nombre_sain          1834\n",
    "nombre_exposed        471\n",
    "nombre_recovered    16525\n",
    "Name: 579, dtype: int64"
   ]
  },
  {
   "cell_type": "markdown",
   "id": "d7c405b8",
   "metadata": {},
   "source": [
    "nombre_infected      1152\n",
    "nombre_sain          1827\n",
    "nombre_exposed        470\n",
    "nombre_recovered    16551\n",
    "Name: 580, dtype: int64"
   ]
  },
  {
   "cell_type": "markdown",
   "id": "e0d09f92",
   "metadata": {},
   "source": [
    "nombre_infected      1144\n",
    "nombre_sain          1829\n",
    "nombre_exposed        472\n",
    "nombre_recovered    16555\n",
    "Name: 581, dtype: int64"
   ]
  },
  {
   "cell_type": "markdown",
   "id": "ecd55309",
   "metadata": {},
   "source": [
    "nombre_infected      1134\n",
    "nombre_sain          1820\n",
    "nombre_exposed        452\n",
    "nombre_recovered    16594\n",
    "Name: 582, dtype: int64"
   ]
  },
  {
   "cell_type": "markdown",
   "id": "d5dbaf92",
   "metadata": {},
   "source": [
    "nombre_infected      1131\n",
    "nombre_sain          1829\n",
    "nombre_exposed        448\n",
    "nombre_recovered    16592\n",
    "Name: 583, dtype: int64"
   ]
  },
  {
   "cell_type": "markdown",
   "id": "ae9a5cf7",
   "metadata": {},
   "source": [
    "nombre_infected      1110\n",
    "nombre_sain          1811\n",
    "nombre_exposed        461\n",
    "nombre_recovered    16618\n",
    "Name: 584, dtype: int64"
   ]
  },
  {
   "cell_type": "markdown",
   "id": "970758c1",
   "metadata": {},
   "source": [
    "nombre_infected      1086\n",
    "nombre_sain          1821\n",
    "nombre_exposed        470\n",
    "nombre_recovered    16623\n",
    "Name: 585, dtype: int64"
   ]
  },
  {
   "cell_type": "markdown",
   "id": "3d85df06",
   "metadata": {},
   "source": [
    "nombre_infected      1066\n",
    "nombre_sain          1816\n",
    "nombre_exposed        462\n",
    "nombre_recovered    16656\n",
    "Name: 586, dtype: int64"
   ]
  },
  {
   "cell_type": "markdown",
   "id": "cf25471e",
   "metadata": {},
   "source": [
    "nombre_infected      1046\n",
    "nombre_sain          1842\n",
    "nombre_exposed        456\n",
    "nombre_recovered    16656\n",
    "Name: 587, dtype: int64"
   ]
  },
  {
   "cell_type": "markdown",
   "id": "981f0f45",
   "metadata": {},
   "source": [
    "nombre_infected      1041\n",
    "nombre_sain          1851\n",
    "nombre_exposed        453\n",
    "nombre_recovered    16655\n",
    "Name: 588, dtype: int64"
   ]
  },
  {
   "cell_type": "markdown",
   "id": "f350d08d",
   "metadata": {},
   "source": [
    "nombre_infected      1012\n",
    "nombre_sain          1863\n",
    "nombre_exposed        455\n",
    "nombre_recovered    16670\n",
    "Name: 589, dtype: int64"
   ]
  },
  {
   "cell_type": "markdown",
   "id": "4233e506",
   "metadata": {},
   "source": [
    "nombre_infected      1025\n",
    "nombre_sain          1906\n",
    "nombre_exposed        433\n",
    "nombre_recovered    16636\n",
    "Name: 590, dtype: int64"
   ]
  },
  {
   "cell_type": "markdown",
   "id": "4794e2c2",
   "metadata": {},
   "source": [
    "nombre_infected      1019\n",
    "nombre_sain          1901\n",
    "nombre_exposed        422\n",
    "nombre_recovered    16658\n",
    "Name: 591, dtype: int64"
   ]
  },
  {
   "cell_type": "markdown",
   "id": "1b114d46",
   "metadata": {},
   "source": [
    "nombre_infected       985\n",
    "nombre_sain          1914\n",
    "nombre_exposed        422\n",
    "nombre_recovered    16679\n",
    "Name: 592, dtype: int64"
   ]
  },
  {
   "cell_type": "markdown",
   "id": "54ecd9d8",
   "metadata": {},
   "source": [
    "nombre_infected       956\n",
    "nombre_sain          1916\n",
    "nombre_exposed        448\n",
    "nombre_recovered    16680\n",
    "Name: 593, dtype: int64"
   ]
  },
  {
   "cell_type": "markdown",
   "id": "095d4cc3",
   "metadata": {},
   "source": [
    "nombre_infected       962\n",
    "nombre_sain          1938\n",
    "nombre_exposed        440\n",
    "nombre_recovered    16660\n",
    "Name: 594, dtype: int64"
   ]
  },
  {
   "cell_type": "markdown",
   "id": "30ce2737",
   "metadata": {},
   "source": [
    "nombre_infected       963\n",
    "nombre_sain          1957\n",
    "nombre_exposed        435\n",
    "nombre_recovered    16645\n",
    "Name: 595, dtype: int64"
   ]
  },
  {
   "cell_type": "markdown",
   "id": "f4c4ef95",
   "metadata": {},
   "source": [
    "nombre_infected       947\n",
    "nombre_sain          1966\n",
    "nombre_exposed        442\n",
    "nombre_recovered    16645\n",
    "Name: 596, dtype: int64"
   ]
  },
  {
   "cell_type": "markdown",
   "id": "e7e22997",
   "metadata": {},
   "source": [
    "nombre_infected       954\n",
    "nombre_sain          1982\n",
    "nombre_exposed        416\n",
    "nombre_recovered    16648\n",
    "Name: 597, dtype: int64"
   ]
  },
  {
   "cell_type": "markdown",
   "id": "e43ca818",
   "metadata": {},
   "source": [
    "nombre_infected       944\n",
    "nombre_sain          2017\n",
    "nombre_exposed        419\n",
    "nombre_recovered    16620\n",
    "Name: 598, dtype: int64"
   ]
  },
  {
   "cell_type": "markdown",
   "id": "0a302abe",
   "metadata": {},
   "source": [
    "nombre_infected       926\n",
    "nombre_sain          2026\n",
    "nombre_exposed        427\n",
    "nombre_recovered    16621\n",
    "Name: 599, dtype: int64"
   ]
  },
  {
   "cell_type": "markdown",
   "id": "6522cf97",
   "metadata": {},
   "source": [
    "nombre_infected       923\n",
    "nombre_sain          2059\n",
    "nombre_exposed        422\n",
    "nombre_recovered    16596\n",
    "Name: 600, dtype: int64"
   ]
  },
  {
   "cell_type": "markdown",
   "id": "b92e14dd",
   "metadata": {},
   "source": [
    "nombre_infected       923\n",
    "nombre_sain          2073\n",
    "nombre_exposed        440\n",
    "nombre_recovered    16564\n",
    "Name: 601, dtype: int64"
   ]
  },
  {
   "cell_type": "markdown",
   "id": "5e64a04a",
   "metadata": {},
   "source": [
    "nombre_infected       913\n",
    "nombre_sain          2076\n",
    "nombre_exposed        465\n",
    "nombre_recovered    16546\n",
    "Name: 602, dtype: int64"
   ]
  },
  {
   "cell_type": "markdown",
   "id": "47fde8ca",
   "metadata": {},
   "source": [
    "nombre_infected       938\n",
    "nombre_sain          2077\n",
    "nombre_exposed        484\n",
    "nombre_recovered    16501\n",
    "Name: 603, dtype: int64"
   ]
  },
  {
   "cell_type": "markdown",
   "id": "46e64319",
   "metadata": {},
   "source": [
    "nombre_infected       933\n",
    "nombre_sain          2076\n",
    "nombre_exposed        502\n",
    "nombre_recovered    16489\n",
    "Name: 604, dtype: int64"
   ]
  },
  {
   "cell_type": "markdown",
   "id": "55440c36",
   "metadata": {},
   "source": [
    "nombre_infected       937\n",
    "nombre_sain          2080\n",
    "nombre_exposed        497\n",
    "nombre_recovered    16486\n",
    "Name: 605, dtype: int64"
   ]
  },
  {
   "cell_type": "markdown",
   "id": "f793183d",
   "metadata": {},
   "source": [
    "nombre_infected       952\n",
    "nombre_sain          2047\n",
    "nombre_exposed        503\n",
    "nombre_recovered    16498\n",
    "Name: 606, dtype: int64"
   ]
  },
  {
   "cell_type": "markdown",
   "id": "6b47f339",
   "metadata": {},
   "source": [
    "nombre_infected       973\n",
    "nombre_sain          2045\n",
    "nombre_exposed        505\n",
    "nombre_recovered    16477\n",
    "Name: 607, dtype: int64"
   ]
  },
  {
   "cell_type": "markdown",
   "id": "df311ffb",
   "metadata": {},
   "source": [
    "nombre_infected       989\n",
    "nombre_sain          2046\n",
    "nombre_exposed        495\n",
    "nombre_recovered    16470\n",
    "Name: 608, dtype: int64"
   ]
  },
  {
   "cell_type": "markdown",
   "id": "35f190e8",
   "metadata": {},
   "source": [
    "nombre_infected      1010\n",
    "nombre_sain          2054\n",
    "nombre_exposed        469\n",
    "nombre_recovered    16467\n",
    "Name: 609, dtype: int64"
   ]
  },
  {
   "cell_type": "markdown",
   "id": "7cb310dd",
   "metadata": {},
   "source": [
    "nombre_infected      1026\n",
    "nombre_sain          2067\n",
    "nombre_exposed        463\n",
    "nombre_recovered    16444\n",
    "Name: 610, dtype: int64"
   ]
  },
  {
   "cell_type": "markdown",
   "id": "f2e71f88",
   "metadata": {},
   "source": [
    "nombre_infected      1019\n",
    "nombre_sain          2073\n",
    "nombre_exposed        459\n",
    "nombre_recovered    16449\n",
    "Name: 611, dtype: int64"
   ]
  },
  {
   "cell_type": "markdown",
   "id": "e3bef8dc",
   "metadata": {},
   "source": [
    "nombre_infected      1030\n",
    "nombre_sain          2077\n",
    "nombre_exposed        448\n",
    "nombre_recovered    16445\n",
    "Name: 612, dtype: int64"
   ]
  },
  {
   "cell_type": "markdown",
   "id": "18236585",
   "metadata": {},
   "source": [
    "nombre_infected      1022\n",
    "nombre_sain          2071\n",
    "nombre_exposed        448\n",
    "nombre_recovered    16459\n",
    "Name: 613, dtype: int64"
   ]
  },
  {
   "cell_type": "markdown",
   "id": "a8c0cc0a",
   "metadata": {},
   "source": [
    "nombre_infected      1016\n",
    "nombre_sain          2088\n",
    "nombre_exposed        443\n",
    "nombre_recovered    16453\n",
    "Name: 614, dtype: int64"
   ]
  },
  {
   "cell_type": "markdown",
   "id": "a912325d",
   "metadata": {},
   "source": [
    "nombre_infected      1010\n",
    "nombre_sain          2060\n",
    "nombre_exposed        470\n",
    "nombre_recovered    16460\n",
    "Name: 615, dtype: int64"
   ]
  },
  {
   "cell_type": "markdown",
   "id": "5161f3b6",
   "metadata": {},
   "source": [
    "nombre_infected      1001\n",
    "nombre_sain          2065\n",
    "nombre_exposed        476\n",
    "nombre_recovered    16458\n",
    "Name: 616, dtype: int64"
   ]
  },
  {
   "cell_type": "markdown",
   "id": "9964ea01",
   "metadata": {},
   "source": [
    "nombre_infected       965\n",
    "nombre_sain          2037\n",
    "nombre_exposed        495\n",
    "nombre_recovered    16503\n",
    "Name: 617, dtype: int64"
   ]
  },
  {
   "cell_type": "markdown",
   "id": "78aff08f",
   "metadata": {},
   "source": [
    "nombre_infected       975\n",
    "nombre_sain          2058\n",
    "nombre_exposed        467\n",
    "nombre_recovered    16500\n",
    "Name: 618, dtype: int64"
   ]
  },
  {
   "cell_type": "markdown",
   "id": "b13e9d8b",
   "metadata": {},
   "source": [
    "nombre_infected       994\n",
    "nombre_sain          2060\n",
    "nombre_exposed        459\n",
    "nombre_recovered    16487\n",
    "Name: 619, dtype: int64"
   ]
  },
  {
   "cell_type": "markdown",
   "id": "63c267f5",
   "metadata": {},
   "source": [
    "nombre_infected      1005\n",
    "nombre_sain          2065\n",
    "nombre_exposed        454\n",
    "nombre_recovered    16476\n",
    "Name: 620, dtype: int64"
   ]
  },
  {
   "cell_type": "markdown",
   "id": "18fea5ab",
   "metadata": {},
   "source": [
    "nombre_infected       980\n",
    "nombre_sain          2074\n",
    "nombre_exposed        456\n",
    "nombre_recovered    16490\n",
    "Name: 621, dtype: int64"
   ]
  },
  {
   "cell_type": "markdown",
   "id": "b0472a35",
   "metadata": {},
   "source": [
    "nombre_infected       967\n",
    "nombre_sain          2074\n",
    "nombre_exposed        453\n",
    "nombre_recovered    16506\n",
    "Name: 622, dtype: int64"
   ]
  },
  {
   "cell_type": "markdown",
   "id": "f7388ae6",
   "metadata": {},
   "source": [
    "nombre_infected       974\n",
    "nombre_sain          2091\n",
    "nombre_exposed        431\n",
    "nombre_recovered    16504\n",
    "Name: 623, dtype: int64"
   ]
  },
  {
   "cell_type": "markdown",
   "id": "7cfdf57a",
   "metadata": {},
   "source": [
    "nombre_infected       968\n",
    "nombre_sain          2085\n",
    "nombre_exposed        440\n",
    "nombre_recovered    16507\n",
    "Name: 624, dtype: int64"
   ]
  },
  {
   "cell_type": "markdown",
   "id": "150f6f1e",
   "metadata": {},
   "source": [
    "nombre_infected       945\n",
    "nombre_sain          2095\n",
    "nombre_exposed        442\n",
    "nombre_recovered    16518\n",
    "Name: 625, dtype: int64"
   ]
  },
  {
   "cell_type": "markdown",
   "id": "027bb2ee",
   "metadata": {},
   "source": [
    "nombre_infected       927\n",
    "nombre_sain          2108\n",
    "nombre_exposed        441\n",
    "nombre_recovered    16524\n",
    "Name: 626, dtype: int64"
   ]
  },
  {
   "cell_type": "markdown",
   "id": "49931f72",
   "metadata": {},
   "source": [
    "nombre_infected       928\n",
    "nombre_sain          2106\n",
    "nombre_exposed        436\n",
    "nombre_recovered    16530\n",
    "Name: 627, dtype: int64"
   ]
  },
  {
   "cell_type": "markdown",
   "id": "726dad69",
   "metadata": {},
   "source": [
    "nombre_infected       941\n",
    "nombre_sain          2115\n",
    "nombre_exposed        447\n",
    "nombre_recovered    16497\n",
    "Name: 628, dtype: int64"
   ]
  },
  {
   "cell_type": "markdown",
   "id": "797cca06",
   "metadata": {},
   "source": [
    "nombre_infected       923\n",
    "nombre_sain          2117\n",
    "nombre_exposed        445\n",
    "nombre_recovered    16515\n",
    "Name: 629, dtype: int64"
   ]
  },
  {
   "cell_type": "markdown",
   "id": "dd09af5f",
   "metadata": {},
   "source": [
    "nombre_infected       901\n",
    "nombre_sain          2145\n",
    "nombre_exposed        433\n",
    "nombre_recovered    16521\n",
    "Name: 630, dtype: int64"
   ]
  },
  {
   "cell_type": "markdown",
   "id": "991ee749",
   "metadata": {},
   "source": [
    "nombre_infected       913\n",
    "nombre_sain          2183\n",
    "nombre_exposed        414\n",
    "nombre_recovered    16490\n",
    "Name: 631, dtype: int64"
   ]
  },
  {
   "cell_type": "markdown",
   "id": "c8ce1f66",
   "metadata": {},
   "source": [
    "nombre_infected       904\n",
    "nombre_sain          2196\n",
    "nombre_exposed        410\n",
    "nombre_recovered    16490\n",
    "Name: 632, dtype: int64"
   ]
  },
  {
   "cell_type": "markdown",
   "id": "525dae43",
   "metadata": {},
   "source": [
    "nombre_infected       877\n",
    "nombre_sain          2222\n",
    "nombre_exposed        404\n",
    "nombre_recovered    16497\n",
    "Name: 633, dtype: int64"
   ]
  },
  {
   "cell_type": "markdown",
   "id": "f6308a35",
   "metadata": {},
   "source": [
    "nombre_infected       887\n",
    "nombre_sain          2239\n",
    "nombre_exposed        411\n",
    "nombre_recovered    16463\n",
    "Name: 634, dtype: int64"
   ]
  },
  {
   "cell_type": "markdown",
   "id": "55909517",
   "metadata": {},
   "source": [
    "nombre_infected       892\n",
    "nombre_sain          2258\n",
    "nombre_exposed        408\n",
    "nombre_recovered    16442\n",
    "Name: 635, dtype: int64"
   ]
  },
  {
   "cell_type": "markdown",
   "id": "bd4838d3",
   "metadata": {},
   "source": [
    "nombre_infected       855\n",
    "nombre_sain          2288\n",
    "nombre_exposed        425\n",
    "nombre_recovered    16432\n",
    "Name: 636, dtype: int64"
   ]
  },
  {
   "cell_type": "markdown",
   "id": "c014e173",
   "metadata": {},
   "source": [
    "nombre_infected       882\n",
    "nombre_sain          2271\n",
    "nombre_exposed        431\n",
    "nombre_recovered    16416\n",
    "Name: 637, dtype: int64"
   ]
  },
  {
   "cell_type": "markdown",
   "id": "f536a45a",
   "metadata": {},
   "source": [
    "nombre_infected       897\n",
    "nombre_sain          2310\n",
    "nombre_exposed        427\n",
    "nombre_recovered    16366\n",
    "Name: 638, dtype: int64"
   ]
  },
  {
   "cell_type": "markdown",
   "id": "09e60c47",
   "metadata": {},
   "source": [
    "nombre_infected       901\n",
    "nombre_sain          2299\n",
    "nombre_exposed        431\n",
    "nombre_recovered    16369\n",
    "Name: 639, dtype: int64"
   ]
  },
  {
   "cell_type": "markdown",
   "id": "76c873a7",
   "metadata": {},
   "source": [
    "nombre_infected       891\n",
    "nombre_sain          2285\n",
    "nombre_exposed        444\n",
    "nombre_recovered    16380\n",
    "Name: 640, dtype: int64"
   ]
  },
  {
   "cell_type": "markdown",
   "id": "cd90f67b",
   "metadata": {},
   "source": [
    "nombre_infected       908\n",
    "nombre_sain          2270\n",
    "nombre_exposed        454\n",
    "nombre_recovered    16368\n",
    "Name: 641, dtype: int64"
   ]
  },
  {
   "cell_type": "markdown",
   "id": "7a2cc6b4",
   "metadata": {},
   "source": [
    "nombre_infected       894\n",
    "nombre_sain          2264\n",
    "nombre_exposed        466\n",
    "nombre_recovered    16376\n",
    "Name: 642, dtype: int64"
   ]
  },
  {
   "cell_type": "markdown",
   "id": "b91ee89e",
   "metadata": {},
   "source": [
    "nombre_infected       908\n",
    "nombre_sain          2285\n",
    "nombre_exposed        440\n",
    "nombre_recovered    16367\n",
    "Name: 643, dtype: int64"
   ]
  },
  {
   "cell_type": "markdown",
   "id": "9097a732",
   "metadata": {},
   "source": [
    "nombre_infected       905\n",
    "nombre_sain          2260\n",
    "nombre_exposed        445\n",
    "nombre_recovered    16390\n",
    "Name: 644, dtype: int64"
   ]
  },
  {
   "cell_type": "markdown",
   "id": "ad6b14e9",
   "metadata": {},
   "source": [
    "nombre_infected       910\n",
    "nombre_sain          2264\n",
    "nombre_exposed        459\n",
    "nombre_recovered    16367\n",
    "Name: 645, dtype: int64"
   ]
  },
  {
   "cell_type": "markdown",
   "id": "05c2fbaa",
   "metadata": {},
   "source": [
    "nombre_infected       923\n",
    "nombre_sain          2264\n",
    "nombre_exposed        463\n",
    "nombre_recovered    16350\n",
    "Name: 646, dtype: int64"
   ]
  },
  {
   "cell_type": "markdown",
   "id": "ca8824ea",
   "metadata": {},
   "source": [
    "nombre_infected       931\n",
    "nombre_sain          2266\n",
    "nombre_exposed        477\n",
    "nombre_recovered    16326\n",
    "Name: 647, dtype: int64"
   ]
  },
  {
   "cell_type": "markdown",
   "id": "6177f900",
   "metadata": {},
   "source": [
    "nombre_infected       928\n",
    "nombre_sain          2239\n",
    "nombre_exposed        492\n",
    "nombre_recovered    16341\n",
    "Name: 648, dtype: int64"
   ]
  },
  {
   "cell_type": "markdown",
   "id": "16c339f9",
   "metadata": {},
   "source": [
    "nombre_infected       928\n",
    "nombre_sain          2228\n",
    "nombre_exposed        500\n",
    "nombre_recovered    16344\n",
    "Name: 649, dtype: int64"
   ]
  },
  {
   "cell_type": "markdown",
   "id": "b79a0a79",
   "metadata": {},
   "source": [
    "nombre_infected       922\n",
    "nombre_sain          2225\n",
    "nombre_exposed        499\n",
    "nombre_recovered    16354\n",
    "Name: 650, dtype: int64"
   ]
  },
  {
   "cell_type": "markdown",
   "id": "4dd971c8",
   "metadata": {},
   "source": [
    "nombre_infected       928\n",
    "nombre_sain          2220\n",
    "nombre_exposed        488\n",
    "nombre_recovered    16364\n",
    "Name: 651, dtype: int64"
   ]
  },
  {
   "cell_type": "markdown",
   "id": "21552721",
   "metadata": {},
   "source": [
    "nombre_infected       927\n",
    "nombre_sain          2204\n",
    "nombre_exposed        483\n",
    "nombre_recovered    16386\n",
    "Name: 652, dtype: int64"
   ]
  },
  {
   "cell_type": "markdown",
   "id": "3b66bfea",
   "metadata": {},
   "source": [
    "nombre_infected       911\n",
    "nombre_sain          2201\n",
    "nombre_exposed        481\n",
    "nombre_recovered    16407\n",
    "Name: 653, dtype: int64"
   ]
  },
  {
   "cell_type": "markdown",
   "id": "10be29f1",
   "metadata": {},
   "source": [
    "nombre_infected       916\n",
    "nombre_sain          2208\n",
    "nombre_exposed        485\n",
    "nombre_recovered    16391\n",
    "Name: 654, dtype: int64"
   ]
  },
  {
   "cell_type": "markdown",
   "id": "dc3a7d5e",
   "metadata": {},
   "source": [
    "nombre_infected       914\n",
    "nombre_sain          2184\n",
    "nombre_exposed        492\n",
    "nombre_recovered    16410\n",
    "Name: 655, dtype: int64"
   ]
  },
  {
   "cell_type": "markdown",
   "id": "04720156",
   "metadata": {},
   "source": [
    "nombre_infected       912\n",
    "nombre_sain          2197\n",
    "nombre_exposed        477\n",
    "nombre_recovered    16414\n",
    "Name: 656, dtype: int64"
   ]
  },
  {
   "cell_type": "markdown",
   "id": "0b241c27",
   "metadata": {},
   "source": [
    "nombre_infected       929\n",
    "nombre_sain          2195\n",
    "nombre_exposed        463\n",
    "nombre_recovered    16413\n",
    "Name: 657, dtype: int64"
   ]
  },
  {
   "cell_type": "markdown",
   "id": "06da8573",
   "metadata": {},
   "source": [
    "nombre_infected       909\n",
    "nombre_sain          2155\n",
    "nombre_exposed        498\n",
    "nombre_recovered    16438\n",
    "Name: 658, dtype: int64"
   ]
  },
  {
   "cell_type": "markdown",
   "id": "5f329ff0",
   "metadata": {},
   "source": [
    "nombre_infected       925\n",
    "nombre_sain          2135\n",
    "nombre_exposed        497\n",
    "nombre_recovered    16443\n",
    "Name: 659, dtype: int64"
   ]
  },
  {
   "cell_type": "markdown",
   "id": "ca9a201e",
   "metadata": {},
   "source": [
    "nombre_infected       937\n",
    "nombre_sain          2093\n",
    "nombre_exposed        496\n",
    "nombre_recovered    16474\n",
    "Name: 660, dtype: int64"
   ]
  },
  {
   "cell_type": "markdown",
   "id": "8f2695a8",
   "metadata": {},
   "source": [
    "nombre_infected       938\n",
    "nombre_sain          2083\n",
    "nombre_exposed        477\n",
    "nombre_recovered    16502\n",
    "Name: 661, dtype: int64"
   ]
  },
  {
   "cell_type": "markdown",
   "id": "15df17b7",
   "metadata": {},
   "source": [
    "nombre_infected       943\n",
    "nombre_sain          2087\n",
    "nombre_exposed        457\n",
    "nombre_recovered    16513\n",
    "Name: 662, dtype: int64"
   ]
  },
  {
   "cell_type": "markdown",
   "id": "0507aef9",
   "metadata": {},
   "source": [
    "nombre_infected       936\n",
    "nombre_sain          2109\n",
    "nombre_exposed        432\n",
    "nombre_recovered    16523\n",
    "Name: 663, dtype: int64"
   ]
  },
  {
   "cell_type": "markdown",
   "id": "7cc04a2a",
   "metadata": {},
   "source": [
    "nombre_infected       927\n",
    "nombre_sain          2082\n",
    "nombre_exposed        462\n",
    "nombre_recovered    16529\n",
    "Name: 664, dtype: int64"
   ]
  },
  {
   "cell_type": "markdown",
   "id": "4ad886f0",
   "metadata": {},
   "source": [
    "nombre_infected       902\n",
    "nombre_sain          2082\n",
    "nombre_exposed        441\n",
    "nombre_recovered    16575\n",
    "Name: 665, dtype: int64"
   ]
  },
  {
   "cell_type": "markdown",
   "id": "0d6402f3",
   "metadata": {},
   "source": [
    "nombre_infected       894\n",
    "nombre_sain          2070\n",
    "nombre_exposed        433\n",
    "nombre_recovered    16603\n",
    "Name: 666, dtype: int64"
   ]
  },
  {
   "cell_type": "markdown",
   "id": "a6413c40",
   "metadata": {},
   "source": [
    "nombre_infected       913\n",
    "nombre_sain          2082\n",
    "nombre_exposed        400\n",
    "nombre_recovered    16605\n",
    "Name: 667, dtype: int64"
   ]
  },
  {
   "cell_type": "markdown",
   "id": "31b708fd",
   "metadata": {},
   "source": [
    "nombre_infected       909\n",
    "nombre_sain          2069\n",
    "nombre_exposed        417\n",
    "nombre_recovered    16605\n",
    "Name: 668, dtype: int64"
   ]
  },
  {
   "cell_type": "markdown",
   "id": "d8fbd6c3",
   "metadata": {},
   "source": [
    "nombre_infected       891\n",
    "nombre_sain          2072\n",
    "nombre_exposed        436\n",
    "nombre_recovered    16601\n",
    "Name: 669, dtype: int64"
   ]
  },
  {
   "cell_type": "markdown",
   "id": "19a16d29",
   "metadata": {},
   "source": [
    "nombre_infected       874\n",
    "nombre_sain          2084\n",
    "nombre_exposed        435\n",
    "nombre_recovered    16607\n",
    "Name: 670, dtype: int64"
   ]
  },
  {
   "cell_type": "markdown",
   "id": "cf36bcb9",
   "metadata": {},
   "source": [
    "nombre_infected       878\n",
    "nombre_sain          2105\n",
    "nombre_exposed        394\n",
    "nombre_recovered    16623\n",
    "Name: 671, dtype: int64"
   ]
  },
  {
   "cell_type": "markdown",
   "id": "e1f80213",
   "metadata": {},
   "source": [
    "nombre_infected       894\n",
    "nombre_sain          2104\n",
    "nombre_exposed        375\n",
    "nombre_recovered    16627\n",
    "Name: 672, dtype: int64"
   ]
  },
  {
   "cell_type": "markdown",
   "id": "4167a686",
   "metadata": {},
   "source": [
    "nombre_infected       878\n",
    "nombre_sain          2106\n",
    "nombre_exposed        402\n",
    "nombre_recovered    16614\n",
    "Name: 673, dtype: int64"
   ]
  },
  {
   "cell_type": "markdown",
   "id": "7be1576e",
   "metadata": {},
   "source": [
    "nombre_infected       871\n",
    "nombre_sain          2066\n",
    "nombre_exposed        397\n",
    "nombre_recovered    16666\n",
    "Name: 674, dtype: int64"
   ]
  },
  {
   "cell_type": "markdown",
   "id": "4e225fcb",
   "metadata": {},
   "source": [
    "nombre_infected       872\n",
    "nombre_sain          2080\n",
    "nombre_exposed        386\n",
    "nombre_recovered    16662\n",
    "Name: 675, dtype: int64"
   ]
  },
  {
   "cell_type": "markdown",
   "id": "8af134be",
   "metadata": {},
   "source": [
    "nombre_infected       851\n",
    "nombre_sain          2089\n",
    "nombre_exposed        405\n",
    "nombre_recovered    16655\n",
    "Name: 676, dtype: int64"
   ]
  },
  {
   "cell_type": "markdown",
   "id": "aee7bbbe",
   "metadata": {},
   "source": [
    "nombre_infected       839\n",
    "nombre_sain          2094\n",
    "nombre_exposed        406\n",
    "nombre_recovered    16661\n",
    "Name: 677, dtype: int64"
   ]
  },
  {
   "cell_type": "markdown",
   "id": "538d5020",
   "metadata": {},
   "source": [
    "nombre_infected       833\n",
    "nombre_sain          2098\n",
    "nombre_exposed        415\n",
    "nombre_recovered    16654\n",
    "Name: 678, dtype: int64"
   ]
  },
  {
   "cell_type": "markdown",
   "id": "1cddf565",
   "metadata": {},
   "source": [
    "nombre_infected       854\n",
    "nombre_sain          2098\n",
    "nombre_exposed        399\n",
    "nombre_recovered    16649\n",
    "Name: 679, dtype: int64"
   ]
  },
  {
   "cell_type": "markdown",
   "id": "ccd16e0a",
   "metadata": {},
   "source": [
    "nombre_infected       860\n",
    "nombre_sain          2119\n",
    "nombre_exposed        380\n",
    "nombre_recovered    16641\n",
    "Name: 680, dtype: int64"
   ]
  },
  {
   "cell_type": "markdown",
   "id": "fe4f70d3",
   "metadata": {},
   "source": [
    "nombre_infected       849\n",
    "nombre_sain          2130\n",
    "nombre_exposed        390\n",
    "nombre_recovered    16631\n",
    "Name: 681, dtype: int64"
   ]
  },
  {
   "cell_type": "markdown",
   "id": "8f50c67b",
   "metadata": {},
   "source": [
    "nombre_infected       849\n",
    "nombre_sain          2145\n",
    "nombre_exposed        379\n",
    "nombre_recovered    16627\n",
    "Name: 682, dtype: int64"
   ]
  },
  {
   "cell_type": "markdown",
   "id": "46f0f543",
   "metadata": {},
   "source": [
    "nombre_infected       851\n",
    "nombre_sain          2162\n",
    "nombre_exposed        378\n",
    "nombre_recovered    16609\n",
    "Name: 683, dtype: int64"
   ]
  },
  {
   "cell_type": "markdown",
   "id": "988c3f39",
   "metadata": {},
   "source": [
    "nombre_infected       853\n",
    "nombre_sain          2162\n",
    "nombre_exposed        393\n",
    "nombre_recovered    16592\n",
    "Name: 684, dtype: int64"
   ]
  },
  {
   "cell_type": "markdown",
   "id": "281a826b",
   "metadata": {},
   "source": [
    "nombre_infected       865\n",
    "nombre_sain          2165\n",
    "nombre_exposed        393\n",
    "nombre_recovered    16577\n",
    "Name: 685, dtype: int64"
   ]
  },
  {
   "cell_type": "markdown",
   "id": "3340302f",
   "metadata": {},
   "source": [
    "nombre_infected       879\n",
    "nombre_sain          2172\n",
    "nombre_exposed        384\n",
    "nombre_recovered    16565\n",
    "Name: 686, dtype: int64"
   ]
  },
  {
   "cell_type": "markdown",
   "id": "08d1601b",
   "metadata": {},
   "source": [
    "nombre_infected       870\n",
    "nombre_sain          2181\n",
    "nombre_exposed        399\n",
    "nombre_recovered    16550\n",
    "Name: 687, dtype: int64"
   ]
  },
  {
   "cell_type": "markdown",
   "id": "fd693f1b",
   "metadata": {},
   "source": [
    "nombre_infected       853\n",
    "nombre_sain          2196\n",
    "nombre_exposed        403\n",
    "nombre_recovered    16548\n",
    "Name: 688, dtype: int64"
   ]
  },
  {
   "cell_type": "markdown",
   "id": "03011f01",
   "metadata": {},
   "source": [
    "nombre_infected       855\n",
    "nombre_sain          2210\n",
    "nombre_exposed        406\n",
    "nombre_recovered    16529\n",
    "Name: 689, dtype: int64"
   ]
  },
  {
   "cell_type": "markdown",
   "id": "5ade0578",
   "metadata": {},
   "source": [
    "nombre_infected       848\n",
    "nombre_sain          2218\n",
    "nombre_exposed        399\n",
    "nombre_recovered    16535\n",
    "Name: 690, dtype: int64"
   ]
  },
  {
   "cell_type": "markdown",
   "id": "06d30df8",
   "metadata": {},
   "source": [
    "nombre_infected       860\n",
    "nombre_sain          2238\n",
    "nombre_exposed        393\n",
    "nombre_recovered    16509\n",
    "Name: 691, dtype: int64"
   ]
  },
  {
   "cell_type": "markdown",
   "id": "f186b853",
   "metadata": {},
   "source": [
    "nombre_infected       860\n",
    "nombre_sain          2257\n",
    "nombre_exposed        417\n",
    "nombre_recovered    16466\n",
    "Name: 692, dtype: int64"
   ]
  },
  {
   "cell_type": "markdown",
   "id": "05619fe4",
   "metadata": {},
   "source": [
    "nombre_infected       852\n",
    "nombre_sain          2243\n",
    "nombre_exposed        456\n",
    "nombre_recovered    16449\n",
    "Name: 693, dtype: int64"
   ]
  },
  {
   "cell_type": "markdown",
   "id": "66892027",
   "metadata": {},
   "source": [
    "nombre_infected       857\n",
    "nombre_sain          2243\n",
    "nombre_exposed        455\n",
    "nombre_recovered    16445\n",
    "Name: 694, dtype: int64"
   ]
  },
  {
   "cell_type": "markdown",
   "id": "73988e62",
   "metadata": {},
   "source": [
    "nombre_infected       871\n",
    "nombre_sain          2296\n",
    "nombre_exposed        437\n",
    "nombre_recovered    16396\n",
    "Name: 695, dtype: int64"
   ]
  },
  {
   "cell_type": "markdown",
   "id": "afc141f3",
   "metadata": {},
   "source": [
    "nombre_infected       862\n",
    "nombre_sain          2314\n",
    "nombre_exposed        437\n",
    "nombre_recovered    16387\n",
    "Name: 696, dtype: int64"
   ]
  },
  {
   "cell_type": "markdown",
   "id": "71f83a7c",
   "metadata": {},
   "source": [
    "nombre_infected       890\n",
    "nombre_sain          2308\n",
    "nombre_exposed        445\n",
    "nombre_recovered    16357\n",
    "Name: 697, dtype: int64"
   ]
  },
  {
   "cell_type": "markdown",
   "id": "eb0723d1",
   "metadata": {},
   "source": [
    "nombre_infected       894\n",
    "nombre_sain          2306\n",
    "nombre_exposed        478\n",
    "nombre_recovered    16322\n",
    "Name: 698, dtype: int64"
   ]
  },
  {
   "cell_type": "markdown",
   "id": "9502b1a4",
   "metadata": {},
   "source": [
    "nombre_infected       903\n",
    "nombre_sain          2303\n",
    "nombre_exposed        479\n",
    "nombre_recovered    16315\n",
    "Name: 699, dtype: int64"
   ]
  },
  {
   "cell_type": "markdown",
   "id": "63a3e37b",
   "metadata": {},
   "source": [
    "nombre_infected       925\n",
    "nombre_sain          2329\n",
    "nombre_exposed        476\n",
    "nombre_recovered    16270\n",
    "Name: 700, dtype: int64"
   ]
  },
  {
   "cell_type": "markdown",
   "id": "03ee60e2",
   "metadata": {},
   "source": [
    "nombre_infected       950\n",
    "nombre_sain          2314\n",
    "nombre_exposed        468\n",
    "nombre_recovered    16268\n",
    "Name: 701, dtype: int64"
   ]
  },
  {
   "cell_type": "markdown",
   "id": "94403fcf",
   "metadata": {},
   "source": [
    "nombre_infected       948\n",
    "nombre_sain          2316\n",
    "nombre_exposed        469\n",
    "nombre_recovered    16267\n",
    "Name: 702, dtype: int64"
   ]
  },
  {
   "cell_type": "markdown",
   "id": "d9416a1e",
   "metadata": {},
   "source": [
    "nombre_infected       963\n",
    "nombre_sain          2310\n",
    "nombre_exposed        470\n",
    "nombre_recovered    16257\n",
    "Name: 703, dtype: int64"
   ]
  },
  {
   "cell_type": "markdown",
   "id": "97fe7b1d",
   "metadata": {},
   "source": [
    "nombre_infected       969\n",
    "nombre_sain          2277\n",
    "nombre_exposed        498\n",
    "nombre_recovered    16256\n",
    "Name: 704, dtype: int64"
   ]
  },
  {
   "cell_type": "markdown",
   "id": "12fdda37",
   "metadata": {},
   "source": [
    "nombre_infected       976\n",
    "nombre_sain          2275\n",
    "nombre_exposed        506\n",
    "nombre_recovered    16243\n",
    "Name: 705, dtype: int64"
   ]
  },
  {
   "cell_type": "markdown",
   "id": "ed3c049a",
   "metadata": {},
   "source": [
    "nombre_infected       976\n",
    "nombre_sain          2273\n",
    "nombre_exposed        538\n",
    "nombre_recovered    16213\n",
    "Name: 706, dtype: int64"
   ]
  },
  {
   "cell_type": "markdown",
   "id": "f771bcbb",
   "metadata": {},
   "source": [
    "nombre_infected      1007\n",
    "nombre_sain          2298\n",
    "nombre_exposed        525\n",
    "nombre_recovered    16170\n",
    "Name: 707, dtype: int64"
   ]
  },
  {
   "cell_type": "markdown",
   "id": "2e3dfa8f",
   "metadata": {},
   "source": [
    "nombre_infected      1044\n",
    "nombre_sain          2258\n",
    "nombre_exposed        504\n",
    "nombre_recovered    16194\n",
    "Name: 708, dtype: int64"
   ]
  },
  {
   "cell_type": "markdown",
   "id": "015576ca",
   "metadata": {},
   "source": [
    "nombre_infected      1085\n",
    "nombre_sain          2267\n",
    "nombre_exposed        471\n",
    "nombre_recovered    16177\n",
    "Name: 709, dtype: int64"
   ]
  },
  {
   "cell_type": "markdown",
   "id": "6b8175a0",
   "metadata": {},
   "source": [
    "nombre_infected      1047\n",
    "nombre_sain          2247\n",
    "nombre_exposed        506\n",
    "nombre_recovered    16200\n",
    "Name: 710, dtype: int64"
   ]
  },
  {
   "cell_type": "markdown",
   "id": "1213f4aa",
   "metadata": {},
   "source": [
    "nombre_infected      1025\n",
    "nombre_sain          2249\n",
    "nombre_exposed        496\n",
    "nombre_recovered    16230\n",
    "Name: 711, dtype: int64"
   ]
  },
  {
   "cell_type": "markdown",
   "id": "4f4629c9",
   "metadata": {},
   "source": [
    "nombre_infected      1014\n",
    "nombre_sain          2240\n",
    "nombre_exposed        508\n",
    "nombre_recovered    16238\n",
    "Name: 712, dtype: int64"
   ]
  },
  {
   "cell_type": "markdown",
   "id": "8fdf145d",
   "metadata": {},
   "source": [
    "nombre_infected      1026\n",
    "nombre_sain          2252\n",
    "nombre_exposed        499\n",
    "nombre_recovered    16223\n",
    "Name: 713, dtype: int64"
   ]
  },
  {
   "cell_type": "markdown",
   "id": "aa57f451",
   "metadata": {},
   "source": [
    "nombre_infected      1038\n",
    "nombre_sain          2228\n",
    "nombre_exposed        508\n",
    "nombre_recovered    16226\n",
    "Name: 714, dtype: int64"
   ]
  },
  {
   "cell_type": "markdown",
   "id": "b591977f",
   "metadata": {},
   "source": [
    "nombre_infected      1042\n",
    "nombre_sain          2202\n",
    "nombre_exposed        519\n",
    "nombre_recovered    16237\n",
    "Name: 715, dtype: int64"
   ]
  },
  {
   "cell_type": "markdown",
   "id": "a7d67004",
   "metadata": {},
   "source": [
    "nombre_infected      1053\n",
    "nombre_sain          2202\n",
    "nombre_exposed        527\n",
    "nombre_recovered    16218\n",
    "Name: 716, dtype: int64"
   ]
  },
  {
   "cell_type": "markdown",
   "id": "01c9f9fd",
   "metadata": {},
   "source": [
    "nombre_infected      1076\n",
    "nombre_sain          2183\n",
    "nombre_exposed        527\n",
    "nombre_recovered    16214\n",
    "Name: 717, dtype: int64"
   ]
  },
  {
   "cell_type": "markdown",
   "id": "c55423ba",
   "metadata": {},
   "source": [
    "nombre_infected      1061\n",
    "nombre_sain          2185\n",
    "nombre_exposed        517\n",
    "nombre_recovered    16237\n",
    "Name: 718, dtype: int64"
   ]
  },
  {
   "cell_type": "markdown",
   "id": "a35b906c",
   "metadata": {},
   "source": [
    "nombre_infected      1057\n",
    "nombre_sain          2194\n",
    "nombre_exposed        515\n",
    "nombre_recovered    16234\n",
    "Name: 719, dtype: int64"
   ]
  },
  {
   "cell_type": "markdown",
   "id": "927e1c1a",
   "metadata": {},
   "source": [
    "nombre_infected      1060\n",
    "nombre_sain          2192\n",
    "nombre_exposed        505\n",
    "nombre_recovered    16243\n",
    "Name: 720, dtype: int64"
   ]
  },
  {
   "cell_type": "markdown",
   "id": "f4a30e22",
   "metadata": {},
   "source": [
    "nombre_infected      1019\n",
    "nombre_sain          2147\n",
    "nombre_exposed        537\n",
    "nombre_recovered    16297\n",
    "Name: 721, dtype: int64"
   ]
  },
  {
   "cell_type": "markdown",
   "id": "2fe1b77d",
   "metadata": {},
   "source": [
    "nombre_infected      1038\n",
    "nombre_sain          2142\n",
    "nombre_exposed        519\n",
    "nombre_recovered    16301\n",
    "Name: 722, dtype: int64"
   ]
  },
  {
   "cell_type": "markdown",
   "id": "60762f6e",
   "metadata": {},
   "source": [
    "nombre_infected      1062\n",
    "nombre_sain          2128\n",
    "nombre_exposed        501\n",
    "nombre_recovered    16309\n",
    "Name: 723, dtype: int64"
   ]
  },
  {
   "cell_type": "markdown",
   "id": "27eff8d1",
   "metadata": {},
   "source": [
    "nombre_infected      1080\n",
    "nombre_sain          2130\n",
    "nombre_exposed        503\n",
    "nombre_recovered    16287\n",
    "Name: 724, dtype: int64"
   ]
  },
  {
   "cell_type": "markdown",
   "id": "2c6d1e97",
   "metadata": {},
   "source": [
    "nombre_infected      1076\n",
    "nombre_sain          2140\n",
    "nombre_exposed        505\n",
    "nombre_recovered    16279\n",
    "Name: 725, dtype: int64"
   ]
  },
  {
   "cell_type": "markdown",
   "id": "91b41e2c",
   "metadata": {},
   "source": [
    "nombre_infected      1072\n",
    "nombre_sain          2119\n",
    "nombre_exposed        524\n",
    "nombre_recovered    16285\n",
    "Name: 726, dtype: int64"
   ]
  },
  {
   "cell_type": "markdown",
   "id": "8eb18acc",
   "metadata": {},
   "source": [
    "nombre_infected      1073\n",
    "nombre_sain          2124\n",
    "nombre_exposed        531\n",
    "nombre_recovered    16272\n",
    "Name: 727, dtype: int64"
   ]
  },
  {
   "cell_type": "markdown",
   "id": "d23a2582",
   "metadata": {},
   "source": [
    "nombre_infected      1074\n",
    "nombre_sain          2124\n",
    "nombre_exposed        532\n",
    "nombre_recovered    16270\n",
    "Name: 728, dtype: int64"
   ]
  },
  {
   "cell_type": "markdown",
   "id": "c1c52114",
   "metadata": {},
   "source": [
    "nombre_infected      1091\n",
    "nombre_sain          2125\n",
    "nombre_exposed        530\n",
    "nombre_recovered    16254\n",
    "Name: 729, dtype: int64"
   ]
  },
  {
   "cell_type": "markdown",
   "id": "ce0964c1",
   "metadata": {},
   "source": [
    "nombre_infected      1108\n",
    "nombre_sain          2110\n",
    "nombre_exposed        553\n",
    "nombre_recovered    16229\n",
    "Name: 730, dtype: int64"
   ]
  }
 ],
 "metadata": {},
 "nbformat": 4,
 "nbformat_minor": 5
}
