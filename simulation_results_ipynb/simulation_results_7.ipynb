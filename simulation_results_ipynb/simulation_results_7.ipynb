{
 "cells": [
  {
   "cell_type": "markdown",
   "id": "854b6d7e",
   "metadata": {},
   "source": [
    "nombre_infected        20\n",
    "nombre_sain         19980\n",
    "nombre_exposed          0\n",
    "nombre_recovered        0\n",
    "Name: 0, dtype: int64"
   ]
  },
  {
   "cell_type": "markdown",
   "id": "575f7059",
   "metadata": {},
   "source": [
    "nombre_infected        20\n",
    "nombre_sain         19965\n",
    "nombre_exposed         15\n",
    "nombre_recovered        0\n",
    "Name: 1, dtype: int64"
   ]
  },
  {
   "cell_type": "markdown",
   "id": "8af93fa1",
   "metadata": {},
   "source": [
    "nombre_infected         2\n",
    "nombre_sain         19953\n",
    "nombre_exposed         27\n",
    "nombre_recovered       18\n",
    "Name: 2, dtype: int64"
   ]
  },
  {
   "cell_type": "markdown",
   "id": "07f18951",
   "metadata": {},
   "source": [
    "nombre_infected         4\n",
    "nombre_sain         19952\n",
    "nombre_exposed         26\n",
    "nombre_recovered       18\n",
    "Name: 3, dtype: int64"
   ]
  },
  {
   "cell_type": "markdown",
   "id": "7d51a96d",
   "metadata": {},
   "source": [
    "nombre_infected        14\n",
    "nombre_sain         19939\n",
    "nombre_exposed         29\n",
    "nombre_recovered       18\n",
    "Name: 4, dtype: int64"
   ]
  },
  {
   "cell_type": "markdown",
   "id": "481e7ab8",
   "metadata": {},
   "source": [
    "nombre_infected        21\n",
    "nombre_sain         19907\n",
    "nombre_exposed         54\n",
    "nombre_recovered       18\n",
    "Name: 5, dtype: int64"
   ]
  },
  {
   "cell_type": "markdown",
   "id": "1689f7ad",
   "metadata": {},
   "source": [
    "nombre_infected        20\n",
    "nombre_sain         19871\n",
    "nombre_exposed         87\n",
    "nombre_recovered       22\n",
    "Name: 6, dtype: int64"
   ]
  },
  {
   "cell_type": "markdown",
   "id": "c290adfa",
   "metadata": {},
   "source": [
    "nombre_infected        35\n",
    "nombre_sain         19841\n",
    "nombre_exposed        100\n",
    "nombre_recovered       24\n",
    "Name: 7, dtype: int64"
   ]
  },
  {
   "cell_type": "markdown",
   "id": "b5621ef7",
   "metadata": {},
   "source": [
    "nombre_infected        42\n",
    "nombre_sain         19793\n",
    "nombre_exposed        138\n",
    "nombre_recovered       27\n",
    "Name: 8, dtype: int64"
   ]
  },
  {
   "cell_type": "markdown",
   "id": "f3ed3d12",
   "metadata": {},
   "source": [
    "nombre_infected        72\n",
    "nombre_sain         19727\n",
    "nombre_exposed        171\n",
    "nombre_recovered       30\n",
    "Name: 9, dtype: int64"
   ]
  },
  {
   "cell_type": "markdown",
   "id": "bacbb8b1",
   "metadata": {},
   "source": [
    "nombre_infected       101\n",
    "nombre_sain         19632\n",
    "nombre_exposed        235\n",
    "nombre_recovered       32\n",
    "Name: 10, dtype: int64"
   ]
  },
  {
   "cell_type": "markdown",
   "id": "329b61db",
   "metadata": {},
   "source": [
    "nombre_infected       131\n",
    "nombre_sain         19486\n",
    "nombre_exposed        343\n",
    "nombre_recovered       40\n",
    "Name: 11, dtype: int64"
   ]
  },
  {
   "cell_type": "markdown",
   "id": "807ca81d",
   "metadata": {},
   "source": [
    "nombre_infected       179\n",
    "nombre_sain         19299\n",
    "nombre_exposed        474\n",
    "nombre_recovered       48\n",
    "Name: 12, dtype: int64"
   ]
  },
  {
   "cell_type": "markdown",
   "id": "cbf39c9b",
   "metadata": {},
   "source": [
    "nombre_infected       249\n",
    "nombre_sain         19037\n",
    "nombre_exposed        648\n",
    "nombre_recovered       66\n",
    "Name: 13, dtype: int64"
   ]
  },
  {
   "cell_type": "markdown",
   "id": "52dd9a1f",
   "metadata": {},
   "source": [
    "nombre_infected       344\n",
    "nombre_sain         18652\n",
    "nombre_exposed        920\n",
    "nombre_recovered       84\n",
    "Name: 14, dtype: int64"
   ]
  },
  {
   "cell_type": "markdown",
   "id": "582c6214",
   "metadata": {},
   "source": [
    "nombre_infected       459\n",
    "nombre_sain         18191\n",
    "nombre_exposed       1243\n",
    "nombre_recovered      107\n",
    "Name: 15, dtype: int64"
   ]
  },
  {
   "cell_type": "markdown",
   "id": "92a1480e",
   "metadata": {},
   "source": [
    "nombre_infected       644\n",
    "nombre_sain         17580\n",
    "nombre_exposed       1639\n",
    "nombre_recovered      137\n",
    "Name: 16, dtype: int64"
   ]
  },
  {
   "cell_type": "markdown",
   "id": "3c72fa68",
   "metadata": {},
   "source": [
    "nombre_infected       876\n",
    "nombre_sain         16792\n",
    "nombre_exposed       2132\n",
    "nombre_recovered      200\n",
    "Name: 17, dtype: int64"
   ]
  },
  {
   "cell_type": "markdown",
   "id": "b8e09ffc",
   "metadata": {},
   "source": [
    "nombre_infected      1127\n",
    "nombre_sain         15793\n",
    "nombre_exposed       2789\n",
    "nombre_recovered      291\n",
    "Name: 18, dtype: int64"
   ]
  },
  {
   "cell_type": "markdown",
   "id": "13bbf4bf",
   "metadata": {},
   "source": [
    "nombre_infected      1481\n",
    "nombre_sain         14616\n",
    "nombre_exposed       3504\n",
    "nombre_recovered      399\n",
    "Name: 19, dtype: int64"
   ]
  },
  {
   "cell_type": "markdown",
   "id": "0572ba1a",
   "metadata": {},
   "source": [
    "nombre_infected      1968\n",
    "nombre_sain         13236\n",
    "nombre_exposed       4252\n",
    "nombre_recovered      544\n",
    "Name: 20, dtype: int64"
   ]
  },
  {
   "cell_type": "markdown",
   "id": "ecb072c0",
   "metadata": {},
   "source": [
    "nombre_infected      2542\n",
    "nombre_sain         11689\n",
    "nombre_exposed       5025\n",
    "nombre_recovered      744\n",
    "Name: 21, dtype: int64"
   ]
  },
  {
   "cell_type": "markdown",
   "id": "044d1ff6",
   "metadata": {},
   "source": [
    "nombre_infected     3236\n",
    "nombre_sain         9988\n",
    "nombre_exposed      5774\n",
    "nombre_recovered    1002\n",
    "Name: 22, dtype: int64"
   ]
  },
  {
   "cell_type": "markdown",
   "id": "5024f146",
   "metadata": {},
   "source": [
    "nombre_infected     4066\n",
    "nombre_sain         8190\n",
    "nombre_exposed      6432\n",
    "nombre_recovered    1312\n",
    "Name: 23, dtype: int64"
   ]
  },
  {
   "cell_type": "markdown",
   "id": "72109568",
   "metadata": {},
   "source": [
    "nombre_infected     4921\n",
    "nombre_sain         6473\n",
    "nombre_exposed      6873\n",
    "nombre_recovered    1733\n",
    "Name: 24, dtype: int64"
   ]
  },
  {
   "cell_type": "markdown",
   "id": "2ea8055c",
   "metadata": {},
   "source": [
    "nombre_infected     5883\n",
    "nombre_sain         4892\n",
    "nombre_exposed      7036\n",
    "nombre_recovered    2189\n",
    "Name: 25, dtype: int64"
   ]
  },
  {
   "cell_type": "markdown",
   "id": "571b0470",
   "metadata": {},
   "source": [
    "nombre_infected     6753\n",
    "nombre_sain         3628\n",
    "nombre_exposed      6853\n",
    "nombre_recovered    2766\n",
    "Name: 26, dtype: int64"
   ]
  },
  {
   "cell_type": "markdown",
   "id": "e84120ee",
   "metadata": {},
   "source": [
    "nombre_infected     7495\n",
    "nombre_sain         2567\n",
    "nombre_exposed      6428\n",
    "nombre_recovered    3510\n",
    "Name: 27, dtype: int64"
   ]
  },
  {
   "cell_type": "markdown",
   "id": "e32ec2b4",
   "metadata": {},
   "source": [
    "nombre_infected     8082\n",
    "nombre_sain         1758\n",
    "nombre_exposed      5811\n",
    "nombre_recovered    4349\n",
    "Name: 28, dtype: int64"
   ]
  },
  {
   "cell_type": "markdown",
   "id": "bb8b303c",
   "metadata": {},
   "source": [
    "nombre_infected     8587\n",
    "nombre_sain         1237\n",
    "nombre_exposed      4951\n",
    "nombre_recovered    5225\n",
    "Name: 29, dtype: int64"
   ]
  },
  {
   "cell_type": "markdown",
   "id": "b4c99caa",
   "metadata": {},
   "source": [
    "nombre_infected     8845\n",
    "nombre_sain          842\n",
    "nombre_exposed      4142\n",
    "nombre_recovered    6171\n",
    "Name: 30, dtype: int64"
   ]
  },
  {
   "cell_type": "markdown",
   "id": "6044b70e",
   "metadata": {},
   "source": [
    "nombre_infected     8839\n",
    "nombre_sain          608\n",
    "nombre_exposed      3366\n",
    "nombre_recovered    7187\n",
    "Name: 31, dtype: int64"
   ]
  },
  {
   "cell_type": "markdown",
   "id": "5f607769",
   "metadata": {},
   "source": [
    "nombre_infected     8724\n",
    "nombre_sain          428\n",
    "nombre_exposed      2685\n",
    "nombre_recovered    8163\n",
    "Name: 32, dtype: int64"
   ]
  },
  {
   "cell_type": "markdown",
   "id": "66b955d5",
   "metadata": {},
   "source": [
    "nombre_infected     8434\n",
    "nombre_sain          317\n",
    "nombre_exposed      2128\n",
    "nombre_recovered    9121\n",
    "Name: 33, dtype: int64"
   ]
  },
  {
   "cell_type": "markdown",
   "id": "b5be91fa",
   "metadata": {},
   "source": [
    "nombre_infected      8026\n",
    "nombre_sain           241\n",
    "nombre_exposed       1640\n",
    "nombre_recovered    10093\n",
    "Name: 34, dtype: int64"
   ]
  },
  {
   "cell_type": "markdown",
   "id": "c3bbc161",
   "metadata": {},
   "source": [
    "nombre_infected      7534\n",
    "nombre_sain           193\n",
    "nombre_exposed       1267\n",
    "nombre_recovered    11006\n",
    "Name: 35, dtype: int64"
   ]
  },
  {
   "cell_type": "markdown",
   "id": "0d4a0dea",
   "metadata": {},
   "source": [
    "nombre_infected      6994\n",
    "nombre_sain           147\n",
    "nombre_exposed        957\n",
    "nombre_recovered    11902\n",
    "Name: 36, dtype: int64"
   ]
  },
  {
   "cell_type": "markdown",
   "id": "b8230115",
   "metadata": {},
   "source": [
    "nombre_infected      6395\n",
    "nombre_sain           135\n",
    "nombre_exposed        724\n",
    "nombre_recovered    12746\n",
    "Name: 37, dtype: int64"
   ]
  },
  {
   "cell_type": "markdown",
   "id": "b8004bfa",
   "metadata": {},
   "source": [
    "nombre_infected      5901\n",
    "nombre_sain           130\n",
    "nombre_exposed        558\n",
    "nombre_recovered    13411\n",
    "Name: 38, dtype: int64"
   ]
  },
  {
   "cell_type": "markdown",
   "id": "008faed5",
   "metadata": {},
   "source": [
    "nombre_infected      5386\n",
    "nombre_sain           124\n",
    "nombre_exposed        426\n",
    "nombre_recovered    14064\n",
    "Name: 39, dtype: int64"
   ]
  },
  {
   "cell_type": "markdown",
   "id": "6e1856ea",
   "metadata": {},
   "source": [
    "nombre_infected      4878\n",
    "nombre_sain           117\n",
    "nombre_exposed        338\n",
    "nombre_recovered    14667\n",
    "Name: 40, dtype: int64"
   ]
  },
  {
   "cell_type": "markdown",
   "id": "ba0dbda7",
   "metadata": {},
   "source": [
    "nombre_infected      4433\n",
    "nombre_sain           127\n",
    "nombre_exposed        262\n",
    "nombre_recovered    15178\n",
    "Name: 41, dtype: int64"
   ]
  },
  {
   "cell_type": "markdown",
   "id": "6b1edae1",
   "metadata": {},
   "source": [
    "nombre_infected      3983\n",
    "nombre_sain           139\n",
    "nombre_exposed        192\n",
    "nombre_recovered    15686\n",
    "Name: 42, dtype: int64"
   ]
  },
  {
   "cell_type": "markdown",
   "id": "c2ce608b",
   "metadata": {},
   "source": [
    "nombre_infected      3561\n",
    "nombre_sain           154\n",
    "nombre_exposed        168\n",
    "nombre_recovered    16117\n",
    "Name: 43, dtype: int64"
   ]
  },
  {
   "cell_type": "markdown",
   "id": "6036398f",
   "metadata": {},
   "source": [
    "nombre_infected      3222\n",
    "nombre_sain           156\n",
    "nombre_exposed        152\n",
    "nombre_recovered    16470\n",
    "Name: 44, dtype: int64"
   ]
  },
  {
   "cell_type": "markdown",
   "id": "961f2494",
   "metadata": {},
   "source": [
    "nombre_infected      2885\n",
    "nombre_sain           159\n",
    "nombre_exposed        139\n",
    "nombre_recovered    16817\n",
    "Name: 45, dtype: int64"
   ]
  },
  {
   "cell_type": "markdown",
   "id": "868eaaa6",
   "metadata": {},
   "source": [
    "nombre_infected      2571\n",
    "nombre_sain           172\n",
    "nombre_exposed        116\n",
    "nombre_recovered    17141\n",
    "Name: 46, dtype: int64"
   ]
  },
  {
   "cell_type": "markdown",
   "id": "535a57cc",
   "metadata": {},
   "source": [
    "nombre_infected      2305\n",
    "nombre_sain           193\n",
    "nombre_exposed         94\n",
    "nombre_recovered    17408\n",
    "Name: 47, dtype: int64"
   ]
  },
  {
   "cell_type": "markdown",
   "id": "54ca7f29",
   "metadata": {},
   "source": [
    "nombre_infected      2052\n",
    "nombre_sain           197\n",
    "nombre_exposed         94\n",
    "nombre_recovered    17657\n",
    "Name: 48, dtype: int64"
   ]
  },
  {
   "cell_type": "markdown",
   "id": "6c9aaee0",
   "metadata": {},
   "source": [
    "nombre_infected      1829\n",
    "nombre_sain           205\n",
    "nombre_exposed         92\n",
    "nombre_recovered    17874\n",
    "Name: 49, dtype: int64"
   ]
  },
  {
   "cell_type": "markdown",
   "id": "941c749d",
   "metadata": {},
   "source": [
    "nombre_infected      1624\n",
    "nombre_sain           225\n",
    "nombre_exposed         89\n",
    "nombre_recovered    18062\n",
    "Name: 50, dtype: int64"
   ]
  },
  {
   "cell_type": "markdown",
   "id": "fc4cf723",
   "metadata": {},
   "source": [
    "nombre_infected      1460\n",
    "nombre_sain           232\n",
    "nombre_exposed         78\n",
    "nombre_recovered    18230\n",
    "Name: 51, dtype: int64"
   ]
  },
  {
   "cell_type": "markdown",
   "id": "d8ed4b4d",
   "metadata": {},
   "source": [
    "nombre_infected      1293\n",
    "nombre_sain           262\n",
    "nombre_exposed         77\n",
    "nombre_recovered    18368\n",
    "Name: 52, dtype: int64"
   ]
  },
  {
   "cell_type": "markdown",
   "id": "ef14f6f6",
   "metadata": {},
   "source": [
    "nombre_infected      1140\n",
    "nombre_sain           274\n",
    "nombre_exposed         74\n",
    "nombre_recovered    18512\n",
    "Name: 53, dtype: int64"
   ]
  },
  {
   "cell_type": "markdown",
   "id": "2103dedc",
   "metadata": {},
   "source": [
    "nombre_infected      1027\n",
    "nombre_sain           301\n",
    "nombre_exposed         61\n",
    "nombre_recovered    18611\n",
    "Name: 54, dtype: int64"
   ]
  },
  {
   "cell_type": "markdown",
   "id": "b304b178",
   "metadata": {},
   "source": [
    "nombre_infected       908\n",
    "nombre_sain           336\n",
    "nombre_exposed         57\n",
    "nombre_recovered    18699\n",
    "Name: 55, dtype: int64"
   ]
  },
  {
   "cell_type": "markdown",
   "id": "9279d01a",
   "metadata": {},
   "source": [
    "nombre_infected       802\n",
    "nombre_sain           352\n",
    "nombre_exposed         57\n",
    "nombre_recovered    18789\n",
    "Name: 56, dtype: int64"
   ]
  },
  {
   "cell_type": "markdown",
   "id": "77e71bd7",
   "metadata": {},
   "source": [
    "nombre_infected       697\n",
    "nombre_sain           386\n",
    "nombre_exposed         56\n",
    "nombre_recovered    18861\n",
    "Name: 57, dtype: int64"
   ]
  },
  {
   "cell_type": "markdown",
   "id": "611083ba",
   "metadata": {},
   "source": [
    "nombre_infected       608\n",
    "nombre_sain           423\n",
    "nombre_exposed         47\n",
    "nombre_recovered    18922\n",
    "Name: 58, dtype: int64"
   ]
  },
  {
   "cell_type": "markdown",
   "id": "f80d3688",
   "metadata": {},
   "source": [
    "nombre_infected       537\n",
    "nombre_sain           486\n",
    "nombre_exposed         30\n",
    "nombre_recovered    18947\n",
    "Name: 59, dtype: int64"
   ]
  },
  {
   "cell_type": "markdown",
   "id": "3f46c263",
   "metadata": {},
   "source": [
    "nombre_infected       451\n",
    "nombre_sain           535\n",
    "nombre_exposed         34\n",
    "nombre_recovered    18980\n",
    "Name: 60, dtype: int64"
   ]
  },
  {
   "cell_type": "markdown",
   "id": "faed82ad",
   "metadata": {},
   "source": [
    "nombre_infected       379\n",
    "nombre_sain           598\n",
    "nombre_exposed         25\n",
    "nombre_recovered    18998\n",
    "Name: 61, dtype: int64"
   ]
  },
  {
   "cell_type": "markdown",
   "id": "09d508aa",
   "metadata": {},
   "source": [
    "nombre_infected       300\n",
    "nombre_sain           644\n",
    "nombre_exposed         32\n",
    "nombre_recovered    19024\n",
    "Name: 62, dtype: int64"
   ]
  },
  {
   "cell_type": "markdown",
   "id": "865d4f05",
   "metadata": {},
   "source": [
    "nombre_infected       245\n",
    "nombre_sain           701\n",
    "nombre_exposed         35\n",
    "nombre_recovered    19019\n",
    "Name: 63, dtype: int64"
   ]
  },
  {
   "cell_type": "markdown",
   "id": "9059f206",
   "metadata": {},
   "source": [
    "nombre_infected       194\n",
    "nombre_sain           767\n",
    "nombre_exposed         29\n",
    "nombre_recovered    19010\n",
    "Name: 64, dtype: int64"
   ]
  },
  {
   "cell_type": "markdown",
   "id": "6e4db637",
   "metadata": {},
   "source": [
    "nombre_infected       158\n",
    "nombre_sain           838\n",
    "nombre_exposed         31\n",
    "nombre_recovered    18973\n",
    "Name: 65, dtype: int64"
   ]
  },
  {
   "cell_type": "markdown",
   "id": "b1a2b3a5",
   "metadata": {},
   "source": [
    "nombre_infected       131\n",
    "nombre_sain           914\n",
    "nombre_exposed         29\n",
    "nombre_recovered    18926\n",
    "Name: 66, dtype: int64"
   ]
  },
  {
   "cell_type": "markdown",
   "id": "3c2d9ff9",
   "metadata": {},
   "source": [
    "nombre_infected       109\n",
    "nombre_sain           984\n",
    "nombre_exposed         29\n",
    "nombre_recovered    18878\n",
    "Name: 67, dtype: int64"
   ]
  },
  {
   "cell_type": "markdown",
   "id": "31a717d5",
   "metadata": {},
   "source": [
    "nombre_infected        99\n",
    "nombre_sain          1067\n",
    "nombre_exposed         28\n",
    "nombre_recovered    18806\n",
    "Name: 68, dtype: int64"
   ]
  },
  {
   "cell_type": "markdown",
   "id": "75698ac4",
   "metadata": {},
   "source": [
    "nombre_infected        87\n",
    "nombre_sain          1137\n",
    "nombre_exposed         18\n",
    "nombre_recovered    18758\n",
    "Name: 69, dtype: int64"
   ]
  },
  {
   "cell_type": "markdown",
   "id": "6708c5f4",
   "metadata": {},
   "source": [
    "nombre_infected        70\n",
    "nombre_sain          1199\n",
    "nombre_exposed         18\n",
    "nombre_recovered    18713\n",
    "Name: 70, dtype: int64"
   ]
  },
  {
   "cell_type": "markdown",
   "id": "6f3c3471",
   "metadata": {},
   "source": [
    "nombre_infected        63\n",
    "nombre_sain          1266\n",
    "nombre_exposed         13\n",
    "nombre_recovered    18658\n",
    "Name: 71, dtype: int64"
   ]
  },
  {
   "cell_type": "markdown",
   "id": "de8f97a9",
   "metadata": {},
   "source": [
    "nombre_infected        51\n",
    "nombre_sain          1340\n",
    "nombre_exposed          9\n",
    "nombre_recovered    18600\n",
    "Name: 72, dtype: int64"
   ]
  },
  {
   "cell_type": "markdown",
   "id": "d19a351a",
   "metadata": {},
   "source": [
    "nombre_infected        45\n",
    "nombre_sain          1398\n",
    "nombre_exposed          8\n",
    "nombre_recovered    18549\n",
    "Name: 73, dtype: int64"
   ]
  },
  {
   "cell_type": "markdown",
   "id": "980697a4",
   "metadata": {},
   "source": [
    "nombre_infected        43\n",
    "nombre_sain          1458\n",
    "nombre_exposed          5\n",
    "nombre_recovered    18494\n",
    "Name: 74, dtype: int64"
   ]
  },
  {
   "cell_type": "markdown",
   "id": "460e0f0c",
   "metadata": {},
   "source": [
    "nombre_infected        38\n",
    "nombre_sain          1507\n",
    "nombre_exposed          9\n",
    "nombre_recovered    18446\n",
    "Name: 75, dtype: int64"
   ]
  },
  {
   "cell_type": "markdown",
   "id": "ab82203d",
   "metadata": {},
   "source": [
    "nombre_infected        35\n",
    "nombre_sain          1556\n",
    "nombre_exposed         10\n",
    "nombre_recovered    18399\n",
    "Name: 76, dtype: int64"
   ]
  },
  {
   "cell_type": "markdown",
   "id": "d9e41065",
   "metadata": {},
   "source": [
    "nombre_infected        25\n",
    "nombre_sain          1606\n",
    "nombre_exposed         11\n",
    "nombre_recovered    18358\n",
    "Name: 77, dtype: int64"
   ]
  },
  {
   "cell_type": "markdown",
   "id": "b2450496",
   "metadata": {},
   "source": [
    "nombre_infected        20\n",
    "nombre_sain          1660\n",
    "nombre_exposed         10\n",
    "nombre_recovered    18310\n",
    "Name: 78, dtype: int64"
   ]
  },
  {
   "cell_type": "markdown",
   "id": "b5d21a89",
   "metadata": {},
   "source": [
    "nombre_infected        18\n",
    "nombre_sain          1708\n",
    "nombre_exposed         10\n",
    "nombre_recovered    18264\n",
    "Name: 79, dtype: int64"
   ]
  },
  {
   "cell_type": "markdown",
   "id": "e7e8753d",
   "metadata": {},
   "source": [
    "nombre_infected        16\n",
    "nombre_sain          1758\n",
    "nombre_exposed          9\n",
    "nombre_recovered    18217\n",
    "Name: 80, dtype: int64"
   ]
  },
  {
   "cell_type": "markdown",
   "id": "96cd1dcb",
   "metadata": {},
   "source": [
    "nombre_infected        18\n",
    "nombre_sain          1793\n",
    "nombre_exposed          5\n",
    "nombre_recovered    18184\n",
    "Name: 81, dtype: int64"
   ]
  },
  {
   "cell_type": "markdown",
   "id": "1ea3066a",
   "metadata": {},
   "source": [
    "nombre_infected        16\n",
    "nombre_sain          1834\n",
    "nombre_exposed         10\n",
    "nombre_recovered    18140\n",
    "Name: 82, dtype: int64"
   ]
  },
  {
   "cell_type": "markdown",
   "id": "1645e2b3",
   "metadata": {},
   "source": [
    "nombre_infected        15\n",
    "nombre_sain          1893\n",
    "nombre_exposed          8\n",
    "nombre_recovered    18084\n",
    "Name: 83, dtype: int64"
   ]
  },
  {
   "cell_type": "markdown",
   "id": "5e8515e2",
   "metadata": {},
   "source": [
    "nombre_infected        18\n",
    "nombre_sain          1952\n",
    "nombre_exposed          4\n",
    "nombre_recovered    18026\n",
    "Name: 84, dtype: int64"
   ]
  },
  {
   "cell_type": "markdown",
   "id": "8a8f202f",
   "metadata": {},
   "source": [
    "nombre_infected        16\n",
    "nombre_sain          1999\n",
    "nombre_exposed          5\n",
    "nombre_recovered    17980\n",
    "Name: 85, dtype: int64"
   ]
  },
  {
   "cell_type": "markdown",
   "id": "0d77660d",
   "metadata": {},
   "source": [
    "nombre_infected        14\n",
    "nombre_sain          2040\n",
    "nombre_exposed          9\n",
    "nombre_recovered    17937\n",
    "Name: 86, dtype: int64"
   ]
  },
  {
   "cell_type": "markdown",
   "id": "0957a70b",
   "metadata": {},
   "source": [
    "nombre_infected        12\n",
    "nombre_sain          2094\n",
    "nombre_exposed         11\n",
    "nombre_recovered    17883\n",
    "Name: 87, dtype: int64"
   ]
  },
  {
   "cell_type": "markdown",
   "id": "ba927e28",
   "metadata": {},
   "source": [
    "nombre_infected        10\n",
    "nombre_sain          2134\n",
    "nombre_exposed         12\n",
    "nombre_recovered    17844\n",
    "Name: 88, dtype: int64"
   ]
  },
  {
   "cell_type": "markdown",
   "id": "78d68bbd",
   "metadata": {},
   "source": [
    "nombre_infected         9\n",
    "nombre_sain          2183\n",
    "nombre_exposed         11\n",
    "nombre_recovered    17797\n",
    "Name: 89, dtype: int64"
   ]
  },
  {
   "cell_type": "markdown",
   "id": "38b7826d",
   "metadata": {},
   "source": [
    "nombre_infected         9\n",
    "nombre_sain          2230\n",
    "nombre_exposed         14\n",
    "nombre_recovered    17747\n",
    "Name: 90, dtype: int64"
   ]
  },
  {
   "cell_type": "markdown",
   "id": "ca2fc771",
   "metadata": {},
   "source": [
    "nombre_infected        10\n",
    "nombre_sain          2265\n",
    "nombre_exposed         12\n",
    "nombre_recovered    17713\n",
    "Name: 91, dtype: int64"
   ]
  },
  {
   "cell_type": "markdown",
   "id": "a9a04721",
   "metadata": {},
   "source": [
    "nombre_infected         9\n",
    "nombre_sain          2301\n",
    "nombre_exposed         11\n",
    "nombre_recovered    17679\n",
    "Name: 92, dtype: int64"
   ]
  },
  {
   "cell_type": "markdown",
   "id": "a1cf8566",
   "metadata": {},
   "source": [
    "nombre_infected         9\n",
    "nombre_sain          2333\n",
    "nombre_exposed         10\n",
    "nombre_recovered    17648\n",
    "Name: 93, dtype: int64"
   ]
  },
  {
   "cell_type": "markdown",
   "id": "d4fd7deb",
   "metadata": {},
   "source": [
    "nombre_infected        12\n",
    "nombre_sain          2366\n",
    "nombre_exposed          8\n",
    "nombre_recovered    17614\n",
    "Name: 94, dtype: int64"
   ]
  },
  {
   "cell_type": "markdown",
   "id": "e854c14e",
   "metadata": {},
   "source": [
    "nombre_infected        12\n",
    "nombre_sain          2405\n",
    "nombre_exposed          8\n",
    "nombre_recovered    17575\n",
    "Name: 95, dtype: int64"
   ]
  },
  {
   "cell_type": "markdown",
   "id": "bb9b0a4c",
   "metadata": {},
   "source": [
    "nombre_infected        12\n",
    "nombre_sain          2436\n",
    "nombre_exposed          5\n",
    "nombre_recovered    17547\n",
    "Name: 96, dtype: int64"
   ]
  },
  {
   "cell_type": "markdown",
   "id": "6eafbe4d",
   "metadata": {},
   "source": [
    "nombre_infected        14\n",
    "nombre_sain          2483\n",
    "nombre_exposed          3\n",
    "nombre_recovered    17500\n",
    "Name: 97, dtype: int64"
   ]
  },
  {
   "cell_type": "markdown",
   "id": "c6fd5702",
   "metadata": {},
   "source": [
    "nombre_infected        15\n",
    "nombre_sain          2523\n",
    "nombre_exposed          6\n",
    "nombre_recovered    17456\n",
    "Name: 98, dtype: int64"
   ]
  },
  {
   "cell_type": "markdown",
   "id": "e0374ef3",
   "metadata": {},
   "source": [
    "nombre_infected        13\n",
    "nombre_sain          2556\n",
    "nombre_exposed         10\n",
    "nombre_recovered    17421\n",
    "Name: 99, dtype: int64"
   ]
  },
  {
   "cell_type": "markdown",
   "id": "6ff2b791",
   "metadata": {},
   "source": [
    "nombre_infected        13\n",
    "nombre_sain          2597\n",
    "nombre_exposed         11\n",
    "nombre_recovered    17379\n",
    "Name: 100, dtype: int64"
   ]
  },
  {
   "cell_type": "markdown",
   "id": "c6e61e4c",
   "metadata": {},
   "source": [
    "nombre_infected        14\n",
    "nombre_sain          2637\n",
    "nombre_exposed          9\n",
    "nombre_recovered    17340\n",
    "Name: 101, dtype: int64"
   ]
  },
  {
   "cell_type": "markdown",
   "id": "6bbe4393",
   "metadata": {},
   "source": [
    "nombre_infected        15\n",
    "nombre_sain          2676\n",
    "nombre_exposed          9\n",
    "nombre_recovered    17300\n",
    "Name: 102, dtype: int64"
   ]
  },
  {
   "cell_type": "markdown",
   "id": "e41ceebd",
   "metadata": {},
   "source": [
    "nombre_infected        14\n",
    "nombre_sain          2734\n",
    "nombre_exposed          9\n",
    "nombre_recovered    17243\n",
    "Name: 103, dtype: int64"
   ]
  },
  {
   "cell_type": "markdown",
   "id": "d297b26e",
   "metadata": {},
   "source": [
    "nombre_infected        13\n",
    "nombre_sain          2778\n",
    "nombre_exposed         12\n",
    "nombre_recovered    17197\n",
    "Name: 104, dtype: int64"
   ]
  },
  {
   "cell_type": "markdown",
   "id": "503c8ce7",
   "metadata": {},
   "source": [
    "nombre_infected        13\n",
    "nombre_sain          2840\n",
    "nombre_exposed         14\n",
    "nombre_recovered    17133\n",
    "Name: 105, dtype: int64"
   ]
  },
  {
   "cell_type": "markdown",
   "id": "587bad9e",
   "metadata": {},
   "source": [
    "nombre_infected        13\n",
    "nombre_sain          2907\n",
    "nombre_exposed         14\n",
    "nombre_recovered    17066\n",
    "Name: 106, dtype: int64"
   ]
  },
  {
   "cell_type": "markdown",
   "id": "c6431f55",
   "metadata": {},
   "source": [
    "nombre_infected        10\n",
    "nombre_sain          2960\n",
    "nombre_exposed         12\n",
    "nombre_recovered    17018\n",
    "Name: 107, dtype: int64"
   ]
  },
  {
   "cell_type": "markdown",
   "id": "2d86aafc",
   "metadata": {},
   "source": [
    "nombre_infected        11\n",
    "nombre_sain          3018\n",
    "nombre_exposed         14\n",
    "nombre_recovered    16957\n",
    "Name: 108, dtype: int64"
   ]
  },
  {
   "cell_type": "markdown",
   "id": "562ca006",
   "metadata": {},
   "source": [
    "nombre_infected        13\n",
    "nombre_sain          3076\n",
    "nombre_exposed         12\n",
    "nombre_recovered    16899\n",
    "Name: 109, dtype: int64"
   ]
  },
  {
   "cell_type": "markdown",
   "id": "ebd190df",
   "metadata": {},
   "source": [
    "nombre_infected        14\n",
    "nombre_sain          3148\n",
    "nombre_exposed         11\n",
    "nombre_recovered    16827\n",
    "Name: 110, dtype: int64"
   ]
  },
  {
   "cell_type": "markdown",
   "id": "c7be3d8a",
   "metadata": {},
   "source": [
    "nombre_infected        14\n",
    "nombre_sain          3213\n",
    "nombre_exposed         11\n",
    "nombre_recovered    16762\n",
    "Name: 111, dtype: int64"
   ]
  },
  {
   "cell_type": "markdown",
   "id": "6ff62b15",
   "metadata": {},
   "source": [
    "nombre_infected        13\n",
    "nombre_sain          3266\n",
    "nombre_exposed         10\n",
    "nombre_recovered    16711\n",
    "Name: 112, dtype: int64"
   ]
  },
  {
   "cell_type": "markdown",
   "id": "7fab7aa3",
   "metadata": {},
   "source": [
    "nombre_infected        13\n",
    "nombre_sain          3324\n",
    "nombre_exposed         10\n",
    "nombre_recovered    16653\n",
    "Name: 113, dtype: int64"
   ]
  },
  {
   "cell_type": "markdown",
   "id": "fa3b514a",
   "metadata": {},
   "source": [
    "nombre_infected        14\n",
    "nombre_sain          3374\n",
    "nombre_exposed         12\n",
    "nombre_recovered    16600\n",
    "Name: 114, dtype: int64"
   ]
  },
  {
   "cell_type": "markdown",
   "id": "f0300150",
   "metadata": {},
   "source": [
    "nombre_infected        15\n",
    "nombre_sain          3420\n",
    "nombre_exposed         11\n",
    "nombre_recovered    16554\n",
    "Name: 115, dtype: int64"
   ]
  },
  {
   "cell_type": "markdown",
   "id": "993c148b",
   "metadata": {},
   "source": [
    "nombre_infected        16\n",
    "nombre_sain          3466\n",
    "nombre_exposed         11\n",
    "nombre_recovered    16507\n",
    "Name: 116, dtype: int64"
   ]
  },
  {
   "cell_type": "markdown",
   "id": "87bab21b",
   "metadata": {},
   "source": [
    "nombre_infected        14\n",
    "nombre_sain          3514\n",
    "nombre_exposed         15\n",
    "nombre_recovered    16457\n",
    "Name: 117, dtype: int64"
   ]
  },
  {
   "cell_type": "markdown",
   "id": "d1268110",
   "metadata": {},
   "source": [
    "nombre_infected        15\n",
    "nombre_sain          3558\n",
    "nombre_exposed         13\n",
    "nombre_recovered    16414\n",
    "Name: 118, dtype: int64"
   ]
  },
  {
   "cell_type": "markdown",
   "id": "371e1526",
   "metadata": {},
   "source": [
    "nombre_infected        15\n",
    "nombre_sain          3596\n",
    "nombre_exposed         16\n",
    "nombre_recovered    16373\n",
    "Name: 119, dtype: int64"
   ]
  },
  {
   "cell_type": "markdown",
   "id": "7358065e",
   "metadata": {},
   "source": [
    "nombre_infected        15\n",
    "nombre_sain          3631\n",
    "nombre_exposed         16\n",
    "nombre_recovered    16338\n",
    "Name: 120, dtype: int64"
   ]
  },
  {
   "cell_type": "markdown",
   "id": "0ac4beea",
   "metadata": {},
   "source": [
    "nombre_infected        16\n",
    "nombre_sain          3679\n",
    "nombre_exposed         15\n",
    "nombre_recovered    16290\n",
    "Name: 121, dtype: int64"
   ]
  },
  {
   "cell_type": "markdown",
   "id": "8b9c91b3",
   "metadata": {},
   "source": [
    "nombre_infected        21\n",
    "nombre_sain          3714\n",
    "nombre_exposed         13\n",
    "nombre_recovered    16252\n",
    "Name: 122, dtype: int64"
   ]
  },
  {
   "cell_type": "markdown",
   "id": "0b6e9f78",
   "metadata": {},
   "source": [
    "nombre_infected        18\n",
    "nombre_sain          3750\n",
    "nombre_exposed         21\n",
    "nombre_recovered    16211\n",
    "Name: 123, dtype: int64"
   ]
  },
  {
   "cell_type": "markdown",
   "id": "edbd5eb5",
   "metadata": {},
   "source": [
    "nombre_infected        18\n",
    "nombre_sain          3780\n",
    "nombre_exposed         26\n",
    "nombre_recovered    16176\n",
    "Name: 124, dtype: int64"
   ]
  },
  {
   "cell_type": "markdown",
   "id": "90c74a75",
   "metadata": {},
   "source": [
    "nombre_infected        21\n",
    "nombre_sain          3818\n",
    "nombre_exposed         21\n",
    "nombre_recovered    16140\n",
    "Name: 125, dtype: int64"
   ]
  },
  {
   "cell_type": "markdown",
   "id": "42923e13",
   "metadata": {},
   "source": [
    "nombre_infected        23\n",
    "nombre_sain          3846\n",
    "nombre_exposed         20\n",
    "nombre_recovered    16111\n",
    "Name: 126, dtype: int64"
   ]
  },
  {
   "cell_type": "markdown",
   "id": "e0a0f52e",
   "metadata": {},
   "source": [
    "nombre_infected        23\n",
    "nombre_sain          3884\n",
    "nombre_exposed         25\n",
    "nombre_recovered    16068\n",
    "Name: 127, dtype: int64"
   ]
  },
  {
   "cell_type": "markdown",
   "id": "78df1ded",
   "metadata": {},
   "source": [
    "nombre_infected        28\n",
    "nombre_sain          3917\n",
    "nombre_exposed         24\n",
    "nombre_recovered    16031\n",
    "Name: 128, dtype: int64"
   ]
  },
  {
   "cell_type": "markdown",
   "id": "0e0eecc7",
   "metadata": {},
   "source": [
    "nombre_infected        29\n",
    "nombre_sain          3957\n",
    "nombre_exposed         24\n",
    "nombre_recovered    15990\n",
    "Name: 129, dtype: int64"
   ]
  },
  {
   "cell_type": "markdown",
   "id": "8f63cb2f",
   "metadata": {},
   "source": [
    "nombre_infected        33\n",
    "nombre_sain          3988\n",
    "nombre_exposed         20\n",
    "nombre_recovered    15959\n",
    "Name: 130, dtype: int64"
   ]
  },
  {
   "cell_type": "markdown",
   "id": "109f2994",
   "metadata": {},
   "source": [
    "nombre_infected        33\n",
    "nombre_sain          4019\n",
    "nombre_exposed         19\n",
    "nombre_recovered    15929\n",
    "Name: 131, dtype: int64"
   ]
  },
  {
   "cell_type": "markdown",
   "id": "c371aa53",
   "metadata": {},
   "source": [
    "nombre_infected        34\n",
    "nombre_sain          4042\n",
    "nombre_exposed         29\n",
    "nombre_recovered    15895\n",
    "Name: 132, dtype: int64"
   ]
  },
  {
   "cell_type": "markdown",
   "id": "c9076679",
   "metadata": {},
   "source": [
    "nombre_infected        37\n",
    "nombre_sain          4068\n",
    "nombre_exposed         31\n",
    "nombre_recovered    15864\n",
    "Name: 133, dtype: int64"
   ]
  },
  {
   "cell_type": "markdown",
   "id": "11f01d39",
   "metadata": {},
   "source": [
    "nombre_infected        40\n",
    "nombre_sain          4092\n",
    "nombre_exposed         33\n",
    "nombre_recovered    15835\n",
    "Name: 134, dtype: int64"
   ]
  },
  {
   "cell_type": "markdown",
   "id": "f676a3bc",
   "metadata": {},
   "source": [
    "nombre_infected        42\n",
    "nombre_sain          4143\n",
    "nombre_exposed         29\n",
    "nombre_recovered    15786\n",
    "Name: 135, dtype: int64"
   ]
  },
  {
   "cell_type": "markdown",
   "id": "6c4cfbd9",
   "metadata": {},
   "source": [
    "nombre_infected        40\n",
    "nombre_sain          4172\n",
    "nombre_exposed         37\n",
    "nombre_recovered    15751\n",
    "Name: 136, dtype: int64"
   ]
  },
  {
   "cell_type": "markdown",
   "id": "e9c93fd9",
   "metadata": {},
   "source": [
    "nombre_infected        39\n",
    "nombre_sain          4209\n",
    "nombre_exposed         39\n",
    "nombre_recovered    15713\n",
    "Name: 137, dtype: int64"
   ]
  },
  {
   "cell_type": "markdown",
   "id": "309cb95e",
   "metadata": {},
   "source": [
    "nombre_infected        41\n",
    "nombre_sain          4252\n",
    "nombre_exposed         43\n",
    "nombre_recovered    15664\n",
    "Name: 138, dtype: int64"
   ]
  },
  {
   "cell_type": "markdown",
   "id": "9100f7c0",
   "metadata": {},
   "source": [
    "nombre_infected        40\n",
    "nombre_sain          4273\n",
    "nombre_exposed         52\n",
    "nombre_recovered    15635\n",
    "Name: 139, dtype: int64"
   ]
  },
  {
   "cell_type": "markdown",
   "id": "799fced8",
   "metadata": {},
   "source": [
    "nombre_infected        51\n",
    "nombre_sain          4299\n",
    "nombre_exposed         50\n",
    "nombre_recovered    15600\n",
    "Name: 140, dtype: int64"
   ]
  },
  {
   "cell_type": "markdown",
   "id": "4d08b5b5",
   "metadata": {},
   "source": [
    "nombre_infected        56\n",
    "nombre_sain          4317\n",
    "nombre_exposed         58\n",
    "nombre_recovered    15569\n",
    "Name: 141, dtype: int64"
   ]
  },
  {
   "cell_type": "markdown",
   "id": "d7472b2f",
   "metadata": {},
   "source": [
    "nombre_infected        56\n",
    "nombre_sain          4342\n",
    "nombre_exposed         64\n",
    "nombre_recovered    15538\n",
    "Name: 142, dtype: int64"
   ]
  },
  {
   "cell_type": "markdown",
   "id": "3394576d",
   "metadata": {},
   "source": [
    "nombre_infected        62\n",
    "nombre_sain          4382\n",
    "nombre_exposed         69\n",
    "nombre_recovered    15487\n",
    "Name: 143, dtype: int64"
   ]
  },
  {
   "cell_type": "markdown",
   "id": "a0f0abd0",
   "metadata": {},
   "source": [
    "nombre_infected        66\n",
    "nombre_sain          4392\n",
    "nombre_exposed         79\n",
    "nombre_recovered    15463\n",
    "Name: 144, dtype: int64"
   ]
  },
  {
   "cell_type": "markdown",
   "id": "14ce66a4",
   "metadata": {},
   "source": [
    "nombre_infected        71\n",
    "nombre_sain          4420\n",
    "nombre_exposed         85\n",
    "nombre_recovered    15424\n",
    "Name: 145, dtype: int64"
   ]
  },
  {
   "cell_type": "markdown",
   "id": "eb1daee4",
   "metadata": {},
   "source": [
    "nombre_infected        79\n",
    "nombre_sain          4446\n",
    "nombre_exposed         90\n",
    "nombre_recovered    15385\n",
    "Name: 146, dtype: int64"
   ]
  },
  {
   "cell_type": "markdown",
   "id": "72500016",
   "metadata": {},
   "source": [
    "nombre_infected        99\n",
    "nombre_sain          4457\n",
    "nombre_exposed         91\n",
    "nombre_recovered    15353\n",
    "Name: 147, dtype: int64"
   ]
  },
  {
   "cell_type": "markdown",
   "id": "89b7c6dd",
   "metadata": {},
   "source": [
    "nombre_infected       104\n",
    "nombre_sain          4463\n",
    "nombre_exposed         93\n",
    "nombre_recovered    15340\n",
    "Name: 148, dtype: int64"
   ]
  },
  {
   "cell_type": "markdown",
   "id": "16fadbac",
   "metadata": {},
   "source": [
    "nombre_infected       116\n",
    "nombre_sain          4467\n",
    "nombre_exposed         96\n",
    "nombre_recovered    15321\n",
    "Name: 149, dtype: int64"
   ]
  },
  {
   "cell_type": "markdown",
   "id": "0fbf0c83",
   "metadata": {},
   "source": [
    "nombre_infected       117\n",
    "nombre_sain          4465\n",
    "nombre_exposed        112\n",
    "nombre_recovered    15306\n",
    "Name: 150, dtype: int64"
   ]
  },
  {
   "cell_type": "markdown",
   "id": "2852cece",
   "metadata": {},
   "source": [
    "nombre_infected       123\n",
    "nombre_sain          4466\n",
    "nombre_exposed        124\n",
    "nombre_recovered    15287\n",
    "Name: 151, dtype: int64"
   ]
  },
  {
   "cell_type": "markdown",
   "id": "208dc22c",
   "metadata": {},
   "source": [
    "nombre_infected       133\n",
    "nombre_sain          4461\n",
    "nombre_exposed        141\n",
    "nombre_recovered    15265\n",
    "Name: 152, dtype: int64"
   ]
  },
  {
   "cell_type": "markdown",
   "id": "bdc82e86",
   "metadata": {},
   "source": [
    "nombre_infected       145\n",
    "nombre_sain          4464\n",
    "nombre_exposed        153\n",
    "nombre_recovered    15238\n",
    "Name: 153, dtype: int64"
   ]
  },
  {
   "cell_type": "markdown",
   "id": "6519caa3",
   "metadata": {},
   "source": [
    "nombre_infected       160\n",
    "nombre_sain          4466\n",
    "nombre_exposed        158\n",
    "nombre_recovered    15216\n",
    "Name: 154, dtype: int64"
   ]
  },
  {
   "cell_type": "markdown",
   "id": "7d902179",
   "metadata": {},
   "source": [
    "nombre_infected       163\n",
    "nombre_sain          4450\n",
    "nombre_exposed        176\n",
    "nombre_recovered    15211\n",
    "Name: 155, dtype: int64"
   ]
  },
  {
   "cell_type": "markdown",
   "id": "9f35111e",
   "metadata": {},
   "source": [
    "nombre_infected       176\n",
    "nombre_sain          4448\n",
    "nombre_exposed        174\n",
    "nombre_recovered    15202\n",
    "Name: 156, dtype: int64"
   ]
  },
  {
   "cell_type": "markdown",
   "id": "29020018",
   "metadata": {},
   "source": [
    "nombre_infected       194\n",
    "nombre_sain          4421\n",
    "nombre_exposed        201\n",
    "nombre_recovered    15184\n",
    "Name: 157, dtype: int64"
   ]
  },
  {
   "cell_type": "markdown",
   "id": "afabaea0",
   "metadata": {},
   "source": [
    "nombre_infected       198\n",
    "nombre_sain          4406\n",
    "nombre_exposed        218\n",
    "nombre_recovered    15178\n",
    "Name: 158, dtype: int64"
   ]
  },
  {
   "cell_type": "markdown",
   "id": "36c6e8f3",
   "metadata": {},
   "source": [
    "nombre_infected       230\n",
    "nombre_sain          4391\n",
    "nombre_exposed        229\n",
    "nombre_recovered    15150\n",
    "Name: 159, dtype: int64"
   ]
  },
  {
   "cell_type": "markdown",
   "id": "9309aec9",
   "metadata": {},
   "source": [
    "nombre_infected       244\n",
    "nombre_sain          4361\n",
    "nombre_exposed        249\n",
    "nombre_recovered    15146\n",
    "Name: 160, dtype: int64"
   ]
  },
  {
   "cell_type": "markdown",
   "id": "f61c6374",
   "metadata": {},
   "source": [
    "nombre_infected       265\n",
    "nombre_sain          4339\n",
    "nombre_exposed        275\n",
    "nombre_recovered    15121\n",
    "Name: 161, dtype: int64"
   ]
  },
  {
   "cell_type": "markdown",
   "id": "bc146ee3",
   "metadata": {},
   "source": [
    "nombre_infected       286\n",
    "nombre_sain          4301\n",
    "nombre_exposed        286\n",
    "nombre_recovered    15127\n",
    "Name: 162, dtype: int64"
   ]
  },
  {
   "cell_type": "markdown",
   "id": "4bd35d5b",
   "metadata": {},
   "source": [
    "nombre_infected       308\n",
    "nombre_sain          4281\n",
    "nombre_exposed        301\n",
    "nombre_recovered    15110\n",
    "Name: 163, dtype: int64"
   ]
  },
  {
   "cell_type": "markdown",
   "id": "331563cc",
   "metadata": {},
   "source": [
    "nombre_infected       331\n",
    "nombre_sain          4231\n",
    "nombre_exposed        342\n",
    "nombre_recovered    15096\n",
    "Name: 164, dtype: int64"
   ]
  },
  {
   "cell_type": "markdown",
   "id": "a7f37221",
   "metadata": {},
   "source": [
    "nombre_infected       344\n",
    "nombre_sain          4187\n",
    "nombre_exposed        366\n",
    "nombre_recovered    15103\n",
    "Name: 165, dtype: int64"
   ]
  },
  {
   "cell_type": "markdown",
   "id": "78cb4f1d",
   "metadata": {},
   "source": [
    "nombre_infected       372\n",
    "nombre_sain          4134\n",
    "nombre_exposed        382\n",
    "nombre_recovered    15112\n",
    "Name: 166, dtype: int64"
   ]
  },
  {
   "cell_type": "markdown",
   "id": "c12a1bcf",
   "metadata": {},
   "source": [
    "nombre_infected       409\n",
    "nombre_sain          4077\n",
    "nombre_exposed        399\n",
    "nombre_recovered    15115\n",
    "Name: 167, dtype: int64"
   ]
  },
  {
   "cell_type": "markdown",
   "id": "d2f5b29c",
   "metadata": {},
   "source": [
    "nombre_infected       440\n",
    "nombre_sain          4023\n",
    "nombre_exposed        421\n",
    "nombre_recovered    15116\n",
    "Name: 168, dtype: int64"
   ]
  },
  {
   "cell_type": "markdown",
   "id": "eec75ba4",
   "metadata": {},
   "source": [
    "nombre_infected       486\n",
    "nombre_sain          3976\n",
    "nombre_exposed        429\n",
    "nombre_recovered    15109\n",
    "Name: 169, dtype: int64"
   ]
  },
  {
   "cell_type": "markdown",
   "id": "124f48bf",
   "metadata": {},
   "source": [
    "nombre_infected       527\n",
    "nombre_sain          3906\n",
    "nombre_exposed        444\n",
    "nombre_recovered    15123\n",
    "Name: 170, dtype: int64"
   ]
  },
  {
   "cell_type": "markdown",
   "id": "cd064f23",
   "metadata": {},
   "source": [
    "nombre_infected       546\n",
    "nombre_sain          3833\n",
    "nombre_exposed        477\n",
    "nombre_recovered    15144\n",
    "Name: 171, dtype: int64"
   ]
  },
  {
   "cell_type": "markdown",
   "id": "7dfb8842",
   "metadata": {},
   "source": [
    "nombre_infected       571\n",
    "nombre_sain          3789\n",
    "nombre_exposed        470\n",
    "nombre_recovered    15170\n",
    "Name: 172, dtype: int64"
   ]
  },
  {
   "cell_type": "markdown",
   "id": "0fabc673",
   "metadata": {},
   "source": [
    "nombre_infected       597\n",
    "nombre_sain          3720\n",
    "nombre_exposed        492\n",
    "nombre_recovered    15191\n",
    "Name: 173, dtype: int64"
   ]
  },
  {
   "cell_type": "markdown",
   "id": "01ca4012",
   "metadata": {},
   "source": [
    "nombre_infected       637\n",
    "nombre_sain          3630\n",
    "nombre_exposed        520\n",
    "nombre_recovered    15213\n",
    "Name: 174, dtype: int64"
   ]
  },
  {
   "cell_type": "markdown",
   "id": "11db9789",
   "metadata": {},
   "source": [
    "nombre_infected       652\n",
    "nombre_sain          3564\n",
    "nombre_exposed        545\n",
    "nombre_recovered    15239\n",
    "Name: 175, dtype: int64"
   ]
  },
  {
   "cell_type": "markdown",
   "id": "422dec99",
   "metadata": {},
   "source": [
    "nombre_infected       711\n",
    "nombre_sain          3465\n",
    "nombre_exposed        582\n",
    "nombre_recovered    15242\n",
    "Name: 176, dtype: int64"
   ]
  },
  {
   "cell_type": "markdown",
   "id": "4814fea0",
   "metadata": {},
   "source": [
    "nombre_infected       735\n",
    "nombre_sain          3388\n",
    "nombre_exposed        612\n",
    "nombre_recovered    15265\n",
    "Name: 177, dtype: int64"
   ]
  },
  {
   "cell_type": "markdown",
   "id": "cbc24608",
   "metadata": {},
   "source": [
    "nombre_infected       753\n",
    "nombre_sain          3294\n",
    "nombre_exposed        625\n",
    "nombre_recovered    15328\n",
    "Name: 178, dtype: int64"
   ]
  },
  {
   "cell_type": "markdown",
   "id": "8f45a1fd",
   "metadata": {},
   "source": [
    "nombre_infected       805\n",
    "nombre_sain          3202\n",
    "nombre_exposed        625\n",
    "nombre_recovered    15368\n",
    "Name: 179, dtype: int64"
   ]
  },
  {
   "cell_type": "markdown",
   "id": "2616a7c7",
   "metadata": {},
   "source": [
    "nombre_infected       831\n",
    "nombre_sain          3138\n",
    "nombre_exposed        623\n",
    "nombre_recovered    15408\n",
    "Name: 180, dtype: int64"
   ]
  },
  {
   "cell_type": "markdown",
   "id": "d7d6319b",
   "metadata": {},
   "source": [
    "nombre_infected       875\n",
    "nombre_sain          3008\n",
    "nombre_exposed        653\n",
    "nombre_recovered    15464\n",
    "Name: 181, dtype: int64"
   ]
  },
  {
   "cell_type": "markdown",
   "id": "af62d37e",
   "metadata": {},
   "source": [
    "nombre_infected       887\n",
    "nombre_sain          2919\n",
    "nombre_exposed        678\n",
    "nombre_recovered    15516\n",
    "Name: 182, dtype: int64"
   ]
  },
  {
   "cell_type": "markdown",
   "id": "8f9813b8",
   "metadata": {},
   "source": [
    "nombre_infected       927\n",
    "nombre_sain          2808\n",
    "nombre_exposed        684\n",
    "nombre_recovered    15581\n",
    "Name: 183, dtype: int64"
   ]
  },
  {
   "cell_type": "markdown",
   "id": "f5103d4a",
   "metadata": {},
   "source": [
    "nombre_infected       944\n",
    "nombre_sain          2725\n",
    "nombre_exposed        676\n",
    "nombre_recovered    15655\n",
    "Name: 184, dtype: int64"
   ]
  },
  {
   "cell_type": "markdown",
   "id": "8a8a2f49",
   "metadata": {},
   "source": [
    "nombre_infected       961\n",
    "nombre_sain          2646\n",
    "nombre_exposed        681\n",
    "nombre_recovered    15712\n",
    "Name: 185, dtype: int64"
   ]
  },
  {
   "cell_type": "markdown",
   "id": "c10d2f9f",
   "metadata": {},
   "source": [
    "nombre_infected       958\n",
    "nombre_sain          2561\n",
    "nombre_exposed        704\n",
    "nombre_recovered    15777\n",
    "Name: 186, dtype: int64"
   ]
  },
  {
   "cell_type": "markdown",
   "id": "b48b4bf8",
   "metadata": {},
   "source": [
    "nombre_infected       981\n",
    "nombre_sain          2495\n",
    "nombre_exposed        689\n",
    "nombre_recovered    15835\n",
    "Name: 187, dtype: int64"
   ]
  },
  {
   "cell_type": "markdown",
   "id": "6e217a45",
   "metadata": {},
   "source": [
    "nombre_infected       996\n",
    "nombre_sain          2415\n",
    "nombre_exposed        699\n",
    "nombre_recovered    15890\n",
    "Name: 188, dtype: int64"
   ]
  },
  {
   "cell_type": "markdown",
   "id": "84fdb683",
   "metadata": {},
   "source": [
    "nombre_infected       990\n",
    "nombre_sain          2366\n",
    "nombre_exposed        682\n",
    "nombre_recovered    15962\n",
    "Name: 189, dtype: int64"
   ]
  },
  {
   "cell_type": "markdown",
   "id": "f8e129be",
   "metadata": {},
   "source": [
    "nombre_infected      1006\n",
    "nombre_sain          2318\n",
    "nombre_exposed        666\n",
    "nombre_recovered    16010\n",
    "Name: 190, dtype: int64"
   ]
  },
  {
   "cell_type": "markdown",
   "id": "5310d5d9",
   "metadata": {},
   "source": [
    "nombre_infected      1028\n",
    "nombre_sain          2275\n",
    "nombre_exposed        657\n",
    "nombre_recovered    16040\n",
    "Name: 191, dtype: int64"
   ]
  },
  {
   "cell_type": "markdown",
   "id": "a86cc5c8",
   "metadata": {},
   "source": [
    "nombre_infected      1058\n",
    "nombre_sain          2210\n",
    "nombre_exposed        635\n",
    "nombre_recovered    16097\n",
    "Name: 192, dtype: int64"
   ]
  },
  {
   "cell_type": "markdown",
   "id": "b26f6ad2",
   "metadata": {},
   "source": [
    "nombre_infected      1058\n",
    "nombre_sain          2143\n",
    "nombre_exposed        639\n",
    "nombre_recovered    16160\n",
    "Name: 193, dtype: int64"
   ]
  },
  {
   "cell_type": "markdown",
   "id": "865ba047",
   "metadata": {},
   "source": [
    "nombre_infected      1060\n",
    "nombre_sain          2107\n",
    "nombre_exposed        616\n",
    "nombre_recovered    16217\n",
    "Name: 194, dtype: int64"
   ]
  },
  {
   "cell_type": "markdown",
   "id": "2786e22f",
   "metadata": {},
   "source": [
    "nombre_infected      1073\n",
    "nombre_sain          2062\n",
    "nombre_exposed        608\n",
    "nombre_recovered    16257\n",
    "Name: 195, dtype: int64"
   ]
  },
  {
   "cell_type": "markdown",
   "id": "b3f86bf8",
   "metadata": {},
   "source": [
    "nombre_infected      1086\n",
    "nombre_sain          2031\n",
    "nombre_exposed        586\n",
    "nombre_recovered    16297\n",
    "Name: 196, dtype: int64"
   ]
  },
  {
   "cell_type": "markdown",
   "id": "dbfe022a",
   "metadata": {},
   "source": [
    "nombre_infected      1086\n",
    "nombre_sain          1987\n",
    "nombre_exposed        567\n",
    "nombre_recovered    16360\n",
    "Name: 197, dtype: int64"
   ]
  },
  {
   "cell_type": "markdown",
   "id": "20819257",
   "metadata": {},
   "source": [
    "nombre_infected      1080\n",
    "nombre_sain          1942\n",
    "nombre_exposed        568\n",
    "nombre_recovered    16410\n",
    "Name: 198, dtype: int64"
   ]
  },
  {
   "cell_type": "markdown",
   "id": "fe24239a",
   "metadata": {},
   "source": [
    "nombre_infected      1084\n",
    "nombre_sain          1920\n",
    "nombre_exposed        538\n",
    "nombre_recovered    16458\n",
    "Name: 199, dtype: int64"
   ]
  },
  {
   "cell_type": "markdown",
   "id": "6c37b2c2",
   "metadata": {},
   "source": [
    "nombre_infected      1074\n",
    "nombre_sain          1885\n",
    "nombre_exposed        557\n",
    "nombre_recovered    16484\n",
    "Name: 200, dtype: int64"
   ]
  },
  {
   "cell_type": "markdown",
   "id": "a82b440f",
   "metadata": {},
   "source": [
    "nombre_infected      1049\n",
    "nombre_sain          1868\n",
    "nombre_exposed        540\n",
    "nombre_recovered    16543\n",
    "Name: 201, dtype: int64"
   ]
  },
  {
   "cell_type": "markdown",
   "id": "ff6dd5b2",
   "metadata": {},
   "source": [
    "nombre_infected      1058\n",
    "nombre_sain          1836\n",
    "nombre_exposed        515\n",
    "nombre_recovered    16591\n",
    "Name: 202, dtype: int64"
   ]
  },
  {
   "cell_type": "markdown",
   "id": "e3f9a8d3",
   "metadata": {},
   "source": [
    "nombre_infected      1067\n",
    "nombre_sain          1813\n",
    "nombre_exposed        489\n",
    "nombre_recovered    16631\n",
    "Name: 203, dtype: int64"
   ]
  },
  {
   "cell_type": "markdown",
   "id": "e3e1206d",
   "metadata": {},
   "source": [
    "nombre_infected      1038\n",
    "nombre_sain          1794\n",
    "nombre_exposed        470\n",
    "nombre_recovered    16698\n",
    "Name: 204, dtype: int64"
   ]
  },
  {
   "cell_type": "markdown",
   "id": "2300b0d3",
   "metadata": {},
   "source": [
    "nombre_infected      1014\n",
    "nombre_sain          1729\n",
    "nombre_exposed        500\n",
    "nombre_recovered    16757\n",
    "Name: 205, dtype: int64"
   ]
  },
  {
   "cell_type": "markdown",
   "id": "b9c87aa4",
   "metadata": {},
   "source": [
    "nombre_infected      1008\n",
    "nombre_sain          1683\n",
    "nombre_exposed        491\n",
    "nombre_recovered    16818\n",
    "Name: 206, dtype: int64"
   ]
  },
  {
   "cell_type": "markdown",
   "id": "e54c91cf",
   "metadata": {},
   "source": [
    "nombre_infected      1008\n",
    "nombre_sain          1653\n",
    "nombre_exposed        468\n",
    "nombre_recovered    16871\n",
    "Name: 207, dtype: int64"
   ]
  },
  {
   "cell_type": "markdown",
   "id": "2e53b1c3",
   "metadata": {},
   "source": [
    "nombre_infected      1006\n",
    "nombre_sain          1609\n",
    "nombre_exposed        450\n",
    "nombre_recovered    16935\n",
    "Name: 208, dtype: int64"
   ]
  },
  {
   "cell_type": "markdown",
   "id": "8455dea9",
   "metadata": {},
   "source": [
    "nombre_infected       995\n",
    "nombre_sain          1591\n",
    "nombre_exposed        437\n",
    "nombre_recovered    16977\n",
    "Name: 209, dtype: int64"
   ]
  },
  {
   "cell_type": "markdown",
   "id": "88102b2a",
   "metadata": {},
   "source": [
    "nombre_infected       960\n",
    "nombre_sain          1576\n",
    "nombre_exposed        433\n",
    "nombre_recovered    17031\n",
    "Name: 210, dtype: int64"
   ]
  },
  {
   "cell_type": "markdown",
   "id": "60a27eb4",
   "metadata": {},
   "source": [
    "nombre_infected       961\n",
    "nombre_sain          1548\n",
    "nombre_exposed        419\n",
    "nombre_recovered    17072\n",
    "Name: 211, dtype: int64"
   ]
  },
  {
   "cell_type": "markdown",
   "id": "184c8e22",
   "metadata": {},
   "source": [
    "nombre_infected       939\n",
    "nombre_sain          1516\n",
    "nombre_exposed        412\n",
    "nombre_recovered    17133\n",
    "Name: 212, dtype: int64"
   ]
  },
  {
   "cell_type": "markdown",
   "id": "968cadba",
   "metadata": {},
   "source": [
    "nombre_infected       951\n",
    "nombre_sain          1493\n",
    "nombre_exposed        395\n",
    "nombre_recovered    17161\n",
    "Name: 213, dtype: int64"
   ]
  },
  {
   "cell_type": "markdown",
   "id": "b960aaac",
   "metadata": {},
   "source": [
    "nombre_infected       943\n",
    "nombre_sain          1452\n",
    "nombre_exposed        382\n",
    "nombre_recovered    17223\n",
    "Name: 214, dtype: int64"
   ]
  },
  {
   "cell_type": "markdown",
   "id": "072da3d7",
   "metadata": {},
   "source": [
    "nombre_infected       916\n",
    "nombre_sain          1433\n",
    "nombre_exposed        373\n",
    "nombre_recovered    17278\n",
    "Name: 215, dtype: int64"
   ]
  },
  {
   "cell_type": "markdown",
   "id": "72da8da2",
   "metadata": {},
   "source": [
    "nombre_infected       889\n",
    "nombre_sain          1412\n",
    "nombre_exposed        369\n",
    "nombre_recovered    17330\n",
    "Name: 216, dtype: int64"
   ]
  },
  {
   "cell_type": "markdown",
   "id": "0991b27b",
   "metadata": {},
   "source": [
    "nombre_infected       869\n",
    "nombre_sain          1393\n",
    "nombre_exposed        371\n",
    "nombre_recovered    17367\n",
    "Name: 217, dtype: int64"
   ]
  },
  {
   "cell_type": "markdown",
   "id": "d108a2dd",
   "metadata": {},
   "source": [
    "nombre_infected       856\n",
    "nombre_sain          1373\n",
    "nombre_exposed        357\n",
    "nombre_recovered    17414\n",
    "Name: 218, dtype: int64"
   ]
  },
  {
   "cell_type": "markdown",
   "id": "bf803a04",
   "metadata": {},
   "source": [
    "nombre_infected       847\n",
    "nombre_sain          1379\n",
    "nombre_exposed        329\n",
    "nombre_recovered    17445\n",
    "Name: 219, dtype: int64"
   ]
  },
  {
   "cell_type": "markdown",
   "id": "26871ae9",
   "metadata": {},
   "source": [
    "nombre_infected       816\n",
    "nombre_sain          1375\n",
    "nombre_exposed        329\n",
    "nombre_recovered    17480\n",
    "Name: 220, dtype: int64"
   ]
  },
  {
   "cell_type": "markdown",
   "id": "f30ebd9d",
   "metadata": {},
   "source": [
    "nombre_infected       792\n",
    "nombre_sain          1410\n",
    "nombre_exposed        296\n",
    "nombre_recovered    17502\n",
    "Name: 221, dtype: int64"
   ]
  },
  {
   "cell_type": "markdown",
   "id": "edb6aa97",
   "metadata": {},
   "source": [
    "nombre_infected       769\n",
    "nombre_sain          1421\n",
    "nombre_exposed        290\n",
    "nombre_recovered    17520\n",
    "Name: 222, dtype: int64"
   ]
  },
  {
   "cell_type": "markdown",
   "id": "8960c6b2",
   "metadata": {},
   "source": [
    "nombre_infected       735\n",
    "nombre_sain          1432\n",
    "nombre_exposed        287\n",
    "nombre_recovered    17546\n",
    "Name: 223, dtype: int64"
   ]
  },
  {
   "cell_type": "markdown",
   "id": "bfdd34b5",
   "metadata": {},
   "source": [
    "nombre_infected       717\n",
    "nombre_sain          1450\n",
    "nombre_exposed        283\n",
    "nombre_recovered    17550\n",
    "Name: 224, dtype: int64"
   ]
  },
  {
   "cell_type": "markdown",
   "id": "35751994",
   "metadata": {},
   "source": [
    "nombre_infected       695\n",
    "nombre_sain          1510\n",
    "nombre_exposed        275\n",
    "nombre_recovered    17520\n",
    "Name: 225, dtype: int64"
   ]
  },
  {
   "cell_type": "markdown",
   "id": "d1ec57df",
   "metadata": {},
   "source": [
    "nombre_infected       659\n",
    "nombre_sain          1545\n",
    "nombre_exposed        282\n",
    "nombre_recovered    17514\n",
    "Name: 226, dtype: int64"
   ]
  },
  {
   "cell_type": "markdown",
   "id": "f8e296f5",
   "metadata": {},
   "source": [
    "nombre_infected       641\n",
    "nombre_sain          1562\n",
    "nombre_exposed        290\n",
    "nombre_recovered    17507\n",
    "Name: 227, dtype: int64"
   ]
  },
  {
   "cell_type": "markdown",
   "id": "c97f09a3",
   "metadata": {},
   "source": [
    "nombre_infected       615\n",
    "nombre_sain          1604\n",
    "nombre_exposed        288\n",
    "nombre_recovered    17493\n",
    "Name: 228, dtype: int64"
   ]
  },
  {
   "cell_type": "markdown",
   "id": "753276a8",
   "metadata": {},
   "source": [
    "nombre_infected       604\n",
    "nombre_sain          1644\n",
    "nombre_exposed        275\n",
    "nombre_recovered    17477\n",
    "Name: 229, dtype: int64"
   ]
  },
  {
   "cell_type": "markdown",
   "id": "c47902b6",
   "metadata": {},
   "source": [
    "nombre_infected       590\n",
    "nombre_sain          1678\n",
    "nombre_exposed        259\n",
    "nombre_recovered    17473\n",
    "Name: 230, dtype: int64"
   ]
  },
  {
   "cell_type": "markdown",
   "id": "5341dc5f",
   "metadata": {},
   "source": [
    "nombre_infected       582\n",
    "nombre_sain          1714\n",
    "nombre_exposed        254\n",
    "nombre_recovered    17450\n",
    "Name: 231, dtype: int64"
   ]
  },
  {
   "cell_type": "markdown",
   "id": "c8943946",
   "metadata": {},
   "source": [
    "nombre_infected       566\n",
    "nombre_sain          1744\n",
    "nombre_exposed        255\n",
    "nombre_recovered    17435\n",
    "Name: 232, dtype: int64"
   ]
  },
  {
   "cell_type": "markdown",
   "id": "e475e703",
   "metadata": {},
   "source": [
    "nombre_infected       566\n",
    "nombre_sain          1740\n",
    "nombre_exposed        277\n",
    "nombre_recovered    17417\n",
    "Name: 233, dtype: int64"
   ]
  },
  {
   "cell_type": "markdown",
   "id": "d1875141",
   "metadata": {},
   "source": [
    "nombre_infected       538\n",
    "nombre_sain          1773\n",
    "nombre_exposed        271\n",
    "nombre_recovered    17418\n",
    "Name: 234, dtype: int64"
   ]
  },
  {
   "cell_type": "markdown",
   "id": "6d4c8202",
   "metadata": {},
   "source": [
    "nombre_infected       535\n",
    "nombre_sain          1785\n",
    "nombre_exposed        265\n",
    "nombre_recovered    17415\n",
    "Name: 235, dtype: int64"
   ]
  },
  {
   "cell_type": "markdown",
   "id": "1bb6806f",
   "metadata": {},
   "source": [
    "nombre_infected       530\n",
    "nombre_sain          1789\n",
    "nombre_exposed        266\n",
    "nombre_recovered    17415\n",
    "Name: 236, dtype: int64"
   ]
  },
  {
   "cell_type": "markdown",
   "id": "692551b3",
   "metadata": {},
   "source": [
    "nombre_infected       510\n",
    "nombre_sain          1827\n",
    "nombre_exposed        273\n",
    "nombre_recovered    17390\n",
    "Name: 237, dtype: int64"
   ]
  },
  {
   "cell_type": "markdown",
   "id": "00478691",
   "metadata": {},
   "source": [
    "nombre_infected       504\n",
    "nombre_sain          1850\n",
    "nombre_exposed        267\n",
    "nombre_recovered    17379\n",
    "Name: 238, dtype: int64"
   ]
  },
  {
   "cell_type": "markdown",
   "id": "5a25f7f6",
   "metadata": {},
   "source": [
    "nombre_infected       506\n",
    "nombre_sain          1863\n",
    "nombre_exposed        256\n",
    "nombre_recovered    17375\n",
    "Name: 239, dtype: int64"
   ]
  },
  {
   "cell_type": "markdown",
   "id": "eb5642fd",
   "metadata": {},
   "source": [
    "nombre_infected       509\n",
    "nombre_sain          1870\n",
    "nombre_exposed        259\n",
    "nombre_recovered    17362\n",
    "Name: 240, dtype: int64"
   ]
  },
  {
   "cell_type": "markdown",
   "id": "0d75177e",
   "metadata": {},
   "source": [
    "nombre_infected       501\n",
    "nombre_sain          1901\n",
    "nombre_exposed        252\n",
    "nombre_recovered    17346\n",
    "Name: 241, dtype: int64"
   ]
  },
  {
   "cell_type": "markdown",
   "id": "3a8b36a8",
   "metadata": {},
   "source": [
    "nombre_infected       481\n",
    "nombre_sain          1920\n",
    "nombre_exposed        254\n",
    "nombre_recovered    17345\n",
    "Name: 242, dtype: int64"
   ]
  },
  {
   "cell_type": "markdown",
   "id": "cf5f4de0",
   "metadata": {},
   "source": [
    "nombre_infected       459\n",
    "nombre_sain          1941\n",
    "nombre_exposed        254\n",
    "nombre_recovered    17346\n",
    "Name: 243, dtype: int64"
   ]
  },
  {
   "cell_type": "markdown",
   "id": "bad4b2dc",
   "metadata": {},
   "source": [
    "nombre_infected       436\n",
    "nombre_sain          1959\n",
    "nombre_exposed        258\n",
    "nombre_recovered    17347\n",
    "Name: 244, dtype: int64"
   ]
  },
  {
   "cell_type": "markdown",
   "id": "777a2cef",
   "metadata": {},
   "source": [
    "nombre_infected       436\n",
    "nombre_sain          1980\n",
    "nombre_exposed        250\n",
    "nombre_recovered    17334\n",
    "Name: 245, dtype: int64"
   ]
  },
  {
   "cell_type": "markdown",
   "id": "56cf97c6",
   "metadata": {},
   "source": [
    "nombre_infected       405\n",
    "nombre_sain          2011\n",
    "nombre_exposed        251\n",
    "nombre_recovered    17333\n",
    "Name: 246, dtype: int64"
   ]
  },
  {
   "cell_type": "markdown",
   "id": "857e1258",
   "metadata": {},
   "source": [
    "nombre_infected       404\n",
    "nombre_sain          2028\n",
    "nombre_exposed        251\n",
    "nombre_recovered    17317\n",
    "Name: 247, dtype: int64"
   ]
  },
  {
   "cell_type": "markdown",
   "id": "65b10ec5",
   "metadata": {},
   "source": [
    "nombre_infected       411\n",
    "nombre_sain          2069\n",
    "nombre_exposed        251\n",
    "nombre_recovered    17269\n",
    "Name: 248, dtype: int64"
   ]
  },
  {
   "cell_type": "markdown",
   "id": "b89219d9",
   "metadata": {},
   "source": [
    "nombre_infected       407\n",
    "nombre_sain          2103\n",
    "nombre_exposed        247\n",
    "nombre_recovered    17243\n",
    "Name: 249, dtype: int64"
   ]
  },
  {
   "cell_type": "markdown",
   "id": "084d60b5",
   "metadata": {},
   "source": [
    "nombre_infected       404\n",
    "nombre_sain          2120\n",
    "nombre_exposed        252\n",
    "nombre_recovered    17224\n",
    "Name: 250, dtype: int64"
   ]
  },
  {
   "cell_type": "markdown",
   "id": "038295cb",
   "metadata": {},
   "source": [
    "nombre_infected       396\n",
    "nombre_sain          2173\n",
    "nombre_exposed        248\n",
    "nombre_recovered    17183\n",
    "Name: 251, dtype: int64"
   ]
  },
  {
   "cell_type": "markdown",
   "id": "4cbaa75d",
   "metadata": {},
   "source": [
    "nombre_infected       408\n",
    "nombre_sain          2207\n",
    "nombre_exposed        252\n",
    "nombre_recovered    17133\n",
    "Name: 252, dtype: int64"
   ]
  },
  {
   "cell_type": "markdown",
   "id": "03436369",
   "metadata": {},
   "source": [
    "nombre_infected       388\n",
    "nombre_sain          2280\n",
    "nombre_exposed        249\n",
    "nombre_recovered    17083\n",
    "Name: 253, dtype: int64"
   ]
  },
  {
   "cell_type": "markdown",
   "id": "f6726584",
   "metadata": {},
   "source": [
    "nombre_infected       384\n",
    "nombre_sain          2342\n",
    "nombre_exposed        241\n",
    "nombre_recovered    17033\n",
    "Name: 254, dtype: int64"
   ]
  },
  {
   "cell_type": "markdown",
   "id": "6d464486",
   "metadata": {},
   "source": [
    "nombre_infected       376\n",
    "nombre_sain          2412\n",
    "nombre_exposed        253\n",
    "nombre_recovered    16959\n",
    "Name: 255, dtype: int64"
   ]
  },
  {
   "cell_type": "markdown",
   "id": "55915c79",
   "metadata": {},
   "source": [
    "nombre_infected       385\n",
    "nombre_sain          2457\n",
    "nombre_exposed        244\n",
    "nombre_recovered    16914\n",
    "Name: 256, dtype: int64"
   ]
  },
  {
   "cell_type": "markdown",
   "id": "7ea40964",
   "metadata": {},
   "source": [
    "nombre_infected       399\n",
    "nombre_sain          2496\n",
    "nombre_exposed        250\n",
    "nombre_recovered    16855\n",
    "Name: 257, dtype: int64"
   ]
  },
  {
   "cell_type": "markdown",
   "id": "adda3791",
   "metadata": {},
   "source": [
    "nombre_infected       388\n",
    "nombre_sain          2568\n",
    "nombre_exposed        262\n",
    "nombre_recovered    16782\n",
    "Name: 258, dtype: int64"
   ]
  },
  {
   "cell_type": "markdown",
   "id": "98824401",
   "metadata": {},
   "source": [
    "nombre_infected       399\n",
    "nombre_sain          2600\n",
    "nombre_exposed        267\n",
    "nombre_recovered    16734\n",
    "Name: 259, dtype: int64"
   ]
  },
  {
   "cell_type": "markdown",
   "id": "f8a8d0dd",
   "metadata": {},
   "source": [
    "nombre_infected       406\n",
    "nombre_sain          2642\n",
    "nombre_exposed        295\n",
    "nombre_recovered    16657\n",
    "Name: 260, dtype: int64"
   ]
  },
  {
   "cell_type": "markdown",
   "id": "47473c63",
   "metadata": {},
   "source": [
    "nombre_infected       419\n",
    "nombre_sain          2704\n",
    "nombre_exposed        295\n",
    "nombre_recovered    16582\n",
    "Name: 261, dtype: int64"
   ]
  },
  {
   "cell_type": "markdown",
   "id": "657c4f69",
   "metadata": {},
   "source": [
    "nombre_infected       425\n",
    "nombre_sain          2747\n",
    "nombre_exposed        313\n",
    "nombre_recovered    16515\n",
    "Name: 262, dtype: int64"
   ]
  },
  {
   "cell_type": "markdown",
   "id": "b323af6a",
   "metadata": {},
   "source": [
    "nombre_infected       453\n",
    "nombre_sain          2799\n",
    "nombre_exposed        315\n",
    "nombre_recovered    16433\n",
    "Name: 263, dtype: int64"
   ]
  },
  {
   "cell_type": "markdown",
   "id": "cd953cb9",
   "metadata": {},
   "source": [
    "nombre_infected       452\n",
    "nombre_sain          2849\n",
    "nombre_exposed        320\n",
    "nombre_recovered    16379\n",
    "Name: 264, dtype: int64"
   ]
  },
  {
   "cell_type": "markdown",
   "id": "a83a8b60",
   "metadata": {},
   "source": [
    "nombre_infected       460\n",
    "nombre_sain          2918\n",
    "nombre_exposed        321\n",
    "nombre_recovered    16301\n",
    "Name: 265, dtype: int64"
   ]
  },
  {
   "cell_type": "markdown",
   "id": "ff1271b4",
   "metadata": {},
   "source": [
    "nombre_infected       471\n",
    "nombre_sain          2967\n",
    "nombre_exposed        329\n",
    "nombre_recovered    16233\n",
    "Name: 266, dtype: int64"
   ]
  },
  {
   "cell_type": "markdown",
   "id": "6a186b12",
   "metadata": {},
   "source": [
    "nombre_infected       483\n",
    "nombre_sain          2991\n",
    "nombre_exposed        342\n",
    "nombre_recovered    16184\n",
    "Name: 267, dtype: int64"
   ]
  },
  {
   "cell_type": "markdown",
   "id": "aa29a198",
   "metadata": {},
   "source": [
    "nombre_infected       498\n",
    "nombre_sain          3033\n",
    "nombre_exposed        341\n",
    "nombre_recovered    16128\n",
    "Name: 268, dtype: int64"
   ]
  },
  {
   "cell_type": "markdown",
   "id": "d8da65ce",
   "metadata": {},
   "source": [
    "nombre_infected       505\n",
    "nombre_sain          3052\n",
    "nombre_exposed        352\n",
    "nombre_recovered    16091\n",
    "Name: 269, dtype: int64"
   ]
  },
  {
   "cell_type": "markdown",
   "id": "1c72baad",
   "metadata": {},
   "source": [
    "nombre_infected       500\n",
    "nombre_sain          3089\n",
    "nombre_exposed        360\n",
    "nombre_recovered    16051\n",
    "Name: 270, dtype: int64"
   ]
  },
  {
   "cell_type": "markdown",
   "id": "a8919af9",
   "metadata": {},
   "source": [
    "nombre_infected       533\n",
    "nombre_sain          3120\n",
    "nombre_exposed        360\n",
    "nombre_recovered    15987\n",
    "Name: 271, dtype: int64"
   ]
  },
  {
   "cell_type": "markdown",
   "id": "9db143c9",
   "metadata": {},
   "source": [
    "nombre_infected       552\n",
    "nombre_sain          3119\n",
    "nombre_exposed        373\n",
    "nombre_recovered    15956\n",
    "Name: 272, dtype: int64"
   ]
  },
  {
   "cell_type": "markdown",
   "id": "96d77b88",
   "metadata": {},
   "source": [
    "nombre_infected       572\n",
    "nombre_sain          3126\n",
    "nombre_exposed        386\n",
    "nombre_recovered    15916\n",
    "Name: 273, dtype: int64"
   ]
  },
  {
   "cell_type": "markdown",
   "id": "7a450953",
   "metadata": {},
   "source": [
    "nombre_infected       558\n",
    "nombre_sain          3109\n",
    "nombre_exposed        432\n",
    "nombre_recovered    15901\n",
    "Name: 274, dtype: int64"
   ]
  },
  {
   "cell_type": "markdown",
   "id": "f31b53fb",
   "metadata": {},
   "source": [
    "nombre_infected       572\n",
    "nombre_sain          3100\n",
    "nombre_exposed        441\n",
    "nombre_recovered    15887\n",
    "Name: 275, dtype: int64"
   ]
  },
  {
   "cell_type": "markdown",
   "id": "d124f970",
   "metadata": {},
   "source": [
    "nombre_infected       598\n",
    "nombre_sain          3092\n",
    "nombre_exposed        446\n",
    "nombre_recovered    15864\n",
    "Name: 276, dtype: int64"
   ]
  },
  {
   "cell_type": "markdown",
   "id": "41f03aae",
   "metadata": {},
   "source": [
    "nombre_infected       610\n",
    "nombre_sain          3078\n",
    "nombre_exposed        466\n",
    "nombre_recovered    15846\n",
    "Name: 277, dtype: int64"
   ]
  },
  {
   "cell_type": "markdown",
   "id": "b19ecb52",
   "metadata": {},
   "source": [
    "nombre_infected       654\n",
    "nombre_sain          3084\n",
    "nombre_exposed        464\n",
    "nombre_recovered    15798\n",
    "Name: 278, dtype: int64"
   ]
  },
  {
   "cell_type": "markdown",
   "id": "6e497bc1",
   "metadata": {},
   "source": [
    "nombre_infected       664\n",
    "nombre_sain          3059\n",
    "nombre_exposed        475\n",
    "nombre_recovered    15802\n",
    "Name: 279, dtype: int64"
   ]
  },
  {
   "cell_type": "markdown",
   "id": "b8311cc0",
   "metadata": {},
   "source": [
    "nombre_infected       695\n",
    "nombre_sain          3036\n",
    "nombre_exposed        507\n",
    "nombre_recovered    15762\n",
    "Name: 280, dtype: int64"
   ]
  },
  {
   "cell_type": "markdown",
   "id": "418ac3f2",
   "metadata": {},
   "source": [
    "nombre_infected       714\n",
    "nombre_sain          3025\n",
    "nombre_exposed        520\n",
    "nombre_recovered    15741\n",
    "Name: 281, dtype: int64"
   ]
  },
  {
   "cell_type": "markdown",
   "id": "f95e5432",
   "metadata": {},
   "source": [
    "nombre_infected       724\n",
    "nombre_sain          2987\n",
    "nombre_exposed        556\n",
    "nombre_recovered    15733\n",
    "Name: 282, dtype: int64"
   ]
  },
  {
   "cell_type": "markdown",
   "id": "cda9afef",
   "metadata": {},
   "source": [
    "nombre_infected       778\n",
    "nombre_sain          2931\n",
    "nombre_exposed        572\n",
    "nombre_recovered    15719\n",
    "Name: 283, dtype: int64"
   ]
  },
  {
   "cell_type": "markdown",
   "id": "00065a7b",
   "metadata": {},
   "source": [
    "nombre_infected       799\n",
    "nombre_sain          2874\n",
    "nombre_exposed        593\n",
    "nombre_recovered    15734\n",
    "Name: 284, dtype: int64"
   ]
  },
  {
   "cell_type": "markdown",
   "id": "79d9cb8d",
   "metadata": {},
   "source": [
    "nombre_infected       838\n",
    "nombre_sain          2827\n",
    "nombre_exposed        591\n",
    "nombre_recovered    15744\n",
    "Name: 285, dtype: int64"
   ]
  },
  {
   "cell_type": "markdown",
   "id": "1932f813",
   "metadata": {},
   "source": [
    "nombre_infected       841\n",
    "nombre_sain          2796\n",
    "nombre_exposed        606\n",
    "nombre_recovered    15757\n",
    "Name: 286, dtype: int64"
   ]
  },
  {
   "cell_type": "markdown",
   "id": "d98a4b86",
   "metadata": {},
   "source": [
    "nombre_infected       873\n",
    "nombre_sain          2751\n",
    "nombre_exposed        607\n",
    "nombre_recovered    15769\n",
    "Name: 287, dtype: int64"
   ]
  },
  {
   "cell_type": "markdown",
   "id": "6b7d3b71",
   "metadata": {},
   "source": [
    "nombre_infected       895\n",
    "nombre_sain          2705\n",
    "nombre_exposed        619\n",
    "nombre_recovered    15781\n",
    "Name: 288, dtype: int64"
   ]
  },
  {
   "cell_type": "markdown",
   "id": "b9a321fe",
   "metadata": {},
   "source": [
    "nombre_infected       912\n",
    "nombre_sain          2656\n",
    "nombre_exposed        630\n",
    "nombre_recovered    15802\n",
    "Name: 289, dtype: int64"
   ]
  },
  {
   "cell_type": "markdown",
   "id": "b0e018c8",
   "metadata": {},
   "source": [
    "nombre_infected       943\n",
    "nombre_sain          2591\n",
    "nombre_exposed        659\n",
    "nombre_recovered    15807\n",
    "Name: 290, dtype: int64"
   ]
  },
  {
   "cell_type": "markdown",
   "id": "1ed06d77",
   "metadata": {},
   "source": [
    "nombre_infected       960\n",
    "nombre_sain          2548\n",
    "nombre_exposed        662\n",
    "nombre_recovered    15830\n",
    "Name: 291, dtype: int64"
   ]
  },
  {
   "cell_type": "markdown",
   "id": "8fa816d1",
   "metadata": {},
   "source": [
    "nombre_infected       958\n",
    "nombre_sain          2506\n",
    "nombre_exposed        668\n",
    "nombre_recovered    15868\n",
    "Name: 292, dtype: int64"
   ]
  },
  {
   "cell_type": "markdown",
   "id": "f6b346a3",
   "metadata": {},
   "source": [
    "nombre_infected      1010\n",
    "nombre_sain          2454\n",
    "nombre_exposed        676\n",
    "nombre_recovered    15860\n",
    "Name: 293, dtype: int64"
   ]
  },
  {
   "cell_type": "markdown",
   "id": "85225cf8",
   "metadata": {},
   "source": [
    "nombre_infected      1053\n",
    "nombre_sain          2396\n",
    "nombre_exposed        646\n",
    "nombre_recovered    15905\n",
    "Name: 294, dtype: int64"
   ]
  },
  {
   "cell_type": "markdown",
   "id": "7513bc37",
   "metadata": {},
   "source": [
    "nombre_infected      1069\n",
    "nombre_sain          2357\n",
    "nombre_exposed        632\n",
    "nombre_recovered    15942\n",
    "Name: 295, dtype: int64"
   ]
  },
  {
   "cell_type": "markdown",
   "id": "abfa326b",
   "metadata": {},
   "source": [
    "nombre_infected      1066\n",
    "nombre_sain          2288\n",
    "nombre_exposed        658\n",
    "nombre_recovered    15988\n",
    "Name: 296, dtype: int64"
   ]
  },
  {
   "cell_type": "markdown",
   "id": "91934ab2",
   "metadata": {},
   "source": [
    "nombre_infected      1067\n",
    "nombre_sain          2265\n",
    "nombre_exposed        645\n",
    "nombre_recovered    16023\n",
    "Name: 297, dtype: int64"
   ]
  },
  {
   "cell_type": "markdown",
   "id": "26ca3226",
   "metadata": {},
   "source": [
    "nombre_infected      1061\n",
    "nombre_sain          2229\n",
    "nombre_exposed        631\n",
    "nombre_recovered    16079\n",
    "Name: 298, dtype: int64"
   ]
  },
  {
   "cell_type": "markdown",
   "id": "6a640f09",
   "metadata": {},
   "source": [
    "nombre_infected      1070\n",
    "nombre_sain          2181\n",
    "nombre_exposed        648\n",
    "nombre_recovered    16101\n",
    "Name: 299, dtype: int64"
   ]
  },
  {
   "cell_type": "markdown",
   "id": "758a74ff",
   "metadata": {},
   "source": [
    "nombre_infected      1058\n",
    "nombre_sain          2179\n",
    "nombre_exposed        624\n",
    "nombre_recovered    16139\n",
    "Name: 300, dtype: int64"
   ]
  },
  {
   "cell_type": "markdown",
   "id": "d49e3f49",
   "metadata": {},
   "source": [
    "nombre_infected      1073\n",
    "nombre_sain          2136\n",
    "nombre_exposed        614\n",
    "nombre_recovered    16177\n",
    "Name: 301, dtype: int64"
   ]
  },
  {
   "cell_type": "markdown",
   "id": "e7544e12",
   "metadata": {},
   "source": [
    "nombre_infected      1082\n",
    "nombre_sain          2105\n",
    "nombre_exposed        624\n",
    "nombre_recovered    16189\n",
    "Name: 302, dtype: int64"
   ]
  },
  {
   "cell_type": "markdown",
   "id": "23ee6a95",
   "metadata": {},
   "source": [
    "nombre_infected      1071\n",
    "nombre_sain          2061\n",
    "nombre_exposed        637\n",
    "nombre_recovered    16231\n",
    "Name: 303, dtype: int64"
   ]
  },
  {
   "cell_type": "markdown",
   "id": "4d64dab2",
   "metadata": {},
   "source": [
    "nombre_infected      1055\n",
    "nombre_sain          2039\n",
    "nombre_exposed        645\n",
    "nombre_recovered    16261\n",
    "Name: 304, dtype: int64"
   ]
  },
  {
   "cell_type": "markdown",
   "id": "edd1ff4c",
   "metadata": {},
   "source": [
    "nombre_infected      1062\n",
    "nombre_sain          2013\n",
    "nombre_exposed        635\n",
    "nombre_recovered    16290\n",
    "Name: 305, dtype: int64"
   ]
  },
  {
   "cell_type": "markdown",
   "id": "7953f2ea",
   "metadata": {},
   "source": [
    "nombre_infected      1072\n",
    "nombre_sain          1967\n",
    "nombre_exposed        631\n",
    "nombre_recovered    16330\n",
    "Name: 306, dtype: int64"
   ]
  },
  {
   "cell_type": "markdown",
   "id": "a67ea3da",
   "metadata": {},
   "source": [
    "nombre_infected      1082\n",
    "nombre_sain          1973\n",
    "nombre_exposed        613\n",
    "nombre_recovered    16332\n",
    "Name: 307, dtype: int64"
   ]
  },
  {
   "cell_type": "markdown",
   "id": "8c468afe",
   "metadata": {},
   "source": [
    "nombre_infected      1108\n",
    "nombre_sain          1967\n",
    "nombre_exposed        573\n",
    "nombre_recovered    16352\n",
    "Name: 308, dtype: int64"
   ]
  },
  {
   "cell_type": "markdown",
   "id": "d4ba6a3e",
   "metadata": {},
   "source": [
    "nombre_infected      1105\n",
    "nombre_sain          1942\n",
    "nombre_exposed        571\n",
    "nombre_recovered    16382\n",
    "Name: 309, dtype: int64"
   ]
  },
  {
   "cell_type": "markdown",
   "id": "5bddfd5d",
   "metadata": {},
   "source": [
    "nombre_infected      1109\n",
    "nombre_sain          1921\n",
    "nombre_exposed        560\n",
    "nombre_recovered    16410\n",
    "Name: 310, dtype: int64"
   ]
  },
  {
   "cell_type": "markdown",
   "id": "d870e69d",
   "metadata": {},
   "source": [
    "nombre_infected      1108\n",
    "nombre_sain          1924\n",
    "nombre_exposed        541\n",
    "nombre_recovered    16427\n",
    "Name: 311, dtype: int64"
   ]
  },
  {
   "cell_type": "markdown",
   "id": "2b410d0f",
   "metadata": {},
   "source": [
    "nombre_infected      1123\n",
    "nombre_sain          1890\n",
    "nombre_exposed        526\n",
    "nombre_recovered    16461\n",
    "Name: 312, dtype: int64"
   ]
  },
  {
   "cell_type": "markdown",
   "id": "6dfd9db6",
   "metadata": {},
   "source": [
    "nombre_infected      1112\n",
    "nombre_sain          1886\n",
    "nombre_exposed        517\n",
    "nombre_recovered    16485\n",
    "Name: 313, dtype: int64"
   ]
  },
  {
   "cell_type": "markdown",
   "id": "2a8bdd97",
   "metadata": {},
   "source": [
    "nombre_infected      1096\n",
    "nombre_sain          1885\n",
    "nombre_exposed        513\n",
    "nombre_recovered    16506\n",
    "Name: 314, dtype: int64"
   ]
  },
  {
   "cell_type": "markdown",
   "id": "e07286b0",
   "metadata": {},
   "source": [
    "nombre_infected      1068\n",
    "nombre_sain          1860\n",
    "nombre_exposed        502\n",
    "nombre_recovered    16570\n",
    "Name: 315, dtype: int64"
   ]
  },
  {
   "cell_type": "markdown",
   "id": "2993d3b7",
   "metadata": {},
   "source": [
    "nombre_infected      1041\n",
    "nombre_sain          1828\n",
    "nombre_exposed        518\n",
    "nombre_recovered    16613\n",
    "Name: 316, dtype: int64"
   ]
  },
  {
   "cell_type": "markdown",
   "id": "ae3b2781",
   "metadata": {},
   "source": [
    "nombre_infected      1021\n",
    "nombre_sain          1824\n",
    "nombre_exposed        498\n",
    "nombre_recovered    16657\n",
    "Name: 317, dtype: int64"
   ]
  },
  {
   "cell_type": "markdown",
   "id": "4435fb4e",
   "metadata": {},
   "source": [
    "nombre_infected      1031\n",
    "nombre_sain          1820\n",
    "nombre_exposed        474\n",
    "nombre_recovered    16675\n",
    "Name: 318, dtype: int64"
   ]
  },
  {
   "cell_type": "markdown",
   "id": "a85fa900",
   "metadata": {},
   "source": [
    "nombre_infected      1025\n",
    "nombre_sain          1798\n",
    "nombre_exposed        469\n",
    "nombre_recovered    16708\n",
    "Name: 319, dtype: int64"
   ]
  },
  {
   "cell_type": "markdown",
   "id": "29d1785a",
   "metadata": {},
   "source": [
    "nombre_infected      1008\n",
    "nombre_sain          1787\n",
    "nombre_exposed        469\n",
    "nombre_recovered    16736\n",
    "Name: 320, dtype: int64"
   ]
  },
  {
   "cell_type": "markdown",
   "id": "2bc4f6c5",
   "metadata": {},
   "source": [
    "nombre_infected       988\n",
    "nombre_sain          1760\n",
    "nombre_exposed        474\n",
    "nombre_recovered    16778\n",
    "Name: 321, dtype: int64"
   ]
  },
  {
   "cell_type": "markdown",
   "id": "422115eb",
   "metadata": {},
   "source": [
    "nombre_infected       993\n",
    "nombre_sain          1724\n",
    "nombre_exposed        476\n",
    "nombre_recovered    16807\n",
    "Name: 322, dtype: int64"
   ]
  },
  {
   "cell_type": "markdown",
   "id": "730d2b31",
   "metadata": {},
   "source": [
    "nombre_infected       990\n",
    "nombre_sain          1714\n",
    "nombre_exposed        470\n",
    "nombre_recovered    16826\n",
    "Name: 323, dtype: int64"
   ]
  },
  {
   "cell_type": "markdown",
   "id": "f5e4cdf2",
   "metadata": {},
   "source": [
    "nombre_infected       974\n",
    "nombre_sain          1699\n",
    "nombre_exposed        456\n",
    "nombre_recovered    16871\n",
    "Name: 324, dtype: int64"
   ]
  },
  {
   "cell_type": "markdown",
   "id": "895473ab",
   "metadata": {},
   "source": [
    "nombre_infected       952\n",
    "nombre_sain          1672\n",
    "nombre_exposed        440\n",
    "nombre_recovered    16936\n",
    "Name: 325, dtype: int64"
   ]
  },
  {
   "cell_type": "markdown",
   "id": "63a0e38a",
   "metadata": {},
   "source": [
    "nombre_infected       932\n",
    "nombre_sain          1664\n",
    "nombre_exposed        444\n",
    "nombre_recovered    16960\n",
    "Name: 326, dtype: int64"
   ]
  },
  {
   "cell_type": "markdown",
   "id": "f94f5579",
   "metadata": {},
   "source": [
    "nombre_infected       911\n",
    "nombre_sain          1673\n",
    "nombre_exposed        425\n",
    "nombre_recovered    16991\n",
    "Name: 327, dtype: int64"
   ]
  },
  {
   "cell_type": "markdown",
   "id": "bdd8beb5",
   "metadata": {},
   "source": [
    "nombre_infected       875\n",
    "nombre_sain          1688\n",
    "nombre_exposed        404\n",
    "nombre_recovered    17033\n",
    "Name: 328, dtype: int64"
   ]
  },
  {
   "cell_type": "markdown",
   "id": "895856fa",
   "metadata": {},
   "source": [
    "nombre_infected       847\n",
    "nombre_sain          1709\n",
    "nombre_exposed        400\n",
    "nombre_recovered    17044\n",
    "Name: 329, dtype: int64"
   ]
  },
  {
   "cell_type": "markdown",
   "id": "699c04e9",
   "metadata": {},
   "source": [
    "nombre_infected       815\n",
    "nombre_sain          1720\n",
    "nombre_exposed        396\n",
    "nombre_recovered    17069\n",
    "Name: 330, dtype: int64"
   ]
  },
  {
   "cell_type": "markdown",
   "id": "ad2602d8",
   "metadata": {},
   "source": [
    "nombre_infected       802\n",
    "nombre_sain          1729\n",
    "nombre_exposed        381\n",
    "nombre_recovered    17088\n",
    "Name: 331, dtype: int64"
   ]
  },
  {
   "cell_type": "markdown",
   "id": "bd469912",
   "metadata": {},
   "source": [
    "nombre_infected       786\n",
    "nombre_sain          1756\n",
    "nombre_exposed        367\n",
    "nombre_recovered    17091\n",
    "Name: 332, dtype: int64"
   ]
  },
  {
   "cell_type": "markdown",
   "id": "2a1094e9",
   "metadata": {},
   "source": [
    "nombre_infected       771\n",
    "nombre_sain          1794\n",
    "nombre_exposed        350\n",
    "nombre_recovered    17085\n",
    "Name: 333, dtype: int64"
   ]
  },
  {
   "cell_type": "markdown",
   "id": "b831b484",
   "metadata": {},
   "source": [
    "nombre_infected       747\n",
    "nombre_sain          1833\n",
    "nombre_exposed        360\n",
    "nombre_recovered    17060\n",
    "Name: 334, dtype: int64"
   ]
  },
  {
   "cell_type": "markdown",
   "id": "82ba775e",
   "metadata": {},
   "source": [
    "nombre_infected       718\n",
    "nombre_sain          1873\n",
    "nombre_exposed        354\n",
    "nombre_recovered    17055\n",
    "Name: 335, dtype: int64"
   ]
  },
  {
   "cell_type": "markdown",
   "id": "b86f6588",
   "metadata": {},
   "source": [
    "nombre_infected       682\n",
    "nombre_sain          1920\n",
    "nombre_exposed        333\n",
    "nombre_recovered    17065\n",
    "Name: 336, dtype: int64"
   ]
  },
  {
   "cell_type": "markdown",
   "id": "09db828b",
   "metadata": {},
   "source": [
    "nombre_infected       670\n",
    "nombre_sain          1977\n",
    "nombre_exposed        317\n",
    "nombre_recovered    17036\n",
    "Name: 337, dtype: int64"
   ]
  },
  {
   "cell_type": "markdown",
   "id": "8300df48",
   "metadata": {},
   "source": [
    "nombre_infected       658\n",
    "nombre_sain          2011\n",
    "nombre_exposed        313\n",
    "nombre_recovered    17018\n",
    "Name: 338, dtype: int64"
   ]
  },
  {
   "cell_type": "markdown",
   "id": "d32e78de",
   "metadata": {},
   "source": [
    "nombre_infected       625\n",
    "nombre_sain          2074\n",
    "nombre_exposed        311\n",
    "nombre_recovered    16990\n",
    "Name: 339, dtype: int64"
   ]
  },
  {
   "cell_type": "markdown",
   "id": "6e7781ab",
   "metadata": {},
   "source": [
    "nombre_infected       627\n",
    "nombre_sain          2090\n",
    "nombre_exposed        331\n",
    "nombre_recovered    16952\n",
    "Name: 340, dtype: int64"
   ]
  },
  {
   "cell_type": "markdown",
   "id": "7f8634de",
   "metadata": {},
   "source": [
    "nombre_infected       620\n",
    "nombre_sain          2132\n",
    "nombre_exposed        328\n",
    "nombre_recovered    16920\n",
    "Name: 341, dtype: int64"
   ]
  },
  {
   "cell_type": "markdown",
   "id": "43ce03c5",
   "metadata": {},
   "source": [
    "nombre_infected       613\n",
    "nombre_sain          2184\n",
    "nombre_exposed        341\n",
    "nombre_recovered    16862\n",
    "Name: 342, dtype: int64"
   ]
  },
  {
   "cell_type": "markdown",
   "id": "d381b869",
   "metadata": {},
   "source": [
    "nombre_infected       625\n",
    "nombre_sain          2203\n",
    "nombre_exposed        320\n",
    "nombre_recovered    16852\n",
    "Name: 343, dtype: int64"
   ]
  },
  {
   "cell_type": "markdown",
   "id": "cce372cf",
   "metadata": {},
   "source": [
    "nombre_infected       623\n",
    "nombre_sain          2245\n",
    "nombre_exposed        315\n",
    "nombre_recovered    16817\n",
    "Name: 344, dtype: int64"
   ]
  },
  {
   "cell_type": "markdown",
   "id": "9c3a366e",
   "metadata": {},
   "source": [
    "nombre_infected       606\n",
    "nombre_sain          2273\n",
    "nombre_exposed        319\n",
    "nombre_recovered    16802\n",
    "Name: 345, dtype: int64"
   ]
  },
  {
   "cell_type": "markdown",
   "id": "56b433cd",
   "metadata": {},
   "source": [
    "nombre_infected       605\n",
    "nombre_sain          2290\n",
    "nombre_exposed        327\n",
    "nombre_recovered    16778\n",
    "Name: 346, dtype: int64"
   ]
  },
  {
   "cell_type": "markdown",
   "id": "4bc35e61",
   "metadata": {},
   "source": [
    "nombre_infected       596\n",
    "nombre_sain          2325\n",
    "nombre_exposed        356\n",
    "nombre_recovered    16723\n",
    "Name: 347, dtype: int64"
   ]
  },
  {
   "cell_type": "markdown",
   "id": "33426a09",
   "metadata": {},
   "source": [
    "nombre_infected       591\n",
    "nombre_sain          2342\n",
    "nombre_exposed        358\n",
    "nombre_recovered    16709\n",
    "Name: 348, dtype: int64"
   ]
  },
  {
   "cell_type": "markdown",
   "id": "efa4a23f",
   "metadata": {},
   "source": [
    "nombre_infected       592\n",
    "nombre_sain          2365\n",
    "nombre_exposed        369\n",
    "nombre_recovered    16674\n",
    "Name: 349, dtype: int64"
   ]
  },
  {
   "cell_type": "markdown",
   "id": "d8eaf9a9",
   "metadata": {},
   "source": [
    "nombre_infected       613\n",
    "nombre_sain          2382\n",
    "nombre_exposed        360\n",
    "nombre_recovered    16645\n",
    "Name: 350, dtype: int64"
   ]
  },
  {
   "cell_type": "markdown",
   "id": "96365fae",
   "metadata": {},
   "source": [
    "nombre_infected       611\n",
    "nombre_sain          2399\n",
    "nombre_exposed        357\n",
    "nombre_recovered    16633\n",
    "Name: 351, dtype: int64"
   ]
  },
  {
   "cell_type": "markdown",
   "id": "0ac8ecbd",
   "metadata": {},
   "source": [
    "nombre_infected       601\n",
    "nombre_sain          2428\n",
    "nombre_exposed        352\n",
    "nombre_recovered    16619\n",
    "Name: 352, dtype: int64"
   ]
  },
  {
   "cell_type": "markdown",
   "id": "db9661d2",
   "metadata": {},
   "source": [
    "nombre_infected       591\n",
    "nombre_sain          2474\n",
    "nombre_exposed        369\n",
    "nombre_recovered    16566\n",
    "Name: 353, dtype: int64"
   ]
  },
  {
   "cell_type": "markdown",
   "id": "426038b7",
   "metadata": {},
   "source": [
    "nombre_infected       581\n",
    "nombre_sain          2476\n",
    "nombre_exposed        385\n",
    "nombre_recovered    16558\n",
    "Name: 354, dtype: int64"
   ]
  },
  {
   "cell_type": "markdown",
   "id": "f7ca5abb",
   "metadata": {},
   "source": [
    "nombre_infected       586\n",
    "nombre_sain          2496\n",
    "nombre_exposed        379\n",
    "nombre_recovered    16539\n",
    "Name: 355, dtype: int64"
   ]
  },
  {
   "cell_type": "markdown",
   "id": "a929439e",
   "metadata": {},
   "source": [
    "nombre_infected       608\n",
    "nombre_sain          2525\n",
    "nombre_exposed        361\n",
    "nombre_recovered    16506\n",
    "Name: 356, dtype: int64"
   ]
  },
  {
   "cell_type": "markdown",
   "id": "088f2513",
   "metadata": {},
   "source": [
    "nombre_infected       611\n",
    "nombre_sain          2523\n",
    "nombre_exposed        362\n",
    "nombre_recovered    16504\n",
    "Name: 357, dtype: int64"
   ]
  },
  {
   "cell_type": "markdown",
   "id": "0ca919b5",
   "metadata": {},
   "source": [
    "nombre_infected       592\n",
    "nombre_sain          2505\n",
    "nombre_exposed        403\n",
    "nombre_recovered    16500\n",
    "Name: 358, dtype: int64"
   ]
  },
  {
   "cell_type": "markdown",
   "id": "04ed3ddb",
   "metadata": {},
   "source": [
    "nombre_infected       620\n",
    "nombre_sain          2530\n",
    "nombre_exposed        391\n",
    "nombre_recovered    16459\n",
    "Name: 359, dtype: int64"
   ]
  },
  {
   "cell_type": "markdown",
   "id": "798a1011",
   "metadata": {},
   "source": [
    "nombre_infected       628\n",
    "nombre_sain          2534\n",
    "nombre_exposed        405\n",
    "nombre_recovered    16433\n",
    "Name: 360, dtype: int64"
   ]
  },
  {
   "cell_type": "markdown",
   "id": "dcd2c47d",
   "metadata": {},
   "source": [
    "nombre_infected       656\n",
    "nombre_sain          2549\n",
    "nombre_exposed        381\n",
    "nombre_recovered    16414\n",
    "Name: 361, dtype: int64"
   ]
  },
  {
   "cell_type": "markdown",
   "id": "e6e36cc8",
   "metadata": {},
   "source": [
    "nombre_infected       644\n",
    "nombre_sain          2585\n",
    "nombre_exposed        403\n",
    "nombre_recovered    16368\n",
    "Name: 362, dtype: int64"
   ]
  },
  {
   "cell_type": "markdown",
   "id": "e65fc26e",
   "metadata": {},
   "source": [
    "nombre_infected       655\n",
    "nombre_sain          2620\n",
    "nombre_exposed        391\n",
    "nombre_recovered    16334\n",
    "Name: 363, dtype: int64"
   ]
  },
  {
   "cell_type": "markdown",
   "id": "7f0e0d1c",
   "metadata": {},
   "source": [
    "nombre_infected       656\n",
    "nombre_sain          2622\n",
    "nombre_exposed        406\n",
    "nombre_recovered    16316\n",
    "Name: 364, dtype: int64"
   ]
  },
  {
   "cell_type": "markdown",
   "id": "bb2ecadd",
   "metadata": {},
   "source": [
    "nombre_infected       666\n",
    "nombre_sain          2655\n",
    "nombre_exposed        399\n",
    "nombre_recovered    16280\n",
    "Name: 365, dtype: int64"
   ]
  },
  {
   "cell_type": "markdown",
   "id": "e284feaa",
   "metadata": {},
   "source": [
    "nombre_infected       671\n",
    "nombre_sain          2692\n",
    "nombre_exposed        409\n",
    "nombre_recovered    16228\n",
    "Name: 366, dtype: int64"
   ]
  },
  {
   "cell_type": "markdown",
   "id": "a7d1b680",
   "metadata": {},
   "source": [
    "nombre_infected       673\n",
    "nombre_sain          2723\n",
    "nombre_exposed        407\n",
    "nombre_recovered    16197\n",
    "Name: 367, dtype: int64"
   ]
  },
  {
   "cell_type": "markdown",
   "id": "d0ae85ad",
   "metadata": {},
   "source": [
    "nombre_infected       651\n",
    "nombre_sain          2745\n",
    "nombre_exposed        433\n",
    "nombre_recovered    16171\n",
    "Name: 368, dtype: int64"
   ]
  },
  {
   "cell_type": "markdown",
   "id": "86f8f165",
   "metadata": {},
   "source": [
    "nombre_infected       670\n",
    "nombre_sain          2775\n",
    "nombre_exposed        429\n",
    "nombre_recovered    16126\n",
    "Name: 369, dtype: int64"
   ]
  },
  {
   "cell_type": "markdown",
   "id": "4fe8ad2b",
   "metadata": {},
   "source": [
    "nombre_infected       667\n",
    "nombre_sain          2797\n",
    "nombre_exposed        455\n",
    "nombre_recovered    16081\n",
    "Name: 370, dtype: int64"
   ]
  },
  {
   "cell_type": "markdown",
   "id": "fd38a396",
   "metadata": {},
   "source": [
    "nombre_infected       677\n",
    "nombre_sain          2791\n",
    "nombre_exposed        466\n",
    "nombre_recovered    16066\n",
    "Name: 371, dtype: int64"
   ]
  },
  {
   "cell_type": "markdown",
   "id": "9a12ad8c",
   "metadata": {},
   "source": [
    "nombre_infected       681\n",
    "nombre_sain          2814\n",
    "nombre_exposed        479\n",
    "nombre_recovered    16026\n",
    "Name: 372, dtype: int64"
   ]
  },
  {
   "cell_type": "markdown",
   "id": "319fafa5",
   "metadata": {},
   "source": [
    "nombre_infected       711\n",
    "nombre_sain          2800\n",
    "nombre_exposed        498\n",
    "nombre_recovered    15991\n",
    "Name: 373, dtype: int64"
   ]
  },
  {
   "cell_type": "markdown",
   "id": "73f234dc",
   "metadata": {},
   "source": [
    "nombre_infected       715\n",
    "nombre_sain          2848\n",
    "nombre_exposed        512\n",
    "nombre_recovered    15925\n",
    "Name: 374, dtype: int64"
   ]
  },
  {
   "cell_type": "markdown",
   "id": "e150da61",
   "metadata": {},
   "source": [
    "nombre_infected       719\n",
    "nombre_sain          2877\n",
    "nombre_exposed        520\n",
    "nombre_recovered    15884\n",
    "Name: 375, dtype: int64"
   ]
  },
  {
   "cell_type": "markdown",
   "id": "dc8c4f8b",
   "metadata": {},
   "source": [
    "nombre_infected       735\n",
    "nombre_sain          2861\n",
    "nombre_exposed        555\n",
    "nombre_recovered    15849\n",
    "Name: 376, dtype: int64"
   ]
  },
  {
   "cell_type": "markdown",
   "id": "8eb4e8e0",
   "metadata": {},
   "source": [
    "nombre_infected       742\n",
    "nombre_sain          2874\n",
    "nombre_exposed        563\n",
    "nombre_recovered    15821\n",
    "Name: 377, dtype: int64"
   ]
  },
  {
   "cell_type": "markdown",
   "id": "aa701244",
   "metadata": {},
   "source": [
    "nombre_infected       792\n",
    "nombre_sain          2869\n",
    "nombre_exposed        565\n",
    "nombre_recovered    15774\n",
    "Name: 378, dtype: int64"
   ]
  },
  {
   "cell_type": "markdown",
   "id": "b1a64d3e",
   "metadata": {},
   "source": [
    "nombre_infected       827\n",
    "nombre_sain          2871\n",
    "nombre_exposed        581\n",
    "nombre_recovered    15721\n",
    "Name: 379, dtype: int64"
   ]
  },
  {
   "cell_type": "markdown",
   "id": "e71c9581",
   "metadata": {},
   "source": [
    "nombre_infected       828\n",
    "nombre_sain          2858\n",
    "nombre_exposed        600\n",
    "nombre_recovered    15714\n",
    "Name: 380, dtype: int64"
   ]
  },
  {
   "cell_type": "markdown",
   "id": "ee7686e8",
   "metadata": {},
   "source": [
    "nombre_infected       839\n",
    "nombre_sain          2832\n",
    "nombre_exposed        621\n",
    "nombre_recovered    15708\n",
    "Name: 381, dtype: int64"
   ]
  },
  {
   "cell_type": "markdown",
   "id": "f7a1139a",
   "metadata": {},
   "source": [
    "nombre_infected       838\n",
    "nombre_sain          2842\n",
    "nombre_exposed        638\n",
    "nombre_recovered    15682\n",
    "Name: 382, dtype: int64"
   ]
  },
  {
   "cell_type": "markdown",
   "id": "3ae0cf29",
   "metadata": {},
   "source": [
    "nombre_infected       847\n",
    "nombre_sain          2863\n",
    "nombre_exposed        654\n",
    "nombre_recovered    15636\n",
    "Name: 383, dtype: int64"
   ]
  },
  {
   "cell_type": "markdown",
   "id": "995bffab",
   "metadata": {},
   "source": [
    "nombre_infected       864\n",
    "nombre_sain          2851\n",
    "nombre_exposed        676\n",
    "nombre_recovered    15609\n",
    "Name: 384, dtype: int64"
   ]
  },
  {
   "cell_type": "markdown",
   "id": "78af5977",
   "metadata": {},
   "source": [
    "nombre_infected       918\n",
    "nombre_sain          2840\n",
    "nombre_exposed        674\n",
    "nombre_recovered    15568\n",
    "Name: 385, dtype: int64"
   ]
  },
  {
   "cell_type": "markdown",
   "id": "7088fbbd",
   "metadata": {},
   "source": [
    "nombre_infected       946\n",
    "nombre_sain          2818\n",
    "nombre_exposed        692\n",
    "nombre_recovered    15544\n",
    "Name: 386, dtype: int64"
   ]
  },
  {
   "cell_type": "markdown",
   "id": "eca28d4d",
   "metadata": {},
   "source": [
    "nombre_infected       997\n",
    "nombre_sain          2764\n",
    "nombre_exposed        714\n",
    "nombre_recovered    15525\n",
    "Name: 387, dtype: int64"
   ]
  },
  {
   "cell_type": "markdown",
   "id": "aec65d79",
   "metadata": {},
   "source": [
    "nombre_infected      1010\n",
    "nombre_sain          2712\n",
    "nombre_exposed        732\n",
    "nombre_recovered    15546\n",
    "Name: 388, dtype: int64"
   ]
  },
  {
   "cell_type": "markdown",
   "id": "90aadc90",
   "metadata": {},
   "source": [
    "nombre_infected      1036\n",
    "nombre_sain          2669\n",
    "nombre_exposed        726\n",
    "nombre_recovered    15569\n",
    "Name: 389, dtype: int64"
   ]
  },
  {
   "cell_type": "markdown",
   "id": "a67b7ce8",
   "metadata": {},
   "source": [
    "nombre_infected      1065\n",
    "nombre_sain          2622\n",
    "nombre_exposed        734\n",
    "nombre_recovered    15579\n",
    "Name: 390, dtype: int64"
   ]
  },
  {
   "cell_type": "markdown",
   "id": "a3e0dd21",
   "metadata": {},
   "source": [
    "nombre_infected      1095\n",
    "nombre_sain          2582\n",
    "nombre_exposed        751\n",
    "nombre_recovered    15572\n",
    "Name: 391, dtype: int64"
   ]
  },
  {
   "cell_type": "markdown",
   "id": "56ac1d07",
   "metadata": {},
   "source": [
    "nombre_infected      1116\n",
    "nombre_sain          2528\n",
    "nombre_exposed        757\n",
    "nombre_recovered    15599\n",
    "Name: 392, dtype: int64"
   ]
  },
  {
   "cell_type": "markdown",
   "id": "ed133191",
   "metadata": {},
   "source": [
    "nombre_infected      1141\n",
    "nombre_sain          2488\n",
    "nombre_exposed        751\n",
    "nombre_recovered    15620\n",
    "Name: 393, dtype: int64"
   ]
  },
  {
   "cell_type": "markdown",
   "id": "c8850122",
   "metadata": {},
   "source": [
    "nombre_infected      1185\n",
    "nombre_sain          2419\n",
    "nombre_exposed        759\n",
    "nombre_recovered    15637\n",
    "Name: 394, dtype: int64"
   ]
  },
  {
   "cell_type": "markdown",
   "id": "408e4c26",
   "metadata": {},
   "source": [
    "nombre_infected      1186\n",
    "nombre_sain          2340\n",
    "nombre_exposed        801\n",
    "nombre_recovered    15673\n",
    "Name: 395, dtype: int64"
   ]
  },
  {
   "cell_type": "markdown",
   "id": "12dc33ff",
   "metadata": {},
   "source": [
    "nombre_infected      1205\n",
    "nombre_sain          2260\n",
    "nombre_exposed        796\n",
    "nombre_recovered    15739\n",
    "Name: 396, dtype: int64"
   ]
  },
  {
   "cell_type": "markdown",
   "id": "cb8ff148",
   "metadata": {},
   "source": [
    "nombre_infected      1214\n",
    "nombre_sain          2199\n",
    "nombre_exposed        806\n",
    "nombre_recovered    15781\n",
    "Name: 397, dtype: int64"
   ]
  },
  {
   "cell_type": "markdown",
   "id": "3a4f6458",
   "metadata": {},
   "source": [
    "nombre_infected      1220\n",
    "nombre_sain          2161\n",
    "nombre_exposed        797\n",
    "nombre_recovered    15822\n",
    "Name: 398, dtype: int64"
   ]
  },
  {
   "cell_type": "markdown",
   "id": "8cedceea",
   "metadata": {},
   "source": [
    "nombre_infected      1237\n",
    "nombre_sain          2080\n",
    "nombre_exposed        811\n",
    "nombre_recovered    15872\n",
    "Name: 399, dtype: int64"
   ]
  },
  {
   "cell_type": "markdown",
   "id": "883e85e1",
   "metadata": {},
   "source": [
    "nombre_infected      1249\n",
    "nombre_sain          2022\n",
    "nombre_exposed        809\n",
    "nombre_recovered    15920\n",
    "Name: 400, dtype: int64"
   ]
  },
  {
   "cell_type": "markdown",
   "id": "e936040f",
   "metadata": {},
   "source": [
    "nombre_infected      1275\n",
    "nombre_sain          1974\n",
    "nombre_exposed        790\n",
    "nombre_recovered    15961\n",
    "Name: 401, dtype: int64"
   ]
  },
  {
   "cell_type": "markdown",
   "id": "2b4905c3",
   "metadata": {},
   "source": [
    "nombre_infected      1318\n",
    "nombre_sain          1940\n",
    "nombre_exposed        746\n",
    "nombre_recovered    15996\n",
    "Name: 402, dtype: int64"
   ]
  },
  {
   "cell_type": "markdown",
   "id": "e074d848",
   "metadata": {},
   "source": [
    "nombre_infected      1341\n",
    "nombre_sain          1852\n",
    "nombre_exposed        742\n",
    "nombre_recovered    16065\n",
    "Name: 403, dtype: int64"
   ]
  },
  {
   "cell_type": "markdown",
   "id": "4fa834dc",
   "metadata": {},
   "source": [
    "nombre_infected      1359\n",
    "nombre_sain          1795\n",
    "nombre_exposed        730\n",
    "nombre_recovered    16116\n",
    "Name: 404, dtype: int64"
   ]
  },
  {
   "cell_type": "markdown",
   "id": "955b3885",
   "metadata": {},
   "source": [
    "nombre_infected      1347\n",
    "nombre_sain          1786\n",
    "nombre_exposed        695\n",
    "nombre_recovered    16172\n",
    "Name: 405, dtype: int64"
   ]
  },
  {
   "cell_type": "markdown",
   "id": "ef5f08f0",
   "metadata": {},
   "source": [
    "nombre_infected      1359\n",
    "nombre_sain          1759\n",
    "nombre_exposed        689\n",
    "nombre_recovered    16193\n",
    "Name: 406, dtype: int64"
   ]
  },
  {
   "cell_type": "markdown",
   "id": "df396f5c",
   "metadata": {},
   "source": [
    "nombre_infected      1362\n",
    "nombre_sain          1728\n",
    "nombre_exposed        673\n",
    "nombre_recovered    16237\n",
    "Name: 407, dtype: int64"
   ]
  },
  {
   "cell_type": "markdown",
   "id": "8b3e3ca0",
   "metadata": {},
   "source": [
    "nombre_infected      1366\n",
    "nombre_sain          1710\n",
    "nombre_exposed        638\n",
    "nombre_recovered    16286\n",
    "Name: 408, dtype: int64"
   ]
  },
  {
   "cell_type": "markdown",
   "id": "d5fb7285",
   "metadata": {},
   "source": [
    "nombre_infected      1371\n",
    "nombre_sain          1694\n",
    "nombre_exposed        615\n",
    "nombre_recovered    16320\n",
    "Name: 409, dtype: int64"
   ]
  },
  {
   "cell_type": "markdown",
   "id": "b363f4e8",
   "metadata": {},
   "source": [
    "nombre_infected      1334\n",
    "nombre_sain          1678\n",
    "nombre_exposed        607\n",
    "nombre_recovered    16381\n",
    "Name: 410, dtype: int64"
   ]
  },
  {
   "cell_type": "markdown",
   "id": "c80e6700",
   "metadata": {},
   "source": [
    "nombre_infected      1306\n",
    "nombre_sain          1654\n",
    "nombre_exposed        610\n",
    "nombre_recovered    16430\n",
    "Name: 411, dtype: int64"
   ]
  },
  {
   "cell_type": "markdown",
   "id": "621c7a2e",
   "metadata": {},
   "source": [
    "nombre_infected      1293\n",
    "nombre_sain          1641\n",
    "nombre_exposed        588\n",
    "nombre_recovered    16478\n",
    "Name: 412, dtype: int64"
   ]
  },
  {
   "cell_type": "markdown",
   "id": "627daea3",
   "metadata": {},
   "source": [
    "nombre_infected      1266\n",
    "nombre_sain          1632\n",
    "nombre_exposed        562\n",
    "nombre_recovered    16540\n",
    "Name: 413, dtype: int64"
   ]
  },
  {
   "cell_type": "markdown",
   "id": "3877ff4d",
   "metadata": {},
   "source": [
    "nombre_infected      1229\n",
    "nombre_sain          1619\n",
    "nombre_exposed        557\n",
    "nombre_recovered    16595\n",
    "Name: 414, dtype: int64"
   ]
  },
  {
   "cell_type": "markdown",
   "id": "71f3828c",
   "metadata": {},
   "source": [
    "nombre_infected      1226\n",
    "nombre_sain          1596\n",
    "nombre_exposed        553\n",
    "nombre_recovered    16625\n",
    "Name: 415, dtype: int64"
   ]
  },
  {
   "cell_type": "markdown",
   "id": "00a828f6",
   "metadata": {},
   "source": [
    "nombre_infected      1188\n",
    "nombre_sain          1590\n",
    "nombre_exposed        542\n",
    "nombre_recovered    16680\n",
    "Name: 416, dtype: int64"
   ]
  },
  {
   "cell_type": "markdown",
   "id": "705fed03",
   "metadata": {},
   "source": [
    "nombre_infected      1183\n",
    "nombre_sain          1594\n",
    "nombre_exposed        496\n",
    "nombre_recovered    16727\n",
    "Name: 417, dtype: int64"
   ]
  },
  {
   "cell_type": "markdown",
   "id": "980c64a2",
   "metadata": {},
   "source": [
    "nombre_infected      1150\n",
    "nombre_sain          1578\n",
    "nombre_exposed        492\n",
    "nombre_recovered    16780\n",
    "Name: 418, dtype: int64"
   ]
  },
  {
   "cell_type": "markdown",
   "id": "d1fdefbf",
   "metadata": {},
   "source": [
    "nombre_infected      1099\n",
    "nombre_sain          1561\n",
    "nombre_exposed        494\n",
    "nombre_recovered    16846\n",
    "Name: 419, dtype: int64"
   ]
  },
  {
   "cell_type": "markdown",
   "id": "21f3e2ee",
   "metadata": {},
   "source": [
    "nombre_infected      1084\n",
    "nombre_sain          1554\n",
    "nombre_exposed        472\n",
    "nombre_recovered    16890\n",
    "Name: 420, dtype: int64"
   ]
  },
  {
   "cell_type": "markdown",
   "id": "5a5f2994",
   "metadata": {},
   "source": [
    "nombre_infected      1057\n",
    "nombre_sain          1553\n",
    "nombre_exposed        467\n",
    "nombre_recovered    16923\n",
    "Name: 421, dtype: int64"
   ]
  },
  {
   "cell_type": "markdown",
   "id": "186d8f83",
   "metadata": {},
   "source": [
    "nombre_infected      1036\n",
    "nombre_sain          1560\n",
    "nombre_exposed        454\n",
    "nombre_recovered    16950\n",
    "Name: 422, dtype: int64"
   ]
  },
  {
   "cell_type": "markdown",
   "id": "3a31272f",
   "metadata": {},
   "source": [
    "nombre_infected      1012\n",
    "nombre_sain          1551\n",
    "nombre_exposed        450\n",
    "nombre_recovered    16987\n",
    "Name: 423, dtype: int64"
   ]
  },
  {
   "cell_type": "markdown",
   "id": "a1968eac",
   "metadata": {},
   "source": [
    "nombre_infected      1012\n",
    "nombre_sain          1540\n",
    "nombre_exposed        440\n",
    "nombre_recovered    17008\n",
    "Name: 424, dtype: int64"
   ]
  },
  {
   "cell_type": "markdown",
   "id": "7515ac31",
   "metadata": {},
   "source": [
    "nombre_infected      1008\n",
    "nombre_sain          1547\n",
    "nombre_exposed        416\n",
    "nombre_recovered    17029\n",
    "Name: 425, dtype: int64"
   ]
  },
  {
   "cell_type": "markdown",
   "id": "71d11f49",
   "metadata": {},
   "source": [
    "nombre_infected       978\n",
    "nombre_sain          1563\n",
    "nombre_exposed        395\n",
    "nombre_recovered    17064\n",
    "Name: 426, dtype: int64"
   ]
  },
  {
   "cell_type": "markdown",
   "id": "280da337",
   "metadata": {},
   "source": [
    "nombre_infected       978\n",
    "nombre_sain          1560\n",
    "nombre_exposed        388\n",
    "nombre_recovered    17074\n",
    "Name: 427, dtype: int64"
   ]
  },
  {
   "cell_type": "markdown",
   "id": "31b172a3",
   "metadata": {},
   "source": [
    "nombre_infected       927\n",
    "nombre_sain          1557\n",
    "nombre_exposed        396\n",
    "nombre_recovered    17120\n",
    "Name: 428, dtype: int64"
   ]
  },
  {
   "cell_type": "markdown",
   "id": "a5036825",
   "metadata": {},
   "source": [
    "nombre_infected       912\n",
    "nombre_sain          1554\n",
    "nombre_exposed        408\n",
    "nombre_recovered    17126\n",
    "Name: 429, dtype: int64"
   ]
  },
  {
   "cell_type": "markdown",
   "id": "304ebd08",
   "metadata": {},
   "source": [
    "nombre_infected       894\n",
    "nombre_sain          1569\n",
    "nombre_exposed        409\n",
    "nombre_recovered    17128\n",
    "Name: 430, dtype: int64"
   ]
  },
  {
   "cell_type": "markdown",
   "id": "675dce72",
   "metadata": {},
   "source": [
    "nombre_infected       878\n",
    "nombre_sain          1569\n",
    "nombre_exposed        397\n",
    "nombre_recovered    17156\n",
    "Name: 431, dtype: int64"
   ]
  },
  {
   "cell_type": "markdown",
   "id": "12f150bc",
   "metadata": {},
   "source": [
    "nombre_infected       881\n",
    "nombre_sain          1580\n",
    "nombre_exposed        391\n",
    "nombre_recovered    17148\n",
    "Name: 432, dtype: int64"
   ]
  },
  {
   "cell_type": "markdown",
   "id": "3b889c04",
   "metadata": {},
   "source": [
    "nombre_infected       886\n",
    "nombre_sain          1593\n",
    "nombre_exposed        358\n",
    "nombre_recovered    17163\n",
    "Name: 433, dtype: int64"
   ]
  },
  {
   "cell_type": "markdown",
   "id": "4538fac2",
   "metadata": {},
   "source": [
    "nombre_infected       872\n",
    "nombre_sain          1613\n",
    "nombre_exposed        344\n",
    "nombre_recovered    17171\n",
    "Name: 434, dtype: int64"
   ]
  },
  {
   "cell_type": "markdown",
   "id": "af46e338",
   "metadata": {},
   "source": [
    "nombre_infected       856\n",
    "nombre_sain          1629\n",
    "nombre_exposed        330\n",
    "nombre_recovered    17185\n",
    "Name: 435, dtype: int64"
   ]
  },
  {
   "cell_type": "markdown",
   "id": "4a2c7160",
   "metadata": {},
   "source": [
    "nombre_infected       840\n",
    "nombre_sain          1646\n",
    "nombre_exposed        345\n",
    "nombre_recovered    17169\n",
    "Name: 436, dtype: int64"
   ]
  },
  {
   "cell_type": "markdown",
   "id": "e3d8bf7f",
   "metadata": {},
   "source": [
    "nombre_infected       793\n",
    "nombre_sain          1647\n",
    "nombre_exposed        354\n",
    "nombre_recovered    17206\n",
    "Name: 437, dtype: int64"
   ]
  },
  {
   "cell_type": "markdown",
   "id": "2bb2580d",
   "metadata": {},
   "source": [
    "nombre_infected       795\n",
    "nombre_sain          1681\n",
    "nombre_exposed        327\n",
    "nombre_recovered    17197\n",
    "Name: 438, dtype: int64"
   ]
  },
  {
   "cell_type": "markdown",
   "id": "a2ec9127",
   "metadata": {},
   "source": [
    "nombre_infected       794\n",
    "nombre_sain          1698\n",
    "nombre_exposed        311\n",
    "nombre_recovered    17197\n",
    "Name: 439, dtype: int64"
   ]
  },
  {
   "cell_type": "markdown",
   "id": "99cdc63c",
   "metadata": {},
   "source": [
    "nombre_infected       779\n",
    "nombre_sain          1735\n",
    "nombre_exposed        321\n",
    "nombre_recovered    17165\n",
    "Name: 440, dtype: int64"
   ]
  },
  {
   "cell_type": "markdown",
   "id": "758dca37",
   "metadata": {},
   "source": [
    "nombre_infected       770\n",
    "nombre_sain          1766\n",
    "nombre_exposed        322\n",
    "nombre_recovered    17142\n",
    "Name: 441, dtype: int64"
   ]
  },
  {
   "cell_type": "markdown",
   "id": "df910a6a",
   "metadata": {},
   "source": [
    "nombre_infected       759\n",
    "nombre_sain          1787\n",
    "nombre_exposed        317\n",
    "nombre_recovered    17137\n",
    "Name: 442, dtype: int64"
   ]
  },
  {
   "cell_type": "markdown",
   "id": "84b1caef",
   "metadata": {},
   "source": [
    "nombre_infected       756\n",
    "nombre_sain          1800\n",
    "nombre_exposed        338\n",
    "nombre_recovered    17106\n",
    "Name: 443, dtype: int64"
   ]
  },
  {
   "cell_type": "markdown",
   "id": "379358ec",
   "metadata": {},
   "source": [
    "nombre_infected       742\n",
    "nombre_sain          1828\n",
    "nombre_exposed        349\n",
    "nombre_recovered    17081\n",
    "Name: 444, dtype: int64"
   ]
  },
  {
   "cell_type": "markdown",
   "id": "f2e4ebf2",
   "metadata": {},
   "source": [
    "nombre_infected       714\n",
    "nombre_sain          1860\n",
    "nombre_exposed        346\n",
    "nombre_recovered    17080\n",
    "Name: 445, dtype: int64"
   ]
  },
  {
   "cell_type": "markdown",
   "id": "fd377396",
   "metadata": {},
   "source": [
    "nombre_infected       696\n",
    "nombre_sain          1882\n",
    "nombre_exposed        340\n",
    "nombre_recovered    17082\n",
    "Name: 446, dtype: int64"
   ]
  },
  {
   "cell_type": "markdown",
   "id": "28c2e2fd",
   "metadata": {},
   "source": [
    "nombre_infected       703\n",
    "nombre_sain          1892\n",
    "nombre_exposed        329\n",
    "nombre_recovered    17076\n",
    "Name: 447, dtype: int64"
   ]
  },
  {
   "cell_type": "markdown",
   "id": "cf54f9bf",
   "metadata": {},
   "source": [
    "nombre_infected       681\n",
    "nombre_sain          1922\n",
    "nombre_exposed        346\n",
    "nombre_recovered    17051\n",
    "Name: 448, dtype: int64"
   ]
  },
  {
   "cell_type": "markdown",
   "id": "d287ced9",
   "metadata": {},
   "source": [
    "nombre_infected       675\n",
    "nombre_sain          1947\n",
    "nombre_exposed        337\n",
    "nombre_recovered    17041\n",
    "Name: 449, dtype: int64"
   ]
  },
  {
   "cell_type": "markdown",
   "id": "856ca392",
   "metadata": {},
   "source": [
    "nombre_infected       668\n",
    "nombre_sain          1964\n",
    "nombre_exposed        350\n",
    "nombre_recovered    17018\n",
    "Name: 450, dtype: int64"
   ]
  },
  {
   "cell_type": "markdown",
   "id": "5d05b9c9",
   "metadata": {},
   "source": [
    "nombre_infected       657\n",
    "nombre_sain          1989\n",
    "nombre_exposed        340\n",
    "nombre_recovered    17014\n",
    "Name: 451, dtype: int64"
   ]
  },
  {
   "cell_type": "markdown",
   "id": "aa13fb0d",
   "metadata": {},
   "source": [
    "nombre_infected       645\n",
    "nombre_sain          2027\n",
    "nombre_exposed        336\n",
    "nombre_recovered    16992\n",
    "Name: 452, dtype: int64"
   ]
  },
  {
   "cell_type": "markdown",
   "id": "dd746ac0",
   "metadata": {},
   "source": [
    "nombre_infected       630\n",
    "nombre_sain          2027\n",
    "nombre_exposed        349\n",
    "nombre_recovered    16994\n",
    "Name: 453, dtype: int64"
   ]
  },
  {
   "cell_type": "markdown",
   "id": "983f4abe",
   "metadata": {},
   "source": [
    "nombre_infected       638\n",
    "nombre_sain          2060\n",
    "nombre_exposed        342\n",
    "nombre_recovered    16960\n",
    "Name: 454, dtype: int64"
   ]
  },
  {
   "cell_type": "markdown",
   "id": "441def81",
   "metadata": {},
   "source": [
    "nombre_infected       630\n",
    "nombre_sain          2078\n",
    "nombre_exposed        330\n",
    "nombre_recovered    16962\n",
    "Name: 455, dtype: int64"
   ]
  },
  {
   "cell_type": "markdown",
   "id": "6e625c02",
   "metadata": {},
   "source": [
    "nombre_infected       628\n",
    "nombre_sain          2086\n",
    "nombre_exposed        330\n",
    "nombre_recovered    16956\n",
    "Name: 456, dtype: int64"
   ]
  },
  {
   "cell_type": "markdown",
   "id": "80ca3d90",
   "metadata": {},
   "source": [
    "nombre_infected       608\n",
    "nombre_sain          2119\n",
    "nombre_exposed        339\n",
    "nombre_recovered    16934\n",
    "Name: 457, dtype: int64"
   ]
  },
  {
   "cell_type": "markdown",
   "id": "e6b72a3c",
   "metadata": {},
   "source": [
    "nombre_infected       614\n",
    "nombre_sain          2184\n",
    "nombre_exposed        341\n",
    "nombre_recovered    16861\n",
    "Name: 458, dtype: int64"
   ]
  },
  {
   "cell_type": "markdown",
   "id": "ded30ba7",
   "metadata": {},
   "source": [
    "nombre_infected       609\n",
    "nombre_sain          2218\n",
    "nombre_exposed        348\n",
    "nombre_recovered    16825\n",
    "Name: 459, dtype: int64"
   ]
  },
  {
   "cell_type": "markdown",
   "id": "2d8018bb",
   "metadata": {},
   "source": [
    "nombre_infected       615\n",
    "nombre_sain          2236\n",
    "nombre_exposed        345\n",
    "nombre_recovered    16804\n",
    "Name: 460, dtype: int64"
   ]
  },
  {
   "cell_type": "markdown",
   "id": "73c33e25",
   "metadata": {},
   "source": [
    "nombre_infected       628\n",
    "nombre_sain          2271\n",
    "nombre_exposed        350\n",
    "nombre_recovered    16751\n",
    "Name: 461, dtype: int64"
   ]
  },
  {
   "cell_type": "markdown",
   "id": "a70cfef6",
   "metadata": {},
   "source": [
    "nombre_infected       623\n",
    "nombre_sain          2277\n",
    "nombre_exposed        368\n",
    "nombre_recovered    16732\n",
    "Name: 462, dtype: int64"
   ]
  },
  {
   "cell_type": "markdown",
   "id": "73008e12",
   "metadata": {},
   "source": [
    "nombre_infected       595\n",
    "nombre_sain          2296\n",
    "nombre_exposed        408\n",
    "nombre_recovered    16701\n",
    "Name: 463, dtype: int64"
   ]
  },
  {
   "cell_type": "markdown",
   "id": "424f95ac",
   "metadata": {},
   "source": [
    "nombre_infected       607\n",
    "nombre_sain          2333\n",
    "nombre_exposed        396\n",
    "nombre_recovered    16664\n",
    "Name: 464, dtype: int64"
   ]
  },
  {
   "cell_type": "markdown",
   "id": "e9cddf6e",
   "metadata": {},
   "source": [
    "nombre_infected       619\n",
    "nombre_sain          2357\n",
    "nombre_exposed        392\n",
    "nombre_recovered    16632\n",
    "Name: 465, dtype: int64"
   ]
  },
  {
   "cell_type": "markdown",
   "id": "94b3298c",
   "metadata": {},
   "source": [
    "nombre_infected       620\n",
    "nombre_sain          2381\n",
    "nombre_exposed        412\n",
    "nombre_recovered    16587\n",
    "Name: 466, dtype: int64"
   ]
  },
  {
   "cell_type": "markdown",
   "id": "d9072e24",
   "metadata": {},
   "source": [
    "nombre_infected       613\n",
    "nombre_sain          2398\n",
    "nombre_exposed        425\n",
    "nombre_recovered    16564\n",
    "Name: 467, dtype: int64"
   ]
  },
  {
   "cell_type": "markdown",
   "id": "a1e40e4a",
   "metadata": {},
   "source": [
    "nombre_infected       656\n",
    "nombre_sain          2445\n",
    "nombre_exposed        402\n",
    "nombre_recovered    16497\n",
    "Name: 468, dtype: int64"
   ]
  },
  {
   "cell_type": "markdown",
   "id": "37d60130",
   "metadata": {},
   "source": [
    "nombre_infected       636\n",
    "nombre_sain          2450\n",
    "nombre_exposed        422\n",
    "nombre_recovered    16492\n",
    "Name: 469, dtype: int64"
   ]
  },
  {
   "cell_type": "markdown",
   "id": "761bd40c",
   "metadata": {},
   "source": [
    "nombre_infected       650\n",
    "nombre_sain          2442\n",
    "nombre_exposed        434\n",
    "nombre_recovered    16474\n",
    "Name: 470, dtype: int64"
   ]
  },
  {
   "cell_type": "markdown",
   "id": "715e204e",
   "metadata": {},
   "source": [
    "nombre_infected       661\n",
    "nombre_sain          2411\n",
    "nombre_exposed        464\n",
    "nombre_recovered    16464\n",
    "Name: 471, dtype: int64"
   ]
  },
  {
   "cell_type": "markdown",
   "id": "f6a2f6cf",
   "metadata": {},
   "source": [
    "nombre_infected       671\n",
    "nombre_sain          2432\n",
    "nombre_exposed        448\n",
    "nombre_recovered    16449\n",
    "Name: 472, dtype: int64"
   ]
  },
  {
   "cell_type": "markdown",
   "id": "d15abac8",
   "metadata": {},
   "source": [
    "nombre_infected       684\n",
    "nombre_sain          2410\n",
    "nombre_exposed        455\n",
    "nombre_recovered    16451\n",
    "Name: 473, dtype: int64"
   ]
  },
  {
   "cell_type": "markdown",
   "id": "f5aca462",
   "metadata": {},
   "source": [
    "nombre_infected       688\n",
    "nombre_sain          2397\n",
    "nombre_exposed        466\n",
    "nombre_recovered    16449\n",
    "Name: 474, dtype: int64"
   ]
  },
  {
   "cell_type": "markdown",
   "id": "31f2d122",
   "metadata": {},
   "source": [
    "nombre_infected       700\n",
    "nombre_sain          2389\n",
    "nombre_exposed        464\n",
    "nombre_recovered    16447\n",
    "Name: 475, dtype: int64"
   ]
  },
  {
   "cell_type": "markdown",
   "id": "188c0830",
   "metadata": {},
   "source": [
    "nombre_infected       701\n",
    "nombre_sain          2366\n",
    "nombre_exposed        488\n",
    "nombre_recovered    16445\n",
    "Name: 476, dtype: int64"
   ]
  },
  {
   "cell_type": "markdown",
   "id": "def3350d",
   "metadata": {},
   "source": [
    "nombre_infected       703\n",
    "nombre_sain          2384\n",
    "nombre_exposed        491\n",
    "nombre_recovered    16422\n",
    "Name: 477, dtype: int64"
   ]
  },
  {
   "cell_type": "markdown",
   "id": "22c3790f",
   "metadata": {},
   "source": [
    "nombre_infected       708\n",
    "nombre_sain          2392\n",
    "nombre_exposed        485\n",
    "nombre_recovered    16415\n",
    "Name: 478, dtype: int64"
   ]
  },
  {
   "cell_type": "markdown",
   "id": "8909b562",
   "metadata": {},
   "source": [
    "nombre_infected       717\n",
    "nombre_sain          2423\n",
    "nombre_exposed        464\n",
    "nombre_recovered    16396\n",
    "Name: 479, dtype: int64"
   ]
  },
  {
   "cell_type": "markdown",
   "id": "da04c427",
   "metadata": {},
   "source": [
    "nombre_infected       738\n",
    "nombre_sain          2425\n",
    "nombre_exposed        468\n",
    "nombre_recovered    16369\n",
    "Name: 480, dtype: int64"
   ]
  },
  {
   "cell_type": "markdown",
   "id": "e173920b",
   "metadata": {},
   "source": [
    "nombre_infected       750\n",
    "nombre_sain          2425\n",
    "nombre_exposed        462\n",
    "nombre_recovered    16363\n",
    "Name: 481, dtype: int64"
   ]
  },
  {
   "cell_type": "markdown",
   "id": "b041a684",
   "metadata": {},
   "source": [
    "nombre_infected       742\n",
    "nombre_sain          2404\n",
    "nombre_exposed        479\n",
    "nombre_recovered    16375\n",
    "Name: 482, dtype: int64"
   ]
  },
  {
   "cell_type": "markdown",
   "id": "ab32939e",
   "metadata": {},
   "source": [
    "nombre_infected       725\n",
    "nombre_sain          2414\n",
    "nombre_exposed        502\n",
    "nombre_recovered    16359\n",
    "Name: 483, dtype: int64"
   ]
  },
  {
   "cell_type": "markdown",
   "id": "9a0dc2f5",
   "metadata": {},
   "source": [
    "nombre_infected       740\n",
    "nombre_sain          2408\n",
    "nombre_exposed        519\n",
    "nombre_recovered    16333\n",
    "Name: 484, dtype: int64"
   ]
  },
  {
   "cell_type": "markdown",
   "id": "7dc89f65",
   "metadata": {},
   "source": [
    "nombre_infected       762\n",
    "nombre_sain          2405\n",
    "nombre_exposed        503\n",
    "nombre_recovered    16330\n",
    "Name: 485, dtype: int64"
   ]
  },
  {
   "cell_type": "markdown",
   "id": "fe2e5441",
   "metadata": {},
   "source": [
    "nombre_infected       763\n",
    "nombre_sain          2390\n",
    "nombre_exposed        521\n",
    "nombre_recovered    16326\n",
    "Name: 486, dtype: int64"
   ]
  },
  {
   "cell_type": "markdown",
   "id": "46b84ad2",
   "metadata": {},
   "source": [
    "nombre_infected       779\n",
    "nombre_sain          2390\n",
    "nombre_exposed        523\n",
    "nombre_recovered    16308\n",
    "Name: 487, dtype: int64"
   ]
  },
  {
   "cell_type": "markdown",
   "id": "37a8b7f7",
   "metadata": {},
   "source": [
    "nombre_infected       788\n",
    "nombre_sain          2375\n",
    "nombre_exposed        531\n",
    "nombre_recovered    16306\n",
    "Name: 488, dtype: int64"
   ]
  },
  {
   "cell_type": "markdown",
   "id": "9ff4268e",
   "metadata": {},
   "source": [
    "nombre_infected       787\n",
    "nombre_sain          2380\n",
    "nombre_exposed        522\n",
    "nombre_recovered    16311\n",
    "Name: 489, dtype: int64"
   ]
  },
  {
   "cell_type": "markdown",
   "id": "1544a6f8",
   "metadata": {},
   "source": [
    "nombre_infected       794\n",
    "nombre_sain          2374\n",
    "nombre_exposed        528\n",
    "nombre_recovered    16304\n",
    "Name: 490, dtype: int64"
   ]
  },
  {
   "cell_type": "markdown",
   "id": "d1a2aaa4",
   "metadata": {},
   "source": [
    "nombre_infected       800\n",
    "nombre_sain          2354\n",
    "nombre_exposed        523\n",
    "nombre_recovered    16323\n",
    "Name: 491, dtype: int64"
   ]
  },
  {
   "cell_type": "markdown",
   "id": "13165c64",
   "metadata": {},
   "source": [
    "nombre_infected       816\n",
    "nombre_sain          2372\n",
    "nombre_exposed        478\n",
    "nombre_recovered    16334\n",
    "Name: 492, dtype: int64"
   ]
  },
  {
   "cell_type": "markdown",
   "id": "3ed53a86",
   "metadata": {},
   "source": [
    "nombre_infected       798\n",
    "nombre_sain          2375\n",
    "nombre_exposed        485\n",
    "nombre_recovered    16342\n",
    "Name: 493, dtype: int64"
   ]
  },
  {
   "cell_type": "markdown",
   "id": "179ccfa6",
   "metadata": {},
   "source": [
    "nombre_infected       799\n",
    "nombre_sain          2370\n",
    "nombre_exposed        477\n",
    "nombre_recovered    16354\n",
    "Name: 494, dtype: int64"
   ]
  },
  {
   "cell_type": "markdown",
   "id": "5af39808",
   "metadata": {},
   "source": [
    "nombre_infected       796\n",
    "nombre_sain          2366\n",
    "nombre_exposed        472\n",
    "nombre_recovered    16366\n",
    "Name: 495, dtype: int64"
   ]
  },
  {
   "cell_type": "markdown",
   "id": "22363d70",
   "metadata": {},
   "source": [
    "nombre_infected       791\n",
    "nombre_sain          2364\n",
    "nombre_exposed        467\n",
    "nombre_recovered    16378\n",
    "Name: 496, dtype: int64"
   ]
  },
  {
   "cell_type": "markdown",
   "id": "429ee055",
   "metadata": {},
   "source": [
    "nombre_infected       771\n",
    "nombre_sain          2341\n",
    "nombre_exposed        483\n",
    "nombre_recovered    16405\n",
    "Name: 497, dtype: int64"
   ]
  },
  {
   "cell_type": "markdown",
   "id": "22f7ae25",
   "metadata": {},
   "source": [
    "nombre_infected       720\n",
    "nombre_sain          2340\n",
    "nombre_exposed        501\n",
    "nombre_recovered    16439\n",
    "Name: 498, dtype: int64"
   ]
  },
  {
   "cell_type": "markdown",
   "id": "166fb99f",
   "metadata": {},
   "source": [
    "nombre_infected       721\n",
    "nombre_sain          2320\n",
    "nombre_exposed        513\n",
    "nombre_recovered    16446\n",
    "Name: 499, dtype: int64"
   ]
  },
  {
   "cell_type": "markdown",
   "id": "cbea3d2f",
   "metadata": {},
   "source": [
    "nombre_infected       726\n",
    "nombre_sain          2305\n",
    "nombre_exposed        504\n",
    "nombre_recovered    16465\n",
    "Name: 500, dtype: int64"
   ]
  },
  {
   "cell_type": "markdown",
   "id": "050889c0",
   "metadata": {},
   "source": [
    "nombre_infected       735\n",
    "nombre_sain          2310\n",
    "nombre_exposed        492\n",
    "nombre_recovered    16463\n",
    "Name: 501, dtype: int64"
   ]
  },
  {
   "cell_type": "markdown",
   "id": "3a1ecf06",
   "metadata": {},
   "source": [
    "nombre_infected       765\n",
    "nombre_sain          2293\n",
    "nombre_exposed        478\n",
    "nombre_recovered    16464\n",
    "Name: 502, dtype: int64"
   ]
  },
  {
   "cell_type": "markdown",
   "id": "9e08fee9",
   "metadata": {},
   "source": [
    "nombre_infected       754\n",
    "nombre_sain          2296\n",
    "nombre_exposed        485\n",
    "nombre_recovered    16465\n",
    "Name: 503, dtype: int64"
   ]
  },
  {
   "cell_type": "markdown",
   "id": "f5b51cd3",
   "metadata": {},
   "source": [
    "nombre_infected       762\n",
    "nombre_sain          2268\n",
    "nombre_exposed        486\n",
    "nombre_recovered    16484\n",
    "Name: 504, dtype: int64"
   ]
  },
  {
   "cell_type": "markdown",
   "id": "ae5f40ea",
   "metadata": {},
   "source": [
    "nombre_infected       762\n",
    "nombre_sain          2257\n",
    "nombre_exposed        499\n",
    "nombre_recovered    16482\n",
    "Name: 505, dtype: int64"
   ]
  },
  {
   "cell_type": "markdown",
   "id": "0ebf624e",
   "metadata": {},
   "source": [
    "nombre_infected       762\n",
    "nombre_sain          2259\n",
    "nombre_exposed        510\n",
    "nombre_recovered    16469\n",
    "Name: 506, dtype: int64"
   ]
  },
  {
   "cell_type": "markdown",
   "id": "ce50b047",
   "metadata": {},
   "source": [
    "nombre_infected       774\n",
    "nombre_sain          2255\n",
    "nombre_exposed        488\n",
    "nombre_recovered    16483\n",
    "Name: 507, dtype: int64"
   ]
  },
  {
   "cell_type": "markdown",
   "id": "f57c5aa4",
   "metadata": {},
   "source": [
    "nombre_infected       774\n",
    "nombre_sain          2247\n",
    "nombre_exposed        473\n",
    "nombre_recovered    16506\n",
    "Name: 508, dtype: int64"
   ]
  },
  {
   "cell_type": "markdown",
   "id": "8c5fe649",
   "metadata": {},
   "source": [
    "nombre_infected       778\n",
    "nombre_sain          2249\n",
    "nombre_exposed        472\n",
    "nombre_recovered    16501\n",
    "Name: 509, dtype: int64"
   ]
  },
  {
   "cell_type": "markdown",
   "id": "6429f649",
   "metadata": {},
   "source": [
    "nombre_infected       762\n",
    "nombre_sain          2249\n",
    "nombre_exposed        476\n",
    "nombre_recovered    16513\n",
    "Name: 510, dtype: int64"
   ]
  },
  {
   "cell_type": "markdown",
   "id": "b009cbc5",
   "metadata": {},
   "source": [
    "nombre_infected       752\n",
    "nombre_sain          2259\n",
    "nombre_exposed        468\n",
    "nombre_recovered    16521\n",
    "Name: 511, dtype: int64"
   ]
  },
  {
   "cell_type": "markdown",
   "id": "45920758",
   "metadata": {},
   "source": [
    "nombre_infected       759\n",
    "nombre_sain          2262\n",
    "nombre_exposed        456\n",
    "nombre_recovered    16523\n",
    "Name: 512, dtype: int64"
   ]
  },
  {
   "cell_type": "markdown",
   "id": "f354d796",
   "metadata": {},
   "source": [
    "nombre_infected       749\n",
    "nombre_sain          2264\n",
    "nombre_exposed        460\n",
    "nombre_recovered    16527\n",
    "Name: 513, dtype: int64"
   ]
  },
  {
   "cell_type": "markdown",
   "id": "534c7075",
   "metadata": {},
   "source": [
    "nombre_infected       722\n",
    "nombre_sain          2272\n",
    "nombre_exposed        469\n",
    "nombre_recovered    16537\n",
    "Name: 514, dtype: int64"
   ]
  },
  {
   "cell_type": "markdown",
   "id": "6aa4f1e2",
   "metadata": {},
   "source": [
    "nombre_infected       740\n",
    "nombre_sain          2289\n",
    "nombre_exposed        443\n",
    "nombre_recovered    16528\n",
    "Name: 515, dtype: int64"
   ]
  },
  {
   "cell_type": "markdown",
   "id": "a3d3c035",
   "metadata": {},
   "source": [
    "nombre_infected       741\n",
    "nombre_sain          2296\n",
    "nombre_exposed        450\n",
    "nombre_recovered    16513\n",
    "Name: 516, dtype: int64"
   ]
  },
  {
   "cell_type": "markdown",
   "id": "27b27898",
   "metadata": {},
   "source": [
    "nombre_infected       739\n",
    "nombre_sain          2311\n",
    "nombre_exposed        451\n",
    "nombre_recovered    16499\n",
    "Name: 517, dtype: int64"
   ]
  },
  {
   "cell_type": "markdown",
   "id": "18bc2c8a",
   "metadata": {},
   "source": [
    "nombre_infected       756\n",
    "nombre_sain          2320\n",
    "nombre_exposed        445\n",
    "nombre_recovered    16479\n",
    "Name: 518, dtype: int64"
   ]
  },
  {
   "cell_type": "markdown",
   "id": "c5ad76ae",
   "metadata": {},
   "source": [
    "nombre_infected       769\n",
    "nombre_sain          2335\n",
    "nombre_exposed        438\n",
    "nombre_recovered    16458\n",
    "Name: 519, dtype: int64"
   ]
  },
  {
   "cell_type": "markdown",
   "id": "6ac37f82",
   "metadata": {},
   "source": [
    "nombre_infected       764\n",
    "nombre_sain          2319\n",
    "nombre_exposed        469\n",
    "nombre_recovered    16448\n",
    "Name: 520, dtype: int64"
   ]
  },
  {
   "cell_type": "markdown",
   "id": "3ad00c58",
   "metadata": {},
   "source": [
    "nombre_infected       783\n",
    "nombre_sain          2339\n",
    "nombre_exposed        471\n",
    "nombre_recovered    16407\n",
    "Name: 521, dtype: int64"
   ]
  },
  {
   "cell_type": "markdown",
   "id": "60199200",
   "metadata": {},
   "source": [
    "nombre_infected       781\n",
    "nombre_sain          2350\n",
    "nombre_exposed        461\n",
    "nombre_recovered    16408\n",
    "Name: 522, dtype: int64"
   ]
  },
  {
   "cell_type": "markdown",
   "id": "1b249814",
   "metadata": {},
   "source": [
    "nombre_infected       766\n",
    "nombre_sain          2369\n",
    "nombre_exposed        450\n",
    "nombre_recovered    16415\n",
    "Name: 523, dtype: int64"
   ]
  },
  {
   "cell_type": "markdown",
   "id": "baf49534",
   "metadata": {},
   "source": [
    "nombre_infected       776\n",
    "nombre_sain          2380\n",
    "nombre_exposed        463\n",
    "nombre_recovered    16381\n",
    "Name: 524, dtype: int64"
   ]
  },
  {
   "cell_type": "markdown",
   "id": "64b03987",
   "metadata": {},
   "source": [
    "nombre_infected       781\n",
    "nombre_sain          2374\n",
    "nombre_exposed        458\n",
    "nombre_recovered    16387\n",
    "Name: 525, dtype: int64"
   ]
  },
  {
   "cell_type": "markdown",
   "id": "5b32e268",
   "metadata": {},
   "source": [
    "nombre_infected       802\n",
    "nombre_sain          2389\n",
    "nombre_exposed        449\n",
    "nombre_recovered    16360\n",
    "Name: 526, dtype: int64"
   ]
  },
  {
   "cell_type": "markdown",
   "id": "ebe2ce0f",
   "metadata": {},
   "source": [
    "nombre_infected       825\n",
    "nombre_sain          2389\n",
    "nombre_exposed        450\n",
    "nombre_recovered    16336\n",
    "Name: 527, dtype: int64"
   ]
  },
  {
   "cell_type": "markdown",
   "id": "c560c6b5",
   "metadata": {},
   "source": [
    "nombre_infected       841\n",
    "nombre_sain          2359\n",
    "nombre_exposed        465\n",
    "nombre_recovered    16335\n",
    "Name: 528, dtype: int64"
   ]
  },
  {
   "cell_type": "markdown",
   "id": "39042c07",
   "metadata": {},
   "source": [
    "nombre_infected       842\n",
    "nombre_sain          2367\n",
    "nombre_exposed        487\n",
    "nombre_recovered    16304\n",
    "Name: 529, dtype: int64"
   ]
  },
  {
   "cell_type": "markdown",
   "id": "22c08535",
   "metadata": {},
   "source": [
    "nombre_infected       854\n",
    "nombre_sain          2372\n",
    "nombre_exposed        496\n",
    "nombre_recovered    16278\n",
    "Name: 530, dtype: int64"
   ]
  },
  {
   "cell_type": "markdown",
   "id": "84269346",
   "metadata": {},
   "source": [
    "nombre_infected       846\n",
    "nombre_sain          2361\n",
    "nombre_exposed        494\n",
    "nombre_recovered    16299\n",
    "Name: 531, dtype: int64"
   ]
  },
  {
   "cell_type": "markdown",
   "id": "b2c084e7",
   "metadata": {},
   "source": [
    "nombre_infected       846\n",
    "nombre_sain          2361\n",
    "nombre_exposed        503\n",
    "nombre_recovered    16290\n",
    "Name: 532, dtype: int64"
   ]
  },
  {
   "cell_type": "markdown",
   "id": "d41dfd71",
   "metadata": {},
   "source": [
    "nombre_infected       849\n",
    "nombre_sain          2378\n",
    "nombre_exposed        501\n",
    "nombre_recovered    16272\n",
    "Name: 533, dtype: int64"
   ]
  },
  {
   "cell_type": "markdown",
   "id": "4cb28b14",
   "metadata": {},
   "source": [
    "nombre_infected       884\n",
    "nombre_sain          2361\n",
    "nombre_exposed        512\n",
    "nombre_recovered    16243\n",
    "Name: 534, dtype: int64"
   ]
  },
  {
   "cell_type": "markdown",
   "id": "5a990066",
   "metadata": {},
   "source": [
    "nombre_infected       869\n",
    "nombre_sain          2362\n",
    "nombre_exposed        529\n",
    "nombre_recovered    16240\n",
    "Name: 535, dtype: int64"
   ]
  },
  {
   "cell_type": "markdown",
   "id": "d9687a64",
   "metadata": {},
   "source": [
    "nombre_infected       894\n",
    "nombre_sain          2359\n",
    "nombre_exposed        519\n",
    "nombre_recovered    16228\n",
    "Name: 536, dtype: int64"
   ]
  },
  {
   "cell_type": "markdown",
   "id": "46bc4ecf",
   "metadata": {},
   "source": [
    "nombre_infected       904\n",
    "nombre_sain          2351\n",
    "nombre_exposed        528\n",
    "nombre_recovered    16217\n",
    "Name: 537, dtype: int64"
   ]
  },
  {
   "cell_type": "markdown",
   "id": "f66b310c",
   "metadata": {},
   "source": [
    "nombre_infected       902\n",
    "nombre_sain          2352\n",
    "nombre_exposed        534\n",
    "nombre_recovered    16212\n",
    "Name: 538, dtype: int64"
   ]
  },
  {
   "cell_type": "markdown",
   "id": "72b792a5",
   "metadata": {},
   "source": [
    "nombre_infected       896\n",
    "nombre_sain          2347\n",
    "nombre_exposed        534\n",
    "nombre_recovered    16223\n",
    "Name: 539, dtype: int64"
   ]
  },
  {
   "cell_type": "markdown",
   "id": "59fde0b6",
   "metadata": {},
   "source": [
    "nombre_infected       907\n",
    "nombre_sain          2336\n",
    "nombre_exposed        532\n",
    "nombre_recovered    16225\n",
    "Name: 540, dtype: int64"
   ]
  },
  {
   "cell_type": "markdown",
   "id": "aa705c43",
   "metadata": {},
   "source": [
    "nombre_infected       892\n",
    "nombre_sain          2342\n",
    "nombre_exposed        530\n",
    "nombre_recovered    16236\n",
    "Name: 541, dtype: int64"
   ]
  },
  {
   "cell_type": "markdown",
   "id": "6c53777f",
   "metadata": {},
   "source": [
    "nombre_infected       920\n",
    "nombre_sain          2311\n",
    "nombre_exposed        546\n",
    "nombre_recovered    16223\n",
    "Name: 542, dtype: int64"
   ]
  },
  {
   "cell_type": "markdown",
   "id": "6f1f3dfa",
   "metadata": {},
   "source": [
    "nombre_infected       899\n",
    "nombre_sain          2307\n",
    "nombre_exposed        560\n",
    "nombre_recovered    16234\n",
    "Name: 543, dtype: int64"
   ]
  },
  {
   "cell_type": "markdown",
   "id": "655d0ed1",
   "metadata": {},
   "source": [
    "nombre_infected       901\n",
    "nombre_sain          2326\n",
    "nombre_exposed        543\n",
    "nombre_recovered    16230\n",
    "Name: 544, dtype: int64"
   ]
  },
  {
   "cell_type": "markdown",
   "id": "9d4b3c42",
   "metadata": {},
   "source": [
    "nombre_infected       907\n",
    "nombre_sain          2299\n",
    "nombre_exposed        544\n",
    "nombre_recovered    16250\n",
    "Name: 545, dtype: int64"
   ]
  },
  {
   "cell_type": "markdown",
   "id": "496bb91a",
   "metadata": {},
   "source": [
    "nombre_infected       930\n",
    "nombre_sain          2303\n",
    "nombre_exposed        532\n",
    "nombre_recovered    16235\n",
    "Name: 546, dtype: int64"
   ]
  },
  {
   "cell_type": "markdown",
   "id": "330eaed4",
   "metadata": {},
   "source": [
    "nombre_infected       964\n",
    "nombre_sain          2298\n",
    "nombre_exposed        531\n",
    "nombre_recovered    16207\n",
    "Name: 547, dtype: int64"
   ]
  },
  {
   "cell_type": "markdown",
   "id": "5ed6f60e",
   "metadata": {},
   "source": [
    "nombre_infected       949\n",
    "nombre_sain          2257\n",
    "nombre_exposed        551\n",
    "nombre_recovered    16243\n",
    "Name: 548, dtype: int64"
   ]
  },
  {
   "cell_type": "markdown",
   "id": "08cabc82",
   "metadata": {},
   "source": [
    "nombre_infected       934\n",
    "nombre_sain          2277\n",
    "nombre_exposed        546\n",
    "nombre_recovered    16243\n",
    "Name: 549, dtype: int64"
   ]
  },
  {
   "cell_type": "markdown",
   "id": "db9b8324",
   "metadata": {},
   "source": [
    "nombre_infected       947\n",
    "nombre_sain          2267\n",
    "nombre_exposed        542\n",
    "nombre_recovered    16244\n",
    "Name: 550, dtype: int64"
   ]
  },
  {
   "cell_type": "markdown",
   "id": "aa64e534",
   "metadata": {},
   "source": [
    "nombre_infected       936\n",
    "nombre_sain          2261\n",
    "nombre_exposed        567\n",
    "nombre_recovered    16236\n",
    "Name: 551, dtype: int64"
   ]
  },
  {
   "cell_type": "markdown",
   "id": "838e7602",
   "metadata": {},
   "source": [
    "nombre_infected       939\n",
    "nombre_sain          2252\n",
    "nombre_exposed        545\n",
    "nombre_recovered    16264\n",
    "Name: 552, dtype: int64"
   ]
  },
  {
   "cell_type": "markdown",
   "id": "f4e169c9",
   "metadata": {},
   "source": [
    "nombre_infected       960\n",
    "nombre_sain          2232\n",
    "nombre_exposed        537\n",
    "nombre_recovered    16271\n",
    "Name: 553, dtype: int64"
   ]
  },
  {
   "cell_type": "markdown",
   "id": "1c65fff5",
   "metadata": {},
   "source": [
    "nombre_infected       969\n",
    "nombre_sain          2230\n",
    "nombre_exposed        540\n",
    "nombre_recovered    16261\n",
    "Name: 554, dtype: int64"
   ]
  },
  {
   "cell_type": "markdown",
   "id": "920dd74c",
   "metadata": {},
   "source": [
    "nombre_infected       944\n",
    "nombre_sain          2250\n",
    "nombre_exposed        547\n",
    "nombre_recovered    16259\n",
    "Name: 555, dtype: int64"
   ]
  },
  {
   "cell_type": "markdown",
   "id": "feb2797f",
   "metadata": {},
   "source": [
    "nombre_infected       948\n",
    "nombre_sain          2262\n",
    "nombre_exposed        546\n",
    "nombre_recovered    16244\n",
    "Name: 556, dtype: int64"
   ]
  },
  {
   "cell_type": "markdown",
   "id": "4af2ee3f",
   "metadata": {},
   "source": [
    "nombre_infected       955\n",
    "nombre_sain          2233\n",
    "nombre_exposed        555\n",
    "nombre_recovered    16257\n",
    "Name: 557, dtype: int64"
   ]
  },
  {
   "cell_type": "markdown",
   "id": "8d579c21",
   "metadata": {},
   "source": [
    "nombre_infected       956\n",
    "nombre_sain          2210\n",
    "nombre_exposed        581\n",
    "nombre_recovered    16253\n",
    "Name: 558, dtype: int64"
   ]
  },
  {
   "cell_type": "markdown",
   "id": "5894a37a",
   "metadata": {},
   "source": [
    "nombre_infected       946\n",
    "nombre_sain          2214\n",
    "nombre_exposed        576\n",
    "nombre_recovered    16264\n",
    "Name: 559, dtype: int64"
   ]
  },
  {
   "cell_type": "markdown",
   "id": "4597dfa2",
   "metadata": {},
   "source": [
    "nombre_infected       967\n",
    "nombre_sain          2218\n",
    "nombre_exposed        554\n",
    "nombre_recovered    16261\n",
    "Name: 560, dtype: int64"
   ]
  },
  {
   "cell_type": "markdown",
   "id": "a4bc0401",
   "metadata": {},
   "source": [
    "nombre_infected       986\n",
    "nombre_sain          2204\n",
    "nombre_exposed        576\n",
    "nombre_recovered    16234\n",
    "Name: 561, dtype: int64"
   ]
  },
  {
   "cell_type": "markdown",
   "id": "8fefd7d2",
   "metadata": {},
   "source": [
    "nombre_infected      1000\n",
    "nombre_sain          2188\n",
    "nombre_exposed        578\n",
    "nombre_recovered    16234\n",
    "Name: 562, dtype: int64"
   ]
  },
  {
   "cell_type": "markdown",
   "id": "f6d1272e",
   "metadata": {},
   "source": [
    "nombre_infected      1014\n",
    "nombre_sain          2168\n",
    "nombre_exposed        575\n",
    "nombre_recovered    16243\n",
    "Name: 563, dtype: int64"
   ]
  },
  {
   "cell_type": "markdown",
   "id": "f56af0f2",
   "metadata": {},
   "source": [
    "nombre_infected      1027\n",
    "nombre_sain          2170\n",
    "nombre_exposed        569\n",
    "nombre_recovered    16234\n",
    "Name: 564, dtype: int64"
   ]
  },
  {
   "cell_type": "markdown",
   "id": "75b9dfa6",
   "metadata": {},
   "source": [
    "nombre_infected      1052\n",
    "nombre_sain          2140\n",
    "nombre_exposed        549\n",
    "nombre_recovered    16259\n",
    "Name: 565, dtype: int64"
   ]
  },
  {
   "cell_type": "markdown",
   "id": "55bc9661",
   "metadata": {},
   "source": [
    "nombre_infected      1032\n",
    "nombre_sain          2137\n",
    "nombre_exposed        559\n",
    "nombre_recovered    16272\n",
    "Name: 566, dtype: int64"
   ]
  },
  {
   "cell_type": "markdown",
   "id": "788449a6",
   "metadata": {},
   "source": [
    "nombre_infected      1051\n",
    "nombre_sain          2130\n",
    "nombre_exposed        538\n",
    "nombre_recovered    16281\n",
    "Name: 567, dtype: int64"
   ]
  },
  {
   "cell_type": "markdown",
   "id": "332b7a63",
   "metadata": {},
   "source": [
    "nombre_infected      1061\n",
    "nombre_sain          2100\n",
    "nombre_exposed        552\n",
    "nombre_recovered    16287\n",
    "Name: 568, dtype: int64"
   ]
  },
  {
   "cell_type": "markdown",
   "id": "5ad8181f",
   "metadata": {},
   "source": [
    "nombre_infected      1045\n",
    "nombre_sain          2124\n",
    "nombre_exposed        544\n",
    "nombre_recovered    16287\n",
    "Name: 569, dtype: int64"
   ]
  },
  {
   "cell_type": "markdown",
   "id": "12d554d7",
   "metadata": {},
   "source": [
    "nombre_infected      1052\n",
    "nombre_sain          2140\n",
    "nombre_exposed        535\n",
    "nombre_recovered    16273\n",
    "Name: 570, dtype: int64"
   ]
  },
  {
   "cell_type": "markdown",
   "id": "61733ac4",
   "metadata": {},
   "source": [
    "nombre_infected      1057\n",
    "nombre_sain          2136\n",
    "nombre_exposed        538\n",
    "nombre_recovered    16269\n",
    "Name: 571, dtype: int64"
   ]
  },
  {
   "cell_type": "markdown",
   "id": "6cd7f401",
   "metadata": {},
   "source": [
    "nombre_infected      1027\n",
    "nombre_sain          2140\n",
    "nombre_exposed        550\n",
    "nombre_recovered    16283\n",
    "Name: 572, dtype: int64"
   ]
  },
  {
   "cell_type": "markdown",
   "id": "20c88345",
   "metadata": {},
   "source": [
    "nombre_infected      1006\n",
    "nombre_sain          2123\n",
    "nombre_exposed        564\n",
    "nombre_recovered    16307\n",
    "Name: 573, dtype: int64"
   ]
  },
  {
   "cell_type": "markdown",
   "id": "0be8871d",
   "metadata": {},
   "source": [
    "nombre_infected      1006\n",
    "nombre_sain          2117\n",
    "nombre_exposed        573\n",
    "nombre_recovered    16304\n",
    "Name: 574, dtype: int64"
   ]
  },
  {
   "cell_type": "markdown",
   "id": "c5c02007",
   "metadata": {},
   "source": [
    "nombre_infected      1004\n",
    "nombre_sain          2102\n",
    "nombre_exposed        570\n",
    "nombre_recovered    16324\n",
    "Name: 575, dtype: int64"
   ]
  },
  {
   "cell_type": "markdown",
   "id": "a04d0d8f",
   "metadata": {},
   "source": [
    "nombre_infected      1004\n",
    "nombre_sain          2099\n",
    "nombre_exposed        578\n",
    "nombre_recovered    16319\n",
    "Name: 576, dtype: int64"
   ]
  },
  {
   "cell_type": "markdown",
   "id": "ea101c29",
   "metadata": {},
   "source": [
    "nombre_infected      1012\n",
    "nombre_sain          2127\n",
    "nombre_exposed        562\n",
    "nombre_recovered    16299\n",
    "Name: 577, dtype: int64"
   ]
  },
  {
   "cell_type": "markdown",
   "id": "014d1d14",
   "metadata": {},
   "source": [
    "nombre_infected      1007\n",
    "nombre_sain          2138\n",
    "nombre_exposed        559\n",
    "nombre_recovered    16296\n",
    "Name: 578, dtype: int64"
   ]
  },
  {
   "cell_type": "markdown",
   "id": "920d2a66",
   "metadata": {},
   "source": [
    "nombre_infected      1004\n",
    "nombre_sain          2145\n",
    "nombre_exposed        570\n",
    "nombre_recovered    16281\n",
    "Name: 579, dtype: int64"
   ]
  },
  {
   "cell_type": "markdown",
   "id": "735622eb",
   "metadata": {},
   "source": [
    "nombre_infected       999\n",
    "nombre_sain          2163\n",
    "nombre_exposed        566\n",
    "nombre_recovered    16272\n",
    "Name: 580, dtype: int64"
   ]
  },
  {
   "cell_type": "markdown",
   "id": "18c9796c",
   "metadata": {},
   "source": [
    "nombre_infected      1004\n",
    "nombre_sain          2166\n",
    "nombre_exposed        558\n",
    "nombre_recovered    16272\n",
    "Name: 581, dtype: int64"
   ]
  },
  {
   "cell_type": "markdown",
   "id": "c4186dff",
   "metadata": {},
   "source": [
    "nombre_infected      1004\n",
    "nombre_sain          2157\n",
    "nombre_exposed        563\n",
    "nombre_recovered    16276\n",
    "Name: 582, dtype: int64"
   ]
  },
  {
   "cell_type": "markdown",
   "id": "08613d2e",
   "metadata": {},
   "source": [
    "nombre_infected      1013\n",
    "nombre_sain          2151\n",
    "nombre_exposed        570\n",
    "nombre_recovered    16266\n",
    "Name: 583, dtype: int64"
   ]
  },
  {
   "cell_type": "markdown",
   "id": "9c1846c1",
   "metadata": {},
   "source": [
    "nombre_infected       993\n",
    "nombre_sain          2154\n",
    "nombre_exposed        559\n",
    "nombre_recovered    16294\n",
    "Name: 584, dtype: int64"
   ]
  },
  {
   "cell_type": "markdown",
   "id": "4f598f82",
   "metadata": {},
   "source": [
    "nombre_infected      1009\n",
    "nombre_sain          2150\n",
    "nombre_exposed        559\n",
    "nombre_recovered    16282\n",
    "Name: 585, dtype: int64"
   ]
  },
  {
   "cell_type": "markdown",
   "id": "eef6446c",
   "metadata": {},
   "source": [
    "nombre_infected      1006\n",
    "nombre_sain          2129\n",
    "nombre_exposed        571\n",
    "nombre_recovered    16294\n",
    "Name: 586, dtype: int64"
   ]
  },
  {
   "cell_type": "markdown",
   "id": "d858e2c4",
   "metadata": {},
   "source": [
    "nombre_infected      1023\n",
    "nombre_sain          2097\n",
    "nombre_exposed        573\n",
    "nombre_recovered    16307\n",
    "Name: 587, dtype: int64"
   ]
  },
  {
   "cell_type": "markdown",
   "id": "63f4dd44",
   "metadata": {},
   "source": [
    "nombre_infected      1016\n",
    "nombre_sain          2088\n",
    "nombre_exposed        571\n",
    "nombre_recovered    16325\n",
    "Name: 588, dtype: int64"
   ]
  },
  {
   "cell_type": "markdown",
   "id": "d1298ce7",
   "metadata": {},
   "source": [
    "nombre_infected      1039\n",
    "nombre_sain          2083\n",
    "nombre_exposed        558\n",
    "nombre_recovered    16320\n",
    "Name: 589, dtype: int64"
   ]
  },
  {
   "cell_type": "markdown",
   "id": "302cf0ce",
   "metadata": {},
   "source": [
    "nombre_infected      1043\n",
    "nombre_sain          2079\n",
    "nombre_exposed        553\n",
    "nombre_recovered    16325\n",
    "Name: 590, dtype: int64"
   ]
  },
  {
   "cell_type": "markdown",
   "id": "a185bc81",
   "metadata": {},
   "source": [
    "nombre_infected      1032\n",
    "nombre_sain          2056\n",
    "nombre_exposed        558\n",
    "nombre_recovered    16354\n",
    "Name: 591, dtype: int64"
   ]
  },
  {
   "cell_type": "markdown",
   "id": "488477b5",
   "metadata": {},
   "source": [
    "nombre_infected      1022\n",
    "nombre_sain          2050\n",
    "nombre_exposed        534\n",
    "nombre_recovered    16394\n",
    "Name: 592, dtype: int64"
   ]
  },
  {
   "cell_type": "markdown",
   "id": "310ccc9b",
   "metadata": {},
   "source": [
    "nombre_infected      1022\n",
    "nombre_sain          2029\n",
    "nombre_exposed        542\n",
    "nombre_recovered    16407\n",
    "Name: 593, dtype: int64"
   ]
  },
  {
   "cell_type": "markdown",
   "id": "419ae29f",
   "metadata": {},
   "source": [
    "nombre_infected      1021\n",
    "nombre_sain          2015\n",
    "nombre_exposed        541\n",
    "nombre_recovered    16423\n",
    "Name: 594, dtype: int64"
   ]
  },
  {
   "cell_type": "markdown",
   "id": "3cbcaa21",
   "metadata": {},
   "source": [
    "nombre_infected      1001\n",
    "nombre_sain          2009\n",
    "nombre_exposed        559\n",
    "nombre_recovered    16431\n",
    "Name: 595, dtype: int64"
   ]
  },
  {
   "cell_type": "markdown",
   "id": "9aa95a5d",
   "metadata": {},
   "source": [
    "nombre_infected      1002\n",
    "nombre_sain          2025\n",
    "nombre_exposed        552\n",
    "nombre_recovered    16421\n",
    "Name: 596, dtype: int64"
   ]
  },
  {
   "cell_type": "markdown",
   "id": "2fb3bd36",
   "metadata": {},
   "source": [
    "nombre_infected      1024\n",
    "nombre_sain          2022\n",
    "nombre_exposed        529\n",
    "nombre_recovered    16425\n",
    "Name: 597, dtype: int64"
   ]
  },
  {
   "cell_type": "markdown",
   "id": "7ee2d921",
   "metadata": {},
   "source": [
    "nombre_infected      1023\n",
    "nombre_sain          2000\n",
    "nombre_exposed        548\n",
    "nombre_recovered    16429\n",
    "Name: 598, dtype: int64"
   ]
  },
  {
   "cell_type": "markdown",
   "id": "5aa32355",
   "metadata": {},
   "source": [
    "nombre_infected      1011\n",
    "nombre_sain          1992\n",
    "nombre_exposed        550\n",
    "nombre_recovered    16447\n",
    "Name: 599, dtype: int64"
   ]
  },
  {
   "cell_type": "markdown",
   "id": "ba6a7166",
   "metadata": {},
   "source": [
    "nombre_infected      1011\n",
    "nombre_sain          1986\n",
    "nombre_exposed        539\n",
    "nombre_recovered    16464\n",
    "Name: 600, dtype: int64"
   ]
  },
  {
   "cell_type": "markdown",
   "id": "5d0b6b3f",
   "metadata": {},
   "source": [
    "nombre_infected      1010\n",
    "nombre_sain          1970\n",
    "nombre_exposed        537\n",
    "nombre_recovered    16483\n",
    "Name: 601, dtype: int64"
   ]
  },
  {
   "cell_type": "markdown",
   "id": "61d80228",
   "metadata": {},
   "source": [
    "nombre_infected      1001\n",
    "nombre_sain          1961\n",
    "nombre_exposed        542\n",
    "nombre_recovered    16496\n",
    "Name: 602, dtype: int64"
   ]
  },
  {
   "cell_type": "markdown",
   "id": "05d4dc75",
   "metadata": {},
   "source": [
    "nombre_infected       988\n",
    "nombre_sain          1953\n",
    "nombre_exposed        542\n",
    "nombre_recovered    16517\n",
    "Name: 603, dtype: int64"
   ]
  },
  {
   "cell_type": "markdown",
   "id": "cf16f230",
   "metadata": {},
   "source": [
    "nombre_infected       996\n",
    "nombre_sain          1942\n",
    "nombre_exposed        518\n",
    "nombre_recovered    16544\n",
    "Name: 604, dtype: int64"
   ]
  },
  {
   "cell_type": "markdown",
   "id": "0e8922fa",
   "metadata": {},
   "source": [
    "nombre_infected       985\n",
    "nombre_sain          1949\n",
    "nombre_exposed        499\n",
    "nombre_recovered    16567\n",
    "Name: 605, dtype: int64"
   ]
  },
  {
   "cell_type": "markdown",
   "id": "261e0f90",
   "metadata": {},
   "source": [
    "nombre_infected       965\n",
    "nombre_sain          1964\n",
    "nombre_exposed        496\n",
    "nombre_recovered    16575\n",
    "Name: 606, dtype: int64"
   ]
  },
  {
   "cell_type": "markdown",
   "id": "8d88aef3",
   "metadata": {},
   "source": [
    "nombre_infected       920\n",
    "nombre_sain          1942\n",
    "nombre_exposed        526\n",
    "nombre_recovered    16612\n",
    "Name: 607, dtype: int64"
   ]
  },
  {
   "cell_type": "markdown",
   "id": "69e54928",
   "metadata": {},
   "source": [
    "nombre_infected       912\n",
    "nombre_sain          1938\n",
    "nombre_exposed        521\n",
    "nombre_recovered    16629\n",
    "Name: 608, dtype: int64"
   ]
  },
  {
   "cell_type": "markdown",
   "id": "e9b97372",
   "metadata": {},
   "source": [
    "nombre_infected       917\n",
    "nombre_sain          1945\n",
    "nombre_exposed        491\n",
    "nombre_recovered    16647\n",
    "Name: 609, dtype: int64"
   ]
  },
  {
   "cell_type": "markdown",
   "id": "27abef68",
   "metadata": {},
   "source": [
    "nombre_infected       917\n",
    "nombre_sain          1917\n",
    "nombre_exposed        491\n",
    "nombre_recovered    16675\n",
    "Name: 610, dtype: int64"
   ]
  },
  {
   "cell_type": "markdown",
   "id": "260fece1",
   "metadata": {},
   "source": [
    "nombre_infected       922\n",
    "nombre_sain          1906\n",
    "nombre_exposed        483\n",
    "nombre_recovered    16689\n",
    "Name: 611, dtype: int64"
   ]
  },
  {
   "cell_type": "markdown",
   "id": "8ec626d2",
   "metadata": {},
   "source": [
    "nombre_infected       894\n",
    "nombre_sain          1926\n",
    "nombre_exposed        461\n",
    "nombre_recovered    16719\n",
    "Name: 612, dtype: int64"
   ]
  },
  {
   "cell_type": "markdown",
   "id": "0748d6c8",
   "metadata": {},
   "source": [
    "nombre_infected       912\n",
    "nombre_sain          1923\n",
    "nombre_exposed        454\n",
    "nombre_recovered    16711\n",
    "Name: 613, dtype: int64"
   ]
  },
  {
   "cell_type": "markdown",
   "id": "678daa99",
   "metadata": {},
   "source": [
    "nombre_infected       904\n",
    "nombre_sain          1901\n",
    "nombre_exposed        471\n",
    "nombre_recovered    16724\n",
    "Name: 614, dtype: int64"
   ]
  },
  {
   "cell_type": "markdown",
   "id": "26ef22ad",
   "metadata": {},
   "source": [
    "nombre_infected       880\n",
    "nombre_sain          1877\n",
    "nombre_exposed        479\n",
    "nombre_recovered    16764\n",
    "Name: 615, dtype: int64"
   ]
  },
  {
   "cell_type": "markdown",
   "id": "40769b3c",
   "metadata": {},
   "source": [
    "nombre_infected       856\n",
    "nombre_sain          1901\n",
    "nombre_exposed        460\n",
    "nombre_recovered    16783\n",
    "Name: 616, dtype: int64"
   ]
  },
  {
   "cell_type": "markdown",
   "id": "e3f927cd",
   "metadata": {},
   "source": [
    "nombre_infected       854\n",
    "nombre_sain          1894\n",
    "nombre_exposed        445\n",
    "nombre_recovered    16807\n",
    "Name: 617, dtype: int64"
   ]
  },
  {
   "cell_type": "markdown",
   "id": "8c34fccb",
   "metadata": {},
   "source": [
    "nombre_infected       857\n",
    "nombre_sain          1911\n",
    "nombre_exposed        427\n",
    "nombre_recovered    16805\n",
    "Name: 618, dtype: int64"
   ]
  },
  {
   "cell_type": "markdown",
   "id": "b52cde43",
   "metadata": {},
   "source": [
    "nombre_infected       824\n",
    "nombre_sain          1899\n",
    "nombre_exposed        433\n",
    "nombre_recovered    16844\n",
    "Name: 619, dtype: int64"
   ]
  },
  {
   "cell_type": "markdown",
   "id": "0cdfdd58",
   "metadata": {},
   "source": [
    "nombre_infected       824\n",
    "nombre_sain          1896\n",
    "nombre_exposed        413\n",
    "nombre_recovered    16867\n",
    "Name: 620, dtype: int64"
   ]
  },
  {
   "cell_type": "markdown",
   "id": "1f9902a0",
   "metadata": {},
   "source": [
    "nombre_infected       830\n",
    "nombre_sain          1886\n",
    "nombre_exposed        399\n",
    "nombre_recovered    16885\n",
    "Name: 621, dtype: int64"
   ]
  },
  {
   "cell_type": "markdown",
   "id": "6667f0a1",
   "metadata": {},
   "source": [
    "nombre_infected       775\n",
    "nombre_sain          1899\n",
    "nombre_exposed        400\n",
    "nombre_recovered    16926\n",
    "Name: 622, dtype: int64"
   ]
  },
  {
   "cell_type": "markdown",
   "id": "be6d5e4a",
   "metadata": {},
   "source": [
    "nombre_infected       762\n",
    "nombre_sain          1899\n",
    "nombre_exposed        401\n",
    "nombre_recovered    16938\n",
    "Name: 623, dtype: int64"
   ]
  },
  {
   "cell_type": "markdown",
   "id": "ea077fde",
   "metadata": {},
   "source": [
    "nombre_infected       743\n",
    "nombre_sain          1929\n",
    "nombre_exposed        400\n",
    "nombre_recovered    16928\n",
    "Name: 624, dtype: int64"
   ]
  },
  {
   "cell_type": "markdown",
   "id": "21dd1183",
   "metadata": {},
   "source": [
    "nombre_infected       721\n",
    "nombre_sain          1927\n",
    "nombre_exposed        400\n",
    "nombre_recovered    16952\n",
    "Name: 625, dtype: int64"
   ]
  },
  {
   "cell_type": "markdown",
   "id": "b02c46e2",
   "metadata": {},
   "source": [
    "nombre_infected       718\n",
    "nombre_sain          1954\n",
    "nombre_exposed        389\n",
    "nombre_recovered    16939\n",
    "Name: 626, dtype: int64"
   ]
  },
  {
   "cell_type": "markdown",
   "id": "33271277",
   "metadata": {},
   "source": [
    "nombre_infected       713\n",
    "nombre_sain          1957\n",
    "nombre_exposed        392\n",
    "nombre_recovered    16938\n",
    "Name: 627, dtype: int64"
   ]
  },
  {
   "cell_type": "markdown",
   "id": "dbff5c53",
   "metadata": {},
   "source": [
    "nombre_infected       711\n",
    "nombre_sain          1985\n",
    "nombre_exposed        382\n",
    "nombre_recovered    16922\n",
    "Name: 628, dtype: int64"
   ]
  },
  {
   "cell_type": "markdown",
   "id": "803101a8",
   "metadata": {},
   "source": [
    "nombre_infected       709\n",
    "nombre_sain          2004\n",
    "nombre_exposed        388\n",
    "nombre_recovered    16899\n",
    "Name: 629, dtype: int64"
   ]
  },
  {
   "cell_type": "markdown",
   "id": "cd7d8699",
   "metadata": {},
   "source": [
    "nombre_infected       705\n",
    "nombre_sain          2002\n",
    "nombre_exposed        387\n",
    "nombre_recovered    16906\n",
    "Name: 630, dtype: int64"
   ]
  },
  {
   "cell_type": "markdown",
   "id": "1bf5f8a1",
   "metadata": {},
   "source": [
    "nombre_infected       704\n",
    "nombre_sain          2004\n",
    "nombre_exposed        400\n",
    "nombre_recovered    16892\n",
    "Name: 631, dtype: int64"
   ]
  },
  {
   "cell_type": "markdown",
   "id": "7baef339",
   "metadata": {},
   "source": [
    "nombre_infected       694\n",
    "nombre_sain          2011\n",
    "nombre_exposed        384\n",
    "nombre_recovered    16911\n",
    "Name: 632, dtype: int64"
   ]
  },
  {
   "cell_type": "markdown",
   "id": "6120c208",
   "metadata": {},
   "source": [
    "nombre_infected       694\n",
    "nombre_sain          2018\n",
    "nombre_exposed        378\n",
    "nombre_recovered    16910\n",
    "Name: 633, dtype: int64"
   ]
  },
  {
   "cell_type": "markdown",
   "id": "06340e8d",
   "metadata": {},
   "source": [
    "nombre_infected       695\n",
    "nombre_sain          2034\n",
    "nombre_exposed        367\n",
    "nombre_recovered    16904\n",
    "Name: 634, dtype: int64"
   ]
  },
  {
   "cell_type": "markdown",
   "id": "af2c5463",
   "metadata": {},
   "source": [
    "nombre_infected       681\n",
    "nombre_sain          2061\n",
    "nombre_exposed        359\n",
    "nombre_recovered    16899\n",
    "Name: 635, dtype: int64"
   ]
  },
  {
   "cell_type": "markdown",
   "id": "afd6146f",
   "metadata": {},
   "source": [
    "nombre_infected       666\n",
    "nombre_sain          2060\n",
    "nombre_exposed        364\n",
    "nombre_recovered    16910\n",
    "Name: 636, dtype: int64"
   ]
  },
  {
   "cell_type": "markdown",
   "id": "ec0ed9dd",
   "metadata": {},
   "source": [
    "nombre_infected       650\n",
    "nombre_sain          2057\n",
    "nombre_exposed        357\n",
    "nombre_recovered    16936\n",
    "Name: 637, dtype: int64"
   ]
  },
  {
   "cell_type": "markdown",
   "id": "9a2a6153",
   "metadata": {},
   "source": [
    "nombre_infected       638\n",
    "nombre_sain          2068\n",
    "nombre_exposed        354\n",
    "nombre_recovered    16940\n",
    "Name: 638, dtype: int64"
   ]
  },
  {
   "cell_type": "markdown",
   "id": "0f21947f",
   "metadata": {},
   "source": [
    "nombre_infected       642\n",
    "nombre_sain          2079\n",
    "nombre_exposed        353\n",
    "nombre_recovered    16926\n",
    "Name: 639, dtype: int64"
   ]
  },
  {
   "cell_type": "markdown",
   "id": "3385cc1c",
   "metadata": {},
   "source": [
    "nombre_infected       647\n",
    "nombre_sain          2107\n",
    "nombre_exposed        343\n",
    "nombre_recovered    16903\n",
    "Name: 640, dtype: int64"
   ]
  },
  {
   "cell_type": "markdown",
   "id": "60e25080",
   "metadata": {},
   "source": [
    "nombre_infected       631\n",
    "nombre_sain          2103\n",
    "nombre_exposed        368\n",
    "nombre_recovered    16898\n",
    "Name: 641, dtype: int64"
   ]
  },
  {
   "cell_type": "markdown",
   "id": "84ca030d",
   "metadata": {},
   "source": [
    "nombre_infected       654\n",
    "nombre_sain          2118\n",
    "nombre_exposed        351\n",
    "nombre_recovered    16877\n",
    "Name: 642, dtype: int64"
   ]
  },
  {
   "cell_type": "markdown",
   "id": "d1450eae",
   "metadata": {},
   "source": [
    "nombre_infected       658\n",
    "nombre_sain          2077\n",
    "nombre_exposed        371\n",
    "nombre_recovered    16894\n",
    "Name: 643, dtype: int64"
   ]
  },
  {
   "cell_type": "markdown",
   "id": "efccf62c",
   "metadata": {},
   "source": [
    "nombre_infected       667\n",
    "nombre_sain          2075\n",
    "nombre_exposed        353\n",
    "nombre_recovered    16905\n",
    "Name: 644, dtype: int64"
   ]
  },
  {
   "cell_type": "markdown",
   "id": "128a6be0",
   "metadata": {},
   "source": [
    "nombre_infected       660\n",
    "nombre_sain          2070\n",
    "nombre_exposed        357\n",
    "nombre_recovered    16913\n",
    "Name: 645, dtype: int64"
   ]
  },
  {
   "cell_type": "markdown",
   "id": "c43f4e06",
   "metadata": {},
   "source": [
    "nombre_infected       668\n",
    "nombre_sain          2071\n",
    "nombre_exposed        361\n",
    "nombre_recovered    16900\n",
    "Name: 646, dtype: int64"
   ]
  },
  {
   "cell_type": "markdown",
   "id": "4d08304e",
   "metadata": {},
   "source": [
    "nombre_infected       675\n",
    "nombre_sain          2084\n",
    "nombre_exposed        342\n",
    "nombre_recovered    16899\n",
    "Name: 647, dtype: int64"
   ]
  },
  {
   "cell_type": "markdown",
   "id": "1bf6075b",
   "metadata": {},
   "source": [
    "nombre_infected       678\n",
    "nombre_sain          2087\n",
    "nombre_exposed        357\n",
    "nombre_recovered    16878\n",
    "Name: 648, dtype: int64"
   ]
  },
  {
   "cell_type": "markdown",
   "id": "796c1777",
   "metadata": {},
   "source": [
    "nombre_infected       680\n",
    "nombre_sain          2084\n",
    "nombre_exposed        362\n",
    "nombre_recovered    16874\n",
    "Name: 649, dtype: int64"
   ]
  },
  {
   "cell_type": "markdown",
   "id": "908a6574",
   "metadata": {},
   "source": [
    "nombre_infected       678\n",
    "nombre_sain          2083\n",
    "nombre_exposed        374\n",
    "nombre_recovered    16865\n",
    "Name: 650, dtype: int64"
   ]
  },
  {
   "cell_type": "markdown",
   "id": "242694fe",
   "metadata": {},
   "source": [
    "nombre_infected       680\n",
    "nombre_sain          2077\n",
    "nombre_exposed        366\n",
    "nombre_recovered    16877\n",
    "Name: 651, dtype: int64"
   ]
  },
  {
   "cell_type": "markdown",
   "id": "85959102",
   "metadata": {},
   "source": [
    "nombre_infected       673\n",
    "nombre_sain          2090\n",
    "nombre_exposed        362\n",
    "nombre_recovered    16875\n",
    "Name: 652, dtype: int64"
   ]
  },
  {
   "cell_type": "markdown",
   "id": "d95851da",
   "metadata": {},
   "source": [
    "nombre_infected       676\n",
    "nombre_sain          2109\n",
    "nombre_exposed        370\n",
    "nombre_recovered    16845\n",
    "Name: 653, dtype: int64"
   ]
  },
  {
   "cell_type": "markdown",
   "id": "8fca4978",
   "metadata": {},
   "source": [
    "nombre_infected       684\n",
    "nombre_sain          2136\n",
    "nombre_exposed        348\n",
    "nombre_recovered    16832\n",
    "Name: 654, dtype: int64"
   ]
  },
  {
   "cell_type": "markdown",
   "id": "c4b0d925",
   "metadata": {},
   "source": [
    "nombre_infected       672\n",
    "nombre_sain          2147\n",
    "nombre_exposed        352\n",
    "nombre_recovered    16829\n",
    "Name: 655, dtype: int64"
   ]
  },
  {
   "cell_type": "markdown",
   "id": "d7aead1f",
   "metadata": {},
   "source": [
    "nombre_infected       653\n",
    "nombre_sain          2163\n",
    "nombre_exposed        356\n",
    "nombre_recovered    16828\n",
    "Name: 656, dtype: int64"
   ]
  },
  {
   "cell_type": "markdown",
   "id": "366bb63a",
   "metadata": {},
   "source": [
    "nombre_infected       639\n",
    "nombre_sain          2169\n",
    "nombre_exposed        363\n",
    "nombre_recovered    16829\n",
    "Name: 657, dtype: int64"
   ]
  },
  {
   "cell_type": "markdown",
   "id": "91b94cf3",
   "metadata": {},
   "source": [
    "nombre_infected       648\n",
    "nombre_sain          2183\n",
    "nombre_exposed        359\n",
    "nombre_recovered    16810\n",
    "Name: 658, dtype: int64"
   ]
  },
  {
   "cell_type": "markdown",
   "id": "1201d7c6",
   "metadata": {},
   "source": [
    "nombre_infected       645\n",
    "nombre_sain          2200\n",
    "nombre_exposed        382\n",
    "nombre_recovered    16773\n",
    "Name: 659, dtype: int64"
   ]
  },
  {
   "cell_type": "markdown",
   "id": "8b4ebfaa",
   "metadata": {},
   "source": [
    "nombre_infected       641\n",
    "nombre_sain          2247\n",
    "nombre_exposed        374\n",
    "nombre_recovered    16738\n",
    "Name: 660, dtype: int64"
   ]
  },
  {
   "cell_type": "markdown",
   "id": "3e49940e",
   "metadata": {},
   "source": [
    "nombre_infected       663\n",
    "nombre_sain          2289\n",
    "nombre_exposed        356\n",
    "nombre_recovered    16692\n",
    "Name: 661, dtype: int64"
   ]
  },
  {
   "cell_type": "markdown",
   "id": "bbffe0f2",
   "metadata": {},
   "source": [
    "nombre_infected       666\n",
    "nombre_sain          2320\n",
    "nombre_exposed        329\n",
    "nombre_recovered    16685\n",
    "Name: 662, dtype: int64"
   ]
  },
  {
   "cell_type": "markdown",
   "id": "4313d66f",
   "metadata": {},
   "source": [
    "nombre_infected       663\n",
    "nombre_sain          2327\n",
    "nombre_exposed        345\n",
    "nombre_recovered    16665\n",
    "Name: 663, dtype: int64"
   ]
  },
  {
   "cell_type": "markdown",
   "id": "a9c58b5e",
   "metadata": {},
   "source": [
    "nombre_infected       648\n",
    "nombre_sain          2356\n",
    "nombre_exposed        363\n",
    "nombre_recovered    16633\n",
    "Name: 664, dtype: int64"
   ]
  },
  {
   "cell_type": "markdown",
   "id": "b392d815",
   "metadata": {},
   "source": [
    "nombre_infected       641\n",
    "nombre_sain          2364\n",
    "nombre_exposed        373\n",
    "nombre_recovered    16622\n",
    "Name: 665, dtype: int64"
   ]
  },
  {
   "cell_type": "markdown",
   "id": "4056555f",
   "metadata": {},
   "source": [
    "nombre_infected       664\n",
    "nombre_sain          2383\n",
    "nombre_exposed        375\n",
    "nombre_recovered    16578\n",
    "Name: 666, dtype: int64"
   ]
  },
  {
   "cell_type": "markdown",
   "id": "5d92c3f7",
   "metadata": {},
   "source": [
    "nombre_infected       652\n",
    "nombre_sain          2381\n",
    "nombre_exposed        394\n",
    "nombre_recovered    16573\n",
    "Name: 667, dtype: int64"
   ]
  },
  {
   "cell_type": "markdown",
   "id": "0a356bd5",
   "metadata": {},
   "source": [
    "nombre_infected       639\n",
    "nombre_sain          2393\n",
    "nombre_exposed        409\n",
    "nombre_recovered    16559\n",
    "Name: 668, dtype: int64"
   ]
  },
  {
   "cell_type": "markdown",
   "id": "b9a2616a",
   "metadata": {},
   "source": [
    "nombre_infected       647\n",
    "nombre_sain          2418\n",
    "nombre_exposed        403\n",
    "nombre_recovered    16532\n",
    "Name: 669, dtype: int64"
   ]
  },
  {
   "cell_type": "markdown",
   "id": "2334f46e",
   "metadata": {},
   "source": [
    "nombre_infected       669\n",
    "nombre_sain          2418\n",
    "nombre_exposed        417\n",
    "nombre_recovered    16496\n",
    "Name: 670, dtype: int64"
   ]
  },
  {
   "cell_type": "markdown",
   "id": "de575cd2",
   "metadata": {},
   "source": [
    "nombre_infected       690\n",
    "nombre_sain          2426\n",
    "nombre_exposed        421\n",
    "nombre_recovered    16463\n",
    "Name: 671, dtype: int64"
   ]
  },
  {
   "cell_type": "markdown",
   "id": "8cd8ede2",
   "metadata": {},
   "source": [
    "nombre_infected       709\n",
    "nombre_sain          2439\n",
    "nombre_exposed        398\n",
    "nombre_recovered    16454\n",
    "Name: 672, dtype: int64"
   ]
  },
  {
   "cell_type": "markdown",
   "id": "b6c004cf",
   "metadata": {},
   "source": [
    "nombre_infected       733\n",
    "nombre_sain          2439\n",
    "nombre_exposed        396\n",
    "nombre_recovered    16432\n",
    "Name: 673, dtype: int64"
   ]
  },
  {
   "cell_type": "markdown",
   "id": "5da53e7d",
   "metadata": {},
   "source": [
    "nombre_infected       733\n",
    "nombre_sain          2439\n",
    "nombre_exposed        399\n",
    "nombre_recovered    16429\n",
    "Name: 674, dtype: int64"
   ]
  },
  {
   "cell_type": "markdown",
   "id": "e7d0230e",
   "metadata": {},
   "source": [
    "nombre_infected       733\n",
    "nombre_sain          2443\n",
    "nombre_exposed        417\n",
    "nombre_recovered    16407\n",
    "Name: 675, dtype: int64"
   ]
  },
  {
   "cell_type": "markdown",
   "id": "85124586",
   "metadata": {},
   "source": [
    "nombre_infected       733\n",
    "nombre_sain          2431\n",
    "nombre_exposed        452\n",
    "nombre_recovered    16384\n",
    "Name: 676, dtype: int64"
   ]
  },
  {
   "cell_type": "markdown",
   "id": "d6cd8cdf",
   "metadata": {},
   "source": [
    "nombre_infected       750\n",
    "nombre_sain          2413\n",
    "nombre_exposed        472\n",
    "nombre_recovered    16365\n",
    "Name: 677, dtype: int64"
   ]
  },
  {
   "cell_type": "markdown",
   "id": "98d62a6b",
   "metadata": {},
   "source": [
    "nombre_infected       773\n",
    "nombre_sain          2428\n",
    "nombre_exposed        461\n",
    "nombre_recovered    16338\n",
    "Name: 678, dtype: int64"
   ]
  },
  {
   "cell_type": "markdown",
   "id": "cdc1b816",
   "metadata": {},
   "source": [
    "nombre_infected       786\n",
    "nombre_sain          2412\n",
    "nombre_exposed        445\n",
    "nombre_recovered    16357\n",
    "Name: 679, dtype: int64"
   ]
  },
  {
   "cell_type": "markdown",
   "id": "ce75d2d7",
   "metadata": {},
   "source": [
    "nombre_infected       788\n",
    "nombre_sain          2413\n",
    "nombre_exposed        433\n",
    "nombre_recovered    16366\n",
    "Name: 680, dtype: int64"
   ]
  },
  {
   "cell_type": "markdown",
   "id": "ad95cfb5",
   "metadata": {},
   "source": [
    "nombre_infected       774\n",
    "nombre_sain          2401\n",
    "nombre_exposed        442\n",
    "nombre_recovered    16383\n",
    "Name: 681, dtype: int64"
   ]
  },
  {
   "cell_type": "markdown",
   "id": "ebe299c0",
   "metadata": {},
   "source": [
    "nombre_infected       774\n",
    "nombre_sain          2400\n",
    "nombre_exposed        451\n",
    "nombre_recovered    16375\n",
    "Name: 682, dtype: int64"
   ]
  },
  {
   "cell_type": "markdown",
   "id": "d87e5964",
   "metadata": {},
   "source": [
    "nombre_infected       768\n",
    "nombre_sain          2376\n",
    "nombre_exposed        480\n",
    "nombre_recovered    16376\n",
    "Name: 683, dtype: int64"
   ]
  },
  {
   "cell_type": "markdown",
   "id": "0966d80c",
   "metadata": {},
   "source": [
    "nombre_infected       767\n",
    "nombre_sain          2361\n",
    "nombre_exposed        498\n",
    "nombre_recovered    16374\n",
    "Name: 684, dtype: int64"
   ]
  },
  {
   "cell_type": "markdown",
   "id": "114fcaec",
   "metadata": {},
   "source": [
    "nombre_infected       770\n",
    "nombre_sain          2348\n",
    "nombre_exposed        493\n",
    "nombre_recovered    16389\n",
    "Name: 685, dtype: int64"
   ]
  },
  {
   "cell_type": "markdown",
   "id": "55b0185a",
   "metadata": {},
   "source": [
    "nombre_infected       801\n",
    "nombre_sain          2347\n",
    "nombre_exposed        460\n",
    "nombre_recovered    16392\n",
    "Name: 686, dtype: int64"
   ]
  },
  {
   "cell_type": "markdown",
   "id": "9ee9e380",
   "metadata": {},
   "source": [
    "nombre_infected       823\n",
    "nombre_sain          2343\n",
    "nombre_exposed        466\n",
    "nombre_recovered    16368\n",
    "Name: 687, dtype: int64"
   ]
  },
  {
   "cell_type": "markdown",
   "id": "3f7a4332",
   "metadata": {},
   "source": [
    "nombre_infected       845\n",
    "nombre_sain          2347\n",
    "nombre_exposed        472\n",
    "nombre_recovered    16336\n",
    "Name: 688, dtype: int64"
   ]
  },
  {
   "cell_type": "markdown",
   "id": "079c463c",
   "metadata": {},
   "source": [
    "nombre_infected       847\n",
    "nombre_sain          2308\n",
    "nombre_exposed        518\n",
    "nombre_recovered    16327\n",
    "Name: 689, dtype: int64"
   ]
  },
  {
   "cell_type": "markdown",
   "id": "9947d270",
   "metadata": {},
   "source": [
    "nombre_infected       848\n",
    "nombre_sain          2302\n",
    "nombre_exposed        531\n",
    "nombre_recovered    16319\n",
    "Name: 690, dtype: int64"
   ]
  },
  {
   "cell_type": "markdown",
   "id": "05533d4f",
   "metadata": {},
   "source": [
    "nombre_infected       867\n",
    "nombre_sain          2273\n",
    "nombre_exposed        529\n",
    "nombre_recovered    16331\n",
    "Name: 691, dtype: int64"
   ]
  },
  {
   "cell_type": "markdown",
   "id": "0b39f768",
   "metadata": {},
   "source": [
    "nombre_infected       888\n",
    "nombre_sain          2255\n",
    "nombre_exposed        500\n",
    "nombre_recovered    16357\n",
    "Name: 692, dtype: int64"
   ]
  },
  {
   "cell_type": "markdown",
   "id": "b5b1f77b",
   "metadata": {},
   "source": [
    "nombre_infected       886\n",
    "nombre_sain          2225\n",
    "nombre_exposed        495\n",
    "nombre_recovered    16394\n",
    "Name: 693, dtype: int64"
   ]
  },
  {
   "cell_type": "markdown",
   "id": "083b7fe4",
   "metadata": {},
   "source": [
    "nombre_infected       896\n",
    "nombre_sain          2216\n",
    "nombre_exposed        498\n",
    "nombre_recovered    16390\n",
    "Name: 694, dtype: int64"
   ]
  },
  {
   "cell_type": "markdown",
   "id": "21b395a2",
   "metadata": {},
   "source": [
    "nombre_infected       888\n",
    "nombre_sain          2225\n",
    "nombre_exposed        494\n",
    "nombre_recovered    16393\n",
    "Name: 695, dtype: int64"
   ]
  },
  {
   "cell_type": "markdown",
   "id": "acca7eee",
   "metadata": {},
   "source": [
    "nombre_infected       874\n",
    "nombre_sain          2231\n",
    "nombre_exposed        518\n",
    "nombre_recovered    16377\n",
    "Name: 696, dtype: int64"
   ]
  },
  {
   "cell_type": "markdown",
   "id": "07e7137a",
   "metadata": {},
   "source": [
    "nombre_infected       873\n",
    "nombre_sain          2227\n",
    "nombre_exposed        507\n",
    "nombre_recovered    16393\n",
    "Name: 697, dtype: int64"
   ]
  },
  {
   "cell_type": "markdown",
   "id": "17437a2a",
   "metadata": {},
   "source": [
    "nombre_infected       897\n",
    "nombre_sain          2246\n",
    "nombre_exposed        471\n",
    "nombre_recovered    16386\n",
    "Name: 698, dtype: int64"
   ]
  },
  {
   "cell_type": "markdown",
   "id": "73dce0d3",
   "metadata": {},
   "source": [
    "nombre_infected       872\n",
    "nombre_sain          2259\n",
    "nombre_exposed        488\n",
    "nombre_recovered    16381\n",
    "Name: 699, dtype: int64"
   ]
  },
  {
   "cell_type": "markdown",
   "id": "08f4a784",
   "metadata": {},
   "source": [
    "nombre_infected       879\n",
    "nombre_sain          2272\n",
    "nombre_exposed        480\n",
    "nombre_recovered    16369\n",
    "Name: 700, dtype: int64"
   ]
  },
  {
   "cell_type": "markdown",
   "id": "13398281",
   "metadata": {},
   "source": [
    "nombre_infected       870\n",
    "nombre_sain          2265\n",
    "nombre_exposed        487\n",
    "nombre_recovered    16378\n",
    "Name: 701, dtype: int64"
   ]
  },
  {
   "cell_type": "markdown",
   "id": "00171584",
   "metadata": {},
   "source": [
    "nombre_infected       894\n",
    "nombre_sain          2292\n",
    "nombre_exposed        462\n",
    "nombre_recovered    16352\n",
    "Name: 702, dtype: int64"
   ]
  },
  {
   "cell_type": "markdown",
   "id": "135a3f72",
   "metadata": {},
   "source": [
    "nombre_infected       901\n",
    "nombre_sain          2289\n",
    "nombre_exposed        468\n",
    "nombre_recovered    16342\n",
    "Name: 703, dtype: int64"
   ]
  },
  {
   "cell_type": "markdown",
   "id": "90877124",
   "metadata": {},
   "source": [
    "nombre_infected       869\n",
    "nombre_sain          2281\n",
    "nombre_exposed        491\n",
    "nombre_recovered    16359\n",
    "Name: 704, dtype: int64"
   ]
  },
  {
   "cell_type": "markdown",
   "id": "7025fee3",
   "metadata": {},
   "source": [
    "nombre_infected       836\n",
    "nombre_sain          2280\n",
    "nombre_exposed        511\n",
    "nombre_recovered    16373\n",
    "Name: 705, dtype: int64"
   ]
  },
  {
   "cell_type": "markdown",
   "id": "002ff8e8",
   "metadata": {},
   "source": [
    "nombre_infected       835\n",
    "nombre_sain          2274\n",
    "nombre_exposed        518\n",
    "nombre_recovered    16373\n",
    "Name: 706, dtype: int64"
   ]
  },
  {
   "cell_type": "markdown",
   "id": "9e8ad558",
   "metadata": {},
   "source": [
    "nombre_infected       846\n",
    "nombre_sain          2264\n",
    "nombre_exposed        494\n",
    "nombre_recovered    16396\n",
    "Name: 707, dtype: int64"
   ]
  },
  {
   "cell_type": "markdown",
   "id": "9378eb31",
   "metadata": {},
   "source": [
    "nombre_infected       844\n",
    "nombre_sain          2245\n",
    "nombre_exposed        519\n",
    "nombre_recovered    16392\n",
    "Name: 708, dtype: int64"
   ]
  },
  {
   "cell_type": "markdown",
   "id": "27300423",
   "metadata": {},
   "source": [
    "nombre_infected       862\n",
    "nombre_sain          2239\n",
    "nombre_exposed        488\n",
    "nombre_recovered    16411\n",
    "Name: 709, dtype: int64"
   ]
  },
  {
   "cell_type": "markdown",
   "id": "3b10ed19",
   "metadata": {},
   "source": [
    "nombre_infected       862\n",
    "nombre_sain          2255\n",
    "nombre_exposed        477\n",
    "nombre_recovered    16406\n",
    "Name: 710, dtype: int64"
   ]
  },
  {
   "cell_type": "markdown",
   "id": "97570a16",
   "metadata": {},
   "source": [
    "nombre_infected       858\n",
    "nombre_sain          2246\n",
    "nombre_exposed        497\n",
    "nombre_recovered    16399\n",
    "Name: 711, dtype: int64"
   ]
  },
  {
   "cell_type": "markdown",
   "id": "cd6d0565",
   "metadata": {},
   "source": [
    "nombre_infected       861\n",
    "nombre_sain          2219\n",
    "nombre_exposed        514\n",
    "nombre_recovered    16406\n",
    "Name: 712, dtype: int64"
   ]
  },
  {
   "cell_type": "markdown",
   "id": "469134e0",
   "metadata": {},
   "source": [
    "nombre_infected       853\n",
    "nombre_sain          2206\n",
    "nombre_exposed        537\n",
    "nombre_recovered    16404\n",
    "Name: 713, dtype: int64"
   ]
  },
  {
   "cell_type": "markdown",
   "id": "04376a3f",
   "metadata": {},
   "source": [
    "nombre_infected       870\n",
    "nombre_sain          2207\n",
    "nombre_exposed        528\n",
    "nombre_recovered    16395\n",
    "Name: 714, dtype: int64"
   ]
  },
  {
   "cell_type": "markdown",
   "id": "1870a3e5",
   "metadata": {},
   "source": [
    "nombre_infected       889\n",
    "nombre_sain          2237\n",
    "nombre_exposed        507\n",
    "nombre_recovered    16367\n",
    "Name: 715, dtype: int64"
   ]
  },
  {
   "cell_type": "markdown",
   "id": "16a4cab8",
   "metadata": {},
   "source": [
    "nombre_infected       921\n",
    "nombre_sain          2224\n",
    "nombre_exposed        496\n",
    "nombre_recovered    16359\n",
    "Name: 716, dtype: int64"
   ]
  },
  {
   "cell_type": "markdown",
   "id": "3cae9555",
   "metadata": {},
   "source": [
    "nombre_infected       899\n",
    "nombre_sain          2234\n",
    "nombre_exposed        501\n",
    "nombre_recovered    16366\n",
    "Name: 717, dtype: int64"
   ]
  },
  {
   "cell_type": "markdown",
   "id": "6098ecde",
   "metadata": {},
   "source": [
    "nombre_infected       909\n",
    "nombre_sain          2219\n",
    "nombre_exposed        505\n",
    "nombre_recovered    16367\n",
    "Name: 718, dtype: int64"
   ]
  },
  {
   "cell_type": "markdown",
   "id": "038061ac",
   "metadata": {},
   "source": [
    "nombre_infected       908\n",
    "nombre_sain          2218\n",
    "nombre_exposed        493\n",
    "nombre_recovered    16381\n",
    "Name: 719, dtype: int64"
   ]
  },
  {
   "cell_type": "markdown",
   "id": "da69c7ae",
   "metadata": {},
   "source": [
    "nombre_infected       908\n",
    "nombre_sain          2231\n",
    "nombre_exposed        491\n",
    "nombre_recovered    16370\n",
    "Name: 720, dtype: int64"
   ]
  },
  {
   "cell_type": "markdown",
   "id": "3b635bd9",
   "metadata": {},
   "source": [
    "nombre_infected       931\n",
    "nombre_sain          2202\n",
    "nombre_exposed        504\n",
    "nombre_recovered    16363\n",
    "Name: 721, dtype: int64"
   ]
  },
  {
   "cell_type": "markdown",
   "id": "292d9046",
   "metadata": {},
   "source": [
    "nombre_infected       919\n",
    "nombre_sain          2182\n",
    "nombre_exposed        521\n",
    "nombre_recovered    16378\n",
    "Name: 722, dtype: int64"
   ]
  },
  {
   "cell_type": "markdown",
   "id": "bbc24839",
   "metadata": {},
   "source": [
    "nombre_infected       926\n",
    "nombre_sain          2147\n",
    "nombre_exposed        542\n",
    "nombre_recovered    16385\n",
    "Name: 723, dtype: int64"
   ]
  },
  {
   "cell_type": "markdown",
   "id": "d1bbcb06",
   "metadata": {},
   "source": [
    "nombre_infected       907\n",
    "nombre_sain          2141\n",
    "nombre_exposed        572\n",
    "nombre_recovered    16380\n",
    "Name: 724, dtype: int64"
   ]
  },
  {
   "cell_type": "markdown",
   "id": "098dfa5a",
   "metadata": {},
   "source": [
    "nombre_infected       893\n",
    "nombre_sain          2126\n",
    "nombre_exposed        565\n",
    "nombre_recovered    16416\n",
    "Name: 725, dtype: int64"
   ]
  },
  {
   "cell_type": "markdown",
   "id": "3f858f7a",
   "metadata": {},
   "source": [
    "nombre_infected       922\n",
    "nombre_sain          2140\n",
    "nombre_exposed        542\n",
    "nombre_recovered    16396\n",
    "Name: 726, dtype: int64"
   ]
  },
  {
   "cell_type": "markdown",
   "id": "dd57f6b8",
   "metadata": {},
   "source": [
    "nombre_infected       934\n",
    "nombre_sain          2124\n",
    "nombre_exposed        545\n",
    "nombre_recovered    16397\n",
    "Name: 727, dtype: int64"
   ]
  },
  {
   "cell_type": "markdown",
   "id": "fa165405",
   "metadata": {},
   "source": [
    "nombre_infected       946\n",
    "nombre_sain          2128\n",
    "nombre_exposed        526\n",
    "nombre_recovered    16400\n",
    "Name: 728, dtype: int64"
   ]
  },
  {
   "cell_type": "markdown",
   "id": "79270752",
   "metadata": {},
   "source": [
    "nombre_infected       953\n",
    "nombre_sain          2120\n",
    "nombre_exposed        543\n",
    "nombre_recovered    16384\n",
    "Name: 729, dtype: int64"
   ]
  },
  {
   "cell_type": "markdown",
   "id": "55cf9a6a",
   "metadata": {},
   "source": [
    "nombre_infected       980\n",
    "nombre_sain          2084\n",
    "nombre_exposed        541\n",
    "nombre_recovered    16395\n",
    "Name: 730, dtype: int64"
   ]
  }
 ],
 "metadata": {},
 "nbformat": 4,
 "nbformat_minor": 5
}
