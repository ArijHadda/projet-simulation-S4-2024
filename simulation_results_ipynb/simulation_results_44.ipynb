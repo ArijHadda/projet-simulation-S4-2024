{
 "cells": [
  {
   "cell_type": "markdown",
   "id": "ab21b69d",
   "metadata": {},
   "source": [
    "nombre_infected        20\n",
    "nombre_sain         19980\n",
    "nombre_exposed          0\n",
    "nombre_recovered        0\n",
    "Name: 0, dtype: int64"
   ]
  },
  {
   "cell_type": "markdown",
   "id": "4b0e44a6",
   "metadata": {},
   "source": [
    "nombre_infected        20\n",
    "nombre_sain         19961\n",
    "nombre_exposed         19\n",
    "nombre_recovered        0\n",
    "Name: 1, dtype: int64"
   ]
  },
  {
   "cell_type": "markdown",
   "id": "92b2e5f2",
   "metadata": {},
   "source": [
    "nombre_infected        20\n",
    "nombre_sain         19934\n",
    "nombre_exposed         46\n",
    "nombre_recovered        0\n",
    "Name: 2, dtype: int64"
   ]
  },
  {
   "cell_type": "markdown",
   "id": "f8a40d93",
   "metadata": {},
   "source": [
    "nombre_infected        26\n",
    "nombre_sain         19912\n",
    "nombre_exposed         62\n",
    "nombre_recovered        0\n",
    "Name: 3, dtype: int64"
   ]
  },
  {
   "cell_type": "markdown",
   "id": "86532cd5",
   "metadata": {},
   "source": [
    "nombre_infected        37\n",
    "nombre_sain         19870\n",
    "nombre_exposed         93\n",
    "nombre_recovered        0\n",
    "Name: 4, dtype: int64"
   ]
  },
  {
   "cell_type": "markdown",
   "id": "eef02c12",
   "metadata": {},
   "source": [
    "nombre_infected        34\n",
    "nombre_sain         19835\n",
    "nombre_exposed        111\n",
    "nombre_recovered       20\n",
    "Name: 5, dtype: int64"
   ]
  },
  {
   "cell_type": "markdown",
   "id": "d66191d8",
   "metadata": {},
   "source": [
    "nombre_infected        51\n",
    "nombre_sain         19792\n",
    "nombre_exposed        134\n",
    "nombre_recovered       23\n",
    "Name: 6, dtype: int64"
   ]
  },
  {
   "cell_type": "markdown",
   "id": "9b81faba",
   "metadata": {},
   "source": [
    "nombre_infected        74\n",
    "nombre_sain         19706\n",
    "nombre_exposed        197\n",
    "nombre_recovered       23\n",
    "Name: 7, dtype: int64"
   ]
  },
  {
   "cell_type": "markdown",
   "id": "a7d46412",
   "metadata": {},
   "source": [
    "nombre_infected       102\n",
    "nombre_sain         19592\n",
    "nombre_exposed        275\n",
    "nombre_recovered       31\n",
    "Name: 8, dtype: int64"
   ]
  },
  {
   "cell_type": "markdown",
   "id": "7ffe73a3",
   "metadata": {},
   "source": [
    "nombre_infected       126\n",
    "nombre_sain         19488\n",
    "nombre_exposed        344\n",
    "nombre_recovered       42\n",
    "Name: 9, dtype: int64"
   ]
  },
  {
   "cell_type": "markdown",
   "id": "1101995e",
   "metadata": {},
   "source": [
    "nombre_infected       172\n",
    "nombre_sain         19346\n",
    "nombre_exposed        427\n",
    "nombre_recovered       55\n",
    "Name: 10, dtype: int64"
   ]
  },
  {
   "cell_type": "markdown",
   "id": "0bf0c602",
   "metadata": {},
   "source": [
    "nombre_infected       229\n",
    "nombre_sain         19103\n",
    "nombre_exposed        600\n",
    "nombre_recovered       68\n",
    "Name: 11, dtype: int64"
   ]
  },
  {
   "cell_type": "markdown",
   "id": "047e207a",
   "metadata": {},
   "source": [
    "nombre_infected       322\n",
    "nombre_sain         18778\n",
    "nombre_exposed        812\n",
    "nombre_recovered       88\n",
    "Name: 12, dtype: int64"
   ]
  },
  {
   "cell_type": "markdown",
   "id": "c96f5b13",
   "metadata": {},
   "source": [
    "nombre_infected       433\n",
    "nombre_sain         18376\n",
    "nombre_exposed       1072\n",
    "nombre_recovered      119\n",
    "Name: 13, dtype: int64"
   ]
  },
  {
   "cell_type": "markdown",
   "id": "5997d2e1",
   "metadata": {},
   "source": [
    "nombre_infected       591\n",
    "nombre_sain         17833\n",
    "nombre_exposed       1421\n",
    "nombre_recovered      155\n",
    "Name: 14, dtype: int64"
   ]
  },
  {
   "cell_type": "markdown",
   "id": "1ebaf06a",
   "metadata": {},
   "source": [
    "nombre_infected       776\n",
    "nombre_sain         17112\n",
    "nombre_exposed       1900\n",
    "nombre_recovered      212\n",
    "Name: 15, dtype: int64"
   ]
  },
  {
   "cell_type": "markdown",
   "id": "4dd550c5",
   "metadata": {},
   "source": [
    "nombre_infected      1001\n",
    "nombre_sain         16248\n",
    "nombre_exposed       2447\n",
    "nombre_recovered      304\n",
    "Name: 16, dtype: int64"
   ]
  },
  {
   "cell_type": "markdown",
   "id": "bc254d5c",
   "metadata": {},
   "source": [
    "nombre_infected      1344\n",
    "nombre_sain         15094\n",
    "nombre_exposed       3153\n",
    "nombre_recovered      409\n",
    "Name: 17, dtype: int64"
   ]
  },
  {
   "cell_type": "markdown",
   "id": "e839688c",
   "metadata": {},
   "source": [
    "nombre_infected      1772\n",
    "nombre_sain         13810\n",
    "nombre_exposed       3881\n",
    "nombre_recovered      537\n",
    "Name: 18, dtype: int64"
   ]
  },
  {
   "cell_type": "markdown",
   "id": "e46b55cb",
   "metadata": {},
   "source": [
    "nombre_infected      2337\n",
    "nombre_sain         12278\n",
    "nombre_exposed       4707\n",
    "nombre_recovered      678\n",
    "Name: 19, dtype: int64"
   ]
  },
  {
   "cell_type": "markdown",
   "id": "a2cf0ce8",
   "metadata": {},
   "source": [
    "nombre_infected      2998\n",
    "nombre_sain         10578\n",
    "nombre_exposed       5538\n",
    "nombre_recovered      886\n",
    "Name: 20, dtype: int64"
   ]
  },
  {
   "cell_type": "markdown",
   "id": "17f9b7f0",
   "metadata": {},
   "source": [
    "nombre_infected     3825\n",
    "nombre_sain         8823\n",
    "nombre_exposed      6191\n",
    "nombre_recovered    1161\n",
    "Name: 21, dtype: int64"
   ]
  },
  {
   "cell_type": "markdown",
   "id": "d5cb910d",
   "metadata": {},
   "source": [
    "nombre_infected     4661\n",
    "nombre_sain         7083\n",
    "nombre_exposed      6726\n",
    "nombre_recovered    1530\n",
    "Name: 22, dtype: int64"
   ]
  },
  {
   "cell_type": "markdown",
   "id": "0e60a633",
   "metadata": {},
   "source": [
    "nombre_infected     5600\n",
    "nombre_sain         5450\n",
    "nombre_exposed      6962\n",
    "nombre_recovered    1988\n",
    "Name: 23, dtype: int64"
   ]
  },
  {
   "cell_type": "markdown",
   "id": "9cafd009",
   "metadata": {},
   "source": [
    "nombre_infected     6539\n",
    "nombre_sain         4079\n",
    "nombre_exposed      6834\n",
    "nombre_recovered    2548\n",
    "Name: 24, dtype: int64"
   ]
  },
  {
   "cell_type": "markdown",
   "id": "1518f379",
   "metadata": {},
   "source": [
    "nombre_infected     7326\n",
    "nombre_sain         2895\n",
    "nombre_exposed      6537\n",
    "nombre_recovered    3242\n",
    "Name: 25, dtype: int64"
   ]
  },
  {
   "cell_type": "markdown",
   "id": "967b5fce",
   "metadata": {},
   "source": [
    "nombre_infected     7959\n",
    "nombre_sain         2034\n",
    "nombre_exposed      5904\n",
    "nombre_recovered    4103\n",
    "Name: 26, dtype: int64"
   ]
  },
  {
   "cell_type": "markdown",
   "id": "77ecca87",
   "metadata": {},
   "source": [
    "nombre_infected     8360\n",
    "nombre_sain         1410\n",
    "nombre_exposed      5190\n",
    "nombre_recovered    5040\n",
    "Name: 27, dtype: int64"
   ]
  },
  {
   "cell_type": "markdown",
   "id": "d6972bb9",
   "metadata": {},
   "source": [
    "nombre_infected     8620\n",
    "nombre_sain          964\n",
    "nombre_exposed      4407\n",
    "nombre_recovered    6009\n",
    "Name: 28, dtype: int64"
   ]
  },
  {
   "cell_type": "markdown",
   "id": "9df3e4e6",
   "metadata": {},
   "source": [
    "nombre_infected     8630\n",
    "nombre_sain          662\n",
    "nombre_exposed      3646\n",
    "nombre_recovered    7062\n",
    "Name: 29, dtype: int64"
   ]
  },
  {
   "cell_type": "markdown",
   "id": "81bbb1e9",
   "metadata": {},
   "source": [
    "nombre_infected     8480\n",
    "nombre_sain          454\n",
    "nombre_exposed      2962\n",
    "nombre_recovered    8104\n",
    "Name: 30, dtype: int64"
   ]
  },
  {
   "cell_type": "markdown",
   "id": "c6ce9580",
   "metadata": {},
   "source": [
    "nombre_infected     8163\n",
    "nombre_sain          336\n",
    "nombre_exposed      2316\n",
    "nombre_recovered    9185\n",
    "Name: 31, dtype: int64"
   ]
  },
  {
   "cell_type": "markdown",
   "id": "9e40f425",
   "metadata": {},
   "source": [
    "nombre_infected      7779\n",
    "nombre_sain           260\n",
    "nombre_exposed       1814\n",
    "nombre_recovered    10147\n",
    "Name: 32, dtype: int64"
   ]
  },
  {
   "cell_type": "markdown",
   "id": "9efb6db0",
   "metadata": {},
   "source": [
    "nombre_infected      7272\n",
    "nombre_sain           215\n",
    "nombre_exposed       1366\n",
    "nombre_recovered    11147\n",
    "Name: 33, dtype: int64"
   ]
  },
  {
   "cell_type": "markdown",
   "id": "12d590ae",
   "metadata": {},
   "source": [
    "nombre_infected      6686\n",
    "nombre_sain           195\n",
    "nombre_exposed       1051\n",
    "nombre_recovered    12068\n",
    "Name: 34, dtype: int64"
   ]
  },
  {
   "cell_type": "markdown",
   "id": "e40172c3",
   "metadata": {},
   "source": [
    "nombre_infected      6082\n",
    "nombre_sain           197\n",
    "nombre_exposed        817\n",
    "nombre_recovered    12904\n",
    "Name: 35, dtype: int64"
   ]
  },
  {
   "cell_type": "markdown",
   "id": "1372b820",
   "metadata": {},
   "source": [
    "nombre_infected      5500\n",
    "nombre_sain           209\n",
    "nombre_exposed        648\n",
    "nombre_recovered    13643\n",
    "Name: 36, dtype: int64"
   ]
  },
  {
   "cell_type": "markdown",
   "id": "06abee62",
   "metadata": {},
   "source": [
    "nombre_infected      4985\n",
    "nombre_sain           217\n",
    "nombre_exposed        488\n",
    "nombre_recovered    14310\n",
    "Name: 37, dtype: int64"
   ]
  },
  {
   "cell_type": "markdown",
   "id": "8652db62",
   "metadata": {},
   "source": [
    "nombre_infected      4477\n",
    "nombre_sain           210\n",
    "nombre_exposed        386\n",
    "nombre_recovered    14927\n",
    "Name: 38, dtype: int64"
   ]
  },
  {
   "cell_type": "markdown",
   "id": "93dc70d2",
   "metadata": {},
   "source": [
    "nombre_infected      3988\n",
    "nombre_sain           234\n",
    "nombre_exposed        316\n",
    "nombre_recovered    15462\n",
    "Name: 39, dtype: int64"
   ]
  },
  {
   "cell_type": "markdown",
   "id": "443862d4",
   "metadata": {},
   "source": [
    "nombre_infected      3580\n",
    "nombre_sain           260\n",
    "nombre_exposed        263\n",
    "nombre_recovered    15897\n",
    "Name: 40, dtype: int64"
   ]
  },
  {
   "cell_type": "markdown",
   "id": "9c69fd65",
   "metadata": {},
   "source": [
    "nombre_infected      3182\n",
    "nombre_sain           272\n",
    "nombre_exposed        226\n",
    "nombre_recovered    16320\n",
    "Name: 41, dtype: int64"
   ]
  },
  {
   "cell_type": "markdown",
   "id": "63c956d6",
   "metadata": {},
   "source": [
    "nombre_infected      2840\n",
    "nombre_sain           302\n",
    "nombre_exposed        189\n",
    "nombre_recovered    16669\n",
    "Name: 42, dtype: int64"
   ]
  },
  {
   "cell_type": "markdown",
   "id": "01db7984",
   "metadata": {},
   "source": [
    "nombre_infected      2526\n",
    "nombre_sain           337\n",
    "nombre_exposed        169\n",
    "nombre_recovered    16968\n",
    "Name: 43, dtype: int64"
   ]
  },
  {
   "cell_type": "markdown",
   "id": "7ade82c4",
   "metadata": {},
   "source": [
    "nombre_infected      2244\n",
    "nombre_sain           344\n",
    "nombre_exposed        161\n",
    "nombre_recovered    17251\n",
    "Name: 44, dtype: int64"
   ]
  },
  {
   "cell_type": "markdown",
   "id": "06f78066",
   "metadata": {},
   "source": [
    "nombre_infected      1995\n",
    "nombre_sain           370\n",
    "nombre_exposed        144\n",
    "nombre_recovered    17491\n",
    "Name: 45, dtype: int64"
   ]
  },
  {
   "cell_type": "markdown",
   "id": "05dfc30d",
   "metadata": {},
   "source": [
    "nombre_infected      1770\n",
    "nombre_sain           395\n",
    "nombre_exposed        127\n",
    "nombre_recovered    17708\n",
    "Name: 46, dtype: int64"
   ]
  },
  {
   "cell_type": "markdown",
   "id": "3c35f1e7",
   "metadata": {},
   "source": [
    "nombre_infected      1564\n",
    "nombre_sain           419\n",
    "nombre_exposed        133\n",
    "nombre_recovered    17884\n",
    "Name: 47, dtype: int64"
   ]
  },
  {
   "cell_type": "markdown",
   "id": "921cecd9",
   "metadata": {},
   "source": [
    "nombre_infected      1390\n",
    "nombre_sain           447\n",
    "nombre_exposed        131\n",
    "nombre_recovered    18032\n",
    "Name: 48, dtype: int64"
   ]
  },
  {
   "cell_type": "markdown",
   "id": "2957ddc7",
   "metadata": {},
   "source": [
    "nombre_infected      1266\n",
    "nombre_sain           467\n",
    "nombre_exposed        123\n",
    "nombre_recovered    18144\n",
    "Name: 49, dtype: int64"
   ]
  },
  {
   "cell_type": "markdown",
   "id": "7bb2adf4",
   "metadata": {},
   "source": [
    "nombre_infected      1134\n",
    "nombre_sain           514\n",
    "nombre_exposed        109\n",
    "nombre_recovered    18243\n",
    "Name: 50, dtype: int64"
   ]
  },
  {
   "cell_type": "markdown",
   "id": "cb57c630",
   "metadata": {},
   "source": [
    "nombre_infected      1023\n",
    "nombre_sain           545\n",
    "nombre_exposed        121\n",
    "nombre_recovered    18311\n",
    "Name: 51, dtype: int64"
   ]
  },
  {
   "cell_type": "markdown",
   "id": "d1319a47",
   "metadata": {},
   "source": [
    "nombre_infected       923\n",
    "nombre_sain           579\n",
    "nombre_exposed        114\n",
    "nombre_recovered    18384\n",
    "Name: 52, dtype: int64"
   ]
  },
  {
   "cell_type": "markdown",
   "id": "d5469239",
   "metadata": {},
   "source": [
    "nombre_infected       846\n",
    "nombre_sain           615\n",
    "nombre_exposed        106\n",
    "nombre_recovered    18433\n",
    "Name: 53, dtype: int64"
   ]
  },
  {
   "cell_type": "markdown",
   "id": "84925061",
   "metadata": {},
   "source": [
    "nombre_infected       761\n",
    "nombre_sain           651\n",
    "nombre_exposed         99\n",
    "nombre_recovered    18489\n",
    "Name: 54, dtype: int64"
   ]
  },
  {
   "cell_type": "markdown",
   "id": "06df1ae5",
   "metadata": {},
   "source": [
    "nombre_infected       711\n",
    "nombre_sain           675\n",
    "nombre_exposed        100\n",
    "nombre_recovered    18514\n",
    "Name: 55, dtype: int64"
   ]
  },
  {
   "cell_type": "markdown",
   "id": "e94f0a25",
   "metadata": {},
   "source": [
    "nombre_infected       647\n",
    "nombre_sain           700\n",
    "nombre_exposed         96\n",
    "nombre_recovered    18557\n",
    "Name: 56, dtype: int64"
   ]
  },
  {
   "cell_type": "markdown",
   "id": "93ad2202",
   "metadata": {},
   "source": [
    "nombre_infected       605\n",
    "nombre_sain           722\n",
    "nombre_exposed         89\n",
    "nombre_recovered    18584\n",
    "Name: 57, dtype: int64"
   ]
  },
  {
   "cell_type": "markdown",
   "id": "f034efee",
   "metadata": {},
   "source": [
    "nombre_infected       554\n",
    "nombre_sain           752\n",
    "nombre_exposed         89\n",
    "nombre_recovered    18605\n",
    "Name: 58, dtype: int64"
   ]
  },
  {
   "cell_type": "markdown",
   "id": "cf6c313b",
   "metadata": {},
   "source": [
    "nombre_infected       514\n",
    "nombre_sain           796\n",
    "nombre_exposed         92\n",
    "nombre_recovered    18598\n",
    "Name: 59, dtype: int64"
   ]
  },
  {
   "cell_type": "markdown",
   "id": "13ae2b7a",
   "metadata": {},
   "source": [
    "nombre_infected       473\n",
    "nombre_sain           826\n",
    "nombre_exposed         91\n",
    "nombre_recovered    18610\n",
    "Name: 60, dtype: int64"
   ]
  },
  {
   "cell_type": "markdown",
   "id": "5c2b683b",
   "metadata": {},
   "source": [
    "nombre_infected       441\n",
    "nombre_sain           860\n",
    "nombre_exposed         95\n",
    "nombre_recovered    18604\n",
    "Name: 61, dtype: int64"
   ]
  },
  {
   "cell_type": "markdown",
   "id": "3b756fde",
   "metadata": {},
   "source": [
    "nombre_infected       410\n",
    "nombre_sain           909\n",
    "nombre_exposed         76\n",
    "nombre_recovered    18605\n",
    "Name: 62, dtype: int64"
   ]
  },
  {
   "cell_type": "markdown",
   "id": "199962e4",
   "metadata": {},
   "source": [
    "nombre_infected       389\n",
    "nombre_sain           943\n",
    "nombre_exposed         68\n",
    "nombre_recovered    18600\n",
    "Name: 63, dtype: int64"
   ]
  },
  {
   "cell_type": "markdown",
   "id": "56d86a90",
   "metadata": {},
   "source": [
    "nombre_infected       364\n",
    "nombre_sain           987\n",
    "nombre_exposed         70\n",
    "nombre_recovered    18579\n",
    "Name: 64, dtype: int64"
   ]
  },
  {
   "cell_type": "markdown",
   "id": "0b831b8b",
   "metadata": {},
   "source": [
    "nombre_infected       346\n",
    "nombre_sain          1034\n",
    "nombre_exposed         72\n",
    "nombre_recovered    18548\n",
    "Name: 65, dtype: int64"
   ]
  },
  {
   "cell_type": "markdown",
   "id": "bf022e85",
   "metadata": {},
   "source": [
    "nombre_infected       326\n",
    "nombre_sain          1081\n",
    "nombre_exposed         70\n",
    "nombre_recovered    18523\n",
    "Name: 66, dtype: int64"
   ]
  },
  {
   "cell_type": "markdown",
   "id": "fc7e01f8",
   "metadata": {},
   "source": [
    "nombre_infected       316\n",
    "nombre_sain          1107\n",
    "nombre_exposed         75\n",
    "nombre_recovered    18502\n",
    "Name: 67, dtype: int64"
   ]
  },
  {
   "cell_type": "markdown",
   "id": "eb1d670f",
   "metadata": {},
   "source": [
    "nombre_infected       302\n",
    "nombre_sain          1155\n",
    "nombre_exposed         63\n",
    "nombre_recovered    18480\n",
    "Name: 68, dtype: int64"
   ]
  },
  {
   "cell_type": "markdown",
   "id": "bb794b38",
   "metadata": {},
   "source": [
    "nombre_infected       274\n",
    "nombre_sain          1192\n",
    "nombre_exposed         64\n",
    "nombre_recovered    18470\n",
    "Name: 69, dtype: int64"
   ]
  },
  {
   "cell_type": "markdown",
   "id": "c19aa767",
   "metadata": {},
   "source": [
    "nombre_infected       261\n",
    "nombre_sain          1227\n",
    "nombre_exposed         60\n",
    "nombre_recovered    18452\n",
    "Name: 70, dtype: int64"
   ]
  },
  {
   "cell_type": "markdown",
   "id": "da950faa",
   "metadata": {},
   "source": [
    "nombre_infected       244\n",
    "nombre_sain          1264\n",
    "nombre_exposed         62\n",
    "nombre_recovered    18430\n",
    "Name: 71, dtype: int64"
   ]
  },
  {
   "cell_type": "markdown",
   "id": "45818950",
   "metadata": {},
   "source": [
    "nombre_infected       237\n",
    "nombre_sain          1316\n",
    "nombre_exposed         70\n",
    "nombre_recovered    18377\n",
    "Name: 72, dtype: int64"
   ]
  },
  {
   "cell_type": "markdown",
   "id": "5e073c68",
   "metadata": {},
   "source": [
    "nombre_infected       220\n",
    "nombre_sain          1367\n",
    "nombre_exposed         77\n",
    "nombre_recovered    18336\n",
    "Name: 73, dtype: int64"
   ]
  },
  {
   "cell_type": "markdown",
   "id": "c4196334",
   "metadata": {},
   "source": [
    "nombre_infected       219\n",
    "nombre_sain          1430\n",
    "nombre_exposed         70\n",
    "nombre_recovered    18281\n",
    "Name: 74, dtype: int64"
   ]
  },
  {
   "cell_type": "markdown",
   "id": "5c875cf4",
   "metadata": {},
   "source": [
    "nombre_infected       209\n",
    "nombre_sain          1474\n",
    "nombre_exposed         75\n",
    "nombre_recovered    18242\n",
    "Name: 75, dtype: int64"
   ]
  },
  {
   "cell_type": "markdown",
   "id": "adcc9442",
   "metadata": {},
   "source": [
    "nombre_infected       203\n",
    "nombre_sain          1522\n",
    "nombre_exposed         78\n",
    "nombre_recovered    18197\n",
    "Name: 76, dtype: int64"
   ]
  },
  {
   "cell_type": "markdown",
   "id": "41ddbac4",
   "metadata": {},
   "source": [
    "nombre_infected       204\n",
    "nombre_sain          1579\n",
    "nombre_exposed         78\n",
    "nombre_recovered    18139\n",
    "Name: 77, dtype: int64"
   ]
  },
  {
   "cell_type": "markdown",
   "id": "f5c84985",
   "metadata": {},
   "source": [
    "nombre_infected       191\n",
    "nombre_sain          1620\n",
    "nombre_exposed         84\n",
    "nombre_recovered    18105\n",
    "Name: 78, dtype: int64"
   ]
  },
  {
   "cell_type": "markdown",
   "id": "3d186deb",
   "metadata": {},
   "source": [
    "nombre_infected       187\n",
    "nombre_sain          1654\n",
    "nombre_exposed         84\n",
    "nombre_recovered    18075\n",
    "Name: 79, dtype: int64"
   ]
  },
  {
   "cell_type": "markdown",
   "id": "d62a2c58",
   "metadata": {},
   "source": [
    "nombre_infected       191\n",
    "nombre_sain          1696\n",
    "nombre_exposed         80\n",
    "nombre_recovered    18033\n",
    "Name: 80, dtype: int64"
   ]
  },
  {
   "cell_type": "markdown",
   "id": "e56b2839",
   "metadata": {},
   "source": [
    "nombre_infected       190\n",
    "nombre_sain          1731\n",
    "nombre_exposed         84\n",
    "nombre_recovered    17995\n",
    "Name: 81, dtype: int64"
   ]
  },
  {
   "cell_type": "markdown",
   "id": "ff6eecf8",
   "metadata": {},
   "source": [
    "nombre_infected       184\n",
    "nombre_sain          1772\n",
    "nombre_exposed         84\n",
    "nombre_recovered    17960\n",
    "Name: 82, dtype: int64"
   ]
  },
  {
   "cell_type": "markdown",
   "id": "b7b939c5",
   "metadata": {},
   "source": [
    "nombre_infected       183\n",
    "nombre_sain          1804\n",
    "nombre_exposed         81\n",
    "nombre_recovered    17932\n",
    "Name: 83, dtype: int64"
   ]
  },
  {
   "cell_type": "markdown",
   "id": "c026388b",
   "metadata": {},
   "source": [
    "nombre_infected       191\n",
    "nombre_sain          1856\n",
    "nombre_exposed         79\n",
    "nombre_recovered    17874\n",
    "Name: 84, dtype: int64"
   ]
  },
  {
   "cell_type": "markdown",
   "id": "2cf60408",
   "metadata": {},
   "source": [
    "nombre_infected       183\n",
    "nombre_sain          1892\n",
    "nombre_exposed         83\n",
    "nombre_recovered    17842\n",
    "Name: 85, dtype: int64"
   ]
  },
  {
   "cell_type": "markdown",
   "id": "2e4619ab",
   "metadata": {},
   "source": [
    "nombre_infected       192\n",
    "nombre_sain          1915\n",
    "nombre_exposed         79\n",
    "nombre_recovered    17814\n",
    "Name: 86, dtype: int64"
   ]
  },
  {
   "cell_type": "markdown",
   "id": "a16dccf4",
   "metadata": {},
   "source": [
    "nombre_infected       188\n",
    "nombre_sain          1935\n",
    "nombre_exposed         80\n",
    "nombre_recovered    17797\n",
    "Name: 87, dtype: int64"
   ]
  },
  {
   "cell_type": "markdown",
   "id": "1868f3e9",
   "metadata": {},
   "source": [
    "nombre_infected       196\n",
    "nombre_sain          1968\n",
    "nombre_exposed         68\n",
    "nombre_recovered    17768\n",
    "Name: 88, dtype: int64"
   ]
  },
  {
   "cell_type": "markdown",
   "id": "904b33b9",
   "metadata": {},
   "source": [
    "nombre_infected       203\n",
    "nombre_sain          1997\n",
    "nombre_exposed         62\n",
    "nombre_recovered    17738\n",
    "Name: 89, dtype: int64"
   ]
  },
  {
   "cell_type": "markdown",
   "id": "40508512",
   "metadata": {},
   "source": [
    "nombre_infected       195\n",
    "nombre_sain          2016\n",
    "nombre_exposed         68\n",
    "nombre_recovered    17721\n",
    "Name: 90, dtype: int64"
   ]
  },
  {
   "cell_type": "markdown",
   "id": "da594a5a",
   "metadata": {},
   "source": [
    "nombre_infected       192\n",
    "nombre_sain          2020\n",
    "nombre_exposed         87\n",
    "nombre_recovered    17701\n",
    "Name: 91, dtype: int64"
   ]
  },
  {
   "cell_type": "markdown",
   "id": "4629d977",
   "metadata": {},
   "source": [
    "nombre_infected       196\n",
    "nombre_sain          2029\n",
    "nombre_exposed        100\n",
    "nombre_recovered    17675\n",
    "Name: 92, dtype: int64"
   ]
  },
  {
   "cell_type": "markdown",
   "id": "c89e2a3d",
   "metadata": {},
   "source": [
    "nombre_infected       198\n",
    "nombre_sain          2038\n",
    "nombre_exposed        103\n",
    "nombre_recovered    17661\n",
    "Name: 93, dtype: int64"
   ]
  },
  {
   "cell_type": "markdown",
   "id": "5977d439",
   "metadata": {},
   "source": [
    "nombre_infected       199\n",
    "nombre_sain          2036\n",
    "nombre_exposed        117\n",
    "nombre_recovered    17648\n",
    "Name: 94, dtype: int64"
   ]
  },
  {
   "cell_type": "markdown",
   "id": "6145b491",
   "metadata": {},
   "source": [
    "nombre_infected       208\n",
    "nombre_sain          2066\n",
    "nombre_exposed        114\n",
    "nombre_recovered    17612\n",
    "Name: 95, dtype: int64"
   ]
  },
  {
   "cell_type": "markdown",
   "id": "3f35925d",
   "metadata": {},
   "source": [
    "nombre_infected       225\n",
    "nombre_sain          2078\n",
    "nombre_exposed        106\n",
    "nombre_recovered    17591\n",
    "Name: 96, dtype: int64"
   ]
  },
  {
   "cell_type": "markdown",
   "id": "c00ca96a",
   "metadata": {},
   "source": [
    "nombre_infected       234\n",
    "nombre_sain          2094\n",
    "nombre_exposed        118\n",
    "nombre_recovered    17554\n",
    "Name: 97, dtype: int64"
   ]
  },
  {
   "cell_type": "markdown",
   "id": "77295fc6",
   "metadata": {},
   "source": [
    "nombre_infected       228\n",
    "nombre_sain          2112\n",
    "nombre_exposed        129\n",
    "nombre_recovered    17531\n",
    "Name: 98, dtype: int64"
   ]
  },
  {
   "cell_type": "markdown",
   "id": "88798001",
   "metadata": {},
   "source": [
    "nombre_infected       236\n",
    "nombre_sain          2144\n",
    "nombre_exposed        126\n",
    "nombre_recovered    17494\n",
    "Name: 99, dtype: int64"
   ]
  },
  {
   "cell_type": "markdown",
   "id": "f45c4217",
   "metadata": {},
   "source": [
    "nombre_infected       238\n",
    "nombre_sain          2191\n",
    "nombre_exposed        118\n",
    "nombre_recovered    17453\n",
    "Name: 100, dtype: int64"
   ]
  },
  {
   "cell_type": "markdown",
   "id": "24f7b76d",
   "metadata": {},
   "source": [
    "nombre_infected       235\n",
    "nombre_sain          2229\n",
    "nombre_exposed        126\n",
    "nombre_recovered    17410\n",
    "Name: 101, dtype: int64"
   ]
  },
  {
   "cell_type": "markdown",
   "id": "ac993bea",
   "metadata": {},
   "source": [
    "nombre_infected       246\n",
    "nombre_sain          2272\n",
    "nombre_exposed        116\n",
    "nombre_recovered    17366\n",
    "Name: 102, dtype: int64"
   ]
  },
  {
   "cell_type": "markdown",
   "id": "8e712126",
   "metadata": {},
   "source": [
    "nombre_infected       242\n",
    "nombre_sain          2307\n",
    "nombre_exposed        114\n",
    "nombre_recovered    17337\n",
    "Name: 103, dtype: int64"
   ]
  },
  {
   "cell_type": "markdown",
   "id": "80118926",
   "metadata": {},
   "source": [
    "nombre_infected       244\n",
    "nombre_sain          2321\n",
    "nombre_exposed        131\n",
    "nombre_recovered    17304\n",
    "Name: 104, dtype: int64"
   ]
  },
  {
   "cell_type": "markdown",
   "id": "b0f148d3",
   "metadata": {},
   "source": [
    "nombre_infected       247\n",
    "nombre_sain          2361\n",
    "nombre_exposed        123\n",
    "nombre_recovered    17269\n",
    "Name: 105, dtype: int64"
   ]
  },
  {
   "cell_type": "markdown",
   "id": "097f3093",
   "metadata": {},
   "source": [
    "nombre_infected       235\n",
    "nombre_sain          2412\n",
    "nombre_exposed        125\n",
    "nombre_recovered    17228\n",
    "Name: 106, dtype: int64"
   ]
  },
  {
   "cell_type": "markdown",
   "id": "b78ef7a5",
   "metadata": {},
   "source": [
    "nombre_infected       246\n",
    "nombre_sain          2439\n",
    "nombre_exposed        126\n",
    "nombre_recovered    17189\n",
    "Name: 107, dtype: int64"
   ]
  },
  {
   "cell_type": "markdown",
   "id": "03664534",
   "metadata": {},
   "source": [
    "nombre_infected       244\n",
    "nombre_sain          2453\n",
    "nombre_exposed        138\n",
    "nombre_recovered    17165\n",
    "Name: 108, dtype: int64"
   ]
  },
  {
   "cell_type": "markdown",
   "id": "fdd92c88",
   "metadata": {},
   "source": [
    "nombre_infected       229\n",
    "nombre_sain          2480\n",
    "nombre_exposed        147\n",
    "nombre_recovered    17144\n",
    "Name: 109, dtype: int64"
   ]
  },
  {
   "cell_type": "markdown",
   "id": "552cca2d",
   "metadata": {},
   "source": [
    "nombre_infected       247\n",
    "nombre_sain          2508\n",
    "nombre_exposed        134\n",
    "nombre_recovered    17111\n",
    "Name: 110, dtype: int64"
   ]
  },
  {
   "cell_type": "markdown",
   "id": "b00db1ec",
   "metadata": {},
   "source": [
    "nombre_infected       255\n",
    "nombre_sain          2531\n",
    "nombre_exposed        122\n",
    "nombre_recovered    17092\n",
    "Name: 111, dtype: int64"
   ]
  },
  {
   "cell_type": "markdown",
   "id": "e6e6936e",
   "metadata": {},
   "source": [
    "nombre_infected       247\n",
    "nombre_sain          2552\n",
    "nombre_exposed        132\n",
    "nombre_recovered    17069\n",
    "Name: 112, dtype: int64"
   ]
  },
  {
   "cell_type": "markdown",
   "id": "199271de",
   "metadata": {},
   "source": [
    "nombre_infected       248\n",
    "nombre_sain          2560\n",
    "nombre_exposed        140\n",
    "nombre_recovered    17052\n",
    "Name: 113, dtype: int64"
   ]
  },
  {
   "cell_type": "markdown",
   "id": "e98d8298",
   "metadata": {},
   "source": [
    "nombre_infected       252\n",
    "nombre_sain          2566\n",
    "nombre_exposed        151\n",
    "nombre_recovered    17031\n",
    "Name: 114, dtype: int64"
   ]
  },
  {
   "cell_type": "markdown",
   "id": "f2ad6de0",
   "metadata": {},
   "source": [
    "nombre_infected       258\n",
    "nombre_sain          2593\n",
    "nombre_exposed        143\n",
    "nombre_recovered    17006\n",
    "Name: 115, dtype: int64"
   ]
  },
  {
   "cell_type": "markdown",
   "id": "c359f9ef",
   "metadata": {},
   "source": [
    "nombre_infected       254\n",
    "nombre_sain          2588\n",
    "nombre_exposed        147\n",
    "nombre_recovered    17011\n",
    "Name: 116, dtype: int64"
   ]
  },
  {
   "cell_type": "markdown",
   "id": "c67e6bea",
   "metadata": {},
   "source": [
    "nombre_infected       271\n",
    "nombre_sain          2599\n",
    "nombre_exposed        133\n",
    "nombre_recovered    16997\n",
    "Name: 117, dtype: int64"
   ]
  },
  {
   "cell_type": "markdown",
   "id": "9c1b6bfc",
   "metadata": {},
   "source": [
    "nombre_infected       282\n",
    "nombre_sain          2601\n",
    "nombre_exposed        133\n",
    "nombre_recovered    16984\n",
    "Name: 118, dtype: int64"
   ]
  },
  {
   "cell_type": "markdown",
   "id": "36f60f0c",
   "metadata": {},
   "source": [
    "nombre_infected       278\n",
    "nombre_sain          2599\n",
    "nombre_exposed        151\n",
    "nombre_recovered    16972\n",
    "Name: 119, dtype: int64"
   ]
  },
  {
   "cell_type": "markdown",
   "id": "4e0e7644",
   "metadata": {},
   "source": [
    "nombre_infected       279\n",
    "nombre_sain          2596\n",
    "nombre_exposed        159\n",
    "nombre_recovered    16966\n",
    "Name: 120, dtype: int64"
   ]
  },
  {
   "cell_type": "markdown",
   "id": "bc2f24dd",
   "metadata": {},
   "source": [
    "nombre_infected       288\n",
    "nombre_sain          2598\n",
    "nombre_exposed        158\n",
    "nombre_recovered    16956\n",
    "Name: 121, dtype: int64"
   ]
  },
  {
   "cell_type": "markdown",
   "id": "a54dd7c7",
   "metadata": {},
   "source": [
    "nombre_infected       298\n",
    "nombre_sain          2610\n",
    "nombre_exposed        152\n",
    "nombre_recovered    16940\n",
    "Name: 122, dtype: int64"
   ]
  },
  {
   "cell_type": "markdown",
   "id": "7bfaebfc",
   "metadata": {},
   "source": [
    "nombre_infected       288\n",
    "nombre_sain          2621\n",
    "nombre_exposed        162\n",
    "nombre_recovered    16929\n",
    "Name: 123, dtype: int64"
   ]
  },
  {
   "cell_type": "markdown",
   "id": "8d1b7b3b",
   "metadata": {},
   "source": [
    "nombre_infected       291\n",
    "nombre_sain          2632\n",
    "nombre_exposed        157\n",
    "nombre_recovered    16920\n",
    "Name: 124, dtype: int64"
   ]
  },
  {
   "cell_type": "markdown",
   "id": "e1adc7cc",
   "metadata": {},
   "source": [
    "nombre_infected       299\n",
    "nombre_sain          2616\n",
    "nombre_exposed        172\n",
    "nombre_recovered    16913\n",
    "Name: 125, dtype: int64"
   ]
  },
  {
   "cell_type": "markdown",
   "id": "f5cab1fc",
   "metadata": {},
   "source": [
    "nombre_infected       304\n",
    "nombre_sain          2612\n",
    "nombre_exposed        184\n",
    "nombre_recovered    16900\n",
    "Name: 126, dtype: int64"
   ]
  },
  {
   "cell_type": "markdown",
   "id": "19bf64bf",
   "metadata": {},
   "source": [
    "nombre_infected       320\n",
    "nombre_sain          2597\n",
    "nombre_exposed        184\n",
    "nombre_recovered    16899\n",
    "Name: 127, dtype: int64"
   ]
  },
  {
   "cell_type": "markdown",
   "id": "6ef91dd4",
   "metadata": {},
   "source": [
    "nombre_infected       326\n",
    "nombre_sain          2600\n",
    "nombre_exposed        200\n",
    "nombre_recovered    16874\n",
    "Name: 128, dtype: int64"
   ]
  },
  {
   "cell_type": "markdown",
   "id": "d1576281",
   "metadata": {},
   "source": [
    "nombre_infected       322\n",
    "nombre_sain          2604\n",
    "nombre_exposed        217\n",
    "nombre_recovered    16857\n",
    "Name: 129, dtype: int64"
   ]
  },
  {
   "cell_type": "markdown",
   "id": "3f3f98c0",
   "metadata": {},
   "source": [
    "nombre_infected       322\n",
    "nombre_sain          2599\n",
    "nombre_exposed        223\n",
    "nombre_recovered    16856\n",
    "Name: 130, dtype: int64"
   ]
  },
  {
   "cell_type": "markdown",
   "id": "5af753b2",
   "metadata": {},
   "source": [
    "nombre_infected       334\n",
    "nombre_sain          2591\n",
    "nombre_exposed        228\n",
    "nombre_recovered    16847\n",
    "Name: 131, dtype: int64"
   ]
  },
  {
   "cell_type": "markdown",
   "id": "6b9fb54a",
   "metadata": {},
   "source": [
    "nombre_infected       354\n",
    "nombre_sain          2565\n",
    "nombre_exposed        239\n",
    "nombre_recovered    16842\n",
    "Name: 132, dtype: int64"
   ]
  },
  {
   "cell_type": "markdown",
   "id": "5627e6ca",
   "metadata": {},
   "source": [
    "nombre_infected       368\n",
    "nombre_sain          2573\n",
    "nombre_exposed        231\n",
    "nombre_recovered    16828\n",
    "Name: 133, dtype: int64"
   ]
  },
  {
   "cell_type": "markdown",
   "id": "acde5a74",
   "metadata": {},
   "source": [
    "nombre_infected       371\n",
    "nombre_sain          2575\n",
    "nombre_exposed        242\n",
    "nombre_recovered    16812\n",
    "Name: 134, dtype: int64"
   ]
  },
  {
   "cell_type": "markdown",
   "id": "8a5852c8",
   "metadata": {},
   "source": [
    "nombre_infected       361\n",
    "nombre_sain          2579\n",
    "nombre_exposed        244\n",
    "nombre_recovered    16816\n",
    "Name: 135, dtype: int64"
   ]
  },
  {
   "cell_type": "markdown",
   "id": "b69017ea",
   "metadata": {},
   "source": [
    "nombre_infected       379\n",
    "nombre_sain          2589\n",
    "nombre_exposed        231\n",
    "nombre_recovered    16801\n",
    "Name: 136, dtype: int64"
   ]
  },
  {
   "cell_type": "markdown",
   "id": "b413474e",
   "metadata": {},
   "source": [
    "nombre_infected       389\n",
    "nombre_sain          2576\n",
    "nombre_exposed        234\n",
    "nombre_recovered    16801\n",
    "Name: 137, dtype: int64"
   ]
  },
  {
   "cell_type": "markdown",
   "id": "7ca1fe8b",
   "metadata": {},
   "source": [
    "nombre_infected       391\n",
    "nombre_sain          2591\n",
    "nombre_exposed        245\n",
    "nombre_recovered    16773\n",
    "Name: 138, dtype: int64"
   ]
  },
  {
   "cell_type": "markdown",
   "id": "cad30746",
   "metadata": {},
   "source": [
    "nombre_infected       394\n",
    "nombre_sain          2591\n",
    "nombre_exposed        246\n",
    "nombre_recovered    16769\n",
    "Name: 139, dtype: int64"
   ]
  },
  {
   "cell_type": "markdown",
   "id": "c7aa344a",
   "metadata": {},
   "source": [
    "nombre_infected       404\n",
    "nombre_sain          2567\n",
    "nombre_exposed        261\n",
    "nombre_recovered    16768\n",
    "Name: 140, dtype: int64"
   ]
  },
  {
   "cell_type": "markdown",
   "id": "700c435e",
   "metadata": {},
   "source": [
    "nombre_infected       401\n",
    "nombre_sain          2572\n",
    "nombre_exposed        281\n",
    "nombre_recovered    16746\n",
    "Name: 141, dtype: int64"
   ]
  },
  {
   "cell_type": "markdown",
   "id": "465e6d2e",
   "metadata": {},
   "source": [
    "nombre_infected       427\n",
    "nombre_sain          2561\n",
    "nombre_exposed        260\n",
    "nombre_recovered    16752\n",
    "Name: 142, dtype: int64"
   ]
  },
  {
   "cell_type": "markdown",
   "id": "77a2005e",
   "metadata": {},
   "source": [
    "nombre_infected       430\n",
    "nombre_sain          2562\n",
    "nombre_exposed        273\n",
    "nombre_recovered    16735\n",
    "Name: 143, dtype: int64"
   ]
  },
  {
   "cell_type": "markdown",
   "id": "e23524e3",
   "metadata": {},
   "source": [
    "nombre_infected       422\n",
    "nombre_sain          2567\n",
    "nombre_exposed        276\n",
    "nombre_recovered    16735\n",
    "Name: 144, dtype: int64"
   ]
  },
  {
   "cell_type": "markdown",
   "id": "0979b4ec",
   "metadata": {},
   "source": [
    "nombre_infected       430\n",
    "nombre_sain          2587\n",
    "nombre_exposed        287\n",
    "nombre_recovered    16696\n",
    "Name: 145, dtype: int64"
   ]
  },
  {
   "cell_type": "markdown",
   "id": "b66aa532",
   "metadata": {},
   "source": [
    "nombre_infected       436\n",
    "nombre_sain          2587\n",
    "nombre_exposed        285\n",
    "nombre_recovered    16692\n",
    "Name: 146, dtype: int64"
   ]
  },
  {
   "cell_type": "markdown",
   "id": "cabb29c4",
   "metadata": {},
   "source": [
    "nombre_infected       436\n",
    "nombre_sain          2589\n",
    "nombre_exposed        281\n",
    "nombre_recovered    16694\n",
    "Name: 147, dtype: int64"
   ]
  },
  {
   "cell_type": "markdown",
   "id": "7284bb81",
   "metadata": {},
   "source": [
    "nombre_infected       446\n",
    "nombre_sain          2591\n",
    "nombre_exposed        294\n",
    "nombre_recovered    16669\n",
    "Name: 148, dtype: int64"
   ]
  },
  {
   "cell_type": "markdown",
   "id": "4eb80154",
   "metadata": {},
   "source": [
    "nombre_infected       449\n",
    "nombre_sain          2590\n",
    "nombre_exposed        290\n",
    "nombre_recovered    16671\n",
    "Name: 149, dtype: int64"
   ]
  },
  {
   "cell_type": "markdown",
   "id": "416e652f",
   "metadata": {},
   "source": [
    "nombre_infected       436\n",
    "nombre_sain          2606\n",
    "nombre_exposed        306\n",
    "nombre_recovered    16652\n",
    "Name: 150, dtype: int64"
   ]
  },
  {
   "cell_type": "markdown",
   "id": "dc768d80",
   "metadata": {},
   "source": [
    "nombre_infected       441\n",
    "nombre_sain          2599\n",
    "nombre_exposed        324\n",
    "nombre_recovered    16636\n",
    "Name: 151, dtype: int64"
   ]
  },
  {
   "cell_type": "markdown",
   "id": "d582f3c3",
   "metadata": {},
   "source": [
    "nombre_infected       445\n",
    "nombre_sain          2607\n",
    "nombre_exposed        320\n",
    "nombre_recovered    16628\n",
    "Name: 152, dtype: int64"
   ]
  },
  {
   "cell_type": "markdown",
   "id": "b02ff2e3",
   "metadata": {},
   "source": [
    "nombre_infected       448\n",
    "nombre_sain          2623\n",
    "nombre_exposed        325\n",
    "nombre_recovered    16604\n",
    "Name: 153, dtype: int64"
   ]
  },
  {
   "cell_type": "markdown",
   "id": "7f520323",
   "metadata": {},
   "source": [
    "nombre_infected       469\n",
    "nombre_sain          2640\n",
    "nombre_exposed        311\n",
    "nombre_recovered    16580\n",
    "Name: 154, dtype: int64"
   ]
  },
  {
   "cell_type": "markdown",
   "id": "31ba1c0f",
   "metadata": {},
   "source": [
    "nombre_infected       459\n",
    "nombre_sain          2683\n",
    "nombre_exposed        323\n",
    "nombre_recovered    16535\n",
    "Name: 155, dtype: int64"
   ]
  },
  {
   "cell_type": "markdown",
   "id": "d62e717a",
   "metadata": {},
   "source": [
    "nombre_infected       466\n",
    "nombre_sain          2702\n",
    "nombre_exposed        339\n",
    "nombre_recovered    16493\n",
    "Name: 156, dtype: int64"
   ]
  },
  {
   "cell_type": "markdown",
   "id": "60a0d468",
   "metadata": {},
   "source": [
    "nombre_infected       463\n",
    "nombre_sain          2711\n",
    "nombre_exposed        368\n",
    "nombre_recovered    16458\n",
    "Name: 157, dtype: int64"
   ]
  },
  {
   "cell_type": "markdown",
   "id": "1a0ebe2d",
   "metadata": {},
   "source": [
    "nombre_infected       491\n",
    "nombre_sain          2733\n",
    "nombre_exposed        366\n",
    "nombre_recovered    16410\n",
    "Name: 158, dtype: int64"
   ]
  },
  {
   "cell_type": "markdown",
   "id": "29d32789",
   "metadata": {},
   "source": [
    "nombre_infected       504\n",
    "nombre_sain          2738\n",
    "nombre_exposed        366\n",
    "nombre_recovered    16392\n",
    "Name: 159, dtype: int64"
   ]
  },
  {
   "cell_type": "markdown",
   "id": "6505f555",
   "metadata": {},
   "source": [
    "nombre_infected       514\n",
    "nombre_sain          2745\n",
    "nombre_exposed        383\n",
    "nombre_recovered    16358\n",
    "Name: 160, dtype: int64"
   ]
  },
  {
   "cell_type": "markdown",
   "id": "4a93409b",
   "metadata": {},
   "source": [
    "nombre_infected       530\n",
    "nombre_sain          2747\n",
    "nombre_exposed        402\n",
    "nombre_recovered    16321\n",
    "Name: 161, dtype: int64"
   ]
  },
  {
   "cell_type": "markdown",
   "id": "8a494ff0",
   "metadata": {},
   "source": [
    "nombre_infected       533\n",
    "nombre_sain          2748\n",
    "nombre_exposed        416\n",
    "nombre_recovered    16303\n",
    "Name: 162, dtype: int64"
   ]
  },
  {
   "cell_type": "markdown",
   "id": "989ddab2",
   "metadata": {},
   "source": [
    "nombre_infected       553\n",
    "nombre_sain          2770\n",
    "nombre_exposed        407\n",
    "nombre_recovered    16270\n",
    "Name: 163, dtype: int64"
   ]
  },
  {
   "cell_type": "markdown",
   "id": "9539abd0",
   "metadata": {},
   "source": [
    "nombre_infected       548\n",
    "nombre_sain          2768\n",
    "nombre_exposed        420\n",
    "nombre_recovered    16264\n",
    "Name: 164, dtype: int64"
   ]
  },
  {
   "cell_type": "markdown",
   "id": "60ee4dd0",
   "metadata": {},
   "source": [
    "nombre_infected       565\n",
    "nombre_sain          2790\n",
    "nombre_exposed        420\n",
    "nombre_recovered    16225\n",
    "Name: 165, dtype: int64"
   ]
  },
  {
   "cell_type": "markdown",
   "id": "c4a069bc",
   "metadata": {},
   "source": [
    "nombre_infected       594\n",
    "nombre_sain          2802\n",
    "nombre_exposed        431\n",
    "nombre_recovered    16173\n",
    "Name: 166, dtype: int64"
   ]
  },
  {
   "cell_type": "markdown",
   "id": "0e1efc0c",
   "metadata": {},
   "source": [
    "nombre_infected       598\n",
    "nombre_sain          2827\n",
    "nombre_exposed        414\n",
    "nombre_recovered    16161\n",
    "Name: 167, dtype: int64"
   ]
  },
  {
   "cell_type": "markdown",
   "id": "997c8ad1",
   "metadata": {},
   "source": [
    "nombre_infected       637\n",
    "nombre_sain          2834\n",
    "nombre_exposed        413\n",
    "nombre_recovered    16116\n",
    "Name: 168, dtype: int64"
   ]
  },
  {
   "cell_type": "markdown",
   "id": "de7c46dc",
   "metadata": {},
   "source": [
    "nombre_infected       610\n",
    "nombre_sain          2828\n",
    "nombre_exposed        443\n",
    "nombre_recovered    16119\n",
    "Name: 169, dtype: int64"
   ]
  },
  {
   "cell_type": "markdown",
   "id": "0030e4a8",
   "metadata": {},
   "source": [
    "nombre_infected       634\n",
    "nombre_sain          2804\n",
    "nombre_exposed        474\n",
    "nombre_recovered    16088\n",
    "Name: 170, dtype: int64"
   ]
  },
  {
   "cell_type": "markdown",
   "id": "5b9d2c15",
   "metadata": {},
   "source": [
    "nombre_infected       635\n",
    "nombre_sain          2797\n",
    "nombre_exposed        498\n",
    "nombre_recovered    16070\n",
    "Name: 171, dtype: int64"
   ]
  },
  {
   "cell_type": "markdown",
   "id": "febc81cd",
   "metadata": {},
   "source": [
    "nombre_infected       635\n",
    "nombre_sain          2768\n",
    "nombre_exposed        537\n",
    "nombre_recovered    16060\n",
    "Name: 172, dtype: int64"
   ]
  },
  {
   "cell_type": "markdown",
   "id": "6527c262",
   "metadata": {},
   "source": [
    "nombre_infected       660\n",
    "nombre_sain          2781\n",
    "nombre_exposed        513\n",
    "nombre_recovered    16046\n",
    "Name: 173, dtype: int64"
   ]
  },
  {
   "cell_type": "markdown",
   "id": "5a1aa4df",
   "metadata": {},
   "source": [
    "nombre_infected       672\n",
    "nombre_sain          2810\n",
    "nombre_exposed        500\n",
    "nombre_recovered    16018\n",
    "Name: 174, dtype: int64"
   ]
  },
  {
   "cell_type": "markdown",
   "id": "3564ad70",
   "metadata": {},
   "source": [
    "nombre_infected       686\n",
    "nombre_sain          2806\n",
    "nombre_exposed        492\n",
    "nombre_recovered    16016\n",
    "Name: 175, dtype: int64"
   ]
  },
  {
   "cell_type": "markdown",
   "id": "4a344f2c",
   "metadata": {},
   "source": [
    "nombre_infected       685\n",
    "nombre_sain          2777\n",
    "nombre_exposed        509\n",
    "nombre_recovered    16029\n",
    "Name: 176, dtype: int64"
   ]
  },
  {
   "cell_type": "markdown",
   "id": "fb0157e3",
   "metadata": {},
   "source": [
    "nombre_infected       701\n",
    "nombre_sain          2758\n",
    "nombre_exposed        506\n",
    "nombre_recovered    16035\n",
    "Name: 177, dtype: int64"
   ]
  },
  {
   "cell_type": "markdown",
   "id": "fe2c3240",
   "metadata": {},
   "source": [
    "nombre_infected       725\n",
    "nombre_sain          2704\n",
    "nombre_exposed        525\n",
    "nombre_recovered    16046\n",
    "Name: 178, dtype: int64"
   ]
  },
  {
   "cell_type": "markdown",
   "id": "856f3601",
   "metadata": {},
   "source": [
    "nombre_infected       730\n",
    "nombre_sain          2661\n",
    "nombre_exposed        543\n",
    "nombre_recovered    16066\n",
    "Name: 179, dtype: int64"
   ]
  },
  {
   "cell_type": "markdown",
   "id": "fb040c81",
   "metadata": {},
   "source": [
    "nombre_infected       730\n",
    "nombre_sain          2612\n",
    "nombre_exposed        553\n",
    "nombre_recovered    16105\n",
    "Name: 180, dtype: int64"
   ]
  },
  {
   "cell_type": "markdown",
   "id": "16ac5e1e",
   "metadata": {},
   "source": [
    "nombre_infected       758\n",
    "nombre_sain          2566\n",
    "nombre_exposed        556\n",
    "nombre_recovered    16120\n",
    "Name: 181, dtype: int64"
   ]
  },
  {
   "cell_type": "markdown",
   "id": "db67dc98",
   "metadata": {},
   "source": [
    "nombre_infected       772\n",
    "nombre_sain          2533\n",
    "nombre_exposed        547\n",
    "nombre_recovered    16148\n",
    "Name: 182, dtype: int64"
   ]
  },
  {
   "cell_type": "markdown",
   "id": "4d52611c",
   "metadata": {},
   "source": [
    "nombre_infected       808\n",
    "nombre_sain          2481\n",
    "nombre_exposed        538\n",
    "nombre_recovered    16173\n",
    "Name: 183, dtype: int64"
   ]
  },
  {
   "cell_type": "markdown",
   "id": "83fa0610",
   "metadata": {},
   "source": [
    "nombre_infected       814\n",
    "nombre_sain          2450\n",
    "nombre_exposed        558\n",
    "nombre_recovered    16178\n",
    "Name: 184, dtype: int64"
   ]
  },
  {
   "cell_type": "markdown",
   "id": "d73d0d75",
   "metadata": {},
   "source": [
    "nombre_infected       830\n",
    "nombre_sain          2402\n",
    "nombre_exposed        562\n",
    "nombre_recovered    16206\n",
    "Name: 185, dtype: int64"
   ]
  },
  {
   "cell_type": "markdown",
   "id": "4216e3ea",
   "metadata": {},
   "source": [
    "nombre_infected       821\n",
    "nombre_sain          2370\n",
    "nombre_exposed        585\n",
    "nombre_recovered    16224\n",
    "Name: 186, dtype: int64"
   ]
  },
  {
   "cell_type": "markdown",
   "id": "d4db7f23",
   "metadata": {},
   "source": [
    "nombre_infected       839\n",
    "nombre_sain          2332\n",
    "nombre_exposed        581\n",
    "nombre_recovered    16248\n",
    "Name: 187, dtype: int64"
   ]
  },
  {
   "cell_type": "markdown",
   "id": "25c2851d",
   "metadata": {},
   "source": [
    "nombre_infected       869\n",
    "nombre_sain          2318\n",
    "nombre_exposed        547\n",
    "nombre_recovered    16266\n",
    "Name: 188, dtype: int64"
   ]
  },
  {
   "cell_type": "markdown",
   "id": "b7056fbe",
   "metadata": {},
   "source": [
    "nombre_infected       884\n",
    "nombre_sain          2280\n",
    "nombre_exposed        536\n",
    "nombre_recovered    16300\n",
    "Name: 189, dtype: int64"
   ]
  },
  {
   "cell_type": "markdown",
   "id": "cf8f34a8",
   "metadata": {},
   "source": [
    "nombre_infected       880\n",
    "nombre_sain          2220\n",
    "nombre_exposed        548\n",
    "nombre_recovered    16352\n",
    "Name: 190, dtype: int64"
   ]
  },
  {
   "cell_type": "markdown",
   "id": "ffda9880",
   "metadata": {},
   "source": [
    "nombre_infected       862\n",
    "nombre_sain          2212\n",
    "nombre_exposed        538\n",
    "nombre_recovered    16388\n",
    "Name: 191, dtype: int64"
   ]
  },
  {
   "cell_type": "markdown",
   "id": "76776f1d",
   "metadata": {},
   "source": [
    "nombre_infected       867\n",
    "nombre_sain          2200\n",
    "nombre_exposed        521\n",
    "nombre_recovered    16412\n",
    "Name: 192, dtype: int64"
   ]
  },
  {
   "cell_type": "markdown",
   "id": "01915eea",
   "metadata": {},
   "source": [
    "nombre_infected       867\n",
    "nombre_sain          2197\n",
    "nombre_exposed        518\n",
    "nombre_recovered    16418\n",
    "Name: 193, dtype: int64"
   ]
  },
  {
   "cell_type": "markdown",
   "id": "fc46f8da",
   "metadata": {},
   "source": [
    "nombre_infected       843\n",
    "nombre_sain          2169\n",
    "nombre_exposed        521\n",
    "nombre_recovered    16467\n",
    "Name: 194, dtype: int64"
   ]
  },
  {
   "cell_type": "markdown",
   "id": "a8cc9455",
   "metadata": {},
   "source": [
    "nombre_infected       828\n",
    "nombre_sain          2151\n",
    "nombre_exposed        525\n",
    "nombre_recovered    16496\n",
    "Name: 195, dtype: int64"
   ]
  },
  {
   "cell_type": "markdown",
   "id": "4ff92689",
   "metadata": {},
   "source": [
    "nombre_infected       834\n",
    "nombre_sain          2108\n",
    "nombre_exposed        517\n",
    "nombre_recovered    16541\n",
    "Name: 196, dtype: int64"
   ]
  },
  {
   "cell_type": "markdown",
   "id": "4b0ae7d7",
   "metadata": {},
   "source": [
    "nombre_infected       841\n",
    "nombre_sain          2085\n",
    "nombre_exposed        501\n",
    "nombre_recovered    16573\n",
    "Name: 197, dtype: int64"
   ]
  },
  {
   "cell_type": "markdown",
   "id": "84d2062f",
   "metadata": {},
   "source": [
    "nombre_infected       845\n",
    "nombre_sain          2048\n",
    "nombre_exposed        498\n",
    "nombre_recovered    16609\n",
    "Name: 198, dtype: int64"
   ]
  },
  {
   "cell_type": "markdown",
   "id": "d336b5bf",
   "metadata": {},
   "source": [
    "nombre_infected       834\n",
    "nombre_sain          2011\n",
    "nombre_exposed        501\n",
    "nombre_recovered    16654\n",
    "Name: 199, dtype: int64"
   ]
  },
  {
   "cell_type": "markdown",
   "id": "7c1c851c",
   "metadata": {},
   "source": [
    "nombre_infected       849\n",
    "nombre_sain          1989\n",
    "nombre_exposed        473\n",
    "nombre_recovered    16689\n",
    "Name: 200, dtype: int64"
   ]
  },
  {
   "cell_type": "markdown",
   "id": "0a62ed58",
   "metadata": {},
   "source": [
    "nombre_infected       838\n",
    "nombre_sain          1993\n",
    "nombre_exposed        453\n",
    "nombre_recovered    16716\n",
    "Name: 201, dtype: int64"
   ]
  },
  {
   "cell_type": "markdown",
   "id": "5820fb01",
   "metadata": {},
   "source": [
    "nombre_infected       831\n",
    "nombre_sain          1995\n",
    "nombre_exposed        426\n",
    "nombre_recovered    16748\n",
    "Name: 202, dtype: int64"
   ]
  },
  {
   "cell_type": "markdown",
   "id": "87fddbea",
   "metadata": {},
   "source": [
    "nombre_infected       820\n",
    "nombre_sain          1991\n",
    "nombre_exposed        416\n",
    "nombre_recovered    16773\n",
    "Name: 203, dtype: int64"
   ]
  },
  {
   "cell_type": "markdown",
   "id": "33bb1959",
   "metadata": {},
   "source": [
    "nombre_infected       810\n",
    "nombre_sain          2003\n",
    "nombre_exposed        411\n",
    "nombre_recovered    16776\n",
    "Name: 204, dtype: int64"
   ]
  },
  {
   "cell_type": "markdown",
   "id": "1188a890",
   "metadata": {},
   "source": [
    "nombre_infected       798\n",
    "nombre_sain          1971\n",
    "nombre_exposed        441\n",
    "nombre_recovered    16790\n",
    "Name: 205, dtype: int64"
   ]
  },
  {
   "cell_type": "markdown",
   "id": "5c0be8cf",
   "metadata": {},
   "source": [
    "nombre_infected       792\n",
    "nombre_sain          1962\n",
    "nombre_exposed        457\n",
    "nombre_recovered    16789\n",
    "Name: 206, dtype: int64"
   ]
  },
  {
   "cell_type": "markdown",
   "id": "0983a41b",
   "metadata": {},
   "source": [
    "nombre_infected       794\n",
    "nombre_sain          1980\n",
    "nombre_exposed        437\n",
    "nombre_recovered    16789\n",
    "Name: 207, dtype: int64"
   ]
  },
  {
   "cell_type": "markdown",
   "id": "ada40214",
   "metadata": {},
   "source": [
    "nombre_infected       800\n",
    "nombre_sain          2012\n",
    "nombre_exposed        410\n",
    "nombre_recovered    16778\n",
    "Name: 208, dtype: int64"
   ]
  },
  {
   "cell_type": "markdown",
   "id": "ea284cad",
   "metadata": {},
   "source": [
    "nombre_infected       803\n",
    "nombre_sain          2008\n",
    "nombre_exposed        404\n",
    "nombre_recovered    16785\n",
    "Name: 209, dtype: int64"
   ]
  },
  {
   "cell_type": "markdown",
   "id": "427ec1da",
   "metadata": {},
   "source": [
    "nombre_infected       787\n",
    "nombre_sain          2005\n",
    "nombre_exposed        426\n",
    "nombre_recovered    16782\n",
    "Name: 210, dtype: int64"
   ]
  },
  {
   "cell_type": "markdown",
   "id": "28664cb9",
   "metadata": {},
   "source": [
    "nombre_infected       788\n",
    "nombre_sain          2014\n",
    "nombre_exposed        431\n",
    "nombre_recovered    16767\n",
    "Name: 211, dtype: int64"
   ]
  },
  {
   "cell_type": "markdown",
   "id": "1043398b",
   "metadata": {},
   "source": [
    "nombre_infected       783\n",
    "nombre_sain          2003\n",
    "nombre_exposed        437\n",
    "nombre_recovered    16777\n",
    "Name: 212, dtype: int64"
   ]
  },
  {
   "cell_type": "markdown",
   "id": "bd966b78",
   "metadata": {},
   "source": [
    "nombre_infected       793\n",
    "nombre_sain          1983\n",
    "nombre_exposed        431\n",
    "nombre_recovered    16793\n",
    "Name: 213, dtype: int64"
   ]
  },
  {
   "cell_type": "markdown",
   "id": "044d9264",
   "metadata": {},
   "source": [
    "nombre_infected       763\n",
    "nombre_sain          1976\n",
    "nombre_exposed        450\n",
    "nombre_recovered    16811\n",
    "Name: 214, dtype: int64"
   ]
  },
  {
   "cell_type": "markdown",
   "id": "1e22a905",
   "metadata": {},
   "source": [
    "nombre_infected       776\n",
    "nombre_sain          1980\n",
    "nombre_exposed        429\n",
    "nombre_recovered    16815\n",
    "Name: 215, dtype: int64"
   ]
  },
  {
   "cell_type": "markdown",
   "id": "155ef06a",
   "metadata": {},
   "source": [
    "nombre_infected       790\n",
    "nombre_sain          1991\n",
    "nombre_exposed        407\n",
    "nombre_recovered    16812\n",
    "Name: 216, dtype: int64"
   ]
  },
  {
   "cell_type": "markdown",
   "id": "9a30118a",
   "metadata": {},
   "source": [
    "nombre_infected       802\n",
    "nombre_sain          2000\n",
    "nombre_exposed        391\n",
    "nombre_recovered    16807\n",
    "Name: 217, dtype: int64"
   ]
  },
  {
   "cell_type": "markdown",
   "id": "7e5a47d1",
   "metadata": {},
   "source": [
    "nombre_infected       802\n",
    "nombre_sain          2013\n",
    "nombre_exposed        372\n",
    "nombre_recovered    16813\n",
    "Name: 218, dtype: int64"
   ]
  },
  {
   "cell_type": "markdown",
   "id": "825d3102",
   "metadata": {},
   "source": [
    "nombre_infected       807\n",
    "nombre_sain          2027\n",
    "nombre_exposed        350\n",
    "nombre_recovered    16816\n",
    "Name: 219, dtype: int64"
   ]
  },
  {
   "cell_type": "markdown",
   "id": "f20ec05d",
   "metadata": {},
   "source": [
    "nombre_infected       787\n",
    "nombre_sain          2006\n",
    "nombre_exposed        380\n",
    "nombre_recovered    16827\n",
    "Name: 220, dtype: int64"
   ]
  },
  {
   "cell_type": "markdown",
   "id": "302024c0",
   "metadata": {},
   "source": [
    "nombre_infected       759\n",
    "nombre_sain          1997\n",
    "nombre_exposed        414\n",
    "nombre_recovered    16830\n",
    "Name: 221, dtype: int64"
   ]
  },
  {
   "cell_type": "markdown",
   "id": "b024ba7a",
   "metadata": {},
   "source": [
    "nombre_infected       746\n",
    "nombre_sain          2007\n",
    "nombre_exposed        408\n",
    "nombre_recovered    16839\n",
    "Name: 222, dtype: int64"
   ]
  },
  {
   "cell_type": "markdown",
   "id": "a8ade3b0",
   "metadata": {},
   "source": [
    "nombre_infected       771\n",
    "nombre_sain          1995\n",
    "nombre_exposed        403\n",
    "nombre_recovered    16831\n",
    "Name: 223, dtype: int64"
   ]
  },
  {
   "cell_type": "markdown",
   "id": "41b03c05",
   "metadata": {},
   "source": [
    "nombre_infected       781\n",
    "nombre_sain          2007\n",
    "nombre_exposed        396\n",
    "nombre_recovered    16816\n",
    "Name: 224, dtype: int64"
   ]
  },
  {
   "cell_type": "markdown",
   "id": "c410dde2",
   "metadata": {},
   "source": [
    "nombre_infected       778\n",
    "nombre_sain          1994\n",
    "nombre_exposed        404\n",
    "nombre_recovered    16824\n",
    "Name: 225, dtype: int64"
   ]
  },
  {
   "cell_type": "markdown",
   "id": "dc5eef99",
   "metadata": {},
   "source": [
    "nombre_infected       767\n",
    "nombre_sain          2022\n",
    "nombre_exposed        414\n",
    "nombre_recovered    16797\n",
    "Name: 226, dtype: int64"
   ]
  },
  {
   "cell_type": "markdown",
   "id": "a44b7f35",
   "metadata": {},
   "source": [
    "nombre_infected       770\n",
    "nombre_sain          2042\n",
    "nombre_exposed        393\n",
    "nombre_recovered    16795\n",
    "Name: 227, dtype: int64"
   ]
  },
  {
   "cell_type": "markdown",
   "id": "ce73c5da",
   "metadata": {},
   "source": [
    "nombre_infected       757\n",
    "nombre_sain          2032\n",
    "nombre_exposed        412\n",
    "nombre_recovered    16799\n",
    "Name: 228, dtype: int64"
   ]
  },
  {
   "cell_type": "markdown",
   "id": "c4ea35eb",
   "metadata": {},
   "source": [
    "nombre_infected       751\n",
    "nombre_sain          2041\n",
    "nombre_exposed        396\n",
    "nombre_recovered    16812\n",
    "Name: 229, dtype: int64"
   ]
  },
  {
   "cell_type": "markdown",
   "id": "b5221d68",
   "metadata": {},
   "source": [
    "nombre_infected       766\n",
    "nombre_sain          2052\n",
    "nombre_exposed        385\n",
    "nombre_recovered    16797\n",
    "Name: 230, dtype: int64"
   ]
  },
  {
   "cell_type": "markdown",
   "id": "bfff405e",
   "metadata": {},
   "source": [
    "nombre_infected       763\n",
    "nombre_sain          2071\n",
    "nombre_exposed        385\n",
    "nombre_recovered    16781\n",
    "Name: 231, dtype: int64"
   ]
  },
  {
   "cell_type": "markdown",
   "id": "ecddb41d",
   "metadata": {},
   "source": [
    "nombre_infected       763\n",
    "nombre_sain          2056\n",
    "nombre_exposed        382\n",
    "nombre_recovered    16799\n",
    "Name: 232, dtype: int64"
   ]
  },
  {
   "cell_type": "markdown",
   "id": "5d336e9e",
   "metadata": {},
   "source": [
    "nombre_infected       756\n",
    "nombre_sain          2050\n",
    "nombre_exposed        380\n",
    "nombre_recovered    16814\n",
    "Name: 233, dtype: int64"
   ]
  },
  {
   "cell_type": "markdown",
   "id": "a3ff971b",
   "metadata": {},
   "source": [
    "nombre_infected       765\n",
    "nombre_sain          2030\n",
    "nombre_exposed        381\n",
    "nombre_recovered    16824\n",
    "Name: 234, dtype: int64"
   ]
  },
  {
   "cell_type": "markdown",
   "id": "2ca85aa3",
   "metadata": {},
   "source": [
    "nombre_infected       734\n",
    "nombre_sain          2049\n",
    "nombre_exposed        381\n",
    "nombre_recovered    16836\n",
    "Name: 235, dtype: int64"
   ]
  },
  {
   "cell_type": "markdown",
   "id": "0032f2a3",
   "metadata": {},
   "source": [
    "nombre_infected       735\n",
    "nombre_sain          2049\n",
    "nombre_exposed        375\n",
    "nombre_recovered    16841\n",
    "Name: 236, dtype: int64"
   ]
  },
  {
   "cell_type": "markdown",
   "id": "4428c54a",
   "metadata": {},
   "source": [
    "nombre_infected       748\n",
    "nombre_sain          2097\n",
    "nombre_exposed        365\n",
    "nombre_recovered    16790\n",
    "Name: 237, dtype: int64"
   ]
  },
  {
   "cell_type": "markdown",
   "id": "1810d3c1",
   "metadata": {},
   "source": [
    "nombre_infected       736\n",
    "nombre_sain          2085\n",
    "nombre_exposed        381\n",
    "nombre_recovered    16798\n",
    "Name: 238, dtype: int64"
   ]
  },
  {
   "cell_type": "markdown",
   "id": "7d4fc5b8",
   "metadata": {},
   "source": [
    "nombre_infected       732\n",
    "nombre_sain          2123\n",
    "nombre_exposed        374\n",
    "nombre_recovered    16771\n",
    "Name: 239, dtype: int64"
   ]
  },
  {
   "cell_type": "markdown",
   "id": "cc270a2a",
   "metadata": {},
   "source": [
    "nombre_infected       733\n",
    "nombre_sain          2169\n",
    "nombre_exposed        339\n",
    "nombre_recovered    16759\n",
    "Name: 240, dtype: int64"
   ]
  },
  {
   "cell_type": "markdown",
   "id": "420d0065",
   "metadata": {},
   "source": [
    "nombre_infected       735\n",
    "nombre_sain          2201\n",
    "nombre_exposed        343\n",
    "nombre_recovered    16721\n",
    "Name: 241, dtype: int64"
   ]
  },
  {
   "cell_type": "markdown",
   "id": "841de017",
   "metadata": {},
   "source": [
    "nombre_infected       720\n",
    "nombre_sain          2228\n",
    "nombre_exposed        340\n",
    "nombre_recovered    16712\n",
    "Name: 242, dtype: int64"
   ]
  },
  {
   "cell_type": "markdown",
   "id": "69bbe4d7",
   "metadata": {},
   "source": [
    "nombre_infected       703\n",
    "nombre_sain          2243\n",
    "nombre_exposed        357\n",
    "nombre_recovered    16697\n",
    "Name: 243, dtype: int64"
   ]
  },
  {
   "cell_type": "markdown",
   "id": "ee47de52",
   "metadata": {},
   "source": [
    "nombre_infected       688\n",
    "nombre_sain          2254\n",
    "nombre_exposed        361\n",
    "nombre_recovered    16697\n",
    "Name: 244, dtype: int64"
   ]
  },
  {
   "cell_type": "markdown",
   "id": "a5d5d537",
   "metadata": {},
   "source": [
    "nombre_infected       683\n",
    "nombre_sain          2296\n",
    "nombre_exposed        363\n",
    "nombre_recovered    16658\n",
    "Name: 245, dtype: int64"
   ]
  },
  {
   "cell_type": "markdown",
   "id": "064aae5e",
   "metadata": {},
   "source": [
    "nombre_infected       670\n",
    "nombre_sain          2334\n",
    "nombre_exposed        376\n",
    "nombre_recovered    16620\n",
    "Name: 246, dtype: int64"
   ]
  },
  {
   "cell_type": "markdown",
   "id": "159bd1f0",
   "metadata": {},
   "source": [
    "nombre_infected       689\n",
    "nombre_sain          2348\n",
    "nombre_exposed        369\n",
    "nombre_recovered    16594\n",
    "Name: 247, dtype: int64"
   ]
  },
  {
   "cell_type": "markdown",
   "id": "98494f3c",
   "metadata": {},
   "source": [
    "nombre_infected       679\n",
    "nombre_sain          2374\n",
    "nombre_exposed        360\n",
    "nombre_recovered    16587\n",
    "Name: 248, dtype: int64"
   ]
  },
  {
   "cell_type": "markdown",
   "id": "3bdcb91d",
   "metadata": {},
   "source": [
    "nombre_infected       677\n",
    "nombre_sain          2383\n",
    "nombre_exposed        366\n",
    "nombre_recovered    16574\n",
    "Name: 249, dtype: int64"
   ]
  },
  {
   "cell_type": "markdown",
   "id": "5697db8a",
   "metadata": {},
   "source": [
    "nombre_infected       658\n",
    "nombre_sain          2380\n",
    "nombre_exposed        374\n",
    "nombre_recovered    16588\n",
    "Name: 250, dtype: int64"
   ]
  },
  {
   "cell_type": "markdown",
   "id": "3e263456",
   "metadata": {},
   "source": [
    "nombre_infected       672\n",
    "nombre_sain          2362\n",
    "nombre_exposed        369\n",
    "nombre_recovered    16597\n",
    "Name: 251, dtype: int64"
   ]
  },
  {
   "cell_type": "markdown",
   "id": "93ba051c",
   "metadata": {},
   "source": [
    "nombre_infected       677\n",
    "nombre_sain          2354\n",
    "nombre_exposed        365\n",
    "nombre_recovered    16604\n",
    "Name: 252, dtype: int64"
   ]
  },
  {
   "cell_type": "markdown",
   "id": "06809e07",
   "metadata": {},
   "source": [
    "nombre_infected       659\n",
    "nombre_sain          2334\n",
    "nombre_exposed        383\n",
    "nombre_recovered    16624\n",
    "Name: 253, dtype: int64"
   ]
  },
  {
   "cell_type": "markdown",
   "id": "8cfdff7b",
   "metadata": {},
   "source": [
    "nombre_infected       665\n",
    "nombre_sain          2343\n",
    "nombre_exposed        378\n",
    "nombre_recovered    16614\n",
    "Name: 254, dtype: int64"
   ]
  },
  {
   "cell_type": "markdown",
   "id": "25ea6040",
   "metadata": {},
   "source": [
    "nombre_infected       682\n",
    "nombre_sain          2314\n",
    "nombre_exposed        374\n",
    "nombre_recovered    16630\n",
    "Name: 255, dtype: int64"
   ]
  },
  {
   "cell_type": "markdown",
   "id": "d72ac4e5",
   "metadata": {},
   "source": [
    "nombre_infected       666\n",
    "nombre_sain          2306\n",
    "nombre_exposed        375\n",
    "nombre_recovered    16653\n",
    "Name: 256, dtype: int64"
   ]
  },
  {
   "cell_type": "markdown",
   "id": "c5b4a15c",
   "metadata": {},
   "source": [
    "nombre_infected       675\n",
    "nombre_sain          2294\n",
    "nombre_exposed        368\n",
    "nombre_recovered    16663\n",
    "Name: 257, dtype: int64"
   ]
  },
  {
   "cell_type": "markdown",
   "id": "6f0e8170",
   "metadata": {},
   "source": [
    "nombre_infected       645\n",
    "nombre_sain          2286\n",
    "nombre_exposed        389\n",
    "nombre_recovered    16680\n",
    "Name: 258, dtype: int64"
   ]
  },
  {
   "cell_type": "markdown",
   "id": "3185985a",
   "metadata": {},
   "source": [
    "nombre_infected       635\n",
    "nombre_sain          2295\n",
    "nombre_exposed        390\n",
    "nombre_recovered    16680\n",
    "Name: 259, dtype: int64"
   ]
  },
  {
   "cell_type": "markdown",
   "id": "bc864113",
   "metadata": {},
   "source": [
    "nombre_infected       640\n",
    "nombre_sain          2307\n",
    "nombre_exposed        366\n",
    "nombre_recovered    16687\n",
    "Name: 260, dtype: int64"
   ]
  },
  {
   "cell_type": "markdown",
   "id": "47b12afa",
   "metadata": {},
   "source": [
    "nombre_infected       642\n",
    "nombre_sain          2306\n",
    "nombre_exposed        367\n",
    "nombre_recovered    16685\n",
    "Name: 261, dtype: int64"
   ]
  },
  {
   "cell_type": "markdown",
   "id": "55d50384",
   "metadata": {},
   "source": [
    "nombre_infected       638\n",
    "nombre_sain          2305\n",
    "nombre_exposed        371\n",
    "nombre_recovered    16686\n",
    "Name: 262, dtype: int64"
   ]
  },
  {
   "cell_type": "markdown",
   "id": "646d2bc4",
   "metadata": {},
   "source": [
    "nombre_infected       629\n",
    "nombre_sain          2302\n",
    "nombre_exposed        371\n",
    "nombre_recovered    16698\n",
    "Name: 263, dtype: int64"
   ]
  },
  {
   "cell_type": "markdown",
   "id": "2862a3d5",
   "metadata": {},
   "source": [
    "nombre_infected       626\n",
    "nombre_sain          2307\n",
    "nombre_exposed        376\n",
    "nombre_recovered    16691\n",
    "Name: 264, dtype: int64"
   ]
  },
  {
   "cell_type": "markdown",
   "id": "8467399c",
   "metadata": {},
   "source": [
    "nombre_infected       646\n",
    "nombre_sain          2318\n",
    "nombre_exposed        370\n",
    "nombre_recovered    16666\n",
    "Name: 265, dtype: int64"
   ]
  },
  {
   "cell_type": "markdown",
   "id": "8cd5746a",
   "metadata": {},
   "source": [
    "nombre_infected       614\n",
    "nombre_sain          2331\n",
    "nombre_exposed        381\n",
    "nombre_recovered    16674\n",
    "Name: 266, dtype: int64"
   ]
  },
  {
   "cell_type": "markdown",
   "id": "a44b626e",
   "metadata": {},
   "source": [
    "nombre_infected       634\n",
    "nombre_sain          2367\n",
    "nombre_exposed        335\n",
    "nombre_recovered    16664\n",
    "Name: 267, dtype: int64"
   ]
  },
  {
   "cell_type": "markdown",
   "id": "dc4e0a30",
   "metadata": {},
   "source": [
    "nombre_infected       646\n",
    "nombre_sain          2347\n",
    "nombre_exposed        343\n",
    "nombre_recovered    16664\n",
    "Name: 268, dtype: int64"
   ]
  },
  {
   "cell_type": "markdown",
   "id": "f86cbb0b",
   "metadata": {},
   "source": [
    "nombre_infected       634\n",
    "nombre_sain          2390\n",
    "nombre_exposed        333\n",
    "nombre_recovered    16643\n",
    "Name: 269, dtype: int64"
   ]
  },
  {
   "cell_type": "markdown",
   "id": "cf377c11",
   "metadata": {},
   "source": [
    "nombre_infected       640\n",
    "nombre_sain          2400\n",
    "nombre_exposed        340\n",
    "nombre_recovered    16620\n",
    "Name: 270, dtype: int64"
   ]
  },
  {
   "cell_type": "markdown",
   "id": "74efbcd2",
   "metadata": {},
   "source": [
    "nombre_infected       636\n",
    "nombre_sain          2411\n",
    "nombre_exposed        348\n",
    "nombre_recovered    16605\n",
    "Name: 271, dtype: int64"
   ]
  },
  {
   "cell_type": "markdown",
   "id": "a233e16c",
   "metadata": {},
   "source": [
    "nombre_infected       614\n",
    "nombre_sain          2444\n",
    "nombre_exposed        350\n",
    "nombre_recovered    16592\n",
    "Name: 272, dtype: int64"
   ]
  },
  {
   "cell_type": "markdown",
   "id": "356b4e40",
   "metadata": {},
   "source": [
    "nombre_infected       619\n",
    "nombre_sain          2444\n",
    "nombre_exposed        350\n",
    "nombre_recovered    16587\n",
    "Name: 273, dtype: int64"
   ]
  },
  {
   "cell_type": "markdown",
   "id": "a7dd083d",
   "metadata": {},
   "source": [
    "nombre_infected       606\n",
    "nombre_sain          2427\n",
    "nombre_exposed        371\n",
    "nombre_recovered    16596\n",
    "Name: 274, dtype: int64"
   ]
  },
  {
   "cell_type": "markdown",
   "id": "faf148f2",
   "metadata": {},
   "source": [
    "nombre_infected       609\n",
    "nombre_sain          2455\n",
    "nombre_exposed        369\n",
    "nombre_recovered    16567\n",
    "Name: 275, dtype: int64"
   ]
  },
  {
   "cell_type": "markdown",
   "id": "545f28c7",
   "metadata": {},
   "source": [
    "nombre_infected       604\n",
    "nombre_sain          2450\n",
    "nombre_exposed        392\n",
    "nombre_recovered    16554\n",
    "Name: 276, dtype: int64"
   ]
  },
  {
   "cell_type": "markdown",
   "id": "90ee17f1",
   "metadata": {},
   "source": [
    "nombre_infected       602\n",
    "nombre_sain          2466\n",
    "nombre_exposed        395\n",
    "nombre_recovered    16537\n",
    "Name: 277, dtype: int64"
   ]
  },
  {
   "cell_type": "markdown",
   "id": "adf1793a",
   "metadata": {},
   "source": [
    "nombre_infected       623\n",
    "nombre_sain          2459\n",
    "nombre_exposed        378\n",
    "nombre_recovered    16540\n",
    "Name: 278, dtype: int64"
   ]
  },
  {
   "cell_type": "markdown",
   "id": "dc80c06e",
   "metadata": {},
   "source": [
    "nombre_infected       644\n",
    "nombre_sain          2444\n",
    "nombre_exposed        376\n",
    "nombre_recovered    16536\n",
    "Name: 279, dtype: int64"
   ]
  },
  {
   "cell_type": "markdown",
   "id": "1d277857",
   "metadata": {},
   "source": [
    "nombre_infected       652\n",
    "nombre_sain          2447\n",
    "nombre_exposed        367\n",
    "nombre_recovered    16534\n",
    "Name: 280, dtype: int64"
   ]
  },
  {
   "cell_type": "markdown",
   "id": "eead48a1",
   "metadata": {},
   "source": [
    "nombre_infected       662\n",
    "nombre_sain          2454\n",
    "nombre_exposed        356\n",
    "nombre_recovered    16528\n",
    "Name: 281, dtype: int64"
   ]
  },
  {
   "cell_type": "markdown",
   "id": "0e3c38e0",
   "metadata": {},
   "source": [
    "nombre_infected       655\n",
    "nombre_sain          2443\n",
    "nombre_exposed        369\n",
    "nombre_recovered    16533\n",
    "Name: 282, dtype: int64"
   ]
  },
  {
   "cell_type": "markdown",
   "id": "39e53be3",
   "metadata": {},
   "source": [
    "nombre_infected       645\n",
    "nombre_sain          2450\n",
    "nombre_exposed        369\n",
    "nombre_recovered    16536\n",
    "Name: 283, dtype: int64"
   ]
  },
  {
   "cell_type": "markdown",
   "id": "7f4b2639",
   "metadata": {},
   "source": [
    "nombre_infected       621\n",
    "nombre_sain          2441\n",
    "nombre_exposed        385\n",
    "nombre_recovered    16553\n",
    "Name: 284, dtype: int64"
   ]
  },
  {
   "cell_type": "markdown",
   "id": "4d7f0607",
   "metadata": {},
   "source": [
    "nombre_infected       629\n",
    "nombre_sain          2434\n",
    "nombre_exposed        386\n",
    "nombre_recovered    16551\n",
    "Name: 285, dtype: int64"
   ]
  },
  {
   "cell_type": "markdown",
   "id": "dec7eded",
   "metadata": {},
   "source": [
    "nombre_infected       620\n",
    "nombre_sain          2443\n",
    "nombre_exposed        400\n",
    "nombre_recovered    16537\n",
    "Name: 286, dtype: int64"
   ]
  },
  {
   "cell_type": "markdown",
   "id": "fcc67e5a",
   "metadata": {},
   "source": [
    "nombre_infected       637\n",
    "nombre_sain          2425\n",
    "nombre_exposed        409\n",
    "nombre_recovered    16529\n",
    "Name: 287, dtype: int64"
   ]
  },
  {
   "cell_type": "markdown",
   "id": "b0abeef8",
   "metadata": {},
   "source": [
    "nombre_infected       654\n",
    "nombre_sain          2403\n",
    "nombre_exposed        427\n",
    "nombre_recovered    16516\n",
    "Name: 288, dtype: int64"
   ]
  },
  {
   "cell_type": "markdown",
   "id": "d3e5bd28",
   "metadata": {},
   "source": [
    "nombre_infected       649\n",
    "nombre_sain          2422\n",
    "nombre_exposed        411\n",
    "nombre_recovered    16518\n",
    "Name: 289, dtype: int64"
   ]
  },
  {
   "cell_type": "markdown",
   "id": "ac6f2ffd",
   "metadata": {},
   "source": [
    "nombre_infected       644\n",
    "nombre_sain          2412\n",
    "nombre_exposed        431\n",
    "nombre_recovered    16513\n",
    "Name: 290, dtype: int64"
   ]
  },
  {
   "cell_type": "markdown",
   "id": "94b16b12",
   "metadata": {},
   "source": [
    "nombre_infected       632\n",
    "nombre_sain          2420\n",
    "nombre_exposed        424\n",
    "nombre_recovered    16524\n",
    "Name: 291, dtype: int64"
   ]
  },
  {
   "cell_type": "markdown",
   "id": "82898b41",
   "metadata": {},
   "source": [
    "nombre_infected       628\n",
    "nombre_sain          2423\n",
    "nombre_exposed        427\n",
    "nombre_recovered    16522\n",
    "Name: 292, dtype: int64"
   ]
  },
  {
   "cell_type": "markdown",
   "id": "912dedb5",
   "metadata": {},
   "source": [
    "nombre_infected       631\n",
    "nombre_sain          2434\n",
    "nombre_exposed        434\n",
    "nombre_recovered    16501\n",
    "Name: 293, dtype: int64"
   ]
  },
  {
   "cell_type": "markdown",
   "id": "99bf6416",
   "metadata": {},
   "source": [
    "nombre_infected       643\n",
    "nombre_sain          2436\n",
    "nombre_exposed        436\n",
    "nombre_recovered    16485\n",
    "Name: 294, dtype: int64"
   ]
  },
  {
   "cell_type": "markdown",
   "id": "c9e74109",
   "metadata": {},
   "source": [
    "nombre_infected       649\n",
    "nombre_sain          2448\n",
    "nombre_exposed        434\n",
    "nombre_recovered    16469\n",
    "Name: 295, dtype: int64"
   ]
  },
  {
   "cell_type": "markdown",
   "id": "64a99e56",
   "metadata": {},
   "source": [
    "nombre_infected       652\n",
    "nombre_sain          2444\n",
    "nombre_exposed        435\n",
    "nombre_recovered    16469\n",
    "Name: 296, dtype: int64"
   ]
  },
  {
   "cell_type": "markdown",
   "id": "4f64fe71",
   "metadata": {},
   "source": [
    "nombre_infected       627\n",
    "nombre_sain          2469\n",
    "nombre_exposed        444\n",
    "nombre_recovered    16460\n",
    "Name: 297, dtype: int64"
   ]
  },
  {
   "cell_type": "markdown",
   "id": "93993a91",
   "metadata": {},
   "source": [
    "nombre_infected       644\n",
    "nombre_sain          2480\n",
    "nombre_exposed        444\n",
    "nombre_recovered    16432\n",
    "Name: 298, dtype: int64"
   ]
  },
  {
   "cell_type": "markdown",
   "id": "2ee73eaa",
   "metadata": {},
   "source": [
    "nombre_infected       642\n",
    "nombre_sain          2508\n",
    "nombre_exposed        444\n",
    "nombre_recovered    16406\n",
    "Name: 299, dtype: int64"
   ]
  },
  {
   "cell_type": "markdown",
   "id": "fa0c2939",
   "metadata": {},
   "source": [
    "nombre_infected       660\n",
    "nombre_sain          2535\n",
    "nombre_exposed        423\n",
    "nombre_recovered    16382\n",
    "Name: 300, dtype: int64"
   ]
  },
  {
   "cell_type": "markdown",
   "id": "8d3caa23",
   "metadata": {},
   "source": [
    "nombre_infected       656\n",
    "nombre_sain          2522\n",
    "nombre_exposed        439\n",
    "nombre_recovered    16383\n",
    "Name: 301, dtype: int64"
   ]
  },
  {
   "cell_type": "markdown",
   "id": "9e5fb6b4",
   "metadata": {},
   "source": [
    "nombre_infected       655\n",
    "nombre_sain          2578\n",
    "nombre_exposed        418\n",
    "nombre_recovered    16349\n",
    "Name: 302, dtype: int64"
   ]
  },
  {
   "cell_type": "markdown",
   "id": "d88829ab",
   "metadata": {},
   "source": [
    "nombre_infected       651\n",
    "nombre_sain          2576\n",
    "nombre_exposed        439\n",
    "nombre_recovered    16334\n",
    "Name: 303, dtype: int64"
   ]
  },
  {
   "cell_type": "markdown",
   "id": "1f5619f9",
   "metadata": {},
   "source": [
    "nombre_infected       642\n",
    "nombre_sain          2605\n",
    "nombre_exposed        437\n",
    "nombre_recovered    16316\n",
    "Name: 304, dtype: int64"
   ]
  },
  {
   "cell_type": "markdown",
   "id": "b7ea6537",
   "metadata": {},
   "source": [
    "nombre_infected       644\n",
    "nombre_sain          2612\n",
    "nombre_exposed        442\n",
    "nombre_recovered    16302\n",
    "Name: 305, dtype: int64"
   ]
  },
  {
   "cell_type": "markdown",
   "id": "edbecf16",
   "metadata": {},
   "source": [
    "nombre_infected       642\n",
    "nombre_sain          2617\n",
    "nombre_exposed        453\n",
    "nombre_recovered    16288\n",
    "Name: 306, dtype: int64"
   ]
  },
  {
   "cell_type": "markdown",
   "id": "1dc682b8",
   "metadata": {},
   "source": [
    "nombre_infected       649\n",
    "nombre_sain          2617\n",
    "nombre_exposed        452\n",
    "nombre_recovered    16282\n",
    "Name: 307, dtype: int64"
   ]
  },
  {
   "cell_type": "markdown",
   "id": "a55480a6",
   "metadata": {},
   "source": [
    "nombre_infected       655\n",
    "nombre_sain          2634\n",
    "nombre_exposed        460\n",
    "nombre_recovered    16251\n",
    "Name: 308, dtype: int64"
   ]
  },
  {
   "cell_type": "markdown",
   "id": "fd71c297",
   "metadata": {},
   "source": [
    "nombre_infected       671\n",
    "nombre_sain          2632\n",
    "nombre_exposed        453\n",
    "nombre_recovered    16244\n",
    "Name: 309, dtype: int64"
   ]
  },
  {
   "cell_type": "markdown",
   "id": "4131d134",
   "metadata": {},
   "source": [
    "nombre_infected       660\n",
    "nombre_sain          2609\n",
    "nombre_exposed        465\n",
    "nombre_recovered    16266\n",
    "Name: 310, dtype: int64"
   ]
  },
  {
   "cell_type": "markdown",
   "id": "d7d35d18",
   "metadata": {},
   "source": [
    "nombre_infected       657\n",
    "nombre_sain          2597\n",
    "nombre_exposed        489\n",
    "nombre_recovered    16257\n",
    "Name: 311, dtype: int64"
   ]
  },
  {
   "cell_type": "markdown",
   "id": "3abab1c0",
   "metadata": {},
   "source": [
    "nombre_infected       670\n",
    "nombre_sain          2594\n",
    "nombre_exposed        499\n",
    "nombre_recovered    16237\n",
    "Name: 312, dtype: int64"
   ]
  },
  {
   "cell_type": "markdown",
   "id": "0e930f79",
   "metadata": {},
   "source": [
    "nombre_infected       667\n",
    "nombre_sain          2599\n",
    "nombre_exposed        499\n",
    "nombre_recovered    16235\n",
    "Name: 313, dtype: int64"
   ]
  },
  {
   "cell_type": "markdown",
   "id": "80b21099",
   "metadata": {},
   "source": [
    "nombre_infected       671\n",
    "nombre_sain          2594\n",
    "nombre_exposed        506\n",
    "nombre_recovered    16229\n",
    "Name: 314, dtype: int64"
   ]
  },
  {
   "cell_type": "markdown",
   "id": "c9f57b5c",
   "metadata": {},
   "source": [
    "nombre_infected       705\n",
    "nombre_sain          2582\n",
    "nombre_exposed        506\n",
    "nombre_recovered    16207\n",
    "Name: 315, dtype: int64"
   ]
  },
  {
   "cell_type": "markdown",
   "id": "2388dae2",
   "metadata": {},
   "source": [
    "nombre_infected       723\n",
    "nombre_sain          2588\n",
    "nombre_exposed        499\n",
    "nombre_recovered    16190\n",
    "Name: 316, dtype: int64"
   ]
  },
  {
   "cell_type": "markdown",
   "id": "151dfb6e",
   "metadata": {},
   "source": [
    "nombre_infected       724\n",
    "nombre_sain          2585\n",
    "nombre_exposed        500\n",
    "nombre_recovered    16191\n",
    "Name: 317, dtype: int64"
   ]
  },
  {
   "cell_type": "markdown",
   "id": "7c100c7e",
   "metadata": {},
   "source": [
    "nombre_infected       739\n",
    "nombre_sain          2575\n",
    "nombre_exposed        504\n",
    "nombre_recovered    16182\n",
    "Name: 318, dtype: int64"
   ]
  },
  {
   "cell_type": "markdown",
   "id": "a47e8ed6",
   "metadata": {},
   "source": [
    "nombre_infected       766\n",
    "nombre_sain          2555\n",
    "nombre_exposed        496\n",
    "nombre_recovered    16183\n",
    "Name: 319, dtype: int64"
   ]
  },
  {
   "cell_type": "markdown",
   "id": "927b5f77",
   "metadata": {},
   "source": [
    "nombre_infected       779\n",
    "nombre_sain          2553\n",
    "nombre_exposed        494\n",
    "nombre_recovered    16174\n",
    "Name: 320, dtype: int64"
   ]
  },
  {
   "cell_type": "markdown",
   "id": "bb339255",
   "metadata": {},
   "source": [
    "nombre_infected       789\n",
    "nombre_sain          2571\n",
    "nombre_exposed        474\n",
    "nombre_recovered    16166\n",
    "Name: 321, dtype: int64"
   ]
  },
  {
   "cell_type": "markdown",
   "id": "3a062b45",
   "metadata": {},
   "source": [
    "nombre_infected       784\n",
    "nombre_sain          2569\n",
    "nombre_exposed        494\n",
    "nombre_recovered    16153\n",
    "Name: 322, dtype: int64"
   ]
  },
  {
   "cell_type": "markdown",
   "id": "ec453744",
   "metadata": {},
   "source": [
    "nombre_infected       774\n",
    "nombre_sain          2557\n",
    "nombre_exposed        485\n",
    "nombre_recovered    16184\n",
    "Name: 323, dtype: int64"
   ]
  },
  {
   "cell_type": "markdown",
   "id": "9c14847b",
   "metadata": {},
   "source": [
    "nombre_infected       759\n",
    "nombre_sain          2568\n",
    "nombre_exposed        495\n",
    "nombre_recovered    16178\n",
    "Name: 324, dtype: int64"
   ]
  },
  {
   "cell_type": "markdown",
   "id": "9db031e2",
   "metadata": {},
   "source": [
    "nombre_infected       758\n",
    "nombre_sain          2564\n",
    "nombre_exposed        508\n",
    "nombre_recovered    16170\n",
    "Name: 325, dtype: int64"
   ]
  },
  {
   "cell_type": "markdown",
   "id": "344df6a0",
   "metadata": {},
   "source": [
    "nombre_infected       774\n",
    "nombre_sain          2566\n",
    "nombre_exposed        502\n",
    "nombre_recovered    16158\n",
    "Name: 326, dtype: int64"
   ]
  },
  {
   "cell_type": "markdown",
   "id": "6fbacc4c",
   "metadata": {},
   "source": [
    "nombre_infected       786\n",
    "nombre_sain          2569\n",
    "nombre_exposed        496\n",
    "nombre_recovered    16149\n",
    "Name: 327, dtype: int64"
   ]
  },
  {
   "cell_type": "markdown",
   "id": "f7ea6f8b",
   "metadata": {},
   "source": [
    "nombre_infected       774\n",
    "nombre_sain          2590\n",
    "nombre_exposed        513\n",
    "nombre_recovered    16123\n",
    "Name: 328, dtype: int64"
   ]
  },
  {
   "cell_type": "markdown",
   "id": "90a83113",
   "metadata": {},
   "source": [
    "nombre_infected       775\n",
    "nombre_sain          2619\n",
    "nombre_exposed        515\n",
    "nombre_recovered    16091\n",
    "Name: 329, dtype: int64"
   ]
  },
  {
   "cell_type": "markdown",
   "id": "587bf225",
   "metadata": {},
   "source": [
    "nombre_infected       797\n",
    "nombre_sain          2609\n",
    "nombre_exposed        523\n",
    "nombre_recovered    16071\n",
    "Name: 330, dtype: int64"
   ]
  },
  {
   "cell_type": "markdown",
   "id": "82f70c8d",
   "metadata": {},
   "source": [
    "nombre_infected       763\n",
    "nombre_sain          2606\n",
    "nombre_exposed        561\n",
    "nombre_recovered    16070\n",
    "Name: 331, dtype: int64"
   ]
  },
  {
   "cell_type": "markdown",
   "id": "71539224",
   "metadata": {},
   "source": [
    "nombre_infected       802\n",
    "nombre_sain          2605\n",
    "nombre_exposed        546\n",
    "nombre_recovered    16047\n",
    "Name: 332, dtype: int64"
   ]
  },
  {
   "cell_type": "markdown",
   "id": "9d60f102",
   "metadata": {},
   "source": [
    "nombre_infected       824\n",
    "nombre_sain          2599\n",
    "nombre_exposed        586\n",
    "nombre_recovered    15991\n",
    "Name: 333, dtype: int64"
   ]
  },
  {
   "cell_type": "markdown",
   "id": "56c1881e",
   "metadata": {},
   "source": [
    "nombre_infected       831\n",
    "nombre_sain          2614\n",
    "nombre_exposed        576\n",
    "nombre_recovered    15979\n",
    "Name: 334, dtype: int64"
   ]
  },
  {
   "cell_type": "markdown",
   "id": "74249e0a",
   "metadata": {},
   "source": [
    "nombre_infected       849\n",
    "nombre_sain          2605\n",
    "nombre_exposed        582\n",
    "nombre_recovered    15964\n",
    "Name: 335, dtype: int64"
   ]
  },
  {
   "cell_type": "markdown",
   "id": "f9c65623",
   "metadata": {},
   "source": [
    "nombre_infected       867\n",
    "nombre_sain          2589\n",
    "nombre_exposed        606\n",
    "nombre_recovered    15938\n",
    "Name: 336, dtype: int64"
   ]
  },
  {
   "cell_type": "markdown",
   "id": "0646c348",
   "metadata": {},
   "source": [
    "nombre_infected       883\n",
    "nombre_sain          2560\n",
    "nombre_exposed        615\n",
    "nombre_recovered    15942\n",
    "Name: 337, dtype: int64"
   ]
  },
  {
   "cell_type": "markdown",
   "id": "c2397b10",
   "metadata": {},
   "source": [
    "nombre_infected       879\n",
    "nombre_sain          2540\n",
    "nombre_exposed        630\n",
    "nombre_recovered    15951\n",
    "Name: 338, dtype: int64"
   ]
  },
  {
   "cell_type": "markdown",
   "id": "d435c13b",
   "metadata": {},
   "source": [
    "nombre_infected       875\n",
    "nombre_sain          2518\n",
    "nombre_exposed        637\n",
    "nombre_recovered    15970\n",
    "Name: 339, dtype: int64"
   ]
  },
  {
   "cell_type": "markdown",
   "id": "ded6a189",
   "metadata": {},
   "source": [
    "nombre_infected       889\n",
    "nombre_sain          2499\n",
    "nombre_exposed        625\n",
    "nombre_recovered    15987\n",
    "Name: 340, dtype: int64"
   ]
  },
  {
   "cell_type": "markdown",
   "id": "c2184f32",
   "metadata": {},
   "source": [
    "nombre_infected       900\n",
    "nombre_sain          2487\n",
    "nombre_exposed        646\n",
    "nombre_recovered    15967\n",
    "Name: 341, dtype: int64"
   ]
  },
  {
   "cell_type": "markdown",
   "id": "023328d2",
   "metadata": {},
   "source": [
    "nombre_infected       910\n",
    "nombre_sain          2443\n",
    "nombre_exposed        650\n",
    "nombre_recovered    15997\n",
    "Name: 342, dtype: int64"
   ]
  },
  {
   "cell_type": "markdown",
   "id": "3f65f437",
   "metadata": {},
   "source": [
    "nombre_infected       922\n",
    "nombre_sain          2439\n",
    "nombre_exposed        640\n",
    "nombre_recovered    15999\n",
    "Name: 343, dtype: int64"
   ]
  },
  {
   "cell_type": "markdown",
   "id": "6d8c459e",
   "metadata": {},
   "source": [
    "nombre_infected       949\n",
    "nombre_sain          2404\n",
    "nombre_exposed        642\n",
    "nombre_recovered    16005\n",
    "Name: 344, dtype: int64"
   ]
  },
  {
   "cell_type": "markdown",
   "id": "054303bb",
   "metadata": {},
   "source": [
    "nombre_infected       945\n",
    "nombre_sain          2385\n",
    "nombre_exposed        640\n",
    "nombre_recovered    16030\n",
    "Name: 345, dtype: int64"
   ]
  },
  {
   "cell_type": "markdown",
   "id": "fdbf8946",
   "metadata": {},
   "source": [
    "nombre_infected       972\n",
    "nombre_sain          2363\n",
    "nombre_exposed        619\n",
    "nombre_recovered    16046\n",
    "Name: 346, dtype: int64"
   ]
  },
  {
   "cell_type": "markdown",
   "id": "3dfb23bc",
   "metadata": {},
   "source": [
    "nombre_infected       968\n",
    "nombre_sain          2350\n",
    "nombre_exposed        625\n",
    "nombre_recovered    16057\n",
    "Name: 347, dtype: int64"
   ]
  },
  {
   "cell_type": "markdown",
   "id": "ded7a125",
   "metadata": {},
   "source": [
    "nombre_infected       949\n",
    "nombre_sain          2324\n",
    "nombre_exposed        635\n",
    "nombre_recovered    16092\n",
    "Name: 348, dtype: int64"
   ]
  },
  {
   "cell_type": "markdown",
   "id": "2e00b034",
   "metadata": {},
   "source": [
    "nombre_infected       955\n",
    "nombre_sain          2322\n",
    "nombre_exposed        618\n",
    "nombre_recovered    16105\n",
    "Name: 349, dtype: int64"
   ]
  },
  {
   "cell_type": "markdown",
   "id": "1d7ba646",
   "metadata": {},
   "source": [
    "nombre_infected       959\n",
    "nombre_sain          2304\n",
    "nombre_exposed        616\n",
    "nombre_recovered    16121\n",
    "Name: 350, dtype: int64"
   ]
  },
  {
   "cell_type": "markdown",
   "id": "46bea725",
   "metadata": {},
   "source": [
    "nombre_infected       964\n",
    "nombre_sain          2289\n",
    "nombre_exposed        605\n",
    "nombre_recovered    16142\n",
    "Name: 351, dtype: int64"
   ]
  },
  {
   "cell_type": "markdown",
   "id": "7f3956ac",
   "metadata": {},
   "source": [
    "nombre_infected       993\n",
    "nombre_sain          2238\n",
    "nombre_exposed        611\n",
    "nombre_recovered    16158\n",
    "Name: 352, dtype: int64"
   ]
  },
  {
   "cell_type": "markdown",
   "id": "d01ecdcd",
   "metadata": {},
   "source": [
    "nombre_infected       993\n",
    "nombre_sain          2232\n",
    "nombre_exposed        614\n",
    "nombre_recovered    16161\n",
    "Name: 353, dtype: int64"
   ]
  },
  {
   "cell_type": "markdown",
   "id": "9d6fc925",
   "metadata": {},
   "source": [
    "nombre_infected      1013\n",
    "nombre_sain          2204\n",
    "nombre_exposed        602\n",
    "nombre_recovered    16181\n",
    "Name: 354, dtype: int64"
   ]
  },
  {
   "cell_type": "markdown",
   "id": "b558fd30",
   "metadata": {},
   "source": [
    "nombre_infected      1015\n",
    "nombre_sain          2204\n",
    "nombre_exposed        588\n",
    "nombre_recovered    16193\n",
    "Name: 355, dtype: int64"
   ]
  },
  {
   "cell_type": "markdown",
   "id": "7c00408e",
   "metadata": {},
   "source": [
    "nombre_infected      1004\n",
    "nombre_sain          2192\n",
    "nombre_exposed        573\n",
    "nombre_recovered    16231\n",
    "Name: 356, dtype: int64"
   ]
  },
  {
   "cell_type": "markdown",
   "id": "2483c2b8",
   "metadata": {},
   "source": [
    "nombre_infected       990\n",
    "nombre_sain          2191\n",
    "nombre_exposed        565\n",
    "nombre_recovered    16254\n",
    "Name: 357, dtype: int64"
   ]
  },
  {
   "cell_type": "markdown",
   "id": "5fa02386",
   "metadata": {},
   "source": [
    "nombre_infected       969\n",
    "nombre_sain          2168\n",
    "nombre_exposed        579\n",
    "nombre_recovered    16284\n",
    "Name: 358, dtype: int64"
   ]
  },
  {
   "cell_type": "markdown",
   "id": "b9807783",
   "metadata": {},
   "source": [
    "nombre_infected       977\n",
    "nombre_sain          2159\n",
    "nombre_exposed        585\n",
    "nombre_recovered    16279\n",
    "Name: 359, dtype: int64"
   ]
  },
  {
   "cell_type": "markdown",
   "id": "d5b251be",
   "metadata": {},
   "source": [
    "nombre_infected       975\n",
    "nombre_sain          2176\n",
    "nombre_exposed        559\n",
    "nombre_recovered    16290\n",
    "Name: 360, dtype: int64"
   ]
  },
  {
   "cell_type": "markdown",
   "id": "fc954457",
   "metadata": {},
   "source": [
    "nombre_infected       960\n",
    "nombre_sain          2148\n",
    "nombre_exposed        575\n",
    "nombre_recovered    16317\n",
    "Name: 361, dtype: int64"
   ]
  },
  {
   "cell_type": "markdown",
   "id": "23f59462",
   "metadata": {},
   "source": [
    "nombre_infected       958\n",
    "nombre_sain          2148\n",
    "nombre_exposed        556\n",
    "nombre_recovered    16338\n",
    "Name: 362, dtype: int64"
   ]
  },
  {
   "cell_type": "markdown",
   "id": "bba0239c",
   "metadata": {},
   "source": [
    "nombre_infected       949\n",
    "nombre_sain          2138\n",
    "nombre_exposed        559\n",
    "nombre_recovered    16354\n",
    "Name: 363, dtype: int64"
   ]
  },
  {
   "cell_type": "markdown",
   "id": "bce67e4d",
   "metadata": {},
   "source": [
    "nombre_infected       947\n",
    "nombre_sain          2128\n",
    "nombre_exposed        567\n",
    "nombre_recovered    16358\n",
    "Name: 364, dtype: int64"
   ]
  },
  {
   "cell_type": "markdown",
   "id": "46f0ccdc",
   "metadata": {},
   "source": [
    "nombre_infected       950\n",
    "nombre_sain          2131\n",
    "nombre_exposed        549\n",
    "nombre_recovered    16370\n",
    "Name: 365, dtype: int64"
   ]
  },
  {
   "cell_type": "markdown",
   "id": "7878398b",
   "metadata": {},
   "source": [
    "nombre_infected       954\n",
    "nombre_sain          2143\n",
    "nombre_exposed        547\n",
    "nombre_recovered    16356\n",
    "Name: 366, dtype: int64"
   ]
  },
  {
   "cell_type": "markdown",
   "id": "689597cf",
   "metadata": {},
   "source": [
    "nombre_infected       956\n",
    "nombre_sain          2117\n",
    "nombre_exposed        542\n",
    "nombre_recovered    16385\n",
    "Name: 367, dtype: int64"
   ]
  },
  {
   "cell_type": "markdown",
   "id": "d03849ea",
   "metadata": {},
   "source": [
    "nombre_infected       949\n",
    "nombre_sain          2091\n",
    "nombre_exposed        534\n",
    "nombre_recovered    16426\n",
    "Name: 368, dtype: int64"
   ]
  },
  {
   "cell_type": "markdown",
   "id": "7189a3bc",
   "metadata": {},
   "source": [
    "nombre_infected       965\n",
    "nombre_sain          2076\n",
    "nombre_exposed        518\n",
    "nombre_recovered    16441\n",
    "Name: 369, dtype: int64"
   ]
  },
  {
   "cell_type": "markdown",
   "id": "1301f791",
   "metadata": {},
   "source": [
    "nombre_infected       978\n",
    "nombre_sain          2064\n",
    "nombre_exposed        505\n",
    "nombre_recovered    16453\n",
    "Name: 370, dtype: int64"
   ]
  },
  {
   "cell_type": "markdown",
   "id": "7cd8b1e8",
   "metadata": {},
   "source": [
    "nombre_infected       976\n",
    "nombre_sain          2074\n",
    "nombre_exposed        503\n",
    "nombre_recovered    16447\n",
    "Name: 371, dtype: int64"
   ]
  },
  {
   "cell_type": "markdown",
   "id": "4a4dce1c",
   "metadata": {},
   "source": [
    "nombre_infected       966\n",
    "nombre_sain          2065\n",
    "nombre_exposed        506\n",
    "nombre_recovered    16463\n",
    "Name: 372, dtype: int64"
   ]
  },
  {
   "cell_type": "markdown",
   "id": "dfbb98bf",
   "metadata": {},
   "source": [
    "nombre_infected       950\n",
    "nombre_sain          2058\n",
    "nombre_exposed        515\n",
    "nombre_recovered    16477\n",
    "Name: 373, dtype: int64"
   ]
  },
  {
   "cell_type": "markdown",
   "id": "83175126",
   "metadata": {},
   "source": [
    "nombre_infected       911\n",
    "nombre_sain          2060\n",
    "nombre_exposed        526\n",
    "nombre_recovered    16503\n",
    "Name: 374, dtype: int64"
   ]
  },
  {
   "cell_type": "markdown",
   "id": "b38f4825",
   "metadata": {},
   "source": [
    "nombre_infected       907\n",
    "nombre_sain          2048\n",
    "nombre_exposed        527\n",
    "nombre_recovered    16518\n",
    "Name: 375, dtype: int64"
   ]
  },
  {
   "cell_type": "markdown",
   "id": "4cc4f28d",
   "metadata": {},
   "source": [
    "nombre_infected       914\n",
    "nombre_sain          2044\n",
    "nombre_exposed        510\n",
    "nombre_recovered    16532\n",
    "Name: 376, dtype: int64"
   ]
  },
  {
   "cell_type": "markdown",
   "id": "e1dd5232",
   "metadata": {},
   "source": [
    "nombre_infected       931\n",
    "nombre_sain          2036\n",
    "nombre_exposed        495\n",
    "nombre_recovered    16538\n",
    "Name: 377, dtype: int64"
   ]
  },
  {
   "cell_type": "markdown",
   "id": "43da000e",
   "metadata": {},
   "source": [
    "nombre_infected       938\n",
    "nombre_sain          2023\n",
    "nombre_exposed        489\n",
    "nombre_recovered    16550\n",
    "Name: 378, dtype: int64"
   ]
  },
  {
   "cell_type": "markdown",
   "id": "bc63c268",
   "metadata": {},
   "source": [
    "nombre_infected       941\n",
    "nombre_sain          2029\n",
    "nombre_exposed        473\n",
    "nombre_recovered    16557\n",
    "Name: 379, dtype: int64"
   ]
  },
  {
   "cell_type": "markdown",
   "id": "b0325cdf",
   "metadata": {},
   "source": [
    "nombre_infected       943\n",
    "nombre_sain          2006\n",
    "nombre_exposed        486\n",
    "nombre_recovered    16565\n",
    "Name: 380, dtype: int64"
   ]
  },
  {
   "cell_type": "markdown",
   "id": "f9b77edc",
   "metadata": {},
   "source": [
    "nombre_infected       944\n",
    "nombre_sain          2013\n",
    "nombre_exposed        471\n",
    "nombre_recovered    16572\n",
    "Name: 381, dtype: int64"
   ]
  },
  {
   "cell_type": "markdown",
   "id": "3a3c2787",
   "metadata": {},
   "source": [
    "nombre_infected       930\n",
    "nombre_sain          2008\n",
    "nombre_exposed        476\n",
    "nombre_recovered    16586\n",
    "Name: 382, dtype: int64"
   ]
  },
  {
   "cell_type": "markdown",
   "id": "8140b81f",
   "metadata": {},
   "source": [
    "nombre_infected       932\n",
    "nombre_sain          1996\n",
    "nombre_exposed        470\n",
    "nombre_recovered    16602\n",
    "Name: 383, dtype: int64"
   ]
  },
  {
   "cell_type": "markdown",
   "id": "6bc37803",
   "metadata": {},
   "source": [
    "nombre_infected       938\n",
    "nombre_sain          1991\n",
    "nombre_exposed        478\n",
    "nombre_recovered    16593\n",
    "Name: 384, dtype: int64"
   ]
  },
  {
   "cell_type": "markdown",
   "id": "1fbbb3c7",
   "metadata": {},
   "source": [
    "nombre_infected       905\n",
    "nombre_sain          1993\n",
    "nombre_exposed        482\n",
    "nombre_recovered    16620\n",
    "Name: 385, dtype: int64"
   ]
  },
  {
   "cell_type": "markdown",
   "id": "e85008ce",
   "metadata": {},
   "source": [
    "nombre_infected       893\n",
    "nombre_sain          1960\n",
    "nombre_exposed        501\n",
    "nombre_recovered    16646\n",
    "Name: 386, dtype: int64"
   ]
  },
  {
   "cell_type": "markdown",
   "id": "b60cc9b4",
   "metadata": {},
   "source": [
    "nombre_infected       881\n",
    "nombre_sain          1959\n",
    "nombre_exposed        488\n",
    "nombre_recovered    16672\n",
    "Name: 387, dtype: int64"
   ]
  },
  {
   "cell_type": "markdown",
   "id": "d9480469",
   "metadata": {},
   "source": [
    "nombre_infected       891\n",
    "nombre_sain          1953\n",
    "nombre_exposed        479\n",
    "nombre_recovered    16677\n",
    "Name: 388, dtype: int64"
   ]
  },
  {
   "cell_type": "markdown",
   "id": "0240f4b2",
   "metadata": {},
   "source": [
    "nombre_infected       895\n",
    "nombre_sain          1959\n",
    "nombre_exposed        469\n",
    "nombre_recovered    16677\n",
    "Name: 389, dtype: int64"
   ]
  },
  {
   "cell_type": "markdown",
   "id": "746df4cc",
   "metadata": {},
   "source": [
    "nombre_infected       897\n",
    "nombre_sain          1970\n",
    "nombre_exposed        451\n",
    "nombre_recovered    16682\n",
    "Name: 390, dtype: int64"
   ]
  },
  {
   "cell_type": "markdown",
   "id": "643b5d02",
   "metadata": {},
   "source": [
    "nombre_infected       897\n",
    "nombre_sain          1969\n",
    "nombre_exposed        456\n",
    "nombre_recovered    16678\n",
    "Name: 391, dtype: int64"
   ]
  },
  {
   "cell_type": "markdown",
   "id": "ee41c3ab",
   "metadata": {},
   "source": [
    "nombre_infected       866\n",
    "nombre_sain          1994\n",
    "nombre_exposed        456\n",
    "nombre_recovered    16684\n",
    "Name: 392, dtype: int64"
   ]
  },
  {
   "cell_type": "markdown",
   "id": "5a36cca4",
   "metadata": {},
   "source": [
    "nombre_infected       861\n",
    "nombre_sain          1985\n",
    "nombre_exposed        455\n",
    "nombre_recovered    16699\n",
    "Name: 393, dtype: int64"
   ]
  },
  {
   "cell_type": "markdown",
   "id": "c101fc94",
   "metadata": {},
   "source": [
    "nombre_infected       877\n",
    "nombre_sain          2006\n",
    "nombre_exposed        450\n",
    "nombre_recovered    16667\n",
    "Name: 394, dtype: int64"
   ]
  },
  {
   "cell_type": "markdown",
   "id": "35b6b96f",
   "metadata": {},
   "source": [
    "nombre_infected       855\n",
    "nombre_sain          1999\n",
    "nombre_exposed        444\n",
    "nombre_recovered    16702\n",
    "Name: 395, dtype: int64"
   ]
  },
  {
   "cell_type": "markdown",
   "id": "e49493f9",
   "metadata": {},
   "source": [
    "nombre_infected       860\n",
    "nombre_sain          1993\n",
    "nombre_exposed        441\n",
    "nombre_recovered    16706\n",
    "Name: 396, dtype: int64"
   ]
  },
  {
   "cell_type": "markdown",
   "id": "09cfdc69",
   "metadata": {},
   "source": [
    "nombre_infected       877\n",
    "nombre_sain          1984\n",
    "nombre_exposed        450\n",
    "nombre_recovered    16689\n",
    "Name: 397, dtype: int64"
   ]
  },
  {
   "cell_type": "markdown",
   "id": "0aae4a61",
   "metadata": {},
   "source": [
    "nombre_infected       872\n",
    "nombre_sain          2019\n",
    "nombre_exposed        413\n",
    "nombre_recovered    16696\n",
    "Name: 398, dtype: int64"
   ]
  },
  {
   "cell_type": "markdown",
   "id": "2fee4c92",
   "metadata": {},
   "source": [
    "nombre_infected       866\n",
    "nombre_sain          2032\n",
    "nombre_exposed        410\n",
    "nombre_recovered    16692\n",
    "Name: 399, dtype: int64"
   ]
  },
  {
   "cell_type": "markdown",
   "id": "5e600c22",
   "metadata": {},
   "source": [
    "nombre_infected       835\n",
    "nombre_sain          2027\n",
    "nombre_exposed        428\n",
    "nombre_recovered    16710\n",
    "Name: 400, dtype: int64"
   ]
  },
  {
   "cell_type": "markdown",
   "id": "1e299e18",
   "metadata": {},
   "source": [
    "nombre_infected       817\n",
    "nombre_sain          2055\n",
    "nombre_exposed        424\n",
    "nombre_recovered    16704\n",
    "Name: 401, dtype: int64"
   ]
  },
  {
   "cell_type": "markdown",
   "id": "6dc57470",
   "metadata": {},
   "source": [
    "nombre_infected       808\n",
    "nombre_sain          2061\n",
    "nombre_exposed        425\n",
    "nombre_recovered    16706\n",
    "Name: 402, dtype: int64"
   ]
  },
  {
   "cell_type": "markdown",
   "id": "5499dba8",
   "metadata": {},
   "source": [
    "nombre_infected       830\n",
    "nombre_sain          2041\n",
    "nombre_exposed        447\n",
    "nombre_recovered    16682\n",
    "Name: 403, dtype: int64"
   ]
  },
  {
   "cell_type": "markdown",
   "id": "07242a8f",
   "metadata": {},
   "source": [
    "nombre_infected       817\n",
    "nombre_sain          2036\n",
    "nombre_exposed        441\n",
    "nombre_recovered    16706\n",
    "Name: 404, dtype: int64"
   ]
  },
  {
   "cell_type": "markdown",
   "id": "6ae11162",
   "metadata": {},
   "source": [
    "nombre_infected       840\n",
    "nombre_sain          2012\n",
    "nombre_exposed        442\n",
    "nombre_recovered    16706\n",
    "Name: 405, dtype: int64"
   ]
  },
  {
   "cell_type": "markdown",
   "id": "449d277e",
   "metadata": {},
   "source": [
    "nombre_infected       840\n",
    "nombre_sain          1981\n",
    "nombre_exposed        449\n",
    "nombre_recovered    16730\n",
    "Name: 406, dtype: int64"
   ]
  },
  {
   "cell_type": "markdown",
   "id": "79e0927e",
   "metadata": {},
   "source": [
    "nombre_infected       827\n",
    "nombre_sain          1957\n",
    "nombre_exposed        456\n",
    "nombre_recovered    16760\n",
    "Name: 407, dtype: int64"
   ]
  },
  {
   "cell_type": "markdown",
   "id": "5af421a8",
   "metadata": {},
   "source": [
    "nombre_infected       815\n",
    "nombre_sain          1931\n",
    "nombre_exposed        468\n",
    "nombre_recovered    16786\n",
    "Name: 408, dtype: int64"
   ]
  },
  {
   "cell_type": "markdown",
   "id": "9aee0dd8",
   "metadata": {},
   "source": [
    "nombre_infected       820\n",
    "nombre_sain          1951\n",
    "nombre_exposed        462\n",
    "nombre_recovered    16767\n",
    "Name: 409, dtype: int64"
   ]
  },
  {
   "cell_type": "markdown",
   "id": "052b5c6d",
   "metadata": {},
   "source": [
    "nombre_infected       807\n",
    "nombre_sain          1932\n",
    "nombre_exposed        457\n",
    "nombre_recovered    16804\n",
    "Name: 410, dtype: int64"
   ]
  },
  {
   "cell_type": "markdown",
   "id": "63eb295b",
   "metadata": {},
   "source": [
    "nombre_infected       800\n",
    "nombre_sain          1929\n",
    "nombre_exposed        434\n",
    "nombre_recovered    16837\n",
    "Name: 411, dtype: int64"
   ]
  },
  {
   "cell_type": "markdown",
   "id": "880b40a3",
   "metadata": {},
   "source": [
    "nombre_infected       808\n",
    "nombre_sain          1927\n",
    "nombre_exposed        433\n",
    "nombre_recovered    16832\n",
    "Name: 412, dtype: int64"
   ]
  },
  {
   "cell_type": "markdown",
   "id": "19273cc1",
   "metadata": {},
   "source": [
    "nombre_infected       793\n",
    "nombre_sain          1922\n",
    "nombre_exposed        436\n",
    "nombre_recovered    16849\n",
    "Name: 413, dtype: int64"
   ]
  },
  {
   "cell_type": "markdown",
   "id": "1d46399c",
   "metadata": {},
   "source": [
    "nombre_infected       790\n",
    "nombre_sain          1920\n",
    "nombre_exposed        428\n",
    "nombre_recovered    16862\n",
    "Name: 414, dtype: int64"
   ]
  },
  {
   "cell_type": "markdown",
   "id": "b59a2a87",
   "metadata": {},
   "source": [
    "nombre_infected       785\n",
    "nombre_sain          1925\n",
    "nombre_exposed        413\n",
    "nombre_recovered    16877\n",
    "Name: 415, dtype: int64"
   ]
  },
  {
   "cell_type": "markdown",
   "id": "f644231d",
   "metadata": {},
   "source": [
    "nombre_infected       793\n",
    "nombre_sain          1941\n",
    "nombre_exposed        404\n",
    "nombre_recovered    16862\n",
    "Name: 416, dtype: int64"
   ]
  },
  {
   "cell_type": "markdown",
   "id": "554ab010",
   "metadata": {},
   "source": [
    "nombre_infected       793\n",
    "nombre_sain          1947\n",
    "nombre_exposed        386\n",
    "nombre_recovered    16874\n",
    "Name: 417, dtype: int64"
   ]
  },
  {
   "cell_type": "markdown",
   "id": "2e516da6",
   "metadata": {},
   "source": [
    "nombre_infected       780\n",
    "nombre_sain          1988\n",
    "nombre_exposed        376\n",
    "nombre_recovered    16856\n",
    "Name: 418, dtype: int64"
   ]
  },
  {
   "cell_type": "markdown",
   "id": "fe7cdf93",
   "metadata": {},
   "source": [
    "nombre_infected       770\n",
    "nombre_sain          2001\n",
    "nombre_exposed        369\n",
    "nombre_recovered    16860\n",
    "Name: 419, dtype: int64"
   ]
  },
  {
   "cell_type": "markdown",
   "id": "6f6e4eae",
   "metadata": {},
   "source": [
    "nombre_infected       745\n",
    "nombre_sain          2021\n",
    "nombre_exposed        360\n",
    "nombre_recovered    16874\n",
    "Name: 420, dtype: int64"
   ]
  },
  {
   "cell_type": "markdown",
   "id": "64cbfee7",
   "metadata": {},
   "source": [
    "nombre_infected       739\n",
    "nombre_sain          2060\n",
    "nombre_exposed        355\n",
    "nombre_recovered    16846\n",
    "Name: 421, dtype: int64"
   ]
  },
  {
   "cell_type": "markdown",
   "id": "8ab63157",
   "metadata": {},
   "source": [
    "nombre_infected       731\n",
    "nombre_sain          2101\n",
    "nombre_exposed        342\n",
    "nombre_recovered    16826\n",
    "Name: 422, dtype: int64"
   ]
  },
  {
   "cell_type": "markdown",
   "id": "60c744ff",
   "metadata": {},
   "source": [
    "nombre_infected       723\n",
    "nombre_sain          2127\n",
    "nombre_exposed        342\n",
    "nombre_recovered    16808\n",
    "Name: 423, dtype: int64"
   ]
  },
  {
   "cell_type": "markdown",
   "id": "3d861719",
   "metadata": {},
   "source": [
    "nombre_infected       708\n",
    "nombre_sain          2151\n",
    "nombre_exposed        359\n",
    "nombre_recovered    16782\n",
    "Name: 424, dtype: int64"
   ]
  },
  {
   "cell_type": "markdown",
   "id": "2ce9d149",
   "metadata": {},
   "source": [
    "nombre_infected       680\n",
    "nombre_sain          2189\n",
    "nombre_exposed        361\n",
    "nombre_recovered    16770\n",
    "Name: 425, dtype: int64"
   ]
  },
  {
   "cell_type": "markdown",
   "id": "51b871e4",
   "metadata": {},
   "source": [
    "nombre_infected       666\n",
    "nombre_sain          2216\n",
    "nombre_exposed        377\n",
    "nombre_recovered    16741\n",
    "Name: 426, dtype: int64"
   ]
  },
  {
   "cell_type": "markdown",
   "id": "25ddf5da",
   "metadata": {},
   "source": [
    "nombre_infected       667\n",
    "nombre_sain          2240\n",
    "nombre_exposed        377\n",
    "nombre_recovered    16716\n",
    "Name: 427, dtype: int64"
   ]
  },
  {
   "cell_type": "markdown",
   "id": "6ebe0e75",
   "metadata": {},
   "source": [
    "nombre_infected       667\n",
    "nombre_sain          2248\n",
    "nombre_exposed        378\n",
    "nombre_recovered    16707\n",
    "Name: 428, dtype: int64"
   ]
  },
  {
   "cell_type": "markdown",
   "id": "ca2a9ed6",
   "metadata": {},
   "source": [
    "nombre_infected       648\n",
    "nombre_sain          2273\n",
    "nombre_exposed        382\n",
    "nombre_recovered    16697\n",
    "Name: 429, dtype: int64"
   ]
  },
  {
   "cell_type": "markdown",
   "id": "711bf073",
   "metadata": {},
   "source": [
    "nombre_infected       668\n",
    "nombre_sain          2293\n",
    "nombre_exposed        369\n",
    "nombre_recovered    16670\n",
    "Name: 430, dtype: int64"
   ]
  },
  {
   "cell_type": "markdown",
   "id": "1ee2c5d5",
   "metadata": {},
   "source": [
    "nombre_infected       684\n",
    "nombre_sain          2315\n",
    "nombre_exposed        366\n",
    "nombre_recovered    16635\n",
    "Name: 431, dtype: int64"
   ]
  },
  {
   "cell_type": "markdown",
   "id": "f5011ed6",
   "metadata": {},
   "source": [
    "nombre_infected       693\n",
    "nombre_sain          2304\n",
    "nombre_exposed        371\n",
    "nombre_recovered    16632\n",
    "Name: 432, dtype: int64"
   ]
  },
  {
   "cell_type": "markdown",
   "id": "fe6e8bd2",
   "metadata": {},
   "source": [
    "nombre_infected       697\n",
    "nombre_sain          2305\n",
    "nombre_exposed        381\n",
    "nombre_recovered    16617\n",
    "Name: 433, dtype: int64"
   ]
  },
  {
   "cell_type": "markdown",
   "id": "d7c41446",
   "metadata": {},
   "source": [
    "nombre_infected       684\n",
    "nombre_sain          2311\n",
    "nombre_exposed        393\n",
    "nombre_recovered    16612\n",
    "Name: 434, dtype: int64"
   ]
  },
  {
   "cell_type": "markdown",
   "id": "0926adbe",
   "metadata": {},
   "source": [
    "nombre_infected       703\n",
    "nombre_sain          2313\n",
    "nombre_exposed        410\n",
    "nombre_recovered    16574\n",
    "Name: 435, dtype: int64"
   ]
  },
  {
   "cell_type": "markdown",
   "id": "f2d7e805",
   "metadata": {},
   "source": [
    "nombre_infected       697\n",
    "nombre_sain          2297\n",
    "nombre_exposed        434\n",
    "nombre_recovered    16572\n",
    "Name: 436, dtype: int64"
   ]
  },
  {
   "cell_type": "markdown",
   "id": "0e8a6f8f",
   "metadata": {},
   "source": [
    "nombre_infected       700\n",
    "nombre_sain          2298\n",
    "nombre_exposed        444\n",
    "nombre_recovered    16558\n",
    "Name: 437, dtype: int64"
   ]
  },
  {
   "cell_type": "markdown",
   "id": "62bd2b52",
   "metadata": {},
   "source": [
    "nombre_infected       706\n",
    "nombre_sain          2297\n",
    "nombre_exposed        446\n",
    "nombre_recovered    16551\n",
    "Name: 438, dtype: int64"
   ]
  },
  {
   "cell_type": "markdown",
   "id": "755a9dbc",
   "metadata": {},
   "source": [
    "nombre_infected       719\n",
    "nombre_sain          2302\n",
    "nombre_exposed        436\n",
    "nombre_recovered    16543\n",
    "Name: 439, dtype: int64"
   ]
  },
  {
   "cell_type": "markdown",
   "id": "d31c9500",
   "metadata": {},
   "source": [
    "nombre_infected       751\n",
    "nombre_sain          2288\n",
    "nombre_exposed        432\n",
    "nombre_recovered    16529\n",
    "Name: 440, dtype: int64"
   ]
  },
  {
   "cell_type": "markdown",
   "id": "ee40df80",
   "metadata": {},
   "source": [
    "nombre_infected       751\n",
    "nombre_sain          2298\n",
    "nombre_exposed        449\n",
    "nombre_recovered    16502\n",
    "Name: 441, dtype: int64"
   ]
  },
  {
   "cell_type": "markdown",
   "id": "1ef94f07",
   "metadata": {},
   "source": [
    "nombre_infected       766\n",
    "nombre_sain          2308\n",
    "nombre_exposed        435\n",
    "nombre_recovered    16491\n",
    "Name: 442, dtype: int64"
   ]
  },
  {
   "cell_type": "markdown",
   "id": "23ae15eb",
   "metadata": {},
   "source": [
    "nombre_infected       788\n",
    "nombre_sain          2295\n",
    "nombre_exposed        441\n",
    "nombre_recovered    16476\n",
    "Name: 443, dtype: int64"
   ]
  },
  {
   "cell_type": "markdown",
   "id": "22c1e0d9",
   "metadata": {},
   "source": [
    "nombre_infected       800\n",
    "nombre_sain          2314\n",
    "nombre_exposed        445\n",
    "nombre_recovered    16441\n",
    "Name: 444, dtype: int64"
   ]
  },
  {
   "cell_type": "markdown",
   "id": "5dad186f",
   "metadata": {},
   "source": [
    "nombre_infected       802\n",
    "nombre_sain          2308\n",
    "nombre_exposed        451\n",
    "nombre_recovered    16439\n",
    "Name: 445, dtype: int64"
   ]
  },
  {
   "cell_type": "markdown",
   "id": "1e638461",
   "metadata": {},
   "source": [
    "nombre_infected       801\n",
    "nombre_sain          2313\n",
    "nombre_exposed        448\n",
    "nombre_recovered    16438\n",
    "Name: 446, dtype: int64"
   ]
  },
  {
   "cell_type": "markdown",
   "id": "09f15284",
   "metadata": {},
   "source": [
    "nombre_infected       782\n",
    "nombre_sain          2286\n",
    "nombre_exposed        481\n",
    "nombre_recovered    16451\n",
    "Name: 447, dtype: int64"
   ]
  },
  {
   "cell_type": "markdown",
   "id": "1dd5fba7",
   "metadata": {},
   "source": [
    "nombre_infected       785\n",
    "nombre_sain          2293\n",
    "nombre_exposed        476\n",
    "nombre_recovered    16446\n",
    "Name: 448, dtype: int64"
   ]
  },
  {
   "cell_type": "markdown",
   "id": "9f28ff70",
   "metadata": {},
   "source": [
    "nombre_infected       782\n",
    "nombre_sain          2268\n",
    "nombre_exposed        484\n",
    "nombre_recovered    16466\n",
    "Name: 449, dtype: int64"
   ]
  },
  {
   "cell_type": "markdown",
   "id": "68f872e1",
   "metadata": {},
   "source": [
    "nombre_infected       798\n",
    "nombre_sain          2290\n",
    "nombre_exposed        482\n",
    "nombre_recovered    16430\n",
    "Name: 450, dtype: int64"
   ]
  },
  {
   "cell_type": "markdown",
   "id": "945c1312",
   "metadata": {},
   "source": [
    "nombre_infected       832\n",
    "nombre_sain          2308\n",
    "nombre_exposed        463\n",
    "nombre_recovered    16397\n",
    "Name: 451, dtype: int64"
   ]
  },
  {
   "cell_type": "markdown",
   "id": "2492b26f",
   "metadata": {},
   "source": [
    "nombre_infected       832\n",
    "nombre_sain          2290\n",
    "nombre_exposed        480\n",
    "nombre_recovered    16398\n",
    "Name: 452, dtype: int64"
   ]
  },
  {
   "cell_type": "markdown",
   "id": "0ad509f9",
   "metadata": {},
   "source": [
    "nombre_infected       850\n",
    "nombre_sain          2265\n",
    "nombre_exposed        479\n",
    "nombre_recovered    16406\n",
    "Name: 453, dtype: int64"
   ]
  },
  {
   "cell_type": "markdown",
   "id": "7edad065",
   "metadata": {},
   "source": [
    "nombre_infected       844\n",
    "nombre_sain          2227\n",
    "nombre_exposed        517\n",
    "nombre_recovered    16412\n",
    "Name: 454, dtype: int64"
   ]
  },
  {
   "cell_type": "markdown",
   "id": "53118ebc",
   "metadata": {},
   "source": [
    "nombre_infected       851\n",
    "nombre_sain          2218\n",
    "nombre_exposed        517\n",
    "nombre_recovered    16414\n",
    "Name: 455, dtype: int64"
   ]
  },
  {
   "cell_type": "markdown",
   "id": "25d2f66d",
   "metadata": {},
   "source": [
    "nombre_infected       875\n",
    "nombre_sain          2220\n",
    "nombre_exposed        499\n",
    "nombre_recovered    16406\n",
    "Name: 456, dtype: int64"
   ]
  },
  {
   "cell_type": "markdown",
   "id": "f21af000",
   "metadata": {},
   "source": [
    "nombre_infected       896\n",
    "nombre_sain          2212\n",
    "nombre_exposed        504\n",
    "nombre_recovered    16388\n",
    "Name: 457, dtype: int64"
   ]
  },
  {
   "cell_type": "markdown",
   "id": "3564a1ac",
   "metadata": {},
   "source": [
    "nombre_infected       919\n",
    "nombre_sain          2224\n",
    "nombre_exposed        486\n",
    "nombre_recovered    16371\n",
    "Name: 458, dtype: int64"
   ]
  },
  {
   "cell_type": "markdown",
   "id": "75835a93",
   "metadata": {},
   "source": [
    "nombre_infected       913\n",
    "nombre_sain          2222\n",
    "nombre_exposed        509\n",
    "nombre_recovered    16356\n",
    "Name: 459, dtype: int64"
   ]
  },
  {
   "cell_type": "markdown",
   "id": "5bb8f38f",
   "metadata": {},
   "source": [
    "nombre_infected       910\n",
    "nombre_sain          2197\n",
    "nombre_exposed        531\n",
    "nombre_recovered    16362\n",
    "Name: 460, dtype: int64"
   ]
  },
  {
   "cell_type": "markdown",
   "id": "c8d92ed9",
   "metadata": {},
   "source": [
    "nombre_infected       922\n",
    "nombre_sain          2207\n",
    "nombre_exposed        523\n",
    "nombre_recovered    16348\n",
    "Name: 461, dtype: int64"
   ]
  },
  {
   "cell_type": "markdown",
   "id": "35821dab",
   "metadata": {},
   "source": [
    "nombre_infected       946\n",
    "nombre_sain          2213\n",
    "nombre_exposed        502\n",
    "nombre_recovered    16339\n",
    "Name: 462, dtype: int64"
   ]
  },
  {
   "cell_type": "markdown",
   "id": "1e2e6766",
   "metadata": {},
   "source": [
    "nombre_infected       964\n",
    "nombre_sain          2212\n",
    "nombre_exposed        491\n",
    "nombre_recovered    16333\n",
    "Name: 463, dtype: int64"
   ]
  },
  {
   "cell_type": "markdown",
   "id": "e53beec7",
   "metadata": {},
   "source": [
    "nombre_infected       976\n",
    "nombre_sain          2230\n",
    "nombre_exposed        469\n",
    "nombre_recovered    16325\n",
    "Name: 464, dtype: int64"
   ]
  },
  {
   "cell_type": "markdown",
   "id": "dafe5d63",
   "metadata": {},
   "source": [
    "nombre_infected       978\n",
    "nombre_sain          2209\n",
    "nombre_exposed        485\n",
    "nombre_recovered    16328\n",
    "Name: 465, dtype: int64"
   ]
  },
  {
   "cell_type": "markdown",
   "id": "64a5ea77",
   "metadata": {},
   "source": [
    "nombre_infected       972\n",
    "nombre_sain          2208\n",
    "nombre_exposed        484\n",
    "nombre_recovered    16336\n",
    "Name: 466, dtype: int64"
   ]
  },
  {
   "cell_type": "markdown",
   "id": "b7b6aa26",
   "metadata": {},
   "source": [
    "nombre_infected       978\n",
    "nombre_sain          2207\n",
    "nombre_exposed        503\n",
    "nombre_recovered    16312\n",
    "Name: 467, dtype: int64"
   ]
  },
  {
   "cell_type": "markdown",
   "id": "eaea201c",
   "metadata": {},
   "source": [
    "nombre_infected       983\n",
    "nombre_sain          2216\n",
    "nombre_exposed        502\n",
    "nombre_recovered    16299\n",
    "Name: 468, dtype: int64"
   ]
  },
  {
   "cell_type": "markdown",
   "id": "689c582a",
   "metadata": {},
   "source": [
    "nombre_infected       980\n",
    "nombre_sain          2231\n",
    "nombre_exposed        516\n",
    "nombre_recovered    16273\n",
    "Name: 469, dtype: int64"
   ]
  },
  {
   "cell_type": "markdown",
   "id": "0369f293",
   "metadata": {},
   "source": [
    "nombre_infected       979\n",
    "nombre_sain          2268\n",
    "nombre_exposed        500\n",
    "nombre_recovered    16253\n",
    "Name: 470, dtype: int64"
   ]
  },
  {
   "cell_type": "markdown",
   "id": "455db5f6",
   "metadata": {},
   "source": [
    "nombre_infected      1000\n",
    "nombre_sain          2252\n",
    "nombre_exposed        515\n",
    "nombre_recovered    16233\n",
    "Name: 471, dtype: int64"
   ]
  },
  {
   "cell_type": "markdown",
   "id": "58f3e03d",
   "metadata": {},
   "source": [
    "nombre_infected       996\n",
    "nombre_sain          2277\n",
    "nombre_exposed        520\n",
    "nombre_recovered    16207\n",
    "Name: 472, dtype: int64"
   ]
  },
  {
   "cell_type": "markdown",
   "id": "9e729762",
   "metadata": {},
   "source": [
    "nombre_infected      1006\n",
    "nombre_sain          2270\n",
    "nombre_exposed        546\n",
    "nombre_recovered    16178\n",
    "Name: 473, dtype: int64"
   ]
  },
  {
   "cell_type": "markdown",
   "id": "710246a2",
   "metadata": {},
   "source": [
    "nombre_infected      1008\n",
    "nombre_sain          2282\n",
    "nombre_exposed        554\n",
    "nombre_recovered    16156\n",
    "Name: 474, dtype: int64"
   ]
  },
  {
   "cell_type": "markdown",
   "id": "e769b4cc",
   "metadata": {},
   "source": [
    "nombre_infected      1020\n",
    "nombre_sain          2299\n",
    "nombre_exposed        570\n",
    "nombre_recovered    16111\n",
    "Name: 475, dtype: int64"
   ]
  },
  {
   "cell_type": "markdown",
   "id": "2598f0b7",
   "metadata": {},
   "source": [
    "nombre_infected      1010\n",
    "nombre_sain          2317\n",
    "nombre_exposed        574\n",
    "nombre_recovered    16099\n",
    "Name: 476, dtype: int64"
   ]
  },
  {
   "cell_type": "markdown",
   "id": "582ea51a",
   "metadata": {},
   "source": [
    "nombre_infected      1019\n",
    "nombre_sain          2338\n",
    "nombre_exposed        573\n",
    "nombre_recovered    16070\n",
    "Name: 477, dtype: int64"
   ]
  },
  {
   "cell_type": "markdown",
   "id": "2f6951b9",
   "metadata": {},
   "source": [
    "nombre_infected      1061\n",
    "nombre_sain          2316\n",
    "nombre_exposed        565\n",
    "nombre_recovered    16058\n",
    "Name: 478, dtype: int64"
   ]
  },
  {
   "cell_type": "markdown",
   "id": "b7a8e856",
   "metadata": {},
   "source": [
    "nombre_infected      1082\n",
    "nombre_sain          2315\n",
    "nombre_exposed        575\n",
    "nombre_recovered    16028\n",
    "Name: 479, dtype: int64"
   ]
  },
  {
   "cell_type": "markdown",
   "id": "6d87412d",
   "metadata": {},
   "source": [
    "nombre_infected      1089\n",
    "nombre_sain          2272\n",
    "nombre_exposed        585\n",
    "nombre_recovered    16054\n",
    "Name: 480, dtype: int64"
   ]
  },
  {
   "cell_type": "markdown",
   "id": "3234b8af",
   "metadata": {},
   "source": [
    "nombre_infected      1112\n",
    "nombre_sain          2254\n",
    "nombre_exposed        579\n",
    "nombre_recovered    16055\n",
    "Name: 481, dtype: int64"
   ]
  },
  {
   "cell_type": "markdown",
   "id": "100def5a",
   "metadata": {},
   "source": [
    "nombre_infected      1116\n",
    "nombre_sain          2224\n",
    "nombre_exposed        573\n",
    "nombre_recovered    16087\n",
    "Name: 482, dtype: int64"
   ]
  },
  {
   "cell_type": "markdown",
   "id": "289cb9f2",
   "metadata": {},
   "source": [
    "nombre_infected      1124\n",
    "nombre_sain          2206\n",
    "nombre_exposed        596\n",
    "nombre_recovered    16074\n",
    "Name: 483, dtype: int64"
   ]
  },
  {
   "cell_type": "markdown",
   "id": "14975d04",
   "metadata": {},
   "source": [
    "nombre_infected      1135\n",
    "nombre_sain          2157\n",
    "nombre_exposed        603\n",
    "nombre_recovered    16105\n",
    "Name: 484, dtype: int64"
   ]
  },
  {
   "cell_type": "markdown",
   "id": "5b1ad4f5",
   "metadata": {},
   "source": [
    "nombre_infected      1158\n",
    "nombre_sain          2119\n",
    "nombre_exposed        605\n",
    "nombre_recovered    16118\n",
    "Name: 485, dtype: int64"
   ]
  },
  {
   "cell_type": "markdown",
   "id": "fbf4d17e",
   "metadata": {},
   "source": [
    "nombre_infected      1148\n",
    "nombre_sain          2061\n",
    "nombre_exposed        628\n",
    "nombre_recovered    16163\n",
    "Name: 486, dtype: int64"
   ]
  },
  {
   "cell_type": "markdown",
   "id": "25dcf6fc",
   "metadata": {},
   "source": [
    "nombre_infected      1160\n",
    "nombre_sain          2047\n",
    "nombre_exposed        635\n",
    "nombre_recovered    16158\n",
    "Name: 487, dtype: int64"
   ]
  },
  {
   "cell_type": "markdown",
   "id": "5433b6f1",
   "metadata": {},
   "source": [
    "nombre_infected      1172\n",
    "nombre_sain          2017\n",
    "nombre_exposed        615\n",
    "nombre_recovered    16196\n",
    "Name: 488, dtype: int64"
   ]
  },
  {
   "cell_type": "markdown",
   "id": "97a6facf",
   "metadata": {},
   "source": [
    "nombre_infected      1188\n",
    "nombre_sain          2008\n",
    "nombre_exposed        593\n",
    "nombre_recovered    16211\n",
    "Name: 489, dtype: int64"
   ]
  },
  {
   "cell_type": "markdown",
   "id": "f192fcd1",
   "metadata": {},
   "source": [
    "nombre_infected      1162\n",
    "nombre_sain          1975\n",
    "nombre_exposed        601\n",
    "nombre_recovered    16262\n",
    "Name: 490, dtype: int64"
   ]
  },
  {
   "cell_type": "markdown",
   "id": "ce16ebc0",
   "metadata": {},
   "source": [
    "nombre_infected      1144\n",
    "nombre_sain          1970\n",
    "nombre_exposed        610\n",
    "nombre_recovered    16276\n",
    "Name: 491, dtype: int64"
   ]
  },
  {
   "cell_type": "markdown",
   "id": "176dbf98",
   "metadata": {},
   "source": [
    "nombre_infected      1152\n",
    "nombre_sain          1977\n",
    "nombre_exposed        597\n",
    "nombre_recovered    16274\n",
    "Name: 492, dtype: int64"
   ]
  },
  {
   "cell_type": "markdown",
   "id": "586d7d6e",
   "metadata": {},
   "source": [
    "nombre_infected      1167\n",
    "nombre_sain          1974\n",
    "nombre_exposed        566\n",
    "nombre_recovered    16293\n",
    "Name: 493, dtype: int64"
   ]
  },
  {
   "cell_type": "markdown",
   "id": "aa62b300",
   "metadata": {},
   "source": [
    "nombre_infected      1195\n",
    "nombre_sain          1962\n",
    "nombre_exposed        567\n",
    "nombre_recovered    16276\n",
    "Name: 494, dtype: int64"
   ]
  },
  {
   "cell_type": "markdown",
   "id": "f143620f",
   "metadata": {},
   "source": [
    "nombre_infected      1189\n",
    "nombre_sain          1956\n",
    "nombre_exposed        559\n",
    "nombre_recovered    16296\n",
    "Name: 495, dtype: int64"
   ]
  },
  {
   "cell_type": "markdown",
   "id": "903d384a",
   "metadata": {},
   "source": [
    "nombre_infected      1183\n",
    "nombre_sain          1931\n",
    "nombre_exposed        540\n",
    "nombre_recovered    16346\n",
    "Name: 496, dtype: int64"
   ]
  },
  {
   "cell_type": "markdown",
   "id": "a85b5e36",
   "metadata": {},
   "source": [
    "nombre_infected      1153\n",
    "nombre_sain          1918\n",
    "nombre_exposed        550\n",
    "nombre_recovered    16379\n",
    "Name: 497, dtype: int64"
   ]
  },
  {
   "cell_type": "markdown",
   "id": "d8f264ec",
   "metadata": {},
   "source": [
    "nombre_infected      1126\n",
    "nombre_sain          1937\n",
    "nombre_exposed        532\n",
    "nombre_recovered    16405\n",
    "Name: 498, dtype: int64"
   ]
  },
  {
   "cell_type": "markdown",
   "id": "3cc65d99",
   "metadata": {},
   "source": [
    "nombre_infected      1110\n",
    "nombre_sain          1924\n",
    "nombre_exposed        526\n",
    "nombre_recovered    16440\n",
    "Name: 499, dtype: int64"
   ]
  },
  {
   "cell_type": "markdown",
   "id": "7b582164",
   "metadata": {},
   "source": [
    "nombre_infected      1097\n",
    "nombre_sain          1892\n",
    "nombre_exposed        549\n",
    "nombre_recovered    16462\n",
    "Name: 500, dtype: int64"
   ]
  },
  {
   "cell_type": "markdown",
   "id": "4730932e",
   "metadata": {},
   "source": [
    "nombre_infected      1089\n",
    "nombre_sain          1906\n",
    "nombre_exposed        528\n",
    "nombre_recovered    16477\n",
    "Name: 501, dtype: int64"
   ]
  },
  {
   "cell_type": "markdown",
   "id": "0054aacc",
   "metadata": {},
   "source": [
    "nombre_infected      1087\n",
    "nombre_sain          1884\n",
    "nombre_exposed        518\n",
    "nombre_recovered    16511\n",
    "Name: 502, dtype: int64"
   ]
  },
  {
   "cell_type": "markdown",
   "id": "edb92cc5",
   "metadata": {},
   "source": [
    "nombre_infected      1081\n",
    "nombre_sain          1876\n",
    "nombre_exposed        521\n",
    "nombre_recovered    16522\n",
    "Name: 503, dtype: int64"
   ]
  },
  {
   "cell_type": "markdown",
   "id": "61df4f58",
   "metadata": {},
   "source": [
    "nombre_infected      1074\n",
    "nombre_sain          1853\n",
    "nombre_exposed        546\n",
    "nombre_recovered    16527\n",
    "Name: 504, dtype: int64"
   ]
  },
  {
   "cell_type": "markdown",
   "id": "5e80a3ed",
   "metadata": {},
   "source": [
    "nombre_infected      1089\n",
    "nombre_sain          1837\n",
    "nombre_exposed        542\n",
    "nombre_recovered    16532\n",
    "Name: 505, dtype: int64"
   ]
  },
  {
   "cell_type": "markdown",
   "id": "469bce22",
   "metadata": {},
   "source": [
    "nombre_infected      1071\n",
    "nombre_sain          1860\n",
    "nombre_exposed        513\n",
    "nombre_recovered    16556\n",
    "Name: 506, dtype: int64"
   ]
  },
  {
   "cell_type": "markdown",
   "id": "7a1cdb89",
   "metadata": {},
   "source": [
    "nombre_infected      1066\n",
    "nombre_sain          1865\n",
    "nombre_exposed        494\n",
    "nombre_recovered    16575\n",
    "Name: 507, dtype: int64"
   ]
  },
  {
   "cell_type": "markdown",
   "id": "3a3808a0",
   "metadata": {},
   "source": [
    "nombre_infected      1046\n",
    "nombre_sain          1864\n",
    "nombre_exposed        492\n",
    "nombre_recovered    16598\n",
    "Name: 508, dtype: int64"
   ]
  },
  {
   "cell_type": "markdown",
   "id": "c980b12c",
   "metadata": {},
   "source": [
    "nombre_infected      1009\n",
    "nombre_sain          1891\n",
    "nombre_exposed        478\n",
    "nombre_recovered    16622\n",
    "Name: 509, dtype: int64"
   ]
  },
  {
   "cell_type": "markdown",
   "id": "c8db1fcc",
   "metadata": {},
   "source": [
    "nombre_infected       983\n",
    "nombre_sain          1882\n",
    "nombre_exposed        484\n",
    "nombre_recovered    16651\n",
    "Name: 510, dtype: int64"
   ]
  },
  {
   "cell_type": "markdown",
   "id": "3030770a",
   "metadata": {},
   "source": [
    "nombre_infected       943\n",
    "nombre_sain          1894\n",
    "nombre_exposed        496\n",
    "nombre_recovered    16667\n",
    "Name: 511, dtype: int64"
   ]
  },
  {
   "cell_type": "markdown",
   "id": "13395147",
   "metadata": {},
   "source": [
    "nombre_infected       937\n",
    "nombre_sain          1878\n",
    "nombre_exposed        486\n",
    "nombre_recovered    16699\n",
    "Name: 512, dtype: int64"
   ]
  },
  {
   "cell_type": "markdown",
   "id": "f432de11",
   "metadata": {},
   "source": [
    "nombre_infected       922\n",
    "nombre_sain          1873\n",
    "nombre_exposed        490\n",
    "nombre_recovered    16715\n",
    "Name: 513, dtype: int64"
   ]
  },
  {
   "cell_type": "markdown",
   "id": "766c7eca",
   "metadata": {},
   "source": [
    "nombre_infected       892\n",
    "nombre_sain          1877\n",
    "nombre_exposed        488\n",
    "nombre_recovered    16743\n",
    "Name: 514, dtype: int64"
   ]
  },
  {
   "cell_type": "markdown",
   "id": "51621db3",
   "metadata": {},
   "source": [
    "nombre_infected       897\n",
    "nombre_sain          1895\n",
    "nombre_exposed        458\n",
    "nombre_recovered    16750\n",
    "Name: 515, dtype: int64"
   ]
  },
  {
   "cell_type": "markdown",
   "id": "c50f94f4",
   "metadata": {},
   "source": [
    "nombre_infected       898\n",
    "nombre_sain          1927\n",
    "nombre_exposed        437\n",
    "nombre_recovered    16738\n",
    "Name: 516, dtype: int64"
   ]
  },
  {
   "cell_type": "markdown",
   "id": "23b6eb36",
   "metadata": {},
   "source": [
    "nombre_infected       866\n",
    "nombre_sain          1917\n",
    "nombre_exposed        432\n",
    "nombre_recovered    16785\n",
    "Name: 517, dtype: int64"
   ]
  },
  {
   "cell_type": "markdown",
   "id": "ef9f4aad",
   "metadata": {},
   "source": [
    "nombre_infected       837\n",
    "nombre_sain          1953\n",
    "nombre_exposed        415\n",
    "nombre_recovered    16795\n",
    "Name: 518, dtype: int64"
   ]
  },
  {
   "cell_type": "markdown",
   "id": "ef8d988e",
   "metadata": {},
   "source": [
    "nombre_infected       830\n",
    "nombre_sain          1977\n",
    "nombre_exposed        403\n",
    "nombre_recovered    16790\n",
    "Name: 519, dtype: int64"
   ]
  },
  {
   "cell_type": "markdown",
   "id": "660f9440",
   "metadata": {},
   "source": [
    "nombre_infected       801\n",
    "nombre_sain          1982\n",
    "nombre_exposed        411\n",
    "nombre_recovered    16806\n",
    "Name: 520, dtype: int64"
   ]
  },
  {
   "cell_type": "markdown",
   "id": "daac0feb",
   "metadata": {},
   "source": [
    "nombre_infected       775\n",
    "nombre_sain          1977\n",
    "nombre_exposed        424\n",
    "nombre_recovered    16824\n",
    "Name: 521, dtype: int64"
   ]
  },
  {
   "cell_type": "markdown",
   "id": "b7fabc3b",
   "metadata": {},
   "source": [
    "nombre_infected       739\n",
    "nombre_sain          1982\n",
    "nombre_exposed        432\n",
    "nombre_recovered    16847\n",
    "Name: 522, dtype: int64"
   ]
  },
  {
   "cell_type": "markdown",
   "id": "33d26369",
   "metadata": {},
   "source": [
    "nombre_infected       729\n",
    "nombre_sain          2002\n",
    "nombre_exposed        432\n",
    "nombre_recovered    16837\n",
    "Name: 523, dtype: int64"
   ]
  },
  {
   "cell_type": "markdown",
   "id": "f525df4d",
   "metadata": {},
   "source": [
    "nombre_infected       715\n",
    "nombre_sain          2032\n",
    "nombre_exposed        436\n",
    "nombre_recovered    16817\n",
    "Name: 524, dtype: int64"
   ]
  },
  {
   "cell_type": "markdown",
   "id": "2c3c0f8d",
   "metadata": {},
   "source": [
    "nombre_infected       713\n",
    "nombre_sain          2066\n",
    "nombre_exposed        420\n",
    "nombre_recovered    16801\n",
    "Name: 525, dtype: int64"
   ]
  },
  {
   "cell_type": "markdown",
   "id": "bcab392e",
   "metadata": {},
   "source": [
    "nombre_infected       711\n",
    "nombre_sain          2084\n",
    "nombre_exposed        421\n",
    "nombre_recovered    16784\n",
    "Name: 526, dtype: int64"
   ]
  },
  {
   "cell_type": "markdown",
   "id": "aa7044f7",
   "metadata": {},
   "source": [
    "nombre_infected       706\n",
    "nombre_sain          2092\n",
    "nombre_exposed        443\n",
    "nombre_recovered    16759\n",
    "Name: 527, dtype: int64"
   ]
  },
  {
   "cell_type": "markdown",
   "id": "0fc97fce",
   "metadata": {},
   "source": [
    "nombre_infected       717\n",
    "nombre_sain          2108\n",
    "nombre_exposed        441\n",
    "nombre_recovered    16734\n",
    "Name: 528, dtype: int64"
   ]
  },
  {
   "cell_type": "markdown",
   "id": "ce0f14f9",
   "metadata": {},
   "source": [
    "nombre_infected       717\n",
    "nombre_sain          2131\n",
    "nombre_exposed        435\n",
    "nombre_recovered    16717\n",
    "Name: 529, dtype: int64"
   ]
  },
  {
   "cell_type": "markdown",
   "id": "a5deffd5",
   "metadata": {},
   "source": [
    "nombre_infected       720\n",
    "nombre_sain          2153\n",
    "nombre_exposed        438\n",
    "nombre_recovered    16689\n",
    "Name: 530, dtype: int64"
   ]
  },
  {
   "cell_type": "markdown",
   "id": "8d99f4f6",
   "metadata": {},
   "source": [
    "nombre_infected       725\n",
    "nombre_sain          2154\n",
    "nombre_exposed        446\n",
    "nombre_recovered    16675\n",
    "Name: 531, dtype: int64"
   ]
  },
  {
   "cell_type": "markdown",
   "id": "f109d5fd",
   "metadata": {},
   "source": [
    "nombre_infected       736\n",
    "nombre_sain          2165\n",
    "nombre_exposed        435\n",
    "nombre_recovered    16664\n",
    "Name: 532, dtype: int64"
   ]
  },
  {
   "cell_type": "markdown",
   "id": "a1f431f7",
   "metadata": {},
   "source": [
    "nombre_infected       723\n",
    "nombre_sain          2207\n",
    "nombre_exposed        419\n",
    "nombre_recovered    16651\n",
    "Name: 533, dtype: int64"
   ]
  },
  {
   "cell_type": "markdown",
   "id": "93acab10",
   "metadata": {},
   "source": [
    "nombre_infected       712\n",
    "nombre_sain          2223\n",
    "nombre_exposed        416\n",
    "nombre_recovered    16649\n",
    "Name: 534, dtype: int64"
   ]
  },
  {
   "cell_type": "markdown",
   "id": "ce8e2e77",
   "metadata": {},
   "source": [
    "nombre_infected       719\n",
    "nombre_sain          2260\n",
    "nombre_exposed        402\n",
    "nombre_recovered    16619\n",
    "Name: 535, dtype: int64"
   ]
  },
  {
   "cell_type": "markdown",
   "id": "cf054212",
   "metadata": {},
   "source": [
    "nombre_infected       703\n",
    "nombre_sain          2280\n",
    "nombre_exposed        399\n",
    "nombre_recovered    16618\n",
    "Name: 536, dtype: int64"
   ]
  },
  {
   "cell_type": "markdown",
   "id": "0e8ba104",
   "metadata": {},
   "source": [
    "nombre_infected       705\n",
    "nombre_sain          2301\n",
    "nombre_exposed        408\n",
    "nombre_recovered    16586\n",
    "Name: 537, dtype: int64"
   ]
  },
  {
   "cell_type": "markdown",
   "id": "62833219",
   "metadata": {},
   "source": [
    "nombre_infected       688\n",
    "nombre_sain          2316\n",
    "nombre_exposed        417\n",
    "nombre_recovered    16579\n",
    "Name: 538, dtype: int64"
   ]
  },
  {
   "cell_type": "markdown",
   "id": "545499e0",
   "metadata": {},
   "source": [
    "nombre_infected       688\n",
    "nombre_sain          2330\n",
    "nombre_exposed        431\n",
    "nombre_recovered    16551\n",
    "Name: 539, dtype: int64"
   ]
  },
  {
   "cell_type": "markdown",
   "id": "a6478a15",
   "metadata": {},
   "source": [
    "nombre_infected       679\n",
    "nombre_sain          2335\n",
    "nombre_exposed        456\n",
    "nombre_recovered    16530\n",
    "Name: 540, dtype: int64"
   ]
  },
  {
   "cell_type": "markdown",
   "id": "c224d810",
   "metadata": {},
   "source": [
    "nombre_infected       690\n",
    "nombre_sain          2336\n",
    "nombre_exposed        459\n",
    "nombre_recovered    16515\n",
    "Name: 541, dtype: int64"
   ]
  },
  {
   "cell_type": "markdown",
   "id": "9c6aba6e",
   "metadata": {},
   "source": [
    "nombre_infected       692\n",
    "nombre_sain          2348\n",
    "nombre_exposed        443\n",
    "nombre_recovered    16517\n",
    "Name: 542, dtype: int64"
   ]
  },
  {
   "cell_type": "markdown",
   "id": "ea579545",
   "metadata": {},
   "source": [
    "nombre_infected       714\n",
    "nombre_sain          2377\n",
    "nombre_exposed        424\n",
    "nombre_recovered    16485\n",
    "Name: 543, dtype: int64"
   ]
  },
  {
   "cell_type": "markdown",
   "id": "84b113ab",
   "metadata": {},
   "source": [
    "nombre_infected       722\n",
    "nombre_sain          2395\n",
    "nombre_exposed        423\n",
    "nombre_recovered    16460\n",
    "Name: 544, dtype: int64"
   ]
  },
  {
   "cell_type": "markdown",
   "id": "d25b98f2",
   "metadata": {},
   "source": [
    "nombre_infected       707\n",
    "nombre_sain          2390\n",
    "nombre_exposed        439\n",
    "nombre_recovered    16464\n",
    "Name: 545, dtype: int64"
   ]
  },
  {
   "cell_type": "markdown",
   "id": "f7a9c35f",
   "metadata": {},
   "source": [
    "nombre_infected       711\n",
    "nombre_sain          2378\n",
    "nombre_exposed        439\n",
    "nombre_recovered    16472\n",
    "Name: 546, dtype: int64"
   ]
  },
  {
   "cell_type": "markdown",
   "id": "177bcda6",
   "metadata": {},
   "source": [
    "nombre_infected       731\n",
    "nombre_sain          2391\n",
    "nombre_exposed        429\n",
    "nombre_recovered    16449\n",
    "Name: 547, dtype: int64"
   ]
  },
  {
   "cell_type": "markdown",
   "id": "5800dbfd",
   "metadata": {},
   "source": [
    "nombre_infected       732\n",
    "nombre_sain          2372\n",
    "nombre_exposed        451\n",
    "nombre_recovered    16445\n",
    "Name: 548, dtype: int64"
   ]
  },
  {
   "cell_type": "markdown",
   "id": "b5bae646",
   "metadata": {},
   "source": [
    "nombre_infected       719\n",
    "nombre_sain          2381\n",
    "nombre_exposed        462\n",
    "nombre_recovered    16438\n",
    "Name: 549, dtype: int64"
   ]
  },
  {
   "cell_type": "markdown",
   "id": "d55d2dcb",
   "metadata": {},
   "source": [
    "nombre_infected       710\n",
    "nombre_sain          2394\n",
    "nombre_exposed        450\n",
    "nombre_recovered    16446\n",
    "Name: 550, dtype: int64"
   ]
  },
  {
   "cell_type": "markdown",
   "id": "fa542acc",
   "metadata": {},
   "source": [
    "nombre_infected       721\n",
    "nombre_sain          2402\n",
    "nombre_exposed        456\n",
    "nombre_recovered    16421\n",
    "Name: 551, dtype: int64"
   ]
  },
  {
   "cell_type": "markdown",
   "id": "c6c9180f",
   "metadata": {},
   "source": [
    "nombre_infected       727\n",
    "nombre_sain          2382\n",
    "nombre_exposed        486\n",
    "nombre_recovered    16405\n",
    "Name: 552, dtype: int64"
   ]
  },
  {
   "cell_type": "markdown",
   "id": "2aa1efd7",
   "metadata": {},
   "source": [
    "nombre_infected       737\n",
    "nombre_sain          2395\n",
    "nombre_exposed        476\n",
    "nombre_recovered    16392\n",
    "Name: 553, dtype: int64"
   ]
  },
  {
   "cell_type": "markdown",
   "id": "c0782fd4",
   "metadata": {},
   "source": [
    "nombre_infected       750\n",
    "nombre_sain          2392\n",
    "nombre_exposed        465\n",
    "nombre_recovered    16393\n",
    "Name: 554, dtype: int64"
   ]
  },
  {
   "cell_type": "markdown",
   "id": "49dc7f09",
   "metadata": {},
   "source": [
    "nombre_infected       742\n",
    "nombre_sain          2360\n",
    "nombre_exposed        501\n",
    "nombre_recovered    16397\n",
    "Name: 555, dtype: int64"
   ]
  },
  {
   "cell_type": "markdown",
   "id": "58fb1b3f",
   "metadata": {},
   "source": [
    "nombre_infected       758\n",
    "nombre_sain          2345\n",
    "nombre_exposed        501\n",
    "nombre_recovered    16396\n",
    "Name: 556, dtype: int64"
   ]
  },
  {
   "cell_type": "markdown",
   "id": "2b0f6e20",
   "metadata": {},
   "source": [
    "nombre_infected       771\n",
    "nombre_sain          2331\n",
    "nombre_exposed        504\n",
    "nombre_recovered    16394\n",
    "Name: 557, dtype: int64"
   ]
  },
  {
   "cell_type": "markdown",
   "id": "fa6c6c40",
   "metadata": {},
   "source": [
    "nombre_infected       774\n",
    "nombre_sain          2317\n",
    "nombre_exposed        489\n",
    "nombre_recovered    16420\n",
    "Name: 558, dtype: int64"
   ]
  },
  {
   "cell_type": "markdown",
   "id": "4df751ca",
   "metadata": {},
   "source": [
    "nombre_infected       798\n",
    "nombre_sain          2337\n",
    "nombre_exposed        473\n",
    "nombre_recovered    16392\n",
    "Name: 559, dtype: int64"
   ]
  },
  {
   "cell_type": "markdown",
   "id": "3f3c9b2b",
   "metadata": {},
   "source": [
    "nombre_infected       809\n",
    "nombre_sain          2346\n",
    "nombre_exposed        450\n",
    "nombre_recovered    16395\n",
    "Name: 560, dtype: int64"
   ]
  },
  {
   "cell_type": "markdown",
   "id": "a73af246",
   "metadata": {},
   "source": [
    "nombre_infected       787\n",
    "nombre_sain          2355\n",
    "nombre_exposed        453\n",
    "nombre_recovered    16405\n",
    "Name: 561, dtype: int64"
   ]
  },
  {
   "cell_type": "markdown",
   "id": "f7206660",
   "metadata": {},
   "source": [
    "nombre_infected       764\n",
    "nombre_sain          2321\n",
    "nombre_exposed        468\n",
    "nombre_recovered    16447\n",
    "Name: 562, dtype: int64"
   ]
  },
  {
   "cell_type": "markdown",
   "id": "3229a4de",
   "metadata": {},
   "source": [
    "nombre_infected       761\n",
    "nombre_sain          2305\n",
    "nombre_exposed        479\n",
    "nombre_recovered    16455\n",
    "Name: 563, dtype: int64"
   ]
  },
  {
   "cell_type": "markdown",
   "id": "6063fd7f",
   "metadata": {},
   "source": [
    "nombre_infected       755\n",
    "nombre_sain          2316\n",
    "nombre_exposed        491\n",
    "nombre_recovered    16438\n",
    "Name: 564, dtype: int64"
   ]
  },
  {
   "cell_type": "markdown",
   "id": "a45ec859",
   "metadata": {},
   "source": [
    "nombre_infected       773\n",
    "nombre_sain          2320\n",
    "nombre_exposed        472\n",
    "nombre_recovered    16435\n",
    "Name: 565, dtype: int64"
   ]
  },
  {
   "cell_type": "markdown",
   "id": "e5e74413",
   "metadata": {},
   "source": [
    "nombre_infected       817\n",
    "nombre_sain          2299\n",
    "nombre_exposed        447\n",
    "nombre_recovered    16437\n",
    "Name: 566, dtype: int64"
   ]
  },
  {
   "cell_type": "markdown",
   "id": "7d8678a2",
   "metadata": {},
   "source": [
    "nombre_infected       811\n",
    "nombre_sain          2277\n",
    "nombre_exposed        465\n",
    "nombre_recovered    16447\n",
    "Name: 567, dtype: int64"
   ]
  },
  {
   "cell_type": "markdown",
   "id": "a43a0036",
   "metadata": {},
   "source": [
    "nombre_infected       791\n",
    "nombre_sain          2238\n",
    "nombre_exposed        492\n",
    "nombre_recovered    16479\n",
    "Name: 568, dtype: int64"
   ]
  },
  {
   "cell_type": "markdown",
   "id": "fb574e76",
   "metadata": {},
   "source": [
    "nombre_infected       780\n",
    "nombre_sain          2240\n",
    "nombre_exposed        493\n",
    "nombre_recovered    16487\n",
    "Name: 569, dtype: int64"
   ]
  },
  {
   "cell_type": "markdown",
   "id": "777851a9",
   "metadata": {},
   "source": [
    "nombre_infected       810\n",
    "nombre_sain          2239\n",
    "nombre_exposed        488\n",
    "nombre_recovered    16463\n",
    "Name: 570, dtype: int64"
   ]
  },
  {
   "cell_type": "markdown",
   "id": "241ccaa3",
   "metadata": {},
   "source": [
    "nombre_infected       836\n",
    "nombre_sain          2232\n",
    "nombre_exposed        466\n",
    "nombre_recovered    16466\n",
    "Name: 571, dtype: int64"
   ]
  },
  {
   "cell_type": "markdown",
   "id": "3faf7f3d",
   "metadata": {},
   "source": [
    "nombre_infected       836\n",
    "nombre_sain          2215\n",
    "nombre_exposed        469\n",
    "nombre_recovered    16480\n",
    "Name: 572, dtype: int64"
   ]
  },
  {
   "cell_type": "markdown",
   "id": "aa53633a",
   "metadata": {},
   "source": [
    "nombre_infected       847\n",
    "nombre_sain          2212\n",
    "nombre_exposed        479\n",
    "nombre_recovered    16462\n",
    "Name: 573, dtype: int64"
   ]
  },
  {
   "cell_type": "markdown",
   "id": "e0b59329",
   "metadata": {},
   "source": [
    "nombre_infected       833\n",
    "nombre_sain          2189\n",
    "nombre_exposed        488\n",
    "nombre_recovered    16490\n",
    "Name: 574, dtype: int64"
   ]
  },
  {
   "cell_type": "markdown",
   "id": "ac9502e4",
   "metadata": {},
   "source": [
    "nombre_infected       838\n",
    "nombre_sain          2181\n",
    "nombre_exposed        479\n",
    "nombre_recovered    16502\n",
    "Name: 575, dtype: int64"
   ]
  },
  {
   "cell_type": "markdown",
   "id": "7903671e",
   "metadata": {},
   "source": [
    "nombre_infected       834\n",
    "nombre_sain          2165\n",
    "nombre_exposed        476\n",
    "nombre_recovered    16525\n",
    "Name: 576, dtype: int64"
   ]
  },
  {
   "cell_type": "markdown",
   "id": "542a8e47",
   "metadata": {},
   "source": [
    "nombre_infected       835\n",
    "nombre_sain          2139\n",
    "nombre_exposed        470\n",
    "nombre_recovered    16556\n",
    "Name: 577, dtype: int64"
   ]
  },
  {
   "cell_type": "markdown",
   "id": "81788e0e",
   "metadata": {},
   "source": [
    "nombre_infected       822\n",
    "nombre_sain          2130\n",
    "nombre_exposed        472\n",
    "nombre_recovered    16576\n",
    "Name: 578, dtype: int64"
   ]
  },
  {
   "cell_type": "markdown",
   "id": "d7491dbe",
   "metadata": {},
   "source": [
    "nombre_infected       808\n",
    "nombre_sain          2117\n",
    "nombre_exposed        469\n",
    "nombre_recovered    16606\n",
    "Name: 579, dtype: int64"
   ]
  },
  {
   "cell_type": "markdown",
   "id": "47070495",
   "metadata": {},
   "source": [
    "nombre_infected       817\n",
    "nombre_sain          2102\n",
    "nombre_exposed        479\n",
    "nombre_recovered    16602\n",
    "Name: 580, dtype: int64"
   ]
  },
  {
   "cell_type": "markdown",
   "id": "b40cb4b0",
   "metadata": {},
   "source": [
    "nombre_infected       821\n",
    "nombre_sain          2115\n",
    "nombre_exposed        450\n",
    "nombre_recovered    16614\n",
    "Name: 581, dtype: int64"
   ]
  },
  {
   "cell_type": "markdown",
   "id": "f5f0eb77",
   "metadata": {},
   "source": [
    "nombre_infected       812\n",
    "nombre_sain          2136\n",
    "nombre_exposed        438\n",
    "nombre_recovered    16614\n",
    "Name: 582, dtype: int64"
   ]
  },
  {
   "cell_type": "markdown",
   "id": "ea196023",
   "metadata": {},
   "source": [
    "nombre_infected       801\n",
    "nombre_sain          2149\n",
    "nombre_exposed        444\n",
    "nombre_recovered    16606\n",
    "Name: 583, dtype: int64"
   ]
  },
  {
   "cell_type": "markdown",
   "id": "cebdecfc",
   "metadata": {},
   "source": [
    "nombre_infected       781\n",
    "nombre_sain          2136\n",
    "nombre_exposed        448\n",
    "nombre_recovered    16635\n",
    "Name: 584, dtype: int64"
   ]
  },
  {
   "cell_type": "markdown",
   "id": "07791091",
   "metadata": {},
   "source": [
    "nombre_infected       764\n",
    "nombre_sain          2128\n",
    "nombre_exposed        463\n",
    "nombre_recovered    16645\n",
    "Name: 585, dtype: int64"
   ]
  },
  {
   "cell_type": "markdown",
   "id": "7e8e4476",
   "metadata": {},
   "source": [
    "nombre_infected       768\n",
    "nombre_sain          2140\n",
    "nombre_exposed        439\n",
    "nombre_recovered    16653\n",
    "Name: 586, dtype: int64"
   ]
  },
  {
   "cell_type": "markdown",
   "id": "73183e5d",
   "metadata": {},
   "source": [
    "nombre_infected       755\n",
    "nombre_sain          2177\n",
    "nombre_exposed        440\n",
    "nombre_recovered    16628\n",
    "Name: 587, dtype: int64"
   ]
  },
  {
   "cell_type": "markdown",
   "id": "2ad68b52",
   "metadata": {},
   "source": [
    "nombre_infected       744\n",
    "nombre_sain          2200\n",
    "nombre_exposed        449\n",
    "nombre_recovered    16607\n",
    "Name: 588, dtype: int64"
   ]
  },
  {
   "cell_type": "markdown",
   "id": "6b6e1d94",
   "metadata": {},
   "source": [
    "nombre_infected       758\n",
    "nombre_sain          2235\n",
    "nombre_exposed        437\n",
    "nombre_recovered    16570\n",
    "Name: 589, dtype: int64"
   ]
  },
  {
   "cell_type": "markdown",
   "id": "9c52dac5",
   "metadata": {},
   "source": [
    "nombre_infected       755\n",
    "nombre_sain          2255\n",
    "nombre_exposed        446\n",
    "nombre_recovered    16544\n",
    "Name: 590, dtype: int64"
   ]
  },
  {
   "cell_type": "markdown",
   "id": "996688fa",
   "metadata": {},
   "source": [
    "nombre_infected       755\n",
    "nombre_sain          2261\n",
    "nombre_exposed        469\n",
    "nombre_recovered    16515\n",
    "Name: 591, dtype: int64"
   ]
  },
  {
   "cell_type": "markdown",
   "id": "697b9429",
   "metadata": {},
   "source": [
    "nombre_infected       720\n",
    "nombre_sain          2289\n",
    "nombre_exposed        468\n",
    "nombre_recovered    16523\n",
    "Name: 592, dtype: int64"
   ]
  },
  {
   "cell_type": "markdown",
   "id": "88ecdc7c",
   "metadata": {},
   "source": [
    "nombre_infected       725\n",
    "nombre_sain          2330\n",
    "nombre_exposed        457\n",
    "nombre_recovered    16488\n",
    "Name: 593, dtype: int64"
   ]
  },
  {
   "cell_type": "markdown",
   "id": "f550783b",
   "metadata": {},
   "source": [
    "nombre_infected       725\n",
    "nombre_sain          2367\n",
    "nombre_exposed        442\n",
    "nombre_recovered    16466\n",
    "Name: 594, dtype: int64"
   ]
  },
  {
   "cell_type": "markdown",
   "id": "d66bb3b1",
   "metadata": {},
   "source": [
    "nombre_infected       726\n",
    "nombre_sain          2398\n",
    "nombre_exposed        451\n",
    "nombre_recovered    16425\n",
    "Name: 595, dtype: int64"
   ]
  },
  {
   "cell_type": "markdown",
   "id": "efc6c354",
   "metadata": {},
   "source": [
    "nombre_infected       724\n",
    "nombre_sain          2434\n",
    "nombre_exposed        463\n",
    "nombre_recovered    16379\n",
    "Name: 596, dtype: int64"
   ]
  },
  {
   "cell_type": "markdown",
   "id": "5674a5a1",
   "metadata": {},
   "source": [
    "nombre_infected       733\n",
    "nombre_sain          2474\n",
    "nombre_exposed        450\n",
    "nombre_recovered    16343\n",
    "Name: 597, dtype: int64"
   ]
  },
  {
   "cell_type": "markdown",
   "id": "fdd77b93",
   "metadata": {},
   "source": [
    "nombre_infected       717\n",
    "nombre_sain          2479\n",
    "nombre_exposed        467\n",
    "nombre_recovered    16337\n",
    "Name: 598, dtype: int64"
   ]
  },
  {
   "cell_type": "markdown",
   "id": "0c48f15d",
   "metadata": {},
   "source": [
    "nombre_infected       721\n",
    "nombre_sain          2484\n",
    "nombre_exposed        478\n",
    "nombre_recovered    16317\n",
    "Name: 599, dtype: int64"
   ]
  },
  {
   "cell_type": "markdown",
   "id": "8157c65b",
   "metadata": {},
   "source": [
    "nombre_infected       745\n",
    "nombre_sain          2500\n",
    "nombre_exposed        469\n",
    "nombre_recovered    16286\n",
    "Name: 600, dtype: int64"
   ]
  },
  {
   "cell_type": "markdown",
   "id": "fc619bb4",
   "metadata": {},
   "source": [
    "nombre_infected       741\n",
    "nombre_sain          2504\n",
    "nombre_exposed        494\n",
    "nombre_recovered    16261\n",
    "Name: 601, dtype: int64"
   ]
  },
  {
   "cell_type": "markdown",
   "id": "64684d2a",
   "metadata": {},
   "source": [
    "nombre_infected       772\n",
    "nombre_sain          2495\n",
    "nombre_exposed        468\n",
    "nombre_recovered    16265\n",
    "Name: 602, dtype: int64"
   ]
  },
  {
   "cell_type": "markdown",
   "id": "2fd4959e",
   "metadata": {},
   "source": [
    "nombre_infected       787\n",
    "nombre_sain          2507\n",
    "nombre_exposed        466\n",
    "nombre_recovered    16240\n",
    "Name: 603, dtype: int64"
   ]
  },
  {
   "cell_type": "markdown",
   "id": "16800d56",
   "metadata": {},
   "source": [
    "nombre_infected       779\n",
    "nombre_sain          2507\n",
    "nombre_exposed        510\n",
    "nombre_recovered    16204\n",
    "Name: 604, dtype: int64"
   ]
  },
  {
   "cell_type": "markdown",
   "id": "2a704075",
   "metadata": {},
   "source": [
    "nombre_infected       791\n",
    "nombre_sain          2516\n",
    "nombre_exposed        498\n",
    "nombre_recovered    16195\n",
    "Name: 605, dtype: int64"
   ]
  },
  {
   "cell_type": "markdown",
   "id": "0db6679a",
   "metadata": {},
   "source": [
    "nombre_infected       794\n",
    "nombre_sain          2531\n",
    "nombre_exposed        504\n",
    "nombre_recovered    16171\n",
    "Name: 606, dtype: int64"
   ]
  },
  {
   "cell_type": "markdown",
   "id": "19fbe61e",
   "metadata": {},
   "source": [
    "nombre_infected       779\n",
    "nombre_sain          2540\n",
    "nombre_exposed        508\n",
    "nombre_recovered    16173\n",
    "Name: 607, dtype: int64"
   ]
  },
  {
   "cell_type": "markdown",
   "id": "c4eacc14",
   "metadata": {},
   "source": [
    "nombre_infected       810\n",
    "nombre_sain          2562\n",
    "nombre_exposed        482\n",
    "nombre_recovered    16146\n",
    "Name: 608, dtype: int64"
   ]
  },
  {
   "cell_type": "markdown",
   "id": "e408a6e8",
   "metadata": {},
   "source": [
    "nombre_infected       786\n",
    "nombre_sain          2586\n",
    "nombre_exposed        502\n",
    "nombre_recovered    16126\n",
    "Name: 609, dtype: int64"
   ]
  },
  {
   "cell_type": "markdown",
   "id": "83a9c869",
   "metadata": {},
   "source": [
    "nombre_infected       782\n",
    "nombre_sain          2611\n",
    "nombre_exposed        506\n",
    "nombre_recovered    16101\n",
    "Name: 610, dtype: int64"
   ]
  },
  {
   "cell_type": "markdown",
   "id": "ad8f4364",
   "metadata": {},
   "source": [
    "nombre_infected       811\n",
    "nombre_sain          2616\n",
    "nombre_exposed        495\n",
    "nombre_recovered    16078\n",
    "Name: 611, dtype: int64"
   ]
  },
  {
   "cell_type": "markdown",
   "id": "90207022",
   "metadata": {},
   "source": [
    "nombre_infected       817\n",
    "nombre_sain          2610\n",
    "nombre_exposed        524\n",
    "nombre_recovered    16049\n",
    "Name: 612, dtype: int64"
   ]
  },
  {
   "cell_type": "markdown",
   "id": "4728fac8",
   "metadata": {},
   "source": [
    "nombre_infected       812\n",
    "nombre_sain          2588\n",
    "nombre_exposed        546\n",
    "nombre_recovered    16054\n",
    "Name: 613, dtype: int64"
   ]
  },
  {
   "cell_type": "markdown",
   "id": "a7e3d57a",
   "metadata": {},
   "source": [
    "nombre_infected       828\n",
    "nombre_sain          2581\n",
    "nombre_exposed        557\n",
    "nombre_recovered    16034\n",
    "Name: 614, dtype: int64"
   ]
  },
  {
   "cell_type": "markdown",
   "id": "16486997",
   "metadata": {},
   "source": [
    "nombre_infected       846\n",
    "nombre_sain          2579\n",
    "nombre_exposed        556\n",
    "nombre_recovered    16019\n",
    "Name: 615, dtype: int64"
   ]
  },
  {
   "cell_type": "markdown",
   "id": "ed2109b8",
   "metadata": {},
   "source": [
    "nombre_infected       882\n",
    "nombre_sain          2579\n",
    "nombre_exposed        549\n",
    "nombre_recovered    15990\n",
    "Name: 616, dtype: int64"
   ]
  },
  {
   "cell_type": "markdown",
   "id": "b6a323c2",
   "metadata": {},
   "source": [
    "nombre_infected       864\n",
    "nombre_sain          2570\n",
    "nombre_exposed        572\n",
    "nombre_recovered    15994\n",
    "Name: 617, dtype: int64"
   ]
  },
  {
   "cell_type": "markdown",
   "id": "10aadce8",
   "metadata": {},
   "source": [
    "nombre_infected       889\n",
    "nombre_sain          2574\n",
    "nombre_exposed        554\n",
    "nombre_recovered    15983\n",
    "Name: 618, dtype: int64"
   ]
  },
  {
   "cell_type": "markdown",
   "id": "cbfb6688",
   "metadata": {},
   "source": [
    "nombre_infected       894\n",
    "nombre_sain          2581\n",
    "nombre_exposed        553\n",
    "nombre_recovered    15972\n",
    "Name: 619, dtype: int64"
   ]
  },
  {
   "cell_type": "markdown",
   "id": "6b7a780d",
   "metadata": {},
   "source": [
    "nombre_infected       894\n",
    "nombre_sain          2569\n",
    "nombre_exposed        548\n",
    "nombre_recovered    15989\n",
    "Name: 620, dtype: int64"
   ]
  },
  {
   "cell_type": "markdown",
   "id": "ffc8f20b",
   "metadata": {},
   "source": [
    "nombre_infected       879\n",
    "nombre_sain          2523\n",
    "nombre_exposed        573\n",
    "nombre_recovered    16025\n",
    "Name: 621, dtype: int64"
   ]
  },
  {
   "cell_type": "markdown",
   "id": "9a89ce72",
   "metadata": {},
   "source": [
    "nombre_infected       895\n",
    "nombre_sain          2470\n",
    "nombre_exposed        600\n",
    "nombre_recovered    16035\n",
    "Name: 622, dtype: int64"
   ]
  },
  {
   "cell_type": "markdown",
   "id": "1e18c03a",
   "metadata": {},
   "source": [
    "nombre_infected       898\n",
    "nombre_sain          2471\n",
    "nombre_exposed        597\n",
    "nombre_recovered    16034\n",
    "Name: 623, dtype: int64"
   ]
  },
  {
   "cell_type": "markdown",
   "id": "5ce4a9f3",
   "metadata": {},
   "source": [
    "nombre_infected       921\n",
    "nombre_sain          2454\n",
    "nombre_exposed        581\n",
    "nombre_recovered    16044\n",
    "Name: 624, dtype: int64"
   ]
  },
  {
   "cell_type": "markdown",
   "id": "1d11868c",
   "metadata": {},
   "source": [
    "nombre_infected       932\n",
    "nombre_sain          2421\n",
    "nombre_exposed        598\n",
    "nombre_recovered    16049\n",
    "Name: 625, dtype: int64"
   ]
  },
  {
   "cell_type": "markdown",
   "id": "fa381e44",
   "metadata": {},
   "source": [
    "nombre_infected       932\n",
    "nombre_sain          2401\n",
    "nombre_exposed        615\n",
    "nombre_recovered    16052\n",
    "Name: 626, dtype: int64"
   ]
  },
  {
   "cell_type": "markdown",
   "id": "1d4d9d51",
   "metadata": {},
   "source": [
    "nombre_infected       949\n",
    "nombre_sain          2357\n",
    "nombre_exposed        622\n",
    "nombre_recovered    16072\n",
    "Name: 627, dtype: int64"
   ]
  },
  {
   "cell_type": "markdown",
   "id": "7a97f492",
   "metadata": {},
   "source": [
    "nombre_infected       959\n",
    "nombre_sain          2335\n",
    "nombre_exposed        597\n",
    "nombre_recovered    16109\n",
    "Name: 628, dtype: int64"
   ]
  },
  {
   "cell_type": "markdown",
   "id": "23a278bb",
   "metadata": {},
   "source": [
    "nombre_infected       979\n",
    "nombre_sain          2309\n",
    "nombre_exposed        591\n",
    "nombre_recovered    16121\n",
    "Name: 629, dtype: int64"
   ]
  },
  {
   "cell_type": "markdown",
   "id": "92a70611",
   "metadata": {},
   "source": [
    "nombre_infected       991\n",
    "nombre_sain          2281\n",
    "nombre_exposed        590\n",
    "nombre_recovered    16138\n",
    "Name: 630, dtype: int64"
   ]
  },
  {
   "cell_type": "markdown",
   "id": "7e45caaa",
   "metadata": {},
   "source": [
    "nombre_infected       996\n",
    "nombre_sain          2266\n",
    "nombre_exposed        582\n",
    "nombre_recovered    16156\n",
    "Name: 631, dtype: int64"
   ]
  },
  {
   "cell_type": "markdown",
   "id": "01a70bd2",
   "metadata": {},
   "source": [
    "nombre_infected      1007\n",
    "nombre_sain          2235\n",
    "nombre_exposed        559\n",
    "nombre_recovered    16199\n",
    "Name: 632, dtype: int64"
   ]
  },
  {
   "cell_type": "markdown",
   "id": "f6970ef6",
   "metadata": {},
   "source": [
    "nombre_infected      1007\n",
    "nombre_sain          2230\n",
    "nombre_exposed        556\n",
    "nombre_recovered    16207\n",
    "Name: 633, dtype: int64"
   ]
  },
  {
   "cell_type": "markdown",
   "id": "0f36e364",
   "metadata": {},
   "source": [
    "nombre_infected      1021\n",
    "nombre_sain          2207\n",
    "nombre_exposed        548\n",
    "nombre_recovered    16224\n",
    "Name: 634, dtype: int64"
   ]
  },
  {
   "cell_type": "markdown",
   "id": "1ea02b4d",
   "metadata": {},
   "source": [
    "nombre_infected      1011\n",
    "nombre_sain          2200\n",
    "nombre_exposed        537\n",
    "nombre_recovered    16252\n",
    "Name: 635, dtype: int64"
   ]
  },
  {
   "cell_type": "markdown",
   "id": "5fdcc77b",
   "metadata": {},
   "source": [
    "nombre_infected       976\n",
    "nombre_sain          2191\n",
    "nombre_exposed        549\n",
    "nombre_recovered    16284\n",
    "Name: 636, dtype: int64"
   ]
  },
  {
   "cell_type": "markdown",
   "id": "d6eea2b6",
   "metadata": {},
   "source": [
    "nombre_infected       949\n",
    "nombre_sain          2193\n",
    "nombre_exposed        547\n",
    "nombre_recovered    16311\n",
    "Name: 637, dtype: int64"
   ]
  },
  {
   "cell_type": "markdown",
   "id": "bd812680",
   "metadata": {},
   "source": [
    "nombre_infected       954\n",
    "nombre_sain          2188\n",
    "nombre_exposed        556\n",
    "nombre_recovered    16302\n",
    "Name: 638, dtype: int64"
   ]
  },
  {
   "cell_type": "markdown",
   "id": "3ee66f93",
   "metadata": {},
   "source": [
    "nombre_infected       934\n",
    "nombre_sain          2153\n",
    "nombre_exposed        571\n",
    "nombre_recovered    16342\n",
    "Name: 639, dtype: int64"
   ]
  },
  {
   "cell_type": "markdown",
   "id": "dcf3dd40",
   "metadata": {},
   "source": [
    "nombre_infected       940\n",
    "nombre_sain          2139\n",
    "nombre_exposed        551\n",
    "nombre_recovered    16370\n",
    "Name: 640, dtype: int64"
   ]
  },
  {
   "cell_type": "markdown",
   "id": "499f4d72",
   "metadata": {},
   "source": [
    "nombre_infected       956\n",
    "nombre_sain          2129\n",
    "nombre_exposed        530\n",
    "nombre_recovered    16385\n",
    "Name: 641, dtype: int64"
   ]
  },
  {
   "cell_type": "markdown",
   "id": "43125aaf",
   "metadata": {},
   "source": [
    "nombre_infected       952\n",
    "nombre_sain          2136\n",
    "nombre_exposed        515\n",
    "nombre_recovered    16397\n",
    "Name: 642, dtype: int64"
   ]
  },
  {
   "cell_type": "markdown",
   "id": "4f125177",
   "metadata": {},
   "source": [
    "nombre_infected       928\n",
    "nombre_sain          2115\n",
    "nombre_exposed        534\n",
    "nombre_recovered    16423\n",
    "Name: 643, dtype: int64"
   ]
  },
  {
   "cell_type": "markdown",
   "id": "f2addd32",
   "metadata": {},
   "source": [
    "nombre_infected       950\n",
    "nombre_sain          2092\n",
    "nombre_exposed        523\n",
    "nombre_recovered    16435\n",
    "Name: 644, dtype: int64"
   ]
  },
  {
   "cell_type": "markdown",
   "id": "0097b242",
   "metadata": {},
   "source": [
    "nombre_infected       927\n",
    "nombre_sain          2105\n",
    "nombre_exposed        535\n",
    "nombre_recovered    16433\n",
    "Name: 645, dtype: int64"
   ]
  },
  {
   "cell_type": "markdown",
   "id": "790adcf7",
   "metadata": {},
   "source": [
    "nombre_infected       923\n",
    "nombre_sain          2082\n",
    "nombre_exposed        542\n",
    "nombre_recovered    16453\n",
    "Name: 646, dtype: int64"
   ]
  },
  {
   "cell_type": "markdown",
   "id": "a8860ffc",
   "metadata": {},
   "source": [
    "nombre_infected       924\n",
    "nombre_sain          2086\n",
    "nombre_exposed        533\n",
    "nombre_recovered    16457\n",
    "Name: 647, dtype: int64"
   ]
  },
  {
   "cell_type": "markdown",
   "id": "f0ed4d21",
   "metadata": {},
   "source": [
    "nombre_infected       939\n",
    "nombre_sain          2110\n",
    "nombre_exposed        506\n",
    "nombre_recovered    16445\n",
    "Name: 648, dtype: int64"
   ]
  },
  {
   "cell_type": "markdown",
   "id": "4311bea9",
   "metadata": {},
   "source": [
    "nombre_infected       924\n",
    "nombre_sain          2108\n",
    "nombre_exposed        490\n",
    "nombre_recovered    16478\n",
    "Name: 649, dtype: int64"
   ]
  },
  {
   "cell_type": "markdown",
   "id": "74e1323e",
   "metadata": {},
   "source": [
    "nombre_infected       903\n",
    "nombre_sain          2117\n",
    "nombre_exposed        506\n",
    "nombre_recovered    16474\n",
    "Name: 650, dtype: int64"
   ]
  },
  {
   "cell_type": "markdown",
   "id": "91905e99",
   "metadata": {},
   "source": [
    "nombre_infected       887\n",
    "nombre_sain          2111\n",
    "nombre_exposed        528\n",
    "nombre_recovered    16474\n",
    "Name: 651, dtype: int64"
   ]
  },
  {
   "cell_type": "markdown",
   "id": "51bcf64d",
   "metadata": {},
   "source": [
    "nombre_infected       907\n",
    "nombre_sain          2115\n",
    "nombre_exposed        506\n",
    "nombre_recovered    16472\n",
    "Name: 652, dtype: int64"
   ]
  },
  {
   "cell_type": "markdown",
   "id": "f955c3ad",
   "metadata": {},
   "source": [
    "nombre_infected       903\n",
    "nombre_sain          2120\n",
    "nombre_exposed        513\n",
    "nombre_recovered    16464\n",
    "Name: 653, dtype: int64"
   ]
  },
  {
   "cell_type": "markdown",
   "id": "28a2b10c",
   "metadata": {},
   "source": [
    "nombre_infected       935\n",
    "nombre_sain          2135\n",
    "nombre_exposed        478\n",
    "nombre_recovered    16452\n",
    "Name: 654, dtype: int64"
   ]
  },
  {
   "cell_type": "markdown",
   "id": "e9efff42",
   "metadata": {},
   "source": [
    "nombre_infected       923\n",
    "nombre_sain          2159\n",
    "nombre_exposed        475\n",
    "nombre_recovered    16443\n",
    "Name: 655, dtype: int64"
   ]
  },
  {
   "cell_type": "markdown",
   "id": "a3f523e6",
   "metadata": {},
   "source": [
    "nombre_infected       918\n",
    "nombre_sain          2152\n",
    "nombre_exposed        480\n",
    "nombre_recovered    16450\n",
    "Name: 656, dtype: int64"
   ]
  },
  {
   "cell_type": "markdown",
   "id": "551e366d",
   "metadata": {},
   "source": [
    "nombre_infected       892\n",
    "nombre_sain          2158\n",
    "nombre_exposed        489\n",
    "nombre_recovered    16461\n",
    "Name: 657, dtype: int64"
   ]
  },
  {
   "cell_type": "markdown",
   "id": "fe8efdc5",
   "metadata": {},
   "source": [
    "nombre_infected       882\n",
    "nombre_sain          2150\n",
    "nombre_exposed        485\n",
    "nombre_recovered    16483\n",
    "Name: 658, dtype: int64"
   ]
  },
  {
   "cell_type": "markdown",
   "id": "eb083bc0",
   "metadata": {},
   "source": [
    "nombre_infected       875\n",
    "nombre_sain          2143\n",
    "nombre_exposed        489\n",
    "nombre_recovered    16493\n",
    "Name: 659, dtype: int64"
   ]
  },
  {
   "cell_type": "markdown",
   "id": "a97782a7",
   "metadata": {},
   "source": [
    "nombre_infected       872\n",
    "nombre_sain          2175\n",
    "nombre_exposed        479\n",
    "nombre_recovered    16474\n",
    "Name: 660, dtype: int64"
   ]
  },
  {
   "cell_type": "markdown",
   "id": "48f7c675",
   "metadata": {},
   "source": [
    "nombre_infected       851\n",
    "nombre_sain          2171\n",
    "nombre_exposed        484\n",
    "nombre_recovered    16494\n",
    "Name: 661, dtype: int64"
   ]
  },
  {
   "cell_type": "markdown",
   "id": "70fb3aae",
   "metadata": {},
   "source": [
    "nombre_infected       837\n",
    "nombre_sain          2177\n",
    "nombre_exposed        472\n",
    "nombre_recovered    16514\n",
    "Name: 662, dtype: int64"
   ]
  },
  {
   "cell_type": "markdown",
   "id": "fc20aebd",
   "metadata": {},
   "source": [
    "nombre_infected       847\n",
    "nombre_sain          2207\n",
    "nombre_exposed        446\n",
    "nombre_recovered    16500\n",
    "Name: 663, dtype: int64"
   ]
  },
  {
   "cell_type": "markdown",
   "id": "e448ed16",
   "metadata": {},
   "source": [
    "nombre_infected       832\n",
    "nombre_sain          2206\n",
    "nombre_exposed        465\n",
    "nombre_recovered    16497\n",
    "Name: 664, dtype: int64"
   ]
  },
  {
   "cell_type": "markdown",
   "id": "a73bdf99",
   "metadata": {},
   "source": [
    "nombre_infected       806\n",
    "nombre_sain          2217\n",
    "nombre_exposed        475\n",
    "nombre_recovered    16502\n",
    "Name: 665, dtype: int64"
   ]
  },
  {
   "cell_type": "markdown",
   "id": "d6f03281",
   "metadata": {},
   "source": [
    "nombre_infected       789\n",
    "nombre_sain          2240\n",
    "nombre_exposed        471\n",
    "nombre_recovered    16500\n",
    "Name: 666, dtype: int64"
   ]
  },
  {
   "cell_type": "markdown",
   "id": "5160edc6",
   "metadata": {},
   "source": [
    "nombre_infected       765\n",
    "nombre_sain          2250\n",
    "nombre_exposed        470\n",
    "nombre_recovered    16515\n",
    "Name: 667, dtype: int64"
   ]
  },
  {
   "cell_type": "markdown",
   "id": "27d60bf1",
   "metadata": {},
   "source": [
    "nombre_infected       760\n",
    "nombre_sain          2273\n",
    "nombre_exposed        478\n",
    "nombre_recovered    16489\n",
    "Name: 668, dtype: int64"
   ]
  },
  {
   "cell_type": "markdown",
   "id": "30a651b4",
   "metadata": {},
   "source": [
    "nombre_infected       779\n",
    "nombre_sain          2275\n",
    "nombre_exposed        452\n",
    "nombre_recovered    16494\n",
    "Name: 669, dtype: int64"
   ]
  },
  {
   "cell_type": "markdown",
   "id": "addeba7e",
   "metadata": {},
   "source": [
    "nombre_infected       801\n",
    "nombre_sain          2283\n",
    "nombre_exposed        450\n",
    "nombre_recovered    16466\n",
    "Name: 670, dtype: int64"
   ]
  },
  {
   "cell_type": "markdown",
   "id": "e3df3918",
   "metadata": {},
   "source": [
    "nombre_infected       805\n",
    "nombre_sain          2285\n",
    "nombre_exposed        448\n",
    "nombre_recovered    16462\n",
    "Name: 671, dtype: int64"
   ]
  },
  {
   "cell_type": "markdown",
   "id": "6fa4ee70",
   "metadata": {},
   "source": [
    "nombre_infected       796\n",
    "nombre_sain          2286\n",
    "nombre_exposed        464\n",
    "nombre_recovered    16454\n",
    "Name: 672, dtype: int64"
   ]
  },
  {
   "cell_type": "markdown",
   "id": "2540ef2f",
   "metadata": {},
   "source": [
    "nombre_infected       780\n",
    "nombre_sain          2299\n",
    "nombre_exposed        461\n",
    "nombre_recovered    16460\n",
    "Name: 673, dtype: int64"
   ]
  },
  {
   "cell_type": "markdown",
   "id": "e6d048dd",
   "metadata": {},
   "source": [
    "nombre_infected       810\n",
    "nombre_sain          2319\n",
    "nombre_exposed        443\n",
    "nombre_recovered    16428\n",
    "Name: 674, dtype: int64"
   ]
  },
  {
   "cell_type": "markdown",
   "id": "c0020cff",
   "metadata": {},
   "source": [
    "nombre_infected       805\n",
    "nombre_sain          2343\n",
    "nombre_exposed        448\n",
    "nombre_recovered    16404\n",
    "Name: 675, dtype: int64"
   ]
  },
  {
   "cell_type": "markdown",
   "id": "49b6a14e",
   "metadata": {},
   "source": [
    "nombre_infected       809\n",
    "nombre_sain          2367\n",
    "nombre_exposed        451\n",
    "nombre_recovered    16373\n",
    "Name: 676, dtype: int64"
   ]
  },
  {
   "cell_type": "markdown",
   "id": "248681e3",
   "metadata": {},
   "source": [
    "nombre_infected       806\n",
    "nombre_sain          2347\n",
    "nombre_exposed        478\n",
    "nombre_recovered    16369\n",
    "Name: 677, dtype: int64"
   ]
  },
  {
   "cell_type": "markdown",
   "id": "f2d97ad6",
   "metadata": {},
   "source": [
    "nombre_infected       785\n",
    "nombre_sain          2330\n",
    "nombre_exposed        518\n",
    "nombre_recovered    16367\n",
    "Name: 678, dtype: int64"
   ]
  },
  {
   "cell_type": "markdown",
   "id": "9c72d0e6",
   "metadata": {},
   "source": [
    "nombre_infected       799\n",
    "nombre_sain          2305\n",
    "nombre_exposed        531\n",
    "nombre_recovered    16365\n",
    "Name: 679, dtype: int64"
   ]
  },
  {
   "cell_type": "markdown",
   "id": "fc5dd800",
   "metadata": {},
   "source": [
    "nombre_infected       824\n",
    "nombre_sain          2309\n",
    "nombre_exposed        513\n",
    "nombre_recovered    16354\n",
    "Name: 680, dtype: int64"
   ]
  },
  {
   "cell_type": "markdown",
   "id": "aed31762",
   "metadata": {},
   "source": [
    "nombre_infected       834\n",
    "nombre_sain          2301\n",
    "nombre_exposed        502\n",
    "nombre_recovered    16363\n",
    "Name: 681, dtype: int64"
   ]
  },
  {
   "cell_type": "markdown",
   "id": "db104418",
   "metadata": {},
   "source": [
    "nombre_infected       842\n",
    "nombre_sain          2284\n",
    "nombre_exposed        512\n",
    "nombre_recovered    16362\n",
    "Name: 682, dtype: int64"
   ]
  },
  {
   "cell_type": "markdown",
   "id": "c402417a",
   "metadata": {},
   "source": [
    "nombre_infected       865\n",
    "nombre_sain          2264\n",
    "nombre_exposed        515\n",
    "nombre_recovered    16356\n",
    "Name: 683, dtype: int64"
   ]
  },
  {
   "cell_type": "markdown",
   "id": "2df36f47",
   "metadata": {},
   "source": [
    "nombre_infected       889\n",
    "nombre_sain          2246\n",
    "nombre_exposed        500\n",
    "nombre_recovered    16365\n",
    "Name: 684, dtype: int64"
   ]
  },
  {
   "cell_type": "markdown",
   "id": "87add1c3",
   "metadata": {},
   "source": [
    "nombre_infected       900\n",
    "nombre_sain          2205\n",
    "nombre_exposed        523\n",
    "nombre_recovered    16372\n",
    "Name: 685, dtype: int64"
   ]
  },
  {
   "cell_type": "markdown",
   "id": "b63cb7e4",
   "metadata": {},
   "source": [
    "nombre_infected       902\n",
    "nombre_sain          2189\n",
    "nombre_exposed        517\n",
    "nombre_recovered    16392\n",
    "Name: 686, dtype: int64"
   ]
  },
  {
   "cell_type": "markdown",
   "id": "2b2eee8e",
   "metadata": {},
   "source": [
    "nombre_infected       912\n",
    "nombre_sain          2175\n",
    "nombre_exposed        521\n",
    "nombre_recovered    16392\n",
    "Name: 687, dtype: int64"
   ]
  },
  {
   "cell_type": "markdown",
   "id": "0366dc66",
   "metadata": {},
   "source": [
    "nombre_infected       911\n",
    "nombre_sain          2161\n",
    "nombre_exposed        525\n",
    "nombre_recovered    16403\n",
    "Name: 688, dtype: int64"
   ]
  },
  {
   "cell_type": "markdown",
   "id": "65a0ccff",
   "metadata": {},
   "source": [
    "nombre_infected       915\n",
    "nombre_sain          2149\n",
    "nombre_exposed        509\n",
    "nombre_recovered    16427\n",
    "Name: 689, dtype: int64"
   ]
  },
  {
   "cell_type": "markdown",
   "id": "caf7d3df",
   "metadata": {},
   "source": [
    "nombre_infected       909\n",
    "nombre_sain          2141\n",
    "nombre_exposed        514\n",
    "nombre_recovered    16436\n",
    "Name: 690, dtype: int64"
   ]
  },
  {
   "cell_type": "markdown",
   "id": "503819b5",
   "metadata": {},
   "source": [
    "nombre_infected       915\n",
    "nombre_sain          2154\n",
    "nombre_exposed        520\n",
    "nombre_recovered    16411\n",
    "Name: 691, dtype: int64"
   ]
  },
  {
   "cell_type": "markdown",
   "id": "941779c2",
   "metadata": {},
   "source": [
    "nombre_infected       882\n",
    "nombre_sain          2144\n",
    "nombre_exposed        544\n",
    "nombre_recovered    16430\n",
    "Name: 692, dtype: int64"
   ]
  },
  {
   "cell_type": "markdown",
   "id": "b3da459e",
   "metadata": {},
   "source": [
    "nombre_infected       888\n",
    "nombre_sain          2099\n",
    "nombre_exposed        546\n",
    "nombre_recovered    16467\n",
    "Name: 693, dtype: int64"
   ]
  },
  {
   "cell_type": "markdown",
   "id": "6391b51c",
   "metadata": {},
   "source": [
    "nombre_infected       898\n",
    "nombre_sain          2093\n",
    "nombre_exposed        537\n",
    "nombre_recovered    16472\n",
    "Name: 694, dtype: int64"
   ]
  },
  {
   "cell_type": "markdown",
   "id": "5a3394e1",
   "metadata": {},
   "source": [
    "nombre_infected       936\n",
    "nombre_sain          2110\n",
    "nombre_exposed        510\n",
    "nombre_recovered    16444\n",
    "Name: 695, dtype: int64"
   ]
  },
  {
   "cell_type": "markdown",
   "id": "58f5ab59",
   "metadata": {},
   "source": [
    "nombre_infected       932\n",
    "nombre_sain          2128\n",
    "nombre_exposed        518\n",
    "nombre_recovered    16422\n",
    "Name: 696, dtype: int64"
   ]
  },
  {
   "cell_type": "markdown",
   "id": "a94ca23c",
   "metadata": {},
   "source": [
    "nombre_infected       935\n",
    "nombre_sain          2136\n",
    "nombre_exposed        507\n",
    "nombre_recovered    16422\n",
    "Name: 697, dtype: int64"
   ]
  },
  {
   "cell_type": "markdown",
   "id": "8c7cd767",
   "metadata": {},
   "source": [
    "nombre_infected       911\n",
    "nombre_sain          2164\n",
    "nombre_exposed        504\n",
    "nombre_recovered    16421\n",
    "Name: 698, dtype: int64"
   ]
  },
  {
   "cell_type": "markdown",
   "id": "3e8b6460",
   "metadata": {},
   "source": [
    "nombre_infected       894\n",
    "nombre_sain          2162\n",
    "nombre_exposed        501\n",
    "nombre_recovered    16443\n",
    "Name: 699, dtype: int64"
   ]
  },
  {
   "cell_type": "markdown",
   "id": "88f4def8",
   "metadata": {},
   "source": [
    "nombre_infected       891\n",
    "nombre_sain          2175\n",
    "nombre_exposed        497\n",
    "nombre_recovered    16437\n",
    "Name: 700, dtype: int64"
   ]
  },
  {
   "cell_type": "markdown",
   "id": "5c273ef2",
   "metadata": {},
   "source": [
    "nombre_infected       889\n",
    "nombre_sain          2198\n",
    "nombre_exposed        475\n",
    "nombre_recovered    16438\n",
    "Name: 701, dtype: int64"
   ]
  },
  {
   "cell_type": "markdown",
   "id": "62b91c20",
   "metadata": {},
   "source": [
    "nombre_infected       880\n",
    "nombre_sain          2202\n",
    "nombre_exposed        489\n",
    "nombre_recovered    16429\n",
    "Name: 702, dtype: int64"
   ]
  },
  {
   "cell_type": "markdown",
   "id": "4fb3bc15",
   "metadata": {},
   "source": [
    "nombre_infected       864\n",
    "nombre_sain          2182\n",
    "nombre_exposed        514\n",
    "nombre_recovered    16440\n",
    "Name: 703, dtype: int64"
   ]
  },
  {
   "cell_type": "markdown",
   "id": "6c11a5e3",
   "metadata": {},
   "source": [
    "nombre_infected       853\n",
    "nombre_sain          2192\n",
    "nombre_exposed        521\n",
    "nombre_recovered    16434\n",
    "Name: 704, dtype: int64"
   ]
  },
  {
   "cell_type": "markdown",
   "id": "c785afec",
   "metadata": {},
   "source": [
    "nombre_infected       851\n",
    "nombre_sain          2208\n",
    "nombre_exposed        518\n",
    "nombre_recovered    16423\n",
    "Name: 705, dtype: int64"
   ]
  },
  {
   "cell_type": "markdown",
   "id": "4c7740f5",
   "metadata": {},
   "source": [
    "nombre_infected       852\n",
    "nombre_sain          2237\n",
    "nombre_exposed        527\n",
    "nombre_recovered    16384\n",
    "Name: 706, dtype: int64"
   ]
  },
  {
   "cell_type": "markdown",
   "id": "021df849",
   "metadata": {},
   "source": [
    "nombre_infected       841\n",
    "nombre_sain          2235\n",
    "nombre_exposed        532\n",
    "nombre_recovered    16392\n",
    "Name: 707, dtype: int64"
   ]
  },
  {
   "cell_type": "markdown",
   "id": "d054e214",
   "metadata": {},
   "source": [
    "nombre_infected       855\n",
    "nombre_sain          2235\n",
    "nombre_exposed        528\n",
    "nombre_recovered    16382\n",
    "Name: 708, dtype: int64"
   ]
  },
  {
   "cell_type": "markdown",
   "id": "f8cc03d2",
   "metadata": {},
   "source": [
    "nombre_infected       868\n",
    "nombre_sain          2258\n",
    "nombre_exposed        504\n",
    "nombre_recovered    16370\n",
    "Name: 709, dtype: int64"
   ]
  },
  {
   "cell_type": "markdown",
   "id": "3b56ea30",
   "metadata": {},
   "source": [
    "nombre_infected       863\n",
    "nombre_sain          2259\n",
    "nombre_exposed        508\n",
    "nombre_recovered    16370\n",
    "Name: 710, dtype: int64"
   ]
  },
  {
   "cell_type": "markdown",
   "id": "246fd7f3",
   "metadata": {},
   "source": [
    "nombre_infected       868\n",
    "nombre_sain          2266\n",
    "nombre_exposed        514\n",
    "nombre_recovered    16352\n",
    "Name: 711, dtype: int64"
   ]
  },
  {
   "cell_type": "markdown",
   "id": "7f77737f",
   "metadata": {},
   "source": [
    "nombre_infected       866\n",
    "nombre_sain          2256\n",
    "nombre_exposed        523\n",
    "nombre_recovered    16355\n",
    "Name: 712, dtype: int64"
   ]
  },
  {
   "cell_type": "markdown",
   "id": "8f9e90a6",
   "metadata": {},
   "source": [
    "nombre_infected       862\n",
    "nombre_sain          2216\n",
    "nombre_exposed        547\n",
    "nombre_recovered    16375\n",
    "Name: 713, dtype: int64"
   ]
  },
  {
   "cell_type": "markdown",
   "id": "7b392d64",
   "metadata": {},
   "source": [
    "nombre_infected       849\n",
    "nombre_sain          2199\n",
    "nombre_exposed        574\n",
    "nombre_recovered    16378\n",
    "Name: 714, dtype: int64"
   ]
  },
  {
   "cell_type": "markdown",
   "id": "27567062",
   "metadata": {},
   "source": [
    "nombre_infected       868\n",
    "nombre_sain          2198\n",
    "nombre_exposed        556\n",
    "nombre_recovered    16378\n",
    "Name: 715, dtype: int64"
   ]
  },
  {
   "cell_type": "markdown",
   "id": "56c242c9",
   "metadata": {},
   "source": [
    "nombre_infected       897\n",
    "nombre_sain          2164\n",
    "nombre_exposed        565\n",
    "nombre_recovered    16374\n",
    "Name: 716, dtype: int64"
   ]
  },
  {
   "cell_type": "markdown",
   "id": "0a2d606e",
   "metadata": {},
   "source": [
    "nombre_infected       923\n",
    "nombre_sain          2151\n",
    "nombre_exposed        555\n",
    "nombre_recovered    16371\n",
    "Name: 717, dtype: int64"
   ]
  },
  {
   "cell_type": "markdown",
   "id": "c9c94f45",
   "metadata": {},
   "source": [
    "nombre_infected       953\n",
    "nombre_sain          2158\n",
    "nombre_exposed        512\n",
    "nombre_recovered    16377\n",
    "Name: 718, dtype: int64"
   ]
  },
  {
   "cell_type": "markdown",
   "id": "7915b353",
   "metadata": {},
   "source": [
    "nombre_infected       955\n",
    "nombre_sain          2116\n",
    "nombre_exposed        524\n",
    "nombre_recovered    16405\n",
    "Name: 719, dtype: int64"
   ]
  },
  {
   "cell_type": "markdown",
   "id": "0cfc88a1",
   "metadata": {},
   "source": [
    "nombre_infected       951\n",
    "nombre_sain          2101\n",
    "nombre_exposed        518\n",
    "nombre_recovered    16430\n",
    "Name: 720, dtype: int64"
   ]
  },
  {
   "cell_type": "markdown",
   "id": "15508d93",
   "metadata": {},
   "source": [
    "nombre_infected       942\n",
    "nombre_sain          2081\n",
    "nombre_exposed        532\n",
    "nombre_recovered    16445\n",
    "Name: 721, dtype: int64"
   ]
  },
  {
   "cell_type": "markdown",
   "id": "da7bdd29",
   "metadata": {},
   "source": [
    "nombre_infected       909\n",
    "nombre_sain          2084\n",
    "nombre_exposed        521\n",
    "nombre_recovered    16486\n",
    "Name: 722, dtype: int64"
   ]
  },
  {
   "cell_type": "markdown",
   "id": "83b7a187",
   "metadata": {},
   "source": [
    "nombre_infected       907\n",
    "nombre_sain          2070\n",
    "nombre_exposed        504\n",
    "nombre_recovered    16519\n",
    "Name: 723, dtype: int64"
   ]
  },
  {
   "cell_type": "markdown",
   "id": "a2fdfee4",
   "metadata": {},
   "source": [
    "nombre_infected       895\n",
    "nombre_sain          2066\n",
    "nombre_exposed        514\n",
    "nombre_recovered    16525\n",
    "Name: 724, dtype: int64"
   ]
  },
  {
   "cell_type": "markdown",
   "id": "89557f00",
   "metadata": {},
   "source": [
    "nombre_infected       873\n",
    "nombre_sain          2069\n",
    "nombre_exposed        527\n",
    "nombre_recovered    16531\n",
    "Name: 725, dtype: int64"
   ]
  },
  {
   "cell_type": "markdown",
   "id": "7995b6e3",
   "metadata": {},
   "source": [
    "nombre_infected       852\n",
    "nombre_sain          2054\n",
    "nombre_exposed        532\n",
    "nombre_recovered    16562\n",
    "Name: 726, dtype: int64"
   ]
  },
  {
   "cell_type": "markdown",
   "id": "79538d3f",
   "metadata": {},
   "source": [
    "nombre_infected       855\n",
    "nombre_sain          2056\n",
    "nombre_exposed        513\n",
    "nombre_recovered    16576\n",
    "Name: 727, dtype: int64"
   ]
  },
  {
   "cell_type": "markdown",
   "id": "b517b7fc",
   "metadata": {},
   "source": [
    "nombre_infected       856\n",
    "nombre_sain          2076\n",
    "nombre_exposed        495\n",
    "nombre_recovered    16573\n",
    "Name: 728, dtype: int64"
   ]
  },
  {
   "cell_type": "markdown",
   "id": "24936f63",
   "metadata": {},
   "source": [
    "nombre_infected       888\n",
    "nombre_sain          2084\n",
    "nombre_exposed        478\n",
    "nombre_recovered    16550\n",
    "Name: 729, dtype: int64"
   ]
  },
  {
   "cell_type": "markdown",
   "id": "34157672",
   "metadata": {},
   "source": [
    "nombre_infected       871\n",
    "nombre_sain          2108\n",
    "nombre_exposed        473\n",
    "nombre_recovered    16548\n",
    "Name: 730, dtype: int64"
   ]
  }
 ],
 "metadata": {},
 "nbformat": 4,
 "nbformat_minor": 5
}
