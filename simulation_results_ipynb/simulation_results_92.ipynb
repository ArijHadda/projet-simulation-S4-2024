{
 "cells": [
  {
   "cell_type": "markdown",
   "id": "4210a13a",
   "metadata": {},
   "source": [
    "nombre_infected        20\n",
    "nombre_sain         19980\n",
    "nombre_exposed          0\n",
    "nombre_recovered        0\n",
    "Name: 0, dtype: int64"
   ]
  },
  {
   "cell_type": "markdown",
   "id": "dd0009a9",
   "metadata": {},
   "source": [
    "nombre_infected        20\n",
    "nombre_sain         19969\n",
    "nombre_exposed         11\n",
    "nombre_recovered        0\n",
    "Name: 1, dtype: int64"
   ]
  },
  {
   "cell_type": "markdown",
   "id": "ee0e3f8b",
   "metadata": {},
   "source": [
    "nombre_infected        20\n",
    "nombre_sain         19949\n",
    "nombre_exposed         31\n",
    "nombre_recovered        0\n",
    "Name: 2, dtype: int64"
   ]
  },
  {
   "cell_type": "markdown",
   "id": "c42fff89",
   "metadata": {},
   "source": [
    "nombre_infected         4\n",
    "nombre_sain         19929\n",
    "nombre_exposed         47\n",
    "nombre_recovered       20\n",
    "Name: 3, dtype: int64"
   ]
  },
  {
   "cell_type": "markdown",
   "id": "6cc0771a",
   "metadata": {},
   "source": [
    "nombre_infected        10\n",
    "nombre_sain         19925\n",
    "nombre_exposed         45\n",
    "nombre_recovered       20\n",
    "Name: 4, dtype: int64"
   ]
  },
  {
   "cell_type": "markdown",
   "id": "dbd1494d",
   "metadata": {},
   "source": [
    "nombre_infected        25\n",
    "nombre_sain         19901\n",
    "nombre_exposed         54\n",
    "nombre_recovered       20\n",
    "Name: 5, dtype: int64"
   ]
  },
  {
   "cell_type": "markdown",
   "id": "ba2cfc91",
   "metadata": {},
   "source": [
    "nombre_infected        34\n",
    "nombre_sain         19869\n",
    "nombre_exposed         77\n",
    "nombre_recovered       20\n",
    "Name: 6, dtype: int64"
   ]
  },
  {
   "cell_type": "markdown",
   "id": "4486ce00",
   "metadata": {},
   "source": [
    "nombre_infected        44\n",
    "nombre_sain         19823\n",
    "nombre_exposed        109\n",
    "nombre_recovered       24\n",
    "Name: 7, dtype: int64"
   ]
  },
  {
   "cell_type": "markdown",
   "id": "92a09bab",
   "metadata": {},
   "source": [
    "nombre_infected        61\n",
    "nombre_sain         19763\n",
    "nombre_exposed        149\n",
    "nombre_recovered       27\n",
    "Name: 8, dtype: int64"
   ]
  },
  {
   "cell_type": "markdown",
   "id": "4228ceeb",
   "metadata": {},
   "source": [
    "nombre_infected        81\n",
    "nombre_sain         19652\n",
    "nombre_exposed        235\n",
    "nombre_recovered       32\n",
    "Name: 9, dtype: int64"
   ]
  },
  {
   "cell_type": "markdown",
   "id": "46ca08d9",
   "metadata": {},
   "source": [
    "nombre_infected       111\n",
    "nombre_sain         19531\n",
    "nombre_exposed        317\n",
    "nombre_recovered       41\n",
    "Name: 10, dtype: int64"
   ]
  },
  {
   "cell_type": "markdown",
   "id": "de8c999f",
   "metadata": {},
   "source": [
    "nombre_infected       163\n",
    "nombre_sain         19339\n",
    "nombre_exposed        449\n",
    "nombre_recovered       49\n",
    "Name: 11, dtype: int64"
   ]
  },
  {
   "cell_type": "markdown",
   "id": "b7fe5c47",
   "metadata": {},
   "source": [
    "nombre_infected       211\n",
    "nombre_sain         19127\n",
    "nombre_exposed        602\n",
    "nombre_recovered       60\n",
    "Name: 12, dtype: int64"
   ]
  },
  {
   "cell_type": "markdown",
   "id": "380a2814",
   "metadata": {},
   "source": [
    "nombre_infected       317\n",
    "nombre_sain         18842\n",
    "nombre_exposed        763\n",
    "nombre_recovered       78\n",
    "Name: 13, dtype: int64"
   ]
  },
  {
   "cell_type": "markdown",
   "id": "6acc69be",
   "metadata": {},
   "source": [
    "nombre_infected       416\n",
    "nombre_sain         18444\n",
    "nombre_exposed       1033\n",
    "nombre_recovered      107\n",
    "Name: 14, dtype: int64"
   ]
  },
  {
   "cell_type": "markdown",
   "id": "c1741aed",
   "metadata": {},
   "source": [
    "nombre_infected       567\n",
    "nombre_sain         17935\n",
    "nombre_exposed       1353\n",
    "nombre_recovered      145\n",
    "Name: 15, dtype: int64"
   ]
  },
  {
   "cell_type": "markdown",
   "id": "5f26e6ee",
   "metadata": {},
   "source": [
    "nombre_infected       748\n",
    "nombre_sain         17262\n",
    "nombre_exposed       1805\n",
    "nombre_recovered      185\n",
    "Name: 16, dtype: int64"
   ]
  },
  {
   "cell_type": "markdown",
   "id": "3820e5bd",
   "metadata": {},
   "source": [
    "nombre_infected       990\n",
    "nombre_sain         16427\n",
    "nombre_exposed       2320\n",
    "nombre_recovered      263\n",
    "Name: 17, dtype: int64"
   ]
  },
  {
   "cell_type": "markdown",
   "id": "aa736ea9",
   "metadata": {},
   "source": [
    "nombre_infected      1366\n",
    "nombre_sain         15362\n",
    "nombre_exposed       2929\n",
    "nombre_recovered      343\n",
    "Name: 18, dtype: int64"
   ]
  },
  {
   "cell_type": "markdown",
   "id": "4fa73a2d",
   "metadata": {},
   "source": [
    "nombre_infected      1788\n",
    "nombre_sain         13953\n",
    "nombre_exposed       3784\n",
    "nombre_recovered      475\n",
    "Name: 19, dtype: int64"
   ]
  },
  {
   "cell_type": "markdown",
   "id": "1d4c98e2",
   "metadata": {},
   "source": [
    "nombre_infected      2295\n",
    "nombre_sain         12436\n",
    "nombre_exposed       4603\n",
    "nombre_recovered      666\n",
    "Name: 20, dtype: int64"
   ]
  },
  {
   "cell_type": "markdown",
   "id": "ae2508d8",
   "metadata": {},
   "source": [
    "nombre_infected      2951\n",
    "nombre_sain         10725\n",
    "nombre_exposed       5424\n",
    "nombre_recovered      900\n",
    "Name: 21, dtype: int64"
   ]
  },
  {
   "cell_type": "markdown",
   "id": "15700c21",
   "metadata": {},
   "source": [
    "nombre_infected     3765\n",
    "nombre_sain         8978\n",
    "nombre_exposed      6068\n",
    "nombre_recovered    1189\n",
    "Name: 22, dtype: int64"
   ]
  },
  {
   "cell_type": "markdown",
   "id": "415b3440",
   "metadata": {},
   "source": [
    "nombre_infected     4679\n",
    "nombre_sain         7204\n",
    "nombre_exposed      6568\n",
    "nombre_recovered    1549\n",
    "Name: 23, dtype: int64"
   ]
  },
  {
   "cell_type": "markdown",
   "id": "85568c17",
   "metadata": {},
   "source": [
    "nombre_infected     5621\n",
    "nombre_sain         5523\n",
    "nombre_exposed      6852\n",
    "nombre_recovered    2004\n",
    "Name: 24, dtype: int64"
   ]
  },
  {
   "cell_type": "markdown",
   "id": "a3b167b0",
   "metadata": {},
   "source": [
    "nombre_infected     6478\n",
    "nombre_sain         4158\n",
    "nombre_exposed      6731\n",
    "nombre_recovered    2633\n",
    "Name: 25, dtype: int64"
   ]
  },
  {
   "cell_type": "markdown",
   "id": "4b6a0061",
   "metadata": {},
   "source": [
    "nombre_infected     7355\n",
    "nombre_sain         2993\n",
    "nombre_exposed      6347\n",
    "nombre_recovered    3305\n",
    "Name: 26, dtype: int64"
   ]
  },
  {
   "cell_type": "markdown",
   "id": "4eddf392",
   "metadata": {},
   "source": [
    "nombre_infected     8068\n",
    "nombre_sain         2092\n",
    "nombre_exposed      5748\n",
    "nombre_recovered    4092\n",
    "Name: 27, dtype: int64"
   ]
  },
  {
   "cell_type": "markdown",
   "id": "97cf80af",
   "metadata": {},
   "source": [
    "nombre_infected     8602\n",
    "nombre_sain         1464\n",
    "nombre_exposed      4939\n",
    "nombre_recovered    4995\n",
    "Name: 28, dtype: int64"
   ]
  },
  {
   "cell_type": "markdown",
   "id": "e9c9d00f",
   "metadata": {},
   "source": [
    "nombre_infected     8928\n",
    "nombre_sain          956\n",
    "nombre_exposed      4167\n",
    "nombre_recovered    5949\n",
    "Name: 29, dtype: int64"
   ]
  },
  {
   "cell_type": "markdown",
   "id": "5f916cde",
   "metadata": {},
   "source": [
    "nombre_infected     8910\n",
    "nombre_sain          684\n",
    "nombre_exposed      3387\n",
    "nombre_recovered    7019\n",
    "Name: 30, dtype: int64"
   ]
  },
  {
   "cell_type": "markdown",
   "id": "48a25315",
   "metadata": {},
   "source": [
    "nombre_infected     8852\n",
    "nombre_sain          463\n",
    "nombre_exposed      2692\n",
    "nombre_recovered    7993\n",
    "Name: 31, dtype: int64"
   ]
  },
  {
   "cell_type": "markdown",
   "id": "8317b9a9",
   "metadata": {},
   "source": [
    "nombre_infected     8533\n",
    "nombre_sain          334\n",
    "nombre_exposed      2120\n",
    "nombre_recovered    9013\n",
    "Name: 32, dtype: int64"
   ]
  },
  {
   "cell_type": "markdown",
   "id": "d6d162c3",
   "metadata": {},
   "source": [
    "nombre_infected     8093\n",
    "nombre_sain          244\n",
    "nombre_exposed      1670\n",
    "nombre_recovered    9993\n",
    "Name: 33, dtype: int64"
   ]
  },
  {
   "cell_type": "markdown",
   "id": "fbc1c84a",
   "metadata": {},
   "source": [
    "nombre_infected      7610\n",
    "nombre_sain           230\n",
    "nombre_exposed       1272\n",
    "nombre_recovered    10888\n",
    "Name: 34, dtype: int64"
   ]
  },
  {
   "cell_type": "markdown",
   "id": "d543df04",
   "metadata": {},
   "source": [
    "nombre_infected      7073\n",
    "nombre_sain           195\n",
    "nombre_exposed        973\n",
    "nombre_recovered    11759\n",
    "Name: 35, dtype: int64"
   ]
  },
  {
   "cell_type": "markdown",
   "id": "c26827e6",
   "metadata": {},
   "source": [
    "nombre_infected      6491\n",
    "nombre_sain           183\n",
    "nombre_exposed        766\n",
    "nombre_recovered    12560\n",
    "Name: 36, dtype: int64"
   ]
  },
  {
   "cell_type": "markdown",
   "id": "53a3fe2e",
   "metadata": {},
   "source": [
    "nombre_infected      5866\n",
    "nombre_sain           191\n",
    "nombre_exposed        625\n",
    "nombre_recovered    13318\n",
    "Name: 37, dtype: int64"
   ]
  },
  {
   "cell_type": "markdown",
   "id": "7cc1ad87",
   "metadata": {},
   "source": [
    "nombre_infected      5279\n",
    "nombre_sain           184\n",
    "nombre_exposed        547\n",
    "nombre_recovered    13990\n",
    "Name: 38, dtype: int64"
   ]
  },
  {
   "cell_type": "markdown",
   "id": "836a856b",
   "metadata": {},
   "source": [
    "nombre_infected      4808\n",
    "nombre_sain           181\n",
    "nombre_exposed        466\n",
    "nombre_recovered    14545\n",
    "Name: 39, dtype: int64"
   ]
  },
  {
   "cell_type": "markdown",
   "id": "afa8c474",
   "metadata": {},
   "source": [
    "nombre_infected      4329\n",
    "nombre_sain           202\n",
    "nombre_exposed        407\n",
    "nombre_recovered    15062\n",
    "Name: 40, dtype: int64"
   ]
  },
  {
   "cell_type": "markdown",
   "id": "9e8297c9",
   "metadata": {},
   "source": [
    "nombre_infected      3876\n",
    "nombre_sain           221\n",
    "nombre_exposed        354\n",
    "nombre_recovered    15549\n",
    "Name: 41, dtype: int64"
   ]
  },
  {
   "cell_type": "markdown",
   "id": "5387cba1",
   "metadata": {},
   "source": [
    "nombre_infected      3476\n",
    "nombre_sain           245\n",
    "nombre_exposed        310\n",
    "nombre_recovered    15969\n",
    "Name: 42, dtype: int64"
   ]
  },
  {
   "cell_type": "markdown",
   "id": "95383f59",
   "metadata": {},
   "source": [
    "nombre_infected      3104\n",
    "nombre_sain           264\n",
    "nombre_exposed        275\n",
    "nombre_recovered    16357\n",
    "Name: 43, dtype: int64"
   ]
  },
  {
   "cell_type": "markdown",
   "id": "b086c59d",
   "metadata": {},
   "source": [
    "nombre_infected      2747\n",
    "nombre_sain           276\n",
    "nombre_exposed        260\n",
    "nombre_recovered    16717\n",
    "Name: 44, dtype: int64"
   ]
  },
  {
   "cell_type": "markdown",
   "id": "86f66de1",
   "metadata": {},
   "source": [
    "nombre_infected      2462\n",
    "nombre_sain           299\n",
    "nombre_exposed        240\n",
    "nombre_recovered    16999\n",
    "Name: 45, dtype: int64"
   ]
  },
  {
   "cell_type": "markdown",
   "id": "b98cbd52",
   "metadata": {},
   "source": [
    "nombre_infected      2167\n",
    "nombre_sain           364\n",
    "nombre_exposed        213\n",
    "nombre_recovered    17256\n",
    "Name: 46, dtype: int64"
   ]
  },
  {
   "cell_type": "markdown",
   "id": "a55670a9",
   "metadata": {},
   "source": [
    "nombre_infected      1965\n",
    "nombre_sain           399\n",
    "nombre_exposed        209\n",
    "nombre_recovered    17427\n",
    "Name: 47, dtype: int64"
   ]
  },
  {
   "cell_type": "markdown",
   "id": "6bfad661",
   "metadata": {},
   "source": [
    "nombre_infected      1761\n",
    "nombre_sain           426\n",
    "nombre_exposed        194\n",
    "nombre_recovered    17619\n",
    "Name: 48, dtype: int64"
   ]
  },
  {
   "cell_type": "markdown",
   "id": "9b2c6804",
   "metadata": {},
   "source": [
    "nombre_infected      1589\n",
    "nombre_sain           451\n",
    "nombre_exposed        192\n",
    "nombre_recovered    17768\n",
    "Name: 49, dtype: int64"
   ]
  },
  {
   "cell_type": "markdown",
   "id": "49e108d9",
   "metadata": {},
   "source": [
    "nombre_infected      1415\n",
    "nombre_sain           518\n",
    "nombre_exposed        176\n",
    "nombre_recovered    17891\n",
    "Name: 50, dtype: int64"
   ]
  },
  {
   "cell_type": "markdown",
   "id": "d2241de7",
   "metadata": {},
   "source": [
    "nombre_infected      1261\n",
    "nombre_sain           556\n",
    "nombre_exposed        179\n",
    "nombre_recovered    18004\n",
    "Name: 51, dtype: int64"
   ]
  },
  {
   "cell_type": "markdown",
   "id": "66af1eb2",
   "metadata": {},
   "source": [
    "nombre_infected      1128\n",
    "nombre_sain           596\n",
    "nombre_exposed        171\n",
    "nombre_recovered    18105\n",
    "Name: 52, dtype: int64"
   ]
  },
  {
   "cell_type": "markdown",
   "id": "2002aae8",
   "metadata": {},
   "source": [
    "nombre_infected      1009\n",
    "nombre_sain           642\n",
    "nombre_exposed        171\n",
    "nombre_recovered    18178\n",
    "Name: 53, dtype: int64"
   ]
  },
  {
   "cell_type": "markdown",
   "id": "69837337",
   "metadata": {},
   "source": [
    "nombre_infected       906\n",
    "nombre_sain           699\n",
    "nombre_exposed        160\n",
    "nombre_recovered    18235\n",
    "Name: 54, dtype: int64"
   ]
  },
  {
   "cell_type": "markdown",
   "id": "335b7f43",
   "metadata": {},
   "source": [
    "nombre_infected       823\n",
    "nombre_sain           735\n",
    "nombre_exposed        160\n",
    "nombre_recovered    18282\n",
    "Name: 55, dtype: int64"
   ]
  },
  {
   "cell_type": "markdown",
   "id": "02408bff",
   "metadata": {},
   "source": [
    "nombre_infected       731\n",
    "nombre_sain           788\n",
    "nombre_exposed        150\n",
    "nombre_recovered    18331\n",
    "Name: 56, dtype: int64"
   ]
  },
  {
   "cell_type": "markdown",
   "id": "87e06d9e",
   "metadata": {},
   "source": [
    "nombre_infected       658\n",
    "nombre_sain           845\n",
    "nombre_exposed        137\n",
    "nombre_recovered    18360\n",
    "Name: 57, dtype: int64"
   ]
  },
  {
   "cell_type": "markdown",
   "id": "67ffff96",
   "metadata": {},
   "source": [
    "nombre_infected       601\n",
    "nombre_sain           897\n",
    "nombre_exposed        147\n",
    "nombre_recovered    18355\n",
    "Name: 58, dtype: int64"
   ]
  },
  {
   "cell_type": "markdown",
   "id": "772ef971",
   "metadata": {},
   "source": [
    "nombre_infected       555\n",
    "nombre_sain           945\n",
    "nombre_exposed        136\n",
    "nombre_recovered    18364\n",
    "Name: 59, dtype: int64"
   ]
  },
  {
   "cell_type": "markdown",
   "id": "d971e0ba",
   "metadata": {},
   "source": [
    "nombre_infected       510\n",
    "nombre_sain           991\n",
    "nombre_exposed        120\n",
    "nombre_recovered    18379\n",
    "Name: 60, dtype: int64"
   ]
  },
  {
   "cell_type": "markdown",
   "id": "dfff593d",
   "metadata": {},
   "source": [
    "nombre_infected       470\n",
    "nombre_sain          1036\n",
    "nombre_exposed        106\n",
    "nombre_recovered    18388\n",
    "Name: 61, dtype: int64"
   ]
  },
  {
   "cell_type": "markdown",
   "id": "7345e3a5",
   "metadata": {},
   "source": [
    "nombre_infected       411\n",
    "nombre_sain          1079\n",
    "nombre_exposed        104\n",
    "nombre_recovered    18406\n",
    "Name: 62, dtype: int64"
   ]
  },
  {
   "cell_type": "markdown",
   "id": "d755beab",
   "metadata": {},
   "source": [
    "nombre_infected       392\n",
    "nombre_sain          1136\n",
    "nombre_exposed         96\n",
    "nombre_recovered    18376\n",
    "Name: 63, dtype: int64"
   ]
  },
  {
   "cell_type": "markdown",
   "id": "716df801",
   "metadata": {},
   "source": [
    "nombre_infected       367\n",
    "nombre_sain          1177\n",
    "nombre_exposed         96\n",
    "nombre_recovered    18360\n",
    "Name: 64, dtype: int64"
   ]
  },
  {
   "cell_type": "markdown",
   "id": "92347820",
   "metadata": {},
   "source": [
    "nombre_infected       338\n",
    "nombre_sain          1207\n",
    "nombre_exposed        102\n",
    "nombre_recovered    18353\n",
    "Name: 65, dtype: int64"
   ]
  },
  {
   "cell_type": "markdown",
   "id": "883bf394",
   "metadata": {},
   "source": [
    "nombre_infected       303\n",
    "nombre_sain          1255\n",
    "nombre_exposed         97\n",
    "nombre_recovered    18345\n",
    "Name: 66, dtype: int64"
   ]
  },
  {
   "cell_type": "markdown",
   "id": "48510d1f",
   "metadata": {},
   "source": [
    "nombre_infected       276\n",
    "nombre_sain          1312\n",
    "nombre_exposed         88\n",
    "nombre_recovered    18324\n",
    "Name: 67, dtype: int64"
   ]
  },
  {
   "cell_type": "markdown",
   "id": "b0faff40",
   "metadata": {},
   "source": [
    "nombre_infected       258\n",
    "nombre_sain          1353\n",
    "nombre_exposed         87\n",
    "nombre_recovered    18302\n",
    "Name: 68, dtype: int64"
   ]
  },
  {
   "cell_type": "markdown",
   "id": "480ccc76",
   "metadata": {},
   "source": [
    "nombre_infected       225\n",
    "nombre_sain          1403\n",
    "nombre_exposed         93\n",
    "nombre_recovered    18279\n",
    "Name: 69, dtype: int64"
   ]
  },
  {
   "cell_type": "markdown",
   "id": "5c2940d4",
   "metadata": {},
   "source": [
    "nombre_infected       206\n",
    "nombre_sain          1441\n",
    "nombre_exposed         91\n",
    "nombre_recovered    18262\n",
    "Name: 70, dtype: int64"
   ]
  },
  {
   "cell_type": "markdown",
   "id": "a17c451a",
   "metadata": {},
   "source": [
    "nombre_infected       185\n",
    "nombre_sain          1501\n",
    "nombre_exposed         78\n",
    "nombre_recovered    18236\n",
    "Name: 71, dtype: int64"
   ]
  },
  {
   "cell_type": "markdown",
   "id": "fdd31405",
   "metadata": {},
   "source": [
    "nombre_infected       169\n",
    "nombre_sain          1548\n",
    "nombre_exposed         76\n",
    "nombre_recovered    18207\n",
    "Name: 72, dtype: int64"
   ]
  },
  {
   "cell_type": "markdown",
   "id": "b3c1bf8f",
   "metadata": {},
   "source": [
    "nombre_infected       168\n",
    "nombre_sain          1606\n",
    "nombre_exposed         60\n",
    "nombre_recovered    18166\n",
    "Name: 73, dtype: int64"
   ]
  },
  {
   "cell_type": "markdown",
   "id": "edefca96",
   "metadata": {},
   "source": [
    "nombre_infected       149\n",
    "nombre_sain          1651\n",
    "nombre_exposed         64\n",
    "nombre_recovered    18136\n",
    "Name: 74, dtype: int64"
   ]
  },
  {
   "cell_type": "markdown",
   "id": "bb8faf4b",
   "metadata": {},
   "source": [
    "nombre_infected       134\n",
    "nombre_sain          1705\n",
    "nombre_exposed         62\n",
    "nombre_recovered    18099\n",
    "Name: 75, dtype: int64"
   ]
  },
  {
   "cell_type": "markdown",
   "id": "930f20cf",
   "metadata": {},
   "source": [
    "nombre_infected       124\n",
    "nombre_sain          1773\n",
    "nombre_exposed         56\n",
    "nombre_recovered    18047\n",
    "Name: 76, dtype: int64"
   ]
  },
  {
   "cell_type": "markdown",
   "id": "b88bbc5f",
   "metadata": {},
   "source": [
    "nombre_infected       113\n",
    "nombre_sain          1826\n",
    "nombre_exposed         60\n",
    "nombre_recovered    18001\n",
    "Name: 77, dtype: int64"
   ]
  },
  {
   "cell_type": "markdown",
   "id": "5f6fe07a",
   "metadata": {},
   "source": [
    "nombre_infected       107\n",
    "nombre_sain          1908\n",
    "nombre_exposed         59\n",
    "nombre_recovered    17926\n",
    "Name: 78, dtype: int64"
   ]
  },
  {
   "cell_type": "markdown",
   "id": "7e9d7a2e",
   "metadata": {},
   "source": [
    "nombre_infected       110\n",
    "nombre_sain          1957\n",
    "nombre_exposed         58\n",
    "nombre_recovered    17875\n",
    "Name: 79, dtype: int64"
   ]
  },
  {
   "cell_type": "markdown",
   "id": "2e98229f",
   "metadata": {},
   "source": [
    "nombre_infected       111\n",
    "nombre_sain          2013\n",
    "nombre_exposed         68\n",
    "nombre_recovered    17808\n",
    "Name: 80, dtype: int64"
   ]
  },
  {
   "cell_type": "markdown",
   "id": "db9c76d7",
   "metadata": {},
   "source": [
    "nombre_infected       110\n",
    "nombre_sain          2079\n",
    "nombre_exposed         69\n",
    "nombre_recovered    17742\n",
    "Name: 81, dtype: int64"
   ]
  },
  {
   "cell_type": "markdown",
   "id": "8ed87a7a",
   "metadata": {},
   "source": [
    "nombre_infected       106\n",
    "nombre_sain          2141\n",
    "nombre_exposed         65\n",
    "nombre_recovered    17688\n",
    "Name: 82, dtype: int64"
   ]
  },
  {
   "cell_type": "markdown",
   "id": "b502fc47",
   "metadata": {},
   "source": [
    "nombre_infected       112\n",
    "nombre_sain          2194\n",
    "nombre_exposed         50\n",
    "nombre_recovered    17644\n",
    "Name: 83, dtype: int64"
   ]
  },
  {
   "cell_type": "markdown",
   "id": "b4e9a6a7",
   "metadata": {},
   "source": [
    "nombre_infected       114\n",
    "nombre_sain          2230\n",
    "nombre_exposed         56\n",
    "nombre_recovered    17600\n",
    "Name: 84, dtype: int64"
   ]
  },
  {
   "cell_type": "markdown",
   "id": "f6dfb040",
   "metadata": {},
   "source": [
    "nombre_infected       119\n",
    "nombre_sain          2251\n",
    "nombre_exposed         80\n",
    "nombre_recovered    17550\n",
    "Name: 85, dtype: int64"
   ]
  },
  {
   "cell_type": "markdown",
   "id": "6763e68a",
   "metadata": {},
   "source": [
    "nombre_infected       109\n",
    "nombre_sain          2288\n",
    "nombre_exposed         86\n",
    "nombre_recovered    17517\n",
    "Name: 86, dtype: int64"
   ]
  },
  {
   "cell_type": "markdown",
   "id": "98b0b39c",
   "metadata": {},
   "source": [
    "nombre_infected       113\n",
    "nombre_sain          2336\n",
    "nombre_exposed         72\n",
    "nombre_recovered    17479\n",
    "Name: 87, dtype: int64"
   ]
  },
  {
   "cell_type": "markdown",
   "id": "073fe8ae",
   "metadata": {},
   "source": [
    "nombre_infected       114\n",
    "nombre_sain          2367\n",
    "nombre_exposed         73\n",
    "nombre_recovered    17446\n",
    "Name: 88, dtype: int64"
   ]
  },
  {
   "cell_type": "markdown",
   "id": "46ed7040",
   "metadata": {},
   "source": [
    "nombre_infected       119\n",
    "nombre_sain          2408\n",
    "nombre_exposed         70\n",
    "nombre_recovered    17403\n",
    "Name: 89, dtype: int64"
   ]
  },
  {
   "cell_type": "markdown",
   "id": "2d199ee1",
   "metadata": {},
   "source": [
    "nombre_infected       116\n",
    "nombre_sain          2439\n",
    "nombre_exposed         77\n",
    "nombre_recovered    17368\n",
    "Name: 90, dtype: int64"
   ]
  },
  {
   "cell_type": "markdown",
   "id": "835c1404",
   "metadata": {},
   "source": [
    "nombre_infected       110\n",
    "nombre_sain          2474\n",
    "nombre_exposed         79\n",
    "nombre_recovered    17337\n",
    "Name: 91, dtype: int64"
   ]
  },
  {
   "cell_type": "markdown",
   "id": "37aa9cee",
   "metadata": {},
   "source": [
    "nombre_infected       108\n",
    "nombre_sain          2514\n",
    "nombre_exposed         74\n",
    "nombre_recovered    17304\n",
    "Name: 92, dtype: int64"
   ]
  },
  {
   "cell_type": "markdown",
   "id": "3caa6e18",
   "metadata": {},
   "source": [
    "nombre_infected        97\n",
    "nombre_sain          2551\n",
    "nombre_exposed         77\n",
    "nombre_recovered    17275\n",
    "Name: 93, dtype: int64"
   ]
  },
  {
   "cell_type": "markdown",
   "id": "a5795644",
   "metadata": {},
   "source": [
    "nombre_infected        92\n",
    "nombre_sain          2587\n",
    "nombre_exposed         81\n",
    "nombre_recovered    17240\n",
    "Name: 94, dtype: int64"
   ]
  },
  {
   "cell_type": "markdown",
   "id": "f45d0c0e",
   "metadata": {},
   "source": [
    "nombre_infected       100\n",
    "nombre_sain          2638\n",
    "nombre_exposed         78\n",
    "nombre_recovered    17184\n",
    "Name: 95, dtype: int64"
   ]
  },
  {
   "cell_type": "markdown",
   "id": "fe998067",
   "metadata": {},
   "source": [
    "nombre_infected       109\n",
    "nombre_sain          2687\n",
    "nombre_exposed         76\n",
    "nombre_recovered    17128\n",
    "Name: 96, dtype: int64"
   ]
  },
  {
   "cell_type": "markdown",
   "id": "0861a941",
   "metadata": {},
   "source": [
    "nombre_infected       116\n",
    "nombre_sain          2717\n",
    "nombre_exposed         77\n",
    "nombre_recovered    17090\n",
    "Name: 97, dtype: int64"
   ]
  },
  {
   "cell_type": "markdown",
   "id": "4b4cd781",
   "metadata": {},
   "source": [
    "nombre_infected       116\n",
    "nombre_sain          2759\n",
    "nombre_exposed         82\n",
    "nombre_recovered    17043\n",
    "Name: 98, dtype: int64"
   ]
  },
  {
   "cell_type": "markdown",
   "id": "9c3b431d",
   "metadata": {},
   "source": [
    "nombre_infected       122\n",
    "nombre_sain          2819\n",
    "nombre_exposed         82\n",
    "nombre_recovered    16977\n",
    "Name: 99, dtype: int64"
   ]
  },
  {
   "cell_type": "markdown",
   "id": "eee0a581",
   "metadata": {},
   "source": [
    "nombre_infected       124\n",
    "nombre_sain          2875\n",
    "nombre_exposed         81\n",
    "nombre_recovered    16920\n",
    "Name: 100, dtype: int64"
   ]
  },
  {
   "cell_type": "markdown",
   "id": "2782fcd7",
   "metadata": {},
   "source": [
    "nombre_infected       130\n",
    "nombre_sain          2922\n",
    "nombre_exposed         78\n",
    "nombre_recovered    16870\n",
    "Name: 101, dtype: int64"
   ]
  },
  {
   "cell_type": "markdown",
   "id": "fb668118",
   "metadata": {},
   "source": [
    "nombre_infected       125\n",
    "nombre_sain          2981\n",
    "nombre_exposed         86\n",
    "nombre_recovered    16808\n",
    "Name: 102, dtype: int64"
   ]
  },
  {
   "cell_type": "markdown",
   "id": "13375e67",
   "metadata": {},
   "source": [
    "nombre_infected       127\n",
    "nombre_sain          3030\n",
    "nombre_exposed         90\n",
    "nombre_recovered    16753\n",
    "Name: 103, dtype: int64"
   ]
  },
  {
   "cell_type": "markdown",
   "id": "a0394959",
   "metadata": {},
   "source": [
    "nombre_infected       122\n",
    "nombre_sain          3091\n",
    "nombre_exposed         97\n",
    "nombre_recovered    16690\n",
    "Name: 104, dtype: int64"
   ]
  },
  {
   "cell_type": "markdown",
   "id": "baba410d",
   "metadata": {},
   "source": [
    "nombre_infected       125\n",
    "nombre_sain          3138\n",
    "nombre_exposed         99\n",
    "nombre_recovered    16638\n",
    "Name: 105, dtype: int64"
   ]
  },
  {
   "cell_type": "markdown",
   "id": "990d2835",
   "metadata": {},
   "source": [
    "nombre_infected       132\n",
    "nombre_sain          3186\n",
    "nombre_exposed         91\n",
    "nombre_recovered    16591\n",
    "Name: 106, dtype: int64"
   ]
  },
  {
   "cell_type": "markdown",
   "id": "16931a0a",
   "metadata": {},
   "source": [
    "nombre_infected       138\n",
    "nombre_sain          3244\n",
    "nombre_exposed         89\n",
    "nombre_recovered    16529\n",
    "Name: 107, dtype: int64"
   ]
  },
  {
   "cell_type": "markdown",
   "id": "98e3ac2a",
   "metadata": {},
   "source": [
    "nombre_infected       148\n",
    "nombre_sain          3263\n",
    "nombre_exposed        101\n",
    "nombre_recovered    16488\n",
    "Name: 108, dtype: int64"
   ]
  },
  {
   "cell_type": "markdown",
   "id": "1c984864",
   "metadata": {},
   "source": [
    "nombre_infected       144\n",
    "nombre_sain          3302\n",
    "nombre_exposed        103\n",
    "nombre_recovered    16451\n",
    "Name: 109, dtype: int64"
   ]
  },
  {
   "cell_type": "markdown",
   "id": "e090bdb2",
   "metadata": {},
   "source": [
    "nombre_infected       157\n",
    "nombre_sain          3313\n",
    "nombre_exposed         98\n",
    "nombre_recovered    16432\n",
    "Name: 110, dtype: int64"
   ]
  },
  {
   "cell_type": "markdown",
   "id": "9fb6c6d5",
   "metadata": {},
   "source": [
    "nombre_infected       169\n",
    "nombre_sain          3322\n",
    "nombre_exposed        115\n",
    "nombre_recovered    16394\n",
    "Name: 111, dtype: int64"
   ]
  },
  {
   "cell_type": "markdown",
   "id": "45999656",
   "metadata": {},
   "source": [
    "nombre_infected       177\n",
    "nombre_sain          3325\n",
    "nombre_exposed        125\n",
    "nombre_recovered    16373\n",
    "Name: 112, dtype: int64"
   ]
  },
  {
   "cell_type": "markdown",
   "id": "66bbbe4d",
   "metadata": {},
   "source": [
    "nombre_infected       182\n",
    "nombre_sain          3336\n",
    "nombre_exposed        132\n",
    "nombre_recovered    16350\n",
    "Name: 113, dtype: int64"
   ]
  },
  {
   "cell_type": "markdown",
   "id": "85757206",
   "metadata": {},
   "source": [
    "nombre_infected       197\n",
    "nombre_sain          3361\n",
    "nombre_exposed        130\n",
    "nombre_recovered    16312\n",
    "Name: 114, dtype: int64"
   ]
  },
  {
   "cell_type": "markdown",
   "id": "fd194966",
   "metadata": {},
   "source": [
    "nombre_infected       204\n",
    "nombre_sain          3361\n",
    "nombre_exposed        149\n",
    "nombre_recovered    16286\n",
    "Name: 115, dtype: int64"
   ]
  },
  {
   "cell_type": "markdown",
   "id": "e6cdcf79",
   "metadata": {},
   "source": [
    "nombre_infected       207\n",
    "nombre_sain          3381\n",
    "nombre_exposed        159\n",
    "nombre_recovered    16253\n",
    "Name: 116, dtype: int64"
   ]
  },
  {
   "cell_type": "markdown",
   "id": "610e89ea",
   "metadata": {},
   "source": [
    "nombre_infected       207\n",
    "nombre_sain          3388\n",
    "nombre_exposed        181\n",
    "nombre_recovered    16224\n",
    "Name: 117, dtype: int64"
   ]
  },
  {
   "cell_type": "markdown",
   "id": "4f6b0314",
   "metadata": {},
   "source": [
    "nombre_infected       223\n",
    "nombre_sain          3396\n",
    "nombre_exposed        186\n",
    "nombre_recovered    16195\n",
    "Name: 118, dtype: int64"
   ]
  },
  {
   "cell_type": "markdown",
   "id": "41507041",
   "metadata": {},
   "source": [
    "nombre_infected       242\n",
    "nombre_sain          3410\n",
    "nombre_exposed        179\n",
    "nombre_recovered    16169\n",
    "Name: 119, dtype: int64"
   ]
  },
  {
   "cell_type": "markdown",
   "id": "5a369c1b",
   "metadata": {},
   "source": [
    "nombre_infected       261\n",
    "nombre_sain          3411\n",
    "nombre_exposed        186\n",
    "nombre_recovered    16142\n",
    "Name: 120, dtype: int64"
   ]
  },
  {
   "cell_type": "markdown",
   "id": "5bfff06d",
   "metadata": {},
   "source": [
    "nombre_infected       263\n",
    "nombre_sain          3409\n",
    "nombre_exposed        192\n",
    "nombre_recovered    16136\n",
    "Name: 121, dtype: int64"
   ]
  },
  {
   "cell_type": "markdown",
   "id": "e548e1fc",
   "metadata": {},
   "source": [
    "nombre_infected       271\n",
    "nombre_sain          3411\n",
    "nombre_exposed        195\n",
    "nombre_recovered    16123\n",
    "Name: 122, dtype: int64"
   ]
  },
  {
   "cell_type": "markdown",
   "id": "aa2248c6",
   "metadata": {},
   "source": [
    "nombre_infected       285\n",
    "nombre_sain          3374\n",
    "nombre_exposed        218\n",
    "nombre_recovered    16123\n",
    "Name: 123, dtype: int64"
   ]
  },
  {
   "cell_type": "markdown",
   "id": "d502f7f9",
   "metadata": {},
   "source": [
    "nombre_infected       305\n",
    "nombre_sain          3344\n",
    "nombre_exposed        244\n",
    "nombre_recovered    16107\n",
    "Name: 124, dtype: int64"
   ]
  },
  {
   "cell_type": "markdown",
   "id": "f79def25",
   "metadata": {},
   "source": [
    "nombre_infected       330\n",
    "nombre_sain          3330\n",
    "nombre_exposed        249\n",
    "nombre_recovered    16091\n",
    "Name: 125, dtype: int64"
   ]
  },
  {
   "cell_type": "markdown",
   "id": "f22b94b1",
   "metadata": {},
   "source": [
    "nombre_infected       346\n",
    "nombre_sain          3296\n",
    "nombre_exposed        269\n",
    "nombre_recovered    16089\n",
    "Name: 126, dtype: int64"
   ]
  },
  {
   "cell_type": "markdown",
   "id": "1477baae",
   "metadata": {},
   "source": [
    "nombre_infected       370\n",
    "nombre_sain          3259\n",
    "nombre_exposed        290\n",
    "nombre_recovered    16081\n",
    "Name: 127, dtype: int64"
   ]
  },
  {
   "cell_type": "markdown",
   "id": "3da0532b",
   "metadata": {},
   "source": [
    "nombre_infected       388\n",
    "nombre_sain          3236\n",
    "nombre_exposed        300\n",
    "nombre_recovered    16076\n",
    "Name: 128, dtype: int64"
   ]
  },
  {
   "cell_type": "markdown",
   "id": "f639663f",
   "metadata": {},
   "source": [
    "nombre_infected       411\n",
    "nombre_sain          3215\n",
    "nombre_exposed        305\n",
    "nombre_recovered    16069\n",
    "Name: 129, dtype: int64"
   ]
  },
  {
   "cell_type": "markdown",
   "id": "21df9bc1",
   "metadata": {},
   "source": [
    "nombre_infected       438\n",
    "nombre_sain          3190\n",
    "nombre_exposed        306\n",
    "nombre_recovered    16066\n",
    "Name: 130, dtype: int64"
   ]
  },
  {
   "cell_type": "markdown",
   "id": "fb5ea9f5",
   "metadata": {},
   "source": [
    "nombre_infected       452\n",
    "nombre_sain          3133\n",
    "nombre_exposed        326\n",
    "nombre_recovered    16089\n",
    "Name: 131, dtype: int64"
   ]
  },
  {
   "cell_type": "markdown",
   "id": "58bc9f40",
   "metadata": {},
   "source": [
    "nombre_infected       469\n",
    "nombre_sain          3105\n",
    "nombre_exposed        330\n",
    "nombre_recovered    16096\n",
    "Name: 132, dtype: int64"
   ]
  },
  {
   "cell_type": "markdown",
   "id": "7378027c",
   "metadata": {},
   "source": [
    "nombre_infected       487\n",
    "nombre_sain          3060\n",
    "nombre_exposed        355\n",
    "nombre_recovered    16098\n",
    "Name: 133, dtype: int64"
   ]
  },
  {
   "cell_type": "markdown",
   "id": "5feb492a",
   "metadata": {},
   "source": [
    "nombre_infected       527\n",
    "nombre_sain          3003\n",
    "nombre_exposed        363\n",
    "nombre_recovered    16107\n",
    "Name: 134, dtype: int64"
   ]
  },
  {
   "cell_type": "markdown",
   "id": "2c918de6",
   "metadata": {},
   "source": [
    "nombre_infected       545\n",
    "nombre_sain          2956\n",
    "nombre_exposed        372\n",
    "nombre_recovered    16127\n",
    "Name: 135, dtype: int64"
   ]
  },
  {
   "cell_type": "markdown",
   "id": "81385e98",
   "metadata": {},
   "source": [
    "nombre_infected       577\n",
    "nombre_sain          2914\n",
    "nombre_exposed        375\n",
    "nombre_recovered    16134\n",
    "Name: 136, dtype: int64"
   ]
  },
  {
   "cell_type": "markdown",
   "id": "ce2087a9",
   "metadata": {},
   "source": [
    "nombre_infected       582\n",
    "nombre_sain          2883\n",
    "nombre_exposed        386\n",
    "nombre_recovered    16149\n",
    "Name: 137, dtype: int64"
   ]
  },
  {
   "cell_type": "markdown",
   "id": "d1698da9",
   "metadata": {},
   "source": [
    "nombre_infected       608\n",
    "nombre_sain          2833\n",
    "nombre_exposed        419\n",
    "nombre_recovered    16140\n",
    "Name: 138, dtype: int64"
   ]
  },
  {
   "cell_type": "markdown",
   "id": "d785d0ea",
   "metadata": {},
   "source": [
    "nombre_infected       636\n",
    "nombre_sain          2795\n",
    "nombre_exposed        409\n",
    "nombre_recovered    16160\n",
    "Name: 139, dtype: int64"
   ]
  },
  {
   "cell_type": "markdown",
   "id": "06dfdc36",
   "metadata": {},
   "source": [
    "nombre_infected       667\n",
    "nombre_sain          2774\n",
    "nombre_exposed        417\n",
    "nombre_recovered    16142\n",
    "Name: 140, dtype: int64"
   ]
  },
  {
   "cell_type": "markdown",
   "id": "26b31d60",
   "metadata": {},
   "source": [
    "nombre_infected       679\n",
    "nombre_sain          2724\n",
    "nombre_exposed        431\n",
    "nombre_recovered    16166\n",
    "Name: 141, dtype: int64"
   ]
  },
  {
   "cell_type": "markdown",
   "id": "57f6e43d",
   "metadata": {},
   "source": [
    "nombre_infected       697\n",
    "nombre_sain          2690\n",
    "nombre_exposed        433\n",
    "nombre_recovered    16180\n",
    "Name: 142, dtype: int64"
   ]
  },
  {
   "cell_type": "markdown",
   "id": "fbaceea5",
   "metadata": {},
   "source": [
    "nombre_infected       725\n",
    "nombre_sain          2668\n",
    "nombre_exposed        448\n",
    "nombre_recovered    16159\n",
    "Name: 143, dtype: int64"
   ]
  },
  {
   "cell_type": "markdown",
   "id": "760a718b",
   "metadata": {},
   "source": [
    "nombre_infected       708\n",
    "nombre_sain          2645\n",
    "nombre_exposed        464\n",
    "nombre_recovered    16183\n",
    "Name: 144, dtype: int64"
   ]
  },
  {
   "cell_type": "markdown",
   "id": "7113c2c5",
   "metadata": {},
   "source": [
    "nombre_infected       734\n",
    "nombre_sain          2619\n",
    "nombre_exposed        473\n",
    "nombre_recovered    16174\n",
    "Name: 145, dtype: int64"
   ]
  },
  {
   "cell_type": "markdown",
   "id": "7ec0e84f",
   "metadata": {},
   "source": [
    "nombre_infected       758\n",
    "nombre_sain          2589\n",
    "nombre_exposed        484\n",
    "nombre_recovered    16169\n",
    "Name: 146, dtype: int64"
   ]
  },
  {
   "cell_type": "markdown",
   "id": "489688b1",
   "metadata": {},
   "source": [
    "nombre_infected       770\n",
    "nombre_sain          2547\n",
    "nombre_exposed        514\n",
    "nombre_recovered    16169\n",
    "Name: 147, dtype: int64"
   ]
  },
  {
   "cell_type": "markdown",
   "id": "27d414ab",
   "metadata": {},
   "source": [
    "nombre_infected       792\n",
    "nombre_sain          2547\n",
    "nombre_exposed        504\n",
    "nombre_recovered    16157\n",
    "Name: 148, dtype: int64"
   ]
  },
  {
   "cell_type": "markdown",
   "id": "4067e08b",
   "metadata": {},
   "source": [
    "nombre_infected       821\n",
    "nombre_sain          2537\n",
    "nombre_exposed        493\n",
    "nombre_recovered    16149\n",
    "Name: 149, dtype: int64"
   ]
  },
  {
   "cell_type": "markdown",
   "id": "33a1d7c5",
   "metadata": {},
   "source": [
    "nombre_infected       832\n",
    "nombre_sain          2498\n",
    "nombre_exposed        515\n",
    "nombre_recovered    16155\n",
    "Name: 150, dtype: int64"
   ]
  },
  {
   "cell_type": "markdown",
   "id": "6538effd",
   "metadata": {},
   "source": [
    "nombre_infected       828\n",
    "nombre_sain          2456\n",
    "nombre_exposed        539\n",
    "nombre_recovered    16177\n",
    "Name: 151, dtype: int64"
   ]
  },
  {
   "cell_type": "markdown",
   "id": "147e505f",
   "metadata": {},
   "source": [
    "nombre_infected       870\n",
    "nombre_sain          2401\n",
    "nombre_exposed        542\n",
    "nombre_recovered    16187\n",
    "Name: 152, dtype: int64"
   ]
  },
  {
   "cell_type": "markdown",
   "id": "f6e1e3a3",
   "metadata": {},
   "source": [
    "nombre_infected       891\n",
    "nombre_sain          2348\n",
    "nombre_exposed        539\n",
    "nombre_recovered    16222\n",
    "Name: 153, dtype: int64"
   ]
  },
  {
   "cell_type": "markdown",
   "id": "f6e65837",
   "metadata": {},
   "source": [
    "nombre_infected       902\n",
    "nombre_sain          2297\n",
    "nombre_exposed        541\n",
    "nombre_recovered    16260\n",
    "Name: 154, dtype: int64"
   ]
  },
  {
   "cell_type": "markdown",
   "id": "e545f335",
   "metadata": {},
   "source": [
    "nombre_infected       924\n",
    "nombre_sain          2283\n",
    "nombre_exposed        512\n",
    "nombre_recovered    16281\n",
    "Name: 155, dtype: int64"
   ]
  },
  {
   "cell_type": "markdown",
   "id": "90d7b3ac",
   "metadata": {},
   "source": [
    "nombre_infected       945\n",
    "nombre_sain          2233\n",
    "nombre_exposed        503\n",
    "nombre_recovered    16319\n",
    "Name: 156, dtype: int64"
   ]
  },
  {
   "cell_type": "markdown",
   "id": "d69d2e16",
   "metadata": {},
   "source": [
    "nombre_infected       964\n",
    "nombre_sain          2185\n",
    "nombre_exposed        530\n",
    "nombre_recovered    16321\n",
    "Name: 157, dtype: int64"
   ]
  },
  {
   "cell_type": "markdown",
   "id": "5987e633",
   "metadata": {},
   "source": [
    "nombre_infected       969\n",
    "nombre_sain          2160\n",
    "nombre_exposed        541\n",
    "nombre_recovered    16330\n",
    "Name: 158, dtype: int64"
   ]
  },
  {
   "cell_type": "markdown",
   "id": "22b53a3f",
   "metadata": {},
   "source": [
    "nombre_infected       992\n",
    "nombre_sain          2133\n",
    "nombre_exposed        529\n",
    "nombre_recovered    16346\n",
    "Name: 159, dtype: int64"
   ]
  },
  {
   "cell_type": "markdown",
   "id": "d5313597",
   "metadata": {},
   "source": [
    "nombre_infected      1003\n",
    "nombre_sain          2065\n",
    "nombre_exposed        547\n",
    "nombre_recovered    16385\n",
    "Name: 160, dtype: int64"
   ]
  },
  {
   "cell_type": "markdown",
   "id": "8de6672a",
   "metadata": {},
   "source": [
    "nombre_infected      1018\n",
    "nombre_sain          2004\n",
    "nombre_exposed        560\n",
    "nombre_recovered    16418\n",
    "Name: 161, dtype: int64"
   ]
  },
  {
   "cell_type": "markdown",
   "id": "56aa67a1",
   "metadata": {},
   "source": [
    "nombre_infected      1011\n",
    "nombre_sain          1955\n",
    "nombre_exposed        579\n",
    "nombre_recovered    16455\n",
    "Name: 162, dtype: int64"
   ]
  },
  {
   "cell_type": "markdown",
   "id": "4cb5ce37",
   "metadata": {},
   "source": [
    "nombre_infected      1015\n",
    "nombre_sain          1919\n",
    "nombre_exposed        576\n",
    "nombre_recovered    16490\n",
    "Name: 163, dtype: int64"
   ]
  },
  {
   "cell_type": "markdown",
   "id": "bc836f5b",
   "metadata": {},
   "source": [
    "nombre_infected      1020\n",
    "nombre_sain          1900\n",
    "nombre_exposed        547\n",
    "nombre_recovered    16533\n",
    "Name: 164, dtype: int64"
   ]
  },
  {
   "cell_type": "markdown",
   "id": "7e906a7a",
   "metadata": {},
   "source": [
    "nombre_infected      1048\n",
    "nombre_sain          1851\n",
    "nombre_exposed        539\n",
    "nombre_recovered    16562\n",
    "Name: 165, dtype: int64"
   ]
  },
  {
   "cell_type": "markdown",
   "id": "c3dac29a",
   "metadata": {},
   "source": [
    "nombre_infected      1050\n",
    "nombre_sain          1799\n",
    "nombre_exposed        527\n",
    "nombre_recovered    16624\n",
    "Name: 166, dtype: int64"
   ]
  },
  {
   "cell_type": "markdown",
   "id": "c9ed5688",
   "metadata": {},
   "source": [
    "nombre_infected      1033\n",
    "nombre_sain          1780\n",
    "nombre_exposed        529\n",
    "nombre_recovered    16658\n",
    "Name: 167, dtype: int64"
   ]
  },
  {
   "cell_type": "markdown",
   "id": "c9e744f1",
   "metadata": {},
   "source": [
    "nombre_infected      1011\n",
    "nombre_sain          1760\n",
    "nombre_exposed        509\n",
    "nombre_recovered    16720\n",
    "Name: 168, dtype: int64"
   ]
  },
  {
   "cell_type": "markdown",
   "id": "fe48562c",
   "metadata": {},
   "source": [
    "nombre_infected       984\n",
    "nombre_sain          1748\n",
    "nombre_exposed        487\n",
    "nombre_recovered    16781\n",
    "Name: 169, dtype: int64"
   ]
  },
  {
   "cell_type": "markdown",
   "id": "c2e97c43",
   "metadata": {},
   "source": [
    "nombre_infected       949\n",
    "nombre_sain          1745\n",
    "nombre_exposed        485\n",
    "nombre_recovered    16821\n",
    "Name: 170, dtype: int64"
   ]
  },
  {
   "cell_type": "markdown",
   "id": "6fb17006",
   "metadata": {},
   "source": [
    "nombre_infected       954\n",
    "nombre_sain          1736\n",
    "nombre_exposed        450\n",
    "nombre_recovered    16860\n",
    "Name: 171, dtype: int64"
   ]
  },
  {
   "cell_type": "markdown",
   "id": "2e3a2c3e",
   "metadata": {},
   "source": [
    "nombre_infected       935\n",
    "nombre_sain          1734\n",
    "nombre_exposed        440\n",
    "nombre_recovered    16891\n",
    "Name: 172, dtype: int64"
   ]
  },
  {
   "cell_type": "markdown",
   "id": "ca4c01ca",
   "metadata": {},
   "source": [
    "nombre_infected       914\n",
    "nombre_sain          1732\n",
    "nombre_exposed        445\n",
    "nombre_recovered    16909\n",
    "Name: 173, dtype: int64"
   ]
  },
  {
   "cell_type": "markdown",
   "id": "39f9360a",
   "metadata": {},
   "source": [
    "nombre_infected       914\n",
    "nombre_sain          1716\n",
    "nombre_exposed        451\n",
    "nombre_recovered    16919\n",
    "Name: 174, dtype: int64"
   ]
  },
  {
   "cell_type": "markdown",
   "id": "7a3cf227",
   "metadata": {},
   "source": [
    "nombre_infected       906\n",
    "nombre_sain          1732\n",
    "nombre_exposed        420\n",
    "nombre_recovered    16942\n",
    "Name: 175, dtype: int64"
   ]
  },
  {
   "cell_type": "markdown",
   "id": "8dd7ea22",
   "metadata": {},
   "source": [
    "nombre_infected       884\n",
    "nombre_sain          1766\n",
    "nombre_exposed        394\n",
    "nombre_recovered    16956\n",
    "Name: 176, dtype: int64"
   ]
  },
  {
   "cell_type": "markdown",
   "id": "078923b3",
   "metadata": {},
   "source": [
    "nombre_infected       860\n",
    "nombre_sain          1760\n",
    "nombre_exposed        385\n",
    "nombre_recovered    16995\n",
    "Name: 177, dtype: int64"
   ]
  },
  {
   "cell_type": "markdown",
   "id": "f4f8b8ba",
   "metadata": {},
   "source": [
    "nombre_infected       837\n",
    "nombre_sain          1769\n",
    "nombre_exposed        395\n",
    "nombre_recovered    16999\n",
    "Name: 178, dtype: int64"
   ]
  },
  {
   "cell_type": "markdown",
   "id": "e5fb1d4c",
   "metadata": {},
   "source": [
    "nombre_infected       823\n",
    "nombre_sain          1767\n",
    "nombre_exposed        397\n",
    "nombre_recovered    17013\n",
    "Name: 179, dtype: int64"
   ]
  },
  {
   "cell_type": "markdown",
   "id": "84611670",
   "metadata": {},
   "source": [
    "nombre_infected       810\n",
    "nombre_sain          1777\n",
    "nombre_exposed        374\n",
    "nombre_recovered    17039\n",
    "Name: 180, dtype: int64"
   ]
  },
  {
   "cell_type": "markdown",
   "id": "54cdd961",
   "metadata": {},
   "source": [
    "nombre_infected       783\n",
    "nombre_sain          1787\n",
    "nombre_exposed        393\n",
    "nombre_recovered    17037\n",
    "Name: 181, dtype: int64"
   ]
  },
  {
   "cell_type": "markdown",
   "id": "28a96f75",
   "metadata": {},
   "source": [
    "nombre_infected       743\n",
    "nombre_sain          1812\n",
    "nombre_exposed        383\n",
    "nombre_recovered    17062\n",
    "Name: 182, dtype: int64"
   ]
  },
  {
   "cell_type": "markdown",
   "id": "9f3756cc",
   "metadata": {},
   "source": [
    "nombre_infected       749\n",
    "nombre_sain          1825\n",
    "nombre_exposed        360\n",
    "nombre_recovered    17066\n",
    "Name: 183, dtype: int64"
   ]
  },
  {
   "cell_type": "markdown",
   "id": "804253fa",
   "metadata": {},
   "source": [
    "nombre_infected       727\n",
    "nombre_sain          1850\n",
    "nombre_exposed        356\n",
    "nombre_recovered    17067\n",
    "Name: 184, dtype: int64"
   ]
  },
  {
   "cell_type": "markdown",
   "id": "4bdd9c11",
   "metadata": {},
   "source": [
    "nombre_infected       670\n",
    "nombre_sain          1841\n",
    "nombre_exposed        373\n",
    "nombre_recovered    17116\n",
    "Name: 185, dtype: int64"
   ]
  },
  {
   "cell_type": "markdown",
   "id": "82096274",
   "metadata": {},
   "source": [
    "nombre_infected       664\n",
    "nombre_sain          1864\n",
    "nombre_exposed        363\n",
    "nombre_recovered    17109\n",
    "Name: 186, dtype: int64"
   ]
  },
  {
   "cell_type": "markdown",
   "id": "dcc93fd6",
   "metadata": {},
   "source": [
    "nombre_infected       670\n",
    "nombre_sain          1884\n",
    "nombre_exposed        339\n",
    "nombre_recovered    17107\n",
    "Name: 187, dtype: int64"
   ]
  },
  {
   "cell_type": "markdown",
   "id": "36cda380",
   "metadata": {},
   "source": [
    "nombre_infected       659\n",
    "nombre_sain          1911\n",
    "nombre_exposed        322\n",
    "nombre_recovered    17108\n",
    "Name: 188, dtype: int64"
   ]
  },
  {
   "cell_type": "markdown",
   "id": "96b3f8cf",
   "metadata": {},
   "source": [
    "nombre_infected       655\n",
    "nombre_sain          1904\n",
    "nombre_exposed        332\n",
    "nombre_recovered    17109\n",
    "Name: 189, dtype: int64"
   ]
  },
  {
   "cell_type": "markdown",
   "id": "96fcb9c8",
   "metadata": {},
   "source": [
    "nombre_infected       635\n",
    "nombre_sain          1923\n",
    "nombre_exposed        332\n",
    "nombre_recovered    17110\n",
    "Name: 190, dtype: int64"
   ]
  },
  {
   "cell_type": "markdown",
   "id": "0b4b5703",
   "metadata": {},
   "source": [
    "nombre_infected       618\n",
    "nombre_sain          1946\n",
    "nombre_exposed        316\n",
    "nombre_recovered    17120\n",
    "Name: 191, dtype: int64"
   ]
  },
  {
   "cell_type": "markdown",
   "id": "9edf8ffa",
   "metadata": {},
   "source": [
    "nombre_infected       605\n",
    "nombre_sain          1973\n",
    "nombre_exposed        321\n",
    "nombre_recovered    17101\n",
    "Name: 192, dtype: int64"
   ]
  },
  {
   "cell_type": "markdown",
   "id": "cba64683",
   "metadata": {},
   "source": [
    "nombre_infected       602\n",
    "nombre_sain          2000\n",
    "nombre_exposed        306\n",
    "nombre_recovered    17092\n",
    "Name: 193, dtype: int64"
   ]
  },
  {
   "cell_type": "markdown",
   "id": "cc64faf4",
   "metadata": {},
   "source": [
    "nombre_infected       610\n",
    "nombre_sain          2020\n",
    "nombre_exposed        301\n",
    "nombre_recovered    17069\n",
    "Name: 194, dtype: int64"
   ]
  },
  {
   "cell_type": "markdown",
   "id": "5883ee39",
   "metadata": {},
   "source": [
    "nombre_infected       609\n",
    "nombre_sain          2042\n",
    "nombre_exposed        311\n",
    "nombre_recovered    17038\n",
    "Name: 195, dtype: int64"
   ]
  },
  {
   "cell_type": "markdown",
   "id": "18118127",
   "metadata": {},
   "source": [
    "nombre_infected       610\n",
    "nombre_sain          2066\n",
    "nombre_exposed        306\n",
    "nombre_recovered    17018\n",
    "Name: 196, dtype: int64"
   ]
  },
  {
   "cell_type": "markdown",
   "id": "eb222f05",
   "metadata": {},
   "source": [
    "nombre_infected       590\n",
    "nombre_sain          2109\n",
    "nombre_exposed        314\n",
    "nombre_recovered    16987\n",
    "Name: 197, dtype: int64"
   ]
  },
  {
   "cell_type": "markdown",
   "id": "c66864aa",
   "metadata": {},
   "source": [
    "nombre_infected       596\n",
    "nombre_sain          2139\n",
    "nombre_exposed        326\n",
    "nombre_recovered    16939\n",
    "Name: 198, dtype: int64"
   ]
  },
  {
   "cell_type": "markdown",
   "id": "af95f2c6",
   "metadata": {},
   "source": [
    "nombre_infected       587\n",
    "nombre_sain          2184\n",
    "nombre_exposed        322\n",
    "nombre_recovered    16907\n",
    "Name: 199, dtype: int64"
   ]
  },
  {
   "cell_type": "markdown",
   "id": "081ba30c",
   "metadata": {},
   "source": [
    "nombre_infected       577\n",
    "nombre_sain          2221\n",
    "nombre_exposed        326\n",
    "nombre_recovered    16876\n",
    "Name: 200, dtype: int64"
   ]
  },
  {
   "cell_type": "markdown",
   "id": "ae14797d",
   "metadata": {},
   "source": [
    "nombre_infected       583\n",
    "nombre_sain          2246\n",
    "nombre_exposed        331\n",
    "nombre_recovered    16840\n",
    "Name: 201, dtype: int64"
   ]
  },
  {
   "cell_type": "markdown",
   "id": "031fac7b",
   "metadata": {},
   "source": [
    "nombre_infected       581\n",
    "nombre_sain          2266\n",
    "nombre_exposed        352\n",
    "nombre_recovered    16801\n",
    "Name: 202, dtype: int64"
   ]
  },
  {
   "cell_type": "markdown",
   "id": "7625a04f",
   "metadata": {},
   "source": [
    "nombre_infected       592\n",
    "nombre_sain          2321\n",
    "nombre_exposed        344\n",
    "nombre_recovered    16743\n",
    "Name: 203, dtype: int64"
   ]
  },
  {
   "cell_type": "markdown",
   "id": "72363ac6",
   "metadata": {},
   "source": [
    "nombre_infected       593\n",
    "nombre_sain          2379\n",
    "nombre_exposed        331\n",
    "nombre_recovered    16697\n",
    "Name: 204, dtype: int64"
   ]
  },
  {
   "cell_type": "markdown",
   "id": "302d8ef1",
   "metadata": {},
   "source": [
    "nombre_infected       596\n",
    "nombre_sain          2446\n",
    "nombre_exposed        312\n",
    "nombre_recovered    16646\n",
    "Name: 205, dtype: int64"
   ]
  },
  {
   "cell_type": "markdown",
   "id": "358b5de7",
   "metadata": {},
   "source": [
    "nombre_infected       613\n",
    "nombre_sain          2487\n",
    "nombre_exposed        305\n",
    "nombre_recovered    16595\n",
    "Name: 206, dtype: int64"
   ]
  },
  {
   "cell_type": "markdown",
   "id": "43f4fe9e",
   "metadata": {},
   "source": [
    "nombre_infected       597\n",
    "nombre_sain          2535\n",
    "nombre_exposed        335\n",
    "nombre_recovered    16533\n",
    "Name: 207, dtype: int64"
   ]
  },
  {
   "cell_type": "markdown",
   "id": "104e0047",
   "metadata": {},
   "source": [
    "nombre_infected       603\n",
    "nombre_sain          2563\n",
    "nombre_exposed        351\n",
    "nombre_recovered    16483\n",
    "Name: 208, dtype: int64"
   ]
  },
  {
   "cell_type": "markdown",
   "id": "b9895145",
   "metadata": {},
   "source": [
    "nombre_infected       616\n",
    "nombre_sain          2592\n",
    "nombre_exposed        382\n",
    "nombre_recovered    16410\n",
    "Name: 209, dtype: int64"
   ]
  },
  {
   "cell_type": "markdown",
   "id": "24fc3ad6",
   "metadata": {},
   "source": [
    "nombre_infected       633\n",
    "nombre_sain          2639\n",
    "nombre_exposed        381\n",
    "nombre_recovered    16347\n",
    "Name: 210, dtype: int64"
   ]
  },
  {
   "cell_type": "markdown",
   "id": "27539478",
   "metadata": {},
   "source": [
    "nombre_infected       644\n",
    "nombre_sain          2681\n",
    "nombre_exposed        394\n",
    "nombre_recovered    16281\n",
    "Name: 211, dtype: int64"
   ]
  },
  {
   "cell_type": "markdown",
   "id": "5489beff",
   "metadata": {},
   "source": [
    "nombre_infected       680\n",
    "nombre_sain          2721\n",
    "nombre_exposed        381\n",
    "nombre_recovered    16218\n",
    "Name: 212, dtype: int64"
   ]
  },
  {
   "cell_type": "markdown",
   "id": "34a4e4cf",
   "metadata": {},
   "source": [
    "nombre_infected       670\n",
    "nombre_sain          2749\n",
    "nombre_exposed        391\n",
    "nombre_recovered    16190\n",
    "Name: 213, dtype: int64"
   ]
  },
  {
   "cell_type": "markdown",
   "id": "28ae58b6",
   "metadata": {},
   "source": [
    "nombre_infected       688\n",
    "nombre_sain          2756\n",
    "nombre_exposed        411\n",
    "nombre_recovered    16145\n",
    "Name: 214, dtype: int64"
   ]
  },
  {
   "cell_type": "markdown",
   "id": "fa71eb4e",
   "metadata": {},
   "source": [
    "nombre_infected       681\n",
    "nombre_sain          2794\n",
    "nombre_exposed        420\n",
    "nombre_recovered    16105\n",
    "Name: 215, dtype: int64"
   ]
  },
  {
   "cell_type": "markdown",
   "id": "b4078cad",
   "metadata": {},
   "source": [
    "nombre_infected       686\n",
    "nombre_sain          2781\n",
    "nombre_exposed        445\n",
    "nombre_recovered    16088\n",
    "Name: 216, dtype: int64"
   ]
  },
  {
   "cell_type": "markdown",
   "id": "fba935a9",
   "metadata": {},
   "source": [
    "nombre_infected       694\n",
    "nombre_sain          2807\n",
    "nombre_exposed        430\n",
    "nombre_recovered    16069\n",
    "Name: 217, dtype: int64"
   ]
  },
  {
   "cell_type": "markdown",
   "id": "a39d94b9",
   "metadata": {},
   "source": [
    "nombre_infected       712\n",
    "nombre_sain          2769\n",
    "nombre_exposed        469\n",
    "nombre_recovered    16050\n",
    "Name: 218, dtype: int64"
   ]
  },
  {
   "cell_type": "markdown",
   "id": "b6e8d522",
   "metadata": {},
   "source": [
    "nombre_infected       726\n",
    "nombre_sain          2763\n",
    "nombre_exposed        493\n",
    "nombre_recovered    16018\n",
    "Name: 219, dtype: int64"
   ]
  },
  {
   "cell_type": "markdown",
   "id": "e754d401",
   "metadata": {},
   "source": [
    "nombre_infected       739\n",
    "nombre_sain          2761\n",
    "nombre_exposed        490\n",
    "nombre_recovered    16010\n",
    "Name: 220, dtype: int64"
   ]
  },
  {
   "cell_type": "markdown",
   "id": "f3c8fc02",
   "metadata": {},
   "source": [
    "nombre_infected       762\n",
    "nombre_sain          2738\n",
    "nombre_exposed        502\n",
    "nombre_recovered    15998\n",
    "Name: 221, dtype: int64"
   ]
  },
  {
   "cell_type": "markdown",
   "id": "42386ee9",
   "metadata": {},
   "source": [
    "nombre_infected       782\n",
    "nombre_sain          2741\n",
    "nombre_exposed        511\n",
    "nombre_recovered    15966\n",
    "Name: 222, dtype: int64"
   ]
  },
  {
   "cell_type": "markdown",
   "id": "1b6b8079",
   "metadata": {},
   "source": [
    "nombre_infected       818\n",
    "nombre_sain          2733\n",
    "nombre_exposed        512\n",
    "nombre_recovered    15937\n",
    "Name: 223, dtype: int64"
   ]
  },
  {
   "cell_type": "markdown",
   "id": "60c73735",
   "metadata": {},
   "source": [
    "nombre_infected       839\n",
    "nombre_sain          2707\n",
    "nombre_exposed        518\n",
    "nombre_recovered    15936\n",
    "Name: 224, dtype: int64"
   ]
  },
  {
   "cell_type": "markdown",
   "id": "24674755",
   "metadata": {},
   "source": [
    "nombre_infected       861\n",
    "nombre_sain          2662\n",
    "nombre_exposed        531\n",
    "nombre_recovered    15946\n",
    "Name: 225, dtype: int64"
   ]
  },
  {
   "cell_type": "markdown",
   "id": "af5d0faa",
   "metadata": {},
   "source": [
    "nombre_infected       876\n",
    "nombre_sain          2632\n",
    "nombre_exposed        539\n",
    "nombre_recovered    15953\n",
    "Name: 226, dtype: int64"
   ]
  },
  {
   "cell_type": "markdown",
   "id": "a89a8cd6",
   "metadata": {},
   "source": [
    "nombre_infected       901\n",
    "nombre_sain          2623\n",
    "nombre_exposed        544\n",
    "nombre_recovered    15932\n",
    "Name: 227, dtype: int64"
   ]
  },
  {
   "cell_type": "markdown",
   "id": "bffd39dd",
   "metadata": {},
   "source": [
    "nombre_infected       920\n",
    "nombre_sain          2582\n",
    "nombre_exposed        553\n",
    "nombre_recovered    15945\n",
    "Name: 228, dtype: int64"
   ]
  },
  {
   "cell_type": "markdown",
   "id": "2f6bb095",
   "metadata": {},
   "source": [
    "nombre_infected       956\n",
    "nombre_sain          2531\n",
    "nombre_exposed        550\n",
    "nombre_recovered    15963\n",
    "Name: 229, dtype: int64"
   ]
  },
  {
   "cell_type": "markdown",
   "id": "f44d439d",
   "metadata": {},
   "source": [
    "nombre_infected       935\n",
    "nombre_sain          2508\n",
    "nombre_exposed        572\n",
    "nombre_recovered    15985\n",
    "Name: 230, dtype: int64"
   ]
  },
  {
   "cell_type": "markdown",
   "id": "f97c97c8",
   "metadata": {},
   "source": [
    "nombre_infected       974\n",
    "nombre_sain          2489\n",
    "nombre_exposed        568\n",
    "nombre_recovered    15969\n",
    "Name: 231, dtype: int64"
   ]
  },
  {
   "cell_type": "markdown",
   "id": "635b7cfb",
   "metadata": {},
   "source": [
    "nombre_infected      1001\n",
    "nombre_sain          2450\n",
    "nombre_exposed        574\n",
    "nombre_recovered    15975\n",
    "Name: 232, dtype: int64"
   ]
  },
  {
   "cell_type": "markdown",
   "id": "b234ee52",
   "metadata": {},
   "source": [
    "nombre_infected      1009\n",
    "nombre_sain          2415\n",
    "nombre_exposed        579\n",
    "nombre_recovered    15997\n",
    "Name: 233, dtype: int64"
   ]
  },
  {
   "cell_type": "markdown",
   "id": "9f8ecab8",
   "metadata": {},
   "source": [
    "nombre_infected      1025\n",
    "nombre_sain          2381\n",
    "nombre_exposed        595\n",
    "nombre_recovered    15999\n",
    "Name: 234, dtype: int64"
   ]
  },
  {
   "cell_type": "markdown",
   "id": "ef7ca762",
   "metadata": {},
   "source": [
    "nombre_infected      1069\n",
    "nombre_sain          2368\n",
    "nombre_exposed        580\n",
    "nombre_recovered    15983\n",
    "Name: 235, dtype: int64"
   ]
  },
  {
   "cell_type": "markdown",
   "id": "c59c5821",
   "metadata": {},
   "source": [
    "nombre_infected      1086\n",
    "nombre_sain          2326\n",
    "nombre_exposed        583\n",
    "nombre_recovered    16005\n",
    "Name: 236, dtype: int64"
   ]
  },
  {
   "cell_type": "markdown",
   "id": "f02f7cfe",
   "metadata": {},
   "source": [
    "nombre_infected      1080\n",
    "nombre_sain          2300\n",
    "nombre_exposed        579\n",
    "nombre_recovered    16041\n",
    "Name: 237, dtype: int64"
   ]
  },
  {
   "cell_type": "markdown",
   "id": "f95aea7a",
   "metadata": {},
   "source": [
    "nombre_infected      1097\n",
    "nombre_sain          2251\n",
    "nombre_exposed        578\n",
    "nombre_recovered    16074\n",
    "Name: 238, dtype: int64"
   ]
  },
  {
   "cell_type": "markdown",
   "id": "f3cc167b",
   "metadata": {},
   "source": [
    "nombre_infected      1131\n",
    "nombre_sain          2207\n",
    "nombre_exposed        596\n",
    "nombre_recovered    16066\n",
    "Name: 239, dtype: int64"
   ]
  },
  {
   "cell_type": "markdown",
   "id": "185cc8e8",
   "metadata": {},
   "source": [
    "nombre_infected      1140\n",
    "nombre_sain          2178\n",
    "nombre_exposed        616\n",
    "nombre_recovered    16066\n",
    "Name: 240, dtype: int64"
   ]
  },
  {
   "cell_type": "markdown",
   "id": "32448a4e",
   "metadata": {},
   "source": [
    "nombre_infected      1147\n",
    "nombre_sain          2172\n",
    "nombre_exposed        585\n",
    "nombre_recovered    16096\n",
    "Name: 241, dtype: int64"
   ]
  },
  {
   "cell_type": "markdown",
   "id": "eacb4b8b",
   "metadata": {},
   "source": [
    "nombre_infected      1169\n",
    "nombre_sain          2160\n",
    "nombre_exposed        563\n",
    "nombre_recovered    16108\n",
    "Name: 242, dtype: int64"
   ]
  },
  {
   "cell_type": "markdown",
   "id": "a7ce9a6a",
   "metadata": {},
   "source": [
    "nombre_infected      1162\n",
    "nombre_sain          2111\n",
    "nombre_exposed        597\n",
    "nombre_recovered    16130\n",
    "Name: 243, dtype: int64"
   ]
  },
  {
   "cell_type": "markdown",
   "id": "2cfee079",
   "metadata": {},
   "source": [
    "nombre_infected      1171\n",
    "nombre_sain          2070\n",
    "nombre_exposed        588\n",
    "nombre_recovered    16171\n",
    "Name: 244, dtype: int64"
   ]
  },
  {
   "cell_type": "markdown",
   "id": "d8abbf40",
   "metadata": {},
   "source": [
    "nombre_infected      1192\n",
    "nombre_sain          2007\n",
    "nombre_exposed        606\n",
    "nombre_recovered    16195\n",
    "Name: 245, dtype: int64"
   ]
  },
  {
   "cell_type": "markdown",
   "id": "e041ae24",
   "metadata": {},
   "source": [
    "nombre_infected      1184\n",
    "nombre_sain          1971\n",
    "nombre_exposed        616\n",
    "nombre_recovered    16229\n",
    "Name: 246, dtype: int64"
   ]
  },
  {
   "cell_type": "markdown",
   "id": "ae6f211b",
   "metadata": {},
   "source": [
    "nombre_infected      1189\n",
    "nombre_sain          1937\n",
    "nombre_exposed        609\n",
    "nombre_recovered    16265\n",
    "Name: 247, dtype: int64"
   ]
  },
  {
   "cell_type": "markdown",
   "id": "2e4ebba6",
   "metadata": {},
   "source": [
    "nombre_infected      1186\n",
    "nombre_sain          1887\n",
    "nombre_exposed        620\n",
    "nombre_recovered    16307\n",
    "Name: 248, dtype: int64"
   ]
  },
  {
   "cell_type": "markdown",
   "id": "cf61c5d3",
   "metadata": {},
   "source": [
    "nombre_infected      1201\n",
    "nombre_sain          1831\n",
    "nombre_exposed        610\n",
    "nombre_recovered    16358\n",
    "Name: 249, dtype: int64"
   ]
  },
  {
   "cell_type": "markdown",
   "id": "7cb946e3",
   "metadata": {},
   "source": [
    "nombre_infected      1206\n",
    "nombre_sain          1806\n",
    "nombre_exposed        598\n",
    "nombre_recovered    16390\n",
    "Name: 250, dtype: int64"
   ]
  },
  {
   "cell_type": "markdown",
   "id": "e9bd2917",
   "metadata": {},
   "source": [
    "nombre_infected      1228\n",
    "nombre_sain          1788\n",
    "nombre_exposed        564\n",
    "nombre_recovered    16420\n",
    "Name: 251, dtype: int64"
   ]
  },
  {
   "cell_type": "markdown",
   "id": "e2593fe2",
   "metadata": {},
   "source": [
    "nombre_infected      1212\n",
    "nombre_sain          1772\n",
    "nombre_exposed        557\n",
    "nombre_recovered    16459\n",
    "Name: 252, dtype: int64"
   ]
  },
  {
   "cell_type": "markdown",
   "id": "7ffc94f5",
   "metadata": {},
   "source": [
    "nombre_infected      1210\n",
    "nombre_sain          1744\n",
    "nombre_exposed        542\n",
    "nombre_recovered    16504\n",
    "Name: 253, dtype: int64"
   ]
  },
  {
   "cell_type": "markdown",
   "id": "872237fc",
   "metadata": {},
   "source": [
    "nombre_infected      1202\n",
    "nombre_sain          1718\n",
    "nombre_exposed        536\n",
    "nombre_recovered    16544\n",
    "Name: 254, dtype: int64"
   ]
  },
  {
   "cell_type": "markdown",
   "id": "34df11a5",
   "metadata": {},
   "source": [
    "nombre_infected      1193\n",
    "nombre_sain          1719\n",
    "nombre_exposed        511\n",
    "nombre_recovered    16577\n",
    "Name: 255, dtype: int64"
   ]
  },
  {
   "cell_type": "markdown",
   "id": "f8544c58",
   "metadata": {},
   "source": [
    "nombre_infected      1179\n",
    "nombre_sain          1678\n",
    "nombre_exposed        515\n",
    "nombre_recovered    16628\n",
    "Name: 256, dtype: int64"
   ]
  },
  {
   "cell_type": "markdown",
   "id": "dcf550b4",
   "metadata": {},
   "source": [
    "nombre_infected      1162\n",
    "nombre_sain          1653\n",
    "nombre_exposed        515\n",
    "nombre_recovered    16670\n",
    "Name: 257, dtype: int64"
   ]
  },
  {
   "cell_type": "markdown",
   "id": "df6e9c94",
   "metadata": {},
   "source": [
    "nombre_infected      1142\n",
    "nombre_sain          1641\n",
    "nombre_exposed        536\n",
    "nombre_recovered    16681\n",
    "Name: 258, dtype: int64"
   ]
  },
  {
   "cell_type": "markdown",
   "id": "673402f6",
   "metadata": {},
   "source": [
    "nombre_infected      1121\n",
    "nombre_sain          1657\n",
    "nombre_exposed        498\n",
    "nombre_recovered    16724\n",
    "Name: 259, dtype: int64"
   ]
  },
  {
   "cell_type": "markdown",
   "id": "6b136d5a",
   "metadata": {},
   "source": [
    "nombre_infected      1099\n",
    "nombre_sain          1667\n",
    "nombre_exposed        496\n",
    "nombre_recovered    16738\n",
    "Name: 260, dtype: int64"
   ]
  },
  {
   "cell_type": "markdown",
   "id": "86a01960",
   "metadata": {},
   "source": [
    "nombre_infected      1069\n",
    "nombre_sain          1654\n",
    "nombre_exposed        507\n",
    "nombre_recovered    16770\n",
    "Name: 261, dtype: int64"
   ]
  },
  {
   "cell_type": "markdown",
   "id": "70e7e074",
   "metadata": {},
   "source": [
    "nombre_infected      1084\n",
    "nombre_sain          1660\n",
    "nombre_exposed        492\n",
    "nombre_recovered    16764\n",
    "Name: 262, dtype: int64"
   ]
  },
  {
   "cell_type": "markdown",
   "id": "633a33f7",
   "metadata": {},
   "source": [
    "nombre_infected      1062\n",
    "nombre_sain          1663\n",
    "nombre_exposed        484\n",
    "nombre_recovered    16791\n",
    "Name: 263, dtype: int64"
   ]
  },
  {
   "cell_type": "markdown",
   "id": "d4715bd0",
   "metadata": {},
   "source": [
    "nombre_infected      1058\n",
    "nombre_sain          1697\n",
    "nombre_exposed        462\n",
    "nombre_recovered    16783\n",
    "Name: 264, dtype: int64"
   ]
  },
  {
   "cell_type": "markdown",
   "id": "d71e1593",
   "metadata": {},
   "source": [
    "nombre_infected      1023\n",
    "nombre_sain          1718\n",
    "nombre_exposed        463\n",
    "nombre_recovered    16796\n",
    "Name: 265, dtype: int64"
   ]
  },
  {
   "cell_type": "markdown",
   "id": "642eae39",
   "metadata": {},
   "source": [
    "nombre_infected       999\n",
    "nombre_sain          1691\n",
    "nombre_exposed        500\n",
    "nombre_recovered    16810\n",
    "Name: 266, dtype: int64"
   ]
  },
  {
   "cell_type": "markdown",
   "id": "07fe2ec9",
   "metadata": {},
   "source": [
    "nombre_infected      1010\n",
    "nombre_sain          1689\n",
    "nombre_exposed        490\n",
    "nombre_recovered    16811\n",
    "Name: 267, dtype: int64"
   ]
  },
  {
   "cell_type": "markdown",
   "id": "f8a1cf01",
   "metadata": {},
   "source": [
    "nombre_infected      1006\n",
    "nombre_sain          1696\n",
    "nombre_exposed        480\n",
    "nombre_recovered    16818\n",
    "Name: 268, dtype: int64"
   ]
  },
  {
   "cell_type": "markdown",
   "id": "0d68d135",
   "metadata": {},
   "source": [
    "nombre_infected       999\n",
    "nombre_sain          1703\n",
    "nombre_exposed        467\n",
    "nombre_recovered    16831\n",
    "Name: 269, dtype: int64"
   ]
  },
  {
   "cell_type": "markdown",
   "id": "6bd763b5",
   "metadata": {},
   "source": [
    "nombre_infected      1009\n",
    "nombre_sain          1722\n",
    "nombre_exposed        447\n",
    "nombre_recovered    16822\n",
    "Name: 270, dtype: int64"
   ]
  },
  {
   "cell_type": "markdown",
   "id": "2fac1f8c",
   "metadata": {},
   "source": [
    "nombre_infected       986\n",
    "nombre_sain          1755\n",
    "nombre_exposed        449\n",
    "nombre_recovered    16810\n",
    "Name: 271, dtype: int64"
   ]
  },
  {
   "cell_type": "markdown",
   "id": "693710ba",
   "metadata": {},
   "source": [
    "nombre_infected       966\n",
    "nombre_sain          1761\n",
    "nombre_exposed        460\n",
    "nombre_recovered    16813\n",
    "Name: 272, dtype: int64"
   ]
  },
  {
   "cell_type": "markdown",
   "id": "91c8911d",
   "metadata": {},
   "source": [
    "nombre_infected       969\n",
    "nombre_sain          1775\n",
    "nombre_exposed        456\n",
    "nombre_recovered    16800\n",
    "Name: 273, dtype: int64"
   ]
  },
  {
   "cell_type": "markdown",
   "id": "a97564fa",
   "metadata": {},
   "source": [
    "nombre_infected       977\n",
    "nombre_sain          1802\n",
    "nombre_exposed        440\n",
    "nombre_recovered    16781\n",
    "Name: 274, dtype: int64"
   ]
  },
  {
   "cell_type": "markdown",
   "id": "ca21cb08",
   "metadata": {},
   "source": [
    "nombre_infected       995\n",
    "nombre_sain          1802\n",
    "nombre_exposed        444\n",
    "nombre_recovered    16759\n",
    "Name: 275, dtype: int64"
   ]
  },
  {
   "cell_type": "markdown",
   "id": "1e2cf2ed",
   "metadata": {},
   "source": [
    "nombre_infected       958\n",
    "nombre_sain          1842\n",
    "nombre_exposed        435\n",
    "nombre_recovered    16765\n",
    "Name: 276, dtype: int64"
   ]
  },
  {
   "cell_type": "markdown",
   "id": "fbe9b6cf",
   "metadata": {},
   "source": [
    "nombre_infected       955\n",
    "nombre_sain          1868\n",
    "nombre_exposed        431\n",
    "nombre_recovered    16746\n",
    "Name: 277, dtype: int64"
   ]
  },
  {
   "cell_type": "markdown",
   "id": "0ca63ebf",
   "metadata": {},
   "source": [
    "nombre_infected       940\n",
    "nombre_sain          1892\n",
    "nombre_exposed        434\n",
    "nombre_recovered    16734\n",
    "Name: 278, dtype: int64"
   ]
  },
  {
   "cell_type": "markdown",
   "id": "da6d5d0c",
   "metadata": {},
   "source": [
    "nombre_infected       911\n",
    "nombre_sain          1917\n",
    "nombre_exposed        434\n",
    "nombre_recovered    16738\n",
    "Name: 279, dtype: int64"
   ]
  },
  {
   "cell_type": "markdown",
   "id": "fcd5235d",
   "metadata": {},
   "source": [
    "nombre_infected       910\n",
    "nombre_sain          1902\n",
    "nombre_exposed        441\n",
    "nombre_recovered    16747\n",
    "Name: 280, dtype: int64"
   ]
  },
  {
   "cell_type": "markdown",
   "id": "acfcedd7",
   "metadata": {},
   "source": [
    "nombre_infected       896\n",
    "nombre_sain          1930\n",
    "nombre_exposed        446\n",
    "nombre_recovered    16728\n",
    "Name: 281, dtype: int64"
   ]
  },
  {
   "cell_type": "markdown",
   "id": "61e59692",
   "metadata": {},
   "source": [
    "nombre_infected       870\n",
    "nombre_sain          1944\n",
    "nombre_exposed        439\n",
    "nombre_recovered    16747\n",
    "Name: 282, dtype: int64"
   ]
  },
  {
   "cell_type": "markdown",
   "id": "cfcbccdc",
   "metadata": {},
   "source": [
    "nombre_infected       882\n",
    "nombre_sain          1972\n",
    "nombre_exposed        432\n",
    "nombre_recovered    16714\n",
    "Name: 283, dtype: int64"
   ]
  },
  {
   "cell_type": "markdown",
   "id": "e8a8ce2c",
   "metadata": {},
   "source": [
    "nombre_infected       874\n",
    "nombre_sain          2003\n",
    "nombre_exposed        418\n",
    "nombre_recovered    16705\n",
    "Name: 284, dtype: int64"
   ]
  },
  {
   "cell_type": "markdown",
   "id": "cba224f9",
   "metadata": {},
   "source": [
    "nombre_infected       863\n",
    "nombre_sain          2027\n",
    "nombre_exposed        424\n",
    "nombre_recovered    16686\n",
    "Name: 285, dtype: int64"
   ]
  },
  {
   "cell_type": "markdown",
   "id": "ef26f74e",
   "metadata": {},
   "source": [
    "nombre_infected       861\n",
    "nombre_sain          2033\n",
    "nombre_exposed        421\n",
    "nombre_recovered    16685\n",
    "Name: 286, dtype: int64"
   ]
  },
  {
   "cell_type": "markdown",
   "id": "c12bfe89",
   "metadata": {},
   "source": [
    "nombre_infected       854\n",
    "nombre_sain          2048\n",
    "nombre_exposed        411\n",
    "nombre_recovered    16687\n",
    "Name: 287, dtype: int64"
   ]
  },
  {
   "cell_type": "markdown",
   "id": "40d51f8c",
   "metadata": {},
   "source": [
    "nombre_infected       861\n",
    "nombre_sain          2063\n",
    "nombre_exposed        416\n",
    "nombre_recovered    16660\n",
    "Name: 288, dtype: int64"
   ]
  },
  {
   "cell_type": "markdown",
   "id": "f7d8712f",
   "metadata": {},
   "source": [
    "nombre_infected       838\n",
    "nombre_sain          2072\n",
    "nombre_exposed        413\n",
    "nombre_recovered    16677\n",
    "Name: 289, dtype: int64"
   ]
  },
  {
   "cell_type": "markdown",
   "id": "8d1231a1",
   "metadata": {},
   "source": [
    "nombre_infected       812\n",
    "nombre_sain          2077\n",
    "nombre_exposed        445\n",
    "nombre_recovered    16666\n",
    "Name: 290, dtype: int64"
   ]
  },
  {
   "cell_type": "markdown",
   "id": "cf4877f3",
   "metadata": {},
   "source": [
    "nombre_infected       789\n",
    "nombre_sain          2113\n",
    "nombre_exposed        444\n",
    "nombre_recovered    16654\n",
    "Name: 291, dtype: int64"
   ]
  },
  {
   "cell_type": "markdown",
   "id": "992c5b57",
   "metadata": {},
   "source": [
    "nombre_infected       776\n",
    "nombre_sain          2117\n",
    "nombre_exposed        446\n",
    "nombre_recovered    16661\n",
    "Name: 292, dtype: int64"
   ]
  },
  {
   "cell_type": "markdown",
   "id": "5f9371a1",
   "metadata": {},
   "source": [
    "nombre_infected       791\n",
    "nombre_sain          2158\n",
    "nombre_exposed        436\n",
    "nombre_recovered    16615\n",
    "Name: 293, dtype: int64"
   ]
  },
  {
   "cell_type": "markdown",
   "id": "5822b014",
   "metadata": {},
   "source": [
    "nombre_infected       787\n",
    "nombre_sain          2180\n",
    "nombre_exposed        433\n",
    "nombre_recovered    16600\n",
    "Name: 294, dtype: int64"
   ]
  },
  {
   "cell_type": "markdown",
   "id": "eb090bca",
   "metadata": {},
   "source": [
    "nombre_infected       780\n",
    "nombre_sain          2205\n",
    "nombre_exposed        436\n",
    "nombre_recovered    16579\n",
    "Name: 295, dtype: int64"
   ]
  },
  {
   "cell_type": "markdown",
   "id": "de485a70",
   "metadata": {},
   "source": [
    "nombre_infected       793\n",
    "nombre_sain          2233\n",
    "nombre_exposed        447\n",
    "nombre_recovered    16527\n",
    "Name: 296, dtype: int64"
   ]
  },
  {
   "cell_type": "markdown",
   "id": "e0e1a0b1",
   "metadata": {},
   "source": [
    "nombre_infected       763\n",
    "nombre_sain          2240\n",
    "nombre_exposed        462\n",
    "nombre_recovered    16535\n",
    "Name: 297, dtype: int64"
   ]
  },
  {
   "cell_type": "markdown",
   "id": "cdfe013d",
   "metadata": {},
   "source": [
    "nombre_infected       796\n",
    "nombre_sain          2288\n",
    "nombre_exposed        440\n",
    "nombre_recovered    16476\n",
    "Name: 298, dtype: int64"
   ]
  },
  {
   "cell_type": "markdown",
   "id": "b7687861",
   "metadata": {},
   "source": [
    "nombre_infected       808\n",
    "nombre_sain          2318\n",
    "nombre_exposed        422\n",
    "nombre_recovered    16452\n",
    "Name: 299, dtype: int64"
   ]
  },
  {
   "cell_type": "markdown",
   "id": "c04a7815",
   "metadata": {},
   "source": [
    "nombre_infected       799\n",
    "nombre_sain          2352\n",
    "nombre_exposed        414\n",
    "nombre_recovered    16435\n",
    "Name: 300, dtype: int64"
   ]
  },
  {
   "cell_type": "markdown",
   "id": "732730f6",
   "metadata": {},
   "source": [
    "nombre_infected       822\n",
    "nombre_sain          2415\n",
    "nombre_exposed        386\n",
    "nombre_recovered    16377\n",
    "Name: 301, dtype: int64"
   ]
  },
  {
   "cell_type": "markdown",
   "id": "86e1ed31",
   "metadata": {},
   "source": [
    "nombre_infected       805\n",
    "nombre_sain          2440\n",
    "nombre_exposed        404\n",
    "nombre_recovered    16351\n",
    "Name: 302, dtype: int64"
   ]
  },
  {
   "cell_type": "markdown",
   "id": "63d1f13e",
   "metadata": {},
   "source": [
    "nombre_infected       792\n",
    "nombre_sain          2446\n",
    "nombre_exposed        436\n",
    "nombre_recovered    16326\n",
    "Name: 303, dtype: int64"
   ]
  },
  {
   "cell_type": "markdown",
   "id": "2c27c665",
   "metadata": {},
   "source": [
    "nombre_infected       783\n",
    "nombre_sain          2470\n",
    "nombre_exposed        435\n",
    "nombre_recovered    16312\n",
    "Name: 304, dtype: int64"
   ]
  },
  {
   "cell_type": "markdown",
   "id": "fc11103a",
   "metadata": {},
   "source": [
    "nombre_infected       801\n",
    "nombre_sain          2516\n",
    "nombre_exposed        420\n",
    "nombre_recovered    16263\n",
    "Name: 305, dtype: int64"
   ]
  },
  {
   "cell_type": "markdown",
   "id": "c5aa684a",
   "metadata": {},
   "source": [
    "nombre_infected       792\n",
    "nombre_sain          2536\n",
    "nombre_exposed        424\n",
    "nombre_recovered    16248\n",
    "Name: 306, dtype: int64"
   ]
  },
  {
   "cell_type": "markdown",
   "id": "604e02ad",
   "metadata": {},
   "source": [
    "nombre_infected       792\n",
    "nombre_sain          2562\n",
    "nombre_exposed        442\n",
    "nombre_recovered    16204\n",
    "Name: 307, dtype: int64"
   ]
  },
  {
   "cell_type": "markdown",
   "id": "03a35fc2",
   "metadata": {},
   "source": [
    "nombre_infected       790\n",
    "nombre_sain          2557\n",
    "nombre_exposed        471\n",
    "nombre_recovered    16182\n",
    "Name: 308, dtype: int64"
   ]
  },
  {
   "cell_type": "markdown",
   "id": "b7b7d291",
   "metadata": {},
   "source": [
    "nombre_infected       777\n",
    "nombre_sain          2568\n",
    "nombre_exposed        495\n",
    "nombre_recovered    16160\n",
    "Name: 309, dtype: int64"
   ]
  },
  {
   "cell_type": "markdown",
   "id": "00bc4201",
   "metadata": {},
   "source": [
    "nombre_infected       800\n",
    "nombre_sain          2553\n",
    "nombre_exposed        502\n",
    "nombre_recovered    16145\n",
    "Name: 310, dtype: int64"
   ]
  },
  {
   "cell_type": "markdown",
   "id": "ad203bfe",
   "metadata": {},
   "source": [
    "nombre_infected       836\n",
    "nombre_sain          2563\n",
    "nombre_exposed        496\n",
    "nombre_recovered    16105\n",
    "Name: 311, dtype: int64"
   ]
  },
  {
   "cell_type": "markdown",
   "id": "ac92e572",
   "metadata": {},
   "source": [
    "nombre_infected       842\n",
    "nombre_sain          2575\n",
    "nombre_exposed        497\n",
    "nombre_recovered    16086\n",
    "Name: 312, dtype: int64"
   ]
  },
  {
   "cell_type": "markdown",
   "id": "030dd75e",
   "metadata": {},
   "source": [
    "nombre_infected       850\n",
    "nombre_sain          2578\n",
    "nombre_exposed        473\n",
    "nombre_recovered    16099\n",
    "Name: 313, dtype: int64"
   ]
  },
  {
   "cell_type": "markdown",
   "id": "77c31a69",
   "metadata": {},
   "source": [
    "nombre_infected       841\n",
    "nombre_sain          2571\n",
    "nombre_exposed        498\n",
    "nombre_recovered    16090\n",
    "Name: 314, dtype: int64"
   ]
  },
  {
   "cell_type": "markdown",
   "id": "90dcd873",
   "metadata": {},
   "source": [
    "nombre_infected       826\n",
    "nombre_sain          2556\n",
    "nombre_exposed        523\n",
    "nombre_recovered    16095\n",
    "Name: 315, dtype: int64"
   ]
  },
  {
   "cell_type": "markdown",
   "id": "4c71eb07",
   "metadata": {},
   "source": [
    "nombre_infected       849\n",
    "nombre_sain          2549\n",
    "nombre_exposed        526\n",
    "nombre_recovered    16076\n",
    "Name: 316, dtype: int64"
   ]
  },
  {
   "cell_type": "markdown",
   "id": "da4c8803",
   "metadata": {},
   "source": [
    "nombre_infected       884\n",
    "nombre_sain          2544\n",
    "nombre_exposed        520\n",
    "nombre_recovered    16052\n",
    "Name: 317, dtype: int64"
   ]
  },
  {
   "cell_type": "markdown",
   "id": "3a00040b",
   "metadata": {},
   "source": [
    "nombre_infected       898\n",
    "nombre_sain          2560\n",
    "nombre_exposed        506\n",
    "nombre_recovered    16036\n",
    "Name: 318, dtype: int64"
   ]
  },
  {
   "cell_type": "markdown",
   "id": "54877820",
   "metadata": {},
   "source": [
    "nombre_infected       880\n",
    "nombre_sain          2547\n",
    "nombre_exposed        511\n",
    "nombre_recovered    16062\n",
    "Name: 319, dtype: int64"
   ]
  },
  {
   "cell_type": "markdown",
   "id": "f13c6541",
   "metadata": {},
   "source": [
    "nombre_infected       874\n",
    "nombre_sain          2536\n",
    "nombre_exposed        524\n",
    "nombre_recovered    16066\n",
    "Name: 320, dtype: int64"
   ]
  },
  {
   "cell_type": "markdown",
   "id": "d1e0cc16",
   "metadata": {},
   "source": [
    "nombre_infected       884\n",
    "nombre_sain          2488\n",
    "nombre_exposed        548\n",
    "nombre_recovered    16080\n",
    "Name: 321, dtype: int64"
   ]
  },
  {
   "cell_type": "markdown",
   "id": "f1119f55",
   "metadata": {},
   "source": [
    "nombre_infected       901\n",
    "nombre_sain          2488\n",
    "nombre_exposed        550\n",
    "nombre_recovered    16061\n",
    "Name: 322, dtype: int64"
   ]
  },
  {
   "cell_type": "markdown",
   "id": "5d3fcff1",
   "metadata": {},
   "source": [
    "nombre_infected       908\n",
    "nombre_sain          2478\n",
    "nombre_exposed        566\n",
    "nombre_recovered    16048\n",
    "Name: 323, dtype: int64"
   ]
  },
  {
   "cell_type": "markdown",
   "id": "81d5daa8",
   "metadata": {},
   "source": [
    "nombre_infected       915\n",
    "nombre_sain          2467\n",
    "nombre_exposed        554\n",
    "nombre_recovered    16064\n",
    "Name: 324, dtype: int64"
   ]
  },
  {
   "cell_type": "markdown",
   "id": "72a4e341",
   "metadata": {},
   "source": [
    "nombre_infected       928\n",
    "nombre_sain          2453\n",
    "nombre_exposed        544\n",
    "nombre_recovered    16075\n",
    "Name: 325, dtype: int64"
   ]
  },
  {
   "cell_type": "markdown",
   "id": "7a1e0980",
   "metadata": {},
   "source": [
    "nombre_infected       949\n",
    "nombre_sain          2454\n",
    "nombre_exposed        522\n",
    "nombre_recovered    16075\n",
    "Name: 326, dtype: int64"
   ]
  },
  {
   "cell_type": "markdown",
   "id": "53d6fe5f",
   "metadata": {},
   "source": [
    "nombre_infected       949\n",
    "nombre_sain          2439\n",
    "nombre_exposed        544\n",
    "nombre_recovered    16068\n",
    "Name: 327, dtype: int64"
   ]
  },
  {
   "cell_type": "markdown",
   "id": "6b413926",
   "metadata": {},
   "source": [
    "nombre_infected       956\n",
    "nombre_sain          2409\n",
    "nombre_exposed        548\n",
    "nombre_recovered    16087\n",
    "Name: 328, dtype: int64"
   ]
  },
  {
   "cell_type": "markdown",
   "id": "92273ef9",
   "metadata": {},
   "source": [
    "nombre_infected       948\n",
    "nombre_sain          2366\n",
    "nombre_exposed        586\n",
    "nombre_recovered    16100\n",
    "Name: 329, dtype: int64"
   ]
  },
  {
   "cell_type": "markdown",
   "id": "f07278ec",
   "metadata": {},
   "source": [
    "nombre_infected       956\n",
    "nombre_sain          2387\n",
    "nombre_exposed        560\n",
    "nombre_recovered    16097\n",
    "Name: 330, dtype: int64"
   ]
  },
  {
   "cell_type": "markdown",
   "id": "0f1a390c",
   "metadata": {},
   "source": [
    "nombre_infected       970\n",
    "nombre_sain          2344\n",
    "nombre_exposed        572\n",
    "nombre_recovered    16114\n",
    "Name: 331, dtype: int64"
   ]
  },
  {
   "cell_type": "markdown",
   "id": "9ae2674e",
   "metadata": {},
   "source": [
    "nombre_infected       973\n",
    "nombre_sain          2318\n",
    "nombre_exposed        598\n",
    "nombre_recovered    16111\n",
    "Name: 332, dtype: int64"
   ]
  },
  {
   "cell_type": "markdown",
   "id": "639f58c8",
   "metadata": {},
   "source": [
    "nombre_infected       998\n",
    "nombre_sain          2277\n",
    "nombre_exposed        604\n",
    "nombre_recovered    16121\n",
    "Name: 333, dtype: int64"
   ]
  },
  {
   "cell_type": "markdown",
   "id": "5a7db843",
   "metadata": {},
   "source": [
    "nombre_infected       986\n",
    "nombre_sain          2244\n",
    "nombre_exposed        637\n",
    "nombre_recovered    16133\n",
    "Name: 334, dtype: int64"
   ]
  },
  {
   "cell_type": "markdown",
   "id": "0809dd13",
   "metadata": {},
   "source": [
    "nombre_infected       984\n",
    "nombre_sain          2208\n",
    "nombre_exposed        658\n",
    "nombre_recovered    16150\n",
    "Name: 335, dtype: int64"
   ]
  },
  {
   "cell_type": "markdown",
   "id": "5987d231",
   "metadata": {},
   "source": [
    "nombre_infected      1004\n",
    "nombre_sain          2191\n",
    "nombre_exposed        631\n",
    "nombre_recovered    16174\n",
    "Name: 336, dtype: int64"
   ]
  },
  {
   "cell_type": "markdown",
   "id": "3c1b909f",
   "metadata": {},
   "source": [
    "nombre_infected       999\n",
    "nombre_sain          2176\n",
    "nombre_exposed        622\n",
    "nombre_recovered    16203\n",
    "Name: 337, dtype: int64"
   ]
  },
  {
   "cell_type": "markdown",
   "id": "be85499c",
   "metadata": {},
   "source": [
    "nombre_infected      1032\n",
    "nombre_sain          2162\n",
    "nombre_exposed        586\n",
    "nombre_recovered    16220\n",
    "Name: 338, dtype: int64"
   ]
  },
  {
   "cell_type": "markdown",
   "id": "0ade4f52",
   "metadata": {},
   "source": [
    "nombre_infected      1044\n",
    "nombre_sain          2145\n",
    "nombre_exposed        584\n",
    "nombre_recovered    16227\n",
    "Name: 339, dtype: int64"
   ]
  },
  {
   "cell_type": "markdown",
   "id": "de0a6f17",
   "metadata": {},
   "source": [
    "nombre_infected      1042\n",
    "nombre_sain          2119\n",
    "nombre_exposed        577\n",
    "nombre_recovered    16262\n",
    "Name: 340, dtype: int64"
   ]
  },
  {
   "cell_type": "markdown",
   "id": "9c2a9815",
   "metadata": {},
   "source": [
    "nombre_infected      1044\n",
    "nombre_sain          2102\n",
    "nombre_exposed        553\n",
    "nombre_recovered    16301\n",
    "Name: 341, dtype: int64"
   ]
  },
  {
   "cell_type": "markdown",
   "id": "0b708b56",
   "metadata": {},
   "source": [
    "nombre_infected      1030\n",
    "nombre_sain          2065\n",
    "nombre_exposed        569\n",
    "nombre_recovered    16336\n",
    "Name: 342, dtype: int64"
   ]
  },
  {
   "cell_type": "markdown",
   "id": "97d24da4",
   "metadata": {},
   "source": [
    "nombre_infected      1021\n",
    "nombre_sain          2030\n",
    "nombre_exposed        576\n",
    "nombre_recovered    16373\n",
    "Name: 343, dtype: int64"
   ]
  },
  {
   "cell_type": "markdown",
   "id": "88b727e6",
   "metadata": {},
   "source": [
    "nombre_infected      1031\n",
    "nombre_sain          2008\n",
    "nombre_exposed        549\n",
    "nombre_recovered    16412\n",
    "Name: 344, dtype: int64"
   ]
  },
  {
   "cell_type": "markdown",
   "id": "f29f89cb",
   "metadata": {},
   "source": [
    "nombre_infected      1025\n",
    "nombre_sain          1985\n",
    "nombre_exposed        552\n",
    "nombre_recovered    16438\n",
    "Name: 345, dtype: int64"
   ]
  },
  {
   "cell_type": "markdown",
   "id": "972b737d",
   "metadata": {},
   "source": [
    "nombre_infected      1002\n",
    "nombre_sain          1986\n",
    "nombre_exposed        562\n",
    "nombre_recovered    16450\n",
    "Name: 346, dtype: int64"
   ]
  },
  {
   "cell_type": "markdown",
   "id": "5746d351",
   "metadata": {},
   "source": [
    "nombre_infected       987\n",
    "nombre_sain          2012\n",
    "nombre_exposed        534\n",
    "nombre_recovered    16467\n",
    "Name: 347, dtype: int64"
   ]
  },
  {
   "cell_type": "markdown",
   "id": "0145e0b6",
   "metadata": {},
   "source": [
    "nombre_infected      1006\n",
    "nombre_sain          1997\n",
    "nombre_exposed        507\n",
    "nombre_recovered    16490\n",
    "Name: 348, dtype: int64"
   ]
  },
  {
   "cell_type": "markdown",
   "id": "45453bf3",
   "metadata": {},
   "source": [
    "nombre_infected      1010\n",
    "nombre_sain          1989\n",
    "nombre_exposed        503\n",
    "nombre_recovered    16498\n",
    "Name: 349, dtype: int64"
   ]
  },
  {
   "cell_type": "markdown",
   "id": "c0c2fe15",
   "metadata": {},
   "source": [
    "nombre_infected       991\n",
    "nombre_sain          1994\n",
    "nombre_exposed        511\n",
    "nombre_recovered    16504\n",
    "Name: 350, dtype: int64"
   ]
  },
  {
   "cell_type": "markdown",
   "id": "ec77b344",
   "metadata": {},
   "source": [
    "nombre_infected       990\n",
    "nombre_sain          1966\n",
    "nombre_exposed        524\n",
    "nombre_recovered    16520\n",
    "Name: 351, dtype: int64"
   ]
  },
  {
   "cell_type": "markdown",
   "id": "67b9058b",
   "metadata": {},
   "source": [
    "nombre_infected       965\n",
    "nombre_sain          1949\n",
    "nombre_exposed        532\n",
    "nombre_recovered    16554\n",
    "Name: 352, dtype: int64"
   ]
  },
  {
   "cell_type": "markdown",
   "id": "e34ad5ef",
   "metadata": {},
   "source": [
    "nombre_infected       986\n",
    "nombre_sain          1928\n",
    "nombre_exposed        508\n",
    "nombre_recovered    16578\n",
    "Name: 353, dtype: int64"
   ]
  },
  {
   "cell_type": "markdown",
   "id": "04047ca6",
   "metadata": {},
   "source": [
    "nombre_infected       986\n",
    "nombre_sain          1916\n",
    "nombre_exposed        500\n",
    "nombre_recovered    16598\n",
    "Name: 354, dtype: int64"
   ]
  },
  {
   "cell_type": "markdown",
   "id": "0e0c3876",
   "metadata": {},
   "source": [
    "nombre_infected       980\n",
    "nombre_sain          1895\n",
    "nombre_exposed        493\n",
    "nombre_recovered    16632\n",
    "Name: 355, dtype: int64"
   ]
  },
  {
   "cell_type": "markdown",
   "id": "50494264",
   "metadata": {},
   "source": [
    "nombre_infected       976\n",
    "nombre_sain          1884\n",
    "nombre_exposed        491\n",
    "nombre_recovered    16649\n",
    "Name: 356, dtype: int64"
   ]
  },
  {
   "cell_type": "markdown",
   "id": "30bcf383",
   "metadata": {},
   "source": [
    "nombre_infected       969\n",
    "nombre_sain          1878\n",
    "nombre_exposed        469\n",
    "nombre_recovered    16684\n",
    "Name: 357, dtype: int64"
   ]
  },
  {
   "cell_type": "markdown",
   "id": "9a030518",
   "metadata": {},
   "source": [
    "nombre_infected       942\n",
    "nombre_sain          1875\n",
    "nombre_exposed        472\n",
    "nombre_recovered    16711\n",
    "Name: 358, dtype: int64"
   ]
  },
  {
   "cell_type": "markdown",
   "id": "ad3c7c9e",
   "metadata": {},
   "source": [
    "nombre_infected       911\n",
    "nombre_sain          1868\n",
    "nombre_exposed        468\n",
    "nombre_recovered    16753\n",
    "Name: 359, dtype: int64"
   ]
  },
  {
   "cell_type": "markdown",
   "id": "c844f9c8",
   "metadata": {},
   "source": [
    "nombre_infected       916\n",
    "nombre_sain          1888\n",
    "nombre_exposed        428\n",
    "nombre_recovered    16768\n",
    "Name: 360, dtype: int64"
   ]
  },
  {
   "cell_type": "markdown",
   "id": "4bd02a4a",
   "metadata": {},
   "source": [
    "nombre_infected       903\n",
    "nombre_sain          1881\n",
    "nombre_exposed        430\n",
    "nombre_recovered    16786\n",
    "Name: 361, dtype: int64"
   ]
  },
  {
   "cell_type": "markdown",
   "id": "6fe34c79",
   "metadata": {},
   "source": [
    "nombre_infected       877\n",
    "nombre_sain          1894\n",
    "nombre_exposed        429\n",
    "nombre_recovered    16800\n",
    "Name: 362, dtype: int64"
   ]
  },
  {
   "cell_type": "markdown",
   "id": "2caaca57",
   "metadata": {},
   "source": [
    "nombre_infected       883\n",
    "nombre_sain          1893\n",
    "nombre_exposed        415\n",
    "nombre_recovered    16809\n",
    "Name: 363, dtype: int64"
   ]
  },
  {
   "cell_type": "markdown",
   "id": "e7fc50fd",
   "metadata": {},
   "source": [
    "nombre_infected       881\n",
    "nombre_sain          1881\n",
    "nombre_exposed        420\n",
    "nombre_recovered    16818\n",
    "Name: 364, dtype: int64"
   ]
  },
  {
   "cell_type": "markdown",
   "id": "19fabddf",
   "metadata": {},
   "source": [
    "nombre_infected       876\n",
    "nombre_sain          1898\n",
    "nombre_exposed        411\n",
    "nombre_recovered    16815\n",
    "Name: 365, dtype: int64"
   ]
  },
  {
   "cell_type": "markdown",
   "id": "50b10df4",
   "metadata": {},
   "source": [
    "nombre_infected       861\n",
    "nombre_sain          1885\n",
    "nombre_exposed        423\n",
    "nombre_recovered    16831\n",
    "Name: 366, dtype: int64"
   ]
  },
  {
   "cell_type": "markdown",
   "id": "ca2dda0a",
   "metadata": {},
   "source": [
    "nombre_infected       841\n",
    "nombre_sain          1904\n",
    "nombre_exposed        415\n",
    "nombre_recovered    16840\n",
    "Name: 367, dtype: int64"
   ]
  },
  {
   "cell_type": "markdown",
   "id": "720a6a6f",
   "metadata": {},
   "source": [
    "nombre_infected       854\n",
    "nombre_sain          1899\n",
    "nombre_exposed        410\n",
    "nombre_recovered    16837\n",
    "Name: 368, dtype: int64"
   ]
  },
  {
   "cell_type": "markdown",
   "id": "ffcc4152",
   "metadata": {},
   "source": [
    "nombre_infected       834\n",
    "nombre_sain          1909\n",
    "nombre_exposed        410\n",
    "nombre_recovered    16847\n",
    "Name: 369, dtype: int64"
   ]
  },
  {
   "cell_type": "markdown",
   "id": "a921b5bf",
   "metadata": {},
   "source": [
    "nombre_infected       820\n",
    "nombre_sain          1889\n",
    "nombre_exposed        418\n",
    "nombre_recovered    16873\n",
    "Name: 370, dtype: int64"
   ]
  },
  {
   "cell_type": "markdown",
   "id": "ea753161",
   "metadata": {},
   "source": [
    "nombre_infected       803\n",
    "nombre_sain          1904\n",
    "nombre_exposed        419\n",
    "nombre_recovered    16874\n",
    "Name: 371, dtype: int64"
   ]
  },
  {
   "cell_type": "markdown",
   "id": "3862cb89",
   "metadata": {},
   "source": [
    "nombre_infected       813\n",
    "nombre_sain          1897\n",
    "nombre_exposed        421\n",
    "nombre_recovered    16869\n",
    "Name: 372, dtype: int64"
   ]
  },
  {
   "cell_type": "markdown",
   "id": "560b2b86",
   "metadata": {},
   "source": [
    "nombre_infected       801\n",
    "nombre_sain          1917\n",
    "nombre_exposed        421\n",
    "nombre_recovered    16861\n",
    "Name: 373, dtype: int64"
   ]
  },
  {
   "cell_type": "markdown",
   "id": "32fc83b2",
   "metadata": {},
   "source": [
    "nombre_infected       805\n",
    "nombre_sain          1946\n",
    "nombre_exposed        398\n",
    "nombre_recovered    16851\n",
    "Name: 374, dtype: int64"
   ]
  },
  {
   "cell_type": "markdown",
   "id": "b69c6d4d",
   "metadata": {},
   "source": [
    "nombre_infected       797\n",
    "nombre_sain          1942\n",
    "nombre_exposed        408\n",
    "nombre_recovered    16853\n",
    "Name: 375, dtype: int64"
   ]
  },
  {
   "cell_type": "markdown",
   "id": "8dbc5e90",
   "metadata": {},
   "source": [
    "nombre_infected       788\n",
    "nombre_sain          1962\n",
    "nombre_exposed        417\n",
    "nombre_recovered    16833\n",
    "Name: 376, dtype: int64"
   ]
  },
  {
   "cell_type": "markdown",
   "id": "ee53dc8b",
   "metadata": {},
   "source": [
    "nombre_infected       785\n",
    "nombre_sain          1984\n",
    "nombre_exposed        410\n",
    "nombre_recovered    16821\n",
    "Name: 377, dtype: int64"
   ]
  },
  {
   "cell_type": "markdown",
   "id": "04a3d186",
   "metadata": {},
   "source": [
    "nombre_infected       762\n",
    "nombre_sain          1981\n",
    "nombre_exposed        443\n",
    "nombre_recovered    16814\n",
    "Name: 378, dtype: int64"
   ]
  },
  {
   "cell_type": "markdown",
   "id": "33fd2752",
   "metadata": {},
   "source": [
    "nombre_infected       765\n",
    "nombre_sain          2011\n",
    "nombre_exposed        441\n",
    "nombre_recovered    16783\n",
    "Name: 379, dtype: int64"
   ]
  },
  {
   "cell_type": "markdown",
   "id": "19e6998d",
   "metadata": {},
   "source": [
    "nombre_infected       769\n",
    "nombre_sain          2043\n",
    "nombre_exposed        415\n",
    "nombre_recovered    16773\n",
    "Name: 380, dtype: int64"
   ]
  },
  {
   "cell_type": "markdown",
   "id": "2fa4f77c",
   "metadata": {},
   "source": [
    "nombre_infected       771\n",
    "nombre_sain          2049\n",
    "nombre_exposed        419\n",
    "nombre_recovered    16761\n",
    "Name: 381, dtype: int64"
   ]
  },
  {
   "cell_type": "markdown",
   "id": "ba28de72",
   "metadata": {},
   "source": [
    "nombre_infected       780\n",
    "nombre_sain          2031\n",
    "nombre_exposed        415\n",
    "nombre_recovered    16774\n",
    "Name: 382, dtype: int64"
   ]
  },
  {
   "cell_type": "markdown",
   "id": "519ce106",
   "metadata": {},
   "source": [
    "nombre_infected       765\n",
    "nombre_sain          2038\n",
    "nombre_exposed        438\n",
    "nombre_recovered    16759\n",
    "Name: 383, dtype: int64"
   ]
  },
  {
   "cell_type": "markdown",
   "id": "dc1b4855",
   "metadata": {},
   "source": [
    "nombre_infected       745\n",
    "nombre_sain          2065\n",
    "nombre_exposed        428\n",
    "nombre_recovered    16762\n",
    "Name: 384, dtype: int64"
   ]
  },
  {
   "cell_type": "markdown",
   "id": "63780beb",
   "metadata": {},
   "source": [
    "nombre_infected       750\n",
    "nombre_sain          2074\n",
    "nombre_exposed        435\n",
    "nombre_recovered    16741\n",
    "Name: 385, dtype: int64"
   ]
  },
  {
   "cell_type": "markdown",
   "id": "4676b6e8",
   "metadata": {},
   "source": [
    "nombre_infected       769\n",
    "nombre_sain          2100\n",
    "nombre_exposed        420\n",
    "nombre_recovered    16711\n",
    "Name: 386, dtype: int64"
   ]
  },
  {
   "cell_type": "markdown",
   "id": "42cc41d3",
   "metadata": {},
   "source": [
    "nombre_infected       777\n",
    "nombre_sain          2106\n",
    "nombre_exposed        423\n",
    "nombre_recovered    16694\n",
    "Name: 387, dtype: int64"
   ]
  },
  {
   "cell_type": "markdown",
   "id": "c2f936cd",
   "metadata": {},
   "source": [
    "nombre_infected       768\n",
    "nombre_sain          2112\n",
    "nombre_exposed        424\n",
    "nombre_recovered    16696\n",
    "Name: 388, dtype: int64"
   ]
  },
  {
   "cell_type": "markdown",
   "id": "cd699cfe",
   "metadata": {},
   "source": [
    "nombre_infected       753\n",
    "nombre_sain          2144\n",
    "nombre_exposed        417\n",
    "nombre_recovered    16686\n",
    "Name: 389, dtype: int64"
   ]
  },
  {
   "cell_type": "markdown",
   "id": "1f6fa5f4",
   "metadata": {},
   "source": [
    "nombre_infected       748\n",
    "nombre_sain          2172\n",
    "nombre_exposed        425\n",
    "nombre_recovered    16655\n",
    "Name: 390, dtype: int64"
   ]
  },
  {
   "cell_type": "markdown",
   "id": "020fe529",
   "metadata": {},
   "source": [
    "nombre_infected       740\n",
    "nombre_sain          2210\n",
    "nombre_exposed        428\n",
    "nombre_recovered    16622\n",
    "Name: 391, dtype: int64"
   ]
  },
  {
   "cell_type": "markdown",
   "id": "71457b0f",
   "metadata": {},
   "source": [
    "nombre_infected       735\n",
    "nombre_sain          2237\n",
    "nombre_exposed        440\n",
    "nombre_recovered    16588\n",
    "Name: 392, dtype: int64"
   ]
  },
  {
   "cell_type": "markdown",
   "id": "0e5b11d2",
   "metadata": {},
   "source": [
    "nombre_infected       728\n",
    "nombre_sain          2274\n",
    "nombre_exposed        438\n",
    "nombre_recovered    16560\n",
    "Name: 393, dtype: int64"
   ]
  },
  {
   "cell_type": "markdown",
   "id": "6150455b",
   "metadata": {},
   "source": [
    "nombre_infected       741\n",
    "nombre_sain          2298\n",
    "nombre_exposed        425\n",
    "nombre_recovered    16536\n",
    "Name: 394, dtype: int64"
   ]
  },
  {
   "cell_type": "markdown",
   "id": "bb3ed0ca",
   "metadata": {},
   "source": [
    "nombre_infected       730\n",
    "nombre_sain          2303\n",
    "nombre_exposed        444\n",
    "nombre_recovered    16523\n",
    "Name: 395, dtype: int64"
   ]
  },
  {
   "cell_type": "markdown",
   "id": "ab2a0502",
   "metadata": {},
   "source": [
    "nombre_infected       749\n",
    "nombre_sain          2349\n",
    "nombre_exposed        429\n",
    "nombre_recovered    16473\n",
    "Name: 396, dtype: int64"
   ]
  },
  {
   "cell_type": "markdown",
   "id": "46d033fa",
   "metadata": {},
   "source": [
    "nombre_infected       741\n",
    "nombre_sain          2384\n",
    "nombre_exposed        421\n",
    "nombre_recovered    16454\n",
    "Name: 397, dtype: int64"
   ]
  },
  {
   "cell_type": "markdown",
   "id": "9db1b09a",
   "metadata": {},
   "source": [
    "nombre_infected       741\n",
    "nombre_sain          2406\n",
    "nombre_exposed        431\n",
    "nombre_recovered    16422\n",
    "Name: 398, dtype: int64"
   ]
  },
  {
   "cell_type": "markdown",
   "id": "7e4c4e9f",
   "metadata": {},
   "source": [
    "nombre_infected       728\n",
    "nombre_sain          2449\n",
    "nombre_exposed        453\n",
    "nombre_recovered    16370\n",
    "Name: 399, dtype: int64"
   ]
  },
  {
   "cell_type": "markdown",
   "id": "af75e181",
   "metadata": {},
   "source": [
    "nombre_infected       716\n",
    "nombre_sain          2465\n",
    "nombre_exposed        461\n",
    "nombre_recovered    16358\n",
    "Name: 400, dtype: int64"
   ]
  },
  {
   "cell_type": "markdown",
   "id": "17a37187",
   "metadata": {},
   "source": [
    "nombre_infected       753\n",
    "nombre_sain          2514\n",
    "nombre_exposed        444\n",
    "nombre_recovered    16289\n",
    "Name: 401, dtype: int64"
   ]
  },
  {
   "cell_type": "markdown",
   "id": "ead45628",
   "metadata": {},
   "source": [
    "nombre_infected       740\n",
    "nombre_sain          2533\n",
    "nombre_exposed        480\n",
    "nombre_recovered    16247\n",
    "Name: 402, dtype: int64"
   ]
  },
  {
   "cell_type": "markdown",
   "id": "319a7965",
   "metadata": {},
   "source": [
    "nombre_infected       758\n",
    "nombre_sain          2530\n",
    "nombre_exposed        495\n",
    "nombre_recovered    16217\n",
    "Name: 403, dtype: int64"
   ]
  },
  {
   "cell_type": "markdown",
   "id": "e03446eb",
   "metadata": {},
   "source": [
    "nombre_infected       788\n",
    "nombre_sain          2565\n",
    "nombre_exposed        480\n",
    "nombre_recovered    16167\n",
    "Name: 404, dtype: int64"
   ]
  },
  {
   "cell_type": "markdown",
   "id": "07ceb0a4",
   "metadata": {},
   "source": [
    "nombre_infected       802\n",
    "nombre_sain          2592\n",
    "nombre_exposed        481\n",
    "nombre_recovered    16125\n",
    "Name: 405, dtype: int64"
   ]
  },
  {
   "cell_type": "markdown",
   "id": "df66dd37",
   "metadata": {},
   "source": [
    "nombre_infected       787\n",
    "nombre_sain          2616\n",
    "nombre_exposed        495\n",
    "nombre_recovered    16102\n",
    "Name: 406, dtype: int64"
   ]
  },
  {
   "cell_type": "markdown",
   "id": "eeb45d3b",
   "metadata": {},
   "source": [
    "nombre_infected       788\n",
    "nombre_sain          2616\n",
    "nombre_exposed        505\n",
    "nombre_recovered    16091\n",
    "Name: 407, dtype: int64"
   ]
  },
  {
   "cell_type": "markdown",
   "id": "258c2cf9",
   "metadata": {},
   "source": [
    "nombre_infected       775\n",
    "nombre_sain          2592\n",
    "nombre_exposed        569\n",
    "nombre_recovered    16064\n",
    "Name: 408, dtype: int64"
   ]
  },
  {
   "cell_type": "markdown",
   "id": "c6eedb0a",
   "metadata": {},
   "source": [
    "nombre_infected       796\n",
    "nombre_sain          2622\n",
    "nombre_exposed        555\n",
    "nombre_recovered    16027\n",
    "Name: 409, dtype: int64"
   ]
  },
  {
   "cell_type": "markdown",
   "id": "239b5f3f",
   "metadata": {},
   "source": [
    "nombre_infected       831\n",
    "nombre_sain          2601\n",
    "nombre_exposed        547\n",
    "nombre_recovered    16021\n",
    "Name: 410, dtype: int64"
   ]
  },
  {
   "cell_type": "markdown",
   "id": "b7ffdf0a",
   "metadata": {},
   "source": [
    "nombre_infected       845\n",
    "nombre_sain          2580\n",
    "nombre_exposed        564\n",
    "nombre_recovered    16011\n",
    "Name: 411, dtype: int64"
   ]
  },
  {
   "cell_type": "markdown",
   "id": "8601368a",
   "metadata": {},
   "source": [
    "nombre_infected       853\n",
    "nombre_sain          2563\n",
    "nombre_exposed        578\n",
    "nombre_recovered    16006\n",
    "Name: 412, dtype: int64"
   ]
  },
  {
   "cell_type": "markdown",
   "id": "0c66fe8f",
   "metadata": {},
   "source": [
    "nombre_infected       870\n",
    "nombre_sain          2570\n",
    "nombre_exposed        579\n",
    "nombre_recovered    15981\n",
    "Name: 413, dtype: int64"
   ]
  },
  {
   "cell_type": "markdown",
   "id": "95b76c61",
   "metadata": {},
   "source": [
    "nombre_infected       891\n",
    "nombre_sain          2554\n",
    "nombre_exposed        583\n",
    "nombre_recovered    15972\n",
    "Name: 414, dtype: int64"
   ]
  },
  {
   "cell_type": "markdown",
   "id": "9a2fa885",
   "metadata": {},
   "source": [
    "nombre_infected       899\n",
    "nombre_sain          2547\n",
    "nombre_exposed        574\n",
    "nombre_recovered    15980\n",
    "Name: 415, dtype: int64"
   ]
  },
  {
   "cell_type": "markdown",
   "id": "931af580",
   "metadata": {},
   "source": [
    "nombre_infected       900\n",
    "nombre_sain          2528\n",
    "nombre_exposed        582\n",
    "nombre_recovered    15990\n",
    "Name: 416, dtype: int64"
   ]
  },
  {
   "cell_type": "markdown",
   "id": "bf3aaeb3",
   "metadata": {},
   "source": [
    "nombre_infected       904\n",
    "nombre_sain          2501\n",
    "nombre_exposed        584\n",
    "nombre_recovered    16011\n",
    "Name: 417, dtype: int64"
   ]
  },
  {
   "cell_type": "markdown",
   "id": "51b7974e",
   "metadata": {},
   "source": [
    "nombre_infected       925\n",
    "nombre_sain          2463\n",
    "nombre_exposed        599\n",
    "nombre_recovered    16013\n",
    "Name: 418, dtype: int64"
   ]
  },
  {
   "cell_type": "markdown",
   "id": "e8810b7d",
   "metadata": {},
   "source": [
    "nombre_infected       925\n",
    "nombre_sain          2431\n",
    "nombre_exposed        614\n",
    "nombre_recovered    16030\n",
    "Name: 419, dtype: int64"
   ]
  },
  {
   "cell_type": "markdown",
   "id": "62aca686",
   "metadata": {},
   "source": [
    "nombre_infected       938\n",
    "nombre_sain          2417\n",
    "nombre_exposed        602\n",
    "nombre_recovered    16043\n",
    "Name: 420, dtype: int64"
   ]
  },
  {
   "cell_type": "markdown",
   "id": "db27e70a",
   "metadata": {},
   "source": [
    "nombre_infected       931\n",
    "nombre_sain          2390\n",
    "nombre_exposed        627\n",
    "nombre_recovered    16052\n",
    "Name: 421, dtype: int64"
   ]
  },
  {
   "cell_type": "markdown",
   "id": "f43a252f",
   "metadata": {},
   "source": [
    "nombre_infected       929\n",
    "nombre_sain          2360\n",
    "nombre_exposed        645\n",
    "nombre_recovered    16066\n",
    "Name: 422, dtype: int64"
   ]
  },
  {
   "cell_type": "markdown",
   "id": "53245ac5",
   "metadata": {},
   "source": [
    "nombre_infected       946\n",
    "nombre_sain          2361\n",
    "nombre_exposed        629\n",
    "nombre_recovered    16064\n",
    "Name: 423, dtype: int64"
   ]
  },
  {
   "cell_type": "markdown",
   "id": "0952edbc",
   "metadata": {},
   "source": [
    "nombre_infected       958\n",
    "nombre_sain          2361\n",
    "nombre_exposed        599\n",
    "nombre_recovered    16082\n",
    "Name: 424, dtype: int64"
   ]
  },
  {
   "cell_type": "markdown",
   "id": "3bcf68ed",
   "metadata": {},
   "source": [
    "nombre_infected       959\n",
    "nombre_sain          2373\n",
    "nombre_exposed        576\n",
    "nombre_recovered    16092\n",
    "Name: 425, dtype: int64"
   ]
  },
  {
   "cell_type": "markdown",
   "id": "68ae69fb",
   "metadata": {},
   "source": [
    "nombre_infected       959\n",
    "nombre_sain          2358\n",
    "nombre_exposed        581\n",
    "nombre_recovered    16102\n",
    "Name: 426, dtype: int64"
   ]
  },
  {
   "cell_type": "markdown",
   "id": "5e03c5e3",
   "metadata": {},
   "source": [
    "nombre_infected       954\n",
    "nombre_sain          2341\n",
    "nombre_exposed        588\n",
    "nombre_recovered    16117\n",
    "Name: 427, dtype: int64"
   ]
  },
  {
   "cell_type": "markdown",
   "id": "771f407e",
   "metadata": {},
   "source": [
    "nombre_infected       967\n",
    "nombre_sain          2313\n",
    "nombre_exposed        588\n",
    "nombre_recovered    16132\n",
    "Name: 428, dtype: int64"
   ]
  },
  {
   "cell_type": "markdown",
   "id": "ac7e1e75",
   "metadata": {},
   "source": [
    "nombre_infected       990\n",
    "nombre_sain          2311\n",
    "nombre_exposed        561\n",
    "nombre_recovered    16138\n",
    "Name: 429, dtype: int64"
   ]
  },
  {
   "cell_type": "markdown",
   "id": "b6b6e87c",
   "metadata": {},
   "source": [
    "nombre_infected       984\n",
    "nombre_sain          2293\n",
    "nombre_exposed        581\n",
    "nombre_recovered    16142\n",
    "Name: 430, dtype: int64"
   ]
  },
  {
   "cell_type": "markdown",
   "id": "29747685",
   "metadata": {},
   "source": [
    "nombre_infected       995\n",
    "nombre_sain          2271\n",
    "nombre_exposed        599\n",
    "nombre_recovered    16135\n",
    "Name: 431, dtype: int64"
   ]
  },
  {
   "cell_type": "markdown",
   "id": "4c50ffa9",
   "metadata": {},
   "source": [
    "nombre_infected       982\n",
    "nombre_sain          2260\n",
    "nombre_exposed        598\n",
    "nombre_recovered    16160\n",
    "Name: 432, dtype: int64"
   ]
  },
  {
   "cell_type": "markdown",
   "id": "c754d3fc",
   "metadata": {},
   "source": [
    "nombre_infected      1008\n",
    "nombre_sain          2277\n",
    "nombre_exposed        596\n",
    "nombre_recovered    16119\n",
    "Name: 433, dtype: int64"
   ]
  },
  {
   "cell_type": "markdown",
   "id": "feac79a4",
   "metadata": {},
   "source": [
    "nombre_infected      1019\n",
    "nombre_sain          2283\n",
    "nombre_exposed        557\n",
    "nombre_recovered    16141\n",
    "Name: 434, dtype: int64"
   ]
  },
  {
   "cell_type": "markdown",
   "id": "a341a6ed",
   "metadata": {},
   "source": [
    "nombre_infected      1047\n",
    "nombre_sain          2306\n",
    "nombre_exposed        538\n",
    "nombre_recovered    16109\n",
    "Name: 435, dtype: int64"
   ]
  },
  {
   "cell_type": "markdown",
   "id": "d31cf0a3",
   "metadata": {},
   "source": [
    "nombre_infected      1049\n",
    "nombre_sain          2329\n",
    "nombre_exposed        531\n",
    "nombre_recovered    16091\n",
    "Name: 436, dtype: int64"
   ]
  },
  {
   "cell_type": "markdown",
   "id": "355efdf3",
   "metadata": {},
   "source": [
    "nombre_infected      1025\n",
    "nombre_sain          2324\n",
    "nombre_exposed        554\n",
    "nombre_recovered    16097\n",
    "Name: 437, dtype: int64"
   ]
  },
  {
   "cell_type": "markdown",
   "id": "1d90af4e",
   "metadata": {},
   "source": [
    "nombre_infected      1022\n",
    "nombre_sain          2329\n",
    "nombre_exposed        557\n",
    "nombre_recovered    16092\n",
    "Name: 438, dtype: int64"
   ]
  },
  {
   "cell_type": "markdown",
   "id": "bbf4dd6d",
   "metadata": {},
   "source": [
    "nombre_infected      1013\n",
    "nombre_sain          2320\n",
    "nombre_exposed        566\n",
    "nombre_recovered    16101\n",
    "Name: 439, dtype: int64"
   ]
  },
  {
   "cell_type": "markdown",
   "id": "1891f4a6",
   "metadata": {},
   "source": [
    "nombre_infected      1016\n",
    "nombre_sain          2335\n",
    "nombre_exposed        571\n",
    "nombre_recovered    16078\n",
    "Name: 440, dtype: int64"
   ]
  },
  {
   "cell_type": "markdown",
   "id": "05232356",
   "metadata": {},
   "source": [
    "nombre_infected      1039\n",
    "nombre_sain          2340\n",
    "nombre_exposed        555\n",
    "nombre_recovered    16066\n",
    "Name: 441, dtype: int64"
   ]
  },
  {
   "cell_type": "markdown",
   "id": "78642153",
   "metadata": {},
   "source": [
    "nombre_infected      1038\n",
    "nombre_sain          2333\n",
    "nombre_exposed        582\n",
    "nombre_recovered    16047\n",
    "Name: 442, dtype: int64"
   ]
  },
  {
   "cell_type": "markdown",
   "id": "7c989fb1",
   "metadata": {},
   "source": [
    "nombre_infected      1030\n",
    "nombre_sain          2316\n",
    "nombre_exposed        598\n",
    "nombre_recovered    16056\n",
    "Name: 443, dtype: int64"
   ]
  },
  {
   "cell_type": "markdown",
   "id": "6fc7b543",
   "metadata": {},
   "source": [
    "nombre_infected      1050\n",
    "nombre_sain          2335\n",
    "nombre_exposed        580\n",
    "nombre_recovered    16035\n",
    "Name: 444, dtype: int64"
   ]
  },
  {
   "cell_type": "markdown",
   "id": "f7376d04",
   "metadata": {},
   "source": [
    "nombre_infected      1090\n",
    "nombre_sain          2354\n",
    "nombre_exposed        579\n",
    "nombre_recovered    15977\n",
    "Name: 445, dtype: int64"
   ]
  },
  {
   "cell_type": "markdown",
   "id": "808435aa",
   "metadata": {},
   "source": [
    "nombre_infected      1112\n",
    "nombre_sain          2343\n",
    "nombre_exposed        586\n",
    "nombre_recovered    15959\n",
    "Name: 446, dtype: int64"
   ]
  },
  {
   "cell_type": "markdown",
   "id": "ae4abe7f",
   "metadata": {},
   "source": [
    "nombre_infected      1110\n",
    "nombre_sain          2355\n",
    "nombre_exposed        591\n",
    "nombre_recovered    15944\n",
    "Name: 447, dtype: int64"
   ]
  },
  {
   "cell_type": "markdown",
   "id": "bad37ef4",
   "metadata": {},
   "source": [
    "nombre_infected      1106\n",
    "nombre_sain          2359\n",
    "nombre_exposed        598\n",
    "nombre_recovered    15937\n",
    "Name: 448, dtype: int64"
   ]
  },
  {
   "cell_type": "markdown",
   "id": "47c887be",
   "metadata": {},
   "source": [
    "nombre_infected      1114\n",
    "nombre_sain          2321\n",
    "nombre_exposed        617\n",
    "nombre_recovered    15948\n",
    "Name: 449, dtype: int64"
   ]
  },
  {
   "cell_type": "markdown",
   "id": "56bee3e6",
   "metadata": {},
   "source": [
    "nombre_infected      1127\n",
    "nombre_sain          2296\n",
    "nombre_exposed        634\n",
    "nombre_recovered    15943\n",
    "Name: 450, dtype: int64"
   ]
  },
  {
   "cell_type": "markdown",
   "id": "a9f53529",
   "metadata": {},
   "source": [
    "nombre_infected      1128\n",
    "nombre_sain          2287\n",
    "nombre_exposed        659\n",
    "nombre_recovered    15926\n",
    "Name: 451, dtype: int64"
   ]
  },
  {
   "cell_type": "markdown",
   "id": "1dd6ea48",
   "metadata": {},
   "source": [
    "nombre_infected      1149\n",
    "nombre_sain          2251\n",
    "nombre_exposed        669\n",
    "nombre_recovered    15931\n",
    "Name: 452, dtype: int64"
   ]
  },
  {
   "cell_type": "markdown",
   "id": "7e2770b6",
   "metadata": {},
   "source": [
    "nombre_infected      1172\n",
    "nombre_sain          2230\n",
    "nombre_exposed        678\n",
    "nombre_recovered    15920\n",
    "Name: 453, dtype: int64"
   ]
  },
  {
   "cell_type": "markdown",
   "id": "5b0abc0a",
   "metadata": {},
   "source": [
    "nombre_infected      1211\n",
    "nombre_sain          2214\n",
    "nombre_exposed        663\n",
    "nombre_recovered    15912\n",
    "Name: 454, dtype: int64"
   ]
  },
  {
   "cell_type": "markdown",
   "id": "909358a7",
   "metadata": {},
   "source": [
    "nombre_infected      1227\n",
    "nombre_sain          2212\n",
    "nombre_exposed        648\n",
    "nombre_recovered    15913\n",
    "Name: 455, dtype: int64"
   ]
  },
  {
   "cell_type": "markdown",
   "id": "b82d71dc",
   "metadata": {},
   "source": [
    "nombre_infected      1256\n",
    "nombre_sain          2174\n",
    "nombre_exposed        649\n",
    "nombre_recovered    15921\n",
    "Name: 456, dtype: int64"
   ]
  },
  {
   "cell_type": "markdown",
   "id": "33892d22",
   "metadata": {},
   "source": [
    "nombre_infected      1275\n",
    "nombre_sain          2178\n",
    "nombre_exposed        639\n",
    "nombre_recovered    15908\n",
    "Name: 457, dtype: int64"
   ]
  },
  {
   "cell_type": "markdown",
   "id": "cc149453",
   "metadata": {},
   "source": [
    "nombre_infected      1314\n",
    "nombre_sain          2121\n",
    "nombre_exposed        626\n",
    "nombre_recovered    15939\n",
    "Name: 458, dtype: int64"
   ]
  },
  {
   "cell_type": "markdown",
   "id": "a574037d",
   "metadata": {},
   "source": [
    "nombre_infected      1314\n",
    "nombre_sain          2066\n",
    "nombre_exposed        658\n",
    "nombre_recovered    15962\n",
    "Name: 459, dtype: int64"
   ]
  },
  {
   "cell_type": "markdown",
   "id": "2e2ece26",
   "metadata": {},
   "source": [
    "nombre_infected      1333\n",
    "nombre_sain          2051\n",
    "nombre_exposed        639\n",
    "nombre_recovered    15977\n",
    "Name: 460, dtype: int64"
   ]
  },
  {
   "cell_type": "markdown",
   "id": "ab0275b0",
   "metadata": {},
   "source": [
    "nombre_infected      1323\n",
    "nombre_sain          2017\n",
    "nombre_exposed        654\n",
    "nombre_recovered    16006\n",
    "Name: 461, dtype: int64"
   ]
  },
  {
   "cell_type": "markdown",
   "id": "3f9d3770",
   "metadata": {},
   "source": [
    "nombre_infected      1317\n",
    "nombre_sain          2000\n",
    "nombre_exposed        660\n",
    "nombre_recovered    16023\n",
    "Name: 462, dtype: int64"
   ]
  },
  {
   "cell_type": "markdown",
   "id": "87972337",
   "metadata": {},
   "source": [
    "nombre_infected      1326\n",
    "nombre_sain          1978\n",
    "nombre_exposed        644\n",
    "nombre_recovered    16052\n",
    "Name: 463, dtype: int64"
   ]
  },
  {
   "cell_type": "markdown",
   "id": "7d8ecc39",
   "metadata": {},
   "source": [
    "nombre_infected      1325\n",
    "nombre_sain          1966\n",
    "nombre_exposed        635\n",
    "nombre_recovered    16074\n",
    "Name: 464, dtype: int64"
   ]
  },
  {
   "cell_type": "markdown",
   "id": "db12f8fe",
   "metadata": {},
   "source": [
    "nombre_infected      1330\n",
    "nombre_sain          1915\n",
    "nombre_exposed        661\n",
    "nombre_recovered    16094\n",
    "Name: 465, dtype: int64"
   ]
  },
  {
   "cell_type": "markdown",
   "id": "86dc5dbf",
   "metadata": {},
   "source": [
    "nombre_infected      1330\n",
    "nombre_sain          1912\n",
    "nombre_exposed        644\n",
    "nombre_recovered    16114\n",
    "Name: 466, dtype: int64"
   ]
  },
  {
   "cell_type": "markdown",
   "id": "2a021061",
   "metadata": {},
   "source": [
    "nombre_infected      1350\n",
    "nombre_sain          1906\n",
    "nombre_exposed        613\n",
    "nombre_recovered    16131\n",
    "Name: 467, dtype: int64"
   ]
  },
  {
   "cell_type": "markdown",
   "id": "ff07cd8b",
   "metadata": {},
   "source": [
    "nombre_infected      1341\n",
    "nombre_sain          1890\n",
    "nombre_exposed        611\n",
    "nombre_recovered    16158\n",
    "Name: 468, dtype: int64"
   ]
  },
  {
   "cell_type": "markdown",
   "id": "799dade5",
   "metadata": {},
   "source": [
    "nombre_infected      1335\n",
    "nombre_sain          1872\n",
    "nombre_exposed        639\n",
    "nombre_recovered    16154\n",
    "Name: 469, dtype: int64"
   ]
  },
  {
   "cell_type": "markdown",
   "id": "a7f9b356",
   "metadata": {},
   "source": [
    "nombre_infected      1346\n",
    "nombre_sain          1877\n",
    "nombre_exposed        624\n",
    "nombre_recovered    16153\n",
    "Name: 470, dtype: int64"
   ]
  },
  {
   "cell_type": "markdown",
   "id": "204567dc",
   "metadata": {},
   "source": [
    "nombre_infected      1351\n",
    "nombre_sain          1852\n",
    "nombre_exposed        623\n",
    "nombre_recovered    16174\n",
    "Name: 471, dtype: int64"
   ]
  },
  {
   "cell_type": "markdown",
   "id": "bc4e7131",
   "metadata": {},
   "source": [
    "nombre_infected      1337\n",
    "nombre_sain          1859\n",
    "nombre_exposed        619\n",
    "nombre_recovered    16185\n",
    "Name: 472, dtype: int64"
   ]
  },
  {
   "cell_type": "markdown",
   "id": "e991bd9c",
   "metadata": {},
   "source": [
    "nombre_infected      1344\n",
    "nombre_sain          1838\n",
    "nombre_exposed        622\n",
    "nombre_recovered    16196\n",
    "Name: 473, dtype: int64"
   ]
  },
  {
   "cell_type": "markdown",
   "id": "2a2b023b",
   "metadata": {},
   "source": [
    "nombre_infected      1342\n",
    "nombre_sain          1816\n",
    "nombre_exposed        616\n",
    "nombre_recovered    16226\n",
    "Name: 474, dtype: int64"
   ]
  },
  {
   "cell_type": "markdown",
   "id": "c1a9dcc9",
   "metadata": {},
   "source": [
    "nombre_infected      1307\n",
    "nombre_sain          1801\n",
    "nombre_exposed        638\n",
    "nombre_recovered    16254\n",
    "Name: 475, dtype: int64"
   ]
  },
  {
   "cell_type": "markdown",
   "id": "da0c7b90",
   "metadata": {},
   "source": [
    "nombre_infected      1316\n",
    "nombre_sain          1798\n",
    "nombre_exposed        606\n",
    "nombre_recovered    16280\n",
    "Name: 476, dtype: int64"
   ]
  },
  {
   "cell_type": "markdown",
   "id": "0f5cd946",
   "metadata": {},
   "source": [
    "nombre_infected      1318\n",
    "nombre_sain          1812\n",
    "nombre_exposed        572\n",
    "nombre_recovered    16298\n",
    "Name: 477, dtype: int64"
   ]
  },
  {
   "cell_type": "markdown",
   "id": "5805b58b",
   "metadata": {},
   "source": [
    "nombre_infected      1269\n",
    "nombre_sain          1821\n",
    "nombre_exposed        597\n",
    "nombre_recovered    16313\n",
    "Name: 478, dtype: int64"
   ]
  },
  {
   "cell_type": "markdown",
   "id": "aae37ce6",
   "metadata": {},
   "source": [
    "nombre_infected      1236\n",
    "nombre_sain          1843\n",
    "nombre_exposed        600\n",
    "nombre_recovered    16321\n",
    "Name: 479, dtype: int64"
   ]
  },
  {
   "cell_type": "markdown",
   "id": "284c5629",
   "metadata": {},
   "source": [
    "nombre_infected      1259\n",
    "nombre_sain          1834\n",
    "nombre_exposed        568\n",
    "nombre_recovered    16339\n",
    "Name: 480, dtype: int64"
   ]
  },
  {
   "cell_type": "markdown",
   "id": "d1a64fa0",
   "metadata": {},
   "source": [
    "nombre_infected      1238\n",
    "nombre_sain          1847\n",
    "nombre_exposed        560\n",
    "nombre_recovered    16355\n",
    "Name: 481, dtype: int64"
   ]
  },
  {
   "cell_type": "markdown",
   "id": "46800922",
   "metadata": {},
   "source": [
    "nombre_infected      1216\n",
    "nombre_sain          1874\n",
    "nombre_exposed        553\n",
    "nombre_recovered    16357\n",
    "Name: 482, dtype: int64"
   ]
  },
  {
   "cell_type": "markdown",
   "id": "c4f78c91",
   "metadata": {},
   "source": [
    "nombre_infected      1181\n",
    "nombre_sain          1880\n",
    "nombre_exposed        543\n",
    "nombre_recovered    16396\n",
    "Name: 483, dtype: int64"
   ]
  },
  {
   "cell_type": "markdown",
   "id": "72165943",
   "metadata": {},
   "source": [
    "nombre_infected      1158\n",
    "nombre_sain          1889\n",
    "nombre_exposed        543\n",
    "nombre_recovered    16410\n",
    "Name: 484, dtype: int64"
   ]
  },
  {
   "cell_type": "markdown",
   "id": "04ac79f9",
   "metadata": {},
   "source": [
    "nombre_infected      1118\n",
    "nombre_sain          1881\n",
    "nombre_exposed        572\n",
    "nombre_recovered    16429\n",
    "Name: 485, dtype: int64"
   ]
  },
  {
   "cell_type": "markdown",
   "id": "7fbf04bc",
   "metadata": {},
   "source": [
    "nombre_infected      1107\n",
    "nombre_sain          1890\n",
    "nombre_exposed        583\n",
    "nombre_recovered    16420\n",
    "Name: 486, dtype: int64"
   ]
  },
  {
   "cell_type": "markdown",
   "id": "6bc7b84f",
   "metadata": {},
   "source": [
    "nombre_infected      1112\n",
    "nombre_sain          1909\n",
    "nombre_exposed        560\n",
    "nombre_recovered    16419\n",
    "Name: 487, dtype: int64"
   ]
  },
  {
   "cell_type": "markdown",
   "id": "36b8ce0c",
   "metadata": {},
   "source": [
    "nombre_infected      1134\n",
    "nombre_sain          1938\n",
    "nombre_exposed        535\n",
    "nombre_recovered    16393\n",
    "Name: 488, dtype: int64"
   ]
  },
  {
   "cell_type": "markdown",
   "id": "b591f7f7",
   "metadata": {},
   "source": [
    "nombre_infected      1141\n",
    "nombre_sain          1937\n",
    "nombre_exposed        518\n",
    "nombre_recovered    16404\n",
    "Name: 489, dtype: int64"
   ]
  },
  {
   "cell_type": "markdown",
   "id": "2515dab4",
   "metadata": {},
   "source": [
    "nombre_infected      1090\n",
    "nombre_sain          1940\n",
    "nombre_exposed        541\n",
    "nombre_recovered    16429\n",
    "Name: 490, dtype: int64"
   ]
  },
  {
   "cell_type": "markdown",
   "id": "4b5d43da",
   "metadata": {},
   "source": [
    "nombre_infected      1068\n",
    "nombre_sain          1959\n",
    "nombre_exposed        556\n",
    "nombre_recovered    16417\n",
    "Name: 491, dtype: int64"
   ]
  },
  {
   "cell_type": "markdown",
   "id": "eaa06735",
   "metadata": {},
   "source": [
    "nombre_infected      1062\n",
    "nombre_sain          1956\n",
    "nombre_exposed        555\n",
    "nombre_recovered    16427\n",
    "Name: 492, dtype: int64"
   ]
  },
  {
   "cell_type": "markdown",
   "id": "1ca40536",
   "metadata": {},
   "source": [
    "nombre_infected      1082\n",
    "nombre_sain          1967\n",
    "nombre_exposed        532\n",
    "nombre_recovered    16419\n",
    "Name: 493, dtype: int64"
   ]
  },
  {
   "cell_type": "markdown",
   "id": "2cd04e40",
   "metadata": {},
   "source": [
    "nombre_infected      1070\n",
    "nombre_sain          1983\n",
    "nombre_exposed        513\n",
    "nombre_recovered    16434\n",
    "Name: 494, dtype: int64"
   ]
  },
  {
   "cell_type": "markdown",
   "id": "28e5fdd6",
   "metadata": {},
   "source": [
    "nombre_infected      1076\n",
    "nombre_sain          1976\n",
    "nombre_exposed        520\n",
    "nombre_recovered    16428\n",
    "Name: 495, dtype: int64"
   ]
  },
  {
   "cell_type": "markdown",
   "id": "b8fc3a30",
   "metadata": {},
   "source": [
    "nombre_infected      1048\n",
    "nombre_sain          1981\n",
    "nombre_exposed        497\n",
    "nombre_recovered    16474\n",
    "Name: 496, dtype: int64"
   ]
  },
  {
   "cell_type": "markdown",
   "id": "4be7ab43",
   "metadata": {},
   "source": [
    "nombre_infected      1042\n",
    "nombre_sain          1971\n",
    "nombre_exposed        495\n",
    "nombre_recovered    16492\n",
    "Name: 497, dtype: int64"
   ]
  },
  {
   "cell_type": "markdown",
   "id": "52824d94",
   "metadata": {},
   "source": [
    "nombre_infected      1010\n",
    "nombre_sain          2025\n",
    "nombre_exposed        500\n",
    "nombre_recovered    16465\n",
    "Name: 498, dtype: int64"
   ]
  },
  {
   "cell_type": "markdown",
   "id": "b5c3cfc8",
   "metadata": {},
   "source": [
    "nombre_infected      1017\n",
    "nombre_sain          2030\n",
    "nombre_exposed        485\n",
    "nombre_recovered    16468\n",
    "Name: 499, dtype: int64"
   ]
  },
  {
   "cell_type": "markdown",
   "id": "b919b6e9",
   "metadata": {},
   "source": [
    "nombre_infected      1002\n",
    "nombre_sain          2034\n",
    "nombre_exposed        492\n",
    "nombre_recovered    16472\n",
    "Name: 500, dtype: int64"
   ]
  },
  {
   "cell_type": "markdown",
   "id": "2dbaab40",
   "metadata": {},
   "source": [
    "nombre_infected       995\n",
    "nombre_sain          2014\n",
    "nombre_exposed        499\n",
    "nombre_recovered    16492\n",
    "Name: 501, dtype: int64"
   ]
  },
  {
   "cell_type": "markdown",
   "id": "c5e91509",
   "metadata": {},
   "source": [
    "nombre_infected       990\n",
    "nombre_sain          2039\n",
    "nombre_exposed        506\n",
    "nombre_recovered    16465\n",
    "Name: 502, dtype: int64"
   ]
  },
  {
   "cell_type": "markdown",
   "id": "30fb5fed",
   "metadata": {},
   "source": [
    "nombre_infected       979\n",
    "nombre_sain          2068\n",
    "nombre_exposed        494\n",
    "nombre_recovered    16459\n",
    "Name: 503, dtype: int64"
   ]
  },
  {
   "cell_type": "markdown",
   "id": "210e0c1d",
   "metadata": {},
   "source": [
    "nombre_infected       981\n",
    "nombre_sain          2070\n",
    "nombre_exposed        499\n",
    "nombre_recovered    16450\n",
    "Name: 504, dtype: int64"
   ]
  },
  {
   "cell_type": "markdown",
   "id": "7dd25f2f",
   "metadata": {},
   "source": [
    "nombre_infected      1003\n",
    "nombre_sain          2087\n",
    "nombre_exposed        479\n",
    "nombre_recovered    16431\n",
    "Name: 505, dtype: int64"
   ]
  },
  {
   "cell_type": "markdown",
   "id": "1e9364dd",
   "metadata": {},
   "source": [
    "nombre_infected       978\n",
    "nombre_sain          2080\n",
    "nombre_exposed        504\n",
    "nombre_recovered    16438\n",
    "Name: 506, dtype: int64"
   ]
  },
  {
   "cell_type": "markdown",
   "id": "c67c39a6",
   "metadata": {},
   "source": [
    "nombre_infected       975\n",
    "nombre_sain          2109\n",
    "nombre_exposed        489\n",
    "nombre_recovered    16427\n",
    "Name: 507, dtype: int64"
   ]
  },
  {
   "cell_type": "markdown",
   "id": "ec1a2a9a",
   "metadata": {},
   "source": [
    "nombre_infected       953\n",
    "nombre_sain          2124\n",
    "nombre_exposed        493\n",
    "nombre_recovered    16430\n",
    "Name: 508, dtype: int64"
   ]
  },
  {
   "cell_type": "markdown",
   "id": "b39dbb5d",
   "metadata": {},
   "source": [
    "nombre_infected       944\n",
    "nombre_sain          2119\n",
    "nombre_exposed        499\n",
    "nombre_recovered    16438\n",
    "Name: 509, dtype: int64"
   ]
  },
  {
   "cell_type": "markdown",
   "id": "d6546c84",
   "metadata": {},
   "source": [
    "nombre_infected       933\n",
    "nombre_sain          2091\n",
    "nombre_exposed        526\n",
    "nombre_recovered    16450\n",
    "Name: 510, dtype: int64"
   ]
  },
  {
   "cell_type": "markdown",
   "id": "a530b195",
   "metadata": {},
   "source": [
    "nombre_infected       935\n",
    "nombre_sain          2063\n",
    "nombre_exposed        547\n",
    "nombre_recovered    16455\n",
    "Name: 511, dtype: int64"
   ]
  },
  {
   "cell_type": "markdown",
   "id": "4fd0da85",
   "metadata": {},
   "source": [
    "nombre_infected       942\n",
    "nombre_sain          2071\n",
    "nombre_exposed        532\n",
    "nombre_recovered    16455\n",
    "Name: 512, dtype: int64"
   ]
  },
  {
   "cell_type": "markdown",
   "id": "7211a3bb",
   "metadata": {},
   "source": [
    "nombre_infected       927\n",
    "nombre_sain          2092\n",
    "nombre_exposed        534\n",
    "nombre_recovered    16447\n",
    "Name: 513, dtype: int64"
   ]
  },
  {
   "cell_type": "markdown",
   "id": "e39200c0",
   "metadata": {},
   "source": [
    "nombre_infected       921\n",
    "nombre_sain          2087\n",
    "nombre_exposed        531\n",
    "nombre_recovered    16461\n",
    "Name: 514, dtype: int64"
   ]
  },
  {
   "cell_type": "markdown",
   "id": "1c59b52a",
   "metadata": {},
   "source": [
    "nombre_infected       936\n",
    "nombre_sain          2095\n",
    "nombre_exposed        499\n",
    "nombre_recovered    16470\n",
    "Name: 515, dtype: int64"
   ]
  },
  {
   "cell_type": "markdown",
   "id": "ae0d359d",
   "metadata": {},
   "source": [
    "nombre_infected       951\n",
    "nombre_sain          2065\n",
    "nombre_exposed        494\n",
    "nombre_recovered    16490\n",
    "Name: 516, dtype: int64"
   ]
  },
  {
   "cell_type": "markdown",
   "id": "c8bcc8c4",
   "metadata": {},
   "source": [
    "nombre_infected       942\n",
    "nombre_sain          2077\n",
    "nombre_exposed        493\n",
    "nombre_recovered    16488\n",
    "Name: 517, dtype: int64"
   ]
  },
  {
   "cell_type": "markdown",
   "id": "75894385",
   "metadata": {},
   "source": [
    "nombre_infected       922\n",
    "nombre_sain          2065\n",
    "nombre_exposed        525\n",
    "nombre_recovered    16488\n",
    "Name: 518, dtype: int64"
   ]
  },
  {
   "cell_type": "markdown",
   "id": "79745565",
   "metadata": {},
   "source": [
    "nombre_infected       924\n",
    "nombre_sain          2047\n",
    "nombre_exposed        524\n",
    "nombre_recovered    16505\n",
    "Name: 519, dtype: int64"
   ]
  },
  {
   "cell_type": "markdown",
   "id": "0339b05e",
   "metadata": {},
   "source": [
    "nombre_infected       947\n",
    "nombre_sain          2064\n",
    "nombre_exposed        500\n",
    "nombre_recovered    16489\n",
    "Name: 520, dtype: int64"
   ]
  },
  {
   "cell_type": "markdown",
   "id": "4b38f696",
   "metadata": {},
   "source": [
    "nombre_infected       927\n",
    "nombre_sain          2051\n",
    "nombre_exposed        520\n",
    "nombre_recovered    16502\n",
    "Name: 521, dtype: int64"
   ]
  },
  {
   "cell_type": "markdown",
   "id": "b3f0f70d",
   "metadata": {},
   "source": [
    "nombre_infected       918\n",
    "nombre_sain          2028\n",
    "nombre_exposed        533\n",
    "nombre_recovered    16521\n",
    "Name: 522, dtype: int64"
   ]
  },
  {
   "cell_type": "markdown",
   "id": "b3484a3f",
   "metadata": {},
   "source": [
    "nombre_infected       929\n",
    "nombre_sain          2029\n",
    "nombre_exposed        536\n",
    "nombre_recovered    16506\n",
    "Name: 523, dtype: int64"
   ]
  },
  {
   "cell_type": "markdown",
   "id": "56e4e300",
   "metadata": {},
   "source": [
    "nombre_infected       916\n",
    "nombre_sain          2036\n",
    "nombre_exposed        530\n",
    "nombre_recovered    16518\n",
    "Name: 524, dtype: int64"
   ]
  },
  {
   "cell_type": "markdown",
   "id": "f14cc9db",
   "metadata": {},
   "source": [
    "nombre_infected       941\n",
    "nombre_sain          2039\n",
    "nombre_exposed        526\n",
    "nombre_recovered    16494\n",
    "Name: 525, dtype: int64"
   ]
  },
  {
   "cell_type": "markdown",
   "id": "f6277d8e",
   "metadata": {},
   "source": [
    "nombre_infected       940\n",
    "nombre_sain          2035\n",
    "nombre_exposed        524\n",
    "nombre_recovered    16501\n",
    "Name: 526, dtype: int64"
   ]
  },
  {
   "cell_type": "markdown",
   "id": "0b16e1a0",
   "metadata": {},
   "source": [
    "nombre_infected       954\n",
    "nombre_sain          2084\n",
    "nombre_exposed        478\n",
    "nombre_recovered    16484\n",
    "Name: 527, dtype: int64"
   ]
  },
  {
   "cell_type": "markdown",
   "id": "5b0daf0f",
   "metadata": {},
   "source": [
    "nombre_infected       952\n",
    "nombre_sain          2096\n",
    "nombre_exposed        478\n",
    "nombre_recovered    16474\n",
    "Name: 528, dtype: int64"
   ]
  },
  {
   "cell_type": "markdown",
   "id": "68c13568",
   "metadata": {},
   "source": [
    "nombre_infected       905\n",
    "nombre_sain          2122\n",
    "nombre_exposed        479\n",
    "nombre_recovered    16494\n",
    "Name: 529, dtype: int64"
   ]
  },
  {
   "cell_type": "markdown",
   "id": "cf4c22f2",
   "metadata": {},
   "source": [
    "nombre_infected       890\n",
    "nombre_sain          2148\n",
    "nombre_exposed        483\n",
    "nombre_recovered    16479\n",
    "Name: 530, dtype: int64"
   ]
  },
  {
   "cell_type": "markdown",
   "id": "1e5dbb13",
   "metadata": {},
   "source": [
    "nombre_infected       877\n",
    "nombre_sain          2196\n",
    "nombre_exposed        488\n",
    "nombre_recovered    16439\n",
    "Name: 531, dtype: int64"
   ]
  },
  {
   "cell_type": "markdown",
   "id": "e38216d3",
   "metadata": {},
   "source": [
    "nombre_infected       872\n",
    "nombre_sain          2212\n",
    "nombre_exposed        488\n",
    "nombre_recovered    16428\n",
    "Name: 532, dtype: int64"
   ]
  },
  {
   "cell_type": "markdown",
   "id": "25b4dd06",
   "metadata": {},
   "source": [
    "nombre_infected       867\n",
    "nombre_sain          2233\n",
    "nombre_exposed        480\n",
    "nombre_recovered    16420\n",
    "Name: 533, dtype: int64"
   ]
  },
  {
   "cell_type": "markdown",
   "id": "68b52bc3",
   "metadata": {},
   "source": [
    "nombre_infected       868\n",
    "nombre_sain          2235\n",
    "nombre_exposed        481\n",
    "nombre_recovered    16416\n",
    "Name: 534, dtype: int64"
   ]
  },
  {
   "cell_type": "markdown",
   "id": "b4f43ccd",
   "metadata": {},
   "source": [
    "nombre_infected       856\n",
    "nombre_sain          2252\n",
    "nombre_exposed        483\n",
    "nombre_recovered    16409\n",
    "Name: 535, dtype: int64"
   ]
  },
  {
   "cell_type": "markdown",
   "id": "6c6c2101",
   "metadata": {},
   "source": [
    "nombre_infected       845\n",
    "nombre_sain          2258\n",
    "nombre_exposed        484\n",
    "nombre_recovered    16413\n",
    "Name: 536, dtype: int64"
   ]
  },
  {
   "cell_type": "markdown",
   "id": "f31284ac",
   "metadata": {},
   "source": [
    "nombre_infected       852\n",
    "nombre_sain          2300\n",
    "nombre_exposed        470\n",
    "nombre_recovered    16378\n",
    "Name: 537, dtype: int64"
   ]
  },
  {
   "cell_type": "markdown",
   "id": "b4c0f10d",
   "metadata": {},
   "source": [
    "nombre_infected       841\n",
    "nombre_sain          2304\n",
    "nombre_exposed        464\n",
    "nombre_recovered    16391\n",
    "Name: 538, dtype: int64"
   ]
  },
  {
   "cell_type": "markdown",
   "id": "b26f7d65",
   "metadata": {},
   "source": [
    "nombre_infected       819\n",
    "nombre_sain          2323\n",
    "nombre_exposed        484\n",
    "nombre_recovered    16374\n",
    "Name: 539, dtype: int64"
   ]
  },
  {
   "cell_type": "markdown",
   "id": "00bb77d2",
   "metadata": {},
   "source": [
    "nombre_infected       836\n",
    "nombre_sain          2349\n",
    "nombre_exposed        481\n",
    "nombre_recovered    16334\n",
    "Name: 540, dtype: int64"
   ]
  },
  {
   "cell_type": "markdown",
   "id": "eaa4c295",
   "metadata": {},
   "source": [
    "nombre_infected       839\n",
    "nombre_sain          2334\n",
    "nombre_exposed        484\n",
    "nombre_recovered    16343\n",
    "Name: 541, dtype: int64"
   ]
  },
  {
   "cell_type": "markdown",
   "id": "1514cd3a",
   "metadata": {},
   "source": [
    "nombre_infected       845\n",
    "nombre_sain          2340\n",
    "nombre_exposed        474\n",
    "nombre_recovered    16341\n",
    "Name: 542, dtype: int64"
   ]
  },
  {
   "cell_type": "markdown",
   "id": "6bfc83d1",
   "metadata": {},
   "source": [
    "nombre_infected       821\n",
    "nombre_sain          2330\n",
    "nombre_exposed        483\n",
    "nombre_recovered    16366\n",
    "Name: 543, dtype: int64"
   ]
  },
  {
   "cell_type": "markdown",
   "id": "c5a6d47e",
   "metadata": {},
   "source": [
    "nombre_infected       821\n",
    "nombre_sain          2343\n",
    "nombre_exposed        479\n",
    "nombre_recovered    16357\n",
    "Name: 544, dtype: int64"
   ]
  },
  {
   "cell_type": "markdown",
   "id": "1f24abfa",
   "metadata": {},
   "source": [
    "nombre_infected       845\n",
    "nombre_sain          2345\n",
    "nombre_exposed        456\n",
    "nombre_recovered    16354\n",
    "Name: 545, dtype: int64"
   ]
  },
  {
   "cell_type": "markdown",
   "id": "b2a43af5",
   "metadata": {},
   "source": [
    "nombre_infected       827\n",
    "nombre_sain          2319\n",
    "nombre_exposed        484\n",
    "nombre_recovered    16370\n",
    "Name: 546, dtype: int64"
   ]
  },
  {
   "cell_type": "markdown",
   "id": "d9048013",
   "metadata": {},
   "source": [
    "nombre_infected       820\n",
    "nombre_sain          2329\n",
    "nombre_exposed        475\n",
    "nombre_recovered    16376\n",
    "Name: 547, dtype: int64"
   ]
  },
  {
   "cell_type": "markdown",
   "id": "824cbdea",
   "metadata": {},
   "source": [
    "nombre_infected       838\n",
    "nombre_sain          2343\n",
    "nombre_exposed        454\n",
    "nombre_recovered    16365\n",
    "Name: 548, dtype: int64"
   ]
  },
  {
   "cell_type": "markdown",
   "id": "8caf5045",
   "metadata": {},
   "source": [
    "nombre_infected       818\n",
    "nombre_sain          2332\n",
    "nombre_exposed        465\n",
    "nombre_recovered    16385\n",
    "Name: 549, dtype: int64"
   ]
  },
  {
   "cell_type": "markdown",
   "id": "af27e327",
   "metadata": {},
   "source": [
    "nombre_infected       810\n",
    "nombre_sain          2336\n",
    "nombre_exposed        470\n",
    "nombre_recovered    16384\n",
    "Name: 550, dtype: int64"
   ]
  },
  {
   "cell_type": "markdown",
   "id": "580f6043",
   "metadata": {},
   "source": [
    "nombre_infected       806\n",
    "nombre_sain          2335\n",
    "nombre_exposed        458\n",
    "nombre_recovered    16401\n",
    "Name: 551, dtype: int64"
   ]
  },
  {
   "cell_type": "markdown",
   "id": "2f1767b6",
   "metadata": {},
   "source": [
    "nombre_infected       810\n",
    "nombre_sain          2333\n",
    "nombre_exposed        459\n",
    "nombre_recovered    16398\n",
    "Name: 552, dtype: int64"
   ]
  },
  {
   "cell_type": "markdown",
   "id": "f2d9ac13",
   "metadata": {},
   "source": [
    "nombre_infected       826\n",
    "nombre_sain          2326\n",
    "nombre_exposed        464\n",
    "nombre_recovered    16384\n",
    "Name: 553, dtype: int64"
   ]
  },
  {
   "cell_type": "markdown",
   "id": "26608e10",
   "metadata": {},
   "source": [
    "nombre_infected       817\n",
    "nombre_sain          2366\n",
    "nombre_exposed        460\n",
    "nombre_recovered    16357\n",
    "Name: 554, dtype: int64"
   ]
  },
  {
   "cell_type": "markdown",
   "id": "39951689",
   "metadata": {},
   "source": [
    "nombre_infected       815\n",
    "nombre_sain          2369\n",
    "nombre_exposed        466\n",
    "nombre_recovered    16350\n",
    "Name: 555, dtype: int64"
   ]
  },
  {
   "cell_type": "markdown",
   "id": "670c4e1e",
   "metadata": {},
   "source": [
    "nombre_infected       822\n",
    "nombre_sain          2368\n",
    "nombre_exposed        470\n",
    "nombre_recovered    16340\n",
    "Name: 556, dtype: int64"
   ]
  },
  {
   "cell_type": "markdown",
   "id": "ce921a9f",
   "metadata": {},
   "source": [
    "nombre_infected       847\n",
    "nombre_sain          2371\n",
    "nombre_exposed        481\n",
    "nombre_recovered    16301\n",
    "Name: 557, dtype: int64"
   ]
  },
  {
   "cell_type": "markdown",
   "id": "04ab527b",
   "metadata": {},
   "source": [
    "nombre_infected       848\n",
    "nombre_sain          2343\n",
    "nombre_exposed        512\n",
    "nombre_recovered    16297\n",
    "Name: 558, dtype: int64"
   ]
  },
  {
   "cell_type": "markdown",
   "id": "b8d5ad46",
   "metadata": {},
   "source": [
    "nombre_infected       851\n",
    "nombre_sain          2324\n",
    "nombre_exposed        526\n",
    "nombre_recovered    16299\n",
    "Name: 559, dtype: int64"
   ]
  },
  {
   "cell_type": "markdown",
   "id": "1a1d34a8",
   "metadata": {},
   "source": [
    "nombre_infected       845\n",
    "nombre_sain          2352\n",
    "nombre_exposed        506\n",
    "nombre_recovered    16297\n",
    "Name: 560, dtype: int64"
   ]
  },
  {
   "cell_type": "markdown",
   "id": "32f018eb",
   "metadata": {},
   "source": [
    "nombre_infected       866\n",
    "nombre_sain          2341\n",
    "nombre_exposed        515\n",
    "nombre_recovered    16278\n",
    "Name: 561, dtype: int64"
   ]
  },
  {
   "cell_type": "markdown",
   "id": "aefce49e",
   "metadata": {},
   "source": [
    "nombre_infected       854\n",
    "nombre_sain          2345\n",
    "nombre_exposed        502\n",
    "nombre_recovered    16299\n",
    "Name: 562, dtype: int64"
   ]
  },
  {
   "cell_type": "markdown",
   "id": "ce845ad8",
   "metadata": {},
   "source": [
    "nombre_infected       859\n",
    "nombre_sain          2355\n",
    "nombre_exposed        489\n",
    "nombre_recovered    16297\n",
    "Name: 563, dtype: int64"
   ]
  },
  {
   "cell_type": "markdown",
   "id": "ed6cd821",
   "metadata": {},
   "source": [
    "nombre_infected       868\n",
    "nombre_sain          2327\n",
    "nombre_exposed        507\n",
    "nombre_recovered    16298\n",
    "Name: 564, dtype: int64"
   ]
  },
  {
   "cell_type": "markdown",
   "id": "8215e992",
   "metadata": {},
   "source": [
    "nombre_infected       868\n",
    "nombre_sain          2313\n",
    "nombre_exposed        517\n",
    "nombre_recovered    16302\n",
    "Name: 565, dtype: int64"
   ]
  },
  {
   "cell_type": "markdown",
   "id": "89ab5478",
   "metadata": {},
   "source": [
    "nombre_infected       873\n",
    "nombre_sain          2288\n",
    "nombre_exposed        507\n",
    "nombre_recovered    16332\n",
    "Name: 566, dtype: int64"
   ]
  },
  {
   "cell_type": "markdown",
   "id": "7c14b1d0",
   "metadata": {},
   "source": [
    "nombre_infected       872\n",
    "nombre_sain          2269\n",
    "nombre_exposed        513\n",
    "nombre_recovered    16346\n",
    "Name: 567, dtype: int64"
   ]
  },
  {
   "cell_type": "markdown",
   "id": "55756202",
   "metadata": {},
   "source": [
    "nombre_infected       901\n",
    "nombre_sain          2252\n",
    "nombre_exposed        517\n",
    "nombre_recovered    16330\n",
    "Name: 568, dtype: int64"
   ]
  },
  {
   "cell_type": "markdown",
   "id": "270ffb07",
   "metadata": {},
   "source": [
    "nombre_infected       893\n",
    "nombre_sain          2228\n",
    "nombre_exposed        531\n",
    "nombre_recovered    16348\n",
    "Name: 569, dtype: int64"
   ]
  },
  {
   "cell_type": "markdown",
   "id": "b40a606d",
   "metadata": {},
   "source": [
    "nombre_infected       914\n",
    "nombre_sain          2234\n",
    "nombre_exposed        509\n",
    "nombre_recovered    16343\n",
    "Name: 570, dtype: int64"
   ]
  },
  {
   "cell_type": "markdown",
   "id": "4a9d40af",
   "metadata": {},
   "source": [
    "nombre_infected       921\n",
    "nombre_sain          2205\n",
    "nombre_exposed        520\n",
    "nombre_recovered    16354\n",
    "Name: 571, dtype: int64"
   ]
  },
  {
   "cell_type": "markdown",
   "id": "5e814e0e",
   "metadata": {},
   "source": [
    "nombre_infected       950\n",
    "nombre_sain          2185\n",
    "nombre_exposed        521\n",
    "nombre_recovered    16344\n",
    "Name: 572, dtype: int64"
   ]
  },
  {
   "cell_type": "markdown",
   "id": "408528d1",
   "metadata": {},
   "source": [
    "nombre_infected       927\n",
    "nombre_sain          2176\n",
    "nombre_exposed        530\n",
    "nombre_recovered    16367\n",
    "Name: 573, dtype: int64"
   ]
  },
  {
   "cell_type": "markdown",
   "id": "01116ba1",
   "metadata": {},
   "source": [
    "nombre_infected       944\n",
    "nombre_sain          2168\n",
    "nombre_exposed        535\n",
    "nombre_recovered    16353\n",
    "Name: 574, dtype: int64"
   ]
  },
  {
   "cell_type": "markdown",
   "id": "4164be83",
   "metadata": {},
   "source": [
    "nombre_infected       938\n",
    "nombre_sain          2154\n",
    "nombre_exposed        537\n",
    "nombre_recovered    16371\n",
    "Name: 575, dtype: int64"
   ]
  },
  {
   "cell_type": "markdown",
   "id": "e9629361",
   "metadata": {},
   "source": [
    "nombre_infected       938\n",
    "nombre_sain          2121\n",
    "nombre_exposed        550\n",
    "nombre_recovered    16391\n",
    "Name: 576, dtype: int64"
   ]
  },
  {
   "cell_type": "markdown",
   "id": "a9bf90d8",
   "metadata": {},
   "source": [
    "nombre_infected       941\n",
    "nombre_sain          2108\n",
    "nombre_exposed        560\n",
    "nombre_recovered    16391\n",
    "Name: 577, dtype: int64"
   ]
  },
  {
   "cell_type": "markdown",
   "id": "7aa4fc7f",
   "metadata": {},
   "source": [
    "nombre_infected       963\n",
    "nombre_sain          2107\n",
    "nombre_exposed        553\n",
    "nombre_recovered    16377\n",
    "Name: 578, dtype: int64"
   ]
  },
  {
   "cell_type": "markdown",
   "id": "ad2b1b26",
   "metadata": {},
   "source": [
    "nombre_infected       958\n",
    "nombre_sain          2115\n",
    "nombre_exposed        568\n",
    "nombre_recovered    16359\n",
    "Name: 579, dtype: int64"
   ]
  },
  {
   "cell_type": "markdown",
   "id": "63d00a5b",
   "metadata": {},
   "source": [
    "nombre_infected       985\n",
    "nombre_sain          2147\n",
    "nombre_exposed        536\n",
    "nombre_recovered    16332\n",
    "Name: 580, dtype: int64"
   ]
  },
  {
   "cell_type": "markdown",
   "id": "14a4845b",
   "metadata": {},
   "source": [
    "nombre_infected       989\n",
    "nombre_sain          2126\n",
    "nombre_exposed        538\n",
    "nombre_recovered    16347\n",
    "Name: 581, dtype: int64"
   ]
  },
  {
   "cell_type": "markdown",
   "id": "231f259c",
   "metadata": {},
   "source": [
    "nombre_infected       988\n",
    "nombre_sain          2112\n",
    "nombre_exposed        527\n",
    "nombre_recovered    16373\n",
    "Name: 582, dtype: int64"
   ]
  },
  {
   "cell_type": "markdown",
   "id": "fe107cd4",
   "metadata": {},
   "source": [
    "nombre_infected      1010\n",
    "nombre_sain          2108\n",
    "nombre_exposed        507\n",
    "nombre_recovered    16375\n",
    "Name: 583, dtype: int64"
   ]
  },
  {
   "cell_type": "markdown",
   "id": "6ed3153c",
   "metadata": {},
   "source": [
    "nombre_infected       983\n",
    "nombre_sain          2127\n",
    "nombre_exposed        506\n",
    "nombre_recovered    16384\n",
    "Name: 584, dtype: int64"
   ]
  },
  {
   "cell_type": "markdown",
   "id": "57da2b3c",
   "metadata": {},
   "source": [
    "nombre_infected       973\n",
    "nombre_sain          2144\n",
    "nombre_exposed        508\n",
    "nombre_recovered    16375\n",
    "Name: 585, dtype: int64"
   ]
  },
  {
   "cell_type": "markdown",
   "id": "0a21c803",
   "metadata": {},
   "source": [
    "nombre_infected       969\n",
    "nombre_sain          2159\n",
    "nombre_exposed        501\n",
    "nombre_recovered    16371\n",
    "Name: 586, dtype: int64"
   ]
  },
  {
   "cell_type": "markdown",
   "id": "245c24ad",
   "metadata": {},
   "source": [
    "nombre_infected       983\n",
    "nombre_sain          2155\n",
    "nombre_exposed        502\n",
    "nombre_recovered    16360\n",
    "Name: 587, dtype: int64"
   ]
  },
  {
   "cell_type": "markdown",
   "id": "2e08810f",
   "metadata": {},
   "source": [
    "nombre_infected       986\n",
    "nombre_sain          2130\n",
    "nombre_exposed        523\n",
    "nombre_recovered    16361\n",
    "Name: 588, dtype: int64"
   ]
  },
  {
   "cell_type": "markdown",
   "id": "a8e7979d",
   "metadata": {},
   "source": [
    "nombre_infected       958\n",
    "nombre_sain          2134\n",
    "nombre_exposed        541\n",
    "nombre_recovered    16367\n",
    "Name: 589, dtype: int64"
   ]
  },
  {
   "cell_type": "markdown",
   "id": "0a03a5f8",
   "metadata": {},
   "source": [
    "nombre_infected       978\n",
    "nombre_sain          2130\n",
    "nombre_exposed        541\n",
    "nombre_recovered    16351\n",
    "Name: 590, dtype: int64"
   ]
  },
  {
   "cell_type": "markdown",
   "id": "5f60ab10",
   "metadata": {},
   "source": [
    "nombre_infected       962\n",
    "nombre_sain          2144\n",
    "nombre_exposed        538\n",
    "nombre_recovered    16356\n",
    "Name: 591, dtype: int64"
   ]
  },
  {
   "cell_type": "markdown",
   "id": "9ee9a0ee",
   "metadata": {},
   "source": [
    "nombre_infected       992\n",
    "nombre_sain          2131\n",
    "nombre_exposed        526\n",
    "nombre_recovered    16351\n",
    "Name: 592, dtype: int64"
   ]
  },
  {
   "cell_type": "markdown",
   "id": "4d3882dd",
   "metadata": {},
   "source": [
    "nombre_infected       973\n",
    "nombre_sain          2154\n",
    "nombre_exposed        526\n",
    "nombre_recovered    16347\n",
    "Name: 593, dtype: int64"
   ]
  },
  {
   "cell_type": "markdown",
   "id": "ad348e12",
   "metadata": {},
   "source": [
    "nombre_infected       971\n",
    "nombre_sain          2174\n",
    "nombre_exposed        511\n",
    "nombre_recovered    16344\n",
    "Name: 594, dtype: int64"
   ]
  },
  {
   "cell_type": "markdown",
   "id": "2e0441dd",
   "metadata": {},
   "source": [
    "nombre_infected       968\n",
    "nombre_sain          2154\n",
    "nombre_exposed        515\n",
    "nombre_recovered    16363\n",
    "Name: 595, dtype: int64"
   ]
  },
  {
   "cell_type": "markdown",
   "id": "9c940b78",
   "metadata": {},
   "source": [
    "nombre_infected       971\n",
    "nombre_sain          2135\n",
    "nombre_exposed        508\n",
    "nombre_recovered    16386\n",
    "Name: 596, dtype: int64"
   ]
  },
  {
   "cell_type": "markdown",
   "id": "62a2127a",
   "metadata": {},
   "source": [
    "nombre_infected       955\n",
    "nombre_sain          2154\n",
    "nombre_exposed        511\n",
    "nombre_recovered    16380\n",
    "Name: 597, dtype: int64"
   ]
  },
  {
   "cell_type": "markdown",
   "id": "57ff075d",
   "metadata": {},
   "source": [
    "nombre_infected       961\n",
    "nombre_sain          2162\n",
    "nombre_exposed        487\n",
    "nombre_recovered    16390\n",
    "Name: 598, dtype: int64"
   ]
  },
  {
   "cell_type": "markdown",
   "id": "9e059a5d",
   "metadata": {},
   "source": [
    "nombre_infected       941\n",
    "nombre_sain          2195\n",
    "nombre_exposed        491\n",
    "nombre_recovered    16373\n",
    "Name: 599, dtype: int64"
   ]
  },
  {
   "cell_type": "markdown",
   "id": "d0306e92",
   "metadata": {},
   "source": [
    "nombre_infected       941\n",
    "nombre_sain          2206\n",
    "nombre_exposed        481\n",
    "nombre_recovered    16372\n",
    "Name: 600, dtype: int64"
   ]
  },
  {
   "cell_type": "markdown",
   "id": "b9619a07",
   "metadata": {},
   "source": [
    "nombre_infected       923\n",
    "nombre_sain          2228\n",
    "nombre_exposed        483\n",
    "nombre_recovered    16366\n",
    "Name: 601, dtype: int64"
   ]
  },
  {
   "cell_type": "markdown",
   "id": "ab644c07",
   "metadata": {},
   "source": [
    "nombre_infected       923\n",
    "nombre_sain          2252\n",
    "nombre_exposed        471\n",
    "nombre_recovered    16354\n",
    "Name: 602, dtype: int64"
   ]
  },
  {
   "cell_type": "markdown",
   "id": "d5e5ddb1",
   "metadata": {},
   "source": [
    "nombre_infected       918\n",
    "nombre_sain          2243\n",
    "nombre_exposed        503\n",
    "nombre_recovered    16336\n",
    "Name: 603, dtype: int64"
   ]
  },
  {
   "cell_type": "markdown",
   "id": "63f37d80",
   "metadata": {},
   "source": [
    "nombre_infected       913\n",
    "nombre_sain          2263\n",
    "nombre_exposed        508\n",
    "nombre_recovered    16316\n",
    "Name: 604, dtype: int64"
   ]
  },
  {
   "cell_type": "markdown",
   "id": "f8584fe3",
   "metadata": {},
   "source": [
    "nombre_infected       910\n",
    "nombre_sain          2276\n",
    "nombre_exposed        511\n",
    "nombre_recovered    16303\n",
    "Name: 605, dtype: int64"
   ]
  },
  {
   "cell_type": "markdown",
   "id": "ba207aa9",
   "metadata": {},
   "source": [
    "nombre_infected       907\n",
    "nombre_sain          2296\n",
    "nombre_exposed        510\n",
    "nombre_recovered    16287\n",
    "Name: 606, dtype: int64"
   ]
  },
  {
   "cell_type": "markdown",
   "id": "420a1916",
   "metadata": {},
   "source": [
    "nombre_infected       897\n",
    "nombre_sain          2327\n",
    "nombre_exposed        511\n",
    "nombre_recovered    16265\n",
    "Name: 607, dtype: int64"
   ]
  },
  {
   "cell_type": "markdown",
   "id": "82a61a73",
   "metadata": {},
   "source": [
    "nombre_infected       905\n",
    "nombre_sain          2353\n",
    "nombre_exposed        495\n",
    "nombre_recovered    16247\n",
    "Name: 608, dtype: int64"
   ]
  },
  {
   "cell_type": "markdown",
   "id": "5a75bdb9",
   "metadata": {},
   "source": [
    "nombre_infected       913\n",
    "nombre_sain          2372\n",
    "nombre_exposed        498\n",
    "nombre_recovered    16217\n",
    "Name: 609, dtype: int64"
   ]
  },
  {
   "cell_type": "markdown",
   "id": "09f0cd3d",
   "metadata": {},
   "source": [
    "nombre_infected       924\n",
    "nombre_sain          2390\n",
    "nombre_exposed        518\n",
    "nombre_recovered    16168\n",
    "Name: 610, dtype: int64"
   ]
  },
  {
   "cell_type": "markdown",
   "id": "ef677e79",
   "metadata": {},
   "source": [
    "nombre_infected       920\n",
    "nombre_sain          2423\n",
    "nombre_exposed        527\n",
    "nombre_recovered    16130\n",
    "Name: 611, dtype: int64"
   ]
  },
  {
   "cell_type": "markdown",
   "id": "030d5d9e",
   "metadata": {},
   "source": [
    "nombre_infected       907\n",
    "nombre_sain          2466\n",
    "nombre_exposed        532\n",
    "nombre_recovered    16095\n",
    "Name: 612, dtype: int64"
   ]
  },
  {
   "cell_type": "markdown",
   "id": "f340c54f",
   "metadata": {},
   "source": [
    "nombre_infected       891\n",
    "nombre_sain          2489\n",
    "nombre_exposed        532\n",
    "nombre_recovered    16088\n",
    "Name: 613, dtype: int64"
   ]
  },
  {
   "cell_type": "markdown",
   "id": "6328ef05",
   "metadata": {},
   "source": [
    "nombre_infected       897\n",
    "nombre_sain          2540\n",
    "nombre_exposed        513\n",
    "nombre_recovered    16050\n",
    "Name: 614, dtype: int64"
   ]
  },
  {
   "cell_type": "markdown",
   "id": "d246dd9d",
   "metadata": {},
   "source": [
    "nombre_infected       905\n",
    "nombre_sain          2546\n",
    "nombre_exposed        510\n",
    "nombre_recovered    16039\n",
    "Name: 615, dtype: int64"
   ]
  },
  {
   "cell_type": "markdown",
   "id": "f8172e87",
   "metadata": {},
   "source": [
    "nombre_infected       908\n",
    "nombre_sain          2560\n",
    "nombre_exposed        525\n",
    "nombre_recovered    16007\n",
    "Name: 616, dtype: int64"
   ]
  },
  {
   "cell_type": "markdown",
   "id": "6d8531ad",
   "metadata": {},
   "source": [
    "nombre_infected       908\n",
    "nombre_sain          2551\n",
    "nombre_exposed        559\n",
    "nombre_recovered    15982\n",
    "Name: 617, dtype: int64"
   ]
  },
  {
   "cell_type": "markdown",
   "id": "7ed44166",
   "metadata": {},
   "source": [
    "nombre_infected       900\n",
    "nombre_sain          2554\n",
    "nombre_exposed        586\n",
    "nombre_recovered    15960\n",
    "Name: 618, dtype: int64"
   ]
  },
  {
   "cell_type": "markdown",
   "id": "fbc4d6b3",
   "metadata": {},
   "source": [
    "nombre_infected       921\n",
    "nombre_sain          2549\n",
    "nombre_exposed        604\n",
    "nombre_recovered    15926\n",
    "Name: 619, dtype: int64"
   ]
  },
  {
   "cell_type": "markdown",
   "id": "56a8dcb2",
   "metadata": {},
   "source": [
    "nombre_infected       958\n",
    "nombre_sain          2547\n",
    "nombre_exposed        581\n",
    "nombre_recovered    15914\n",
    "Name: 620, dtype: int64"
   ]
  },
  {
   "cell_type": "markdown",
   "id": "17dec390",
   "metadata": {},
   "source": [
    "nombre_infected       984\n",
    "nombre_sain          2544\n",
    "nombre_exposed        576\n",
    "nombre_recovered    15896\n",
    "Name: 621, dtype: int64"
   ]
  },
  {
   "cell_type": "markdown",
   "id": "96427e39",
   "metadata": {},
   "source": [
    "nombre_infected       981\n",
    "nombre_sain          2526\n",
    "nombre_exposed        601\n",
    "nombre_recovered    15892\n",
    "Name: 622, dtype: int64"
   ]
  },
  {
   "cell_type": "markdown",
   "id": "bcb4d22c",
   "metadata": {},
   "source": [
    "nombre_infected       968\n",
    "nombre_sain          2522\n",
    "nombre_exposed        607\n",
    "nombre_recovered    15903\n",
    "Name: 623, dtype: int64"
   ]
  },
  {
   "cell_type": "markdown",
   "id": "9e662728",
   "metadata": {},
   "source": [
    "nombre_infected       996\n",
    "nombre_sain          2495\n",
    "nombre_exposed        617\n",
    "nombre_recovered    15892\n",
    "Name: 624, dtype: int64"
   ]
  },
  {
   "cell_type": "markdown",
   "id": "eb1a02b2",
   "metadata": {},
   "source": [
    "nombre_infected      1026\n",
    "nombre_sain          2496\n",
    "nombre_exposed        593\n",
    "nombre_recovered    15885\n",
    "Name: 625, dtype: int64"
   ]
  },
  {
   "cell_type": "markdown",
   "id": "c85ac605",
   "metadata": {},
   "source": [
    "nombre_infected      1039\n",
    "nombre_sain          2473\n",
    "nombre_exposed        606\n",
    "nombre_recovered    15882\n",
    "Name: 626, dtype: int64"
   ]
  },
  {
   "cell_type": "markdown",
   "id": "25acfc9b",
   "metadata": {},
   "source": [
    "nombre_infected      1048\n",
    "nombre_sain          2457\n",
    "nombre_exposed        617\n",
    "nombre_recovered    15878\n",
    "Name: 627, dtype: int64"
   ]
  },
  {
   "cell_type": "markdown",
   "id": "1b685072",
   "metadata": {},
   "source": [
    "nombre_infected      1083\n",
    "nombre_sain          2430\n",
    "nombre_exposed        614\n",
    "nombre_recovered    15873\n",
    "Name: 628, dtype: int64"
   ]
  },
  {
   "cell_type": "markdown",
   "id": "933302fe",
   "metadata": {},
   "source": [
    "nombre_infected      1102\n",
    "nombre_sain          2409\n",
    "nombre_exposed        610\n",
    "nombre_recovered    15879\n",
    "Name: 629, dtype: int64"
   ]
  },
  {
   "cell_type": "markdown",
   "id": "31be3866",
   "metadata": {},
   "source": [
    "nombre_infected      1117\n",
    "nombre_sain          2397\n",
    "nombre_exposed        604\n",
    "nombre_recovered    15882\n",
    "Name: 630, dtype: int64"
   ]
  },
  {
   "cell_type": "markdown",
   "id": "0254c4aa",
   "metadata": {},
   "source": [
    "nombre_infected      1125\n",
    "nombre_sain          2372\n",
    "nombre_exposed        612\n",
    "nombre_recovered    15891\n",
    "Name: 631, dtype: int64"
   ]
  },
  {
   "cell_type": "markdown",
   "id": "4d6d5b6b",
   "metadata": {},
   "source": [
    "nombre_infected      1145\n",
    "nombre_sain          2333\n",
    "nombre_exposed        600\n",
    "nombre_recovered    15922\n",
    "Name: 632, dtype: int64"
   ]
  },
  {
   "cell_type": "markdown",
   "id": "ba79f7f4",
   "metadata": {},
   "source": [
    "nombre_infected      1151\n",
    "nombre_sain          2291\n",
    "nombre_exposed        630\n",
    "nombre_recovered    15928\n",
    "Name: 633, dtype: int64"
   ]
  },
  {
   "cell_type": "markdown",
   "id": "659e8785",
   "metadata": {},
   "source": [
    "nombre_infected      1159\n",
    "nombre_sain          2265\n",
    "nombre_exposed        627\n",
    "nombre_recovered    15949\n",
    "Name: 634, dtype: int64"
   ]
  },
  {
   "cell_type": "markdown",
   "id": "44ebaa16",
   "metadata": {},
   "source": [
    "nombre_infected      1158\n",
    "nombre_sain          2251\n",
    "nombre_exposed        609\n",
    "nombre_recovered    15982\n",
    "Name: 635, dtype: int64"
   ]
  },
  {
   "cell_type": "markdown",
   "id": "55efdb14",
   "metadata": {},
   "source": [
    "nombre_infected      1195\n",
    "nombre_sain          2222\n",
    "nombre_exposed        589\n",
    "nombre_recovered    15994\n",
    "Name: 636, dtype: int64"
   ]
  },
  {
   "cell_type": "markdown",
   "id": "1c9406c6",
   "metadata": {},
   "source": [
    "nombre_infected      1194\n",
    "nombre_sain          2210\n",
    "nombre_exposed        575\n",
    "nombre_recovered    16021\n",
    "Name: 637, dtype: int64"
   ]
  },
  {
   "cell_type": "markdown",
   "id": "36eec192",
   "metadata": {},
   "source": [
    "nombre_infected      1182\n",
    "nombre_sain          2165\n",
    "nombre_exposed        603\n",
    "nombre_recovered    16050\n",
    "Name: 638, dtype: int64"
   ]
  },
  {
   "cell_type": "markdown",
   "id": "b1bb7200",
   "metadata": {},
   "source": [
    "nombre_infected      1186\n",
    "nombre_sain          2169\n",
    "nombre_exposed        599\n",
    "nombre_recovered    16046\n",
    "Name: 639, dtype: int64"
   ]
  },
  {
   "cell_type": "markdown",
   "id": "a7df74d1",
   "metadata": {},
   "source": [
    "nombre_infected      1188\n",
    "nombre_sain          2168\n",
    "nombre_exposed        585\n",
    "nombre_recovered    16059\n",
    "Name: 640, dtype: int64"
   ]
  },
  {
   "cell_type": "markdown",
   "id": "a9e5aef0",
   "metadata": {},
   "source": [
    "nombre_infected      1184\n",
    "nombre_sain          2155\n",
    "nombre_exposed        588\n",
    "nombre_recovered    16073\n",
    "Name: 641, dtype: int64"
   ]
  },
  {
   "cell_type": "markdown",
   "id": "05fcd62f",
   "metadata": {},
   "source": [
    "nombre_infected      1184\n",
    "nombre_sain          2132\n",
    "nombre_exposed        576\n",
    "nombre_recovered    16108\n",
    "Name: 642, dtype: int64"
   ]
  },
  {
   "cell_type": "markdown",
   "id": "7c2f8c42",
   "metadata": {},
   "source": [
    "nombre_infected      1153\n",
    "nombre_sain          2110\n",
    "nombre_exposed        591\n",
    "nombre_recovered    16146\n",
    "Name: 643, dtype: int64"
   ]
  },
  {
   "cell_type": "markdown",
   "id": "61ab101c",
   "metadata": {},
   "source": [
    "nombre_infected      1149\n",
    "nombre_sain          2094\n",
    "nombre_exposed        592\n",
    "nombre_recovered    16165\n",
    "Name: 644, dtype: int64"
   ]
  },
  {
   "cell_type": "markdown",
   "id": "644d18f5",
   "metadata": {},
   "source": [
    "nombre_infected      1139\n",
    "nombre_sain          2089\n",
    "nombre_exposed        581\n",
    "nombre_recovered    16191\n",
    "Name: 645, dtype: int64"
   ]
  },
  {
   "cell_type": "markdown",
   "id": "c0f5d38b",
   "metadata": {},
   "source": [
    "nombre_infected      1123\n",
    "nombre_sain          2090\n",
    "nombre_exposed        577\n",
    "nombre_recovered    16210\n",
    "Name: 646, dtype: int64"
   ]
  },
  {
   "cell_type": "markdown",
   "id": "9aa55a76",
   "metadata": {},
   "source": [
    "nombre_infected      1135\n",
    "nombre_sain          2095\n",
    "nombre_exposed        551\n",
    "nombre_recovered    16219\n",
    "Name: 647, dtype: int64"
   ]
  },
  {
   "cell_type": "markdown",
   "id": "9e4cd690",
   "metadata": {},
   "source": [
    "nombre_infected      1159\n",
    "nombre_sain          2091\n",
    "nombre_exposed        553\n",
    "nombre_recovered    16197\n",
    "Name: 648, dtype: int64"
   ]
  },
  {
   "cell_type": "markdown",
   "id": "c4b5cea0",
   "metadata": {},
   "source": [
    "nombre_infected      1150\n",
    "nombre_sain          2088\n",
    "nombre_exposed        557\n",
    "nombre_recovered    16205\n",
    "Name: 649, dtype: int64"
   ]
  },
  {
   "cell_type": "markdown",
   "id": "c7a885e5",
   "metadata": {},
   "source": [
    "nombre_infected      1170\n",
    "nombre_sain          2078\n",
    "nombre_exposed        533\n",
    "nombre_recovered    16219\n",
    "Name: 650, dtype: int64"
   ]
  },
  {
   "cell_type": "markdown",
   "id": "3c209b64",
   "metadata": {},
   "source": [
    "nombre_infected      1142\n",
    "nombre_sain          2067\n",
    "nombre_exposed        555\n",
    "nombre_recovered    16236\n",
    "Name: 651, dtype: int64"
   ]
  },
  {
   "cell_type": "markdown",
   "id": "591a2f84",
   "metadata": {},
   "source": [
    "nombre_infected      1110\n",
    "nombre_sain          2059\n",
    "nombre_exposed        561\n",
    "nombre_recovered    16270\n",
    "Name: 652, dtype: int64"
   ]
  },
  {
   "cell_type": "markdown",
   "id": "1bf38aab",
   "metadata": {},
   "source": [
    "nombre_infected      1106\n",
    "nombre_sain          2046\n",
    "nombre_exposed        575\n",
    "nombre_recovered    16273\n",
    "Name: 653, dtype: int64"
   ]
  },
  {
   "cell_type": "markdown",
   "id": "5c31b713",
   "metadata": {},
   "source": [
    "nombre_infected      1099\n",
    "nombre_sain          2054\n",
    "nombre_exposed        571\n",
    "nombre_recovered    16276\n",
    "Name: 654, dtype: int64"
   ]
  },
  {
   "cell_type": "markdown",
   "id": "7b917cd5",
   "metadata": {},
   "source": [
    "nombre_infected      1116\n",
    "nombre_sain          2063\n",
    "nombre_exposed        564\n",
    "nombre_recovered    16257\n",
    "Name: 655, dtype: int64"
   ]
  },
  {
   "cell_type": "markdown",
   "id": "fe18fcfd",
   "metadata": {},
   "source": [
    "nombre_infected      1095\n",
    "nombre_sain          2057\n",
    "nombre_exposed        586\n",
    "nombre_recovered    16262\n",
    "Name: 656, dtype: int64"
   ]
  },
  {
   "cell_type": "markdown",
   "id": "c1ec037f",
   "metadata": {},
   "source": [
    "nombre_infected      1102\n",
    "nombre_sain          2044\n",
    "nombre_exposed        578\n",
    "nombre_recovered    16276\n",
    "Name: 657, dtype: int64"
   ]
  },
  {
   "cell_type": "markdown",
   "id": "520140af",
   "metadata": {},
   "source": [
    "nombre_infected      1098\n",
    "nombre_sain          2033\n",
    "nombre_exposed        575\n",
    "nombre_recovered    16294\n",
    "Name: 658, dtype: int64"
   ]
  },
  {
   "cell_type": "markdown",
   "id": "08d82229",
   "metadata": {},
   "source": [
    "nombre_infected      1102\n",
    "nombre_sain          2026\n",
    "nombre_exposed        579\n",
    "nombre_recovered    16293\n",
    "Name: 659, dtype: int64"
   ]
  },
  {
   "cell_type": "markdown",
   "id": "34827c43",
   "metadata": {},
   "source": [
    "nombre_infected      1079\n",
    "nombre_sain          2028\n",
    "nombre_exposed        582\n",
    "nombre_recovered    16311\n",
    "Name: 660, dtype: int64"
   ]
  },
  {
   "cell_type": "markdown",
   "id": "c3a16ef7",
   "metadata": {},
   "source": [
    "nombre_infected      1095\n",
    "nombre_sain          2053\n",
    "nombre_exposed        544\n",
    "nombre_recovered    16308\n",
    "Name: 661, dtype: int64"
   ]
  },
  {
   "cell_type": "markdown",
   "id": "0b5c0ffd",
   "metadata": {},
   "source": [
    "nombre_infected      1081\n",
    "nombre_sain          2055\n",
    "nombre_exposed        539\n",
    "nombre_recovered    16325\n",
    "Name: 662, dtype: int64"
   ]
  },
  {
   "cell_type": "markdown",
   "id": "73ba5b2a",
   "metadata": {},
   "source": [
    "nombre_infected      1093\n",
    "nombre_sain          2065\n",
    "nombre_exposed        526\n",
    "nombre_recovered    16316\n",
    "Name: 663, dtype: int64"
   ]
  },
  {
   "cell_type": "markdown",
   "id": "76b9e15f",
   "metadata": {},
   "source": [
    "nombre_infected      1084\n",
    "nombre_sain          2057\n",
    "nombre_exposed        548\n",
    "nombre_recovered    16311\n",
    "Name: 664, dtype: int64"
   ]
  },
  {
   "cell_type": "markdown",
   "id": "d8484246",
   "metadata": {},
   "source": [
    "nombre_infected      1078\n",
    "nombre_sain          2060\n",
    "nombre_exposed        558\n",
    "nombre_recovered    16304\n",
    "Name: 665, dtype: int64"
   ]
  },
  {
   "cell_type": "markdown",
   "id": "bdda9e6f",
   "metadata": {},
   "source": [
    "nombre_infected      1066\n",
    "nombre_sain          2048\n",
    "nombre_exposed        553\n",
    "nombre_recovered    16333\n",
    "Name: 666, dtype: int64"
   ]
  },
  {
   "cell_type": "markdown",
   "id": "c72cee63",
   "metadata": {},
   "source": [
    "nombre_infected      1066\n",
    "nombre_sain          2061\n",
    "nombre_exposed        538\n",
    "nombre_recovered    16335\n",
    "Name: 667, dtype: int64"
   ]
  },
  {
   "cell_type": "markdown",
   "id": "4fcd3c86",
   "metadata": {},
   "source": [
    "nombre_infected      1064\n",
    "nombre_sain          2078\n",
    "nombre_exposed        544\n",
    "nombre_recovered    16314\n",
    "Name: 668, dtype: int64"
   ]
  },
  {
   "cell_type": "markdown",
   "id": "e28826a5",
   "metadata": {},
   "source": [
    "nombre_infected      1063\n",
    "nombre_sain          2067\n",
    "nombre_exposed        562\n",
    "nombre_recovered    16308\n",
    "Name: 669, dtype: int64"
   ]
  },
  {
   "cell_type": "markdown",
   "id": "26b06d1e",
   "metadata": {},
   "source": [
    "nombre_infected      1074\n",
    "nombre_sain          2068\n",
    "nombre_exposed        549\n",
    "nombre_recovered    16309\n",
    "Name: 670, dtype: int64"
   ]
  },
  {
   "cell_type": "markdown",
   "id": "0552e647",
   "metadata": {},
   "source": [
    "nombre_infected      1069\n",
    "nombre_sain          2066\n",
    "nombre_exposed        557\n",
    "nombre_recovered    16308\n",
    "Name: 671, dtype: int64"
   ]
  },
  {
   "cell_type": "markdown",
   "id": "af90b2f3",
   "metadata": {},
   "source": [
    "nombre_infected      1065\n",
    "nombre_sain          2068\n",
    "nombre_exposed        556\n",
    "nombre_recovered    16311\n",
    "Name: 672, dtype: int64"
   ]
  },
  {
   "cell_type": "markdown",
   "id": "26f54e42",
   "metadata": {},
   "source": [
    "nombre_infected      1072\n",
    "nombre_sain          2081\n",
    "nombre_exposed        549\n",
    "nombre_recovered    16298\n",
    "Name: 673, dtype: int64"
   ]
  },
  {
   "cell_type": "markdown",
   "id": "66b9bc97",
   "metadata": {},
   "source": [
    "nombre_infected      1064\n",
    "nombre_sain          2083\n",
    "nombre_exposed        534\n",
    "nombre_recovered    16319\n",
    "Name: 674, dtype: int64"
   ]
  },
  {
   "cell_type": "markdown",
   "id": "82d47217",
   "metadata": {},
   "source": [
    "nombre_infected      1036\n",
    "nombre_sain          2077\n",
    "nombre_exposed        556\n",
    "nombre_recovered    16331\n",
    "Name: 675, dtype: int64"
   ]
  },
  {
   "cell_type": "markdown",
   "id": "aa4b58b3",
   "metadata": {},
   "source": [
    "nombre_infected      1028\n",
    "nombre_sain          2067\n",
    "nombre_exposed        564\n",
    "nombre_recovered    16341\n",
    "Name: 676, dtype: int64"
   ]
  },
  {
   "cell_type": "markdown",
   "id": "88bbf426",
   "metadata": {},
   "source": [
    "nombre_infected      1036\n",
    "nombre_sain          2059\n",
    "nombre_exposed        574\n",
    "nombre_recovered    16331\n",
    "Name: 677, dtype: int64"
   ]
  },
  {
   "cell_type": "markdown",
   "id": "9f18804e",
   "metadata": {},
   "source": [
    "nombre_infected      1010\n",
    "nombre_sain          2075\n",
    "nombre_exposed        570\n",
    "nombre_recovered    16345\n",
    "Name: 678, dtype: int64"
   ]
  },
  {
   "cell_type": "markdown",
   "id": "b18d890b",
   "metadata": {},
   "source": [
    "nombre_infected      1048\n",
    "nombre_sain          2088\n",
    "nombre_exposed        545\n",
    "nombre_recovered    16319\n",
    "Name: 679, dtype: int64"
   ]
  },
  {
   "cell_type": "markdown",
   "id": "5f450d8e",
   "metadata": {},
   "source": [
    "nombre_infected      1062\n",
    "nombre_sain          2107\n",
    "nombre_exposed        526\n",
    "nombre_recovered    16305\n",
    "Name: 680, dtype: int64"
   ]
  },
  {
   "cell_type": "markdown",
   "id": "a9b01ce7",
   "metadata": {},
   "source": [
    "nombre_infected      1072\n",
    "nombre_sain          2082\n",
    "nombre_exposed        543\n",
    "nombre_recovered    16303\n",
    "Name: 681, dtype: int64"
   ]
  },
  {
   "cell_type": "markdown",
   "id": "369f016e",
   "metadata": {},
   "source": [
    "nombre_infected      1073\n",
    "nombre_sain          2076\n",
    "nombre_exposed        561\n",
    "nombre_recovered    16290\n",
    "Name: 682, dtype: int64"
   ]
  },
  {
   "cell_type": "markdown",
   "id": "9971968a",
   "metadata": {},
   "source": [
    "nombre_infected      1032\n",
    "nombre_sain          2101\n",
    "nombre_exposed        572\n",
    "nombre_recovered    16295\n",
    "Name: 683, dtype: int64"
   ]
  },
  {
   "cell_type": "markdown",
   "id": "9a682065",
   "metadata": {},
   "source": [
    "nombre_infected      1050\n",
    "nombre_sain          2088\n",
    "nombre_exposed        562\n",
    "nombre_recovered    16300\n",
    "Name: 684, dtype: int64"
   ]
  },
  {
   "cell_type": "markdown",
   "id": "b77cc375",
   "metadata": {},
   "source": [
    "nombre_infected      1027\n",
    "nombre_sain          2125\n",
    "nombre_exposed        556\n",
    "nombre_recovered    16292\n",
    "Name: 685, dtype: int64"
   ]
  },
  {
   "cell_type": "markdown",
   "id": "cc97b930",
   "metadata": {},
   "source": [
    "nombre_infected      1028\n",
    "nombre_sain          2154\n",
    "nombre_exposed        537\n",
    "nombre_recovered    16281\n",
    "Name: 686, dtype: int64"
   ]
  },
  {
   "cell_type": "markdown",
   "id": "42eada1a",
   "metadata": {},
   "source": [
    "nombre_infected      1008\n",
    "nombre_sain          2145\n",
    "nombre_exposed        549\n",
    "nombre_recovered    16298\n",
    "Name: 687, dtype: int64"
   ]
  },
  {
   "cell_type": "markdown",
   "id": "e852f18f",
   "metadata": {},
   "source": [
    "nombre_infected       986\n",
    "nombre_sain          2139\n",
    "nombre_exposed        539\n",
    "nombre_recovered    16336\n",
    "Name: 688, dtype: int64"
   ]
  },
  {
   "cell_type": "markdown",
   "id": "a1373d57",
   "metadata": {},
   "source": [
    "nombre_infected       984\n",
    "nombre_sain          2127\n",
    "nombre_exposed        549\n",
    "nombre_recovered    16340\n",
    "Name: 689, dtype: int64"
   ]
  },
  {
   "cell_type": "markdown",
   "id": "b943ee9f",
   "metadata": {},
   "source": [
    "nombre_infected       999\n",
    "nombre_sain          2132\n",
    "nombre_exposed        542\n",
    "nombre_recovered    16327\n",
    "Name: 690, dtype: int64"
   ]
  },
  {
   "cell_type": "markdown",
   "id": "ad7c096e",
   "metadata": {},
   "source": [
    "nombre_infected      1025\n",
    "nombre_sain          2126\n",
    "nombre_exposed        536\n",
    "nombre_recovered    16313\n",
    "Name: 691, dtype: int64"
   ]
  },
  {
   "cell_type": "markdown",
   "id": "175f7ed9",
   "metadata": {},
   "source": [
    "nombre_infected      1003\n",
    "nombre_sain          2104\n",
    "nombre_exposed        543\n",
    "nombre_recovered    16350\n",
    "Name: 692, dtype: int64"
   ]
  },
  {
   "cell_type": "markdown",
   "id": "fca9ee56",
   "metadata": {},
   "source": [
    "nombre_infected       992\n",
    "nombre_sain          2124\n",
    "nombre_exposed        533\n",
    "nombre_recovered    16351\n",
    "Name: 693, dtype: int64"
   ]
  },
  {
   "cell_type": "markdown",
   "id": "98ebb26f",
   "metadata": {},
   "source": [
    "nombre_infected       976\n",
    "nombre_sain          2138\n",
    "nombre_exposed        525\n",
    "nombre_recovered    16361\n",
    "Name: 694, dtype: int64"
   ]
  },
  {
   "cell_type": "markdown",
   "id": "3906754c",
   "metadata": {},
   "source": [
    "nombre_infected       972\n",
    "nombre_sain          2150\n",
    "nombre_exposed        509\n",
    "nombre_recovered    16369\n",
    "Name: 695, dtype: int64"
   ]
  },
  {
   "cell_type": "markdown",
   "id": "7953767c",
   "metadata": {},
   "source": [
    "nombre_infected       978\n",
    "nombre_sain          2174\n",
    "nombre_exposed        495\n",
    "nombre_recovered    16353\n",
    "Name: 696, dtype: int64"
   ]
  },
  {
   "cell_type": "markdown",
   "id": "1c488d3f",
   "metadata": {},
   "source": [
    "nombre_infected       980\n",
    "nombre_sain          2184\n",
    "nombre_exposed        479\n",
    "nombre_recovered    16357\n",
    "Name: 697, dtype: int64"
   ]
  },
  {
   "cell_type": "markdown",
   "id": "03ec2354",
   "metadata": {},
   "source": [
    "nombre_infected       976\n",
    "nombre_sain          2189\n",
    "nombre_exposed        478\n",
    "nombre_recovered    16357\n",
    "Name: 698, dtype: int64"
   ]
  },
  {
   "cell_type": "markdown",
   "id": "4648257b",
   "metadata": {},
   "source": [
    "nombre_infected       938\n",
    "nombre_sain          2197\n",
    "nombre_exposed        499\n",
    "nombre_recovered    16366\n",
    "Name: 699, dtype: int64"
   ]
  },
  {
   "cell_type": "markdown",
   "id": "8b8e2b82",
   "metadata": {},
   "source": [
    "nombre_infected       935\n",
    "nombre_sain          2193\n",
    "nombre_exposed        517\n",
    "nombre_recovered    16355\n",
    "Name: 700, dtype: int64"
   ]
  },
  {
   "cell_type": "markdown",
   "id": "c1f13567",
   "metadata": {},
   "source": [
    "nombre_infected       942\n",
    "nombre_sain          2197\n",
    "nombre_exposed        527\n",
    "nombre_recovered    16334\n",
    "Name: 701, dtype: int64"
   ]
  },
  {
   "cell_type": "markdown",
   "id": "6e0410ea",
   "metadata": {},
   "source": [
    "nombre_infected       943\n",
    "nombre_sain          2193\n",
    "nombre_exposed        533\n",
    "nombre_recovered    16331\n",
    "Name: 702, dtype: int64"
   ]
  },
  {
   "cell_type": "markdown",
   "id": "a65207c1",
   "metadata": {},
   "source": [
    "nombre_infected       946\n",
    "nombre_sain          2208\n",
    "nombre_exposed        530\n",
    "nombre_recovered    16316\n",
    "Name: 703, dtype: int64"
   ]
  },
  {
   "cell_type": "markdown",
   "id": "26d8ec25",
   "metadata": {},
   "source": [
    "nombre_infected       964\n",
    "nombre_sain          2212\n",
    "nombre_exposed        533\n",
    "nombre_recovered    16291\n",
    "Name: 704, dtype: int64"
   ]
  },
  {
   "cell_type": "markdown",
   "id": "5049b323",
   "metadata": {},
   "source": [
    "nombre_infected       990\n",
    "nombre_sain          2217\n",
    "nombre_exposed        516\n",
    "nombre_recovered    16277\n",
    "Name: 705, dtype: int64"
   ]
  },
  {
   "cell_type": "markdown",
   "id": "5b02d73c",
   "metadata": {},
   "source": [
    "nombre_infected      1002\n",
    "nombre_sain          2190\n",
    "nombre_exposed        512\n",
    "nombre_recovered    16296\n",
    "Name: 706, dtype: int64"
   ]
  },
  {
   "cell_type": "markdown",
   "id": "ece420ad",
   "metadata": {},
   "source": [
    "nombre_infected       996\n",
    "nombre_sain          2168\n",
    "nombre_exposed        530\n",
    "nombre_recovered    16306\n",
    "Name: 707, dtype: int64"
   ]
  },
  {
   "cell_type": "markdown",
   "id": "71ade6e9",
   "metadata": {},
   "source": [
    "nombre_infected      1012\n",
    "nombre_sain          2158\n",
    "nombre_exposed        527\n",
    "nombre_recovered    16303\n",
    "Name: 708, dtype: int64"
   ]
  },
  {
   "cell_type": "markdown",
   "id": "783dcf4f",
   "metadata": {},
   "source": [
    "nombre_infected      1031\n",
    "nombre_sain          2149\n",
    "nombre_exposed        523\n",
    "nombre_recovered    16297\n",
    "Name: 709, dtype: int64"
   ]
  },
  {
   "cell_type": "markdown",
   "id": "b897a88b",
   "metadata": {},
   "source": [
    "nombre_infected      1025\n",
    "nombre_sain          2135\n",
    "nombre_exposed        541\n",
    "nombre_recovered    16299\n",
    "Name: 710, dtype: int64"
   ]
  },
  {
   "cell_type": "markdown",
   "id": "daf3fc0c",
   "metadata": {},
   "source": [
    "nombre_infected      1048\n",
    "nombre_sain          2117\n",
    "nombre_exposed        547\n",
    "nombre_recovered    16288\n",
    "Name: 711, dtype: int64"
   ]
  },
  {
   "cell_type": "markdown",
   "id": "f2c08fa8",
   "metadata": {},
   "source": [
    "nombre_infected      1050\n",
    "nombre_sain          2121\n",
    "nombre_exposed        539\n",
    "nombre_recovered    16290\n",
    "Name: 712, dtype: int64"
   ]
  },
  {
   "cell_type": "markdown",
   "id": "81bb246e",
   "metadata": {},
   "source": [
    "nombre_infected      1068\n",
    "nombre_sain          2120\n",
    "nombre_exposed        516\n",
    "nombre_recovered    16296\n",
    "Name: 713, dtype: int64"
   ]
  },
  {
   "cell_type": "markdown",
   "id": "1485a241",
   "metadata": {},
   "source": [
    "nombre_infected      1095\n",
    "nombre_sain          2090\n",
    "nombre_exposed        511\n",
    "nombre_recovered    16304\n",
    "Name: 714, dtype: int64"
   ]
  },
  {
   "cell_type": "markdown",
   "id": "0bccb3d3",
   "metadata": {},
   "source": [
    "nombre_infected      1085\n",
    "nombre_sain          2074\n",
    "nombre_exposed        536\n",
    "nombre_recovered    16305\n",
    "Name: 715, dtype: int64"
   ]
  },
  {
   "cell_type": "markdown",
   "id": "be5920d1",
   "metadata": {},
   "source": [
    "nombre_infected      1077\n",
    "nombre_sain          2048\n",
    "nombre_exposed        535\n",
    "nombre_recovered    16340\n",
    "Name: 716, dtype: int64"
   ]
  },
  {
   "cell_type": "markdown",
   "id": "27153a9f",
   "metadata": {},
   "source": [
    "nombre_infected      1106\n",
    "nombre_sain          2035\n",
    "nombre_exposed        515\n",
    "nombre_recovered    16344\n",
    "Name: 717, dtype: int64"
   ]
  },
  {
   "cell_type": "markdown",
   "id": "fddad1ae",
   "metadata": {},
   "source": [
    "nombre_infected      1080\n",
    "nombre_sain          2003\n",
    "nombre_exposed        532\n",
    "nombre_recovered    16385\n",
    "Name: 718, dtype: int64"
   ]
  },
  {
   "cell_type": "markdown",
   "id": "c01355e1",
   "metadata": {},
   "source": [
    "nombre_infected      1046\n",
    "nombre_sain          1983\n",
    "nombre_exposed        534\n",
    "nombre_recovered    16437\n",
    "Name: 719, dtype: int64"
   ]
  },
  {
   "cell_type": "markdown",
   "id": "c664a5eb",
   "metadata": {},
   "source": [
    "nombre_infected      1046\n",
    "nombre_sain          1977\n",
    "nombre_exposed        520\n",
    "nombre_recovered    16457\n",
    "Name: 720, dtype: int64"
   ]
  },
  {
   "cell_type": "markdown",
   "id": "b45492fb",
   "metadata": {},
   "source": [
    "nombre_infected      1051\n",
    "nombre_sain          1984\n",
    "nombre_exposed        520\n",
    "nombre_recovered    16445\n",
    "Name: 721, dtype: int64"
   ]
  },
  {
   "cell_type": "markdown",
   "id": "67b6bde8",
   "metadata": {},
   "source": [
    "nombre_infected      1057\n",
    "nombre_sain          1975\n",
    "nombre_exposed        496\n",
    "nombre_recovered    16472\n",
    "Name: 722, dtype: int64"
   ]
  },
  {
   "cell_type": "markdown",
   "id": "486fde27",
   "metadata": {},
   "source": [
    "nombre_infected      1070\n",
    "nombre_sain          1959\n",
    "nombre_exposed        497\n",
    "nombre_recovered    16474\n",
    "Name: 723, dtype: int64"
   ]
  },
  {
   "cell_type": "markdown",
   "id": "b45ced4f",
   "metadata": {},
   "source": [
    "nombre_infected      1045\n",
    "nombre_sain          1943\n",
    "nombre_exposed        505\n",
    "nombre_recovered    16507\n",
    "Name: 724, dtype: int64"
   ]
  },
  {
   "cell_type": "markdown",
   "id": "00898e64",
   "metadata": {},
   "source": [
    "nombre_infected      1015\n",
    "nombre_sain          1940\n",
    "nombre_exposed        494\n",
    "nombre_recovered    16551\n",
    "Name: 725, dtype: int64"
   ]
  },
  {
   "cell_type": "markdown",
   "id": "260199b0",
   "metadata": {},
   "source": [
    "nombre_infected      1030\n",
    "nombre_sain          1958\n",
    "nombre_exposed        457\n",
    "nombre_recovered    16555\n",
    "Name: 726, dtype: int64"
   ]
  },
  {
   "cell_type": "markdown",
   "id": "67585f93",
   "metadata": {},
   "source": [
    "nombre_infected      1031\n",
    "nombre_sain          1947\n",
    "nombre_exposed        459\n",
    "nombre_recovered    16563\n",
    "Name: 727, dtype: int64"
   ]
  },
  {
   "cell_type": "markdown",
   "id": "8be49e49",
   "metadata": {},
   "source": [
    "nombre_infected       999\n",
    "nombre_sain          1912\n",
    "nombre_exposed        486\n",
    "nombre_recovered    16603\n",
    "Name: 728, dtype: int64"
   ]
  },
  {
   "cell_type": "markdown",
   "id": "888d335b",
   "metadata": {},
   "source": [
    "nombre_infected       996\n",
    "nombre_sain          1925\n",
    "nombre_exposed        474\n",
    "nombre_recovered    16605\n",
    "Name: 729, dtype: int64"
   ]
  },
  {
   "cell_type": "markdown",
   "id": "3aa3d7a3",
   "metadata": {},
   "source": [
    "nombre_infected       991\n",
    "nombre_sain          1926\n",
    "nombre_exposed        490\n",
    "nombre_recovered    16593\n",
    "Name: 730, dtype: int64"
   ]
  }
 ],
 "metadata": {},
 "nbformat": 4,
 "nbformat_minor": 5
}
