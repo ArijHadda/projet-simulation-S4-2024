{
 "cells": [
  {
   "cell_type": "markdown",
   "id": "6101a5da",
   "metadata": {},
   "source": [
    "nombre_infected        20\n",
    "nombre_sain         19980\n",
    "nombre_exposed          0\n",
    "nombre_recovered        0\n",
    "Name: 0, dtype: int64"
   ]
  },
  {
   "cell_type": "markdown",
   "id": "e0d6fe89",
   "metadata": {},
   "source": [
    "nombre_infected        20\n",
    "nombre_sain         19967\n",
    "nombre_exposed         13\n",
    "nombre_recovered        0\n",
    "Name: 1, dtype: int64"
   ]
  },
  {
   "cell_type": "markdown",
   "id": "0a184393",
   "metadata": {},
   "source": [
    "nombre_infected        20\n",
    "nombre_sain         19945\n",
    "nombre_exposed         35\n",
    "nombre_recovered        0\n",
    "Name: 2, dtype: int64"
   ]
  },
  {
   "cell_type": "markdown",
   "id": "a29ae751",
   "metadata": {},
   "source": [
    "nombre_infected        23\n",
    "nombre_sain         19925\n",
    "nombre_exposed         52\n",
    "nombre_recovered        0\n",
    "Name: 3, dtype: int64"
   ]
  },
  {
   "cell_type": "markdown",
   "id": "4aec3236",
   "metadata": {},
   "source": [
    "nombre_infected        35\n",
    "nombre_sain         19878\n",
    "nombre_exposed         87\n",
    "nombre_recovered        0\n",
    "Name: 4, dtype: int64"
   ]
  },
  {
   "cell_type": "markdown",
   "id": "db2d7993",
   "metadata": {},
   "source": [
    "nombre_infected        44\n",
    "nombre_sain         19840\n",
    "nombre_exposed        113\n",
    "nombre_recovered        3\n",
    "Name: 5, dtype: int64"
   ]
  },
  {
   "cell_type": "markdown",
   "id": "7355edc2",
   "metadata": {},
   "source": [
    "nombre_infected        67\n",
    "nombre_sain         19769\n",
    "nombre_exposed        159\n",
    "nombre_recovered        5\n",
    "Name: 6, dtype: int64"
   ]
  },
  {
   "cell_type": "markdown",
   "id": "2035a7ed",
   "metadata": {},
   "source": [
    "nombre_infected        87\n",
    "nombre_sain         19675\n",
    "nombre_exposed        226\n",
    "nombre_recovered       12\n",
    "Name: 7, dtype: int64"
   ]
  },
  {
   "cell_type": "markdown",
   "id": "94a89b12",
   "metadata": {},
   "source": [
    "nombre_infected       103\n",
    "nombre_sain         19571\n",
    "nombre_exposed        295\n",
    "nombre_recovered       31\n",
    "Name: 8, dtype: int64"
   ]
  },
  {
   "cell_type": "markdown",
   "id": "73711465",
   "metadata": {},
   "source": [
    "nombre_infected       140\n",
    "nombre_sain         19422\n",
    "nombre_exposed        398\n",
    "nombre_recovered       40\n",
    "Name: 9, dtype: int64"
   ]
  },
  {
   "cell_type": "markdown",
   "id": "ad11e3ac",
   "metadata": {},
   "source": [
    "nombre_infected       193\n",
    "nombre_sain         19227\n",
    "nombre_exposed        528\n",
    "nombre_recovered       52\n",
    "Name: 10, dtype: int64"
   ]
  },
  {
   "cell_type": "markdown",
   "id": "8caea244",
   "metadata": {},
   "source": [
    "nombre_infected       258\n",
    "nombre_sain         18984\n",
    "nombre_exposed        687\n",
    "nombre_recovered       71\n",
    "Name: 11, dtype: int64"
   ]
  },
  {
   "cell_type": "markdown",
   "id": "011e8369",
   "metadata": {},
   "source": [
    "nombre_infected       368\n",
    "nombre_sain         18633\n",
    "nombre_exposed        906\n",
    "nombre_recovered       93\n",
    "Name: 12, dtype: int64"
   ]
  },
  {
   "cell_type": "markdown",
   "id": "155c54f1",
   "metadata": {},
   "source": [
    "nombre_infected       489\n",
    "nombre_sain         18160\n",
    "nombre_exposed       1237\n",
    "nombre_recovered      114\n",
    "Name: 13, dtype: int64"
   ]
  },
  {
   "cell_type": "markdown",
   "id": "2773c9fd",
   "metadata": {},
   "source": [
    "nombre_infected       647\n",
    "nombre_sain         17516\n",
    "nombre_exposed       1679\n",
    "nombre_recovered      158\n",
    "Name: 14, dtype: int64"
   ]
  },
  {
   "cell_type": "markdown",
   "id": "6431e885",
   "metadata": {},
   "source": [
    "nombre_infected       853\n",
    "nombre_sain         16756\n",
    "nombre_exposed       2170\n",
    "nombre_recovered      221\n",
    "Name: 15, dtype: int64"
   ]
  },
  {
   "cell_type": "markdown",
   "id": "d74d5de4",
   "metadata": {},
   "source": [
    "nombre_infected      1117\n",
    "nombre_sain         15816\n",
    "nombre_exposed       2749\n",
    "nombre_recovered      318\n",
    "Name: 16, dtype: int64"
   ]
  },
  {
   "cell_type": "markdown",
   "id": "b3811363",
   "metadata": {},
   "source": [
    "nombre_infected      1518\n",
    "nombre_sain         14631\n",
    "nombre_exposed       3440\n",
    "nombre_recovered      411\n",
    "Name: 17, dtype: int64"
   ]
  },
  {
   "cell_type": "markdown",
   "id": "38edc227",
   "metadata": {},
   "source": [
    "nombre_infected      2006\n",
    "nombre_sain         13224\n",
    "nombre_exposed       4226\n",
    "nombre_recovered      544\n",
    "Name: 18, dtype: int64"
   ]
  },
  {
   "cell_type": "markdown",
   "id": "3f4f6b76",
   "metadata": {},
   "source": [
    "nombre_infected      2586\n",
    "nombre_sain         11613\n",
    "nombre_exposed       5049\n",
    "nombre_recovered      752\n",
    "Name: 19, dtype: int64"
   ]
  },
  {
   "cell_type": "markdown",
   "id": "2f18d07a",
   "metadata": {},
   "source": [
    "nombre_infected     3276\n",
    "nombre_sain         9926\n",
    "nombre_exposed      5799\n",
    "nombre_recovered     999\n",
    "Name: 20, dtype: int64"
   ]
  },
  {
   "cell_type": "markdown",
   "id": "2d686b41",
   "metadata": {},
   "source": [
    "nombre_infected     4099\n",
    "nombre_sain         8160\n",
    "nombre_exposed      6436\n",
    "nombre_recovered    1305\n",
    "Name: 21, dtype: int64"
   ]
  },
  {
   "cell_type": "markdown",
   "id": "47481036",
   "metadata": {},
   "source": [
    "nombre_infected     5009\n",
    "nombre_sain         6472\n",
    "nombre_exposed      6824\n",
    "nombre_recovered    1695\n",
    "Name: 22, dtype: int64"
   ]
  },
  {
   "cell_type": "markdown",
   "id": "0aff4647",
   "metadata": {},
   "source": [
    "nombre_infected     5865\n",
    "nombre_sain         4925\n",
    "nombre_exposed      7009\n",
    "nombre_recovered    2201\n",
    "Name: 23, dtype: int64"
   ]
  },
  {
   "cell_type": "markdown",
   "id": "de278fee",
   "metadata": {},
   "source": [
    "nombre_infected     6733\n",
    "nombre_sain         3638\n",
    "nombre_exposed      6841\n",
    "nombre_recovered    2788\n",
    "Name: 24, dtype: int64"
   ]
  },
  {
   "cell_type": "markdown",
   "id": "7926a8d9",
   "metadata": {},
   "source": [
    "nombre_infected     7547\n",
    "nombre_sain         2602\n",
    "nombre_exposed      6347\n",
    "nombre_recovered    3504\n",
    "Name: 25, dtype: int64"
   ]
  },
  {
   "cell_type": "markdown",
   "id": "5268037d",
   "metadata": {},
   "source": [
    "nombre_infected     8146\n",
    "nombre_sain         1854\n",
    "nombre_exposed      5710\n",
    "nombre_recovered    4290\n",
    "Name: 26, dtype: int64"
   ]
  },
  {
   "cell_type": "markdown",
   "id": "dfe07cab",
   "metadata": {},
   "source": [
    "nombre_infected     8533\n",
    "nombre_sain         1282\n",
    "nombre_exposed      5004\n",
    "nombre_recovered    5181\n",
    "Name: 27, dtype: int64"
   ]
  },
  {
   "cell_type": "markdown",
   "id": "e50e7be7",
   "metadata": {},
   "source": [
    "nombre_infected     8768\n",
    "nombre_sain          885\n",
    "nombre_exposed      4184\n",
    "nombre_recovered    6163\n",
    "Name: 28, dtype: int64"
   ]
  },
  {
   "cell_type": "markdown",
   "id": "6b709f37",
   "metadata": {},
   "source": [
    "nombre_infected     8772\n",
    "nombre_sain          620\n",
    "nombre_exposed      3498\n",
    "nombre_recovered    7110\n",
    "Name: 29, dtype: int64"
   ]
  },
  {
   "cell_type": "markdown",
   "id": "c2def77f",
   "metadata": {},
   "source": [
    "nombre_infected     8596\n",
    "nombre_sain          466\n",
    "nombre_exposed      2864\n",
    "nombre_recovered    8074\n",
    "Name: 30, dtype: int64"
   ]
  },
  {
   "cell_type": "markdown",
   "id": "db381a7f",
   "metadata": {},
   "source": [
    "nombre_infected     8306\n",
    "nombre_sain          350\n",
    "nombre_exposed      2268\n",
    "nombre_recovered    9076\n",
    "Name: 31, dtype: int64"
   ]
  },
  {
   "cell_type": "markdown",
   "id": "914424f9",
   "metadata": {},
   "source": [
    "nombre_infected      7863\n",
    "nombre_sain           248\n",
    "nombre_exposed       1800\n",
    "nombre_recovered    10089\n",
    "Name: 32, dtype: int64"
   ]
  },
  {
   "cell_type": "markdown",
   "id": "407460be",
   "metadata": {},
   "source": [
    "nombre_infected      7337\n",
    "nombre_sain           203\n",
    "nombre_exposed       1425\n",
    "nombre_recovered    11035\n",
    "Name: 33, dtype: int64"
   ]
  },
  {
   "cell_type": "markdown",
   "id": "f92ad9ee",
   "metadata": {},
   "source": [
    "nombre_infected      6829\n",
    "nombre_sain           165\n",
    "nombre_exposed       1108\n",
    "nombre_recovered    11898\n",
    "Name: 34, dtype: int64"
   ]
  },
  {
   "cell_type": "markdown",
   "id": "c6ef543f",
   "metadata": {},
   "source": [
    "nombre_infected      6286\n",
    "nombre_sain           166\n",
    "nombre_exposed        867\n",
    "nombre_recovered    12681\n",
    "Name: 35, dtype: int64"
   ]
  },
  {
   "cell_type": "markdown",
   "id": "c75031c1",
   "metadata": {},
   "source": [
    "nombre_infected      5719\n",
    "nombre_sain           172\n",
    "nombre_exposed        666\n",
    "nombre_recovered    13443\n",
    "Name: 36, dtype: int64"
   ]
  },
  {
   "cell_type": "markdown",
   "id": "ee72585d",
   "metadata": {},
   "source": [
    "nombre_infected      5161\n",
    "nombre_sain           160\n",
    "nombre_exposed        563\n",
    "nombre_recovered    14116\n",
    "Name: 37, dtype: int64"
   ]
  },
  {
   "cell_type": "markdown",
   "id": "b3eefca1",
   "metadata": {},
   "source": [
    "nombre_infected      4638\n",
    "nombre_sain           159\n",
    "nombre_exposed        482\n",
    "nombre_recovered    14721\n",
    "Name: 38, dtype: int64"
   ]
  },
  {
   "cell_type": "markdown",
   "id": "37bfd6b9",
   "metadata": {},
   "source": [
    "nombre_infected      4236\n",
    "nombre_sain           182\n",
    "nombre_exposed        389\n",
    "nombre_recovered    15193\n",
    "Name: 39, dtype: int64"
   ]
  },
  {
   "cell_type": "markdown",
   "id": "fd8361e7",
   "metadata": {},
   "source": [
    "nombre_infected      3796\n",
    "nombre_sain           223\n",
    "nombre_exposed        329\n",
    "nombre_recovered    15652\n",
    "Name: 40, dtype: int64"
   ]
  },
  {
   "cell_type": "markdown",
   "id": "578457f8",
   "metadata": {},
   "source": [
    "nombre_infected      3424\n",
    "nombre_sain           250\n",
    "nombre_exposed        300\n",
    "nombre_recovered    16026\n",
    "Name: 41, dtype: int64"
   ]
  },
  {
   "cell_type": "markdown",
   "id": "dcd0881f",
   "metadata": {},
   "source": [
    "nombre_infected      3120\n",
    "nombre_sain           272\n",
    "nombre_exposed        253\n",
    "nombre_recovered    16355\n",
    "Name: 42, dtype: int64"
   ]
  },
  {
   "cell_type": "markdown",
   "id": "0190a05b",
   "metadata": {},
   "source": [
    "nombre_infected      2829\n",
    "nombre_sain           283\n",
    "nombre_exposed        241\n",
    "nombre_recovered    16647\n",
    "Name: 43, dtype: int64"
   ]
  },
  {
   "cell_type": "markdown",
   "id": "7444baab",
   "metadata": {},
   "source": [
    "nombre_infected      2581\n",
    "nombre_sain           300\n",
    "nombre_exposed        229\n",
    "nombre_recovered    16890\n",
    "Name: 44, dtype: int64"
   ]
  },
  {
   "cell_type": "markdown",
   "id": "3b3f7d9e",
   "metadata": {},
   "source": [
    "nombre_infected      2340\n",
    "nombre_sain           341\n",
    "nombre_exposed        217\n",
    "nombre_recovered    17102\n",
    "Name: 45, dtype: int64"
   ]
  },
  {
   "cell_type": "markdown",
   "id": "5a87648d",
   "metadata": {},
   "source": [
    "nombre_infected      2127\n",
    "nombre_sain           336\n",
    "nombre_exposed        221\n",
    "nombre_recovered    17316\n",
    "Name: 46, dtype: int64"
   ]
  },
  {
   "cell_type": "markdown",
   "id": "07ba1219",
   "metadata": {},
   "source": [
    "nombre_infected      1958\n",
    "nombre_sain           362\n",
    "nombre_exposed        211\n",
    "nombre_recovered    17469\n",
    "Name: 47, dtype: int64"
   ]
  },
  {
   "cell_type": "markdown",
   "id": "f931f9de",
   "metadata": {},
   "source": [
    "nombre_infected      1796\n",
    "nombre_sain           403\n",
    "nombre_exposed        177\n",
    "nombre_recovered    17624\n",
    "Name: 48, dtype: int64"
   ]
  },
  {
   "cell_type": "markdown",
   "id": "35da0e70",
   "metadata": {},
   "source": [
    "nombre_infected      1642\n",
    "nombre_sain           428\n",
    "nombre_exposed        168\n",
    "nombre_recovered    17762\n",
    "Name: 49, dtype: int64"
   ]
  },
  {
   "cell_type": "markdown",
   "id": "44db3592",
   "metadata": {},
   "source": [
    "nombre_infected      1497\n",
    "nombre_sain           467\n",
    "nombre_exposed        165\n",
    "nombre_recovered    17871\n",
    "Name: 50, dtype: int64"
   ]
  },
  {
   "cell_type": "markdown",
   "id": "d1761498",
   "metadata": {},
   "source": [
    "nombre_infected      1378\n",
    "nombre_sain           505\n",
    "nombre_exposed        154\n",
    "nombre_recovered    17963\n",
    "Name: 51, dtype: int64"
   ]
  },
  {
   "cell_type": "markdown",
   "id": "02645924",
   "metadata": {},
   "source": [
    "nombre_infected      1249\n",
    "nombre_sain           555\n",
    "nombre_exposed        131\n",
    "nombre_recovered    18065\n",
    "Name: 52, dtype: int64"
   ]
  },
  {
   "cell_type": "markdown",
   "id": "e725dd01",
   "metadata": {},
   "source": [
    "nombre_infected      1115\n",
    "nombre_sain           601\n",
    "nombre_exposed        133\n",
    "nombre_recovered    18151\n",
    "Name: 53, dtype: int64"
   ]
  },
  {
   "cell_type": "markdown",
   "id": "4b69bea3",
   "metadata": {},
   "source": [
    "nombre_infected       986\n",
    "nombre_sain           630\n",
    "nombre_exposed        137\n",
    "nombre_recovered    18247\n",
    "Name: 54, dtype: int64"
   ]
  },
  {
   "cell_type": "markdown",
   "id": "f5c362aa",
   "metadata": {},
   "source": [
    "nombre_infected       875\n",
    "nombre_sain           666\n",
    "nombre_exposed        131\n",
    "nombre_recovered    18328\n",
    "Name: 55, dtype: int64"
   ]
  },
  {
   "cell_type": "markdown",
   "id": "4885bf30",
   "metadata": {},
   "source": [
    "nombre_infected       753\n",
    "nombre_sain           687\n",
    "nombre_exposed        135\n",
    "nombre_recovered    18425\n",
    "Name: 56, dtype: int64"
   ]
  },
  {
   "cell_type": "markdown",
   "id": "deaa1670",
   "metadata": {},
   "source": [
    "nombre_infected       639\n",
    "nombre_sain           701\n",
    "nombre_exposed        144\n",
    "nombre_recovered    18516\n",
    "Name: 57, dtype: int64"
   ]
  },
  {
   "cell_type": "markdown",
   "id": "9a92f667",
   "metadata": {},
   "source": [
    "nombre_infected       574\n",
    "nombre_sain           720\n",
    "nombre_exposed        148\n",
    "nombre_recovered    18558\n",
    "Name: 58, dtype: int64"
   ]
  },
  {
   "cell_type": "markdown",
   "id": "c1360679",
   "metadata": {},
   "source": [
    "nombre_infected       502\n",
    "nombre_sain           739\n",
    "nombre_exposed        148\n",
    "nombre_recovered    18611\n",
    "Name: 59, dtype: int64"
   ]
  },
  {
   "cell_type": "markdown",
   "id": "4dbfdc08",
   "metadata": {},
   "source": [
    "nombre_infected       458\n",
    "nombre_sain           769\n",
    "nombre_exposed        129\n",
    "nombre_recovered    18644\n",
    "Name: 60, dtype: int64"
   ]
  },
  {
   "cell_type": "markdown",
   "id": "57232c45",
   "metadata": {},
   "source": [
    "nombre_infected       407\n",
    "nombre_sain           806\n",
    "nombre_exposed        112\n",
    "nombre_recovered    18675\n",
    "Name: 61, dtype: int64"
   ]
  },
  {
   "cell_type": "markdown",
   "id": "96d65e6c",
   "metadata": {},
   "source": [
    "nombre_infected       352\n",
    "nombre_sain           854\n",
    "nombre_exposed        104\n",
    "nombre_recovered    18690\n",
    "Name: 62, dtype: int64"
   ]
  },
  {
   "cell_type": "markdown",
   "id": "ebb75e72",
   "metadata": {},
   "source": [
    "nombre_infected       306\n",
    "nombre_sain           911\n",
    "nombre_exposed         97\n",
    "nombre_recovered    18686\n",
    "Name: 63, dtype: int64"
   ]
  },
  {
   "cell_type": "markdown",
   "id": "dc2223b7",
   "metadata": {},
   "source": [
    "nombre_infected       267\n",
    "nombre_sain           958\n",
    "nombre_exposed         90\n",
    "nombre_recovered    18685\n",
    "Name: 64, dtype: int64"
   ]
  },
  {
   "cell_type": "markdown",
   "id": "d06618ff",
   "metadata": {},
   "source": [
    "nombre_infected       247\n",
    "nombre_sain          1031\n",
    "nombre_exposed         79\n",
    "nombre_recovered    18643\n",
    "Name: 65, dtype: int64"
   ]
  },
  {
   "cell_type": "markdown",
   "id": "23310a1a",
   "metadata": {},
   "source": [
    "nombre_infected       210\n",
    "nombre_sain          1097\n",
    "nombre_exposed         81\n",
    "nombre_recovered    18612\n",
    "Name: 66, dtype: int64"
   ]
  },
  {
   "cell_type": "markdown",
   "id": "09186fa5",
   "metadata": {},
   "source": [
    "nombre_infected       201\n",
    "nombre_sain          1148\n",
    "nombre_exposed         67\n",
    "nombre_recovered    18584\n",
    "Name: 67, dtype: int64"
   ]
  },
  {
   "cell_type": "markdown",
   "id": "25926442",
   "metadata": {},
   "source": [
    "nombre_infected       191\n",
    "nombre_sain          1207\n",
    "nombre_exposed         60\n",
    "nombre_recovered    18542\n",
    "Name: 68, dtype: int64"
   ]
  },
  {
   "cell_type": "markdown",
   "id": "ed252ab3",
   "metadata": {},
   "source": [
    "nombre_infected       165\n",
    "nombre_sain          1252\n",
    "nombre_exposed         67\n",
    "nombre_recovered    18516\n",
    "Name: 69, dtype: int64"
   ]
  },
  {
   "cell_type": "markdown",
   "id": "ccb6f37e",
   "metadata": {},
   "source": [
    "nombre_infected       145\n",
    "nombre_sain          1313\n",
    "nombre_exposed         59\n",
    "nombre_recovered    18483\n",
    "Name: 70, dtype: int64"
   ]
  },
  {
   "cell_type": "markdown",
   "id": "6a15eddc",
   "metadata": {},
   "source": [
    "nombre_infected       134\n",
    "nombre_sain          1369\n",
    "nombre_exposed         52\n",
    "nombre_recovered    18445\n",
    "Name: 71, dtype: int64"
   ]
  },
  {
   "cell_type": "markdown",
   "id": "3e979505",
   "metadata": {},
   "source": [
    "nombre_infected       122\n",
    "nombre_sain          1443\n",
    "nombre_exposed         50\n",
    "nombre_recovered    18385\n",
    "Name: 72, dtype: int64"
   ]
  },
  {
   "cell_type": "markdown",
   "id": "168852b9",
   "metadata": {},
   "source": [
    "nombre_infected       107\n",
    "nombre_sain          1499\n",
    "nombre_exposed         51\n",
    "nombre_recovered    18343\n",
    "Name: 73, dtype: int64"
   ]
  },
  {
   "cell_type": "markdown",
   "id": "248981d7",
   "metadata": {},
   "source": [
    "nombre_infected       100\n",
    "nombre_sain          1548\n",
    "nombre_exposed         45\n",
    "nombre_recovered    18307\n",
    "Name: 74, dtype: int64"
   ]
  },
  {
   "cell_type": "markdown",
   "id": "d16a173b",
   "metadata": {},
   "source": [
    "nombre_infected        90\n",
    "nombre_sain          1614\n",
    "nombre_exposed         46\n",
    "nombre_recovered    18250\n",
    "Name: 75, dtype: int64"
   ]
  },
  {
   "cell_type": "markdown",
   "id": "3b9202ee",
   "metadata": {},
   "source": [
    "nombre_infected        85\n",
    "nombre_sain          1667\n",
    "nombre_exposed         45\n",
    "nombre_recovered    18203\n",
    "Name: 76, dtype: int64"
   ]
  },
  {
   "cell_type": "markdown",
   "id": "e779439e",
   "metadata": {},
   "source": [
    "nombre_infected        74\n",
    "nombre_sain          1707\n",
    "nombre_exposed         42\n",
    "nombre_recovered    18177\n",
    "Name: 77, dtype: int64"
   ]
  },
  {
   "cell_type": "markdown",
   "id": "756284bb",
   "metadata": {},
   "source": [
    "nombre_infected        73\n",
    "nombre_sain          1756\n",
    "nombre_exposed         33\n",
    "nombre_recovered    18138\n",
    "Name: 78, dtype: int64"
   ]
  },
  {
   "cell_type": "markdown",
   "id": "d89f0215",
   "metadata": {},
   "source": [
    "nombre_infected        73\n",
    "nombre_sain          1792\n",
    "nombre_exposed         34\n",
    "nombre_recovered    18101\n",
    "Name: 79, dtype: int64"
   ]
  },
  {
   "cell_type": "markdown",
   "id": "8c971e51",
   "metadata": {},
   "source": [
    "nombre_infected        63\n",
    "nombre_sain          1837\n",
    "nombre_exposed         31\n",
    "nombre_recovered    18069\n",
    "Name: 80, dtype: int64"
   ]
  },
  {
   "cell_type": "markdown",
   "id": "e8f7c0d6",
   "metadata": {},
   "source": [
    "nombre_infected        58\n",
    "nombre_sain          1882\n",
    "nombre_exposed         31\n",
    "nombre_recovered    18029\n",
    "Name: 81, dtype: int64"
   ]
  },
  {
   "cell_type": "markdown",
   "id": "7a90b9cb",
   "metadata": {},
   "source": [
    "nombre_infected        49\n",
    "nombre_sain          1924\n",
    "nombre_exposed         33\n",
    "nombre_recovered    17994\n",
    "Name: 82, dtype: int64"
   ]
  },
  {
   "cell_type": "markdown",
   "id": "e0d55d9e",
   "metadata": {},
   "source": [
    "nombre_infected        47\n",
    "nombre_sain          1979\n",
    "nombre_exposed         33\n",
    "nombre_recovered    17941\n",
    "Name: 83, dtype: int64"
   ]
  },
  {
   "cell_type": "markdown",
   "id": "7f7f261c",
   "metadata": {},
   "source": [
    "nombre_infected        48\n",
    "nombre_sain          2034\n",
    "nombre_exposed         26\n",
    "nombre_recovered    17892\n",
    "Name: 84, dtype: int64"
   ]
  },
  {
   "cell_type": "markdown",
   "id": "8004ab14",
   "metadata": {},
   "source": [
    "nombre_infected        51\n",
    "nombre_sain          2087\n",
    "nombre_exposed         24\n",
    "nombre_recovered    17838\n",
    "Name: 85, dtype: int64"
   ]
  },
  {
   "cell_type": "markdown",
   "id": "23f93a15",
   "metadata": {},
   "source": [
    "nombre_infected        49\n",
    "nombre_sain          2151\n",
    "nombre_exposed         26\n",
    "nombre_recovered    17774\n",
    "Name: 86, dtype: int64"
   ]
  },
  {
   "cell_type": "markdown",
   "id": "6c703103",
   "metadata": {},
   "source": [
    "nombre_infected        47\n",
    "nombre_sain          2240\n",
    "nombre_exposed         25\n",
    "nombre_recovered    17688\n",
    "Name: 87, dtype: int64"
   ]
  },
  {
   "cell_type": "markdown",
   "id": "9f7cacb9",
   "metadata": {},
   "source": [
    "nombre_infected        43\n",
    "nombre_sain          2294\n",
    "nombre_exposed         23\n",
    "nombre_recovered    17640\n",
    "Name: 88, dtype: int64"
   ]
  },
  {
   "cell_type": "markdown",
   "id": "028e9006",
   "metadata": {},
   "source": [
    "nombre_infected        37\n",
    "nombre_sain          2359\n",
    "nombre_exposed         22\n",
    "nombre_recovered    17582\n",
    "Name: 89, dtype: int64"
   ]
  },
  {
   "cell_type": "markdown",
   "id": "0ea3bbd6",
   "metadata": {},
   "source": [
    "nombre_infected        35\n",
    "nombre_sain          2417\n",
    "nombre_exposed         21\n",
    "nombre_recovered    17527\n",
    "Name: 90, dtype: int64"
   ]
  },
  {
   "cell_type": "markdown",
   "id": "5aa50c46",
   "metadata": {},
   "source": [
    "nombre_infected        33\n",
    "nombre_sain          2480\n",
    "nombre_exposed         23\n",
    "nombre_recovered    17464\n",
    "Name: 91, dtype: int64"
   ]
  },
  {
   "cell_type": "markdown",
   "id": "09d79ff8",
   "metadata": {},
   "source": [
    "nombre_infected        35\n",
    "nombre_sain          2537\n",
    "nombre_exposed         21\n",
    "nombre_recovered    17407\n",
    "Name: 92, dtype: int64"
   ]
  },
  {
   "cell_type": "markdown",
   "id": "f7d003ff",
   "metadata": {},
   "source": [
    "nombre_infected        36\n",
    "nombre_sain          2612\n",
    "nombre_exposed         21\n",
    "nombre_recovered    17331\n",
    "Name: 93, dtype: int64"
   ]
  },
  {
   "cell_type": "markdown",
   "id": "5f99a179",
   "metadata": {},
   "source": [
    "nombre_infected        36\n",
    "nombre_sain          2673\n",
    "nombre_exposed         16\n",
    "nombre_recovered    17275\n",
    "Name: 94, dtype: int64"
   ]
  },
  {
   "cell_type": "markdown",
   "id": "91e51ac8",
   "metadata": {},
   "source": [
    "nombre_infected        35\n",
    "nombre_sain          2732\n",
    "nombre_exposed         16\n",
    "nombre_recovered    17217\n",
    "Name: 95, dtype: int64"
   ]
  },
  {
   "cell_type": "markdown",
   "id": "4175b9fd",
   "metadata": {},
   "source": [
    "nombre_infected        38\n",
    "nombre_sain          2790\n",
    "nombre_exposed         17\n",
    "nombre_recovered    17155\n",
    "Name: 96, dtype: int64"
   ]
  },
  {
   "cell_type": "markdown",
   "id": "74376ef6",
   "metadata": {},
   "source": [
    "nombre_infected        38\n",
    "nombre_sain          2849\n",
    "nombre_exposed         19\n",
    "nombre_recovered    17094\n",
    "Name: 97, dtype: int64"
   ]
  },
  {
   "cell_type": "markdown",
   "id": "b02552e5",
   "metadata": {},
   "source": [
    "nombre_infected        40\n",
    "nombre_sain          2908\n",
    "nombre_exposed         20\n",
    "nombre_recovered    17032\n",
    "Name: 98, dtype: int64"
   ]
  },
  {
   "cell_type": "markdown",
   "id": "8daf0f0a",
   "metadata": {},
   "source": [
    "nombre_infected        36\n",
    "nombre_sain          2980\n",
    "nombre_exposed         22\n",
    "nombre_recovered    16962\n",
    "Name: 99, dtype: int64"
   ]
  },
  {
   "cell_type": "markdown",
   "id": "25b54d9d",
   "metadata": {},
   "source": [
    "nombre_infected        39\n",
    "nombre_sain          3033\n",
    "nombre_exposed         24\n",
    "nombre_recovered    16904\n",
    "Name: 100, dtype: int64"
   ]
  },
  {
   "cell_type": "markdown",
   "id": "c485bbf4",
   "metadata": {},
   "source": [
    "nombre_infected        32\n",
    "nombre_sain          3092\n",
    "nombre_exposed         24\n",
    "nombre_recovered    16852\n",
    "Name: 101, dtype: int64"
   ]
  },
  {
   "cell_type": "markdown",
   "id": "c3e61b69",
   "metadata": {},
   "source": [
    "nombre_infected        30\n",
    "nombre_sain          3160\n",
    "nombre_exposed         24\n",
    "nombre_recovered    16786\n",
    "Name: 102, dtype: int64"
   ]
  },
  {
   "cell_type": "markdown",
   "id": "73bbaf49",
   "metadata": {},
   "source": [
    "nombre_infected        27\n",
    "nombre_sain          3213\n",
    "nombre_exposed         22\n",
    "nombre_recovered    16738\n",
    "Name: 103, dtype: int64"
   ]
  },
  {
   "cell_type": "markdown",
   "id": "4b4a9754",
   "metadata": {},
   "source": [
    "nombre_infected        31\n",
    "nombre_sain          3251\n",
    "nombre_exposed         21\n",
    "nombre_recovered    16697\n",
    "Name: 104, dtype: int64"
   ]
  },
  {
   "cell_type": "markdown",
   "id": "79b57109",
   "metadata": {},
   "source": [
    "nombre_infected        29\n",
    "nombre_sain          3299\n",
    "nombre_exposed         22\n",
    "nombre_recovered    16650\n",
    "Name: 105, dtype: int64"
   ]
  },
  {
   "cell_type": "markdown",
   "id": "2891ede3",
   "metadata": {},
   "source": [
    "nombre_infected        33\n",
    "nombre_sain          3365\n",
    "nombre_exposed         24\n",
    "nombre_recovered    16578\n",
    "Name: 106, dtype: int64"
   ]
  },
  {
   "cell_type": "markdown",
   "id": "bc59a5cd",
   "metadata": {},
   "source": [
    "nombre_infected        33\n",
    "nombre_sain          3409\n",
    "nombre_exposed         23\n",
    "nombre_recovered    16535\n",
    "Name: 107, dtype: int64"
   ]
  },
  {
   "cell_type": "markdown",
   "id": "5638fdd2",
   "metadata": {},
   "source": [
    "nombre_infected        35\n",
    "nombre_sain          3463\n",
    "nombre_exposed         28\n",
    "nombre_recovered    16474\n",
    "Name: 108, dtype: int64"
   ]
  },
  {
   "cell_type": "markdown",
   "id": "cd438f3f",
   "metadata": {},
   "source": [
    "nombre_infected        33\n",
    "nombre_sain          3510\n",
    "nombre_exposed         35\n",
    "nombre_recovered    16422\n",
    "Name: 109, dtype: int64"
   ]
  },
  {
   "cell_type": "markdown",
   "id": "c2a1afd2",
   "metadata": {},
   "source": [
    "nombre_infected        41\n",
    "nombre_sain          3571\n",
    "nombre_exposed         31\n",
    "nombre_recovered    16357\n",
    "Name: 110, dtype: int64"
   ]
  },
  {
   "cell_type": "markdown",
   "id": "e78d08b6",
   "metadata": {},
   "source": [
    "nombre_infected        46\n",
    "nombre_sain          3621\n",
    "nombre_exposed         36\n",
    "nombre_recovered    16297\n",
    "Name: 111, dtype: int64"
   ]
  },
  {
   "cell_type": "markdown",
   "id": "843067e9",
   "metadata": {},
   "source": [
    "nombre_infected        50\n",
    "nombre_sain          3681\n",
    "nombre_exposed         45\n",
    "nombre_recovered    16224\n",
    "Name: 112, dtype: int64"
   ]
  },
  {
   "cell_type": "markdown",
   "id": "f8cd2f22",
   "metadata": {},
   "source": [
    "nombre_infected        48\n",
    "nombre_sain          3743\n",
    "nombre_exposed         58\n",
    "nombre_recovered    16151\n",
    "Name: 113, dtype: int64"
   ]
  },
  {
   "cell_type": "markdown",
   "id": "7a752d66",
   "metadata": {},
   "source": [
    "nombre_infected        53\n",
    "nombre_sain          3802\n",
    "nombre_exposed         58\n",
    "nombre_recovered    16087\n",
    "Name: 114, dtype: int64"
   ]
  },
  {
   "cell_type": "markdown",
   "id": "261c6cfc",
   "metadata": {},
   "source": [
    "nombre_infected        62\n",
    "nombre_sain          3865\n",
    "nombre_exposed         56\n",
    "nombre_recovered    16017\n",
    "Name: 115, dtype: int64"
   ]
  },
  {
   "cell_type": "markdown",
   "id": "8158b34e",
   "metadata": {},
   "source": [
    "nombre_infected        65\n",
    "nombre_sain          3909\n",
    "nombre_exposed         55\n",
    "nombre_recovered    15971\n",
    "Name: 116, dtype: int64"
   ]
  },
  {
   "cell_type": "markdown",
   "id": "6c0f3ca8",
   "metadata": {},
   "source": [
    "nombre_infected        67\n",
    "nombre_sain          3967\n",
    "nombre_exposed         54\n",
    "nombre_recovered    15912\n",
    "Name: 117, dtype: int64"
   ]
  },
  {
   "cell_type": "markdown",
   "id": "26818763",
   "metadata": {},
   "source": [
    "nombre_infected        72\n",
    "nombre_sain          4019\n",
    "nombre_exposed         60\n",
    "nombre_recovered    15849\n",
    "Name: 118, dtype: int64"
   ]
  },
  {
   "cell_type": "markdown",
   "id": "9cc14c25",
   "metadata": {},
   "source": [
    "nombre_infected        79\n",
    "nombre_sain          4070\n",
    "nombre_exposed         66\n",
    "nombre_recovered    15785\n",
    "Name: 119, dtype: int64"
   ]
  },
  {
   "cell_type": "markdown",
   "id": "5df193dc",
   "metadata": {},
   "source": [
    "nombre_infected        84\n",
    "nombre_sain          4105\n",
    "nombre_exposed         80\n",
    "nombre_recovered    15731\n",
    "Name: 120, dtype: int64"
   ]
  },
  {
   "cell_type": "markdown",
   "id": "f3fb7a5f",
   "metadata": {},
   "source": [
    "nombre_infected        80\n",
    "nombre_sain          4151\n",
    "nombre_exposed         85\n",
    "nombre_recovered    15684\n",
    "Name: 121, dtype: int64"
   ]
  },
  {
   "cell_type": "markdown",
   "id": "0d09f349",
   "metadata": {},
   "source": [
    "nombre_infected        92\n",
    "nombre_sain          4196\n",
    "nombre_exposed         85\n",
    "nombre_recovered    15627\n",
    "Name: 122, dtype: int64"
   ]
  },
  {
   "cell_type": "markdown",
   "id": "341de7ad",
   "metadata": {},
   "source": [
    "nombre_infected       102\n",
    "nombre_sain          4225\n",
    "nombre_exposed         87\n",
    "nombre_recovered    15586\n",
    "Name: 123, dtype: int64"
   ]
  },
  {
   "cell_type": "markdown",
   "id": "f6251bc3",
   "metadata": {},
   "source": [
    "nombre_infected       108\n",
    "nombre_sain          4259\n",
    "nombre_exposed         89\n",
    "nombre_recovered    15544\n",
    "Name: 124, dtype: int64"
   ]
  },
  {
   "cell_type": "markdown",
   "id": "69dd3826",
   "metadata": {},
   "source": [
    "nombre_infected       116\n",
    "nombre_sain          4288\n",
    "nombre_exposed        106\n",
    "nombre_recovered    15490\n",
    "Name: 125, dtype: int64"
   ]
  },
  {
   "cell_type": "markdown",
   "id": "842f4993",
   "metadata": {},
   "source": [
    "nombre_infected       128\n",
    "nombre_sain          4296\n",
    "nombre_exposed        119\n",
    "nombre_recovered    15457\n",
    "Name: 126, dtype: int64"
   ]
  },
  {
   "cell_type": "markdown",
   "id": "c65ef56d",
   "metadata": {},
   "source": [
    "nombre_infected       132\n",
    "nombre_sain          4298\n",
    "nombre_exposed        137\n",
    "nombre_recovered    15433\n",
    "Name: 127, dtype: int64"
   ]
  },
  {
   "cell_type": "markdown",
   "id": "12e1e73e",
   "metadata": {},
   "source": [
    "nombre_infected       146\n",
    "nombre_sain          4321\n",
    "nombre_exposed        132\n",
    "nombre_recovered    15401\n",
    "Name: 128, dtype: int64"
   ]
  },
  {
   "cell_type": "markdown",
   "id": "e97d9d72",
   "metadata": {},
   "source": [
    "nombre_infected       156\n",
    "nombre_sain          4338\n",
    "nombre_exposed        133\n",
    "nombre_recovered    15373\n",
    "Name: 129, dtype: int64"
   ]
  },
  {
   "cell_type": "markdown",
   "id": "e463fa43",
   "metadata": {},
   "source": [
    "nombre_infected       161\n",
    "nombre_sain          4350\n",
    "nombre_exposed        149\n",
    "nombre_recovered    15340\n",
    "Name: 130, dtype: int64"
   ]
  },
  {
   "cell_type": "markdown",
   "id": "6bb52066",
   "metadata": {},
   "source": [
    "nombre_infected       164\n",
    "nombre_sain          4350\n",
    "nombre_exposed        176\n",
    "nombre_recovered    15310\n",
    "Name: 131, dtype: int64"
   ]
  },
  {
   "cell_type": "markdown",
   "id": "7e029924",
   "metadata": {},
   "source": [
    "nombre_infected       178\n",
    "nombre_sain          4340\n",
    "nombre_exposed        200\n",
    "nombre_recovered    15282\n",
    "Name: 132, dtype: int64"
   ]
  },
  {
   "cell_type": "markdown",
   "id": "50f9611b",
   "metadata": {},
   "source": [
    "nombre_infected       196\n",
    "nombre_sain          4334\n",
    "nombre_exposed        214\n",
    "nombre_recovered    15256\n",
    "Name: 133, dtype: int64"
   ]
  },
  {
   "cell_type": "markdown",
   "id": "8ba1e21f",
   "metadata": {},
   "source": [
    "nombre_infected       221\n",
    "nombre_sain          4307\n",
    "nombre_exposed        230\n",
    "nombre_recovered    15242\n",
    "Name: 134, dtype: int64"
   ]
  },
  {
   "cell_type": "markdown",
   "id": "0759d6cf",
   "metadata": {},
   "source": [
    "nombre_infected       243\n",
    "nombre_sain          4304\n",
    "nombre_exposed        223\n",
    "nombre_recovered    15230\n",
    "Name: 135, dtype: int64"
   ]
  },
  {
   "cell_type": "markdown",
   "id": "82cd9064",
   "metadata": {},
   "source": [
    "nombre_infected       250\n",
    "nombre_sain          4267\n",
    "nombre_exposed        260\n",
    "nombre_recovered    15223\n",
    "Name: 136, dtype: int64"
   ]
  },
  {
   "cell_type": "markdown",
   "id": "7bf44b7c",
   "metadata": {},
   "source": [
    "nombre_infected       276\n",
    "nombre_sain          4218\n",
    "nombre_exposed        281\n",
    "nombre_recovered    15225\n",
    "Name: 137, dtype: int64"
   ]
  },
  {
   "cell_type": "markdown",
   "id": "4a91332f",
   "metadata": {},
   "source": [
    "nombre_infected       295\n",
    "nombre_sain          4190\n",
    "nombre_exposed        311\n",
    "nombre_recovered    15204\n",
    "Name: 138, dtype: int64"
   ]
  },
  {
   "cell_type": "markdown",
   "id": "5472d890",
   "metadata": {},
   "source": [
    "nombre_infected       335\n",
    "nombre_sain          4164\n",
    "nombre_exposed        311\n",
    "nombre_recovered    15190\n",
    "Name: 139, dtype: int64"
   ]
  },
  {
   "cell_type": "markdown",
   "id": "12cf495a",
   "metadata": {},
   "source": [
    "nombre_infected       354\n",
    "nombre_sain          4095\n",
    "nombre_exposed        343\n",
    "nombre_recovered    15208\n",
    "Name: 140, dtype: int64"
   ]
  },
  {
   "cell_type": "markdown",
   "id": "f56bbc79",
   "metadata": {},
   "source": [
    "nombre_infected       386\n",
    "nombre_sain          4037\n",
    "nombre_exposed        370\n",
    "nombre_recovered    15207\n",
    "Name: 141, dtype: int64"
   ]
  },
  {
   "cell_type": "markdown",
   "id": "e47c2196",
   "metadata": {},
   "source": [
    "nombre_infected       406\n",
    "nombre_sain          3975\n",
    "nombre_exposed        414\n",
    "nombre_recovered    15205\n",
    "Name: 142, dtype: int64"
   ]
  },
  {
   "cell_type": "markdown",
   "id": "479b54f7",
   "metadata": {},
   "source": [
    "nombre_infected       436\n",
    "nombre_sain          3913\n",
    "nombre_exposed        430\n",
    "nombre_recovered    15221\n",
    "Name: 143, dtype: int64"
   ]
  },
  {
   "cell_type": "markdown",
   "id": "da337834",
   "metadata": {},
   "source": [
    "nombre_infected       496\n",
    "nombre_sain          3847\n",
    "nombre_exposed        432\n",
    "nombre_recovered    15225\n",
    "Name: 144, dtype: int64"
   ]
  },
  {
   "cell_type": "markdown",
   "id": "8d5a2353",
   "metadata": {},
   "source": [
    "nombre_infected       535\n",
    "nombre_sain          3770\n",
    "nombre_exposed        458\n",
    "nombre_recovered    15237\n",
    "Name: 145, dtype: int64"
   ]
  },
  {
   "cell_type": "markdown",
   "id": "041e0076",
   "metadata": {},
   "source": [
    "nombre_infected       575\n",
    "nombre_sain          3670\n",
    "nombre_exposed        492\n",
    "nombre_recovered    15263\n",
    "Name: 146, dtype: int64"
   ]
  },
  {
   "cell_type": "markdown",
   "id": "1c3811d7",
   "metadata": {},
   "source": [
    "nombre_infected       608\n",
    "nombre_sain          3593\n",
    "nombre_exposed        527\n",
    "nombre_recovered    15272\n",
    "Name: 147, dtype: int64"
   ]
  },
  {
   "cell_type": "markdown",
   "id": "5dc08ee5",
   "metadata": {},
   "source": [
    "nombre_infected       648\n",
    "nombre_sain          3493\n",
    "nombre_exposed        563\n",
    "nombre_recovered    15296\n",
    "Name: 148, dtype: int64"
   ]
  },
  {
   "cell_type": "markdown",
   "id": "0d4ed162",
   "metadata": {},
   "source": [
    "nombre_infected       690\n",
    "nombre_sain          3397\n",
    "nombre_exposed        581\n",
    "nombre_recovered    15332\n",
    "Name: 149, dtype: int64"
   ]
  },
  {
   "cell_type": "markdown",
   "id": "0092295d",
   "metadata": {},
   "source": [
    "nombre_infected       731\n",
    "nombre_sain          3319\n",
    "nombre_exposed        597\n",
    "nombre_recovered    15353\n",
    "Name: 150, dtype: int64"
   ]
  },
  {
   "cell_type": "markdown",
   "id": "53b4c4d4",
   "metadata": {},
   "source": [
    "nombre_infected       769\n",
    "nombre_sain          3220\n",
    "nombre_exposed        614\n",
    "nombre_recovered    15397\n",
    "Name: 151, dtype: int64"
   ]
  },
  {
   "cell_type": "markdown",
   "id": "60cbe4f7",
   "metadata": {},
   "source": [
    "nombre_infected       787\n",
    "nombre_sain          3124\n",
    "nombre_exposed        659\n",
    "nombre_recovered    15430\n",
    "Name: 152, dtype: int64"
   ]
  },
  {
   "cell_type": "markdown",
   "id": "c908c3c7",
   "metadata": {},
   "source": [
    "nombre_infected       838\n",
    "nombre_sain          3042\n",
    "nombre_exposed        655\n",
    "nombre_recovered    15465\n",
    "Name: 153, dtype: int64"
   ]
  },
  {
   "cell_type": "markdown",
   "id": "37a749b6",
   "metadata": {},
   "source": [
    "nombre_infected       878\n",
    "nombre_sain          2946\n",
    "nombre_exposed        670\n",
    "nombre_recovered    15506\n",
    "Name: 154, dtype: int64"
   ]
  },
  {
   "cell_type": "markdown",
   "id": "a7144d79",
   "metadata": {},
   "source": [
    "nombre_infected       927\n",
    "nombre_sain          2862\n",
    "nombre_exposed        686\n",
    "nombre_recovered    15525\n",
    "Name: 155, dtype: int64"
   ]
  },
  {
   "cell_type": "markdown",
   "id": "c5164bfb",
   "metadata": {},
   "source": [
    "nombre_infected       977\n",
    "nombre_sain          2771\n",
    "nombre_exposed        682\n",
    "nombre_recovered    15570\n",
    "Name: 156, dtype: int64"
   ]
  },
  {
   "cell_type": "markdown",
   "id": "4d402832",
   "metadata": {},
   "source": [
    "nombre_infected      1000\n",
    "nombre_sain          2668\n",
    "nombre_exposed        697\n",
    "nombre_recovered    15635\n",
    "Name: 157, dtype: int64"
   ]
  },
  {
   "cell_type": "markdown",
   "id": "712bf3ca",
   "metadata": {},
   "source": [
    "nombre_infected      1031\n",
    "nombre_sain          2560\n",
    "nombre_exposed        694\n",
    "nombre_recovered    15715\n",
    "Name: 158, dtype: int64"
   ]
  },
  {
   "cell_type": "markdown",
   "id": "55573a45",
   "metadata": {},
   "source": [
    "nombre_infected      1068\n",
    "nombre_sain          2493\n",
    "nombre_exposed        684\n",
    "nombre_recovered    15755\n",
    "Name: 159, dtype: int64"
   ]
  },
  {
   "cell_type": "markdown",
   "id": "e464b457",
   "metadata": {},
   "source": [
    "nombre_infected      1105\n",
    "nombre_sain          2386\n",
    "nombre_exposed        693\n",
    "nombre_recovered    15816\n",
    "Name: 160, dtype: int64"
   ]
  },
  {
   "cell_type": "markdown",
   "id": "729b8f2f",
   "metadata": {},
   "source": [
    "nombre_infected      1117\n",
    "nombre_sain          2327\n",
    "nombre_exposed        674\n",
    "nombre_recovered    15882\n",
    "Name: 161, dtype: int64"
   ]
  },
  {
   "cell_type": "markdown",
   "id": "6dad6303",
   "metadata": {},
   "source": [
    "nombre_infected      1141\n",
    "nombre_sain          2237\n",
    "nombre_exposed        679\n",
    "nombre_recovered    15943\n",
    "Name: 162, dtype: int64"
   ]
  },
  {
   "cell_type": "markdown",
   "id": "1edc56cf",
   "metadata": {},
   "source": [
    "nombre_infected      1153\n",
    "nombre_sain          2126\n",
    "nombre_exposed        700\n",
    "nombre_recovered    16021\n",
    "Name: 163, dtype: int64"
   ]
  },
  {
   "cell_type": "markdown",
   "id": "aea76011",
   "metadata": {},
   "source": [
    "nombre_infected      1194\n",
    "nombre_sain          2070\n",
    "nombre_exposed        659\n",
    "nombre_recovered    16077\n",
    "Name: 164, dtype: int64"
   ]
  },
  {
   "cell_type": "markdown",
   "id": "c17b29f1",
   "metadata": {},
   "source": [
    "nombre_infected      1218\n",
    "nombre_sain          1991\n",
    "nombre_exposed        647\n",
    "nombre_recovered    16144\n",
    "Name: 165, dtype: int64"
   ]
  },
  {
   "cell_type": "markdown",
   "id": "e428dc17",
   "metadata": {},
   "source": [
    "nombre_infected      1222\n",
    "nombre_sain          1903\n",
    "nombre_exposed        657\n",
    "nombre_recovered    16218\n",
    "Name: 166, dtype: int64"
   ]
  },
  {
   "cell_type": "markdown",
   "id": "f686e614",
   "metadata": {},
   "source": [
    "nombre_infected      1217\n",
    "nombre_sain          1854\n",
    "nombre_exposed        634\n",
    "nombre_recovered    16295\n",
    "Name: 167, dtype: int64"
   ]
  },
  {
   "cell_type": "markdown",
   "id": "43be8cc4",
   "metadata": {},
   "source": [
    "nombre_infected      1225\n",
    "nombre_sain          1799\n",
    "nombre_exposed        633\n",
    "nombre_recovered    16343\n",
    "Name: 168, dtype: int64"
   ]
  },
  {
   "cell_type": "markdown",
   "id": "ca76cbb5",
   "metadata": {},
   "source": [
    "nombre_infected      1226\n",
    "nombre_sain          1743\n",
    "nombre_exposed        618\n",
    "nombre_recovered    16413\n",
    "Name: 169, dtype: int64"
   ]
  },
  {
   "cell_type": "markdown",
   "id": "fd40f013",
   "metadata": {},
   "source": [
    "nombre_infected      1203\n",
    "nombre_sain          1725\n",
    "nombre_exposed        597\n",
    "nombre_recovered    16475\n",
    "Name: 170, dtype: int64"
   ]
  },
  {
   "cell_type": "markdown",
   "id": "b648c786",
   "metadata": {},
   "source": [
    "nombre_infected      1207\n",
    "nombre_sain          1717\n",
    "nombre_exposed        570\n",
    "nombre_recovered    16506\n",
    "Name: 171, dtype: int64"
   ]
  },
  {
   "cell_type": "markdown",
   "id": "f7343c21",
   "metadata": {},
   "source": [
    "nombre_infected      1194\n",
    "nombre_sain          1663\n",
    "nombre_exposed        584\n",
    "nombre_recovered    16559\n",
    "Name: 172, dtype: int64"
   ]
  },
  {
   "cell_type": "markdown",
   "id": "bd7372fe",
   "metadata": {},
   "source": [
    "nombre_infected      1173\n",
    "nombre_sain          1647\n",
    "nombre_exposed        587\n",
    "nombre_recovered    16593\n",
    "Name: 173, dtype: int64"
   ]
  },
  {
   "cell_type": "markdown",
   "id": "9764d529",
   "metadata": {},
   "source": [
    "nombre_infected      1196\n",
    "nombre_sain          1617\n",
    "nombre_exposed        570\n",
    "nombre_recovered    16617\n",
    "Name: 174, dtype: int64"
   ]
  },
  {
   "cell_type": "markdown",
   "id": "05bb5d10",
   "metadata": {},
   "source": [
    "nombre_infected      1180\n",
    "nombre_sain          1615\n",
    "nombre_exposed        561\n",
    "nombre_recovered    16644\n",
    "Name: 175, dtype: int64"
   ]
  },
  {
   "cell_type": "markdown",
   "id": "6a375455",
   "metadata": {},
   "source": [
    "nombre_infected      1191\n",
    "nombre_sain          1599\n",
    "nombre_exposed        541\n",
    "nombre_recovered    16669\n",
    "Name: 176, dtype: int64"
   ]
  },
  {
   "cell_type": "markdown",
   "id": "9fbdd6b1",
   "metadata": {},
   "source": [
    "nombre_infected      1163\n",
    "nombre_sain          1600\n",
    "nombre_exposed        541\n",
    "nombre_recovered    16696\n",
    "Name: 177, dtype: int64"
   ]
  },
  {
   "cell_type": "markdown",
   "id": "117a6e5b",
   "metadata": {},
   "source": [
    "nombre_infected      1171\n",
    "nombre_sain          1586\n",
    "nombre_exposed        528\n",
    "nombre_recovered    16715\n",
    "Name: 178, dtype: int64"
   ]
  },
  {
   "cell_type": "markdown",
   "id": "1652f63c",
   "metadata": {},
   "source": [
    "nombre_infected      1138\n",
    "nombre_sain          1558\n",
    "nombre_exposed        539\n",
    "nombre_recovered    16765\n",
    "Name: 179, dtype: int64"
   ]
  },
  {
   "cell_type": "markdown",
   "id": "3aba76f6",
   "metadata": {},
   "source": [
    "nombre_infected      1121\n",
    "nombre_sain          1568\n",
    "nombre_exposed        510\n",
    "nombre_recovered    16801\n",
    "Name: 180, dtype: int64"
   ]
  },
  {
   "cell_type": "markdown",
   "id": "2c2de878",
   "metadata": {},
   "source": [
    "nombre_infected      1086\n",
    "nombre_sain          1572\n",
    "nombre_exposed        483\n",
    "nombre_recovered    16859\n",
    "Name: 181, dtype: int64"
   ]
  },
  {
   "cell_type": "markdown",
   "id": "6779bb48",
   "metadata": {},
   "source": [
    "nombre_infected      1054\n",
    "nombre_sain          1560\n",
    "nombre_exposed        478\n",
    "nombre_recovered    16908\n",
    "Name: 182, dtype: int64"
   ]
  },
  {
   "cell_type": "markdown",
   "id": "04d645fd",
   "metadata": {},
   "source": [
    "nombre_infected      1013\n",
    "nombre_sain          1566\n",
    "nombre_exposed        484\n",
    "nombre_recovered    16937\n",
    "Name: 183, dtype: int64"
   ]
  },
  {
   "cell_type": "markdown",
   "id": "0427f93a",
   "metadata": {},
   "source": [
    "nombre_infected       998\n",
    "nombre_sain          1576\n",
    "nombre_exposed        470\n",
    "nombre_recovered    16956\n",
    "Name: 184, dtype: int64"
   ]
  },
  {
   "cell_type": "markdown",
   "id": "48547432",
   "metadata": {},
   "source": [
    "nombre_infected       978\n",
    "nombre_sain          1567\n",
    "nombre_exposed        467\n",
    "nombre_recovered    16988\n",
    "Name: 185, dtype: int64"
   ]
  },
  {
   "cell_type": "markdown",
   "id": "5104c7fa",
   "metadata": {},
   "source": [
    "nombre_infected       955\n",
    "nombre_sain          1571\n",
    "nombre_exposed        444\n",
    "nombre_recovered    17030\n",
    "Name: 186, dtype: int64"
   ]
  },
  {
   "cell_type": "markdown",
   "id": "69c0cf5a",
   "metadata": {},
   "source": [
    "nombre_infected       940\n",
    "nombre_sain          1556\n",
    "nombre_exposed        426\n",
    "nombre_recovered    17078\n",
    "Name: 187, dtype: int64"
   ]
  },
  {
   "cell_type": "markdown",
   "id": "8343c346",
   "metadata": {},
   "source": [
    "nombre_infected       924\n",
    "nombre_sain          1575\n",
    "nombre_exposed        425\n",
    "nombre_recovered    17076\n",
    "Name: 188, dtype: int64"
   ]
  },
  {
   "cell_type": "markdown",
   "id": "68feec03",
   "metadata": {},
   "source": [
    "nombre_infected       889\n",
    "nombre_sain          1575\n",
    "nombre_exposed        425\n",
    "nombre_recovered    17111\n",
    "Name: 189, dtype: int64"
   ]
  },
  {
   "cell_type": "markdown",
   "id": "924be6b5",
   "metadata": {},
   "source": [
    "nombre_infected       846\n",
    "nombre_sain          1601\n",
    "nombre_exposed        409\n",
    "nombre_recovered    17144\n",
    "Name: 190, dtype: int64"
   ]
  },
  {
   "cell_type": "markdown",
   "id": "89bca8a0",
   "metadata": {},
   "source": [
    "nombre_infected       816\n",
    "nombre_sain          1621\n",
    "nombre_exposed        405\n",
    "nombre_recovered    17158\n",
    "Name: 191, dtype: int64"
   ]
  },
  {
   "cell_type": "markdown",
   "id": "0f787281",
   "metadata": {},
   "source": [
    "nombre_infected       779\n",
    "nombre_sain          1624\n",
    "nombre_exposed        415\n",
    "nombre_recovered    17182\n",
    "Name: 192, dtype: int64"
   ]
  },
  {
   "cell_type": "markdown",
   "id": "abd23e34",
   "metadata": {},
   "source": [
    "nombre_infected       752\n",
    "nombre_sain          1635\n",
    "nombre_exposed        419\n",
    "nombre_recovered    17194\n",
    "Name: 193, dtype: int64"
   ]
  },
  {
   "cell_type": "markdown",
   "id": "fae7f684",
   "metadata": {},
   "source": [
    "nombre_infected       722\n",
    "nombre_sain          1646\n",
    "nombre_exposed        420\n",
    "nombre_recovered    17212\n",
    "Name: 194, dtype: int64"
   ]
  },
  {
   "cell_type": "markdown",
   "id": "9e604d11",
   "metadata": {},
   "source": [
    "nombre_infected       705\n",
    "nombre_sain          1659\n",
    "nombre_exposed        420\n",
    "nombre_recovered    17216\n",
    "Name: 195, dtype: int64"
   ]
  },
  {
   "cell_type": "markdown",
   "id": "920c73de",
   "metadata": {},
   "source": [
    "nombre_infected       675\n",
    "nombre_sain          1694\n",
    "nombre_exposed        393\n",
    "nombre_recovered    17238\n",
    "Name: 196, dtype: int64"
   ]
  },
  {
   "cell_type": "markdown",
   "id": "5ed20f81",
   "metadata": {},
   "source": [
    "nombre_infected       655\n",
    "nombre_sain          1728\n",
    "nombre_exposed        365\n",
    "nombre_recovered    17252\n",
    "Name: 197, dtype: int64"
   ]
  },
  {
   "cell_type": "markdown",
   "id": "d7cfaa65",
   "metadata": {},
   "source": [
    "nombre_infected       637\n",
    "nombre_sain          1757\n",
    "nombre_exposed        362\n",
    "nombre_recovered    17244\n",
    "Name: 198, dtype: int64"
   ]
  },
  {
   "cell_type": "markdown",
   "id": "245fbebc",
   "metadata": {},
   "source": [
    "nombre_infected       620\n",
    "nombre_sain          1800\n",
    "nombre_exposed        350\n",
    "nombre_recovered    17230\n",
    "Name: 199, dtype: int64"
   ]
  },
  {
   "cell_type": "markdown",
   "id": "21792a07",
   "metadata": {},
   "source": [
    "nombre_infected       607\n",
    "nombre_sain          1835\n",
    "nombre_exposed        332\n",
    "nombre_recovered    17226\n",
    "Name: 200, dtype: int64"
   ]
  },
  {
   "cell_type": "markdown",
   "id": "12cefbb6",
   "metadata": {},
   "source": [
    "nombre_infected       609\n",
    "nombre_sain          1863\n",
    "nombre_exposed        334\n",
    "nombre_recovered    17194\n",
    "Name: 201, dtype: int64"
   ]
  },
  {
   "cell_type": "markdown",
   "id": "818ca888",
   "metadata": {},
   "source": [
    "nombre_infected       617\n",
    "nombre_sain          1903\n",
    "nombre_exposed        300\n",
    "nombre_recovered    17180\n",
    "Name: 202, dtype: int64"
   ]
  },
  {
   "cell_type": "markdown",
   "id": "000384c0",
   "metadata": {},
   "source": [
    "nombre_infected       598\n",
    "nombre_sain          1944\n",
    "nombre_exposed        291\n",
    "nombre_recovered    17167\n",
    "Name: 203, dtype: int64"
   ]
  },
  {
   "cell_type": "markdown",
   "id": "dfee006a",
   "metadata": {},
   "source": [
    "nombre_infected       574\n",
    "nombre_sain          1959\n",
    "nombre_exposed        309\n",
    "nombre_recovered    17158\n",
    "Name: 204, dtype: int64"
   ]
  },
  {
   "cell_type": "markdown",
   "id": "279ea34c",
   "metadata": {},
   "source": [
    "nombre_infected       561\n",
    "nombre_sain          2009\n",
    "nombre_exposed        295\n",
    "nombre_recovered    17135\n",
    "Name: 205, dtype: int64"
   ]
  },
  {
   "cell_type": "markdown",
   "id": "5c2c124b",
   "metadata": {},
   "source": [
    "nombre_infected       571\n",
    "nombre_sain          2026\n",
    "nombre_exposed        289\n",
    "nombre_recovered    17114\n",
    "Name: 206, dtype: int64"
   ]
  },
  {
   "cell_type": "markdown",
   "id": "b6dc8004",
   "metadata": {},
   "source": [
    "nombre_infected       562\n",
    "nombre_sain          2035\n",
    "nombre_exposed        312\n",
    "nombre_recovered    17091\n",
    "Name: 207, dtype: int64"
   ]
  },
  {
   "cell_type": "markdown",
   "id": "90445585",
   "metadata": {},
   "source": [
    "nombre_infected       558\n",
    "nombre_sain          2067\n",
    "nombre_exposed        310\n",
    "nombre_recovered    17065\n",
    "Name: 208, dtype: int64"
   ]
  },
  {
   "cell_type": "markdown",
   "id": "ffcae75b",
   "metadata": {},
   "source": [
    "nombre_infected       566\n",
    "nombre_sain          2109\n",
    "nombre_exposed        315\n",
    "nombre_recovered    17010\n",
    "Name: 209, dtype: int64"
   ]
  },
  {
   "cell_type": "markdown",
   "id": "1e15a0e4",
   "metadata": {},
   "source": [
    "nombre_infected       556\n",
    "nombre_sain          2132\n",
    "nombre_exposed        318\n",
    "nombre_recovered    16994\n",
    "Name: 210, dtype: int64"
   ]
  },
  {
   "cell_type": "markdown",
   "id": "54cd971d",
   "metadata": {},
   "source": [
    "nombre_infected       546\n",
    "nombre_sain          2167\n",
    "nombre_exposed        326\n",
    "nombre_recovered    16961\n",
    "Name: 211, dtype: int64"
   ]
  },
  {
   "cell_type": "markdown",
   "id": "e1f1003b",
   "metadata": {},
   "source": [
    "nombre_infected       546\n",
    "nombre_sain          2227\n",
    "nombre_exposed        307\n",
    "nombre_recovered    16920\n",
    "Name: 212, dtype: int64"
   ]
  },
  {
   "cell_type": "markdown",
   "id": "550b9ab3",
   "metadata": {},
   "source": [
    "nombre_infected       554\n",
    "nombre_sain          2275\n",
    "nombre_exposed        292\n",
    "nombre_recovered    16879\n",
    "Name: 213, dtype: int64"
   ]
  },
  {
   "cell_type": "markdown",
   "id": "c20cccef",
   "metadata": {},
   "source": [
    "nombre_infected       547\n",
    "nombre_sain          2334\n",
    "nombre_exposed        307\n",
    "nombre_recovered    16812\n",
    "Name: 214, dtype: int64"
   ]
  },
  {
   "cell_type": "markdown",
   "id": "0cf1f1bb",
   "metadata": {},
   "source": [
    "nombre_infected       521\n",
    "nombre_sain          2377\n",
    "nombre_exposed        331\n",
    "nombre_recovered    16771\n",
    "Name: 215, dtype: int64"
   ]
  },
  {
   "cell_type": "markdown",
   "id": "00c3592c",
   "metadata": {},
   "source": [
    "nombre_infected       525\n",
    "nombre_sain          2435\n",
    "nombre_exposed        326\n",
    "nombre_recovered    16714\n",
    "Name: 216, dtype: int64"
   ]
  },
  {
   "cell_type": "markdown",
   "id": "133f53a8",
   "metadata": {},
   "source": [
    "nombre_infected       528\n",
    "nombre_sain          2477\n",
    "nombre_exposed        327\n",
    "nombre_recovered    16668\n",
    "Name: 217, dtype: int64"
   ]
  },
  {
   "cell_type": "markdown",
   "id": "9e0797a4",
   "metadata": {},
   "source": [
    "nombre_infected       538\n",
    "nombre_sain          2525\n",
    "nombre_exposed        319\n",
    "nombre_recovered    16618\n",
    "Name: 218, dtype: int64"
   ]
  },
  {
   "cell_type": "markdown",
   "id": "306e7386",
   "metadata": {},
   "source": [
    "nombre_infected       528\n",
    "nombre_sain          2554\n",
    "nombre_exposed        335\n",
    "nombre_recovered    16583\n",
    "Name: 219, dtype: int64"
   ]
  },
  {
   "cell_type": "markdown",
   "id": "77d52bec",
   "metadata": {},
   "source": [
    "nombre_infected       535\n",
    "nombre_sain          2572\n",
    "nombre_exposed        347\n",
    "nombre_recovered    16546\n",
    "Name: 220, dtype: int64"
   ]
  },
  {
   "cell_type": "markdown",
   "id": "168e78e8",
   "metadata": {},
   "source": [
    "nombre_infected       539\n",
    "nombre_sain          2617\n",
    "nombre_exposed        352\n",
    "nombre_recovered    16492\n",
    "Name: 221, dtype: int64"
   ]
  },
  {
   "cell_type": "markdown",
   "id": "29ef5460",
   "metadata": {},
   "source": [
    "nombre_infected       528\n",
    "nombre_sain          2613\n",
    "nombre_exposed        392\n",
    "nombre_recovered    16467\n",
    "Name: 222, dtype: int64"
   ]
  },
  {
   "cell_type": "markdown",
   "id": "c8045569",
   "metadata": {},
   "source": [
    "nombre_infected       536\n",
    "nombre_sain          2623\n",
    "nombre_exposed        401\n",
    "nombre_recovered    16440\n",
    "Name: 223, dtype: int64"
   ]
  },
  {
   "cell_type": "markdown",
   "id": "4b17fb7a",
   "metadata": {},
   "source": [
    "nombre_infected       553\n",
    "nombre_sain          2653\n",
    "nombre_exposed        397\n",
    "nombre_recovered    16397\n",
    "Name: 224, dtype: int64"
   ]
  },
  {
   "cell_type": "markdown",
   "id": "df549dbe",
   "metadata": {},
   "source": [
    "nombre_infected       579\n",
    "nombre_sain          2681\n",
    "nombre_exposed        376\n",
    "nombre_recovered    16364\n",
    "Name: 225, dtype: int64"
   ]
  },
  {
   "cell_type": "markdown",
   "id": "a26a92a2",
   "metadata": {},
   "source": [
    "nombre_infected       561\n",
    "nombre_sain          2687\n",
    "nombre_exposed        409\n",
    "nombre_recovered    16343\n",
    "Name: 226, dtype: int64"
   ]
  },
  {
   "cell_type": "markdown",
   "id": "5c775ccd",
   "metadata": {},
   "source": [
    "nombre_infected       547\n",
    "nombre_sain          2676\n",
    "nombre_exposed        442\n",
    "nombre_recovered    16335\n",
    "Name: 227, dtype: int64"
   ]
  },
  {
   "cell_type": "markdown",
   "id": "ef7cb288",
   "metadata": {},
   "source": [
    "nombre_infected       564\n",
    "nombre_sain          2688\n",
    "nombre_exposed        456\n",
    "nombre_recovered    16292\n",
    "Name: 228, dtype: int64"
   ]
  },
  {
   "cell_type": "markdown",
   "id": "662b521e",
   "metadata": {},
   "source": [
    "nombre_infected       596\n",
    "nombre_sain          2700\n",
    "nombre_exposed        451\n",
    "nombre_recovered    16253\n",
    "Name: 229, dtype: int64"
   ]
  },
  {
   "cell_type": "markdown",
   "id": "7632fbb8",
   "metadata": {},
   "source": [
    "nombre_infected       613\n",
    "nombre_sain          2702\n",
    "nombre_exposed        461\n",
    "nombre_recovered    16224\n",
    "Name: 230, dtype: int64"
   ]
  },
  {
   "cell_type": "markdown",
   "id": "43d65673",
   "metadata": {},
   "source": [
    "nombre_infected       632\n",
    "nombre_sain          2697\n",
    "nombre_exposed        470\n",
    "nombre_recovered    16201\n",
    "Name: 231, dtype: int64"
   ]
  },
  {
   "cell_type": "markdown",
   "id": "87c7524e",
   "metadata": {},
   "source": [
    "nombre_infected       653\n",
    "nombre_sain          2684\n",
    "nombre_exposed        472\n",
    "nombre_recovered    16191\n",
    "Name: 232, dtype: int64"
   ]
  },
  {
   "cell_type": "markdown",
   "id": "787369ef",
   "metadata": {},
   "source": [
    "nombre_infected       669\n",
    "nombre_sain          2706\n",
    "nombre_exposed        464\n",
    "nombre_recovered    16161\n",
    "Name: 233, dtype: int64"
   ]
  },
  {
   "cell_type": "markdown",
   "id": "e0eb9ea0",
   "metadata": {},
   "source": [
    "nombre_infected       690\n",
    "nombre_sain          2717\n",
    "nombre_exposed        476\n",
    "nombre_recovered    16117\n",
    "Name: 234, dtype: int64"
   ]
  },
  {
   "cell_type": "markdown",
   "id": "2b3ee33b",
   "metadata": {},
   "source": [
    "nombre_infected       664\n",
    "nombre_sain          2744\n",
    "nombre_exposed        485\n",
    "nombre_recovered    16107\n",
    "Name: 235, dtype: int64"
   ]
  },
  {
   "cell_type": "markdown",
   "id": "c5ab536c",
   "metadata": {},
   "source": [
    "nombre_infected       673\n",
    "nombre_sain          2751\n",
    "nombre_exposed        498\n",
    "nombre_recovered    16078\n",
    "Name: 236, dtype: int64"
   ]
  },
  {
   "cell_type": "markdown",
   "id": "bc26426d",
   "metadata": {},
   "source": [
    "nombre_infected       682\n",
    "nombre_sain          2755\n",
    "nombre_exposed        509\n",
    "nombre_recovered    16054\n",
    "Name: 237, dtype: int64"
   ]
  },
  {
   "cell_type": "markdown",
   "id": "8f05bf04",
   "metadata": {},
   "source": [
    "nombre_infected       691\n",
    "nombre_sain          2780\n",
    "nombre_exposed        515\n",
    "nombre_recovered    16014\n",
    "Name: 238, dtype: int64"
   ]
  },
  {
   "cell_type": "markdown",
   "id": "50804e4d",
   "metadata": {},
   "source": [
    "nombre_infected       718\n",
    "nombre_sain          2804\n",
    "nombre_exposed        518\n",
    "nombre_recovered    15960\n",
    "Name: 239, dtype: int64"
   ]
  },
  {
   "cell_type": "markdown",
   "id": "cb16cc84",
   "metadata": {},
   "source": [
    "nombre_infected       721\n",
    "nombre_sain          2795\n",
    "nombre_exposed        545\n",
    "nombre_recovered    15939\n",
    "Name: 240, dtype: int64"
   ]
  },
  {
   "cell_type": "markdown",
   "id": "b33e4cad",
   "metadata": {},
   "source": [
    "nombre_infected       729\n",
    "nombre_sain          2807\n",
    "nombre_exposed        562\n",
    "nombre_recovered    15902\n",
    "Name: 241, dtype: int64"
   ]
  },
  {
   "cell_type": "markdown",
   "id": "ad398a98",
   "metadata": {},
   "source": [
    "nombre_infected       745\n",
    "nombre_sain          2785\n",
    "nombre_exposed        583\n",
    "nombre_recovered    15887\n",
    "Name: 242, dtype: int64"
   ]
  },
  {
   "cell_type": "markdown",
   "id": "82be487d",
   "metadata": {},
   "source": [
    "nombre_infected       788\n",
    "nombre_sain          2793\n",
    "nombre_exposed        590\n",
    "nombre_recovered    15829\n",
    "Name: 243, dtype: int64"
   ]
  },
  {
   "cell_type": "markdown",
   "id": "322f2339",
   "metadata": {},
   "source": [
    "nombre_infected       795\n",
    "nombre_sain          2777\n",
    "nombre_exposed        600\n",
    "nombre_recovered    15828\n",
    "Name: 244, dtype: int64"
   ]
  },
  {
   "cell_type": "markdown",
   "id": "c3eddb9c",
   "metadata": {},
   "source": [
    "nombre_infected       800\n",
    "nombre_sain          2773\n",
    "nombre_exposed        620\n",
    "nombre_recovered    15807\n",
    "Name: 245, dtype: int64"
   ]
  },
  {
   "cell_type": "markdown",
   "id": "bf5be476",
   "metadata": {},
   "source": [
    "nombre_infected       837\n",
    "nombre_sain          2749\n",
    "nombre_exposed        629\n",
    "nombre_recovered    15785\n",
    "Name: 246, dtype: int64"
   ]
  },
  {
   "cell_type": "markdown",
   "id": "ca3c0eb4",
   "metadata": {},
   "source": [
    "nombre_infected       871\n",
    "nombre_sain          2728\n",
    "nombre_exposed        634\n",
    "nombre_recovered    15767\n",
    "Name: 247, dtype: int64"
   ]
  },
  {
   "cell_type": "markdown",
   "id": "4ea93a68",
   "metadata": {},
   "source": [
    "nombre_infected       905\n",
    "nombre_sain          2720\n",
    "nombre_exposed        638\n",
    "nombre_recovered    15737\n",
    "Name: 248, dtype: int64"
   ]
  },
  {
   "cell_type": "markdown",
   "id": "084a4f24",
   "metadata": {},
   "source": [
    "nombre_infected       932\n",
    "nombre_sain          2714\n",
    "nombre_exposed        609\n",
    "nombre_recovered    15745\n",
    "Name: 249, dtype: int64"
   ]
  },
  {
   "cell_type": "markdown",
   "id": "5b5104b9",
   "metadata": {},
   "source": [
    "nombre_infected       965\n",
    "nombre_sain          2667\n",
    "nombre_exposed        605\n",
    "nombre_recovered    15763\n",
    "Name: 250, dtype: int64"
   ]
  },
  {
   "cell_type": "markdown",
   "id": "f3b51e4c",
   "metadata": {},
   "source": [
    "nombre_infected       941\n",
    "nombre_sain          2625\n",
    "nombre_exposed        636\n",
    "nombre_recovered    15798\n",
    "Name: 251, dtype: int64"
   ]
  },
  {
   "cell_type": "markdown",
   "id": "ac8130de",
   "metadata": {},
   "source": [
    "nombre_infected       963\n",
    "nombre_sain          2566\n",
    "nombre_exposed        665\n",
    "nombre_recovered    15806\n",
    "Name: 252, dtype: int64"
   ]
  },
  {
   "cell_type": "markdown",
   "id": "109b5e91",
   "metadata": {},
   "source": [
    "nombre_infected       973\n",
    "nombre_sain          2494\n",
    "nombre_exposed        686\n",
    "nombre_recovered    15847\n",
    "Name: 253, dtype: int64"
   ]
  },
  {
   "cell_type": "markdown",
   "id": "ea9d720b",
   "metadata": {},
   "source": [
    "nombre_infected       977\n",
    "nombre_sain          2475\n",
    "nombre_exposed        696\n",
    "nombre_recovered    15852\n",
    "Name: 254, dtype: int64"
   ]
  },
  {
   "cell_type": "markdown",
   "id": "6f3b4ad4",
   "metadata": {},
   "source": [
    "nombre_infected      1018\n",
    "nombre_sain          2466\n",
    "nombre_exposed        672\n",
    "nombre_recovered    15844\n",
    "Name: 255, dtype: int64"
   ]
  },
  {
   "cell_type": "markdown",
   "id": "0d41e35f",
   "metadata": {},
   "source": [
    "nombre_infected      1003\n",
    "nombre_sain          2429\n",
    "nombre_exposed        678\n",
    "nombre_recovered    15890\n",
    "Name: 256, dtype: int64"
   ]
  },
  {
   "cell_type": "markdown",
   "id": "04abc82d",
   "metadata": {},
   "source": [
    "nombre_infected      1019\n",
    "nombre_sain          2391\n",
    "nombre_exposed        689\n",
    "nombre_recovered    15901\n",
    "Name: 257, dtype: int64"
   ]
  },
  {
   "cell_type": "markdown",
   "id": "5e68162a",
   "metadata": {},
   "source": [
    "nombre_infected      1031\n",
    "nombre_sain          2376\n",
    "nombre_exposed        680\n",
    "nombre_recovered    15913\n",
    "Name: 258, dtype: int64"
   ]
  },
  {
   "cell_type": "markdown",
   "id": "b71f04a7",
   "metadata": {},
   "source": [
    "nombre_infected      1048\n",
    "nombre_sain          2368\n",
    "nombre_exposed        662\n",
    "nombre_recovered    15922\n",
    "Name: 259, dtype: int64"
   ]
  },
  {
   "cell_type": "markdown",
   "id": "b54e4edd",
   "metadata": {},
   "source": [
    "nombre_infected      1041\n",
    "nombre_sain          2333\n",
    "nombre_exposed        694\n",
    "nombre_recovered    15932\n",
    "Name: 260, dtype: int64"
   ]
  },
  {
   "cell_type": "markdown",
   "id": "958065cf",
   "metadata": {},
   "source": [
    "nombre_infected      1037\n",
    "nombre_sain          2314\n",
    "nombre_exposed        685\n",
    "nombre_recovered    15964\n",
    "Name: 261, dtype: int64"
   ]
  },
  {
   "cell_type": "markdown",
   "id": "91b709b7",
   "metadata": {},
   "source": [
    "nombre_infected      1051\n",
    "nombre_sain          2289\n",
    "nombre_exposed        706\n",
    "nombre_recovered    15954\n",
    "Name: 262, dtype: int64"
   ]
  },
  {
   "cell_type": "markdown",
   "id": "816d23e1",
   "metadata": {},
   "source": [
    "nombre_infected      1068\n",
    "nombre_sain          2254\n",
    "nombre_exposed        708\n",
    "nombre_recovered    15970\n",
    "Name: 263, dtype: int64"
   ]
  },
  {
   "cell_type": "markdown",
   "id": "f7ef3b9c",
   "metadata": {},
   "source": [
    "nombre_infected      1057\n",
    "nombre_sain          2210\n",
    "nombre_exposed        717\n",
    "nombre_recovered    16016\n",
    "Name: 264, dtype: int64"
   ]
  },
  {
   "cell_type": "markdown",
   "id": "ce1213ff",
   "metadata": {},
   "source": [
    "nombre_infected      1072\n",
    "nombre_sain          2166\n",
    "nombre_exposed        709\n",
    "nombre_recovered    16053\n",
    "Name: 265, dtype: int64"
   ]
  },
  {
   "cell_type": "markdown",
   "id": "4117a426",
   "metadata": {},
   "source": [
    "nombre_infected      1098\n",
    "nombre_sain          2132\n",
    "nombre_exposed        681\n",
    "nombre_recovered    16089\n",
    "Name: 266, dtype: int64"
   ]
  },
  {
   "cell_type": "markdown",
   "id": "a1c13a19",
   "metadata": {},
   "source": [
    "nombre_infected      1092\n",
    "nombre_sain          2058\n",
    "nombre_exposed        706\n",
    "nombre_recovered    16144\n",
    "Name: 267, dtype: int64"
   ]
  },
  {
   "cell_type": "markdown",
   "id": "0115ace0",
   "metadata": {},
   "source": [
    "nombre_infected      1110\n",
    "nombre_sain          2010\n",
    "nombre_exposed        683\n",
    "nombre_recovered    16197\n",
    "Name: 268, dtype: int64"
   ]
  },
  {
   "cell_type": "markdown",
   "id": "0f667817",
   "metadata": {},
   "source": [
    "nombre_infected      1154\n",
    "nombre_sain          1971\n",
    "nombre_exposed        657\n",
    "nombre_recovered    16218\n",
    "Name: 269, dtype: int64"
   ]
  },
  {
   "cell_type": "markdown",
   "id": "461c514b",
   "metadata": {},
   "source": [
    "nombre_infected      1152\n",
    "nombre_sain          1965\n",
    "nombre_exposed        621\n",
    "nombre_recovered    16262\n",
    "Name: 270, dtype: int64"
   ]
  },
  {
   "cell_type": "markdown",
   "id": "6951eb10",
   "metadata": {},
   "source": [
    "nombre_infected      1134\n",
    "nombre_sain          1931\n",
    "nombre_exposed        633\n",
    "nombre_recovered    16302\n",
    "Name: 271, dtype: int64"
   ]
  },
  {
   "cell_type": "markdown",
   "id": "092ecfd0",
   "metadata": {},
   "source": [
    "nombre_infected      1142\n",
    "nombre_sain          1913\n",
    "nombre_exposed        593\n",
    "nombre_recovered    16352\n",
    "Name: 272, dtype: int64"
   ]
  },
  {
   "cell_type": "markdown",
   "id": "1e31acb9",
   "metadata": {},
   "source": [
    "nombre_infected      1144\n",
    "nombre_sain          1879\n",
    "nombre_exposed        580\n",
    "nombre_recovered    16397\n",
    "Name: 273, dtype: int64"
   ]
  },
  {
   "cell_type": "markdown",
   "id": "cd93d54c",
   "metadata": {},
   "source": [
    "nombre_infected      1155\n",
    "nombre_sain          1846\n",
    "nombre_exposed        584\n",
    "nombre_recovered    16415\n",
    "Name: 274, dtype: int64"
   ]
  },
  {
   "cell_type": "markdown",
   "id": "dba64e6f",
   "metadata": {},
   "source": [
    "nombre_infected      1113\n",
    "nombre_sain          1809\n",
    "nombre_exposed        604\n",
    "nombre_recovered    16474\n",
    "Name: 275, dtype: int64"
   ]
  },
  {
   "cell_type": "markdown",
   "id": "44a9f07e",
   "metadata": {},
   "source": [
    "nombre_infected      1145\n",
    "nombre_sain          1807\n",
    "nombre_exposed        568\n",
    "nombre_recovered    16480\n",
    "Name: 276, dtype: int64"
   ]
  },
  {
   "cell_type": "markdown",
   "id": "089121b7",
   "metadata": {},
   "source": [
    "nombre_infected      1162\n",
    "nombre_sain          1791\n",
    "nombre_exposed        543\n",
    "nombre_recovered    16504\n",
    "Name: 277, dtype: int64"
   ]
  },
  {
   "cell_type": "markdown",
   "id": "19c15842",
   "metadata": {},
   "source": [
    "nombre_infected      1163\n",
    "nombre_sain          1807\n",
    "nombre_exposed        511\n",
    "nombre_recovered    16519\n",
    "Name: 278, dtype: int64"
   ]
  },
  {
   "cell_type": "markdown",
   "id": "ccfcaf6e",
   "metadata": {},
   "source": [
    "nombre_infected      1139\n",
    "nombre_sain          1828\n",
    "nombre_exposed        516\n",
    "nombre_recovered    16517\n",
    "Name: 279, dtype: int64"
   ]
  },
  {
   "cell_type": "markdown",
   "id": "b2d69539",
   "metadata": {},
   "source": [
    "nombre_infected      1112\n",
    "nombre_sain          1816\n",
    "nombre_exposed        510\n",
    "nombre_recovered    16562\n",
    "Name: 280, dtype: int64"
   ]
  },
  {
   "cell_type": "markdown",
   "id": "9678c9dc",
   "metadata": {},
   "source": [
    "nombre_infected      1089\n",
    "nombre_sain          1814\n",
    "nombre_exposed        500\n",
    "nombre_recovered    16597\n",
    "Name: 281, dtype: int64"
   ]
  },
  {
   "cell_type": "markdown",
   "id": "f300288f",
   "metadata": {},
   "source": [
    "nombre_infected      1061\n",
    "nombre_sain          1812\n",
    "nombre_exposed        524\n",
    "nombre_recovered    16603\n",
    "Name: 282, dtype: int64"
   ]
  },
  {
   "cell_type": "markdown",
   "id": "37a4be99",
   "metadata": {},
   "source": [
    "nombre_infected      1044\n",
    "nombre_sain          1814\n",
    "nombre_exposed        513\n",
    "nombre_recovered    16629\n",
    "Name: 283, dtype: int64"
   ]
  },
  {
   "cell_type": "markdown",
   "id": "12316061",
   "metadata": {},
   "source": [
    "nombre_infected      1028\n",
    "nombre_sain          1790\n",
    "nombre_exposed        515\n",
    "nombre_recovered    16667\n",
    "Name: 284, dtype: int64"
   ]
  },
  {
   "cell_type": "markdown",
   "id": "3b642379",
   "metadata": {},
   "source": [
    "nombre_infected      1026\n",
    "nombre_sain          1794\n",
    "nombre_exposed        497\n",
    "nombre_recovered    16683\n",
    "Name: 285, dtype: int64"
   ]
  },
  {
   "cell_type": "markdown",
   "id": "b0303758",
   "metadata": {},
   "source": [
    "nombre_infected      1005\n",
    "nombre_sain          1786\n",
    "nombre_exposed        492\n",
    "nombre_recovered    16717\n",
    "Name: 286, dtype: int64"
   ]
  },
  {
   "cell_type": "markdown",
   "id": "ca4fadc5",
   "metadata": {},
   "source": [
    "nombre_infected       980\n",
    "nombre_sain          1796\n",
    "nombre_exposed        486\n",
    "nombre_recovered    16738\n",
    "Name: 287, dtype: int64"
   ]
  },
  {
   "cell_type": "markdown",
   "id": "5f2b2e51",
   "metadata": {},
   "source": [
    "nombre_infected       978\n",
    "nombre_sain          1765\n",
    "nombre_exposed        492\n",
    "nombre_recovered    16765\n",
    "Name: 288, dtype: int64"
   ]
  },
  {
   "cell_type": "markdown",
   "id": "f18f1df2",
   "metadata": {},
   "source": [
    "nombre_infected       969\n",
    "nombre_sain          1776\n",
    "nombre_exposed        476\n",
    "nombre_recovered    16779\n",
    "Name: 289, dtype: int64"
   ]
  },
  {
   "cell_type": "markdown",
   "id": "6d66a8b0",
   "metadata": {},
   "source": [
    "nombre_infected       945\n",
    "nombre_sain          1791\n",
    "nombre_exposed        455\n",
    "nombre_recovered    16809\n",
    "Name: 290, dtype: int64"
   ]
  },
  {
   "cell_type": "markdown",
   "id": "454fbacc",
   "metadata": {},
   "source": [
    "nombre_infected       947\n",
    "nombre_sain          1788\n",
    "nombre_exposed        456\n",
    "nombre_recovered    16809\n",
    "Name: 291, dtype: int64"
   ]
  },
  {
   "cell_type": "markdown",
   "id": "086bdd98",
   "metadata": {},
   "source": [
    "nombre_infected       937\n",
    "nombre_sain          1781\n",
    "nombre_exposed        449\n",
    "nombre_recovered    16833\n",
    "Name: 292, dtype: int64"
   ]
  },
  {
   "cell_type": "markdown",
   "id": "18ddaa8f",
   "metadata": {},
   "source": [
    "nombre_infected       910\n",
    "nombre_sain          1768\n",
    "nombre_exposed        441\n",
    "nombre_recovered    16881\n",
    "Name: 293, dtype: int64"
   ]
  },
  {
   "cell_type": "markdown",
   "id": "124af529",
   "metadata": {},
   "source": [
    "nombre_infected       890\n",
    "nombre_sain          1778\n",
    "nombre_exposed        441\n",
    "nombre_recovered    16891\n",
    "Name: 294, dtype: int64"
   ]
  },
  {
   "cell_type": "markdown",
   "id": "ef255ac3",
   "metadata": {},
   "source": [
    "nombre_infected       881\n",
    "nombre_sain          1785\n",
    "nombre_exposed        440\n",
    "nombre_recovered    16894\n",
    "Name: 295, dtype: int64"
   ]
  },
  {
   "cell_type": "markdown",
   "id": "3a082937",
   "metadata": {},
   "source": [
    "nombre_infected       857\n",
    "nombre_sain          1806\n",
    "nombre_exposed        424\n",
    "nombre_recovered    16913\n",
    "Name: 296, dtype: int64"
   ]
  },
  {
   "cell_type": "markdown",
   "id": "e0308838",
   "metadata": {},
   "source": [
    "nombre_infected       840\n",
    "nombre_sain          1826\n",
    "nombre_exposed        428\n",
    "nombre_recovered    16906\n",
    "Name: 297, dtype: int64"
   ]
  },
  {
   "cell_type": "markdown",
   "id": "9f78854c",
   "metadata": {},
   "source": [
    "nombre_infected       809\n",
    "nombre_sain          1827\n",
    "nombre_exposed        435\n",
    "nombre_recovered    16929\n",
    "Name: 298, dtype: int64"
   ]
  },
  {
   "cell_type": "markdown",
   "id": "2ac12e92",
   "metadata": {},
   "source": [
    "nombre_infected       807\n",
    "nombre_sain          1864\n",
    "nombre_exposed        409\n",
    "nombre_recovered    16920\n",
    "Name: 299, dtype: int64"
   ]
  },
  {
   "cell_type": "markdown",
   "id": "5f593cc5",
   "metadata": {},
   "source": [
    "nombre_infected       814\n",
    "nombre_sain          1860\n",
    "nombre_exposed        411\n",
    "nombre_recovered    16915\n",
    "Name: 300, dtype: int64"
   ]
  },
  {
   "cell_type": "markdown",
   "id": "dbc1c75b",
   "metadata": {},
   "source": [
    "nombre_infected       798\n",
    "nombre_sain          1896\n",
    "nombre_exposed        401\n",
    "nombre_recovered    16905\n",
    "Name: 301, dtype: int64"
   ]
  },
  {
   "cell_type": "markdown",
   "id": "cd067a4a",
   "metadata": {},
   "source": [
    "nombre_infected       769\n",
    "nombre_sain          1899\n",
    "nombre_exposed        418\n",
    "nombre_recovered    16914\n",
    "Name: 302, dtype: int64"
   ]
  },
  {
   "cell_type": "markdown",
   "id": "6a0ac1b4",
   "metadata": {},
   "source": [
    "nombre_infected       771\n",
    "nombre_sain          1907\n",
    "nombre_exposed        419\n",
    "nombre_recovered    16903\n",
    "Name: 303, dtype: int64"
   ]
  },
  {
   "cell_type": "markdown",
   "id": "ed385ad7",
   "metadata": {},
   "source": [
    "nombre_infected       763\n",
    "nombre_sain          1913\n",
    "nombre_exposed        425\n",
    "nombre_recovered    16899\n",
    "Name: 304, dtype: int64"
   ]
  },
  {
   "cell_type": "markdown",
   "id": "8c3a5923",
   "metadata": {},
   "source": [
    "nombre_infected       781\n",
    "nombre_sain          1946\n",
    "nombre_exposed        404\n",
    "nombre_recovered    16869\n",
    "Name: 305, dtype: int64"
   ]
  },
  {
   "cell_type": "markdown",
   "id": "0c4f9e58",
   "metadata": {},
   "source": [
    "nombre_infected       791\n",
    "nombre_sain          1998\n",
    "nombre_exposed        374\n",
    "nombre_recovered    16837\n",
    "Name: 306, dtype: int64"
   ]
  },
  {
   "cell_type": "markdown",
   "id": "c88b1899",
   "metadata": {},
   "source": [
    "nombre_infected       784\n",
    "nombre_sain          2052\n",
    "nombre_exposed        355\n",
    "nombre_recovered    16809\n",
    "Name: 307, dtype: int64"
   ]
  },
  {
   "cell_type": "markdown",
   "id": "69ab5254",
   "metadata": {},
   "source": [
    "nombre_infected       769\n",
    "nombre_sain          2070\n",
    "nombre_exposed        357\n",
    "nombre_recovered    16804\n",
    "Name: 308, dtype: int64"
   ]
  },
  {
   "cell_type": "markdown",
   "id": "4521df0f",
   "metadata": {},
   "source": [
    "nombre_infected       752\n",
    "nombre_sain          2071\n",
    "nombre_exposed        388\n",
    "nombre_recovered    16789\n",
    "Name: 309, dtype: int64"
   ]
  },
  {
   "cell_type": "markdown",
   "id": "a3ea13ae",
   "metadata": {},
   "source": [
    "nombre_infected       776\n",
    "nombre_sain          2107\n",
    "nombre_exposed        387\n",
    "nombre_recovered    16730\n",
    "Name: 310, dtype: int64"
   ]
  },
  {
   "cell_type": "markdown",
   "id": "2b56605a",
   "metadata": {},
   "source": [
    "nombre_infected       785\n",
    "nombre_sain          2125\n",
    "nombre_exposed        404\n",
    "nombre_recovered    16686\n",
    "Name: 311, dtype: int64"
   ]
  },
  {
   "cell_type": "markdown",
   "id": "5b35ec4a",
   "metadata": {},
   "source": [
    "nombre_infected       777\n",
    "nombre_sain          2142\n",
    "nombre_exposed        415\n",
    "nombre_recovered    16666\n",
    "Name: 312, dtype: int64"
   ]
  },
  {
   "cell_type": "markdown",
   "id": "492dcb6d",
   "metadata": {},
   "source": [
    "nombre_infected       756\n",
    "nombre_sain          2157\n",
    "nombre_exposed        436\n",
    "nombre_recovered    16651\n",
    "Name: 313, dtype: int64"
   ]
  },
  {
   "cell_type": "markdown",
   "id": "e1a3ff46",
   "metadata": {},
   "source": [
    "nombre_infected       773\n",
    "nombre_sain          2167\n",
    "nombre_exposed        421\n",
    "nombre_recovered    16639\n",
    "Name: 314, dtype: int64"
   ]
  },
  {
   "cell_type": "markdown",
   "id": "417c9958",
   "metadata": {},
   "source": [
    "nombre_infected       794\n",
    "nombre_sain          2180\n",
    "nombre_exposed        400\n",
    "nombre_recovered    16626\n",
    "Name: 315, dtype: int64"
   ]
  },
  {
   "cell_type": "markdown",
   "id": "ba8afd83",
   "metadata": {},
   "source": [
    "nombre_infected       775\n",
    "nombre_sain          2209\n",
    "nombre_exposed        405\n",
    "nombre_recovered    16611\n",
    "Name: 316, dtype: int64"
   ]
  },
  {
   "cell_type": "markdown",
   "id": "0a7635bb",
   "metadata": {},
   "source": [
    "nombre_infected       785\n",
    "nombre_sain          2256\n",
    "nombre_exposed        383\n",
    "nombre_recovered    16576\n",
    "Name: 317, dtype: int64"
   ]
  },
  {
   "cell_type": "markdown",
   "id": "a3c7b0ed",
   "metadata": {},
   "source": [
    "nombre_infected       804\n",
    "nombre_sain          2283\n",
    "nombre_exposed        386\n",
    "nombre_recovered    16527\n",
    "Name: 318, dtype: int64"
   ]
  },
  {
   "cell_type": "markdown",
   "id": "337a8ceb",
   "metadata": {},
   "source": [
    "nombre_infected       801\n",
    "nombre_sain          2292\n",
    "nombre_exposed        420\n",
    "nombre_recovered    16487\n",
    "Name: 319, dtype: int64"
   ]
  },
  {
   "cell_type": "markdown",
   "id": "5eb3fa3e",
   "metadata": {},
   "source": [
    "nombre_infected       800\n",
    "nombre_sain          2305\n",
    "nombre_exposed        417\n",
    "nombre_recovered    16478\n",
    "Name: 320, dtype: int64"
   ]
  },
  {
   "cell_type": "markdown",
   "id": "2a9031ed",
   "metadata": {},
   "source": [
    "nombre_infected       790\n",
    "nombre_sain          2314\n",
    "nombre_exposed        415\n",
    "nombre_recovered    16481\n",
    "Name: 321, dtype: int64"
   ]
  },
  {
   "cell_type": "markdown",
   "id": "ed67f172",
   "metadata": {},
   "source": [
    "nombre_infected       814\n",
    "nombre_sain          2328\n",
    "nombre_exposed        408\n",
    "nombre_recovered    16450\n",
    "Name: 322, dtype: int64"
   ]
  },
  {
   "cell_type": "markdown",
   "id": "f247e273",
   "metadata": {},
   "source": [
    "nombre_infected       816\n",
    "nombre_sain          2384\n",
    "nombre_exposed        409\n",
    "nombre_recovered    16391\n",
    "Name: 323, dtype: int64"
   ]
  },
  {
   "cell_type": "markdown",
   "id": "2a41594b",
   "metadata": {},
   "source": [
    "nombre_infected       822\n",
    "nombre_sain          2361\n",
    "nombre_exposed        439\n",
    "nombre_recovered    16378\n",
    "Name: 324, dtype: int64"
   ]
  },
  {
   "cell_type": "markdown",
   "id": "36746ffe",
   "metadata": {},
   "source": [
    "nombre_infected       830\n",
    "nombre_sain          2363\n",
    "nombre_exposed        469\n",
    "nombre_recovered    16338\n",
    "Name: 325, dtype: int64"
   ]
  },
  {
   "cell_type": "markdown",
   "id": "816ccefe",
   "metadata": {},
   "source": [
    "nombre_infected       837\n",
    "nombre_sain          2375\n",
    "nombre_exposed        473\n",
    "nombre_recovered    16315\n",
    "Name: 326, dtype: int64"
   ]
  },
  {
   "cell_type": "markdown",
   "id": "d8106593",
   "metadata": {},
   "source": [
    "nombre_infected       872\n",
    "nombre_sain          2374\n",
    "nombre_exposed        469\n",
    "nombre_recovered    16285\n",
    "Name: 327, dtype: int64"
   ]
  },
  {
   "cell_type": "markdown",
   "id": "157f6cc1",
   "metadata": {},
   "source": [
    "nombre_infected       904\n",
    "nombre_sain          2367\n",
    "nombre_exposed        490\n",
    "nombre_recovered    16239\n",
    "Name: 328, dtype: int64"
   ]
  },
  {
   "cell_type": "markdown",
   "id": "12980d6a",
   "metadata": {},
   "source": [
    "nombre_infected       882\n",
    "nombre_sain          2365\n",
    "nombre_exposed        527\n",
    "nombre_recovered    16226\n",
    "Name: 329, dtype: int64"
   ]
  },
  {
   "cell_type": "markdown",
   "id": "9f7bd4ee",
   "metadata": {},
   "source": [
    "nombre_infected       918\n",
    "nombre_sain          2333\n",
    "nombre_exposed        540\n",
    "nombre_recovered    16209\n",
    "Name: 330, dtype: int64"
   ]
  },
  {
   "cell_type": "markdown",
   "id": "041df2f6",
   "metadata": {},
   "source": [
    "nombre_infected       954\n",
    "nombre_sain          2315\n",
    "nombre_exposed        537\n",
    "nombre_recovered    16194\n",
    "Name: 331, dtype: int64"
   ]
  },
  {
   "cell_type": "markdown",
   "id": "be139dd1",
   "metadata": {},
   "source": [
    "nombre_infected       975\n",
    "nombre_sain          2303\n",
    "nombre_exposed        530\n",
    "nombre_recovered    16192\n",
    "Name: 332, dtype: int64"
   ]
  },
  {
   "cell_type": "markdown",
   "id": "b774a77b",
   "metadata": {},
   "source": [
    "nombre_infected      1000\n",
    "nombre_sain          2276\n",
    "nombre_exposed        530\n",
    "nombre_recovered    16194\n",
    "Name: 333, dtype: int64"
   ]
  },
  {
   "cell_type": "markdown",
   "id": "d00cf513",
   "metadata": {},
   "source": [
    "nombre_infected      1032\n",
    "nombre_sain          2277\n",
    "nombre_exposed        525\n",
    "nombre_recovered    16166\n",
    "Name: 334, dtype: int64"
   ]
  },
  {
   "cell_type": "markdown",
   "id": "509f424f",
   "metadata": {},
   "source": [
    "nombre_infected      1042\n",
    "nombre_sain          2264\n",
    "nombre_exposed        554\n",
    "nombre_recovered    16140\n",
    "Name: 335, dtype: int64"
   ]
  },
  {
   "cell_type": "markdown",
   "id": "7ee6ba13",
   "metadata": {},
   "source": [
    "nombre_infected      1036\n",
    "nombre_sain          2264\n",
    "nombre_exposed        564\n",
    "nombre_recovered    16136\n",
    "Name: 336, dtype: int64"
   ]
  },
  {
   "cell_type": "markdown",
   "id": "eaf86b63",
   "metadata": {},
   "source": [
    "nombre_infected      1055\n",
    "nombre_sain          2264\n",
    "nombre_exposed        554\n",
    "nombre_recovered    16127\n",
    "Name: 337, dtype: int64"
   ]
  },
  {
   "cell_type": "markdown",
   "id": "b71ee35b",
   "metadata": {},
   "source": [
    "nombre_infected      1059\n",
    "nombre_sain          2242\n",
    "nombre_exposed        577\n",
    "nombre_recovered    16122\n",
    "Name: 338, dtype: int64"
   ]
  },
  {
   "cell_type": "markdown",
   "id": "d575fac7",
   "metadata": {},
   "source": [
    "nombre_infected      1041\n",
    "nombre_sain          2228\n",
    "nombre_exposed        599\n",
    "nombre_recovered    16132\n",
    "Name: 339, dtype: int64"
   ]
  },
  {
   "cell_type": "markdown",
   "id": "a474e7fc",
   "metadata": {},
   "source": [
    "nombre_infected      1050\n",
    "nombre_sain          2220\n",
    "nombre_exposed        620\n",
    "nombre_recovered    16110\n",
    "Name: 340, dtype: int64"
   ]
  },
  {
   "cell_type": "markdown",
   "id": "17d8e56a",
   "metadata": {},
   "source": [
    "nombre_infected      1077\n",
    "nombre_sain          2220\n",
    "nombre_exposed        598\n",
    "nombre_recovered    16105\n",
    "Name: 341, dtype: int64"
   ]
  },
  {
   "cell_type": "markdown",
   "id": "cb6bbf6d",
   "metadata": {},
   "source": [
    "nombre_infected      1100\n",
    "nombre_sain          2215\n",
    "nombre_exposed        629\n",
    "nombre_recovered    16056\n",
    "Name: 342, dtype: int64"
   ]
  },
  {
   "cell_type": "markdown",
   "id": "3abb0a4d",
   "metadata": {},
   "source": [
    "nombre_infected      1122\n",
    "nombre_sain          2199\n",
    "nombre_exposed        630\n",
    "nombre_recovered    16049\n",
    "Name: 343, dtype: int64"
   ]
  },
  {
   "cell_type": "markdown",
   "id": "28aaf60f",
   "metadata": {},
   "source": [
    "nombre_infected      1125\n",
    "nombre_sain          2186\n",
    "nombre_exposed        650\n",
    "nombre_recovered    16039\n",
    "Name: 344, dtype: int64"
   ]
  },
  {
   "cell_type": "markdown",
   "id": "4227c2b3",
   "metadata": {},
   "source": [
    "nombre_infected      1130\n",
    "nombre_sain          2157\n",
    "nombre_exposed        621\n",
    "nombre_recovered    16092\n",
    "Name: 345, dtype: int64"
   ]
  },
  {
   "cell_type": "markdown",
   "id": "7e5520ea",
   "metadata": {},
   "source": [
    "nombre_infected      1141\n",
    "nombre_sain          2122\n",
    "nombre_exposed        625\n",
    "nombre_recovered    16112\n",
    "Name: 346, dtype: int64"
   ]
  },
  {
   "cell_type": "markdown",
   "id": "8947c260",
   "metadata": {},
   "source": [
    "nombre_infected      1166\n",
    "nombre_sain          2113\n",
    "nombre_exposed        616\n",
    "nombre_recovered    16105\n",
    "Name: 347, dtype: int64"
   ]
  },
  {
   "cell_type": "markdown",
   "id": "5cbea684",
   "metadata": {},
   "source": [
    "nombre_infected      1147\n",
    "nombre_sain          2077\n",
    "nombre_exposed        642\n",
    "nombre_recovered    16134\n",
    "Name: 348, dtype: int64"
   ]
  },
  {
   "cell_type": "markdown",
   "id": "08009484",
   "metadata": {},
   "source": [
    "nombre_infected      1141\n",
    "nombre_sain          2052\n",
    "nombre_exposed        656\n",
    "nombre_recovered    16151\n",
    "Name: 349, dtype: int64"
   ]
  },
  {
   "cell_type": "markdown",
   "id": "e5db4193",
   "metadata": {},
   "source": [
    "nombre_infected      1168\n",
    "nombre_sain          2024\n",
    "nombre_exposed        649\n",
    "nombre_recovered    16159\n",
    "Name: 350, dtype: int64"
   ]
  },
  {
   "cell_type": "markdown",
   "id": "1a6784ff",
   "metadata": {},
   "source": [
    "nombre_infected      1181\n",
    "nombre_sain          1998\n",
    "nombre_exposed        627\n",
    "nombre_recovered    16194\n",
    "Name: 351, dtype: int64"
   ]
  },
  {
   "cell_type": "markdown",
   "id": "bda038a9",
   "metadata": {},
   "source": [
    "nombre_infected      1158\n",
    "nombre_sain          1978\n",
    "nombre_exposed        635\n",
    "nombre_recovered    16229\n",
    "Name: 352, dtype: int64"
   ]
  },
  {
   "cell_type": "markdown",
   "id": "348b4479",
   "metadata": {},
   "source": [
    "nombre_infected      1171\n",
    "nombre_sain          1952\n",
    "nombre_exposed        630\n",
    "nombre_recovered    16247\n",
    "Name: 353, dtype: int64"
   ]
  },
  {
   "cell_type": "markdown",
   "id": "ee9b6d9d",
   "metadata": {},
   "source": [
    "nombre_infected      1163\n",
    "nombre_sain          1906\n",
    "nombre_exposed        620\n",
    "nombre_recovered    16311\n",
    "Name: 354, dtype: int64"
   ]
  },
  {
   "cell_type": "markdown",
   "id": "419a9192",
   "metadata": {},
   "source": [
    "nombre_infected      1136\n",
    "nombre_sain          1891\n",
    "nombre_exposed        605\n",
    "nombre_recovered    16368\n",
    "Name: 355, dtype: int64"
   ]
  },
  {
   "cell_type": "markdown",
   "id": "689733c4",
   "metadata": {},
   "source": [
    "nombre_infected      1128\n",
    "nombre_sain          1876\n",
    "nombre_exposed        590\n",
    "nombre_recovered    16406\n",
    "Name: 356, dtype: int64"
   ]
  },
  {
   "cell_type": "markdown",
   "id": "0e38d76e",
   "metadata": {},
   "source": [
    "nombre_infected      1107\n",
    "nombre_sain          1846\n",
    "nombre_exposed        583\n",
    "nombre_recovered    16464\n",
    "Name: 357, dtype: int64"
   ]
  },
  {
   "cell_type": "markdown",
   "id": "49852adf",
   "metadata": {},
   "source": [
    "nombre_infected      1086\n",
    "nombre_sain          1848\n",
    "nombre_exposed        561\n",
    "nombre_recovered    16505\n",
    "Name: 358, dtype: int64"
   ]
  },
  {
   "cell_type": "markdown",
   "id": "e2640f74",
   "metadata": {},
   "source": [
    "nombre_infected      1067\n",
    "nombre_sain          1854\n",
    "nombre_exposed        537\n",
    "nombre_recovered    16542\n",
    "Name: 359, dtype: int64"
   ]
  },
  {
   "cell_type": "markdown",
   "id": "c5d7eb8e",
   "metadata": {},
   "source": [
    "nombre_infected      1041\n",
    "nombre_sain          1826\n",
    "nombre_exposed        557\n",
    "nombre_recovered    16576\n",
    "Name: 360, dtype: int64"
   ]
  },
  {
   "cell_type": "markdown",
   "id": "87b885e6",
   "metadata": {},
   "source": [
    "nombre_infected      1025\n",
    "nombre_sain          1802\n",
    "nombre_exposed        566\n",
    "nombre_recovered    16607\n",
    "Name: 361, dtype: int64"
   ]
  },
  {
   "cell_type": "markdown",
   "id": "d3d83a7b",
   "metadata": {},
   "source": [
    "nombre_infected      1015\n",
    "nombre_sain          1800\n",
    "nombre_exposed        574\n",
    "nombre_recovered    16611\n",
    "Name: 362, dtype: int64"
   ]
  },
  {
   "cell_type": "markdown",
   "id": "b132876d",
   "metadata": {},
   "source": [
    "nombre_infected      1015\n",
    "nombre_sain          1806\n",
    "nombre_exposed        558\n",
    "nombre_recovered    16621\n",
    "Name: 363, dtype: int64"
   ]
  },
  {
   "cell_type": "markdown",
   "id": "cc2c6454",
   "metadata": {},
   "source": [
    "nombre_infected      1004\n",
    "nombre_sain          1828\n",
    "nombre_exposed        576\n",
    "nombre_recovered    16592\n",
    "Name: 364, dtype: int64"
   ]
  },
  {
   "cell_type": "markdown",
   "id": "624589ba",
   "metadata": {},
   "source": [
    "nombre_infected       987\n",
    "nombre_sain          1854\n",
    "nombre_exposed        551\n",
    "nombre_recovered    16608\n",
    "Name: 365, dtype: int64"
   ]
  },
  {
   "cell_type": "markdown",
   "id": "9ff5c4b9",
   "metadata": {},
   "source": [
    "nombre_infected      1001\n",
    "nombre_sain          1853\n",
    "nombre_exposed        532\n",
    "nombre_recovered    16614\n",
    "Name: 366, dtype: int64"
   ]
  },
  {
   "cell_type": "markdown",
   "id": "a8e01fcd",
   "metadata": {},
   "source": [
    "nombre_infected       994\n",
    "nombre_sain          1846\n",
    "nombre_exposed        533\n",
    "nombre_recovered    16627\n",
    "Name: 367, dtype: int64"
   ]
  },
  {
   "cell_type": "markdown",
   "id": "ebe1a0ca",
   "metadata": {},
   "source": [
    "nombre_infected       978\n",
    "nombre_sain          1847\n",
    "nombre_exposed        540\n",
    "nombre_recovered    16635\n",
    "Name: 368, dtype: int64"
   ]
  },
  {
   "cell_type": "markdown",
   "id": "cb6b5ce0",
   "metadata": {},
   "source": [
    "nombre_infected       942\n",
    "nombre_sain          1875\n",
    "nombre_exposed        529\n",
    "nombre_recovered    16654\n",
    "Name: 369, dtype: int64"
   ]
  },
  {
   "cell_type": "markdown",
   "id": "de4f260a",
   "metadata": {},
   "source": [
    "nombre_infected       945\n",
    "nombre_sain          1863\n",
    "nombre_exposed        535\n",
    "nombre_recovered    16657\n",
    "Name: 370, dtype: int64"
   ]
  },
  {
   "cell_type": "markdown",
   "id": "864ff831",
   "metadata": {},
   "source": [
    "nombre_infected       945\n",
    "nombre_sain          1886\n",
    "nombre_exposed        521\n",
    "nombre_recovered    16648\n",
    "Name: 371, dtype: int64"
   ]
  },
  {
   "cell_type": "markdown",
   "id": "d05f6044",
   "metadata": {},
   "source": [
    "nombre_infected       928\n",
    "nombre_sain          1912\n",
    "nombre_exposed        508\n",
    "nombre_recovered    16652\n",
    "Name: 372, dtype: int64"
   ]
  },
  {
   "cell_type": "markdown",
   "id": "f466aecc",
   "metadata": {},
   "source": [
    "nombre_infected       938\n",
    "nombre_sain          1947\n",
    "nombre_exposed        520\n",
    "nombre_recovered    16595\n",
    "Name: 373, dtype: int64"
   ]
  },
  {
   "cell_type": "markdown",
   "id": "4cc5a2b9",
   "metadata": {},
   "source": [
    "nombre_infected       923\n",
    "nombre_sain          1970\n",
    "nombre_exposed        505\n",
    "nombre_recovered    16602\n",
    "Name: 374, dtype: int64"
   ]
  },
  {
   "cell_type": "markdown",
   "id": "454f186c",
   "metadata": {},
   "source": [
    "nombre_infected       905\n",
    "nombre_sain          1982\n",
    "nombre_exposed        511\n",
    "nombre_recovered    16602\n",
    "Name: 375, dtype: int64"
   ]
  },
  {
   "cell_type": "markdown",
   "id": "c0f6d8b8",
   "metadata": {},
   "source": [
    "nombre_infected       899\n",
    "nombre_sain          1973\n",
    "nombre_exposed        513\n",
    "nombre_recovered    16615\n",
    "Name: 376, dtype: int64"
   ]
  },
  {
   "cell_type": "markdown",
   "id": "fe563852",
   "metadata": {},
   "source": [
    "nombre_infected       897\n",
    "nombre_sain          1967\n",
    "nombre_exposed        519\n",
    "nombre_recovered    16617\n",
    "Name: 377, dtype: int64"
   ]
  },
  {
   "cell_type": "markdown",
   "id": "c24cf9e0",
   "metadata": {},
   "source": [
    "nombre_infected       921\n",
    "nombre_sain          1965\n",
    "nombre_exposed        512\n",
    "nombre_recovered    16602\n",
    "Name: 378, dtype: int64"
   ]
  },
  {
   "cell_type": "markdown",
   "id": "3acdf927",
   "metadata": {},
   "source": [
    "nombre_infected       940\n",
    "nombre_sain          1951\n",
    "nombre_exposed        523\n",
    "nombre_recovered    16586\n",
    "Name: 379, dtype: int64"
   ]
  },
  {
   "cell_type": "markdown",
   "id": "1d924008",
   "metadata": {},
   "source": [
    "nombre_infected       910\n",
    "nombre_sain          1951\n",
    "nombre_exposed        547\n",
    "nombre_recovered    16592\n",
    "Name: 380, dtype: int64"
   ]
  },
  {
   "cell_type": "markdown",
   "id": "1f5d0a16",
   "metadata": {},
   "source": [
    "nombre_infected       905\n",
    "nombre_sain          1958\n",
    "nombre_exposed        528\n",
    "nombre_recovered    16609\n",
    "Name: 381, dtype: int64"
   ]
  },
  {
   "cell_type": "markdown",
   "id": "d25afc03",
   "metadata": {},
   "source": [
    "nombre_infected       922\n",
    "nombre_sain          1991\n",
    "nombre_exposed        479\n",
    "nombre_recovered    16608\n",
    "Name: 382, dtype: int64"
   ]
  },
  {
   "cell_type": "markdown",
   "id": "df21883c",
   "metadata": {},
   "source": [
    "nombre_infected       928\n",
    "nombre_sain          2014\n",
    "nombre_exposed        473\n",
    "nombre_recovered    16585\n",
    "Name: 383, dtype: int64"
   ]
  },
  {
   "cell_type": "markdown",
   "id": "aa00ee8c",
   "metadata": {},
   "source": [
    "nombre_infected       905\n",
    "nombre_sain          2008\n",
    "nombre_exposed        492\n",
    "nombre_recovered    16595\n",
    "Name: 384, dtype: int64"
   ]
  },
  {
   "cell_type": "markdown",
   "id": "44e84e07",
   "metadata": {},
   "source": [
    "nombre_infected       893\n",
    "nombre_sain          2021\n",
    "nombre_exposed        496\n",
    "nombre_recovered    16590\n",
    "Name: 385, dtype: int64"
   ]
  },
  {
   "cell_type": "markdown",
   "id": "044f3373",
   "metadata": {},
   "source": [
    "nombre_infected       891\n",
    "nombre_sain          2013\n",
    "nombre_exposed        507\n",
    "nombre_recovered    16589\n",
    "Name: 386, dtype: int64"
   ]
  },
  {
   "cell_type": "markdown",
   "id": "dc975361",
   "metadata": {},
   "source": [
    "nombre_infected       891\n",
    "nombre_sain          2049\n",
    "nombre_exposed        494\n",
    "nombre_recovered    16566\n",
    "Name: 387, dtype: int64"
   ]
  },
  {
   "cell_type": "markdown",
   "id": "f629f7e0",
   "metadata": {},
   "source": [
    "nombre_infected       903\n",
    "nombre_sain          2084\n",
    "nombre_exposed        480\n",
    "nombre_recovered    16533\n",
    "Name: 388, dtype: int64"
   ]
  },
  {
   "cell_type": "markdown",
   "id": "4af6a582",
   "metadata": {},
   "source": [
    "nombre_infected       906\n",
    "nombre_sain          2071\n",
    "nombre_exposed        480\n",
    "nombre_recovered    16543\n",
    "Name: 389, dtype: int64"
   ]
  },
  {
   "cell_type": "markdown",
   "id": "0a3da557",
   "metadata": {},
   "source": [
    "nombre_infected       925\n",
    "nombre_sain          2113\n",
    "nombre_exposed        458\n",
    "nombre_recovered    16504\n",
    "Name: 390, dtype: int64"
   ]
  },
  {
   "cell_type": "markdown",
   "id": "eb4b603c",
   "metadata": {},
   "source": [
    "nombre_infected       921\n",
    "nombre_sain          2117\n",
    "nombre_exposed        478\n",
    "nombre_recovered    16484\n",
    "Name: 391, dtype: int64"
   ]
  },
  {
   "cell_type": "markdown",
   "id": "4c89a375",
   "metadata": {},
   "source": [
    "nombre_infected       917\n",
    "nombre_sain          2112\n",
    "nombre_exposed        502\n",
    "nombre_recovered    16469\n",
    "Name: 392, dtype: int64"
   ]
  },
  {
   "cell_type": "markdown",
   "id": "e628d77e",
   "metadata": {},
   "source": [
    "nombre_infected       906\n",
    "nombre_sain          2122\n",
    "nombre_exposed        506\n",
    "nombre_recovered    16466\n",
    "Name: 393, dtype: int64"
   ]
  },
  {
   "cell_type": "markdown",
   "id": "6ce148b3",
   "metadata": {},
   "source": [
    "nombre_infected       924\n",
    "nombre_sain          2106\n",
    "nombre_exposed        495\n",
    "nombre_recovered    16475\n",
    "Name: 394, dtype: int64"
   ]
  },
  {
   "cell_type": "markdown",
   "id": "033c3096",
   "metadata": {},
   "source": [
    "nombre_infected       934\n",
    "nombre_sain          2097\n",
    "nombre_exposed        503\n",
    "nombre_recovered    16466\n",
    "Name: 395, dtype: int64"
   ]
  },
  {
   "cell_type": "markdown",
   "id": "c23b11c8",
   "metadata": {},
   "source": [
    "nombre_infected       949\n",
    "nombre_sain          2111\n",
    "nombre_exposed        497\n",
    "nombre_recovered    16443\n",
    "Name: 396, dtype: int64"
   ]
  },
  {
   "cell_type": "markdown",
   "id": "8aab305c",
   "metadata": {},
   "source": [
    "nombre_infected       953\n",
    "nombre_sain          2091\n",
    "nombre_exposed        501\n",
    "nombre_recovered    16455\n",
    "Name: 397, dtype: int64"
   ]
  },
  {
   "cell_type": "markdown",
   "id": "48dd6c41",
   "metadata": {},
   "source": [
    "nombre_infected       949\n",
    "nombre_sain          2066\n",
    "nombre_exposed        516\n",
    "nombre_recovered    16469\n",
    "Name: 398, dtype: int64"
   ]
  },
  {
   "cell_type": "markdown",
   "id": "d792257e",
   "metadata": {},
   "source": [
    "nombre_infected       902\n",
    "nombre_sain          2047\n",
    "nombre_exposed        528\n",
    "nombre_recovered    16523\n",
    "Name: 399, dtype: int64"
   ]
  },
  {
   "cell_type": "markdown",
   "id": "6d411360",
   "metadata": {},
   "source": [
    "nombre_infected       921\n",
    "nombre_sain          2054\n",
    "nombre_exposed        505\n",
    "nombre_recovered    16520\n",
    "Name: 400, dtype: int64"
   ]
  },
  {
   "cell_type": "markdown",
   "id": "ab104189",
   "metadata": {},
   "source": [
    "nombre_infected       938\n",
    "nombre_sain          2066\n",
    "nombre_exposed        481\n",
    "nombre_recovered    16515\n",
    "Name: 401, dtype: int64"
   ]
  },
  {
   "cell_type": "markdown",
   "id": "28854d09",
   "metadata": {},
   "source": [
    "nombre_infected       947\n",
    "nombre_sain          2052\n",
    "nombre_exposed        470\n",
    "nombre_recovered    16531\n",
    "Name: 402, dtype: int64"
   ]
  },
  {
   "cell_type": "markdown",
   "id": "74c1d8e0",
   "metadata": {},
   "source": [
    "nombre_infected       938\n",
    "nombre_sain          2040\n",
    "nombre_exposed        468\n",
    "nombre_recovered    16554\n",
    "Name: 403, dtype: int64"
   ]
  },
  {
   "cell_type": "markdown",
   "id": "77fe934d",
   "metadata": {},
   "source": [
    "nombre_infected       935\n",
    "nombre_sain          2022\n",
    "nombre_exposed        469\n",
    "nombre_recovered    16574\n",
    "Name: 404, dtype: int64"
   ]
  },
  {
   "cell_type": "markdown",
   "id": "2948ef72",
   "metadata": {},
   "source": [
    "nombre_infected       894\n",
    "nombre_sain          2016\n",
    "nombre_exposed        494\n",
    "nombre_recovered    16596\n",
    "Name: 405, dtype: int64"
   ]
  },
  {
   "cell_type": "markdown",
   "id": "dfe01c23",
   "metadata": {},
   "source": [
    "nombre_infected       890\n",
    "nombre_sain          2014\n",
    "nombre_exposed        496\n",
    "nombre_recovered    16600\n",
    "Name: 406, dtype: int64"
   ]
  },
  {
   "cell_type": "markdown",
   "id": "dd911c0e",
   "metadata": {},
   "source": [
    "nombre_infected       884\n",
    "nombre_sain          2011\n",
    "nombre_exposed        487\n",
    "nombre_recovered    16618\n",
    "Name: 407, dtype: int64"
   ]
  },
  {
   "cell_type": "markdown",
   "id": "a53b45c2",
   "metadata": {},
   "source": [
    "nombre_infected       867\n",
    "nombre_sain          2011\n",
    "nombre_exposed        495\n",
    "nombre_recovered    16627\n",
    "Name: 408, dtype: int64"
   ]
  },
  {
   "cell_type": "markdown",
   "id": "29edb154",
   "metadata": {},
   "source": [
    "nombre_infected       883\n",
    "nombre_sain          2016\n",
    "nombre_exposed        487\n",
    "nombre_recovered    16614\n",
    "Name: 409, dtype: int64"
   ]
  },
  {
   "cell_type": "markdown",
   "id": "cbd4e248",
   "metadata": {},
   "source": [
    "nombre_infected       895\n",
    "nombre_sain          2007\n",
    "nombre_exposed        489\n",
    "nombre_recovered    16609\n",
    "Name: 410, dtype: int64"
   ]
  },
  {
   "cell_type": "markdown",
   "id": "b0c67a83",
   "metadata": {},
   "source": [
    "nombre_infected       909\n",
    "nombre_sain          2007\n",
    "nombre_exposed        479\n",
    "nombre_recovered    16605\n",
    "Name: 411, dtype: int64"
   ]
  },
  {
   "cell_type": "markdown",
   "id": "bc528cda",
   "metadata": {},
   "source": [
    "nombre_infected       910\n",
    "nombre_sain          2021\n",
    "nombre_exposed        475\n",
    "nombre_recovered    16594\n",
    "Name: 412, dtype: int64"
   ]
  },
  {
   "cell_type": "markdown",
   "id": "b84b6c32",
   "metadata": {},
   "source": [
    "nombre_infected       890\n",
    "nombre_sain          2022\n",
    "nombre_exposed        492\n",
    "nombre_recovered    16596\n",
    "Name: 413, dtype: int64"
   ]
  },
  {
   "cell_type": "markdown",
   "id": "3d168761",
   "metadata": {},
   "source": [
    "nombre_infected       913\n",
    "nombre_sain          2020\n",
    "nombre_exposed        466\n",
    "nombre_recovered    16601\n",
    "Name: 414, dtype: int64"
   ]
  },
  {
   "cell_type": "markdown",
   "id": "4bdae456",
   "metadata": {},
   "source": [
    "nombre_infected       895\n",
    "nombre_sain          2008\n",
    "nombre_exposed        481\n",
    "nombre_recovered    16616\n",
    "Name: 415, dtype: int64"
   ]
  },
  {
   "cell_type": "markdown",
   "id": "9d2a1bb6",
   "metadata": {},
   "source": [
    "nombre_infected       887\n",
    "nombre_sain          2014\n",
    "nombre_exposed        487\n",
    "nombre_recovered    16612\n",
    "Name: 416, dtype: int64"
   ]
  },
  {
   "cell_type": "markdown",
   "id": "22c0bcf6",
   "metadata": {},
   "source": [
    "nombre_infected       881\n",
    "nombre_sain          2012\n",
    "nombre_exposed        473\n",
    "nombre_recovered    16634\n",
    "Name: 417, dtype: int64"
   ]
  },
  {
   "cell_type": "markdown",
   "id": "3eb5ee69",
   "metadata": {},
   "source": [
    "nombre_infected       872\n",
    "nombre_sain          2008\n",
    "nombre_exposed        488\n",
    "nombre_recovered    16632\n",
    "Name: 418, dtype: int64"
   ]
  },
  {
   "cell_type": "markdown",
   "id": "7685a9b4",
   "metadata": {},
   "source": [
    "nombre_infected       877\n",
    "nombre_sain          2019\n",
    "nombre_exposed        495\n",
    "nombre_recovered    16609\n",
    "Name: 419, dtype: int64"
   ]
  },
  {
   "cell_type": "markdown",
   "id": "dc46415d",
   "metadata": {},
   "source": [
    "nombre_infected       859\n",
    "nombre_sain          2026\n",
    "nombre_exposed        504\n",
    "nombre_recovered    16611\n",
    "Name: 420, dtype: int64"
   ]
  },
  {
   "cell_type": "markdown",
   "id": "2b40bbe7",
   "metadata": {},
   "source": [
    "nombre_infected       856\n",
    "nombre_sain          2056\n",
    "nombre_exposed        483\n",
    "nombre_recovered    16605\n",
    "Name: 421, dtype: int64"
   ]
  },
  {
   "cell_type": "markdown",
   "id": "67dc79a0",
   "metadata": {},
   "source": [
    "nombre_infected       857\n",
    "nombre_sain          2070\n",
    "nombre_exposed        479\n",
    "nombre_recovered    16594\n",
    "Name: 422, dtype: int64"
   ]
  },
  {
   "cell_type": "markdown",
   "id": "27fdcc7b",
   "metadata": {},
   "source": [
    "nombre_infected       814\n",
    "nombre_sain          2107\n",
    "nombre_exposed        471\n",
    "nombre_recovered    16608\n",
    "Name: 423, dtype: int64"
   ]
  },
  {
   "cell_type": "markdown",
   "id": "ed47f17f",
   "metadata": {},
   "source": [
    "nombre_infected       807\n",
    "nombre_sain          2133\n",
    "nombre_exposed        474\n",
    "nombre_recovered    16586\n",
    "Name: 424, dtype: int64"
   ]
  },
  {
   "cell_type": "markdown",
   "id": "a42d315d",
   "metadata": {},
   "source": [
    "nombre_infected       818\n",
    "nombre_sain          2138\n",
    "nombre_exposed        464\n",
    "nombre_recovered    16580\n",
    "Name: 425, dtype: int64"
   ]
  },
  {
   "cell_type": "markdown",
   "id": "a412183a",
   "metadata": {},
   "source": [
    "nombre_infected       818\n",
    "nombre_sain          2126\n",
    "nombre_exposed        484\n",
    "nombre_recovered    16572\n",
    "Name: 426, dtype: int64"
   ]
  },
  {
   "cell_type": "markdown",
   "id": "0da58cc3",
   "metadata": {},
   "source": [
    "nombre_infected       797\n",
    "nombre_sain          2121\n",
    "nombre_exposed        503\n",
    "nombre_recovered    16579\n",
    "Name: 427, dtype: int64"
   ]
  },
  {
   "cell_type": "markdown",
   "id": "4ba7d3dc",
   "metadata": {},
   "source": [
    "nombre_infected       802\n",
    "nombre_sain          2124\n",
    "nombre_exposed        513\n",
    "nombre_recovered    16561\n",
    "Name: 428, dtype: int64"
   ]
  },
  {
   "cell_type": "markdown",
   "id": "f6e2732e",
   "metadata": {},
   "source": [
    "nombre_infected       830\n",
    "nombre_sain          2117\n",
    "nombre_exposed        507\n",
    "nombre_recovered    16546\n",
    "Name: 429, dtype: int64"
   ]
  },
  {
   "cell_type": "markdown",
   "id": "60dc4ade",
   "metadata": {},
   "source": [
    "nombre_infected       849\n",
    "nombre_sain          2135\n",
    "nombre_exposed        477\n",
    "nombre_recovered    16539\n",
    "Name: 430, dtype: int64"
   ]
  },
  {
   "cell_type": "markdown",
   "id": "78ae02c1",
   "metadata": {},
   "source": [
    "nombre_infected       871\n",
    "nombre_sain          2148\n",
    "nombre_exposed        461\n",
    "nombre_recovered    16520\n",
    "Name: 431, dtype: int64"
   ]
  },
  {
   "cell_type": "markdown",
   "id": "d7c20654",
   "metadata": {},
   "source": [
    "nombre_infected       859\n",
    "nombre_sain          2167\n",
    "nombre_exposed        470\n",
    "nombre_recovered    16504\n",
    "Name: 432, dtype: int64"
   ]
  },
  {
   "cell_type": "markdown",
   "id": "49a79320",
   "metadata": {},
   "source": [
    "nombre_infected       863\n",
    "nombre_sain          2152\n",
    "nombre_exposed        474\n",
    "nombre_recovered    16511\n",
    "Name: 433, dtype: int64"
   ]
  },
  {
   "cell_type": "markdown",
   "id": "33a4beb8",
   "metadata": {},
   "source": [
    "nombre_infected       830\n",
    "nombre_sain          2160\n",
    "nombre_exposed        498\n",
    "nombre_recovered    16512\n",
    "Name: 434, dtype: int64"
   ]
  },
  {
   "cell_type": "markdown",
   "id": "5620ecdb",
   "metadata": {},
   "source": [
    "nombre_infected       826\n",
    "nombre_sain          2163\n",
    "nombre_exposed        480\n",
    "nombre_recovered    16531\n",
    "Name: 435, dtype: int64"
   ]
  },
  {
   "cell_type": "markdown",
   "id": "1d06d7ac",
   "metadata": {},
   "source": [
    "nombre_infected       808\n",
    "nombre_sain          2171\n",
    "nombre_exposed        490\n",
    "nombre_recovered    16531\n",
    "Name: 436, dtype: int64"
   ]
  },
  {
   "cell_type": "markdown",
   "id": "55c955d2",
   "metadata": {},
   "source": [
    "nombre_infected       803\n",
    "nombre_sain          2197\n",
    "nombre_exposed        473\n",
    "nombre_recovered    16527\n",
    "Name: 437, dtype: int64"
   ]
  },
  {
   "cell_type": "markdown",
   "id": "857f5ae5",
   "metadata": {},
   "source": [
    "nombre_infected       796\n",
    "nombre_sain          2207\n",
    "nombre_exposed        503\n",
    "nombre_recovered    16494\n",
    "Name: 438, dtype: int64"
   ]
  },
  {
   "cell_type": "markdown",
   "id": "1e1db933",
   "metadata": {},
   "source": [
    "nombre_infected       814\n",
    "nombre_sain          2207\n",
    "nombre_exposed        502\n",
    "nombre_recovered    16477\n",
    "Name: 439, dtype: int64"
   ]
  },
  {
   "cell_type": "markdown",
   "id": "c6274a28",
   "metadata": {},
   "source": [
    "nombre_infected       816\n",
    "nombre_sain          2244\n",
    "nombre_exposed        500\n",
    "nombre_recovered    16440\n",
    "Name: 440, dtype: int64"
   ]
  },
  {
   "cell_type": "markdown",
   "id": "939be83c",
   "metadata": {},
   "source": [
    "nombre_infected       825\n",
    "nombre_sain          2259\n",
    "nombre_exposed        491\n",
    "nombre_recovered    16425\n",
    "Name: 441, dtype: int64"
   ]
  },
  {
   "cell_type": "markdown",
   "id": "f6d13bea",
   "metadata": {},
   "source": [
    "nombre_infected       799\n",
    "nombre_sain          2275\n",
    "nombre_exposed        504\n",
    "nombre_recovered    16422\n",
    "Name: 442, dtype: int64"
   ]
  },
  {
   "cell_type": "markdown",
   "id": "f151d95f",
   "metadata": {},
   "source": [
    "nombre_infected       795\n",
    "nombre_sain          2302\n",
    "nombre_exposed        523\n",
    "nombre_recovered    16380\n",
    "Name: 443, dtype: int64"
   ]
  },
  {
   "cell_type": "markdown",
   "id": "be55df29",
   "metadata": {},
   "source": [
    "nombre_infected       815\n",
    "nombre_sain          2315\n",
    "nombre_exposed        528\n",
    "nombre_recovered    16342\n",
    "Name: 444, dtype: int64"
   ]
  },
  {
   "cell_type": "markdown",
   "id": "6f1d7311",
   "metadata": {},
   "source": [
    "nombre_infected       827\n",
    "nombre_sain          2330\n",
    "nombre_exposed        536\n",
    "nombre_recovered    16307\n",
    "Name: 445, dtype: int64"
   ]
  },
  {
   "cell_type": "markdown",
   "id": "55f86381",
   "metadata": {},
   "source": [
    "nombre_infected       847\n",
    "nombre_sain          2325\n",
    "nombre_exposed        558\n",
    "nombre_recovered    16270\n",
    "Name: 446, dtype: int64"
   ]
  },
  {
   "cell_type": "markdown",
   "id": "da771cc7",
   "metadata": {},
   "source": [
    "nombre_infected       859\n",
    "nombre_sain          2311\n",
    "nombre_exposed        581\n",
    "nombre_recovered    16249\n",
    "Name: 447, dtype: int64"
   ]
  },
  {
   "cell_type": "markdown",
   "id": "a596bdd6",
   "metadata": {},
   "source": [
    "nombre_infected       872\n",
    "nombre_sain          2314\n",
    "nombre_exposed        598\n",
    "nombre_recovered    16216\n",
    "Name: 448, dtype: int64"
   ]
  },
  {
   "cell_type": "markdown",
   "id": "dfbea79a",
   "metadata": {},
   "source": [
    "nombre_infected       889\n",
    "nombre_sain          2326\n",
    "nombre_exposed        573\n",
    "nombre_recovered    16212\n",
    "Name: 449, dtype: int64"
   ]
  },
  {
   "cell_type": "markdown",
   "id": "be0a757d",
   "metadata": {},
   "source": [
    "nombre_infected       890\n",
    "nombre_sain          2325\n",
    "nombre_exposed        587\n",
    "nombre_recovered    16198\n",
    "Name: 450, dtype: int64"
   ]
  },
  {
   "cell_type": "markdown",
   "id": "9c043436",
   "metadata": {},
   "source": [
    "nombre_infected       913\n",
    "nombre_sain          2323\n",
    "nombre_exposed        583\n",
    "nombre_recovered    16181\n",
    "Name: 451, dtype: int64"
   ]
  },
  {
   "cell_type": "markdown",
   "id": "5273418f",
   "metadata": {},
   "source": [
    "nombre_infected       946\n",
    "nombre_sain          2344\n",
    "nombre_exposed        567\n",
    "nombre_recovered    16143\n",
    "Name: 452, dtype: int64"
   ]
  },
  {
   "cell_type": "markdown",
   "id": "520f85aa",
   "metadata": {},
   "source": [
    "nombre_infected       956\n",
    "nombre_sain          2348\n",
    "nombre_exposed        578\n",
    "nombre_recovered    16118\n",
    "Name: 453, dtype: int64"
   ]
  },
  {
   "cell_type": "markdown",
   "id": "c3bc5f64",
   "metadata": {},
   "source": [
    "nombre_infected       961\n",
    "nombre_sain          2324\n",
    "nombre_exposed        603\n",
    "nombre_recovered    16112\n",
    "Name: 454, dtype: int64"
   ]
  },
  {
   "cell_type": "markdown",
   "id": "d7722350",
   "metadata": {},
   "source": [
    "nombre_infected       975\n",
    "nombre_sain          2297\n",
    "nombre_exposed        632\n",
    "nombre_recovered    16096\n",
    "Name: 455, dtype: int64"
   ]
  },
  {
   "cell_type": "markdown",
   "id": "8366cbff",
   "metadata": {},
   "source": [
    "nombre_infected       961\n",
    "nombre_sain          2281\n",
    "nombre_exposed        650\n",
    "nombre_recovered    16108\n",
    "Name: 456, dtype: int64"
   ]
  },
  {
   "cell_type": "markdown",
   "id": "accdf4a4",
   "metadata": {},
   "source": [
    "nombre_infected       990\n",
    "nombre_sain          2251\n",
    "nombre_exposed        662\n",
    "nombre_recovered    16097\n",
    "Name: 457, dtype: int64"
   ]
  },
  {
   "cell_type": "markdown",
   "id": "119ad99f",
   "metadata": {},
   "source": [
    "nombre_infected      1013\n",
    "nombre_sain          2214\n",
    "nombre_exposed        666\n",
    "nombre_recovered    16107\n",
    "Name: 458, dtype: int64"
   ]
  },
  {
   "cell_type": "markdown",
   "id": "35e1365b",
   "metadata": {},
   "source": [
    "nombre_infected      1055\n",
    "nombre_sain          2177\n",
    "nombre_exposed        652\n",
    "nombre_recovered    16116\n",
    "Name: 459, dtype: int64"
   ]
  },
  {
   "cell_type": "markdown",
   "id": "1088a535",
   "metadata": {},
   "source": [
    "nombre_infected      1072\n",
    "nombre_sain          2139\n",
    "nombre_exposed        643\n",
    "nombre_recovered    16146\n",
    "Name: 460, dtype: int64"
   ]
  },
  {
   "cell_type": "markdown",
   "id": "a8a4c027",
   "metadata": {},
   "source": [
    "nombre_infected      1098\n",
    "nombre_sain          2120\n",
    "nombre_exposed        616\n",
    "nombre_recovered    16166\n",
    "Name: 461, dtype: int64"
   ]
  },
  {
   "cell_type": "markdown",
   "id": "c434aef6",
   "metadata": {},
   "source": [
    "nombre_infected      1103\n",
    "nombre_sain          2086\n",
    "nombre_exposed        643\n",
    "nombre_recovered    16168\n",
    "Name: 462, dtype: int64"
   ]
  },
  {
   "cell_type": "markdown",
   "id": "34bb7f08",
   "metadata": {},
   "source": [
    "nombre_infected      1074\n",
    "nombre_sain          2045\n",
    "nombre_exposed        647\n",
    "nombre_recovered    16234\n",
    "Name: 463, dtype: int64"
   ]
  },
  {
   "cell_type": "markdown",
   "id": "45dbe050",
   "metadata": {},
   "source": [
    "nombre_infected      1079\n",
    "nombre_sain          2034\n",
    "nombre_exposed        641\n",
    "nombre_recovered    16246\n",
    "Name: 464, dtype: int64"
   ]
  },
  {
   "cell_type": "markdown",
   "id": "9c3f5639",
   "metadata": {},
   "source": [
    "nombre_infected      1092\n",
    "nombre_sain          2025\n",
    "nombre_exposed        629\n",
    "nombre_recovered    16254\n",
    "Name: 465, dtype: int64"
   ]
  },
  {
   "cell_type": "markdown",
   "id": "7dff4fda",
   "metadata": {},
   "source": [
    "nombre_infected      1093\n",
    "nombre_sain          2011\n",
    "nombre_exposed        613\n",
    "nombre_recovered    16283\n",
    "Name: 466, dtype: int64"
   ]
  },
  {
   "cell_type": "markdown",
   "id": "fdb84c70",
   "metadata": {},
   "source": [
    "nombre_infected      1114\n",
    "nombre_sain          2000\n",
    "nombre_exposed        611\n",
    "nombre_recovered    16275\n",
    "Name: 467, dtype: int64"
   ]
  },
  {
   "cell_type": "markdown",
   "id": "08d37c2a",
   "metadata": {},
   "source": [
    "nombre_infected      1099\n",
    "nombre_sain          1999\n",
    "nombre_exposed        606\n",
    "nombre_recovered    16296\n",
    "Name: 468, dtype: int64"
   ]
  },
  {
   "cell_type": "markdown",
   "id": "28b867fa",
   "metadata": {},
   "source": [
    "nombre_infected      1085\n",
    "nombre_sain          2032\n",
    "nombre_exposed        607\n",
    "nombre_recovered    16276\n",
    "Name: 469, dtype: int64"
   ]
  },
  {
   "cell_type": "markdown",
   "id": "24c455ba",
   "metadata": {},
   "source": [
    "nombre_infected      1088\n",
    "nombre_sain          2038\n",
    "nombre_exposed        589\n",
    "nombre_recovered    16285\n",
    "Name: 470, dtype: int64"
   ]
  },
  {
   "cell_type": "markdown",
   "id": "b8327f06",
   "metadata": {},
   "source": [
    "nombre_infected      1093\n",
    "nombre_sain          2036\n",
    "nombre_exposed        590\n",
    "nombre_recovered    16281\n",
    "Name: 471, dtype: int64"
   ]
  },
  {
   "cell_type": "markdown",
   "id": "29748dd2",
   "metadata": {},
   "source": [
    "nombre_infected      1078\n",
    "nombre_sain          2043\n",
    "nombre_exposed        599\n",
    "nombre_recovered    16280\n",
    "Name: 472, dtype: int64"
   ]
  },
  {
   "cell_type": "markdown",
   "id": "487b5d7a",
   "metadata": {},
   "source": [
    "nombre_infected      1059\n",
    "nombre_sain          2054\n",
    "nombre_exposed        609\n",
    "nombre_recovered    16278\n",
    "Name: 473, dtype: int64"
   ]
  },
  {
   "cell_type": "markdown",
   "id": "f791cc88",
   "metadata": {},
   "source": [
    "nombre_infected      1079\n",
    "nombre_sain          2054\n",
    "nombre_exposed        594\n",
    "nombre_recovered    16273\n",
    "Name: 474, dtype: int64"
   ]
  },
  {
   "cell_type": "markdown",
   "id": "af39d6e7",
   "metadata": {},
   "source": [
    "nombre_infected      1107\n",
    "nombre_sain          2082\n",
    "nombre_exposed        558\n",
    "nombre_recovered    16253\n",
    "Name: 475, dtype: int64"
   ]
  },
  {
   "cell_type": "markdown",
   "id": "4aa3f4f2",
   "metadata": {},
   "source": [
    "nombre_infected      1122\n",
    "nombre_sain          2103\n",
    "nombre_exposed        553\n",
    "nombre_recovered    16222\n",
    "Name: 476, dtype: int64"
   ]
  },
  {
   "cell_type": "markdown",
   "id": "034bad63",
   "metadata": {},
   "source": [
    "nombre_infected      1117\n",
    "nombre_sain          2115\n",
    "nombre_exposed        548\n",
    "nombre_recovered    16220\n",
    "Name: 477, dtype: int64"
   ]
  },
  {
   "cell_type": "markdown",
   "id": "6950513f",
   "metadata": {},
   "source": [
    "nombre_infected      1101\n",
    "nombre_sain          2090\n",
    "nombre_exposed        572\n",
    "nombre_recovered    16237\n",
    "Name: 478, dtype: int64"
   ]
  },
  {
   "cell_type": "markdown",
   "id": "8bc5d373",
   "metadata": {},
   "source": [
    "nombre_infected      1094\n",
    "nombre_sain          2078\n",
    "nombre_exposed        566\n",
    "nombre_recovered    16262\n",
    "Name: 479, dtype: int64"
   ]
  },
  {
   "cell_type": "markdown",
   "id": "fdc6de32",
   "metadata": {},
   "source": [
    "nombre_infected      1087\n",
    "nombre_sain          2072\n",
    "nombre_exposed        559\n",
    "nombre_recovered    16282\n",
    "Name: 480, dtype: int64"
   ]
  },
  {
   "cell_type": "markdown",
   "id": "dcd7ab1e",
   "metadata": {},
   "source": [
    "nombre_infected      1069\n",
    "nombre_sain          2068\n",
    "nombre_exposed        577\n",
    "nombre_recovered    16286\n",
    "Name: 481, dtype: int64"
   ]
  },
  {
   "cell_type": "markdown",
   "id": "72e69854",
   "metadata": {},
   "source": [
    "nombre_infected      1056\n",
    "nombre_sain          2059\n",
    "nombre_exposed        574\n",
    "nombre_recovered    16311\n",
    "Name: 482, dtype: int64"
   ]
  },
  {
   "cell_type": "markdown",
   "id": "90c93e30",
   "metadata": {},
   "source": [
    "nombre_infected      1056\n",
    "nombre_sain          2068\n",
    "nombre_exposed        563\n",
    "nombre_recovered    16313\n",
    "Name: 483, dtype: int64"
   ]
  },
  {
   "cell_type": "markdown",
   "id": "6fabe3d3",
   "metadata": {},
   "source": [
    "nombre_infected      1046\n",
    "nombre_sain          2074\n",
    "nombre_exposed        567\n",
    "nombre_recovered    16313\n",
    "Name: 484, dtype: int64"
   ]
  },
  {
   "cell_type": "markdown",
   "id": "2960ff2d",
   "metadata": {},
   "source": [
    "nombre_infected      1061\n",
    "nombre_sain          2080\n",
    "nombre_exposed        555\n",
    "nombre_recovered    16304\n",
    "Name: 485, dtype: int64"
   ]
  },
  {
   "cell_type": "markdown",
   "id": "3c639998",
   "metadata": {},
   "source": [
    "nombre_infected      1033\n",
    "nombre_sain          2071\n",
    "nombre_exposed        589\n",
    "nombre_recovered    16307\n",
    "Name: 486, dtype: int64"
   ]
  },
  {
   "cell_type": "markdown",
   "id": "7a539caf",
   "metadata": {},
   "source": [
    "nombre_infected      1048\n",
    "nombre_sain          2083\n",
    "nombre_exposed        582\n",
    "nombre_recovered    16287\n",
    "Name: 487, dtype: int64"
   ]
  },
  {
   "cell_type": "markdown",
   "id": "784369f3",
   "metadata": {},
   "source": [
    "nombre_infected      1077\n",
    "nombre_sain          2086\n",
    "nombre_exposed        579\n",
    "nombre_recovered    16258\n",
    "Name: 488, dtype: int64"
   ]
  },
  {
   "cell_type": "markdown",
   "id": "703ba13b",
   "metadata": {},
   "source": [
    "nombre_infected      1047\n",
    "nombre_sain          2112\n",
    "nombre_exposed        576\n",
    "nombre_recovered    16265\n",
    "Name: 489, dtype: int64"
   ]
  },
  {
   "cell_type": "markdown",
   "id": "8dc8ab5a",
   "metadata": {},
   "source": [
    "nombre_infected      1018\n",
    "nombre_sain          2127\n",
    "nombre_exposed        573\n",
    "nombre_recovered    16282\n",
    "Name: 490, dtype: int64"
   ]
  },
  {
   "cell_type": "markdown",
   "id": "df6f2ea7",
   "metadata": {},
   "source": [
    "nombre_infected      1014\n",
    "nombre_sain          2116\n",
    "nombre_exposed        579\n",
    "nombre_recovered    16291\n",
    "Name: 491, dtype: int64"
   ]
  },
  {
   "cell_type": "markdown",
   "id": "11321590",
   "metadata": {},
   "source": [
    "nombre_infected      1014\n",
    "nombre_sain          2135\n",
    "nombre_exposed        586\n",
    "nombre_recovered    16265\n",
    "Name: 492, dtype: int64"
   ]
  },
  {
   "cell_type": "markdown",
   "id": "e8c60dd5",
   "metadata": {},
   "source": [
    "nombre_infected      1019\n",
    "nombre_sain          2154\n",
    "nombre_exposed        573\n",
    "nombre_recovered    16254\n",
    "Name: 493, dtype: int64"
   ]
  },
  {
   "cell_type": "markdown",
   "id": "df725541",
   "metadata": {},
   "source": [
    "nombre_infected      1011\n",
    "nombre_sain          2146\n",
    "nombre_exposed        583\n",
    "nombre_recovered    16260\n",
    "Name: 494, dtype: int64"
   ]
  },
  {
   "cell_type": "markdown",
   "id": "328e6ce5",
   "metadata": {},
   "source": [
    "nombre_infected      1008\n",
    "nombre_sain          2158\n",
    "nombre_exposed        566\n",
    "nombre_recovered    16268\n",
    "Name: 495, dtype: int64"
   ]
  },
  {
   "cell_type": "markdown",
   "id": "79b8db78",
   "metadata": {},
   "source": [
    "nombre_infected      1001\n",
    "nombre_sain          2167\n",
    "nombre_exposed        565\n",
    "nombre_recovered    16267\n",
    "Name: 496, dtype: int64"
   ]
  },
  {
   "cell_type": "markdown",
   "id": "8321f143",
   "metadata": {},
   "source": [
    "nombre_infected       982\n",
    "nombre_sain          2189\n",
    "nombre_exposed        566\n",
    "nombre_recovered    16263\n",
    "Name: 497, dtype: int64"
   ]
  },
  {
   "cell_type": "markdown",
   "id": "180b3233",
   "metadata": {},
   "source": [
    "nombre_infected       990\n",
    "nombre_sain          2187\n",
    "nombre_exposed        574\n",
    "nombre_recovered    16249\n",
    "Name: 498, dtype: int64"
   ]
  },
  {
   "cell_type": "markdown",
   "id": "5407f78b",
   "metadata": {},
   "source": [
    "nombre_infected       953\n",
    "nombre_sain          2177\n",
    "nombre_exposed        600\n",
    "nombre_recovered    16270\n",
    "Name: 499, dtype: int64"
   ]
  },
  {
   "cell_type": "markdown",
   "id": "8b0e7628",
   "metadata": {},
   "source": [
    "nombre_infected       963\n",
    "nombre_sain          2176\n",
    "nombre_exposed        597\n",
    "nombre_recovered    16264\n",
    "Name: 500, dtype: int64"
   ]
  },
  {
   "cell_type": "markdown",
   "id": "80cb3ed1",
   "metadata": {},
   "source": [
    "nombre_infected       938\n",
    "nombre_sain          2200\n",
    "nombre_exposed        594\n",
    "nombre_recovered    16268\n",
    "Name: 501, dtype: int64"
   ]
  },
  {
   "cell_type": "markdown",
   "id": "b805f968",
   "metadata": {},
   "source": [
    "nombre_infected       933\n",
    "nombre_sain          2204\n",
    "nombre_exposed        603\n",
    "nombre_recovered    16260\n",
    "Name: 502, dtype: int64"
   ]
  },
  {
   "cell_type": "markdown",
   "id": "81ded92f",
   "metadata": {},
   "source": [
    "nombre_infected       919\n",
    "nombre_sain          2219\n",
    "nombre_exposed        622\n",
    "nombre_recovered    16240\n",
    "Name: 503, dtype: int64"
   ]
  },
  {
   "cell_type": "markdown",
   "id": "68a2627c",
   "metadata": {},
   "source": [
    "nombre_infected       954\n",
    "nombre_sain          2227\n",
    "nombre_exposed        595\n",
    "nombre_recovered    16224\n",
    "Name: 504, dtype: int64"
   ]
  },
  {
   "cell_type": "markdown",
   "id": "0d8535de",
   "metadata": {},
   "source": [
    "nombre_infected       966\n",
    "nombre_sain          2240\n",
    "nombre_exposed        596\n",
    "nombre_recovered    16198\n",
    "Name: 505, dtype: int64"
   ]
  },
  {
   "cell_type": "markdown",
   "id": "3f4d5dae",
   "metadata": {},
   "source": [
    "nombre_infected       965\n",
    "nombre_sain          2236\n",
    "nombre_exposed        604\n",
    "nombre_recovered    16195\n",
    "Name: 506, dtype: int64"
   ]
  },
  {
   "cell_type": "markdown",
   "id": "1ae7f403",
   "metadata": {},
   "source": [
    "nombre_infected       963\n",
    "nombre_sain          2227\n",
    "nombre_exposed        623\n",
    "nombre_recovered    16187\n",
    "Name: 507, dtype: int64"
   ]
  },
  {
   "cell_type": "markdown",
   "id": "8dc31f45",
   "metadata": {},
   "source": [
    "nombre_infected       924\n",
    "nombre_sain          2216\n",
    "nombre_exposed        633\n",
    "nombre_recovered    16227\n",
    "Name: 508, dtype: int64"
   ]
  },
  {
   "cell_type": "markdown",
   "id": "6bc726a1",
   "metadata": {},
   "source": [
    "nombre_infected       918\n",
    "nombre_sain          2213\n",
    "nombre_exposed        617\n",
    "nombre_recovered    16252\n",
    "Name: 509, dtype: int64"
   ]
  },
  {
   "cell_type": "markdown",
   "id": "d03abf44",
   "metadata": {},
   "source": [
    "nombre_infected       946\n",
    "nombre_sain          2232\n",
    "nombre_exposed        600\n",
    "nombre_recovered    16222\n",
    "Name: 510, dtype: int64"
   ]
  },
  {
   "cell_type": "markdown",
   "id": "4f8ad69a",
   "metadata": {},
   "source": [
    "nombre_infected       962\n",
    "nombre_sain          2248\n",
    "nombre_exposed        589\n",
    "nombre_recovered    16201\n",
    "Name: 511, dtype: int64"
   ]
  },
  {
   "cell_type": "markdown",
   "id": "fed3198d",
   "metadata": {},
   "source": [
    "nombre_infected       952\n",
    "nombre_sain          2217\n",
    "nombre_exposed        601\n",
    "nombre_recovered    16230\n",
    "Name: 512, dtype: int64"
   ]
  },
  {
   "cell_type": "markdown",
   "id": "f6978f8b",
   "metadata": {},
   "source": [
    "nombre_infected       931\n",
    "nombre_sain          2208\n",
    "nombre_exposed        619\n",
    "nombre_recovered    16242\n",
    "Name: 513, dtype: int64"
   ]
  },
  {
   "cell_type": "markdown",
   "id": "ac76a7b9",
   "metadata": {},
   "source": [
    "nombre_infected       936\n",
    "nombre_sain          2216\n",
    "nombre_exposed        599\n",
    "nombre_recovered    16249\n",
    "Name: 514, dtype: int64"
   ]
  },
  {
   "cell_type": "markdown",
   "id": "f7ae687d",
   "metadata": {},
   "source": [
    "nombre_infected       949\n",
    "nombre_sain          2219\n",
    "nombre_exposed        613\n",
    "nombre_recovered    16219\n",
    "Name: 515, dtype: int64"
   ]
  },
  {
   "cell_type": "markdown",
   "id": "6a60c37d",
   "metadata": {},
   "source": [
    "nombre_infected       946\n",
    "nombre_sain          2223\n",
    "nombre_exposed        606\n",
    "nombre_recovered    16225\n",
    "Name: 516, dtype: int64"
   ]
  },
  {
   "cell_type": "markdown",
   "id": "76473e14",
   "metadata": {},
   "source": [
    "nombre_infected       994\n",
    "nombre_sain          2245\n",
    "nombre_exposed        569\n",
    "nombre_recovered    16192\n",
    "Name: 517, dtype: int64"
   ]
  },
  {
   "cell_type": "markdown",
   "id": "c0b8c331",
   "metadata": {},
   "source": [
    "nombre_infected       991\n",
    "nombre_sain          2233\n",
    "nombre_exposed        574\n",
    "nombre_recovered    16202\n",
    "Name: 518, dtype: int64"
   ]
  },
  {
   "cell_type": "markdown",
   "id": "e18a69da",
   "metadata": {},
   "source": [
    "nombre_infected       977\n",
    "nombre_sain          2221\n",
    "nombre_exposed        581\n",
    "nombre_recovered    16221\n",
    "Name: 519, dtype: int64"
   ]
  },
  {
   "cell_type": "markdown",
   "id": "0e496e30",
   "metadata": {},
   "source": [
    "nombre_infected       950\n",
    "nombre_sain          2179\n",
    "nombre_exposed        608\n",
    "nombre_recovered    16263\n",
    "Name: 520, dtype: int64"
   ]
  },
  {
   "cell_type": "markdown",
   "id": "ccd6b677",
   "metadata": {},
   "source": [
    "nombre_infected       929\n",
    "nombre_sain          2178\n",
    "nombre_exposed        614\n",
    "nombre_recovered    16279\n",
    "Name: 521, dtype: int64"
   ]
  },
  {
   "cell_type": "markdown",
   "id": "3ce20a44",
   "metadata": {},
   "source": [
    "nombre_infected       950\n",
    "nombre_sain          2185\n",
    "nombre_exposed        602\n",
    "nombre_recovered    16263\n",
    "Name: 522, dtype: int64"
   ]
  },
  {
   "cell_type": "markdown",
   "id": "34301d46",
   "metadata": {},
   "source": [
    "nombre_infected       978\n",
    "nombre_sain          2158\n",
    "nombre_exposed        577\n",
    "nombre_recovered    16287\n",
    "Name: 523, dtype: int64"
   ]
  },
  {
   "cell_type": "markdown",
   "id": "e7369a7f",
   "metadata": {},
   "source": [
    "nombre_infected       972\n",
    "nombre_sain          2174\n",
    "nombre_exposed        568\n",
    "nombre_recovered    16286\n",
    "Name: 524, dtype: int64"
   ]
  },
  {
   "cell_type": "markdown",
   "id": "e605a5bc",
   "metadata": {},
   "source": [
    "nombre_infected       947\n",
    "nombre_sain          2165\n",
    "nombre_exposed        584\n",
    "nombre_recovered    16304\n",
    "Name: 525, dtype: int64"
   ]
  },
  {
   "cell_type": "markdown",
   "id": "29da2fd2",
   "metadata": {},
   "source": [
    "nombre_infected       939\n",
    "nombre_sain          2150\n",
    "nombre_exposed        590\n",
    "nombre_recovered    16321\n",
    "Name: 526, dtype: int64"
   ]
  },
  {
   "cell_type": "markdown",
   "id": "8535d632",
   "metadata": {},
   "source": [
    "nombre_infected       925\n",
    "nombre_sain          2151\n",
    "nombre_exposed        573\n",
    "nombre_recovered    16351\n",
    "Name: 527, dtype: int64"
   ]
  },
  {
   "cell_type": "markdown",
   "id": "6dd6b3a0",
   "metadata": {},
   "source": [
    "nombre_infected       933\n",
    "nombre_sain          2149\n",
    "nombre_exposed        561\n",
    "nombre_recovered    16357\n",
    "Name: 528, dtype: int64"
   ]
  },
  {
   "cell_type": "markdown",
   "id": "ade4e110",
   "metadata": {},
   "source": [
    "nombre_infected       930\n",
    "nombre_sain          2125\n",
    "nombre_exposed        556\n",
    "nombre_recovered    16389\n",
    "Name: 529, dtype: int64"
   ]
  },
  {
   "cell_type": "markdown",
   "id": "ec7285c3",
   "metadata": {},
   "source": [
    "nombre_infected       910\n",
    "nombre_sain          2121\n",
    "nombre_exposed        562\n",
    "nombre_recovered    16407\n",
    "Name: 530, dtype: int64"
   ]
  },
  {
   "cell_type": "markdown",
   "id": "9253ea66",
   "metadata": {},
   "source": [
    "nombre_infected       911\n",
    "nombre_sain          2109\n",
    "nombre_exposed        559\n",
    "nombre_recovered    16421\n",
    "Name: 531, dtype: int64"
   ]
  },
  {
   "cell_type": "markdown",
   "id": "bcf6122c",
   "metadata": {},
   "source": [
    "nombre_infected       903\n",
    "nombre_sain          2099\n",
    "nombre_exposed        560\n",
    "nombre_recovered    16438\n",
    "Name: 532, dtype: int64"
   ]
  },
  {
   "cell_type": "markdown",
   "id": "0c34c7b8",
   "metadata": {},
   "source": [
    "nombre_infected       898\n",
    "nombre_sain          2095\n",
    "nombre_exposed        569\n",
    "nombre_recovered    16438\n",
    "Name: 533, dtype: int64"
   ]
  },
  {
   "cell_type": "markdown",
   "id": "7587f34d",
   "metadata": {},
   "source": [
    "nombre_infected       897\n",
    "nombre_sain          2084\n",
    "nombre_exposed        576\n",
    "nombre_recovered    16443\n",
    "Name: 534, dtype: int64"
   ]
  },
  {
   "cell_type": "markdown",
   "id": "c42b1e48",
   "metadata": {},
   "source": [
    "nombre_infected       902\n",
    "nombre_sain          2065\n",
    "nombre_exposed        556\n",
    "nombre_recovered    16477\n",
    "Name: 535, dtype: int64"
   ]
  },
  {
   "cell_type": "markdown",
   "id": "291ad352",
   "metadata": {},
   "source": [
    "nombre_infected       907\n",
    "nombre_sain          2056\n",
    "nombre_exposed        558\n",
    "nombre_recovered    16479\n",
    "Name: 536, dtype: int64"
   ]
  },
  {
   "cell_type": "markdown",
   "id": "9a136f3d",
   "metadata": {},
   "source": [
    "nombre_infected       911\n",
    "nombre_sain          2074\n",
    "nombre_exposed        548\n",
    "nombre_recovered    16467\n",
    "Name: 537, dtype: int64"
   ]
  },
  {
   "cell_type": "markdown",
   "id": "e7654f11",
   "metadata": {},
   "source": [
    "nombre_infected       896\n",
    "nombre_sain          2105\n",
    "nombre_exposed        538\n",
    "nombre_recovered    16461\n",
    "Name: 538, dtype: int64"
   ]
  },
  {
   "cell_type": "markdown",
   "id": "75965fb6",
   "metadata": {},
   "source": [
    "nombre_infected       882\n",
    "nombre_sain          2099\n",
    "nombre_exposed        543\n",
    "nombre_recovered    16476\n",
    "Name: 539, dtype: int64"
   ]
  },
  {
   "cell_type": "markdown",
   "id": "77245920",
   "metadata": {},
   "source": [
    "nombre_infected       868\n",
    "nombre_sain          2153\n",
    "nombre_exposed        533\n",
    "nombre_recovered    16446\n",
    "Name: 540, dtype: int64"
   ]
  },
  {
   "cell_type": "markdown",
   "id": "0cabadc0",
   "metadata": {},
   "source": [
    "nombre_infected       859\n",
    "nombre_sain          2150\n",
    "nombre_exposed        535\n",
    "nombre_recovered    16456\n",
    "Name: 541, dtype: int64"
   ]
  },
  {
   "cell_type": "markdown",
   "id": "0af9aaf3",
   "metadata": {},
   "source": [
    "nombre_infected       869\n",
    "nombre_sain          2157\n",
    "nombre_exposed        538\n",
    "nombre_recovered    16436\n",
    "Name: 542, dtype: int64"
   ]
  },
  {
   "cell_type": "markdown",
   "id": "c7af5de0",
   "metadata": {},
   "source": [
    "nombre_infected       861\n",
    "nombre_sain          2149\n",
    "nombre_exposed        568\n",
    "nombre_recovered    16422\n",
    "Name: 543, dtype: int64"
   ]
  },
  {
   "cell_type": "markdown",
   "id": "67dd3732",
   "metadata": {},
   "source": [
    "nombre_infected       893\n",
    "nombre_sain          2145\n",
    "nombre_exposed        546\n",
    "nombre_recovered    16416\n",
    "Name: 544, dtype: int64"
   ]
  },
  {
   "cell_type": "markdown",
   "id": "86ce59f8",
   "metadata": {},
   "source": [
    "nombre_infected       899\n",
    "nombre_sain          2137\n",
    "nombre_exposed        559\n",
    "nombre_recovered    16405\n",
    "Name: 545, dtype: int64"
   ]
  },
  {
   "cell_type": "markdown",
   "id": "5c7e7e59",
   "metadata": {},
   "source": [
    "nombre_infected       902\n",
    "nombre_sain          2140\n",
    "nombre_exposed        553\n",
    "nombre_recovered    16405\n",
    "Name: 546, dtype: int64"
   ]
  },
  {
   "cell_type": "markdown",
   "id": "86e4effd",
   "metadata": {},
   "source": [
    "nombre_infected       879\n",
    "nombre_sain          2135\n",
    "nombre_exposed        553\n",
    "nombre_recovered    16433\n",
    "Name: 547, dtype: int64"
   ]
  },
  {
   "cell_type": "markdown",
   "id": "2fe044ab",
   "metadata": {},
   "source": [
    "nombre_infected       889\n",
    "nombre_sain          2136\n",
    "nombre_exposed        529\n",
    "nombre_recovered    16446\n",
    "Name: 548, dtype: int64"
   ]
  },
  {
   "cell_type": "markdown",
   "id": "1a76a10e",
   "metadata": {},
   "source": [
    "nombre_infected       902\n",
    "nombre_sain          2138\n",
    "nombre_exposed        536\n",
    "nombre_recovered    16424\n",
    "Name: 549, dtype: int64"
   ]
  },
  {
   "cell_type": "markdown",
   "id": "8933486d",
   "metadata": {},
   "source": [
    "nombre_infected       899\n",
    "nombre_sain          2146\n",
    "nombre_exposed        536\n",
    "nombre_recovered    16419\n",
    "Name: 550, dtype: int64"
   ]
  },
  {
   "cell_type": "markdown",
   "id": "9ee1080b",
   "metadata": {},
   "source": [
    "nombre_infected       891\n",
    "nombre_sain          2162\n",
    "nombre_exposed        540\n",
    "nombre_recovered    16407\n",
    "Name: 551, dtype: int64"
   ]
  },
  {
   "cell_type": "markdown",
   "id": "a4cde8a8",
   "metadata": {},
   "source": [
    "nombre_infected       877\n",
    "nombre_sain          2156\n",
    "nombre_exposed        529\n",
    "nombre_recovered    16438\n",
    "Name: 552, dtype: int64"
   ]
  },
  {
   "cell_type": "markdown",
   "id": "f3c5c620",
   "metadata": {},
   "source": [
    "nombre_infected       861\n",
    "nombre_sain          2155\n",
    "nombre_exposed        531\n",
    "nombre_recovered    16453\n",
    "Name: 553, dtype: int64"
   ]
  },
  {
   "cell_type": "markdown",
   "id": "73439024",
   "metadata": {},
   "source": [
    "nombre_infected       852\n",
    "nombre_sain          2163\n",
    "nombre_exposed        514\n",
    "nombre_recovered    16471\n",
    "Name: 554, dtype: int64"
   ]
  },
  {
   "cell_type": "markdown",
   "id": "716edcea",
   "metadata": {},
   "source": [
    "nombre_infected       854\n",
    "nombre_sain          2175\n",
    "nombre_exposed        508\n",
    "nombre_recovered    16463\n",
    "Name: 555, dtype: int64"
   ]
  },
  {
   "cell_type": "markdown",
   "id": "192669f7",
   "metadata": {},
   "source": [
    "nombre_infected       848\n",
    "nombre_sain          2185\n",
    "nombre_exposed        505\n",
    "nombre_recovered    16462\n",
    "Name: 556, dtype: int64"
   ]
  },
  {
   "cell_type": "markdown",
   "id": "9ac976a6",
   "metadata": {},
   "source": [
    "nombre_infected       838\n",
    "nombre_sain          2165\n",
    "nombre_exposed        512\n",
    "nombre_recovered    16485\n",
    "Name: 557, dtype: int64"
   ]
  },
  {
   "cell_type": "markdown",
   "id": "c465b1f7",
   "metadata": {},
   "source": [
    "nombre_infected       834\n",
    "nombre_sain          2173\n",
    "nombre_exposed        507\n",
    "nombre_recovered    16486\n",
    "Name: 558, dtype: int64"
   ]
  },
  {
   "cell_type": "markdown",
   "id": "aa389e3f",
   "metadata": {},
   "source": [
    "nombre_infected       832\n",
    "nombre_sain          2182\n",
    "nombre_exposed        511\n",
    "nombre_recovered    16475\n",
    "Name: 559, dtype: int64"
   ]
  },
  {
   "cell_type": "markdown",
   "id": "326d043f",
   "metadata": {},
   "source": [
    "nombre_infected       823\n",
    "nombre_sain          2176\n",
    "nombre_exposed        509\n",
    "nombre_recovered    16492\n",
    "Name: 560, dtype: int64"
   ]
  },
  {
   "cell_type": "markdown",
   "id": "7c466801",
   "metadata": {},
   "source": [
    "nombre_infected       839\n",
    "nombre_sain          2162\n",
    "nombre_exposed        521\n",
    "nombre_recovered    16478\n",
    "Name: 561, dtype: int64"
   ]
  },
  {
   "cell_type": "markdown",
   "id": "2fb27cc7",
   "metadata": {},
   "source": [
    "nombre_infected       828\n",
    "nombre_sain          2137\n",
    "nombre_exposed        541\n",
    "nombre_recovered    16494\n",
    "Name: 562, dtype: int64"
   ]
  },
  {
   "cell_type": "markdown",
   "id": "59e56e46",
   "metadata": {},
   "source": [
    "nombre_infected       849\n",
    "nombre_sain          2135\n",
    "nombre_exposed        528\n",
    "nombre_recovered    16488\n",
    "Name: 563, dtype: int64"
   ]
  },
  {
   "cell_type": "markdown",
   "id": "deddb9e7",
   "metadata": {},
   "source": [
    "nombre_infected       861\n",
    "nombre_sain          2145\n",
    "nombre_exposed        531\n",
    "nombre_recovered    16463\n",
    "Name: 564, dtype: int64"
   ]
  },
  {
   "cell_type": "markdown",
   "id": "bfdfd619",
   "metadata": {},
   "source": [
    "nombre_infected       847\n",
    "nombre_sain          2142\n",
    "nombre_exposed        540\n",
    "nombre_recovered    16471\n",
    "Name: 565, dtype: int64"
   ]
  },
  {
   "cell_type": "markdown",
   "id": "90f7cf8a",
   "metadata": {},
   "source": [
    "nombre_infected       826\n",
    "nombre_sain          2154\n",
    "nombre_exposed        545\n",
    "nombre_recovered    16475\n",
    "Name: 566, dtype: int64"
   ]
  },
  {
   "cell_type": "markdown",
   "id": "570e180e",
   "metadata": {},
   "source": [
    "nombre_infected       808\n",
    "nombre_sain          2168\n",
    "nombre_exposed        549\n",
    "nombre_recovered    16475\n",
    "Name: 567, dtype: int64"
   ]
  },
  {
   "cell_type": "markdown",
   "id": "bca44f95",
   "metadata": {},
   "source": [
    "nombre_infected       831\n",
    "nombre_sain          2193\n",
    "nombre_exposed        524\n",
    "nombre_recovered    16452\n",
    "Name: 568, dtype: int64"
   ]
  },
  {
   "cell_type": "markdown",
   "id": "86bbf014",
   "metadata": {},
   "source": [
    "nombre_infected       827\n",
    "nombre_sain          2204\n",
    "nombre_exposed        496\n",
    "nombre_recovered    16473\n",
    "Name: 569, dtype: int64"
   ]
  },
  {
   "cell_type": "markdown",
   "id": "349db42a",
   "metadata": {},
   "source": [
    "nombre_infected       832\n",
    "nombre_sain          2203\n",
    "nombre_exposed        507\n",
    "nombre_recovered    16458\n",
    "Name: 570, dtype: int64"
   ]
  },
  {
   "cell_type": "markdown",
   "id": "bb894d2b",
   "metadata": {},
   "source": [
    "nombre_infected       814\n",
    "nombre_sain          2190\n",
    "nombre_exposed        544\n",
    "nombre_recovered    16452\n",
    "Name: 571, dtype: int64"
   ]
  },
  {
   "cell_type": "markdown",
   "id": "80f56a40",
   "metadata": {},
   "source": [
    "nombre_infected       829\n",
    "nombre_sain          2202\n",
    "nombre_exposed        520\n",
    "nombre_recovered    16449\n",
    "Name: 572, dtype: int64"
   ]
  },
  {
   "cell_type": "markdown",
   "id": "9397d885",
   "metadata": {},
   "source": [
    "nombre_infected       850\n",
    "nombre_sain          2210\n",
    "nombre_exposed        512\n",
    "nombre_recovered    16428\n",
    "Name: 573, dtype: int64"
   ]
  },
  {
   "cell_type": "markdown",
   "id": "293d5790",
   "metadata": {},
   "source": [
    "nombre_infected       867\n",
    "nombre_sain          2190\n",
    "nombre_exposed        520\n",
    "nombre_recovered    16423\n",
    "Name: 574, dtype: int64"
   ]
  },
  {
   "cell_type": "markdown",
   "id": "541950e1",
   "metadata": {},
   "source": [
    "nombre_infected       866\n",
    "nombre_sain          2192\n",
    "nombre_exposed        509\n",
    "nombre_recovered    16433\n",
    "Name: 575, dtype: int64"
   ]
  },
  {
   "cell_type": "markdown",
   "id": "8b8f23d4",
   "metadata": {},
   "source": [
    "nombre_infected       878\n",
    "nombre_sain          2183\n",
    "nombre_exposed        507\n",
    "nombre_recovered    16432\n",
    "Name: 576, dtype: int64"
   ]
  },
  {
   "cell_type": "markdown",
   "id": "c1431c1f",
   "metadata": {},
   "source": [
    "nombre_infected       877\n",
    "nombre_sain          2170\n",
    "nombre_exposed        515\n",
    "nombre_recovered    16438\n",
    "Name: 577, dtype: int64"
   ]
  },
  {
   "cell_type": "markdown",
   "id": "b983ce0c",
   "metadata": {},
   "source": [
    "nombre_infected       885\n",
    "nombre_sain          2159\n",
    "nombre_exposed        501\n",
    "nombre_recovered    16455\n",
    "Name: 578, dtype: int64"
   ]
  },
  {
   "cell_type": "markdown",
   "id": "7363a8f5",
   "metadata": {},
   "source": [
    "nombre_infected       882\n",
    "nombre_sain          2167\n",
    "nombre_exposed        480\n",
    "nombre_recovered    16471\n",
    "Name: 579, dtype: int64"
   ]
  },
  {
   "cell_type": "markdown",
   "id": "287515c1",
   "metadata": {},
   "source": [
    "nombre_infected       890\n",
    "nombre_sain          2157\n",
    "nombre_exposed        477\n",
    "nombre_recovered    16476\n",
    "Name: 580, dtype: int64"
   ]
  },
  {
   "cell_type": "markdown",
   "id": "bfd300eb",
   "metadata": {},
   "source": [
    "nombre_infected       865\n",
    "nombre_sain          2174\n",
    "nombre_exposed        503\n",
    "nombre_recovered    16458\n",
    "Name: 581, dtype: int64"
   ]
  },
  {
   "cell_type": "markdown",
   "id": "83125d59",
   "metadata": {},
   "source": [
    "nombre_infected       881\n",
    "nombre_sain          2167\n",
    "nombre_exposed        497\n",
    "nombre_recovered    16455\n",
    "Name: 582, dtype: int64"
   ]
  },
  {
   "cell_type": "markdown",
   "id": "c45e5555",
   "metadata": {},
   "source": [
    "nombre_infected       850\n",
    "nombre_sain          2178\n",
    "nombre_exposed        507\n",
    "nombre_recovered    16465\n",
    "Name: 583, dtype: int64"
   ]
  },
  {
   "cell_type": "markdown",
   "id": "a94d5159",
   "metadata": {},
   "source": [
    "nombre_infected       869\n",
    "nombre_sain          2178\n",
    "nombre_exposed        501\n",
    "nombre_recovered    16452\n",
    "Name: 584, dtype: int64"
   ]
  },
  {
   "cell_type": "markdown",
   "id": "9f1f35d3",
   "metadata": {},
   "source": [
    "nombre_infected       870\n",
    "nombre_sain          2171\n",
    "nombre_exposed        500\n",
    "nombre_recovered    16459\n",
    "Name: 585, dtype: int64"
   ]
  },
  {
   "cell_type": "markdown",
   "id": "eb99995d",
   "metadata": {},
   "source": [
    "nombre_infected       879\n",
    "nombre_sain          2172\n",
    "nombre_exposed        503\n",
    "nombre_recovered    16446\n",
    "Name: 586, dtype: int64"
   ]
  },
  {
   "cell_type": "markdown",
   "id": "6e5e0122",
   "metadata": {},
   "source": [
    "nombre_infected       892\n",
    "nombre_sain          2151\n",
    "nombre_exposed        494\n",
    "nombre_recovered    16463\n",
    "Name: 587, dtype: int64"
   ]
  },
  {
   "cell_type": "markdown",
   "id": "10405676",
   "metadata": {},
   "source": [
    "nombre_infected       889\n",
    "nombre_sain          2173\n",
    "nombre_exposed        464\n",
    "nombre_recovered    16474\n",
    "Name: 588, dtype: int64"
   ]
  },
  {
   "cell_type": "markdown",
   "id": "7333321f",
   "metadata": {},
   "source": [
    "nombre_infected       889\n",
    "nombre_sain          2154\n",
    "nombre_exposed        469\n",
    "nombre_recovered    16488\n",
    "Name: 589, dtype: int64"
   ]
  },
  {
   "cell_type": "markdown",
   "id": "1f41ae3a",
   "metadata": {},
   "source": [
    "nombre_infected       888\n",
    "nombre_sain          2144\n",
    "nombre_exposed        470\n",
    "nombre_recovered    16498\n",
    "Name: 590, dtype: int64"
   ]
  },
  {
   "cell_type": "markdown",
   "id": "52df7264",
   "metadata": {},
   "source": [
    "nombre_infected       867\n",
    "nombre_sain          2148\n",
    "nombre_exposed        490\n",
    "nombre_recovered    16495\n",
    "Name: 591, dtype: int64"
   ]
  },
  {
   "cell_type": "markdown",
   "id": "a4ff416e",
   "metadata": {},
   "source": [
    "nombre_infected       893\n",
    "nombre_sain          2131\n",
    "nombre_exposed        478\n",
    "nombre_recovered    16498\n",
    "Name: 592, dtype: int64"
   ]
  },
  {
   "cell_type": "markdown",
   "id": "98776702",
   "metadata": {},
   "source": [
    "nombre_infected       872\n",
    "nombre_sain          2134\n",
    "nombre_exposed        485\n",
    "nombre_recovered    16509\n",
    "Name: 593, dtype: int64"
   ]
  },
  {
   "cell_type": "markdown",
   "id": "5fb1fd02",
   "metadata": {},
   "source": [
    "nombre_infected       882\n",
    "nombre_sain          2126\n",
    "nombre_exposed        497\n",
    "nombre_recovered    16495\n",
    "Name: 594, dtype: int64"
   ]
  },
  {
   "cell_type": "markdown",
   "id": "d2756b2d",
   "metadata": {},
   "source": [
    "nombre_infected       858\n",
    "nombre_sain          2141\n",
    "nombre_exposed        492\n",
    "nombre_recovered    16509\n",
    "Name: 595, dtype: int64"
   ]
  },
  {
   "cell_type": "markdown",
   "id": "58ecefd2",
   "metadata": {},
   "source": [
    "nombre_infected       864\n",
    "nombre_sain          2152\n",
    "nombre_exposed        489\n",
    "nombre_recovered    16495\n",
    "Name: 596, dtype: int64"
   ]
  },
  {
   "cell_type": "markdown",
   "id": "d4b59a9e",
   "metadata": {},
   "source": [
    "nombre_infected       852\n",
    "nombre_sain          2138\n",
    "nombre_exposed        505\n",
    "nombre_recovered    16505\n",
    "Name: 597, dtype: int64"
   ]
  },
  {
   "cell_type": "markdown",
   "id": "7e44334e",
   "metadata": {},
   "source": [
    "nombre_infected       882\n",
    "nombre_sain          2123\n",
    "nombre_exposed        490\n",
    "nombre_recovered    16505\n",
    "Name: 598, dtype: int64"
   ]
  },
  {
   "cell_type": "markdown",
   "id": "74f76b71",
   "metadata": {},
   "source": [
    "nombre_infected       872\n",
    "nombre_sain          2152\n",
    "nombre_exposed        505\n",
    "nombre_recovered    16471\n",
    "Name: 599, dtype: int64"
   ]
  },
  {
   "cell_type": "markdown",
   "id": "ee293d4d",
   "metadata": {},
   "source": [
    "nombre_infected       866\n",
    "nombre_sain          2159\n",
    "nombre_exposed        502\n",
    "nombre_recovered    16473\n",
    "Name: 600, dtype: int64"
   ]
  },
  {
   "cell_type": "markdown",
   "id": "713634fc",
   "metadata": {},
   "source": [
    "nombre_infected       879\n",
    "nombre_sain          2192\n",
    "nombre_exposed        474\n",
    "nombre_recovered    16455\n",
    "Name: 601, dtype: int64"
   ]
  },
  {
   "cell_type": "markdown",
   "id": "e897c071",
   "metadata": {},
   "source": [
    "nombre_infected       884\n",
    "nombre_sain          2194\n",
    "nombre_exposed        468\n",
    "nombre_recovered    16454\n",
    "Name: 602, dtype: int64"
   ]
  },
  {
   "cell_type": "markdown",
   "id": "9bcfa864",
   "metadata": {},
   "source": [
    "nombre_infected       885\n",
    "nombre_sain          2182\n",
    "nombre_exposed        485\n",
    "nombre_recovered    16448\n",
    "Name: 603, dtype: int64"
   ]
  },
  {
   "cell_type": "markdown",
   "id": "9a4f258c",
   "metadata": {},
   "source": [
    "nombre_infected       862\n",
    "nombre_sain          2162\n",
    "nombre_exposed        512\n",
    "nombre_recovered    16464\n",
    "Name: 604, dtype: int64"
   ]
  },
  {
   "cell_type": "markdown",
   "id": "21831854",
   "metadata": {},
   "source": [
    "nombre_infected       860\n",
    "nombre_sain          2145\n",
    "nombre_exposed        536\n",
    "nombre_recovered    16459\n",
    "Name: 605, dtype: int64"
   ]
  },
  {
   "cell_type": "markdown",
   "id": "778053a1",
   "metadata": {},
   "source": [
    "nombre_infected       881\n",
    "nombre_sain          2174\n",
    "nombre_exposed        515\n",
    "nombre_recovered    16430\n",
    "Name: 606, dtype: int64"
   ]
  },
  {
   "cell_type": "markdown",
   "id": "299bc884",
   "metadata": {},
   "source": [
    "nombre_infected       894\n",
    "nombre_sain          2209\n",
    "nombre_exposed        486\n",
    "nombre_recovered    16411\n",
    "Name: 607, dtype: int64"
   ]
  },
  {
   "cell_type": "markdown",
   "id": "75605917",
   "metadata": {},
   "source": [
    "nombre_infected       893\n",
    "nombre_sain          2219\n",
    "nombre_exposed        490\n",
    "nombre_recovered    16398\n",
    "Name: 608, dtype: int64"
   ]
  },
  {
   "cell_type": "markdown",
   "id": "75c90026",
   "metadata": {},
   "source": [
    "nombre_infected       904\n",
    "nombre_sain          2251\n",
    "nombre_exposed        485\n",
    "nombre_recovered    16360\n",
    "Name: 609, dtype: int64"
   ]
  },
  {
   "cell_type": "markdown",
   "id": "f5a5b201",
   "metadata": {},
   "source": [
    "nombre_infected       924\n",
    "nombre_sain          2251\n",
    "nombre_exposed        485\n",
    "nombre_recovered    16340\n",
    "Name: 610, dtype: int64"
   ]
  },
  {
   "cell_type": "markdown",
   "id": "0d29b1e1",
   "metadata": {},
   "source": [
    "nombre_infected       928\n",
    "nombre_sain          2276\n",
    "nombre_exposed        484\n",
    "nombre_recovered    16312\n",
    "Name: 611, dtype: int64"
   ]
  },
  {
   "cell_type": "markdown",
   "id": "cd1f3c46",
   "metadata": {},
   "source": [
    "nombre_infected       927\n",
    "nombre_sain          2273\n",
    "nombre_exposed        497\n",
    "nombre_recovered    16303\n",
    "Name: 612, dtype: int64"
   ]
  },
  {
   "cell_type": "markdown",
   "id": "0fe11039",
   "metadata": {},
   "source": [
    "nombre_infected       919\n",
    "nombre_sain          2319\n",
    "nombre_exposed        496\n",
    "nombre_recovered    16266\n",
    "Name: 613, dtype: int64"
   ]
  },
  {
   "cell_type": "markdown",
   "id": "7eb53748",
   "metadata": {},
   "source": [
    "nombre_infected       920\n",
    "nombre_sain          2283\n",
    "nombre_exposed        533\n",
    "nombre_recovered    16264\n",
    "Name: 614, dtype: int64"
   ]
  },
  {
   "cell_type": "markdown",
   "id": "8a3a31fb",
   "metadata": {},
   "source": [
    "nombre_infected       916\n",
    "nombre_sain          2313\n",
    "nombre_exposed        526\n",
    "nombre_recovered    16245\n",
    "Name: 615, dtype: int64"
   ]
  },
  {
   "cell_type": "markdown",
   "id": "ed1e3273",
   "metadata": {},
   "source": [
    "nombre_infected       932\n",
    "nombre_sain          2319\n",
    "nombre_exposed        528\n",
    "nombre_recovered    16221\n",
    "Name: 616, dtype: int64"
   ]
  },
  {
   "cell_type": "markdown",
   "id": "9ecc5388",
   "metadata": {},
   "source": [
    "nombre_infected       949\n",
    "nombre_sain          2309\n",
    "nombre_exposed        532\n",
    "nombre_recovered    16210\n",
    "Name: 617, dtype: int64"
   ]
  },
  {
   "cell_type": "markdown",
   "id": "852039a7",
   "metadata": {},
   "source": [
    "nombre_infected       946\n",
    "nombre_sain          2293\n",
    "nombre_exposed        542\n",
    "nombre_recovered    16219\n",
    "Name: 618, dtype: int64"
   ]
  },
  {
   "cell_type": "markdown",
   "id": "ba14e94f",
   "metadata": {},
   "source": [
    "nombre_infected       963\n",
    "nombre_sain          2285\n",
    "nombre_exposed        553\n",
    "nombre_recovered    16199\n",
    "Name: 619, dtype: int64"
   ]
  },
  {
   "cell_type": "markdown",
   "id": "3d2bef79",
   "metadata": {},
   "source": [
    "nombre_infected       952\n",
    "nombre_sain          2291\n",
    "nombre_exposed        561\n",
    "nombre_recovered    16196\n",
    "Name: 620, dtype: int64"
   ]
  },
  {
   "cell_type": "markdown",
   "id": "60a7d963",
   "metadata": {},
   "source": [
    "nombre_infected       982\n",
    "nombre_sain          2294\n",
    "nombre_exposed        553\n",
    "nombre_recovered    16171\n",
    "Name: 621, dtype: int64"
   ]
  },
  {
   "cell_type": "markdown",
   "id": "fbac99a8",
   "metadata": {},
   "source": [
    "nombre_infected       988\n",
    "nombre_sain          2293\n",
    "nombre_exposed        562\n",
    "nombre_recovered    16157\n",
    "Name: 622, dtype: int64"
   ]
  },
  {
   "cell_type": "markdown",
   "id": "4075caed",
   "metadata": {},
   "source": [
    "nombre_infected       989\n",
    "nombre_sain          2259\n",
    "nombre_exposed        597\n",
    "nombre_recovered    16155\n",
    "Name: 623, dtype: int64"
   ]
  },
  {
   "cell_type": "markdown",
   "id": "0530d1d0",
   "metadata": {},
   "source": [
    "nombre_infected      1014\n",
    "nombre_sain          2241\n",
    "nombre_exposed        586\n",
    "nombre_recovered    16159\n",
    "Name: 624, dtype: int64"
   ]
  },
  {
   "cell_type": "markdown",
   "id": "e03a740c",
   "metadata": {},
   "source": [
    "nombre_infected      1045\n",
    "nombre_sain          2230\n",
    "nombre_exposed        583\n",
    "nombre_recovered    16142\n",
    "Name: 625, dtype: int64"
   ]
  },
  {
   "cell_type": "markdown",
   "id": "577a4182",
   "metadata": {},
   "source": [
    "nombre_infected      1045\n",
    "nombre_sain          2236\n",
    "nombre_exposed        581\n",
    "nombre_recovered    16138\n",
    "Name: 626, dtype: int64"
   ]
  },
  {
   "cell_type": "markdown",
   "id": "956ae569",
   "metadata": {},
   "source": [
    "nombre_infected      1033\n",
    "nombre_sain          2214\n",
    "nombre_exposed        579\n",
    "nombre_recovered    16174\n",
    "Name: 627, dtype: int64"
   ]
  },
  {
   "cell_type": "markdown",
   "id": "8dc2c321",
   "metadata": {},
   "source": [
    "nombre_infected      1027\n",
    "nombre_sain          2209\n",
    "nombre_exposed        580\n",
    "nombre_recovered    16184\n",
    "Name: 628, dtype: int64"
   ]
  },
  {
   "cell_type": "markdown",
   "id": "0db1311b",
   "metadata": {},
   "source": [
    "nombre_infected      1047\n",
    "nombre_sain          2196\n",
    "nombre_exposed        597\n",
    "nombre_recovered    16160\n",
    "Name: 629, dtype: int64"
   ]
  },
  {
   "cell_type": "markdown",
   "id": "547587e9",
   "metadata": {},
   "source": [
    "nombre_infected      1055\n",
    "nombre_sain          2178\n",
    "nombre_exposed        600\n",
    "nombre_recovered    16167\n",
    "Name: 630, dtype: int64"
   ]
  },
  {
   "cell_type": "markdown",
   "id": "715d8de4",
   "metadata": {},
   "source": [
    "nombre_infected      1059\n",
    "nombre_sain          2181\n",
    "nombre_exposed        608\n",
    "nombre_recovered    16152\n",
    "Name: 631, dtype: int64"
   ]
  },
  {
   "cell_type": "markdown",
   "id": "3b95e419",
   "metadata": {},
   "source": [
    "nombre_infected      1070\n",
    "nombre_sain          2143\n",
    "nombre_exposed        619\n",
    "nombre_recovered    16168\n",
    "Name: 632, dtype: int64"
   ]
  },
  {
   "cell_type": "markdown",
   "id": "749c3cca",
   "metadata": {},
   "source": [
    "nombre_infected      1103\n",
    "nombre_sain          2136\n",
    "nombre_exposed        626\n",
    "nombre_recovered    16135\n",
    "Name: 633, dtype: int64"
   ]
  },
  {
   "cell_type": "markdown",
   "id": "6ae489bf",
   "metadata": {},
   "source": [
    "nombre_infected      1108\n",
    "nombre_sain          2119\n",
    "nombre_exposed        626\n",
    "nombre_recovered    16147\n",
    "Name: 634, dtype: int64"
   ]
  },
  {
   "cell_type": "markdown",
   "id": "1c8ea089",
   "metadata": {},
   "source": [
    "nombre_infected      1136\n",
    "nombre_sain          2121\n",
    "nombre_exposed        602\n",
    "nombre_recovered    16141\n",
    "Name: 635, dtype: int64"
   ]
  },
  {
   "cell_type": "markdown",
   "id": "ce452cee",
   "metadata": {},
   "source": [
    "nombre_infected      1166\n",
    "nombre_sain          2107\n",
    "nombre_exposed        605\n",
    "nombre_recovered    16122\n",
    "Name: 636, dtype: int64"
   ]
  },
  {
   "cell_type": "markdown",
   "id": "eeddf22b",
   "metadata": {},
   "source": [
    "nombre_infected      1177\n",
    "nombre_sain          2098\n",
    "nombre_exposed        629\n",
    "nombre_recovered    16096\n",
    "Name: 637, dtype: int64"
   ]
  },
  {
   "cell_type": "markdown",
   "id": "7f65fe48",
   "metadata": {},
   "source": [
    "nombre_infected      1184\n",
    "nombre_sain          2104\n",
    "nombre_exposed        631\n",
    "nombre_recovered    16081\n",
    "Name: 638, dtype: int64"
   ]
  },
  {
   "cell_type": "markdown",
   "id": "0de2b117",
   "metadata": {},
   "source": [
    "nombre_infected      1199\n",
    "nombre_sain          2061\n",
    "nombre_exposed        647\n",
    "nombre_recovered    16093\n",
    "Name: 639, dtype: int64"
   ]
  },
  {
   "cell_type": "markdown",
   "id": "4f8643d4",
   "metadata": {},
   "source": [
    "nombre_infected      1200\n",
    "nombre_sain          2061\n",
    "nombre_exposed        649\n",
    "nombre_recovered    16090\n",
    "Name: 640, dtype: int64"
   ]
  },
  {
   "cell_type": "markdown",
   "id": "23de01a4",
   "metadata": {},
   "source": [
    "nombre_infected      1226\n",
    "nombre_sain          2057\n",
    "nombre_exposed        647\n",
    "nombre_recovered    16070\n",
    "Name: 641, dtype: int64"
   ]
  },
  {
   "cell_type": "markdown",
   "id": "1a55a72a",
   "metadata": {},
   "source": [
    "nombre_infected      1239\n",
    "nombre_sain          2039\n",
    "nombre_exposed        641\n",
    "nombre_recovered    16081\n",
    "Name: 642, dtype: int64"
   ]
  },
  {
   "cell_type": "markdown",
   "id": "03d6d410",
   "metadata": {},
   "source": [
    "nombre_infected      1232\n",
    "nombre_sain          2022\n",
    "nombre_exposed        655\n",
    "nombre_recovered    16091\n",
    "Name: 643, dtype: int64"
   ]
  },
  {
   "cell_type": "markdown",
   "id": "c8261aba",
   "metadata": {},
   "source": [
    "nombre_infected      1224\n",
    "nombre_sain          2019\n",
    "nombre_exposed        639\n",
    "nombre_recovered    16118\n",
    "Name: 644, dtype: int64"
   ]
  },
  {
   "cell_type": "markdown",
   "id": "7c8b35fb",
   "metadata": {},
   "source": [
    "nombre_infected      1237\n",
    "nombre_sain          2029\n",
    "nombre_exposed        617\n",
    "nombre_recovered    16117\n",
    "Name: 645, dtype: int64"
   ]
  },
  {
   "cell_type": "markdown",
   "id": "4f993d52",
   "metadata": {},
   "source": [
    "nombre_infected      1229\n",
    "nombre_sain          2002\n",
    "nombre_exposed        628\n",
    "nombre_recovered    16141\n",
    "Name: 646, dtype: int64"
   ]
  },
  {
   "cell_type": "markdown",
   "id": "029416b0",
   "metadata": {},
   "source": [
    "nombre_infected      1223\n",
    "nombre_sain          1994\n",
    "nombre_exposed        647\n",
    "nombre_recovered    16136\n",
    "Name: 647, dtype: int64"
   ]
  },
  {
   "cell_type": "markdown",
   "id": "4e5dd1fd",
   "metadata": {},
   "source": [
    "nombre_infected      1223\n",
    "nombre_sain          1994\n",
    "nombre_exposed        652\n",
    "nombre_recovered    16131\n",
    "Name: 648, dtype: int64"
   ]
  },
  {
   "cell_type": "markdown",
   "id": "068bd85d",
   "metadata": {},
   "source": [
    "nombre_infected      1224\n",
    "nombre_sain          1965\n",
    "nombre_exposed        666\n",
    "nombre_recovered    16145\n",
    "Name: 649, dtype: int64"
   ]
  },
  {
   "cell_type": "markdown",
   "id": "7b105ee7",
   "metadata": {},
   "source": [
    "nombre_infected      1203\n",
    "nombre_sain          1951\n",
    "nombre_exposed        656\n",
    "nombre_recovered    16190\n",
    "Name: 650, dtype: int64"
   ]
  },
  {
   "cell_type": "markdown",
   "id": "0779412f",
   "metadata": {},
   "source": [
    "nombre_infected      1222\n",
    "nombre_sain          1961\n",
    "nombre_exposed        630\n",
    "nombre_recovered    16187\n",
    "Name: 651, dtype: int64"
   ]
  },
  {
   "cell_type": "markdown",
   "id": "79b0aa72",
   "metadata": {},
   "source": [
    "nombre_infected      1230\n",
    "nombre_sain          1937\n",
    "nombre_exposed        623\n",
    "nombre_recovered    16210\n",
    "Name: 652, dtype: int64"
   ]
  },
  {
   "cell_type": "markdown",
   "id": "da57fe5d",
   "metadata": {},
   "source": [
    "nombre_infected      1216\n",
    "nombre_sain          1921\n",
    "nombre_exposed        623\n",
    "nombre_recovered    16240\n",
    "Name: 653, dtype: int64"
   ]
  },
  {
   "cell_type": "markdown",
   "id": "e158d91b",
   "metadata": {},
   "source": [
    "nombre_infected      1217\n",
    "nombre_sain          1912\n",
    "nombre_exposed        627\n",
    "nombre_recovered    16244\n",
    "Name: 654, dtype: int64"
   ]
  },
  {
   "cell_type": "markdown",
   "id": "a0fce1e1",
   "metadata": {},
   "source": [
    "nombre_infected      1218\n",
    "nombre_sain          1917\n",
    "nombre_exposed        615\n",
    "nombre_recovered    16250\n",
    "Name: 655, dtype: int64"
   ]
  },
  {
   "cell_type": "markdown",
   "id": "703aded2",
   "metadata": {},
   "source": [
    "nombre_infected      1191\n",
    "nombre_sain          1896\n",
    "nombre_exposed        622\n",
    "nombre_recovered    16291\n",
    "Name: 656, dtype: int64"
   ]
  },
  {
   "cell_type": "markdown",
   "id": "b44597d8",
   "metadata": {},
   "source": [
    "nombre_infected      1172\n",
    "nombre_sain          1891\n",
    "nombre_exposed        625\n",
    "nombre_recovered    16312\n",
    "Name: 657, dtype: int64"
   ]
  },
  {
   "cell_type": "markdown",
   "id": "f5064fc0",
   "metadata": {},
   "source": [
    "nombre_infected      1170\n",
    "nombre_sain          1869\n",
    "nombre_exposed        632\n",
    "nombre_recovered    16329\n",
    "Name: 658, dtype: int64"
   ]
  },
  {
   "cell_type": "markdown",
   "id": "f9efc01d",
   "metadata": {},
   "source": [
    "nombre_infected      1157\n",
    "nombre_sain          1869\n",
    "nombre_exposed        638\n",
    "nombre_recovered    16336\n",
    "Name: 659, dtype: int64"
   ]
  },
  {
   "cell_type": "markdown",
   "id": "607d6e35",
   "metadata": {},
   "source": [
    "nombre_infected      1157\n",
    "nombre_sain          1849\n",
    "nombre_exposed        646\n",
    "nombre_recovered    16348\n",
    "Name: 660, dtype: int64"
   ]
  },
  {
   "cell_type": "markdown",
   "id": "5d8a3d72",
   "metadata": {},
   "source": [
    "nombre_infected      1150\n",
    "nombre_sain          1865\n",
    "nombre_exposed        639\n",
    "nombre_recovered    16346\n",
    "Name: 661, dtype: int64"
   ]
  },
  {
   "cell_type": "markdown",
   "id": "93ba311d",
   "metadata": {},
   "source": [
    "nombre_infected      1157\n",
    "nombre_sain          1866\n",
    "nombre_exposed        611\n",
    "nombre_recovered    16366\n",
    "Name: 662, dtype: int64"
   ]
  },
  {
   "cell_type": "markdown",
   "id": "ee380f89",
   "metadata": {},
   "source": [
    "nombre_infected      1134\n",
    "nombre_sain          1885\n",
    "nombre_exposed        598\n",
    "nombre_recovered    16383\n",
    "Name: 663, dtype: int64"
   ]
  },
  {
   "cell_type": "markdown",
   "id": "c1d41d0f",
   "metadata": {},
   "source": [
    "nombre_infected      1125\n",
    "nombre_sain          1900\n",
    "nombre_exposed        583\n",
    "nombre_recovered    16392\n",
    "Name: 664, dtype: int64"
   ]
  },
  {
   "cell_type": "markdown",
   "id": "2f21f58c",
   "metadata": {},
   "source": [
    "nombre_infected      1109\n",
    "nombre_sain          1919\n",
    "nombre_exposed        582\n",
    "nombre_recovered    16390\n",
    "Name: 665, dtype: int64"
   ]
  },
  {
   "cell_type": "markdown",
   "id": "8016bbea",
   "metadata": {},
   "source": [
    "nombre_infected      1080\n",
    "nombre_sain          1931\n",
    "nombre_exposed        578\n",
    "nombre_recovered    16411\n",
    "Name: 666, dtype: int64"
   ]
  },
  {
   "cell_type": "markdown",
   "id": "66152c51",
   "metadata": {},
   "source": [
    "nombre_infected      1075\n",
    "nombre_sain          1946\n",
    "nombre_exposed        579\n",
    "nombre_recovered    16400\n",
    "Name: 667, dtype: int64"
   ]
  },
  {
   "cell_type": "markdown",
   "id": "15cbd487",
   "metadata": {},
   "source": [
    "nombre_infected      1071\n",
    "nombre_sain          1971\n",
    "nombre_exposed        561\n",
    "nombre_recovered    16397\n",
    "Name: 668, dtype: int64"
   ]
  },
  {
   "cell_type": "markdown",
   "id": "5e26763b",
   "metadata": {},
   "source": [
    "nombre_infected      1075\n",
    "nombre_sain          2000\n",
    "nombre_exposed        547\n",
    "nombre_recovered    16378\n",
    "Name: 669, dtype: int64"
   ]
  },
  {
   "cell_type": "markdown",
   "id": "2cd1c89f",
   "metadata": {},
   "source": [
    "nombre_infected      1046\n",
    "nombre_sain          2011\n",
    "nombre_exposed        543\n",
    "nombre_recovered    16400\n",
    "Name: 670, dtype: int64"
   ]
  },
  {
   "cell_type": "markdown",
   "id": "c154ee64",
   "metadata": {},
   "source": [
    "nombre_infected      1036\n",
    "nombre_sain          2020\n",
    "nombre_exposed        546\n",
    "nombre_recovered    16398\n",
    "Name: 671, dtype: int64"
   ]
  },
  {
   "cell_type": "markdown",
   "id": "2a766712",
   "metadata": {},
   "source": [
    "nombre_infected      1042\n",
    "nombre_sain          2064\n",
    "nombre_exposed        520\n",
    "nombre_recovered    16374\n",
    "Name: 672, dtype: int64"
   ]
  },
  {
   "cell_type": "markdown",
   "id": "1e241510",
   "metadata": {},
   "source": [
    "nombre_infected      1036\n",
    "nombre_sain          2078\n",
    "nombre_exposed        533\n",
    "nombre_recovered    16353\n",
    "Name: 673, dtype: int64"
   ]
  },
  {
   "cell_type": "markdown",
   "id": "01e7319d",
   "metadata": {},
   "source": [
    "nombre_infected      1017\n",
    "nombre_sain          2081\n",
    "nombre_exposed        556\n",
    "nombre_recovered    16346\n",
    "Name: 674, dtype: int64"
   ]
  },
  {
   "cell_type": "markdown",
   "id": "5722b7f5",
   "metadata": {},
   "source": [
    "nombre_infected       999\n",
    "nombre_sain          2107\n",
    "nombre_exposed        565\n",
    "nombre_recovered    16329\n",
    "Name: 675, dtype: int64"
   ]
  },
  {
   "cell_type": "markdown",
   "id": "9a7c5904",
   "metadata": {},
   "source": [
    "nombre_infected      1014\n",
    "nombre_sain          2093\n",
    "nombre_exposed        561\n",
    "nombre_recovered    16332\n",
    "Name: 676, dtype: int64"
   ]
  },
  {
   "cell_type": "markdown",
   "id": "f05b0228",
   "metadata": {},
   "source": [
    "nombre_infected      1017\n",
    "nombre_sain          2093\n",
    "nombre_exposed        555\n",
    "nombre_recovered    16335\n",
    "Name: 677, dtype: int64"
   ]
  },
  {
   "cell_type": "markdown",
   "id": "b9755a67",
   "metadata": {},
   "source": [
    "nombre_infected       997\n",
    "nombre_sain          2111\n",
    "nombre_exposed        565\n",
    "nombre_recovered    16327\n",
    "Name: 678, dtype: int64"
   ]
  },
  {
   "cell_type": "markdown",
   "id": "d7683ec1",
   "metadata": {},
   "source": [
    "nombre_infected       993\n",
    "nombre_sain          2116\n",
    "nombre_exposed        574\n",
    "nombre_recovered    16317\n",
    "Name: 679, dtype: int64"
   ]
  },
  {
   "cell_type": "markdown",
   "id": "f2c98996",
   "metadata": {},
   "source": [
    "nombre_infected      1011\n",
    "nombre_sain          2103\n",
    "nombre_exposed        602\n",
    "nombre_recovered    16284\n",
    "Name: 680, dtype: int64"
   ]
  },
  {
   "cell_type": "markdown",
   "id": "df693377",
   "metadata": {},
   "source": [
    "nombre_infected       999\n",
    "nombre_sain          2132\n",
    "nombre_exposed        596\n",
    "nombre_recovered    16273\n",
    "Name: 681, dtype: int64"
   ]
  },
  {
   "cell_type": "markdown",
   "id": "44ec482c",
   "metadata": {},
   "source": [
    "nombre_infected      1012\n",
    "nombre_sain          2153\n",
    "nombre_exposed        565\n",
    "nombre_recovered    16270\n",
    "Name: 682, dtype: int64"
   ]
  },
  {
   "cell_type": "markdown",
   "id": "e7f25d6e",
   "metadata": {},
   "source": [
    "nombre_infected      1051\n",
    "nombre_sain          2179\n",
    "nombre_exposed        531\n",
    "nombre_recovered    16239\n",
    "Name: 683, dtype: int64"
   ]
  },
  {
   "cell_type": "markdown",
   "id": "1ed0a145",
   "metadata": {},
   "source": [
    "nombre_infected      1014\n",
    "nombre_sain          2181\n",
    "nombre_exposed        545\n",
    "nombre_recovered    16260\n",
    "Name: 684, dtype: int64"
   ]
  },
  {
   "cell_type": "markdown",
   "id": "fa4e69d9",
   "metadata": {},
   "source": [
    "nombre_infected      1021\n",
    "nombre_sain          2193\n",
    "nombre_exposed        539\n",
    "nombre_recovered    16247\n",
    "Name: 685, dtype: int64"
   ]
  },
  {
   "cell_type": "markdown",
   "id": "b4136413",
   "metadata": {},
   "source": [
    "nombre_infected      1023\n",
    "nombre_sain          2189\n",
    "nombre_exposed        547\n",
    "nombre_recovered    16241\n",
    "Name: 686, dtype: int64"
   ]
  },
  {
   "cell_type": "markdown",
   "id": "52683004",
   "metadata": {},
   "source": [
    "nombre_infected      1018\n",
    "nombre_sain          2164\n",
    "nombre_exposed        588\n",
    "nombre_recovered    16230\n",
    "Name: 687, dtype: int64"
   ]
  },
  {
   "cell_type": "markdown",
   "id": "5cfa3a58",
   "metadata": {},
   "source": [
    "nombre_infected       992\n",
    "nombre_sain          2168\n",
    "nombre_exposed        609\n",
    "nombre_recovered    16231\n",
    "Name: 688, dtype: int64"
   ]
  },
  {
   "cell_type": "markdown",
   "id": "5190f765",
   "metadata": {},
   "source": [
    "nombre_infected       987\n",
    "nombre_sain          2154\n",
    "nombre_exposed        615\n",
    "nombre_recovered    16244\n",
    "Name: 689, dtype: int64"
   ]
  },
  {
   "cell_type": "markdown",
   "id": "dc1d14c8",
   "metadata": {},
   "source": [
    "nombre_infected       987\n",
    "nombre_sain          2168\n",
    "nombre_exposed        601\n",
    "nombre_recovered    16244\n",
    "Name: 690, dtype: int64"
   ]
  },
  {
   "cell_type": "markdown",
   "id": "40511351",
   "metadata": {},
   "source": [
    "nombre_infected       977\n",
    "nombre_sain          2170\n",
    "nombre_exposed        586\n",
    "nombre_recovered    16267\n",
    "Name: 691, dtype: int64"
   ]
  },
  {
   "cell_type": "markdown",
   "id": "ea708b96",
   "metadata": {},
   "source": [
    "nombre_infected       978\n",
    "nombre_sain          2174\n",
    "nombre_exposed        571\n",
    "nombre_recovered    16277\n",
    "Name: 692, dtype: int64"
   ]
  },
  {
   "cell_type": "markdown",
   "id": "0068a682",
   "metadata": {},
   "source": [
    "nombre_infected      1004\n",
    "nombre_sain          2175\n",
    "nombre_exposed        558\n",
    "nombre_recovered    16263\n",
    "Name: 693, dtype: int64"
   ]
  },
  {
   "cell_type": "markdown",
   "id": "e5be4d53",
   "metadata": {},
   "source": [
    "nombre_infected       984\n",
    "nombre_sain          2188\n",
    "nombre_exposed        572\n",
    "nombre_recovered    16256\n",
    "Name: 694, dtype: int64"
   ]
  },
  {
   "cell_type": "markdown",
   "id": "b17f2478",
   "metadata": {},
   "source": [
    "nombre_infected      1005\n",
    "nombre_sain          2222\n",
    "nombre_exposed        544\n",
    "nombre_recovered    16229\n",
    "Name: 695, dtype: int64"
   ]
  },
  {
   "cell_type": "markdown",
   "id": "4d4b0022",
   "metadata": {},
   "source": [
    "nombre_infected      1033\n",
    "nombre_sain          2225\n",
    "nombre_exposed        528\n",
    "nombre_recovered    16214\n",
    "Name: 696, dtype: int64"
   ]
  },
  {
   "cell_type": "markdown",
   "id": "0e80bac6",
   "metadata": {},
   "source": [
    "nombre_infected      1037\n",
    "nombre_sain          2247\n",
    "nombre_exposed        522\n",
    "nombre_recovered    16194\n",
    "Name: 697, dtype: int64"
   ]
  },
  {
   "cell_type": "markdown",
   "id": "3ddd826d",
   "metadata": {},
   "source": [
    "nombre_infected      1007\n",
    "nombre_sain          2214\n",
    "nombre_exposed        565\n",
    "nombre_recovered    16214\n",
    "Name: 698, dtype: int64"
   ]
  },
  {
   "cell_type": "markdown",
   "id": "fc868974",
   "metadata": {},
   "source": [
    "nombre_infected      1001\n",
    "nombre_sain          2210\n",
    "nombre_exposed        566\n",
    "nombre_recovered    16223\n",
    "Name: 699, dtype: int64"
   ]
  },
  {
   "cell_type": "markdown",
   "id": "b5a5a084",
   "metadata": {},
   "source": [
    "nombre_infected      1008\n",
    "nombre_sain          2219\n",
    "nombre_exposed        578\n",
    "nombre_recovered    16195\n",
    "Name: 700, dtype: int64"
   ]
  },
  {
   "cell_type": "markdown",
   "id": "aa7d01c6",
   "metadata": {},
   "source": [
    "nombre_infected      1006\n",
    "nombre_sain          2242\n",
    "nombre_exposed        572\n",
    "nombre_recovered    16180\n",
    "Name: 701, dtype: int64"
   ]
  },
  {
   "cell_type": "markdown",
   "id": "4150bb6c",
   "metadata": {},
   "source": [
    "nombre_infected      1000\n",
    "nombre_sain          2243\n",
    "nombre_exposed        561\n",
    "nombre_recovered    16196\n",
    "Name: 702, dtype: int64"
   ]
  },
  {
   "cell_type": "markdown",
   "id": "9eb30bc9",
   "metadata": {},
   "source": [
    "nombre_infected       985\n",
    "nombre_sain          2261\n",
    "nombre_exposed        549\n",
    "nombre_recovered    16205\n",
    "Name: 703, dtype: int64"
   ]
  },
  {
   "cell_type": "markdown",
   "id": "2285dacf",
   "metadata": {},
   "source": [
    "nombre_infected       989\n",
    "nombre_sain          2254\n",
    "nombre_exposed        572\n",
    "nombre_recovered    16185\n",
    "Name: 704, dtype: int64"
   ]
  },
  {
   "cell_type": "markdown",
   "id": "458b8a8c",
   "metadata": {},
   "source": [
    "nombre_infected       984\n",
    "nombre_sain          2234\n",
    "nombre_exposed        619\n",
    "nombre_recovered    16163\n",
    "Name: 705, dtype: int64"
   ]
  },
  {
   "cell_type": "markdown",
   "id": "9ddbf90a",
   "metadata": {},
   "source": [
    "nombre_infected       990\n",
    "nombre_sain          2242\n",
    "nombre_exposed        606\n",
    "nombre_recovered    16162\n",
    "Name: 706, dtype: int64"
   ]
  },
  {
   "cell_type": "markdown",
   "id": "e0ce34c6",
   "metadata": {},
   "source": [
    "nombre_infected      1023\n",
    "nombre_sain          2246\n",
    "nombre_exposed        593\n",
    "nombre_recovered    16138\n",
    "Name: 707, dtype: int64"
   ]
  },
  {
   "cell_type": "markdown",
   "id": "a88a415c",
   "metadata": {},
   "source": [
    "nombre_infected      1049\n",
    "nombre_sain          2244\n",
    "nombre_exposed        594\n",
    "nombre_recovered    16113\n",
    "Name: 708, dtype: int64"
   ]
  },
  {
   "cell_type": "markdown",
   "id": "b2b8ee6f",
   "metadata": {},
   "source": [
    "nombre_infected      1058\n",
    "nombre_sain          2204\n",
    "nombre_exposed        604\n",
    "nombre_recovered    16134\n",
    "Name: 709, dtype: int64"
   ]
  },
  {
   "cell_type": "markdown",
   "id": "447764f6",
   "metadata": {},
   "source": [
    "nombre_infected      1047\n",
    "nombre_sain          2198\n",
    "nombre_exposed        625\n",
    "nombre_recovered    16130\n",
    "Name: 710, dtype: int64"
   ]
  },
  {
   "cell_type": "markdown",
   "id": "b3e4b6f1",
   "metadata": {},
   "source": [
    "nombre_infected      1065\n",
    "nombre_sain          2180\n",
    "nombre_exposed        632\n",
    "nombre_recovered    16123\n",
    "Name: 711, dtype: int64"
   ]
  },
  {
   "cell_type": "markdown",
   "id": "b43fa034",
   "metadata": {},
   "source": [
    "nombre_infected      1069\n",
    "nombre_sain          2175\n",
    "nombre_exposed        636\n",
    "nombre_recovered    16120\n",
    "Name: 712, dtype: int64"
   ]
  },
  {
   "cell_type": "markdown",
   "id": "ea55d778",
   "metadata": {},
   "source": [
    "nombre_infected      1073\n",
    "nombre_sain          2153\n",
    "nombre_exposed        639\n",
    "nombre_recovered    16135\n",
    "Name: 713, dtype: int64"
   ]
  },
  {
   "cell_type": "markdown",
   "id": "082507ae",
   "metadata": {},
   "source": [
    "nombre_infected      1125\n",
    "nombre_sain          2131\n",
    "nombre_exposed        619\n",
    "nombre_recovered    16125\n",
    "Name: 714, dtype: int64"
   ]
  },
  {
   "cell_type": "markdown",
   "id": "22b9d130",
   "metadata": {},
   "source": [
    "nombre_infected      1128\n",
    "nombre_sain          2121\n",
    "nombre_exposed        623\n",
    "nombre_recovered    16128\n",
    "Name: 715, dtype: int64"
   ]
  },
  {
   "cell_type": "markdown",
   "id": "726d661a",
   "metadata": {},
   "source": [
    "nombre_infected      1140\n",
    "nombre_sain          2094\n",
    "nombre_exposed        614\n",
    "nombre_recovered    16152\n",
    "Name: 716, dtype: int64"
   ]
  },
  {
   "cell_type": "markdown",
   "id": "fa6c5cde",
   "metadata": {},
   "source": [
    "nombre_infected      1143\n",
    "nombre_sain          2073\n",
    "nombre_exposed        600\n",
    "nombre_recovered    16184\n",
    "Name: 717, dtype: int64"
   ]
  },
  {
   "cell_type": "markdown",
   "id": "b643e44c",
   "metadata": {},
   "source": [
    "nombre_infected      1134\n",
    "nombre_sain          2071\n",
    "nombre_exposed        586\n",
    "nombre_recovered    16209\n",
    "Name: 718, dtype: int64"
   ]
  },
  {
   "cell_type": "markdown",
   "id": "07c238a6",
   "metadata": {},
   "source": [
    "nombre_infected      1138\n",
    "nombre_sain          2029\n",
    "nombre_exposed        601\n",
    "nombre_recovered    16232\n",
    "Name: 719, dtype: int64"
   ]
  },
  {
   "cell_type": "markdown",
   "id": "7ad7d9a5",
   "metadata": {},
   "source": [
    "nombre_infected      1112\n",
    "nombre_sain          2037\n",
    "nombre_exposed        584\n",
    "nombre_recovered    16267\n",
    "Name: 720, dtype: int64"
   ]
  },
  {
   "cell_type": "markdown",
   "id": "5c9cc521",
   "metadata": {},
   "source": [
    "nombre_infected      1095\n",
    "nombre_sain          2046\n",
    "nombre_exposed        552\n",
    "nombre_recovered    16307\n",
    "Name: 721, dtype: int64"
   ]
  },
  {
   "cell_type": "markdown",
   "id": "4a961d78",
   "metadata": {},
   "source": [
    "nombre_infected      1120\n",
    "nombre_sain          2021\n",
    "nombre_exposed        545\n",
    "nombre_recovered    16314\n",
    "Name: 722, dtype: int64"
   ]
  },
  {
   "cell_type": "markdown",
   "id": "7718dd96",
   "metadata": {},
   "source": [
    "nombre_infected      1108\n",
    "nombre_sain          1992\n",
    "nombre_exposed        566\n",
    "nombre_recovered    16334\n",
    "Name: 723, dtype: int64"
   ]
  },
  {
   "cell_type": "markdown",
   "id": "79ca7591",
   "metadata": {},
   "source": [
    "nombre_infected      1085\n",
    "nombre_sain          1960\n",
    "nombre_exposed        583\n",
    "nombre_recovered    16372\n",
    "Name: 724, dtype: int64"
   ]
  },
  {
   "cell_type": "markdown",
   "id": "341d69c9",
   "metadata": {},
   "source": [
    "nombre_infected      1064\n",
    "nombre_sain          1950\n",
    "nombre_exposed        592\n",
    "nombre_recovered    16394\n",
    "Name: 725, dtype: int64"
   ]
  },
  {
   "cell_type": "markdown",
   "id": "824922f1",
   "metadata": {},
   "source": [
    "nombre_infected      1046\n",
    "nombre_sain          1931\n",
    "nombre_exposed        582\n",
    "nombre_recovered    16441\n",
    "Name: 726, dtype: int64"
   ]
  },
  {
   "cell_type": "markdown",
   "id": "168a4478",
   "metadata": {},
   "source": [
    "nombre_infected      1057\n",
    "nombre_sain          1925\n",
    "nombre_exposed        570\n",
    "nombre_recovered    16448\n",
    "Name: 727, dtype: int64"
   ]
  },
  {
   "cell_type": "markdown",
   "id": "223e3b18",
   "metadata": {},
   "source": [
    "nombre_infected      1066\n",
    "nombre_sain          1925\n",
    "nombre_exposed        552\n",
    "nombre_recovered    16457\n",
    "Name: 728, dtype: int64"
   ]
  },
  {
   "cell_type": "markdown",
   "id": "bbc546f3",
   "metadata": {},
   "source": [
    "nombre_infected      1059\n",
    "nombre_sain          1929\n",
    "nombre_exposed        558\n",
    "nombre_recovered    16454\n",
    "Name: 729, dtype: int64"
   ]
  },
  {
   "cell_type": "markdown",
   "id": "40dbbad4",
   "metadata": {},
   "source": [
    "nombre_infected      1025\n",
    "nombre_sain          1931\n",
    "nombre_exposed        563\n",
    "nombre_recovered    16481\n",
    "Name: 730, dtype: int64"
   ]
  }
 ],
 "metadata": {},
 "nbformat": 4,
 "nbformat_minor": 5
}
