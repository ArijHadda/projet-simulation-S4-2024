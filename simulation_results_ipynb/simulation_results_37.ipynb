{
 "cells": [
  {
   "cell_type": "markdown",
   "id": "5f8f0dae",
   "metadata": {},
   "source": [
    "nombre_infected        20\n",
    "nombre_sain         19980\n",
    "nombre_exposed          0\n",
    "nombre_recovered        0\n",
    "Name: 0, dtype: int64"
   ]
  },
  {
   "cell_type": "markdown",
   "id": "362d29e7",
   "metadata": {},
   "source": [
    "nombre_infected        20\n",
    "nombre_sain         19964\n",
    "nombre_exposed         16\n",
    "nombre_recovered        0\n",
    "Name: 1, dtype: int64"
   ]
  },
  {
   "cell_type": "markdown",
   "id": "39017664",
   "metadata": {},
   "source": [
    "nombre_infected         0\n",
    "nombre_sain         19953\n",
    "nombre_exposed         27\n",
    "nombre_recovered       20\n",
    "Name: 2, dtype: int64"
   ]
  },
  {
   "cell_type": "markdown",
   "id": "cf9bddd5",
   "metadata": {},
   "source": [
    "nombre_infected         2\n",
    "nombre_sain         19953\n",
    "nombre_exposed         25\n",
    "nombre_recovered       20\n",
    "Name: 3, dtype: int64"
   ]
  },
  {
   "cell_type": "markdown",
   "id": "16a83ccb",
   "metadata": {},
   "source": [
    "nombre_infected        10\n",
    "nombre_sain         19944\n",
    "nombre_exposed         26\n",
    "nombre_recovered       20\n",
    "Name: 4, dtype: int64"
   ]
  },
  {
   "cell_type": "markdown",
   "id": "9f3ddc3f",
   "metadata": {},
   "source": [
    "nombre_infected        17\n",
    "nombre_sain         19933\n",
    "nombre_exposed         30\n",
    "nombre_recovered       20\n",
    "Name: 5, dtype: int64"
   ]
  },
  {
   "cell_type": "markdown",
   "id": "469a419a",
   "metadata": {},
   "source": [
    "nombre_infected        19\n",
    "nombre_sain         19907\n",
    "nombre_exposed         53\n",
    "nombre_recovered       21\n",
    "Name: 6, dtype: int64"
   ]
  },
  {
   "cell_type": "markdown",
   "id": "c86f4bf2",
   "metadata": {},
   "source": [
    "nombre_infected        27\n",
    "nombre_sain         19886\n",
    "nombre_exposed         65\n",
    "nombre_recovered       22\n",
    "Name: 7, dtype: int64"
   ]
  },
  {
   "cell_type": "markdown",
   "id": "d9fd348c",
   "metadata": {},
   "source": [
    "nombre_infected        31\n",
    "nombre_sain         19835\n",
    "nombre_exposed        107\n",
    "nombre_recovered       27\n",
    "Name: 8, dtype: int64"
   ]
  },
  {
   "cell_type": "markdown",
   "id": "6f85bf1e",
   "metadata": {},
   "source": [
    "nombre_infected        48\n",
    "nombre_sain         19788\n",
    "nombre_exposed        136\n",
    "nombre_recovered       28\n",
    "Name: 9, dtype: int64"
   ]
  },
  {
   "cell_type": "markdown",
   "id": "d60e88c2",
   "metadata": {},
   "source": [
    "nombre_infected        75\n",
    "nombre_sain         19705\n",
    "nombre_exposed        190\n",
    "nombre_recovered       30\n",
    "Name: 10, dtype: int64"
   ]
  },
  {
   "cell_type": "markdown",
   "id": "2e5ccea1",
   "metadata": {},
   "source": [
    "nombre_infected       100\n",
    "nombre_sain         19613\n",
    "nombre_exposed        252\n",
    "nombre_recovered       35\n",
    "Name: 11, dtype: int64"
   ]
  },
  {
   "cell_type": "markdown",
   "id": "f678842f",
   "metadata": {},
   "source": [
    "nombre_infected       139\n",
    "nombre_sain         19469\n",
    "nombre_exposed        352\n",
    "nombre_recovered       40\n",
    "Name: 12, dtype: int64"
   ]
  },
  {
   "cell_type": "markdown",
   "id": "20b4fec3",
   "metadata": {},
   "source": [
    "nombre_infected       203\n",
    "nombre_sain         19246\n",
    "nombre_exposed        498\n",
    "nombre_recovered       53\n",
    "Name: 13, dtype: int64"
   ]
  },
  {
   "cell_type": "markdown",
   "id": "3490e157",
   "metadata": {},
   "source": [
    "nombre_infected       258\n",
    "nombre_sain         18954\n",
    "nombre_exposed        722\n",
    "nombre_recovered       66\n",
    "Name: 14, dtype: int64"
   ]
  },
  {
   "cell_type": "markdown",
   "id": "65c2808b",
   "metadata": {},
   "source": [
    "nombre_infected       347\n",
    "nombre_sain         18635\n",
    "nombre_exposed        928\n",
    "nombre_recovered       90\n",
    "Name: 15, dtype: int64"
   ]
  },
  {
   "cell_type": "markdown",
   "id": "6bfd826a",
   "metadata": {},
   "source": [
    "nombre_infected       508\n",
    "nombre_sain         18204\n",
    "nombre_exposed       1170\n",
    "nombre_recovered      118\n",
    "Name: 16, dtype: int64"
   ]
  },
  {
   "cell_type": "markdown",
   "id": "224f9473",
   "metadata": {},
   "source": [
    "nombre_infected       668\n",
    "nombre_sain         17564\n",
    "nombre_exposed       1603\n",
    "nombre_recovered      165\n",
    "Name: 17, dtype: int64"
   ]
  },
  {
   "cell_type": "markdown",
   "id": "c6d5b004",
   "metadata": {},
   "source": [
    "nombre_infected       897\n",
    "nombre_sain         16730\n",
    "nombre_exposed       2158\n",
    "nombre_recovered      215\n",
    "Name: 18, dtype: int64"
   ]
  },
  {
   "cell_type": "markdown",
   "id": "554d6771",
   "metadata": {},
   "source": [
    "nombre_infected      1190\n",
    "nombre_sain         15735\n",
    "nombre_exposed       2784\n",
    "nombre_recovered      291\n",
    "Name: 19, dtype: int64"
   ]
  },
  {
   "cell_type": "markdown",
   "id": "5f798ecc",
   "metadata": {},
   "source": [
    "nombre_infected      1593\n",
    "nombre_sain         14461\n",
    "nombre_exposed       3557\n",
    "nombre_recovered      389\n",
    "Name: 20, dtype: int64"
   ]
  },
  {
   "cell_type": "markdown",
   "id": "2df3cf09",
   "metadata": {},
   "source": [
    "nombre_infected      2098\n",
    "nombre_sain         12961\n",
    "nombre_exposed       4419\n",
    "nombre_recovered      522\n",
    "Name: 21, dtype: int64"
   ]
  },
  {
   "cell_type": "markdown",
   "id": "42336afd",
   "metadata": {},
   "source": [
    "nombre_infected      2739\n",
    "nombre_sain         11306\n",
    "nombre_exposed       5233\n",
    "nombre_recovered      722\n",
    "Name: 22, dtype: int64"
   ]
  },
  {
   "cell_type": "markdown",
   "id": "c2eea8b6",
   "metadata": {},
   "source": [
    "nombre_infected     3491\n",
    "nombre_sain         9465\n",
    "nombre_exposed      6082\n",
    "nombre_recovered     962\n",
    "Name: 23, dtype: int64"
   ]
  },
  {
   "cell_type": "markdown",
   "id": "40c3640e",
   "metadata": {},
   "source": [
    "nombre_infected     4399\n",
    "nombre_sain         7646\n",
    "nombre_exposed      6659\n",
    "nombre_recovered    1296\n",
    "Name: 24, dtype: int64"
   ]
  },
  {
   "cell_type": "markdown",
   "id": "2737916d",
   "metadata": {},
   "source": [
    "nombre_infected     5381\n",
    "nombre_sain         6033\n",
    "nombre_exposed      6895\n",
    "nombre_recovered    1691\n",
    "Name: 25, dtype: int64"
   ]
  },
  {
   "cell_type": "markdown",
   "id": "8acecdbf",
   "metadata": {},
   "source": [
    "nombre_infected     6409\n",
    "nombre_sain         4502\n",
    "nombre_exposed      6899\n",
    "nombre_recovered    2190\n",
    "Name: 26, dtype: int64"
   ]
  },
  {
   "cell_type": "markdown",
   "id": "95280e1f",
   "metadata": {},
   "source": [
    "nombre_infected     7295\n",
    "nombre_sain         3266\n",
    "nombre_exposed      6635\n",
    "nombre_recovered    2804\n",
    "Name: 27, dtype: int64"
   ]
  },
  {
   "cell_type": "markdown",
   "id": "3a68bb5f",
   "metadata": {},
   "source": [
    "nombre_infected     7998\n",
    "nombre_sain         2283\n",
    "nombre_exposed      6139\n",
    "nombre_recovered    3580\n",
    "Name: 28, dtype: int64"
   ]
  },
  {
   "cell_type": "markdown",
   "id": "83963f1c",
   "metadata": {},
   "source": [
    "nombre_infected     8570\n",
    "nombre_sain         1591\n",
    "nombre_exposed      5434\n",
    "nombre_recovered    4405\n",
    "Name: 29, dtype: int64"
   ]
  },
  {
   "cell_type": "markdown",
   "id": "fdf8b784",
   "metadata": {},
   "source": [
    "nombre_infected     8944\n",
    "nombre_sain         1067\n",
    "nombre_exposed      4662\n",
    "nombre_recovered    5327\n",
    "Name: 30, dtype: int64"
   ]
  },
  {
   "cell_type": "markdown",
   "id": "47bd34c7",
   "metadata": {},
   "source": [
    "nombre_infected     9073\n",
    "nombre_sain          730\n",
    "nombre_exposed      3867\n",
    "nombre_recovered    6330\n",
    "Name: 31, dtype: int64"
   ]
  },
  {
   "cell_type": "markdown",
   "id": "0c2cf885",
   "metadata": {},
   "source": [
    "nombre_infected     8968\n",
    "nombre_sain          508\n",
    "nombre_exposed      3145\n",
    "nombre_recovered    7379\n",
    "Name: 32, dtype: int64"
   ]
  },
  {
   "cell_type": "markdown",
   "id": "e829c46b",
   "metadata": {},
   "source": [
    "nombre_infected     8748\n",
    "nombre_sain          379\n",
    "nombre_exposed      2472\n",
    "nombre_recovered    8401\n",
    "Name: 33, dtype: int64"
   ]
  },
  {
   "cell_type": "markdown",
   "id": "779a3399",
   "metadata": {},
   "source": [
    "nombre_infected     8292\n",
    "nombre_sain          280\n",
    "nombre_exposed      1962\n",
    "nombre_recovered    9466\n",
    "Name: 34, dtype: int64"
   ]
  },
  {
   "cell_type": "markdown",
   "id": "a0720062",
   "metadata": {},
   "source": [
    "nombre_infected      7737\n",
    "nombre_sain           212\n",
    "nombre_exposed       1527\n",
    "nombre_recovered    10524\n",
    "Name: 35, dtype: int64"
   ]
  },
  {
   "cell_type": "markdown",
   "id": "860f3963",
   "metadata": {},
   "source": [
    "nombre_infected      7140\n",
    "nombre_sain           165\n",
    "nombre_exposed       1182\n",
    "nombre_recovered    11513\n",
    "Name: 36, dtype: int64"
   ]
  },
  {
   "cell_type": "markdown",
   "id": "6f29cfd7",
   "metadata": {},
   "source": [
    "nombre_infected      6502\n",
    "nombre_sain           141\n",
    "nombre_exposed        917\n",
    "nombre_recovered    12440\n",
    "Name: 37, dtype: int64"
   ]
  },
  {
   "cell_type": "markdown",
   "id": "64a5c25d",
   "metadata": {},
   "source": [
    "nombre_infected      5851\n",
    "nombre_sain           147\n",
    "nombre_exposed        702\n",
    "nombre_recovered    13300\n",
    "Name: 38, dtype: int64"
   ]
  },
  {
   "cell_type": "markdown",
   "id": "43506068",
   "metadata": {},
   "source": [
    "nombre_infected      5220\n",
    "nombre_sain           156\n",
    "nombre_exposed        551\n",
    "nombre_recovered    14073\n",
    "Name: 39, dtype: int64"
   ]
  },
  {
   "cell_type": "markdown",
   "id": "f41f24c1",
   "metadata": {},
   "source": [
    "nombre_infected      4588\n",
    "nombre_sain           160\n",
    "nombre_exposed        444\n",
    "nombre_recovered    14808\n",
    "Name: 40, dtype: int64"
   ]
  },
  {
   "cell_type": "markdown",
   "id": "3f56035d",
   "metadata": {},
   "source": [
    "nombre_infected      3998\n",
    "nombre_sain           177\n",
    "nombre_exposed        356\n",
    "nombre_recovered    15469\n",
    "Name: 41, dtype: int64"
   ]
  },
  {
   "cell_type": "markdown",
   "id": "63642b87",
   "metadata": {},
   "source": [
    "nombre_infected      3436\n",
    "nombre_sain           203\n",
    "nombre_exposed        299\n",
    "nombre_recovered    16062\n",
    "Name: 42, dtype: int64"
   ]
  },
  {
   "cell_type": "markdown",
   "id": "efc29cf1",
   "metadata": {},
   "source": [
    "nombre_infected      2959\n",
    "nombre_sain           236\n",
    "nombre_exposed        243\n",
    "nombre_recovered    16562\n",
    "Name: 43, dtype: int64"
   ]
  },
  {
   "cell_type": "markdown",
   "id": "460411dd",
   "metadata": {},
   "source": [
    "nombre_infected      2509\n",
    "nombre_sain           255\n",
    "nombre_exposed        225\n",
    "nombre_recovered    17011\n",
    "Name: 44, dtype: int64"
   ]
  },
  {
   "cell_type": "markdown",
   "id": "bac65743",
   "metadata": {},
   "source": [
    "nombre_infected      2146\n",
    "nombre_sain           298\n",
    "nombre_exposed        209\n",
    "nombre_recovered    17347\n",
    "Name: 45, dtype: int64"
   ]
  },
  {
   "cell_type": "markdown",
   "id": "43ddbc76",
   "metadata": {},
   "source": [
    "nombre_infected      1840\n",
    "nombre_sain           344\n",
    "nombre_exposed        194\n",
    "nombre_recovered    17622\n",
    "Name: 46, dtype: int64"
   ]
  },
  {
   "cell_type": "markdown",
   "id": "523262e2",
   "metadata": {},
   "source": [
    "nombre_infected      1569\n",
    "nombre_sain           381\n",
    "nombre_exposed        189\n",
    "nombre_recovered    17861\n",
    "Name: 47, dtype: int64"
   ]
  },
  {
   "cell_type": "markdown",
   "id": "b07a8b69",
   "metadata": {},
   "source": [
    "nombre_infected      1356\n",
    "nombre_sain           419\n",
    "nombre_exposed        169\n",
    "nombre_recovered    18056\n",
    "Name: 48, dtype: int64"
   ]
  },
  {
   "cell_type": "markdown",
   "id": "02384556",
   "metadata": {},
   "source": [
    "nombre_infected      1165\n",
    "nombre_sain           470\n",
    "nombre_exposed        156\n",
    "nombre_recovered    18209\n",
    "Name: 49, dtype: int64"
   ]
  },
  {
   "cell_type": "markdown",
   "id": "9179e250",
   "metadata": {},
   "source": [
    "nombre_infected      1004\n",
    "nombre_sain           508\n",
    "nombre_exposed        137\n",
    "nombre_recovered    18351\n",
    "Name: 50, dtype: int64"
   ]
  },
  {
   "cell_type": "markdown",
   "id": "a98fc171",
   "metadata": {},
   "source": [
    "nombre_infected       856\n",
    "nombre_sain           537\n",
    "nombre_exposed        145\n",
    "nombre_recovered    18462\n",
    "Name: 51, dtype: int64"
   ]
  },
  {
   "cell_type": "markdown",
   "id": "9ddfe149",
   "metadata": {},
   "source": [
    "nombre_infected       734\n",
    "nombre_sain           571\n",
    "nombre_exposed        133\n",
    "nombre_recovered    18562\n",
    "Name: 52, dtype: int64"
   ]
  },
  {
   "cell_type": "markdown",
   "id": "a293ca99",
   "metadata": {},
   "source": [
    "nombre_infected       653\n",
    "nombre_sain           602\n",
    "nombre_exposed        119\n",
    "nombre_recovered    18626\n",
    "Name: 53, dtype: int64"
   ]
  },
  {
   "cell_type": "markdown",
   "id": "bbf5a25d",
   "metadata": {},
   "source": [
    "nombre_infected       567\n",
    "nombre_sain           637\n",
    "nombre_exposed        118\n",
    "nombre_recovered    18678\n",
    "Name: 54, dtype: int64"
   ]
  },
  {
   "cell_type": "markdown",
   "id": "a573057a",
   "metadata": {},
   "source": [
    "nombre_infected       495\n",
    "nombre_sain           650\n",
    "nombre_exposed        108\n",
    "nombre_recovered    18747\n",
    "Name: 55, dtype: int64"
   ]
  },
  {
   "cell_type": "markdown",
   "id": "99a5d126",
   "metadata": {},
   "source": [
    "nombre_infected       435\n",
    "nombre_sain           675\n",
    "nombre_exposed         87\n",
    "nombre_recovered    18803\n",
    "Name: 56, dtype: int64"
   ]
  },
  {
   "cell_type": "markdown",
   "id": "38f2d45a",
   "metadata": {},
   "source": [
    "nombre_infected       383\n",
    "nombre_sain           702\n",
    "nombre_exposed         75\n",
    "nombre_recovered    18840\n",
    "Name: 57, dtype: int64"
   ]
  },
  {
   "cell_type": "markdown",
   "id": "51548958",
   "metadata": {},
   "source": [
    "nombre_infected       327\n",
    "nombre_sain           733\n",
    "nombre_exposed         62\n",
    "nombre_recovered    18878\n",
    "Name: 58, dtype: int64"
   ]
  },
  {
   "cell_type": "markdown",
   "id": "0c29db4e",
   "metadata": {},
   "source": [
    "nombre_infected       288\n",
    "nombre_sain           760\n",
    "nombre_exposed         62\n",
    "nombre_recovered    18890\n",
    "Name: 59, dtype: int64"
   ]
  },
  {
   "cell_type": "markdown",
   "id": "bcfbc275",
   "metadata": {},
   "source": [
    "nombre_infected       254\n",
    "nombre_sain           806\n",
    "nombre_exposed         59\n",
    "nombre_recovered    18881\n",
    "Name: 60, dtype: int64"
   ]
  },
  {
   "cell_type": "markdown",
   "id": "e4b5a94c",
   "metadata": {},
   "source": [
    "nombre_infected       221\n",
    "nombre_sain           853\n",
    "nombre_exposed         54\n",
    "nombre_recovered    18872\n",
    "Name: 61, dtype: int64"
   ]
  },
  {
   "cell_type": "markdown",
   "id": "1f065f6c",
   "metadata": {},
   "source": [
    "nombre_infected       207\n",
    "nombre_sain           904\n",
    "nombre_exposed         38\n",
    "nombre_recovered    18851\n",
    "Name: 62, dtype: int64"
   ]
  },
  {
   "cell_type": "markdown",
   "id": "d2636c2f",
   "metadata": {},
   "source": [
    "nombre_infected       194\n",
    "nombre_sain           960\n",
    "nombre_exposed         35\n",
    "nombre_recovered    18811\n",
    "Name: 63, dtype: int64"
   ]
  },
  {
   "cell_type": "markdown",
   "id": "4847f5f0",
   "metadata": {},
   "source": [
    "nombre_infected       154\n",
    "nombre_sain          1025\n",
    "nombre_exposed         43\n",
    "nombre_recovered    18778\n",
    "Name: 64, dtype: int64"
   ]
  },
  {
   "cell_type": "markdown",
   "id": "b3c16d4c",
   "metadata": {},
   "source": [
    "nombre_infected       135\n",
    "nombre_sain          1075\n",
    "nombre_exposed         40\n",
    "nombre_recovered    18750\n",
    "Name: 65, dtype: int64"
   ]
  },
  {
   "cell_type": "markdown",
   "id": "4b469190",
   "metadata": {},
   "source": [
    "nombre_infected       122\n",
    "nombre_sain          1124\n",
    "nombre_exposed         42\n",
    "nombre_recovered    18712\n",
    "Name: 66, dtype: int64"
   ]
  },
  {
   "cell_type": "markdown",
   "id": "0adde3ad",
   "metadata": {},
   "source": [
    "nombre_infected       116\n",
    "nombre_sain          1169\n",
    "nombre_exposed         44\n",
    "nombre_recovered    18671\n",
    "Name: 67, dtype: int64"
   ]
  },
  {
   "cell_type": "markdown",
   "id": "820dac19",
   "metadata": {},
   "source": [
    "nombre_infected       111\n",
    "nombre_sain          1226\n",
    "nombre_exposed         32\n",
    "nombre_recovered    18631\n",
    "Name: 68, dtype: int64"
   ]
  },
  {
   "cell_type": "markdown",
   "id": "f3a0f43f",
   "metadata": {},
   "source": [
    "nombre_infected       104\n",
    "nombre_sain          1269\n",
    "nombre_exposed         33\n",
    "nombre_recovered    18594\n",
    "Name: 69, dtype: int64"
   ]
  },
  {
   "cell_type": "markdown",
   "id": "72c47b30",
   "metadata": {},
   "source": [
    "nombre_infected        83\n",
    "nombre_sain          1312\n",
    "nombre_exposed         36\n",
    "nombre_recovered    18569\n",
    "Name: 70, dtype: int64"
   ]
  },
  {
   "cell_type": "markdown",
   "id": "e8e39334",
   "metadata": {},
   "source": [
    "nombre_infected        79\n",
    "nombre_sain          1362\n",
    "nombre_exposed         28\n",
    "nombre_recovered    18531\n",
    "Name: 71, dtype: int64"
   ]
  },
  {
   "cell_type": "markdown",
   "id": "44000a62",
   "metadata": {},
   "source": [
    "nombre_infected        70\n",
    "nombre_sain          1405\n",
    "nombre_exposed         30\n",
    "nombre_recovered    18495\n",
    "Name: 72, dtype: int64"
   ]
  },
  {
   "cell_type": "markdown",
   "id": "721025f2",
   "metadata": {},
   "source": [
    "nombre_infected        68\n",
    "nombre_sain          1445\n",
    "nombre_exposed         29\n",
    "nombre_recovered    18458\n",
    "Name: 73, dtype: int64"
   ]
  },
  {
   "cell_type": "markdown",
   "id": "3f624e97",
   "metadata": {},
   "source": [
    "nombre_infected        73\n",
    "nombre_sain          1487\n",
    "nombre_exposed         23\n",
    "nombre_recovered    18417\n",
    "Name: 74, dtype: int64"
   ]
  },
  {
   "cell_type": "markdown",
   "id": "07ee7ce6",
   "metadata": {},
   "source": [
    "nombre_infected        70\n",
    "nombre_sain          1521\n",
    "nombre_exposed         27\n",
    "nombre_recovered    18382\n",
    "Name: 75, dtype: int64"
   ]
  },
  {
   "cell_type": "markdown",
   "id": "c953a67b",
   "metadata": {},
   "source": [
    "nombre_infected        66\n",
    "nombre_sain          1568\n",
    "nombre_exposed         23\n",
    "nombre_recovered    18343\n",
    "Name: 76, dtype: int64"
   ]
  },
  {
   "cell_type": "markdown",
   "id": "9035d126",
   "metadata": {},
   "source": [
    "nombre_infected        61\n",
    "nombre_sain          1632\n",
    "nombre_exposed         22\n",
    "nombre_recovered    18285\n",
    "Name: 77, dtype: int64"
   ]
  },
  {
   "cell_type": "markdown",
   "id": "01c8d69e",
   "metadata": {},
   "source": [
    "nombre_infected        60\n",
    "nombre_sain          1686\n",
    "nombre_exposed         23\n",
    "nombre_recovered    18231\n",
    "Name: 78, dtype: int64"
   ]
  },
  {
   "cell_type": "markdown",
   "id": "68d0a22b",
   "metadata": {},
   "source": [
    "nombre_infected        57\n",
    "nombre_sain          1751\n",
    "nombre_exposed         27\n",
    "nombre_recovered    18165\n",
    "Name: 79, dtype: int64"
   ]
  },
  {
   "cell_type": "markdown",
   "id": "314b917a",
   "metadata": {},
   "source": [
    "nombre_infected        51\n",
    "nombre_sain          1801\n",
    "nombre_exposed         31\n",
    "nombre_recovered    18117\n",
    "Name: 80, dtype: int64"
   ]
  },
  {
   "cell_type": "markdown",
   "id": "0f389b1c",
   "metadata": {},
   "source": [
    "nombre_infected        52\n",
    "nombre_sain          1866\n",
    "nombre_exposed         28\n",
    "nombre_recovered    18054\n",
    "Name: 81, dtype: int64"
   ]
  },
  {
   "cell_type": "markdown",
   "id": "5c245081",
   "metadata": {},
   "source": [
    "nombre_infected        50\n",
    "nombre_sain          1936\n",
    "nombre_exposed         23\n",
    "nombre_recovered    17991\n",
    "Name: 82, dtype: int64"
   ]
  },
  {
   "cell_type": "markdown",
   "id": "889d550e",
   "metadata": {},
   "source": [
    "nombre_infected        49\n",
    "nombre_sain          2022\n",
    "nombre_exposed         25\n",
    "nombre_recovered    17904\n",
    "Name: 83, dtype: int64"
   ]
  },
  {
   "cell_type": "markdown",
   "id": "773c911f",
   "metadata": {},
   "source": [
    "nombre_infected        43\n",
    "nombre_sain          2098\n",
    "nombre_exposed         23\n",
    "nombre_recovered    17836\n",
    "Name: 84, dtype: int64"
   ]
  },
  {
   "cell_type": "markdown",
   "id": "1db84ff9",
   "metadata": {},
   "source": [
    "nombre_infected        43\n",
    "nombre_sain          2193\n",
    "nombre_exposed         21\n",
    "nombre_recovered    17743\n",
    "Name: 85, dtype: int64"
   ]
  },
  {
   "cell_type": "markdown",
   "id": "7f67f721",
   "metadata": {},
   "source": [
    "nombre_infected        41\n",
    "nombre_sain          2273\n",
    "nombre_exposed         27\n",
    "nombre_recovered    17659\n",
    "Name: 86, dtype: int64"
   ]
  },
  {
   "cell_type": "markdown",
   "id": "372fc892",
   "metadata": {},
   "source": [
    "nombre_infected        38\n",
    "nombre_sain          2384\n",
    "nombre_exposed         28\n",
    "nombre_recovered    17550\n",
    "Name: 87, dtype: int64"
   ]
  },
  {
   "cell_type": "markdown",
   "id": "fc09cd42",
   "metadata": {},
   "source": [
    "nombre_infected        39\n",
    "nombre_sain          2471\n",
    "nombre_exposed         28\n",
    "nombre_recovered    17462\n",
    "Name: 88, dtype: int64"
   ]
  },
  {
   "cell_type": "markdown",
   "id": "3bbb0538",
   "metadata": {},
   "source": [
    "nombre_infected        42\n",
    "nombre_sain          2590\n",
    "nombre_exposed         21\n",
    "nombre_recovered    17347\n",
    "Name: 89, dtype: int64"
   ]
  },
  {
   "cell_type": "markdown",
   "id": "87ba67e3",
   "metadata": {},
   "source": [
    "nombre_infected        45\n",
    "nombre_sain          2693\n",
    "nombre_exposed         21\n",
    "nombre_recovered    17241\n",
    "Name: 90, dtype: int64"
   ]
  },
  {
   "cell_type": "markdown",
   "id": "a9728efd",
   "metadata": {},
   "source": [
    "nombre_infected        45\n",
    "nombre_sain          2793\n",
    "nombre_exposed         17\n",
    "nombre_recovered    17145\n",
    "Name: 91, dtype: int64"
   ]
  },
  {
   "cell_type": "markdown",
   "id": "7bedebd0",
   "metadata": {},
   "source": [
    "nombre_infected        43\n",
    "nombre_sain          2863\n",
    "nombre_exposed         22\n",
    "nombre_recovered    17072\n",
    "Name: 92, dtype: int64"
   ]
  },
  {
   "cell_type": "markdown",
   "id": "a08c5199",
   "metadata": {},
   "source": [
    "nombre_infected        43\n",
    "nombre_sain          2944\n",
    "nombre_exposed         27\n",
    "nombre_recovered    16986\n",
    "Name: 93, dtype: int64"
   ]
  },
  {
   "cell_type": "markdown",
   "id": "600ab9f3",
   "metadata": {},
   "source": [
    "nombre_infected        43\n",
    "nombre_sain          2996\n",
    "nombre_exposed         30\n",
    "nombre_recovered    16931\n",
    "Name: 94, dtype: int64"
   ]
  },
  {
   "cell_type": "markdown",
   "id": "cfb9c965",
   "metadata": {},
   "source": [
    "nombre_infected        38\n",
    "nombre_sain          3056\n",
    "nombre_exposed         35\n",
    "nombre_recovered    16871\n",
    "Name: 95, dtype: int64"
   ]
  },
  {
   "cell_type": "markdown",
   "id": "a781e4dc",
   "metadata": {},
   "source": [
    "nombre_infected        35\n",
    "nombre_sain          3116\n",
    "nombre_exposed         31\n",
    "nombre_recovered    16818\n",
    "Name: 96, dtype: int64"
   ]
  },
  {
   "cell_type": "markdown",
   "id": "98e760df",
   "metadata": {},
   "source": [
    "nombre_infected        43\n",
    "nombre_sain          3168\n",
    "nombre_exposed         25\n",
    "nombre_recovered    16764\n",
    "Name: 97, dtype: int64"
   ]
  },
  {
   "cell_type": "markdown",
   "id": "6099d6de",
   "metadata": {},
   "source": [
    "nombre_infected        43\n",
    "nombre_sain          3197\n",
    "nombre_exposed         31\n",
    "nombre_recovered    16729\n",
    "Name: 98, dtype: int64"
   ]
  },
  {
   "cell_type": "markdown",
   "id": "726908d1",
   "metadata": {},
   "source": [
    "nombre_infected        41\n",
    "nombre_sain          3246\n",
    "nombre_exposed         39\n",
    "nombre_recovered    16674\n",
    "Name: 99, dtype: int64"
   ]
  },
  {
   "cell_type": "markdown",
   "id": "74be9497",
   "metadata": {},
   "source": [
    "nombre_infected        43\n",
    "nombre_sain          3289\n",
    "nombre_exposed         41\n",
    "nombre_recovered    16627\n",
    "Name: 100, dtype: int64"
   ]
  },
  {
   "cell_type": "markdown",
   "id": "fd1b6aaa",
   "metadata": {},
   "source": [
    "nombre_infected        49\n",
    "nombre_sain          3329\n",
    "nombre_exposed         39\n",
    "nombre_recovered    16583\n",
    "Name: 101, dtype: int64"
   ]
  },
  {
   "cell_type": "markdown",
   "id": "dfb86626",
   "metadata": {},
   "source": [
    "nombre_infected        53\n",
    "nombre_sain          3374\n",
    "nombre_exposed         39\n",
    "nombre_recovered    16534\n",
    "Name: 102, dtype: int64"
   ]
  },
  {
   "cell_type": "markdown",
   "id": "79c97c9b",
   "metadata": {},
   "source": [
    "nombre_infected        52\n",
    "nombre_sain          3407\n",
    "nombre_exposed         43\n",
    "nombre_recovered    16498\n",
    "Name: 103, dtype: int64"
   ]
  },
  {
   "cell_type": "markdown",
   "id": "a3e34d36",
   "metadata": {},
   "source": [
    "nombre_infected        58\n",
    "nombre_sain          3434\n",
    "nombre_exposed         46\n",
    "nombre_recovered    16462\n",
    "Name: 104, dtype: int64"
   ]
  },
  {
   "cell_type": "markdown",
   "id": "d9753e99",
   "metadata": {},
   "source": [
    "nombre_infected        60\n",
    "nombre_sain          3466\n",
    "nombre_exposed         44\n",
    "nombre_recovered    16430\n",
    "Name: 105, dtype: int64"
   ]
  },
  {
   "cell_type": "markdown",
   "id": "080ad2db",
   "metadata": {},
   "source": [
    "nombre_infected        65\n",
    "nombre_sain          3477\n",
    "nombre_exposed         47\n",
    "nombre_recovered    16411\n",
    "Name: 106, dtype: int64"
   ]
  },
  {
   "cell_type": "markdown",
   "id": "be36b6bd",
   "metadata": {},
   "source": [
    "nombre_infected        63\n",
    "nombre_sain          3490\n",
    "nombre_exposed         61\n",
    "nombre_recovered    16386\n",
    "Name: 107, dtype: int64"
   ]
  },
  {
   "cell_type": "markdown",
   "id": "c35b2c15",
   "metadata": {},
   "source": [
    "nombre_infected        66\n",
    "nombre_sain          3520\n",
    "nombre_exposed         59\n",
    "nombre_recovered    16355\n",
    "Name: 108, dtype: int64"
   ]
  },
  {
   "cell_type": "markdown",
   "id": "6adb43bb",
   "metadata": {},
   "source": [
    "nombre_infected        68\n",
    "nombre_sain          3535\n",
    "nombre_exposed         69\n",
    "nombre_recovered    16328\n",
    "Name: 109, dtype: int64"
   ]
  },
  {
   "cell_type": "markdown",
   "id": "4f231654",
   "metadata": {},
   "source": [
    "nombre_infected        75\n",
    "nombre_sain          3556\n",
    "nombre_exposed         66\n",
    "nombre_recovered    16303\n",
    "Name: 110, dtype: int64"
   ]
  },
  {
   "cell_type": "markdown",
   "id": "3ccefc10",
   "metadata": {},
   "source": [
    "nombre_infected        77\n",
    "nombre_sain          3569\n",
    "nombre_exposed         66\n",
    "nombre_recovered    16288\n",
    "Name: 111, dtype: int64"
   ]
  },
  {
   "cell_type": "markdown",
   "id": "32373632",
   "metadata": {},
   "source": [
    "nombre_infected        78\n",
    "nombre_sain          3591\n",
    "nombre_exposed         69\n",
    "nombre_recovered    16262\n",
    "Name: 112, dtype: int64"
   ]
  },
  {
   "cell_type": "markdown",
   "id": "6d228390",
   "metadata": {},
   "source": [
    "nombre_infected        87\n",
    "nombre_sain          3610\n",
    "nombre_exposed         73\n",
    "nombre_recovered    16230\n",
    "Name: 113, dtype: int64"
   ]
  },
  {
   "cell_type": "markdown",
   "id": "84a0e1a7",
   "metadata": {},
   "source": [
    "nombre_infected        93\n",
    "nombre_sain          3628\n",
    "nombre_exposed         73\n",
    "nombre_recovered    16206\n",
    "Name: 114, dtype: int64"
   ]
  },
  {
   "cell_type": "markdown",
   "id": "36a9ce32",
   "metadata": {},
   "source": [
    "nombre_infected       101\n",
    "nombre_sain          3633\n",
    "nombre_exposed         70\n",
    "nombre_recovered    16196\n",
    "Name: 115, dtype: int64"
   ]
  },
  {
   "cell_type": "markdown",
   "id": "8e5cfd71",
   "metadata": {},
   "source": [
    "nombre_infected       109\n",
    "nombre_sain          3651\n",
    "nombre_exposed         72\n",
    "nombre_recovered    16168\n",
    "Name: 116, dtype: int64"
   ]
  },
  {
   "cell_type": "markdown",
   "id": "495e6b01",
   "metadata": {},
   "source": [
    "nombre_infected       111\n",
    "nombre_sain          3662\n",
    "nombre_exposed         83\n",
    "nombre_recovered    16144\n",
    "Name: 117, dtype: int64"
   ]
  },
  {
   "cell_type": "markdown",
   "id": "8aa9641b",
   "metadata": {},
   "source": [
    "nombre_infected       116\n",
    "nombre_sain          3668\n",
    "nombre_exposed         96\n",
    "nombre_recovered    16120\n",
    "Name: 118, dtype: int64"
   ]
  },
  {
   "cell_type": "markdown",
   "id": "9446fd62",
   "metadata": {},
   "source": [
    "nombre_infected       121\n",
    "nombre_sain          3677\n",
    "nombre_exposed         96\n",
    "nombre_recovered    16106\n",
    "Name: 119, dtype: int64"
   ]
  },
  {
   "cell_type": "markdown",
   "id": "c9c41da7",
   "metadata": {},
   "source": [
    "nombre_infected       127\n",
    "nombre_sain          3688\n",
    "nombre_exposed         97\n",
    "nombre_recovered    16088\n",
    "Name: 120, dtype: int64"
   ]
  },
  {
   "cell_type": "markdown",
   "id": "00b0094a",
   "metadata": {},
   "source": [
    "nombre_infected       131\n",
    "nombre_sain          3685\n",
    "nombre_exposed        107\n",
    "nombre_recovered    16077\n",
    "Name: 121, dtype: int64"
   ]
  },
  {
   "cell_type": "markdown",
   "id": "2f2d9a03",
   "metadata": {},
   "source": [
    "nombre_infected       145\n",
    "nombre_sain          3690\n",
    "nombre_exposed        106\n",
    "nombre_recovered    16059\n",
    "Name: 122, dtype: int64"
   ]
  },
  {
   "cell_type": "markdown",
   "id": "77993ecb",
   "metadata": {},
   "source": [
    "nombre_infected       148\n",
    "nombre_sain          3705\n",
    "nombre_exposed        110\n",
    "nombre_recovered    16037\n",
    "Name: 123, dtype: int64"
   ]
  },
  {
   "cell_type": "markdown",
   "id": "ec1c6666",
   "metadata": {},
   "source": [
    "nombre_infected       154\n",
    "nombre_sain          3695\n",
    "nombre_exposed        121\n",
    "nombre_recovered    16030\n",
    "Name: 124, dtype: int64"
   ]
  },
  {
   "cell_type": "markdown",
   "id": "67a21dd9",
   "metadata": {},
   "source": [
    "nombre_infected       169\n",
    "nombre_sain          3695\n",
    "nombre_exposed        114\n",
    "nombre_recovered    16022\n",
    "Name: 125, dtype: int64"
   ]
  },
  {
   "cell_type": "markdown",
   "id": "5b1e01db",
   "metadata": {},
   "source": [
    "nombre_infected       171\n",
    "nombre_sain          3687\n",
    "nombre_exposed        131\n",
    "nombre_recovered    16011\n",
    "Name: 126, dtype: int64"
   ]
  },
  {
   "cell_type": "markdown",
   "id": "b668a667",
   "metadata": {},
   "source": [
    "nombre_infected       171\n",
    "nombre_sain          3676\n",
    "nombre_exposed        148\n",
    "nombre_recovered    16005\n",
    "Name: 127, dtype: int64"
   ]
  },
  {
   "cell_type": "markdown",
   "id": "f098cff4",
   "metadata": {},
   "source": [
    "nombre_infected       183\n",
    "nombre_sain          3667\n",
    "nombre_exposed        154\n",
    "nombre_recovered    15996\n",
    "Name: 128, dtype: int64"
   ]
  },
  {
   "cell_type": "markdown",
   "id": "deed9285",
   "metadata": {},
   "source": [
    "nombre_infected       204\n",
    "nombre_sain          3651\n",
    "nombre_exposed        159\n",
    "nombre_recovered    15986\n",
    "Name: 129, dtype: int64"
   ]
  },
  {
   "cell_type": "markdown",
   "id": "f4453e3f",
   "metadata": {},
   "source": [
    "nombre_infected       220\n",
    "nombre_sain          3616\n",
    "nombre_exposed        176\n",
    "nombre_recovered    15988\n",
    "Name: 130, dtype: int64"
   ]
  },
  {
   "cell_type": "markdown",
   "id": "aa19e00c",
   "metadata": {},
   "source": [
    "nombre_infected       247\n",
    "nombre_sain          3587\n",
    "nombre_exposed        177\n",
    "nombre_recovered    15989\n",
    "Name: 131, dtype: int64"
   ]
  },
  {
   "cell_type": "markdown",
   "id": "f116b3d2",
   "metadata": {},
   "source": [
    "nombre_infected       249\n",
    "nombre_sain          3537\n",
    "nombre_exposed        214\n",
    "nombre_recovered    16000\n",
    "Name: 132, dtype: int64"
   ]
  },
  {
   "cell_type": "markdown",
   "id": "192561db",
   "metadata": {},
   "source": [
    "nombre_infected       254\n",
    "nombre_sain          3504\n",
    "nombre_exposed        235\n",
    "nombre_recovered    16007\n",
    "Name: 133, dtype: int64"
   ]
  },
  {
   "cell_type": "markdown",
   "id": "c0fde152",
   "metadata": {},
   "source": [
    "nombre_infected       272\n",
    "nombre_sain          3471\n",
    "nombre_exposed        236\n",
    "nombre_recovered    16021\n",
    "Name: 134, dtype: int64"
   ]
  },
  {
   "cell_type": "markdown",
   "id": "5d85bc9d",
   "metadata": {},
   "source": [
    "nombre_infected       289\n",
    "nombre_sain          3441\n",
    "nombre_exposed        253\n",
    "nombre_recovered    16017\n",
    "Name: 135, dtype: int64"
   ]
  },
  {
   "cell_type": "markdown",
   "id": "6fea6375",
   "metadata": {},
   "source": [
    "nombre_infected       313\n",
    "nombre_sain          3405\n",
    "nombre_exposed        271\n",
    "nombre_recovered    16011\n",
    "Name: 136, dtype: int64"
   ]
  },
  {
   "cell_type": "markdown",
   "id": "bc9b341b",
   "metadata": {},
   "source": [
    "nombre_infected       314\n",
    "nombre_sain          3363\n",
    "nombre_exposed        307\n",
    "nombre_recovered    16016\n",
    "Name: 137, dtype: int64"
   ]
  },
  {
   "cell_type": "markdown",
   "id": "bb9acb47",
   "metadata": {},
   "source": [
    "nombre_infected       330\n",
    "nombre_sain          3351\n",
    "nombre_exposed        311\n",
    "nombre_recovered    16008\n",
    "Name: 138, dtype: int64"
   ]
  },
  {
   "cell_type": "markdown",
   "id": "3569af5d",
   "metadata": {},
   "source": [
    "nombre_infected       375\n",
    "nombre_sain          3319\n",
    "nombre_exposed        312\n",
    "nombre_recovered    15994\n",
    "Name: 139, dtype: int64"
   ]
  },
  {
   "cell_type": "markdown",
   "id": "c810d95a",
   "metadata": {},
   "source": [
    "nombre_infected       387\n",
    "nombre_sain          3313\n",
    "nombre_exposed        322\n",
    "nombre_recovered    15978\n",
    "Name: 140, dtype: int64"
   ]
  },
  {
   "cell_type": "markdown",
   "id": "3cb09cd7",
   "metadata": {},
   "source": [
    "nombre_infected       433\n",
    "nombre_sain          3273\n",
    "nombre_exposed        321\n",
    "nombre_recovered    15973\n",
    "Name: 141, dtype: int64"
   ]
  },
  {
   "cell_type": "markdown",
   "id": "75d15b51",
   "metadata": {},
   "source": [
    "nombre_infected       471\n",
    "nombre_sain          3223\n",
    "nombre_exposed        326\n",
    "nombre_recovered    15980\n",
    "Name: 142, dtype: int64"
   ]
  },
  {
   "cell_type": "markdown",
   "id": "9b73ba2e",
   "metadata": {},
   "source": [
    "nombre_infected       489\n",
    "nombre_sain          3163\n",
    "nombre_exposed        359\n",
    "nombre_recovered    15989\n",
    "Name: 143, dtype: int64"
   ]
  },
  {
   "cell_type": "markdown",
   "id": "49926037",
   "metadata": {},
   "source": [
    "nombre_infected       508\n",
    "nombre_sain          3118\n",
    "nombre_exposed        384\n",
    "nombre_recovered    15990\n",
    "Name: 144, dtype: int64"
   ]
  },
  {
   "cell_type": "markdown",
   "id": "8bc95f91",
   "metadata": {},
   "source": [
    "nombre_infected       538\n",
    "nombre_sain          3044\n",
    "nombre_exposed        411\n",
    "nombre_recovered    16007\n",
    "Name: 145, dtype: int64"
   ]
  },
  {
   "cell_type": "markdown",
   "id": "ef07413d",
   "metadata": {},
   "source": [
    "nombre_infected       581\n",
    "nombre_sain          2998\n",
    "nombre_exposed        407\n",
    "nombre_recovered    16014\n",
    "Name: 146, dtype: int64"
   ]
  },
  {
   "cell_type": "markdown",
   "id": "6c5b2196",
   "metadata": {},
   "source": [
    "nombre_infected       602\n",
    "nombre_sain          2939\n",
    "nombre_exposed        424\n",
    "nombre_recovered    16035\n",
    "Name: 147, dtype: int64"
   ]
  },
  {
   "cell_type": "markdown",
   "id": "a4523111",
   "metadata": {},
   "source": [
    "nombre_infected       629\n",
    "nombre_sain          2871\n",
    "nombre_exposed        423\n",
    "nombre_recovered    16077\n",
    "Name: 148, dtype: int64"
   ]
  },
  {
   "cell_type": "markdown",
   "id": "61a393ee",
   "metadata": {},
   "source": [
    "nombre_infected       645\n",
    "nombre_sain          2801\n",
    "nombre_exposed        432\n",
    "nombre_recovered    16122\n",
    "Name: 149, dtype: int64"
   ]
  },
  {
   "cell_type": "markdown",
   "id": "591e8155",
   "metadata": {},
   "source": [
    "nombre_infected       657\n",
    "nombre_sain          2742\n",
    "nombre_exposed        438\n",
    "nombre_recovered    16163\n",
    "Name: 150, dtype: int64"
   ]
  },
  {
   "cell_type": "markdown",
   "id": "33dab3be",
   "metadata": {},
   "source": [
    "nombre_infected       693\n",
    "nombre_sain          2694\n",
    "nombre_exposed        428\n",
    "nombre_recovered    16185\n",
    "Name: 151, dtype: int64"
   ]
  },
  {
   "cell_type": "markdown",
   "id": "8bbab1dd",
   "metadata": {},
   "source": [
    "nombre_infected       719\n",
    "nombre_sain          2603\n",
    "nombre_exposed        462\n",
    "nombre_recovered    16216\n",
    "Name: 152, dtype: int64"
   ]
  },
  {
   "cell_type": "markdown",
   "id": "0b27de8d",
   "metadata": {},
   "source": [
    "nombre_infected       724\n",
    "nombre_sain          2524\n",
    "nombre_exposed        499\n",
    "nombre_recovered    16253\n",
    "Name: 153, dtype: int64"
   ]
  },
  {
   "cell_type": "markdown",
   "id": "5c4c2732",
   "metadata": {},
   "source": [
    "nombre_infected       756\n",
    "nombre_sain          2456\n",
    "nombre_exposed        492\n",
    "nombre_recovered    16296\n",
    "Name: 154, dtype: int64"
   ]
  },
  {
   "cell_type": "markdown",
   "id": "8f975238",
   "metadata": {},
   "source": [
    "nombre_infected       783\n",
    "nombre_sain          2389\n",
    "nombre_exposed        497\n",
    "nombre_recovered    16331\n",
    "Name: 155, dtype: int64"
   ]
  },
  {
   "cell_type": "markdown",
   "id": "5518b3d0",
   "metadata": {},
   "source": [
    "nombre_infected       803\n",
    "nombre_sain          2322\n",
    "nombre_exposed        510\n",
    "nombre_recovered    16365\n",
    "Name: 156, dtype: int64"
   ]
  },
  {
   "cell_type": "markdown",
   "id": "08581b35",
   "metadata": {},
   "source": [
    "nombre_infected       835\n",
    "nombre_sain          2252\n",
    "nombre_exposed        513\n",
    "nombre_recovered    16400\n",
    "Name: 157, dtype: int64"
   ]
  },
  {
   "cell_type": "markdown",
   "id": "538c0807",
   "metadata": {},
   "source": [
    "nombre_infected       839\n",
    "nombre_sain          2194\n",
    "nombre_exposed        523\n",
    "nombre_recovered    16444\n",
    "Name: 158, dtype: int64"
   ]
  },
  {
   "cell_type": "markdown",
   "id": "2edf9a9c",
   "metadata": {},
   "source": [
    "nombre_infected       838\n",
    "nombre_sain          2142\n",
    "nombre_exposed        522\n",
    "nombre_recovered    16498\n",
    "Name: 159, dtype: int64"
   ]
  },
  {
   "cell_type": "markdown",
   "id": "2a83b886",
   "metadata": {},
   "source": [
    "nombre_infected       861\n",
    "nombre_sain          2096\n",
    "nombre_exposed        480\n",
    "nombre_recovered    16563\n",
    "Name: 160, dtype: int64"
   ]
  },
  {
   "cell_type": "markdown",
   "id": "21058205",
   "metadata": {},
   "source": [
    "nombre_infected       860\n",
    "nombre_sain          2061\n",
    "nombre_exposed        475\n",
    "nombre_recovered    16604\n",
    "Name: 161, dtype: int64"
   ]
  },
  {
   "cell_type": "markdown",
   "id": "139c5a8b",
   "metadata": {},
   "source": [
    "nombre_infected       888\n",
    "nombre_sain          2035\n",
    "nombre_exposed        454\n",
    "nombre_recovered    16623\n",
    "Name: 162, dtype: int64"
   ]
  },
  {
   "cell_type": "markdown",
   "id": "2429fc91",
   "metadata": {},
   "source": [
    "nombre_infected       882\n",
    "nombre_sain          2001\n",
    "nombre_exposed        445\n",
    "nombre_recovered    16672\n",
    "Name: 163, dtype: int64"
   ]
  },
  {
   "cell_type": "markdown",
   "id": "6367d30e",
   "metadata": {},
   "source": [
    "nombre_infected       868\n",
    "nombre_sain          1961\n",
    "nombre_exposed        439\n",
    "nombre_recovered    16732\n",
    "Name: 164, dtype: int64"
   ]
  },
  {
   "cell_type": "markdown",
   "id": "25193953",
   "metadata": {},
   "source": [
    "nombre_infected       860\n",
    "nombre_sain          1930\n",
    "nombre_exposed        425\n",
    "nombre_recovered    16785\n",
    "Name: 165, dtype: int64"
   ]
  },
  {
   "cell_type": "markdown",
   "id": "b8eb432a",
   "metadata": {},
   "source": [
    "nombre_infected       840\n",
    "nombre_sain          1903\n",
    "nombre_exposed        422\n",
    "nombre_recovered    16835\n",
    "Name: 166, dtype: int64"
   ]
  },
  {
   "cell_type": "markdown",
   "id": "2ac6c735",
   "metadata": {},
   "source": [
    "nombre_infected       828\n",
    "nombre_sain          1883\n",
    "nombre_exposed        416\n",
    "nombre_recovered    16873\n",
    "Name: 167, dtype: int64"
   ]
  },
  {
   "cell_type": "markdown",
   "id": "de5d769c",
   "metadata": {},
   "source": [
    "nombre_infected       814\n",
    "nombre_sain          1820\n",
    "nombre_exposed        434\n",
    "nombre_recovered    16932\n",
    "Name: 168, dtype: int64"
   ]
  },
  {
   "cell_type": "markdown",
   "id": "b4733374",
   "metadata": {},
   "source": [
    "nombre_infected       825\n",
    "nombre_sain          1772\n",
    "nombre_exposed        439\n",
    "nombre_recovered    16964\n",
    "Name: 169, dtype: int64"
   ]
  },
  {
   "cell_type": "markdown",
   "id": "7b5cc190",
   "metadata": {},
   "source": [
    "nombre_infected       816\n",
    "nombre_sain          1750\n",
    "nombre_exposed        442\n",
    "nombre_recovered    16992\n",
    "Name: 170, dtype: int64"
   ]
  },
  {
   "cell_type": "markdown",
   "id": "5b704109",
   "metadata": {},
   "source": [
    "nombre_infected       793\n",
    "nombre_sain          1741\n",
    "nombre_exposed        443\n",
    "nombre_recovered    17023\n",
    "Name: 171, dtype: int64"
   ]
  },
  {
   "cell_type": "markdown",
   "id": "2ee28b07",
   "metadata": {},
   "source": [
    "nombre_infected       798\n",
    "nombre_sain          1742\n",
    "nombre_exposed        411\n",
    "nombre_recovered    17049\n",
    "Name: 172, dtype: int64"
   ]
  },
  {
   "cell_type": "markdown",
   "id": "b9e47882",
   "metadata": {},
   "source": [
    "nombre_infected       751\n",
    "nombre_sain          1734\n",
    "nombre_exposed        427\n",
    "nombre_recovered    17088\n",
    "Name: 173, dtype: int64"
   ]
  },
  {
   "cell_type": "markdown",
   "id": "95761e1e",
   "metadata": {},
   "source": [
    "nombre_infected       765\n",
    "nombre_sain          1741\n",
    "nombre_exposed        405\n",
    "nombre_recovered    17089\n",
    "Name: 174, dtype: int64"
   ]
  },
  {
   "cell_type": "markdown",
   "id": "f9a115a0",
   "metadata": {},
   "source": [
    "nombre_infected       768\n",
    "nombre_sain          1741\n",
    "nombre_exposed        388\n",
    "nombre_recovered    17103\n",
    "Name: 175, dtype: int64"
   ]
  },
  {
   "cell_type": "markdown",
   "id": "d5fe0aca",
   "metadata": {},
   "source": [
    "nombre_infected       747\n",
    "nombre_sain          1727\n",
    "nombre_exposed        390\n",
    "nombre_recovered    17136\n",
    "Name: 176, dtype: int64"
   ]
  },
  {
   "cell_type": "markdown",
   "id": "b2fc1bac",
   "metadata": {},
   "source": [
    "nombre_infected       742\n",
    "nombre_sain          1728\n",
    "nombre_exposed        404\n",
    "nombre_recovered    17126\n",
    "Name: 177, dtype: int64"
   ]
  },
  {
   "cell_type": "markdown",
   "id": "2c5d0fb9",
   "metadata": {},
   "source": [
    "nombre_infected       719\n",
    "nombre_sain          1713\n",
    "nombre_exposed        406\n",
    "nombre_recovered    17162\n",
    "Name: 178, dtype: int64"
   ]
  },
  {
   "cell_type": "markdown",
   "id": "6f10ec71",
   "metadata": {},
   "source": [
    "nombre_infected       712\n",
    "nombre_sain          1715\n",
    "nombre_exposed        387\n",
    "nombre_recovered    17186\n",
    "Name: 179, dtype: int64"
   ]
  },
  {
   "cell_type": "markdown",
   "id": "90786903",
   "metadata": {},
   "source": [
    "nombre_infected       718\n",
    "nombre_sain          1738\n",
    "nombre_exposed        356\n",
    "nombre_recovered    17188\n",
    "Name: 180, dtype: int64"
   ]
  },
  {
   "cell_type": "markdown",
   "id": "c443cc07",
   "metadata": {},
   "source": [
    "nombre_infected       712\n",
    "nombre_sain          1725\n",
    "nombre_exposed        356\n",
    "nombre_recovered    17207\n",
    "Name: 181, dtype: int64"
   ]
  },
  {
   "cell_type": "markdown",
   "id": "f0d1325b",
   "metadata": {},
   "source": [
    "nombre_infected       718\n",
    "nombre_sain          1739\n",
    "nombre_exposed        336\n",
    "nombre_recovered    17207\n",
    "Name: 182, dtype: int64"
   ]
  },
  {
   "cell_type": "markdown",
   "id": "e42c09a4",
   "metadata": {},
   "source": [
    "nombre_infected       711\n",
    "nombre_sain          1750\n",
    "nombre_exposed        318\n",
    "nombre_recovered    17221\n",
    "Name: 183, dtype: int64"
   ]
  },
  {
   "cell_type": "markdown",
   "id": "919f028e",
   "metadata": {},
   "source": [
    "nombre_infected       681\n",
    "nombre_sain          1742\n",
    "nombre_exposed        341\n",
    "nombre_recovered    17236\n",
    "Name: 184, dtype: int64"
   ]
  },
  {
   "cell_type": "markdown",
   "id": "b9055a3f",
   "metadata": {},
   "source": [
    "nombre_infected       676\n",
    "nombre_sain          1746\n",
    "nombre_exposed        340\n",
    "nombre_recovered    17238\n",
    "Name: 185, dtype: int64"
   ]
  },
  {
   "cell_type": "markdown",
   "id": "b00c4a16",
   "metadata": {},
   "source": [
    "nombre_infected       669\n",
    "nombre_sain          1756\n",
    "nombre_exposed        338\n",
    "nombre_recovered    17237\n",
    "Name: 186, dtype: int64"
   ]
  },
  {
   "cell_type": "markdown",
   "id": "2e78f9a9",
   "metadata": {},
   "source": [
    "nombre_infected       667\n",
    "nombre_sain          1781\n",
    "nombre_exposed        328\n",
    "nombre_recovered    17224\n",
    "Name: 187, dtype: int64"
   ]
  },
  {
   "cell_type": "markdown",
   "id": "53ea690f",
   "metadata": {},
   "source": [
    "nombre_infected       647\n",
    "nombre_sain          1804\n",
    "nombre_exposed        317\n",
    "nombre_recovered    17232\n",
    "Name: 188, dtype: int64"
   ]
  },
  {
   "cell_type": "markdown",
   "id": "abc07f01",
   "metadata": {},
   "source": [
    "nombre_infected       638\n",
    "nombre_sain          1825\n",
    "nombre_exposed        324\n",
    "nombre_recovered    17213\n",
    "Name: 189, dtype: int64"
   ]
  },
  {
   "cell_type": "markdown",
   "id": "751970b8",
   "metadata": {},
   "source": [
    "nombre_infected       618\n",
    "nombre_sain          1857\n",
    "nombre_exposed        311\n",
    "nombre_recovered    17214\n",
    "Name: 190, dtype: int64"
   ]
  },
  {
   "cell_type": "markdown",
   "id": "afbfec79",
   "metadata": {},
   "source": [
    "nombre_infected       621\n",
    "nombre_sain          1880\n",
    "nombre_exposed        303\n",
    "nombre_recovered    17196\n",
    "Name: 191, dtype: int64"
   ]
  },
  {
   "cell_type": "markdown",
   "id": "a1f64996",
   "metadata": {},
   "source": [
    "nombre_infected       613\n",
    "nombre_sain          1896\n",
    "nombre_exposed        298\n",
    "nombre_recovered    17193\n",
    "Name: 192, dtype: int64"
   ]
  },
  {
   "cell_type": "markdown",
   "id": "d913b891",
   "metadata": {},
   "source": [
    "nombre_infected       600\n",
    "nombre_sain          1921\n",
    "nombre_exposed        304\n",
    "nombre_recovered    17175\n",
    "Name: 193, dtype: int64"
   ]
  },
  {
   "cell_type": "markdown",
   "id": "d78f633c",
   "metadata": {},
   "source": [
    "nombre_infected       595\n",
    "nombre_sain          1943\n",
    "nombre_exposed        303\n",
    "nombre_recovered    17159\n",
    "Name: 194, dtype: int64"
   ]
  },
  {
   "cell_type": "markdown",
   "id": "84865a47",
   "metadata": {},
   "source": [
    "nombre_infected       600\n",
    "nombre_sain          1947\n",
    "nombre_exposed        289\n",
    "nombre_recovered    17164\n",
    "Name: 195, dtype: int64"
   ]
  },
  {
   "cell_type": "markdown",
   "id": "3818e957",
   "metadata": {},
   "source": [
    "nombre_infected       589\n",
    "nombre_sain          1979\n",
    "nombre_exposed        287\n",
    "nombre_recovered    17145\n",
    "Name: 196, dtype: int64"
   ]
  },
  {
   "cell_type": "markdown",
   "id": "942c12cd",
   "metadata": {},
   "source": [
    "nombre_infected       585\n",
    "nombre_sain          1995\n",
    "nombre_exposed        289\n",
    "nombre_recovered    17131\n",
    "Name: 197, dtype: int64"
   ]
  },
  {
   "cell_type": "markdown",
   "id": "fbc8bb79",
   "metadata": {},
   "source": [
    "nombre_infected       593\n",
    "nombre_sain          2001\n",
    "nombre_exposed        276\n",
    "nombre_recovered    17130\n",
    "Name: 198, dtype: int64"
   ]
  },
  {
   "cell_type": "markdown",
   "id": "6752b7b3",
   "metadata": {},
   "source": [
    "nombre_infected       578\n",
    "nombre_sain          2013\n",
    "nombre_exposed        275\n",
    "nombre_recovered    17134\n",
    "Name: 199, dtype: int64"
   ]
  },
  {
   "cell_type": "markdown",
   "id": "e9ab69bb",
   "metadata": {},
   "source": [
    "nombre_infected       569\n",
    "nombre_sain          2032\n",
    "nombre_exposed        282\n",
    "nombre_recovered    17117\n",
    "Name: 200, dtype: int64"
   ]
  },
  {
   "cell_type": "markdown",
   "id": "9c26b3a7",
   "metadata": {},
   "source": [
    "nombre_infected       567\n",
    "nombre_sain          2038\n",
    "nombre_exposed        305\n",
    "nombre_recovered    17090\n",
    "Name: 201, dtype: int64"
   ]
  },
  {
   "cell_type": "markdown",
   "id": "4be16221",
   "metadata": {},
   "source": [
    "nombre_infected       538\n",
    "nombre_sain          2082\n",
    "nombre_exposed        308\n",
    "nombre_recovered    17072\n",
    "Name: 202, dtype: int64"
   ]
  },
  {
   "cell_type": "markdown",
   "id": "0c8bacb3",
   "metadata": {},
   "source": [
    "nombre_infected       515\n",
    "nombre_sain          2122\n",
    "nombre_exposed        308\n",
    "nombre_recovered    17055\n",
    "Name: 203, dtype: int64"
   ]
  },
  {
   "cell_type": "markdown",
   "id": "8dfd11b8",
   "metadata": {},
   "source": [
    "nombre_infected       526\n",
    "nombre_sain          2160\n",
    "nombre_exposed        299\n",
    "nombre_recovered    17015\n",
    "Name: 204, dtype: int64"
   ]
  },
  {
   "cell_type": "markdown",
   "id": "7c90100a",
   "metadata": {},
   "source": [
    "nombre_infected       530\n",
    "nombre_sain          2172\n",
    "nombre_exposed        295\n",
    "nombre_recovered    17003\n",
    "Name: 205, dtype: int64"
   ]
  },
  {
   "cell_type": "markdown",
   "id": "f6c304e8",
   "metadata": {},
   "source": [
    "nombre_infected       531\n",
    "nombre_sain          2210\n",
    "nombre_exposed        305\n",
    "nombre_recovered    16954\n",
    "Name: 206, dtype: int64"
   ]
  },
  {
   "cell_type": "markdown",
   "id": "8462aff6",
   "metadata": {},
   "source": [
    "nombre_infected       520\n",
    "nombre_sain          2239\n",
    "nombre_exposed        322\n",
    "nombre_recovered    16919\n",
    "Name: 207, dtype: int64"
   ]
  },
  {
   "cell_type": "markdown",
   "id": "fc1b7502",
   "metadata": {},
   "source": [
    "nombre_infected       542\n",
    "nombre_sain          2245\n",
    "nombre_exposed        337\n",
    "nombre_recovered    16876\n",
    "Name: 208, dtype: int64"
   ]
  },
  {
   "cell_type": "markdown",
   "id": "3fbb2f7f",
   "metadata": {},
   "source": [
    "nombre_infected       565\n",
    "nombre_sain          2264\n",
    "nombre_exposed        340\n",
    "nombre_recovered    16831\n",
    "Name: 209, dtype: int64"
   ]
  },
  {
   "cell_type": "markdown",
   "id": "9ed4ac74",
   "metadata": {},
   "source": [
    "nombre_infected       572\n",
    "nombre_sain          2303\n",
    "nombre_exposed        340\n",
    "nombre_recovered    16785\n",
    "Name: 210, dtype: int64"
   ]
  },
  {
   "cell_type": "markdown",
   "id": "ac8b4178",
   "metadata": {},
   "source": [
    "nombre_infected       587\n",
    "nombre_sain          2349\n",
    "nombre_exposed        323\n",
    "nombre_recovered    16741\n",
    "Name: 211, dtype: int64"
   ]
  },
  {
   "cell_type": "markdown",
   "id": "8482d0ac",
   "metadata": {},
   "source": [
    "nombre_infected       582\n",
    "nombre_sain          2399\n",
    "nombre_exposed        334\n",
    "nombre_recovered    16685\n",
    "Name: 212, dtype: int64"
   ]
  },
  {
   "cell_type": "markdown",
   "id": "90f7dc75",
   "metadata": {},
   "source": [
    "nombre_infected       569\n",
    "nombre_sain          2421\n",
    "nombre_exposed        352\n",
    "nombre_recovered    16658\n",
    "Name: 213, dtype: int64"
   ]
  },
  {
   "cell_type": "markdown",
   "id": "1ec7ef19",
   "metadata": {},
   "source": [
    "nombre_infected       570\n",
    "nombre_sain          2440\n",
    "nombre_exposed        364\n",
    "nombre_recovered    16626\n",
    "Name: 214, dtype: int64"
   ]
  },
  {
   "cell_type": "markdown",
   "id": "c12ad699",
   "metadata": {},
   "source": [
    "nombre_infected       580\n",
    "nombre_sain          2462\n",
    "nombre_exposed        366\n",
    "nombre_recovered    16592\n",
    "Name: 215, dtype: int64"
   ]
  },
  {
   "cell_type": "markdown",
   "id": "6dd2be92",
   "metadata": {},
   "source": [
    "nombre_infected       575\n",
    "nombre_sain          2481\n",
    "nombre_exposed        394\n",
    "nombre_recovered    16550\n",
    "Name: 216, dtype: int64"
   ]
  },
  {
   "cell_type": "markdown",
   "id": "856f574c",
   "metadata": {},
   "source": [
    "nombre_infected       603\n",
    "nombre_sain          2502\n",
    "nombre_exposed        399\n",
    "nombre_recovered    16496\n",
    "Name: 217, dtype: int64"
   ]
  },
  {
   "cell_type": "markdown",
   "id": "c2218bd5",
   "metadata": {},
   "source": [
    "nombre_infected       633\n",
    "nombre_sain          2551\n",
    "nombre_exposed        373\n",
    "nombre_recovered    16443\n",
    "Name: 218, dtype: int64"
   ]
  },
  {
   "cell_type": "markdown",
   "id": "c7dd2779",
   "metadata": {},
   "source": [
    "nombre_infected       667\n",
    "nombre_sain          2604\n",
    "nombre_exposed        380\n",
    "nombre_recovered    16349\n",
    "Name: 219, dtype: int64"
   ]
  },
  {
   "cell_type": "markdown",
   "id": "5e86dd46",
   "metadata": {},
   "source": [
    "nombre_infected       679\n",
    "nombre_sain          2623\n",
    "nombre_exposed        396\n",
    "nombre_recovered    16302\n",
    "Name: 220, dtype: int64"
   ]
  },
  {
   "cell_type": "markdown",
   "id": "8cc0ac1d",
   "metadata": {},
   "source": [
    "nombre_infected       652\n",
    "nombre_sain          2663\n",
    "nombre_exposed        433\n",
    "nombre_recovered    16252\n",
    "Name: 221, dtype: int64"
   ]
  },
  {
   "cell_type": "markdown",
   "id": "882fc572",
   "metadata": {},
   "source": [
    "nombre_infected       659\n",
    "nombre_sain          2712\n",
    "nombre_exposed        448\n",
    "nombre_recovered    16181\n",
    "Name: 222, dtype: int64"
   ]
  },
  {
   "cell_type": "markdown",
   "id": "68441c03",
   "metadata": {},
   "source": [
    "nombre_infected       687\n",
    "nombre_sain          2746\n",
    "nombre_exposed        446\n",
    "nombre_recovered    16121\n",
    "Name: 223, dtype: int64"
   ]
  },
  {
   "cell_type": "markdown",
   "id": "0acd330a",
   "metadata": {},
   "source": [
    "nombre_infected       725\n",
    "nombre_sain          2745\n",
    "nombre_exposed        464\n",
    "nombre_recovered    16066\n",
    "Name: 224, dtype: int64"
   ]
  },
  {
   "cell_type": "markdown",
   "id": "5981951b",
   "metadata": {},
   "source": [
    "nombre_infected       738\n",
    "nombre_sain          2755\n",
    "nombre_exposed        483\n",
    "nombre_recovered    16024\n",
    "Name: 225, dtype: int64"
   ]
  },
  {
   "cell_type": "markdown",
   "id": "b2d63b21",
   "metadata": {},
   "source": [
    "nombre_infected       772\n",
    "nombre_sain          2734\n",
    "nombre_exposed        506\n",
    "nombre_recovered    15988\n",
    "Name: 226, dtype: int64"
   ]
  },
  {
   "cell_type": "markdown",
   "id": "89baf48c",
   "metadata": {},
   "source": [
    "nombre_infected       808\n",
    "nombre_sain          2767\n",
    "nombre_exposed        505\n",
    "nombre_recovered    15920\n",
    "Name: 227, dtype: int64"
   ]
  },
  {
   "cell_type": "markdown",
   "id": "f7c5db9d",
   "metadata": {},
   "source": [
    "nombre_infected       836\n",
    "nombre_sain          2755\n",
    "nombre_exposed        535\n",
    "nombre_recovered    15874\n",
    "Name: 228, dtype: int64"
   ]
  },
  {
   "cell_type": "markdown",
   "id": "ae6a3640",
   "metadata": {},
   "source": [
    "nombre_infected       852\n",
    "nombre_sain          2716\n",
    "nombre_exposed        562\n",
    "nombre_recovered    15870\n",
    "Name: 229, dtype: int64"
   ]
  },
  {
   "cell_type": "markdown",
   "id": "daf03dc0",
   "metadata": {},
   "source": [
    "nombre_infected       875\n",
    "nombre_sain          2669\n",
    "nombre_exposed        581\n",
    "nombre_recovered    15875\n",
    "Name: 230, dtype: int64"
   ]
  },
  {
   "cell_type": "markdown",
   "id": "898b82c6",
   "metadata": {},
   "source": [
    "nombre_infected       904\n",
    "nombre_sain          2638\n",
    "nombre_exposed        597\n",
    "nombre_recovered    15861\n",
    "Name: 231, dtype: int64"
   ]
  },
  {
   "cell_type": "markdown",
   "id": "9065f849",
   "metadata": {},
   "source": [
    "nombre_infected       950\n",
    "nombre_sain          2583\n",
    "nombre_exposed        589\n",
    "nombre_recovered    15878\n",
    "Name: 232, dtype: int64"
   ]
  },
  {
   "cell_type": "markdown",
   "id": "0819e894",
   "metadata": {},
   "source": [
    "nombre_infected       977\n",
    "nombre_sain          2514\n",
    "nombre_exposed        607\n",
    "nombre_recovered    15902\n",
    "Name: 233, dtype: int64"
   ]
  },
  {
   "cell_type": "markdown",
   "id": "5935acc0",
   "metadata": {},
   "source": [
    "nombre_infected       976\n",
    "nombre_sain          2480\n",
    "nombre_exposed        627\n",
    "nombre_recovered    15917\n",
    "Name: 234, dtype: int64"
   ]
  },
  {
   "cell_type": "markdown",
   "id": "334ca17d",
   "metadata": {},
   "source": [
    "nombre_infected       971\n",
    "nombre_sain          2447\n",
    "nombre_exposed        643\n",
    "nombre_recovered    15939\n",
    "Name: 235, dtype: int64"
   ]
  },
  {
   "cell_type": "markdown",
   "id": "d7b47904",
   "metadata": {},
   "source": [
    "nombre_infected       986\n",
    "nombre_sain          2412\n",
    "nombre_exposed        671\n",
    "nombre_recovered    15931\n",
    "Name: 236, dtype: int64"
   ]
  },
  {
   "cell_type": "markdown",
   "id": "d5136551",
   "metadata": {},
   "source": [
    "nombre_infected      1010\n",
    "nombre_sain          2406\n",
    "nombre_exposed        649\n",
    "nombre_recovered    15935\n",
    "Name: 237, dtype: int64"
   ]
  },
  {
   "cell_type": "markdown",
   "id": "acdc9702",
   "metadata": {},
   "source": [
    "nombre_infected      1059\n",
    "nombre_sain          2400\n",
    "nombre_exposed        619\n",
    "nombre_recovered    15922\n",
    "Name: 238, dtype: int64"
   ]
  },
  {
   "cell_type": "markdown",
   "id": "658ab9ad",
   "metadata": {},
   "source": [
    "nombre_infected      1068\n",
    "nombre_sain          2367\n",
    "nombre_exposed        639\n",
    "nombre_recovered    15926\n",
    "Name: 239, dtype: int64"
   ]
  },
  {
   "cell_type": "markdown",
   "id": "803f08e6",
   "metadata": {},
   "source": [
    "nombre_infected      1071\n",
    "nombre_sain          2320\n",
    "nombre_exposed        655\n",
    "nombre_recovered    15954\n",
    "Name: 240, dtype: int64"
   ]
  },
  {
   "cell_type": "markdown",
   "id": "d7e7129e",
   "metadata": {},
   "source": [
    "nombre_infected      1057\n",
    "nombre_sain          2254\n",
    "nombre_exposed        664\n",
    "nombre_recovered    16025\n",
    "Name: 241, dtype: int64"
   ]
  },
  {
   "cell_type": "markdown",
   "id": "f4b5153c",
   "metadata": {},
   "source": [
    "nombre_infected      1073\n",
    "nombre_sain          2214\n",
    "nombre_exposed        644\n",
    "nombre_recovered    16069\n",
    "Name: 242, dtype: int64"
   ]
  },
  {
   "cell_type": "markdown",
   "id": "90049613",
   "metadata": {},
   "source": [
    "nombre_infected      1100\n",
    "nombre_sain          2151\n",
    "nombre_exposed        634\n",
    "nombre_recovered    16115\n",
    "Name: 243, dtype: int64"
   ]
  },
  {
   "cell_type": "markdown",
   "id": "d2568e9d",
   "metadata": {},
   "source": [
    "nombre_infected      1085\n",
    "nombre_sain          2107\n",
    "nombre_exposed        637\n",
    "nombre_recovered    16171\n",
    "Name: 244, dtype: int64"
   ]
  },
  {
   "cell_type": "markdown",
   "id": "a15bc143",
   "metadata": {},
   "source": [
    "nombre_infected      1072\n",
    "nombre_sain          2079\n",
    "nombre_exposed        610\n",
    "nombre_recovered    16239\n",
    "Name: 245, dtype: int64"
   ]
  },
  {
   "cell_type": "markdown",
   "id": "28b2f6ce",
   "metadata": {},
   "source": [
    "nombre_infected      1090\n",
    "nombre_sain          2052\n",
    "nombre_exposed        575\n",
    "nombre_recovered    16283\n",
    "Name: 246, dtype: int64"
   ]
  },
  {
   "cell_type": "markdown",
   "id": "b3a031a6",
   "metadata": {},
   "source": [
    "nombre_infected      1061\n",
    "nombre_sain          2020\n",
    "nombre_exposed        586\n",
    "nombre_recovered    16333\n",
    "Name: 247, dtype: int64"
   ]
  },
  {
   "cell_type": "markdown",
   "id": "deb4d79e",
   "metadata": {},
   "source": [
    "nombre_infected      1063\n",
    "nombre_sain          1991\n",
    "nombre_exposed        565\n",
    "nombre_recovered    16381\n",
    "Name: 248, dtype: int64"
   ]
  },
  {
   "cell_type": "markdown",
   "id": "c512c3bb",
   "metadata": {},
   "source": [
    "nombre_infected      1038\n",
    "nombre_sain          1923\n",
    "nombre_exposed        577\n",
    "nombre_recovered    16462\n",
    "Name: 249, dtype: int64"
   ]
  },
  {
   "cell_type": "markdown",
   "id": "3450334d",
   "metadata": {},
   "source": [
    "nombre_infected      1014\n",
    "nombre_sain          1885\n",
    "nombre_exposed        581\n",
    "nombre_recovered    16520\n",
    "Name: 250, dtype: int64"
   ]
  },
  {
   "cell_type": "markdown",
   "id": "8c3c2b30",
   "metadata": {},
   "source": [
    "nombre_infected      1051\n",
    "nombre_sain          1882\n",
    "nombre_exposed        536\n",
    "nombre_recovered    16531\n",
    "Name: 251, dtype: int64"
   ]
  },
  {
   "cell_type": "markdown",
   "id": "fa283591",
   "metadata": {},
   "source": [
    "nombre_infected      1042\n",
    "nombre_sain          1859\n",
    "nombre_exposed        527\n",
    "nombre_recovered    16572\n",
    "Name: 252, dtype: int64"
   ]
  },
  {
   "cell_type": "markdown",
   "id": "9b59aaac",
   "metadata": {},
   "source": [
    "nombre_infected      1053\n",
    "nombre_sain          1839\n",
    "nombre_exposed        518\n",
    "nombre_recovered    16590\n",
    "Name: 253, dtype: int64"
   ]
  },
  {
   "cell_type": "markdown",
   "id": "e626ce8a",
   "metadata": {},
   "source": [
    "nombre_infected      1055\n",
    "nombre_sain          1802\n",
    "nombre_exposed        503\n",
    "nombre_recovered    16640\n",
    "Name: 254, dtype: int64"
   ]
  },
  {
   "cell_type": "markdown",
   "id": "831f4bdd",
   "metadata": {},
   "source": [
    "nombre_infected      1036\n",
    "nombre_sain          1756\n",
    "nombre_exposed        509\n",
    "nombre_recovered    16699\n",
    "Name: 255, dtype: int64"
   ]
  },
  {
   "cell_type": "markdown",
   "id": "aceb4d53",
   "metadata": {},
   "source": [
    "nombre_infected      1011\n",
    "nombre_sain          1723\n",
    "nombre_exposed        514\n",
    "nombre_recovered    16752\n",
    "Name: 256, dtype: int64"
   ]
  },
  {
   "cell_type": "markdown",
   "id": "f663883f",
   "metadata": {},
   "source": [
    "nombre_infected      1010\n",
    "nombre_sain          1713\n",
    "nombre_exposed        490\n",
    "nombre_recovered    16787\n",
    "Name: 257, dtype: int64"
   ]
  },
  {
   "cell_type": "markdown",
   "id": "af76151a",
   "metadata": {},
   "source": [
    "nombre_infected       996\n",
    "nombre_sain          1704\n",
    "nombre_exposed        464\n",
    "nombre_recovered    16836\n",
    "Name: 258, dtype: int64"
   ]
  },
  {
   "cell_type": "markdown",
   "id": "04d722a1",
   "metadata": {},
   "source": [
    "nombre_infected       956\n",
    "nombre_sain          1710\n",
    "nombre_exposed        456\n",
    "nombre_recovered    16878\n",
    "Name: 259, dtype: int64"
   ]
  },
  {
   "cell_type": "markdown",
   "id": "353d77c7",
   "metadata": {},
   "source": [
    "nombre_infected       919\n",
    "nombre_sain          1704\n",
    "nombre_exposed        434\n",
    "nombre_recovered    16943\n",
    "Name: 260, dtype: int64"
   ]
  },
  {
   "cell_type": "markdown",
   "id": "4baedf7b",
   "metadata": {},
   "source": [
    "nombre_infected       881\n",
    "nombre_sain          1713\n",
    "nombre_exposed        419\n",
    "nombre_recovered    16987\n",
    "Name: 261, dtype: int64"
   ]
  },
  {
   "cell_type": "markdown",
   "id": "aa7c3ad5",
   "metadata": {},
   "source": [
    "nombre_infected       876\n",
    "nombre_sain          1711\n",
    "nombre_exposed        400\n",
    "nombre_recovered    17013\n",
    "Name: 262, dtype: int64"
   ]
  },
  {
   "cell_type": "markdown",
   "id": "6f53b642",
   "metadata": {},
   "source": [
    "nombre_infected       849\n",
    "nombre_sain          1720\n",
    "nombre_exposed        392\n",
    "nombre_recovered    17039\n",
    "Name: 263, dtype: int64"
   ]
  },
  {
   "cell_type": "markdown",
   "id": "5c0b19fc",
   "metadata": {},
   "source": [
    "nombre_infected       807\n",
    "nombre_sain          1728\n",
    "nombre_exposed        395\n",
    "nombre_recovered    17070\n",
    "Name: 264, dtype: int64"
   ]
  },
  {
   "cell_type": "markdown",
   "id": "0e3a096f",
   "metadata": {},
   "source": [
    "nombre_infected       799\n",
    "nombre_sain          1743\n",
    "nombre_exposed        391\n",
    "nombre_recovered    17067\n",
    "Name: 265, dtype: int64"
   ]
  },
  {
   "cell_type": "markdown",
   "id": "f9e45371",
   "metadata": {},
   "source": [
    "nombre_infected       796\n",
    "nombre_sain          1762\n",
    "nombre_exposed        354\n",
    "nombre_recovered    17088\n",
    "Name: 266, dtype: int64"
   ]
  },
  {
   "cell_type": "markdown",
   "id": "0770d819",
   "metadata": {},
   "source": [
    "nombre_infected       780\n",
    "nombre_sain          1775\n",
    "nombre_exposed        354\n",
    "nombre_recovered    17091\n",
    "Name: 267, dtype: int64"
   ]
  },
  {
   "cell_type": "markdown",
   "id": "7cd9d962",
   "metadata": {},
   "source": [
    "nombre_infected       750\n",
    "nombre_sain          1800\n",
    "nombre_exposed        349\n",
    "nombre_recovered    17101\n",
    "Name: 268, dtype: int64"
   ]
  },
  {
   "cell_type": "markdown",
   "id": "838fd564",
   "metadata": {},
   "source": [
    "nombre_infected       732\n",
    "nombre_sain          1870\n",
    "nombre_exposed        325\n",
    "nombre_recovered    17073\n",
    "Name: 269, dtype: int64"
   ]
  },
  {
   "cell_type": "markdown",
   "id": "d2563afb",
   "metadata": {},
   "source": [
    "nombre_infected       698\n",
    "nombre_sain          1915\n",
    "nombre_exposed        338\n",
    "nombre_recovered    17049\n",
    "Name: 270, dtype: int64"
   ]
  },
  {
   "cell_type": "markdown",
   "id": "d09932c1",
   "metadata": {},
   "source": [
    "nombre_infected       686\n",
    "nombre_sain          1937\n",
    "nombre_exposed        337\n",
    "nombre_recovered    17040\n",
    "Name: 271, dtype: int64"
   ]
  },
  {
   "cell_type": "markdown",
   "id": "70286a14",
   "metadata": {},
   "source": [
    "nombre_infected       699\n",
    "nombre_sain          1970\n",
    "nombre_exposed        331\n",
    "nombre_recovered    17000\n",
    "Name: 272, dtype: int64"
   ]
  },
  {
   "cell_type": "markdown",
   "id": "c475b662",
   "metadata": {},
   "source": [
    "nombre_infected       677\n",
    "nombre_sain          2022\n",
    "nombre_exposed        349\n",
    "nombre_recovered    16952\n",
    "Name: 273, dtype: int64"
   ]
  },
  {
   "cell_type": "markdown",
   "id": "9227b25a",
   "metadata": {},
   "source": [
    "nombre_infected       662\n",
    "nombre_sain          2053\n",
    "nombre_exposed        349\n",
    "nombre_recovered    16936\n",
    "Name: 274, dtype: int64"
   ]
  },
  {
   "cell_type": "markdown",
   "id": "aca541d8",
   "metadata": {},
   "source": [
    "nombre_infected       657\n",
    "nombre_sain          2088\n",
    "nombre_exposed        367\n",
    "nombre_recovered    16888\n",
    "Name: 275, dtype: int64"
   ]
  },
  {
   "cell_type": "markdown",
   "id": "fd7888cc",
   "metadata": {},
   "source": [
    "nombre_infected       670\n",
    "nombre_sain          2155\n",
    "nombre_exposed        336\n",
    "nombre_recovered    16839\n",
    "Name: 276, dtype: int64"
   ]
  },
  {
   "cell_type": "markdown",
   "id": "318dca90",
   "metadata": {},
   "source": [
    "nombre_infected       667\n",
    "nombre_sain          2203\n",
    "nombre_exposed        327\n",
    "nombre_recovered    16803\n",
    "Name: 277, dtype: int64"
   ]
  },
  {
   "cell_type": "markdown",
   "id": "ef5f403b",
   "metadata": {},
   "source": [
    "nombre_infected       650\n",
    "nombre_sain          2242\n",
    "nombre_exposed        341\n",
    "nombre_recovered    16767\n",
    "Name: 278, dtype: int64"
   ]
  },
  {
   "cell_type": "markdown",
   "id": "a9aae398",
   "metadata": {},
   "source": [
    "nombre_infected       655\n",
    "nombre_sain          2283\n",
    "nombre_exposed        353\n",
    "nombre_recovered    16709\n",
    "Name: 279, dtype: int64"
   ]
  },
  {
   "cell_type": "markdown",
   "id": "f88eb2c4",
   "metadata": {},
   "source": [
    "nombre_infected       636\n",
    "nombre_sain          2309\n",
    "nombre_exposed        357\n",
    "nombre_recovered    16698\n",
    "Name: 280, dtype: int64"
   ]
  },
  {
   "cell_type": "markdown",
   "id": "a2ae5b4a",
   "metadata": {},
   "source": [
    "nombre_infected       625\n",
    "nombre_sain          2338\n",
    "nombre_exposed        367\n",
    "nombre_recovered    16670\n",
    "Name: 281, dtype: int64"
   ]
  },
  {
   "cell_type": "markdown",
   "id": "5d04e186",
   "metadata": {},
   "source": [
    "nombre_infected       636\n",
    "nombre_sain          2359\n",
    "nombre_exposed        370\n",
    "nombre_recovered    16635\n",
    "Name: 282, dtype: int64"
   ]
  },
  {
   "cell_type": "markdown",
   "id": "face53f5",
   "metadata": {},
   "source": [
    "nombre_infected       631\n",
    "nombre_sain          2364\n",
    "nombre_exposed        377\n",
    "nombre_recovered    16628\n",
    "Name: 283, dtype: int64"
   ]
  },
  {
   "cell_type": "markdown",
   "id": "ac62e0f5",
   "metadata": {},
   "source": [
    "nombre_infected       626\n",
    "nombre_sain          2364\n",
    "nombre_exposed        394\n",
    "nombre_recovered    16616\n",
    "Name: 284, dtype: int64"
   ]
  },
  {
   "cell_type": "markdown",
   "id": "c0c65a1f",
   "metadata": {},
   "source": [
    "nombre_infected       630\n",
    "nombre_sain          2398\n",
    "nombre_exposed        383\n",
    "nombre_recovered    16589\n",
    "Name: 285, dtype: int64"
   ]
  },
  {
   "cell_type": "markdown",
   "id": "052da8f5",
   "metadata": {},
   "source": [
    "nombre_infected       662\n",
    "nombre_sain          2414\n",
    "nombre_exposed        368\n",
    "nombre_recovered    16556\n",
    "Name: 286, dtype: int64"
   ]
  },
  {
   "cell_type": "markdown",
   "id": "4783122a",
   "metadata": {},
   "source": [
    "nombre_infected       645\n",
    "nombre_sain          2413\n",
    "nombre_exposed        385\n",
    "nombre_recovered    16557\n",
    "Name: 287, dtype: int64"
   ]
  },
  {
   "cell_type": "markdown",
   "id": "cc6c8e6b",
   "metadata": {},
   "source": [
    "nombre_infected       650\n",
    "nombre_sain          2407\n",
    "nombre_exposed        412\n",
    "nombre_recovered    16531\n",
    "Name: 288, dtype: int64"
   ]
  },
  {
   "cell_type": "markdown",
   "id": "fab7260d",
   "metadata": {},
   "source": [
    "nombre_infected       662\n",
    "nombre_sain          2428\n",
    "nombre_exposed        416\n",
    "nombre_recovered    16494\n",
    "Name: 289, dtype: int64"
   ]
  },
  {
   "cell_type": "markdown",
   "id": "0ccd74d7",
   "metadata": {},
   "source": [
    "nombre_infected       677\n",
    "nombre_sain          2470\n",
    "nombre_exposed        398\n",
    "nombre_recovered    16455\n",
    "Name: 290, dtype: int64"
   ]
  },
  {
   "cell_type": "markdown",
   "id": "60696d55",
   "metadata": {},
   "source": [
    "nombre_infected       669\n",
    "nombre_sain          2491\n",
    "nombre_exposed        411\n",
    "nombre_recovered    16429\n",
    "Name: 291, dtype: int64"
   ]
  },
  {
   "cell_type": "markdown",
   "id": "666df5fa",
   "metadata": {},
   "source": [
    "nombre_infected       671\n",
    "nombre_sain          2511\n",
    "nombre_exposed        413\n",
    "nombre_recovered    16405\n",
    "Name: 292, dtype: int64"
   ]
  },
  {
   "cell_type": "markdown",
   "id": "fd806297",
   "metadata": {},
   "source": [
    "nombre_infected       678\n",
    "nombre_sain          2525\n",
    "nombre_exposed        423\n",
    "nombre_recovered    16374\n",
    "Name: 293, dtype: int64"
   ]
  },
  {
   "cell_type": "markdown",
   "id": "451bbd57",
   "metadata": {},
   "source": [
    "nombre_infected       692\n",
    "nombre_sain          2539\n",
    "nombre_exposed        419\n",
    "nombre_recovered    16350\n",
    "Name: 294, dtype: int64"
   ]
  },
  {
   "cell_type": "markdown",
   "id": "09c12980",
   "metadata": {},
   "source": [
    "nombre_infected       698\n",
    "nombre_sain          2539\n",
    "nombre_exposed        423\n",
    "nombre_recovered    16340\n",
    "Name: 295, dtype: int64"
   ]
  },
  {
   "cell_type": "markdown",
   "id": "83494935",
   "metadata": {},
   "source": [
    "nombre_infected       704\n",
    "nombre_sain          2550\n",
    "nombre_exposed        441\n",
    "nombre_recovered    16305\n",
    "Name: 296, dtype: int64"
   ]
  },
  {
   "cell_type": "markdown",
   "id": "be0f7caa",
   "metadata": {},
   "source": [
    "nombre_infected       679\n",
    "nombre_sain          2571\n",
    "nombre_exposed        456\n",
    "nombre_recovered    16294\n",
    "Name: 297, dtype: int64"
   ]
  },
  {
   "cell_type": "markdown",
   "id": "ec54c6d3",
   "metadata": {},
   "source": [
    "nombre_infected       697\n",
    "nombre_sain          2574\n",
    "nombre_exposed        464\n",
    "nombre_recovered    16265\n",
    "Name: 298, dtype: int64"
   ]
  },
  {
   "cell_type": "markdown",
   "id": "09ff93a5",
   "metadata": {},
   "source": [
    "nombre_infected       703\n",
    "nombre_sain          2551\n",
    "nombre_exposed        479\n",
    "nombre_recovered    16267\n",
    "Name: 299, dtype: int64"
   ]
  },
  {
   "cell_type": "markdown",
   "id": "d6085e6c",
   "metadata": {},
   "source": [
    "nombre_infected       720\n",
    "nombre_sain          2545\n",
    "nombre_exposed        488\n",
    "nombre_recovered    16247\n",
    "Name: 300, dtype: int64"
   ]
  },
  {
   "cell_type": "markdown",
   "id": "3c811c9d",
   "metadata": {},
   "source": [
    "nombre_infected       768\n",
    "nombre_sain          2511\n",
    "nombre_exposed        493\n",
    "nombre_recovered    16228\n",
    "Name: 301, dtype: int64"
   ]
  },
  {
   "cell_type": "markdown",
   "id": "75bf3995",
   "metadata": {},
   "source": [
    "nombre_infected       794\n",
    "nombre_sain          2482\n",
    "nombre_exposed        495\n",
    "nombre_recovered    16229\n",
    "Name: 302, dtype: int64"
   ]
  },
  {
   "cell_type": "markdown",
   "id": "7b6bb320",
   "metadata": {},
   "source": [
    "nombre_infected       800\n",
    "nombre_sain          2468\n",
    "nombre_exposed        513\n",
    "nombre_recovered    16219\n",
    "Name: 303, dtype: int64"
   ]
  },
  {
   "cell_type": "markdown",
   "id": "bbb0e9c9",
   "metadata": {},
   "source": [
    "nombre_infected       839\n",
    "nombre_sain          2453\n",
    "nombre_exposed        485\n",
    "nombre_recovered    16223\n",
    "Name: 304, dtype: int64"
   ]
  },
  {
   "cell_type": "markdown",
   "id": "5d8c1514",
   "metadata": {},
   "source": [
    "nombre_infected       876\n",
    "nombre_sain          2421\n",
    "nombre_exposed        476\n",
    "nombre_recovered    16227\n",
    "Name: 305, dtype: int64"
   ]
  },
  {
   "cell_type": "markdown",
   "id": "cb806d6e",
   "metadata": {},
   "source": [
    "nombre_infected       878\n",
    "nombre_sain          2384\n",
    "nombre_exposed        498\n",
    "nombre_recovered    16240\n",
    "Name: 306, dtype: int64"
   ]
  },
  {
   "cell_type": "markdown",
   "id": "14964889",
   "metadata": {},
   "source": [
    "nombre_infected       883\n",
    "nombre_sain          2376\n",
    "nombre_exposed        518\n",
    "nombre_recovered    16223\n",
    "Name: 307, dtype: int64"
   ]
  },
  {
   "cell_type": "markdown",
   "id": "dbb32444",
   "metadata": {},
   "source": [
    "nombre_infected       907\n",
    "nombre_sain          2343\n",
    "nombre_exposed        512\n",
    "nombre_recovered    16238\n",
    "Name: 308, dtype: int64"
   ]
  },
  {
   "cell_type": "markdown",
   "id": "e6cbc631",
   "metadata": {},
   "source": [
    "nombre_infected       894\n",
    "nombre_sain          2301\n",
    "nombre_exposed        547\n",
    "nombre_recovered    16258\n",
    "Name: 309, dtype: int64"
   ]
  },
  {
   "cell_type": "markdown",
   "id": "f051ea37",
   "metadata": {},
   "source": [
    "nombre_infected       918\n",
    "nombre_sain          2285\n",
    "nombre_exposed        517\n",
    "nombre_recovered    16280\n",
    "Name: 310, dtype: int64"
   ]
  },
  {
   "cell_type": "markdown",
   "id": "f158fc59",
   "metadata": {},
   "source": [
    "nombre_infected       929\n",
    "nombre_sain          2231\n",
    "nombre_exposed        526\n",
    "nombre_recovered    16314\n",
    "Name: 311, dtype: int64"
   ]
  },
  {
   "cell_type": "markdown",
   "id": "6b23f951",
   "metadata": {},
   "source": [
    "nombre_infected       939\n",
    "nombre_sain          2197\n",
    "nombre_exposed        533\n",
    "nombre_recovered    16331\n",
    "Name: 312, dtype: int64"
   ]
  },
  {
   "cell_type": "markdown",
   "id": "e1e04bcf",
   "metadata": {},
   "source": [
    "nombre_infected       955\n",
    "nombre_sain          2142\n",
    "nombre_exposed        529\n",
    "nombre_recovered    16374\n",
    "Name: 313, dtype: int64"
   ]
  },
  {
   "cell_type": "markdown",
   "id": "69ba0faf",
   "metadata": {},
   "source": [
    "nombre_infected       956\n",
    "nombre_sain          2090\n",
    "nombre_exposed        554\n",
    "nombre_recovered    16400\n",
    "Name: 314, dtype: int64"
   ]
  },
  {
   "cell_type": "markdown",
   "id": "eda2bd12",
   "metadata": {},
   "source": [
    "nombre_infected       936\n",
    "nombre_sain          2071\n",
    "nombre_exposed        557\n",
    "nombre_recovered    16436\n",
    "Name: 315, dtype: int64"
   ]
  },
  {
   "cell_type": "markdown",
   "id": "73e35a7d",
   "metadata": {},
   "source": [
    "nombre_infected       963\n",
    "nombre_sain          2027\n",
    "nombre_exposed        552\n",
    "nombre_recovered    16458\n",
    "Name: 316, dtype: int64"
   ]
  },
  {
   "cell_type": "markdown",
   "id": "d3615d09",
   "metadata": {},
   "source": [
    "nombre_infected       945\n",
    "nombre_sain          2013\n",
    "nombre_exposed        536\n",
    "nombre_recovered    16506\n",
    "Name: 317, dtype: int64"
   ]
  },
  {
   "cell_type": "markdown",
   "id": "0d444dbe",
   "metadata": {},
   "source": [
    "nombre_infected       982\n",
    "nombre_sain          1996\n",
    "nombre_exposed        507\n",
    "nombre_recovered    16515\n",
    "Name: 318, dtype: int64"
   ]
  },
  {
   "cell_type": "markdown",
   "id": "3ecb4542",
   "metadata": {},
   "source": [
    "nombre_infected       958\n",
    "nombre_sain          2015\n",
    "nombre_exposed        497\n",
    "nombre_recovered    16530\n",
    "Name: 319, dtype: int64"
   ]
  },
  {
   "cell_type": "markdown",
   "id": "53fb59f9",
   "metadata": {},
   "source": [
    "nombre_infected       950\n",
    "nombre_sain          1985\n",
    "nombre_exposed        499\n",
    "nombre_recovered    16566\n",
    "Name: 320, dtype: int64"
   ]
  },
  {
   "cell_type": "markdown",
   "id": "43f4be31",
   "metadata": {},
   "source": [
    "nombre_infected       928\n",
    "nombre_sain          1978\n",
    "nombre_exposed        504\n",
    "nombre_recovered    16590\n",
    "Name: 321, dtype: int64"
   ]
  },
  {
   "cell_type": "markdown",
   "id": "44dd8828",
   "metadata": {},
   "source": [
    "nombre_infected       905\n",
    "nombre_sain          1961\n",
    "nombre_exposed        503\n",
    "nombre_recovered    16631\n",
    "Name: 322, dtype: int64"
   ]
  },
  {
   "cell_type": "markdown",
   "id": "c9e4cf76",
   "metadata": {},
   "source": [
    "nombre_infected       919\n",
    "nombre_sain          1973\n",
    "nombre_exposed        504\n",
    "nombre_recovered    16604\n",
    "Name: 323, dtype: int64"
   ]
  },
  {
   "cell_type": "markdown",
   "id": "0bf7513d",
   "metadata": {},
   "source": [
    "nombre_infected       931\n",
    "nombre_sain          1947\n",
    "nombre_exposed        509\n",
    "nombre_recovered    16613\n",
    "Name: 324, dtype: int64"
   ]
  },
  {
   "cell_type": "markdown",
   "id": "fee708d2",
   "metadata": {},
   "source": [
    "nombre_infected       940\n",
    "nombre_sain          1950\n",
    "nombre_exposed        490\n",
    "nombre_recovered    16620\n",
    "Name: 325, dtype: int64"
   ]
  },
  {
   "cell_type": "markdown",
   "id": "b75eccd4",
   "metadata": {},
   "source": [
    "nombre_infected       953\n",
    "nombre_sain          1924\n",
    "nombre_exposed        498\n",
    "nombre_recovered    16625\n",
    "Name: 326, dtype: int64"
   ]
  },
  {
   "cell_type": "markdown",
   "id": "8554f5fc",
   "metadata": {},
   "source": [
    "nombre_infected       945\n",
    "nombre_sain          1915\n",
    "nombre_exposed        493\n",
    "nombre_recovered    16647\n",
    "Name: 327, dtype: int64"
   ]
  },
  {
   "cell_type": "markdown",
   "id": "de030a72",
   "metadata": {},
   "source": [
    "nombre_infected       936\n",
    "nombre_sain          1906\n",
    "nombre_exposed        484\n",
    "nombre_recovered    16674\n",
    "Name: 328, dtype: int64"
   ]
  },
  {
   "cell_type": "markdown",
   "id": "20f6ef5f",
   "metadata": {},
   "source": [
    "nombre_infected       921\n",
    "nombre_sain          1895\n",
    "nombre_exposed        496\n",
    "nombre_recovered    16688\n",
    "Name: 329, dtype: int64"
   ]
  },
  {
   "cell_type": "markdown",
   "id": "9f306176",
   "metadata": {},
   "source": [
    "nombre_infected       906\n",
    "nombre_sain          1881\n",
    "nombre_exposed        487\n",
    "nombre_recovered    16726\n",
    "Name: 330, dtype: int64"
   ]
  },
  {
   "cell_type": "markdown",
   "id": "65c5f014",
   "metadata": {},
   "source": [
    "nombre_infected       890\n",
    "nombre_sain          1872\n",
    "nombre_exposed        477\n",
    "nombre_recovered    16761\n",
    "Name: 331, dtype: int64"
   ]
  },
  {
   "cell_type": "markdown",
   "id": "37861b47",
   "metadata": {},
   "source": [
    "nombre_infected       891\n",
    "nombre_sain          1879\n",
    "nombre_exposed        468\n",
    "nombre_recovered    16762\n",
    "Name: 332, dtype: int64"
   ]
  },
  {
   "cell_type": "markdown",
   "id": "23071784",
   "metadata": {},
   "source": [
    "nombre_infected       884\n",
    "nombre_sain          1873\n",
    "nombre_exposed        463\n",
    "nombre_recovered    16780\n",
    "Name: 333, dtype: int64"
   ]
  },
  {
   "cell_type": "markdown",
   "id": "4b366747",
   "metadata": {},
   "source": [
    "nombre_infected       862\n",
    "nombre_sain          1889\n",
    "nombre_exposed        450\n",
    "nombre_recovered    16799\n",
    "Name: 334, dtype: int64"
   ]
  },
  {
   "cell_type": "markdown",
   "id": "8d3edc94",
   "metadata": {},
   "source": [
    "nombre_infected       849\n",
    "nombre_sain          1888\n",
    "nombre_exposed        441\n",
    "nombre_recovered    16822\n",
    "Name: 335, dtype: int64"
   ]
  },
  {
   "cell_type": "markdown",
   "id": "0354f122",
   "metadata": {},
   "source": [
    "nombre_infected       853\n",
    "nombre_sain          1900\n",
    "nombre_exposed        413\n",
    "nombre_recovered    16834\n",
    "Name: 336, dtype: int64"
   ]
  },
  {
   "cell_type": "markdown",
   "id": "657c68ec",
   "metadata": {},
   "source": [
    "nombre_infected       825\n",
    "nombre_sain          1871\n",
    "nombre_exposed        445\n",
    "nombre_recovered    16859\n",
    "Name: 337, dtype: int64"
   ]
  },
  {
   "cell_type": "markdown",
   "id": "846fd278",
   "metadata": {},
   "source": [
    "nombre_infected       814\n",
    "nombre_sain          1901\n",
    "nombre_exposed        427\n",
    "nombre_recovered    16858\n",
    "Name: 338, dtype: int64"
   ]
  },
  {
   "cell_type": "markdown",
   "id": "1c0f38f2",
   "metadata": {},
   "source": [
    "nombre_infected       802\n",
    "nombre_sain          1917\n",
    "nombre_exposed        403\n",
    "nombre_recovered    16878\n",
    "Name: 339, dtype: int64"
   ]
  },
  {
   "cell_type": "markdown",
   "id": "34e32896",
   "metadata": {},
   "source": [
    "nombre_infected       797\n",
    "nombre_sain          1909\n",
    "nombre_exposed        392\n",
    "nombre_recovered    16902\n",
    "Name: 340, dtype: int64"
   ]
  },
  {
   "cell_type": "markdown",
   "id": "19618cfb",
   "metadata": {},
   "source": [
    "nombre_infected       784\n",
    "nombre_sain          1891\n",
    "nombre_exposed        402\n",
    "nombre_recovered    16923\n",
    "Name: 341, dtype: int64"
   ]
  },
  {
   "cell_type": "markdown",
   "id": "64f91616",
   "metadata": {},
   "source": [
    "nombre_infected       767\n",
    "nombre_sain          1908\n",
    "nombre_exposed        402\n",
    "nombre_recovered    16923\n",
    "Name: 342, dtype: int64"
   ]
  },
  {
   "cell_type": "markdown",
   "id": "669a46d8",
   "metadata": {},
   "source": [
    "nombre_infected       746\n",
    "nombre_sain          1925\n",
    "nombre_exposed        385\n",
    "nombre_recovered    16944\n",
    "Name: 343, dtype: int64"
   ]
  },
  {
   "cell_type": "markdown",
   "id": "58d1ebbe",
   "metadata": {},
   "source": [
    "nombre_infected       753\n",
    "nombre_sain          1949\n",
    "nombre_exposed        362\n",
    "nombre_recovered    16936\n",
    "Name: 344, dtype: int64"
   ]
  },
  {
   "cell_type": "markdown",
   "id": "a3fad214",
   "metadata": {},
   "source": [
    "nombre_infected       738\n",
    "nombre_sain          1968\n",
    "nombre_exposed        366\n",
    "nombre_recovered    16928\n",
    "Name: 345, dtype: int64"
   ]
  },
  {
   "cell_type": "markdown",
   "id": "3da75fb3",
   "metadata": {},
   "source": [
    "nombre_infected       707\n",
    "nombre_sain          2008\n",
    "nombre_exposed        373\n",
    "nombre_recovered    16912\n",
    "Name: 346, dtype: int64"
   ]
  },
  {
   "cell_type": "markdown",
   "id": "c940020d",
   "metadata": {},
   "source": [
    "nombre_infected       689\n",
    "nombre_sain          2006\n",
    "nombre_exposed        394\n",
    "nombre_recovered    16911\n",
    "Name: 347, dtype: int64"
   ]
  },
  {
   "cell_type": "markdown",
   "id": "1298620e",
   "metadata": {},
   "source": [
    "nombre_infected       701\n",
    "nombre_sain          2030\n",
    "nombre_exposed        400\n",
    "nombre_recovered    16869\n",
    "Name: 348, dtype: int64"
   ]
  },
  {
   "cell_type": "markdown",
   "id": "e0bbb419",
   "metadata": {},
   "source": [
    "nombre_infected       701\n",
    "nombre_sain          2053\n",
    "nombre_exposed        409\n",
    "nombre_recovered    16837\n",
    "Name: 349, dtype: int64"
   ]
  },
  {
   "cell_type": "markdown",
   "id": "5c41b703",
   "metadata": {},
   "source": [
    "nombre_infected       706\n",
    "nombre_sain          2077\n",
    "nombre_exposed        401\n",
    "nombre_recovered    16816\n",
    "Name: 350, dtype: int64"
   ]
  },
  {
   "cell_type": "markdown",
   "id": "77165083",
   "metadata": {},
   "source": [
    "nombre_infected       722\n",
    "nombre_sain          2111\n",
    "nombre_exposed        384\n",
    "nombre_recovered    16783\n",
    "Name: 351, dtype: int64"
   ]
  },
  {
   "cell_type": "markdown",
   "id": "9938596c",
   "metadata": {},
   "source": [
    "nombre_infected       718\n",
    "nombre_sain          2157\n",
    "nombre_exposed        373\n",
    "nombre_recovered    16752\n",
    "Name: 352, dtype: int64"
   ]
  },
  {
   "cell_type": "markdown",
   "id": "3486c123",
   "metadata": {},
   "source": [
    "nombre_infected       717\n",
    "nombre_sain          2176\n",
    "nombre_exposed        375\n",
    "nombre_recovered    16732\n",
    "Name: 353, dtype: int64"
   ]
  },
  {
   "cell_type": "markdown",
   "id": "943579d3",
   "metadata": {},
   "source": [
    "nombre_infected       706\n",
    "nombre_sain          2175\n",
    "nombre_exposed        388\n",
    "nombre_recovered    16731\n",
    "Name: 354, dtype: int64"
   ]
  },
  {
   "cell_type": "markdown",
   "id": "1115218e",
   "metadata": {},
   "source": [
    "nombre_infected       705\n",
    "nombre_sain          2171\n",
    "nombre_exposed        401\n",
    "nombre_recovered    16723\n",
    "Name: 355, dtype: int64"
   ]
  },
  {
   "cell_type": "markdown",
   "id": "65a8a58f",
   "metadata": {},
   "source": [
    "nombre_infected       699\n",
    "nombre_sain          2189\n",
    "nombre_exposed        410\n",
    "nombre_recovered    16702\n",
    "Name: 356, dtype: int64"
   ]
  },
  {
   "cell_type": "markdown",
   "id": "16691c4c",
   "metadata": {},
   "source": [
    "nombre_infected       694\n",
    "nombre_sain          2181\n",
    "nombre_exposed        406\n",
    "nombre_recovered    16719\n",
    "Name: 357, dtype: int64"
   ]
  },
  {
   "cell_type": "markdown",
   "id": "0a65470e",
   "metadata": {},
   "source": [
    "nombre_infected       695\n",
    "nombre_sain          2186\n",
    "nombre_exposed        417\n",
    "nombre_recovered    16702\n",
    "Name: 358, dtype: int64"
   ]
  },
  {
   "cell_type": "markdown",
   "id": "a760f3db",
   "metadata": {},
   "source": [
    "nombre_infected       701\n",
    "nombre_sain          2198\n",
    "nombre_exposed        419\n",
    "nombre_recovered    16682\n",
    "Name: 359, dtype: int64"
   ]
  },
  {
   "cell_type": "markdown",
   "id": "96b3b69e",
   "metadata": {},
   "source": [
    "nombre_infected       712\n",
    "nombre_sain          2228\n",
    "nombre_exposed        427\n",
    "nombre_recovered    16633\n",
    "Name: 360, dtype: int64"
   ]
  },
  {
   "cell_type": "markdown",
   "id": "67ad9059",
   "metadata": {},
   "source": [
    "nombre_infected       695\n",
    "nombre_sain          2247\n",
    "nombre_exposed        439\n",
    "nombre_recovered    16619\n",
    "Name: 361, dtype: int64"
   ]
  },
  {
   "cell_type": "markdown",
   "id": "654c8366",
   "metadata": {},
   "source": [
    "nombre_infected       715\n",
    "nombre_sain          2265\n",
    "nombre_exposed        427\n",
    "nombre_recovered    16593\n",
    "Name: 362, dtype: int64"
   ]
  },
  {
   "cell_type": "markdown",
   "id": "ff8ca870",
   "metadata": {},
   "source": [
    "nombre_infected       738\n",
    "nombre_sain          2276\n",
    "nombre_exposed        422\n",
    "nombre_recovered    16564\n",
    "Name: 363, dtype: int64"
   ]
  },
  {
   "cell_type": "markdown",
   "id": "88cb2fd6",
   "metadata": {},
   "source": [
    "nombre_infected       740\n",
    "nombre_sain          2262\n",
    "nombre_exposed        460\n",
    "nombre_recovered    16538\n",
    "Name: 364, dtype: int64"
   ]
  },
  {
   "cell_type": "markdown",
   "id": "b073c823",
   "metadata": {},
   "source": [
    "nombre_infected       741\n",
    "nombre_sain          2276\n",
    "nombre_exposed        477\n",
    "nombre_recovered    16506\n",
    "Name: 365, dtype: int64"
   ]
  },
  {
   "cell_type": "markdown",
   "id": "9c57627c",
   "metadata": {},
   "source": [
    "nombre_infected       718\n",
    "nombre_sain          2305\n",
    "nombre_exposed        478\n",
    "nombre_recovered    16499\n",
    "Name: 366, dtype: int64"
   ]
  },
  {
   "cell_type": "markdown",
   "id": "03293f4c",
   "metadata": {},
   "source": [
    "nombre_infected       702\n",
    "nombre_sain          2347\n",
    "nombre_exposed        484\n",
    "nombre_recovered    16467\n",
    "Name: 367, dtype: int64"
   ]
  },
  {
   "cell_type": "markdown",
   "id": "604f68a3",
   "metadata": {},
   "source": [
    "nombre_infected       740\n",
    "nombre_sain          2375\n",
    "nombre_exposed        460\n",
    "nombre_recovered    16425\n",
    "Name: 368, dtype: int64"
   ]
  },
  {
   "cell_type": "markdown",
   "id": "dc87f819",
   "metadata": {},
   "source": [
    "nombre_infected       747\n",
    "nombre_sain          2379\n",
    "nombre_exposed        464\n",
    "nombre_recovered    16410\n",
    "Name: 369, dtype: int64"
   ]
  },
  {
   "cell_type": "markdown",
   "id": "f91f360c",
   "metadata": {},
   "source": [
    "nombre_infected       732\n",
    "nombre_sain          2416\n",
    "nombre_exposed        476\n",
    "nombre_recovered    16376\n",
    "Name: 370, dtype: int64"
   ]
  },
  {
   "cell_type": "markdown",
   "id": "166dc763",
   "metadata": {},
   "source": [
    "nombre_infected       753\n",
    "nombre_sain          2421\n",
    "nombre_exposed        493\n",
    "nombre_recovered    16333\n",
    "Name: 371, dtype: int64"
   ]
  },
  {
   "cell_type": "markdown",
   "id": "6a872871",
   "metadata": {},
   "source": [
    "nombre_infected       749\n",
    "nombre_sain          2430\n",
    "nombre_exposed        498\n",
    "nombre_recovered    16323\n",
    "Name: 372, dtype: int64"
   ]
  },
  {
   "cell_type": "markdown",
   "id": "1a1d9cdb",
   "metadata": {},
   "source": [
    "nombre_infected       745\n",
    "nombre_sain          2431\n",
    "nombre_exposed        509\n",
    "nombre_recovered    16315\n",
    "Name: 373, dtype: int64"
   ]
  },
  {
   "cell_type": "markdown",
   "id": "b778c782",
   "metadata": {},
   "source": [
    "nombre_infected       742\n",
    "nombre_sain          2423\n",
    "nombre_exposed        511\n",
    "nombre_recovered    16324\n",
    "Name: 374, dtype: int64"
   ]
  },
  {
   "cell_type": "markdown",
   "id": "9a8af6f0",
   "metadata": {},
   "source": [
    "nombre_infected       762\n",
    "nombre_sain          2436\n",
    "nombre_exposed        509\n",
    "nombre_recovered    16293\n",
    "Name: 375, dtype: int64"
   ]
  },
  {
   "cell_type": "markdown",
   "id": "00ed134c",
   "metadata": {},
   "source": [
    "nombre_infected       776\n",
    "nombre_sain          2446\n",
    "nombre_exposed        514\n",
    "nombre_recovered    16264\n",
    "Name: 376, dtype: int64"
   ]
  },
  {
   "cell_type": "markdown",
   "id": "6b38190e",
   "metadata": {},
   "source": [
    "nombre_infected       799\n",
    "nombre_sain          2453\n",
    "nombre_exposed        503\n",
    "nombre_recovered    16245\n",
    "Name: 377, dtype: int64"
   ]
  },
  {
   "cell_type": "markdown",
   "id": "517b77ea",
   "metadata": {},
   "source": [
    "nombre_infected       810\n",
    "nombre_sain          2461\n",
    "nombre_exposed        518\n",
    "nombre_recovered    16211\n",
    "Name: 378, dtype: int64"
   ]
  },
  {
   "cell_type": "markdown",
   "id": "1782042c",
   "metadata": {},
   "source": [
    "nombre_infected       822\n",
    "nombre_sain          2450\n",
    "nombre_exposed        537\n",
    "nombre_recovered    16191\n",
    "Name: 379, dtype: int64"
   ]
  },
  {
   "cell_type": "markdown",
   "id": "92c79015",
   "metadata": {},
   "source": [
    "nombre_infected       842\n",
    "nombre_sain          2451\n",
    "nombre_exposed        528\n",
    "nombre_recovered    16179\n",
    "Name: 380, dtype: int64"
   ]
  },
  {
   "cell_type": "markdown",
   "id": "98cb1339",
   "metadata": {},
   "source": [
    "nombre_infected       863\n",
    "nombre_sain          2463\n",
    "nombre_exposed        539\n",
    "nombre_recovered    16135\n",
    "Name: 381, dtype: int64"
   ]
  },
  {
   "cell_type": "markdown",
   "id": "bd501bb9",
   "metadata": {},
   "source": [
    "nombre_infected       882\n",
    "nombre_sain          2447\n",
    "nombre_exposed        525\n",
    "nombre_recovered    16146\n",
    "Name: 382, dtype: int64"
   ]
  },
  {
   "cell_type": "markdown",
   "id": "d3ba0c95",
   "metadata": {},
   "source": [
    "nombre_infected       901\n",
    "nombre_sain          2431\n",
    "nombre_exposed        522\n",
    "nombre_recovered    16146\n",
    "Name: 383, dtype: int64"
   ]
  },
  {
   "cell_type": "markdown",
   "id": "a67f2458",
   "metadata": {},
   "source": [
    "nombre_infected       907\n",
    "nombre_sain          2407\n",
    "nombre_exposed        546\n",
    "nombre_recovered    16140\n",
    "Name: 384, dtype: int64"
   ]
  },
  {
   "cell_type": "markdown",
   "id": "3a3134c0",
   "metadata": {},
   "source": [
    "nombre_infected       915\n",
    "nombre_sain          2376\n",
    "nombre_exposed        544\n",
    "nombre_recovered    16165\n",
    "Name: 385, dtype: int64"
   ]
  },
  {
   "cell_type": "markdown",
   "id": "329b21ef",
   "metadata": {},
   "source": [
    "nombre_infected       893\n",
    "nombre_sain          2338\n",
    "nombre_exposed        557\n",
    "nombre_recovered    16212\n",
    "Name: 386, dtype: int64"
   ]
  },
  {
   "cell_type": "markdown",
   "id": "4de611d2",
   "metadata": {},
   "source": [
    "nombre_infected       930\n",
    "nombre_sain          2313\n",
    "nombre_exposed        550\n",
    "nombre_recovered    16207\n",
    "Name: 387, dtype: int64"
   ]
  },
  {
   "cell_type": "markdown",
   "id": "4bcc3275",
   "metadata": {},
   "source": [
    "nombre_infected       934\n",
    "nombre_sain          2289\n",
    "nombre_exposed        544\n",
    "nombre_recovered    16233\n",
    "Name: 388, dtype: int64"
   ]
  },
  {
   "cell_type": "markdown",
   "id": "3d69c6fe",
   "metadata": {},
   "source": [
    "nombre_infected       932\n",
    "nombre_sain          2253\n",
    "nombre_exposed        562\n",
    "nombre_recovered    16253\n",
    "Name: 389, dtype: int64"
   ]
  },
  {
   "cell_type": "markdown",
   "id": "cf94852f",
   "metadata": {},
   "source": [
    "nombre_infected       931\n",
    "nombre_sain          2226\n",
    "nombre_exposed        572\n",
    "nombre_recovered    16271\n",
    "Name: 390, dtype: int64"
   ]
  },
  {
   "cell_type": "markdown",
   "id": "f6881024",
   "metadata": {},
   "source": [
    "nombre_infected       950\n",
    "nombre_sain          2201\n",
    "nombre_exposed        557\n",
    "nombre_recovered    16292\n",
    "Name: 391, dtype: int64"
   ]
  },
  {
   "cell_type": "markdown",
   "id": "f585df7a",
   "metadata": {},
   "source": [
    "nombre_infected       952\n",
    "nombre_sain          2199\n",
    "nombre_exposed        542\n",
    "nombre_recovered    16307\n",
    "Name: 392, dtype: int64"
   ]
  },
  {
   "cell_type": "markdown",
   "id": "587438a6",
   "metadata": {},
   "source": [
    "nombre_infected       954\n",
    "nombre_sain          2157\n",
    "nombre_exposed        555\n",
    "nombre_recovered    16334\n",
    "Name: 393, dtype: int64"
   ]
  },
  {
   "cell_type": "markdown",
   "id": "d2eef456",
   "metadata": {},
   "source": [
    "nombre_infected       966\n",
    "nombre_sain          2137\n",
    "nombre_exposed        568\n",
    "nombre_recovered    16329\n",
    "Name: 394, dtype: int64"
   ]
  },
  {
   "cell_type": "markdown",
   "id": "5122a6e8",
   "metadata": {},
   "source": [
    "nombre_infected       975\n",
    "nombre_sain          2115\n",
    "nombre_exposed        550\n",
    "nombre_recovered    16360\n",
    "Name: 395, dtype: int64"
   ]
  },
  {
   "cell_type": "markdown",
   "id": "0cac3a8b",
   "metadata": {},
   "source": [
    "nombre_infected       980\n",
    "nombre_sain          2074\n",
    "nombre_exposed        547\n",
    "nombre_recovered    16399\n",
    "Name: 396, dtype: int64"
   ]
  },
  {
   "cell_type": "markdown",
   "id": "a41284c9",
   "metadata": {},
   "source": [
    "nombre_infected       979\n",
    "nombre_sain          2056\n",
    "nombre_exposed        543\n",
    "nombre_recovered    16422\n",
    "Name: 397, dtype: int64"
   ]
  },
  {
   "cell_type": "markdown",
   "id": "58cc76d1",
   "metadata": {},
   "source": [
    "nombre_infected       966\n",
    "nombre_sain          2023\n",
    "nombre_exposed        549\n",
    "nombre_recovered    16462\n",
    "Name: 398, dtype: int64"
   ]
  },
  {
   "cell_type": "markdown",
   "id": "e7494f47",
   "metadata": {},
   "source": [
    "nombre_infected       943\n",
    "nombre_sain          1993\n",
    "nombre_exposed        584\n",
    "nombre_recovered    16480\n",
    "Name: 399, dtype: int64"
   ]
  },
  {
   "cell_type": "markdown",
   "id": "06c6dda9",
   "metadata": {},
   "source": [
    "nombre_infected       929\n",
    "nombre_sain          1964\n",
    "nombre_exposed        587\n",
    "nombre_recovered    16520\n",
    "Name: 400, dtype: int64"
   ]
  },
  {
   "cell_type": "markdown",
   "id": "600f48e2",
   "metadata": {},
   "source": [
    "nombre_infected       952\n",
    "nombre_sain          1961\n",
    "nombre_exposed        569\n",
    "nombre_recovered    16518\n",
    "Name: 401, dtype: int64"
   ]
  },
  {
   "cell_type": "markdown",
   "id": "55ed87da",
   "metadata": {},
   "source": [
    "nombre_infected       974\n",
    "nombre_sain          1963\n",
    "nombre_exposed        544\n",
    "nombre_recovered    16519\n",
    "Name: 402, dtype: int64"
   ]
  },
  {
   "cell_type": "markdown",
   "id": "c0f886ff",
   "metadata": {},
   "source": [
    "nombre_infected       990\n",
    "nombre_sain          1961\n",
    "nombre_exposed        520\n",
    "nombre_recovered    16529\n",
    "Name: 403, dtype: int64"
   ]
  },
  {
   "cell_type": "markdown",
   "id": "a4a86b18",
   "metadata": {},
   "source": [
    "nombre_infected       959\n",
    "nombre_sain          1968\n",
    "nombre_exposed        520\n",
    "nombre_recovered    16553\n",
    "Name: 404, dtype: int64"
   ]
  },
  {
   "cell_type": "markdown",
   "id": "4453368b",
   "metadata": {},
   "source": [
    "nombre_infected       962\n",
    "nombre_sain          1970\n",
    "nombre_exposed        506\n",
    "nombre_recovered    16562\n",
    "Name: 405, dtype: int64"
   ]
  },
  {
   "cell_type": "markdown",
   "id": "bc4f05b1",
   "metadata": {},
   "source": [
    "nombre_infected       959\n",
    "nombre_sain          1945\n",
    "nombre_exposed        507\n",
    "nombre_recovered    16589\n",
    "Name: 406, dtype: int64"
   ]
  },
  {
   "cell_type": "markdown",
   "id": "9e330c45",
   "metadata": {},
   "source": [
    "nombre_infected       939\n",
    "nombre_sain          1927\n",
    "nombre_exposed        514\n",
    "nombre_recovered    16620\n",
    "Name: 407, dtype: int64"
   ]
  },
  {
   "cell_type": "markdown",
   "id": "08935877",
   "metadata": {},
   "source": [
    "nombre_infected       935\n",
    "nombre_sain          1940\n",
    "nombre_exposed        506\n",
    "nombre_recovered    16619\n",
    "Name: 408, dtype: int64"
   ]
  },
  {
   "cell_type": "markdown",
   "id": "ff52b99b",
   "metadata": {},
   "source": [
    "nombre_infected       879\n",
    "nombre_sain          1948\n",
    "nombre_exposed        517\n",
    "nombre_recovered    16656\n",
    "Name: 409, dtype: int64"
   ]
  },
  {
   "cell_type": "markdown",
   "id": "b5d8646c",
   "metadata": {},
   "source": [
    "nombre_infected       890\n",
    "nombre_sain          1962\n",
    "nombre_exposed        541\n",
    "nombre_recovered    16607\n",
    "Name: 410, dtype: int64"
   ]
  },
  {
   "cell_type": "markdown",
   "id": "fb4c5b66",
   "metadata": {},
   "source": [
    "nombre_infected       891\n",
    "nombre_sain          1983\n",
    "nombre_exposed        514\n",
    "nombre_recovered    16612\n",
    "Name: 411, dtype: int64"
   ]
  },
  {
   "cell_type": "markdown",
   "id": "8e7e6f0b",
   "metadata": {},
   "source": [
    "nombre_infected       871\n",
    "nombre_sain          1992\n",
    "nombre_exposed        516\n",
    "nombre_recovered    16621\n",
    "Name: 412, dtype: int64"
   ]
  },
  {
   "cell_type": "markdown",
   "id": "b5dd442d",
   "metadata": {},
   "source": [
    "nombre_infected       857\n",
    "nombre_sain          2014\n",
    "nombre_exposed        497\n",
    "nombre_recovered    16632\n",
    "Name: 413, dtype: int64"
   ]
  },
  {
   "cell_type": "markdown",
   "id": "89bd0367",
   "metadata": {},
   "source": [
    "nombre_infected       851\n",
    "nombre_sain          2025\n",
    "nombre_exposed        495\n",
    "nombre_recovered    16629\n",
    "Name: 414, dtype: int64"
   ]
  },
  {
   "cell_type": "markdown",
   "id": "416fd79c",
   "metadata": {},
   "source": [
    "nombre_infected       851\n",
    "nombre_sain          2040\n",
    "nombre_exposed        469\n",
    "nombre_recovered    16640\n",
    "Name: 415, dtype: int64"
   ]
  },
  {
   "cell_type": "markdown",
   "id": "b8736ec5",
   "metadata": {},
   "source": [
    "nombre_infected       857\n",
    "nombre_sain          2017\n",
    "nombre_exposed        488\n",
    "nombre_recovered    16638\n",
    "Name: 416, dtype: int64"
   ]
  },
  {
   "cell_type": "markdown",
   "id": "a9bac7a3",
   "metadata": {},
   "source": [
    "nombre_infected       846\n",
    "nombre_sain          2027\n",
    "nombre_exposed        490\n",
    "nombre_recovered    16637\n",
    "Name: 417, dtype: int64"
   ]
  },
  {
   "cell_type": "markdown",
   "id": "cc97c1f4",
   "metadata": {},
   "source": [
    "nombre_infected       837\n",
    "nombre_sain          2014\n",
    "nombre_exposed        502\n",
    "nombre_recovered    16647\n",
    "Name: 418, dtype: int64"
   ]
  },
  {
   "cell_type": "markdown",
   "id": "1799a4d9",
   "metadata": {},
   "source": [
    "nombre_infected       864\n",
    "nombre_sain          2016\n",
    "nombre_exposed        466\n",
    "nombre_recovered    16654\n",
    "Name: 419, dtype: int64"
   ]
  },
  {
   "cell_type": "markdown",
   "id": "337fde31",
   "metadata": {},
   "source": [
    "nombre_infected       842\n",
    "nombre_sain          2004\n",
    "nombre_exposed        478\n",
    "nombre_recovered    16676\n",
    "Name: 420, dtype: int64"
   ]
  },
  {
   "cell_type": "markdown",
   "id": "b7b9fd62",
   "metadata": {},
   "source": [
    "nombre_infected       837\n",
    "nombre_sain          2025\n",
    "nombre_exposed        477\n",
    "nombre_recovered    16661\n",
    "Name: 421, dtype: int64"
   ]
  },
  {
   "cell_type": "markdown",
   "id": "955a3074",
   "metadata": {},
   "source": [
    "nombre_infected       839\n",
    "nombre_sain          2004\n",
    "nombre_exposed        483\n",
    "nombre_recovered    16674\n",
    "Name: 422, dtype: int64"
   ]
  },
  {
   "cell_type": "markdown",
   "id": "1a585314",
   "metadata": {},
   "source": [
    "nombre_infected       840\n",
    "nombre_sain          1995\n",
    "nombre_exposed        495\n",
    "nombre_recovered    16670\n",
    "Name: 423, dtype: int64"
   ]
  },
  {
   "cell_type": "markdown",
   "id": "a5dba447",
   "metadata": {},
   "source": [
    "nombre_infected       855\n",
    "nombre_sain          1992\n",
    "nombre_exposed        479\n",
    "nombre_recovered    16674\n",
    "Name: 424, dtype: int64"
   ]
  },
  {
   "cell_type": "markdown",
   "id": "7eb505ae",
   "metadata": {},
   "source": [
    "nombre_infected       867\n",
    "nombre_sain          2005\n",
    "nombre_exposed        479\n",
    "nombre_recovered    16649\n",
    "Name: 425, dtype: int64"
   ]
  },
  {
   "cell_type": "markdown",
   "id": "e9cb24ac",
   "metadata": {},
   "source": [
    "nombre_infected       872\n",
    "nombre_sain          2020\n",
    "nombre_exposed        482\n",
    "nombre_recovered    16626\n",
    "Name: 426, dtype: int64"
   ]
  },
  {
   "cell_type": "markdown",
   "id": "1da37500",
   "metadata": {},
   "source": [
    "nombre_infected       865\n",
    "nombre_sain          2018\n",
    "nombre_exposed        492\n",
    "nombre_recovered    16625\n",
    "Name: 427, dtype: int64"
   ]
  },
  {
   "cell_type": "markdown",
   "id": "114311ae",
   "metadata": {},
   "source": [
    "nombre_infected       887\n",
    "nombre_sain          2045\n",
    "nombre_exposed        456\n",
    "nombre_recovered    16612\n",
    "Name: 428, dtype: int64"
   ]
  },
  {
   "cell_type": "markdown",
   "id": "c8df90e9",
   "metadata": {},
   "source": [
    "nombre_infected       889\n",
    "nombre_sain          2093\n",
    "nombre_exposed        445\n",
    "nombre_recovered    16573\n",
    "Name: 429, dtype: int64"
   ]
  },
  {
   "cell_type": "markdown",
   "id": "e31904e9",
   "metadata": {},
   "source": [
    "nombre_infected       886\n",
    "nombre_sain          2122\n",
    "nombre_exposed        447\n",
    "nombre_recovered    16545\n",
    "Name: 430, dtype: int64"
   ]
  },
  {
   "cell_type": "markdown",
   "id": "eca105d6",
   "metadata": {},
   "source": [
    "nombre_infected       880\n",
    "nombre_sain          2158\n",
    "nombre_exposed        450\n",
    "nombre_recovered    16512\n",
    "Name: 431, dtype: int64"
   ]
  },
  {
   "cell_type": "markdown",
   "id": "ae723ffc",
   "metadata": {},
   "source": [
    "nombre_infected       881\n",
    "nombre_sain          2169\n",
    "nombre_exposed        463\n",
    "nombre_recovered    16487\n",
    "Name: 432, dtype: int64"
   ]
  },
  {
   "cell_type": "markdown",
   "id": "8a1e5f8a",
   "metadata": {},
   "source": [
    "nombre_infected       901\n",
    "nombre_sain          2190\n",
    "nombre_exposed        448\n",
    "nombre_recovered    16461\n",
    "Name: 433, dtype: int64"
   ]
  },
  {
   "cell_type": "markdown",
   "id": "e25e7c74",
   "metadata": {},
   "source": [
    "nombre_infected       890\n",
    "nombre_sain          2213\n",
    "nombre_exposed        473\n",
    "nombre_recovered    16424\n",
    "Name: 434, dtype: int64"
   ]
  },
  {
   "cell_type": "markdown",
   "id": "e2b722a6",
   "metadata": {},
   "source": [
    "nombre_infected       897\n",
    "nombre_sain          2241\n",
    "nombre_exposed        467\n",
    "nombre_recovered    16395\n",
    "Name: 435, dtype: int64"
   ]
  },
  {
   "cell_type": "markdown",
   "id": "fe37ea08",
   "metadata": {},
   "source": [
    "nombre_infected       886\n",
    "nombre_sain          2252\n",
    "nombre_exposed        482\n",
    "nombre_recovered    16380\n",
    "Name: 436, dtype: int64"
   ]
  },
  {
   "cell_type": "markdown",
   "id": "03f59047",
   "metadata": {},
   "source": [
    "nombre_infected       890\n",
    "nombre_sain          2244\n",
    "nombre_exposed        494\n",
    "nombre_recovered    16372\n",
    "Name: 437, dtype: int64"
   ]
  },
  {
   "cell_type": "markdown",
   "id": "f79ae802",
   "metadata": {},
   "source": [
    "nombre_infected       898\n",
    "nombre_sain          2249\n",
    "nombre_exposed        500\n",
    "nombre_recovered    16353\n",
    "Name: 438, dtype: int64"
   ]
  },
  {
   "cell_type": "markdown",
   "id": "15109144",
   "metadata": {},
   "source": [
    "nombre_infected       884\n",
    "nombre_sain          2258\n",
    "nombre_exposed        516\n",
    "nombre_recovered    16342\n",
    "Name: 439, dtype: int64"
   ]
  },
  {
   "cell_type": "markdown",
   "id": "9a6557fd",
   "metadata": {},
   "source": [
    "nombre_infected       905\n",
    "nombre_sain          2264\n",
    "nombre_exposed        519\n",
    "nombre_recovered    16312\n",
    "Name: 440, dtype: int64"
   ]
  },
  {
   "cell_type": "markdown",
   "id": "ad16bdd2",
   "metadata": {},
   "source": [
    "nombre_infected       902\n",
    "nombre_sain          2248\n",
    "nombre_exposed        518\n",
    "nombre_recovered    16332\n",
    "Name: 441, dtype: int64"
   ]
  },
  {
   "cell_type": "markdown",
   "id": "cb3ae30f",
   "metadata": {},
   "source": [
    "nombre_infected       905\n",
    "nombre_sain          2268\n",
    "nombre_exposed        524\n",
    "nombre_recovered    16303\n",
    "Name: 442, dtype: int64"
   ]
  },
  {
   "cell_type": "markdown",
   "id": "bd754163",
   "metadata": {},
   "source": [
    "nombre_infected       907\n",
    "nombre_sain          2284\n",
    "nombre_exposed        530\n",
    "nombre_recovered    16279\n",
    "Name: 443, dtype: int64"
   ]
  },
  {
   "cell_type": "markdown",
   "id": "8e7850a7",
   "metadata": {},
   "source": [
    "nombre_infected       926\n",
    "nombre_sain          2278\n",
    "nombre_exposed        542\n",
    "nombre_recovered    16254\n",
    "Name: 444, dtype: int64"
   ]
  },
  {
   "cell_type": "markdown",
   "id": "86f94c4a",
   "metadata": {},
   "source": [
    "nombre_infected       926\n",
    "nombre_sain          2293\n",
    "nombre_exposed        540\n",
    "nombre_recovered    16241\n",
    "Name: 445, dtype: int64"
   ]
  },
  {
   "cell_type": "markdown",
   "id": "66b499e9",
   "metadata": {},
   "source": [
    "nombre_infected       929\n",
    "nombre_sain          2301\n",
    "nombre_exposed        524\n",
    "nombre_recovered    16246\n",
    "Name: 446, dtype: int64"
   ]
  },
  {
   "cell_type": "markdown",
   "id": "d66f1f00",
   "metadata": {},
   "source": [
    "nombre_infected       921\n",
    "nombre_sain          2302\n",
    "nombre_exposed        530\n",
    "nombre_recovered    16247\n",
    "Name: 447, dtype: int64"
   ]
  },
  {
   "cell_type": "markdown",
   "id": "2eba0f28",
   "metadata": {},
   "source": [
    "nombre_infected       912\n",
    "nombre_sain          2303\n",
    "nombre_exposed        548\n",
    "nombre_recovered    16237\n",
    "Name: 448, dtype: int64"
   ]
  },
  {
   "cell_type": "markdown",
   "id": "e4a4895c",
   "metadata": {},
   "source": [
    "nombre_infected       881\n",
    "nombre_sain          2295\n",
    "nombre_exposed        582\n",
    "nombre_recovered    16242\n",
    "Name: 449, dtype: int64"
   ]
  },
  {
   "cell_type": "markdown",
   "id": "8fb11ea3",
   "metadata": {},
   "source": [
    "nombre_infected       870\n",
    "nombre_sain          2304\n",
    "nombre_exposed        590\n",
    "nombre_recovered    16236\n",
    "Name: 450, dtype: int64"
   ]
  },
  {
   "cell_type": "markdown",
   "id": "0cdfb31e",
   "metadata": {},
   "source": [
    "nombre_infected       894\n",
    "nombre_sain          2285\n",
    "nombre_exposed        579\n",
    "nombre_recovered    16242\n",
    "Name: 451, dtype: int64"
   ]
  },
  {
   "cell_type": "markdown",
   "id": "3a744908",
   "metadata": {},
   "source": [
    "nombre_infected       914\n",
    "nombre_sain          2275\n",
    "nombre_exposed        588\n",
    "nombre_recovered    16223\n",
    "Name: 452, dtype: int64"
   ]
  },
  {
   "cell_type": "markdown",
   "id": "2916f4a9",
   "metadata": {},
   "source": [
    "nombre_infected       940\n",
    "nombre_sain          2292\n",
    "nombre_exposed        563\n",
    "nombre_recovered    16205\n",
    "Name: 453, dtype: int64"
   ]
  },
  {
   "cell_type": "markdown",
   "id": "71ecb1cf",
   "metadata": {},
   "source": [
    "nombre_infected       971\n",
    "nombre_sain          2298\n",
    "nombre_exposed        538\n",
    "nombre_recovered    16193\n",
    "Name: 454, dtype: int64"
   ]
  },
  {
   "cell_type": "markdown",
   "id": "7d35f4d5",
   "metadata": {},
   "source": [
    "nombre_infected       965\n",
    "nombre_sain          2282\n",
    "nombre_exposed        521\n",
    "nombre_recovered    16232\n",
    "Name: 455, dtype: int64"
   ]
  },
  {
   "cell_type": "markdown",
   "id": "5fbb1475",
   "metadata": {},
   "source": [
    "nombre_infected       973\n",
    "nombre_sain          2276\n",
    "nombre_exposed        524\n",
    "nombre_recovered    16227\n",
    "Name: 456, dtype: int64"
   ]
  },
  {
   "cell_type": "markdown",
   "id": "1d05f7d0",
   "metadata": {},
   "source": [
    "nombre_infected       971\n",
    "nombre_sain          2275\n",
    "nombre_exposed        511\n",
    "nombre_recovered    16243\n",
    "Name: 457, dtype: int64"
   ]
  },
  {
   "cell_type": "markdown",
   "id": "4f8bee9b",
   "metadata": {},
   "source": [
    "nombre_infected       953\n",
    "nombre_sain          2268\n",
    "nombre_exposed        507\n",
    "nombre_recovered    16272\n",
    "Name: 458, dtype: int64"
   ]
  },
  {
   "cell_type": "markdown",
   "id": "1fe721b1",
   "metadata": {},
   "source": [
    "nombre_infected       964\n",
    "nombre_sain          2232\n",
    "nombre_exposed        507\n",
    "nombre_recovered    16297\n",
    "Name: 459, dtype: int64"
   ]
  },
  {
   "cell_type": "markdown",
   "id": "9f403a07",
   "metadata": {},
   "source": [
    "nombre_infected       946\n",
    "nombre_sain          2228\n",
    "nombre_exposed        499\n",
    "nombre_recovered    16327\n",
    "Name: 460, dtype: int64"
   ]
  },
  {
   "cell_type": "markdown",
   "id": "fd4e51c9",
   "metadata": {},
   "source": [
    "nombre_infected       935\n",
    "nombre_sain          2230\n",
    "nombre_exposed        525\n",
    "nombre_recovered    16310\n",
    "Name: 461, dtype: int64"
   ]
  },
  {
   "cell_type": "markdown",
   "id": "8cb6c364",
   "metadata": {},
   "source": [
    "nombre_infected       940\n",
    "nombre_sain          2215\n",
    "nombre_exposed        528\n",
    "nombre_recovered    16317\n",
    "Name: 462, dtype: int64"
   ]
  },
  {
   "cell_type": "markdown",
   "id": "de9645ec",
   "metadata": {},
   "source": [
    "nombre_infected       932\n",
    "nombre_sain          2214\n",
    "nombre_exposed        534\n",
    "nombre_recovered    16320\n",
    "Name: 463, dtype: int64"
   ]
  },
  {
   "cell_type": "markdown",
   "id": "fe139e2d",
   "metadata": {},
   "source": [
    "nombre_infected       904\n",
    "nombre_sain          2223\n",
    "nombre_exposed        527\n",
    "nombre_recovered    16346\n",
    "Name: 464, dtype: int64"
   ]
  },
  {
   "cell_type": "markdown",
   "id": "d667fde8",
   "metadata": {},
   "source": [
    "nombre_infected       893\n",
    "nombre_sain          2222\n",
    "nombre_exposed        536\n",
    "nombre_recovered    16349\n",
    "Name: 465, dtype: int64"
   ]
  },
  {
   "cell_type": "markdown",
   "id": "17377c27",
   "metadata": {},
   "source": [
    "nombre_infected       874\n",
    "nombre_sain          2218\n",
    "nombre_exposed        555\n",
    "nombre_recovered    16353\n",
    "Name: 466, dtype: int64"
   ]
  },
  {
   "cell_type": "markdown",
   "id": "217c976c",
   "metadata": {},
   "source": [
    "nombre_infected       871\n",
    "nombre_sain          2219\n",
    "nombre_exposed        558\n",
    "nombre_recovered    16352\n",
    "Name: 467, dtype: int64"
   ]
  },
  {
   "cell_type": "markdown",
   "id": "9fd3363f",
   "metadata": {},
   "source": [
    "nombre_infected       871\n",
    "nombre_sain          2202\n",
    "nombre_exposed        570\n",
    "nombre_recovered    16357\n",
    "Name: 468, dtype: int64"
   ]
  },
  {
   "cell_type": "markdown",
   "id": "4425aaf7",
   "metadata": {},
   "source": [
    "nombre_infected       888\n",
    "nombre_sain          2202\n",
    "nombre_exposed        558\n",
    "nombre_recovered    16352\n",
    "Name: 469, dtype: int64"
   ]
  },
  {
   "cell_type": "markdown",
   "id": "326413b3",
   "metadata": {},
   "source": [
    "nombre_infected       899\n",
    "nombre_sain          2217\n",
    "nombre_exposed        540\n",
    "nombre_recovered    16344\n",
    "Name: 470, dtype: int64"
   ]
  },
  {
   "cell_type": "markdown",
   "id": "0c858ece",
   "metadata": {},
   "source": [
    "nombre_infected       922\n",
    "nombre_sain          2200\n",
    "nombre_exposed        529\n",
    "nombre_recovered    16349\n",
    "Name: 471, dtype: int64"
   ]
  },
  {
   "cell_type": "markdown",
   "id": "660c821c",
   "metadata": {},
   "source": [
    "nombre_infected       927\n",
    "nombre_sain          2222\n",
    "nombre_exposed        536\n",
    "nombre_recovered    16315\n",
    "Name: 472, dtype: int64"
   ]
  },
  {
   "cell_type": "markdown",
   "id": "e14c7666",
   "metadata": {},
   "source": [
    "nombre_infected       914\n",
    "nombre_sain          2207\n",
    "nombre_exposed        549\n",
    "nombre_recovered    16330\n",
    "Name: 473, dtype: int64"
   ]
  },
  {
   "cell_type": "markdown",
   "id": "94962bb2",
   "metadata": {},
   "source": [
    "nombre_infected       910\n",
    "nombre_sain          2203\n",
    "nombre_exposed        531\n",
    "nombre_recovered    16356\n",
    "Name: 474, dtype: int64"
   ]
  },
  {
   "cell_type": "markdown",
   "id": "d91fe19a",
   "metadata": {},
   "source": [
    "nombre_infected       895\n",
    "nombre_sain          2198\n",
    "nombre_exposed        530\n",
    "nombre_recovered    16377\n",
    "Name: 475, dtype: int64"
   ]
  },
  {
   "cell_type": "markdown",
   "id": "d9f8a2ed",
   "metadata": {},
   "source": [
    "nombre_infected       900\n",
    "nombre_sain          2197\n",
    "nombre_exposed        531\n",
    "nombre_recovered    16372\n",
    "Name: 476, dtype: int64"
   ]
  },
  {
   "cell_type": "markdown",
   "id": "9ad496e8",
   "metadata": {},
   "source": [
    "nombre_infected       910\n",
    "nombre_sain          2194\n",
    "nombre_exposed        524\n",
    "nombre_recovered    16372\n",
    "Name: 477, dtype: int64"
   ]
  },
  {
   "cell_type": "markdown",
   "id": "9e1497a6",
   "metadata": {},
   "source": [
    "nombre_infected       909\n",
    "nombre_sain          2199\n",
    "nombre_exposed        537\n",
    "nombre_recovered    16355\n",
    "Name: 478, dtype: int64"
   ]
  },
  {
   "cell_type": "markdown",
   "id": "4d045069",
   "metadata": {},
   "source": [
    "nombre_infected       918\n",
    "nombre_sain          2199\n",
    "nombre_exposed        527\n",
    "nombre_recovered    16356\n",
    "Name: 479, dtype: int64"
   ]
  },
  {
   "cell_type": "markdown",
   "id": "ce99ba27",
   "metadata": {},
   "source": [
    "nombre_infected       922\n",
    "nombre_sain          2191\n",
    "nombre_exposed        525\n",
    "nombre_recovered    16362\n",
    "Name: 480, dtype: int64"
   ]
  },
  {
   "cell_type": "markdown",
   "id": "9e88f4ed",
   "metadata": {},
   "source": [
    "nombre_infected       917\n",
    "nombre_sain          2186\n",
    "nombre_exposed        514\n",
    "nombre_recovered    16383\n",
    "Name: 481, dtype: int64"
   ]
  },
  {
   "cell_type": "markdown",
   "id": "7e647d96",
   "metadata": {},
   "source": [
    "nombre_infected       918\n",
    "nombre_sain          2222\n",
    "nombre_exposed        499\n",
    "nombre_recovered    16361\n",
    "Name: 482, dtype: int64"
   ]
  },
  {
   "cell_type": "markdown",
   "id": "2f18342a",
   "metadata": {},
   "source": [
    "nombre_infected       908\n",
    "nombre_sain          2209\n",
    "nombre_exposed        521\n",
    "nombre_recovered    16362\n",
    "Name: 483, dtype: int64"
   ]
  },
  {
   "cell_type": "markdown",
   "id": "32fabe80",
   "metadata": {},
   "source": [
    "nombre_infected       921\n",
    "nombre_sain          2199\n",
    "nombre_exposed        525\n",
    "nombre_recovered    16355\n",
    "Name: 484, dtype: int64"
   ]
  },
  {
   "cell_type": "markdown",
   "id": "c85b339f",
   "metadata": {},
   "source": [
    "nombre_infected       924\n",
    "nombre_sain          2192\n",
    "nombre_exposed        498\n",
    "nombre_recovered    16386\n",
    "Name: 485, dtype: int64"
   ]
  },
  {
   "cell_type": "markdown",
   "id": "901dfc94",
   "metadata": {},
   "source": [
    "nombre_infected       944\n",
    "nombre_sain          2178\n",
    "nombre_exposed        477\n",
    "nombre_recovered    16401\n",
    "Name: 486, dtype: int64"
   ]
  },
  {
   "cell_type": "markdown",
   "id": "9f441811",
   "metadata": {},
   "source": [
    "nombre_infected       935\n",
    "nombre_sain          2155\n",
    "nombre_exposed        505\n",
    "nombre_recovered    16405\n",
    "Name: 487, dtype: int64"
   ]
  },
  {
   "cell_type": "markdown",
   "id": "04d5d316",
   "metadata": {},
   "source": [
    "nombre_infected       929\n",
    "nombre_sain          2142\n",
    "nombre_exposed        519\n",
    "nombre_recovered    16410\n",
    "Name: 488, dtype: int64"
   ]
  },
  {
   "cell_type": "markdown",
   "id": "d11a92b4",
   "metadata": {},
   "source": [
    "nombre_infected       908\n",
    "nombre_sain          2111\n",
    "nombre_exposed        521\n",
    "nombre_recovered    16460\n",
    "Name: 489, dtype: int64"
   ]
  },
  {
   "cell_type": "markdown",
   "id": "fe3331c8",
   "metadata": {},
   "source": [
    "nombre_infected       897\n",
    "nombre_sain          2096\n",
    "nombre_exposed        527\n",
    "nombre_recovered    16480\n",
    "Name: 490, dtype: int64"
   ]
  },
  {
   "cell_type": "markdown",
   "id": "9f597038",
   "metadata": {},
   "source": [
    "nombre_infected       930\n",
    "nombre_sain          2073\n",
    "nombre_exposed        501\n",
    "nombre_recovered    16496\n",
    "Name: 491, dtype: int64"
   ]
  },
  {
   "cell_type": "markdown",
   "id": "cdbc7b93",
   "metadata": {},
   "source": [
    "nombre_infected       927\n",
    "nombre_sain          2049\n",
    "nombre_exposed        500\n",
    "nombre_recovered    16524\n",
    "Name: 492, dtype: int64"
   ]
  },
  {
   "cell_type": "markdown",
   "id": "920aa94e",
   "metadata": {},
   "source": [
    "nombre_infected       913\n",
    "nombre_sain          2004\n",
    "nombre_exposed        529\n",
    "nombre_recovered    16554\n",
    "Name: 493, dtype: int64"
   ]
  },
  {
   "cell_type": "markdown",
   "id": "0381de86",
   "metadata": {},
   "source": [
    "nombre_infected       910\n",
    "nombre_sain          1989\n",
    "nombre_exposed        514\n",
    "nombre_recovered    16587\n",
    "Name: 494, dtype: int64"
   ]
  },
  {
   "cell_type": "markdown",
   "id": "78da25b8",
   "metadata": {},
   "source": [
    "nombre_infected       911\n",
    "nombre_sain          1962\n",
    "nombre_exposed        509\n",
    "nombre_recovered    16618\n",
    "Name: 495, dtype: int64"
   ]
  },
  {
   "cell_type": "markdown",
   "id": "e1ff29e6",
   "metadata": {},
   "source": [
    "nombre_infected       911\n",
    "nombre_sain          1953\n",
    "nombre_exposed        494\n",
    "nombre_recovered    16642\n",
    "Name: 496, dtype: int64"
   ]
  },
  {
   "cell_type": "markdown",
   "id": "3379e323",
   "metadata": {},
   "source": [
    "nombre_infected       903\n",
    "nombre_sain          1948\n",
    "nombre_exposed        478\n",
    "nombre_recovered    16671\n",
    "Name: 497, dtype: int64"
   ]
  },
  {
   "cell_type": "markdown",
   "id": "ef85d551",
   "metadata": {},
   "source": [
    "nombre_infected       884\n",
    "nombre_sain          1931\n",
    "nombre_exposed        469\n",
    "nombre_recovered    16716\n",
    "Name: 498, dtype: int64"
   ]
  },
  {
   "cell_type": "markdown",
   "id": "556db3c5",
   "metadata": {},
   "source": [
    "nombre_infected       870\n",
    "nombre_sain          1922\n",
    "nombre_exposed        467\n",
    "nombre_recovered    16741\n",
    "Name: 499, dtype: int64"
   ]
  },
  {
   "cell_type": "markdown",
   "id": "815b8dda",
   "metadata": {},
   "source": [
    "nombre_infected       853\n",
    "nombre_sain          1898\n",
    "nombre_exposed        476\n",
    "nombre_recovered    16773\n",
    "Name: 500, dtype: int64"
   ]
  },
  {
   "cell_type": "markdown",
   "id": "588c5159",
   "metadata": {},
   "source": [
    "nombre_infected       841\n",
    "nombre_sain          1900\n",
    "nombre_exposed        466\n",
    "nombre_recovered    16793\n",
    "Name: 501, dtype: int64"
   ]
  },
  {
   "cell_type": "markdown",
   "id": "ea070f4c",
   "metadata": {},
   "source": [
    "nombre_infected       838\n",
    "nombre_sain          1913\n",
    "nombre_exposed        465\n",
    "nombre_recovered    16784\n",
    "Name: 502, dtype: int64"
   ]
  },
  {
   "cell_type": "markdown",
   "id": "1356364c",
   "metadata": {},
   "source": [
    "nombre_infected       831\n",
    "nombre_sain          1902\n",
    "nombre_exposed        462\n",
    "nombre_recovered    16805\n",
    "Name: 503, dtype: int64"
   ]
  },
  {
   "cell_type": "markdown",
   "id": "a390f63f",
   "metadata": {},
   "source": [
    "nombre_infected       828\n",
    "nombre_sain          1916\n",
    "nombre_exposed        440\n",
    "nombre_recovered    16816\n",
    "Name: 504, dtype: int64"
   ]
  },
  {
   "cell_type": "markdown",
   "id": "1cb791c7",
   "metadata": {},
   "source": [
    "nombre_infected       831\n",
    "nombre_sain          1891\n",
    "nombre_exposed        426\n",
    "nombre_recovered    16852\n",
    "Name: 505, dtype: int64"
   ]
  },
  {
   "cell_type": "markdown",
   "id": "5ee6fc85",
   "metadata": {},
   "source": [
    "nombre_infected       823\n",
    "nombre_sain          1895\n",
    "nombre_exposed        421\n",
    "nombre_recovered    16861\n",
    "Name: 506, dtype: int64"
   ]
  },
  {
   "cell_type": "markdown",
   "id": "e64636b8",
   "metadata": {},
   "source": [
    "nombre_infected       839\n",
    "nombre_sain          1905\n",
    "nombre_exposed        397\n",
    "nombre_recovered    16859\n",
    "Name: 507, dtype: int64"
   ]
  },
  {
   "cell_type": "markdown",
   "id": "2587cc70",
   "metadata": {},
   "source": [
    "nombre_infected       840\n",
    "nombre_sain          1887\n",
    "nombre_exposed        390\n",
    "nombre_recovered    16883\n",
    "Name: 508, dtype: int64"
   ]
  },
  {
   "cell_type": "markdown",
   "id": "5258f6b6",
   "metadata": {},
   "source": [
    "nombre_infected       828\n",
    "nombre_sain          1902\n",
    "nombre_exposed        372\n",
    "nombre_recovered    16898\n",
    "Name: 509, dtype: int64"
   ]
  },
  {
   "cell_type": "markdown",
   "id": "e905805d",
   "metadata": {},
   "source": [
    "nombre_infected       837\n",
    "nombre_sain          1931\n",
    "nombre_exposed        359\n",
    "nombre_recovered    16873\n",
    "Name: 510, dtype: int64"
   ]
  },
  {
   "cell_type": "markdown",
   "id": "70e5c106",
   "metadata": {},
   "source": [
    "nombre_infected       811\n",
    "nombre_sain          1964\n",
    "nombre_exposed        364\n",
    "nombre_recovered    16861\n",
    "Name: 511, dtype: int64"
   ]
  },
  {
   "cell_type": "markdown",
   "id": "4bb70e1f",
   "metadata": {},
   "source": [
    "nombre_infected       782\n",
    "nombre_sain          1975\n",
    "nombre_exposed        393\n",
    "nombre_recovered    16850\n",
    "Name: 512, dtype: int64"
   ]
  },
  {
   "cell_type": "markdown",
   "id": "59f66e03",
   "metadata": {},
   "source": [
    "nombre_infected       752\n",
    "nombre_sain          2025\n",
    "nombre_exposed        389\n",
    "nombre_recovered    16834\n",
    "Name: 513, dtype: int64"
   ]
  },
  {
   "cell_type": "markdown",
   "id": "6e04ac2c",
   "metadata": {},
   "source": [
    "nombre_infected       762\n",
    "nombre_sain          2031\n",
    "nombre_exposed        374\n",
    "nombre_recovered    16833\n",
    "Name: 514, dtype: int64"
   ]
  },
  {
   "cell_type": "markdown",
   "id": "3cecc2ad",
   "metadata": {},
   "source": [
    "nombre_infected       750\n",
    "nombre_sain          2051\n",
    "nombre_exposed        390\n",
    "nombre_recovered    16809\n",
    "Name: 515, dtype: int64"
   ]
  },
  {
   "cell_type": "markdown",
   "id": "7177e075",
   "metadata": {},
   "source": [
    "nombre_infected       736\n",
    "nombre_sain          2077\n",
    "nombre_exposed        389\n",
    "nombre_recovered    16798\n",
    "Name: 516, dtype: int64"
   ]
  },
  {
   "cell_type": "markdown",
   "id": "f3649930",
   "metadata": {},
   "source": [
    "nombre_infected       714\n",
    "nombre_sain          2095\n",
    "nombre_exposed        399\n",
    "nombre_recovered    16792\n",
    "Name: 517, dtype: int64"
   ]
  },
  {
   "cell_type": "markdown",
   "id": "f864c4ec",
   "metadata": {},
   "source": [
    "nombre_infected       709\n",
    "nombre_sain          2138\n",
    "nombre_exposed        395\n",
    "nombre_recovered    16758\n",
    "Name: 518, dtype: int64"
   ]
  },
  {
   "cell_type": "markdown",
   "id": "45007c45",
   "metadata": {},
   "source": [
    "nombre_infected       683\n",
    "nombre_sain          2178\n",
    "nombre_exposed        407\n",
    "nombre_recovered    16732\n",
    "Name: 519, dtype: int64"
   ]
  },
  {
   "cell_type": "markdown",
   "id": "1f4fc4cb",
   "metadata": {},
   "source": [
    "nombre_infected       662\n",
    "nombre_sain          2211\n",
    "nombre_exposed        417\n",
    "nombre_recovered    16710\n",
    "Name: 520, dtype: int64"
   ]
  },
  {
   "cell_type": "markdown",
   "id": "3ac11d40",
   "metadata": {},
   "source": [
    "nombre_infected       673\n",
    "nombre_sain          2246\n",
    "nombre_exposed        395\n",
    "nombre_recovered    16686\n",
    "Name: 521, dtype: int64"
   ]
  },
  {
   "cell_type": "markdown",
   "id": "474d09e2",
   "metadata": {},
   "source": [
    "nombre_infected       677\n",
    "nombre_sain          2255\n",
    "nombre_exposed        396\n",
    "nombre_recovered    16672\n",
    "Name: 522, dtype: int64"
   ]
  },
  {
   "cell_type": "markdown",
   "id": "d9b5f1b8",
   "metadata": {},
   "source": [
    "nombre_infected       679\n",
    "nombre_sain          2255\n",
    "nombre_exposed        378\n",
    "nombre_recovered    16688\n",
    "Name: 523, dtype: int64"
   ]
  },
  {
   "cell_type": "markdown",
   "id": "a5ec4f5e",
   "metadata": {},
   "source": [
    "nombre_infected       696\n",
    "nombre_sain          2276\n",
    "nombre_exposed        361\n",
    "nombre_recovered    16667\n",
    "Name: 524, dtype: int64"
   ]
  },
  {
   "cell_type": "markdown",
   "id": "5ffd0be6",
   "metadata": {},
   "source": [
    "nombre_infected       681\n",
    "nombre_sain          2312\n",
    "nombre_exposed        368\n",
    "nombre_recovered    16639\n",
    "Name: 525, dtype: int64"
   ]
  },
  {
   "cell_type": "markdown",
   "id": "46b41ce6",
   "metadata": {},
   "source": [
    "nombre_infected       673\n",
    "nombre_sain          2336\n",
    "nombre_exposed        361\n",
    "nombre_recovered    16630\n",
    "Name: 526, dtype: int64"
   ]
  },
  {
   "cell_type": "markdown",
   "id": "058db926",
   "metadata": {},
   "source": [
    "nombre_infected       676\n",
    "nombre_sain          2356\n",
    "nombre_exposed        368\n",
    "nombre_recovered    16600\n",
    "Name: 527, dtype: int64"
   ]
  },
  {
   "cell_type": "markdown",
   "id": "de512724",
   "metadata": {},
   "source": [
    "nombre_infected       663\n",
    "nombre_sain          2381\n",
    "nombre_exposed        370\n",
    "nombre_recovered    16586\n",
    "Name: 528, dtype: int64"
   ]
  },
  {
   "cell_type": "markdown",
   "id": "082a17c5",
   "metadata": {},
   "source": [
    "nombre_infected       653\n",
    "nombre_sain          2386\n",
    "nombre_exposed        415\n",
    "nombre_recovered    16546\n",
    "Name: 529, dtype: int64"
   ]
  },
  {
   "cell_type": "markdown",
   "id": "268beb13",
   "metadata": {},
   "source": [
    "nombre_infected       659\n",
    "nombre_sain          2396\n",
    "nombre_exposed        420\n",
    "nombre_recovered    16525\n",
    "Name: 530, dtype: int64"
   ]
  },
  {
   "cell_type": "markdown",
   "id": "57ed78ba",
   "metadata": {},
   "source": [
    "nombre_infected       651\n",
    "nombre_sain          2438\n",
    "nombre_exposed        418\n",
    "nombre_recovered    16493\n",
    "Name: 531, dtype: int64"
   ]
  },
  {
   "cell_type": "markdown",
   "id": "e0558456",
   "metadata": {},
   "source": [
    "nombre_infected       639\n",
    "nombre_sain          2446\n",
    "nombre_exposed        425\n",
    "nombre_recovered    16490\n",
    "Name: 532, dtype: int64"
   ]
  },
  {
   "cell_type": "markdown",
   "id": "464adfaa",
   "metadata": {},
   "source": [
    "nombre_infected       646\n",
    "nombre_sain          2448\n",
    "nombre_exposed        440\n",
    "nombre_recovered    16466\n",
    "Name: 533, dtype: int64"
   ]
  },
  {
   "cell_type": "markdown",
   "id": "639d298a",
   "metadata": {},
   "source": [
    "nombre_infected       663\n",
    "nombre_sain          2488\n",
    "nombre_exposed        414\n",
    "nombre_recovered    16435\n",
    "Name: 534, dtype: int64"
   ]
  },
  {
   "cell_type": "markdown",
   "id": "1d7a2d84",
   "metadata": {},
   "source": [
    "nombre_infected       668\n",
    "nombre_sain          2495\n",
    "nombre_exposed        434\n",
    "nombre_recovered    16403\n",
    "Name: 535, dtype: int64"
   ]
  },
  {
   "cell_type": "markdown",
   "id": "f219e472",
   "metadata": {},
   "source": [
    "nombre_infected       700\n",
    "nombre_sain          2503\n",
    "nombre_exposed        418\n",
    "nombre_recovered    16379\n",
    "Name: 536, dtype: int64"
   ]
  },
  {
   "cell_type": "markdown",
   "id": "f24796f0",
   "metadata": {},
   "source": [
    "nombre_infected       711\n",
    "nombre_sain          2506\n",
    "nombre_exposed        430\n",
    "nombre_recovered    16353\n",
    "Name: 537, dtype: int64"
   ]
  },
  {
   "cell_type": "markdown",
   "id": "24fe5eda",
   "metadata": {},
   "source": [
    "nombre_infected       712\n",
    "nombre_sain          2490\n",
    "nombre_exposed        431\n",
    "nombre_recovered    16367\n",
    "Name: 538, dtype: int64"
   ]
  },
  {
   "cell_type": "markdown",
   "id": "f5703ffe",
   "metadata": {},
   "source": [
    "nombre_infected       717\n",
    "nombre_sain          2512\n",
    "nombre_exposed        440\n",
    "nombre_recovered    16331\n",
    "Name: 539, dtype: int64"
   ]
  },
  {
   "cell_type": "markdown",
   "id": "85e4972c",
   "metadata": {},
   "source": [
    "nombre_infected       712\n",
    "nombre_sain          2512\n",
    "nombre_exposed        449\n",
    "nombre_recovered    16327\n",
    "Name: 540, dtype: int64"
   ]
  },
  {
   "cell_type": "markdown",
   "id": "b8dab838",
   "metadata": {},
   "source": [
    "nombre_infected       711\n",
    "nombre_sain          2527\n",
    "nombre_exposed        444\n",
    "nombre_recovered    16318\n",
    "Name: 541, dtype: int64"
   ]
  },
  {
   "cell_type": "markdown",
   "id": "35b895ab",
   "metadata": {},
   "source": [
    "nombre_infected       705\n",
    "nombre_sain          2535\n",
    "nombre_exposed        445\n",
    "nombre_recovered    16315\n",
    "Name: 542, dtype: int64"
   ]
  },
  {
   "cell_type": "markdown",
   "id": "152947d8",
   "metadata": {},
   "source": [
    "nombre_infected       713\n",
    "nombre_sain          2564\n",
    "nombre_exposed        454\n",
    "nombre_recovered    16269\n",
    "Name: 543, dtype: int64"
   ]
  },
  {
   "cell_type": "markdown",
   "id": "6a57e63d",
   "metadata": {},
   "source": [
    "nombre_infected       728\n",
    "nombre_sain          2564\n",
    "nombre_exposed        454\n",
    "nombre_recovered    16254\n",
    "Name: 544, dtype: int64"
   ]
  },
  {
   "cell_type": "markdown",
   "id": "29a0b0b1",
   "metadata": {},
   "source": [
    "nombre_infected       735\n",
    "nombre_sain          2572\n",
    "nombre_exposed        471\n",
    "nombre_recovered    16222\n",
    "Name: 545, dtype: int64"
   ]
  },
  {
   "cell_type": "markdown",
   "id": "aec7d2cf",
   "metadata": {},
   "source": [
    "nombre_infected       732\n",
    "nombre_sain          2567\n",
    "nombre_exposed        503\n",
    "nombre_recovered    16198\n",
    "Name: 546, dtype: int64"
   ]
  },
  {
   "cell_type": "markdown",
   "id": "92fe6185",
   "metadata": {},
   "source": [
    "nombre_infected       763\n",
    "nombre_sain          2594\n",
    "nombre_exposed        511\n",
    "nombre_recovered    16132\n",
    "Name: 547, dtype: int64"
   ]
  },
  {
   "cell_type": "markdown",
   "id": "5bcfa221",
   "metadata": {},
   "source": [
    "nombre_infected       775\n",
    "nombre_sain          2622\n",
    "nombre_exposed        506\n",
    "nombre_recovered    16097\n",
    "Name: 548, dtype: int64"
   ]
  },
  {
   "cell_type": "markdown",
   "id": "6f22ca0d",
   "metadata": {},
   "source": [
    "nombre_infected       791\n",
    "nombre_sain          2624\n",
    "nombre_exposed        508\n",
    "nombre_recovered    16077\n",
    "Name: 549, dtype: int64"
   ]
  },
  {
   "cell_type": "markdown",
   "id": "f361aaff",
   "metadata": {},
   "source": [
    "nombre_infected       798\n",
    "nombre_sain          2602\n",
    "nombre_exposed        520\n",
    "nombre_recovered    16080\n",
    "Name: 550, dtype: int64"
   ]
  },
  {
   "cell_type": "markdown",
   "id": "f568573d",
   "metadata": {},
   "source": [
    "nombre_infected       819\n",
    "nombre_sain          2597\n",
    "nombre_exposed        523\n",
    "nombre_recovered    16061\n",
    "Name: 551, dtype: int64"
   ]
  },
  {
   "cell_type": "markdown",
   "id": "c69c90b2",
   "metadata": {},
   "source": [
    "nombre_infected       834\n",
    "nombre_sain          2625\n",
    "nombre_exposed        524\n",
    "nombre_recovered    16017\n",
    "Name: 552, dtype: int64"
   ]
  },
  {
   "cell_type": "markdown",
   "id": "20c02f48",
   "metadata": {},
   "source": [
    "nombre_infected       854\n",
    "nombre_sain          2631\n",
    "nombre_exposed        522\n",
    "nombre_recovered    15993\n",
    "Name: 553, dtype: int64"
   ]
  },
  {
   "cell_type": "markdown",
   "id": "11103cd1",
   "metadata": {},
   "source": [
    "nombre_infected       873\n",
    "nombre_sain          2612\n",
    "nombre_exposed        535\n",
    "nombre_recovered    15980\n",
    "Name: 554, dtype: int64"
   ]
  },
  {
   "cell_type": "markdown",
   "id": "81e58004",
   "metadata": {},
   "source": [
    "nombre_infected       889\n",
    "nombre_sain          2568\n",
    "nombre_exposed        564\n",
    "nombre_recovered    15979\n",
    "Name: 555, dtype: int64"
   ]
  },
  {
   "cell_type": "markdown",
   "id": "de965dce",
   "metadata": {},
   "source": [
    "nombre_infected       903\n",
    "nombre_sain          2545\n",
    "nombre_exposed        571\n",
    "nombre_recovered    15981\n",
    "Name: 556, dtype: int64"
   ]
  },
  {
   "cell_type": "markdown",
   "id": "330c1ebe",
   "metadata": {},
   "source": [
    "nombre_infected       901\n",
    "nombre_sain          2505\n",
    "nombre_exposed        570\n",
    "nombre_recovered    16024\n",
    "Name: 557, dtype: int64"
   ]
  },
  {
   "cell_type": "markdown",
   "id": "0a0eb945",
   "metadata": {},
   "source": [
    "nombre_infected       922\n",
    "nombre_sain          2493\n",
    "nombre_exposed        577\n",
    "nombre_recovered    16008\n",
    "Name: 558, dtype: int64"
   ]
  },
  {
   "cell_type": "markdown",
   "id": "fbad4bfc",
   "metadata": {},
   "source": [
    "nombre_infected       927\n",
    "nombre_sain          2476\n",
    "nombre_exposed        573\n",
    "nombre_recovered    16024\n",
    "Name: 559, dtype: int64"
   ]
  },
  {
   "cell_type": "markdown",
   "id": "cfe8e49d",
   "metadata": {},
   "source": [
    "nombre_infected       939\n",
    "nombre_sain          2461\n",
    "nombre_exposed        569\n",
    "nombre_recovered    16031\n",
    "Name: 560, dtype: int64"
   ]
  },
  {
   "cell_type": "markdown",
   "id": "08fbb3a8",
   "metadata": {},
   "source": [
    "nombre_infected       947\n",
    "nombre_sain          2451\n",
    "nombre_exposed        556\n",
    "nombre_recovered    16046\n",
    "Name: 561, dtype: int64"
   ]
  },
  {
   "cell_type": "markdown",
   "id": "b62854b3",
   "metadata": {},
   "source": [
    "nombre_infected       950\n",
    "nombre_sain          2434\n",
    "nombre_exposed        552\n",
    "nombre_recovered    16064\n",
    "Name: 562, dtype: int64"
   ]
  },
  {
   "cell_type": "markdown",
   "id": "08f485a5",
   "metadata": {},
   "source": [
    "nombre_infected       949\n",
    "nombre_sain          2402\n",
    "nombre_exposed        557\n",
    "nombre_recovered    16092\n",
    "Name: 563, dtype: int64"
   ]
  },
  {
   "cell_type": "markdown",
   "id": "daa1d0f5",
   "metadata": {},
   "source": [
    "nombre_infected       975\n",
    "nombre_sain          2343\n",
    "nombre_exposed        558\n",
    "nombre_recovered    16124\n",
    "Name: 564, dtype: int64"
   ]
  },
  {
   "cell_type": "markdown",
   "id": "120455b3",
   "metadata": {},
   "source": [
    "nombre_infected       968\n",
    "nombre_sain          2333\n",
    "nombre_exposed        557\n",
    "nombre_recovered    16142\n",
    "Name: 565, dtype: int64"
   ]
  },
  {
   "cell_type": "markdown",
   "id": "5d153b49",
   "metadata": {},
   "source": [
    "nombre_infected       971\n",
    "nombre_sain          2315\n",
    "nombre_exposed        567\n",
    "nombre_recovered    16147\n",
    "Name: 566, dtype: int64"
   ]
  },
  {
   "cell_type": "markdown",
   "id": "2b3121c0",
   "metadata": {},
   "source": [
    "nombre_infected       959\n",
    "nombre_sain          2278\n",
    "nombre_exposed        593\n",
    "nombre_recovered    16170\n",
    "Name: 567, dtype: int64"
   ]
  },
  {
   "cell_type": "markdown",
   "id": "d3a3429d",
   "metadata": {},
   "source": [
    "nombre_infected       959\n",
    "nombre_sain          2240\n",
    "nombre_exposed        590\n",
    "nombre_recovered    16211\n",
    "Name: 568, dtype: int64"
   ]
  },
  {
   "cell_type": "markdown",
   "id": "f9b46d2c",
   "metadata": {},
   "source": [
    "nombre_infected       991\n",
    "nombre_sain          2221\n",
    "nombre_exposed        581\n",
    "nombre_recovered    16207\n",
    "Name: 569, dtype: int64"
   ]
  },
  {
   "cell_type": "markdown",
   "id": "c94fa81a",
   "metadata": {},
   "source": [
    "nombre_infected      1003\n",
    "nombre_sain          2177\n",
    "nombre_exposed        594\n",
    "nombre_recovered    16226\n",
    "Name: 570, dtype: int64"
   ]
  },
  {
   "cell_type": "markdown",
   "id": "9cd638fe",
   "metadata": {},
   "source": [
    "nombre_infected      1008\n",
    "nombre_sain          2156\n",
    "nombre_exposed        578\n",
    "nombre_recovered    16258\n",
    "Name: 571, dtype: int64"
   ]
  },
  {
   "cell_type": "markdown",
   "id": "e4717a29",
   "metadata": {},
   "source": [
    "nombre_infected      1013\n",
    "nombre_sain          2157\n",
    "nombre_exposed        565\n",
    "nombre_recovered    16265\n",
    "Name: 572, dtype: int64"
   ]
  },
  {
   "cell_type": "markdown",
   "id": "fb0aaad5",
   "metadata": {},
   "source": [
    "nombre_infected      1035\n",
    "nombre_sain          2142\n",
    "nombre_exposed        541\n",
    "nombre_recovered    16282\n",
    "Name: 573, dtype: int64"
   ]
  },
  {
   "cell_type": "markdown",
   "id": "da1edd9b",
   "metadata": {},
   "source": [
    "nombre_infected      1025\n",
    "nombre_sain          2123\n",
    "nombre_exposed        555\n",
    "nombre_recovered    16297\n",
    "Name: 574, dtype: int64"
   ]
  },
  {
   "cell_type": "markdown",
   "id": "d57f537c",
   "metadata": {},
   "source": [
    "nombre_infected      1036\n",
    "nombre_sain          2098\n",
    "nombre_exposed        539\n",
    "nombre_recovered    16327\n",
    "Name: 575, dtype: int64"
   ]
  },
  {
   "cell_type": "markdown",
   "id": "bd2ed866",
   "metadata": {},
   "source": [
    "nombre_infected      1009\n",
    "nombre_sain          2105\n",
    "nombre_exposed        538\n",
    "nombre_recovered    16348\n",
    "Name: 576, dtype: int64"
   ]
  },
  {
   "cell_type": "markdown",
   "id": "04788d31",
   "metadata": {},
   "source": [
    "nombre_infected      1003\n",
    "nombre_sain          2095\n",
    "nombre_exposed        529\n",
    "nombre_recovered    16373\n",
    "Name: 577, dtype: int64"
   ]
  },
  {
   "cell_type": "markdown",
   "id": "c46c5726",
   "metadata": {},
   "source": [
    "nombre_infected       996\n",
    "nombre_sain          2076\n",
    "nombre_exposed        531\n",
    "nombre_recovered    16397\n",
    "Name: 578, dtype: int64"
   ]
  },
  {
   "cell_type": "markdown",
   "id": "a8893c49",
   "metadata": {},
   "source": [
    "nombre_infected       993\n",
    "nombre_sain          2061\n",
    "nombre_exposed        535\n",
    "nombre_recovered    16411\n",
    "Name: 579, dtype: int64"
   ]
  },
  {
   "cell_type": "markdown",
   "id": "c91f0e86",
   "metadata": {},
   "source": [
    "nombre_infected       979\n",
    "nombre_sain          2039\n",
    "nombre_exposed        536\n",
    "nombre_recovered    16446\n",
    "Name: 580, dtype: int64"
   ]
  },
  {
   "cell_type": "markdown",
   "id": "52ee8225",
   "metadata": {},
   "source": [
    "nombre_infected       977\n",
    "nombre_sain          2023\n",
    "nombre_exposed        534\n",
    "nombre_recovered    16466\n",
    "Name: 581, dtype: int64"
   ]
  },
  {
   "cell_type": "markdown",
   "id": "75b125a8",
   "metadata": {},
   "source": [
    "nombre_infected       970\n",
    "nombre_sain          2023\n",
    "nombre_exposed        512\n",
    "nombre_recovered    16495\n",
    "Name: 582, dtype: int64"
   ]
  },
  {
   "cell_type": "markdown",
   "id": "c335b1df",
   "metadata": {},
   "source": [
    "nombre_infected       974\n",
    "nombre_sain          2026\n",
    "nombre_exposed        501\n",
    "nombre_recovered    16499\n",
    "Name: 583, dtype: int64"
   ]
  },
  {
   "cell_type": "markdown",
   "id": "159286fd",
   "metadata": {},
   "source": [
    "nombre_infected       980\n",
    "nombre_sain          2008\n",
    "nombre_exposed        478\n",
    "nombre_recovered    16534\n",
    "Name: 584, dtype: int64"
   ]
  },
  {
   "cell_type": "markdown",
   "id": "74e67b46",
   "metadata": {},
   "source": [
    "nombre_infected       973\n",
    "nombre_sain          1997\n",
    "nombre_exposed        465\n",
    "nombre_recovered    16565\n",
    "Name: 585, dtype: int64"
   ]
  },
  {
   "cell_type": "markdown",
   "id": "67ca1788",
   "metadata": {},
   "source": [
    "nombre_infected       946\n",
    "nombre_sain          2004\n",
    "nombre_exposed        460\n",
    "nombre_recovered    16590\n",
    "Name: 586, dtype: int64"
   ]
  },
  {
   "cell_type": "markdown",
   "id": "72feaf25",
   "metadata": {},
   "source": [
    "nombre_infected       921\n",
    "nombre_sain          2023\n",
    "nombre_exposed        467\n",
    "nombre_recovered    16589\n",
    "Name: 587, dtype: int64"
   ]
  },
  {
   "cell_type": "markdown",
   "id": "5e57a46a",
   "metadata": {},
   "source": [
    "nombre_infected       925\n",
    "nombre_sain          2033\n",
    "nombre_exposed        463\n",
    "nombre_recovered    16579\n",
    "Name: 588, dtype: int64"
   ]
  },
  {
   "cell_type": "markdown",
   "id": "cdf4eb47",
   "metadata": {},
   "source": [
    "nombre_infected       917\n",
    "nombre_sain          2038\n",
    "nombre_exposed        455\n",
    "nombre_recovered    16590\n",
    "Name: 589, dtype: int64"
   ]
  },
  {
   "cell_type": "markdown",
   "id": "55fcf19e",
   "metadata": {},
   "source": [
    "nombre_infected       903\n",
    "nombre_sain          2018\n",
    "nombre_exposed        468\n",
    "nombre_recovered    16611\n",
    "Name: 590, dtype: int64"
   ]
  },
  {
   "cell_type": "markdown",
   "id": "b815df69",
   "metadata": {},
   "source": [
    "nombre_infected       867\n",
    "nombre_sain          2023\n",
    "nombre_exposed        464\n",
    "nombre_recovered    16646\n",
    "Name: 591, dtype: int64"
   ]
  },
  {
   "cell_type": "markdown",
   "id": "d3940352",
   "metadata": {},
   "source": [
    "nombre_infected       871\n",
    "nombre_sain          2006\n",
    "nombre_exposed        450\n",
    "nombre_recovered    16673\n",
    "Name: 592, dtype: int64"
   ]
  },
  {
   "cell_type": "markdown",
   "id": "c579db7d",
   "metadata": {},
   "source": [
    "nombre_infected       872\n",
    "nombre_sain          2051\n",
    "nombre_exposed        413\n",
    "nombre_recovered    16664\n",
    "Name: 593, dtype: int64"
   ]
  },
  {
   "cell_type": "markdown",
   "id": "dcb7d659",
   "metadata": {},
   "source": [
    "nombre_infected       878\n",
    "nombre_sain          2055\n",
    "nombre_exposed        421\n",
    "nombre_recovered    16646\n",
    "Name: 594, dtype: int64"
   ]
  },
  {
   "cell_type": "markdown",
   "id": "d7943c78",
   "metadata": {},
   "source": [
    "nombre_infected       871\n",
    "nombre_sain          2061\n",
    "nombre_exposed        420\n",
    "nombre_recovered    16648\n",
    "Name: 595, dtype: int64"
   ]
  },
  {
   "cell_type": "markdown",
   "id": "eefa38bb",
   "metadata": {},
   "source": [
    "nombre_infected       844\n",
    "nombre_sain          2044\n",
    "nombre_exposed        428\n",
    "nombre_recovered    16684\n",
    "Name: 596, dtype: int64"
   ]
  },
  {
   "cell_type": "markdown",
   "id": "c4c1bac8",
   "metadata": {},
   "source": [
    "nombre_infected       834\n",
    "nombre_sain          2040\n",
    "nombre_exposed        426\n",
    "nombre_recovered    16700\n",
    "Name: 597, dtype: int64"
   ]
  },
  {
   "cell_type": "markdown",
   "id": "a17c910e",
   "metadata": {},
   "source": [
    "nombre_infected       804\n",
    "nombre_sain          2047\n",
    "nombre_exposed        453\n",
    "nombre_recovered    16696\n",
    "Name: 598, dtype: int64"
   ]
  },
  {
   "cell_type": "markdown",
   "id": "fce06509",
   "metadata": {},
   "source": [
    "nombre_infected       802\n",
    "nombre_sain          2033\n",
    "nombre_exposed        461\n",
    "nombre_recovered    16704\n",
    "Name: 599, dtype: int64"
   ]
  },
  {
   "cell_type": "markdown",
   "id": "017e35e0",
   "metadata": {},
   "source": [
    "nombre_infected       800\n",
    "nombre_sain          2031\n",
    "nombre_exposed        446\n",
    "nombre_recovered    16723\n",
    "Name: 600, dtype: int64"
   ]
  },
  {
   "cell_type": "markdown",
   "id": "20b1a377",
   "metadata": {},
   "source": [
    "nombre_infected       792\n",
    "nombre_sain          2059\n",
    "nombre_exposed        439\n",
    "nombre_recovered    16710\n",
    "Name: 601, dtype: int64"
   ]
  },
  {
   "cell_type": "markdown",
   "id": "6d993df1",
   "metadata": {},
   "source": [
    "nombre_infected       807\n",
    "nombre_sain          2047\n",
    "nombre_exposed        448\n",
    "nombre_recovered    16698\n",
    "Name: 602, dtype: int64"
   ]
  },
  {
   "cell_type": "markdown",
   "id": "849eb52c",
   "metadata": {},
   "source": [
    "nombre_infected       820\n",
    "nombre_sain          2034\n",
    "nombre_exposed        441\n",
    "nombre_recovered    16705\n",
    "Name: 603, dtype: int64"
   ]
  },
  {
   "cell_type": "markdown",
   "id": "44e1533a",
   "metadata": {},
   "source": [
    "nombre_infected       800\n",
    "nombre_sain          2023\n",
    "nombre_exposed        464\n",
    "nombre_recovered    16713\n",
    "Name: 604, dtype: int64"
   ]
  },
  {
   "cell_type": "markdown",
   "id": "dcb013b3",
   "metadata": {},
   "source": [
    "nombre_infected       803\n",
    "nombre_sain          2035\n",
    "nombre_exposed        456\n",
    "nombre_recovered    16706\n",
    "Name: 605, dtype: int64"
   ]
  },
  {
   "cell_type": "markdown",
   "id": "6486611a",
   "metadata": {},
   "source": [
    "nombre_infected       779\n",
    "nombre_sain          2054\n",
    "nombre_exposed        448\n",
    "nombre_recovered    16719\n",
    "Name: 606, dtype: int64"
   ]
  },
  {
   "cell_type": "markdown",
   "id": "9643b1bb",
   "metadata": {},
   "source": [
    "nombre_infected       794\n",
    "nombre_sain          2088\n",
    "nombre_exposed        432\n",
    "nombre_recovered    16686\n",
    "Name: 607, dtype: int64"
   ]
  },
  {
   "cell_type": "markdown",
   "id": "f0d7e98b",
   "metadata": {},
   "source": [
    "nombre_infected       807\n",
    "nombre_sain          2099\n",
    "nombre_exposed        421\n",
    "nombre_recovered    16673\n",
    "Name: 608, dtype: int64"
   ]
  },
  {
   "cell_type": "markdown",
   "id": "ee3326f3",
   "metadata": {},
   "source": [
    "nombre_infected       827\n",
    "nombre_sain          2097\n",
    "nombre_exposed        423\n",
    "nombre_recovered    16653\n",
    "Name: 609, dtype: int64"
   ]
  },
  {
   "cell_type": "markdown",
   "id": "c34ba74a",
   "metadata": {},
   "source": [
    "nombre_infected       800\n",
    "nombre_sain          2093\n",
    "nombre_exposed        453\n",
    "nombre_recovered    16654\n",
    "Name: 610, dtype: int64"
   ]
  },
  {
   "cell_type": "markdown",
   "id": "eae03d25",
   "metadata": {},
   "source": [
    "nombre_infected       796\n",
    "nombre_sain          2114\n",
    "nombre_exposed        466\n",
    "nombre_recovered    16624\n",
    "Name: 611, dtype: int64"
   ]
  },
  {
   "cell_type": "markdown",
   "id": "7a8c96d5",
   "metadata": {},
   "source": [
    "nombre_infected       822\n",
    "nombre_sain          2099\n",
    "nombre_exposed        457\n",
    "nombre_recovered    16622\n",
    "Name: 612, dtype: int64"
   ]
  },
  {
   "cell_type": "markdown",
   "id": "6ca1adaa",
   "metadata": {},
   "source": [
    "nombre_infected       824\n",
    "nombre_sain          2075\n",
    "nombre_exposed        471\n",
    "nombre_recovered    16630\n",
    "Name: 613, dtype: int64"
   ]
  },
  {
   "cell_type": "markdown",
   "id": "e2182e52",
   "metadata": {},
   "source": [
    "nombre_infected       815\n",
    "nombre_sain          2074\n",
    "nombre_exposed        464\n",
    "nombre_recovered    16647\n",
    "Name: 614, dtype: int64"
   ]
  },
  {
   "cell_type": "markdown",
   "id": "409ee9ab",
   "metadata": {},
   "source": [
    "nombre_infected       803\n",
    "nombre_sain          2078\n",
    "nombre_exposed        481\n",
    "nombre_recovered    16638\n",
    "Name: 615, dtype: int64"
   ]
  },
  {
   "cell_type": "markdown",
   "id": "6028a774",
   "metadata": {},
   "source": [
    "nombre_infected       813\n",
    "nombre_sain          2050\n",
    "nombre_exposed        474\n",
    "nombre_recovered    16663\n",
    "Name: 616, dtype: int64"
   ]
  },
  {
   "cell_type": "markdown",
   "id": "d282621d",
   "metadata": {},
   "source": [
    "nombre_infected       812\n",
    "nombre_sain          2038\n",
    "nombre_exposed        483\n",
    "nombre_recovered    16667\n",
    "Name: 617, dtype: int64"
   ]
  },
  {
   "cell_type": "markdown",
   "id": "96dc995e",
   "metadata": {},
   "source": [
    "nombre_infected       790\n",
    "nombre_sain          2056\n",
    "nombre_exposed        477\n",
    "nombre_recovered    16677\n",
    "Name: 618, dtype: int64"
   ]
  },
  {
   "cell_type": "markdown",
   "id": "99c123bd",
   "metadata": {},
   "source": [
    "nombre_infected       796\n",
    "nombre_sain          2081\n",
    "nombre_exposed        458\n",
    "nombre_recovered    16665\n",
    "Name: 619, dtype: int64"
   ]
  },
  {
   "cell_type": "markdown",
   "id": "800e49b6",
   "metadata": {},
   "source": [
    "nombre_infected       807\n",
    "nombre_sain          2073\n",
    "nombre_exposed        454\n",
    "nombre_recovered    16666\n",
    "Name: 620, dtype: int64"
   ]
  },
  {
   "cell_type": "markdown",
   "id": "d5ee5fea",
   "metadata": {},
   "source": [
    "nombre_infected       809\n",
    "nombre_sain          2108\n",
    "nombre_exposed        453\n",
    "nombre_recovered    16630\n",
    "Name: 621, dtype: int64"
   ]
  },
  {
   "cell_type": "markdown",
   "id": "911ea8a0",
   "metadata": {},
   "source": [
    "nombre_infected       817\n",
    "nombre_sain          2107\n",
    "nombre_exposed        461\n",
    "nombre_recovered    16615\n",
    "Name: 622, dtype: int64"
   ]
  },
  {
   "cell_type": "markdown",
   "id": "b6e61b48",
   "metadata": {},
   "source": [
    "nombre_infected       814\n",
    "nombre_sain          2136\n",
    "nombre_exposed        467\n",
    "nombre_recovered    16583\n",
    "Name: 623, dtype: int64"
   ]
  },
  {
   "cell_type": "markdown",
   "id": "ca30b5b0",
   "metadata": {},
   "source": [
    "nombre_infected       821\n",
    "nombre_sain          2147\n",
    "nombre_exposed        461\n",
    "nombre_recovered    16571\n",
    "Name: 624, dtype: int64"
   ]
  },
  {
   "cell_type": "markdown",
   "id": "561c8e75",
   "metadata": {},
   "source": [
    "nombre_infected       822\n",
    "nombre_sain          2174\n",
    "nombre_exposed        453\n",
    "nombre_recovered    16551\n",
    "Name: 625, dtype: int64"
   ]
  },
  {
   "cell_type": "markdown",
   "id": "e2b2643d",
   "metadata": {},
   "source": [
    "nombre_infected       833\n",
    "nombre_sain          2183\n",
    "nombre_exposed        457\n",
    "nombre_recovered    16527\n",
    "Name: 626, dtype: int64"
   ]
  },
  {
   "cell_type": "markdown",
   "id": "9e4ffa96",
   "metadata": {},
   "source": [
    "nombre_infected       837\n",
    "nombre_sain          2195\n",
    "nombre_exposed        451\n",
    "nombre_recovered    16517\n",
    "Name: 627, dtype: int64"
   ]
  },
  {
   "cell_type": "markdown",
   "id": "987934c7",
   "metadata": {},
   "source": [
    "nombre_infected       846\n",
    "nombre_sain          2219\n",
    "nombre_exposed        452\n",
    "nombre_recovered    16483\n",
    "Name: 628, dtype: int64"
   ]
  },
  {
   "cell_type": "markdown",
   "id": "d05d168b",
   "metadata": {},
   "source": [
    "nombre_infected       840\n",
    "nombre_sain          2197\n",
    "nombre_exposed        480\n",
    "nombre_recovered    16483\n",
    "Name: 629, dtype: int64"
   ]
  },
  {
   "cell_type": "markdown",
   "id": "82b55bf7",
   "metadata": {},
   "source": [
    "nombre_infected       849\n",
    "nombre_sain          2204\n",
    "nombre_exposed        474\n",
    "nombre_recovered    16473\n",
    "Name: 630, dtype: int64"
   ]
  },
  {
   "cell_type": "markdown",
   "id": "2c47262f",
   "metadata": {},
   "source": [
    "nombre_infected       830\n",
    "nombre_sain          2191\n",
    "nombre_exposed        502\n",
    "nombre_recovered    16477\n",
    "Name: 631, dtype: int64"
   ]
  },
  {
   "cell_type": "markdown",
   "id": "38d2478c",
   "metadata": {},
   "source": [
    "nombre_infected       840\n",
    "nombre_sain          2201\n",
    "nombre_exposed        487\n",
    "nombre_recovered    16472\n",
    "Name: 632, dtype: int64"
   ]
  },
  {
   "cell_type": "markdown",
   "id": "eedd0ab0",
   "metadata": {},
   "source": [
    "nombre_infected       852\n",
    "nombre_sain          2183\n",
    "nombre_exposed        501\n",
    "nombre_recovered    16464\n",
    "Name: 633, dtype: int64"
   ]
  },
  {
   "cell_type": "markdown",
   "id": "06a99709",
   "metadata": {},
   "source": [
    "nombre_infected       827\n",
    "nombre_sain          2189\n",
    "nombre_exposed        509\n",
    "nombre_recovered    16475\n",
    "Name: 634, dtype: int64"
   ]
  },
  {
   "cell_type": "markdown",
   "id": "add1e1fa",
   "metadata": {},
   "source": [
    "nombre_infected       846\n",
    "nombre_sain          2184\n",
    "nombre_exposed        497\n",
    "nombre_recovered    16473\n",
    "Name: 635, dtype: int64"
   ]
  },
  {
   "cell_type": "markdown",
   "id": "3161db2d",
   "metadata": {},
   "source": [
    "nombre_infected       848\n",
    "nombre_sain          2165\n",
    "nombre_exposed        510\n",
    "nombre_recovered    16477\n",
    "Name: 636, dtype: int64"
   ]
  },
  {
   "cell_type": "markdown",
   "id": "720f9107",
   "metadata": {},
   "source": [
    "nombre_infected       874\n",
    "nombre_sain          2165\n",
    "nombre_exposed        488\n",
    "nombre_recovered    16473\n",
    "Name: 637, dtype: int64"
   ]
  },
  {
   "cell_type": "markdown",
   "id": "dc65cf7c",
   "metadata": {},
   "source": [
    "nombre_infected       875\n",
    "nombre_sain          2172\n",
    "nombre_exposed        485\n",
    "nombre_recovered    16468\n",
    "Name: 638, dtype: int64"
   ]
  },
  {
   "cell_type": "markdown",
   "id": "379d2b74",
   "metadata": {},
   "source": [
    "nombre_infected       867\n",
    "nombre_sain          2159\n",
    "nombre_exposed        492\n",
    "nombre_recovered    16482\n",
    "Name: 639, dtype: int64"
   ]
  },
  {
   "cell_type": "markdown",
   "id": "528629d8",
   "metadata": {},
   "source": [
    "nombre_infected       853\n",
    "nombre_sain          2142\n",
    "nombre_exposed        521\n",
    "nombre_recovered    16484\n",
    "Name: 640, dtype: int64"
   ]
  },
  {
   "cell_type": "markdown",
   "id": "2eb33177",
   "metadata": {},
   "source": [
    "nombre_infected       858\n",
    "nombre_sain          2149\n",
    "nombre_exposed        519\n",
    "nombre_recovered    16474\n",
    "Name: 641, dtype: int64"
   ]
  },
  {
   "cell_type": "markdown",
   "id": "da8d7484",
   "metadata": {},
   "source": [
    "nombre_infected       874\n",
    "nombre_sain          2158\n",
    "nombre_exposed        522\n",
    "nombre_recovered    16446\n",
    "Name: 642, dtype: int64"
   ]
  },
  {
   "cell_type": "markdown",
   "id": "f45a5da0",
   "metadata": {},
   "source": [
    "nombre_infected       880\n",
    "nombre_sain          2131\n",
    "nombre_exposed        545\n",
    "nombre_recovered    16444\n",
    "Name: 643, dtype: int64"
   ]
  },
  {
   "cell_type": "markdown",
   "id": "1a294a72",
   "metadata": {},
   "source": [
    "nombre_infected       873\n",
    "nombre_sain          2130\n",
    "nombre_exposed        534\n",
    "nombre_recovered    16463\n",
    "Name: 644, dtype: int64"
   ]
  },
  {
   "cell_type": "markdown",
   "id": "f91cf736",
   "metadata": {},
   "source": [
    "nombre_infected       884\n",
    "nombre_sain          2133\n",
    "nombre_exposed        542\n",
    "nombre_recovered    16441\n",
    "Name: 645, dtype: int64"
   ]
  },
  {
   "cell_type": "markdown",
   "id": "5a0c12ca",
   "metadata": {},
   "source": [
    "nombre_infected       898\n",
    "nombre_sain          2178\n",
    "nombre_exposed        533\n",
    "nombre_recovered    16391\n",
    "Name: 646, dtype: int64"
   ]
  },
  {
   "cell_type": "markdown",
   "id": "e042f1f1",
   "metadata": {},
   "source": [
    "nombre_infected       920\n",
    "nombre_sain          2190\n",
    "nombre_exposed        519\n",
    "nombre_recovered    16371\n",
    "Name: 647, dtype: int64"
   ]
  },
  {
   "cell_type": "markdown",
   "id": "dfa8a343",
   "metadata": {},
   "source": [
    "nombre_infected       935\n",
    "nombre_sain          2216\n",
    "nombre_exposed        508\n",
    "nombre_recovered    16341\n",
    "Name: 648, dtype: int64"
   ]
  },
  {
   "cell_type": "markdown",
   "id": "e12bbb90",
   "metadata": {},
   "source": [
    "nombre_infected       914\n",
    "nombre_sain          2208\n",
    "nombre_exposed        528\n",
    "nombre_recovered    16350\n",
    "Name: 649, dtype: int64"
   ]
  },
  {
   "cell_type": "markdown",
   "id": "c3406ebb",
   "metadata": {},
   "source": [
    "nombre_infected       925\n",
    "nombre_sain          2222\n",
    "nombre_exposed        507\n",
    "nombre_recovered    16346\n",
    "Name: 650, dtype: int64"
   ]
  },
  {
   "cell_type": "markdown",
   "id": "a0bc1178",
   "metadata": {},
   "source": [
    "nombre_infected       925\n",
    "nombre_sain          2223\n",
    "nombre_exposed        514\n",
    "nombre_recovered    16338\n",
    "Name: 651, dtype: int64"
   ]
  },
  {
   "cell_type": "markdown",
   "id": "02ab2b02",
   "metadata": {},
   "source": [
    "nombre_infected       920\n",
    "nombre_sain          2238\n",
    "nombre_exposed        522\n",
    "nombre_recovered    16320\n",
    "Name: 652, dtype: int64"
   ]
  },
  {
   "cell_type": "markdown",
   "id": "3f07da35",
   "metadata": {},
   "source": [
    "nombre_infected       925\n",
    "nombre_sain          2222\n",
    "nombre_exposed        521\n",
    "nombre_recovered    16332\n",
    "Name: 653, dtype: int64"
   ]
  },
  {
   "cell_type": "markdown",
   "id": "d72b4ea0",
   "metadata": {},
   "source": [
    "nombre_infected       894\n",
    "nombre_sain          2200\n",
    "nombre_exposed        545\n",
    "nombre_recovered    16361\n",
    "Name: 654, dtype: int64"
   ]
  },
  {
   "cell_type": "markdown",
   "id": "3f00e668",
   "metadata": {},
   "source": [
    "nombre_infected       871\n",
    "nombre_sain          2163\n",
    "nombre_exposed        569\n",
    "nombre_recovered    16397\n",
    "Name: 655, dtype: int64"
   ]
  },
  {
   "cell_type": "markdown",
   "id": "6fc47bef",
   "metadata": {},
   "source": [
    "nombre_infected       888\n",
    "nombre_sain          2160\n",
    "nombre_exposed        542\n",
    "nombre_recovered    16410\n",
    "Name: 656, dtype: int64"
   ]
  },
  {
   "cell_type": "markdown",
   "id": "7f1f90bf",
   "metadata": {},
   "source": [
    "nombre_infected       889\n",
    "nombre_sain          2146\n",
    "nombre_exposed        535\n",
    "nombre_recovered    16430\n",
    "Name: 657, dtype: int64"
   ]
  },
  {
   "cell_type": "markdown",
   "id": "6c5a4783",
   "metadata": {},
   "source": [
    "nombre_infected       882\n",
    "nombre_sain          2135\n",
    "nombre_exposed        545\n",
    "nombre_recovered    16438\n",
    "Name: 658, dtype: int64"
   ]
  },
  {
   "cell_type": "markdown",
   "id": "c390b3fc",
   "metadata": {},
   "source": [
    "nombre_infected       887\n",
    "nombre_sain          2147\n",
    "nombre_exposed        529\n",
    "nombre_recovered    16437\n",
    "Name: 659, dtype: int64"
   ]
  },
  {
   "cell_type": "markdown",
   "id": "fef708c6",
   "metadata": {},
   "source": [
    "nombre_infected       903\n",
    "nombre_sain          2118\n",
    "nombre_exposed        525\n",
    "nombre_recovered    16454\n",
    "Name: 660, dtype: int64"
   ]
  },
  {
   "cell_type": "markdown",
   "id": "8653df87",
   "metadata": {},
   "source": [
    "nombre_infected       896\n",
    "nombre_sain          2110\n",
    "nombre_exposed        512\n",
    "nombre_recovered    16482\n",
    "Name: 661, dtype: int64"
   ]
  },
  {
   "cell_type": "markdown",
   "id": "eed30da7",
   "metadata": {},
   "source": [
    "nombre_infected       888\n",
    "nombre_sain          2130\n",
    "nombre_exposed        500\n",
    "nombre_recovered    16482\n",
    "Name: 662, dtype: int64"
   ]
  },
  {
   "cell_type": "markdown",
   "id": "6adeb77d",
   "metadata": {},
   "source": [
    "nombre_infected       856\n",
    "nombre_sain          2120\n",
    "nombre_exposed        520\n",
    "nombre_recovered    16504\n",
    "Name: 663, dtype: int64"
   ]
  },
  {
   "cell_type": "markdown",
   "id": "a2a80c43",
   "metadata": {},
   "source": [
    "nombre_infected       844\n",
    "nombre_sain          2124\n",
    "nombre_exposed        508\n",
    "nombre_recovered    16524\n",
    "Name: 664, dtype: int64"
   ]
  },
  {
   "cell_type": "markdown",
   "id": "6db5eca7",
   "metadata": {},
   "source": [
    "nombre_infected       835\n",
    "nombre_sain          2104\n",
    "nombre_exposed        520\n",
    "nombre_recovered    16541\n",
    "Name: 665, dtype: int64"
   ]
  },
  {
   "cell_type": "markdown",
   "id": "ebd12d7e",
   "metadata": {},
   "source": [
    "nombre_infected       857\n",
    "nombre_sain          2090\n",
    "nombre_exposed        520\n",
    "nombre_recovered    16533\n",
    "Name: 666, dtype: int64"
   ]
  },
  {
   "cell_type": "markdown",
   "id": "e2ce1a02",
   "metadata": {},
   "source": [
    "nombre_infected       850\n",
    "nombre_sain          2088\n",
    "nombre_exposed        499\n",
    "nombre_recovered    16563\n",
    "Name: 667, dtype: int64"
   ]
  },
  {
   "cell_type": "markdown",
   "id": "ca701f0a",
   "metadata": {},
   "source": [
    "nombre_infected       870\n",
    "nombre_sain          2078\n",
    "nombre_exposed        485\n",
    "nombre_recovered    16567\n",
    "Name: 668, dtype: int64"
   ]
  },
  {
   "cell_type": "markdown",
   "id": "5f90b068",
   "metadata": {},
   "source": [
    "nombre_infected       862\n",
    "nombre_sain          2079\n",
    "nombre_exposed        496\n",
    "nombre_recovered    16563\n",
    "Name: 669, dtype: int64"
   ]
  },
  {
   "cell_type": "markdown",
   "id": "c016ecea",
   "metadata": {},
   "source": [
    "nombre_infected       878\n",
    "nombre_sain          2098\n",
    "nombre_exposed        475\n",
    "nombre_recovered    16549\n",
    "Name: 670, dtype: int64"
   ]
  },
  {
   "cell_type": "markdown",
   "id": "40da6696",
   "metadata": {},
   "source": [
    "nombre_infected       865\n",
    "nombre_sain          2130\n",
    "nombre_exposed        470\n",
    "nombre_recovered    16535\n",
    "Name: 671, dtype: int64"
   ]
  },
  {
   "cell_type": "markdown",
   "id": "9bc3924d",
   "metadata": {},
   "source": [
    "nombre_infected       860\n",
    "nombre_sain          2126\n",
    "nombre_exposed        466\n",
    "nombre_recovered    16548\n",
    "Name: 672, dtype: int64"
   ]
  },
  {
   "cell_type": "markdown",
   "id": "b7f936fd",
   "metadata": {},
   "source": [
    "nombre_infected       869\n",
    "nombre_sain          2142\n",
    "nombre_exposed        463\n",
    "nombre_recovered    16526\n",
    "Name: 673, dtype: int64"
   ]
  },
  {
   "cell_type": "markdown",
   "id": "7a487233",
   "metadata": {},
   "source": [
    "nombre_infected       876\n",
    "nombre_sain          2166\n",
    "nombre_exposed        449\n",
    "nombre_recovered    16509\n",
    "Name: 674, dtype: int64"
   ]
  },
  {
   "cell_type": "markdown",
   "id": "90e2e837",
   "metadata": {},
   "source": [
    "nombre_infected       874\n",
    "nombre_sain          2183\n",
    "nombre_exposed        443\n",
    "nombre_recovered    16500\n",
    "Name: 675, dtype: int64"
   ]
  },
  {
   "cell_type": "markdown",
   "id": "b8c05907",
   "metadata": {},
   "source": [
    "nombre_infected       844\n",
    "nombre_sain          2213\n",
    "nombre_exposed        452\n",
    "nombre_recovered    16491\n",
    "Name: 676, dtype: int64"
   ]
  },
  {
   "cell_type": "markdown",
   "id": "62681c2d",
   "metadata": {},
   "source": [
    "nombre_infected       837\n",
    "nombre_sain          2218\n",
    "nombre_exposed        452\n",
    "nombre_recovered    16493\n",
    "Name: 677, dtype: int64"
   ]
  },
  {
   "cell_type": "markdown",
   "id": "6fbbced2",
   "metadata": {},
   "source": [
    "nombre_infected       832\n",
    "nombre_sain          2241\n",
    "nombre_exposed        466\n",
    "nombre_recovered    16461\n",
    "Name: 678, dtype: int64"
   ]
  },
  {
   "cell_type": "markdown",
   "id": "c2a303e0",
   "metadata": {},
   "source": [
    "nombre_infected       834\n",
    "nombre_sain          2249\n",
    "nombre_exposed        468\n",
    "nombre_recovered    16449\n",
    "Name: 679, dtype: int64"
   ]
  },
  {
   "cell_type": "markdown",
   "id": "4c935f3d",
   "metadata": {},
   "source": [
    "nombre_infected       828\n",
    "nombre_sain          2273\n",
    "nombre_exposed        472\n",
    "nombre_recovered    16427\n",
    "Name: 680, dtype: int64"
   ]
  },
  {
   "cell_type": "markdown",
   "id": "3b96d532",
   "metadata": {},
   "source": [
    "nombre_infected       824\n",
    "nombre_sain          2270\n",
    "nombre_exposed        480\n",
    "nombre_recovered    16426\n",
    "Name: 681, dtype: int64"
   ]
  },
  {
   "cell_type": "markdown",
   "id": "456579be",
   "metadata": {},
   "source": [
    "nombre_infected       822\n",
    "nombre_sain          2270\n",
    "nombre_exposed        483\n",
    "nombre_recovered    16425\n",
    "Name: 682, dtype: int64"
   ]
  },
  {
   "cell_type": "markdown",
   "id": "8c0cf0be",
   "metadata": {},
   "source": [
    "nombre_infected       821\n",
    "nombre_sain          2267\n",
    "nombre_exposed        497\n",
    "nombre_recovered    16415\n",
    "Name: 683, dtype: int64"
   ]
  },
  {
   "cell_type": "markdown",
   "id": "51acfbc9",
   "metadata": {},
   "source": [
    "nombre_infected       822\n",
    "nombre_sain          2267\n",
    "nombre_exposed        487\n",
    "nombre_recovered    16424\n",
    "Name: 684, dtype: int64"
   ]
  },
  {
   "cell_type": "markdown",
   "id": "08a9a4d7",
   "metadata": {},
   "source": [
    "nombre_infected       849\n",
    "nombre_sain          2274\n",
    "nombre_exposed        467\n",
    "nombre_recovered    16410\n",
    "Name: 685, dtype: int64"
   ]
  },
  {
   "cell_type": "markdown",
   "id": "8ae0f0cd",
   "metadata": {},
   "source": [
    "nombre_infected       863\n",
    "nombre_sain          2259\n",
    "nombre_exposed        468\n",
    "nombre_recovered    16410\n",
    "Name: 686, dtype: int64"
   ]
  },
  {
   "cell_type": "markdown",
   "id": "aa640056",
   "metadata": {},
   "source": [
    "nombre_infected       858\n",
    "nombre_sain          2280\n",
    "nombre_exposed        463\n",
    "nombre_recovered    16399\n",
    "Name: 687, dtype: int64"
   ]
  },
  {
   "cell_type": "markdown",
   "id": "789f6fc8",
   "metadata": {},
   "source": [
    "nombre_infected       847\n",
    "nombre_sain          2314\n",
    "nombre_exposed        477\n",
    "nombre_recovered    16362\n",
    "Name: 688, dtype: int64"
   ]
  },
  {
   "cell_type": "markdown",
   "id": "162cd522",
   "metadata": {},
   "source": [
    "nombre_infected       845\n",
    "nombre_sain          2319\n",
    "nombre_exposed        496\n",
    "nombre_recovered    16340\n",
    "Name: 689, dtype: int64"
   ]
  },
  {
   "cell_type": "markdown",
   "id": "7b9d6b0d",
   "metadata": {},
   "source": [
    "nombre_infected       850\n",
    "nombre_sain          2330\n",
    "nombre_exposed        486\n",
    "nombre_recovered    16334\n",
    "Name: 690, dtype: int64"
   ]
  },
  {
   "cell_type": "markdown",
   "id": "8bbafe3a",
   "metadata": {},
   "source": [
    "nombre_infected       865\n",
    "nombre_sain          2337\n",
    "nombre_exposed        481\n",
    "nombre_recovered    16317\n",
    "Name: 691, dtype: int64"
   ]
  },
  {
   "cell_type": "markdown",
   "id": "9cf41469",
   "metadata": {},
   "source": [
    "nombre_infected       891\n",
    "nombre_sain          2348\n",
    "nombre_exposed        491\n",
    "nombre_recovered    16270\n",
    "Name: 692, dtype: int64"
   ]
  },
  {
   "cell_type": "markdown",
   "id": "019f8d06",
   "metadata": {},
   "source": [
    "nombre_infected       876\n",
    "nombre_sain          2335\n",
    "nombre_exposed        502\n",
    "nombre_recovered    16287\n",
    "Name: 693, dtype: int64"
   ]
  },
  {
   "cell_type": "markdown",
   "id": "25e79f55",
   "metadata": {},
   "source": [
    "nombre_infected       881\n",
    "nombre_sain          2351\n",
    "nombre_exposed        501\n",
    "nombre_recovered    16267\n",
    "Name: 694, dtype: int64"
   ]
  },
  {
   "cell_type": "markdown",
   "id": "a24f9dbf",
   "metadata": {},
   "source": [
    "nombre_infected       884\n",
    "nombre_sain          2340\n",
    "nombre_exposed        522\n",
    "nombre_recovered    16254\n",
    "Name: 695, dtype: int64"
   ]
  },
  {
   "cell_type": "markdown",
   "id": "ad2a580a",
   "metadata": {},
   "source": [
    "nombre_infected       894\n",
    "nombre_sain          2327\n",
    "nombre_exposed        548\n",
    "nombre_recovered    16231\n",
    "Name: 696, dtype: int64"
   ]
  },
  {
   "cell_type": "markdown",
   "id": "0580ea6b",
   "metadata": {},
   "source": [
    "nombre_infected       889\n",
    "nombre_sain          2301\n",
    "nombre_exposed        566\n",
    "nombre_recovered    16244\n",
    "Name: 697, dtype: int64"
   ]
  },
  {
   "cell_type": "markdown",
   "id": "0625ff7c",
   "metadata": {},
   "source": [
    "nombre_infected       905\n",
    "nombre_sain          2252\n",
    "nombre_exposed        602\n",
    "nombre_recovered    16241\n",
    "Name: 698, dtype: int64"
   ]
  },
  {
   "cell_type": "markdown",
   "id": "eb12e908",
   "metadata": {},
   "source": [
    "nombre_infected       921\n",
    "nombre_sain          2226\n",
    "nombre_exposed        596\n",
    "nombre_recovered    16257\n",
    "Name: 699, dtype: int64"
   ]
  },
  {
   "cell_type": "markdown",
   "id": "29cb3e48",
   "metadata": {},
   "source": [
    "nombre_infected       925\n",
    "nombre_sain          2198\n",
    "nombre_exposed        601\n",
    "nombre_recovered    16276\n",
    "Name: 700, dtype: int64"
   ]
  },
  {
   "cell_type": "markdown",
   "id": "da8fa4f6",
   "metadata": {},
   "source": [
    "nombre_infected       939\n",
    "nombre_sain          2171\n",
    "nombre_exposed        598\n",
    "nombre_recovered    16292\n",
    "Name: 701, dtype: int64"
   ]
  },
  {
   "cell_type": "markdown",
   "id": "e27a51c0",
   "metadata": {},
   "source": [
    "nombre_infected       938\n",
    "nombre_sain          2164\n",
    "nombre_exposed        581\n",
    "nombre_recovered    16317\n",
    "Name: 702, dtype: int64"
   ]
  },
  {
   "cell_type": "markdown",
   "id": "2cca1da9",
   "metadata": {},
   "source": [
    "nombre_infected       950\n",
    "nombre_sain          2126\n",
    "nombre_exposed        573\n",
    "nombre_recovered    16351\n",
    "Name: 703, dtype: int64"
   ]
  },
  {
   "cell_type": "markdown",
   "id": "b214183a",
   "metadata": {},
   "source": [
    "nombre_infected       970\n",
    "nombre_sain          2110\n",
    "nombre_exposed        545\n",
    "nombre_recovered    16375\n",
    "Name: 704, dtype: int64"
   ]
  },
  {
   "cell_type": "markdown",
   "id": "2ee8ec9e",
   "metadata": {},
   "source": [
    "nombre_infected       983\n",
    "nombre_sain          2091\n",
    "nombre_exposed        539\n",
    "nombre_recovered    16387\n",
    "Name: 705, dtype: int64"
   ]
  },
  {
   "cell_type": "markdown",
   "id": "071c0a9a",
   "metadata": {},
   "source": [
    "nombre_infected       948\n",
    "nombre_sain          2076\n",
    "nombre_exposed        548\n",
    "nombre_recovered    16428\n",
    "Name: 706, dtype: int64"
   ]
  },
  {
   "cell_type": "markdown",
   "id": "e35dd68d",
   "metadata": {},
   "source": [
    "nombre_infected       959\n",
    "nombre_sain          2043\n",
    "nombre_exposed        567\n",
    "nombre_recovered    16431\n",
    "Name: 707, dtype: int64"
   ]
  },
  {
   "cell_type": "markdown",
   "id": "0807aba4",
   "metadata": {},
   "source": [
    "nombre_infected       947\n",
    "nombre_sain          2061\n",
    "nombre_exposed        551\n",
    "nombre_recovered    16441\n",
    "Name: 708, dtype: int64"
   ]
  },
  {
   "cell_type": "markdown",
   "id": "b2f9d38c",
   "metadata": {},
   "source": [
    "nombre_infected       967\n",
    "nombre_sain          2048\n",
    "nombre_exposed        535\n",
    "nombre_recovered    16450\n",
    "Name: 709, dtype: int64"
   ]
  },
  {
   "cell_type": "markdown",
   "id": "8aa64dbd",
   "metadata": {},
   "source": [
    "nombre_infected       972\n",
    "nombre_sain          2035\n",
    "nombre_exposed        518\n",
    "nombre_recovered    16475\n",
    "Name: 710, dtype: int64"
   ]
  },
  {
   "cell_type": "markdown",
   "id": "88df3aeb",
   "metadata": {},
   "source": [
    "nombre_infected       963\n",
    "nombre_sain          2009\n",
    "nombre_exposed        508\n",
    "nombre_recovered    16520\n",
    "Name: 711, dtype: int64"
   ]
  },
  {
   "cell_type": "markdown",
   "id": "a99c5e5d",
   "metadata": {},
   "source": [
    "nombre_infected       951\n",
    "nombre_sain          1998\n",
    "nombre_exposed        509\n",
    "nombre_recovered    16542\n",
    "Name: 712, dtype: int64"
   ]
  },
  {
   "cell_type": "markdown",
   "id": "10c14ddc",
   "metadata": {},
   "source": [
    "nombre_infected       948\n",
    "nombre_sain          1977\n",
    "nombre_exposed        514\n",
    "nombre_recovered    16561\n",
    "Name: 713, dtype: int64"
   ]
  },
  {
   "cell_type": "markdown",
   "id": "64fd1e03",
   "metadata": {},
   "source": [
    "nombre_infected       948\n",
    "nombre_sain          1969\n",
    "nombre_exposed        510\n",
    "nombre_recovered    16573\n",
    "Name: 714, dtype: int64"
   ]
  },
  {
   "cell_type": "markdown",
   "id": "83f71484",
   "metadata": {},
   "source": [
    "nombre_infected       942\n",
    "nombre_sain          1975\n",
    "nombre_exposed        499\n",
    "nombre_recovered    16584\n",
    "Name: 715, dtype: int64"
   ]
  },
  {
   "cell_type": "markdown",
   "id": "344bfcb2",
   "metadata": {},
   "source": [
    "nombre_infected       946\n",
    "nombre_sain          2001\n",
    "nombre_exposed        494\n",
    "nombre_recovered    16559\n",
    "Name: 716, dtype: int64"
   ]
  },
  {
   "cell_type": "markdown",
   "id": "0e8bc893",
   "metadata": {},
   "source": [
    "nombre_infected       928\n",
    "nombre_sain          2026\n",
    "nombre_exposed        499\n",
    "nombre_recovered    16547\n",
    "Name: 717, dtype: int64"
   ]
  },
  {
   "cell_type": "markdown",
   "id": "4394c199",
   "metadata": {},
   "source": [
    "nombre_infected       924\n",
    "nombre_sain          2049\n",
    "nombre_exposed        501\n",
    "nombre_recovered    16526\n",
    "Name: 718, dtype: int64"
   ]
  },
  {
   "cell_type": "markdown",
   "id": "a6ef8860",
   "metadata": {},
   "source": [
    "nombre_infected       920\n",
    "nombre_sain          2079\n",
    "nombre_exposed        487\n",
    "nombre_recovered    16514\n",
    "Name: 719, dtype: int64"
   ]
  },
  {
   "cell_type": "markdown",
   "id": "05fbfc95",
   "metadata": {},
   "source": [
    "nombre_infected       917\n",
    "nombre_sain          2101\n",
    "nombre_exposed        486\n",
    "nombre_recovered    16496\n",
    "Name: 720, dtype: int64"
   ]
  },
  {
   "cell_type": "markdown",
   "id": "1c43d008",
   "metadata": {},
   "source": [
    "nombre_infected       904\n",
    "nombre_sain          2133\n",
    "nombre_exposed        490\n",
    "nombre_recovered    16473\n",
    "Name: 721, dtype: int64"
   ]
  },
  {
   "cell_type": "markdown",
   "id": "6ed1e142",
   "metadata": {},
   "source": [
    "nombre_infected       905\n",
    "nombre_sain          2150\n",
    "nombre_exposed        491\n",
    "nombre_recovered    16454\n",
    "Name: 722, dtype: int64"
   ]
  },
  {
   "cell_type": "markdown",
   "id": "39e51707",
   "metadata": {},
   "source": [
    "nombre_infected       879\n",
    "nombre_sain          2129\n",
    "nombre_exposed        538\n",
    "nombre_recovered    16454\n",
    "Name: 723, dtype: int64"
   ]
  },
  {
   "cell_type": "markdown",
   "id": "ec08111a",
   "metadata": {},
   "source": [
    "nombre_infected       884\n",
    "nombre_sain          2177\n",
    "nombre_exposed        513\n",
    "nombre_recovered    16426\n",
    "Name: 724, dtype: int64"
   ]
  },
  {
   "cell_type": "markdown",
   "id": "66986101",
   "metadata": {},
   "source": [
    "nombre_infected       882\n",
    "nombre_sain          2175\n",
    "nombre_exposed        517\n",
    "nombre_recovered    16426\n",
    "Name: 725, dtype: int64"
   ]
  },
  {
   "cell_type": "markdown",
   "id": "2183e446",
   "metadata": {},
   "source": [
    "nombre_infected       880\n",
    "nombre_sain          2189\n",
    "nombre_exposed        526\n",
    "nombre_recovered    16405\n",
    "Name: 726, dtype: int64"
   ]
  },
  {
   "cell_type": "markdown",
   "id": "b82a90ba",
   "metadata": {},
   "source": [
    "nombre_infected       892\n",
    "nombre_sain          2196\n",
    "nombre_exposed        503\n",
    "nombre_recovered    16409\n",
    "Name: 727, dtype: int64"
   ]
  },
  {
   "cell_type": "markdown",
   "id": "1d448a2e",
   "metadata": {},
   "source": [
    "nombre_infected       892\n",
    "nombre_sain          2176\n",
    "nombre_exposed        508\n",
    "nombre_recovered    16424\n",
    "Name: 728, dtype: int64"
   ]
  },
  {
   "cell_type": "markdown",
   "id": "7bb7d5a2",
   "metadata": {},
   "source": [
    "nombre_infected       862\n",
    "nombre_sain          2188\n",
    "nombre_exposed        523\n",
    "nombre_recovered    16427\n",
    "Name: 729, dtype: int64"
   ]
  },
  {
   "cell_type": "markdown",
   "id": "0e6722aa",
   "metadata": {},
   "source": [
    "nombre_infected       880\n",
    "nombre_sain          2181\n",
    "nombre_exposed        499\n",
    "nombre_recovered    16440\n",
    "Name: 730, dtype: int64"
   ]
  }
 ],
 "metadata": {},
 "nbformat": 4,
 "nbformat_minor": 5
}
