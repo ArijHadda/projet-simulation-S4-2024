{
 "cells": [
  {
   "cell_type": "markdown",
   "id": "4c0392db",
   "metadata": {},
   "source": [
    "nombre_infected        20\n",
    "nombre_sain         19980\n",
    "nombre_exposed          0\n",
    "nombre_recovered        0\n",
    "Name: 0, dtype: int64"
   ]
  },
  {
   "cell_type": "markdown",
   "id": "515091c6",
   "metadata": {},
   "source": [
    "nombre_infected        20\n",
    "nombre_sain         19959\n",
    "nombre_exposed         21\n",
    "nombre_recovered        0\n",
    "Name: 1, dtype: int64"
   ]
  },
  {
   "cell_type": "markdown",
   "id": "77248e1a",
   "metadata": {},
   "source": [
    "nombre_infected        20\n",
    "nombre_sain         19934\n",
    "nombre_exposed         46\n",
    "nombre_recovered        0\n",
    "Name: 2, dtype: int64"
   ]
  },
  {
   "cell_type": "markdown",
   "id": "0e19a69b",
   "metadata": {},
   "source": [
    "nombre_infected        28\n",
    "nombre_sain         19911\n",
    "nombre_exposed         61\n",
    "nombre_recovered        0\n",
    "Name: 3, dtype: int64"
   ]
  },
  {
   "cell_type": "markdown",
   "id": "9634b40f",
   "metadata": {},
   "source": [
    "nombre_infected        34\n",
    "nombre_sain         19874\n",
    "nombre_exposed         92\n",
    "nombre_recovered        0\n",
    "Name: 4, dtype: int64"
   ]
  },
  {
   "cell_type": "markdown",
   "id": "c54aec31",
   "metadata": {},
   "source": [
    "nombre_infected        44\n",
    "nombre_sain         19815\n",
    "nombre_exposed        140\n",
    "nombre_recovered        1\n",
    "Name: 5, dtype: int64"
   ]
  },
  {
   "cell_type": "markdown",
   "id": "b6450f3a",
   "metadata": {},
   "source": [
    "nombre_infected        65\n",
    "nombre_sain         19749\n",
    "nombre_exposed        185\n",
    "nombre_recovered        1\n",
    "Name: 6, dtype: int64"
   ]
  },
  {
   "cell_type": "markdown",
   "id": "6e9fc806",
   "metadata": {},
   "source": [
    "nombre_infected        98\n",
    "nombre_sain         19681\n",
    "nombre_exposed        219\n",
    "nombre_recovered        2\n",
    "Name: 7, dtype: int64"
   ]
  },
  {
   "cell_type": "markdown",
   "id": "23e1144c",
   "metadata": {},
   "source": [
    "nombre_infected       108\n",
    "nombre_sain         19541\n",
    "nombre_exposed        322\n",
    "nombre_recovered       29\n",
    "Name: 8, dtype: int64"
   ]
  },
  {
   "cell_type": "markdown",
   "id": "71f4893a",
   "metadata": {},
   "source": [
    "nombre_infected       147\n",
    "nombre_sain         19399\n",
    "nombre_exposed        420\n",
    "nombre_recovered       34\n",
    "Name: 9, dtype: int64"
   ]
  },
  {
   "cell_type": "markdown",
   "id": "aa3bf3ed",
   "metadata": {},
   "source": [
    "nombre_infected       198\n",
    "nombre_sain         19216\n",
    "nombre_exposed        540\n",
    "nombre_recovered       46\n",
    "Name: 10, dtype: int64"
   ]
  },
  {
   "cell_type": "markdown",
   "id": "f6a5c9e7",
   "metadata": {},
   "source": [
    "nombre_infected       276\n",
    "nombre_sain         18927\n",
    "nombre_exposed        732\n",
    "nombre_recovered       65\n",
    "Name: 11, dtype: int64"
   ]
  },
  {
   "cell_type": "markdown",
   "id": "01431368",
   "metadata": {},
   "source": [
    "nombre_infected       360\n",
    "nombre_sain         18552\n",
    "nombre_exposed        995\n",
    "nombre_recovered       93\n",
    "Name: 12, dtype: int64"
   ]
  },
  {
   "cell_type": "markdown",
   "id": "e5df8883",
   "metadata": {},
   "source": [
    "nombre_infected       480\n",
    "nombre_sain         18039\n",
    "nombre_exposed       1350\n",
    "nombre_recovered      131\n",
    "Name: 13, dtype: int64"
   ]
  },
  {
   "cell_type": "markdown",
   "id": "9355dcfd",
   "metadata": {},
   "source": [
    "nombre_infected       648\n",
    "nombre_sain         17391\n",
    "nombre_exposed       1791\n",
    "nombre_recovered      170\n",
    "Name: 14, dtype: int64"
   ]
  },
  {
   "cell_type": "markdown",
   "id": "09695e7b",
   "metadata": {},
   "source": [
    "nombre_infected       926\n",
    "nombre_sain         16611\n",
    "nombre_exposed       2240\n",
    "nombre_recovered      223\n",
    "Name: 15, dtype: int64"
   ]
  },
  {
   "cell_type": "markdown",
   "id": "fa2fbcb7",
   "metadata": {},
   "source": [
    "nombre_infected      1257\n",
    "nombre_sain         15554\n",
    "nombre_exposed       2879\n",
    "nombre_recovered      310\n",
    "Name: 16, dtype: int64"
   ]
  },
  {
   "cell_type": "markdown",
   "id": "ad82fd98",
   "metadata": {},
   "source": [
    "nombre_infected      1642\n",
    "nombre_sain         14301\n",
    "nombre_exposed       3617\n",
    "nombre_recovered      440\n",
    "Name: 17, dtype: int64"
   ]
  },
  {
   "cell_type": "markdown",
   "id": "74e27969",
   "metadata": {},
   "source": [
    "nombre_infected      2140\n",
    "nombre_sain         12779\n",
    "nombre_exposed       4512\n",
    "nombre_recovered      569\n",
    "Name: 18, dtype: int64"
   ]
  },
  {
   "cell_type": "markdown",
   "id": "0b4ca761",
   "metadata": {},
   "source": [
    "nombre_infected      2801\n",
    "nombre_sain         11145\n",
    "nombre_exposed       5307\n",
    "nombre_recovered      747\n",
    "Name: 19, dtype: int64"
   ]
  },
  {
   "cell_type": "markdown",
   "id": "6d66b845",
   "metadata": {},
   "source": [
    "nombre_infected     3542\n",
    "nombre_sain         9342\n",
    "nombre_exposed      6134\n",
    "nombre_recovered     982\n",
    "Name: 20, dtype: int64"
   ]
  },
  {
   "cell_type": "markdown",
   "id": "2cace98a",
   "metadata": {},
   "source": [
    "nombre_infected     4426\n",
    "nombre_sain         7454\n",
    "nombre_exposed      6801\n",
    "nombre_recovered    1319\n",
    "Name: 21, dtype: int64"
   ]
  },
  {
   "cell_type": "markdown",
   "id": "81483482",
   "metadata": {},
   "source": [
    "nombre_infected     5361\n",
    "nombre_sain         5806\n",
    "nombre_exposed      7120\n",
    "nombre_recovered    1713\n",
    "Name: 22, dtype: int64"
   ]
  },
  {
   "cell_type": "markdown",
   "id": "efc0e17a",
   "metadata": {},
   "source": [
    "nombre_infected     6374\n",
    "nombre_sain         4339\n",
    "nombre_exposed      7062\n",
    "nombre_recovered    2225\n",
    "Name: 23, dtype: int64"
   ]
  },
  {
   "cell_type": "markdown",
   "id": "e33e14bb",
   "metadata": {},
   "source": [
    "nombre_infected     7341\n",
    "nombre_sain         3148\n",
    "nombre_exposed      6732\n",
    "nombre_recovered    2779\n",
    "Name: 24, dtype: int64"
   ]
  },
  {
   "cell_type": "markdown",
   "id": "d95298ee",
   "metadata": {},
   "source": [
    "nombre_infected     8199\n",
    "nombre_sain         2224\n",
    "nombre_exposed      6088\n",
    "nombre_recovered    3489\n",
    "Name: 25, dtype: int64"
   ]
  },
  {
   "cell_type": "markdown",
   "id": "979ad8c5",
   "metadata": {},
   "source": [
    "nombre_infected     8809\n",
    "nombre_sain         1560\n",
    "nombre_exposed      5304\n",
    "nombre_recovered    4327\n",
    "Name: 26, dtype: int64"
   ]
  },
  {
   "cell_type": "markdown",
   "id": "efd052a7",
   "metadata": {},
   "source": [
    "nombre_infected     9150\n",
    "nombre_sain         1070\n",
    "nombre_exposed      4504\n",
    "nombre_recovered    5276\n",
    "Name: 27, dtype: int64"
   ]
  },
  {
   "cell_type": "markdown",
   "id": "5370cf35",
   "metadata": {},
   "source": [
    "nombre_infected     9250\n",
    "nombre_sain          730\n",
    "nombre_exposed      3789\n",
    "nombre_recovered    6231\n",
    "Name: 28, dtype: int64"
   ]
  },
  {
   "cell_type": "markdown",
   "id": "f1b38508",
   "metadata": {},
   "source": [
    "nombre_infected     9222\n",
    "nombre_sain          542\n",
    "nombre_exposed      3064\n",
    "nombre_recovered    7172\n",
    "Name: 29, dtype: int64"
   ]
  },
  {
   "cell_type": "markdown",
   "id": "1799c2fc",
   "metadata": {},
   "source": [
    "nombre_infected     9021\n",
    "nombre_sain          407\n",
    "nombre_exposed      2413\n",
    "nombre_recovered    8159\n",
    "Name: 30, dtype: int64"
   ]
  },
  {
   "cell_type": "markdown",
   "id": "73319873",
   "metadata": {},
   "source": [
    "nombre_infected     8635\n",
    "nombre_sain          329\n",
    "nombre_exposed      1863\n",
    "nombre_recovered    9173\n",
    "Name: 31, dtype: int64"
   ]
  },
  {
   "cell_type": "markdown",
   "id": "ba94f34e",
   "metadata": {},
   "source": [
    "nombre_infected      8058\n",
    "nombre_sain           300\n",
    "nombre_exposed       1492\n",
    "nombre_recovered    10150\n",
    "Name: 32, dtype: int64"
   ]
  },
  {
   "cell_type": "markdown",
   "id": "6e612629",
   "metadata": {},
   "source": [
    "nombre_infected      7551\n",
    "nombre_sain           257\n",
    "nombre_exposed       1164\n",
    "nombre_recovered    11028\n",
    "Name: 33, dtype: int64"
   ]
  },
  {
   "cell_type": "markdown",
   "id": "37633ed9",
   "metadata": {},
   "source": [
    "nombre_infected      6987\n",
    "nombre_sain           254\n",
    "nombre_exposed        905\n",
    "nombre_recovered    11854\n",
    "Name: 34, dtype: int64"
   ]
  },
  {
   "cell_type": "markdown",
   "id": "d46037f9",
   "metadata": {},
   "source": [
    "nombre_infected      6388\n",
    "nombre_sain           269\n",
    "nombre_exposed        721\n",
    "nombre_recovered    12622\n",
    "Name: 35, dtype: int64"
   ]
  },
  {
   "cell_type": "markdown",
   "id": "955c976e",
   "metadata": {},
   "source": [
    "nombre_infected      5812\n",
    "nombre_sain           278\n",
    "nombre_exposed        587\n",
    "nombre_recovered    13323\n",
    "Name: 36, dtype: int64"
   ]
  },
  {
   "cell_type": "markdown",
   "id": "3a9cdf08",
   "metadata": {},
   "source": [
    "nombre_infected      5279\n",
    "nombre_sain           284\n",
    "nombre_exposed        490\n",
    "nombre_recovered    13947\n",
    "Name: 37, dtype: int64"
   ]
  },
  {
   "cell_type": "markdown",
   "id": "ca78da81",
   "metadata": {},
   "source": [
    "nombre_infected      4777\n",
    "nombre_sain           294\n",
    "nombre_exposed        402\n",
    "nombre_recovered    14527\n",
    "Name: 38, dtype: int64"
   ]
  },
  {
   "cell_type": "markdown",
   "id": "625ace98",
   "metadata": {},
   "source": [
    "nombre_infected      4292\n",
    "nombre_sain           318\n",
    "nombre_exposed        352\n",
    "nombre_recovered    15038\n",
    "Name: 39, dtype: int64"
   ]
  },
  {
   "cell_type": "markdown",
   "id": "df102e2d",
   "metadata": {},
   "source": [
    "nombre_infected      3845\n",
    "nombre_sain           317\n",
    "nombre_exposed        299\n",
    "nombre_recovered    15539\n",
    "Name: 40, dtype: int64"
   ]
  },
  {
   "cell_type": "markdown",
   "id": "ea01d97a",
   "metadata": {},
   "source": [
    "nombre_infected      3433\n",
    "nombre_sain           352\n",
    "nombre_exposed        269\n",
    "nombre_recovered    15946\n",
    "Name: 41, dtype: int64"
   ]
  },
  {
   "cell_type": "markdown",
   "id": "a33f6d07",
   "metadata": {},
   "source": [
    "nombre_infected      3029\n",
    "nombre_sain           375\n",
    "nombre_exposed        249\n",
    "nombre_recovered    16347\n",
    "Name: 42, dtype: int64"
   ]
  },
  {
   "cell_type": "markdown",
   "id": "e9c78315",
   "metadata": {},
   "source": [
    "nombre_infected      2718\n",
    "nombre_sain           415\n",
    "nombre_exposed        206\n",
    "nombre_recovered    16661\n",
    "Name: 43, dtype: int64"
   ]
  },
  {
   "cell_type": "markdown",
   "id": "f5c94c3a",
   "metadata": {},
   "source": [
    "nombre_infected      2409\n",
    "nombre_sain           435\n",
    "nombre_exposed        208\n",
    "nombre_recovered    16948\n",
    "Name: 44, dtype: int64"
   ]
  },
  {
   "cell_type": "markdown",
   "id": "61643866",
   "metadata": {},
   "source": [
    "nombre_infected      2131\n",
    "nombre_sain           459\n",
    "nombre_exposed        187\n",
    "nombre_recovered    17223\n",
    "Name: 45, dtype: int64"
   ]
  },
  {
   "cell_type": "markdown",
   "id": "8f84cd2c",
   "metadata": {},
   "source": [
    "nombre_infected      1887\n",
    "nombre_sain           490\n",
    "nombre_exposed        177\n",
    "nombre_recovered    17446\n",
    "Name: 46, dtype: int64"
   ]
  },
  {
   "cell_type": "markdown",
   "id": "ef24627d",
   "metadata": {},
   "source": [
    "nombre_infected      1691\n",
    "nombre_sain           542\n",
    "nombre_exposed        154\n",
    "nombre_recovered    17613\n",
    "Name: 47, dtype: int64"
   ]
  },
  {
   "cell_type": "markdown",
   "id": "eae12f4a",
   "metadata": {},
   "source": [
    "nombre_infected      1524\n",
    "nombre_sain           572\n",
    "nombre_exposed        158\n",
    "nombre_recovered    17746\n",
    "Name: 48, dtype: int64"
   ]
  },
  {
   "cell_type": "markdown",
   "id": "9fc15a81",
   "metadata": {},
   "source": [
    "nombre_infected      1350\n",
    "nombre_sain           626\n",
    "nombre_exposed        166\n",
    "nombre_recovered    17858\n",
    "Name: 49, dtype: int64"
   ]
  },
  {
   "cell_type": "markdown",
   "id": "255e6c4d",
   "metadata": {},
   "source": [
    "nombre_infected      1229\n",
    "nombre_sain           668\n",
    "nombre_exposed        152\n",
    "nombre_recovered    17951\n",
    "Name: 50, dtype: int64"
   ]
  },
  {
   "cell_type": "markdown",
   "id": "9b0655e1",
   "metadata": {},
   "source": [
    "nombre_infected      1088\n",
    "nombre_sain           733\n",
    "nombre_exposed        148\n",
    "nombre_recovered    18031\n",
    "Name: 51, dtype: int64"
   ]
  },
  {
   "cell_type": "markdown",
   "id": "a20e2f48",
   "metadata": {},
   "source": [
    "nombre_infected       977\n",
    "nombre_sain           775\n",
    "nombre_exposed        151\n",
    "nombre_recovered    18097\n",
    "Name: 52, dtype: int64"
   ]
  },
  {
   "cell_type": "markdown",
   "id": "622ed314",
   "metadata": {},
   "source": [
    "nombre_infected       881\n",
    "nombre_sain           843\n",
    "nombre_exposed        157\n",
    "nombre_recovered    18119\n",
    "Name: 53, dtype: int64"
   ]
  },
  {
   "cell_type": "markdown",
   "id": "5f7940b3",
   "metadata": {},
   "source": [
    "nombre_infected       822\n",
    "nombre_sain           905\n",
    "nombre_exposed        155\n",
    "nombre_recovered    18118\n",
    "Name: 54, dtype: int64"
   ]
  },
  {
   "cell_type": "markdown",
   "id": "744f9736",
   "metadata": {},
   "source": [
    "nombre_infected       743\n",
    "nombre_sain           951\n",
    "nombre_exposed        143\n",
    "nombre_recovered    18163\n",
    "Name: 55, dtype: int64"
   ]
  },
  {
   "cell_type": "markdown",
   "id": "ea50c224",
   "metadata": {},
   "source": [
    "nombre_infected       692\n",
    "nombre_sain          1015\n",
    "nombre_exposed        127\n",
    "nombre_recovered    18166\n",
    "Name: 56, dtype: int64"
   ]
  },
  {
   "cell_type": "markdown",
   "id": "2f3ea24a",
   "metadata": {},
   "source": [
    "nombre_infected       623\n",
    "nombre_sain          1063\n",
    "nombre_exposed        133\n",
    "nombre_recovered    18181\n",
    "Name: 57, dtype: int64"
   ]
  },
  {
   "cell_type": "markdown",
   "id": "74d61329",
   "metadata": {},
   "source": [
    "nombre_infected       587\n",
    "nombre_sain          1098\n",
    "nombre_exposed        127\n",
    "nombre_recovered    18188\n",
    "Name: 58, dtype: int64"
   ]
  },
  {
   "cell_type": "markdown",
   "id": "4f655a22",
   "metadata": {},
   "source": [
    "nombre_infected       541\n",
    "nombre_sain          1147\n",
    "nombre_exposed        121\n",
    "nombre_recovered    18191\n",
    "Name: 59, dtype: int64"
   ]
  },
  {
   "cell_type": "markdown",
   "id": "b5c3a72a",
   "metadata": {},
   "source": [
    "nombre_infected       477\n",
    "nombre_sain          1187\n",
    "nombre_exposed        137\n",
    "nombre_recovered    18199\n",
    "Name: 60, dtype: int64"
   ]
  },
  {
   "cell_type": "markdown",
   "id": "12de7115",
   "metadata": {},
   "source": [
    "nombre_infected       457\n",
    "nombre_sain          1240\n",
    "nombre_exposed        144\n",
    "nombre_recovered    18159\n",
    "Name: 61, dtype: int64"
   ]
  },
  {
   "cell_type": "markdown",
   "id": "4b88bff4",
   "metadata": {},
   "source": [
    "nombre_infected       419\n",
    "nombre_sain          1287\n",
    "nombre_exposed        139\n",
    "nombre_recovered    18155\n",
    "Name: 62, dtype: int64"
   ]
  },
  {
   "cell_type": "markdown",
   "id": "72637630",
   "metadata": {},
   "source": [
    "nombre_infected       384\n",
    "nombre_sain          1336\n",
    "nombre_exposed        139\n",
    "nombre_recovered    18141\n",
    "Name: 63, dtype: int64"
   ]
  },
  {
   "cell_type": "markdown",
   "id": "f6a1b955",
   "metadata": {},
   "source": [
    "nombre_infected       353\n",
    "nombre_sain          1421\n",
    "nombre_exposed        127\n",
    "nombre_recovered    18099\n",
    "Name: 64, dtype: int64"
   ]
  },
  {
   "cell_type": "markdown",
   "id": "ed153c84",
   "metadata": {},
   "source": [
    "nombre_infected       329\n",
    "nombre_sain          1483\n",
    "nombre_exposed        120\n",
    "nombre_recovered    18068\n",
    "Name: 65, dtype: int64"
   ]
  },
  {
   "cell_type": "markdown",
   "id": "bc7a69b4",
   "metadata": {},
   "source": [
    "nombre_infected       310\n",
    "nombre_sain          1554\n",
    "nombre_exposed        104\n",
    "nombre_recovered    18032\n",
    "Name: 66, dtype: int64"
   ]
  },
  {
   "cell_type": "markdown",
   "id": "8cfe4581",
   "metadata": {},
   "source": [
    "nombre_infected       294\n",
    "nombre_sain          1609\n",
    "nombre_exposed         97\n",
    "nombre_recovered    18000\n",
    "Name: 67, dtype: int64"
   ]
  },
  {
   "cell_type": "markdown",
   "id": "fd5863cf",
   "metadata": {},
   "source": [
    "nombre_infected       256\n",
    "nombre_sain          1661\n",
    "nombre_exposed        112\n",
    "nombre_recovered    17971\n",
    "Name: 68, dtype: int64"
   ]
  },
  {
   "cell_type": "markdown",
   "id": "1068a4e2",
   "metadata": {},
   "source": [
    "nombre_infected       229\n",
    "nombre_sain          1712\n",
    "nombre_exposed        118\n",
    "nombre_recovered    17941\n",
    "Name: 69, dtype: int64"
   ]
  },
  {
   "cell_type": "markdown",
   "id": "ff37f778",
   "metadata": {},
   "source": [
    "nombre_infected       227\n",
    "nombre_sain          1772\n",
    "nombre_exposed        115\n",
    "nombre_recovered    17886\n",
    "Name: 70, dtype: int64"
   ]
  },
  {
   "cell_type": "markdown",
   "id": "2252f4ac",
   "metadata": {},
   "source": [
    "nombre_infected       216\n",
    "nombre_sain          1835\n",
    "nombre_exposed        111\n",
    "nombre_recovered    17838\n",
    "Name: 71, dtype: int64"
   ]
  },
  {
   "cell_type": "markdown",
   "id": "9b14f250",
   "metadata": {},
   "source": [
    "nombre_infected       206\n",
    "nombre_sain          1914\n",
    "nombre_exposed        104\n",
    "nombre_recovered    17776\n",
    "Name: 72, dtype: int64"
   ]
  },
  {
   "cell_type": "markdown",
   "id": "d760957a",
   "metadata": {},
   "source": [
    "nombre_infected       207\n",
    "nombre_sain          1971\n",
    "nombre_exposed         88\n",
    "nombre_recovered    17734\n",
    "Name: 73, dtype: int64"
   ]
  },
  {
   "cell_type": "markdown",
   "id": "ba626fcf",
   "metadata": {},
   "source": [
    "nombre_infected       205\n",
    "nombre_sain          2009\n",
    "nombre_exposed         83\n",
    "nombre_recovered    17703\n",
    "Name: 74, dtype: int64"
   ]
  },
  {
   "cell_type": "markdown",
   "id": "001cdc61",
   "metadata": {},
   "source": [
    "nombre_infected       187\n",
    "nombre_sain          2054\n",
    "nombre_exposed         88\n",
    "nombre_recovered    17671\n",
    "Name: 75, dtype: int64"
   ]
  },
  {
   "cell_type": "markdown",
   "id": "df71428b",
   "metadata": {},
   "source": [
    "nombre_infected       175\n",
    "nombre_sain          2101\n",
    "nombre_exposed         89\n",
    "nombre_recovered    17635\n",
    "Name: 76, dtype: int64"
   ]
  },
  {
   "cell_type": "markdown",
   "id": "5dd98768",
   "metadata": {},
   "source": [
    "nombre_infected       166\n",
    "nombre_sain          2154\n",
    "nombre_exposed         89\n",
    "nombre_recovered    17591\n",
    "Name: 77, dtype: int64"
   ]
  },
  {
   "cell_type": "markdown",
   "id": "ecda7f22",
   "metadata": {},
   "source": [
    "nombre_infected       150\n",
    "nombre_sain          2212\n",
    "nombre_exposed         84\n",
    "nombre_recovered    17554\n",
    "Name: 78, dtype: int64"
   ]
  },
  {
   "cell_type": "markdown",
   "id": "1e927edd",
   "metadata": {},
   "source": [
    "nombre_infected       148\n",
    "nombre_sain          2265\n",
    "nombre_exposed         73\n",
    "nombre_recovered    17514\n",
    "Name: 79, dtype: int64"
   ]
  },
  {
   "cell_type": "markdown",
   "id": "185fe838",
   "metadata": {},
   "source": [
    "nombre_infected       140\n",
    "nombre_sain          2302\n",
    "nombre_exposed         80\n",
    "nombre_recovered    17478\n",
    "Name: 80, dtype: int64"
   ]
  },
  {
   "cell_type": "markdown",
   "id": "22af4ab8",
   "metadata": {},
   "source": [
    "nombre_infected       132\n",
    "nombre_sain          2359\n",
    "nombre_exposed         79\n",
    "nombre_recovered    17430\n",
    "Name: 81, dtype: int64"
   ]
  },
  {
   "cell_type": "markdown",
   "id": "aa982cf6",
   "metadata": {},
   "source": [
    "nombre_infected       126\n",
    "nombre_sain          2412\n",
    "nombre_exposed         73\n",
    "nombre_recovered    17389\n",
    "Name: 82, dtype: int64"
   ]
  },
  {
   "cell_type": "markdown",
   "id": "06a65d30",
   "metadata": {},
   "source": [
    "nombre_infected       128\n",
    "nombre_sain          2470\n",
    "nombre_exposed         74\n",
    "nombre_recovered    17328\n",
    "Name: 83, dtype: int64"
   ]
  },
  {
   "cell_type": "markdown",
   "id": "2d0f1a3f",
   "metadata": {},
   "source": [
    "nombre_infected       128\n",
    "nombre_sain          2534\n",
    "nombre_exposed         71\n",
    "nombre_recovered    17267\n",
    "Name: 84, dtype: int64"
   ]
  },
  {
   "cell_type": "markdown",
   "id": "173a0e33",
   "metadata": {},
   "source": [
    "nombre_infected       132\n",
    "nombre_sain          2590\n",
    "nombre_exposed         56\n",
    "nombre_recovered    17222\n",
    "Name: 85, dtype: int64"
   ]
  },
  {
   "cell_type": "markdown",
   "id": "d55a0611",
   "metadata": {},
   "source": [
    "nombre_infected       132\n",
    "nombre_sain          2659\n",
    "nombre_exposed         62\n",
    "nombre_recovered    17147\n",
    "Name: 86, dtype: int64"
   ]
  },
  {
   "cell_type": "markdown",
   "id": "4936d2a8",
   "metadata": {},
   "source": [
    "nombre_infected       124\n",
    "nombre_sain          2714\n",
    "nombre_exposed         58\n",
    "nombre_recovered    17104\n",
    "Name: 87, dtype: int64"
   ]
  },
  {
   "cell_type": "markdown",
   "id": "044fc966",
   "metadata": {},
   "source": [
    "nombre_infected       119\n",
    "nombre_sain          2778\n",
    "nombre_exposed         57\n",
    "nombre_recovered    17046\n",
    "Name: 88, dtype: int64"
   ]
  },
  {
   "cell_type": "markdown",
   "id": "ae545f73",
   "metadata": {},
   "source": [
    "nombre_infected       115\n",
    "nombre_sain          2826\n",
    "nombre_exposed         58\n",
    "nombre_recovered    17001\n",
    "Name: 89, dtype: int64"
   ]
  },
  {
   "cell_type": "markdown",
   "id": "19b9c04d",
   "metadata": {},
   "source": [
    "nombre_infected       116\n",
    "nombre_sain          2872\n",
    "nombre_exposed         67\n",
    "nombre_recovered    16945\n",
    "Name: 90, dtype: int64"
   ]
  },
  {
   "cell_type": "markdown",
   "id": "e8bb3019",
   "metadata": {},
   "source": [
    "nombre_infected       105\n",
    "nombre_sain          2953\n",
    "nombre_exposed         71\n",
    "nombre_recovered    16871\n",
    "Name: 91, dtype: int64"
   ]
  },
  {
   "cell_type": "markdown",
   "id": "4a5f34c9",
   "metadata": {},
   "source": [
    "nombre_infected       102\n",
    "nombre_sain          3018\n",
    "nombre_exposed         66\n",
    "nombre_recovered    16814\n",
    "Name: 92, dtype: int64"
   ]
  },
  {
   "cell_type": "markdown",
   "id": "92e48820",
   "metadata": {},
   "source": [
    "nombre_infected       102\n",
    "nombre_sain          3071\n",
    "nombre_exposed         70\n",
    "nombre_recovered    16757\n",
    "Name: 93, dtype: int64"
   ]
  },
  {
   "cell_type": "markdown",
   "id": "31cac7d3",
   "metadata": {},
   "source": [
    "nombre_infected        98\n",
    "nombre_sain          3120\n",
    "nombre_exposed         81\n",
    "nombre_recovered    16701\n",
    "Name: 94, dtype: int64"
   ]
  },
  {
   "cell_type": "markdown",
   "id": "07f11e5b",
   "metadata": {},
   "source": [
    "nombre_infected       104\n",
    "nombre_sain          3175\n",
    "nombre_exposed         74\n",
    "nombre_recovered    16647\n",
    "Name: 95, dtype: int64"
   ]
  },
  {
   "cell_type": "markdown",
   "id": "2eef485b",
   "metadata": {},
   "source": [
    "nombre_infected       105\n",
    "nombre_sain          3200\n",
    "nombre_exposed         80\n",
    "nombre_recovered    16615\n",
    "Name: 96, dtype: int64"
   ]
  },
  {
   "cell_type": "markdown",
   "id": "b2f85a04",
   "metadata": {},
   "source": [
    "nombre_infected       110\n",
    "nombre_sain          3226\n",
    "nombre_exposed         89\n",
    "nombre_recovered    16575\n",
    "Name: 97, dtype: int64"
   ]
  },
  {
   "cell_type": "markdown",
   "id": "bdadef4d",
   "metadata": {},
   "source": [
    "nombre_infected       116\n",
    "nombre_sain          3260\n",
    "nombre_exposed         88\n",
    "nombre_recovered    16536\n",
    "Name: 98, dtype: int64"
   ]
  },
  {
   "cell_type": "markdown",
   "id": "4fc18a83",
   "metadata": {},
   "source": [
    "nombre_infected       128\n",
    "nombre_sain          3296\n",
    "nombre_exposed         86\n",
    "nombre_recovered    16490\n",
    "Name: 99, dtype: int64"
   ]
  },
  {
   "cell_type": "markdown",
   "id": "ca99ac99",
   "metadata": {},
   "source": [
    "nombre_infected       135\n",
    "nombre_sain          3319\n",
    "nombre_exposed         92\n",
    "nombre_recovered    16454\n",
    "Name: 100, dtype: int64"
   ]
  },
  {
   "cell_type": "markdown",
   "id": "c343f341",
   "metadata": {},
   "source": [
    "nombre_infected       147\n",
    "nombre_sain          3350\n",
    "nombre_exposed         96\n",
    "nombre_recovered    16407\n",
    "Name: 101, dtype: int64"
   ]
  },
  {
   "cell_type": "markdown",
   "id": "66c27f29",
   "metadata": {},
   "source": [
    "nombre_infected       157\n",
    "nombre_sain          3373\n",
    "nombre_exposed        100\n",
    "nombre_recovered    16370\n",
    "Name: 102, dtype: int64"
   ]
  },
  {
   "cell_type": "markdown",
   "id": "9a1a523f",
   "metadata": {},
   "source": [
    "nombre_infected       163\n",
    "nombre_sain          3392\n",
    "nombre_exposed        104\n",
    "nombre_recovered    16341\n",
    "Name: 103, dtype: int64"
   ]
  },
  {
   "cell_type": "markdown",
   "id": "1e99b0ae",
   "metadata": {},
   "source": [
    "nombre_infected       166\n",
    "nombre_sain          3419\n",
    "nombre_exposed        107\n",
    "nombre_recovered    16308\n",
    "Name: 104, dtype: int64"
   ]
  },
  {
   "cell_type": "markdown",
   "id": "7ef9fe32",
   "metadata": {},
   "source": [
    "nombre_infected       170\n",
    "nombre_sain          3443\n",
    "nombre_exposed        112\n",
    "nombre_recovered    16275\n",
    "Name: 105, dtype: int64"
   ]
  },
  {
   "cell_type": "markdown",
   "id": "b1e2b082",
   "metadata": {},
   "source": [
    "nombre_infected       172\n",
    "nombre_sain          3469\n",
    "nombre_exposed        117\n",
    "nombre_recovered    16242\n",
    "Name: 106, dtype: int64"
   ]
  },
  {
   "cell_type": "markdown",
   "id": "86d35953",
   "metadata": {},
   "source": [
    "nombre_infected       171\n",
    "nombre_sain          3463\n",
    "nombre_exposed        133\n",
    "nombre_recovered    16233\n",
    "Name: 107, dtype: int64"
   ]
  },
  {
   "cell_type": "markdown",
   "id": "c80dfcea",
   "metadata": {},
   "source": [
    "nombre_infected       175\n",
    "nombre_sain          3470\n",
    "nombre_exposed        143\n",
    "nombre_recovered    16212\n",
    "Name: 108, dtype: int64"
   ]
  },
  {
   "cell_type": "markdown",
   "id": "13134299",
   "metadata": {},
   "source": [
    "nombre_infected       203\n",
    "nombre_sain          3470\n",
    "nombre_exposed        138\n",
    "nombre_recovered    16189\n",
    "Name: 109, dtype: int64"
   ]
  },
  {
   "cell_type": "markdown",
   "id": "98f6b7de",
   "metadata": {},
   "source": [
    "nombre_infected       212\n",
    "nombre_sain          3488\n",
    "nombre_exposed        133\n",
    "nombre_recovered    16167\n",
    "Name: 110, dtype: int64"
   ]
  },
  {
   "cell_type": "markdown",
   "id": "3f21438e",
   "metadata": {},
   "source": [
    "nombre_infected       214\n",
    "nombre_sain          3484\n",
    "nombre_exposed        146\n",
    "nombre_recovered    16156\n",
    "Name: 111, dtype: int64"
   ]
  },
  {
   "cell_type": "markdown",
   "id": "ad3b398b",
   "metadata": {},
   "source": [
    "nombre_infected       220\n",
    "nombre_sain          3492\n",
    "nombre_exposed        151\n",
    "nombre_recovered    16137\n",
    "Name: 112, dtype: int64"
   ]
  },
  {
   "cell_type": "markdown",
   "id": "e2e64b68",
   "metadata": {},
   "source": [
    "nombre_infected       231\n",
    "nombre_sain          3485\n",
    "nombre_exposed        157\n",
    "nombre_recovered    16127\n",
    "Name: 113, dtype: int64"
   ]
  },
  {
   "cell_type": "markdown",
   "id": "d6efa60d",
   "metadata": {},
   "source": [
    "nombre_infected       233\n",
    "nombre_sain          3496\n",
    "nombre_exposed        161\n",
    "nombre_recovered    16110\n",
    "Name: 114, dtype: int64"
   ]
  },
  {
   "cell_type": "markdown",
   "id": "05fed92f",
   "metadata": {},
   "source": [
    "nombre_infected       250\n",
    "nombre_sain          3480\n",
    "nombre_exposed        172\n",
    "nombre_recovered    16098\n",
    "Name: 115, dtype: int64"
   ]
  },
  {
   "cell_type": "markdown",
   "id": "d6202ee1",
   "metadata": {},
   "source": [
    "nombre_infected       257\n",
    "nombre_sain          3472\n",
    "nombre_exposed        182\n",
    "nombre_recovered    16089\n",
    "Name: 116, dtype: int64"
   ]
  },
  {
   "cell_type": "markdown",
   "id": "2ae65c91",
   "metadata": {},
   "source": [
    "nombre_infected       269\n",
    "nombre_sain          3473\n",
    "nombre_exposed        181\n",
    "nombre_recovered    16077\n",
    "Name: 117, dtype: int64"
   ]
  },
  {
   "cell_type": "markdown",
   "id": "6231e7a8",
   "metadata": {},
   "source": [
    "nombre_infected       283\n",
    "nombre_sain          3457\n",
    "nombre_exposed        191\n",
    "nombre_recovered    16069\n",
    "Name: 118, dtype: int64"
   ]
  },
  {
   "cell_type": "markdown",
   "id": "fb65bdcf",
   "metadata": {},
   "source": [
    "nombre_infected       282\n",
    "nombre_sain          3441\n",
    "nombre_exposed        213\n",
    "nombre_recovered    16064\n",
    "Name: 119, dtype: int64"
   ]
  },
  {
   "cell_type": "markdown",
   "id": "6de3d398",
   "metadata": {},
   "source": [
    "nombre_infected       307\n",
    "nombre_sain          3426\n",
    "nombre_exposed        210\n",
    "nombre_recovered    16057\n",
    "Name: 120, dtype: int64"
   ]
  },
  {
   "cell_type": "markdown",
   "id": "089b74d7",
   "metadata": {},
   "source": [
    "nombre_infected       318\n",
    "nombre_sain          3426\n",
    "nombre_exposed        230\n",
    "nombre_recovered    16026\n",
    "Name: 121, dtype: int64"
   ]
  },
  {
   "cell_type": "markdown",
   "id": "7c18c5ce",
   "metadata": {},
   "source": [
    "nombre_infected       331\n",
    "nombre_sain          3417\n",
    "nombre_exposed        242\n",
    "nombre_recovered    16010\n",
    "Name: 122, dtype: int64"
   ]
  },
  {
   "cell_type": "markdown",
   "id": "1a57cfd1",
   "metadata": {},
   "source": [
    "nombre_infected       335\n",
    "nombre_sain          3403\n",
    "nombre_exposed        254\n",
    "nombre_recovered    16008\n",
    "Name: 123, dtype: int64"
   ]
  },
  {
   "cell_type": "markdown",
   "id": "8e5e2593",
   "metadata": {},
   "source": [
    "nombre_infected       373\n",
    "nombre_sain          3392\n",
    "nombre_exposed        260\n",
    "nombre_recovered    15975\n",
    "Name: 124, dtype: int64"
   ]
  },
  {
   "cell_type": "markdown",
   "id": "b91840a9",
   "metadata": {},
   "source": [
    "nombre_infected       386\n",
    "nombre_sain          3398\n",
    "nombre_exposed        268\n",
    "nombre_recovered    15948\n",
    "Name: 125, dtype: int64"
   ]
  },
  {
   "cell_type": "markdown",
   "id": "60835f20",
   "metadata": {},
   "source": [
    "nombre_infected       404\n",
    "nombre_sain          3416\n",
    "nombre_exposed        264\n",
    "nombre_recovered    15916\n",
    "Name: 126, dtype: int64"
   ]
  },
  {
   "cell_type": "markdown",
   "id": "7d4c2daa",
   "metadata": {},
   "source": [
    "nombre_infected       399\n",
    "nombre_sain          3414\n",
    "nombre_exposed        281\n",
    "nombre_recovered    15906\n",
    "Name: 127, dtype: int64"
   ]
  },
  {
   "cell_type": "markdown",
   "id": "ba0f9ffc",
   "metadata": {},
   "source": [
    "nombre_infected       412\n",
    "nombre_sain          3385\n",
    "nombre_exposed        314\n",
    "nombre_recovered    15889\n",
    "Name: 128, dtype: int64"
   ]
  },
  {
   "cell_type": "markdown",
   "id": "9bd06375",
   "metadata": {},
   "source": [
    "nombre_infected       436\n",
    "nombre_sain          3375\n",
    "nombre_exposed        325\n",
    "nombre_recovered    15864\n",
    "Name: 129, dtype: int64"
   ]
  },
  {
   "cell_type": "markdown",
   "id": "3f0a683a",
   "metadata": {},
   "source": [
    "nombre_infected       461\n",
    "nombre_sain          3354\n",
    "nombre_exposed        329\n",
    "nombre_recovered    15856\n",
    "Name: 130, dtype: int64"
   ]
  },
  {
   "cell_type": "markdown",
   "id": "6a550589",
   "metadata": {},
   "source": [
    "nombre_infected       484\n",
    "nombre_sain          3293\n",
    "nombre_exposed        353\n",
    "nombre_recovered    15870\n",
    "Name: 131, dtype: int64"
   ]
  },
  {
   "cell_type": "markdown",
   "id": "93b0bc74",
   "metadata": {},
   "source": [
    "nombre_infected       512\n",
    "nombre_sain          3229\n",
    "nombre_exposed        374\n",
    "nombre_recovered    15885\n",
    "Name: 132, dtype: int64"
   ]
  },
  {
   "cell_type": "markdown",
   "id": "024433bf",
   "metadata": {},
   "source": [
    "nombre_infected       528\n",
    "nombre_sain          3202\n",
    "nombre_exposed        387\n",
    "nombre_recovered    15883\n",
    "Name: 133, dtype: int64"
   ]
  },
  {
   "cell_type": "markdown",
   "id": "87a6488b",
   "metadata": {},
   "source": [
    "nombre_infected       561\n",
    "nombre_sain          3143\n",
    "nombre_exposed        412\n",
    "nombre_recovered    15884\n",
    "Name: 134, dtype: int64"
   ]
  },
  {
   "cell_type": "markdown",
   "id": "80cfe0eb",
   "metadata": {},
   "source": [
    "nombre_infected       596\n",
    "nombre_sain          3104\n",
    "nombre_exposed        419\n",
    "nombre_recovered    15881\n",
    "Name: 135, dtype: int64"
   ]
  },
  {
   "cell_type": "markdown",
   "id": "e90aff7a",
   "metadata": {},
   "source": [
    "nombre_infected       618\n",
    "nombre_sain          3060\n",
    "nombre_exposed        414\n",
    "nombre_recovered    15908\n",
    "Name: 136, dtype: int64"
   ]
  },
  {
   "cell_type": "markdown",
   "id": "b30a5446",
   "metadata": {},
   "source": [
    "nombre_infected       654\n",
    "nombre_sain          3019\n",
    "nombre_exposed        417\n",
    "nombre_recovered    15910\n",
    "Name: 137, dtype: int64"
   ]
  },
  {
   "cell_type": "markdown",
   "id": "9d632582",
   "metadata": {},
   "source": [
    "nombre_infected       668\n",
    "nombre_sain          2965\n",
    "nombre_exposed        443\n",
    "nombre_recovered    15924\n",
    "Name: 138, dtype: int64"
   ]
  },
  {
   "cell_type": "markdown",
   "id": "48791d6f",
   "metadata": {},
   "source": [
    "nombre_infected       700\n",
    "nombre_sain          2938\n",
    "nombre_exposed        416\n",
    "nombre_recovered    15946\n",
    "Name: 139, dtype: int64"
   ]
  },
  {
   "cell_type": "markdown",
   "id": "583cf979",
   "metadata": {},
   "source": [
    "nombre_infected       702\n",
    "nombre_sain          2869\n",
    "nombre_exposed        437\n",
    "nombre_recovered    15992\n",
    "Name: 140, dtype: int64"
   ]
  },
  {
   "cell_type": "markdown",
   "id": "a9a5bbed",
   "metadata": {},
   "source": [
    "nombre_infected       718\n",
    "nombre_sain          2789\n",
    "nombre_exposed        458\n",
    "nombre_recovered    16035\n",
    "Name: 141, dtype: int64"
   ]
  },
  {
   "cell_type": "markdown",
   "id": "c08a1eeb",
   "metadata": {},
   "source": [
    "nombre_infected       737\n",
    "nombre_sain          2722\n",
    "nombre_exposed        450\n",
    "nombre_recovered    16091\n",
    "Name: 142, dtype: int64"
   ]
  },
  {
   "cell_type": "markdown",
   "id": "78060624",
   "metadata": {},
   "source": [
    "nombre_infected       745\n",
    "nombre_sain          2670\n",
    "nombre_exposed        456\n",
    "nombre_recovered    16129\n",
    "Name: 143, dtype: int64"
   ]
  },
  {
   "cell_type": "markdown",
   "id": "3f6d736a",
   "metadata": {},
   "source": [
    "nombre_infected       754\n",
    "nombre_sain          2630\n",
    "nombre_exposed        455\n",
    "nombre_recovered    16161\n",
    "Name: 144, dtype: int64"
   ]
  },
  {
   "cell_type": "markdown",
   "id": "dcb4fb6b",
   "metadata": {},
   "source": [
    "nombre_infected       743\n",
    "nombre_sain          2602\n",
    "nombre_exposed        438\n",
    "nombre_recovered    16217\n",
    "Name: 145, dtype: int64"
   ]
  },
  {
   "cell_type": "markdown",
   "id": "fe17998b",
   "metadata": {},
   "source": [
    "nombre_infected       754\n",
    "nombre_sain          2531\n",
    "nombre_exposed        461\n",
    "nombre_recovered    16254\n",
    "Name: 146, dtype: int64"
   ]
  },
  {
   "cell_type": "markdown",
   "id": "f232cb65",
   "metadata": {},
   "source": [
    "nombre_infected       756\n",
    "nombre_sain          2491\n",
    "nombre_exposed        464\n",
    "nombre_recovered    16289\n",
    "Name: 147, dtype: int64"
   ]
  },
  {
   "cell_type": "markdown",
   "id": "23445797",
   "metadata": {},
   "source": [
    "nombre_infected       764\n",
    "nombre_sain          2471\n",
    "nombre_exposed        430\n",
    "nombre_recovered    16335\n",
    "Name: 148, dtype: int64"
   ]
  },
  {
   "cell_type": "markdown",
   "id": "73048708",
   "metadata": {},
   "source": [
    "nombre_infected       773\n",
    "nombre_sain          2423\n",
    "nombre_exposed        429\n",
    "nombre_recovered    16375\n",
    "Name: 149, dtype: int64"
   ]
  },
  {
   "cell_type": "markdown",
   "id": "eecb519d",
   "metadata": {},
   "source": [
    "nombre_infected       751\n",
    "nombre_sain          2390\n",
    "nombre_exposed        436\n",
    "nombre_recovered    16423\n",
    "Name: 150, dtype: int64"
   ]
  },
  {
   "cell_type": "markdown",
   "id": "4debbe58",
   "metadata": {},
   "source": [
    "nombre_infected       742\n",
    "nombre_sain          2370\n",
    "nombre_exposed        444\n",
    "nombre_recovered    16444\n",
    "Name: 151, dtype: int64"
   ]
  },
  {
   "cell_type": "markdown",
   "id": "19ab34a4",
   "metadata": {},
   "source": [
    "nombre_infected       749\n",
    "nombre_sain          2364\n",
    "nombre_exposed        427\n",
    "nombre_recovered    16460\n",
    "Name: 152, dtype: int64"
   ]
  },
  {
   "cell_type": "markdown",
   "id": "66f6a628",
   "metadata": {},
   "source": [
    "nombre_infected       740\n",
    "nombre_sain          2362\n",
    "nombre_exposed        411\n",
    "nombre_recovered    16487\n",
    "Name: 153, dtype: int64"
   ]
  },
  {
   "cell_type": "markdown",
   "id": "95824b0d",
   "metadata": {},
   "source": [
    "nombre_infected       728\n",
    "nombre_sain          2337\n",
    "nombre_exposed        417\n",
    "nombre_recovered    16518\n",
    "Name: 154, dtype: int64"
   ]
  },
  {
   "cell_type": "markdown",
   "id": "61311819",
   "metadata": {},
   "source": [
    "nombre_infected       696\n",
    "nombre_sain          2318\n",
    "nombre_exposed        434\n",
    "nombre_recovered    16552\n",
    "Name: 155, dtype: int64"
   ]
  },
  {
   "cell_type": "markdown",
   "id": "9dd15973",
   "metadata": {},
   "source": [
    "nombre_infected       705\n",
    "nombre_sain          2294\n",
    "nombre_exposed        426\n",
    "nombre_recovered    16575\n",
    "Name: 156, dtype: int64"
   ]
  },
  {
   "cell_type": "markdown",
   "id": "a6b991f7",
   "metadata": {},
   "source": [
    "nombre_infected       702\n",
    "nombre_sain          2278\n",
    "nombre_exposed        423\n",
    "nombre_recovered    16597\n",
    "Name: 157, dtype: int64"
   ]
  },
  {
   "cell_type": "markdown",
   "id": "641ccfd3",
   "metadata": {},
   "source": [
    "nombre_infected       692\n",
    "nombre_sain          2271\n",
    "nombre_exposed        407\n",
    "nombre_recovered    16630\n",
    "Name: 158, dtype: int64"
   ]
  },
  {
   "cell_type": "markdown",
   "id": "f0035424",
   "metadata": {},
   "source": [
    "nombre_infected       676\n",
    "nombre_sain          2278\n",
    "nombre_exposed        394\n",
    "nombre_recovered    16652\n",
    "Name: 159, dtype: int64"
   ]
  },
  {
   "cell_type": "markdown",
   "id": "c822a627",
   "metadata": {},
   "source": [
    "nombre_infected       668\n",
    "nombre_sain          2274\n",
    "nombre_exposed        385\n",
    "nombre_recovered    16673\n",
    "Name: 160, dtype: int64"
   ]
  },
  {
   "cell_type": "markdown",
   "id": "2e5071df",
   "metadata": {},
   "source": [
    "nombre_infected       657\n",
    "nombre_sain          2298\n",
    "nombre_exposed        371\n",
    "nombre_recovered    16674\n",
    "Name: 161, dtype: int64"
   ]
  },
  {
   "cell_type": "markdown",
   "id": "a8463aea",
   "metadata": {},
   "source": [
    "nombre_infected       638\n",
    "nombre_sain          2281\n",
    "nombre_exposed        398\n",
    "nombre_recovered    16683\n",
    "Name: 162, dtype: int64"
   ]
  },
  {
   "cell_type": "markdown",
   "id": "a95120d3",
   "metadata": {},
   "source": [
    "nombre_infected       632\n",
    "nombre_sain          2276\n",
    "nombre_exposed        399\n",
    "nombre_recovered    16693\n",
    "Name: 163, dtype: int64"
   ]
  },
  {
   "cell_type": "markdown",
   "id": "7e4c7763",
   "metadata": {},
   "source": [
    "nombre_infected       606\n",
    "nombre_sain          2292\n",
    "nombre_exposed        389\n",
    "nombre_recovered    16713\n",
    "Name: 164, dtype: int64"
   ]
  },
  {
   "cell_type": "markdown",
   "id": "9a2d9ad1",
   "metadata": {},
   "source": [
    "nombre_infected       618\n",
    "nombre_sain          2291\n",
    "nombre_exposed        376\n",
    "nombre_recovered    16715\n",
    "Name: 165, dtype: int64"
   ]
  },
  {
   "cell_type": "markdown",
   "id": "3e57e0bf",
   "metadata": {},
   "source": [
    "nombre_infected       600\n",
    "nombre_sain          2289\n",
    "nombre_exposed        376\n",
    "nombre_recovered    16735\n",
    "Name: 166, dtype: int64"
   ]
  },
  {
   "cell_type": "markdown",
   "id": "d4f063ba",
   "metadata": {},
   "source": [
    "nombre_infected       594\n",
    "nombre_sain          2303\n",
    "nombre_exposed        371\n",
    "nombre_recovered    16732\n",
    "Name: 167, dtype: int64"
   ]
  },
  {
   "cell_type": "markdown",
   "id": "a72c2b8b",
   "metadata": {},
   "source": [
    "nombre_infected       604\n",
    "nombre_sain          2309\n",
    "nombre_exposed        370\n",
    "nombre_recovered    16717\n",
    "Name: 168, dtype: int64"
   ]
  },
  {
   "cell_type": "markdown",
   "id": "e2eab674",
   "metadata": {},
   "source": [
    "nombre_infected       612\n",
    "nombre_sain          2326\n",
    "nombre_exposed        364\n",
    "nombre_recovered    16698\n",
    "Name: 169, dtype: int64"
   ]
  },
  {
   "cell_type": "markdown",
   "id": "4a1a8ae5",
   "metadata": {},
   "source": [
    "nombre_infected       631\n",
    "nombre_sain          2339\n",
    "nombre_exposed        354\n",
    "nombre_recovered    16676\n",
    "Name: 170, dtype: int64"
   ]
  },
  {
   "cell_type": "markdown",
   "id": "2890d449",
   "metadata": {},
   "source": [
    "nombre_infected       620\n",
    "nombre_sain          2323\n",
    "nombre_exposed        358\n",
    "nombre_recovered    16699\n",
    "Name: 171, dtype: int64"
   ]
  },
  {
   "cell_type": "markdown",
   "id": "6a7d7c23",
   "metadata": {},
   "source": [
    "nombre_infected       616\n",
    "nombre_sain          2329\n",
    "nombre_exposed        350\n",
    "nombre_recovered    16705\n",
    "Name: 172, dtype: int64"
   ]
  },
  {
   "cell_type": "markdown",
   "id": "2f410bab",
   "metadata": {},
   "source": [
    "nombre_infected       605\n",
    "nombre_sain          2355\n",
    "nombre_exposed        338\n",
    "nombre_recovered    16702\n",
    "Name: 173, dtype: int64"
   ]
  },
  {
   "cell_type": "markdown",
   "id": "e939e2cc",
   "metadata": {},
   "source": [
    "nombre_infected       601\n",
    "nombre_sain          2371\n",
    "nombre_exposed        336\n",
    "nombre_recovered    16692\n",
    "Name: 174, dtype: int64"
   ]
  },
  {
   "cell_type": "markdown",
   "id": "746de33c",
   "metadata": {},
   "source": [
    "nombre_infected       593\n",
    "nombre_sain          2365\n",
    "nombre_exposed        352\n",
    "nombre_recovered    16690\n",
    "Name: 175, dtype: int64"
   ]
  },
  {
   "cell_type": "markdown",
   "id": "13e3ac21",
   "metadata": {},
   "source": [
    "nombre_infected       589\n",
    "nombre_sain          2379\n",
    "nombre_exposed        344\n",
    "nombre_recovered    16688\n",
    "Name: 176, dtype: int64"
   ]
  },
  {
   "cell_type": "markdown",
   "id": "a1ef13c5",
   "metadata": {},
   "source": [
    "nombre_infected       598\n",
    "nombre_sain          2376\n",
    "nombre_exposed        336\n",
    "nombre_recovered    16690\n",
    "Name: 177, dtype: int64"
   ]
  },
  {
   "cell_type": "markdown",
   "id": "cd88cb2f",
   "metadata": {},
   "source": [
    "nombre_infected       581\n",
    "nombre_sain          2389\n",
    "nombre_exposed        357\n",
    "nombre_recovered    16673\n",
    "Name: 178, dtype: int64"
   ]
  },
  {
   "cell_type": "markdown",
   "id": "067fd89a",
   "metadata": {},
   "source": [
    "nombre_infected       589\n",
    "nombre_sain          2414\n",
    "nombre_exposed        350\n",
    "nombre_recovered    16647\n",
    "Name: 179, dtype: int64"
   ]
  },
  {
   "cell_type": "markdown",
   "id": "c96d586d",
   "metadata": {},
   "source": [
    "nombre_infected       622\n",
    "nombre_sain          2429\n",
    "nombre_exposed        338\n",
    "nombre_recovered    16611\n",
    "Name: 180, dtype: int64"
   ]
  },
  {
   "cell_type": "markdown",
   "id": "9875c613",
   "metadata": {},
   "source": [
    "nombre_infected       625\n",
    "nombre_sain          2437\n",
    "nombre_exposed        353\n",
    "nombre_recovered    16585\n",
    "Name: 181, dtype: int64"
   ]
  },
  {
   "cell_type": "markdown",
   "id": "6d188a87",
   "metadata": {},
   "source": [
    "nombre_infected       630\n",
    "nombre_sain          2415\n",
    "nombre_exposed        379\n",
    "nombre_recovered    16576\n",
    "Name: 182, dtype: int64"
   ]
  },
  {
   "cell_type": "markdown",
   "id": "5933fcf4",
   "metadata": {},
   "source": [
    "nombre_infected       633\n",
    "nombre_sain          2438\n",
    "nombre_exposed        389\n",
    "nombre_recovered    16540\n",
    "Name: 183, dtype: int64"
   ]
  },
  {
   "cell_type": "markdown",
   "id": "ad316a80",
   "metadata": {},
   "source": [
    "nombre_infected       639\n",
    "nombre_sain          2445\n",
    "nombre_exposed        395\n",
    "nombre_recovered    16521\n",
    "Name: 184, dtype: int64"
   ]
  },
  {
   "cell_type": "markdown",
   "id": "60999f38",
   "metadata": {},
   "source": [
    "nombre_infected       656\n",
    "nombre_sain          2447\n",
    "nombre_exposed        401\n",
    "nombre_recovered    16496\n",
    "Name: 185, dtype: int64"
   ]
  },
  {
   "cell_type": "markdown",
   "id": "99399556",
   "metadata": {},
   "source": [
    "nombre_infected       660\n",
    "nombre_sain          2431\n",
    "nombre_exposed        412\n",
    "nombre_recovered    16497\n",
    "Name: 186, dtype: int64"
   ]
  },
  {
   "cell_type": "markdown",
   "id": "4fa9bd3a",
   "metadata": {},
   "source": [
    "nombre_infected       681\n",
    "nombre_sain          2419\n",
    "nombre_exposed        434\n",
    "nombre_recovered    16466\n",
    "Name: 187, dtype: int64"
   ]
  },
  {
   "cell_type": "markdown",
   "id": "c68b2a1d",
   "metadata": {},
   "source": [
    "nombre_infected       697\n",
    "nombre_sain          2432\n",
    "nombre_exposed        430\n",
    "nombre_recovered    16441\n",
    "Name: 188, dtype: int64"
   ]
  },
  {
   "cell_type": "markdown",
   "id": "de1587df",
   "metadata": {},
   "source": [
    "nombre_infected       706\n",
    "nombre_sain          2411\n",
    "nombre_exposed        437\n",
    "nombre_recovered    16446\n",
    "Name: 189, dtype: int64"
   ]
  },
  {
   "cell_type": "markdown",
   "id": "53c5aeb3",
   "metadata": {},
   "source": [
    "nombre_infected       713\n",
    "nombre_sain          2395\n",
    "nombre_exposed        448\n",
    "nombre_recovered    16444\n",
    "Name: 190, dtype: int64"
   ]
  },
  {
   "cell_type": "markdown",
   "id": "800a7c5e",
   "metadata": {},
   "source": [
    "nombre_infected       709\n",
    "nombre_sain          2412\n",
    "nombre_exposed        436\n",
    "nombre_recovered    16443\n",
    "Name: 191, dtype: int64"
   ]
  },
  {
   "cell_type": "markdown",
   "id": "d219e2a0",
   "metadata": {},
   "source": [
    "nombre_infected       701\n",
    "nombre_sain          2410\n",
    "nombre_exposed        437\n",
    "nombre_recovered    16452\n",
    "Name: 192, dtype: int64"
   ]
  },
  {
   "cell_type": "markdown",
   "id": "14b5e8d3",
   "metadata": {},
   "source": [
    "nombre_infected       689\n",
    "nombre_sain          2410\n",
    "nombre_exposed        466\n",
    "nombre_recovered    16435\n",
    "Name: 193, dtype: int64"
   ]
  },
  {
   "cell_type": "markdown",
   "id": "034f0ef6",
   "metadata": {},
   "source": [
    "nombre_infected       715\n",
    "nombre_sain          2458\n",
    "nombre_exposed        418\n",
    "nombre_recovered    16409\n",
    "Name: 194, dtype: int64"
   ]
  },
  {
   "cell_type": "markdown",
   "id": "ff529fd1",
   "metadata": {},
   "source": [
    "nombre_infected       733\n",
    "nombre_sain          2442\n",
    "nombre_exposed        424\n",
    "nombre_recovered    16401\n",
    "Name: 195, dtype: int64"
   ]
  },
  {
   "cell_type": "markdown",
   "id": "e9f326a9",
   "metadata": {},
   "source": [
    "nombre_infected       740\n",
    "nombre_sain          2445\n",
    "nombre_exposed        439\n",
    "nombre_recovered    16376\n",
    "Name: 196, dtype: int64"
   ]
  },
  {
   "cell_type": "markdown",
   "id": "f60a496e",
   "metadata": {},
   "source": [
    "nombre_infected       720\n",
    "nombre_sain          2480\n",
    "nombre_exposed        423\n",
    "nombre_recovered    16377\n",
    "Name: 197, dtype: int64"
   ]
  },
  {
   "cell_type": "markdown",
   "id": "8cdd0007",
   "metadata": {},
   "source": [
    "nombre_infected       726\n",
    "nombre_sain          2506\n",
    "nombre_exposed        402\n",
    "nombre_recovered    16366\n",
    "Name: 198, dtype: int64"
   ]
  },
  {
   "cell_type": "markdown",
   "id": "ff1fa54e",
   "metadata": {},
   "source": [
    "nombre_infected       708\n",
    "nombre_sain          2536\n",
    "nombre_exposed        406\n",
    "nombre_recovered    16350\n",
    "Name: 199, dtype: int64"
   ]
  },
  {
   "cell_type": "markdown",
   "id": "d199de06",
   "metadata": {},
   "source": [
    "nombre_infected       692\n",
    "nombre_sain          2562\n",
    "nombre_exposed        400\n",
    "nombre_recovered    16346\n",
    "Name: 200, dtype: int64"
   ]
  },
  {
   "cell_type": "markdown",
   "id": "129dda99",
   "metadata": {},
   "source": [
    "nombre_infected       684\n",
    "nombre_sain          2562\n",
    "nombre_exposed        407\n",
    "nombre_recovered    16347\n",
    "Name: 201, dtype: int64"
   ]
  },
  {
   "cell_type": "markdown",
   "id": "95cefd33",
   "metadata": {},
   "source": [
    "nombre_infected       701\n",
    "nombre_sain          2587\n",
    "nombre_exposed        403\n",
    "nombre_recovered    16309\n",
    "Name: 202, dtype: int64"
   ]
  },
  {
   "cell_type": "markdown",
   "id": "21fdbf72",
   "metadata": {},
   "source": [
    "nombre_infected       691\n",
    "nombre_sain          2581\n",
    "nombre_exposed        423\n",
    "nombre_recovered    16305\n",
    "Name: 203, dtype: int64"
   ]
  },
  {
   "cell_type": "markdown",
   "id": "935d293f",
   "metadata": {},
   "source": [
    "nombre_infected       693\n",
    "nombre_sain          2624\n",
    "nombre_exposed        425\n",
    "nombre_recovered    16258\n",
    "Name: 204, dtype: int64"
   ]
  },
  {
   "cell_type": "markdown",
   "id": "bd1b9f10",
   "metadata": {},
   "source": [
    "nombre_infected       710\n",
    "nombre_sain          2645\n",
    "nombre_exposed        410\n",
    "nombre_recovered    16235\n",
    "Name: 205, dtype: int64"
   ]
  },
  {
   "cell_type": "markdown",
   "id": "b068fc0f",
   "metadata": {},
   "source": [
    "nombre_infected       723\n",
    "nombre_sain          2664\n",
    "nombre_exposed        411\n",
    "nombre_recovered    16202\n",
    "Name: 206, dtype: int64"
   ]
  },
  {
   "cell_type": "markdown",
   "id": "43ea0def",
   "metadata": {},
   "source": [
    "nombre_infected       741\n",
    "nombre_sain          2689\n",
    "nombre_exposed        416\n",
    "nombre_recovered    16154\n",
    "Name: 207, dtype: int64"
   ]
  },
  {
   "cell_type": "markdown",
   "id": "21058078",
   "metadata": {},
   "source": [
    "nombre_infected       714\n",
    "nombre_sain          2690\n",
    "nombre_exposed        447\n",
    "nombre_recovered    16149\n",
    "Name: 208, dtype: int64"
   ]
  },
  {
   "cell_type": "markdown",
   "id": "1a3e08c5",
   "metadata": {},
   "source": [
    "nombre_infected       744\n",
    "nombre_sain          2671\n",
    "nombre_exposed        453\n",
    "nombre_recovered    16132\n",
    "Name: 209, dtype: int64"
   ]
  },
  {
   "cell_type": "markdown",
   "id": "bb1305ba",
   "metadata": {},
   "source": [
    "nombre_infected       752\n",
    "nombre_sain          2677\n",
    "nombre_exposed        452\n",
    "nombre_recovered    16119\n",
    "Name: 210, dtype: int64"
   ]
  },
  {
   "cell_type": "markdown",
   "id": "8a51f98c",
   "metadata": {},
   "source": [
    "nombre_infected       788\n",
    "nombre_sain          2664\n",
    "nombre_exposed        447\n",
    "nombre_recovered    16101\n",
    "Name: 211, dtype: int64"
   ]
  },
  {
   "cell_type": "markdown",
   "id": "529a9466",
   "metadata": {},
   "source": [
    "nombre_infected       804\n",
    "nombre_sain          2681\n",
    "nombre_exposed        460\n",
    "nombre_recovered    16055\n",
    "Name: 212, dtype: int64"
   ]
  },
  {
   "cell_type": "markdown",
   "id": "7226579a",
   "metadata": {},
   "source": [
    "nombre_infected       825\n",
    "nombre_sain          2645\n",
    "nombre_exposed        481\n",
    "nombre_recovered    16049\n",
    "Name: 213, dtype: int64"
   ]
  },
  {
   "cell_type": "markdown",
   "id": "d31c9c98",
   "metadata": {},
   "source": [
    "nombre_infected       845\n",
    "nombre_sain          2645\n",
    "nombre_exposed        497\n",
    "nombre_recovered    16013\n",
    "Name: 214, dtype: int64"
   ]
  },
  {
   "cell_type": "markdown",
   "id": "330fd6b9",
   "metadata": {},
   "source": [
    "nombre_infected       865\n",
    "nombre_sain          2637\n",
    "nombre_exposed        494\n",
    "nombre_recovered    16004\n",
    "Name: 215, dtype: int64"
   ]
  },
  {
   "cell_type": "markdown",
   "id": "f5ba5953",
   "metadata": {},
   "source": [
    "nombre_infected       864\n",
    "nombre_sain          2585\n",
    "nombre_exposed        511\n",
    "nombre_recovered    16040\n",
    "Name: 216, dtype: int64"
   ]
  },
  {
   "cell_type": "markdown",
   "id": "a654b1bc",
   "metadata": {},
   "source": [
    "nombre_infected       888\n",
    "nombre_sain          2572\n",
    "nombre_exposed        509\n",
    "nombre_recovered    16031\n",
    "Name: 217, dtype: int64"
   ]
  },
  {
   "cell_type": "markdown",
   "id": "94746301",
   "metadata": {},
   "source": [
    "nombre_infected       902\n",
    "nombre_sain          2542\n",
    "nombre_exposed        519\n",
    "nombre_recovered    16037\n",
    "Name: 218, dtype: int64"
   ]
  },
  {
   "cell_type": "markdown",
   "id": "89c86e6f",
   "metadata": {},
   "source": [
    "nombre_infected       902\n",
    "nombre_sain          2474\n",
    "nombre_exposed        559\n",
    "nombre_recovered    16065\n",
    "Name: 219, dtype: int64"
   ]
  },
  {
   "cell_type": "markdown",
   "id": "68bfa905",
   "metadata": {},
   "source": [
    "nombre_infected       921\n",
    "nombre_sain          2450\n",
    "nombre_exposed        533\n",
    "nombre_recovered    16096\n",
    "Name: 220, dtype: int64"
   ]
  },
  {
   "cell_type": "markdown",
   "id": "2ecbc91e",
   "metadata": {},
   "source": [
    "nombre_infected       952\n",
    "nombre_sain          2402\n",
    "nombre_exposed        528\n",
    "nombre_recovered    16118\n",
    "Name: 221, dtype: int64"
   ]
  },
  {
   "cell_type": "markdown",
   "id": "bc3f457a",
   "metadata": {},
   "source": [
    "nombre_infected       958\n",
    "nombre_sain          2336\n",
    "nombre_exposed        553\n",
    "nombre_recovered    16153\n",
    "Name: 222, dtype: int64"
   ]
  },
  {
   "cell_type": "markdown",
   "id": "8d51db9e",
   "metadata": {},
   "source": [
    "nombre_infected       965\n",
    "nombre_sain          2324\n",
    "nombre_exposed        537\n",
    "nombre_recovered    16174\n",
    "Name: 223, dtype: int64"
   ]
  },
  {
   "cell_type": "markdown",
   "id": "f33fa747",
   "metadata": {},
   "source": [
    "nombre_infected      1004\n",
    "nombre_sain          2274\n",
    "nombre_exposed        544\n",
    "nombre_recovered    16178\n",
    "Name: 224, dtype: int64"
   ]
  },
  {
   "cell_type": "markdown",
   "id": "556d09f6",
   "metadata": {},
   "source": [
    "nombre_infected      1006\n",
    "nombre_sain          2268\n",
    "nombre_exposed        551\n",
    "nombre_recovered    16175\n",
    "Name: 225, dtype: int64"
   ]
  },
  {
   "cell_type": "markdown",
   "id": "979c9ed7",
   "metadata": {},
   "source": [
    "nombre_infected      1008\n",
    "nombre_sain          2229\n",
    "nombre_exposed        553\n",
    "nombre_recovered    16210\n",
    "Name: 226, dtype: int64"
   ]
  },
  {
   "cell_type": "markdown",
   "id": "d17fcf56",
   "metadata": {},
   "source": [
    "nombre_infected      1025\n",
    "nombre_sain          2186\n",
    "nombre_exposed        570\n",
    "nombre_recovered    16219\n",
    "Name: 227, dtype: int64"
   ]
  },
  {
   "cell_type": "markdown",
   "id": "82d1cf00",
   "metadata": {},
   "source": [
    "nombre_infected      1055\n",
    "nombre_sain          2197\n",
    "nombre_exposed        539\n",
    "nombre_recovered    16209\n",
    "Name: 228, dtype: int64"
   ]
  },
  {
   "cell_type": "markdown",
   "id": "f4b8fbee",
   "metadata": {},
   "source": [
    "nombre_infected      1051\n",
    "nombre_sain          2141\n",
    "nombre_exposed        561\n",
    "nombre_recovered    16247\n",
    "Name: 229, dtype: int64"
   ]
  },
  {
   "cell_type": "markdown",
   "id": "9e551f48",
   "metadata": {},
   "source": [
    "nombre_infected      1077\n",
    "nombre_sain          2122\n",
    "nombre_exposed        559\n",
    "nombre_recovered    16242\n",
    "Name: 230, dtype: int64"
   ]
  },
  {
   "cell_type": "markdown",
   "id": "79427eff",
   "metadata": {},
   "source": [
    "nombre_infected      1076\n",
    "nombre_sain          2092\n",
    "nombre_exposed        554\n",
    "nombre_recovered    16278\n",
    "Name: 231, dtype: int64"
   ]
  },
  {
   "cell_type": "markdown",
   "id": "daa9c56e",
   "metadata": {},
   "source": [
    "nombre_infected      1088\n",
    "nombre_sain          2095\n",
    "nombre_exposed        534\n",
    "nombre_recovered    16283\n",
    "Name: 232, dtype: int64"
   ]
  },
  {
   "cell_type": "markdown",
   "id": "43ef1cd0",
   "metadata": {},
   "source": [
    "nombre_infected      1093\n",
    "nombre_sain          2060\n",
    "nombre_exposed        534\n",
    "nombre_recovered    16313\n",
    "Name: 233, dtype: int64"
   ]
  },
  {
   "cell_type": "markdown",
   "id": "82ce1bcf",
   "metadata": {},
   "source": [
    "nombre_infected      1084\n",
    "nombre_sain          2070\n",
    "nombre_exposed        506\n",
    "nombre_recovered    16340\n",
    "Name: 234, dtype: int64"
   ]
  },
  {
   "cell_type": "markdown",
   "id": "32b27a0e",
   "metadata": {},
   "source": [
    "nombre_infected      1069\n",
    "nombre_sain          2047\n",
    "nombre_exposed        529\n",
    "nombre_recovered    16355\n",
    "Name: 235, dtype: int64"
   ]
  },
  {
   "cell_type": "markdown",
   "id": "ec2c67ac",
   "metadata": {},
   "source": [
    "nombre_infected      1063\n",
    "nombre_sain          2026\n",
    "nombre_exposed        543\n",
    "nombre_recovered    16368\n",
    "Name: 236, dtype: int64"
   ]
  },
  {
   "cell_type": "markdown",
   "id": "143105c8",
   "metadata": {},
   "source": [
    "nombre_infected      1076\n",
    "nombre_sain          2023\n",
    "nombre_exposed        514\n",
    "nombre_recovered    16387\n",
    "Name: 237, dtype: int64"
   ]
  },
  {
   "cell_type": "markdown",
   "id": "355def1d",
   "metadata": {},
   "source": [
    "nombre_infected      1070\n",
    "nombre_sain          2038\n",
    "nombre_exposed        504\n",
    "nombre_recovered    16388\n",
    "Name: 238, dtype: int64"
   ]
  },
  {
   "cell_type": "markdown",
   "id": "9f7bc155",
   "metadata": {},
   "source": [
    "nombre_infected      1074\n",
    "nombre_sain          1999\n",
    "nombre_exposed        514\n",
    "nombre_recovered    16413\n",
    "Name: 239, dtype: int64"
   ]
  },
  {
   "cell_type": "markdown",
   "id": "55a301c5",
   "metadata": {},
   "source": [
    "nombre_infected      1092\n",
    "nombre_sain          2024\n",
    "nombre_exposed        485\n",
    "nombre_recovered    16399\n",
    "Name: 240, dtype: int64"
   ]
  },
  {
   "cell_type": "markdown",
   "id": "a0ec085a",
   "metadata": {},
   "source": [
    "nombre_infected      1066\n",
    "nombre_sain          2018\n",
    "nombre_exposed        490\n",
    "nombre_recovered    16426\n",
    "Name: 241, dtype: int64"
   ]
  },
  {
   "cell_type": "markdown",
   "id": "fc1622a8",
   "metadata": {},
   "source": [
    "nombre_infected      1048\n",
    "nombre_sain          2002\n",
    "nombre_exposed        491\n",
    "nombre_recovered    16459\n",
    "Name: 242, dtype: int64"
   ]
  },
  {
   "cell_type": "markdown",
   "id": "b4d62d6e",
   "metadata": {},
   "source": [
    "nombre_infected      1047\n",
    "nombre_sain          1986\n",
    "nombre_exposed        485\n",
    "nombre_recovered    16482\n",
    "Name: 243, dtype: int64"
   ]
  },
  {
   "cell_type": "markdown",
   "id": "a08c7390",
   "metadata": {},
   "source": [
    "nombre_infected      1033\n",
    "nombre_sain          1973\n",
    "nombre_exposed        476\n",
    "nombre_recovered    16518\n",
    "Name: 244, dtype: int64"
   ]
  },
  {
   "cell_type": "markdown",
   "id": "5b2217a1",
   "metadata": {},
   "source": [
    "nombre_infected      1032\n",
    "nombre_sain          1980\n",
    "nombre_exposed        445\n",
    "nombre_recovered    16543\n",
    "Name: 245, dtype: int64"
   ]
  },
  {
   "cell_type": "markdown",
   "id": "02e06b6a",
   "metadata": {},
   "source": [
    "nombre_infected      1010\n",
    "nombre_sain          1989\n",
    "nombre_exposed        455\n",
    "nombre_recovered    16546\n",
    "Name: 246, dtype: int64"
   ]
  },
  {
   "cell_type": "markdown",
   "id": "04e4aa24",
   "metadata": {},
   "source": [
    "nombre_infected      1012\n",
    "nombre_sain          1973\n",
    "nombre_exposed        456\n",
    "nombre_recovered    16559\n",
    "Name: 247, dtype: int64"
   ]
  },
  {
   "cell_type": "markdown",
   "id": "54c4350e",
   "metadata": {},
   "source": [
    "nombre_infected       984\n",
    "nombre_sain          1978\n",
    "nombre_exposed        469\n",
    "nombre_recovered    16569\n",
    "Name: 248, dtype: int64"
   ]
  },
  {
   "cell_type": "markdown",
   "id": "5d375abb",
   "metadata": {},
   "source": [
    "nombre_infected       968\n",
    "nombre_sain          1979\n",
    "nombre_exposed        465\n",
    "nombre_recovered    16588\n",
    "Name: 249, dtype: int64"
   ]
  },
  {
   "cell_type": "markdown",
   "id": "73da48b5",
   "metadata": {},
   "source": [
    "nombre_infected       958\n",
    "nombre_sain          2004\n",
    "nombre_exposed        443\n",
    "nombre_recovered    16595\n",
    "Name: 250, dtype: int64"
   ]
  },
  {
   "cell_type": "markdown",
   "id": "cee43c06",
   "metadata": {},
   "source": [
    "nombre_infected       940\n",
    "nombre_sain          2005\n",
    "nombre_exposed        458\n",
    "nombre_recovered    16597\n",
    "Name: 251, dtype: int64"
   ]
  },
  {
   "cell_type": "markdown",
   "id": "a7186d6c",
   "metadata": {},
   "source": [
    "nombre_infected       933\n",
    "nombre_sain          2031\n",
    "nombre_exposed        448\n",
    "nombre_recovered    16588\n",
    "Name: 252, dtype: int64"
   ]
  },
  {
   "cell_type": "markdown",
   "id": "6d71f3cb",
   "metadata": {},
   "source": [
    "nombre_infected       946\n",
    "nombre_sain          2060\n",
    "nombre_exposed        424\n",
    "nombre_recovered    16570\n",
    "Name: 253, dtype: int64"
   ]
  },
  {
   "cell_type": "markdown",
   "id": "8f1e1b78",
   "metadata": {},
   "source": [
    "nombre_infected       935\n",
    "nombre_sain          2068\n",
    "nombre_exposed        426\n",
    "nombre_recovered    16571\n",
    "Name: 254, dtype: int64"
   ]
  },
  {
   "cell_type": "markdown",
   "id": "eadef7c4",
   "metadata": {},
   "source": [
    "nombre_infected       906\n",
    "nombre_sain          2117\n",
    "nombre_exposed        430\n",
    "nombre_recovered    16547\n",
    "Name: 255, dtype: int64"
   ]
  },
  {
   "cell_type": "markdown",
   "id": "7da4f4d0",
   "metadata": {},
   "source": [
    "nombre_infected       896\n",
    "nombre_sain          2157\n",
    "nombre_exposed        433\n",
    "nombre_recovered    16514\n",
    "Name: 256, dtype: int64"
   ]
  },
  {
   "cell_type": "markdown",
   "id": "ce4b3066",
   "metadata": {},
   "source": [
    "nombre_infected       895\n",
    "nombre_sain          2207\n",
    "nombre_exposed        419\n",
    "nombre_recovered    16479\n",
    "Name: 257, dtype: int64"
   ]
  },
  {
   "cell_type": "markdown",
   "id": "4a677f89",
   "metadata": {},
   "source": [
    "nombre_infected       867\n",
    "nombre_sain          2231\n",
    "nombre_exposed        438\n",
    "nombre_recovered    16464\n",
    "Name: 258, dtype: int64"
   ]
  },
  {
   "cell_type": "markdown",
   "id": "e33f1595",
   "metadata": {},
   "source": [
    "nombre_infected       837\n",
    "nombre_sain          2254\n",
    "nombre_exposed        452\n",
    "nombre_recovered    16457\n",
    "Name: 259, dtype: int64"
   ]
  },
  {
   "cell_type": "markdown",
   "id": "68f07bda",
   "metadata": {},
   "source": [
    "nombre_infected       838\n",
    "nombre_sain          2280\n",
    "nombre_exposed        439\n",
    "nombre_recovered    16443\n",
    "Name: 260, dtype: int64"
   ]
  },
  {
   "cell_type": "markdown",
   "id": "a80ee86e",
   "metadata": {},
   "source": [
    "nombre_infected       848\n",
    "nombre_sain          2303\n",
    "nombre_exposed        433\n",
    "nombre_recovered    16416\n",
    "Name: 261, dtype: int64"
   ]
  },
  {
   "cell_type": "markdown",
   "id": "24af9b35",
   "metadata": {},
   "source": [
    "nombre_infected       822\n",
    "nombre_sain          2323\n",
    "nombre_exposed        457\n",
    "nombre_recovered    16398\n",
    "Name: 262, dtype: int64"
   ]
  },
  {
   "cell_type": "markdown",
   "id": "e06997e3",
   "metadata": {},
   "source": [
    "nombre_infected       805\n",
    "nombre_sain          2337\n",
    "nombre_exposed        462\n",
    "nombre_recovered    16396\n",
    "Name: 263, dtype: int64"
   ]
  },
  {
   "cell_type": "markdown",
   "id": "a658ffb2",
   "metadata": {},
   "source": [
    "nombre_infected       791\n",
    "nombre_sain          2395\n",
    "nombre_exposed        427\n",
    "nombre_recovered    16387\n",
    "Name: 264, dtype: int64"
   ]
  },
  {
   "cell_type": "markdown",
   "id": "0e200f6b",
   "metadata": {},
   "source": [
    "nombre_infected       817\n",
    "nombre_sain          2389\n",
    "nombre_exposed        447\n",
    "nombre_recovered    16347\n",
    "Name: 265, dtype: int64"
   ]
  },
  {
   "cell_type": "markdown",
   "id": "0a8d83cd",
   "metadata": {},
   "source": [
    "nombre_infected       820\n",
    "nombre_sain          2432\n",
    "nombre_exposed        441\n",
    "nombre_recovered    16307\n",
    "Name: 266, dtype: int64"
   ]
  },
  {
   "cell_type": "markdown",
   "id": "dce56298",
   "metadata": {},
   "source": [
    "nombre_infected       804\n",
    "nombre_sain          2451\n",
    "nombre_exposed        466\n",
    "nombre_recovered    16279\n",
    "Name: 267, dtype: int64"
   ]
  },
  {
   "cell_type": "markdown",
   "id": "a4555487",
   "metadata": {},
   "source": [
    "nombre_infected       806\n",
    "nombre_sain          2463\n",
    "nombre_exposed        461\n",
    "nombre_recovered    16270\n",
    "Name: 268, dtype: int64"
   ]
  },
  {
   "cell_type": "markdown",
   "id": "0404dcfb",
   "metadata": {},
   "source": [
    "nombre_infected       823\n",
    "nombre_sain          2478\n",
    "nombre_exposed        462\n",
    "nombre_recovered    16237\n",
    "Name: 269, dtype: int64"
   ]
  },
  {
   "cell_type": "markdown",
   "id": "10a20b43",
   "metadata": {},
   "source": [
    "nombre_infected       839\n",
    "nombre_sain          2472\n",
    "nombre_exposed        470\n",
    "nombre_recovered    16219\n",
    "Name: 270, dtype: int64"
   ]
  },
  {
   "cell_type": "markdown",
   "id": "bd7c3bf6",
   "metadata": {},
   "source": [
    "nombre_infected       839\n",
    "nombre_sain          2499\n",
    "nombre_exposed        463\n",
    "nombre_recovered    16199\n",
    "Name: 271, dtype: int64"
   ]
  },
  {
   "cell_type": "markdown",
   "id": "7ea6ec23",
   "metadata": {},
   "source": [
    "nombre_infected       851\n",
    "nombre_sain          2523\n",
    "nombre_exposed        443\n",
    "nombre_recovered    16183\n",
    "Name: 272, dtype: int64"
   ]
  },
  {
   "cell_type": "markdown",
   "id": "9d6bec1c",
   "metadata": {},
   "source": [
    "nombre_infected       853\n",
    "nombre_sain          2535\n",
    "nombre_exposed        453\n",
    "nombre_recovered    16159\n",
    "Name: 273, dtype: int64"
   ]
  },
  {
   "cell_type": "markdown",
   "id": "5c269991",
   "metadata": {},
   "source": [
    "nombre_infected       839\n",
    "nombre_sain          2546\n",
    "nombre_exposed        468\n",
    "nombre_recovered    16147\n",
    "Name: 274, dtype: int64"
   ]
  },
  {
   "cell_type": "markdown",
   "id": "d2e00f08",
   "metadata": {},
   "source": [
    "nombre_infected       838\n",
    "nombre_sain          2539\n",
    "nombre_exposed        475\n",
    "nombre_recovered    16148\n",
    "Name: 275, dtype: int64"
   ]
  },
  {
   "cell_type": "markdown",
   "id": "1d6113c4",
   "metadata": {},
   "source": [
    "nombre_infected       830\n",
    "nombre_sain          2560\n",
    "nombre_exposed        499\n",
    "nombre_recovered    16111\n",
    "Name: 276, dtype: int64"
   ]
  },
  {
   "cell_type": "markdown",
   "id": "cbfc1da5",
   "metadata": {},
   "source": [
    "nombre_infected       836\n",
    "nombre_sain          2553\n",
    "nombre_exposed        495\n",
    "nombre_recovered    16116\n",
    "Name: 277, dtype: int64"
   ]
  },
  {
   "cell_type": "markdown",
   "id": "b5d2a464",
   "metadata": {},
   "source": [
    "nombre_infected       869\n",
    "nombre_sain          2540\n",
    "nombre_exposed        489\n",
    "nombre_recovered    16102\n",
    "Name: 278, dtype: int64"
   ]
  },
  {
   "cell_type": "markdown",
   "id": "c31df3fe",
   "metadata": {},
   "source": [
    "nombre_infected       856\n",
    "nombre_sain          2480\n",
    "nombre_exposed        528\n",
    "nombre_recovered    16136\n",
    "Name: 279, dtype: int64"
   ]
  },
  {
   "cell_type": "markdown",
   "id": "ac93165a",
   "metadata": {},
   "source": [
    "nombre_infected       856\n",
    "nombre_sain          2479\n",
    "nombre_exposed        536\n",
    "nombre_recovered    16129\n",
    "Name: 280, dtype: int64"
   ]
  },
  {
   "cell_type": "markdown",
   "id": "0fa27e13",
   "metadata": {},
   "source": [
    "nombre_infected       867\n",
    "nombre_sain          2466\n",
    "nombre_exposed        541\n",
    "nombre_recovered    16126\n",
    "Name: 281, dtype: int64"
   ]
  },
  {
   "cell_type": "markdown",
   "id": "f76452d2",
   "metadata": {},
   "source": [
    "nombre_infected       872\n",
    "nombre_sain          2455\n",
    "nombre_exposed        561\n",
    "nombre_recovered    16112\n",
    "Name: 282, dtype: int64"
   ]
  },
  {
   "cell_type": "markdown",
   "id": "ffce785b",
   "metadata": {},
   "source": [
    "nombre_infected       896\n",
    "nombre_sain          2428\n",
    "nombre_exposed        554\n",
    "nombre_recovered    16122\n",
    "Name: 283, dtype: int64"
   ]
  },
  {
   "cell_type": "markdown",
   "id": "86bab927",
   "metadata": {},
   "source": [
    "nombre_infected       908\n",
    "nombre_sain          2383\n",
    "nombre_exposed        579\n",
    "nombre_recovered    16130\n",
    "Name: 284, dtype: int64"
   ]
  },
  {
   "cell_type": "markdown",
   "id": "9911d2a9",
   "metadata": {},
   "source": [
    "nombre_infected       924\n",
    "nombre_sain          2397\n",
    "nombre_exposed        554\n",
    "nombre_recovered    16125\n",
    "Name: 285, dtype: int64"
   ]
  },
  {
   "cell_type": "markdown",
   "id": "3760efa6",
   "metadata": {},
   "source": [
    "nombre_infected       934\n",
    "nombre_sain          2380\n",
    "nombre_exposed        558\n",
    "nombre_recovered    16128\n",
    "Name: 286, dtype: int64"
   ]
  },
  {
   "cell_type": "markdown",
   "id": "c2296c22",
   "metadata": {},
   "source": [
    "nombre_infected       937\n",
    "nombre_sain          2389\n",
    "nombre_exposed        527\n",
    "nombre_recovered    16147\n",
    "Name: 287, dtype: int64"
   ]
  },
  {
   "cell_type": "markdown",
   "id": "ee94c3d8",
   "metadata": {},
   "source": [
    "nombre_infected       939\n",
    "nombre_sain          2404\n",
    "nombre_exposed        506\n",
    "nombre_recovered    16151\n",
    "Name: 288, dtype: int64"
   ]
  },
  {
   "cell_type": "markdown",
   "id": "b4f2491e",
   "metadata": {},
   "source": [
    "nombre_infected       948\n",
    "nombre_sain          2406\n",
    "nombre_exposed        497\n",
    "nombre_recovered    16149\n",
    "Name: 289, dtype: int64"
   ]
  },
  {
   "cell_type": "markdown",
   "id": "e29e2416",
   "metadata": {},
   "source": [
    "nombre_infected       957\n",
    "nombre_sain          2428\n",
    "nombre_exposed        477\n",
    "nombre_recovered    16138\n",
    "Name: 290, dtype: int64"
   ]
  },
  {
   "cell_type": "markdown",
   "id": "efec95e8",
   "metadata": {},
   "source": [
    "nombre_infected       954\n",
    "nombre_sain          2400\n",
    "nombre_exposed        505\n",
    "nombre_recovered    16141\n",
    "Name: 291, dtype: int64"
   ]
  },
  {
   "cell_type": "markdown",
   "id": "3b7f0de5",
   "metadata": {},
   "source": [
    "nombre_infected       947\n",
    "nombre_sain          2413\n",
    "nombre_exposed        521\n",
    "nombre_recovered    16119\n",
    "Name: 292, dtype: int64"
   ]
  },
  {
   "cell_type": "markdown",
   "id": "d4320517",
   "metadata": {},
   "source": [
    "nombre_infected       935\n",
    "nombre_sain          2370\n",
    "nombre_exposed        562\n",
    "nombre_recovered    16133\n",
    "Name: 293, dtype: int64"
   ]
  },
  {
   "cell_type": "markdown",
   "id": "ccefe3e9",
   "metadata": {},
   "source": [
    "nombre_infected       947\n",
    "nombre_sain          2374\n",
    "nombre_exposed        560\n",
    "nombre_recovered    16119\n",
    "Name: 294, dtype: int64"
   ]
  },
  {
   "cell_type": "markdown",
   "id": "d314142a",
   "metadata": {},
   "source": [
    "nombre_infected       973\n",
    "nombre_sain          2362\n",
    "nombre_exposed        534\n",
    "nombre_recovered    16131\n",
    "Name: 295, dtype: int64"
   ]
  },
  {
   "cell_type": "markdown",
   "id": "da1f1401",
   "metadata": {},
   "source": [
    "nombre_infected       979\n",
    "nombre_sain          2352\n",
    "nombre_exposed        532\n",
    "nombre_recovered    16137\n",
    "Name: 296, dtype: int64"
   ]
  },
  {
   "cell_type": "markdown",
   "id": "f22f7a38",
   "metadata": {},
   "source": [
    "nombre_infected       994\n",
    "nombre_sain          2328\n",
    "nombre_exposed        544\n",
    "nombre_recovered    16134\n",
    "Name: 297, dtype: int64"
   ]
  },
  {
   "cell_type": "markdown",
   "id": "6f578307",
   "metadata": {},
   "source": [
    "nombre_infected       960\n",
    "nombre_sain          2319\n",
    "nombre_exposed        553\n",
    "nombre_recovered    16168\n",
    "Name: 298, dtype: int64"
   ]
  },
  {
   "cell_type": "markdown",
   "id": "250db76e",
   "metadata": {},
   "source": [
    "nombre_infected       979\n",
    "nombre_sain          2309\n",
    "nombre_exposed        542\n",
    "nombre_recovered    16170\n",
    "Name: 299, dtype: int64"
   ]
  },
  {
   "cell_type": "markdown",
   "id": "d0903c07",
   "metadata": {},
   "source": [
    "nombre_infected       995\n",
    "nombre_sain          2317\n",
    "nombre_exposed        526\n",
    "nombre_recovered    16162\n",
    "Name: 300, dtype: int64"
   ]
  },
  {
   "cell_type": "markdown",
   "id": "fc45003c",
   "metadata": {},
   "source": [
    "nombre_infected      1006\n",
    "nombre_sain          2317\n",
    "nombre_exposed        512\n",
    "nombre_recovered    16165\n",
    "Name: 301, dtype: int64"
   ]
  },
  {
   "cell_type": "markdown",
   "id": "f5a42c58",
   "metadata": {},
   "source": [
    "nombre_infected      1020\n",
    "nombre_sain          2283\n",
    "nombre_exposed        532\n",
    "nombre_recovered    16165\n",
    "Name: 302, dtype: int64"
   ]
  },
  {
   "cell_type": "markdown",
   "id": "d29dde95",
   "metadata": {},
   "source": [
    "nombre_infected       999\n",
    "nombre_sain          2290\n",
    "nombre_exposed        535\n",
    "nombre_recovered    16176\n",
    "Name: 303, dtype: int64"
   ]
  },
  {
   "cell_type": "markdown",
   "id": "4e4c69db",
   "metadata": {},
   "source": [
    "nombre_infected      1026\n",
    "nombre_sain          2292\n",
    "nombre_exposed        518\n",
    "nombre_recovered    16164\n",
    "Name: 304, dtype: int64"
   ]
  },
  {
   "cell_type": "markdown",
   "id": "68e871d2",
   "metadata": {},
   "source": [
    "nombre_infected      1012\n",
    "nombre_sain          2261\n",
    "nombre_exposed        525\n",
    "nombre_recovered    16202\n",
    "Name: 305, dtype: int64"
   ]
  },
  {
   "cell_type": "markdown",
   "id": "79568a0a",
   "metadata": {},
   "source": [
    "nombre_infected      1022\n",
    "nombre_sain          2265\n",
    "nombre_exposed        504\n",
    "nombre_recovered    16209\n",
    "Name: 306, dtype: int64"
   ]
  },
  {
   "cell_type": "markdown",
   "id": "fd4f6cf4",
   "metadata": {},
   "source": [
    "nombre_infected      1022\n",
    "nombre_sain          2230\n",
    "nombre_exposed        505\n",
    "nombre_recovered    16243\n",
    "Name: 307, dtype: int64"
   ]
  },
  {
   "cell_type": "markdown",
   "id": "380f809c",
   "metadata": {},
   "source": [
    "nombre_infected      1036\n",
    "nombre_sain          2207\n",
    "nombre_exposed        511\n",
    "nombre_recovered    16246\n",
    "Name: 308, dtype: int64"
   ]
  },
  {
   "cell_type": "markdown",
   "id": "9c730609",
   "metadata": {},
   "source": [
    "nombre_infected      1027\n",
    "nombre_sain          2162\n",
    "nombre_exposed        536\n",
    "nombre_recovered    16275\n",
    "Name: 309, dtype: int64"
   ]
  },
  {
   "cell_type": "markdown",
   "id": "47f685e2",
   "metadata": {},
   "source": [
    "nombre_infected      1005\n",
    "nombre_sain          2165\n",
    "nombre_exposed        528\n",
    "nombre_recovered    16302\n",
    "Name: 310, dtype: int64"
   ]
  },
  {
   "cell_type": "markdown",
   "id": "5bf13819",
   "metadata": {},
   "source": [
    "nombre_infected      1028\n",
    "nombre_sain          2148\n",
    "nombre_exposed        520\n",
    "nombre_recovered    16304\n",
    "Name: 311, dtype: int64"
   ]
  },
  {
   "cell_type": "markdown",
   "id": "b02d499f",
   "metadata": {},
   "source": [
    "nombre_infected      1048\n",
    "nombre_sain          2120\n",
    "nombre_exposed        508\n",
    "nombre_recovered    16324\n",
    "Name: 312, dtype: int64"
   ]
  },
  {
   "cell_type": "markdown",
   "id": "88ae6bec",
   "metadata": {},
   "source": [
    "nombre_infected      1066\n",
    "nombre_sain          2111\n",
    "nombre_exposed        485\n",
    "nombre_recovered    16338\n",
    "Name: 313, dtype: int64"
   ]
  },
  {
   "cell_type": "markdown",
   "id": "11b4c0aa",
   "metadata": {},
   "source": [
    "nombre_infected      1069\n",
    "nombre_sain          2091\n",
    "nombre_exposed        499\n",
    "nombre_recovered    16341\n",
    "Name: 314, dtype: int64"
   ]
  },
  {
   "cell_type": "markdown",
   "id": "5bd223e1",
   "metadata": {},
   "source": [
    "nombre_infected      1055\n",
    "nombre_sain          2080\n",
    "nombre_exposed        522\n",
    "nombre_recovered    16343\n",
    "Name: 315, dtype: int64"
   ]
  },
  {
   "cell_type": "markdown",
   "id": "325813f5",
   "metadata": {},
   "source": [
    "nombre_infected      1064\n",
    "nombre_sain          2105\n",
    "nombre_exposed        476\n",
    "nombre_recovered    16355\n",
    "Name: 316, dtype: int64"
   ]
  },
  {
   "cell_type": "markdown",
   "id": "d5968023",
   "metadata": {},
   "source": [
    "nombre_infected      1060\n",
    "nombre_sain          2081\n",
    "nombre_exposed        469\n",
    "nombre_recovered    16390\n",
    "Name: 317, dtype: int64"
   ]
  },
  {
   "cell_type": "markdown",
   "id": "294627ba",
   "metadata": {},
   "source": [
    "nombre_infected      1062\n",
    "nombre_sain          2094\n",
    "nombre_exposed        462\n",
    "nombre_recovered    16382\n",
    "Name: 318, dtype: int64"
   ]
  },
  {
   "cell_type": "markdown",
   "id": "e8397ca6",
   "metadata": {},
   "source": [
    "nombre_infected      1050\n",
    "nombre_sain          2117\n",
    "nombre_exposed        456\n",
    "nombre_recovered    16377\n",
    "Name: 319, dtype: int64"
   ]
  },
  {
   "cell_type": "markdown",
   "id": "cf34235a",
   "metadata": {},
   "source": [
    "nombre_infected      1021\n",
    "nombre_sain          2105\n",
    "nombre_exposed        489\n",
    "nombre_recovered    16385\n",
    "Name: 320, dtype: int64"
   ]
  },
  {
   "cell_type": "markdown",
   "id": "31c79c9d",
   "metadata": {},
   "source": [
    "nombre_infected      1012\n",
    "nombre_sain          2137\n",
    "nombre_exposed        460\n",
    "nombre_recovered    16391\n",
    "Name: 321, dtype: int64"
   ]
  },
  {
   "cell_type": "markdown",
   "id": "db25fb85",
   "metadata": {},
   "source": [
    "nombre_infected       994\n",
    "nombre_sain          2124\n",
    "nombre_exposed        473\n",
    "nombre_recovered    16409\n",
    "Name: 322, dtype: int64"
   ]
  },
  {
   "cell_type": "markdown",
   "id": "24e165e9",
   "metadata": {},
   "source": [
    "nombre_infected       991\n",
    "nombre_sain          2143\n",
    "nombre_exposed        482\n",
    "nombre_recovered    16384\n",
    "Name: 323, dtype: int64"
   ]
  },
  {
   "cell_type": "markdown",
   "id": "8871a9a3",
   "metadata": {},
   "source": [
    "nombre_infected      1011\n",
    "nombre_sain          2144\n",
    "nombre_exposed        475\n",
    "nombre_recovered    16370\n",
    "Name: 324, dtype: int64"
   ]
  },
  {
   "cell_type": "markdown",
   "id": "0bedb7e9",
   "metadata": {},
   "source": [
    "nombre_infected      1013\n",
    "nombre_sain          2132\n",
    "nombre_exposed        491\n",
    "nombre_recovered    16364\n",
    "Name: 325, dtype: int64"
   ]
  },
  {
   "cell_type": "markdown",
   "id": "f3696309",
   "metadata": {},
   "source": [
    "nombre_infected      1030\n",
    "nombre_sain          2155\n",
    "nombre_exposed        483\n",
    "nombre_recovered    16332\n",
    "Name: 326, dtype: int64"
   ]
  },
  {
   "cell_type": "markdown",
   "id": "da64bfce",
   "metadata": {},
   "source": [
    "nombre_infected      1025\n",
    "nombre_sain          2160\n",
    "nombre_exposed        474\n",
    "nombre_recovered    16341\n",
    "Name: 327, dtype: int64"
   ]
  },
  {
   "cell_type": "markdown",
   "id": "d673d99d",
   "metadata": {},
   "source": [
    "nombre_infected      1028\n",
    "nombre_sain          2168\n",
    "nombre_exposed        484\n",
    "nombre_recovered    16320\n",
    "Name: 328, dtype: int64"
   ]
  },
  {
   "cell_type": "markdown",
   "id": "889fb13e",
   "metadata": {},
   "source": [
    "nombre_infected      1004\n",
    "nombre_sain          2152\n",
    "nombre_exposed        501\n",
    "nombre_recovered    16343\n",
    "Name: 329, dtype: int64"
   ]
  },
  {
   "cell_type": "markdown",
   "id": "40e3685a",
   "metadata": {},
   "source": [
    "nombre_infected      1020\n",
    "nombre_sain          2158\n",
    "nombre_exposed        494\n",
    "nombre_recovered    16328\n",
    "Name: 330, dtype: int64"
   ]
  },
  {
   "cell_type": "markdown",
   "id": "7064b05a",
   "metadata": {},
   "source": [
    "nombre_infected      1033\n",
    "nombre_sain          2144\n",
    "nombre_exposed        503\n",
    "nombre_recovered    16320\n",
    "Name: 331, dtype: int64"
   ]
  },
  {
   "cell_type": "markdown",
   "id": "d5004c74",
   "metadata": {},
   "source": [
    "nombre_infected      1037\n",
    "nombre_sain          2148\n",
    "nombre_exposed        515\n",
    "nombre_recovered    16300\n",
    "Name: 332, dtype: int64"
   ]
  },
  {
   "cell_type": "markdown",
   "id": "84615dbf",
   "metadata": {},
   "source": [
    "nombre_infected      1050\n",
    "nombre_sain          2145\n",
    "nombre_exposed        527\n",
    "nombre_recovered    16278\n",
    "Name: 333, dtype: int64"
   ]
  },
  {
   "cell_type": "markdown",
   "id": "38577569",
   "metadata": {},
   "source": [
    "nombre_infected      1063\n",
    "nombre_sain          2133\n",
    "nombre_exposed        531\n",
    "nombre_recovered    16273\n",
    "Name: 334, dtype: int64"
   ]
  },
  {
   "cell_type": "markdown",
   "id": "96c43c07",
   "metadata": {},
   "source": [
    "nombre_infected      1031\n",
    "nombre_sain          2101\n",
    "nombre_exposed        564\n",
    "nombre_recovered    16304\n",
    "Name: 335, dtype: int64"
   ]
  },
  {
   "cell_type": "markdown",
   "id": "84447eb0",
   "metadata": {},
   "source": [
    "nombre_infected      1040\n",
    "nombre_sain          2098\n",
    "nombre_exposed        552\n",
    "nombre_recovered    16310\n",
    "Name: 336, dtype: int64"
   ]
  },
  {
   "cell_type": "markdown",
   "id": "bd663a80",
   "metadata": {},
   "source": [
    "nombre_infected      1067\n",
    "nombre_sain          2102\n",
    "nombre_exposed        522\n",
    "nombre_recovered    16309\n",
    "Name: 337, dtype: int64"
   ]
  },
  {
   "cell_type": "markdown",
   "id": "5eb7ae53",
   "metadata": {},
   "source": [
    "nombre_infected      1057\n",
    "nombre_sain          2118\n",
    "nombre_exposed        513\n",
    "nombre_recovered    16312\n",
    "Name: 338, dtype: int64"
   ]
  },
  {
   "cell_type": "markdown",
   "id": "fb9be3c4",
   "metadata": {},
   "source": [
    "nombre_infected      1059\n",
    "nombre_sain          2157\n",
    "nombre_exposed        502\n",
    "nombre_recovered    16282\n",
    "Name: 339, dtype: int64"
   ]
  },
  {
   "cell_type": "markdown",
   "id": "4a9636eb",
   "metadata": {},
   "source": [
    "nombre_infected      1040\n",
    "nombre_sain          2174\n",
    "nombre_exposed        524\n",
    "nombre_recovered    16262\n",
    "Name: 340, dtype: int64"
   ]
  },
  {
   "cell_type": "markdown",
   "id": "63434b94",
   "metadata": {},
   "source": [
    "nombre_infected      1009\n",
    "nombre_sain          2171\n",
    "nombre_exposed        542\n",
    "nombre_recovered    16278\n",
    "Name: 341, dtype: int64"
   ]
  },
  {
   "cell_type": "markdown",
   "id": "083f43ec",
   "metadata": {},
   "source": [
    "nombre_infected      1022\n",
    "nombre_sain          2185\n",
    "nombre_exposed        526\n",
    "nombre_recovered    16267\n",
    "Name: 342, dtype: int64"
   ]
  },
  {
   "cell_type": "markdown",
   "id": "aaf7fe9f",
   "metadata": {},
   "source": [
    "nombre_infected      1016\n",
    "nombre_sain          2177\n",
    "nombre_exposed        560\n",
    "nombre_recovered    16247\n",
    "Name: 343, dtype: int64"
   ]
  },
  {
   "cell_type": "markdown",
   "id": "ef4b34ab",
   "metadata": {},
   "source": [
    "nombre_infected      1025\n",
    "nombre_sain          2194\n",
    "nombre_exposed        545\n",
    "nombre_recovered    16236\n",
    "Name: 344, dtype: int64"
   ]
  },
  {
   "cell_type": "markdown",
   "id": "08fca3bb",
   "metadata": {},
   "source": [
    "nombre_infected      1036\n",
    "nombre_sain          2192\n",
    "nombre_exposed        547\n",
    "nombre_recovered    16225\n",
    "Name: 345, dtype: int64"
   ]
  },
  {
   "cell_type": "markdown",
   "id": "223a6fec",
   "metadata": {},
   "source": [
    "nombre_infected      1028\n",
    "nombre_sain          2195\n",
    "nombre_exposed        557\n",
    "nombre_recovered    16220\n",
    "Name: 346, dtype: int64"
   ]
  },
  {
   "cell_type": "markdown",
   "id": "61f62c9b",
   "metadata": {},
   "source": [
    "nombre_infected      1038\n",
    "nombre_sain          2208\n",
    "nombre_exposed        521\n",
    "nombre_recovered    16233\n",
    "Name: 347, dtype: int64"
   ]
  },
  {
   "cell_type": "markdown",
   "id": "050813c9",
   "metadata": {},
   "source": [
    "nombre_infected      1039\n",
    "nombre_sain          2208\n",
    "nombre_exposed        549\n",
    "nombre_recovered    16204\n",
    "Name: 348, dtype: int64"
   ]
  },
  {
   "cell_type": "markdown",
   "id": "fe9d0c1a",
   "metadata": {},
   "source": [
    "nombre_infected      1017\n",
    "nombre_sain          2207\n",
    "nombre_exposed        567\n",
    "nombre_recovered    16209\n",
    "Name: 349, dtype: int64"
   ]
  },
  {
   "cell_type": "markdown",
   "id": "66fd86e8",
   "metadata": {},
   "source": [
    "nombre_infected       993\n",
    "nombre_sain          2168\n",
    "nombre_exposed        600\n",
    "nombre_recovered    16239\n",
    "Name: 350, dtype: int64"
   ]
  },
  {
   "cell_type": "markdown",
   "id": "070a24ca",
   "metadata": {},
   "source": [
    "nombre_infected      1008\n",
    "nombre_sain          2171\n",
    "nombre_exposed        575\n",
    "nombre_recovered    16246\n",
    "Name: 351, dtype: int64"
   ]
  },
  {
   "cell_type": "markdown",
   "id": "2b5e8824",
   "metadata": {},
   "source": [
    "nombre_infected      1004\n",
    "nombre_sain          2203\n",
    "nombre_exposed        566\n",
    "nombre_recovered    16227\n",
    "Name: 352, dtype: int64"
   ]
  },
  {
   "cell_type": "markdown",
   "id": "46760704",
   "metadata": {},
   "source": [
    "nombre_infected      1012\n",
    "nombre_sain          2195\n",
    "nombre_exposed        554\n",
    "nombre_recovered    16239\n",
    "Name: 353, dtype: int64"
   ]
  },
  {
   "cell_type": "markdown",
   "id": "007c7e7d",
   "metadata": {},
   "source": [
    "nombre_infected      1005\n",
    "nombre_sain          2172\n",
    "nombre_exposed        580\n",
    "nombre_recovered    16243\n",
    "Name: 354, dtype: int64"
   ]
  },
  {
   "cell_type": "markdown",
   "id": "242e2e1b",
   "metadata": {},
   "source": [
    "nombre_infected      1026\n",
    "nombre_sain          2149\n",
    "nombre_exposed        571\n",
    "nombre_recovered    16254\n",
    "Name: 355, dtype: int64"
   ]
  },
  {
   "cell_type": "markdown",
   "id": "1ca08118",
   "metadata": {},
   "source": [
    "nombre_infected      1022\n",
    "nombre_sain          2116\n",
    "nombre_exposed        580\n",
    "nombre_recovered    16282\n",
    "Name: 356, dtype: int64"
   ]
  },
  {
   "cell_type": "markdown",
   "id": "27df6afa",
   "metadata": {},
   "source": [
    "nombre_infected      1020\n",
    "nombre_sain          2122\n",
    "nombre_exposed        566\n",
    "nombre_recovered    16292\n",
    "Name: 357, dtype: int64"
   ]
  },
  {
   "cell_type": "markdown",
   "id": "12e82f93",
   "metadata": {},
   "source": [
    "nombre_infected      1018\n",
    "nombre_sain          2079\n",
    "nombre_exposed        573\n",
    "nombre_recovered    16330\n",
    "Name: 358, dtype: int64"
   ]
  },
  {
   "cell_type": "markdown",
   "id": "190b17ac",
   "metadata": {},
   "source": [
    "nombre_infected      1035\n",
    "nombre_sain          2074\n",
    "nombre_exposed        561\n",
    "nombre_recovered    16330\n",
    "Name: 359, dtype: int64"
   ]
  },
  {
   "cell_type": "markdown",
   "id": "f5ad7217",
   "metadata": {},
   "source": [
    "nombre_infected      1026\n",
    "nombre_sain          2088\n",
    "nombre_exposed        560\n",
    "nombre_recovered    16326\n",
    "Name: 360, dtype: int64"
   ]
  },
  {
   "cell_type": "markdown",
   "id": "b6ab535d",
   "metadata": {},
   "source": [
    "nombre_infected      1034\n",
    "nombre_sain          2081\n",
    "nombre_exposed        557\n",
    "nombre_recovered    16328\n",
    "Name: 361, dtype: int64"
   ]
  },
  {
   "cell_type": "markdown",
   "id": "129e4153",
   "metadata": {},
   "source": [
    "nombre_infected      1038\n",
    "nombre_sain          2073\n",
    "nombre_exposed        550\n",
    "nombre_recovered    16339\n",
    "Name: 362, dtype: int64"
   ]
  },
  {
   "cell_type": "markdown",
   "id": "cef04162",
   "metadata": {},
   "source": [
    "nombre_infected      1034\n",
    "nombre_sain          2066\n",
    "nombre_exposed        562\n",
    "nombre_recovered    16338\n",
    "Name: 363, dtype: int64"
   ]
  },
  {
   "cell_type": "markdown",
   "id": "7dd5214c",
   "metadata": {},
   "source": [
    "nombre_infected      1030\n",
    "nombre_sain          2057\n",
    "nombre_exposed        561\n",
    "nombre_recovered    16352\n",
    "Name: 364, dtype: int64"
   ]
  },
  {
   "cell_type": "markdown",
   "id": "f62eb22c",
   "metadata": {},
   "source": [
    "nombre_infected      1018\n",
    "nombre_sain          2048\n",
    "nombre_exposed        565\n",
    "nombre_recovered    16369\n",
    "Name: 365, dtype: int64"
   ]
  },
  {
   "cell_type": "markdown",
   "id": "e9ca483b",
   "metadata": {},
   "source": [
    "nombre_infected      1024\n",
    "nombre_sain          2035\n",
    "nombre_exposed        561\n",
    "nombre_recovered    16380\n",
    "Name: 366, dtype: int64"
   ]
  },
  {
   "cell_type": "markdown",
   "id": "97069ea1",
   "metadata": {},
   "source": [
    "nombre_infected      1042\n",
    "nombre_sain          2051\n",
    "nombre_exposed        566\n",
    "nombre_recovered    16341\n",
    "Name: 367, dtype: int64"
   ]
  },
  {
   "cell_type": "markdown",
   "id": "93dce46e",
   "metadata": {},
   "source": [
    "nombre_infected      1029\n",
    "nombre_sain          2038\n",
    "nombre_exposed        570\n",
    "nombre_recovered    16363\n",
    "Name: 368, dtype: int64"
   ]
  },
  {
   "cell_type": "markdown",
   "id": "2a7d0218",
   "metadata": {},
   "source": [
    "nombre_infected      1018\n",
    "nombre_sain          2036\n",
    "nombre_exposed        568\n",
    "nombre_recovered    16378\n",
    "Name: 369, dtype: int64"
   ]
  },
  {
   "cell_type": "markdown",
   "id": "c32b138e",
   "metadata": {},
   "source": [
    "nombre_infected      1041\n",
    "nombre_sain          2027\n",
    "nombre_exposed        539\n",
    "nombre_recovered    16393\n",
    "Name: 370, dtype: int64"
   ]
  },
  {
   "cell_type": "markdown",
   "id": "f7eb2b51",
   "metadata": {},
   "source": [
    "nombre_infected      1039\n",
    "nombre_sain          2051\n",
    "nombre_exposed        514\n",
    "nombre_recovered    16396\n",
    "Name: 371, dtype: int64"
   ]
  },
  {
   "cell_type": "markdown",
   "id": "73ac704e",
   "metadata": {},
   "source": [
    "nombre_infected      1021\n",
    "nombre_sain          2059\n",
    "nombre_exposed        504\n",
    "nombre_recovered    16416\n",
    "Name: 372, dtype: int64"
   ]
  },
  {
   "cell_type": "markdown",
   "id": "75dd660c",
   "metadata": {},
   "source": [
    "nombre_infected      1019\n",
    "nombre_sain          2076\n",
    "nombre_exposed        496\n",
    "nombre_recovered    16409\n",
    "Name: 373, dtype: int64"
   ]
  },
  {
   "cell_type": "markdown",
   "id": "9d7f5072",
   "metadata": {},
   "source": [
    "nombre_infected       985\n",
    "nombre_sain          2080\n",
    "nombre_exposed        502\n",
    "nombre_recovered    16433\n",
    "Name: 374, dtype: int64"
   ]
  },
  {
   "cell_type": "markdown",
   "id": "99b03115",
   "metadata": {},
   "source": [
    "nombre_infected       977\n",
    "nombre_sain          2085\n",
    "nombre_exposed        504\n",
    "nombre_recovered    16434\n",
    "Name: 375, dtype: int64"
   ]
  },
  {
   "cell_type": "markdown",
   "id": "364cefda",
   "metadata": {},
   "source": [
    "nombre_infected       954\n",
    "nombre_sain          2123\n",
    "nombre_exposed        475\n",
    "nombre_recovered    16448\n",
    "Name: 376, dtype: int64"
   ]
  },
  {
   "cell_type": "markdown",
   "id": "37791bb5",
   "metadata": {},
   "source": [
    "nombre_infected       966\n",
    "nombre_sain          2138\n",
    "nombre_exposed        470\n",
    "nombre_recovered    16426\n",
    "Name: 377, dtype: int64"
   ]
  },
  {
   "cell_type": "markdown",
   "id": "d47d7d01",
   "metadata": {},
   "source": [
    "nombre_infected       961\n",
    "nombre_sain          2162\n",
    "nombre_exposed        476\n",
    "nombre_recovered    16401\n",
    "Name: 378, dtype: int64"
   ]
  },
  {
   "cell_type": "markdown",
   "id": "c6e4bcd2",
   "metadata": {},
   "source": [
    "nombre_infected       935\n",
    "nombre_sain          2154\n",
    "nombre_exposed        491\n",
    "nombre_recovered    16420\n",
    "Name: 379, dtype: int64"
   ]
  },
  {
   "cell_type": "markdown",
   "id": "9b05cb18",
   "metadata": {},
   "source": [
    "nombre_infected       929\n",
    "nombre_sain          2170\n",
    "nombre_exposed        480\n",
    "nombre_recovered    16421\n",
    "Name: 380, dtype: int64"
   ]
  },
  {
   "cell_type": "markdown",
   "id": "88b9a571",
   "metadata": {},
   "source": [
    "nombre_infected       936\n",
    "nombre_sain          2225\n",
    "nombre_exposed        453\n",
    "nombre_recovered    16386\n",
    "Name: 381, dtype: int64"
   ]
  },
  {
   "cell_type": "markdown",
   "id": "4a33782e",
   "metadata": {},
   "source": [
    "nombre_infected       917\n",
    "nombre_sain          2247\n",
    "nombre_exposed        459\n",
    "nombre_recovered    16377\n",
    "Name: 382, dtype: int64"
   ]
  },
  {
   "cell_type": "markdown",
   "id": "bbc185b2",
   "metadata": {},
   "source": [
    "nombre_infected       915\n",
    "nombre_sain          2262\n",
    "nombre_exposed        463\n",
    "nombre_recovered    16360\n",
    "Name: 383, dtype: int64"
   ]
  },
  {
   "cell_type": "markdown",
   "id": "c3af0050",
   "metadata": {},
   "source": [
    "nombre_infected       901\n",
    "nombre_sain          2275\n",
    "nombre_exposed        487\n",
    "nombre_recovered    16337\n",
    "Name: 384, dtype: int64"
   ]
  },
  {
   "cell_type": "markdown",
   "id": "8a6897c6",
   "metadata": {},
   "source": [
    "nombre_infected       852\n",
    "nombre_sain          2305\n",
    "nombre_exposed        506\n",
    "nombre_recovered    16337\n",
    "Name: 385, dtype: int64"
   ]
  },
  {
   "cell_type": "markdown",
   "id": "a00d4b93",
   "metadata": {},
   "source": [
    "nombre_infected       859\n",
    "nombre_sain          2335\n",
    "nombre_exposed        512\n",
    "nombre_recovered    16294\n",
    "Name: 386, dtype: int64"
   ]
  },
  {
   "cell_type": "markdown",
   "id": "8098ad8a",
   "metadata": {},
   "source": [
    "nombre_infected       865\n",
    "nombre_sain          2343\n",
    "nombre_exposed        517\n",
    "nombre_recovered    16275\n",
    "Name: 387, dtype: int64"
   ]
  },
  {
   "cell_type": "markdown",
   "id": "299388c8",
   "metadata": {},
   "source": [
    "nombre_infected       886\n",
    "nombre_sain          2381\n",
    "nombre_exposed        507\n",
    "nombre_recovered    16226\n",
    "Name: 388, dtype: int64"
   ]
  },
  {
   "cell_type": "markdown",
   "id": "f1f395e9",
   "metadata": {},
   "source": [
    "nombre_infected       895\n",
    "nombre_sain          2394\n",
    "nombre_exposed        509\n",
    "nombre_recovered    16202\n",
    "Name: 389, dtype: int64"
   ]
  },
  {
   "cell_type": "markdown",
   "id": "960a1861",
   "metadata": {},
   "source": [
    "nombre_infected       899\n",
    "nombre_sain          2383\n",
    "nombre_exposed        523\n",
    "nombre_recovered    16195\n",
    "Name: 390, dtype: int64"
   ]
  },
  {
   "cell_type": "markdown",
   "id": "403dda1c",
   "metadata": {},
   "source": [
    "nombre_infected       903\n",
    "nombre_sain          2387\n",
    "nombre_exposed        515\n",
    "nombre_recovered    16195\n",
    "Name: 391, dtype: int64"
   ]
  },
  {
   "cell_type": "markdown",
   "id": "88af572f",
   "metadata": {},
   "source": [
    "nombre_infected       897\n",
    "nombre_sain          2399\n",
    "nombre_exposed        518\n",
    "nombre_recovered    16186\n",
    "Name: 392, dtype: int64"
   ]
  },
  {
   "cell_type": "markdown",
   "id": "4f0ff615",
   "metadata": {},
   "source": [
    "nombre_infected       872\n",
    "nombre_sain          2431\n",
    "nombre_exposed        505\n",
    "nombre_recovered    16192\n",
    "Name: 393, dtype: int64"
   ]
  },
  {
   "cell_type": "markdown",
   "id": "c08f4e62",
   "metadata": {},
   "source": [
    "nombre_infected       874\n",
    "nombre_sain          2462\n",
    "nombre_exposed        501\n",
    "nombre_recovered    16163\n",
    "Name: 394, dtype: int64"
   ]
  },
  {
   "cell_type": "markdown",
   "id": "eb59d159",
   "metadata": {},
   "source": [
    "nombre_infected       877\n",
    "nombre_sain          2484\n",
    "nombre_exposed        505\n",
    "nombre_recovered    16134\n",
    "Name: 395, dtype: int64"
   ]
  },
  {
   "cell_type": "markdown",
   "id": "fd2203ea",
   "metadata": {},
   "source": [
    "nombre_infected       890\n",
    "nombre_sain          2479\n",
    "nombre_exposed        521\n",
    "nombre_recovered    16110\n",
    "Name: 396, dtype: int64"
   ]
  },
  {
   "cell_type": "markdown",
   "id": "80d2b3be",
   "metadata": {},
   "source": [
    "nombre_infected       897\n",
    "nombre_sain          2497\n",
    "nombre_exposed        531\n",
    "nombre_recovered    16075\n",
    "Name: 397, dtype: int64"
   ]
  },
  {
   "cell_type": "markdown",
   "id": "9a41d8e2",
   "metadata": {},
   "source": [
    "nombre_infected       923\n",
    "nombre_sain          2506\n",
    "nombre_exposed        543\n",
    "nombre_recovered    16028\n",
    "Name: 398, dtype: int64"
   ]
  },
  {
   "cell_type": "markdown",
   "id": "730812c0",
   "metadata": {},
   "source": [
    "nombre_infected       947\n",
    "nombre_sain          2479\n",
    "nombre_exposed        568\n",
    "nombre_recovered    16006\n",
    "Name: 399, dtype: int64"
   ]
  },
  {
   "cell_type": "markdown",
   "id": "e8d41eab",
   "metadata": {},
   "source": [
    "nombre_infected       945\n",
    "nombre_sain          2490\n",
    "nombre_exposed        586\n",
    "nombre_recovered    15979\n",
    "Name: 400, dtype: int64"
   ]
  },
  {
   "cell_type": "markdown",
   "id": "904b929c",
   "metadata": {},
   "source": [
    "nombre_infected       966\n",
    "nombre_sain          2493\n",
    "nombre_exposed        570\n",
    "nombre_recovered    15971\n",
    "Name: 401, dtype: int64"
   ]
  },
  {
   "cell_type": "markdown",
   "id": "3033099b",
   "metadata": {},
   "source": [
    "nombre_infected       988\n",
    "nombre_sain          2478\n",
    "nombre_exposed        578\n",
    "nombre_recovered    15956\n",
    "Name: 402, dtype: int64"
   ]
  },
  {
   "cell_type": "markdown",
   "id": "963d1a77",
   "metadata": {},
   "source": [
    "nombre_infected       981\n",
    "nombre_sain          2458\n",
    "nombre_exposed        602\n",
    "nombre_recovered    15959\n",
    "Name: 403, dtype: int64"
   ]
  },
  {
   "cell_type": "markdown",
   "id": "9ca59baf",
   "metadata": {},
   "source": [
    "nombre_infected      1009\n",
    "nombre_sain          2441\n",
    "nombre_exposed        595\n",
    "nombre_recovered    15955\n",
    "Name: 404, dtype: int64"
   ]
  },
  {
   "cell_type": "markdown",
   "id": "ae5250c3",
   "metadata": {},
   "source": [
    "nombre_infected      1016\n",
    "nombre_sain          2395\n",
    "nombre_exposed        609\n",
    "nombre_recovered    15980\n",
    "Name: 405, dtype: int64"
   ]
  },
  {
   "cell_type": "markdown",
   "id": "456d0eda",
   "metadata": {},
   "source": [
    "nombre_infected      1000\n",
    "nombre_sain          2394\n",
    "nombre_exposed        619\n",
    "nombre_recovered    15987\n",
    "Name: 406, dtype: int64"
   ]
  },
  {
   "cell_type": "markdown",
   "id": "76e0e497",
   "metadata": {},
   "source": [
    "nombre_infected      1007\n",
    "nombre_sain          2398\n",
    "nombre_exposed        593\n",
    "nombre_recovered    16002\n",
    "Name: 407, dtype: int64"
   ]
  },
  {
   "cell_type": "markdown",
   "id": "b4c3e66e",
   "metadata": {},
   "source": [
    "nombre_infected      1023\n",
    "nombre_sain          2396\n",
    "nombre_exposed        601\n",
    "nombre_recovered    15980\n",
    "Name: 408, dtype: int64"
   ]
  },
  {
   "cell_type": "markdown",
   "id": "e4944c40",
   "metadata": {},
   "source": [
    "nombre_infected      1011\n",
    "nombre_sain          2412\n",
    "nombre_exposed        575\n",
    "nombre_recovered    16002\n",
    "Name: 409, dtype: int64"
   ]
  },
  {
   "cell_type": "markdown",
   "id": "7150a84e",
   "metadata": {},
   "source": [
    "nombre_infected      1025\n",
    "nombre_sain          2401\n",
    "nombre_exposed        569\n",
    "nombre_recovered    16005\n",
    "Name: 410, dtype: int64"
   ]
  },
  {
   "cell_type": "markdown",
   "id": "2c40b1e8",
   "metadata": {},
   "source": [
    "nombre_infected      1026\n",
    "nombre_sain          2371\n",
    "nombre_exposed        587\n",
    "nombre_recovered    16016\n",
    "Name: 411, dtype: int64"
   ]
  },
  {
   "cell_type": "markdown",
   "id": "0404b837",
   "metadata": {},
   "source": [
    "nombre_infected      1040\n",
    "nombre_sain          2351\n",
    "nombre_exposed        592\n",
    "nombre_recovered    16017\n",
    "Name: 412, dtype: int64"
   ]
  },
  {
   "cell_type": "markdown",
   "id": "becdfd08",
   "metadata": {},
   "source": [
    "nombre_infected      1039\n",
    "nombre_sain          2324\n",
    "nombre_exposed        608\n",
    "nombre_recovered    16029\n",
    "Name: 413, dtype: int64"
   ]
  },
  {
   "cell_type": "markdown",
   "id": "e2b67ecf",
   "metadata": {},
   "source": [
    "nombre_infected      1054\n",
    "nombre_sain          2333\n",
    "nombre_exposed        584\n",
    "nombre_recovered    16029\n",
    "Name: 414, dtype: int64"
   ]
  },
  {
   "cell_type": "markdown",
   "id": "fd9988ae",
   "metadata": {},
   "source": [
    "nombre_infected      1082\n",
    "nombre_sain          2287\n",
    "nombre_exposed        573\n",
    "nombre_recovered    16058\n",
    "Name: 415, dtype: int64"
   ]
  },
  {
   "cell_type": "markdown",
   "id": "7fbebe70",
   "metadata": {},
   "source": [
    "nombre_infected      1093\n",
    "nombre_sain          2263\n",
    "nombre_exposed        565\n",
    "nombre_recovered    16079\n",
    "Name: 416, dtype: int64"
   ]
  },
  {
   "cell_type": "markdown",
   "id": "9c31a701",
   "metadata": {},
   "source": [
    "nombre_infected      1079\n",
    "nombre_sain          2259\n",
    "nombre_exposed        585\n",
    "nombre_recovered    16077\n",
    "Name: 417, dtype: int64"
   ]
  },
  {
   "cell_type": "markdown",
   "id": "eb536740",
   "metadata": {},
   "source": [
    "nombre_infected      1094\n",
    "nombre_sain          2268\n",
    "nombre_exposed        570\n",
    "nombre_recovered    16068\n",
    "Name: 418, dtype: int64"
   ]
  },
  {
   "cell_type": "markdown",
   "id": "6386e135",
   "metadata": {},
   "source": [
    "nombre_infected      1063\n",
    "nombre_sain          2272\n",
    "nombre_exposed        582\n",
    "nombre_recovered    16083\n",
    "Name: 419, dtype: int64"
   ]
  },
  {
   "cell_type": "markdown",
   "id": "a0a6006a",
   "metadata": {},
   "source": [
    "nombre_infected      1057\n",
    "nombre_sain          2240\n",
    "nombre_exposed        593\n",
    "nombre_recovered    16110\n",
    "Name: 420, dtype: int64"
   ]
  },
  {
   "cell_type": "markdown",
   "id": "473fa863",
   "metadata": {},
   "source": [
    "nombre_infected      1059\n",
    "nombre_sain          2239\n",
    "nombre_exposed        568\n",
    "nombre_recovered    16134\n",
    "Name: 421, dtype: int64"
   ]
  },
  {
   "cell_type": "markdown",
   "id": "9334b971",
   "metadata": {},
   "source": [
    "nombre_infected      1078\n",
    "nombre_sain          2187\n",
    "nombre_exposed        599\n",
    "nombre_recovered    16136\n",
    "Name: 422, dtype: int64"
   ]
  },
  {
   "cell_type": "markdown",
   "id": "2bf05987",
   "metadata": {},
   "source": [
    "nombre_infected      1086\n",
    "nombre_sain          2149\n",
    "nombre_exposed        610\n",
    "nombre_recovered    16155\n",
    "Name: 423, dtype: int64"
   ]
  },
  {
   "cell_type": "markdown",
   "id": "40e4e767",
   "metadata": {},
   "source": [
    "nombre_infected      1072\n",
    "nombre_sain          2130\n",
    "nombre_exposed        625\n",
    "nombre_recovered    16173\n",
    "Name: 424, dtype: int64"
   ]
  },
  {
   "cell_type": "markdown",
   "id": "69639854",
   "metadata": {},
   "source": [
    "nombre_infected      1105\n",
    "nombre_sain          2145\n",
    "nombre_exposed        596\n",
    "nombre_recovered    16154\n",
    "Name: 425, dtype: int64"
   ]
  },
  {
   "cell_type": "markdown",
   "id": "4c207019",
   "metadata": {},
   "source": [
    "nombre_infected      1111\n",
    "nombre_sain          2136\n",
    "nombre_exposed        594\n",
    "nombre_recovered    16159\n",
    "Name: 426, dtype: int64"
   ]
  },
  {
   "cell_type": "markdown",
   "id": "63900d89",
   "metadata": {},
   "source": [
    "nombre_infected      1113\n",
    "nombre_sain          2133\n",
    "nombre_exposed        594\n",
    "nombre_recovered    16160\n",
    "Name: 427, dtype: int64"
   ]
  },
  {
   "cell_type": "markdown",
   "id": "bf7942dc",
   "metadata": {},
   "source": [
    "nombre_infected      1128\n",
    "nombre_sain          2106\n",
    "nombre_exposed        571\n",
    "nombre_recovered    16195\n",
    "Name: 428, dtype: int64"
   ]
  },
  {
   "cell_type": "markdown",
   "id": "b3c8dafd",
   "metadata": {},
   "source": [
    "nombre_infected      1131\n",
    "nombre_sain          2113\n",
    "nombre_exposed        561\n",
    "nombre_recovered    16195\n",
    "Name: 429, dtype: int64"
   ]
  },
  {
   "cell_type": "markdown",
   "id": "3239a698",
   "metadata": {},
   "source": [
    "nombre_infected      1102\n",
    "nombre_sain          2115\n",
    "nombre_exposed        573\n",
    "nombre_recovered    16210\n",
    "Name: 430, dtype: int64"
   ]
  },
  {
   "cell_type": "markdown",
   "id": "fde4fbce",
   "metadata": {},
   "source": [
    "nombre_infected      1093\n",
    "nombre_sain          2104\n",
    "nombre_exposed        589\n",
    "nombre_recovered    16214\n",
    "Name: 431, dtype: int64"
   ]
  },
  {
   "cell_type": "markdown",
   "id": "f020eb5b",
   "metadata": {},
   "source": [
    "nombre_infected      1102\n",
    "nombre_sain          2086\n",
    "nombre_exposed        571\n",
    "nombre_recovered    16241\n",
    "Name: 432, dtype: int64"
   ]
  },
  {
   "cell_type": "markdown",
   "id": "e83ae0a4",
   "metadata": {},
   "source": [
    "nombre_infected      1100\n",
    "nombre_sain          2076\n",
    "nombre_exposed        571\n",
    "nombre_recovered    16253\n",
    "Name: 433, dtype: int64"
   ]
  },
  {
   "cell_type": "markdown",
   "id": "4d5f5982",
   "metadata": {},
   "source": [
    "nombre_infected      1100\n",
    "nombre_sain          2089\n",
    "nombre_exposed        551\n",
    "nombre_recovered    16260\n",
    "Name: 434, dtype: int64"
   ]
  },
  {
   "cell_type": "markdown",
   "id": "ae80f2f9",
   "metadata": {},
   "source": [
    "nombre_infected      1102\n",
    "nombre_sain          2072\n",
    "nombre_exposed        553\n",
    "nombre_recovered    16273\n",
    "Name: 435, dtype: int64"
   ]
  },
  {
   "cell_type": "markdown",
   "id": "826744af",
   "metadata": {},
   "source": [
    "nombre_infected      1115\n",
    "nombre_sain          2064\n",
    "nombre_exposed        553\n",
    "nombre_recovered    16268\n",
    "Name: 436, dtype: int64"
   ]
  },
  {
   "cell_type": "markdown",
   "id": "d30b305d",
   "metadata": {},
   "source": [
    "nombre_infected      1095\n",
    "nombre_sain          2062\n",
    "nombre_exposed        547\n",
    "nombre_recovered    16296\n",
    "Name: 437, dtype: int64"
   ]
  },
  {
   "cell_type": "markdown",
   "id": "6825a71c",
   "metadata": {},
   "source": [
    "nombre_infected      1104\n",
    "nombre_sain          2069\n",
    "nombre_exposed        525\n",
    "nombre_recovered    16302\n",
    "Name: 438, dtype: int64"
   ]
  },
  {
   "cell_type": "markdown",
   "id": "73623a1e",
   "metadata": {},
   "source": [
    "nombre_infected      1118\n",
    "nombre_sain          2049\n",
    "nombre_exposed        536\n",
    "nombre_recovered    16297\n",
    "Name: 439, dtype: int64"
   ]
  },
  {
   "cell_type": "markdown",
   "id": "91101587",
   "metadata": {},
   "source": [
    "nombre_infected      1101\n",
    "nombre_sain          2032\n",
    "nombre_exposed        563\n",
    "nombre_recovered    16304\n",
    "Name: 440, dtype: int64"
   ]
  },
  {
   "cell_type": "markdown",
   "id": "3c7ec060",
   "metadata": {},
   "source": [
    "nombre_infected      1127\n",
    "nombre_sain          2010\n",
    "nombre_exposed        540\n",
    "nombre_recovered    16323\n",
    "Name: 441, dtype: int64"
   ]
  },
  {
   "cell_type": "markdown",
   "id": "b48781aa",
   "metadata": {},
   "source": [
    "nombre_infected      1146\n",
    "nombre_sain          2029\n",
    "nombre_exposed        506\n",
    "nombre_recovered    16319\n",
    "Name: 442, dtype: int64"
   ]
  },
  {
   "cell_type": "markdown",
   "id": "ce2c90cc",
   "metadata": {},
   "source": [
    "nombre_infected      1127\n",
    "nombre_sain          2019\n",
    "nombre_exposed        503\n",
    "nombre_recovered    16351\n",
    "Name: 443, dtype: int64"
   ]
  },
  {
   "cell_type": "markdown",
   "id": "827d963c",
   "metadata": {},
   "source": [
    "nombre_infected      1121\n",
    "nombre_sain          2031\n",
    "nombre_exposed        494\n",
    "nombre_recovered    16354\n",
    "Name: 444, dtype: int64"
   ]
  },
  {
   "cell_type": "markdown",
   "id": "13d9291a",
   "metadata": {},
   "source": [
    "nombre_infected      1087\n",
    "nombre_sain          2042\n",
    "nombre_exposed        484\n",
    "nombre_recovered    16387\n",
    "Name: 445, dtype: int64"
   ]
  },
  {
   "cell_type": "markdown",
   "id": "f19e6c0e",
   "metadata": {},
   "source": [
    "nombre_infected      1075\n",
    "nombre_sain          2030\n",
    "nombre_exposed        471\n",
    "nombre_recovered    16424\n",
    "Name: 446, dtype: int64"
   ]
  },
  {
   "cell_type": "markdown",
   "id": "accaeae4",
   "metadata": {},
   "source": [
    "nombre_infected      1039\n",
    "nombre_sain          2032\n",
    "nombre_exposed        480\n",
    "nombre_recovered    16449\n",
    "Name: 447, dtype: int64"
   ]
  },
  {
   "cell_type": "markdown",
   "id": "f374c520",
   "metadata": {},
   "source": [
    "nombre_infected       993\n",
    "nombre_sain          2020\n",
    "nombre_exposed        494\n",
    "nombre_recovered    16493\n",
    "Name: 448, dtype: int64"
   ]
  },
  {
   "cell_type": "markdown",
   "id": "9e25ed82",
   "metadata": {},
   "source": [
    "nombre_infected      1011\n",
    "nombre_sain          2025\n",
    "nombre_exposed        436\n",
    "nombre_recovered    16528\n",
    "Name: 449, dtype: int64"
   ]
  },
  {
   "cell_type": "markdown",
   "id": "efba6e65",
   "metadata": {},
   "source": [
    "nombre_infected       964\n",
    "nombre_sain          2031\n",
    "nombre_exposed        452\n",
    "nombre_recovered    16553\n",
    "Name: 450, dtype: int64"
   ]
  },
  {
   "cell_type": "markdown",
   "id": "e2c1cd29",
   "metadata": {},
   "source": [
    "nombre_infected       928\n",
    "nombre_sain          2039\n",
    "nombre_exposed        457\n",
    "nombre_recovered    16576\n",
    "Name: 451, dtype: int64"
   ]
  },
  {
   "cell_type": "markdown",
   "id": "61705120",
   "metadata": {},
   "source": [
    "nombre_infected       905\n",
    "nombre_sain          2040\n",
    "nombre_exposed        463\n",
    "nombre_recovered    16592\n",
    "Name: 452, dtype: int64"
   ]
  },
  {
   "cell_type": "markdown",
   "id": "dfe16af1",
   "metadata": {},
   "source": [
    "nombre_infected       878\n",
    "nombre_sain          2070\n",
    "nombre_exposed        444\n",
    "nombre_recovered    16608\n",
    "Name: 453, dtype: int64"
   ]
  },
  {
   "cell_type": "markdown",
   "id": "60bbc609",
   "metadata": {},
   "source": [
    "nombre_infected       883\n",
    "nombre_sain          2069\n",
    "nombre_exposed        430\n",
    "nombre_recovered    16618\n",
    "Name: 454, dtype: int64"
   ]
  },
  {
   "cell_type": "markdown",
   "id": "3f3062cd",
   "metadata": {},
   "source": [
    "nombre_infected       863\n",
    "nombre_sain          2081\n",
    "nombre_exposed        434\n",
    "nombre_recovered    16622\n",
    "Name: 455, dtype: int64"
   ]
  },
  {
   "cell_type": "markdown",
   "id": "09b1f39f",
   "metadata": {},
   "source": [
    "nombre_infected       875\n",
    "nombre_sain          2111\n",
    "nombre_exposed        410\n",
    "nombre_recovered    16604\n",
    "Name: 456, dtype: int64"
   ]
  },
  {
   "cell_type": "markdown",
   "id": "0a8a5491",
   "metadata": {},
   "source": [
    "nombre_infected       849\n",
    "nombre_sain          2118\n",
    "nombre_exposed        419\n",
    "nombre_recovered    16614\n",
    "Name: 457, dtype: int64"
   ]
  },
  {
   "cell_type": "markdown",
   "id": "e3a7d821",
   "metadata": {},
   "source": [
    "nombre_infected       832\n",
    "nombre_sain          2130\n",
    "nombre_exposed        427\n",
    "nombre_recovered    16611\n",
    "Name: 458, dtype: int64"
   ]
  },
  {
   "cell_type": "markdown",
   "id": "8f2e8933",
   "metadata": {},
   "source": [
    "nombre_infected       836\n",
    "nombre_sain          2163\n",
    "nombre_exposed        422\n",
    "nombre_recovered    16579\n",
    "Name: 459, dtype: int64"
   ]
  },
  {
   "cell_type": "markdown",
   "id": "e138fdc1",
   "metadata": {},
   "source": [
    "nombre_infected       831\n",
    "nombre_sain          2153\n",
    "nombre_exposed        430\n",
    "nombre_recovered    16586\n",
    "Name: 460, dtype: int64"
   ]
  },
  {
   "cell_type": "markdown",
   "id": "daf286dd",
   "metadata": {},
   "source": [
    "nombre_infected       819\n",
    "nombre_sain          2204\n",
    "nombre_exposed        422\n",
    "nombre_recovered    16555\n",
    "Name: 461, dtype: int64"
   ]
  },
  {
   "cell_type": "markdown",
   "id": "eeab3ca0",
   "metadata": {},
   "source": [
    "nombre_infected       810\n",
    "nombre_sain          2256\n",
    "nombre_exposed        408\n",
    "nombre_recovered    16526\n",
    "Name: 462, dtype: int64"
   ]
  },
  {
   "cell_type": "markdown",
   "id": "15ceefe9",
   "metadata": {},
   "source": [
    "nombre_infected       793\n",
    "nombre_sain          2242\n",
    "nombre_exposed        424\n",
    "nombre_recovered    16541\n",
    "Name: 463, dtype: int64"
   ]
  },
  {
   "cell_type": "markdown",
   "id": "ca908900",
   "metadata": {},
   "source": [
    "nombre_infected       792\n",
    "nombre_sain          2271\n",
    "nombre_exposed        437\n",
    "nombre_recovered    16500\n",
    "Name: 464, dtype: int64"
   ]
  },
  {
   "cell_type": "markdown",
   "id": "f3a06125",
   "metadata": {},
   "source": [
    "nombre_infected       795\n",
    "nombre_sain          2288\n",
    "nombre_exposed        425\n",
    "nombre_recovered    16492\n",
    "Name: 465, dtype: int64"
   ]
  },
  {
   "cell_type": "markdown",
   "id": "2a46c828",
   "metadata": {},
   "source": [
    "nombre_infected       805\n",
    "nombre_sain          2283\n",
    "nombre_exposed        421\n",
    "nombre_recovered    16491\n",
    "Name: 466, dtype: int64"
   ]
  },
  {
   "cell_type": "markdown",
   "id": "ce1524e3",
   "metadata": {},
   "source": [
    "nombre_infected       782\n",
    "nombre_sain          2309\n",
    "nombre_exposed        450\n",
    "nombre_recovered    16459\n",
    "Name: 467, dtype: int64"
   ]
  },
  {
   "cell_type": "markdown",
   "id": "ca543c7b",
   "metadata": {},
   "source": [
    "nombre_infected       785\n",
    "nombre_sain          2333\n",
    "nombre_exposed        422\n",
    "nombre_recovered    16460\n",
    "Name: 468, dtype: int64"
   ]
  },
  {
   "cell_type": "markdown",
   "id": "5b10c450",
   "metadata": {},
   "source": [
    "nombre_infected       784\n",
    "nombre_sain          2348\n",
    "nombre_exposed        429\n",
    "nombre_recovered    16439\n",
    "Name: 469, dtype: int64"
   ]
  },
  {
   "cell_type": "markdown",
   "id": "16665425",
   "metadata": {},
   "source": [
    "nombre_infected       767\n",
    "nombre_sain          2390\n",
    "nombre_exposed        424\n",
    "nombre_recovered    16419\n",
    "Name: 470, dtype: int64"
   ]
  },
  {
   "cell_type": "markdown",
   "id": "843f0656",
   "metadata": {},
   "source": [
    "nombre_infected       769\n",
    "nombre_sain          2407\n",
    "nombre_exposed        418\n",
    "nombre_recovered    16406\n",
    "Name: 471, dtype: int64"
   ]
  },
  {
   "cell_type": "markdown",
   "id": "1f646e66",
   "metadata": {},
   "source": [
    "nombre_infected       770\n",
    "nombre_sain          2393\n",
    "nombre_exposed        446\n",
    "nombre_recovered    16391\n",
    "Name: 472, dtype: int64"
   ]
  },
  {
   "cell_type": "markdown",
   "id": "6b515ea7",
   "metadata": {},
   "source": [
    "nombre_infected       774\n",
    "nombre_sain          2387\n",
    "nombre_exposed        456\n",
    "nombre_recovered    16383\n",
    "Name: 473, dtype: int64"
   ]
  },
  {
   "cell_type": "markdown",
   "id": "dd3f3f52",
   "metadata": {},
   "source": [
    "nombre_infected       782\n",
    "nombre_sain          2390\n",
    "nombre_exposed        445\n",
    "nombre_recovered    16383\n",
    "Name: 474, dtype: int64"
   ]
  },
  {
   "cell_type": "markdown",
   "id": "d2c2d578",
   "metadata": {},
   "source": [
    "nombre_infected       802\n",
    "nombre_sain          2400\n",
    "nombre_exposed        448\n",
    "nombre_recovered    16350\n",
    "Name: 475, dtype: int64"
   ]
  },
  {
   "cell_type": "markdown",
   "id": "f40f7865",
   "metadata": {},
   "source": [
    "nombre_infected       819\n",
    "nombre_sain          2411\n",
    "nombre_exposed        454\n",
    "nombre_recovered    16316\n",
    "Name: 476, dtype: int64"
   ]
  },
  {
   "cell_type": "markdown",
   "id": "2d7e1810",
   "metadata": {},
   "source": [
    "nombre_infected       843\n",
    "nombre_sain          2424\n",
    "nombre_exposed        440\n",
    "nombre_recovered    16293\n",
    "Name: 477, dtype: int64"
   ]
  },
  {
   "cell_type": "markdown",
   "id": "d42ad1c5",
   "metadata": {},
   "source": [
    "nombre_infected       829\n",
    "nombre_sain          2444\n",
    "nombre_exposed        446\n",
    "nombre_recovered    16281\n",
    "Name: 478, dtype: int64"
   ]
  },
  {
   "cell_type": "markdown",
   "id": "3cc2aa1c",
   "metadata": {},
   "source": [
    "nombre_infected       816\n",
    "nombre_sain          2428\n",
    "nombre_exposed        453\n",
    "nombre_recovered    16303\n",
    "Name: 479, dtype: int64"
   ]
  },
  {
   "cell_type": "markdown",
   "id": "4e6a51bb",
   "metadata": {},
   "source": [
    "nombre_infected       832\n",
    "nombre_sain          2427\n",
    "nombre_exposed        445\n",
    "nombre_recovered    16296\n",
    "Name: 480, dtype: int64"
   ]
  },
  {
   "cell_type": "markdown",
   "id": "524b4bd2",
   "metadata": {},
   "source": [
    "nombre_infected       820\n",
    "nombre_sain          2401\n",
    "nombre_exposed        460\n",
    "nombre_recovered    16319\n",
    "Name: 481, dtype: int64"
   ]
  },
  {
   "cell_type": "markdown",
   "id": "b4cb2e7c",
   "metadata": {},
   "source": [
    "nombre_infected       809\n",
    "nombre_sain          2418\n",
    "nombre_exposed        465\n",
    "nombre_recovered    16308\n",
    "Name: 482, dtype: int64"
   ]
  },
  {
   "cell_type": "markdown",
   "id": "59c460d1",
   "metadata": {},
   "source": [
    "nombre_infected       816\n",
    "nombre_sain          2424\n",
    "nombre_exposed        467\n",
    "nombre_recovered    16293\n",
    "Name: 483, dtype: int64"
   ]
  },
  {
   "cell_type": "markdown",
   "id": "98b4105a",
   "metadata": {},
   "source": [
    "nombre_infected       837\n",
    "nombre_sain          2394\n",
    "nombre_exposed        469\n",
    "nombre_recovered    16300\n",
    "Name: 484, dtype: int64"
   ]
  },
  {
   "cell_type": "markdown",
   "id": "b99e2bac",
   "metadata": {},
   "source": [
    "nombre_infected       811\n",
    "nombre_sain          2375\n",
    "nombre_exposed        502\n",
    "nombre_recovered    16312\n",
    "Name: 485, dtype: int64"
   ]
  },
  {
   "cell_type": "markdown",
   "id": "b79fd686",
   "metadata": {},
   "source": [
    "nombre_infected       797\n",
    "nombre_sain          2371\n",
    "nombre_exposed        507\n",
    "nombre_recovered    16325\n",
    "Name: 486, dtype: int64"
   ]
  },
  {
   "cell_type": "markdown",
   "id": "2885d25f",
   "metadata": {},
   "source": [
    "nombre_infected       821\n",
    "nombre_sain          2392\n",
    "nombre_exposed        485\n",
    "nombre_recovered    16302\n",
    "Name: 487, dtype: int64"
   ]
  },
  {
   "cell_type": "markdown",
   "id": "30dad301",
   "metadata": {},
   "source": [
    "nombre_infected       843\n",
    "nombre_sain          2386\n",
    "nombre_exposed        480\n",
    "nombre_recovered    16291\n",
    "Name: 488, dtype: int64"
   ]
  },
  {
   "cell_type": "markdown",
   "id": "80259475",
   "metadata": {},
   "source": [
    "nombre_infected       841\n",
    "nombre_sain          2374\n",
    "nombre_exposed        473\n",
    "nombre_recovered    16312\n",
    "Name: 489, dtype: int64"
   ]
  },
  {
   "cell_type": "markdown",
   "id": "cf0d3c1c",
   "metadata": {},
   "source": [
    "nombre_infected       854\n",
    "nombre_sain          2390\n",
    "nombre_exposed        453\n",
    "nombre_recovered    16303\n",
    "Name: 490, dtype: int64"
   ]
  },
  {
   "cell_type": "markdown",
   "id": "f2472ba3",
   "metadata": {},
   "source": [
    "nombre_infected       863\n",
    "nombre_sain          2371\n",
    "nombre_exposed        467\n",
    "nombre_recovered    16299\n",
    "Name: 491, dtype: int64"
   ]
  },
  {
   "cell_type": "markdown",
   "id": "8cc9bfab",
   "metadata": {},
   "source": [
    "nombre_infected       855\n",
    "nombre_sain          2361\n",
    "nombre_exposed        497\n",
    "nombre_recovered    16287\n",
    "Name: 492, dtype: int64"
   ]
  },
  {
   "cell_type": "markdown",
   "id": "84a5ebca",
   "metadata": {},
   "source": [
    "nombre_infected       856\n",
    "nombre_sain          2361\n",
    "nombre_exposed        505\n",
    "nombre_recovered    16278\n",
    "Name: 493, dtype: int64"
   ]
  },
  {
   "cell_type": "markdown",
   "id": "05cdf5db",
   "metadata": {},
   "source": [
    "nombre_infected       867\n",
    "nombre_sain          2387\n",
    "nombre_exposed        513\n",
    "nombre_recovered    16233\n",
    "Name: 494, dtype: int64"
   ]
  },
  {
   "cell_type": "markdown",
   "id": "ddb67488",
   "metadata": {},
   "source": [
    "nombre_infected       858\n",
    "nombre_sain          2395\n",
    "nombre_exposed        517\n",
    "nombre_recovered    16230\n",
    "Name: 495, dtype: int64"
   ]
  },
  {
   "cell_type": "markdown",
   "id": "708c3158",
   "metadata": {},
   "source": [
    "nombre_infected       897\n",
    "nombre_sain          2379\n",
    "nombre_exposed        509\n",
    "nombre_recovered    16215\n",
    "Name: 496, dtype: int64"
   ]
  },
  {
   "cell_type": "markdown",
   "id": "24c33705",
   "metadata": {},
   "source": [
    "nombre_infected       912\n",
    "nombre_sain          2341\n",
    "nombre_exposed        508\n",
    "nombre_recovered    16239\n",
    "Name: 497, dtype: int64"
   ]
  },
  {
   "cell_type": "markdown",
   "id": "227f8092",
   "metadata": {},
   "source": [
    "nombre_infected       881\n",
    "nombre_sain          2359\n",
    "nombre_exposed        514\n",
    "nombre_recovered    16246\n",
    "Name: 498, dtype: int64"
   ]
  },
  {
   "cell_type": "markdown",
   "id": "c78dcbc6",
   "metadata": {},
   "source": [
    "nombre_infected       885\n",
    "nombre_sain          2377\n",
    "nombre_exposed        510\n",
    "nombre_recovered    16228\n",
    "Name: 499, dtype: int64"
   ]
  },
  {
   "cell_type": "markdown",
   "id": "201122c0",
   "metadata": {},
   "source": [
    "nombre_infected       870\n",
    "nombre_sain          2357\n",
    "nombre_exposed        525\n",
    "nombre_recovered    16248\n",
    "Name: 500, dtype: int64"
   ]
  },
  {
   "cell_type": "markdown",
   "id": "175d4995",
   "metadata": {},
   "source": [
    "nombre_infected       880\n",
    "nombre_sain          2326\n",
    "nombre_exposed        538\n",
    "nombre_recovered    16256\n",
    "Name: 501, dtype: int64"
   ]
  },
  {
   "cell_type": "markdown",
   "id": "a7f6f952",
   "metadata": {},
   "source": [
    "nombre_infected       894\n",
    "nombre_sain          2339\n",
    "nombre_exposed        525\n",
    "nombre_recovered    16242\n",
    "Name: 502, dtype: int64"
   ]
  },
  {
   "cell_type": "markdown",
   "id": "c655052f",
   "metadata": {},
   "source": [
    "nombre_infected       911\n",
    "nombre_sain          2323\n",
    "nombre_exposed        523\n",
    "nombre_recovered    16243\n",
    "Name: 503, dtype: int64"
   ]
  },
  {
   "cell_type": "markdown",
   "id": "1ac396cb",
   "metadata": {},
   "source": [
    "nombre_infected       917\n",
    "nombre_sain          2319\n",
    "nombre_exposed        501\n",
    "nombre_recovered    16263\n",
    "Name: 504, dtype: int64"
   ]
  },
  {
   "cell_type": "markdown",
   "id": "0595d469",
   "metadata": {},
   "source": [
    "nombre_infected       924\n",
    "nombre_sain          2265\n",
    "nombre_exposed        545\n",
    "nombre_recovered    16266\n",
    "Name: 505, dtype: int64"
   ]
  },
  {
   "cell_type": "markdown",
   "id": "3b665f32",
   "metadata": {},
   "source": [
    "nombre_infected       939\n",
    "nombre_sain          2258\n",
    "nombre_exposed        560\n",
    "nombre_recovered    16243\n",
    "Name: 506, dtype: int64"
   ]
  },
  {
   "cell_type": "markdown",
   "id": "4c0da06c",
   "metadata": {},
   "source": [
    "nombre_infected       956\n",
    "nombre_sain          2281\n",
    "nombre_exposed        545\n",
    "nombre_recovered    16218\n",
    "Name: 507, dtype: int64"
   ]
  },
  {
   "cell_type": "markdown",
   "id": "58cf10b3",
   "metadata": {},
   "source": [
    "nombre_infected       964\n",
    "nombre_sain          2300\n",
    "nombre_exposed        513\n",
    "nombre_recovered    16223\n",
    "Name: 508, dtype: int64"
   ]
  },
  {
   "cell_type": "markdown",
   "id": "5577df8e",
   "metadata": {},
   "source": [
    "nombre_infected       958\n",
    "nombre_sain          2316\n",
    "nombre_exposed        507\n",
    "nombre_recovered    16219\n",
    "Name: 509, dtype: int64"
   ]
  },
  {
   "cell_type": "markdown",
   "id": "042794da",
   "metadata": {},
   "source": [
    "nombre_infected       953\n",
    "nombre_sain          2330\n",
    "nombre_exposed        504\n",
    "nombre_recovered    16213\n",
    "Name: 510, dtype: int64"
   ]
  },
  {
   "cell_type": "markdown",
   "id": "3a35d8c1",
   "metadata": {},
   "source": [
    "nombre_infected       946\n",
    "nombre_sain          2327\n",
    "nombre_exposed        513\n",
    "nombre_recovered    16214\n",
    "Name: 511, dtype: int64"
   ]
  },
  {
   "cell_type": "markdown",
   "id": "678eb0ce",
   "metadata": {},
   "source": [
    "nombre_infected       944\n",
    "nombre_sain          2346\n",
    "nombre_exposed        514\n",
    "nombre_recovered    16196\n",
    "Name: 512, dtype: int64"
   ]
  },
  {
   "cell_type": "markdown",
   "id": "7a2d1fba",
   "metadata": {},
   "source": [
    "nombre_infected       937\n",
    "nombre_sain          2339\n",
    "nombre_exposed        527\n",
    "nombre_recovered    16197\n",
    "Name: 513, dtype: int64"
   ]
  },
  {
   "cell_type": "markdown",
   "id": "eb878289",
   "metadata": {},
   "source": [
    "nombre_infected       942\n",
    "nombre_sain          2381\n",
    "nombre_exposed        483\n",
    "nombre_recovered    16194\n",
    "Name: 514, dtype: int64"
   ]
  },
  {
   "cell_type": "markdown",
   "id": "7b454520",
   "metadata": {},
   "source": [
    "nombre_infected       946\n",
    "nombre_sain          2382\n",
    "nombre_exposed        485\n",
    "nombre_recovered    16187\n",
    "Name: 515, dtype: int64"
   ]
  },
  {
   "cell_type": "markdown",
   "id": "1e845ea9",
   "metadata": {},
   "source": [
    "nombre_infected       910\n",
    "nombre_sain          2394\n",
    "nombre_exposed        496\n",
    "nombre_recovered    16200\n",
    "Name: 516, dtype: int64"
   ]
  },
  {
   "cell_type": "markdown",
   "id": "7a942c0e",
   "metadata": {},
   "source": [
    "nombre_infected       907\n",
    "nombre_sain          2385\n",
    "nombre_exposed        501\n",
    "nombre_recovered    16207\n",
    "Name: 517, dtype: int64"
   ]
  },
  {
   "cell_type": "markdown",
   "id": "93074434",
   "metadata": {},
   "source": [
    "nombre_infected       907\n",
    "nombre_sain          2357\n",
    "nombre_exposed        518\n",
    "nombre_recovered    16218\n",
    "Name: 518, dtype: int64"
   ]
  },
  {
   "cell_type": "markdown",
   "id": "2a8bfc67",
   "metadata": {},
   "source": [
    "nombre_infected       919\n",
    "nombre_sain          2353\n",
    "nombre_exposed        525\n",
    "nombre_recovered    16203\n",
    "Name: 519, dtype: int64"
   ]
  },
  {
   "cell_type": "markdown",
   "id": "8d40707f",
   "metadata": {},
   "source": [
    "nombre_infected       904\n",
    "nombre_sain          2385\n",
    "nombre_exposed        503\n",
    "nombre_recovered    16208\n",
    "Name: 520, dtype: int64"
   ]
  },
  {
   "cell_type": "markdown",
   "id": "418b3fd0",
   "metadata": {},
   "source": [
    "nombre_infected       900\n",
    "nombre_sain          2388\n",
    "nombre_exposed        502\n",
    "nombre_recovered    16210\n",
    "Name: 521, dtype: int64"
   ]
  },
  {
   "cell_type": "markdown",
   "id": "2fbba86c",
   "metadata": {},
   "source": [
    "nombre_infected       882\n",
    "nombre_sain          2377\n",
    "nombre_exposed        525\n",
    "nombre_recovered    16216\n",
    "Name: 522, dtype: int64"
   ]
  },
  {
   "cell_type": "markdown",
   "id": "582e71a7",
   "metadata": {},
   "source": [
    "nombre_infected       885\n",
    "nombre_sain          2404\n",
    "nombre_exposed        515\n",
    "nombre_recovered    16196\n",
    "Name: 523, dtype: int64"
   ]
  },
  {
   "cell_type": "markdown",
   "id": "2bda68a7",
   "metadata": {},
   "source": [
    "nombre_infected       864\n",
    "nombre_sain          2436\n",
    "nombre_exposed        520\n",
    "nombre_recovered    16180\n",
    "Name: 524, dtype: int64"
   ]
  },
  {
   "cell_type": "markdown",
   "id": "4a521319",
   "metadata": {},
   "source": [
    "nombre_infected       859\n",
    "nombre_sain          2457\n",
    "nombre_exposed        515\n",
    "nombre_recovered    16169\n",
    "Name: 525, dtype: int64"
   ]
  },
  {
   "cell_type": "markdown",
   "id": "3f5b7f00",
   "metadata": {},
   "source": [
    "nombre_infected       868\n",
    "nombre_sain          2458\n",
    "nombre_exposed        521\n",
    "nombre_recovered    16153\n",
    "Name: 526, dtype: int64"
   ]
  },
  {
   "cell_type": "markdown",
   "id": "8116fbb4",
   "metadata": {},
   "source": [
    "nombre_infected       910\n",
    "nombre_sain          2440\n",
    "nombre_exposed        533\n",
    "nombre_recovered    16117\n",
    "Name: 527, dtype: int64"
   ]
  },
  {
   "cell_type": "markdown",
   "id": "3d007d8b",
   "metadata": {},
   "source": [
    "nombre_infected       919\n",
    "nombre_sain          2424\n",
    "nombre_exposed        544\n",
    "nombre_recovered    16113\n",
    "Name: 528, dtype: int64"
   ]
  },
  {
   "cell_type": "markdown",
   "id": "559aa0e2",
   "metadata": {},
   "source": [
    "nombre_infected       937\n",
    "nombre_sain          2437\n",
    "nombre_exposed        529\n",
    "nombre_recovered    16097\n",
    "Name: 529, dtype: int64"
   ]
  },
  {
   "cell_type": "markdown",
   "id": "c809543d",
   "metadata": {},
   "source": [
    "nombre_infected       938\n",
    "nombre_sain          2468\n",
    "nombre_exposed        515\n",
    "nombre_recovered    16079\n",
    "Name: 530, dtype: int64"
   ]
  },
  {
   "cell_type": "markdown",
   "id": "a18c9220",
   "metadata": {},
   "source": [
    "nombre_infected       959\n",
    "nombre_sain          2461\n",
    "nombre_exposed        517\n",
    "nombre_recovered    16063\n",
    "Name: 531, dtype: int64"
   ]
  },
  {
   "cell_type": "markdown",
   "id": "386cefdb",
   "metadata": {},
   "source": [
    "nombre_infected       947\n",
    "nombre_sain          2432\n",
    "nombre_exposed        545\n",
    "nombre_recovered    16076\n",
    "Name: 532, dtype: int64"
   ]
  },
  {
   "cell_type": "markdown",
   "id": "08f3f7bc",
   "metadata": {},
   "source": [
    "nombre_infected       955\n",
    "nombre_sain          2420\n",
    "nombre_exposed        566\n",
    "nombre_recovered    16059\n",
    "Name: 533, dtype: int64"
   ]
  },
  {
   "cell_type": "markdown",
   "id": "523ca877",
   "metadata": {},
   "source": [
    "nombre_infected       941\n",
    "nombre_sain          2413\n",
    "nombre_exposed        575\n",
    "nombre_recovered    16071\n",
    "Name: 534, dtype: int64"
   ]
  },
  {
   "cell_type": "markdown",
   "id": "4dd76b9f",
   "metadata": {},
   "source": [
    "nombre_infected       968\n",
    "nombre_sain          2405\n",
    "nombre_exposed        580\n",
    "nombre_recovered    16047\n",
    "Name: 535, dtype: int64"
   ]
  },
  {
   "cell_type": "markdown",
   "id": "17f6b70d",
   "metadata": {},
   "source": [
    "nombre_infected       990\n",
    "nombre_sain          2385\n",
    "nombre_exposed        582\n",
    "nombre_recovered    16043\n",
    "Name: 536, dtype: int64"
   ]
  },
  {
   "cell_type": "markdown",
   "id": "d7fadf6f",
   "metadata": {},
   "source": [
    "nombre_infected      1008\n",
    "nombre_sain          2363\n",
    "nombre_exposed        596\n",
    "nombre_recovered    16033\n",
    "Name: 537, dtype: int64"
   ]
  },
  {
   "cell_type": "markdown",
   "id": "9e74d30f",
   "metadata": {},
   "source": [
    "nombre_infected      1008\n",
    "nombre_sain          2357\n",
    "nombre_exposed        582\n",
    "nombre_recovered    16053\n",
    "Name: 538, dtype: int64"
   ]
  },
  {
   "cell_type": "markdown",
   "id": "8d66b57b",
   "metadata": {},
   "source": [
    "nombre_infected      1031\n",
    "nombre_sain          2348\n",
    "nombre_exposed        553\n",
    "nombre_recovered    16068\n",
    "Name: 539, dtype: int64"
   ]
  },
  {
   "cell_type": "markdown",
   "id": "0a8dca7b",
   "metadata": {},
   "source": [
    "nombre_infected      1044\n",
    "nombre_sain          2317\n",
    "nombre_exposed        547\n",
    "nombre_recovered    16092\n",
    "Name: 540, dtype: int64"
   ]
  },
  {
   "cell_type": "markdown",
   "id": "e2a0e47f",
   "metadata": {},
   "source": [
    "nombre_infected      1053\n",
    "nombre_sain          2290\n",
    "nombre_exposed        563\n",
    "nombre_recovered    16094\n",
    "Name: 541, dtype: int64"
   ]
  },
  {
   "cell_type": "markdown",
   "id": "a2fd40d9",
   "metadata": {},
   "source": [
    "nombre_infected      1043\n",
    "nombre_sain          2299\n",
    "nombre_exposed        561\n",
    "nombre_recovered    16097\n",
    "Name: 542, dtype: int64"
   ]
  },
  {
   "cell_type": "markdown",
   "id": "de577426",
   "metadata": {},
   "source": [
    "nombre_infected      1027\n",
    "nombre_sain          2289\n",
    "nombre_exposed        561\n",
    "nombre_recovered    16123\n",
    "Name: 543, dtype: int64"
   ]
  },
  {
   "cell_type": "markdown",
   "id": "bf13bbac",
   "metadata": {},
   "source": [
    "nombre_infected      1040\n",
    "nombre_sain          2268\n",
    "nombre_exposed        534\n",
    "nombre_recovered    16158\n",
    "Name: 544, dtype: int64"
   ]
  },
  {
   "cell_type": "markdown",
   "id": "272f0d17",
   "metadata": {},
   "source": [
    "nombre_infected      1054\n",
    "nombre_sain          2271\n",
    "nombre_exposed        537\n",
    "nombre_recovered    16138\n",
    "Name: 545, dtype: int64"
   ]
  },
  {
   "cell_type": "markdown",
   "id": "3222406d",
   "metadata": {},
   "source": [
    "nombre_infected      1037\n",
    "nombre_sain          2298\n",
    "nombre_exposed        520\n",
    "nombre_recovered    16145\n",
    "Name: 546, dtype: int64"
   ]
  },
  {
   "cell_type": "markdown",
   "id": "26c3a76d",
   "metadata": {},
   "source": [
    "nombre_infected      1055\n",
    "nombre_sain          2314\n",
    "nombre_exposed        495\n",
    "nombre_recovered    16136\n",
    "Name: 547, dtype: int64"
   ]
  },
  {
   "cell_type": "markdown",
   "id": "e276058a",
   "metadata": {},
   "source": [
    "nombre_infected      1036\n",
    "nombre_sain          2299\n",
    "nombre_exposed        512\n",
    "nombre_recovered    16153\n",
    "Name: 548, dtype: int64"
   ]
  },
  {
   "cell_type": "markdown",
   "id": "474a0f84",
   "metadata": {},
   "source": [
    "nombre_infected      1019\n",
    "nombre_sain          2288\n",
    "nombre_exposed        532\n",
    "nombre_recovered    16161\n",
    "Name: 549, dtype: int64"
   ]
  },
  {
   "cell_type": "markdown",
   "id": "bfa486b7",
   "metadata": {},
   "source": [
    "nombre_infected      1016\n",
    "nombre_sain          2279\n",
    "nombre_exposed        542\n",
    "nombre_recovered    16163\n",
    "Name: 550, dtype: int64"
   ]
  },
  {
   "cell_type": "markdown",
   "id": "72dbab97",
   "metadata": {},
   "source": [
    "nombre_infected      1005\n",
    "nombre_sain          2282\n",
    "nombre_exposed        554\n",
    "nombre_recovered    16159\n",
    "Name: 551, dtype: int64"
   ]
  },
  {
   "cell_type": "markdown",
   "id": "3ce3c5a1",
   "metadata": {},
   "source": [
    "nombre_infected      1009\n",
    "nombre_sain          2249\n",
    "nombre_exposed        564\n",
    "nombre_recovered    16178\n",
    "Name: 552, dtype: int64"
   ]
  },
  {
   "cell_type": "markdown",
   "id": "9863607e",
   "metadata": {},
   "source": [
    "nombre_infected      1029\n",
    "nombre_sain          2214\n",
    "nombre_exposed        558\n",
    "nombre_recovered    16199\n",
    "Name: 553, dtype: int64"
   ]
  },
  {
   "cell_type": "markdown",
   "id": "5320d259",
   "metadata": {},
   "source": [
    "nombre_infected      1045\n",
    "nombre_sain          2231\n",
    "nombre_exposed        530\n",
    "nombre_recovered    16194\n",
    "Name: 554, dtype: int64"
   ]
  },
  {
   "cell_type": "markdown",
   "id": "6d5a90b5",
   "metadata": {},
   "source": [
    "nombre_infected      1026\n",
    "nombre_sain          2258\n",
    "nombre_exposed        529\n",
    "nombre_recovered    16187\n",
    "Name: 555, dtype: int64"
   ]
  },
  {
   "cell_type": "markdown",
   "id": "a3104dc6",
   "metadata": {},
   "source": [
    "nombre_infected      1036\n",
    "nombre_sain          2239\n",
    "nombre_exposed        527\n",
    "nombre_recovered    16198\n",
    "Name: 556, dtype: int64"
   ]
  },
  {
   "cell_type": "markdown",
   "id": "d2bf6a7f",
   "metadata": {},
   "source": [
    "nombre_infected      1019\n",
    "nombre_sain          2223\n",
    "nombre_exposed        556\n",
    "nombre_recovered    16202\n",
    "Name: 557, dtype: int64"
   ]
  },
  {
   "cell_type": "markdown",
   "id": "739da4a2",
   "metadata": {},
   "source": [
    "nombre_infected      1026\n",
    "nombre_sain          2236\n",
    "nombre_exposed        537\n",
    "nombre_recovered    16201\n",
    "Name: 558, dtype: int64"
   ]
  },
  {
   "cell_type": "markdown",
   "id": "121e29c2",
   "metadata": {},
   "source": [
    "nombre_infected      1020\n",
    "nombre_sain          2229\n",
    "nombre_exposed        524\n",
    "nombre_recovered    16227\n",
    "Name: 559, dtype: int64"
   ]
  },
  {
   "cell_type": "markdown",
   "id": "71b3acdb",
   "metadata": {},
   "source": [
    "nombre_infected      1019\n",
    "nombre_sain          2218\n",
    "nombre_exposed        523\n",
    "nombre_recovered    16240\n",
    "Name: 560, dtype: int64"
   ]
  },
  {
   "cell_type": "markdown",
   "id": "4666aa08",
   "metadata": {},
   "source": [
    "nombre_infected      1003\n",
    "nombre_sain          2234\n",
    "nombre_exposed        516\n",
    "nombre_recovered    16247\n",
    "Name: 561, dtype: int64"
   ]
  },
  {
   "cell_type": "markdown",
   "id": "ac54f8cc",
   "metadata": {},
   "source": [
    "nombre_infected      1009\n",
    "nombre_sain          2223\n",
    "nombre_exposed        534\n",
    "nombre_recovered    16234\n",
    "Name: 562, dtype: int64"
   ]
  },
  {
   "cell_type": "markdown",
   "id": "0349590a",
   "metadata": {},
   "source": [
    "nombre_infected      1007\n",
    "nombre_sain          2248\n",
    "nombre_exposed        513\n",
    "nombre_recovered    16232\n",
    "Name: 563, dtype: int64"
   ]
  },
  {
   "cell_type": "markdown",
   "id": "c3ff9824",
   "metadata": {},
   "source": [
    "nombre_infected      1003\n",
    "nombre_sain          2235\n",
    "nombre_exposed        524\n",
    "nombre_recovered    16238\n",
    "Name: 564, dtype: int64"
   ]
  },
  {
   "cell_type": "markdown",
   "id": "5cd3c5e5",
   "metadata": {},
   "source": [
    "nombre_infected       994\n",
    "nombre_sain          2258\n",
    "nombre_exposed        525\n",
    "nombre_recovered    16223\n",
    "Name: 565, dtype: int64"
   ]
  },
  {
   "cell_type": "markdown",
   "id": "f1edd403",
   "metadata": {},
   "source": [
    "nombre_infected      1017\n",
    "nombre_sain          2270\n",
    "nombre_exposed        502\n",
    "nombre_recovered    16211\n",
    "Name: 566, dtype: int64"
   ]
  },
  {
   "cell_type": "markdown",
   "id": "52b88c75",
   "metadata": {},
   "source": [
    "nombre_infected      1008\n",
    "nombre_sain          2269\n",
    "nombre_exposed        510\n",
    "nombre_recovered    16213\n",
    "Name: 567, dtype: int64"
   ]
  },
  {
   "cell_type": "markdown",
   "id": "229fa027",
   "metadata": {},
   "source": [
    "nombre_infected       981\n",
    "nombre_sain          2277\n",
    "nombre_exposed        511\n",
    "nombre_recovered    16231\n",
    "Name: 568, dtype: int64"
   ]
  },
  {
   "cell_type": "markdown",
   "id": "84254145",
   "metadata": {},
   "source": [
    "nombre_infected       959\n",
    "nombre_sain          2294\n",
    "nombre_exposed        520\n",
    "nombre_recovered    16227\n",
    "Name: 569, dtype: int64"
   ]
  },
  {
   "cell_type": "markdown",
   "id": "2ec922ca",
   "metadata": {},
   "source": [
    "nombre_infected       960\n",
    "nombre_sain          2310\n",
    "nombre_exposed        507\n",
    "nombre_recovered    16223\n",
    "Name: 570, dtype: int64"
   ]
  },
  {
   "cell_type": "markdown",
   "id": "11479793",
   "metadata": {},
   "source": [
    "nombre_infected       949\n",
    "nombre_sain          2295\n",
    "nombre_exposed        523\n",
    "nombre_recovered    16233\n",
    "Name: 571, dtype: int64"
   ]
  },
  {
   "cell_type": "markdown",
   "id": "5ca8946c",
   "metadata": {},
   "source": [
    "nombre_infected       948\n",
    "nombre_sain          2311\n",
    "nombre_exposed        525\n",
    "nombre_recovered    16216\n",
    "Name: 572, dtype: int64"
   ]
  },
  {
   "cell_type": "markdown",
   "id": "4947a68b",
   "metadata": {},
   "source": [
    "nombre_infected       938\n",
    "nombre_sain          2309\n",
    "nombre_exposed        516\n",
    "nombre_recovered    16237\n",
    "Name: 573, dtype: int64"
   ]
  },
  {
   "cell_type": "markdown",
   "id": "4c208ecf",
   "metadata": {},
   "source": [
    "nombre_infected       949\n",
    "nombre_sain          2326\n",
    "nombre_exposed        489\n",
    "nombre_recovered    16236\n",
    "Name: 574, dtype: int64"
   ]
  },
  {
   "cell_type": "markdown",
   "id": "4b67e6cf",
   "metadata": {},
   "source": [
    "nombre_infected       917\n",
    "nombre_sain          2316\n",
    "nombre_exposed        499\n",
    "nombre_recovered    16268\n",
    "Name: 575, dtype: int64"
   ]
  },
  {
   "cell_type": "markdown",
   "id": "e031a55c",
   "metadata": {},
   "source": [
    "nombre_infected       907\n",
    "nombre_sain          2336\n",
    "nombre_exposed        501\n",
    "nombre_recovered    16256\n",
    "Name: 576, dtype: int64"
   ]
  },
  {
   "cell_type": "markdown",
   "id": "521912de",
   "metadata": {},
   "source": [
    "nombre_infected       889\n",
    "nombre_sain          2359\n",
    "nombre_exposed        513\n",
    "nombre_recovered    16239\n",
    "Name: 577, dtype: int64"
   ]
  },
  {
   "cell_type": "markdown",
   "id": "0432de9c",
   "metadata": {},
   "source": [
    "nombre_infected       884\n",
    "nombre_sain          2371\n",
    "nombre_exposed        511\n",
    "nombre_recovered    16234\n",
    "Name: 578, dtype: int64"
   ]
  },
  {
   "cell_type": "markdown",
   "id": "a753f38b",
   "metadata": {},
   "source": [
    "nombre_infected       889\n",
    "nombre_sain          2355\n",
    "nombre_exposed        503\n",
    "nombre_recovered    16253\n",
    "Name: 579, dtype: int64"
   ]
  },
  {
   "cell_type": "markdown",
   "id": "efcf38c0",
   "metadata": {},
   "source": [
    "nombre_infected       898\n",
    "nombre_sain          2354\n",
    "nombre_exposed        509\n",
    "nombre_recovered    16239\n",
    "Name: 580, dtype: int64"
   ]
  },
  {
   "cell_type": "markdown",
   "id": "10d22576",
   "metadata": {},
   "source": [
    "nombre_infected       899\n",
    "nombre_sain          2344\n",
    "nombre_exposed        507\n",
    "nombre_recovered    16250\n",
    "Name: 581, dtype: int64"
   ]
  },
  {
   "cell_type": "markdown",
   "id": "d21359c4",
   "metadata": {},
   "source": [
    "nombre_infected       918\n",
    "nombre_sain          2339\n",
    "nombre_exposed        522\n",
    "nombre_recovered    16221\n",
    "Name: 582, dtype: int64"
   ]
  },
  {
   "cell_type": "markdown",
   "id": "4d62d61a",
   "metadata": {},
   "source": [
    "nombre_infected       921\n",
    "nombre_sain          2334\n",
    "nombre_exposed        521\n",
    "nombre_recovered    16224\n",
    "Name: 583, dtype: int64"
   ]
  },
  {
   "cell_type": "markdown",
   "id": "5fc5368d",
   "metadata": {},
   "source": [
    "nombre_infected       896\n",
    "nombre_sain          2363\n",
    "nombre_exposed        502\n",
    "nombre_recovered    16239\n",
    "Name: 584, dtype: int64"
   ]
  },
  {
   "cell_type": "markdown",
   "id": "a24df5e6",
   "metadata": {},
   "source": [
    "nombre_infected       914\n",
    "nombre_sain          2385\n",
    "nombre_exposed        500\n",
    "nombre_recovered    16201\n",
    "Name: 585, dtype: int64"
   ]
  },
  {
   "cell_type": "markdown",
   "id": "202bc93f",
   "metadata": {},
   "source": [
    "nombre_infected       917\n",
    "nombre_sain          2394\n",
    "nombre_exposed        498\n",
    "nombre_recovered    16191\n",
    "Name: 586, dtype: int64"
   ]
  },
  {
   "cell_type": "markdown",
   "id": "d014fe2b",
   "metadata": {},
   "source": [
    "nombre_infected       909\n",
    "nombre_sain          2420\n",
    "nombre_exposed        487\n",
    "nombre_recovered    16184\n",
    "Name: 587, dtype: int64"
   ]
  },
  {
   "cell_type": "markdown",
   "id": "cc54332b",
   "metadata": {},
   "source": [
    "nombre_infected       912\n",
    "nombre_sain          2414\n",
    "nombre_exposed        495\n",
    "nombre_recovered    16179\n",
    "Name: 588, dtype: int64"
   ]
  },
  {
   "cell_type": "markdown",
   "id": "7b32356b",
   "metadata": {},
   "source": [
    "nombre_infected       911\n",
    "nombre_sain          2427\n",
    "nombre_exposed        490\n",
    "nombre_recovered    16172\n",
    "Name: 589, dtype: int64"
   ]
  },
  {
   "cell_type": "markdown",
   "id": "905808ce",
   "metadata": {},
   "source": [
    "nombre_infected       911\n",
    "nombre_sain          2431\n",
    "nombre_exposed        495\n",
    "nombre_recovered    16163\n",
    "Name: 590, dtype: int64"
   ]
  },
  {
   "cell_type": "markdown",
   "id": "75b6ce58",
   "metadata": {},
   "source": [
    "nombre_infected       916\n",
    "nombre_sain          2419\n",
    "nombre_exposed        500\n",
    "nombre_recovered    16165\n",
    "Name: 591, dtype: int64"
   ]
  },
  {
   "cell_type": "markdown",
   "id": "9ea64dfd",
   "metadata": {},
   "source": [
    "nombre_infected       891\n",
    "nombre_sain          2449\n",
    "nombre_exposed        506\n",
    "nombre_recovered    16154\n",
    "Name: 592, dtype: int64"
   ]
  },
  {
   "cell_type": "markdown",
   "id": "37b78a14",
   "metadata": {},
   "source": [
    "nombre_infected       906\n",
    "nombre_sain          2445\n",
    "nombre_exposed        493\n",
    "nombre_recovered    16156\n",
    "Name: 593, dtype: int64"
   ]
  },
  {
   "cell_type": "markdown",
   "id": "33f2e39d",
   "metadata": {},
   "source": [
    "nombre_infected       938\n",
    "nombre_sain          2461\n",
    "nombre_exposed        484\n",
    "nombre_recovered    16117\n",
    "Name: 594, dtype: int64"
   ]
  },
  {
   "cell_type": "markdown",
   "id": "d2e889b1",
   "metadata": {},
   "source": [
    "nombre_infected       926\n",
    "nombre_sain          2459\n",
    "nombre_exposed        483\n",
    "nombre_recovered    16132\n",
    "Name: 595, dtype: int64"
   ]
  },
  {
   "cell_type": "markdown",
   "id": "7fb128ec",
   "metadata": {},
   "source": [
    "nombre_infected       929\n",
    "nombre_sain          2426\n",
    "nombre_exposed        512\n",
    "nombre_recovered    16133\n",
    "Name: 596, dtype: int64"
   ]
  },
  {
   "cell_type": "markdown",
   "id": "85550796",
   "metadata": {},
   "source": [
    "nombre_infected       935\n",
    "nombre_sain          2435\n",
    "nombre_exposed        532\n",
    "nombre_recovered    16098\n",
    "Name: 597, dtype: int64"
   ]
  },
  {
   "cell_type": "markdown",
   "id": "167a4daf",
   "metadata": {},
   "source": [
    "nombre_infected       942\n",
    "nombre_sain          2409\n",
    "nombre_exposed        552\n",
    "nombre_recovered    16097\n",
    "Name: 598, dtype: int64"
   ]
  },
  {
   "cell_type": "markdown",
   "id": "2b74219e",
   "metadata": {},
   "source": [
    "nombre_infected       952\n",
    "nombre_sain          2406\n",
    "nombre_exposed        560\n",
    "nombre_recovered    16082\n",
    "Name: 599, dtype: int64"
   ]
  },
  {
   "cell_type": "markdown",
   "id": "e229d0a2",
   "metadata": {},
   "source": [
    "nombre_infected       977\n",
    "nombre_sain          2401\n",
    "nombre_exposed        536\n",
    "nombre_recovered    16086\n",
    "Name: 600, dtype: int64"
   ]
  },
  {
   "cell_type": "markdown",
   "id": "5715cec0",
   "metadata": {},
   "source": [
    "nombre_infected      1004\n",
    "nombre_sain          2407\n",
    "nombre_exposed        520\n",
    "nombre_recovered    16069\n",
    "Name: 601, dtype: int64"
   ]
  },
  {
   "cell_type": "markdown",
   "id": "2fdb682f",
   "metadata": {},
   "source": [
    "nombre_infected      1015\n",
    "nombre_sain          2397\n",
    "nombre_exposed        540\n",
    "nombre_recovered    16048\n",
    "Name: 602, dtype: int64"
   ]
  },
  {
   "cell_type": "markdown",
   "id": "c737b026",
   "metadata": {},
   "source": [
    "nombre_infected      1006\n",
    "nombre_sain          2348\n",
    "nombre_exposed        583\n",
    "nombre_recovered    16063\n",
    "Name: 603, dtype: int64"
   ]
  },
  {
   "cell_type": "markdown",
   "id": "0e3dfe24",
   "metadata": {},
   "source": [
    "nombre_infected       986\n",
    "nombre_sain          2353\n",
    "nombre_exposed        595\n",
    "nombre_recovered    16066\n",
    "Name: 604, dtype: int64"
   ]
  },
  {
   "cell_type": "markdown",
   "id": "958ce2e4",
   "metadata": {},
   "source": [
    "nombre_infected       995\n",
    "nombre_sain          2359\n",
    "nombre_exposed        579\n",
    "nombre_recovered    16067\n",
    "Name: 605, dtype: int64"
   ]
  },
  {
   "cell_type": "markdown",
   "id": "862dde47",
   "metadata": {},
   "source": [
    "nombre_infected      1009\n",
    "nombre_sain          2351\n",
    "nombre_exposed        579\n",
    "nombre_recovered    16061\n",
    "Name: 606, dtype: int64"
   ]
  },
  {
   "cell_type": "markdown",
   "id": "a934b134",
   "metadata": {},
   "source": [
    "nombre_infected      1000\n",
    "nombre_sain          2326\n",
    "nombre_exposed        618\n",
    "nombre_recovered    16056\n",
    "Name: 607, dtype: int64"
   ]
  },
  {
   "cell_type": "markdown",
   "id": "f7ad7e14",
   "metadata": {},
   "source": [
    "nombre_infected      1021\n",
    "nombre_sain          2329\n",
    "nombre_exposed        583\n",
    "nombre_recovered    16067\n",
    "Name: 608, dtype: int64"
   ]
  },
  {
   "cell_type": "markdown",
   "id": "abfb48b0",
   "metadata": {},
   "source": [
    "nombre_infected      1037\n",
    "nombre_sain          2351\n",
    "nombre_exposed        548\n",
    "nombre_recovered    16064\n",
    "Name: 609, dtype: int64"
   ]
  },
  {
   "cell_type": "markdown",
   "id": "e3dda40a",
   "metadata": {},
   "source": [
    "nombre_infected      1057\n",
    "nombre_sain          2338\n",
    "nombre_exposed        567\n",
    "nombre_recovered    16038\n",
    "Name: 610, dtype: int64"
   ]
  },
  {
   "cell_type": "markdown",
   "id": "7e9ee940",
   "metadata": {},
   "source": [
    "nombre_infected      1053\n",
    "nombre_sain          2299\n",
    "nombre_exposed        598\n",
    "nombre_recovered    16050\n",
    "Name: 611, dtype: int64"
   ]
  },
  {
   "cell_type": "markdown",
   "id": "f0c94415",
   "metadata": {},
   "source": [
    "nombre_infected      1062\n",
    "nombre_sain          2299\n",
    "nombre_exposed        588\n",
    "nombre_recovered    16051\n",
    "Name: 612, dtype: int64"
   ]
  },
  {
   "cell_type": "markdown",
   "id": "8465e97c",
   "metadata": {},
   "source": [
    "nombre_infected      1068\n",
    "nombre_sain          2303\n",
    "nombre_exposed        580\n",
    "nombre_recovered    16049\n",
    "Name: 613, dtype: int64"
   ]
  },
  {
   "cell_type": "markdown",
   "id": "3a8fedbe",
   "metadata": {},
   "source": [
    "nombre_infected      1100\n",
    "nombre_sain          2284\n",
    "nombre_exposed        572\n",
    "nombre_recovered    16044\n",
    "Name: 614, dtype: int64"
   ]
  },
  {
   "cell_type": "markdown",
   "id": "6422baf2",
   "metadata": {},
   "source": [
    "nombre_infected      1076\n",
    "nombre_sain          2279\n",
    "nombre_exposed        599\n",
    "nombre_recovered    16046\n",
    "Name: 615, dtype: int64"
   ]
  },
  {
   "cell_type": "markdown",
   "id": "7e412e8f",
   "metadata": {},
   "source": [
    "nombre_infected      1091\n",
    "nombre_sain          2297\n",
    "nombre_exposed        594\n",
    "nombre_recovered    16018\n",
    "Name: 616, dtype: int64"
   ]
  },
  {
   "cell_type": "markdown",
   "id": "26e01ac7",
   "metadata": {},
   "source": [
    "nombre_infected      1101\n",
    "nombre_sain          2284\n",
    "nombre_exposed        600\n",
    "nombre_recovered    16015\n",
    "Name: 617, dtype: int64"
   ]
  },
  {
   "cell_type": "markdown",
   "id": "70bef45e",
   "metadata": {},
   "source": [
    "nombre_infected      1089\n",
    "nombre_sain          2280\n",
    "nombre_exposed        635\n",
    "nombre_recovered    15996\n",
    "Name: 618, dtype: int64"
   ]
  },
  {
   "cell_type": "markdown",
   "id": "37553d7f",
   "metadata": {},
   "source": [
    "nombre_infected      1124\n",
    "nombre_sain          2282\n",
    "nombre_exposed        604\n",
    "nombre_recovered    15990\n",
    "Name: 619, dtype: int64"
   ]
  },
  {
   "cell_type": "markdown",
   "id": "d0dba291",
   "metadata": {},
   "source": [
    "nombre_infected      1174\n",
    "nombre_sain          2290\n",
    "nombre_exposed        590\n",
    "nombre_recovered    15946\n",
    "Name: 620, dtype: int64"
   ]
  },
  {
   "cell_type": "markdown",
   "id": "6385146d",
   "metadata": {},
   "source": [
    "nombre_infected      1174\n",
    "nombre_sain          2282\n",
    "nombre_exposed        606\n",
    "nombre_recovered    15938\n",
    "Name: 621, dtype: int64"
   ]
  },
  {
   "cell_type": "markdown",
   "id": "aa57de2f",
   "metadata": {},
   "source": [
    "nombre_infected      1200\n",
    "nombre_sain          2320\n",
    "nombre_exposed        584\n",
    "nombre_recovered    15896\n",
    "Name: 622, dtype: int64"
   ]
  },
  {
   "cell_type": "markdown",
   "id": "3a5289e1",
   "metadata": {},
   "source": [
    "nombre_infected      1204\n",
    "nombre_sain          2289\n",
    "nombre_exposed        584\n",
    "nombre_recovered    15923\n",
    "Name: 623, dtype: int64"
   ]
  },
  {
   "cell_type": "markdown",
   "id": "74c53a5f",
   "metadata": {},
   "source": [
    "nombre_infected      1185\n",
    "nombre_sain          2255\n",
    "nombre_exposed        607\n",
    "nombre_recovered    15953\n",
    "Name: 624, dtype: int64"
   ]
  },
  {
   "cell_type": "markdown",
   "id": "9455c7c1",
   "metadata": {},
   "source": [
    "nombre_infected      1207\n",
    "nombre_sain          2246\n",
    "nombre_exposed        607\n",
    "nombre_recovered    15940\n",
    "Name: 625, dtype: int64"
   ]
  },
  {
   "cell_type": "markdown",
   "id": "413aad69",
   "metadata": {},
   "source": [
    "nombre_infected      1228\n",
    "nombre_sain          2202\n",
    "nombre_exposed        632\n",
    "nombre_recovered    15938\n",
    "Name: 626, dtype: int64"
   ]
  },
  {
   "cell_type": "markdown",
   "id": "777cfd7d",
   "metadata": {},
   "source": [
    "nombre_infected      1203\n",
    "nombre_sain          2198\n",
    "nombre_exposed        647\n",
    "nombre_recovered    15952\n",
    "Name: 627, dtype: int64"
   ]
  },
  {
   "cell_type": "markdown",
   "id": "a51b88ba",
   "metadata": {},
   "source": [
    "nombre_infected      1226\n",
    "nombre_sain          2190\n",
    "nombre_exposed        621\n",
    "nombre_recovered    15963\n",
    "Name: 628, dtype: int64"
   ]
  },
  {
   "cell_type": "markdown",
   "id": "f91e01d2",
   "metadata": {},
   "source": [
    "nombre_infected      1210\n",
    "nombre_sain          2187\n",
    "nombre_exposed        629\n",
    "nombre_recovered    15974\n",
    "Name: 629, dtype: int64"
   ]
  },
  {
   "cell_type": "markdown",
   "id": "edd9926a",
   "metadata": {},
   "source": [
    "nombre_infected      1227\n",
    "nombre_sain          2189\n",
    "nombre_exposed        626\n",
    "nombre_recovered    15958\n",
    "Name: 630, dtype: int64"
   ]
  },
  {
   "cell_type": "markdown",
   "id": "a661b0a0",
   "metadata": {},
   "source": [
    "nombre_infected      1227\n",
    "nombre_sain          2169\n",
    "nombre_exposed        626\n",
    "nombre_recovered    15978\n",
    "Name: 631, dtype: int64"
   ]
  },
  {
   "cell_type": "markdown",
   "id": "46902e1a",
   "metadata": {},
   "source": [
    "nombre_infected      1248\n",
    "nombre_sain          2186\n",
    "nombre_exposed        616\n",
    "nombre_recovered    15950\n",
    "Name: 632, dtype: int64"
   ]
  },
  {
   "cell_type": "markdown",
   "id": "326b4cd3",
   "metadata": {},
   "source": [
    "nombre_infected      1254\n",
    "nombre_sain          2176\n",
    "nombre_exposed        622\n",
    "nombre_recovered    15948\n",
    "Name: 633, dtype: int64"
   ]
  },
  {
   "cell_type": "markdown",
   "id": "8b74db12",
   "metadata": {},
   "source": [
    "nombre_infected      1247\n",
    "nombre_sain          2170\n",
    "nombre_exposed        627\n",
    "nombre_recovered    15956\n",
    "Name: 634, dtype: int64"
   ]
  },
  {
   "cell_type": "markdown",
   "id": "ec851cd9",
   "metadata": {},
   "source": [
    "nombre_infected      1266\n",
    "nombre_sain          2164\n",
    "nombre_exposed        617\n",
    "nombre_recovered    15953\n",
    "Name: 635, dtype: int64"
   ]
  },
  {
   "cell_type": "markdown",
   "id": "f1b0058a",
   "metadata": {},
   "source": [
    "nombre_infected      1265\n",
    "nombre_sain          2133\n",
    "nombre_exposed        644\n",
    "nombre_recovered    15958\n",
    "Name: 636, dtype: int64"
   ]
  },
  {
   "cell_type": "markdown",
   "id": "9df99f75",
   "metadata": {},
   "source": [
    "nombre_infected      1248\n",
    "nombre_sain          2113\n",
    "nombre_exposed        660\n",
    "nombre_recovered    15979\n",
    "Name: 637, dtype: int64"
   ]
  },
  {
   "cell_type": "markdown",
   "id": "a8992a12",
   "metadata": {},
   "source": [
    "nombre_infected      1251\n",
    "nombre_sain          2091\n",
    "nombre_exposed        660\n",
    "nombre_recovered    15998\n",
    "Name: 638, dtype: int64"
   ]
  },
  {
   "cell_type": "markdown",
   "id": "f584d20b",
   "metadata": {},
   "source": [
    "nombre_infected      1263\n",
    "nombre_sain          2056\n",
    "nombre_exposed        665\n",
    "nombre_recovered    16016\n",
    "Name: 639, dtype: int64"
   ]
  },
  {
   "cell_type": "markdown",
   "id": "af90ffaa",
   "metadata": {},
   "source": [
    "nombre_infected      1269\n",
    "nombre_sain          2037\n",
    "nombre_exposed        670\n",
    "nombre_recovered    16024\n",
    "Name: 640, dtype: int64"
   ]
  },
  {
   "cell_type": "markdown",
   "id": "179a17cc",
   "metadata": {},
   "source": [
    "nombre_infected      1275\n",
    "nombre_sain          2055\n",
    "nombre_exposed        662\n",
    "nombre_recovered    16008\n",
    "Name: 641, dtype: int64"
   ]
  },
  {
   "cell_type": "markdown",
   "id": "a718a65e",
   "metadata": {},
   "source": [
    "nombre_infected      1324\n",
    "nombre_sain          2028\n",
    "nombre_exposed        643\n",
    "nombre_recovered    16005\n",
    "Name: 642, dtype: int64"
   ]
  },
  {
   "cell_type": "markdown",
   "id": "3f03cb6d",
   "metadata": {},
   "source": [
    "nombre_infected      1300\n",
    "nombre_sain          2023\n",
    "nombre_exposed        662\n",
    "nombre_recovered    16015\n",
    "Name: 643, dtype: int64"
   ]
  },
  {
   "cell_type": "markdown",
   "id": "c93d97a2",
   "metadata": {},
   "source": [
    "nombre_infected      1287\n",
    "nombre_sain          2045\n",
    "nombre_exposed        631\n",
    "nombre_recovered    16037\n",
    "Name: 644, dtype: int64"
   ]
  },
  {
   "cell_type": "markdown",
   "id": "afbe6e5e",
   "metadata": {},
   "source": [
    "nombre_infected      1292\n",
    "nombre_sain          2060\n",
    "nombre_exposed        624\n",
    "nombre_recovered    16024\n",
    "Name: 645, dtype: int64"
   ]
  },
  {
   "cell_type": "markdown",
   "id": "fe82ac85",
   "metadata": {},
   "source": [
    "nombre_infected      1284\n",
    "nombre_sain          2030\n",
    "nombre_exposed        648\n",
    "nombre_recovered    16038\n",
    "Name: 646, dtype: int64"
   ]
  },
  {
   "cell_type": "markdown",
   "id": "458f7304",
   "metadata": {},
   "source": [
    "nombre_infected      1277\n",
    "nombre_sain          2026\n",
    "nombre_exposed        637\n",
    "nombre_recovered    16060\n",
    "Name: 647, dtype: int64"
   ]
  },
  {
   "cell_type": "markdown",
   "id": "c960ee48",
   "metadata": {},
   "source": [
    "nombre_infected      1270\n",
    "nombre_sain          2042\n",
    "nombre_exposed        612\n",
    "nombre_recovered    16076\n",
    "Name: 648, dtype: int64"
   ]
  },
  {
   "cell_type": "markdown",
   "id": "667ffdb8",
   "metadata": {},
   "source": [
    "nombre_infected      1239\n",
    "nombre_sain          2044\n",
    "nombre_exposed        602\n",
    "nombre_recovered    16115\n",
    "Name: 649, dtype: int64"
   ]
  },
  {
   "cell_type": "markdown",
   "id": "d58256ae",
   "metadata": {},
   "source": [
    "nombre_infected      1229\n",
    "nombre_sain          2066\n",
    "nombre_exposed        594\n",
    "nombre_recovered    16111\n",
    "Name: 650, dtype: int64"
   ]
  },
  {
   "cell_type": "markdown",
   "id": "47d970cb",
   "metadata": {},
   "source": [
    "nombre_infected      1208\n",
    "nombre_sain          2107\n",
    "nombre_exposed        574\n",
    "nombre_recovered    16111\n",
    "Name: 651, dtype: int64"
   ]
  },
  {
   "cell_type": "markdown",
   "id": "1ee8f8c6",
   "metadata": {},
   "source": [
    "nombre_infected      1168\n",
    "nombre_sain          2112\n",
    "nombre_exposed        571\n",
    "nombre_recovered    16149\n",
    "Name: 652, dtype: int64"
   ]
  },
  {
   "cell_type": "markdown",
   "id": "ec3a08da",
   "metadata": {},
   "source": [
    "nombre_infected      1150\n",
    "nombre_sain          2090\n",
    "nombre_exposed        592\n",
    "nombre_recovered    16168\n",
    "Name: 653, dtype: int64"
   ]
  },
  {
   "cell_type": "markdown",
   "id": "5a5723ca",
   "metadata": {},
   "source": [
    "nombre_infected      1142\n",
    "nombre_sain          2100\n",
    "nombre_exposed        611\n",
    "nombre_recovered    16147\n",
    "Name: 654, dtype: int64"
   ]
  },
  {
   "cell_type": "markdown",
   "id": "bba32c6c",
   "metadata": {},
   "source": [
    "nombre_infected      1139\n",
    "nombre_sain          2091\n",
    "nombre_exposed        585\n",
    "nombre_recovered    16185\n",
    "Name: 655, dtype: int64"
   ]
  },
  {
   "cell_type": "markdown",
   "id": "e8dd1f02",
   "metadata": {},
   "source": [
    "nombre_infected      1146\n",
    "nombre_sain          2107\n",
    "nombre_exposed        584\n",
    "nombre_recovered    16163\n",
    "Name: 656, dtype: int64"
   ]
  },
  {
   "cell_type": "markdown",
   "id": "bae6e04d",
   "metadata": {},
   "source": [
    "nombre_infected      1129\n",
    "nombre_sain          2109\n",
    "nombre_exposed        610\n",
    "nombre_recovered    16152\n",
    "Name: 657, dtype: int64"
   ]
  },
  {
   "cell_type": "markdown",
   "id": "59fed798",
   "metadata": {},
   "source": [
    "nombre_infected      1141\n",
    "nombre_sain          2105\n",
    "nombre_exposed        601\n",
    "nombre_recovered    16153\n",
    "Name: 658, dtype: int64"
   ]
  },
  {
   "cell_type": "markdown",
   "id": "ee326a6b",
   "metadata": {},
   "source": [
    "nombre_infected      1132\n",
    "nombre_sain          2088\n",
    "nombre_exposed        605\n",
    "nombre_recovered    16175\n",
    "Name: 659, dtype: int64"
   ]
  },
  {
   "cell_type": "markdown",
   "id": "6d8738a0",
   "metadata": {},
   "source": [
    "nombre_infected      1142\n",
    "nombre_sain          2096\n",
    "nombre_exposed        585\n",
    "nombre_recovered    16177\n",
    "Name: 660, dtype: int64"
   ]
  },
  {
   "cell_type": "markdown",
   "id": "bd56af42",
   "metadata": {},
   "source": [
    "nombre_infected      1127\n",
    "nombre_sain          2099\n",
    "nombre_exposed        571\n",
    "nombre_recovered    16203\n",
    "Name: 661, dtype: int64"
   ]
  },
  {
   "cell_type": "markdown",
   "id": "2c3ccdd3",
   "metadata": {},
   "source": [
    "nombre_infected      1126\n",
    "nombre_sain          2129\n",
    "nombre_exposed        554\n",
    "nombre_recovered    16191\n",
    "Name: 662, dtype: int64"
   ]
  },
  {
   "cell_type": "markdown",
   "id": "e15c8853",
   "metadata": {},
   "source": [
    "nombre_infected      1142\n",
    "nombre_sain          2110\n",
    "nombre_exposed        570\n",
    "nombre_recovered    16178\n",
    "Name: 663, dtype: int64"
   ]
  },
  {
   "cell_type": "markdown",
   "id": "17ee7141",
   "metadata": {},
   "source": [
    "nombre_infected      1137\n",
    "nombre_sain          2123\n",
    "nombre_exposed        561\n",
    "nombre_recovered    16179\n",
    "Name: 664, dtype: int64"
   ]
  },
  {
   "cell_type": "markdown",
   "id": "22f4a9d1",
   "metadata": {},
   "source": [
    "nombre_infected      1124\n",
    "nombre_sain          2150\n",
    "nombre_exposed        546\n",
    "nombre_recovered    16180\n",
    "Name: 665, dtype: int64"
   ]
  },
  {
   "cell_type": "markdown",
   "id": "7dddf4c9",
   "metadata": {},
   "source": [
    "nombre_infected      1141\n",
    "nombre_sain          2142\n",
    "nombre_exposed        516\n",
    "nombre_recovered    16201\n",
    "Name: 666, dtype: int64"
   ]
  },
  {
   "cell_type": "markdown",
   "id": "7431384d",
   "metadata": {},
   "source": [
    "nombre_infected      1119\n",
    "nombre_sain          2148\n",
    "nombre_exposed        534\n",
    "nombre_recovered    16199\n",
    "Name: 667, dtype: int64"
   ]
  },
  {
   "cell_type": "markdown",
   "id": "6cfc1e84",
   "metadata": {},
   "source": [
    "nombre_infected      1107\n",
    "nombre_sain          2103\n",
    "nombre_exposed        563\n",
    "nombre_recovered    16227\n",
    "Name: 668, dtype: int64"
   ]
  },
  {
   "cell_type": "markdown",
   "id": "8e57c699",
   "metadata": {},
   "source": [
    "nombre_infected      1099\n",
    "nombre_sain          2114\n",
    "nombre_exposed        554\n",
    "nombre_recovered    16233\n",
    "Name: 669, dtype: int64"
   ]
  },
  {
   "cell_type": "markdown",
   "id": "92615376",
   "metadata": {},
   "source": [
    "nombre_infected      1064\n",
    "nombre_sain          2102\n",
    "nombre_exposed        558\n",
    "nombre_recovered    16276\n",
    "Name: 670, dtype: int64"
   ]
  },
  {
   "cell_type": "markdown",
   "id": "5d7240a8",
   "metadata": {},
   "source": [
    "nombre_infected      1059\n",
    "nombre_sain          2101\n",
    "nombre_exposed        541\n",
    "nombre_recovered    16299\n",
    "Name: 671, dtype: int64"
   ]
  },
  {
   "cell_type": "markdown",
   "id": "937a9d3d",
   "metadata": {},
   "source": [
    "nombre_infected      1075\n",
    "nombre_sain          2062\n",
    "nombre_exposed        535\n",
    "nombre_recovered    16328\n",
    "Name: 672, dtype: int64"
   ]
  },
  {
   "cell_type": "markdown",
   "id": "149bd69a",
   "metadata": {},
   "source": [
    "nombre_infected      1040\n",
    "nombre_sain          2087\n",
    "nombre_exposed        542\n",
    "nombre_recovered    16331\n",
    "Name: 673, dtype: int64"
   ]
  },
  {
   "cell_type": "markdown",
   "id": "45b1b09a",
   "metadata": {},
   "source": [
    "nombre_infected      1035\n",
    "nombre_sain          2067\n",
    "nombre_exposed        532\n",
    "nombre_recovered    16366\n",
    "Name: 674, dtype: int64"
   ]
  },
  {
   "cell_type": "markdown",
   "id": "b9c1bc8f",
   "metadata": {},
   "source": [
    "nombre_infected      1034\n",
    "nombre_sain          2078\n",
    "nombre_exposed        531\n",
    "nombre_recovered    16357\n",
    "Name: 675, dtype: int64"
   ]
  },
  {
   "cell_type": "markdown",
   "id": "9e53d384",
   "metadata": {},
   "source": [
    "nombre_infected      1039\n",
    "nombre_sain          2056\n",
    "nombre_exposed        525\n",
    "nombre_recovered    16380\n",
    "Name: 676, dtype: int64"
   ]
  },
  {
   "cell_type": "markdown",
   "id": "ca804862",
   "metadata": {},
   "source": [
    "nombre_infected      1027\n",
    "nombre_sain          2051\n",
    "nombre_exposed        518\n",
    "nombre_recovered    16404\n",
    "Name: 677, dtype: int64"
   ]
  },
  {
   "cell_type": "markdown",
   "id": "1d520f86",
   "metadata": {},
   "source": [
    "nombre_infected      1006\n",
    "nombre_sain          2045\n",
    "nombre_exposed        534\n",
    "nombre_recovered    16415\n",
    "Name: 678, dtype: int64"
   ]
  },
  {
   "cell_type": "markdown",
   "id": "6f094eac",
   "metadata": {},
   "source": [
    "nombre_infected       987\n",
    "nombre_sain          2060\n",
    "nombre_exposed        525\n",
    "nombre_recovered    16428\n",
    "Name: 679, dtype: int64"
   ]
  },
  {
   "cell_type": "markdown",
   "id": "339a011c",
   "metadata": {},
   "source": [
    "nombre_infected       970\n",
    "nombre_sain          2074\n",
    "nombre_exposed        506\n",
    "nombre_recovered    16450\n",
    "Name: 680, dtype: int64"
   ]
  },
  {
   "cell_type": "markdown",
   "id": "334916a3",
   "metadata": {},
   "source": [
    "nombre_infected       964\n",
    "nombre_sain          2136\n",
    "nombre_exposed        472\n",
    "nombre_recovered    16428\n",
    "Name: 681, dtype: int64"
   ]
  },
  {
   "cell_type": "markdown",
   "id": "c7a9fae5",
   "metadata": {},
   "source": [
    "nombre_infected       945\n",
    "nombre_sain          2170\n",
    "nombre_exposed        470\n",
    "nombre_recovered    16415\n",
    "Name: 682, dtype: int64"
   ]
  },
  {
   "cell_type": "markdown",
   "id": "81fe6011",
   "metadata": {},
   "source": [
    "nombre_infected       929\n",
    "nombre_sain          2169\n",
    "nombre_exposed        496\n",
    "nombre_recovered    16406\n",
    "Name: 683, dtype: int64"
   ]
  },
  {
   "cell_type": "markdown",
   "id": "da18c5f0",
   "metadata": {},
   "source": [
    "nombre_infected       902\n",
    "nombre_sain          2193\n",
    "nombre_exposed        507\n",
    "nombre_recovered    16398\n",
    "Name: 684, dtype: int64"
   ]
  },
  {
   "cell_type": "markdown",
   "id": "63e0a664",
   "metadata": {},
   "source": [
    "nombre_infected       910\n",
    "nombre_sain          2203\n",
    "nombre_exposed        505\n",
    "nombre_recovered    16382\n",
    "Name: 685, dtype: int64"
   ]
  },
  {
   "cell_type": "markdown",
   "id": "755791ef",
   "metadata": {},
   "source": [
    "nombre_infected       929\n",
    "nombre_sain          2208\n",
    "nombre_exposed        484\n",
    "nombre_recovered    16379\n",
    "Name: 686, dtype: int64"
   ]
  },
  {
   "cell_type": "markdown",
   "id": "a209c3ce",
   "metadata": {},
   "source": [
    "nombre_infected       927\n",
    "nombre_sain          2236\n",
    "nombre_exposed        480\n",
    "nombre_recovered    16357\n",
    "Name: 687, dtype: int64"
   ]
  },
  {
   "cell_type": "markdown",
   "id": "7b1c622a",
   "metadata": {},
   "source": [
    "nombre_infected       948\n",
    "nombre_sain          2234\n",
    "nombre_exposed        471\n",
    "nombre_recovered    16347\n",
    "Name: 688, dtype: int64"
   ]
  },
  {
   "cell_type": "markdown",
   "id": "73ea3d22",
   "metadata": {},
   "source": [
    "nombre_infected       923\n",
    "nombre_sain          2239\n",
    "nombre_exposed        481\n",
    "nombre_recovered    16357\n",
    "Name: 689, dtype: int64"
   ]
  },
  {
   "cell_type": "markdown",
   "id": "df742b1c",
   "metadata": {},
   "source": [
    "nombre_infected       941\n",
    "nombre_sain          2249\n",
    "nombre_exposed        477\n",
    "nombre_recovered    16333\n",
    "Name: 690, dtype: int64"
   ]
  },
  {
   "cell_type": "markdown",
   "id": "6f76c302",
   "metadata": {},
   "source": [
    "nombre_infected       985\n",
    "nombre_sain          2223\n",
    "nombre_exposed        481\n",
    "nombre_recovered    16311\n",
    "Name: 691, dtype: int64"
   ]
  },
  {
   "cell_type": "markdown",
   "id": "a681e680",
   "metadata": {},
   "source": [
    "nombre_infected       980\n",
    "nombre_sain          2238\n",
    "nombre_exposed        466\n",
    "nombre_recovered    16316\n",
    "Name: 692, dtype: int64"
   ]
  },
  {
   "cell_type": "markdown",
   "id": "f3c3f71b",
   "metadata": {},
   "source": [
    "nombre_infected       987\n",
    "nombre_sain          2241\n",
    "nombre_exposed        463\n",
    "nombre_recovered    16309\n",
    "Name: 693, dtype: int64"
   ]
  },
  {
   "cell_type": "markdown",
   "id": "bc8e1793",
   "metadata": {},
   "source": [
    "nombre_infected       970\n",
    "nombre_sain          2241\n",
    "nombre_exposed        479\n",
    "nombre_recovered    16310\n",
    "Name: 694, dtype: int64"
   ]
  },
  {
   "cell_type": "markdown",
   "id": "fc6cf656",
   "metadata": {},
   "source": [
    "nombre_infected       969\n",
    "nombre_sain          2250\n",
    "nombre_exposed        485\n",
    "nombre_recovered    16296\n",
    "Name: 695, dtype: int64"
   ]
  },
  {
   "cell_type": "markdown",
   "id": "54f81c09",
   "metadata": {},
   "source": [
    "nombre_infected       959\n",
    "nombre_sain          2249\n",
    "nombre_exposed        480\n",
    "nombre_recovered    16312\n",
    "Name: 696, dtype: int64"
   ]
  },
  {
   "cell_type": "markdown",
   "id": "228cd78b",
   "metadata": {},
   "source": [
    "nombre_infected       971\n",
    "nombre_sain          2241\n",
    "nombre_exposed        461\n",
    "nombre_recovered    16327\n",
    "Name: 697, dtype: int64"
   ]
  },
  {
   "cell_type": "markdown",
   "id": "1c3f8432",
   "metadata": {},
   "source": [
    "nombre_infected       957\n",
    "nombre_sain          2258\n",
    "nombre_exposed        466\n",
    "nombre_recovered    16319\n",
    "Name: 698, dtype: int64"
   ]
  },
  {
   "cell_type": "markdown",
   "id": "ad90adbe",
   "metadata": {},
   "source": [
    "nombre_infected       957\n",
    "nombre_sain          2234\n",
    "nombre_exposed        498\n",
    "nombre_recovered    16311\n",
    "Name: 699, dtype: int64"
   ]
  },
  {
   "cell_type": "markdown",
   "id": "62717745",
   "metadata": {},
   "source": [
    "nombre_infected       954\n",
    "nombre_sain          2229\n",
    "nombre_exposed        500\n",
    "nombre_recovered    16317\n",
    "Name: 700, dtype: int64"
   ]
  },
  {
   "cell_type": "markdown",
   "id": "3c32c846",
   "metadata": {},
   "source": [
    "nombre_infected       932\n",
    "nombre_sain          2221\n",
    "nombre_exposed        504\n",
    "nombre_recovered    16343\n",
    "Name: 701, dtype: int64"
   ]
  },
  {
   "cell_type": "markdown",
   "id": "b2a83b2d",
   "metadata": {},
   "source": [
    "nombre_infected       942\n",
    "nombre_sain          2205\n",
    "nombre_exposed        511\n",
    "nombre_recovered    16342\n",
    "Name: 702, dtype: int64"
   ]
  },
  {
   "cell_type": "markdown",
   "id": "cc6392bb",
   "metadata": {},
   "source": [
    "nombre_infected       925\n",
    "nombre_sain          2232\n",
    "nombre_exposed        506\n",
    "nombre_recovered    16337\n",
    "Name: 703, dtype: int64"
   ]
  },
  {
   "cell_type": "markdown",
   "id": "10c104c0",
   "metadata": {},
   "source": [
    "nombre_infected       920\n",
    "nombre_sain          2220\n",
    "nombre_exposed        513\n",
    "nombre_recovered    16347\n",
    "Name: 704, dtype: int64"
   ]
  },
  {
   "cell_type": "markdown",
   "id": "d9f893f7",
   "metadata": {},
   "source": [
    "nombre_infected       930\n",
    "nombre_sain          2227\n",
    "nombre_exposed        500\n",
    "nombre_recovered    16343\n",
    "Name: 705, dtype: int64"
   ]
  },
  {
   "cell_type": "markdown",
   "id": "efbaa768",
   "metadata": {},
   "source": [
    "nombre_infected       932\n",
    "nombre_sain          2244\n",
    "nombre_exposed        502\n",
    "nombre_recovered    16322\n",
    "Name: 706, dtype: int64"
   ]
  },
  {
   "cell_type": "markdown",
   "id": "333b76e0",
   "metadata": {},
   "source": [
    "nombre_infected       919\n",
    "nombre_sain          2258\n",
    "nombre_exposed        483\n",
    "nombre_recovered    16340\n",
    "Name: 707, dtype: int64"
   ]
  },
  {
   "cell_type": "markdown",
   "id": "35a90e3a",
   "metadata": {},
   "source": [
    "nombre_infected       926\n",
    "nombre_sain          2266\n",
    "nombre_exposed        487\n",
    "nombre_recovered    16321\n",
    "Name: 708, dtype: int64"
   ]
  },
  {
   "cell_type": "markdown",
   "id": "cc4826ee",
   "metadata": {},
   "source": [
    "nombre_infected       903\n",
    "nombre_sain          2277\n",
    "nombre_exposed        486\n",
    "nombre_recovered    16334\n",
    "Name: 709, dtype: int64"
   ]
  },
  {
   "cell_type": "markdown",
   "id": "43fb4646",
   "metadata": {},
   "source": [
    "nombre_infected       890\n",
    "nombre_sain          2263\n",
    "nombre_exposed        514\n",
    "nombre_recovered    16333\n",
    "Name: 710, dtype: int64"
   ]
  },
  {
   "cell_type": "markdown",
   "id": "5af53865",
   "metadata": {},
   "source": [
    "nombre_infected       876\n",
    "nombre_sain          2265\n",
    "nombre_exposed        516\n",
    "nombre_recovered    16343\n",
    "Name: 711, dtype: int64"
   ]
  },
  {
   "cell_type": "markdown",
   "id": "30a189fa",
   "metadata": {},
   "source": [
    "nombre_infected       892\n",
    "nombre_sain          2267\n",
    "nombre_exposed        516\n",
    "nombre_recovered    16325\n",
    "Name: 712, dtype: int64"
   ]
  },
  {
   "cell_type": "markdown",
   "id": "b696208d",
   "metadata": {},
   "source": [
    "nombre_infected       896\n",
    "nombre_sain          2294\n",
    "nombre_exposed        513\n",
    "nombre_recovered    16297\n",
    "Name: 713, dtype: int64"
   ]
  },
  {
   "cell_type": "markdown",
   "id": "a3e175c5",
   "metadata": {},
   "source": [
    "nombre_infected       898\n",
    "nombre_sain          2335\n",
    "nombre_exposed        497\n",
    "nombre_recovered    16270\n",
    "Name: 714, dtype: int64"
   ]
  },
  {
   "cell_type": "markdown",
   "id": "f0e9a7a5",
   "metadata": {},
   "source": [
    "nombre_infected       904\n",
    "nombre_sain          2322\n",
    "nombre_exposed        525\n",
    "nombre_recovered    16249\n",
    "Name: 715, dtype: int64"
   ]
  },
  {
   "cell_type": "markdown",
   "id": "8e831994",
   "metadata": {},
   "source": [
    "nombre_infected       912\n",
    "nombre_sain          2323\n",
    "nombre_exposed        532\n",
    "nombre_recovered    16233\n",
    "Name: 716, dtype: int64"
   ]
  },
  {
   "cell_type": "markdown",
   "id": "ee262e0c",
   "metadata": {},
   "source": [
    "nombre_infected       937\n",
    "nombre_sain          2332\n",
    "nombre_exposed        526\n",
    "nombre_recovered    16205\n",
    "Name: 717, dtype: int64"
   ]
  },
  {
   "cell_type": "markdown",
   "id": "327cc8cb",
   "metadata": {},
   "source": [
    "nombre_infected       917\n",
    "nombre_sain          2330\n",
    "nombre_exposed        531\n",
    "nombre_recovered    16222\n",
    "Name: 718, dtype: int64"
   ]
  },
  {
   "cell_type": "markdown",
   "id": "0d69d07e",
   "metadata": {},
   "source": [
    "nombre_infected       944\n",
    "nombre_sain          2330\n",
    "nombre_exposed        539\n",
    "nombre_recovered    16187\n",
    "Name: 719, dtype: int64"
   ]
  },
  {
   "cell_type": "markdown",
   "id": "3248f418",
   "metadata": {},
   "source": [
    "nombre_infected       940\n",
    "nombre_sain          2340\n",
    "nombre_exposed        544\n",
    "nombre_recovered    16176\n",
    "Name: 720, dtype: int64"
   ]
  },
  {
   "cell_type": "markdown",
   "id": "4b381881",
   "metadata": {},
   "source": [
    "nombre_infected       932\n",
    "nombre_sain          2385\n",
    "nombre_exposed        531\n",
    "nombre_recovered    16152\n",
    "Name: 721, dtype: int64"
   ]
  },
  {
   "cell_type": "markdown",
   "id": "f916644c",
   "metadata": {},
   "source": [
    "nombre_infected       934\n",
    "nombre_sain          2395\n",
    "nombre_exposed        521\n",
    "nombre_recovered    16150\n",
    "Name: 722, dtype: int64"
   ]
  },
  {
   "cell_type": "markdown",
   "id": "a5fc400e",
   "metadata": {},
   "source": [
    "nombre_infected       940\n",
    "nombre_sain          2393\n",
    "nombre_exposed        542\n",
    "nombre_recovered    16125\n",
    "Name: 723, dtype: int64"
   ]
  },
  {
   "cell_type": "markdown",
   "id": "d3ee5192",
   "metadata": {},
   "source": [
    "nombre_infected       927\n",
    "nombre_sain          2386\n",
    "nombre_exposed        532\n",
    "nombre_recovered    16155\n",
    "Name: 724, dtype: int64"
   ]
  },
  {
   "cell_type": "markdown",
   "id": "5ac7286e",
   "metadata": {},
   "source": [
    "nombre_infected       932\n",
    "nombre_sain          2383\n",
    "nombre_exposed        521\n",
    "nombre_recovered    16164\n",
    "Name: 725, dtype: int64"
   ]
  },
  {
   "cell_type": "markdown",
   "id": "bb7668fb",
   "metadata": {},
   "source": [
    "nombre_infected       931\n",
    "nombre_sain          2372\n",
    "nombre_exposed        525\n",
    "nombre_recovered    16172\n",
    "Name: 726, dtype: int64"
   ]
  },
  {
   "cell_type": "markdown",
   "id": "d00c84b9",
   "metadata": {},
   "source": [
    "nombre_infected       910\n",
    "nombre_sain          2387\n",
    "nombre_exposed        541\n",
    "nombre_recovered    16162\n",
    "Name: 727, dtype: int64"
   ]
  },
  {
   "cell_type": "markdown",
   "id": "9eedae3e",
   "metadata": {},
   "source": [
    "nombre_infected       951\n",
    "nombre_sain          2382\n",
    "nombre_exposed        520\n",
    "nombre_recovered    16147\n",
    "Name: 728, dtype: int64"
   ]
  },
  {
   "cell_type": "markdown",
   "id": "b95d33a9",
   "metadata": {},
   "source": [
    "nombre_infected       965\n",
    "nombre_sain          2356\n",
    "nombre_exposed        535\n",
    "nombre_recovered    16144\n",
    "Name: 729, dtype: int64"
   ]
  },
  {
   "cell_type": "markdown",
   "id": "d6b1ea26",
   "metadata": {},
   "source": [
    "nombre_infected       942\n",
    "nombre_sain          2344\n",
    "nombre_exposed        545\n",
    "nombre_recovered    16169\n",
    "Name: 730, dtype: int64"
   ]
  }
 ],
 "metadata": {},
 "nbformat": 4,
 "nbformat_minor": 5
}
