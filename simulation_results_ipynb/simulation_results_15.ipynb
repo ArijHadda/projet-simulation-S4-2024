{
 "cells": [
  {
   "cell_type": "markdown",
   "id": "5097ecdd",
   "metadata": {},
   "source": [
    "nombre_infected        20\n",
    "nombre_sain         19980\n",
    "nombre_exposed          0\n",
    "nombre_recovered        0\n",
    "Name: 0, dtype: int64"
   ]
  },
  {
   "cell_type": "markdown",
   "id": "8f7d1d90",
   "metadata": {},
   "source": [
    "nombre_infected        20\n",
    "nombre_sain         19965\n",
    "nombre_exposed         15\n",
    "nombre_recovered        0\n",
    "Name: 1, dtype: int64"
   ]
  },
  {
   "cell_type": "markdown",
   "id": "0bfd3fd0",
   "metadata": {},
   "source": [
    "nombre_infected        20\n",
    "nombre_sain         19935\n",
    "nombre_exposed         45\n",
    "nombre_recovered        0\n",
    "Name: 2, dtype: int64"
   ]
  },
  {
   "cell_type": "markdown",
   "id": "f4e4c00c",
   "metadata": {},
   "source": [
    "nombre_infected        24\n",
    "nombre_sain         19899\n",
    "nombre_exposed         77\n",
    "nombre_recovered        0\n",
    "Name: 3, dtype: int64"
   ]
  },
  {
   "cell_type": "markdown",
   "id": "607ab45d",
   "metadata": {},
   "source": [
    "nombre_infected        35\n",
    "nombre_sain         19870\n",
    "nombre_exposed         95\n",
    "nombre_recovered        0\n",
    "Name: 4, dtype: int64"
   ]
  },
  {
   "cell_type": "markdown",
   "id": "2a79d6ae",
   "metadata": {},
   "source": [
    "nombre_infected        54\n",
    "nombre_sain         19814\n",
    "nombre_exposed        132\n",
    "nombre_recovered        0\n",
    "Name: 5, dtype: int64"
   ]
  },
  {
   "cell_type": "markdown",
   "id": "6b129f45",
   "metadata": {},
   "source": [
    "nombre_infected        73\n",
    "nombre_sain         19733\n",
    "nombre_exposed        189\n",
    "nombre_recovered        5\n",
    "Name: 6, dtype: int64"
   ]
  },
  {
   "cell_type": "markdown",
   "id": "8c254906",
   "metadata": {},
   "source": [
    "nombre_infected       109\n",
    "nombre_sain         19616\n",
    "nombre_exposed        269\n",
    "nombre_recovered        6\n",
    "Name: 7, dtype: int64"
   ]
  },
  {
   "cell_type": "markdown",
   "id": "f1f419dc",
   "metadata": {},
   "source": [
    "nombre_infected       122\n",
    "nombre_sain         19467\n",
    "nombre_exposed        377\n",
    "nombre_recovered       34\n",
    "Name: 8, dtype: int64"
   ]
  },
  {
   "cell_type": "markdown",
   "id": "ea52665d",
   "metadata": {},
   "source": [
    "nombre_infected       193\n",
    "nombre_sain         19263\n",
    "nombre_exposed        502\n",
    "nombre_recovered       42\n",
    "Name: 9, dtype: int64"
   ]
  },
  {
   "cell_type": "markdown",
   "id": "4aafde8d",
   "metadata": {},
   "source": [
    "nombre_infected       266\n",
    "nombre_sain         19020\n",
    "nombre_exposed        656\n",
    "nombre_recovered       58\n",
    "Name: 10, dtype: int64"
   ]
  },
  {
   "cell_type": "markdown",
   "id": "351ebba6",
   "metadata": {},
   "source": [
    "nombre_infected       361\n",
    "nombre_sain         18654\n",
    "nombre_exposed        903\n",
    "nombre_recovered       82\n",
    "Name: 11, dtype: int64"
   ]
  },
  {
   "cell_type": "markdown",
   "id": "b7f911c4",
   "metadata": {},
   "source": [
    "nombre_infected       470\n",
    "nombre_sain         18201\n",
    "nombre_exposed       1218\n",
    "nombre_recovered      111\n",
    "Name: 12, dtype: int64"
   ]
  },
  {
   "cell_type": "markdown",
   "id": "afc4e534",
   "metadata": {},
   "source": [
    "nombre_infected       620\n",
    "nombre_sain         17622\n",
    "nombre_exposed       1600\n",
    "nombre_recovered      158\n",
    "Name: 13, dtype: int64"
   ]
  },
  {
   "cell_type": "markdown",
   "id": "fb49a5fe",
   "metadata": {},
   "source": [
    "nombre_infected       856\n",
    "nombre_sain         16918\n",
    "nombre_exposed       2020\n",
    "nombre_recovered      206\n",
    "Name: 14, dtype: int64"
   ]
  },
  {
   "cell_type": "markdown",
   "id": "481d568c",
   "metadata": {},
   "source": [
    "nombre_infected      1195\n",
    "nombre_sain         15908\n",
    "nombre_exposed       2621\n",
    "nombre_recovered      276\n",
    "Name: 15, dtype: int64"
   ]
  },
  {
   "cell_type": "markdown",
   "id": "6e4bcfe9",
   "metadata": {},
   "source": [
    "nombre_infected      1551\n",
    "nombre_sain         14713\n",
    "nombre_exposed       3365\n",
    "nombre_recovered      371\n",
    "Name: 16, dtype: int64"
   ]
  },
  {
   "cell_type": "markdown",
   "id": "8be28167",
   "metadata": {},
   "source": [
    "nombre_infected      2047\n",
    "nombre_sain         13235\n",
    "nombre_exposed       4223\n",
    "nombre_recovered      495\n",
    "Name: 17, dtype: int64"
   ]
  },
  {
   "cell_type": "markdown",
   "id": "1c206c87",
   "metadata": {},
   "source": [
    "nombre_infected      2657\n",
    "nombre_sain         11611\n",
    "nombre_exposed       5066\n",
    "nombre_recovered      666\n",
    "Name: 18, dtype: int64"
   ]
  },
  {
   "cell_type": "markdown",
   "id": "c509a701",
   "metadata": {},
   "source": [
    "nombre_infected     3457\n",
    "nombre_sain         9765\n",
    "nombre_exposed      5906\n",
    "nombre_recovered     872\n",
    "Name: 19, dtype: int64"
   ]
  },
  {
   "cell_type": "markdown",
   "id": "6e8bad5f",
   "metadata": {},
   "source": [
    "nombre_infected     4344\n",
    "nombre_sain         7941\n",
    "nombre_exposed      6563\n",
    "nombre_recovered    1152\n",
    "Name: 20, dtype: int64"
   ]
  },
  {
   "cell_type": "markdown",
   "id": "f96bc889",
   "metadata": {},
   "source": [
    "nombre_infected     5298\n",
    "nombre_sain         6251\n",
    "nombre_exposed      6935\n",
    "nombre_recovered    1516\n",
    "Name: 21, dtype: int64"
   ]
  },
  {
   "cell_type": "markdown",
   "id": "e23092d3",
   "metadata": {},
   "source": [
    "nombre_infected     6360\n",
    "nombre_sain         4633\n",
    "nombre_exposed      7046\n",
    "nombre_recovered    1961\n",
    "Name: 22, dtype: int64"
   ]
  },
  {
   "cell_type": "markdown",
   "id": "b4e95c22",
   "metadata": {},
   "source": [
    "nombre_infected     7314\n",
    "nombre_sain         3377\n",
    "nombre_exposed      6740\n",
    "nombre_recovered    2569\n",
    "Name: 23, dtype: int64"
   ]
  },
  {
   "cell_type": "markdown",
   "id": "c9e5852c",
   "metadata": {},
   "source": [
    "nombre_infected     8234\n",
    "nombre_sain         2396\n",
    "nombre_exposed      6108\n",
    "nombre_recovered    3262\n",
    "Name: 24, dtype: int64"
   ]
  },
  {
   "cell_type": "markdown",
   "id": "30460c31",
   "metadata": {},
   "source": [
    "nombre_infected     8952\n",
    "nombre_sain         1629\n",
    "nombre_exposed      5364\n",
    "nombre_recovered    4055\n",
    "Name: 25, dtype: int64"
   ]
  },
  {
   "cell_type": "markdown",
   "id": "8a0a2989",
   "metadata": {},
   "source": [
    "nombre_infected     9299\n",
    "nombre_sain         1100\n",
    "nombre_exposed      4588\n",
    "nombre_recovered    5013\n",
    "Name: 26, dtype: int64"
   ]
  },
  {
   "cell_type": "markdown",
   "id": "9003ddbf",
   "metadata": {},
   "source": [
    "nombre_infected     9370\n",
    "nombre_sain          707\n",
    "nombre_exposed      3894\n",
    "nombre_recovered    6029\n",
    "Name: 27, dtype: int64"
   ]
  },
  {
   "cell_type": "markdown",
   "id": "0e00757b",
   "metadata": {},
   "source": [
    "nombre_infected     9295\n",
    "nombre_sain          488\n",
    "nombre_exposed      3194\n",
    "nombre_recovered    7023\n",
    "Name: 28, dtype: int64"
   ]
  },
  {
   "cell_type": "markdown",
   "id": "0c61cc6e",
   "metadata": {},
   "source": [
    "nombre_infected     9015\n",
    "nombre_sain          342\n",
    "nombre_exposed      2581\n",
    "nombre_recovered    8062\n",
    "Name: 29, dtype: int64"
   ]
  },
  {
   "cell_type": "markdown",
   "id": "c5e96d58",
   "metadata": {},
   "source": [
    "nombre_infected     8723\n",
    "nombre_sain          257\n",
    "nombre_exposed      2024\n",
    "nombre_recovered    8996\n",
    "Name: 30, dtype: int64"
   ]
  },
  {
   "cell_type": "markdown",
   "id": "cee57fa3",
   "metadata": {},
   "source": [
    "nombre_infected     8245\n",
    "nombre_sain          201\n",
    "nombre_exposed      1575\n",
    "nombre_recovered    9979\n",
    "Name: 31, dtype: int64"
   ]
  },
  {
   "cell_type": "markdown",
   "id": "8b3066c7",
   "metadata": {},
   "source": [
    "nombre_infected      7668\n",
    "nombre_sain           174\n",
    "nombre_exposed       1239\n",
    "nombre_recovered    10919\n",
    "Name: 32, dtype: int64"
   ]
  },
  {
   "cell_type": "markdown",
   "id": "b2eaa2c9",
   "metadata": {},
   "source": [
    "nombre_infected      7102\n",
    "nombre_sain           147\n",
    "nombre_exposed        973\n",
    "nombre_recovered    11778\n",
    "Name: 33, dtype: int64"
   ]
  },
  {
   "cell_type": "markdown",
   "id": "247ae138",
   "metadata": {},
   "source": [
    "nombre_infected      6468\n",
    "nombre_sain           135\n",
    "nombre_exposed        760\n",
    "nombre_recovered    12637\n",
    "Name: 34, dtype: int64"
   ]
  },
  {
   "cell_type": "markdown",
   "id": "15d8e7c3",
   "metadata": {},
   "source": [
    "nombre_infected      5898\n",
    "nombre_sain           136\n",
    "nombre_exposed        608\n",
    "nombre_recovered    13358\n",
    "Name: 35, dtype: int64"
   ]
  },
  {
   "cell_type": "markdown",
   "id": "3562d4ee",
   "metadata": {},
   "source": [
    "nombre_infected      5301\n",
    "nombre_sain           138\n",
    "nombre_exposed        483\n",
    "nombre_recovered    14078\n",
    "Name: 36, dtype: int64"
   ]
  },
  {
   "cell_type": "markdown",
   "id": "79eeb1a6",
   "metadata": {},
   "source": [
    "nombre_infected      4783\n",
    "nombre_sain           137\n",
    "nombre_exposed        387\n",
    "nombre_recovered    14693\n",
    "Name: 37, dtype: int64"
   ]
  },
  {
   "cell_type": "markdown",
   "id": "5241fbc1",
   "metadata": {},
   "source": [
    "nombre_infected      4287\n",
    "nombre_sain           131\n",
    "nombre_exposed        314\n",
    "nombre_recovered    15268\n",
    "Name: 38, dtype: int64"
   ]
  },
  {
   "cell_type": "markdown",
   "id": "d7833a61",
   "metadata": {},
   "source": [
    "nombre_infected      3816\n",
    "nombre_sain           150\n",
    "nombre_exposed        258\n",
    "nombre_recovered    15776\n",
    "Name: 39, dtype: int64"
   ]
  },
  {
   "cell_type": "markdown",
   "id": "35d32a7d",
   "metadata": {},
   "source": [
    "nombre_infected      3408\n",
    "nombre_sain           168\n",
    "nombre_exposed        221\n",
    "nombre_recovered    16203\n",
    "Name: 40, dtype: int64"
   ]
  },
  {
   "cell_type": "markdown",
   "id": "f6d71a3d",
   "metadata": {},
   "source": [
    "nombre_infected      3068\n",
    "nombre_sain           178\n",
    "nombre_exposed        192\n",
    "nombre_recovered    16562\n",
    "Name: 41, dtype: int64"
   ]
  },
  {
   "cell_type": "markdown",
   "id": "44872db9",
   "metadata": {},
   "source": [
    "nombre_infected      2724\n",
    "nombre_sain           195\n",
    "nombre_exposed        164\n",
    "nombre_recovered    16917\n",
    "Name: 42, dtype: int64"
   ]
  },
  {
   "cell_type": "markdown",
   "id": "294300f6",
   "metadata": {},
   "source": [
    "nombre_infected      2417\n",
    "nombre_sain           217\n",
    "nombre_exposed        145\n",
    "nombre_recovered    17221\n",
    "Name: 43, dtype: int64"
   ]
  },
  {
   "cell_type": "markdown",
   "id": "ba80738b",
   "metadata": {},
   "source": [
    "nombre_infected      2115\n",
    "nombre_sain           237\n",
    "nombre_exposed        127\n",
    "nombre_recovered    17521\n",
    "Name: 44, dtype: int64"
   ]
  },
  {
   "cell_type": "markdown",
   "id": "c48e8d4c",
   "metadata": {},
   "source": [
    "nombre_infected      1870\n",
    "nombre_sain           289\n",
    "nombre_exposed        113\n",
    "nombre_recovered    17728\n",
    "Name: 45, dtype: int64"
   ]
  },
  {
   "cell_type": "markdown",
   "id": "1ac76a18",
   "metadata": {},
   "source": [
    "nombre_infected      1642\n",
    "nombre_sain           323\n",
    "nombre_exposed        103\n",
    "nombre_recovered    17932\n",
    "Name: 46, dtype: int64"
   ]
  },
  {
   "cell_type": "markdown",
   "id": "0bd87432",
   "metadata": {},
   "source": [
    "nombre_infected      1463\n",
    "nombre_sain           356\n",
    "nombre_exposed        104\n",
    "nombre_recovered    18077\n",
    "Name: 47, dtype: int64"
   ]
  },
  {
   "cell_type": "markdown",
   "id": "44e25453",
   "metadata": {},
   "source": [
    "nombre_infected      1286\n",
    "nombre_sain           403\n",
    "nombre_exposed        102\n",
    "nombre_recovered    18209\n",
    "Name: 48, dtype: int64"
   ]
  },
  {
   "cell_type": "markdown",
   "id": "6edb2273",
   "metadata": {},
   "source": [
    "nombre_infected      1132\n",
    "nombre_sain           436\n",
    "nombre_exposed         97\n",
    "nombre_recovered    18335\n",
    "Name: 49, dtype: int64"
   ]
  },
  {
   "cell_type": "markdown",
   "id": "4b4b0a97",
   "metadata": {},
   "source": [
    "nombre_infected      1006\n",
    "nombre_sain           493\n",
    "nombre_exposed         92\n",
    "nombre_recovered    18409\n",
    "Name: 50, dtype: int64"
   ]
  },
  {
   "cell_type": "markdown",
   "id": "39870a07",
   "metadata": {},
   "source": [
    "nombre_infected       881\n",
    "nombre_sain           533\n",
    "nombre_exposed         86\n",
    "nombre_recovered    18500\n",
    "Name: 51, dtype: int64"
   ]
  },
  {
   "cell_type": "markdown",
   "id": "ea77c16c",
   "metadata": {},
   "source": [
    "nombre_infected       789\n",
    "nombre_sain           556\n",
    "nombre_exposed         81\n",
    "nombre_recovered    18574\n",
    "Name: 52, dtype: int64"
   ]
  },
  {
   "cell_type": "markdown",
   "id": "e7903ca7",
   "metadata": {},
   "source": [
    "nombre_infected       719\n",
    "nombre_sain           591\n",
    "nombre_exposed         71\n",
    "nombre_recovered    18619\n",
    "Name: 53, dtype: int64"
   ]
  },
  {
   "cell_type": "markdown",
   "id": "81dec9b4",
   "metadata": {},
   "source": [
    "nombre_infected       655\n",
    "nombre_sain           628\n",
    "nombre_exposed         62\n",
    "nombre_recovered    18655\n",
    "Name: 54, dtype: int64"
   ]
  },
  {
   "cell_type": "markdown",
   "id": "8f822997",
   "metadata": {},
   "source": [
    "nombre_infected       588\n",
    "nombre_sain           653\n",
    "nombre_exposed         59\n",
    "nombre_recovered    18700\n",
    "Name: 55, dtype: int64"
   ]
  },
  {
   "cell_type": "markdown",
   "id": "f2ff0728",
   "metadata": {},
   "source": [
    "nombre_infected       522\n",
    "nombre_sain           670\n",
    "nombre_exposed         67\n",
    "nombre_recovered    18741\n",
    "Name: 56, dtype: int64"
   ]
  },
  {
   "cell_type": "markdown",
   "id": "e8555db2",
   "metadata": {},
   "source": [
    "nombre_infected       478\n",
    "nombre_sain           702\n",
    "nombre_exposed         64\n",
    "nombre_recovered    18756\n",
    "Name: 57, dtype: int64"
   ]
  },
  {
   "cell_type": "markdown",
   "id": "075a92a6",
   "metadata": {},
   "source": [
    "nombre_infected       421\n",
    "nombre_sain           731\n",
    "nombre_exposed         64\n",
    "nombre_recovered    18784\n",
    "Name: 58, dtype: int64"
   ]
  },
  {
   "cell_type": "markdown",
   "id": "4c2d7986",
   "metadata": {},
   "source": [
    "nombre_infected       374\n",
    "nombre_sain           763\n",
    "nombre_exposed         53\n",
    "nombre_recovered    18810\n",
    "Name: 59, dtype: int64"
   ]
  },
  {
   "cell_type": "markdown",
   "id": "7a9959a9",
   "metadata": {},
   "source": [
    "nombre_infected       331\n",
    "nombre_sain           787\n",
    "nombre_exposed         52\n",
    "nombre_recovered    18830\n",
    "Name: 60, dtype: int64"
   ]
  },
  {
   "cell_type": "markdown",
   "id": "af45636c",
   "metadata": {},
   "source": [
    "nombre_infected       299\n",
    "nombre_sain           813\n",
    "nombre_exposed         45\n",
    "nombre_recovered    18843\n",
    "Name: 61, dtype: int64"
   ]
  },
  {
   "cell_type": "markdown",
   "id": "1717dff8",
   "metadata": {},
   "source": [
    "nombre_infected       274\n",
    "nombre_sain           836\n",
    "nombre_exposed         52\n",
    "nombre_recovered    18838\n",
    "Name: 62, dtype: int64"
   ]
  },
  {
   "cell_type": "markdown",
   "id": "8c7c3a96",
   "metadata": {},
   "source": [
    "nombre_infected       252\n",
    "nombre_sain           887\n",
    "nombre_exposed         48\n",
    "nombre_recovered    18813\n",
    "Name: 63, dtype: int64"
   ]
  },
  {
   "cell_type": "markdown",
   "id": "dcdaf563",
   "metadata": {},
   "source": [
    "nombre_infected       236\n",
    "nombre_sain           913\n",
    "nombre_exposed         39\n",
    "nombre_recovered    18812\n",
    "Name: 64, dtype: int64"
   ]
  },
  {
   "cell_type": "markdown",
   "id": "6841abce",
   "metadata": {},
   "source": [
    "nombre_infected       224\n",
    "nombre_sain           949\n",
    "nombre_exposed         24\n",
    "nombre_recovered    18803\n",
    "Name: 65, dtype: int64"
   ]
  },
  {
   "cell_type": "markdown",
   "id": "ee70a669",
   "metadata": {},
   "source": [
    "nombre_infected       200\n",
    "nombre_sain           990\n",
    "nombre_exposed         29\n",
    "nombre_recovered    18781\n",
    "Name: 66, dtype: int64"
   ]
  },
  {
   "cell_type": "markdown",
   "id": "b68692e9",
   "metadata": {},
   "source": [
    "nombre_infected       182\n",
    "nombre_sain          1031\n",
    "nombre_exposed         34\n",
    "nombre_recovered    18753\n",
    "Name: 67, dtype: int64"
   ]
  },
  {
   "cell_type": "markdown",
   "id": "05baeb25",
   "metadata": {},
   "source": [
    "nombre_infected       156\n",
    "nombre_sain          1086\n",
    "nombre_exposed         37\n",
    "nombre_recovered    18721\n",
    "Name: 68, dtype: int64"
   ]
  },
  {
   "cell_type": "markdown",
   "id": "4e1eef55",
   "metadata": {},
   "source": [
    "nombre_infected       146\n",
    "nombre_sain          1131\n",
    "nombre_exposed         34\n",
    "nombre_recovered    18689\n",
    "Name: 69, dtype: int64"
   ]
  },
  {
   "cell_type": "markdown",
   "id": "515d6b9a",
   "metadata": {},
   "source": [
    "nombre_infected       134\n",
    "nombre_sain          1169\n",
    "nombre_exposed         37\n",
    "nombre_recovered    18660\n",
    "Name: 70, dtype: int64"
   ]
  },
  {
   "cell_type": "markdown",
   "id": "f92b081f",
   "metadata": {},
   "source": [
    "nombre_infected       123\n",
    "nombre_sain          1219\n",
    "nombre_exposed         38\n",
    "nombre_recovered    18620\n",
    "Name: 71, dtype: int64"
   ]
  },
  {
   "cell_type": "markdown",
   "id": "ddaa4257",
   "metadata": {},
   "source": [
    "nombre_infected       119\n",
    "nombre_sain          1288\n",
    "nombre_exposed         28\n",
    "nombre_recovered    18565\n",
    "Name: 72, dtype: int64"
   ]
  },
  {
   "cell_type": "markdown",
   "id": "1678fafa",
   "metadata": {},
   "source": [
    "nombre_infected       119\n",
    "nombre_sain          1332\n",
    "nombre_exposed         30\n",
    "nombre_recovered    18519\n",
    "Name: 73, dtype: int64"
   ]
  },
  {
   "cell_type": "markdown",
   "id": "59e94c06",
   "metadata": {},
   "source": [
    "nombre_infected       112\n",
    "nombre_sain          1388\n",
    "nombre_exposed         28\n",
    "nombre_recovered    18472\n",
    "Name: 74, dtype: int64"
   ]
  },
  {
   "cell_type": "markdown",
   "id": "f6b89ca6",
   "metadata": {},
   "source": [
    "nombre_infected       102\n",
    "nombre_sain          1433\n",
    "nombre_exposed         33\n",
    "nombre_recovered    18432\n",
    "Name: 75, dtype: int64"
   ]
  },
  {
   "cell_type": "markdown",
   "id": "ac299c65",
   "metadata": {},
   "source": [
    "nombre_infected        96\n",
    "nombre_sain          1489\n",
    "nombre_exposed         34\n",
    "nombre_recovered    18381\n",
    "Name: 76, dtype: int64"
   ]
  },
  {
   "cell_type": "markdown",
   "id": "10aed7d5",
   "metadata": {},
   "source": [
    "nombre_infected        87\n",
    "nombre_sain          1557\n",
    "nombre_exposed         35\n",
    "nombre_recovered    18321\n",
    "Name: 77, dtype: int64"
   ]
  },
  {
   "cell_type": "markdown",
   "id": "cce36257",
   "metadata": {},
   "source": [
    "nombre_infected        91\n",
    "nombre_sain          1622\n",
    "nombre_exposed         29\n",
    "nombre_recovered    18258\n",
    "Name: 78, dtype: int64"
   ]
  },
  {
   "cell_type": "markdown",
   "id": "143fb281",
   "metadata": {},
   "source": [
    "nombre_infected        95\n",
    "nombre_sain          1709\n",
    "nombre_exposed         28\n",
    "nombre_recovered    18168\n",
    "Name: 79, dtype: int64"
   ]
  },
  {
   "cell_type": "markdown",
   "id": "33f05927",
   "metadata": {},
   "source": [
    "nombre_infected        97\n",
    "nombre_sain          1776\n",
    "nombre_exposed         29\n",
    "nombre_recovered    18098\n",
    "Name: 80, dtype: int64"
   ]
  },
  {
   "cell_type": "markdown",
   "id": "a392b525",
   "metadata": {},
   "source": [
    "nombre_infected        93\n",
    "nombre_sain          1850\n",
    "nombre_exposed         33\n",
    "nombre_recovered    18024\n",
    "Name: 81, dtype: int64"
   ]
  },
  {
   "cell_type": "markdown",
   "id": "d0340c99",
   "metadata": {},
   "source": [
    "nombre_infected        93\n",
    "nombre_sain          1897\n",
    "nombre_exposed         34\n",
    "nombre_recovered    17976\n",
    "Name: 82, dtype: int64"
   ]
  },
  {
   "cell_type": "markdown",
   "id": "de2d82e1",
   "metadata": {},
   "source": [
    "nombre_infected        85\n",
    "nombre_sain          1936\n",
    "nombre_exposed         36\n",
    "nombre_recovered    17943\n",
    "Name: 83, dtype: int64"
   ]
  },
  {
   "cell_type": "markdown",
   "id": "13988936",
   "metadata": {},
   "source": [
    "nombre_infected        86\n",
    "nombre_sain          1989\n",
    "nombre_exposed         34\n",
    "nombre_recovered    17891\n",
    "Name: 84, dtype: int64"
   ]
  },
  {
   "cell_type": "markdown",
   "id": "68924f65",
   "metadata": {},
   "source": [
    "nombre_infected        84\n",
    "nombre_sain          2046\n",
    "nombre_exposed         34\n",
    "nombre_recovered    17836\n",
    "Name: 85, dtype: int64"
   ]
  },
  {
   "cell_type": "markdown",
   "id": "fb59fe0a",
   "metadata": {},
   "source": [
    "nombre_infected        85\n",
    "nombre_sain          2097\n",
    "nombre_exposed         28\n",
    "nombre_recovered    17790\n",
    "Name: 86, dtype: int64"
   ]
  },
  {
   "cell_type": "markdown",
   "id": "7c173313",
   "metadata": {},
   "source": [
    "nombre_infected        86\n",
    "nombre_sain          2158\n",
    "nombre_exposed         28\n",
    "nombre_recovered    17728\n",
    "Name: 87, dtype: int64"
   ]
  },
  {
   "cell_type": "markdown",
   "id": "863b91a7",
   "metadata": {},
   "source": [
    "nombre_infected        89\n",
    "nombre_sain          2220\n",
    "nombre_exposed         29\n",
    "nombre_recovered    17662\n",
    "Name: 88, dtype: int64"
   ]
  },
  {
   "cell_type": "markdown",
   "id": "58dbec23",
   "metadata": {},
   "source": [
    "nombre_infected        85\n",
    "nombre_sain          2268\n",
    "nombre_exposed         32\n",
    "nombre_recovered    17615\n",
    "Name: 89, dtype: int64"
   ]
  },
  {
   "cell_type": "markdown",
   "id": "5aa9aa50",
   "metadata": {},
   "source": [
    "nombre_infected        89\n",
    "nombre_sain          2304\n",
    "nombre_exposed         31\n",
    "nombre_recovered    17576\n",
    "Name: 90, dtype: int64"
   ]
  },
  {
   "cell_type": "markdown",
   "id": "23cc8c5c",
   "metadata": {},
   "source": [
    "nombre_infected        85\n",
    "nombre_sain          2365\n",
    "nombre_exposed         39\n",
    "nombre_recovered    17511\n",
    "Name: 91, dtype: int64"
   ]
  },
  {
   "cell_type": "markdown",
   "id": "4d6d3d44",
   "metadata": {},
   "source": [
    "nombre_infected        85\n",
    "nombre_sain          2416\n",
    "nombre_exposed         40\n",
    "nombre_recovered    17459\n",
    "Name: 92, dtype: int64"
   ]
  },
  {
   "cell_type": "markdown",
   "id": "ba6680a4",
   "metadata": {},
   "source": [
    "nombre_infected        84\n",
    "nombre_sain          2469\n",
    "nombre_exposed         43\n",
    "nombre_recovered    17404\n",
    "Name: 93, dtype: int64"
   ]
  },
  {
   "cell_type": "markdown",
   "id": "00f03264",
   "metadata": {},
   "source": [
    "nombre_infected        83\n",
    "nombre_sain          2523\n",
    "nombre_exposed         50\n",
    "nombre_recovered    17344\n",
    "Name: 94, dtype: int64"
   ]
  },
  {
   "cell_type": "markdown",
   "id": "dff4fa6a",
   "metadata": {},
   "source": [
    "nombre_infected        80\n",
    "nombre_sain          2570\n",
    "nombre_exposed         51\n",
    "nombre_recovered    17299\n",
    "Name: 95, dtype: int64"
   ]
  },
  {
   "cell_type": "markdown",
   "id": "e9fcc0ce",
   "metadata": {},
   "source": [
    "nombre_infected        89\n",
    "nombre_sain          2619\n",
    "nombre_exposed         44\n",
    "nombre_recovered    17248\n",
    "Name: 96, dtype: int64"
   ]
  },
  {
   "cell_type": "markdown",
   "id": "c4cd97eb",
   "metadata": {},
   "source": [
    "nombre_infected        92\n",
    "nombre_sain          2661\n",
    "nombre_exposed         49\n",
    "nombre_recovered    17198\n",
    "Name: 97, dtype: int64"
   ]
  },
  {
   "cell_type": "markdown",
   "id": "0db3bfdc",
   "metadata": {},
   "source": [
    "nombre_infected        94\n",
    "nombre_sain          2701\n",
    "nombre_exposed         53\n",
    "nombre_recovered    17152\n",
    "Name: 98, dtype: int64"
   ]
  },
  {
   "cell_type": "markdown",
   "id": "af3ce6cc",
   "metadata": {},
   "source": [
    "nombre_infected        93\n",
    "nombre_sain          2742\n",
    "nombre_exposed         53\n",
    "nombre_recovered    17112\n",
    "Name: 99, dtype: int64"
   ]
  },
  {
   "cell_type": "markdown",
   "id": "ef61ae7e",
   "metadata": {},
   "source": [
    "nombre_infected       100\n",
    "nombre_sain          2768\n",
    "nombre_exposed         49\n",
    "nombre_recovered    17083\n",
    "Name: 100, dtype: int64"
   ]
  },
  {
   "cell_type": "markdown",
   "id": "e49c7295",
   "metadata": {},
   "source": [
    "nombre_infected       103\n",
    "nombre_sain          2808\n",
    "nombre_exposed         47\n",
    "nombre_recovered    17042\n",
    "Name: 101, dtype: int64"
   ]
  },
  {
   "cell_type": "markdown",
   "id": "de262ce2",
   "metadata": {},
   "source": [
    "nombre_infected       103\n",
    "nombre_sain          2828\n",
    "nombre_exposed         52\n",
    "nombre_recovered    17017\n",
    "Name: 102, dtype: int64"
   ]
  },
  {
   "cell_type": "markdown",
   "id": "f48edc99",
   "metadata": {},
   "source": [
    "nombre_infected       102\n",
    "nombre_sain          2840\n",
    "nombre_exposed         64\n",
    "nombre_recovered    16994\n",
    "Name: 103, dtype: int64"
   ]
  },
  {
   "cell_type": "markdown",
   "id": "46ed5eec",
   "metadata": {},
   "source": [
    "nombre_infected       104\n",
    "nombre_sain          2874\n",
    "nombre_exposed         63\n",
    "nombre_recovered    16959\n",
    "Name: 104, dtype: int64"
   ]
  },
  {
   "cell_type": "markdown",
   "id": "0fe8aff2",
   "metadata": {},
   "source": [
    "nombre_infected       116\n",
    "nombre_sain          2900\n",
    "nombre_exposed         63\n",
    "nombre_recovered    16921\n",
    "Name: 105, dtype: int64"
   ]
  },
  {
   "cell_type": "markdown",
   "id": "c141f5b9",
   "metadata": {},
   "source": [
    "nombre_infected       119\n",
    "nombre_sain          2920\n",
    "nombre_exposed         75\n",
    "nombre_recovered    16886\n",
    "Name: 106, dtype: int64"
   ]
  },
  {
   "cell_type": "markdown",
   "id": "5d2e71f5",
   "metadata": {},
   "source": [
    "nombre_infected       124\n",
    "nombre_sain          2939\n",
    "nombre_exposed         76\n",
    "nombre_recovered    16861\n",
    "Name: 107, dtype: int64"
   ]
  },
  {
   "cell_type": "markdown",
   "id": "89f53b3e",
   "metadata": {},
   "source": [
    "nombre_infected       138\n",
    "nombre_sain          2963\n",
    "nombre_exposed         73\n",
    "nombre_recovered    16826\n",
    "Name: 108, dtype: int64"
   ]
  },
  {
   "cell_type": "markdown",
   "id": "cb368b09",
   "metadata": {},
   "source": [
    "nombre_infected       139\n",
    "nombre_sain          2976\n",
    "nombre_exposed         74\n",
    "nombre_recovered    16811\n",
    "Name: 109, dtype: int64"
   ]
  },
  {
   "cell_type": "markdown",
   "id": "6e40672a",
   "metadata": {},
   "source": [
    "nombre_infected       161\n",
    "nombre_sain          2998\n",
    "nombre_exposed         64\n",
    "nombre_recovered    16777\n",
    "Name: 110, dtype: int64"
   ]
  },
  {
   "cell_type": "markdown",
   "id": "b084e222",
   "metadata": {},
   "source": [
    "nombre_infected       165\n",
    "nombre_sain          3010\n",
    "nombre_exposed         79\n",
    "nombre_recovered    16746\n",
    "Name: 111, dtype: int64"
   ]
  },
  {
   "cell_type": "markdown",
   "id": "044ccbcb",
   "metadata": {},
   "source": [
    "nombre_infected       157\n",
    "nombre_sain          3030\n",
    "nombre_exposed         91\n",
    "nombre_recovered    16722\n",
    "Name: 112, dtype: int64"
   ]
  },
  {
   "cell_type": "markdown",
   "id": "73a643a3",
   "metadata": {},
   "source": [
    "nombre_infected       160\n",
    "nombre_sain          3045\n",
    "nombre_exposed         93\n",
    "nombre_recovered    16702\n",
    "Name: 113, dtype: int64"
   ]
  },
  {
   "cell_type": "markdown",
   "id": "7ece03b1",
   "metadata": {},
   "source": [
    "nombre_infected       173\n",
    "nombre_sain          3067\n",
    "nombre_exposed        100\n",
    "nombre_recovered    16660\n",
    "Name: 114, dtype: int64"
   ]
  },
  {
   "cell_type": "markdown",
   "id": "b173a53f",
   "metadata": {},
   "source": [
    "nombre_infected       172\n",
    "nombre_sain          3100\n",
    "nombre_exposed        106\n",
    "nombre_recovered    16622\n",
    "Name: 115, dtype: int64"
   ]
  },
  {
   "cell_type": "markdown",
   "id": "f663447d",
   "metadata": {},
   "source": [
    "nombre_infected       195\n",
    "nombre_sain          3106\n",
    "nombre_exposed        110\n",
    "nombre_recovered    16589\n",
    "Name: 116, dtype: int64"
   ]
  },
  {
   "cell_type": "markdown",
   "id": "f6f28d17",
   "metadata": {},
   "source": [
    "nombre_infected       196\n",
    "nombre_sain          3128\n",
    "nombre_exposed        113\n",
    "nombre_recovered    16563\n",
    "Name: 117, dtype: int64"
   ]
  },
  {
   "cell_type": "markdown",
   "id": "e1dbbf8f",
   "metadata": {},
   "source": [
    "nombre_infected       208\n",
    "nombre_sain          3107\n",
    "nombre_exposed        132\n",
    "nombre_recovered    16553\n",
    "Name: 118, dtype: int64"
   ]
  },
  {
   "cell_type": "markdown",
   "id": "aae4eb09",
   "metadata": {},
   "source": [
    "nombre_infected       214\n",
    "nombre_sain          3103\n",
    "nombre_exposed        152\n",
    "nombre_recovered    16531\n",
    "Name: 119, dtype: int64"
   ]
  },
  {
   "cell_type": "markdown",
   "id": "911efdb9",
   "metadata": {},
   "source": [
    "nombre_infected       232\n",
    "nombre_sain          3104\n",
    "nombre_exposed        158\n",
    "nombre_recovered    16506\n",
    "Name: 120, dtype: int64"
   ]
  },
  {
   "cell_type": "markdown",
   "id": "bfaf19b1",
   "metadata": {},
   "source": [
    "nombre_infected       252\n",
    "nombre_sain          3126\n",
    "nombre_exposed        145\n",
    "nombre_recovered    16477\n",
    "Name: 121, dtype: int64"
   ]
  },
  {
   "cell_type": "markdown",
   "id": "9c6d0b26",
   "metadata": {},
   "source": [
    "nombre_infected       274\n",
    "nombre_sain          3134\n",
    "nombre_exposed        149\n",
    "nombre_recovered    16443\n",
    "Name: 122, dtype: int64"
   ]
  },
  {
   "cell_type": "markdown",
   "id": "6f9cddf0",
   "metadata": {},
   "source": [
    "nombre_infected       290\n",
    "nombre_sain          3149\n",
    "nombre_exposed        151\n",
    "nombre_recovered    16410\n",
    "Name: 123, dtype: int64"
   ]
  },
  {
   "cell_type": "markdown",
   "id": "5592855d",
   "metadata": {},
   "source": [
    "nombre_infected       288\n",
    "nombre_sain          3158\n",
    "nombre_exposed        175\n",
    "nombre_recovered    16379\n",
    "Name: 124, dtype: int64"
   ]
  },
  {
   "cell_type": "markdown",
   "id": "6c21cea2",
   "metadata": {},
   "source": [
    "nombre_infected       299\n",
    "nombre_sain          3159\n",
    "nombre_exposed        197\n",
    "nombre_recovered    16345\n",
    "Name: 125, dtype: int64"
   ]
  },
  {
   "cell_type": "markdown",
   "id": "af5b8ad0",
   "metadata": {},
   "source": [
    "nombre_infected       301\n",
    "nombre_sain          3159\n",
    "nombre_exposed        220\n",
    "nombre_recovered    16320\n",
    "Name: 126, dtype: int64"
   ]
  },
  {
   "cell_type": "markdown",
   "id": "14928fea",
   "metadata": {},
   "source": [
    "nombre_infected       324\n",
    "nombre_sain          3173\n",
    "nombre_exposed        217\n",
    "nombre_recovered    16286\n",
    "Name: 127, dtype: int64"
   ]
  },
  {
   "cell_type": "markdown",
   "id": "17f27880",
   "metadata": {},
   "source": [
    "nombre_infected       343\n",
    "nombre_sain          3183\n",
    "nombre_exposed        228\n",
    "nombre_recovered    16246\n",
    "Name: 128, dtype: int64"
   ]
  },
  {
   "cell_type": "markdown",
   "id": "6aa454ae",
   "metadata": {},
   "source": [
    "nombre_infected       375\n",
    "nombre_sain          3160\n",
    "nombre_exposed        239\n",
    "nombre_recovered    16226\n",
    "Name: 129, dtype: int64"
   ]
  },
  {
   "cell_type": "markdown",
   "id": "60195b8c",
   "metadata": {},
   "source": [
    "nombre_infected       382\n",
    "nombre_sain          3149\n",
    "nombre_exposed        257\n",
    "nombre_recovered    16212\n",
    "Name: 130, dtype: int64"
   ]
  },
  {
   "cell_type": "markdown",
   "id": "3600d38d",
   "metadata": {},
   "source": [
    "nombre_infected       419\n",
    "nombre_sain          3136\n",
    "nombre_exposed        251\n",
    "nombre_recovered    16194\n",
    "Name: 131, dtype: int64"
   ]
  },
  {
   "cell_type": "markdown",
   "id": "b5a273e7",
   "metadata": {},
   "source": [
    "nombre_infected       435\n",
    "nombre_sain          3115\n",
    "nombre_exposed        276\n",
    "nombre_recovered    16174\n",
    "Name: 132, dtype: int64"
   ]
  },
  {
   "cell_type": "markdown",
   "id": "06d1e31e",
   "metadata": {},
   "source": [
    "nombre_infected       445\n",
    "nombre_sain          3085\n",
    "nombre_exposed        306\n",
    "nombre_recovered    16164\n",
    "Name: 133, dtype: int64"
   ]
  },
  {
   "cell_type": "markdown",
   "id": "16b633d2",
   "metadata": {},
   "source": [
    "nombre_infected       487\n",
    "nombre_sain          3055\n",
    "nombre_exposed        313\n",
    "nombre_recovered    16145\n",
    "Name: 134, dtype: int64"
   ]
  },
  {
   "cell_type": "markdown",
   "id": "66408a6f",
   "metadata": {},
   "source": [
    "nombre_infected       507\n",
    "nombre_sain          3013\n",
    "nombre_exposed        342\n",
    "nombre_recovered    16138\n",
    "Name: 135, dtype: int64"
   ]
  },
  {
   "cell_type": "markdown",
   "id": "34e475dd",
   "metadata": {},
   "source": [
    "nombre_infected       523\n",
    "nombre_sain          2973\n",
    "nombre_exposed        350\n",
    "nombre_recovered    16154\n",
    "Name: 136, dtype: int64"
   ]
  },
  {
   "cell_type": "markdown",
   "id": "454fad9e",
   "metadata": {},
   "source": [
    "nombre_infected       569\n",
    "nombre_sain          2931\n",
    "nombre_exposed        346\n",
    "nombre_recovered    16154\n",
    "Name: 137, dtype: int64"
   ]
  },
  {
   "cell_type": "markdown",
   "id": "56f27bef",
   "metadata": {},
   "source": [
    "nombre_infected       602\n",
    "nombre_sain          2888\n",
    "nombre_exposed        352\n",
    "nombre_recovered    16158\n",
    "Name: 138, dtype: int64"
   ]
  },
  {
   "cell_type": "markdown",
   "id": "321aa015",
   "metadata": {},
   "source": [
    "nombre_infected       606\n",
    "nombre_sain          2823\n",
    "nombre_exposed        378\n",
    "nombre_recovered    16193\n",
    "Name: 139, dtype: int64"
   ]
  },
  {
   "cell_type": "markdown",
   "id": "72cc339c",
   "metadata": {},
   "source": [
    "nombre_infected       626\n",
    "nombre_sain          2777\n",
    "nombre_exposed        391\n",
    "nombre_recovered    16206\n",
    "Name: 140, dtype: int64"
   ]
  },
  {
   "cell_type": "markdown",
   "id": "9c03f13f",
   "metadata": {},
   "source": [
    "nombre_infected       657\n",
    "nombre_sain          2722\n",
    "nombre_exposed        412\n",
    "nombre_recovered    16209\n",
    "Name: 141, dtype: int64"
   ]
  },
  {
   "cell_type": "markdown",
   "id": "7dc9f570",
   "metadata": {},
   "source": [
    "nombre_infected       686\n",
    "nombre_sain          2667\n",
    "nombre_exposed        406\n",
    "nombre_recovered    16241\n",
    "Name: 142, dtype: int64"
   ]
  },
  {
   "cell_type": "markdown",
   "id": "67e70b87",
   "metadata": {},
   "source": [
    "nombre_infected       705\n",
    "nombre_sain          2615\n",
    "nombre_exposed        420\n",
    "nombre_recovered    16260\n",
    "Name: 143, dtype: int64"
   ]
  },
  {
   "cell_type": "markdown",
   "id": "0038b58b",
   "metadata": {},
   "source": [
    "nombre_infected       697\n",
    "nombre_sain          2604\n",
    "nombre_exposed        398\n",
    "nombre_recovered    16301\n",
    "Name: 144, dtype: int64"
   ]
  },
  {
   "cell_type": "markdown",
   "id": "57b6ca9a",
   "metadata": {},
   "source": [
    "nombre_infected       724\n",
    "nombre_sain          2551\n",
    "nombre_exposed        397\n",
    "nombre_recovered    16328\n",
    "Name: 145, dtype: int64"
   ]
  },
  {
   "cell_type": "markdown",
   "id": "0603169d",
   "metadata": {},
   "source": [
    "nombre_infected       737\n",
    "nombre_sain          2479\n",
    "nombre_exposed        421\n",
    "nombre_recovered    16363\n",
    "Name: 146, dtype: int64"
   ]
  },
  {
   "cell_type": "markdown",
   "id": "6a1de1a1",
   "metadata": {},
   "source": [
    "nombre_infected       736\n",
    "nombre_sain          2436\n",
    "nombre_exposed        415\n",
    "nombre_recovered    16413\n",
    "Name: 147, dtype: int64"
   ]
  },
  {
   "cell_type": "markdown",
   "id": "11e82d83",
   "metadata": {},
   "source": [
    "nombre_infected       772\n",
    "nombre_sain          2396\n",
    "nombre_exposed        397\n",
    "nombre_recovered    16435\n",
    "Name: 148, dtype: int64"
   ]
  },
  {
   "cell_type": "markdown",
   "id": "f5964a71",
   "metadata": {},
   "source": [
    "nombre_infected       804\n",
    "nombre_sain          2360\n",
    "nombre_exposed        370\n",
    "nombre_recovered    16466\n",
    "Name: 149, dtype: int64"
   ]
  },
  {
   "cell_type": "markdown",
   "id": "886f9f1f",
   "metadata": {},
   "source": [
    "nombre_infected       800\n",
    "nombre_sain          2318\n",
    "nombre_exposed        393\n",
    "nombre_recovered    16489\n",
    "Name: 150, dtype: int64"
   ]
  },
  {
   "cell_type": "markdown",
   "id": "d6a86f97",
   "metadata": {},
   "source": [
    "nombre_infected       782\n",
    "nombre_sain          2272\n",
    "nombre_exposed        405\n",
    "nombre_recovered    16541\n",
    "Name: 151, dtype: int64"
   ]
  },
  {
   "cell_type": "markdown",
   "id": "42b8280a",
   "metadata": {},
   "source": [
    "nombre_infected       778\n",
    "nombre_sain          2206\n",
    "nombre_exposed        415\n",
    "nombre_recovered    16601\n",
    "Name: 152, dtype: int64"
   ]
  },
  {
   "cell_type": "markdown",
   "id": "ecb6a9d6",
   "metadata": {},
   "source": [
    "nombre_infected       780\n",
    "nombre_sain          2154\n",
    "nombre_exposed        413\n",
    "nombre_recovered    16653\n",
    "Name: 153, dtype: int64"
   ]
  },
  {
   "cell_type": "markdown",
   "id": "133f5a29",
   "metadata": {},
   "source": [
    "nombre_infected       785\n",
    "nombre_sain          2105\n",
    "nombre_exposed        419\n",
    "nombre_recovered    16691\n",
    "Name: 154, dtype: int64"
   ]
  },
  {
   "cell_type": "markdown",
   "id": "e191c1a2",
   "metadata": {},
   "source": [
    "nombre_infected       809\n",
    "nombre_sain          2065\n",
    "nombre_exposed        399\n",
    "nombre_recovered    16727\n",
    "Name: 155, dtype: int64"
   ]
  },
  {
   "cell_type": "markdown",
   "id": "787feb9f",
   "metadata": {},
   "source": [
    "nombre_infected       813\n",
    "nombre_sain          2018\n",
    "nombre_exposed        391\n",
    "nombre_recovered    16778\n",
    "Name: 156, dtype: int64"
   ]
  },
  {
   "cell_type": "markdown",
   "id": "cff6ca1d",
   "metadata": {},
   "source": [
    "nombre_infected       807\n",
    "nombre_sain          1985\n",
    "nombre_exposed        402\n",
    "nombre_recovered    16806\n",
    "Name: 157, dtype: int64"
   ]
  },
  {
   "cell_type": "markdown",
   "id": "e5c358e5",
   "metadata": {},
   "source": [
    "nombre_infected       804\n",
    "nombre_sain          1954\n",
    "nombre_exposed        411\n",
    "nombre_recovered    16831\n",
    "Name: 158, dtype: int64"
   ]
  },
  {
   "cell_type": "markdown",
   "id": "42e61671",
   "metadata": {},
   "source": [
    "nombre_infected       807\n",
    "nombre_sain          1928\n",
    "nombre_exposed        403\n",
    "nombre_recovered    16862\n",
    "Name: 159, dtype: int64"
   ]
  },
  {
   "cell_type": "markdown",
   "id": "9953b8fd",
   "metadata": {},
   "source": [
    "nombre_infected       817\n",
    "nombre_sain          1924\n",
    "nombre_exposed        382\n",
    "nombre_recovered    16877\n",
    "Name: 160, dtype: int64"
   ]
  },
  {
   "cell_type": "markdown",
   "id": "1351d316",
   "metadata": {},
   "source": [
    "nombre_infected       815\n",
    "nombre_sain          1912\n",
    "nombre_exposed        371\n",
    "nombre_recovered    16902\n",
    "Name: 161, dtype: int64"
   ]
  },
  {
   "cell_type": "markdown",
   "id": "6192f038",
   "metadata": {},
   "source": [
    "nombre_infected       818\n",
    "nombre_sain          1899\n",
    "nombre_exposed        346\n",
    "nombre_recovered    16937\n",
    "Name: 162, dtype: int64"
   ]
  },
  {
   "cell_type": "markdown",
   "id": "3a76ce07",
   "metadata": {},
   "source": [
    "nombre_infected       796\n",
    "nombre_sain          1863\n",
    "nombre_exposed        363\n",
    "nombre_recovered    16978\n",
    "Name: 163, dtype: int64"
   ]
  },
  {
   "cell_type": "markdown",
   "id": "69eb6e63",
   "metadata": {},
   "source": [
    "nombre_infected       788\n",
    "nombre_sain          1847\n",
    "nombre_exposed        359\n",
    "nombre_recovered    17006\n",
    "Name: 164, dtype: int64"
   ]
  },
  {
   "cell_type": "markdown",
   "id": "6d1e115a",
   "metadata": {},
   "source": [
    "nombre_infected       782\n",
    "nombre_sain          1870\n",
    "nombre_exposed        349\n",
    "nombre_recovered    16999\n",
    "Name: 165, dtype: int64"
   ]
  },
  {
   "cell_type": "markdown",
   "id": "95ca3b15",
   "metadata": {},
   "source": [
    "nombre_infected       788\n",
    "nombre_sain          1884\n",
    "nombre_exposed        331\n",
    "nombre_recovered    16997\n",
    "Name: 166, dtype: int64"
   ]
  },
  {
   "cell_type": "markdown",
   "id": "ed87994e",
   "metadata": {},
   "source": [
    "nombre_infected       783\n",
    "nombre_sain          1905\n",
    "nombre_exposed        321\n",
    "nombre_recovered    16991\n",
    "Name: 167, dtype: int64"
   ]
  },
  {
   "cell_type": "markdown",
   "id": "ca3c9a1f",
   "metadata": {},
   "source": [
    "nombre_infected       784\n",
    "nombre_sain          1907\n",
    "nombre_exposed        318\n",
    "nombre_recovered    16991\n",
    "Name: 168, dtype: int64"
   ]
  },
  {
   "cell_type": "markdown",
   "id": "3f16d809",
   "metadata": {},
   "source": [
    "nombre_infected       759\n",
    "nombre_sain          1877\n",
    "nombre_exposed        348\n",
    "nombre_recovered    17016\n",
    "Name: 169, dtype: int64"
   ]
  },
  {
   "cell_type": "markdown",
   "id": "3769e4c4",
   "metadata": {},
   "source": [
    "nombre_infected       775\n",
    "nombre_sain          1913\n",
    "nombre_exposed        343\n",
    "nombre_recovered    16969\n",
    "Name: 170, dtype: int64"
   ]
  },
  {
   "cell_type": "markdown",
   "id": "13882dd6",
   "metadata": {},
   "source": [
    "nombre_infected       794\n",
    "nombre_sain          1931\n",
    "nombre_exposed        316\n",
    "nombre_recovered    16959\n",
    "Name: 171, dtype: int64"
   ]
  },
  {
   "cell_type": "markdown",
   "id": "ce0178d4",
   "metadata": {},
   "source": [
    "nombre_infected       794\n",
    "nombre_sain          1937\n",
    "nombre_exposed        319\n",
    "nombre_recovered    16950\n",
    "Name: 172, dtype: int64"
   ]
  },
  {
   "cell_type": "markdown",
   "id": "65b183da",
   "metadata": {},
   "source": [
    "nombre_infected       774\n",
    "nombre_sain          1939\n",
    "nombre_exposed        334\n",
    "nombre_recovered    16953\n",
    "Name: 173, dtype: int64"
   ]
  },
  {
   "cell_type": "markdown",
   "id": "3720523a",
   "metadata": {},
   "source": [
    "nombre_infected       771\n",
    "nombre_sain          1960\n",
    "nombre_exposed        346\n",
    "nombre_recovered    16923\n",
    "Name: 174, dtype: int64"
   ]
  },
  {
   "cell_type": "markdown",
   "id": "082f8263",
   "metadata": {},
   "source": [
    "nombre_infected       774\n",
    "nombre_sain          1999\n",
    "nombre_exposed        330\n",
    "nombre_recovered    16897\n",
    "Name: 175, dtype: int64"
   ]
  },
  {
   "cell_type": "markdown",
   "id": "b5828d34",
   "metadata": {},
   "source": [
    "nombre_infected       781\n",
    "nombre_sain          2010\n",
    "nombre_exposed        337\n",
    "nombre_recovered    16872\n",
    "Name: 176, dtype: int64"
   ]
  },
  {
   "cell_type": "markdown",
   "id": "04d84372",
   "metadata": {},
   "source": [
    "nombre_infected       772\n",
    "nombre_sain          2023\n",
    "nombre_exposed        343\n",
    "nombre_recovered    16862\n",
    "Name: 177, dtype: int64"
   ]
  },
  {
   "cell_type": "markdown",
   "id": "b1f2c00e",
   "metadata": {},
   "source": [
    "nombre_infected       764\n",
    "nombre_sain          2033\n",
    "nombre_exposed        341\n",
    "nombre_recovered    16862\n",
    "Name: 178, dtype: int64"
   ]
  },
  {
   "cell_type": "markdown",
   "id": "e0fcb5de",
   "metadata": {},
   "source": [
    "nombre_infected       742\n",
    "nombre_sain          2045\n",
    "nombre_exposed        352\n",
    "nombre_recovered    16861\n",
    "Name: 179, dtype: int64"
   ]
  },
  {
   "cell_type": "markdown",
   "id": "39298ef8",
   "metadata": {},
   "source": [
    "nombre_infected       727\n",
    "nombre_sain          2064\n",
    "nombre_exposed        362\n",
    "nombre_recovered    16847\n",
    "Name: 180, dtype: int64"
   ]
  },
  {
   "cell_type": "markdown",
   "id": "84fabfd8",
   "metadata": {},
   "source": [
    "nombre_infected       733\n",
    "nombre_sain          2061\n",
    "nombre_exposed        364\n",
    "nombre_recovered    16842\n",
    "Name: 181, dtype: int64"
   ]
  },
  {
   "cell_type": "markdown",
   "id": "be9a8be9",
   "metadata": {},
   "source": [
    "nombre_infected       729\n",
    "nombre_sain          2078\n",
    "nombre_exposed        346\n",
    "nombre_recovered    16847\n",
    "Name: 182, dtype: int64"
   ]
  },
  {
   "cell_type": "markdown",
   "id": "3799f06a",
   "metadata": {},
   "source": [
    "nombre_infected       736\n",
    "nombre_sain          2054\n",
    "nombre_exposed        358\n",
    "nombre_recovered    16852\n",
    "Name: 183, dtype: int64"
   ]
  },
  {
   "cell_type": "markdown",
   "id": "0e99ba89",
   "metadata": {},
   "source": [
    "nombre_infected       748\n",
    "nombre_sain          2049\n",
    "nombre_exposed        351\n",
    "nombre_recovered    16852\n",
    "Name: 184, dtype: int64"
   ]
  },
  {
   "cell_type": "markdown",
   "id": "da26cbb0",
   "metadata": {},
   "source": [
    "nombre_infected       740\n",
    "nombre_sain          2037\n",
    "nombre_exposed        367\n",
    "nombre_recovered    16856\n",
    "Name: 185, dtype: int64"
   ]
  },
  {
   "cell_type": "markdown",
   "id": "9211cbba",
   "metadata": {},
   "source": [
    "nombre_infected       774\n",
    "nombre_sain          2041\n",
    "nombre_exposed        354\n",
    "nombre_recovered    16831\n",
    "Name: 186, dtype: int64"
   ]
  },
  {
   "cell_type": "markdown",
   "id": "23a63584",
   "metadata": {},
   "source": [
    "nombre_infected       789\n",
    "nombre_sain          2030\n",
    "nombre_exposed        345\n",
    "nombre_recovered    16836\n",
    "Name: 187, dtype: int64"
   ]
  },
  {
   "cell_type": "markdown",
   "id": "27763a4f",
   "metadata": {},
   "source": [
    "nombre_infected       790\n",
    "nombre_sain          2016\n",
    "nombre_exposed        348\n",
    "nombre_recovered    16846\n",
    "Name: 188, dtype: int64"
   ]
  },
  {
   "cell_type": "markdown",
   "id": "348d8e71",
   "metadata": {},
   "source": [
    "nombre_infected       816\n",
    "nombre_sain          1979\n",
    "nombre_exposed        357\n",
    "nombre_recovered    16848\n",
    "Name: 189, dtype: int64"
   ]
  },
  {
   "cell_type": "markdown",
   "id": "c65569c6",
   "metadata": {},
   "source": [
    "nombre_infected       806\n",
    "nombre_sain          1952\n",
    "nombre_exposed        372\n",
    "nombre_recovered    16870\n",
    "Name: 190, dtype: int64"
   ]
  },
  {
   "cell_type": "markdown",
   "id": "4b8448c6",
   "metadata": {},
   "source": [
    "nombre_infected       831\n",
    "nombre_sain          1932\n",
    "nombre_exposed        357\n",
    "nombre_recovered    16880\n",
    "Name: 191, dtype: int64"
   ]
  },
  {
   "cell_type": "markdown",
   "id": "9b2818c2",
   "metadata": {},
   "source": [
    "nombre_infected       830\n",
    "nombre_sain          1910\n",
    "nombre_exposed        355\n",
    "nombre_recovered    16905\n",
    "Name: 192, dtype: int64"
   ]
  },
  {
   "cell_type": "markdown",
   "id": "ac3b45dd",
   "metadata": {},
   "source": [
    "nombre_infected       831\n",
    "nombre_sain          1895\n",
    "nombre_exposed        349\n",
    "nombre_recovered    16925\n",
    "Name: 193, dtype: int64"
   ]
  },
  {
   "cell_type": "markdown",
   "id": "1cbeb01b",
   "metadata": {},
   "source": [
    "nombre_infected       838\n",
    "nombre_sain          1865\n",
    "nombre_exposed        352\n",
    "nombre_recovered    16945\n",
    "Name: 194, dtype: int64"
   ]
  },
  {
   "cell_type": "markdown",
   "id": "c7533ee2",
   "metadata": {},
   "source": [
    "nombre_infected       809\n",
    "nombre_sain          1859\n",
    "nombre_exposed        346\n",
    "nombre_recovered    16986\n",
    "Name: 195, dtype: int64"
   ]
  },
  {
   "cell_type": "markdown",
   "id": "4da684bb",
   "metadata": {},
   "source": [
    "nombre_infected       809\n",
    "nombre_sain          1837\n",
    "nombre_exposed        345\n",
    "nombre_recovered    17009\n",
    "Name: 196, dtype: int64"
   ]
  },
  {
   "cell_type": "markdown",
   "id": "7f6711d5",
   "metadata": {},
   "source": [
    "nombre_infected       829\n",
    "nombre_sain          1820\n",
    "nombre_exposed        332\n",
    "nombre_recovered    17019\n",
    "Name: 197, dtype: int64"
   ]
  },
  {
   "cell_type": "markdown",
   "id": "ff96297e",
   "metadata": {},
   "source": [
    "nombre_infected       821\n",
    "nombre_sain          1801\n",
    "nombre_exposed        344\n",
    "nombre_recovered    17034\n",
    "Name: 198, dtype: int64"
   ]
  },
  {
   "cell_type": "markdown",
   "id": "db95e789",
   "metadata": {},
   "source": [
    "nombre_infected       824\n",
    "nombre_sain          1785\n",
    "nombre_exposed        351\n",
    "nombre_recovered    17040\n",
    "Name: 199, dtype: int64"
   ]
  },
  {
   "cell_type": "markdown",
   "id": "a66ab21f",
   "metadata": {},
   "source": [
    "nombre_infected       824\n",
    "nombre_sain          1774\n",
    "nombre_exposed        341\n",
    "nombre_recovered    17061\n",
    "Name: 200, dtype: int64"
   ]
  },
  {
   "cell_type": "markdown",
   "id": "bff80c7c",
   "metadata": {},
   "source": [
    "nombre_infected       842\n",
    "nombre_sain          1795\n",
    "nombre_exposed        319\n",
    "nombre_recovered    17044\n",
    "Name: 201, dtype: int64"
   ]
  },
  {
   "cell_type": "markdown",
   "id": "dfdf6590",
   "metadata": {},
   "source": [
    "nombre_infected       821\n",
    "nombre_sain          1804\n",
    "nombre_exposed        332\n",
    "nombre_recovered    17043\n",
    "Name: 202, dtype: int64"
   ]
  },
  {
   "cell_type": "markdown",
   "id": "6f9978ff",
   "metadata": {},
   "source": [
    "nombre_infected       831\n",
    "nombre_sain          1797\n",
    "nombre_exposed        327\n",
    "nombre_recovered    17045\n",
    "Name: 203, dtype: int64"
   ]
  },
  {
   "cell_type": "markdown",
   "id": "86db9891",
   "metadata": {},
   "source": [
    "nombre_infected       837\n",
    "nombre_sain          1810\n",
    "nombre_exposed        318\n",
    "nombre_recovered    17035\n",
    "Name: 204, dtype: int64"
   ]
  },
  {
   "cell_type": "markdown",
   "id": "177f3643",
   "metadata": {},
   "source": [
    "nombre_infected       817\n",
    "nombre_sain          1785\n",
    "nombre_exposed        332\n",
    "nombre_recovered    17066\n",
    "Name: 205, dtype: int64"
   ]
  },
  {
   "cell_type": "markdown",
   "id": "f7f30878",
   "metadata": {},
   "source": [
    "nombre_infected       815\n",
    "nombre_sain          1821\n",
    "nombre_exposed        319\n",
    "nombre_recovered    17045\n",
    "Name: 206, dtype: int64"
   ]
  },
  {
   "cell_type": "markdown",
   "id": "ae1833e6",
   "metadata": {},
   "source": [
    "nombre_infected       826\n",
    "nombre_sain          1820\n",
    "nombre_exposed        311\n",
    "nombre_recovered    17043\n",
    "Name: 207, dtype: int64"
   ]
  },
  {
   "cell_type": "markdown",
   "id": "498be385",
   "metadata": {},
   "source": [
    "nombre_infected       809\n",
    "nombre_sain          1831\n",
    "nombre_exposed        320\n",
    "nombre_recovered    17040\n",
    "Name: 208, dtype: int64"
   ]
  },
  {
   "cell_type": "markdown",
   "id": "6b81d4a7",
   "metadata": {},
   "source": [
    "nombre_infected       806\n",
    "nombre_sain          1828\n",
    "nombre_exposed        317\n",
    "nombre_recovered    17049\n",
    "Name: 209, dtype: int64"
   ]
  },
  {
   "cell_type": "markdown",
   "id": "bf5a2e10",
   "metadata": {},
   "source": [
    "nombre_infected       790\n",
    "nombre_sain          1851\n",
    "nombre_exposed        307\n",
    "nombre_recovered    17052\n",
    "Name: 210, dtype: int64"
   ]
  },
  {
   "cell_type": "markdown",
   "id": "8a615b94",
   "metadata": {},
   "source": [
    "nombre_infected       793\n",
    "nombre_sain          1863\n",
    "nombre_exposed        283\n",
    "nombre_recovered    17061\n",
    "Name: 211, dtype: int64"
   ]
  },
  {
   "cell_type": "markdown",
   "id": "43ae2e95",
   "metadata": {},
   "source": [
    "nombre_infected       774\n",
    "nombre_sain          1865\n",
    "nombre_exposed        281\n",
    "nombre_recovered    17080\n",
    "Name: 212, dtype: int64"
   ]
  },
  {
   "cell_type": "markdown",
   "id": "6306e842",
   "metadata": {},
   "source": [
    "nombre_infected       747\n",
    "nombre_sain          1869\n",
    "nombre_exposed        290\n",
    "nombre_recovered    17094\n",
    "Name: 213, dtype: int64"
   ]
  },
  {
   "cell_type": "markdown",
   "id": "95c77bac",
   "metadata": {},
   "source": [
    "nombre_infected       727\n",
    "nombre_sain          1882\n",
    "nombre_exposed        298\n",
    "nombre_recovered    17093\n",
    "Name: 214, dtype: int64"
   ]
  },
  {
   "cell_type": "markdown",
   "id": "4afa517b",
   "metadata": {},
   "source": [
    "nombre_infected       740\n",
    "nombre_sain          1880\n",
    "nombre_exposed        284\n",
    "nombre_recovered    17096\n",
    "Name: 215, dtype: int64"
   ]
  },
  {
   "cell_type": "markdown",
   "id": "3d1a257e",
   "metadata": {},
   "source": [
    "nombre_infected       724\n",
    "nombre_sain          1905\n",
    "nombre_exposed        275\n",
    "nombre_recovered    17096\n",
    "Name: 216, dtype: int64"
   ]
  },
  {
   "cell_type": "markdown",
   "id": "5e2af191",
   "metadata": {},
   "source": [
    "nombre_infected       712\n",
    "nombre_sain          1924\n",
    "nombre_exposed        280\n",
    "nombre_recovered    17084\n",
    "Name: 217, dtype: int64"
   ]
  },
  {
   "cell_type": "markdown",
   "id": "353095a5",
   "metadata": {},
   "source": [
    "nombre_infected       709\n",
    "nombre_sain          1936\n",
    "nombre_exposed        300\n",
    "nombre_recovered    17055\n",
    "Name: 218, dtype: int64"
   ]
  },
  {
   "cell_type": "markdown",
   "id": "e65c55b8",
   "metadata": {},
   "source": [
    "nombre_infected       703\n",
    "nombre_sain          1959\n",
    "nombre_exposed        300\n",
    "nombre_recovered    17038\n",
    "Name: 219, dtype: int64"
   ]
  },
  {
   "cell_type": "markdown",
   "id": "dbcf473f",
   "metadata": {},
   "source": [
    "nombre_infected       717\n",
    "nombre_sain          1978\n",
    "nombre_exposed        285\n",
    "nombre_recovered    17020\n",
    "Name: 220, dtype: int64"
   ]
  },
  {
   "cell_type": "markdown",
   "id": "f3b1b16d",
   "metadata": {},
   "source": [
    "nombre_infected       691\n",
    "nombre_sain          2011\n",
    "nombre_exposed        298\n",
    "nombre_recovered    17000\n",
    "Name: 221, dtype: int64"
   ]
  },
  {
   "cell_type": "markdown",
   "id": "ac75d525",
   "metadata": {},
   "source": [
    "nombre_infected       681\n",
    "nombre_sain          2017\n",
    "nombre_exposed        309\n",
    "nombre_recovered    16993\n",
    "Name: 222, dtype: int64"
   ]
  },
  {
   "cell_type": "markdown",
   "id": "afe942ae",
   "metadata": {},
   "source": [
    "nombre_infected       684\n",
    "nombre_sain          2041\n",
    "nombre_exposed        305\n",
    "nombre_recovered    16970\n",
    "Name: 223, dtype: int64"
   ]
  },
  {
   "cell_type": "markdown",
   "id": "1bfc0798",
   "metadata": {},
   "source": [
    "nombre_infected       663\n",
    "nombre_sain          2057\n",
    "nombre_exposed        317\n",
    "nombre_recovered    16963\n",
    "Name: 224, dtype: int64"
   ]
  },
  {
   "cell_type": "markdown",
   "id": "1f8b87ed",
   "metadata": {},
   "source": [
    "nombre_infected       668\n",
    "nombre_sain          2077\n",
    "nombre_exposed        317\n",
    "nombre_recovered    16938\n",
    "Name: 225, dtype: int64"
   ]
  },
  {
   "cell_type": "markdown",
   "id": "40a715e5",
   "metadata": {},
   "source": [
    "nombre_infected       670\n",
    "nombre_sain          2108\n",
    "nombre_exposed        314\n",
    "nombre_recovered    16908\n",
    "Name: 226, dtype: int64"
   ]
  },
  {
   "cell_type": "markdown",
   "id": "172c402a",
   "metadata": {},
   "source": [
    "nombre_infected       661\n",
    "nombre_sain          2126\n",
    "nombre_exposed        325\n",
    "nombre_recovered    16888\n",
    "Name: 227, dtype: int64"
   ]
  },
  {
   "cell_type": "markdown",
   "id": "7484c529",
   "metadata": {},
   "source": [
    "nombre_infected       630\n",
    "nombre_sain          2139\n",
    "nombre_exposed        339\n",
    "nombre_recovered    16892\n",
    "Name: 228, dtype: int64"
   ]
  },
  {
   "cell_type": "markdown",
   "id": "f16fb79e",
   "metadata": {},
   "source": [
    "nombre_infected       648\n",
    "nombre_sain          2156\n",
    "nombre_exposed        334\n",
    "nombre_recovered    16862\n",
    "Name: 229, dtype: int64"
   ]
  },
  {
   "cell_type": "markdown",
   "id": "aa535c0a",
   "metadata": {},
   "source": [
    "nombre_infected       664\n",
    "nombre_sain          2176\n",
    "nombre_exposed        325\n",
    "nombre_recovered    16835\n",
    "Name: 230, dtype: int64"
   ]
  },
  {
   "cell_type": "markdown",
   "id": "f8aabe2f",
   "metadata": {},
   "source": [
    "nombre_infected       655\n",
    "nombre_sain          2202\n",
    "nombre_exposed        329\n",
    "nombre_recovered    16814\n",
    "Name: 231, dtype: int64"
   ]
  },
  {
   "cell_type": "markdown",
   "id": "34a6e5fd",
   "metadata": {},
   "source": [
    "nombre_infected       661\n",
    "nombre_sain          2198\n",
    "nombre_exposed        335\n",
    "nombre_recovered    16806\n",
    "Name: 232, dtype: int64"
   ]
  },
  {
   "cell_type": "markdown",
   "id": "ec70316e",
   "metadata": {},
   "source": [
    "nombre_infected       664\n",
    "nombre_sain          2222\n",
    "nombre_exposed        344\n",
    "nombre_recovered    16770\n",
    "Name: 233, dtype: int64"
   ]
  },
  {
   "cell_type": "markdown",
   "id": "8d6ba900",
   "metadata": {},
   "source": [
    "nombre_infected       663\n",
    "nombre_sain          2229\n",
    "nombre_exposed        362\n",
    "nombre_recovered    16746\n",
    "Name: 234, dtype: int64"
   ]
  },
  {
   "cell_type": "markdown",
   "id": "a2a282ee",
   "metadata": {},
   "source": [
    "nombre_infected       662\n",
    "nombre_sain          2232\n",
    "nombre_exposed        368\n",
    "nombre_recovered    16738\n",
    "Name: 235, dtype: int64"
   ]
  },
  {
   "cell_type": "markdown",
   "id": "fb3b604a",
   "metadata": {},
   "source": [
    "nombre_infected       670\n",
    "nombre_sain          2242\n",
    "nombre_exposed        374\n",
    "nombre_recovered    16714\n",
    "Name: 236, dtype: int64"
   ]
  },
  {
   "cell_type": "markdown",
   "id": "f3f1a23f",
   "metadata": {},
   "source": [
    "nombre_infected       684\n",
    "nombre_sain          2244\n",
    "nombre_exposed        382\n",
    "nombre_recovered    16690\n",
    "Name: 237, dtype: int64"
   ]
  },
  {
   "cell_type": "markdown",
   "id": "3552c672",
   "metadata": {},
   "source": [
    "nombre_infected       698\n",
    "nombre_sain          2240\n",
    "nombre_exposed        371\n",
    "nombre_recovered    16691\n",
    "Name: 238, dtype: int64"
   ]
  },
  {
   "cell_type": "markdown",
   "id": "d70c4112",
   "metadata": {},
   "source": [
    "nombre_infected       690\n",
    "nombre_sain          2230\n",
    "nombre_exposed        394\n",
    "nombre_recovered    16686\n",
    "Name: 239, dtype: int64"
   ]
  },
  {
   "cell_type": "markdown",
   "id": "7029c47e",
   "metadata": {},
   "source": [
    "nombre_infected       683\n",
    "nombre_sain          2229\n",
    "nombre_exposed        418\n",
    "nombre_recovered    16670\n",
    "Name: 240, dtype: int64"
   ]
  },
  {
   "cell_type": "markdown",
   "id": "a2b17577",
   "metadata": {},
   "source": [
    "nombre_infected       716\n",
    "nombre_sain          2237\n",
    "nombre_exposed        407\n",
    "nombre_recovered    16640\n",
    "Name: 241, dtype: int64"
   ]
  },
  {
   "cell_type": "markdown",
   "id": "a43b3e8f",
   "metadata": {},
   "source": [
    "nombre_infected       730\n",
    "nombre_sain          2202\n",
    "nombre_exposed        424\n",
    "nombre_recovered    16644\n",
    "Name: 242, dtype: int64"
   ]
  },
  {
   "cell_type": "markdown",
   "id": "f178af04",
   "metadata": {},
   "source": [
    "nombre_infected       748\n",
    "nombre_sain          2191\n",
    "nombre_exposed        432\n",
    "nombre_recovered    16629\n",
    "Name: 243, dtype: int64"
   ]
  },
  {
   "cell_type": "markdown",
   "id": "b156b31b",
   "metadata": {},
   "source": [
    "nombre_infected       781\n",
    "nombre_sain          2208\n",
    "nombre_exposed        400\n",
    "nombre_recovered    16611\n",
    "Name: 244, dtype: int64"
   ]
  },
  {
   "cell_type": "markdown",
   "id": "ca991e69",
   "metadata": {},
   "source": [
    "nombre_infected       805\n",
    "nombre_sain          2208\n",
    "nombre_exposed        399\n",
    "nombre_recovered    16588\n",
    "Name: 245, dtype: int64"
   ]
  },
  {
   "cell_type": "markdown",
   "id": "b1bd08c8",
   "metadata": {},
   "source": [
    "nombre_infected       818\n",
    "nombre_sain          2230\n",
    "nombre_exposed        392\n",
    "nombre_recovered    16560\n",
    "Name: 246, dtype: int64"
   ]
  },
  {
   "cell_type": "markdown",
   "id": "c5b66481",
   "metadata": {},
   "source": [
    "nombre_infected       817\n",
    "nombre_sain          2243\n",
    "nombre_exposed        410\n",
    "nombre_recovered    16530\n",
    "Name: 247, dtype: int64"
   ]
  },
  {
   "cell_type": "markdown",
   "id": "7eeae40e",
   "metadata": {},
   "source": [
    "nombre_infected       822\n",
    "nombre_sain          2259\n",
    "nombre_exposed        421\n",
    "nombre_recovered    16498\n",
    "Name: 248, dtype: int64"
   ]
  },
  {
   "cell_type": "markdown",
   "id": "3c2d80a5",
   "metadata": {},
   "source": [
    "nombre_infected       853\n",
    "nombre_sain          2251\n",
    "nombre_exposed        419\n",
    "nombre_recovered    16477\n",
    "Name: 249, dtype: int64"
   ]
  },
  {
   "cell_type": "markdown",
   "id": "a00dfe15",
   "metadata": {},
   "source": [
    "nombre_infected       847\n",
    "nombre_sain          2238\n",
    "nombre_exposed        449\n",
    "nombre_recovered    16466\n",
    "Name: 250, dtype: int64"
   ]
  },
  {
   "cell_type": "markdown",
   "id": "74e8395f",
   "metadata": {},
   "source": [
    "nombre_infected       865\n",
    "nombre_sain          2260\n",
    "nombre_exposed        446\n",
    "nombre_recovered    16429\n",
    "Name: 251, dtype: int64"
   ]
  },
  {
   "cell_type": "markdown",
   "id": "2afcb640",
   "metadata": {},
   "source": [
    "nombre_infected       903\n",
    "nombre_sain          2296\n",
    "nombre_exposed        407\n",
    "nombre_recovered    16394\n",
    "Name: 252, dtype: int64"
   ]
  },
  {
   "cell_type": "markdown",
   "id": "f65954e0",
   "metadata": {},
   "source": [
    "nombre_infected       907\n",
    "nombre_sain          2273\n",
    "nombre_exposed        420\n",
    "nombre_recovered    16400\n",
    "Name: 253, dtype: int64"
   ]
  },
  {
   "cell_type": "markdown",
   "id": "8ee3aa07",
   "metadata": {},
   "source": [
    "nombre_infected       916\n",
    "nombre_sain          2239\n",
    "nombre_exposed        440\n",
    "nombre_recovered    16405\n",
    "Name: 254, dtype: int64"
   ]
  },
  {
   "cell_type": "markdown",
   "id": "7f6c334d",
   "metadata": {},
   "source": [
    "nombre_infected       926\n",
    "nombre_sain          2257\n",
    "nombre_exposed        431\n",
    "nombre_recovered    16386\n",
    "Name: 255, dtype: int64"
   ]
  },
  {
   "cell_type": "markdown",
   "id": "91024a7c",
   "metadata": {},
   "source": [
    "nombre_infected       929\n",
    "nombre_sain          2227\n",
    "nombre_exposed        466\n",
    "nombre_recovered    16378\n",
    "Name: 256, dtype: int64"
   ]
  },
  {
   "cell_type": "markdown",
   "id": "5fca766b",
   "metadata": {},
   "source": [
    "nombre_infected       935\n",
    "nombre_sain          2189\n",
    "nombre_exposed        468\n",
    "nombre_recovered    16408\n",
    "Name: 257, dtype: int64"
   ]
  },
  {
   "cell_type": "markdown",
   "id": "40451ec9",
   "metadata": {},
   "source": [
    "nombre_infected       913\n",
    "nombre_sain          2159\n",
    "nombre_exposed        472\n",
    "nombre_recovered    16456\n",
    "Name: 258, dtype: int64"
   ]
  },
  {
   "cell_type": "markdown",
   "id": "06411003",
   "metadata": {},
   "source": [
    "nombre_infected       914\n",
    "nombre_sain          2145\n",
    "nombre_exposed        483\n",
    "nombre_recovered    16458\n",
    "Name: 259, dtype: int64"
   ]
  },
  {
   "cell_type": "markdown",
   "id": "35ae0833",
   "metadata": {},
   "source": [
    "nombre_infected       955\n",
    "nombre_sain          2122\n",
    "nombre_exposed        469\n",
    "nombre_recovered    16454\n",
    "Name: 260, dtype: int64"
   ]
  },
  {
   "cell_type": "markdown",
   "id": "50b08359",
   "metadata": {},
   "source": [
    "nombre_infected       949\n",
    "nombre_sain          2102\n",
    "nombre_exposed        479\n",
    "nombre_recovered    16470\n",
    "Name: 261, dtype: int64"
   ]
  },
  {
   "cell_type": "markdown",
   "id": "7d6607b5",
   "metadata": {},
   "source": [
    "nombre_infected       963\n",
    "nombre_sain          2078\n",
    "nombre_exposed        478\n",
    "nombre_recovered    16481\n",
    "Name: 262, dtype: int64"
   ]
  },
  {
   "cell_type": "markdown",
   "id": "42f55d46",
   "metadata": {},
   "source": [
    "nombre_infected       985\n",
    "nombre_sain          2062\n",
    "nombre_exposed        462\n",
    "nombre_recovered    16491\n",
    "Name: 263, dtype: int64"
   ]
  },
  {
   "cell_type": "markdown",
   "id": "b3905423",
   "metadata": {},
   "source": [
    "nombre_infected       956\n",
    "nombre_sain          2028\n",
    "nombre_exposed        468\n",
    "nombre_recovered    16548\n",
    "Name: 264, dtype: int64"
   ]
  },
  {
   "cell_type": "markdown",
   "id": "600916b1",
   "metadata": {},
   "source": [
    "nombre_infected       938\n",
    "nombre_sain          2023\n",
    "nombre_exposed        468\n",
    "nombre_recovered    16571\n",
    "Name: 265, dtype: int64"
   ]
  },
  {
   "cell_type": "markdown",
   "id": "ab03f304",
   "metadata": {},
   "source": [
    "nombre_infected       941\n",
    "nombre_sain          2012\n",
    "nombre_exposed        457\n",
    "nombre_recovered    16590\n",
    "Name: 266, dtype: int64"
   ]
  },
  {
   "cell_type": "markdown",
   "id": "04cd044f",
   "metadata": {},
   "source": [
    "nombre_infected       937\n",
    "nombre_sain          1986\n",
    "nombre_exposed        451\n",
    "nombre_recovered    16626\n",
    "Name: 267, dtype: int64"
   ]
  },
  {
   "cell_type": "markdown",
   "id": "8b8f6d90",
   "metadata": {},
   "source": [
    "nombre_infected       918\n",
    "nombre_sain          1973\n",
    "nombre_exposed        463\n",
    "nombre_recovered    16646\n",
    "Name: 268, dtype: int64"
   ]
  },
  {
   "cell_type": "markdown",
   "id": "f1bcc813",
   "metadata": {},
   "source": [
    "nombre_infected       916\n",
    "nombre_sain          1963\n",
    "nombre_exposed        457\n",
    "nombre_recovered    16664\n",
    "Name: 269, dtype: int64"
   ]
  },
  {
   "cell_type": "markdown",
   "id": "b423d2e2",
   "metadata": {},
   "source": [
    "nombre_infected       906\n",
    "nombre_sain          1981\n",
    "nombre_exposed        465\n",
    "nombre_recovered    16648\n",
    "Name: 270, dtype: int64"
   ]
  },
  {
   "cell_type": "markdown",
   "id": "b8ed726a",
   "metadata": {},
   "source": [
    "nombre_infected       916\n",
    "nombre_sain          1984\n",
    "nombre_exposed        463\n",
    "nombre_recovered    16637\n",
    "Name: 271, dtype: int64"
   ]
  },
  {
   "cell_type": "markdown",
   "id": "61fb5838",
   "metadata": {},
   "source": [
    "nombre_infected       891\n",
    "nombre_sain          1967\n",
    "nombre_exposed        467\n",
    "nombre_recovered    16675\n",
    "Name: 272, dtype: int64"
   ]
  },
  {
   "cell_type": "markdown",
   "id": "d6eb3a39",
   "metadata": {},
   "source": [
    "nombre_infected       882\n",
    "nombre_sain          1988\n",
    "nombre_exposed        455\n",
    "nombre_recovered    16675\n",
    "Name: 273, dtype: int64"
   ]
  },
  {
   "cell_type": "markdown",
   "id": "2f56f369",
   "metadata": {},
   "source": [
    "nombre_infected       885\n",
    "nombre_sain          1983\n",
    "nombre_exposed        449\n",
    "nombre_recovered    16683\n",
    "Name: 274, dtype: int64"
   ]
  },
  {
   "cell_type": "markdown",
   "id": "888001ff",
   "metadata": {},
   "source": [
    "nombre_infected       867\n",
    "nombre_sain          2003\n",
    "nombre_exposed        442\n",
    "nombre_recovered    16688\n",
    "Name: 275, dtype: int64"
   ]
  },
  {
   "cell_type": "markdown",
   "id": "ceadc5c2",
   "metadata": {},
   "source": [
    "nombre_infected       845\n",
    "nombre_sain          1997\n",
    "nombre_exposed        437\n",
    "nombre_recovered    16721\n",
    "Name: 276, dtype: int64"
   ]
  },
  {
   "cell_type": "markdown",
   "id": "01ec282e",
   "metadata": {},
   "source": [
    "nombre_infected       855\n",
    "nombre_sain          2004\n",
    "nombre_exposed        430\n",
    "nombre_recovered    16711\n",
    "Name: 277, dtype: int64"
   ]
  },
  {
   "cell_type": "markdown",
   "id": "a39d12a9",
   "metadata": {},
   "source": [
    "nombre_infected       852\n",
    "nombre_sain          2004\n",
    "nombre_exposed        438\n",
    "nombre_recovered    16706\n",
    "Name: 278, dtype: int64"
   ]
  },
  {
   "cell_type": "markdown",
   "id": "2ff533de",
   "metadata": {},
   "source": [
    "nombre_infected       837\n",
    "nombre_sain          1967\n",
    "nombre_exposed        463\n",
    "nombre_recovered    16733\n",
    "Name: 279, dtype: int64"
   ]
  },
  {
   "cell_type": "markdown",
   "id": "5db3f4a5",
   "metadata": {},
   "source": [
    "nombre_infected       833\n",
    "nombre_sain          1968\n",
    "nombre_exposed        460\n",
    "nombre_recovered    16739\n",
    "Name: 280, dtype: int64"
   ]
  },
  {
   "cell_type": "markdown",
   "id": "73a6824b",
   "metadata": {},
   "source": [
    "nombre_infected       858\n",
    "nombre_sain          1932\n",
    "nombre_exposed        481\n",
    "nombre_recovered    16729\n",
    "Name: 281, dtype: int64"
   ]
  },
  {
   "cell_type": "markdown",
   "id": "31c4c94d",
   "metadata": {},
   "source": [
    "nombre_infected       849\n",
    "nombre_sain          1907\n",
    "nombre_exposed        481\n",
    "nombre_recovered    16763\n",
    "Name: 282, dtype: int64"
   ]
  },
  {
   "cell_type": "markdown",
   "id": "6fa95482",
   "metadata": {},
   "source": [
    "nombre_infected       859\n",
    "nombre_sain          1934\n",
    "nombre_exposed        449\n",
    "nombre_recovered    16758\n",
    "Name: 283, dtype: int64"
   ]
  },
  {
   "cell_type": "markdown",
   "id": "f34b2288",
   "metadata": {},
   "source": [
    "nombre_infected       863\n",
    "nombre_sain          1931\n",
    "nombre_exposed        428\n",
    "nombre_recovered    16778\n",
    "Name: 284, dtype: int64"
   ]
  },
  {
   "cell_type": "markdown",
   "id": "79b65e8b",
   "metadata": {},
   "source": [
    "nombre_infected       868\n",
    "nombre_sain          1937\n",
    "nombre_exposed        413\n",
    "nombre_recovered    16782\n",
    "Name: 285, dtype: int64"
   ]
  },
  {
   "cell_type": "markdown",
   "id": "f7b9a44a",
   "metadata": {},
   "source": [
    "nombre_infected       873\n",
    "nombre_sain          1946\n",
    "nombre_exposed        405\n",
    "nombre_recovered    16776\n",
    "Name: 286, dtype: int64"
   ]
  },
  {
   "cell_type": "markdown",
   "id": "7e30a13b",
   "metadata": {},
   "source": [
    "nombre_infected       853\n",
    "nombre_sain          1944\n",
    "nombre_exposed        407\n",
    "nombre_recovered    16796\n",
    "Name: 287, dtype: int64"
   ]
  },
  {
   "cell_type": "markdown",
   "id": "48d4a62a",
   "metadata": {},
   "source": [
    "nombre_infected       839\n",
    "nombre_sain          1939\n",
    "nombre_exposed        420\n",
    "nombre_recovered    16802\n",
    "Name: 288, dtype: int64"
   ]
  },
  {
   "cell_type": "markdown",
   "id": "78240749",
   "metadata": {},
   "source": [
    "nombre_infected       834\n",
    "nombre_sain          1915\n",
    "nombre_exposed        430\n",
    "nombre_recovered    16821\n",
    "Name: 289, dtype: int64"
   ]
  },
  {
   "cell_type": "markdown",
   "id": "16fe3881",
   "metadata": {},
   "source": [
    "nombre_infected       817\n",
    "nombre_sain          1916\n",
    "nombre_exposed        429\n",
    "nombre_recovered    16838\n",
    "Name: 290, dtype: int64"
   ]
  },
  {
   "cell_type": "markdown",
   "id": "70522bc9",
   "metadata": {},
   "source": [
    "nombre_infected       814\n",
    "nombre_sain          1919\n",
    "nombre_exposed        428\n",
    "nombre_recovered    16839\n",
    "Name: 291, dtype: int64"
   ]
  },
  {
   "cell_type": "markdown",
   "id": "a1ccd9e5",
   "metadata": {},
   "source": [
    "nombre_infected       825\n",
    "nombre_sain          1921\n",
    "nombre_exposed        406\n",
    "nombre_recovered    16848\n",
    "Name: 292, dtype: int64"
   ]
  },
  {
   "cell_type": "markdown",
   "id": "d8cdfbd4",
   "metadata": {},
   "source": [
    "nombre_infected       830\n",
    "nombre_sain          1936\n",
    "nombre_exposed        382\n",
    "nombre_recovered    16852\n",
    "Name: 293, dtype: int64"
   ]
  },
  {
   "cell_type": "markdown",
   "id": "3edc9be6",
   "metadata": {},
   "source": [
    "nombre_infected       809\n",
    "nombre_sain          1923\n",
    "nombre_exposed        398\n",
    "nombre_recovered    16870\n",
    "Name: 294, dtype: int64"
   ]
  },
  {
   "cell_type": "markdown",
   "id": "42b6cfd3",
   "metadata": {},
   "source": [
    "nombre_infected       807\n",
    "nombre_sain          1916\n",
    "nombre_exposed        407\n",
    "nombre_recovered    16870\n",
    "Name: 295, dtype: int64"
   ]
  },
  {
   "cell_type": "markdown",
   "id": "57e66016",
   "metadata": {},
   "source": [
    "nombre_infected       795\n",
    "nombre_sain          1899\n",
    "nombre_exposed        409\n",
    "nombre_recovered    16897\n",
    "Name: 296, dtype: int64"
   ]
  },
  {
   "cell_type": "markdown",
   "id": "096b59eb",
   "metadata": {},
   "source": [
    "nombre_infected       791\n",
    "nombre_sain          1885\n",
    "nombre_exposed        411\n",
    "nombre_recovered    16913\n",
    "Name: 297, dtype: int64"
   ]
  },
  {
   "cell_type": "markdown",
   "id": "a197152d",
   "metadata": {},
   "source": [
    "nombre_infected       796\n",
    "nombre_sain          1885\n",
    "nombre_exposed        375\n",
    "nombre_recovered    16944\n",
    "Name: 298, dtype: int64"
   ]
  },
  {
   "cell_type": "markdown",
   "id": "66c137f6",
   "metadata": {},
   "source": [
    "nombre_infected       798\n",
    "nombre_sain          1904\n",
    "nombre_exposed        355\n",
    "nombre_recovered    16943\n",
    "Name: 299, dtype: int64"
   ]
  },
  {
   "cell_type": "markdown",
   "id": "53517aec",
   "metadata": {},
   "source": [
    "nombre_infected       767\n",
    "nombre_sain          1891\n",
    "nombre_exposed        368\n",
    "nombre_recovered    16974\n",
    "Name: 300, dtype: int64"
   ]
  },
  {
   "cell_type": "markdown",
   "id": "ceb805c5",
   "metadata": {},
   "source": [
    "nombre_infected       755\n",
    "nombre_sain          1882\n",
    "nombre_exposed        360\n",
    "nombre_recovered    17003\n",
    "Name: 301, dtype: int64"
   ]
  },
  {
   "cell_type": "markdown",
   "id": "5aa293ce",
   "metadata": {},
   "source": [
    "nombre_infected       749\n",
    "nombre_sain          1899\n",
    "nombre_exposed        337\n",
    "nombre_recovered    17015\n",
    "Name: 302, dtype: int64"
   ]
  },
  {
   "cell_type": "markdown",
   "id": "611be306",
   "metadata": {},
   "source": [
    "nombre_infected       731\n",
    "nombre_sain          1903\n",
    "nombre_exposed        348\n",
    "nombre_recovered    17018\n",
    "Name: 303, dtype: int64"
   ]
  },
  {
   "cell_type": "markdown",
   "id": "c2157d64",
   "metadata": {},
   "source": [
    "nombre_infected       751\n",
    "nombre_sain          1896\n",
    "nombre_exposed        330\n",
    "nombre_recovered    17023\n",
    "Name: 304, dtype: int64"
   ]
  },
  {
   "cell_type": "markdown",
   "id": "366f776c",
   "metadata": {},
   "source": [
    "nombre_infected       737\n",
    "nombre_sain          1901\n",
    "nombre_exposed        316\n",
    "nombre_recovered    17046\n",
    "Name: 305, dtype: int64"
   ]
  },
  {
   "cell_type": "markdown",
   "id": "1ab7b096",
   "metadata": {},
   "source": [
    "nombre_infected       736\n",
    "nombre_sain          1917\n",
    "nombre_exposed        319\n",
    "nombre_recovered    17028\n",
    "Name: 306, dtype: int64"
   ]
  },
  {
   "cell_type": "markdown",
   "id": "f0ac7a50",
   "metadata": {},
   "source": [
    "nombre_infected       715\n",
    "nombre_sain          1913\n",
    "nombre_exposed        326\n",
    "nombre_recovered    17046\n",
    "Name: 307, dtype: int64"
   ]
  },
  {
   "cell_type": "markdown",
   "id": "e41cd97e",
   "metadata": {},
   "source": [
    "nombre_infected       702\n",
    "nombre_sain          1923\n",
    "nombre_exposed        311\n",
    "nombre_recovered    17064\n",
    "Name: 308, dtype: int64"
   ]
  },
  {
   "cell_type": "markdown",
   "id": "27c1ea9f",
   "metadata": {},
   "source": [
    "nombre_infected       702\n",
    "nombre_sain          1954\n",
    "nombre_exposed        293\n",
    "nombre_recovered    17051\n",
    "Name: 309, dtype: int64"
   ]
  },
  {
   "cell_type": "markdown",
   "id": "9b4040c0",
   "metadata": {},
   "source": [
    "nombre_infected       709\n",
    "nombre_sain          1978\n",
    "nombre_exposed        280\n",
    "nombre_recovered    17033\n",
    "Name: 310, dtype: int64"
   ]
  },
  {
   "cell_type": "markdown",
   "id": "ae04ac1a",
   "metadata": {},
   "source": [
    "nombre_infected       693\n",
    "nombre_sain          1993\n",
    "nombre_exposed        278\n",
    "nombre_recovered    17036\n",
    "Name: 311, dtype: int64"
   ]
  },
  {
   "cell_type": "markdown",
   "id": "5304a5ab",
   "metadata": {},
   "source": [
    "nombre_infected       668\n",
    "nombre_sain          2018\n",
    "nombre_exposed        283\n",
    "nombre_recovered    17031\n",
    "Name: 312, dtype: int64"
   ]
  },
  {
   "cell_type": "markdown",
   "id": "693f551a",
   "metadata": {},
   "source": [
    "nombre_infected       664\n",
    "nombre_sain          2028\n",
    "nombre_exposed        288\n",
    "nombre_recovered    17020\n",
    "Name: 313, dtype: int64"
   ]
  },
  {
   "cell_type": "markdown",
   "id": "9850f1cc",
   "metadata": {},
   "source": [
    "nombre_infected       644\n",
    "nombre_sain          2000\n",
    "nombre_exposed        319\n",
    "nombre_recovered    17037\n",
    "Name: 314, dtype: int64"
   ]
  },
  {
   "cell_type": "markdown",
   "id": "131d0ba6",
   "metadata": {},
   "source": [
    "nombre_infected       650\n",
    "nombre_sain          2021\n",
    "nombre_exposed        315\n",
    "nombre_recovered    17014\n",
    "Name: 315, dtype: int64"
   ]
  },
  {
   "cell_type": "markdown",
   "id": "76e935e1",
   "metadata": {},
   "source": [
    "nombre_infected       647\n",
    "nombre_sain          2030\n",
    "nombre_exposed        318\n",
    "nombre_recovered    17005\n",
    "Name: 316, dtype: int64"
   ]
  },
  {
   "cell_type": "markdown",
   "id": "8096bc1b",
   "metadata": {},
   "source": [
    "nombre_infected       645\n",
    "nombre_sain          2056\n",
    "nombre_exposed        318\n",
    "nombre_recovered    16981\n",
    "Name: 317, dtype: int64"
   ]
  },
  {
   "cell_type": "markdown",
   "id": "600fc8a8",
   "metadata": {},
   "source": [
    "nombre_infected       669\n",
    "nombre_sain          2059\n",
    "nombre_exposed        328\n",
    "nombre_recovered    16944\n",
    "Name: 318, dtype: int64"
   ]
  },
  {
   "cell_type": "markdown",
   "id": "ff01c41d",
   "metadata": {},
   "source": [
    "nombre_infected       642\n",
    "nombre_sain          2087\n",
    "nombre_exposed        345\n",
    "nombre_recovered    16926\n",
    "Name: 319, dtype: int64"
   ]
  },
  {
   "cell_type": "markdown",
   "id": "c62978d3",
   "metadata": {},
   "source": [
    "nombre_infected       653\n",
    "nombre_sain          2104\n",
    "nombre_exposed        330\n",
    "nombre_recovered    16913\n",
    "Name: 320, dtype: int64"
   ]
  },
  {
   "cell_type": "markdown",
   "id": "cc786617",
   "metadata": {},
   "source": [
    "nombre_infected       652\n",
    "nombre_sain          2149\n",
    "nombre_exposed        325\n",
    "nombre_recovered    16874\n",
    "Name: 321, dtype: int64"
   ]
  },
  {
   "cell_type": "markdown",
   "id": "2f0102ad",
   "metadata": {},
   "source": [
    "nombre_infected       649\n",
    "nombre_sain          2188\n",
    "nombre_exposed        313\n",
    "nombre_recovered    16850\n",
    "Name: 322, dtype: int64"
   ]
  },
  {
   "cell_type": "markdown",
   "id": "08f78b00",
   "metadata": {},
   "source": [
    "nombre_infected       649\n",
    "nombre_sain          2231\n",
    "nombre_exposed        311\n",
    "nombre_recovered    16809\n",
    "Name: 323, dtype: int64"
   ]
  },
  {
   "cell_type": "markdown",
   "id": "a4e21664",
   "metadata": {},
   "source": [
    "nombre_infected       634\n",
    "nombre_sain          2261\n",
    "nombre_exposed        333\n",
    "nombre_recovered    16772\n",
    "Name: 324, dtype: int64"
   ]
  },
  {
   "cell_type": "markdown",
   "id": "f329a691",
   "metadata": {},
   "source": [
    "nombre_infected       651\n",
    "nombre_sain          2309\n",
    "nombre_exposed        339\n",
    "nombre_recovered    16701\n",
    "Name: 325, dtype: int64"
   ]
  },
  {
   "cell_type": "markdown",
   "id": "bf2e6eda",
   "metadata": {},
   "source": [
    "nombre_infected       656\n",
    "nombre_sain          2335\n",
    "nombre_exposed        342\n",
    "nombre_recovered    16667\n",
    "Name: 326, dtype: int64"
   ]
  },
  {
   "cell_type": "markdown",
   "id": "98762dea",
   "metadata": {},
   "source": [
    "nombre_infected       666\n",
    "nombre_sain          2327\n",
    "nombre_exposed        372\n",
    "nombre_recovered    16635\n",
    "Name: 327, dtype: int64"
   ]
  },
  {
   "cell_type": "markdown",
   "id": "374a7c84",
   "metadata": {},
   "source": [
    "nombre_infected       683\n",
    "nombre_sain          2343\n",
    "nombre_exposed        373\n",
    "nombre_recovered    16601\n",
    "Name: 328, dtype: int64"
   ]
  },
  {
   "cell_type": "markdown",
   "id": "57ee72f5",
   "metadata": {},
   "source": [
    "nombre_infected       690\n",
    "nombre_sain          2373\n",
    "nombre_exposed        388\n",
    "nombre_recovered    16549\n",
    "Name: 329, dtype: int64"
   ]
  },
  {
   "cell_type": "markdown",
   "id": "12ca8195",
   "metadata": {},
   "source": [
    "nombre_infected       707\n",
    "nombre_sain          2391\n",
    "nombre_exposed        393\n",
    "nombre_recovered    16509\n",
    "Name: 330, dtype: int64"
   ]
  },
  {
   "cell_type": "markdown",
   "id": "1b51fb47",
   "metadata": {},
   "source": [
    "nombre_infected       725\n",
    "nombre_sain          2451\n",
    "nombre_exposed        369\n",
    "nombre_recovered    16455\n",
    "Name: 331, dtype: int64"
   ]
  },
  {
   "cell_type": "markdown",
   "id": "27696f17",
   "metadata": {},
   "source": [
    "nombre_infected       739\n",
    "nombre_sain          2475\n",
    "nombre_exposed        368\n",
    "nombre_recovered    16418\n",
    "Name: 332, dtype: int64"
   ]
  },
  {
   "cell_type": "markdown",
   "id": "0ced98fe",
   "metadata": {},
   "source": [
    "nombre_infected       751\n",
    "nombre_sain          2466\n",
    "nombre_exposed        391\n",
    "nombre_recovered    16392\n",
    "Name: 333, dtype: int64"
   ]
  },
  {
   "cell_type": "markdown",
   "id": "5ce01e4c",
   "metadata": {},
   "source": [
    "nombre_infected       733\n",
    "nombre_sain          2462\n",
    "nombre_exposed        433\n",
    "nombre_recovered    16372\n",
    "Name: 334, dtype: int64"
   ]
  },
  {
   "cell_type": "markdown",
   "id": "327398fd",
   "metadata": {},
   "source": [
    "nombre_infected       766\n",
    "nombre_sain          2470\n",
    "nombre_exposed        434\n",
    "nombre_recovered    16330\n",
    "Name: 335, dtype: int64"
   ]
  },
  {
   "cell_type": "markdown",
   "id": "2d70ea98",
   "metadata": {},
   "source": [
    "nombre_infected       806\n",
    "nombre_sain          2473\n",
    "nombre_exposed        440\n",
    "nombre_recovered    16281\n",
    "Name: 336, dtype: int64"
   ]
  },
  {
   "cell_type": "markdown",
   "id": "16f03b87",
   "metadata": {},
   "source": [
    "nombre_infected       810\n",
    "nombre_sain          2452\n",
    "nombre_exposed        465\n",
    "nombre_recovered    16273\n",
    "Name: 337, dtype: int64"
   ]
  },
  {
   "cell_type": "markdown",
   "id": "adf46be3",
   "metadata": {},
   "source": [
    "nombre_infected       834\n",
    "nombre_sain          2435\n",
    "nombre_exposed        470\n",
    "nombre_recovered    16261\n",
    "Name: 338, dtype: int64"
   ]
  },
  {
   "cell_type": "markdown",
   "id": "85a5dbef",
   "metadata": {},
   "source": [
    "nombre_infected       864\n",
    "nombre_sain          2427\n",
    "nombre_exposed        460\n",
    "nombre_recovered    16249\n",
    "Name: 339, dtype: int64"
   ]
  },
  {
   "cell_type": "markdown",
   "id": "7281a3c2",
   "metadata": {},
   "source": [
    "nombre_infected       866\n",
    "nombre_sain          2391\n",
    "nombre_exposed        493\n",
    "nombre_recovered    16250\n",
    "Name: 340, dtype: int64"
   ]
  },
  {
   "cell_type": "markdown",
   "id": "eb03f489",
   "metadata": {},
   "source": [
    "nombre_infected       883\n",
    "nombre_sain          2377\n",
    "nombre_exposed        483\n",
    "nombre_recovered    16257\n",
    "Name: 341, dtype: int64"
   ]
  },
  {
   "cell_type": "markdown",
   "id": "e1a56245",
   "metadata": {},
   "source": [
    "nombre_infected       919\n",
    "nombre_sain          2358\n",
    "nombre_exposed        475\n",
    "nombre_recovered    16248\n",
    "Name: 342, dtype: int64"
   ]
  },
  {
   "cell_type": "markdown",
   "id": "15483368",
   "metadata": {},
   "source": [
    "nombre_infected       942\n",
    "nombre_sain          2341\n",
    "nombre_exposed        487\n",
    "nombre_recovered    16230\n",
    "Name: 343, dtype: int64"
   ]
  },
  {
   "cell_type": "markdown",
   "id": "f119befd",
   "metadata": {},
   "source": [
    "nombre_infected       956\n",
    "nombre_sain          2327\n",
    "nombre_exposed        485\n",
    "nombre_recovered    16232\n",
    "Name: 344, dtype: int64"
   ]
  },
  {
   "cell_type": "markdown",
   "id": "4ea6250b",
   "metadata": {},
   "source": [
    "nombre_infected       985\n",
    "nombre_sain          2310\n",
    "nombre_exposed        475\n",
    "nombre_recovered    16230\n",
    "Name: 345, dtype: int64"
   ]
  },
  {
   "cell_type": "markdown",
   "id": "1052f5f1",
   "metadata": {},
   "source": [
    "nombre_infected       983\n",
    "nombre_sain          2267\n",
    "nombre_exposed        493\n",
    "nombre_recovered    16257\n",
    "Name: 346, dtype: int64"
   ]
  },
  {
   "cell_type": "markdown",
   "id": "5394eab1",
   "metadata": {},
   "source": [
    "nombre_infected       988\n",
    "nombre_sain          2229\n",
    "nombre_exposed        489\n",
    "nombre_recovered    16294\n",
    "Name: 347, dtype: int64"
   ]
  },
  {
   "cell_type": "markdown",
   "id": "1fac67d5",
   "metadata": {},
   "source": [
    "nombre_infected       990\n",
    "nombre_sain          2190\n",
    "nombre_exposed        502\n",
    "nombre_recovered    16318\n",
    "Name: 348, dtype: int64"
   ]
  },
  {
   "cell_type": "markdown",
   "id": "427920b2",
   "metadata": {},
   "source": [
    "nombre_infected       985\n",
    "nombre_sain          2155\n",
    "nombre_exposed        505\n",
    "nombre_recovered    16355\n",
    "Name: 349, dtype: int64"
   ]
  },
  {
   "cell_type": "markdown",
   "id": "56ccea5a",
   "metadata": {},
   "source": [
    "nombre_infected      1034\n",
    "nombre_sain          2147\n",
    "nombre_exposed        466\n",
    "nombre_recovered    16353\n",
    "Name: 350, dtype: int64"
   ]
  },
  {
   "cell_type": "markdown",
   "id": "956da7cb",
   "metadata": {},
   "source": [
    "nombre_infected      1055\n",
    "nombre_sain          2130\n",
    "nombre_exposed        455\n",
    "nombre_recovered    16360\n",
    "Name: 351, dtype: int64"
   ]
  },
  {
   "cell_type": "markdown",
   "id": "5389b7ce",
   "metadata": {},
   "source": [
    "nombre_infected      1043\n",
    "nombre_sain          2116\n",
    "nombre_exposed        471\n",
    "nombre_recovered    16370\n",
    "Name: 352, dtype: int64"
   ]
  },
  {
   "cell_type": "markdown",
   "id": "48de4931",
   "metadata": {},
   "source": [
    "nombre_infected      1043\n",
    "nombre_sain          2101\n",
    "nombre_exposed        481\n",
    "nombre_recovered    16375\n",
    "Name: 353, dtype: int64"
   ]
  },
  {
   "cell_type": "markdown",
   "id": "cedaddec",
   "metadata": {},
   "source": [
    "nombre_infected      1066\n",
    "nombre_sain          2077\n",
    "nombre_exposed        478\n",
    "nombre_recovered    16379\n",
    "Name: 354, dtype: int64"
   ]
  },
  {
   "cell_type": "markdown",
   "id": "aee242eb",
   "metadata": {},
   "source": [
    "nombre_infected      1014\n",
    "nombre_sain          2057\n",
    "nombre_exposed        513\n",
    "nombre_recovered    16416\n",
    "Name: 355, dtype: int64"
   ]
  },
  {
   "cell_type": "markdown",
   "id": "b0c56c45",
   "metadata": {},
   "source": [
    "nombre_infected      1027\n",
    "nombre_sain          2048\n",
    "nombre_exposed        502\n",
    "nombre_recovered    16423\n",
    "Name: 356, dtype: int64"
   ]
  },
  {
   "cell_type": "markdown",
   "id": "753c7e9a",
   "metadata": {},
   "source": [
    "nombre_infected      1017\n",
    "nombre_sain          2047\n",
    "nombre_exposed        509\n",
    "nombre_recovered    16427\n",
    "Name: 357, dtype: int64"
   ]
  },
  {
   "cell_type": "markdown",
   "id": "f2256c62",
   "metadata": {},
   "source": [
    "nombre_infected      1046\n",
    "nombre_sain          2062\n",
    "nombre_exposed        487\n",
    "nombre_recovered    16405\n",
    "Name: 358, dtype: int64"
   ]
  },
  {
   "cell_type": "markdown",
   "id": "5eba0b0f",
   "metadata": {},
   "source": [
    "nombre_infected      1040\n",
    "nombre_sain          2041\n",
    "nombre_exposed        480\n",
    "nombre_recovered    16439\n",
    "Name: 359, dtype: int64"
   ]
  },
  {
   "cell_type": "markdown",
   "id": "3c7f17c7",
   "metadata": {},
   "source": [
    "nombre_infected      1049\n",
    "nombre_sain          2013\n",
    "nombre_exposed        498\n",
    "nombre_recovered    16440\n",
    "Name: 360, dtype: int64"
   ]
  },
  {
   "cell_type": "markdown",
   "id": "f5f80057",
   "metadata": {},
   "source": [
    "nombre_infected      1055\n",
    "nombre_sain          1981\n",
    "nombre_exposed        484\n",
    "nombre_recovered    16480\n",
    "Name: 361, dtype: int64"
   ]
  },
  {
   "cell_type": "markdown",
   "id": "d2686dc4",
   "metadata": {},
   "source": [
    "nombre_infected      1062\n",
    "nombre_sain          1960\n",
    "nombre_exposed        466\n",
    "nombre_recovered    16512\n",
    "Name: 362, dtype: int64"
   ]
  },
  {
   "cell_type": "markdown",
   "id": "cf7ebad3",
   "metadata": {},
   "source": [
    "nombre_infected      1050\n",
    "nombre_sain          1955\n",
    "nombre_exposed        475\n",
    "nombre_recovered    16520\n",
    "Name: 363, dtype: int64"
   ]
  },
  {
   "cell_type": "markdown",
   "id": "4dd814f1",
   "metadata": {},
   "source": [
    "nombre_infected      1056\n",
    "nombre_sain          1975\n",
    "nombre_exposed        460\n",
    "nombre_recovered    16509\n",
    "Name: 364, dtype: int64"
   ]
  },
  {
   "cell_type": "markdown",
   "id": "2da055a6",
   "metadata": {},
   "source": [
    "nombre_infected      1052\n",
    "nombre_sain          1964\n",
    "nombre_exposed        458\n",
    "nombre_recovered    16526\n",
    "Name: 365, dtype: int64"
   ]
  },
  {
   "cell_type": "markdown",
   "id": "e4c78f0d",
   "metadata": {},
   "source": [
    "nombre_infected      1052\n",
    "nombre_sain          1944\n",
    "nombre_exposed        469\n",
    "nombre_recovered    16535\n",
    "Name: 366, dtype: int64"
   ]
  },
  {
   "cell_type": "markdown",
   "id": "1e3fe8c1",
   "metadata": {},
   "source": [
    "nombre_infected      1044\n",
    "nombre_sain          1928\n",
    "nombre_exposed        471\n",
    "nombre_recovered    16557\n",
    "Name: 367, dtype: int64"
   ]
  },
  {
   "cell_type": "markdown",
   "id": "859e0d34",
   "metadata": {},
   "source": [
    "nombre_infected      1031\n",
    "nombre_sain          1925\n",
    "nombre_exposed        475\n",
    "nombre_recovered    16569\n",
    "Name: 368, dtype: int64"
   ]
  },
  {
   "cell_type": "markdown",
   "id": "785dfa5b",
   "metadata": {},
   "source": [
    "nombre_infected      1036\n",
    "nombre_sain          1910\n",
    "nombre_exposed        475\n",
    "nombre_recovered    16579\n",
    "Name: 369, dtype: int64"
   ]
  },
  {
   "cell_type": "markdown",
   "id": "38c0ad32",
   "metadata": {},
   "source": [
    "nombre_infected       998\n",
    "nombre_sain          1901\n",
    "nombre_exposed        485\n",
    "nombre_recovered    16616\n",
    "Name: 370, dtype: int64"
   ]
  },
  {
   "cell_type": "markdown",
   "id": "81b755b3",
   "metadata": {},
   "source": [
    "nombre_infected      1009\n",
    "nombre_sain          1912\n",
    "nombre_exposed        452\n",
    "nombre_recovered    16627\n",
    "Name: 371, dtype: int64"
   ]
  },
  {
   "cell_type": "markdown",
   "id": "aee029dc",
   "metadata": {},
   "source": [
    "nombre_infected       997\n",
    "nombre_sain          1904\n",
    "nombre_exposed        457\n",
    "nombre_recovered    16642\n",
    "Name: 372, dtype: int64"
   ]
  },
  {
   "cell_type": "markdown",
   "id": "4bacef4a",
   "metadata": {},
   "source": [
    "nombre_infected      1017\n",
    "nombre_sain          1913\n",
    "nombre_exposed        435\n",
    "nombre_recovered    16635\n",
    "Name: 373, dtype: int64"
   ]
  },
  {
   "cell_type": "markdown",
   "id": "62ad4884",
   "metadata": {},
   "source": [
    "nombre_infected      1034\n",
    "nombre_sain          1888\n",
    "nombre_exposed        446\n",
    "nombre_recovered    16632\n",
    "Name: 374, dtype: int64"
   ]
  },
  {
   "cell_type": "markdown",
   "id": "45ea0b30",
   "metadata": {},
   "source": [
    "nombre_infected      1027\n",
    "nombre_sain          1895\n",
    "nombre_exposed        449\n",
    "nombre_recovered    16629\n",
    "Name: 375, dtype: int64"
   ]
  },
  {
   "cell_type": "markdown",
   "id": "ca02a2a9",
   "metadata": {},
   "source": [
    "nombre_infected      1004\n",
    "nombre_sain          1885\n",
    "nombre_exposed        452\n",
    "nombre_recovered    16659\n",
    "Name: 376, dtype: int64"
   ]
  },
  {
   "cell_type": "markdown",
   "id": "169f6931",
   "metadata": {},
   "source": [
    "nombre_infected       997\n",
    "nombre_sain          1853\n",
    "nombre_exposed        476\n",
    "nombre_recovered    16674\n",
    "Name: 377, dtype: int64"
   ]
  },
  {
   "cell_type": "markdown",
   "id": "77326ddf",
   "metadata": {},
   "source": [
    "nombre_infected       987\n",
    "nombre_sain          1832\n",
    "nombre_exposed        490\n",
    "nombre_recovered    16691\n",
    "Name: 378, dtype: int64"
   ]
  },
  {
   "cell_type": "markdown",
   "id": "6d49d811",
   "metadata": {},
   "source": [
    "nombre_infected       976\n",
    "nombre_sain          1813\n",
    "nombre_exposed        493\n",
    "nombre_recovered    16718\n",
    "Name: 379, dtype: int64"
   ]
  },
  {
   "cell_type": "markdown",
   "id": "5f4a0d7d",
   "metadata": {},
   "source": [
    "nombre_infected       987\n",
    "nombre_sain          1828\n",
    "nombre_exposed        452\n",
    "nombre_recovered    16733\n",
    "Name: 380, dtype: int64"
   ]
  },
  {
   "cell_type": "markdown",
   "id": "2853ffef",
   "metadata": {},
   "source": [
    "nombre_infected       963\n",
    "nombre_sain          1793\n",
    "nombre_exposed        452\n",
    "nombre_recovered    16792\n",
    "Name: 381, dtype: int64"
   ]
  },
  {
   "cell_type": "markdown",
   "id": "60d5e0e0",
   "metadata": {},
   "source": [
    "nombre_infected       983\n",
    "nombre_sain          1783\n",
    "nombre_exposed        433\n",
    "nombre_recovered    16801\n",
    "Name: 382, dtype: int64"
   ]
  },
  {
   "cell_type": "markdown",
   "id": "bca06f0d",
   "metadata": {},
   "source": [
    "nombre_infected      1006\n",
    "nombre_sain          1802\n",
    "nombre_exposed        398\n",
    "nombre_recovered    16794\n",
    "Name: 383, dtype: int64"
   ]
  },
  {
   "cell_type": "markdown",
   "id": "59356349",
   "metadata": {},
   "source": [
    "nombre_infected       991\n",
    "nombre_sain          1784\n",
    "nombre_exposed        404\n",
    "nombre_recovered    16821\n",
    "Name: 384, dtype: int64"
   ]
  },
  {
   "cell_type": "markdown",
   "id": "41730fb6",
   "metadata": {},
   "source": [
    "nombre_infected       987\n",
    "nombre_sain          1796\n",
    "nombre_exposed        393\n",
    "nombre_recovered    16824\n",
    "Name: 385, dtype: int64"
   ]
  },
  {
   "cell_type": "markdown",
   "id": "b74e34ac",
   "metadata": {},
   "source": [
    "nombre_infected       966\n",
    "nombre_sain          1793\n",
    "nombre_exposed        399\n",
    "nombre_recovered    16842\n",
    "Name: 386, dtype: int64"
   ]
  },
  {
   "cell_type": "markdown",
   "id": "bee0bf7e",
   "metadata": {},
   "source": [
    "nombre_infected       942\n",
    "nombre_sain          1780\n",
    "nombre_exposed        408\n",
    "nombre_recovered    16870\n",
    "Name: 387, dtype: int64"
   ]
  },
  {
   "cell_type": "markdown",
   "id": "15046a03",
   "metadata": {},
   "source": [
    "nombre_infected       923\n",
    "nombre_sain          1779\n",
    "nombre_exposed        407\n",
    "nombre_recovered    16891\n",
    "Name: 388, dtype: int64"
   ]
  },
  {
   "cell_type": "markdown",
   "id": "cb8e8e4c",
   "metadata": {},
   "source": [
    "nombre_infected       909\n",
    "nombre_sain          1793\n",
    "nombre_exposed        382\n",
    "nombre_recovered    16916\n",
    "Name: 389, dtype: int64"
   ]
  },
  {
   "cell_type": "markdown",
   "id": "4bb8da9b",
   "metadata": {},
   "source": [
    "nombre_infected       915\n",
    "nombre_sain          1790\n",
    "nombre_exposed        384\n",
    "nombre_recovered    16911\n",
    "Name: 390, dtype: int64"
   ]
  },
  {
   "cell_type": "markdown",
   "id": "16e4255e",
   "metadata": {},
   "source": [
    "nombre_infected       888\n",
    "nombre_sain          1785\n",
    "nombre_exposed        406\n",
    "nombre_recovered    16921\n",
    "Name: 391, dtype: int64"
   ]
  },
  {
   "cell_type": "markdown",
   "id": "a66dd350",
   "metadata": {},
   "source": [
    "nombre_infected       899\n",
    "nombre_sain          1807\n",
    "nombre_exposed        379\n",
    "nombre_recovered    16915\n",
    "Name: 392, dtype: int64"
   ]
  },
  {
   "cell_type": "markdown",
   "id": "4de6e68a",
   "metadata": {},
   "source": [
    "nombre_infected       901\n",
    "nombre_sain          1802\n",
    "nombre_exposed        363\n",
    "nombre_recovered    16934\n",
    "Name: 393, dtype: int64"
   ]
  },
  {
   "cell_type": "markdown",
   "id": "bff14303",
   "metadata": {},
   "source": [
    "nombre_infected       871\n",
    "nombre_sain          1812\n",
    "nombre_exposed        362\n",
    "nombre_recovered    16955\n",
    "Name: 394, dtype: int64"
   ]
  },
  {
   "cell_type": "markdown",
   "id": "598b1de3",
   "metadata": {},
   "source": [
    "nombre_infected       841\n",
    "nombre_sain          1827\n",
    "nombre_exposed        386\n",
    "nombre_recovered    16946\n",
    "Name: 395, dtype: int64"
   ]
  },
  {
   "cell_type": "markdown",
   "id": "7b3becc4",
   "metadata": {},
   "source": [
    "nombre_infected       832\n",
    "nombre_sain          1829\n",
    "nombre_exposed        388\n",
    "nombre_recovered    16951\n",
    "Name: 396, dtype: int64"
   ]
  },
  {
   "cell_type": "markdown",
   "id": "c1da58a2",
   "metadata": {},
   "source": [
    "nombre_infected       834\n",
    "nombre_sain          1826\n",
    "nombre_exposed        383\n",
    "nombre_recovered    16957\n",
    "Name: 397, dtype: int64"
   ]
  },
  {
   "cell_type": "markdown",
   "id": "8bc7eea1",
   "metadata": {},
   "source": [
    "nombre_infected       829\n",
    "nombre_sain          1846\n",
    "nombre_exposed        373\n",
    "nombre_recovered    16952\n",
    "Name: 398, dtype: int64"
   ]
  },
  {
   "cell_type": "markdown",
   "id": "2344b81b",
   "metadata": {},
   "source": [
    "nombre_infected       818\n",
    "nombre_sain          1900\n",
    "nombre_exposed        346\n",
    "nombre_recovered    16936\n",
    "Name: 399, dtype: int64"
   ]
  },
  {
   "cell_type": "markdown",
   "id": "dcc7bcf7",
   "metadata": {},
   "source": [
    "nombre_infected       809\n",
    "nombre_sain          1908\n",
    "nombre_exposed        339\n",
    "nombre_recovered    16944\n",
    "Name: 400, dtype: int64"
   ]
  },
  {
   "cell_type": "markdown",
   "id": "cc7f64fd",
   "metadata": {},
   "source": [
    "nombre_infected       804\n",
    "nombre_sain          1952\n",
    "nombre_exposed        322\n",
    "nombre_recovered    16922\n",
    "Name: 401, dtype: int64"
   ]
  },
  {
   "cell_type": "markdown",
   "id": "f42e54cc",
   "metadata": {},
   "source": [
    "nombre_infected       814\n",
    "nombre_sain          1980\n",
    "nombre_exposed        304\n",
    "nombre_recovered    16902\n",
    "Name: 402, dtype: int64"
   ]
  },
  {
   "cell_type": "markdown",
   "id": "e8b9cf8c",
   "metadata": {},
   "source": [
    "nombre_infected       800\n",
    "nombre_sain          1993\n",
    "nombre_exposed        310\n",
    "nombre_recovered    16897\n",
    "Name: 403, dtype: int64"
   ]
  },
  {
   "cell_type": "markdown",
   "id": "b36bba8b",
   "metadata": {},
   "source": [
    "nombre_infected       779\n",
    "nombre_sain          1991\n",
    "nombre_exposed        342\n",
    "nombre_recovered    16888\n",
    "Name: 404, dtype: int64"
   ]
  },
  {
   "cell_type": "markdown",
   "id": "6fb18f5e",
   "metadata": {},
   "source": [
    "nombre_infected       760\n",
    "nombre_sain          1998\n",
    "nombre_exposed        357\n",
    "nombre_recovered    16885\n",
    "Name: 405, dtype: int64"
   ]
  },
  {
   "cell_type": "markdown",
   "id": "4ac00da7",
   "metadata": {},
   "source": [
    "nombre_infected       731\n",
    "nombre_sain          2022\n",
    "nombre_exposed        358\n",
    "nombre_recovered    16889\n",
    "Name: 406, dtype: int64"
   ]
  },
  {
   "cell_type": "markdown",
   "id": "7d7a5691",
   "metadata": {},
   "source": [
    "nombre_infected       744\n",
    "nombre_sain          2020\n",
    "nombre_exposed        354\n",
    "nombre_recovered    16882\n",
    "Name: 407, dtype: int64"
   ]
  },
  {
   "cell_type": "markdown",
   "id": "0bafdc8b",
   "metadata": {},
   "source": [
    "nombre_infected       735\n",
    "nombre_sain          2015\n",
    "nombre_exposed        369\n",
    "nombre_recovered    16881\n",
    "Name: 408, dtype: int64"
   ]
  },
  {
   "cell_type": "markdown",
   "id": "ca5b3e8c",
   "metadata": {},
   "source": [
    "nombre_infected       750\n",
    "nombre_sain          2036\n",
    "nombre_exposed        360\n",
    "nombre_recovered    16854\n",
    "Name: 409, dtype: int64"
   ]
  },
  {
   "cell_type": "markdown",
   "id": "d351b412",
   "metadata": {},
   "source": [
    "nombre_infected       737\n",
    "nombre_sain          2053\n",
    "nombre_exposed        351\n",
    "nombre_recovered    16859\n",
    "Name: 410, dtype: int64"
   ]
  },
  {
   "cell_type": "markdown",
   "id": "f27968d8",
   "metadata": {},
   "source": [
    "nombre_infected       740\n",
    "nombre_sain          2081\n",
    "nombre_exposed        355\n",
    "nombre_recovered    16824\n",
    "Name: 411, dtype: int64"
   ]
  },
  {
   "cell_type": "markdown",
   "id": "aa708cdb",
   "metadata": {},
   "source": [
    "nombre_infected       738\n",
    "nombre_sain          2112\n",
    "nombre_exposed        368\n",
    "nombre_recovered    16782\n",
    "Name: 412, dtype: int64"
   ]
  },
  {
   "cell_type": "markdown",
   "id": "f78a47a0",
   "metadata": {},
   "source": [
    "nombre_infected       737\n",
    "nombre_sain          2130\n",
    "nombre_exposed        373\n",
    "nombre_recovered    16760\n",
    "Name: 413, dtype: int64"
   ]
  },
  {
   "cell_type": "markdown",
   "id": "772f9fe9",
   "metadata": {},
   "source": [
    "nombre_infected       733\n",
    "nombre_sain          2161\n",
    "nombre_exposed        377\n",
    "nombre_recovered    16729\n",
    "Name: 414, dtype: int64"
   ]
  },
  {
   "cell_type": "markdown",
   "id": "a14c7844",
   "metadata": {},
   "source": [
    "nombre_infected       736\n",
    "nombre_sain          2184\n",
    "nombre_exposed        388\n",
    "nombre_recovered    16692\n",
    "Name: 415, dtype: int64"
   ]
  },
  {
   "cell_type": "markdown",
   "id": "01bef125",
   "metadata": {},
   "source": [
    "nombre_infected       741\n",
    "nombre_sain          2201\n",
    "nombre_exposed        392\n",
    "nombre_recovered    16666\n",
    "Name: 416, dtype: int64"
   ]
  },
  {
   "cell_type": "markdown",
   "id": "324e6927",
   "metadata": {},
   "source": [
    "nombre_infected       745\n",
    "nombre_sain          2210\n",
    "nombre_exposed        388\n",
    "nombre_recovered    16657\n",
    "Name: 417, dtype: int64"
   ]
  },
  {
   "cell_type": "markdown",
   "id": "3b71c73e",
   "metadata": {},
   "source": [
    "nombre_infected       747\n",
    "nombre_sain          2232\n",
    "nombre_exposed        365\n",
    "nombre_recovered    16656\n",
    "Name: 418, dtype: int64"
   ]
  },
  {
   "cell_type": "markdown",
   "id": "b5d550d3",
   "metadata": {},
   "source": [
    "nombre_infected       743\n",
    "nombre_sain          2253\n",
    "nombre_exposed        353\n",
    "nombre_recovered    16651\n",
    "Name: 419, dtype: int64"
   ]
  },
  {
   "cell_type": "markdown",
   "id": "225b52f3",
   "metadata": {},
   "source": [
    "nombre_infected       738\n",
    "nombre_sain          2261\n",
    "nombre_exposed        367\n",
    "nombre_recovered    16634\n",
    "Name: 420, dtype: int64"
   ]
  },
  {
   "cell_type": "markdown",
   "id": "b036913e",
   "metadata": {},
   "source": [
    "nombre_infected       731\n",
    "nombre_sain          2291\n",
    "nombre_exposed        374\n",
    "nombre_recovered    16604\n",
    "Name: 421, dtype: int64"
   ]
  },
  {
   "cell_type": "markdown",
   "id": "aaaf1e38",
   "metadata": {},
   "source": [
    "nombre_infected       683\n",
    "nombre_sain          2309\n",
    "nombre_exposed        392\n",
    "nombre_recovered    16616\n",
    "Name: 422, dtype: int64"
   ]
  },
  {
   "cell_type": "markdown",
   "id": "e636bb0d",
   "metadata": {},
   "source": [
    "nombre_infected       688\n",
    "nombre_sain          2328\n",
    "nombre_exposed        385\n",
    "nombre_recovered    16599\n",
    "Name: 423, dtype: int64"
   ]
  },
  {
   "cell_type": "markdown",
   "id": "fe87c991",
   "metadata": {},
   "source": [
    "nombre_infected       700\n",
    "nombre_sain          2349\n",
    "nombre_exposed        373\n",
    "nombre_recovered    16578\n",
    "Name: 424, dtype: int64"
   ]
  },
  {
   "cell_type": "markdown",
   "id": "9bfc0fbe",
   "metadata": {},
   "source": [
    "nombre_infected       717\n",
    "nombre_sain          2382\n",
    "nombre_exposed        335\n",
    "nombre_recovered    16566\n",
    "Name: 425, dtype: int64"
   ]
  },
  {
   "cell_type": "markdown",
   "id": "4f3b1f0e",
   "metadata": {},
   "source": [
    "nombre_infected       718\n",
    "nombre_sain          2389\n",
    "nombre_exposed        353\n",
    "nombre_recovered    16540\n",
    "Name: 426, dtype: int64"
   ]
  },
  {
   "cell_type": "markdown",
   "id": "4405cb05",
   "metadata": {},
   "source": [
    "nombre_infected       703\n",
    "nombre_sain          2409\n",
    "nombre_exposed        357\n",
    "nombre_recovered    16531\n",
    "Name: 427, dtype: int64"
   ]
  },
  {
   "cell_type": "markdown",
   "id": "0c556f5c",
   "metadata": {},
   "source": [
    "nombre_infected       688\n",
    "nombre_sain          2412\n",
    "nombre_exposed        383\n",
    "nombre_recovered    16517\n",
    "Name: 428, dtype: int64"
   ]
  },
  {
   "cell_type": "markdown",
   "id": "09f0514e",
   "metadata": {},
   "source": [
    "nombre_infected       672\n",
    "nombre_sain          2423\n",
    "nombre_exposed        398\n",
    "nombre_recovered    16507\n",
    "Name: 429, dtype: int64"
   ]
  },
  {
   "cell_type": "markdown",
   "id": "2b9bf447",
   "metadata": {},
   "source": [
    "nombre_infected       653\n",
    "nombre_sain          2441\n",
    "nombre_exposed        412\n",
    "nombre_recovered    16494\n",
    "Name: 430, dtype: int64"
   ]
  },
  {
   "cell_type": "markdown",
   "id": "e59252d3",
   "metadata": {},
   "source": [
    "nombre_infected       660\n",
    "nombre_sain          2465\n",
    "nombre_exposed        426\n",
    "nombre_recovered    16449\n",
    "Name: 431, dtype: int64"
   ]
  },
  {
   "cell_type": "markdown",
   "id": "a7112e75",
   "metadata": {},
   "source": [
    "nombre_infected       662\n",
    "nombre_sain          2483\n",
    "nombre_exposed        422\n",
    "nombre_recovered    16433\n",
    "Name: 432, dtype: int64"
   ]
  },
  {
   "cell_type": "markdown",
   "id": "70ef9c72",
   "metadata": {},
   "source": [
    "nombre_infected       707\n",
    "nombre_sain          2533\n",
    "nombre_exposed        396\n",
    "nombre_recovered    16364\n",
    "Name: 433, dtype: int64"
   ]
  },
  {
   "cell_type": "markdown",
   "id": "3464e9bb",
   "metadata": {},
   "source": [
    "nombre_infected       714\n",
    "nombre_sain          2542\n",
    "nombre_exposed        411\n",
    "nombre_recovered    16333\n",
    "Name: 434, dtype: int64"
   ]
  },
  {
   "cell_type": "markdown",
   "id": "23ef1b59",
   "metadata": {},
   "source": [
    "nombre_infected       745\n",
    "nombre_sain          2546\n",
    "nombre_exposed        421\n",
    "nombre_recovered    16288\n",
    "Name: 435, dtype: int64"
   ]
  },
  {
   "cell_type": "markdown",
   "id": "6388b3bd",
   "metadata": {},
   "source": [
    "nombre_infected       742\n",
    "nombre_sain          2552\n",
    "nombre_exposed        457\n",
    "nombre_recovered    16249\n",
    "Name: 436, dtype: int64"
   ]
  },
  {
   "cell_type": "markdown",
   "id": "ca68f0bf",
   "metadata": {},
   "source": [
    "nombre_infected       751\n",
    "nombre_sain          2568\n",
    "nombre_exposed        486\n",
    "nombre_recovered    16195\n",
    "Name: 437, dtype: int64"
   ]
  },
  {
   "cell_type": "markdown",
   "id": "8de14ead",
   "metadata": {},
   "source": [
    "nombre_infected       770\n",
    "nombre_sain          2571\n",
    "nombre_exposed        510\n",
    "nombre_recovered    16149\n",
    "Name: 438, dtype: int64"
   ]
  },
  {
   "cell_type": "markdown",
   "id": "9e0d3f61",
   "metadata": {},
   "source": [
    "nombre_infected       788\n",
    "nombre_sain          2577\n",
    "nombre_exposed        511\n",
    "nombre_recovered    16124\n",
    "Name: 439, dtype: int64"
   ]
  },
  {
   "cell_type": "markdown",
   "id": "101ef9db",
   "metadata": {},
   "source": [
    "nombre_infected       823\n",
    "nombre_sain          2571\n",
    "nombre_exposed        506\n",
    "nombre_recovered    16100\n",
    "Name: 440, dtype: int64"
   ]
  },
  {
   "cell_type": "markdown",
   "id": "8c4a7b98",
   "metadata": {},
   "source": [
    "nombre_infected       861\n",
    "nombre_sain          2573\n",
    "nombre_exposed        487\n",
    "nombre_recovered    16079\n",
    "Name: 441, dtype: int64"
   ]
  },
  {
   "cell_type": "markdown",
   "id": "c2675d15",
   "metadata": {},
   "source": [
    "nombre_infected       870\n",
    "nombre_sain          2553\n",
    "nombre_exposed        499\n",
    "nombre_recovered    16078\n",
    "Name: 442, dtype: int64"
   ]
  },
  {
   "cell_type": "markdown",
   "id": "86b0d650",
   "metadata": {},
   "source": [
    "nombre_infected       865\n",
    "nombre_sain          2539\n",
    "nombre_exposed        526\n",
    "nombre_recovered    16070\n",
    "Name: 443, dtype: int64"
   ]
  },
  {
   "cell_type": "markdown",
   "id": "1cf25e57",
   "metadata": {},
   "source": [
    "nombre_infected       882\n",
    "nombre_sain          2510\n",
    "nombre_exposed        541\n",
    "nombre_recovered    16067\n",
    "Name: 444, dtype: int64"
   ]
  },
  {
   "cell_type": "markdown",
   "id": "73e4b4ae",
   "metadata": {},
   "source": [
    "nombre_infected       894\n",
    "nombre_sain          2506\n",
    "nombre_exposed        534\n",
    "nombre_recovered    16066\n",
    "Name: 445, dtype: int64"
   ]
  },
  {
   "cell_type": "markdown",
   "id": "4a791349",
   "metadata": {},
   "source": [
    "nombre_infected       909\n",
    "nombre_sain          2463\n",
    "nombre_exposed        542\n",
    "nombre_recovered    16086\n",
    "Name: 446, dtype: int64"
   ]
  },
  {
   "cell_type": "markdown",
   "id": "8eb78d76",
   "metadata": {},
   "source": [
    "nombre_infected       924\n",
    "nombre_sain          2414\n",
    "nombre_exposed        571\n",
    "nombre_recovered    16091\n",
    "Name: 447, dtype: int64"
   ]
  },
  {
   "cell_type": "markdown",
   "id": "354d026c",
   "metadata": {},
   "source": [
    "nombre_infected       934\n",
    "nombre_sain          2368\n",
    "nombre_exposed        564\n",
    "nombre_recovered    16134\n",
    "Name: 448, dtype: int64"
   ]
  },
  {
   "cell_type": "markdown",
   "id": "bdd40e17",
   "metadata": {},
   "source": [
    "nombre_infected       959\n",
    "nombre_sain          2367\n",
    "nombre_exposed        573\n",
    "nombre_recovered    16101\n",
    "Name: 449, dtype: int64"
   ]
  },
  {
   "cell_type": "markdown",
   "id": "b004c3f7",
   "metadata": {},
   "source": [
    "nombre_infected      1004\n",
    "nombre_sain          2322\n",
    "nombre_exposed        532\n",
    "nombre_recovered    16142\n",
    "Name: 450, dtype: int64"
   ]
  },
  {
   "cell_type": "markdown",
   "id": "8e8bda1e",
   "metadata": {},
   "source": [
    "nombre_infected      1036\n",
    "nombre_sain          2291\n",
    "nombre_exposed        534\n",
    "nombre_recovered    16139\n",
    "Name: 451, dtype: int64"
   ]
  },
  {
   "cell_type": "markdown",
   "id": "7551cee7",
   "metadata": {},
   "source": [
    "nombre_infected      1049\n",
    "nombre_sain          2287\n",
    "nombre_exposed        530\n",
    "nombre_recovered    16134\n",
    "Name: 452, dtype: int64"
   ]
  },
  {
   "cell_type": "markdown",
   "id": "88d81461",
   "metadata": {},
   "source": [
    "nombre_infected      1069\n",
    "nombre_sain          2260\n",
    "nombre_exposed        535\n",
    "nombre_recovered    16136\n",
    "Name: 453, dtype: int64"
   ]
  },
  {
   "cell_type": "markdown",
   "id": "62e78795",
   "metadata": {},
   "source": [
    "nombre_infected      1077\n",
    "nombre_sain          2246\n",
    "nombre_exposed        541\n",
    "nombre_recovered    16136\n",
    "Name: 454, dtype: int64"
   ]
  },
  {
   "cell_type": "markdown",
   "id": "3ffb11a8",
   "metadata": {},
   "source": [
    "nombre_infected      1067\n",
    "nombre_sain          2207\n",
    "nombre_exposed        544\n",
    "nombre_recovered    16182\n",
    "Name: 455, dtype: int64"
   ]
  },
  {
   "cell_type": "markdown",
   "id": "d6b10159",
   "metadata": {},
   "source": [
    "nombre_infected      1085\n",
    "nombre_sain          2194\n",
    "nombre_exposed        523\n",
    "nombre_recovered    16198\n",
    "Name: 456, dtype: int64"
   ]
  },
  {
   "cell_type": "markdown",
   "id": "ce535a6b",
   "metadata": {},
   "source": [
    "nombre_infected      1097\n",
    "nombre_sain          2155\n",
    "nombre_exposed        523\n",
    "nombre_recovered    16225\n",
    "Name: 457, dtype: int64"
   ]
  },
  {
   "cell_type": "markdown",
   "id": "7437077a",
   "metadata": {},
   "source": [
    "nombre_infected      1107\n",
    "nombre_sain          2114\n",
    "nombre_exposed        528\n",
    "nombre_recovered    16251\n",
    "Name: 458, dtype: int64"
   ]
  },
  {
   "cell_type": "markdown",
   "id": "f49419b2",
   "metadata": {},
   "source": [
    "nombre_infected      1140\n",
    "nombre_sain          2066\n",
    "nombre_exposed        531\n",
    "nombre_recovered    16263\n",
    "Name: 459, dtype: int64"
   ]
  },
  {
   "cell_type": "markdown",
   "id": "4f66fa20",
   "metadata": {},
   "source": [
    "nombre_infected      1147\n",
    "nombre_sain          2014\n",
    "nombre_exposed        556\n",
    "nombre_recovered    16283\n",
    "Name: 460, dtype: int64"
   ]
  },
  {
   "cell_type": "markdown",
   "id": "f6d50aa0",
   "metadata": {},
   "source": [
    "nombre_infected      1160\n",
    "nombre_sain          1957\n",
    "nombre_exposed        561\n",
    "nombre_recovered    16322\n",
    "Name: 461, dtype: int64"
   ]
  },
  {
   "cell_type": "markdown",
   "id": "0820f417",
   "metadata": {},
   "source": [
    "nombre_infected      1159\n",
    "nombre_sain          1900\n",
    "nombre_exposed        575\n",
    "nombre_recovered    16366\n",
    "Name: 462, dtype: int64"
   ]
  },
  {
   "cell_type": "markdown",
   "id": "a1c407ef",
   "metadata": {},
   "source": [
    "nombre_infected      1171\n",
    "nombre_sain          1839\n",
    "nombre_exposed        580\n",
    "nombre_recovered    16410\n",
    "Name: 463, dtype: int64"
   ]
  },
  {
   "cell_type": "markdown",
   "id": "90f85347",
   "metadata": {},
   "source": [
    "nombre_infected      1173\n",
    "nombre_sain          1808\n",
    "nombre_exposed        571\n",
    "nombre_recovered    16448\n",
    "Name: 464, dtype: int64"
   ]
  },
  {
   "cell_type": "markdown",
   "id": "1e946359",
   "metadata": {},
   "source": [
    "nombre_infected      1164\n",
    "nombre_sain          1788\n",
    "nombre_exposed        543\n",
    "nombre_recovered    16505\n",
    "Name: 465, dtype: int64"
   ]
  },
  {
   "cell_type": "markdown",
   "id": "900084f1",
   "metadata": {},
   "source": [
    "nombre_infected      1179\n",
    "nombre_sain          1762\n",
    "nombre_exposed        532\n",
    "nombre_recovered    16527\n",
    "Name: 466, dtype: int64"
   ]
  },
  {
   "cell_type": "markdown",
   "id": "67d79de9",
   "metadata": {},
   "source": [
    "nombre_infected      1177\n",
    "nombre_sain          1742\n",
    "nombre_exposed        530\n",
    "nombre_recovered    16551\n",
    "Name: 467, dtype: int64"
   ]
  },
  {
   "cell_type": "markdown",
   "id": "335331cc",
   "metadata": {},
   "source": [
    "nombre_infected      1165\n",
    "nombre_sain          1710\n",
    "nombre_exposed        533\n",
    "nombre_recovered    16592\n",
    "Name: 468, dtype: int64"
   ]
  },
  {
   "cell_type": "markdown",
   "id": "b2cc8eb0",
   "metadata": {},
   "source": [
    "nombre_infected      1168\n",
    "nombre_sain          1718\n",
    "nombre_exposed        503\n",
    "nombre_recovered    16611\n",
    "Name: 469, dtype: int64"
   ]
  },
  {
   "cell_type": "markdown",
   "id": "8130e6e2",
   "metadata": {},
   "source": [
    "nombre_infected      1158\n",
    "nombre_sain          1724\n",
    "nombre_exposed        489\n",
    "nombre_recovered    16629\n",
    "Name: 470, dtype: int64"
   ]
  },
  {
   "cell_type": "markdown",
   "id": "931ac9ea",
   "metadata": {},
   "source": [
    "nombre_infected      1148\n",
    "nombre_sain          1708\n",
    "nombre_exposed        496\n",
    "nombre_recovered    16648\n",
    "Name: 471, dtype: int64"
   ]
  },
  {
   "cell_type": "markdown",
   "id": "3a5c5fd4",
   "metadata": {},
   "source": [
    "nombre_infected      1108\n",
    "nombre_sain          1717\n",
    "nombre_exposed        498\n",
    "nombre_recovered    16677\n",
    "Name: 472, dtype: int64"
   ]
  },
  {
   "cell_type": "markdown",
   "id": "d51f4037",
   "metadata": {},
   "source": [
    "nombre_infected      1085\n",
    "nombre_sain          1696\n",
    "nombre_exposed        500\n",
    "nombre_recovered    16719\n",
    "Name: 473, dtype: int64"
   ]
  },
  {
   "cell_type": "markdown",
   "id": "92907b31",
   "metadata": {},
   "source": [
    "nombre_infected      1072\n",
    "nombre_sain          1688\n",
    "nombre_exposed        502\n",
    "nombre_recovered    16738\n",
    "Name: 474, dtype: int64"
   ]
  },
  {
   "cell_type": "markdown",
   "id": "0eac99f7",
   "metadata": {},
   "source": [
    "nombre_infected      1067\n",
    "nombre_sain          1700\n",
    "nombre_exposed        485\n",
    "nombre_recovered    16748\n",
    "Name: 475, dtype: int64"
   ]
  },
  {
   "cell_type": "markdown",
   "id": "dd533384",
   "metadata": {},
   "source": [
    "nombre_infected      1082\n",
    "nombre_sain          1720\n",
    "nombre_exposed        455\n",
    "nombre_recovered    16743\n",
    "Name: 476, dtype: int64"
   ]
  },
  {
   "cell_type": "markdown",
   "id": "4e621dd7",
   "metadata": {},
   "source": [
    "nombre_infected      1066\n",
    "nombre_sain          1736\n",
    "nombre_exposed        461\n",
    "nombre_recovered    16737\n",
    "Name: 477, dtype: int64"
   ]
  },
  {
   "cell_type": "markdown",
   "id": "6a0830b0",
   "metadata": {},
   "source": [
    "nombre_infected      1072\n",
    "nombre_sain          1752\n",
    "nombre_exposed        424\n",
    "nombre_recovered    16752\n",
    "Name: 478, dtype: int64"
   ]
  },
  {
   "cell_type": "markdown",
   "id": "bd4f45a3",
   "metadata": {},
   "source": [
    "nombre_infected      1038\n",
    "nombre_sain          1779\n",
    "nombre_exposed        436\n",
    "nombre_recovered    16747\n",
    "Name: 479, dtype: int64"
   ]
  },
  {
   "cell_type": "markdown",
   "id": "d5a8bbac",
   "metadata": {},
   "source": [
    "nombre_infected      1025\n",
    "nombre_sain          1809\n",
    "nombre_exposed        419\n",
    "nombre_recovered    16747\n",
    "Name: 480, dtype: int64"
   ]
  },
  {
   "cell_type": "markdown",
   "id": "1899eb23",
   "metadata": {},
   "source": [
    "nombre_infected      1002\n",
    "nombre_sain          1817\n",
    "nombre_exposed        435\n",
    "nombre_recovered    16746\n",
    "Name: 481, dtype: int64"
   ]
  },
  {
   "cell_type": "markdown",
   "id": "57d59ad1",
   "metadata": {},
   "source": [
    "nombre_infected       974\n",
    "nombre_sain          1841\n",
    "nombre_exposed        446\n",
    "nombre_recovered    16739\n",
    "Name: 482, dtype: int64"
   ]
  },
  {
   "cell_type": "markdown",
   "id": "696aea44",
   "metadata": {},
   "source": [
    "nombre_infected       930\n",
    "nombre_sain          1861\n",
    "nombre_exposed        445\n",
    "nombre_recovered    16764\n",
    "Name: 483, dtype: int64"
   ]
  },
  {
   "cell_type": "markdown",
   "id": "e955eb4d",
   "metadata": {},
   "source": [
    "nombre_infected       960\n",
    "nombre_sain          1891\n",
    "nombre_exposed        415\n",
    "nombre_recovered    16734\n",
    "Name: 484, dtype: int64"
   ]
  },
  {
   "cell_type": "markdown",
   "id": "9fb70e94",
   "metadata": {},
   "source": [
    "nombre_infected       962\n",
    "nombre_sain          1936\n",
    "nombre_exposed        404\n",
    "nombre_recovered    16698\n",
    "Name: 485, dtype: int64"
   ]
  },
  {
   "cell_type": "markdown",
   "id": "3f87586d",
   "metadata": {},
   "source": [
    "nombre_infected       939\n",
    "nombre_sain          1941\n",
    "nombre_exposed        427\n",
    "nombre_recovered    16693\n",
    "Name: 486, dtype: int64"
   ]
  },
  {
   "cell_type": "markdown",
   "id": "c06b9336",
   "metadata": {},
   "source": [
    "nombre_infected       926\n",
    "nombre_sain          1952\n",
    "nombre_exposed        425\n",
    "nombre_recovered    16697\n",
    "Name: 487, dtype: int64"
   ]
  },
  {
   "cell_type": "markdown",
   "id": "60171407",
   "metadata": {},
   "source": [
    "nombre_infected       949\n",
    "nombre_sain          2005\n",
    "nombre_exposed        416\n",
    "nombre_recovered    16630\n",
    "Name: 488, dtype: int64"
   ]
  },
  {
   "cell_type": "markdown",
   "id": "c1a35a82",
   "metadata": {},
   "source": [
    "nombre_infected       951\n",
    "nombre_sain          2005\n",
    "nombre_exposed        422\n",
    "nombre_recovered    16622\n",
    "Name: 489, dtype: int64"
   ]
  },
  {
   "cell_type": "markdown",
   "id": "b0315b1b",
   "metadata": {},
   "source": [
    "nombre_infected       951\n",
    "nombre_sain          2035\n",
    "nombre_exposed        437\n",
    "nombre_recovered    16577\n",
    "Name: 490, dtype: int64"
   ]
  },
  {
   "cell_type": "markdown",
   "id": "f34f4757",
   "metadata": {},
   "source": [
    "nombre_infected       974\n",
    "nombre_sain          2027\n",
    "nombre_exposed        443\n",
    "nombre_recovered    16556\n",
    "Name: 491, dtype: int64"
   ]
  },
  {
   "cell_type": "markdown",
   "id": "358e06fa",
   "metadata": {},
   "source": [
    "nombre_infected       995\n",
    "nombre_sain          2043\n",
    "nombre_exposed        441\n",
    "nombre_recovered    16521\n",
    "Name: 492, dtype: int64"
   ]
  },
  {
   "cell_type": "markdown",
   "id": "8033584c",
   "metadata": {},
   "source": [
    "nombre_infected      1000\n",
    "nombre_sain          2062\n",
    "nombre_exposed        426\n",
    "nombre_recovered    16512\n",
    "Name: 493, dtype: int64"
   ]
  },
  {
   "cell_type": "markdown",
   "id": "09a8c521",
   "metadata": {},
   "source": [
    "nombre_infected      1007\n",
    "nombre_sain          2078\n",
    "nombre_exposed        427\n",
    "nombre_recovered    16488\n",
    "Name: 494, dtype: int64"
   ]
  },
  {
   "cell_type": "markdown",
   "id": "4659fd1b",
   "metadata": {},
   "source": [
    "nombre_infected       991\n",
    "nombre_sain          2077\n",
    "nombre_exposed        448\n",
    "nombre_recovered    16484\n",
    "Name: 495, dtype: int64"
   ]
  },
  {
   "cell_type": "markdown",
   "id": "839b131a",
   "metadata": {},
   "source": [
    "nombre_infected       989\n",
    "nombre_sain          2049\n",
    "nombre_exposed        484\n",
    "nombre_recovered    16478\n",
    "Name: 496, dtype: int64"
   ]
  },
  {
   "cell_type": "markdown",
   "id": "37abda85",
   "metadata": {},
   "source": [
    "nombre_infected       998\n",
    "nombre_sain          2059\n",
    "nombre_exposed        498\n",
    "nombre_recovered    16445\n",
    "Name: 497, dtype: int64"
   ]
  },
  {
   "cell_type": "markdown",
   "id": "224b7e61",
   "metadata": {},
   "source": [
    "nombre_infected      1037\n",
    "nombre_sain          2030\n",
    "nombre_exposed        507\n",
    "nombre_recovered    16426\n",
    "Name: 498, dtype: int64"
   ]
  },
  {
   "cell_type": "markdown",
   "id": "1058bdd1",
   "metadata": {},
   "source": [
    "nombre_infected      1063\n",
    "nombre_sain          2008\n",
    "nombre_exposed        510\n",
    "nombre_recovered    16419\n",
    "Name: 499, dtype: int64"
   ]
  },
  {
   "cell_type": "markdown",
   "id": "2fe463f3",
   "metadata": {},
   "source": [
    "nombre_infected      1090\n",
    "nombre_sain          2013\n",
    "nombre_exposed        508\n",
    "nombre_recovered    16389\n",
    "Name: 500, dtype: int64"
   ]
  },
  {
   "cell_type": "markdown",
   "id": "3a3de205",
   "metadata": {},
   "source": [
    "nombre_infected      1116\n",
    "nombre_sain          2014\n",
    "nombre_exposed        496\n",
    "nombre_recovered    16374\n",
    "Name: 501, dtype: int64"
   ]
  },
  {
   "cell_type": "markdown",
   "id": "3e8ac54d",
   "metadata": {},
   "source": [
    "nombre_infected      1143\n",
    "nombre_sain          2022\n",
    "nombre_exposed        492\n",
    "nombre_recovered    16343\n",
    "Name: 502, dtype: int64"
   ]
  },
  {
   "cell_type": "markdown",
   "id": "80c5a054",
   "metadata": {},
   "source": [
    "nombre_infected      1184\n",
    "nombre_sain          2019\n",
    "nombre_exposed        490\n",
    "nombre_recovered    16307\n",
    "Name: 503, dtype: int64"
   ]
  },
  {
   "cell_type": "markdown",
   "id": "75a8fc3e",
   "metadata": {},
   "source": [
    "nombre_infected      1153\n",
    "nombre_sain          2002\n",
    "nombre_exposed        507\n",
    "nombre_recovered    16338\n",
    "Name: 504, dtype: int64"
   ]
  },
  {
   "cell_type": "markdown",
   "id": "68242485",
   "metadata": {},
   "source": [
    "nombre_infected      1128\n",
    "nombre_sain          1986\n",
    "nombre_exposed        521\n",
    "nombre_recovered    16365\n",
    "Name: 505, dtype: int64"
   ]
  },
  {
   "cell_type": "markdown",
   "id": "96c86a20",
   "metadata": {},
   "source": [
    "nombre_infected      1154\n",
    "nombre_sain          1984\n",
    "nombre_exposed        508\n",
    "nombre_recovered    16354\n",
    "Name: 506, dtype: int64"
   ]
  },
  {
   "cell_type": "markdown",
   "id": "707371ec",
   "metadata": {},
   "source": [
    "nombre_infected      1146\n",
    "nombre_sain          1982\n",
    "nombre_exposed        515\n",
    "nombre_recovered    16357\n",
    "Name: 507, dtype: int64"
   ]
  },
  {
   "cell_type": "markdown",
   "id": "6949ca9c",
   "metadata": {},
   "source": [
    "nombre_infected      1158\n",
    "nombre_sain          1973\n",
    "nombre_exposed        529\n",
    "nombre_recovered    16340\n",
    "Name: 508, dtype: int64"
   ]
  },
  {
   "cell_type": "markdown",
   "id": "7b90aa54",
   "metadata": {},
   "source": [
    "nombre_infected      1165\n",
    "nombre_sain          1958\n",
    "nombre_exposed        534\n",
    "nombre_recovered    16343\n",
    "Name: 509, dtype: int64"
   ]
  },
  {
   "cell_type": "markdown",
   "id": "0c970c18",
   "metadata": {},
   "source": [
    "nombre_infected      1154\n",
    "nombre_sain          1944\n",
    "nombre_exposed        534\n",
    "nombre_recovered    16368\n",
    "Name: 510, dtype: int64"
   ]
  },
  {
   "cell_type": "markdown",
   "id": "dbc8a818",
   "metadata": {},
   "source": [
    "nombre_infected      1159\n",
    "nombre_sain          1925\n",
    "nombre_exposed        547\n",
    "nombre_recovered    16369\n",
    "Name: 511, dtype: int64"
   ]
  },
  {
   "cell_type": "markdown",
   "id": "0adae192",
   "metadata": {},
   "source": [
    "nombre_infected      1174\n",
    "nombre_sain          1925\n",
    "nombre_exposed        532\n",
    "nombre_recovered    16369\n",
    "Name: 512, dtype: int64"
   ]
  },
  {
   "cell_type": "markdown",
   "id": "cdbd49ea",
   "metadata": {},
   "source": [
    "nombre_infected      1157\n",
    "nombre_sain          1893\n",
    "nombre_exposed        522\n",
    "nombre_recovered    16428\n",
    "Name: 513, dtype: int64"
   ]
  },
  {
   "cell_type": "markdown",
   "id": "36ed6c22",
   "metadata": {},
   "source": [
    "nombre_infected      1146\n",
    "nombre_sain          1901\n",
    "nombre_exposed        521\n",
    "nombre_recovered    16432\n",
    "Name: 514, dtype: int64"
   ]
  },
  {
   "cell_type": "markdown",
   "id": "44c138bc",
   "metadata": {},
   "source": [
    "nombre_infected      1152\n",
    "nombre_sain          1900\n",
    "nombre_exposed        523\n",
    "nombre_recovered    16425\n",
    "Name: 515, dtype: int64"
   ]
  },
  {
   "cell_type": "markdown",
   "id": "4453e112",
   "metadata": {},
   "source": [
    "nombre_infected      1139\n",
    "nombre_sain          1911\n",
    "nombre_exposed        520\n",
    "nombre_recovered    16430\n",
    "Name: 516, dtype: int64"
   ]
  },
  {
   "cell_type": "markdown",
   "id": "01c7f8e7",
   "metadata": {},
   "source": [
    "nombre_infected      1150\n",
    "nombre_sain          1888\n",
    "nombre_exposed        536\n",
    "nombre_recovered    16426\n",
    "Name: 517, dtype: int64"
   ]
  },
  {
   "cell_type": "markdown",
   "id": "35b632cb",
   "metadata": {},
   "source": [
    "nombre_infected      1136\n",
    "nombre_sain          1900\n",
    "nombre_exposed        555\n",
    "nombre_recovered    16409\n",
    "Name: 518, dtype: int64"
   ]
  },
  {
   "cell_type": "markdown",
   "id": "7265d656",
   "metadata": {},
   "source": [
    "nombre_infected      1155\n",
    "nombre_sain          1914\n",
    "nombre_exposed        519\n",
    "nombre_recovered    16412\n",
    "Name: 519, dtype: int64"
   ]
  },
  {
   "cell_type": "markdown",
   "id": "688c5496",
   "metadata": {},
   "source": [
    "nombre_infected      1159\n",
    "nombre_sain          1899\n",
    "nombre_exposed        515\n",
    "nombre_recovered    16427\n",
    "Name: 520, dtype: int64"
   ]
  },
  {
   "cell_type": "markdown",
   "id": "d8ba9e7e",
   "metadata": {},
   "source": [
    "nombre_infected      1139\n",
    "nombre_sain          1872\n",
    "nombre_exposed        544\n",
    "nombre_recovered    16445\n",
    "Name: 521, dtype: int64"
   ]
  },
  {
   "cell_type": "markdown",
   "id": "3b88e260",
   "metadata": {},
   "source": [
    "nombre_infected      1126\n",
    "nombre_sain          1894\n",
    "nombre_exposed        542\n",
    "nombre_recovered    16438\n",
    "Name: 522, dtype: int64"
   ]
  },
  {
   "cell_type": "markdown",
   "id": "35f3c911",
   "metadata": {},
   "source": [
    "nombre_infected      1128\n",
    "nombre_sain          1891\n",
    "nombre_exposed        541\n",
    "nombre_recovered    16440\n",
    "Name: 523, dtype: int64"
   ]
  },
  {
   "cell_type": "markdown",
   "id": "4592e806",
   "metadata": {},
   "source": [
    "nombre_infected      1125\n",
    "nombre_sain          1918\n",
    "nombre_exposed        527\n",
    "nombre_recovered    16430\n",
    "Name: 524, dtype: int64"
   ]
  },
  {
   "cell_type": "markdown",
   "id": "ddab0c1d",
   "metadata": {},
   "source": [
    "nombre_infected      1120\n",
    "nombre_sain          1929\n",
    "nombre_exposed        527\n",
    "nombre_recovered    16424\n",
    "Name: 525, dtype: int64"
   ]
  },
  {
   "cell_type": "markdown",
   "id": "48aebf8f",
   "metadata": {},
   "source": [
    "nombre_infected      1124\n",
    "nombre_sain          1905\n",
    "nombre_exposed        522\n",
    "nombre_recovered    16449\n",
    "Name: 526, dtype: int64"
   ]
  },
  {
   "cell_type": "markdown",
   "id": "a34af038",
   "metadata": {},
   "source": [
    "nombre_infected      1111\n",
    "nombre_sain          1920\n",
    "nombre_exposed        510\n",
    "nombre_recovered    16459\n",
    "Name: 527, dtype: int64"
   ]
  },
  {
   "cell_type": "markdown",
   "id": "fbe3327b",
   "metadata": {},
   "source": [
    "nombre_infected      1119\n",
    "nombre_sain          1958\n",
    "nombre_exposed        494\n",
    "nombre_recovered    16429\n",
    "Name: 528, dtype: int64"
   ]
  },
  {
   "cell_type": "markdown",
   "id": "89fb9d60",
   "metadata": {},
   "source": [
    "nombre_infected      1097\n",
    "nombre_sain          1918\n",
    "nombre_exposed        526\n",
    "nombre_recovered    16459\n",
    "Name: 529, dtype: int64"
   ]
  },
  {
   "cell_type": "markdown",
   "id": "ba56a1f9",
   "metadata": {},
   "source": [
    "nombre_infected      1077\n",
    "nombre_sain          1915\n",
    "nombre_exposed        537\n",
    "nombre_recovered    16471\n",
    "Name: 530, dtype: int64"
   ]
  },
  {
   "cell_type": "markdown",
   "id": "92420d3d",
   "metadata": {},
   "source": [
    "nombre_infected      1081\n",
    "nombre_sain          1917\n",
    "nombre_exposed        530\n",
    "nombre_recovered    16472\n",
    "Name: 531, dtype: int64"
   ]
  },
  {
   "cell_type": "markdown",
   "id": "34f0c2e1",
   "metadata": {},
   "source": [
    "nombre_infected      1047\n",
    "nombre_sain          1887\n",
    "nombre_exposed        538\n",
    "nombre_recovered    16528\n",
    "Name: 532, dtype: int64"
   ]
  },
  {
   "cell_type": "markdown",
   "id": "6009de71",
   "metadata": {},
   "source": [
    "nombre_infected      1015\n",
    "nombre_sain          1880\n",
    "nombre_exposed        543\n",
    "nombre_recovered    16562\n",
    "Name: 533, dtype: int64"
   ]
  },
  {
   "cell_type": "markdown",
   "id": "0e9271fe",
   "metadata": {},
   "source": [
    "nombre_infected       998\n",
    "nombre_sain          1925\n",
    "nombre_exposed        523\n",
    "nombre_recovered    16554\n",
    "Name: 534, dtype: int64"
   ]
  },
  {
   "cell_type": "markdown",
   "id": "dccf7395",
   "metadata": {},
   "source": [
    "nombre_infected      1000\n",
    "nombre_sain          1951\n",
    "nombre_exposed        504\n",
    "nombre_recovered    16545\n",
    "Name: 535, dtype: int64"
   ]
  },
  {
   "cell_type": "markdown",
   "id": "68b84f31",
   "metadata": {},
   "source": [
    "nombre_infected       988\n",
    "nombre_sain          1934\n",
    "nombre_exposed        516\n",
    "nombre_recovered    16562\n",
    "Name: 536, dtype: int64"
   ]
  },
  {
   "cell_type": "markdown",
   "id": "2192c472",
   "metadata": {},
   "source": [
    "nombre_infected      1015\n",
    "nombre_sain          1968\n",
    "nombre_exposed        489\n",
    "nombre_recovered    16528\n",
    "Name: 537, dtype: int64"
   ]
  },
  {
   "cell_type": "markdown",
   "id": "bdf5e660",
   "metadata": {},
   "source": [
    "nombre_infected      1001\n",
    "nombre_sain          1966\n",
    "nombre_exposed        486\n",
    "nombre_recovered    16547\n",
    "Name: 538, dtype: int64"
   ]
  },
  {
   "cell_type": "markdown",
   "id": "e645648f",
   "metadata": {},
   "source": [
    "nombre_infected       982\n",
    "nombre_sain          1969\n",
    "nombre_exposed        493\n",
    "nombre_recovered    16556\n",
    "Name: 539, dtype: int64"
   ]
  },
  {
   "cell_type": "markdown",
   "id": "f51f9b91",
   "metadata": {},
   "source": [
    "nombre_infected       981\n",
    "nombre_sain          1973\n",
    "nombre_exposed        474\n",
    "nombre_recovered    16572\n",
    "Name: 540, dtype: int64"
   ]
  },
  {
   "cell_type": "markdown",
   "id": "5edea6e9",
   "metadata": {},
   "source": [
    "nombre_infected       967\n",
    "nombre_sain          1984\n",
    "nombre_exposed        476\n",
    "nombre_recovered    16573\n",
    "Name: 541, dtype: int64"
   ]
  },
  {
   "cell_type": "markdown",
   "id": "ee2b7aa8",
   "metadata": {},
   "source": [
    "nombre_infected       956\n",
    "nombre_sain          1961\n",
    "nombre_exposed        481\n",
    "nombre_recovered    16602\n",
    "Name: 542, dtype: int64"
   ]
  },
  {
   "cell_type": "markdown",
   "id": "06c3078e",
   "metadata": {},
   "source": [
    "nombre_infected       972\n",
    "nombre_sain          1950\n",
    "nombre_exposed        486\n",
    "nombre_recovered    16592\n",
    "Name: 543, dtype: int64"
   ]
  },
  {
   "cell_type": "markdown",
   "id": "9fbd2974",
   "metadata": {},
   "source": [
    "nombre_infected       981\n",
    "nombre_sain          1938\n",
    "nombre_exposed        507\n",
    "nombre_recovered    16574\n",
    "Name: 544, dtype: int64"
   ]
  },
  {
   "cell_type": "markdown",
   "id": "2abf5027",
   "metadata": {},
   "source": [
    "nombre_infected       983\n",
    "nombre_sain          1939\n",
    "nombre_exposed        486\n",
    "nombre_recovered    16592\n",
    "Name: 545, dtype: int64"
   ]
  },
  {
   "cell_type": "markdown",
   "id": "bf9e097c",
   "metadata": {},
   "source": [
    "nombre_infected       986\n",
    "nombre_sain          1929\n",
    "nombre_exposed        474\n",
    "nombre_recovered    16611\n",
    "Name: 546, dtype: int64"
   ]
  },
  {
   "cell_type": "markdown",
   "id": "22684357",
   "metadata": {},
   "source": [
    "nombre_infected       983\n",
    "nombre_sain          1930\n",
    "nombre_exposed        472\n",
    "nombre_recovered    16615\n",
    "Name: 547, dtype: int64"
   ]
  },
  {
   "cell_type": "markdown",
   "id": "ded1fad5",
   "metadata": {},
   "source": [
    "nombre_infected       996\n",
    "nombre_sain          1934\n",
    "nombre_exposed        449\n",
    "nombre_recovered    16621\n",
    "Name: 548, dtype: int64"
   ]
  },
  {
   "cell_type": "markdown",
   "id": "07c397ae",
   "metadata": {},
   "source": [
    "nombre_infected       971\n",
    "nombre_sain          1925\n",
    "nombre_exposed        459\n",
    "nombre_recovered    16645\n",
    "Name: 549, dtype: int64"
   ]
  },
  {
   "cell_type": "markdown",
   "id": "e26987e3",
   "metadata": {},
   "source": [
    "nombre_infected       967\n",
    "nombre_sain          1917\n",
    "nombre_exposed        456\n",
    "nombre_recovered    16660\n",
    "Name: 550, dtype: int64"
   ]
  },
  {
   "cell_type": "markdown",
   "id": "cff1b0a1",
   "metadata": {},
   "source": [
    "nombre_infected       963\n",
    "nombre_sain          1920\n",
    "nombre_exposed        454\n",
    "nombre_recovered    16663\n",
    "Name: 551, dtype: int64"
   ]
  },
  {
   "cell_type": "markdown",
   "id": "cd04850a",
   "metadata": {},
   "source": [
    "nombre_infected       989\n",
    "nombre_sain          1932\n",
    "nombre_exposed        425\n",
    "nombre_recovered    16654\n",
    "Name: 552, dtype: int64"
   ]
  },
  {
   "cell_type": "markdown",
   "id": "69130c58",
   "metadata": {},
   "source": [
    "nombre_infected      1000\n",
    "nombre_sain          1899\n",
    "nombre_exposed        447\n",
    "nombre_recovered    16654\n",
    "Name: 553, dtype: int64"
   ]
  },
  {
   "cell_type": "markdown",
   "id": "7e83fcd2",
   "metadata": {},
   "source": [
    "nombre_infected       987\n",
    "nombre_sain          1897\n",
    "nombre_exposed        453\n",
    "nombre_recovered    16663\n",
    "Name: 554, dtype: int64"
   ]
  },
  {
   "cell_type": "markdown",
   "id": "11a8752f",
   "metadata": {},
   "source": [
    "nombre_infected      1005\n",
    "nombre_sain          1889\n",
    "nombre_exposed        436\n",
    "nombre_recovered    16670\n",
    "Name: 555, dtype: int64"
   ]
  },
  {
   "cell_type": "markdown",
   "id": "cb3985d4",
   "metadata": {},
   "source": [
    "nombre_infected       994\n",
    "nombre_sain          1897\n",
    "nombre_exposed        435\n",
    "nombre_recovered    16674\n",
    "Name: 556, dtype: int64"
   ]
  },
  {
   "cell_type": "markdown",
   "id": "e287c83b",
   "metadata": {},
   "source": [
    "nombre_infected       981\n",
    "nombre_sain          1906\n",
    "nombre_exposed        430\n",
    "nombre_recovered    16683\n",
    "Name: 557, dtype: int64"
   ]
  },
  {
   "cell_type": "markdown",
   "id": "53e327dd",
   "metadata": {},
   "source": [
    "nombre_infected       991\n",
    "nombre_sain          1894\n",
    "nombre_exposed        432\n",
    "nombre_recovered    16683\n",
    "Name: 558, dtype: int64"
   ]
  },
  {
   "cell_type": "markdown",
   "id": "1b843e8d",
   "metadata": {},
   "source": [
    "nombre_infected       979\n",
    "nombre_sain          1906\n",
    "nombre_exposed        426\n",
    "nombre_recovered    16689\n",
    "Name: 559, dtype: int64"
   ]
  },
  {
   "cell_type": "markdown",
   "id": "f5b214a7",
   "metadata": {},
   "source": [
    "nombre_infected      1014\n",
    "nombre_sain          1918\n",
    "nombre_exposed        404\n",
    "nombre_recovered    16664\n",
    "Name: 560, dtype: int64"
   ]
  },
  {
   "cell_type": "markdown",
   "id": "c38f72a4",
   "metadata": {},
   "source": [
    "nombre_infected       994\n",
    "nombre_sain          1926\n",
    "nombre_exposed        410\n",
    "nombre_recovered    16670\n",
    "Name: 561, dtype: int64"
   ]
  },
  {
   "cell_type": "markdown",
   "id": "443edcf8",
   "metadata": {},
   "source": [
    "nombre_infected      1007\n",
    "nombre_sain          1921\n",
    "nombre_exposed        416\n",
    "nombre_recovered    16656\n",
    "Name: 562, dtype: int64"
   ]
  },
  {
   "cell_type": "markdown",
   "id": "e017dd56",
   "metadata": {},
   "source": [
    "nombre_infected       985\n",
    "nombre_sain          1928\n",
    "nombre_exposed        436\n",
    "nombre_recovered    16651\n",
    "Name: 563, dtype: int64"
   ]
  },
  {
   "cell_type": "markdown",
   "id": "ca0ddbdb",
   "metadata": {},
   "source": [
    "nombre_infected       985\n",
    "nombre_sain          1930\n",
    "nombre_exposed        449\n",
    "nombre_recovered    16636\n",
    "Name: 564, dtype: int64"
   ]
  },
  {
   "cell_type": "markdown",
   "id": "5a819906",
   "metadata": {},
   "source": [
    "nombre_infected      1001\n",
    "nombre_sain          1916\n",
    "nombre_exposed        439\n",
    "nombre_recovered    16644\n",
    "Name: 565, dtype: int64"
   ]
  },
  {
   "cell_type": "markdown",
   "id": "b9e7cb1b",
   "metadata": {},
   "source": [
    "nombre_infected       987\n",
    "nombre_sain          1922\n",
    "nombre_exposed        453\n",
    "nombre_recovered    16638\n",
    "Name: 566, dtype: int64"
   ]
  },
  {
   "cell_type": "markdown",
   "id": "e63ce258",
   "metadata": {},
   "source": [
    "nombre_infected      1002\n",
    "nombre_sain          1891\n",
    "nombre_exposed        453\n",
    "nombre_recovered    16654\n",
    "Name: 567, dtype: int64"
   ]
  },
  {
   "cell_type": "markdown",
   "id": "dbb99cba",
   "metadata": {},
   "source": [
    "nombre_infected       986\n",
    "nombre_sain          1870\n",
    "nombre_exposed        473\n",
    "nombre_recovered    16671\n",
    "Name: 568, dtype: int64"
   ]
  },
  {
   "cell_type": "markdown",
   "id": "7cf8f518",
   "metadata": {},
   "source": [
    "nombre_infected       992\n",
    "nombre_sain          1863\n",
    "nombre_exposed        467\n",
    "nombre_recovered    16678\n",
    "Name: 569, dtype: int64"
   ]
  },
  {
   "cell_type": "markdown",
   "id": "75f0d7c5",
   "metadata": {},
   "source": [
    "nombre_infected       972\n",
    "nombre_sain          1851\n",
    "nombre_exposed        491\n",
    "nombre_recovered    16686\n",
    "Name: 570, dtype: int64"
   ]
  },
  {
   "cell_type": "markdown",
   "id": "d7c5d3e2",
   "metadata": {},
   "source": [
    "nombre_infected       944\n",
    "nombre_sain          1845\n",
    "nombre_exposed        502\n",
    "nombre_recovered    16709\n",
    "Name: 571, dtype: int64"
   ]
  },
  {
   "cell_type": "markdown",
   "id": "83cad261",
   "metadata": {},
   "source": [
    "nombre_infected       956\n",
    "nombre_sain          1867\n",
    "nombre_exposed        488\n",
    "nombre_recovered    16689\n",
    "Name: 572, dtype: int64"
   ]
  },
  {
   "cell_type": "markdown",
   "id": "5dfe9440",
   "metadata": {},
   "source": [
    "nombre_infected       994\n",
    "nombre_sain          1814\n",
    "nombre_exposed        501\n",
    "nombre_recovered    16691\n",
    "Name: 573, dtype: int64"
   ]
  },
  {
   "cell_type": "markdown",
   "id": "d2977ebb",
   "metadata": {},
   "source": [
    "nombre_infected       985\n",
    "nombre_sain          1817\n",
    "nombre_exposed        490\n",
    "nombre_recovered    16708\n",
    "Name: 574, dtype: int64"
   ]
  },
  {
   "cell_type": "markdown",
   "id": "18306266",
   "metadata": {},
   "source": [
    "nombre_infected      1000\n",
    "nombre_sain          1809\n",
    "nombre_exposed        477\n",
    "nombre_recovered    16714\n",
    "Name: 575, dtype: int64"
   ]
  },
  {
   "cell_type": "markdown",
   "id": "01d437b3",
   "metadata": {},
   "source": [
    "nombre_infected      1006\n",
    "nombre_sain          1805\n",
    "nombre_exposed        468\n",
    "nombre_recovered    16721\n",
    "Name: 576, dtype: int64"
   ]
  },
  {
   "cell_type": "markdown",
   "id": "1ee038a3",
   "metadata": {},
   "source": [
    "nombre_infected      1024\n",
    "nombre_sain          1776\n",
    "nombre_exposed        458\n",
    "nombre_recovered    16742\n",
    "Name: 577, dtype: int64"
   ]
  },
  {
   "cell_type": "markdown",
   "id": "f31c2999",
   "metadata": {},
   "source": [
    "nombre_infected      1035\n",
    "nombre_sain          1762\n",
    "nombre_exposed        463\n",
    "nombre_recovered    16740\n",
    "Name: 578, dtype: int64"
   ]
  },
  {
   "cell_type": "markdown",
   "id": "d8ad6568",
   "metadata": {},
   "source": [
    "nombre_infected      1029\n",
    "nombre_sain          1752\n",
    "nombre_exposed        465\n",
    "nombre_recovered    16754\n",
    "Name: 579, dtype: int64"
   ]
  },
  {
   "cell_type": "markdown",
   "id": "225df448",
   "metadata": {},
   "source": [
    "nombre_infected      1004\n",
    "nombre_sain          1729\n",
    "nombre_exposed        488\n",
    "nombre_recovered    16779\n",
    "Name: 580, dtype: int64"
   ]
  },
  {
   "cell_type": "markdown",
   "id": "45a2d868",
   "metadata": {},
   "source": [
    "nombre_infected      1003\n",
    "nombre_sain          1733\n",
    "nombre_exposed        454\n",
    "nombre_recovered    16810\n",
    "Name: 581, dtype: int64"
   ]
  },
  {
   "cell_type": "markdown",
   "id": "511d8ffa",
   "metadata": {},
   "source": [
    "nombre_infected      1001\n",
    "nombre_sain          1734\n",
    "nombre_exposed        427\n",
    "nombre_recovered    16838\n",
    "Name: 582, dtype: int64"
   ]
  },
  {
   "cell_type": "markdown",
   "id": "4628be83",
   "metadata": {},
   "source": [
    "nombre_infected       987\n",
    "nombre_sain          1708\n",
    "nombre_exposed        436\n",
    "nombre_recovered    16869\n",
    "Name: 583, dtype: int64"
   ]
  },
  {
   "cell_type": "markdown",
   "id": "e246215e",
   "metadata": {},
   "source": [
    "nombre_infected       987\n",
    "nombre_sain          1714\n",
    "nombre_exposed        421\n",
    "nombre_recovered    16878\n",
    "Name: 584, dtype: int64"
   ]
  },
  {
   "cell_type": "markdown",
   "id": "c6251572",
   "metadata": {},
   "source": [
    "nombre_infected       985\n",
    "nombre_sain          1693\n",
    "nombre_exposed        423\n",
    "nombre_recovered    16899\n",
    "Name: 585, dtype: int64"
   ]
  },
  {
   "cell_type": "markdown",
   "id": "e46c1835",
   "metadata": {},
   "source": [
    "nombre_infected       963\n",
    "nombre_sain          1701\n",
    "nombre_exposed        428\n",
    "nombre_recovered    16908\n",
    "Name: 586, dtype: int64"
   ]
  },
  {
   "cell_type": "markdown",
   "id": "e5cba74d",
   "metadata": {},
   "source": [
    "nombre_infected       946\n",
    "nombre_sain          1693\n",
    "nombre_exposed        409\n",
    "nombre_recovered    16952\n",
    "Name: 587, dtype: int64"
   ]
  },
  {
   "cell_type": "markdown",
   "id": "39836587",
   "metadata": {},
   "source": [
    "nombre_infected       938\n",
    "nombre_sain          1722\n",
    "nombre_exposed        401\n",
    "nombre_recovered    16939\n",
    "Name: 588, dtype: int64"
   ]
  },
  {
   "cell_type": "markdown",
   "id": "ae11009e",
   "metadata": {},
   "source": [
    "nombre_infected       952\n",
    "nombre_sain          1763\n",
    "nombre_exposed        384\n",
    "nombre_recovered    16901\n",
    "Name: 589, dtype: int64"
   ]
  },
  {
   "cell_type": "markdown",
   "id": "4d3e27ee",
   "metadata": {},
   "source": [
    "nombre_infected       933\n",
    "nombre_sain          1767\n",
    "nombre_exposed        390\n",
    "nombre_recovered    16910\n",
    "Name: 590, dtype: int64"
   ]
  },
  {
   "cell_type": "markdown",
   "id": "a043091a",
   "metadata": {},
   "source": [
    "nombre_infected       919\n",
    "nombre_sain          1785\n",
    "nombre_exposed        378\n",
    "nombre_recovered    16918\n",
    "Name: 591, dtype: int64"
   ]
  },
  {
   "cell_type": "markdown",
   "id": "1f2710ea",
   "metadata": {},
   "source": [
    "nombre_infected       893\n",
    "nombre_sain          1769\n",
    "nombre_exposed        413\n",
    "nombre_recovered    16925\n",
    "Name: 592, dtype: int64"
   ]
  },
  {
   "cell_type": "markdown",
   "id": "cea35a06",
   "metadata": {},
   "source": [
    "nombre_infected       850\n",
    "nombre_sain          1769\n",
    "nombre_exposed        403\n",
    "nombre_recovered    16978\n",
    "Name: 593, dtype: int64"
   ]
  },
  {
   "cell_type": "markdown",
   "id": "d60a7ac2",
   "metadata": {},
   "source": [
    "nombre_infected       850\n",
    "nombre_sain          1774\n",
    "nombre_exposed        384\n",
    "nombre_recovered    16992\n",
    "Name: 594, dtype: int64"
   ]
  },
  {
   "cell_type": "markdown",
   "id": "fb263e39",
   "metadata": {},
   "source": [
    "nombre_infected       850\n",
    "nombre_sain          1812\n",
    "nombre_exposed        343\n",
    "nombre_recovered    16995\n",
    "Name: 595, dtype: int64"
   ]
  },
  {
   "cell_type": "markdown",
   "id": "39b0a144",
   "metadata": {},
   "source": [
    "nombre_infected       826\n",
    "nombre_sain          1820\n",
    "nombre_exposed        357\n",
    "nombre_recovered    16997\n",
    "Name: 596, dtype: int64"
   ]
  },
  {
   "cell_type": "markdown",
   "id": "be23fa9e",
   "metadata": {},
   "source": [
    "nombre_infected       820\n",
    "nombre_sain          1822\n",
    "nombre_exposed        356\n",
    "nombre_recovered    17002\n",
    "Name: 597, dtype: int64"
   ]
  },
  {
   "cell_type": "markdown",
   "id": "5e6c8a89",
   "metadata": {},
   "source": [
    "nombre_infected       835\n",
    "nombre_sain          1849\n",
    "nombre_exposed        346\n",
    "nombre_recovered    16970\n",
    "Name: 598, dtype: int64"
   ]
  },
  {
   "cell_type": "markdown",
   "id": "efebdc3e",
   "metadata": {},
   "source": [
    "nombre_infected       825\n",
    "nombre_sain          1867\n",
    "nombre_exposed        347\n",
    "nombre_recovered    16961\n",
    "Name: 599, dtype: int64"
   ]
  },
  {
   "cell_type": "markdown",
   "id": "3d7cd79c",
   "metadata": {},
   "source": [
    "nombre_infected       820\n",
    "nombre_sain          1855\n",
    "nombre_exposed        374\n",
    "nombre_recovered    16951\n",
    "Name: 600, dtype: int64"
   ]
  },
  {
   "cell_type": "markdown",
   "id": "4ce995a7",
   "metadata": {},
   "source": [
    "nombre_infected       822\n",
    "nombre_sain          1866\n",
    "nombre_exposed        393\n",
    "nombre_recovered    16919\n",
    "Name: 601, dtype: int64"
   ]
  },
  {
   "cell_type": "markdown",
   "id": "c92ed49a",
   "metadata": {},
   "source": [
    "nombre_infected       839\n",
    "nombre_sain          1895\n",
    "nombre_exposed        371\n",
    "nombre_recovered    16895\n",
    "Name: 602, dtype: int64"
   ]
  },
  {
   "cell_type": "markdown",
   "id": "cd93af64",
   "metadata": {},
   "source": [
    "nombre_infected       814\n",
    "nombre_sain          1898\n",
    "nombre_exposed        365\n",
    "nombre_recovered    16923\n",
    "Name: 603, dtype: int64"
   ]
  },
  {
   "cell_type": "markdown",
   "id": "8b6a8002",
   "metadata": {},
   "source": [
    "nombre_infected       815\n",
    "nombre_sain          1900\n",
    "nombre_exposed        364\n",
    "nombre_recovered    16921\n",
    "Name: 604, dtype: int64"
   ]
  },
  {
   "cell_type": "markdown",
   "id": "8033bd01",
   "metadata": {},
   "source": [
    "nombre_infected       801\n",
    "nombre_sain          1911\n",
    "nombre_exposed        382\n",
    "nombre_recovered    16906\n",
    "Name: 605, dtype: int64"
   ]
  },
  {
   "cell_type": "markdown",
   "id": "617480d1",
   "metadata": {},
   "source": [
    "nombre_infected       819\n",
    "nombre_sain          1910\n",
    "nombre_exposed        365\n",
    "nombre_recovered    16906\n",
    "Name: 606, dtype: int64"
   ]
  },
  {
   "cell_type": "markdown",
   "id": "482b5435",
   "metadata": {},
   "source": [
    "nombre_infected       822\n",
    "nombre_sain          1924\n",
    "nombre_exposed        357\n",
    "nombre_recovered    16897\n",
    "Name: 607, dtype: int64"
   ]
  },
  {
   "cell_type": "markdown",
   "id": "8f321eea",
   "metadata": {},
   "source": [
    "nombre_infected       818\n",
    "nombre_sain          1913\n",
    "nombre_exposed        363\n",
    "nombre_recovered    16906\n",
    "Name: 608, dtype: int64"
   ]
  },
  {
   "cell_type": "markdown",
   "id": "23d3c48f",
   "metadata": {},
   "source": [
    "nombre_infected       800\n",
    "nombre_sain          1945\n",
    "nombre_exposed        352\n",
    "nombre_recovered    16903\n",
    "Name: 609, dtype: int64"
   ]
  },
  {
   "cell_type": "markdown",
   "id": "2f240f4c",
   "metadata": {},
   "source": [
    "nombre_infected       814\n",
    "nombre_sain          1953\n",
    "nombre_exposed        333\n",
    "nombre_recovered    16900\n",
    "Name: 610, dtype: int64"
   ]
  },
  {
   "cell_type": "markdown",
   "id": "cee29a79",
   "metadata": {},
   "source": [
    "nombre_infected       799\n",
    "nombre_sain          1948\n",
    "nombre_exposed        345\n",
    "nombre_recovered    16908\n",
    "Name: 611, dtype: int64"
   ]
  },
  {
   "cell_type": "markdown",
   "id": "018fb83f",
   "metadata": {},
   "source": [
    "nombre_infected       801\n",
    "nombre_sain          1961\n",
    "nombre_exposed        338\n",
    "nombre_recovered    16900\n",
    "Name: 612, dtype: int64"
   ]
  },
  {
   "cell_type": "markdown",
   "id": "17737712",
   "metadata": {},
   "source": [
    "nombre_infected       805\n",
    "nombre_sain          1945\n",
    "nombre_exposed        359\n",
    "nombre_recovered    16891\n",
    "Name: 613, dtype: int64"
   ]
  },
  {
   "cell_type": "markdown",
   "id": "552f1700",
   "metadata": {},
   "source": [
    "nombre_infected       807\n",
    "nombre_sain          1978\n",
    "nombre_exposed        355\n",
    "nombre_recovered    16860\n",
    "Name: 614, dtype: int64"
   ]
  },
  {
   "cell_type": "markdown",
   "id": "e32be27f",
   "metadata": {},
   "source": [
    "nombre_infected       802\n",
    "nombre_sain          2001\n",
    "nombre_exposed        348\n",
    "nombre_recovered    16849\n",
    "Name: 615, dtype: int64"
   ]
  },
  {
   "cell_type": "markdown",
   "id": "96df7cab",
   "metadata": {},
   "source": [
    "nombre_infected       804\n",
    "nombre_sain          2011\n",
    "nombre_exposed        354\n",
    "nombre_recovered    16831\n",
    "Name: 616, dtype: int64"
   ]
  },
  {
   "cell_type": "markdown",
   "id": "9e7f704b",
   "metadata": {},
   "source": [
    "nombre_infected       825\n",
    "nombre_sain          2028\n",
    "nombre_exposed        336\n",
    "nombre_recovered    16811\n",
    "Name: 617, dtype: int64"
   ]
  },
  {
   "cell_type": "markdown",
   "id": "dd9f1727",
   "metadata": {},
   "source": [
    "nombre_infected       814\n",
    "nombre_sain          2025\n",
    "nombre_exposed        367\n",
    "nombre_recovered    16794\n",
    "Name: 618, dtype: int64"
   ]
  },
  {
   "cell_type": "markdown",
   "id": "dce27d7d",
   "metadata": {},
   "source": [
    "nombre_infected       813\n",
    "nombre_sain          2002\n",
    "nombre_exposed        403\n",
    "nombre_recovered    16782\n",
    "Name: 619, dtype: int64"
   ]
  },
  {
   "cell_type": "markdown",
   "id": "43df5691",
   "metadata": {},
   "source": [
    "nombre_infected       822\n",
    "nombre_sain          2018\n",
    "nombre_exposed        396\n",
    "nombre_recovered    16764\n",
    "Name: 620, dtype: int64"
   ]
  },
  {
   "cell_type": "markdown",
   "id": "5c3245df",
   "metadata": {},
   "source": [
    "nombre_infected       817\n",
    "nombre_sain          2022\n",
    "nombre_exposed        402\n",
    "nombre_recovered    16759\n",
    "Name: 621, dtype: int64"
   ]
  },
  {
   "cell_type": "markdown",
   "id": "2dea774c",
   "metadata": {},
   "source": [
    "nombre_infected       839\n",
    "nombre_sain          2012\n",
    "nombre_exposed        393\n",
    "nombre_recovered    16756\n",
    "Name: 622, dtype: int64"
   ]
  },
  {
   "cell_type": "markdown",
   "id": "44e9bf46",
   "metadata": {},
   "source": [
    "nombre_infected       840\n",
    "nombre_sain          2027\n",
    "nombre_exposed        382\n",
    "nombre_recovered    16751\n",
    "Name: 623, dtype: int64"
   ]
  },
  {
   "cell_type": "markdown",
   "id": "b8a5241d",
   "metadata": {},
   "source": [
    "nombre_infected       834\n",
    "nombre_sain          2047\n",
    "nombre_exposed        372\n",
    "nombre_recovered    16747\n",
    "Name: 624, dtype: int64"
   ]
  },
  {
   "cell_type": "markdown",
   "id": "57b68749",
   "metadata": {},
   "source": [
    "nombre_infected       829\n",
    "nombre_sain          2056\n",
    "nombre_exposed        381\n",
    "nombre_recovered    16734\n",
    "Name: 625, dtype: int64"
   ]
  },
  {
   "cell_type": "markdown",
   "id": "704d7020",
   "metadata": {},
   "source": [
    "nombre_infected       821\n",
    "nombre_sain          2046\n",
    "nombre_exposed        385\n",
    "nombre_recovered    16748\n",
    "Name: 626, dtype: int64"
   ]
  },
  {
   "cell_type": "markdown",
   "id": "5c30c79e",
   "metadata": {},
   "source": [
    "nombre_infected       811\n",
    "nombre_sain          2048\n",
    "nombre_exposed        397\n",
    "nombre_recovered    16744\n",
    "Name: 627, dtype: int64"
   ]
  },
  {
   "cell_type": "markdown",
   "id": "bbb72d73",
   "metadata": {},
   "source": [
    "nombre_infected       818\n",
    "nombre_sain          2029\n",
    "nombre_exposed        407\n",
    "nombre_recovered    16746\n",
    "Name: 628, dtype: int64"
   ]
  },
  {
   "cell_type": "markdown",
   "id": "b135419d",
   "metadata": {},
   "source": [
    "nombre_infected       837\n",
    "nombre_sain          2045\n",
    "nombre_exposed        382\n",
    "nombre_recovered    16736\n",
    "Name: 629, dtype: int64"
   ]
  },
  {
   "cell_type": "markdown",
   "id": "c120f775",
   "metadata": {},
   "source": [
    "nombre_infected       854\n",
    "nombre_sain          2043\n",
    "nombre_exposed        374\n",
    "nombre_recovered    16729\n",
    "Name: 630, dtype: int64"
   ]
  },
  {
   "cell_type": "markdown",
   "id": "acca635c",
   "metadata": {},
   "source": [
    "nombre_infected       854\n",
    "nombre_sain          2063\n",
    "nombre_exposed        371\n",
    "nombre_recovered    16712\n",
    "Name: 631, dtype: int64"
   ]
  },
  {
   "cell_type": "markdown",
   "id": "65a493e9",
   "metadata": {},
   "source": [
    "nombre_infected       839\n",
    "nombre_sain          2061\n",
    "nombre_exposed        383\n",
    "nombre_recovered    16717\n",
    "Name: 632, dtype: int64"
   ]
  },
  {
   "cell_type": "markdown",
   "id": "1ba9fd97",
   "metadata": {},
   "source": [
    "nombre_infected       806\n",
    "nombre_sain          2069\n",
    "nombre_exposed        391\n",
    "nombre_recovered    16734\n",
    "Name: 633, dtype: int64"
   ]
  },
  {
   "cell_type": "markdown",
   "id": "539e16f6",
   "metadata": {},
   "source": [
    "nombre_infected       784\n",
    "nombre_sain          2076\n",
    "nombre_exposed        410\n",
    "nombre_recovered    16730\n",
    "Name: 634, dtype: int64"
   ]
  },
  {
   "cell_type": "markdown",
   "id": "381d4a13",
   "metadata": {},
   "source": [
    "nombre_infected       784\n",
    "nombre_sain          2124\n",
    "nombre_exposed        405\n",
    "nombre_recovered    16687\n",
    "Name: 635, dtype: int64"
   ]
  },
  {
   "cell_type": "markdown",
   "id": "2611a260",
   "metadata": {},
   "source": [
    "nombre_infected       789\n",
    "nombre_sain          2141\n",
    "nombre_exposed        420\n",
    "nombre_recovered    16650\n",
    "Name: 636, dtype: int64"
   ]
  },
  {
   "cell_type": "markdown",
   "id": "1a350cd9",
   "metadata": {},
   "source": [
    "nombre_infected       810\n",
    "nombre_sain          2170\n",
    "nombre_exposed        399\n",
    "nombre_recovered    16621\n",
    "Name: 637, dtype: int64"
   ]
  },
  {
   "cell_type": "markdown",
   "id": "68b24ed9",
   "metadata": {},
   "source": [
    "nombre_infected       804\n",
    "nombre_sain          2210\n",
    "nombre_exposed        388\n",
    "nombre_recovered    16598\n",
    "Name: 638, dtype: int64"
   ]
  },
  {
   "cell_type": "markdown",
   "id": "940a6d7f",
   "metadata": {},
   "source": [
    "nombre_infected       825\n",
    "nombre_sain          2219\n",
    "nombre_exposed        384\n",
    "nombre_recovered    16572\n",
    "Name: 639, dtype: int64"
   ]
  },
  {
   "cell_type": "markdown",
   "id": "a8eb7d01",
   "metadata": {},
   "source": [
    "nombre_infected       813\n",
    "nombre_sain          2225\n",
    "nombre_exposed        409\n",
    "nombre_recovered    16553\n",
    "Name: 640, dtype: int64"
   ]
  },
  {
   "cell_type": "markdown",
   "id": "7966889b",
   "metadata": {},
   "source": [
    "nombre_infected       818\n",
    "nombre_sain          2240\n",
    "nombre_exposed        412\n",
    "nombre_recovered    16530\n",
    "Name: 641, dtype: int64"
   ]
  },
  {
   "cell_type": "markdown",
   "id": "e67060a9",
   "metadata": {},
   "source": [
    "nombre_infected       829\n",
    "nombre_sain          2267\n",
    "nombre_exposed        400\n",
    "nombre_recovered    16504\n",
    "Name: 642, dtype: int64"
   ]
  },
  {
   "cell_type": "markdown",
   "id": "7d0a11f5",
   "metadata": {},
   "source": [
    "nombre_infected       813\n",
    "nombre_sain          2283\n",
    "nombre_exposed        409\n",
    "nombre_recovered    16495\n",
    "Name: 643, dtype: int64"
   ]
  },
  {
   "cell_type": "markdown",
   "id": "0c19701e",
   "metadata": {},
   "source": [
    "nombre_infected       817\n",
    "nombre_sain          2305\n",
    "nombre_exposed        413\n",
    "nombre_recovered    16465\n",
    "Name: 644, dtype: int64"
   ]
  },
  {
   "cell_type": "markdown",
   "id": "c026db8d",
   "metadata": {},
   "source": [
    "nombre_infected       833\n",
    "nombre_sain          2313\n",
    "nombre_exposed        420\n",
    "nombre_recovered    16434\n",
    "Name: 645, dtype: int64"
   ]
  },
  {
   "cell_type": "markdown",
   "id": "55ab485d",
   "metadata": {},
   "source": [
    "nombre_infected       840\n",
    "nombre_sain          2301\n",
    "nombre_exposed        432\n",
    "nombre_recovered    16427\n",
    "Name: 646, dtype: int64"
   ]
  },
  {
   "cell_type": "markdown",
   "id": "40eacda0",
   "metadata": {},
   "source": [
    "nombre_infected       842\n",
    "nombre_sain          2314\n",
    "nombre_exposed        422\n",
    "nombre_recovered    16422\n",
    "Name: 647, dtype: int64"
   ]
  },
  {
   "cell_type": "markdown",
   "id": "e2e1307f",
   "metadata": {},
   "source": [
    "nombre_infected       850\n",
    "nombre_sain          2310\n",
    "nombre_exposed        449\n",
    "nombre_recovered    16391\n",
    "Name: 648, dtype: int64"
   ]
  },
  {
   "cell_type": "markdown",
   "id": "64784fd9",
   "metadata": {},
   "source": [
    "nombre_infected       848\n",
    "nombre_sain          2288\n",
    "nombre_exposed        488\n",
    "nombre_recovered    16376\n",
    "Name: 649, dtype: int64"
   ]
  },
  {
   "cell_type": "markdown",
   "id": "c5e737d3",
   "metadata": {},
   "source": [
    "nombre_infected       856\n",
    "nombre_sain          2287\n",
    "nombre_exposed        486\n",
    "nombre_recovered    16371\n",
    "Name: 650, dtype: int64"
   ]
  },
  {
   "cell_type": "markdown",
   "id": "1ecc3cb4",
   "metadata": {},
   "source": [
    "nombre_infected       877\n",
    "nombre_sain          2286\n",
    "nombre_exposed        467\n",
    "nombre_recovered    16370\n",
    "Name: 651, dtype: int64"
   ]
  },
  {
   "cell_type": "markdown",
   "id": "7e8c69aa",
   "metadata": {},
   "source": [
    "nombre_infected       906\n",
    "nombre_sain          2274\n",
    "nombre_exposed        483\n",
    "nombre_recovered    16337\n",
    "Name: 652, dtype: int64"
   ]
  },
  {
   "cell_type": "markdown",
   "id": "b559ad56",
   "metadata": {},
   "source": [
    "nombre_infected       919\n",
    "nombre_sain          2282\n",
    "nombre_exposed        467\n",
    "nombre_recovered    16332\n",
    "Name: 653, dtype: int64"
   ]
  },
  {
   "cell_type": "markdown",
   "id": "778ab0f6",
   "metadata": {},
   "source": [
    "nombre_infected       938\n",
    "nombre_sain          2263\n",
    "nombre_exposed        472\n",
    "nombre_recovered    16327\n",
    "Name: 654, dtype: int64"
   ]
  },
  {
   "cell_type": "markdown",
   "id": "ae9a6425",
   "metadata": {},
   "source": [
    "nombre_infected       953\n",
    "nombre_sain          2267\n",
    "nombre_exposed        460\n",
    "nombre_recovered    16320\n",
    "Name: 655, dtype: int64"
   ]
  },
  {
   "cell_type": "markdown",
   "id": "30442a1d",
   "metadata": {},
   "source": [
    "nombre_infected       930\n",
    "nombre_sain          2251\n",
    "nombre_exposed        482\n",
    "nombre_recovered    16337\n",
    "Name: 656, dtype: int64"
   ]
  },
  {
   "cell_type": "markdown",
   "id": "f75ac505",
   "metadata": {},
   "source": [
    "nombre_infected       963\n",
    "nombre_sain          2270\n",
    "nombre_exposed        455\n",
    "nombre_recovered    16312\n",
    "Name: 657, dtype: int64"
   ]
  },
  {
   "cell_type": "markdown",
   "id": "29545cb8",
   "metadata": {},
   "source": [
    "nombre_infected       974\n",
    "nombre_sain          2283\n",
    "nombre_exposed        470\n",
    "nombre_recovered    16273\n",
    "Name: 658, dtype: int64"
   ]
  },
  {
   "cell_type": "markdown",
   "id": "f091323f",
   "metadata": {},
   "source": [
    "nombre_infected       970\n",
    "nombre_sain          2275\n",
    "nombre_exposed        476\n",
    "nombre_recovered    16279\n",
    "Name: 659, dtype: int64"
   ]
  },
  {
   "cell_type": "markdown",
   "id": "6388533b",
   "metadata": {},
   "source": [
    "nombre_infected       998\n",
    "nombre_sain          2287\n",
    "nombre_exposed        460\n",
    "nombre_recovered    16255\n",
    "Name: 660, dtype: int64"
   ]
  },
  {
   "cell_type": "markdown",
   "id": "263e40a7",
   "metadata": {},
   "source": [
    "nombre_infected       977\n",
    "nombre_sain          2264\n",
    "nombre_exposed        495\n",
    "nombre_recovered    16264\n",
    "Name: 661, dtype: int64"
   ]
  },
  {
   "cell_type": "markdown",
   "id": "141c6769",
   "metadata": {},
   "source": [
    "nombre_infected       984\n",
    "nombre_sain          2271\n",
    "nombre_exposed        498\n",
    "nombre_recovered    16247\n",
    "Name: 662, dtype: int64"
   ]
  },
  {
   "cell_type": "markdown",
   "id": "25ef8a12",
   "metadata": {},
   "source": [
    "nombre_infected       988\n",
    "nombre_sain          2288\n",
    "nombre_exposed        505\n",
    "nombre_recovered    16219\n",
    "Name: 663, dtype: int64"
   ]
  },
  {
   "cell_type": "markdown",
   "id": "cbf4a0c6",
   "metadata": {},
   "source": [
    "nombre_infected       989\n",
    "nombre_sain          2258\n",
    "nombre_exposed        518\n",
    "nombre_recovered    16235\n",
    "Name: 664, dtype: int64"
   ]
  },
  {
   "cell_type": "markdown",
   "id": "e17acd03",
   "metadata": {},
   "source": [
    "nombre_infected       997\n",
    "nombre_sain          2222\n",
    "nombre_exposed        525\n",
    "nombre_recovered    16256\n",
    "Name: 665, dtype: int64"
   ]
  },
  {
   "cell_type": "markdown",
   "id": "7804050f",
   "metadata": {},
   "source": [
    "nombre_infected      1008\n",
    "nombre_sain          2191\n",
    "nombre_exposed        538\n",
    "nombre_recovered    16263\n",
    "Name: 666, dtype: int64"
   ]
  },
  {
   "cell_type": "markdown",
   "id": "8f3e7537",
   "metadata": {},
   "source": [
    "nombre_infected      1009\n",
    "nombre_sain          2177\n",
    "nombre_exposed        537\n",
    "nombre_recovered    16277\n",
    "Name: 667, dtype: int64"
   ]
  },
  {
   "cell_type": "markdown",
   "id": "d9b7fc27",
   "metadata": {},
   "source": [
    "nombre_infected      1029\n",
    "nombre_sain          2149\n",
    "nombre_exposed        516\n",
    "nombre_recovered    16306\n",
    "Name: 668, dtype: int64"
   ]
  },
  {
   "cell_type": "markdown",
   "id": "679753ee",
   "metadata": {},
   "source": [
    "nombre_infected      1043\n",
    "nombre_sain          2145\n",
    "nombre_exposed        515\n",
    "nombre_recovered    16297\n",
    "Name: 669, dtype: int64"
   ]
  },
  {
   "cell_type": "markdown",
   "id": "0f2c2c2c",
   "metadata": {},
   "source": [
    "nombre_infected      1027\n",
    "nombre_sain          2120\n",
    "nombre_exposed        540\n",
    "nombre_recovered    16313\n",
    "Name: 670, dtype: int64"
   ]
  },
  {
   "cell_type": "markdown",
   "id": "b69533bb",
   "metadata": {},
   "source": [
    "nombre_infected      1017\n",
    "nombre_sain          2096\n",
    "nombre_exposed        526\n",
    "nombre_recovered    16361\n",
    "Name: 671, dtype: int64"
   ]
  },
  {
   "cell_type": "markdown",
   "id": "292d145b",
   "metadata": {},
   "source": [
    "nombre_infected      1042\n",
    "nombre_sain          2081\n",
    "nombre_exposed        519\n",
    "nombre_recovered    16358\n",
    "Name: 672, dtype: int64"
   ]
  },
  {
   "cell_type": "markdown",
   "id": "d07c9411",
   "metadata": {},
   "source": [
    "nombre_infected      1062\n",
    "nombre_sain          2048\n",
    "nombre_exposed        524\n",
    "nombre_recovered    16366\n",
    "Name: 673, dtype: int64"
   ]
  },
  {
   "cell_type": "markdown",
   "id": "fb98974a",
   "metadata": {},
   "source": [
    "nombre_infected      1056\n",
    "nombre_sain          2008\n",
    "nombre_exposed        525\n",
    "nombre_recovered    16411\n",
    "Name: 674, dtype: int64"
   ]
  },
  {
   "cell_type": "markdown",
   "id": "ba596f85",
   "metadata": {},
   "source": [
    "nombre_infected      1044\n",
    "nombre_sain          1993\n",
    "nombre_exposed        528\n",
    "nombre_recovered    16435\n",
    "Name: 675, dtype: int64"
   ]
  },
  {
   "cell_type": "markdown",
   "id": "d4454478",
   "metadata": {},
   "source": [
    "nombre_infected      1028\n",
    "nombre_sain          1954\n",
    "nombre_exposed        556\n",
    "nombre_recovered    16462\n",
    "Name: 676, dtype: int64"
   ]
  },
  {
   "cell_type": "markdown",
   "id": "a30c9975",
   "metadata": {},
   "source": [
    "nombre_infected      1019\n",
    "nombre_sain          1959\n",
    "nombre_exposed        537\n",
    "nombre_recovered    16485\n",
    "Name: 677, dtype: int64"
   ]
  },
  {
   "cell_type": "markdown",
   "id": "159df21e",
   "metadata": {},
   "source": [
    "nombre_infected      1030\n",
    "nombre_sain          1954\n",
    "nombre_exposed        527\n",
    "nombre_recovered    16489\n",
    "Name: 678, dtype: int64"
   ]
  },
  {
   "cell_type": "markdown",
   "id": "ba3cc9ff",
   "metadata": {},
   "source": [
    "nombre_infected      1016\n",
    "nombre_sain          1961\n",
    "nombre_exposed        510\n",
    "nombre_recovered    16513\n",
    "Name: 679, dtype: int64"
   ]
  },
  {
   "cell_type": "markdown",
   "id": "13708474",
   "metadata": {},
   "source": [
    "nombre_infected      1042\n",
    "nombre_sain          1954\n",
    "nombre_exposed        492\n",
    "nombre_recovered    16512\n",
    "Name: 680, dtype: int64"
   ]
  },
  {
   "cell_type": "markdown",
   "id": "3c5ff027",
   "metadata": {},
   "source": [
    "nombre_infected      1041\n",
    "nombre_sain          1940\n",
    "nombre_exposed        477\n",
    "nombre_recovered    16542\n",
    "Name: 681, dtype: int64"
   ]
  },
  {
   "cell_type": "markdown",
   "id": "77f2dfa6",
   "metadata": {},
   "source": [
    "nombre_infected      1045\n",
    "nombre_sain          1918\n",
    "nombre_exposed        478\n",
    "nombre_recovered    16559\n",
    "Name: 682, dtype: int64"
   ]
  },
  {
   "cell_type": "markdown",
   "id": "98ba4d2e",
   "metadata": {},
   "source": [
    "nombre_infected      1040\n",
    "nombre_sain          1904\n",
    "nombre_exposed        463\n",
    "nombre_recovered    16593\n",
    "Name: 683, dtype: int64"
   ]
  },
  {
   "cell_type": "markdown",
   "id": "93535446",
   "metadata": {},
   "source": [
    "nombre_infected      1054\n",
    "nombre_sain          1884\n",
    "nombre_exposed        456\n",
    "nombre_recovered    16606\n",
    "Name: 684, dtype: int64"
   ]
  },
  {
   "cell_type": "markdown",
   "id": "52ccd3cd",
   "metadata": {},
   "source": [
    "nombre_infected      1028\n",
    "nombre_sain          1877\n",
    "nombre_exposed        464\n",
    "nombre_recovered    16631\n",
    "Name: 685, dtype: int64"
   ]
  },
  {
   "cell_type": "markdown",
   "id": "ad6bcf50",
   "metadata": {},
   "source": [
    "nombre_infected      1007\n",
    "nombre_sain          1904\n",
    "nombre_exposed        448\n",
    "nombre_recovered    16641\n",
    "Name: 686, dtype: int64"
   ]
  },
  {
   "cell_type": "markdown",
   "id": "e2807c90",
   "metadata": {},
   "source": [
    "nombre_infected       964\n",
    "nombre_sain          1883\n",
    "nombre_exposed        475\n",
    "nombre_recovered    16678\n",
    "Name: 687, dtype: int64"
   ]
  },
  {
   "cell_type": "markdown",
   "id": "4e2d2cb7",
   "metadata": {},
   "source": [
    "nombre_infected       934\n",
    "nombre_sain          1899\n",
    "nombre_exposed        479\n",
    "nombre_recovered    16688\n",
    "Name: 688, dtype: int64"
   ]
  },
  {
   "cell_type": "markdown",
   "id": "112cb117",
   "metadata": {},
   "source": [
    "nombre_infected       942\n",
    "nombre_sain          1912\n",
    "nombre_exposed        465\n",
    "nombre_recovered    16681\n",
    "Name: 689, dtype: int64"
   ]
  },
  {
   "cell_type": "markdown",
   "id": "cda32405",
   "metadata": {},
   "source": [
    "nombre_infected       942\n",
    "nombre_sain          1918\n",
    "nombre_exposed        449\n",
    "nombre_recovered    16691\n",
    "Name: 690, dtype: int64"
   ]
  },
  {
   "cell_type": "markdown",
   "id": "c57309be",
   "metadata": {},
   "source": [
    "nombre_infected       937\n",
    "nombre_sain          1925\n",
    "nombre_exposed        433\n",
    "nombre_recovered    16705\n",
    "Name: 691, dtype: int64"
   ]
  },
  {
   "cell_type": "markdown",
   "id": "877c7bed",
   "metadata": {},
   "source": [
    "nombre_infected       935\n",
    "nombre_sain          1934\n",
    "nombre_exposed        428\n",
    "nombre_recovered    16703\n",
    "Name: 692, dtype: int64"
   ]
  },
  {
   "cell_type": "markdown",
   "id": "f3d916f4",
   "metadata": {},
   "source": [
    "nombre_infected       928\n",
    "nombre_sain          1951\n",
    "nombre_exposed        424\n",
    "nombre_recovered    16697\n",
    "Name: 693, dtype: int64"
   ]
  },
  {
   "cell_type": "markdown",
   "id": "c1c823b1",
   "metadata": {},
   "source": [
    "nombre_infected       941\n",
    "nombre_sain          1963\n",
    "nombre_exposed        406\n",
    "nombre_recovered    16690\n",
    "Name: 694, dtype: int64"
   ]
  },
  {
   "cell_type": "markdown",
   "id": "6f5834c2",
   "metadata": {},
   "source": [
    "nombre_infected       897\n",
    "nombre_sain          1980\n",
    "nombre_exposed        420\n",
    "nombre_recovered    16703\n",
    "Name: 695, dtype: int64"
   ]
  },
  {
   "cell_type": "markdown",
   "id": "f0ab1e34",
   "metadata": {},
   "source": [
    "nombre_infected       896\n",
    "nombre_sain          1988\n",
    "nombre_exposed        409\n",
    "nombre_recovered    16707\n",
    "Name: 696, dtype: int64"
   ]
  },
  {
   "cell_type": "markdown",
   "id": "da4ea55d",
   "metadata": {},
   "source": [
    "nombre_infected       896\n",
    "nombre_sain          2006\n",
    "nombre_exposed        413\n",
    "nombre_recovered    16685\n",
    "Name: 697, dtype: int64"
   ]
  },
  {
   "cell_type": "markdown",
   "id": "03dde8fe",
   "metadata": {},
   "source": [
    "nombre_infected       885\n",
    "nombre_sain          2029\n",
    "nombre_exposed        410\n",
    "nombre_recovered    16676\n",
    "Name: 698, dtype: int64"
   ]
  },
  {
   "cell_type": "markdown",
   "id": "c80c836b",
   "metadata": {},
   "source": [
    "nombre_infected       885\n",
    "nombre_sain          2055\n",
    "nombre_exposed        402\n",
    "nombre_recovered    16658\n",
    "Name: 699, dtype: int64"
   ]
  },
  {
   "cell_type": "markdown",
   "id": "910012f5",
   "metadata": {},
   "source": [
    "nombre_infected       894\n",
    "nombre_sain          2053\n",
    "nombre_exposed        410\n",
    "nombre_recovered    16643\n",
    "Name: 700, dtype: int64"
   ]
  },
  {
   "cell_type": "markdown",
   "id": "f50bdeee",
   "metadata": {},
   "source": [
    "nombre_infected       888\n",
    "nombre_sain          2077\n",
    "nombre_exposed        416\n",
    "nombre_recovered    16619\n",
    "Name: 701, dtype: int64"
   ]
  },
  {
   "cell_type": "markdown",
   "id": "62540f30",
   "metadata": {},
   "source": [
    "nombre_infected       895\n",
    "nombre_sain          2084\n",
    "nombre_exposed        418\n",
    "nombre_recovered    16603\n",
    "Name: 702, dtype: int64"
   ]
  },
  {
   "cell_type": "markdown",
   "id": "61846734",
   "metadata": {},
   "source": [
    "nombre_infected       896\n",
    "nombre_sain          2074\n",
    "nombre_exposed        410\n",
    "nombre_recovered    16620\n",
    "Name: 703, dtype: int64"
   ]
  },
  {
   "cell_type": "markdown",
   "id": "a26bf7fd",
   "metadata": {},
   "source": [
    "nombre_infected       919\n",
    "nombre_sain          2074\n",
    "nombre_exposed        405\n",
    "nombre_recovered    16602\n",
    "Name: 704, dtype: int64"
   ]
  },
  {
   "cell_type": "markdown",
   "id": "6e8b4243",
   "metadata": {},
   "source": [
    "nombre_infected       913\n",
    "nombre_sain          2073\n",
    "nombre_exposed        422\n",
    "nombre_recovered    16592\n",
    "Name: 705, dtype: int64"
   ]
  },
  {
   "cell_type": "markdown",
   "id": "fac049cd",
   "metadata": {},
   "source": [
    "nombre_infected       915\n",
    "nombre_sain          2073\n",
    "nombre_exposed        408\n",
    "nombre_recovered    16604\n",
    "Name: 706, dtype: int64"
   ]
  },
  {
   "cell_type": "markdown",
   "id": "86126c22",
   "metadata": {},
   "source": [
    "nombre_infected       925\n",
    "nombre_sain          2086\n",
    "nombre_exposed        426\n",
    "nombre_recovered    16563\n",
    "Name: 707, dtype: int64"
   ]
  },
  {
   "cell_type": "markdown",
   "id": "fdd61673",
   "metadata": {},
   "source": [
    "nombre_infected       902\n",
    "nombre_sain          2105\n",
    "nombre_exposed        427\n",
    "nombre_recovered    16566\n",
    "Name: 708, dtype: int64"
   ]
  },
  {
   "cell_type": "markdown",
   "id": "d300bcc9",
   "metadata": {},
   "source": [
    "nombre_infected       907\n",
    "nombre_sain          2114\n",
    "nombre_exposed        411\n",
    "nombre_recovered    16568\n",
    "Name: 709, dtype: int64"
   ]
  },
  {
   "cell_type": "markdown",
   "id": "3a89b4c1",
   "metadata": {},
   "source": [
    "nombre_infected       928\n",
    "nombre_sain          2113\n",
    "nombre_exposed        416\n",
    "nombre_recovered    16543\n",
    "Name: 710, dtype: int64"
   ]
  },
  {
   "cell_type": "markdown",
   "id": "27a77d76",
   "metadata": {},
   "source": [
    "nombre_infected       932\n",
    "nombre_sain          2129\n",
    "nombre_exposed        407\n",
    "nombre_recovered    16532\n",
    "Name: 711, dtype: int64"
   ]
  },
  {
   "cell_type": "markdown",
   "id": "5674f407",
   "metadata": {},
   "source": [
    "nombre_infected       921\n",
    "nombre_sain          2147\n",
    "nombre_exposed        432\n",
    "nombre_recovered    16500\n",
    "Name: 712, dtype: int64"
   ]
  },
  {
   "cell_type": "markdown",
   "id": "8982a57f",
   "metadata": {},
   "source": [
    "nombre_infected       925\n",
    "nombre_sain          2164\n",
    "nombre_exposed        431\n",
    "nombre_recovered    16480\n",
    "Name: 713, dtype: int64"
   ]
  },
  {
   "cell_type": "markdown",
   "id": "06e4a980",
   "metadata": {},
   "source": [
    "nombre_infected       916\n",
    "nombre_sain          2160\n",
    "nombre_exposed        445\n",
    "nombre_recovered    16479\n",
    "Name: 714, dtype: int64"
   ]
  },
  {
   "cell_type": "markdown",
   "id": "bb55fd4c",
   "metadata": {},
   "source": [
    "nombre_infected       940\n",
    "nombre_sain          2160\n",
    "nombre_exposed        456\n",
    "nombre_recovered    16444\n",
    "Name: 715, dtype: int64"
   ]
  },
  {
   "cell_type": "markdown",
   "id": "f80715a5",
   "metadata": {},
   "source": [
    "nombre_infected       962\n",
    "nombre_sain          2160\n",
    "nombre_exposed        448\n",
    "nombre_recovered    16430\n",
    "Name: 716, dtype: int64"
   ]
  },
  {
   "cell_type": "markdown",
   "id": "5ed32694",
   "metadata": {},
   "source": [
    "nombre_infected       971\n",
    "nombre_sain          2162\n",
    "nombre_exposed        458\n",
    "nombre_recovered    16409\n",
    "Name: 717, dtype: int64"
   ]
  },
  {
   "cell_type": "markdown",
   "id": "6443832c",
   "metadata": {},
   "source": [
    "nombre_infected      1008\n",
    "nombre_sain          2146\n",
    "nombre_exposed        451\n",
    "nombre_recovered    16395\n",
    "Name: 718, dtype: int64"
   ]
  },
  {
   "cell_type": "markdown",
   "id": "ef83be84",
   "metadata": {},
   "source": [
    "nombre_infected      1016\n",
    "nombre_sain          2136\n",
    "nombre_exposed        458\n",
    "nombre_recovered    16390\n",
    "Name: 719, dtype: int64"
   ]
  },
  {
   "cell_type": "markdown",
   "id": "72ae0403",
   "metadata": {},
   "source": [
    "nombre_infected      1014\n",
    "nombre_sain          2110\n",
    "nombre_exposed        487\n",
    "nombre_recovered    16389\n",
    "Name: 720, dtype: int64"
   ]
  },
  {
   "cell_type": "markdown",
   "id": "a780c860",
   "metadata": {},
   "source": [
    "nombre_infected      1007\n",
    "nombre_sain          2113\n",
    "nombre_exposed        496\n",
    "nombre_recovered    16384\n",
    "Name: 721, dtype: int64"
   ]
  },
  {
   "cell_type": "markdown",
   "id": "54208fdf",
   "metadata": {},
   "source": [
    "nombre_infected      1006\n",
    "nombre_sain          2083\n",
    "nombre_exposed        524\n",
    "nombre_recovered    16387\n",
    "Name: 722, dtype: int64"
   ]
  },
  {
   "cell_type": "markdown",
   "id": "88bdb075",
   "metadata": {},
   "source": [
    "nombre_infected      1029\n",
    "nombre_sain          2097\n",
    "nombre_exposed        508\n",
    "nombre_recovered    16366\n",
    "Name: 723, dtype: int64"
   ]
  },
  {
   "cell_type": "markdown",
   "id": "74d5fea8",
   "metadata": {},
   "source": [
    "nombre_infected      1065\n",
    "nombre_sain          2039\n",
    "nombre_exposed        518\n",
    "nombre_recovered    16378\n",
    "Name: 724, dtype: int64"
   ]
  },
  {
   "cell_type": "markdown",
   "id": "feda4168",
   "metadata": {},
   "source": [
    "nombre_infected      1075\n",
    "nombre_sain          2032\n",
    "nombre_exposed        523\n",
    "nombre_recovered    16370\n",
    "Name: 725, dtype: int64"
   ]
  },
  {
   "cell_type": "markdown",
   "id": "3934aac7",
   "metadata": {},
   "source": [
    "nombre_infected      1122\n",
    "nombre_sain          2016\n",
    "nombre_exposed        493\n",
    "nombre_recovered    16369\n",
    "Name: 726, dtype: int64"
   ]
  },
  {
   "cell_type": "markdown",
   "id": "f5ca3ee2",
   "metadata": {},
   "source": [
    "nombre_infected      1130\n",
    "nombre_sain          1957\n",
    "nombre_exposed        517\n",
    "nombre_recovered    16396\n",
    "Name: 727, dtype: int64"
   ]
  },
  {
   "cell_type": "markdown",
   "id": "8b9110fc",
   "metadata": {},
   "source": [
    "nombre_infected      1122\n",
    "nombre_sain          1938\n",
    "nombre_exposed        520\n",
    "nombre_recovered    16420\n",
    "Name: 728, dtype: int64"
   ]
  },
  {
   "cell_type": "markdown",
   "id": "5dfe7c6a",
   "metadata": {},
   "source": [
    "nombre_infected      1112\n",
    "nombre_sain          1936\n",
    "nombre_exposed        521\n",
    "nombre_recovered    16431\n",
    "Name: 729, dtype: int64"
   ]
  },
  {
   "cell_type": "markdown",
   "id": "dabc602f",
   "metadata": {},
   "source": [
    "nombre_infected      1123\n",
    "nombre_sain          1921\n",
    "nombre_exposed        497\n",
    "nombre_recovered    16459\n",
    "Name: 730, dtype: int64"
   ]
  }
 ],
 "metadata": {},
 "nbformat": 4,
 "nbformat_minor": 5
}
